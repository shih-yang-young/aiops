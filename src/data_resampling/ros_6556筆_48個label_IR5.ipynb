{
 "cells": [
  {
   "cell_type": "code",
   "execution_count": 1,
   "id": "f22f4841-9a9d-4a63-b896-560594d666d8",
   "metadata": {},
   "outputs": [
    {
     "data": {
      "text/html": [
       "<div>\n",
       "<style scoped>\n",
       "    .dataframe tbody tr th:only-of-type {\n",
       "        vertical-align: middle;\n",
       "    }\n",
       "\n",
       "    .dataframe tbody tr th {\n",
       "        vertical-align: top;\n",
       "    }\n",
       "\n",
       "    .dataframe thead th {\n",
       "        text-align: right;\n",
       "    }\n",
       "</style>\n",
       "<table border=\"1\" class=\"dataframe\">\n",
       "  <thead>\n",
       "    <tr style=\"text-align: right;\">\n",
       "      <th></th>\n",
       "      <th>Inbound Message</th>\n",
       "      <th>Label</th>\n",
       "    </tr>\n",
       "  </thead>\n",
       "  <tbody>\n",
       "    <tr>\n",
       "      <th>0</th>\n",
       "      <td>login issue verified user details employee man...</td>\n",
       "      <td>0</td>\n",
       "    </tr>\n",
       "    <tr>\n",
       "      <th>1</th>\n",
       "      <td>outlook hello team meetings skype meetings etc...</td>\n",
       "      <td>0</td>\n",
       "    </tr>\n",
       "    <tr>\n",
       "      <th>2</th>\n",
       "      <td>cant log vpn cannot log vpn best</td>\n",
       "      <td>0</td>\n",
       "    </tr>\n",
       "    <tr>\n",
       "      <th>3</th>\n",
       "      <td>unable access tool page unable access tool page</td>\n",
       "      <td>0</td>\n",
       "    </tr>\n",
       "    <tr>\n",
       "      <th>4</th>\n",
       "      <td>skype error skype error</td>\n",
       "      <td>0</td>\n",
       "    </tr>\n",
       "    <tr>\n",
       "      <th>...</th>\n",
       "      <td>...</td>\n",
       "      <td>...</td>\n",
       "    </tr>\n",
       "    <tr>\n",
       "      <th>6551</th>\n",
       "      <td>emails coming mail good afternoon receiving em...</td>\n",
       "      <td>22</td>\n",
       "    </tr>\n",
       "    <tr>\n",
       "      <th>6552</th>\n",
       "      <td>telephony software issue telephony software issue</td>\n",
       "      <td>0</td>\n",
       "    </tr>\n",
       "    <tr>\n",
       "      <th>6553</th>\n",
       "      <td>vip windows password reset tifpdchb pedxruyf v...</td>\n",
       "      <td>0</td>\n",
       "    </tr>\n",
       "    <tr>\n",
       "      <th>6554</th>\n",
       "      <td>machine est funcionando unable access machine ...</td>\n",
       "      <td>42</td>\n",
       "    </tr>\n",
       "    <tr>\n",
       "      <th>6555</th>\n",
       "      <td>mehreren lassen sich verschiedene prgramdntyme...</td>\n",
       "      <td>47</td>\n",
       "    </tr>\n",
       "  </tbody>\n",
       "</table>\n",
       "<p>6556 rows × 2 columns</p>\n",
       "</div>"
      ],
      "text/plain": [
       "                                        Inbound Message  Label\n",
       "0     login issue verified user details employee man...      0\n",
       "1     outlook hello team meetings skype meetings etc...      0\n",
       "2                      cant log vpn cannot log vpn best      0\n",
       "3       unable access tool page unable access tool page      0\n",
       "4                               skype error skype error      0\n",
       "...                                                 ...    ...\n",
       "6551  emails coming mail good afternoon receiving em...     22\n",
       "6552  telephony software issue telephony software issue      0\n",
       "6553  vip windows password reset tifpdchb pedxruyf v...      0\n",
       "6554  machine est funcionando unable access machine ...     42\n",
       "6555  mehreren lassen sich verschiedene prgramdntyme...     47\n",
       "\n",
       "[6556 rows x 2 columns]"
      ]
     },
     "execution_count": 1,
     "metadata": {},
     "output_type": "execute_result"
    }
   ],
   "source": [
    "import pandas as pd\n",
    "data_path = \"../../data/6556_48_label.csv\"\n",
    "df = pd.read_csv(data_path)\n",
    "# df_label_0 = df[df[\"Label\"] == 0]\n",
    "# df_label_0_to_drop = df_label_0.sample(n=3000, random_state=42)\n",
    "# df = df.drop(df_label_0_to_drop.index)\n",
    "df"
   ]
  },
  {
   "cell_type": "code",
   "execution_count": 2,
   "id": "bf737873-4f1c-4588-913d-8f06b2777b20",
   "metadata": {},
   "outputs": [
    {
     "name": "stderr",
     "output_type": "stream",
     "text": [
      "c:\\Users\\user\\AppData\\Local\\Programs\\Python\\Python310\\lib\\site-packages\\tqdm\\auto.py:21: TqdmWarning: IProgress not found. Please update jupyter and ipywidgets. See https://ipywidgets.readthedocs.io/en/stable/user_install.html\n",
      "  from .autonotebook import tqdm as notebook_tqdm\n"
     ]
    }
   ],
   "source": [
    "import sys\n",
    "import os\n",
    "sys.path.append(os.path.abspath('../ml_lib'))\n",
    "\n",
    "from config import *\n",
    "from experiment import run_kfold_experiment"
   ]
  },
  {
   "cell_type": "code",
   "execution_count": 3,
   "id": "a12b2613-aa9d-41c0-8f62-72210eaf8d7f",
   "metadata": {},
   "outputs": [],
   "source": [
    "messages, labels = df['Inbound Message'].tolist(), df['Label'].tolist()"
   ]
  },
  {
   "cell_type": "code",
   "execution_count": 4,
   "id": "38d4729f-f867-4cea-89f9-31f67e5ecced",
   "metadata": {},
   "outputs": [
    {
     "name": "stdout",
     "output_type": "stream",
     "text": [
      "▶ Running: bert-base-uncased + plain + ros\n",
      "tokenizer is bert-base-uncased\n",
      "Using device: cuda\n",
      "CUDA Available: True\n",
      "CUDA Device: NVIDIA GeForce RTX 5070 Ti\n",
      "Current GPU Memory Allocated: 0.00 GB\n",
      "Current GPU Memory Cached: 0.00 GB\n",
      "\n",
      "[Fold 1]\n",
      "Label distribution after resampling:\n",
      "  label 0: 2000\n",
      "  label 1: 200\n",
      "  label 2: 200\n",
      "  label 3: 200\n",
      "  label 4: 200\n",
      "  label 5: 200\n",
      "  label 6: 200\n",
      "  label 7: 200\n",
      "  label 8: 200\n",
      "  label 9: 200\n",
      "  label 10: 200\n",
      "  label 11: 200\n",
      "  label 12: 200\n",
      "  label 13: 200\n",
      "  label 14: 200\n",
      "  label 15: 200\n",
      "  label 16: 200\n",
      "  label 17: 200\n",
      "  label 18: 200\n",
      "  label 19: 200\n",
      "  label 20: 200\n",
      "  label 21: 200\n",
      "  label 22: 200\n",
      "  label 23: 200\n",
      "  label 24: 200\n",
      "  label 25: 200\n",
      "  label 26: 200\n",
      "  label 27: 200\n",
      "  label 28: 200\n",
      "  label 29: 200\n",
      "  label 30: 200\n",
      "  label 31: 200\n",
      "  label 32: 200\n",
      "  label 33: 200\n",
      "  label 34: 200\n",
      "  label 35: 200\n",
      "  label 36: 200\n",
      "  label 37: 200\n",
      "  label 38: 200\n",
      "  label 39: 200\n",
      "  label 40: 200\n",
      "  label 41: 200\n",
      "  label 42: 200\n",
      "  label 43: 200\n",
      "  label 44: 200\n",
      "  label 45: 242\n",
      "  label 46: 200\n",
      "  label 47: 200\n",
      "model is bert-base-uncased\n"
     ]
    },
    {
     "name": "stderr",
     "output_type": "stream",
     "text": [
      "Some weights of BertForSequenceClassification were not initialized from the model checkpoint at bert-base-uncased and are newly initialized: ['classifier.bias', 'classifier.weight']\n",
      "You should probably TRAIN this model on a down-stream task to be able to use it for predictions and inference.\n"
     ]
    },
    {
     "name": "stdout",
     "output_type": "stream",
     "text": [
      "Epoch 1/20\n"
     ]
    },
    {
     "name": "stderr",
     "output_type": "stream",
     "text": [
      "100%|██████████| 716/716 [01:00<00:00, 11.85it/s]\n"
     ]
    },
    {
     "name": "stdout",
     "output_type": "stream",
     "text": [
      "{'val_loss': 1.6355266491087472, 'val_accuracy': 0.5708841463414634, 'precision': 0.6103324011815452, 'recall': 0.5708841463414634, 'f1-score': 0.5638245180584286, 'macro_f1-score': 0.3627694432537673, 'balanced_accuracy': 0.4225194270255253, 'mcc': 0.4437836573235381, 'train_loss': 2.118687936547082}\n",
      "Epoch 2/20\n"
     ]
    },
    {
     "name": "stderr",
     "output_type": "stream",
     "text": [
      "100%|██████████| 716/716 [01:00<00:00, 11.89it/s]\n"
     ]
    },
    {
     "name": "stdout",
     "output_type": "stream",
     "text": [
      "{'val_loss': 1.5240326801814683, 'val_accuracy': 0.6371951219512195, 'precision': 0.6410982592662318, 'recall': 0.6371951219512195, 'f1-score': 0.6091934432884686, 'macro_f1-score': 0.3842450301115787, 'balanced_accuracy': 0.3616858163243702, 'mcc': 0.49945778642100563, 'train_loss': 0.5978822372073318}\n",
      "Epoch 3/20\n"
     ]
    },
    {
     "name": "stderr",
     "output_type": "stream",
     "text": [
      "100%|██████████| 716/716 [01:00<00:00, 11.85it/s]\n"
     ]
    },
    {
     "name": "stdout",
     "output_type": "stream",
     "text": [
      "{'val_loss': 1.5961576503951376, 'val_accuracy': 0.6486280487804879, 'precision': 0.6311494028310611, 'recall': 0.6486280487804879, 'f1-score': 0.6260734403182767, 'macro_f1-score': 0.4216414981062426, 'balanced_accuracy': 0.3985094899083252, 'mcc': 0.5162348006103525, 'train_loss': 0.2702108345036109}\n",
      "Epoch 4/20\n"
     ]
    },
    {
     "name": "stderr",
     "output_type": "stream",
     "text": [
      "100%|██████████| 716/716 [01:00<00:00, 11.84it/s]\n"
     ]
    },
    {
     "name": "stdout",
     "output_type": "stream",
     "text": [
      "{'val_loss': 1.8474646261552485, 'val_accuracy': 0.618140243902439, 'precision': 0.6519818964020455, 'recall': 0.618140243902439, 'f1-score': 0.6216848367368136, 'macro_f1-score': 0.4213536740212798, 'balanced_accuracy': 0.4355322809238919, 'mcc': 0.507571972750518, 'train_loss': 0.16934404231077216}\n",
      "Epoch 5/20\n"
     ]
    },
    {
     "name": "stderr",
     "output_type": "stream",
     "text": [
      "100%|██████████| 716/716 [01:00<00:00, 11.85it/s]\n"
     ]
    },
    {
     "name": "stdout",
     "output_type": "stream",
     "text": [
      "{'val_loss': 1.9386993479437944, 'val_accuracy': 0.6196646341463414, 'precision': 0.6384515563305724, 'recall': 0.6196646341463414, 'f1-score': 0.6154667682053175, 'macro_f1-score': 0.39961211122906387, 'balanced_accuracy': 0.4153074089369817, 'mcc': 0.506455510577134, 'train_loss': 0.1205830379140787}\n",
      "Epoch 6/20\n"
     ]
    },
    {
     "name": "stderr",
     "output_type": "stream",
     "text": [
      "100%|██████████| 716/716 [01:00<00:00, 11.83it/s]\n"
     ]
    },
    {
     "name": "stdout",
     "output_type": "stream",
     "text": [
      "{'val_loss': 1.8601764914829557, 'val_accuracy': 0.65625, 'precision': 0.6444180585740282, 'recall': 0.65625, 'f1-score': 0.6353746321518257, 'macro_f1-score': 0.43203913284948764, 'balanced_accuracy': 0.40646942498850464, 'mcc': 0.5319400049699262, 'train_loss': 0.09506795692970384}\n",
      "Epoch 7/20\n"
     ]
    },
    {
     "name": "stderr",
     "output_type": "stream",
     "text": [
      "100%|██████████| 716/716 [01:00<00:00, 11.79it/s]\n"
     ]
    },
    {
     "name": "stdout",
     "output_type": "stream",
     "text": [
      "{'val_loss': 2.1053837165236473, 'val_accuracy': 0.6028963414634146, 'precision': 0.6325261530496957, 'recall': 0.6028963414634146, 'f1-score': 0.5992932149669055, 'macro_f1-score': 0.39549403593447857, 'balanced_accuracy': 0.4051119146803767, 'mcc': 0.49017231701017233, 'train_loss': 0.08495756919273337}\n",
      "Epoch 8/20\n"
     ]
    },
    {
     "name": "stderr",
     "output_type": "stream",
     "text": [
      "100%|██████████| 716/716 [01:00<00:00, 11.77it/s]\n"
     ]
    },
    {
     "name": "stdout",
     "output_type": "stream",
     "text": [
      "{'val_loss': 2.0421129920315453, 'val_accuracy': 0.6364329268292683, 'precision': 0.6296439961189962, 'recall': 0.6364329268292683, 'f1-score': 0.6259654632281464, 'macro_f1-score': 0.4114946135771785, 'balanced_accuracy': 0.4152756334913669, 'mcc': 0.517063298548131, 'train_loss': 0.07889408359008805}\n",
      "Epoch 9/20\n"
     ]
    },
    {
     "name": "stderr",
     "output_type": "stream",
     "text": [
      "100%|██████████| 716/716 [01:00<00:00, 11.74it/s]\n"
     ]
    },
    {
     "name": "stdout",
     "output_type": "stream",
     "text": [
      "{'val_loss': 2.132755315158425, 'val_accuracy': 0.6432926829268293, 'precision': 0.6295393776462668, 'recall': 0.6432926829268293, 'f1-score': 0.6247340921616011, 'macro_f1-score': 0.3962161680953491, 'balanced_accuracy': 0.4058830593323473, 'mcc': 0.519610205140866, 'train_loss': 0.07370746056269595}\n",
      "Early stopping.\n",
      "\n",
      "[Fold 2]\n",
      "Label distribution after resampling:\n",
      "  label 0: 2000\n",
      "  label 1: 200\n",
      "  label 2: 200\n",
      "  label 3: 200\n",
      "  label 4: 200\n",
      "  label 5: 200\n",
      "  label 6: 200\n",
      "  label 7: 200\n",
      "  label 8: 200\n",
      "  label 9: 200\n",
      "  label 10: 200\n",
      "  label 11: 200\n",
      "  label 12: 200\n",
      "  label 13: 200\n",
      "  label 14: 200\n",
      "  label 15: 200\n",
      "  label 16: 200\n",
      "  label 17: 200\n",
      "  label 18: 200\n",
      "  label 19: 200\n",
      "  label 20: 200\n",
      "  label 21: 200\n",
      "  label 22: 200\n",
      "  label 23: 200\n",
      "  label 24: 200\n",
      "  label 25: 200\n",
      "  label 26: 200\n",
      "  label 27: 200\n",
      "  label 28: 200\n",
      "  label 29: 200\n",
      "  label 30: 200\n",
      "  label 31: 200\n",
      "  label 32: 200\n",
      "  label 33: 200\n",
      "  label 34: 200\n",
      "  label 35: 200\n",
      "  label 36: 200\n",
      "  label 37: 200\n",
      "  label 38: 200\n",
      "  label 39: 200\n",
      "  label 40: 200\n",
      "  label 41: 200\n",
      "  label 42: 200\n",
      "  label 43: 200\n",
      "  label 44: 200\n",
      "  label 45: 242\n",
      "  label 46: 200\n",
      "  label 47: 200\n",
      "model is bert-base-uncased\n"
     ]
    },
    {
     "name": "stderr",
     "output_type": "stream",
     "text": [
      "Some weights of BertForSequenceClassification were not initialized from the model checkpoint at bert-base-uncased and are newly initialized: ['classifier.bias', 'classifier.weight']\n",
      "You should probably TRAIN this model on a down-stream task to be able to use it for predictions and inference.\n"
     ]
    },
    {
     "name": "stdout",
     "output_type": "stream",
     "text": [
      "Epoch 1/20\n"
     ]
    },
    {
     "name": "stderr",
     "output_type": "stream",
     "text": [
      "100%|██████████| 716/716 [01:00<00:00, 11.78it/s]\n"
     ]
    },
    {
     "name": "stdout",
     "output_type": "stream",
     "text": [
      "{'val_loss': 1.495339301301212, 'val_accuracy': 0.601067887109077, 'precision': 0.5925572414020872, 'recall': 0.601067887109077, 'f1-score': 0.5658691176492818, 'macro_f1-score': 0.33358291616004904, 'balanced_accuracy': 0.35701980102650094, 'mcc': 0.4492280631208943, 'train_loss': 2.2134060203696095}\n",
      "Epoch 2/20\n"
     ]
    },
    {
     "name": "stderr",
     "output_type": "stream",
     "text": [
      "100%|██████████| 716/716 [01:00<00:00, 11.74it/s]\n"
     ]
    },
    {
     "name": "stdout",
     "output_type": "stream",
     "text": [
      "{'val_loss': 1.4871254061780326, 'val_accuracy': 0.6384439359267735, 'precision': 0.6246900051166105, 'recall': 0.6384439359267735, 'f1-score': 0.5989382527866135, 'macro_f1-score': 0.365770078562253, 'balanced_accuracy': 0.3511428623812202, 'mcc': 0.49541710811418954, 'train_loss': 0.6585167921954693}\n",
      "Epoch 3/20\n"
     ]
    },
    {
     "name": "stderr",
     "output_type": "stream",
     "text": [
      "100%|██████████| 716/716 [01:00<00:00, 11.75it/s]\n"
     ]
    },
    {
     "name": "stdout",
     "output_type": "stream",
     "text": [
      "{'val_loss': 1.6016036391985127, 'val_accuracy': 0.6300533943554538, 'precision': 0.6303529749467155, 'recall': 0.6300533943554538, 'f1-score': 0.6148865950991976, 'macro_f1-score': 0.3776678633424379, 'balanced_accuracy': 0.377085676030263, 'mcc': 0.5060746400688858, 'train_loss': 0.2844094202734072}\n",
      "Epoch 4/20\n"
     ]
    },
    {
     "name": "stderr",
     "output_type": "stream",
     "text": [
      "100%|██████████| 716/716 [01:00<00:00, 11.75it/s]\n"
     ]
    },
    {
     "name": "stdout",
     "output_type": "stream",
     "text": [
      "{'val_loss': 1.7251783467647506, 'val_accuracy': 0.6453089244851259, 'precision': 0.6248729942521107, 'recall': 0.6453089244851259, 'f1-score': 0.6285647889633995, 'macro_f1-score': 0.39175331925391726, 'balanced_accuracy': 0.39060808899934, 'mcc': 0.5274009977394981, 'train_loss': 0.15502034543555585}\n",
      "Epoch 5/20\n"
     ]
    },
    {
     "name": "stderr",
     "output_type": "stream",
     "text": [
      "100%|██████████| 716/716 [01:01<00:00, 11.73it/s]\n"
     ]
    },
    {
     "name": "stdout",
     "output_type": "stream",
     "text": [
      "{'val_loss': 1.8833492216540546, 'val_accuracy': 0.6308161708619374, 'precision': 0.6219967718840496, 'recall': 0.6308161708619374, 'f1-score': 0.6144732188304125, 'macro_f1-score': 0.35819131159778467, 'balanced_accuracy': 0.37804613232625645, 'mcc': 0.5109499891471307, 'train_loss': 0.11905182399474834}\n",
      "Epoch 6/20\n"
     ]
    },
    {
     "name": "stderr",
     "output_type": "stream",
     "text": [
      "100%|██████████| 716/716 [01:00<00:00, 11.75it/s]\n"
     ]
    },
    {
     "name": "stdout",
     "output_type": "stream",
     "text": [
      "{'val_loss': 1.9552695347768505, 'val_accuracy': 0.6376811594202898, 'precision': 0.6188161983440597, 'recall': 0.6376811594202898, 'f1-score': 0.6135245264454524, 'macro_f1-score': 0.34959203610859313, 'balanced_accuracy': 0.3462334147147273, 'mcc': 0.5100572069899573, 'train_loss': 0.10365932437008528}\n",
      "Epoch 7/20\n"
     ]
    },
    {
     "name": "stderr",
     "output_type": "stream",
     "text": [
      "100%|██████████| 716/716 [01:00<00:00, 11.82it/s]\n"
     ]
    },
    {
     "name": "stdout",
     "output_type": "stream",
     "text": [
      "{'val_loss': 1.9909334709731543, 'val_accuracy': 0.6292906178489702, 'precision': 0.6233756234728077, 'recall': 0.6292906178489702, 'f1-score': 0.6193652268207156, 'macro_f1-score': 0.3881620537736353, 'balanced_accuracy': 0.38732116357183316, 'mcc': 0.5167575459752073, 'train_loss': 0.07438551753241694}\n",
      "Early stopping.\n",
      "\n",
      "[Fold 3]\n",
      "Label distribution after resampling:\n",
      "  label 0: 2000\n",
      "  label 1: 200\n",
      "  label 2: 200\n",
      "  label 3: 200\n",
      "  label 4: 200\n",
      "  label 5: 200\n",
      "  label 6: 200\n",
      "  label 7: 200\n",
      "  label 8: 200\n",
      "  label 9: 200\n",
      "  label 10: 200\n",
      "  label 11: 200\n",
      "  label 12: 200\n",
      "  label 13: 200\n",
      "  label 14: 200\n",
      "  label 15: 200\n",
      "  label 16: 200\n",
      "  label 17: 200\n",
      "  label 18: 200\n",
      "  label 19: 200\n",
      "  label 20: 200\n",
      "  label 21: 200\n",
      "  label 22: 200\n",
      "  label 23: 200\n",
      "  label 24: 200\n",
      "  label 25: 200\n",
      "  label 26: 200\n",
      "  label 27: 200\n",
      "  label 28: 200\n",
      "  label 29: 200\n",
      "  label 30: 200\n",
      "  label 31: 200\n",
      "  label 32: 200\n",
      "  label 33: 200\n",
      "  label 34: 200\n",
      "  label 35: 200\n",
      "  label 36: 200\n",
      "  label 37: 200\n",
      "  label 38: 200\n",
      "  label 39: 200\n",
      "  label 40: 200\n",
      "  label 41: 200\n",
      "  label 42: 200\n",
      "  label 43: 200\n",
      "  label 44: 200\n",
      "  label 45: 241\n",
      "  label 46: 200\n",
      "  label 47: 200\n",
      "model is bert-base-uncased\n"
     ]
    },
    {
     "name": "stderr",
     "output_type": "stream",
     "text": [
      "Some weights of BertForSequenceClassification were not initialized from the model checkpoint at bert-base-uncased and are newly initialized: ['classifier.bias', 'classifier.weight']\n",
      "You should probably TRAIN this model on a down-stream task to be able to use it for predictions and inference.\n"
     ]
    },
    {
     "name": "stdout",
     "output_type": "stream",
     "text": [
      "Epoch 1/20\n"
     ]
    },
    {
     "name": "stderr",
     "output_type": "stream",
     "text": [
      "100%|██████████| 716/716 [01:00<00:00, 11.82it/s]\n"
     ]
    },
    {
     "name": "stdout",
     "output_type": "stream",
     "text": [
      "{'val_loss': 1.6005586182198874, 'val_accuracy': 0.5766590389016019, 'precision': 0.5841592714259551, 'recall': 0.5766590389016019, 'f1-score': 0.5588382455262242, 'macro_f1-score': 0.3313793652742045, 'balanced_accuracy': 0.3524071236663297, 'mcc': 0.4315249597370192, 'train_loss': 2.1030383159890356}\n",
      "Epoch 2/20\n"
     ]
    },
    {
     "name": "stderr",
     "output_type": "stream",
     "text": [
      "100%|██████████| 716/716 [01:00<00:00, 11.81it/s]\n"
     ]
    },
    {
     "name": "stdout",
     "output_type": "stream",
     "text": [
      "{'val_loss': 1.5102992959138823, 'val_accuracy': 0.6285278413424866, 'precision': 0.6273188971801806, 'recall': 0.6285278413424866, 'f1-score': 0.6177509245808541, 'macro_f1-score': 0.41051019461070776, 'balanced_accuracy': 0.39564767268968876, 'mcc': 0.5016235908573118, 'train_loss': 0.6203293882195926}\n",
      "Epoch 3/20\n"
     ]
    },
    {
     "name": "stderr",
     "output_type": "stream",
     "text": [
      "100%|██████████| 716/716 [01:00<00:00, 11.82it/s]\n"
     ]
    },
    {
     "name": "stdout",
     "output_type": "stream",
     "text": [
      "{'val_loss': 1.7909529105555722, 'val_accuracy': 0.6132723112128147, 'precision': 0.6156805891048059, 'recall': 0.6132723112128147, 'f1-score': 0.5996564570175954, 'macro_f1-score': 0.35854833232985284, 'balanced_accuracy': 0.3672047887273866, 'mcc': 0.48500788564528347, 'train_loss': 0.2541483051088956}\n",
      "Epoch 4/20\n"
     ]
    },
    {
     "name": "stderr",
     "output_type": "stream",
     "text": [
      "100%|██████████| 716/716 [01:00<00:00, 11.83it/s]\n"
     ]
    },
    {
     "name": "stdout",
     "output_type": "stream",
     "text": [
      "{'val_loss': 1.768571039525474, 'val_accuracy': 0.6338672768878718, 'precision': 0.6271407071332591, 'recall': 0.6338672768878718, 'f1-score': 0.6207900648155945, 'macro_f1-score': 0.3928327431454513, 'balanced_accuracy': 0.3852647835163774, 'mcc': 0.5158526671361895, 'train_loss': 0.15444452554382926}\n",
      "Epoch 5/20\n"
     ]
    },
    {
     "name": "stderr",
     "output_type": "stream",
     "text": [
      "100%|██████████| 716/716 [01:00<00:00, 11.83it/s]\n"
     ]
    },
    {
     "name": "stdout",
     "output_type": "stream",
     "text": [
      "{'val_loss': 1.9367627479681155, 'val_accuracy': 0.6224256292906178, 'precision': 0.6384029432790971, 'recall': 0.6224256292906178, 'f1-score': 0.6229903116431122, 'macro_f1-score': 0.40015199558661446, 'balanced_accuracy': 0.3982037417355144, 'mcc': 0.5089861512697176, 'train_loss': 0.1065451497642594}\n",
      "Early stopping.\n",
      "\n",
      "[Fold 4]\n",
      "Label distribution after resampling:\n",
      "  label 0: 2000\n",
      "  label 1: 200\n",
      "  label 2: 200\n",
      "  label 3: 200\n",
      "  label 4: 200\n",
      "  label 5: 200\n",
      "  label 6: 200\n",
      "  label 7: 200\n",
      "  label 8: 200\n",
      "  label 9: 200\n",
      "  label 10: 200\n",
      "  label 11: 200\n",
      "  label 12: 200\n",
      "  label 13: 200\n",
      "  label 14: 200\n",
      "  label 15: 200\n",
      "  label 16: 200\n",
      "  label 17: 200\n",
      "  label 18: 200\n",
      "  label 19: 200\n",
      "  label 20: 200\n",
      "  label 21: 200\n",
      "  label 22: 200\n",
      "  label 23: 200\n",
      "  label 24: 200\n",
      "  label 25: 200\n",
      "  label 26: 200\n",
      "  label 27: 200\n",
      "  label 28: 200\n",
      "  label 29: 200\n",
      "  label 30: 200\n",
      "  label 31: 200\n",
      "  label 32: 200\n",
      "  label 33: 200\n",
      "  label 34: 200\n",
      "  label 35: 200\n",
      "  label 36: 200\n",
      "  label 37: 200\n",
      "  label 38: 200\n",
      "  label 39: 200\n",
      "  label 40: 200\n",
      "  label 41: 200\n",
      "  label 42: 200\n",
      "  label 43: 200\n",
      "  label 44: 200\n",
      "  label 45: 241\n",
      "  label 46: 200\n",
      "  label 47: 200\n",
      "model is bert-base-uncased\n"
     ]
    },
    {
     "name": "stderr",
     "output_type": "stream",
     "text": [
      "Some weights of BertForSequenceClassification were not initialized from the model checkpoint at bert-base-uncased and are newly initialized: ['classifier.bias', 'classifier.weight']\n",
      "You should probably TRAIN this model on a down-stream task to be able to use it for predictions and inference.\n"
     ]
    },
    {
     "name": "stdout",
     "output_type": "stream",
     "text": [
      "Epoch 1/20\n"
     ]
    },
    {
     "name": "stderr",
     "output_type": "stream",
     "text": [
      "100%|██████████| 716/716 [01:00<00:00, 11.81it/s]\n"
     ]
    },
    {
     "name": "stdout",
     "output_type": "stream",
     "text": [
      "{'val_loss': 1.5183575763934996, 'val_accuracy': 0.601067887109077, 'precision': 0.6460936928916751, 'recall': 0.601067887109077, 'f1-score': 0.5880707045099957, 'macro_f1-score': 0.37977615616428384, 'balanced_accuracy': 0.4465228374208756, 'mcc': 0.47480097193379284, 'train_loss': 2.0641265034509106}\n",
      "Epoch 2/20\n"
     ]
    },
    {
     "name": "stderr",
     "output_type": "stream",
     "text": [
      "100%|██████████| 716/716 [01:00<00:00, 11.75it/s]\n"
     ]
    },
    {
     "name": "stdout",
     "output_type": "stream",
     "text": [
      "{'val_loss': 1.693179718604902, 'val_accuracy': 0.5758962623951183, 'precision': 0.638121609511755, 'recall': 0.5758962623951183, 'f1-score': 0.5851728971136182, 'macro_f1-score': 0.3883547424789276, 'balanced_accuracy': 0.44344770613925016, 'mcc': 0.476427336689553, 'train_loss': 0.5636141130586243}\n",
      "Epoch 3/20\n"
     ]
    },
    {
     "name": "stderr",
     "output_type": "stream",
     "text": [
      "100%|██████████| 716/716 [01:00<00:00, 11.82it/s]\n"
     ]
    },
    {
     "name": "stdout",
     "output_type": "stream",
     "text": [
      "{'val_loss': 1.69041904589025, 'val_accuracy': 0.6155606407322655, 'precision': 0.6637133162681929, 'recall': 0.6155606407322655, 'f1-score': 0.6229612610661295, 'macro_f1-score': 0.4035437325691837, 'balanced_accuracy': 0.4285864054073754, 'mcc': 0.5250605408875488, 'train_loss': 0.250230591693456}\n",
      "Epoch 4/20\n"
     ]
    },
    {
     "name": "stderr",
     "output_type": "stream",
     "text": [
      "100%|██████████| 716/716 [01:00<00:00, 11.80it/s]\n"
     ]
    },
    {
     "name": "stdout",
     "output_type": "stream",
     "text": [
      "{'val_loss': 1.7112111554640095, 'val_accuracy': 0.6422578184591915, 'precision': 0.6273445558243798, 'recall': 0.6422578184591915, 'f1-score': 0.6233075945849875, 'macro_f1-score': 0.37977744900670046, 'balanced_accuracy': 0.38666407177299106, 'mcc': 0.517177607387297, 'train_loss': 0.14426695457113356}\n",
      "Epoch 5/20\n"
     ]
    },
    {
     "name": "stderr",
     "output_type": "stream",
     "text": [
      "100%|██████████| 716/716 [01:00<00:00, 11.81it/s]\n"
     ]
    },
    {
     "name": "stdout",
     "output_type": "stream",
     "text": [
      "{'val_loss': 1.8431117934424703, 'val_accuracy': 0.6361556064073226, 'precision': 0.6550060919868204, 'recall': 0.6361556064073226, 'f1-score': 0.634556202555425, 'macro_f1-score': 0.39026790233113307, 'balanced_accuracy': 0.40340705663352083, 'mcc': 0.5361079621752555, 'train_loss': 0.09928729326604714}\n",
      "Epoch 6/20\n"
     ]
    },
    {
     "name": "stderr",
     "output_type": "stream",
     "text": [
      "100%|██████████| 716/716 [01:00<00:00, 11.83it/s]\n"
     ]
    },
    {
     "name": "stdout",
     "output_type": "stream",
     "text": [
      "{'val_loss': 2.0503996374403557, 'val_accuracy': 0.5903890160183066, 'precision': 0.6590609220186897, 'recall': 0.5903890160183066, 'f1-score': 0.6057429441907474, 'macro_f1-score': 0.4161292471893247, 'balanced_accuracy': 0.44215708959667954, 'mcc': 0.5082985857150986, 'train_loss': 0.09402593102842029}\n",
      "Epoch 7/20\n"
     ]
    },
    {
     "name": "stderr",
     "output_type": "stream",
     "text": [
      "100%|██████████| 716/716 [01:00<00:00, 11.80it/s]\n"
     ]
    },
    {
     "name": "stdout",
     "output_type": "stream",
     "text": [
      "{'val_loss': 2.015960103945761, 'val_accuracy': 0.6369183829138062, 'precision': 0.6717916353076382, 'recall': 0.6369183829138062, 'f1-score': 0.6423222902353758, 'macro_f1-score': 0.43591322718598674, 'balanced_accuracy': 0.4369074980082072, 'mcc': 0.535940181412267, 'train_loss': 0.07757201645518107}\n",
      "Epoch 8/20\n"
     ]
    },
    {
     "name": "stderr",
     "output_type": "stream",
     "text": [
      "100%|██████████| 716/716 [01:00<00:00, 11.82it/s]\n"
     ]
    },
    {
     "name": "stdout",
     "output_type": "stream",
     "text": [
      "{'val_loss': 1.9669246423716953, 'val_accuracy': 0.6552250190694127, 'precision': 0.6379184515345298, 'recall': 0.6552250190694127, 'f1-score': 0.6320772241844292, 'macro_f1-score': 0.3981122759185705, 'balanced_accuracy': 0.38362223263999135, 'mcc': 0.532119670997417, 'train_loss': 0.08412318146987896}\n",
      "Epoch 9/20\n"
     ]
    },
    {
     "name": "stderr",
     "output_type": "stream",
     "text": [
      "100%|██████████| 716/716 [01:00<00:00, 11.80it/s]\n"
     ]
    },
    {
     "name": "stdout",
     "output_type": "stream",
     "text": [
      "{'val_loss': 2.104040671230816, 'val_accuracy': 0.6369183829138062, 'precision': 0.6494351058066463, 'recall': 0.6369183829138062, 'f1-score': 0.6357897743122891, 'macro_f1-score': 0.41047723509375533, 'balanced_accuracy': 0.4433629869652371, 'mcc': 0.5348995146751998, 'train_loss': 0.05378426172654795}\n",
      "Epoch 10/20\n"
     ]
    },
    {
     "name": "stderr",
     "output_type": "stream",
     "text": [
      "100%|██████████| 716/716 [01:00<00:00, 11.82it/s]\n"
     ]
    },
    {
     "name": "stdout",
     "output_type": "stream",
     "text": [
      "{'val_loss': 2.205596387749765, 'val_accuracy': 0.6460717009916095, 'precision': 0.6496342375610707, 'recall': 0.6460717009916095, 'f1-score': 0.6323678466978654, 'macro_f1-score': 0.4027999919560759, 'balanced_accuracy': 0.41244612650034745, 'mcc': 0.5321549387573934, 'train_loss': 0.038113398649619226}\n",
      "Early stopping.\n",
      "\n",
      "[Fold 5]\n",
      "Label distribution after resampling:\n",
      "  label 0: 2000\n",
      "  label 1: 200\n",
      "  label 2: 200\n",
      "  label 3: 200\n",
      "  label 4: 200\n",
      "  label 5: 200\n",
      "  label 6: 200\n",
      "  label 7: 200\n",
      "  label 8: 200\n",
      "  label 9: 200\n",
      "  label 10: 200\n",
      "  label 11: 200\n",
      "  label 12: 200\n",
      "  label 13: 200\n",
      "  label 14: 200\n",
      "  label 15: 200\n",
      "  label 16: 200\n",
      "  label 17: 200\n",
      "  label 18: 200\n",
      "  label 19: 200\n",
      "  label 20: 200\n",
      "  label 21: 200\n",
      "  label 22: 200\n",
      "  label 23: 200\n",
      "  label 24: 200\n",
      "  label 25: 200\n",
      "  label 26: 200\n",
      "  label 27: 200\n",
      "  label 28: 200\n",
      "  label 29: 200\n",
      "  label 30: 200\n",
      "  label 31: 200\n",
      "  label 32: 200\n",
      "  label 33: 200\n",
      "  label 34: 200\n",
      "  label 35: 200\n",
      "  label 36: 200\n",
      "  label 37: 200\n",
      "  label 38: 200\n",
      "  label 39: 200\n",
      "  label 40: 200\n",
      "  label 41: 200\n",
      "  label 42: 200\n",
      "  label 43: 200\n",
      "  label 44: 200\n",
      "  label 45: 242\n",
      "  label 46: 200\n",
      "  label 47: 200\n",
      "model is bert-base-uncased\n"
     ]
    },
    {
     "name": "stderr",
     "output_type": "stream",
     "text": [
      "Some weights of BertForSequenceClassification were not initialized from the model checkpoint at bert-base-uncased and are newly initialized: ['classifier.bias', 'classifier.weight']\n",
      "You should probably TRAIN this model on a down-stream task to be able to use it for predictions and inference.\n"
     ]
    },
    {
     "name": "stdout",
     "output_type": "stream",
     "text": [
      "Epoch 1/20\n"
     ]
    },
    {
     "name": "stderr",
     "output_type": "stream",
     "text": [
      "100%|██████████| 716/716 [01:00<00:00, 11.83it/s]\n"
     ]
    },
    {
     "name": "stdout",
     "output_type": "stream",
     "text": [
      "{'val_loss': 1.5667046810068734, 'val_accuracy': 0.5881006864988558, 'precision': 0.580526999147631, 'recall': 0.5881006864988558, 'f1-score': 0.5643111616799009, 'macro_f1-score': 0.34406677671695873, 'balanced_accuracy': 0.3722916122829083, 'mcc': 0.4523389875601686, 'train_loss': 2.1565793562451554}\n",
      "Epoch 2/20\n"
     ]
    },
    {
     "name": "stderr",
     "output_type": "stream",
     "text": [
      "100%|██████████| 716/716 [01:00<00:00, 11.82it/s]\n"
     ]
    },
    {
     "name": "stdout",
     "output_type": "stream",
     "text": [
      "{'val_loss': 1.5079391791326244, 'val_accuracy': 0.6270022883295194, 'precision': 0.6505491733240858, 'recall': 0.6270022883295194, 'f1-score': 0.6243107636429853, 'macro_f1-score': 0.40393836939919586, 'balanced_accuracy': 0.4177318779261012, 'mcc': 0.5121773909532189, 'train_loss': 0.5784947532619344}\n",
      "Epoch 3/20\n"
     ]
    },
    {
     "name": "stderr",
     "output_type": "stream",
     "text": [
      "100%|██████████| 716/716 [01:00<00:00, 11.76it/s]\n"
     ]
    },
    {
     "name": "stdout",
     "output_type": "stream",
     "text": [
      "{'val_loss': 1.5221022302057685, 'val_accuracy': 0.6536994660564455, 'precision': 0.6578921130580545, 'recall': 0.6536994660564455, 'f1-score': 0.6465431167495791, 'macro_f1-score': 0.40685612367701945, 'balanced_accuracy': 0.4146831037207159, 'mcc': 0.5477167198058903, 'train_loss': 0.25067695644397975}\n",
      "Epoch 4/20\n"
     ]
    },
    {
     "name": "stderr",
     "output_type": "stream",
     "text": [
      "100%|██████████| 716/716 [01:00<00:00, 11.80it/s]\n"
     ]
    },
    {
     "name": "stdout",
     "output_type": "stream",
     "text": [
      "{'val_loss': 1.6503120882482063, 'val_accuracy': 0.6605644546147978, 'precision': 0.6577695490832577, 'recall': 0.6605644546147978, 'f1-score': 0.6494792383350307, 'macro_f1-score': 0.4126978165007668, 'balanced_accuracy': 0.4038014424130148, 'mcc': 0.5519973864788958, 'train_loss': 0.14584684452333346}\n",
      "Epoch 5/20\n"
     ]
    },
    {
     "name": "stderr",
     "output_type": "stream",
     "text": [
      "100%|██████████| 716/716 [01:00<00:00, 11.82it/s]\n"
     ]
    },
    {
     "name": "stdout",
     "output_type": "stream",
     "text": [
      "{'val_loss': 1.7726232587564281, 'val_accuracy': 0.6651411136536994, 'precision': 0.6652585679356879, 'recall': 0.6651411136536994, 'f1-score': 0.6522437744148488, 'macro_f1-score': 0.42287697621948067, 'balanced_accuracy': 0.41155061105333574, 'mcc': 0.55319520924233, 'train_loss': 0.09105153935610229}\n",
      "Epoch 6/20\n"
     ]
    },
    {
     "name": "stderr",
     "output_type": "stream",
     "text": [
      "100%|██████████| 716/716 [01:00<00:00, 11.81it/s]\n"
     ]
    },
    {
     "name": "stdout",
     "output_type": "stream",
     "text": [
      "{'val_loss': 1.8223947348391139, 'val_accuracy': 0.6453089244851259, 'precision': 0.6612214215441572, 'recall': 0.6453089244851259, 'f1-score': 0.6343212799635578, 'macro_f1-score': 0.41306134773695824, 'balanced_accuracy': 0.4050073451432054, 'mcc': 0.5310282629944131, 'train_loss': 0.08109430985248195}\n",
      "Epoch 7/20\n"
     ]
    },
    {
     "name": "stderr",
     "output_type": "stream",
     "text": [
      "100%|██████████| 716/716 [01:00<00:00, 11.82it/s]\n"
     ]
    },
    {
     "name": "stdout",
     "output_type": "stream",
     "text": [
      "{'val_loss': 1.9031029390852625, 'val_accuracy': 0.6453089244851259, 'precision': 0.6528275131799599, 'recall': 0.6453089244851259, 'f1-score': 0.6321068576429596, 'macro_f1-score': 0.389492507232543, 'balanced_accuracy': 0.3691293092616048, 'mcc': 0.5314895247966179, 'train_loss': 0.07254331370532076}\n",
      "Epoch 8/20\n"
     ]
    },
    {
     "name": "stderr",
     "output_type": "stream",
     "text": [
      "100%|██████████| 716/716 [01:00<00:00, 11.84it/s]\n"
     ]
    },
    {
     "name": "stdout",
     "output_type": "stream",
     "text": [
      "{'val_loss': 2.060373307364743, 'val_accuracy': 0.635392829900839, 'precision': 0.6596931048292056, 'recall': 0.635392829900839, 'f1-score': 0.6337073720102439, 'macro_f1-score': 0.3980452251631388, 'balanced_accuracy': 0.3891588236324825, 'mcc': 0.521240197666799, 'train_loss': 0.07832014369362102}\n",
      "Early stopping.\n",
      "\n",
      " === bert-base-uncased + plain + ros Final 5-fold Cross-Validation Results ===\n",
      "val_loss: 1.7768\n",
      "val_accuracy: 0.6464\n",
      "precision: 0.6467\n",
      "recall: 0.6464\n",
      "f1-score: 0.6353\n",
      "macro_f1-score: 0.4186\n",
      "balanced_accuracy: 0.4082\n",
      "mcc: 0.5300\n",
      "train_loss: 0.2078\n",
      "total_seconds: 2506.0000\n",
      "total_time: 0 hrs 41 mins 46 secs\n",
      "▶ Running: bert-base-uncased + cnn + ros\n",
      "tokenizer is bert-base-uncased\n",
      "Using device: cuda\n",
      "CUDA Available: True\n",
      "CUDA Device: NVIDIA GeForce RTX 5070 Ti\n",
      "Current GPU Memory Allocated: 0.02 GB\n",
      "Current GPU Memory Cached: 3.14 GB\n",
      "\n",
      "[Fold 1]\n",
      "Label distribution after resampling:\n",
      "  label 0: 2000\n",
      "  label 1: 200\n",
      "  label 2: 200\n",
      "  label 3: 200\n",
      "  label 4: 200\n",
      "  label 5: 200\n",
      "  label 6: 200\n",
      "  label 7: 200\n",
      "  label 8: 200\n",
      "  label 9: 200\n",
      "  label 10: 200\n",
      "  label 11: 200\n",
      "  label 12: 200\n",
      "  label 13: 200\n",
      "  label 14: 200\n",
      "  label 15: 200\n",
      "  label 16: 200\n",
      "  label 17: 200\n",
      "  label 18: 200\n",
      "  label 19: 200\n",
      "  label 20: 200\n",
      "  label 21: 200\n",
      "  label 22: 200\n",
      "  label 23: 200\n",
      "  label 24: 200\n",
      "  label 25: 200\n",
      "  label 26: 200\n",
      "  label 27: 200\n",
      "  label 28: 200\n",
      "  label 29: 200\n",
      "  label 30: 200\n",
      "  label 31: 200\n",
      "  label 32: 200\n",
      "  label 33: 200\n",
      "  label 34: 200\n",
      "  label 35: 200\n",
      "  label 36: 200\n",
      "  label 37: 200\n",
      "  label 38: 200\n",
      "  label 39: 200\n",
      "  label 40: 200\n",
      "  label 41: 200\n",
      "  label 42: 200\n",
      "  label 43: 200\n",
      "  label 44: 200\n",
      "  label 45: 242\n",
      "  label 46: 200\n",
      "  label 47: 200\n",
      "model is bert-base-uncased cnn\n",
      "Epoch 1/20\n"
     ]
    },
    {
     "name": "stderr",
     "output_type": "stream",
     "text": [
      "100%|██████████| 716/716 [01:01<00:00, 11.56it/s]\n"
     ]
    },
    {
     "name": "stdout",
     "output_type": "stream",
     "text": [
      "{'val_loss': 1.4521517197533351, 'val_accuracy': 0.6128048780487805, 'precision': 0.628230328057733, 'recall': 0.6128048780487805, 'f1-score': 0.5970594279885384, 'macro_f1-score': 0.3723343818185601, 'balanced_accuracy': 0.4080241149657779, 'mcc': 0.4850746606856314, 'train_loss': 1.9375538544823006}\n",
      "Epoch 2/20\n"
     ]
    },
    {
     "name": "stderr",
     "output_type": "stream",
     "text": [
      "100%|██████████| 716/716 [01:01<00:00, 11.58it/s]\n"
     ]
    },
    {
     "name": "stdout",
     "output_type": "stream",
     "text": [
      "{'val_loss': 1.508045965941941, 'val_accuracy': 0.6371951219512195, 'precision': 0.6450045966122612, 'recall': 0.6371951219512195, 'f1-score': 0.624601277422934, 'macro_f1-score': 0.38435307797432117, 'balanced_accuracy': 0.3997035979882894, 'mcc': 0.5162949290464679, 'train_loss': 0.5315653442472802}\n",
      "Epoch 3/20\n"
     ]
    },
    {
     "name": "stderr",
     "output_type": "stream",
     "text": [
      "100%|██████████| 716/716 [01:01<00:00, 11.56it/s]\n"
     ]
    },
    {
     "name": "stdout",
     "output_type": "stream",
     "text": [
      "{'val_loss': 1.674078900276161, 'val_accuracy': 0.6478658536585366, 'precision': 0.6209992027299234, 'recall': 0.6478658536585366, 'f1-score': 0.6142312716543632, 'macro_f1-score': 0.396570212844944, 'balanced_accuracy': 0.3740411988208121, 'mcc': 0.5147819940381346, 'train_loss': 0.2564419263729295}\n",
      "Epoch 4/20\n"
     ]
    },
    {
     "name": "stderr",
     "output_type": "stream",
     "text": [
      "100%|██████████| 716/716 [01:01<00:00, 11.57it/s]\n"
     ]
    },
    {
     "name": "stdout",
     "output_type": "stream",
     "text": [
      "{'val_loss': 1.965168255494862, 'val_accuracy': 0.6349085365853658, 'precision': 0.6130051759650263, 'recall': 0.6349085365853658, 'f1-score': 0.5948177587616252, 'macro_f1-score': 0.3561757606477176, 'balanced_accuracy': 0.32177910338696913, 'mcc': 0.4847024190587929, 'train_loss': 0.15937066562382723}\n",
      "Epoch 5/20\n"
     ]
    },
    {
     "name": "stderr",
     "output_type": "stream",
     "text": [
      "100%|██████████| 716/716 [01:01<00:00, 11.56it/s]\n"
     ]
    },
    {
     "name": "stdout",
     "output_type": "stream",
     "text": [
      "{'val_loss': 1.8889085759476918, 'val_accuracy': 0.6653963414634146, 'precision': 0.6484523757757231, 'recall': 0.6653963414634146, 'f1-score': 0.6429039065343576, 'macro_f1-score': 0.4210680491820642, 'balanced_accuracy': 0.4120054825203112, 'mcc': 0.5439207042109199, 'train_loss': 0.11318603940093473}\n",
      "Epoch 6/20\n"
     ]
    },
    {
     "name": "stderr",
     "output_type": "stream",
     "text": [
      "100%|██████████| 716/716 [01:01<00:00, 11.56it/s]\n"
     ]
    },
    {
     "name": "stdout",
     "output_type": "stream",
     "text": [
      "{'val_loss': 2.0765874622071663, 'val_accuracy': 0.6211890243902439, 'precision': 0.6410214474215081, 'recall': 0.6211890243902439, 'f1-score': 0.6153463368595945, 'macro_f1-score': 0.4184614972651266, 'balanced_accuracy': 0.4278307338323158, 'mcc': 0.5089234691383934, 'train_loss': 0.08779960156349445}\n",
      "Epoch 7/20\n"
     ]
    },
    {
     "name": "stderr",
     "output_type": "stream",
     "text": [
      "100%|██████████| 716/716 [01:01<00:00, 11.57it/s]\n"
     ]
    },
    {
     "name": "stdout",
     "output_type": "stream",
     "text": [
      "{'val_loss': 2.0682316291623, 'val_accuracy': 0.6189024390243902, 'precision': 0.6325681061401017, 'recall': 0.6189024390243902, 'f1-score': 0.6149814687117828, 'macro_f1-score': 0.4100745099674114, 'balanced_accuracy': 0.39989387357046197, 'mcc': 0.49716778504542597, 'train_loss': 0.09942068170587658}\n",
      "Epoch 8/20\n"
     ]
    },
    {
     "name": "stderr",
     "output_type": "stream",
     "text": [
      "100%|██████████| 716/716 [01:01<00:00, 11.57it/s]\n"
     ]
    },
    {
     "name": "stdout",
     "output_type": "stream",
     "text": [
      "{'val_loss': 2.0514686354776708, 'val_accuracy': 0.6638719512195121, 'precision': 0.6322548888863067, 'recall': 0.6638719512195121, 'f1-score': 0.6354693839273341, 'macro_f1-score': 0.4116504347285305, 'balanced_accuracy': 0.3907088838886328, 'mcc': 0.5394305178339703, 'train_loss': 0.09976428863429855}\n",
      "Early stopping.\n",
      "\n",
      "[Fold 2]\n",
      "Label distribution after resampling:\n",
      "  label 0: 2000\n",
      "  label 1: 200\n",
      "  label 2: 200\n",
      "  label 3: 200\n",
      "  label 4: 200\n",
      "  label 5: 200\n",
      "  label 6: 200\n",
      "  label 7: 200\n",
      "  label 8: 200\n",
      "  label 9: 200\n",
      "  label 10: 200\n",
      "  label 11: 200\n",
      "  label 12: 200\n",
      "  label 13: 200\n",
      "  label 14: 200\n",
      "  label 15: 200\n",
      "  label 16: 200\n",
      "  label 17: 200\n",
      "  label 18: 200\n",
      "  label 19: 200\n",
      "  label 20: 200\n",
      "  label 21: 200\n",
      "  label 22: 200\n",
      "  label 23: 200\n",
      "  label 24: 200\n",
      "  label 25: 200\n",
      "  label 26: 200\n",
      "  label 27: 200\n",
      "  label 28: 200\n",
      "  label 29: 200\n",
      "  label 30: 200\n",
      "  label 31: 200\n",
      "  label 32: 200\n",
      "  label 33: 200\n",
      "  label 34: 200\n",
      "  label 35: 200\n",
      "  label 36: 200\n",
      "  label 37: 200\n",
      "  label 38: 200\n",
      "  label 39: 200\n",
      "  label 40: 200\n",
      "  label 41: 200\n",
      "  label 42: 200\n",
      "  label 43: 200\n",
      "  label 44: 200\n",
      "  label 45: 242\n",
      "  label 46: 200\n",
      "  label 47: 200\n",
      "model is bert-base-uncased cnn\n",
      "Epoch 1/20\n"
     ]
    },
    {
     "name": "stderr",
     "output_type": "stream",
     "text": [
      "100%|██████████| 716/716 [01:01<00:00, 11.57it/s]\n"
     ]
    },
    {
     "name": "stdout",
     "output_type": "stream",
     "text": [
      "{'val_loss': 1.497260702819359, 'val_accuracy': 0.5789473684210527, 'precision': 0.6020045851303985, 'recall': 0.5789473684210527, 'f1-score': 0.5666701338062992, 'macro_f1-score': 0.3233986132866323, 'balanced_accuracy': 0.3753608436069564, 'mcc': 0.44173985562188167, 'train_loss': 2.083677884087216}\n",
      "Epoch 2/20\n"
     ]
    },
    {
     "name": "stderr",
     "output_type": "stream",
     "text": [
      "100%|██████████| 716/716 [01:01<00:00, 11.58it/s]\n"
     ]
    },
    {
     "name": "stdout",
     "output_type": "stream",
     "text": [
      "{'val_loss': 1.4933063900325356, 'val_accuracy': 0.6361556064073226, 'precision': 0.6314392356877151, 'recall': 0.6361556064073226, 'f1-score': 0.6149305859519637, 'macro_f1-score': 0.39096883555111556, 'balanced_accuracy': 0.3995459285030239, 'mcc': 0.5100080254885485, 'train_loss': 0.5849916455101783}\n",
      "Epoch 3/20\n"
     ]
    },
    {
     "name": "stderr",
     "output_type": "stream",
     "text": [
      "100%|██████████| 716/716 [01:01<00:00, 11.56it/s]\n"
     ]
    },
    {
     "name": "stdout",
     "output_type": "stream",
     "text": [
      "{'val_loss': 1.656721498908066, 'val_accuracy': 0.6216628527841342, 'precision': 0.6443509301905566, 'recall': 0.6216628527841342, 'f1-score': 0.6125442894179881, 'macro_f1-score': 0.3938514204845071, 'balanced_accuracy': 0.3954463407151188, 'mcc': 0.5073463005985959, 'train_loss': 0.26885981264903974}\n",
      "Epoch 4/20\n"
     ]
    },
    {
     "name": "stderr",
     "output_type": "stream",
     "text": [
      "100%|██████████| 716/716 [01:01<00:00, 11.57it/s]\n"
     ]
    },
    {
     "name": "stdout",
     "output_type": "stream",
     "text": [
      "{'val_loss': 1.8168867295835076, 'val_accuracy': 0.6170861937452327, 'precision': 0.6301912199571335, 'recall': 0.6170861937452327, 'f1-score': 0.613927970666111, 'macro_f1-score': 0.3932524324322095, 'balanced_accuracy': 0.4002693413455954, 'mcc': 0.5014295069037472, 'train_loss': 0.14516344687097585}\n",
      "Epoch 5/20\n"
     ]
    },
    {
     "name": "stderr",
     "output_type": "stream",
     "text": [
      "100%|██████████| 716/716 [01:01<00:00, 11.57it/s]\n"
     ]
    },
    {
     "name": "stdout",
     "output_type": "stream",
     "text": [
      "{'val_loss': 1.9071940379898722, 'val_accuracy': 0.6231884057971014, 'precision': 0.6361000924786984, 'recall': 0.6231884057971014, 'f1-score': 0.6117357921871809, 'macro_f1-score': 0.36706269669066033, 'balanced_accuracy': 0.3769402134550968, 'mcc': 0.5096683348109886, 'train_loss': 0.12839186060640378}\n",
      "Epoch 6/20\n"
     ]
    },
    {
     "name": "stderr",
     "output_type": "stream",
     "text": [
      "100%|██████████| 716/716 [01:01<00:00, 11.56it/s]\n"
     ]
    },
    {
     "name": "stdout",
     "output_type": "stream",
     "text": [
      "{'val_loss': 1.8804554092447932, 'val_accuracy': 0.6346300533943554, 'precision': 0.6220290326791379, 'recall': 0.6346300533943554, 'f1-score': 0.6183359327857405, 'macro_f1-score': 0.38258052647729485, 'balanced_accuracy': 0.3731059068477702, 'mcc': 0.5108785167122171, 'train_loss': 0.10264001001750885}\n",
      "Early stopping.\n",
      "\n",
      "[Fold 3]\n",
      "Label distribution after resampling:\n",
      "  label 0: 2000\n",
      "  label 1: 200\n",
      "  label 2: 200\n",
      "  label 3: 200\n",
      "  label 4: 200\n",
      "  label 5: 200\n",
      "  label 6: 200\n",
      "  label 7: 200\n",
      "  label 8: 200\n",
      "  label 9: 200\n",
      "  label 10: 200\n",
      "  label 11: 200\n",
      "  label 12: 200\n",
      "  label 13: 200\n",
      "  label 14: 200\n",
      "  label 15: 200\n",
      "  label 16: 200\n",
      "  label 17: 200\n",
      "  label 18: 200\n",
      "  label 19: 200\n",
      "  label 20: 200\n",
      "  label 21: 200\n",
      "  label 22: 200\n",
      "  label 23: 200\n",
      "  label 24: 200\n",
      "  label 25: 200\n",
      "  label 26: 200\n",
      "  label 27: 200\n",
      "  label 28: 200\n",
      "  label 29: 200\n",
      "  label 30: 200\n",
      "  label 31: 200\n",
      "  label 32: 200\n",
      "  label 33: 200\n",
      "  label 34: 200\n",
      "  label 35: 200\n",
      "  label 36: 200\n",
      "  label 37: 200\n",
      "  label 38: 200\n",
      "  label 39: 200\n",
      "  label 40: 200\n",
      "  label 41: 200\n",
      "  label 42: 200\n",
      "  label 43: 200\n",
      "  label 44: 200\n",
      "  label 45: 241\n",
      "  label 46: 200\n",
      "  label 47: 200\n",
      "model is bert-base-uncased cnn\n",
      "Epoch 1/20\n"
     ]
    },
    {
     "name": "stderr",
     "output_type": "stream",
     "text": [
      "100%|██████████| 716/716 [01:01<00:00, 11.57it/s]\n"
     ]
    },
    {
     "name": "stdout",
     "output_type": "stream",
     "text": [
      "{'val_loss': 1.4969175697826758, 'val_accuracy': 0.597254004576659, 'precision': 0.6108458333678372, 'recall': 0.597254004576659, 'f1-score': 0.5865612550267911, 'macro_f1-score': 0.38619160853968776, 'balanced_accuracy': 0.40348530258395376, 'mcc': 0.46688300484697126, 'train_loss': 1.9859514063505155}\n",
      "Epoch 2/20\n"
     ]
    },
    {
     "name": "stderr",
     "output_type": "stream",
     "text": [
      "100%|██████████| 716/716 [01:01<00:00, 11.58it/s]\n"
     ]
    },
    {
     "name": "stdout",
     "output_type": "stream",
     "text": [
      "{'val_loss': 1.593494241920913, 'val_accuracy': 0.5980167810831426, 'precision': 0.6200005791121872, 'recall': 0.5980167810831426, 'f1-score': 0.5994460461886667, 'macro_f1-score': 0.3761461935864676, 'balanced_accuracy': 0.357377350711344, 'mcc': 0.4764116240177426, 'train_loss': 0.5520140969353161}\n",
      "Epoch 3/20\n"
     ]
    },
    {
     "name": "stderr",
     "output_type": "stream",
     "text": [
      "100%|██████████| 716/716 [01:01<00:00, 11.57it/s]\n"
     ]
    },
    {
     "name": "stdout",
     "output_type": "stream",
     "text": [
      "{'val_loss': 1.8067665230028513, 'val_accuracy': 0.6331045003813882, 'precision': 0.6391397997938809, 'recall': 0.6331045003813882, 'f1-score': 0.6216991141712895, 'macro_f1-score': 0.4051771134481576, 'balanced_accuracy': 0.3869711367489603, 'mcc': 0.5101927086988346, 'train_loss': 0.2560862190267019}\n",
      "Epoch 4/20\n"
     ]
    },
    {
     "name": "stderr",
     "output_type": "stream",
     "text": [
      "100%|██████████| 716/716 [01:01<00:00, 11.57it/s]\n"
     ]
    },
    {
     "name": "stdout",
     "output_type": "stream",
     "text": [
      "{'val_loss': 1.8462475785394994, 'val_accuracy': 0.6567505720823799, 'precision': 0.6436528879614329, 'recall': 0.6567505720823799, 'f1-score': 0.6389929770705148, 'macro_f1-score': 0.3857934435911646, 'balanced_accuracy': 0.36658034644531323, 'mcc': 0.5372897910157242, 'train_loss': 0.15981629319156015}\n",
      "Epoch 5/20\n"
     ]
    },
    {
     "name": "stderr",
     "output_type": "stream",
     "text": [
      "100%|██████████| 716/716 [01:01<00:00, 11.57it/s]\n"
     ]
    },
    {
     "name": "stdout",
     "output_type": "stream",
     "text": [
      "{'val_loss': 2.029540454105633, 'val_accuracy': 0.5919145690312738, 'precision': 0.6581230390828955, 'recall': 0.5919145690312738, 'f1-score': 0.609679161175982, 'macro_f1-score': 0.40138778211854337, 'balanced_accuracy': 0.4115992025520949, 'mcc': 0.4994282371158878, 'train_loss': 0.1273827307998052}\n",
      "Epoch 6/20\n"
     ]
    },
    {
     "name": "stderr",
     "output_type": "stream",
     "text": [
      "100%|██████████| 716/716 [01:01<00:00, 11.59it/s]\n"
     ]
    },
    {
     "name": "stdout",
     "output_type": "stream",
     "text": [
      "{'val_loss': 2.0602789057827575, 'val_accuracy': 0.6247139588100686, 'precision': 0.6371192119492503, 'recall': 0.6247139588100686, 'f1-score': 0.6209527167245319, 'macro_f1-score': 0.38708921899701737, 'balanced_accuracy': 0.37930161575459675, 'mcc': 0.5143752271405071, 'train_loss': 0.08812303675303507}\n",
      "Early stopping.\n",
      "\n",
      "[Fold 4]\n",
      "Label distribution after resampling:\n",
      "  label 0: 2000\n",
      "  label 1: 200\n",
      "  label 2: 200\n",
      "  label 3: 200\n",
      "  label 4: 200\n",
      "  label 5: 200\n",
      "  label 6: 200\n",
      "  label 7: 200\n",
      "  label 8: 200\n",
      "  label 9: 200\n",
      "  label 10: 200\n",
      "  label 11: 200\n",
      "  label 12: 200\n",
      "  label 13: 200\n",
      "  label 14: 200\n",
      "  label 15: 200\n",
      "  label 16: 200\n",
      "  label 17: 200\n",
      "  label 18: 200\n",
      "  label 19: 200\n",
      "  label 20: 200\n",
      "  label 21: 200\n",
      "  label 22: 200\n",
      "  label 23: 200\n",
      "  label 24: 200\n",
      "  label 25: 200\n",
      "  label 26: 200\n",
      "  label 27: 200\n",
      "  label 28: 200\n",
      "  label 29: 200\n",
      "  label 30: 200\n",
      "  label 31: 200\n",
      "  label 32: 200\n",
      "  label 33: 200\n",
      "  label 34: 200\n",
      "  label 35: 200\n",
      "  label 36: 200\n",
      "  label 37: 200\n",
      "  label 38: 200\n",
      "  label 39: 200\n",
      "  label 40: 200\n",
      "  label 41: 200\n",
      "  label 42: 200\n",
      "  label 43: 200\n",
      "  label 44: 200\n",
      "  label 45: 241\n",
      "  label 46: 200\n",
      "  label 47: 200\n",
      "model is bert-base-uncased cnn\n",
      "Epoch 1/20\n"
     ]
    },
    {
     "name": "stderr",
     "output_type": "stream",
     "text": [
      "100%|██████████| 716/716 [01:01<00:00, 11.60it/s]\n"
     ]
    },
    {
     "name": "stdout",
     "output_type": "stream",
     "text": [
      "{'val_loss': 1.5296194033651818, 'val_accuracy': 0.5865751334858886, 'precision': 0.6071982332788649, 'recall': 0.5865751334858886, 'f1-score': 0.5796950885204013, 'macro_f1-score': 0.35197838326527736, 'balanced_accuracy': 0.4124678800065424, 'mcc': 0.46534355792761983, 'train_loss': 1.9627586422519312}\n",
      "Epoch 2/20\n"
     ]
    },
    {
     "name": "stderr",
     "output_type": "stream",
     "text": [
      "100%|██████████| 716/716 [01:01<00:00, 11.60it/s]\n"
     ]
    },
    {
     "name": "stdout",
     "output_type": "stream",
     "text": [
      "{'val_loss': 1.4784229721237974, 'val_accuracy': 0.6163234172387491, 'precision': 0.6480901291139823, 'recall': 0.6163234172387491, 'f1-score': 0.6194512803367331, 'macro_f1-score': 0.41859768209944676, 'balanced_accuracy': 0.46661059101230135, 'mcc': 0.5190036692188251, 'train_loss': 0.5441862488966748}\n",
      "Epoch 3/20\n"
     ]
    },
    {
     "name": "stderr",
     "output_type": "stream",
     "text": [
      "100%|██████████| 716/716 [01:02<00:00, 11.52it/s]\n"
     ]
    },
    {
     "name": "stdout",
     "output_type": "stream",
     "text": [
      "{'val_loss': 1.5621272792539946, 'val_accuracy': 0.6689549961861174, 'precision': 0.6632362868035238, 'recall': 0.6689549961861174, 'f1-score': 0.6507920587066147, 'macro_f1-score': 0.4321500545862655, 'balanced_accuracy': 0.42928791823163576, 'mcc': 0.5563748682262565, 'train_loss': 0.24350558934920577}\n",
      "Epoch 4/20\n"
     ]
    },
    {
     "name": "stderr",
     "output_type": "stream",
     "text": [
      "100%|██████████| 716/716 [01:01<00:00, 11.58it/s]\n"
     ]
    },
    {
     "name": "stdout",
     "output_type": "stream",
     "text": [
      "{'val_loss': 1.7030907037054621, 'val_accuracy': 0.6361556064073226, 'precision': 0.6508664375794051, 'recall': 0.6361556064073226, 'f1-score': 0.6337809285737863, 'macro_f1-score': 0.42523805735294423, 'balanced_accuracy': 0.45134929996070855, 'mcc': 0.5291840218390627, 'train_loss': 0.15587682283484097}\n",
      "Epoch 5/20\n"
     ]
    },
    {
     "name": "stderr",
     "output_type": "stream",
     "text": [
      "100%|██████████| 716/716 [01:01<00:00, 11.57it/s]\n"
     ]
    },
    {
     "name": "stdout",
     "output_type": "stream",
     "text": [
      "{'val_loss': 1.7460222476866187, 'val_accuracy': 0.6407322654462243, 'precision': 0.6583213753257314, 'recall': 0.6407322654462243, 'f1-score': 0.6372375069178523, 'macro_f1-score': 0.4003411137179482, 'balanced_accuracy': 0.4213970056153185, 'mcc': 0.5365909291715097, 'train_loss': 0.13308818156664473}\n",
      "Epoch 6/20\n"
     ]
    },
    {
     "name": "stderr",
     "output_type": "stream",
     "text": [
      "100%|██████████| 716/716 [01:01<00:00, 11.58it/s]\n"
     ]
    },
    {
     "name": "stdout",
     "output_type": "stream",
     "text": [
      "{'val_loss': 1.882002992055765, 'val_accuracy': 0.6453089244851259, 'precision': 0.6631711615073665, 'recall': 0.6453089244851259, 'f1-score': 0.6445875703035092, 'macro_f1-score': 0.4267200155342721, 'balanced_accuracy': 0.4546492946528848, 'mcc': 0.5426292326582345, 'train_loss': 0.09724479541962956}\n",
      "Early stopping.\n",
      "\n",
      "[Fold 5]\n",
      "Label distribution after resampling:\n",
      "  label 0: 2000\n",
      "  label 1: 200\n",
      "  label 2: 200\n",
      "  label 3: 200\n",
      "  label 4: 200\n",
      "  label 5: 200\n",
      "  label 6: 200\n",
      "  label 7: 200\n",
      "  label 8: 200\n",
      "  label 9: 200\n",
      "  label 10: 200\n",
      "  label 11: 200\n",
      "  label 12: 200\n",
      "  label 13: 200\n",
      "  label 14: 200\n",
      "  label 15: 200\n",
      "  label 16: 200\n",
      "  label 17: 200\n",
      "  label 18: 200\n",
      "  label 19: 200\n",
      "  label 20: 200\n",
      "  label 21: 200\n",
      "  label 22: 200\n",
      "  label 23: 200\n",
      "  label 24: 200\n",
      "  label 25: 200\n",
      "  label 26: 200\n",
      "  label 27: 200\n",
      "  label 28: 200\n",
      "  label 29: 200\n",
      "  label 30: 200\n",
      "  label 31: 200\n",
      "  label 32: 200\n",
      "  label 33: 200\n",
      "  label 34: 200\n",
      "  label 35: 200\n",
      "  label 36: 200\n",
      "  label 37: 200\n",
      "  label 38: 200\n",
      "  label 39: 200\n",
      "  label 40: 200\n",
      "  label 41: 200\n",
      "  label 42: 200\n",
      "  label 43: 200\n",
      "  label 44: 200\n",
      "  label 45: 242\n",
      "  label 46: 200\n",
      "  label 47: 200\n",
      "model is bert-base-uncased cnn\n",
      "Epoch 1/20\n"
     ]
    },
    {
     "name": "stderr",
     "output_type": "stream",
     "text": [
      "100%|██████████| 716/716 [01:01<00:00, 11.60it/s]\n"
     ]
    },
    {
     "name": "stdout",
     "output_type": "stream",
     "text": [
      "{'val_loss': 1.418380139077582, 'val_accuracy': 0.6125095347063311, 'precision': 0.6409978643405864, 'recall': 0.6125095347063311, 'f1-score': 0.6101978515628222, 'macro_f1-score': 0.40191470267413054, 'balanced_accuracy': 0.44323432955491127, 'mcc': 0.49984868215234285, 'train_loss': 1.997934558413215}\n",
      "Epoch 2/20\n"
     ]
    },
    {
     "name": "stderr",
     "output_type": "stream",
     "text": [
      "100%|██████████| 716/716 [01:01<00:00, 11.56it/s]\n"
     ]
    },
    {
     "name": "stdout",
     "output_type": "stream",
     "text": [
      "{'val_loss': 1.4459948012741601, 'val_accuracy': 0.6498855835240275, 'precision': 0.6593542332058864, 'recall': 0.6498855835240275, 'f1-score': 0.6410599137709343, 'macro_f1-score': 0.4426358539722335, 'balanced_accuracy': 0.47613100056082985, 'mcc': 0.5470909807483886, 'train_loss': 0.5236116653755724}\n",
      "Epoch 3/20\n"
     ]
    },
    {
     "name": "stderr",
     "output_type": "stream",
     "text": [
      "100%|██████████| 716/716 [01:01<00:00, 11.56it/s]\n"
     ]
    },
    {
     "name": "stdout",
     "output_type": "stream",
     "text": [
      "{'val_loss': 1.5587291979208224, 'val_accuracy': 0.6475972540045767, 'precision': 0.6645262537018096, 'recall': 0.6475972540045767, 'f1-score': 0.6492867026593963, 'macro_f1-score': 0.46317648565017194, 'balanced_accuracy': 0.49135570324210387, 'mcc': 0.5515262418656537, 'train_loss': 0.22637835112738544}\n",
      "Epoch 4/20\n"
     ]
    },
    {
     "name": "stderr",
     "output_type": "stream",
     "text": [
      "100%|██████████| 716/716 [01:01<00:00, 11.57it/s]\n"
     ]
    },
    {
     "name": "stdout",
     "output_type": "stream",
     "text": [
      "{'val_loss': 1.887606086890872, 'val_accuracy': 0.6048817696414951, 'precision': 0.6638957851221262, 'recall': 0.6048817696414951, 'f1-score': 0.6171317811540341, 'macro_f1-score': 0.41888589964878675, 'balanced_accuracy': 0.4467221413291295, 'mcc': 0.5080034255653223, 'train_loss': 0.1316638725612042}\n",
      "Epoch 5/20\n"
     ]
    },
    {
     "name": "stderr",
     "output_type": "stream",
     "text": [
      "100%|██████████| 716/716 [01:01<00:00, 11.57it/s]\n"
     ]
    },
    {
     "name": "stdout",
     "output_type": "stream",
     "text": [
      "{'val_loss': 1.7598824697296793, 'val_accuracy': 0.6475972540045767, 'precision': 0.6562037956746006, 'recall': 0.6475972540045767, 'f1-score': 0.6404042134821862, 'macro_f1-score': 0.41079644954810296, 'balanced_accuracy': 0.4047433411767374, 'mcc': 0.5401008951602481, 'train_loss': 0.1014353528731976}\n",
      "Epoch 6/20\n"
     ]
    },
    {
     "name": "stderr",
     "output_type": "stream",
     "text": [
      "100%|██████████| 716/716 [01:01<00:00, 11.59it/s]\n"
     ]
    },
    {
     "name": "stdout",
     "output_type": "stream",
     "text": [
      "{'val_loss': 1.8603315022660465, 'val_accuracy': 0.6575133485888635, 'precision': 0.6840586395705633, 'recall': 0.6575133485888635, 'f1-score': 0.6497207494069491, 'macro_f1-score': 0.4099543249130977, 'balanced_accuracy': 0.4000545747279511, 'mcc': 0.5516465203185578, 'train_loss': 0.07864723211887953}\n",
      "Early stopping.\n",
      "\n",
      " === bert-base-uncased + cnn + ros Final 5-fold Cross-Validation Results ===\n",
      "val_loss: 1.6947\n",
      "val_accuracy: 0.6473\n",
      "precision: 0.6519\n",
      "recall: 0.6473\n",
      "f1-score: 0.6354\n",
      "macro_f1-score: 0.4231\n",
      "balanced_accuracy: 0.4230\n",
      "mcc: 0.5339\n",
      "train_loss: 0.2216\n",
      "total_seconds: 2097.0000\n",
      "total_time: 0 hrs 34 mins 57 secs\n",
      "▶ Running: bert-base-uncased + lstm + ros\n",
      "tokenizer is bert-base-uncased\n",
      "Using device: cuda\n",
      "CUDA Available: True\n",
      "CUDA Device: NVIDIA GeForce RTX 5070 Ti\n",
      "Current GPU Memory Allocated: 0.02 GB\n",
      "Current GPU Memory Cached: 3.14 GB\n",
      "\n",
      "[Fold 1]\n",
      "Label distribution after resampling:\n",
      "  label 0: 2000\n",
      "  label 1: 200\n",
      "  label 2: 200\n",
      "  label 3: 200\n",
      "  label 4: 200\n",
      "  label 5: 200\n",
      "  label 6: 200\n",
      "  label 7: 200\n",
      "  label 8: 200\n",
      "  label 9: 200\n",
      "  label 10: 200\n",
      "  label 11: 200\n",
      "  label 12: 200\n",
      "  label 13: 200\n",
      "  label 14: 200\n",
      "  label 15: 200\n",
      "  label 16: 200\n",
      "  label 17: 200\n",
      "  label 18: 200\n",
      "  label 19: 200\n",
      "  label 20: 200\n",
      "  label 21: 200\n",
      "  label 22: 200\n",
      "  label 23: 200\n",
      "  label 24: 200\n",
      "  label 25: 200\n",
      "  label 26: 200\n",
      "  label 27: 200\n",
      "  label 28: 200\n",
      "  label 29: 200\n",
      "  label 30: 200\n",
      "  label 31: 200\n",
      "  label 32: 200\n",
      "  label 33: 200\n",
      "  label 34: 200\n",
      "  label 35: 200\n",
      "  label 36: 200\n",
      "  label 37: 200\n",
      "  label 38: 200\n",
      "  label 39: 200\n",
      "  label 40: 200\n",
      "  label 41: 200\n",
      "  label 42: 200\n",
      "  label 43: 200\n",
      "  label 44: 200\n",
      "  label 45: 242\n",
      "  label 46: 200\n",
      "  label 47: 200\n",
      "model is bert-base-uncased lstm\n",
      "Epoch 1/20\n"
     ]
    },
    {
     "name": "stderr",
     "output_type": "stream",
     "text": [
      "100%|██████████| 716/716 [01:06<00:00, 10.76it/s]\n"
     ]
    },
    {
     "name": "stdout",
     "output_type": "stream",
     "text": [
      "{'val_loss': 1.774435272304023, 'val_accuracy': 0.5472560975609756, 'precision': 0.5977543071830981, 'recall': 0.5472560975609756, 'f1-score': 0.5277875204944356, 'macro_f1-score': 0.31943644388808007, 'balanced_accuracy': 0.38179373922178095, 'mcc': 0.3933218976289116, 'train_loss': 2.341333985162181}\n",
      "Epoch 2/20\n"
     ]
    },
    {
     "name": "stderr",
     "output_type": "stream",
     "text": [
      "100%|██████████| 716/716 [01:06<00:00, 10.79it/s]\n"
     ]
    },
    {
     "name": "stdout",
     "output_type": "stream",
     "text": [
      "{'val_loss': 1.6159624540951194, 'val_accuracy': 0.59375, 'precision': 0.6029248430559997, 'recall': 0.59375, 'f1-score': 0.575488857659206, 'macro_f1-score': 0.3671927898841825, 'balanced_accuracy': 0.3848924192716303, 'mcc': 0.4557924022669922, 'train_loss': 1.0237898662811218}\n",
      "Epoch 3/20\n"
     ]
    },
    {
     "name": "stderr",
     "output_type": "stream",
     "text": [
      "100%|██████████| 716/716 [01:06<00:00, 10.76it/s]\n"
     ]
    },
    {
     "name": "stdout",
     "output_type": "stream",
     "text": [
      "{'val_loss': 1.6074361452242223, 'val_accuracy': 0.614329268292683, 'precision': 0.6365230391934837, 'recall': 0.614329268292683, 'f1-score': 0.6122767329628381, 'macro_f1-score': 0.4079692864645435, 'balanced_accuracy': 0.42878081288727493, 'mcc': 0.4972583435216969, 'train_loss': 0.6072152358006332}\n",
      "Epoch 4/20\n"
     ]
    },
    {
     "name": "stderr",
     "output_type": "stream",
     "text": [
      "100%|██████████| 716/716 [01:06<00:00, 10.81it/s]\n"
     ]
    },
    {
     "name": "stdout",
     "output_type": "stream",
     "text": [
      "{'val_loss': 1.5962283073402033, 'val_accuracy': 0.6242378048780488, 'precision': 0.6126522932374484, 'recall': 0.6242378048780488, 'f1-score': 0.601644611594748, 'macro_f1-score': 0.38993316711970943, 'balanced_accuracy': 0.4022839995509342, 'mcc': 0.49081346365310774, 'train_loss': 0.47236155205557134}\n",
      "Epoch 5/20\n"
     ]
    },
    {
     "name": "stderr",
     "output_type": "stream",
     "text": [
      "100%|██████████| 716/716 [01:06<00:00, 10.80it/s]\n"
     ]
    },
    {
     "name": "stdout",
     "output_type": "stream",
     "text": [
      "{'val_loss': 1.7014268382293423, 'val_accuracy': 0.6379573170731707, 'precision': 0.6326869721523337, 'recall': 0.6379573170731707, 'f1-score': 0.6128455290642622, 'macro_f1-score': 0.3929585276166478, 'balanced_accuracy': 0.37394689288378524, 'mcc': 0.5011737454837659, 'train_loss': 0.34301671343101137}\n",
      "Epoch 6/20\n"
     ]
    },
    {
     "name": "stderr",
     "output_type": "stream",
     "text": [
      "100%|██████████| 716/716 [01:06<00:00, 10.81it/s]\n"
     ]
    },
    {
     "name": "stdout",
     "output_type": "stream",
     "text": [
      "{'val_loss': 1.6682576464443672, 'val_accuracy': 0.6471036585365854, 'precision': 0.6281532198612327, 'recall': 0.6471036585365854, 'f1-score': 0.6254515305158308, 'macro_f1-score': 0.3899649393487529, 'balanced_accuracy': 0.37402937141233106, 'mcc': 0.5178393193577443, 'train_loss': 0.3046610599003899}\n",
      "Early stopping.\n",
      "\n",
      "[Fold 2]\n",
      "Label distribution after resampling:\n",
      "  label 0: 2000\n",
      "  label 1: 200\n",
      "  label 2: 200\n",
      "  label 3: 200\n",
      "  label 4: 200\n",
      "  label 5: 200\n",
      "  label 6: 200\n",
      "  label 7: 200\n",
      "  label 8: 200\n",
      "  label 9: 200\n",
      "  label 10: 200\n",
      "  label 11: 200\n",
      "  label 12: 200\n",
      "  label 13: 200\n",
      "  label 14: 200\n",
      "  label 15: 200\n",
      "  label 16: 200\n",
      "  label 17: 200\n",
      "  label 18: 200\n",
      "  label 19: 200\n",
      "  label 20: 200\n",
      "  label 21: 200\n",
      "  label 22: 200\n",
      "  label 23: 200\n",
      "  label 24: 200\n",
      "  label 25: 200\n",
      "  label 26: 200\n",
      "  label 27: 200\n",
      "  label 28: 200\n",
      "  label 29: 200\n",
      "  label 30: 200\n",
      "  label 31: 200\n",
      "  label 32: 200\n",
      "  label 33: 200\n",
      "  label 34: 200\n",
      "  label 35: 200\n",
      "  label 36: 200\n",
      "  label 37: 200\n",
      "  label 38: 200\n",
      "  label 39: 200\n",
      "  label 40: 200\n",
      "  label 41: 200\n",
      "  label 42: 200\n",
      "  label 43: 200\n",
      "  label 44: 200\n",
      "  label 45: 242\n",
      "  label 46: 200\n",
      "  label 47: 200\n",
      "model is bert-base-uncased lstm\n",
      "Epoch 1/20\n"
     ]
    },
    {
     "name": "stderr",
     "output_type": "stream",
     "text": [
      "100%|██████████| 716/716 [01:06<00:00, 10.78it/s]\n"
     ]
    },
    {
     "name": "stdout",
     "output_type": "stream",
     "text": [
      "{'val_loss': 1.7437327358780839, 'val_accuracy': 0.5568268497330282, 'precision': 0.564415327152572, 'recall': 0.5568268497330282, 'f1-score': 0.5352045642660704, 'macro_f1-score': 0.2929877145914989, 'balanced_accuracy': 0.36268699964429524, 'mcc': 0.41264794214819506, 'train_loss': 2.283425738067267}\n",
      "Epoch 2/20\n"
     ]
    },
    {
     "name": "stderr",
     "output_type": "stream",
     "text": [
      "100%|██████████| 716/716 [01:06<00:00, 10.72it/s]\n"
     ]
    },
    {
     "name": "stdout",
     "output_type": "stream",
     "text": [
      "{'val_loss': 1.5605457541419239, 'val_accuracy': 0.5987795575896262, 'precision': 0.6035592776496035, 'recall': 0.5987795575896262, 'f1-score': 0.588055518202758, 'macro_f1-score': 0.3580238688421371, 'balanced_accuracy': 0.36966279511397365, 'mcc': 0.46144461777411555, 'train_loss': 0.9712830023142879}\n",
      "Epoch 3/20\n"
     ]
    },
    {
     "name": "stderr",
     "output_type": "stream",
     "text": [
      "100%|██████████| 716/716 [01:06<00:00, 10.78it/s]\n"
     ]
    },
    {
     "name": "stdout",
     "output_type": "stream",
     "text": [
      "{'val_loss': 1.7159319447308052, 'val_accuracy': 0.5675057208237986, 'precision': 0.6100302733809171, 'recall': 0.5675057208237986, 'f1-score': 0.5758286128058138, 'macro_f1-score': 0.366150713196604, 'balanced_accuracy': 0.3990985608131961, 'mcc': 0.45113965490584496, 'train_loss': 0.5787419477508887}\n",
      "Epoch 4/20\n"
     ]
    },
    {
     "name": "stderr",
     "output_type": "stream",
     "text": [
      "100%|██████████| 716/716 [01:06<00:00, 10.82it/s]\n"
     ]
    },
    {
     "name": "stdout",
     "output_type": "stream",
     "text": [
      "{'val_loss': 1.6350212722289852, 'val_accuracy': 0.6224256292906178, 'precision': 0.611203787755804, 'recall': 0.6224256292906178, 'f1-score': 0.6060793000440374, 'macro_f1-score': 0.35264144205504944, 'balanced_accuracy': 0.37492396549873064, 'mcc': 0.5014625567142946, 'train_loss': 0.3768201062726325}\n",
      "Epoch 5/20\n"
     ]
    },
    {
     "name": "stderr",
     "output_type": "stream",
     "text": [
      "100%|██████████| 716/716 [01:06<00:00, 10.79it/s]\n"
     ]
    },
    {
     "name": "stdout",
     "output_type": "stream",
     "text": [
      "{'val_loss': 1.696084786479066, 'val_accuracy': 0.620137299771167, 'precision': 0.6000248978945903, 'recall': 0.620137299771167, 'f1-score': 0.5977260984728355, 'macro_f1-score': 0.346303277247197, 'balanced_accuracy': 0.35800466596037445, 'mcc': 0.49524621948728803, 'train_loss': 0.29078109348036724}\n",
      "Epoch 6/20\n"
     ]
    },
    {
     "name": "stderr",
     "output_type": "stream",
     "text": [
      "100%|██████████| 716/716 [01:06<00:00, 10.78it/s]\n"
     ]
    },
    {
     "name": "stdout",
     "output_type": "stream",
     "text": [
      "{'val_loss': 1.8261749831641592, 'val_accuracy': 0.6094584286803967, 'precision': 0.6210373793552971, 'recall': 0.6094584286803967, 'f1-score': 0.6088855963308156, 'macro_f1-score': 0.34579894704371456, 'balanced_accuracy': 0.36294607603346, 'mcc': 0.4921732525781183, 'train_loss': 0.2195938360492319}\n",
      "Early stopping.\n",
      "\n",
      "[Fold 3]\n",
      "Label distribution after resampling:\n",
      "  label 0: 2000\n",
      "  label 1: 200\n",
      "  label 2: 200\n",
      "  label 3: 200\n",
      "  label 4: 200\n",
      "  label 5: 200\n",
      "  label 6: 200\n",
      "  label 7: 200\n",
      "  label 8: 200\n",
      "  label 9: 200\n",
      "  label 10: 200\n",
      "  label 11: 200\n",
      "  label 12: 200\n",
      "  label 13: 200\n",
      "  label 14: 200\n",
      "  label 15: 200\n",
      "  label 16: 200\n",
      "  label 17: 200\n",
      "  label 18: 200\n",
      "  label 19: 200\n",
      "  label 20: 200\n",
      "  label 21: 200\n",
      "  label 22: 200\n",
      "  label 23: 200\n",
      "  label 24: 200\n",
      "  label 25: 200\n",
      "  label 26: 200\n",
      "  label 27: 200\n",
      "  label 28: 200\n",
      "  label 29: 200\n",
      "  label 30: 200\n",
      "  label 31: 200\n",
      "  label 32: 200\n",
      "  label 33: 200\n",
      "  label 34: 200\n",
      "  label 35: 200\n",
      "  label 36: 200\n",
      "  label 37: 200\n",
      "  label 38: 200\n",
      "  label 39: 200\n",
      "  label 40: 200\n",
      "  label 41: 200\n",
      "  label 42: 200\n",
      "  label 43: 200\n",
      "  label 44: 200\n",
      "  label 45: 241\n",
      "  label 46: 200\n",
      "  label 47: 200\n",
      "model is bert-base-uncased lstm\n",
      "Epoch 1/20\n"
     ]
    },
    {
     "name": "stderr",
     "output_type": "stream",
     "text": [
      "100%|██████████| 716/716 [01:06<00:00, 10.77it/s]\n"
     ]
    },
    {
     "name": "stdout",
     "output_type": "stream",
     "text": [
      "{'val_loss': 1.8457005830799662, 'val_accuracy': 0.5278413424866514, 'precision': 0.5660088456642759, 'recall': 0.5278413424866514, 'f1-score': 0.520104227156253, 'macro_f1-score': 0.29492586777797347, 'balanced_accuracy': 0.37704367948979445, 'mcc': 0.38680344191043275, 'train_loss': 2.316308169807802}\n",
      "Epoch 2/20\n"
     ]
    },
    {
     "name": "stderr",
     "output_type": "stream",
     "text": [
      "100%|██████████| 716/716 [01:06<00:00, 10.78it/s]\n"
     ]
    },
    {
     "name": "stdout",
     "output_type": "stream",
     "text": [
      "{'val_loss': 1.5694869782139615, 'val_accuracy': 0.5873379099923722, 'precision': 0.5955183326237704, 'recall': 0.5873379099923722, 'f1-score': 0.5769208111893901, 'macro_f1-score': 0.34646523904894383, 'balanced_accuracy': 0.3625848092419138, 'mcc': 0.4505536382587895, 'train_loss': 1.0024403141572156}\n",
      "Epoch 3/20\n"
     ]
    },
    {
     "name": "stderr",
     "output_type": "stream",
     "text": [
      "100%|██████████| 716/716 [01:06<00:00, 10.80it/s]\n"
     ]
    },
    {
     "name": "stdout",
     "output_type": "stream",
     "text": [
      "{'val_loss': 1.6270149390145046, 'val_accuracy': 0.6109839816933639, 'precision': 0.6231692509853, 'recall': 0.6109839816933639, 'f1-score': 0.608285343527613, 'macro_f1-score': 0.39265041739067946, 'balanced_accuracy': 0.4054577947941964, 'mcc': 0.4896421208862226, 'train_loss': 0.6118778693151541}\n",
      "Epoch 4/20\n"
     ]
    },
    {
     "name": "stderr",
     "output_type": "stream",
     "text": [
      "100%|██████████| 716/716 [01:06<00:00, 10.80it/s]\n"
     ]
    },
    {
     "name": "stdout",
     "output_type": "stream",
     "text": [
      "{'val_loss': 1.6344660291584527, 'val_accuracy': 0.6018306636155606, 'precision': 0.6143468694386723, 'recall': 0.6018306636155606, 'f1-score': 0.6017775365406665, 'macro_f1-score': 0.37565078352220876, 'balanced_accuracy': 0.39609630715211197, 'mcc': 0.48896920812842054, 'train_loss': 0.44913706285410754}\n",
      "Epoch 5/20\n"
     ]
    },
    {
     "name": "stderr",
     "output_type": "stream",
     "text": [
      "100%|██████████| 716/716 [01:06<00:00, 10.80it/s]\n"
     ]
    },
    {
     "name": "stdout",
     "output_type": "stream",
     "text": [
      "{'val_loss': 1.670679409329484, 'val_accuracy': 0.6384439359267735, 'precision': 0.6120320695906433, 'recall': 0.6384439359267735, 'f1-score': 0.6107518344014812, 'macro_f1-score': 0.38083283878662816, 'balanced_accuracy': 0.36595787588906115, 'mcc': 0.504998948537483, 'train_loss': 0.31762054614597857}\n",
      "Epoch 6/20\n"
     ]
    },
    {
     "name": "stderr",
     "output_type": "stream",
     "text": [
      "100%|██████████| 716/716 [01:06<00:00, 10.80it/s]\n"
     ]
    },
    {
     "name": "stdout",
     "output_type": "stream",
     "text": [
      "{'val_loss': 1.7055322636918324, 'val_accuracy': 0.6254767353165522, 'precision': 0.6276973328394942, 'recall': 0.6254767353165522, 'f1-score': 0.6168641839010262, 'macro_f1-score': 0.4024076837717625, 'balanced_accuracy': 0.39763846707204326, 'mcc': 0.5081901467209152, 'train_loss': 0.24243565211228651}\n",
      "Epoch 7/20\n"
     ]
    },
    {
     "name": "stderr",
     "output_type": "stream",
     "text": [
      "100%|██████████| 716/716 [01:06<00:00, 10.79it/s]\n"
     ]
    },
    {
     "name": "stdout",
     "output_type": "stream",
     "text": [
      "{'val_loss': 1.7890447906059463, 'val_accuracy': 0.6300533943554538, 'precision': 0.6291029586745674, 'recall': 0.6300533943554538, 'f1-score': 0.6184658145129978, 'macro_f1-score': 0.4230610927996319, 'balanced_accuracy': 0.417558404539397, 'mcc': 0.5092732314457147, 'train_loss': 0.20242904119360047}\n",
      "Epoch 8/20\n"
     ]
    },
    {
     "name": "stderr",
     "output_type": "stream",
     "text": [
      "100%|██████████| 716/716 [01:06<00:00, 10.79it/s]\n"
     ]
    },
    {
     "name": "stdout",
     "output_type": "stream",
     "text": [
      "{'val_loss': 1.8746103044690154, 'val_accuracy': 0.623951182303585, 'precision': 0.616470140837315, 'recall': 0.623951182303585, 'f1-score': 0.6079729104692594, 'macro_f1-score': 0.3915424082779808, 'balanced_accuracy': 0.3653261976074475, 'mcc': 0.49882947976635417, 'train_loss': 0.21040322323454616}\n",
      "Epoch 9/20\n"
     ]
    },
    {
     "name": "stderr",
     "output_type": "stream",
     "text": [
      "100%|██████████| 716/716 [01:06<00:00, 10.83it/s]\n"
     ]
    },
    {
     "name": "stdout",
     "output_type": "stream",
     "text": [
      "{'val_loss': 1.8270711400432558, 'val_accuracy': 0.6407322654462243, 'precision': 0.6422727162871287, 'recall': 0.6407322654462243, 'f1-score': 0.633772819968868, 'macro_f1-score': 0.4334634764509344, 'balanced_accuracy': 0.41135491786248085, 'mcc': 0.5259018845246844, 'train_loss': 0.13696846442801786}\n",
      "Epoch 10/20\n"
     ]
    },
    {
     "name": "stderr",
     "output_type": "stream",
     "text": [
      "100%|██████████| 716/716 [01:06<00:00, 10.80it/s]\n"
     ]
    },
    {
     "name": "stdout",
     "output_type": "stream",
     "text": [
      "{'val_loss': 1.9241554288239013, 'val_accuracy': 0.6170861937452327, 'precision': 0.6351655018897924, 'recall': 0.6170861937452327, 'f1-score': 0.6149074847283946, 'macro_f1-score': 0.41712006185567535, 'balanced_accuracy': 0.40101416895743, 'mcc': 0.49820869095507947, 'train_loss': 0.12309356973709425}\n",
      "Epoch 11/20\n"
     ]
    },
    {
     "name": "stderr",
     "output_type": "stream",
     "text": [
      "100%|██████████| 716/716 [01:06<00:00, 10.75it/s]\n"
     ]
    },
    {
     "name": "stdout",
     "output_type": "stream",
     "text": [
      "{'val_loss': 1.9570122779142567, 'val_accuracy': 0.6384439359267735, 'precision': 0.6195560127905587, 'recall': 0.6384439359267735, 'f1-score': 0.6149223307033935, 'macro_f1-score': 0.40425737986618754, 'balanced_accuracy': 0.37259543923236754, 'mcc': 0.5100633304670267, 'train_loss': 0.14724126066778417}\n",
      "Epoch 12/20\n"
     ]
    },
    {
     "name": "stderr",
     "output_type": "stream",
     "text": [
      "100%|██████████| 716/716 [01:06<00:00, 10.78it/s]\n"
     ]
    },
    {
     "name": "stdout",
     "output_type": "stream",
     "text": [
      "{'val_loss': 1.9830469370978634, 'val_accuracy': 0.6025934401220442, 'precision': 0.6195703265470379, 'recall': 0.6025934401220442, 'f1-score': 0.5993382695220767, 'macro_f1-score': 0.3646458381832567, 'balanced_accuracy': 0.3585085270721109, 'mcc': 0.4795474544779379, 'train_loss': 0.09832432720024534}\n",
      "Early stopping.\n",
      "\n",
      "[Fold 4]\n",
      "Label distribution after resampling:\n",
      "  label 0: 2000\n",
      "  label 1: 200\n",
      "  label 2: 200\n",
      "  label 3: 200\n",
      "  label 4: 200\n",
      "  label 5: 200\n",
      "  label 6: 200\n",
      "  label 7: 200\n",
      "  label 8: 200\n",
      "  label 9: 200\n",
      "  label 10: 200\n",
      "  label 11: 200\n",
      "  label 12: 200\n",
      "  label 13: 200\n",
      "  label 14: 200\n",
      "  label 15: 200\n",
      "  label 16: 200\n",
      "  label 17: 200\n",
      "  label 18: 200\n",
      "  label 19: 200\n",
      "  label 20: 200\n",
      "  label 21: 200\n",
      "  label 22: 200\n",
      "  label 23: 200\n",
      "  label 24: 200\n",
      "  label 25: 200\n",
      "  label 26: 200\n",
      "  label 27: 200\n",
      "  label 28: 200\n",
      "  label 29: 200\n",
      "  label 30: 200\n",
      "  label 31: 200\n",
      "  label 32: 200\n",
      "  label 33: 200\n",
      "  label 34: 200\n",
      "  label 35: 200\n",
      "  label 36: 200\n",
      "  label 37: 200\n",
      "  label 38: 200\n",
      "  label 39: 200\n",
      "  label 40: 200\n",
      "  label 41: 200\n",
      "  label 42: 200\n",
      "  label 43: 200\n",
      "  label 44: 200\n",
      "  label 45: 241\n",
      "  label 46: 200\n",
      "  label 47: 200\n",
      "model is bert-base-uncased lstm\n",
      "Epoch 1/20\n"
     ]
    },
    {
     "name": "stderr",
     "output_type": "stream",
     "text": [
      "100%|██████████| 716/716 [01:06<00:00, 10.77it/s]\n"
     ]
    },
    {
     "name": "stdout",
     "output_type": "stream",
     "text": [
      "{'val_loss': 1.6665691533466664, 'val_accuracy': 0.5736079328756675, 'precision': 0.546862483799904, 'recall': 0.5736079328756675, 'f1-score': 0.5219959494365934, 'macro_f1-score': 0.3013352961990924, 'balanced_accuracy': 0.37986607244365417, 'mcc': 0.41654430468479153, 'train_loss': 2.275837412260098}\n",
      "Epoch 2/20\n"
     ]
    },
    {
     "name": "stderr",
     "output_type": "stream",
     "text": [
      "100%|██████████| 716/716 [01:06<00:00, 10.78it/s]\n"
     ]
    },
    {
     "name": "stdout",
     "output_type": "stream",
     "text": [
      "{'val_loss': 1.7582727939617344, 'val_accuracy': 0.547673531655225, 'precision': 0.637710831433622, 'recall': 0.547673531655225, 'f1-score': 0.5754164716508174, 'macro_f1-score': 0.384018294949197, 'balanced_accuracy': 0.44065877526218467, 'mcc': 0.44939076508522346, 'train_loss': 0.9918207768246782}\n",
      "Epoch 3/20\n"
     ]
    },
    {
     "name": "stderr",
     "output_type": "stream",
     "text": [
      "100%|██████████| 716/716 [01:06<00:00, 10.77it/s]\n"
     ]
    },
    {
     "name": "stdout",
     "output_type": "stream",
     "text": [
      "{'val_loss': 1.4838358127489322, 'val_accuracy': 0.631578947368421, 'precision': 0.6364359346749531, 'recall': 0.631578947368421, 'f1-score': 0.6104695513024594, 'macro_f1-score': 0.406388467442723, 'balanced_accuracy': 0.4053556021499524, 'mcc': 0.5047591006049367, 'train_loss': 0.6545565685663144}\n",
      "Epoch 4/20\n"
     ]
    },
    {
     "name": "stderr",
     "output_type": "stream",
     "text": [
      "100%|██████████| 716/716 [01:06<00:00, 10.78it/s]\n"
     ]
    },
    {
     "name": "stdout",
     "output_type": "stream",
     "text": [
      "{'val_loss': 1.6024514429452943, 'val_accuracy': 0.5964912280701754, 'precision': 0.624715992869243, 'recall': 0.5964912280701754, 'f1-score': 0.6020795277036626, 'macro_f1-score': 0.38517089325904635, 'balanced_accuracy': 0.40337187033900923, 'mcc': 0.48702034945716255, 'train_loss': 0.4603419486880719}\n",
      "Epoch 5/20\n"
     ]
    },
    {
     "name": "stderr",
     "output_type": "stream",
     "text": [
      "100%|██████████| 716/716 [01:06<00:00, 10.75it/s]\n"
     ]
    },
    {
     "name": "stdout",
     "output_type": "stream",
     "text": [
      "{'val_loss': 1.6205820492128047, 'val_accuracy': 0.6331045003813882, 'precision': 0.6627515869593739, 'recall': 0.6331045003813882, 'f1-score': 0.6376606627405506, 'macro_f1-score': 0.40700731915040994, 'balanced_accuracy': 0.42227702241188697, 'mcc': 0.5346665708383684, 'train_loss': 0.3695425230791199}\n",
      "Epoch 6/20\n"
     ]
    },
    {
     "name": "stderr",
     "output_type": "stream",
     "text": [
      "100%|██████████| 716/716 [01:06<00:00, 10.79it/s]\n"
     ]
    },
    {
     "name": "stdout",
     "output_type": "stream",
     "text": [
      "{'val_loss': 1.6646211659762917, 'val_accuracy': 0.6361556064073226, 'precision': 0.6555234645785697, 'recall': 0.6361556064073226, 'f1-score': 0.6343337152024612, 'macro_f1-score': 0.41323194993677026, 'balanced_accuracy': 0.4181001111583531, 'mcc': 0.5276640366289217, 'train_loss': 0.24156216831029753}\n",
      "Epoch 7/20\n"
     ]
    },
    {
     "name": "stderr",
     "output_type": "stream",
     "text": [
      "100%|██████████| 716/716 [01:06<00:00, 10.81it/s]\n"
     ]
    },
    {
     "name": "stdout",
     "output_type": "stream",
     "text": [
      "{'val_loss': 1.7006806062489022, 'val_accuracy': 0.6460717009916095, 'precision': 0.6370916022838211, 'recall': 0.6460717009916095, 'f1-score': 0.6342713316121789, 'macro_f1-score': 0.412850139546966, 'balanced_accuracy': 0.41368879151583, 'mcc': 0.5288338957360057, 'train_loss': 0.2158341788421463}\n",
      "Epoch 8/20\n"
     ]
    },
    {
     "name": "stderr",
     "output_type": "stream",
     "text": [
      "100%|██████████| 716/716 [01:06<00:00, 10.77it/s]\n"
     ]
    },
    {
     "name": "stdout",
     "output_type": "stream",
     "text": [
      "{'val_loss': 1.7270022016472932, 'val_accuracy': 0.6369183829138062, 'precision': 0.6464743756275269, 'recall': 0.6369183829138062, 'f1-score': 0.6309004476594099, 'macro_f1-score': 0.40358662091139247, 'balanced_accuracy': 0.41172904020605, 'mcc': 0.5274524806886618, 'train_loss': 0.17290193660382452}\n",
      "Epoch 9/20\n"
     ]
    },
    {
     "name": "stderr",
     "output_type": "stream",
     "text": [
      "100%|██████████| 716/716 [01:06<00:00, 10.79it/s]\n"
     ]
    },
    {
     "name": "stdout",
     "output_type": "stream",
     "text": [
      "{'val_loss': 1.8216662450534542, 'val_accuracy': 0.6437833714721587, 'precision': 0.6290099998456521, 'recall': 0.6437833714721587, 'f1-score': 0.6211358349404823, 'macro_f1-score': 0.40572392529791906, 'balanced_accuracy': 0.3948110564709009, 'mcc': 0.5151811745080193, 'train_loss': 0.1669807895502939}\n",
      "Early stopping.\n",
      "\n",
      "[Fold 5]\n",
      "Label distribution after resampling:\n",
      "  label 0: 2000\n",
      "  label 1: 200\n",
      "  label 2: 200\n",
      "  label 3: 200\n",
      "  label 4: 200\n",
      "  label 5: 200\n",
      "  label 6: 200\n",
      "  label 7: 200\n",
      "  label 8: 200\n",
      "  label 9: 200\n",
      "  label 10: 200\n",
      "  label 11: 200\n",
      "  label 12: 200\n",
      "  label 13: 200\n",
      "  label 14: 200\n",
      "  label 15: 200\n",
      "  label 16: 200\n",
      "  label 17: 200\n",
      "  label 18: 200\n",
      "  label 19: 200\n",
      "  label 20: 200\n",
      "  label 21: 200\n",
      "  label 22: 200\n",
      "  label 23: 200\n",
      "  label 24: 200\n",
      "  label 25: 200\n",
      "  label 26: 200\n",
      "  label 27: 200\n",
      "  label 28: 200\n",
      "  label 29: 200\n",
      "  label 30: 200\n",
      "  label 31: 200\n",
      "  label 32: 200\n",
      "  label 33: 200\n",
      "  label 34: 200\n",
      "  label 35: 200\n",
      "  label 36: 200\n",
      "  label 37: 200\n",
      "  label 38: 200\n",
      "  label 39: 200\n",
      "  label 40: 200\n",
      "  label 41: 200\n",
      "  label 42: 200\n",
      "  label 43: 200\n",
      "  label 44: 200\n",
      "  label 45: 242\n",
      "  label 46: 200\n",
      "  label 47: 200\n",
      "model is bert-base-uncased lstm\n",
      "Epoch 1/20\n"
     ]
    },
    {
     "name": "stderr",
     "output_type": "stream",
     "text": [
      "100%|██████████| 716/716 [01:06<00:00, 10.79it/s]\n"
     ]
    },
    {
     "name": "stdout",
     "output_type": "stream",
     "text": [
      "{'val_loss': 1.7168019959112493, 'val_accuracy': 0.5484363081617086, 'precision': 0.5839704726285194, 'recall': 0.5484363081617086, 'f1-score': 0.5347373137726655, 'macro_f1-score': 0.316659736241833, 'balanced_accuracy': 0.3997903087347235, 'mcc': 0.41380097466518784, 'train_loss': 2.229812554640477}\n",
      "Epoch 2/20\n"
     ]
    },
    {
     "name": "stderr",
     "output_type": "stream",
     "text": [
      "100%|██████████| 716/716 [01:06<00:00, 10.79it/s]\n"
     ]
    },
    {
     "name": "stdout",
     "output_type": "stream",
     "text": [
      "{'val_loss': 1.4902374929771192, 'val_accuracy': 0.627765064836003, 'precision': 0.6222475778129297, 'recall': 0.627765064836003, 'f1-score': 0.5869272623540951, 'macro_f1-score': 0.37585169541277236, 'balanced_accuracy': 0.38399837353424954, 'mcc': 0.48447208956937127, 'train_loss': 0.9954295537991231}\n",
      "Epoch 3/20\n"
     ]
    },
    {
     "name": "stderr",
     "output_type": "stream",
     "text": [
      "100%|██████████| 716/716 [01:06<00:00, 10.82it/s]\n"
     ]
    },
    {
     "name": "stdout",
     "output_type": "stream",
     "text": [
      "{'val_loss': 1.5359413885488742, 'val_accuracy': 0.6155606407322655, 'precision': 0.6190259328046911, 'recall': 0.6155606407322655, 'f1-score': 0.6050655634454185, 'macro_f1-score': 0.3833676990344917, 'balanced_accuracy': 0.38199520166564566, 'mcc': 0.4903627722344992, 'train_loss': 0.6232090553466502}\n",
      "Epoch 4/20\n"
     ]
    },
    {
     "name": "stderr",
     "output_type": "stream",
     "text": [
      "100%|██████████| 716/716 [01:06<00:00, 10.77it/s]\n"
     ]
    },
    {
     "name": "stdout",
     "output_type": "stream",
     "text": [
      "{'val_loss': 1.5409610140614394, 'val_accuracy': 0.627765064836003, 'precision': 0.6389336450669528, 'recall': 0.627765064836003, 'f1-score': 0.6215038045243536, 'macro_f1-score': 0.4049114166011454, 'balanced_accuracy': 0.4049690523090772, 'mcc': 0.5104934323915014, 'train_loss': 0.45331763449078166}\n",
      "Epoch 5/20\n"
     ]
    },
    {
     "name": "stderr",
     "output_type": "stream",
     "text": [
      "100%|██████████| 716/716 [01:06<00:00, 10.81it/s]\n"
     ]
    },
    {
     "name": "stdout",
     "output_type": "stream",
     "text": [
      "{'val_loss': 1.6269869571778832, 'val_accuracy': 0.6323417238749046, 'precision': 0.6229222355826461, 'recall': 0.6323417238749046, 'f1-score': 0.6206546310886145, 'macro_f1-score': 0.42124155961201204, 'balanced_accuracy': 0.43581395353554764, 'mcc': 0.5124864512523861, 'train_loss': 0.305984192309308}\n",
      "Epoch 6/20\n"
     ]
    },
    {
     "name": "stderr",
     "output_type": "stream",
     "text": [
      "100%|██████████| 716/716 [01:06<00:00, 10.77it/s]\n"
     ]
    },
    {
     "name": "stdout",
     "output_type": "stream",
     "text": [
      "{'val_loss': 1.626794424362299, 'val_accuracy': 0.6491228070175439, 'precision': 0.6504383003554663, 'recall': 0.6491228070175439, 'f1-score': 0.6397498485231328, 'macro_f1-score': 0.420364496724019, 'balanced_accuracy': 0.39630301050612965, 'mcc': 0.5333878551344186, 'train_loss': 0.22843111582443784}\n",
      "Epoch 7/20\n"
     ]
    },
    {
     "name": "stderr",
     "output_type": "stream",
     "text": [
      "100%|██████████| 716/716 [01:06<00:00, 10.78it/s]\n"
     ]
    },
    {
     "name": "stdout",
     "output_type": "stream",
     "text": [
      "{'val_loss': 1.9070789966641404, 'val_accuracy': 0.5720823798627003, 'precision': 0.6386842000116174, 'recall': 0.5720823798627003, 'f1-score': 0.5870612935533169, 'macro_f1-score': 0.40936778119609, 'balanced_accuracy': 0.4384787773809447, 'mcc': 0.47811217846728077, 'train_loss': 0.19365689832737992}\n",
      "Epoch 8/20\n"
     ]
    },
    {
     "name": "stderr",
     "output_type": "stream",
     "text": [
      "100%|██████████| 716/716 [01:06<00:00, 10.80it/s]\n"
     ]
    },
    {
     "name": "stdout",
     "output_type": "stream",
     "text": [
      "{'val_loss': 1.694348329087583, 'val_accuracy': 0.635392829900839, 'precision': 0.6304866009492914, 'recall': 0.635392829900839, 'f1-score': 0.6259742512473574, 'macro_f1-score': 0.4017970719661966, 'balanced_accuracy': 0.4073801255406078, 'mcc': 0.5190961060094414, 'train_loss': 0.19116473628478592}\n",
      "Early stopping.\n",
      "\n",
      " === bert-base-uncased + lstm + ros Final 5-fold Cross-Validation Results ===\n",
      "val_loss: 1.6884\n",
      "val_accuracy: 0.6182\n",
      "precision: 0.6335\n",
      "recall: 0.6182\n",
      "f1-score: 0.6154\n",
      "macro_f1-score: 0.4084\n",
      "balanced_accuracy: 0.4186\n",
      "mcc: 0.5029\n",
      "train_loss: 0.3741\n",
      "total_seconds: 2878.0000\n",
      "total_time: 0 hrs 47 mins 58 secs\n",
      "▶ Running: bert-base-uncased + bilstm + ros\n",
      "tokenizer is bert-base-uncased\n",
      "Using device: cuda\n",
      "CUDA Available: True\n",
      "CUDA Device: NVIDIA GeForce RTX 5070 Ti\n",
      "Current GPU Memory Allocated: 0.02 GB\n",
      "Current GPU Memory Cached: 3.14 GB\n",
      "\n",
      "[Fold 1]\n",
      "Label distribution after resampling:\n",
      "  label 0: 2000\n",
      "  label 1: 200\n",
      "  label 2: 200\n",
      "  label 3: 200\n",
      "  label 4: 200\n",
      "  label 5: 200\n",
      "  label 6: 200\n",
      "  label 7: 200\n",
      "  label 8: 200\n",
      "  label 9: 200\n",
      "  label 10: 200\n",
      "  label 11: 200\n",
      "  label 12: 200\n",
      "  label 13: 200\n",
      "  label 14: 200\n",
      "  label 15: 200\n",
      "  label 16: 200\n",
      "  label 17: 200\n",
      "  label 18: 200\n",
      "  label 19: 200\n",
      "  label 20: 200\n",
      "  label 21: 200\n",
      "  label 22: 200\n",
      "  label 23: 200\n",
      "  label 24: 200\n",
      "  label 25: 200\n",
      "  label 26: 200\n",
      "  label 27: 200\n",
      "  label 28: 200\n",
      "  label 29: 200\n",
      "  label 30: 200\n",
      "  label 31: 200\n",
      "  label 32: 200\n",
      "  label 33: 200\n",
      "  label 34: 200\n",
      "  label 35: 200\n",
      "  label 36: 200\n",
      "  label 37: 200\n",
      "  label 38: 200\n",
      "  label 39: 200\n",
      "  label 40: 200\n",
      "  label 41: 200\n",
      "  label 42: 200\n",
      "  label 43: 200\n",
      "  label 44: 200\n",
      "  label 45: 242\n",
      "  label 46: 200\n",
      "  label 47: 200\n",
      "model is bert-base-uncased bilstm\n",
      "Epoch 1/20\n"
     ]
    },
    {
     "name": "stderr",
     "output_type": "stream",
     "text": [
      "100%|██████████| 716/716 [01:11<00:00, 10.05it/s]\n"
     ]
    },
    {
     "name": "stdout",
     "output_type": "stream",
     "text": [
      "{'val_loss': 1.6993344357100928, 'val_accuracy': 0.5571646341463414, 'precision': 0.5600661521358452, 'recall': 0.5571646341463414, 'f1-score': 0.5211719300321365, 'macro_f1-score': 0.296170194085156, 'balanced_accuracy': 0.34546617746695496, 'mcc': 0.39761077812383455, 'train_loss': 2.2844241263147174}\n",
      "Epoch 2/20\n"
     ]
    },
    {
     "name": "stderr",
     "output_type": "stream",
     "text": [
      "100%|██████████| 716/716 [01:11<00:00, 10.00it/s]\n"
     ]
    },
    {
     "name": "stdout",
     "output_type": "stream",
     "text": [
      "{'val_loss': 1.5130361845580542, 'val_accuracy': 0.6105182926829268, 'precision': 0.635966629371919, 'recall': 0.6105182926829268, 'f1-score': 0.5955166462417297, 'macro_f1-score': 0.3755109027594747, 'balanced_accuracy': 0.38091943774513837, 'mcc': 0.4795435741197784, 'train_loss': 0.8033828614903978}\n",
      "Epoch 3/20\n"
     ]
    },
    {
     "name": "stderr",
     "output_type": "stream",
     "text": [
      "100%|██████████| 716/716 [01:11<00:00, 10.08it/s]\n"
     ]
    },
    {
     "name": "stdout",
     "output_type": "stream",
     "text": [
      "{'val_loss': 1.469914486858903, 'val_accuracy': 0.649390243902439, 'precision': 0.644325758495602, 'recall': 0.649390243902439, 'f1-score': 0.6347765387100874, 'macro_f1-score': 0.4212100352997292, 'balanced_accuracy': 0.4223537586344708, 'mcc': 0.5287214809959063, 'train_loss': 0.4453065390256364}\n",
      "Epoch 4/20\n"
     ]
    },
    {
     "name": "stderr",
     "output_type": "stream",
     "text": [
      "100%|██████████| 716/716 [01:11<00:00, 10.05it/s]\n"
     ]
    },
    {
     "name": "stdout",
     "output_type": "stream",
     "text": [
      "{'val_loss': 1.834595049663288, 'val_accuracy': 0.583079268292683, 'precision': 0.6071772383628574, 'recall': 0.583079268292683, 'f1-score': 0.5759305585998503, 'macro_f1-score': 0.3505036890566851, 'balanced_accuracy': 0.3388373584952982, 'mcc': 0.45066213161428414, 'train_loss': 0.27970231701906084}\n",
      "Epoch 5/20\n"
     ]
    },
    {
     "name": "stderr",
     "output_type": "stream",
     "text": [
      "100%|██████████| 716/716 [01:11<00:00, 10.06it/s]\n"
     ]
    },
    {
     "name": "stdout",
     "output_type": "stream",
     "text": [
      "{'val_loss': 1.6928610063907576, 'val_accuracy': 0.6265243902439024, 'precision': 0.6247807136956995, 'recall': 0.6265243902439024, 'f1-score': 0.6164670128240147, 'macro_f1-score': 0.40426402102090453, 'balanced_accuracy': 0.4087180139173874, 'mcc': 0.5045987407679873, 'train_loss': 0.19964016435730308}\n",
      "Epoch 6/20\n"
     ]
    },
    {
     "name": "stderr",
     "output_type": "stream",
     "text": [
      "100%|██████████| 716/716 [01:11<00:00, 10.03it/s]\n"
     ]
    },
    {
     "name": "stdout",
     "output_type": "stream",
     "text": [
      "{'val_loss': 1.7275460962115265, 'val_accuracy': 0.631859756097561, 'precision': 0.6400598702452708, 'recall': 0.631859756097561, 'f1-score': 0.6311599236258866, 'macro_f1-score': 0.43545440036929045, 'balanced_accuracy': 0.4361269395998734, 'mcc': 0.5234157315426861, 'train_loss': 0.14345134136412688}\n",
      "Epoch 7/20\n"
     ]
    },
    {
     "name": "stderr",
     "output_type": "stream",
     "text": [
      "100%|██████████| 716/716 [01:11<00:00, 10.01it/s]\n"
     ]
    },
    {
     "name": "stdout",
     "output_type": "stream",
     "text": [
      "{'val_loss': 1.8039924327920123, 'val_accuracy': 0.6417682926829268, 'precision': 0.6367740015707561, 'recall': 0.6417682926829268, 'f1-score': 0.6315242406402456, 'macro_f1-score': 0.4088441062550001, 'balanced_accuracy': 0.4042857697874533, 'mcc': 0.5236015413818829, 'train_loss': 0.11919280584295432}\n",
      "Epoch 8/20\n"
     ]
    },
    {
     "name": "stderr",
     "output_type": "stream",
     "text": [
      "100%|██████████| 716/716 [01:11<00:00, 10.03it/s]\n"
     ]
    },
    {
     "name": "stdout",
     "output_type": "stream",
     "text": [
      "{'val_loss': 1.858661209937276, 'val_accuracy': 0.6608231707317073, 'precision': 0.6315503235171466, 'recall': 0.6608231707317073, 'f1-score': 0.6349612699030001, 'macro_f1-score': 0.4110456364763528, 'balanced_accuracy': 0.3991634406591591, 'mcc': 0.5377273460884198, 'train_loss': 0.10577204727174912}\n",
      "Epoch 9/20\n"
     ]
    },
    {
     "name": "stderr",
     "output_type": "stream",
     "text": [
      "100%|██████████| 716/716 [01:11<00:00, 10.03it/s]\n"
     ]
    },
    {
     "name": "stdout",
     "output_type": "stream",
     "text": [
      "{'val_loss': 2.0155985947789214, 'val_accuracy': 0.6219512195121951, 'precision': 0.6121511356038392, 'recall': 0.6219512195121951, 'f1-score': 0.6101392509882353, 'macro_f1-score': 0.38934070437837515, 'balanced_accuracy': 0.3934895154977916, 'mcc': 0.4967728577485621, 'train_loss': 0.10618320965356397}\n",
      "Early stopping.\n",
      "\n",
      "[Fold 2]\n",
      "Label distribution after resampling:\n",
      "  label 0: 2000\n",
      "  label 1: 200\n",
      "  label 2: 200\n",
      "  label 3: 200\n",
      "  label 4: 200\n",
      "  label 5: 200\n",
      "  label 6: 200\n",
      "  label 7: 200\n",
      "  label 8: 200\n",
      "  label 9: 200\n",
      "  label 10: 200\n",
      "  label 11: 200\n",
      "  label 12: 200\n",
      "  label 13: 200\n",
      "  label 14: 200\n",
      "  label 15: 200\n",
      "  label 16: 200\n",
      "  label 17: 200\n",
      "  label 18: 200\n",
      "  label 19: 200\n",
      "  label 20: 200\n",
      "  label 21: 200\n",
      "  label 22: 200\n",
      "  label 23: 200\n",
      "  label 24: 200\n",
      "  label 25: 200\n",
      "  label 26: 200\n",
      "  label 27: 200\n",
      "  label 28: 200\n",
      "  label 29: 200\n",
      "  label 30: 200\n",
      "  label 31: 200\n",
      "  label 32: 200\n",
      "  label 33: 200\n",
      "  label 34: 200\n",
      "  label 35: 200\n",
      "  label 36: 200\n",
      "  label 37: 200\n",
      "  label 38: 200\n",
      "  label 39: 200\n",
      "  label 40: 200\n",
      "  label 41: 200\n",
      "  label 42: 200\n",
      "  label 43: 200\n",
      "  label 44: 200\n",
      "  label 45: 242\n",
      "  label 46: 200\n",
      "  label 47: 200\n",
      "model is bert-base-uncased bilstm\n",
      "Epoch 1/20\n"
     ]
    },
    {
     "name": "stderr",
     "output_type": "stream",
     "text": [
      "100%|██████████| 716/716 [01:11<00:00, 10.08it/s]\n"
     ]
    },
    {
     "name": "stdout",
     "output_type": "stream",
     "text": [
      "{'val_loss': 1.6672530486816313, 'val_accuracy': 0.5621662852784134, 'precision': 0.6117737223958559, 'recall': 0.5621662852784134, 'f1-score': 0.5606079506135803, 'macro_f1-score': 0.29397484836105764, 'balanced_accuracy': 0.38231916732434007, 'mcc': 0.44002598036955315, 'train_loss': 2.2330683416494446}\n",
      "Epoch 2/20\n"
     ]
    },
    {
     "name": "stderr",
     "output_type": "stream",
     "text": [
      "100%|██████████| 716/716 [01:11<00:00,  9.99it/s]\n"
     ]
    },
    {
     "name": "stdout",
     "output_type": "stream",
     "text": [
      "{'val_loss': 1.4470144194073793, 'val_accuracy': 0.6270022883295194, 'precision': 0.6329829229352448, 'recall': 0.6270022883295194, 'f1-score': 0.6005650952781788, 'macro_f1-score': 0.37009203795719997, 'balanced_accuracy': 0.389270809972402, 'mcc': 0.4925773174855086, 'train_loss': 0.8121602249711586}\n",
      "Epoch 3/20\n"
     ]
    },
    {
     "name": "stderr",
     "output_type": "stream",
     "text": [
      "100%|██████████| 716/716 [01:11<00:00, 10.01it/s]\n"
     ]
    },
    {
     "name": "stdout",
     "output_type": "stream",
     "text": [
      "{'val_loss': 1.5851764290071115, 'val_accuracy': 0.631578947368421, 'precision': 0.6349399724726912, 'recall': 0.631578947368421, 'f1-score': 0.6222348568586736, 'macro_f1-score': 0.3735634926830725, 'balanced_accuracy': 0.3861972092437734, 'mcc': 0.507808857434016, 'train_loss': 0.4293737541832155}\n",
      "Epoch 4/20\n"
     ]
    },
    {
     "name": "stderr",
     "output_type": "stream",
     "text": [
      "100%|██████████| 716/716 [01:11<00:00, 10.03it/s]\n"
     ]
    },
    {
     "name": "stdout",
     "output_type": "stream",
     "text": [
      "{'val_loss': 1.5840142456496633, 'val_accuracy': 0.662090007627765, 'precision': 0.6430616929603065, 'recall': 0.662090007627765, 'f1-score': 0.6368688940935772, 'macro_f1-score': 0.38590049995623094, 'balanced_accuracy': 0.38242930217230287, 'mcc': 0.5436365846671533, 'train_loss': 0.26156751635905834}\n",
      "Epoch 5/20\n"
     ]
    },
    {
     "name": "stderr",
     "output_type": "stream",
     "text": [
      "100%|██████████| 716/716 [01:11<00:00, 10.04it/s]\n"
     ]
    },
    {
     "name": "stdout",
     "output_type": "stream",
     "text": [
      "{'val_loss': 1.6493225250302292, 'val_accuracy': 0.6552250190694127, 'precision': 0.6437758328240509, 'recall': 0.6552250190694127, 'f1-score': 0.6425956119169395, 'macro_f1-score': 0.41531934389548614, 'balanced_accuracy': 0.42487188572595436, 'mcc': 0.5406442591016343, 'train_loss': 0.19263129743523688}\n",
      "Epoch 6/20\n"
     ]
    },
    {
     "name": "stderr",
     "output_type": "stream",
     "text": [
      "100%|██████████| 716/716 [01:11<00:00, 10.04it/s]\n"
     ]
    },
    {
     "name": "stdout",
     "output_type": "stream",
     "text": [
      "{'val_loss': 1.7845774162106398, 'val_accuracy': 0.6369183829138062, 'precision': 0.6276330484416869, 'recall': 0.6369183829138062, 'f1-score': 0.6270614386334032, 'macro_f1-score': 0.38946184660110444, 'balanced_accuracy': 0.4031664209441515, 'mcc': 0.5221700671036775, 'train_loss': 0.13903872361900962}\n",
      "Epoch 7/20\n"
     ]
    },
    {
     "name": "stderr",
     "output_type": "stream",
     "text": [
      "100%|██████████| 716/716 [01:11<00:00, 10.01it/s]\n"
     ]
    },
    {
     "name": "stdout",
     "output_type": "stream",
     "text": [
      "{'val_loss': 1.8826947168606083, 'val_accuracy': 0.6155606407322655, 'precision': 0.634009410044844, 'recall': 0.6155606407322655, 'f1-score': 0.6185364223345351, 'macro_f1-score': 0.37025615635491754, 'balanced_accuracy': 0.38707561362740034, 'mcc': 0.508368021212039, 'train_loss': 0.14637495923719718}\n",
      "Epoch 8/20\n"
     ]
    },
    {
     "name": "stderr",
     "output_type": "stream",
     "text": [
      "100%|██████████| 716/716 [01:11<00:00,  9.95it/s]\n"
     ]
    },
    {
     "name": "stdout",
     "output_type": "stream",
     "text": [
      "{'val_loss': 1.886207961091181, 'val_accuracy': 0.6498855835240275, 'precision': 0.6250256203811098, 'recall': 0.6498855835240275, 'f1-score': 0.6238196022201383, 'macro_f1-score': 0.376813110712664, 'balanced_accuracy': 0.36498607869321725, 'mcc': 0.5218689794463852, 'train_loss': 0.09821328265311498}\n",
      "Early stopping.\n",
      "\n",
      "[Fold 3]\n",
      "Label distribution after resampling:\n",
      "  label 0: 2000\n",
      "  label 1: 200\n",
      "  label 2: 200\n",
      "  label 3: 200\n",
      "  label 4: 200\n",
      "  label 5: 200\n",
      "  label 6: 200\n",
      "  label 7: 200\n",
      "  label 8: 200\n",
      "  label 9: 200\n",
      "  label 10: 200\n",
      "  label 11: 200\n",
      "  label 12: 200\n",
      "  label 13: 200\n",
      "  label 14: 200\n",
      "  label 15: 200\n",
      "  label 16: 200\n",
      "  label 17: 200\n",
      "  label 18: 200\n",
      "  label 19: 200\n",
      "  label 20: 200\n",
      "  label 21: 200\n",
      "  label 22: 200\n",
      "  label 23: 200\n",
      "  label 24: 200\n",
      "  label 25: 200\n",
      "  label 26: 200\n",
      "  label 27: 200\n",
      "  label 28: 200\n",
      "  label 29: 200\n",
      "  label 30: 200\n",
      "  label 31: 200\n",
      "  label 32: 200\n",
      "  label 33: 200\n",
      "  label 34: 200\n",
      "  label 35: 200\n",
      "  label 36: 200\n",
      "  label 37: 200\n",
      "  label 38: 200\n",
      "  label 39: 200\n",
      "  label 40: 200\n",
      "  label 41: 200\n",
      "  label 42: 200\n",
      "  label 43: 200\n",
      "  label 44: 200\n",
      "  label 45: 241\n",
      "  label 46: 200\n",
      "  label 47: 200\n",
      "model is bert-base-uncased bilstm\n",
      "Epoch 1/20\n"
     ]
    },
    {
     "name": "stderr",
     "output_type": "stream",
     "text": [
      "100%|██████████| 716/716 [01:11<00:00, 10.05it/s]\n"
     ]
    },
    {
     "name": "stdout",
     "output_type": "stream",
     "text": [
      "{'val_loss': 1.7202039913433353, 'val_accuracy': 0.5408085430968727, 'precision': 0.6038111799254932, 'recall': 0.5408085430968727, 'f1-score': 0.5468217264248793, 'macro_f1-score': 0.34300471514806413, 'balanced_accuracy': 0.39499967890836646, 'mcc': 0.4102753220043235, 'train_loss': 2.212955143115374}\n",
      "Epoch 2/20\n"
     ]
    },
    {
     "name": "stderr",
     "output_type": "stream",
     "text": [
      "100%|██████████| 716/716 [01:11<00:00, 10.05it/s]\n"
     ]
    },
    {
     "name": "stdout",
     "output_type": "stream",
     "text": [
      "{'val_loss': 1.5730681713761352, 'val_accuracy': 0.597254004576659, 'precision': 0.6295256326674601, 'recall': 0.597254004576659, 'f1-score': 0.5938374476705801, 'macro_f1-score': 0.3970618960743568, 'balanced_accuracy': 0.4125354502157362, 'mcc': 0.4696592704980049, 'train_loss': 0.7898318486173725}\n",
      "Epoch 3/20\n"
     ]
    },
    {
     "name": "stderr",
     "output_type": "stream",
     "text": [
      "100%|██████████| 716/716 [01:11<00:00, 10.01it/s]\n"
     ]
    },
    {
     "name": "stdout",
     "output_type": "stream",
     "text": [
      "{'val_loss': 1.5625846916582526, 'val_accuracy': 0.6193745232646835, 'precision': 0.6160180138380945, 'recall': 0.6193745232646835, 'f1-score': 0.6082625076749069, 'macro_f1-score': 0.39429296884414183, 'balanced_accuracy': 0.38275389204577354, 'mcc': 0.49638599808326395, 'train_loss': 0.4151813568880355}\n",
      "Epoch 4/20\n"
     ]
    },
    {
     "name": "stderr",
     "output_type": "stream",
     "text": [
      "100%|██████████| 716/716 [01:11<00:00, 10.07it/s]\n"
     ]
    },
    {
     "name": "stdout",
     "output_type": "stream",
     "text": [
      "{'val_loss': 1.6573613848446347, 'val_accuracy': 0.627765064836003, 'precision': 0.6288647368198811, 'recall': 0.627765064836003, 'f1-score': 0.6155408916432719, 'macro_f1-score': 0.41674465152980283, 'balanced_accuracy': 0.3958847135831087, 'mcc': 0.5040494133870835, 'train_loss': 0.26406094897278276}\n",
      "Epoch 5/20\n"
     ]
    },
    {
     "name": "stderr",
     "output_type": "stream",
     "text": [
      "100%|██████████| 716/716 [01:11<00:00, 10.04it/s]\n"
     ]
    },
    {
     "name": "stdout",
     "output_type": "stream",
     "text": [
      "{'val_loss': 1.6975828190220565, 'val_accuracy': 0.6430205949656751, 'precision': 0.629845934358388, 'recall': 0.6430205949656751, 'f1-score': 0.6193066849134667, 'macro_f1-score': 0.39436031826033724, 'balanced_accuracy': 0.37554201496179745, 'mcc': 0.5123999566225322, 'train_loss': 0.19191882969790747}\n",
      "Epoch 6/20\n"
     ]
    },
    {
     "name": "stderr",
     "output_type": "stream",
     "text": [
      "100%|██████████| 716/716 [01:11<00:00, 10.04it/s]\n"
     ]
    },
    {
     "name": "stdout",
     "output_type": "stream",
     "text": [
      "{'val_loss': 1.8331885265141, 'val_accuracy': 0.6308161708619374, 'precision': 0.6315269206319427, 'recall': 0.6308161708619374, 'f1-score': 0.6184092413738032, 'macro_f1-score': 0.4060528527773079, 'balanced_accuracy': 0.3941243427422701, 'mcc': 0.5085650841469124, 'train_loss': 0.14160600203276721}\n",
      "Epoch 7/20\n"
     ]
    },
    {
     "name": "stderr",
     "output_type": "stream",
     "text": [
      "100%|██████████| 716/716 [01:11<00:00, 10.05it/s]\n"
     ]
    },
    {
     "name": "stdout",
     "output_type": "stream",
     "text": [
      "{'val_loss': 1.8735792235266873, 'val_accuracy': 0.6361556064073226, 'precision': 0.6320791719816098, 'recall': 0.6361556064073226, 'f1-score': 0.6192618712002008, 'macro_f1-score': 0.3821082853909801, 'balanced_accuracy': 0.3707643775208358, 'mcc': 0.5139875108248197, 'train_loss': 0.09717724035109014}\n",
      "Early stopping.\n",
      "\n",
      "[Fold 4]\n",
      "Label distribution after resampling:\n",
      "  label 0: 2000\n",
      "  label 1: 200\n",
      "  label 2: 200\n",
      "  label 3: 200\n",
      "  label 4: 200\n",
      "  label 5: 200\n",
      "  label 6: 200\n",
      "  label 7: 200\n",
      "  label 8: 200\n",
      "  label 9: 200\n",
      "  label 10: 200\n",
      "  label 11: 200\n",
      "  label 12: 200\n",
      "  label 13: 200\n",
      "  label 14: 200\n",
      "  label 15: 200\n",
      "  label 16: 200\n",
      "  label 17: 200\n",
      "  label 18: 200\n",
      "  label 19: 200\n",
      "  label 20: 200\n",
      "  label 21: 200\n",
      "  label 22: 200\n",
      "  label 23: 200\n",
      "  label 24: 200\n",
      "  label 25: 200\n",
      "  label 26: 200\n",
      "  label 27: 200\n",
      "  label 28: 200\n",
      "  label 29: 200\n",
      "  label 30: 200\n",
      "  label 31: 200\n",
      "  label 32: 200\n",
      "  label 33: 200\n",
      "  label 34: 200\n",
      "  label 35: 200\n",
      "  label 36: 200\n",
      "  label 37: 200\n",
      "  label 38: 200\n",
      "  label 39: 200\n",
      "  label 40: 200\n",
      "  label 41: 200\n",
      "  label 42: 200\n",
      "  label 43: 200\n",
      "  label 44: 200\n",
      "  label 45: 241\n",
      "  label 46: 200\n",
      "  label 47: 200\n",
      "model is bert-base-uncased bilstm\n",
      "Epoch 1/20\n"
     ]
    },
    {
     "name": "stderr",
     "output_type": "stream",
     "text": [
      "100%|██████████| 716/716 [01:11<00:00,  9.98it/s]\n"
     ]
    },
    {
     "name": "stdout",
     "output_type": "stream",
     "text": [
      "{'val_loss': 1.6056950884621317, 'val_accuracy': 0.5766590389016019, 'precision': 0.6132479467944743, 'recall': 0.5766590389016019, 'f1-score': 0.5730416717158057, 'macro_f1-score': 0.35442231301906707, 'balanced_accuracy': 0.4297692157404303, 'mcc': 0.45771145626366616, 'train_loss': 2.20660137522487}\n",
      "Epoch 2/20\n"
     ]
    },
    {
     "name": "stderr",
     "output_type": "stream",
     "text": [
      "100%|██████████| 716/716 [01:11<00:00, 10.04it/s]\n"
     ]
    },
    {
     "name": "stdout",
     "output_type": "stream",
     "text": [
      "{'val_loss': 1.492905831191598, 'val_accuracy': 0.6163234172387491, 'precision': 0.6382457466030287, 'recall': 0.6163234172387491, 'f1-score': 0.6157884725737839, 'macro_f1-score': 0.3840087004986943, 'balanced_accuracy': 0.4025208571303915, 'mcc': 0.500510804192201, 'train_loss': 0.7873478833814906}\n",
      "Epoch 3/20\n"
     ]
    },
    {
     "name": "stderr",
     "output_type": "stream",
     "text": [
      "100%|██████████| 716/716 [01:11<00:00, 10.01it/s]\n"
     ]
    },
    {
     "name": "stdout",
     "output_type": "stream",
     "text": [
      "{'val_loss': 1.6534759663954013, 'val_accuracy': 0.6193745232646835, 'precision': 0.6499601257234225, 'recall': 0.6193745232646835, 'f1-score': 0.6216603155064429, 'macro_f1-score': 0.4217741563433948, 'balanced_accuracy': 0.46854680150889877, 'mcc': 0.5201170584282517, 'train_loss': 0.40953623142884266}\n",
      "Epoch 4/20\n"
     ]
    },
    {
     "name": "stderr",
     "output_type": "stream",
     "text": [
      "100%|██████████| 716/716 [01:11<00:00, 10.06it/s]\n"
     ]
    },
    {
     "name": "stdout",
     "output_type": "stream",
     "text": [
      "{'val_loss': 1.549805545588819, 'val_accuracy': 0.6460717009916095, 'precision': 0.6664005210991573, 'recall': 0.6460717009916095, 'f1-score': 0.6446891855153891, 'macro_f1-score': 0.42123244198148635, 'balanced_accuracy': 0.41529789954486346, 'mcc': 0.5363380278810731, 'train_loss': 0.25419888592080614}\n",
      "Epoch 5/20\n"
     ]
    },
    {
     "name": "stderr",
     "output_type": "stream",
     "text": [
      "100%|██████████| 716/716 [01:11<00:00, 10.06it/s]\n"
     ]
    },
    {
     "name": "stdout",
     "output_type": "stream",
     "text": [
      "{'val_loss': 1.6445481708137, 'val_accuracy': 0.6521739130434783, 'precision': 0.6482895117458124, 'recall': 0.6521739130434783, 'f1-score': 0.6420273167971237, 'macro_f1-score': 0.4257271263570068, 'balanced_accuracy': 0.4267373386582863, 'mcc': 0.5400768061313544, 'train_loss': 0.1780553464439578}\n",
      "Epoch 6/20\n"
     ]
    },
    {
     "name": "stderr",
     "output_type": "stream",
     "text": [
      "100%|██████████| 716/716 [01:11<00:00, 10.02it/s]\n"
     ]
    },
    {
     "name": "stdout",
     "output_type": "stream",
     "text": [
      "{'val_loss': 1.7487428846155726, 'val_accuracy': 0.6338672768878718, 'precision': 0.6540109342970896, 'recall': 0.6338672768878718, 'f1-score': 0.6374900911783137, 'macro_f1-score': 0.41680910010188565, 'balanced_accuracy': 0.4366359028904833, 'mcc': 0.534322554813953, 'train_loss': 0.14216120533421428}\n",
      "Epoch 7/20\n"
     ]
    },
    {
     "name": "stderr",
     "output_type": "stream",
     "text": [
      "100%|██████████| 716/716 [01:11<00:00, 10.01it/s]\n"
     ]
    },
    {
     "name": "stdout",
     "output_type": "stream",
     "text": [
      "{'val_loss': 1.8154376149177551, 'val_accuracy': 0.6483600305110603, 'precision': 0.6549259163728011, 'recall': 0.6483600305110603, 'f1-score': 0.645532207770695, 'macro_f1-score': 0.43669495199135283, 'balanced_accuracy': 0.4439867112844255, 'mcc': 0.5455237388992034, 'train_loss': 0.09902359171205996}\n",
      "Epoch 8/20\n"
     ]
    },
    {
     "name": "stderr",
     "output_type": "stream",
     "text": [
      "100%|██████████| 716/716 [01:11<00:00, 10.01it/s]\n"
     ]
    },
    {
     "name": "stdout",
     "output_type": "stream",
     "text": [
      "{'val_loss': 1.9325221995028055, 'val_accuracy': 0.6392067124332571, 'precision': 0.6359500835331654, 'recall': 0.6392067124332571, 'f1-score': 0.6283177198373129, 'macro_f1-score': 0.40745304626798484, 'balanced_accuracy': 0.40815628976105556, 'mcc': 0.5221160884018042, 'train_loss': 0.09262369460505615}\n",
      "Epoch 9/20\n"
     ]
    },
    {
     "name": "stderr",
     "output_type": "stream",
     "text": [
      "100%|██████████| 716/716 [01:11<00:00, 10.05it/s]\n"
     ]
    },
    {
     "name": "stdout",
     "output_type": "stream",
     "text": [
      "{'val_loss': 2.0231903753266103, 'val_accuracy': 0.6109839816933639, 'precision': 0.6508290315218015, 'recall': 0.6109839816933639, 'f1-score': 0.6139605821120147, 'macro_f1-score': 0.3923173340703044, 'balanced_accuracy': 0.42856232037554837, 'mcc': 0.5129115391581669, 'train_loss': 0.08295847200521908}\n",
      "Epoch 10/20\n"
     ]
    },
    {
     "name": "stderr",
     "output_type": "stream",
     "text": [
      "100%|██████████| 716/716 [01:11<00:00, 10.03it/s]\n"
     ]
    },
    {
     "name": "stdout",
     "output_type": "stream",
     "text": [
      "{'val_loss': 1.953094608309429, 'val_accuracy': 0.6414950419527079, 'precision': 0.6364038638085581, 'recall': 0.6414950419527079, 'f1-score': 0.6324935436645851, 'macro_f1-score': 0.4041970181058762, 'balanced_accuracy': 0.4171470723386288, 'mcc': 0.5335772766600135, 'train_loss': 0.10491728003321517}\n",
      "Early stopping.\n",
      "\n",
      "[Fold 5]\n",
      "Label distribution after resampling:\n",
      "  label 0: 2000\n",
      "  label 1: 200\n",
      "  label 2: 200\n",
      "  label 3: 200\n",
      "  label 4: 200\n",
      "  label 5: 200\n",
      "  label 6: 200\n",
      "  label 7: 200\n",
      "  label 8: 200\n",
      "  label 9: 200\n",
      "  label 10: 200\n",
      "  label 11: 200\n",
      "  label 12: 200\n",
      "  label 13: 200\n",
      "  label 14: 200\n",
      "  label 15: 200\n",
      "  label 16: 200\n",
      "  label 17: 200\n",
      "  label 18: 200\n",
      "  label 19: 200\n",
      "  label 20: 200\n",
      "  label 21: 200\n",
      "  label 22: 200\n",
      "  label 23: 200\n",
      "  label 24: 200\n",
      "  label 25: 200\n",
      "  label 26: 200\n",
      "  label 27: 200\n",
      "  label 28: 200\n",
      "  label 29: 200\n",
      "  label 30: 200\n",
      "  label 31: 200\n",
      "  label 32: 200\n",
      "  label 33: 200\n",
      "  label 34: 200\n",
      "  label 35: 200\n",
      "  label 36: 200\n",
      "  label 37: 200\n",
      "  label 38: 200\n",
      "  label 39: 200\n",
      "  label 40: 200\n",
      "  label 41: 200\n",
      "  label 42: 200\n",
      "  label 43: 200\n",
      "  label 44: 200\n",
      "  label 45: 242\n",
      "  label 46: 200\n",
      "  label 47: 200\n",
      "model is bert-base-uncased bilstm\n",
      "Epoch 1/20\n"
     ]
    },
    {
     "name": "stderr",
     "output_type": "stream",
     "text": [
      "100%|██████████| 716/716 [01:11<00:00,  9.98it/s]\n"
     ]
    },
    {
     "name": "stdout",
     "output_type": "stream",
     "text": [
      "{'val_loss': 1.6795708137314493, 'val_accuracy': 0.5522501906941266, 'precision': 0.5962610643280152, 'recall': 0.5522501906941266, 'f1-score': 0.5342620935542, 'macro_f1-score': 0.3168076772883805, 'balanced_accuracy': 0.381671336337887, 'mcc': 0.40812057778395666, 'train_loss': 2.226388033292147}\n",
      "Epoch 2/20\n"
     ]
    },
    {
     "name": "stderr",
     "output_type": "stream",
     "text": [
      "100%|██████████| 716/716 [01:11<00:00, 10.02it/s]\n"
     ]
    },
    {
     "name": "stdout",
     "output_type": "stream",
     "text": [
      "{'val_loss': 1.4789606928825378, 'val_accuracy': 0.6064073226544623, 'precision': 0.6432837553567503, 'recall': 0.6064073226544623, 'f1-score': 0.6110216923780506, 'macro_f1-score': 0.42101805743954945, 'balanced_accuracy': 0.4181060887185351, 'mcc': 0.49304520447990996, 'train_loss': 0.8365486418027118}\n",
      "Epoch 3/20\n"
     ]
    },
    {
     "name": "stderr",
     "output_type": "stream",
     "text": [
      "100%|██████████| 716/716 [01:11<00:00,  9.99it/s]\n"
     ]
    },
    {
     "name": "stdout",
     "output_type": "stream",
     "text": [
      "{'val_loss': 1.4914089619386486, 'val_accuracy': 0.6392067124332571, 'precision': 0.6447538830833689, 'recall': 0.6392067124332571, 'f1-score': 0.62492853789205, 'macro_f1-score': 0.3861792342524601, 'balanced_accuracy': 0.3780370833412996, 'mcc': 0.5191827609172962, 'train_loss': 0.44737091200561496}\n",
      "Epoch 4/20\n"
     ]
    },
    {
     "name": "stderr",
     "output_type": "stream",
     "text": [
      "100%|██████████| 716/716 [01:11<00:00, 10.06it/s]\n"
     ]
    },
    {
     "name": "stdout",
     "output_type": "stream",
     "text": [
      "{'val_loss': 1.5915060410412347, 'val_accuracy': 0.6270022883295194, 'precision': 0.6422377677562543, 'recall': 0.6270022883295194, 'f1-score': 0.6226149150958875, 'macro_f1-score': 0.4010945428199438, 'balanced_accuracy': 0.394079858244837, 'mcc': 0.5190210653586963, 'train_loss': 0.2847047543970025}\n",
      "Epoch 5/20\n"
     ]
    },
    {
     "name": "stderr",
     "output_type": "stream",
     "text": [
      "100%|██████████| 716/716 [01:11<00:00, 10.02it/s]\n"
     ]
    },
    {
     "name": "stdout",
     "output_type": "stream",
     "text": [
      "{'val_loss': 1.6627751912285642, 'val_accuracy': 0.6407322654462243, 'precision': 0.6364135169846276, 'recall': 0.6407322654462243, 'f1-score': 0.6259944263617709, 'macro_f1-score': 0.38699415363850553, 'balanced_accuracy': 0.3762980649831163, 'mcc': 0.5260823129719332, 'train_loss': 0.19312562521380586}\n",
      "Early stopping.\n",
      "\n",
      " === bert-base-uncased + bilstm + ros Final 5-fold Cross-Validation Results ===\n",
      "val_loss: 1.6657\n",
      "val_accuracy: 0.6339\n",
      "precision: 0.6422\n",
      "recall: 0.6339\n",
      "f1-score: 0.6292\n",
      "macro_f1-score: 0.4250\n",
      "balanced_accuracy: 0.4238\n",
      "mcc: 0.5213\n",
      "train_loss: 0.3071\n",
      "total_seconds: 2939.0000\n",
      "total_time: 0 hrs 48 mins 59 secs\n",
      "▶ Running: roberta-base + plain + ros\n",
      "tokenizer is roberta-base\n",
      "Using device: cuda\n",
      "CUDA Available: True\n",
      "CUDA Device: NVIDIA GeForce RTX 5070 Ti\n",
      "Current GPU Memory Allocated: 0.02 GB\n",
      "Current GPU Memory Cached: 3.14 GB\n",
      "\n",
      "[Fold 1]\n",
      "Label distribution after resampling:\n",
      "  label 0: 2000\n",
      "  label 1: 200\n",
      "  label 2: 200\n",
      "  label 3: 200\n",
      "  label 4: 200\n",
      "  label 5: 200\n",
      "  label 6: 200\n",
      "  label 7: 200\n",
      "  label 8: 200\n",
      "  label 9: 200\n",
      "  label 10: 200\n",
      "  label 11: 200\n",
      "  label 12: 200\n",
      "  label 13: 200\n",
      "  label 14: 200\n",
      "  label 15: 200\n",
      "  label 16: 200\n",
      "  label 17: 200\n",
      "  label 18: 200\n",
      "  label 19: 200\n",
      "  label 20: 200\n",
      "  label 21: 200\n",
      "  label 22: 200\n",
      "  label 23: 200\n",
      "  label 24: 200\n",
      "  label 25: 200\n",
      "  label 26: 200\n",
      "  label 27: 200\n",
      "  label 28: 200\n",
      "  label 29: 200\n",
      "  label 30: 200\n",
      "  label 31: 200\n",
      "  label 32: 200\n",
      "  label 33: 200\n",
      "  label 34: 200\n",
      "  label 35: 200\n",
      "  label 36: 200\n",
      "  label 37: 200\n",
      "  label 38: 200\n",
      "  label 39: 200\n",
      "  label 40: 200\n",
      "  label 41: 200\n",
      "  label 42: 200\n",
      "  label 43: 200\n",
      "  label 44: 200\n",
      "  label 45: 242\n",
      "  label 46: 200\n",
      "  label 47: 200\n",
      "model is roberta-base\n"
     ]
    },
    {
     "name": "stderr",
     "output_type": "stream",
     "text": [
      "Some weights of RobertaForSequenceClassification were not initialized from the model checkpoint at roberta-base and are newly initialized: ['classifier.dense.bias', 'classifier.dense.weight', 'classifier.out_proj.bias', 'classifier.out_proj.weight']\n",
      "You should probably TRAIN this model on a down-stream task to be able to use it for predictions and inference.\n"
     ]
    },
    {
     "name": "stdout",
     "output_type": "stream",
     "text": [
      "Epoch 1/20\n"
     ]
    },
    {
     "name": "stderr",
     "output_type": "stream",
     "text": [
      "100%|██████████| 716/716 [01:01<00:00, 11.57it/s]\n"
     ]
    },
    {
     "name": "stdout",
     "output_type": "stream",
     "text": [
      "{'val_loss': 1.709392315730816, 'val_accuracy': 0.5487804878048781, 'precision': 0.5539875073245887, 'recall': 0.5487804878048781, 'f1-score': 0.5187714355646802, 'macro_f1-score': 0.30645500791337615, 'balanced_accuracy': 0.37692868251255335, 'mcc': 0.3830427984731578, 'train_loss': 2.1219285383570794}\n",
      "Epoch 2/20\n"
     ]
    },
    {
     "name": "stderr",
     "output_type": "stream",
     "text": [
      "100%|██████████| 716/716 [01:01<00:00, 11.57it/s]\n"
     ]
    },
    {
     "name": "stdout",
     "output_type": "stream",
     "text": [
      "{'val_loss': 1.6401532710325428, 'val_accuracy': 0.5792682926829268, 'precision': 0.6355347203770877, 'recall': 0.5792682926829268, 'f1-score': 0.5891513410477737, 'macro_f1-score': 0.38543845175046726, 'balanced_accuracy': 0.4608186445903168, 'mcc': 0.47543760652429135, 'train_loss': 0.8561520205821072}\n",
      "Epoch 3/20\n"
     ]
    },
    {
     "name": "stderr",
     "output_type": "stream",
     "text": [
      "100%|██████████| 716/716 [01:01<00:00, 11.56it/s]\n"
     ]
    },
    {
     "name": "stdout",
     "output_type": "stream",
     "text": [
      "{'val_loss': 1.8122370293954524, 'val_accuracy': 0.5762195121951219, 'precision': 0.6172991939662458, 'recall': 0.5762195121951219, 'f1-score': 0.5811800007333938, 'macro_f1-score': 0.38200554603388864, 'balanced_accuracy': 0.4399615212254033, 'mcc': 0.46059878741063237, 'train_loss': 0.4978594847294039}\n",
      "Epoch 4/20\n"
     ]
    },
    {
     "name": "stderr",
     "output_type": "stream",
     "text": [
      "100%|██████████| 716/716 [01:01<00:00, 11.57it/s]\n"
     ]
    },
    {
     "name": "stdout",
     "output_type": "stream",
     "text": [
      "{'val_loss': 1.7371175867028352, 'val_accuracy': 0.6051829268292683, 'precision': 0.6448771587073387, 'recall': 0.6051829268292683, 'f1-score': 0.6175207458065218, 'macro_f1-score': 0.4141071382828616, 'balanced_accuracy': 0.4398566620365125, 'mcc': 0.49680146671178926, 'train_loss': 0.35848275877733055}\n",
      "Epoch 5/20\n"
     ]
    },
    {
     "name": "stderr",
     "output_type": "stream",
     "text": [
      "100%|██████████| 716/716 [01:01<00:00, 11.58it/s]\n"
     ]
    },
    {
     "name": "stdout",
     "output_type": "stream",
     "text": [
      "{'val_loss': 1.795928171131669, 'val_accuracy': 0.6326219512195121, 'precision': 0.6333958936987502, 'recall': 0.6326219512195121, 'f1-score': 0.6193513737797113, 'macro_f1-score': 0.4193037249971933, 'balanced_accuracy': 0.43068931261001514, 'mcc': 0.506109598824959, 'train_loss': 0.24983730622275874}\n",
      "Epoch 6/20\n"
     ]
    },
    {
     "name": "stderr",
     "output_type": "stream",
     "text": [
      "100%|██████████| 716/716 [01:01<00:00, 11.57it/s]\n"
     ]
    },
    {
     "name": "stdout",
     "output_type": "stream",
     "text": [
      "{'val_loss': 1.941765358171812, 'val_accuracy': 0.6211890243902439, 'precision': 0.6202429779799186, 'recall': 0.6211890243902439, 'f1-score': 0.6105729349782929, 'macro_f1-score': 0.38862502198235527, 'balanced_accuracy': 0.40580404489922567, 'mcc': 0.49354176457391924, 'train_loss': 0.2092545822590548}\n",
      "Epoch 7/20\n"
     ]
    },
    {
     "name": "stderr",
     "output_type": "stream",
     "text": [
      "100%|██████████| 716/716 [01:01<00:00, 11.58it/s]\n"
     ]
    },
    {
     "name": "stdout",
     "output_type": "stream",
     "text": [
      "{'val_loss': 1.972231239080429, 'val_accuracy': 0.5983231707317073, 'precision': 0.613190391172773, 'recall': 0.5983231707317073, 'f1-score': 0.5951158602802389, 'macro_f1-score': 0.3641231360801563, 'balanced_accuracy': 0.3950410861550302, 'mcc': 0.47881495277918457, 'train_loss': 0.1989550153105702}\n",
      "Epoch 8/20\n"
     ]
    },
    {
     "name": "stderr",
     "output_type": "stream",
     "text": [
      "100%|██████████| 716/716 [01:01<00:00, 11.57it/s]\n"
     ]
    },
    {
     "name": "stdout",
     "output_type": "stream",
     "text": [
      "{'val_loss': 2.113827861300329, 'val_accuracy': 0.6272865853658537, 'precision': 0.6272117213082008, 'recall': 0.6272865853658537, 'f1-score': 0.6078889674954059, 'macro_f1-score': 0.3813116662608231, 'balanced_accuracy': 0.39636537459322607, 'mcc': 0.5008924846210844, 'train_loss': 0.1510881228611789}\n",
      "Early stopping.\n",
      "\n",
      "[Fold 2]\n",
      "Label distribution after resampling:\n",
      "  label 0: 2000\n",
      "  label 1: 200\n",
      "  label 2: 200\n",
      "  label 3: 200\n",
      "  label 4: 200\n",
      "  label 5: 200\n",
      "  label 6: 200\n",
      "  label 7: 200\n",
      "  label 8: 200\n",
      "  label 9: 200\n",
      "  label 10: 200\n",
      "  label 11: 200\n",
      "  label 12: 200\n",
      "  label 13: 200\n",
      "  label 14: 200\n",
      "  label 15: 200\n",
      "  label 16: 200\n",
      "  label 17: 200\n",
      "  label 18: 200\n",
      "  label 19: 200\n",
      "  label 20: 200\n",
      "  label 21: 200\n",
      "  label 22: 200\n",
      "  label 23: 200\n",
      "  label 24: 200\n",
      "  label 25: 200\n",
      "  label 26: 200\n",
      "  label 27: 200\n",
      "  label 28: 200\n",
      "  label 29: 200\n",
      "  label 30: 200\n",
      "  label 31: 200\n",
      "  label 32: 200\n",
      "  label 33: 200\n",
      "  label 34: 200\n",
      "  label 35: 200\n",
      "  label 36: 200\n",
      "  label 37: 200\n",
      "  label 38: 200\n",
      "  label 39: 200\n",
      "  label 40: 200\n",
      "  label 41: 200\n",
      "  label 42: 200\n",
      "  label 43: 200\n",
      "  label 44: 200\n",
      "  label 45: 242\n",
      "  label 46: 200\n",
      "  label 47: 200\n",
      "model is roberta-base\n"
     ]
    },
    {
     "name": "stderr",
     "output_type": "stream",
     "text": [
      "Some weights of RobertaForSequenceClassification were not initialized from the model checkpoint at roberta-base and are newly initialized: ['classifier.dense.bias', 'classifier.dense.weight', 'classifier.out_proj.bias', 'classifier.out_proj.weight']\n",
      "You should probably TRAIN this model on a down-stream task to be able to use it for predictions and inference.\n"
     ]
    },
    {
     "name": "stdout",
     "output_type": "stream",
     "text": [
      "Epoch 1/20\n"
     ]
    },
    {
     "name": "stderr",
     "output_type": "stream",
     "text": [
      "100%|██████████| 716/716 [01:01<00:00, 11.58it/s]\n"
     ]
    },
    {
     "name": "stdout",
     "output_type": "stream",
     "text": [
      "{'val_loss': 2.015714381526156, 'val_accuracy': 0.43783371472158655, 'precision': 0.5809169577394421, 'recall': 0.43783371472158655, 'f1-score': 0.47147899459454606, 'macro_f1-score': 0.2599797774387486, 'balanced_accuracy': 0.40579568934626975, 'mcc': 0.3483619329806585, 'train_loss': 2.2671588710899457}\n",
      "Epoch 2/20\n"
     ]
    },
    {
     "name": "stderr",
     "output_type": "stream",
     "text": [
      "100%|██████████| 716/716 [01:01<00:00, 11.57it/s]\n"
     ]
    },
    {
     "name": "stdout",
     "output_type": "stream",
     "text": [
      "{'val_loss': 1.7352529756906556, 'val_accuracy': 0.5415713196033562, 'precision': 0.6076463673460701, 'recall': 0.5415713196033562, 'f1-score': 0.5580682632996433, 'macro_f1-score': 0.33244409454576407, 'balanced_accuracy': 0.40079233198448766, 'mcc': 0.43712519175877323, 'train_loss': 0.8473892729916719}\n",
      "Epoch 3/20\n"
     ]
    },
    {
     "name": "stderr",
     "output_type": "stream",
     "text": [
      "100%|██████████| 716/716 [01:01<00:00, 11.56it/s]\n"
     ]
    },
    {
     "name": "stdout",
     "output_type": "stream",
     "text": [
      "{'val_loss': 1.977182827344755, 'val_accuracy': 0.5362318840579711, 'precision': 0.6315941895163943, 'recall': 0.5362318840579711, 'f1-score': 0.5645466447335129, 'macro_f1-score': 0.34520648951759236, 'balanced_accuracy': 0.4109698297428103, 'mcc': 0.44183932192890546, 'train_loss': 0.46478454996025265}\n",
      "Epoch 4/20\n"
     ]
    },
    {
     "name": "stderr",
     "output_type": "stream",
     "text": [
      "100%|██████████| 716/716 [01:01<00:00, 11.57it/s]\n"
     ]
    },
    {
     "name": "stdout",
     "output_type": "stream",
     "text": [
      "{'val_loss': 1.6822042210799892, 'val_accuracy': 0.6170861937452327, 'precision': 0.6132374371390478, 'recall': 0.6170861937452327, 'f1-score': 0.60377039283719, 'macro_f1-score': 0.37035880612700484, 'balanced_accuracy': 0.3823033310788622, 'mcc': 0.4844919946123964, 'train_loss': 0.3273560070021692}\n",
      "Epoch 5/20\n"
     ]
    },
    {
     "name": "stderr",
     "output_type": "stream",
     "text": [
      "100%|██████████| 716/716 [01:01<00:00, 11.56it/s]\n"
     ]
    },
    {
     "name": "stdout",
     "output_type": "stream",
     "text": [
      "{'val_loss': 1.8394306549211827, 'val_accuracy': 0.6018306636155606, 'precision': 0.6146468750034165, 'recall': 0.6018306636155606, 'f1-score': 0.6009294261100422, 'macro_f1-score': 0.3708705982078491, 'balanced_accuracy': 0.3963052916726771, 'mcc': 0.48607603947186856, 'train_loss': 0.2289370642766856}\n",
      "Epoch 6/20\n"
     ]
    },
    {
     "name": "stderr",
     "output_type": "stream",
     "text": [
      "100%|██████████| 716/716 [01:01<00:00, 11.56it/s]\n"
     ]
    },
    {
     "name": "stdout",
     "output_type": "stream",
     "text": [
      "{'val_loss': 1.8867555689520952, 'val_accuracy': 0.6071700991609459, 'precision': 0.634978089371561, 'recall': 0.6071700991609459, 'f1-score': 0.6129693450096895, 'macro_f1-score': 0.3751821928234477, 'balanced_accuracy': 0.41236478269462834, 'mcc': 0.5051111137673018, 'train_loss': 0.1987256238161581}\n",
      "Epoch 7/20\n"
     ]
    },
    {
     "name": "stderr",
     "output_type": "stream",
     "text": [
      "100%|██████████| 716/716 [01:01<00:00, 11.58it/s]\n"
     ]
    },
    {
     "name": "stdout",
     "output_type": "stream",
     "text": [
      "{'val_loss': 1.9607015172155893, 'val_accuracy': 0.620137299771167, 'precision': 0.6510776616960159, 'recall': 0.620137299771167, 'f1-score': 0.6179091783223378, 'macro_f1-score': 0.3841376275300936, 'balanced_accuracy': 0.40401483405698396, 'mcc': 0.5034591200109837, 'train_loss': 0.17098023035555723}\n",
      "Epoch 8/20\n"
     ]
    },
    {
     "name": "stderr",
     "output_type": "stream",
     "text": [
      "100%|██████████| 716/716 [01:01<00:00, 11.59it/s]\n"
     ]
    },
    {
     "name": "stdout",
     "output_type": "stream",
     "text": [
      "{'val_loss': 2.0374325492033143, 'val_accuracy': 0.6216628527841342, 'precision': 0.649135424135124, 'recall': 0.6216628527841342, 'f1-score': 0.6269146025297867, 'macro_f1-score': 0.39919041636307245, 'balanced_accuracy': 0.4229211491477692, 'mcc': 0.5133608096889481, 'train_loss': 0.130281903146891}\n",
      "Epoch 9/20\n"
     ]
    },
    {
     "name": "stderr",
     "output_type": "stream",
     "text": [
      "100%|██████████| 716/716 [01:01<00:00, 11.59it/s]\n"
     ]
    },
    {
     "name": "stdout",
     "output_type": "stream",
     "text": [
      "{'val_loss': 1.9836709739231482, 'val_accuracy': 0.6399694889397407, 'precision': 0.6246826777911769, 'recall': 0.6399694889397407, 'f1-score': 0.6158532942501291, 'macro_f1-score': 0.3672099983689146, 'balanced_accuracy': 0.35637690775045777, 'mcc': 0.5063376235039072, 'train_loss': 0.13614563774753247}\n",
      "Epoch 10/20\n"
     ]
    },
    {
     "name": "stderr",
     "output_type": "stream",
     "text": [
      "100%|██████████| 716/716 [01:01<00:00, 11.56it/s]\n"
     ]
    },
    {
     "name": "stdout",
     "output_type": "stream",
     "text": [
      "{'val_loss': 2.1923839297236465, 'val_accuracy': 0.6186117467581999, 'precision': 0.6404922023627372, 'recall': 0.6186117467581999, 'f1-score': 0.6179555809324869, 'macro_f1-score': 0.38649198466609763, 'balanced_accuracy': 0.42210944354796637, 'mcc': 0.5144714462978988, 'train_loss': 0.1117102708439889}\n",
      "Epoch 11/20\n"
     ]
    },
    {
     "name": "stderr",
     "output_type": "stream",
     "text": [
      "100%|██████████| 716/716 [01:01<00:00, 11.57it/s]\n"
     ]
    },
    {
     "name": "stdout",
     "output_type": "stream",
     "text": [
      "{'val_loss': 2.0285216235532992, 'val_accuracy': 0.6346300533943554, 'precision': 0.6364035746291351, 'recall': 0.6346300533943554, 'f1-score': 0.6301828496052104, 'macro_f1-score': 0.41461913878211004, 'balanced_accuracy': 0.407823688227596, 'mcc': 0.5203816874144925, 'train_loss': 0.11567634774772606}\n",
      "Epoch 12/20\n"
     ]
    },
    {
     "name": "stderr",
     "output_type": "stream",
     "text": [
      "100%|██████████| 716/716 [01:02<00:00, 11.54it/s]\n"
     ]
    },
    {
     "name": "stdout",
     "output_type": "stream",
     "text": [
      "{'val_loss': 2.1368885810782268, 'val_accuracy': 0.6132723112128147, 'precision': 0.6327534109893145, 'recall': 0.6132723112128147, 'f1-score': 0.6093437367354562, 'macro_f1-score': 0.37800717815661367, 'balanced_accuracy': 0.39428280511527153, 'mcc': 0.5000505768713727, 'train_loss': 0.12094402549672591}\n",
      "Epoch 13/20\n"
     ]
    },
    {
     "name": "stderr",
     "output_type": "stream",
     "text": [
      "100%|██████████| 716/716 [01:02<00:00, 11.54it/s]\n"
     ]
    },
    {
     "name": "stdout",
     "output_type": "stream",
     "text": [
      "{'val_loss': 2.176864469560181, 'val_accuracy': 0.6086956521739131, 'precision': 0.6463716170399857, 'recall': 0.6086956521739131, 'f1-score': 0.6148364981246546, 'macro_f1-score': 0.38358789232221, 'balanced_accuracy': 0.4020606611577287, 'mcc': 0.5063103937564102, 'train_loss': 0.08407782853610928}\n",
      "Epoch 14/20\n"
     ]
    },
    {
     "name": "stderr",
     "output_type": "stream",
     "text": [
      "100%|██████████| 716/716 [01:01<00:00, 11.55it/s]\n"
     ]
    },
    {
     "name": "stdout",
     "output_type": "stream",
     "text": [
      "{'val_loss': 2.39934857153311, 'val_accuracy': 0.5675057208237986, 'precision': 0.6270261619770281, 'recall': 0.5675057208237986, 'f1-score': 0.5769601765236124, 'macro_f1-score': 0.3336305481075601, 'balanced_accuracy': 0.3675845557152931, 'mcc': 0.4611360970515382, 'train_loss': 0.08417453733711847}\n",
      "Early stopping.\n",
      "\n",
      "[Fold 3]\n",
      "Label distribution after resampling:\n",
      "  label 0: 2000\n",
      "  label 1: 200\n",
      "  label 2: 200\n",
      "  label 3: 200\n",
      "  label 4: 200\n",
      "  label 5: 200\n",
      "  label 6: 200\n",
      "  label 7: 200\n",
      "  label 8: 200\n",
      "  label 9: 200\n",
      "  label 10: 200\n",
      "  label 11: 200\n",
      "  label 12: 200\n",
      "  label 13: 200\n",
      "  label 14: 200\n",
      "  label 15: 200\n",
      "  label 16: 200\n",
      "  label 17: 200\n",
      "  label 18: 200\n",
      "  label 19: 200\n",
      "  label 20: 200\n",
      "  label 21: 200\n",
      "  label 22: 200\n",
      "  label 23: 200\n",
      "  label 24: 200\n",
      "  label 25: 200\n",
      "  label 26: 200\n",
      "  label 27: 200\n",
      "  label 28: 200\n",
      "  label 29: 200\n",
      "  label 30: 200\n",
      "  label 31: 200\n",
      "  label 32: 200\n",
      "  label 33: 200\n",
      "  label 34: 200\n",
      "  label 35: 200\n",
      "  label 36: 200\n",
      "  label 37: 200\n",
      "  label 38: 200\n",
      "  label 39: 200\n",
      "  label 40: 200\n",
      "  label 41: 200\n",
      "  label 42: 200\n",
      "  label 43: 200\n",
      "  label 44: 200\n",
      "  label 45: 241\n",
      "  label 46: 200\n",
      "  label 47: 200\n",
      "model is roberta-base\n"
     ]
    },
    {
     "name": "stderr",
     "output_type": "stream",
     "text": [
      "Some weights of RobertaForSequenceClassification were not initialized from the model checkpoint at roberta-base and are newly initialized: ['classifier.dense.bias', 'classifier.dense.weight', 'classifier.out_proj.bias', 'classifier.out_proj.weight']\n",
      "You should probably TRAIN this model on a down-stream task to be able to use it for predictions and inference.\n"
     ]
    },
    {
     "name": "stdout",
     "output_type": "stream",
     "text": [
      "Epoch 1/20\n"
     ]
    },
    {
     "name": "stderr",
     "output_type": "stream",
     "text": [
      "100%|██████████| 716/716 [01:01<00:00, 11.56it/s]\n"
     ]
    },
    {
     "name": "stdout",
     "output_type": "stream",
     "text": [
      "{'val_loss': 1.6715097507325614, 'val_accuracy': 0.5385202135774219, 'precision': 0.5812634903600609, 'recall': 0.5385202135774219, 'f1-score': 0.5425832746640733, 'macro_f1-score': 0.3234818925461128, 'balanced_accuracy': 0.37998836968479005, 'mcc': 0.410529334543285, 'train_loss': 2.1031762870163893}\n",
      "Epoch 2/20\n"
     ]
    },
    {
     "name": "stderr",
     "output_type": "stream",
     "text": [
      "100%|██████████| 716/716 [01:01<00:00, 11.56it/s]\n"
     ]
    },
    {
     "name": "stdout",
     "output_type": "stream",
     "text": [
      "{'val_loss': 1.5774056166410446, 'val_accuracy': 0.5842868039664378, 'precision': 0.6242076015551735, 'recall': 0.5842868039664378, 'f1-score': 0.5880466374544696, 'macro_f1-score': 0.3877427028225748, 'balanced_accuracy': 0.4202424005224099, 'mcc': 0.46477418395999415, 'train_loss': 0.7190936666642779}\n",
      "Epoch 3/20\n"
     ]
    },
    {
     "name": "stderr",
     "output_type": "stream",
     "text": [
      "100%|██████████| 716/716 [01:01<00:00, 11.55it/s]\n"
     ]
    },
    {
     "name": "stdout",
     "output_type": "stream",
     "text": [
      "{'val_loss': 1.7186358812742117, 'val_accuracy': 0.6079328756674295, 'precision': 0.6247195211297548, 'recall': 0.6079328756674295, 'f1-score': 0.6080038886142324, 'macro_f1-score': 0.3917882507820713, 'balanced_accuracy': 0.39694016878271965, 'mcc': 0.48741387795286567, 'train_loss': 0.38833649695575156}\n",
      "Epoch 4/20\n"
     ]
    },
    {
     "name": "stderr",
     "output_type": "stream",
     "text": [
      "100%|██████████| 716/716 [01:01<00:00, 11.57it/s]\n"
     ]
    },
    {
     "name": "stdout",
     "output_type": "stream",
     "text": [
      "{'val_loss': 1.8570115931513833, 'val_accuracy': 0.5865751334858886, 'precision': 0.6262439052665852, 'recall': 0.5865751334858886, 'f1-score': 0.5992780605315355, 'macro_f1-score': 0.37873638232343027, 'balanced_accuracy': 0.3884740865501275, 'mcc': 0.4714999737896322, 'train_loss': 0.27058339625982014}\n",
      "Epoch 5/20\n"
     ]
    },
    {
     "name": "stderr",
     "output_type": "stream",
     "text": [
      "100%|██████████| 716/716 [01:01<00:00, 11.58it/s]\n"
     ]
    },
    {
     "name": "stdout",
     "output_type": "stream",
     "text": [
      "{'val_loss': 1.9642671186749527, 'val_accuracy': 0.6224256292906178, 'precision': 0.6157071796666765, 'recall': 0.6224256292906178, 'f1-score': 0.6042197013969601, 'macro_f1-score': 0.3548901284847481, 'balanced_accuracy': 0.3367983939307138, 'mcc': 0.4889026230227214, 'train_loss': 0.19549376022476475}\n",
      "Epoch 6/20\n"
     ]
    },
    {
     "name": "stderr",
     "output_type": "stream",
     "text": [
      "100%|██████████| 716/716 [01:02<00:00, 11.54it/s]\n"
     ]
    },
    {
     "name": "stdout",
     "output_type": "stream",
     "text": [
      "{'val_loss': 1.9103815055838445, 'val_accuracy': 0.631578947368421, 'precision': 0.6047353150442558, 'recall': 0.631578947368421, 'f1-score': 0.6026639136082563, 'macro_f1-score': 0.3651728114745179, 'balanced_accuracy': 0.3411492493281901, 'mcc': 0.49918352046421716, 'train_loss': 0.17432227005073853}\n",
      "Early stopping.\n",
      "\n",
      "[Fold 4]\n",
      "Label distribution after resampling:\n",
      "  label 0: 2000\n",
      "  label 1: 200\n",
      "  label 2: 200\n",
      "  label 3: 200\n",
      "  label 4: 200\n",
      "  label 5: 200\n",
      "  label 6: 200\n",
      "  label 7: 200\n",
      "  label 8: 200\n",
      "  label 9: 200\n",
      "  label 10: 200\n",
      "  label 11: 200\n",
      "  label 12: 200\n",
      "  label 13: 200\n",
      "  label 14: 200\n",
      "  label 15: 200\n",
      "  label 16: 200\n",
      "  label 17: 200\n",
      "  label 18: 200\n",
      "  label 19: 200\n",
      "  label 20: 200\n",
      "  label 21: 200\n",
      "  label 22: 200\n",
      "  label 23: 200\n",
      "  label 24: 200\n",
      "  label 25: 200\n",
      "  label 26: 200\n",
      "  label 27: 200\n",
      "  label 28: 200\n",
      "  label 29: 200\n",
      "  label 30: 200\n",
      "  label 31: 200\n",
      "  label 32: 200\n",
      "  label 33: 200\n",
      "  label 34: 200\n",
      "  label 35: 200\n",
      "  label 36: 200\n",
      "  label 37: 200\n",
      "  label 38: 200\n",
      "  label 39: 200\n",
      "  label 40: 200\n",
      "  label 41: 200\n",
      "  label 42: 200\n",
      "  label 43: 200\n",
      "  label 44: 200\n",
      "  label 45: 241\n",
      "  label 46: 200\n",
      "  label 47: 200\n",
      "model is roberta-base\n"
     ]
    },
    {
     "name": "stderr",
     "output_type": "stream",
     "text": [
      "Some weights of RobertaForSequenceClassification were not initialized from the model checkpoint at roberta-base and are newly initialized: ['classifier.dense.bias', 'classifier.dense.weight', 'classifier.out_proj.bias', 'classifier.out_proj.weight']\n",
      "You should probably TRAIN this model on a down-stream task to be able to use it for predictions and inference.\n"
     ]
    },
    {
     "name": "stdout",
     "output_type": "stream",
     "text": [
      "Epoch 1/20\n"
     ]
    },
    {
     "name": "stderr",
     "output_type": "stream",
     "text": [
      "100%|██████████| 716/716 [01:01<00:00, 11.56it/s]\n"
     ]
    },
    {
     "name": "stdout",
     "output_type": "stream",
     "text": [
      "{'val_loss': 1.607834608816519, 'val_accuracy': 0.5583524027459954, 'precision': 0.5713701308581552, 'recall': 0.5583524027459954, 'f1-score': 0.5328894001560015, 'macro_f1-score': 0.3197512301336061, 'balanced_accuracy': 0.4003949837172421, 'mcc': 0.4236515469219119, 'train_loss': 2.15380683666168}\n",
      "Epoch 2/20\n"
     ]
    },
    {
     "name": "stderr",
     "output_type": "stream",
     "text": [
      "100%|██████████| 716/716 [01:01<00:00, 11.55it/s]\n"
     ]
    },
    {
     "name": "stdout",
     "output_type": "stream",
     "text": [
      "{'val_loss': 1.4822865368389502, 'val_accuracy': 0.6247139588100686, 'precision': 0.6634913430994859, 'recall': 0.6247139588100686, 'f1-score': 0.6247959725986876, 'macro_f1-score': 0.41850180213316884, 'balanced_accuracy': 0.44815950765966023, 'mcc': 0.5121598217123075, 'train_loss': 0.8188192881487685}\n",
      "Epoch 3/20\n"
     ]
    },
    {
     "name": "stderr",
     "output_type": "stream",
     "text": [
      "100%|██████████| 716/716 [01:02<00:00, 11.55it/s]\n"
     ]
    },
    {
     "name": "stdout",
     "output_type": "stream",
     "text": [
      "{'val_loss': 1.6199147628574837, 'val_accuracy': 0.6102212051868803, 'precision': 0.6531688486111799, 'recall': 0.6102212051868803, 'f1-score': 0.6180402437141748, 'macro_f1-score': 0.4037030084118644, 'balanced_accuracy': 0.42979959326826994, 'mcc': 0.503347288765096, 'train_loss': 0.4456941181294329}\n",
      "Epoch 4/20\n"
     ]
    },
    {
     "name": "stderr",
     "output_type": "stream",
     "text": [
      "100%|██████████| 716/716 [01:01<00:00, 11.57it/s]\n"
     ]
    },
    {
     "name": "stdout",
     "output_type": "stream",
     "text": [
      "{'val_loss': 1.6365910768508911, 'val_accuracy': 0.6361556064073226, 'precision': 0.647016084464157, 'recall': 0.6361556064073226, 'f1-score': 0.635169366517101, 'macro_f1-score': 0.4234239920108374, 'balanced_accuracy': 0.4481033331773942, 'mcc': 0.5263898334112639, 'train_loss': 0.30985075450767685}\n",
      "Epoch 5/20\n"
     ]
    },
    {
     "name": "stderr",
     "output_type": "stream",
     "text": [
      "100%|██████████| 716/716 [01:01<00:00, 11.57it/s]\n"
     ]
    },
    {
     "name": "stdout",
     "output_type": "stream",
     "text": [
      "{'val_loss': 1.815842436944566, 'val_accuracy': 0.6102212051868803, 'precision': 0.6638092732522444, 'recall': 0.6102212051868803, 'f1-score': 0.6220008566314691, 'macro_f1-score': 0.40917040333630955, 'balanced_accuracy': 0.4380901441543792, 'mcc': 0.5133822622677968, 'train_loss': 0.21243376722403245}\n",
      "Epoch 6/20\n"
     ]
    },
    {
     "name": "stderr",
     "output_type": "stream",
     "text": [
      "100%|██████████| 716/716 [01:01<00:00, 11.55it/s]\n"
     ]
    },
    {
     "name": "stdout",
     "output_type": "stream",
     "text": [
      "{'val_loss': 1.893518487127816, 'val_accuracy': 0.6109839816933639, 'precision': 0.6473910121237959, 'recall': 0.6109839816933639, 'f1-score': 0.6151190290966597, 'macro_f1-score': 0.40928451322069215, 'balanced_accuracy': 0.4285916072496579, 'mcc': 0.5138879582096046, 'train_loss': 0.1844791807273309}\n",
      "Epoch 7/20\n"
     ]
    },
    {
     "name": "stderr",
     "output_type": "stream",
     "text": [
      "100%|██████████| 716/716 [01:01<00:00, 11.56it/s]\n"
     ]
    },
    {
     "name": "stdout",
     "output_type": "stream",
     "text": [
      "{'val_loss': 1.844086077700301, 'val_accuracy': 0.6399694889397407, 'precision': 0.6392843875843665, 'recall': 0.6399694889397407, 'f1-score': 0.630577908978137, 'macro_f1-score': 0.40797958350481434, 'balanced_accuracy': 0.41909077271783585, 'mcc': 0.5235924917200584, 'train_loss': 0.16015537195141796}\n",
      "Early stopping.\n",
      "\n",
      "[Fold 5]\n",
      "Label distribution after resampling:\n",
      "  label 0: 2000\n",
      "  label 1: 200\n",
      "  label 2: 200\n",
      "  label 3: 200\n",
      "  label 4: 200\n",
      "  label 5: 200\n",
      "  label 6: 200\n",
      "  label 7: 200\n",
      "  label 8: 200\n",
      "  label 9: 200\n",
      "  label 10: 200\n",
      "  label 11: 200\n",
      "  label 12: 200\n",
      "  label 13: 200\n",
      "  label 14: 200\n",
      "  label 15: 200\n",
      "  label 16: 200\n",
      "  label 17: 200\n",
      "  label 18: 200\n",
      "  label 19: 200\n",
      "  label 20: 200\n",
      "  label 21: 200\n",
      "  label 22: 200\n",
      "  label 23: 200\n",
      "  label 24: 200\n",
      "  label 25: 200\n",
      "  label 26: 200\n",
      "  label 27: 200\n",
      "  label 28: 200\n",
      "  label 29: 200\n",
      "  label 30: 200\n",
      "  label 31: 200\n",
      "  label 32: 200\n",
      "  label 33: 200\n",
      "  label 34: 200\n",
      "  label 35: 200\n",
      "  label 36: 200\n",
      "  label 37: 200\n",
      "  label 38: 200\n",
      "  label 39: 200\n",
      "  label 40: 200\n",
      "  label 41: 200\n",
      "  label 42: 200\n",
      "  label 43: 200\n",
      "  label 44: 200\n",
      "  label 45: 242\n",
      "  label 46: 200\n",
      "  label 47: 200\n",
      "model is roberta-base\n"
     ]
    },
    {
     "name": "stderr",
     "output_type": "stream",
     "text": [
      "Some weights of RobertaForSequenceClassification were not initialized from the model checkpoint at roberta-base and are newly initialized: ['classifier.dense.bias', 'classifier.dense.weight', 'classifier.out_proj.bias', 'classifier.out_proj.weight']\n",
      "You should probably TRAIN this model on a down-stream task to be able to use it for predictions and inference.\n"
     ]
    },
    {
     "name": "stdout",
     "output_type": "stream",
     "text": [
      "Epoch 1/20\n"
     ]
    },
    {
     "name": "stderr",
     "output_type": "stream",
     "text": [
      "100%|██████████| 716/716 [01:01<00:00, 11.56it/s]\n"
     ]
    },
    {
     "name": "stdout",
     "output_type": "stream",
     "text": [
      "{'val_loss': 1.7107422017469638, 'val_accuracy': 0.5217391304347826, 'precision': 0.5864632587608823, 'recall': 0.5217391304347826, 'f1-score': 0.5297630117145693, 'macro_f1-score': 0.30309272993159087, 'balanced_accuracy': 0.39738022013582563, 'mcc': 0.40206154366767394, 'train_loss': 2.2402620924085213}\n",
      "Epoch 2/20\n"
     ]
    },
    {
     "name": "stderr",
     "output_type": "stream",
     "text": [
      "100%|██████████| 716/716 [01:01<00:00, 11.58it/s]\n"
     ]
    },
    {
     "name": "stdout",
     "output_type": "stream",
     "text": [
      "{'val_loss': 1.6334975572620951, 'val_accuracy': 0.5720823798627003, 'precision': 0.6398065347745258, 'recall': 0.5720823798627003, 'f1-score': 0.588507483624603, 'macro_f1-score': 0.38436302506375847, 'balanced_accuracy': 0.436408955600528, 'mcc': 0.4731787041313518, 'train_loss': 0.8504038992852971}\n",
      "Epoch 3/20\n"
     ]
    },
    {
     "name": "stderr",
     "output_type": "stream",
     "text": [
      "100%|██████████| 716/716 [01:01<00:00, 11.58it/s]\n"
     ]
    },
    {
     "name": "stdout",
     "output_type": "stream",
     "text": [
      "{'val_loss': 1.5334909089454791, 'val_accuracy': 0.627765064836003, 'precision': 0.63576932494769, 'recall': 0.627765064836003, 'f1-score': 0.6256593895625918, 'macro_f1-score': 0.41158053419500895, 'balanced_accuracy': 0.41230549533591737, 'mcc': 0.5106955097021985, 'train_loss': 0.47153196594672664}\n",
      "Epoch 4/20\n"
     ]
    },
    {
     "name": "stderr",
     "output_type": "stream",
     "text": [
      "100%|██████████| 716/716 [01:01<00:00, 11.56it/s]\n"
     ]
    },
    {
     "name": "stdout",
     "output_type": "stream",
     "text": [
      "{'val_loss': 1.5877469425521247, 'val_accuracy': 0.6437833714721587, 'precision': 0.6550851194396621, 'recall': 0.6437833714721587, 'f1-score': 0.6341027526924147, 'macro_f1-score': 0.41788291202056443, 'balanced_accuracy': 0.4128965586588225, 'mcc': 0.5306419104360083, 'train_loss': 0.3179133813021777}\n",
      "Epoch 5/20\n"
     ]
    },
    {
     "name": "stderr",
     "output_type": "stream",
     "text": [
      "100%|██████████| 716/716 [01:01<00:00, 11.56it/s]\n"
     ]
    },
    {
     "name": "stdout",
     "output_type": "stream",
     "text": [
      "{'val_loss': 1.7567531517366084, 'val_accuracy': 0.6361556064073226, 'precision': 0.6682687997636924, 'recall': 0.6361556064073226, 'f1-score': 0.634429557737698, 'macro_f1-score': 0.43754524731858124, 'balanced_accuracy': 0.45579468352598945, 'mcc': 0.5348944310849117, 'train_loss': 0.2374776613133746}\n",
      "Epoch 6/20\n"
     ]
    },
    {
     "name": "stderr",
     "output_type": "stream",
     "text": [
      "100%|██████████| 716/716 [01:01<00:00, 11.56it/s]\n"
     ]
    },
    {
     "name": "stdout",
     "output_type": "stream",
     "text": [
      "{'val_loss': 1.7625422594023914, 'val_accuracy': 0.631578947368421, 'precision': 0.6373732278269785, 'recall': 0.631578947368421, 'f1-score': 0.6181964305307469, 'macro_f1-score': 0.41772042119266367, 'balanced_accuracy': 0.40868040302797654, 'mcc': 0.5077457291792198, 'train_loss': 0.19179047481677178}\n",
      "Epoch 7/20\n"
     ]
    },
    {
     "name": "stderr",
     "output_type": "stream",
     "text": [
      "100%|██████████| 716/716 [01:01<00:00, 11.57it/s]\n"
     ]
    },
    {
     "name": "stdout",
     "output_type": "stream",
     "text": [
      "{'val_loss': 1.9385535150039486, 'val_accuracy': 0.6216628527841342, 'precision': 0.6290991821674594, 'recall': 0.6216628527841342, 'f1-score': 0.616398278475046, 'macro_f1-score': 0.4291686592932415, 'balanced_accuracy': 0.4391872762374522, 'mcc': 0.5139460864919091, 'train_loss': 0.14872918982779368}\n",
      "Epoch 8/20\n"
     ]
    },
    {
     "name": "stderr",
     "output_type": "stream",
     "text": [
      "100%|██████████| 716/716 [01:01<00:00, 11.58it/s]\n"
     ]
    },
    {
     "name": "stdout",
     "output_type": "stream",
     "text": [
      "{'val_loss': 1.9287813236800635, 'val_accuracy': 0.631578947368421, 'precision': 0.6492310987903304, 'recall': 0.631578947368421, 'f1-score': 0.6330437851332181, 'macro_f1-score': 0.40735729328124215, 'balanced_accuracy': 0.4042009232276638, 'mcc': 0.5190353196968522, 'train_loss': 0.1309992636920749}\n",
      "Early stopping.\n",
      "\n",
      " === roberta-base + plain + ros Final 5-fold Cross-Validation Results ===\n",
      "val_loss: 1.7873\n",
      "val_accuracy: 0.6295\n",
      "precision: 0.6420\n",
      "recall: 0.6295\n",
      "f1-score: 0.6254\n",
      "macro_f1-score: 0.4173\n",
      "balanced_accuracy: 0.4279\n",
      "mcc: 0.5150\n",
      "train_loss: 0.2602\n",
      "total_seconds: 2797.0000\n",
      "total_time: 0 hrs 46 mins 37 secs\n",
      "▶ Running: roberta-base + cnn + ros\n",
      "tokenizer is roberta-base\n",
      "Using device: cuda\n",
      "CUDA Available: True\n",
      "CUDA Device: NVIDIA GeForce RTX 5070 Ti\n",
      "Current GPU Memory Allocated: 0.02 GB\n",
      "Current GPU Memory Cached: 3.92 GB\n",
      "\n",
      "[Fold 1]\n",
      "Label distribution after resampling:\n",
      "  label 0: 2000\n",
      "  label 1: 200\n",
      "  label 2: 200\n",
      "  label 3: 200\n",
      "  label 4: 200\n",
      "  label 5: 200\n",
      "  label 6: 200\n",
      "  label 7: 200\n",
      "  label 8: 200\n",
      "  label 9: 200\n",
      "  label 10: 200\n",
      "  label 11: 200\n",
      "  label 12: 200\n",
      "  label 13: 200\n",
      "  label 14: 200\n",
      "  label 15: 200\n",
      "  label 16: 200\n",
      "  label 17: 200\n",
      "  label 18: 200\n",
      "  label 19: 200\n",
      "  label 20: 200\n",
      "  label 21: 200\n",
      "  label 22: 200\n",
      "  label 23: 200\n",
      "  label 24: 200\n",
      "  label 25: 200\n",
      "  label 26: 200\n",
      "  label 27: 200\n",
      "  label 28: 200\n",
      "  label 29: 200\n",
      "  label 30: 200\n",
      "  label 31: 200\n",
      "  label 32: 200\n",
      "  label 33: 200\n",
      "  label 34: 200\n",
      "  label 35: 200\n",
      "  label 36: 200\n",
      "  label 37: 200\n",
      "  label 38: 200\n",
      "  label 39: 200\n",
      "  label 40: 200\n",
      "  label 41: 200\n",
      "  label 42: 200\n",
      "  label 43: 200\n",
      "  label 44: 200\n",
      "  label 45: 242\n",
      "  label 46: 200\n",
      "  label 47: 200\n",
      "model is roberta-base cnn\n"
     ]
    },
    {
     "name": "stderr",
     "output_type": "stream",
     "text": [
      "Some weights of RobertaModel were not initialized from the model checkpoint at roberta-base and are newly initialized: ['pooler.dense.bias', 'pooler.dense.weight']\n",
      "You should probably TRAIN this model on a down-stream task to be able to use it for predictions and inference.\n"
     ]
    },
    {
     "name": "stdout",
     "output_type": "stream",
     "text": [
      "Epoch 1/20\n"
     ]
    },
    {
     "name": "stderr",
     "output_type": "stream",
     "text": [
      "100%|██████████| 716/716 [01:03<00:00, 11.36it/s]\n"
     ]
    },
    {
     "name": "stdout",
     "output_type": "stream",
     "text": [
      "{'val_loss': 1.6893139379780466, 'val_accuracy': 0.5548780487804879, 'precision': 0.5680209524964511, 'recall': 0.5548780487804879, 'f1-score': 0.5215858308020673, 'macro_f1-score': 0.2822681629036058, 'balanced_accuracy': 0.34689760709152134, 'mcc': 0.39974858874230335, 'train_loss': 2.513884652093802}\n",
      "Epoch 2/20\n"
     ]
    },
    {
     "name": "stderr",
     "output_type": "stream",
     "text": [
      "100%|██████████| 716/716 [01:03<00:00, 11.35it/s]\n"
     ]
    },
    {
     "name": "stdout",
     "output_type": "stream",
     "text": [
      "{'val_loss': 1.6196308732032776, 'val_accuracy': 0.5769817073170732, 'precision': 0.6252344770492854, 'recall': 0.5769817073170732, 'f1-score': 0.5783399740939819, 'macro_f1-score': 0.36638512610950325, 'balanced_accuracy': 0.41674711806617926, 'mcc': 0.45691579860616266, 'train_loss': 0.977526578594353}\n",
      "Epoch 3/20\n"
     ]
    },
    {
     "name": "stderr",
     "output_type": "stream",
     "text": [
      "100%|██████████| 716/716 [01:03<00:00, 11.36it/s]\n"
     ]
    },
    {
     "name": "stdout",
     "output_type": "stream",
     "text": [
      "{'val_loss': 1.567444168939823, 'val_accuracy': 0.5960365853658537, 'precision': 0.630277025183199, 'recall': 0.5960365853658537, 'f1-score': 0.603337249121592, 'macro_f1-score': 0.39707272583184433, 'balanced_accuracy': 0.44834294628442617, 'mcc': 0.492388113747103, 'train_loss': 0.5703351671505699}\n",
      "Epoch 4/20\n"
     ]
    },
    {
     "name": "stderr",
     "output_type": "stream",
     "text": [
      "100%|██████████| 716/716 [01:03<00:00, 11.35it/s]\n"
     ]
    },
    {
     "name": "stdout",
     "output_type": "stream",
     "text": [
      "{'val_loss': 1.7350860997671034, 'val_accuracy': 0.5807926829268293, 'precision': 0.6311107895334606, 'recall': 0.5807926829268293, 'f1-score': 0.5943263869119473, 'macro_f1-score': 0.3872337000767925, 'balanced_accuracy': 0.4353151577896231, 'mcc': 0.47813617533162645, 'train_loss': 0.3510696285654005}\n",
      "Epoch 5/20\n"
     ]
    },
    {
     "name": "stderr",
     "output_type": "stream",
     "text": [
      "100%|██████████| 716/716 [01:03<00:00, 11.34it/s]\n"
     ]
    },
    {
     "name": "stdout",
     "output_type": "stream",
     "text": [
      "{'val_loss': 1.8975642228998788, 'val_accuracy': 0.5571646341463414, 'precision': 0.6283236658994508, 'recall': 0.5571646341463414, 'f1-score': 0.5798280529645717, 'macro_f1-score': 0.4087328130058843, 'balanced_accuracy': 0.43648870788087574, 'mcc': 0.45984930313301275, 'train_loss': 0.25602467987405436}\n",
      "Epoch 6/20\n"
     ]
    },
    {
     "name": "stderr",
     "output_type": "stream",
     "text": [
      "100%|██████████| 716/716 [01:03<00:00, 11.35it/s]\n"
     ]
    },
    {
     "name": "stdout",
     "output_type": "stream",
     "text": [
      "{'val_loss': 1.911391522826218, 'val_accuracy': 0.5891768292682927, 'precision': 0.6276084107166099, 'recall': 0.5891768292682927, 'f1-score': 0.5920361051447696, 'macro_f1-score': 0.3906081434113302, 'balanced_accuracy': 0.41800647891794807, 'mcc': 0.4740185279179032, 'train_loss': 0.22326016534827442}\n",
      "Epoch 7/20\n"
     ]
    },
    {
     "name": "stderr",
     "output_type": "stream",
     "text": [
      "100%|██████████| 716/716 [01:03<00:00, 11.34it/s]\n"
     ]
    },
    {
     "name": "stdout",
     "output_type": "stream",
     "text": [
      "{'val_loss': 1.8809738975109123, 'val_accuracy': 0.6128048780487805, 'precision': 0.6234516606296896, 'recall': 0.6128048780487805, 'f1-score': 0.6026022832501557, 'macro_f1-score': 0.3906537428849941, 'balanced_accuracy': 0.3898674614942032, 'mcc': 0.483643456771705, 'train_loss': 0.18231374881891715}\n",
      "Epoch 8/20\n"
     ]
    },
    {
     "name": "stderr",
     "output_type": "stream",
     "text": [
      "100%|██████████| 716/716 [01:03<00:00, 11.34it/s]\n"
     ]
    },
    {
     "name": "stdout",
     "output_type": "stream",
     "text": [
      "{'val_loss': 1.9641447354380677, 'val_accuracy': 0.6074695121951219, 'precision': 0.6386206970077352, 'recall': 0.6074695121951219, 'f1-score': 0.6099491797017461, 'macro_f1-score': 0.4035097845436148, 'balanced_accuracy': 0.40560110533688726, 'mcc': 0.49568204121893006, 'train_loss': 0.13281878828547125}\n",
      "Early stopping.\n",
      "\n",
      "[Fold 2]\n",
      "Label distribution after resampling:\n",
      "  label 0: 2000\n",
      "  label 1: 200\n",
      "  label 2: 200\n",
      "  label 3: 200\n",
      "  label 4: 200\n",
      "  label 5: 200\n",
      "  label 6: 200\n",
      "  label 7: 200\n",
      "  label 8: 200\n",
      "  label 9: 200\n",
      "  label 10: 200\n",
      "  label 11: 200\n",
      "  label 12: 200\n",
      "  label 13: 200\n",
      "  label 14: 200\n",
      "  label 15: 200\n",
      "  label 16: 200\n",
      "  label 17: 200\n",
      "  label 18: 200\n",
      "  label 19: 200\n",
      "  label 20: 200\n",
      "  label 21: 200\n",
      "  label 22: 200\n",
      "  label 23: 200\n",
      "  label 24: 200\n",
      "  label 25: 200\n",
      "  label 26: 200\n",
      "  label 27: 200\n",
      "  label 28: 200\n",
      "  label 29: 200\n",
      "  label 30: 200\n",
      "  label 31: 200\n",
      "  label 32: 200\n",
      "  label 33: 200\n",
      "  label 34: 200\n",
      "  label 35: 200\n",
      "  label 36: 200\n",
      "  label 37: 200\n",
      "  label 38: 200\n",
      "  label 39: 200\n",
      "  label 40: 200\n",
      "  label 41: 200\n",
      "  label 42: 200\n",
      "  label 43: 200\n",
      "  label 44: 200\n",
      "  label 45: 242\n",
      "  label 46: 200\n",
      "  label 47: 200\n",
      "model is roberta-base cnn\n"
     ]
    },
    {
     "name": "stderr",
     "output_type": "stream",
     "text": [
      "Some weights of RobertaModel were not initialized from the model checkpoint at roberta-base and are newly initialized: ['pooler.dense.bias', 'pooler.dense.weight']\n",
      "You should probably TRAIN this model on a down-stream task to be able to use it for predictions and inference.\n"
     ]
    },
    {
     "name": "stdout",
     "output_type": "stream",
     "text": [
      "Epoch 1/20\n"
     ]
    },
    {
     "name": "stderr",
     "output_type": "stream",
     "text": [
      "100%|██████████| 716/716 [01:03<00:00, 11.35it/s]\n"
     ]
    },
    {
     "name": "stdout",
     "output_type": "stream",
     "text": [
      "{'val_loss': 1.663009944485455, 'val_accuracy': 0.5575896262395118, 'precision': 0.5682525689663777, 'recall': 0.5575896262395118, 'f1-score': 0.5208310418404665, 'macro_f1-score': 0.27602958252534743, 'balanced_accuracy': 0.3347764856901869, 'mcc': 0.39389312975145885, 'train_loss': 2.3703787529934717}\n",
      "Epoch 2/20\n"
     ]
    },
    {
     "name": "stderr",
     "output_type": "stream",
     "text": [
      "100%|██████████| 716/716 [01:03<00:00, 11.35it/s]\n"
     ]
    },
    {
     "name": "stdout",
     "output_type": "stream",
     "text": [
      "{'val_loss': 1.5099540389165647, 'val_accuracy': 0.5949656750572082, 'precision': 0.5987512114290464, 'recall': 0.5949656750572082, 'f1-score': 0.5814372315517522, 'macro_f1-score': 0.3436289185439308, 'balanced_accuracy': 0.3766444256624262, 'mcc': 0.4631818992089369, 'train_loss': 0.9022204573864544}\n",
      "Epoch 3/20\n"
     ]
    },
    {
     "name": "stderr",
     "output_type": "stream",
     "text": [
      "100%|██████████| 716/716 [01:03<00:00, 11.35it/s]\n"
     ]
    },
    {
     "name": "stdout",
     "output_type": "stream",
     "text": [
      "{'val_loss': 1.5363135119763816, 'val_accuracy': 0.6270022883295194, 'precision': 0.6286613645694534, 'recall': 0.6270022883295194, 'f1-score': 0.6172523736764283, 'macro_f1-score': 0.37042466562684034, 'balanced_accuracy': 0.3677312558538814, 'mcc': 0.5112807881306235, 'train_loss': 0.4861033229656809}\n",
      "Epoch 4/20\n"
     ]
    },
    {
     "name": "stderr",
     "output_type": "stream",
     "text": [
      "100%|██████████| 716/716 [01:03<00:00, 11.34it/s]\n"
     ]
    },
    {
     "name": "stdout",
     "output_type": "stream",
     "text": [
      "{'val_loss': 1.699958695871074, 'val_accuracy': 0.6071700991609459, 'precision': 0.5908774744223754, 'recall': 0.6071700991609459, 'f1-score': 0.5875184561904684, 'macro_f1-score': 0.3382147897279128, 'balanced_accuracy': 0.351437242650863, 'mcc': 0.4733992639044743, 'train_loss': 0.3188167639615212}\n",
      "Epoch 5/20\n"
     ]
    },
    {
     "name": "stderr",
     "output_type": "stream",
     "text": [
      "100%|██████████| 716/716 [01:03<00:00, 11.35it/s]\n"
     ]
    },
    {
     "name": "stdout",
     "output_type": "stream",
     "text": [
      "{'val_loss': 1.8118911850743178, 'val_accuracy': 0.6178489702517163, 'precision': 0.6040150732707916, 'recall': 0.6178489702517163, 'f1-score': 0.5922634039245249, 'macro_f1-score': 0.3570633566874644, 'balanced_accuracy': 0.3484106514165373, 'mcc': 0.47694990274541516, 'train_loss': 0.2337130365695534}\n",
      "Epoch 6/20\n"
     ]
    },
    {
     "name": "stderr",
     "output_type": "stream",
     "text": [
      "100%|██████████| 716/716 [01:03<00:00, 11.35it/s]\n"
     ]
    },
    {
     "name": "stdout",
     "output_type": "stream",
     "text": [
      "{'val_loss': 1.879256033679334, 'val_accuracy': 0.6170861937452327, 'precision': 0.6407306093059715, 'recall': 0.6170861937452327, 'f1-score': 0.6186711609932669, 'macro_f1-score': 0.38888416651139357, 'balanced_accuracy': 0.41186634227611973, 'mcc': 0.509216937537735, 'train_loss': 0.18850332502387568}\n",
      "Epoch 7/20\n"
     ]
    },
    {
     "name": "stderr",
     "output_type": "stream",
     "text": [
      "100%|██████████| 716/716 [01:03<00:00, 11.32it/s]\n"
     ]
    },
    {
     "name": "stdout",
     "output_type": "stream",
     "text": [
      "{'val_loss': 1.8954457611572453, 'val_accuracy': 0.6033562166285278, 'precision': 0.6146610025562482, 'recall': 0.6033562166285278, 'f1-score': 0.5995056952007065, 'macro_f1-score': 0.35362357929133953, 'balanced_accuracy': 0.39564362413274673, 'mcc': 0.4877086656877523, 'train_loss': 0.1603095095595553}\n",
      "Epoch 8/20\n"
     ]
    },
    {
     "name": "stderr",
     "output_type": "stream",
     "text": [
      "100%|██████████| 716/716 [01:03<00:00, 11.34it/s]\n"
     ]
    },
    {
     "name": "stdout",
     "output_type": "stream",
     "text": [
      "{'val_loss': 1.933894108708312, 'val_accuracy': 0.601067887109077, 'precision': 0.6377003207032004, 'recall': 0.601067887109077, 'f1-score': 0.6095746988191949, 'macro_f1-score': 0.3965605087302175, 'balanced_accuracy': 0.400711566222792, 'mcc': 0.4924156255154468, 'train_loss': 0.1364444096978525}\n",
      "Epoch 9/20\n"
     ]
    },
    {
     "name": "stderr",
     "output_type": "stream",
     "text": [
      "100%|██████████| 716/716 [01:03<00:00, 11.36it/s]\n"
     ]
    },
    {
     "name": "stdout",
     "output_type": "stream",
     "text": [
      "{'val_loss': 2.0529226987827114, 'val_accuracy': 0.6117467581998475, 'precision': 0.5915495830109603, 'recall': 0.6117467581998475, 'f1-score': 0.5921523237209604, 'macro_f1-score': 0.3526796143264655, 'balanced_accuracy': 0.355792549533333, 'mcc': 0.4780424787336748, 'train_loss': 0.12595768094091422}\n",
      "Epoch 10/20\n"
     ]
    },
    {
     "name": "stderr",
     "output_type": "stream",
     "text": [
      "100%|██████████| 716/716 [01:03<00:00, 11.35it/s]\n"
     ]
    },
    {
     "name": "stdout",
     "output_type": "stream",
     "text": [
      "{'val_loss': 2.1528154189993693, 'val_accuracy': 0.5926773455377574, 'precision': 0.6106731311228852, 'recall': 0.5926773455377574, 'f1-score': 0.5929703451115285, 'macro_f1-score': 0.34608432793391647, 'balanced_accuracy': 0.3766533276988013, 'mcc': 0.47596656184599007, 'train_loss': 0.13349104049750837}\n",
      "Epoch 11/20\n"
     ]
    },
    {
     "name": "stderr",
     "output_type": "stream",
     "text": [
      "100%|██████████| 716/716 [01:03<00:00, 11.35it/s]\n"
     ]
    },
    {
     "name": "stdout",
     "output_type": "stream",
     "text": [
      "{'val_loss': 2.1117591218250555, 'val_accuracy': 0.627765064836003, 'precision': 0.6350251241360314, 'recall': 0.627765064836003, 'f1-score': 0.6189970521854653, 'macro_f1-score': 0.38506368471596303, 'balanced_accuracy': 0.3715921421686443, 'mcc': 0.5004071137066679, 'train_loss': 0.09929357682369057}\n",
      "Early stopping.\n",
      "\n",
      "[Fold 3]\n",
      "Label distribution after resampling:\n",
      "  label 0: 2000\n",
      "  label 1: 200\n",
      "  label 2: 200\n",
      "  label 3: 200\n",
      "  label 4: 200\n",
      "  label 5: 200\n",
      "  label 6: 200\n",
      "  label 7: 200\n",
      "  label 8: 200\n",
      "  label 9: 200\n",
      "  label 10: 200\n",
      "  label 11: 200\n",
      "  label 12: 200\n",
      "  label 13: 200\n",
      "  label 14: 200\n",
      "  label 15: 200\n",
      "  label 16: 200\n",
      "  label 17: 200\n",
      "  label 18: 200\n",
      "  label 19: 200\n",
      "  label 20: 200\n",
      "  label 21: 200\n",
      "  label 22: 200\n",
      "  label 23: 200\n",
      "  label 24: 200\n",
      "  label 25: 200\n",
      "  label 26: 200\n",
      "  label 27: 200\n",
      "  label 28: 200\n",
      "  label 29: 200\n",
      "  label 30: 200\n",
      "  label 31: 200\n",
      "  label 32: 200\n",
      "  label 33: 200\n",
      "  label 34: 200\n",
      "  label 35: 200\n",
      "  label 36: 200\n",
      "  label 37: 200\n",
      "  label 38: 200\n",
      "  label 39: 200\n",
      "  label 40: 200\n",
      "  label 41: 200\n",
      "  label 42: 200\n",
      "  label 43: 200\n",
      "  label 44: 200\n",
      "  label 45: 241\n",
      "  label 46: 200\n",
      "  label 47: 200\n",
      "model is roberta-base cnn\n"
     ]
    },
    {
     "name": "stderr",
     "output_type": "stream",
     "text": [
      "Some weights of RobertaModel were not initialized from the model checkpoint at roberta-base and are newly initialized: ['pooler.dense.bias', 'pooler.dense.weight']\n",
      "You should probably TRAIN this model on a down-stream task to be able to use it for predictions and inference.\n"
     ]
    },
    {
     "name": "stdout",
     "output_type": "stream",
     "text": [
      "Epoch 1/20\n"
     ]
    },
    {
     "name": "stderr",
     "output_type": "stream",
     "text": [
      "100%|██████████| 716/716 [01:03<00:00, 11.35it/s]\n"
     ]
    },
    {
     "name": "stdout",
     "output_type": "stream",
     "text": [
      "{'val_loss': 1.821080446970172, 'val_accuracy': 0.4874141876430206, 'precision': 0.5933950754581166, 'recall': 0.4874141876430206, 'f1-score': 0.5107128695975797, 'macro_f1-score': 0.3103807965192471, 'balanced_accuracy': 0.4104845026538231, 'mcc': 0.37066555013206987, 'train_loss': 2.2814358877819343}\n",
      "Epoch 2/20\n"
     ]
    },
    {
     "name": "stderr",
     "output_type": "stream",
     "text": [
      "100%|██████████| 716/716 [01:03<00:00, 11.35it/s]\n"
     ]
    },
    {
     "name": "stdout",
     "output_type": "stream",
     "text": [
      "{'val_loss': 1.6128002979406497, 'val_accuracy': 0.601067887109077, 'precision': 0.5984105636602278, 'recall': 0.601067887109077, 'f1-score': 0.5839558816161388, 'macro_f1-score': 0.38465698631422834, 'balanced_accuracy': 0.3935687697786688, 'mcc': 0.46064529690401007, 'train_loss': 0.8045724524216279}\n",
      "Epoch 3/20\n"
     ]
    },
    {
     "name": "stderr",
     "output_type": "stream",
     "text": [
      "100%|██████████| 716/716 [01:03<00:00, 11.35it/s]\n"
     ]
    },
    {
     "name": "stdout",
     "output_type": "stream",
     "text": [
      "{'val_loss': 1.6849905328779686, 'val_accuracy': 0.5499618611746758, 'precision': 0.6080920188870523, 'recall': 0.5499618611746758, 'f1-score': 0.5695559911910156, 'macro_f1-score': 0.39405556916762113, 'balanced_accuracy': 0.40159067766513307, 'mcc': 0.4395614482496016, 'train_loss': 0.44160046530581815}\n",
      "Epoch 4/20\n"
     ]
    },
    {
     "name": "stderr",
     "output_type": "stream",
     "text": [
      "100%|██████████| 716/716 [01:03<00:00, 11.35it/s]\n"
     ]
    },
    {
     "name": "stdout",
     "output_type": "stream",
     "text": [
      "{'val_loss': 1.9349107051767953, 'val_accuracy': 0.5614035087719298, 'precision': 0.6218656500393136, 'recall': 0.5614035087719298, 'f1-score': 0.5756550654651766, 'macro_f1-score': 0.3786783673585341, 'balanced_accuracy': 0.40678935810514255, 'mcc': 0.4448463057671931, 'train_loss': 0.28494444568823585}\n",
      "Epoch 5/20\n"
     ]
    },
    {
     "name": "stderr",
     "output_type": "stream",
     "text": [
      "100%|██████████| 716/716 [01:03<00:00, 11.35it/s]\n"
     ]
    },
    {
     "name": "stdout",
     "output_type": "stream",
     "text": [
      "{'val_loss': 1.7829160794797467, 'val_accuracy': 0.6224256292906178, 'precision': 0.6294329545351878, 'recall': 0.6224256292906178, 'f1-score': 0.6165126938946838, 'macro_f1-score': 0.4029756059838685, 'balanced_accuracy': 0.41292117283952817, 'mcc': 0.5029872034038839, 'train_loss': 0.23294735363263158}\n",
      "Epoch 6/20\n"
     ]
    },
    {
     "name": "stderr",
     "output_type": "stream",
     "text": [
      "100%|██████████| 716/716 [01:03<00:00, 11.34it/s]\n"
     ]
    },
    {
     "name": "stdout",
     "output_type": "stream",
     "text": [
      "{'val_loss': 1.8716444798359058, 'val_accuracy': 0.5995423340961098, 'precision': 0.6170567393951764, 'recall': 0.5995423340961098, 'f1-score': 0.6006834997119592, 'macro_f1-score': 0.3809153287034615, 'balanced_accuracy': 0.3881349237191991, 'mcc': 0.48805949581377783, 'train_loss': 0.19515455133143772}\n",
      "Epoch 7/20\n"
     ]
    },
    {
     "name": "stderr",
     "output_type": "stream",
     "text": [
      "100%|██████████| 716/716 [01:03<00:00, 11.33it/s]\n"
     ]
    },
    {
     "name": "stdout",
     "output_type": "stream",
     "text": [
      "{'val_loss': 1.962851154822402, 'val_accuracy': 0.6163234172387491, 'precision': 0.6141092909070914, 'recall': 0.6163234172387491, 'f1-score': 0.6035160663040122, 'macro_f1-score': 0.38771275353375484, 'balanced_accuracy': 0.3595083282248206, 'mcc': 0.48432328703161, 'train_loss': 0.13908286026338187}\n",
      "Epoch 8/20\n"
     ]
    },
    {
     "name": "stderr",
     "output_type": "stream",
     "text": [
      "100%|██████████| 716/716 [01:03<00:00, 11.35it/s]\n"
     ]
    },
    {
     "name": "stdout",
     "output_type": "stream",
     "text": [
      "{'val_loss': 2.0784605110927328, 'val_accuracy': 0.631578947368421, 'precision': 0.6215095698626613, 'recall': 0.631578947368421, 'f1-score': 0.6181852167572055, 'macro_f1-score': 0.39762196712250913, 'balanced_accuracy': 0.4048436257223264, 'mcc': 0.5074371892498124, 'train_loss': 0.11592661391412995}\n",
      "Early stopping.\n",
      "\n",
      "[Fold 4]\n",
      "Label distribution after resampling:\n",
      "  label 0: 2000\n",
      "  label 1: 200\n",
      "  label 2: 200\n",
      "  label 3: 200\n",
      "  label 4: 200\n",
      "  label 5: 200\n",
      "  label 6: 200\n",
      "  label 7: 200\n",
      "  label 8: 200\n",
      "  label 9: 200\n",
      "  label 10: 200\n",
      "  label 11: 200\n",
      "  label 12: 200\n",
      "  label 13: 200\n",
      "  label 14: 200\n",
      "  label 15: 200\n",
      "  label 16: 200\n",
      "  label 17: 200\n",
      "  label 18: 200\n",
      "  label 19: 200\n",
      "  label 20: 200\n",
      "  label 21: 200\n",
      "  label 22: 200\n",
      "  label 23: 200\n",
      "  label 24: 200\n",
      "  label 25: 200\n",
      "  label 26: 200\n",
      "  label 27: 200\n",
      "  label 28: 200\n",
      "  label 29: 200\n",
      "  label 30: 200\n",
      "  label 31: 200\n",
      "  label 32: 200\n",
      "  label 33: 200\n",
      "  label 34: 200\n",
      "  label 35: 200\n",
      "  label 36: 200\n",
      "  label 37: 200\n",
      "  label 38: 200\n",
      "  label 39: 200\n",
      "  label 40: 200\n",
      "  label 41: 200\n",
      "  label 42: 200\n",
      "  label 43: 200\n",
      "  label 44: 200\n",
      "  label 45: 241\n",
      "  label 46: 200\n",
      "  label 47: 200\n",
      "model is roberta-base cnn\n"
     ]
    },
    {
     "name": "stderr",
     "output_type": "stream",
     "text": [
      "Some weights of RobertaModel were not initialized from the model checkpoint at roberta-base and are newly initialized: ['pooler.dense.bias', 'pooler.dense.weight']\n",
      "You should probably TRAIN this model on a down-stream task to be able to use it for predictions and inference.\n"
     ]
    },
    {
     "name": "stdout",
     "output_type": "stream",
     "text": [
      "Epoch 1/20\n"
     ]
    },
    {
     "name": "stderr",
     "output_type": "stream",
     "text": [
      "100%|██████████| 716/716 [01:03<00:00, 11.36it/s]\n"
     ]
    },
    {
     "name": "stdout",
     "output_type": "stream",
     "text": [
      "{'val_loss': 1.9955456104220413, 'val_accuracy': 0.45461479786422576, 'precision': 0.6526490045484211, 'recall': 0.45461479786422576, 'f1-score': 0.48350777061960404, 'macro_f1-score': 0.26947960125776005, 'balanced_accuracy': 0.3638012190350206, 'mcc': 0.35808554674127263, 'train_loss': 2.293802096607299}\n",
      "Epoch 2/20\n"
     ]
    },
    {
     "name": "stderr",
     "output_type": "stream",
     "text": [
      "100%|██████████| 716/716 [01:03<00:00, 11.33it/s]\n"
     ]
    },
    {
     "name": "stdout",
     "output_type": "stream",
     "text": [
      "{'val_loss': 1.6179973773839997, 'val_accuracy': 0.5491990846681922, 'precision': 0.6421208080739359, 'recall': 0.5491990846681922, 'f1-score': 0.5738789166627526, 'macro_f1-score': 0.3708850810638262, 'balanced_accuracy': 0.4321647137616629, 'mcc': 0.4509335078335615, 'train_loss': 0.922520391018697}\n",
      "Epoch 3/20\n"
     ]
    },
    {
     "name": "stderr",
     "output_type": "stream",
     "text": [
      "100%|██████████| 716/716 [01:03<00:00, 11.35it/s]\n"
     ]
    },
    {
     "name": "stdout",
     "output_type": "stream",
     "text": [
      "{'val_loss': 1.5177047347150199, 'val_accuracy': 0.6147978642257819, 'precision': 0.6339085877240113, 'recall': 0.6147978642257819, 'f1-score': 0.6145921780418773, 'macro_f1-score': 0.3733810636931611, 'balanced_accuracy': 0.38088776696873766, 'mcc': 0.49526622911702817, 'train_loss': 0.5039553286277821}\n",
      "Epoch 4/20\n"
     ]
    },
    {
     "name": "stderr",
     "output_type": "stream",
     "text": [
      "100%|██████████| 716/716 [01:03<00:00, 11.33it/s]\n"
     ]
    },
    {
     "name": "stdout",
     "output_type": "stream",
     "text": [
      "{'val_loss': 1.5855318998418204, 'val_accuracy': 0.6216628527841342, 'precision': 0.637919575921476, 'recall': 0.6216628527841342, 'f1-score': 0.6222074149465763, 'macro_f1-score': 0.38018508192939365, 'balanced_accuracy': 0.38733147101722104, 'mcc': 0.5040356764921895, 'train_loss': 0.3512228588995071}\n",
      "Epoch 5/20\n"
     ]
    },
    {
     "name": "stderr",
     "output_type": "stream",
     "text": [
      "100%|██████████| 716/716 [01:02<00:00, 11.38it/s]\n"
     ]
    },
    {
     "name": "stdout",
     "output_type": "stream",
     "text": [
      "{'val_loss': 1.7279774419418195, 'val_accuracy': 0.6079328756674295, 'precision': 0.644607710701517, 'recall': 0.6079328756674295, 'f1-score': 0.6101604515699626, 'macro_f1-score': 0.3820989456252623, 'balanced_accuracy': 0.4112783908623963, 'mcc': 0.49580326561980703, 'train_loss': 0.2594413036498756}\n",
      "Epoch 6/20\n"
     ]
    },
    {
     "name": "stderr",
     "output_type": "stream",
     "text": [
      "100%|██████████| 716/716 [01:03<00:00, 11.34it/s]\n"
     ]
    },
    {
     "name": "stdout",
     "output_type": "stream",
     "text": [
      "{'val_loss': 1.8659822312070102, 'val_accuracy': 0.5743707093821511, 'precision': 0.6276216387697245, 'recall': 0.5743707093821511, 'f1-score': 0.589180892856084, 'macro_f1-score': 0.3809562578674717, 'balanced_accuracy': 0.404721267830401, 'mcc': 0.47678756288482127, 'train_loss': 0.24391393305723394}\n",
      "Epoch 7/20\n"
     ]
    },
    {
     "name": "stderr",
     "output_type": "stream",
     "text": [
      "100%|██████████| 716/716 [01:03<00:00, 11.34it/s]\n"
     ]
    },
    {
     "name": "stdout",
     "output_type": "stream",
     "text": [
      "{'val_loss': 1.9715284127287749, 'val_accuracy': 0.6033562166285278, 'precision': 0.6461868998552076, 'recall': 0.6033562166285278, 'f1-score': 0.6151659163153135, 'macro_f1-score': 0.4007395108504721, 'balanced_accuracy': 0.4409577755448752, 'mcc': 0.5061315810368218, 'train_loss': 0.17159453135337577}\n",
      "Epoch 8/20\n"
     ]
    },
    {
     "name": "stderr",
     "output_type": "stream",
     "text": [
      "100%|██████████| 716/716 [01:03<00:00, 11.35it/s]\n"
     ]
    },
    {
     "name": "stdout",
     "output_type": "stream",
     "text": [
      "{'val_loss': 1.8739578408620707, 'val_accuracy': 0.6521739130434783, 'precision': 0.6366088050964113, 'recall': 0.6521739130434783, 'f1-score': 0.6298574350704753, 'macro_f1-score': 0.3966445347609204, 'balanced_accuracy': 0.38822062559066256, 'mcc': 0.5262286215683842, 'train_loss': 0.15850838566005138}\n",
      "Epoch 9/20\n"
     ]
    },
    {
     "name": "stderr",
     "output_type": "stream",
     "text": [
      "100%|██████████| 716/716 [01:03<00:00, 11.34it/s]\n"
     ]
    },
    {
     "name": "stdout",
     "output_type": "stream",
     "text": [
      "{'val_loss': 1.8960068414850932, 'val_accuracy': 0.6170861937452327, 'precision': 0.6361067612878633, 'recall': 0.6170861937452327, 'f1-score': 0.6187569064248304, 'macro_f1-score': 0.3792843612693419, 'balanced_accuracy': 0.40803680569956075, 'mcc': 0.5066863830765819, 'train_loss': 0.14538562263302926}\n",
      "Epoch 10/20\n"
     ]
    },
    {
     "name": "stderr",
     "output_type": "stream",
     "text": [
      "100%|██████████| 716/716 [01:03<00:00, 11.34it/s]\n"
     ]
    },
    {
     "name": "stdout",
     "output_type": "stream",
     "text": [
      "{'val_loss': 1.8554985290620385, 'val_accuracy': 0.6163234172387491, 'precision': 0.6367825383612509, 'recall': 0.6163234172387491, 'f1-score': 0.6205793030365828, 'macro_f1-score': 0.4070911247225193, 'balanced_accuracy': 0.4316884243344834, 'mcc': 0.512273746941292, 'train_loss': 0.14034972578389882}\n",
      "Epoch 11/20\n"
     ]
    },
    {
     "name": "stderr",
     "output_type": "stream",
     "text": [
      "100%|██████████| 716/716 [01:03<00:00, 11.36it/s]\n"
     ]
    },
    {
     "name": "stdout",
     "output_type": "stream",
     "text": [
      "{'val_loss': 2.0163788137639442, 'val_accuracy': 0.6224256292906178, 'precision': 0.6358763520880009, 'recall': 0.6224256292906178, 'f1-score': 0.6176846370536173, 'macro_f1-score': 0.37659821585089714, 'balanced_accuracy': 0.3989409292364761, 'mcc': 0.5099967080937085, 'train_loss': 0.1137828640213793}\n",
      "Epoch 12/20\n"
     ]
    },
    {
     "name": "stderr",
     "output_type": "stream",
     "text": [
      "100%|██████████| 716/716 [01:03<00:00, 11.33it/s]\n"
     ]
    },
    {
     "name": "stdout",
     "output_type": "stream",
     "text": [
      "{'val_loss': 2.1203444941741663, 'val_accuracy': 0.6178489702517163, 'precision': 0.637897391051923, 'recall': 0.6178489702517163, 'f1-score': 0.6154402782980984, 'macro_f1-score': 0.38855870285070687, 'balanced_accuracy': 0.4013522305061478, 'mcc': 0.5006014332042059, 'train_loss': 0.1146120395597237}\n",
      "Epoch 13/20\n"
     ]
    },
    {
     "name": "stderr",
     "output_type": "stream",
     "text": [
      "100%|██████████| 716/716 [01:03<00:00, 11.34it/s]\n"
     ]
    },
    {
     "name": "stdout",
     "output_type": "stream",
     "text": [
      "{'val_loss': 2.05685032031885, 'val_accuracy': 0.6407322654462243, 'precision': 0.6430050622768966, 'recall': 0.6407322654462243, 'f1-score': 0.627559106640609, 'macro_f1-score': 0.38613076580789985, 'balanced_accuracy': 0.391615458749254, 'mcc': 0.5236066415565178, 'train_loss': 0.13163060811201927}\n",
      "Early stopping.\n",
      "\n",
      "[Fold 5]\n",
      "Label distribution after resampling:\n",
      "  label 0: 2000\n",
      "  label 1: 200\n",
      "  label 2: 200\n",
      "  label 3: 200\n",
      "  label 4: 200\n",
      "  label 5: 200\n",
      "  label 6: 200\n",
      "  label 7: 200\n",
      "  label 8: 200\n",
      "  label 9: 200\n",
      "  label 10: 200\n",
      "  label 11: 200\n",
      "  label 12: 200\n",
      "  label 13: 200\n",
      "  label 14: 200\n",
      "  label 15: 200\n",
      "  label 16: 200\n",
      "  label 17: 200\n",
      "  label 18: 200\n",
      "  label 19: 200\n",
      "  label 20: 200\n",
      "  label 21: 200\n",
      "  label 22: 200\n",
      "  label 23: 200\n",
      "  label 24: 200\n",
      "  label 25: 200\n",
      "  label 26: 200\n",
      "  label 27: 200\n",
      "  label 28: 200\n",
      "  label 29: 200\n",
      "  label 30: 200\n",
      "  label 31: 200\n",
      "  label 32: 200\n",
      "  label 33: 200\n",
      "  label 34: 200\n",
      "  label 35: 200\n",
      "  label 36: 200\n",
      "  label 37: 200\n",
      "  label 38: 200\n",
      "  label 39: 200\n",
      "  label 40: 200\n",
      "  label 41: 200\n",
      "  label 42: 200\n",
      "  label 43: 200\n",
      "  label 44: 200\n",
      "  label 45: 242\n",
      "  label 46: 200\n",
      "  label 47: 200\n",
      "model is roberta-base cnn\n"
     ]
    },
    {
     "name": "stderr",
     "output_type": "stream",
     "text": [
      "Some weights of RobertaModel were not initialized from the model checkpoint at roberta-base and are newly initialized: ['pooler.dense.bias', 'pooler.dense.weight']\n",
      "You should probably TRAIN this model on a down-stream task to be able to use it for predictions and inference.\n"
     ]
    },
    {
     "name": "stdout",
     "output_type": "stream",
     "text": [
      "Epoch 1/20\n"
     ]
    },
    {
     "name": "stderr",
     "output_type": "stream",
     "text": [
      "100%|██████████| 716/716 [01:03<00:00, 11.34it/s]\n"
     ]
    },
    {
     "name": "stdout",
     "output_type": "stream",
     "text": [
      "{'val_loss': 1.7906899263219136, 'val_accuracy': 0.5026697177726926, 'precision': 0.5921935993779465, 'recall': 0.5026697177726926, 'f1-score': 0.5191823626052327, 'macro_f1-score': 0.31559224007024217, 'balanced_accuracy': 0.40457771705730733, 'mcc': 0.3923900595315283, 'train_loss': 2.1307894203749447}\n",
      "Epoch 2/20\n"
     ]
    },
    {
     "name": "stderr",
     "output_type": "stream",
     "text": [
      "100%|██████████| 716/716 [01:03<00:00, 11.33it/s]\n"
     ]
    },
    {
     "name": "stdout",
     "output_type": "stream",
     "text": [
      "{'val_loss': 1.4612828936518691, 'val_accuracy': 0.6247139588100686, 'precision': 0.6372332690952833, 'recall': 0.6247139588100686, 'f1-score': 0.6184537079605753, 'macro_f1-score': 0.41836767268623065, 'balanced_accuracy': 0.45643306605619016, 'mcc': 0.5039918736752649, 'train_loss': 0.8089610870573773}\n",
      "Epoch 3/20\n"
     ]
    },
    {
     "name": "stderr",
     "output_type": "stream",
     "text": [
      "100%|██████████| 716/716 [01:03<00:00, 11.34it/s]\n"
     ]
    },
    {
     "name": "stdout",
     "output_type": "stream",
     "text": [
      "{'val_loss': 1.5893855839967728, 'val_accuracy': 0.6178489702517163, 'precision': 0.6546578946060201, 'recall': 0.6178489702517163, 'f1-score': 0.6245965718657402, 'macro_f1-score': 0.4157633408814683, 'balanced_accuracy': 0.46305715026657773, 'mcc': 0.5096724182703485, 'train_loss': 0.45590225489050484}\n",
      "Epoch 4/20\n"
     ]
    },
    {
     "name": "stderr",
     "output_type": "stream",
     "text": [
      "100%|██████████| 716/716 [01:03<00:00, 11.36it/s]\n"
     ]
    },
    {
     "name": "stdout",
     "output_type": "stream",
     "text": [
      "{'val_loss': 1.6292471202408396, 'val_accuracy': 0.6102212051868803, 'precision': 0.6269646673224778, 'recall': 0.6102212051868803, 'f1-score': 0.6027198407670071, 'macro_f1-score': 0.3954673385250622, 'balanced_accuracy': 0.3948372244507792, 'mcc': 0.48655720386175777, 'train_loss': 0.3298564296366657}\n",
      "Epoch 5/20\n"
     ]
    },
    {
     "name": "stderr",
     "output_type": "stream",
     "text": [
      "100%|██████████| 716/716 [01:03<00:00, 11.33it/s]\n"
     ]
    },
    {
     "name": "stdout",
     "output_type": "stream",
     "text": [
      "{'val_loss': 1.7624096403398164, 'val_accuracy': 0.6270022883295194, 'precision': 0.6435912005462514, 'recall': 0.6270022883295194, 'f1-score': 0.6075734669081747, 'macro_f1-score': 0.3880955711615208, 'balanced_accuracy': 0.36895033708484526, 'mcc': 0.48935487760340773, 'train_loss': 0.21124244369592454}\n",
      "Early stopping.\n",
      "\n",
      " === roberta-base + cnn + ros Final 5-fold Cross-Validation Results ===\n",
      "val_loss: 1.7862\n",
      "val_accuracy: 0.6043\n",
      "precision: 0.6339\n",
      "recall: 0.6043\n",
      "f1-score: 0.6090\n",
      "macro_f1-score: 0.4067\n",
      "balanced_accuracy: 0.4276\n",
      "mcc: 0.4943\n",
      "train_loss: 0.3149\n",
      "total_seconds: 2984.0000\n",
      "total_time: 0 hrs 49 mins 44 secs\n",
      "▶ Running: roberta-base + lstm + ros\n",
      "tokenizer is roberta-base\n",
      "Using device: cuda\n",
      "CUDA Available: True\n",
      "CUDA Device: NVIDIA GeForce RTX 5070 Ti\n",
      "Current GPU Memory Allocated: 0.02 GB\n",
      "Current GPU Memory Cached: 3.92 GB\n",
      "\n",
      "[Fold 1]\n",
      "Label distribution after resampling:\n",
      "  label 0: 2000\n",
      "  label 1: 200\n",
      "  label 2: 200\n",
      "  label 3: 200\n",
      "  label 4: 200\n",
      "  label 5: 200\n",
      "  label 6: 200\n",
      "  label 7: 200\n",
      "  label 8: 200\n",
      "  label 9: 200\n",
      "  label 10: 200\n",
      "  label 11: 200\n",
      "  label 12: 200\n",
      "  label 13: 200\n",
      "  label 14: 200\n",
      "  label 15: 200\n",
      "  label 16: 200\n",
      "  label 17: 200\n",
      "  label 18: 200\n",
      "  label 19: 200\n",
      "  label 20: 200\n",
      "  label 21: 200\n",
      "  label 22: 200\n",
      "  label 23: 200\n",
      "  label 24: 200\n",
      "  label 25: 200\n",
      "  label 26: 200\n",
      "  label 27: 200\n",
      "  label 28: 200\n",
      "  label 29: 200\n",
      "  label 30: 200\n",
      "  label 31: 200\n",
      "  label 32: 200\n",
      "  label 33: 200\n",
      "  label 34: 200\n",
      "  label 35: 200\n",
      "  label 36: 200\n",
      "  label 37: 200\n",
      "  label 38: 200\n",
      "  label 39: 200\n",
      "  label 40: 200\n",
      "  label 41: 200\n",
      "  label 42: 200\n",
      "  label 43: 200\n",
      "  label 44: 200\n",
      "  label 45: 242\n",
      "  label 46: 200\n",
      "  label 47: 200\n",
      "model is roberta-base lstm\n"
     ]
    },
    {
     "name": "stderr",
     "output_type": "stream",
     "text": [
      "Some weights of RobertaModel were not initialized from the model checkpoint at roberta-base and are newly initialized: ['pooler.dense.bias', 'pooler.dense.weight']\n",
      "You should probably TRAIN this model on a down-stream task to be able to use it for predictions and inference.\n"
     ]
    },
    {
     "name": "stdout",
     "output_type": "stream",
     "text": [
      "Epoch 1/20\n"
     ]
    },
    {
     "name": "stderr",
     "output_type": "stream",
     "text": [
      "100%|██████████| 716/716 [01:07<00:00, 10.58it/s]\n"
     ]
    },
    {
     "name": "stdout",
     "output_type": "stream",
     "text": [
      "{'val_loss': 1.9731196092396248, 'val_accuracy': 0.5007621951219512, 'precision': 0.45318618906619723, 'recall': 0.5007621951219512, 'f1-score': 0.4542067601642262, 'macro_f1-score': 0.21995423191868832, 'balanced_accuracy': 0.31080680349314294, 'mcc': 0.32003447745339747, 'train_loss': 2.864153707826604}\n",
      "Epoch 2/20\n"
     ]
    },
    {
     "name": "stderr",
     "output_type": "stream",
     "text": [
      "100%|██████████| 716/716 [01:07<00:00, 10.58it/s]\n"
     ]
    },
    {
     "name": "stdout",
     "output_type": "stream",
     "text": [
      "{'val_loss': 1.7910131779385776, 'val_accuracy': 0.5335365853658537, 'precision': 0.5433526892289324, 'recall': 0.5335365853658537, 'f1-score': 0.4988182727723041, 'macro_f1-score': 0.2747241057245639, 'balanced_accuracy': 0.3455256147275974, 'mcc': 0.3687051611326565, 'train_loss': 1.6532200052085535}\n",
      "Epoch 3/20\n"
     ]
    },
    {
     "name": "stderr",
     "output_type": "stream",
     "text": [
      "100%|██████████| 716/716 [01:07<00:00, 10.59it/s]\n"
     ]
    },
    {
     "name": "stdout",
     "output_type": "stream",
     "text": [
      "{'val_loss': 1.7712391803904277, 'val_accuracy': 0.5350609756097561, 'precision': 0.6006921206618759, 'recall': 0.5350609756097561, 'f1-score': 0.5464406795842128, 'macro_f1-score': 0.34277117902000476, 'balanced_accuracy': 0.38152454113117035, 'mcc': 0.41184979161329816, 'train_loss': 1.165897259082874}\n",
      "Epoch 4/20\n"
     ]
    },
    {
     "name": "stderr",
     "output_type": "stream",
     "text": [
      "100%|██████████| 716/716 [01:08<00:00, 10.51it/s]\n"
     ]
    },
    {
     "name": "stdout",
     "output_type": "stream",
     "text": [
      "{'val_loss': 1.8597277650019017, 'val_accuracy': 0.5137195121951219, 'precision': 0.6178345040622056, 'recall': 0.5137195121951219, 'f1-score': 0.5362987273471665, 'macro_f1-score': 0.3513101101476687, 'balanced_accuracy': 0.4174503112866221, 'mcc': 0.4042855427235444, 'train_loss': 0.9121725213968886}\n",
      "Epoch 5/20\n"
     ]
    },
    {
     "name": "stderr",
     "output_type": "stream",
     "text": [
      "100%|██████████| 716/716 [01:07<00:00, 10.57it/s]\n"
     ]
    },
    {
     "name": "stdout",
     "output_type": "stream",
     "text": [
      "{'val_loss': 1.6837166678614732, 'val_accuracy': 0.5579268292682927, 'precision': 0.6103493940604943, 'recall': 0.5579268292682927, 'f1-score': 0.565241244783506, 'macro_f1-score': 0.3808237922622039, 'balanced_accuracy': 0.41078481948269024, 'mcc': 0.435235973530072, 'train_loss': 0.7629180941418563}\n",
      "Epoch 6/20\n"
     ]
    },
    {
     "name": "stderr",
     "output_type": "stream",
     "text": [
      "100%|██████████| 716/716 [01:07<00:00, 10.59it/s]\n"
     ]
    },
    {
     "name": "stdout",
     "output_type": "stream",
     "text": [
      "{'val_loss': 1.7000096876446793, 'val_accuracy': 0.5907012195121951, 'precision': 0.5841421856883354, 'recall': 0.5907012195121951, 'f1-score': 0.5717168235730679, 'macro_f1-score': 0.34812366336606293, 'balanced_accuracy': 0.36474095246295474, 'mcc': 0.4444244163676347, 'train_loss': 0.6710045560257895}\n",
      "Epoch 7/20\n"
     ]
    },
    {
     "name": "stderr",
     "output_type": "stream",
     "text": [
      "100%|██████████| 716/716 [01:07<00:00, 10.59it/s]\n"
     ]
    },
    {
     "name": "stdout",
     "output_type": "stream",
     "text": [
      "{'val_loss': 1.7685624902568213, 'val_accuracy': 0.5838414634146342, 'precision': 0.5806754839711061, 'recall': 0.5838414634146342, 'f1-score': 0.5653147150228419, 'macro_f1-score': 0.31102600170849026, 'balanced_accuracy': 0.31373277455432075, 'mcc': 0.433536722793724, 'train_loss': 0.5877497710870297}\n",
      "Epoch 8/20\n"
     ]
    },
    {
     "name": "stderr",
     "output_type": "stream",
     "text": [
      "100%|██████████| 716/716 [01:07<00:00, 10.58it/s]\n"
     ]
    },
    {
     "name": "stdout",
     "output_type": "stream",
     "text": [
      "{'val_loss': 1.7248696234168075, 'val_accuracy': 0.6074695121951219, 'precision': 0.6075504761173451, 'recall': 0.6074695121951219, 'f1-score': 0.5971203562086121, 'macro_f1-score': 0.3911847729926842, 'balanced_accuracy': 0.4051553795871807, 'mcc': 0.4770935312564354, 'train_loss': 0.5377711945489132}\n",
      "Epoch 9/20\n"
     ]
    },
    {
     "name": "stderr",
     "output_type": "stream",
     "text": [
      "100%|██████████| 716/716 [01:07<00:00, 10.61it/s]\n"
     ]
    },
    {
     "name": "stdout",
     "output_type": "stream",
     "text": [
      "{'val_loss': 1.7649116995857983, 'val_accuracy': 0.5960365853658537, 'precision': 0.605461454060527, 'recall': 0.5960365853658537, 'f1-score': 0.5899716690148776, 'macro_f1-score': 0.3917469886950952, 'balanced_accuracy': 0.40723982651316054, 'mcc': 0.4730606355650209, 'train_loss': 0.41191286637900426}\n",
      "Epoch 10/20\n"
     ]
    },
    {
     "name": "stderr",
     "output_type": "stream",
     "text": [
      "100%|██████████| 716/716 [01:07<00:00, 10.59it/s]\n"
     ]
    },
    {
     "name": "stdout",
     "output_type": "stream",
     "text": [
      "{'val_loss': 1.9038877596215504, 'val_accuracy': 0.5617378048780488, 'precision': 0.5950099434556454, 'recall': 0.5617378048780488, 'f1-score': 0.5536189798829348, 'macro_f1-score': 0.34002652243148007, 'balanced_accuracy': 0.34840737719018083, 'mcc': 0.42829311023509536, 'train_loss': 0.4632606900182641}\n",
      "Epoch 11/20\n"
     ]
    },
    {
     "name": "stderr",
     "output_type": "stream",
     "text": [
      "100%|██████████| 716/716 [01:07<00:00, 10.57it/s]\n"
     ]
    },
    {
     "name": "stdout",
     "output_type": "stream",
     "text": [
      "{'val_loss': 1.8204944900623181, 'val_accuracy': 0.6166158536585366, 'precision': 0.612950934123705, 'recall': 0.6166158536585366, 'f1-score': 0.6031765758785976, 'macro_f1-score': 0.39787795428122447, 'balanced_accuracy': 0.40628926510344643, 'mcc': 0.48563895203781016, 'train_loss': 0.4333269643680552}\n",
      "Epoch 12/20\n"
     ]
    },
    {
     "name": "stderr",
     "output_type": "stream",
     "text": [
      "100%|██████████| 716/716 [01:07<00:00, 10.55it/s]\n"
     ]
    },
    {
     "name": "stdout",
     "output_type": "stream",
     "text": [
      "{'val_loss': 1.8941865109088944, 'val_accuracy': 0.6028963414634146, 'precision': 0.6330795735479474, 'recall': 0.6028963414634146, 'f1-score': 0.6087984183817787, 'macro_f1-score': 0.40335591497036316, 'balanced_accuracy': 0.4066831493835538, 'mcc': 0.484823337980325, 'train_loss': 0.3615019454740446}\n",
      "Epoch 13/20\n"
     ]
    },
    {
     "name": "stderr",
     "output_type": "stream",
     "text": [
      "100%|██████████| 716/716 [01:07<00:00, 10.58it/s]\n"
     ]
    },
    {
     "name": "stdout",
     "output_type": "stream",
     "text": [
      "{'val_loss': 1.908997827186817, 'val_accuracy': 0.5914634146341463, 'precision': 0.6264320867873213, 'recall': 0.5914634146341463, 'f1-score': 0.5970692265386006, 'macro_f1-score': 0.398294729736638, 'balanced_accuracy': 0.4159115171660466, 'mcc': 0.4747702645502323, 'train_loss': 0.30731416620605484}\n",
      "Epoch 14/20\n"
     ]
    },
    {
     "name": "stderr",
     "output_type": "stream",
     "text": [
      "100%|██████████| 716/716 [01:07<00:00, 10.60it/s]\n"
     ]
    },
    {
     "name": "stdout",
     "output_type": "stream",
     "text": [
      "{'val_loss': 1.9629475056398205, 'val_accuracy': 0.5777439024390244, 'precision': 0.6215548563449202, 'recall': 0.5777439024390244, 'f1-score': 0.5884134098964652, 'macro_f1-score': 0.3888938950712439, 'balanced_accuracy': 0.40090864225624684, 'mcc': 0.46792212607781597, 'train_loss': 0.2973757800464024}\n",
      "Epoch 15/20\n"
     ]
    },
    {
     "name": "stderr",
     "output_type": "stream",
     "text": [
      "100%|██████████| 716/716 [01:07<00:00, 10.61it/s]\n"
     ]
    },
    {
     "name": "stdout",
     "output_type": "stream",
     "text": [
      "{'val_loss': 1.860123691762366, 'val_accuracy': 0.586890243902439, 'precision': 0.6169237285049879, 'recall': 0.586890243902439, 'f1-score': 0.5885357553497459, 'macro_f1-score': 0.39275109441619566, 'balanced_accuracy': 0.400040467724609, 'mcc': 0.46322838587645954, 'train_loss': 0.3536968647044506}\n",
      "Early stopping.\n",
      "\n",
      "[Fold 2]\n",
      "Label distribution after resampling:\n",
      "  label 0: 2000\n",
      "  label 1: 200\n",
      "  label 2: 200\n",
      "  label 3: 200\n",
      "  label 4: 200\n",
      "  label 5: 200\n",
      "  label 6: 200\n",
      "  label 7: 200\n",
      "  label 8: 200\n",
      "  label 9: 200\n",
      "  label 10: 200\n",
      "  label 11: 200\n",
      "  label 12: 200\n",
      "  label 13: 200\n",
      "  label 14: 200\n",
      "  label 15: 200\n",
      "  label 16: 200\n",
      "  label 17: 200\n",
      "  label 18: 200\n",
      "  label 19: 200\n",
      "  label 20: 200\n",
      "  label 21: 200\n",
      "  label 22: 200\n",
      "  label 23: 200\n",
      "  label 24: 200\n",
      "  label 25: 200\n",
      "  label 26: 200\n",
      "  label 27: 200\n",
      "  label 28: 200\n",
      "  label 29: 200\n",
      "  label 30: 200\n",
      "  label 31: 200\n",
      "  label 32: 200\n",
      "  label 33: 200\n",
      "  label 34: 200\n",
      "  label 35: 200\n",
      "  label 36: 200\n",
      "  label 37: 200\n",
      "  label 38: 200\n",
      "  label 39: 200\n",
      "  label 40: 200\n",
      "  label 41: 200\n",
      "  label 42: 200\n",
      "  label 43: 200\n",
      "  label 44: 200\n",
      "  label 45: 242\n",
      "  label 46: 200\n",
      "  label 47: 200\n",
      "model is roberta-base lstm\n"
     ]
    },
    {
     "name": "stderr",
     "output_type": "stream",
     "text": [
      "Some weights of RobertaModel were not initialized from the model checkpoint at roberta-base and are newly initialized: ['pooler.dense.bias', 'pooler.dense.weight']\n",
      "You should probably TRAIN this model on a down-stream task to be able to use it for predictions and inference.\n"
     ]
    },
    {
     "name": "stdout",
     "output_type": "stream",
     "text": [
      "Epoch 1/20\n"
     ]
    },
    {
     "name": "stderr",
     "output_type": "stream",
     "text": [
      "100%|██████████| 716/716 [01:07<00:00, 10.57it/s]\n"
     ]
    },
    {
     "name": "stdout",
     "output_type": "stream",
     "text": [
      "{'val_loss': 2.967733961779897, 'val_accuracy': 0.47139588100686497, 'precision': 0.2222140766302384, 'recall': 0.47139588100686497, 'f1-score': 0.302045261236125, 'macro_f1-score': 0.01334888543286677, 'balanced_accuracy': 0.020833333333333332, 'mcc': 0.0, 'train_loss': 3.6619963819088217}\n",
      "Epoch 2/20\n"
     ]
    },
    {
     "name": "stderr",
     "output_type": "stream",
     "text": [
      "100%|██████████| 716/716 [01:07<00:00, 10.57it/s]\n"
     ]
    },
    {
     "name": "stdout",
     "output_type": "stream",
     "text": [
      "{'val_loss': 2.9320287122959043, 'val_accuracy': 0.47139588100686497, 'precision': 0.2222140766302384, 'recall': 0.47139588100686497, 'f1-score': 0.302045261236125, 'macro_f1-score': 0.01334888543286677, 'balanced_accuracy': 0.020833333333333332, 'mcc': 0.0, 'train_loss': 3.6534482333913196}\n",
      "Epoch 3/20\n"
     ]
    },
    {
     "name": "stderr",
     "output_type": "stream",
     "text": [
      "100%|██████████| 716/716 [01:07<00:00, 10.58it/s]\n"
     ]
    },
    {
     "name": "stdout",
     "output_type": "stream",
     "text": [
      "{'val_loss': 2.99395976706249, 'val_accuracy': 0.47139588100686497, 'precision': 0.2222140766302384, 'recall': 0.47139588100686497, 'f1-score': 0.302045261236125, 'macro_f1-score': 0.01334888543286677, 'balanced_accuracy': 0.020833333333333332, 'mcc': 0.0, 'train_loss': 3.6509592103558544}\n",
      "Epoch 4/20\n"
     ]
    },
    {
     "name": "stderr",
     "output_type": "stream",
     "text": [
      "100%|██████████| 716/716 [01:07<00:00, 10.58it/s]\n"
     ]
    },
    {
     "name": "stdout",
     "output_type": "stream",
     "text": [
      "{'val_loss': 2.829106575105248, 'val_accuracy': 0.47139588100686497, 'precision': 0.2222140766302384, 'recall': 0.47139588100686497, 'f1-score': 0.302045261236125, 'macro_f1-score': 0.01334888543286677, 'balanced_accuracy': 0.020833333333333332, 'mcc': 0.0, 'train_loss': 3.645027295837189}\n",
      "Early stopping.\n",
      "\n",
      "[Fold 3]\n",
      "Label distribution after resampling:\n",
      "  label 0: 2000\n",
      "  label 1: 200\n",
      "  label 2: 200\n",
      "  label 3: 200\n",
      "  label 4: 200\n",
      "  label 5: 200\n",
      "  label 6: 200\n",
      "  label 7: 200\n",
      "  label 8: 200\n",
      "  label 9: 200\n",
      "  label 10: 200\n",
      "  label 11: 200\n",
      "  label 12: 200\n",
      "  label 13: 200\n",
      "  label 14: 200\n",
      "  label 15: 200\n",
      "  label 16: 200\n",
      "  label 17: 200\n",
      "  label 18: 200\n",
      "  label 19: 200\n",
      "  label 20: 200\n",
      "  label 21: 200\n",
      "  label 22: 200\n",
      "  label 23: 200\n",
      "  label 24: 200\n",
      "  label 25: 200\n",
      "  label 26: 200\n",
      "  label 27: 200\n",
      "  label 28: 200\n",
      "  label 29: 200\n",
      "  label 30: 200\n",
      "  label 31: 200\n",
      "  label 32: 200\n",
      "  label 33: 200\n",
      "  label 34: 200\n",
      "  label 35: 200\n",
      "  label 36: 200\n",
      "  label 37: 200\n",
      "  label 38: 200\n",
      "  label 39: 200\n",
      "  label 40: 200\n",
      "  label 41: 200\n",
      "  label 42: 200\n",
      "  label 43: 200\n",
      "  label 44: 200\n",
      "  label 45: 241\n",
      "  label 46: 200\n",
      "  label 47: 200\n",
      "model is roberta-base lstm\n"
     ]
    },
    {
     "name": "stderr",
     "output_type": "stream",
     "text": [
      "Some weights of RobertaModel were not initialized from the model checkpoint at roberta-base and are newly initialized: ['pooler.dense.bias', 'pooler.dense.weight']\n",
      "You should probably TRAIN this model on a down-stream task to be able to use it for predictions and inference.\n"
     ]
    },
    {
     "name": "stdout",
     "output_type": "stream",
     "text": [
      "Epoch 1/20\n"
     ]
    },
    {
     "name": "stderr",
     "output_type": "stream",
     "text": [
      "100%|██████████| 716/716 [01:07<00:00, 10.57it/s]\n"
     ]
    },
    {
     "name": "stdout",
     "output_type": "stream",
     "text": [
      "{'val_loss': 2.1170358643299196, 'val_accuracy': 0.4683447749809306, 'precision': 0.5367749939622253, 'recall': 0.4683447749809306, 'f1-score': 0.46202900703201866, 'macro_f1-score': 0.19841982023060192, 'balanced_accuracy': 0.28974465671067956, 'mcc': 0.31660235354540445, 'train_loss': 2.757267194087279}\n",
      "Epoch 2/20\n"
     ]
    },
    {
     "name": "stderr",
     "output_type": "stream",
     "text": [
      "100%|██████████| 716/716 [01:07<00:00, 10.59it/s]\n"
     ]
    },
    {
     "name": "stdout",
     "output_type": "stream",
     "text": [
      "{'val_loss': 1.7642313176538886, 'val_accuracy': 0.5331807780320366, 'precision': 0.5642994935352724, 'recall': 0.5331807780320366, 'f1-score': 0.5132666296048676, 'macro_f1-score': 0.30920219272854726, 'balanced_accuracy': 0.35367868032838484, 'mcc': 0.37252515830812033, 'train_loss': 1.6030578862605147}\n",
      "Epoch 3/20\n"
     ]
    },
    {
     "name": "stderr",
     "output_type": "stream",
     "text": [
      "100%|██████████| 716/716 [01:07<00:00, 10.56it/s]\n"
     ]
    },
    {
     "name": "stdout",
     "output_type": "stream",
     "text": [
      "{'val_loss': 1.8118249966603954, 'val_accuracy': 0.5263157894736842, 'precision': 0.547506671093282, 'recall': 0.5263157894736842, 'f1-score': 0.5202212792502799, 'macro_f1-score': 0.29094379238161333, 'balanced_accuracy': 0.32916328698576086, 'mcc': 0.37542149257881857, 'train_loss': 1.1322095527108134}\n",
      "Epoch 4/20\n"
     ]
    },
    {
     "name": "stderr",
     "output_type": "stream",
     "text": [
      "100%|██████████| 716/716 [01:07<00:00, 10.58it/s]\n"
     ]
    },
    {
     "name": "stdout",
     "output_type": "stream",
     "text": [
      "{'val_loss': 1.7590024845629204, 'val_accuracy': 0.566742944317315, 'precision': 0.5896451834459243, 'recall': 0.566742944317315, 'f1-score': 0.5561230903137976, 'macro_f1-score': 0.31689054191866967, 'balanced_accuracy': 0.33387310425515415, 'mcc': 0.4297301003301397, 'train_loss': 0.8451503491986481}\n",
      "Epoch 5/20\n"
     ]
    },
    {
     "name": "stderr",
     "output_type": "stream",
     "text": [
      "100%|██████████| 716/716 [01:07<00:00, 10.58it/s]\n"
     ]
    },
    {
     "name": "stdout",
     "output_type": "stream",
     "text": [
      "{'val_loss': 1.6500299369416587, 'val_accuracy': 0.5774218154080855, 'precision': 0.6012556478520085, 'recall': 0.5774218154080855, 'f1-score': 0.576481146969158, 'macro_f1-score': 0.3730904016141842, 'balanced_accuracy': 0.3840335594567241, 'mcc': 0.4484553943049585, 'train_loss': 0.673191258475684}\n",
      "Epoch 6/20\n"
     ]
    },
    {
     "name": "stderr",
     "output_type": "stream",
     "text": [
      "100%|██████████| 716/716 [01:07<00:00, 10.56it/s]\n"
     ]
    },
    {
     "name": "stdout",
     "output_type": "stream",
     "text": [
      "{'val_loss': 1.82452844555785, 'val_accuracy': 0.5575896262395118, 'precision': 0.6152929819169243, 'recall': 0.5575896262395118, 'f1-score': 0.5719771287913117, 'macro_f1-score': 0.34826728168402504, 'balanced_accuracy': 0.383535262476445, 'mcc': 0.44375058739727197, 'train_loss': 0.5484965487471756}\n",
      "Epoch 7/20\n"
     ]
    },
    {
     "name": "stderr",
     "output_type": "stream",
     "text": [
      "100%|██████████| 716/716 [01:07<00:00, 10.56it/s]\n"
     ]
    },
    {
     "name": "stdout",
     "output_type": "stream",
     "text": [
      "{'val_loss': 1.8352854549884796, 'val_accuracy': 0.5537757437070938, 'precision': 0.618637353507804, 'recall': 0.5537757437070938, 'f1-score': 0.5710068500943782, 'macro_f1-score': 0.3596699728309078, 'balanced_accuracy': 0.39691380731692577, 'mcc': 0.4404357932571451, 'train_loss': 0.4879528607070113}\n",
      "Epoch 8/20\n"
     ]
    },
    {
     "name": "stderr",
     "output_type": "stream",
     "text": [
      "100%|██████████| 716/716 [01:07<00:00, 10.57it/s]\n"
     ]
    },
    {
     "name": "stdout",
     "output_type": "stream",
     "text": [
      "{'val_loss': 1.8037350959167249, 'val_accuracy': 0.5865751334858886, 'precision': 0.6064925276598582, 'recall': 0.5865751334858886, 'f1-score': 0.5823738297493763, 'macro_f1-score': 0.3458647811240914, 'balanced_accuracy': 0.35211344381397164, 'mcc': 0.45302557842777547, 'train_loss': 0.4164437920365004}\n",
      "Early stopping.\n",
      "\n",
      "[Fold 4]\n",
      "Label distribution after resampling:\n",
      "  label 0: 2000\n",
      "  label 1: 200\n",
      "  label 2: 200\n",
      "  label 3: 200\n",
      "  label 4: 200\n",
      "  label 5: 200\n",
      "  label 6: 200\n",
      "  label 7: 200\n",
      "  label 8: 200\n",
      "  label 9: 200\n",
      "  label 10: 200\n",
      "  label 11: 200\n",
      "  label 12: 200\n",
      "  label 13: 200\n",
      "  label 14: 200\n",
      "  label 15: 200\n",
      "  label 16: 200\n",
      "  label 17: 200\n",
      "  label 18: 200\n",
      "  label 19: 200\n",
      "  label 20: 200\n",
      "  label 21: 200\n",
      "  label 22: 200\n",
      "  label 23: 200\n",
      "  label 24: 200\n",
      "  label 25: 200\n",
      "  label 26: 200\n",
      "  label 27: 200\n",
      "  label 28: 200\n",
      "  label 29: 200\n",
      "  label 30: 200\n",
      "  label 31: 200\n",
      "  label 32: 200\n",
      "  label 33: 200\n",
      "  label 34: 200\n",
      "  label 35: 200\n",
      "  label 36: 200\n",
      "  label 37: 200\n",
      "  label 38: 200\n",
      "  label 39: 200\n",
      "  label 40: 200\n",
      "  label 41: 200\n",
      "  label 42: 200\n",
      "  label 43: 200\n",
      "  label 44: 200\n",
      "  label 45: 241\n",
      "  label 46: 200\n",
      "  label 47: 200\n",
      "model is roberta-base lstm\n"
     ]
    },
    {
     "name": "stderr",
     "output_type": "stream",
     "text": [
      "Some weights of RobertaModel were not initialized from the model checkpoint at roberta-base and are newly initialized: ['pooler.dense.bias', 'pooler.dense.weight']\n",
      "You should probably TRAIN this model on a down-stream task to be able to use it for predictions and inference.\n"
     ]
    },
    {
     "name": "stdout",
     "output_type": "stream",
     "text": [
      "Epoch 1/20\n"
     ]
    },
    {
     "name": "stderr",
     "output_type": "stream",
     "text": [
      "100%|██████████| 716/716 [01:07<00:00, 10.59it/s]\n"
     ]
    },
    {
     "name": "stdout",
     "output_type": "stream",
     "text": [
      "{'val_loss': 2.090887165651089, 'val_accuracy': 0.4950419527078566, 'precision': 0.5366769569757209, 'recall': 0.4950419527078566, 'f1-score': 0.48628280039685173, 'macro_f1-score': 0.20844349364920636, 'balanced_accuracy': 0.30287216565078817, 'mcc': 0.3529261849304067, 'train_loss': 2.96075807853118}\n",
      "Epoch 2/20\n"
     ]
    },
    {
     "name": "stderr",
     "output_type": "stream",
     "text": [
      "100%|██████████| 716/716 [01:07<00:00, 10.59it/s]\n"
     ]
    },
    {
     "name": "stdout",
     "output_type": "stream",
     "text": [
      "{'val_loss': 1.7324102935267658, 'val_accuracy': 0.5385202135774219, 'precision': 0.6087193610062642, 'recall': 0.5385202135774219, 'f1-score': 0.5397269451614876, 'macro_f1-score': 0.2687532882748129, 'balanced_accuracy': 0.3308585154741556, 'mcc': 0.4033209362754345, 'train_loss': 1.7851899366139035}\n",
      "Epoch 3/20\n"
     ]
    },
    {
     "name": "stderr",
     "output_type": "stream",
     "text": [
      "100%|██████████| 716/716 [01:07<00:00, 10.58it/s]\n"
     ]
    },
    {
     "name": "stdout",
     "output_type": "stream",
     "text": [
      "{'val_loss': 1.7496303941418485, 'val_accuracy': 0.5415713196033562, 'precision': 0.6325183049818204, 'recall': 0.5415713196033562, 'f1-score': 0.5647422040392257, 'macro_f1-score': 0.3347252805793987, 'balanced_accuracy': 0.39264658648071266, 'mcc': 0.43317012355788553, 'train_loss': 1.1952043939485897}\n",
      "Epoch 4/20\n"
     ]
    },
    {
     "name": "stderr",
     "output_type": "stream",
     "text": [
      "100%|██████████| 716/716 [01:07<00:00, 10.58it/s]\n"
     ]
    },
    {
     "name": "stdout",
     "output_type": "stream",
     "text": [
      "{'val_loss': 1.654764152518133, 'val_accuracy': 0.585812356979405, 'precision': 0.6232981816265141, 'recall': 0.585812356979405, 'f1-score': 0.5901129708620523, 'macro_f1-score': 0.3494168899019121, 'balanced_accuracy': 0.40604592660898725, 'mcc': 0.4723412167468562, 'train_loss': 0.8836949705120238}\n",
      "Epoch 5/20\n"
     ]
    },
    {
     "name": "stderr",
     "output_type": "stream",
     "text": [
      "100%|██████████| 716/716 [01:07<00:00, 10.55it/s]\n"
     ]
    },
    {
     "name": "stdout",
     "output_type": "stream",
     "text": [
      "{'val_loss': 1.6852237943832467, 'val_accuracy': 0.5942028985507246, 'precision': 0.6107127256449357, 'recall': 0.5942028985507246, 'f1-score': 0.5929877972156884, 'macro_f1-score': 0.36486126480119063, 'balanced_accuracy': 0.4028390170020109, 'mcc': 0.47541878991813097, 'train_loss': 0.7100413916580504}\n",
      "Epoch 6/20\n"
     ]
    },
    {
     "name": "stderr",
     "output_type": "stream",
     "text": [
      "100%|██████████| 716/716 [01:07<00:00, 10.58it/s]\n"
     ]
    },
    {
     "name": "stdout",
     "output_type": "stream",
     "text": [
      "{'val_loss': 1.6107247504519253, 'val_accuracy': 0.601067887109077, 'precision': 0.6129569378375666, 'recall': 0.601067887109077, 'f1-score': 0.5943242643539901, 'macro_f1-score': 0.372199891533203, 'balanced_accuracy': 0.3928335272129746, 'mcc': 0.4728211497715726, 'train_loss': 0.5795254974662425}\n",
      "Epoch 7/20\n"
     ]
    },
    {
     "name": "stderr",
     "output_type": "stream",
     "text": [
      "100%|██████████| 716/716 [01:07<00:00, 10.59it/s]\n"
     ]
    },
    {
     "name": "stdout",
     "output_type": "stream",
     "text": [
      "{'val_loss': 1.734281913172908, 'val_accuracy': 0.593440122044241, 'precision': 0.6161100458669221, 'recall': 0.593440122044241, 'f1-score': 0.5970056823964695, 'macro_f1-score': 0.3556408977003033, 'balanced_accuracy': 0.37603961640701344, 'mcc': 0.48235708572963787, 'train_loss': 0.48168326017067004}\n",
      "Epoch 8/20\n"
     ]
    },
    {
     "name": "stderr",
     "output_type": "stream",
     "text": [
      "100%|██████████| 716/716 [01:07<00:00, 10.59it/s]\n"
     ]
    },
    {
     "name": "stdout",
     "output_type": "stream",
     "text": [
      "{'val_loss': 1.620424731112108, 'val_accuracy': 0.6270022883295194, 'precision': 0.6262148081810968, 'recall': 0.6270022883295194, 'f1-score': 0.6207887525241321, 'macro_f1-score': 0.3874443404324117, 'balanced_accuracy': 0.3948452184943587, 'mcc': 0.5121841301676852, 'train_loss': 0.41393562530651273}\n",
      "Epoch 9/20\n"
     ]
    },
    {
     "name": "stderr",
     "output_type": "stream",
     "text": [
      "100%|██████████| 716/716 [01:07<00:00, 10.57it/s]\n"
     ]
    },
    {
     "name": "stdout",
     "output_type": "stream",
     "text": [
      "{'val_loss': 1.8877620195470206, 'val_accuracy': 0.5583524027459954, 'precision': 0.6451059643839725, 'recall': 0.5583524027459954, 'f1-score': 0.5798234080560678, 'macro_f1-score': 0.3761997133269166, 'balanced_accuracy': 0.4081383024847253, 'mcc': 0.47145663810577304, 'train_loss': 0.34784785446102146}\n",
      "Epoch 10/20\n"
     ]
    },
    {
     "name": "stderr",
     "output_type": "stream",
     "text": [
      "100%|██████████| 716/716 [01:07<00:00, 10.56it/s]\n"
     ]
    },
    {
     "name": "stdout",
     "output_type": "stream",
     "text": [
      "{'val_loss': 1.826121675350317, 'val_accuracy': 0.5888634630053394, 'precision': 0.6311912481184568, 'recall': 0.5888634630053394, 'f1-score': 0.602419187716793, 'macro_f1-score': 0.36863264014939495, 'balanced_accuracy': 0.3881748360437847, 'mcc': 0.4836904043122997, 'train_loss': 0.3023384808115245}\n",
      "Epoch 11/20\n"
     ]
    },
    {
     "name": "stderr",
     "output_type": "stream",
     "text": [
      "100%|██████████| 716/716 [01:07<00:00, 10.57it/s]\n"
     ]
    },
    {
     "name": "stdout",
     "output_type": "stream",
     "text": [
      "{'val_loss': 1.8239221029528758, 'val_accuracy': 0.6186117467581999, 'precision': 0.6550869815915104, 'recall': 0.6186117467581999, 'f1-score': 0.6229908982697331, 'macro_f1-score': 0.38695691777435287, 'balanced_accuracy': 0.418809927191466, 'mcc': 0.514581257358781, 'train_loss': 0.2842666100601369}\n",
      "Early stopping.\n",
      "\n",
      "[Fold 5]\n",
      "Label distribution after resampling:\n",
      "  label 0: 2000\n",
      "  label 1: 200\n",
      "  label 2: 200\n",
      "  label 3: 200\n",
      "  label 4: 200\n",
      "  label 5: 200\n",
      "  label 6: 200\n",
      "  label 7: 200\n",
      "  label 8: 200\n",
      "  label 9: 200\n",
      "  label 10: 200\n",
      "  label 11: 200\n",
      "  label 12: 200\n",
      "  label 13: 200\n",
      "  label 14: 200\n",
      "  label 15: 200\n",
      "  label 16: 200\n",
      "  label 17: 200\n",
      "  label 18: 200\n",
      "  label 19: 200\n",
      "  label 20: 200\n",
      "  label 21: 200\n",
      "  label 22: 200\n",
      "  label 23: 200\n",
      "  label 24: 200\n",
      "  label 25: 200\n",
      "  label 26: 200\n",
      "  label 27: 200\n",
      "  label 28: 200\n",
      "  label 29: 200\n",
      "  label 30: 200\n",
      "  label 31: 200\n",
      "  label 32: 200\n",
      "  label 33: 200\n",
      "  label 34: 200\n",
      "  label 35: 200\n",
      "  label 36: 200\n",
      "  label 37: 200\n",
      "  label 38: 200\n",
      "  label 39: 200\n",
      "  label 40: 200\n",
      "  label 41: 200\n",
      "  label 42: 200\n",
      "  label 43: 200\n",
      "  label 44: 200\n",
      "  label 45: 242\n",
      "  label 46: 200\n",
      "  label 47: 200\n",
      "model is roberta-base lstm\n"
     ]
    },
    {
     "name": "stderr",
     "output_type": "stream",
     "text": [
      "Some weights of RobertaModel were not initialized from the model checkpoint at roberta-base and are newly initialized: ['pooler.dense.bias', 'pooler.dense.weight']\n",
      "You should probably TRAIN this model on a down-stream task to be able to use it for predictions and inference.\n"
     ]
    },
    {
     "name": "stdout",
     "output_type": "stream",
     "text": [
      "Epoch 1/20\n"
     ]
    },
    {
     "name": "stderr",
     "output_type": "stream",
     "text": [
      "100%|██████████| 716/716 [01:07<00:00, 10.55it/s]\n"
     ]
    },
    {
     "name": "stdout",
     "output_type": "stream",
     "text": [
      "{'val_loss': 2.181748249181887, 'val_accuracy': 0.4576659038901602, 'precision': 0.4268330121412688, 'recall': 0.4576659038901602, 'f1-score': 0.43070292144151684, 'macro_f1-score': 0.16172189427986297, 'balanced_accuracy': 0.2327027111394666, 'mcc': 0.28500640599051763, 'train_loss': 3.060325668261038}\n",
      "Epoch 2/20\n"
     ]
    },
    {
     "name": "stderr",
     "output_type": "stream",
     "text": [
      "100%|██████████| 716/716 [01:07<00:00, 10.60it/s]\n"
     ]
    },
    {
     "name": "stdout",
     "output_type": "stream",
     "text": [
      "{'val_loss': 1.987304283351433, 'val_accuracy': 0.4500381388253242, 'precision': 0.4805739698701071, 'recall': 0.4500381388253242, 'f1-score': 0.448687634159342, 'macro_f1-score': 0.21805803356782225, 'balanced_accuracy': 0.302266689611282, 'mcc': 0.31091809221328615, 'train_loss': 1.9617481443136098}\n",
      "Epoch 3/20\n"
     ]
    },
    {
     "name": "stderr",
     "output_type": "stream",
     "text": [
      "100%|██████████| 716/716 [01:07<00:00, 10.58it/s]\n"
     ]
    },
    {
     "name": "stdout",
     "output_type": "stream",
     "text": [
      "{'val_loss': 1.8325676678157434, 'val_accuracy': 0.4836003051106026, 'precision': 0.5667125639516014, 'recall': 0.4836003051106026, 'f1-score': 0.4995670991860435, 'macro_f1-score': 0.29541093399563095, 'balanced_accuracy': 0.3643825983330979, 'mcc': 0.35613572131003707, 'train_loss': 1.5417630244566742}\n",
      "Epoch 4/20\n"
     ]
    },
    {
     "name": "stderr",
     "output_type": "stream",
     "text": [
      "100%|██████████| 716/716 [01:07<00:00, 10.60it/s]\n"
     ]
    },
    {
     "name": "stdout",
     "output_type": "stream",
     "text": [
      "{'val_loss': 1.7591243255429152, 'val_accuracy': 0.5179252479023646, 'precision': 0.5942396646671083, 'recall': 0.5179252479023646, 'f1-score': 0.5257379664939753, 'macro_f1-score': 0.30166814136930675, 'balanced_accuracy': 0.3711079226009169, 'mcc': 0.3882881171792501, 'train_loss': 1.1536865049567302}\n",
      "Epoch 5/20\n"
     ]
    },
    {
     "name": "stderr",
     "output_type": "stream",
     "text": [
      "100%|██████████| 716/716 [01:07<00:00, 10.58it/s]\n"
     ]
    },
    {
     "name": "stdout",
     "output_type": "stream",
     "text": [
      "{'val_loss': 1.7694407025488412, 'val_accuracy': 0.5362318840579711, 'precision': 0.5627943458168938, 'recall': 0.5362318840579711, 'f1-score': 0.5349623594972849, 'macro_f1-score': 0.31349747253085697, 'balanced_accuracy': 0.3621543765051105, 'mcc': 0.4120283381529745, 'train_loss': 0.9548107894897128}\n",
      "Epoch 6/20\n"
     ]
    },
    {
     "name": "stderr",
     "output_type": "stream",
     "text": [
      "100%|██████████| 716/716 [01:07<00:00, 10.58it/s]\n"
     ]
    },
    {
     "name": "stdout",
     "output_type": "stream",
     "text": [
      "{'val_loss': 1.7518180583308383, 'val_accuracy': 0.5461479786422578, 'precision': 0.6053510469739661, 'recall': 0.5461479786422578, 'f1-score': 0.562147641558973, 'macro_f1-score': 0.3622281440033452, 'balanced_accuracy': 0.4261347684482529, 'mcc': 0.43397231682070625, 'train_loss': 0.874451625800832}\n",
      "Epoch 7/20\n"
     ]
    },
    {
     "name": "stderr",
     "output_type": "stream",
     "text": [
      "100%|██████████| 716/716 [01:07<00:00, 10.58it/s]\n"
     ]
    },
    {
     "name": "stdout",
     "output_type": "stream",
     "text": [
      "{'val_loss': 1.5896056083644308, 'val_accuracy': 0.601067887109077, 'precision': 0.6522861141478832, 'recall': 0.601067887109077, 'f1-score': 0.6168466760960208, 'macro_f1-score': 0.4225688099506327, 'balanced_accuracy': 0.4496038125615088, 'mcc': 0.493712324115041, 'train_loss': 0.7447097092273764}\n",
      "Epoch 8/20\n"
     ]
    },
    {
     "name": "stderr",
     "output_type": "stream",
     "text": [
      "100%|██████████| 716/716 [01:07<00:00, 10.55it/s]\n"
     ]
    },
    {
     "name": "stdout",
     "output_type": "stream",
     "text": [
      "{'val_loss': 1.6404601564494574, 'val_accuracy': 0.6071700991609459, 'precision': 0.618537333949454, 'recall': 0.6071700991609459, 'f1-score': 0.6059581167566606, 'macro_f1-score': 0.401909904475271, 'balanced_accuracy': 0.42558489275013645, 'mcc': 0.4892675004612246, 'train_loss': 0.6116696180432369}\n",
      "Epoch 9/20\n"
     ]
    },
    {
     "name": "stderr",
     "output_type": "stream",
     "text": [
      "100%|██████████| 716/716 [01:07<00:00, 10.56it/s]\n"
     ]
    },
    {
     "name": "stdout",
     "output_type": "stream",
     "text": [
      "{'val_loss': 1.6448413239019672, 'val_accuracy': 0.6224256292906178, 'precision': 0.6422992386379115, 'recall': 0.6224256292906178, 'f1-score': 0.6238997094365264, 'macro_f1-score': 0.42057138563156454, 'balanced_accuracy': 0.4449748894597172, 'mcc': 0.5071833314654303, 'train_loss': 0.558487102170813}\n",
      "Epoch 10/20\n"
     ]
    },
    {
     "name": "stderr",
     "output_type": "stream",
     "text": [
      "100%|██████████| 716/716 [01:07<00:00, 10.58it/s]\n"
     ]
    },
    {
     "name": "stdout",
     "output_type": "stream",
     "text": [
      "{'val_loss': 1.849582265789916, 'val_accuracy': 0.5736079328756675, 'precision': 0.635072570632563, 'recall': 0.5736079328756675, 'f1-score': 0.5938290004145145, 'macro_f1-score': 0.3848270590433209, 'balanced_accuracy': 0.42613440021862575, 'mcc': 0.4690941573900376, 'train_loss': 0.5036966112603605}\n",
      "Early stopping.\n",
      "\n",
      " === roberta-base + lstm + ros Final 5-fold Cross-Validation Results ===\n",
      "val_loss: 1.9444\n",
      "val_accuracy: 0.5760\n",
      "precision: 0.5470\n",
      "recall: 0.5760\n",
      "f1-score: 0.5450\n",
      "macro_f1-score: 0.3200\n",
      "balanced_accuracy: 0.3312\n",
      "mcc: 0.3878\n",
      "train_loss: 1.1711\n",
      "total_seconds: 3411.0000\n",
      "total_time: 0 hrs 56 mins 51 secs\n",
      "▶ Running: roberta-base + bilstm + ros\n",
      "tokenizer is roberta-base\n",
      "Using device: cuda\n",
      "CUDA Available: True\n",
      "CUDA Device: NVIDIA GeForce RTX 5070 Ti\n",
      "Current GPU Memory Allocated: 0.02 GB\n",
      "Current GPU Memory Cached: 3.92 GB\n",
      "\n",
      "[Fold 1]\n",
      "Label distribution after resampling:\n",
      "  label 0: 2000\n",
      "  label 1: 200\n",
      "  label 2: 200\n",
      "  label 3: 200\n",
      "  label 4: 200\n",
      "  label 5: 200\n",
      "  label 6: 200\n",
      "  label 7: 200\n",
      "  label 8: 200\n",
      "  label 9: 200\n",
      "  label 10: 200\n",
      "  label 11: 200\n",
      "  label 12: 200\n",
      "  label 13: 200\n",
      "  label 14: 200\n",
      "  label 15: 200\n",
      "  label 16: 200\n",
      "  label 17: 200\n",
      "  label 18: 200\n",
      "  label 19: 200\n",
      "  label 20: 200\n",
      "  label 21: 200\n",
      "  label 22: 200\n",
      "  label 23: 200\n",
      "  label 24: 200\n",
      "  label 25: 200\n",
      "  label 26: 200\n",
      "  label 27: 200\n",
      "  label 28: 200\n",
      "  label 29: 200\n",
      "  label 30: 200\n",
      "  label 31: 200\n",
      "  label 32: 200\n",
      "  label 33: 200\n",
      "  label 34: 200\n",
      "  label 35: 200\n",
      "  label 36: 200\n",
      "  label 37: 200\n",
      "  label 38: 200\n",
      "  label 39: 200\n",
      "  label 40: 200\n",
      "  label 41: 200\n",
      "  label 42: 200\n",
      "  label 43: 200\n",
      "  label 44: 200\n",
      "  label 45: 242\n",
      "  label 46: 200\n",
      "  label 47: 200\n",
      "model is roberta-base bilstm\n"
     ]
    },
    {
     "name": "stderr",
     "output_type": "stream",
     "text": [
      "Some weights of RobertaModel were not initialized from the model checkpoint at roberta-base and are newly initialized: ['pooler.dense.bias', 'pooler.dense.weight']\n",
      "You should probably TRAIN this model on a down-stream task to be able to use it for predictions and inference.\n"
     ]
    },
    {
     "name": "stdout",
     "output_type": "stream",
     "text": [
      "Epoch 1/20\n"
     ]
    },
    {
     "name": "stderr",
     "output_type": "stream",
     "text": [
      "100%|██████████| 716/716 [01:12<00:00,  9.87it/s]\n"
     ]
    },
    {
     "name": "stdout",
     "output_type": "stream",
     "text": [
      "{'val_loss': 1.837354540461447, 'val_accuracy': 0.5175304878048781, 'precision': 0.5501672274497265, 'recall': 0.5175304878048781, 'f1-score': 0.46089307747296887, 'macro_f1-score': 0.23946658717086886, 'balanced_accuracy': 0.2996179386592159, 'mcc': 0.3254741546074522, 'train_loss': 2.5850012785229604}\n",
      "Epoch 2/20\n"
     ]
    },
    {
     "name": "stderr",
     "output_type": "stream",
     "text": [
      "100%|██████████| 716/716 [01:12<00:00,  9.89it/s]\n"
     ]
    },
    {
     "name": "stdout",
     "output_type": "stream",
     "text": [
      "{'val_loss': 1.670714011642991, 'val_accuracy': 0.5762195121951219, 'precision': 0.6175055653708279, 'recall': 0.5762195121951219, 'f1-score': 0.5612624345431263, 'macro_f1-score': 0.331490593725365, 'balanced_accuracy': 0.36828089364116284, 'mcc': 0.4341965761932251, 'train_loss': 1.2375174044480537}\n",
      "Epoch 3/20\n"
     ]
    },
    {
     "name": "stderr",
     "output_type": "stream",
     "text": [
      "100%|██████████| 716/716 [01:12<00:00,  9.86it/s]\n"
     ]
    },
    {
     "name": "stdout",
     "output_type": "stream",
     "text": [
      "{'val_loss': 1.5790486353926543, 'val_accuracy': 0.5823170731707317, 'precision': 0.5829355715971445, 'recall': 0.5823170731707317, 'f1-score': 0.5710232952474144, 'macro_f1-score': 0.3583955032025048, 'balanced_accuracy': 0.3822303768633823, 'mcc': 0.45297835822508, 'train_loss': 0.8620173778364112}\n",
      "Epoch 4/20\n"
     ]
    },
    {
     "name": "stderr",
     "output_type": "stream",
     "text": [
      "100%|██████████| 716/716 [01:12<00:00,  9.84it/s]\n"
     ]
    },
    {
     "name": "stdout",
     "output_type": "stream",
     "text": [
      "{'val_loss': 1.6571532153501742, 'val_accuracy': 0.5967987804878049, 'precision': 0.6312164821698659, 'recall': 0.5967987804878049, 'f1-score': 0.583140919307914, 'macro_f1-score': 0.38239693944270986, 'balanced_accuracy': 0.4141617156045731, 'mcc': 0.4699672479597343, 'train_loss': 0.57010862146447}\n",
      "Epoch 5/20\n"
     ]
    },
    {
     "name": "stderr",
     "output_type": "stream",
     "text": [
      "100%|██████████| 716/716 [01:12<00:00,  9.88it/s]\n"
     ]
    },
    {
     "name": "stdout",
     "output_type": "stream",
     "text": [
      "{'val_loss': 1.6889825786759214, 'val_accuracy': 0.6013719512195121, 'precision': 0.6117593926067993, 'recall': 0.6013719512195121, 'f1-score': 0.5932660088669485, 'macro_f1-score': 0.39345971150392794, 'balanced_accuracy': 0.4381147642509085, 'mcc': 0.47878078035050453, 'train_loss': 0.4677188754206596}\n",
      "Epoch 6/20\n"
     ]
    },
    {
     "name": "stderr",
     "output_type": "stream",
     "text": [
      "100%|██████████| 716/716 [01:12<00:00,  9.87it/s]\n"
     ]
    },
    {
     "name": "stdout",
     "output_type": "stream",
     "text": [
      "{'val_loss': 1.7165657101971348, 'val_accuracy': 0.5967987804878049, 'precision': 0.6218126932996498, 'recall': 0.5967987804878049, 'f1-score': 0.6006654752581382, 'macro_f1-score': 0.3915506792198955, 'balanced_accuracy': 0.42546782292692464, 'mcc': 0.48231124542426823, 'train_loss': 0.3533428340770471}\n",
      "Epoch 7/20\n"
     ]
    },
    {
     "name": "stderr",
     "output_type": "stream",
     "text": [
      "100%|██████████| 716/716 [01:12<00:00,  9.87it/s]\n"
     ]
    },
    {
     "name": "stdout",
     "output_type": "stream",
     "text": [
      "{'val_loss': 1.9306998877990535, 'val_accuracy': 0.5853658536585366, 'precision': 0.6098273343045056, 'recall': 0.5853658536585366, 'f1-score': 0.5848422785716288, 'macro_f1-score': 0.3759101636118152, 'balanced_accuracy': 0.4278217170130303, 'mcc': 0.47923664666450305, 'train_loss': 0.2958625814182861}\n",
      "Epoch 8/20\n"
     ]
    },
    {
     "name": "stderr",
     "output_type": "stream",
     "text": [
      "100%|██████████| 716/716 [01:12<00:00,  9.86it/s]\n"
     ]
    },
    {
     "name": "stdout",
     "output_type": "stream",
     "text": [
      "{'val_loss': 1.87240856268057, 'val_accuracy': 0.604420731707317, 'precision': 0.6161706946327102, 'recall': 0.604420731707317, 'f1-score': 0.6005415465809615, 'macro_f1-score': 0.40398690363982337, 'balanced_accuracy': 0.4114699748807194, 'mcc': 0.48790254340907585, 'train_loss': 0.26870563649962653}\n",
      "Epoch 9/20\n"
     ]
    },
    {
     "name": "stderr",
     "output_type": "stream",
     "text": [
      "100%|██████████| 716/716 [01:12<00:00,  9.85it/s]\n"
     ]
    },
    {
     "name": "stdout",
     "output_type": "stream",
     "text": [
      "{'val_loss': 1.9528744787704655, 'val_accuracy': 0.5952743902439024, 'precision': 0.6156221690001705, 'recall': 0.5952743902439024, 'f1-score': 0.5944723093125281, 'macro_f1-score': 0.3690146843746689, 'balanced_accuracy': 0.3915605868887792, 'mcc': 0.48281024923067944, 'train_loss': 0.216006309220661}\n",
      "Epoch 10/20\n"
     ]
    },
    {
     "name": "stderr",
     "output_type": "stream",
     "text": [
      "100%|██████████| 716/716 [01:12<00:00,  9.83it/s]\n"
     ]
    },
    {
     "name": "stdout",
     "output_type": "stream",
     "text": [
      "{'val_loss': 1.9146384433275316, 'val_accuracy': 0.631859756097561, 'precision': 0.6139728536650013, 'recall': 0.631859756097561, 'f1-score': 0.6133461152510317, 'macro_f1-score': 0.38244150056747167, 'balanced_accuracy': 0.374223439579546, 'mcc': 0.5034551040594525, 'train_loss': 0.19905988517212136}\n",
      "Epoch 11/20\n"
     ]
    },
    {
     "name": "stderr",
     "output_type": "stream",
     "text": [
      "100%|██████████| 716/716 [01:12<00:00,  9.86it/s]\n"
     ]
    },
    {
     "name": "stdout",
     "output_type": "stream",
     "text": [
      "{'val_loss': 1.9186737052187688, 'val_accuracy': 0.6242378048780488, 'precision': 0.63365030896005, 'recall': 0.6242378048780488, 'f1-score': 0.620669972262296, 'macro_f1-score': 0.3797460010008868, 'balanced_accuracy': 0.406405455992803, 'mcc': 0.5165253906141929, 'train_loss': 0.1861566949327471}\n",
      "Early stopping.\n",
      "\n",
      "[Fold 2]\n",
      "Label distribution after resampling:\n",
      "  label 0: 2000\n",
      "  label 1: 200\n",
      "  label 2: 200\n",
      "  label 3: 200\n",
      "  label 4: 200\n",
      "  label 5: 200\n",
      "  label 6: 200\n",
      "  label 7: 200\n",
      "  label 8: 200\n",
      "  label 9: 200\n",
      "  label 10: 200\n",
      "  label 11: 200\n",
      "  label 12: 200\n",
      "  label 13: 200\n",
      "  label 14: 200\n",
      "  label 15: 200\n",
      "  label 16: 200\n",
      "  label 17: 200\n",
      "  label 18: 200\n",
      "  label 19: 200\n",
      "  label 20: 200\n",
      "  label 21: 200\n",
      "  label 22: 200\n",
      "  label 23: 200\n",
      "  label 24: 200\n",
      "  label 25: 200\n",
      "  label 26: 200\n",
      "  label 27: 200\n",
      "  label 28: 200\n",
      "  label 29: 200\n",
      "  label 30: 200\n",
      "  label 31: 200\n",
      "  label 32: 200\n",
      "  label 33: 200\n",
      "  label 34: 200\n",
      "  label 35: 200\n",
      "  label 36: 200\n",
      "  label 37: 200\n",
      "  label 38: 200\n",
      "  label 39: 200\n",
      "  label 40: 200\n",
      "  label 41: 200\n",
      "  label 42: 200\n",
      "  label 43: 200\n",
      "  label 44: 200\n",
      "  label 45: 242\n",
      "  label 46: 200\n",
      "  label 47: 200\n",
      "model is roberta-base bilstm\n"
     ]
    },
    {
     "name": "stderr",
     "output_type": "stream",
     "text": [
      "Some weights of RobertaModel were not initialized from the model checkpoint at roberta-base and are newly initialized: ['pooler.dense.bias', 'pooler.dense.weight']\n",
      "You should probably TRAIN this model on a down-stream task to be able to use it for predictions and inference.\n"
     ]
    },
    {
     "name": "stdout",
     "output_type": "stream",
     "text": [
      "Epoch 1/20\n"
     ]
    },
    {
     "name": "stderr",
     "output_type": "stream",
     "text": [
      "100%|██████████| 716/716 [01:12<00:00,  9.85it/s]\n"
     ]
    },
    {
     "name": "stdout",
     "output_type": "stream",
     "text": [
      "{'val_loss': 1.8480645592619733, 'val_accuracy': 0.5202135774218154, 'precision': 0.5145141094778571, 'recall': 0.5202135774218154, 'f1-score': 0.4962762042201394, 'macro_f1-score': 0.2535310627161438, 'balanced_accuracy': 0.33424087701809196, 'mcc': 0.3601236164869144, 'train_loss': 2.6404677474631946}\n",
      "Epoch 2/20\n"
     ]
    },
    {
     "name": "stderr",
     "output_type": "stream",
     "text": [
      "100%|██████████| 716/716 [01:12<00:00,  9.86it/s]\n"
     ]
    },
    {
     "name": "stdout",
     "output_type": "stream",
     "text": [
      "{'val_loss': 1.661785800282548, 'val_accuracy': 0.5453852021357742, 'precision': 0.6161460534698279, 'recall': 0.5453852021357742, 'f1-score': 0.5626629705610302, 'macro_f1-score': 0.3292131869744927, 'balanced_accuracy': 0.402855700103056, 'mcc': 0.43211556992558514, 'train_loss': 1.3546358880550502}\n",
      "Epoch 3/20\n"
     ]
    },
    {
     "name": "stderr",
     "output_type": "stream",
     "text": [
      "100%|██████████| 716/716 [01:12<00:00,  9.83it/s]\n"
     ]
    },
    {
     "name": "stdout",
     "output_type": "stream",
     "text": [
      "{'val_loss': 1.5774465007026022, 'val_accuracy': 0.5644546147978642, 'precision': 0.605254111830612, 'recall': 0.5644546147978642, 'f1-score': 0.5697281798489209, 'macro_f1-score': 0.34943298500148706, 'balanced_accuracy': 0.4134700533476768, 'mcc': 0.44579693831937495, 'train_loss': 0.8843013835061528}\n",
      "Epoch 4/20\n"
     ]
    },
    {
     "name": "stderr",
     "output_type": "stream",
     "text": [
      "100%|██████████| 716/716 [01:12<00:00,  9.85it/s]\n"
     ]
    },
    {
     "name": "stdout",
     "output_type": "stream",
     "text": [
      "{'val_loss': 1.6807513680399917, 'val_accuracy': 0.5697940503432495, 'precision': 0.6001775735071687, 'recall': 0.5697940503432495, 'f1-score': 0.5730956038014695, 'macro_f1-score': 0.3317384304916523, 'balanced_accuracy': 0.37671431126215404, 'mcc': 0.4505329808065414, 'train_loss': 0.5951912841296563}\n",
      "Epoch 5/20\n"
     ]
    },
    {
     "name": "stderr",
     "output_type": "stream",
     "text": [
      "100%|██████████| 716/716 [01:12<00:00,  9.86it/s]\n"
     ]
    },
    {
     "name": "stdout",
     "output_type": "stream",
     "text": [
      "{'val_loss': 1.6532307296264461, 'val_accuracy': 0.6125095347063311, 'precision': 0.623108182988769, 'recall': 0.6125095347063311, 'f1-score': 0.6065365204365635, 'macro_f1-score': 0.36580785690123835, 'balanced_accuracy': 0.4123238416163452, 'mcc': 0.4910222463740341, 'train_loss': 0.4497416983228489}\n",
      "Epoch 6/20\n"
     ]
    },
    {
     "name": "stderr",
     "output_type": "stream",
     "text": [
      "100%|██████████| 716/716 [01:12<00:00,  9.85it/s]\n"
     ]
    },
    {
     "name": "stdout",
     "output_type": "stream",
     "text": [
      "{'val_loss': 1.8400415378372843, 'val_accuracy': 0.5491990846681922, 'precision': 0.6126890954138221, 'recall': 0.5491990846681922, 'f1-score': 0.5650938456480924, 'macro_f1-score': 0.33356763273337586, 'balanced_accuracy': 0.38753790409434313, 'mcc': 0.445898903345347, 'train_loss': 0.3606271922910929}\n",
      "Epoch 7/20\n"
     ]
    },
    {
     "name": "stderr",
     "output_type": "stream",
     "text": [
      "100%|██████████| 716/716 [01:12<00:00,  9.83it/s]\n"
     ]
    },
    {
     "name": "stdout",
     "output_type": "stream",
     "text": [
      "{'val_loss': 1.7888428517958013, 'val_accuracy': 0.6186117467581999, 'precision': 0.6447604044355071, 'recall': 0.6186117467581999, 'f1-score': 0.6187650197995066, 'macro_f1-score': 0.3494336325171809, 'balanced_accuracy': 0.3949632791945255, 'mcc': 0.5084773142770397, 'train_loss': 0.29898449779467334}\n",
      "Epoch 8/20\n"
     ]
    },
    {
     "name": "stderr",
     "output_type": "stream",
     "text": [
      "100%|██████████| 716/716 [01:12<00:00,  9.91it/s]\n"
     ]
    },
    {
     "name": "stdout",
     "output_type": "stream",
     "text": [
      "{'val_loss': 1.8636925940106555, 'val_accuracy': 0.6231884057971014, 'precision': 0.6169260149380624, 'recall': 0.6231884057971014, 'f1-score': 0.6070527548203637, 'macro_f1-score': 0.3615652776028639, 'balanced_accuracy': 0.372289387913809, 'mcc': 0.4907592826711562, 'train_loss': 0.23687845330643753}\n",
      "Early stopping.\n",
      "\n",
      "[Fold 3]\n",
      "Label distribution after resampling:\n",
      "  label 0: 2000\n",
      "  label 1: 200\n",
      "  label 2: 200\n",
      "  label 3: 200\n",
      "  label 4: 200\n",
      "  label 5: 200\n",
      "  label 6: 200\n",
      "  label 7: 200\n",
      "  label 8: 200\n",
      "  label 9: 200\n",
      "  label 10: 200\n",
      "  label 11: 200\n",
      "  label 12: 200\n",
      "  label 13: 200\n",
      "  label 14: 200\n",
      "  label 15: 200\n",
      "  label 16: 200\n",
      "  label 17: 200\n",
      "  label 18: 200\n",
      "  label 19: 200\n",
      "  label 20: 200\n",
      "  label 21: 200\n",
      "  label 22: 200\n",
      "  label 23: 200\n",
      "  label 24: 200\n",
      "  label 25: 200\n",
      "  label 26: 200\n",
      "  label 27: 200\n",
      "  label 28: 200\n",
      "  label 29: 200\n",
      "  label 30: 200\n",
      "  label 31: 200\n",
      "  label 32: 200\n",
      "  label 33: 200\n",
      "  label 34: 200\n",
      "  label 35: 200\n",
      "  label 36: 200\n",
      "  label 37: 200\n",
      "  label 38: 200\n",
      "  label 39: 200\n",
      "  label 40: 200\n",
      "  label 41: 200\n",
      "  label 42: 200\n",
      "  label 43: 200\n",
      "  label 44: 200\n",
      "  label 45: 241\n",
      "  label 46: 200\n",
      "  label 47: 200\n",
      "model is roberta-base bilstm\n"
     ]
    },
    {
     "name": "stderr",
     "output_type": "stream",
     "text": [
      "Some weights of RobertaModel were not initialized from the model checkpoint at roberta-base and are newly initialized: ['pooler.dense.bias', 'pooler.dense.weight']\n",
      "You should probably TRAIN this model on a down-stream task to be able to use it for predictions and inference.\n"
     ]
    },
    {
     "name": "stdout",
     "output_type": "stream",
     "text": [
      "Epoch 1/20\n"
     ]
    },
    {
     "name": "stderr",
     "output_type": "stream",
     "text": [
      "100%|██████████| 716/716 [01:12<00:00,  9.87it/s]\n"
     ]
    },
    {
     "name": "stdout",
     "output_type": "stream",
     "text": [
      "{'val_loss': 2.0684558313067365, 'val_accuracy': 0.479023646071701, 'precision': 0.4736684008253494, 'recall': 0.479023646071701, 'f1-score': 0.43212021268508627, 'macro_f1-score': 0.16342193533083235, 'balanced_accuracy': 0.2214339965991552, 'mcc': 0.2858699561387138, 'train_loss': 2.9416095331394474}\n",
      "Epoch 2/20\n"
     ]
    },
    {
     "name": "stderr",
     "output_type": "stream",
     "text": [
      "100%|██████████| 716/716 [01:12<00:00,  9.87it/s]\n"
     ]
    },
    {
     "name": "stdout",
     "output_type": "stream",
     "text": [
      "{'val_loss': 1.8003175349497214, 'val_accuracy': 0.5041952707856598, 'precision': 0.5488568661324291, 'recall': 0.5041952707856598, 'f1-score': 0.4962021314544353, 'macro_f1-score': 0.2777542295974683, 'balanced_accuracy': 0.3445192748137651, 'mcc': 0.3543890002850339, 'train_loss': 1.5029900822393054}\n",
      "Epoch 3/20\n"
     ]
    },
    {
     "name": "stderr",
     "output_type": "stream",
     "text": [
      "100%|██████████| 716/716 [01:12<00:00,  9.86it/s]\n"
     ]
    },
    {
     "name": "stdout",
     "output_type": "stream",
     "text": [
      "{'val_loss': 1.7205984392544118, 'val_accuracy': 0.5491990846681922, 'precision': 0.5766763860816253, 'recall': 0.5491990846681922, 'f1-score': 0.5547710490023481, 'macro_f1-score': 0.3462956111720612, 'balanced_accuracy': 0.3708239377894907, 'mcc': 0.41896973564755763, 'train_loss': 0.8580937832802035}\n",
      "Epoch 4/20\n"
     ]
    },
    {
     "name": "stderr",
     "output_type": "stream",
     "text": [
      "100%|██████████| 716/716 [01:12<00:00,  9.84it/s]\n"
     ]
    },
    {
     "name": "stdout",
     "output_type": "stream",
     "text": [
      "{'val_loss': 1.7550067443673203, 'val_accuracy': 0.5766590389016019, 'precision': 0.5871984386840462, 'recall': 0.5766590389016019, 'f1-score': 0.5713161110647162, 'macro_f1-score': 0.3393206743595025, 'balanced_accuracy': 0.3399641363831134, 'mcc': 0.4367779574647503, 'train_loss': 0.5782591793998326}\n",
      "Epoch 5/20\n"
     ]
    },
    {
     "name": "stderr",
     "output_type": "stream",
     "text": [
      "100%|██████████| 716/716 [01:12<00:00,  9.87it/s]\n"
     ]
    },
    {
     "name": "stdout",
     "output_type": "stream",
     "text": [
      "{'val_loss': 1.8739698707330517, 'val_accuracy': 0.5530129672006102, 'precision': 0.5870486890721114, 'recall': 0.5530129672006102, 'f1-score': 0.5605132206201824, 'macro_f1-score': 0.33529882227048197, 'balanced_accuracy': 0.3542287511797783, 'mcc': 0.4349476103181716, 'train_loss': 0.43048812280403836}\n",
      "Epoch 6/20\n"
     ]
    },
    {
     "name": "stderr",
     "output_type": "stream",
     "text": [
      "100%|██████████| 716/716 [01:12<00:00,  9.87it/s]\n"
     ]
    },
    {
     "name": "stdout",
     "output_type": "stream",
     "text": [
      "{'val_loss': 1.8227502340223731, 'val_accuracy': 0.5865751334858886, 'precision': 0.5930185131410133, 'recall': 0.5865751334858886, 'f1-score': 0.5848553041913273, 'macro_f1-score': 0.3568039067389588, 'balanced_accuracy': 0.36018262417655333, 'mcc': 0.46039146413863646, 'train_loss': 0.32823093630524364}\n",
      "Epoch 7/20\n"
     ]
    },
    {
     "name": "stderr",
     "output_type": "stream",
     "text": [
      "100%|██████████| 716/716 [01:12<00:00,  9.83it/s]\n"
     ]
    },
    {
     "name": "stdout",
     "output_type": "stream",
     "text": [
      "{'val_loss': 1.9043809560740865, 'val_accuracy': 0.5873379099923722, 'precision': 0.5869096389559842, 'recall': 0.5873379099923722, 'f1-score': 0.5756557625593519, 'macro_f1-score': 0.3416613672796198, 'balanced_accuracy': 0.338974440380651, 'mcc': 0.453234643634486, 'train_loss': 0.2706829657369715}\n",
      "Epoch 8/20\n"
     ]
    },
    {
     "name": "stderr",
     "output_type": "stream",
     "text": [
      "100%|██████████| 716/716 [01:12<00:00,  9.83it/s]\n"
     ]
    },
    {
     "name": "stdout",
     "output_type": "stream",
     "text": [
      "{'val_loss': 2.119673977537853, 'val_accuracy': 0.5499618611746758, 'precision': 0.601363340451733, 'recall': 0.5499618611746758, 'f1-score': 0.5647494563900068, 'macro_f1-score': 0.35132570383462697, 'balanced_accuracy': 0.35804702764891716, 'mcc': 0.43641676524820094, 'train_loss': 0.2355660616807827}\n",
      "Epoch 9/20\n"
     ]
    },
    {
     "name": "stderr",
     "output_type": "stream",
     "text": [
      "100%|██████████| 716/716 [01:12<00:00,  9.84it/s]\n"
     ]
    },
    {
     "name": "stdout",
     "output_type": "stream",
     "text": [
      "{'val_loss': 2.0380968731351015, 'val_accuracy': 0.5789473684210527, 'precision': 0.6064133142266248, 'recall': 0.5789473684210527, 'f1-score': 0.5842492906131938, 'macro_f1-score': 0.356546499395364, 'balanced_accuracy': 0.354540413687467, 'mcc': 0.45469936933695976, 'train_loss': 0.20502954049493763}\n",
      "Early stopping.\n",
      "\n",
      "[Fold 4]\n",
      "Label distribution after resampling:\n",
      "  label 0: 2000\n",
      "  label 1: 200\n",
      "  label 2: 200\n",
      "  label 3: 200\n",
      "  label 4: 200\n",
      "  label 5: 200\n",
      "  label 6: 200\n",
      "  label 7: 200\n",
      "  label 8: 200\n",
      "  label 9: 200\n",
      "  label 10: 200\n",
      "  label 11: 200\n",
      "  label 12: 200\n",
      "  label 13: 200\n",
      "  label 14: 200\n",
      "  label 15: 200\n",
      "  label 16: 200\n",
      "  label 17: 200\n",
      "  label 18: 200\n",
      "  label 19: 200\n",
      "  label 20: 200\n",
      "  label 21: 200\n",
      "  label 22: 200\n",
      "  label 23: 200\n",
      "  label 24: 200\n",
      "  label 25: 200\n",
      "  label 26: 200\n",
      "  label 27: 200\n",
      "  label 28: 200\n",
      "  label 29: 200\n",
      "  label 30: 200\n",
      "  label 31: 200\n",
      "  label 32: 200\n",
      "  label 33: 200\n",
      "  label 34: 200\n",
      "  label 35: 200\n",
      "  label 36: 200\n",
      "  label 37: 200\n",
      "  label 38: 200\n",
      "  label 39: 200\n",
      "  label 40: 200\n",
      "  label 41: 200\n",
      "  label 42: 200\n",
      "  label 43: 200\n",
      "  label 44: 200\n",
      "  label 45: 241\n",
      "  label 46: 200\n",
      "  label 47: 200\n",
      "model is roberta-base bilstm\n"
     ]
    },
    {
     "name": "stderr",
     "output_type": "stream",
     "text": [
      "Some weights of RobertaModel were not initialized from the model checkpoint at roberta-base and are newly initialized: ['pooler.dense.bias', 'pooler.dense.weight']\n",
      "You should probably TRAIN this model on a down-stream task to be able to use it for predictions and inference.\n"
     ]
    },
    {
     "name": "stdout",
     "output_type": "stream",
     "text": [
      "Epoch 1/20\n"
     ]
    },
    {
     "name": "stderr",
     "output_type": "stream",
     "text": [
      "100%|██████████| 716/716 [01:12<00:00,  9.85it/s]\n"
     ]
    },
    {
     "name": "stdout",
     "output_type": "stream",
     "text": [
      "{'val_loss': 1.7808790846568783, 'val_accuracy': 0.540045766590389, 'precision': 0.5460885551192325, 'recall': 0.540045766590389, 'f1-score': 0.4977468902277934, 'macro_f1-score': 0.24052919162957984, 'balanced_accuracy': 0.30861724620069503, 'mcc': 0.38045310957983036, 'train_loss': 2.648665395945144}\n",
      "Epoch 2/20\n"
     ]
    },
    {
     "name": "stderr",
     "output_type": "stream",
     "text": [
      "100%|██████████| 716/716 [01:12<00:00,  9.93it/s]\n"
     ]
    },
    {
     "name": "stdout",
     "output_type": "stream",
     "text": [
      "{'val_loss': 1.6074147944043322, 'val_accuracy': 0.5751334858886347, 'precision': 0.6393020226522323, 'recall': 0.5751334858886347, 'f1-score': 0.5884513641749735, 'macro_f1-score': 0.3477637230774202, 'balanced_accuracy': 0.4180823349015755, 'mcc': 0.4656832407215335, 'train_loss': 1.294787870064461}\n",
      "Epoch 3/20\n"
     ]
    },
    {
     "name": "stderr",
     "output_type": "stream",
     "text": [
      "100%|██████████| 716/716 [01:13<00:00,  9.78it/s]\n"
     ]
    },
    {
     "name": "stdout",
     "output_type": "stream",
     "text": [
      "{'val_loss': 1.5462551567612626, 'val_accuracy': 0.6033562166285278, 'precision': 0.6299568140006611, 'recall': 0.6033562166285278, 'f1-score': 0.6000576085520426, 'macro_f1-score': 0.3842341294066791, 'balanced_accuracy': 0.40681371058007515, 'mcc': 0.47977479453083555, 'train_loss': 0.7499481913264238}\n",
      "Epoch 4/20\n"
     ]
    },
    {
     "name": "stderr",
     "output_type": "stream",
     "text": [
      "100%|██████████| 716/716 [01:12<00:00,  9.85it/s]\n"
     ]
    },
    {
     "name": "stdout",
     "output_type": "stream",
     "text": [
      "{'val_loss': 1.6300808331224976, 'val_accuracy': 0.5987795575896262, 'precision': 0.6435004669461422, 'recall': 0.5987795575896262, 'f1-score': 0.6062113574780873, 'macro_f1-score': 0.3830438431769778, 'balanced_accuracy': 0.4393828968071268, 'mcc': 0.49417702854621554, 'train_loss': 0.5090094164180357}\n",
      "Epoch 5/20\n"
     ]
    },
    {
     "name": "stderr",
     "output_type": "stream",
     "text": [
      "100%|██████████| 716/716 [01:12<00:00,  9.86it/s]\n"
     ]
    },
    {
     "name": "stdout",
     "output_type": "stream",
     "text": [
      "{'val_loss': 1.7043720007669636, 'val_accuracy': 0.6361556064073226, 'precision': 0.6204449676830086, 'recall': 0.6361556064073226, 'f1-score': 0.6102751347755461, 'macro_f1-score': 0.374496914968482, 'balanced_accuracy': 0.37361835697595125, 'mcc': 0.5047779784681754, 'train_loss': 0.3826102938700738}\n",
      "Epoch 6/20\n"
     ]
    },
    {
     "name": "stderr",
     "output_type": "stream",
     "text": [
      "100%|██████████| 716/716 [01:12<00:00,  9.84it/s]\n"
     ]
    },
    {
     "name": "stdout",
     "output_type": "stream",
     "text": [
      "{'val_loss': 1.6608835349722606, 'val_accuracy': 0.6178489702517163, 'precision': 0.6455021628865104, 'recall': 0.6178489702517163, 'f1-score': 0.6228661384985081, 'macro_f1-score': 0.4052308105321983, 'balanced_accuracy': 0.4302435302147331, 'mcc': 0.5141613289754504, 'train_loss': 0.32553282873861117}\n",
      "Epoch 7/20\n"
     ]
    },
    {
     "name": "stderr",
     "output_type": "stream",
     "text": [
      "100%|██████████| 716/716 [01:12<00:00,  9.85it/s]\n"
     ]
    },
    {
     "name": "stdout",
     "output_type": "stream",
     "text": [
      "{'val_loss': 1.6539277696027987, 'val_accuracy': 0.6224256292906178, 'precision': 0.6397168446973928, 'recall': 0.6224256292906178, 'f1-score': 0.6246400883584735, 'macro_f1-score': 0.3973064353941838, 'balanced_accuracy': 0.4182320388919125, 'mcc': 0.5163664232250068, 'train_loss': 0.25951807819535777}\n",
      "Epoch 8/20\n"
     ]
    },
    {
     "name": "stderr",
     "output_type": "stream",
     "text": [
      "100%|██████████| 716/716 [01:12<00:00,  9.86it/s]\n"
     ]
    },
    {
     "name": "stdout",
     "output_type": "stream",
     "text": [
      "{'val_loss': 1.7740487243707588, 'val_accuracy': 0.6262395118230358, 'precision': 0.6525163350807955, 'recall': 0.6262395118230358, 'f1-score': 0.6313484660532854, 'macro_f1-score': 0.4004211952671641, 'balanced_accuracy': 0.40706749949982807, 'mcc': 0.5240383274181866, 'train_loss': 0.20770958452270882}\n",
      "Epoch 9/20\n"
     ]
    },
    {
     "name": "stderr",
     "output_type": "stream",
     "text": [
      "100%|██████████| 716/716 [01:12<00:00,  9.85it/s]\n"
     ]
    },
    {
     "name": "stdout",
     "output_type": "stream",
     "text": [
      "{'val_loss': 1.866613576870139, 'val_accuracy': 0.601067887109077, 'precision': 0.623135566055159, 'recall': 0.601067887109077, 'f1-score': 0.6024231402695407, 'macro_f1-score': 0.38492088101843674, 'balanced_accuracy': 0.40422115835173456, 'mcc': 0.48794179862461085, 'train_loss': 0.1832746779689222}\n",
      "Early stopping.\n",
      "\n",
      "[Fold 5]\n",
      "Label distribution after resampling:\n",
      "  label 0: 2000\n",
      "  label 1: 200\n",
      "  label 2: 200\n",
      "  label 3: 200\n",
      "  label 4: 200\n",
      "  label 5: 200\n",
      "  label 6: 200\n",
      "  label 7: 200\n",
      "  label 8: 200\n",
      "  label 9: 200\n",
      "  label 10: 200\n",
      "  label 11: 200\n",
      "  label 12: 200\n",
      "  label 13: 200\n",
      "  label 14: 200\n",
      "  label 15: 200\n",
      "  label 16: 200\n",
      "  label 17: 200\n",
      "  label 18: 200\n",
      "  label 19: 200\n",
      "  label 20: 200\n",
      "  label 21: 200\n",
      "  label 22: 200\n",
      "  label 23: 200\n",
      "  label 24: 200\n",
      "  label 25: 200\n",
      "  label 26: 200\n",
      "  label 27: 200\n",
      "  label 28: 200\n",
      "  label 29: 200\n",
      "  label 30: 200\n",
      "  label 31: 200\n",
      "  label 32: 200\n",
      "  label 33: 200\n",
      "  label 34: 200\n",
      "  label 35: 200\n",
      "  label 36: 200\n",
      "  label 37: 200\n",
      "  label 38: 200\n",
      "  label 39: 200\n",
      "  label 40: 200\n",
      "  label 41: 200\n",
      "  label 42: 200\n",
      "  label 43: 200\n",
      "  label 44: 200\n",
      "  label 45: 242\n",
      "  label 46: 200\n",
      "  label 47: 200\n",
      "model is roberta-base bilstm\n"
     ]
    },
    {
     "name": "stderr",
     "output_type": "stream",
     "text": [
      "Some weights of RobertaModel were not initialized from the model checkpoint at roberta-base and are newly initialized: ['pooler.dense.bias', 'pooler.dense.weight']\n",
      "You should probably TRAIN this model on a down-stream task to be able to use it for predictions and inference.\n"
     ]
    },
    {
     "name": "stdout",
     "output_type": "stream",
     "text": [
      "Epoch 1/20\n"
     ]
    },
    {
     "name": "stderr",
     "output_type": "stream",
     "text": [
      "100%|██████████| 716/716 [01:12<00:00,  9.87it/s]\n"
     ]
    },
    {
     "name": "stdout",
     "output_type": "stream",
     "text": [
      "{'val_loss': 2.7030728226754723, 'val_accuracy': 0.47368421052631576, 'precision': 0.23214751963387414, 'recall': 0.47368421052631576, 'f1-score': 0.3111338266756263, 'macro_f1-score': 0.016487367956330934, 'balanced_accuracy': 0.041666666666666664, 'mcc': 0.09376135260483891, 'train_loss': 3.4942213090438417}\n",
      "Epoch 2/20\n"
     ]
    },
    {
     "name": "stderr",
     "output_type": "stream",
     "text": [
      "100%|██████████| 716/716 [01:12<00:00,  9.84it/s]\n"
     ]
    },
    {
     "name": "stdout",
     "output_type": "stream",
     "text": [
      "{'val_loss': 2.9635685071712587, 'val_accuracy': 0.47063310450038137, 'precision': 0.2214955190516669, 'recall': 0.47063310450038137, 'f1-score': 0.3012247152248292, 'macro_f1-score': 0.013334197786998616, 'balanced_accuracy': 0.020833333333333332, 'mcc': 0.0, 'train_loss': 3.6102512012646852}\n",
      "Epoch 3/20\n"
     ]
    },
    {
     "name": "stderr",
     "output_type": "stream",
     "text": [
      "100%|██████████| 716/716 [01:12<00:00,  9.86it/s]\n"
     ]
    },
    {
     "name": "stdout",
     "output_type": "stream",
     "text": [
      "{'val_loss': 2.957822308307741, 'val_accuracy': 0.47063310450038137, 'precision': 0.2214955190516669, 'recall': 0.47063310450038137, 'f1-score': 0.3012247152248292, 'macro_f1-score': 0.013334197786998616, 'balanced_accuracy': 0.020833333333333332, 'mcc': 0.0, 'train_loss': 3.6517846151437174}\n",
      "Epoch 4/20\n"
     ]
    },
    {
     "name": "stderr",
     "output_type": "stream",
     "text": [
      "100%|██████████| 716/716 [01:12<00:00,  9.85it/s]\n"
     ]
    },
    {
     "name": "stdout",
     "output_type": "stream",
     "text": [
      "{'val_loss': 3.003653543751414, 'val_accuracy': 0.47063310450038137, 'precision': 0.2214955190516669, 'recall': 0.47063310450038137, 'f1-score': 0.3012247152248292, 'macro_f1-score': 0.013334197786998616, 'balanced_accuracy': 0.020833333333333332, 'mcc': 0.0, 'train_loss': 3.6513827895984967}\n",
      "Early stopping.\n",
      "\n",
      " === roberta-base + bilstm + ros Final 5-fold Cross-Validation Results ===\n",
      "val_loss: 1.9425\n",
      "val_accuracy: 0.5790\n",
      "precision: 0.5420\n",
      "recall: 0.5790\n",
      "f1-score: 0.5452\n",
      "macro_f1-score: 0.3097\n",
      "balanced_accuracy: 0.3312\n",
      "mcc: 0.4094\n",
      "train_loss: 0.9733\n",
      "total_seconds: 3123.0000\n",
      "total_time: 0 hrs 52 mins 3 secs\n",
      "▶ Running: microsoft/deberta-base + plain + ros\n",
      "tokenizer is microsoft/deberta-base\n",
      "Using device: cuda\n",
      "CUDA Available: True\n",
      "CUDA Device: NVIDIA GeForce RTX 5070 Ti\n",
      "Current GPU Memory Allocated: 0.02 GB\n",
      "Current GPU Memory Cached: 3.92 GB\n",
      "\n",
      "[Fold 1]\n",
      "Label distribution after resampling:\n",
      "  label 0: 2000\n",
      "  label 1: 200\n",
      "  label 2: 200\n",
      "  label 3: 200\n",
      "  label 4: 200\n",
      "  label 5: 200\n",
      "  label 6: 200\n",
      "  label 7: 200\n",
      "  label 8: 200\n",
      "  label 9: 200\n",
      "  label 10: 200\n",
      "  label 11: 200\n",
      "  label 12: 200\n",
      "  label 13: 200\n",
      "  label 14: 200\n",
      "  label 15: 200\n",
      "  label 16: 200\n",
      "  label 17: 200\n",
      "  label 18: 200\n",
      "  label 19: 200\n",
      "  label 20: 200\n",
      "  label 21: 200\n",
      "  label 22: 200\n",
      "  label 23: 200\n",
      "  label 24: 200\n",
      "  label 25: 200\n",
      "  label 26: 200\n",
      "  label 27: 200\n",
      "  label 28: 200\n",
      "  label 29: 200\n",
      "  label 30: 200\n",
      "  label 31: 200\n",
      "  label 32: 200\n",
      "  label 33: 200\n",
      "  label 34: 200\n",
      "  label 35: 200\n",
      "  label 36: 200\n",
      "  label 37: 200\n",
      "  label 38: 200\n",
      "  label 39: 200\n",
      "  label 40: 200\n",
      "  label 41: 200\n",
      "  label 42: 200\n",
      "  label 43: 200\n",
      "  label 44: 200\n",
      "  label 45: 242\n",
      "  label 46: 200\n",
      "  label 47: 200\n",
      "model is microsoft/deberta-base\n"
     ]
    },
    {
     "name": "stderr",
     "output_type": "stream",
     "text": [
      "Some weights of DebertaForSequenceClassification were not initialized from the model checkpoint at microsoft/deberta-base and are newly initialized: ['classifier.bias', 'classifier.weight', 'pooler.dense.bias', 'pooler.dense.weight']\n",
      "You should probably TRAIN this model on a down-stream task to be able to use it for predictions and inference.\n"
     ]
    },
    {
     "name": "stdout",
     "output_type": "stream",
     "text": [
      "Epoch 1/20\n"
     ]
    },
    {
     "name": "stderr",
     "output_type": "stream",
     "text": [
      "100%|██████████| 716/716 [01:16<00:00,  9.37it/s]\n"
     ]
    },
    {
     "name": "stdout",
     "output_type": "stream",
     "text": [
      "{'val_loss': 2.89566800070972, 'val_accuracy': 0.4603658536585366, 'precision': 0.22963515535877857, 'recall': 0.4603658536585366, 'f1-score': 0.3058174773844218, 'macro_f1-score': 0.016237597450374928, 'balanced_accuracy': 0.03578411542610572, 'mcc': 0.062171090304425324, 'train_loss': 3.6485753355745496}\n",
      "Epoch 2/20\n"
     ]
    },
    {
     "name": "stderr",
     "output_type": "stream",
     "text": [
      "100%|██████████| 716/716 [01:16<00:00,  9.41it/s]\n"
     ]
    },
    {
     "name": "stdout",
     "output_type": "stream",
     "text": [
      "{'val_loss': 2.932299941051297, 'val_accuracy': 0.47103658536585363, 'precision': 0.22187546475312311, 'recall': 0.47103658536585363, 'f1-score': 0.3016586629596866, 'macro_f1-score': 0.013341968911917098, 'balanced_accuracy': 0.020833333333333332, 'mcc': 0.0, 'train_loss': 3.638608649789288}\n",
      "Epoch 3/20\n"
     ]
    },
    {
     "name": "stderr",
     "output_type": "stream",
     "text": [
      "100%|██████████| 716/716 [01:14<00:00,  9.58it/s]\n"
     ]
    },
    {
     "name": "stdout",
     "output_type": "stream",
     "text": [
      "{'val_loss': 2.9305539596371535, 'val_accuracy': 0.47103658536585363, 'precision': 0.22187546475312311, 'recall': 0.47103658536585363, 'f1-score': 0.3016586629596866, 'macro_f1-score': 0.013341968911917098, 'balanced_accuracy': 0.020833333333333332, 'mcc': 0.0, 'train_loss': 3.6457835232745337}\n",
      "Epoch 4/20\n"
     ]
    },
    {
     "name": "stderr",
     "output_type": "stream",
     "text": [
      "100%|██████████| 716/716 [01:16<00:00,  9.40it/s]\n"
     ]
    },
    {
     "name": "stdout",
     "output_type": "stream",
     "text": [
      "{'val_loss': 2.8777279315925224, 'val_accuracy': 0.47103658536585363, 'precision': 0.22187546475312311, 'recall': 0.47103658536585363, 'f1-score': 0.3016586629596866, 'macro_f1-score': 0.013341968911917098, 'balanced_accuracy': 0.020833333333333332, 'mcc': 0.0, 'train_loss': 3.613223125481739}\n",
      "Early stopping.\n",
      "\n",
      "[Fold 2]\n",
      "Label distribution after resampling:\n",
      "  label 0: 2000\n",
      "  label 1: 200\n",
      "  label 2: 200\n",
      "  label 3: 200\n",
      "  label 4: 200\n",
      "  label 5: 200\n",
      "  label 6: 200\n",
      "  label 7: 200\n",
      "  label 8: 200\n",
      "  label 9: 200\n",
      "  label 10: 200\n",
      "  label 11: 200\n",
      "  label 12: 200\n",
      "  label 13: 200\n",
      "  label 14: 200\n",
      "  label 15: 200\n",
      "  label 16: 200\n",
      "  label 17: 200\n",
      "  label 18: 200\n",
      "  label 19: 200\n",
      "  label 20: 200\n",
      "  label 21: 200\n",
      "  label 22: 200\n",
      "  label 23: 200\n",
      "  label 24: 200\n",
      "  label 25: 200\n",
      "  label 26: 200\n",
      "  label 27: 200\n",
      "  label 28: 200\n",
      "  label 29: 200\n",
      "  label 30: 200\n",
      "  label 31: 200\n",
      "  label 32: 200\n",
      "  label 33: 200\n",
      "  label 34: 200\n",
      "  label 35: 200\n",
      "  label 36: 200\n",
      "  label 37: 200\n",
      "  label 38: 200\n",
      "  label 39: 200\n",
      "  label 40: 200\n",
      "  label 41: 200\n",
      "  label 42: 200\n",
      "  label 43: 200\n",
      "  label 44: 200\n",
      "  label 45: 242\n",
      "  label 46: 200\n",
      "  label 47: 200\n",
      "model is microsoft/deberta-base\n"
     ]
    },
    {
     "name": "stderr",
     "output_type": "stream",
     "text": [
      "Some weights of DebertaForSequenceClassification were not initialized from the model checkpoint at microsoft/deberta-base and are newly initialized: ['classifier.bias', 'classifier.weight', 'pooler.dense.bias', 'pooler.dense.weight']\n",
      "You should probably TRAIN this model on a down-stream task to be able to use it for predictions and inference.\n"
     ]
    },
    {
     "name": "stdout",
     "output_type": "stream",
     "text": [
      "Epoch 1/20\n"
     ]
    },
    {
     "name": "stderr",
     "output_type": "stream",
     "text": [
      "100%|██████████| 716/716 [01:16<00:00,  9.37it/s]\n"
     ]
    },
    {
     "name": "stdout",
     "output_type": "stream",
     "text": [
      "{'val_loss': 1.5233133544282216, 'val_accuracy': 0.597254004576659, 'precision': 0.5909424776456176, 'recall': 0.597254004576659, 'f1-score': 0.5651658506044775, 'macro_f1-score': 0.33914354356619825, 'balanced_accuracy': 0.35732334886220535, 'mcc': 0.449371497658026, 'train_loss': 1.8844101352866884}\n",
      "Epoch 2/20\n"
     ]
    },
    {
     "name": "stderr",
     "output_type": "stream",
     "text": [
      "100%|██████████| 716/716 [01:16<00:00,  9.35it/s]\n"
     ]
    },
    {
     "name": "stdout",
     "output_type": "stream",
     "text": [
      "{'val_loss': 1.5735499244637605, 'val_accuracy': 0.6300533943554538, 'precision': 0.6258174148364886, 'recall': 0.6300533943554538, 'f1-score': 0.6107399110798363, 'macro_f1-score': 0.35086331546907185, 'balanced_accuracy': 0.3610906770281211, 'mcc': 0.5034412348045297, 'train_loss': 0.5414124194210052}\n",
      "Epoch 3/20\n"
     ]
    },
    {
     "name": "stderr",
     "output_type": "stream",
     "text": [
      "100%|██████████| 716/716 [01:16<00:00,  9.40it/s]\n"
     ]
    },
    {
     "name": "stdout",
     "output_type": "stream",
     "text": [
      "{'val_loss': 1.6756904786679803, 'val_accuracy': 0.6064073226544623, 'precision': 0.6331331582702681, 'recall': 0.6064073226544623, 'f1-score': 0.6083420768807607, 'macro_f1-score': 0.37152326221834264, 'balanced_accuracy': 0.38008700817257335, 'mcc': 0.49258472946359566, 'train_loss': 0.24622902727696275}\n",
      "Epoch 4/20\n"
     ]
    },
    {
     "name": "stderr",
     "output_type": "stream",
     "text": [
      "100%|██████████| 716/716 [01:16<00:00,  9.33it/s]\n"
     ]
    },
    {
     "name": "stdout",
     "output_type": "stream",
     "text": [
      "{'val_loss': 1.8269796244254926, 'val_accuracy': 0.6178489702517163, 'precision': 0.6232983457183565, 'recall': 0.6178489702517163, 'f1-score': 0.6110020475225126, 'macro_f1-score': 0.37944782191559495, 'balanced_accuracy': 0.39953634298035157, 'mcc': 0.5021201970787695, 'train_loss': 0.15692935473488528}\n",
      "Epoch 5/20\n"
     ]
    },
    {
     "name": "stderr",
     "output_type": "stream",
     "text": [
      "100%|██████████| 716/716 [01:16<00:00,  9.39it/s]\n"
     ]
    },
    {
     "name": "stdout",
     "output_type": "stream",
     "text": [
      "{'val_loss': 1.9785731136798859, 'val_accuracy': 0.6331045003813882, 'precision': 0.6356173522919963, 'recall': 0.6331045003813882, 'f1-score': 0.6212955320909913, 'macro_f1-score': 0.3924498854832066, 'balanced_accuracy': 0.40513829780391314, 'mcc': 0.5227189933995898, 'train_loss': 0.12937145649687018}\n",
      "Epoch 6/20\n"
     ]
    },
    {
     "name": "stderr",
     "output_type": "stream",
     "text": [
      "100%|██████████| 716/716 [01:15<00:00,  9.43it/s]\n"
     ]
    },
    {
     "name": "stdout",
     "output_type": "stream",
     "text": [
      "{'val_loss': 2.045282915961452, 'val_accuracy': 0.6270022883295194, 'precision': 0.6377063286490618, 'recall': 0.6270022883295194, 'f1-score': 0.6192468470183206, 'macro_f1-score': 0.38292427207670743, 'balanced_accuracy': 0.3963361685464563, 'mcc': 0.5193442989636751, 'train_loss': 0.09183081830676135}\n",
      "Epoch 7/20\n"
     ]
    },
    {
     "name": "stderr",
     "output_type": "stream",
     "text": [
      "100%|██████████| 716/716 [01:16<00:00,  9.40it/s]\n"
     ]
    },
    {
     "name": "stdout",
     "output_type": "stream",
     "text": [
      "{'val_loss': 2.107430158591852, 'val_accuracy': 0.6056445461479787, 'precision': 0.6386656037472115, 'recall': 0.6056445461479787, 'f1-score': 0.6069632052055497, 'macro_f1-score': 0.377117213011261, 'balanced_accuracy': 0.395245617747944, 'mcc': 0.4934345276877966, 'train_loss': 0.07180189968697472}\n",
      "Epoch 8/20\n"
     ]
    },
    {
     "name": "stderr",
     "output_type": "stream",
     "text": [
      "100%|██████████| 716/716 [01:15<00:00,  9.44it/s]\n"
     ]
    },
    {
     "name": "stdout",
     "output_type": "stream",
     "text": [
      "{'val_loss': 2.3489719084123286, 'val_accuracy': 0.6109839816933639, 'precision': 0.632962968947009, 'recall': 0.6109839816933639, 'f1-score': 0.6104062858061565, 'macro_f1-score': 0.37553958049302755, 'balanced_accuracy': 0.39832743962406664, 'mcc': 0.5053178466527353, 'train_loss': 0.07071348995107873}\n",
      "Early stopping.\n",
      "\n",
      "[Fold 3]\n",
      "Label distribution after resampling:\n",
      "  label 0: 2000\n",
      "  label 1: 200\n",
      "  label 2: 200\n",
      "  label 3: 200\n",
      "  label 4: 200\n",
      "  label 5: 200\n",
      "  label 6: 200\n",
      "  label 7: 200\n",
      "  label 8: 200\n",
      "  label 9: 200\n",
      "  label 10: 200\n",
      "  label 11: 200\n",
      "  label 12: 200\n",
      "  label 13: 200\n",
      "  label 14: 200\n",
      "  label 15: 200\n",
      "  label 16: 200\n",
      "  label 17: 200\n",
      "  label 18: 200\n",
      "  label 19: 200\n",
      "  label 20: 200\n",
      "  label 21: 200\n",
      "  label 22: 200\n",
      "  label 23: 200\n",
      "  label 24: 200\n",
      "  label 25: 200\n",
      "  label 26: 200\n",
      "  label 27: 200\n",
      "  label 28: 200\n",
      "  label 29: 200\n",
      "  label 30: 200\n",
      "  label 31: 200\n",
      "  label 32: 200\n",
      "  label 33: 200\n",
      "  label 34: 200\n",
      "  label 35: 200\n",
      "  label 36: 200\n",
      "  label 37: 200\n",
      "  label 38: 200\n",
      "  label 39: 200\n",
      "  label 40: 200\n",
      "  label 41: 200\n",
      "  label 42: 200\n",
      "  label 43: 200\n",
      "  label 44: 200\n",
      "  label 45: 241\n",
      "  label 46: 200\n",
      "  label 47: 200\n",
      "model is microsoft/deberta-base\n"
     ]
    },
    {
     "name": "stderr",
     "output_type": "stream",
     "text": [
      "Some weights of DebertaForSequenceClassification were not initialized from the model checkpoint at microsoft/deberta-base and are newly initialized: ['classifier.bias', 'classifier.weight', 'pooler.dense.bias', 'pooler.dense.weight']\n",
      "You should probably TRAIN this model on a down-stream task to be able to use it for predictions and inference.\n"
     ]
    },
    {
     "name": "stdout",
     "output_type": "stream",
     "text": [
      "Epoch 1/20\n"
     ]
    },
    {
     "name": "stderr",
     "output_type": "stream",
     "text": [
      "100%|██████████| 716/716 [01:16<00:00,  9.34it/s]\n"
     ]
    },
    {
     "name": "stdout",
     "output_type": "stream",
     "text": [
      "{'val_loss': 1.6105967084082162, 'val_accuracy': 0.5736079328756675, 'precision': 0.5812226255893505, 'recall': 0.5736079328756675, 'f1-score': 0.5426895617110697, 'macro_f1-score': 0.29968328644191305, 'balanced_accuracy': 0.3022905302693327, 'mcc': 0.4048863909998807, 'train_loss': 2.2449698001978784}\n",
      "Epoch 2/20\n"
     ]
    },
    {
     "name": "stderr",
     "output_type": "stream",
     "text": [
      "100%|██████████| 716/716 [01:16<00:00,  9.36it/s]\n"
     ]
    },
    {
     "name": "stdout",
     "output_type": "stream",
     "text": [
      "{'val_loss': 1.6452216753145543, 'val_accuracy': 0.5949656750572082, 'precision': 0.6076934342301439, 'recall': 0.5949656750572082, 'f1-score': 0.5708879597291331, 'macro_f1-score': 0.3155294358711693, 'balanced_accuracy': 0.32182751200572723, 'mcc': 0.44485773153151, 'train_loss': 0.6392130078175547}\n",
      "Epoch 3/20\n"
     ]
    },
    {
     "name": "stderr",
     "output_type": "stream",
     "text": [
      "100%|██████████| 716/716 [01:16<00:00,  9.37it/s]\n"
     ]
    },
    {
     "name": "stdout",
     "output_type": "stream",
     "text": [
      "{'val_loss': 2.8934411711809114, 'val_accuracy': 0.47139588100686497, 'precision': 0.2222140766302384, 'recall': 0.47139588100686497, 'f1-score': 0.302045261236125, 'macro_f1-score': 0.01334888543286677, 'balanced_accuracy': 0.020833333333333332, 'mcc': 0.0, 'train_loss': 3.1844614062916135}\n",
      "Epoch 4/20\n"
     ]
    },
    {
     "name": "stderr",
     "output_type": "stream",
     "text": [
      "100%|██████████| 716/716 [01:15<00:00,  9.42it/s]\n"
     ]
    },
    {
     "name": "stdout",
     "output_type": "stream",
     "text": [
      "{'val_loss': 2.8814446519060835, 'val_accuracy': 0.47139588100686497, 'precision': 0.2222140766302384, 'recall': 0.47139588100686497, 'f1-score': 0.302045261236125, 'macro_f1-score': 0.01334888543286677, 'balanced_accuracy': 0.020833333333333332, 'mcc': 0.0, 'train_loss': 3.645898418386555}\n",
      "Epoch 5/20\n"
     ]
    },
    {
     "name": "stderr",
     "output_type": "stream",
     "text": [
      "100%|██████████| 716/716 [01:16<00:00,  9.38it/s]\n"
     ]
    },
    {
     "name": "stdout",
     "output_type": "stream",
     "text": [
      "{'val_loss': 2.9173311518459784, 'val_accuracy': 0.47139588100686497, 'precision': 0.2222140766302384, 'recall': 0.47139588100686497, 'f1-score': 0.302045261236125, 'macro_f1-score': 0.01334888543286677, 'balanced_accuracy': 0.020833333333333332, 'mcc': 0.0, 'train_loss': 3.648757638212023}\n",
      "Early stopping.\n",
      "\n",
      "[Fold 4]\n",
      "Label distribution after resampling:\n",
      "  label 0: 2000\n",
      "  label 1: 200\n",
      "  label 2: 200\n",
      "  label 3: 200\n",
      "  label 4: 200\n",
      "  label 5: 200\n",
      "  label 6: 200\n",
      "  label 7: 200\n",
      "  label 8: 200\n",
      "  label 9: 200\n",
      "  label 10: 200\n",
      "  label 11: 200\n",
      "  label 12: 200\n",
      "  label 13: 200\n",
      "  label 14: 200\n",
      "  label 15: 200\n",
      "  label 16: 200\n",
      "  label 17: 200\n",
      "  label 18: 200\n",
      "  label 19: 200\n",
      "  label 20: 200\n",
      "  label 21: 200\n",
      "  label 22: 200\n",
      "  label 23: 200\n",
      "  label 24: 200\n",
      "  label 25: 200\n",
      "  label 26: 200\n",
      "  label 27: 200\n",
      "  label 28: 200\n",
      "  label 29: 200\n",
      "  label 30: 200\n",
      "  label 31: 200\n",
      "  label 32: 200\n",
      "  label 33: 200\n",
      "  label 34: 200\n",
      "  label 35: 200\n",
      "  label 36: 200\n",
      "  label 37: 200\n",
      "  label 38: 200\n",
      "  label 39: 200\n",
      "  label 40: 200\n",
      "  label 41: 200\n",
      "  label 42: 200\n",
      "  label 43: 200\n",
      "  label 44: 200\n",
      "  label 45: 241\n",
      "  label 46: 200\n",
      "  label 47: 200\n",
      "model is microsoft/deberta-base\n"
     ]
    },
    {
     "name": "stderr",
     "output_type": "stream",
     "text": [
      "Some weights of DebertaForSequenceClassification were not initialized from the model checkpoint at microsoft/deberta-base and are newly initialized: ['classifier.bias', 'classifier.weight', 'pooler.dense.bias', 'pooler.dense.weight']\n",
      "You should probably TRAIN this model on a down-stream task to be able to use it for predictions and inference.\n"
     ]
    },
    {
     "name": "stdout",
     "output_type": "stream",
     "text": [
      "Epoch 1/20\n"
     ]
    },
    {
     "name": "stderr",
     "output_type": "stream",
     "text": [
      "100%|██████████| 716/716 [01:16<00:00,  9.41it/s]\n"
     ]
    },
    {
     "name": "stdout",
     "output_type": "stream",
     "text": [
      "{'val_loss': 1.6478638685331113, 'val_accuracy': 0.5537757437070938, 'precision': 0.6446968436625832, 'recall': 0.5537757437070938, 'f1-score': 0.568404054927794, 'macro_f1-score': 0.36029604996989034, 'balanced_accuracy': 0.4311608126628556, 'mcc': 0.44521876043424025, 'train_loss': 1.9220720443812163}\n",
      "Epoch 2/20\n"
     ]
    },
    {
     "name": "stderr",
     "output_type": "stream",
     "text": [
      "100%|██████████| 716/716 [01:16<00:00,  9.37it/s]\n"
     ]
    },
    {
     "name": "stdout",
     "output_type": "stream",
     "text": [
      "{'val_loss': 1.553374312999772, 'val_accuracy': 0.6254767353165522, 'precision': 0.6443353578597405, 'recall': 0.6254767353165522, 'f1-score': 0.621740832901748, 'macro_f1-score': 0.40033633246406697, 'balanced_accuracy': 0.43256079790829743, 'mcc': 0.5140054714662111, 'train_loss': 0.6156542993478435}\n",
      "Epoch 3/20\n"
     ]
    },
    {
     "name": "stderr",
     "output_type": "stream",
     "text": [
      "100%|██████████| 716/716 [01:16<00:00,  9.40it/s]\n"
     ]
    },
    {
     "name": "stdout",
     "output_type": "stream",
     "text": [
      "{'val_loss': 1.7747528436707287, 'val_accuracy': 0.5942028985507246, 'precision': 0.6442803837427373, 'recall': 0.5942028985507246, 'f1-score': 0.6070279421699221, 'macro_f1-score': 0.388791090016757, 'balanced_accuracy': 0.4217523021506575, 'mcc': 0.49614148190488183, 'train_loss': 0.26840665011130815}\n",
      "Epoch 4/20\n"
     ]
    },
    {
     "name": "stderr",
     "output_type": "stream",
     "text": [
      "100%|██████████| 716/716 [01:15<00:00,  9.44it/s]\n"
     ]
    },
    {
     "name": "stdout",
     "output_type": "stream",
     "text": [
      "{'val_loss': 1.9181627711144889, 'val_accuracy': 0.5995423340961098, 'precision': 0.6298118478397232, 'recall': 0.5995423340961098, 'f1-score': 0.599934601049699, 'macro_f1-score': 0.36479422183295585, 'balanced_accuracy': 0.37647792768438554, 'mcc': 0.4784835205378016, 'train_loss': 0.17402424235852934}\n",
      "Epoch 5/20\n"
     ]
    },
    {
     "name": "stderr",
     "output_type": "stream",
     "text": [
      "100%|██████████| 716/716 [01:16<00:00,  9.40it/s]\n"
     ]
    },
    {
     "name": "stdout",
     "output_type": "stream",
     "text": [
      "{'val_loss': 2.073425119243017, 'val_accuracy': 0.6018306636155606, 'precision': 0.6378176513610955, 'recall': 0.6018306636155606, 'f1-score': 0.6110027553203715, 'macro_f1-score': 0.3916721726540317, 'balanced_accuracy': 0.4090635449409716, 'mcc': 0.49366410239421926, 'train_loss': 0.13709313294319592}\n",
      "Early stopping.\n",
      "\n",
      "[Fold 5]\n",
      "Label distribution after resampling:\n",
      "  label 0: 2000\n",
      "  label 1: 200\n",
      "  label 2: 200\n",
      "  label 3: 200\n",
      "  label 4: 200\n",
      "  label 5: 200\n",
      "  label 6: 200\n",
      "  label 7: 200\n",
      "  label 8: 200\n",
      "  label 9: 200\n",
      "  label 10: 200\n",
      "  label 11: 200\n",
      "  label 12: 200\n",
      "  label 13: 200\n",
      "  label 14: 200\n",
      "  label 15: 200\n",
      "  label 16: 200\n",
      "  label 17: 200\n",
      "  label 18: 200\n",
      "  label 19: 200\n",
      "  label 20: 200\n",
      "  label 21: 200\n",
      "  label 22: 200\n",
      "  label 23: 200\n",
      "  label 24: 200\n",
      "  label 25: 200\n",
      "  label 26: 200\n",
      "  label 27: 200\n",
      "  label 28: 200\n",
      "  label 29: 200\n",
      "  label 30: 200\n",
      "  label 31: 200\n",
      "  label 32: 200\n",
      "  label 33: 200\n",
      "  label 34: 200\n",
      "  label 35: 200\n",
      "  label 36: 200\n",
      "  label 37: 200\n",
      "  label 38: 200\n",
      "  label 39: 200\n",
      "  label 40: 200\n",
      "  label 41: 200\n",
      "  label 42: 200\n",
      "  label 43: 200\n",
      "  label 44: 200\n",
      "  label 45: 242\n",
      "  label 46: 200\n",
      "  label 47: 200\n",
      "model is microsoft/deberta-base\n"
     ]
    },
    {
     "name": "stderr",
     "output_type": "stream",
     "text": [
      "Some weights of DebertaForSequenceClassification were not initialized from the model checkpoint at microsoft/deberta-base and are newly initialized: ['classifier.bias', 'classifier.weight', 'pooler.dense.bias', 'pooler.dense.weight']\n",
      "You should probably TRAIN this model on a down-stream task to be able to use it for predictions and inference.\n"
     ]
    },
    {
     "name": "stdout",
     "output_type": "stream",
     "text": [
      "Epoch 1/20\n"
     ]
    },
    {
     "name": "stderr",
     "output_type": "stream",
     "text": [
      "100%|██████████| 716/716 [01:16<00:00,  9.41it/s]\n"
     ]
    },
    {
     "name": "stdout",
     "output_type": "stream",
     "text": [
      "{'val_loss': 2.478823315806505, 'val_accuracy': 0.475209763539283, 'precision': 0.3460463111289759, 'recall': 0.475209763539283, 'f1-score': 0.3904782720903519, 'macro_f1-score': 0.04872893964827749, 'balanced_accuracy': 0.07029270964643736, 'mcc': 0.25303202781909073, 'train_loss': 3.4650938187897538}\n",
      "Epoch 2/20\n"
     ]
    },
    {
     "name": "stderr",
     "output_type": "stream",
     "text": [
      "100%|██████████| 716/716 [01:16<00:00,  9.37it/s]\n"
     ]
    },
    {
     "name": "stdout",
     "output_type": "stream",
     "text": [
      "{'val_loss': 2.4688796749929103, 'val_accuracy': 0.43325705568268497, 'precision': 0.339680363101456, 'recall': 0.43325705568268497, 'f1-score': 0.3587567684514906, 'macro_f1-score': 0.05485937508611982, 'balanced_accuracy': 0.10331623313349757, 'mcc': 0.18369608638997803, 'train_loss': 2.6136150962813605}\n",
      "Epoch 3/20\n"
     ]
    },
    {
     "name": "stderr",
     "output_type": "stream",
     "text": [
      "100%|██████████| 716/716 [01:16<00:00,  9.41it/s]\n"
     ]
    },
    {
     "name": "stdout",
     "output_type": "stream",
     "text": [
      "{'val_loss': 1.8959626453678782, 'val_accuracy': 0.4889397406559878, 'precision': 0.568531992800075, 'recall': 0.4889397406559878, 'f1-score': 0.5051986872985978, 'macro_f1-score': 0.251620750828096, 'balanced_accuracy': 0.3168411629974539, 'mcc': 0.3608090386511411, 'train_loss': 1.5259184125581933}\n",
      "Epoch 4/20\n"
     ]
    },
    {
     "name": "stderr",
     "output_type": "stream",
     "text": [
      "100%|██████████| 716/716 [01:16<00:00,  9.39it/s]\n"
     ]
    },
    {
     "name": "stdout",
     "output_type": "stream",
     "text": [
      "{'val_loss': 1.879455095384179, 'val_accuracy': 0.559115179252479, 'precision': 0.5999803529976259, 'recall': 0.559115179252479, 'f1-score': 0.5647078118774438, 'macro_f1-score': 0.3303205380899499, 'balanced_accuracy': 0.34826565077302846, 'mcc': 0.4264423637578881, 'train_loss': 0.7581769614818625}\n",
      "Epoch 5/20\n"
     ]
    },
    {
     "name": "stderr",
     "output_type": "stream",
     "text": [
      "100%|██████████| 716/716 [01:14<00:00,  9.60it/s]\n"
     ]
    },
    {
     "name": "stdout",
     "output_type": "stream",
     "text": [
      "{'val_loss': 1.8243063364813967, 'val_accuracy': 0.6003051106025934, 'precision': 0.6192200301282758, 'recall': 0.6003051106025934, 'f1-score': 0.6024762003594596, 'macro_f1-score': 0.35350717765900025, 'balanced_accuracy': 0.363564951502133, 'mcc': 0.4809703770591262, 'train_loss': 0.4963619752355211}\n",
      "Epoch 6/20\n"
     ]
    },
    {
     "name": "stderr",
     "output_type": "stream",
     "text": [
      "100%|██████████| 716/716 [01:16<00:00,  9.38it/s]\n"
     ]
    },
    {
     "name": "stdout",
     "output_type": "stream",
     "text": [
      "{'val_loss': 1.906689266969518, 'val_accuracy': 0.5835240274599542, 'precision': 0.6254961315477908, 'recall': 0.5835240274599542, 'f1-score': 0.5962891446466998, 'macro_f1-score': 0.3949753362709181, 'balanced_accuracy': 0.4053555581498236, 'mcc': 0.47274502654554484, 'train_loss': 0.26194509193977583}\n",
      "Epoch 7/20\n"
     ]
    },
    {
     "name": "stderr",
     "output_type": "stream",
     "text": [
      "100%|██████████| 716/716 [01:16<00:00,  9.40it/s]\n"
     ]
    },
    {
     "name": "stdout",
     "output_type": "stream",
     "text": [
      "{'val_loss': 2.0701591176230734, 'val_accuracy': 0.6254767353165522, 'precision': 0.6245150897433467, 'recall': 0.6254767353165522, 'f1-score': 0.6146862337523613, 'macro_f1-score': 0.38494386396171887, 'balanced_accuracy': 0.38140555430239687, 'mcc': 0.5056921884028542, 'train_loss': 0.18353297890751888}\n",
      "Epoch 8/20\n"
     ]
    },
    {
     "name": "stderr",
     "output_type": "stream",
     "text": [
      "100%|██████████| 716/716 [01:15<00:00,  9.44it/s]\n"
     ]
    },
    {
     "name": "stdout",
     "output_type": "stream",
     "text": [
      "{'val_loss': 2.194219667737077, 'val_accuracy': 0.6209000762776506, 'precision': 0.6310231712048068, 'recall': 0.6209000762776506, 'f1-score': 0.6173834851439611, 'macro_f1-score': 0.3912804387272701, 'balanced_accuracy': 0.38759939885137423, 'mcc': 0.4971361668538226, 'train_loss': 0.20088363237946955}\n",
      "Epoch 9/20\n"
     ]
    },
    {
     "name": "stderr",
     "output_type": "stream",
     "text": [
      "100%|██████████| 716/716 [01:16<00:00,  9.38it/s]\n"
     ]
    },
    {
     "name": "stdout",
     "output_type": "stream",
     "text": [
      "{'val_loss': 2.276691346997168, 'val_accuracy': 0.6414950419527079, 'precision': 0.6509671226346533, 'recall': 0.6414950419527079, 'f1-score': 0.6327703748485071, 'macro_f1-score': 0.41823351965494165, 'balanced_accuracy': 0.40507137096074636, 'mcc': 0.5223149947663464, 'train_loss': 0.11620857106364338}\n",
      "Epoch 10/20\n"
     ]
    },
    {
     "name": "stderr",
     "output_type": "stream",
     "text": [
      "100%|██████████| 716/716 [01:16<00:00,  9.39it/s]\n"
     ]
    },
    {
     "name": "stdout",
     "output_type": "stream",
     "text": [
      "{'val_loss': 2.4559077740442463, 'val_accuracy': 0.5926773455377574, 'precision': 0.6223193303486333, 'recall': 0.5926773455377574, 'f1-score': 0.5963831247605823, 'macro_f1-score': 0.374438893872488, 'balanced_accuracy': 0.37756779123312506, 'mcc': 0.4773994003565274, 'train_loss': 0.09274607885260833}\n",
      "Epoch 11/20\n"
     ]
    },
    {
     "name": "stderr",
     "output_type": "stream",
     "text": [
      "100%|██████████| 716/716 [01:16<00:00,  9.39it/s]\n"
     ]
    },
    {
     "name": "stdout",
     "output_type": "stream",
     "text": [
      "{'val_loss': 2.465842687138697, 'val_accuracy': 0.6064073226544623, 'precision': 0.6108052358335908, 'recall': 0.6064073226544623, 'f1-score': 0.5943244764301328, 'macro_f1-score': 0.36272064788848146, 'balanced_accuracy': 0.36318481909270867, 'mcc': 0.48762507831035534, 'train_loss': 0.089484110639454}\n",
      "Epoch 12/20\n"
     ]
    },
    {
     "name": "stderr",
     "output_type": "stream",
     "text": [
      "100%|██████████| 716/716 [01:16<00:00,  9.40it/s]\n"
     ]
    },
    {
     "name": "stdout",
     "output_type": "stream",
     "text": [
      "{'val_loss': 2.627865699369733, 'val_accuracy': 0.6170861937452327, 'precision': 0.6229727587509033, 'recall': 0.6170861937452327, 'f1-score': 0.601019962300712, 'macro_f1-score': 0.34971820893004235, 'balanced_accuracy': 0.3248846643583598, 'mcc': 0.488856592874981, 'train_loss': 0.09585628402712053}\n",
      "Early stopping.\n",
      "\n",
      " === microsoft/deberta-base + plain + ros Final 5-fold Cross-Validation Results ===\n",
      "val_loss: 2.0699\n",
      "val_accuracy: 0.5911\n",
      "precision: 0.5536\n",
      "recall: 0.5911\n",
      "f1-score: 0.5505\n",
      "macro_f1-score: 0.3086\n",
      "balanced_accuracy: 0.3201\n",
      "mcc: 0.4132\n",
      "train_loss: 1.0298\n",
      "total_seconds: 2723.0000\n",
      "total_time: 0 hrs 45 mins 23 secs\n",
      "▶ Running: microsoft/deberta-base + cnn + ros\n",
      "tokenizer is microsoft/deberta-base\n",
      "Using device: cuda\n",
      "CUDA Available: True\n",
      "CUDA Device: NVIDIA GeForce RTX 5070 Ti\n",
      "Current GPU Memory Allocated: 0.02 GB\n",
      "Current GPU Memory Cached: 5.29 GB\n",
      "\n",
      "[Fold 1]\n",
      "Label distribution after resampling:\n",
      "  label 0: 2000\n",
      "  label 1: 200\n",
      "  label 2: 200\n",
      "  label 3: 200\n",
      "  label 4: 200\n",
      "  label 5: 200\n",
      "  label 6: 200\n",
      "  label 7: 200\n",
      "  label 8: 200\n",
      "  label 9: 200\n",
      "  label 10: 200\n",
      "  label 11: 200\n",
      "  label 12: 200\n",
      "  label 13: 200\n",
      "  label 14: 200\n",
      "  label 15: 200\n",
      "  label 16: 200\n",
      "  label 17: 200\n",
      "  label 18: 200\n",
      "  label 19: 200\n",
      "  label 20: 200\n",
      "  label 21: 200\n",
      "  label 22: 200\n",
      "  label 23: 200\n",
      "  label 24: 200\n",
      "  label 25: 200\n",
      "  label 26: 200\n",
      "  label 27: 200\n",
      "  label 28: 200\n",
      "  label 29: 200\n",
      "  label 30: 200\n",
      "  label 31: 200\n",
      "  label 32: 200\n",
      "  label 33: 200\n",
      "  label 34: 200\n",
      "  label 35: 200\n",
      "  label 36: 200\n",
      "  label 37: 200\n",
      "  label 38: 200\n",
      "  label 39: 200\n",
      "  label 40: 200\n",
      "  label 41: 200\n",
      "  label 42: 200\n",
      "  label 43: 200\n",
      "  label 44: 200\n",
      "  label 45: 242\n",
      "  label 46: 200\n",
      "  label 47: 200\n",
      "model is microsoft/deberta-base cnn\n",
      "Epoch 1/20\n"
     ]
    },
    {
     "name": "stderr",
     "output_type": "stream",
     "text": [
      "100%|██████████| 716/716 [01:18<00:00,  9.13it/s]\n"
     ]
    },
    {
     "name": "stdout",
     "output_type": "stream",
     "text": [
      "{'val_loss': 1.8118033823443622, 'val_accuracy': 0.4961890243902439, 'precision': 0.5207833030218095, 'recall': 0.4961890243902439, 'f1-score': 0.478316892055928, 'macro_f1-score': 0.24765502862141017, 'balanced_accuracy': 0.3126973059065539, 'mcc': 0.3347206837590263, 'train_loss': 2.612622960402979}\n",
      "Epoch 2/20\n"
     ]
    },
    {
     "name": "stderr",
     "output_type": "stream",
     "text": [
      "100%|██████████| 716/716 [01:20<00:00,  8.91it/s]\n"
     ]
    },
    {
     "name": "stdout",
     "output_type": "stream",
     "text": [
      "{'val_loss': 1.6437497680507056, 'val_accuracy': 0.5716463414634146, 'precision': 0.6056346340898435, 'recall': 0.5716463414634146, 'f1-score': 0.5680669382038557, 'macro_f1-score': 0.3484663022057901, 'balanced_accuracy': 0.37319847378334114, 'mcc': 0.44289852488300585, 'train_loss': 1.0019827312139493}\n",
      "Epoch 3/20\n"
     ]
    },
    {
     "name": "stderr",
     "output_type": "stream",
     "text": [
      "100%|██████████| 716/716 [01:18<00:00,  9.17it/s]\n"
     ]
    },
    {
     "name": "stdout",
     "output_type": "stream",
     "text": [
      "{'val_loss': 1.6628926549015977, 'val_accuracy': 0.6082317073170732, 'precision': 0.6355844187534062, 'recall': 0.6082317073170732, 'f1-score': 0.6042073534811221, 'macro_f1-score': 0.40372522698642016, 'balanced_accuracy': 0.41997239523215885, 'mcc': 0.4825942291647707, 'train_loss': 0.5212483034682507}\n",
      "Epoch 4/20\n"
     ]
    },
    {
     "name": "stderr",
     "output_type": "stream",
     "text": [
      "100%|██████████| 716/716 [01:17<00:00,  9.20it/s]\n"
     ]
    },
    {
     "name": "stdout",
     "output_type": "stream",
     "text": [
      "{'val_loss': 1.8340317904949188, 'val_accuracy': 0.59375, 'precision': 0.6148929307826301, 'recall': 0.59375, 'f1-score': 0.5905016407924467, 'macro_f1-score': 0.3789783213363644, 'balanced_accuracy': 0.40541816180706913, 'mcc': 0.4659543504033768, 'train_loss': 0.31220802178543955}\n",
      "Epoch 5/20\n"
     ]
    },
    {
     "name": "stderr",
     "output_type": "stream",
     "text": [
      "100%|██████████| 716/716 [01:18<00:00,  9.14it/s]\n"
     ]
    },
    {
     "name": "stdout",
     "output_type": "stream",
     "text": [
      "{'val_loss': 1.7919928035358104, 'val_accuracy': 0.6295731707317073, 'precision': 0.6265822187812022, 'recall': 0.6295731707317073, 'f1-score': 0.6178992211695737, 'macro_f1-score': 0.43851305829922693, 'balanced_accuracy': 0.4284989024387003, 'mcc': 0.5050914174834095, 'train_loss': 0.2805656586297626}\n",
      "Epoch 6/20\n"
     ]
    },
    {
     "name": "stderr",
     "output_type": "stream",
     "text": [
      "100%|██████████| 716/716 [01:18<00:00,  9.12it/s]\n"
     ]
    },
    {
     "name": "stdout",
     "output_type": "stream",
     "text": [
      "{'val_loss': 2.027322069173906, 'val_accuracy': 0.6379573170731707, 'precision': 0.6233253627760593, 'recall': 0.6379573170731707, 'f1-score': 0.6171109887704279, 'macro_f1-score': 0.3963463475810142, 'balanced_accuracy': 0.381995148820804, 'mcc': 0.5093752000046993, 'train_loss': 0.15428958875426305}\n",
      "Epoch 7/20\n"
     ]
    },
    {
     "name": "stderr",
     "output_type": "stream",
     "text": [
      "100%|██████████| 716/716 [01:17<00:00,  9.20it/s]\n"
     ]
    },
    {
     "name": "stdout",
     "output_type": "stream",
     "text": [
      "{'val_loss': 1.9593979807161703, 'val_accuracy': 0.618140243902439, 'precision': 0.6233945720615085, 'recall': 0.618140243902439, 'f1-score': 0.6063100479219026, 'macro_f1-score': 0.38623737449940226, 'balanced_accuracy': 0.3730750136653431, 'mcc': 0.48436459417965766, 'train_loss': 0.1520617290012351}\n",
      "Epoch 8/20\n"
     ]
    },
    {
     "name": "stderr",
     "output_type": "stream",
     "text": [
      "100%|██████████| 716/716 [01:17<00:00,  9.19it/s]\n"
     ]
    },
    {
     "name": "stdout",
     "output_type": "stream",
     "text": [
      "{'val_loss': 2.2525954333747307, 'val_accuracy': 0.6310975609756098, 'precision': 0.6195314415328923, 'recall': 0.6310975609756098, 'f1-score': 0.6132819717745033, 'macro_f1-score': 0.41197102720432976, 'balanced_accuracy': 0.4070813057818546, 'mcc': 0.5019439091169948, 'train_loss': 0.1477653508411308}\n",
      "Early stopping.\n",
      "\n",
      "[Fold 2]\n",
      "Label distribution after resampling:\n",
      "  label 0: 2000\n",
      "  label 1: 200\n",
      "  label 2: 200\n",
      "  label 3: 200\n",
      "  label 4: 200\n",
      "  label 5: 200\n",
      "  label 6: 200\n",
      "  label 7: 200\n",
      "  label 8: 200\n",
      "  label 9: 200\n",
      "  label 10: 200\n",
      "  label 11: 200\n",
      "  label 12: 200\n",
      "  label 13: 200\n",
      "  label 14: 200\n",
      "  label 15: 200\n",
      "  label 16: 200\n",
      "  label 17: 200\n",
      "  label 18: 200\n",
      "  label 19: 200\n",
      "  label 20: 200\n",
      "  label 21: 200\n",
      "  label 22: 200\n",
      "  label 23: 200\n",
      "  label 24: 200\n",
      "  label 25: 200\n",
      "  label 26: 200\n",
      "  label 27: 200\n",
      "  label 28: 200\n",
      "  label 29: 200\n",
      "  label 30: 200\n",
      "  label 31: 200\n",
      "  label 32: 200\n",
      "  label 33: 200\n",
      "  label 34: 200\n",
      "  label 35: 200\n",
      "  label 36: 200\n",
      "  label 37: 200\n",
      "  label 38: 200\n",
      "  label 39: 200\n",
      "  label 40: 200\n",
      "  label 41: 200\n",
      "  label 42: 200\n",
      "  label 43: 200\n",
      "  label 44: 200\n",
      "  label 45: 242\n",
      "  label 46: 200\n",
      "  label 47: 200\n",
      "model is microsoft/deberta-base cnn\n",
      "Epoch 1/20\n"
     ]
    },
    {
     "name": "stderr",
     "output_type": "stream",
     "text": [
      "100%|██████████| 716/716 [01:17<00:00,  9.23it/s]\n"
     ]
    },
    {
     "name": "stdout",
     "output_type": "stream",
     "text": [
      "{'val_loss': 1.5824251494756558, 'val_accuracy': 0.5736079328756675, 'precision': 0.6100927481032989, 'recall': 0.5736079328756675, 'f1-score': 0.5568115296684527, 'macro_f1-score': 0.33922065614275443, 'balanced_accuracy': 0.4152764881516083, 'mcc': 0.42837658354282043, 'train_loss': 2.310818826394707}\n",
      "Epoch 2/20\n"
     ]
    },
    {
     "name": "stderr",
     "output_type": "stream",
     "text": [
      "100%|██████████| 716/716 [01:18<00:00,  9.16it/s]\n"
     ]
    },
    {
     "name": "stdout",
     "output_type": "stream",
     "text": [
      "{'val_loss': 1.5876074396982425, 'val_accuracy': 0.581998474446987, 'precision': 0.6260696773758807, 'recall': 0.581998474446987, 'f1-score': 0.5828803134549515, 'macro_f1-score': 0.3494927832528569, 'balanced_accuracy': 0.39587505536756035, 'mcc': 0.46425989610479873, 'train_loss': 0.8195652206215029}\n",
      "Epoch 3/20\n"
     ]
    },
    {
     "name": "stderr",
     "output_type": "stream",
     "text": [
      "100%|██████████| 716/716 [01:17<00:00,  9.19it/s]\n"
     ]
    },
    {
     "name": "stdout",
     "output_type": "stream",
     "text": [
      "{'val_loss': 1.6548507751488104, 'val_accuracy': 0.6147978642257819, 'precision': 0.6372987638347835, 'recall': 0.6147978642257819, 'f1-score': 0.6159848497602639, 'macro_f1-score': 0.3923300779619727, 'balanced_accuracy': 0.4364192547084575, 'mcc': 0.5053806549129802, 'train_loss': 0.4334472231879081}\n",
      "Epoch 4/20\n"
     ]
    },
    {
     "name": "stderr",
     "output_type": "stream",
     "text": [
      "100%|██████████| 716/716 [01:18<00:00,  9.14it/s]\n"
     ]
    },
    {
     "name": "stdout",
     "output_type": "stream",
     "text": [
      "{'val_loss': 1.831960974670038, 'val_accuracy': 0.6323417238749046, 'precision': 0.6249476823165516, 'recall': 0.6323417238749046, 'f1-score': 0.6087005426278255, 'macro_f1-score': 0.3795706779693903, 'balanced_accuracy': 0.371946031162859, 'mcc': 0.4962169274501507, 'train_loss': 0.2814666670226809}\n",
      "Epoch 5/20\n"
     ]
    },
    {
     "name": "stderr",
     "output_type": "stream",
     "text": [
      "100%|██████████| 716/716 [01:17<00:00,  9.19it/s]\n"
     ]
    },
    {
     "name": "stdout",
     "output_type": "stream",
     "text": [
      "{'val_loss': 1.8427475294688853, 'val_accuracy': 0.631578947368421, 'precision': 0.6371101386397526, 'recall': 0.631578947368421, 'f1-score': 0.6254366268995417, 'macro_f1-score': 0.38837134042308175, 'balanced_accuracy': 0.4106774577791732, 'mcc': 0.5238991076804161, 'train_loss': 0.17543950778505032}\n",
      "Epoch 6/20\n"
     ]
    },
    {
     "name": "stderr",
     "output_type": "stream",
     "text": [
      "100%|██████████| 716/716 [01:18<00:00,  9.15it/s]\n"
     ]
    },
    {
     "name": "stdout",
     "output_type": "stream",
     "text": [
      "{'val_loss': 1.952761792555088, 'val_accuracy': 0.6254767353165522, 'precision': 0.6253657074094155, 'recall': 0.6254767353165522, 'f1-score': 0.6140971653647005, 'macro_f1-score': 0.36121958213593747, 'balanced_accuracy': 0.3860794405599916, 'mcc': 0.5049168819159939, 'train_loss': 0.1649774717421963}\n",
      "Early stopping.\n",
      "\n",
      "[Fold 3]\n",
      "Label distribution after resampling:\n",
      "  label 0: 2000\n",
      "  label 1: 200\n",
      "  label 2: 200\n",
      "  label 3: 200\n",
      "  label 4: 200\n",
      "  label 5: 200\n",
      "  label 6: 200\n",
      "  label 7: 200\n",
      "  label 8: 200\n",
      "  label 9: 200\n",
      "  label 10: 200\n",
      "  label 11: 200\n",
      "  label 12: 200\n",
      "  label 13: 200\n",
      "  label 14: 200\n",
      "  label 15: 200\n",
      "  label 16: 200\n",
      "  label 17: 200\n",
      "  label 18: 200\n",
      "  label 19: 200\n",
      "  label 20: 200\n",
      "  label 21: 200\n",
      "  label 22: 200\n",
      "  label 23: 200\n",
      "  label 24: 200\n",
      "  label 25: 200\n",
      "  label 26: 200\n",
      "  label 27: 200\n",
      "  label 28: 200\n",
      "  label 29: 200\n",
      "  label 30: 200\n",
      "  label 31: 200\n",
      "  label 32: 200\n",
      "  label 33: 200\n",
      "  label 34: 200\n",
      "  label 35: 200\n",
      "  label 36: 200\n",
      "  label 37: 200\n",
      "  label 38: 200\n",
      "  label 39: 200\n",
      "  label 40: 200\n",
      "  label 41: 200\n",
      "  label 42: 200\n",
      "  label 43: 200\n",
      "  label 44: 200\n",
      "  label 45: 241\n",
      "  label 46: 200\n",
      "  label 47: 200\n",
      "model is microsoft/deberta-base cnn\n",
      "Epoch 1/20\n"
     ]
    },
    {
     "name": "stderr",
     "output_type": "stream",
     "text": [
      "100%|██████████| 716/716 [01:18<00:00,  9.17it/s]\n"
     ]
    },
    {
     "name": "stdout",
     "output_type": "stream",
     "text": [
      "{'val_loss': 1.6636685961630286, 'val_accuracy': 0.5491990846681922, 'precision': 0.5495571909438538, 'recall': 0.5491990846681922, 'f1-score': 0.5324137651706499, 'macro_f1-score': 0.3216612791004719, 'balanced_accuracy': 0.3697212634041926, 'mcc': 0.39703416749562376, 'train_loss': 2.436261387604325}\n",
      "Epoch 2/20\n"
     ]
    },
    {
     "name": "stderr",
     "output_type": "stream",
     "text": [
      "100%|██████████| 716/716 [01:17<00:00,  9.23it/s]\n"
     ]
    },
    {
     "name": "stdout",
     "output_type": "stream",
     "text": [
      "{'val_loss': 1.5410931153995235, 'val_accuracy': 0.6041189931350115, 'precision': 0.6259446734211345, 'recall': 0.6041189931350115, 'f1-score': 0.600672104293952, 'macro_f1-score': 0.3980799859630797, 'balanced_accuracy': 0.40725055444720404, 'mcc': 0.4737298252036101, 'train_loss': 0.8495841596962354}\n",
      "Epoch 3/20\n"
     ]
    },
    {
     "name": "stderr",
     "output_type": "stream",
     "text": [
      "100%|██████████| 716/716 [01:17<00:00,  9.25it/s]\n"
     ]
    },
    {
     "name": "stdout",
     "output_type": "stream",
     "text": [
      "{'val_loss': 1.6029834422033007, 'val_accuracy': 0.6292906178489702, 'precision': 0.6170652751384068, 'recall': 0.6292906178489702, 'f1-score': 0.613573041436998, 'macro_f1-score': 0.39489239040778895, 'balanced_accuracy': 0.3898646010636209, 'mcc': 0.5026072376650493, 'train_loss': 0.43161867630496287}\n",
      "Epoch 4/20\n"
     ]
    },
    {
     "name": "stderr",
     "output_type": "stream",
     "text": [
      "100%|██████████| 716/716 [01:17<00:00,  9.23it/s]\n"
     ]
    },
    {
     "name": "stdout",
     "output_type": "stream",
     "text": [
      "{'val_loss': 1.7981902215538956, 'val_accuracy': 0.5957284515636918, 'precision': 0.6274965199878516, 'recall': 0.5957284515636918, 'f1-score': 0.6027247532427934, 'macro_f1-score': 0.38887673528728106, 'balanced_accuracy': 0.38216007528047474, 'mcc': 0.48257002339161614, 'train_loss': 0.3039418117464494}\n",
      "Epoch 5/20\n"
     ]
    },
    {
     "name": "stderr",
     "output_type": "stream",
     "text": [
      "100%|██████████| 716/716 [01:17<00:00,  9.19it/s]\n"
     ]
    },
    {
     "name": "stdout",
     "output_type": "stream",
     "text": [
      "{'val_loss': 1.9929203245697953, 'val_accuracy': 0.5949656750572082, 'precision': 0.618447603279842, 'recall': 0.5949656750572082, 'f1-score': 0.5975797697347187, 'macro_f1-score': 0.38708113301598, 'balanced_accuracy': 0.3939338214772526, 'mcc': 0.4743438915452068, 'train_loss': 0.21012486798907293}\n",
      "Early stopping.\n",
      "\n",
      "[Fold 4]\n",
      "Label distribution after resampling:\n",
      "  label 0: 2000\n",
      "  label 1: 200\n",
      "  label 2: 200\n",
      "  label 3: 200\n",
      "  label 4: 200\n",
      "  label 5: 200\n",
      "  label 6: 200\n",
      "  label 7: 200\n",
      "  label 8: 200\n",
      "  label 9: 200\n",
      "  label 10: 200\n",
      "  label 11: 200\n",
      "  label 12: 200\n",
      "  label 13: 200\n",
      "  label 14: 200\n",
      "  label 15: 200\n",
      "  label 16: 200\n",
      "  label 17: 200\n",
      "  label 18: 200\n",
      "  label 19: 200\n",
      "  label 20: 200\n",
      "  label 21: 200\n",
      "  label 22: 200\n",
      "  label 23: 200\n",
      "  label 24: 200\n",
      "  label 25: 200\n",
      "  label 26: 200\n",
      "  label 27: 200\n",
      "  label 28: 200\n",
      "  label 29: 200\n",
      "  label 30: 200\n",
      "  label 31: 200\n",
      "  label 32: 200\n",
      "  label 33: 200\n",
      "  label 34: 200\n",
      "  label 35: 200\n",
      "  label 36: 200\n",
      "  label 37: 200\n",
      "  label 38: 200\n",
      "  label 39: 200\n",
      "  label 40: 200\n",
      "  label 41: 200\n",
      "  label 42: 200\n",
      "  label 43: 200\n",
      "  label 44: 200\n",
      "  label 45: 241\n",
      "  label 46: 200\n",
      "  label 47: 200\n",
      "model is microsoft/deberta-base cnn\n",
      "Epoch 1/20\n"
     ]
    },
    {
     "name": "stderr",
     "output_type": "stream",
     "text": [
      "100%|██████████| 716/716 [01:18<00:00,  9.17it/s]\n"
     ]
    },
    {
     "name": "stdout",
     "output_type": "stream",
     "text": [
      "{'val_loss': 1.8792429784449136, 'val_accuracy': 0.5316552250190694, 'precision': 0.5063442054453713, 'recall': 0.5316552250190694, 'f1-score': 0.47216914263045734, 'macro_f1-score': 0.201009924116603, 'balanced_accuracy': 0.2438171198187408, 'mcc': 0.3357973460573075, 'train_loss': 3.0254573046162143}\n",
      "Epoch 2/20\n"
     ]
    },
    {
     "name": "stderr",
     "output_type": "stream",
     "text": [
      "100%|██████████| 716/716 [01:18<00:00,  9.13it/s]\n"
     ]
    },
    {
     "name": "stdout",
     "output_type": "stream",
     "text": [
      "{'val_loss': 1.6703392383528919, 'val_accuracy': 0.5530129672006102, 'precision': 0.6256576291896634, 'recall': 0.5530129672006102, 'f1-score': 0.5631560948936556, 'macro_f1-score': 0.306171086485516, 'balanced_accuracy': 0.34932930840944465, 'mcc': 0.4322484187121505, 'train_loss': 1.3976049208649377}\n",
      "Epoch 3/20\n"
     ]
    },
    {
     "name": "stderr",
     "output_type": "stream",
     "text": [
      "100%|██████████| 716/716 [01:17<00:00,  9.19it/s]\n"
     ]
    },
    {
     "name": "stdout",
     "output_type": "stream",
     "text": [
      "{'val_loss': 1.7857817600413066, 'val_accuracy': 0.5652173913043478, 'precision': 0.6518585363240106, 'recall': 0.5652173913043478, 'f1-score': 0.5916620880493805, 'macro_f1-score': 0.36087613449161554, 'balanced_accuracy': 0.4081659179150527, 'mcc': 0.4693105953659456, 'train_loss': 0.6722951367102022}\n",
      "Epoch 4/20\n"
     ]
    },
    {
     "name": "stderr",
     "output_type": "stream",
     "text": [
      "100%|██████████| 716/716 [01:17<00:00,  9.19it/s]\n"
     ]
    },
    {
     "name": "stdout",
     "output_type": "stream",
     "text": [
      "{'val_loss': 1.72794953043141, 'val_accuracy': 0.6125095347063311, 'precision': 0.6392778220204189, 'recall': 0.6125095347063311, 'f1-score': 0.6146594829128085, 'macro_f1-score': 0.3992854555351735, 'balanced_accuracy': 0.4024895044807059, 'mcc': 0.49492703197981897, 'train_loss': 0.4203152421851481}\n",
      "Epoch 5/20\n"
     ]
    },
    {
     "name": "stderr",
     "output_type": "stream",
     "text": [
      "100%|██████████| 716/716 [01:17<00:00,  9.19it/s]\n"
     ]
    },
    {
     "name": "stdout",
     "output_type": "stream",
     "text": [
      "{'val_loss': 1.9727339192134579, 'val_accuracy': 0.5621662852784134, 'precision': 0.6287337823967901, 'recall': 0.5621662852784134, 'f1-score': 0.5786472854843498, 'macro_f1-score': 0.3638620904767819, 'balanced_accuracy': 0.39891103266620326, 'mcc': 0.4685966945096106, 'train_loss': 0.2650599212375308}\n",
      "Epoch 6/20\n"
     ]
    },
    {
     "name": "stderr",
     "output_type": "stream",
     "text": [
      "100%|██████████| 716/716 [01:17<00:00,  9.19it/s]\n"
     ]
    },
    {
     "name": "stdout",
     "output_type": "stream",
     "text": [
      "{'val_loss': 1.8767461947551587, 'val_accuracy': 0.627765064836003, 'precision': 0.6320391965947121, 'recall': 0.627765064836003, 'f1-score': 0.6178650495208181, 'macro_f1-score': 0.37944257423202005, 'balanced_accuracy': 0.3842053293919274, 'mcc': 0.5019978662979349, 'train_loss': 0.21892375857117274}\n",
      "Epoch 7/20\n"
     ]
    },
    {
     "name": "stderr",
     "output_type": "stream",
     "text": [
      "100%|██████████| 716/716 [01:17<00:00,  9.19it/s]\n"
     ]
    },
    {
     "name": "stdout",
     "output_type": "stream",
     "text": [
      "{'val_loss': 2.053313250221857, 'val_accuracy': 0.601067887109077, 'precision': 0.6387320971026194, 'recall': 0.601067887109077, 'f1-score': 0.6062489196687124, 'macro_f1-score': 0.3708106941590488, 'balanced_accuracy': 0.3705318230413544, 'mcc': 0.4839286462198042, 'train_loss': 0.1892161465883411}\n",
      "Early stopping.\n",
      "\n",
      "[Fold 5]\n",
      "Label distribution after resampling:\n",
      "  label 0: 2000\n",
      "  label 1: 200\n",
      "  label 2: 200\n",
      "  label 3: 200\n",
      "  label 4: 200\n",
      "  label 5: 200\n",
      "  label 6: 200\n",
      "  label 7: 200\n",
      "  label 8: 200\n",
      "  label 9: 200\n",
      "  label 10: 200\n",
      "  label 11: 200\n",
      "  label 12: 200\n",
      "  label 13: 200\n",
      "  label 14: 200\n",
      "  label 15: 200\n",
      "  label 16: 200\n",
      "  label 17: 200\n",
      "  label 18: 200\n",
      "  label 19: 200\n",
      "  label 20: 200\n",
      "  label 21: 200\n",
      "  label 22: 200\n",
      "  label 23: 200\n",
      "  label 24: 200\n",
      "  label 25: 200\n",
      "  label 26: 200\n",
      "  label 27: 200\n",
      "  label 28: 200\n",
      "  label 29: 200\n",
      "  label 30: 200\n",
      "  label 31: 200\n",
      "  label 32: 200\n",
      "  label 33: 200\n",
      "  label 34: 200\n",
      "  label 35: 200\n",
      "  label 36: 200\n",
      "  label 37: 200\n",
      "  label 38: 200\n",
      "  label 39: 200\n",
      "  label 40: 200\n",
      "  label 41: 200\n",
      "  label 42: 200\n",
      "  label 43: 200\n",
      "  label 44: 200\n",
      "  label 45: 242\n",
      "  label 46: 200\n",
      "  label 47: 200\n",
      "model is microsoft/deberta-base cnn\n",
      "Epoch 1/20\n"
     ]
    },
    {
     "name": "stderr",
     "output_type": "stream",
     "text": [
      "100%|██████████| 716/716 [01:17<00:00,  9.19it/s]\n"
     ]
    },
    {
     "name": "stdout",
     "output_type": "stream",
     "text": [
      "{'val_loss': 1.6018025097323627, 'val_accuracy': 0.5614035087719298, 'precision': 0.5731984891066852, 'recall': 0.5614035087719298, 'f1-score': 0.5463322079805872, 'macro_f1-score': 0.3160146589929226, 'balanced_accuracy': 0.38450289261523035, 'mcc': 0.42904000479541726, 'train_loss': 2.4355236554112514}\n",
      "Epoch 2/20\n"
     ]
    },
    {
     "name": "stderr",
     "output_type": "stream",
     "text": [
      "100%|██████████| 716/716 [01:18<00:00,  9.13it/s]\n"
     ]
    },
    {
     "name": "stdout",
     "output_type": "stream",
     "text": [
      "{'val_loss': 1.4356491834652134, 'val_accuracy': 0.6323417238749046, 'precision': 0.6370602221453697, 'recall': 0.6323417238749046, 'f1-score': 0.622639629122182, 'macro_f1-score': 0.392325909476293, 'balanced_accuracy': 0.3881133321162729, 'mcc': 0.5067253782883216, 'train_loss': 0.8771905462314796}\n",
      "Epoch 3/20\n"
     ]
    },
    {
     "name": "stderr",
     "output_type": "stream",
     "text": [
      "100%|██████████| 716/716 [01:18<00:00,  9.12it/s]\n"
     ]
    },
    {
     "name": "stdout",
     "output_type": "stream",
     "text": [
      "{'val_loss': 1.5692581796064609, 'val_accuracy': 0.6308161708619374, 'precision': 0.649617362809928, 'recall': 0.6308161708619374, 'f1-score': 0.6257708127038235, 'macro_f1-score': 0.41114758446181593, 'balanced_accuracy': 0.4069355282205918, 'mcc': 0.5082764474583141, 'train_loss': 0.45207583146200997}\n",
      "Epoch 4/20\n"
     ]
    },
    {
     "name": "stderr",
     "output_type": "stream",
     "text": [
      "100%|██████████| 716/716 [01:17<00:00,  9.20it/s]\n"
     ]
    },
    {
     "name": "stdout",
     "output_type": "stream",
     "text": [
      "{'val_loss': 1.648122992820856, 'val_accuracy': 0.6460717009916095, 'precision': 0.6489192766446288, 'recall': 0.6460717009916095, 'f1-score': 0.637022814330233, 'macro_f1-score': 0.4192612031613441, 'balanced_accuracy': 0.40986875794485583, 'mcc': 0.5330929505495375, 'train_loss': 0.297988121899875}\n",
      "Epoch 5/20\n"
     ]
    },
    {
     "name": "stderr",
     "output_type": "stream",
     "text": [
      "100%|██████████| 716/716 [01:17<00:00,  9.22it/s]\n"
     ]
    },
    {
     "name": "stdout",
     "output_type": "stream",
     "text": [
      "{'val_loss': 1.7071146539798596, 'val_accuracy': 0.6529366895499619, 'precision': 0.6598167692557683, 'recall': 0.6529366895499619, 'f1-score': 0.6486365834148454, 'macro_f1-score': 0.41498392003906287, 'balanced_accuracy': 0.4282768549751708, 'mcc': 0.5454307254251627, 'train_loss': 0.2548499067311368}\n",
      "Epoch 6/20\n"
     ]
    },
    {
     "name": "stderr",
     "output_type": "stream",
     "text": [
      "100%|██████████| 716/716 [01:18<00:00,  9.11it/s]\n"
     ]
    },
    {
     "name": "stdout",
     "output_type": "stream",
     "text": [
      "{'val_loss': 2.045383848068191, 'val_accuracy': 0.6102212051868803, 'precision': 0.6490921655405391, 'recall': 0.6102212051868803, 'f1-score': 0.6138736878671365, 'macro_f1-score': 0.3860639902224042, 'balanced_accuracy': 0.39493937264298173, 'mcc': 0.5130659015672713, 'train_loss': 0.16083614160552265}\n",
      "Epoch 7/20\n"
     ]
    },
    {
     "name": "stderr",
     "output_type": "stream",
     "text": [
      "100%|██████████| 716/716 [01:18<00:00,  9.17it/s]\n"
     ]
    },
    {
     "name": "stdout",
     "output_type": "stream",
     "text": [
      "{'val_loss': 2.0094561718586013, 'val_accuracy': 0.6300533943554538, 'precision': 0.6419823511846449, 'recall': 0.6300533943554538, 'f1-score': 0.6235346726729984, 'macro_f1-score': 0.4190329734014196, 'balanced_accuracy': 0.42498107346478653, 'mcc': 0.5202279715936334, 'train_loss': 0.15794117029531282}\n",
      "Early stopping.\n",
      "\n",
      " === microsoft/deberta-base + cnn + ros Final 5-fold Cross-Validation Results ===\n",
      "val_loss: 1.6728\n",
      "val_accuracy: 0.6214\n",
      "precision: 0.6356\n",
      "recall: 0.6214\n",
      "f1-score: 0.6172\n",
      "macro_f1-score: 0.4095\n",
      "balanced_accuracy: 0.4169\n",
      "mcc: 0.5024\n",
      "train_loss: 0.4564\n",
      "total_seconds: 2712.0000\n",
      "total_time: 0 hrs 45 mins 12 secs\n",
      "▶ Running: microsoft/deberta-base + lstm + ros\n",
      "tokenizer is microsoft/deberta-base\n",
      "Using device: cuda\n",
      "CUDA Available: True\n",
      "CUDA Device: NVIDIA GeForce RTX 5070 Ti\n",
      "Current GPU Memory Allocated: 0.02 GB\n",
      "Current GPU Memory Cached: 5.30 GB\n",
      "\n",
      "[Fold 1]\n",
      "Label distribution after resampling:\n",
      "  label 0: 2000\n",
      "  label 1: 200\n",
      "  label 2: 200\n",
      "  label 3: 200\n",
      "  label 4: 200\n",
      "  label 5: 200\n",
      "  label 6: 200\n",
      "  label 7: 200\n",
      "  label 8: 200\n",
      "  label 9: 200\n",
      "  label 10: 200\n",
      "  label 11: 200\n",
      "  label 12: 200\n",
      "  label 13: 200\n",
      "  label 14: 200\n",
      "  label 15: 200\n",
      "  label 16: 200\n",
      "  label 17: 200\n",
      "  label 18: 200\n",
      "  label 19: 200\n",
      "  label 20: 200\n",
      "  label 21: 200\n",
      "  label 22: 200\n",
      "  label 23: 200\n",
      "  label 24: 200\n",
      "  label 25: 200\n",
      "  label 26: 200\n",
      "  label 27: 200\n",
      "  label 28: 200\n",
      "  label 29: 200\n",
      "  label 30: 200\n",
      "  label 31: 200\n",
      "  label 32: 200\n",
      "  label 33: 200\n",
      "  label 34: 200\n",
      "  label 35: 200\n",
      "  label 36: 200\n",
      "  label 37: 200\n",
      "  label 38: 200\n",
      "  label 39: 200\n",
      "  label 40: 200\n",
      "  label 41: 200\n",
      "  label 42: 200\n",
      "  label 43: 200\n",
      "  label 44: 200\n",
      "  label 45: 242\n",
      "  label 46: 200\n",
      "  label 47: 200\n",
      "model is microsoft/deberta-base lstm\n",
      "Epoch 1/20\n"
     ]
    },
    {
     "name": "stderr",
     "output_type": "stream",
     "text": [
      "100%|██████████| 716/716 [01:20<00:00,  8.88it/s]\n"
     ]
    },
    {
     "name": "stdout",
     "output_type": "stream",
     "text": [
      "{'val_loss': 2.6955861173024993, 'val_accuracy': 0.45198170731707316, 'precision': 0.29062400647936154, 'recall': 0.45198170731707316, 'f1-score': 0.3471860521095951, 'macro_f1-score': 0.03389942785638463, 'balanced_accuracy': 0.06041891405969076, 'mcc': 0.16392977073327344, 'train_loss': 3.452013881845847}\n",
      "Epoch 2/20\n"
     ]
    },
    {
     "name": "stderr",
     "output_type": "stream",
     "text": [
      "100%|██████████| 716/716 [01:20<00:00,  8.93it/s]\n"
     ]
    },
    {
     "name": "stdout",
     "output_type": "stream",
     "text": [
      "{'val_loss': 2.9145882304121806, 'val_accuracy': 0.47103658536585363, 'precision': 0.22187546475312311, 'recall': 0.47103658536585363, 'f1-score': 0.3016586629596866, 'macro_f1-score': 0.013341968911917098, 'balanced_accuracy': 0.020833333333333332, 'mcc': 0.0, 'train_loss': 3.56839105836506}\n",
      "Epoch 3/20\n"
     ]
    },
    {
     "name": "stderr",
     "output_type": "stream",
     "text": [
      "100%|██████████| 716/716 [01:20<00:00,  8.87it/s]\n"
     ]
    },
    {
     "name": "stdout",
     "output_type": "stream",
     "text": [
      "{'val_loss': 2.8478412729937856, 'val_accuracy': 0.4451219512195122, 'precision': 0.24169436301174413, 'recall': 0.4451219512195122, 'f1-score': 0.3120940561339225, 'macro_f1-score': 0.01562691996650864, 'balanced_accuracy': 0.0327766219756511, 'mcc': 0.0928605196494151, 'train_loss': 3.501906796540628}\n",
      "Epoch 4/20\n"
     ]
    },
    {
     "name": "stderr",
     "output_type": "stream",
     "text": [
      "100%|██████████| 716/716 [01:20<00:00,  8.86it/s]\n"
     ]
    },
    {
     "name": "stdout",
     "output_type": "stream",
     "text": [
      "{'val_loss': 2.9728691010940365, 'val_accuracy': 0.47103658536585363, 'precision': 0.22187546475312311, 'recall': 0.47103658536585363, 'f1-score': 0.3016586629596866, 'macro_f1-score': 0.013341968911917098, 'balanced_accuracy': 0.020833333333333332, 'mcc': 0.0, 'train_loss': 3.544087481565316}\n",
      "Early stopping.\n",
      "\n",
      "[Fold 2]\n",
      "Label distribution after resampling:\n",
      "  label 0: 2000\n",
      "  label 1: 200\n",
      "  label 2: 200\n",
      "  label 3: 200\n",
      "  label 4: 200\n",
      "  label 5: 200\n",
      "  label 6: 200\n",
      "  label 7: 200\n",
      "  label 8: 200\n",
      "  label 9: 200\n",
      "  label 10: 200\n",
      "  label 11: 200\n",
      "  label 12: 200\n",
      "  label 13: 200\n",
      "  label 14: 200\n",
      "  label 15: 200\n",
      "  label 16: 200\n",
      "  label 17: 200\n",
      "  label 18: 200\n",
      "  label 19: 200\n",
      "  label 20: 200\n",
      "  label 21: 200\n",
      "  label 22: 200\n",
      "  label 23: 200\n",
      "  label 24: 200\n",
      "  label 25: 200\n",
      "  label 26: 200\n",
      "  label 27: 200\n",
      "  label 28: 200\n",
      "  label 29: 200\n",
      "  label 30: 200\n",
      "  label 31: 200\n",
      "  label 32: 200\n",
      "  label 33: 200\n",
      "  label 34: 200\n",
      "  label 35: 200\n",
      "  label 36: 200\n",
      "  label 37: 200\n",
      "  label 38: 200\n",
      "  label 39: 200\n",
      "  label 40: 200\n",
      "  label 41: 200\n",
      "  label 42: 200\n",
      "  label 43: 200\n",
      "  label 44: 200\n",
      "  label 45: 242\n",
      "  label 46: 200\n",
      "  label 47: 200\n",
      "model is microsoft/deberta-base lstm\n",
      "Epoch 1/20\n"
     ]
    },
    {
     "name": "stderr",
     "output_type": "stream",
     "text": [
      "100%|██████████| 716/716 [01:21<00:00,  8.83it/s]\n"
     ]
    },
    {
     "name": "stdout",
     "output_type": "stream",
     "text": [
      "{'val_loss': 2.467871811331772, 'val_accuracy': 0.4805491990846682, 'precision': 0.33934263298113576, 'recall': 0.4805491990846682, 'f1-score': 0.37238629850366467, 'macro_f1-score': 0.04878293395831582, 'balanced_accuracy': 0.09977497977346278, 'mcc': 0.21264674565112618, 'train_loss': 3.4053156412513563}\n",
      "Epoch 2/20\n"
     ]
    },
    {
     "name": "stderr",
     "output_type": "stream",
     "text": [
      "100%|██████████| 716/716 [01:20<00:00,  8.94it/s]\n"
     ]
    },
    {
     "name": "stdout",
     "output_type": "stream",
     "text": [
      "{'val_loss': 2.353954329723265, 'val_accuracy': 0.4591914569031274, 'precision': 0.4123537394679897, 'recall': 0.4591914569031274, 'f1-score': 0.4152107019062435, 'macro_f1-score': 0.06649896800773702, 'balanced_accuracy': 0.11350092017850662, 'mcc': 0.25444514358938225, 'train_loss': 2.928448239018797}\n",
      "Epoch 3/20\n"
     ]
    },
    {
     "name": "stderr",
     "output_type": "stream",
     "text": [
      "100%|██████████| 716/716 [01:19<00:00,  9.02it/s]\n"
     ]
    },
    {
     "name": "stdout",
     "output_type": "stream",
     "text": [
      "{'val_loss': 2.3281626177997126, 'val_accuracy': 0.4584286803966438, 'precision': 0.391434862659045, 'recall': 0.4584286803966438, 'f1-score': 0.41167451706298364, 'macro_f1-score': 0.06595297379492285, 'balanced_accuracy': 0.12102581696226167, 'mcc': 0.2592077875680888, 'train_loss': 2.7056313343554237}\n",
      "Epoch 4/20\n"
     ]
    },
    {
     "name": "stderr",
     "output_type": "stream",
     "text": [
      "100%|██████████| 716/716 [01:20<00:00,  8.90it/s]\n"
     ]
    },
    {
     "name": "stdout",
     "output_type": "stream",
     "text": [
      "{'val_loss': 2.150664679887818, 'val_accuracy': 0.4584286803966438, 'precision': 0.40569222569025, 'recall': 0.4584286803966438, 'f1-score': 0.410296951742268, 'macro_f1-score': 0.07712294014667419, 'balanced_accuracy': 0.13229972796773135, 'mcc': 0.25013532104055103, 'train_loss': 2.4688626188139677}\n",
      "Epoch 5/20\n"
     ]
    },
    {
     "name": "stderr",
     "output_type": "stream",
     "text": [
      "100%|██████████| 716/716 [01:20<00:00,  8.84it/s]\n"
     ]
    },
    {
     "name": "stdout",
     "output_type": "stream",
     "text": [
      "{'val_loss': 2.2213011732915553, 'val_accuracy': 0.4492753623188406, 'precision': 0.4526088839811937, 'recall': 0.4492753623188406, 'f1-score': 0.41012125419625695, 'macro_f1-score': 0.0888084302697667, 'balanced_accuracy': 0.14164083777748682, 'mcc': 0.2488576305863227, 'train_loss': 2.3362610553229985}\n",
      "Epoch 6/20\n"
     ]
    },
    {
     "name": "stderr",
     "output_type": "stream",
     "text": [
      "100%|██████████| 716/716 [01:21<00:00,  8.83it/s]\n"
     ]
    },
    {
     "name": "stdout",
     "output_type": "stream",
     "text": [
      "{'val_loss': 2.259939862460625, 'val_accuracy': 0.4096109839816934, 'precision': 0.43722079251317075, 'recall': 0.4096109839816934, 'f1-score': 0.38844219453610135, 'macro_f1-score': 0.08722274851048047, 'balanced_accuracy': 0.13828812278504968, 'mcc': 0.21317373231708833, 'train_loss': 2.3067193469188734}\n",
      "Epoch 7/20\n"
     ]
    },
    {
     "name": "stderr",
     "output_type": "stream",
     "text": [
      "100%|██████████| 716/716 [01:20<00:00,  8.85it/s]\n"
     ]
    },
    {
     "name": "stdout",
     "output_type": "stream",
     "text": [
      "{'val_loss': 2.215598952479479, 'val_accuracy': 0.4424103737604882, 'precision': 0.507240734101425, 'recall': 0.4424103737604882, 'f1-score': 0.4287386552216864, 'macro_f1-score': 0.09318521882851778, 'balanced_accuracy': 0.13382085275902367, 'mcc': 0.26623883545544613, 'train_loss': 2.2612850934100552}\n",
      "Epoch 8/20\n"
     ]
    },
    {
     "name": "stderr",
     "output_type": "stream",
     "text": [
      "100%|██████████| 716/716 [01:22<00:00,  8.66it/s]\n"
     ]
    },
    {
     "name": "stdout",
     "output_type": "stream",
     "text": [
      "{'val_loss': 2.2130948494120344, 'val_accuracy': 0.4782608695652174, 'precision': 0.4789415565596502, 'recall': 0.4782608695652174, 'f1-score': 0.4463421176236993, 'macro_f1-score': 0.09861719419533632, 'balanced_accuracy': 0.14763193592839666, 'mcc': 0.29154646788238664, 'train_loss': 2.2103094177206137}\n",
      "Epoch 9/20\n"
     ]
    },
    {
     "name": "stderr",
     "output_type": "stream",
     "text": [
      "100%|██████████| 716/716 [01:20<00:00,  8.87it/s]\n"
     ]
    },
    {
     "name": "stdout",
     "output_type": "stream",
     "text": [
      "{'val_loss': 2.3031967951030268, 'val_accuracy': 0.43859649122807015, 'precision': 0.4371061777422113, 'recall': 0.43859649122807015, 'f1-score': 0.4247645237098259, 'macro_f1-score': 0.10901934037396377, 'balanced_accuracy': 0.14986841249250288, 'mcc': 0.26634510066404116, 'train_loss': 2.490108874423544}\n",
      "Epoch 10/20\n"
     ]
    },
    {
     "name": "stderr",
     "output_type": "stream",
     "text": [
      "100%|██████████| 716/716 [01:20<00:00,  8.85it/s]\n"
     ]
    },
    {
     "name": "stdout",
     "output_type": "stream",
     "text": [
      "{'val_loss': 2.2130617790105864, 'val_accuracy': 0.4584286803966438, 'precision': 0.4941155297186516, 'recall': 0.4584286803966438, 'f1-score': 0.44008216090255775, 'macro_f1-score': 0.12695789503340205, 'balanced_accuracy': 0.2051721386771379, 'mcc': 0.28944584379435095, 'train_loss': 2.1227424800728953}\n",
      "Epoch 11/20\n"
     ]
    },
    {
     "name": "stderr",
     "output_type": "stream",
     "text": [
      "100%|██████████| 716/716 [01:20<00:00,  8.88it/s]\n"
     ]
    },
    {
     "name": "stdout",
     "output_type": "stream",
     "text": [
      "{'val_loss': 2.335086456159266, 'val_accuracy': 0.43173150266971777, 'precision': 0.49522793428275236, 'recall': 0.43173150266971777, 'f1-score': 0.4334742278700614, 'macro_f1-score': 0.11451494368731159, 'balanced_accuracy': 0.1588220940572443, 'mcc': 0.26661326188844314, 'train_loss': 2.0594115954870618}\n",
      "Epoch 12/20\n"
     ]
    },
    {
     "name": "stderr",
     "output_type": "stream",
     "text": [
      "100%|██████████| 716/716 [01:20<00:00,  8.86it/s]\n"
     ]
    },
    {
     "name": "stdout",
     "output_type": "stream",
     "text": [
      "{'val_loss': 2.1444839704327467, 'val_accuracy': 0.47215865751334857, 'precision': 0.4547472652756907, 'recall': 0.47215865751334857, 'f1-score': 0.44710340290551487, 'macro_f1-score': 0.1257162952943461, 'balanced_accuracy': 0.18386536475157703, 'mcc': 0.3070709163283802, 'train_loss': 2.028259518925704}\n",
      "Epoch 13/20\n"
     ]
    },
    {
     "name": "stderr",
     "output_type": "stream",
     "text": [
      "100%|██████████| 716/716 [01:20<00:00,  8.88it/s]\n"
     ]
    },
    {
     "name": "stdout",
     "output_type": "stream",
     "text": [
      "{'val_loss': 2.2261937115250565, 'val_accuracy': 0.4439359267734554, 'precision': 0.47387484616680353, 'recall': 0.4439359267734554, 'f1-score': 0.44690126095181404, 'macro_f1-score': 0.12453890380997314, 'balanced_accuracy': 0.16114114566677162, 'mcc': 0.281025733921422, 'train_loss': 1.8786152379805816}\n",
      "Early stopping.\n",
      "\n",
      "[Fold 3]\n",
      "Label distribution after resampling:\n",
      "  label 0: 2000\n",
      "  label 1: 200\n",
      "  label 2: 200\n",
      "  label 3: 200\n",
      "  label 4: 200\n",
      "  label 5: 200\n",
      "  label 6: 200\n",
      "  label 7: 200\n",
      "  label 8: 200\n",
      "  label 9: 200\n",
      "  label 10: 200\n",
      "  label 11: 200\n",
      "  label 12: 200\n",
      "  label 13: 200\n",
      "  label 14: 200\n",
      "  label 15: 200\n",
      "  label 16: 200\n",
      "  label 17: 200\n",
      "  label 18: 200\n",
      "  label 19: 200\n",
      "  label 20: 200\n",
      "  label 21: 200\n",
      "  label 22: 200\n",
      "  label 23: 200\n",
      "  label 24: 200\n",
      "  label 25: 200\n",
      "  label 26: 200\n",
      "  label 27: 200\n",
      "  label 28: 200\n",
      "  label 29: 200\n",
      "  label 30: 200\n",
      "  label 31: 200\n",
      "  label 32: 200\n",
      "  label 33: 200\n",
      "  label 34: 200\n",
      "  label 35: 200\n",
      "  label 36: 200\n",
      "  label 37: 200\n",
      "  label 38: 200\n",
      "  label 39: 200\n",
      "  label 40: 200\n",
      "  label 41: 200\n",
      "  label 42: 200\n",
      "  label 43: 200\n",
      "  label 44: 200\n",
      "  label 45: 241\n",
      "  label 46: 200\n",
      "  label 47: 200\n",
      "model is microsoft/deberta-base lstm\n",
      "Epoch 1/20\n"
     ]
    },
    {
     "name": "stderr",
     "output_type": "stream",
     "text": [
      "100%|██████████| 716/716 [01:21<00:00,  8.83it/s]\n"
     ]
    },
    {
     "name": "stdout",
     "output_type": "stream",
     "text": [
      "{'val_loss': 2.630058877351807, 'val_accuracy': 0.47215865751334857, 'precision': 0.3418379851699115, 'recall': 0.47215865751334857, 'f1-score': 0.3850134108556232, 'macro_f1-score': 0.03765873593434665, 'balanced_accuracy': 0.06687505876494539, 'mcc': 0.2281234948298991, 'train_loss': 3.4323734551168688}\n",
      "Epoch 2/20\n"
     ]
    },
    {
     "name": "stderr",
     "output_type": "stream",
     "text": [
      "100%|██████████| 716/716 [01:20<00:00,  8.90it/s]\n"
     ]
    },
    {
     "name": "stdout",
     "output_type": "stream",
     "text": [
      "{'val_loss': 2.3562141773177356, 'val_accuracy': 0.4584286803966438, 'precision': 0.3825256571698446, 'recall': 0.4584286803966438, 'f1-score': 0.41064954237626333, 'macro_f1-score': 0.06301558670730405, 'balanced_accuracy': 0.1069314916710667, 'mcc': 0.2555152920860157, 'train_loss': 3.02943807923594}\n",
      "Epoch 3/20\n"
     ]
    },
    {
     "name": "stderr",
     "output_type": "stream",
     "text": [
      "100%|██████████| 716/716 [01:20<00:00,  8.86it/s]\n"
     ]
    },
    {
     "name": "stdout",
     "output_type": "stream",
     "text": [
      "{'val_loss': 2.313882409072504, 'val_accuracy': 0.4645308924485126, 'precision': 0.4328696070408837, 'recall': 0.4645308924485126, 'f1-score': 0.42157740308429004, 'macro_f1-score': 0.06851384507816008, 'balanced_accuracy': 0.11372715849237391, 'mcc': 0.2664680402680398, 'train_loss': 2.7141045280341998}\n",
      "Epoch 4/20\n"
     ]
    },
    {
     "name": "stderr",
     "output_type": "stream",
     "text": [
      "100%|██████████| 716/716 [01:20<00:00,  8.87it/s]\n"
     ]
    },
    {
     "name": "stdout",
     "output_type": "stream",
     "text": [
      "{'val_loss': 2.6885462650438634, 'val_accuracy': 0.4469870327993898, 'precision': 0.31374608880638144, 'recall': 0.4469870327993898, 'f1-score': 0.352047838383887, 'macro_f1-score': 0.04559237864252324, 'balanced_accuracy': 0.07025833922401566, 'mcc': 0.1704072906530042, 'train_loss': 2.755647672288245}\n",
      "Epoch 5/20\n"
     ]
    },
    {
     "name": "stderr",
     "output_type": "stream",
     "text": [
      "100%|██████████| 716/716 [01:20<00:00,  8.88it/s]\n"
     ]
    },
    {
     "name": "stdout",
     "output_type": "stream",
     "text": [
      "{'val_loss': 2.6315547009793723, 'val_accuracy': 0.37986270022883295, 'precision': 0.368741705407535, 'recall': 0.37986270022883295, 'f1-score': 0.3689364512907409, 'macro_f1-score': 0.039757163492602825, 'balanced_accuracy': 0.09363223664659336, 'mcc': 0.19764481164213174, 'train_loss': 2.8648329328891284}\n",
      "Epoch 6/20\n"
     ]
    },
    {
     "name": "stderr",
     "output_type": "stream",
     "text": [
      "100%|██████████| 716/716 [01:20<00:00,  8.90it/s]\n"
     ]
    },
    {
     "name": "stdout",
     "output_type": "stream",
     "text": [
      "{'val_loss': 2.605485770760513, 'val_accuracy': 0.37604881769641496, 'precision': 0.3533833343037126, 'recall': 0.37604881769641496, 'f1-score': 0.36009595404789785, 'macro_f1-score': 0.048676772707031433, 'balanced_accuracy': 0.10553907494708403, 'mcc': 0.18932380195127543, 'train_loss': 2.6143616904093565}\n",
      "Early stopping.\n",
      "\n",
      "[Fold 4]\n",
      "Label distribution after resampling:\n",
      "  label 0: 2000\n",
      "  label 1: 200\n",
      "  label 2: 200\n",
      "  label 3: 200\n",
      "  label 4: 200\n",
      "  label 5: 200\n",
      "  label 6: 200\n",
      "  label 7: 200\n",
      "  label 8: 200\n",
      "  label 9: 200\n",
      "  label 10: 200\n",
      "  label 11: 200\n",
      "  label 12: 200\n",
      "  label 13: 200\n",
      "  label 14: 200\n",
      "  label 15: 200\n",
      "  label 16: 200\n",
      "  label 17: 200\n",
      "  label 18: 200\n",
      "  label 19: 200\n",
      "  label 20: 200\n",
      "  label 21: 200\n",
      "  label 22: 200\n",
      "  label 23: 200\n",
      "  label 24: 200\n",
      "  label 25: 200\n",
      "  label 26: 200\n",
      "  label 27: 200\n",
      "  label 28: 200\n",
      "  label 29: 200\n",
      "  label 30: 200\n",
      "  label 31: 200\n",
      "  label 32: 200\n",
      "  label 33: 200\n",
      "  label 34: 200\n",
      "  label 35: 200\n",
      "  label 36: 200\n",
      "  label 37: 200\n",
      "  label 38: 200\n",
      "  label 39: 200\n",
      "  label 40: 200\n",
      "  label 41: 200\n",
      "  label 42: 200\n",
      "  label 43: 200\n",
      "  label 44: 200\n",
      "  label 45: 241\n",
      "  label 46: 200\n",
      "  label 47: 200\n",
      "model is microsoft/deberta-base lstm\n",
      "Epoch 1/20\n"
     ]
    },
    {
     "name": "stderr",
     "output_type": "stream",
     "text": [
      "100%|██████████| 716/716 [01:20<00:00,  8.90it/s]\n"
     ]
    },
    {
     "name": "stdout",
     "output_type": "stream",
     "text": [
      "{'val_loss': 2.6504857133074506, 'val_accuracy': 0.4492753623188406, 'precision': 0.3790260824966065, 'recall': 0.4492753623188406, 'f1-score': 0.4012632927458651, 'macro_f1-score': 0.05617517643509109, 'balanced_accuracy': 0.07056729713247291, 'mcc': 0.23400582044200227, 'train_loss': 3.4553335961682836}\n",
      "Epoch 2/20\n"
     ]
    },
    {
     "name": "stderr",
     "output_type": "stream",
     "text": [
      "100%|██████████| 716/716 [01:20<00:00,  8.92it/s]\n"
     ]
    },
    {
     "name": "stdout",
     "output_type": "stream",
     "text": [
      "{'val_loss': 2.6705853997207267, 'val_accuracy': 0.4622425629290618, 'precision': 0.25304123760908465, 'recall': 0.4622425629290618, 'f1-score': 0.31747542510052007, 'macro_f1-score': 0.015955865589261996, 'balanced_accuracy': 0.021771447722210305, 'mcc': 0.08720954149701442, 'train_loss': 3.248142044970443}\n",
      "Epoch 3/20\n"
     ]
    },
    {
     "name": "stderr",
     "output_type": "stream",
     "text": [
      "100%|██████████| 716/716 [01:20<00:00,  8.90it/s]\n"
     ]
    },
    {
     "name": "stdout",
     "output_type": "stream",
     "text": [
      "{'val_loss': 2.594720945125673, 'val_accuracy': 0.4767353165522502, 'precision': 0.31013067941626726, 'recall': 0.4767353165522502, 'f1-score': 0.3661140319681342, 'macro_f1-score': 0.029193889237300357, 'balanced_accuracy': 0.040529670009019046, 'mcc': 0.19625202189290866, 'train_loss': 3.190936048437097}\n",
      "Epoch 4/20\n"
     ]
    },
    {
     "name": "stderr",
     "output_type": "stream",
     "text": [
      "100%|██████████| 716/716 [01:20<00:00,  8.92it/s]\n"
     ]
    },
    {
     "name": "stdout",
     "output_type": "stream",
     "text": [
      "{'val_loss': 2.5451160800166246, 'val_accuracy': 0.4607170099160946, 'precision': 0.3046689180484115, 'recall': 0.4607170099160946, 'f1-score': 0.36142843960506926, 'macro_f1-score': 0.028011462441010188, 'balanced_accuracy': 0.04622247706711737, 'mcc': 0.1812817795268795, 'train_loss': 3.1627961856692863}\n",
      "Early stopping.\n",
      "\n",
      "[Fold 5]\n",
      "Label distribution after resampling:\n",
      "  label 0: 2000\n",
      "  label 1: 200\n",
      "  label 2: 200\n",
      "  label 3: 200\n",
      "  label 4: 200\n",
      "  label 5: 200\n",
      "  label 6: 200\n",
      "  label 7: 200\n",
      "  label 8: 200\n",
      "  label 9: 200\n",
      "  label 10: 200\n",
      "  label 11: 200\n",
      "  label 12: 200\n",
      "  label 13: 200\n",
      "  label 14: 200\n",
      "  label 15: 200\n",
      "  label 16: 200\n",
      "  label 17: 200\n",
      "  label 18: 200\n",
      "  label 19: 200\n",
      "  label 20: 200\n",
      "  label 21: 200\n",
      "  label 22: 200\n",
      "  label 23: 200\n",
      "  label 24: 200\n",
      "  label 25: 200\n",
      "  label 26: 200\n",
      "  label 27: 200\n",
      "  label 28: 200\n",
      "  label 29: 200\n",
      "  label 30: 200\n",
      "  label 31: 200\n",
      "  label 32: 200\n",
      "  label 33: 200\n",
      "  label 34: 200\n",
      "  label 35: 200\n",
      "  label 36: 200\n",
      "  label 37: 200\n",
      "  label 38: 200\n",
      "  label 39: 200\n",
      "  label 40: 200\n",
      "  label 41: 200\n",
      "  label 42: 200\n",
      "  label 43: 200\n",
      "  label 44: 200\n",
      "  label 45: 242\n",
      "  label 46: 200\n",
      "  label 47: 200\n",
      "model is microsoft/deberta-base lstm\n",
      "Epoch 1/20\n"
     ]
    },
    {
     "name": "stderr",
     "output_type": "stream",
     "text": [
      "100%|██████████| 716/716 [01:20<00:00,  8.93it/s]\n"
     ]
    },
    {
     "name": "stdout",
     "output_type": "stream",
     "text": [
      "{'val_loss': 2.529006857697557, 'val_accuracy': 0.4698703279938978, 'precision': 0.3071947526186419, 'recall': 0.4698703279938978, 'f1-score': 0.35816403127785396, 'macro_f1-score': 0.033653764706613375, 'balanced_accuracy': 0.05711429043074099, 'mcc': 0.17631070656258283, 'train_loss': 3.3997467816208995}\n",
      "Epoch 2/20\n"
     ]
    },
    {
     "name": "stderr",
     "output_type": "stream",
     "text": [
      "100%|██████████| 716/716 [01:19<00:00,  8.98it/s]\n"
     ]
    },
    {
     "name": "stdout",
     "output_type": "stream",
     "text": [
      "{'val_loss': 2.358535891625939, 'val_accuracy': 0.4851258581235698, 'precision': 0.2964905106609685, 'recall': 0.4851258581235698, 'f1-score': 0.3538507581262636, 'macro_f1-score': 0.0378816970757365, 'balanced_accuracy': 0.060963507499163905, 'mcc': 0.17757199260446221, 'train_loss': 3.0671969933549783}\n",
      "Epoch 3/20\n"
     ]
    },
    {
     "name": "stderr",
     "output_type": "stream",
     "text": [
      "100%|██████████| 716/716 [01:19<00:00,  8.97it/s]\n"
     ]
    },
    {
     "name": "stdout",
     "output_type": "stream",
     "text": [
      "{'val_loss': 2.303893525425981, 'val_accuracy': 0.4233409610983982, 'precision': 0.3614037526909835, 'recall': 0.4233409610983982, 'f1-score': 0.3791564132620809, 'macro_f1-score': 0.060501746372497535, 'balanced_accuracy': 0.10676167868531594, 'mcc': 0.21551007226390334, 'train_loss': 2.7764780218374794}\n",
      "Epoch 4/20\n"
     ]
    },
    {
     "name": "stderr",
     "output_type": "stream",
     "text": [
      "100%|██████████| 716/716 [01:20<00:00,  8.88it/s]\n"
     ]
    },
    {
     "name": "stdout",
     "output_type": "stream",
     "text": [
      "{'val_loss': 2.277465613876901, 'val_accuracy': 0.38443935926773454, 'precision': 0.41474667653964004, 'recall': 0.38443935926773454, 'f1-score': 0.388377035585419, 'macro_f1-score': 0.07612650900877767, 'balanced_accuracy': 0.16545060078285362, 'mcc': 0.22876529663162945, 'train_loss': 2.6199620236231627}\n",
      "Epoch 5/20\n"
     ]
    },
    {
     "name": "stderr",
     "output_type": "stream",
     "text": [
      "100%|██████████| 716/716 [01:20<00:00,  8.91it/s]\n"
     ]
    },
    {
     "name": "stdout",
     "output_type": "stream",
     "text": [
      "{'val_loss': 2.1240848797123606, 'val_accuracy': 0.4439359267734554, 'precision': 0.41221992008635433, 'recall': 0.4439359267734554, 'f1-score': 0.41863867804165256, 'macro_f1-score': 0.08345400277061159, 'balanced_accuracy': 0.13945076400762854, 'mcc': 0.25921895395469596, 'train_loss': 2.4923854054019436}\n",
      "Epoch 6/20\n"
     ]
    },
    {
     "name": "stderr",
     "output_type": "stream",
     "text": [
      "100%|██████████| 716/716 [01:21<00:00,  8.84it/s]\n"
     ]
    },
    {
     "name": "stdout",
     "output_type": "stream",
     "text": [
      "{'val_loss': 2.3198000585160603, 'val_accuracy': 0.4057971014492754, 'precision': 0.47076063323660833, 'recall': 0.4057971014492754, 'f1-score': 0.4008459485783684, 'macro_f1-score': 0.07089680698204699, 'balanced_accuracy': 0.14859260021596468, 'mcc': 0.2511936563802798, 'train_loss': 2.4452187711966102}\n",
      "Epoch 7/20\n"
     ]
    },
    {
     "name": "stderr",
     "output_type": "stream",
     "text": [
      "100%|██████████| 716/716 [01:20<00:00,  8.87it/s]\n"
     ]
    },
    {
     "name": "stdout",
     "output_type": "stream",
     "text": [
      "{'val_loss': 2.9159718054096873, 'val_accuracy': 0.4820747520976354, 'precision': 0.2913679137973898, 'recall': 0.4820747520976354, 'f1-score': 0.3477079802501434, 'macro_f1-score': 0.03952806953010012, 'balanced_accuracy': 0.06205895783488976, 'mcc': 0.15933936977761293, 'train_loss': 2.49564275645011}\n",
      "Epoch 8/20\n"
     ]
    },
    {
     "name": "stderr",
     "output_type": "stream",
     "text": [
      "100%|██████████| 716/716 [01:20<00:00,  8.87it/s]\n"
     ]
    },
    {
     "name": "stdout",
     "output_type": "stream",
     "text": [
      "{'val_loss': 2.339078836324738, 'val_accuracy': 0.39511823035850496, 'precision': 0.388806511416737, 'recall': 0.39511823035850496, 'f1-score': 0.3860526508282999, 'macro_f1-score': 0.06812331348990323, 'balanced_accuracy': 0.11809793018230401, 'mcc': 0.2178298749789285, 'train_loss': 2.566608743627644}\n",
      "Early stopping.\n",
      "\n",
      " === microsoft/deberta-base + lstm + ros Final 5-fold Cross-Validation Results ===\n",
      "val_loss: 2.3994\n",
      "val_accuracy: 0.4536\n",
      "precision: 0.4018\n",
      "recall: 0.4536\n",
      "f1-score: 0.4057\n",
      "macro_f1-score: 0.0738\n",
      "balanced_accuracy: 0.1179\n",
      "mcc: 0.2426\n",
      "train_loss: 2.8473\n",
      "total_seconds: 2966.0000\n",
      "total_time: 0 hrs 49 mins 26 secs\n",
      "▶ Running: microsoft/deberta-base + bilstm + ros\n",
      "tokenizer is microsoft/deberta-base\n",
      "Using device: cuda\n",
      "CUDA Available: True\n",
      "CUDA Device: NVIDIA GeForce RTX 5070 Ti\n",
      "Current GPU Memory Allocated: 0.02 GB\n",
      "Current GPU Memory Cached: 5.45 GB\n",
      "\n",
      "[Fold 1]\n",
      "Label distribution after resampling:\n",
      "  label 0: 2000\n",
      "  label 1: 200\n",
      "  label 2: 200\n",
      "  label 3: 200\n",
      "  label 4: 200\n",
      "  label 5: 200\n",
      "  label 6: 200\n",
      "  label 7: 200\n",
      "  label 8: 200\n",
      "  label 9: 200\n",
      "  label 10: 200\n",
      "  label 11: 200\n",
      "  label 12: 200\n",
      "  label 13: 200\n",
      "  label 14: 200\n",
      "  label 15: 200\n",
      "  label 16: 200\n",
      "  label 17: 200\n",
      "  label 18: 200\n",
      "  label 19: 200\n",
      "  label 20: 200\n",
      "  label 21: 200\n",
      "  label 22: 200\n",
      "  label 23: 200\n",
      "  label 24: 200\n",
      "  label 25: 200\n",
      "  label 26: 200\n",
      "  label 27: 200\n",
      "  label 28: 200\n",
      "  label 29: 200\n",
      "  label 30: 200\n",
      "  label 31: 200\n",
      "  label 32: 200\n",
      "  label 33: 200\n",
      "  label 34: 200\n",
      "  label 35: 200\n",
      "  label 36: 200\n",
      "  label 37: 200\n",
      "  label 38: 200\n",
      "  label 39: 200\n",
      "  label 40: 200\n",
      "  label 41: 200\n",
      "  label 42: 200\n",
      "  label 43: 200\n",
      "  label 44: 200\n",
      "  label 45: 242\n",
      "  label 46: 200\n",
      "  label 47: 200\n",
      "model is microsoft/deberta-base bilstm\n",
      "Epoch 1/20\n"
     ]
    },
    {
     "name": "stderr",
     "output_type": "stream",
     "text": [
      "100%|██████████| 716/716 [01:25<00:00,  8.37it/s]\n"
     ]
    },
    {
     "name": "stdout",
     "output_type": "stream",
     "text": [
      "{'val_loss': 2.911396160358336, 'val_accuracy': 0.47103658536585363, 'precision': 0.22187546475312311, 'recall': 0.47103658536585363, 'f1-score': 0.3016586629596866, 'macro_f1-score': 0.013341968911917098, 'balanced_accuracy': 0.020833333333333332, 'mcc': 0.0, 'train_loss': 3.6449927804190354}\n",
      "Epoch 2/20\n"
     ]
    },
    {
     "name": "stderr",
     "output_type": "stream",
     "text": [
      "100%|██████████| 716/716 [01:25<00:00,  8.38it/s]\n"
     ]
    },
    {
     "name": "stdout",
     "output_type": "stream",
     "text": [
      "{'val_loss': 2.9347961501377386, 'val_accuracy': 0.47103658536585363, 'precision': 0.22187546475312311, 'recall': 0.47103658536585363, 'f1-score': 0.3016586629596866, 'macro_f1-score': 0.013341968911917098, 'balanced_accuracy': 0.020833333333333332, 'mcc': 0.0, 'train_loss': 3.6511858631778695}\n",
      "Epoch 3/20\n"
     ]
    },
    {
     "name": "stderr",
     "output_type": "stream",
     "text": [
      "100%|██████████| 716/716 [01:25<00:00,  8.40it/s]\n"
     ]
    },
    {
     "name": "stdout",
     "output_type": "stream",
     "text": [
      "{'val_loss': 2.940773283563009, 'val_accuracy': 0.47103658536585363, 'precision': 0.22187546475312311, 'recall': 0.47103658536585363, 'f1-score': 0.3016586629596866, 'macro_f1-score': 0.013341968911917098, 'balanced_accuracy': 0.020833333333333332, 'mcc': 0.0, 'train_loss': 3.650090749037332}\n",
      "Epoch 4/20\n"
     ]
    },
    {
     "name": "stderr",
     "output_type": "stream",
     "text": [
      "100%|██████████| 716/716 [01:25<00:00,  8.36it/s]\n"
     ]
    },
    {
     "name": "stdout",
     "output_type": "stream",
     "text": [
      "{'val_loss': 2.9717025233478083, 'val_accuracy': 0.47103658536585363, 'precision': 0.22187546475312311, 'recall': 0.47103658536585363, 'f1-score': 0.3016586629596866, 'macro_f1-score': 0.013341968911917098, 'balanced_accuracy': 0.020833333333333332, 'mcc': 0.0, 'train_loss': 3.6478755693861893}\n",
      "Early stopping.\n",
      "\n",
      "[Fold 2]\n",
      "Label distribution after resampling:\n",
      "  label 0: 2000\n",
      "  label 1: 200\n",
      "  label 2: 200\n",
      "  label 3: 200\n",
      "  label 4: 200\n",
      "  label 5: 200\n",
      "  label 6: 200\n",
      "  label 7: 200\n",
      "  label 8: 200\n",
      "  label 9: 200\n",
      "  label 10: 200\n",
      "  label 11: 200\n",
      "  label 12: 200\n",
      "  label 13: 200\n",
      "  label 14: 200\n",
      "  label 15: 200\n",
      "  label 16: 200\n",
      "  label 17: 200\n",
      "  label 18: 200\n",
      "  label 19: 200\n",
      "  label 20: 200\n",
      "  label 21: 200\n",
      "  label 22: 200\n",
      "  label 23: 200\n",
      "  label 24: 200\n",
      "  label 25: 200\n",
      "  label 26: 200\n",
      "  label 27: 200\n",
      "  label 28: 200\n",
      "  label 29: 200\n",
      "  label 30: 200\n",
      "  label 31: 200\n",
      "  label 32: 200\n",
      "  label 33: 200\n",
      "  label 34: 200\n",
      "  label 35: 200\n",
      "  label 36: 200\n",
      "  label 37: 200\n",
      "  label 38: 200\n",
      "  label 39: 200\n",
      "  label 40: 200\n",
      "  label 41: 200\n",
      "  label 42: 200\n",
      "  label 43: 200\n",
      "  label 44: 200\n",
      "  label 45: 242\n",
      "  label 46: 200\n",
      "  label 47: 200\n",
      "model is microsoft/deberta-base bilstm\n",
      "Epoch 1/20\n"
     ]
    },
    {
     "name": "stderr",
     "output_type": "stream",
     "text": [
      "100%|██████████| 716/716 [01:25<00:00,  8.41it/s]\n"
     ]
    },
    {
     "name": "stdout",
     "output_type": "stream",
     "text": [
      "{'val_loss': 2.576903058261406, 'val_accuracy': 0.40122044241037375, 'precision': 0.38748186209893587, 'recall': 0.40122044241037375, 'f1-score': 0.39224255589494045, 'macro_f1-score': 0.052124962088192284, 'balanced_accuracy': 0.07712465535320644, 'mcc': 0.22562123241110008, 'train_loss': 3.244483338054998}\n",
      "Epoch 2/20\n"
     ]
    },
    {
     "name": "stderr",
     "output_type": "stream",
     "text": [
      "100%|██████████| 716/716 [01:25<00:00,  8.38it/s]\n"
     ]
    },
    {
     "name": "stdout",
     "output_type": "stream",
     "text": [
      "{'val_loss': 2.233188882106688, 'val_accuracy': 0.4691075514874142, 'precision': 0.3904256558842642, 'recall': 0.4691075514874142, 'f1-score': 0.42068140702129414, 'macro_f1-score': 0.07883595518538015, 'balanced_accuracy': 0.12475311096553966, 'mcc': 0.2673100195651126, 'train_loss': 2.683581000766275}\n",
      "Epoch 3/20\n"
     ]
    },
    {
     "name": "stderr",
     "output_type": "stream",
     "text": [
      "100%|██████████| 716/716 [01:25<00:00,  8.41it/s]\n"
     ]
    },
    {
     "name": "stdout",
     "output_type": "stream",
     "text": [
      "{'val_loss': 2.0676417481608507, 'val_accuracy': 0.4782608695652174, 'precision': 0.455221217987858, 'recall': 0.4782608695652174, 'f1-score': 0.4478270103497022, 'macro_f1-score': 0.13417140204208755, 'balanced_accuracy': 0.18747876613090442, 'mcc': 0.2936445924051622, 'train_loss': 2.276960771843042}\n",
      "Epoch 4/20\n"
     ]
    },
    {
     "name": "stderr",
     "output_type": "stream",
     "text": [
      "100%|██████████| 716/716 [01:25<00:00,  8.39it/s]\n"
     ]
    },
    {
     "name": "stdout",
     "output_type": "stream",
     "text": [
      "{'val_loss': 1.9592689021331509, 'val_accuracy': 0.4782608695652174, 'precision': 0.4828612155078967, 'recall': 0.4782608695652174, 'f1-score': 0.4486536130906354, 'macro_f1-score': 0.1433612817210632, 'balanced_accuracy': 0.22667962195173255, 'mcc': 0.3030071551923843, 'train_loss': 1.944342025498438}\n",
      "Epoch 5/20\n"
     ]
    },
    {
     "name": "stderr",
     "output_type": "stream",
     "text": [
      "100%|██████████| 716/716 [01:24<00:00,  8.44it/s]\n"
     ]
    },
    {
     "name": "stdout",
     "output_type": "stream",
     "text": [
      "{'val_loss': 1.9329216065930157, 'val_accuracy': 0.47292143401983217, 'precision': 0.5368010811606571, 'recall': 0.47292143401983217, 'f1-score': 0.4795033187864401, 'macro_f1-score': 0.18934251157966453, 'balanced_accuracy': 0.2527797331802768, 'mcc': 0.32489941919255144, 'train_loss': 1.6493196677853608}\n",
      "Epoch 6/20\n"
     ]
    },
    {
     "name": "stderr",
     "output_type": "stream",
     "text": [
      "100%|██████████| 716/716 [01:25<00:00,  8.42it/s]\n"
     ]
    },
    {
     "name": "stdout",
     "output_type": "stream",
     "text": [
      "{'val_loss': 1.8959103357501146, 'val_accuracy': 0.4843630816170862, 'precision': 0.5467576512796319, 'recall': 0.4843630816170862, 'f1-score': 0.490561258858499, 'macro_f1-score': 0.20324800908133314, 'balanced_accuracy': 0.263343164343894, 'mcc': 0.34703783616383566, 'train_loss': 1.4698897190600133}\n",
      "Epoch 7/20\n"
     ]
    },
    {
     "name": "stderr",
     "output_type": "stream",
     "text": [
      "100%|██████████| 716/716 [01:25<00:00,  8.40it/s]\n"
     ]
    },
    {
     "name": "stdout",
     "output_type": "stream",
     "text": [
      "{'val_loss': 1.835898145669844, 'val_accuracy': 0.5118230358504958, 'precision': 0.5456938808725649, 'recall': 0.5118230358504958, 'f1-score': 0.5164205276568065, 'macro_f1-score': 0.21394613049696934, 'balanced_accuracy': 0.2446035052461386, 'mcc': 0.3699268024200841, 'train_loss': 1.2775622832396343}\n",
      "Epoch 8/20\n"
     ]
    },
    {
     "name": "stderr",
     "output_type": "stream",
     "text": [
      "100%|██████████| 716/716 [01:25<00:00,  8.39it/s]\n"
     ]
    },
    {
     "name": "stdout",
     "output_type": "stream",
     "text": [
      "{'val_loss': 1.9188032659088694, 'val_accuracy': 0.494279176201373, 'precision': 0.5650952111016441, 'recall': 0.494279176201373, 'f1-score': 0.510459612136296, 'macro_f1-score': 0.2410117740171406, 'balanced_accuracy': 0.26721231616062774, 'mcc': 0.359509634982455, 'train_loss': 1.0740081704112405}\n",
      "Epoch 9/20\n"
     ]
    },
    {
     "name": "stderr",
     "output_type": "stream",
     "text": [
      "100%|██████████| 716/716 [01:25<00:00,  8.38it/s]\n"
     ]
    },
    {
     "name": "stdout",
     "output_type": "stream",
     "text": [
      "{'val_loss': 1.9529122659345952, 'val_accuracy': 0.5217391304347826, 'precision': 0.5707665298134776, 'recall': 0.5217391304347826, 'f1-score': 0.528733102794856, 'macro_f1-score': 0.23265023851470815, 'balanced_accuracy': 0.25846334486341155, 'mcc': 0.38247528079525167, 'train_loss': 1.0425130184219535}\n",
      "Epoch 10/20\n"
     ]
    },
    {
     "name": "stderr",
     "output_type": "stream",
     "text": [
      "100%|██████████| 716/716 [01:25<00:00,  8.38it/s]\n"
     ]
    },
    {
     "name": "stdout",
     "output_type": "stream",
     "text": [
      "{'val_loss': 1.9910728153659076, 'val_accuracy': 0.5080091533180778, 'precision': 0.5648774438869981, 'recall': 0.5080091533180778, 'f1-score': 0.5230898143489008, 'macro_f1-score': 0.23417487210943302, 'balanced_accuracy': 0.2662405490565807, 'mcc': 0.374962507453744, 'train_loss': 0.8947309758410108}\n",
      "Epoch 11/20\n"
     ]
    },
    {
     "name": "stderr",
     "output_type": "stream",
     "text": [
      "100%|██████████| 716/716 [01:25<00:00,  8.38it/s]\n"
     ]
    },
    {
     "name": "stdout",
     "output_type": "stream",
     "text": [
      "{'val_loss': 2.0106220049102133, 'val_accuracy': 0.5339435545385202, 'precision': 0.5968490583233255, 'recall': 0.5339435545385202, 'f1-score': 0.549025727674263, 'macro_f1-score': 0.30187944012168405, 'balanced_accuracy': 0.3355044139075894, 'mcc': 0.4121978903187933, 'train_loss': 0.6903905634711075}\n",
      "Epoch 12/20\n"
     ]
    },
    {
     "name": "stderr",
     "output_type": "stream",
     "text": [
      "100%|██████████| 716/716 [01:23<00:00,  8.54it/s]\n"
     ]
    },
    {
     "name": "stdout",
     "output_type": "stream",
     "text": [
      "{'val_loss': 2.1062454810229743, 'val_accuracy': 0.5263157894736842, 'precision': 0.6009633953803906, 'recall': 0.5263157894736842, 'f1-score': 0.5436375551124966, 'macro_f1-score': 0.2928411781063329, 'balanced_accuracy': 0.3180214714494652, 'mcc': 0.40207642406727506, 'train_loss': 0.5794176280852303}\n",
      "Epoch 13/20\n"
     ]
    },
    {
     "name": "stderr",
     "output_type": "stream",
     "text": [
      "100%|██████████| 716/716 [01:24<00:00,  8.44it/s]\n"
     ]
    },
    {
     "name": "stdout",
     "output_type": "stream",
     "text": [
      "{'val_loss': 2.00551142997858, 'val_accuracy': 0.5530129672006102, 'precision': 0.5700204247075542, 'recall': 0.5530129672006102, 'f1-score': 0.5521884188928476, 'macro_f1-score': 0.2915392794792664, 'balanced_accuracy': 0.30947378552802235, 'mcc': 0.4182463814099761, 'train_loss': 0.5579476491470077}\n",
      "Epoch 14/20\n"
     ]
    },
    {
     "name": "stderr",
     "output_type": "stream",
     "text": [
      "100%|██████████| 716/716 [01:25<00:00,  8.38it/s]\n"
     ]
    },
    {
     "name": "stdout",
     "output_type": "stream",
     "text": [
      "{'val_loss': 2.132701772378712, 'val_accuracy': 0.5385202135774219, 'precision': 0.5229798595186761, 'recall': 0.5385202135774219, 'f1-score': 0.5166247142076196, 'macro_f1-score': 0.22879651240874424, 'balanced_accuracy': 0.2551586790477302, 'mcc': 0.37413581232240833, 'train_loss': 0.5903078544281382}\n",
      "Early stopping.\n",
      "\n",
      "[Fold 3]\n",
      "Label distribution after resampling:\n",
      "  label 0: 2000\n",
      "  label 1: 200\n",
      "  label 2: 200\n",
      "  label 3: 200\n",
      "  label 4: 200\n",
      "  label 5: 200\n",
      "  label 6: 200\n",
      "  label 7: 200\n",
      "  label 8: 200\n",
      "  label 9: 200\n",
      "  label 10: 200\n",
      "  label 11: 200\n",
      "  label 12: 200\n",
      "  label 13: 200\n",
      "  label 14: 200\n",
      "  label 15: 200\n",
      "  label 16: 200\n",
      "  label 17: 200\n",
      "  label 18: 200\n",
      "  label 19: 200\n",
      "  label 20: 200\n",
      "  label 21: 200\n",
      "  label 22: 200\n",
      "  label 23: 200\n",
      "  label 24: 200\n",
      "  label 25: 200\n",
      "  label 26: 200\n",
      "  label 27: 200\n",
      "  label 28: 200\n",
      "  label 29: 200\n",
      "  label 30: 200\n",
      "  label 31: 200\n",
      "  label 32: 200\n",
      "  label 33: 200\n",
      "  label 34: 200\n",
      "  label 35: 200\n",
      "  label 36: 200\n",
      "  label 37: 200\n",
      "  label 38: 200\n",
      "  label 39: 200\n",
      "  label 40: 200\n",
      "  label 41: 200\n",
      "  label 42: 200\n",
      "  label 43: 200\n",
      "  label 44: 200\n",
      "  label 45: 241\n",
      "  label 46: 200\n",
      "  label 47: 200\n",
      "model is microsoft/deberta-base bilstm\n",
      "Epoch 1/20\n"
     ]
    },
    {
     "name": "stderr",
     "output_type": "stream",
     "text": [
      "100%|██████████| 716/716 [01:25<00:00,  8.39it/s]\n"
     ]
    },
    {
     "name": "stdout",
     "output_type": "stream",
     "text": [
      "{'val_loss': 2.724833398330502, 'val_accuracy': 0.38596491228070173, 'precision': 0.4231576775561243, 'recall': 0.3859649122807018, 'f1-score': 0.39415458358495997, 'macro_f1-score': 0.04628892404054213, 'balanced_accuracy': 0.0974613639044709, 'mcc': 0.22326923099634544, 'train_loss': 3.3079157604851535}\n",
      "Epoch 2/20\n"
     ]
    },
    {
     "name": "stderr",
     "output_type": "stream",
     "text": [
      "100%|██████████| 716/716 [01:25<00:00,  8.33it/s]\n"
     ]
    },
    {
     "name": "stdout",
     "output_type": "stream",
     "text": [
      "{'val_loss': 2.1016255188279036, 'val_accuracy': 0.4820747520976354, 'precision': 0.4301332109147739, 'recall': 0.4820747520976354, 'f1-score': 0.4289776819557422, 'macro_f1-score': 0.08151047906074317, 'balanced_accuracy': 0.14078656850219531, 'mcc': 0.2741618002587409, 'train_loss': 2.601318720332737}\n",
      "Epoch 3/20\n"
     ]
    },
    {
     "name": "stderr",
     "output_type": "stream",
     "text": [
      "100%|██████████| 716/716 [01:25<00:00,  8.35it/s]\n"
     ]
    },
    {
     "name": "stdout",
     "output_type": "stream",
     "text": [
      "{'val_loss': 2.042178221592089, 'val_accuracy': 0.4477498093058734, 'precision': 0.4573328325975072, 'recall': 0.4477498093058734, 'f1-score': 0.427171339398344, 'macro_f1-score': 0.13518706103857925, 'balanced_accuracy': 0.19653141048404285, 'mcc': 0.2670565441242625, 'train_loss': 2.1771647290810527}\n",
      "Epoch 4/20\n"
     ]
    },
    {
     "name": "stderr",
     "output_type": "stream",
     "text": [
      "100%|██████████| 716/716 [01:25<00:00,  8.33it/s]\n"
     ]
    },
    {
     "name": "stdout",
     "output_type": "stream",
     "text": [
      "{'val_loss': 1.9089580134647648, 'val_accuracy': 0.49046529366895497, 'precision': 0.5464938740841336, 'recall': 0.49046529366895497, 'f1-score': 0.48428549507259905, 'macro_f1-score': 0.22633426481782393, 'balanced_accuracy': 0.2598557367989215, 'mcc': 0.3334224147268695, 'train_loss': 1.7176474724901456}\n",
      "Epoch 5/20\n"
     ]
    },
    {
     "name": "stderr",
     "output_type": "stream",
     "text": [
      "100%|██████████| 716/716 [01:25<00:00,  8.42it/s]\n"
     ]
    },
    {
     "name": "stdout",
     "output_type": "stream",
     "text": [
      "{'val_loss': 1.8384566379756462, 'val_accuracy': 0.4897025171624714, 'precision': 0.5384470466000718, 'recall': 0.4897025171624714, 'f1-score': 0.5031817360531863, 'macro_f1-score': 0.23026332597669638, 'balanced_accuracy': 0.2677932602573455, 'mcc': 0.35260400167920325, 'train_loss': 1.3691862613878436}\n",
      "Epoch 6/20\n"
     ]
    },
    {
     "name": "stderr",
     "output_type": "stream",
     "text": [
      "100%|██████████| 716/716 [01:25<00:00,  8.34it/s]\n"
     ]
    },
    {
     "name": "stdout",
     "output_type": "stream",
     "text": [
      "{'val_loss': 1.9244918278077754, 'val_accuracy': 0.5118230358504958, 'precision': 0.5498956570666835, 'recall': 0.5118230358504958, 'f1-score': 0.51997592721396, 'macro_f1-score': 0.28349240858616737, 'balanced_accuracy': 0.3081474466262027, 'mcc': 0.37304096902511164, 'train_loss': 1.0571579190605846}\n",
      "Epoch 7/20\n"
     ]
    },
    {
     "name": "stderr",
     "output_type": "stream",
     "text": [
      "100%|██████████| 716/716 [01:26<00:00,  8.23it/s]\n"
     ]
    },
    {
     "name": "stdout",
     "output_type": "stream",
     "text": [
      "{'val_loss': 1.9061364113557628, 'val_accuracy': 0.5362318840579711, 'precision': 0.572613038501654, 'recall': 0.5362318840579711, 'f1-score': 0.5458509241303486, 'macro_f1-score': 0.3134512031197712, 'balanced_accuracy': 0.3270846015148229, 'mcc': 0.4007471074609647, 'train_loss': 0.85783785746001}\n",
      "Epoch 8/20\n"
     ]
    },
    {
     "name": "stderr",
     "output_type": "stream",
     "text": [
      "100%|██████████| 716/716 [01:25<00:00,  8.35it/s]\n"
     ]
    },
    {
     "name": "stdout",
     "output_type": "stream",
     "text": [
      "{'val_loss': 1.9659552984848254, 'val_accuracy': 0.5636918382913806, 'precision': 0.5775801601021534, 'recall': 0.5636918382913806, 'f1-score': 0.5570444617353605, 'macro_f1-score': 0.3093656447135426, 'balanced_accuracy': 0.3131481181676771, 'mcc': 0.4181986217594467, 'train_loss': 0.7010905031822414}\n",
      "Epoch 9/20\n"
     ]
    },
    {
     "name": "stderr",
     "output_type": "stream",
     "text": [
      "100%|██████████| 716/716 [01:25<00:00,  8.35it/s]\n"
     ]
    },
    {
     "name": "stdout",
     "output_type": "stream",
     "text": [
      "{'val_loss': 2.123960923312641, 'val_accuracy': 0.543859649122807, 'precision': 0.5744998088606759, 'recall': 0.543859649122807, 'f1-score': 0.5473729705851615, 'macro_f1-score': 0.31235891899725265, 'balanced_accuracy': 0.3175202647720153, 'mcc': 0.41284107469388315, 'train_loss': 0.5354709517946935}\n",
      "Epoch 10/20\n"
     ]
    },
    {
     "name": "stderr",
     "output_type": "stream",
     "text": [
      "100%|██████████| 716/716 [01:25<00:00,  8.35it/s]\n"
     ]
    },
    {
     "name": "stdout",
     "output_type": "stream",
     "text": [
      "{'val_loss': 2.0396288331688903, 'val_accuracy': 0.5354691075514875, 'precision': 0.5571814547935522, 'recall': 0.5354691075514875, 'f1-score': 0.5384291513953701, 'macro_f1-score': 0.26696945414093604, 'balanced_accuracy': 0.2618585339033641, 'mcc': 0.39327380535995055, 'train_loss': 0.4512125687184613}\n",
      "Early stopping.\n",
      "\n",
      "[Fold 4]\n",
      "Label distribution after resampling:\n",
      "  label 0: 2000\n",
      "  label 1: 200\n",
      "  label 2: 200\n",
      "  label 3: 200\n",
      "  label 4: 200\n",
      "  label 5: 200\n",
      "  label 6: 200\n",
      "  label 7: 200\n",
      "  label 8: 200\n",
      "  label 9: 200\n",
      "  label 10: 200\n",
      "  label 11: 200\n",
      "  label 12: 200\n",
      "  label 13: 200\n",
      "  label 14: 200\n",
      "  label 15: 200\n",
      "  label 16: 200\n",
      "  label 17: 200\n",
      "  label 18: 200\n",
      "  label 19: 200\n",
      "  label 20: 200\n",
      "  label 21: 200\n",
      "  label 22: 200\n",
      "  label 23: 200\n",
      "  label 24: 200\n",
      "  label 25: 200\n",
      "  label 26: 200\n",
      "  label 27: 200\n",
      "  label 28: 200\n",
      "  label 29: 200\n",
      "  label 30: 200\n",
      "  label 31: 200\n",
      "  label 32: 200\n",
      "  label 33: 200\n",
      "  label 34: 200\n",
      "  label 35: 200\n",
      "  label 36: 200\n",
      "  label 37: 200\n",
      "  label 38: 200\n",
      "  label 39: 200\n",
      "  label 40: 200\n",
      "  label 41: 200\n",
      "  label 42: 200\n",
      "  label 43: 200\n",
      "  label 44: 200\n",
      "  label 45: 241\n",
      "  label 46: 200\n",
      "  label 47: 200\n",
      "model is microsoft/deberta-base bilstm\n",
      "Epoch 1/20\n"
     ]
    },
    {
     "name": "stderr",
     "output_type": "stream",
     "text": [
      "100%|██████████| 716/716 [01:25<00:00,  8.36it/s]\n"
     ]
    },
    {
     "name": "stdout",
     "output_type": "stream",
     "text": [
      "{'val_loss': 2.4551956435529196, 'val_accuracy': 0.4607170099160946, 'precision': 0.3711481836040757, 'recall': 0.4607170099160946, 'f1-score': 0.40136616687340854, 'macro_f1-score': 0.05151693646858623, 'balanced_accuracy': 0.0855158992242633, 'mcc': 0.2410824942956698, 'train_loss': 3.328354488870951}\n",
      "Epoch 2/20\n"
     ]
    },
    {
     "name": "stderr",
     "output_type": "stream",
     "text": [
      "100%|██████████| 716/716 [01:25<00:00,  8.37it/s]\n"
     ]
    },
    {
     "name": "stdout",
     "output_type": "stream",
     "text": [
      "{'val_loss': 2.196808940026818, 'val_accuracy': 0.45385202135774216, 'precision': 0.44728171037573095, 'recall': 0.45385202135774216, 'f1-score': 0.4104106520471428, 'macro_f1-score': 0.08332348942475003, 'balanced_accuracy': 0.14605505089040635, 'mcc': 0.25007278779296793, 'train_loss': 2.695812669213258}\n",
      "Epoch 3/20\n"
     ]
    },
    {
     "name": "stderr",
     "output_type": "stream",
     "text": [
      "100%|██████████| 716/716 [01:25<00:00,  8.36it/s]\n"
     ]
    },
    {
     "name": "stdout",
     "output_type": "stream",
     "text": [
      "{'val_loss': 3.1981292032613986, 'val_accuracy': 0.47139588100686497, 'precision': 0.22238370569636837, 'recall': 0.47139588100686497, 'f1-score': 0.3022019237160193, 'macro_f1-score': 0.013355809128630707, 'balanced_accuracy': 0.020833333333333332, 'mcc': 0.010469151105070343, 'train_loss': 2.867054909800684}\n",
      "Epoch 4/20\n"
     ]
    },
    {
     "name": "stderr",
     "output_type": "stream",
     "text": [
      "100%|██████████| 716/716 [01:25<00:00,  8.35it/s]\n"
     ]
    },
    {
     "name": "stdout",
     "output_type": "stream",
     "text": [
      "{'val_loss': 2.9176314836595116, 'val_accuracy': 0.2501906941266209, 'precision': 0.30988804634564066, 'recall': 0.2501906941266209, 'f1-score': 0.27039873677187815, 'macro_f1-score': 0.020480041761754126, 'balanced_accuracy': 0.06859420750500848, 'mcc': 0.10795624264483622, 'train_loss': 2.9701669081296336}\n",
      "Epoch 5/20\n"
     ]
    },
    {
     "name": "stderr",
     "output_type": "stream",
     "text": [
      "100%|██████████| 716/716 [01:25<00:00,  8.37it/s]\n"
     ]
    },
    {
     "name": "stdout",
     "output_type": "stream",
     "text": [
      "{'val_loss': 2.385288744437985, 'val_accuracy': 0.39588100686498856, 'precision': 0.3729060642362768, 'recall': 0.39588100686498856, 'f1-score': 0.36823147405604945, 'macro_f1-score': 0.06448062118976322, 'balanced_accuracy': 0.1048969577737498, 'mcc': 0.20023902545460548, 'train_loss': 2.462753759166382}\n",
      "Early stopping.\n",
      "\n",
      "[Fold 5]\n",
      "Label distribution after resampling:\n",
      "  label 0: 2000\n",
      "  label 1: 200\n",
      "  label 2: 200\n",
      "  label 3: 200\n",
      "  label 4: 200\n",
      "  label 5: 200\n",
      "  label 6: 200\n",
      "  label 7: 200\n",
      "  label 8: 200\n",
      "  label 9: 200\n",
      "  label 10: 200\n",
      "  label 11: 200\n",
      "  label 12: 200\n",
      "  label 13: 200\n",
      "  label 14: 200\n",
      "  label 15: 200\n",
      "  label 16: 200\n",
      "  label 17: 200\n",
      "  label 18: 200\n",
      "  label 19: 200\n",
      "  label 20: 200\n",
      "  label 21: 200\n",
      "  label 22: 200\n",
      "  label 23: 200\n",
      "  label 24: 200\n",
      "  label 25: 200\n",
      "  label 26: 200\n",
      "  label 27: 200\n",
      "  label 28: 200\n",
      "  label 29: 200\n",
      "  label 30: 200\n",
      "  label 31: 200\n",
      "  label 32: 200\n",
      "  label 33: 200\n",
      "  label 34: 200\n",
      "  label 35: 200\n",
      "  label 36: 200\n",
      "  label 37: 200\n",
      "  label 38: 200\n",
      "  label 39: 200\n",
      "  label 40: 200\n",
      "  label 41: 200\n",
      "  label 42: 200\n",
      "  label 43: 200\n",
      "  label 44: 200\n",
      "  label 45: 242\n",
      "  label 46: 200\n",
      "  label 47: 200\n",
      "model is microsoft/deberta-base bilstm\n",
      "Epoch 1/20\n"
     ]
    },
    {
     "name": "stderr",
     "output_type": "stream",
     "text": [
      "100%|██████████| 716/716 [01:25<00:00,  8.39it/s]\n"
     ]
    },
    {
     "name": "stdout",
     "output_type": "stream",
     "text": [
      "{'val_loss': 2.4842757117457506, 'val_accuracy': 0.4492753623188406, 'precision': 0.3639908923115612, 'recall': 0.4492753623188406, 'f1-score': 0.3858081090486379, 'macro_f1-score': 0.036722909046342136, 'balanced_accuracy': 0.06354106640999375, 'mcc': 0.218166444044871, 'train_loss': 3.3810975398431276}\n",
      "Epoch 2/20\n"
     ]
    },
    {
     "name": "stderr",
     "output_type": "stream",
     "text": [
      "100%|██████████| 716/716 [01:25<00:00,  8.39it/s]\n"
     ]
    },
    {
     "name": "stdout",
     "output_type": "stream",
     "text": [
      "{'val_loss': 2.496797823324436, 'val_accuracy': 0.4263920671243326, 'precision': 0.3819038892113542, 'recall': 0.4263920671243326, 'f1-score': 0.39596295229243716, 'macro_f1-score': 0.0482961743784708, 'balanced_accuracy': 0.09579156858583521, 'mcc': 0.24974778027423983, 'train_loss': 3.003245974053218}\n",
      "Epoch 3/20\n"
     ]
    },
    {
     "name": "stderr",
     "output_type": "stream",
     "text": [
      "100%|██████████| 716/716 [01:25<00:00,  8.36it/s]\n"
     ]
    },
    {
     "name": "stdout",
     "output_type": "stream",
     "text": [
      "{'val_loss': 2.4908763083016, 'val_accuracy': 0.41723874904652936, 'precision': 0.36668053887758817, 'recall': 0.41723874904652936, 'f1-score': 0.38261277241946284, 'macro_f1-score': 0.037647963768681625, 'balanced_accuracy': 0.07459197584272224, 'mcc': 0.22691364533838868, 'train_loss': 2.917054402262139}\n",
      "Epoch 4/20\n"
     ]
    },
    {
     "name": "stderr",
     "output_type": "stream",
     "text": [
      "100%|██████████| 716/716 [01:24<00:00,  8.47it/s]\n"
     ]
    },
    {
     "name": "stdout",
     "output_type": "stream",
     "text": [
      "{'val_loss': 2.3371520187796615, 'val_accuracy': 0.448512585812357, 'precision': 0.40920929232465986, 'recall': 0.448512585812357, 'f1-score': 0.415939586585833, 'macro_f1-score': 0.0625849163767771, 'balanced_accuracy': 0.08352820869028325, 'mcc': 0.25019344640756647, 'train_loss': 2.746318072080612}\n",
      "Epoch 5/20\n"
     ]
    },
    {
     "name": "stderr",
     "output_type": "stream",
     "text": [
      "100%|██████████| 716/716 [01:24<00:00,  8.45it/s]\n"
     ]
    },
    {
     "name": "stdout",
     "output_type": "stream",
     "text": [
      "{'val_loss': 2.2227429965647256, 'val_accuracy': 0.47139588100686497, 'precision': 0.4183737193900565, 'recall': 0.47139588100686497, 'f1-score': 0.4355086469018446, 'macro_f1-score': 0.10617966170718686, 'balanced_accuracy': 0.1503540971379302, 'mcc': 0.28334183137607083, 'train_loss': 2.583723012129022}\n",
      "Epoch 6/20\n"
     ]
    },
    {
     "name": "stderr",
     "output_type": "stream",
     "text": [
      "100%|██████████| 716/716 [01:25<00:00,  8.37it/s]\n"
     ]
    },
    {
     "name": "stdout",
     "output_type": "stream",
     "text": [
      "{'val_loss': 2.451489527051042, 'val_accuracy': 0.35392829900839057, 'precision': 0.39634023884112224, 'recall': 0.35392829900839057, 'f1-score': 0.360223461081178, 'macro_f1-score': 0.08516998652263963, 'balanced_accuracy': 0.14807953772763682, 'mcc': 0.19505951624207543, 'train_loss': 2.272415691081372}\n",
      "Epoch 7/20\n"
     ]
    },
    {
     "name": "stderr",
     "output_type": "stream",
     "text": [
      "100%|██████████| 716/716 [01:26<00:00,  8.32it/s]\n"
     ]
    },
    {
     "name": "stdout",
     "output_type": "stream",
     "text": [
      "{'val_loss': 2.147181413522581, 'val_accuracy': 0.47368421052631576, 'precision': 0.4566210544272811, 'recall': 0.47368421052631576, 'f1-score': 0.44615488624916155, 'macro_f1-score': 0.13364671388318786, 'balanced_accuracy': 0.16609776483210026, 'mcc': 0.28614973266893545, 'train_loss': 2.2327657933008735}\n",
      "Epoch 8/20\n"
     ]
    },
    {
     "name": "stderr",
     "output_type": "stream",
     "text": [
      "100%|██████████| 716/716 [01:25<00:00,  8.34it/s]\n"
     ]
    },
    {
     "name": "stdout",
     "output_type": "stream",
     "text": [
      "{'val_loss': 2.3077495766849054, 'val_accuracy': 0.45308924485125857, 'precision': 0.5026581823435234, 'recall': 0.45308924485125857, 'f1-score': 0.45291021245908547, 'macro_f1-score': 0.148886631539209, 'balanced_accuracy': 0.20954413431600924, 'mcc': 0.29176883230226197, 'train_loss': 1.9505427151751917}\n",
      "Epoch 9/20\n"
     ]
    },
    {
     "name": "stderr",
     "output_type": "stream",
     "text": [
      "100%|██████████| 716/716 [01:25<00:00,  8.37it/s]\n"
     ]
    },
    {
     "name": "stdout",
     "output_type": "stream",
     "text": [
      "{'val_loss': 2.0581221478741343, 'val_accuracy': 0.498093058733791, 'precision': 0.491047958122502, 'recall': 0.498093058733791, 'f1-score': 0.4782052536878201, 'macro_f1-score': 0.17645843343002568, 'balanced_accuracy': 0.20202706017310798, 'mcc': 0.322109712761989, 'train_loss': 1.7135521783675562}\n",
      "Epoch 10/20\n"
     ]
    },
    {
     "name": "stderr",
     "output_type": "stream",
     "text": [
      "100%|██████████| 716/716 [01:25<00:00,  8.36it/s]\n"
     ]
    },
    {
     "name": "stdout",
     "output_type": "stream",
     "text": [
      "{'val_loss': 2.140813246005919, 'val_accuracy': 0.4500381388253242, 'precision': 0.5032525897373271, 'recall': 0.4500381388253242, 'f1-score': 0.46096599414366474, 'macro_f1-score': 0.16243710992869667, 'balanced_accuracy': 0.1914500965770564, 'mcc': 0.29505807008463214, 'train_loss': 1.459443818756988}\n",
      "Epoch 11/20\n"
     ]
    },
    {
     "name": "stderr",
     "output_type": "stream",
     "text": [
      "100%|██████████| 716/716 [01:26<00:00,  8.31it/s]\n"
     ]
    },
    {
     "name": "stdout",
     "output_type": "stream",
     "text": [
      "{'val_loss': 2.0427840482897874, 'val_accuracy': 0.4958047292143402, 'precision': 0.5205933096365625, 'recall': 0.4958047292143402, 'f1-score': 0.49355774833360355, 'macro_f1-score': 0.17910761927892693, 'balanced_accuracy': 0.18732069263492312, 'mcc': 0.3328032914293318, 'train_loss': 1.2726418581588308}\n",
      "Epoch 12/20\n"
     ]
    },
    {
     "name": "stderr",
     "output_type": "stream",
     "text": [
      "100%|██████████| 716/716 [01:25<00:00,  8.37it/s]\n"
     ]
    },
    {
     "name": "stdout",
     "output_type": "stream",
     "text": [
      "{'val_loss': 2.103689999842062, 'val_accuracy': 0.467581998474447, 'precision': 0.5306359056476769, 'recall': 0.467581998474447, 'f1-score': 0.4837179295370341, 'macro_f1-score': 0.19684782042370788, 'balanced_accuracy': 0.22301043998972928, 'mcc': 0.32089021371000465, 'train_loss': 1.2233864947654016}\n",
      "Epoch 13/20\n"
     ]
    },
    {
     "name": "stderr",
     "output_type": "stream",
     "text": [
      "100%|██████████| 716/716 [01:25<00:00,  8.42it/s]\n"
     ]
    },
    {
     "name": "stdout",
     "output_type": "stream",
     "text": [
      "{'val_loss': 2.0244569574914326, 'val_accuracy': 0.5041952707856598, 'precision': 0.5830506910225189, 'recall': 0.5041952707856598, 'f1-score': 0.5288207007995962, 'macro_f1-score': 0.25221012566444373, 'balanced_accuracy': 0.2656346766375422, 'mcc': 0.37407480879486954, 'train_loss': 0.9944362570245505}\n",
      "Epoch 14/20\n"
     ]
    },
    {
     "name": "stderr",
     "output_type": "stream",
     "text": [
      "100%|██████████| 716/716 [01:25<00:00,  8.41it/s]\n"
     ]
    },
    {
     "name": "stdout",
     "output_type": "stream",
     "text": [
      "{'val_loss': 2.0346358280356336, 'val_accuracy': 0.5011441647597255, 'precision': 0.5663797943700856, 'recall': 0.5011441647597255, 'f1-score': 0.5201918467789062, 'macro_f1-score': 0.2319877771021873, 'balanced_accuracy': 0.24561154160376683, 'mcc': 0.37012777709133743, 'train_loss': 0.7938624539272079}\n",
      "Epoch 15/20\n"
     ]
    },
    {
     "name": "stderr",
     "output_type": "stream",
     "text": [
      "100%|██████████| 716/716 [01:26<00:00,  8.32it/s]\n"
     ]
    },
    {
     "name": "stdout",
     "output_type": "stream",
     "text": [
      "{'val_loss': 2.1702135525098663, 'val_accuracy': 0.4874141876430206, 'precision': 0.5668504656537, 'recall': 0.4874141876430206, 'f1-score': 0.5146415204842076, 'macro_f1-score': 0.24973346131252602, 'balanced_accuracy': 0.2646089417554773, 'mcc': 0.357350916314445, 'train_loss': 0.6623339474242825}\n",
      "Epoch 16/20\n"
     ]
    },
    {
     "name": "stderr",
     "output_type": "stream",
     "text": [
      "100%|██████████| 716/716 [01:25<00:00,  8.36it/s]\n"
     ]
    },
    {
     "name": "stdout",
     "output_type": "stream",
     "text": [
      "{'val_loss': 2.1183700997654986, 'val_accuracy': 0.5125858123569794, 'precision': 0.5772589177908675, 'recall': 0.5125858123569794, 'f1-score': 0.5341599177945858, 'macro_f1-score': 0.2565480392040524, 'balanced_accuracy': 0.2671238925493647, 'mcc': 0.38335434553727615, 'train_loss': 0.6206406391220552}\n",
      "Epoch 17/20\n"
     ]
    },
    {
     "name": "stderr",
     "output_type": "stream",
     "text": [
      "100%|██████████| 716/716 [01:25<00:00,  8.40it/s]\n"
     ]
    },
    {
     "name": "stdout",
     "output_type": "stream",
     "text": [
      "{'val_loss': 2.262067434991278, 'val_accuracy': 0.4767353165522502, 'precision': 0.571873748851879, 'recall': 0.4767353165522502, 'f1-score': 0.5124710900248596, 'macro_f1-score': 0.23986144669975148, 'balanced_accuracy': 0.25935989004520904, 'mcc': 0.3595070367134116, 'train_loss': 0.5003023878072893}\n",
      "Epoch 18/20\n"
     ]
    },
    {
     "name": "stderr",
     "output_type": "stream",
     "text": [
      "100%|██████████| 716/716 [01:25<00:00,  8.35it/s]\n"
     ]
    },
    {
     "name": "stdout",
     "output_type": "stream",
     "text": [
      "{'val_loss': 2.2308229767694705, 'val_accuracy': 0.5041952707856598, 'precision': 0.5699693903930911, 'recall': 0.5041952707856598, 'f1-score': 0.5264741513838431, 'macro_f1-score': 0.27175319315603064, 'balanced_accuracy': 0.28113066570248374, 'mcc': 0.38651946886463934, 'train_loss': 0.43243076081007886}\n",
      "Epoch 19/20\n"
     ]
    },
    {
     "name": "stderr",
     "output_type": "stream",
     "text": [
      "100%|██████████| 716/716 [01:26<00:00,  8.32it/s]\n"
     ]
    },
    {
     "name": "stdout",
     "output_type": "stream",
     "text": [
      "{'val_loss': 2.3092147002859815, 'val_accuracy': 0.4881769641495042, 'precision': 0.5776717074173974, 'recall': 0.4881769641495042, 'f1-score': 0.518034664721933, 'macro_f1-score': 0.2554889246456456, 'balanced_accuracy': 0.2812383719935632, 'mcc': 0.37316765354141385, 'train_loss': 0.39495521258854166}\n",
      "Epoch 20/20\n"
     ]
    },
    {
     "name": "stderr",
     "output_type": "stream",
     "text": [
      "100%|██████████| 716/716 [01:25<00:00,  8.40it/s]\n"
     ]
    },
    {
     "name": "stdout",
     "output_type": "stream",
     "text": [
      "{'val_loss': 2.270602738711892, 'val_accuracy': 0.5217391304347826, 'precision': 0.5745141870154026, 'recall': 0.5217391304347826, 'f1-score': 0.5385335004706174, 'macro_f1-score': 0.25648962862247565, 'balanced_accuracy': 0.27856289271768914, 'mcc': 0.4035107509596651, 'train_loss': 0.4159530562988623}\n",
      "\n",
      " === microsoft/deberta-base + bilstm + ros Final 5-fold Cross-Validation Results ===\n",
      "val_loss: 2.2512\n",
      "val_accuracy: 0.4999\n",
      "precision: 0.4817\n",
      "recall: 0.4999\n",
      "f1-score: 0.4667\n",
      "macro_f1-score: 0.1967\n",
      "balanced_accuracy: 0.2221\n",
      "mcc: 0.2899\n",
      "train_loss: 1.6643\n",
      "total_seconds: 4753.0000\n",
      "total_time: 1 hrs 19 mins 13 secs\n"
     ]
    }
   ],
   "source": [
    "model_list = [\"bert-base-uncased\", \"roberta-base\", \"microsoft/deberta-base\"]\n",
    "hybrid_list = [None, \"cnn\", \"lstm\", \"bilstm\"]\n",
    "resample_list = [\"ros\"]\n",
    "\n",
    "all_experiment_result = {}\n",
    "\n",
    "for model_name in model_list:\n",
    "    for hybrid_type in hybrid_list:\n",
    "        for resample_method in resample_list:\n",
    "            results = run_kfold_experiment(\n",
    "                X=messages, y=labels, model_name=model_name, hybrid_type=hybrid_type, resample_method=resample_method,\n",
    "                kfold=KFOLD_SPLIT, seed=SEED, epochs=EPOCHS, patience=PATIENCE, max_length=MAX_LENGTH, \n",
    "                batch_size=BATCH_SIZE, lr=LR, weight_decay=WEIGHT_DECAY, upper_cap=2000, lower_cap=400\n",
    "            )\n",
    "\n",
    "            key = f\"{model_name} {hybrid_type if hybrid_type else 'None'} {resample_method}\"\n",
    "            all_experiment_result[key] = results"
   ]
  },
  {
   "cell_type": "code",
   "execution_count": 5,
   "id": "d799ebb4-be3b-4b29-9238-6c2a2f8256ae",
   "metadata": {},
   "outputs": [
    {
     "data": {
      "text/plain": [
       "{'bert-base-uncased None ros': {'val_loss': 1.7768474993727559,\n",
       "  'val_accuracy': 0.6464292524790236,\n",
       "  'precision': 0.6467320306499291,\n",
       "  'recall': 0.6464292524790236,\n",
       "  'f1-score': 0.6352512820692608,\n",
       "  'macro_f1-score': 0.418618570023916,\n",
       "  'balanced_accuracy': 0.4082366591478153,\n",
       "  'mcc': 0.5300199968442666,\n",
       "  'train_loss': 0.20780824927922711,\n",
       "  'total_seconds': 2506,\n",
       "  'total_time': '0 hrs 41 mins 46 secs'},\n",
       " 'bert-base-uncased cnn ros': {'val_loss': 1.6946506150066853,\n",
       "  'val_accuracy': 0.6473431889639263,\n",
       "  'precision': 0.6519411292530989,\n",
       "  'recall': 0.6473431889639263,\n",
       "  'f1-score': 0.6354452142979292,\n",
       "  'macro_f1-score': 0.4230846246702333,\n",
       "  'balanced_accuracy': 0.42301331629162603,\n",
       "  'mcc': 0.5338721647200522,\n",
       "  'train_loss': 0.2216032023106535,\n",
       "  'total_seconds': 2097,\n",
       "  'total_time': '0 hrs 34 mins 57 secs'},\n",
       " 'bert-base-uncased lstm ros': {'val_loss': 1.6884094706304917,\n",
       "  'val_accuracy': 0.6182129169689866,\n",
       "  'precision': 0.6334543458045491,\n",
       "  'recall': 0.6182129169689866,\n",
       "  'f1-score': 0.6153733024057191,\n",
       "  'macro_f1-score': 0.40841139713217284,\n",
       "  'balanced_accuracy': 0.4186296712513705,\n",
       "  'mcc': 0.5028900741667068,\n",
       "  'train_loss': 0.37409440171982905,\n",
       "  'total_seconds': 2878,\n",
       "  'total_time': '0 hrs 47 mins 58 secs'},\n",
       " 'bert-base-uncased bilstm ros': {'val_loss': 1.6657256627773367,\n",
       "  'val_accuracy': 0.6339234386336998,\n",
       "  'precision': 0.6421820223237509,\n",
       "  'recall': 0.6339234386336998,\n",
       "  'f1-score': 0.6291700654669687,\n",
       "  'macro_f1-score': 0.4250462810450964,\n",
       "  'balanced_accuracy': 0.4237952677823794,\n",
       "  'mcc': 0.5213356694821034,\n",
       "  'train_loss': 0.30714316425738364,\n",
       "  'total_seconds': 2939,\n",
       "  'total_time': '0 hrs 48 mins 59 secs'},\n",
       " 'roberta-base None ros': {'val_loss': 1.787285980909336,\n",
       "  'val_accuracy': 0.6294992186191884,\n",
       "  'precision': 0.6419607747370979,\n",
       "  'recall': 0.6294992186191884,\n",
       "  'f1-score': 0.6254274072507907,\n",
       "  'macro_f1-score': 0.4173360707781587,\n",
       "  'balanced_accuracy': 0.42787023726474294,\n",
       "  'mcc': 0.5150378857376985,\n",
       "  'train_loss': 0.26023571334945755,\n",
       "  'total_seconds': 2797,\n",
       "  'total_time': '0 hrs 46 mins 37 secs'},\n",
       " 'roberta-base cnn ros': {'val_loss': 1.7862311667603692,\n",
       "  'val_accuracy': 0.6043391053189707,\n",
       "  'precision': 0.6338945497188746,\n",
       "  'recall': 0.6043391053189707,\n",
       "  'f1-score': 0.6089896913351216,\n",
       "  'macro_f1-score': 0.4067455450257441,\n",
       "  'balanced_accuracy': 0.4276485874667738,\n",
       "  'mcc': 0.49430355053378,\n",
       "  'train_loss': 0.3149454512091629,\n",
       "  'total_seconds': 2984,\n",
       "  'total_time': '0 hrs 49 mins 44 secs'},\n",
       " 'roberta-base lstm ros': {'val_loss': 1.944396149821398,\n",
       "  'val_accuracy': 0.5759568426633923,\n",
       "  'precision': 0.5470100440718348,\n",
       "  'recall': 0.5759568426633923,\n",
       "  'f1-score': 0.544992051041443,\n",
       "  'macro_f1-score': 0.3199616704800917,\n",
       "  'balanced_accuracy': 0.33119981464589576,\n",
       "  'mcc': 0.3878350373136019,\n",
       "  'train_loss': 1.171066984078488,\n",
       "  'total_seconds': 3411,\n",
       "  'total_time': '0 hrs 56 mins 51 secs'},\n",
       " 'roberta-base bilstm ros': {'val_loss': 1.9424691767954243,\n",
       "  'val_accuracy': 0.5790077161355137,\n",
       "  'precision': 0.5419894146565754,\n",
       "  'recall': 0.5790077161355137,\n",
       "  'f1-score': 0.5451866672765974,\n",
       "  'macro_f1-score': 0.30966336915370996,\n",
       "  'balanced_accuracy': 0.3311773275110036,\n",
       "  'mcc': 0.4094477871004071,\n",
       "  'train_loss': 0.9732864817820344,\n",
       "  'total_seconds': 3123,\n",
       "  'total_time': '0 hrs 52 mins 3 secs'},\n",
       " 'microsoft/deberta-base None ros': {'val_loss': 2.06990568994022,\n",
       "  'val_accuracy': 0.5910815612732787,\n",
       "  'precision': 0.5536496844750625,\n",
       "  'recall': 0.5910815612732787,\n",
       "  'f1-score': 0.5505024353909602,\n",
       "  'macro_f1-score': 0.3085573541847519,\n",
       "  'balanced_accuracy': 0.320076418820958,\n",
       "  'mcc': 0.4132136562936165,\n",
       "  'train_loss': 1.0298045340600923,\n",
       "  'total_seconds': 2723,\n",
       "  'total_time': '0 hrs 45 mins 23 secs'},\n",
       " 'microsoft/deberta-base cnn ros': {'val_loss': 1.672801843467282,\n",
       "  'val_accuracy': 0.6214142527580883,\n",
       "  'precision': 0.6356045509404337,\n",
       "  'recall': 0.6214142527580883,\n",
       "  'f1-score': 0.6172476944933663,\n",
       "  'macro_f1-score': 0.4094939561841594,\n",
       "  'balanced_accuracy': 0.41690539480398475,\n",
       "  'mcc': 0.5024443760258712,\n",
       "  'train_loss': 0.4563800811197859,\n",
       "  'total_seconds': 2712,\n",
       "  'total_time': '0 hrs 45 mins 12 secs'},\n",
       " 'microsoft/deberta-base lstm ros': {'val_loss': 2.39942017968108,\n",
       "  'val_accuracy': 0.4536305138509051,\n",
       "  'precision': 0.4017710291643716,\n",
       "  'recall': 0.4536305138509051,\n",
       "  'f1-score': 0.4057495173767921,\n",
       "  'macro_f1-score': 0.07380006943472989,\n",
       "  'balanced_accuracy': 0.11786725447386079,\n",
       "  'mcc': 0.24261368583847248,\n",
       "  'train_loss': 2.8473159783046342,\n",
       "  'total_seconds': 2966,\n",
       "  'total_time': '0 hrs 49 mins 26 secs'},\n",
       " 'microsoft/deberta-base bilstm ros': {'val_loss': 2.25115729868412,\n",
       "  'val_accuracy': 0.4998518632211494,\n",
       "  'precision': 0.481717732469385,\n",
       "  'recall': 0.4998518632211494,\n",
       "  'f1-score': 0.4666840236390568,\n",
       "  'macro_f1-score': 0.19674985894683059,\n",
       "  'balanced_accuracy': 0.22212161306972714,\n",
       "  'mcc': 0.28990745088747305,\n",
       "  'train_loss': 1.664292926274698,\n",
       "  'total_seconds': 4753,\n",
       "  'total_time': '1 hrs 19 mins 13 secs'}}"
      ]
     },
     "execution_count": 5,
     "metadata": {},
     "output_type": "execute_result"
    }
   ],
   "source": [
    "all_experiment_result"
   ]
  }
 ],
 "metadata": {
  "kernelspec": {
   "display_name": "Python 3 (ipykernel)",
   "language": "python",
   "name": "python3"
  },
  "language_info": {
   "codemirror_mode": {
    "name": "ipython",
    "version": 3
   },
   "file_extension": ".py",
   "mimetype": "text/x-python",
   "name": "python",
   "nbconvert_exporter": "python",
   "pygments_lexer": "ipython3",
   "version": "3.11.9"
  }
 },
 "nbformat": 4,
 "nbformat_minor": 5
}
