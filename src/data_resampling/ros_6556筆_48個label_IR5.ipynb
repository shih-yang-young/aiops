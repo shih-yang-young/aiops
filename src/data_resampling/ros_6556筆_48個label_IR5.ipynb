{
 "cells": [
  {
   "cell_type": "code",
   "execution_count": 1,
   "id": "f22f4841-9a9d-4a63-b896-560594d666d8",
   "metadata": {},
   "outputs": [
    {
     "data": {
      "text/html": [
       "<div>\n",
       "<style scoped>\n",
       "    .dataframe tbody tr th:only-of-type {\n",
       "        vertical-align: middle;\n",
       "    }\n",
       "\n",
       "    .dataframe tbody tr th {\n",
       "        vertical-align: top;\n",
       "    }\n",
       "\n",
       "    .dataframe thead th {\n",
       "        text-align: right;\n",
       "    }\n",
       "</style>\n",
       "<table border=\"1\" class=\"dataframe\">\n",
       "  <thead>\n",
       "    <tr style=\"text-align: right;\">\n",
       "      <th></th>\n",
       "      <th>Inbound Message</th>\n",
       "      <th>Label</th>\n",
       "    </tr>\n",
       "  </thead>\n",
       "  <tbody>\n",
       "    <tr>\n",
       "      <th>0</th>\n",
       "      <td>login issue verified user details employee man...</td>\n",
       "      <td>0</td>\n",
       "    </tr>\n",
       "    <tr>\n",
       "      <th>1</th>\n",
       "      <td>outlook hello team meetings skype meetings etc...</td>\n",
       "      <td>0</td>\n",
       "    </tr>\n",
       "    <tr>\n",
       "      <th>2</th>\n",
       "      <td>cant log vpn cannot log vpn best</td>\n",
       "      <td>0</td>\n",
       "    </tr>\n",
       "    <tr>\n",
       "      <th>3</th>\n",
       "      <td>unable access tool page unable access tool page</td>\n",
       "      <td>0</td>\n",
       "    </tr>\n",
       "    <tr>\n",
       "      <th>4</th>\n",
       "      <td>skype error skype error</td>\n",
       "      <td>0</td>\n",
       "    </tr>\n",
       "    <tr>\n",
       "      <th>...</th>\n",
       "      <td>...</td>\n",
       "      <td>...</td>\n",
       "    </tr>\n",
       "    <tr>\n",
       "      <th>6551</th>\n",
       "      <td>emails coming mail good afternoon receiving em...</td>\n",
       "      <td>22</td>\n",
       "    </tr>\n",
       "    <tr>\n",
       "      <th>6552</th>\n",
       "      <td>telephony software issue telephony software issue</td>\n",
       "      <td>0</td>\n",
       "    </tr>\n",
       "    <tr>\n",
       "      <th>6553</th>\n",
       "      <td>vip windows password reset tifpdchb pedxruyf v...</td>\n",
       "      <td>0</td>\n",
       "    </tr>\n",
       "    <tr>\n",
       "      <th>6554</th>\n",
       "      <td>machine est funcionando unable access machine ...</td>\n",
       "      <td>42</td>\n",
       "    </tr>\n",
       "    <tr>\n",
       "      <th>6555</th>\n",
       "      <td>mehreren lassen sich verschiedene prgramdntyme...</td>\n",
       "      <td>47</td>\n",
       "    </tr>\n",
       "  </tbody>\n",
       "</table>\n",
       "<p>6556 rows × 2 columns</p>\n",
       "</div>"
      ],
      "text/plain": [
       "                                        Inbound Message  Label\n",
       "0     login issue verified user details employee man...      0\n",
       "1     outlook hello team meetings skype meetings etc...      0\n",
       "2                      cant log vpn cannot log vpn best      0\n",
       "3       unable access tool page unable access tool page      0\n",
       "4                               skype error skype error      0\n",
       "...                                                 ...    ...\n",
       "6551  emails coming mail good afternoon receiving em...     22\n",
       "6552  telephony software issue telephony software issue      0\n",
       "6553  vip windows password reset tifpdchb pedxruyf v...      0\n",
       "6554  machine est funcionando unable access machine ...     42\n",
       "6555  mehreren lassen sich verschiedene prgramdntyme...     47\n",
       "\n",
       "[6556 rows x 2 columns]"
      ]
     },
     "execution_count": 1,
     "metadata": {},
     "output_type": "execute_result"
    }
   ],
   "source": [
    "import pandas as pd\n",
    "data_path = \"../../data/6556_48_label.csv\"\n",
    "df = pd.read_csv(data_path)\n",
    "# df_label_0 = df[df[\"Label\"] == 0]\n",
    "# df_label_0_to_drop = df_label_0.sample(n=3000, random_state=42)\n",
    "# df = df.drop(df_label_0_to_drop.index)\n",
    "df"
   ]
  },
  {
   "cell_type": "code",
   "execution_count": 2,
   "id": "bf737873-4f1c-4588-913d-8f06b2777b20",
   "metadata": {},
   "outputs": [
    {
     "name": "stderr",
     "output_type": "stream",
     "text": [
      "c:\\Users\\user\\AppData\\Local\\Programs\\Python\\Python310\\lib\\site-packages\\tqdm\\auto.py:21: TqdmWarning: IProgress not found. Please update jupyter and ipywidgets. See https://ipywidgets.readthedocs.io/en/stable/user_install.html\n",
      "  from .autonotebook import tqdm as notebook_tqdm\n"
     ]
    }
   ],
   "source": [
    "import sys\n",
    "import os\n",
    "sys.path.append(os.path.abspath('../ml_lib'))\n",
    "\n",
    "from config import *\n",
    "from experiment import run_kfold_experiment"
   ]
  },
  {
   "cell_type": "code",
   "execution_count": 3,
   "id": "a12b2613-aa9d-41c0-8f62-72210eaf8d7f",
   "metadata": {},
   "outputs": [],
   "source": [
    "messages, labels = df['Inbound Message'].tolist(), df['Label'].tolist()"
   ]
  },
  {
   "cell_type": "code",
   "execution_count": 4,
   "id": "38d4729f-f867-4cea-89f9-31f67e5ecced",
   "metadata": {},
   "outputs": [
    {
     "name": "stdout",
     "output_type": "stream",
     "text": [
      "▶ Running: bert-base-uncased + plain + ros\n",
      "tokenizer is bert-base-uncased\n",
      "Using device: cuda\n",
      "CUDA Available: True\n",
      "CUDA Device: NVIDIA GeForce RTX 5070 Ti\n",
      "Current GPU Memory Allocated: 0.00 GB\n",
      "Current GPU Memory Cached: 0.00 GB\n",
      "\n",
      "[Fold 1]\n",
      "Label distribution after resampling:\n",
      "  label 0: 2000\n",
      "  label 1: 400\n",
      "  label 2: 400\n",
      "  label 3: 400\n",
      "  label 4: 400\n",
      "  label 5: 400\n",
      "  label 6: 400\n",
      "  label 7: 400\n",
      "  label 8: 400\n",
      "  label 9: 400\n",
      "  label 10: 400\n",
      "  label 11: 400\n",
      "  label 12: 400\n",
      "  label 13: 400\n",
      "  label 14: 400\n",
      "  label 15: 400\n",
      "  label 16: 400\n",
      "  label 17: 400\n",
      "  label 18: 400\n",
      "  label 19: 400\n",
      "  label 20: 400\n",
      "  label 21: 400\n",
      "  label 22: 400\n",
      "  label 23: 400\n",
      "  label 24: 400\n",
      "  label 25: 400\n",
      "  label 26: 400\n",
      "  label 27: 400\n",
      "  label 28: 400\n",
      "  label 29: 400\n",
      "  label 30: 400\n",
      "  label 31: 400\n",
      "  label 32: 400\n",
      "  label 33: 400\n",
      "  label 34: 400\n",
      "  label 35: 400\n",
      "  label 36: 400\n",
      "  label 37: 400\n",
      "  label 38: 400\n",
      "  label 39: 400\n",
      "  label 40: 400\n",
      "  label 41: 400\n",
      "  label 42: 400\n",
      "  label 43: 400\n",
      "  label 44: 400\n",
      "  label 45: 400\n",
      "  label 46: 400\n",
      "  label 47: 400\n",
      "model is bert-base-uncased\n"
     ]
    },
    {
     "name": "stderr",
     "output_type": "stream",
     "text": [
      "Some weights of BertForSequenceClassification were not initialized from the model checkpoint at bert-base-uncased and are newly initialized: ['classifier.bias', 'classifier.weight']\n",
      "You should probably TRAIN this model on a down-stream task to be able to use it for predictions and inference.\n"
     ]
    },
    {
     "name": "stdout",
     "output_type": "stream",
     "text": [
      "Epoch 1/20\n"
     ]
    },
    {
     "name": "stderr",
     "output_type": "stream",
     "text": [
      "100%|██████████| 1300/1300 [01:49<00:00, 11.87it/s]\n"
     ]
    },
    {
     "name": "stdout",
     "output_type": "stream",
     "text": [
      "{'val_loss': 1.5506858534929229, 'val_accuracy': 0.6028963414634146, 'precision': 0.6460512260101523, 'recall': 0.6028963414634146, 'f1-score': 0.609068725555987, 'macro_f1-score': 0.41270358979207944, 'balanced_accuracy': 0.4508593143403963, 'mcc': 0.4971049167357941, 'train_loss': 1.3827599618870479}\n",
      "Epoch 2/20\n"
     ]
    },
    {
     "name": "stderr",
     "output_type": "stream",
     "text": [
      "100%|██████████| 1300/1300 [01:49<00:00, 11.89it/s]\n"
     ]
    },
    {
     "name": "stdout",
     "output_type": "stream",
     "text": [
      "{'val_loss': 1.7350898028873816, 'val_accuracy': 0.6265243902439024, 'precision': 0.6136741258882684, 'recall': 0.6265243902439024, 'f1-score': 0.6069754146598072, 'macro_f1-score': 0.38545075821252933, 'balanced_accuracy': 0.41372306805086495, 'mcc': 0.49638648694669163, 'train_loss': 0.2318487524914627}\n",
      "Epoch 3/20\n"
     ]
    },
    {
     "name": "stderr",
     "output_type": "stream",
     "text": [
      "100%|██████████| 1300/1300 [01:49<00:00, 11.89it/s]\n"
     ]
    },
    {
     "name": "stdout",
     "output_type": "stream",
     "text": [
      "{'val_loss': 1.8012429413998998, 'val_accuracy': 0.6295731707317073, 'precision': 0.6272793464820224, 'recall': 0.6295731707317073, 'f1-score': 0.6118351003815952, 'macro_f1-score': 0.39367463719685486, 'balanced_accuracy': 0.3848522674175007, 'mcc': 0.5029049374586091, 'train_loss': 0.12093093040649994}\n",
      "Epoch 4/20\n"
     ]
    },
    {
     "name": "stderr",
     "output_type": "stream",
     "text": [
      "100%|██████████| 1300/1300 [01:49<00:00, 11.88it/s]\n"
     ]
    },
    {
     "name": "stdout",
     "output_type": "stream",
     "text": [
      "{'val_loss': 1.9380251892456195, 'val_accuracy': 0.6471036585365854, 'precision': 0.6335781174025485, 'recall': 0.6471036585365854, 'f1-score': 0.6335373260988971, 'macro_f1-score': 0.42275858798615634, 'balanced_accuracy': 0.4171625401458476, 'mcc': 0.530301120619521, 'train_loss': 0.08781057934921521}\n",
      "Epoch 5/20\n"
     ]
    },
    {
     "name": "stderr",
     "output_type": "stream",
     "text": [
      "100%|██████████| 1300/1300 [01:49<00:00, 11.88it/s]\n"
     ]
    },
    {
     "name": "stdout",
     "output_type": "stream",
     "text": [
      "{'val_loss': 2.042490094173245, 'val_accuracy': 0.6257621951219512, 'precision': 0.628469198247704, 'recall': 0.6257621951219512, 'f1-score': 0.6157763377170953, 'macro_f1-score': 0.386901497297029, 'balanced_accuracy': 0.4118009443558382, 'mcc': 0.5078871232154902, 'train_loss': 0.07808558140344059}\n",
      "Epoch 6/20\n"
     ]
    },
    {
     "name": "stderr",
     "output_type": "stream",
     "text": [
      "100%|██████████| 1300/1300 [01:49<00:00, 11.89it/s]\n"
     ]
    },
    {
     "name": "stdout",
     "output_type": "stream",
     "text": [
      "{'val_loss': 2.452564041788985, 'val_accuracy': 0.5960365853658537, 'precision': 0.6525836625423584, 'recall': 0.5960365853658537, 'f1-score': 0.6034551316197501, 'macro_f1-score': 0.4038330781510446, 'balanced_accuracy': 0.4115432576090898, 'mcc': 0.4858632867839485, 'train_loss': 0.05435472179222135}\n",
      "Epoch 7/20\n"
     ]
    },
    {
     "name": "stderr",
     "output_type": "stream",
     "text": [
      "100%|██████████| 1300/1300 [01:49<00:00, 11.88it/s]\n"
     ]
    },
    {
     "name": "stdout",
     "output_type": "stream",
     "text": [
      "{'val_loss': 2.0906169374541537, 'val_accuracy': 0.6402439024390244, 'precision': 0.6545546375882129, 'recall': 0.6402439024390244, 'f1-score': 0.6319148121689175, 'macro_f1-score': 0.44584630136874487, 'balanced_accuracy': 0.4723499688922052, 'mcc': 0.5309058492533665, 'train_loss': 0.06349877946248923}\n",
      "Epoch 8/20\n"
     ]
    },
    {
     "name": "stderr",
     "output_type": "stream",
     "text": [
      "100%|██████████| 1300/1300 [01:49<00:00, 11.88it/s]\n"
     ]
    },
    {
     "name": "stdout",
     "output_type": "stream",
     "text": [
      "{'val_loss': 2.4504830513785527, 'val_accuracy': 0.6257621951219512, 'precision': 0.621401732821934, 'recall': 0.6257621951219512, 'f1-score': 0.5970106054810598, 'macro_f1-score': 0.4055461049968317, 'balanced_accuracy': 0.4063915720229725, 'mcc': 0.48332056166891285, 'train_loss': 0.04236992784480278}\n",
      "Epoch 9/20\n"
     ]
    },
    {
     "name": "stderr",
     "output_type": "stream",
     "text": [
      "100%|██████████| 1300/1300 [01:49<00:00, 11.89it/s]\n"
     ]
    },
    {
     "name": "stdout",
     "output_type": "stream",
     "text": [
      "{'val_loss': 2.1197899725379012, 'val_accuracy': 0.6326219512195121, 'precision': 0.6266796482738939, 'recall': 0.6326219512195121, 'f1-score': 0.6236029191591931, 'macro_f1-score': 0.412790472905634, 'balanced_accuracy': 0.4201673937817731, 'mcc': 0.5174687908569714, 'train_loss': 0.06059184787660622}\n",
      "Epoch 10/20\n"
     ]
    },
    {
     "name": "stderr",
     "output_type": "stream",
     "text": [
      "100%|██████████| 1300/1300 [01:49<00:00, 11.88it/s]\n"
     ]
    },
    {
     "name": "stdout",
     "output_type": "stream",
     "text": [
      "{'val_loss': 2.252920603970202, 'val_accuracy': 0.6379573170731707, 'precision': 0.6396018744277033, 'recall': 0.6379573170731707, 'f1-score': 0.6342212033768712, 'macro_f1-score': 0.40314845371937896, 'balanced_accuracy': 0.41687999511194657, 'mcc': 0.527563365401592, 'train_loss': 0.051618501091725194}\n",
      "Early stopping.\n",
      "\n",
      "[Fold 2]\n",
      "Label distribution after resampling:\n",
      "  label 0: 2000\n",
      "  label 1: 400\n",
      "  label 2: 400\n",
      "  label 3: 400\n",
      "  label 4: 400\n",
      "  label 5: 400\n",
      "  label 6: 400\n",
      "  label 7: 400\n",
      "  label 8: 400\n",
      "  label 9: 400\n",
      "  label 10: 400\n",
      "  label 11: 400\n",
      "  label 12: 400\n",
      "  label 13: 400\n",
      "  label 14: 400\n",
      "  label 15: 400\n",
      "  label 16: 400\n",
      "  label 17: 400\n",
      "  label 18: 400\n",
      "  label 19: 400\n",
      "  label 20: 400\n",
      "  label 21: 400\n",
      "  label 22: 400\n",
      "  label 23: 400\n",
      "  label 24: 400\n",
      "  label 25: 400\n",
      "  label 26: 400\n",
      "  label 27: 400\n",
      "  label 28: 400\n",
      "  label 29: 400\n",
      "  label 30: 400\n",
      "  label 31: 400\n",
      "  label 32: 400\n",
      "  label 33: 400\n",
      "  label 34: 400\n",
      "  label 35: 400\n",
      "  label 36: 400\n",
      "  label 37: 400\n",
      "  label 38: 400\n",
      "  label 39: 400\n",
      "  label 40: 400\n",
      "  label 41: 400\n",
      "  label 42: 400\n",
      "  label 43: 400\n",
      "  label 44: 400\n",
      "  label 45: 400\n",
      "  label 46: 400\n",
      "  label 47: 400\n",
      "model is bert-base-uncased\n"
     ]
    },
    {
     "name": "stderr",
     "output_type": "stream",
     "text": [
      "Some weights of BertForSequenceClassification were not initialized from the model checkpoint at bert-base-uncased and are newly initialized: ['classifier.bias', 'classifier.weight']\n",
      "You should probably TRAIN this model on a down-stream task to be able to use it for predictions and inference.\n"
     ]
    },
    {
     "name": "stdout",
     "output_type": "stream",
     "text": [
      "Epoch 1/20\n"
     ]
    },
    {
     "name": "stderr",
     "output_type": "stream",
     "text": [
      "100%|██████████| 1300/1300 [01:49<00:00, 11.88it/s]\n"
     ]
    },
    {
     "name": "stdout",
     "output_type": "stream",
     "text": [
      "{'val_loss': 1.4830993711948395, 'val_accuracy': 0.6224256292906178, 'precision': 0.6148233638449644, 'recall': 0.6224256292906178, 'f1-score': 0.6044452293352307, 'macro_f1-score': 0.373265553554438, 'balanced_accuracy': 0.3774901715913735, 'mcc': 0.4980570613984091, 'train_loss': 1.4113945792901974}\n",
      "Epoch 2/20\n"
     ]
    },
    {
     "name": "stderr",
     "output_type": "stream",
     "text": [
      "100%|██████████| 1300/1300 [01:49<00:00, 11.88it/s]\n"
     ]
    },
    {
     "name": "stdout",
     "output_type": "stream",
     "text": [
      "{'val_loss': 1.6693362084830679, 'val_accuracy': 0.6147978642257819, 'precision': 0.6025619678768782, 'recall': 0.6147978642257819, 'f1-score': 0.603089410359377, 'macro_f1-score': 0.33469814551665494, 'balanced_accuracy': 0.35625433016074637, 'mcc': 0.498036199569384, 'train_loss': 0.2347431484122689}\n",
      "Epoch 3/20\n"
     ]
    },
    {
     "name": "stderr",
     "output_type": "stream",
     "text": [
      "100%|██████████| 1300/1300 [01:49<00:00, 11.88it/s]\n"
     ]
    },
    {
     "name": "stdout",
     "output_type": "stream",
     "text": [
      "{'val_loss': 1.916459560394287, 'val_accuracy': 0.6231884057971014, 'precision': 0.6356648327111346, 'recall': 0.6231884057971014, 'f1-score': 0.6187912116527426, 'macro_f1-score': 0.3674114776306343, 'balanced_accuracy': 0.3764248538606238, 'mcc': 0.5138892527247241, 'train_loss': 0.11650218024849891}\n",
      "Epoch 4/20\n"
     ]
    },
    {
     "name": "stderr",
     "output_type": "stream",
     "text": [
      "100%|██████████| 1300/1300 [01:49<00:00, 11.88it/s]\n"
     ]
    },
    {
     "name": "stdout",
     "output_type": "stream",
     "text": [
      "{'val_loss': 2.1371556891173853, 'val_accuracy': 0.6025934401220442, 'precision': 0.6124395643496026, 'recall': 0.6025934401220442, 'f1-score': 0.5956279877167836, 'macro_f1-score': 0.35323972677191423, 'balanced_accuracy': 0.34802441725265815, 'mcc': 0.4813307144737639, 'train_loss': 0.08168295055968114}\n",
      "Early stopping.\n",
      "\n",
      "[Fold 3]\n",
      "Label distribution after resampling:\n",
      "  label 0: 2000\n",
      "  label 1: 400\n",
      "  label 2: 400\n",
      "  label 3: 400\n",
      "  label 4: 400\n",
      "  label 5: 400\n",
      "  label 6: 400\n",
      "  label 7: 400\n",
      "  label 8: 400\n",
      "  label 9: 400\n",
      "  label 10: 400\n",
      "  label 11: 400\n",
      "  label 12: 400\n",
      "  label 13: 400\n",
      "  label 14: 400\n",
      "  label 15: 400\n",
      "  label 16: 400\n",
      "  label 17: 400\n",
      "  label 18: 400\n",
      "  label 19: 400\n",
      "  label 20: 400\n",
      "  label 21: 400\n",
      "  label 22: 400\n",
      "  label 23: 400\n",
      "  label 24: 400\n",
      "  label 25: 400\n",
      "  label 26: 400\n",
      "  label 27: 400\n",
      "  label 28: 400\n",
      "  label 29: 400\n",
      "  label 30: 400\n",
      "  label 31: 400\n",
      "  label 32: 400\n",
      "  label 33: 400\n",
      "  label 34: 400\n",
      "  label 35: 400\n",
      "  label 36: 400\n",
      "  label 37: 400\n",
      "  label 38: 400\n",
      "  label 39: 400\n",
      "  label 40: 400\n",
      "  label 41: 400\n",
      "  label 42: 400\n",
      "  label 43: 400\n",
      "  label 44: 400\n",
      "  label 45: 400\n",
      "  label 46: 400\n",
      "  label 47: 400\n",
      "model is bert-base-uncased\n"
     ]
    },
    {
     "name": "stderr",
     "output_type": "stream",
     "text": [
      "Some weights of BertForSequenceClassification were not initialized from the model checkpoint at bert-base-uncased and are newly initialized: ['classifier.bias', 'classifier.weight']\n",
      "You should probably TRAIN this model on a down-stream task to be able to use it for predictions and inference.\n"
     ]
    },
    {
     "name": "stdout",
     "output_type": "stream",
     "text": [
      "Epoch 1/20\n"
     ]
    },
    {
     "name": "stderr",
     "output_type": "stream",
     "text": [
      "100%|██████████| 1300/1300 [01:49<00:00, 11.88it/s]\n"
     ]
    },
    {
     "name": "stdout",
     "output_type": "stream",
     "text": [
      "{'val_loss': 1.5474902711263516, 'val_accuracy': 0.6186117467581999, 'precision': 0.6154603709364302, 'recall': 0.6186117467581999, 'f1-score': 0.6033120812150526, 'macro_f1-score': 0.3677882897944549, 'balanced_accuracy': 0.35392579076215736, 'mcc': 0.4895469175071127, 'train_loss': 1.3978995889654526}\n",
      "Epoch 2/20\n"
     ]
    },
    {
     "name": "stderr",
     "output_type": "stream",
     "text": [
      "100%|██████████| 1300/1300 [01:49<00:00, 11.88it/s]\n"
     ]
    },
    {
     "name": "stdout",
     "output_type": "stream",
     "text": [
      "{'val_loss': 1.7361811065092319, 'val_accuracy': 0.627765064836003, 'precision': 0.6035802718742608, 'recall': 0.627765064836003, 'f1-score': 0.6006938627378422, 'macro_f1-score': 0.36012411364416924, 'balanced_accuracy': 0.3318392932056538, 'mcc': 0.490104887248955, 'train_loss': 0.21569128403010276}\n",
      "Epoch 3/20\n"
     ]
    },
    {
     "name": "stderr",
     "output_type": "stream",
     "text": [
      "100%|██████████| 1300/1300 [01:49<00:00, 11.88it/s]\n"
     ]
    },
    {
     "name": "stdout",
     "output_type": "stream",
     "text": [
      "{'val_loss': 2.1556194304693035, 'val_accuracy': 0.5560640732265446, 'precision': 0.6267377521451543, 'recall': 0.5560640732265446, 'f1-score': 0.5779043391631127, 'macro_f1-score': 0.37190824406544304, 'balanced_accuracy': 0.37010911900482685, 'mcc': 0.4480591201768849, 'train_loss': 0.1126356150718549}\n",
      "Epoch 4/20\n"
     ]
    },
    {
     "name": "stderr",
     "output_type": "stream",
     "text": [
      "100%|██████████| 1300/1300 [01:49<00:00, 11.88it/s]\n"
     ]
    },
    {
     "name": "stdout",
     "output_type": "stream",
     "text": [
      "{'val_loss': 2.200657405504366, 'val_accuracy': 0.6025934401220442, 'precision': 0.6127500224202592, 'recall': 0.6025934401220442, 'f1-score': 0.599073238449142, 'macro_f1-score': 0.37747184516944365, 'balanced_accuracy': 0.3893402116362756, 'mcc': 0.49001012237850294, 'train_loss': 0.09161455424968153}\n",
      "Epoch 5/20\n"
     ]
    },
    {
     "name": "stderr",
     "output_type": "stream",
     "text": [
      "100%|██████████| 1300/1300 [01:49<00:00, 11.88it/s]\n"
     ]
    },
    {
     "name": "stdout",
     "output_type": "stream",
     "text": [
      "{'val_loss': 2.2871655807262514, 'val_accuracy': 0.6041189931350115, 'precision': 0.6359280983918285, 'recall': 0.6041189931350115, 'f1-score': 0.6087524506500002, 'macro_f1-score': 0.3939153805223834, 'balanced_accuracy': 0.41126330496357594, 'mcc': 0.49985920089807706, 'train_loss': 0.07422699783194381}\n",
      "Epoch 6/20\n"
     ]
    },
    {
     "name": "stderr",
     "output_type": "stream",
     "text": [
      "100%|██████████| 1300/1300 [01:49<00:00, 11.88it/s]\n"
     ]
    },
    {
     "name": "stdout",
     "output_type": "stream",
     "text": [
      "{'val_loss': 2.4048940283132763, 'val_accuracy': 0.6109839816933639, 'precision': 0.6404198923198743, 'recall': 0.6109839816933639, 'f1-score': 0.6149952686584153, 'macro_f1-score': 0.39302529170895534, 'balanced_accuracy': 0.4042495541113178, 'mcc': 0.507491263951708, 'train_loss': 0.0502057098010734}\n",
      "Epoch 7/20\n"
     ]
    },
    {
     "name": "stderr",
     "output_type": "stream",
     "text": [
      "100%|██████████| 1300/1300 [01:49<00:00, 11.88it/s]\n"
     ]
    },
    {
     "name": "stdout",
     "output_type": "stream",
     "text": [
      "{'val_loss': 2.178694281431778, 'val_accuracy': 0.6399694889397407, 'precision': 0.6163744071610665, 'recall': 0.6399694889397407, 'f1-score': 0.6117405629606857, 'macro_f1-score': 0.37881213244372675, 'balanced_accuracy': 0.3638707880623057, 'mcc': 0.5058949397967762, 'train_loss': 0.06568647644285543}\n",
      "Epoch 8/20\n"
     ]
    },
    {
     "name": "stderr",
     "output_type": "stream",
     "text": [
      "100%|██████████| 1300/1300 [01:49<00:00, 11.88it/s]\n"
     ]
    },
    {
     "name": "stdout",
     "output_type": "stream",
     "text": [
      "{'val_loss': 2.4625526931954593, 'val_accuracy': 0.6109839816933639, 'precision': 0.6161181615730459, 'recall': 0.6109839816933639, 'f1-score': 0.6030318540970679, 'macro_f1-score': 0.3693790552057807, 'balanced_accuracy': 0.3725439892710815, 'mcc': 0.4948913916004929, 'train_loss': 0.04065280231011387}\n",
      "Early stopping.\n",
      "\n",
      "[Fold 4]\n",
      "Label distribution after resampling:\n",
      "  label 0: 2000\n",
      "  label 1: 400\n",
      "  label 2: 400\n",
      "  label 3: 400\n",
      "  label 4: 400\n",
      "  label 5: 400\n",
      "  label 6: 400\n",
      "  label 7: 400\n",
      "  label 8: 400\n",
      "  label 9: 400\n",
      "  label 10: 400\n",
      "  label 11: 400\n",
      "  label 12: 400\n",
      "  label 13: 400\n",
      "  label 14: 400\n",
      "  label 15: 400\n",
      "  label 16: 400\n",
      "  label 17: 400\n",
      "  label 18: 400\n",
      "  label 19: 400\n",
      "  label 20: 400\n",
      "  label 21: 400\n",
      "  label 22: 400\n",
      "  label 23: 400\n",
      "  label 24: 400\n",
      "  label 25: 400\n",
      "  label 26: 400\n",
      "  label 27: 400\n",
      "  label 28: 400\n",
      "  label 29: 400\n",
      "  label 30: 400\n",
      "  label 31: 400\n",
      "  label 32: 400\n",
      "  label 33: 400\n",
      "  label 34: 400\n",
      "  label 35: 400\n",
      "  label 36: 400\n",
      "  label 37: 400\n",
      "  label 38: 400\n",
      "  label 39: 400\n",
      "  label 40: 400\n",
      "  label 41: 400\n",
      "  label 42: 400\n",
      "  label 43: 400\n",
      "  label 44: 400\n",
      "  label 45: 400\n",
      "  label 46: 400\n",
      "  label 47: 400\n",
      "model is bert-base-uncased\n"
     ]
    },
    {
     "name": "stderr",
     "output_type": "stream",
     "text": [
      "Some weights of BertForSequenceClassification were not initialized from the model checkpoint at bert-base-uncased and are newly initialized: ['classifier.bias', 'classifier.weight']\n",
      "You should probably TRAIN this model on a down-stream task to be able to use it for predictions and inference.\n"
     ]
    },
    {
     "name": "stdout",
     "output_type": "stream",
     "text": [
      "Epoch 1/20\n"
     ]
    },
    {
     "name": "stderr",
     "output_type": "stream",
     "text": [
      "100%|██████████| 1300/1300 [01:49<00:00, 11.88it/s]\n"
     ]
    },
    {
     "name": "stdout",
     "output_type": "stream",
     "text": [
      "{'val_loss': 1.499678237590848, 'val_accuracy': 0.6346300533943554, 'precision': 0.6168965591054931, 'recall': 0.6346300533943554, 'f1-score': 0.6029365107248174, 'macro_f1-score': 0.37718622873613, 'balanced_accuracy': 0.35865075529955, 'mcc': 0.4929321160685924, 'train_loss': 1.4424822944918505}\n",
      "Epoch 2/20\n"
     ]
    },
    {
     "name": "stderr",
     "output_type": "stream",
     "text": [
      "100%|██████████| 1300/1300 [01:49<00:00, 11.88it/s]\n"
     ]
    },
    {
     "name": "stdout",
     "output_type": "stream",
     "text": [
      "{'val_loss': 1.638628560595396, 'val_accuracy': 0.6209000762776506, 'precision': 0.6431961993761537, 'recall': 0.6209000762776506, 'f1-score': 0.6245410739323158, 'macro_f1-score': 0.4286509512733789, 'balanced_accuracy': 0.4289926870683501, 'mcc': 0.5115773436056041, 'train_loss': 0.22732221350933496}\n",
      "Epoch 3/20\n"
     ]
    },
    {
     "name": "stderr",
     "output_type": "stream",
     "text": [
      "100%|██████████| 1300/1300 [01:49<00:00, 11.89it/s]\n"
     ]
    },
    {
     "name": "stdout",
     "output_type": "stream",
     "text": [
      "{'val_loss': 1.7489044651752566, 'val_accuracy': 0.6437833714721587, 'precision': 0.6394007618690322, 'recall': 0.6437833714721587, 'f1-score': 0.6364726121844289, 'macro_f1-score': 0.40776642295048854, 'balanced_accuracy': 0.4194012163971535, 'mcc': 0.5331692160971341, 'train_loss': 0.1112764596237013}\n",
      "Epoch 4/20\n"
     ]
    },
    {
     "name": "stderr",
     "output_type": "stream",
     "text": [
      "100%|██████████| 1300/1300 [01:49<00:00, 11.88it/s]\n"
     ]
    },
    {
     "name": "stdout",
     "output_type": "stream",
     "text": [
      "{'val_loss': 1.9271702059521907, 'val_accuracy': 0.6498855835240275, 'precision': 0.6389359529464936, 'recall': 0.6498855835240275, 'f1-score': 0.6344775435504203, 'macro_f1-score': 0.40810692290108613, 'balanced_accuracy': 0.40254107101538916, 'mcc': 0.5282098174846556, 'train_loss': 0.08472762731584506}\n",
      "Epoch 5/20\n"
     ]
    },
    {
     "name": "stderr",
     "output_type": "stream",
     "text": [
      "100%|██████████| 1300/1300 [01:49<00:00, 11.88it/s]\n"
     ]
    },
    {
     "name": "stdout",
     "output_type": "stream",
     "text": [
      "{'val_loss': 2.1639294050088744, 'val_accuracy': 0.6193745232646835, 'precision': 0.6446399851417892, 'recall': 0.6193745232646835, 'f1-score': 0.6245489467951625, 'macro_f1-score': 0.4174979795888089, 'balanced_accuracy': 0.43032088205385755, 'mcc': 0.51664744438083, 'train_loss': 0.07656560199460588}\n",
      "Early stopping.\n",
      "\n",
      "[Fold 5]\n",
      "Label distribution after resampling:\n",
      "  label 0: 2000\n",
      "  label 1: 400\n",
      "  label 2: 400\n",
      "  label 3: 400\n",
      "  label 4: 400\n",
      "  label 5: 400\n",
      "  label 6: 400\n",
      "  label 7: 400\n",
      "  label 8: 400\n",
      "  label 9: 400\n",
      "  label 10: 400\n",
      "  label 11: 400\n",
      "  label 12: 400\n",
      "  label 13: 400\n",
      "  label 14: 400\n",
      "  label 15: 400\n",
      "  label 16: 400\n",
      "  label 17: 400\n",
      "  label 18: 400\n",
      "  label 19: 400\n",
      "  label 20: 400\n",
      "  label 21: 400\n",
      "  label 22: 400\n",
      "  label 23: 400\n",
      "  label 24: 400\n",
      "  label 25: 400\n",
      "  label 26: 400\n",
      "  label 27: 400\n",
      "  label 28: 400\n",
      "  label 29: 400\n",
      "  label 30: 400\n",
      "  label 31: 400\n",
      "  label 32: 400\n",
      "  label 33: 400\n",
      "  label 34: 400\n",
      "  label 35: 400\n",
      "  label 36: 400\n",
      "  label 37: 400\n",
      "  label 38: 400\n",
      "  label 39: 400\n",
      "  label 40: 400\n",
      "  label 41: 400\n",
      "  label 42: 400\n",
      "  label 43: 400\n",
      "  label 44: 400\n",
      "  label 45: 400\n",
      "  label 46: 400\n",
      "  label 47: 400\n",
      "model is bert-base-uncased\n"
     ]
    },
    {
     "name": "stderr",
     "output_type": "stream",
     "text": [
      "Some weights of BertForSequenceClassification were not initialized from the model checkpoint at bert-base-uncased and are newly initialized: ['classifier.bias', 'classifier.weight']\n",
      "You should probably TRAIN this model on a down-stream task to be able to use it for predictions and inference.\n"
     ]
    },
    {
     "name": "stdout",
     "output_type": "stream",
     "text": [
      "Epoch 1/20\n"
     ]
    },
    {
     "name": "stderr",
     "output_type": "stream",
     "text": [
      "100%|██████████| 1300/1300 [01:49<00:00, 11.88it/s]\n"
     ]
    },
    {
     "name": "stdout",
     "output_type": "stream",
     "text": [
      "{'val_loss': 1.5370787087737061, 'val_accuracy': 0.5995423340961098, 'precision': 0.6337298466403566, 'recall': 0.5995423340961098, 'f1-score': 0.6009890556959445, 'macro_f1-score': 0.4322823918663726, 'balanced_accuracy': 0.46579937063850646, 'mcc': 0.4920727353243029, 'train_loss': 1.4686568183566515}\n",
      "Epoch 2/20\n"
     ]
    },
    {
     "name": "stderr",
     "output_type": "stream",
     "text": [
      "100%|██████████| 1300/1300 [01:49<00:00, 11.88it/s]\n"
     ]
    },
    {
     "name": "stdout",
     "output_type": "stream",
     "text": [
      "{'val_loss': 1.6991980686420347, 'val_accuracy': 0.6193745232646835, 'precision': 0.6584100485356378, 'recall': 0.6193745232646835, 'f1-score': 0.6220990745307485, 'macro_f1-score': 0.4310159919948031, 'balanced_accuracy': 0.42555610183150067, 'mcc': 0.5217060091566845, 'train_loss': 0.22603956142440437}\n",
      "Epoch 3/20\n"
     ]
    },
    {
     "name": "stderr",
     "output_type": "stream",
     "text": [
      "100%|██████████| 1300/1300 [01:49<00:00, 11.88it/s]\n"
     ]
    },
    {
     "name": "stdout",
     "output_type": "stream",
     "text": [
      "{'val_loss': 1.8339772602406943, 'val_accuracy': 0.635392829900839, 'precision': 0.6410591290911118, 'recall': 0.635392829900839, 'f1-score': 0.6292314037073096, 'macro_f1-score': 0.4345792069358765, 'balanced_accuracy': 0.425881311134227, 'mcc': 0.5202471657346384, 'train_loss': 0.10451919785736559}\n",
      "Epoch 4/20\n"
     ]
    },
    {
     "name": "stderr",
     "output_type": "stream",
     "text": [
      "100%|██████████| 1300/1300 [01:49<00:00, 11.88it/s]\n"
     ]
    },
    {
     "name": "stdout",
     "output_type": "stream",
     "text": [
      "{'val_loss': 1.8699438368401877, 'val_accuracy': 0.6613272311212814, 'precision': 0.6550318204262064, 'recall': 0.6613272311212814, 'f1-score': 0.6484120029174865, 'macro_f1-score': 0.43800880417422494, 'balanced_accuracy': 0.4416207536269054, 'mcc': 0.5509090076481482, 'train_loss': 0.08114902319529882}\n",
      "Epoch 5/20\n"
     ]
    },
    {
     "name": "stderr",
     "output_type": "stream",
     "text": [
      "100%|██████████| 1300/1300 [01:49<00:00, 11.88it/s]\n"
     ]
    },
    {
     "name": "stdout",
     "output_type": "stream",
     "text": [
      "{'val_loss': 2.1143028634350474, 'val_accuracy': 0.6147978642257819, 'precision': 0.6557876406230729, 'recall': 0.6147978642257819, 'f1-score': 0.6221306481588312, 'macro_f1-score': 0.432114632983716, 'balanced_accuracy': 0.4173019086544986, 'mcc': 0.5108001711378892, 'train_loss': 0.07233315608947753}\n",
      "Epoch 6/20\n"
     ]
    },
    {
     "name": "stderr",
     "output_type": "stream",
     "text": [
      "100%|██████████| 1300/1300 [01:49<00:00, 11.88it/s]\n"
     ]
    },
    {
     "name": "stdout",
     "output_type": "stream",
     "text": [
      "{'val_loss': 1.9117807673244942, 'val_accuracy': 0.6651411136536994, 'precision': 0.6545369484895585, 'recall': 0.6651411136536994, 'f1-score': 0.6424090370969788, 'macro_f1-score': 0.4329743870187188, 'balanced_accuracy': 0.4114366843818842, 'mcc': 0.5450560596054921, 'train_loss': 0.06264252147091051}\n",
      "Epoch 7/20\n"
     ]
    },
    {
     "name": "stderr",
     "output_type": "stream",
     "text": [
      "100%|██████████| 1300/1300 [01:49<00:00, 11.88it/s]\n"
     ]
    },
    {
     "name": "stdout",
     "output_type": "stream",
     "text": [
      "{'val_loss': 2.116300715542421, 'val_accuracy': 0.635392829900839, 'precision': 0.6350253004470258, 'recall': 0.635392829900839, 'f1-score': 0.6220054139054886, 'macro_f1-score': 0.4012803944942205, 'balanced_accuracy': 0.38910149948885425, 'mcc': 0.5252991338018287, 'train_loss': 0.05078195362817496}\n",
      "Early stopping.\n",
      "\n",
      " === bert-base-uncased + plain + ros Final 5-fold Cross-Validation Results ===\n",
      "val_loss: 1.8739\n",
      "val_accuracy: 0.6298\n",
      "precision: 0.6407\n",
      "recall: 0.6298\n",
      "f1-score: 0.6236\n",
      "macro_f1-score: 0.4159\n",
      "balanced_accuracy: 0.4263\n",
      "mcc: 0.5183\n",
      "train_loss: 0.3715\n",
      "total_seconds: 3829.0000\n",
      "total_time: 1 hrs 3 mins 49 secs\n",
      "▶ Running: bert-base-uncased + cnn + ros\n",
      "tokenizer is bert-base-uncased\n",
      "Using device: cuda\n",
      "CUDA Available: True\n",
      "CUDA Device: NVIDIA GeForce RTX 5070 Ti\n",
      "Current GPU Memory Allocated: 0.02 GB\n",
      "Current GPU Memory Cached: 3.03 GB\n",
      "\n",
      "[Fold 1]\n",
      "Label distribution after resampling:\n",
      "  label 0: 2000\n",
      "  label 1: 400\n",
      "  label 2: 400\n",
      "  label 3: 400\n",
      "  label 4: 400\n",
      "  label 5: 400\n",
      "  label 6: 400\n",
      "  label 7: 400\n",
      "  label 8: 400\n",
      "  label 9: 400\n",
      "  label 10: 400\n",
      "  label 11: 400\n",
      "  label 12: 400\n",
      "  label 13: 400\n",
      "  label 14: 400\n",
      "  label 15: 400\n",
      "  label 16: 400\n",
      "  label 17: 400\n",
      "  label 18: 400\n",
      "  label 19: 400\n",
      "  label 20: 400\n",
      "  label 21: 400\n",
      "  label 22: 400\n",
      "  label 23: 400\n",
      "  label 24: 400\n",
      "  label 25: 400\n",
      "  label 26: 400\n",
      "  label 27: 400\n",
      "  label 28: 400\n",
      "  label 29: 400\n",
      "  label 30: 400\n",
      "  label 31: 400\n",
      "  label 32: 400\n",
      "  label 33: 400\n",
      "  label 34: 400\n",
      "  label 35: 400\n",
      "  label 36: 400\n",
      "  label 37: 400\n",
      "  label 38: 400\n",
      "  label 39: 400\n",
      "  label 40: 400\n",
      "  label 41: 400\n",
      "  label 42: 400\n",
      "  label 43: 400\n",
      "  label 44: 400\n",
      "  label 45: 400\n",
      "  label 46: 400\n",
      "  label 47: 400\n",
      "model is bert-base-uncased cnn\n",
      "Epoch 1/20\n"
     ]
    },
    {
     "name": "stderr",
     "output_type": "stream",
     "text": [
      "100%|██████████| 1300/1300 [01:52<00:00, 11.60it/s]\n"
     ]
    },
    {
     "name": "stdout",
     "output_type": "stream",
     "text": [
      "{'val_loss': 1.5483456388479326, 'val_accuracy': 0.5983231707317073, 'precision': 0.6128846682991654, 'recall': 0.5983231707317073, 'f1-score': 0.58883794330128, 'macro_f1-score': 0.36788325535508853, 'balanced_accuracy': 0.3796183438686349, 'mcc': 0.4669982904009145, 'train_loss': 1.4592957485811069}\n",
      "Epoch 2/20\n"
     ]
    },
    {
     "name": "stderr",
     "output_type": "stream",
     "text": [
      "100%|██████████| 1300/1300 [01:51<00:00, 11.63it/s]\n"
     ]
    },
    {
     "name": "stdout",
     "output_type": "stream",
     "text": [
      "{'val_loss': 1.7932851169167496, 'val_accuracy': 0.6410060975609756, 'precision': 0.6229887718238165, 'recall': 0.6410060975609756, 'f1-score': 0.6200145509169042, 'macro_f1-score': 0.3940578544663343, 'balanced_accuracy': 0.37774426872394273, 'mcc': 0.5104041269644063, 'train_loss': 0.2808032885351433}\n",
      "Epoch 3/20\n"
     ]
    },
    {
     "name": "stderr",
     "output_type": "stream",
     "text": [
      "100%|██████████| 1300/1300 [01:51<00:00, 11.63it/s]\n"
     ]
    },
    {
     "name": "stdout",
     "output_type": "stream",
     "text": [
      "{'val_loss': 1.8294386282199766, 'val_accuracy': 0.6417682926829268, 'precision': 0.6371357734941043, 'recall': 0.6417682926829268, 'f1-score': 0.6297716393803277, 'macro_f1-score': 0.40581507647442844, 'balanced_accuracy': 0.4091196803113206, 'mcc': 0.5210599232813532, 'train_loss': 0.15951777537102596}\n",
      "Epoch 4/20\n"
     ]
    },
    {
     "name": "stderr",
     "output_type": "stream",
     "text": [
      "100%|██████████| 1300/1300 [01:51<00:00, 11.63it/s]\n"
     ]
    },
    {
     "name": "stdout",
     "output_type": "stream",
     "text": [
      "{'val_loss': 2.009754616403725, 'val_accuracy': 0.6432926829268293, 'precision': 0.6477856147817783, 'recall': 0.6432926829268293, 'f1-score': 0.6365219481735542, 'macro_f1-score': 0.43087776460209554, 'balanced_accuracy': 0.44189809923117207, 'mcc': 0.5268368290840236, 'train_loss': 0.11337488392564969}\n",
      "Epoch 5/20\n"
     ]
    },
    {
     "name": "stderr",
     "output_type": "stream",
     "text": [
      "100%|██████████| 1300/1300 [01:51<00:00, 11.63it/s]\n"
     ]
    },
    {
     "name": "stdout",
     "output_type": "stream",
     "text": [
      "{'val_loss': 1.9824279299596461, 'val_accuracy': 0.6288109756097561, 'precision': 0.6517214645151395, 'recall': 0.6288109756097561, 'f1-score': 0.6322701608271424, 'macro_f1-score': 0.42973946823534587, 'balanced_accuracy': 0.4437084716060873, 'mcc': 0.5226442599182277, 'train_loss': 0.1001835534926683}\n",
      "Epoch 6/20\n"
     ]
    },
    {
     "name": "stderr",
     "output_type": "stream",
     "text": [
      "100%|██████████| 1300/1300 [01:51<00:00, 11.63it/s]\n"
     ]
    },
    {
     "name": "stdout",
     "output_type": "stream",
     "text": [
      "{'val_loss': 2.1478049878667043, 'val_accuracy': 0.6516768292682927, 'precision': 0.6410001828343126, 'recall': 0.6516768292682927, 'f1-score': 0.6299397769664179, 'macro_f1-score': 0.4061914648787555, 'balanced_accuracy': 0.41082063936111196, 'mcc': 0.5279799958198541, 'train_loss': 0.0864052792693166}\n",
      "Epoch 7/20\n"
     ]
    },
    {
     "name": "stderr",
     "output_type": "stream",
     "text": [
      "100%|██████████| 1300/1300 [01:51<00:00, 11.63it/s]\n"
     ]
    },
    {
     "name": "stdout",
     "output_type": "stream",
     "text": [
      "{'val_loss': 2.2134444689968737, 'val_accuracy': 0.6402439024390244, 'precision': 0.6353186394992014, 'recall': 0.6402439024390244, 'f1-score': 0.6266397907934805, 'macro_f1-score': 0.4053855106201374, 'balanced_accuracy': 0.4022907614107221, 'mcc': 0.5173599818185615, 'train_loss': 0.08897644762191563}\n",
      "Early stopping.\n",
      "\n",
      "[Fold 2]\n",
      "Label distribution after resampling:\n",
      "  label 0: 2000\n",
      "  label 1: 400\n",
      "  label 2: 400\n",
      "  label 3: 400\n",
      "  label 4: 400\n",
      "  label 5: 400\n",
      "  label 6: 400\n",
      "  label 7: 400\n",
      "  label 8: 400\n",
      "  label 9: 400\n",
      "  label 10: 400\n",
      "  label 11: 400\n",
      "  label 12: 400\n",
      "  label 13: 400\n",
      "  label 14: 400\n",
      "  label 15: 400\n",
      "  label 16: 400\n",
      "  label 17: 400\n",
      "  label 18: 400\n",
      "  label 19: 400\n",
      "  label 20: 400\n",
      "  label 21: 400\n",
      "  label 22: 400\n",
      "  label 23: 400\n",
      "  label 24: 400\n",
      "  label 25: 400\n",
      "  label 26: 400\n",
      "  label 27: 400\n",
      "  label 28: 400\n",
      "  label 29: 400\n",
      "  label 30: 400\n",
      "  label 31: 400\n",
      "  label 32: 400\n",
      "  label 33: 400\n",
      "  label 34: 400\n",
      "  label 35: 400\n",
      "  label 36: 400\n",
      "  label 37: 400\n",
      "  label 38: 400\n",
      "  label 39: 400\n",
      "  label 40: 400\n",
      "  label 41: 400\n",
      "  label 42: 400\n",
      "  label 43: 400\n",
      "  label 44: 400\n",
      "  label 45: 400\n",
      "  label 46: 400\n",
      "  label 47: 400\n",
      "model is bert-base-uncased cnn\n",
      "Epoch 1/20\n"
     ]
    },
    {
     "name": "stderr",
     "output_type": "stream",
     "text": [
      "100%|██████████| 1300/1300 [01:51<00:00, 11.63it/s]\n"
     ]
    },
    {
     "name": "stdout",
     "output_type": "stream",
     "text": [
      "{'val_loss': 1.722527933556859, 'val_accuracy': 0.5453852021357742, 'precision': 0.6376263290862457, 'recall': 0.5453852021357742, 'f1-score': 0.5732463339849397, 'macro_f1-score': 0.3739836697052554, 'balanced_accuracy': 0.4247257198698133, 'mcc': 0.45735114280537736, 'train_loss': 1.4503501380492863}\n",
      "Epoch 2/20\n"
     ]
    },
    {
     "name": "stderr",
     "output_type": "stream",
     "text": [
      "100%|██████████| 1300/1300 [01:51<00:00, 11.64it/s]\n"
     ]
    },
    {
     "name": "stdout",
     "output_type": "stream",
     "text": [
      "{'val_loss': 1.8029492130366767, 'val_accuracy': 0.6445461479786423, 'precision': 0.606168519449562, 'recall': 0.6445461479786423, 'f1-score': 0.5992130733842802, 'macro_f1-score': 0.32718063442071643, 'balanced_accuracy': 0.3025632731575864, 'mcc': 0.5027985310246526, 'train_loss': 0.2707147871108296}\n",
      "Epoch 3/20\n"
     ]
    },
    {
     "name": "stderr",
     "output_type": "stream",
     "text": [
      "100%|██████████| 1300/1300 [01:51<00:00, 11.63it/s]\n"
     ]
    },
    {
     "name": "stdout",
     "output_type": "stream",
     "text": [
      "{'val_loss': 1.9595570666034048, 'val_accuracy': 0.6170861937452327, 'precision': 0.6283157285872402, 'recall': 0.6170861937452327, 'f1-score': 0.6126577277750507, 'macro_f1-score': 0.3724926072849035, 'balanced_accuracy': 0.3851263268852266, 'mcc': 0.5051029498673937, 'train_loss': 0.15063676559205094}\n",
      "Epoch 4/20\n"
     ]
    },
    {
     "name": "stderr",
     "output_type": "stream",
     "text": [
      "100%|██████████| 1300/1300 [01:51<00:00, 11.64it/s]\n"
     ]
    },
    {
     "name": "stdout",
     "output_type": "stream",
     "text": [
      "{'val_loss': 2.0381364964130446, 'val_accuracy': 0.6422578184591915, 'precision': 0.6322251961129622, 'recall': 0.6422578184591915, 'f1-score': 0.6298256444245488, 'macro_f1-score': 0.36529862225945803, 'balanced_accuracy': 0.3898398576656799, 'mcc': 0.5318921546094119, 'train_loss': 0.1013929081779833}\n",
      "Early stopping.\n",
      "\n",
      "[Fold 3]\n",
      "Label distribution after resampling:\n",
      "  label 0: 2000\n",
      "  label 1: 400\n",
      "  label 2: 400\n",
      "  label 3: 400\n",
      "  label 4: 400\n",
      "  label 5: 400\n",
      "  label 6: 400\n",
      "  label 7: 400\n",
      "  label 8: 400\n",
      "  label 9: 400\n",
      "  label 10: 400\n",
      "  label 11: 400\n",
      "  label 12: 400\n",
      "  label 13: 400\n",
      "  label 14: 400\n",
      "  label 15: 400\n",
      "  label 16: 400\n",
      "  label 17: 400\n",
      "  label 18: 400\n",
      "  label 19: 400\n",
      "  label 20: 400\n",
      "  label 21: 400\n",
      "  label 22: 400\n",
      "  label 23: 400\n",
      "  label 24: 400\n",
      "  label 25: 400\n",
      "  label 26: 400\n",
      "  label 27: 400\n",
      "  label 28: 400\n",
      "  label 29: 400\n",
      "  label 30: 400\n",
      "  label 31: 400\n",
      "  label 32: 400\n",
      "  label 33: 400\n",
      "  label 34: 400\n",
      "  label 35: 400\n",
      "  label 36: 400\n",
      "  label 37: 400\n",
      "  label 38: 400\n",
      "  label 39: 400\n",
      "  label 40: 400\n",
      "  label 41: 400\n",
      "  label 42: 400\n",
      "  label 43: 400\n",
      "  label 44: 400\n",
      "  label 45: 400\n",
      "  label 46: 400\n",
      "  label 47: 400\n",
      "model is bert-base-uncased cnn\n",
      "Epoch 1/20\n"
     ]
    },
    {
     "name": "stderr",
     "output_type": "stream",
     "text": [
      "100%|██████████| 1300/1300 [01:51<00:00, 11.63it/s]\n"
     ]
    },
    {
     "name": "stdout",
     "output_type": "stream",
     "text": [
      "{'val_loss': 1.803704032810723, 'val_accuracy': 0.5491990846681922, 'precision': 0.6322831200078545, 'recall': 0.5491990846681922, 'f1-score': 0.5720224863542784, 'macro_f1-score': 0.3841446296096483, 'balanced_accuracy': 0.41527442549733024, 'mcc': 0.44848873685538776, 'train_loss': 1.4465225475166852}\n",
      "Epoch 2/20\n"
     ]
    },
    {
     "name": "stderr",
     "output_type": "stream",
     "text": [
      "100%|██████████| 1300/1300 [01:51<00:00, 11.63it/s]\n"
     ]
    },
    {
     "name": "stdout",
     "output_type": "stream",
     "text": [
      "{'val_loss': 1.7928515843501904, 'val_accuracy': 0.6071700991609459, 'precision': 0.6060917441311093, 'recall': 0.6071700991609459, 'f1-score': 0.594764057592035, 'macro_f1-score': 0.38100529772337266, 'balanced_accuracy': 0.3762991769436641, 'mcc': 0.48048603542235063, 'train_loss': 0.2753874979927563}\n",
      "Epoch 3/20\n"
     ]
    },
    {
     "name": "stderr",
     "output_type": "stream",
     "text": [
      "100%|██████████| 1300/1300 [01:51<00:00, 11.63it/s]\n"
     ]
    },
    {
     "name": "stdout",
     "output_type": "stream",
     "text": [
      "{'val_loss': 2.0226099182192874, 'val_accuracy': 0.6147978642257819, 'precision': 0.6250609836105169, 'recall': 0.6147978642257819, 'f1-score': 0.6031106288618581, 'macro_f1-score': 0.3964584793662267, 'balanced_accuracy': 0.3744556920109537, 'mcc': 0.4793782376192069, 'train_loss': 0.14970078050266378}\n",
      "Epoch 4/20\n"
     ]
    },
    {
     "name": "stderr",
     "output_type": "stream",
     "text": [
      "100%|██████████| 1300/1300 [01:51<00:00, 11.63it/s]\n"
     ]
    },
    {
     "name": "stdout",
     "output_type": "stream",
     "text": [
      "{'val_loss': 2.0791297093397234, 'val_accuracy': 0.6079328756674295, 'precision': 0.6200736088699681, 'recall': 0.6079328756674295, 'f1-score': 0.6063190360717153, 'macro_f1-score': 0.3765694798606108, 'balanced_accuracy': 0.38116973493687634, 'mcc': 0.4865008945512002, 'train_loss': 0.11341206615844455}\n",
      "Epoch 5/20\n"
     ]
    },
    {
     "name": "stderr",
     "output_type": "stream",
     "text": [
      "100%|██████████| 1300/1300 [01:51<00:00, 11.63it/s]\n"
     ]
    },
    {
     "name": "stdout",
     "output_type": "stream",
     "text": [
      "{'val_loss': 2.314425962818105, 'val_accuracy': 0.6102212051868803, 'precision': 0.625248858138329, 'recall': 0.6102212051868803, 'f1-score': 0.6068262399478275, 'macro_f1-score': 0.3987416779083209, 'balanced_accuracy': 0.40063488944109116, 'mcc': 0.4914086675600773, 'train_loss': 0.09588332826217923}\n",
      "Epoch 6/20\n"
     ]
    },
    {
     "name": "stderr",
     "output_type": "stream",
     "text": [
      "100%|██████████| 1300/1300 [01:51<00:00, 11.63it/s]\n"
     ]
    },
    {
     "name": "stdout",
     "output_type": "stream",
     "text": [
      "{'val_loss': 2.3425704177877886, 'val_accuracy': 0.6041189931350115, 'precision': 0.6216040341287238, 'recall': 0.6041189931350115, 'f1-score': 0.60522205765327, 'macro_f1-score': 0.38434496079278446, 'balanced_accuracy': 0.3952906228241589, 'mcc': 0.4944940035899165, 'train_loss': 0.07449948501110507}\n",
      "Epoch 7/20\n"
     ]
    },
    {
     "name": "stderr",
     "output_type": "stream",
     "text": [
      "100%|██████████| 1300/1300 [01:51<00:00, 11.63it/s]\n"
     ]
    },
    {
     "name": "stdout",
     "output_type": "stream",
     "text": [
      "{'val_loss': 2.320334839748173, 'val_accuracy': 0.6048817696414951, 'precision': 0.6264689896211018, 'recall': 0.6048817696414951, 'f1-score': 0.6052669283643584, 'macro_f1-score': 0.37724163269727257, 'balanced_accuracy': 0.37713975082043477, 'mcc': 0.4827679034362591, 'train_loss': 0.06746919104229444}\n",
      "Epoch 8/20\n"
     ]
    },
    {
     "name": "stderr",
     "output_type": "stream",
     "text": [
      "100%|██████████| 1300/1300 [01:51<00:00, 11.63it/s]\n"
     ]
    },
    {
     "name": "stdout",
     "output_type": "stream",
     "text": [
      "{'val_loss': 2.5576874252590462, 'val_accuracy': 0.6071700991609459, 'precision': 0.6415012743670259, 'recall': 0.6071700991609459, 'f1-score': 0.6136778961052463, 'macro_f1-score': 0.3958836100783156, 'balanced_accuracy': 0.38967676598442896, 'mcc': 0.4958629633678255, 'train_loss': 0.06176918805346269}\n",
      "Early stopping.\n",
      "\n",
      "[Fold 4]\n",
      "Label distribution after resampling:\n",
      "  label 0: 2000\n",
      "  label 1: 400\n",
      "  label 2: 400\n",
      "  label 3: 400\n",
      "  label 4: 400\n",
      "  label 5: 400\n",
      "  label 6: 400\n",
      "  label 7: 400\n",
      "  label 8: 400\n",
      "  label 9: 400\n",
      "  label 10: 400\n",
      "  label 11: 400\n",
      "  label 12: 400\n",
      "  label 13: 400\n",
      "  label 14: 400\n",
      "  label 15: 400\n",
      "  label 16: 400\n",
      "  label 17: 400\n",
      "  label 18: 400\n",
      "  label 19: 400\n",
      "  label 20: 400\n",
      "  label 21: 400\n",
      "  label 22: 400\n",
      "  label 23: 400\n",
      "  label 24: 400\n",
      "  label 25: 400\n",
      "  label 26: 400\n",
      "  label 27: 400\n",
      "  label 28: 400\n",
      "  label 29: 400\n",
      "  label 30: 400\n",
      "  label 31: 400\n",
      "  label 32: 400\n",
      "  label 33: 400\n",
      "  label 34: 400\n",
      "  label 35: 400\n",
      "  label 36: 400\n",
      "  label 37: 400\n",
      "  label 38: 400\n",
      "  label 39: 400\n",
      "  label 40: 400\n",
      "  label 41: 400\n",
      "  label 42: 400\n",
      "  label 43: 400\n",
      "  label 44: 400\n",
      "  label 45: 400\n",
      "  label 46: 400\n",
      "  label 47: 400\n",
      "model is bert-base-uncased cnn\n",
      "Epoch 1/20\n"
     ]
    },
    {
     "name": "stderr",
     "output_type": "stream",
     "text": [
      "100%|██████████| 1300/1300 [01:51<00:00, 11.64it/s]\n"
     ]
    },
    {
     "name": "stdout",
     "output_type": "stream",
     "text": [
      "{'val_loss': 1.5454014238060974, 'val_accuracy': 0.6033562166285278, 'precision': 0.6410933589727569, 'recall': 0.6033562166285278, 'f1-score': 0.6102565864798373, 'macro_f1-score': 0.3846521687338682, 'balanced_accuracy': 0.4316871333956312, 'mcc': 0.4980468594333604, 'train_loss': 1.4381788345770194}\n",
      "Epoch 2/20\n"
     ]
    },
    {
     "name": "stderr",
     "output_type": "stream",
     "text": [
      "100%|██████████| 1300/1300 [01:51<00:00, 11.63it/s]\n"
     ]
    },
    {
     "name": "stdout",
     "output_type": "stream",
     "text": [
      "{'val_loss': 1.7178161376860084, 'val_accuracy': 0.6384439359267735, 'precision': 0.6632641445379032, 'recall': 0.6384439359267735, 'f1-score': 0.6424560121713814, 'macro_f1-score': 0.42888428391673417, 'balanced_accuracy': 0.46586205064154834, 'mcc': 0.5377548621674373, 'train_loss': 0.25210134045865673}\n",
      "Epoch 3/20\n"
     ]
    },
    {
     "name": "stderr",
     "output_type": "stream",
     "text": [
      "100%|██████████| 1300/1300 [01:51<00:00, 11.63it/s]\n"
     ]
    },
    {
     "name": "stdout",
     "output_type": "stream",
     "text": [
      "{'val_loss': 1.9893265639136477, 'val_accuracy': 0.6117467581998475, 'precision': 0.6230902292804388, 'recall': 0.6117467581998475, 'f1-score': 0.6087542875434633, 'macro_f1-score': 0.3913167717486754, 'balanced_accuracy': 0.42307151968350326, 'mcc': 0.4965611909806914, 'train_loss': 0.14469013358752889}\n",
      "Epoch 4/20\n"
     ]
    },
    {
     "name": "stderr",
     "output_type": "stream",
     "text": [
      "100%|██████████| 1300/1300 [01:51<00:00, 11.63it/s]\n"
     ]
    },
    {
     "name": "stdout",
     "output_type": "stream",
     "text": [
      "{'val_loss': 1.970504815622074, 'val_accuracy': 0.6460717009916095, 'precision': 0.6594422726749858, 'recall': 0.6460717009916095, 'f1-score': 0.639685665333252, 'macro_f1-score': 0.4435386961808452, 'balanced_accuracy': 0.44807460416588957, 'mcc': 0.5391122530361119, 'train_loss': 0.0982100262423046}\n",
      "Epoch 5/20\n"
     ]
    },
    {
     "name": "stderr",
     "output_type": "stream",
     "text": [
      "100%|██████████| 1300/1300 [01:51<00:00, 11.63it/s]\n"
     ]
    },
    {
     "name": "stdout",
     "output_type": "stream",
     "text": [
      "{'val_loss': 2.003810192753629, 'val_accuracy': 0.6468344774980931, 'precision': 0.6445070653706935, 'recall': 0.6468344774980931, 'f1-score': 0.6371532997998353, 'macro_f1-score': 0.41911746432155234, 'balanced_accuracy': 0.43257677453321786, 'mcc': 0.5375815408250454, 'train_loss': 0.0864093462326743}\n",
      "Epoch 6/20\n"
     ]
    },
    {
     "name": "stderr",
     "output_type": "stream",
     "text": [
      "100%|██████████| 1300/1300 [01:51<00:00, 11.63it/s]\n"
     ]
    },
    {
     "name": "stdout",
     "output_type": "stream",
     "text": [
      "{'val_loss': 2.176752024852648, 'val_accuracy': 0.6491228070175439, 'precision': 0.6516542531940822, 'recall': 0.6491228070175439, 'f1-score': 0.6415086657050799, 'macro_f1-score': 0.4185570276241046, 'balanced_accuracy': 0.4335861489775361, 'mcc': 0.5387243199572679, 'train_loss': 0.07247357866870097}\n",
      "Epoch 7/20\n"
     ]
    },
    {
     "name": "stderr",
     "output_type": "stream",
     "text": [
      "100%|██████████| 1300/1300 [01:51<00:00, 11.63it/s]\n"
     ]
    },
    {
     "name": "stdout",
     "output_type": "stream",
     "text": [
      "{'val_loss': 2.225824467656089, 'val_accuracy': 0.6231884057971014, 'precision': 0.6598357346677961, 'recall': 0.6231884057971014, 'f1-score': 0.6297314997856164, 'macro_f1-score': 0.4224746634669376, 'balanced_accuracy': 0.4373656632092369, 'mcc': 0.5255803151372007, 'train_loss': 0.07423019692633086}\n",
      "Early stopping.\n",
      "\n",
      "[Fold 5]\n",
      "Label distribution after resampling:\n",
      "  label 0: 2000\n",
      "  label 1: 400\n",
      "  label 2: 400\n",
      "  label 3: 400\n",
      "  label 4: 400\n",
      "  label 5: 400\n",
      "  label 6: 400\n",
      "  label 7: 400\n",
      "  label 8: 400\n",
      "  label 9: 400\n",
      "  label 10: 400\n",
      "  label 11: 400\n",
      "  label 12: 400\n",
      "  label 13: 400\n",
      "  label 14: 400\n",
      "  label 15: 400\n",
      "  label 16: 400\n",
      "  label 17: 400\n",
      "  label 18: 400\n",
      "  label 19: 400\n",
      "  label 20: 400\n",
      "  label 21: 400\n",
      "  label 22: 400\n",
      "  label 23: 400\n",
      "  label 24: 400\n",
      "  label 25: 400\n",
      "  label 26: 400\n",
      "  label 27: 400\n",
      "  label 28: 400\n",
      "  label 29: 400\n",
      "  label 30: 400\n",
      "  label 31: 400\n",
      "  label 32: 400\n",
      "  label 33: 400\n",
      "  label 34: 400\n",
      "  label 35: 400\n",
      "  label 36: 400\n",
      "  label 37: 400\n",
      "  label 38: 400\n",
      "  label 39: 400\n",
      "  label 40: 400\n",
      "  label 41: 400\n",
      "  label 42: 400\n",
      "  label 43: 400\n",
      "  label 44: 400\n",
      "  label 45: 400\n",
      "  label 46: 400\n",
      "  label 47: 400\n",
      "model is bert-base-uncased cnn\n",
      "Epoch 1/20\n"
     ]
    },
    {
     "name": "stderr",
     "output_type": "stream",
     "text": [
      "100%|██████████| 1300/1300 [01:51<00:00, 11.63it/s]\n"
     ]
    },
    {
     "name": "stdout",
     "output_type": "stream",
     "text": [
      "{'val_loss': 1.530336387637185, 'val_accuracy': 0.6125095347063311, 'precision': 0.6365010481849628, 'recall': 0.6125095347063311, 'f1-score': 0.6048025737673672, 'macro_f1-score': 0.4024635923278372, 'balanced_accuracy': 0.41104973809808903, 'mcc': 0.4923124840502095, 'train_loss': 1.4200140022429135}\n",
      "Epoch 2/20\n"
     ]
    },
    {
     "name": "stderr",
     "output_type": "stream",
     "text": [
      "100%|██████████| 1300/1300 [01:51<00:00, 11.63it/s]\n"
     ]
    },
    {
     "name": "stdout",
     "output_type": "stream",
     "text": [
      "{'val_loss': 1.9789607837432768, 'val_accuracy': 0.5270785659801678, 'precision': 0.6243566237180249, 'recall': 0.5270785659801678, 'f1-score': 0.5490534008667283, 'macro_f1-score': 0.3901854591925951, 'balanced_accuracy': 0.4282996928147382, 'mcc': 0.44659507385195246, 'train_loss': 0.2671805190911087}\n",
      "Epoch 3/20\n"
     ]
    },
    {
     "name": "stderr",
     "output_type": "stream",
     "text": [
      "100%|██████████| 1300/1300 [01:51<00:00, 11.63it/s]\n"
     ]
    },
    {
     "name": "stdout",
     "output_type": "stream",
     "text": [
      "{'val_loss': 1.9641865386468609, 'val_accuracy': 0.6216628527841342, 'precision': 0.6211753716922157, 'recall': 0.6216628527841342, 'f1-score': 0.6132238421537515, 'macro_f1-score': 0.3972471429002244, 'balanced_accuracy': 0.4140417822061114, 'mcc': 0.5124199212087773, 'train_loss': 0.14263658841033108}\n",
      "Epoch 4/20\n"
     ]
    },
    {
     "name": "stderr",
     "output_type": "stream",
     "text": [
      "100%|██████████| 1300/1300 [01:51<00:00, 11.63it/s]\n"
     ]
    },
    {
     "name": "stdout",
     "output_type": "stream",
     "text": [
      "{'val_loss': 2.12056745043615, 'val_accuracy': 0.5964912280701754, 'precision': 0.6308463035281199, 'recall': 0.5964912280701754, 'f1-score': 0.6039638859970715, 'macro_f1-score': 0.4170337934992971, 'balanced_accuracy': 0.4208301086213348, 'mcc': 0.4950790403548352, 'train_loss': 0.10759363796579867}\n",
      "Epoch 5/20\n"
     ]
    },
    {
     "name": "stderr",
     "output_type": "stream",
     "text": [
      "100%|██████████| 1300/1300 [01:51<00:00, 11.63it/s]\n"
     ]
    },
    {
     "name": "stdout",
     "output_type": "stream",
     "text": [
      "{'val_loss': 2.1809641856972766, 'val_accuracy': 0.5850495804729214, 'precision': 0.6279656313147313, 'recall': 0.5850495804729214, 'f1-score': 0.5892652200407538, 'macro_f1-score': 0.3811830475284064, 'balanced_accuracy': 0.40919712284288384, 'mcc': 0.4772801937957204, 'train_loss': 0.09447541734369365}\n",
      "Epoch 6/20\n"
     ]
    },
    {
     "name": "stderr",
     "output_type": "stream",
     "text": [
      "100%|██████████| 1300/1300 [01:51<00:00, 11.63it/s]\n"
     ]
    },
    {
     "name": "stdout",
     "output_type": "stream",
     "text": [
      "{'val_loss': 1.9834551833024838, 'val_accuracy': 0.6414950419527079, 'precision': 0.6291292609156962, 'recall': 0.6414950419527079, 'f1-score': 0.6200999121034015, 'macro_f1-score': 0.4248038708592518, 'balanced_accuracy': 0.3990361482351534, 'mcc': 0.5160192539593047, 'train_loss': 0.07914404969429598}\n",
      "Epoch 7/20\n"
     ]
    },
    {
     "name": "stderr",
     "output_type": "stream",
     "text": [
      "100%|██████████| 1300/1300 [01:51<00:00, 11.63it/s]\n"
     ]
    },
    {
     "name": "stdout",
     "output_type": "stream",
     "text": [
      "{'val_loss': 1.9721495585470665, 'val_accuracy': 0.6376811594202898, 'precision': 0.6455038564387012, 'recall': 0.6376811594202898, 'f1-score': 0.6307018352012704, 'macro_f1-score': 0.41896484282603647, 'balanced_accuracy': 0.4084266837903335, 'mcc': 0.5309538215794872, 'train_loss': 0.06907120356913835}\n",
      "Epoch 8/20\n"
     ]
    },
    {
     "name": "stderr",
     "output_type": "stream",
     "text": [
      "100%|██████████| 1300/1300 [01:51<00:00, 11.63it/s]\n"
     ]
    },
    {
     "name": "stdout",
     "output_type": "stream",
     "text": [
      "{'val_loss': 2.2460104197990605, 'val_accuracy': 0.6323417238749046, 'precision': 0.6479804557707117, 'recall': 0.6323417238749046, 'f1-score': 0.6318918773130491, 'macro_f1-score': 0.4230333969247197, 'balanced_accuracy': 0.43575031514208257, 'mcc': 0.5292421741578428, 'train_loss': 0.06132815394881898}\n",
      "Epoch 9/20\n"
     ]
    },
    {
     "name": "stderr",
     "output_type": "stream",
     "text": [
      "100%|██████████| 1300/1300 [01:51<00:00, 11.63it/s]\n"
     ]
    },
    {
     "name": "stdout",
     "output_type": "stream",
     "text": [
      "{'val_loss': 2.481180255005999, 'val_accuracy': 0.6445461479786423, 'precision': 0.6478179544996296, 'recall': 0.6445461479786423, 'f1-score': 0.6249155249338457, 'macro_f1-score': 0.38958636992129864, 'balanced_accuracy': 0.381908597778662, 'mcc': 0.5285202484058421, 'train_loss': 0.05940449095593067}\n",
      "Early stopping.\n",
      "\n",
      " === bert-base-uncased + cnn + ros Final 5-fold Cross-Validation Results ===\n",
      "val_loss: 2.0001\n",
      "val_accuracy: 0.6173\n",
      "precision: 0.6398\n",
      "recall: 0.6173\n",
      "f1-score: 0.6153\n",
      "macro_f1-score: 0.4144\n",
      "balanced_accuracy: 0.4229\n",
      "mcc: 0.5061\n",
      "train_loss: 0.3674\n",
      "total_seconds: 4025.0000\n",
      "total_time: 1 hrs 7 mins 5 secs\n",
      "▶ Running: bert-base-uncased + lstm + ros\n",
      "tokenizer is bert-base-uncased\n",
      "Using device: cuda\n",
      "CUDA Available: True\n",
      "CUDA Device: NVIDIA GeForce RTX 5070 Ti\n",
      "Current GPU Memory Allocated: 0.02 GB\n",
      "Current GPU Memory Cached: 3.04 GB\n",
      "\n",
      "[Fold 1]\n",
      "Label distribution after resampling:\n",
      "  label 0: 2000\n",
      "  label 1: 400\n",
      "  label 2: 400\n",
      "  label 3: 400\n",
      "  label 4: 400\n",
      "  label 5: 400\n",
      "  label 6: 400\n",
      "  label 7: 400\n",
      "  label 8: 400\n",
      "  label 9: 400\n",
      "  label 10: 400\n",
      "  label 11: 400\n",
      "  label 12: 400\n",
      "  label 13: 400\n",
      "  label 14: 400\n",
      "  label 15: 400\n",
      "  label 16: 400\n",
      "  label 17: 400\n",
      "  label 18: 400\n",
      "  label 19: 400\n",
      "  label 20: 400\n",
      "  label 21: 400\n",
      "  label 22: 400\n",
      "  label 23: 400\n",
      "  label 24: 400\n",
      "  label 25: 400\n",
      "  label 26: 400\n",
      "  label 27: 400\n",
      "  label 28: 400\n",
      "  label 29: 400\n",
      "  label 30: 400\n",
      "  label 31: 400\n",
      "  label 32: 400\n",
      "  label 33: 400\n",
      "  label 34: 400\n",
      "  label 35: 400\n",
      "  label 36: 400\n",
      "  label 37: 400\n",
      "  label 38: 400\n",
      "  label 39: 400\n",
      "  label 40: 400\n",
      "  label 41: 400\n",
      "  label 42: 400\n",
      "  label 43: 400\n",
      "  label 44: 400\n",
      "  label 45: 400\n",
      "  label 46: 400\n",
      "  label 47: 400\n",
      "model is bert-base-uncased lstm\n",
      "Epoch 1/20\n"
     ]
    },
    {
     "name": "stderr",
     "output_type": "stream",
     "text": [
      "100%|██████████| 1300/1300 [01:57<00:00, 11.07it/s]\n"
     ]
    },
    {
     "name": "stdout",
     "output_type": "stream",
     "text": [
      "{'val_loss': 1.529930772941287, 'val_accuracy': 0.6097560975609756, 'precision': 0.6194139913107128, 'recall': 0.6097560975609756, 'f1-score': 0.5975456149117173, 'macro_f1-score': 0.4032901759729067, 'balanced_accuracy': 0.4125493191145282, 'mcc': 0.47800149800914415, 'train_loss': 1.556675897091627}\n",
      "Epoch 2/20\n"
     ]
    },
    {
     "name": "stderr",
     "output_type": "stream",
     "text": [
      "100%|██████████| 1300/1300 [01:57<00:00, 11.08it/s]\n"
     ]
    },
    {
     "name": "stdout",
     "output_type": "stream",
     "text": [
      "{'val_loss': 1.6218793174115622, 'val_accuracy': 0.6028963414634146, 'precision': 0.618029541185204, 'recall': 0.6028963414634146, 'f1-score': 0.5996988875458469, 'macro_f1-score': 0.4034030472135253, 'balanced_accuracy': 0.40056851472281885, 'mcc': 0.4817925402009025, 'train_loss': 0.43357917300067267}\n",
      "Epoch 3/20\n"
     ]
    },
    {
     "name": "stderr",
     "output_type": "stream",
     "text": [
      "100%|██████████| 1300/1300 [01:57<00:00, 11.09it/s]\n"
     ]
    },
    {
     "name": "stdout",
     "output_type": "stream",
     "text": [
      "{'val_loss': 1.8517573839280663, 'val_accuracy': 0.5762195121951219, 'precision': 0.6447829549535578, 'recall': 0.5762195121951219, 'f1-score': 0.5943883916742705, 'macro_f1-score': 0.39270752570514017, 'balanced_accuracy': 0.4290937533909933, 'mcc': 0.47967891712216587, 'train_loss': 0.23334301800968554}\n",
      "Epoch 4/20\n"
     ]
    },
    {
     "name": "stderr",
     "output_type": "stream",
     "text": [
      "100%|██████████| 1300/1300 [01:57<00:00, 11.07it/s]\n"
     ]
    },
    {
     "name": "stdout",
     "output_type": "stream",
     "text": [
      "{'val_loss': 1.7909340327832757, 'val_accuracy': 0.6410060975609756, 'precision': 0.6407135415337878, 'recall': 0.6410060975609756, 'f1-score': 0.6256231721547566, 'macro_f1-score': 0.415934890591321, 'balanced_accuracy': 0.4045507651368654, 'mcc': 0.519045965285221, 'train_loss': 0.15648342439080948}\n",
      "Epoch 5/20\n"
     ]
    },
    {
     "name": "stderr",
     "output_type": "stream",
     "text": [
      "100%|██████████| 1300/1300 [01:57<00:00, 11.08it/s]\n"
     ]
    },
    {
     "name": "stdout",
     "output_type": "stream",
     "text": [
      "{'val_loss': 1.8174371790231727, 'val_accuracy': 0.631859756097561, 'precision': 0.6298759502175189, 'recall': 0.631859756097561, 'f1-score': 0.6215915931117619, 'macro_f1-score': 0.4174322331021447, 'balanced_accuracy': 0.445753532678781, 'mcc': 0.5182189594021723, 'train_loss': 0.12708052017690183}\n",
      "Epoch 6/20\n"
     ]
    },
    {
     "name": "stderr",
     "output_type": "stream",
     "text": [
      "100%|██████████| 1300/1300 [01:57<00:00, 11.08it/s]\n"
     ]
    },
    {
     "name": "stdout",
     "output_type": "stream",
     "text": [
      "{'val_loss': 1.9856667081121264, 'val_accuracy': 0.6295731707317073, 'precision': 0.6278524221731623, 'recall': 0.6295731707317073, 'f1-score': 0.6177659845423854, 'macro_f1-score': 0.38871654707747005, 'balanced_accuracy': 0.3994181649819832, 'mcc': 0.5103036744865203, 'train_loss': 0.10743002225626977}\n",
      "Epoch 7/20\n"
     ]
    },
    {
     "name": "stderr",
     "output_type": "stream",
     "text": [
      "100%|██████████| 1300/1300 [01:57<00:00, 11.07it/s]\n"
     ]
    },
    {
     "name": "stdout",
     "output_type": "stream",
     "text": [
      "{'val_loss': 1.9653544084327976, 'val_accuracy': 0.6471036585365854, 'precision': 0.6425872702560133, 'recall': 0.6471036585365854, 'f1-score': 0.6333766432735692, 'macro_f1-score': 0.4296309790001525, 'balanced_accuracy': 0.4299260653340163, 'mcc': 0.5276772910760088, 'train_loss': 0.07932088593074765}\n",
      "Epoch 8/20\n"
     ]
    },
    {
     "name": "stderr",
     "output_type": "stream",
     "text": [
      "100%|██████████| 1300/1300 [01:57<00:00, 11.07it/s]\n"
     ]
    },
    {
     "name": "stdout",
     "output_type": "stream",
     "text": [
      "{'val_loss': 2.0513719138575763, 'val_accuracy': 0.6211890243902439, 'precision': 0.6345642227654544, 'recall': 0.6211890243902439, 'f1-score': 0.6200417683554047, 'macro_f1-score': 0.4304392633354254, 'balanced_accuracy': 0.45696152737134926, 'mcc': 0.5156282571844498, 'train_loss': 0.08303025933985526}\n",
      "Epoch 9/20\n"
     ]
    },
    {
     "name": "stderr",
     "output_type": "stream",
     "text": [
      "100%|██████████| 1300/1300 [01:57<00:00, 11.08it/s]\n"
     ]
    },
    {
     "name": "stdout",
     "output_type": "stream",
     "text": [
      "{'val_loss': 2.166415858559492, 'val_accuracy': 0.6501524390243902, 'precision': 0.63446298412708, 'recall': 0.6501524390243902, 'f1-score': 0.6232019585763471, 'macro_f1-score': 0.420173121248897, 'balanced_accuracy': 0.39779497734049607, 'mcc': 0.5159503815945666, 'train_loss': 0.061783771787393985}\n",
      "Epoch 10/20\n"
     ]
    },
    {
     "name": "stderr",
     "output_type": "stream",
     "text": [
      "100%|██████████| 1300/1300 [01:57<00:00, 11.07it/s]\n"
     ]
    },
    {
     "name": "stdout",
     "output_type": "stream",
     "text": [
      "{'val_loss': 2.256350222520712, 'val_accuracy': 0.6417682926829268, 'precision': 0.6281196197892137, 'recall': 0.6417682926829268, 'f1-score': 0.6199591289157502, 'macro_f1-score': 0.3981808307240113, 'balanced_accuracy': 0.3802011807069563, 'mcc': 0.5085874101419405, 'train_loss': 0.061974111187558335}\n",
      "Epoch 11/20\n"
     ]
    },
    {
     "name": "stderr",
     "output_type": "stream",
     "text": [
      "100%|██████████| 1300/1300 [01:57<00:00, 11.08it/s]\n"
     ]
    },
    {
     "name": "stdout",
     "output_type": "stream",
     "text": [
      "{'val_loss': 2.1720517662967125, 'val_accuracy': 0.6211890243902439, 'precision': 0.6243239324236539, 'recall': 0.6211890243902439, 'f1-score': 0.6162061632364089, 'macro_f1-score': 0.4048039109143066, 'balanced_accuracy': 0.4124616753530366, 'mcc': 0.5050453632516203, 'train_loss': 0.06483145566137793}\n",
      "Early stopping.\n",
      "\n",
      "[Fold 2]\n",
      "Label distribution after resampling:\n",
      "  label 0: 2000\n",
      "  label 1: 400\n",
      "  label 2: 400\n",
      "  label 3: 400\n",
      "  label 4: 400\n",
      "  label 5: 400\n",
      "  label 6: 400\n",
      "  label 7: 400\n",
      "  label 8: 400\n",
      "  label 9: 400\n",
      "  label 10: 400\n",
      "  label 11: 400\n",
      "  label 12: 400\n",
      "  label 13: 400\n",
      "  label 14: 400\n",
      "  label 15: 400\n",
      "  label 16: 400\n",
      "  label 17: 400\n",
      "  label 18: 400\n",
      "  label 19: 400\n",
      "  label 20: 400\n",
      "  label 21: 400\n",
      "  label 22: 400\n",
      "  label 23: 400\n",
      "  label 24: 400\n",
      "  label 25: 400\n",
      "  label 26: 400\n",
      "  label 27: 400\n",
      "  label 28: 400\n",
      "  label 29: 400\n",
      "  label 30: 400\n",
      "  label 31: 400\n",
      "  label 32: 400\n",
      "  label 33: 400\n",
      "  label 34: 400\n",
      "  label 35: 400\n",
      "  label 36: 400\n",
      "  label 37: 400\n",
      "  label 38: 400\n",
      "  label 39: 400\n",
      "  label 40: 400\n",
      "  label 41: 400\n",
      "  label 42: 400\n",
      "  label 43: 400\n",
      "  label 44: 400\n",
      "  label 45: 400\n",
      "  label 46: 400\n",
      "  label 47: 400\n",
      "model is bert-base-uncased lstm\n",
      "Epoch 1/20\n"
     ]
    },
    {
     "name": "stderr",
     "output_type": "stream",
     "text": [
      "100%|██████████| 1300/1300 [01:57<00:00, 11.08it/s]\n"
     ]
    },
    {
     "name": "stdout",
     "output_type": "stream",
     "text": [
      "{'val_loss': 1.5831581637626742, 'val_accuracy': 0.589626239511823, 'precision': 0.6278109920382787, 'recall': 0.589626239511823, 'f1-score': 0.5928894101644162, 'macro_f1-score': 0.3895921458538127, 'balanced_accuracy': 0.434461326788764, 'mcc': 0.4779147099221128, 'train_loss': 1.540919759353766}\n",
      "Epoch 2/20\n"
     ]
    },
    {
     "name": "stderr",
     "output_type": "stream",
     "text": [
      "100%|██████████| 1300/1300 [01:57<00:00, 11.08it/s]\n"
     ]
    },
    {
     "name": "stdout",
     "output_type": "stream",
     "text": [
      "{'val_loss': 1.6343597442638584, 'val_accuracy': 0.620137299771167, 'precision': 0.6327427494462051, 'recall': 0.620137299771167, 'f1-score': 0.6170963453794162, 'macro_f1-score': 0.3718211807605114, 'balanced_accuracy': 0.39170775434156146, 'mcc': 0.5082304666552621, 'train_loss': 0.43814050281277067}\n",
      "Epoch 3/20\n"
     ]
    },
    {
     "name": "stderr",
     "output_type": "stream",
     "text": [
      "100%|██████████| 1300/1300 [01:57<00:00, 11.08it/s]\n"
     ]
    },
    {
     "name": "stdout",
     "output_type": "stream",
     "text": [
      "{'val_loss': 1.798317286299496, 'val_accuracy': 0.5995423340961098, 'precision': 0.622998182674776, 'recall': 0.5995423340961098, 'f1-score': 0.6040717068618968, 'macro_f1-score': 0.37211863093709097, 'balanced_accuracy': 0.409311862293758, 'mcc': 0.49255645885899996, 'train_loss': 0.25878262881189584}\n",
      "Epoch 4/20\n"
     ]
    },
    {
     "name": "stderr",
     "output_type": "stream",
     "text": [
      "100%|██████████| 1300/1300 [01:57<00:00, 11.08it/s]\n"
     ]
    },
    {
     "name": "stdout",
     "output_type": "stream",
     "text": [
      "{'val_loss': 1.840207313619009, 'val_accuracy': 0.6209000762776506, 'precision': 0.6349143787271216, 'recall': 0.6209000762776506, 'f1-score': 0.6174148874382317, 'macro_f1-score': 0.3921811798582313, 'balanced_accuracy': 0.4166884489446368, 'mcc': 0.5111685386184218, 'train_loss': 0.16467761729987196}\n",
      "Epoch 5/20\n"
     ]
    },
    {
     "name": "stderr",
     "output_type": "stream",
     "text": [
      "100%|██████████| 1300/1300 [01:57<00:00, 11.07it/s]\n"
     ]
    },
    {
     "name": "stdout",
     "output_type": "stream",
     "text": [
      "{'val_loss': 1.8958076652957172, 'val_accuracy': 0.6262395118230358, 'precision': 0.6318402118298251, 'recall': 0.6262395118230358, 'f1-score': 0.6244571702708646, 'macro_f1-score': 0.39403169123931336, 'balanced_accuracy': 0.4086348218458317, 'mcc': 0.5161317803029463, 'train_loss': 0.12507760466864476}\n",
      "Epoch 6/20\n"
     ]
    },
    {
     "name": "stderr",
     "output_type": "stream",
     "text": [
      "100%|██████████| 1300/1300 [01:57<00:00, 11.08it/s]\n"
     ]
    },
    {
     "name": "stdout",
     "output_type": "stream",
     "text": [
      "{'val_loss': 1.8822188166583456, 'val_accuracy': 0.6270022883295194, 'precision': 0.6192923039421417, 'recall': 0.6270022883295194, 'f1-score': 0.6170798139374442, 'macro_f1-score': 0.3937156613654271, 'balanced_accuracy': 0.40294589696271393, 'mcc': 0.5085362946394418, 'train_loss': 0.1164841967767391}\n",
      "Epoch 7/20\n"
     ]
    },
    {
     "name": "stderr",
     "output_type": "stream",
     "text": [
      "100%|██████████| 1300/1300 [01:57<00:00, 11.08it/s]\n"
     ]
    },
    {
     "name": "stdout",
     "output_type": "stream",
     "text": [
      "{'val_loss': 1.9695275967440955, 'val_accuracy': 0.6445461479786423, 'precision': 0.6312199727427784, 'recall': 0.6445461479786423, 'f1-score': 0.628815866217141, 'macro_f1-score': 0.397068608301522, 'balanced_accuracy': 0.3940740424219391, 'mcc': 0.5262574851950819, 'train_loss': 0.11773433755313117}\n",
      "Epoch 8/20\n"
     ]
    },
    {
     "name": "stderr",
     "output_type": "stream",
     "text": [
      "100%|██████████| 1300/1300 [01:57<00:00, 11.07it/s]\n"
     ]
    },
    {
     "name": "stdout",
     "output_type": "stream",
     "text": [
      "{'val_loss': 2.0156367537451954, 'val_accuracy': 0.6491228070175439, 'precision': 0.6195479839628725, 'recall': 0.6491228070175439, 'f1-score': 0.6248708299050648, 'macro_f1-score': 0.3847327263857725, 'balanced_accuracy': 0.3699229816630316, 'mcc': 0.5210370561774529, 'train_loss': 0.10430171162481061}\n",
      "Epoch 9/20\n"
     ]
    },
    {
     "name": "stderr",
     "output_type": "stream",
     "text": [
      "100%|██████████| 1300/1300 [01:57<00:00, 11.09it/s]\n"
     ]
    },
    {
     "name": "stdout",
     "output_type": "stream",
     "text": [
      "{'val_loss': 2.0075520204334723, 'val_accuracy': 0.6376811594202898, 'precision': 0.629770540320361, 'recall': 0.6376811594202898, 'f1-score': 0.6239453013018502, 'macro_f1-score': 0.3897880442017955, 'balanced_accuracy': 0.3956500336824627, 'mcc': 0.5225935138001612, 'train_loss': 0.09768790748704655}\n",
      "Epoch 10/20\n"
     ]
    },
    {
     "name": "stderr",
     "output_type": "stream",
     "text": [
      "100%|██████████| 1300/1300 [01:57<00:00, 11.08it/s]\n"
     ]
    },
    {
     "name": "stdout",
     "output_type": "stream",
     "text": [
      "{'val_loss': 2.2065677235766157, 'val_accuracy': 0.6483600305110603, 'precision': 0.6291375879855611, 'recall': 0.6483600305110603, 'f1-score': 0.6247310136126484, 'macro_f1-score': 0.3666898799881307, 'balanced_accuracy': 0.3648011165472522, 'mcc': 0.52993251856347, 'train_loss': 0.057551182392590605}\n",
      "Early stopping.\n",
      "\n",
      "[Fold 3]\n",
      "Label distribution after resampling:\n",
      "  label 0: 2000\n",
      "  label 1: 400\n",
      "  label 2: 400\n",
      "  label 3: 400\n",
      "  label 4: 400\n",
      "  label 5: 400\n",
      "  label 6: 400\n",
      "  label 7: 400\n",
      "  label 8: 400\n",
      "  label 9: 400\n",
      "  label 10: 400\n",
      "  label 11: 400\n",
      "  label 12: 400\n",
      "  label 13: 400\n",
      "  label 14: 400\n",
      "  label 15: 400\n",
      "  label 16: 400\n",
      "  label 17: 400\n",
      "  label 18: 400\n",
      "  label 19: 400\n",
      "  label 20: 400\n",
      "  label 21: 400\n",
      "  label 22: 400\n",
      "  label 23: 400\n",
      "  label 24: 400\n",
      "  label 25: 400\n",
      "  label 26: 400\n",
      "  label 27: 400\n",
      "  label 28: 400\n",
      "  label 29: 400\n",
      "  label 30: 400\n",
      "  label 31: 400\n",
      "  label 32: 400\n",
      "  label 33: 400\n",
      "  label 34: 400\n",
      "  label 35: 400\n",
      "  label 36: 400\n",
      "  label 37: 400\n",
      "  label 38: 400\n",
      "  label 39: 400\n",
      "  label 40: 400\n",
      "  label 41: 400\n",
      "  label 42: 400\n",
      "  label 43: 400\n",
      "  label 44: 400\n",
      "  label 45: 400\n",
      "  label 46: 400\n",
      "  label 47: 400\n",
      "model is bert-base-uncased lstm\n",
      "Epoch 1/20\n"
     ]
    },
    {
     "name": "stderr",
     "output_type": "stream",
     "text": [
      "100%|██████████| 1300/1300 [01:57<00:00, 11.08it/s]\n"
     ]
    },
    {
     "name": "stdout",
     "output_type": "stream",
     "text": [
      "{'val_loss': 1.7094730960159767, 'val_accuracy': 0.5568268497330282, 'precision': 0.6024083566869418, 'recall': 0.5568268497330282, 'f1-score': 0.5663017720620539, 'macro_f1-score': 0.37479006118598973, 'balanced_accuracy': 0.4231300468419537, 'mcc': 0.44365131701012656, 'train_loss': 1.4875265489060145}\n",
      "Epoch 2/20\n"
     ]
    },
    {
     "name": "stderr",
     "output_type": "stream",
     "text": [
      "100%|██████████| 1300/1300 [01:57<00:00, 11.08it/s]\n"
     ]
    },
    {
     "name": "stdout",
     "output_type": "stream",
     "text": [
      "{'val_loss': 1.657858489490137, 'val_accuracy': 0.6186117467581999, 'precision': 0.6143978956942573, 'recall': 0.6186117467581999, 'f1-score': 0.6082193508174935, 'macro_f1-score': 0.382931202875681, 'balanced_accuracy': 0.36601287250459413, 'mcc': 0.49087924526332544, 'train_loss': 0.4020884295896842}\n",
      "Epoch 3/20\n"
     ]
    },
    {
     "name": "stderr",
     "output_type": "stream",
     "text": [
      "100%|██████████| 1300/1300 [01:57<00:00, 11.09it/s]\n"
     ]
    },
    {
     "name": "stdout",
     "output_type": "stream",
     "text": [
      "{'val_loss': 1.7945814147228147, 'val_accuracy': 0.6270022883295194, 'precision': 0.6149215813924972, 'recall': 0.6270022883295194, 'f1-score': 0.6134349473453374, 'macro_f1-score': 0.37098320198457596, 'balanced_accuracy': 0.35847828792225145, 'mcc': 0.5001139034318681, 'train_loss': 0.21677698571808063}\n",
      "Epoch 4/20\n"
     ]
    },
    {
     "name": "stderr",
     "output_type": "stream",
     "text": [
      "100%|██████████| 1300/1300 [01:57<00:00, 11.07it/s]\n"
     ]
    },
    {
     "name": "stdout",
     "output_type": "stream",
     "text": [
      "{'val_loss': 1.972902872940389, 'val_accuracy': 0.6140350877192983, 'precision': 0.6330916778085018, 'recall': 0.6140350877192983, 'f1-score': 0.6159877772042658, 'macro_f1-score': 0.42493243657281515, 'balanced_accuracy': 0.4307901339888603, 'mcc': 0.5038682729953926, 'train_loss': 0.14791340774426667}\n",
      "Epoch 5/20\n"
     ]
    },
    {
     "name": "stderr",
     "output_type": "stream",
     "text": [
      "100%|██████████| 1300/1300 [01:57<00:00, 11.08it/s]\n"
     ]
    },
    {
     "name": "stdout",
     "output_type": "stream",
     "text": [
      "{'val_loss': 2.097967797117989, 'val_accuracy': 0.6163234172387491, 'precision': 0.6212727083164876, 'recall': 0.6163234172387491, 'f1-score': 0.6083618537300466, 'macro_f1-score': 0.4069714474714153, 'balanced_accuracy': 0.40055613273802165, 'mcc': 0.4883728404434336, 'train_loss': 0.11918668448674277}\n",
      "Epoch 6/20\n"
     ]
    },
    {
     "name": "stderr",
     "output_type": "stream",
     "text": [
      "100%|██████████| 1300/1300 [01:57<00:00, 11.09it/s]\n"
     ]
    },
    {
     "name": "stdout",
     "output_type": "stream",
     "text": [
      "{'val_loss': 2.0610917995615705, 'val_accuracy': 0.6399694889397407, 'precision': 0.6211091681266244, 'recall': 0.6399694889397407, 'f1-score': 0.6195882672528216, 'macro_f1-score': 0.40314975211449594, 'balanced_accuracy': 0.3689590513146461, 'mcc': 0.507435973732093, 'train_loss': 0.09477390305945077}\n",
      "Epoch 7/20\n"
     ]
    },
    {
     "name": "stderr",
     "output_type": "stream",
     "text": [
      "100%|██████████| 1300/1300 [01:57<00:00, 11.08it/s]\n"
     ]
    },
    {
     "name": "stdout",
     "output_type": "stream",
     "text": [
      "{'val_loss': 2.267914365886188, 'val_accuracy': 0.6407322654462243, 'precision': 0.6381235698004685, 'recall': 0.6407322654462243, 'f1-score': 0.6256785497032445, 'macro_f1-score': 0.4189177358804639, 'balanced_accuracy': 0.3999854154996621, 'mcc': 0.5177803256109714, 'train_loss': 0.08469124179691649}\n",
      "Early stopping.\n",
      "\n",
      "[Fold 4]\n",
      "Label distribution after resampling:\n",
      "  label 0: 2000\n",
      "  label 1: 400\n",
      "  label 2: 400\n",
      "  label 3: 400\n",
      "  label 4: 400\n",
      "  label 5: 400\n",
      "  label 6: 400\n",
      "  label 7: 400\n",
      "  label 8: 400\n",
      "  label 9: 400\n",
      "  label 10: 400\n",
      "  label 11: 400\n",
      "  label 12: 400\n",
      "  label 13: 400\n",
      "  label 14: 400\n",
      "  label 15: 400\n",
      "  label 16: 400\n",
      "  label 17: 400\n",
      "  label 18: 400\n",
      "  label 19: 400\n",
      "  label 20: 400\n",
      "  label 21: 400\n",
      "  label 22: 400\n",
      "  label 23: 400\n",
      "  label 24: 400\n",
      "  label 25: 400\n",
      "  label 26: 400\n",
      "  label 27: 400\n",
      "  label 28: 400\n",
      "  label 29: 400\n",
      "  label 30: 400\n",
      "  label 31: 400\n",
      "  label 32: 400\n",
      "  label 33: 400\n",
      "  label 34: 400\n",
      "  label 35: 400\n",
      "  label 36: 400\n",
      "  label 37: 400\n",
      "  label 38: 400\n",
      "  label 39: 400\n",
      "  label 40: 400\n",
      "  label 41: 400\n",
      "  label 42: 400\n",
      "  label 43: 400\n",
      "  label 44: 400\n",
      "  label 45: 400\n",
      "  label 46: 400\n",
      "  label 47: 400\n",
      "model is bert-base-uncased lstm\n",
      "Epoch 1/20\n"
     ]
    },
    {
     "name": "stderr",
     "output_type": "stream",
     "text": [
      "100%|██████████| 1300/1300 [01:57<00:00, 11.08it/s]\n"
     ]
    },
    {
     "name": "stdout",
     "output_type": "stream",
     "text": [
      "{'val_loss': 1.5756310918709127, 'val_accuracy': 0.5911517925247902, 'precision': 0.6437555861310235, 'recall': 0.5911517925247902, 'f1-score': 0.6017608853904565, 'macro_f1-score': 0.3765342309512969, 'balanced_accuracy': 0.4330261931517277, 'mcc': 0.48702998464452113, 'train_loss': 1.5552722329474413}\n",
      "Epoch 2/20\n"
     ]
    },
    {
     "name": "stderr",
     "output_type": "stream",
     "text": [
      "100%|██████████| 1300/1300 [01:57<00:00, 11.09it/s]\n"
     ]
    },
    {
     "name": "stdout",
     "output_type": "stream",
     "text": [
      "{'val_loss': 1.582746716897662, 'val_accuracy': 0.623951182303585, 'precision': 0.6281623343830244, 'recall': 0.623951182303585, 'f1-score': 0.6203047828968014, 'macro_f1-score': 0.4005522144019104, 'balanced_accuracy': 0.42581168078797665, 'mcc': 0.5136331189327737, 'train_loss': 0.41266229638399987}\n",
      "Epoch 3/20\n"
     ]
    },
    {
     "name": "stderr",
     "output_type": "stream",
     "text": [
      "100%|██████████| 1300/1300 [01:57<00:00, 11.08it/s]\n"
     ]
    },
    {
     "name": "stdout",
     "output_type": "stream",
     "text": [
      "{'val_loss': 1.6877615855234425, 'val_accuracy': 0.6178489702517163, 'precision': 0.6230757674032434, 'recall': 0.6178489702517163, 'f1-score': 0.6116090131586495, 'macro_f1-score': 0.4035082375868202, 'balanced_accuracy': 0.4081585797849249, 'mcc': 0.500613338737743, 'train_loss': 0.22730933473373835}\n",
      "Epoch 4/20\n"
     ]
    },
    {
     "name": "stderr",
     "output_type": "stream",
     "text": [
      "100%|██████████| 1300/1300 [01:57<00:00, 11.09it/s]\n"
     ]
    },
    {
     "name": "stdout",
     "output_type": "stream",
     "text": [
      "{'val_loss': 1.7281635487224998, 'val_accuracy': 0.6468344774980931, 'precision': 0.6292184438140958, 'recall': 0.6468344774980931, 'f1-score': 0.6304433683651839, 'macro_f1-score': 0.3948812773659955, 'balanced_accuracy': 0.3918965482559355, 'mcc': 0.5274299832205929, 'train_loss': 0.15511726007725185}\n",
      "Epoch 5/20\n"
     ]
    },
    {
     "name": "stderr",
     "output_type": "stream",
     "text": [
      "100%|██████████| 1300/1300 [01:57<00:00, 11.09it/s]\n"
     ]
    },
    {
     "name": "stdout",
     "output_type": "stream",
     "text": [
      "{'val_loss': 1.8486955216745051, 'val_accuracy': 0.6430205949656751, 'precision': 0.6532315987967033, 'recall': 0.6430205949656751, 'f1-score': 0.6384231915504193, 'macro_f1-score': 0.41686366108478773, 'balanced_accuracy': 0.4176253351116758, 'mcc': 0.5381476491085377, 'train_loss': 0.11207286634840645}\n",
      "Epoch 6/20\n"
     ]
    },
    {
     "name": "stderr",
     "output_type": "stream",
     "text": [
      "100%|██████████| 1300/1300 [01:57<00:00, 11.07it/s]\n"
     ]
    },
    {
     "name": "stdout",
     "output_type": "stream",
     "text": [
      "{'val_loss': 1.9007492483389088, 'val_accuracy': 0.6331045003813882, 'precision': 0.6420606462674662, 'recall': 0.6331045003813882, 'f1-score': 0.6279416322343613, 'macro_f1-score': 0.40261872047209984, 'balanced_accuracy': 0.4109620210515352, 'mcc': 0.52378323677116, 'train_loss': 0.10532971084798472}\n",
      "Epoch 7/20\n"
     ]
    },
    {
     "name": "stderr",
     "output_type": "stream",
     "text": [
      "100%|██████████| 1300/1300 [01:57<00:00, 11.09it/s]\n"
     ]
    },
    {
     "name": "stdout",
     "output_type": "stream",
     "text": [
      "{'val_loss': 2.0642300746062907, 'val_accuracy': 0.6094584286803967, 'precision': 0.6551601518598605, 'recall': 0.6094584286803967, 'f1-score': 0.6150269650072815, 'macro_f1-score': 0.40530271624406766, 'balanced_accuracy': 0.42456459256179263, 'mcc': 0.5117624419373563, 'train_loss': 0.09248114583924269}\n",
      "Epoch 8/20\n"
     ]
    },
    {
     "name": "stderr",
     "output_type": "stream",
     "text": [
      "100%|██████████| 1300/1300 [01:57<00:00, 11.09it/s]\n"
     ]
    },
    {
     "name": "stdout",
     "output_type": "stream",
     "text": [
      "{'val_loss': 2.103573365216484, 'val_accuracy': 0.6346300533943554, 'precision': 0.6423661894311764, 'recall': 0.6346300533943554, 'f1-score': 0.628956260848782, 'macro_f1-score': 0.40008460100503057, 'balanced_accuracy': 0.39439270257472864, 'mcc': 0.522689927862774, 'train_loss': 0.06873106854197641}\n",
      "Early stopping.\n",
      "\n",
      "[Fold 5]\n",
      "Label distribution after resampling:\n",
      "  label 0: 2000\n",
      "  label 1: 400\n",
      "  label 2: 400\n",
      "  label 3: 400\n",
      "  label 4: 400\n",
      "  label 5: 400\n",
      "  label 6: 400\n",
      "  label 7: 400\n",
      "  label 8: 400\n",
      "  label 9: 400\n",
      "  label 10: 400\n",
      "  label 11: 400\n",
      "  label 12: 400\n",
      "  label 13: 400\n",
      "  label 14: 400\n",
      "  label 15: 400\n",
      "  label 16: 400\n",
      "  label 17: 400\n",
      "  label 18: 400\n",
      "  label 19: 400\n",
      "  label 20: 400\n",
      "  label 21: 400\n",
      "  label 22: 400\n",
      "  label 23: 400\n",
      "  label 24: 400\n",
      "  label 25: 400\n",
      "  label 26: 400\n",
      "  label 27: 400\n",
      "  label 28: 400\n",
      "  label 29: 400\n",
      "  label 30: 400\n",
      "  label 31: 400\n",
      "  label 32: 400\n",
      "  label 33: 400\n",
      "  label 34: 400\n",
      "  label 35: 400\n",
      "  label 36: 400\n",
      "  label 37: 400\n",
      "  label 38: 400\n",
      "  label 39: 400\n",
      "  label 40: 400\n",
      "  label 41: 400\n",
      "  label 42: 400\n",
      "  label 43: 400\n",
      "  label 44: 400\n",
      "  label 45: 400\n",
      "  label 46: 400\n",
      "  label 47: 400\n",
      "model is bert-base-uncased lstm\n",
      "Epoch 1/20\n"
     ]
    },
    {
     "name": "stderr",
     "output_type": "stream",
     "text": [
      "100%|██████████| 1300/1300 [01:57<00:00, 11.07it/s]\n"
     ]
    },
    {
     "name": "stdout",
     "output_type": "stream",
     "text": [
      "{'val_loss': 1.495818143937646, 'val_accuracy': 0.6025934401220442, 'precision': 0.6360357044552096, 'recall': 0.6025934401220442, 'f1-score': 0.6120886829358523, 'macro_f1-score': 0.40158006986649064, 'balanced_accuracy': 0.4313702342125367, 'mcc': 0.49581110560435554, 'train_loss': 1.6375253410981252}\n",
      "Epoch 2/20\n"
     ]
    },
    {
     "name": "stderr",
     "output_type": "stream",
     "text": [
      "100%|██████████| 1300/1300 [01:57<00:00, 11.08it/s]\n"
     ]
    },
    {
     "name": "stdout",
     "output_type": "stream",
     "text": [
      "{'val_loss': 1.6431531353694637, 'val_accuracy': 0.5919145690312738, 'precision': 0.6239698822852858, 'recall': 0.5919145690312738, 'f1-score': 0.5910918739906748, 'macro_f1-score': 0.4065625816938821, 'balanced_accuracy': 0.4194078006963988, 'mcc': 0.47816525780036173, 'train_loss': 0.44202614785960087}\n",
      "Epoch 3/20\n"
     ]
    },
    {
     "name": "stderr",
     "output_type": "stream",
     "text": [
      "100%|██████████| 1300/1300 [01:57<00:00, 11.09it/s]\n"
     ]
    },
    {
     "name": "stdout",
     "output_type": "stream",
     "text": [
      "{'val_loss': 1.5986336862168662, 'val_accuracy': 0.6338672768878718, 'precision': 0.6482881294553154, 'recall': 0.6338672768878718, 'f1-score': 0.6354970298208819, 'macro_f1-score': 0.42114243261977063, 'balanced_accuracy': 0.4215338470720466, 'mcc': 0.5281783228157318, 'train_loss': 0.24440891717059107}\n",
      "Epoch 4/20\n"
     ]
    },
    {
     "name": "stderr",
     "output_type": "stream",
     "text": [
      "100%|██████████| 1300/1300 [01:57<00:00, 11.08it/s]\n"
     ]
    },
    {
     "name": "stdout",
     "output_type": "stream",
     "text": [
      "{'val_loss': 1.9063454161329967, 'val_accuracy': 0.6025934401220442, 'precision': 0.654277030750151, 'recall': 0.6025934401220442, 'f1-score': 0.6141551937368989, 'macro_f1-score': 0.41564147659517586, 'balanced_accuracy': 0.45102419302586, 'mcc': 0.5121061616110767, 'train_loss': 0.16919369088485836}\n",
      "Epoch 5/20\n"
     ]
    },
    {
     "name": "stderr",
     "output_type": "stream",
     "text": [
      "100%|██████████| 1300/1300 [01:57<00:00, 11.08it/s]\n"
     ]
    },
    {
     "name": "stdout",
     "output_type": "stream",
     "text": [
      "{'val_loss': 1.8820970967048551, 'val_accuracy': 0.6247139588100686, 'precision': 0.6415692498044269, 'recall': 0.6247139588100686, 'f1-score': 0.6219080473448215, 'macro_f1-score': 0.40786394088928074, 'balanced_accuracy': 0.40492236401189846, 'mcc': 0.5167486676565284, 'train_loss': 0.1283419733490938}\n",
      "Epoch 6/20\n"
     ]
    },
    {
     "name": "stderr",
     "output_type": "stream",
     "text": [
      "100%|██████████| 1300/1300 [01:57<00:00, 11.09it/s]\n"
     ]
    },
    {
     "name": "stdout",
     "output_type": "stream",
     "text": [
      "{'val_loss': 1.893886362997497, 'val_accuracy': 0.6491228070175439, 'precision': 0.6602984150031754, 'recall': 0.6491228070175439, 'f1-score': 0.6423281469501159, 'macro_f1-score': 0.45283684951336617, 'balanced_accuracy': 0.44505200363020464, 'mcc': 0.5369949061582237, 'train_loss': 0.10720920799389624}\n",
      "Epoch 7/20\n"
     ]
    },
    {
     "name": "stderr",
     "output_type": "stream",
     "text": [
      "100%|██████████| 1300/1300 [01:57<00:00, 11.07it/s]\n"
     ]
    },
    {
     "name": "stdout",
     "output_type": "stream",
     "text": [
      "{'val_loss': 1.9818489987675736, 'val_accuracy': 0.6399694889397407, 'precision': 0.6369163099931012, 'recall': 0.6399694889397407, 'f1-score': 0.6180402216963929, 'macro_f1-score': 0.4207559458600678, 'balanced_accuracy': 0.40978611781310753, 'mcc': 0.5163699419112486, 'train_loss': 0.08586640689880229}\n",
      "Epoch 8/20\n"
     ]
    },
    {
     "name": "stderr",
     "output_type": "stream",
     "text": [
      "100%|██████████| 1300/1300 [01:57<00:00, 11.08it/s]\n"
     ]
    },
    {
     "name": "stdout",
     "output_type": "stream",
     "text": [
      "{'val_loss': 1.9817841965250853, 'val_accuracy': 0.6247139588100686, 'precision': 0.6381196916369831, 'recall': 0.6247139588100686, 'f1-score': 0.6251501779757266, 'macro_f1-score': 0.4232638254519823, 'balanced_accuracy': 0.44065359413626887, 'mcc': 0.5208701922356829, 'train_loss': 0.09172848022130962}\n",
      "Epoch 9/20\n"
     ]
    },
    {
     "name": "stderr",
     "output_type": "stream",
     "text": [
      "100%|██████████| 1300/1300 [01:57<00:00, 11.09it/s]\n"
     ]
    },
    {
     "name": "stdout",
     "output_type": "stream",
     "text": [
      "{'val_loss': 2.244587044163448, 'val_accuracy': 0.566742944317315, 'precision': 0.6527435678574558, 'recall': 0.566742944317315, 'f1-score': 0.5905510035344191, 'macro_f1-score': 0.41210762999858436, 'balanced_accuracy': 0.4585707699417369, 'mcc': 0.4871583042209109, 'train_loss': 0.08058286257052365}\n",
      "Early stopping.\n",
      "\n",
      " === bert-base-uncased + lstm + ros Final 5-fold Cross-Validation Results ===\n",
      "val_loss: 1.9473\n",
      "val_accuracy: 0.6344\n",
      "precision: 0.6425\n",
      "recall: 0.6344\n",
      "f1-score: 0.6291\n",
      "macro_f1-score: 0.4244\n",
      "balanced_accuracy: 0.4289\n",
      "mcc: 0.5242\n",
      "train_loss: 0.1136\n",
      "total_seconds: 5430.0000\n",
      "total_time: 1 hrs 30 mins 30 secs\n",
      "▶ Running: bert-base-uncased + bilstm + ros\n",
      "tokenizer is bert-base-uncased\n",
      "Using device: cuda\n",
      "CUDA Available: True\n",
      "CUDA Device: NVIDIA GeForce RTX 5070 Ti\n",
      "Current GPU Memory Allocated: 0.02 GB\n",
      "Current GPU Memory Cached: 3.14 GB\n",
      "\n",
      "[Fold 1]\n",
      "Label distribution after resampling:\n",
      "  label 0: 2000\n",
      "  label 1: 400\n",
      "  label 2: 400\n",
      "  label 3: 400\n",
      "  label 4: 400\n",
      "  label 5: 400\n",
      "  label 6: 400\n",
      "  label 7: 400\n",
      "  label 8: 400\n",
      "  label 9: 400\n",
      "  label 10: 400\n",
      "  label 11: 400\n",
      "  label 12: 400\n",
      "  label 13: 400\n",
      "  label 14: 400\n",
      "  label 15: 400\n",
      "  label 16: 400\n",
      "  label 17: 400\n",
      "  label 18: 400\n",
      "  label 19: 400\n",
      "  label 20: 400\n",
      "  label 21: 400\n",
      "  label 22: 400\n",
      "  label 23: 400\n",
      "  label 24: 400\n",
      "  label 25: 400\n",
      "  label 26: 400\n",
      "  label 27: 400\n",
      "  label 28: 400\n",
      "  label 29: 400\n",
      "  label 30: 400\n",
      "  label 31: 400\n",
      "  label 32: 400\n",
      "  label 33: 400\n",
      "  label 34: 400\n",
      "  label 35: 400\n",
      "  label 36: 400\n",
      "  label 37: 400\n",
      "  label 38: 400\n",
      "  label 39: 400\n",
      "  label 40: 400\n",
      "  label 41: 400\n",
      "  label 42: 400\n",
      "  label 43: 400\n",
      "  label 44: 400\n",
      "  label 45: 400\n",
      "  label 46: 400\n",
      "  label 47: 400\n",
      "model is bert-base-uncased bilstm\n",
      "Epoch 1/20\n"
     ]
    },
    {
     "name": "stderr",
     "output_type": "stream",
     "text": [
      "100%|██████████| 1300/1300 [02:00<00:00, 10.77it/s]\n"
     ]
    },
    {
     "name": "stdout",
     "output_type": "stream",
     "text": [
      "{'val_loss': 1.5488926819184932, 'val_accuracy': 0.6257621951219512, 'precision': 0.6297549920121224, 'recall': 0.6257621951219512, 'f1-score': 0.6050221291831179, 'macro_f1-score': 0.41230994444896124, 'balanced_accuracy': 0.42801178445191473, 'mcc': 0.4928884111873348, 'train_loss': 1.5340218853033505}\n",
      "Epoch 2/20\n"
     ]
    },
    {
     "name": "stderr",
     "output_type": "stream",
     "text": [
      "100%|██████████| 1300/1300 [02:00<00:00, 10.76it/s]\n"
     ]
    },
    {
     "name": "stdout",
     "output_type": "stream",
     "text": [
      "{'val_loss': 1.589792424585761, 'val_accuracy': 0.618140243902439, 'precision': 0.6372189257823124, 'recall': 0.618140243902439, 'f1-score': 0.6177932461462746, 'macro_f1-score': 0.40299055350816526, 'balanced_accuracy': 0.4148345104252505, 'mcc': 0.508476136785741, 'train_loss': 0.3416091328887985}\n",
      "Epoch 3/20\n"
     ]
    },
    {
     "name": "stderr",
     "output_type": "stream",
     "text": [
      "100%|██████████| 1300/1300 [02:00<00:00, 10.77it/s]\n"
     ]
    },
    {
     "name": "stdout",
     "output_type": "stream",
     "text": [
      "{'val_loss': 1.8063397218541402, 'val_accuracy': 0.6219512195121951, 'precision': 0.6161403562776797, 'recall': 0.6219512195121951, 'f1-score': 0.6092303650950261, 'macro_f1-score': 0.3862982695561629, 'balanced_accuracy': 0.3865473205013397, 'mcc': 0.4909371833601804, 'train_loss': 0.1681084672956226}\n",
      "Epoch 4/20\n"
     ]
    },
    {
     "name": "stderr",
     "output_type": "stream",
     "text": [
      "100%|██████████| 1300/1300 [02:00<00:00, 10.76it/s]\n"
     ]
    },
    {
     "name": "stdout",
     "output_type": "stream",
     "text": [
      "{'val_loss': 1.8632136670554555, 'val_accuracy': 0.625, 'precision': 0.6339415006972045, 'recall': 0.625, 'f1-score': 0.6197217006215291, 'macro_f1-score': 0.3918611920491723, 'balanced_accuracy': 0.4201512254703446, 'mcc': 0.5095490536854332, 'train_loss': 0.12622960820937387}\n",
      "Early stopping.\n",
      "\n",
      "[Fold 2]\n",
      "Label distribution after resampling:\n",
      "  label 0: 2000\n",
      "  label 1: 400\n",
      "  label 2: 400\n",
      "  label 3: 400\n",
      "  label 4: 400\n",
      "  label 5: 400\n",
      "  label 6: 400\n",
      "  label 7: 400\n",
      "  label 8: 400\n",
      "  label 9: 400\n",
      "  label 10: 400\n",
      "  label 11: 400\n",
      "  label 12: 400\n",
      "  label 13: 400\n",
      "  label 14: 400\n",
      "  label 15: 400\n",
      "  label 16: 400\n",
      "  label 17: 400\n",
      "  label 18: 400\n",
      "  label 19: 400\n",
      "  label 20: 400\n",
      "  label 21: 400\n",
      "  label 22: 400\n",
      "  label 23: 400\n",
      "  label 24: 400\n",
      "  label 25: 400\n",
      "  label 26: 400\n",
      "  label 27: 400\n",
      "  label 28: 400\n",
      "  label 29: 400\n",
      "  label 30: 400\n",
      "  label 31: 400\n",
      "  label 32: 400\n",
      "  label 33: 400\n",
      "  label 34: 400\n",
      "  label 35: 400\n",
      "  label 36: 400\n",
      "  label 37: 400\n",
      "  label 38: 400\n",
      "  label 39: 400\n",
      "  label 40: 400\n",
      "  label 41: 400\n",
      "  label 42: 400\n",
      "  label 43: 400\n",
      "  label 44: 400\n",
      "  label 45: 400\n",
      "  label 46: 400\n",
      "  label 47: 400\n",
      "model is bert-base-uncased bilstm\n",
      "Epoch 1/20\n"
     ]
    },
    {
     "name": "stderr",
     "output_type": "stream",
     "text": [
      "100%|██████████| 1300/1300 [02:00<00:00, 10.76it/s]\n"
     ]
    },
    {
     "name": "stdout",
     "output_type": "stream",
     "text": [
      "{'val_loss': 1.6625096892438285, 'val_accuracy': 0.5720823798627003, 'precision': 0.6072672441114608, 'recall': 0.5720823798627003, 'f1-score': 0.5741665886198989, 'macro_f1-score': 0.360407345539826, 'balanced_accuracy': 0.41012012373604384, 'mcc': 0.4520185041898323, 'train_loss': 1.6522489227813024}\n",
      "Epoch 2/20\n"
     ]
    },
    {
     "name": "stderr",
     "output_type": "stream",
     "text": [
      "100%|██████████| 1300/1300 [02:00<00:00, 10.76it/s]\n"
     ]
    },
    {
     "name": "stdout",
     "output_type": "stream",
     "text": [
      "{'val_loss': 1.6519600785360105, 'val_accuracy': 0.6178489702517163, 'precision': 0.6364788784407354, 'recall': 0.6178489702517163, 'f1-score': 0.6172161844951835, 'macro_f1-score': 0.38029742529744576, 'balanced_accuracy': 0.3908661431739083, 'mcc': 0.5027038441823845, 'train_loss': 0.39736018201766105}\n",
      "Epoch 3/20\n"
     ]
    },
    {
     "name": "stderr",
     "output_type": "stream",
     "text": [
      "100%|██████████| 1300/1300 [02:00<00:00, 10.76it/s]\n"
     ]
    },
    {
     "name": "stdout",
     "output_type": "stream",
     "text": [
      "{'val_loss': 1.7317529891322299, 'val_accuracy': 0.6193745232646835, 'precision': 0.6313697333206836, 'recall': 0.6193745232646835, 'f1-score': 0.6190979983072875, 'macro_f1-score': 0.4243973729482307, 'balanced_accuracy': 0.43156461806724034, 'mcc': 0.5048677506018968, 'train_loss': 0.20883850324182557}\n",
      "Epoch 4/20\n"
     ]
    },
    {
     "name": "stderr",
     "output_type": "stream",
     "text": [
      "100%|██████████| 1300/1300 [02:00<00:00, 10.76it/s]\n"
     ]
    },
    {
     "name": "stdout",
     "output_type": "stream",
     "text": [
      "{'val_loss': 1.9123760178321745, 'val_accuracy': 0.6193745232646835, 'precision': 0.6281055112330176, 'recall': 0.6193745232646835, 'f1-score': 0.6160745612736126, 'macro_f1-score': 0.37190755973610495, 'balanced_accuracy': 0.3895414024195116, 'mcc': 0.5114222092092874, 'train_loss': 0.13436550189884236}\n",
      "Epoch 5/20\n"
     ]
    },
    {
     "name": "stderr",
     "output_type": "stream",
     "text": [
      "100%|██████████| 1300/1300 [02:00<00:00, 10.76it/s]\n"
     ]
    },
    {
     "name": "stdout",
     "output_type": "stream",
     "text": [
      "{'val_loss': 1.9195998143859025, 'val_accuracy': 0.6414950419527079, 'precision': 0.5998245369758848, 'recall': 0.6414950419527079, 'f1-score': 0.6068129320766052, 'macro_f1-score': 0.34941062341831053, 'balanced_accuracy': 0.3328656121820714, 'mcc': 0.5044865998095415, 'train_loss': 0.10572068449718734}\n",
      "Epoch 6/20\n"
     ]
    },
    {
     "name": "stderr",
     "output_type": "stream",
     "text": [
      "100%|██████████| 1300/1300 [02:00<00:00, 10.77it/s]\n"
     ]
    },
    {
     "name": "stdout",
     "output_type": "stream",
     "text": [
      "{'val_loss': 1.9844920918708895, 'val_accuracy': 0.6437833714721587, 'precision': 0.6122525743605582, 'recall': 0.6437833714721587, 'f1-score': 0.6135754328829623, 'macro_f1-score': 0.3781780236177461, 'balanced_accuracy': 0.3801303412441799, 'mcc': 0.5107269450873123, 'train_loss': 0.08177875852785431}\n",
      "Early stopping.\n",
      "\n",
      "[Fold 3]\n",
      "Label distribution after resampling:\n",
      "  label 0: 2000\n",
      "  label 1: 400\n",
      "  label 2: 400\n",
      "  label 3: 400\n",
      "  label 4: 400\n",
      "  label 5: 400\n",
      "  label 6: 400\n",
      "  label 7: 400\n",
      "  label 8: 400\n",
      "  label 9: 400\n",
      "  label 10: 400\n",
      "  label 11: 400\n",
      "  label 12: 400\n",
      "  label 13: 400\n",
      "  label 14: 400\n",
      "  label 15: 400\n",
      "  label 16: 400\n",
      "  label 17: 400\n",
      "  label 18: 400\n",
      "  label 19: 400\n",
      "  label 20: 400\n",
      "  label 21: 400\n",
      "  label 22: 400\n",
      "  label 23: 400\n",
      "  label 24: 400\n",
      "  label 25: 400\n",
      "  label 26: 400\n",
      "  label 27: 400\n",
      "  label 28: 400\n",
      "  label 29: 400\n",
      "  label 30: 400\n",
      "  label 31: 400\n",
      "  label 32: 400\n",
      "  label 33: 400\n",
      "  label 34: 400\n",
      "  label 35: 400\n",
      "  label 36: 400\n",
      "  label 37: 400\n",
      "  label 38: 400\n",
      "  label 39: 400\n",
      "  label 40: 400\n",
      "  label 41: 400\n",
      "  label 42: 400\n",
      "  label 43: 400\n",
      "  label 44: 400\n",
      "  label 45: 400\n",
      "  label 46: 400\n",
      "  label 47: 400\n",
      "model is bert-base-uncased bilstm\n",
      "Epoch 1/20\n"
     ]
    },
    {
     "name": "stderr",
     "output_type": "stream",
     "text": [
      "100%|██████████| 1300/1300 [02:00<00:00, 10.76it/s]\n"
     ]
    },
    {
     "name": "stdout",
     "output_type": "stream",
     "text": [
      "{'val_loss': 1.61202787698769, 'val_accuracy': 0.5865751334858886, 'precision': 0.6051323642184456, 'recall': 0.5865751334858886, 'f1-score': 0.581292682369169, 'macro_f1-score': 0.386584960461876, 'balanced_accuracy': 0.4030574474799546, 'mcc': 0.45567312449680664, 'train_loss': 1.6250488096590225}\n",
      "Epoch 2/20\n"
     ]
    },
    {
     "name": "stderr",
     "output_type": "stream",
     "text": [
      "100%|██████████| 1300/1300 [02:00<00:00, 10.76it/s]\n"
     ]
    },
    {
     "name": "stdout",
     "output_type": "stream",
     "text": [
      "{'val_loss': 1.7124701164117673, 'val_accuracy': 0.5842868039664378, 'precision': 0.621428821132724, 'recall': 0.5842868039664378, 'f1-score': 0.5911407693651688, 'macro_f1-score': 0.40706094199244003, 'balanced_accuracy': 0.4223597756968435, 'mcc': 0.4695474632919762, 'train_loss': 0.366140692689671}\n",
      "Epoch 3/20\n"
     ]
    },
    {
     "name": "stderr",
     "output_type": "stream",
     "text": [
      "100%|██████████| 1300/1300 [02:00<00:00, 10.77it/s]\n"
     ]
    },
    {
     "name": "stdout",
     "output_type": "stream",
     "text": [
      "{'val_loss': 1.7041454066227122, 'val_accuracy': 0.6384439359267735, 'precision': 0.6146234917703186, 'recall': 0.6384439359267735, 'f1-score': 0.6118522976045554, 'macro_f1-score': 0.3853017400067332, 'balanced_accuracy': 0.3610399086000657, 'mcc': 0.5074226542821665, 'train_loss': 0.17880642819361617}\n",
      "Epoch 4/20\n"
     ]
    },
    {
     "name": "stderr",
     "output_type": "stream",
     "text": [
      "100%|██████████| 1300/1300 [02:00<00:00, 10.77it/s]\n"
     ]
    },
    {
     "name": "stdout",
     "output_type": "stream",
     "text": [
      "{'val_loss': 1.8822052241643754, 'val_accuracy': 0.631578947368421, 'precision': 0.6230981733714994, 'recall': 0.631578947368421, 'f1-score': 0.6169153574060817, 'macro_f1-score': 0.39782737805081014, 'balanced_accuracy': 0.37482606928298073, 'mcc': 0.5081947593764039, 'train_loss': 0.1319027717074809}\n",
      "Epoch 5/20\n"
     ]
    },
    {
     "name": "stderr",
     "output_type": "stream",
     "text": [
      "100%|██████████| 1300/1300 [02:00<00:00, 10.78it/s]\n"
     ]
    },
    {
     "name": "stdout",
     "output_type": "stream",
     "text": [
      "{'val_loss': 2.032380569271925, 'val_accuracy': 0.6003051106025934, 'precision': 0.6101726232572646, 'recall': 0.6003051106025934, 'f1-score': 0.5947608350530851, 'macro_f1-score': 0.3780982396969936, 'balanced_accuracy': 0.38065069537388346, 'mcc': 0.4852508623249464, 'train_loss': 0.08510591828801597}\n",
      "Early stopping.\n",
      "\n",
      "[Fold 4]\n",
      "Label distribution after resampling:\n",
      "  label 0: 2000\n",
      "  label 1: 400\n",
      "  label 2: 400\n",
      "  label 3: 400\n",
      "  label 4: 400\n",
      "  label 5: 400\n",
      "  label 6: 400\n",
      "  label 7: 400\n",
      "  label 8: 400\n",
      "  label 9: 400\n",
      "  label 10: 400\n",
      "  label 11: 400\n",
      "  label 12: 400\n",
      "  label 13: 400\n",
      "  label 14: 400\n",
      "  label 15: 400\n",
      "  label 16: 400\n",
      "  label 17: 400\n",
      "  label 18: 400\n",
      "  label 19: 400\n",
      "  label 20: 400\n",
      "  label 21: 400\n",
      "  label 22: 400\n",
      "  label 23: 400\n",
      "  label 24: 400\n",
      "  label 25: 400\n",
      "  label 26: 400\n",
      "  label 27: 400\n",
      "  label 28: 400\n",
      "  label 29: 400\n",
      "  label 30: 400\n",
      "  label 31: 400\n",
      "  label 32: 400\n",
      "  label 33: 400\n",
      "  label 34: 400\n",
      "  label 35: 400\n",
      "  label 36: 400\n",
      "  label 37: 400\n",
      "  label 38: 400\n",
      "  label 39: 400\n",
      "  label 40: 400\n",
      "  label 41: 400\n",
      "  label 42: 400\n",
      "  label 43: 400\n",
      "  label 44: 400\n",
      "  label 45: 400\n",
      "  label 46: 400\n",
      "  label 47: 400\n",
      "model is bert-base-uncased bilstm\n",
      "Epoch 1/20\n"
     ]
    },
    {
     "name": "stderr",
     "output_type": "stream",
     "text": [
      "100%|██████████| 1300/1300 [02:00<00:00, 10.76it/s]\n"
     ]
    },
    {
     "name": "stdout",
     "output_type": "stream",
     "text": [
      "{'val_loss': 1.4761981495269916, 'val_accuracy': 0.6231884057971014, 'precision': 0.6377181172045159, 'recall': 0.6231884057971014, 'f1-score': 0.6070049474199625, 'macro_f1-score': 0.4047209911469363, 'balanced_accuracy': 0.42300796041832234, 'mcc': 0.4917676299704644, 'train_loss': 1.5406740412459923}\n",
      "Epoch 2/20\n"
     ]
    },
    {
     "name": "stderr",
     "output_type": "stream",
     "text": [
      "100%|██████████| 1300/1300 [02:00<00:00, 10.77it/s]\n"
     ]
    },
    {
     "name": "stdout",
     "output_type": "stream",
     "text": [
      "{'val_loss': 1.6615472973846808, 'val_accuracy': 0.6064073226544623, 'precision': 0.630513879896912, 'recall': 0.6064073226544623, 'f1-score': 0.6120760693853796, 'macro_f1-score': 0.39011619346843857, 'balanced_accuracy': 0.4026154299696369, 'mcc': 0.49269551614814155, 'train_loss': 0.36380823037658744}\n",
      "Epoch 3/20\n"
     ]
    },
    {
     "name": "stderr",
     "output_type": "stream",
     "text": [
      "100%|██████████| 1300/1300 [02:00<00:00, 10.77it/s]\n"
     ]
    },
    {
     "name": "stdout",
     "output_type": "stream",
     "text": [
      "{'val_loss': 1.7981577173965733, 'val_accuracy': 0.6254767353165522, 'precision': 0.6458566287563503, 'recall': 0.6254767353165522, 'f1-score': 0.6275099939491426, 'macro_f1-score': 0.3911790367044996, 'balanced_accuracy': 0.4185376950035515, 'mcc': 0.5180885536072543, 'train_loss': 0.17981331637487388}\n",
      "Epoch 4/20\n"
     ]
    },
    {
     "name": "stderr",
     "output_type": "stream",
     "text": [
      "100%|██████████| 1300/1300 [02:00<00:00, 10.77it/s]\n"
     ]
    },
    {
     "name": "stdout",
     "output_type": "stream",
     "text": [
      "{'val_loss': 1.8566320901963769, 'val_accuracy': 0.6453089244851259, 'precision': 0.6552692501400279, 'recall': 0.6453089244851259, 'f1-score': 0.642937123476265, 'macro_f1-score': 0.4165161801872117, 'balanced_accuracy': 0.4264386851493189, 'mcc': 0.5394808474215838, 'train_loss': 0.11837165941914114}\n",
      "Epoch 5/20\n"
     ]
    },
    {
     "name": "stderr",
     "output_type": "stream",
     "text": [
      "100%|██████████| 1300/1300 [02:00<00:00, 10.77it/s]\n"
     ]
    },
    {
     "name": "stdout",
     "output_type": "stream",
     "text": [
      "{'val_loss': 2.1721143918793375, 'val_accuracy': 0.5682684973302822, 'precision': 0.6529579362017063, 'recall': 0.5682684973302822, 'f1-score': 0.5900895316935366, 'macro_f1-score': 0.3983692232411944, 'balanced_accuracy': 0.43804590220755274, 'mcc': 0.4820637549914103, 'train_loss': 0.10021422029544527}\n",
      "Epoch 6/20\n"
     ]
    },
    {
     "name": "stderr",
     "output_type": "stream",
     "text": [
      "100%|██████████| 1300/1300 [02:00<00:00, 10.76it/s]\n"
     ]
    },
    {
     "name": "stdout",
     "output_type": "stream",
     "text": [
      "{'val_loss': 2.0168988406658173, 'val_accuracy': 0.6323417238749046, 'precision': 0.6494082585612684, 'recall': 0.6323417238749046, 'f1-score': 0.6337225903298089, 'macro_f1-score': 0.4121861086501017, 'balanced_accuracy': 0.4209806827846912, 'mcc': 0.5302992680887689, 'train_loss': 0.07266624350029116}\n",
      "Epoch 7/20\n"
     ]
    },
    {
     "name": "stderr",
     "output_type": "stream",
     "text": [
      "100%|██████████| 1300/1300 [02:00<00:00, 10.76it/s]\n"
     ]
    },
    {
     "name": "stdout",
     "output_type": "stream",
     "text": [
      "{'val_loss': 2.1170611912157478, 'val_accuracy': 0.6247139588100686, 'precision': 0.6437738736919036, 'recall': 0.6247139588100686, 'f1-score': 0.6252166703434126, 'macro_f1-score': 0.42117324738353973, 'balanced_accuracy': 0.4494525542103862, 'mcc': 0.5212703908405818, 'train_loss': 0.08068866995252812}\n",
      "Epoch 8/20\n"
     ]
    },
    {
     "name": "stderr",
     "output_type": "stream",
     "text": [
      "100%|██████████| 1300/1300 [02:00<00:00, 10.77it/s]\n"
     ]
    },
    {
     "name": "stdout",
     "output_type": "stream",
     "text": [
      "{'val_loss': 2.1138882716981375, 'val_accuracy': 0.6361556064073226, 'precision': 0.6566717483075576, 'recall': 0.6361556064073226, 'f1-score': 0.6347256990655956, 'macro_f1-score': 0.40840773193006474, 'balanced_accuracy': 0.4202444221598088, 'mcc': 0.531358601921354, 'train_loss': 0.06181412288892226}\n",
      "Epoch 9/20\n"
     ]
    },
    {
     "name": "stderr",
     "output_type": "stream",
     "text": [
      "100%|██████████| 1300/1300 [02:00<00:00, 10.76it/s]\n"
     ]
    },
    {
     "name": "stdout",
     "output_type": "stream",
     "text": [
      "{'val_loss': 2.1791761602933812, 'val_accuracy': 0.6300533943554538, 'precision': 0.653789278296549, 'recall': 0.6300533943554538, 'f1-score': 0.6303275428652226, 'macro_f1-score': 0.4179120532720031, 'balanced_accuracy': 0.4360522096669528, 'mcc': 0.5217517759447061, 'train_loss': 0.06412473110652242}\n",
      "Epoch 10/20\n"
     ]
    },
    {
     "name": "stderr",
     "output_type": "stream",
     "text": [
      "100%|██████████| 1300/1300 [02:00<00:00, 10.77it/s]\n"
     ]
    },
    {
     "name": "stdout",
     "output_type": "stream",
     "text": [
      "{'val_loss': 2.099428807544272, 'val_accuracy': 0.6437833714721587, 'precision': 0.6478476794582325, 'recall': 0.6437833714721587, 'f1-score': 0.6402713703469857, 'macro_f1-score': 0.40189743920541865, 'balanced_accuracy': 0.40401048032589704, 'mcc': 0.538752418186557, 'train_loss': 0.06835943389719781}\n",
      "Early stopping.\n",
      "\n",
      "[Fold 5]\n",
      "Label distribution after resampling:\n",
      "  label 0: 2000\n",
      "  label 1: 400\n",
      "  label 2: 400\n",
      "  label 3: 400\n",
      "  label 4: 400\n",
      "  label 5: 400\n",
      "  label 6: 400\n",
      "  label 7: 400\n",
      "  label 8: 400\n",
      "  label 9: 400\n",
      "  label 10: 400\n",
      "  label 11: 400\n",
      "  label 12: 400\n",
      "  label 13: 400\n",
      "  label 14: 400\n",
      "  label 15: 400\n",
      "  label 16: 400\n",
      "  label 17: 400\n",
      "  label 18: 400\n",
      "  label 19: 400\n",
      "  label 20: 400\n",
      "  label 21: 400\n",
      "  label 22: 400\n",
      "  label 23: 400\n",
      "  label 24: 400\n",
      "  label 25: 400\n",
      "  label 26: 400\n",
      "  label 27: 400\n",
      "  label 28: 400\n",
      "  label 29: 400\n",
      "  label 30: 400\n",
      "  label 31: 400\n",
      "  label 32: 400\n",
      "  label 33: 400\n",
      "  label 34: 400\n",
      "  label 35: 400\n",
      "  label 36: 400\n",
      "  label 37: 400\n",
      "  label 38: 400\n",
      "  label 39: 400\n",
      "  label 40: 400\n",
      "  label 41: 400\n",
      "  label 42: 400\n",
      "  label 43: 400\n",
      "  label 44: 400\n",
      "  label 45: 400\n",
      "  label 46: 400\n",
      "  label 47: 400\n",
      "model is bert-base-uncased bilstm\n",
      "Epoch 1/20\n"
     ]
    },
    {
     "name": "stderr",
     "output_type": "stream",
     "text": [
      "100%|██████████| 1300/1300 [02:00<00:00, 10.77it/s]\n"
     ]
    },
    {
     "name": "stdout",
     "output_type": "stream",
     "text": [
      "{'val_loss': 1.508819382365157, 'val_accuracy': 0.6056445461479787, 'precision': 0.6448396616716617, 'recall': 0.6056445461479787, 'f1-score': 0.6133639511833918, 'macro_f1-score': 0.40304511421308803, 'balanced_accuracy': 0.4174476321995202, 'mcc': 0.4929373633664414, 'train_loss': 1.4910809427499772}\n",
      "Epoch 2/20\n"
     ]
    },
    {
     "name": "stderr",
     "output_type": "stream",
     "text": [
      "100%|██████████| 1300/1300 [02:00<00:00, 10.76it/s]\n"
     ]
    },
    {
     "name": "stdout",
     "output_type": "stream",
     "text": [
      "{'val_loss': 1.6594158807178823, 'val_accuracy': 0.6025934401220442, 'precision': 0.6491980082038445, 'recall': 0.6025934401220442, 'f1-score': 0.6131090665650788, 'macro_f1-score': 0.4019449769378329, 'balanced_accuracy': 0.41507293496324255, 'mcc': 0.5049864070701918, 'train_loss': 0.34230150238969004}\n",
      "Epoch 3/20\n"
     ]
    },
    {
     "name": "stderr",
     "output_type": "stream",
     "text": [
      "100%|██████████| 1300/1300 [02:00<00:00, 10.76it/s]\n"
     ]
    },
    {
     "name": "stdout",
     "output_type": "stream",
     "text": [
      "{'val_loss': 1.6449711451806672, 'val_accuracy': 0.6475972540045767, 'precision': 0.6546801738676905, 'recall': 0.6475972540045767, 'f1-score': 0.6424410550295045, 'macro_f1-score': 0.42691283046761036, 'balanced_accuracy': 0.431867884165455, 'mcc': 0.5388172938794445, 'train_loss': 0.17492372433869885}\n",
      "Epoch 4/20\n"
     ]
    },
    {
     "name": "stderr",
     "output_type": "stream",
     "text": [
      "100%|██████████| 1300/1300 [02:00<00:00, 10.78it/s]\n"
     ]
    },
    {
     "name": "stdout",
     "output_type": "stream",
     "text": [
      "{'val_loss': 1.8338560047673016, 'val_accuracy': 0.6262395118230358, 'precision': 0.6481782530525585, 'recall': 0.6262395118230358, 'f1-score': 0.6233944546958392, 'macro_f1-score': 0.3968138441372571, 'balanced_accuracy': 0.39532741728920046, 'mcc': 0.5127176292771262, 'train_loss': 0.11999759636031321}\n",
      "Epoch 5/20\n"
     ]
    },
    {
     "name": "stderr",
     "output_type": "stream",
     "text": [
      "100%|██████████| 1300/1300 [02:00<00:00, 10.77it/s]\n"
     ]
    },
    {
     "name": "stdout",
     "output_type": "stream",
     "text": [
      "{'val_loss': 1.8060020117498026, 'val_accuracy': 0.6498855835240275, 'precision': 0.6293573734664433, 'recall': 0.6498855835240275, 'f1-score': 0.6305938037296859, 'macro_f1-score': 0.40499314027441685, 'balanced_accuracy': 0.3898296840568893, 'mcc': 0.5270017952780377, 'train_loss': 0.09725494181773124}\n",
      "Epoch 6/20\n"
     ]
    },
    {
     "name": "stderr",
     "output_type": "stream",
     "text": [
      "100%|██████████| 1300/1300 [02:00<00:00, 10.77it/s]\n"
     ]
    },
    {
     "name": "stdout",
     "output_type": "stream",
     "text": [
      "{'val_loss': 1.9358548770045363, 'val_accuracy': 0.631578947368421, 'precision': 0.6414749288325711, 'recall': 0.631578947368421, 'f1-score': 0.6265930187164664, 'macro_f1-score': 0.38970942535754016, 'balanced_accuracy': 0.37774597862405773, 'mcc': 0.5199863341569728, 'train_loss': 0.0678610827641275}\n",
      "Early stopping.\n",
      "\n",
      " === bert-base-uncased + bilstm + ros Final 5-fold Cross-Validation Results ===\n",
      "val_loss: 1.7510\n",
      "val_accuracy: 0.6203\n",
      "precision: 0.6362\n",
      "recall: 0.6203\n",
      "f1-score: 0.6166\n",
      "macro_f1-score: 0.4184\n",
      "balanced_accuracy: 0.4327\n",
      "mcc: 0.5055\n",
      "train_loss: 0.4729\n",
      "total_seconds: 3850.0000\n",
      "total_time: 1 hrs 4 mins 10 secs\n",
      "▶ Running: roberta-base + plain + ros\n",
      "tokenizer is roberta-base\n",
      "Using device: cuda\n",
      "CUDA Available: True\n",
      "CUDA Device: NVIDIA GeForce RTX 5070 Ti\n",
      "Current GPU Memory Allocated: 0.02 GB\n",
      "Current GPU Memory Cached: 3.14 GB\n",
      "\n",
      "[Fold 1]\n",
      "Label distribution after resampling:\n",
      "  label 0: 2000\n",
      "  label 1: 400\n",
      "  label 2: 400\n",
      "  label 3: 400\n",
      "  label 4: 400\n",
      "  label 5: 400\n",
      "  label 6: 400\n",
      "  label 7: 400\n",
      "  label 8: 400\n",
      "  label 9: 400\n",
      "  label 10: 400\n",
      "  label 11: 400\n",
      "  label 12: 400\n",
      "  label 13: 400\n",
      "  label 14: 400\n",
      "  label 15: 400\n",
      "  label 16: 400\n",
      "  label 17: 400\n",
      "  label 18: 400\n",
      "  label 19: 400\n",
      "  label 20: 400\n",
      "  label 21: 400\n",
      "  label 22: 400\n",
      "  label 23: 400\n",
      "  label 24: 400\n",
      "  label 25: 400\n",
      "  label 26: 400\n",
      "  label 27: 400\n",
      "  label 28: 400\n",
      "  label 29: 400\n",
      "  label 30: 400\n",
      "  label 31: 400\n",
      "  label 32: 400\n",
      "  label 33: 400\n",
      "  label 34: 400\n",
      "  label 35: 400\n",
      "  label 36: 400\n",
      "  label 37: 400\n",
      "  label 38: 400\n",
      "  label 39: 400\n",
      "  label 40: 400\n",
      "  label 41: 400\n",
      "  label 42: 400\n",
      "  label 43: 400\n",
      "  label 44: 400\n",
      "  label 45: 400\n",
      "  label 46: 400\n",
      "  label 47: 400\n",
      "model is roberta-base\n"
     ]
    },
    {
     "name": "stderr",
     "output_type": "stream",
     "text": [
      "Some weights of RobertaForSequenceClassification were not initialized from the model checkpoint at roberta-base and are newly initialized: ['classifier.dense.bias', 'classifier.dense.weight', 'classifier.out_proj.bias', 'classifier.out_proj.weight']\n",
      "You should probably TRAIN this model on a down-stream task to be able to use it for predictions and inference.\n"
     ]
    },
    {
     "name": "stdout",
     "output_type": "stream",
     "text": [
      "Epoch 1/20\n"
     ]
    },
    {
     "name": "stderr",
     "output_type": "stream",
     "text": [
      "100%|██████████| 1300/1300 [01:51<00:00, 11.63it/s]\n"
     ]
    },
    {
     "name": "stdout",
     "output_type": "stream",
     "text": [
      "{'val_loss': 1.8803415189429027, 'val_accuracy': 0.4885670731707317, 'precision': 0.6051639694005243, 'recall': 0.4885670731707317, 'f1-score': 0.507747868552705, 'macro_f1-score': 0.3086694206526851, 'balanced_accuracy': 0.40112395071142376, 'mcc': 0.37783929028625013, 'train_loss': 2.178017239501843}\n",
      "Epoch 2/20\n"
     ]
    },
    {
     "name": "stderr",
     "output_type": "stream",
     "text": [
      "100%|██████████| 1300/1300 [01:51<00:00, 11.62it/s]\n"
     ]
    },
    {
     "name": "stdout",
     "output_type": "stream",
     "text": [
      "{'val_loss': 1.7967907786369324, 'val_accuracy': 0.5602134146341463, 'precision': 0.6227522238772578, 'recall': 0.5602134146341463, 'f1-score': 0.5739757882780531, 'macro_f1-score': 0.3713617140831467, 'balanced_accuracy': 0.42027257323147116, 'mcc': 0.45343992371165986, 'train_loss': 0.688604904393164}\n",
      "Epoch 3/20\n"
     ]
    },
    {
     "name": "stderr",
     "output_type": "stream",
     "text": [
      "100%|██████████| 1300/1300 [01:51<00:00, 11.63it/s]\n"
     ]
    },
    {
     "name": "stdout",
     "output_type": "stream",
     "text": [
      "{'val_loss': 1.9395520599876963, 'val_accuracy': 0.5685975609756098, 'precision': 0.6148268978082105, 'recall': 0.5685975609756098, 'f1-score': 0.5779269991007538, 'macro_f1-score': 0.36639717929485976, 'balanced_accuracy': 0.4080606437663179, 'mcc': 0.45590549053972457, 'train_loss': 0.38200436414864203}\n",
      "Epoch 4/20\n"
     ]
    },
    {
     "name": "stderr",
     "output_type": "stream",
     "text": [
      "100%|██████████| 1300/1300 [01:51<00:00, 11.62it/s]\n"
     ]
    },
    {
     "name": "stdout",
     "output_type": "stream",
     "text": [
      "{'val_loss': 1.909459370665434, 'val_accuracy': 0.5945121951219512, 'precision': 0.6220674030489154, 'recall': 0.5945121951219512, 'f1-score': 0.5986904055971406, 'macro_f1-score': 0.41163652273062806, 'balanced_accuracy': 0.4325241263916592, 'mcc': 0.48454727234178885, 'train_loss': 0.27867056916252925}\n",
      "Epoch 5/20\n"
     ]
    },
    {
     "name": "stderr",
     "output_type": "stream",
     "text": [
      "100%|██████████| 1300/1300 [01:51<00:00, 11.62it/s]\n"
     ]
    },
    {
     "name": "stdout",
     "output_type": "stream",
     "text": [
      "{'val_loss': 1.9598994603971156, 'val_accuracy': 0.6280487804878049, 'precision': 0.6344367208988394, 'recall': 0.6280487804878049, 'f1-score': 0.6211248904044063, 'macro_f1-score': 0.4028574793032434, 'balanced_accuracy': 0.4279557939781848, 'mcc': 0.5108260155993554, 'train_loss': 0.22847596613690258}\n",
      "Epoch 6/20\n"
     ]
    },
    {
     "name": "stderr",
     "output_type": "stream",
     "text": [
      "100%|██████████| 1300/1300 [01:51<00:00, 11.62it/s]\n"
     ]
    },
    {
     "name": "stdout",
     "output_type": "stream",
     "text": [
      "{'val_loss': 2.1030349044538124, 'val_accuracy': 0.600609756097561, 'precision': 0.6287262157267749, 'recall': 0.600609756097561, 'f1-score': 0.6025911391288703, 'macro_f1-score': 0.3900128767734325, 'balanced_accuracy': 0.40874751331095527, 'mcc': 0.49253245431138504, 'train_loss': 0.19636581686826854}\n",
      "Epoch 7/20\n"
     ]
    },
    {
     "name": "stderr",
     "output_type": "stream",
     "text": [
      "100%|██████████| 1300/1300 [01:51<00:00, 11.63it/s]\n"
     ]
    },
    {
     "name": "stdout",
     "output_type": "stream",
     "text": [
      "{'val_loss': 2.1842241963235343, 'val_accuracy': 0.5884146341463414, 'precision': 0.6386037088466886, 'recall': 0.5884146341463414, 'f1-score': 0.6014154599675343, 'macro_f1-score': 0.4502477781857577, 'balanced_accuracy': 0.49077986307417776, 'mcc': 0.49334622207122186, 'train_loss': 0.15471742177883593}\n",
      "Epoch 8/20\n"
     ]
    },
    {
     "name": "stderr",
     "output_type": "stream",
     "text": [
      "100%|██████████| 1300/1300 [01:51<00:00, 11.63it/s]\n"
     ]
    },
    {
     "name": "stdout",
     "output_type": "stream",
     "text": [
      "{'val_loss': 2.276454119420633, 'val_accuracy': 0.5899390243902439, 'precision': 0.6215725876465893, 'recall': 0.5899390243902439, 'f1-score': 0.5929131448669451, 'macro_f1-score': 0.3841941413478387, 'balanced_accuracy': 0.4114258934793962, 'mcc': 0.47525311481412186, 'train_loss': 0.15018963714936176}\n",
      "Epoch 9/20\n"
     ]
    },
    {
     "name": "stderr",
     "output_type": "stream",
     "text": [
      "100%|██████████| 1300/1300 [01:51<00:00, 11.62it/s]\n"
     ]
    },
    {
     "name": "stdout",
     "output_type": "stream",
     "text": [
      "{'val_loss': 2.0402623989233155, 'val_accuracy': 0.6272865853658537, 'precision': 0.6299347647238087, 'recall': 0.6272865853658537, 'f1-score': 0.6210109393227182, 'macro_f1-score': 0.4238934443684619, 'balanced_accuracy': 0.419924079568506, 'mcc': 0.505503182011689, 'train_loss': 0.13562760550994427}\n",
      "Epoch 10/20\n"
     ]
    },
    {
     "name": "stderr",
     "output_type": "stream",
     "text": [
      "100%|██████████| 1300/1300 [01:51<00:00, 11.63it/s]\n"
     ]
    },
    {
     "name": "stdout",
     "output_type": "stream",
     "text": [
      "{'val_loss': 2.2135620829535694, 'val_accuracy': 0.614329268292683, 'precision': 0.6300942098878676, 'recall': 0.614329268292683, 'f1-score': 0.6119173604326129, 'macro_f1-score': 0.4176697978051694, 'balanced_accuracy': 0.4310430784342178, 'mcc': 0.5014444233866784, 'train_loss': 0.11447135040643983}\n",
      "Early stopping.\n",
      "\n",
      "[Fold 2]\n",
      "Label distribution after resampling:\n",
      "  label 0: 2000\n",
      "  label 1: 400\n",
      "  label 2: 400\n",
      "  label 3: 400\n",
      "  label 4: 400\n",
      "  label 5: 400\n",
      "  label 6: 400\n",
      "  label 7: 400\n",
      "  label 8: 400\n",
      "  label 9: 400\n",
      "  label 10: 400\n",
      "  label 11: 400\n",
      "  label 12: 400\n",
      "  label 13: 400\n",
      "  label 14: 400\n",
      "  label 15: 400\n",
      "  label 16: 400\n",
      "  label 17: 400\n",
      "  label 18: 400\n",
      "  label 19: 400\n",
      "  label 20: 400\n",
      "  label 21: 400\n",
      "  label 22: 400\n",
      "  label 23: 400\n",
      "  label 24: 400\n",
      "  label 25: 400\n",
      "  label 26: 400\n",
      "  label 27: 400\n",
      "  label 28: 400\n",
      "  label 29: 400\n",
      "  label 30: 400\n",
      "  label 31: 400\n",
      "  label 32: 400\n",
      "  label 33: 400\n",
      "  label 34: 400\n",
      "  label 35: 400\n",
      "  label 36: 400\n",
      "  label 37: 400\n",
      "  label 38: 400\n",
      "  label 39: 400\n",
      "  label 40: 400\n",
      "  label 41: 400\n",
      "  label 42: 400\n",
      "  label 43: 400\n",
      "  label 44: 400\n",
      "  label 45: 400\n",
      "  label 46: 400\n",
      "  label 47: 400\n",
      "model is roberta-base\n"
     ]
    },
    {
     "name": "stderr",
     "output_type": "stream",
     "text": [
      "Some weights of RobertaForSequenceClassification were not initialized from the model checkpoint at roberta-base and are newly initialized: ['classifier.dense.bias', 'classifier.dense.weight', 'classifier.out_proj.bias', 'classifier.out_proj.weight']\n",
      "You should probably TRAIN this model on a down-stream task to be able to use it for predictions and inference.\n"
     ]
    },
    {
     "name": "stdout",
     "output_type": "stream",
     "text": [
      "Epoch 1/20\n"
     ]
    },
    {
     "name": "stderr",
     "output_type": "stream",
     "text": [
      "100%|██████████| 1300/1300 [01:51<00:00, 11.63it/s]\n"
     ]
    },
    {
     "name": "stdout",
     "output_type": "stream",
     "text": [
      "{'val_loss': 1.7251727428378127, 'val_accuracy': 0.5423340961098398, 'precision': 0.5967194042804717, 'recall': 0.5423340961098398, 'f1-score': 0.5529592997201378, 'macro_f1-score': 0.3328686886981819, 'balanced_accuracy': 0.36706884424681574, 'mcc': 0.4258118714370576, 'train_loss': 1.7489594005392148}\n",
      "Epoch 2/20\n"
     ]
    },
    {
     "name": "stderr",
     "output_type": "stream",
     "text": [
      "100%|██████████| 1300/1300 [01:51<00:00, 11.62it/s]\n"
     ]
    },
    {
     "name": "stdout",
     "output_type": "stream",
     "text": [
      "{'val_loss': 1.723479886607426, 'val_accuracy': 0.601067887109077, 'precision': 0.6368283157910812, 'recall': 0.601067887109077, 'f1-score': 0.6035737203061208, 'macro_f1-score': 0.36573043677735795, 'balanced_accuracy': 0.3707567792761653, 'mcc': 0.48403140178704235, 'train_loss': 0.44556443992285777}\n",
      "Epoch 3/20\n"
     ]
    },
    {
     "name": "stderr",
     "output_type": "stream",
     "text": [
      "100%|██████████| 1300/1300 [01:51<00:00, 11.63it/s]\n"
     ]
    },
    {
     "name": "stdout",
     "output_type": "stream",
     "text": [
      "{'val_loss': 1.8170543516554483, 'val_accuracy': 0.6216628527841342, 'precision': 0.6321292388016932, 'recall': 0.6216628527841342, 'f1-score': 0.6182332158598391, 'macro_f1-score': 0.37478001047992454, 'balanced_accuracy': 0.3992311621286783, 'mcc': 0.508620363878682, 'train_loss': 0.2596391085900653}\n",
      "Epoch 4/20\n"
     ]
    },
    {
     "name": "stderr",
     "output_type": "stream",
     "text": [
      "100%|██████████| 1300/1300 [01:51<00:00, 11.63it/s]\n"
     ]
    },
    {
     "name": "stdout",
     "output_type": "stream",
     "text": [
      "{'val_loss': 2.049145005825089, 'val_accuracy': 0.5957284515636918, 'precision': 0.6078052209687937, 'recall': 0.5957284515636918, 'f1-score': 0.5896656926149986, 'macro_f1-score': 0.3382673807448404, 'balanced_accuracy': 0.3478225806049102, 'mcc': 0.4810329925392497, 'train_loss': 0.16701406678363967}\n",
      "Epoch 5/20\n"
     ]
    },
    {
     "name": "stderr",
     "output_type": "stream",
     "text": [
      "100%|██████████| 1300/1300 [01:51<00:00, 11.62it/s]\n"
     ]
    },
    {
     "name": "stdout",
     "output_type": "stream",
     "text": [
      "{'val_loss': 2.1643188137833667, 'val_accuracy': 0.5758962623951183, 'precision': 0.619037743893555, 'recall': 0.5758962623951183, 'f1-score': 0.5881860589696265, 'macro_f1-score': 0.3378216435524129, 'balanced_accuracy': 0.3794061991759387, 'mcc': 0.46351634024631805, 'train_loss': 0.16247949950683577}\n",
      "Epoch 6/20\n"
     ]
    },
    {
     "name": "stderr",
     "output_type": "stream",
     "text": [
      "100%|██████████| 1300/1300 [01:51<00:00, 11.63it/s]\n"
     ]
    },
    {
     "name": "stdout",
     "output_type": "stream",
     "text": [
      "{'val_loss': 2.0772547372957555, 'val_accuracy': 0.6056445461479787, 'precision': 0.6107935229812348, 'recall': 0.6056445461479787, 'f1-score': 0.5998066691567496, 'macro_f1-score': 0.3442383675053347, 'balanced_accuracy': 0.35554727902500205, 'mcc': 0.49040114311680566, 'train_loss': 0.12814345719704692}\n",
      "Early stopping.\n",
      "\n",
      "[Fold 3]\n",
      "Label distribution after resampling:\n",
      "  label 0: 2000\n",
      "  label 1: 400\n",
      "  label 2: 400\n",
      "  label 3: 400\n",
      "  label 4: 400\n",
      "  label 5: 400\n",
      "  label 6: 400\n",
      "  label 7: 400\n",
      "  label 8: 400\n",
      "  label 9: 400\n",
      "  label 10: 400\n",
      "  label 11: 400\n",
      "  label 12: 400\n",
      "  label 13: 400\n",
      "  label 14: 400\n",
      "  label 15: 400\n",
      "  label 16: 400\n",
      "  label 17: 400\n",
      "  label 18: 400\n",
      "  label 19: 400\n",
      "  label 20: 400\n",
      "  label 21: 400\n",
      "  label 22: 400\n",
      "  label 23: 400\n",
      "  label 24: 400\n",
      "  label 25: 400\n",
      "  label 26: 400\n",
      "  label 27: 400\n",
      "  label 28: 400\n",
      "  label 29: 400\n",
      "  label 30: 400\n",
      "  label 31: 400\n",
      "  label 32: 400\n",
      "  label 33: 400\n",
      "  label 34: 400\n",
      "  label 35: 400\n",
      "  label 36: 400\n",
      "  label 37: 400\n",
      "  label 38: 400\n",
      "  label 39: 400\n",
      "  label 40: 400\n",
      "  label 41: 400\n",
      "  label 42: 400\n",
      "  label 43: 400\n",
      "  label 44: 400\n",
      "  label 45: 400\n",
      "  label 46: 400\n",
      "  label 47: 400\n",
      "model is roberta-base\n"
     ]
    },
    {
     "name": "stderr",
     "output_type": "stream",
     "text": [
      "Some weights of RobertaForSequenceClassification were not initialized from the model checkpoint at roberta-base and are newly initialized: ['classifier.dense.bias', 'classifier.dense.weight', 'classifier.out_proj.bias', 'classifier.out_proj.weight']\n",
      "You should probably TRAIN this model on a down-stream task to be able to use it for predictions and inference.\n"
     ]
    },
    {
     "name": "stdout",
     "output_type": "stream",
     "text": [
      "Epoch 1/20\n"
     ]
    },
    {
     "name": "stderr",
     "output_type": "stream",
     "text": [
      "100%|██████████| 1300/1300 [01:51<00:00, 11.62it/s]\n"
     ]
    },
    {
     "name": "stdout",
     "output_type": "stream",
     "text": [
      "{'val_loss': 1.7256574071035153, 'val_accuracy': 0.5507246376811594, 'precision': 0.6203706979178462, 'recall': 0.5507246376811594, 'f1-score': 0.5649528956455374, 'macro_f1-score': 0.3483823570889835, 'balanced_accuracy': 0.3797259425102646, 'mcc': 0.4329687942407953, 'train_loss': 1.432551977737592}\n",
      "Epoch 2/20\n"
     ]
    },
    {
     "name": "stderr",
     "output_type": "stream",
     "text": [
      "100%|██████████| 1300/1300 [01:51<00:00, 11.62it/s]\n"
     ]
    },
    {
     "name": "stdout",
     "output_type": "stream",
     "text": [
      "{'val_loss': 1.8132183995188735, 'val_accuracy': 0.5766590389016019, 'precision': 0.6200875249800836, 'recall': 0.5766590389016019, 'f1-score': 0.5864069467191377, 'macro_f1-score': 0.378210981397115, 'balanced_accuracy': 0.39161514471356157, 'mcc': 0.4712079877822953, 'train_loss': 0.3595720577870424}\n",
      "Epoch 3/20\n"
     ]
    },
    {
     "name": "stderr",
     "output_type": "stream",
     "text": [
      "100%|██████████| 1300/1300 [01:51<00:00, 11.63it/s]\n"
     ]
    },
    {
     "name": "stdout",
     "output_type": "stream",
     "text": [
      "{'val_loss': 2.0516646984146862, 'val_accuracy': 0.562929061784897, 'precision': 0.6271702225537246, 'recall': 0.562929061784897, 'f1-score': 0.5829655399208561, 'macro_f1-score': 0.368910756470804, 'balanced_accuracy': 0.40565344400900866, 'mcc': 0.46416363795791316, 'train_loss': 0.22142614913531222}\n",
      "Epoch 4/20\n"
     ]
    },
    {
     "name": "stderr",
     "output_type": "stream",
     "text": [
      "100%|██████████| 1300/1300 [01:51<00:00, 11.62it/s]\n"
     ]
    },
    {
     "name": "stdout",
     "output_type": "stream",
     "text": [
      "{'val_loss': 2.1593426266094533, 'val_accuracy': 0.581998474446987, 'precision': 0.5987949283517401, 'recall': 0.581998474446987, 'f1-score': 0.5828133465436293, 'macro_f1-score': 0.3576847184776182, 'balanced_accuracy': 0.3652469279769021, 'mcc': 0.4601508913355915, 'train_loss': 0.15241381871048362}\n",
      "Epoch 5/20\n"
     ]
    },
    {
     "name": "stderr",
     "output_type": "stream",
     "text": [
      "100%|██████████| 1300/1300 [01:51<00:00, 11.62it/s]\n"
     ]
    },
    {
     "name": "stdout",
     "output_type": "stream",
     "text": [
      "{'val_loss': 2.2235517563616356, 'val_accuracy': 0.5865751334858886, 'precision': 0.6088614152924355, 'recall': 0.5865751334858886, 'f1-score': 0.5877296123488949, 'macro_f1-score': 0.3503480642959027, 'balanced_accuracy': 0.37593164519613637, 'mcc': 0.4717451482821821, 'train_loss': 0.12226851179891338}\n",
      "Early stopping.\n",
      "\n",
      "[Fold 4]\n",
      "Label distribution after resampling:\n",
      "  label 0: 2000\n",
      "  label 1: 400\n",
      "  label 2: 400\n",
      "  label 3: 400\n",
      "  label 4: 400\n",
      "  label 5: 400\n",
      "  label 6: 400\n",
      "  label 7: 400\n",
      "  label 8: 400\n",
      "  label 9: 400\n",
      "  label 10: 400\n",
      "  label 11: 400\n",
      "  label 12: 400\n",
      "  label 13: 400\n",
      "  label 14: 400\n",
      "  label 15: 400\n",
      "  label 16: 400\n",
      "  label 17: 400\n",
      "  label 18: 400\n",
      "  label 19: 400\n",
      "  label 20: 400\n",
      "  label 21: 400\n",
      "  label 22: 400\n",
      "  label 23: 400\n",
      "  label 24: 400\n",
      "  label 25: 400\n",
      "  label 26: 400\n",
      "  label 27: 400\n",
      "  label 28: 400\n",
      "  label 29: 400\n",
      "  label 30: 400\n",
      "  label 31: 400\n",
      "  label 32: 400\n",
      "  label 33: 400\n",
      "  label 34: 400\n",
      "  label 35: 400\n",
      "  label 36: 400\n",
      "  label 37: 400\n",
      "  label 38: 400\n",
      "  label 39: 400\n",
      "  label 40: 400\n",
      "  label 41: 400\n",
      "  label 42: 400\n",
      "  label 43: 400\n",
      "  label 44: 400\n",
      "  label 45: 400\n",
      "  label 46: 400\n",
      "  label 47: 400\n",
      "model is roberta-base\n"
     ]
    },
    {
     "name": "stderr",
     "output_type": "stream",
     "text": [
      "Some weights of RobertaForSequenceClassification were not initialized from the model checkpoint at roberta-base and are newly initialized: ['classifier.dense.bias', 'classifier.dense.weight', 'classifier.out_proj.bias', 'classifier.out_proj.weight']\n",
      "You should probably TRAIN this model on a down-stream task to be able to use it for predictions and inference.\n"
     ]
    },
    {
     "name": "stdout",
     "output_type": "stream",
     "text": [
      "Epoch 1/20\n"
     ]
    },
    {
     "name": "stderr",
     "output_type": "stream",
     "text": [
      "100%|██████████| 1300/1300 [01:51<00:00, 11.62it/s]\n"
     ]
    },
    {
     "name": "stdout",
     "output_type": "stream",
     "text": [
      "{'val_loss': 1.683584955043909, 'val_accuracy': 0.5644546147978642, 'precision': 0.6392012299769603, 'recall': 0.5644546147978642, 'f1-score': 0.5788408019624702, 'macro_f1-score': 0.3834532090635174, 'balanced_accuracy': 0.44207161346452734, 'mcc': 0.4738796700493177, 'train_loss': 1.4530756718149551}\n",
      "Epoch 2/20\n"
     ]
    },
    {
     "name": "stderr",
     "output_type": "stream",
     "text": [
      "100%|██████████| 1300/1300 [01:51<00:00, 11.63it/s]\n"
     ]
    },
    {
     "name": "stdout",
     "output_type": "stream",
     "text": [
      "{'val_loss': 1.7137779437187242, 'val_accuracy': 0.6064073226544623, 'precision': 0.6573436861748643, 'recall': 0.6064073226544623, 'f1-score': 0.6198865509210195, 'macro_f1-score': 0.41237312869178355, 'balanced_accuracy': 0.4433780444371837, 'mcc': 0.5065708063255581, 'train_loss': 0.3766119427735416}\n",
      "Epoch 3/20\n"
     ]
    },
    {
     "name": "stderr",
     "output_type": "stream",
     "text": [
      "100%|██████████| 1300/1300 [01:51<00:00, 11.62it/s]\n"
     ]
    },
    {
     "name": "stdout",
     "output_type": "stream",
     "text": [
      "{'val_loss': 1.9981747022489222, 'val_accuracy': 0.5827612509534706, 'precision': 0.6295773247609721, 'recall': 0.5827612509534706, 'f1-score': 0.5869196526089925, 'macro_f1-score': 0.37867963169954405, 'balanced_accuracy': 0.41283845324428653, 'mcc': 0.4776947507294739, 'train_loss': 0.2247956676924458}\n",
      "Epoch 4/20\n"
     ]
    },
    {
     "name": "stderr",
     "output_type": "stream",
     "text": [
      "100%|██████████| 1300/1300 [01:51<00:00, 11.62it/s]\n"
     ]
    },
    {
     "name": "stdout",
     "output_type": "stream",
     "text": [
      "{'val_loss': 1.9589300006628036, 'val_accuracy': 0.5873379099923722, 'precision': 0.652431923431425, 'recall': 0.5873379099923722, 'f1-score': 0.6002630422635349, 'macro_f1-score': 0.4029662391136741, 'balanced_accuracy': 0.42704405268400975, 'mcc': 0.49061790928757765, 'train_loss': 0.15837024613641776}\n",
      "Epoch 5/20\n"
     ]
    },
    {
     "name": "stderr",
     "output_type": "stream",
     "text": [
      "100%|██████████| 1300/1300 [01:51<00:00, 11.62it/s]\n"
     ]
    },
    {
     "name": "stdout",
     "output_type": "stream",
     "text": [
      "{'val_loss': 1.9518644188235446, 'val_accuracy': 0.623951182303585, 'precision': 0.6459309425809084, 'recall': 0.623951182303585, 'f1-score': 0.6226319439908362, 'macro_f1-score': 0.3905499294756198, 'balanced_accuracy': 0.417047270723855, 'mcc': 0.514351573690892, 'train_loss': 0.12461926820114828}\n",
      "Early stopping.\n",
      "\n",
      "[Fold 5]\n",
      "Label distribution after resampling:\n",
      "  label 0: 2000\n",
      "  label 1: 400\n",
      "  label 2: 400\n",
      "  label 3: 400\n",
      "  label 4: 400\n",
      "  label 5: 400\n",
      "  label 6: 400\n",
      "  label 7: 400\n",
      "  label 8: 400\n",
      "  label 9: 400\n",
      "  label 10: 400\n",
      "  label 11: 400\n",
      "  label 12: 400\n",
      "  label 13: 400\n",
      "  label 14: 400\n",
      "  label 15: 400\n",
      "  label 16: 400\n",
      "  label 17: 400\n",
      "  label 18: 400\n",
      "  label 19: 400\n",
      "  label 20: 400\n",
      "  label 21: 400\n",
      "  label 22: 400\n",
      "  label 23: 400\n",
      "  label 24: 400\n",
      "  label 25: 400\n",
      "  label 26: 400\n",
      "  label 27: 400\n",
      "  label 28: 400\n",
      "  label 29: 400\n",
      "  label 30: 400\n",
      "  label 31: 400\n",
      "  label 32: 400\n",
      "  label 33: 400\n",
      "  label 34: 400\n",
      "  label 35: 400\n",
      "  label 36: 400\n",
      "  label 37: 400\n",
      "  label 38: 400\n",
      "  label 39: 400\n",
      "  label 40: 400\n",
      "  label 41: 400\n",
      "  label 42: 400\n",
      "  label 43: 400\n",
      "  label 44: 400\n",
      "  label 45: 400\n",
      "  label 46: 400\n",
      "  label 47: 400\n",
      "model is roberta-base\n"
     ]
    },
    {
     "name": "stderr",
     "output_type": "stream",
     "text": [
      "Some weights of RobertaForSequenceClassification were not initialized from the model checkpoint at roberta-base and are newly initialized: ['classifier.dense.bias', 'classifier.dense.weight', 'classifier.out_proj.bias', 'classifier.out_proj.weight']\n",
      "You should probably TRAIN this model on a down-stream task to be able to use it for predictions and inference.\n"
     ]
    },
    {
     "name": "stdout",
     "output_type": "stream",
     "text": [
      "Epoch 1/20\n"
     ]
    },
    {
     "name": "stderr",
     "output_type": "stream",
     "text": [
      "100%|██████████| 1300/1300 [01:51<00:00, 11.62it/s]\n"
     ]
    },
    {
     "name": "stdout",
     "output_type": "stream",
     "text": [
      "{'val_loss': 1.941782740558066, 'val_accuracy': 0.4996186117467582, 'precision': 0.6061576244240374, 'recall': 0.4996186117467582, 'f1-score': 0.5208451496361184, 'macro_f1-score': 0.3415221998254135, 'balanced_accuracy': 0.43403439248656533, 'mcc': 0.4156458962846187, 'train_loss': 1.5568776921584055}\n",
      "Epoch 2/20\n"
     ]
    },
    {
     "name": "stderr",
     "output_type": "stream",
     "text": [
      "100%|██████████| 1300/1300 [01:51<00:00, 11.62it/s]\n"
     ]
    },
    {
     "name": "stdout",
     "output_type": "stream",
     "text": [
      "{'val_loss': 1.6473344902439815, 'val_accuracy': 0.6308161708619374, 'precision': 0.6455975034954278, 'recall': 0.6308161708619374, 'f1-score': 0.6305865704280994, 'macro_f1-score': 0.40593050133272673, 'balanced_accuracy': 0.42135523741281306, 'mcc': 0.520529926019518, 'train_loss': 0.3837800544829896}\n",
      "Epoch 3/20\n"
     ]
    },
    {
     "name": "stderr",
     "output_type": "stream",
     "text": [
      "100%|██████████| 1300/1300 [01:51<00:00, 11.62it/s]\n"
     ]
    },
    {
     "name": "stdout",
     "output_type": "stream",
     "text": [
      "{'val_loss': 1.8325494551440564, 'val_accuracy': 0.6155606407322655, 'precision': 0.6236067302118692, 'recall': 0.6155606407322655, 'f1-score': 0.6078771627885915, 'macro_f1-score': 0.40661817006680595, 'balanced_accuracy': 0.4091931902020673, 'mcc': 0.503795476643424, 'train_loss': 0.2166634742012964}\n",
      "Epoch 4/20\n"
     ]
    },
    {
     "name": "stderr",
     "output_type": "stream",
     "text": [
      "100%|██████████| 1300/1300 [01:52<00:00, 11.61it/s]\n"
     ]
    },
    {
     "name": "stdout",
     "output_type": "stream",
     "text": [
      "{'val_loss': 1.867103908483575, 'val_accuracy': 0.623951182303585, 'precision': 0.6376900183723649, 'recall': 0.623951182303585, 'f1-score': 0.6228901677366666, 'macro_f1-score': 0.4042049539284853, 'balanced_accuracy': 0.41113875636361147, 'mcc': 0.5123392110418387, 'train_loss': 0.1734451640368654}\n",
      "Epoch 5/20\n"
     ]
    },
    {
     "name": "stderr",
     "output_type": "stream",
     "text": [
      "100%|██████████| 1300/1300 [01:51<00:00, 11.61it/s]\n"
     ]
    },
    {
     "name": "stdout",
     "output_type": "stream",
     "text": [
      "{'val_loss': 1.8901100367671106, 'val_accuracy': 0.6308161708619374, 'precision': 0.6239231183876776, 'recall': 0.6308161708619374, 'f1-score': 0.6227907534655818, 'macro_f1-score': 0.40204229527446383, 'balanced_accuracy': 0.400790822602584, 'mcc': 0.5156205309224515, 'train_loss': 0.13709631755106294}\n",
      "Epoch 6/20\n"
     ]
    },
    {
     "name": "stderr",
     "output_type": "stream",
     "text": [
      "100%|██████████| 1300/1300 [01:51<00:00, 11.62it/s]\n"
     ]
    },
    {
     "name": "stdout",
     "output_type": "stream",
     "text": [
      "{'val_loss': 2.1424725691719755, 'val_accuracy': 0.5873379099923722, 'precision': 0.6395387081071654, 'recall': 0.5873379099923722, 'f1-score': 0.5999502196854944, 'macro_f1-score': 0.38869125526514847, 'balanced_accuracy': 0.41996795031930967, 'mcc': 0.4858168617180946, 'train_loss': 0.10756535348052589}\n",
      "Early stopping.\n",
      "\n",
      " === roberta-base + plain + ros Final 5-fold Cross-Validation Results ===\n",
      "val_loss: 1.8722\n",
      "val_accuracy: 0.6017\n",
      "precision: 0.6344\n",
      "recall: 0.6017\n",
      "f1-score: 0.6068\n",
      "macro_f1-score: 0.4044\n",
      "balanced_accuracy: 0.4268\n",
      "mcc: 0.4967\n",
      "train_loss: 0.2734\n",
      "total_seconds: 3673.0000\n",
      "total_time: 1 hrs 1 mins 13 secs\n",
      "▶ Running: roberta-base + cnn + ros\n",
      "tokenizer is roberta-base\n",
      "Using device: cuda\n",
      "CUDA Available: True\n",
      "CUDA Device: NVIDIA GeForce RTX 5070 Ti\n",
      "Current GPU Memory Allocated: 0.02 GB\n",
      "Current GPU Memory Cached: 3.91 GB\n",
      "\n",
      "[Fold 1]\n",
      "Label distribution after resampling:\n",
      "  label 0: 2000\n",
      "  label 1: 400\n",
      "  label 2: 400\n",
      "  label 3: 400\n",
      "  label 4: 400\n",
      "  label 5: 400\n",
      "  label 6: 400\n",
      "  label 7: 400\n",
      "  label 8: 400\n",
      "  label 9: 400\n",
      "  label 10: 400\n",
      "  label 11: 400\n",
      "  label 12: 400\n",
      "  label 13: 400\n",
      "  label 14: 400\n",
      "  label 15: 400\n",
      "  label 16: 400\n",
      "  label 17: 400\n",
      "  label 18: 400\n",
      "  label 19: 400\n",
      "  label 20: 400\n",
      "  label 21: 400\n",
      "  label 22: 400\n",
      "  label 23: 400\n",
      "  label 24: 400\n",
      "  label 25: 400\n",
      "  label 26: 400\n",
      "  label 27: 400\n",
      "  label 28: 400\n",
      "  label 29: 400\n",
      "  label 30: 400\n",
      "  label 31: 400\n",
      "  label 32: 400\n",
      "  label 33: 400\n",
      "  label 34: 400\n",
      "  label 35: 400\n",
      "  label 36: 400\n",
      "  label 37: 400\n",
      "  label 38: 400\n",
      "  label 39: 400\n",
      "  label 40: 400\n",
      "  label 41: 400\n",
      "  label 42: 400\n",
      "  label 43: 400\n",
      "  label 44: 400\n",
      "  label 45: 400\n",
      "  label 46: 400\n",
      "  label 47: 400\n",
      "model is roberta-base cnn\n"
     ]
    },
    {
     "name": "stderr",
     "output_type": "stream",
     "text": [
      "Some weights of RobertaModel were not initialized from the model checkpoint at roberta-base and are newly initialized: ['pooler.dense.bias', 'pooler.dense.weight']\n",
      "You should probably TRAIN this model on a down-stream task to be able to use it for predictions and inference.\n"
     ]
    },
    {
     "name": "stdout",
     "output_type": "stream",
     "text": [
      "Epoch 1/20\n"
     ]
    },
    {
     "name": "stderr",
     "output_type": "stream",
     "text": [
      "100%|██████████| 1300/1300 [01:54<00:00, 11.39it/s]\n"
     ]
    },
    {
     "name": "stdout",
     "output_type": "stream",
     "text": [
      "{'val_loss': 1.7427194387447544, 'val_accuracy': 0.5190548780487805, 'precision': 0.6066732321183754, 'recall': 0.5190548780487805, 'f1-score': 0.5372641149463326, 'macro_f1-score': 0.3509705564371288, 'balanced_accuracy': 0.43243086572494277, 'mcc': 0.4119141716791067, 'train_loss': 1.7186660355444139}\n",
      "Epoch 2/20\n"
     ]
    },
    {
     "name": "stderr",
     "output_type": "stream",
     "text": [
      "100%|██████████| 1300/1300 [01:54<00:00, 11.39it/s]\n"
     ]
    },
    {
     "name": "stdout",
     "output_type": "stream",
     "text": [
      "{'val_loss': 1.7195252914254258, 'val_accuracy': 0.59375, 'precision': 0.6141985180893843, 'recall': 0.59375, 'f1-score': 0.5914859833831315, 'macro_f1-score': 0.40338220443002043, 'balanced_accuracy': 0.4300460047596198, 'mcc': 0.46990694424513735, 'train_loss': 0.5064196824525985}\n",
      "Epoch 3/20\n"
     ]
    },
    {
     "name": "stderr",
     "output_type": "stream",
     "text": [
      "100%|██████████| 1300/1300 [01:54<00:00, 11.39it/s]\n"
     ]
    },
    {
     "name": "stdout",
     "output_type": "stream",
     "text": [
      "{'val_loss': 1.7794858017345754, 'val_accuracy': 0.5983231707317073, 'precision': 0.6445932944031724, 'recall': 0.5983231707317073, 'f1-score': 0.6089205140726468, 'macro_f1-score': 0.4134573521672695, 'balanced_accuracy': 0.44003277104523897, 'mcc': 0.4930090600534701, 'train_loss': 0.2734342252721007}\n",
      "Epoch 4/20\n"
     ]
    },
    {
     "name": "stderr",
     "output_type": "stream",
     "text": [
      "100%|██████████| 1300/1300 [01:54<00:00, 11.40it/s]\n"
     ]
    },
    {
     "name": "stdout",
     "output_type": "stream",
     "text": [
      "{'val_loss': 1.8569111745895408, 'val_accuracy': 0.6257621951219512, 'precision': 0.6306714049077344, 'recall': 0.6257621951219512, 'f1-score': 0.6187905833811266, 'macro_f1-score': 0.43172766401419677, 'balanced_accuracy': 0.459597061969345, 'mcc': 0.5101577760652707, 'train_loss': 0.21339626632738284}\n",
      "Epoch 5/20\n"
     ]
    },
    {
     "name": "stderr",
     "output_type": "stream",
     "text": [
      "100%|██████████| 1300/1300 [01:54<00:00, 11.39it/s]\n"
     ]
    },
    {
     "name": "stdout",
     "output_type": "stream",
     "text": [
      "{'val_loss': 1.9105578522856643, 'val_accuracy': 0.6211890243902439, 'precision': 0.6304062661784047, 'recall': 0.6211890243902439, 'f1-score': 0.6189197623593381, 'macro_f1-score': 0.4379219467108295, 'balanced_accuracy': 0.46142116332635413, 'mcc': 0.5085061761815441, 'train_loss': 0.160070842493218}\n",
      "Epoch 6/20\n"
     ]
    },
    {
     "name": "stderr",
     "output_type": "stream",
     "text": [
      "100%|██████████| 1300/1300 [01:54<00:00, 11.40it/s]\n"
     ]
    },
    {
     "name": "stdout",
     "output_type": "stream",
     "text": [
      "{'val_loss': 2.128868827005712, 'val_accuracy': 0.6059451219512195, 'precision': 0.6309050697777336, 'recall': 0.6059451219512195, 'f1-score': 0.6032795982582237, 'macro_f1-score': 0.4347662834887971, 'balanced_accuracy': 0.4398072314618182, 'mcc': 0.48282298960498854, 'train_loss': 0.13475499139695715}\n",
      "Epoch 7/20\n"
     ]
    },
    {
     "name": "stderr",
     "output_type": "stream",
     "text": [
      "100%|██████████| 1300/1300 [01:54<00:00, 11.40it/s]\n"
     ]
    },
    {
     "name": "stdout",
     "output_type": "stream",
     "text": [
      "{'val_loss': 2.196361820145351, 'val_accuracy': 0.6074695121951219, 'precision': 0.6410781983686994, 'recall': 0.6074695121951219, 'f1-score': 0.6142646184001317, 'macro_f1-score': 0.42586199743804776, 'balanced_accuracy': 0.45531834502897556, 'mcc': 0.5052223052666924, 'train_loss': 0.12789848454735386}\n",
      "Epoch 8/20\n"
     ]
    },
    {
     "name": "stderr",
     "output_type": "stream",
     "text": [
      "100%|██████████| 1300/1300 [01:54<00:00, 11.39it/s]\n"
     ]
    },
    {
     "name": "stdout",
     "output_type": "stream",
     "text": [
      "{'val_loss': 2.245069897756344, 'val_accuracy': 0.5998475609756098, 'precision': 0.627403558290914, 'recall': 0.5998475609756098, 'f1-score': 0.6052449966250324, 'macro_f1-score': 0.401626824414219, 'balanced_accuracy': 0.4660380008614207, 'mcc': 0.4975759758178859, 'train_loss': 0.11384649694413664}\n",
      "Early stopping.\n",
      "\n",
      "[Fold 2]\n",
      "Label distribution after resampling:\n",
      "  label 0: 2000\n",
      "  label 1: 400\n",
      "  label 2: 400\n",
      "  label 3: 400\n",
      "  label 4: 400\n",
      "  label 5: 400\n",
      "  label 6: 400\n",
      "  label 7: 400\n",
      "  label 8: 400\n",
      "  label 9: 400\n",
      "  label 10: 400\n",
      "  label 11: 400\n",
      "  label 12: 400\n",
      "  label 13: 400\n",
      "  label 14: 400\n",
      "  label 15: 400\n",
      "  label 16: 400\n",
      "  label 17: 400\n",
      "  label 18: 400\n",
      "  label 19: 400\n",
      "  label 20: 400\n",
      "  label 21: 400\n",
      "  label 22: 400\n",
      "  label 23: 400\n",
      "  label 24: 400\n",
      "  label 25: 400\n",
      "  label 26: 400\n",
      "  label 27: 400\n",
      "  label 28: 400\n",
      "  label 29: 400\n",
      "  label 30: 400\n",
      "  label 31: 400\n",
      "  label 32: 400\n",
      "  label 33: 400\n",
      "  label 34: 400\n",
      "  label 35: 400\n",
      "  label 36: 400\n",
      "  label 37: 400\n",
      "  label 38: 400\n",
      "  label 39: 400\n",
      "  label 40: 400\n",
      "  label 41: 400\n",
      "  label 42: 400\n",
      "  label 43: 400\n",
      "  label 44: 400\n",
      "  label 45: 400\n",
      "  label 46: 400\n",
      "  label 47: 400\n",
      "model is roberta-base cnn\n"
     ]
    },
    {
     "name": "stderr",
     "output_type": "stream",
     "text": [
      "Some weights of RobertaModel were not initialized from the model checkpoint at roberta-base and are newly initialized: ['pooler.dense.bias', 'pooler.dense.weight']\n",
      "You should probably TRAIN this model on a down-stream task to be able to use it for predictions and inference.\n"
     ]
    },
    {
     "name": "stdout",
     "output_type": "stream",
     "text": [
      "Epoch 1/20\n"
     ]
    },
    {
     "name": "stderr",
     "output_type": "stream",
     "text": [
      "100%|██████████| 1300/1300 [01:54<00:00, 11.40it/s]\n"
     ]
    },
    {
     "name": "stdout",
     "output_type": "stream",
     "text": [
      "{'val_loss': 1.7772830215896047, 'val_accuracy': 0.5453852021357742, 'precision': 0.6149964765021959, 'recall': 0.5453852021357742, 'f1-score': 0.5549397068410333, 'macro_f1-score': 0.333852046470251, 'balanced_accuracy': 0.3928814616678396, 'mcc': 0.42141658295024514, 'train_loss': 1.6927811161486002}\n",
      "Epoch 2/20\n"
     ]
    },
    {
     "name": "stderr",
     "output_type": "stream",
     "text": [
      "100%|██████████| 1300/1300 [01:54<00:00, 11.39it/s]\n"
     ]
    },
    {
     "name": "stdout",
     "output_type": "stream",
     "text": [
      "{'val_loss': 1.677062056413511, 'val_accuracy': 0.5949656750572082, 'precision': 0.6297687667183007, 'recall': 0.5949656750572082, 'f1-score': 0.6040399138472815, 'macro_f1-score': 0.37888759473544625, 'balanced_accuracy': 0.42361852940952294, 'mcc': 0.49236834160949944, 'train_loss': 0.4710183692881121}\n",
      "Epoch 3/20\n"
     ]
    },
    {
     "name": "stderr",
     "output_type": "stream",
     "text": [
      "100%|██████████| 1300/1300 [01:54<00:00, 11.39it/s]\n"
     ]
    },
    {
     "name": "stdout",
     "output_type": "stream",
     "text": [
      "{'val_loss': 1.8290988141443671, 'val_accuracy': 0.5949656750572082, 'precision': 0.6302032628637468, 'recall': 0.5949656750572082, 'f1-score': 0.6012557862712964, 'macro_f1-score': 0.38657133865693477, 'balanced_accuracy': 0.4075393908978369, 'mcc': 0.4854448875270724, 'train_loss': 0.27160251723530776}\n",
      "Epoch 4/20\n"
     ]
    },
    {
     "name": "stderr",
     "output_type": "stream",
     "text": [
      "100%|██████████| 1300/1300 [01:54<00:00, 11.39it/s]\n"
     ]
    },
    {
     "name": "stdout",
     "output_type": "stream",
     "text": [
      "{'val_loss': 1.9948283048664652, 'val_accuracy': 0.6109839816933639, 'precision': 0.6228734072235437, 'recall': 0.6109839816933639, 'f1-score': 0.610114993771715, 'macro_f1-score': 0.3657891027266258, 'balanced_accuracy': 0.40003720937713116, 'mcc': 0.5001008777112792, 'train_loss': 0.19828062996053353}\n",
      "Epoch 5/20\n"
     ]
    },
    {
     "name": "stderr",
     "output_type": "stream",
     "text": [
      "100%|██████████| 1300/1300 [01:54<00:00, 11.40it/s]\n"
     ]
    },
    {
     "name": "stdout",
     "output_type": "stream",
     "text": [
      "{'val_loss': 2.0483279148253, 'val_accuracy': 0.6094584286803967, 'precision': 0.6468857066691399, 'recall': 0.6094584286803967, 'f1-score': 0.6147554319917186, 'macro_f1-score': 0.37723223917361376, 'balanced_accuracy': 0.4052932068159892, 'mcc': 0.5043858531611646, 'train_loss': 0.15072841932137426}\n",
      "Epoch 6/20\n"
     ]
    },
    {
     "name": "stderr",
     "output_type": "stream",
     "text": [
      "100%|██████████| 1300/1300 [01:54<00:00, 11.39it/s]\n"
     ]
    },
    {
     "name": "stdout",
     "output_type": "stream",
     "text": [
      "{'val_loss': 2.124021722776134, 'val_accuracy': 0.5942028985507246, 'precision': 0.6234025881033947, 'recall': 0.5942028985507246, 'f1-score': 0.5977903168325183, 'macro_f1-score': 0.3735145085966467, 'balanced_accuracy': 0.38543792733594945, 'mcc': 0.4769860325773157, 'train_loss': 0.1407342689842559}\n",
      "Early stopping.\n",
      "\n",
      "[Fold 3]\n",
      "Label distribution after resampling:\n",
      "  label 0: 2000\n",
      "  label 1: 400\n",
      "  label 2: 400\n",
      "  label 3: 400\n",
      "  label 4: 400\n",
      "  label 5: 400\n",
      "  label 6: 400\n",
      "  label 7: 400\n",
      "  label 8: 400\n",
      "  label 9: 400\n",
      "  label 10: 400\n",
      "  label 11: 400\n",
      "  label 12: 400\n",
      "  label 13: 400\n",
      "  label 14: 400\n",
      "  label 15: 400\n",
      "  label 16: 400\n",
      "  label 17: 400\n",
      "  label 18: 400\n",
      "  label 19: 400\n",
      "  label 20: 400\n",
      "  label 21: 400\n",
      "  label 22: 400\n",
      "  label 23: 400\n",
      "  label 24: 400\n",
      "  label 25: 400\n",
      "  label 26: 400\n",
      "  label 27: 400\n",
      "  label 28: 400\n",
      "  label 29: 400\n",
      "  label 30: 400\n",
      "  label 31: 400\n",
      "  label 32: 400\n",
      "  label 33: 400\n",
      "  label 34: 400\n",
      "  label 35: 400\n",
      "  label 36: 400\n",
      "  label 37: 400\n",
      "  label 38: 400\n",
      "  label 39: 400\n",
      "  label 40: 400\n",
      "  label 41: 400\n",
      "  label 42: 400\n",
      "  label 43: 400\n",
      "  label 44: 400\n",
      "  label 45: 400\n",
      "  label 46: 400\n",
      "  label 47: 400\n",
      "model is roberta-base cnn\n"
     ]
    },
    {
     "name": "stderr",
     "output_type": "stream",
     "text": [
      "Some weights of RobertaModel were not initialized from the model checkpoint at roberta-base and are newly initialized: ['pooler.dense.bias', 'pooler.dense.weight']\n",
      "You should probably TRAIN this model on a down-stream task to be able to use it for predictions and inference.\n"
     ]
    },
    {
     "name": "stdout",
     "output_type": "stream",
     "text": [
      "Epoch 1/20\n"
     ]
    },
    {
     "name": "stderr",
     "output_type": "stream",
     "text": [
      "100%|██████████| 1300/1300 [01:54<00:00, 11.40it/s]\n"
     ]
    },
    {
     "name": "stdout",
     "output_type": "stream",
     "text": [
      "{'val_loss': 1.6669464918171488, 'val_accuracy': 0.5530129672006102, 'precision': 0.6073014839983893, 'recall': 0.5530129672006102, 'f1-score': 0.5639244297732114, 'macro_f1-score': 0.37961826855748915, 'balanced_accuracy': 0.38925219163991676, 'mcc': 0.42663885090087666, 'train_loss': 1.665212332801177}\n",
      "Epoch 2/20\n"
     ]
    },
    {
     "name": "stderr",
     "output_type": "stream",
     "text": [
      "100%|██████████| 1300/1300 [01:54<00:00, 11.40it/s]\n"
     ]
    },
    {
     "name": "stdout",
     "output_type": "stream",
     "text": [
      "{'val_loss': 2.0381440818309784, 'val_accuracy': 0.4958047292143402, 'precision': 0.6038706302795356, 'recall': 0.4958047292143402, 'f1-score': 0.5223968688091654, 'macro_f1-score': 0.3704906120124522, 'balanced_accuracy': 0.4019219726757212, 'mcc': 0.4118228285687375, 'train_loss': 0.4436504420093619}\n",
      "Epoch 3/20\n"
     ]
    },
    {
     "name": "stderr",
     "output_type": "stream",
     "text": [
      "100%|██████████| 1300/1300 [01:54<00:00, 11.39it/s]\n"
     ]
    },
    {
     "name": "stdout",
     "output_type": "stream",
     "text": [
      "{'val_loss': 1.9119211853277394, 'val_accuracy': 0.5842868039664378, 'precision': 0.6211060618207497, 'recall': 0.5842868039664378, 'f1-score': 0.5920320458105532, 'macro_f1-score': 0.3962898748547113, 'balanced_accuracy': 0.3957110594718906, 'mcc': 0.46894703052457354, 'train_loss': 0.25496149056304535}\n",
      "Epoch 4/20\n"
     ]
    },
    {
     "name": "stderr",
     "output_type": "stream",
     "text": [
      "100%|██████████| 1300/1300 [01:54<00:00, 11.39it/s]\n"
     ]
    },
    {
     "name": "stdout",
     "output_type": "stream",
     "text": [
      "{'val_loss': 2.0248966776743167, 'val_accuracy': 0.5453852021357742, 'precision': 0.6130620346183668, 'recall': 0.5453852021357742, 'f1-score': 0.5627148594006275, 'macro_f1-score': 0.3462509060835938, 'balanced_accuracy': 0.3666564003849441, 'mcc': 0.43965945326202355, 'train_loss': 0.1835706240973937}\n",
      "Epoch 5/20\n"
     ]
    },
    {
     "name": "stderr",
     "output_type": "stream",
     "text": [
      "100%|██████████| 1300/1300 [01:54<00:00, 11.40it/s]\n"
     ]
    },
    {
     "name": "stdout",
     "output_type": "stream",
     "text": [
      "{'val_loss': 2.1591735567624974, 'val_accuracy': 0.5964912280701754, 'precision': 0.6232361149260333, 'recall': 0.5964912280701754, 'f1-score': 0.5989133877517975, 'macro_f1-score': 0.40030615635427874, 'balanced_accuracy': 0.39436390702730906, 'mcc': 0.4810088383598309, 'train_loss': 0.1477437550184102}\n",
      "Epoch 6/20\n"
     ]
    },
    {
     "name": "stderr",
     "output_type": "stream",
     "text": [
      "100%|██████████| 1300/1300 [01:54<00:00, 11.39it/s]\n"
     ]
    },
    {
     "name": "stdout",
     "output_type": "stream",
     "text": [
      "{'val_loss': 2.2836779123399316, 'val_accuracy': 0.5804729214340199, 'precision': 0.6054130706477937, 'recall': 0.5804729214340199, 'f1-score': 0.5858801297596996, 'macro_f1-score': 0.3816269630822208, 'balanced_accuracy': 0.3799488543005469, 'mcc': 0.46448919420230655, 'train_loss': 0.12970228914028176}\n",
      "Epoch 7/20\n"
     ]
    },
    {
     "name": "stderr",
     "output_type": "stream",
     "text": [
      "100%|██████████| 1300/1300 [01:54<00:00, 11.39it/s]\n"
     ]
    },
    {
     "name": "stdout",
     "output_type": "stream",
     "text": [
      "{'val_loss': 2.2218437881731408, 'val_accuracy': 0.5804729214340199, 'precision': 0.6137613481446144, 'recall': 0.5804729214340199, 'f1-score': 0.5857659933130759, 'macro_f1-score': 0.3691758452450646, 'balanced_accuracy': 0.38336382011755377, 'mcc': 0.46493625839566716, 'train_loss': 0.1278205008025711}\n",
      "Epoch 8/20\n"
     ]
    },
    {
     "name": "stderr",
     "output_type": "stream",
     "text": [
      "100%|██████████| 1300/1300 [01:54<00:00, 11.40it/s]\n"
     ]
    },
    {
     "name": "stdout",
     "output_type": "stream",
     "text": [
      "{'val_loss': 2.2242455198997404, 'val_accuracy': 0.5957284515636918, 'precision': 0.6090270199975054, 'recall': 0.5957284515636918, 'f1-score': 0.5941802799396988, 'macro_f1-score': 0.36642688059380263, 'balanced_accuracy': 0.36332909544577446, 'mcc': 0.4765904256988098, 'train_loss': 0.11105495361494831}\n",
      "Early stopping.\n",
      "\n",
      "[Fold 4]\n",
      "Label distribution after resampling:\n",
      "  label 0: 2000\n",
      "  label 1: 400\n",
      "  label 2: 400\n",
      "  label 3: 400\n",
      "  label 4: 400\n",
      "  label 5: 400\n",
      "  label 6: 400\n",
      "  label 7: 400\n",
      "  label 8: 400\n",
      "  label 9: 400\n",
      "  label 10: 400\n",
      "  label 11: 400\n",
      "  label 12: 400\n",
      "  label 13: 400\n",
      "  label 14: 400\n",
      "  label 15: 400\n",
      "  label 16: 400\n",
      "  label 17: 400\n",
      "  label 18: 400\n",
      "  label 19: 400\n",
      "  label 20: 400\n",
      "  label 21: 400\n",
      "  label 22: 400\n",
      "  label 23: 400\n",
      "  label 24: 400\n",
      "  label 25: 400\n",
      "  label 26: 400\n",
      "  label 27: 400\n",
      "  label 28: 400\n",
      "  label 29: 400\n",
      "  label 30: 400\n",
      "  label 31: 400\n",
      "  label 32: 400\n",
      "  label 33: 400\n",
      "  label 34: 400\n",
      "  label 35: 400\n",
      "  label 36: 400\n",
      "  label 37: 400\n",
      "  label 38: 400\n",
      "  label 39: 400\n",
      "  label 40: 400\n",
      "  label 41: 400\n",
      "  label 42: 400\n",
      "  label 43: 400\n",
      "  label 44: 400\n",
      "  label 45: 400\n",
      "  label 46: 400\n",
      "  label 47: 400\n",
      "model is roberta-base cnn\n"
     ]
    },
    {
     "name": "stderr",
     "output_type": "stream",
     "text": [
      "Some weights of RobertaModel were not initialized from the model checkpoint at roberta-base and are newly initialized: ['pooler.dense.bias', 'pooler.dense.weight']\n",
      "You should probably TRAIN this model on a down-stream task to be able to use it for predictions and inference.\n"
     ]
    },
    {
     "name": "stdout",
     "output_type": "stream",
     "text": [
      "Epoch 1/20\n"
     ]
    },
    {
     "name": "stderr",
     "output_type": "stream",
     "text": [
      "100%|██████████| 1300/1300 [01:54<00:00, 11.39it/s]\n"
     ]
    },
    {
     "name": "stdout",
     "output_type": "stream",
     "text": [
      "{'val_loss': 1.878707097797859, 'val_accuracy': 0.479023646071701, 'precision': 0.6177148404138314, 'recall': 0.479023646071701, 'f1-score': 0.5163103572782104, 'macro_f1-score': 0.31125590130383507, 'balanced_accuracy': 0.4017137476707893, 'mcc': 0.3888930804933659, 'train_loss': 2.138658636957407}\n",
      "Epoch 2/20\n"
     ]
    },
    {
     "name": "stderr",
     "output_type": "stream",
     "text": [
      "100%|██████████| 1300/1300 [01:54<00:00, 11.39it/s]\n"
     ]
    },
    {
     "name": "stdout",
     "output_type": "stream",
     "text": [
      "{'val_loss': 1.7227847283569777, 'val_accuracy': 0.5873379099923722, 'precision': 0.6179207827859416, 'recall': 0.5873379099923722, 'f1-score': 0.5909225402718534, 'macro_f1-score': 0.3812187799065008, 'balanced_accuracy': 0.41579652436080455, 'mcc': 0.474457500102428, 'train_loss': 0.5759377491502807}\n",
      "Epoch 3/20\n"
     ]
    },
    {
     "name": "stderr",
     "output_type": "stream",
     "text": [
      "100%|██████████| 1300/1300 [01:54<00:00, 11.40it/s]\n"
     ]
    },
    {
     "name": "stdout",
     "output_type": "stream",
     "text": [
      "{'val_loss': 1.833294581712746, 'val_accuracy': 0.5850495804729214, 'precision': 0.6435202984247197, 'recall': 0.5850495804729214, 'f1-score': 0.6002373784226698, 'macro_f1-score': 0.3986167408845073, 'balanced_accuracy': 0.4324882627447924, 'mcc': 0.4846273217599094, 'train_loss': 0.308917511038912}\n",
      "Epoch 4/20\n"
     ]
    },
    {
     "name": "stderr",
     "output_type": "stream",
     "text": [
      "100%|██████████| 1300/1300 [01:54<00:00, 11.39it/s]\n"
     ]
    },
    {
     "name": "stdout",
     "output_type": "stream",
     "text": [
      "{'val_loss': 1.8034105984176076, 'val_accuracy': 0.6361556064073226, 'precision': 0.6393377163722989, 'recall': 0.6361556064073226, 'f1-score': 0.628017690636378, 'macro_f1-score': 0.3906820621314709, 'balanced_accuracy': 0.3914362253098152, 'mcc': 0.5202530858582952, 'train_loss': 0.21174067478412045}\n",
      "Epoch 5/20\n"
     ]
    },
    {
     "name": "stderr",
     "output_type": "stream",
     "text": [
      "100%|██████████| 1300/1300 [01:54<00:00, 11.39it/s]\n"
     ]
    },
    {
     "name": "stdout",
     "output_type": "stream",
     "text": [
      "{'val_loss': 1.9726160234067498, 'val_accuracy': 0.6079328756674295, 'precision': 0.6364850517158472, 'recall': 0.6079328756674295, 'f1-score': 0.613867802879295, 'macro_f1-score': 0.3989298000228156, 'balanced_accuracy': 0.42334352121181834, 'mcc': 0.503612425994623, 'train_loss': 0.16981039666821462}\n",
      "Epoch 6/20\n"
     ]
    },
    {
     "name": "stderr",
     "output_type": "stream",
     "text": [
      "100%|██████████| 1300/1300 [01:54<00:00, 11.40it/s]\n"
     ]
    },
    {
     "name": "stdout",
     "output_type": "stream",
     "text": [
      "{'val_loss': 1.8585059424725974, 'val_accuracy': 0.6170861937452327, 'precision': 0.6500618512613122, 'recall': 0.6170861937452327, 'f1-score': 0.6249868337802819, 'macro_f1-score': 0.3983598827766013, 'balanced_accuracy': 0.418825457615353, 'mcc': 0.5146210726218104, 'train_loss': 0.14459435530759107}\n",
      "Epoch 7/20\n"
     ]
    },
    {
     "name": "stderr",
     "output_type": "stream",
     "text": [
      "100%|██████████| 1300/1300 [01:54<00:00, 11.39it/s]\n"
     ]
    },
    {
     "name": "stdout",
     "output_type": "stream",
     "text": [
      "{'val_loss': 2.0205645030591546, 'val_accuracy': 0.6231884057971014, 'precision': 0.6245680122855098, 'recall': 0.6231884057971014, 'f1-score': 0.6147985134160056, 'macro_f1-score': 0.3801046659490179, 'balanced_accuracy': 0.3906514025169427, 'mcc': 0.5032465949117236, 'train_loss': 0.13621188018068026}\n",
      "Epoch 8/20\n"
     ]
    },
    {
     "name": "stderr",
     "output_type": "stream",
     "text": [
      "100%|██████████| 1300/1300 [01:54<00:00, 11.39it/s]\n"
     ]
    },
    {
     "name": "stdout",
     "output_type": "stream",
     "text": [
      "{'val_loss': 2.166628714378287, 'val_accuracy': 0.6407322654462243, 'precision': 0.6217059199847136, 'recall': 0.6407322654462243, 'f1-score': 0.619419371829028, 'macro_f1-score': 0.39564847282169824, 'balanced_accuracy': 0.3923325713910843, 'mcc': 0.5107927699533399, 'train_loss': 0.11067240003120297}\n",
      "Early stopping.\n",
      "\n",
      "[Fold 5]\n",
      "Label distribution after resampling:\n",
      "  label 0: 2000\n",
      "  label 1: 400\n",
      "  label 2: 400\n",
      "  label 3: 400\n",
      "  label 4: 400\n",
      "  label 5: 400\n",
      "  label 6: 400\n",
      "  label 7: 400\n",
      "  label 8: 400\n",
      "  label 9: 400\n",
      "  label 10: 400\n",
      "  label 11: 400\n",
      "  label 12: 400\n",
      "  label 13: 400\n",
      "  label 14: 400\n",
      "  label 15: 400\n",
      "  label 16: 400\n",
      "  label 17: 400\n",
      "  label 18: 400\n",
      "  label 19: 400\n",
      "  label 20: 400\n",
      "  label 21: 400\n",
      "  label 22: 400\n",
      "  label 23: 400\n",
      "  label 24: 400\n",
      "  label 25: 400\n",
      "  label 26: 400\n",
      "  label 27: 400\n",
      "  label 28: 400\n",
      "  label 29: 400\n",
      "  label 30: 400\n",
      "  label 31: 400\n",
      "  label 32: 400\n",
      "  label 33: 400\n",
      "  label 34: 400\n",
      "  label 35: 400\n",
      "  label 36: 400\n",
      "  label 37: 400\n",
      "  label 38: 400\n",
      "  label 39: 400\n",
      "  label 40: 400\n",
      "  label 41: 400\n",
      "  label 42: 400\n",
      "  label 43: 400\n",
      "  label 44: 400\n",
      "  label 45: 400\n",
      "  label 46: 400\n",
      "  label 47: 400\n",
      "model is roberta-base cnn\n"
     ]
    },
    {
     "name": "stderr",
     "output_type": "stream",
     "text": [
      "Some weights of RobertaModel were not initialized from the model checkpoint at roberta-base and are newly initialized: ['pooler.dense.bias', 'pooler.dense.weight']\n",
      "You should probably TRAIN this model on a down-stream task to be able to use it for predictions and inference.\n"
     ]
    },
    {
     "name": "stdout",
     "output_type": "stream",
     "text": [
      "Epoch 1/20\n"
     ]
    },
    {
     "name": "stderr",
     "output_type": "stream",
     "text": [
      "100%|██████████| 1300/1300 [01:54<00:00, 11.40it/s]\n"
     ]
    },
    {
     "name": "stdout",
     "output_type": "stream",
     "text": [
      "{'val_loss': 1.6751160985086022, 'val_accuracy': 0.5469107551487414, 'precision': 0.6406623887186628, 'recall': 0.5469107551487414, 'f1-score': 0.5734828504286718, 'macro_f1-score': 0.38721850665024826, 'balanced_accuracy': 0.45747362838517464, 'mcc': 0.44440274540251673, 'train_loss': 1.7669914475197976}\n",
      "Epoch 2/20\n"
     ]
    },
    {
     "name": "stderr",
     "output_type": "stream",
     "text": [
      "100%|██████████| 1300/1300 [01:54<00:00, 11.39it/s]\n"
     ]
    },
    {
     "name": "stdout",
     "output_type": "stream",
     "text": [
      "{'val_loss': 1.6487593923400088, 'val_accuracy': 0.589626239511823, 'precision': 0.6439009265370557, 'recall': 0.589626239511823, 'f1-score': 0.6000031135691114, 'macro_f1-score': 0.41708599436601296, 'balanced_accuracy': 0.4507491607467409, 'mcc': 0.48735091141528386, 'train_loss': 0.49420667656768974}\n",
      "Epoch 3/20\n"
     ]
    },
    {
     "name": "stderr",
     "output_type": "stream",
     "text": [
      "100%|██████████| 1300/1300 [01:54<00:00, 11.39it/s]\n"
     ]
    },
    {
     "name": "stdout",
     "output_type": "stream",
     "text": [
      "{'val_loss': 1.8812442331052408, 'val_accuracy': 0.5430968726163234, 'precision': 0.6323810785984869, 'recall': 0.5430968726163234, 'f1-score': 0.562193636688241, 'macro_f1-score': 0.37458151076386975, 'balanced_accuracy': 0.4088954110569252, 'mcc': 0.4580841391002759, 'train_loss': 0.26927144898746447}\n",
      "Epoch 4/20\n"
     ]
    },
    {
     "name": "stderr",
     "output_type": "stream",
     "text": [
      "100%|██████████| 1300/1300 [01:54<00:00, 11.40it/s]\n"
     ]
    },
    {
     "name": "stdout",
     "output_type": "stream",
     "text": [
      "{'val_loss': 1.838224701765107, 'val_accuracy': 0.6117467581998475, 'precision': 0.6660714818407938, 'recall': 0.6117467581998475, 'f1-score': 0.6237070500612347, 'macro_f1-score': 0.42560028787605564, 'balanced_accuracy': 0.42938740508283496, 'mcc': 0.5166959497037138, 'train_loss': 0.2074243726939536}\n",
      "Epoch 5/20\n"
     ]
    },
    {
     "name": "stderr",
     "output_type": "stream",
     "text": [
      "100%|██████████| 1300/1300 [01:54<00:00, 11.39it/s]\n"
     ]
    },
    {
     "name": "stdout",
     "output_type": "stream",
     "text": [
      "{'val_loss': 1.9154810273065799, 'val_accuracy': 0.6163234172387491, 'precision': 0.6392712583960086, 'recall': 0.6163234172387491, 'f1-score': 0.621125134868879, 'macro_f1-score': 0.42648021930569585, 'balanced_accuracy': 0.4288949388265377, 'mcc': 0.5120600854802047, 'train_loss': 0.1534561072341883}\n",
      "Epoch 6/20\n"
     ]
    },
    {
     "name": "stderr",
     "output_type": "stream",
     "text": [
      "100%|██████████| 1300/1300 [01:54<00:00, 11.39it/s]\n"
     ]
    },
    {
     "name": "stdout",
     "output_type": "stream",
     "text": [
      "{'val_loss': 2.172374855454375, 'val_accuracy': 0.5942028985507246, 'precision': 0.6247076193104757, 'recall': 0.5942028985507246, 'f1-score': 0.6009616956650083, 'macro_f1-score': 0.4081178873644215, 'balanced_accuracy': 0.42755937106705, 'mcc': 0.48847074986342637, 'train_loss': 0.14502888394430136}\n",
      "Epoch 7/20\n"
     ]
    },
    {
     "name": "stderr",
     "output_type": "stream",
     "text": [
      "100%|██████████| 1300/1300 [01:54<00:00, 11.40it/s]\n"
     ]
    },
    {
     "name": "stdout",
     "output_type": "stream",
     "text": [
      "{'val_loss': 2.082252189153578, 'val_accuracy': 0.6003051106025934, 'precision': 0.6297159813823234, 'recall': 0.6003051106025934, 'f1-score': 0.6049897701996616, 'macro_f1-score': 0.40540490146296415, 'balanced_accuracy': 0.4217484398149116, 'mcc': 0.4934446631272312, 'train_loss': 0.12198275471240497}\n",
      "Epoch 8/20\n"
     ]
    },
    {
     "name": "stderr",
     "output_type": "stream",
     "text": [
      "100%|██████████| 1300/1300 [01:54<00:00, 11.40it/s]\n"
     ]
    },
    {
     "name": "stdout",
     "output_type": "stream",
     "text": [
      "{'val_loss': 2.074721305108652, 'val_accuracy': 0.6132723112128147, 'precision': 0.6365960513510607, 'recall': 0.6132723112128147, 'f1-score': 0.6175389207897929, 'macro_f1-score': 0.4015399347251191, 'balanced_accuracy': 0.41224675937678773, 'mcc': 0.5091780353257438, 'train_loss': 0.11753657733842444}\n",
      "Early stopping.\n",
      "\n",
      " === roberta-base + cnn + ros Final 5-fold Cross-Validation Results ===\n",
      "val_loss: 1.9574\n",
      "val_accuracy: 0.6074\n",
      "precision: 0.6319\n",
      "recall: 0.6074\n",
      "f1-score: 0.6108\n",
      "macro_f1-score: 0.4100\n",
      "balanced_accuracy: 0.4231\n",
      "mcc: 0.4981\n",
      "train_loss: 0.1805\n",
      "total_seconds: 4448.0000\n",
      "total_time: 1 hrs 14 mins 8 secs\n",
      "▶ Running: roberta-base + lstm + ros\n",
      "tokenizer is roberta-base\n",
      "Using device: cuda\n",
      "CUDA Available: True\n",
      "CUDA Device: NVIDIA GeForce RTX 5070 Ti\n",
      "Current GPU Memory Allocated: 0.02 GB\n",
      "Current GPU Memory Cached: 3.91 GB\n",
      "\n",
      "[Fold 1]\n",
      "Label distribution after resampling:\n",
      "  label 0: 2000\n",
      "  label 1: 400\n",
      "  label 2: 400\n",
      "  label 3: 400\n",
      "  label 4: 400\n",
      "  label 5: 400\n",
      "  label 6: 400\n",
      "  label 7: 400\n",
      "  label 8: 400\n",
      "  label 9: 400\n",
      "  label 10: 400\n",
      "  label 11: 400\n",
      "  label 12: 400\n",
      "  label 13: 400\n",
      "  label 14: 400\n",
      "  label 15: 400\n",
      "  label 16: 400\n",
      "  label 17: 400\n",
      "  label 18: 400\n",
      "  label 19: 400\n",
      "  label 20: 400\n",
      "  label 21: 400\n",
      "  label 22: 400\n",
      "  label 23: 400\n",
      "  label 24: 400\n",
      "  label 25: 400\n",
      "  label 26: 400\n",
      "  label 27: 400\n",
      "  label 28: 400\n",
      "  label 29: 400\n",
      "  label 30: 400\n",
      "  label 31: 400\n",
      "  label 32: 400\n",
      "  label 33: 400\n",
      "  label 34: 400\n",
      "  label 35: 400\n",
      "  label 36: 400\n",
      "  label 37: 400\n",
      "  label 38: 400\n",
      "  label 39: 400\n",
      "  label 40: 400\n",
      "  label 41: 400\n",
      "  label 42: 400\n",
      "  label 43: 400\n",
      "  label 44: 400\n",
      "  label 45: 400\n",
      "  label 46: 400\n",
      "  label 47: 400\n",
      "model is roberta-base lstm\n"
     ]
    },
    {
     "name": "stderr",
     "output_type": "stream",
     "text": [
      "Some weights of RobertaModel were not initialized from the model checkpoint at roberta-base and are newly initialized: ['pooler.dense.bias', 'pooler.dense.weight']\n",
      "You should probably TRAIN this model on a down-stream task to be able to use it for predictions and inference.\n"
     ]
    },
    {
     "name": "stdout",
     "output_type": "stream",
     "text": [
      "Epoch 1/20\n"
     ]
    },
    {
     "name": "stderr",
     "output_type": "stream",
     "text": [
      "100%|██████████| 1300/1300 [01:59<00:00, 10.85it/s]\n"
     ]
    },
    {
     "name": "stdout",
     "output_type": "stream",
     "text": [
      "{'val_loss': 1.8209949935354837, 'val_accuracy': 0.4870426829268293, 'precision': 0.5998487683674718, 'recall': 0.4870426829268293, 'f1-score': 0.5168823307156906, 'macro_f1-score': 0.3292260707213669, 'balanced_accuracy': 0.41530506376140197, 'mcc': 0.3755908289040213, 'train_loss': 2.3567341335920187}\n",
      "Epoch 2/20\n"
     ]
    },
    {
     "name": "stderr",
     "output_type": "stream",
     "text": [
      "100%|██████████| 1300/1300 [01:59<00:00, 10.87it/s]\n"
     ]
    },
    {
     "name": "stdout",
     "output_type": "stream",
     "text": [
      "{'val_loss': 1.6215926136185483, 'val_accuracy': 0.573170731707317, 'precision': 0.6192393039469279, 'recall': 0.573170731707317, 'f1-score': 0.580698159785079, 'macro_f1-score': 0.3810916123747486, 'balanced_accuracy': 0.41009478143932004, 'mcc': 0.4545375129742222, 'train_loss': 0.8053932100419815}\n",
      "Epoch 3/20\n"
     ]
    },
    {
     "name": "stderr",
     "output_type": "stream",
     "text": [
      "100%|██████████| 1300/1300 [01:59<00:00, 10.85it/s]\n"
     ]
    },
    {
     "name": "stdout",
     "output_type": "stream",
     "text": [
      "{'val_loss': 1.7564064122554732, 'val_accuracy': 0.583079268292683, 'precision': 0.6261161649853614, 'recall': 0.583079268292683, 'f1-score': 0.5918050158513886, 'macro_f1-score': 0.3709219850138701, 'balanced_accuracy': 0.4170834965305015, 'mcc': 0.4729584896527949, 'train_loss': 0.45014494612812994}\n",
      "Epoch 4/20\n"
     ]
    },
    {
     "name": "stderr",
     "output_type": "stream",
     "text": [
      "100%|██████████| 1300/1300 [01:59<00:00, 10.85it/s]\n"
     ]
    },
    {
     "name": "stdout",
     "output_type": "stream",
     "text": [
      "{'val_loss': 1.838873680044965, 'val_accuracy': 0.5922256097560976, 'precision': 0.6402445624155713, 'recall': 0.5922256097560976, 'f1-score': 0.6018080607149293, 'macro_f1-score': 0.4029111810072033, 'balanced_accuracy': 0.43479418158694205, 'mcc': 0.4839714299182092, 'train_loss': 0.31539056179042047}\n",
      "Epoch 5/20\n"
     ]
    },
    {
     "name": "stderr",
     "output_type": "stream",
     "text": [
      "100%|██████████| 1300/1300 [01:59<00:00, 10.87it/s]\n"
     ]
    },
    {
     "name": "stdout",
     "output_type": "stream",
     "text": [
      "{'val_loss': 1.9677642649266778, 'val_accuracy': 0.5785060975609756, 'precision': 0.6169716761265543, 'recall': 0.5785060975609756, 'f1-score': 0.5857441118449894, 'macro_f1-score': 0.3734860920942113, 'balanced_accuracy': 0.4076107605364183, 'mcc': 0.46999423273829144, 'train_loss': 0.25312888999684496}\n",
      "Epoch 6/20\n"
     ]
    },
    {
     "name": "stderr",
     "output_type": "stream",
     "text": [
      "100%|██████████| 1300/1300 [01:59<00:00, 10.86it/s]\n"
     ]
    },
    {
     "name": "stdout",
     "output_type": "stream",
     "text": [
      "{'val_loss': 1.9218205283509522, 'val_accuracy': 0.6219512195121951, 'precision': 0.609595912138366, 'recall': 0.6219512195121951, 'f1-score': 0.6020129823741502, 'macro_f1-score': 0.38251736526902835, 'balanced_accuracy': 0.39236651600148714, 'mcc': 0.49059621161504324, 'train_loss': 0.2075861085521487}\n",
      "Epoch 7/20\n"
     ]
    },
    {
     "name": "stderr",
     "output_type": "stream",
     "text": [
      "100%|██████████| 1300/1300 [01:59<00:00, 10.85it/s]\n"
     ]
    },
    {
     "name": "stdout",
     "output_type": "stream",
     "text": [
      "{'val_loss': 2.330421350351194, 'val_accuracy': 0.5396341463414634, 'precision': 0.6311317471596696, 'recall': 0.5396341463414634, 'f1-score': 0.5621401746044812, 'macro_f1-score': 0.35927873269314475, 'balanced_accuracy': 0.40878797134521516, 'mcc': 0.43569058614851014, 'train_loss': 0.1820952980302704}\n",
      "Early stopping.\n",
      "\n",
      "[Fold 2]\n",
      "Label distribution after resampling:\n",
      "  label 0: 2000\n",
      "  label 1: 400\n",
      "  label 2: 400\n",
      "  label 3: 400\n",
      "  label 4: 400\n",
      "  label 5: 400\n",
      "  label 6: 400\n",
      "  label 7: 400\n",
      "  label 8: 400\n",
      "  label 9: 400\n",
      "  label 10: 400\n",
      "  label 11: 400\n",
      "  label 12: 400\n",
      "  label 13: 400\n",
      "  label 14: 400\n",
      "  label 15: 400\n",
      "  label 16: 400\n",
      "  label 17: 400\n",
      "  label 18: 400\n",
      "  label 19: 400\n",
      "  label 20: 400\n",
      "  label 21: 400\n",
      "  label 22: 400\n",
      "  label 23: 400\n",
      "  label 24: 400\n",
      "  label 25: 400\n",
      "  label 26: 400\n",
      "  label 27: 400\n",
      "  label 28: 400\n",
      "  label 29: 400\n",
      "  label 30: 400\n",
      "  label 31: 400\n",
      "  label 32: 400\n",
      "  label 33: 400\n",
      "  label 34: 400\n",
      "  label 35: 400\n",
      "  label 36: 400\n",
      "  label 37: 400\n",
      "  label 38: 400\n",
      "  label 39: 400\n",
      "  label 40: 400\n",
      "  label 41: 400\n",
      "  label 42: 400\n",
      "  label 43: 400\n",
      "  label 44: 400\n",
      "  label 45: 400\n",
      "  label 46: 400\n",
      "  label 47: 400\n",
      "model is roberta-base lstm\n"
     ]
    },
    {
     "name": "stderr",
     "output_type": "stream",
     "text": [
      "Some weights of RobertaModel were not initialized from the model checkpoint at roberta-base and are newly initialized: ['pooler.dense.bias', 'pooler.dense.weight']\n",
      "You should probably TRAIN this model on a down-stream task to be able to use it for predictions and inference.\n"
     ]
    },
    {
     "name": "stdout",
     "output_type": "stream",
     "text": [
      "Epoch 1/20\n"
     ]
    },
    {
     "name": "stderr",
     "output_type": "stream",
     "text": [
      "100%|██████████| 1300/1300 [01:59<00:00, 10.87it/s]\n"
     ]
    },
    {
     "name": "stdout",
     "output_type": "stream",
     "text": [
      "{'val_loss': 1.876813069349382, 'val_accuracy': 0.4919908466819222, 'precision': 0.5949429272765321, 'recall': 0.4919908466819222, 'f1-score': 0.5168921015027398, 'macro_f1-score': 0.2829691775806531, 'balanced_accuracy': 0.40826584409082356, 'mcc': 0.38583451580721445, 'train_loss': 2.0457591720727772}\n",
      "Epoch 2/20\n"
     ]
    },
    {
     "name": "stderr",
     "output_type": "stream",
     "text": [
      "100%|██████████| 1300/1300 [01:59<00:00, 10.86it/s]\n"
     ]
    },
    {
     "name": "stdout",
     "output_type": "stream",
     "text": [
      "{'val_loss': 1.6452849921656818, 'val_accuracy': 0.5682684973302822, 'precision': 0.6286789677337074, 'recall': 0.5682684973302822, 'f1-score': 0.5832953490267443, 'macro_f1-score': 0.3669397749341396, 'balanced_accuracy': 0.44394688517171704, 'mcc': 0.46410926752164094, 'train_loss': 0.8160307362732979}\n",
      "Epoch 3/20\n"
     ]
    },
    {
     "name": "stderr",
     "output_type": "stream",
     "text": [
      "100%|██████████| 1300/1300 [01:59<00:00, 10.87it/s]\n"
     ]
    },
    {
     "name": "stdout",
     "output_type": "stream",
     "text": [
      "{'val_loss': 1.83709951144893, 'val_accuracy': 0.5530129672006102, 'precision': 0.6329430311542366, 'recall': 0.5530129672006102, 'f1-score': 0.5762297229589873, 'macro_f1-score': 0.3429911190345371, 'balanced_accuracy': 0.3842659315737813, 'mcc': 0.4482590250567736, 'train_loss': 0.49562321073733845}\n",
      "Epoch 4/20\n"
     ]
    },
    {
     "name": "stderr",
     "output_type": "stream",
     "text": [
      "100%|██████████| 1300/1300 [01:59<00:00, 10.86it/s]\n"
     ]
    },
    {
     "name": "stdout",
     "output_type": "stream",
     "text": [
      "{'val_loss': 1.9026622299740954, 'val_accuracy': 0.5758962623951183, 'precision': 0.6220085691859978, 'recall': 0.5758962623951183, 'f1-score': 0.5912894490072867, 'macro_f1-score': 0.3433010146812538, 'balanced_accuracy': 0.39408339198195713, 'mcc': 0.46609735765668014, 'train_loss': 0.3506076249437263}\n",
      "Epoch 5/20\n"
     ]
    },
    {
     "name": "stderr",
     "output_type": "stream",
     "text": [
      "100%|██████████| 1300/1300 [01:59<00:00, 10.86it/s]\n"
     ]
    },
    {
     "name": "stdout",
     "output_type": "stream",
     "text": [
      "{'val_loss': 2.0155454583284333, 'val_accuracy': 0.5682684973302822, 'precision': 0.6359333009026954, 'recall': 0.5682684973302822, 'f1-score': 0.588519840083112, 'macro_f1-score': 0.35708088937187615, 'balanced_accuracy': 0.3962209234682346, 'mcc': 0.4739639538238697, 'train_loss': 0.27906038111147397}\n",
      "Early stopping.\n",
      "\n",
      "[Fold 3]\n",
      "Label distribution after resampling:\n",
      "  label 0: 2000\n",
      "  label 1: 400\n",
      "  label 2: 400\n",
      "  label 3: 400\n",
      "  label 4: 400\n",
      "  label 5: 400\n",
      "  label 6: 400\n",
      "  label 7: 400\n",
      "  label 8: 400\n",
      "  label 9: 400\n",
      "  label 10: 400\n",
      "  label 11: 400\n",
      "  label 12: 400\n",
      "  label 13: 400\n",
      "  label 14: 400\n",
      "  label 15: 400\n",
      "  label 16: 400\n",
      "  label 17: 400\n",
      "  label 18: 400\n",
      "  label 19: 400\n",
      "  label 20: 400\n",
      "  label 21: 400\n",
      "  label 22: 400\n",
      "  label 23: 400\n",
      "  label 24: 400\n",
      "  label 25: 400\n",
      "  label 26: 400\n",
      "  label 27: 400\n",
      "  label 28: 400\n",
      "  label 29: 400\n",
      "  label 30: 400\n",
      "  label 31: 400\n",
      "  label 32: 400\n",
      "  label 33: 400\n",
      "  label 34: 400\n",
      "  label 35: 400\n",
      "  label 36: 400\n",
      "  label 37: 400\n",
      "  label 38: 400\n",
      "  label 39: 400\n",
      "  label 40: 400\n",
      "  label 41: 400\n",
      "  label 42: 400\n",
      "  label 43: 400\n",
      "  label 44: 400\n",
      "  label 45: 400\n",
      "  label 46: 400\n",
      "  label 47: 400\n",
      "model is roberta-base lstm\n"
     ]
    },
    {
     "name": "stderr",
     "output_type": "stream",
     "text": [
      "Some weights of RobertaModel were not initialized from the model checkpoint at roberta-base and are newly initialized: ['pooler.dense.bias', 'pooler.dense.weight']\n",
      "You should probably TRAIN this model on a down-stream task to be able to use it for predictions and inference.\n"
     ]
    },
    {
     "name": "stdout",
     "output_type": "stream",
     "text": [
      "Epoch 1/20\n"
     ]
    },
    {
     "name": "stderr",
     "output_type": "stream",
     "text": [
      "100%|██████████| 1300/1300 [01:59<00:00, 10.86it/s]\n"
     ]
    },
    {
     "name": "stdout",
     "output_type": "stream",
     "text": [
      "{'val_loss': 1.9098744864870862, 'val_accuracy': 0.4797864225781846, 'precision': 0.5838287620245277, 'recall': 0.4797864225781846, 'f1-score': 0.5066518773582798, 'macro_f1-score': 0.300971102668205, 'balanced_accuracy': 0.3905305217213848, 'mcc': 0.36792699813914276, 'train_loss': 2.0335147394583775}\n",
      "Epoch 2/20\n"
     ]
    },
    {
     "name": "stderr",
     "output_type": "stream",
     "text": [
      "100%|██████████| 1300/1300 [01:59<00:00, 10.86it/s]\n"
     ]
    },
    {
     "name": "stdout",
     "output_type": "stream",
     "text": [
      "{'val_loss': 1.7995412524153547, 'val_accuracy': 0.5545385202135774, 'precision': 0.6025443371255065, 'recall': 0.5545385202135774, 'f1-score': 0.5672728951578359, 'macro_f1-score': 0.34615770929931583, 'balanced_accuracy': 0.3804738760003677, 'mcc': 0.43576260726068117, 'train_loss': 0.7617993015050888}\n",
      "Epoch 3/20\n"
     ]
    },
    {
     "name": "stderr",
     "output_type": "stream",
     "text": [
      "100%|██████████| 1300/1300 [01:59<00:00, 10.85it/s]\n"
     ]
    },
    {
     "name": "stdout",
     "output_type": "stream",
     "text": [
      "{'val_loss': 1.9583776404217976, 'val_accuracy': 0.540045766590389, 'precision': 0.6187531306663279, 'recall': 0.540045766590389, 'f1-score': 0.5591903931542963, 'macro_f1-score': 0.3534995121077871, 'balanced_accuracy': 0.42032741662757145, 'mcc': 0.4343900592708105, 'train_loss': 0.43661275345832107}\n",
      "Epoch 4/20\n"
     ]
    },
    {
     "name": "stderr",
     "output_type": "stream",
     "text": [
      "100%|██████████| 1300/1300 [01:59<00:00, 10.86it/s]\n"
     ]
    },
    {
     "name": "stdout",
     "output_type": "stream",
     "text": [
      "{'val_loss': 1.9650615126621434, 'val_accuracy': 0.5369946605644547, 'precision': 0.6102284387665559, 'recall': 0.5369946605644547, 'f1-score': 0.5585824813646548, 'macro_f1-score': 0.36286748249807044, 'balanced_accuracy': 0.392919577931005, 'mcc': 0.4346707016863441, 'train_loss': 0.3175921905499238}\n",
      "Epoch 5/20\n"
     ]
    },
    {
     "name": "stderr",
     "output_type": "stream",
     "text": [
      "100%|██████████| 1300/1300 [01:59<00:00, 10.85it/s]\n"
     ]
    },
    {
     "name": "stdout",
     "output_type": "stream",
     "text": [
      "{'val_loss': 1.9625751597852241, 'val_accuracy': 0.5942028985507246, 'precision': 0.5899721381172147, 'recall': 0.5942028985507246, 'f1-score': 0.5770772727341239, 'macro_f1-score': 0.3619955240736727, 'balanced_accuracy': 0.35561153650290317, 'mcc': 0.45078247993487386, 'train_loss': 0.2499591157427774}\n",
      "Epoch 6/20\n"
     ]
    },
    {
     "name": "stderr",
     "output_type": "stream",
     "text": [
      "100%|██████████| 1300/1300 [01:59<00:00, 10.86it/s]\n"
     ]
    },
    {
     "name": "stdout",
     "output_type": "stream",
     "text": [
      "{'val_loss': 2.091323047512915, 'val_accuracy': 0.5774218154080855, 'precision': 0.6038999367485404, 'recall': 0.5774218154080855, 'f1-score': 0.5766501217257248, 'macro_f1-score': 0.3837737344150198, 'balanced_accuracy': 0.3828097574839972, 'mcc': 0.4488332696036613, 'train_loss': 0.19693607040107824}\n",
      "Epoch 7/20\n"
     ]
    },
    {
     "name": "stderr",
     "output_type": "stream",
     "text": [
      "100%|██████████| 1300/1300 [01:59<00:00, 10.86it/s]\n"
     ]
    },
    {
     "name": "stdout",
     "output_type": "stream",
     "text": [
      "{'val_loss': 2.1224340364427827, 'val_accuracy': 0.5705568268497331, 'precision': 0.6151748054712517, 'recall': 0.5705568268497331, 'f1-score': 0.5836545598351078, 'macro_f1-score': 0.3836709909804183, 'balanced_accuracy': 0.37676507590835673, 'mcc': 0.46085638136142554, 'train_loss': 0.1796034744933534}\n",
      "Epoch 8/20\n"
     ]
    },
    {
     "name": "stderr",
     "output_type": "stream",
     "text": [
      "100%|██████████| 1300/1300 [01:59<00:00, 10.85it/s]\n"
     ]
    },
    {
     "name": "stdout",
     "output_type": "stream",
     "text": [
      "{'val_loss': 2.2223078873826236, 'val_accuracy': 0.5766590389016019, 'precision': 0.6220159331692592, 'recall': 0.5766590389016019, 'f1-score': 0.5918888559905111, 'macro_f1-score': 0.3858025840261248, 'balanced_accuracy': 0.4114913380339922, 'mcc': 0.47218807446468264, 'train_loss': 0.16817841202557945}\n",
      "Epoch 9/20\n"
     ]
    },
    {
     "name": "stderr",
     "output_type": "stream",
     "text": [
      "100%|██████████| 1300/1300 [01:59<00:00, 10.87it/s]\n"
     ]
    },
    {
     "name": "stdout",
     "output_type": "stream",
     "text": [
      "{'val_loss': 2.21877898493918, 'val_accuracy': 0.5781845919145691, 'precision': 0.6214061722435479, 'recall': 0.5781845919145691, 'f1-score': 0.5856446666873865, 'macro_f1-score': 0.3790778593960926, 'balanced_accuracy': 0.39613592338536613, 'mcc': 0.46254975601903814, 'train_loss': 0.14284243020551424}\n",
      "Epoch 10/20\n"
     ]
    },
    {
     "name": "stderr",
     "output_type": "stream",
     "text": [
      "100%|██████████| 1300/1300 [01:59<00:00, 10.86it/s]\n"
     ]
    },
    {
     "name": "stdout",
     "output_type": "stream",
     "text": [
      "{'val_loss': 2.287435775395574, 'val_accuracy': 0.5888634630053394, 'precision': 0.6013646518808115, 'recall': 0.5888634630053394, 'f1-score': 0.5843182494624026, 'macro_f1-score': 0.35725369981508565, 'balanced_accuracy': 0.37270659832517944, 'mcc': 0.4641092455271032, 'train_loss': 0.12871374909551098}\n",
      "Epoch 11/20\n"
     ]
    },
    {
     "name": "stderr",
     "output_type": "stream",
     "text": [
      "100%|██████████| 1300/1300 [01:59<00:00, 10.86it/s]\n"
     ]
    },
    {
     "name": "stdout",
     "output_type": "stream",
     "text": [
      "{'val_loss': 2.219972614562366, 'val_accuracy': 0.593440122044241, 'precision': 0.6104839741785554, 'recall': 0.593440122044241, 'f1-score': 0.5915155868681753, 'macro_f1-score': 0.39322889501161784, 'balanced_accuracy': 0.39638022072862705, 'mcc': 0.47213455930235293, 'train_loss': 0.12346546843934518}\n",
      "Epoch 12/20\n"
     ]
    },
    {
     "name": "stderr",
     "output_type": "stream",
     "text": [
      "100%|██████████| 1300/1300 [01:59<00:00, 10.87it/s]\n"
     ]
    },
    {
     "name": "stdout",
     "output_type": "stream",
     "text": [
      "{'val_loss': 2.117431187411634, 'val_accuracy': 0.5797101449275363, 'precision': 0.608993925186902, 'recall': 0.5797101449275363, 'f1-score': 0.5881422337696479, 'macro_f1-score': 0.3699797859352085, 'balanced_accuracy': 0.37428464944947554, 'mcc': 0.45567388964094396, 'train_loss': 0.15360639550042554}\n",
      "Epoch 13/20\n"
     ]
    },
    {
     "name": "stderr",
     "output_type": "stream",
     "text": [
      "100%|██████████| 1300/1300 [01:59<00:00, 10.86it/s]\n"
     ]
    },
    {
     "name": "stdout",
     "output_type": "stream",
     "text": [
      "{'val_loss': 2.2909747652891204, 'val_accuracy': 0.6079328756674295, 'precision': 0.6207643758567493, 'recall': 0.6079328756674295, 'f1-score': 0.6080687368647305, 'macro_f1-score': 0.38592389975111036, 'balanced_accuracy': 0.3908920366966804, 'mcc': 0.49556751956958894, 'train_loss': 0.1059777881944767}\n",
      "Epoch 14/20\n"
     ]
    },
    {
     "name": "stderr",
     "output_type": "stream",
     "text": [
      "100%|██████████| 1300/1300 [01:59<00:00, 10.85it/s]\n"
     ]
    },
    {
     "name": "stdout",
     "output_type": "stream",
     "text": [
      "{'val_loss': 2.211039917770682, 'val_accuracy': 0.6147978642257819, 'precision': 0.6143402995548515, 'recall': 0.6147978642257819, 'f1-score': 0.6102254501008298, 'macro_f1-score': 0.38707381559924636, 'balanced_accuracy': 0.3785501297648195, 'mcc': 0.49469414969212017, 'train_loss': 0.10524145904337415}\n",
      "Early stopping.\n",
      "\n",
      "[Fold 4]\n",
      "Label distribution after resampling:\n",
      "  label 0: 2000\n",
      "  label 1: 400\n",
      "  label 2: 400\n",
      "  label 3: 400\n",
      "  label 4: 400\n",
      "  label 5: 400\n",
      "  label 6: 400\n",
      "  label 7: 400\n",
      "  label 8: 400\n",
      "  label 9: 400\n",
      "  label 10: 400\n",
      "  label 11: 400\n",
      "  label 12: 400\n",
      "  label 13: 400\n",
      "  label 14: 400\n",
      "  label 15: 400\n",
      "  label 16: 400\n",
      "  label 17: 400\n",
      "  label 18: 400\n",
      "  label 19: 400\n",
      "  label 20: 400\n",
      "  label 21: 400\n",
      "  label 22: 400\n",
      "  label 23: 400\n",
      "  label 24: 400\n",
      "  label 25: 400\n",
      "  label 26: 400\n",
      "  label 27: 400\n",
      "  label 28: 400\n",
      "  label 29: 400\n",
      "  label 30: 400\n",
      "  label 31: 400\n",
      "  label 32: 400\n",
      "  label 33: 400\n",
      "  label 34: 400\n",
      "  label 35: 400\n",
      "  label 36: 400\n",
      "  label 37: 400\n",
      "  label 38: 400\n",
      "  label 39: 400\n",
      "  label 40: 400\n",
      "  label 41: 400\n",
      "  label 42: 400\n",
      "  label 43: 400\n",
      "  label 44: 400\n",
      "  label 45: 400\n",
      "  label 46: 400\n",
      "  label 47: 400\n",
      "model is roberta-base lstm\n"
     ]
    },
    {
     "name": "stderr",
     "output_type": "stream",
     "text": [
      "Some weights of RobertaModel were not initialized from the model checkpoint at roberta-base and are newly initialized: ['pooler.dense.bias', 'pooler.dense.weight']\n",
      "You should probably TRAIN this model on a down-stream task to be able to use it for predictions and inference.\n"
     ]
    },
    {
     "name": "stdout",
     "output_type": "stream",
     "text": [
      "Epoch 1/20\n"
     ]
    },
    {
     "name": "stderr",
     "output_type": "stream",
     "text": [
      "100%|██████████| 1300/1300 [01:59<00:00, 10.87it/s]\n"
     ]
    },
    {
     "name": "stdout",
     "output_type": "stream",
     "text": [
      "{'val_loss': 1.9075338288051327, 'val_accuracy': 0.4774980930587338, 'precision': 0.5648337583760871, 'recall': 0.4774980930587338, 'f1-score': 0.4938383638438472, 'macro_f1-score': 0.2734749541770241, 'balanced_accuracy': 0.3474615770796227, 'mcc': 0.3731311712969571, 'train_loss': 2.221898339023957}\n",
      "Epoch 2/20\n"
     ]
    },
    {
     "name": "stderr",
     "output_type": "stream",
     "text": [
      "100%|██████████| 1300/1300 [01:59<00:00, 10.88it/s]\n"
     ]
    },
    {
     "name": "stdout",
     "output_type": "stream",
     "text": [
      "{'val_loss': 2.0505001552221254, 'val_accuracy': 0.45080091533180777, 'precision': 0.623182357222986, 'recall': 0.45080091533180777, 'f1-score': 0.4813702321613805, 'macro_f1-score': 0.34676914199586495, 'balanced_accuracy': 0.45413588981352926, 'mcc': 0.3914891592495682, 'train_loss': 0.8902795987060437}\n",
      "Epoch 3/20\n"
     ]
    },
    {
     "name": "stderr",
     "output_type": "stream",
     "text": [
      "100%|██████████| 1300/1300 [01:59<00:00, 10.87it/s]\n"
     ]
    },
    {
     "name": "stdout",
     "output_type": "stream",
     "text": [
      "{'val_loss': 1.7801830906693528, 'val_accuracy': 0.5751334858886347, 'precision': 0.6502788222393324, 'recall': 0.5751334858886347, 'f1-score': 0.5954131863455414, 'macro_f1-score': 0.39402388481116374, 'balanced_accuracy': 0.4539485120901081, 'mcc': 0.48492384304984215, 'train_loss': 0.5386073619385179}\n",
      "Epoch 4/20\n"
     ]
    },
    {
     "name": "stderr",
     "output_type": "stream",
     "text": [
      "100%|██████████| 1300/1300 [01:59<00:00, 10.87it/s]\n"
     ]
    },
    {
     "name": "stdout",
     "output_type": "stream",
     "text": [
      "{'val_loss': 1.8215210052525126, 'val_accuracy': 0.5736079328756675, 'precision': 0.6335936510154193, 'recall': 0.5736079328756675, 'f1-score': 0.5914717338319814, 'macro_f1-score': 0.3713080560951909, 'balanced_accuracy': 0.4116318177624267, 'mcc': 0.4722806044675372, 'train_loss': 0.3831284003991347}\n",
      "Epoch 5/20\n"
     ]
    },
    {
     "name": "stderr",
     "output_type": "stream",
     "text": [
      "100%|██████████| 1300/1300 [01:59<00:00, 10.87it/s]\n"
     ]
    },
    {
     "name": "stdout",
     "output_type": "stream",
     "text": [
      "{'val_loss': 1.7796331945715882, 'val_accuracy': 0.6231884057971014, 'precision': 0.6578520364714081, 'recall': 0.6231884057971014, 'f1-score': 0.6305865065761115, 'macro_f1-score': 0.4174404796365958, 'balanced_accuracy': 0.4298598240033291, 'mcc': 0.5184404014351136, 'train_loss': 0.31095726132894363}\n",
      "Epoch 6/20\n"
     ]
    },
    {
     "name": "stderr",
     "output_type": "stream",
     "text": [
      "100%|██████████| 1300/1300 [01:59<00:00, 10.87it/s]\n"
     ]
    },
    {
     "name": "stdout",
     "output_type": "stream",
     "text": [
      "{'val_loss': 1.9209502717343772, 'val_accuracy': 0.6018306636155606, 'precision': 0.6203937427945526, 'recall': 0.6018306636155606, 'f1-score': 0.6009591546444575, 'macro_f1-score': 0.3640295972290608, 'balanced_accuracy': 0.35961049929640726, 'mcc': 0.4820465488423185, 'train_loss': 0.2585318476284066}\n",
      "Epoch 7/20\n"
     ]
    },
    {
     "name": "stderr",
     "output_type": "stream",
     "text": [
      "100%|██████████| 1300/1300 [01:59<00:00, 10.87it/s]\n"
     ]
    },
    {
     "name": "stdout",
     "output_type": "stream",
     "text": [
      "{'val_loss': 2.0341054397385294, 'val_accuracy': 0.5789473684210527, 'precision': 0.6072102901620312, 'recall': 0.5789473684210527, 'f1-score': 0.5830273277706575, 'macro_f1-score': 0.3782072035818782, 'balanced_accuracy': 0.403904104463803, 'mcc': 0.47102228626949477, 'train_loss': 0.22965461331348005}\n",
      "Epoch 8/20\n"
     ]
    },
    {
     "name": "stderr",
     "output_type": "stream",
     "text": [
      "100%|██████████| 1300/1300 [01:59<00:00, 10.87it/s]\n"
     ]
    },
    {
     "name": "stdout",
     "output_type": "stream",
     "text": [
      "{'val_loss': 1.99895820348728, 'val_accuracy': 0.6178489702517163, 'precision': 0.6290352628022352, 'recall': 0.6178489702517163, 'f1-score': 0.6133014189519058, 'macro_f1-score': 0.38080703677376987, 'balanced_accuracy': 0.38701089309549125, 'mcc': 0.50070561393583, 'train_loss': 0.1989703090209514}\n",
      "Early stopping.\n",
      "\n",
      "[Fold 5]\n",
      "Label distribution after resampling:\n",
      "  label 0: 2000\n",
      "  label 1: 400\n",
      "  label 2: 400\n",
      "  label 3: 400\n",
      "  label 4: 400\n",
      "  label 5: 400\n",
      "  label 6: 400\n",
      "  label 7: 400\n",
      "  label 8: 400\n",
      "  label 9: 400\n",
      "  label 10: 400\n",
      "  label 11: 400\n",
      "  label 12: 400\n",
      "  label 13: 400\n",
      "  label 14: 400\n",
      "  label 15: 400\n",
      "  label 16: 400\n",
      "  label 17: 400\n",
      "  label 18: 400\n",
      "  label 19: 400\n",
      "  label 20: 400\n",
      "  label 21: 400\n",
      "  label 22: 400\n",
      "  label 23: 400\n",
      "  label 24: 400\n",
      "  label 25: 400\n",
      "  label 26: 400\n",
      "  label 27: 400\n",
      "  label 28: 400\n",
      "  label 29: 400\n",
      "  label 30: 400\n",
      "  label 31: 400\n",
      "  label 32: 400\n",
      "  label 33: 400\n",
      "  label 34: 400\n",
      "  label 35: 400\n",
      "  label 36: 400\n",
      "  label 37: 400\n",
      "  label 38: 400\n",
      "  label 39: 400\n",
      "  label 40: 400\n",
      "  label 41: 400\n",
      "  label 42: 400\n",
      "  label 43: 400\n",
      "  label 44: 400\n",
      "  label 45: 400\n",
      "  label 46: 400\n",
      "  label 47: 400\n",
      "model is roberta-base lstm\n"
     ]
    },
    {
     "name": "stderr",
     "output_type": "stream",
     "text": [
      "Some weights of RobertaModel were not initialized from the model checkpoint at roberta-base and are newly initialized: ['pooler.dense.bias', 'pooler.dense.weight']\n",
      "You should probably TRAIN this model on a down-stream task to be able to use it for predictions and inference.\n"
     ]
    },
    {
     "name": "stdout",
     "output_type": "stream",
     "text": [
      "Epoch 1/20\n"
     ]
    },
    {
     "name": "stderr",
     "output_type": "stream",
     "text": [
      "100%|██████████| 1300/1300 [01:59<00:00, 10.84it/s]\n"
     ]
    },
    {
     "name": "stdout",
     "output_type": "stream",
     "text": [
      "{'val_loss': 2.197965994113829, 'val_accuracy': 0.34401220442410374, 'precision': 0.5207370768499138, 'recall': 0.34401220442410374, 'f1-score': 0.3798227488102649, 'macro_f1-score': 0.2260579300265676, 'balanced_accuracy': 0.3300227880341122, 'mcc': 0.26894662161945315, 'train_loss': 2.666353951234084}\n",
      "Epoch 2/20\n"
     ]
    },
    {
     "name": "stderr",
     "output_type": "stream",
     "text": [
      "100%|██████████| 1300/1300 [01:59<00:00, 10.86it/s]\n"
     ]
    },
    {
     "name": "stdout",
     "output_type": "stream",
     "text": [
      "{'val_loss': 1.7143930036847184, 'val_accuracy': 0.5316552250190694, 'precision': 0.6148312793971568, 'recall': 0.5316552250190694, 'f1-score': 0.557285258172695, 'macro_f1-score': 0.34239334705227714, 'balanced_accuracy': 0.3935397775804104, 'mcc': 0.4256707978727362, 'train_loss': 1.2137307981458993}\n",
      "Epoch 3/20\n"
     ]
    },
    {
     "name": "stderr",
     "output_type": "stream",
     "text": [
      "100%|██████████| 1300/1300 [01:59<00:00, 10.88it/s]\n"
     ]
    },
    {
     "name": "stdout",
     "output_type": "stream",
     "text": [
      "{'val_loss': 1.7974343139950821, 'val_accuracy': 0.5507246376811594, 'precision': 0.6344872967412022, 'recall': 0.5507246376811594, 'f1-score': 0.5762827623999776, 'macro_f1-score': 0.3633811371812942, 'balanced_accuracy': 0.41249219254973984, 'mcc': 0.45678181724043354, 'train_loss': 0.6598020360733454}\n",
      "Epoch 4/20\n"
     ]
    },
    {
     "name": "stderr",
     "output_type": "stream",
     "text": [
      "100%|██████████| 1300/1300 [01:59<00:00, 10.85it/s]\n"
     ]
    },
    {
     "name": "stdout",
     "output_type": "stream",
     "text": [
      "{'val_loss': 1.9022329071672952, 'val_accuracy': 0.551487414187643, 'precision': 0.6421230750541649, 'recall': 0.551487414187643, 'f1-score': 0.5767068674477328, 'macro_f1-score': 0.4002450269475067, 'balanced_accuracy': 0.4563952016876322, 'mcc': 0.4632444609149408, 'train_loss': 0.4444594908749255}\n",
      "Epoch 5/20\n"
     ]
    },
    {
     "name": "stderr",
     "output_type": "stream",
     "text": [
      "100%|██████████| 1300/1300 [01:59<00:00, 10.87it/s]\n"
     ]
    },
    {
     "name": "stdout",
     "output_type": "stream",
     "text": [
      "{'val_loss': 1.971796329065067, 'val_accuracy': 0.5530129672006102, 'precision': 0.6218432766009598, 'recall': 0.5530129672006102, 'f1-score': 0.5758189318886745, 'macro_f1-score': 0.3825238130137314, 'balanced_accuracy': 0.40849579961106325, 'mcc': 0.45640371446825684, 'train_loss': 0.3529858094955293}\n",
      "Epoch 6/20\n"
     ]
    },
    {
     "name": "stderr",
     "output_type": "stream",
     "text": [
      "100%|██████████| 1300/1300 [01:59<00:00, 10.88it/s]\n"
     ]
    },
    {
     "name": "stdout",
     "output_type": "stream",
     "text": [
      "{'val_loss': 1.9404026415289901, 'val_accuracy': 0.6079328756674295, 'precision': 0.6252390380223444, 'recall': 0.6079328756674295, 'f1-score': 0.605486588686317, 'macro_f1-score': 0.3696811958986091, 'balanced_accuracy': 0.36874654785072486, 'mcc': 0.48686892267373283, 'train_loss': 0.26027157640944304}\n",
      "Epoch 7/20\n"
     ]
    },
    {
     "name": "stderr",
     "output_type": "stream",
     "text": [
      "100%|██████████| 1300/1300 [01:59<00:00, 10.84it/s]\n"
     ]
    },
    {
     "name": "stdout",
     "output_type": "stream",
     "text": [
      "{'val_loss': 1.9347775429487228, 'val_accuracy': 0.6041189931350115, 'precision': 0.6267335138417522, 'recall': 0.6041189931350115, 'f1-score': 0.6100393540726754, 'macro_f1-score': 0.38594955076753806, 'balanced_accuracy': 0.41370998104657636, 'mcc': 0.4936118679157727, 'train_loss': 0.2563159293896304}\n",
      "Early stopping.\n",
      "\n",
      " === roberta-base + lstm + ros Final 5-fold Cross-Validation Results ===\n",
      "val_loss: 1.8772\n",
      "val_accuracy: 0.5857\n",
      "precision: 0.6359\n",
      "recall: 0.5857\n",
      "f1-score: 0.5968\n",
      "macro_f1-score: 0.3962\n",
      "balanced_accuracy: 0.4323\n",
      "mcc: 0.4804\n",
      "train_loss: 0.4021\n",
      "total_seconds: 5037.0000\n",
      "total_time: 1 hrs 23 mins 57 secs\n",
      "▶ Running: roberta-base + bilstm + ros\n",
      "tokenizer is roberta-base\n",
      "Using device: cuda\n",
      "CUDA Available: True\n",
      "CUDA Device: NVIDIA GeForce RTX 5070 Ti\n",
      "Current GPU Memory Allocated: 0.02 GB\n",
      "Current GPU Memory Cached: 3.91 GB\n",
      "\n",
      "[Fold 1]\n",
      "Label distribution after resampling:\n",
      "  label 0: 2000\n",
      "  label 1: 400\n",
      "  label 2: 400\n",
      "  label 3: 400\n",
      "  label 4: 400\n",
      "  label 5: 400\n",
      "  label 6: 400\n",
      "  label 7: 400\n",
      "  label 8: 400\n",
      "  label 9: 400\n",
      "  label 10: 400\n",
      "  label 11: 400\n",
      "  label 12: 400\n",
      "  label 13: 400\n",
      "  label 14: 400\n",
      "  label 15: 400\n",
      "  label 16: 400\n",
      "  label 17: 400\n",
      "  label 18: 400\n",
      "  label 19: 400\n",
      "  label 20: 400\n",
      "  label 21: 400\n",
      "  label 22: 400\n",
      "  label 23: 400\n",
      "  label 24: 400\n",
      "  label 25: 400\n",
      "  label 26: 400\n",
      "  label 27: 400\n",
      "  label 28: 400\n",
      "  label 29: 400\n",
      "  label 30: 400\n",
      "  label 31: 400\n",
      "  label 32: 400\n",
      "  label 33: 400\n",
      "  label 34: 400\n",
      "  label 35: 400\n",
      "  label 36: 400\n",
      "  label 37: 400\n",
      "  label 38: 400\n",
      "  label 39: 400\n",
      "  label 40: 400\n",
      "  label 41: 400\n",
      "  label 42: 400\n",
      "  label 43: 400\n",
      "  label 44: 400\n",
      "  label 45: 400\n",
      "  label 46: 400\n",
      "  label 47: 400\n",
      "model is roberta-base bilstm\n"
     ]
    },
    {
     "name": "stderr",
     "output_type": "stream",
     "text": [
      "Some weights of RobertaModel were not initialized from the model checkpoint at roberta-base and are newly initialized: ['pooler.dense.bias', 'pooler.dense.weight']\n",
      "You should probably TRAIN this model on a down-stream task to be able to use it for predictions and inference.\n"
     ]
    },
    {
     "name": "stdout",
     "output_type": "stream",
     "text": [
      "Epoch 1/20\n"
     ]
    },
    {
     "name": "stderr",
     "output_type": "stream",
     "text": [
      "100%|██████████| 1300/1300 [02:02<00:00, 10.57it/s]\n"
     ]
    },
    {
     "name": "stdout",
     "output_type": "stream",
     "text": [
      "{'val_loss': 1.8209898813468655, 'val_accuracy': 0.5038109756097561, 'precision': 0.5663047472715691, 'recall': 0.5038109756097561, 'f1-score': 0.494007014583234, 'macro_f1-score': 0.30407437226808, 'balanced_accuracy': 0.41784801229282564, 'mcc': 0.3701881732934039, 'train_loss': 2.1690608421655804}\n",
      "Epoch 2/20\n"
     ]
    },
    {
     "name": "stderr",
     "output_type": "stream",
     "text": [
      "100%|██████████| 1300/1300 [02:03<00:00, 10.55it/s]\n"
     ]
    },
    {
     "name": "stdout",
     "output_type": "stream",
     "text": [
      "{'val_loss': 1.7984080031150724, 'val_accuracy': 0.5365853658536586, 'precision': 0.6068977237917885, 'recall': 0.5365853658536586, 'f1-score': 0.551299685633374, 'macro_f1-score': 0.34466033944826285, 'balanced_accuracy': 0.40986872787384704, 'mcc': 0.4284174161368005, 'train_loss': 0.847853520621474}\n",
      "Epoch 3/20\n"
     ]
    },
    {
     "name": "stderr",
     "output_type": "stream",
     "text": [
      "100%|██████████| 1300/1300 [02:03<00:00, 10.53it/s]\n"
     ]
    },
    {
     "name": "stdout",
     "output_type": "stream",
     "text": [
      "{'val_loss': 1.7083047977307948, 'val_accuracy': 0.6059451219512195, 'precision': 0.6013204710589125, 'recall': 0.6059451219512195, 'f1-score': 0.5844592713679488, 'macro_f1-score': 0.38312784126423344, 'balanced_accuracy': 0.3987611595147267, 'mcc': 0.46480367657630967, 'train_loss': 0.4689360173820303}\n",
      "Epoch 4/20\n"
     ]
    },
    {
     "name": "stderr",
     "output_type": "stream",
     "text": [
      "100%|██████████| 1300/1300 [02:03<00:00, 10.55it/s]\n"
     ]
    },
    {
     "name": "stdout",
     "output_type": "stream",
     "text": [
      "{'val_loss': 1.8261719782177994, 'val_accuracy': 0.5952743902439024, 'precision': 0.647380299326933, 'recall': 0.5952743902439024, 'f1-score': 0.6046786651655036, 'macro_f1-score': 0.43644290306531985, 'balanced_accuracy': 0.4563688086855673, 'mcc': 0.48785708507882825, 'train_loss': 0.3200400729262485}\n",
      "Epoch 5/20\n"
     ]
    },
    {
     "name": "stderr",
     "output_type": "stream",
     "text": [
      "100%|██████████| 1300/1300 [02:03<00:00, 10.55it/s]\n"
     ]
    },
    {
     "name": "stdout",
     "output_type": "stream",
     "text": [
      "{'val_loss': 1.9407820894223888, 'val_accuracy': 0.5983231707317073, 'precision': 0.6276657801519021, 'recall': 0.5983231707317073, 'f1-score': 0.6023246479948959, 'macro_f1-score': 0.4404629027369971, 'balanced_accuracy': 0.46891589009905615, 'mcc': 0.482861722239726, 'train_loss': 0.2380585720540526}\n",
      "Epoch 6/20\n"
     ]
    },
    {
     "name": "stderr",
     "output_type": "stream",
     "text": [
      "100%|██████████| 1300/1300 [02:02<00:00, 10.57it/s]\n"
     ]
    },
    {
     "name": "stdout",
     "output_type": "stream",
     "text": [
      "{'val_loss': 1.9194663030708707, 'val_accuracy': 0.6310975609756098, 'precision': 0.634517520398044, 'recall': 0.6310975609756098, 'f1-score': 0.62492046201977, 'macro_f1-score': 0.45138074226799013, 'balanced_accuracy': 0.4710789874101242, 'mcc': 0.5131388563619748, 'train_loss': 0.19679615564715977}\n",
      "Epoch 7/20\n"
     ]
    },
    {
     "name": "stderr",
     "output_type": "stream",
     "text": [
      "100%|██████████| 1300/1300 [02:02<00:00, 10.57it/s]\n"
     ]
    },
    {
     "name": "stdout",
     "output_type": "stream",
     "text": [
      "{'val_loss': 1.996730238562677, 'val_accuracy': 0.6112804878048781, 'precision': 0.6210837749218445, 'recall': 0.6112804878048781, 'f1-score': 0.6068220864232801, 'macro_f1-score': 0.4172204252500851, 'balanced_accuracy': 0.42080106959090163, 'mcc': 0.4897680410062126, 'train_loss': 0.1660521934589801}\n",
      "Epoch 8/20\n"
     ]
    },
    {
     "name": "stderr",
     "output_type": "stream",
     "text": [
      "100%|██████████| 1300/1300 [02:03<00:00, 10.55it/s]\n"
     ]
    },
    {
     "name": "stdout",
     "output_type": "stream",
     "text": [
      "{'val_loss': 2.2046426135774064, 'val_accuracy': 0.5884146341463414, 'precision': 0.6368123895355773, 'recall': 0.5884146341463414, 'f1-score': 0.5949794108254871, 'macro_f1-score': 0.4088129679108115, 'balanced_accuracy': 0.4369430628734224, 'mcc': 0.48187402088934916, 'train_loss': 0.1633063395944639}\n",
      "Epoch 9/20\n"
     ]
    },
    {
     "name": "stderr",
     "output_type": "stream",
     "text": [
      "100%|██████████| 1300/1300 [02:03<00:00, 10.57it/s]\n"
     ]
    },
    {
     "name": "stdout",
     "output_type": "stream",
     "text": [
      "{'val_loss': 2.089553168997532, 'val_accuracy': 0.5990853658536586, 'precision': 0.6262841203576518, 'recall': 0.5990853658536586, 'f1-score': 0.5991700445125618, 'macro_f1-score': 0.40167370571121924, 'balanced_accuracy': 0.41881643896521803, 'mcc': 0.47681466241986187, 'train_loss': 0.12697818481864837}\n",
      "Early stopping.\n",
      "\n",
      "[Fold 2]\n",
      "Label distribution after resampling:\n",
      "  label 0: 2000\n",
      "  label 1: 400\n",
      "  label 2: 400\n",
      "  label 3: 400\n",
      "  label 4: 400\n",
      "  label 5: 400\n",
      "  label 6: 400\n",
      "  label 7: 400\n",
      "  label 8: 400\n",
      "  label 9: 400\n",
      "  label 10: 400\n",
      "  label 11: 400\n",
      "  label 12: 400\n",
      "  label 13: 400\n",
      "  label 14: 400\n",
      "  label 15: 400\n",
      "  label 16: 400\n",
      "  label 17: 400\n",
      "  label 18: 400\n",
      "  label 19: 400\n",
      "  label 20: 400\n",
      "  label 21: 400\n",
      "  label 22: 400\n",
      "  label 23: 400\n",
      "  label 24: 400\n",
      "  label 25: 400\n",
      "  label 26: 400\n",
      "  label 27: 400\n",
      "  label 28: 400\n",
      "  label 29: 400\n",
      "  label 30: 400\n",
      "  label 31: 400\n",
      "  label 32: 400\n",
      "  label 33: 400\n",
      "  label 34: 400\n",
      "  label 35: 400\n",
      "  label 36: 400\n",
      "  label 37: 400\n",
      "  label 38: 400\n",
      "  label 39: 400\n",
      "  label 40: 400\n",
      "  label 41: 400\n",
      "  label 42: 400\n",
      "  label 43: 400\n",
      "  label 44: 400\n",
      "  label 45: 400\n",
      "  label 46: 400\n",
      "  label 47: 400\n",
      "model is roberta-base bilstm\n"
     ]
    },
    {
     "name": "stderr",
     "output_type": "stream",
     "text": [
      "Some weights of RobertaModel were not initialized from the model checkpoint at roberta-base and are newly initialized: ['pooler.dense.bias', 'pooler.dense.weight']\n",
      "You should probably TRAIN this model on a down-stream task to be able to use it for predictions and inference.\n"
     ]
    },
    {
     "name": "stdout",
     "output_type": "stream",
     "text": [
      "Epoch 1/20\n"
     ]
    },
    {
     "name": "stderr",
     "output_type": "stream",
     "text": [
      "100%|██████████| 1300/1300 [02:03<00:00, 10.56it/s]\n"
     ]
    },
    {
     "name": "stdout",
     "output_type": "stream",
     "text": [
      "{'val_loss': 1.71612809489413, 'val_accuracy': 0.5560640732265446, 'precision': 0.6208889143488012, 'recall': 0.5560640732265446, 'f1-score': 0.5699860891051607, 'macro_f1-score': 0.3589264098422089, 'balanced_accuracy': 0.43852981816696496, 'mcc': 0.4460003539295744, 'train_loss': 1.8767459933574384}\n",
      "Epoch 2/20\n"
     ]
    },
    {
     "name": "stderr",
     "output_type": "stream",
     "text": [
      "100%|██████████| 1300/1300 [02:03<00:00, 10.56it/s]\n"
     ]
    },
    {
     "name": "stdout",
     "output_type": "stream",
     "text": [
      "{'val_loss': 1.7596522569656372, 'val_accuracy': 0.5347063310450039, 'precision': 0.5835934499312484, 'recall': 0.5347063310450039, 'f1-score': 0.5298761049619604, 'macro_f1-score': 0.30602084181846817, 'balanced_accuracy': 0.34373551857146456, 'mcc': 0.4030039480900706, 'train_loss': 0.6459020224700753}\n",
      "Epoch 3/20\n"
     ]
    },
    {
     "name": "stderr",
     "output_type": "stream",
     "text": [
      "100%|██████████| 1300/1300 [02:02<00:00, 10.59it/s]\n"
     ]
    },
    {
     "name": "stdout",
     "output_type": "stream",
     "text": [
      "{'val_loss': 1.8551139766123237, 'val_accuracy': 0.5598779557589626, 'precision': 0.6203533445179109, 'recall': 0.5598779557589626, 'f1-score': 0.5715400073171584, 'macro_f1-score': 0.3548471152363542, 'balanced_accuracy': 0.40217750054604884, 'mcc': 0.45255101326972536, 'train_loss': 0.3888833298577139}\n",
      "Epoch 4/20\n"
     ]
    },
    {
     "name": "stderr",
     "output_type": "stream",
     "text": [
      "100%|██████████| 1300/1300 [02:03<00:00, 10.55it/s]\n"
     ]
    },
    {
     "name": "stdout",
     "output_type": "stream",
     "text": [
      "{'val_loss': 1.960047192689849, 'val_accuracy': 0.5499618611746758, 'precision': 0.619844766778179, 'recall': 0.5499618611746758, 'f1-score': 0.5726885296506168, 'macro_f1-score': 0.3605299220307496, 'balanced_accuracy': 0.41247594808620575, 'mcc': 0.4451410974251438, 'train_loss': 0.26222016451378855}\n",
      "Epoch 5/20\n"
     ]
    },
    {
     "name": "stderr",
     "output_type": "stream",
     "text": [
      "100%|██████████| 1300/1300 [02:03<00:00, 10.55it/s]\n"
     ]
    },
    {
     "name": "stdout",
     "output_type": "stream",
     "text": [
      "{'val_loss': 1.833134015885795, 'val_accuracy': 0.6346300533943554, 'precision': 0.628135812026294, 'recall': 0.6346300533943554, 'f1-score': 0.6233502398996724, 'macro_f1-score': 0.3812062202725077, 'balanced_accuracy': 0.39266430057607876, 'mcc': 0.5178527224470151, 'train_loss': 0.19621596535237937}\n",
      "Epoch 6/20\n"
     ]
    },
    {
     "name": "stderr",
     "output_type": "stream",
     "text": [
      "100%|██████████| 1300/1300 [02:03<00:00, 10.57it/s]\n"
     ]
    },
    {
     "name": "stdout",
     "output_type": "stream",
     "text": [
      "{'val_loss': 2.0666406750679016, 'val_accuracy': 0.5583524027459954, 'precision': 0.6364278900364165, 'recall': 0.5583524027459954, 'f1-score': 0.5820293703198677, 'macro_f1-score': 0.3952535110160844, 'balanced_accuracy': 0.4438647173303212, 'mcc': 0.4661534582605988, 'train_loss': 0.1686492462287872}\n",
      "Epoch 7/20\n"
     ]
    },
    {
     "name": "stderr",
     "output_type": "stream",
     "text": [
      "100%|██████████| 1300/1300 [02:03<00:00, 10.56it/s]\n"
     ]
    },
    {
     "name": "stdout",
     "output_type": "stream",
     "text": [
      "{'val_loss': 2.2640403182041355, 'val_accuracy': 0.5530129672006102, 'precision': 0.6230828470984325, 'recall': 0.5530129672006102, 'f1-score': 0.5719472124996591, 'macro_f1-score': 0.351738693723884, 'balanced_accuracy': 0.385582011518043, 'mcc': 0.4530786048446979, 'train_loss': 0.12884497876673076}\n",
      "Epoch 8/20\n"
     ]
    },
    {
     "name": "stderr",
     "output_type": "stream",
     "text": [
      "100%|██████████| 1300/1300 [02:03<00:00, 10.54it/s]\n"
     ]
    },
    {
     "name": "stdout",
     "output_type": "stream",
     "text": [
      "{'val_loss': 1.9886008166685336, 'val_accuracy': 0.6224256292906178, 'precision': 0.6260613984962979, 'recall': 0.6224256292906178, 'f1-score': 0.6160552490629766, 'macro_f1-score': 0.3686201364026154, 'balanced_accuracy': 0.4017936043380416, 'mcc': 0.5037549488946922, 'train_loss': 0.13482875768310176}\n",
      "Epoch 9/20\n"
     ]
    },
    {
     "name": "stderr",
     "output_type": "stream",
     "text": [
      "100%|██████████| 1300/1300 [02:03<00:00, 10.55it/s]\n"
     ]
    },
    {
     "name": "stdout",
     "output_type": "stream",
     "text": [
      "{'val_loss': 2.2001812567071215, 'val_accuracy': 0.5797101449275363, 'precision': 0.6325459196528671, 'recall': 0.5797101449275363, 'f1-score': 0.5839213637925336, 'macro_f1-score': 0.3536590596159212, 'balanced_accuracy': 0.3723007441017518, 'mcc': 0.4722222742057644, 'train_loss': 0.11640454470126245}\n",
      "Early stopping.\n",
      "\n",
      "[Fold 3]\n",
      "Label distribution after resampling:\n",
      "  label 0: 2000\n",
      "  label 1: 400\n",
      "  label 2: 400\n",
      "  label 3: 400\n",
      "  label 4: 400\n",
      "  label 5: 400\n",
      "  label 6: 400\n",
      "  label 7: 400\n",
      "  label 8: 400\n",
      "  label 9: 400\n",
      "  label 10: 400\n",
      "  label 11: 400\n",
      "  label 12: 400\n",
      "  label 13: 400\n",
      "  label 14: 400\n",
      "  label 15: 400\n",
      "  label 16: 400\n",
      "  label 17: 400\n",
      "  label 18: 400\n",
      "  label 19: 400\n",
      "  label 20: 400\n",
      "  label 21: 400\n",
      "  label 22: 400\n",
      "  label 23: 400\n",
      "  label 24: 400\n",
      "  label 25: 400\n",
      "  label 26: 400\n",
      "  label 27: 400\n",
      "  label 28: 400\n",
      "  label 29: 400\n",
      "  label 30: 400\n",
      "  label 31: 400\n",
      "  label 32: 400\n",
      "  label 33: 400\n",
      "  label 34: 400\n",
      "  label 35: 400\n",
      "  label 36: 400\n",
      "  label 37: 400\n",
      "  label 38: 400\n",
      "  label 39: 400\n",
      "  label 40: 400\n",
      "  label 41: 400\n",
      "  label 42: 400\n",
      "  label 43: 400\n",
      "  label 44: 400\n",
      "  label 45: 400\n",
      "  label 46: 400\n",
      "  label 47: 400\n",
      "model is roberta-base bilstm\n"
     ]
    },
    {
     "name": "stderr",
     "output_type": "stream",
     "text": [
      "Some weights of RobertaModel were not initialized from the model checkpoint at roberta-base and are newly initialized: ['pooler.dense.bias', 'pooler.dense.weight']\n",
      "You should probably TRAIN this model on a down-stream task to be able to use it for predictions and inference.\n"
     ]
    },
    {
     "name": "stdout",
     "output_type": "stream",
     "text": [
      "Epoch 1/20\n"
     ]
    },
    {
     "name": "stderr",
     "output_type": "stream",
     "text": [
      "100%|██████████| 1300/1300 [02:03<00:00, 10.56it/s]\n"
     ]
    },
    {
     "name": "stdout",
     "output_type": "stream",
     "text": [
      "{'val_loss': 1.9188847345549886, 'val_accuracy': 0.49046529366895497, 'precision': 0.59800310971263, 'recall': 0.49046529366895497, 'f1-score': 0.5144762948440589, 'macro_f1-score': 0.29909579229552385, 'balanced_accuracy': 0.3607604153182091, 'mcc': 0.36949611637090307, 'train_loss': 2.1392697829925096}\n",
      "Epoch 2/20\n"
     ]
    },
    {
     "name": "stderr",
     "output_type": "stream",
     "text": [
      "100%|██████████| 1300/1300 [02:03<00:00, 10.55it/s]\n"
     ]
    },
    {
     "name": "stdout",
     "output_type": "stream",
     "text": [
      "{'val_loss': 1.8334705153616464, 'val_accuracy': 0.543859649122807, 'precision': 0.6189930687820834, 'recall': 0.543859649122807, 'f1-score': 0.5650040147154362, 'macro_f1-score': 0.3403254798074551, 'balanced_accuracy': 0.3823310897964924, 'mcc': 0.4311045210336563, 'train_loss': 0.790766190978197}\n",
      "Epoch 3/20\n"
     ]
    },
    {
     "name": "stderr",
     "output_type": "stream",
     "text": [
      "100%|██████████| 1300/1300 [02:02<00:00, 10.58it/s]\n"
     ]
    },
    {
     "name": "stdout",
     "output_type": "stream",
     "text": [
      "{'val_loss': 2.112804372136186, 'val_accuracy': 0.5102974828375286, 'precision': 0.6277417209859874, 'recall': 0.5102974828375286, 'f1-score': 0.5467180192624975, 'macro_f1-score': 0.3802340045748503, 'balanced_accuracy': 0.4274493685636915, 'mcc': 0.4278513524950924, 'train_loss': 0.4321592945061051}\n",
      "Epoch 4/20\n"
     ]
    },
    {
     "name": "stderr",
     "output_type": "stream",
     "text": [
      "100%|██████████| 1300/1300 [02:03<00:00, 10.57it/s]\n"
     ]
    },
    {
     "name": "stdout",
     "output_type": "stream",
     "text": [
      "{'val_loss': 1.8025237121960012, 'val_accuracy': 0.5919145690312738, 'precision': 0.6138420623626452, 'recall': 0.5919145690312738, 'f1-score': 0.5963515900613026, 'macro_f1-score': 0.392982797099833, 'balanced_accuracy': 0.39479392956953135, 'mcc': 0.478074209116621, 'train_loss': 0.29674971348391127}\n",
      "Epoch 5/20\n"
     ]
    },
    {
     "name": "stderr",
     "output_type": "stream",
     "text": [
      "100%|██████████| 1300/1300 [02:03<00:00, 10.53it/s]\n"
     ]
    },
    {
     "name": "stdout",
     "output_type": "stream",
     "text": [
      "{'val_loss': 1.9686122671133135, 'val_accuracy': 0.5842868039664378, 'precision': 0.6260080307098367, 'recall': 0.5842868039664378, 'f1-score': 0.5983560435346994, 'macro_f1-score': 0.37364971885252746, 'balanced_accuracy': 0.3883393372246169, 'mcc': 0.47955787271614975, 'train_loss': 0.22819417806485526}\n",
      "Epoch 6/20\n"
     ]
    },
    {
     "name": "stderr",
     "output_type": "stream",
     "text": [
      "100%|██████████| 1300/1300 [02:03<00:00, 10.56it/s]\n"
     ]
    },
    {
     "name": "stdout",
     "output_type": "stream",
     "text": [
      "{'val_loss': 2.0367381768982584, 'val_accuracy': 0.5705568268497331, 'precision': 0.6120649274914712, 'recall': 0.5705568268497331, 'f1-score': 0.5768105030276792, 'macro_f1-score': 0.3750095520699423, 'balanced_accuracy': 0.4029189127329798, 'mcc': 0.4493564621207499, 'train_loss': 0.20541396227880165}\n",
      "Epoch 7/20\n"
     ]
    },
    {
     "name": "stderr",
     "output_type": "stream",
     "text": [
      "100%|██████████| 1300/1300 [02:03<00:00, 10.56it/s]\n"
     ]
    },
    {
     "name": "stdout",
     "output_type": "stream",
     "text": [
      "{'val_loss': 2.223405082051347, 'val_accuracy': 0.5423340961098398, 'precision': 0.6144406572316267, 'recall': 0.5423340961098398, 'f1-score': 0.5625951745663335, 'macro_f1-score': 0.38307138769147225, 'balanced_accuracy': 0.4102564492977445, 'mcc': 0.44991264427897115, 'train_loss': 0.20548333734775392}\n",
      "Early stopping.\n",
      "\n",
      "[Fold 4]\n",
      "Label distribution after resampling:\n",
      "  label 0: 2000\n",
      "  label 1: 400\n",
      "  label 2: 400\n",
      "  label 3: 400\n",
      "  label 4: 400\n",
      "  label 5: 400\n",
      "  label 6: 400\n",
      "  label 7: 400\n",
      "  label 8: 400\n",
      "  label 9: 400\n",
      "  label 10: 400\n",
      "  label 11: 400\n",
      "  label 12: 400\n",
      "  label 13: 400\n",
      "  label 14: 400\n",
      "  label 15: 400\n",
      "  label 16: 400\n",
      "  label 17: 400\n",
      "  label 18: 400\n",
      "  label 19: 400\n",
      "  label 20: 400\n",
      "  label 21: 400\n",
      "  label 22: 400\n",
      "  label 23: 400\n",
      "  label 24: 400\n",
      "  label 25: 400\n",
      "  label 26: 400\n",
      "  label 27: 400\n",
      "  label 28: 400\n",
      "  label 29: 400\n",
      "  label 30: 400\n",
      "  label 31: 400\n",
      "  label 32: 400\n",
      "  label 33: 400\n",
      "  label 34: 400\n",
      "  label 35: 400\n",
      "  label 36: 400\n",
      "  label 37: 400\n",
      "  label 38: 400\n",
      "  label 39: 400\n",
      "  label 40: 400\n",
      "  label 41: 400\n",
      "  label 42: 400\n",
      "  label 43: 400\n",
      "  label 44: 400\n",
      "  label 45: 400\n",
      "  label 46: 400\n",
      "  label 47: 400\n",
      "model is roberta-base bilstm\n"
     ]
    },
    {
     "name": "stderr",
     "output_type": "stream",
     "text": [
      "Some weights of RobertaModel were not initialized from the model checkpoint at roberta-base and are newly initialized: ['pooler.dense.bias', 'pooler.dense.weight']\n",
      "You should probably TRAIN this model on a down-stream task to be able to use it for predictions and inference.\n"
     ]
    },
    {
     "name": "stdout",
     "output_type": "stream",
     "text": [
      "Epoch 1/20\n"
     ]
    },
    {
     "name": "stderr",
     "output_type": "stream",
     "text": [
      "100%|██████████| 1300/1300 [02:02<00:00, 10.57it/s]\n"
     ]
    },
    {
     "name": "stdout",
     "output_type": "stream",
     "text": [
      "{'val_loss': 1.5612885937458132, 'val_accuracy': 0.585812356979405, 'precision': 0.6189494267038508, 'recall': 0.585812356979405, 'f1-score': 0.5876099442951178, 'macro_f1-score': 0.353244852622872, 'balanced_accuracy': 0.4087428153056212, 'mcc': 0.46975412599868416, 'train_loss': 1.9077907440295587}\n",
      "Epoch 2/20\n"
     ]
    },
    {
     "name": "stderr",
     "output_type": "stream",
     "text": [
      "100%|██████████| 1300/1300 [02:02<00:00, 10.57it/s]\n"
     ]
    },
    {
     "name": "stdout",
     "output_type": "stream",
     "text": [
      "{'val_loss': 1.7816633073295034, 'val_accuracy': 0.5530129672006102, 'precision': 0.6417042084010943, 'recall': 0.5530129672006102, 'f1-score': 0.5719052783333104, 'macro_f1-score': 0.37398180974508577, 'balanced_accuracy': 0.44035502095123125, 'mcc': 0.47202932031966915, 'train_loss': 0.6772295380154482}\n",
      "Epoch 3/20\n"
     ]
    },
    {
     "name": "stderr",
     "output_type": "stream",
     "text": [
      "100%|██████████| 1300/1300 [02:03<00:00, 10.55it/s]\n"
     ]
    },
    {
     "name": "stdout",
     "output_type": "stream",
     "text": [
      "{'val_loss': 1.7289876107399056, 'val_accuracy': 0.6025934401220442, 'precision': 0.6586472787269815, 'recall': 0.6025934401220442, 'f1-score': 0.6177436741692892, 'macro_f1-score': 0.41399865053454726, 'balanced_accuracy': 0.4700056721496583, 'mcc': 0.5085603540669604, 'train_loss': 0.4043977061343881}\n",
      "Epoch 4/20\n"
     ]
    },
    {
     "name": "stderr",
     "output_type": "stream",
     "text": [
      "100%|██████████| 1300/1300 [02:03<00:00, 10.56it/s]\n"
     ]
    },
    {
     "name": "stdout",
     "output_type": "stream",
     "text": [
      "{'val_loss': 1.8116831078035076, 'val_accuracy': 0.5881006864988558, 'precision': 0.6413537592244408, 'recall': 0.5881006864988558, 'f1-score': 0.6024721361953634, 'macro_f1-score': 0.4042431534623698, 'balanced_accuracy': 0.43095131462965414, 'mcc': 0.4896850916963312, 'train_loss': 0.2420753132680861}\n",
      "Epoch 5/20\n"
     ]
    },
    {
     "name": "stderr",
     "output_type": "stream",
     "text": [
      "100%|██████████| 1300/1300 [02:03<00:00, 10.56it/s]\n"
     ]
    },
    {
     "name": "stdout",
     "output_type": "stream",
     "text": [
      "{'val_loss': 1.8757815533658353, 'val_accuracy': 0.6071700991609459, 'precision': 0.6340113368579636, 'recall': 0.6071700991609459, 'f1-score': 0.6071311651347086, 'macro_f1-score': 0.38950108073581197, 'balanced_accuracy': 0.4184813737139417, 'mcc': 0.5011901074507247, 'train_loss': 0.2050566311789533}\n",
      "Epoch 6/20\n"
     ]
    },
    {
     "name": "stderr",
     "output_type": "stream",
     "text": [
      "100%|██████████| 1300/1300 [02:03<00:00, 10.55it/s]\n"
     ]
    },
    {
     "name": "stdout",
     "output_type": "stream",
     "text": [
      "{'val_loss': 1.8326540483934124, 'val_accuracy': 0.6270022883295194, 'precision': 0.6516904408667585, 'recall': 0.6270022883295194, 'f1-score': 0.6273135163210192, 'macro_f1-score': 0.38898746246782306, 'balanced_accuracy': 0.3848891651535455, 'mcc': 0.5129078788339769, 'train_loss': 0.1638459384212127}\n",
      "Early stopping.\n",
      "\n",
      "[Fold 5]\n",
      "Label distribution after resampling:\n",
      "  label 0: 2000\n",
      "  label 1: 400\n",
      "  label 2: 400\n",
      "  label 3: 400\n",
      "  label 4: 400\n",
      "  label 5: 400\n",
      "  label 6: 400\n",
      "  label 7: 400\n",
      "  label 8: 400\n",
      "  label 9: 400\n",
      "  label 10: 400\n",
      "  label 11: 400\n",
      "  label 12: 400\n",
      "  label 13: 400\n",
      "  label 14: 400\n",
      "  label 15: 400\n",
      "  label 16: 400\n",
      "  label 17: 400\n",
      "  label 18: 400\n",
      "  label 19: 400\n",
      "  label 20: 400\n",
      "  label 21: 400\n",
      "  label 22: 400\n",
      "  label 23: 400\n",
      "  label 24: 400\n",
      "  label 25: 400\n",
      "  label 26: 400\n",
      "  label 27: 400\n",
      "  label 28: 400\n",
      "  label 29: 400\n",
      "  label 30: 400\n",
      "  label 31: 400\n",
      "  label 32: 400\n",
      "  label 33: 400\n",
      "  label 34: 400\n",
      "  label 35: 400\n",
      "  label 36: 400\n",
      "  label 37: 400\n",
      "  label 38: 400\n",
      "  label 39: 400\n",
      "  label 40: 400\n",
      "  label 41: 400\n",
      "  label 42: 400\n",
      "  label 43: 400\n",
      "  label 44: 400\n",
      "  label 45: 400\n",
      "  label 46: 400\n",
      "  label 47: 400\n",
      "model is roberta-base bilstm\n"
     ]
    },
    {
     "name": "stderr",
     "output_type": "stream",
     "text": [
      "Some weights of RobertaModel were not initialized from the model checkpoint at roberta-base and are newly initialized: ['pooler.dense.bias', 'pooler.dense.weight']\n",
      "You should probably TRAIN this model on a down-stream task to be able to use it for predictions and inference.\n"
     ]
    },
    {
     "name": "stdout",
     "output_type": "stream",
     "text": [
      "Epoch 1/20\n"
     ]
    },
    {
     "name": "stderr",
     "output_type": "stream",
     "text": [
      "100%|██████████| 1300/1300 [02:02<00:00, 10.58it/s]\n"
     ]
    },
    {
     "name": "stdout",
     "output_type": "stream",
     "text": [
      "{'val_loss': 1.7453078620317506, 'val_accuracy': 0.501906941266209, 'precision': 0.6109486524307497, 'recall': 0.501906941266209, 'f1-score': 0.5294094750056746, 'macro_f1-score': 0.33764114282345536, 'balanced_accuracy': 0.4228966179619138, 'mcc': 0.403796292604309, 'train_loss': 2.086734557358118}\n",
      "Epoch 2/20\n"
     ]
    },
    {
     "name": "stderr",
     "output_type": "stream",
     "text": [
      "100%|██████████| 1300/1300 [02:03<00:00, 10.56it/s]\n"
     ]
    },
    {
     "name": "stdout",
     "output_type": "stream",
     "text": [
      "{'val_loss': 1.7142905520229805, 'val_accuracy': 0.5453852021357742, 'precision': 0.630865311917162, 'recall': 0.5453852021357742, 'f1-score': 0.5705464576677635, 'macro_f1-score': 0.37464817482196655, 'balanced_accuracy': 0.4333791176445332, 'mcc': 0.454723843464289, 'train_loss': 0.717978308619215}\n",
      "Epoch 3/20\n"
     ]
    },
    {
     "name": "stderr",
     "output_type": "stream",
     "text": [
      "100%|██████████| 1300/1300 [02:03<00:00, 10.56it/s]\n"
     ]
    },
    {
     "name": "stdout",
     "output_type": "stream",
     "text": [
      "{'val_loss': 1.6950662234207479, 'val_accuracy': 0.5926773455377574, 'precision': 0.6316240911967835, 'recall': 0.5926773455377574, 'f1-score': 0.6051019891304493, 'macro_f1-score': 0.42036808860246017, 'balanced_accuracy': 0.4448196674908755, 'mcc': 0.4895901475287728, 'train_loss': 0.40253270894289017}\n",
      "Epoch 4/20\n"
     ]
    },
    {
     "name": "stderr",
     "output_type": "stream",
     "text": [
      "100%|██████████| 1300/1300 [02:03<00:00, 10.56it/s]\n"
     ]
    },
    {
     "name": "stdout",
     "output_type": "stream",
     "text": [
      "{'val_loss': 1.8480192655470313, 'val_accuracy': 0.5873379099923722, 'precision': 0.6293229269199497, 'recall': 0.5873379099923722, 'f1-score': 0.5944695094705106, 'macro_f1-score': 0.38667154407261917, 'balanced_accuracy': 0.3956716728058651, 'mcc': 0.47748911451820447, 'train_loss': 0.2727739258038883}\n",
      "Epoch 5/20\n"
     ]
    },
    {
     "name": "stderr",
     "output_type": "stream",
     "text": [
      "100%|██████████| 1300/1300 [02:02<00:00, 10.57it/s]\n"
     ]
    },
    {
     "name": "stdout",
     "output_type": "stream",
     "text": [
      "{'val_loss': 1.944887820540405, 'val_accuracy': 0.5888634630053394, 'precision': 0.6329656871095419, 'recall': 0.5888634630053394, 'f1-score': 0.5980544391860947, 'macro_f1-score': 0.3988226511320216, 'balanced_accuracy': 0.43064128379585914, 'mcc': 0.48896602339054085, 'train_loss': 0.21253909192764414}\n",
      "Epoch 6/20\n"
     ]
    },
    {
     "name": "stderr",
     "output_type": "stream",
     "text": [
      "100%|██████████| 1300/1300 [02:03<00:00, 10.56it/s]\n"
     ]
    },
    {
     "name": "stdout",
     "output_type": "stream",
     "text": [
      "{'val_loss': 1.9278180744589828, 'val_accuracy': 0.6254767353165522, 'precision': 0.6230974647266614, 'recall': 0.6254767353165522, 'f1-score': 0.6152131709003963, 'macro_f1-score': 0.41587928425172943, 'balanced_accuracy': 0.41415082318876745, 'mcc': 0.5066711094189033, 'train_loss': 0.1667577262323063}\n",
      "Early stopping.\n",
      "\n",
      " === roberta-base + bilstm + ros Final 5-fold Cross-Validation Results ===\n",
      "val_loss: 1.8425\n",
      "val_accuracy: 0.5953\n",
      "precision: 0.6350\n",
      "recall: 0.5953\n",
      "f1-score: 0.6052\n",
      "macro_f1-score: 0.4148\n",
      "balanced_accuracy: 0.4449\n",
      "mcc: 0.4911\n",
      "train_loss: 0.2938\n",
      "total_seconds: 4673.0000\n",
      "total_time: 1 hrs 17 mins 53 secs\n",
      "▶ Running: microsoft/deberta-base + plain + ros\n",
      "tokenizer is microsoft/deberta-base\n",
      "Using device: cuda\n",
      "CUDA Available: True\n",
      "CUDA Device: NVIDIA GeForce RTX 5070 Ti\n",
      "Current GPU Memory Allocated: 0.02 GB\n",
      "Current GPU Memory Cached: 3.91 GB\n",
      "\n",
      "[Fold 1]\n",
      "Label distribution after resampling:\n",
      "  label 0: 2000\n",
      "  label 1: 400\n",
      "  label 2: 400\n",
      "  label 3: 400\n",
      "  label 4: 400\n",
      "  label 5: 400\n",
      "  label 6: 400\n",
      "  label 7: 400\n",
      "  label 8: 400\n",
      "  label 9: 400\n",
      "  label 10: 400\n",
      "  label 11: 400\n",
      "  label 12: 400\n",
      "  label 13: 400\n",
      "  label 14: 400\n",
      "  label 15: 400\n",
      "  label 16: 400\n",
      "  label 17: 400\n",
      "  label 18: 400\n",
      "  label 19: 400\n",
      "  label 20: 400\n",
      "  label 21: 400\n",
      "  label 22: 400\n",
      "  label 23: 400\n",
      "  label 24: 400\n",
      "  label 25: 400\n",
      "  label 26: 400\n",
      "  label 27: 400\n",
      "  label 28: 400\n",
      "  label 29: 400\n",
      "  label 30: 400\n",
      "  label 31: 400\n",
      "  label 32: 400\n",
      "  label 33: 400\n",
      "  label 34: 400\n",
      "  label 35: 400\n",
      "  label 36: 400\n",
      "  label 37: 400\n",
      "  label 38: 400\n",
      "  label 39: 400\n",
      "  label 40: 400\n",
      "  label 41: 400\n",
      "  label 42: 400\n",
      "  label 43: 400\n",
      "  label 44: 400\n",
      "  label 45: 400\n",
      "  label 46: 400\n",
      "  label 47: 400\n",
      "model is microsoft/deberta-base\n"
     ]
    },
    {
     "name": "stderr",
     "output_type": "stream",
     "text": [
      "Some weights of DebertaForSequenceClassification were not initialized from the model checkpoint at microsoft/deberta-base and are newly initialized: ['classifier.bias', 'classifier.weight', 'pooler.dense.bias', 'pooler.dense.weight']\n",
      "You should probably TRAIN this model on a down-stream task to be able to use it for predictions and inference.\n"
     ]
    },
    {
     "name": "stdout",
     "output_type": "stream",
     "text": [
      "Epoch 1/20\n"
     ]
    },
    {
     "name": "stderr",
     "output_type": "stream",
     "text": [
      "100%|██████████| 1300/1300 [02:13<00:00,  9.75it/s]\n"
     ]
    },
    {
     "name": "stdout",
     "output_type": "stream",
     "text": [
      "{'val_loss': 2.9908172197458223, 'val_accuracy': 0.47103658536585363, 'precision': 0.22187546475312311, 'recall': 0.47103658536585363, 'f1-score': 0.3016586629596866, 'macro_f1-score': 0.013341968911917098, 'balanced_accuracy': 0.020833333333333332, 'mcc': 0.0, 'train_loss': 3.7983930719815766}\n",
      "Epoch 2/20\n"
     ]
    },
    {
     "name": "stderr",
     "output_type": "stream",
     "text": [
      "100%|██████████| 1300/1300 [02:12<00:00,  9.81it/s]\n"
     ]
    },
    {
     "name": "stdout",
     "output_type": "stream",
     "text": [
      "{'val_loss': 3.1069433383825347, 'val_accuracy': 0.47103658536585363, 'precision': 0.22187546475312311, 'recall': 0.47103658536585363, 'f1-score': 0.3016586629596866, 'macro_f1-score': 0.013341968911917098, 'balanced_accuracy': 0.020833333333333332, 'mcc': 0.0, 'train_loss': 3.709641558940594}\n",
      "Epoch 3/20\n"
     ]
    },
    {
     "name": "stderr",
     "output_type": "stream",
     "text": [
      "100%|██████████| 1300/1300 [02:12<00:00,  9.81it/s]\n"
     ]
    },
    {
     "name": "stdout",
     "output_type": "stream",
     "text": [
      "{'val_loss': 3.21203144585214, 'val_accuracy': 0.47103658536585363, 'precision': 0.22187546475312311, 'recall': 0.47103658536585363, 'f1-score': 0.3016586629596866, 'macro_f1-score': 0.013341968911917098, 'balanced_accuracy': 0.020833333333333332, 'mcc': 0.0, 'train_loss': 3.7543111062049865}\n",
      "Epoch 4/20\n"
     ]
    },
    {
     "name": "stderr",
     "output_type": "stream",
     "text": [
      "100%|██████████| 1300/1300 [02:12<00:00,  9.81it/s]\n"
     ]
    },
    {
     "name": "stdout",
     "output_type": "stream",
     "text": [
      "{'val_loss': 3.2364392222427742, 'val_accuracy': 0.47103658536585363, 'precision': 0.22187546475312311, 'recall': 0.47103658536585363, 'f1-score': 0.3016586629596866, 'macro_f1-score': 0.013341968911917098, 'balanced_accuracy': 0.020833333333333332, 'mcc': 0.0, 'train_loss': 3.803009294913365}\n",
      "Early stopping.\n",
      "\n",
      "[Fold 2]\n",
      "Label distribution after resampling:\n",
      "  label 0: 2000\n",
      "  label 1: 400\n",
      "  label 2: 400\n",
      "  label 3: 400\n",
      "  label 4: 400\n",
      "  label 5: 400\n",
      "  label 6: 400\n",
      "  label 7: 400\n",
      "  label 8: 400\n",
      "  label 9: 400\n",
      "  label 10: 400\n",
      "  label 11: 400\n",
      "  label 12: 400\n",
      "  label 13: 400\n",
      "  label 14: 400\n",
      "  label 15: 400\n",
      "  label 16: 400\n",
      "  label 17: 400\n",
      "  label 18: 400\n",
      "  label 19: 400\n",
      "  label 20: 400\n",
      "  label 21: 400\n",
      "  label 22: 400\n",
      "  label 23: 400\n",
      "  label 24: 400\n",
      "  label 25: 400\n",
      "  label 26: 400\n",
      "  label 27: 400\n",
      "  label 28: 400\n",
      "  label 29: 400\n",
      "  label 30: 400\n",
      "  label 31: 400\n",
      "  label 32: 400\n",
      "  label 33: 400\n",
      "  label 34: 400\n",
      "  label 35: 400\n",
      "  label 36: 400\n",
      "  label 37: 400\n",
      "  label 38: 400\n",
      "  label 39: 400\n",
      "  label 40: 400\n",
      "  label 41: 400\n",
      "  label 42: 400\n",
      "  label 43: 400\n",
      "  label 44: 400\n",
      "  label 45: 400\n",
      "  label 46: 400\n",
      "  label 47: 400\n",
      "model is microsoft/deberta-base\n"
     ]
    },
    {
     "name": "stderr",
     "output_type": "stream",
     "text": [
      "Some weights of DebertaForSequenceClassification were not initialized from the model checkpoint at microsoft/deberta-base and are newly initialized: ['classifier.bias', 'classifier.weight', 'pooler.dense.bias', 'pooler.dense.weight']\n",
      "You should probably TRAIN this model on a down-stream task to be able to use it for predictions and inference.\n"
     ]
    },
    {
     "name": "stdout",
     "output_type": "stream",
     "text": [
      "Epoch 1/20\n"
     ]
    },
    {
     "name": "stderr",
     "output_type": "stream",
     "text": [
      "100%|██████████| 1300/1300 [02:12<00:00,  9.81it/s]\n"
     ]
    },
    {
     "name": "stdout",
     "output_type": "stream",
     "text": [
      "{'val_loss': 3.200848483457798, 'val_accuracy': 0.47139588100686497, 'precision': 0.2222140766302384, 'recall': 0.47139588100686497, 'f1-score': 0.302045261236125, 'macro_f1-score': 0.01334888543286677, 'balanced_accuracy': 0.020833333333333332, 'mcc': 0.0, 'train_loss': 3.808206073504228}\n",
      "Epoch 2/20\n"
     ]
    },
    {
     "name": "stderr",
     "output_type": "stream",
     "text": [
      "100%|██████████| 1300/1300 [02:12<00:00,  9.82it/s]\n"
     ]
    },
    {
     "name": "stdout",
     "output_type": "stream",
     "text": [
      "{'val_loss': 3.0003450876329003, 'val_accuracy': 0.47139588100686497, 'precision': 0.2222140766302384, 'recall': 0.47139588100686497, 'f1-score': 0.302045261236125, 'macro_f1-score': 0.01334888543286677, 'balanced_accuracy': 0.020833333333333332, 'mcc': 0.0, 'train_loss': 3.783084181822263}\n",
      "Epoch 3/20\n"
     ]
    },
    {
     "name": "stderr",
     "output_type": "stream",
     "text": [
      "100%|██████████| 1300/1300 [02:12<00:00,  9.82it/s]\n"
     ]
    },
    {
     "name": "stdout",
     "output_type": "stream",
     "text": [
      "{'val_loss': 3.0625559004341683, 'val_accuracy': 0.47139588100686497, 'precision': 0.2222140766302384, 'recall': 0.47139588100686497, 'f1-score': 0.302045261236125, 'macro_f1-score': 0.01334888543286677, 'balanced_accuracy': 0.020833333333333332, 'mcc': 0.0, 'train_loss': 3.731072069865007}\n",
      "Epoch 4/20\n"
     ]
    },
    {
     "name": "stderr",
     "output_type": "stream",
     "text": [
      "100%|██████████| 1300/1300 [02:12<00:00,  9.81it/s]\n"
     ]
    },
    {
     "name": "stdout",
     "output_type": "stream",
     "text": [
      "{'val_loss': 3.0275486475083886, 'val_accuracy': 0.47139588100686497, 'precision': 0.2222140766302384, 'recall': 0.47139588100686497, 'f1-score': 0.302045261236125, 'macro_f1-score': 0.01334888543286677, 'balanced_accuracy': 0.020833333333333332, 'mcc': 0.0, 'train_loss': 3.699111071549929}\n",
      "Early stopping.\n",
      "\n",
      "[Fold 3]\n",
      "Label distribution after resampling:\n",
      "  label 0: 2000\n",
      "  label 1: 400\n",
      "  label 2: 400\n",
      "  label 3: 400\n",
      "  label 4: 400\n",
      "  label 5: 400\n",
      "  label 6: 400\n",
      "  label 7: 400\n",
      "  label 8: 400\n",
      "  label 9: 400\n",
      "  label 10: 400\n",
      "  label 11: 400\n",
      "  label 12: 400\n",
      "  label 13: 400\n",
      "  label 14: 400\n",
      "  label 15: 400\n",
      "  label 16: 400\n",
      "  label 17: 400\n",
      "  label 18: 400\n",
      "  label 19: 400\n",
      "  label 20: 400\n",
      "  label 21: 400\n",
      "  label 22: 400\n",
      "  label 23: 400\n",
      "  label 24: 400\n",
      "  label 25: 400\n",
      "  label 26: 400\n",
      "  label 27: 400\n",
      "  label 28: 400\n",
      "  label 29: 400\n",
      "  label 30: 400\n",
      "  label 31: 400\n",
      "  label 32: 400\n",
      "  label 33: 400\n",
      "  label 34: 400\n",
      "  label 35: 400\n",
      "  label 36: 400\n",
      "  label 37: 400\n",
      "  label 38: 400\n",
      "  label 39: 400\n",
      "  label 40: 400\n",
      "  label 41: 400\n",
      "  label 42: 400\n",
      "  label 43: 400\n",
      "  label 44: 400\n",
      "  label 45: 400\n",
      "  label 46: 400\n",
      "  label 47: 400\n",
      "model is microsoft/deberta-base\n"
     ]
    },
    {
     "name": "stderr",
     "output_type": "stream",
     "text": [
      "Some weights of DebertaForSequenceClassification were not initialized from the model checkpoint at microsoft/deberta-base and are newly initialized: ['classifier.bias', 'classifier.weight', 'pooler.dense.bias', 'pooler.dense.weight']\n",
      "You should probably TRAIN this model on a down-stream task to be able to use it for predictions and inference.\n"
     ]
    },
    {
     "name": "stdout",
     "output_type": "stream",
     "text": [
      "Epoch 1/20\n"
     ]
    },
    {
     "name": "stderr",
     "output_type": "stream",
     "text": [
      "100%|██████████| 1300/1300 [02:12<00:00,  9.81it/s]\n"
     ]
    },
    {
     "name": "stdout",
     "output_type": "stream",
     "text": [
      "{'val_loss': 3.127324816657276, 'val_accuracy': 0.47139588100686497, 'precision': 0.2222140766302384, 'recall': 0.47139588100686497, 'f1-score': 0.302045261236125, 'macro_f1-score': 0.01334888543286677, 'balanced_accuracy': 0.020833333333333332, 'mcc': 0.0, 'train_loss': 3.8067932260953463}\n",
      "Epoch 2/20\n"
     ]
    },
    {
     "name": "stderr",
     "output_type": "stream",
     "text": [
      "100%|██████████| 1300/1300 [02:12<00:00,  9.81it/s]\n"
     ]
    },
    {
     "name": "stdout",
     "output_type": "stream",
     "text": [
      "{'val_loss': 3.0429958861048627, 'val_accuracy': 0.47139588100686497, 'precision': 0.2222140766302384, 'recall': 0.47139588100686497, 'f1-score': 0.302045261236125, 'macro_f1-score': 0.01334888543286677, 'balanced_accuracy': 0.020833333333333332, 'mcc': 0.0, 'train_loss': 3.749313674890078}\n",
      "Epoch 3/20\n"
     ]
    },
    {
     "name": "stderr",
     "output_type": "stream",
     "text": [
      "100%|██████████| 1300/1300 [02:12<00:00,  9.81it/s]\n"
     ]
    },
    {
     "name": "stdout",
     "output_type": "stream",
     "text": [
      "{'val_loss': 3.3597348608621735, 'val_accuracy': 0.47139588100686497, 'precision': 0.2222140766302384, 'recall': 0.47139588100686497, 'f1-score': 0.302045261236125, 'macro_f1-score': 0.01334888543286677, 'balanced_accuracy': 0.020833333333333332, 'mcc': 0.0, 'train_loss': 3.6889536589842575}\n",
      "Epoch 4/20\n"
     ]
    },
    {
     "name": "stderr",
     "output_type": "stream",
     "text": [
      "100%|██████████| 1300/1300 [02:12<00:00,  9.81it/s]\n"
     ]
    },
    {
     "name": "stdout",
     "output_type": "stream",
     "text": [
      "{'val_loss': 3.1567538220707965, 'val_accuracy': 0.47139588100686497, 'precision': 0.2222140766302384, 'recall': 0.47139588100686497, 'f1-score': 0.302045261236125, 'macro_f1-score': 0.01334888543286677, 'balanced_accuracy': 0.020833333333333332, 'mcc': 0.0, 'train_loss': 3.65753358070667}\n",
      "Early stopping.\n",
      "\n",
      "[Fold 4]\n",
      "Label distribution after resampling:\n",
      "  label 0: 2000\n",
      "  label 1: 400\n",
      "  label 2: 400\n",
      "  label 3: 400\n",
      "  label 4: 400\n",
      "  label 5: 400\n",
      "  label 6: 400\n",
      "  label 7: 400\n",
      "  label 8: 400\n",
      "  label 9: 400\n",
      "  label 10: 400\n",
      "  label 11: 400\n",
      "  label 12: 400\n",
      "  label 13: 400\n",
      "  label 14: 400\n",
      "  label 15: 400\n",
      "  label 16: 400\n",
      "  label 17: 400\n",
      "  label 18: 400\n",
      "  label 19: 400\n",
      "  label 20: 400\n",
      "  label 21: 400\n",
      "  label 22: 400\n",
      "  label 23: 400\n",
      "  label 24: 400\n",
      "  label 25: 400\n",
      "  label 26: 400\n",
      "  label 27: 400\n",
      "  label 28: 400\n",
      "  label 29: 400\n",
      "  label 30: 400\n",
      "  label 31: 400\n",
      "  label 32: 400\n",
      "  label 33: 400\n",
      "  label 34: 400\n",
      "  label 35: 400\n",
      "  label 36: 400\n",
      "  label 37: 400\n",
      "  label 38: 400\n",
      "  label 39: 400\n",
      "  label 40: 400\n",
      "  label 41: 400\n",
      "  label 42: 400\n",
      "  label 43: 400\n",
      "  label 44: 400\n",
      "  label 45: 400\n",
      "  label 46: 400\n",
      "  label 47: 400\n",
      "model is microsoft/deberta-base\n"
     ]
    },
    {
     "name": "stderr",
     "output_type": "stream",
     "text": [
      "Some weights of DebertaForSequenceClassification were not initialized from the model checkpoint at microsoft/deberta-base and are newly initialized: ['classifier.bias', 'classifier.weight', 'pooler.dense.bias', 'pooler.dense.weight']\n",
      "You should probably TRAIN this model on a down-stream task to be able to use it for predictions and inference.\n"
     ]
    },
    {
     "name": "stdout",
     "output_type": "stream",
     "text": [
      "Epoch 1/20\n"
     ]
    },
    {
     "name": "stderr",
     "output_type": "stream",
     "text": [
      "100%|██████████| 1300/1300 [02:12<00:00,  9.81it/s]\n"
     ]
    },
    {
     "name": "stdout",
     "output_type": "stream",
     "text": [
      "{'val_loss': 3.2441100957917004, 'val_accuracy': 0.47139588100686497, 'precision': 0.2222140766302384, 'recall': 0.47139588100686497, 'f1-score': 0.302045261236125, 'macro_f1-score': 0.01334888543286677, 'balanced_accuracy': 0.020833333333333332, 'mcc': 0.0, 'train_loss': 3.8072598107044513}\n",
      "Epoch 2/20\n"
     ]
    },
    {
     "name": "stderr",
     "output_type": "stream",
     "text": [
      "100%|██████████| 1300/1300 [02:12<00:00,  9.81it/s]\n"
     ]
    },
    {
     "name": "stdout",
     "output_type": "stream",
     "text": [
      "{'val_loss': 3.240972597424577, 'val_accuracy': 0.47139588100686497, 'precision': 0.2222140766302384, 'recall': 0.47139588100686497, 'f1-score': 0.302045261236125, 'macro_f1-score': 0.01334888543286677, 'balanced_accuracy': 0.020833333333333332, 'mcc': 0.0, 'train_loss': 3.7969048386353714}\n",
      "Epoch 3/20\n"
     ]
    },
    {
     "name": "stderr",
     "output_type": "stream",
     "text": [
      "100%|██████████| 1300/1300 [02:12<00:00,  9.82it/s]\n"
     ]
    },
    {
     "name": "stdout",
     "output_type": "stream",
     "text": [
      "{'val_loss': 3.1395497002252717, 'val_accuracy': 0.47139588100686497, 'precision': 0.2222140766302384, 'recall': 0.47139588100686497, 'f1-score': 0.302045261236125, 'macro_f1-score': 0.01334888543286677, 'balanced_accuracy': 0.020833333333333332, 'mcc': 0.0, 'train_loss': 3.802711815283849}\n",
      "Epoch 4/20\n"
     ]
    },
    {
     "name": "stderr",
     "output_type": "stream",
     "text": [
      "100%|██████████| 1300/1300 [02:12<00:00,  9.81it/s]\n"
     ]
    },
    {
     "name": "stdout",
     "output_type": "stream",
     "text": [
      "{'val_loss': 3.1651456152520527, 'val_accuracy': 0.47139588100686497, 'precision': 0.2222140766302384, 'recall': 0.47139588100686497, 'f1-score': 0.302045261236125, 'macro_f1-score': 0.01334888543286677, 'balanced_accuracy': 0.020833333333333332, 'mcc': 0.0, 'train_loss': 3.8022847393842842}\n",
      "Early stopping.\n",
      "\n",
      "[Fold 5]\n",
      "Label distribution after resampling:\n",
      "  label 0: 2000\n",
      "  label 1: 400\n",
      "  label 2: 400\n",
      "  label 3: 400\n",
      "  label 4: 400\n",
      "  label 5: 400\n",
      "  label 6: 400\n",
      "  label 7: 400\n",
      "  label 8: 400\n",
      "  label 9: 400\n",
      "  label 10: 400\n",
      "  label 11: 400\n",
      "  label 12: 400\n",
      "  label 13: 400\n",
      "  label 14: 400\n",
      "  label 15: 400\n",
      "  label 16: 400\n",
      "  label 17: 400\n",
      "  label 18: 400\n",
      "  label 19: 400\n",
      "  label 20: 400\n",
      "  label 21: 400\n",
      "  label 22: 400\n",
      "  label 23: 400\n",
      "  label 24: 400\n",
      "  label 25: 400\n",
      "  label 26: 400\n",
      "  label 27: 400\n",
      "  label 28: 400\n",
      "  label 29: 400\n",
      "  label 30: 400\n",
      "  label 31: 400\n",
      "  label 32: 400\n",
      "  label 33: 400\n",
      "  label 34: 400\n",
      "  label 35: 400\n",
      "  label 36: 400\n",
      "  label 37: 400\n",
      "  label 38: 400\n",
      "  label 39: 400\n",
      "  label 40: 400\n",
      "  label 41: 400\n",
      "  label 42: 400\n",
      "  label 43: 400\n",
      "  label 44: 400\n",
      "  label 45: 400\n",
      "  label 46: 400\n",
      "  label 47: 400\n",
      "model is microsoft/deberta-base\n"
     ]
    },
    {
     "name": "stderr",
     "output_type": "stream",
     "text": [
      "Some weights of DebertaForSequenceClassification were not initialized from the model checkpoint at microsoft/deberta-base and are newly initialized: ['classifier.bias', 'classifier.weight', 'pooler.dense.bias', 'pooler.dense.weight']\n",
      "You should probably TRAIN this model on a down-stream task to be able to use it for predictions and inference.\n"
     ]
    },
    {
     "name": "stdout",
     "output_type": "stream",
     "text": [
      "Epoch 1/20\n"
     ]
    },
    {
     "name": "stderr",
     "output_type": "stream",
     "text": [
      "100%|██████████| 1300/1300 [02:12<00:00,  9.80it/s]\n"
     ]
    },
    {
     "name": "stdout",
     "output_type": "stream",
     "text": [
      "{'val_loss': 1.9081415141501077, 'val_accuracy': 0.4965675057208238, 'precision': 0.629337219015335, 'recall': 0.4965675057208238, 'f1-score': 0.5337638769704008, 'macro_f1-score': 0.3487128088429196, 'balanced_accuracy': 0.4093794464142064, 'mcc': 0.4111601274528093, 'train_loss': 1.5431433753726573}\n",
      "Epoch 2/20\n"
     ]
    },
    {
     "name": "stderr",
     "output_type": "stream",
     "text": [
      "100%|██████████| 1300/1300 [02:12<00:00,  9.80it/s]\n"
     ]
    },
    {
     "name": "stdout",
     "output_type": "stream",
     "text": [
      "{'val_loss': 1.715700353791074, 'val_accuracy': 0.6178489702517163, 'precision': 0.6311871201417242, 'recall': 0.6178489702517163, 'f1-score': 0.6086453240990598, 'macro_f1-score': 0.359583425437442, 'balanced_accuracy': 0.3738995212136947, 'mcc': 0.506101722475336, 'train_loss': 0.372396974059968}\n",
      "Epoch 3/20\n"
     ]
    },
    {
     "name": "stderr",
     "output_type": "stream",
     "text": [
      "100%|██████████| 1300/1300 [02:12<00:00,  9.82it/s]\n"
     ]
    },
    {
     "name": "stdout",
     "output_type": "stream",
     "text": [
      "{'val_loss': 1.9775512040388294, 'val_accuracy': 0.6254767353165522, 'precision': 0.6078728809235168, 'recall': 0.6254767353165522, 'f1-score': 0.6069192795263468, 'macro_f1-score': 0.3886217649756296, 'balanced_accuracy': 0.3727195646563987, 'mcc': 0.49804426824943454, 'train_loss': 0.1386286355730576}\n",
      "Epoch 4/20\n"
     ]
    },
    {
     "name": "stderr",
     "output_type": "stream",
     "text": [
      "100%|██████████| 1300/1300 [02:12<00:00,  9.80it/s]\n"
     ]
    },
    {
     "name": "stdout",
     "output_type": "stream",
     "text": [
      "{'val_loss': 2.021786184209149, 'val_accuracy': 0.6147978642257819, 'precision': 0.6153793010531392, 'recall': 0.6147978642257819, 'f1-score': 0.6025349932757414, 'macro_f1-score': 0.3750055236521563, 'balanced_accuracy': 0.3799283451239415, 'mcc': 0.4969768579711248, 'train_loss': 0.09915410457859532}\n",
      "Epoch 5/20\n"
     ]
    },
    {
     "name": "stderr",
     "output_type": "stream",
     "text": [
      "100%|██████████| 1300/1300 [02:12<00:00,  9.81it/s]\n"
     ]
    },
    {
     "name": "stdout",
     "output_type": "stream",
     "text": [
      "{'val_loss': 2.1572530603990323, 'val_accuracy': 0.6292906178489702, 'precision': 0.6275137964457836, 'recall': 0.6292906178489702, 'f1-score': 0.6160229170729028, 'macro_f1-score': 0.3891819816586016, 'balanced_accuracy': 0.37537289151077147, 'mcc': 0.5094322604574367, 'train_loss': 0.08166476198687003}\n",
      "Epoch 6/20\n"
     ]
    },
    {
     "name": "stderr",
     "output_type": "stream",
     "text": [
      "100%|██████████| 1300/1300 [02:12<00:00,  9.81it/s]\n"
     ]
    },
    {
     "name": "stdout",
     "output_type": "stream",
     "text": [
      "{'val_loss': 2.2589115315094226, 'val_accuracy': 0.6155606407322655, 'precision': 0.6207123734357036, 'recall': 0.6155606407322655, 'f1-score': 0.6064314818447936, 'macro_f1-score': 0.39223762064051454, 'balanced_accuracy': 0.37302593367794845, 'mcc': 0.4914106784767426, 'train_loss': 0.0669662536173844}\n",
      "Epoch 7/20\n"
     ]
    },
    {
     "name": "stderr",
     "output_type": "stream",
     "text": [
      "100%|██████████| 1300/1300 [02:12<00:00,  9.81it/s]\n"
     ]
    },
    {
     "name": "stdout",
     "output_type": "stream",
     "text": [
      "{'val_loss': 2.437474190461926, 'val_accuracy': 0.5827612509534706, 'precision': 0.6346148180551814, 'recall': 0.5827612509534706, 'f1-score': 0.5950135789798401, 'macro_f1-score': 0.39498289475884024, 'balanced_accuracy': 0.40784718526788444, 'mcc': 0.478189604208676, 'train_loss': 0.06371795035558395}\n",
      "Epoch 8/20\n"
     ]
    },
    {
     "name": "stderr",
     "output_type": "stream",
     "text": [
      "100%|██████████| 1300/1300 [02:12<00:00,  9.81it/s]\n"
     ]
    },
    {
     "name": "stdout",
     "output_type": "stream",
     "text": [
      "{'val_loss': 2.2647385430045244, 'val_accuracy': 0.6613272311212814, 'precision': 0.6539817150551037, 'recall': 0.6613272311212814, 'f1-score': 0.646648103642075, 'macro_f1-score': 0.4285947243170085, 'balanced_accuracy': 0.4042600583352356, 'mcc': 0.5487716779622918, 'train_loss': 0.09259976963817071}\n",
      "Epoch 9/20\n"
     ]
    },
    {
     "name": "stderr",
     "output_type": "stream",
     "text": [
      "100%|██████████| 1300/1300 [02:12<00:00,  9.81it/s]\n"
     ]
    },
    {
     "name": "stdout",
     "output_type": "stream",
     "text": [
      "{'val_loss': 2.3160667644768225, 'val_accuracy': 0.6475972540045767, 'precision': 0.6382253898294735, 'recall': 0.6475972540045767, 'f1-score': 0.63352971596037, 'macro_f1-score': 0.41145279962132725, 'balanced_accuracy': 0.39367784703684916, 'mcc': 0.5278688049849327, 'train_loss': 0.025629339596769288}\n",
      "Epoch 10/20\n"
     ]
    },
    {
     "name": "stderr",
     "output_type": "stream",
     "text": [
      "100%|██████████| 1300/1300 [02:12<00:00,  9.80it/s]\n"
     ]
    },
    {
     "name": "stdout",
     "output_type": "stream",
     "text": [
      "{'val_loss': 2.3596580093953667, 'val_accuracy': 0.6460717009916095, 'precision': 0.6334551445433693, 'recall': 0.6460717009916095, 'f1-score': 0.6279753860873202, 'macro_f1-score': 0.3930531750062182, 'balanced_accuracy': 0.37275832345263016, 'mcc': 0.5269101408672262, 'train_loss': 0.05462565848167287}\n",
      "Epoch 11/20\n"
     ]
    },
    {
     "name": "stderr",
     "output_type": "stream",
     "text": [
      "100%|██████████| 1300/1300 [02:12<00:00,  9.82it/s]\n"
     ]
    },
    {
     "name": "stdout",
     "output_type": "stream",
     "text": [
      "{'val_loss': 2.6187880475346637, 'val_accuracy': 0.6193745232646835, 'precision': 0.6691894754334322, 'recall': 0.6193745232646835, 'f1-score': 0.6322512914901234, 'macro_f1-score': 0.4147969791315204, 'balanced_accuracy': 0.44076190378232, 'mcc': 0.5250132045081077, 'train_loss': 0.03398358361766441}\n",
      "Early stopping.\n",
      "\n",
      " === microsoft/deberta-base + plain + ros Final 5-fold Cross-Validation Results ===\n",
      "val_loss: 2.9656\n",
      "val_accuracy: 0.5093\n",
      "precision: 0.3085\n",
      "recall: 0.5093\n",
      "f1-score: 0.3709\n",
      "macro_f1-score: 0.0964\n",
      "balanced_accuracy: 0.0975\n",
      "mcc: 0.1098\n",
      "train_loss: 3.0627\n",
      "total_seconds: 3679.0000\n",
      "total_time: 1 hrs 1 mins 19 secs\n",
      "▶ Running: microsoft/deberta-base + cnn + ros\n",
      "tokenizer is microsoft/deberta-base\n",
      "Using device: cuda\n",
      "CUDA Available: True\n",
      "CUDA Device: NVIDIA GeForce RTX 5070 Ti\n",
      "Current GPU Memory Allocated: 0.02 GB\n",
      "Current GPU Memory Cached: 5.12 GB\n",
      "\n",
      "[Fold 1]\n",
      "Label distribution after resampling:\n",
      "  label 0: 2000\n",
      "  label 1: 400\n",
      "  label 2: 400\n",
      "  label 3: 400\n",
      "  label 4: 400\n",
      "  label 5: 400\n",
      "  label 6: 400\n",
      "  label 7: 400\n",
      "  label 8: 400\n",
      "  label 9: 400\n",
      "  label 10: 400\n",
      "  label 11: 400\n",
      "  label 12: 400\n",
      "  label 13: 400\n",
      "  label 14: 400\n",
      "  label 15: 400\n",
      "  label 16: 400\n",
      "  label 17: 400\n",
      "  label 18: 400\n",
      "  label 19: 400\n",
      "  label 20: 400\n",
      "  label 21: 400\n",
      "  label 22: 400\n",
      "  label 23: 400\n",
      "  label 24: 400\n",
      "  label 25: 400\n",
      "  label 26: 400\n",
      "  label 27: 400\n",
      "  label 28: 400\n",
      "  label 29: 400\n",
      "  label 30: 400\n",
      "  label 31: 400\n",
      "  label 32: 400\n",
      "  label 33: 400\n",
      "  label 34: 400\n",
      "  label 35: 400\n",
      "  label 36: 400\n",
      "  label 37: 400\n",
      "  label 38: 400\n",
      "  label 39: 400\n",
      "  label 40: 400\n",
      "  label 41: 400\n",
      "  label 42: 400\n",
      "  label 43: 400\n",
      "  label 44: 400\n",
      "  label 45: 400\n",
      "  label 46: 400\n",
      "  label 47: 400\n",
      "model is microsoft/deberta-base cnn\n",
      "Epoch 1/20\n"
     ]
    },
    {
     "name": "stderr",
     "output_type": "stream",
     "text": [
      "100%|██████████| 1300/1300 [02:18<00:00,  9.39it/s]\n"
     ]
    },
    {
     "name": "stdout",
     "output_type": "stream",
     "text": [
      "{'val_loss': 1.733089170077952, 'val_accuracy': 0.5586890243902439, 'precision': 0.6072873896047324, 'recall': 0.5586890243902439, 'f1-score': 0.5535923169913696, 'macro_f1-score': 0.3445781072060082, 'balanced_accuracy': 0.4007176297409201, 'mcc': 0.42540190013812507, 'train_loss': 1.9722756505585635}\n",
      "Epoch 2/20\n"
     ]
    },
    {
     "name": "stderr",
     "output_type": "stream",
     "text": [
      "100%|██████████| 1300/1300 [02:18<00:00,  9.41it/s]\n"
     ]
    },
    {
     "name": "stdout",
     "output_type": "stream",
     "text": [
      "{'val_loss': 3.5716858607966726, 'val_accuracy': 0.47103658536585363, 'precision': 0.22187546475312311, 'recall': 0.47103658536585363, 'f1-score': 0.3016586629596866, 'macro_f1-score': 0.013341968911917098, 'balanced_accuracy': 0.020833333333333332, 'mcc': 0.0, 'train_loss': 1.6426842585693184}\n",
      "Epoch 3/20\n"
     ]
    },
    {
     "name": "stderr",
     "output_type": "stream",
     "text": [
      "100%|██████████| 1300/1300 [02:18<00:00,  9.40it/s]\n"
     ]
    },
    {
     "name": "stdout",
     "output_type": "stream",
     "text": [
      "{'val_loss': 3.384909138446901, 'val_accuracy': 0.47103658536585363, 'precision': 0.22187546475312311, 'recall': 0.47103658536585363, 'f1-score': 0.3016586629596866, 'macro_f1-score': 0.013341968911917098, 'balanced_accuracy': 0.020833333333333332, 'mcc': 0.0, 'train_loss': 3.806887392080747}\n",
      "Epoch 4/20\n"
     ]
    },
    {
     "name": "stderr",
     "output_type": "stream",
     "text": [
      "100%|██████████| 1300/1300 [02:18<00:00,  9.40it/s]\n"
     ]
    },
    {
     "name": "stdout",
     "output_type": "stream",
     "text": [
      "{'val_loss': 3.396418257457454, 'val_accuracy': 0.47103658536585363, 'precision': 0.22187546475312311, 'recall': 0.47103658536585363, 'f1-score': 0.3016586629596866, 'macro_f1-score': 0.013341968911917098, 'balanced_accuracy': 0.020833333333333332, 'mcc': 0.0, 'train_loss': 3.772930799814371}\n",
      "Early stopping.\n",
      "\n",
      "[Fold 2]\n",
      "Label distribution after resampling:\n",
      "  label 0: 2000\n",
      "  label 1: 400\n",
      "  label 2: 400\n",
      "  label 3: 400\n",
      "  label 4: 400\n",
      "  label 5: 400\n",
      "  label 6: 400\n",
      "  label 7: 400\n",
      "  label 8: 400\n",
      "  label 9: 400\n",
      "  label 10: 400\n",
      "  label 11: 400\n",
      "  label 12: 400\n",
      "  label 13: 400\n",
      "  label 14: 400\n",
      "  label 15: 400\n",
      "  label 16: 400\n",
      "  label 17: 400\n",
      "  label 18: 400\n",
      "  label 19: 400\n",
      "  label 20: 400\n",
      "  label 21: 400\n",
      "  label 22: 400\n",
      "  label 23: 400\n",
      "  label 24: 400\n",
      "  label 25: 400\n",
      "  label 26: 400\n",
      "  label 27: 400\n",
      "  label 28: 400\n",
      "  label 29: 400\n",
      "  label 30: 400\n",
      "  label 31: 400\n",
      "  label 32: 400\n",
      "  label 33: 400\n",
      "  label 34: 400\n",
      "  label 35: 400\n",
      "  label 36: 400\n",
      "  label 37: 400\n",
      "  label 38: 400\n",
      "  label 39: 400\n",
      "  label 40: 400\n",
      "  label 41: 400\n",
      "  label 42: 400\n",
      "  label 43: 400\n",
      "  label 44: 400\n",
      "  label 45: 400\n",
      "  label 46: 400\n",
      "  label 47: 400\n",
      "model is microsoft/deberta-base cnn\n",
      "Epoch 1/20\n"
     ]
    },
    {
     "name": "stderr",
     "output_type": "stream",
     "text": [
      "100%|██████████| 1300/1300 [02:18<00:00,  9.41it/s]\n"
     ]
    },
    {
     "name": "stdout",
     "output_type": "stream",
     "text": [
      "{'val_loss': 3.4829196726403584, 'val_accuracy': 0.47139588100686497, 'precision': 0.2222140766302384, 'recall': 0.47139588100686497, 'f1-score': 0.302045261236125, 'macro_f1-score': 0.01334888543286677, 'balanced_accuracy': 0.020833333333333332, 'mcc': 0.0, 'train_loss': 3.7812400524432843}\n",
      "Epoch 2/20\n"
     ]
    },
    {
     "name": "stderr",
     "output_type": "stream",
     "text": [
      "100%|██████████| 1300/1300 [02:18<00:00,  9.40it/s]\n"
     ]
    },
    {
     "name": "stdout",
     "output_type": "stream",
     "text": [
      "{'val_loss': 3.420401468509581, 'val_accuracy': 0.47139588100686497, 'precision': 0.2222140766302384, 'recall': 0.47139588100686497, 'f1-score': 0.302045261236125, 'macro_f1-score': 0.01334888543286677, 'balanced_accuracy': 0.020833333333333332, 'mcc': 0.0, 'train_loss': 3.7293928208717935}\n",
      "Epoch 3/20\n"
     ]
    },
    {
     "name": "stderr",
     "output_type": "stream",
     "text": [
      "100%|██████████| 1300/1300 [02:18<00:00,  9.41it/s]\n"
     ]
    },
    {
     "name": "stdout",
     "output_type": "stream",
     "text": [
      "{'val_loss': 3.477934008691369, 'val_accuracy': 0.47063310450038137, 'precision': 0.22311981607793824, 'recall': 0.47063310450038137, 'f1-score': 0.3027190157491593, 'macro_f1-score': 0.017142023775738657, 'balanced_accuracy': 0.025974244875943908, 'mcc': 0.01926316526183502, 'train_loss': 3.703927401946141}\n",
      "Epoch 4/20\n"
     ]
    },
    {
     "name": "stderr",
     "output_type": "stream",
     "text": [
      "100%|██████████| 1300/1300 [02:18<00:00,  9.41it/s]\n"
     ]
    },
    {
     "name": "stdout",
     "output_type": "stream",
     "text": [
      "{'val_loss': 3.3973233118289854, 'val_accuracy': 0.4698703279938978, 'precision': 0.22492927770777477, 'recall': 0.4698703279938978, 'f1-score': 0.3035723393516606, 'macro_f1-score': 0.019737550584088142, 'balanced_accuracy': 0.027800762479160534, 'mcc': 0.023222615496212108, 'train_loss': 3.686608496079078}\n",
      "Epoch 5/20\n"
     ]
    },
    {
     "name": "stderr",
     "output_type": "stream",
     "text": [
      "100%|██████████| 1300/1300 [02:18<00:00,  9.40it/s]\n"
     ]
    },
    {
     "name": "stdout",
     "output_type": "stream",
     "text": [
      "{'val_loss': 3.277291120552435, 'val_accuracy': 0.0030511060259344014, 'precision': 9.309247981493216e-06, 'recall': 0.0030511060259344014, 'f1-score': 1.8561861754734e-05, 'macro_f1-score': 0.00012674271229404308, 'balanced_accuracy': 0.020833333333333332, 'mcc': 0.0, 'train_loss': 3.6985363784203162}\n",
      "Epoch 6/20\n"
     ]
    },
    {
     "name": "stderr",
     "output_type": "stream",
     "text": [
      "100%|██████████| 1300/1300 [02:18<00:00,  9.41it/s]\n"
     ]
    },
    {
     "name": "stdout",
     "output_type": "stream",
     "text": [
      "{'val_loss': 3.2262856000807227, 'val_accuracy': 0.47139588100686497, 'precision': 0.2222140766302384, 'recall': 0.47139588100686497, 'f1-score': 0.302045261236125, 'macro_f1-score': 0.01334888543286677, 'balanced_accuracy': 0.020833333333333332, 'mcc': 0.0, 'train_loss': 3.6897710591096144}\n",
      "Epoch 7/20\n"
     ]
    },
    {
     "name": "stderr",
     "output_type": "stream",
     "text": [
      "100%|██████████| 1300/1300 [02:18<00:00,  9.40it/s]\n"
     ]
    },
    {
     "name": "stdout",
     "output_type": "stream",
     "text": [
      "{'val_loss': 3.1756861500623748, 'val_accuracy': 0.47139588100686497, 'precision': 0.2222140766302384, 'recall': 0.47139588100686497, 'f1-score': 0.302045261236125, 'macro_f1-score': 0.01334888543286677, 'balanced_accuracy': 0.020833333333333332, 'mcc': 0.0, 'train_loss': 3.676743315183199}\n",
      "Early stopping.\n",
      "\n",
      "[Fold 3]\n",
      "Label distribution after resampling:\n",
      "  label 0: 2000\n",
      "  label 1: 400\n",
      "  label 2: 400\n",
      "  label 3: 400\n",
      "  label 4: 400\n",
      "  label 5: 400\n",
      "  label 6: 400\n",
      "  label 7: 400\n",
      "  label 8: 400\n",
      "  label 9: 400\n",
      "  label 10: 400\n",
      "  label 11: 400\n",
      "  label 12: 400\n",
      "  label 13: 400\n",
      "  label 14: 400\n",
      "  label 15: 400\n",
      "  label 16: 400\n",
      "  label 17: 400\n",
      "  label 18: 400\n",
      "  label 19: 400\n",
      "  label 20: 400\n",
      "  label 21: 400\n",
      "  label 22: 400\n",
      "  label 23: 400\n",
      "  label 24: 400\n",
      "  label 25: 400\n",
      "  label 26: 400\n",
      "  label 27: 400\n",
      "  label 28: 400\n",
      "  label 29: 400\n",
      "  label 30: 400\n",
      "  label 31: 400\n",
      "  label 32: 400\n",
      "  label 33: 400\n",
      "  label 34: 400\n",
      "  label 35: 400\n",
      "  label 36: 400\n",
      "  label 37: 400\n",
      "  label 38: 400\n",
      "  label 39: 400\n",
      "  label 40: 400\n",
      "  label 41: 400\n",
      "  label 42: 400\n",
      "  label 43: 400\n",
      "  label 44: 400\n",
      "  label 45: 400\n",
      "  label 46: 400\n",
      "  label 47: 400\n",
      "model is microsoft/deberta-base cnn\n",
      "Epoch 1/20\n"
     ]
    },
    {
     "name": "stderr",
     "output_type": "stream",
     "text": [
      "100%|██████████| 1300/1300 [02:18<00:00,  9.40it/s]\n"
     ]
    },
    {
     "name": "stdout",
     "output_type": "stream",
     "text": [
      "{'val_loss': 3.514307751888182, 'val_accuracy': 0.47139588100686497, 'precision': 0.2222140766302384, 'recall': 0.47139588100686497, 'f1-score': 0.302045261236125, 'macro_f1-score': 0.01334888543286677, 'balanced_accuracy': 0.020833333333333332, 'mcc': 0.0, 'train_loss': 3.7348707663095913}\n",
      "Epoch 2/20\n"
     ]
    },
    {
     "name": "stderr",
     "output_type": "stream",
     "text": [
      "100%|██████████| 1300/1300 [02:18<00:00,  9.41it/s]\n"
     ]
    },
    {
     "name": "stdout",
     "output_type": "stream",
     "text": [
      "{'val_loss': 3.4639647501270945, 'val_accuracy': 0.47139588100686497, 'precision': 0.2222140766302384, 'recall': 0.47139588100686497, 'f1-score': 0.302045261236125, 'macro_f1-score': 0.01334888543286677, 'balanced_accuracy': 0.020833333333333332, 'mcc': 0.0, 'train_loss': 3.807926973929772}\n",
      "Epoch 3/20\n"
     ]
    },
    {
     "name": "stderr",
     "output_type": "stream",
     "text": [
      "100%|██████████| 1300/1300 [02:18<00:00,  9.41it/s]\n"
     ]
    },
    {
     "name": "stdout",
     "output_type": "stream",
     "text": [
      "{'val_loss': 3.500326866056861, 'val_accuracy': 0.47139588100686497, 'precision': 0.2222140766302384, 'recall': 0.47139588100686497, 'f1-score': 0.302045261236125, 'macro_f1-score': 0.01334888543286677, 'balanced_accuracy': 0.020833333333333332, 'mcc': 0.0, 'train_loss': 3.7296150376246526}\n",
      "Epoch 4/20\n"
     ]
    },
    {
     "name": "stderr",
     "output_type": "stream",
     "text": [
      "100%|██████████| 1300/1300 [02:18<00:00,  9.40it/s]\n"
     ]
    },
    {
     "name": "stdout",
     "output_type": "stream",
     "text": [
      "{'val_loss': 3.354659600955684, 'val_accuracy': 0.3691838291380625, 'precision': 0.21503827182594026, 'recall': 0.3691838291380625, 'f1-score': 0.2717755883351074, 'macro_f1-score': 0.012011117728806829, 'balanced_accuracy': 0.016316073354908308, 'mcc': -0.026228333188883447, 'train_loss': 3.616444493990678}\n",
      "Early stopping.\n",
      "\n",
      "[Fold 4]\n",
      "Label distribution after resampling:\n",
      "  label 0: 2000\n",
      "  label 1: 400\n",
      "  label 2: 400\n",
      "  label 3: 400\n",
      "  label 4: 400\n",
      "  label 5: 400\n",
      "  label 6: 400\n",
      "  label 7: 400\n",
      "  label 8: 400\n",
      "  label 9: 400\n",
      "  label 10: 400\n",
      "  label 11: 400\n",
      "  label 12: 400\n",
      "  label 13: 400\n",
      "  label 14: 400\n",
      "  label 15: 400\n",
      "  label 16: 400\n",
      "  label 17: 400\n",
      "  label 18: 400\n",
      "  label 19: 400\n",
      "  label 20: 400\n",
      "  label 21: 400\n",
      "  label 22: 400\n",
      "  label 23: 400\n",
      "  label 24: 400\n",
      "  label 25: 400\n",
      "  label 26: 400\n",
      "  label 27: 400\n",
      "  label 28: 400\n",
      "  label 29: 400\n",
      "  label 30: 400\n",
      "  label 31: 400\n",
      "  label 32: 400\n",
      "  label 33: 400\n",
      "  label 34: 400\n",
      "  label 35: 400\n",
      "  label 36: 400\n",
      "  label 37: 400\n",
      "  label 38: 400\n",
      "  label 39: 400\n",
      "  label 40: 400\n",
      "  label 41: 400\n",
      "  label 42: 400\n",
      "  label 43: 400\n",
      "  label 44: 400\n",
      "  label 45: 400\n",
      "  label 46: 400\n",
      "  label 47: 400\n",
      "model is microsoft/deberta-base cnn\n",
      "Epoch 1/20\n"
     ]
    },
    {
     "name": "stderr",
     "output_type": "stream",
     "text": [
      "100%|██████████| 1300/1300 [02:18<00:00,  9.39it/s]\n"
     ]
    },
    {
     "name": "stdout",
     "output_type": "stream",
     "text": [
      "{'val_loss': 3.5157869559962576, 'val_accuracy': 0.47139588100686497, 'precision': 0.2222140766302384, 'recall': 0.47139588100686497, 'f1-score': 0.302045261236125, 'macro_f1-score': 0.01334888543286677, 'balanced_accuracy': 0.020833333333333332, 'mcc': 0.0, 'train_loss': 3.8223643629367534}\n",
      "Epoch 2/20\n"
     ]
    },
    {
     "name": "stderr",
     "output_type": "stream",
     "text": [
      "100%|██████████| 1300/1300 [02:18<00:00,  9.40it/s]\n"
     ]
    },
    {
     "name": "stdout",
     "output_type": "stream",
     "text": [
      "{'val_loss': 3.48835903260766, 'val_accuracy': 0.47139588100686497, 'precision': 0.2222140766302384, 'recall': 0.47139588100686497, 'f1-score': 0.302045261236125, 'macro_f1-score': 0.01334888543286677, 'balanced_accuracy': 0.020833333333333332, 'mcc': 0.0, 'train_loss': 3.8103265868700467}\n",
      "Epoch 3/20\n"
     ]
    },
    {
     "name": "stderr",
     "output_type": "stream",
     "text": [
      "100%|██████████| 1300/1300 [02:18<00:00,  9.40it/s]\n"
     ]
    },
    {
     "name": "stdout",
     "output_type": "stream",
     "text": [
      "{'val_loss': 3.513655121733503, 'val_accuracy': 0.47139588100686497, 'precision': 0.2222140766302384, 'recall': 0.47139588100686497, 'f1-score': 0.302045261236125, 'macro_f1-score': 0.01334888543286677, 'balanced_accuracy': 0.020833333333333332, 'mcc': 0.0, 'train_loss': 3.8086971182089586}\n",
      "Epoch 4/20\n"
     ]
    },
    {
     "name": "stderr",
     "output_type": "stream",
     "text": [
      "100%|██████████| 1300/1300 [02:18<00:00,  9.40it/s]\n"
     ]
    },
    {
     "name": "stdout",
     "output_type": "stream",
     "text": [
      "{'val_loss': 3.5156851832459615, 'val_accuracy': 0.47139588100686497, 'precision': 0.2222140766302384, 'recall': 0.47139588100686497, 'f1-score': 0.302045261236125, 'macro_f1-score': 0.01334888543286677, 'balanced_accuracy': 0.020833333333333332, 'mcc': 0.0, 'train_loss': 3.8071464965893673}\n",
      "Early stopping.\n",
      "\n",
      "[Fold 5]\n",
      "Label distribution after resampling:\n",
      "  label 0: 2000\n",
      "  label 1: 400\n",
      "  label 2: 400\n",
      "  label 3: 400\n",
      "  label 4: 400\n",
      "  label 5: 400\n",
      "  label 6: 400\n",
      "  label 7: 400\n",
      "  label 8: 400\n",
      "  label 9: 400\n",
      "  label 10: 400\n",
      "  label 11: 400\n",
      "  label 12: 400\n",
      "  label 13: 400\n",
      "  label 14: 400\n",
      "  label 15: 400\n",
      "  label 16: 400\n",
      "  label 17: 400\n",
      "  label 18: 400\n",
      "  label 19: 400\n",
      "  label 20: 400\n",
      "  label 21: 400\n",
      "  label 22: 400\n",
      "  label 23: 400\n",
      "  label 24: 400\n",
      "  label 25: 400\n",
      "  label 26: 400\n",
      "  label 27: 400\n",
      "  label 28: 400\n",
      "  label 29: 400\n",
      "  label 30: 400\n",
      "  label 31: 400\n",
      "  label 32: 400\n",
      "  label 33: 400\n",
      "  label 34: 400\n",
      "  label 35: 400\n",
      "  label 36: 400\n",
      "  label 37: 400\n",
      "  label 38: 400\n",
      "  label 39: 400\n",
      "  label 40: 400\n",
      "  label 41: 400\n",
      "  label 42: 400\n",
      "  label 43: 400\n",
      "  label 44: 400\n",
      "  label 45: 400\n",
      "  label 46: 400\n",
      "  label 47: 400\n",
      "model is microsoft/deberta-base cnn\n",
      "Epoch 1/20\n"
     ]
    },
    {
     "name": "stderr",
     "output_type": "stream",
     "text": [
      "100%|██████████| 1300/1300 [02:18<00:00,  9.41it/s]\n"
     ]
    },
    {
     "name": "stdout",
     "output_type": "stream",
     "text": [
      "{'val_loss': 1.8424407941539114, 'val_accuracy': 0.4774980930587338, 'precision': 0.6230626746503963, 'recall': 0.4774980930587338, 'f1-score': 0.5169282414006493, 'macro_f1-score': 0.34588174361100554, 'balanced_accuracy': 0.4109106552234995, 'mcc': 0.3910732273428659, 'train_loss': 2.306548990355088}\n",
      "Epoch 2/20\n"
     ]
    },
    {
     "name": "stderr",
     "output_type": "stream",
     "text": [
      "100%|██████████| 1300/1300 [02:18<00:00,  9.40it/s]\n"
     ]
    },
    {
     "name": "stdout",
     "output_type": "stream",
     "text": [
      "{'val_loss': 1.7112223527780392, 'val_accuracy': 0.6025934401220442, 'precision': 0.6450201802417214, 'recall': 0.6025934401220442, 'f1-score': 0.6116163430885315, 'macro_f1-score': 0.38429116425101517, 'balanced_accuracy': 0.40369352458662205, 'mcc': 0.4930965041405307, 'train_loss': 0.5760520903164378}\n",
      "Epoch 3/20\n"
     ]
    },
    {
     "name": "stderr",
     "output_type": "stream",
     "text": [
      "100%|██████████| 1300/1300 [02:18<00:00,  9.40it/s]\n"
     ]
    },
    {
     "name": "stdout",
     "output_type": "stream",
     "text": [
      "{'val_loss': 1.870463820128906, 'val_accuracy': 0.5919145690312738, 'precision': 0.6349761515384803, 'recall': 0.5919145690312738, 'f1-score': 0.596909930963911, 'macro_f1-score': 0.3578750601908129, 'balanced_accuracy': 0.3611887678722958, 'mcc': 0.4702771147451601, 'train_loss': 0.32667567069212405}\n",
      "Epoch 4/20\n"
     ]
    },
    {
     "name": "stderr",
     "output_type": "stream",
     "text": [
      "100%|██████████| 1300/1300 [02:18<00:00,  9.41it/s]\n"
     ]
    },
    {
     "name": "stdout",
     "output_type": "stream",
     "text": [
      "{'val_loss': 2.385430352353468, 'val_accuracy': 0.5774218154080855, 'precision': 0.6404585550863425, 'recall': 0.5774218154080855, 'f1-score': 0.5928113603857195, 'macro_f1-score': 0.4007571816061472, 'balanced_accuracy': 0.4103693931807236, 'mcc': 0.4740739588056941, 'train_loss': 0.21591936523667896}\n",
      "Epoch 5/20\n"
     ]
    },
    {
     "name": "stderr",
     "output_type": "stream",
     "text": [
      "100%|██████████| 1300/1300 [02:18<00:00,  9.41it/s]\n"
     ]
    },
    {
     "name": "stdout",
     "output_type": "stream",
     "text": [
      "{'val_loss': 2.201889959413831, 'val_accuracy': 0.6086956521739131, 'precision': 0.6283793646978961, 'recall': 0.6086956521739131, 'f1-score': 0.6082089569994849, 'macro_f1-score': 0.4025941837862401, 'balanced_accuracy': 0.39385688933647084, 'mcc': 0.49212263759286357, 'train_loss': 0.1451617155306471}\n",
      "Epoch 6/20\n"
     ]
    },
    {
     "name": "stderr",
     "output_type": "stream",
     "text": [
      "100%|██████████| 1300/1300 [02:18<00:00,  9.41it/s]\n"
     ]
    },
    {
     "name": "stdout",
     "output_type": "stream",
     "text": [
      "{'val_loss': 2.592519405956675, 'val_accuracy': 0.6292906178489702, 'precision': 0.6510297521673947, 'recall': 0.6292906178489702, 'f1-score': 0.6296011252780047, 'macro_f1-score': 0.4117439329497064, 'balanced_accuracy': 0.40682164029805223, 'mcc': 0.5255365610128506, 'train_loss': 0.130907969925275}\n",
      "Epoch 7/20\n"
     ]
    },
    {
     "name": "stderr",
     "output_type": "stream",
     "text": [
      "100%|██████████| 1300/1300 [02:18<00:00,  9.41it/s]\n"
     ]
    },
    {
     "name": "stdout",
     "output_type": "stream",
     "text": [
      "{'val_loss': 2.259755023368975, 'val_accuracy': 0.635392829900839, 'precision': 0.6450547611240235, 'recall': 0.635392829900839, 'f1-score': 0.629058441465277, 'macro_f1-score': 0.419384218139147, 'balanced_accuracy': 0.40487647236375324, 'mcc': 0.5182691574081281, 'train_loss': 0.1364370181353297}\n",
      "Epoch 8/20\n"
     ]
    },
    {
     "name": "stderr",
     "output_type": "stream",
     "text": [
      "100%|██████████| 1300/1300 [02:18<00:00,  9.40it/s]\n"
     ]
    },
    {
     "name": "stdout",
     "output_type": "stream",
     "text": [
      "{'val_loss': 2.6997652606266302, 'val_accuracy': 0.585812356979405, 'precision': 0.6304506682461352, 'recall': 0.585812356979405, 'f1-score': 0.5900842868683527, 'macro_f1-score': 0.38077138433984264, 'balanced_accuracy': 0.3604092187523577, 'mcc': 0.46536878327817627, 'train_loss': 0.08797985614546074}\n",
      "Epoch 9/20\n"
     ]
    },
    {
     "name": "stderr",
     "output_type": "stream",
     "text": [
      "100%|██████████| 1300/1300 [02:18<00:00,  9.41it/s]\n"
     ]
    },
    {
     "name": "stdout",
     "output_type": "stream",
     "text": [
      "{'val_loss': 2.3168036447065634, 'val_accuracy': 0.6407322654462243, 'precision': 0.6431235375205017, 'recall': 0.6407322654462243, 'f1-score': 0.6292830249906539, 'macro_f1-score': 0.4129957165607329, 'balanced_accuracy': 0.4327507023680696, 'mcc': 0.5291214899481957, 'train_loss': 0.12043463807521711}\n",
      "Epoch 10/20\n"
     ]
    },
    {
     "name": "stderr",
     "output_type": "stream",
     "text": [
      "100%|██████████| 1300/1300 [02:18<00:00,  9.40it/s]\n"
     ]
    },
    {
     "name": "stdout",
     "output_type": "stream",
     "text": [
      "{'val_loss': 2.680257770346432, 'val_accuracy': 0.6048817696414951, 'precision': 0.6555495741669166, 'recall': 0.6048817696414951, 'f1-score': 0.610196040746003, 'macro_f1-score': 0.44245203748669876, 'balanced_accuracy': 0.44279660505111273, 'mcc': 0.4996791497043948, 'train_loss': 0.09760521159243161}\n",
      "Epoch 11/20\n"
     ]
    },
    {
     "name": "stderr",
     "output_type": "stream",
     "text": [
      "100%|██████████| 1300/1300 [02:18<00:00,  9.41it/s]\n"
     ]
    },
    {
     "name": "stdout",
     "output_type": "stream",
     "text": [
      "{'val_loss': 2.6670782900438077, 'val_accuracy': 0.5873379099923722, 'precision': 0.6344055511385294, 'recall': 0.5873379099923722, 'f1-score': 0.5982997612844786, 'macro_f1-score': 0.4225606031906162, 'balanced_accuracy': 0.3983986047181732, 'mcc': 0.46964851416774384, 'train_loss': 0.11531691907143865}\n",
      "Epoch 12/20\n"
     ]
    },
    {
     "name": "stderr",
     "output_type": "stream",
     "text": [
      "100%|██████████| 1300/1300 [02:18<00:00,  9.41it/s]\n"
     ]
    },
    {
     "name": "stdout",
     "output_type": "stream",
     "text": [
      "{'val_loss': 2.7363418842234264, 'val_accuracy': 0.6163234172387491, 'precision': 0.6230383506074774, 'recall': 0.6163234172387491, 'f1-score': 0.6105660873295123, 'macro_f1-score': 0.38969470828867997, 'balanced_accuracy': 0.4061418658310385, 'mcc': 0.5075792681322214, 'train_loss': 0.1866872270858305}\n",
      "Epoch 13/20\n"
     ]
    },
    {
     "name": "stderr",
     "output_type": "stream",
     "text": [
      "100%|██████████| 1300/1300 [02:18<00:00,  9.41it/s]\n"
     ]
    },
    {
     "name": "stdout",
     "output_type": "stream",
     "text": [
      "{'val_loss': 3.085885291419378, 'val_accuracy': 0.6292906178489702, 'precision': 0.6459850001749912, 'recall': 0.6292906178489702, 'f1-score': 0.6254999011077287, 'macro_f1-score': 0.4147379554108979, 'balanced_accuracy': 0.40956851416341905, 'mcc': 0.5225230326297858, 'train_loss': 0.04185606901360398}\n",
      "Early stopping.\n",
      "\n",
      " === microsoft/deberta-base + cnn + ros Final 5-fold Cross-Validation Results ===\n",
      "val_loss: 2.9682\n",
      "val_accuracy: 0.5152\n",
      "precision: 0.3864\n",
      "recall: 0.5152\n",
      "f1-score: 0.4143\n",
      "macro_f1-score: 0.1667\n",
      "balanced_accuracy: 0.1826\n",
      "mcc: 0.1897\n",
      "train_loss: 2.6627\n",
      "total_seconds: 4544.0000\n",
      "total_time: 1 hrs 15 mins 44 secs\n",
      "▶ Running: microsoft/deberta-base + lstm + ros\n",
      "tokenizer is microsoft/deberta-base\n",
      "Using device: cuda\n",
      "CUDA Available: True\n",
      "CUDA Device: NVIDIA GeForce RTX 5070 Ti\n",
      "Current GPU Memory Allocated: 0.02 GB\n",
      "Current GPU Memory Cached: 5.12 GB\n",
      "\n",
      "[Fold 1]\n",
      "Label distribution after resampling:\n",
      "  label 0: 2000\n",
      "  label 1: 400\n",
      "  label 2: 400\n",
      "  label 3: 400\n",
      "  label 4: 400\n",
      "  label 5: 400\n",
      "  label 6: 400\n",
      "  label 7: 400\n",
      "  label 8: 400\n",
      "  label 9: 400\n",
      "  label 10: 400\n",
      "  label 11: 400\n",
      "  label 12: 400\n",
      "  label 13: 400\n",
      "  label 14: 400\n",
      "  label 15: 400\n",
      "  label 16: 400\n",
      "  label 17: 400\n",
      "  label 18: 400\n",
      "  label 19: 400\n",
      "  label 20: 400\n",
      "  label 21: 400\n",
      "  label 22: 400\n",
      "  label 23: 400\n",
      "  label 24: 400\n",
      "  label 25: 400\n",
      "  label 26: 400\n",
      "  label 27: 400\n",
      "  label 28: 400\n",
      "  label 29: 400\n",
      "  label 30: 400\n",
      "  label 31: 400\n",
      "  label 32: 400\n",
      "  label 33: 400\n",
      "  label 34: 400\n",
      "  label 35: 400\n",
      "  label 36: 400\n",
      "  label 37: 400\n",
      "  label 38: 400\n",
      "  label 39: 400\n",
      "  label 40: 400\n",
      "  label 41: 400\n",
      "  label 42: 400\n",
      "  label 43: 400\n",
      "  label 44: 400\n",
      "  label 45: 400\n",
      "  label 46: 400\n",
      "  label 47: 400\n",
      "model is microsoft/deberta-base lstm\n",
      "Epoch 1/20\n"
     ]
    },
    {
     "name": "stderr",
     "output_type": "stream",
     "text": [
      "100%|██████████| 1300/1300 [02:19<00:00,  9.30it/s]\n"
     ]
    },
    {
     "name": "stdout",
     "output_type": "stream",
     "text": [
      "{'val_loss': 2.4269310730259592, 'val_accuracy': 0.39634146341463417, 'precision': 0.45528449323592046, 'recall': 0.39634146341463417, 'f1-score': 0.3968839347254888, 'macro_f1-score': 0.10294549504983647, 'balanced_accuracy': 0.20607136215949198, 'mcc': 0.23517687865329198, 'train_loss': 3.2003717348208793}\n",
      "Epoch 2/20\n"
     ]
    },
    {
     "name": "stderr",
     "output_type": "stream",
     "text": [
      "100%|██████████| 1300/1300 [02:19<00:00,  9.30it/s]\n"
     ]
    },
    {
     "name": "stdout",
     "output_type": "stream",
     "text": [
      "{'val_loss': 2.213382943374355, 'val_accuracy': 0.45503048780487804, 'precision': 0.4416908318751573, 'recall': 0.45503048780487804, 'f1-score': 0.4194691287948997, 'macro_f1-score': 0.16167037601577985, 'balanced_accuracy': 0.20379859119679536, 'mcc': 0.2561037832556262, 'train_loss': 2.2760831924585196}\n",
      "Epoch 3/20\n"
     ]
    },
    {
     "name": "stderr",
     "output_type": "stream",
     "text": [
      "100%|██████████| 1300/1300 [02:19<00:00,  9.31it/s]\n"
     ]
    },
    {
     "name": "stdout",
     "output_type": "stream",
     "text": [
      "{'val_loss': 2.2057684034836003, 'val_accuracy': 0.41310975609756095, 'precision': 0.5155258762666124, 'recall': 0.41310975609756095, 'f1-score': 0.43637265772065886, 'macro_f1-score': 0.22803642567417878, 'balanced_accuracy': 0.27821700418003714, 'mcc': 0.2824366159572169, 'train_loss': 1.7165030190119377}\n",
      "Epoch 4/20\n"
     ]
    },
    {
     "name": "stderr",
     "output_type": "stream",
     "text": [
      "100%|██████████| 1300/1300 [02:19<00:00,  9.31it/s]\n"
     ]
    },
    {
     "name": "stdout",
     "output_type": "stream",
     "text": [
      "{'val_loss': 2.0047094080506302, 'val_accuracy': 0.4916158536585366, 'precision': 0.5096362199983958, 'recall': 0.4916158536585366, 'f1-score': 0.4820210033673685, 'macro_f1-score': 0.25553327884616334, 'balanced_accuracy': 0.2875594853736914, 'mcc': 0.3241320746130249, 'train_loss': 1.1939761992372}\n",
      "Epoch 5/20\n"
     ]
    },
    {
     "name": "stderr",
     "output_type": "stream",
     "text": [
      "100%|██████████| 1300/1300 [02:19<00:00,  9.30it/s]\n"
     ]
    },
    {
     "name": "stdout",
     "output_type": "stream",
     "text": [
      "{'val_loss': 2.065259269097956, 'val_accuracy': 0.4725609756097561, 'precision': 0.5413707810877504, 'recall': 0.4725609756097561, 'f1-score': 0.4920673631260026, 'macro_f1-score': 0.29410044029433297, 'balanced_accuracy': 0.3294552018389183, 'mcc': 0.34491741854667085, 'train_loss': 0.8659811579722625}\n",
      "Epoch 6/20\n"
     ]
    },
    {
     "name": "stderr",
     "output_type": "stream",
     "text": [
      "100%|██████████| 1300/1300 [02:19<00:00,  9.30it/s]\n"
     ]
    },
    {
     "name": "stdout",
     "output_type": "stream",
     "text": [
      "{'val_loss': 2.0639852430762313, 'val_accuracy': 0.5099085365853658, 'precision': 0.5802094099661692, 'recall': 0.5099085365853658, 'f1-score': 0.5244023503725703, 'macro_f1-score': 0.32749451968933346, 'balanced_accuracy': 0.3796452650951858, 'mcc': 0.39651340287722464, 'train_loss': 0.6668384033097671}\n",
      "Epoch 7/20\n"
     ]
    },
    {
     "name": "stderr",
     "output_type": "stream",
     "text": [
      "100%|██████████| 1300/1300 [02:19<00:00,  9.30it/s]\n"
     ]
    },
    {
     "name": "stdout",
     "output_type": "stream",
     "text": [
      "{'val_loss': 2.3056513827021528, 'val_accuracy': 0.4138719512195122, 'precision': 0.5447182555138004, 'recall': 0.4138719512195122, 'f1-score': 0.4496985418542734, 'macro_f1-score': 0.26441421465980147, 'balanced_accuracy': 0.3097395693459757, 'mcc': 0.31283191613000405, 'train_loss': 0.8017776502496922}\n",
      "Epoch 8/20\n"
     ]
    },
    {
     "name": "stderr",
     "output_type": "stream",
     "text": [
      "100%|██████████| 1300/1300 [02:19<00:00,  9.31it/s]\n"
     ]
    },
    {
     "name": "stdout",
     "output_type": "stream",
     "text": [
      "{'val_loss': 2.308603956205089, 'val_accuracy': 0.4794207317073171, 'precision': 0.5230214578779463, 'recall': 0.4794207317073171, 'f1-score': 0.4813249102450917, 'macro_f1-score': 0.24204940797984079, 'balanced_accuracy': 0.2720249081120521, 'mcc': 0.3282535583797574, 'train_loss': 0.8053500233017481}\n",
      "Epoch 9/20\n"
     ]
    },
    {
     "name": "stderr",
     "output_type": "stream",
     "text": [
      "100%|██████████| 1300/1300 [02:19<00:00,  9.30it/s]\n"
     ]
    },
    {
     "name": "stdout",
     "output_type": "stream",
     "text": [
      "{'val_loss': 2.1909470783501135, 'val_accuracy': 0.5053353658536586, 'precision': 0.5553391101103059, 'recall': 0.5053353658536586, 'f1-score': 0.515978881216604, 'macro_f1-score': 0.2870678329889832, 'balanced_accuracy': 0.3271713789954837, 'mcc': 0.3787575168957775, 'train_loss': 0.5520890981847277}\n",
      "Early stopping.\n",
      "\n",
      "[Fold 2]\n",
      "Label distribution after resampling:\n",
      "  label 0: 2000\n",
      "  label 1: 400\n",
      "  label 2: 400\n",
      "  label 3: 400\n",
      "  label 4: 400\n",
      "  label 5: 400\n",
      "  label 6: 400\n",
      "  label 7: 400\n",
      "  label 8: 400\n",
      "  label 9: 400\n",
      "  label 10: 400\n",
      "  label 11: 400\n",
      "  label 12: 400\n",
      "  label 13: 400\n",
      "  label 14: 400\n",
      "  label 15: 400\n",
      "  label 16: 400\n",
      "  label 17: 400\n",
      "  label 18: 400\n",
      "  label 19: 400\n",
      "  label 20: 400\n",
      "  label 21: 400\n",
      "  label 22: 400\n",
      "  label 23: 400\n",
      "  label 24: 400\n",
      "  label 25: 400\n",
      "  label 26: 400\n",
      "  label 27: 400\n",
      "  label 28: 400\n",
      "  label 29: 400\n",
      "  label 30: 400\n",
      "  label 31: 400\n",
      "  label 32: 400\n",
      "  label 33: 400\n",
      "  label 34: 400\n",
      "  label 35: 400\n",
      "  label 36: 400\n",
      "  label 37: 400\n",
      "  label 38: 400\n",
      "  label 39: 400\n",
      "  label 40: 400\n",
      "  label 41: 400\n",
      "  label 42: 400\n",
      "  label 43: 400\n",
      "  label 44: 400\n",
      "  label 45: 400\n",
      "  label 46: 400\n",
      "  label 47: 400\n",
      "model is microsoft/deberta-base lstm\n",
      "Epoch 1/20\n"
     ]
    },
    {
     "name": "stderr",
     "output_type": "stream",
     "text": [
      "100%|██████████| 1300/1300 [02:19<00:00,  9.30it/s]\n"
     ]
    },
    {
     "name": "stdout",
     "output_type": "stream",
     "text": [
      "{'val_loss': 3.236362495073458, 'val_accuracy': 0.47139588100686497, 'precision': 0.2222140766302384, 'recall': 0.47139588100686497, 'f1-score': 0.302045261236125, 'macro_f1-score': 0.01334888543286677, 'balanced_accuracy': 0.020833333333333332, 'mcc': 0.0, 'train_loss': 3.732805438408485}\n",
      "Epoch 2/20\n"
     ]
    },
    {
     "name": "stderr",
     "output_type": "stream",
     "text": [
      "100%|██████████| 1300/1300 [02:19<00:00,  9.31it/s]\n"
     ]
    },
    {
     "name": "stdout",
     "output_type": "stream",
     "text": [
      "{'val_loss': 3.014176772861946, 'val_accuracy': 0.47139588100686497, 'precision': 0.2222140766302384, 'recall': 0.47139588100686497, 'f1-score': 0.302045261236125, 'macro_f1-score': 0.01334888543286677, 'balanced_accuracy': 0.020833333333333332, 'mcc': 0.0, 'train_loss': 3.742767588725457}\n",
      "Epoch 3/20\n"
     ]
    },
    {
     "name": "stderr",
     "output_type": "stream",
     "text": [
      "100%|██████████| 1300/1300 [02:19<00:00,  9.29it/s]\n"
     ]
    },
    {
     "name": "stdout",
     "output_type": "stream",
     "text": [
      "{'val_loss': 3.125467053273829, 'val_accuracy': 0.47139588100686497, 'precision': 0.2222140766302384, 'recall': 0.47139588100686497, 'f1-score': 0.302045261236125, 'macro_f1-score': 0.01334888543286677, 'balanced_accuracy': 0.020833333333333332, 'mcc': 0.0, 'train_loss': 3.6802576879354625}\n",
      "Epoch 4/20\n"
     ]
    },
    {
     "name": "stderr",
     "output_type": "stream",
     "text": [
      "100%|██████████| 1300/1300 [02:19<00:00,  9.31it/s]\n"
     ]
    },
    {
     "name": "stdout",
     "output_type": "stream",
     "text": [
      "{'val_loss': 3.0970012763651407, 'val_accuracy': 0.47139588100686497, 'precision': 0.2222140766302384, 'recall': 0.47139588100686497, 'f1-score': 0.302045261236125, 'macro_f1-score': 0.01334888543286677, 'balanced_accuracy': 0.020833333333333332, 'mcc': 0.0, 'train_loss': 3.654884952031649}\n",
      "Early stopping.\n",
      "\n",
      "[Fold 3]\n",
      "Label distribution after resampling:\n",
      "  label 0: 2000\n",
      "  label 1: 400\n",
      "  label 2: 400\n",
      "  label 3: 400\n",
      "  label 4: 400\n",
      "  label 5: 400\n",
      "  label 6: 400\n",
      "  label 7: 400\n",
      "  label 8: 400\n",
      "  label 9: 400\n",
      "  label 10: 400\n",
      "  label 11: 400\n",
      "  label 12: 400\n",
      "  label 13: 400\n",
      "  label 14: 400\n",
      "  label 15: 400\n",
      "  label 16: 400\n",
      "  label 17: 400\n",
      "  label 18: 400\n",
      "  label 19: 400\n",
      "  label 20: 400\n",
      "  label 21: 400\n",
      "  label 22: 400\n",
      "  label 23: 400\n",
      "  label 24: 400\n",
      "  label 25: 400\n",
      "  label 26: 400\n",
      "  label 27: 400\n",
      "  label 28: 400\n",
      "  label 29: 400\n",
      "  label 30: 400\n",
      "  label 31: 400\n",
      "  label 32: 400\n",
      "  label 33: 400\n",
      "  label 34: 400\n",
      "  label 35: 400\n",
      "  label 36: 400\n",
      "  label 37: 400\n",
      "  label 38: 400\n",
      "  label 39: 400\n",
      "  label 40: 400\n",
      "  label 41: 400\n",
      "  label 42: 400\n",
      "  label 43: 400\n",
      "  label 44: 400\n",
      "  label 45: 400\n",
      "  label 46: 400\n",
      "  label 47: 400\n",
      "model is microsoft/deberta-base lstm\n",
      "Epoch 1/20\n"
     ]
    },
    {
     "name": "stderr",
     "output_type": "stream",
     "text": [
      "100%|██████████| 1300/1300 [02:19<00:00,  9.30it/s]\n"
     ]
    },
    {
     "name": "stdout",
     "output_type": "stream",
     "text": [
      "{'val_loss': 2.644904959492567, 'val_accuracy': 0.3318077803203661, 'precision': 0.39103910279643633, 'recall': 0.3318077803203661, 'f1-score': 0.34862052917867026, 'macro_f1-score': 0.0826813082932726, 'balanced_accuracy': 0.15451056357684578, 'mcc': 0.19363737551853402, 'train_loss': 3.2905646278307987}\n",
      "Epoch 2/20\n"
     ]
    },
    {
     "name": "stderr",
     "output_type": "stream",
     "text": [
      "100%|██████████| 1300/1300 [02:19<00:00,  9.30it/s]\n"
     ]
    },
    {
     "name": "stdout",
     "output_type": "stream",
     "text": [
      "{'val_loss': 2.45601226498441, 'val_accuracy': 0.30434782608695654, 'precision': 0.42389170848745455, 'recall': 0.30434782608695654, 'f1-score': 0.3330293321396159, 'macro_f1-score': 0.10533851909542553, 'balanced_accuracy': 0.19777366361014906, 'mcc': 0.18317942909742152, 'train_loss': 2.517963537252866}\n",
      "Epoch 3/20\n"
     ]
    },
    {
     "name": "stderr",
     "output_type": "stream",
     "text": [
      "100%|██████████| 1300/1300 [02:19<00:00,  9.30it/s]\n"
     ]
    },
    {
     "name": "stdout",
     "output_type": "stream",
     "text": [
      "{'val_loss': 2.3570776276472136, 'val_accuracy': 0.34706331045003813, 'precision': 0.465822884825345, 'recall': 0.34706331045003813, 'f1-score': 0.38550231843078303, 'macro_f1-score': 0.1253214126189767, 'balanced_accuracy': 0.19168169374465438, 'mcc': 0.22110025780206102, 'train_loss': 2.098709440323023}\n",
      "Epoch 4/20\n"
     ]
    },
    {
     "name": "stderr",
     "output_type": "stream",
     "text": [
      "100%|██████████| 1300/1300 [02:19<00:00,  9.30it/s]\n"
     ]
    },
    {
     "name": "stdout",
     "output_type": "stream",
     "text": [
      "{'val_loss': 2.1415745194365337, 'val_accuracy': 0.4286803966437834, 'precision': 0.49884720526477333, 'recall': 0.4286803966437834, 'f1-score': 0.44583096824284196, 'macro_f1-score': 0.16289336311918995, 'balanced_accuracy': 0.21110464969629703, 'mcc': 0.27482233788350124, 'train_loss': 1.861480550628442}\n",
      "Epoch 5/20\n"
     ]
    },
    {
     "name": "stderr",
     "output_type": "stream",
     "text": [
      "100%|██████████| 1300/1300 [02:19<00:00,  9.32it/s]\n"
     ]
    },
    {
     "name": "stdout",
     "output_type": "stream",
     "text": [
      "{'val_loss': 2.2923133409604795, 'val_accuracy': 0.3714721586575134, 'precision': 0.5223992899535073, 'recall': 0.3714721586575134, 'f1-score': 0.41356933878383734, 'macro_f1-score': 0.18687971573482828, 'balanced_accuracy': 0.25764636286343995, 'mcc': 0.2602245848596558, 'train_loss': 1.536147329898981}\n",
      "Epoch 6/20\n"
     ]
    },
    {
     "name": "stderr",
     "output_type": "stream",
     "text": [
      "100%|██████████| 1300/1300 [02:19<00:00,  9.30it/s]\n"
     ]
    },
    {
     "name": "stdout",
     "output_type": "stream",
     "text": [
      "{'val_loss': 2.562854249302934, 'val_accuracy': 0.2829900839054157, 'precision': 0.41594785533094236, 'recall': 0.2829900839054157, 'f1-score': 0.3226016495562974, 'macro_f1-score': 0.11348372190717242, 'balanced_accuracy': 0.1711977255873817, 'mcc': 0.16105700881703658, 'train_loss': 1.7803342382724467}\n",
      "Epoch 7/20\n"
     ]
    },
    {
     "name": "stderr",
     "output_type": "stream",
     "text": [
      "100%|██████████| 1300/1300 [02:19<00:00,  9.31it/s]\n"
     ]
    },
    {
     "name": "stdout",
     "output_type": "stream",
     "text": [
      "{'val_loss': 2.620688079333887, 'val_accuracy': 0.3150266971777269, 'precision': 0.49129968415047, 'recall': 0.3150266971777269, 'f1-score': 0.36721897652367064, 'macro_f1-score': 0.15431956241781064, 'balanced_accuracy': 0.23746251716579772, 'mcc': 0.21804174368659515, 'train_loss': 1.7171746957302094}\n",
      "Epoch 8/20\n"
     ]
    },
    {
     "name": "stderr",
     "output_type": "stream",
     "text": [
      "100%|██████████| 1300/1300 [02:19<00:00,  9.31it/s]\n"
     ]
    },
    {
     "name": "stdout",
     "output_type": "stream",
     "text": [
      "{'val_loss': 2.7592208065637727, 'val_accuracy': 0.22578184591914569, 'precision': 0.4951891218504454, 'recall': 0.22578184591914569, 'f1-score': 0.27799539869542, 'macro_f1-score': 0.16592940319798818, 'balanced_accuracy': 0.2068624735491337, 'mcc': 0.18364545149326847, 'train_loss': 1.4158010109112813}\n",
      "Early stopping.\n",
      "\n",
      "[Fold 4]\n",
      "Label distribution after resampling:\n",
      "  label 0: 2000\n",
      "  label 1: 400\n",
      "  label 2: 400\n",
      "  label 3: 400\n",
      "  label 4: 400\n",
      "  label 5: 400\n",
      "  label 6: 400\n",
      "  label 7: 400\n",
      "  label 8: 400\n",
      "  label 9: 400\n",
      "  label 10: 400\n",
      "  label 11: 400\n",
      "  label 12: 400\n",
      "  label 13: 400\n",
      "  label 14: 400\n",
      "  label 15: 400\n",
      "  label 16: 400\n",
      "  label 17: 400\n",
      "  label 18: 400\n",
      "  label 19: 400\n",
      "  label 20: 400\n",
      "  label 21: 400\n",
      "  label 22: 400\n",
      "  label 23: 400\n",
      "  label 24: 400\n",
      "  label 25: 400\n",
      "  label 26: 400\n",
      "  label 27: 400\n",
      "  label 28: 400\n",
      "  label 29: 400\n",
      "  label 30: 400\n",
      "  label 31: 400\n",
      "  label 32: 400\n",
      "  label 33: 400\n",
      "  label 34: 400\n",
      "  label 35: 400\n",
      "  label 36: 400\n",
      "  label 37: 400\n",
      "  label 38: 400\n",
      "  label 39: 400\n",
      "  label 40: 400\n",
      "  label 41: 400\n",
      "  label 42: 400\n",
      "  label 43: 400\n",
      "  label 44: 400\n",
      "  label 45: 400\n",
      "  label 46: 400\n",
      "  label 47: 400\n",
      "model is microsoft/deberta-base lstm\n",
      "Epoch 1/20\n"
     ]
    },
    {
     "name": "stderr",
     "output_type": "stream",
     "text": [
      "100%|██████████| 1300/1300 [02:19<00:00,  9.29it/s]\n"
     ]
    },
    {
     "name": "stdout",
     "output_type": "stream",
     "text": [
      "{'val_loss': 2.9045181507017555, 'val_accuracy': 0.4652936689549962, 'precision': 0.22624035201745682, 'recall': 0.4652936689549962, 'f1-score': 0.3044483720637244, 'macro_f1-score': 0.013455090877007235, 'balanced_accuracy': 0.020563646170442287, 'mcc': 0.03839507825575834, 'train_loss': 3.6491542979387135}\n",
      "Epoch 2/20\n"
     ]
    },
    {
     "name": "stderr",
     "output_type": "stream",
     "text": [
      "100%|██████████| 1300/1300 [02:19<00:00,  9.29it/s]\n"
     ]
    },
    {
     "name": "stdout",
     "output_type": "stream",
     "text": [
      "{'val_loss': 3.048839310320412, 'val_accuracy': 0.45080091533180777, 'precision': 0.23260174904911746, 'recall': 0.45080091533180777, 'f1-score': 0.3059205969073674, 'macro_f1-score': 0.018527054765911235, 'balanced_accuracy': 0.051399483741716746, 'mcc': 0.0666179451873114, 'train_loss': 3.595971825489631}\n",
      "Epoch 3/20\n"
     ]
    },
    {
     "name": "stderr",
     "output_type": "stream",
     "text": [
      "100%|██████████| 1300/1300 [02:19<00:00,  9.29it/s]\n"
     ]
    },
    {
     "name": "stdout",
     "output_type": "stream",
     "text": [
      "{'val_loss': 3.0760320686712497, 'val_accuracy': 0.39893211289092295, 'precision': 0.2725821563719828, 'recall': 0.39893211289092295, 'f1-score': 0.3236166451117147, 'macro_f1-score': 0.02229123979350107, 'balanced_accuracy': 0.03316046828302121, 'mcc': 0.11238637552188896, 'train_loss': 3.5228274079469535}\n",
      "Epoch 4/20\n"
     ]
    },
    {
     "name": "stderr",
     "output_type": "stream",
     "text": [
      "100%|██████████| 1300/1300 [02:19<00:00,  9.29it/s]\n"
     ]
    },
    {
     "name": "stdout",
     "output_type": "stream",
     "text": [
      "{'val_loss': 3.1066582464590304, 'val_accuracy': 0.40427154843630814, 'precision': 0.26388672560964693, 'recall': 0.40427154843630814, 'f1-score': 0.3181145858247412, 'macro_f1-score': 0.022822333101061548, 'balanced_accuracy': 0.037954901152219306, 'mcc': 0.10273324442126967, 'train_loss': 3.4220852299836966}\n",
      "Epoch 5/20\n"
     ]
    },
    {
     "name": "stderr",
     "output_type": "stream",
     "text": [
      "100%|██████████| 1300/1300 [02:19<00:00,  9.29it/s]\n"
     ]
    },
    {
     "name": "stdout",
     "output_type": "stream",
     "text": [
      "{'val_loss': 3.2431323789968722, 'val_accuracy': 0.47139588100686497, 'precision': 0.2222140766302384, 'recall': 0.47139588100686497, 'f1-score': 0.302045261236125, 'macro_f1-score': 0.01334888543286677, 'balanced_accuracy': 0.020833333333333332, 'mcc': 0.0, 'train_loss': 3.502152198277987}\n",
      "Epoch 6/20\n"
     ]
    },
    {
     "name": "stderr",
     "output_type": "stream",
     "text": [
      "100%|██████████| 1300/1300 [02:19<00:00,  9.29it/s]\n"
     ]
    },
    {
     "name": "stdout",
     "output_type": "stream",
     "text": [
      "{'val_loss': 2.9674792202507576, 'val_accuracy': 0.4248665141113654, 'precision': 0.2657160217983455, 'recall': 0.4248665141113654, 'f1-score': 0.32600162127088417, 'macro_f1-score': 0.016370307953792528, 'balanced_accuracy': 0.028263214670981657, 'mcc': 0.12593669359854706, 'train_loss': 3.540467725717104}\n",
      "Epoch 7/20\n"
     ]
    },
    {
     "name": "stderr",
     "output_type": "stream",
     "text": [
      "100%|██████████| 1300/1300 [02:19<00:00,  9.29it/s]\n"
     ]
    },
    {
     "name": "stdout",
     "output_type": "stream",
     "text": [
      "{'val_loss': 2.870466162518757, 'val_accuracy': 0.4225781845919146, 'precision': 0.26807571904230526, 'recall': 0.4225781845919146, 'f1-score': 0.32738702588828505, 'macro_f1-score': 0.014831995710763995, 'balanced_accuracy': 0.03419970334412082, 'mcc': 0.134674919364273, 'train_loss': 3.411796794121082}\n",
      "Early stopping.\n",
      "\n",
      "[Fold 5]\n",
      "Label distribution after resampling:\n",
      "  label 0: 2000\n",
      "  label 1: 400\n",
      "  label 2: 400\n",
      "  label 3: 400\n",
      "  label 4: 400\n",
      "  label 5: 400\n",
      "  label 6: 400\n",
      "  label 7: 400\n",
      "  label 8: 400\n",
      "  label 9: 400\n",
      "  label 10: 400\n",
      "  label 11: 400\n",
      "  label 12: 400\n",
      "  label 13: 400\n",
      "  label 14: 400\n",
      "  label 15: 400\n",
      "  label 16: 400\n",
      "  label 17: 400\n",
      "  label 18: 400\n",
      "  label 19: 400\n",
      "  label 20: 400\n",
      "  label 21: 400\n",
      "  label 22: 400\n",
      "  label 23: 400\n",
      "  label 24: 400\n",
      "  label 25: 400\n",
      "  label 26: 400\n",
      "  label 27: 400\n",
      "  label 28: 400\n",
      "  label 29: 400\n",
      "  label 30: 400\n",
      "  label 31: 400\n",
      "  label 32: 400\n",
      "  label 33: 400\n",
      "  label 34: 400\n",
      "  label 35: 400\n",
      "  label 36: 400\n",
      "  label 37: 400\n",
      "  label 38: 400\n",
      "  label 39: 400\n",
      "  label 40: 400\n",
      "  label 41: 400\n",
      "  label 42: 400\n",
      "  label 43: 400\n",
      "  label 44: 400\n",
      "  label 45: 400\n",
      "  label 46: 400\n",
      "  label 47: 400\n",
      "model is microsoft/deberta-base lstm\n",
      "Epoch 1/20\n"
     ]
    },
    {
     "name": "stderr",
     "output_type": "stream",
     "text": [
      "100%|██████████| 1300/1300 [02:19<00:00,  9.29it/s]\n"
     ]
    },
    {
     "name": "stdout",
     "output_type": "stream",
     "text": [
      "{'val_loss': 2.4496130667081695, 'val_accuracy': 0.43401983218916856, 'precision': 0.4261459754406607, 'recall': 0.43401983218916856, 'f1-score': 0.42178835099792134, 'macro_f1-score': 0.08823205575930726, 'balanced_accuracy': 0.14363951411155626, 'mcc': 0.26550348878573277, 'train_loss': 3.2449321269989015}\n",
      "Epoch 2/20\n"
     ]
    },
    {
     "name": "stderr",
     "output_type": "stream",
     "text": [
      "100%|██████████| 1300/1300 [02:19<00:00,  9.29it/s]\n"
     ]
    },
    {
     "name": "stdout",
     "output_type": "stream",
     "text": [
      "{'val_loss': 2.551031810481374, 'val_accuracy': 0.3096872616323417, 'precision': 0.4558435500851744, 'recall': 0.3096872616323417, 'f1-score': 0.3557769606894561, 'macro_f1-score': 0.1061051781981147, 'balanced_accuracy': 0.17053400896061946, 'mcc': 0.19955357581893782, 'train_loss': 2.8051366674900056}\n",
      "Epoch 3/20\n"
     ]
    },
    {
     "name": "stderr",
     "output_type": "stream",
     "text": [
      "100%|██████████| 1300/1300 [02:19<00:00,  9.30it/s]\n"
     ]
    },
    {
     "name": "stdout",
     "output_type": "stream",
     "text": [
      "{'val_loss': 2.2736687645679567, 'val_accuracy': 0.41495041952707856, 'precision': 0.47880013188580844, 'recall': 0.41495041952707856, 'f1-score': 0.43190994847333974, 'macro_f1-score': 0.15752778749346094, 'balanced_accuracy': 0.21689602253931975, 'mcc': 0.2781165829756765, 'train_loss': 2.175552314611582}\n",
      "Epoch 4/20\n"
     ]
    },
    {
     "name": "stderr",
     "output_type": "stream",
     "text": [
      "100%|██████████| 1300/1300 [02:19<00:00,  9.29it/s]\n"
     ]
    },
    {
     "name": "stdout",
     "output_type": "stream",
     "text": [
      "{'val_loss': 2.2888052114626256, 'val_accuracy': 0.3890160183066362, 'precision': 0.5210978569019282, 'recall': 0.3890160183066362, 'f1-score': 0.42405425232338817, 'macro_f1-score': 0.19571908816246752, 'balanced_accuracy': 0.2734767215074229, 'mcc': 0.2750159826396177, 'train_loss': 1.7962204147302188}\n",
      "Epoch 5/20\n"
     ]
    },
    {
     "name": "stderr",
     "output_type": "stream",
     "text": [
      "100%|██████████| 1300/1300 [02:19<00:00,  9.29it/s]\n"
     ]
    },
    {
     "name": "stdout",
     "output_type": "stream",
     "text": [
      "{'val_loss': 2.0767872406215204, 'val_accuracy': 0.444698703279939, 'precision': 0.5042535031379691, 'recall': 0.444698703279939, 'f1-score': 0.46076738428525105, 'macro_f1-score': 0.2161193700356414, 'balanced_accuracy': 0.2475871179861259, 'mcc': 0.3093449524972531, 'train_loss': 1.3554484471907982}\n",
      "Epoch 6/20\n"
     ]
    },
    {
     "name": "stderr",
     "output_type": "stream",
     "text": [
      "100%|██████████| 1300/1300 [02:19<00:00,  9.30it/s]\n"
     ]
    },
    {
     "name": "stdout",
     "output_type": "stream",
     "text": [
      "{'val_loss': 2.1154412881630225, 'val_accuracy': 0.47139588100686497, 'precision': 0.5424324300924054, 'recall': 0.47139588100686497, 'f1-score': 0.49288497551488475, 'macro_f1-score': 0.249825571680072, 'balanced_accuracy': 0.2777017322423647, 'mcc': 0.34916648992039606, 'train_loss': 1.1605479083152919}\n",
      "Epoch 7/20\n"
     ]
    },
    {
     "name": "stderr",
     "output_type": "stream",
     "text": [
      "100%|██████████| 1300/1300 [02:19<00:00,  9.29it/s]\n"
     ]
    },
    {
     "name": "stdout",
     "output_type": "stream",
     "text": [
      "{'val_loss': 2.246845311507946, 'val_accuracy': 0.4416475972540046, 'precision': 0.5554620234756638, 'recall': 0.4416475972540046, 'f1-score': 0.476825066317762, 'macro_f1-score': 0.2478218482651543, 'balanced_accuracy': 0.2831250939011035, 'mcc': 0.3287680954442462, 'train_loss': 0.8996545093334638}\n",
      "Epoch 8/20\n"
     ]
    },
    {
     "name": "stderr",
     "output_type": "stream",
     "text": [
      "100%|██████████| 1300/1300 [02:19<00:00,  9.29it/s]\n"
     ]
    },
    {
     "name": "stdout",
     "output_type": "stream",
     "text": [
      "{'val_loss': 2.006524384748645, 'val_accuracy': 0.5125858123569794, 'precision': 0.5669592046869708, 'recall': 0.5125858123569794, 'f1-score': 0.5297230201551578, 'macro_f1-score': 0.26886163917442285, 'balanced_accuracy': 0.2779761551222477, 'mcc': 0.3844407419334806, 'train_loss': 0.7863921459248433}\n",
      "Epoch 9/20\n"
     ]
    },
    {
     "name": "stderr",
     "output_type": "stream",
     "text": [
      "100%|██████████| 1300/1300 [02:20<00:00,  9.28it/s]\n"
     ]
    },
    {
     "name": "stdout",
     "output_type": "stream",
     "text": [
      "{'val_loss': 2.0120201365249915, 'val_accuracy': 0.5530129672006102, 'precision': 0.5852209253764102, 'recall': 0.5530129672006102, 'f1-score': 0.5592669382019902, 'macro_f1-score': 0.3124705046759751, 'balanced_accuracy': 0.33140122603037014, 'mcc': 0.42997429320850583, 'train_loss': 0.6431182313825076}\n",
      "Epoch 10/20\n"
     ]
    },
    {
     "name": "stderr",
     "output_type": "stream",
     "text": [
      "100%|██████████| 1300/1300 [02:19<00:00,  9.30it/s]\n"
     ]
    },
    {
     "name": "stdout",
     "output_type": "stream",
     "text": [
      "{'val_loss': 2.1831915880121837, 'val_accuracy': 0.509534706331045, 'precision': 0.577425963295296, 'recall': 0.509534706331045, 'f1-score': 0.5311111282359536, 'macro_f1-score': 0.29215780196087987, 'balanced_accuracy': 0.31108651206299354, 'mcc': 0.3916557839430645, 'train_loss': 0.6165804172192628}\n",
      "Epoch 11/20\n"
     ]
    },
    {
     "name": "stderr",
     "output_type": "stream",
     "text": [
      "100%|██████████| 1300/1300 [02:19<00:00,  9.29it/s]\n"
     ]
    },
    {
     "name": "stdout",
     "output_type": "stream",
     "text": [
      "{'val_loss': 2.174717855162737, 'val_accuracy': 0.5156369183829138, 'precision': 0.5783845399204496, 'recall': 0.5156369183829138, 'f1-score': 0.5377575335645967, 'macro_f1-score': 0.30461651993361966, 'balanced_accuracy': 0.32134693950549437, 'mcc': 0.3965862655855995, 'train_loss': 0.4917715593828605}\n",
      "Epoch 12/20\n"
     ]
    },
    {
     "name": "stderr",
     "output_type": "stream",
     "text": [
      "100%|██████████| 1300/1300 [02:19<00:00,  9.29it/s]\n"
     ]
    },
    {
     "name": "stdout",
     "output_type": "stream",
     "text": [
      "{'val_loss': 2.3004312976831343, 'val_accuracy': 0.482837528604119, 'precision': 0.5697407859534149, 'recall': 0.482837528604119, 'f1-score': 0.5084104002454115, 'macro_f1-score': 0.2884171483155192, 'balanced_accuracy': 0.32600363747229877, 'mcc': 0.3791610481073122, 'train_loss': 0.43615230325896004}\n",
      "Early stopping.\n",
      "\n",
      " === microsoft/deberta-base + lstm + ros Final 5-fold Cross-Validation Results ===\n",
      "val_loss: 2.5423\n",
      "val_accuracy: 0.4620\n",
      "precision: 0.4348\n",
      "recall: 0.4620\n",
      "f1-score: 0.4235\n",
      "macro_f1-score: 0.1726\n",
      "balanced_accuracy: 0.2055\n",
      "mcc: 0.2379\n",
      "train_loss: 2.0002\n",
      "total_seconds: 5746.0000\n",
      "total_time: 1 hrs 35 mins 46 secs\n",
      "▶ Running: microsoft/deberta-base + bilstm + ros\n",
      "tokenizer is microsoft/deberta-base\n",
      "Using device: cuda\n",
      "CUDA Available: True\n",
      "CUDA Device: NVIDIA GeForce RTX 5070 Ti\n",
      "Current GPU Memory Allocated: 0.02 GB\n",
      "Current GPU Memory Cached: 5.28 GB\n",
      "\n",
      "[Fold 1]\n",
      "Label distribution after resampling:\n",
      "  label 0: 2000\n",
      "  label 1: 400\n",
      "  label 2: 400\n",
      "  label 3: 400\n",
      "  label 4: 400\n",
      "  label 5: 400\n",
      "  label 6: 400\n",
      "  label 7: 400\n",
      "  label 8: 400\n",
      "  label 9: 400\n",
      "  label 10: 400\n",
      "  label 11: 400\n",
      "  label 12: 400\n",
      "  label 13: 400\n",
      "  label 14: 400\n",
      "  label 15: 400\n",
      "  label 16: 400\n",
      "  label 17: 400\n",
      "  label 18: 400\n",
      "  label 19: 400\n",
      "  label 20: 400\n",
      "  label 21: 400\n",
      "  label 22: 400\n",
      "  label 23: 400\n",
      "  label 24: 400\n",
      "  label 25: 400\n",
      "  label 26: 400\n",
      "  label 27: 400\n",
      "  label 28: 400\n",
      "  label 29: 400\n",
      "  label 30: 400\n",
      "  label 31: 400\n",
      "  label 32: 400\n",
      "  label 33: 400\n",
      "  label 34: 400\n",
      "  label 35: 400\n",
      "  label 36: 400\n",
      "  label 37: 400\n",
      "  label 38: 400\n",
      "  label 39: 400\n",
      "  label 40: 400\n",
      "  label 41: 400\n",
      "  label 42: 400\n",
      "  label 43: 400\n",
      "  label 44: 400\n",
      "  label 45: 400\n",
      "  label 46: 400\n",
      "  label 47: 400\n",
      "model is microsoft/deberta-base bilstm\n",
      "Epoch 1/20\n"
     ]
    },
    {
     "name": "stderr",
     "output_type": "stream",
     "text": [
      "100%|██████████| 1300/1300 [02:23<00:00,  9.07it/s]\n"
     ]
    },
    {
     "name": "stdout",
     "output_type": "stream",
     "text": [
      "{'val_loss': 2.3832886567929896, 'val_accuracy': 0.4192073170731707, 'precision': 0.42519278327866666, 'recall': 0.4192073170731707, 'f1-score': 0.4057530631481317, 'macro_f1-score': 0.10183833778646938, 'balanced_accuracy': 0.18315742247572087, 'mcc': 0.2459373547540273, 'train_loss': 3.081023908303334}\n",
      "Epoch 2/20\n"
     ]
    },
    {
     "name": "stderr",
     "output_type": "stream",
     "text": [
      "100%|██████████| 1300/1300 [02:23<00:00,  9.05it/s]\n"
     ]
    },
    {
     "name": "stdout",
     "output_type": "stream",
     "text": [
      "{'val_loss': 2.017458232801135, 'val_accuracy': 0.45121951219512196, 'precision': 0.4296583298704172, 'recall': 0.45121951219512196, 'f1-score': 0.41706772593087105, 'macro_f1-score': 0.16085835589702394, 'balanced_accuracy': 0.20563336516546596, 'mcc': 0.25874953638636, 'train_loss': 2.0256392307464894}\n",
      "Epoch 3/20\n"
     ]
    },
    {
     "name": "stderr",
     "output_type": "stream",
     "text": [
      "100%|██████████| 1300/1300 [02:23<00:00,  9.06it/s]\n"
     ]
    },
    {
     "name": "stdout",
     "output_type": "stream",
     "text": [
      "{'val_loss': 2.0054041626976757, 'val_accuracy': 0.4817073170731707, 'precision': 0.5180705525067801, 'recall': 0.4817073170731707, 'f1-score': 0.47696988433991333, 'macro_f1-score': 0.22301649543837287, 'balanced_accuracy': 0.24004631328212622, 'mcc': 0.3245039174973428, 'train_loss': 1.3160962072473306}\n",
      "Epoch 4/20\n"
     ]
    },
    {
     "name": "stderr",
     "output_type": "stream",
     "text": [
      "100%|██████████| 1300/1300 [02:23<00:00,  9.05it/s]\n"
     ]
    },
    {
     "name": "stdout",
     "output_type": "stream",
     "text": [
      "{'val_loss': 1.8779686158750115, 'val_accuracy': 0.5480182926829268, 'precision': 0.5893651558552432, 'recall': 0.5480182926829268, 'f1-score': 0.5554086464812402, 'macro_f1-score': 0.3193744653873808, 'balanced_accuracy': 0.35933745170099257, 'mcc': 0.42032711423956265, 'train_loss': 0.8683117928527869}\n",
      "Epoch 5/20\n"
     ]
    },
    {
     "name": "stderr",
     "output_type": "stream",
     "text": [
      "100%|██████████| 1300/1300 [02:23<00:00,  9.07it/s]\n"
     ]
    },
    {
     "name": "stdout",
     "output_type": "stream",
     "text": [
      "{'val_loss': 1.9908164390703527, 'val_accuracy': 0.5571646341463414, 'precision': 0.5970402727708498, 'recall': 0.5571646341463414, 'f1-score': 0.5663493123380865, 'macro_f1-score': 0.3329911557298744, 'balanced_accuracy': 0.37482109155183224, 'mcc': 0.4386947499719444, 'train_loss': 0.581585939211341}\n",
      "Epoch 6/20\n"
     ]
    },
    {
     "name": "stderr",
     "output_type": "stream",
     "text": [
      "100%|██████████| 1300/1300 [02:23<00:00,  9.07it/s]\n"
     ]
    },
    {
     "name": "stdout",
     "output_type": "stream",
     "text": [
      "{'val_loss': 1.9318614405829733, 'val_accuracy': 0.5792682926829268, 'precision': 0.608040711955929, 'recall': 0.5792682926829268, 'f1-score': 0.5798336474501274, 'macro_f1-score': 0.34497985485347016, 'balanced_accuracy': 0.35355694421893963, 'mcc': 0.4511551036754938, 'train_loss': 0.43226325279818134}\n",
      "Epoch 7/20\n"
     ]
    },
    {
     "name": "stderr",
     "output_type": "stream",
     "text": [
      "100%|██████████| 1300/1300 [02:23<00:00,  9.06it/s]\n"
     ]
    },
    {
     "name": "stdout",
     "output_type": "stream",
     "text": [
      "{'val_loss': 1.9912826636942422, 'val_accuracy': 0.5724085365853658, 'precision': 0.6012934994233895, 'recall': 0.5724085365853658, 'f1-score': 0.5780467715792303, 'macro_f1-score': 0.34882826387786753, 'balanced_accuracy': 0.3734975116558443, 'mcc': 0.44899946331934704, 'train_loss': 0.3698167574004485}\n",
      "Epoch 8/20\n"
     ]
    },
    {
     "name": "stderr",
     "output_type": "stream",
     "text": [
      "100%|██████████| 1300/1300 [02:23<00:00,  9.08it/s]\n"
     ]
    },
    {
     "name": "stdout",
     "output_type": "stream",
     "text": [
      "{'val_loss': 2.163791884736317, 'val_accuracy': 0.5960365853658537, 'precision': 0.6169024466057701, 'recall': 0.5960365853658537, 'f1-score': 0.5968740541483422, 'macro_f1-score': 0.38721564486856236, 'balanced_accuracy': 0.39878596780149483, 'mcc': 0.4721657497449645, 'train_loss': 0.24504029280577716}\n",
      "Epoch 9/20\n"
     ]
    },
    {
     "name": "stderr",
     "output_type": "stream",
     "text": [
      "100%|██████████| 1300/1300 [02:23<00:00,  9.04it/s]\n"
     ]
    },
    {
     "name": "stdout",
     "output_type": "stream",
     "text": [
      "{'val_loss': 2.0444298346595065, 'val_accuracy': 0.6059451219512195, 'precision': 0.600699049490615, 'recall': 0.6059451219512195, 'f1-score': 0.5952778022360108, 'macro_f1-score': 0.3606457978133479, 'balanced_accuracy': 0.38250492594043095, 'mcc': 0.47577432333565206, 'train_loss': 0.24395563649013638}\n",
      "Epoch 10/20\n"
     ]
    },
    {
     "name": "stderr",
     "output_type": "stream",
     "text": [
      "100%|██████████| 1300/1300 [02:23<00:00,  9.05it/s]\n"
     ]
    },
    {
     "name": "stdout",
     "output_type": "stream",
     "text": [
      "{'val_loss': 2.142369663569985, 'val_accuracy': 0.5975609756097561, 'precision': 0.6022556532976626, 'recall': 0.5975609756097561, 'f1-score': 0.5932010288770151, 'macro_f1-score': 0.3655479628565452, 'balanced_accuracy': 0.3754646699953512, 'mcc': 0.47379049231813125, 'train_loss': 0.1980215427093208}\n",
      "Epoch 11/20\n"
     ]
    },
    {
     "name": "stderr",
     "output_type": "stream",
     "text": [
      "100%|██████████| 1300/1300 [02:23<00:00,  9.08it/s]\n"
     ]
    },
    {
     "name": "stdout",
     "output_type": "stream",
     "text": [
      "{'val_loss': 2.353100241684332, 'val_accuracy': 0.5525914634146342, 'precision': 0.5892341413838564, 'recall': 0.5525914634146342, 'f1-score': 0.5617548747225611, 'macro_f1-score': 0.33028351555412216, 'balanced_accuracy': 0.35433503889797696, 'mcc': 0.4364335027183362, 'train_loss': 0.1909731820068107}\n",
      "Early stopping.\n",
      "\n",
      "[Fold 2]\n",
      "Label distribution after resampling:\n",
      "  label 0: 2000\n",
      "  label 1: 400\n",
      "  label 2: 400\n",
      "  label 3: 400\n",
      "  label 4: 400\n",
      "  label 5: 400\n",
      "  label 6: 400\n",
      "  label 7: 400\n",
      "  label 8: 400\n",
      "  label 9: 400\n",
      "  label 10: 400\n",
      "  label 11: 400\n",
      "  label 12: 400\n",
      "  label 13: 400\n",
      "  label 14: 400\n",
      "  label 15: 400\n",
      "  label 16: 400\n",
      "  label 17: 400\n",
      "  label 18: 400\n",
      "  label 19: 400\n",
      "  label 20: 400\n",
      "  label 21: 400\n",
      "  label 22: 400\n",
      "  label 23: 400\n",
      "  label 24: 400\n",
      "  label 25: 400\n",
      "  label 26: 400\n",
      "  label 27: 400\n",
      "  label 28: 400\n",
      "  label 29: 400\n",
      "  label 30: 400\n",
      "  label 31: 400\n",
      "  label 32: 400\n",
      "  label 33: 400\n",
      "  label 34: 400\n",
      "  label 35: 400\n",
      "  label 36: 400\n",
      "  label 37: 400\n",
      "  label 38: 400\n",
      "  label 39: 400\n",
      "  label 40: 400\n",
      "  label 41: 400\n",
      "  label 42: 400\n",
      "  label 43: 400\n",
      "  label 44: 400\n",
      "  label 45: 400\n",
      "  label 46: 400\n",
      "  label 47: 400\n",
      "model is microsoft/deberta-base bilstm\n",
      "Epoch 1/20\n"
     ]
    },
    {
     "name": "stderr",
     "output_type": "stream",
     "text": [
      "100%|██████████| 1300/1300 [02:23<00:00,  9.06it/s]\n"
     ]
    },
    {
     "name": "stdout",
     "output_type": "stream",
     "text": [
      "{'val_loss': 2.8925813610960796, 'val_accuracy': 0.41495041952707856, 'precision': 0.30366657450015055, 'recall': 0.41495041952707856, 'f1-score': 0.34182703552550703, 'macro_f1-score': 0.03357272215373845, 'balanced_accuracy': 0.054879139111673934, 'mcc': 0.16850331924810588, 'train_loss': 3.4093981981277466}\n",
      "Epoch 2/20\n"
     ]
    },
    {
     "name": "stderr",
     "output_type": "stream",
     "text": [
      "100%|██████████| 1300/1300 [02:23<00:00,  9.06it/s]\n"
     ]
    },
    {
     "name": "stdout",
     "output_type": "stream",
     "text": [
      "{'val_loss': 2.6082026885776983, 'val_accuracy': 0.42105263157894735, 'precision': 0.3165836741066818, 'recall': 0.42105263157894735, 'f1-score': 0.355540121890208, 'macro_f1-score': 0.03920891572275972, 'balanced_accuracy': 0.12055353290183386, 'mcc': 0.19976239828516212, 'train_loss': 3.1261258563628562}\n",
      "Epoch 3/20\n"
     ]
    },
    {
     "name": "stderr",
     "output_type": "stream",
     "text": [
      "100%|██████████| 1300/1300 [02:23<00:00,  9.06it/s]\n"
     ]
    },
    {
     "name": "stdout",
     "output_type": "stream",
     "text": [
      "{'val_loss': 2.6195313174550128, 'val_accuracy': 0.33867276887871856, 'precision': 0.3281801068769134, 'recall': 0.33867276887871856, 'f1-score': 0.32876637845506945, 'macro_f1-score': 0.04425847711758402, 'balanced_accuracy': 0.09257081343800423, 'mcc': 0.14947521724794124, 'train_loss': 2.748394104700822}\n",
      "Epoch 4/20\n"
     ]
    },
    {
     "name": "stderr",
     "output_type": "stream",
     "text": [
      "100%|██████████| 1300/1300 [02:23<00:00,  9.06it/s]\n"
     ]
    },
    {
     "name": "stdout",
     "output_type": "stream",
     "text": [
      "{'val_loss': 2.556743275828478, 'val_accuracy': 0.30434782608695654, 'precision': 0.3379324824801012, 'recall': 0.30434782608695654, 'f1-score': 0.31432579057570853, 'macro_f1-score': 0.05196677445034812, 'balanced_accuracy': 0.09371601547724119, 'mcc': 0.14078221767976046, 'train_loss': 2.439939227746083}\n",
      "Epoch 5/20\n"
     ]
    },
    {
     "name": "stderr",
     "output_type": "stream",
     "text": [
      "100%|██████████| 1300/1300 [02:23<00:00,  9.06it/s]\n"
     ]
    },
    {
     "name": "stdout",
     "output_type": "stream",
     "text": [
      "{'val_loss': 2.4754427685970213, 'val_accuracy': 0.39588100686498856, 'precision': 0.4211134386194482, 'recall': 0.39588100686498856, 'f1-score': 0.38834345205799176, 'macro_f1-score': 0.0882209946142828, 'balanced_accuracy': 0.144189298396638, 'mcc': 0.22460881831655222, 'train_loss': 2.4324737751483916}\n",
      "Epoch 6/20\n"
     ]
    },
    {
     "name": "stderr",
     "output_type": "stream",
     "text": [
      "100%|██████████| 1300/1300 [02:23<00:00,  9.07it/s]\n"
     ]
    },
    {
     "name": "stdout",
     "output_type": "stream",
     "text": [
      "{'val_loss': 2.423193261390779, 'val_accuracy': 0.39435545385202136, 'precision': 0.40687142494402384, 'recall': 0.39435545385202136, 'f1-score': 0.37746768757228294, 'macro_f1-score': 0.06945459501820096, 'balanced_accuracy': 0.1141870029011771, 'mcc': 0.2034843136676263, 'train_loss': 2.109473366645666}\n",
      "Epoch 7/20\n"
     ]
    },
    {
     "name": "stderr",
     "output_type": "stream",
     "text": [
      "100%|██████████| 1300/1300 [02:23<00:00,  9.07it/s]\n"
     ]
    },
    {
     "name": "stdout",
     "output_type": "stream",
     "text": [
      "{'val_loss': 2.4621567827899282, 'val_accuracy': 0.32799389778794813, 'precision': 0.39850327164745986, 'recall': 0.32799389778794813, 'f1-score': 0.34890202360331524, 'macro_f1-score': 0.09041032164039357, 'balanced_accuracy': 0.16548788519402913, 'mcc': 0.18576543441699883, 'train_loss': 1.9378282101337727}\n",
      "Epoch 8/20\n"
     ]
    },
    {
     "name": "stderr",
     "output_type": "stream",
     "text": [
      "100%|██████████| 1300/1300 [02:23<00:00,  9.05it/s]\n"
     ]
    },
    {
     "name": "stdout",
     "output_type": "stream",
     "text": [
      "{'val_loss': 2.7512782463213292, 'val_accuracy': 0.2982456140350877, 'precision': 0.3559076816086876, 'recall': 0.2982456140350877, 'f1-score': 0.31503012815147574, 'macro_f1-score': 0.074920627470694, 'balanced_accuracy': 0.12940495866642107, 'mcc': 0.14881103606604346, 'train_loss': 1.864024701301868}\n",
      "Epoch 9/20\n"
     ]
    },
    {
     "name": "stderr",
     "output_type": "stream",
     "text": [
      "100%|██████████| 1300/1300 [02:23<00:00,  9.06it/s]\n"
     ]
    },
    {
     "name": "stdout",
     "output_type": "stream",
     "text": [
      "{'val_loss': 2.3859772972944304, 'val_accuracy': 0.406559877955759, 'precision': 0.47399850598873045, 'recall': 0.406559877955759, 'f1-score': 0.41907584486936666, 'macro_f1-score': 0.13908486424001007, 'balanced_accuracy': 0.21537129012439174, 'mcc': 0.25520433560201367, 'train_loss': 1.8163721372072514}\n",
      "Epoch 10/20\n"
     ]
    },
    {
     "name": "stderr",
     "output_type": "stream",
     "text": [
      "100%|██████████| 1300/1300 [02:23<00:00,  9.06it/s]\n"
     ]
    },
    {
     "name": "stdout",
     "output_type": "stream",
     "text": [
      "{'val_loss': 2.446989372009184, 'val_accuracy': 0.32570556826849734, 'precision': 0.45732396885358123, 'recall': 0.32570556826849734, 'f1-score': 0.3625242604387666, 'macro_f1-score': 0.1273144553631584, 'balanced_accuracy': 0.1983130507694244, 'mcc': 0.20617653623115975, 'train_loss': 1.64060495867179}\n",
      "Epoch 11/20\n"
     ]
    },
    {
     "name": "stderr",
     "output_type": "stream",
     "text": [
      "100%|██████████| 1300/1300 [02:23<00:00,  9.05it/s]\n"
     ]
    },
    {
     "name": "stdout",
     "output_type": "stream",
     "text": [
      "{'val_loss': 2.5053761819513833, 'val_accuracy': 0.36765827612509533, 'precision': 0.41970003649130666, 'recall': 0.36765827612509533, 'f1-score': 0.3811159046525043, 'macro_f1-score': 0.10557264288934702, 'balanced_accuracy': 0.14392081179000585, 'mcc': 0.2079833450343722, 'train_loss': 1.6888429473455135}\n",
      "Epoch 12/20\n"
     ]
    },
    {
     "name": "stderr",
     "output_type": "stream",
     "text": [
      "100%|██████████| 1300/1300 [02:23<00:00,  9.06it/s]\n"
     ]
    },
    {
     "name": "stdout",
     "output_type": "stream",
     "text": [
      "{'val_loss': 2.640213459003262, 'val_accuracy': 0.26926010678871093, 'precision': 0.46026420248416017, 'recall': 0.26926010678871093, 'f1-score': 0.3123614161262496, 'macro_f1-score': 0.11095233485181837, 'balanced_accuracy': 0.16924165183167963, 'mcc': 0.1633056875219908, 'train_loss': 2.1826552075606127}\n",
      "Early stopping.\n",
      "\n",
      "[Fold 3]\n",
      "Label distribution after resampling:\n",
      "  label 0: 2000\n",
      "  label 1: 400\n",
      "  label 2: 400\n",
      "  label 3: 400\n",
      "  label 4: 400\n",
      "  label 5: 400\n",
      "  label 6: 400\n",
      "  label 7: 400\n",
      "  label 8: 400\n",
      "  label 9: 400\n",
      "  label 10: 400\n",
      "  label 11: 400\n",
      "  label 12: 400\n",
      "  label 13: 400\n",
      "  label 14: 400\n",
      "  label 15: 400\n",
      "  label 16: 400\n",
      "  label 17: 400\n",
      "  label 18: 400\n",
      "  label 19: 400\n",
      "  label 20: 400\n",
      "  label 21: 400\n",
      "  label 22: 400\n",
      "  label 23: 400\n",
      "  label 24: 400\n",
      "  label 25: 400\n",
      "  label 26: 400\n",
      "  label 27: 400\n",
      "  label 28: 400\n",
      "  label 29: 400\n",
      "  label 30: 400\n",
      "  label 31: 400\n",
      "  label 32: 400\n",
      "  label 33: 400\n",
      "  label 34: 400\n",
      "  label 35: 400\n",
      "  label 36: 400\n",
      "  label 37: 400\n",
      "  label 38: 400\n",
      "  label 39: 400\n",
      "  label 40: 400\n",
      "  label 41: 400\n",
      "  label 42: 400\n",
      "  label 43: 400\n",
      "  label 44: 400\n",
      "  label 45: 400\n",
      "  label 46: 400\n",
      "  label 47: 400\n",
      "model is microsoft/deberta-base bilstm\n",
      "Epoch 1/20\n"
     ]
    },
    {
     "name": "stderr",
     "output_type": "stream",
     "text": [
      "100%|██████████| 1300/1300 [02:23<00:00,  9.05it/s]\n"
     ]
    },
    {
     "name": "stdout",
     "output_type": "stream",
     "text": [
      "{'val_loss': 2.8473535863364616, 'val_accuracy': 0.42028985507246375, 'precision': 0.2885643887635887, 'recall': 0.42028985507246375, 'f1-score': 0.3397035288637119, 'macro_f1-score': 0.017151466588966588, 'balanced_accuracy': 0.04238892259978425, 'mcc': 0.16282146229271377, 'train_loss': 3.5673121433991652}\n",
      "Epoch 2/20\n"
     ]
    },
    {
     "name": "stderr",
     "output_type": "stream",
     "text": [
      "100%|██████████| 1300/1300 [02:23<00:00,  9.06it/s]\n"
     ]
    },
    {
     "name": "stdout",
     "output_type": "stream",
     "text": [
      "{'val_loss': 2.813574286495767, 'val_accuracy': 0.41647597254004576, 'precision': 0.29074545796807233, 'recall': 0.41647597254004576, 'f1-score': 0.3401929472058974, 'macro_f1-score': 0.01879352241858909, 'balanced_accuracy': 0.04931839780140751, 'mcc': 0.1623854267571215, 'train_loss': 3.517320158481598}\n",
      "Epoch 3/20\n"
     ]
    },
    {
     "name": "stderr",
     "output_type": "stream",
     "text": [
      "100%|██████████| 1300/1300 [02:23<00:00,  9.06it/s]\n"
     ]
    },
    {
     "name": "stdout",
     "output_type": "stream",
     "text": [
      "{'val_loss': 2.902235599552713, 'val_accuracy': 0.36689549961861173, 'precision': 0.3269461352984406, 'recall': 0.36689549961861173, 'f1-score': 0.33795654373297945, 'macro_f1-score': 0.04280098283586977, 'balanced_accuracy': 0.07106393781332712, 'mcc': 0.147371195575351, 'train_loss': 3.338718312520247}\n",
      "Epoch 4/20\n"
     ]
    },
    {
     "name": "stderr",
     "output_type": "stream",
     "text": [
      "100%|██████████| 1300/1300 [02:23<00:00,  9.06it/s]\n"
     ]
    },
    {
     "name": "stdout",
     "output_type": "stream",
     "text": [
      "{'val_loss': 3.213360937630258, 'val_accuracy': 0.2341723874904653, 'precision': 0.33233404507659126, 'recall': 0.2341723874904653, 'f1-score': 0.26382475656792914, 'macro_f1-score': 0.04783490580166518, 'balanced_accuracy': 0.06261325836844801, 'mcc': 0.09813194273255957, 'train_loss': 3.213090802156008}\n",
      "Epoch 5/20\n"
     ]
    },
    {
     "name": "stderr",
     "output_type": "stream",
     "text": [
      "100%|██████████| 1300/1300 [02:23<00:00,  9.06it/s]\n"
     ]
    },
    {
     "name": "stdout",
     "output_type": "stream",
     "text": [
      "{'val_loss': 3.03296089753872, 'val_accuracy': 0.4744469870327994, 'precision': 0.24853477331265192, 'recall': 0.4744469870327994, 'f1-score': 0.3252334771244626, 'macro_f1-score': 0.027653304312379154, 'balanced_accuracy': 0.04405616193290318, 'mcc': 0.11739471785745538, 'train_loss': 3.649459911126357}\n",
      "Epoch 6/20\n"
     ]
    },
    {
     "name": "stderr",
     "output_type": "stream",
     "text": [
      "100%|██████████| 1300/1300 [02:23<00:00,  9.07it/s]\n"
     ]
    },
    {
     "name": "stdout",
     "output_type": "stream",
     "text": [
      "{'val_loss': 3.222129376923166, 'val_accuracy': 0.47139588100686497, 'precision': 0.2222140766302384, 'recall': 0.47139588100686497, 'f1-score': 0.302045261236125, 'macro_f1-score': 0.01334888543286677, 'balanced_accuracy': 0.020833333333333332, 'mcc': 0.0, 'train_loss': 3.779058165183434}\n",
      "Epoch 7/20\n"
     ]
    },
    {
     "name": "stderr",
     "output_type": "stream",
     "text": [
      "100%|██████████| 1300/1300 [02:23<00:00,  9.06it/s]\n"
     ]
    },
    {
     "name": "stdout",
     "output_type": "stream",
     "text": [
      "{'val_loss': 3.1743268530543256, 'val_accuracy': 0.47139588100686497, 'precision': 0.2222140766302384, 'recall': 0.47139588100686497, 'f1-score': 0.302045261236125, 'macro_f1-score': 0.01334888543286677, 'balanced_accuracy': 0.020833333333333332, 'mcc': 0.0, 'train_loss': 3.804480952666356}\n",
      "Early stopping.\n",
      "\n",
      "[Fold 4]\n",
      "Label distribution after resampling:\n",
      "  label 0: 2000\n",
      "  label 1: 400\n",
      "  label 2: 400\n",
      "  label 3: 400\n",
      "  label 4: 400\n",
      "  label 5: 400\n",
      "  label 6: 400\n",
      "  label 7: 400\n",
      "  label 8: 400\n",
      "  label 9: 400\n",
      "  label 10: 400\n",
      "  label 11: 400\n",
      "  label 12: 400\n",
      "  label 13: 400\n",
      "  label 14: 400\n",
      "  label 15: 400\n",
      "  label 16: 400\n",
      "  label 17: 400\n",
      "  label 18: 400\n",
      "  label 19: 400\n",
      "  label 20: 400\n",
      "  label 21: 400\n",
      "  label 22: 400\n",
      "  label 23: 400\n",
      "  label 24: 400\n",
      "  label 25: 400\n",
      "  label 26: 400\n",
      "  label 27: 400\n",
      "  label 28: 400\n",
      "  label 29: 400\n",
      "  label 30: 400\n",
      "  label 31: 400\n",
      "  label 32: 400\n",
      "  label 33: 400\n",
      "  label 34: 400\n",
      "  label 35: 400\n",
      "  label 36: 400\n",
      "  label 37: 400\n",
      "  label 38: 400\n",
      "  label 39: 400\n",
      "  label 40: 400\n",
      "  label 41: 400\n",
      "  label 42: 400\n",
      "  label 43: 400\n",
      "  label 44: 400\n",
      "  label 45: 400\n",
      "  label 46: 400\n",
      "  label 47: 400\n",
      "model is microsoft/deberta-base bilstm\n",
      "Epoch 1/20\n"
     ]
    },
    {
     "name": "stderr",
     "output_type": "stream",
     "text": [
      "100%|██████████| 1300/1300 [02:23<00:00,  9.06it/s]\n"
     ]
    },
    {
     "name": "stdout",
     "output_type": "stream",
     "text": [
      "{'val_loss': 3.011433598471851, 'val_accuracy': 0.4607170099160946, 'precision': 0.2269068786065836, 'recall': 0.4607170099160946, 'f1-score': 0.3035022316340561, 'macro_f1-score': 0.016799143130954392, 'balanced_accuracy': 0.038016258283248575, 'mcc': 0.04722641151537384, 'train_loss': 3.773686659702888}\n",
      "Epoch 2/20\n"
     ]
    },
    {
     "name": "stderr",
     "output_type": "stream",
     "text": [
      "100%|██████████| 1300/1300 [02:23<00:00,  9.07it/s]\n"
     ]
    },
    {
     "name": "stdout",
     "output_type": "stream",
     "text": [
      "{'val_loss': 2.9722685203319643, 'val_accuracy': 0.4660564454614798, 'precision': 0.2557312083005312, 'recall': 0.4660564454614798, 'f1-score': 0.3160973498268167, 'macro_f1-score': 0.025254001721207096, 'balanced_accuracy': 0.048516469342767356, 'mcc': 0.08166307553012653, 'train_loss': 3.6869998022226187}\n",
      "Epoch 3/20\n"
     ]
    },
    {
     "name": "stderr",
     "output_type": "stream",
     "text": [
      "100%|██████████| 1300/1300 [02:23<00:00,  9.05it/s]\n"
     ]
    },
    {
     "name": "stdout",
     "output_type": "stream",
     "text": [
      "{'val_loss': 3.1613141603586152, 'val_accuracy': 0.47139588100686497, 'precision': 0.2222140766302384, 'recall': 0.47139588100686497, 'f1-score': 0.302045261236125, 'macro_f1-score': 0.01334888543286677, 'balanced_accuracy': 0.020833333333333332, 'mcc': 0.0, 'train_loss': 3.6102095284828772}\n",
      "Epoch 4/20\n"
     ]
    },
    {
     "name": "stderr",
     "output_type": "stream",
     "text": [
      "100%|██████████| 1300/1300 [02:23<00:00,  9.07it/s]\n"
     ]
    },
    {
     "name": "stdout",
     "output_type": "stream",
     "text": [
      "{'val_loss': 3.710356223873976, 'val_accuracy': 0.002288329519450801, 'precision': 5.236451989589934e-06, 'recall': 0.002288329519450801, 'f1-score': 1.0448993239501373e-05, 'macro_f1-score': 9.512937595129375e-05, 'balanced_accuracy': 0.020833333333333332, 'mcc': 0.0, 'train_loss': 3.6428929825929495}\n",
      "Epoch 5/20\n"
     ]
    },
    {
     "name": "stderr",
     "output_type": "stream",
     "text": [
      "100%|██████████| 1300/1300 [02:23<00:00,  9.06it/s]\n"
     ]
    },
    {
     "name": "stdout",
     "output_type": "stream",
     "text": [
      "{'val_loss': 4.081162443975123, 'val_accuracy': 0.002288329519450801, 'precision': 5.236451989589934e-06, 'recall': 0.002288329519450801, 'f1-score': 1.0448993239501373e-05, 'macro_f1-score': 9.512937595129375e-05, 'balanced_accuracy': 0.020833333333333332, 'mcc': 0.0, 'train_loss': 3.6102789761469913}\n",
      "Early stopping.\n",
      "\n",
      "[Fold 5]\n",
      "Label distribution after resampling:\n",
      "  label 0: 2000\n",
      "  label 1: 400\n",
      "  label 2: 400\n",
      "  label 3: 400\n",
      "  label 4: 400\n",
      "  label 5: 400\n",
      "  label 6: 400\n",
      "  label 7: 400\n",
      "  label 8: 400\n",
      "  label 9: 400\n",
      "  label 10: 400\n",
      "  label 11: 400\n",
      "  label 12: 400\n",
      "  label 13: 400\n",
      "  label 14: 400\n",
      "  label 15: 400\n",
      "  label 16: 400\n",
      "  label 17: 400\n",
      "  label 18: 400\n",
      "  label 19: 400\n",
      "  label 20: 400\n",
      "  label 21: 400\n",
      "  label 22: 400\n",
      "  label 23: 400\n",
      "  label 24: 400\n",
      "  label 25: 400\n",
      "  label 26: 400\n",
      "  label 27: 400\n",
      "  label 28: 400\n",
      "  label 29: 400\n",
      "  label 30: 400\n",
      "  label 31: 400\n",
      "  label 32: 400\n",
      "  label 33: 400\n",
      "  label 34: 400\n",
      "  label 35: 400\n",
      "  label 36: 400\n",
      "  label 37: 400\n",
      "  label 38: 400\n",
      "  label 39: 400\n",
      "  label 40: 400\n",
      "  label 41: 400\n",
      "  label 42: 400\n",
      "  label 43: 400\n",
      "  label 44: 400\n",
      "  label 45: 400\n",
      "  label 46: 400\n",
      "  label 47: 400\n",
      "model is microsoft/deberta-base bilstm\n",
      "Epoch 1/20\n"
     ]
    },
    {
     "name": "stderr",
     "output_type": "stream",
     "text": [
      "100%|██████████| 1300/1300 [02:23<00:00,  9.05it/s]\n"
     ]
    },
    {
     "name": "stdout",
     "output_type": "stream",
     "text": [
      "{'val_loss': 2.7899729783942058, 'val_accuracy': 0.41418764302059496, 'precision': 0.31555286830725054, 'recall': 0.41418764302059496, 'f1-score': 0.3512538464124487, 'macro_f1-score': 0.021996397434152073, 'balanced_accuracy': 0.05705056468832805, 'mcc': 0.1760293021141916, 'train_loss': 3.5768224474099966}\n",
      "Epoch 2/20\n"
     ]
    },
    {
     "name": "stderr",
     "output_type": "stream",
     "text": [
      "100%|██████████| 1300/1300 [02:23<00:00,  9.06it/s]\n"
     ]
    },
    {
     "name": "stdout",
     "output_type": "stream",
     "text": [
      "{'val_loss': 2.6342259209330487, 'val_accuracy': 0.38215102974828374, 'precision': 0.44007505001914554, 'recall': 0.38215102974828374, 'f1-score': 0.3898636900081824, 'macro_f1-score': 0.056571811436354376, 'balanced_accuracy': 0.10053962262195737, 'mcc': 0.2135898714420925, 'train_loss': 3.126691072904147}\n",
      "Epoch 3/20\n"
     ]
    },
    {
     "name": "stderr",
     "output_type": "stream",
     "text": [
      "100%|██████████| 1300/1300 [02:23<00:00,  9.06it/s]\n"
     ]
    },
    {
     "name": "stdout",
     "output_type": "stream",
     "text": [
      "{'val_loss': 2.602444456844795, 'val_accuracy': 0.30663615560640733, 'precision': 0.4076661769763526, 'recall': 0.30663615560640733, 'f1-score': 0.3387390137279046, 'macro_f1-score': 0.07885590316486922, 'balanced_accuracy': 0.14913097355283814, 'mcc': 0.18233692053165254, 'train_loss': 2.7554691585210653}\n",
      "Epoch 4/20\n"
     ]
    },
    {
     "name": "stderr",
     "output_type": "stream",
     "text": [
      "100%|██████████| 1300/1300 [02:23<00:00,  9.06it/s]\n"
     ]
    },
    {
     "name": "stdout",
     "output_type": "stream",
     "text": [
      "{'val_loss': 2.934117599231441, 'val_accuracy': 0.4088482074752098, 'precision': 0.33040858301896125, 'recall': 0.4088482074752098, 'f1-score': 0.35750985655991874, 'macro_f1-score': 0.024312143189584745, 'balanced_accuracy': 0.045353782382753206, 'mcc': 0.17692692243297448, 'train_loss': 3.0351741418471705}\n",
      "Epoch 5/20\n"
     ]
    },
    {
     "name": "stderr",
     "output_type": "stream",
     "text": [
      "100%|██████████| 1300/1300 [02:23<00:00,  9.06it/s]\n"
     ]
    },
    {
     "name": "stdout",
     "output_type": "stream",
     "text": [
      "{'val_loss': 3.518014736291839, 'val_accuracy': 0.47063310450038137, 'precision': 0.2214955190516669, 'recall': 0.47063310450038137, 'f1-score': 0.3012247152248292, 'macro_f1-score': 0.013334197786998616, 'balanced_accuracy': 0.020833333333333332, 'mcc': 0.0, 'train_loss': 3.5376188965944144}\n",
      "Epoch 6/20\n"
     ]
    },
    {
     "name": "stderr",
     "output_type": "stream",
     "text": [
      "100%|██████████| 1300/1300 [02:23<00:00,  9.04it/s]\n"
     ]
    },
    {
     "name": "stdout",
     "output_type": "stream",
     "text": [
      "{'val_loss': 3.2487552863795583, 'val_accuracy': 0.47063310450038137, 'precision': 0.2214955190516669, 'recall': 0.47063310450038137, 'f1-score': 0.3012247152248292, 'macro_f1-score': 0.013334197786998616, 'balanced_accuracy': 0.020833333333333332, 'mcc': 0.0, 'train_loss': 3.663090043618129}\n",
      "Early stopping.\n",
      "\n",
      " === microsoft/deberta-base + bilstm + ros Final 5-fold Cross-Validation Results ===\n",
      "val_loss: 2.6676\n",
      "val_accuracy: 0.4019\n",
      "precision: 0.4173\n",
      "recall: 0.4019\n",
      "f1-score: 0.3869\n",
      "macro_f1-score: 0.1356\n",
      "balanced_accuracy: 0.1749\n",
      "mcc: 0.2179\n",
      "train_loss: 2.3434\n",
      "total_seconds: 6044.0000\n",
      "total_time: 1 hrs 40 mins 44 secs\n"
     ]
    }
   ],
   "source": [
    "model_list = [\"bert-base-uncased\", \"roberta-base\", \"microsoft/deberta-base\"]\n",
    "hybrid_list = [None, \"cnn\", \"lstm\", \"bilstm\"]\n",
    "resample_list = [\"ros\"]\n",
    "\n",
    "all_experiment_result = {}\n",
    "\n",
    "for model_name in model_list:\n",
    "    for hybrid_type in hybrid_list:\n",
    "        for resample_method in resample_list:\n",
    "            results = run_kfold_experiment(\n",
    "                X=messages, y=labels, model_name=model_name, hybrid_type=hybrid_type, resample_method=resample_method,\n",
    "                kfold=KFOLD_SPLIT, seed=SEED, epochs=EPOCHS, patience=PATIENCE, max_length=MAX_LENGTH, \n",
    "                batch_size=BATCH_SIZE, lr=LR, weight_decay=WEIGHT_DECAY, upper_cap=2000, lower_cap=400\n",
    "            )\n",
    "\n",
    "            key = f\"{model_name} {hybrid_type if hybrid_type else 'None'} {resample_method}\"\n",
    "            all_experiment_result[key] = results"
   ]
  },
  {
   "cell_type": "code",
   "execution_count": null,
   "id": "d799ebb4-be3b-4b29-9238-6c2a2f8256ae",
   "metadata": {},
   "outputs": [
    {
     "data": {
      "text/plain": [
       "{'bert-base-uncased None ros': {'val_loss': 1.8738908573621658,\n",
       "  'val_accuracy': 0.6298031664527171,\n",
       "  'precision': 0.6407068239254732,\n",
       "  'recall': 0.6298031664527171,\n",
       "  'f1-score': 0.6236131138007901,\n",
       "  'macro_f1-score': 0.41593739817863395,\n",
       "  'balanced_accuracy': 0.42634337722848203,\n",
       "  'mcc': 0.5182616925607211,\n",
       "  'train_loss': 0.37151831865785284,\n",
       "  'total_seconds': 3829,\n",
       "  'total_time': '1 hrs 3 mins 49 secs'},\n",
       " 'bert-base-uncased cnn ros': {'val_loss': 2.0001337023406496,\n",
       "  'val_accuracy': 0.6172931666387602,\n",
       "  'precision': 0.639846467119407,\n",
       "  'recall': 0.6172931666387602,\n",
       "  'f1-score': 0.6152760199085949,\n",
       "  'macro_f1-score': 0.4143891358511538,\n",
       "  'balanced_accuracy': 0.4228738921886239,\n",
       "  'mcc': 0.506145629288979,\n",
       "  'train_loss': 0.3673924852347431,\n",
       "  'total_seconds': 4025,\n",
       "  'total_time': '1 hrs 7 mins 5 secs'},\n",
       " 'bert-base-uncased lstm ros': {'val_loss': 1.9472768536428127,\n",
       "  'val_accuracy': 0.6343827324142806,\n",
       "  'precision': 0.6424811774233227,\n",
       "  'recall': 0.6343827324142806,\n",
       "  'f1-score': 0.6291193500554695,\n",
       "  'macro_f1-score': 0.4244281637615833,\n",
       "  'balanced_accuracy': 0.4289006085048058,\n",
       "  'mcc': 0.5241793141283371,\n",
       "  'train_loss': 0.11359201579591116,\n",
       "  'total_seconds': 5430,\n",
       "  'total_time': '1 hrs 30 mins 30 secs'},\n",
       " 'bert-base-uncased bilstm ros': {'val_loss': 1.7510296247717811,\n",
       "  'val_accuracy': 0.6203469470335435,\n",
       "  'precision': 0.6362015188050247,\n",
       "  'recall': 0.6203469470335435,\n",
       "  'f1-score': 0.6165837244456982,\n",
       "  'macro_f1-score': 0.41837086744815644,\n",
       "  'balanced_accuracy': 0.432651323318368,\n",
       "  'mcc': 0.5054782619602468,\n",
       "  'train_loss': 0.4729226951052148,\n",
       "  'total_seconds': 3850,\n",
       "  'total_time': '1 hrs 4 mins 10 secs'},\n",
       " 'roberta-base None ros': {'val_loss': 1.8721648692721273,\n",
       "  'val_accuracy': 0.601740897843761,\n",
       "  'precision': 0.6343541778030397,\n",
       "  'recall': 0.601740897843761,\n",
       "  'f1-score': 0.6067638672512243,\n",
       "  'macro_f1-score': 0.40444601376427736,\n",
       "  'balanced_accuracy': 0.4268394809111338,\n",
       "  'mcc': 0.49670817134023626,\n",
       "  'train_loss': 0.2734408010261563,\n",
       "  'total_seconds': 3673,\n",
       "  'total_time': '1 hrs 1 mins 13 secs'},\n",
       " 'roberta-base cnn ros': {'val_loss': 1.9573854547811718,\n",
       "  'val_accuracy': 0.6073804440847612,\n",
       "  'precision': 0.6319203908160081,\n",
       "  'recall': 0.6073804440847612,\n",
       "  'f1-score': 0.6108163748261212,\n",
       "  'macro_f1-score': 0.4100418922101109,\n",
       "  'balanced_accuracy': 0.4231125842579712,\n",
       "  'mcc': 0.498126482708655,\n",
       "  'train_loss': 0.1805367237298678,\n",
       "  'total_seconds': 4448,\n",
       "  'total_time': '1 hrs 14 mins 8 secs'},\n",
       " 'roberta-base lstm ros': {'val_loss': 1.8771994777023793,\n",
       "  'val_accuracy': 0.5857220098230731,\n",
       "  'precision': 0.6358765231706814,\n",
       "  'recall': 0.5857220098230731,\n",
       "  'f1-score': 0.5967824741267387,\n",
       "  'macro_f1-score': 0.39615307150741264,\n",
       "  'balanced_accuracy': 0.4322752626356495,\n",
       "  'mcc': 0.48038002381845146,\n",
       "  'train_loss': 0.40206070374138647,\n",
       "  'total_seconds': 5037,\n",
       "  'total_time': '1 hrs 23 mins 57 secs'},\n",
       " 'roberta-base bilstm ros': {'val_loss': 1.8425369048990856,\n",
       "  'val_accuracy': 0.5953270636825362,\n",
       "  'precision': 0.6350117685441741,\n",
       "  'recall': 0.5953270636825362,\n",
       "  'f1-score': 0.6052294171401358,\n",
       "  'macro_f1-score': 0.414796757904183,\n",
       "  'balanced_accuracy': 0.44491259479010214,\n",
       "  'mcc': 0.4911034050669856,\n",
       "  'train_loss': 0.2938251060874273,\n",
       "  'total_seconds': 4673,\n",
       "  'total_time': '1 hrs 17 mins 53 secs'},\n",
       " 'microsoft/deberta-base None ros': {'val_loss': 2.9655678317314242,\n",
       "  'val_accuracy': 0.509310291901546,\n",
       "  'precision': 0.30849988193978845,\n",
       "  'recall': 0.509310291901546,\n",
       "  'f1-score': 0.37088851006202733,\n",
       "  'macro_f1-score': 0.09639666990550519,\n",
       "  'balanced_accuracy': 0.09751867833371378,\n",
       "  'mcc': 0.10975433559245835,\n",
       "  'train_loss': 3.0626503903847544,\n",
       "  'total_seconds': 3679,\n",
       "  'total_time': '1 hrs 1 mins 19 secs'},\n",
       " 'microsoft/deberta-base cnn ros': {'val_loss': 2.968152992027562,\n",
       "  'val_accuracy': 0.5152465768078733,\n",
       "  'precision': 0.3864388789479801,\n",
       "  'recall': 0.5152465768078733,\n",
       "  'f1-score': 0.4142902439122567,\n",
       "  'macro_f1-score': 0.16669309322850573,\n",
       "  'balanced_accuracy': 0.182596332787572,\n",
       "  'mcc': 0.1896607330677464,\n",
       "  'train_loss': 2.6627448974952834,\n",
       "  'total_seconds': 4544,\n",
       "  'total_time': '1 hrs 15 mins 44 secs'},\n",
       " 'microsoft/deberta-base lstm ros': {'val_loss': 2.542267892418838,\n",
       "  'val_accuracy': 0.4620122183773325,\n",
       "  'precision': 0.4347860855071944,\n",
       "  'recall': 0.4620122183773325,\n",
       "  'f1-score': 0.4234796948838528,\n",
       "  'macro_f1-score': 0.17260319172681302,\n",
       "  'balanced_accuracy': 0.2054962176949097,\n",
       "  'mcc': 0.23788910507333116,\n",
       "  'train_loss': 2.0001989265966875,\n",
       "  'total_seconds': 5746,\n",
       "  'total_time': '1 hrs 35 mins 46 secs'},\n",
       " 'microsoft/deberta-base bilstm ros': {'val_loss': 2.667568619367553,\n",
       "  'val_accuracy': 0.401892290375993,\n",
       "  'precision': 0.41732647658959515,\n",
       "  'recall': 0.401892290375993,\n",
       "  'f1-score': 0.38692220382807185,\n",
       "  'macro_f1-score': 0.13564906395926277,\n",
       "  'balanced_accuracy': 0.17488359183798802,\n",
       "  'mcc': 0.2179004048282634,\n",
       "  'train_loss': 2.343394438582544,\n",
       "  'total_seconds': 6044,\n",
       "  'total_time': '1 hrs 40 mins 44 secs'}}"
      ]
     },
     "execution_count": 5,
     "metadata": {},
     "output_type": "execute_result"
    },
    {
     "ename": "",
     "evalue": "",
     "output_type": "error",
     "traceback": [
      "\u001b[1;31mThe Kernel crashed while executing code in the current cell or a previous cell. \n",
      "\u001b[1;31mPlease review the code in the cell(s) to identify a possible cause of the failure. \n",
      "\u001b[1;31mClick <a href='https://aka.ms/vscodeJupyterKernelCrash'>here</a> for more info. \n",
      "\u001b[1;31mView Jupyter <a href='command:jupyter.viewOutput'>log</a> for further details."
     ]
    }
   ],
   "source": [
    "all_experiment_result"
   ]
  }
 ],
 "metadata": {
  "kernelspec": {
   "display_name": "Python 3",
   "language": "python",
   "name": "python3"
  },
  "language_info": {
   "codemirror_mode": {
    "name": "ipython",
    "version": 3
   },
   "file_extension": ".py",
   "mimetype": "text/x-python",
   "name": "python",
   "nbconvert_exporter": "python",
   "pygments_lexer": "ipython3",
   "version": "3.10.0"
  }
 },
 "nbformat": 4,
 "nbformat_minor": 5
}
