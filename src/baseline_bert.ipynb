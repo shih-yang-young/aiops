{
 "cells": [
  {
   "cell_type": "code",
   "execution_count": 1,
   "id": "01d3aa2b",
   "metadata": {},
   "outputs": [
    {
     "data": {
      "text/html": [
       "<div>\n",
       "<style scoped>\n",
       "    .dataframe tbody tr th:only-of-type {\n",
       "        vertical-align: middle;\n",
       "    }\n",
       "\n",
       "    .dataframe tbody tr th {\n",
       "        vertical-align: top;\n",
       "    }\n",
       "\n",
       "    .dataframe thead th {\n",
       "        text-align: right;\n",
       "    }\n",
       "</style>\n",
       "<table border=\"1\" class=\"dataframe\">\n",
       "  <thead>\n",
       "    <tr style=\"text-align: right;\">\n",
       "      <th></th>\n",
       "      <th>Short description</th>\n",
       "      <th>Description</th>\n",
       "      <th>Caller</th>\n",
       "      <th>Assignment group</th>\n",
       "    </tr>\n",
       "  </thead>\n",
       "  <tbody>\n",
       "    <tr>\n",
       "      <th>0</th>\n",
       "      <td>login issue</td>\n",
       "      <td>-verified user details.(employee# &amp; manager na...</td>\n",
       "      <td>spxjnwir pjlcoqds</td>\n",
       "      <td>GRP_0</td>\n",
       "    </tr>\n",
       "    <tr>\n",
       "      <th>1</th>\n",
       "      <td>outlook</td>\n",
       "      <td>_x000D_\\n_x000D_\\nreceived from: hmjdrvpb.komu...</td>\n",
       "      <td>hmjdrvpb komuaywn</td>\n",
       "      <td>GRP_0</td>\n",
       "    </tr>\n",
       "    <tr>\n",
       "      <th>2</th>\n",
       "      <td>cant log in to vpn</td>\n",
       "      <td>_x000D_\\n_x000D_\\nreceived from: eylqgodm.ybqk...</td>\n",
       "      <td>eylqgodm ybqkwiam</td>\n",
       "      <td>GRP_0</td>\n",
       "    </tr>\n",
       "    <tr>\n",
       "      <th>3</th>\n",
       "      <td>unable to access hr_tool page</td>\n",
       "      <td>unable to access hr_tool page</td>\n",
       "      <td>xbkucsvz gcpydteq</td>\n",
       "      <td>GRP_0</td>\n",
       "    </tr>\n",
       "    <tr>\n",
       "      <th>4</th>\n",
       "      <td>skype error</td>\n",
       "      <td>skype error</td>\n",
       "      <td>owlgqjme qhcozdfx</td>\n",
       "      <td>GRP_0</td>\n",
       "    </tr>\n",
       "    <tr>\n",
       "      <th>...</th>\n",
       "      <td>...</td>\n",
       "      <td>...</td>\n",
       "      <td>...</td>\n",
       "      <td>...</td>\n",
       "    </tr>\n",
       "    <tr>\n",
       "      <th>8495</th>\n",
       "      <td>emails not coming in from zz mail</td>\n",
       "      <td>_x000D_\\n_x000D_\\nreceived from: avglmrts.vhqm...</td>\n",
       "      <td>avglmrts vhqmtiua</td>\n",
       "      <td>GRP_29</td>\n",
       "    </tr>\n",
       "    <tr>\n",
       "      <th>8496</th>\n",
       "      <td>telephony_software issue</td>\n",
       "      <td>telephony_software issue</td>\n",
       "      <td>rbozivdq gmlhrtvp</td>\n",
       "      <td>GRP_0</td>\n",
       "    </tr>\n",
       "    <tr>\n",
       "      <th>8497</th>\n",
       "      <td>vip2: windows password reset for tifpdchb pedx...</td>\n",
       "      <td>vip2: windows password reset for tifpdchb pedx...</td>\n",
       "      <td>oybwdsgx oxyhwrfz</td>\n",
       "      <td>GRP_0</td>\n",
       "    </tr>\n",
       "    <tr>\n",
       "      <th>8498</th>\n",
       "      <td>machine nÃ£o estÃ¡ funcionando</td>\n",
       "      <td>i am unable to access the machine utilities to...</td>\n",
       "      <td>ufawcgob aowhxjky</td>\n",
       "      <td>GRP_62</td>\n",
       "    </tr>\n",
       "    <tr>\n",
       "      <th>8499</th>\n",
       "      <td>an mehreren pc`s lassen sich verschiedene prgr...</td>\n",
       "      <td>an mehreren pc`s lassen sich verschiedene prgr...</td>\n",
       "      <td>kqvbrspl jyzoklfx</td>\n",
       "      <td>GRP_49</td>\n",
       "    </tr>\n",
       "  </tbody>\n",
       "</table>\n",
       "<p>8500 rows × 4 columns</p>\n",
       "</div>"
      ],
      "text/plain": [
       "                                      Short description  \\\n",
       "0                                           login issue   \n",
       "1                                               outlook   \n",
       "2                                    cant log in to vpn   \n",
       "3                         unable to access hr_tool page   \n",
       "4                                          skype error    \n",
       "...                                                 ...   \n",
       "8495                  emails not coming in from zz mail   \n",
       "8496                           telephony_software issue   \n",
       "8497  vip2: windows password reset for tifpdchb pedx...   \n",
       "8498                     machine nÃ£o estÃ¡ funcionando   \n",
       "8499  an mehreren pc`s lassen sich verschiedene prgr...   \n",
       "\n",
       "                                            Description             Caller  \\\n",
       "0     -verified user details.(employee# & manager na...  spxjnwir pjlcoqds   \n",
       "1     _x000D_\\n_x000D_\\nreceived from: hmjdrvpb.komu...  hmjdrvpb komuaywn   \n",
       "2     _x000D_\\n_x000D_\\nreceived from: eylqgodm.ybqk...  eylqgodm ybqkwiam   \n",
       "3                         unable to access hr_tool page  xbkucsvz gcpydteq   \n",
       "4                                          skype error   owlgqjme qhcozdfx   \n",
       "...                                                 ...                ...   \n",
       "8495  _x000D_\\n_x000D_\\nreceived from: avglmrts.vhqm...  avglmrts vhqmtiua   \n",
       "8496                           telephony_software issue  rbozivdq gmlhrtvp   \n",
       "8497  vip2: windows password reset for tifpdchb pedx...  oybwdsgx oxyhwrfz   \n",
       "8498  i am unable to access the machine utilities to...  ufawcgob aowhxjky   \n",
       "8499  an mehreren pc`s lassen sich verschiedene prgr...  kqvbrspl jyzoklfx   \n",
       "\n",
       "     Assignment group  \n",
       "0               GRP_0  \n",
       "1               GRP_0  \n",
       "2               GRP_0  \n",
       "3               GRP_0  \n",
       "4               GRP_0  \n",
       "...               ...  \n",
       "8495           GRP_29  \n",
       "8496            GRP_0  \n",
       "8497            GRP_0  \n",
       "8498           GRP_62  \n",
       "8499           GRP_49  \n",
       "\n",
       "[8500 rows x 4 columns]"
      ]
     },
     "execution_count": 1,
     "metadata": {},
     "output_type": "execute_result"
    }
   ],
   "source": [
    "import pandas as pd\n",
    "open_source_8500 = pd.read_excel(\"../data/open_source_8500.xlsx\") ## 舊名 IT-Ticket-Classification.xlsx\n",
    "open_source_8500"
   ]
  },
  {
   "cell_type": "code",
   "execution_count": 2,
   "id": "c1c06bf0-8fc3-47cf-94bc-c6d5097288e4",
   "metadata": {},
   "outputs": [],
   "source": [
    "import torch\n",
    "import numpy as np\n",
    "\n",
    "device=torch.device('cuda:0')\n",
    "torch.cuda.get_device_name(0)\n",
    "\n",
    "seed=123\n",
    "torch.manual_seed(seed)\n",
    "np.random.seed(seed)"
   ]
  },
  {
   "cell_type": "markdown",
   "id": "a231cd22-dd50-4753-9e00-9e3b0a9127c0",
   "metadata": {},
   "source": [
    "# Paper步驟"
   ]
  },
  {
   "cell_type": "code",
   "execution_count": 3,
   "id": "9e824e54-715f-4599-9350-b2ce7de27540",
   "metadata": {},
   "outputs": [
    {
     "name": "stdout",
     "output_type": "stream",
     "text": [
      "<class 'pandas.core.frame.DataFrame'>\n",
      "RangeIndex: 8500 entries, 0 to 8499\n",
      "Data columns (total 2 columns):\n",
      " #   Column            Non-Null Count  Dtype \n",
      "---  ------            --------------  ----- \n",
      " 0   Description       8499 non-null   object\n",
      " 1   Assignment group  8500 non-null   object\n",
      "dtypes: object(2)\n",
      "memory usage: 132.9+ KB\n"
     ]
    }
   ],
   "source": [
    "callers = open_source_8500['Caller'].unique() \n",
    "callers.shape\n",
    "open_source_8500.drop([\"Caller\",'Short description'],axis=1,inplace= True)\n",
    "open_source_8500.info()"
   ]
  },
  {
   "cell_type": "code",
   "execution_count": 4,
   "id": "c4498918-9bbd-4d0c-99d3-75c3710fc69b",
   "metadata": {},
   "outputs": [
    {
     "data": {
      "text/plain": [
       "count      74.000000\n",
       "mean      114.864865\n",
       "std       465.747516\n",
       "min         1.000000\n",
       "25%         5.250000\n",
       "50%        26.000000\n",
       "75%        84.000000\n",
       "max      3976.000000\n",
       "Name: count, dtype: float64"
      ]
     },
     "execution_count": 4,
     "metadata": {},
     "output_type": "execute_result"
    }
   ],
   "source": [
    "targetClassCnt=open_source_8500['Assignment group'].value_counts()\n",
    "targetClassCnt.describe()"
   ]
  },
  {
   "cell_type": "code",
   "execution_count": 5,
   "id": "e41e3a75-729e-491a-9f49-13d825a629f3",
   "metadata": {},
   "outputs": [
    {
     "name": "stdout",
     "output_type": "stream",
     "text": [
      "Found 25 groups which have under 10 samples\n"
     ]
    },
    {
     "data": {
      "text/plain": [
       "array(['GRP_0', 'GRP_1', 'GRP_3', 'GRP_4', 'GRP_5', 'GRP_6', 'GRP_7',\n",
       "       'GRP_8', 'GRP_9', 'GRP_10', 'GRP_11', 'GRP_12', 'GRP_13', 'GRP_14',\n",
       "       'GRP_15', 'GRP_16', 'GRP_17', 'GRP_18', 'GRP_19', 'GRP_2',\n",
       "       'GRP_20', 'GRP_21', 'GRP_22', 'GRP_23', 'GRP_24', 'GRP_25',\n",
       "       'GRP_26', 'GRP_27', 'GRP_28', 'GRP_29', 'GRP_30', 'GRP_31',\n",
       "       'GRP_33', 'GRP_34', 'misc_grp', 'GRP_36', 'GRP_37', 'GRP_39',\n",
       "       'GRP_40', 'GRP_41', 'GRP_42', 'GRP_44', 'GRP_45', 'GRP_47',\n",
       "       'GRP_48', 'GRP_50', 'GRP_53', 'GRP_60', 'GRP_62', 'GRP_65'],\n",
       "      dtype=object)"
      ]
     },
     "execution_count": 5,
     "metadata": {},
     "output_type": "execute_result"
    }
   ],
   "source": [
    "## 將樣本數少於10的組別歸類為一個新的組別 misc_grp\n",
    "\n",
    "sample = open_source_8500.groupby(['Assignment group'])\n",
    "regroup = []\n",
    "\n",
    "for grp in open_source_8500['Assignment group'].unique():\n",
    "    if sample.get_group((grp,)).shape[0] < 10:  # 改為元組形式 (grp,)\n",
    "        regroup.append(grp)\n",
    "\n",
    "print('Found {} groups which have under 10 samples'.format(len(regroup)))\n",
    "open_source_8500['Assignment group'] = open_source_8500['Assignment group'].apply(\n",
    "    lambda x: 'misc_grp' if x in regroup else x\n",
    ")\n",
    "\n",
    "# Unique Groups check \n",
    "open_source_8500['Assignment group'].unique()"
   ]
  },
  {
   "cell_type": "code",
   "execution_count": 6,
   "id": "8b0877a1-b3da-4998-afad-30c2082ce787",
   "metadata": {},
   "outputs": [
    {
     "data": {
      "image/png": "[encoded data removed]",
      "text/plain": [
       "<Figure size 2200x500 with 1 Axes>"
      ]
     },
     "metadata": {},
     "output_type": "display_data"
    }
   ],
   "source": [
    "##Pre-Processing label Encoding on  Assignment Group\n",
    "import seaborn as sns\n",
    "import matplotlib.pyplot as plt\n",
    "\n",
    "plt.style.use('ggplot')\n",
    "%matplotlib inline\n",
    "\n",
    "descending_order = open_source_8500['Assignment group'].value_counts().sort_values(ascending=False).index\n",
    "\n",
    "plt.subplots(figsize=(22, 5))\n",
    "ax = sns.countplot(x='Assignment group', data=open_source_8500, color='royalblue', order=descending_order)\n",
    "ax.tick_params(axis='x', rotation=45)  # 設置旋轉\n",
    "\n",
    "plt.tight_layout()\n",
    "plt.show()"
   ]
  },
  {
   "cell_type": "code",
   "execution_count": 7,
   "id": "ff507108-2d93-4692-b00e-16d04d47c459",
   "metadata": {},
   "outputs": [],
   "source": [
    "#Fill 'Decsription' field entries that have null with blank space\n",
    "open_source_8500['Description'] = open_source_8500['Description'].fillna(' ')"
   ]
  },
  {
   "cell_type": "code",
   "execution_count": 8,
   "id": "8d7b0eaf-0be7-41ed-9d17-2d273e48703e",
   "metadata": {},
   "outputs": [
    {
     "data": {
      "text/html": [
       "<div>\n",
       "<style scoped>\n",
       "    .dataframe tbody tr th:only-of-type {\n",
       "        vertical-align: middle;\n",
       "    }\n",
       "\n",
       "    .dataframe tbody tr th {\n",
       "        vertical-align: top;\n",
       "    }\n",
       "\n",
       "    .dataframe thead th {\n",
       "        text-align: right;\n",
       "    }\n",
       "</style>\n",
       "<table border=\"1\" class=\"dataframe\">\n",
       "  <thead>\n",
       "    <tr style=\"text-align: right;\">\n",
       "      <th></th>\n",
       "      <th>Description</th>\n",
       "      <th>Assignment group</th>\n",
       "    </tr>\n",
       "  </thead>\n",
       "  <tbody>\n",
       "    <tr>\n",
       "      <th>0</th>\n",
       "      <td>-verified user details.(employee# &amp; manager na...</td>\n",
       "      <td>GRP_0</td>\n",
       "    </tr>\n",
       "    <tr>\n",
       "      <th>1</th>\n",
       "      <td>_x000D_\\n_x000D_\\nreceived from: hmjdrvpb.komu...</td>\n",
       "      <td>GRP_0</td>\n",
       "    </tr>\n",
       "    <tr>\n",
       "      <th>2</th>\n",
       "      <td>_x000D_\\n_x000D_\\nreceived from: eylqgodm.ybqk...</td>\n",
       "      <td>GRP_0</td>\n",
       "    </tr>\n",
       "    <tr>\n",
       "      <th>3</th>\n",
       "      <td>unable to access hr_tool page</td>\n",
       "      <td>GRP_0</td>\n",
       "    </tr>\n",
       "    <tr>\n",
       "      <th>4</th>\n",
       "      <td>skype error</td>\n",
       "      <td>GRP_0</td>\n",
       "    </tr>\n",
       "    <tr>\n",
       "      <th>...</th>\n",
       "      <td>...</td>\n",
       "      <td>...</td>\n",
       "    </tr>\n",
       "    <tr>\n",
       "      <th>8495</th>\n",
       "      <td>_x000D_\\n_x000D_\\nreceived from: avglmrts.vhqm...</td>\n",
       "      <td>GRP_29</td>\n",
       "    </tr>\n",
       "    <tr>\n",
       "      <th>8496</th>\n",
       "      <td>telephony_software issue</td>\n",
       "      <td>GRP_0</td>\n",
       "    </tr>\n",
       "    <tr>\n",
       "      <th>8497</th>\n",
       "      <td>vip2: windows password reset for tifpdchb pedx...</td>\n",
       "      <td>GRP_0</td>\n",
       "    </tr>\n",
       "    <tr>\n",
       "      <th>8498</th>\n",
       "      <td>i am unable to access the machine utilities to...</td>\n",
       "      <td>GRP_62</td>\n",
       "    </tr>\n",
       "    <tr>\n",
       "      <th>8499</th>\n",
       "      <td>an mehreren pc`s lassen sich verschiedene prgr...</td>\n",
       "      <td>misc_grp</td>\n",
       "    </tr>\n",
       "  </tbody>\n",
       "</table>\n",
       "<p>8500 rows × 2 columns</p>\n",
       "</div>"
      ],
      "text/plain": [
       "                                            Description Assignment group\n",
       "0     -verified user details.(employee# & manager na...            GRP_0\n",
       "1     _x000D_\\n_x000D_\\nreceived from: hmjdrvpb.komu...            GRP_0\n",
       "2     _x000D_\\n_x000D_\\nreceived from: eylqgodm.ybqk...            GRP_0\n",
       "3                         unable to access hr_tool page            GRP_0\n",
       "4                                          skype error             GRP_0\n",
       "...                                                 ...              ...\n",
       "8495  _x000D_\\n_x000D_\\nreceived from: avglmrts.vhqm...           GRP_29\n",
       "8496                           telephony_software issue            GRP_0\n",
       "8497  vip2: windows password reset for tifpdchb pedx...            GRP_0\n",
       "8498  i am unable to access the machine utilities to...           GRP_62\n",
       "8499  an mehreren pc`s lassen sich verschiedene prgr...         misc_grp\n",
       "\n",
       "[8500 rows x 2 columns]"
      ]
     },
     "execution_count": 8,
     "metadata": {},
     "output_type": "execute_result"
    }
   ],
   "source": [
    "open_source_8500"
   ]
  },
  {
   "cell_type": "code",
   "execution_count": null,
   "id": "65d6c415-3e37-4870-938b-6642d6750c28",
   "metadata": {},
   "outputs": [],
   "source": []
  },
  {
   "cell_type": "markdown",
   "id": "3e440099-85a5-45e8-a2dd-47675bf9a8dc",
   "metadata": {},
   "source": [
    "# paper Description處理"
   ]
  },
  {
   "cell_type": "code",
   "execution_count": 9,
   "id": "fb89c1ab-21f8-4ad9-9c76-9a2e47d6f5e2",
   "metadata": {},
   "outputs": [
    {
     "data": {
      "text/html": [
       "<div>\n",
       "<style scoped>\n",
       "    .dataframe tbody tr th:only-of-type {\n",
       "        vertical-align: middle;\n",
       "    }\n",
       "\n",
       "    .dataframe tbody tr th {\n",
       "        vertical-align: top;\n",
       "    }\n",
       "\n",
       "    .dataframe thead th {\n",
       "        text-align: right;\n",
       "    }\n",
       "</style>\n",
       "<table border=\"1\" class=\"dataframe\">\n",
       "  <thead>\n",
       "    <tr style=\"text-align: right;\">\n",
       "      <th></th>\n",
       "      <th>Description</th>\n",
       "      <th>Assignment group</th>\n",
       "    </tr>\n",
       "  </thead>\n",
       "  <tbody>\n",
       "    <tr>\n",
       "      <th>0</th>\n",
       "      <td>verified user details employee and manager nam...</td>\n",
       "      <td>GRP_0</td>\n",
       "    </tr>\n",
       "    <tr>\n",
       "      <th>1</th>\n",
       "      <td>xd xd xd hello team xd xd my meetings skype me...</td>\n",
       "      <td>GRP_0</td>\n",
       "    </tr>\n",
       "    <tr>\n",
       "      <th>2</th>\n",
       "      <td>xd xd xd hi xd xd cannot log on to vpn xd xd best</td>\n",
       "      <td>GRP_0</td>\n",
       "    </tr>\n",
       "    <tr>\n",
       "      <th>3</th>\n",
       "      <td>unable to access hr tool page</td>\n",
       "      <td>GRP_0</td>\n",
       "    </tr>\n",
       "    <tr>\n",
       "      <th>4</th>\n",
       "      <td>skype error</td>\n",
       "      <td>GRP_0</td>\n",
       "    </tr>\n",
       "    <tr>\n",
       "      <th>...</th>\n",
       "      <td>...</td>\n",
       "      <td>...</td>\n",
       "    </tr>\n",
       "    <tr>\n",
       "      <th>8495</th>\n",
       "      <td>xd xd xd good afternoon xd am not receiving th...</td>\n",
       "      <td>GRP_29</td>\n",
       "    </tr>\n",
       "    <tr>\n",
       "      <th>8496</th>\n",
       "      <td>telephony software issue</td>\n",
       "      <td>GRP_0</td>\n",
       "    </tr>\n",
       "    <tr>\n",
       "      <th>8497</th>\n",
       "      <td>vip windows password reset for tifpdchb pedxruyf</td>\n",
       "      <td>GRP_0</td>\n",
       "    </tr>\n",
       "    <tr>\n",
       "      <th>8498</th>\n",
       "      <td>i am unable to access the machine utilities to...</td>\n",
       "      <td>GRP_62</td>\n",
       "    </tr>\n",
       "    <tr>\n",
       "      <th>8499</th>\n",
       "      <td>an mehreren pc lassen sich verschiedene prgram...</td>\n",
       "      <td>misc_grp</td>\n",
       "    </tr>\n",
       "  </tbody>\n",
       "</table>\n",
       "<p>8500 rows × 2 columns</p>\n",
       "</div>"
      ],
      "text/plain": [
       "                                            Description Assignment group\n",
       "0     verified user details employee and manager nam...            GRP_0\n",
       "1     xd xd xd hello team xd xd my meetings skype me...            GRP_0\n",
       "2     xd xd xd hi xd xd cannot log on to vpn xd xd best            GRP_0\n",
       "3                         unable to access hr tool page            GRP_0\n",
       "4                                           skype error            GRP_0\n",
       "...                                                 ...              ...\n",
       "8495  xd xd xd good afternoon xd am not receiving th...           GRP_29\n",
       "8496                           telephony software issue            GRP_0\n",
       "8497   vip windows password reset for tifpdchb pedxruyf            GRP_0\n",
       "8498  i am unable to access the machine utilities to...           GRP_62\n",
       "8499  an mehreren pc lassen sich verschiedene prgram...         misc_grp\n",
       "\n",
       "[8500 rows x 2 columns]"
      ]
     },
     "execution_count": 9,
     "metadata": {},
     "output_type": "execute_result"
    }
   ],
   "source": [
    "import re \n",
    "from dateutil import parser\n",
    "def is_valid_date(date_str):\n",
    "    try:\n",
    "        parser.parse(date_str)\n",
    "        return True\n",
    "    except:\n",
    "        return False\n",
    "\n",
    "def clean_data(text):\n",
    "    text=text.lower()\n",
    "    text = ' '.join([w for w in text.split() if not is_valid_date(w)])\n",
    "    text = re.sub(r\"received from:\",' ',text)\n",
    "    text = re.sub(r\"from:\",' ',text)\n",
    "    text = re.sub(r\"to:\",' ',text)\n",
    "    text = re.sub(r\"subject:\",' ',text)\n",
    "    text = re.sub(r\"sent:\",' ',text)\n",
    "    text = re.sub(r\"ic:\",' ',text)\n",
    "    text = re.sub(r\"cc:\",' ',text)\n",
    "    text = re.sub(r\"bcc:\",' ',text)\n",
    "    #Remove email \n",
    "    text = re.sub(r'\\S*@\\S*\\s?', '', text)\n",
    "    # Remove numbers \n",
    "    text = re.sub(r'\\d+','' ,text)\n",
    "    # Remove Non Dictionary character-TODO\n",
    "    # Remove new line characters \n",
    "    text = re.sub(r'\\n',' ',text)\n",
    "    # Remove hashtag while keeping hashtag text\n",
    "    text = re.sub(r'#','', text)\n",
    "    #& \n",
    "    text = re.sub(r'&;?', 'and',text)\n",
    "    # Remove HTML special entities (e.g. &amp;)\n",
    "    text = re.sub(r'\\&\\w*;', '', text)\n",
    "    # Remove hyperlinks\n",
    "    text = re.sub(r'https?:\\/\\/.*\\/\\w*', '', text)  \n",
    "    # Remove characters beyond Readable formart by Unicode:\n",
    "    text= ''.join(c for c in text if c <= '\\uFFFF') \n",
    "    text = text.strip()\n",
    "    # Remove unreadable characters  (also extra spaces)\n",
    "    text = ' '.join(re.sub(\"[^\\u0030-\\u0039\\u0041-\\u005a\\u0061-\\u007a]\", \" \", text).split())\n",
    "    for name in callers:\n",
    "      namelist = [part for part in name.split()]\n",
    "      for namepart in namelist: \n",
    "          text = text.replace(namepart,'')\n",
    "          \n",
    "    text = re.sub(r\"\\s+[a-zA-Z]\\s+\", ' ', text)\n",
    "    text = re.sub(' +', ' ', text)\n",
    "    text = text.strip()\n",
    "    return text\n",
    "  \n",
    "open_source_8500['Description'] = open_source_8500['Description'].apply(clean_data)\n",
    "open_source_8500"
   ]
  },
  {
   "cell_type": "code",
   "execution_count": 10,
   "id": "c9311609",
   "metadata": {},
   "outputs": [],
   "source": [
    "import nltk\n",
    "from nltk.tokenize import RegexpTokenizer\n",
    "from nltk.stem import WordNetLemmatizer,PorterStemmer\n",
    "from nltk.corpus import stopwords\n",
    "import re\n",
    "lemmatizer = WordNetLemmatizer()\n",
    "stemmer = PorterStemmer() \n",
    "def preprocess(sentence):\n",
    "    sentence=str(sentence)\n",
    "    sentence = sentence.lower()\n",
    "    sentence=sentence.replace('{html}',\"\") \n",
    "    cleanr = re.compile('<.*?>')\n",
    "    cleantext = re.sub(cleanr, '', sentence)\n",
    "    rem_url=re.sub(r'http\\S+', '',cleantext)\n",
    "    rem_num = re.sub('[0-9]+', '', rem_url)\n",
    "    tokenizer = RegexpTokenizer(r'\\w+')\n",
    "    tokens = tokenizer.tokenize(rem_num)  \n",
    "    filtered_words = [w for w in tokens if len(w) > 2 if not w in stopwords.words('english')]\n",
    "    stem_words=[stemmer.stem(w) for w in filtered_words]\n",
    "    lemma_words=[lemmatizer.lemmatize(w) for w in stem_words]\n",
    "    return \" \".join(filtered_words)"
   ]
  },
  {
   "cell_type": "code",
   "execution_count": 11,
   "id": "b61c058c",
   "metadata": {},
   "outputs": [
    {
     "data": {
      "text/plain": [
       "0       verified user details employee manager name ch...\n",
       "1       hello team meetings skype meetings etc appeari...\n",
       "2                                     cannot log vpn best\n",
       "3                                 unable access tool page\n",
       "4                                             skype error\n",
       "                              ...                        \n",
       "8495    good afternoon receiving emails sent mail plea...\n",
       "8496                             telephony software issue\n",
       "8497         vip windows password reset tifpdchb pedxruyf\n",
       "8498    unable access machine utilities finish drawers...\n",
       "8499    mehreren lassen sich verschiedene prgramdntyme...\n",
       "Name: cleanText, Length: 8500, dtype: object"
      ]
     },
     "execution_count": 11,
     "metadata": {},
     "output_type": "execute_result"
    }
   ],
   "source": [
    "open_source_8500.reset_index(drop=True,inplace=True)\n",
    "\n",
    "open_source_8500['cleanText']=open_source_8500['Description'].map(lambda s:preprocess(s))\n",
    "\n",
    "open_source_8500['cleanText']"
   ]
  },
  {
   "cell_type": "code",
   "execution_count": 12,
   "id": "6e9716fa-ee25-47a4-a575-ba22c42e9d86",
   "metadata": {},
   "outputs": [],
   "source": [
    "from sklearn import preprocessing\n",
    "def labelencoder(dataframe) : \n",
    "  label_encoder = preprocessing.LabelEncoder() \n",
    "  dataframe= label_encoder.fit_transform(dataframe)\n",
    "  grp_mapping = dict(zip(label_encoder.transform(label_encoder.classes_), label_encoder.classes_))\n",
    "  return dataframe,grp_mapping\n",
    "\n",
    "#itTicketGRP0DF['Assignment group'] , grp_mapping_grp0= labelencoder(itTicketGRP0DF['Assignment group'])\n",
    "#itTicketOthersDF_resampled['Assignment group'] , grp_mapping_others_resampled= labelencoder(itTicketOthersDF_resampled['Assignment group'])\n",
    "#otherGrpsResampled['Assignment group'] , grp_mapping_others_resampled= labelencoder(otherGrpsResampled['Assignment group'])\n",
    "#itTicketDF_resampled['Assignment group'] , grp_mapping_all_resampled= labelencoder(itTicketDF_resampled['Assignment group'])\n",
    "open_source_8500['Assignment_group_label'],grp_mapping_all_raw = labelencoder(open_source_8500['Assignment group'])"
   ]
  },
  {
   "cell_type": "code",
   "execution_count": 13,
   "id": "d0166b03-4f1e-49f4-814d-82e8fa0ab470",
   "metadata": {},
   "outputs": [
    {
     "data": {
      "text/html": [
       "<div>\n",
       "<style scoped>\n",
       "    .dataframe tbody tr th:only-of-type {\n",
       "        vertical-align: middle;\n",
       "    }\n",
       "\n",
       "    .dataframe tbody tr th {\n",
       "        vertical-align: top;\n",
       "    }\n",
       "\n",
       "    .dataframe thead th {\n",
       "        text-align: right;\n",
       "    }\n",
       "</style>\n",
       "<table border=\"1\" class=\"dataframe\">\n",
       "  <thead>\n",
       "    <tr style=\"text-align: right;\">\n",
       "      <th></th>\n",
       "      <th>Description</th>\n",
       "      <th>Assignment group</th>\n",
       "      <th>cleanText</th>\n",
       "      <th>Assignment_group_label</th>\n",
       "    </tr>\n",
       "  </thead>\n",
       "  <tbody>\n",
       "    <tr>\n",
       "      <th>0</th>\n",
       "      <td>verified user details employee and manager nam...</td>\n",
       "      <td>GRP_0</td>\n",
       "      <td>verified user details employee manager name ch...</td>\n",
       "      <td>0</td>\n",
       "    </tr>\n",
       "    <tr>\n",
       "      <th>1</th>\n",
       "      <td>xd xd xd hello team xd xd my meetings skype me...</td>\n",
       "      <td>GRP_0</td>\n",
       "      <td>hello team meetings skype meetings etc appeari...</td>\n",
       "      <td>0</td>\n",
       "    </tr>\n",
       "    <tr>\n",
       "      <th>2</th>\n",
       "      <td>xd xd xd hi xd xd cannot log on to vpn xd xd best</td>\n",
       "      <td>GRP_0</td>\n",
       "      <td>cannot log vpn best</td>\n",
       "      <td>0</td>\n",
       "    </tr>\n",
       "    <tr>\n",
       "      <th>3</th>\n",
       "      <td>unable to access hr tool page</td>\n",
       "      <td>GRP_0</td>\n",
       "      <td>unable access tool page</td>\n",
       "      <td>0</td>\n",
       "    </tr>\n",
       "    <tr>\n",
       "      <th>4</th>\n",
       "      <td>skype error</td>\n",
       "      <td>GRP_0</td>\n",
       "      <td>skype error</td>\n",
       "      <td>0</td>\n",
       "    </tr>\n",
       "    <tr>\n",
       "      <th>...</th>\n",
       "      <td>...</td>\n",
       "      <td>...</td>\n",
       "      <td>...</td>\n",
       "      <td>...</td>\n",
       "    </tr>\n",
       "    <tr>\n",
       "      <th>8495</th>\n",
       "      <td>xd xd xd good afternoon xd am not receiving th...</td>\n",
       "      <td>GRP_29</td>\n",
       "      <td>good afternoon receiving emails sent mail plea...</td>\n",
       "      <td>22</td>\n",
       "    </tr>\n",
       "    <tr>\n",
       "      <th>8496</th>\n",
       "      <td>telephony software issue</td>\n",
       "      <td>GRP_0</td>\n",
       "      <td>telephony software issue</td>\n",
       "      <td>0</td>\n",
       "    </tr>\n",
       "    <tr>\n",
       "      <th>8497</th>\n",
       "      <td>vip windows password reset for tifpdchb pedxruyf</td>\n",
       "      <td>GRP_0</td>\n",
       "      <td>vip windows password reset tifpdchb pedxruyf</td>\n",
       "      <td>0</td>\n",
       "    </tr>\n",
       "    <tr>\n",
       "      <th>8498</th>\n",
       "      <td>i am unable to access the machine utilities to...</td>\n",
       "      <td>GRP_62</td>\n",
       "      <td>unable access machine utilities finish drawers...</td>\n",
       "      <td>44</td>\n",
       "    </tr>\n",
       "    <tr>\n",
       "      <th>8499</th>\n",
       "      <td>an mehreren pc lassen sich verschiedene prgram...</td>\n",
       "      <td>misc_grp</td>\n",
       "      <td>mehreren lassen sich verschiedene prgramdntyme...</td>\n",
       "      <td>49</td>\n",
       "    </tr>\n",
       "  </tbody>\n",
       "</table>\n",
       "<p>8500 rows × 4 columns</p>\n",
       "</div>"
      ],
      "text/plain": [
       "                                            Description Assignment group  \\\n",
       "0     verified user details employee and manager nam...            GRP_0   \n",
       "1     xd xd xd hello team xd xd my meetings skype me...            GRP_0   \n",
       "2     xd xd xd hi xd xd cannot log on to vpn xd xd best            GRP_0   \n",
       "3                         unable to access hr tool page            GRP_0   \n",
       "4                                           skype error            GRP_0   \n",
       "...                                                 ...              ...   \n",
       "8495  xd xd xd good afternoon xd am not receiving th...           GRP_29   \n",
       "8496                           telephony software issue            GRP_0   \n",
       "8497   vip windows password reset for tifpdchb pedxruyf            GRP_0   \n",
       "8498  i am unable to access the machine utilities to...           GRP_62   \n",
       "8499  an mehreren pc lassen sich verschiedene prgram...         misc_grp   \n",
       "\n",
       "                                              cleanText  \\\n",
       "0     verified user details employee manager name ch...   \n",
       "1     hello team meetings skype meetings etc appeari...   \n",
       "2                                   cannot log vpn best   \n",
       "3                               unable access tool page   \n",
       "4                                           skype error   \n",
       "...                                                 ...   \n",
       "8495  good afternoon receiving emails sent mail plea...   \n",
       "8496                           telephony software issue   \n",
       "8497       vip windows password reset tifpdchb pedxruyf   \n",
       "8498  unable access machine utilities finish drawers...   \n",
       "8499  mehreren lassen sich verschiedene prgramdntyme...   \n",
       "\n",
       "      Assignment_group_label  \n",
       "0                          0  \n",
       "1                          0  \n",
       "2                          0  \n",
       "3                          0  \n",
       "4                          0  \n",
       "...                      ...  \n",
       "8495                      22  \n",
       "8496                       0  \n",
       "8497                       0  \n",
       "8498                      44  \n",
       "8499                      49  \n",
       "\n",
       "[8500 rows x 4 columns]"
      ]
     },
     "execution_count": 13,
     "metadata": {},
     "output_type": "execute_result"
    }
   ],
   "source": [
    "open_source_8500"
   ]
  },
  {
   "cell_type": "code",
   "execution_count": 14,
   "id": "26b81d81-0a3c-4eba-95d7-5baa89823b31",
   "metadata": {},
   "outputs": [
    {
     "data": {
      "text/html": [
       "<div>\n",
       "<style scoped>\n",
       "    .dataframe tbody tr th:only-of-type {\n",
       "        vertical-align: middle;\n",
       "    }\n",
       "\n",
       "    .dataframe tbody tr th {\n",
       "        vertical-align: top;\n",
       "    }\n",
       "\n",
       "    .dataframe thead th {\n",
       "        text-align: right;\n",
       "    }\n",
       "</style>\n",
       "<table border=\"1\" class=\"dataframe\">\n",
       "  <thead>\n",
       "    <tr style=\"text-align: right;\">\n",
       "      <th></th>\n",
       "      <th>Description</th>\n",
       "      <th>Assignment group</th>\n",
       "      <th>cleanText</th>\n",
       "      <th>Assignment_group_label</th>\n",
       "    </tr>\n",
       "  </thead>\n",
       "  <tbody>\n",
       "    <tr>\n",
       "      <th>707</th>\n",
       "      <td>xd xd xd</td>\n",
       "      <td>GRP_3</td>\n",
       "      <td></td>\n",
       "      <td>23</td>\n",
       "    </tr>\n",
       "    <tr>\n",
       "      <th>1049</th>\n",
       "      <td>the</td>\n",
       "      <td>GRP_17</td>\n",
       "      <td></td>\n",
       "      <td>9</td>\n",
       "    </tr>\n",
       "    <tr>\n",
       "      <th>1054</th>\n",
       "      <td>the</td>\n",
       "      <td>GRP_17</td>\n",
       "      <td></td>\n",
       "      <td>9</td>\n",
       "    </tr>\n",
       "    <tr>\n",
       "      <th>1081</th>\n",
       "      <td></td>\n",
       "      <td>GRP_48</td>\n",
       "      <td></td>\n",
       "      <td>38</td>\n",
       "    </tr>\n",
       "    <tr>\n",
       "      <th>1144</th>\n",
       "      <td>the</td>\n",
       "      <td>GRP_17</td>\n",
       "      <td></td>\n",
       "      <td>9</td>\n",
       "    </tr>\n",
       "    <tr>\n",
       "      <th>...</th>\n",
       "      <td>...</td>\n",
       "      <td>...</td>\n",
       "      <td>...</td>\n",
       "      <td>...</td>\n",
       "    </tr>\n",
       "    <tr>\n",
       "      <th>8092</th>\n",
       "      <td>the</td>\n",
       "      <td>GRP_17</td>\n",
       "      <td></td>\n",
       "      <td>9</td>\n",
       "    </tr>\n",
       "    <tr>\n",
       "      <th>8093</th>\n",
       "      <td>the</td>\n",
       "      <td>GRP_17</td>\n",
       "      <td></td>\n",
       "      <td>9</td>\n",
       "    </tr>\n",
       "    <tr>\n",
       "      <th>8168</th>\n",
       "      <td>the</td>\n",
       "      <td>GRP_17</td>\n",
       "      <td></td>\n",
       "      <td>9</td>\n",
       "    </tr>\n",
       "    <tr>\n",
       "      <th>8266</th>\n",
       "      <td></td>\n",
       "      <td>GRP_30</td>\n",
       "      <td></td>\n",
       "      <td>24</td>\n",
       "    </tr>\n",
       "    <tr>\n",
       "      <th>8471</th>\n",
       "      <td>to</td>\n",
       "      <td>GRP_30</td>\n",
       "      <td></td>\n",
       "      <td>24</td>\n",
       "    </tr>\n",
       "  </tbody>\n",
       "</table>\n",
       "<p>120 rows × 4 columns</p>\n",
       "</div>"
      ],
      "text/plain": [
       "     Description Assignment group cleanText  Assignment_group_label\n",
       "707     xd xd xd            GRP_3                                23\n",
       "1049         the           GRP_17                                 9\n",
       "1054         the           GRP_17                                 9\n",
       "1081                       GRP_48                                38\n",
       "1144         the           GRP_17                                 9\n",
       "...          ...              ...       ...                     ...\n",
       "8092         the           GRP_17                                 9\n",
       "8093         the           GRP_17                                 9\n",
       "8168         the           GRP_17                                 9\n",
       "8266                       GRP_30                                24\n",
       "8471          to           GRP_30                                24\n",
       "\n",
       "[120 rows x 4 columns]"
      ]
     },
     "execution_count": 14,
     "metadata": {},
     "output_type": "execute_result"
    }
   ],
   "source": [
    "rows_with_nan = open_source_8500[open_source_8500['cleanText'] == '']\n",
    "rows_with_nan"
   ]
  },
  {
   "cell_type": "code",
   "execution_count": 15,
   "id": "fa5bb3b4-5a52-4f6f-8596-bc5f4d8b1d07",
   "metadata": {},
   "outputs": [
    {
     "data": {
      "text/html": [
       "<div>\n",
       "<style scoped>\n",
       "    .dataframe tbody tr th:only-of-type {\n",
       "        vertical-align: middle;\n",
       "    }\n",
       "\n",
       "    .dataframe tbody tr th {\n",
       "        vertical-align: top;\n",
       "    }\n",
       "\n",
       "    .dataframe thead th {\n",
       "        text-align: right;\n",
       "    }\n",
       "</style>\n",
       "<table border=\"1\" class=\"dataframe\">\n",
       "  <thead>\n",
       "    <tr style=\"text-align: right;\">\n",
       "      <th></th>\n",
       "      <th>Description</th>\n",
       "      <th>Assignment group</th>\n",
       "      <th>cleanText</th>\n",
       "      <th>Assignment_group_label</th>\n",
       "    </tr>\n",
       "  </thead>\n",
       "  <tbody>\n",
       "    <tr>\n",
       "      <th>0</th>\n",
       "      <td>verified user details employee and manager nam...</td>\n",
       "      <td>GRP_0</td>\n",
       "      <td>verified user details employee manager name ch...</td>\n",
       "      <td>0</td>\n",
       "    </tr>\n",
       "    <tr>\n",
       "      <th>1</th>\n",
       "      <td>xd xd xd hello team xd xd my meetings skype me...</td>\n",
       "      <td>GRP_0</td>\n",
       "      <td>hello team meetings skype meetings etc appeari...</td>\n",
       "      <td>0</td>\n",
       "    </tr>\n",
       "    <tr>\n",
       "      <th>2</th>\n",
       "      <td>xd xd xd hi xd xd cannot log on to vpn xd xd best</td>\n",
       "      <td>GRP_0</td>\n",
       "      <td>cannot log vpn best</td>\n",
       "      <td>0</td>\n",
       "    </tr>\n",
       "    <tr>\n",
       "      <th>3</th>\n",
       "      <td>unable to access hr tool page</td>\n",
       "      <td>GRP_0</td>\n",
       "      <td>unable access tool page</td>\n",
       "      <td>0</td>\n",
       "    </tr>\n",
       "    <tr>\n",
       "      <th>4</th>\n",
       "      <td>skype error</td>\n",
       "      <td>GRP_0</td>\n",
       "      <td>skype error</td>\n",
       "      <td>0</td>\n",
       "    </tr>\n",
       "    <tr>\n",
       "      <th>...</th>\n",
       "      <td>...</td>\n",
       "      <td>...</td>\n",
       "      <td>...</td>\n",
       "      <td>...</td>\n",
       "    </tr>\n",
       "    <tr>\n",
       "      <th>8495</th>\n",
       "      <td>xd xd xd good afternoon xd am not receiving th...</td>\n",
       "      <td>GRP_29</td>\n",
       "      <td>good afternoon receiving emails sent mail plea...</td>\n",
       "      <td>22</td>\n",
       "    </tr>\n",
       "    <tr>\n",
       "      <th>8496</th>\n",
       "      <td>telephony software issue</td>\n",
       "      <td>GRP_0</td>\n",
       "      <td>telephony software issue</td>\n",
       "      <td>0</td>\n",
       "    </tr>\n",
       "    <tr>\n",
       "      <th>8497</th>\n",
       "      <td>vip windows password reset for tifpdchb pedxruyf</td>\n",
       "      <td>GRP_0</td>\n",
       "      <td>vip windows password reset tifpdchb pedxruyf</td>\n",
       "      <td>0</td>\n",
       "    </tr>\n",
       "    <tr>\n",
       "      <th>8498</th>\n",
       "      <td>i am unable to access the machine utilities to...</td>\n",
       "      <td>GRP_62</td>\n",
       "      <td>unable access machine utilities finish drawers...</td>\n",
       "      <td>44</td>\n",
       "    </tr>\n",
       "    <tr>\n",
       "      <th>8499</th>\n",
       "      <td>an mehreren pc lassen sich verschiedene prgram...</td>\n",
       "      <td>misc_grp</td>\n",
       "      <td>mehreren lassen sich verschiedene prgramdntyme...</td>\n",
       "      <td>49</td>\n",
       "    </tr>\n",
       "  </tbody>\n",
       "</table>\n",
       "<p>8380 rows × 4 columns</p>\n",
       "</div>"
      ],
      "text/plain": [
       "                                            Description Assignment group  \\\n",
       "0     verified user details employee and manager nam...            GRP_0   \n",
       "1     xd xd xd hello team xd xd my meetings skype me...            GRP_0   \n",
       "2     xd xd xd hi xd xd cannot log on to vpn xd xd best            GRP_0   \n",
       "3                         unable to access hr tool page            GRP_0   \n",
       "4                                           skype error            GRP_0   \n",
       "...                                                 ...              ...   \n",
       "8495  xd xd xd good afternoon xd am not receiving th...           GRP_29   \n",
       "8496                           telephony software issue            GRP_0   \n",
       "8497   vip windows password reset for tifpdchb pedxruyf            GRP_0   \n",
       "8498  i am unable to access the machine utilities to...           GRP_62   \n",
       "8499  an mehreren pc lassen sich verschiedene prgram...         misc_grp   \n",
       "\n",
       "                                              cleanText  \\\n",
       "0     verified user details employee manager name ch...   \n",
       "1     hello team meetings skype meetings etc appeari...   \n",
       "2                                   cannot log vpn best   \n",
       "3                               unable access tool page   \n",
       "4                                           skype error   \n",
       "...                                                 ...   \n",
       "8495  good afternoon receiving emails sent mail plea...   \n",
       "8496                           telephony software issue   \n",
       "8497       vip windows password reset tifpdchb pedxruyf   \n",
       "8498  unable access machine utilities finish drawers...   \n",
       "8499  mehreren lassen sich verschiedene prgramdntyme...   \n",
       "\n",
       "      Assignment_group_label  \n",
       "0                          0  \n",
       "1                          0  \n",
       "2                          0  \n",
       "3                          0  \n",
       "4                          0  \n",
       "...                      ...  \n",
       "8495                      22  \n",
       "8496                       0  \n",
       "8497                       0  \n",
       "8498                      44  \n",
       "8499                      49  \n",
       "\n",
       "[8380 rows x 4 columns]"
      ]
     },
     "execution_count": 15,
     "metadata": {},
     "output_type": "execute_result"
    }
   ],
   "source": [
    "open_source_8500 = open_source_8500[open_source_8500['cleanText'].str.strip() != '']\n",
    "open_source_8500"
   ]
  },
  {
   "cell_type": "code",
   "execution_count": 16,
   "id": "1dc462b5-c57f-40a7-90e2-bdbb91fa507f",
   "metadata": {},
   "outputs": [
    {
     "data": {
      "text/plain": [
       "count      50.000000\n",
       "mean      167.600000\n",
       "std       558.807769\n",
       "min         7.000000\n",
       "25%        25.000000\n",
       "50%        44.500000\n",
       "75%       117.500000\n",
       "max      3963.000000\n",
       "Name: count, dtype: float64"
      ]
     },
     "execution_count": 16,
     "metadata": {},
     "output_type": "execute_result"
    }
   ],
   "source": [
    "targetClassCnt=open_source_8500['Assignment group'].value_counts()\n",
    "targetClassCnt.describe()"
   ]
  },
  {
   "cell_type": "code",
   "execution_count": null,
   "id": "8f1266ab-64e2-4f9f-b1e6-90a7531395ce",
   "metadata": {},
   "outputs": [],
   "source": []
  },
  {
   "cell_type": "markdown",
   "id": "9b5a2ba6-8200-4079-a18f-df3f0a3de434",
   "metadata": {
    "jp-MarkdownHeadingCollapsed": true
   },
   "source": [
    "## Resample"
   ]
  },
  {
   "cell_type": "code",
   "execution_count": 20,
   "id": "06e149de-73ab-4c03-8a1b-4088ebdf04a1",
   "metadata": {},
   "outputs": [
    {
     "data": {
      "text/plain": [
       "<Axes: xlabel='Assignment group', ylabel='count'>"
      ]
     },
     "execution_count": 20,
     "metadata": {},
     "output_type": "execute_result"
    },
    {
     "data": {
      "image/png": "[encoded data removed]",
      "text/plain": [
       "<Figure size 500x500 with 1 Axes>"
      ]
     },
     "metadata": {},
     "output_type": "display_data"
    }
   ],
   "source": [
    "import seaborn as sns\n",
    "itTicketGRP0DF = open_source_8500.copy()\n",
    "itTicketGRP0DF['Assignment group']=itTicketGRP0DF['Assignment group'].apply(lambda x : 'other' if x != 'GRP_0'  else x)\n",
    "\n",
    "descending_order = itTicketGRP0DF['Assignment group'].value_counts().sort_values(ascending=False).index\n",
    "plt.subplots(figsize=(5,5))\n",
    "sns.countplot(x='Assignment group', data=itTicketGRP0DF, color='royalblue',order=descending_order)"
   ]
  },
  {
   "cell_type": "code",
   "execution_count": 21,
   "id": "8658d2b7-09c8-4b72-852d-a53b5e09cfce",
   "metadata": {},
   "outputs": [
    {
     "data": {
      "image/png": "[encoded data removed]",
      "text/plain": [
       "<Figure size 2200x500 with 1 Axes>"
      ]
     },
     "metadata": {},
     "output_type": "display_data"
    }
   ],
   "source": [
    "import seaborn as sns\n",
    "import matplotlib.pyplot as plt\n",
    "\n",
    "# 過濾掉 'GRP_0' 組別\n",
    "itTicketOthersDF = open_source_8500[open_source_8500['Assignment group'] != 'GRP_0']\n",
    "\n",
    "# 獲取按頻率排序的 Assignment group\n",
    "descending_order = itTicketOthersDF['Assignment group'].value_counts().sort_values(ascending=False).index\n",
    "\n",
    "plt.subplots(figsize=(22, 5))\n",
    "ax = sns.countplot(x='Assignment group', data=itTicketOthersDF, color='royalblue', order=descending_order)\n",
    "\n",
    "# 使用 tick_params 設置標籤旋轉\n",
    "ax.tick_params(axis='x', rotation=45)\n",
    "\n",
    "plt.tight_layout()\n",
    "plt.show()"
   ]
  },
  {
   "cell_type": "code",
   "execution_count": 22,
   "id": "27b84386-773a-4a8b-ba32-47762a174e9c",
   "metadata": {},
   "outputs": [
    {
     "data": {
      "text/plain": [
       "661"
      ]
     },
     "execution_count": 22,
     "metadata": {},
     "output_type": "execute_result"
    }
   ],
   "source": [
    "maxOthers = itTicketOthersDF['Assignment group'].value_counts().max()\n",
    "maxOthers"
   ]
  },
  {
   "cell_type": "code",
   "execution_count": 23,
   "id": "3861a208-b3a5-4009-864c-12463917dc61",
   "metadata": {},
   "outputs": [
    {
     "data": {
      "image/png": "[encoded data removed]",
      "text/plain": [
       "<Figure size 2200x500 with 1 Axes>"
      ]
     },
     "metadata": {},
     "output_type": "display_data"
    }
   ],
   "source": [
    "from sklearn.utils import resample\n",
    "import pandas as pd\n",
    "import matplotlib.pyplot as plt\n",
    "import seaborn as sns\n",
    "\n",
    "# 初始化空的 DataFrame\n",
    "itTicketOthersDF_resampled = pd.DataFrame()\n",
    "\n",
    "# 進行重抽樣\n",
    "for grp in itTicketOthersDF['Assignment group'].unique():\n",
    "    itTicketGrpDF = itTicketOthersDF[itTicketOthersDF['Assignment group'] == grp]\n",
    "    resampled = resample(itTicketGrpDF, replace=True, n_samples=int(maxOthers / 2), random_state=123)\n",
    "    itTicketOthersDF_resampled = pd.concat([itTicketOthersDF_resampled, resampled], ignore_index=True)\n",
    "\n",
    "# 合併資料\n",
    "otherGrpsResampled = pd.concat([itTicketGRP0DF, itTicketOthersDF_resampled], ignore_index=True)\n",
    "otherGrpsResampled.reset_index(inplace=True, drop=True)\n",
    "\n",
    "# 繪製圖表\n",
    "plt.subplots(figsize=(22, 5))\n",
    "ax = sns.countplot(x='Assignment group', data=itTicketOthersDF_resampled, color='royalblue')\n",
    "\n",
    "# 使用 tick_params 設置旋轉標籤\n",
    "ax.tick_params(axis='x', rotation=45)\n",
    "\n",
    "plt.tight_layout()\n",
    "plt.show()"
   ]
  },
  {
   "cell_type": "code",
   "execution_count": 24,
   "id": "dc7256ad-8ff9-4b1b-b349-ee82d3d72bab",
   "metadata": {},
   "outputs": [
    {
     "data": {
      "image/png": "[encoded data removed]",
      "text/plain": [
       "<Figure size 2200x500 with 1 Axes>"
      ]
     },
     "metadata": {},
     "output_type": "display_data"
    }
   ],
   "source": [
    "from sklearn.utils import resample\n",
    "import pandas as pd\n",
    "import matplotlib.pyplot as plt\n",
    "import seaborn as sns\n",
    "\n",
    "# 初始化空的 DataFrame\n",
    "itTicketDF_resampled = pd.DataFrame()\n",
    "\n",
    "# 進行重抽樣\n",
    "for grp in open_source_8500['Assignment group'].unique():\n",
    "    itTicketGrpDF = open_source_8500[open_source_8500['Assignment group'] == grp]\n",
    "    resampled = resample(itTicketGrpDF, replace=True, n_samples=661, random_state=123)  # 將 n_samples 設為 661\n",
    "    itTicketDF_resampled = pd.concat([itTicketDF_resampled, resampled], ignore_index=True)\n",
    "\n",
    "# 繪製圖表\n",
    "plt.subplots(figsize=(22, 5))\n",
    "ax = sns.countplot(x='Assignment group', data=itTicketDF_resampled, color='royalblue')\n",
    "\n",
    "# 使用 tick_params 設置旋轉標籤\n",
    "ax.tick_params(axis='x', rotation=45)\n",
    "\n",
    "plt.tight_layout()\n",
    "plt.show()"
   ]
  },
  {
   "cell_type": "code",
   "execution_count": 25,
   "id": "a4c02f57-191c-4108-9184-b2127ae9f785",
   "metadata": {},
   "outputs": [],
   "source": [
    "from sklearn import preprocessing\n",
    "def labelencoder(dataframe) : \n",
    "  label_encoder = preprocessing.LabelEncoder() \n",
    "  dataframe= label_encoder.fit_transform(dataframe)\n",
    "  grp_mapping = dict(zip(label_encoder.transform(label_encoder.classes_), label_encoder.classes_))\n",
    "  return dataframe,grp_mapping\n",
    "\n",
    "#itTicketGRP0DF['Assignment group'] , grp_mapping_grp0= labelencoder(itTicketGRP0DF['Assignment group'])\n",
    "#itTicketOthersDF_resampled['Assignment group'] , grp_mapping_others_resampled= labelencoder(itTicketOthersDF_resampled['Assignment group'])\n",
    "#otherGrpsResampled['Assignment group'] , grp_mapping_others_resampled= labelencoder(otherGrpsResampled['Assignment group'])\n",
    "itTicketDF_resampled['Assignment group'] , grp_mapping_all_resampled= labelencoder(itTicketDF_resampled['Assignment group'])\n",
    "#itTicketDF['Assignment group'],grp_mapping_all_raw = labelencoder(itTicketDF['Assignment group'])"
   ]
  },
  {
   "cell_type": "code",
   "execution_count": 26,
   "id": "40b3d1aa-9dc4-488d-92e9-bf23227bf086",
   "metadata": {},
   "outputs": [],
   "source": [
    "from sklearn import preprocessing\n",
    "def labelencoder(dataframe) : \n",
    "  label_encoder = preprocessing.LabelEncoder() \n",
    "  dataframe= label_encoder.fit_transform(dataframe)\n",
    "  grp_mapping = dict(zip(label_encoder.transform(label_encoder.classes_), label_encoder.classes_))\n",
    "  return dataframe,grp_mapping\n",
    "\n",
    "#itTicketGRP0DF['Assignment group'] , grp_mapping_grp0= labelencoder(itTicketGRP0DF['Assignment group'])\n",
    "#itTicketOthersDF_resampled['Assignment group'] , grp_mapping_others_resampled= labelencoder(itTicketOthersDF_resampled['Assignment group'])\n",
    "otherGrpsResampled['Assignment group'] , grp_mapping_others_resampled= labelencoder(otherGrpsResampled['Assignment group'])\n",
    "itTicketDF_resampled['Assignment group'] , grp_mapping_all_resampled= labelencoder(itTicketDF_resampled['Assignment group'])\n",
    "open_source_8500['Assignment group'],grp_mapping_all_raw = labelencoder(open_source_8500['Assignment group'])"
   ]
  },
  {
   "cell_type": "markdown",
   "id": "967c7310-367a-4b42-a21f-601199473d2c",
   "metadata": {},
   "source": [
    "# data split"
   ]
  },
  {
   "cell_type": "code",
   "execution_count": 17,
   "id": "4342c27f-3d09-41e1-8eb0-512a726d5dd6",
   "metadata": {},
   "outputs": [],
   "source": [
    "# Using itTicketDF_resampled dataset \n",
    "# df=itTicketDF_resampled\n",
    "df=open_source_8500"
   ]
  },
  {
   "cell_type": "code",
   "execution_count": 18,
   "id": "b9df409f-99e0-41b1-b869-36ee0a16eae4",
   "metadata": {},
   "outputs": [
    {
     "data": {
      "text/html": [
       "<div>\n",
       "<style scoped>\n",
       "    .dataframe tbody tr th:only-of-type {\n",
       "        vertical-align: middle;\n",
       "    }\n",
       "\n",
       "    .dataframe tbody tr th {\n",
       "        vertical-align: top;\n",
       "    }\n",
       "\n",
       "    .dataframe thead th {\n",
       "        text-align: right;\n",
       "    }\n",
       "</style>\n",
       "<table border=\"1\" class=\"dataframe\">\n",
       "  <thead>\n",
       "    <tr style=\"text-align: right;\">\n",
       "      <th></th>\n",
       "      <th>Description</th>\n",
       "      <th>Assignment group</th>\n",
       "      <th>cleanText</th>\n",
       "      <th>Assignment_group_label</th>\n",
       "    </tr>\n",
       "  </thead>\n",
       "  <tbody>\n",
       "    <tr>\n",
       "      <th>0</th>\n",
       "      <td>verified user details employee and manager nam...</td>\n",
       "      <td>GRP_0</td>\n",
       "      <td>verified user details employee manager name ch...</td>\n",
       "      <td>0</td>\n",
       "    </tr>\n",
       "    <tr>\n",
       "      <th>1</th>\n",
       "      <td>xd xd xd hello team xd xd my meetings skype me...</td>\n",
       "      <td>GRP_0</td>\n",
       "      <td>hello team meetings skype meetings etc appeari...</td>\n",
       "      <td>0</td>\n",
       "    </tr>\n",
       "    <tr>\n",
       "      <th>2</th>\n",
       "      <td>xd xd xd hi xd xd cannot log on to vpn xd xd best</td>\n",
       "      <td>GRP_0</td>\n",
       "      <td>cannot log vpn best</td>\n",
       "      <td>0</td>\n",
       "    </tr>\n",
       "    <tr>\n",
       "      <th>3</th>\n",
       "      <td>unable to access hr tool page</td>\n",
       "      <td>GRP_0</td>\n",
       "      <td>unable access tool page</td>\n",
       "      <td>0</td>\n",
       "    </tr>\n",
       "    <tr>\n",
       "      <th>4</th>\n",
       "      <td>skype error</td>\n",
       "      <td>GRP_0</td>\n",
       "      <td>skype error</td>\n",
       "      <td>0</td>\n",
       "    </tr>\n",
       "    <tr>\n",
       "      <th>...</th>\n",
       "      <td>...</td>\n",
       "      <td>...</td>\n",
       "      <td>...</td>\n",
       "      <td>...</td>\n",
       "    </tr>\n",
       "    <tr>\n",
       "      <th>8495</th>\n",
       "      <td>xd xd xd good afternoon xd am not receiving th...</td>\n",
       "      <td>GRP_29</td>\n",
       "      <td>good afternoon receiving emails sent mail plea...</td>\n",
       "      <td>22</td>\n",
       "    </tr>\n",
       "    <tr>\n",
       "      <th>8496</th>\n",
       "      <td>telephony software issue</td>\n",
       "      <td>GRP_0</td>\n",
       "      <td>telephony software issue</td>\n",
       "      <td>0</td>\n",
       "    </tr>\n",
       "    <tr>\n",
       "      <th>8497</th>\n",
       "      <td>vip windows password reset for tifpdchb pedxruyf</td>\n",
       "      <td>GRP_0</td>\n",
       "      <td>vip windows password reset tifpdchb pedxruyf</td>\n",
       "      <td>0</td>\n",
       "    </tr>\n",
       "    <tr>\n",
       "      <th>8498</th>\n",
       "      <td>i am unable to access the machine utilities to...</td>\n",
       "      <td>GRP_62</td>\n",
       "      <td>unable access machine utilities finish drawers...</td>\n",
       "      <td>44</td>\n",
       "    </tr>\n",
       "    <tr>\n",
       "      <th>8499</th>\n",
       "      <td>an mehreren pc lassen sich verschiedene prgram...</td>\n",
       "      <td>misc_grp</td>\n",
       "      <td>mehreren lassen sich verschiedene prgramdntyme...</td>\n",
       "      <td>49</td>\n",
       "    </tr>\n",
       "  </tbody>\n",
       "</table>\n",
       "<p>8380 rows × 4 columns</p>\n",
       "</div>"
      ],
      "text/plain": [
       "                                            Description Assignment group  \\\n",
       "0     verified user details employee and manager nam...            GRP_0   \n",
       "1     xd xd xd hello team xd xd my meetings skype me...            GRP_0   \n",
       "2     xd xd xd hi xd xd cannot log on to vpn xd xd best            GRP_0   \n",
       "3                         unable to access hr tool page            GRP_0   \n",
       "4                                           skype error            GRP_0   \n",
       "...                                                 ...              ...   \n",
       "8495  xd xd xd good afternoon xd am not receiving th...           GRP_29   \n",
       "8496                           telephony software issue            GRP_0   \n",
       "8497   vip windows password reset for tifpdchb pedxruyf            GRP_0   \n",
       "8498  i am unable to access the machine utilities to...           GRP_62   \n",
       "8499  an mehreren pc lassen sich verschiedene prgram...         misc_grp   \n",
       "\n",
       "                                              cleanText  \\\n",
       "0     verified user details employee manager name ch...   \n",
       "1     hello team meetings skype meetings etc appeari...   \n",
       "2                                   cannot log vpn best   \n",
       "3                               unable access tool page   \n",
       "4                                           skype error   \n",
       "...                                                 ...   \n",
       "8495  good afternoon receiving emails sent mail plea...   \n",
       "8496                           telephony software issue   \n",
       "8497       vip windows password reset tifpdchb pedxruyf   \n",
       "8498  unable access machine utilities finish drawers...   \n",
       "8499  mehreren lassen sich verschiedene prgramdntyme...   \n",
       "\n",
       "      Assignment_group_label  \n",
       "0                          0  \n",
       "1                          0  \n",
       "2                          0  \n",
       "3                          0  \n",
       "4                          0  \n",
       "...                      ...  \n",
       "8495                      22  \n",
       "8496                       0  \n",
       "8497                       0  \n",
       "8498                      44  \n",
       "8499                      49  \n",
       "\n",
       "[8380 rows x 4 columns]"
      ]
     },
     "execution_count": 18,
     "metadata": {},
     "output_type": "execute_result"
    }
   ],
   "source": [
    "df = df[df['cleanText'].notnull()]\n",
    "df"
   ]
  },
  {
   "cell_type": "code",
   "execution_count": 19,
   "id": "2120c561-0510-4122-8094-329126e1a628",
   "metadata": {},
   "outputs": [],
   "source": [
    "df['Inbound Message'] = df['cleanText']\n",
    "df['Label']= df['Assignment_group_label']"
   ]
  },
  {
   "cell_type": "code",
   "execution_count": 20,
   "id": "ad7dbf52-cce0-4310-aab5-d7af6115384b",
   "metadata": {},
   "outputs": [
    {
     "name": "stdout",
     "output_type": "stream",
     "text": [
      "Print the shape of datasets...\n",
      "Training dataset : (6704, 6) \n",
      "Testing dataset : (838, 6)\n",
      "Validation dataset : (838, 6)\n"
     ]
    }
   ],
   "source": [
    "from sklearn.model_selection import train_test_split\n",
    "df_train,df_val=train_test_split(df,test_size=0.2 ,random_state=123)  # 80% train & 10 % validation & 10% test set\n",
    "df_val,df_test=train_test_split(df_val,test_size=0.5 ,random_state=123)\n",
    "\n",
    "print('Print the shape of datasets...')\n",
    "print(f'Training dataset : {df_train.shape} ')\n",
    "print(f'Testing dataset : {df_test.shape}') \n",
    "print(f'Validation dataset : {df_val.shape}')"
   ]
  },
  {
   "cell_type": "code",
   "execution_count": 21,
   "id": "feb2bf6c-6350-47f1-84ae-1f5fc9b37b8f",
   "metadata": {},
   "outputs": [
    {
     "data": {
      "text/plain": [
       "0       verified user details employee manager name ch...\n",
       "1       hello team meetings skype meetings etc appeari...\n",
       "2                                     cannot log vpn best\n",
       "3                                 unable access tool page\n",
       "4                                             skype error\n",
       "                              ...                        \n",
       "8495    good afternoon receiving emails sent mail plea...\n",
       "8496                             telephony software issue\n",
       "8497         vip windows password reset tifpdchb pedxruyf\n",
       "8498    unable access machine utilities finish drawers...\n",
       "8499    mehreren lassen sich verschiedene prgramdntyme...\n",
       "Name: cleanText, Length: 8380, dtype: object"
      ]
     },
     "execution_count": 21,
     "metadata": {},
     "output_type": "execute_result"
    }
   ],
   "source": [
    "df['cleanText']"
   ]
  },
  {
   "cell_type": "code",
   "execution_count": null,
   "id": "5b5e7309-5fff-40a3-b2f0-4a60db0a533c",
   "metadata": {},
   "outputs": [],
   "source": []
  },
  {
   "cell_type": "markdown",
   "id": "e328d524-81e7-41cd-8787-257f43981922",
   "metadata": {},
   "source": [
    "# paper train BERT"
   ]
  },
  {
   "cell_type": "code",
   "execution_count": 22,
   "id": "6c2f5fa1-0fe3-4fb6-8b08-d1d4b1c624c0",
   "metadata": {},
   "outputs": [],
   "source": [
    "from transformers import BertTokenizer, BertModel\n",
    "pre_trained_BERTmodel='bert-base-uncased'\n",
    "BERT_tokenizer=BertTokenizer.from_pretrained(pre_trained_BERTmodel, do_lower_case=True)"
   ]
  },
  {
   "cell_type": "code",
   "execution_count": 23,
   "id": "0987cbb2-5a25-4271-b600-5ed7ae802b49",
   "metadata": {},
   "outputs": [],
   "source": [
    "token_lens=[]\n",
    "for message in df_train['Inbound Message']:\n",
    "  tokens_message=BERT_tokenizer.encode(message, max_length=150,truncation=True)\n",
    "  token_lens.append(len(tokens_message))"
   ]
  },
  {
   "cell_type": "code",
   "execution_count": 24,
   "id": "e7d8c2d7-d2cc-4eff-8677-a61b83d8f798",
   "metadata": {},
   "outputs": [
    {
     "name": "stderr",
     "output_type": "stream",
     "text": [
      "C:\\Users\\User\\AppData\\Local\\Temp\\ipykernel_15276\\1734226617.py:3: UserWarning: \n",
      "\n",
      "`distplot` is a deprecated function and will be removed in seaborn v0.14.0.\n",
      "\n",
      "Please adapt your code to use either `displot` (a figure-level function with\n",
      "similar flexibility) or `histplot` (an axes-level function for histograms).\n",
      "\n",
      "For a guide to updating your code to use the new functions, please see\n",
      "https://gist.github.com/mwaskom/de44147ed2974457ad6372750bbe5751\n",
      "\n",
      "  sns.distplot(token_lens)\n"
     ]
    },
    {
     "data": {
      "text/plain": [
       "Text(0.5, 0, 'Token count')"
      ]
     },
     "execution_count": 24,
     "metadata": {},
     "output_type": "execute_result"
    },
    {
     "data": {
      "image/png": "[encoded data removed]",
      "text/plain": [
       "<Figure size 800x600 with 1 Axes>"
      ]
     },
     "metadata": {},
     "output_type": "display_data"
    }
   ],
   "source": [
    "#Plot the tokens\n",
    "plt.figure(figsize=(8,6))\n",
    "sns.distplot(token_lens)\n",
    "plt.xlim([0,150])\n",
    "plt.xlabel('Token count')"
   ]
  },
  {
   "cell_type": "code",
   "execution_count": 25,
   "id": "bf9dcbee-7963-4a1a-acfa-de709717c8bb",
   "metadata": {},
   "outputs": [],
   "source": [
    "from torch.utils.data import Dataset\n",
    "class message_Dataset(Dataset):\n",
    "\n",
    "  def __init__(self, messages, targets, tokenizer, max_length):\n",
    "    self.messages=messages\n",
    "    self.targets=targets\n",
    "    self.tokenizer=tokenizer\n",
    "    self.max_length=max_length\n",
    "\n",
    "  def __len__(self):\n",
    "    return len(self.messages)\n",
    "\n",
    "  def __getitem__(self,item):\n",
    "    message = str(self.messages[item])\n",
    "    targets = self.targets[item]\n",
    "\n",
    "    encoding = self.tokenizer.encode_plus(\n",
    "        message,\n",
    "        max_length=Max_length,\n",
    "        add_special_tokens=True,\n",
    "        pad_to_max_length=True,\n",
    "        truncation=True,\n",
    "        return_attention_mask=True,\n",
    "        return_token_type_ids=False,\n",
    "        return_tensors='pt'\n",
    "       )\n",
    "           \n",
    "    return {\n",
    "        'message_text':message,\n",
    "        'input_ids':encoding['input_ids'].flatten(),\n",
    "        'attention_mask':encoding['attention_mask'].flatten(),\n",
    "        'targets' : torch.tensor(targets,dtype=torch.long)\n",
    "    }"
   ]
  },
  {
   "cell_type": "code",
   "execution_count": 26,
   "id": "54448903-c305-46db-ba76-0bbf5b873627",
   "metadata": {},
   "outputs": [],
   "source": [
    "from torch.utils.data import DataLoader, Dataset\n",
    "batch_size=8\n",
    "Max_length= 35\n",
    "def data_loader(df,tokenizer, max_length, batch):\n",
    "  ds=message_Dataset(\n",
    "      messages=df['Inbound Message'].to_numpy(),\n",
    "      targets=df['Label'].to_numpy(),\n",
    "      tokenizer=tokenizer,\n",
    "      max_length=Max_length\n",
    "  )\n",
    "\n",
    "  return DataLoader(\n",
    "      ds,\n",
    "      batch_size=batch_size,\n",
    "      num_workers=0 ## 用4會噴錯\n",
    "  )\n",
    "\n",
    "# Load datasets\n",
    "train_DataLoader=data_loader(df_train, BERT_tokenizer,Max_length,batch_size)\n",
    "test_DataLoader=data_loader(df_test, BERT_tokenizer,Max_length,batch_size)\n",
    "valid_DataLoader=data_loader(df_val, BERT_tokenizer,Max_length,batch_size)"
   ]
  },
  {
   "cell_type": "code",
   "execution_count": 27,
   "id": "5d2e911b-baca-4a86-8afe-3cf655a54db5",
   "metadata": {},
   "outputs": [
    {
     "name": "stdout",
     "output_type": "stream",
     "text": [
      "函數 next 運行時間: 0.09 秒\n",
      "dict_keys(['message_text', 'input_ids', 'attention_mask', 'targets'])\n"
     ]
    },
    {
     "name": "stderr",
     "output_type": "stream",
     "text": [
      "C:\\Users\\User\\AppData\\Roaming\\Python\\Python311\\site-packages\\transformers\\tokenization_utils_base.py:2674: FutureWarning: The `pad_to_max_length` argument is deprecated and will be removed in a future version, use `padding=True` or `padding='longest'` to pad to the longest sequence in the batch, or use `padding='max_length'` to pad to a max length. In this case, you can give a specific length with `max_length` (e.g. `max_length=45`) or leave max_length to None to pad to the maximal input size of the model (e.g. 512 for Bert).\n",
      "  warnings.warn(\n"
     ]
    }
   ],
   "source": [
    "import time\n",
    "def measure_execution_time(func, *args, **kwargs):\n",
    "    import time\n",
    "    start_time = time.time()\n",
    "    result = func(*args, **kwargs)\n",
    "    end_time = time.time()\n",
    "    print(f\"函數 {func.__name__} 運行時間: {end_time - start_time:.2f} 秒\")\n",
    "    return result\n",
    "\n",
    "BERT_data = measure_execution_time(next, iter(train_DataLoader))\n",
    "print(BERT_data.keys())"
   ]
  },
  {
   "cell_type": "code",
   "execution_count": 28,
   "id": "7794917b-b008-4972-bb20-b510315b2257",
   "metadata": {},
   "outputs": [
    {
     "name": "stdout",
     "output_type": "stream",
     "text": [
      "Shape of the BERT_data keys...\n",
      "Input_ids : torch.Size([8, 35])\n",
      "Attention_mask : torch.Size([8, 35])\n",
      "targets : torch.Size([8])\n"
     ]
    }
   ],
   "source": [
    "#dict_keys(['message_text', 'input_ids', 'attention_mask', 'targets'])\n",
    "print('Shape of the BERT_data keys...')\n",
    "print(f\"Input_ids : {BERT_data['input_ids'].shape}\")\n",
    "print(f\"Attention_mask : {BERT_data['attention_mask'].shape}\")\n",
    "print(f\"targets : {BERT_data['targets'].shape}\")"
   ]
  },
  {
   "cell_type": "code",
   "execution_count": 29,
   "id": "33d9a836-bbe1-4dad-9911-28985f41e514",
   "metadata": {},
   "outputs": [
    {
     "name": "stdout",
     "output_type": "stream",
     "text": [
      "torch.Size([8, 35])\n",
      "torch.Size([8, 35])\n"
     ]
    }
   ],
   "source": [
    "input_ids = BERT_data['input_ids'].to(device)\n",
    "attention_mask = BERT_data['attention_mask'].to(device)\n",
    "targets=BERT_data['targets'].to(device)\n",
    "print(input_ids.shape)      # batch size x seq length\n",
    "print(attention_mask.shape) # batch size x seq length"
   ]
  },
  {
   "cell_type": "code",
   "execution_count": 30,
   "id": "08e377f9-6a6c-4077-987c-ccba9d44a55b",
   "metadata": {},
   "outputs": [],
   "source": [
    "BERT_model = BertModel.from_pretrained(pre_trained_BERTmodel)\n",
    "BERT_model=BERT_model.to(device)"
   ]
  },
  {
   "cell_type": "code",
   "execution_count": 31,
   "id": "b55cede3-9db8-4cec-883b-a621481fdbba",
   "metadata": {},
   "outputs": [],
   "source": [
    "n_classes=df['Label'].nunique()"
   ]
  },
  {
   "cell_type": "code",
   "execution_count": 32,
   "id": "29b404d9-4493-4496-8dc2-200c0509b8af",
   "metadata": {},
   "outputs": [],
   "source": [
    "import torch\n",
    "from torch import nn\n",
    "\n",
    "pre_trained_BERTmodel='bert-base-uncased'\n",
    "n_classes=df['Label'].nunique()\n",
    "\n",
    "class BERT_SentimentClassifier(nn.Module):\n",
    "   def __init__(self, n_classes):\n",
    "     super(BERT_SentimentClassifier, self).__init__()\n",
    "     self.bert = BertModel.from_pretrained(pre_trained_BERTmodel)\n",
    "     ### New layers:\n",
    "     self.lstm = nn.LSTM(768, 256, batch_first=True,bidirectional=True)\n",
    "     self.drop = nn.Dropout(p=float(0.6))\n",
    "     self.linear = nn.Linear(256*2, n_classes)\n",
    "     #self.drop1 = nn.Dropout(p=float(0.1))\n",
    "     #self.hidden=nn.Linear(self.bert.config.hidden_size,256)\n",
    "     #self.drop2 = nn.Dropout(p=float(0.1))\n",
    "     #self.out = nn.Linear(256, n_classes)\n",
    "   def forward(self, input_ids, attention_mask):\n",
    "     sequence_output, pooled_output = self.bert(\n",
    "         input_ids=input_ids,\n",
    "         attention_mask=attention_mask,\n",
    "         return_dict=False\n",
    "    )\n",
    "     # sequence_output has the following shape: (batch_size, sequence_length, 768)\n",
    "     lstm_output, (h,c) = self.lstm(sequence_output) ## extract the 1st token's embeddings\n",
    "     hidden = torch.cat((lstm_output[:,-1, :256],lstm_output[:,0, 256:]),dim=-1)\n",
    "     output = self.drop(lstm_output)\n",
    "     linear_output = self.linear(output[:,-1].view(-1,256*2)) ### We are only using the output of the last LSTM cell to perform classification\n",
    "\n",
    "     #output = self.drop1(pooled_output)\n",
    "     #output=self.hidden(output)\n",
    "     #output = self.drop2(output)\n",
    "     #output=self.out(output)\n",
    "     return linear_output"
   ]
  },
  {
   "cell_type": "code",
   "execution_count": 33,
   "id": "1061c21e-49b5-48a1-ab34-00c9e525c072",
   "metadata": {},
   "outputs": [],
   "source": [
    "BERT_model = BERT_SentimentClassifier(n_classes)\n",
    "BERT_model=BERT_model.to(device)"
   ]
  },
  {
   "cell_type": "code",
   "execution_count": 35,
   "id": "1fc950a3-908e-4b79-8e5b-d5308a1d37a7",
   "metadata": {},
   "outputs": [
    {
     "data": {
      "text/plain": [
       "tensor([[0.0175, 0.0200, 0.0154, 0.0182, 0.0201, 0.0187, 0.0192, 0.0167, 0.0202,\n",
       "         0.0206, 0.0198, 0.0222, 0.0182, 0.0188, 0.0215, 0.0162, 0.0179, 0.0234,\n",
       "         0.0177, 0.0208, 0.0190, 0.0220, 0.0212, 0.0159, 0.0212, 0.0281, 0.0184,\n",
       "         0.0192, 0.0205, 0.0219, 0.0205, 0.0189, 0.0226, 0.0214, 0.0195, 0.0207,\n",
       "         0.0200, 0.0216, 0.0187, 0.0203, 0.0215, 0.0218, 0.0219, 0.0225, 0.0227,\n",
       "         0.0158, 0.0205, 0.0196, 0.0198, 0.0190],\n",
       "        [0.0173, 0.0210, 0.0179, 0.0201, 0.0195, 0.0179, 0.0211, 0.0158, 0.0228,\n",
       "         0.0163, 0.0174, 0.0216, 0.0193, 0.0184, 0.0173, 0.0170, 0.0194, 0.0239,\n",
       "         0.0214, 0.0189, 0.0162, 0.0247, 0.0226, 0.0168, 0.0215, 0.0199, 0.0201,\n",
       "         0.0262, 0.0195, 0.0213, 0.0182, 0.0168, 0.0247, 0.0234, 0.0208, 0.0196,\n",
       "         0.0202, 0.0220, 0.0215, 0.0203, 0.0208, 0.0226, 0.0178, 0.0266, 0.0162,\n",
       "         0.0171, 0.0212, 0.0212, 0.0173, 0.0186],\n",
       "        [0.0190, 0.0196, 0.0190, 0.0207, 0.0263, 0.0225, 0.0189, 0.0196, 0.0199,\n",
       "         0.0192, 0.0182, 0.0198, 0.0193, 0.0195, 0.0164, 0.0173, 0.0178, 0.0223,\n",
       "         0.0190, 0.0195, 0.0227, 0.0167, 0.0215, 0.0166, 0.0190, 0.0198, 0.0201,\n",
       "         0.0225, 0.0220, 0.0214, 0.0209, 0.0180, 0.0247, 0.0204, 0.0196, 0.0185,\n",
       "         0.0227, 0.0203, 0.0176, 0.0186, 0.0219, 0.0235, 0.0181, 0.0178, 0.0189,\n",
       "         0.0170, 0.0221, 0.0218, 0.0228, 0.0187],\n",
       "        [0.0199, 0.0201, 0.0149, 0.0214, 0.0242, 0.0218, 0.0167, 0.0178, 0.0189,\n",
       "         0.0205, 0.0181, 0.0212, 0.0209, 0.0211, 0.0164, 0.0167, 0.0225, 0.0181,\n",
       "         0.0190, 0.0201, 0.0175, 0.0232, 0.0193, 0.0190, 0.0214, 0.0189, 0.0170,\n",
       "         0.0177, 0.0199, 0.0217, 0.0205, 0.0216, 0.0269, 0.0177, 0.0157, 0.0191,\n",
       "         0.0206, 0.0253, 0.0220, 0.0184, 0.0226, 0.0237, 0.0199, 0.0215, 0.0202,\n",
       "         0.0189, 0.0200, 0.0205, 0.0210, 0.0178],\n",
       "        [0.0163, 0.0232, 0.0185, 0.0176, 0.0231, 0.0219, 0.0255, 0.0221, 0.0195,\n",
       "         0.0203, 0.0170, 0.0199, 0.0180, 0.0219, 0.0200, 0.0165, 0.0196, 0.0158,\n",
       "         0.0158, 0.0200, 0.0229, 0.0239, 0.0199, 0.0173, 0.0199, 0.0194, 0.0173,\n",
       "         0.0204, 0.0208, 0.0179, 0.0213, 0.0240, 0.0260, 0.0161, 0.0189, 0.0235,\n",
       "         0.0210, 0.0214, 0.0198, 0.0168, 0.0251, 0.0230, 0.0192, 0.0194, 0.0214,\n",
       "         0.0174, 0.0134, 0.0210, 0.0215, 0.0176],\n",
       "        [0.0177, 0.0214, 0.0179, 0.0170, 0.0208, 0.0192, 0.0194, 0.0202, 0.0199,\n",
       "         0.0211, 0.0208, 0.0191, 0.0194, 0.0196, 0.0197, 0.0170, 0.0173, 0.0206,\n",
       "         0.0186, 0.0187, 0.0199, 0.0203, 0.0210, 0.0209, 0.0186, 0.0217, 0.0190,\n",
       "         0.0177, 0.0221, 0.0200, 0.0176, 0.0181, 0.0225, 0.0159, 0.0222, 0.0165,\n",
       "         0.0209, 0.0245, 0.0204, 0.0206, 0.0188, 0.0232, 0.0208, 0.0211, 0.0224,\n",
       "         0.0193, 0.0200, 0.0216, 0.0222, 0.0247],\n",
       "        [0.0172, 0.0210, 0.0219, 0.0171, 0.0199, 0.0205, 0.0180, 0.0137, 0.0194,\n",
       "         0.0186, 0.0226, 0.0182, 0.0171, 0.0196, 0.0202, 0.0206, 0.0209, 0.0190,\n",
       "         0.0223, 0.0214, 0.0178, 0.0203, 0.0234, 0.0181, 0.0207, 0.0214, 0.0175,\n",
       "         0.0195, 0.0211, 0.0201, 0.0189, 0.0171, 0.0211, 0.0216, 0.0214, 0.0179,\n",
       "         0.0226, 0.0166, 0.0222, 0.0201, 0.0245, 0.0226, 0.0198, 0.0241, 0.0194,\n",
       "         0.0248, 0.0205, 0.0175, 0.0172, 0.0211],\n",
       "        [0.0174, 0.0234, 0.0181, 0.0164, 0.0240, 0.0253, 0.0188, 0.0207, 0.0230,\n",
       "         0.0173, 0.0145, 0.0241, 0.0238, 0.0169, 0.0192, 0.0152, 0.0179, 0.0193,\n",
       "         0.0202, 0.0219, 0.0195, 0.0193, 0.0210, 0.0200, 0.0182, 0.0198, 0.0159,\n",
       "         0.0223, 0.0205, 0.0246, 0.0212, 0.0161, 0.0235, 0.0196, 0.0172, 0.0207,\n",
       "         0.0242, 0.0207, 0.0198, 0.0171, 0.0217, 0.0209, 0.0212, 0.0213, 0.0176,\n",
       "         0.0210, 0.0159, 0.0245, 0.0174, 0.0203]], device='cuda:0',\n",
       "       grad_fn=<SoftmaxBackward0>)"
      ]
     },
     "execution_count": 35,
     "metadata": {},
     "output_type": "execute_result"
    }
   ],
   "source": [
    "import torch.nn.functional as F \n",
    "F.softmax(BERT_model(input_ids,attention_mask), dim=1).to(device)"
   ]
  },
  {
   "cell_type": "code",
   "execution_count": 36,
   "id": "2551a279-3db6-4260-9091-b56116a26faa",
   "metadata": {},
   "outputs": [
    {
     "data": {
      "text/plain": [
       "BERT_SentimentClassifier(\n",
       "  (bert): BertModel(\n",
       "    (embeddings): BertEmbeddings(\n",
       "      (word_embeddings): Embedding(30522, 768, padding_idx=0)\n",
       "      (position_embeddings): Embedding(512, 768)\n",
       "      (token_type_embeddings): Embedding(2, 768)\n",
       "      (LayerNorm): LayerNorm((768,), eps=1e-12, elementwise_affine=True)\n",
       "      (dropout): Dropout(p=0.1, inplace=False)\n",
       "    )\n",
       "    (encoder): BertEncoder(\n",
       "      (layer): ModuleList(\n",
       "        (0-11): 12 x BertLayer(\n",
       "          (attention): BertAttention(\n",
       "            (self): BertSelfAttention(\n",
       "              (query): Linear(in_features=768, out_features=768, bias=True)\n",
       "              (key): Linear(in_features=768, out_features=768, bias=True)\n",
       "              (value): Linear(in_features=768, out_features=768, bias=True)\n",
       "              (dropout): Dropout(p=0.1, inplace=False)\n",
       "            )\n",
       "            (output): BertSelfOutput(\n",
       "              (dense): Linear(in_features=768, out_features=768, bias=True)\n",
       "              (LayerNorm): LayerNorm((768,), eps=1e-12, elementwise_affine=True)\n",
       "              (dropout): Dropout(p=0.1, inplace=False)\n",
       "            )\n",
       "          )\n",
       "          (intermediate): BertIntermediate(\n",
       "            (dense): Linear(in_features=768, out_features=3072, bias=True)\n",
       "            (intermediate_act_fn): GELUActivation()\n",
       "          )\n",
       "          (output): BertOutput(\n",
       "            (dense): Linear(in_features=3072, out_features=768, bias=True)\n",
       "            (LayerNorm): LayerNorm((768,), eps=1e-12, elementwise_affine=True)\n",
       "            (dropout): Dropout(p=0.1, inplace=False)\n",
       "          )\n",
       "        )\n",
       "      )\n",
       "    )\n",
       "    (pooler): BertPooler(\n",
       "      (dense): Linear(in_features=768, out_features=768, bias=True)\n",
       "      (activation): Tanh()\n",
       "    )\n",
       "  )\n",
       "  (lstm): LSTM(768, 256, batch_first=True, bidirectional=True)\n",
       "  (drop): Dropout(p=0.6, inplace=False)\n",
       "  (linear): Linear(in_features=512, out_features=50, bias=True)\n",
       ")"
      ]
     },
     "execution_count": 36,
     "metadata": {},
     "output_type": "execute_result"
    }
   ],
   "source": [
    "BERT_model"
   ]
  },
  {
   "cell_type": "code",
   "execution_count": 37,
   "id": "4a6b3f94-1aab-40eb-a35f-2852a23bb13d",
   "metadata": {},
   "outputs": [
    {
     "name": "stderr",
     "output_type": "stream",
     "text": [
      "C:\\Users\\User\\AppData\\Roaming\\Python\\Python311\\site-packages\\transformers\\optimization.py:521: FutureWarning: This implementation of AdamW is deprecated and will be removed in a future version. Use the PyTorch implementation torch.optim.AdamW instead, or set `no_deprecation_warning=True` to disable this warning\n",
      "  warnings.warn(\n"
     ]
    }
   ],
   "source": [
    "from transformers import AdamW\n",
    "from transformers import get_linear_schedule_with_warmup\n",
    "\n",
    "epochs=20\n",
    "optimizer=AdamW(BERT_model.parameters(),lr=1e-5,correct_bias=False)\n",
    "total_steps=len(train_DataLoader)*epochs\n",
    "\n",
    "scheduler=get_linear_schedule_with_warmup(\n",
    "    optimizer,\n",
    "    num_warmup_steps=0,\n",
    "    num_training_steps=total_steps\n",
    ")\n",
    "\n",
    "loss_fn=nn.CrossEntropyLoss().to(device)"
   ]
  },
  {
   "cell_type": "code",
   "execution_count": 39,
   "id": "abef8f9d-5a0e-48b5-b4bf-5b9fbc8ed44c",
   "metadata": {},
   "outputs": [],
   "source": [
    "def train(\n",
    "  model,\n",
    "  data_loader,\n",
    "  loss_fn,\n",
    "  optimizer,\n",
    "  device,\n",
    "  scheduler,\n",
    "  n_observations\n",
    "):\n",
    "  model = model.train()\n",
    "  losses = []\n",
    "  correct_predictions = 0\n",
    "  for d in data_loader:\n",
    "    input_ids = d[\"input_ids\"].to(device)\n",
    "    attention_mask = d[\"attention_mask\"].to(device)\n",
    "    targets = d[\"targets\"].to(device)\n",
    "    #Feed data to BERT model\n",
    "    outputs = model(\n",
    "      input_ids=input_ids,\n",
    "      attention_mask=attention_mask\n",
    "      )\n",
    "    _, preds = torch.max(outputs, dim=1)\n",
    "    loss = loss_fn(outputs, targets)\n",
    "    correct_predictions += torch.sum(preds == targets)\n",
    "    losses.append(loss.item())\n",
    "    torch.autograd.set_detect_anomaly(True)\n",
    "    loss.backward()\n",
    "    nn.utils.clip_grad_norm_(model.parameters(), max_norm=1.0)     # Clip gradients to avoid exploding gradient problem\n",
    "    optimizer.step()\n",
    "    scheduler.step()\n",
    "    optimizer.zero_grad()\n",
    "  return correct_predictions.double() / n_observations, np.mean(losses)"
   ]
  },
  {
   "cell_type": "code",
   "execution_count": 40,
   "id": "4ac41ec8-5be1-4456-8df5-a305b9a615de",
   "metadata": {},
   "outputs": [],
   "source": [
    "def eval_model(model, data_loader,device,loss_fn, n_observations):\n",
    "  model = model.eval()\n",
    "  losses = []\n",
    "  correct_predictions = 0\n",
    "  with torch.no_grad():\n",
    "    for d in data_loader:\n",
    "      input_ids = d[\"input_ids\"].to(device)\n",
    "      attention_mask = d[\"attention_mask\"].to(device)\n",
    "      targets = d[\"targets\"].to(device)\n",
    "      # Feed data to BERT model\n",
    "      outputs = model(\n",
    "        input_ids=input_ids,\n",
    "        attention_mask=attention_mask,\n",
    "      )\n",
    "      _, preds = torch.max(outputs, dim=1)\n",
    "      loss = loss_fn(outputs, targets)\n",
    "      correct_predictions += torch.sum(preds == targets)\n",
    "      losses.append(loss.item())\n",
    "  return correct_predictions.double() / n_observations, np.mean(losses)"
   ]
  },
  {
   "cell_type": "code",
   "execution_count": 38,
   "id": "87a8d158-17df-4557-a453-131d83fa40e1",
   "metadata": {},
   "outputs": [],
   "source": [
    "class EarlyStopping:\n",
    "    def __init__(self, patience=5, min_delta=0.001, verbose=True):\n",
    "        \"\"\"\n",
    "        patience: 設定多少個 epochs 內如果 loss 沒有改善，就停止訓練\n",
    "        min_delta: 設定最小的 loss 改善幅度\n",
    "        \"\"\"\n",
    "        self.patience = patience\n",
    "        self.min_delta = min_delta\n",
    "        self.verbose = verbose\n",
    "        self.counter = 0\n",
    "        self.best_loss = float('inf')\n",
    "        self.early_stop = False\n",
    "\n",
    "    def __call__(self, val_loss):\n",
    "        if val_loss < self.best_loss - self.min_delta:\n",
    "            self.best_loss = val_loss\n",
    "            self.counter = 0  # 重置計數器\n",
    "        else:\n",
    "            self.counter += 1\n",
    "            if self.verbose:\n",
    "                print(f\"EarlyStopping counter: {self.counter} / {self.patience}\")\n",
    "            if self.counter >= self.patience:\n",
    "                self.early_stop = True"
   ]
  },
  {
   "cell_type": "code",
   "execution_count": 41,
   "id": "b1e40058-6305-4611-b7ab-387007e3e33c",
   "metadata": {},
   "outputs": [
    {
     "data": {
      "application/vnd.jupyter.widget-view+json": {
       "model_id": "d49ba20c13dd4818987aa9b2733a5e67",
       "version_major": 2,
       "version_minor": 0
      },
      "text/plain": [
       "Epochs:   0%|          | 0/20 [00:00<?, ?it/s]"
      ]
     },
     "metadata": {},
     "output_type": "display_data"
    },
    {
     "name": "stdout",
     "output_type": "stream",
     "text": [
      "\n",
      "Epoch 1/20\n",
      "----------\n"
     ]
    },
    {
     "data": {
      "application/vnd.jupyter.widget-view+json": {
       "model_id": "5729009799a14e6e9b3c7d33b0ba734c",
       "version_major": 2,
       "version_minor": 0
      },
      "text/plain": [
       "Training:   0%|          | 0/838 [00:00<?, ?it/s]"
      ]
     },
     "metadata": {},
     "output_type": "display_data"
    },
    {
     "name": "stdout",
     "output_type": "stream",
     "text": [
      "Train loss: 2.1659, accuracy: 0.5453\n"
     ]
    },
    {
     "data": {
      "application/vnd.jupyter.widget-view+json": {
       "model_id": "74e38e68115d480b815a83ef557d9264",
       "version_major": 2,
       "version_minor": 0
      },
      "text/plain": [
       "Validation:   0%|          | 0/105 [00:00<?, ?it/s]"
      ]
     },
     "metadata": {},
     "output_type": "display_data"
    },
    {
     "name": "stdout",
     "output_type": "stream",
     "text": [
      "Validation loss: 1.8670, accuracy: 0.5919\n",
      "\n",
      "Epoch 2/20\n",
      "----------\n"
     ]
    },
    {
     "data": {
      "application/vnd.jupyter.widget-view+json": {
       "model_id": "3396612338c4440fba459dd2ea976752",
       "version_major": 2,
       "version_minor": 0
      },
      "text/plain": [
       "Training:   0%|          | 0/838 [00:00<?, ?it/s]"
      ]
     },
     "metadata": {},
     "output_type": "display_data"
    },
    {
     "name": "stdout",
     "output_type": "stream",
     "text": [
      "Train loss: 1.8248, accuracy: 0.5874\n"
     ]
    },
    {
     "data": {
      "application/vnd.jupyter.widget-view+json": {
       "model_id": "ced5d266b7814d6eb0f9e568e84cebc5",
       "version_major": 2,
       "version_minor": 0
      },
      "text/plain": [
       "Validation:   0%|          | 0/105 [00:00<?, ?it/s]"
      ]
     },
     "metadata": {},
     "output_type": "display_data"
    },
    {
     "name": "stdout",
     "output_type": "stream",
     "text": [
      "Validation loss: 1.7506, accuracy: 0.6122\n",
      "\n",
      "Epoch 3/20\n",
      "----------\n"
     ]
    },
    {
     "data": {
      "application/vnd.jupyter.widget-view+json": {
       "model_id": "f567aec832ce4d059609166cbcbf5654",
       "version_major": 2,
       "version_minor": 0
      },
      "text/plain": [
       "Training:   0%|          | 0/838 [00:00<?, ?it/s]"
      ]
     },
     "metadata": {},
     "output_type": "display_data"
    },
    {
     "name": "stdout",
     "output_type": "stream",
     "text": [
      "Train loss: 1.6370, accuracy: 0.6149\n"
     ]
    },
    {
     "data": {
      "application/vnd.jupyter.widget-view+json": {
       "model_id": "31b31c2174524fafaa24d1233154edd9",
       "version_major": 2,
       "version_minor": 0
      },
      "text/plain": [
       "Validation:   0%|          | 0/105 [00:00<?, ?it/s]"
      ]
     },
     "metadata": {},
     "output_type": "display_data"
    },
    {
     "name": "stdout",
     "output_type": "stream",
     "text": [
      "Validation loss: 1.7174, accuracy: 0.6098\n",
      "\n",
      "Epoch 4/20\n",
      "----------\n"
     ]
    },
    {
     "data": {
      "application/vnd.jupyter.widget-view+json": {
       "model_id": "f4fc5147bce34ec493fb01e4581cb74b",
       "version_major": 2,
       "version_minor": 0
      },
      "text/plain": [
       "Training:   0%|          | 0/838 [00:00<?, ?it/s]"
      ]
     },
     "metadata": {},
     "output_type": "display_data"
    },
    {
     "name": "stdout",
     "output_type": "stream",
     "text": [
      "Train loss: 1.4909, accuracy: 0.6374\n"
     ]
    },
    {
     "data": {
      "application/vnd.jupyter.widget-view+json": {
       "model_id": "896bc902caed498d9efb5115242f9af9",
       "version_major": 2,
       "version_minor": 0
      },
      "text/plain": [
       "Validation:   0%|          | 0/105 [00:00<?, ?it/s]"
      ]
     },
     "metadata": {},
     "output_type": "display_data"
    },
    {
     "name": "stdout",
     "output_type": "stream",
     "text": [
      "Validation loss: 1.6851, accuracy: 0.6074\n",
      "\n",
      "Epoch 5/20\n",
      "----------\n"
     ]
    },
    {
     "data": {
      "application/vnd.jupyter.widget-view+json": {
       "model_id": "64cec4492b814a42b9452d92ee1dad92",
       "version_major": 2,
       "version_minor": 0
      },
      "text/plain": [
       "Training:   0%|          | 0/838 [00:00<?, ?it/s]"
      ]
     },
     "metadata": {},
     "output_type": "display_data"
    },
    {
     "name": "stdout",
     "output_type": "stream",
     "text": [
      "Train loss: 1.3522, accuracy: 0.6648\n"
     ]
    },
    {
     "data": {
      "application/vnd.jupyter.widget-view+json": {
       "model_id": "11155312574343d0a93928a10cbb0431",
       "version_major": 2,
       "version_minor": 0
      },
      "text/plain": [
       "Validation:   0%|          | 0/105 [00:00<?, ?it/s]"
      ]
     },
     "metadata": {},
     "output_type": "display_data"
    },
    {
     "name": "stdout",
     "output_type": "stream",
     "text": [
      "Validation loss: 1.6979, accuracy: 0.6337\n",
      "EarlyStopping counter: 1 / 5\n",
      "\n",
      "Epoch 6/20\n",
      "----------\n"
     ]
    },
    {
     "data": {
      "application/vnd.jupyter.widget-view+json": {
       "model_id": "72d7606e0c134c6f80a1006dce088277",
       "version_major": 2,
       "version_minor": 0
      },
      "text/plain": [
       "Training:   0%|          | 0/838 [00:00<?, ?it/s]"
      ]
     },
     "metadata": {},
     "output_type": "display_data"
    },
    {
     "name": "stdout",
     "output_type": "stream",
     "text": [
      "Train loss: 1.2436, accuracy: 0.6967\n"
     ]
    },
    {
     "data": {
      "application/vnd.jupyter.widget-view+json": {
       "model_id": "775ec71add104d2aad29483197d19f2f",
       "version_major": 2,
       "version_minor": 0
      },
      "text/plain": [
       "Validation:   0%|          | 0/105 [00:00<?, ?it/s]"
      ]
     },
     "metadata": {},
     "output_type": "display_data"
    },
    {
     "name": "stdout",
     "output_type": "stream",
     "text": [
      "Validation loss: 1.6882, accuracy: 0.6301\n",
      "EarlyStopping counter: 2 / 5\n",
      "\n",
      "Epoch 7/20\n",
      "----------\n"
     ]
    },
    {
     "data": {
      "application/vnd.jupyter.widget-view+json": {
       "model_id": "ef95c03c46e9438d9bf4c840243304ad",
       "version_major": 2,
       "version_minor": 0
      },
      "text/plain": [
       "Training:   0%|          | 0/838 [00:00<?, ?it/s]"
      ]
     },
     "metadata": {},
     "output_type": "display_data"
    },
    {
     "name": "stdout",
     "output_type": "stream",
     "text": [
      "Train loss: 1.1484, accuracy: 0.7196\n"
     ]
    },
    {
     "data": {
      "application/vnd.jupyter.widget-view+json": {
       "model_id": "c7151f4512e84146a8d66e80f65781f0",
       "version_major": 2,
       "version_minor": 0
      },
      "text/plain": [
       "Validation:   0%|          | 0/105 [00:00<?, ?it/s]"
      ]
     },
     "metadata": {},
     "output_type": "display_data"
    },
    {
     "name": "stdout",
     "output_type": "stream",
     "text": [
      "Validation loss: 1.7007, accuracy: 0.6313\n",
      "EarlyStopping counter: 3 / 5\n",
      "\n",
      "Epoch 8/20\n",
      "----------\n"
     ]
    },
    {
     "data": {
      "application/vnd.jupyter.widget-view+json": {
       "model_id": "024d1daecbd64c5a858985b2edcb422c",
       "version_major": 2,
       "version_minor": 0
      },
      "text/plain": [
       "Training:   0%|          | 0/838 [00:00<?, ?it/s]"
      ]
     },
     "metadata": {},
     "output_type": "display_data"
    },
    {
     "name": "stdout",
     "output_type": "stream",
     "text": [
      "Train loss: 1.0571, accuracy: 0.7469\n"
     ]
    },
    {
     "data": {
      "application/vnd.jupyter.widget-view+json": {
       "model_id": "f2cf5772893048d5a30d95441585665b",
       "version_major": 2,
       "version_minor": 0
      },
      "text/plain": [
       "Validation:   0%|          | 0/105 [00:00<?, ?it/s]"
      ]
     },
     "metadata": {},
     "output_type": "display_data"
    },
    {
     "name": "stdout",
     "output_type": "stream",
     "text": [
      "Validation loss: 1.7304, accuracy: 0.6229\n",
      "EarlyStopping counter: 4 / 5\n",
      "\n",
      "Epoch 9/20\n",
      "----------\n"
     ]
    },
    {
     "data": {
      "application/vnd.jupyter.widget-view+json": {
       "model_id": "8f5e54552cad4c1ba6c9fa7790a01ba5",
       "version_major": 2,
       "version_minor": 0
      },
      "text/plain": [
       "Training:   0%|          | 0/838 [00:00<?, ?it/s]"
      ]
     },
     "metadata": {},
     "output_type": "display_data"
    },
    {
     "name": "stdout",
     "output_type": "stream",
     "text": [
      "Train loss: 0.9753, accuracy: 0.7679\n"
     ]
    },
    {
     "data": {
      "application/vnd.jupyter.widget-view+json": {
       "model_id": "d7005741746d4d7db2542f03cf4d8caa",
       "version_major": 2,
       "version_minor": 0
      },
      "text/plain": [
       "Validation:   0%|          | 0/105 [00:00<?, ?it/s]"
      ]
     },
     "metadata": {},
     "output_type": "display_data"
    },
    {
     "name": "stdout",
     "output_type": "stream",
     "text": [
      "Validation loss: 1.7671, accuracy: 0.6384\n",
      "EarlyStopping counter: 5 / 5\n",
      "Early stopping triggered. Stopping training.\n"
     ]
    }
   ],
   "source": [
    "from tqdm.notebook import tqdm\n",
    "from collections import defaultdict\n",
    "\n",
    "# 設定 Early Stopping 參數\n",
    "early_stopping = EarlyStopping(patience=5, min_delta=0.001, verbose=True)\n",
    "\n",
    "history = defaultdict(list)\n",
    "best_accuracy = 0\n",
    "\n",
    "for epoch in tqdm(range(epochs), desc=\"Epochs\", dynamic_ncols=True):\n",
    "    print(f'\\nEpoch {epoch + 1}/{epochs}')\n",
    "    print('-' * 10)\n",
    "\n",
    "    train_acc, train_loss = train(\n",
    "        BERT_model,\n",
    "        tqdm(train_DataLoader, desc=\"Training\", leave=True, dynamic_ncols=True),\n",
    "        loss_fn,\n",
    "        optimizer,\n",
    "        device,\n",
    "        scheduler,\n",
    "        len(df_train)\n",
    "    )\n",
    "\n",
    "    print(f'Train loss: {train_loss:.4f}, accuracy: {train_acc:.4f}')\n",
    "\n",
    "    val_acc, val_loss = eval_model(\n",
    "        BERT_model,\n",
    "        tqdm(valid_DataLoader, desc=\"Validation\", leave=True, dynamic_ncols=True),\n",
    "        device,\n",
    "        loss_fn,\n",
    "        len(df_val)\n",
    "    )\n",
    "\n",
    "    print(f'Validation loss: {val_loss:.4f}, accuracy: {val_acc:.4f}')\n",
    "\n",
    "    # 更新歷史記錄\n",
    "    history['train_acc'].append(train_acc)\n",
    "    history['train_loss'].append(train_loss)\n",
    "    history['val_acc'].append(val_acc)\n",
    "    history['val_loss'].append(val_loss)\n",
    "\n",
    "    # 檢查是否要 Early Stopping\n",
    "    early_stopping(val_loss)\n",
    "    if early_stopping.early_stop:\n",
    "        print(\"Early stopping triggered. Stopping training.\")\n",
    "        break  # 停止訓練\n",
    "\n",
    "    # 保存最佳模型\n",
    "    if val_acc > best_accuracy:\n",
    "        torch.save(BERT_model.state_dict(), 'best_BERT_model_state_itTicketDF_resampled_gpu.bin')\n",
    "        best_accuracy = val_acc"
   ]
  },
  {
   "cell_type": "code",
   "execution_count": 42,
   "id": "94da74e0-7821-47df-9386-45e984e6eda8",
   "metadata": {},
   "outputs": [
    {
     "data": {
      "text/plain": [
       "('../models/2025-02-03_baseline_bert_8500\\\\tokenizer_config.json',\n",
       " '../models/2025-02-03_baseline_bert_8500\\\\special_tokens_map.json',\n",
       " '../models/2025-02-03_baseline_bert_8500\\\\vocab.txt',\n",
       " '../models/2025-02-03_baseline_bert_8500\\\\added_tokens.json')"
      ]
     },
     "execution_count": 42,
     "metadata": {},
     "output_type": "execute_result"
    }
   ],
   "source": [
    "from datetime import datetime\n",
    "save_directory = '../models/'  # 設定保存目錄\n",
    "\n",
    "current_date = datetime.now()\n",
    "# 格式化日期為 \"YYYY_MMDD\" 格式\n",
    "formatted_date = current_date.strftime('%Y-%m-%d')\n",
    "\n",
    "# 保存模型的權重、配置檔案和 tokenizer\n",
    "BERT_model.bert.save_pretrained(save_directory + formatted_date + '_baseline_bert_8500')  # 保存 BERT 模型（包含 config 和 weights）\n",
    "BERT_tokenizer.save_pretrained(save_directory + formatted_date + '_baseline_bert_8500')  # 保存 tokenizer"
   ]
  },
  {
   "cell_type": "code",
   "execution_count": 43,
   "id": "ba16f2c6-25b5-4b89-90bb-9e6ad3826a15",
   "metadata": {},
   "outputs": [],
   "source": [
    "def get_predictions(model, data_loader):\n",
    "  model = model.eval()\n",
    "  messages = []\n",
    "  predictions = []\n",
    "  prediction_probs = []\n",
    "  real_values = []\n",
    "\n",
    "  with torch.no_grad():\n",
    "    for d in data_loader:\n",
    "      texts = d[\"message_text\"]\n",
    "      input_ids = d[\"input_ids\"].to(device)\n",
    "      attention_mask = d[\"attention_mask\"].to(device)\n",
    "      targets = d[\"targets\"].to(device)\n",
    "      outputs = model(\n",
    "        input_ids=input_ids,\n",
    "        attention_mask=attention_mask\n",
    "      )\n",
    "      _, preds = torch.max(outputs, dim=1)\n",
    "      messages.extend(texts)\n",
    "      predictions.extend(preds)\n",
    "      prediction_probs.extend(outputs)\n",
    "      real_values.extend(targets)\n",
    "\n",
    "  predictions = torch.stack(predictions).cpu()\n",
    "  prediction_probs = torch.stack(prediction_probs).cpu()\n",
    "  real_values = torch.stack(real_values).cpu()\n",
    "  return messages, predictions, prediction_probs, real_values"
   ]
  },
  {
   "cell_type": "code",
   "execution_count": 48,
   "id": "4c6a1301-6c58-4e4b-a70b-f205a64fdcdc",
   "metadata": {},
   "outputs": [
    {
     "name": "stderr",
     "output_type": "stream",
     "text": [
      "C:\\Users\\User\\AppData\\Roaming\\Python\\Python311\\site-packages\\transformers\\tokenization_utils_base.py:2674: FutureWarning: The `pad_to_max_length` argument is deprecated and will be removed in a future version, use `padding=True` or `padding='longest'` to pad to the longest sequence in the batch, or use `padding='max_length'` to pad to a max length. In this case, you can give a specific length with `max_length` (e.g. `max_length=45`) or leave max_length to None to pad to the maximal input size of the model (e.g. 512 for Bert).\n",
      "  warnings.warn(\n"
     ]
    }
   ],
   "source": [
    "messages, y_pred, y_probas, y_true = get_predictions(\n",
    "  BERT_model,\n",
    "  test_DataLoader\n",
    ")"
   ]
  },
  {
   "cell_type": "code",
   "execution_count": 49,
   "id": "422eedfd-9b2e-4ea8-aec4-a6870b6c48c0",
   "metadata": {},
   "outputs": [
    {
     "data": {
      "image/png": "[encoded data removed]",
      "text/plain": [
       "<Figure size 1000x800 with 1 Axes>"
      ]
     },
     "metadata": {},
     "output_type": "display_data"
    }
   ],
   "source": [
    "from sklearn.metrics import roc_curve, auc\n",
    "import matplotlib.pyplot as plt\n",
    "from sklearn.preprocessing import label_binarize\n",
    "import numpy as np\n",
    "\n",
    "# 假設 y_true 是真實標籤，y_probas 是多類別的預測概率\n",
    "classes = np.unique(y_true)  # 獲取所有類別\n",
    "y_true_binarized = label_binarize(y_true, classes=classes)  # 二值化真實標籤\n",
    "\n",
    "\n",
    "plt.figure(figsize=(10, 8))  # 調整圖表大小\n",
    "for i, class_label in enumerate(classes):\n",
    "    fpr, tpr, _ = roc_curve(y_true_binarized[:, i], y_probas[:, i])\n",
    "    roc_auc = auc(fpr, tpr)\n",
    "    plt.plot(fpr, tpr, lw=2, label=f'Class {class_label} (AUC = {roc_auc:.2f})')\n",
    "\n",
    "plt.plot([0, 1], [0, 1], color='gray', linestyle='--', label='Chance')\n",
    "plt.xlabel('False Positive Rate')\n",
    "plt.ylabel('True Positive Rate')\n",
    "plt.title('ROC Curve for Multiclass Classification')\n",
    "\n",
    "# 將圖例放在圖表右側外部\n",
    "plt.legend(loc='center left', bbox_to_anchor=(1.05, 0.5), fontsize='small')\n",
    "plt.tight_layout()  # 自動調整圖表和標籤的布局\n",
    "plt.savefig('roc_curve_multiclass_adjusted.pdf', bbox_inches='tight')\n",
    "plt.show()"
   ]
  },
  {
   "cell_type": "code",
   "execution_count": 53,
   "id": "b32a17fd-9bba-4baf-9e23-5881435bf439",
   "metadata": {},
   "outputs": [
    {
     "name": "stdout",
     "output_type": "stream",
     "text": [
      "Precision for BERT : 0.56\n",
      "Recall for BERT : 0.63\n",
      "F1_score for BERT : 0.58\n",
      "Accuracy score for BERT : 0.63\n"
     ]
    },
    {
     "name": "stderr",
     "output_type": "stream",
     "text": [
      "D:\\Anaconda3\\envs\\cuda\\Lib\\site-packages\\sklearn\\metrics\\_classification.py:1509: UndefinedMetricWarning: Precision is ill-defined and being set to 0.0 in labels with no predicted samples. Use `zero_division` parameter to control this behavior.\n",
      "  _warn_prf(average, modifier, f\"{metric.capitalize()} is\", len(result))\n"
     ]
    }
   ],
   "source": [
    "# Calculate precision, recall, f1_score, & roc_auc_score\n",
    "from sklearn.metrics import precision_recall_fscore_support, accuracy_score, classification_report\n",
    "# from sklearn.metrics import confusion_matrix, classification_report, roc_auc_score, accuracy_score\n",
    "precision_b, recall_b, f1_score_b, _ = precision_recall_fscore_support(y_test, y_pred, average='weighted')\n",
    "accuracy_b = accuracy_score(y_test, y_pred)\n",
    "print(f'Precision for BERT : {round(precision_b,2)}')\n",
    "print(f'Recall for BERT : {round(recall_b,2)}')\n",
    "print(f'F1_score for BERT : {round(f1_score_b,2)}')\n",
    "print(f'Accuracy score for BERT : {round(accuracy_b,2)}')"
   ]
  },
  {
   "cell_type": "code",
   "execution_count": 54,
   "id": "ad086ca9-a78c-4ea8-be62-d97bbded3cd2",
   "metadata": {},
   "outputs": [
    {
     "name": "stdout",
     "output_type": "stream",
     "text": [
      "              precision    recall  f1-score   support\n",
      "\n",
      "           0       0.74      0.93      0.82       389\n",
      "           1       0.00      0.00      0.00         5\n",
      "           2       0.50      0.60      0.55        10\n",
      "           3       0.00      0.00      0.00         5\n",
      "           4       0.62      0.57      0.59        28\n",
      "           5       0.57      0.33      0.42        12\n",
      "           6       0.45      0.33      0.38        15\n",
      "           7       0.00      0.00      0.00         4\n",
      "           8       0.00      0.00      0.00         6\n",
      "           9       0.00      0.00      0.00         1\n",
      "          10       0.43      0.75      0.55         8\n",
      "          11       0.25      0.22      0.24        27\n",
      "          12       0.24      0.36      0.29        25\n",
      "          13       0.00      0.00      0.00         2\n",
      "          15       0.00      0.00      0.00         5\n",
      "          16       0.00      0.00      0.00         3\n",
      "          17       0.90      0.87      0.88        30\n",
      "          18       0.23      0.23      0.23        13\n",
      "          19       0.00      0.00      0.00         6\n",
      "          20       0.00      0.00      0.00         3\n",
      "          21       0.00      0.00      0.00         6\n",
      "          22       0.00      0.00      0.00         7\n",
      "          23       0.32      0.23      0.27        26\n",
      "          24       0.00      0.00      0.00         3\n",
      "          25       0.33      0.12      0.18         8\n",
      "          26       0.29      0.40      0.33        10\n",
      "          27       0.00      0.00      0.00        12\n",
      "          28       0.00      0.00      0.00         1\n",
      "          29       0.00      0.00      0.00         4\n",
      "          30       0.00      0.00      0.00         4\n",
      "          31       0.60      0.30      0.40        10\n",
      "          32       0.00      0.00      0.00         4\n",
      "          33       0.00      0.00      0.00         3\n",
      "          34       0.00      0.00      0.00         3\n",
      "          36       0.00      0.00      0.00         4\n",
      "          37       0.00      0.00      0.00         1\n",
      "          38       0.00      0.00      0.00         1\n",
      "          39       0.60      0.43      0.50        14\n",
      "          40       0.00      0.00      0.00         1\n",
      "          41       0.00      0.00      0.00         2\n",
      "          42       0.73      0.47      0.57        17\n",
      "          43       0.00      0.00      0.00         1\n",
      "          44       0.00      0.00      0.00         3\n",
      "          46       0.83      0.62      0.71         8\n",
      "          47       0.57      0.89      0.70        57\n",
      "          48       0.80      0.15      0.26        26\n",
      "          49       0.00      0.00      0.00         5\n",
      "\n",
      "    accuracy                           0.63       838\n",
      "   macro avg       0.21      0.19      0.19       838\n",
      "weighted avg       0.56      0.63      0.58       838\n",
      "\n"
     ]
    },
    {
     "name": "stderr",
     "output_type": "stream",
     "text": [
      "D:\\Anaconda3\\envs\\cuda\\Lib\\site-packages\\sklearn\\metrics\\_classification.py:1509: UndefinedMetricWarning: Precision is ill-defined and being set to 0.0 in labels with no predicted samples. Use `zero_division` parameter to control this behavior.\n",
      "  _warn_prf(average, modifier, f\"{metric.capitalize()} is\", len(result))\n",
      "D:\\Anaconda3\\envs\\cuda\\Lib\\site-packages\\sklearn\\metrics\\_classification.py:1509: UndefinedMetricWarning: Precision is ill-defined and being set to 0.0 in labels with no predicted samples. Use `zero_division` parameter to control this behavior.\n",
      "  _warn_prf(average, modifier, f\"{metric.capitalize()} is\", len(result))\n",
      "D:\\Anaconda3\\envs\\cuda\\Lib\\site-packages\\sklearn\\metrics\\_classification.py:1509: UndefinedMetricWarning: Precision is ill-defined and being set to 0.0 in labels with no predicted samples. Use `zero_division` parameter to control this behavior.\n",
      "  _warn_prf(average, modifier, f\"{metric.capitalize()} is\", len(result))\n"
     ]
    }
   ],
   "source": [
    "class_report=classification_report(y_test, y_pred)\n",
    "print(class_report)"
   ]
  },
  {
   "cell_type": "code",
   "execution_count": null,
   "id": "231f51ab-fea5-4cd9-aef3-6355220126c0",
   "metadata": {},
   "outputs": [],
   "source": []
  },
  {
   "cell_type": "code",
   "execution_count": null,
   "id": "350a5458-e6e7-4dc9-ae1e-c37f0abf96ee",
   "metadata": {},
   "outputs": [],
   "source": []
  },
  {
   "cell_type": "code",
   "execution_count": null,
   "id": "26547292-993c-4fd1-803b-8fb2f9aa1db9",
   "metadata": {},
   "outputs": [],
   "source": []
  },
  {
   "cell_type": "code",
   "execution_count": 23,
   "id": "c7021b15-271e-4e13-a8d4-dff4e8129410",
   "metadata": {},
   "outputs": [
    {
     "data": {
      "text/html": [
       "<div>\n",
       "<style scoped>\n",
       "    .dataframe tbody tr th:only-of-type {\n",
       "        vertical-align: middle;\n",
       "    }\n",
       "\n",
       "    .dataframe tbody tr th {\n",
       "        vertical-align: top;\n",
       "    }\n",
       "\n",
       "    .dataframe thead th {\n",
       "        text-align: right;\n",
       "    }\n",
       "</style>\n",
       "<table border=\"1\" class=\"dataframe\">\n",
       "  <thead>\n",
       "    <tr style=\"text-align: right;\">\n",
       "      <th></th>\n",
       "      <th>Description</th>\n",
       "      <th>Assignment group</th>\n",
       "      <th>cleanText</th>\n",
       "      <th>Assignment_group_label</th>\n",
       "      <th>Inbound Message</th>\n",
       "      <th>Label</th>\n",
       "    </tr>\n",
       "  </thead>\n",
       "  <tbody>\n",
       "    <tr>\n",
       "      <th>5150</th>\n",
       "      <td>name language browser microsoft internet explo...</td>\n",
       "      <td>GRP_0</td>\n",
       "      <td>name language browser microsoft internet explo...</td>\n",
       "      <td>0</td>\n",
       "      <td>name language browser microsoft internet explo...</td>\n",
       "      <td>0</td>\n",
       "    </tr>\n",
       "    <tr>\n",
       "      <th>942</th>\n",
       "      <td>zugriff auf verzeichnis angefragt xd folder ac...</td>\n",
       "      <td>GRP_0</td>\n",
       "      <td>zugriff auf verzeichnis angefragt folder acces...</td>\n",
       "      <td>0</td>\n",
       "      <td>zugriff auf verzeichnis angefragt folder acces...</td>\n",
       "      <td>0</td>\n",
       "    </tr>\n",
       "    <tr>\n",
       "      <th>6656</th>\n",
       "      <td>i am unable to login to attendance tool using ...</td>\n",
       "      <td>GRP_0</td>\n",
       "      <td>unable login attendance tool using single logo...</td>\n",
       "      <td>0</td>\n",
       "      <td>unable login attendance tool using single logo...</td>\n",
       "      <td>0</td>\n",
       "    </tr>\n",
       "    <tr>\n",
       "      <th>1624</th>\n",
       "      <td>outlook not working emails not opening crm issue</td>\n",
       "      <td>GRP_0</td>\n",
       "      <td>outlook working emails opening crm issue</td>\n",
       "      <td>0</td>\n",
       "      <td>outlook working emails opening crm issue</td>\n",
       "      <td>0</td>\n",
       "    </tr>\n",
       "    <tr>\n",
       "      <th>4272</th>\n",
       "      <td>printer driver update</td>\n",
       "      <td>GRP_0</td>\n",
       "      <td>printer driver update</td>\n",
       "      <td>0</td>\n",
       "      <td>printer driver update</td>\n",
       "      <td>0</td>\n",
       "    </tr>\n",
       "    <tr>\n",
       "      <th>...</th>\n",
       "      <td>...</td>\n",
       "      <td>...</td>\n",
       "      <td>...</td>\n",
       "      <td>...</td>\n",
       "      <td>...</td>\n",
       "      <td>...</td>\n",
       "    </tr>\n",
       "    <tr>\n",
       "      <th>7490</th>\n",
       "      <td>name language browser microsoft internet explo...</td>\n",
       "      <td>GRP_7</td>\n",
       "      <td>name language browser microsoft internet explo...</td>\n",
       "      <td>46</td>\n",
       "      <td>name language browser microsoft internet explo...</td>\n",
       "      <td>46</td>\n",
       "    </tr>\n",
       "    <tr>\n",
       "      <th>7874</th>\n",
       "      <td>i need have access on engineering tool however...</td>\n",
       "      <td>GRP_0</td>\n",
       "      <td>need access engineering tool however tried log...</td>\n",
       "      <td>0</td>\n",
       "      <td>need access engineering tool however tried log...</td>\n",
       "      <td>0</td>\n",
       "    </tr>\n",
       "    <tr>\n",
       "      <th>5293</th>\n",
       "      <td>probleme mit ewew</td>\n",
       "      <td>GRP_24</td>\n",
       "      <td>probleme mit ewew</td>\n",
       "      <td>17</td>\n",
       "      <td>probleme mit ewew</td>\n",
       "      <td>17</td>\n",
       "    </tr>\n",
       "    <tr>\n",
       "      <th>1355</th>\n",
       "      <td>xd xd xd hi xd xd please provide access pu fil...</td>\n",
       "      <td>GRP_12</td>\n",
       "      <td>please provide access file hostname department...</td>\n",
       "      <td>4</td>\n",
       "      <td>please provide access file hostname department...</td>\n",
       "      <td>4</td>\n",
       "    </tr>\n",
       "    <tr>\n",
       "      <th>3630</th>\n",
       "      <td>company emails on personal smartphone</td>\n",
       "      <td>GRP_0</td>\n",
       "      <td>company emails personal smartphone</td>\n",
       "      <td>0</td>\n",
       "      <td>company emails personal smartphone</td>\n",
       "      <td>0</td>\n",
       "    </tr>\n",
       "  </tbody>\n",
       "</table>\n",
       "<p>6704 rows × 6 columns</p>\n",
       "</div>"
      ],
      "text/plain": [
       "                                            Description Assignment group  \\\n",
       "5150  name language browser microsoft internet explo...            GRP_0   \n",
       "942   zugriff auf verzeichnis angefragt xd folder ac...            GRP_0   \n",
       "6656  i am unable to login to attendance tool using ...            GRP_0   \n",
       "1624   outlook not working emails not opening crm issue            GRP_0   \n",
       "4272                              printer driver update            GRP_0   \n",
       "...                                                 ...              ...   \n",
       "7490  name language browser microsoft internet explo...            GRP_7   \n",
       "7874  i need have access on engineering tool however...            GRP_0   \n",
       "5293                                  probleme mit ewew           GRP_24   \n",
       "1355  xd xd xd hi xd xd please provide access pu fil...           GRP_12   \n",
       "3630              company emails on personal smartphone            GRP_0   \n",
       "\n",
       "                                              cleanText  \\\n",
       "5150  name language browser microsoft internet explo...   \n",
       "942   zugriff auf verzeichnis angefragt folder acces...   \n",
       "6656  unable login attendance tool using single logo...   \n",
       "1624           outlook working emails opening crm issue   \n",
       "4272                              printer driver update   \n",
       "...                                                 ...   \n",
       "7490  name language browser microsoft internet explo...   \n",
       "7874  need access engineering tool however tried log...   \n",
       "5293                                  probleme mit ewew   \n",
       "1355  please provide access file hostname department...   \n",
       "3630                 company emails personal smartphone   \n",
       "\n",
       "      Assignment_group_label  \\\n",
       "5150                       0   \n",
       "942                        0   \n",
       "6656                       0   \n",
       "1624                       0   \n",
       "4272                       0   \n",
       "...                      ...   \n",
       "7490                      46   \n",
       "7874                       0   \n",
       "5293                      17   \n",
       "1355                       4   \n",
       "3630                       0   \n",
       "\n",
       "                                        Inbound Message  Label  \n",
       "5150  name language browser microsoft internet explo...      0  \n",
       "942   zugriff auf verzeichnis angefragt folder acces...      0  \n",
       "6656  unable login attendance tool using single logo...      0  \n",
       "1624           outlook working emails opening crm issue      0  \n",
       "4272                              printer driver update      0  \n",
       "...                                                 ...    ...  \n",
       "7490  name language browser microsoft internet explo...     46  \n",
       "7874  need access engineering tool however tried log...      0  \n",
       "5293                                  probleme mit ewew     17  \n",
       "1355  please provide access file hostname department...      4  \n",
       "3630                 company emails personal smartphone      0  \n",
       "\n",
       "[6704 rows x 6 columns]"
      ]
     },
     "execution_count": 23,
     "metadata": {},
     "output_type": "execute_result"
    }
   ],
   "source": [
    "df_train"
   ]
  },
  {
   "cell_type": "code",
   "execution_count": 24,
   "id": "03c53502-c9c3-4c18-bda0-3a46157e6704",
   "metadata": {},
   "outputs": [],
   "source": [
    "from transformers import BertTokenizer\n",
    "import torch\n",
    "from torch.utils.data import Dataset, DataLoader\n",
    "\n",
    "# 初始化 BERT 的 tokenizer\n",
    "tokenizer = BertTokenizer.from_pretrained('bert-base-uncased')\n",
    "\n",
    "class CustomDataset(Dataset):\n",
    "    def __init__(self, messages, labels, tokenizer, max_length):\n",
    "        self.messages = messages\n",
    "        self.labels = labels\n",
    "        self.tokenizer = tokenizer\n",
    "        self.max_length = max_length\n",
    "\n",
    "    def __len__(self):\n",
    "        return len(self.messages)\n",
    "\n",
    "    def __getitem__(self, idx):\n",
    "        message = str(self.messages[idx])\n",
    "        label = self.labels[idx]\n",
    "        \n",
    "        encoding = self.tokenizer.encode_plus(\n",
    "            message,\n",
    "            max_length=self.max_length,\n",
    "            add_special_tokens=True,\n",
    "            padding='max_length',\n",
    "            truncation=True,\n",
    "            return_attention_mask=True,\n",
    "            return_tensors='pt'\n",
    "        )\n",
    "        \n",
    "        return {\n",
    "            'input_ids': encoding['input_ids'].flatten(),\n",
    "            'attention_mask': encoding['attention_mask'].flatten(),\n",
    "            'labels': torch.tensor(label, dtype=torch.long)\n",
    "        }\n",
    "\n",
    "# 定義數據集\n",
    "MAX_LENGTH = 35\n",
    "train_dataset = CustomDataset(\n",
    "    messages=df_train['Inbound Message'].tolist(),\n",
    "    labels=df_train['Label'].tolist(),\n",
    "    tokenizer=tokenizer,\n",
    "    max_length=MAX_LENGTH\n",
    ")\n",
    "\n",
    "val_dataset = CustomDataset(\n",
    "    messages=df_val['Inbound Message'].tolist(),\n",
    "    labels=df_val['Label'].tolist(),\n",
    "    tokenizer=tokenizer,\n",
    "    max_length=MAX_LENGTH\n",
    ")\n",
    "\n",
    "test_dataset = CustomDataset(\n",
    "    messages=df_test['Inbound Message'].tolist(),\n",
    "    labels=df_test['Label'].tolist(),\n",
    "    tokenizer=tokenizer,\n",
    "    max_length=MAX_LENGTH\n",
    ")\n",
    "\n",
    "# 創建 DataLoader\n",
    "BATCH_SIZE = 8\n",
    "train_dataloader = DataLoader(train_dataset, batch_size=BATCH_SIZE, shuffle=True)\n",
    "val_dataloader = DataLoader(val_dataset, batch_size=BATCH_SIZE)\n",
    "test_dataloader = DataLoader(test_dataset, batch_size=BATCH_SIZE)"
   ]
  },
  {
   "cell_type": "code",
   "execution_count": 25,
   "id": "4a412311-3535-46dd-b450-31030346a4b8",
   "metadata": {},
   "outputs": [
    {
     "name": "stderr",
     "output_type": "stream",
     "text": [
      "Some weights of BertForSequenceClassification were not initialized from the model checkpoint at bert-base-uncased and are newly initialized: ['classifier.bias', 'classifier.weight']\n",
      "You should probably TRAIN this model on a down-stream task to be able to use it for predictions and inference.\n"
     ]
    }
   ],
   "source": [
    "from transformers import BertForSequenceClassification\n",
    "\n",
    "# 初始化 BERT 模型\n",
    "NUM_LABELS = len(df_train['Label'].unique())  # 獲取標籤數量\n",
    "model = BertForSequenceClassification.from_pretrained('bert-base-uncased', num_labels=NUM_LABELS)"
   ]
  },
  {
   "cell_type": "code",
   "execution_count": 26,
   "id": "afc87779-8977-4e30-82ec-084f3cd13dda",
   "metadata": {},
   "outputs": [],
   "source": [
    "from transformers import AdamW\n",
    "from torch.nn import CrossEntropyLoss\n",
    "from torch.optim import AdamW\n",
    "\n",
    "optimizer = AdamW(model.parameters(), lr=5e-5)\n",
    "criterion = CrossEntropyLoss()"
   ]
  },
  {
   "cell_type": "code",
   "execution_count": 27,
   "id": "6fcd57bd-cf39-436f-a352-824b215b3170",
   "metadata": {},
   "outputs": [
    {
     "name": "stdout",
     "output_type": "stream",
     "text": [
      "Epoch 1/3\n"
     ]
    },
    {
     "name": "stderr",
     "output_type": "stream",
     "text": [
      "100%|██████████| 419/419 [02:56<00:00,  2.37it/s]\n"
     ]
    },
    {
     "name": "stdout",
     "output_type": "stream",
     "text": [
      "Train loss: 1.9951407553757006 | Val loss: 1.6513297152969073 | Val accuracy: 0.6217183770883055\n",
      "Epoch 2/3\n"
     ]
    },
    {
     "name": "stderr",
     "output_type": "stream",
     "text": [
      "100%|██████████| 419/419 [02:54<00:00,  2.40it/s]\n"
     ]
    },
    {
     "name": "stdout",
     "output_type": "stream",
     "text": [
      "Train loss: 1.5092071169600567 | Val loss: 1.4860900246872093 | Val accuracy: 0.6288782816229117\n",
      "Epoch 3/3\n"
     ]
    },
    {
     "name": "stderr",
     "output_type": "stream",
     "text": [
      "100%|██████████| 419/419 [02:54<00:00,  2.40it/s]\n"
     ]
    },
    {
     "name": "stdout",
     "output_type": "stream",
     "text": [
      "Train loss: 1.1922778211943006 | Val loss: 1.4195926948538367 | Val accuracy: 0.6515513126491647\n"
     ]
    }
   ],
   "source": [
    "from tqdm import tqdm\n",
    "import torch.nn.functional as F\n",
    "\n",
    "device = torch.device('cuda') if torch.cuda.is_available() else torch.device('cpu')\n",
    "model.to(device)\n",
    "\n",
    "EPOCHS = 3\n",
    "\n",
    "def train_epoch(model, dataloader, optimizer, criterion):\n",
    "    model.train()\n",
    "    total_loss = 0\n",
    "\n",
    "    for batch in tqdm(dataloader):\n",
    "        optimizer.zero_grad()\n",
    "\n",
    "        input_ids = batch['input_ids'].to(device)\n",
    "        attention_mask = batch['attention_mask'].to(device)\n",
    "        labels = batch['labels'].to(device)\n",
    "\n",
    "        outputs = model(input_ids=input_ids, attention_mask=attention_mask, labels=labels)\n",
    "        loss = outputs.loss\n",
    "        total_loss += loss.item()\n",
    "\n",
    "        loss.backward()\n",
    "        optimizer.step()\n",
    "    \n",
    "    return total_loss / len(dataloader)\n",
    "\n",
    "def eval_model(model, dataloader, criterion):\n",
    "    model.eval()\n",
    "    total_loss = 0\n",
    "    correct_predictions = 0\n",
    "\n",
    "    with torch.no_grad():\n",
    "        for batch in dataloader:\n",
    "            input_ids = batch['input_ids'].to(device)\n",
    "            attention_mask = batch['attention_mask'].to(device)\n",
    "            labels = batch['labels'].to(device)\n",
    "\n",
    "            outputs = model(input_ids=input_ids, attention_mask=attention_mask)\n",
    "            logits = outputs.logits\n",
    "            loss = criterion(logits, labels)\n",
    "            total_loss += loss.item()\n",
    "\n",
    "            _, preds = torch.max(logits, dim=1)\n",
    "            correct_predictions += torch.sum(preds == labels)\n",
    "    \n",
    "    accuracy = correct_predictions.double() / len(dataloader.dataset)\n",
    "    return total_loss / len(dataloader), accuracy\n",
    "\n",
    "# 開始訓練\n",
    "for epoch in range(EPOCHS):\n",
    "    print(f\"Epoch {epoch + 1}/{EPOCHS}\")\n",
    "    train_loss = train_epoch(model, train_dataloader, optimizer, criterion)\n",
    "    val_loss, val_accuracy = eval_model(model, val_dataloader, criterion)\n",
    "    print(f\"Train loss: {train_loss} | Val loss: {val_loss} | Val accuracy: {val_accuracy}\")"
   ]
  },
  {
   "cell_type": "code",
   "execution_count": 28,
   "id": "bc1b6831-f97a-4056-9895-274f629b260f",
   "metadata": {},
   "outputs": [
    {
     "name": "stdout",
     "output_type": "stream",
     "text": [
      "Test loss: 1.4397736000564862 | Test accuracy: 0.630071599045346\n"
     ]
    }
   ],
   "source": [
    "test_loss, test_accuracy = eval_model(model, test_dataloader, criterion)\n",
    "print(f\"Test loss: {test_loss} | Test accuracy: {test_accuracy}\")"
   ]
  },
  {
   "cell_type": "code",
   "execution_count": 47,
   "id": "d0add6aa-c75f-48b2-9e67-22e92fd2feab",
   "metadata": {},
   "outputs": [],
   "source": [
    "from datetime import datetime\n",
    "def model_save(fname):\n",
    "    # 取得當前日期和時間\n",
    "    current_date = datetime.now()\n",
    "    # 格式化日期為 \"YYYY_MMDD\" 格式\n",
    "    formatted_date = current_date.strftime('%Y_%m%d')\n",
    "    model.save_pretrained('../models/' + formatted_date + '_' + fname)\n",
    "    tokenizer.save_pretrained('../models/' + formatted_date + '_' + fname)"
   ]
  },
  {
   "cell_type": "code",
   "execution_count": 48,
   "id": "8af2fe6a-0258-45b4-9ff5-f53f6182bf5d",
   "metadata": {},
   "outputs": [],
   "source": [
    "model_save('gpt_bert_ver2_把少於10筆的data變成label65')"
   ]
  }
 ],
 "metadata": {
  "kernelspec": {
   "display_name": "Python 3 (ipykernel)",
   "language": "python",
   "name": "python3"
  },
  "language_info": {
   "codemirror_mode": {
    "name": "ipython",
    "version": 3
   },
   "file_extension": ".py",
   "mimetype": "text/x-python",
   "name": "python",
   "nbconvert_exporter": "python",
   "pygments_lexer": "ipython3",
   "version": "3.11.9"
  }
 },
 "nbformat": 4,
 "nbformat_minor": 5
}
