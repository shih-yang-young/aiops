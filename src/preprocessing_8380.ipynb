{
 "cells": [
  {
   "cell_type": "code",
   "execution_count": 1,
   "id": "01d3aa2b",
   "metadata": {},
   "outputs": [
    {
     "data": {
      "text/html": [
       "<div>\n",
       "<style scoped>\n",
       "    .dataframe tbody tr th:only-of-type {\n",
       "        vertical-align: middle;\n",
       "    }\n",
       "\n",
       "    .dataframe tbody tr th {\n",
       "        vertical-align: top;\n",
       "    }\n",
       "\n",
       "    .dataframe thead th {\n",
       "        text-align: right;\n",
       "    }\n",
       "</style>\n",
       "<table border=\"1\" class=\"dataframe\">\n",
       "  <thead>\n",
       "    <tr style=\"text-align: right;\">\n",
       "      <th></th>\n",
       "      <th>Short description</th>\n",
       "      <th>Description</th>\n",
       "      <th>Caller</th>\n",
       "      <th>Assignment group</th>\n",
       "    </tr>\n",
       "  </thead>\n",
       "  <tbody>\n",
       "    <tr>\n",
       "      <th>0</th>\n",
       "      <td>login issue</td>\n",
       "      <td>-verified user details.(employee# &amp; manager na...</td>\n",
       "      <td>spxjnwir pjlcoqds</td>\n",
       "      <td>GRP_0</td>\n",
       "    </tr>\n",
       "    <tr>\n",
       "      <th>1</th>\n",
       "      <td>outlook</td>\n",
       "      <td>_x000D_\\n_x000D_\\nreceived from: hmjdrvpb.komu...</td>\n",
       "      <td>hmjdrvpb komuaywn</td>\n",
       "      <td>GRP_0</td>\n",
       "    </tr>\n",
       "    <tr>\n",
       "      <th>2</th>\n",
       "      <td>cant log in to vpn</td>\n",
       "      <td>_x000D_\\n_x000D_\\nreceived from: eylqgodm.ybqk...</td>\n",
       "      <td>eylqgodm ybqkwiam</td>\n",
       "      <td>GRP_0</td>\n",
       "    </tr>\n",
       "    <tr>\n",
       "      <th>3</th>\n",
       "      <td>unable to access hr_tool page</td>\n",
       "      <td>unable to access hr_tool page</td>\n",
       "      <td>xbkucsvz gcpydteq</td>\n",
       "      <td>GRP_0</td>\n",
       "    </tr>\n",
       "    <tr>\n",
       "      <th>4</th>\n",
       "      <td>skype error</td>\n",
       "      <td>skype error</td>\n",
       "      <td>owlgqjme qhcozdfx</td>\n",
       "      <td>GRP_0</td>\n",
       "    </tr>\n",
       "    <tr>\n",
       "      <th>...</th>\n",
       "      <td>...</td>\n",
       "      <td>...</td>\n",
       "      <td>...</td>\n",
       "      <td>...</td>\n",
       "    </tr>\n",
       "    <tr>\n",
       "      <th>8495</th>\n",
       "      <td>emails not coming in from zz mail</td>\n",
       "      <td>_x000D_\\n_x000D_\\nreceived from: avglmrts.vhqm...</td>\n",
       "      <td>avglmrts vhqmtiua</td>\n",
       "      <td>GRP_29</td>\n",
       "    </tr>\n",
       "    <tr>\n",
       "      <th>8496</th>\n",
       "      <td>telephony_software issue</td>\n",
       "      <td>telephony_software issue</td>\n",
       "      <td>rbozivdq gmlhrtvp</td>\n",
       "      <td>GRP_0</td>\n",
       "    </tr>\n",
       "    <tr>\n",
       "      <th>8497</th>\n",
       "      <td>vip2: windows password reset for tifpdchb pedx...</td>\n",
       "      <td>vip2: windows password reset for tifpdchb pedx...</td>\n",
       "      <td>oybwdsgx oxyhwrfz</td>\n",
       "      <td>GRP_0</td>\n",
       "    </tr>\n",
       "    <tr>\n",
       "      <th>8498</th>\n",
       "      <td>machine nÃ£o estÃ¡ funcionando</td>\n",
       "      <td>i am unable to access the machine utilities to...</td>\n",
       "      <td>ufawcgob aowhxjky</td>\n",
       "      <td>GRP_62</td>\n",
       "    </tr>\n",
       "    <tr>\n",
       "      <th>8499</th>\n",
       "      <td>an mehreren pc`s lassen sich verschiedene prgr...</td>\n",
       "      <td>an mehreren pc`s lassen sich verschiedene prgr...</td>\n",
       "      <td>kqvbrspl jyzoklfx</td>\n",
       "      <td>GRP_49</td>\n",
       "    </tr>\n",
       "  </tbody>\n",
       "</table>\n",
       "<p>8500 rows × 4 columns</p>\n",
       "</div>"
      ],
      "text/plain": [
       "                                      Short description  \\\n",
       "0                                           login issue   \n",
       "1                                               outlook   \n",
       "2                                    cant log in to vpn   \n",
       "3                         unable to access hr_tool page   \n",
       "4                                          skype error    \n",
       "...                                                 ...   \n",
       "8495                  emails not coming in from zz mail   \n",
       "8496                           telephony_software issue   \n",
       "8497  vip2: windows password reset for tifpdchb pedx...   \n",
       "8498                     machine nÃ£o estÃ¡ funcionando   \n",
       "8499  an mehreren pc`s lassen sich verschiedene prgr...   \n",
       "\n",
       "                                            Description             Caller  \\\n",
       "0     -verified user details.(employee# & manager na...  spxjnwir pjlcoqds   \n",
       "1     _x000D_\\n_x000D_\\nreceived from: hmjdrvpb.komu...  hmjdrvpb komuaywn   \n",
       "2     _x000D_\\n_x000D_\\nreceived from: eylqgodm.ybqk...  eylqgodm ybqkwiam   \n",
       "3                         unable to access hr_tool page  xbkucsvz gcpydteq   \n",
       "4                                          skype error   owlgqjme qhcozdfx   \n",
       "...                                                 ...                ...   \n",
       "8495  _x000D_\\n_x000D_\\nreceived from: avglmrts.vhqm...  avglmrts vhqmtiua   \n",
       "8496                           telephony_software issue  rbozivdq gmlhrtvp   \n",
       "8497  vip2: windows password reset for tifpdchb pedx...  oybwdsgx oxyhwrfz   \n",
       "8498  i am unable to access the machine utilities to...  ufawcgob aowhxjky   \n",
       "8499  an mehreren pc`s lassen sich verschiedene prgr...  kqvbrspl jyzoklfx   \n",
       "\n",
       "     Assignment group  \n",
       "0               GRP_0  \n",
       "1               GRP_0  \n",
       "2               GRP_0  \n",
       "3               GRP_0  \n",
       "4               GRP_0  \n",
       "...               ...  \n",
       "8495           GRP_29  \n",
       "8496            GRP_0  \n",
       "8497            GRP_0  \n",
       "8498           GRP_62  \n",
       "8499           GRP_49  \n",
       "\n",
       "[8500 rows x 4 columns]"
      ]
     },
     "execution_count": 1,
     "metadata": {},
     "output_type": "execute_result"
    }
   ],
   "source": [
    "import pandas as pd\n",
    "open_source_8500 = pd.read_excel(\"../data/open_source_8500.xlsx\") ## 舊名 IT-Ticket-Classification.xlsx\n",
    "open_source_8500"
   ]
  },
  {
   "cell_type": "code",
   "execution_count": 2,
   "id": "c1c06bf0-8fc3-47cf-94bc-c6d5097288e4",
   "metadata": {},
   "outputs": [],
   "source": [
    "import torch\n",
    "import numpy as np\n",
    "\n",
    "device=torch.device('cuda:0')\n",
    "torch.cuda.get_device_name(0)\n",
    "\n",
    "seed=123\n",
    "torch.manual_seed(seed)\n",
    "np.random.seed(seed)"
   ]
  },
  {
   "cell_type": "markdown",
   "id": "a231cd22-dd50-4753-9e00-9e3b0a9127c0",
   "metadata": {},
   "source": [
    "# Paper步驟"
   ]
  },
  {
   "cell_type": "code",
   "execution_count": 3,
   "id": "9e824e54-715f-4599-9350-b2ce7de27540",
   "metadata": {},
   "outputs": [
    {
     "name": "stdout",
     "output_type": "stream",
     "text": [
      "<class 'pandas.core.frame.DataFrame'>\n",
      "RangeIndex: 8500 entries, 0 to 8499\n",
      "Data columns (total 2 columns):\n",
      " #   Column            Non-Null Count  Dtype \n",
      "---  ------            --------------  ----- \n",
      " 0   Description       8499 non-null   object\n",
      " 1   Assignment group  8500 non-null   object\n",
      "dtypes: object(2)\n",
      "memory usage: 132.9+ KB\n"
     ]
    }
   ],
   "source": [
    "callers = open_source_8500['Caller'].unique() \n",
    "callers.shape\n",
    "open_source_8500.drop([\"Caller\",'Short description'],axis=1,inplace= True)\n",
    "open_source_8500.info()"
   ]
  },
  {
   "cell_type": "code",
   "execution_count": 4,
   "id": "c4498918-9bbd-4d0c-99d3-75c3710fc69b",
   "metadata": {},
   "outputs": [
    {
     "data": {
      "text/plain": [
       "count      74.000000\n",
       "mean      114.864865\n",
       "std       465.747516\n",
       "min         1.000000\n",
       "25%         5.250000\n",
       "50%        26.000000\n",
       "75%        84.000000\n",
       "max      3976.000000\n",
       "Name: count, dtype: float64"
      ]
     },
     "execution_count": 4,
     "metadata": {},
     "output_type": "execute_result"
    }
   ],
   "source": [
    "targetClassCnt=open_source_8500['Assignment group'].value_counts()\n",
    "targetClassCnt.describe()"
   ]
  },
  {
   "cell_type": "code",
   "execution_count": 5,
   "id": "e41e3a75-729e-491a-9f49-13d825a629f3",
   "metadata": {},
   "outputs": [
    {
     "name": "stdout",
     "output_type": "stream",
     "text": [
      "Found 25 groups which have under 10 samples\n"
     ]
    },
    {
     "data": {
      "text/plain": [
       "array(['GRP_0', 'GRP_1', 'GRP_3', 'GRP_4', 'GRP_5', 'GRP_6', 'GRP_7',\n",
       "       'GRP_8', 'GRP_9', 'GRP_10', 'GRP_11', 'GRP_12', 'GRP_13', 'GRP_14',\n",
       "       'GRP_15', 'GRP_16', 'GRP_17', 'GRP_18', 'GRP_19', 'GRP_2',\n",
       "       'GRP_20', 'GRP_21', 'GRP_22', 'GRP_23', 'GRP_24', 'GRP_25',\n",
       "       'GRP_26', 'GRP_27', 'GRP_28', 'GRP_29', 'GRP_30', 'GRP_31',\n",
       "       'GRP_33', 'GRP_34', 'misc_grp', 'GRP_36', 'GRP_37', 'GRP_39',\n",
       "       'GRP_40', 'GRP_41', 'GRP_42', 'GRP_44', 'GRP_45', 'GRP_47',\n",
       "       'GRP_48', 'GRP_50', 'GRP_53', 'GRP_60', 'GRP_62', 'GRP_65'],\n",
       "      dtype=object)"
      ]
     },
     "execution_count": 5,
     "metadata": {},
     "output_type": "execute_result"
    }
   ],
   "source": [
    "## 將樣本數少於10的組別歸類為一個新的組別 misc_grp\n",
    "\n",
    "sample = open_source_8500.groupby(['Assignment group'])\n",
    "regroup = []\n",
    "\n",
    "for grp in open_source_8500['Assignment group'].unique():\n",
    "    if sample.get_group((grp,)).shape[0] < 10:  # 改為元組形式 (grp,)\n",
    "        regroup.append(grp)\n",
    "\n",
    "print('Found {} groups which have under 10 samples'.format(len(regroup)))\n",
    "open_source_8500['Assignment group'] = open_source_8500['Assignment group'].apply(\n",
    "    lambda x: 'misc_grp' if x in regroup else x\n",
    ")\n",
    "\n",
    "# Unique Groups check \n",
    "open_source_8500['Assignment group'].unique()"
   ]
  },
  {
   "cell_type": "code",
   "execution_count": 6,
   "id": "8b0877a1-b3da-4998-afad-30c2082ce787",
   "metadata": {},
   "outputs": [
    {
     "data": {
      "image/png": "[encoded data removed]",
      "text/plain": [
       "<Figure size 2200x500 with 1 Axes>"
      ]
     },
     "metadata": {},
     "output_type": "display_data"
    }
   ],
   "source": [
    "##Pre-Processing label Encoding on  Assignment Group\n",
    "import seaborn as sns\n",
    "import matplotlib.pyplot as plt\n",
    "\n",
    "plt.style.use('ggplot')\n",
    "%matplotlib inline\n",
    "\n",
    "descending_order = open_source_8500['Assignment group'].value_counts().sort_values(ascending=False).index\n",
    "\n",
    "plt.subplots(figsize=(22, 5))\n",
    "ax = sns.countplot(x='Assignment group', data=open_source_8500, color='royalblue', order=descending_order)\n",
    "ax.tick_params(axis='x', rotation=45)  # 設置旋轉\n",
    "\n",
    "plt.tight_layout()\n",
    "plt.show()"
   ]
  },
  {
   "cell_type": "code",
   "execution_count": 7,
   "id": "ff507108-2d93-4692-b00e-16d04d47c459",
   "metadata": {},
   "outputs": [],
   "source": [
    "#Fill 'Decsription' field entries that have null with blank space\n",
    "open_source_8500['Description'] = open_source_8500['Description'].fillna(' ')"
   ]
  },
  {
   "cell_type": "code",
   "execution_count": 8,
   "id": "8d7b0eaf-0be7-41ed-9d17-2d273e48703e",
   "metadata": {},
   "outputs": [
    {
     "data": {
      "text/html": [
       "<div>\n",
       "<style scoped>\n",
       "    .dataframe tbody tr th:only-of-type {\n",
       "        vertical-align: middle;\n",
       "    }\n",
       "\n",
       "    .dataframe tbody tr th {\n",
       "        vertical-align: top;\n",
       "    }\n",
       "\n",
       "    .dataframe thead th {\n",
       "        text-align: right;\n",
       "    }\n",
       "</style>\n",
       "<table border=\"1\" class=\"dataframe\">\n",
       "  <thead>\n",
       "    <tr style=\"text-align: right;\">\n",
       "      <th></th>\n",
       "      <th>Description</th>\n",
       "      <th>Assignment group</th>\n",
       "    </tr>\n",
       "  </thead>\n",
       "  <tbody>\n",
       "    <tr>\n",
       "      <th>0</th>\n",
       "      <td>-verified user details.(employee# &amp; manager na...</td>\n",
       "      <td>GRP_0</td>\n",
       "    </tr>\n",
       "    <tr>\n",
       "      <th>1</th>\n",
       "      <td>_x000D_\\n_x000D_\\nreceived from: hmjdrvpb.komu...</td>\n",
       "      <td>GRP_0</td>\n",
       "    </tr>\n",
       "    <tr>\n",
       "      <th>2</th>\n",
       "      <td>_x000D_\\n_x000D_\\nreceived from: eylqgodm.ybqk...</td>\n",
       "      <td>GRP_0</td>\n",
       "    </tr>\n",
       "    <tr>\n",
       "      <th>3</th>\n",
       "      <td>unable to access hr_tool page</td>\n",
       "      <td>GRP_0</td>\n",
       "    </tr>\n",
       "    <tr>\n",
       "      <th>4</th>\n",
       "      <td>skype error</td>\n",
       "      <td>GRP_0</td>\n",
       "    </tr>\n",
       "    <tr>\n",
       "      <th>...</th>\n",
       "      <td>...</td>\n",
       "      <td>...</td>\n",
       "    </tr>\n",
       "    <tr>\n",
       "      <th>8495</th>\n",
       "      <td>_x000D_\\n_x000D_\\nreceived from: avglmrts.vhqm...</td>\n",
       "      <td>GRP_29</td>\n",
       "    </tr>\n",
       "    <tr>\n",
       "      <th>8496</th>\n",
       "      <td>telephony_software issue</td>\n",
       "      <td>GRP_0</td>\n",
       "    </tr>\n",
       "    <tr>\n",
       "      <th>8497</th>\n",
       "      <td>vip2: windows password reset for tifpdchb pedx...</td>\n",
       "      <td>GRP_0</td>\n",
       "    </tr>\n",
       "    <tr>\n",
       "      <th>8498</th>\n",
       "      <td>i am unable to access the machine utilities to...</td>\n",
       "      <td>GRP_62</td>\n",
       "    </tr>\n",
       "    <tr>\n",
       "      <th>8499</th>\n",
       "      <td>an mehreren pc`s lassen sich verschiedene prgr...</td>\n",
       "      <td>misc_grp</td>\n",
       "    </tr>\n",
       "  </tbody>\n",
       "</table>\n",
       "<p>8500 rows × 2 columns</p>\n",
       "</div>"
      ],
      "text/plain": [
       "                                            Description Assignment group\n",
       "0     -verified user details.(employee# & manager na...            GRP_0\n",
       "1     _x000D_\\n_x000D_\\nreceived from: hmjdrvpb.komu...            GRP_0\n",
       "2     _x000D_\\n_x000D_\\nreceived from: eylqgodm.ybqk...            GRP_0\n",
       "3                         unable to access hr_tool page            GRP_0\n",
       "4                                          skype error             GRP_0\n",
       "...                                                 ...              ...\n",
       "8495  _x000D_\\n_x000D_\\nreceived from: avglmrts.vhqm...           GRP_29\n",
       "8496                           telephony_software issue            GRP_0\n",
       "8497  vip2: windows password reset for tifpdchb pedx...            GRP_0\n",
       "8498  i am unable to access the machine utilities to...           GRP_62\n",
       "8499  an mehreren pc`s lassen sich verschiedene prgr...         misc_grp\n",
       "\n",
       "[8500 rows x 2 columns]"
      ]
     },
     "execution_count": 8,
     "metadata": {},
     "output_type": "execute_result"
    }
   ],
   "source": [
    "open_source_8500"
   ]
  },
  {
   "cell_type": "code",
   "execution_count": null,
   "id": "65d6c415-3e37-4870-938b-6642d6750c28",
   "metadata": {},
   "outputs": [],
   "source": []
  },
  {
   "cell_type": "markdown",
   "id": "3e440099-85a5-45e8-a2dd-47675bf9a8dc",
   "metadata": {},
   "source": [
    "# paper Description處理"
   ]
  },
  {
   "cell_type": "code",
   "execution_count": 18,
   "id": "fb89c1ab-21f8-4ad9-9c76-9a2e47d6f5e2",
   "metadata": {},
   "outputs": [
    {
     "name": "stderr",
     "output_type": "stream",
     "text": [
      "C:\\Users\\User\\AppData\\Local\\Temp\\ipykernel_23756\\881952707.py:51: SettingWithCopyWarning: \n",
      "A value is trying to be set on a copy of a slice from a DataFrame.\n",
      "Try using .loc[row_indexer,col_indexer] = value instead\n",
      "\n",
      "See the caveats in the documentation: https://pandas.pydata.org/pandas-docs/stable/user_guide/indexing.html#returning-a-view-versus-a-copy\n",
      "  open_source_8500['Description'] = open_source_8500['Description'].apply(clean_data)\n"
     ]
    },
    {
     "data": {
      "text/html": [
       "<div>\n",
       "<style scoped>\n",
       "    .dataframe tbody tr th:only-of-type {\n",
       "        vertical-align: middle;\n",
       "    }\n",
       "\n",
       "    .dataframe tbody tr th {\n",
       "        vertical-align: top;\n",
       "    }\n",
       "\n",
       "    .dataframe thead th {\n",
       "        text-align: right;\n",
       "    }\n",
       "</style>\n",
       "<table border=\"1\" class=\"dataframe\">\n",
       "  <thead>\n",
       "    <tr style=\"text-align: right;\">\n",
       "      <th></th>\n",
       "      <th>Description</th>\n",
       "      <th>Assignment group</th>\n",
       "      <th>cleanText</th>\n",
       "      <th>Assignment_group_label</th>\n",
       "    </tr>\n",
       "  </thead>\n",
       "  <tbody>\n",
       "    <tr>\n",
       "      <th>0</th>\n",
       "      <td>verified user details employee and manager nam...</td>\n",
       "      <td>GRP_0</td>\n",
       "      <td>verified user details employee manager name ch...</td>\n",
       "      <td>0</td>\n",
       "    </tr>\n",
       "    <tr>\n",
       "      <th>1</th>\n",
       "      <td>xd xd xd hello team xd xd my meetings skype me...</td>\n",
       "      <td>GRP_0</td>\n",
       "      <td>hello team meetings skype meetings etc appeari...</td>\n",
       "      <td>0</td>\n",
       "    </tr>\n",
       "    <tr>\n",
       "      <th>2</th>\n",
       "      <td>xd xd xd hi xd xd cannot log on to vpn xd xd best</td>\n",
       "      <td>GRP_0</td>\n",
       "      <td>cannot log vpn best</td>\n",
       "      <td>0</td>\n",
       "    </tr>\n",
       "    <tr>\n",
       "      <th>3</th>\n",
       "      <td>unable to access hr tool page</td>\n",
       "      <td>GRP_0</td>\n",
       "      <td>unable access tool page</td>\n",
       "      <td>0</td>\n",
       "    </tr>\n",
       "    <tr>\n",
       "      <th>4</th>\n",
       "      <td>skype error</td>\n",
       "      <td>GRP_0</td>\n",
       "      <td>skype error</td>\n",
       "      <td>0</td>\n",
       "    </tr>\n",
       "    <tr>\n",
       "      <th>...</th>\n",
       "      <td>...</td>\n",
       "      <td>...</td>\n",
       "      <td>...</td>\n",
       "      <td>...</td>\n",
       "    </tr>\n",
       "    <tr>\n",
       "      <th>8495</th>\n",
       "      <td>xd xd xd good afternoon xd am not receiving th...</td>\n",
       "      <td>GRP_29</td>\n",
       "      <td>good afternoon receiving emails sent mail plea...</td>\n",
       "      <td>22</td>\n",
       "    </tr>\n",
       "    <tr>\n",
       "      <th>8496</th>\n",
       "      <td>telephony software issue</td>\n",
       "      <td>GRP_0</td>\n",
       "      <td>telephony software issue</td>\n",
       "      <td>0</td>\n",
       "    </tr>\n",
       "    <tr>\n",
       "      <th>8497</th>\n",
       "      <td>vip windows password reset for tifpdchb pedxruyf</td>\n",
       "      <td>GRP_0</td>\n",
       "      <td>vip windows password reset tifpdchb pedxruyf</td>\n",
       "      <td>0</td>\n",
       "    </tr>\n",
       "    <tr>\n",
       "      <th>8498</th>\n",
       "      <td>i am unable to access the machine utilities to...</td>\n",
       "      <td>GRP_62</td>\n",
       "      <td>unable access machine utilities finish drawers...</td>\n",
       "      <td>44</td>\n",
       "    </tr>\n",
       "    <tr>\n",
       "      <th>8499</th>\n",
       "      <td>an mehreren pc lassen sich verschiedene prgram...</td>\n",
       "      <td>misc_grp</td>\n",
       "      <td>mehreren lassen sich verschiedene prgramdntyme...</td>\n",
       "      <td>49</td>\n",
       "    </tr>\n",
       "  </tbody>\n",
       "</table>\n",
       "<p>8380 rows × 4 columns</p>\n",
       "</div>"
      ],
      "text/plain": [
       "                                            Description Assignment group  \\\n",
       "0     verified user details employee and manager nam...            GRP_0   \n",
       "1     xd xd xd hello team xd xd my meetings skype me...            GRP_0   \n",
       "2     xd xd xd hi xd xd cannot log on to vpn xd xd best            GRP_0   \n",
       "3                         unable to access hr tool page            GRP_0   \n",
       "4                                           skype error            GRP_0   \n",
       "...                                                 ...              ...   \n",
       "8495  xd xd xd good afternoon xd am not receiving th...           GRP_29   \n",
       "8496                           telephony software issue            GRP_0   \n",
       "8497   vip windows password reset for tifpdchb pedxruyf            GRP_0   \n",
       "8498  i am unable to access the machine utilities to...           GRP_62   \n",
       "8499  an mehreren pc lassen sich verschiedene prgram...         misc_grp   \n",
       "\n",
       "                                              cleanText  \\\n",
       "0     verified user details employee manager name ch...   \n",
       "1     hello team meetings skype meetings etc appeari...   \n",
       "2                                   cannot log vpn best   \n",
       "3                               unable access tool page   \n",
       "4                                           skype error   \n",
       "...                                                 ...   \n",
       "8495  good afternoon receiving emails sent mail plea...   \n",
       "8496                           telephony software issue   \n",
       "8497       vip windows password reset tifpdchb pedxruyf   \n",
       "8498  unable access machine utilities finish drawers...   \n",
       "8499  mehreren lassen sich verschiedene prgramdntyme...   \n",
       "\n",
       "      Assignment_group_label  \n",
       "0                          0  \n",
       "1                          0  \n",
       "2                          0  \n",
       "3                          0  \n",
       "4                          0  \n",
       "...                      ...  \n",
       "8495                      22  \n",
       "8496                       0  \n",
       "8497                       0  \n",
       "8498                      44  \n",
       "8499                      49  \n",
       "\n",
       "[8380 rows x 4 columns]"
      ]
     },
     "execution_count": 18,
     "metadata": {},
     "output_type": "execute_result"
    }
   ],
   "source": [
    "import re \n",
    "from dateutil import parser\n",
    "def is_valid_date(date_str):\n",
    "    try:\n",
    "        parser.parse(date_str)\n",
    "        return True\n",
    "    except:\n",
    "        return False\n",
    "\n",
    "def clean_data(text):\n",
    "    text=text.lower()\n",
    "    text = ' '.join([w for w in text.split() if not is_valid_date(w)])\n",
    "    text = re.sub(r\"received from:\",' ',text)\n",
    "    text = re.sub(r\"from:\",' ',text)\n",
    "    text = re.sub(r\"to:\",' ',text)\n",
    "    text = re.sub(r\"subject:\",' ',text)\n",
    "    text = re.sub(r\"sent:\",' ',text)\n",
    "    text = re.sub(r\"ic:\",' ',text)\n",
    "    text = re.sub(r\"cc:\",' ',text)\n",
    "    text = re.sub(r\"bcc:\",' ',text)\n",
    "    #Remove email \n",
    "    text = re.sub(r'\\S*@\\S*\\s?', '', text)\n",
    "    # Remove numbers \n",
    "    text = re.sub(r'\\d+','' ,text)\n",
    "    # Remove Non Dictionary character-TODO\n",
    "    # Remove new line characters \n",
    "    text = re.sub(r'\\n',' ',text)\n",
    "    # Remove hashtag while keeping hashtag text\n",
    "    text = re.sub(r'#','', text)\n",
    "    #& \n",
    "    text = re.sub(r'&;?', 'and',text)\n",
    "    # Remove HTML special entities (e.g. &amp;)\n",
    "    text = re.sub(r'\\&\\w*;', '', text)\n",
    "    # Remove hyperlinks\n",
    "    text = re.sub(r'https?:\\/\\/.*\\/\\w*', '', text)  \n",
    "    # Remove characters beyond Readable formart by Unicode:\n",
    "    text= ''.join(c for c in text if c <= '\\uFFFF') \n",
    "    text = text.strip()\n",
    "    # Remove unreadable characters  (also extra spaces)\n",
    "    text = ' '.join(re.sub(\"[^\\u0030-\\u0039\\u0041-\\u005a\\u0061-\\u007a]\", \" \", text).split())\n",
    "    for name in callers:\n",
    "      namelist = [part for part in name.split()]\n",
    "      for namepart in namelist: \n",
    "          text = text.replace(namepart,'')\n",
    "          \n",
    "    text = re.sub(r\"\\s+[a-zA-Z]\\s+\", ' ', text)\n",
    "    text = re.sub(' +', ' ', text)\n",
    "    text = text.strip()\n",
    "    return text\n",
    "  \n",
    "open_source_8500['Description'] = open_source_8500['Description'].apply(clean_data)\n",
    "open_source_8500"
   ]
  },
  {
   "cell_type": "code",
   "execution_count": 19,
   "id": "c9311609",
   "metadata": {},
   "outputs": [],
   "source": [
    "import nltk\n",
    "from nltk.tokenize import RegexpTokenizer\n",
    "from nltk.stem import WordNetLemmatizer,PorterStemmer\n",
    "from nltk.corpus import stopwords\n",
    "import re\n",
    "lemmatizer = WordNetLemmatizer()\n",
    "stemmer = PorterStemmer() \n",
    "def preprocess(sentence):\n",
    "    sentence=str(sentence)\n",
    "    sentence = sentence.lower()\n",
    "    sentence=sentence.replace('{html}',\"\") \n",
    "    cleanr = re.compile('<.*?>')\n",
    "    cleantext = re.sub(cleanr, '', sentence)\n",
    "    rem_url=re.sub(r'http\\S+', '',cleantext)\n",
    "    rem_num = re.sub('[0-9]+', '', rem_url)\n",
    "    tokenizer = RegexpTokenizer(r'\\w+')\n",
    "    tokens = tokenizer.tokenize(rem_num)  \n",
    "    filtered_words = [w for w in tokens if len(w) > 2 if not w in stopwords.words('english')]\n",
    "    stem_words=[stemmer.stem(w) for w in filtered_words]\n",
    "    lemma_words=[lemmatizer.lemmatize(w) for w in stem_words]\n",
    "    return \" \".join(filtered_words)"
   ]
  },
  {
   "cell_type": "code",
   "execution_count": 20,
   "id": "b61c058c",
   "metadata": {},
   "outputs": [
    {
     "name": "stderr",
     "output_type": "stream",
     "text": [
      "C:\\Users\\User\\AppData\\Local\\Temp\\ipykernel_23756\\2559323936.py:3: SettingWithCopyWarning: \n",
      "A value is trying to be set on a copy of a slice from a DataFrame.\n",
      "Try using .loc[row_indexer,col_indexer] = value instead\n",
      "\n",
      "See the caveats in the documentation: https://pandas.pydata.org/pandas-docs/stable/user_guide/indexing.html#returning-a-view-versus-a-copy\n",
      "  open_source_8500['cleanText']=open_source_8500['Description'].map(lambda s:preprocess(s))\n"
     ]
    },
    {
     "data": {
      "text/plain": [
       "0       verified user details employee manager name ch...\n",
       "1       hello team meetings skype meetings etc appeari...\n",
       "2                                     cannot log vpn best\n",
       "3                                 unable access tool page\n",
       "4                                             skype error\n",
       "                              ...                        \n",
       "8375    good afternoon receiving emails sent mail plea...\n",
       "8376                             telephony software issue\n",
       "8377         vip windows password reset tifpdchb pedxruyf\n",
       "8378    unable access machine utilities finish drawers...\n",
       "8379    mehreren lassen sich verschiedene prgramdntyme...\n",
       "Name: cleanText, Length: 8380, dtype: object"
      ]
     },
     "execution_count": 20,
     "metadata": {},
     "output_type": "execute_result"
    }
   ],
   "source": [
    "open_source_8500.reset_index(drop=True,inplace=True)\n",
    "\n",
    "open_source_8500['cleanText']=open_source_8500['Description'].map(lambda s:preprocess(s))\n",
    "\n",
    "open_source_8500['cleanText']"
   ]
  },
  {
   "cell_type": "code",
   "execution_count": 21,
   "id": "6e9716fa-ee25-47a4-a575-ba22c42e9d86",
   "metadata": {},
   "outputs": [
    {
     "name": "stderr",
     "output_type": "stream",
     "text": [
      "C:\\Users\\User\\AppData\\Local\\Temp\\ipykernel_23756\\3983863282.py:12: SettingWithCopyWarning: \n",
      "A value is trying to be set on a copy of a slice from a DataFrame.\n",
      "Try using .loc[row_indexer,col_indexer] = value instead\n",
      "\n",
      "See the caveats in the documentation: https://pandas.pydata.org/pandas-docs/stable/user_guide/indexing.html#returning-a-view-versus-a-copy\n",
      "  open_source_8500['Assignment_group_label'],grp_mapping_all_raw = labelencoder(open_source_8500['Assignment group'])\n"
     ]
    }
   ],
   "source": [
    "from sklearn import preprocessing\n",
    "def labelencoder(dataframe) : \n",
    "  label_encoder = preprocessing.LabelEncoder() \n",
    "  dataframe= label_encoder.fit_transform(dataframe)\n",
    "  grp_mapping = dict(zip(label_encoder.transform(label_encoder.classes_), label_encoder.classes_))\n",
    "  return dataframe,grp_mapping\n",
    "\n",
    "#itTicketGRP0DF['Assignment group'] , grp_mapping_grp0= labelencoder(itTicketGRP0DF['Assignment group'])\n",
    "#itTicketOthersDF_resampled['Assignment group'] , grp_mapping_others_resampled= labelencoder(itTicketOthersDF_resampled['Assignment group'])\n",
    "#otherGrpsResampled['Assignment group'] , grp_mapping_others_resampled= labelencoder(otherGrpsResampled['Assignment group'])\n",
    "#itTicketDF_resampled['Assignment group'] , grp_mapping_all_resampled= labelencoder(itTicketDF_resampled['Assignment group'])\n",
    "open_source_8500['Assignment_group_label'],grp_mapping_all_raw = labelencoder(open_source_8500['Assignment group'])"
   ]
  },
  {
   "cell_type": "code",
   "execution_count": 22,
   "id": "d0166b03-4f1e-49f4-814d-82e8fa0ab470",
   "metadata": {},
   "outputs": [
    {
     "data": {
      "text/html": [
       "<div>\n",
       "<style scoped>\n",
       "    .dataframe tbody tr th:only-of-type {\n",
       "        vertical-align: middle;\n",
       "    }\n",
       "\n",
       "    .dataframe tbody tr th {\n",
       "        vertical-align: top;\n",
       "    }\n",
       "\n",
       "    .dataframe thead th {\n",
       "        text-align: right;\n",
       "    }\n",
       "</style>\n",
       "<table border=\"1\" class=\"dataframe\">\n",
       "  <thead>\n",
       "    <tr style=\"text-align: right;\">\n",
       "      <th></th>\n",
       "      <th>Description</th>\n",
       "      <th>Assignment group</th>\n",
       "      <th>cleanText</th>\n",
       "      <th>Assignment_group_label</th>\n",
       "    </tr>\n",
       "  </thead>\n",
       "  <tbody>\n",
       "    <tr>\n",
       "      <th>0</th>\n",
       "      <td>verified user details employee and manager nam...</td>\n",
       "      <td>GRP_0</td>\n",
       "      <td>verified user details employee manager name ch...</td>\n",
       "      <td>0</td>\n",
       "    </tr>\n",
       "    <tr>\n",
       "      <th>1</th>\n",
       "      <td>xd xd xd hello team xd xd my meetings skype me...</td>\n",
       "      <td>GRP_0</td>\n",
       "      <td>hello team meetings skype meetings etc appeari...</td>\n",
       "      <td>0</td>\n",
       "    </tr>\n",
       "    <tr>\n",
       "      <th>2</th>\n",
       "      <td>xd xd xd hi xd xd cannot log on to vpn xd xd best</td>\n",
       "      <td>GRP_0</td>\n",
       "      <td>cannot log vpn best</td>\n",
       "      <td>0</td>\n",
       "    </tr>\n",
       "    <tr>\n",
       "      <th>3</th>\n",
       "      <td>unable to access hr tool page</td>\n",
       "      <td>GRP_0</td>\n",
       "      <td>unable access tool page</td>\n",
       "      <td>0</td>\n",
       "    </tr>\n",
       "    <tr>\n",
       "      <th>4</th>\n",
       "      <td>skype error</td>\n",
       "      <td>GRP_0</td>\n",
       "      <td>skype error</td>\n",
       "      <td>0</td>\n",
       "    </tr>\n",
       "    <tr>\n",
       "      <th>...</th>\n",
       "      <td>...</td>\n",
       "      <td>...</td>\n",
       "      <td>...</td>\n",
       "      <td>...</td>\n",
       "    </tr>\n",
       "    <tr>\n",
       "      <th>8375</th>\n",
       "      <td>xd xd xd good afternoon xd am not receiving th...</td>\n",
       "      <td>GRP_29</td>\n",
       "      <td>good afternoon receiving emails sent mail plea...</td>\n",
       "      <td>22</td>\n",
       "    </tr>\n",
       "    <tr>\n",
       "      <th>8376</th>\n",
       "      <td>telephony software issue</td>\n",
       "      <td>GRP_0</td>\n",
       "      <td>telephony software issue</td>\n",
       "      <td>0</td>\n",
       "    </tr>\n",
       "    <tr>\n",
       "      <th>8377</th>\n",
       "      <td>vip windows password reset for tifpdchb pedxruyf</td>\n",
       "      <td>GRP_0</td>\n",
       "      <td>vip windows password reset tifpdchb pedxruyf</td>\n",
       "      <td>0</td>\n",
       "    </tr>\n",
       "    <tr>\n",
       "      <th>8378</th>\n",
       "      <td>i am unable to access the machine utilities to...</td>\n",
       "      <td>GRP_62</td>\n",
       "      <td>unable access machine utilities finish drawers...</td>\n",
       "      <td>44</td>\n",
       "    </tr>\n",
       "    <tr>\n",
       "      <th>8379</th>\n",
       "      <td>an mehreren pc lassen sich verschiedene prgram...</td>\n",
       "      <td>misc_grp</td>\n",
       "      <td>mehreren lassen sich verschiedene prgramdntyme...</td>\n",
       "      <td>49</td>\n",
       "    </tr>\n",
       "  </tbody>\n",
       "</table>\n",
       "<p>8380 rows × 4 columns</p>\n",
       "</div>"
      ],
      "text/plain": [
       "                                            Description Assignment group  \\\n",
       "0     verified user details employee and manager nam...            GRP_0   \n",
       "1     xd xd xd hello team xd xd my meetings skype me...            GRP_0   \n",
       "2     xd xd xd hi xd xd cannot log on to vpn xd xd best            GRP_0   \n",
       "3                         unable to access hr tool page            GRP_0   \n",
       "4                                           skype error            GRP_0   \n",
       "...                                                 ...              ...   \n",
       "8375  xd xd xd good afternoon xd am not receiving th...           GRP_29   \n",
       "8376                           telephony software issue            GRP_0   \n",
       "8377   vip windows password reset for tifpdchb pedxruyf            GRP_0   \n",
       "8378  i am unable to access the machine utilities to...           GRP_62   \n",
       "8379  an mehreren pc lassen sich verschiedene prgram...         misc_grp   \n",
       "\n",
       "                                              cleanText  \\\n",
       "0     verified user details employee manager name ch...   \n",
       "1     hello team meetings skype meetings etc appeari...   \n",
       "2                                   cannot log vpn best   \n",
       "3                               unable access tool page   \n",
       "4                                           skype error   \n",
       "...                                                 ...   \n",
       "8375  good afternoon receiving emails sent mail plea...   \n",
       "8376                           telephony software issue   \n",
       "8377       vip windows password reset tifpdchb pedxruyf   \n",
       "8378  unable access machine utilities finish drawers...   \n",
       "8379  mehreren lassen sich verschiedene prgramdntyme...   \n",
       "\n",
       "      Assignment_group_label  \n",
       "0                          0  \n",
       "1                          0  \n",
       "2                          0  \n",
       "3                          0  \n",
       "4                          0  \n",
       "...                      ...  \n",
       "8375                      22  \n",
       "8376                       0  \n",
       "8377                       0  \n",
       "8378                      44  \n",
       "8379                      49  \n",
       "\n",
       "[8380 rows x 4 columns]"
      ]
     },
     "execution_count": 22,
     "metadata": {},
     "output_type": "execute_result"
    }
   ],
   "source": [
    "open_source_8500"
   ]
  },
  {
   "cell_type": "code",
   "execution_count": 23,
   "id": "26b81d81-0a3c-4eba-95d7-5baa89823b31",
   "metadata": {},
   "outputs": [
    {
     "data": {
      "text/html": [
       "<div>\n",
       "<style scoped>\n",
       "    .dataframe tbody tr th:only-of-type {\n",
       "        vertical-align: middle;\n",
       "    }\n",
       "\n",
       "    .dataframe tbody tr th {\n",
       "        vertical-align: top;\n",
       "    }\n",
       "\n",
       "    .dataframe thead th {\n",
       "        text-align: right;\n",
       "    }\n",
       "</style>\n",
       "<table border=\"1\" class=\"dataframe\">\n",
       "  <thead>\n",
       "    <tr style=\"text-align: right;\">\n",
       "      <th></th>\n",
       "      <th>Description</th>\n",
       "      <th>Assignment group</th>\n",
       "      <th>cleanText</th>\n",
       "      <th>Assignment_group_label</th>\n",
       "    </tr>\n",
       "  </thead>\n",
       "  <tbody>\n",
       "  </tbody>\n",
       "</table>\n",
       "</div>"
      ],
      "text/plain": [
       "Empty DataFrame\n",
       "Columns: [Description, Assignment group, cleanText, Assignment_group_label]\n",
       "Index: []"
      ]
     },
     "execution_count": 23,
     "metadata": {},
     "output_type": "execute_result"
    }
   ],
   "source": [
    "rows_with_nan = open_source_8500[open_source_8500['cleanText'] == '']\n",
    "rows_with_nan"
   ]
  },
  {
   "cell_type": "code",
   "execution_count": 24,
   "id": "fa5bb3b4-5a52-4f6f-8596-bc5f4d8b1d07",
   "metadata": {},
   "outputs": [
    {
     "data": {
      "text/html": [
       "<div>\n",
       "<style scoped>\n",
       "    .dataframe tbody tr th:only-of-type {\n",
       "        vertical-align: middle;\n",
       "    }\n",
       "\n",
       "    .dataframe tbody tr th {\n",
       "        vertical-align: top;\n",
       "    }\n",
       "\n",
       "    .dataframe thead th {\n",
       "        text-align: right;\n",
       "    }\n",
       "</style>\n",
       "<table border=\"1\" class=\"dataframe\">\n",
       "  <thead>\n",
       "    <tr style=\"text-align: right;\">\n",
       "      <th></th>\n",
       "      <th>Description</th>\n",
       "      <th>Assignment group</th>\n",
       "      <th>cleanText</th>\n",
       "      <th>Assignment_group_label</th>\n",
       "    </tr>\n",
       "  </thead>\n",
       "  <tbody>\n",
       "    <tr>\n",
       "      <th>0</th>\n",
       "      <td>verified user details employee and manager nam...</td>\n",
       "      <td>GRP_0</td>\n",
       "      <td>verified user details employee manager name ch...</td>\n",
       "      <td>0</td>\n",
       "    </tr>\n",
       "    <tr>\n",
       "      <th>1</th>\n",
       "      <td>xd xd xd hello team xd xd my meetings skype me...</td>\n",
       "      <td>GRP_0</td>\n",
       "      <td>hello team meetings skype meetings etc appeari...</td>\n",
       "      <td>0</td>\n",
       "    </tr>\n",
       "    <tr>\n",
       "      <th>2</th>\n",
       "      <td>xd xd xd hi xd xd cannot log on to vpn xd xd best</td>\n",
       "      <td>GRP_0</td>\n",
       "      <td>cannot log vpn best</td>\n",
       "      <td>0</td>\n",
       "    </tr>\n",
       "    <tr>\n",
       "      <th>3</th>\n",
       "      <td>unable to access hr tool page</td>\n",
       "      <td>GRP_0</td>\n",
       "      <td>unable access tool page</td>\n",
       "      <td>0</td>\n",
       "    </tr>\n",
       "    <tr>\n",
       "      <th>4</th>\n",
       "      <td>skype error</td>\n",
       "      <td>GRP_0</td>\n",
       "      <td>skype error</td>\n",
       "      <td>0</td>\n",
       "    </tr>\n",
       "    <tr>\n",
       "      <th>...</th>\n",
       "      <td>...</td>\n",
       "      <td>...</td>\n",
       "      <td>...</td>\n",
       "      <td>...</td>\n",
       "    </tr>\n",
       "    <tr>\n",
       "      <th>8375</th>\n",
       "      <td>xd xd xd good afternoon xd am not receiving th...</td>\n",
       "      <td>GRP_29</td>\n",
       "      <td>good afternoon receiving emails sent mail plea...</td>\n",
       "      <td>22</td>\n",
       "    </tr>\n",
       "    <tr>\n",
       "      <th>8376</th>\n",
       "      <td>telephony software issue</td>\n",
       "      <td>GRP_0</td>\n",
       "      <td>telephony software issue</td>\n",
       "      <td>0</td>\n",
       "    </tr>\n",
       "    <tr>\n",
       "      <th>8377</th>\n",
       "      <td>vip windows password reset for tifpdchb pedxruyf</td>\n",
       "      <td>GRP_0</td>\n",
       "      <td>vip windows password reset tifpdchb pedxruyf</td>\n",
       "      <td>0</td>\n",
       "    </tr>\n",
       "    <tr>\n",
       "      <th>8378</th>\n",
       "      <td>i am unable to access the machine utilities to...</td>\n",
       "      <td>GRP_62</td>\n",
       "      <td>unable access machine utilities finish drawers...</td>\n",
       "      <td>44</td>\n",
       "    </tr>\n",
       "    <tr>\n",
       "      <th>8379</th>\n",
       "      <td>an mehreren pc lassen sich verschiedene prgram...</td>\n",
       "      <td>misc_grp</td>\n",
       "      <td>mehreren lassen sich verschiedene prgramdntyme...</td>\n",
       "      <td>49</td>\n",
       "    </tr>\n",
       "  </tbody>\n",
       "</table>\n",
       "<p>8380 rows × 4 columns</p>\n",
       "</div>"
      ],
      "text/plain": [
       "                                            Description Assignment group  \\\n",
       "0     verified user details employee and manager nam...            GRP_0   \n",
       "1     xd xd xd hello team xd xd my meetings skype me...            GRP_0   \n",
       "2     xd xd xd hi xd xd cannot log on to vpn xd xd best            GRP_0   \n",
       "3                         unable to access hr tool page            GRP_0   \n",
       "4                                           skype error            GRP_0   \n",
       "...                                                 ...              ...   \n",
       "8375  xd xd xd good afternoon xd am not receiving th...           GRP_29   \n",
       "8376                           telephony software issue            GRP_0   \n",
       "8377   vip windows password reset for tifpdchb pedxruyf            GRP_0   \n",
       "8378  i am unable to access the machine utilities to...           GRP_62   \n",
       "8379  an mehreren pc lassen sich verschiedene prgram...         misc_grp   \n",
       "\n",
       "                                              cleanText  \\\n",
       "0     verified user details employee manager name ch...   \n",
       "1     hello team meetings skype meetings etc appeari...   \n",
       "2                                   cannot log vpn best   \n",
       "3                               unable access tool page   \n",
       "4                                           skype error   \n",
       "...                                                 ...   \n",
       "8375  good afternoon receiving emails sent mail plea...   \n",
       "8376                           telephony software issue   \n",
       "8377       vip windows password reset tifpdchb pedxruyf   \n",
       "8378  unable access machine utilities finish drawers...   \n",
       "8379  mehreren lassen sich verschiedene prgramdntyme...   \n",
       "\n",
       "      Assignment_group_label  \n",
       "0                          0  \n",
       "1                          0  \n",
       "2                          0  \n",
       "3                          0  \n",
       "4                          0  \n",
       "...                      ...  \n",
       "8375                      22  \n",
       "8376                       0  \n",
       "8377                       0  \n",
       "8378                      44  \n",
       "8379                      49  \n",
       "\n",
       "[8380 rows x 4 columns]"
      ]
     },
     "execution_count": 24,
     "metadata": {},
     "output_type": "execute_result"
    }
   ],
   "source": [
    "open_source_8500 = open_source_8500[open_source_8500['cleanText'].str.strip() != '']\n",
    "open_source_8500"
   ]
  },
  {
   "cell_type": "code",
   "execution_count": 25,
   "id": "84825048-d3df-4d71-b7ef-d2be1a00e325",
   "metadata": {},
   "outputs": [
    {
     "data": {
      "text/html": [
       "<div>\n",
       "<style scoped>\n",
       "    .dataframe tbody tr th:only-of-type {\n",
       "        vertical-align: middle;\n",
       "    }\n",
       "\n",
       "    .dataframe tbody tr th {\n",
       "        vertical-align: top;\n",
       "    }\n",
       "\n",
       "    .dataframe thead th {\n",
       "        text-align: right;\n",
       "    }\n",
       "</style>\n",
       "<table border=\"1\" class=\"dataframe\">\n",
       "  <thead>\n",
       "    <tr style=\"text-align: right;\">\n",
       "      <th></th>\n",
       "      <th>Description</th>\n",
       "      <th>Assignment group</th>\n",
       "      <th>cleanText</th>\n",
       "      <th>Assignment_group_label</th>\n",
       "    </tr>\n",
       "  </thead>\n",
       "  <tbody>\n",
       "    <tr>\n",
       "      <th>0</th>\n",
       "      <td>verified user details employee and manager nam...</td>\n",
       "      <td>GRP_0</td>\n",
       "      <td>verified user details employee manager name ch...</td>\n",
       "      <td>0</td>\n",
       "    </tr>\n",
       "    <tr>\n",
       "      <th>1</th>\n",
       "      <td>xd xd xd hello team xd xd my meetings skype me...</td>\n",
       "      <td>GRP_0</td>\n",
       "      <td>hello team meetings skype meetings etc appeari...</td>\n",
       "      <td>0</td>\n",
       "    </tr>\n",
       "    <tr>\n",
       "      <th>2</th>\n",
       "      <td>xd xd xd hi xd xd cannot log on to vpn xd xd best</td>\n",
       "      <td>GRP_0</td>\n",
       "      <td>cannot log vpn best</td>\n",
       "      <td>0</td>\n",
       "    </tr>\n",
       "    <tr>\n",
       "      <th>3</th>\n",
       "      <td>unable to access hr tool page</td>\n",
       "      <td>GRP_0</td>\n",
       "      <td>unable access tool page</td>\n",
       "      <td>0</td>\n",
       "    </tr>\n",
       "    <tr>\n",
       "      <th>4</th>\n",
       "      <td>skype error</td>\n",
       "      <td>GRP_0</td>\n",
       "      <td>skype error</td>\n",
       "      <td>0</td>\n",
       "    </tr>\n",
       "    <tr>\n",
       "      <th>...</th>\n",
       "      <td>...</td>\n",
       "      <td>...</td>\n",
       "      <td>...</td>\n",
       "      <td>...</td>\n",
       "    </tr>\n",
       "    <tr>\n",
       "      <th>8375</th>\n",
       "      <td>xd xd xd good afternoon xd am not receiving th...</td>\n",
       "      <td>GRP_29</td>\n",
       "      <td>good afternoon receiving emails sent mail plea...</td>\n",
       "      <td>22</td>\n",
       "    </tr>\n",
       "    <tr>\n",
       "      <th>8376</th>\n",
       "      <td>telephony software issue</td>\n",
       "      <td>GRP_0</td>\n",
       "      <td>telephony software issue</td>\n",
       "      <td>0</td>\n",
       "    </tr>\n",
       "    <tr>\n",
       "      <th>8377</th>\n",
       "      <td>vip windows password reset for tifpdchb pedxruyf</td>\n",
       "      <td>GRP_0</td>\n",
       "      <td>vip windows password reset tifpdchb pedxruyf</td>\n",
       "      <td>0</td>\n",
       "    </tr>\n",
       "    <tr>\n",
       "      <th>8378</th>\n",
       "      <td>i am unable to access the machine utilities to...</td>\n",
       "      <td>GRP_62</td>\n",
       "      <td>unable access machine utilities finish drawers...</td>\n",
       "      <td>44</td>\n",
       "    </tr>\n",
       "    <tr>\n",
       "      <th>8379</th>\n",
       "      <td>an mehreren pc lassen sich verschiedene prgram...</td>\n",
       "      <td>misc_grp</td>\n",
       "      <td>mehreren lassen sich verschiedene prgramdntyme...</td>\n",
       "      <td>49</td>\n",
       "    </tr>\n",
       "  </tbody>\n",
       "</table>\n",
       "<p>8380 rows × 4 columns</p>\n",
       "</div>"
      ],
      "text/plain": [
       "                                            Description Assignment group  \\\n",
       "0     verified user details employee and manager nam...            GRP_0   \n",
       "1     xd xd xd hello team xd xd my meetings skype me...            GRP_0   \n",
       "2     xd xd xd hi xd xd cannot log on to vpn xd xd best            GRP_0   \n",
       "3                         unable to access hr tool page            GRP_0   \n",
       "4                                           skype error            GRP_0   \n",
       "...                                                 ...              ...   \n",
       "8375  xd xd xd good afternoon xd am not receiving th...           GRP_29   \n",
       "8376                           telephony software issue            GRP_0   \n",
       "8377   vip windows password reset for tifpdchb pedxruyf            GRP_0   \n",
       "8378  i am unable to access the machine utilities to...           GRP_62   \n",
       "8379  an mehreren pc lassen sich verschiedene prgram...         misc_grp   \n",
       "\n",
       "                                              cleanText  \\\n",
       "0     verified user details employee manager name ch...   \n",
       "1     hello team meetings skype meetings etc appeari...   \n",
       "2                                   cannot log vpn best   \n",
       "3                               unable access tool page   \n",
       "4                                           skype error   \n",
       "...                                                 ...   \n",
       "8375  good afternoon receiving emails sent mail plea...   \n",
       "8376                           telephony software issue   \n",
       "8377       vip windows password reset tifpdchb pedxruyf   \n",
       "8378  unable access machine utilities finish drawers...   \n",
       "8379  mehreren lassen sich verschiedene prgramdntyme...   \n",
       "\n",
       "      Assignment_group_label  \n",
       "0                          0  \n",
       "1                          0  \n",
       "2                          0  \n",
       "3                          0  \n",
       "4                          0  \n",
       "...                      ...  \n",
       "8375                      22  \n",
       "8376                       0  \n",
       "8377                       0  \n",
       "8378                      44  \n",
       "8379                      49  \n",
       "\n",
       "[8380 rows x 4 columns]"
      ]
     },
     "execution_count": 25,
     "metadata": {},
     "output_type": "execute_result"
    }
   ],
   "source": [
    "# Using itTicketDF_resampled dataset \n",
    "# df=itTicketDF_resampled\n",
    "df=open_source_8500\n",
    "df = df[df['cleanText'].notnull()]\n",
    "df"
   ]
  },
  {
   "cell_type": "code",
   "execution_count": 26,
   "id": "7c500719-a17b-4a70-a824-641eb330d0e3",
   "metadata": {},
   "outputs": [
    {
     "data": {
      "text/html": [
       "<div>\n",
       "<style scoped>\n",
       "    .dataframe tbody tr th:only-of-type {\n",
       "        vertical-align: middle;\n",
       "    }\n",
       "\n",
       "    .dataframe tbody tr th {\n",
       "        vertical-align: top;\n",
       "    }\n",
       "\n",
       "    .dataframe thead th {\n",
       "        text-align: right;\n",
       "    }\n",
       "</style>\n",
       "<table border=\"1\" class=\"dataframe\">\n",
       "  <thead>\n",
       "    <tr style=\"text-align: right;\">\n",
       "      <th></th>\n",
       "      <th>Description</th>\n",
       "      <th>Assignment group</th>\n",
       "      <th>cleanText</th>\n",
       "      <th>Assignment_group_label</th>\n",
       "      <th>Inbound Message</th>\n",
       "      <th>Label</th>\n",
       "    </tr>\n",
       "  </thead>\n",
       "  <tbody>\n",
       "    <tr>\n",
       "      <th>0</th>\n",
       "      <td>verified user details employee and manager nam...</td>\n",
       "      <td>GRP_0</td>\n",
       "      <td>verified user details employee manager name ch...</td>\n",
       "      <td>0</td>\n",
       "      <td>verified user details employee manager name ch...</td>\n",
       "      <td>0</td>\n",
       "    </tr>\n",
       "    <tr>\n",
       "      <th>1</th>\n",
       "      <td>xd xd xd hello team xd xd my meetings skype me...</td>\n",
       "      <td>GRP_0</td>\n",
       "      <td>hello team meetings skype meetings etc appeari...</td>\n",
       "      <td>0</td>\n",
       "      <td>hello team meetings skype meetings etc appeari...</td>\n",
       "      <td>0</td>\n",
       "    </tr>\n",
       "    <tr>\n",
       "      <th>2</th>\n",
       "      <td>xd xd xd hi xd xd cannot log on to vpn xd xd best</td>\n",
       "      <td>GRP_0</td>\n",
       "      <td>cannot log vpn best</td>\n",
       "      <td>0</td>\n",
       "      <td>cannot log vpn best</td>\n",
       "      <td>0</td>\n",
       "    </tr>\n",
       "    <tr>\n",
       "      <th>3</th>\n",
       "      <td>unable to access hr tool page</td>\n",
       "      <td>GRP_0</td>\n",
       "      <td>unable access tool page</td>\n",
       "      <td>0</td>\n",
       "      <td>unable access tool page</td>\n",
       "      <td>0</td>\n",
       "    </tr>\n",
       "    <tr>\n",
       "      <th>4</th>\n",
       "      <td>skype error</td>\n",
       "      <td>GRP_0</td>\n",
       "      <td>skype error</td>\n",
       "      <td>0</td>\n",
       "      <td>skype error</td>\n",
       "      <td>0</td>\n",
       "    </tr>\n",
       "    <tr>\n",
       "      <th>...</th>\n",
       "      <td>...</td>\n",
       "      <td>...</td>\n",
       "      <td>...</td>\n",
       "      <td>...</td>\n",
       "      <td>...</td>\n",
       "      <td>...</td>\n",
       "    </tr>\n",
       "    <tr>\n",
       "      <th>8375</th>\n",
       "      <td>xd xd xd good afternoon xd am not receiving th...</td>\n",
       "      <td>GRP_29</td>\n",
       "      <td>good afternoon receiving emails sent mail plea...</td>\n",
       "      <td>22</td>\n",
       "      <td>good afternoon receiving emails sent mail plea...</td>\n",
       "      <td>22</td>\n",
       "    </tr>\n",
       "    <tr>\n",
       "      <th>8376</th>\n",
       "      <td>telephony software issue</td>\n",
       "      <td>GRP_0</td>\n",
       "      <td>telephony software issue</td>\n",
       "      <td>0</td>\n",
       "      <td>telephony software issue</td>\n",
       "      <td>0</td>\n",
       "    </tr>\n",
       "    <tr>\n",
       "      <th>8377</th>\n",
       "      <td>vip windows password reset for tifpdchb pedxruyf</td>\n",
       "      <td>GRP_0</td>\n",
       "      <td>vip windows password reset tifpdchb pedxruyf</td>\n",
       "      <td>0</td>\n",
       "      <td>vip windows password reset tifpdchb pedxruyf</td>\n",
       "      <td>0</td>\n",
       "    </tr>\n",
       "    <tr>\n",
       "      <th>8378</th>\n",
       "      <td>i am unable to access the machine utilities to...</td>\n",
       "      <td>GRP_62</td>\n",
       "      <td>unable access machine utilities finish drawers...</td>\n",
       "      <td>44</td>\n",
       "      <td>unable access machine utilities finish drawers...</td>\n",
       "      <td>44</td>\n",
       "    </tr>\n",
       "    <tr>\n",
       "      <th>8379</th>\n",
       "      <td>an mehreren pc lassen sich verschiedene prgram...</td>\n",
       "      <td>misc_grp</td>\n",
       "      <td>mehreren lassen sich verschiedene prgramdntyme...</td>\n",
       "      <td>49</td>\n",
       "      <td>mehreren lassen sich verschiedene prgramdntyme...</td>\n",
       "      <td>49</td>\n",
       "    </tr>\n",
       "  </tbody>\n",
       "</table>\n",
       "<p>8380 rows × 6 columns</p>\n",
       "</div>"
      ],
      "text/plain": [
       "                                            Description Assignment group  \\\n",
       "0     verified user details employee and manager nam...            GRP_0   \n",
       "1     xd xd xd hello team xd xd my meetings skype me...            GRP_0   \n",
       "2     xd xd xd hi xd xd cannot log on to vpn xd xd best            GRP_0   \n",
       "3                         unable to access hr tool page            GRP_0   \n",
       "4                                           skype error            GRP_0   \n",
       "...                                                 ...              ...   \n",
       "8375  xd xd xd good afternoon xd am not receiving th...           GRP_29   \n",
       "8376                           telephony software issue            GRP_0   \n",
       "8377   vip windows password reset for tifpdchb pedxruyf            GRP_0   \n",
       "8378  i am unable to access the machine utilities to...           GRP_62   \n",
       "8379  an mehreren pc lassen sich verschiedene prgram...         misc_grp   \n",
       "\n",
       "                                              cleanText  \\\n",
       "0     verified user details employee manager name ch...   \n",
       "1     hello team meetings skype meetings etc appeari...   \n",
       "2                                   cannot log vpn best   \n",
       "3                               unable access tool page   \n",
       "4                                           skype error   \n",
       "...                                                 ...   \n",
       "8375  good afternoon receiving emails sent mail plea...   \n",
       "8376                           telephony software issue   \n",
       "8377       vip windows password reset tifpdchb pedxruyf   \n",
       "8378  unable access machine utilities finish drawers...   \n",
       "8379  mehreren lassen sich verschiedene prgramdntyme...   \n",
       "\n",
       "      Assignment_group_label  \\\n",
       "0                          0   \n",
       "1                          0   \n",
       "2                          0   \n",
       "3                          0   \n",
       "4                          0   \n",
       "...                      ...   \n",
       "8375                      22   \n",
       "8376                       0   \n",
       "8377                       0   \n",
       "8378                      44   \n",
       "8379                      49   \n",
       "\n",
       "                                        Inbound Message  Label  \n",
       "0     verified user details employee manager name ch...      0  \n",
       "1     hello team meetings skype meetings etc appeari...      0  \n",
       "2                                   cannot log vpn best      0  \n",
       "3                               unable access tool page      0  \n",
       "4                                           skype error      0  \n",
       "...                                                 ...    ...  \n",
       "8375  good afternoon receiving emails sent mail plea...     22  \n",
       "8376                           telephony software issue      0  \n",
       "8377       vip windows password reset tifpdchb pedxruyf      0  \n",
       "8378  unable access machine utilities finish drawers...     44  \n",
       "8379  mehreren lassen sich verschiedene prgramdntyme...     49  \n",
       "\n",
       "[8380 rows x 6 columns]"
      ]
     },
     "execution_count": 26,
     "metadata": {},
     "output_type": "execute_result"
    }
   ],
   "source": [
    "df['Inbound Message'] = df['cleanText']\n",
    "df['Label']= df['Assignment_group_label']\n",
    "df"
   ]
  },
  {
   "cell_type": "code",
   "execution_count": 27,
   "id": "762ed722-597c-45ff-9fa2-1d5abc81e17a",
   "metadata": {},
   "outputs": [
    {
     "data": {
      "text/html": [
       "<div>\n",
       "<style scoped>\n",
       "    .dataframe tbody tr th:only-of-type {\n",
       "        vertical-align: middle;\n",
       "    }\n",
       "\n",
       "    .dataframe tbody tr th {\n",
       "        vertical-align: top;\n",
       "    }\n",
       "\n",
       "    .dataframe thead th {\n",
       "        text-align: right;\n",
       "    }\n",
       "</style>\n",
       "<table border=\"1\" class=\"dataframe\">\n",
       "  <thead>\n",
       "    <tr style=\"text-align: right;\">\n",
       "      <th></th>\n",
       "      <th>Inbound Message</th>\n",
       "      <th>Label</th>\n",
       "    </tr>\n",
       "  </thead>\n",
       "  <tbody>\n",
       "    <tr>\n",
       "      <th>0</th>\n",
       "      <td>verified user details employee manager name ch...</td>\n",
       "      <td>0</td>\n",
       "    </tr>\n",
       "    <tr>\n",
       "      <th>1</th>\n",
       "      <td>hello team meetings skype meetings etc appeari...</td>\n",
       "      <td>0</td>\n",
       "    </tr>\n",
       "    <tr>\n",
       "      <th>2</th>\n",
       "      <td>cannot log vpn best</td>\n",
       "      <td>0</td>\n",
       "    </tr>\n",
       "    <tr>\n",
       "      <th>3</th>\n",
       "      <td>unable access tool page</td>\n",
       "      <td>0</td>\n",
       "    </tr>\n",
       "    <tr>\n",
       "      <th>4</th>\n",
       "      <td>skype error</td>\n",
       "      <td>0</td>\n",
       "    </tr>\n",
       "    <tr>\n",
       "      <th>...</th>\n",
       "      <td>...</td>\n",
       "      <td>...</td>\n",
       "    </tr>\n",
       "    <tr>\n",
       "      <th>8375</th>\n",
       "      <td>good afternoon receiving emails sent mail plea...</td>\n",
       "      <td>22</td>\n",
       "    </tr>\n",
       "    <tr>\n",
       "      <th>8376</th>\n",
       "      <td>telephony software issue</td>\n",
       "      <td>0</td>\n",
       "    </tr>\n",
       "    <tr>\n",
       "      <th>8377</th>\n",
       "      <td>vip windows password reset tifpdchb pedxruyf</td>\n",
       "      <td>0</td>\n",
       "    </tr>\n",
       "    <tr>\n",
       "      <th>8378</th>\n",
       "      <td>unable access machine utilities finish drawers...</td>\n",
       "      <td>44</td>\n",
       "    </tr>\n",
       "    <tr>\n",
       "      <th>8379</th>\n",
       "      <td>mehreren lassen sich verschiedene prgramdntyme...</td>\n",
       "      <td>49</td>\n",
       "    </tr>\n",
       "  </tbody>\n",
       "</table>\n",
       "<p>8380 rows × 2 columns</p>\n",
       "</div>"
      ],
      "text/plain": [
       "                                        Inbound Message  Label\n",
       "0     verified user details employee manager name ch...      0\n",
       "1     hello team meetings skype meetings etc appeari...      0\n",
       "2                                   cannot log vpn best      0\n",
       "3                               unable access tool page      0\n",
       "4                                           skype error      0\n",
       "...                                                 ...    ...\n",
       "8375  good afternoon receiving emails sent mail plea...     22\n",
       "8376                           telephony software issue      0\n",
       "8377       vip windows password reset tifpdchb pedxruyf      0\n",
       "8378  unable access machine utilities finish drawers...     44\n",
       "8379  mehreren lassen sich verschiedene prgramdntyme...     49\n",
       "\n",
       "[8380 rows x 2 columns]"
      ]
     },
     "execution_count": 27,
     "metadata": {},
     "output_type": "execute_result"
    }
   ],
   "source": [
    "df.drop([\"Description\",'Assignment group','cleanText', 'Assignment_group_label'],axis=1,inplace= True)\n",
    "df"
   ]
  },
  {
   "cell_type": "code",
   "execution_count": 28,
   "id": "89435e72-a09a-47cd-a855-88b012e1cd0c",
   "metadata": {},
   "outputs": [],
   "source": [
    "df.to_csv('../data/open_source_8380.csv', index=False)"
   ]
  },
  {
   "cell_type": "code",
   "execution_count": null,
   "id": "396da310-adc8-427f-85d8-e07f5fcaac02",
   "metadata": {},
   "outputs": [],
   "source": []
  },
  {
   "cell_type": "markdown",
   "id": "429424c4-e65a-4b9b-bc70-dd4c924bab1b",
   "metadata": {},
   "source": [
    "# GPT produce BERT"
   ]
  },
  {
   "cell_type": "code",
   "execution_count": 2,
   "id": "2e76aa66-729a-4bf9-98b9-61d8114e9f3a",
   "metadata": {},
   "outputs": [
    {
     "data": {
      "text/html": [
       "<div>\n",
       "<style scoped>\n",
       "    .dataframe tbody tr th:only-of-type {\n",
       "        vertical-align: middle;\n",
       "    }\n",
       "\n",
       "    .dataframe tbody tr th {\n",
       "        vertical-align: top;\n",
       "    }\n",
       "\n",
       "    .dataframe thead th {\n",
       "        text-align: right;\n",
       "    }\n",
       "</style>\n",
       "<table border=\"1\" class=\"dataframe\">\n",
       "  <thead>\n",
       "    <tr style=\"text-align: right;\">\n",
       "      <th></th>\n",
       "      <th>Inbound Message</th>\n",
       "      <th>Label</th>\n",
       "    </tr>\n",
       "  </thead>\n",
       "  <tbody>\n",
       "    <tr>\n",
       "      <th>0</th>\n",
       "      <td>verified user details employee manager name ch...</td>\n",
       "      <td>0</td>\n",
       "    </tr>\n",
       "    <tr>\n",
       "      <th>1</th>\n",
       "      <td>hello team meetings skype meetings etc appeari...</td>\n",
       "      <td>0</td>\n",
       "    </tr>\n",
       "    <tr>\n",
       "      <th>2</th>\n",
       "      <td>cannot log vpn best</td>\n",
       "      <td>0</td>\n",
       "    </tr>\n",
       "    <tr>\n",
       "      <th>3</th>\n",
       "      <td>unable access tool page</td>\n",
       "      <td>0</td>\n",
       "    </tr>\n",
       "    <tr>\n",
       "      <th>4</th>\n",
       "      <td>skype error</td>\n",
       "      <td>0</td>\n",
       "    </tr>\n",
       "    <tr>\n",
       "      <th>...</th>\n",
       "      <td>...</td>\n",
       "      <td>...</td>\n",
       "    </tr>\n",
       "    <tr>\n",
       "      <th>8375</th>\n",
       "      <td>good afternoon receiving emails sent mail plea...</td>\n",
       "      <td>22</td>\n",
       "    </tr>\n",
       "    <tr>\n",
       "      <th>8376</th>\n",
       "      <td>telephony software issue</td>\n",
       "      <td>0</td>\n",
       "    </tr>\n",
       "    <tr>\n",
       "      <th>8377</th>\n",
       "      <td>vip windows password reset tifpdchb pedxruyf</td>\n",
       "      <td>0</td>\n",
       "    </tr>\n",
       "    <tr>\n",
       "      <th>8378</th>\n",
       "      <td>unable access machine utilities finish drawers...</td>\n",
       "      <td>44</td>\n",
       "    </tr>\n",
       "    <tr>\n",
       "      <th>8379</th>\n",
       "      <td>mehreren lassen sich verschiedene prgramdntyme...</td>\n",
       "      <td>49</td>\n",
       "    </tr>\n",
       "  </tbody>\n",
       "</table>\n",
       "<p>8380 rows × 2 columns</p>\n",
       "</div>"
      ],
      "text/plain": [
       "                                        Inbound Message  Label\n",
       "0     verified user details employee manager name ch...      0\n",
       "1     hello team meetings skype meetings etc appeari...      0\n",
       "2                                   cannot log vpn best      0\n",
       "3                               unable access tool page      0\n",
       "4                                           skype error      0\n",
       "...                                                 ...    ...\n",
       "8375  good afternoon receiving emails sent mail plea...     22\n",
       "8376                           telephony software issue      0\n",
       "8377       vip windows password reset tifpdchb pedxruyf      0\n",
       "8378  unable access machine utilities finish drawers...     44\n",
       "8379  mehreren lassen sich verschiedene prgramdntyme...     49\n",
       "\n",
       "[8380 rows x 2 columns]"
      ]
     },
     "execution_count": 2,
     "metadata": {},
     "output_type": "execute_result"
    }
   ],
   "source": [
    "import pandas as pd\n",
    "data_path = \"../data/open_source_8380.csv\"  # 替換為你的檔案路徑\n",
    "df = pd.read_csv(data_path)\n",
    "df"
   ]
  },
  {
   "cell_type": "code",
   "execution_count": 4,
   "id": "86fd8a49-37d5-42c4-94aa-802203f77912",
   "metadata": {},
   "outputs": [],
   "source": [
    "from transformers import BertTokenizer\n",
    "import torch\n",
    "from torch.utils.data import Dataset, DataLoader\n",
    "from sklearn.model_selection import train_test_split\n",
    "\n",
    "# 初始化 BERT 的 tokenizer\n",
    "tokenizer = BertTokenizer.from_pretrained('bert-base-uncased')\n",
    "\n",
    "class CustomDataset(Dataset):\n",
    "    def __init__(self, messages, labels, tokenizer, max_length):\n",
    "        self.messages = messages\n",
    "        self.labels = labels\n",
    "        self.tokenizer = tokenizer\n",
    "        self.max_length = max_length\n",
    "\n",
    "    def __len__(self):\n",
    "        return len(self.messages)\n",
    "\n",
    "    def __getitem__(self, idx):\n",
    "        message = str(self.messages[idx])\n",
    "        label = self.labels[idx]\n",
    "        \n",
    "        encoding = self.tokenizer.encode_plus(\n",
    "            message,\n",
    "            max_length=self.max_length,\n",
    "            add_special_tokens=True,\n",
    "            padding='max_length',\n",
    "            truncation=True,\n",
    "            return_attention_mask=True,\n",
    "            return_tensors='pt'\n",
    "        )\n",
    "        \n",
    "        return {\n",
    "            'input_ids': encoding['input_ids'].flatten(),\n",
    "            'attention_mask': encoding['attention_mask'].flatten(),\n",
    "            'labels': torch.tensor(label, dtype=torch.long)\n",
    "        }\n",
    "\n",
    "# 定義數據集\n",
    "MAX_LENGTH = 128\n",
    "\n",
    "df_train,df_val=train_test_split(df,test_size=0.2 ,random_state=123)  # 80% train & 10 % validation & 10% test set\n",
    "df_val,df_test=train_test_split(df_val,test_size=0.5 ,random_state=123)\n",
    "\n",
    "train_dataset = CustomDataset(\n",
    "    messages=df['Inbound Message'].tolist(),\n",
    "    labels=df['Label'].tolist(),\n",
    "    tokenizer=tokenizer,\n",
    "    max_length=MAX_LENGTH\n",
    ")\n",
    "\n",
    "val_dataset = CustomDataset(\n",
    "    messages=df['Inbound Message'].tolist(),\n",
    "    labels=df['Label'].tolist(),\n",
    "    tokenizer=tokenizer,\n",
    "    max_length=MAX_LENGTH\n",
    ")\n",
    "\n",
    "test_dataset = CustomDataset(\n",
    "    messages=df_test['Inbound Message'].tolist(),\n",
    "    labels=df_test['Label'].tolist(),\n",
    "    tokenizer=tokenizer,\n",
    "    max_length=MAX_LENGTH\n",
    ")\n",
    "\n",
    "# 創建 DataLoader\n",
    "BATCH_SIZE = 16\n",
    "train_dataloader = DataLoader(train_dataset, batch_size=BATCH_SIZE, shuffle=True)\n",
    "val_dataloader = DataLoader(val_dataset, batch_size=BATCH_SIZE)\n",
    "test_dataloader = DataLoader(test_dataset, batch_size=BATCH_SIZE)"
   ]
  },
  {
   "cell_type": "code",
   "execution_count": 5,
   "id": "5597872a-4893-47b8-9491-3a4b54eacc4b",
   "metadata": {},
   "outputs": [
    {
     "name": "stderr",
     "output_type": "stream",
     "text": [
      "Some weights of BertForSequenceClassification were not initialized from the model checkpoint at bert-base-uncased and are newly initialized: ['classifier.bias', 'classifier.weight']\n",
      "You should probably TRAIN this model on a down-stream task to be able to use it for predictions and inference.\n"
     ]
    }
   ],
   "source": [
    "from transformers import BertForSequenceClassification\n",
    "\n",
    "# 初始化 BERT 模型\n",
    "NUM_LABELS = len(df_train['Label'].unique())  # 獲取標籤數量\n",
    "model = BertForSequenceClassification.from_pretrained('bert-base-uncased', num_labels=NUM_LABELS)"
   ]
  },
  {
   "cell_type": "code",
   "execution_count": 6,
   "id": "ccd7bebc-ff6e-44ce-91e2-e1d9a961b0cc",
   "metadata": {},
   "outputs": [],
   "source": [
    "from transformers import AdamW\n",
    "from torch.nn import CrossEntropyLoss\n",
    "from torch.optim import AdamW\n",
    "\n",
    "optimizer = AdamW(model.parameters(), lr=5e-5)\n",
    "criterion = CrossEntropyLoss()"
   ]
  },
  {
   "cell_type": "code",
   "execution_count": 7,
   "id": "5476d09a-b910-42a4-8ddd-060ba72ef0a2",
   "metadata": {},
   "outputs": [
    {
     "name": "stdout",
     "output_type": "stream",
     "text": [
      "Epoch 1/3\n"
     ]
    },
    {
     "name": "stderr",
     "output_type": "stream",
     "text": [
      "100%|██████████| 524/524 [03:38<00:00,  2.40it/s]\n"
     ]
    },
    {
     "name": "stdout",
     "output_type": "stream",
     "text": [
      "Train loss: 1.90512641786619 | Val loss: 1.5043862670205022 | Val accuracy: 0.6164677804295943\n",
      "Epoch 2/3\n"
     ]
    },
    {
     "name": "stderr",
     "output_type": "stream",
     "text": [
      "100%|██████████| 524/524 [03:39<00:00,  2.39it/s]\n"
     ]
    },
    {
     "name": "stdout",
     "output_type": "stream",
     "text": [
      "Train loss: 1.4415644463578254 | Val loss: 1.1149500347958266 | Val accuracy: 0.7025059665871122\n",
      "Epoch 3/3\n"
     ]
    },
    {
     "name": "stderr",
     "output_type": "stream",
     "text": [
      "100%|██████████| 524/524 [03:39<00:00,  2.38it/s]\n"
     ]
    },
    {
     "name": "stdout",
     "output_type": "stream",
     "text": [
      "Train loss: 1.133511457506937 | Val loss: 0.8425685306797728 | Val accuracy: 0.7720763723150358\n"
     ]
    }
   ],
   "source": [
    "from tqdm import tqdm\n",
    "import torch.nn.functional as F\n",
    "\n",
    "device = torch.device('cuda') if torch.cuda.is_available() else torch.device('cpu')\n",
    "model.to(device)\n",
    "\n",
    "EPOCHS = 3\n",
    "\n",
    "def train_epoch(model, dataloader, optimizer, criterion):\n",
    "    model.train()\n",
    "    total_loss = 0\n",
    "\n",
    "    for batch in tqdm(dataloader):\n",
    "        optimizer.zero_grad()\n",
    "\n",
    "        input_ids = batch['input_ids'].to(device)\n",
    "        attention_mask = batch['attention_mask'].to(device)\n",
    "        labels = batch['labels'].to(device)\n",
    "\n",
    "        outputs = model(input_ids=input_ids, attention_mask=attention_mask, labels=labels)\n",
    "        loss = outputs.loss\n",
    "        total_loss += loss.item()\n",
    "\n",
    "        loss.backward()\n",
    "        optimizer.step()\n",
    "    \n",
    "    return total_loss / len(dataloader)\n",
    "\n",
    "def eval_model(model, dataloader, criterion):\n",
    "    model.eval()\n",
    "    total_loss = 0\n",
    "    correct_predictions = 0\n",
    "\n",
    "    with torch.no_grad():\n",
    "        for batch in dataloader:\n",
    "            input_ids = batch['input_ids'].to(device)\n",
    "            attention_mask = batch['attention_mask'].to(device)\n",
    "            labels = batch['labels'].to(device)\n",
    "\n",
    "            outputs = model(input_ids=input_ids, attention_mask=attention_mask)\n",
    "            logits = outputs.logits\n",
    "            loss = criterion(logits, labels)\n",
    "            total_loss += loss.item()\n",
    "\n",
    "            _, preds = torch.max(logits, dim=1)\n",
    "            correct_predictions += torch.sum(preds == labels)\n",
    "    \n",
    "    accuracy = correct_predictions.double() / len(dataloader.dataset)\n",
    "    return total_loss / len(dataloader), accuracy\n",
    "\n",
    "# 開始訓練\n",
    "for epoch in range(EPOCHS):\n",
    "    print(f\"Epoch {epoch + 1}/{EPOCHS}\")\n",
    "    train_loss = train_epoch(model, train_dataloader, optimizer, criterion)\n",
    "    val_loss, val_accuracy = eval_model(model, val_dataloader, criterion)\n",
    "    print(f\"Train loss: {train_loss} | Val loss: {val_loss} | Val accuracy: {val_accuracy}\")"
   ]
  },
  {
   "cell_type": "code",
   "execution_count": 8,
   "id": "8340b79f-6922-418d-8b98-c8062b3572b9",
   "metadata": {},
   "outputs": [
    {
     "name": "stdout",
     "output_type": "stream",
     "text": [
      "Test loss: 0.8787268835980937 | Test accuracy: 0.7589498806682577\n"
     ]
    }
   ],
   "source": [
    "test_loss, test_accuracy = eval_model(model, test_dataloader, criterion)\n",
    "print(f\"Test loss: {test_loss} | Test accuracy: {test_accuracy}\")"
   ]
  },
  {
   "cell_type": "code",
   "execution_count": null,
   "id": "3475749f-7d0e-4bad-93d5-34b6fd048d9f",
   "metadata": {},
   "outputs": [],
   "source": []
  },
  {
   "cell_type": "markdown",
   "id": "e79be804-d1e3-463a-824f-d4765544e493",
   "metadata": {},
   "source": [
    "# 十折驗證法"
   ]
  },
  {
   "cell_type": "code",
   "execution_count": 10,
   "id": "ee99c1b8-2fc7-483a-8cb6-d375039c6cb1",
   "metadata": {},
   "outputs": [
    {
     "name": "stdout",
     "output_type": "stream",
     "text": [
      "Fold 1\n"
     ]
    },
    {
     "name": "stderr",
     "output_type": "stream",
     "text": [
      "Some weights of BertForSequenceClassification were not initialized from the model checkpoint at bert-base-uncased and are newly initialized: ['classifier.bias', 'classifier.weight']\n",
      "You should probably TRAIN this model on a down-stream task to be able to use it for predictions and inference.\n",
      "C:\\Users\\User\\AppData\\Roaming\\Python\\Python311\\site-packages\\transformers\\optimization.py:521: FutureWarning: This implementation of AdamW is deprecated and will be removed in a future version. Use the PyTorch implementation torch.optim.AdamW instead, or set `no_deprecation_warning=True` to disable this warning\n",
      "  warnings.warn(\n"
     ]
    },
    {
     "name": "stdout",
     "output_type": "stream",
     "text": [
      "Epoch 1/3\n"
     ]
    },
    {
     "name": "stderr",
     "output_type": "stream",
     "text": [
      "100%|██████████| 472/472 [03:15<00:00,  2.41it/s]\n"
     ]
    },
    {
     "name": "stdout",
     "output_type": "stream",
     "text": [
      "Train loss: 1.992725637757172 | Val loss: 1.6747227603534482 | Val accuracy: 0.5835322195704058\n",
      "Epoch 2/3\n"
     ]
    },
    {
     "name": "stderr",
     "output_type": "stream",
     "text": [
      "100%|██████████| 472/472 [03:17<00:00,  2.40it/s]\n"
     ]
    },
    {
     "name": "stdout",
     "output_type": "stream",
     "text": [
      "Train loss: 1.5212291335150347 | Val loss: 1.5124639143358987 | Val accuracy: 0.613365155131265\n",
      "Epoch 3/3\n"
     ]
    },
    {
     "name": "stderr",
     "output_type": "stream",
     "text": [
      "100%|██████████| 472/472 [03:16<00:00,  2.40it/s]\n",
      "Some weights of BertForSequenceClassification were not initialized from the model checkpoint at bert-base-uncased and are newly initialized: ['classifier.bias', 'classifier.weight']\n",
      "You should probably TRAIN this model on a down-stream task to be able to use it for predictions and inference.\n"
     ]
    },
    {
     "name": "stdout",
     "output_type": "stream",
     "text": [
      "Train loss: 1.192735626599041 | Val loss: 1.420611911224869 | Val accuracy: 0.6324582338902148\n",
      "Fold 2\n",
      "Epoch 1/3\n"
     ]
    },
    {
     "name": "stderr",
     "output_type": "stream",
     "text": [
      "100%|██████████| 472/472 [03:16<00:00,  2.40it/s]\n"
     ]
    },
    {
     "name": "stdout",
     "output_type": "stream",
     "text": [
      "Train loss: 1.9729149082707147 | Val loss: 1.6836110949516296 | Val accuracy: 0.5835322195704058\n",
      "Epoch 2/3\n"
     ]
    },
    {
     "name": "stderr",
     "output_type": "stream",
     "text": [
      "100%|██████████| 472/472 [03:16<00:00,  2.40it/s]\n"
     ]
    },
    {
     "name": "stdout",
     "output_type": "stream",
     "text": [
      "Train loss: 1.4916920065248416 | Val loss: 1.6121774653218828 | Val accuracy: 0.613365155131265\n",
      "Epoch 3/3\n"
     ]
    },
    {
     "name": "stderr",
     "output_type": "stream",
     "text": [
      "100%|██████████| 472/472 [03:16<00:00,  2.40it/s]\n",
      "Some weights of BertForSequenceClassification were not initialized from the model checkpoint at bert-base-uncased and are newly initialized: ['classifier.bias', 'classifier.weight']\n",
      "You should probably TRAIN this model on a down-stream task to be able to use it for predictions and inference.\n"
     ]
    },
    {
     "name": "stdout",
     "output_type": "stream",
     "text": [
      "Train loss: 1.1889182221838983 | Val loss: 1.4511211019641947 | Val accuracy: 0.626491646778043\n",
      "Fold 3\n",
      "Epoch 1/3\n"
     ]
    },
    {
     "name": "stderr",
     "output_type": "stream",
     "text": [
      "100%|██████████| 472/472 [03:17<00:00,  2.39it/s]\n"
     ]
    },
    {
     "name": "stdout",
     "output_type": "stream",
     "text": [
      "Train loss: 1.946404244371895 | Val loss: 1.7502258577436771 | Val accuracy: 0.5859188544152745\n",
      "Epoch 2/3\n"
     ]
    },
    {
     "name": "stderr",
     "output_type": "stream",
     "text": [
      "100%|██████████| 472/472 [03:17<00:00,  2.39it/s]\n"
     ]
    },
    {
     "name": "stdout",
     "output_type": "stream",
     "text": [
      "Train loss: 1.458589092907259 | Val loss: 1.505126194009241 | Val accuracy: 0.6288782816229117\n",
      "Epoch 3/3\n"
     ]
    },
    {
     "name": "stderr",
     "output_type": "stream",
     "text": [
      "100%|██████████| 472/472 [03:17<00:00,  2.39it/s]\n",
      "Some weights of BertForSequenceClassification were not initialized from the model checkpoint at bert-base-uncased and are newly initialized: ['classifier.bias', 'classifier.weight']\n",
      "You should probably TRAIN this model on a down-stream task to be able to use it for predictions and inference.\n"
     ]
    },
    {
     "name": "stdout",
     "output_type": "stream",
     "text": [
      "Train loss: 1.143184645953825 | Val loss: 1.4728067725334528 | Val accuracy: 0.6312649164677805\n",
      "Fold 4\n",
      "Epoch 1/3\n"
     ]
    },
    {
     "name": "stderr",
     "output_type": "stream",
     "text": [
      "100%|██████████| 472/472 [03:17<00:00,  2.39it/s]\n"
     ]
    },
    {
     "name": "stdout",
     "output_type": "stream",
     "text": [
      "Train loss: 1.999704865202055 | Val loss: 1.6511929642479375 | Val accuracy: 0.5918854415274464\n",
      "Epoch 2/3\n"
     ]
    },
    {
     "name": "stderr",
     "output_type": "stream",
     "text": [
      "100%|██████████| 472/472 [03:17<00:00,  2.39it/s]\n"
     ]
    },
    {
     "name": "stdout",
     "output_type": "stream",
     "text": [
      "Train loss: 1.5059890849357944 | Val loss: 1.4862172153760802 | Val accuracy: 0.5871121718377088\n",
      "Epoch 3/3\n"
     ]
    },
    {
     "name": "stderr",
     "output_type": "stream",
     "text": [
      "100%|██████████| 472/472 [03:17<00:00,  2.39it/s]\n",
      "Some weights of BertForSequenceClassification were not initialized from the model checkpoint at bert-base-uncased and are newly initialized: ['classifier.bias', 'classifier.weight']\n",
      "You should probably TRAIN this model on a down-stream task to be able to use it for predictions and inference.\n"
     ]
    },
    {
     "name": "stdout",
     "output_type": "stream",
     "text": [
      "Train loss: 1.1862988096298808 | Val loss: 1.3534262765128657 | Val accuracy: 0.6372315035799523\n",
      "Fold 5\n",
      "Epoch 1/3\n"
     ]
    },
    {
     "name": "stderr",
     "output_type": "stream",
     "text": [
      "100%|██████████| 472/472 [03:17<00:00,  2.39it/s]\n"
     ]
    },
    {
     "name": "stdout",
     "output_type": "stream",
     "text": [
      "Train loss: 2.0050244990546826 | Val loss: 1.725509579451579 | Val accuracy: 0.5763723150357996\n",
      "Epoch 2/3\n"
     ]
    },
    {
     "name": "stderr",
     "output_type": "stream",
     "text": [
      "100%|██████████| 472/472 [03:17<00:00,  2.39it/s]\n"
     ]
    },
    {
     "name": "stdout",
     "output_type": "stream",
     "text": [
      "Train loss: 1.5365450998484078 | Val loss: 1.5608780316586763 | Val accuracy: 0.5727923627684964\n",
      "Epoch 3/3\n"
     ]
    },
    {
     "name": "stderr",
     "output_type": "stream",
     "text": [
      "100%|██████████| 472/472 [03:17<00:00,  2.39it/s]\n",
      "Some weights of BertForSequenceClassification were not initialized from the model checkpoint at bert-base-uncased and are newly initialized: ['classifier.bias', 'classifier.weight']\n",
      "You should probably TRAIN this model on a down-stream task to be able to use it for predictions and inference.\n"
     ]
    },
    {
     "name": "stdout",
     "output_type": "stream",
     "text": [
      "Train loss: 1.2313810868536013 | Val loss: 1.429427184586255 | Val accuracy: 0.6348448687350836\n",
      "Fold 6\n",
      "Epoch 1/3\n"
     ]
    },
    {
     "name": "stderr",
     "output_type": "stream",
     "text": [
      "100%|██████████| 472/472 [03:17<00:00,  2.39it/s]\n"
     ]
    },
    {
     "name": "stdout",
     "output_type": "stream",
     "text": [
      "Train loss: 1.9565673154794563 | Val loss: 1.719198688021246 | Val accuracy: 0.5739856801909308\n",
      "Epoch 2/3\n"
     ]
    },
    {
     "name": "stderr",
     "output_type": "stream",
     "text": [
      "100%|██████████| 472/472 [03:17<00:00,  2.39it/s]\n"
     ]
    },
    {
     "name": "stdout",
     "output_type": "stream",
     "text": [
      "Train loss: 1.4681779141143216 | Val loss: 1.569662921833542 | Val accuracy: 0.5894988066825776\n",
      "Epoch 3/3\n"
     ]
    },
    {
     "name": "stderr",
     "output_type": "stream",
     "text": [
      "100%|██████████| 472/472 [03:17<00:00,  2.39it/s]\n",
      "Some weights of BertForSequenceClassification were not initialized from the model checkpoint at bert-base-uncased and are newly initialized: ['classifier.bias', 'classifier.weight']\n",
      "You should probably TRAIN this model on a down-stream task to be able to use it for predictions and inference.\n"
     ]
    },
    {
     "name": "stdout",
     "output_type": "stream",
     "text": [
      "Train loss: 1.1509777867882434 | Val loss: 1.5146612963586483 | Val accuracy: 0.5883054892601433\n",
      "Fold 7\n",
      "Epoch 1/3\n"
     ]
    },
    {
     "name": "stderr",
     "output_type": "stream",
     "text": [
      "100%|██████████| 472/472 [03:17<00:00,  2.39it/s]\n"
     ]
    },
    {
     "name": "stdout",
     "output_type": "stream",
     "text": [
      "Train loss: 1.9874554431792033 | Val loss: 1.5726104075053953 | Val accuracy: 0.6276849642004774\n",
      "Epoch 2/3\n"
     ]
    },
    {
     "name": "stderr",
     "output_type": "stream",
     "text": [
      "100%|██████████| 472/472 [03:17<00:00,  2.39it/s]\n"
     ]
    },
    {
     "name": "stdout",
     "output_type": "stream",
     "text": [
      "Train loss: 1.4511174379642737 | Val loss: 1.355265661230627 | Val accuracy: 0.6503579952267303\n",
      "Epoch 3/3\n"
     ]
    },
    {
     "name": "stderr",
     "output_type": "stream",
     "text": [
      "100%|██████████| 472/472 [03:17<00:00,  2.39it/s]\n",
      "Some weights of BertForSequenceClassification were not initialized from the model checkpoint at bert-base-uncased and are newly initialized: ['classifier.bias', 'classifier.weight']\n",
      "You should probably TRAIN this model on a down-stream task to be able to use it for predictions and inference.\n"
     ]
    },
    {
     "name": "stdout",
     "output_type": "stream",
     "text": [
      "Train loss: 1.1366451524071775 | Val loss: 1.3116604022259981 | Val accuracy: 0.6634844868735084\n",
      "Fold 8\n",
      "Epoch 1/3\n"
     ]
    },
    {
     "name": "stderr",
     "output_type": "stream",
     "text": [
      "100%|██████████| 472/472 [03:17<00:00,  2.39it/s]\n"
     ]
    },
    {
     "name": "stdout",
     "output_type": "stream",
     "text": [
      "Train loss: 1.9505553049808841 | Val loss: 1.6208143813430138 | Val accuracy: 0.6097852028639619\n",
      "Epoch 2/3\n"
     ]
    },
    {
     "name": "stderr",
     "output_type": "stream",
     "text": [
      "100%|██████████| 472/472 [03:17<00:00,  2.39it/s]\n"
     ]
    },
    {
     "name": "stdout",
     "output_type": "stream",
     "text": [
      "Train loss: 1.4628018450812768 | Val loss: 1.4890811831321356 | Val accuracy: 0.6181384248210025\n",
      "Epoch 3/3\n"
     ]
    },
    {
     "name": "stderr",
     "output_type": "stream",
     "text": [
      "100%|██████████| 472/472 [03:17<00:00,  2.40it/s]\n",
      "Some weights of BertForSequenceClassification were not initialized from the model checkpoint at bert-base-uncased and are newly initialized: ['classifier.bias', 'classifier.weight']\n",
      "You should probably TRAIN this model on a down-stream task to be able to use it for predictions and inference.\n"
     ]
    },
    {
     "name": "stdout",
     "output_type": "stream",
     "text": [
      "Train loss: 1.1567278732308897 | Val loss: 1.483181189253645 | Val accuracy: 0.6420047732696897\n",
      "Fold 9\n",
      "Epoch 1/3\n"
     ]
    },
    {
     "name": "stderr",
     "output_type": "stream",
     "text": [
      "100%|██████████| 472/472 [03:17<00:00,  2.39it/s]\n"
     ]
    },
    {
     "name": "stdout",
     "output_type": "stream",
     "text": [
      "Train loss: 1.957722787003396 | Val loss: 1.6613656327409565 | Val accuracy: 0.5692124105011933\n",
      "Epoch 2/3\n"
     ]
    },
    {
     "name": "stderr",
     "output_type": "stream",
     "text": [
      "100%|██████████| 472/472 [03:17<00:00,  2.39it/s]\n"
     ]
    },
    {
     "name": "stdout",
     "output_type": "stream",
     "text": [
      "Train loss: 1.4593019546088526 | Val loss: 1.4727312101508088 | Val accuracy: 0.5966587112171838\n",
      "Epoch 3/3\n"
     ]
    },
    {
     "name": "stderr",
     "output_type": "stream",
     "text": [
      "100%|██████████| 472/472 [03:17<00:00,  2.39it/s]\n"
     ]
    },
    {
     "name": "stdout",
     "output_type": "stream",
     "text": [
      "Train loss: 1.1504623939172696 | Val loss: 1.360319606538089 | Val accuracy: 0.6515513126491647\n",
      "Fold 10\n"
     ]
    },
    {
     "name": "stderr",
     "output_type": "stream",
     "text": [
      "Some weights of BertForSequenceClassification were not initialized from the model checkpoint at bert-base-uncased and are newly initialized: ['classifier.bias', 'classifier.weight']\n",
      "You should probably TRAIN this model on a down-stream task to be able to use it for predictions and inference.\n"
     ]
    },
    {
     "name": "stdout",
     "output_type": "stream",
     "text": [
      "Epoch 1/3\n"
     ]
    },
    {
     "name": "stderr",
     "output_type": "stream",
     "text": [
      "100%|██████████| 472/472 [03:17<00:00,  2.39it/s]\n"
     ]
    },
    {
     "name": "stdout",
     "output_type": "stream",
     "text": [
      "Train loss: 1.948522919946808 | Val loss: 1.599054679555713 | Val accuracy: 0.6241050119331742\n",
      "Epoch 2/3\n"
     ]
    },
    {
     "name": "stderr",
     "output_type": "stream",
     "text": [
      "100%|██████████| 472/472 [03:17<00:00,  2.39it/s]\n"
     ]
    },
    {
     "name": "stdout",
     "output_type": "stream",
     "text": [
      "Train loss: 1.459844758955099 | Val loss: 1.4234995695779908 | Val accuracy: 0.6455847255369929\n",
      "Epoch 3/3\n"
     ]
    },
    {
     "name": "stderr",
     "output_type": "stream",
     "text": [
      "100%|██████████| 472/472 [03:17<00:00,  2.39it/s]\n"
     ]
    },
    {
     "name": "stdout",
     "output_type": "stream",
     "text": [
      "Train loss: 1.152471930356854 | Val loss: 1.3933632469402168 | Val accuracy: 0.6527446300715991\n",
      "10-fold Cross-Validation Results:\n",
      "Average Validation Loss: 1.4190578988138234\n",
      "Average Validation Accuracy: 0.636038186157518\n"
     ]
    }
   ],
   "source": [
    "from sklearn.model_selection import KFold\n",
    "import pandas as pd\n",
    "from transformers import BertTokenizer, BertForSequenceClassification\n",
    "from torch.utils.data import Dataset, DataLoader\n",
    "import torch\n",
    "from torch.nn import CrossEntropyLoss\n",
    "from transformers import AdamW\n",
    "from tqdm import tqdm\n",
    "import numpy as np\n",
    "\n",
    "# 初始化 BERT 的 tokenizer\n",
    "tokenizer = BertTokenizer.from_pretrained('bert-base-uncased')\n",
    "\n",
    "class CustomDataset(Dataset):\n",
    "    def __init__(self, messages, labels, tokenizer, max_length):\n",
    "        self.messages = messages\n",
    "        self.labels = labels\n",
    "        self.tokenizer = tokenizer\n",
    "        self.max_length = max_length\n",
    "\n",
    "    def __len__(self):\n",
    "        return len(self.messages)\n",
    "\n",
    "    def __getitem__(self, idx):\n",
    "        message = str(self.messages[idx])\n",
    "        label = self.labels[idx]\n",
    "        \n",
    "        encoding = self.tokenizer.encode_plus(\n",
    "            message,\n",
    "            max_length=self.max_length,\n",
    "            add_special_tokens=True,\n",
    "            padding='max_length',\n",
    "            truncation=True,\n",
    "            return_attention_mask=True,\n",
    "            return_tensors='pt'\n",
    "        )\n",
    "        \n",
    "        return {\n",
    "            'input_ids': encoding['input_ids'].flatten(),\n",
    "            'attention_mask': encoding['attention_mask'].flatten(),\n",
    "            'labels': torch.tensor(label, dtype=torch.long)\n",
    "        }\n",
    "\n",
    "# 設定參數\n",
    "MAX_LENGTH = 128\n",
    "BATCH_SIZE = 16\n",
    "EPOCHS = 3\n",
    "\n",
    "device = torch.device('cuda') if torch.cuda.is_available() else torch.device('cpu')\n",
    "\n",
    "# 初始化數據\n",
    "data_path = \"../data/open_source_8380.csv\"  # 替換為你的檔案路徑\n",
    "df = pd.read_csv(data_path)\n",
    "messages = df['Inbound Message'].tolist()\n",
    "labels = df['Label'].tolist()\n",
    "\n",
    "# KFold 初始化\n",
    "kf = KFold(n_splits=10, shuffle=True, random_state=42)\n",
    "\n",
    "# 定義訓練與評估函數\n",
    "def train_epoch(model, dataloader, optimizer, criterion):\n",
    "    model.train()\n",
    "    total_loss = 0\n",
    "\n",
    "    for batch in tqdm(dataloader):\n",
    "        optimizer.zero_grad()\n",
    "\n",
    "        input_ids = batch['input_ids'].to(device)\n",
    "        attention_mask = batch['attention_mask'].to(device)\n",
    "        labels = batch['labels'].to(device)\n",
    "\n",
    "        outputs = model(input_ids=input_ids, attention_mask=attention_mask, labels=labels)\n",
    "        loss = outputs.loss\n",
    "        total_loss += loss.item()\n",
    "\n",
    "        loss.backward()\n",
    "        optimizer.step()\n",
    "    \n",
    "    return total_loss / len(dataloader)\n",
    "\n",
    "def eval_model(model, dataloader, criterion):\n",
    "    model.eval()\n",
    "    total_loss = 0\n",
    "    correct_predictions = 0\n",
    "\n",
    "    with torch.no_grad():\n",
    "        for batch in dataloader:\n",
    "            input_ids = batch['input_ids'].to(device)\n",
    "            attention_mask = batch['attention_mask'].to(device)\n",
    "            labels = batch['labels'].to(device)\n",
    "\n",
    "            outputs = model(input_ids=input_ids, attention_mask=attention_mask)\n",
    "            logits = outputs.logits\n",
    "            loss = criterion(logits, labels)\n",
    "            total_loss += loss.item()\n",
    "\n",
    "            _, preds = torch.max(logits, dim=1)\n",
    "            correct_predictions += torch.sum(preds == labels)\n",
    "    \n",
    "    accuracy = correct_predictions.double() / len(dataloader.dataset)\n",
    "    return total_loss / len(dataloader), accuracy\n",
    "\n",
    "# 進行 10 折交叉驗證\n",
    "fold_results = []\n",
    "\n",
    "for fold, (train_idx, val_idx) in enumerate(kf.split(messages)):\n",
    "    print(f\"Fold {fold + 1}\")\n",
    "\n",
    "    # 折分數據\n",
    "    train_messages = [messages[i] for i in train_idx]\n",
    "    train_labels = [labels[i] for i in train_idx]\n",
    "    val_messages = [messages[i] for i in val_idx]\n",
    "    val_labels = [labels[i] for i in val_idx]\n",
    "\n",
    "    # 建立 Dataset 和 DataLoader\n",
    "    train_dataset = CustomDataset(\n",
    "        messages=train_messages,\n",
    "        labels=train_labels,\n",
    "        tokenizer=tokenizer,\n",
    "        max_length=MAX_LENGTH\n",
    "    )\n",
    "    val_dataset = CustomDataset(\n",
    "        messages=val_messages,\n",
    "        labels=val_labels,\n",
    "        tokenizer=tokenizer,\n",
    "        max_length=MAX_LENGTH\n",
    "    )\n",
    "    train_dataloader = DataLoader(train_dataset, batch_size=BATCH_SIZE, shuffle=True)\n",
    "    val_dataloader = DataLoader(val_dataset, batch_size=BATCH_SIZE)\n",
    "\n",
    "    # 初始化模型\n",
    "    NUM_LABELS = len(set(labels))\n",
    "    model = BertForSequenceClassification.from_pretrained('bert-base-uncased', num_labels=NUM_LABELS)\n",
    "    model.to(device)\n",
    "\n",
    "    # 初始化優化器和損失函數\n",
    "    optimizer = AdamW(model.parameters(), lr=5e-5)\n",
    "    criterion = CrossEntropyLoss()\n",
    "\n",
    "    # 訓練模型\n",
    "    for epoch in range(EPOCHS):\n",
    "        print(f\"Epoch {epoch + 1}/{EPOCHS}\")\n",
    "        train_loss = train_epoch(model, train_dataloader, optimizer, criterion)\n",
    "        val_loss, val_accuracy = eval_model(model, val_dataloader, criterion)\n",
    "        print(f\"Train loss: {train_loss} | Val loss: {val_loss} | Val accuracy: {val_accuracy}\")\n",
    "\n",
    "    # 保存每折的結果\n",
    "    fold_results.append({\"fold\": fold + 1, \"val_loss\": val_loss, \"val_accuracy\": val_accuracy.item()})\n",
    "\n",
    "# 計算總體平均結果\n",
    "avg_val_loss = np.mean([result[\"val_loss\"] for result in fold_results])\n",
    "avg_val_accuracy = np.mean([result[\"val_accuracy\"] for result in fold_results])\n",
    "\n",
    "print(f\"10-fold Cross-Validation Results:\")\n",
    "print(f\"Average Validation Loss: {avg_val_loss}\")\n",
    "print(f\"Average Validation Accuracy: {avg_val_accuracy}\")"
   ]
  },
  {
   "cell_type": "code",
   "execution_count": null,
   "id": "f8016681-94ee-4d35-81ac-9831d7172f0d",
   "metadata": {},
   "outputs": [],
   "source": []
  },
  {
   "cell_type": "code",
   "execution_count": null,
   "id": "64712cfc-db28-47f2-bd88-143f505f1342",
   "metadata": {},
   "outputs": [],
   "source": []
  },
  {
   "cell_type": "code",
   "execution_count": null,
   "id": "ce88de4b-08d4-4757-84bc-7710ef30a2aa",
   "metadata": {},
   "outputs": [],
   "source": []
  },
  {
   "cell_type": "code",
   "execution_count": null,
   "id": "97fb8e10-cd0c-4fec-8f57-c0a9e044e6a5",
   "metadata": {},
   "outputs": [],
   "source": []
  },
  {
   "cell_type": "markdown",
   "id": "967c7310-367a-4b42-a21f-601199473d2c",
   "metadata": {},
   "source": [
    "# data split"
   ]
  },
  {
   "cell_type": "code",
   "execution_count": 31,
   "id": "6ef51164-28c4-4aa1-a70e-9c5921dd37f6",
   "metadata": {},
   "outputs": [
    {
     "name": "stdout",
     "output_type": "stream",
     "text": [
      "Fold 1 created. Training samples: 7542, Validation samples: 838\n",
      "I am train_df:                                              Description Assignment group  \\\n",
      "0     verified user details employee and manager nam...            GRP_0   \n",
      "1     xd xd xd hello team xd xd my meetings skype me...            GRP_0   \n",
      "2     xd xd xd hi xd xd cannot log on to vpn xd xd best            GRP_0   \n",
      "3                         unable to access hr tool page            GRP_0   \n",
      "4                                           skype error            GRP_0   \n",
      "...                                                 ...              ...   \n",
      "8493  i am sorry have another two accounts that need...           GRP_10   \n",
      "8494  tablet needs reimaged due to multiple issues w...            GRP_3   \n",
      "8496                           telephony software issue            GRP_0   \n",
      "8497   vip windows password reset for tifpdchb pedxruyf            GRP_0   \n",
      "8499  an mehreren pc lassen sich verschiedene prgram...         misc_grp   \n",
      "\n",
      "                                              cleanText  \\\n",
      "0     verified user details employee manager name ch...   \n",
      "1     hello team meetings skype meetings etc appeari...   \n",
      "2                                   cannot log vpn best   \n",
      "3                               unable access tool page   \n",
      "4                                           skype error   \n",
      "...                                                 ...   \n",
      "8493  sorry another two accounts need added please c...   \n",
      "8494  tablet needs reimaged due multiple issues crm ...   \n",
      "8496                           telephony software issue   \n",
      "8497       vip windows password reset tifpdchb pedxruyf   \n",
      "8499  mehreren lassen sich verschiedene prgramdntyme...   \n",
      "\n",
      "      Assignment_group_label  \\\n",
      "0                          0   \n",
      "1                          0   \n",
      "2                          0   \n",
      "3                          0   \n",
      "4                          0   \n",
      "...                      ...   \n",
      "8493                       2   \n",
      "8494                      23   \n",
      "8496                       0   \n",
      "8497                       0   \n",
      "8499                      49   \n",
      "\n",
      "                                        Inbound Message  Label  \n",
      "0     verified user details employee manager name ch...      0  \n",
      "1     hello team meetings skype meetings etc appeari...      0  \n",
      "2                                   cannot log vpn best      0  \n",
      "3                               unable access tool page      0  \n",
      "4                                           skype error      0  \n",
      "...                                                 ...    ...  \n",
      "8493  sorry another two accounts need added please c...      2  \n",
      "8494  tablet needs reimaged due multiple issues crm ...     23  \n",
      "8496                           telephony software issue      0  \n",
      "8497       vip windows password reset tifpdchb pedxruyf      0  \n",
      "8499  mehreren lassen sich verschiedene prgramdntyme...     49  \n",
      "\n",
      "[7542 rows x 6 columns]\n",
      "I am val_df:                                              Description Assignment group  \\\n",
      "19                              unable to sign into vpn            GRP_0   \n",
      "23                  user called for vendor phone number            GRP_0   \n",
      "33                                   ess password reset            GRP_0   \n",
      "37    the status button is dierppearing after few se...            GRP_0   \n",
      "48    windows password change via password managemen...            GRP_0   \n",
      "...                                                 ...              ...   \n",
      "8466  xd abended job in job scheduler bkwin hostname...            GRP_8   \n",
      "8476  supply chain software account unlock and passw...            GRP_0   \n",
      "8492                  hr tool etime option not visitble            GRP_0   \n",
      "8495  xd xd xd good afternoon xd am not receiving th...           GRP_29   \n",
      "8498  i am unable to access the machine utilities to...           GRP_62   \n",
      "\n",
      "                                              cleanText  \\\n",
      "19                                      unable sign vpn   \n",
      "23                      user called vendor phone number   \n",
      "33                                   ess password reset   \n",
      "37                   status button dierppearing seconds   \n",
      "48    windows password change via password managemen...   \n",
      "...                                                 ...   \n",
      "8466       abended job job scheduler bkwin hostname inc   \n",
      "8476  supply chain software account unlock password ...   \n",
      "8492                         tool etime option visitble   \n",
      "8495  good afternoon receiving emails sent mail plea...   \n",
      "8498  unable access machine utilities finish drawers...   \n",
      "\n",
      "      Assignment_group_label  \\\n",
      "19                         0   \n",
      "23                         0   \n",
      "33                         0   \n",
      "37                         0   \n",
      "48                         0   \n",
      "...                      ...   \n",
      "8466                      47   \n",
      "8476                       0   \n",
      "8492                       0   \n",
      "8495                      22   \n",
      "8498                      44   \n",
      "\n",
      "                                        Inbound Message  Label  \n",
      "19                                      unable sign vpn      0  \n",
      "23                      user called vendor phone number      0  \n",
      "33                                   ess password reset      0  \n",
      "37                   status button dierppearing seconds      0  \n",
      "48    windows password change via password managemen...      0  \n",
      "...                                                 ...    ...  \n",
      "8466       abended job job scheduler bkwin hostname inc     47  \n",
      "8476  supply chain software account unlock password ...      0  \n",
      "8492                         tool etime option visitble      0  \n",
      "8495  good afternoon receiving emails sent mail plea...     22  \n",
      "8498  unable access machine utilities finish drawers...     44  \n",
      "\n",
      "[838 rows x 6 columns]\n",
      "Fold 2 created. Training samples: 7542, Validation samples: 838\n",
      "I am train_df:                                              Description Assignment group  \\\n",
      "0     verified user details employee and manager nam...            GRP_0   \n",
      "1     xd xd xd hello team xd xd my meetings skype me...            GRP_0   \n",
      "2     xd xd xd hi xd xd cannot log on to vpn xd xd best            GRP_0   \n",
      "3                         unable to access hr tool page            GRP_0   \n",
      "4                                           skype error            GRP_0   \n",
      "...                                                 ...              ...   \n",
      "8495  xd xd xd good afternoon xd am not receiving th...           GRP_29   \n",
      "8496                           telephony software issue            GRP_0   \n",
      "8497   vip windows password reset for tifpdchb pedxruyf            GRP_0   \n",
      "8498  i am unable to access the machine utilities to...           GRP_62   \n",
      "8499  an mehreren pc lassen sich verschiedene prgram...         misc_grp   \n",
      "\n",
      "                                              cleanText  \\\n",
      "0     verified user details employee manager name ch...   \n",
      "1     hello team meetings skype meetings etc appeari...   \n",
      "2                                   cannot log vpn best   \n",
      "3                               unable access tool page   \n",
      "4                                           skype error   \n",
      "...                                                 ...   \n",
      "8495  good afternoon receiving emails sent mail plea...   \n",
      "8496                           telephony software issue   \n",
      "8497       vip windows password reset tifpdchb pedxruyf   \n",
      "8498  unable access machine utilities finish drawers...   \n",
      "8499  mehreren lassen sich verschiedene prgramdntyme...   \n",
      "\n",
      "      Assignment_group_label  \\\n",
      "0                          0   \n",
      "1                          0   \n",
      "2                          0   \n",
      "3                          0   \n",
      "4                          0   \n",
      "...                      ...   \n",
      "8495                      22   \n",
      "8496                       0   \n",
      "8497                       0   \n",
      "8498                      44   \n",
      "8499                      49   \n",
      "\n",
      "                                        Inbound Message  Label  \n",
      "0     verified user details employee manager name ch...      0  \n",
      "1     hello team meetings skype meetings etc appeari...      0  \n",
      "2                                   cannot log vpn best      0  \n",
      "3                               unable access tool page      0  \n",
      "4                                           skype error      0  \n",
      "...                                                 ...    ...  \n",
      "8495  good afternoon receiving emails sent mail plea...     22  \n",
      "8496                           telephony software issue      0  \n",
      "8497       vip windows password reset tifpdchb pedxruyf      0  \n",
      "8498  unable access machine utilities finish drawers...     44  \n",
      "8499  mehreren lassen sich verschiedene prgramdntyme...     49  \n",
      "\n",
      "[7542 rows x 6 columns]\n",
      "I am val_df:                                              Description Assignment group  \\\n",
      "17          when undocking pc screen will not come back            GRP_3   \n",
      "26         unable to login to hr tool to check payslips            GRP_0   \n",
      "31    hi please reset users password client id usern...            GRP_0   \n",
      "41                             tablet sound not working            GRP_0   \n",
      "50    xd job mm zscr dly merktc failed in job schedu...            GRP_8   \n",
      "...                                                 ...              ...   \n",
      "8461  reboot lhqsm patent web uacyltoe hxgaycze serv...            GRP_8   \n",
      "8464  xd xd xd could log on to sid uacyltoe hxgaycze...            GRP_0   \n",
      "8467  xd am xd nwfodmhc exurcwkm xd wg die synchroni...            GRP_0   \n",
      "8489                                     account locked            GRP_0   \n",
      "8493  i am sorry have another two accounts that need...           GRP_10   \n",
      "\n",
      "                                              cleanText  \\\n",
      "17                           undocking screen come back   \n",
      "26                     unable login tool check payslips   \n",
      "31      please reset users password client username xyz   \n",
      "41                                 tablet sound working   \n",
      "50             job zscr dly merktc failed job scheduler   \n",
      "...                                                 ...   \n",
      "8461  reboot lhqsm patent web uacyltoe hxgaycze serv...   \n",
      "8464        could log sid uacyltoe hxgaycze system warm   \n",
      "8467  nwfodmhc exurcwkm die synchronisierung mit exc...   \n",
      "8489                                     account locked   \n",
      "8493  sorry another two accounts need added please c...   \n",
      "\n",
      "      Assignment_group_label  \\\n",
      "17                        23   \n",
      "26                         0   \n",
      "31                         0   \n",
      "41                         0   \n",
      "50                        47   \n",
      "...                      ...   \n",
      "8461                      47   \n",
      "8464                       0   \n",
      "8467                       0   \n",
      "8489                       0   \n",
      "8493                       2   \n",
      "\n",
      "                                        Inbound Message  Label  \n",
      "17                           undocking screen come back     23  \n",
      "26                     unable login tool check payslips      0  \n",
      "31      please reset users password client username xyz      0  \n",
      "41                                 tablet sound working      0  \n",
      "50             job zscr dly merktc failed job scheduler     47  \n",
      "...                                                 ...    ...  \n",
      "8461  reboot lhqsm patent web uacyltoe hxgaycze serv...     47  \n",
      "8464        could log sid uacyltoe hxgaycze system warm      0  \n",
      "8467  nwfodmhc exurcwkm die synchronisierung mit exc...      0  \n",
      "8489                                     account locked      0  \n",
      "8493  sorry another two accounts need added please c...      2  \n",
      "\n",
      "[838 rows x 6 columns]\n",
      "Fold 3 created. Training samples: 7542, Validation samples: 838\n",
      "I am train_df:                                              Description Assignment group  \\\n",
      "1     xd xd xd hello team xd xd my meetings skype me...            GRP_0   \n",
      "2     xd xd xd hi xd xd cannot log on to vpn xd xd best            GRP_0   \n",
      "3                         unable to access hr tool page            GRP_0   \n",
      "4                                           skype error            GRP_0   \n",
      "5        unable to log in to engineering tool and skype            GRP_0   \n",
      "...                                                 ...              ...   \n",
      "8493  i am sorry have another two accounts that need...           GRP_10   \n",
      "8495  xd xd xd good afternoon xd am not receiving th...           GRP_29   \n",
      "8496                           telephony software issue            GRP_0   \n",
      "8497   vip windows password reset for tifpdchb pedxruyf            GRP_0   \n",
      "8498  i am unable to access the machine utilities to...           GRP_62   \n",
      "\n",
      "                                              cleanText  \\\n",
      "1     hello team meetings skype meetings etc appeari...   \n",
      "2                                   cannot log vpn best   \n",
      "3                               unable access tool page   \n",
      "4                                           skype error   \n",
      "5                     unable log engineering tool skype   \n",
      "...                                                 ...   \n",
      "8493  sorry another two accounts need added please c...   \n",
      "8495  good afternoon receiving emails sent mail plea...   \n",
      "8496                           telephony software issue   \n",
      "8497       vip windows password reset tifpdchb pedxruyf   \n",
      "8498  unable access machine utilities finish drawers...   \n",
      "\n",
      "      Assignment_group_label  \\\n",
      "1                          0   \n",
      "2                          0   \n",
      "3                          0   \n",
      "4                          0   \n",
      "5                          0   \n",
      "...                      ...   \n",
      "8493                       2   \n",
      "8495                      22   \n",
      "8496                       0   \n",
      "8497                       0   \n",
      "8498                      44   \n",
      "\n",
      "                                        Inbound Message  Label  \n",
      "1     hello team meetings skype meetings etc appeari...      0  \n",
      "2                                   cannot log vpn best      0  \n",
      "3                               unable access tool page      0  \n",
      "4                                           skype error      0  \n",
      "5                     unable log engineering tool skype      0  \n",
      "...                                                 ...    ...  \n",
      "8493  sorry another two accounts need added please c...      2  \n",
      "8495  good afternoon receiving emails sent mail plea...     22  \n",
      "8496                           telephony software issue      0  \n",
      "8497       vip windows password reset tifpdchb pedxruyf      0  \n",
      "8498  unable access machine utilities finish drawers...     44  \n",
      "\n",
      "[7542 rows x 6 columns]\n",
      "I am val_df:                                              Description Assignment group  \\\n",
      "0     verified user details employee and manager nam...            GRP_0   \n",
      "8                  unable to disable add ins on outlook            GRP_0   \n",
      "14                              unable to open payslips            GRP_0   \n",
      "15                             ticket update on inplant            GRP_0   \n",
      "34                       unable to install flash player            GRP_0   \n",
      "...                                                 ...              ...   \n",
      "8438  qwsjptlo hnlasbed erp sid printed to jc spool ...           GRP_20   \n",
      "8468  nwfodmhc exurcwkm am prishry budhtya re rak re...            GRP_0   \n",
      "8477                                   xd xd xd xd best            GRP_0   \n",
      "8494  tablet needs reimaged due to multiple issues w...            GRP_3   \n",
      "8499  an mehreren pc lassen sich verschiedene prgram...         misc_grp   \n",
      "\n",
      "                                              cleanText  \\\n",
      "0     verified user details employee manager name ch...   \n",
      "8                        unable disable add ins outlook   \n",
      "14                                 unable open payslips   \n",
      "15                                ticket update inplant   \n",
      "34                          unable install flash player   \n",
      "...                                                 ...   \n",
      "8438  qwsjptlo hnlasbed erp sid printed spool userid...   \n",
      "8468  nwfodmhc exurcwkm prishry budhtya rak mobile d...   \n",
      "8477                                               best   \n",
      "8494  tablet needs reimaged due multiple issues crm ...   \n",
      "8499  mehreren lassen sich verschiedene prgramdntyme...   \n",
      "\n",
      "      Assignment_group_label  \\\n",
      "0                          0   \n",
      "8                          0   \n",
      "14                         0   \n",
      "15                         0   \n",
      "34                         0   \n",
      "...                      ...   \n",
      "8438                      13   \n",
      "8468                       0   \n",
      "8477                       0   \n",
      "8494                      23   \n",
      "8499                      49   \n",
      "\n",
      "                                        Inbound Message  Label  \n",
      "0     verified user details employee manager name ch...      0  \n",
      "8                        unable disable add ins outlook      0  \n",
      "14                                 unable open payslips      0  \n",
      "15                                ticket update inplant      0  \n",
      "34                          unable install flash player      0  \n",
      "...                                                 ...    ...  \n",
      "8438  qwsjptlo hnlasbed erp sid printed spool userid...     13  \n",
      "8468  nwfodmhc exurcwkm prishry budhtya rak mobile d...      0  \n",
      "8477                                               best      0  \n",
      "8494  tablet needs reimaged due multiple issues crm ...     23  \n",
      "8499  mehreren lassen sich verschiedene prgramdntyme...     49  \n",
      "\n",
      "[838 rows x 6 columns]\n",
      "Fold 4 created. Training samples: 7542, Validation samples: 838\n",
      "I am train_df:                                              Description Assignment group  \\\n",
      "0     verified user details employee and manager nam...            GRP_0   \n",
      "1     xd xd xd hello team xd xd my meetings skype me...            GRP_0   \n",
      "2     xd xd xd hi xd xd cannot log on to vpn xd xd best            GRP_0   \n",
      "3                         unable to access hr tool page            GRP_0   \n",
      "4                                           skype error            GRP_0   \n",
      "...                                                 ...              ...   \n",
      "8494  tablet needs reimaged due to multiple issues w...            GRP_3   \n",
      "8495  xd xd xd good afternoon xd am not receiving th...           GRP_29   \n",
      "8497   vip windows password reset for tifpdchb pedxruyf            GRP_0   \n",
      "8498  i am unable to access the machine utilities to...           GRP_62   \n",
      "8499  an mehreren pc lassen sich verschiedene prgram...         misc_grp   \n",
      "\n",
      "                                              cleanText  \\\n",
      "0     verified user details employee manager name ch...   \n",
      "1     hello team meetings skype meetings etc appeari...   \n",
      "2                                   cannot log vpn best   \n",
      "3                               unable access tool page   \n",
      "4                                           skype error   \n",
      "...                                                 ...   \n",
      "8494  tablet needs reimaged due multiple issues crm ...   \n",
      "8495  good afternoon receiving emails sent mail plea...   \n",
      "8497       vip windows password reset tifpdchb pedxruyf   \n",
      "8498  unable access machine utilities finish drawers...   \n",
      "8499  mehreren lassen sich verschiedene prgramdntyme...   \n",
      "\n",
      "      Assignment_group_label  \\\n",
      "0                          0   \n",
      "1                          0   \n",
      "2                          0   \n",
      "3                          0   \n",
      "4                          0   \n",
      "...                      ...   \n",
      "8494                      23   \n",
      "8495                      22   \n",
      "8497                       0   \n",
      "8498                      44   \n",
      "8499                      49   \n",
      "\n",
      "                                        Inbound Message  Label  \n",
      "0     verified user details employee manager name ch...      0  \n",
      "1     hello team meetings skype meetings etc appeari...      0  \n",
      "2                                   cannot log vpn best      0  \n",
      "3                               unable access tool page      0  \n",
      "4                                           skype error      0  \n",
      "...                                                 ...    ...  \n",
      "8494  tablet needs reimaged due multiple issues crm ...     23  \n",
      "8495  good afternoon receiving emails sent mail plea...     22  \n",
      "8497       vip windows password reset tifpdchb pedxruyf      0  \n",
      "8498  unable access machine utilities finish drawers...     44  \n",
      "8499  mehreren lassen sich verschiedene prgramdntyme...     49  \n",
      "\n",
      "[7542 rows x 6 columns]\n",
      "I am val_df:                                              Description Assignment group  \\\n",
      "12    unable to login to hr tool to sgxqsuojr xwbeso...            GRP_0   \n",
      "29                          unable to log in to erp sid            GRP_0   \n",
      "30            password reset for collaboration platform            GRP_0   \n",
      "47                xd job job failed in job scheduler at            GRP_6   \n",
      "71    it team please kindly release locked computer ...            GRP_0   \n",
      "...                                                 ...              ...   \n",
      "8465                                                vpn           GRP_30   \n",
      "8475                 etime time card update information            GRP_0   \n",
      "8483  xd pm xd nwfodmhc exurcwkm xd amar fw case id ...            GRP_0   \n",
      "8491  i need vpn for my new laptop name llv knethyen...           GRP_34   \n",
      "8496                           telephony software issue            GRP_0   \n",
      "\n",
      "                                              cleanText  \\\n",
      "12           unable login tool sgxqsuojr xwbesorf cards   \n",
      "29                                   unable log erp sid   \n",
      "30                password reset collaboration platform   \n",
      "47                         job job failed job scheduler   \n",
      "71    team please kindly release locked computer use...   \n",
      "...                                                 ...   \n",
      "8465                                                vpn   \n",
      "8475                 etime time card update information   \n",
      "8483  nwfodmhc exurcwkm amar case ref case ref other...   \n",
      "8491  need vpn new laptop name llv knethyen grechduy...   \n",
      "8496                           telephony software issue   \n",
      "\n",
      "      Assignment_group_label  \\\n",
      "12                         0   \n",
      "29                         0   \n",
      "30                         0   \n",
      "47                        42   \n",
      "71                         0   \n",
      "...                      ...   \n",
      "8465                      24   \n",
      "8475                       0   \n",
      "8483                       0   \n",
      "8491                      27   \n",
      "8496                       0   \n",
      "\n",
      "                                        Inbound Message  Label  \n",
      "12           unable login tool sgxqsuojr xwbesorf cards      0  \n",
      "29                                   unable log erp sid      0  \n",
      "30                password reset collaboration platform      0  \n",
      "47                         job job failed job scheduler     42  \n",
      "71    team please kindly release locked computer use...      0  \n",
      "...                                                 ...    ...  \n",
      "8465                                                vpn     24  \n",
      "8475                 etime time card update information      0  \n",
      "8483  nwfodmhc exurcwkm amar case ref case ref other...      0  \n",
      "8491  need vpn new laptop name llv knethyen grechduy...     27  \n",
      "8496                           telephony software issue      0  \n",
      "\n",
      "[838 rows x 6 columns]\n",
      "Fold 5 created. Training samples: 7542, Validation samples: 838\n",
      "I am train_df:                                              Description Assignment group  \\\n",
      "0     verified user details employee and manager nam...            GRP_0   \n",
      "1     xd xd xd hello team xd xd my meetings skype me...            GRP_0   \n",
      "2     xd xd xd hi xd xd cannot log on to vpn xd xd best            GRP_0   \n",
      "3                         unable to access hr tool page            GRP_0   \n",
      "4                                           skype error            GRP_0   \n",
      "...                                                 ...              ...   \n",
      "8495  xd xd xd good afternoon xd am not receiving th...           GRP_29   \n",
      "8496                           telephony software issue            GRP_0   \n",
      "8497   vip windows password reset for tifpdchb pedxruyf            GRP_0   \n",
      "8498  i am unable to access the machine utilities to...           GRP_62   \n",
      "8499  an mehreren pc lassen sich verschiedene prgram...         misc_grp   \n",
      "\n",
      "                                              cleanText  \\\n",
      "0     verified user details employee manager name ch...   \n",
      "1     hello team meetings skype meetings etc appeari...   \n",
      "2                                   cannot log vpn best   \n",
      "3                               unable access tool page   \n",
      "4                                           skype error   \n",
      "...                                                 ...   \n",
      "8495  good afternoon receiving emails sent mail plea...   \n",
      "8496                           telephony software issue   \n",
      "8497       vip windows password reset tifpdchb pedxruyf   \n",
      "8498  unable access machine utilities finish drawers...   \n",
      "8499  mehreren lassen sich verschiedene prgramdntyme...   \n",
      "\n",
      "      Assignment_group_label  \\\n",
      "0                          0   \n",
      "1                          0   \n",
      "2                          0   \n",
      "3                          0   \n",
      "4                          0   \n",
      "...                      ...   \n",
      "8495                      22   \n",
      "8496                       0   \n",
      "8497                       0   \n",
      "8498                      44   \n",
      "8499                      49   \n",
      "\n",
      "                                        Inbound Message  Label  \n",
      "0     verified user details employee manager name ch...      0  \n",
      "1     hello team meetings skype meetings etc appeari...      0  \n",
      "2                                   cannot log vpn best      0  \n",
      "3                               unable access tool page      0  \n",
      "4                                           skype error      0  \n",
      "...                                                 ...    ...  \n",
      "8495  good afternoon receiving emails sent mail plea...     22  \n",
      "8496                           telephony software issue      0  \n",
      "8497       vip windows password reset tifpdchb pedxruyf      0  \n",
      "8498  unable access machine utilities finish drawers...     44  \n",
      "8499  mehreren lassen sich verschiedene prgramdntyme...     49  \n",
      "\n",
      "[7542 rows x 6 columns]\n",
      "I am val_df:                                              Description Assignment group  \\\n",
      "39                                             call for            GRP_0   \n",
      "43    hi the printer printer is not working and need...            GRP_5   \n",
      "49    when closing call the agent keeps on the on ac...            GRP_7   \n",
      "62                                     xd xd xd xd best            GRP_0   \n",
      "68                xd job job failed in job scheduler at            GRP_8   \n",
      "...                                                 ...              ...   \n",
      "8395  we are attempting to login into our tax interf...           GRP_14   \n",
      "8405                           unable to launch outlook            GRP_0   \n",
      "8417              bluetooth keybankrd defekt dardabthyr           GRP_24   \n",
      "8418  xd xd xd good morning xd xd can you please res...            GRP_0   \n",
      "8443  i got the new laptop recently and cursor jumps...            GRP_0   \n",
      "\n",
      "                                              cleanText  \\\n",
      "39                                                 call   \n",
      "43    printer printer working needs part replaced re...   \n",
      "49             closing call agent keeps acd call status   \n",
      "62                                                 best   \n",
      "68                         job job failed job scheduler   \n",
      "...                                                 ...   \n",
      "8395  attempting login tax interface software apply ...   \n",
      "8405                              unable launch outlook   \n",
      "8417              bluetooth keybankrd defekt dardabthyr   \n",
      "8418  good morning please reset erp login tells pass...   \n",
      "8443  got new laptop recently cursor jumps moves aut...   \n",
      "\n",
      "      Assignment_group_label  \\\n",
      "39                         0   \n",
      "43                        39   \n",
      "49                        46   \n",
      "62                         0   \n",
      "68                        47   \n",
      "...                      ...   \n",
      "8395                       6   \n",
      "8405                       0   \n",
      "8417                      17   \n",
      "8418                       0   \n",
      "8443                       0   \n",
      "\n",
      "                                        Inbound Message  Label  \n",
      "39                                                 call      0  \n",
      "43    printer printer working needs part replaced re...     39  \n",
      "49             closing call agent keeps acd call status     46  \n",
      "62                                                 best      0  \n",
      "68                         job job failed job scheduler     47  \n",
      "...                                                 ...    ...  \n",
      "8395  attempting login tax interface software apply ...      6  \n",
      "8405                              unable launch outlook      0  \n",
      "8417              bluetooth keybankrd defekt dardabthyr     17  \n",
      "8418  good morning please reset erp login tells pass...      0  \n",
      "8443  got new laptop recently cursor jumps moves aut...      0  \n",
      "\n",
      "[838 rows x 6 columns]\n",
      "Fold 6 created. Training samples: 7542, Validation samples: 838\n",
      "I am train_df:                                              Description Assignment group  \\\n",
      "0     verified user details employee and manager nam...            GRP_0   \n",
      "1     xd xd xd hello team xd xd my meetings skype me...            GRP_0   \n",
      "2     xd xd xd hi xd xd cannot log on to vpn xd xd best            GRP_0   \n",
      "3                         unable to access hr tool page            GRP_0   \n",
      "4                                           skype error            GRP_0   \n",
      "...                                                 ...              ...   \n",
      "8495  xd xd xd good afternoon xd am not receiving th...           GRP_29   \n",
      "8496                           telephony software issue            GRP_0   \n",
      "8497   vip windows password reset for tifpdchb pedxruyf            GRP_0   \n",
      "8498  i am unable to access the machine utilities to...           GRP_62   \n",
      "8499  an mehreren pc lassen sich verschiedene prgram...         misc_grp   \n",
      "\n",
      "                                              cleanText  \\\n",
      "0     verified user details employee manager name ch...   \n",
      "1     hello team meetings skype meetings etc appeari...   \n",
      "2                                   cannot log vpn best   \n",
      "3                               unable access tool page   \n",
      "4                                           skype error   \n",
      "...                                                 ...   \n",
      "8495  good afternoon receiving emails sent mail plea...   \n",
      "8496                           telephony software issue   \n",
      "8497       vip windows password reset tifpdchb pedxruyf   \n",
      "8498  unable access machine utilities finish drawers...   \n",
      "8499  mehreren lassen sich verschiedene prgramdntyme...   \n",
      "\n",
      "      Assignment_group_label  \\\n",
      "0                          0   \n",
      "1                          0   \n",
      "2                          0   \n",
      "3                          0   \n",
      "4                          0   \n",
      "...                      ...   \n",
      "8495                      22   \n",
      "8496                       0   \n",
      "8497                       0   \n",
      "8498                      44   \n",
      "8499                      49   \n",
      "\n",
      "                                        Inbound Message  Label  \n",
      "0     verified user details employee manager name ch...      0  \n",
      "1     hello team meetings skype meetings etc appeari...      0  \n",
      "2                                   cannot log vpn best      0  \n",
      "3                               unable access tool page      0  \n",
      "4                                           skype error      0  \n",
      "...                                                 ...    ...  \n",
      "8495  good afternoon receiving emails sent mail plea...     22  \n",
      "8496                           telephony software issue      0  \n",
      "8497       vip windows password reset tifpdchb pedxruyf      0  \n",
      "8498  unable access machine utilities finish drawers...     44  \n",
      "8499  mehreren lassen sich verschiedene prgramdntyme...     49  \n",
      "\n",
      "[7542 rows x 6 columns]\n",
      "I am val_df:                                              Description Assignment group  \\\n",
      "6     event critical hostname company com the value ...            GRP_1   \n",
      "18                               erp sid account locked            GRP_0   \n",
      "24    hello m not being able to connect to company n...            GRP_0   \n",
      "25                               erp sid password reset            GRP_0   \n",
      "32    gentles have two devices that are trying to sh...            GRP_4   \n",
      "...                                                 ...              ...   \n",
      "8420  mobiltelefon gigaset professional mit der durc...           GRP_33   \n",
      "8429                                  new email problem           GRP_19   \n",
      "8462             xd abended job in job scheduler job at            GRP_9   \n",
      "8470  mikhghytr wafglhdrhjop pm nwfodmhc exurcwkm ra...           GRP_16   \n",
      "8478  yesterday it helped me access some additional ...            GRP_0   \n",
      "\n",
      "                                              cleanText  \\\n",
      "6     event critical hostname company com value moun...   \n",
      "18                               erp sid account locked   \n",
      "24    hello able connect company network vpn pls che...   \n",
      "25                               erp sid password reset   \n",
      "32    gentles two devices trying share address tryin...   \n",
      "...                                                 ...   \n",
      "8420  mobiltelefon gigaset professional mit der durc...   \n",
      "8429                                  new email problem   \n",
      "8462                      abended job job scheduler job   \n",
      "8470  mikhghytr wafglhdrhjop nwfodmhc exurcwkm rak e...   \n",
      "8478  yesterday helped access additional information...   \n",
      "\n",
      "      Assignment_group_label  \\\n",
      "6                          1   \n",
      "18                         0   \n",
      "24                         0   \n",
      "25                         0   \n",
      "32                        31   \n",
      "...                      ...   \n",
      "8420                      26   \n",
      "8429                      11   \n",
      "8462                      48   \n",
      "8470                       8   \n",
      "8478                       0   \n",
      "\n",
      "                                        Inbound Message  Label  \n",
      "6     event critical hostname company com value moun...      1  \n",
      "18                               erp sid account locked      0  \n",
      "24    hello able connect company network vpn pls che...      0  \n",
      "25                               erp sid password reset      0  \n",
      "32    gentles two devices trying share address tryin...     31  \n",
      "...                                                 ...    ...  \n",
      "8420  mobiltelefon gigaset professional mit der durc...     26  \n",
      "8429                                  new email problem     11  \n",
      "8462                      abended job job scheduler job     48  \n",
      "8470  mikhghytr wafglhdrhjop nwfodmhc exurcwkm rak e...      8  \n",
      "8478  yesterday helped access additional information...      0  \n",
      "\n",
      "[838 rows x 6 columns]\n",
      "Fold 7 created. Training samples: 7542, Validation samples: 838\n",
      "I am train_df:                                              Description Assignment group  \\\n",
      "0     verified user details employee and manager nam...            GRP_0   \n",
      "1     xd xd xd hello team xd xd my meetings skype me...            GRP_0   \n",
      "2     xd xd xd hi xd xd cannot log on to vpn xd xd best            GRP_0   \n",
      "3                         unable to access hr tool page            GRP_0   \n",
      "4                                           skype error            GRP_0   \n",
      "...                                                 ...              ...   \n",
      "8495  xd xd xd good afternoon xd am not receiving th...           GRP_29   \n",
      "8496                           telephony software issue            GRP_0   \n",
      "8497   vip windows password reset for tifpdchb pedxruyf            GRP_0   \n",
      "8498  i am unable to access the machine utilities to...           GRP_62   \n",
      "8499  an mehreren pc lassen sich verschiedene prgram...         misc_grp   \n",
      "\n",
      "                                              cleanText  \\\n",
      "0     verified user details employee manager name ch...   \n",
      "1     hello team meetings skype meetings etc appeari...   \n",
      "2                                   cannot log vpn best   \n",
      "3                               unable access tool page   \n",
      "4                                           skype error   \n",
      "...                                                 ...   \n",
      "8495  good afternoon receiving emails sent mail plea...   \n",
      "8496                           telephony software issue   \n",
      "8497       vip windows password reset tifpdchb pedxruyf   \n",
      "8498  unable access machine utilities finish drawers...   \n",
      "8499  mehreren lassen sich verschiedene prgramdntyme...   \n",
      "\n",
      "      Assignment_group_label  \\\n",
      "0                          0   \n",
      "1                          0   \n",
      "2                          0   \n",
      "3                          0   \n",
      "4                          0   \n",
      "...                      ...   \n",
      "8495                      22   \n",
      "8496                       0   \n",
      "8497                       0   \n",
      "8498                      44   \n",
      "8499                      49   \n",
      "\n",
      "                                        Inbound Message  Label  \n",
      "0     verified user details employee manager name ch...      0  \n",
      "1     hello team meetings skype meetings etc appeari...      0  \n",
      "2                                   cannot log vpn best      0  \n",
      "3                               unable access tool page      0  \n",
      "4                                           skype error      0  \n",
      "...                                                 ...    ...  \n",
      "8495  good afternoon receiving emails sent mail plea...     22  \n",
      "8496                           telephony software issue      0  \n",
      "8497       vip windows password reset tifpdchb pedxruyf      0  \n",
      "8498  unable access machine utilities finish drawers...     44  \n",
      "8499  mehreren lassen sich verschiedene prgramdntyme...     49  \n",
      "\n",
      "[7542 rows x 6 columns]\n",
      "I am val_df:                                              Description Assignment group  \\\n",
      "7     ticket no employment status new non employee e...            GRP_0   \n",
      "22                             unable to connect to vpn            GRP_0   \n",
      "35      ticket no employment status new non employee xd            GRP_0   \n",
      "72    my laptop speakers is not working again and re...            GRP_0   \n",
      "78    what type of outage network circuit power plea...            GRP_8   \n",
      "...                                                 ...              ...   \n",
      "8455  need teamviewer full version and visio applica...           GRP_19   \n",
      "8469  request to phase in additional vas customers f...           GRP_18   \n",
      "8474              inquiry about employee shesyhur posrt            GRP_0   \n",
      "8484  please remove user ralfteimp from palo alto qu...            GRP_2   \n",
      "8488  name language browser microsoft internet explo...            GRP_0   \n",
      "\n",
      "                                              cleanText  \\\n",
      "7     ticket employment status new non employee ente...   \n",
      "22                                   unable connect vpn   \n",
      "35            ticket employment status new non employee   \n",
      "72         laptop speakers working requires urgent help   \n",
      "78    type outage network circuit power please speci...   \n",
      "...                                                 ...   \n",
      "8455     need teamviewer full version visio application   \n",
      "8469  request phase additional vas customers file at...   \n",
      "8474                    inquiry employee shesyhur posrt   \n",
      "8484  please remove user ralfteimp palo alto quarant...   \n",
      "8488  name language browser microsoft internet explo...   \n",
      "\n",
      "      Assignment_group_label  \\\n",
      "7                          0   \n",
      "22                         0   \n",
      "35                         0   \n",
      "72                         0   \n",
      "78                        47   \n",
      "...                      ...   \n",
      "8455                      11   \n",
      "8469                      10   \n",
      "8474                       0   \n",
      "8484                      12   \n",
      "8488                       0   \n",
      "\n",
      "                                        Inbound Message  Label  \n",
      "7     ticket employment status new non employee ente...      0  \n",
      "22                                   unable connect vpn      0  \n",
      "35            ticket employment status new non employee      0  \n",
      "72         laptop speakers working requires urgent help      0  \n",
      "78    type outage network circuit power please speci...     47  \n",
      "...                                                 ...    ...  \n",
      "8455     need teamviewer full version visio application     11  \n",
      "8469  request phase additional vas customers file at...     10  \n",
      "8474                    inquiry employee shesyhur posrt      0  \n",
      "8484  please remove user ralfteimp palo alto quarant...     12  \n",
      "8488  name language browser microsoft internet explo...      0  \n",
      "\n",
      "[838 rows x 6 columns]\n",
      "Fold 8 created. Training samples: 7542, Validation samples: 838\n",
      "I am train_df:                                              Description Assignment group  \\\n",
      "0     verified user details employee and manager nam...            GRP_0   \n",
      "3                         unable to access hr tool page            GRP_0   \n",
      "4                                           skype error            GRP_0   \n",
      "5        unable to log in to engineering tool and skype            GRP_0   \n",
      "6     event critical hostname company com the value ...            GRP_1   \n",
      "...                                                 ...              ...   \n",
      "8494  tablet needs reimaged due to multiple issues w...            GRP_3   \n",
      "8495  xd xd xd good afternoon xd am not receiving th...           GRP_29   \n",
      "8496                           telephony software issue            GRP_0   \n",
      "8498  i am unable to access the machine utilities to...           GRP_62   \n",
      "8499  an mehreren pc lassen sich verschiedene prgram...         misc_grp   \n",
      "\n",
      "                                              cleanText  \\\n",
      "0     verified user details employee manager name ch...   \n",
      "3                               unable access tool page   \n",
      "4                                           skype error   \n",
      "5                     unable log engineering tool skype   \n",
      "6     event critical hostname company com value moun...   \n",
      "...                                                 ...   \n",
      "8494  tablet needs reimaged due multiple issues crm ...   \n",
      "8495  good afternoon receiving emails sent mail plea...   \n",
      "8496                           telephony software issue   \n",
      "8498  unable access machine utilities finish drawers...   \n",
      "8499  mehreren lassen sich verschiedene prgramdntyme...   \n",
      "\n",
      "      Assignment_group_label  \\\n",
      "0                          0   \n",
      "3                          0   \n",
      "4                          0   \n",
      "5                          0   \n",
      "6                          1   \n",
      "...                      ...   \n",
      "8494                      23   \n",
      "8495                      22   \n",
      "8496                       0   \n",
      "8498                      44   \n",
      "8499                      49   \n",
      "\n",
      "                                        Inbound Message  Label  \n",
      "0     verified user details employee manager name ch...      0  \n",
      "3                               unable access tool page      0  \n",
      "4                                           skype error      0  \n",
      "5                     unable log engineering tool skype      0  \n",
      "6     event critical hostname company com value moun...      1  \n",
      "...                                                 ...    ...  \n",
      "8494  tablet needs reimaged due multiple issues crm ...     23  \n",
      "8495  good afternoon receiving emails sent mail plea...     22  \n",
      "8496                           telephony software issue      0  \n",
      "8498  unable access machine utilities finish drawers...     44  \n",
      "8499  mehreren lassen sich verschiedene prgramdntyme...     49  \n",
      "\n",
      "[7542 rows x 6 columns]\n",
      "I am val_df:                                              Description Assignment group  \\\n",
      "1     xd xd xd hello team xd xd my meetings skype me...            GRP_0   \n",
      "2     xd xd xd hi xd xd cannot log on to vpn xd xd best            GRP_0   \n",
      "10    engineering tool says not connected and unable...            GRP_0   \n",
      "11              hr tool site not loading page correctly            GRP_0   \n",
      "13                     user wants to reset the password            GRP_0   \n",
      "...                                                 ...              ...   \n",
      "8473              outlook freezing because of crm addin            GRP_0   \n",
      "8479  stehdgty jfhying called in for an issue where ...            GRP_0   \n",
      "8480  xd xd xd hello xd xd business decision has rec...            GRP_9   \n",
      "8486                         ticket update on ticket no            GRP_0   \n",
      "8497   vip windows password reset for tifpdchb pedxruyf            GRP_0   \n",
      "\n",
      "                                              cleanText  \\\n",
      "1     hello team meetings skype meetings etc appeari...   \n",
      "2                                   cannot log vpn best   \n",
      "10    engineering tool says connected unable submit ...   \n",
      "11                     tool site loading page correctly   \n",
      "13                            user wants reset password   \n",
      "...                                                 ...   \n",
      "8473                         outlook freezing crm addin   \n",
      "8479  stehdgty jfhying called issue supervisor able ...   \n",
      "8480  hello business decision recently made view mfg...   \n",
      "8486                               ticket update ticket   \n",
      "8497       vip windows password reset tifpdchb pedxruyf   \n",
      "\n",
      "      Assignment_group_label  \\\n",
      "1                          0   \n",
      "2                          0   \n",
      "10                         0   \n",
      "11                         0   \n",
      "13                         0   \n",
      "...                      ...   \n",
      "8473                       0   \n",
      "8479                       0   \n",
      "8480                      48   \n",
      "8486                       0   \n",
      "8497                       0   \n",
      "\n",
      "                                        Inbound Message  Label  \n",
      "1     hello team meetings skype meetings etc appeari...      0  \n",
      "2                                   cannot log vpn best      0  \n",
      "10    engineering tool says connected unable submit ...      0  \n",
      "11                     tool site loading page correctly      0  \n",
      "13                            user wants reset password      0  \n",
      "...                                                 ...    ...  \n",
      "8473                         outlook freezing crm addin      0  \n",
      "8479  stehdgty jfhying called issue supervisor able ...      0  \n",
      "8480  hello business decision recently made view mfg...     48  \n",
      "8486                               ticket update ticket      0  \n",
      "8497       vip windows password reset tifpdchb pedxruyf      0  \n",
      "\n",
      "[838 rows x 6 columns]\n",
      "Fold 9 created. Training samples: 7542, Validation samples: 838\n",
      "I am train_df:                                              Description Assignment group  \\\n",
      "0     verified user details employee and manager nam...            GRP_0   \n",
      "1     xd xd xd hello team xd xd my meetings skype me...            GRP_0   \n",
      "2     xd xd xd hi xd xd cannot log on to vpn xd xd best            GRP_0   \n",
      "4                                           skype error            GRP_0   \n",
      "6     event critical hostname company com the value ...            GRP_1   \n",
      "...                                                 ...              ...   \n",
      "8495  xd xd xd good afternoon xd am not receiving th...           GRP_29   \n",
      "8496                           telephony software issue            GRP_0   \n",
      "8497   vip windows password reset for tifpdchb pedxruyf            GRP_0   \n",
      "8498  i am unable to access the machine utilities to...           GRP_62   \n",
      "8499  an mehreren pc lassen sich verschiedene prgram...         misc_grp   \n",
      "\n",
      "                                              cleanText  \\\n",
      "0     verified user details employee manager name ch...   \n",
      "1     hello team meetings skype meetings etc appeari...   \n",
      "2                                   cannot log vpn best   \n",
      "4                                           skype error   \n",
      "6     event critical hostname company com value moun...   \n",
      "...                                                 ...   \n",
      "8495  good afternoon receiving emails sent mail plea...   \n",
      "8496                           telephony software issue   \n",
      "8497       vip windows password reset tifpdchb pedxruyf   \n",
      "8498  unable access machine utilities finish drawers...   \n",
      "8499  mehreren lassen sich verschiedene prgramdntyme...   \n",
      "\n",
      "      Assignment_group_label  \\\n",
      "0                          0   \n",
      "1                          0   \n",
      "2                          0   \n",
      "4                          0   \n",
      "6                          1   \n",
      "...                      ...   \n",
      "8495                      22   \n",
      "8496                       0   \n",
      "8497                       0   \n",
      "8498                      44   \n",
      "8499                      49   \n",
      "\n",
      "                                        Inbound Message  Label  \n",
      "0     verified user details employee manager name ch...      0  \n",
      "1     hello team meetings skype meetings etc appeari...      0  \n",
      "2                                   cannot log vpn best      0  \n",
      "4                                           skype error      0  \n",
      "6     event critical hostname company com value moun...      1  \n",
      "...                                                 ...    ...  \n",
      "8495  good afternoon receiving emails sent mail plea...     22  \n",
      "8496                           telephony software issue      0  \n",
      "8497       vip windows password reset tifpdchb pedxruyf      0  \n",
      "8498  unable access machine utilities finish drawers...     44  \n",
      "8499  mehreren lassen sich verschiedene prgramdntyme...     49  \n",
      "\n",
      "[7542 rows x 6 columns]\n",
      "I am val_df:                                              Description Assignment group  \\\n",
      "3                         unable to access hr tool page            GRP_0   \n",
      "5        unable to log in to engineering tool and skype            GRP_0   \n",
      "40                                ticket update inplant            GRP_0   \n",
      "54    account kept locking out xd possible reasons x...            GRP_0   \n",
      "55    xd xd xd good morning xd xd had to reset my pa...            GRP_0   \n",
      "...                                                 ...              ...   \n",
      "8439                     der drucker steht am platz von           GRP_33   \n",
      "8460             xd abended job in job scheduler job at            GRP_9   \n",
      "8472  rakthyesh ramdntythanjesh xd am xd xd mikhghyt...            GRP_0   \n",
      "8487  pc received multiple windows security updates ...            GRP_3   \n",
      "8490  please contact ed pasgryowski pasgryo about hi...           GRP_29   \n",
      "\n",
      "                                              cleanText  \\\n",
      "3                               unable access tool page   \n",
      "5                     unable log engineering tool skype   \n",
      "40                                ticket update inplant   \n",
      "54    account kept locking possible reasons companys...   \n",
      "55    good morning reset password lost option settin...   \n",
      "...                                                 ...   \n",
      "8439                        der drucker steht platz von   \n",
      "8460                      abended job job scheduler job   \n",
      "8472  rakthyesh ramdntythanjesh mikhghytr rhoades ti...   \n",
      "8487  received multiple windows security updates ear...   \n",
      "8490  please contact pasgryowski pasgryo purchasing ...   \n",
      "\n",
      "      Assignment_group_label  \\\n",
      "3                          0   \n",
      "5                          0   \n",
      "40                         0   \n",
      "54                         0   \n",
      "55                         0   \n",
      "...                      ...   \n",
      "8439                      26   \n",
      "8460                      48   \n",
      "8472                       0   \n",
      "8487                      23   \n",
      "8490                      22   \n",
      "\n",
      "                                        Inbound Message  Label  \n",
      "3                               unable access tool page      0  \n",
      "5                     unable log engineering tool skype      0  \n",
      "40                                ticket update inplant      0  \n",
      "54    account kept locking possible reasons companys...      0  \n",
      "55    good morning reset password lost option settin...      0  \n",
      "...                                                 ...    ...  \n",
      "8439                        der drucker steht platz von     26  \n",
      "8460                      abended job job scheduler job     48  \n",
      "8472  rakthyesh ramdntythanjesh mikhghytr rhoades ti...      0  \n",
      "8487  received multiple windows security updates ear...     23  \n",
      "8490  please contact pasgryowski pasgryo purchasing ...     22  \n",
      "\n",
      "[838 rows x 6 columns]\n",
      "Fold 10 created. Training samples: 7542, Validation samples: 838\n",
      "I am train_df:                                              Description Assignment group  \\\n",
      "0     verified user details employee and manager nam...            GRP_0   \n",
      "1     xd xd xd hello team xd xd my meetings skype me...            GRP_0   \n",
      "2     xd xd xd hi xd xd cannot log on to vpn xd xd best            GRP_0   \n",
      "3                         unable to access hr tool page            GRP_0   \n",
      "5        unable to log in to engineering tool and skype            GRP_0   \n",
      "...                                                 ...              ...   \n",
      "8495  xd xd xd good afternoon xd am not receiving th...           GRP_29   \n",
      "8496                           telephony software issue            GRP_0   \n",
      "8497   vip windows password reset for tifpdchb pedxruyf            GRP_0   \n",
      "8498  i am unable to access the machine utilities to...           GRP_62   \n",
      "8499  an mehreren pc lassen sich verschiedene prgram...         misc_grp   \n",
      "\n",
      "                                              cleanText  \\\n",
      "0     verified user details employee manager name ch...   \n",
      "1     hello team meetings skype meetings etc appeari...   \n",
      "2                                   cannot log vpn best   \n",
      "3                               unable access tool page   \n",
      "5                     unable log engineering tool skype   \n",
      "...                                                 ...   \n",
      "8495  good afternoon receiving emails sent mail plea...   \n",
      "8496                           telephony software issue   \n",
      "8497       vip windows password reset tifpdchb pedxruyf   \n",
      "8498  unable access machine utilities finish drawers...   \n",
      "8499  mehreren lassen sich verschiedene prgramdntyme...   \n",
      "\n",
      "      Assignment_group_label  \\\n",
      "0                          0   \n",
      "1                          0   \n",
      "2                          0   \n",
      "3                          0   \n",
      "5                          0   \n",
      "...                      ...   \n",
      "8495                      22   \n",
      "8496                       0   \n",
      "8497                       0   \n",
      "8498                      44   \n",
      "8499                      49   \n",
      "\n",
      "                                        Inbound Message  Label  \n",
      "0     verified user details employee manager name ch...      0  \n",
      "1     hello team meetings skype meetings etc appeari...      0  \n",
      "2                                   cannot log vpn best      0  \n",
      "3                               unable access tool page      0  \n",
      "5                     unable log engineering tool skype      0  \n",
      "...                                                 ...    ...  \n",
      "8495  good afternoon receiving emails sent mail plea...     22  \n",
      "8496                           telephony software issue      0  \n",
      "8497       vip windows password reset tifpdchb pedxruyf      0  \n",
      "8498  unable access machine utilities finish drawers...     44  \n",
      "8499  mehreren lassen sich verschiedene prgramdntyme...     49  \n",
      "\n",
      "[7542 rows x 6 columns]\n",
      "I am val_df:                                              Description Assignment group  \\\n",
      "4                                           skype error            GRP_0   \n",
      "9                              ticket update on inplant            GRP_0   \n",
      "16    hi am unable to login to company vpn website t...            GRP_0   \n",
      "64    apac company two switches are down since am et...            GRP_8   \n",
      "98            unable to view payslips from hr tool time            GRP_0   \n",
      "...                                                 ...              ...   \n",
      "8456  mail xd am xd nwfodmhc exurcwkm xd rad fw calc...           GRP_13   \n",
      "8458                             windows account locked            GRP_0   \n",
      "8481  hi team was going into the ess file and checki...            GRP_9   \n",
      "8482                         robot hostname is inactive            GRP_8   \n",
      "8485                       ticket update on inc to user            GRP_0   \n",
      "\n",
      "                                              cleanText  \\\n",
      "4                                           skype error   \n",
      "9                                 ticket update inplant   \n",
      "16    unable login company vpn website trying open n...   \n",
      "64    apac company two switches since company chn ap...   \n",
      "98                       unable view payslips tool time   \n",
      "...                                                 ...   \n",
      "8456  mail nwfodmhc exurcwkm rad calculation claim a...   \n",
      "8458                             windows account locked   \n",
      "8481  team going ess file checking things ytd screen...   \n",
      "8482                            robot hostname inactive   \n",
      "8485                             ticket update inc user   \n",
      "\n",
      "      Assignment_group_label  \\\n",
      "4                          0   \n",
      "9                          0   \n",
      "16                         0   \n",
      "64                        47   \n",
      "98                         0   \n",
      "...                      ...   \n",
      "8456                       5   \n",
      "8458                       0   \n",
      "8481                      48   \n",
      "8482                      47   \n",
      "8485                       0   \n",
      "\n",
      "                                        Inbound Message  Label  \n",
      "4                                           skype error      0  \n",
      "9                                 ticket update inplant      0  \n",
      "16    unable login company vpn website trying open n...      0  \n",
      "64    apac company two switches since company chn ap...     47  \n",
      "98                       unable view payslips tool time      0  \n",
      "...                                                 ...    ...  \n",
      "8456  mail nwfodmhc exurcwkm rad calculation claim a...      5  \n",
      "8458                             windows account locked      0  \n",
      "8481  team going ess file checking things ytd screen...     48  \n",
      "8482                            robot hostname inactive     47  \n",
      "8485                             ticket update inc user      0  \n",
      "\n",
      "[838 rows x 6 columns]\n"
     ]
    }
   ],
   "source": [
    "from sklearn.model_selection import KFold\n",
    "from sklearn.utils import shuffle\n",
    "kf = KFold(n_splits=10, shuffle=True, random_state=42)  # 10 折交叉驗證\n",
    "fold = 1\n",
    "for train_index, val_index in kf.split(df):\n",
    "    # 分割成訓練集和驗證集\n",
    "    train_df = df.iloc[train_index]\n",
    "    val_df = df.iloc[val_index]\n",
    "    \n",
    "    # 保存每一折的數據到文件，供 BERT 訓練使用\n",
    "    print(f'Fold {fold} created. Training samples: {len(train_df)}, Validation samples: {len(val_df)}')\n",
    "    print(\"I am train_df: \", train_df)\n",
    "    print(\"I am val_df: \", val_df)\n",
    "    fold += 1"
   ]
  },
  {
   "cell_type": "code",
   "execution_count": null,
   "id": "42c29e29-779f-4667-9eb5-a1b8d9132809",
   "metadata": {},
   "outputs": [],
   "source": []
  },
  {
   "cell_type": "code",
   "execution_count": null,
   "id": "61eb8bf1-11b9-4053-832e-17e31ad32964",
   "metadata": {},
   "outputs": [],
   "source": []
  },
  {
   "cell_type": "code",
   "execution_count": null,
   "id": "dad86138-61f6-44da-892d-b7e4d66a4e3d",
   "metadata": {},
   "outputs": [],
   "source": []
  },
  {
   "cell_type": "code",
   "execution_count": null,
   "id": "dc503d27-a302-48cd-878b-a0f48011f7d6",
   "metadata": {},
   "outputs": [],
   "source": []
  },
  {
   "cell_type": "code",
   "execution_count": null,
   "id": "351e8226-3e7d-4f21-b3ad-eab9c9f88935",
   "metadata": {},
   "outputs": [],
   "source": []
  },
  {
   "cell_type": "code",
   "execution_count": null,
   "id": "ac10a346-17c4-4b57-ae65-a8fb45480a8a",
   "metadata": {},
   "outputs": [],
   "source": []
  },
  {
   "cell_type": "code",
   "execution_count": 20,
   "id": "ad7dbf52-cce0-4310-aab5-d7af6115384b",
   "metadata": {},
   "outputs": [
    {
     "name": "stdout",
     "output_type": "stream",
     "text": [
      "Print the shape of datasets...\n",
      "Training dataset : (6704, 6) \n",
      "Testing dataset : (838, 6)\n",
      "Validation dataset : (838, 6)\n"
     ]
    }
   ],
   "source": [
    "from sklearn.model_selection import train_test_split\n",
    "df_train,df_val=train_test_split(df,test_size=0.2 ,random_state=123)  # 80% train & 10 % validation & 10% test set\n",
    "df_val,df_test=train_test_split(df_val,test_size=0.5 ,random_state=123)\n",
    "\n",
    "print('Print the shape of datasets...')\n",
    "print(f'Training dataset : {df_train.shape} ')\n",
    "print(f'Testing dataset : {df_test.shape}')\n",
    "print(f'Validation dataset : {df_val.shape}')"
   ]
  },
  {
   "cell_type": "code",
   "execution_count": 21,
   "id": "feb2bf6c-6350-47f1-84ae-1f5fc9b37b8f",
   "metadata": {},
   "outputs": [
    {
     "data": {
      "text/plain": [
       "0       verified user details employee manager name ch...\n",
       "1       hello team meetings skype meetings etc appeari...\n",
       "2                                     cannot log vpn best\n",
       "3                                 unable access tool page\n",
       "4                                             skype error\n",
       "                              ...                        \n",
       "8495    good afternoon receiving emails sent mail plea...\n",
       "8496                             telephony software issue\n",
       "8497         vip windows password reset tifpdchb pedxruyf\n",
       "8498    unable access machine utilities finish drawers...\n",
       "8499    mehreren lassen sich verschiedene prgramdntyme...\n",
       "Name: cleanText, Length: 8380, dtype: object"
      ]
     },
     "execution_count": 21,
     "metadata": {},
     "output_type": "execute_result"
    }
   ],
   "source": [
    "df['cleanText']"
   ]
  },
  {
   "cell_type": "code",
   "execution_count": 22,
   "id": "5b5e7309-5fff-40a3-b2f0-4a60db0a533c",
   "metadata": {},
   "outputs": [
    {
     "data": {
      "text/plain": [
       "Assignment_group_label\n",
       "0     389\n",
       "47     57\n",
       "17     30\n",
       "4      28\n",
       "11     27\n",
       "48     26\n",
       "23     26\n",
       "12     25\n",
       "42     17\n",
       "6      15\n",
       "39     14\n",
       "18     13\n",
       "27     12\n",
       "5      12\n",
       "26     10\n",
       "2      10\n",
       "31     10\n",
       "46      8\n",
       "10      8\n",
       "25      8\n",
       "22      7\n",
       "21      6\n",
       "19      6\n",
       "8       6\n",
       "3       5\n",
       "1       5\n",
       "49      5\n",
       "15      5\n",
       "32      4\n",
       "29      4\n",
       "36      4\n",
       "7       4\n",
       "30      4\n",
       "33      3\n",
       "44      3\n",
       "34      3\n",
       "24      3\n",
       "20      3\n",
       "16      3\n",
       "41      2\n",
       "13      2\n",
       "28      1\n",
       "40      1\n",
       "9       1\n",
       "38      1\n",
       "43      1\n",
       "37      1\n",
       "Name: count, dtype: int64"
      ]
     },
     "execution_count": 22,
     "metadata": {},
     "output_type": "execute_result"
    }
   ],
   "source": [
    "df_test['Assignment_group_label'].value_counts()"
   ]
  },
  {
   "cell_type": "markdown",
   "id": "e328d524-81e7-41cd-8787-257f43981922",
   "metadata": {},
   "source": [
    "# paper train BERT"
   ]
  },
  {
   "cell_type": "code",
   "execution_count": 22,
   "id": "6c2f5fa1-0fe3-4fb6-8b08-d1d4b1c624c0",
   "metadata": {},
   "outputs": [],
   "source": [
    "from transformers import BertTokenizer, BertModel\n",
    "pre_trained_BERTmodel='bert-base-uncased'\n",
    "BERT_tokenizer=BertTokenizer.from_pretrained(pre_trained_BERTmodel, do_lower_case=True)"
   ]
  },
  {
   "cell_type": "code",
   "execution_count": 23,
   "id": "0987cbb2-5a25-4271-b600-5ed7ae802b49",
   "metadata": {},
   "outputs": [],
   "source": [
    "token_lens=[]\n",
    "for message in df_train['Inbound Message']:\n",
    "  tokens_message=BERT_tokenizer.encode(message, max_length=150,truncation=True)\n",
    "  token_lens.append(len(tokens_message))"
   ]
  },
  {
   "cell_type": "code",
   "execution_count": 24,
   "id": "e7d8c2d7-d2cc-4eff-8677-a61b83d8f798",
   "metadata": {},
   "outputs": [
    {
     "name": "stderr",
     "output_type": "stream",
     "text": [
      "C:\\Users\\User\\AppData\\Local\\Temp\\ipykernel_15276\\1734226617.py:3: UserWarning: \n",
      "\n",
      "`distplot` is a deprecated function and will be removed in seaborn v0.14.0.\n",
      "\n",
      "Please adapt your code to use either `displot` (a figure-level function with\n",
      "similar flexibility) or `histplot` (an axes-level function for histograms).\n",
      "\n",
      "For a guide to updating your code to use the new functions, please see\n",
      "https://gist.github.com/mwaskom/de44147ed2974457ad6372750bbe5751\n",
      "\n",
      "  sns.distplot(token_lens)\n"
     ]
    },
    {
     "data": {
      "text/plain": [
       "Text(0.5, 0, 'Token count')"
      ]
     },
     "execution_count": 24,
     "metadata": {},
     "output_type": "execute_result"
    },
    {
     "data": {
      "image/png": "[encoded data removed]",
      "text/plain": [
       "<Figure size 800x600 with 1 Axes>"
      ]
     },
     "metadata": {},
     "output_type": "display_data"
    }
   ],
   "source": [
    "#Plot the tokens\n",
    "plt.figure(figsize=(8,6))\n",
    "sns.distplot(token_lens)\n",
    "plt.xlim([0,150])\n",
    "plt.xlabel('Token count')"
   ]
  },
  {
   "cell_type": "code",
   "execution_count": 25,
   "id": "bf9dcbee-7963-4a1a-acfa-de709717c8bb",
   "metadata": {},
   "outputs": [],
   "source": [
    "from torch.utils.data import Dataset\n",
    "class message_Dataset(Dataset):\n",
    "\n",
    "  def __init__(self, messages, targets, tokenizer, max_length):\n",
    "    self.messages=messages\n",
    "    self.targets=targets\n",
    "    self.tokenizer=tokenizer\n",
    "    self.max_length=max_length\n",
    "\n",
    "  def __len__(self):\n",
    "    return len(self.messages)\n",
    "\n",
    "  def __getitem__(self,item):\n",
    "    message = str(self.messages[item])\n",
    "    targets = self.targets[item]\n",
    "\n",
    "    encoding = self.tokenizer.encode_plus(\n",
    "        message,\n",
    "        max_length=Max_length,\n",
    "        add_special_tokens=True,\n",
    "        pad_to_max_length=True,\n",
    "        truncation=True,\n",
    "        return_attention_mask=True,\n",
    "        return_token_type_ids=False,\n",
    "        return_tensors='pt'\n",
    "       )\n",
    "           \n",
    "    return {\n",
    "        'message_text':message,\n",
    "        'input_ids':encoding['input_ids'].flatten(),\n",
    "        'attention_mask':encoding['attention_mask'].flatten(),\n",
    "        'targets' : torch.tensor(targets,dtype=torch.long)\n",
    "    }"
   ]
  },
  {
   "cell_type": "code",
   "execution_count": 26,
   "id": "54448903-c305-46db-ba76-0bbf5b873627",
   "metadata": {},
   "outputs": [],
   "source": [
    "from torch.utils.data import DataLoader, Dataset\n",
    "batch_size=8\n",
    "Max_length= 35\n",
    "def data_loader(df,tokenizer, max_length, batch):\n",
    "  ds=message_Dataset(\n",
    "      messages=df['Inbound Message'].to_numpy(),\n",
    "      targets=df['Label'].to_numpy(),\n",
    "      tokenizer=tokenizer,\n",
    "      max_length=Max_length\n",
    "  )\n",
    "\n",
    "  return DataLoader(\n",
    "      ds,\n",
    "      batch_size=batch_size,\n",
    "      num_workers=0 ## 用4會噴錯\n",
    "  )\n",
    "\n",
    "# Load datasets\n",
    "train_DataLoader=data_loader(df_train, BERT_tokenizer,Max_length,batch_size)\n",
    "test_DataLoader=data_loader(df_test, BERT_tokenizer,Max_length,batch_size)\n",
    "valid_DataLoader=data_loader(df_val, BERT_tokenizer,Max_length,batch_size)"
   ]
  },
  {
   "cell_type": "code",
   "execution_count": 27,
   "id": "5d2e911b-baca-4a86-8afe-3cf655a54db5",
   "metadata": {},
   "outputs": [
    {
     "name": "stdout",
     "output_type": "stream",
     "text": [
      "函數 next 運行時間: 0.09 秒\n",
      "dict_keys(['message_text', 'input_ids', 'attention_mask', 'targets'])\n"
     ]
    },
    {
     "name": "stderr",
     "output_type": "stream",
     "text": [
      "C:\\Users\\User\\AppData\\Roaming\\Python\\Python311\\site-packages\\transformers\\tokenization_utils_base.py:2674: FutureWarning: The `pad_to_max_length` argument is deprecated and will be removed in a future version, use `padding=True` or `padding='longest'` to pad to the longest sequence in the batch, or use `padding='max_length'` to pad to a max length. In this case, you can give a specific length with `max_length` (e.g. `max_length=45`) or leave max_length to None to pad to the maximal input size of the model (e.g. 512 for Bert).\n",
      "  warnings.warn(\n"
     ]
    }
   ],
   "source": [
    "import time\n",
    "def measure_execution_time(func, *args, **kwargs):\n",
    "    import time\n",
    "    start_time = time.time()\n",
    "    result = func(*args, **kwargs)\n",
    "    end_time = time.time()\n",
    "    print(f\"函數 {func.__name__} 運行時間: {end_time - start_time:.2f} 秒\")\n",
    "    return result\n",
    "\n",
    "BERT_data = measure_execution_time(next, iter(train_DataLoader))\n",
    "print(BERT_data.keys())"
   ]
  },
  {
   "cell_type": "code",
   "execution_count": 28,
   "id": "7794917b-b008-4972-bb20-b510315b2257",
   "metadata": {},
   "outputs": [
    {
     "name": "stdout",
     "output_type": "stream",
     "text": [
      "Shape of the BERT_data keys...\n",
      "Input_ids : torch.Size([8, 35])\n",
      "Attention_mask : torch.Size([8, 35])\n",
      "targets : torch.Size([8])\n"
     ]
    }
   ],
   "source": [
    "#dict_keys(['message_text', 'input_ids', 'attention_mask', 'targets'])\n",
    "print('Shape of the BERT_data keys...')\n",
    "print(f\"Input_ids : {BERT_data['input_ids'].shape}\")\n",
    "print(f\"Attention_mask : {BERT_data['attention_mask'].shape}\")\n",
    "print(f\"targets : {BERT_data['targets'].shape}\")"
   ]
  },
  {
   "cell_type": "code",
   "execution_count": 29,
   "id": "33d9a836-bbe1-4dad-9911-28985f41e514",
   "metadata": {},
   "outputs": [
    {
     "name": "stdout",
     "output_type": "stream",
     "text": [
      "torch.Size([8, 35])\n",
      "torch.Size([8, 35])\n"
     ]
    }
   ],
   "source": [
    "input_ids = BERT_data['input_ids'].to(device)\n",
    "attention_mask = BERT_data['attention_mask'].to(device)\n",
    "targets=BERT_data['targets'].to(device)\n",
    "print(input_ids.shape)      # batch size x seq length\n",
    "print(attention_mask.shape) # batch size x seq length"
   ]
  },
  {
   "cell_type": "code",
   "execution_count": 30,
   "id": "08e377f9-6a6c-4077-987c-ccba9d44a55b",
   "metadata": {},
   "outputs": [],
   "source": [
    "BERT_model = BertModel.from_pretrained(pre_trained_BERTmodel)\n",
    "BERT_model=BERT_model.to(device)"
   ]
  },
  {
   "cell_type": "code",
   "execution_count": 31,
   "id": "b55cede3-9db8-4cec-883b-a621481fdbba",
   "metadata": {},
   "outputs": [],
   "source": [
    "n_classes=df['Label'].nunique()"
   ]
  },
  {
   "cell_type": "code",
   "execution_count": 32,
   "id": "29b404d9-4493-4496-8dc2-200c0509b8af",
   "metadata": {},
   "outputs": [],
   "source": [
    "import torch\n",
    "from torch import nn\n",
    "\n",
    "pre_trained_BERTmodel='bert-base-uncased'\n",
    "n_classes=df['Label'].nunique()\n",
    "\n",
    "class BERT_SentimentClassifier(nn.Module):\n",
    "   def __init__(self, n_classes):\n",
    "     super(BERT_SentimentClassifier, self).__init__()\n",
    "     self.bert = BertModel.from_pretrained(pre_trained_BERTmodel)\n",
    "     ### New layers:\n",
    "     self.lstm = nn.LSTM(768, 256, batch_first=True,bidirectional=True)\n",
    "     self.drop = nn.Dropout(p=float(0.6))\n",
    "     self.linear = nn.Linear(256*2, n_classes)\n",
    "     #self.drop1 = nn.Dropout(p=float(0.1))\n",
    "     #self.hidden=nn.Linear(self.bert.config.hidden_size,256)\n",
    "     #self.drop2 = nn.Dropout(p=float(0.1))\n",
    "     #self.out = nn.Linear(256, n_classes)\n",
    "   def forward(self, input_ids, attention_mask):\n",
    "     sequence_output, pooled_output = self.bert(\n",
    "         input_ids=input_ids,\n",
    "         attention_mask=attention_mask,\n",
    "         return_dict=False\n",
    "    )\n",
    "     # sequence_output has the following shape: (batch_size, sequence_length, 768)\n",
    "     lstm_output, (h,c) = self.lstm(sequence_output) ## extract the 1st token's embeddings\n",
    "     hidden = torch.cat((lstm_output[:,-1, :256],lstm_output[:,0, 256:]),dim=-1)\n",
    "     output = self.drop(lstm_output)\n",
    "     linear_output = self.linear(output[:,-1].view(-1,256*2)) ### We are only using the output of the last LSTM cell to perform classification\n",
    "\n",
    "     #output = self.drop1(pooled_output)\n",
    "     #output=self.hidden(output)\n",
    "     #output = self.drop2(output)\n",
    "     #output=self.out(output)\n",
    "     return linear_output"
   ]
  },
  {
   "cell_type": "code",
   "execution_count": 33,
   "id": "1061c21e-49b5-48a1-ab34-00c9e525c072",
   "metadata": {},
   "outputs": [],
   "source": [
    "BERT_model = BERT_SentimentClassifier(n_classes)\n",
    "BERT_model=BERT_model.to(device)"
   ]
  },
  {
   "cell_type": "code",
   "execution_count": 35,
   "id": "1fc950a3-908e-4b79-8e5b-d5308a1d37a7",
   "metadata": {},
   "outputs": [
    {
     "data": {
      "text/plain": [
       "tensor([[0.0175, 0.0200, 0.0154, 0.0182, 0.0201, 0.0187, 0.0192, 0.0167, 0.0202,\n",
       "         0.0206, 0.0198, 0.0222, 0.0182, 0.0188, 0.0215, 0.0162, 0.0179, 0.0234,\n",
       "         0.0177, 0.0208, 0.0190, 0.0220, 0.0212, 0.0159, 0.0212, 0.0281, 0.0184,\n",
       "         0.0192, 0.0205, 0.0219, 0.0205, 0.0189, 0.0226, 0.0214, 0.0195, 0.0207,\n",
       "         0.0200, 0.0216, 0.0187, 0.0203, 0.0215, 0.0218, 0.0219, 0.0225, 0.0227,\n",
       "         0.0158, 0.0205, 0.0196, 0.0198, 0.0190],\n",
       "        [0.0173, 0.0210, 0.0179, 0.0201, 0.0195, 0.0179, 0.0211, 0.0158, 0.0228,\n",
       "         0.0163, 0.0174, 0.0216, 0.0193, 0.0184, 0.0173, 0.0170, 0.0194, 0.0239,\n",
       "         0.0214, 0.0189, 0.0162, 0.0247, 0.0226, 0.0168, 0.0215, 0.0199, 0.0201,\n",
       "         0.0262, 0.0195, 0.0213, 0.0182, 0.0168, 0.0247, 0.0234, 0.0208, 0.0196,\n",
       "         0.0202, 0.0220, 0.0215, 0.0203, 0.0208, 0.0226, 0.0178, 0.0266, 0.0162,\n",
       "         0.0171, 0.0212, 0.0212, 0.0173, 0.0186],\n",
       "        [0.0190, 0.0196, 0.0190, 0.0207, 0.0263, 0.0225, 0.0189, 0.0196, 0.0199,\n",
       "         0.0192, 0.0182, 0.0198, 0.0193, 0.0195, 0.0164, 0.0173, 0.0178, 0.0223,\n",
       "         0.0190, 0.0195, 0.0227, 0.0167, 0.0215, 0.0166, 0.0190, 0.0198, 0.0201,\n",
       "         0.0225, 0.0220, 0.0214, 0.0209, 0.0180, 0.0247, 0.0204, 0.0196, 0.0185,\n",
       "         0.0227, 0.0203, 0.0176, 0.0186, 0.0219, 0.0235, 0.0181, 0.0178, 0.0189,\n",
       "         0.0170, 0.0221, 0.0218, 0.0228, 0.0187],\n",
       "        [0.0199, 0.0201, 0.0149, 0.0214, 0.0242, 0.0218, 0.0167, 0.0178, 0.0189,\n",
       "         0.0205, 0.0181, 0.0212, 0.0209, 0.0211, 0.0164, 0.0167, 0.0225, 0.0181,\n",
       "         0.0190, 0.0201, 0.0175, 0.0232, 0.0193, 0.0190, 0.0214, 0.0189, 0.0170,\n",
       "         0.0177, 0.0199, 0.0217, 0.0205, 0.0216, 0.0269, 0.0177, 0.0157, 0.0191,\n",
       "         0.0206, 0.0253, 0.0220, 0.0184, 0.0226, 0.0237, 0.0199, 0.0215, 0.0202,\n",
       "         0.0189, 0.0200, 0.0205, 0.0210, 0.0178],\n",
       "        [0.0163, 0.0232, 0.0185, 0.0176, 0.0231, 0.0219, 0.0255, 0.0221, 0.0195,\n",
       "         0.0203, 0.0170, 0.0199, 0.0180, 0.0219, 0.0200, 0.0165, 0.0196, 0.0158,\n",
       "         0.0158, 0.0200, 0.0229, 0.0239, 0.0199, 0.0173, 0.0199, 0.0194, 0.0173,\n",
       "         0.0204, 0.0208, 0.0179, 0.0213, 0.0240, 0.0260, 0.0161, 0.0189, 0.0235,\n",
       "         0.0210, 0.0214, 0.0198, 0.0168, 0.0251, 0.0230, 0.0192, 0.0194, 0.0214,\n",
       "         0.0174, 0.0134, 0.0210, 0.0215, 0.0176],\n",
       "        [0.0177, 0.0214, 0.0179, 0.0170, 0.0208, 0.0192, 0.0194, 0.0202, 0.0199,\n",
       "         0.0211, 0.0208, 0.0191, 0.0194, 0.0196, 0.0197, 0.0170, 0.0173, 0.0206,\n",
       "         0.0186, 0.0187, 0.0199, 0.0203, 0.0210, 0.0209, 0.0186, 0.0217, 0.0190,\n",
       "         0.0177, 0.0221, 0.0200, 0.0176, 0.0181, 0.0225, 0.0159, 0.0222, 0.0165,\n",
       "         0.0209, 0.0245, 0.0204, 0.0206, 0.0188, 0.0232, 0.0208, 0.0211, 0.0224,\n",
       "         0.0193, 0.0200, 0.0216, 0.0222, 0.0247],\n",
       "        [0.0172, 0.0210, 0.0219, 0.0171, 0.0199, 0.0205, 0.0180, 0.0137, 0.0194,\n",
       "         0.0186, 0.0226, 0.0182, 0.0171, 0.0196, 0.0202, 0.0206, 0.0209, 0.0190,\n",
       "         0.0223, 0.0214, 0.0178, 0.0203, 0.0234, 0.0181, 0.0207, 0.0214, 0.0175,\n",
       "         0.0195, 0.0211, 0.0201, 0.0189, 0.0171, 0.0211, 0.0216, 0.0214, 0.0179,\n",
       "         0.0226, 0.0166, 0.0222, 0.0201, 0.0245, 0.0226, 0.0198, 0.0241, 0.0194,\n",
       "         0.0248, 0.0205, 0.0175, 0.0172, 0.0211],\n",
       "        [0.0174, 0.0234, 0.0181, 0.0164, 0.0240, 0.0253, 0.0188, 0.0207, 0.0230,\n",
       "         0.0173, 0.0145, 0.0241, 0.0238, 0.0169, 0.0192, 0.0152, 0.0179, 0.0193,\n",
       "         0.0202, 0.0219, 0.0195, 0.0193, 0.0210, 0.0200, 0.0182, 0.0198, 0.0159,\n",
       "         0.0223, 0.0205, 0.0246, 0.0212, 0.0161, 0.0235, 0.0196, 0.0172, 0.0207,\n",
       "         0.0242, 0.0207, 0.0198, 0.0171, 0.0217, 0.0209, 0.0212, 0.0213, 0.0176,\n",
       "         0.0210, 0.0159, 0.0245, 0.0174, 0.0203]], device='cuda:0',\n",
       "       grad_fn=<SoftmaxBackward0>)"
      ]
     },
     "execution_count": 35,
     "metadata": {},
     "output_type": "execute_result"
    }
   ],
   "source": [
    "import torch.nn.functional as F \n",
    "F.softmax(BERT_model(input_ids,attention_mask), dim=1).to(device)"
   ]
  },
  {
   "cell_type": "code",
   "execution_count": 36,
   "id": "2551a279-3db6-4260-9091-b56116a26faa",
   "metadata": {},
   "outputs": [
    {
     "data": {
      "text/plain": [
       "BERT_SentimentClassifier(\n",
       "  (bert): BertModel(\n",
       "    (embeddings): BertEmbeddings(\n",
       "      (word_embeddings): Embedding(30522, 768, padding_idx=0)\n",
       "      (position_embeddings): Embedding(512, 768)\n",
       "      (token_type_embeddings): Embedding(2, 768)\n",
       "      (LayerNorm): LayerNorm((768,), eps=1e-12, elementwise_affine=True)\n",
       "      (dropout): Dropout(p=0.1, inplace=False)\n",
       "    )\n",
       "    (encoder): BertEncoder(\n",
       "      (layer): ModuleList(\n",
       "        (0-11): 12 x BertLayer(\n",
       "          (attention): BertAttention(\n",
       "            (self): BertSelfAttention(\n",
       "              (query): Linear(in_features=768, out_features=768, bias=True)\n",
       "              (key): Linear(in_features=768, out_features=768, bias=True)\n",
       "              (value): Linear(in_features=768, out_features=768, bias=True)\n",
       "              (dropout): Dropout(p=0.1, inplace=False)\n",
       "            )\n",
       "            (output): BertSelfOutput(\n",
       "              (dense): Linear(in_features=768, out_features=768, bias=True)\n",
       "              (LayerNorm): LayerNorm((768,), eps=1e-12, elementwise_affine=True)\n",
       "              (dropout): Dropout(p=0.1, inplace=False)\n",
       "            )\n",
       "          )\n",
       "          (intermediate): BertIntermediate(\n",
       "            (dense): Linear(in_features=768, out_features=3072, bias=True)\n",
       "            (intermediate_act_fn): GELUActivation()\n",
       "          )\n",
       "          (output): BertOutput(\n",
       "            (dense): Linear(in_features=3072, out_features=768, bias=True)\n",
       "            (LayerNorm): LayerNorm((768,), eps=1e-12, elementwise_affine=True)\n",
       "            (dropout): Dropout(p=0.1, inplace=False)\n",
       "          )\n",
       "        )\n",
       "      )\n",
       "    )\n",
       "    (pooler): BertPooler(\n",
       "      (dense): Linear(in_features=768, out_features=768, bias=True)\n",
       "      (activation): Tanh()\n",
       "    )\n",
       "  )\n",
       "  (lstm): LSTM(768, 256, batch_first=True, bidirectional=True)\n",
       "  (drop): Dropout(p=0.6, inplace=False)\n",
       "  (linear): Linear(in_features=512, out_features=50, bias=True)\n",
       ")"
      ]
     },
     "execution_count": 36,
     "metadata": {},
     "output_type": "execute_result"
    }
   ],
   "source": [
    "BERT_model"
   ]
  },
  {
   "cell_type": "code",
   "execution_count": 37,
   "id": "4a6b3f94-1aab-40eb-a35f-2852a23bb13d",
   "metadata": {},
   "outputs": [
    {
     "name": "stderr",
     "output_type": "stream",
     "text": [
      "C:\\Users\\User\\AppData\\Roaming\\Python\\Python311\\site-packages\\transformers\\optimization.py:521: FutureWarning: This implementation of AdamW is deprecated and will be removed in a future version. Use the PyTorch implementation torch.optim.AdamW instead, or set `no_deprecation_warning=True` to disable this warning\n",
      "  warnings.warn(\n"
     ]
    }
   ],
   "source": [
    "from transformers import AdamW\n",
    "from transformers import get_linear_schedule_with_warmup\n",
    "\n",
    "epochs=20\n",
    "optimizer=AdamW(BERT_model.parameters(),lr=1e-5,correct_bias=False)\n",
    "total_steps=len(train_DataLoader)*epochs\n",
    "\n",
    "scheduler=get_linear_schedule_with_warmup(\n",
    "    optimizer,\n",
    "    num_warmup_steps=0,\n",
    "    num_training_steps=total_steps\n",
    ")\n",
    "\n",
    "loss_fn=nn.CrossEntropyLoss().to(device)"
   ]
  },
  {
   "cell_type": "code",
   "execution_count": 39,
   "id": "abef8f9d-5a0e-48b5-b4bf-5b9fbc8ed44c",
   "metadata": {},
   "outputs": [],
   "source": [
    "def train(\n",
    "  model,\n",
    "  data_loader,\n",
    "  loss_fn,\n",
    "  optimizer,\n",
    "  device,\n",
    "  scheduler,\n",
    "  n_observations\n",
    "):\n",
    "  model = model.train()\n",
    "  losses = []\n",
    "  correct_predictions = 0\n",
    "  for d in data_loader:\n",
    "    input_ids = d[\"input_ids\"].to(device)\n",
    "    attention_mask = d[\"attention_mask\"].to(device)\n",
    "    targets = d[\"targets\"].to(device)\n",
    "    #Feed data to BERT model\n",
    "    outputs = model(\n",
    "      input_ids=input_ids,\n",
    "      attention_mask=attention_mask\n",
    "      )\n",
    "    _, preds = torch.max(outputs, dim=1)\n",
    "    loss = loss_fn(outputs, targets)\n",
    "    correct_predictions += torch.sum(preds == targets)\n",
    "    losses.append(loss.item())\n",
    "    torch.autograd.set_detect_anomaly(True)\n",
    "    loss.backward()\n",
    "    nn.utils.clip_grad_norm_(model.parameters(), max_norm=1.0)     # Clip gradients to avoid exploding gradient problem\n",
    "    optimizer.step()\n",
    "    scheduler.step()\n",
    "    optimizer.zero_grad()\n",
    "  return correct_predictions.double() / n_observations, np.mean(losses)"
   ]
  },
  {
   "cell_type": "code",
   "execution_count": 40,
   "id": "4ac41ec8-5be1-4456-8df5-a305b9a615de",
   "metadata": {},
   "outputs": [],
   "source": [
    "def eval_model(model, data_loader,device,loss_fn, n_observations):\n",
    "  model = model.eval()\n",
    "  losses = []\n",
    "  correct_predictions = 0\n",
    "  with torch.no_grad():\n",
    "    for d in data_loader:\n",
    "      input_ids = d[\"input_ids\"].to(device)\n",
    "      attention_mask = d[\"attention_mask\"].to(device)\n",
    "      targets = d[\"targets\"].to(device)\n",
    "      # Feed data to BERT model\n",
    "      outputs = model(\n",
    "        input_ids=input_ids,\n",
    "        attention_mask=attention_mask,\n",
    "      )\n",
    "      _, preds = torch.max(outputs, dim=1)\n",
    "      loss = loss_fn(outputs, targets)\n",
    "      correct_predictions += torch.sum(preds == targets)\n",
    "      losses.append(loss.item())\n",
    "  return correct_predictions.double() / n_observations, np.mean(losses)"
   ]
  },
  {
   "cell_type": "code",
   "execution_count": 38,
   "id": "87a8d158-17df-4557-a453-131d83fa40e1",
   "metadata": {},
   "outputs": [],
   "source": [
    "class EarlyStopping:\n",
    "    def __init__(self, patience=5, min_delta=0.001, verbose=True):\n",
    "        \"\"\"\n",
    "        patience: 設定多少個 epochs 內如果 loss 沒有改善，就停止訓練\n",
    "        min_delta: 設定最小的 loss 改善幅度\n",
    "        \"\"\"\n",
    "        self.patience = patience\n",
    "        self.min_delta = min_delta\n",
    "        self.verbose = verbose\n",
    "        self.counter = 0\n",
    "        self.best_loss = float('inf')\n",
    "        self.early_stop = False\n",
    "\n",
    "    def __call__(self, val_loss):\n",
    "        if val_loss < self.best_loss - self.min_delta:\n",
    "            self.best_loss = val_loss\n",
    "            self.counter = 0  # 重置計數器\n",
    "        else:\n",
    "            self.counter += 1\n",
    "            if self.verbose:\n",
    "                print(f\"EarlyStopping counter: {self.counter} / {self.patience}\")\n",
    "            if self.counter >= self.patience:\n",
    "                self.early_stop = True"
   ]
  },
  {
   "cell_type": "code",
   "execution_count": 41,
   "id": "b1e40058-6305-4611-b7ab-387007e3e33c",
   "metadata": {},
   "outputs": [
    {
     "data": {
      "application/vnd.jupyter.widget-view+json": {
       "model_id": "d49ba20c13dd4818987aa9b2733a5e67",
       "version_major": 2,
       "version_minor": 0
      },
      "text/plain": [
       "Epochs:   0%|          | 0/20 [00:00<?, ?it/s]"
      ]
     },
     "metadata": {},
     "output_type": "display_data"
    },
    {
     "name": "stdout",
     "output_type": "stream",
     "text": [
      "\n",
      "Epoch 1/20\n",
      "----------\n"
     ]
    },
    {
     "data": {
      "application/vnd.jupyter.widget-view+json": {
       "model_id": "5729009799a14e6e9b3c7d33b0ba734c",
       "version_major": 2,
       "version_minor": 0
      },
      "text/plain": [
       "Training:   0%|          | 0/838 [00:00<?, ?it/s]"
      ]
     },
     "metadata": {},
     "output_type": "display_data"
    },
    {
     "name": "stdout",
     "output_type": "stream",
     "text": [
      "Train loss: 2.1659, accuracy: 0.5453\n"
     ]
    },
    {
     "data": {
      "application/vnd.jupyter.widget-view+json": {
       "model_id": "74e38e68115d480b815a83ef557d9264",
       "version_major": 2,
       "version_minor": 0
      },
      "text/plain": [
       "Validation:   0%|          | 0/105 [00:00<?, ?it/s]"
      ]
     },
     "metadata": {},
     "output_type": "display_data"
    },
    {
     "name": "stdout",
     "output_type": "stream",
     "text": [
      "Validation loss: 1.8670, accuracy: 0.5919\n",
      "\n",
      "Epoch 2/20\n",
      "----------\n"
     ]
    },
    {
     "data": {
      "application/vnd.jupyter.widget-view+json": {
       "model_id": "3396612338c4440fba459dd2ea976752",
       "version_major": 2,
       "version_minor": 0
      },
      "text/plain": [
       "Training:   0%|          | 0/838 [00:00<?, ?it/s]"
      ]
     },
     "metadata": {},
     "output_type": "display_data"
    },
    {
     "name": "stdout",
     "output_type": "stream",
     "text": [
      "Train loss: 1.8248, accuracy: 0.5874\n"
     ]
    },
    {
     "data": {
      "application/vnd.jupyter.widget-view+json": {
       "model_id": "ced5d266b7814d6eb0f9e568e84cebc5",
       "version_major": 2,
       "version_minor": 0
      },
      "text/plain": [
       "Validation:   0%|          | 0/105 [00:00<?, ?it/s]"
      ]
     },
     "metadata": {},
     "output_type": "display_data"
    },
    {
     "name": "stdout",
     "output_type": "stream",
     "text": [
      "Validation loss: 1.7506, accuracy: 0.6122\n",
      "\n",
      "Epoch 3/20\n",
      "----------\n"
     ]
    },
    {
     "data": {
      "application/vnd.jupyter.widget-view+json": {
       "model_id": "f567aec832ce4d059609166cbcbf5654",
       "version_major": 2,
       "version_minor": 0
      },
      "text/plain": [
       "Training:   0%|          | 0/838 [00:00<?, ?it/s]"
      ]
     },
     "metadata": {},
     "output_type": "display_data"
    },
    {
     "name": "stdout",
     "output_type": "stream",
     "text": [
      "Train loss: 1.6370, accuracy: 0.6149\n"
     ]
    },
    {
     "data": {
      "application/vnd.jupyter.widget-view+json": {
       "model_id": "31b31c2174524fafaa24d1233154edd9",
       "version_major": 2,
       "version_minor": 0
      },
      "text/plain": [
       "Validation:   0%|          | 0/105 [00:00<?, ?it/s]"
      ]
     },
     "metadata": {},
     "output_type": "display_data"
    },
    {
     "name": "stdout",
     "output_type": "stream",
     "text": [
      "Validation loss: 1.7174, accuracy: 0.6098\n",
      "\n",
      "Epoch 4/20\n",
      "----------\n"
     ]
    },
    {
     "data": {
      "application/vnd.jupyter.widget-view+json": {
       "model_id": "f4fc5147bce34ec493fb01e4581cb74b",
       "version_major": 2,
       "version_minor": 0
      },
      "text/plain": [
       "Training:   0%|          | 0/838 [00:00<?, ?it/s]"
      ]
     },
     "metadata": {},
     "output_type": "display_data"
    },
    {
     "name": "stdout",
     "output_type": "stream",
     "text": [
      "Train loss: 1.4909, accuracy: 0.6374\n"
     ]
    },
    {
     "data": {
      "application/vnd.jupyter.widget-view+json": {
       "model_id": "896bc902caed498d9efb5115242f9af9",
       "version_major": 2,
       "version_minor": 0
      },
      "text/plain": [
       "Validation:   0%|          | 0/105 [00:00<?, ?it/s]"
      ]
     },
     "metadata": {},
     "output_type": "display_data"
    },
    {
     "name": "stdout",
     "output_type": "stream",
     "text": [
      "Validation loss: 1.6851, accuracy: 0.6074\n",
      "\n",
      "Epoch 5/20\n",
      "----------\n"
     ]
    },
    {
     "data": {
      "application/vnd.jupyter.widget-view+json": {
       "model_id": "64cec4492b814a42b9452d92ee1dad92",
       "version_major": 2,
       "version_minor": 0
      },
      "text/plain": [
       "Training:   0%|          | 0/838 [00:00<?, ?it/s]"
      ]
     },
     "metadata": {},
     "output_type": "display_data"
    },
    {
     "name": "stdout",
     "output_type": "stream",
     "text": [
      "Train loss: 1.3522, accuracy: 0.6648\n"
     ]
    },
    {
     "data": {
      "application/vnd.jupyter.widget-view+json": {
       "model_id": "11155312574343d0a93928a10cbb0431",
       "version_major": 2,
       "version_minor": 0
      },
      "text/plain": [
       "Validation:   0%|          | 0/105 [00:00<?, ?it/s]"
      ]
     },
     "metadata": {},
     "output_type": "display_data"
    },
    {
     "name": "stdout",
     "output_type": "stream",
     "text": [
      "Validation loss: 1.6979, accuracy: 0.6337\n",
      "EarlyStopping counter: 1 / 5\n",
      "\n",
      "Epoch 6/20\n",
      "----------\n"
     ]
    },
    {
     "data": {
      "application/vnd.jupyter.widget-view+json": {
       "model_id": "72d7606e0c134c6f80a1006dce088277",
       "version_major": 2,
       "version_minor": 0
      },
      "text/plain": [
       "Training:   0%|          | 0/838 [00:00<?, ?it/s]"
      ]
     },
     "metadata": {},
     "output_type": "display_data"
    },
    {
     "name": "stdout",
     "output_type": "stream",
     "text": [
      "Train loss: 1.2436, accuracy: 0.6967\n"
     ]
    },
    {
     "data": {
      "application/vnd.jupyter.widget-view+json": {
       "model_id": "775ec71add104d2aad29483197d19f2f",
       "version_major": 2,
       "version_minor": 0
      },
      "text/plain": [
       "Validation:   0%|          | 0/105 [00:00<?, ?it/s]"
      ]
     },
     "metadata": {},
     "output_type": "display_data"
    },
    {
     "name": "stdout",
     "output_type": "stream",
     "text": [
      "Validation loss: 1.6882, accuracy: 0.6301\n",
      "EarlyStopping counter: 2 / 5\n",
      "\n",
      "Epoch 7/20\n",
      "----------\n"
     ]
    },
    {
     "data": {
      "application/vnd.jupyter.widget-view+json": {
       "model_id": "ef95c03c46e9438d9bf4c840243304ad",
       "version_major": 2,
       "version_minor": 0
      },
      "text/plain": [
       "Training:   0%|          | 0/838 [00:00<?, ?it/s]"
      ]
     },
     "metadata": {},
     "output_type": "display_data"
    },
    {
     "name": "stdout",
     "output_type": "stream",
     "text": [
      "Train loss: 1.1484, accuracy: 0.7196\n"
     ]
    },
    {
     "data": {
      "application/vnd.jupyter.widget-view+json": {
       "model_id": "c7151f4512e84146a8d66e80f65781f0",
       "version_major": 2,
       "version_minor": 0
      },
      "text/plain": [
       "Validation:   0%|          | 0/105 [00:00<?, ?it/s]"
      ]
     },
     "metadata": {},
     "output_type": "display_data"
    },
    {
     "name": "stdout",
     "output_type": "stream",
     "text": [
      "Validation loss: 1.7007, accuracy: 0.6313\n",
      "EarlyStopping counter: 3 / 5\n",
      "\n",
      "Epoch 8/20\n",
      "----------\n"
     ]
    },
    {
     "data": {
      "application/vnd.jupyter.widget-view+json": {
       "model_id": "024d1daecbd64c5a858985b2edcb422c",
       "version_major": 2,
       "version_minor": 0
      },
      "text/plain": [
       "Training:   0%|          | 0/838 [00:00<?, ?it/s]"
      ]
     },
     "metadata": {},
     "output_type": "display_data"
    },
    {
     "name": "stdout",
     "output_type": "stream",
     "text": [
      "Train loss: 1.0571, accuracy: 0.7469\n"
     ]
    },
    {
     "data": {
      "application/vnd.jupyter.widget-view+json": {
       "model_id": "f2cf5772893048d5a30d95441585665b",
       "version_major": 2,
       "version_minor": 0
      },
      "text/plain": [
       "Validation:   0%|          | 0/105 [00:00<?, ?it/s]"
      ]
     },
     "metadata": {},
     "output_type": "display_data"
    },
    {
     "name": "stdout",
     "output_type": "stream",
     "text": [
      "Validation loss: 1.7304, accuracy: 0.6229\n",
      "EarlyStopping counter: 4 / 5\n",
      "\n",
      "Epoch 9/20\n",
      "----------\n"
     ]
    },
    {
     "data": {
      "application/vnd.jupyter.widget-view+json": {
       "model_id": "8f5e54552cad4c1ba6c9fa7790a01ba5",
       "version_major": 2,
       "version_minor": 0
      },
      "text/plain": [
       "Training:   0%|          | 0/838 [00:00<?, ?it/s]"
      ]
     },
     "metadata": {},
     "output_type": "display_data"
    },
    {
     "name": "stdout",
     "output_type": "stream",
     "text": [
      "Train loss: 0.9753, accuracy: 0.7679\n"
     ]
    },
    {
     "data": {
      "application/vnd.jupyter.widget-view+json": {
       "model_id": "d7005741746d4d7db2542f03cf4d8caa",
       "version_major": 2,
       "version_minor": 0
      },
      "text/plain": [
       "Validation:   0%|          | 0/105 [00:00<?, ?it/s]"
      ]
     },
     "metadata": {},
     "output_type": "display_data"
    },
    {
     "name": "stdout",
     "output_type": "stream",
     "text": [
      "Validation loss: 1.7671, accuracy: 0.6384\n",
      "EarlyStopping counter: 5 / 5\n",
      "Early stopping triggered. Stopping training.\n"
     ]
    }
   ],
   "source": [
    "from tqdm.notebook import tqdm\n",
    "from collections import defaultdict\n",
    "\n",
    "# 設定 Early Stopping 參數\n",
    "early_stopping = EarlyStopping(patience=5, min_delta=0.001, verbose=True)\n",
    "\n",
    "history = defaultdict(list)\n",
    "best_accuracy = 0\n",
    "\n",
    "for epoch in tqdm(range(epochs), desc=\"Epochs\", dynamic_ncols=True):\n",
    "    print(f'\\nEpoch {epoch + 1}/{epochs}')\n",
    "    print('-' * 10)\n",
    "\n",
    "    train_acc, train_loss = train(\n",
    "        BERT_model,\n",
    "        tqdm(train_DataLoader, desc=\"Training\", leave=True, dynamic_ncols=True),\n",
    "        loss_fn,\n",
    "        optimizer,\n",
    "        device,\n",
    "        scheduler,\n",
    "        len(df_train)\n",
    "    )\n",
    "\n",
    "    print(f'Train loss: {train_loss:.4f}, accuracy: {train_acc:.4f}')\n",
    "\n",
    "    val_acc, val_loss = eval_model(\n",
    "        BERT_model,\n",
    "        tqdm(valid_DataLoader, desc=\"Validation\", leave=True, dynamic_ncols=True),\n",
    "        device,\n",
    "        loss_fn,\n",
    "        len(df_val)\n",
    "    )\n",
    "\n",
    "    print(f'Validation loss: {val_loss:.4f}, accuracy: {val_acc:.4f}')\n",
    "\n",
    "    # 更新歷史記錄\n",
    "    history['train_acc'].append(train_acc)\n",
    "    history['train_loss'].append(train_loss)\n",
    "    history['val_acc'].append(val_acc)\n",
    "    history['val_loss'].append(val_loss)\n",
    "\n",
    "    # 檢查是否要 Early Stopping\n",
    "    early_stopping(val_loss)\n",
    "    if early_stopping.early_stop:\n",
    "        print(\"Early stopping triggered. Stopping training.\")\n",
    "        break  # 停止訓練\n",
    "\n",
    "    # 保存最佳模型\n",
    "    if val_acc > best_accuracy:\n",
    "        torch.save(BERT_model.state_dict(), 'best_BERT_model_state_itTicketDF_resampled_gpu.bin')\n",
    "        best_accuracy = val_acc"
   ]
  },
  {
   "cell_type": "code",
   "execution_count": 42,
   "id": "94da74e0-7821-47df-9386-45e984e6eda8",
   "metadata": {},
   "outputs": [
    {
     "data": {
      "text/plain": [
       "('../models/2025-02-03_baseline_bert_8500\\\\tokenizer_config.json',\n",
       " '../models/2025-02-03_baseline_bert_8500\\\\special_tokens_map.json',\n",
       " '../models/2025-02-03_baseline_bert_8500\\\\vocab.txt',\n",
       " '../models/2025-02-03_baseline_bert_8500\\\\added_tokens.json')"
      ]
     },
     "execution_count": 42,
     "metadata": {},
     "output_type": "execute_result"
    }
   ],
   "source": [
    "from datetime import datetime\n",
    "save_directory = '../models/'  # 設定保存目錄\n",
    "\n",
    "current_date = datetime.now()\n",
    "# 格式化日期為 \"YYYY_MMDD\" 格式\n",
    "formatted_date = current_date.strftime('%Y-%m-%d')\n",
    "\n",
    "# 保存模型的權重、配置檔案和 tokenizer\n",
    "BERT_model.bert.save_pretrained(save_directory + formatted_date + '_baseline_bert_8500')  # 保存 BERT 模型（包含 config 和 weights）\n",
    "BERT_tokenizer.save_pretrained(save_directory + formatted_date + '_baseline_bert_8500')  # 保存 tokenizer"
   ]
  },
  {
   "cell_type": "code",
   "execution_count": 43,
   "id": "ba16f2c6-25b5-4b89-90bb-9e6ad3826a15",
   "metadata": {},
   "outputs": [],
   "source": [
    "def get_predictions(model, data_loader):\n",
    "  model = model.eval()\n",
    "  messages = []\n",
    "  predictions = []\n",
    "  prediction_probs = []\n",
    "  real_values = []\n",
    "\n",
    "  with torch.no_grad():\n",
    "    for d in data_loader:\n",
    "      texts = d[\"message_text\"]\n",
    "      input_ids = d[\"input_ids\"].to(device)\n",
    "      attention_mask = d[\"attention_mask\"].to(device)\n",
    "      targets = d[\"targets\"].to(device)\n",
    "      outputs = model(\n",
    "        input_ids=input_ids,\n",
    "        attention_mask=attention_mask\n",
    "      )\n",
    "      _, preds = torch.max(outputs, dim=1)\n",
    "      messages.extend(texts)\n",
    "      predictions.extend(preds)\n",
    "      prediction_probs.extend(outputs)\n",
    "      real_values.extend(targets)\n",
    "\n",
    "  predictions = torch.stack(predictions).cpu()\n",
    "  prediction_probs = torch.stack(prediction_probs).cpu()\n",
    "  real_values = torch.stack(real_values).cpu()\n",
    "  return messages, predictions, prediction_probs, real_values"
   ]
  },
  {
   "cell_type": "code",
   "execution_count": 48,
   "id": "4c6a1301-6c58-4e4b-a70b-f205a64fdcdc",
   "metadata": {},
   "outputs": [
    {
     "name": "stderr",
     "output_type": "stream",
     "text": [
      "C:\\Users\\User\\AppData\\Roaming\\Python\\Python311\\site-packages\\transformers\\tokenization_utils_base.py:2674: FutureWarning: The `pad_to_max_length` argument is deprecated and will be removed in a future version, use `padding=True` or `padding='longest'` to pad to the longest sequence in the batch, or use `padding='max_length'` to pad to a max length. In this case, you can give a specific length with `max_length` (e.g. `max_length=45`) or leave max_length to None to pad to the maximal input size of the model (e.g. 512 for Bert).\n",
      "  warnings.warn(\n"
     ]
    }
   ],
   "source": [
    "messages, y_pred, y_probas, y_true = get_predictions(\n",
    "  BERT_model,\n",
    "  test_DataLoader\n",
    ")"
   ]
  },
  {
   "cell_type": "code",
   "execution_count": 49,
   "id": "422eedfd-9b2e-4ea8-aec4-a6870b6c48c0",
   "metadata": {},
   "outputs": [
    {
     "data": {
      "image/png": "[encoded data removed]",
      "text/plain": [
       "<Figure size 1000x800 with 1 Axes>"
      ]
     },
     "metadata": {},
     "output_type": "display_data"
    }
   ],
   "source": [
    "from sklearn.metrics import roc_curve, auc\n",
    "import matplotlib.pyplot as plt\n",
    "from sklearn.preprocessing import label_binarize\n",
    "import numpy as np\n",
    "\n",
    "# 假設 y_true 是真實標籤，y_probas 是多類別的預測概率\n",
    "classes = np.unique(y_true)  # 獲取所有類別\n",
    "y_true_binarized = label_binarize(y_true, classes=classes)  # 二值化真實標籤\n",
    "\n",
    "\n",
    "plt.figure(figsize=(10, 8))  # 調整圖表大小\n",
    "for i, class_label in enumerate(classes):\n",
    "    fpr, tpr, _ = roc_curve(y_true_binarized[:, i], y_probas[:, i])\n",
    "    roc_auc = auc(fpr, tpr)\n",
    "    plt.plot(fpr, tpr, lw=2, label=f'Class {class_label} (AUC = {roc_auc:.2f})')\n",
    "\n",
    "plt.plot([0, 1], [0, 1], color='gray', linestyle='--', label='Chance')\n",
    "plt.xlabel('False Positive Rate')\n",
    "plt.ylabel('True Positive Rate')\n",
    "plt.title('ROC Curve for Multiclass Classification')\n",
    "\n",
    "# 將圖例放在圖表右側外部\n",
    "plt.legend(loc='center left', bbox_to_anchor=(1.05, 0.5), fontsize='small')\n",
    "plt.tight_layout()  # 自動調整圖表和標籤的布局\n",
    "plt.savefig('roc_curve_multiclass_adjusted.pdf', bbox_inches='tight')\n",
    "plt.show()"
   ]
  },
  {
   "cell_type": "code",
   "execution_count": 53,
   "id": "b32a17fd-9bba-4baf-9e23-5881435bf439",
   "metadata": {},
   "outputs": [
    {
     "name": "stdout",
     "output_type": "stream",
     "text": [
      "Precision for BERT : 0.56\n",
      "Recall for BERT : 0.63\n",
      "F1_score for BERT : 0.58\n",
      "Accuracy score for BERT : 0.63\n"
     ]
    },
    {
     "name": "stderr",
     "output_type": "stream",
     "text": [
      "D:\\Anaconda3\\envs\\cuda\\Lib\\site-packages\\sklearn\\metrics\\_classification.py:1509: UndefinedMetricWarning: Precision is ill-defined and being set to 0.0 in labels with no predicted samples. Use `zero_division` parameter to control this behavior.\n",
      "  _warn_prf(average, modifier, f\"{metric.capitalize()} is\", len(result))\n"
     ]
    }
   ],
   "source": [
    "# Calculate precision, recall, f1_score, & roc_auc_score\n",
    "from sklearn.metrics import precision_recall_fscore_support, accuracy_score, classification_report\n",
    "# from sklearn.metrics import confusion_matrix, classification_report, roc_auc_score, accuracy_score\n",
    "precision_b, recall_b, f1_score_b, _ = precision_recall_fscore_support(y_test, y_pred, average='weighted')\n",
    "accuracy_b = accuracy_score(y_test, y_pred)\n",
    "print(f'Precision for BERT : {round(precision_b,2)}')\n",
    "print(f'Recall for BERT : {round(recall_b,2)}')\n",
    "print(f'F1_score for BERT : {round(f1_score_b,2)}')\n",
    "print(f'Accuracy score for BERT : {round(accuracy_b,2)}')"
   ]
  },
  {
   "cell_type": "code",
   "execution_count": 54,
   "id": "ad086ca9-a78c-4ea8-be62-d97bbded3cd2",
   "metadata": {},
   "outputs": [
    {
     "name": "stdout",
     "output_type": "stream",
     "text": [
      "              precision    recall  f1-score   support\n",
      "\n",
      "           0       0.74      0.93      0.82       389\n",
      "           1       0.00      0.00      0.00         5\n",
      "           2       0.50      0.60      0.55        10\n",
      "           3       0.00      0.00      0.00         5\n",
      "           4       0.62      0.57      0.59        28\n",
      "           5       0.57      0.33      0.42        12\n",
      "           6       0.45      0.33      0.38        15\n",
      "           7       0.00      0.00      0.00         4\n",
      "           8       0.00      0.00      0.00         6\n",
      "           9       0.00      0.00      0.00         1\n",
      "          10       0.43      0.75      0.55         8\n",
      "          11       0.25      0.22      0.24        27\n",
      "          12       0.24      0.36      0.29        25\n",
      "          13       0.00      0.00      0.00         2\n",
      "          15       0.00      0.00      0.00         5\n",
      "          16       0.00      0.00      0.00         3\n",
      "          17       0.90      0.87      0.88        30\n",
      "          18       0.23      0.23      0.23        13\n",
      "          19       0.00      0.00      0.00         6\n",
      "          20       0.00      0.00      0.00         3\n",
      "          21       0.00      0.00      0.00         6\n",
      "          22       0.00      0.00      0.00         7\n",
      "          23       0.32      0.23      0.27        26\n",
      "          24       0.00      0.00      0.00         3\n",
      "          25       0.33      0.12      0.18         8\n",
      "          26       0.29      0.40      0.33        10\n",
      "          27       0.00      0.00      0.00        12\n",
      "          28       0.00      0.00      0.00         1\n",
      "          29       0.00      0.00      0.00         4\n",
      "          30       0.00      0.00      0.00         4\n",
      "          31       0.60      0.30      0.40        10\n",
      "          32       0.00      0.00      0.00         4\n",
      "          33       0.00      0.00      0.00         3\n",
      "          34       0.00      0.00      0.00         3\n",
      "          36       0.00      0.00      0.00         4\n",
      "          37       0.00      0.00      0.00         1\n",
      "          38       0.00      0.00      0.00         1\n",
      "          39       0.60      0.43      0.50        14\n",
      "          40       0.00      0.00      0.00         1\n",
      "          41       0.00      0.00      0.00         2\n",
      "          42       0.73      0.47      0.57        17\n",
      "          43       0.00      0.00      0.00         1\n",
      "          44       0.00      0.00      0.00         3\n",
      "          46       0.83      0.62      0.71         8\n",
      "          47       0.57      0.89      0.70        57\n",
      "          48       0.80      0.15      0.26        26\n",
      "          49       0.00      0.00      0.00         5\n",
      "\n",
      "    accuracy                           0.63       838\n",
      "   macro avg       0.21      0.19      0.19       838\n",
      "weighted avg       0.56      0.63      0.58       838\n",
      "\n"
     ]
    },
    {
     "name": "stderr",
     "output_type": "stream",
     "text": [
      "D:\\Anaconda3\\envs\\cuda\\Lib\\site-packages\\sklearn\\metrics\\_classification.py:1509: UndefinedMetricWarning: Precision is ill-defined and being set to 0.0 in labels with no predicted samples. Use `zero_division` parameter to control this behavior.\n",
      "  _warn_prf(average, modifier, f\"{metric.capitalize()} is\", len(result))\n",
      "D:\\Anaconda3\\envs\\cuda\\Lib\\site-packages\\sklearn\\metrics\\_classification.py:1509: UndefinedMetricWarning: Precision is ill-defined and being set to 0.0 in labels with no predicted samples. Use `zero_division` parameter to control this behavior.\n",
      "  _warn_prf(average, modifier, f\"{metric.capitalize()} is\", len(result))\n",
      "D:\\Anaconda3\\envs\\cuda\\Lib\\site-packages\\sklearn\\metrics\\_classification.py:1509: UndefinedMetricWarning: Precision is ill-defined and being set to 0.0 in labels with no predicted samples. Use `zero_division` parameter to control this behavior.\n",
      "  _warn_prf(average, modifier, f\"{metric.capitalize()} is\", len(result))\n"
     ]
    }
   ],
   "source": [
    "class_report=classification_report(y_test, y_pred)\n",
    "print(class_report)"
   ]
  },
  {
   "cell_type": "code",
   "execution_count": null,
   "id": "231f51ab-fea5-4cd9-aef3-6355220126c0",
   "metadata": {},
   "outputs": [],
   "source": []
  },
  {
   "cell_type": "code",
   "execution_count": null,
   "id": "350a5458-e6e7-4dc9-ae1e-c37f0abf96ee",
   "metadata": {},
   "outputs": [],
   "source": []
  },
  {
   "cell_type": "code",
   "execution_count": null,
   "id": "26547292-993c-4fd1-803b-8fb2f9aa1db9",
   "metadata": {},
   "outputs": [],
   "source": []
  }
 ],
 "metadata": {
  "kernelspec": {
   "display_name": "Python 3 (ipykernel)",
   "language": "python",
   "name": "python3"
  },
  "language_info": {
   "codemirror_mode": {
    "name": "ipython",
    "version": 3
   },
   "file_extension": ".py",
   "mimetype": "text/x-python",
   "name": "python",
   "nbconvert_exporter": "python",
   "pygments_lexer": "ipython3",
   "version": "3.11.9"
  }
 },
 "nbformat": 4,
 "nbformat_minor": 5
}
