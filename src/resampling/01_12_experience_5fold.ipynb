{
 "cells": [
  {
   "cell_type": "code",
   "execution_count": 1,
   "id": "c6902def-8805-4483-a546-4ab48a7b8953",
   "metadata": {},
   "outputs": [
    {
     "data": {
      "text/html": [
       "<div>\n",
       "<style scoped>\n",
       "    .dataframe tbody tr th:only-of-type {\n",
       "        vertical-align: middle;\n",
       "    }\n",
       "\n",
       "    .dataframe tbody tr th {\n",
       "        vertical-align: top;\n",
       "    }\n",
       "\n",
       "    .dataframe thead th {\n",
       "        text-align: right;\n",
       "    }\n",
       "</style>\n",
       "<table border=\"1\" class=\"dataframe\">\n",
       "  <thead>\n",
       "    <tr style=\"text-align: right;\">\n",
       "      <th></th>\n",
       "      <th>Inbound Message</th>\n",
       "      <th>Label</th>\n",
       "    </tr>\n",
       "  </thead>\n",
       "  <tbody>\n",
       "    <tr>\n",
       "      <th>0</th>\n",
       "      <td>login issue verified user details employee man...</td>\n",
       "      <td>0</td>\n",
       "    </tr>\n",
       "    <tr>\n",
       "      <th>1</th>\n",
       "      <td>outlook hello team meetings skype meetings etc...</td>\n",
       "      <td>0</td>\n",
       "    </tr>\n",
       "    <tr>\n",
       "      <th>2</th>\n",
       "      <td>cant log vpn cannot log vpn best</td>\n",
       "      <td>0</td>\n",
       "    </tr>\n",
       "    <tr>\n",
       "      <th>3</th>\n",
       "      <td>unable access tool page unable access tool page</td>\n",
       "      <td>0</td>\n",
       "    </tr>\n",
       "    <tr>\n",
       "      <th>4</th>\n",
       "      <td>skype error skype error</td>\n",
       "      <td>0</td>\n",
       "    </tr>\n",
       "    <tr>\n",
       "      <th>...</th>\n",
       "      <td>...</td>\n",
       "      <td>...</td>\n",
       "    </tr>\n",
       "    <tr>\n",
       "      <th>8449</th>\n",
       "      <td>emails coming mail good afternoon receiving em...</td>\n",
       "      <td>22</td>\n",
       "    </tr>\n",
       "    <tr>\n",
       "      <th>8450</th>\n",
       "      <td>telephony software issue telephony software issue</td>\n",
       "      <td>0</td>\n",
       "    </tr>\n",
       "    <tr>\n",
       "      <th>8451</th>\n",
       "      <td>vip windows password reset tifpdchb pedxruyf v...</td>\n",
       "      <td>0</td>\n",
       "    </tr>\n",
       "    <tr>\n",
       "      <th>8452</th>\n",
       "      <td>machine est funcionando unable access machine ...</td>\n",
       "      <td>44</td>\n",
       "    </tr>\n",
       "    <tr>\n",
       "      <th>8453</th>\n",
       "      <td>mehreren lassen sich verschiedene prgramdntyme...</td>\n",
       "      <td>49</td>\n",
       "    </tr>\n",
       "  </tbody>\n",
       "</table>\n",
       "<p>8454 rows × 2 columns</p>\n",
       "</div>"
      ],
      "text/plain": [
       "                                        Inbound Message  Label\n",
       "0     login issue verified user details employee man...      0\n",
       "1     outlook hello team meetings skype meetings etc...      0\n",
       "2                      cant log vpn cannot log vpn best      0\n",
       "3       unable access tool page unable access tool page      0\n",
       "4                               skype error skype error      0\n",
       "...                                                 ...    ...\n",
       "8449  emails coming mail good afternoon receiving em...     22\n",
       "8450  telephony software issue telephony software issue      0\n",
       "8451  vip windows password reset tifpdchb pedxruyf v...      0\n",
       "8452  machine est funcionando unable access machine ...     44\n",
       "8453  mehreren lassen sich verschiedene prgramdntyme...     49\n",
       "\n",
       "[8454 rows x 2 columns]"
      ]
     },
     "execution_count": 1,
     "metadata": {},
     "output_type": "execute_result"
    }
   ],
   "source": [
    "import pandas as pd\n",
    "data_path = \"../../data/open_source_8454_combine_short_description.csv\"\n",
    "df = pd.read_csv(data_path)\n",
    "# df_label_0 = df[df[\"Label\"] == 0]\n",
    "# df_label_0_to_drop = df_label_0.sample(n=3000, random_state=42)\n",
    "# df = df.drop(df_label_0_to_drop.index)\n",
    "df"
   ]
  },
  {
   "cell_type": "code",
   "execution_count": 2,
   "id": "8a523c41-9917-42ad-9920-021c2d567bf2",
   "metadata": {},
   "outputs": [
    {
     "name": "stderr",
     "output_type": "stream",
     "text": [
      "c:\\Users\\user\\AppData\\Local\\Programs\\Python\\Python310\\lib\\site-packages\\tqdm\\auto.py:21: TqdmWarning: IProgress not found. Please update jupyter and ipywidgets. See https://ipywidgets.readthedocs.io/en/stable/user_install.html\n",
      "  from .autonotebook import tqdm as notebook_tqdm\n"
     ]
    }
   ],
   "source": [
    "import sys\n",
    "import os\n",
    "sys.path.append(os.path.abspath('../ml_lib'))\n",
    "\n",
    "from config import *\n",
    "from experiment import run_kfold_experiment"
   ]
  },
  {
   "cell_type": "code",
   "execution_count": 3,
   "id": "0042fdaa-0d1e-4925-a831-51d69b623c54",
   "metadata": {},
   "outputs": [],
   "source": [
    "messages, labels = df['Inbound Message'].tolist(), df['Label'].tolist()"
   ]
  },
  {
   "cell_type": "code",
   "execution_count": 5,
   "id": "f9a1f7b1-5c13-4312-959c-24cae1a028e8",
   "metadata": {},
   "outputs": [
    {
     "name": "stdout",
     "output_type": "stream",
     "text": [
      "▶ Running: bert-base-uncased + lstm + ros\n",
      "tokenizer is bert-base-uncased\n",
      "Using device: cuda\n",
      "CUDA Available: True\n",
      "CUDA Device: NVIDIA GeForce RTX 5070 Ti\n",
      "Current GPU Memory Allocated: 0.00 GB\n",
      "Current GPU Memory Cached: 0.00 GB\n",
      "\n",
      "[Fold 1]\n",
      "Label distribution after resampling:\n",
      "  label 0: 2000\n",
      "  label 1: 200\n",
      "  label 2: 200\n",
      "  label 3: 200\n",
      "  label 4: 205\n",
      "  label 5: 200\n",
      "  label 6: 200\n",
      "  label 7: 200\n",
      "  label 8: 200\n",
      "  label 9: 200\n",
      "  label 10: 200\n",
      "  label 11: 200\n",
      "  label 12: 200\n",
      "  label 13: 200\n",
      "  label 14: 200\n",
      "  label 15: 200\n",
      "  label 16: 200\n",
      "  label 17: 231\n",
      "  label 18: 200\n",
      "  label 19: 200\n",
      "  label 20: 200\n",
      "  label 21: 200\n",
      "  label 22: 200\n",
      "  label 23: 200\n",
      "  label 24: 200\n",
      "  label 25: 200\n",
      "  label 26: 200\n",
      "  label 27: 200\n",
      "  label 28: 200\n",
      "  label 29: 200\n",
      "  label 30: 200\n",
      "  label 31: 200\n",
      "  label 32: 200\n",
      "  label 33: 200\n",
      "  label 34: 200\n",
      "  label 35: 200\n",
      "  label 36: 200\n",
      "  label 37: 200\n",
      "  label 38: 200\n",
      "  label 39: 200\n",
      "  label 40: 200\n",
      "  label 41: 200\n",
      "  label 42: 200\n",
      "  label 43: 200\n",
      "  label 44: 200\n",
      "  label 45: 200\n",
      "  label 46: 200\n",
      "  label 47: 529\n",
      "  label 48: 202\n",
      "  label 49: 200\n",
      "model is bert-base-uncased lstm\n",
      "Epoch 1/20\n"
     ]
    },
    {
     "name": "stderr",
     "output_type": "stream",
     "text": [
      "100%|██████████| 761/761 [01:09<00:00, 11.00it/s]\n"
     ]
    },
    {
     "name": "stdout",
     "output_type": "stream",
     "text": [
      "{'val_loss': 1.6954034313840687, 'val_accuracy': 0.5659373151981076, 'precision': 0.615520162545748, 'recall': 0.5659373151981076, 'f1-score': 0.5657453748702702, 'macro_f1-score': 0.32787559984392184, 'balanced_accuracy': 0.3932287159060325, 'mcc': 0.44659887137641696, 'train_loss': 2.244911877695427}\n",
      "Epoch 2/20\n"
     ]
    },
    {
     "name": "stderr",
     "output_type": "stream",
     "text": [
      "100%|██████████| 761/761 [01:10<00:00, 10.80it/s]\n"
     ]
    },
    {
     "name": "stdout",
     "output_type": "stream",
     "text": [
      "{'val_loss': 1.495238130666175, 'val_accuracy': 0.6096984033116499, 'precision': 0.6265079055277151, 'recall': 0.6096984033116499, 'f1-score': 0.5982078100711058, 'macro_f1-score': 0.3465744191770435, 'balanced_accuracy': 0.39102838319869165, 'mcc': 0.4969951541824016, 'train_loss': 1.0960109900785966}\n",
      "Epoch 3/20\n"
     ]
    },
    {
     "name": "stderr",
     "output_type": "stream",
     "text": [
      "100%|██████████| 761/761 [01:10<00:00, 10.78it/s]\n"
     ]
    },
    {
     "name": "stdout",
     "output_type": "stream",
     "text": [
      "{'val_loss': 1.4254273659778092, 'val_accuracy': 0.6363098758131284, 'precision': 0.6387980876606537, 'recall': 0.6363098758131284, 'f1-score': 0.622787844762435, 'macro_f1-score': 0.374789058739575, 'balanced_accuracy': 0.3898274239093038, 'mcc': 0.5225410922131554, 'train_loss': 0.7446769536050641}\n",
      "Epoch 4/20\n"
     ]
    },
    {
     "name": "stderr",
     "output_type": "stream",
     "text": [
      "100%|██████████| 761/761 [01:10<00:00, 10.83it/s]\n"
     ]
    },
    {
     "name": "stdout",
     "output_type": "stream",
     "text": [
      "{'val_loss': 1.4476090416593372, 'val_accuracy': 0.6262566528681254, 'precision': 0.6648882552288855, 'recall': 0.6262566528681254, 'f1-score': 0.6273915836123983, 'macro_f1-score': 0.3941502172221529, 'balanced_accuracy': 0.41869679170749635, 'mcc': 0.5169511354060436, 'train_loss': 0.5938716400194419}\n",
      "Epoch 5/20\n"
     ]
    },
    {
     "name": "stderr",
     "output_type": "stream",
     "text": [
      "100%|██████████| 761/761 [01:10<00:00, 10.80it/s]\n"
     ]
    },
    {
     "name": "stdout",
     "output_type": "stream",
     "text": [
      "{'val_loss': 1.5672437065052536, 'val_accuracy': 0.628622117090479, 'precision': 0.6393314984870365, 'recall': 0.628622117090479, 'f1-score': 0.6072975272374881, 'macro_f1-score': 0.36335998534175734, 'balanced_accuracy': 0.3752529273230118, 'mcc': 0.5010266277754325, 'train_loss': 0.5014135139687146}\n",
      "Epoch 6/20\n"
     ]
    },
    {
     "name": "stderr",
     "output_type": "stream",
     "text": [
      "100%|██████████| 761/761 [01:10<00:00, 10.83it/s]\n"
     ]
    },
    {
     "name": "stdout",
     "output_type": "stream",
     "text": [
      "{'val_loss': 1.498051573083086, 'val_accuracy': 0.6505026611472502, 'precision': 0.6587712525238859, 'recall': 0.6505026611472502, 'f1-score': 0.6296196103574204, 'macro_f1-score': 0.38961059244983454, 'balanced_accuracy': 0.3877827862957257, 'mcc': 0.5292086803311056, 'train_loss': 0.415087656346829}\n",
      "Epoch 7/20\n"
     ]
    },
    {
     "name": "stderr",
     "output_type": "stream",
     "text": [
      "100%|██████████| 761/761 [01:10<00:00, 10.80it/s]\n"
     ]
    },
    {
     "name": "stdout",
     "output_type": "stream",
     "text": [
      "{'val_loss': 1.6105951706193529, 'val_accuracy': 0.6167947959787108, 'precision': 0.6645375862819788, 'recall': 0.6167947959787108, 'f1-score': 0.6292418951937859, 'macro_f1-score': 0.36646530334999944, 'balanced_accuracy': 0.3874345256612476, 'mcc': 0.5142616820737849, 'train_loss': 0.3725941973871768}\n",
      "Early stopping.\n",
      "\n",
      "[Fold 2]\n",
      "Label distribution after resampling:\n",
      "  label 0: 2000\n",
      "  label 1: 200\n",
      "  label 2: 200\n",
      "  label 3: 200\n",
      "  label 4: 206\n",
      "  label 5: 200\n",
      "  label 6: 200\n",
      "  label 7: 200\n",
      "  label 8: 200\n",
      "  label 9: 200\n",
      "  label 10: 200\n",
      "  label 11: 200\n",
      "  label 12: 200\n",
      "  label 13: 200\n",
      "  label 14: 200\n",
      "  label 15: 200\n",
      "  label 16: 200\n",
      "  label 17: 231\n",
      "  label 18: 200\n",
      "  label 19: 200\n",
      "  label 20: 200\n",
      "  label 21: 200\n",
      "  label 22: 200\n",
      "  label 23: 200\n",
      "  label 24: 200\n",
      "  label 25: 200\n",
      "  label 26: 200\n",
      "  label 27: 200\n",
      "  label 28: 200\n",
      "  label 29: 200\n",
      "  label 30: 200\n",
      "  label 31: 200\n",
      "  label 32: 200\n",
      "  label 33: 200\n",
      "  label 34: 200\n",
      "  label 35: 200\n",
      "  label 36: 200\n",
      "  label 37: 200\n",
      "  label 38: 200\n",
      "  label 39: 200\n",
      "  label 40: 200\n",
      "  label 41: 200\n",
      "  label 42: 200\n",
      "  label 43: 200\n",
      "  label 44: 200\n",
      "  label 45: 200\n",
      "  label 46: 200\n",
      "  label 47: 528\n",
      "  label 48: 202\n",
      "  label 49: 200\n",
      "model is bert-base-uncased lstm\n",
      "Epoch 1/20\n"
     ]
    },
    {
     "name": "stderr",
     "output_type": "stream",
     "text": [
      "100%|██████████| 761/761 [01:10<00:00, 10.81it/s]\n"
     ]
    },
    {
     "name": "stdout",
     "output_type": "stream",
     "text": [
      "{'val_loss': 1.5844917741586577, 'val_accuracy': 0.5949142519219397, 'precision': 0.5875176063503441, 'recall': 0.5949142519219397, 'f1-score': 0.5737903800300772, 'macro_f1-score': 0.31372517110022635, 'balanced_accuracy': 0.3734273861657735, 'mcc': 0.46367854902152944, 'train_loss': 2.2084266978478775}\n",
      "Epoch 2/20\n"
     ]
    },
    {
     "name": "stderr",
     "output_type": "stream",
     "text": [
      "100%|██████████| 761/761 [01:10<00:00, 10.84it/s]\n"
     ]
    },
    {
     "name": "stdout",
     "output_type": "stream",
     "text": [
      "{'val_loss': 1.515019361984055, 'val_accuracy': 0.6120638675340035, 'precision': 0.6143979890779973, 'recall': 0.6120638675340035, 'f1-score': 0.6038097439941185, 'macro_f1-score': 0.342792238552626, 'balanced_accuracy': 0.3972529987438215, 'mcc': 0.4952093782436015, 'train_loss': 1.058968392958309}\n",
      "Epoch 3/20\n"
     ]
    },
    {
     "name": "stderr",
     "output_type": "stream",
     "text": [
      "100%|██████████| 761/761 [01:10<00:00, 10.83it/s]\n"
     ]
    },
    {
     "name": "stdout",
     "output_type": "stream",
     "text": [
      "{'val_loss': 1.4624808205748505, 'val_accuracy': 0.6363098758131284, 'precision': 0.6621083051516001, 'recall': 0.6363098758131284, 'f1-score': 0.6299803565029829, 'macro_f1-score': 0.40830151864416, 'balanced_accuracy': 0.44945764657653375, 'mcc': 0.5334681195647448, 'train_loss': 0.7048069821491975}\n",
      "Epoch 4/20\n"
     ]
    },
    {
     "name": "stderr",
     "output_type": "stream",
     "text": [
      "100%|██████████| 761/761 [01:10<00:00, 10.84it/s]\n"
     ]
    },
    {
     "name": "stdout",
     "output_type": "stream",
     "text": [
      "{'val_loss': 1.3693971417422564, 'val_accuracy': 0.657599053814311, 'precision': 0.6629349680946949, 'recall': 0.657599053814311, 'f1-score': 0.6429262146056914, 'macro_f1-score': 0.40200213846747773, 'balanced_accuracy': 0.40982448013198663, 'mcc': 0.5415074248271831, 'train_loss': 0.5572543934712115}\n",
      "Epoch 5/20\n"
     ]
    },
    {
     "name": "stderr",
     "output_type": "stream",
     "text": [
      "100%|██████████| 761/761 [01:10<00:00, 10.82it/s]\n"
     ]
    },
    {
     "name": "stdout",
     "output_type": "stream",
     "text": [
      "{'val_loss': 1.487619569560267, 'val_accuracy': 0.6481371969248965, 'precision': 0.6726900681913743, 'recall': 0.6481371969248965, 'f1-score': 0.6433990404931527, 'macro_f1-score': 0.41076627241263813, 'balanced_accuracy': 0.42008038052973795, 'mcc': 0.534474499651256, 'train_loss': 0.43844760338067224}\n",
      "Epoch 6/20\n"
     ]
    },
    {
     "name": "stderr",
     "output_type": "stream",
     "text": [
      "100%|██████████| 761/761 [01:10<00:00, 10.81it/s]\n"
     ]
    },
    {
     "name": "stdout",
     "output_type": "stream",
     "text": [
      "{'val_loss': 1.6563626212893792, 'val_accuracy': 0.618568894145476, 'precision': 0.6579427508521498, 'recall': 0.618568894145476, 'f1-score': 0.6246366095775806, 'macro_f1-score': 0.39577460838378536, 'balanced_accuracy': 0.43587408023646035, 'mcc': 0.5194419428888586, 'train_loss': 0.37520462576588726}\n",
      "Epoch 7/20\n"
     ]
    },
    {
     "name": "stderr",
     "output_type": "stream",
     "text": [
      "100%|██████████| 761/761 [01:10<00:00, 10.83it/s]\n"
     ]
    },
    {
     "name": "stdout",
     "output_type": "stream",
     "text": [
      "{'val_loss': 1.6317122477405477, 'val_accuracy': 0.6487285629804849, 'precision': 0.6650757453677091, 'recall': 0.6487285629804849, 'f1-score': 0.6426563069259921, 'macro_f1-score': 0.42207448943780435, 'balanced_accuracy': 0.4455648038599645, 'mcc': 0.5401736434111918, 'train_loss': 0.349142195897987}\n",
      "Epoch 8/20\n"
     ]
    },
    {
     "name": "stderr",
     "output_type": "stream",
     "text": [
      "100%|██████████| 761/761 [01:10<00:00, 10.83it/s]\n"
     ]
    },
    {
     "name": "stdout",
     "output_type": "stream",
     "text": [
      "{'val_loss': 1.5726012936178244, 'val_accuracy': 0.654642223536369, 'precision': 0.6479786903128636, 'recall': 0.654642223536369, 'f1-score': 0.6431316665220551, 'macro_f1-score': 0.4225181970714833, 'balanced_accuracy': 0.437995111413676, 'mcc': 0.5472818012040365, 'train_loss': 0.2904318493525357}\n",
      "Epoch 9/20\n"
     ]
    },
    {
     "name": "stderr",
     "output_type": "stream",
     "text": [
      "100%|██████████| 761/761 [01:10<00:00, 10.82it/s]\n"
     ]
    },
    {
     "name": "stdout",
     "output_type": "stream",
     "text": [
      "{'val_loss': 1.6754370466718134, 'val_accuracy': 0.6475458308693081, 'precision': 0.6541286692558691, 'recall': 0.6475458308693081, 'f1-score': 0.6401592286377245, 'macro_f1-score': 0.389018573374958, 'balanced_accuracy': 0.3864953480781857, 'mcc': 0.5376838178984564, 'train_loss': 0.2844829106551648}\n",
      "Epoch 10/20\n"
     ]
    },
    {
     "name": "stderr",
     "output_type": "stream",
     "text": [
      "100%|██████████| 761/761 [01:10<00:00, 10.80it/s]\n"
     ]
    },
    {
     "name": "stdout",
     "output_type": "stream",
     "text": [
      "{'val_loss': 1.6408028571673159, 'val_accuracy': 0.6564163217031342, 'precision': 0.6625169516679734, 'recall': 0.6564163217031342, 'f1-score': 0.6484991765589189, 'macro_f1-score': 0.42760753612122415, 'balanced_accuracy': 0.4379408093105923, 'mcc': 0.5493764121148167, 'train_loss': 0.25374425206401935}\n",
      "Epoch 11/20\n"
     ]
    },
    {
     "name": "stderr",
     "output_type": "stream",
     "text": [
      "100%|██████████| 761/761 [01:10<00:00, 10.81it/s]\n"
     ]
    },
    {
     "name": "stdout",
     "output_type": "stream",
     "text": [
      "{'val_loss': 1.6713433043574386, 'val_accuracy': 0.6439976345357776, 'precision': 0.6506826720192673, 'recall': 0.6439976345357776, 'f1-score': 0.6288773548581423, 'macro_f1-score': 0.39135502294677044, 'balanced_accuracy': 0.3892483840957845, 'mcc': 0.5272630367584998, 'train_loss': 0.26384343817932887}\n",
      "Epoch 12/20\n"
     ]
    },
    {
     "name": "stderr",
     "output_type": "stream",
     "text": [
      "100%|██████████| 761/761 [01:10<00:00, 10.86it/s]\n"
     ]
    },
    {
     "name": "stdout",
     "output_type": "stream",
     "text": [
      "{'val_loss': 1.7004013261142767, 'val_accuracy': 0.6605558840922531, 'precision': 0.6671579814134875, 'recall': 0.6605558840922531, 'f1-score': 0.6479389512230376, 'macro_f1-score': 0.4123467935157538, 'balanced_accuracy': 0.424682045699939, 'mcc': 0.5517980317532574, 'train_loss': 0.25025770368370254}\n",
      "Epoch 13/20\n"
     ]
    },
    {
     "name": "stderr",
     "output_type": "stream",
     "text": [
      "100%|██████████| 761/761 [01:10<00:00, 10.81it/s]\n"
     ]
    },
    {
     "name": "stdout",
     "output_type": "stream",
     "text": [
      "{'val_loss': 1.7669830887385134, 'val_accuracy': 0.6641040804257835, 'precision': 0.6679255902150139, 'recall': 0.6641040804257835, 'f1-score': 0.6510120748625838, 'macro_f1-score': 0.4232559714743389, 'balanced_accuracy': 0.42849534716967064, 'mcc': 0.558152209689166, 'train_loss': 0.22340633878765845}\n",
      "Early stopping.\n",
      "\n",
      "[Fold 3]\n",
      "Label distribution after resampling:\n",
      "  label 0: 2000\n",
      "  label 1: 200\n",
      "  label 2: 200\n",
      "  label 3: 200\n",
      "  label 4: 206\n",
      "  label 5: 200\n",
      "  label 6: 200\n",
      "  label 7: 200\n",
      "  label 8: 200\n",
      "  label 9: 200\n",
      "  label 10: 200\n",
      "  label 11: 200\n",
      "  label 12: 200\n",
      "  label 13: 200\n",
      "  label 14: 200\n",
      "  label 15: 200\n",
      "  label 16: 200\n",
      "  label 17: 231\n",
      "  label 18: 200\n",
      "  label 19: 200\n",
      "  label 20: 200\n",
      "  label 21: 200\n",
      "  label 22: 200\n",
      "  label 23: 200\n",
      "  label 24: 200\n",
      "  label 25: 200\n",
      "  label 26: 200\n",
      "  label 27: 200\n",
      "  label 28: 200\n",
      "  label 29: 200\n",
      "  label 30: 200\n",
      "  label 31: 200\n",
      "  label 32: 200\n",
      "  label 33: 200\n",
      "  label 34: 200\n",
      "  label 35: 200\n",
      "  label 36: 200\n",
      "  label 37: 200\n",
      "  label 38: 200\n",
      "  label 39: 200\n",
      "  label 40: 200\n",
      "  label 41: 200\n",
      "  label 42: 200\n",
      "  label 43: 200\n",
      "  label 44: 200\n",
      "  label 45: 200\n",
      "  label 46: 200\n",
      "  label 47: 529\n",
      "  label 48: 201\n",
      "  label 49: 200\n",
      "model is bert-base-uncased lstm\n",
      "Epoch 1/20\n"
     ]
    },
    {
     "name": "stderr",
     "output_type": "stream",
     "text": [
      "100%|██████████| 761/761 [01:10<00:00, 10.79it/s]\n"
     ]
    },
    {
     "name": "stdout",
     "output_type": "stream",
     "text": [
      "{'val_loss': 1.6183386799299493, 'val_accuracy': 0.5759905381431106, 'precision': 0.639582997396295, 'recall': 0.5759905381431106, 'f1-score': 0.5739433648046897, 'macro_f1-score': 0.2964845006944914, 'balanced_accuracy': 0.3480217513364796, 'mcc': 0.45122825110245535, 'train_loss': 2.276354954449482}\n",
      "Epoch 2/20\n"
     ]
    },
    {
     "name": "stderr",
     "output_type": "stream",
     "text": [
      "100%|██████████| 761/761 [01:10<00:00, 10.80it/s]\n"
     ]
    },
    {
     "name": "stdout",
     "output_type": "stream",
     "text": [
      "{'val_loss': 1.5496497542228338, 'val_accuracy': 0.5890005913660555, 'precision': 0.6689019199885765, 'recall': 0.5890005913660555, 'f1-score': 0.6027387753019886, 'macro_f1-score': 0.3383199957842673, 'balanced_accuracy': 0.38023349338672086, 'mcc': 0.4925846933140768, 'train_loss': 1.0354001254391576}\n",
      "Epoch 3/20\n"
     ]
    },
    {
     "name": "stderr",
     "output_type": "stream",
     "text": [
      "100%|██████████| 761/761 [01:10<00:00, 10.80it/s]\n"
     ]
    },
    {
     "name": "stdout",
     "output_type": "stream",
     "text": [
      "{'val_loss': 1.4531805436566192, 'val_accuracy': 0.628622117090479, 'precision': 0.6292152182011655, 'recall': 0.628622117090479, 'f1-score': 0.6197249958250947, 'macro_f1-score': 0.35039374943738694, 'balanced_accuracy': 0.3825880055153521, 'mcc': 0.5190902705121074, 'train_loss': 0.6740951659488302}\n",
      "Epoch 4/20\n"
     ]
    },
    {
     "name": "stderr",
     "output_type": "stream",
     "text": [
      "100%|██████████| 761/761 [01:10<00:00, 10.81it/s]\n"
     ]
    },
    {
     "name": "stdout",
     "output_type": "stream",
     "text": [
      "{'val_loss': 1.4595115803322702, 'val_accuracy': 0.6481371969248965, 'precision': 0.6492626255596562, 'recall': 0.6481371969248965, 'f1-score': 0.63812142817957, 'macro_f1-score': 0.37918637915618986, 'balanced_accuracy': 0.38951613993114137, 'mcc': 0.5403376472578006, 'train_loss': 0.5052404570761633}\n",
      "Epoch 5/20\n"
     ]
    },
    {
     "name": "stderr",
     "output_type": "stream",
     "text": [
      "100%|██████████| 761/761 [01:10<00:00, 10.76it/s]\n"
     ]
    },
    {
     "name": "stdout",
     "output_type": "stream",
     "text": [
      "{'val_loss': 1.4746617612973698, 'val_accuracy': 0.6487285629804849, 'precision': 0.6654998867351792, 'recall': 0.6487285629804849, 'f1-score': 0.6421585080673952, 'macro_f1-score': 0.3716497282631467, 'balanced_accuracy': 0.3879708199314573, 'mcc': 0.535035342507591, 'train_loss': 0.40234425634331755}\n",
      "Epoch 6/20\n"
     ]
    },
    {
     "name": "stderr",
     "output_type": "stream",
     "text": [
      "100%|██████████| 761/761 [01:10<00:00, 10.76it/s]\n"
     ]
    },
    {
     "name": "stdout",
     "output_type": "stream",
     "text": [
      "{'val_loss': 1.4876457354370154, 'val_accuracy': 0.6564163217031342, 'precision': 0.6483446430850153, 'recall': 0.6564163217031342, 'f1-score': 0.6351947852593721, 'macro_f1-score': 0.35225968168428556, 'balanced_accuracy': 0.3628763059474826, 'mcc': 0.5398912759031159, 'train_loss': 0.36619764756357465}\n",
      "Epoch 7/20\n"
     ]
    },
    {
     "name": "stderr",
     "output_type": "stream",
     "text": [
      "100%|██████████| 761/761 [01:10<00:00, 10.80it/s]\n"
     ]
    },
    {
     "name": "stdout",
     "output_type": "stream",
     "text": [
      "{'val_loss': 1.4957914647628676, 'val_accuracy': 0.6564163217031342, 'precision': 0.6568998738718302, 'recall': 0.6564163217031342, 'f1-score': 0.6477649679625902, 'macro_f1-score': 0.38626609160414416, 'balanced_accuracy': 0.4077468000165236, 'mcc': 0.5490045213713248, 'train_loss': 0.3109405508580643}\n",
      "Epoch 8/20\n"
     ]
    },
    {
     "name": "stderr",
     "output_type": "stream",
     "text": [
      "100%|██████████| 761/761 [01:10<00:00, 10.79it/s]\n"
     ]
    },
    {
     "name": "stdout",
     "output_type": "stream",
     "text": [
      "{'val_loss': 1.6265927193299778, 'val_accuracy': 0.6292134831460674, 'precision': 0.6610386997653992, 'recall': 0.6292134831460674, 'f1-score': 0.6288129848066818, 'macro_f1-score': 0.372967386694373, 'balanced_accuracy': 0.3784827792771098, 'mcc': 0.5278065491235611, 'train_loss': 0.2778210595981971}\n",
      "Epoch 9/20\n"
     ]
    },
    {
     "name": "stderr",
     "output_type": "stream",
     "text": [
      "100%|██████████| 761/761 [01:10<00:00, 10.81it/s]\n"
     ]
    },
    {
     "name": "stdout",
     "output_type": "stream",
     "text": [
      "{'val_loss': 1.604460725806794, 'val_accuracy': 0.654642223536369, 'precision': 0.6404188797451862, 'recall': 0.654642223536369, 'f1-score': 0.6384998285650235, 'macro_f1-score': 0.3467236686716016, 'balanced_accuracy': 0.35259663560049276, 'mcc': 0.5402980827080309, 'train_loss': 0.2706241738687559}\n",
      "Epoch 10/20\n"
     ]
    },
    {
     "name": "stderr",
     "output_type": "stream",
     "text": [
      "100%|██████████| 761/761 [01:15<00:00, 10.11it/s]\n"
     ]
    },
    {
     "name": "stdout",
     "output_type": "stream",
     "text": [
      "{'val_loss': 1.6487439384437956, 'val_accuracy': 0.654642223536369, 'precision': 0.6591585824857824, 'recall': 0.654642223536369, 'f1-score': 0.6410307950695041, 'macro_f1-score': 0.36822742572460876, 'balanced_accuracy': 0.37862325843504346, 'mcc': 0.5450513561955223, 'train_loss': 0.24596664274622945}\n",
      "Early stopping.\n",
      "\n",
      "[Fold 4]\n",
      "Label distribution after resampling:\n",
      "  label 0: 2000\n",
      "  label 1: 200\n",
      "  label 2: 200\n",
      "  label 3: 200\n",
      "  label 4: 206\n",
      "  label 5: 200\n",
      "  label 6: 200\n",
      "  label 7: 200\n",
      "  label 8: 200\n",
      "  label 9: 200\n",
      "  label 10: 200\n",
      "  label 11: 200\n",
      "  label 12: 200\n",
      "  label 13: 200\n",
      "  label 14: 200\n",
      "  label 15: 200\n",
      "  label 16: 200\n",
      "  label 17: 232\n",
      "  label 18: 200\n",
      "  label 19: 200\n",
      "  label 20: 200\n",
      "  label 21: 200\n",
      "  label 22: 200\n",
      "  label 23: 200\n",
      "  label 24: 200\n",
      "  label 25: 200\n",
      "  label 26: 200\n",
      "  label 27: 200\n",
      "  label 28: 200\n",
      "  label 29: 200\n",
      "  label 30: 200\n",
      "  label 31: 200\n",
      "  label 32: 200\n",
      "  label 33: 200\n",
      "  label 34: 200\n",
      "  label 35: 200\n",
      "  label 36: 200\n",
      "  label 37: 200\n",
      "  label 38: 200\n",
      "  label 39: 200\n",
      "  label 40: 200\n",
      "  label 41: 200\n",
      "  label 42: 200\n",
      "  label 43: 200\n",
      "  label 44: 200\n",
      "  label 45: 200\n",
      "  label 46: 200\n",
      "  label 47: 529\n",
      "  label 48: 201\n",
      "  label 49: 200\n",
      "model is bert-base-uncased lstm\n",
      "Epoch 1/20\n"
     ]
    },
    {
     "name": "stderr",
     "output_type": "stream",
     "text": [
      "100%|██████████| 761/761 [01:09<00:00, 10.88it/s]\n"
     ]
    },
    {
     "name": "stdout",
     "output_type": "stream",
     "text": [
      "{'val_loss': 1.5083399949208744, 'val_accuracy': 0.6173861620342992, 'precision': 0.6010409896058482, 'recall': 0.6173861620342992, 'f1-score': 0.5884536974764956, 'macro_f1-score': 0.35202995083053523, 'balanced_accuracy': 0.4301706359434153, 'mcc': 0.4915916944737056, 'train_loss': 2.2442874369577415}\n",
      "Epoch 2/20\n"
     ]
    },
    {
     "name": "stderr",
     "output_type": "stream",
     "text": [
      "100%|██████████| 761/761 [01:10<00:00, 10.74it/s]\n"
     ]
    },
    {
     "name": "stdout",
     "output_type": "stream",
     "text": [
      "{'val_loss': 1.3213940400559947, 'val_accuracy': 0.6481371969248965, 'precision': 0.6387955707535292, 'recall': 0.6481371969248965, 'f1-score': 0.6310537704488061, 'macro_f1-score': 0.41783398497864915, 'balanced_accuracy': 0.43485557404560393, 'mcc': 0.5338373634514888, 'train_loss': 1.0435286053455142}\n",
      "Epoch 3/20\n"
     ]
    },
    {
     "name": "stderr",
     "output_type": "stream",
     "text": [
      "100%|██████████| 761/761 [01:10<00:00, 10.76it/s]\n"
     ]
    },
    {
     "name": "stdout",
     "output_type": "stream",
     "text": [
      "{'val_loss': 1.3920289668834434, 'val_accuracy': 0.6191602602010644, 'precision': 0.6452019232254619, 'recall': 0.6191602602010644, 'f1-score': 0.6225957330120707, 'macro_f1-score': 0.4065901485541278, 'balanced_accuracy': 0.44212070153055266, 'mcc': 0.5175163184248676, 'train_loss': 0.7076165449760277}\n",
      "Epoch 4/20\n"
     ]
    },
    {
     "name": "stderr",
     "output_type": "stream",
     "text": [
      "100%|██████████| 761/761 [01:10<00:00, 10.78it/s]\n"
     ]
    },
    {
     "name": "stdout",
     "output_type": "stream",
     "text": [
      "{'val_loss': 1.405962738226045, 'val_accuracy': 0.6463630987581312, 'precision': 0.6748553373176782, 'recall': 0.6463630987581312, 'f1-score': 0.6458068096135726, 'macro_f1-score': 0.4466678441740162, 'balanced_accuracy': 0.47828332638913396, 'mcc': 0.5510374529023849, 'train_loss': 0.5295600395321689}\n",
      "Epoch 5/20\n"
     ]
    },
    {
     "name": "stderr",
     "output_type": "stream",
     "text": [
      "100%|██████████| 761/761 [01:10<00:00, 10.80it/s]\n"
     ]
    },
    {
     "name": "stdout",
     "output_type": "stream",
     "text": [
      "{'val_loss': 1.4092067072414003, 'val_accuracy': 0.6712004730928445, 'precision': 0.664248331650377, 'recall': 0.6712004730928445, 'f1-score': 0.6498381296673219, 'macro_f1-score': 0.4112428133611, 'balanced_accuracy': 0.42534110348872417, 'mcc': 0.5610943151599969, 'train_loss': 0.4152551128035815}\n",
      "Epoch 6/20\n"
     ]
    },
    {
     "name": "stderr",
     "output_type": "stream",
     "text": [
      "100%|██████████| 761/761 [01:10<00:00, 10.80it/s]\n"
     ]
    },
    {
     "name": "stdout",
     "output_type": "stream",
     "text": [
      "{'val_loss': 1.3986435685798806, 'val_accuracy': 0.6688350088704909, 'precision': 0.684809264931221, 'recall': 0.6688350088704909, 'f1-score': 0.6591406370819023, 'macro_f1-score': 0.449879115483572, 'balanced_accuracy': 0.477169267436613, 'mcc': 0.5690482813876265, 'train_loss': 0.3856437418330828}\n",
      "Epoch 7/20\n"
     ]
    },
    {
     "name": "stderr",
     "output_type": "stream",
     "text": [
      "100%|██████████| 761/761 [01:10<00:00, 10.82it/s]\n"
     ]
    },
    {
     "name": "stdout",
     "output_type": "stream",
     "text": [
      "{'val_loss': 1.4677769980340634, 'val_accuracy': 0.6729745712596097, 'precision': 0.6933660362441132, 'recall': 0.6729745712596097, 'f1-score': 0.6684140868510667, 'macro_f1-score': 0.45062407009506983, 'balanced_accuracy': 0.4674706589054789, 'mcc': 0.5779832722493129, 'train_loss': 0.348503862496627}\n",
      "Epoch 8/20\n"
     ]
    },
    {
     "name": "stderr",
     "output_type": "stream",
     "text": [
      "100%|██████████| 761/761 [01:10<00:00, 10.80it/s]\n"
     ]
    },
    {
     "name": "stdout",
     "output_type": "stream",
     "text": [
      "{'val_loss': 1.4867302904713828, 'val_accuracy': 0.651685393258427, 'precision': 0.6829592835153794, 'recall': 0.651685393258427, 'f1-score': 0.6561349437788897, 'macro_f1-score': 0.45608848761920323, 'balanced_accuracy': 0.47642756089694943, 'mcc': 0.5528959960917459, 'train_loss': 0.28247909607554195}\n",
      "Epoch 9/20\n"
     ]
    },
    {
     "name": "stderr",
     "output_type": "stream",
     "text": [
      "100%|██████████| 761/761 [01:10<00:00, 10.79it/s]\n"
     ]
    },
    {
     "name": "stdout",
     "output_type": "stream",
     "text": [
      "{'val_loss': 1.506799060781047, 'val_accuracy': 0.6434062684801892, 'precision': 0.6761630095894333, 'recall': 0.6434062684801892, 'f1-score': 0.6484167217241883, 'macro_f1-score': 0.4445435111240441, 'balanced_accuracy': 0.5022010174995253, 'mcc': 0.5430283409355127, 'train_loss': 0.28932825515582744}\n",
      "Epoch 10/20\n"
     ]
    },
    {
     "name": "stderr",
     "output_type": "stream",
     "text": [
      "100%|██████████| 761/761 [01:10<00:00, 10.72it/s]\n"
     ]
    },
    {
     "name": "stdout",
     "output_type": "stream",
     "text": [
      "{'val_loss': 1.5010948704098754, 'val_accuracy': 0.6729745712596097, 'precision': 0.6751235213668156, 'recall': 0.6729745712596097, 'f1-score': 0.6611661704230969, 'macro_f1-score': 0.43490758031566473, 'balanced_accuracy': 0.45510853065392287, 'mcc': 0.5683902796802768, 'train_loss': 0.26446355197887067}\n",
      "Epoch 11/20\n"
     ]
    },
    {
     "name": "stderr",
     "output_type": "stream",
     "text": [
      "100%|██████████| 761/761 [01:09<00:00, 10.92it/s]\n"
     ]
    },
    {
     "name": "stdout",
     "output_type": "stream",
     "text": [
      "{'val_loss': 1.5763043291726202, 'val_accuracy': 0.6753400354819633, 'precision': 0.6636518104320954, 'recall': 0.6753400354819633, 'f1-score': 0.6574513989633903, 'macro_f1-score': 0.41528835732990094, 'balanced_accuracy': 0.425230282775925, 'mcc': 0.5651625589054203, 'train_loss': 0.2431891953912851}\n",
      "Early stopping.\n",
      "\n",
      "[Fold 5]\n",
      "Label distribution after resampling:\n",
      "  label 0: 2000\n",
      "  label 1: 200\n",
      "  label 2: 200\n",
      "  label 3: 200\n",
      "  label 4: 205\n",
      "  label 5: 200\n",
      "  label 6: 200\n",
      "  label 7: 200\n",
      "  label 8: 200\n",
      "  label 9: 200\n",
      "  label 10: 200\n",
      "  label 11: 200\n",
      "  label 12: 200\n",
      "  label 13: 200\n",
      "  label 14: 200\n",
      "  label 15: 200\n",
      "  label 16: 200\n",
      "  label 17: 231\n",
      "  label 18: 200\n",
      "  label 19: 200\n",
      "  label 20: 200\n",
      "  label 21: 200\n",
      "  label 22: 200\n",
      "  label 23: 200\n",
      "  label 24: 200\n",
      "  label 25: 200\n",
      "  label 26: 200\n",
      "  label 27: 200\n",
      "  label 28: 200\n",
      "  label 29: 200\n",
      "  label 30: 200\n",
      "  label 31: 200\n",
      "  label 32: 200\n",
      "  label 33: 200\n",
      "  label 34: 200\n",
      "  label 35: 200\n",
      "  label 36: 200\n",
      "  label 37: 200\n",
      "  label 38: 200\n",
      "  label 39: 200\n",
      "  label 40: 200\n",
      "  label 41: 200\n",
      "  label 42: 200\n",
      "  label 43: 200\n",
      "  label 44: 200\n",
      "  label 45: 200\n",
      "  label 46: 200\n",
      "  label 47: 529\n",
      "  label 48: 202\n",
      "  label 49: 200\n",
      "model is bert-base-uncased lstm\n",
      "Epoch 1/20\n"
     ]
    },
    {
     "name": "stderr",
     "output_type": "stream",
     "text": [
      "100%|██████████| 761/761 [01:07<00:00, 11.24it/s]\n"
     ]
    },
    {
     "name": "stdout",
     "output_type": "stream",
     "text": [
      "{'val_loss': 1.6396982000683837, 'val_accuracy': 0.5994082840236686, 'precision': 0.5975186867995649, 'recall': 0.5994082840236686, 'f1-score': 0.5705814045257521, 'macro_f1-score': 0.30974014110960263, 'balanced_accuracy': 0.3636001160899996, 'mcc': 0.46789854196519154, 'train_loss': 2.2308342781862667}\n",
      "Epoch 2/20\n"
     ]
    },
    {
     "name": "stderr",
     "output_type": "stream",
     "text": [
      "100%|██████████| 761/761 [01:07<00:00, 11.24it/s]\n"
     ]
    },
    {
     "name": "stdout",
     "output_type": "stream",
     "text": [
      "{'val_loss': 1.4550656963069484, 'val_accuracy': 0.6278106508875739, 'precision': 0.6752161575533805, 'recall': 0.6278106508875739, 'f1-score': 0.6226242920065774, 'macro_f1-score': 0.3588552872758546, 'balanced_accuracy': 0.4087070922328525, 'mcc': 0.5144715826154974, 'train_loss': 1.069014468777352}\n",
      "Epoch 3/20\n"
     ]
    },
    {
     "name": "stderr",
     "output_type": "stream",
     "text": [
      "100%|██████████| 761/761 [01:07<00:00, 11.25it/s]\n"
     ]
    },
    {
     "name": "stdout",
     "output_type": "stream",
     "text": [
      "{'val_loss': 1.378840778515024, 'val_accuracy': 0.6520710059171597, 'precision': 0.6767783101904313, 'recall': 0.6520710059171597, 'f1-score': 0.6488065674956978, 'macro_f1-score': 0.36991920228493547, 'balanced_accuracy': 0.37630545081412864, 'mcc': 0.5375859960644265, 'train_loss': 0.7132411451909921}\n",
      "Epoch 4/20\n"
     ]
    },
    {
     "name": "stderr",
     "output_type": "stream",
     "text": [
      "100%|██████████| 761/761 [01:07<00:00, 11.24it/s]\n"
     ]
    },
    {
     "name": "stdout",
     "output_type": "stream",
     "text": [
      "{'val_loss': 1.4176546315539558, 'val_accuracy': 0.6520710059171597, 'precision': 0.6839413927896397, 'recall': 0.6520710059171597, 'f1-score': 0.6474042754482912, 'macro_f1-score': 0.3733298607703104, 'balanced_accuracy': 0.38924332950265933, 'mcc': 0.5504227088100312, 'train_loss': 0.5362985755871301}\n",
      "Epoch 5/20\n"
     ]
    },
    {
     "name": "stderr",
     "output_type": "stream",
     "text": [
      "100%|██████████| 761/761 [01:08<00:00, 11.19it/s]\n"
     ]
    },
    {
     "name": "stdout",
     "output_type": "stream",
     "text": [
      "{'val_loss': 1.6022356152534485, 'val_accuracy': 0.6183431952662722, 'precision': 0.6593145025508915, 'recall': 0.6183431952662722, 'f1-score': 0.62420504405565, 'macro_f1-score': 0.35662516782440706, 'balanced_accuracy': 0.3809732818593531, 'mcc': 0.5190790267836461, 'train_loss': 0.42911693121645594}\n",
      "Epoch 6/20\n"
     ]
    },
    {
     "name": "stderr",
     "output_type": "stream",
     "text": [
      "100%|██████████| 761/761 [01:07<00:00, 11.23it/s]\n"
     ]
    },
    {
     "name": "stdout",
     "output_type": "stream",
     "text": [
      "{'val_loss': 1.4709777753308135, 'val_accuracy': 0.657396449704142, 'precision': 0.679894158097059, 'recall': 0.657396449704142, 'f1-score': 0.6537612222073678, 'macro_f1-score': 0.3963174245359653, 'balanced_accuracy': 0.4116034198059142, 'mcc': 0.5612351503220712, 'train_loss': 0.4192525645260272}\n",
      "Epoch 7/20\n"
     ]
    },
    {
     "name": "stderr",
     "output_type": "stream",
     "text": [
      "100%|██████████| 761/761 [01:07<00:00, 11.20it/s]\n"
     ]
    },
    {
     "name": "stdout",
     "output_type": "stream",
     "text": [
      "{'val_loss': 1.441194715646078, 'val_accuracy': 0.6680473372781065, 'precision': 0.6722269970812424, 'recall': 0.6680473372781065, 'f1-score': 0.6616635725533655, 'macro_f1-score': 0.4025770224530635, 'balanced_accuracy': 0.4029332195165932, 'mcc': 0.5647034102693339, 'train_loss': 0.3240756776536302}\n",
      "Epoch 8/20\n"
     ]
    },
    {
     "name": "stderr",
     "output_type": "stream",
     "text": [
      "100%|██████████| 761/761 [01:07<00:00, 11.23it/s]\n"
     ]
    },
    {
     "name": "stdout",
     "output_type": "stream",
     "text": [
      "{'val_loss': 1.5055899991179413, 'val_accuracy': 0.6621301775147929, 'precision': 0.668183056486116, 'recall': 0.6621301775147929, 'f1-score': 0.6521556022172866, 'macro_f1-score': 0.373844442257782, 'balanced_accuracy': 0.37984514333734337, 'mcc': 0.5564840493069151, 'train_loss': 0.2985935306308715}\n",
      "Epoch 9/20\n"
     ]
    },
    {
     "name": "stderr",
     "output_type": "stream",
     "text": [
      "100%|██████████| 761/761 [01:07<00:00, 11.23it/s]\n"
     ]
    },
    {
     "name": "stdout",
     "output_type": "stream",
     "text": [
      "{'val_loss': 1.540634626487516, 'val_accuracy': 0.6644970414201183, 'precision': 0.666763320847308, 'recall': 0.6644970414201183, 'f1-score': 0.6521536780787982, 'macro_f1-score': 0.360909635323548, 'balanced_accuracy': 0.3613234855845541, 'mcc': 0.5572983551446129, 'train_loss': 0.298939805514572}\n",
      "Epoch 10/20\n"
     ]
    },
    {
     "name": "stderr",
     "output_type": "stream",
     "text": [
      "100%|██████████| 761/761 [01:07<00:00, 11.20it/s]\n"
     ]
    },
    {
     "name": "stdout",
     "output_type": "stream",
     "text": [
      "{'val_loss': 1.6254541941408842, 'val_accuracy': 0.665680473372781, 'precision': 0.663137352722756, 'recall': 0.665680473372781, 'f1-score': 0.655889350005116, 'macro_f1-score': 0.36950218047400507, 'balanced_accuracy': 0.36573353703764305, 'mcc': 0.5611596605773443, 'train_loss': 0.25799658692609545}\n",
      "Early stopping.\n",
      "\n",
      " === bert-base-uncased + lstm + ros Final 10-fold Cross-Validation Results ===\n",
      "Total time: 3804 seconds\n",
      "Total time: 1 hrs 3 mins 24 secs\n",
      "val_loss: 1.5024\n",
      "val_accuracy: 0.6518\n",
      "precision: 0.6679\n",
      "recall: 0.6518\n",
      "f1-score: 0.6483\n",
      "macro_f1-score: 0.4133\n",
      "balanced_accuracy: 0.4287\n",
      "mcc: 0.5466\n",
      "train_loss: 0.3530\n",
      "▶ Running: bert-base-uncased + cnn + ros\n",
      "tokenizer is bert-base-uncased\n",
      "Using device: cuda\n",
      "CUDA Available: True\n",
      "CUDA Device: NVIDIA GeForce RTX 5070 Ti\n",
      "Current GPU Memory Allocated: 0.02 GB\n",
      "Current GPU Memory Cached: 3.09 GB\n",
      "\n",
      "[Fold 1]\n",
      "Label distribution after resampling:\n",
      "  label 0: 2000\n",
      "  label 1: 200\n",
      "  label 2: 200\n",
      "  label 3: 200\n",
      "  label 4: 205\n",
      "  label 5: 200\n",
      "  label 6: 200\n",
      "  label 7: 200\n",
      "  label 8: 200\n",
      "  label 9: 200\n",
      "  label 10: 200\n",
      "  label 11: 200\n",
      "  label 12: 200\n",
      "  label 13: 200\n",
      "  label 14: 200\n",
      "  label 15: 200\n",
      "  label 16: 200\n",
      "  label 17: 231\n",
      "  label 18: 200\n",
      "  label 19: 200\n",
      "  label 20: 200\n",
      "  label 21: 200\n",
      "  label 22: 200\n",
      "  label 23: 200\n",
      "  label 24: 200\n",
      "  label 25: 200\n",
      "  label 26: 200\n",
      "  label 27: 200\n",
      "  label 28: 200\n",
      "  label 29: 200\n",
      "  label 30: 200\n",
      "  label 31: 200\n",
      "  label 32: 200\n",
      "  label 33: 200\n",
      "  label 34: 200\n",
      "  label 35: 200\n",
      "  label 36: 200\n",
      "  label 37: 200\n",
      "  label 38: 200\n",
      "  label 39: 200\n",
      "  label 40: 200\n",
      "  label 41: 200\n",
      "  label 42: 200\n",
      "  label 43: 200\n",
      "  label 44: 200\n",
      "  label 45: 200\n",
      "  label 46: 200\n",
      "  label 47: 529\n",
      "  label 48: 202\n",
      "  label 49: 200\n",
      "model is bert-base-uncased cnn\n",
      "Epoch 1/20\n"
     ]
    },
    {
     "name": "stderr",
     "output_type": "stream",
     "text": [
      "100%|██████████| 761/761 [01:04<00:00, 11.75it/s]\n"
     ]
    },
    {
     "name": "stdout",
     "output_type": "stream",
     "text": [
      "{'val_loss': 1.400144691737193, 'val_accuracy': 0.6138379657007688, 'precision': 0.611583096824266, 'recall': 0.6138379657007688, 'f1-score': 0.5914968147002646, 'macro_f1-score': 0.35013044842626834, 'balanced_accuracy': 0.4039411334777931, 'mcc': 0.49765793514199824, 'train_loss': 1.965535717004232}\n",
      "Epoch 2/20\n"
     ]
    },
    {
     "name": "stderr",
     "output_type": "stream",
     "text": [
      "100%|██████████| 761/761 [01:04<00:00, 11.74it/s]\n"
     ]
    },
    {
     "name": "stdout",
     "output_type": "stream",
     "text": [
      "{'val_loss': 1.3218714670752578, 'val_accuracy': 0.6469544648137197, 'precision': 0.6803871470564798, 'recall': 0.6469544648137197, 'f1-score': 0.6466383399754245, 'macro_f1-score': 0.43195744964051613, 'balanced_accuracy': 0.4627750303290162, 'mcc': 0.5422073681802257, 'train_loss': 0.6773189460704502}\n",
      "Epoch 3/20\n"
     ]
    },
    {
     "name": "stderr",
     "output_type": "stream",
     "text": [
      "100%|██████████| 761/761 [01:04<00:00, 11.77it/s]\n"
     ]
    },
    {
     "name": "stdout",
     "output_type": "stream",
     "text": [
      "{'val_loss': 1.4228260466512643, 'val_accuracy': 0.6398580721466588, 'precision': 0.6599943002354504, 'recall': 0.6398580721466588, 'f1-score': 0.6375443077845047, 'macro_f1-score': 0.41249407954719564, 'balanced_accuracy': 0.4029489804010425, 'mcc': 0.5307152820714677, 'train_loss': 0.40605852682677035}\n",
      "Epoch 4/20\n"
     ]
    },
    {
     "name": "stderr",
     "output_type": "stream",
     "text": [
      "100%|██████████| 761/761 [01:04<00:00, 11.76it/s]\n"
     ]
    },
    {
     "name": "stdout",
     "output_type": "stream",
     "text": [
      "{'val_loss': 1.4497657114604734, 'val_accuracy': 0.6599645180366647, 'precision': 0.6667704635749251, 'recall': 0.6599645180366647, 'f1-score': 0.6532683877110315, 'macro_f1-score': 0.43707827996141363, 'balanced_accuracy': 0.4243641866609358, 'mcc': 0.5487476660549453, 'train_loss': 0.30068035043271824}\n",
      "Epoch 5/20\n"
     ]
    },
    {
     "name": "stderr",
     "output_type": "stream",
     "text": [
      "100%|██████████| 761/761 [01:04<00:00, 11.76it/s]\n"
     ]
    },
    {
     "name": "stdout",
     "output_type": "stream",
     "text": [
      "{'val_loss': 1.6111006413428288, 'val_accuracy': 0.638675340035482, 'precision': 0.6601334476761319, 'recall': 0.638675340035482, 'f1-score': 0.6392060291508652, 'macro_f1-score': 0.41371917294734756, 'balanced_accuracy': 0.4310264234809461, 'mcc': 0.5395005658741816, 'train_loss': 0.2789550910314665}\n",
      "Epoch 6/20\n"
     ]
    },
    {
     "name": "stderr",
     "output_type": "stream",
     "text": [
      "100%|██████████| 761/761 [01:04<00:00, 11.74it/s]\n"
     ]
    },
    {
     "name": "stdout",
     "output_type": "stream",
     "text": [
      "{'val_loss': 1.6628263674254686, 'val_accuracy': 0.6652868125369604, 'precision': 0.6688441537889201, 'recall': 0.6652868125369604, 'f1-score': 0.6511948494447141, 'macro_f1-score': 0.4265501498522138, 'balanced_accuracy': 0.40348992601304734, 'mcc': 0.549307548850987, 'train_loss': 0.23651854372883163}\n",
      "Epoch 7/20\n"
     ]
    },
    {
     "name": "stderr",
     "output_type": "stream",
     "text": [
      "100%|██████████| 761/761 [01:04<00:00, 11.74it/s]\n"
     ]
    },
    {
     "name": "stdout",
     "output_type": "stream",
     "text": [
      "{'val_loss': 1.707171062815864, 'val_accuracy': 0.6552335895919574, 'precision': 0.6777120736805821, 'recall': 0.6552335895919574, 'f1-score': 0.6518009035268182, 'macro_f1-score': 0.41997395876711585, 'balanced_accuracy': 0.42232285515037016, 'mcc': 0.5517482065839439, 'train_loss': 0.23094698432502528}\n",
      "Early stopping.\n",
      "\n",
      "[Fold 2]\n",
      "Label distribution after resampling:\n",
      "  label 0: 2000\n",
      "  label 1: 200\n",
      "  label 2: 200\n",
      "  label 3: 200\n",
      "  label 4: 206\n",
      "  label 5: 200\n",
      "  label 6: 200\n",
      "  label 7: 200\n",
      "  label 8: 200\n",
      "  label 9: 200\n",
      "  label 10: 200\n",
      "  label 11: 200\n",
      "  label 12: 200\n",
      "  label 13: 200\n",
      "  label 14: 200\n",
      "  label 15: 200\n",
      "  label 16: 200\n",
      "  label 17: 231\n",
      "  label 18: 200\n",
      "  label 19: 200\n",
      "  label 20: 200\n",
      "  label 21: 200\n",
      "  label 22: 200\n",
      "  label 23: 200\n",
      "  label 24: 200\n",
      "  label 25: 200\n",
      "  label 26: 200\n",
      "  label 27: 200\n",
      "  label 28: 200\n",
      "  label 29: 200\n",
      "  label 30: 200\n",
      "  label 31: 200\n",
      "  label 32: 200\n",
      "  label 33: 200\n",
      "  label 34: 200\n",
      "  label 35: 200\n",
      "  label 36: 200\n",
      "  label 37: 200\n",
      "  label 38: 200\n",
      "  label 39: 200\n",
      "  label 40: 200\n",
      "  label 41: 200\n",
      "  label 42: 200\n",
      "  label 43: 200\n",
      "  label 44: 200\n",
      "  label 45: 200\n",
      "  label 46: 200\n",
      "  label 47: 528\n",
      "  label 48: 202\n",
      "  label 49: 200\n",
      "model is bert-base-uncased cnn\n",
      "Epoch 1/20\n"
     ]
    },
    {
     "name": "stderr",
     "output_type": "stream",
     "text": [
      "100%|██████████| 761/761 [01:04<00:00, 11.78it/s]\n"
     ]
    },
    {
     "name": "stdout",
     "output_type": "stream",
     "text": [
      "{'val_loss': 1.3141194888443317, 'val_accuracy': 0.6475458308693081, 'precision': 0.6408446498427403, 'recall': 0.6475458308693081, 'f1-score': 0.6243131070961756, 'macro_f1-score': 0.3920421094898113, 'balanced_accuracy': 0.41779401652950154, 'mcc': 0.5243932899555928, 'train_loss': 1.9195255303899812}\n",
      "Epoch 2/20\n"
     ]
    },
    {
     "name": "stderr",
     "output_type": "stream",
     "text": [
      "100%|██████████| 761/761 [01:04<00:00, 11.76it/s]\n"
     ]
    },
    {
     "name": "stdout",
     "output_type": "stream",
     "text": [
      "{'val_loss': 1.3052517378105308, 'val_accuracy': 0.6706091070372561, 'precision': 0.6718579686184445, 'recall': 0.6706091070372561, 'f1-score': 0.6605068547855057, 'macro_f1-score': 0.4336053798034554, 'balanced_accuracy': 0.45779341971259674, 'mcc': 0.5668831375190804, 'train_loss': 0.6427199852000555}\n",
      "Epoch 3/20\n"
     ]
    },
    {
     "name": "stderr",
     "output_type": "stream",
     "text": [
      "100%|██████████| 761/761 [01:04<00:00, 11.78it/s]\n"
     ]
    },
    {
     "name": "stdout",
     "output_type": "stream",
     "text": [
      "{'val_loss': 1.439227023495818, 'val_accuracy': 0.6587817859254879, 'precision': 0.6802446143748229, 'recall': 0.6587817859254879, 'f1-score': 0.6570725925024623, 'macro_f1-score': 0.42012620725731686, 'balanced_accuracy': 0.44822760253368804, 'mcc': 0.5571312656683334, 'train_loss': 0.38547590638800927}\n",
      "Epoch 4/20\n"
     ]
    },
    {
     "name": "stderr",
     "output_type": "stream",
     "text": [
      "100%|██████████| 761/761 [01:04<00:00, 11.75it/s]\n"
     ]
    },
    {
     "name": "stdout",
     "output_type": "stream",
     "text": [
      "{'val_loss': 1.575367638524973, 'val_accuracy': 0.654642223536369, 'precision': 0.68723529756364, 'recall': 0.654642223536369, 'f1-score': 0.6521486558833377, 'macro_f1-score': 0.3960942163860923, 'balanced_accuracy': 0.4350746596039929, 'mcc': 0.5520443309865765, 'train_loss': 0.30458689723947086}\n",
      "Epoch 5/20\n"
     ]
    },
    {
     "name": "stderr",
     "output_type": "stream",
     "text": [
      "100%|██████████| 761/761 [01:04<00:00, 11.76it/s]\n"
     ]
    },
    {
     "name": "stdout",
     "output_type": "stream",
     "text": [
      "{'val_loss': 1.6501007687370732, 'val_accuracy': 0.6641040804257835, 'precision': 0.6687815179397771, 'recall': 0.6641040804257835, 'f1-score': 0.6545534486265585, 'macro_f1-score': 0.4080543951798544, 'balanced_accuracy': 0.420760305957475, 'mcc': 0.5573129038032949, 'train_loss': 0.25879436683487367}\n",
      "Early stopping.\n",
      "\n",
      "[Fold 3]\n",
      "Label distribution after resampling:\n",
      "  label 0: 2000\n",
      "  label 1: 200\n",
      "  label 2: 200\n",
      "  label 3: 200\n",
      "  label 4: 206\n",
      "  label 5: 200\n",
      "  label 6: 200\n",
      "  label 7: 200\n",
      "  label 8: 200\n",
      "  label 9: 200\n",
      "  label 10: 200\n",
      "  label 11: 200\n",
      "  label 12: 200\n",
      "  label 13: 200\n",
      "  label 14: 200\n",
      "  label 15: 200\n",
      "  label 16: 200\n",
      "  label 17: 231\n",
      "  label 18: 200\n",
      "  label 19: 200\n",
      "  label 20: 200\n",
      "  label 21: 200\n",
      "  label 22: 200\n",
      "  label 23: 200\n",
      "  label 24: 200\n",
      "  label 25: 200\n",
      "  label 26: 200\n",
      "  label 27: 200\n",
      "  label 28: 200\n",
      "  label 29: 200\n",
      "  label 30: 200\n",
      "  label 31: 200\n",
      "  label 32: 200\n",
      "  label 33: 200\n",
      "  label 34: 200\n",
      "  label 35: 200\n",
      "  label 36: 200\n",
      "  label 37: 200\n",
      "  label 38: 200\n",
      "  label 39: 200\n",
      "  label 40: 200\n",
      "  label 41: 200\n",
      "  label 42: 200\n",
      "  label 43: 200\n",
      "  label 44: 200\n",
      "  label 45: 200\n",
      "  label 46: 200\n",
      "  label 47: 529\n",
      "  label 48: 201\n",
      "  label 49: 200\n",
      "model is bert-base-uncased cnn\n",
      "Epoch 1/20\n"
     ]
    },
    {
     "name": "stderr",
     "output_type": "stream",
     "text": [
      "100%|██████████| 761/761 [01:04<00:00, 11.76it/s]\n"
     ]
    },
    {
     "name": "stdout",
     "output_type": "stream",
     "text": [
      "{'val_loss': 1.3518933361431338, 'val_accuracy': 0.6244825547013602, 'precision': 0.6357401164369684, 'recall': 0.6244825547013602, 'f1-score': 0.6061813693234432, 'macro_f1-score': 0.3251336413906478, 'balanced_accuracy': 0.34690135789024035, 'mcc': 0.49265097526553614, 'train_loss': 1.9111621387293085}\n",
      "Epoch 2/20\n"
     ]
    },
    {
     "name": "stderr",
     "output_type": "stream",
     "text": [
      "100%|██████████| 761/761 [01:04<00:00, 11.75it/s]\n"
     ]
    },
    {
     "name": "stdout",
     "output_type": "stream",
     "text": [
      "{'val_loss': 1.3992548078860876, 'val_accuracy': 0.6203429923122413, 'precision': 0.6618617668175647, 'recall': 0.6203429923122413, 'f1-score': 0.6259042655910818, 'macro_f1-score': 0.34893783140567597, 'balanced_accuracy': 0.3810063167252203, 'mcc': 0.5100601872169512, 'train_loss': 0.6241134042054924}\n",
      "Epoch 3/20\n"
     ]
    },
    {
     "name": "stderr",
     "output_type": "stream",
     "text": [
      "100%|██████████| 761/761 [01:04<00:00, 11.76it/s]\n"
     ]
    },
    {
     "name": "stdout",
     "output_type": "stream",
     "text": [
      "{'val_loss': 1.452484684732725, 'val_accuracy': 0.6363098758131284, 'precision': 0.6577334482176472, 'recall': 0.6363098758131284, 'f1-score': 0.6382701025759334, 'macro_f1-score': 0.34214220890201913, 'balanced_accuracy': 0.3682063520062524, 'mcc': 0.5285027006799577, 'train_loss': 0.3658234844530067}\n",
      "Epoch 4/20\n"
     ]
    },
    {
     "name": "stderr",
     "output_type": "stream",
     "text": [
      "100%|██████████| 761/761 [01:04<00:00, 11.74it/s]\n"
     ]
    },
    {
     "name": "stdout",
     "output_type": "stream",
     "text": [
      "{'val_loss': 1.6355480596704304, 'val_accuracy': 0.6333530455351862, 'precision': 0.6707892154185109, 'recall': 0.6333530455351862, 'f1-score': 0.6364018828096161, 'macro_f1-score': 0.3486856686773319, 'balanced_accuracy': 0.37416585685564585, 'mcc': 0.5331618468192186, 'train_loss': 0.2784680950084552}\n",
      "Epoch 5/20\n"
     ]
    },
    {
     "name": "stderr",
     "output_type": "stream",
     "text": [
      "100%|██████████| 761/761 [01:04<00:00, 11.75it/s]\n"
     ]
    },
    {
     "name": "stdout",
     "output_type": "stream",
     "text": [
      "{'val_loss': 1.6982777087755923, 'val_accuracy': 0.6522767593140154, 'precision': 0.6483186112305087, 'recall': 0.6522767593140154, 'f1-score': 0.641257217681308, 'macro_f1-score': 0.35446581553848105, 'balanced_accuracy': 0.36653679583848253, 'mcc': 0.546221849184472, 'train_loss': 0.23687705608469076}\n",
      "Epoch 6/20\n"
     ]
    },
    {
     "name": "stderr",
     "output_type": "stream",
     "text": [
      "100%|██████████| 761/761 [01:04<00:00, 11.76it/s]\n"
     ]
    },
    {
     "name": "stdout",
     "output_type": "stream",
     "text": [
      "{'val_loss': 1.6764565312637474, 'val_accuracy': 0.644589000591366, 'precision': 0.6474235900972715, 'recall': 0.644589000591366, 'f1-score': 0.6367077221438531, 'macro_f1-score': 0.3556409145479196, 'balanced_accuracy': 0.36965469150449465, 'mcc': 0.532635165697284, 'train_loss': 0.24448806886425373}\n",
      "Epoch 7/20\n"
     ]
    },
    {
     "name": "stderr",
     "output_type": "stream",
     "text": [
      "100%|██████████| 761/761 [01:04<00:00, 11.75it/s]\n"
     ]
    },
    {
     "name": "stdout",
     "output_type": "stream",
     "text": [
      "{'val_loss': 1.8375674400408313, 'val_accuracy': 0.6528681253696038, 'precision': 0.6368279171183862, 'recall': 0.6528681253696038, 'f1-score': 0.6299987771156659, 'macro_f1-score': 0.3357703230104447, 'balanced_accuracy': 0.3404401221320514, 'mcc': 0.5318683957209275, 'train_loss': 0.21466318072347917}\n",
      "Epoch 8/20\n"
     ]
    },
    {
     "name": "stderr",
     "output_type": "stream",
     "text": [
      "100%|██████████| 761/761 [01:04<00:00, 11.76it/s]\n"
     ]
    },
    {
     "name": "stdout",
     "output_type": "stream",
     "text": [
      "{'val_loss': 1.9338987343153864, 'val_accuracy': 0.6162034299231224, 'precision': 0.6490244233518822, 'recall': 0.6162034299231224, 'f1-score': 0.6229188824379583, 'macro_f1-score': 0.36313284611869995, 'balanced_accuracy': 0.39195751637388726, 'mcc': 0.5190630415283735, 'train_loss': 0.2021913846008389}\n",
      "Epoch 9/20\n"
     ]
    },
    {
     "name": "stderr",
     "output_type": "stream",
     "text": [
      "100%|██████████| 761/761 [01:04<00:00, 11.75it/s]\n"
     ]
    },
    {
     "name": "stdout",
     "output_type": "stream",
     "text": [
      "{'val_loss': 1.8244028099865284, 'val_accuracy': 0.6599645180366647, 'precision': 0.6565695974121967, 'recall': 0.6599645180366647, 'f1-score': 0.6453094501207979, 'macro_f1-score': 0.36945204630495326, 'balanced_accuracy': 0.3634956879269081, 'mcc': 0.5463878690433405, 'train_loss': 0.19602318986153178}\n",
      "Epoch 10/20\n"
     ]
    },
    {
     "name": "stderr",
     "output_type": "stream",
     "text": [
      "100%|██████████| 761/761 [01:04<00:00, 11.76it/s]\n"
     ]
    },
    {
     "name": "stdout",
     "output_type": "stream",
     "text": [
      "{'val_loss': 2.043097932946007, 'val_accuracy': 0.6268480189237138, 'precision': 0.660188450017025, 'recall': 0.6268480189237138, 'f1-score': 0.6294268106779284, 'macro_f1-score': 0.35778692318847305, 'balanced_accuracy': 0.3851648917533367, 'mcc': 0.5266220081475077, 'train_loss': 0.19894755327582736}\n",
      "Epoch 11/20\n"
     ]
    },
    {
     "name": "stderr",
     "output_type": "stream",
     "text": [
      "100%|██████████| 761/761 [01:04<00:00, 11.73it/s]\n"
     ]
    },
    {
     "name": "stdout",
     "output_type": "stream",
     "text": [
      "{'val_loss': 1.8399981479599792, 'val_accuracy': 0.6499112950916618, 'precision': 0.6627673896949101, 'recall': 0.6499112950916618, 'f1-score': 0.6476151816163086, 'macro_f1-score': 0.3808855093680249, 'balanced_accuracy': 0.3947067920120839, 'mcc': 0.5454152936746093, 'train_loss': 0.19914902797419792}\n",
      "Epoch 12/20\n"
     ]
    },
    {
     "name": "stderr",
     "output_type": "stream",
     "text": [
      "100%|██████████| 761/761 [01:04<00:00, 11.75it/s]\n"
     ]
    },
    {
     "name": "stdout",
     "output_type": "stream",
     "text": [
      "{'val_loss': 1.9429979993487305, 'val_accuracy': 0.6345357776463632, 'precision': 0.6682232241846213, 'recall': 0.6345357776463632, 'f1-score': 0.6384766398096114, 'macro_f1-score': 0.3736883701071224, 'balanced_accuracy': 0.4075349625634626, 'mcc': 0.5398601990725359, 'train_loss': 0.19643588988223626}\n",
      "Epoch 13/20\n"
     ]
    },
    {
     "name": "stderr",
     "output_type": "stream",
     "text": [
      "100%|██████████| 761/761 [01:04<00:00, 11.76it/s]\n"
     ]
    },
    {
     "name": "stdout",
     "output_type": "stream",
     "text": [
      "{'val_loss': 1.98484361565338, 'val_accuracy': 0.6475458308693081, 'precision': 0.649407824949996, 'recall': 0.6475458308693081, 'f1-score': 0.6386502430409878, 'macro_f1-score': 0.372778550799113, 'balanced_accuracy': 0.3827323541237105, 'mcc': 0.536477429577904, 'train_loss': 0.17848473679397925}\n",
      "Epoch 14/20\n"
     ]
    },
    {
     "name": "stderr",
     "output_type": "stream",
     "text": [
      "100%|██████████| 761/761 [01:04<00:00, 11.74it/s]\n"
     ]
    },
    {
     "name": "stdout",
     "output_type": "stream",
     "text": [
      "{'val_loss': 2.0084034230698444, 'val_accuracy': 0.6717918391484329, 'precision': 0.6642307934056007, 'recall': 0.6717918391484329, 'f1-score': 0.6560603363391213, 'macro_f1-score': 0.40072845472200425, 'balanced_accuracy': 0.39049429871216723, 'mcc': 0.5619693017971463, 'train_loss': 0.16939996261380333}\n",
      "Epoch 15/20\n"
     ]
    },
    {
     "name": "stderr",
     "output_type": "stream",
     "text": [
      "100%|██████████| 761/761 [01:04<00:00, 11.74it/s]\n"
     ]
    },
    {
     "name": "stdout",
     "output_type": "stream",
     "text": [
      "{'val_loss': 1.8326297001737468, 'val_accuracy': 0.6552335895919574, 'precision': 0.6619751254083618, 'recall': 0.6552335895919574, 'f1-score': 0.6473023813918838, 'macro_f1-score': 0.3688416908875816, 'balanced_accuracy': 0.3746625967175002, 'mcc': 0.5482780665175822, 'train_loss': 0.19218917410198413}\n",
      "Epoch 16/20\n"
     ]
    },
    {
     "name": "stderr",
     "output_type": "stream",
     "text": [
      "100%|██████████| 761/761 [01:04<00:00, 11.74it/s]\n"
     ]
    },
    {
     "name": "stdout",
     "output_type": "stream",
     "text": [
      "{'val_loss': 2.113897423418063, 'val_accuracy': 0.6463630987581312, 'precision': 0.6634754213735651, 'recall': 0.6463630987581312, 'f1-score': 0.6400488198355999, 'macro_f1-score': 0.36080603591734506, 'balanced_accuracy': 0.37207659026453266, 'mcc': 0.5374599933159007, 'train_loss': 0.17431279062874783}\n",
      "Epoch 17/20\n"
     ]
    },
    {
     "name": "stderr",
     "output_type": "stream",
     "text": [
      "100%|██████████| 761/761 [01:04<00:00, 11.76it/s]\n"
     ]
    },
    {
     "name": "stdout",
     "output_type": "stream",
     "text": [
      "{'val_loss': 2.0389004209131563, 'val_accuracy': 0.6593731519810763, 'precision': 0.6574936139217745, 'recall': 0.6593731519810763, 'f1-score': 0.6435773370409649, 'macro_f1-score': 0.3696818505276346, 'balanced_accuracy': 0.38032618812957175, 'mcc': 0.5482528067057221, 'train_loss': 0.17928066778421384}\n",
      "Early stopping.\n",
      "\n",
      "[Fold 4]\n",
      "Label distribution after resampling:\n",
      "  label 0: 2000\n",
      "  label 1: 200\n",
      "  label 2: 200\n",
      "  label 3: 200\n",
      "  label 4: 206\n",
      "  label 5: 200\n",
      "  label 6: 200\n",
      "  label 7: 200\n",
      "  label 8: 200\n",
      "  label 9: 200\n",
      "  label 10: 200\n",
      "  label 11: 200\n",
      "  label 12: 200\n",
      "  label 13: 200\n",
      "  label 14: 200\n",
      "  label 15: 200\n",
      "  label 16: 200\n",
      "  label 17: 232\n",
      "  label 18: 200\n",
      "  label 19: 200\n",
      "  label 20: 200\n",
      "  label 21: 200\n",
      "  label 22: 200\n",
      "  label 23: 200\n",
      "  label 24: 200\n",
      "  label 25: 200\n",
      "  label 26: 200\n",
      "  label 27: 200\n",
      "  label 28: 200\n",
      "  label 29: 200\n",
      "  label 30: 200\n",
      "  label 31: 200\n",
      "  label 32: 200\n",
      "  label 33: 200\n",
      "  label 34: 200\n",
      "  label 35: 200\n",
      "  label 36: 200\n",
      "  label 37: 200\n",
      "  label 38: 200\n",
      "  label 39: 200\n",
      "  label 40: 200\n",
      "  label 41: 200\n",
      "  label 42: 200\n",
      "  label 43: 200\n",
      "  label 44: 200\n",
      "  label 45: 200\n",
      "  label 46: 200\n",
      "  label 47: 529\n",
      "  label 48: 201\n",
      "  label 49: 200\n",
      "model is bert-base-uncased cnn\n",
      "Epoch 1/20\n"
     ]
    },
    {
     "name": "stderr",
     "output_type": "stream",
     "text": [
      "100%|██████████| 761/761 [01:04<00:00, 11.73it/s]\n"
     ]
    },
    {
     "name": "stdout",
     "output_type": "stream",
     "text": [
      "{'val_loss': 1.3227298976677768, 'val_accuracy': 0.6061502069781195, 'precision': 0.642468458426769, 'recall': 0.6061502069781195, 'f1-score': 0.6085701197916135, 'macro_f1-score': 0.39024324104947683, 'balanced_accuracy': 0.4499449605745612, 'mcc': 0.5000947186966227, 'train_loss': 2.011967922322227}\n",
      "Epoch 2/20\n"
     ]
    },
    {
     "name": "stderr",
     "output_type": "stream",
     "text": [
      "100%|██████████| 761/761 [01:04<00:00, 11.74it/s]\n"
     ]
    },
    {
     "name": "stdout",
     "output_type": "stream",
     "text": [
      "{'val_loss': 1.3117080325225614, 'val_accuracy': 0.6434062684801892, 'precision': 0.6866639617178625, 'recall': 0.6434062684801892, 'f1-score': 0.6487797306858649, 'macro_f1-score': 0.44026101289902053, 'balanced_accuracy': 0.47098193867056565, 'mcc': 0.543521983579043, 'train_loss': 0.639450713977433}\n",
      "Epoch 3/20\n"
     ]
    },
    {
     "name": "stderr",
     "output_type": "stream",
     "text": [
      "100%|██████████| 761/761 [01:06<00:00, 11.46it/s]\n"
     ]
    },
    {
     "name": "stdout",
     "output_type": "stream",
     "text": [
      "{'val_loss': 1.4295785786970607, 'val_accuracy': 0.6540508574807806, 'precision': 0.6832993718288991, 'recall': 0.6540508574807806, 'f1-score': 0.6579598873330156, 'macro_f1-score': 0.4207476302107483, 'balanced_accuracy': 0.472510829656754, 'mcc': 0.5583758014877138, 'train_loss': 0.36710705783624453}\n",
      "Epoch 4/20\n"
     ]
    },
    {
     "name": "stderr",
     "output_type": "stream",
     "text": [
      "100%|██████████| 761/761 [01:06<00:00, 11.50it/s]\n"
     ]
    },
    {
     "name": "stdout",
     "output_type": "stream",
     "text": [
      "{'val_loss': 1.4085841527524985, 'val_accuracy': 0.6877587226493199, 'precision': 0.6927640016100196, 'recall': 0.6877587226493199, 'f1-score': 0.674231276101078, 'macro_f1-score': 0.45764872070177004, 'balanced_accuracy': 0.46064516384562504, 'mcc': 0.5861847486492064, 'train_loss': 0.27847767865307305}\n",
      "Epoch 5/20\n"
     ]
    },
    {
     "name": "stderr",
     "output_type": "stream",
     "text": [
      "100%|██████████| 761/761 [01:06<00:00, 11.49it/s]\n"
     ]
    },
    {
     "name": "stdout",
     "output_type": "stream",
     "text": [
      "{'val_loss': 1.473059689942396, 'val_accuracy': 0.6729745712596097, 'precision': 0.6855426413714274, 'recall': 0.6729745712596097, 'f1-score': 0.6663219614451604, 'macro_f1-score': 0.43817245204792626, 'balanced_accuracy': 0.46599776858723635, 'mcc': 0.5747375272809166, 'train_loss': 0.24944474168045938}\n",
      "Epoch 6/20\n"
     ]
    },
    {
     "name": "stderr",
     "output_type": "stream",
     "text": [
      "100%|██████████| 761/761 [01:06<00:00, 11.45it/s]\n"
     ]
    },
    {
     "name": "stdout",
     "output_type": "stream",
     "text": [
      "{'val_loss': 1.607450616247249, 'val_accuracy': 0.6759314015375517, 'precision': 0.6955790170297134, 'recall': 0.6759314015375517, 'f1-score': 0.6769822816672081, 'macro_f1-score': 0.4409132383281026, 'balanced_accuracy': 0.4767829948461464, 'mcc': 0.5818199081160279, 'train_loss': 0.2276021680511955}\n",
      "Epoch 7/20\n"
     ]
    },
    {
     "name": "stderr",
     "output_type": "stream",
     "text": [
      "100%|██████████| 761/761 [01:06<00:00, 11.49it/s]\n"
     ]
    },
    {
     "name": "stdout",
     "output_type": "stream",
     "text": [
      "{'val_loss': 1.6209849663219362, 'val_accuracy': 0.667652276759314, 'precision': 0.6784617069697335, 'recall': 0.667652276759314, 'f1-score': 0.6577301485380441, 'macro_f1-score': 0.4332004284082008, 'balanced_accuracy': 0.45306103294860406, 'mcc': 0.5591079062856102, 'train_loss': 0.21644434819956226}\n",
      "Early stopping.\n",
      "\n",
      "[Fold 5]\n",
      "Label distribution after resampling:\n",
      "  label 0: 2000\n",
      "  label 1: 200\n",
      "  label 2: 200\n",
      "  label 3: 200\n",
      "  label 4: 205\n",
      "  label 5: 200\n",
      "  label 6: 200\n",
      "  label 7: 200\n",
      "  label 8: 200\n",
      "  label 9: 200\n",
      "  label 10: 200\n",
      "  label 11: 200\n",
      "  label 12: 200\n",
      "  label 13: 200\n",
      "  label 14: 200\n",
      "  label 15: 200\n",
      "  label 16: 200\n",
      "  label 17: 231\n",
      "  label 18: 200\n",
      "  label 19: 200\n",
      "  label 20: 200\n",
      "  label 21: 200\n",
      "  label 22: 200\n",
      "  label 23: 200\n",
      "  label 24: 200\n",
      "  label 25: 200\n",
      "  label 26: 200\n",
      "  label 27: 200\n",
      "  label 28: 200\n",
      "  label 29: 200\n",
      "  label 30: 200\n",
      "  label 31: 200\n",
      "  label 32: 200\n",
      "  label 33: 200\n",
      "  label 34: 200\n",
      "  label 35: 200\n",
      "  label 36: 200\n",
      "  label 37: 200\n",
      "  label 38: 200\n",
      "  label 39: 200\n",
      "  label 40: 200\n",
      "  label 41: 200\n",
      "  label 42: 200\n",
      "  label 43: 200\n",
      "  label 44: 200\n",
      "  label 45: 200\n",
      "  label 46: 200\n",
      "  label 47: 529\n",
      "  label 48: 202\n",
      "  label 49: 200\n",
      "model is bert-base-uncased cnn\n",
      "Epoch 1/20\n"
     ]
    },
    {
     "name": "stderr",
     "output_type": "stream",
     "text": [
      "100%|██████████| 761/761 [01:06<00:00, 11.47it/s]\n"
     ]
    },
    {
     "name": "stdout",
     "output_type": "stream",
     "text": [
      "{'val_loss': 1.3601779541317023, 'val_accuracy': 0.6071005917159763, 'precision': 0.6504526559349849, 'recall': 0.6071005917159763, 'f1-score': 0.6100448291058228, 'macro_f1-score': 0.3711285575646611, 'balanced_accuracy': 0.4152153467570728, 'mcc': 0.49702717184530226, 'train_loss': 1.9418009438707386}\n",
      "Epoch 2/20\n"
     ]
    },
    {
     "name": "stderr",
     "output_type": "stream",
     "text": [
      "100%|██████████| 761/761 [01:06<00:00, 11.52it/s]\n"
     ]
    },
    {
     "name": "stdout",
     "output_type": "stream",
     "text": [
      "{'val_loss': 1.350392222685634, 'val_accuracy': 0.6757396449704142, 'precision': 0.7009639569817722, 'recall': 0.6757396449704142, 'f1-score': 0.6732036930280075, 'macro_f1-score': 0.40862451309727243, 'balanced_accuracy': 0.41291840430595755, 'mcc': 0.5727141837240058, 'train_loss': 0.6477086430173196}\n",
      "Epoch 3/20\n"
     ]
    },
    {
     "name": "stderr",
     "output_type": "stream",
     "text": [
      "100%|██████████| 761/761 [01:06<00:00, 11.49it/s]\n"
     ]
    },
    {
     "name": "stdout",
     "output_type": "stream",
     "text": [
      "{'val_loss': 1.42262512951527, 'val_accuracy': 0.6408284023668639, 'precision': 0.6798688503009449, 'recall': 0.6408284023668639, 'f1-score': 0.6421584012303853, 'macro_f1-score': 0.4039383710900208, 'balanced_accuracy': 0.4171864308976154, 'mcc': 0.5386338458165637, 'train_loss': 0.3975941538982064}\n",
      "Epoch 4/20\n"
     ]
    },
    {
     "name": "stderr",
     "output_type": "stream",
     "text": [
      "100%|██████████| 761/761 [01:06<00:00, 11.46it/s]\n"
     ]
    },
    {
     "name": "stdout",
     "output_type": "stream",
     "text": [
      "{'val_loss': 1.5249989146612726, 'val_accuracy': 0.6775147928994083, 'precision': 0.6742387584487478, 'recall': 0.6775147928994083, 'f1-score': 0.6604254488251358, 'macro_f1-score': 0.4011510716025086, 'balanced_accuracy': 0.39067815302748277, 'mcc': 0.5672324274005864, 'train_loss': 0.2883125926831764}\n",
      "Epoch 5/20\n"
     ]
    },
    {
     "name": "stderr",
     "output_type": "stream",
     "text": [
      "100%|██████████| 761/761 [01:06<00:00, 11.52it/s]\n"
     ]
    },
    {
     "name": "stdout",
     "output_type": "stream",
     "text": [
      "{'val_loss': 1.5565345882666561, 'val_accuracy': 0.6692307692307692, 'precision': 0.674067997123892, 'recall': 0.6692307692307692, 'f1-score': 0.6631428676776479, 'macro_f1-score': 0.3942256831403121, 'balanced_accuracy': 0.40430672498079184, 'mcc': 0.5738144880464695, 'train_loss': 0.26170189981991315}\n",
      "Early stopping.\n",
      "\n",
      " === bert-base-uncased + cnn + ros Final 10-fold Cross-Validation Results ===\n",
      "Total time: 2840 seconds\n",
      "Total time: 0 hrs 47 mins 20 secs\n",
      "val_loss: 1.5045\n",
      "val_accuracy: 0.6732\n",
      "precision: 0.6793\n",
      "recall: 0.6732\n",
      "f1-score: 0.6635\n",
      "macro_f1-score: 0.4275\n",
      "balanced_accuracy: 0.4292\n",
      "mcc: 0.5673\n",
      "train_loss: 0.4078\n",
      "▶ Running: bert-base-uncased + bilstm + ros\n",
      "tokenizer is bert-base-uncased\n",
      "Using device: cuda\n",
      "CUDA Available: True\n",
      "CUDA Device: NVIDIA GeForce RTX 5070 Ti\n",
      "Current GPU Memory Allocated: 0.02 GB\n",
      "Current GPU Memory Cached: 3.09 GB\n",
      "\n",
      "[Fold 1]\n",
      "Label distribution after resampling:\n",
      "  label 0: 2000\n",
      "  label 1: 200\n",
      "  label 2: 200\n",
      "  label 3: 200\n",
      "  label 4: 205\n",
      "  label 5: 200\n",
      "  label 6: 200\n",
      "  label 7: 200\n",
      "  label 8: 200\n",
      "  label 9: 200\n",
      "  label 10: 200\n",
      "  label 11: 200\n",
      "  label 12: 200\n",
      "  label 13: 200\n",
      "  label 14: 200\n",
      "  label 15: 200\n",
      "  label 16: 200\n",
      "  label 17: 231\n",
      "  label 18: 200\n",
      "  label 19: 200\n",
      "  label 20: 200\n",
      "  label 21: 200\n",
      "  label 22: 200\n",
      "  label 23: 200\n",
      "  label 24: 200\n",
      "  label 25: 200\n",
      "  label 26: 200\n",
      "  label 27: 200\n",
      "  label 28: 200\n",
      "  label 29: 200\n",
      "  label 30: 200\n",
      "  label 31: 200\n",
      "  label 32: 200\n",
      "  label 33: 200\n",
      "  label 34: 200\n",
      "  label 35: 200\n",
      "  label 36: 200\n",
      "  label 37: 200\n",
      "  label 38: 200\n",
      "  label 39: 200\n",
      "  label 40: 200\n",
      "  label 41: 200\n",
      "  label 42: 200\n",
      "  label 43: 200\n",
      "  label 44: 200\n",
      "  label 45: 200\n",
      "  label 46: 200\n",
      "  label 47: 529\n",
      "  label 48: 202\n",
      "  label 49: 200\n",
      "model is bert-base-uncased bilstm\n",
      "Epoch 1/20\n"
     ]
    },
    {
     "name": "stderr",
     "output_type": "stream",
     "text": [
      "100%|██████████| 761/761 [01:16<00:00, 10.00it/s]\n"
     ]
    },
    {
     "name": "stdout",
     "output_type": "stream",
     "text": [
      "{'val_loss': 1.654602827328556, 'val_accuracy': 0.5387344766410408, 'precision': 0.6230042116618375, 'recall': 0.5387344766410408, 'f1-score': 0.5454552737831136, 'macro_f1-score': 0.2906804730686924, 'balanced_accuracy': 0.3878452338791132, 'mcc': 0.42801392658961945, 'train_loss': 2.2103829085435254}\n",
      "Epoch 2/20\n"
     ]
    },
    {
     "name": "stderr",
     "output_type": "stream",
     "text": [
      "100%|██████████| 761/761 [01:15<00:00, 10.06it/s]\n"
     ]
    },
    {
     "name": "stdout",
     "output_type": "stream",
     "text": [
      "{'val_loss': 1.4266243470164965, 'val_accuracy': 0.6351271437019516, 'precision': 0.6337344694105966, 'recall': 0.6351271437019516, 'f1-score': 0.6211741983576365, 'macro_f1-score': 0.37829081645495505, 'balanced_accuracy': 0.40636994806790483, 'mcc': 0.5246416606067823, 'train_loss': 0.9002728317907073}\n",
      "Epoch 3/20\n"
     ]
    },
    {
     "name": "stderr",
     "output_type": "stream",
     "text": [
      "100%|██████████| 761/761 [01:16<00:00,  9.95it/s]\n"
     ]
    },
    {
     "name": "stdout",
     "output_type": "stream",
     "text": [
      "{'val_loss': 1.4244458619153724, 'val_accuracy': 0.6303962152572442, 'precision': 0.6609687380971688, 'recall': 0.6303962152572442, 'f1-score': 0.6238646817042319, 'macro_f1-score': 0.38351235969289754, 'balanced_accuracy': 0.3962093075109162, 'mcc': 0.5190710209413353, 'train_loss': 0.5732602623148128}\n",
      "Epoch 4/20\n"
     ]
    },
    {
     "name": "stderr",
     "output_type": "stream",
     "text": [
      "100%|██████████| 761/761 [01:15<00:00, 10.08it/s]\n"
     ]
    },
    {
     "name": "stdout",
     "output_type": "stream",
     "text": [
      "{'val_loss': 1.4483290924778525, 'val_accuracy': 0.6363098758131284, 'precision': 0.6717892425967467, 'recall': 0.6363098758131284, 'f1-score': 0.6435227703839356, 'macro_f1-score': 0.3825470523034291, 'balanced_accuracy': 0.40584053420709765, 'mcc': 0.5385933998074958, 'train_loss': 0.4187106048485139}\n",
      "Epoch 5/20\n"
     ]
    },
    {
     "name": "stderr",
     "output_type": "stream",
     "text": [
      "100%|██████████| 761/761 [01:17<00:00,  9.88it/s]\n"
     ]
    },
    {
     "name": "stdout",
     "output_type": "stream",
     "text": [
      "{'val_loss': 1.5885624576289699, 'val_accuracy': 0.6008279124778237, 'precision': 0.6979039376736994, 'recall': 0.6008279124778237, 'f1-score': 0.628881958094638, 'macro_f1-score': 0.40482524675866655, 'balanced_accuracy': 0.42376840726121173, 'mcc': 0.5027596779489509, 'train_loss': 0.32770187599381306}\n",
      "Epoch 6/20\n"
     ]
    },
    {
     "name": "stderr",
     "output_type": "stream",
     "text": [
      "100%|██████████| 761/761 [01:16<00:00,  9.95it/s]\n"
     ]
    },
    {
     "name": "stdout",
     "output_type": "stream",
     "text": [
      "{'val_loss': 1.5718053894222908, 'val_accuracy': 0.6587817859254879, 'precision': 0.6709088980448724, 'recall': 0.6587817859254879, 'f1-score': 0.6524686822350868, 'macro_f1-score': 0.4148387481195956, 'balanced_accuracy': 0.421051914077941, 'mcc': 0.5538921729938183, 'train_loss': 0.2855857259651423}\n",
      "Epoch 7/20\n"
     ]
    },
    {
     "name": "stderr",
     "output_type": "stream",
     "text": [
      "100%|██████████| 761/761 [01:16<00:00,  9.90it/s]\n"
     ]
    },
    {
     "name": "stdout",
     "output_type": "stream",
     "text": [
      "{'val_loss': 1.600661832347231, 'val_accuracy': 0.6587817859254879, 'precision': 0.6800472700243043, 'recall': 0.6587817859254879, 'f1-score': 0.6576162936493611, 'macro_f1-score': 0.41598673874074493, 'balanced_accuracy': 0.41858141708462954, 'mcc': 0.559027750822315, 'train_loss': 0.2501551652004093}\n",
      "Epoch 8/20\n"
     ]
    },
    {
     "name": "stderr",
     "output_type": "stream",
     "text": [
      "100%|██████████| 761/761 [01:16<00:00,  9.94it/s]\n"
     ]
    },
    {
     "name": "stdout",
     "output_type": "stream",
     "text": [
      "{'val_loss': 1.6584144490507413, 'val_accuracy': 0.6652868125369604, 'precision': 0.6665363107298217, 'recall': 0.6652868125369604, 'f1-score': 0.650273903879261, 'macro_f1-score': 0.39761143696602586, 'balanced_accuracy': 0.3929404881390278, 'mcc': 0.554085303811559, 'train_loss': 0.23631590149156093}\n",
      "Epoch 9/20\n"
     ]
    },
    {
     "name": "stderr",
     "output_type": "stream",
     "text": [
      "100%|██████████| 761/761 [01:16<00:00,  9.91it/s]\n"
     ]
    },
    {
     "name": "stdout",
     "output_type": "stream",
     "text": [
      "{'val_loss': 1.677675705192224, 'val_accuracy': 0.6564163217031342, 'precision': 0.6744918462493562, 'recall': 0.6564163217031342, 'f1-score': 0.6527658430424949, 'macro_f1-score': 0.4192038571436178, 'balanced_accuracy': 0.4379982614171329, 'mcc': 0.5585975600686772, 'train_loss': 0.23082704654296324}\n",
      "Epoch 10/20\n"
     ]
    },
    {
     "name": "stderr",
     "output_type": "stream",
     "text": [
      "100%|██████████| 761/761 [01:13<00:00, 10.31it/s]\n"
     ]
    },
    {
     "name": "stdout",
     "output_type": "stream",
     "text": [
      "{'val_loss': 1.7239346369257513, 'val_accuracy': 0.6451803666469544, 'precision': 0.6675622063991189, 'recall': 0.6451803666469544, 'f1-score': 0.6414580258406198, 'macro_f1-score': 0.3914837935151905, 'balanced_accuracy': 0.3935562326710758, 'mcc': 0.5430199250853498, 'train_loss': 0.22899253205573689}\n",
      "Epoch 11/20\n"
     ]
    },
    {
     "name": "stderr",
     "output_type": "stream",
     "text": [
      "100%|██████████| 761/761 [01:16<00:00,  9.96it/s]\n"
     ]
    },
    {
     "name": "stdout",
     "output_type": "stream",
     "text": [
      "{'val_loss': 1.7546876719537772, 'val_accuracy': 0.6510940272028386, 'precision': 0.6575891111016414, 'recall': 0.6510940272028386, 'f1-score': 0.6440249283891043, 'macro_f1-score': 0.404403859431618, 'balanced_accuracy': 0.42278187703632164, 'mcc': 0.5434190198649302, 'train_loss': 0.21797723939909103}\n",
      "Epoch 12/20\n"
     ]
    },
    {
     "name": "stderr",
     "output_type": "stream",
     "text": [
      "100%|██████████| 761/761 [01:16<00:00,  9.93it/s]\n"
     ]
    },
    {
     "name": "stdout",
     "output_type": "stream",
     "text": [
      "{'val_loss': 1.7450264965025883, 'val_accuracy': 0.6694263749260793, 'precision': 0.664283579202995, 'recall': 0.6694263749260793, 'f1-score': 0.6570203687833871, 'macro_f1-score': 0.40388332978187336, 'balanced_accuracy': 0.4031782064382013, 'mcc': 0.5627703825345173, 'train_loss': 0.2220967386221408}\n",
      "Early stopping.\n",
      "\n",
      "[Fold 2]\n",
      "Label distribution after resampling:\n",
      "  label 0: 2000\n",
      "  label 1: 200\n",
      "  label 2: 200\n",
      "  label 3: 200\n",
      "  label 4: 206\n",
      "  label 5: 200\n",
      "  label 6: 200\n",
      "  label 7: 200\n",
      "  label 8: 200\n",
      "  label 9: 200\n",
      "  label 10: 200\n",
      "  label 11: 200\n",
      "  label 12: 200\n",
      "  label 13: 200\n",
      "  label 14: 200\n",
      "  label 15: 200\n",
      "  label 16: 200\n",
      "  label 17: 231\n",
      "  label 18: 200\n",
      "  label 19: 200\n",
      "  label 20: 200\n",
      "  label 21: 200\n",
      "  label 22: 200\n",
      "  label 23: 200\n",
      "  label 24: 200\n",
      "  label 25: 200\n",
      "  label 26: 200\n",
      "  label 27: 200\n",
      "  label 28: 200\n",
      "  label 29: 200\n",
      "  label 30: 200\n",
      "  label 31: 200\n",
      "  label 32: 200\n",
      "  label 33: 200\n",
      "  label 34: 200\n",
      "  label 35: 200\n",
      "  label 36: 200\n",
      "  label 37: 200\n",
      "  label 38: 200\n",
      "  label 39: 200\n",
      "  label 40: 200\n",
      "  label 41: 200\n",
      "  label 42: 200\n",
      "  label 43: 200\n",
      "  label 44: 200\n",
      "  label 45: 200\n",
      "  label 46: 200\n",
      "  label 47: 528\n",
      "  label 48: 202\n",
      "  label 49: 200\n",
      "model is bert-base-uncased bilstm\n",
      "Epoch 1/20\n"
     ]
    },
    {
     "name": "stderr",
     "output_type": "stream",
     "text": [
      "100%|██████████| 761/761 [01:16<00:00,  9.92it/s]\n"
     ]
    },
    {
     "name": "stdout",
     "output_type": "stream",
     "text": [
      "{'val_loss': 1.4359463621985238, 'val_accuracy': 0.625665286812537, 'precision': 0.6444961112151643, 'recall': 0.625665286812537, 'f1-score': 0.5993518380094807, 'macro_f1-score': 0.34294511182599213, 'balanced_accuracy': 0.39235637048107175, 'mcc': 0.49636338727136614, 'train_loss': 2.1989861071188095}\n",
      "Epoch 2/20\n"
     ]
    },
    {
     "name": "stderr",
     "output_type": "stream",
     "text": [
      "100%|██████████| 761/761 [01:16<00:00,  9.94it/s]\n"
     ]
    },
    {
     "name": "stdout",
     "output_type": "stream",
     "text": [
      "{'val_loss': 1.4191232942185312, 'val_accuracy': 0.6481371969248965, 'precision': 0.6402849429766366, 'recall': 0.6481371969248965, 'f1-score': 0.6269888494531419, 'macro_f1-score': 0.37548693549072254, 'balanced_accuracy': 0.3915464479812909, 'mcc': 0.5239195302088737, 'train_loss': 0.8673243892725444}\n",
      "Epoch 3/20\n"
     ]
    },
    {
     "name": "stderr",
     "output_type": "stream",
     "text": [
      "100%|██████████| 761/761 [01:16<00:00, 10.00it/s]\n"
     ]
    },
    {
     "name": "stdout",
     "output_type": "stream",
     "text": [
      "{'val_loss': 1.394158753584016, 'val_accuracy': 0.6505026611472502, 'precision': 0.6490981088881864, 'recall': 0.6505026611472502, 'f1-score': 0.6358408413710454, 'macro_f1-score': 0.39223700595858174, 'balanced_accuracy': 0.3985992956506677, 'mcc': 0.5383318580855989, 'train_loss': 0.5633705213333084}\n",
      "Epoch 4/20\n"
     ]
    },
    {
     "name": "stderr",
     "output_type": "stream",
     "text": [
      "100%|██████████| 761/761 [01:15<00:00, 10.07it/s]\n"
     ]
    },
    {
     "name": "stdout",
     "output_type": "stream",
     "text": [
      "{'val_loss': 1.4451710955714279, 'val_accuracy': 0.6641040804257835, 'precision': 0.6651654375175535, 'recall': 0.6641040804257835, 'f1-score': 0.6472469796839977, 'macro_f1-score': 0.41892105361907367, 'balanced_accuracy': 0.41936179525292294, 'mcc': 0.5495744640104447, 'train_loss': 0.4051632825872627}\n",
      "Epoch 5/20\n"
     ]
    },
    {
     "name": "stderr",
     "output_type": "stream",
     "text": [
      "100%|██████████| 761/761 [01:15<00:00, 10.05it/s]\n"
     ]
    },
    {
     "name": "stdout",
     "output_type": "stream",
     "text": [
      "{'val_loss': 1.4266384249588229, 'val_accuracy': 0.6652868125369604, 'precision': 0.6724358339485748, 'recall': 0.6652868125369604, 'f1-score': 0.6587931716403492, 'macro_f1-score': 0.4416854727871778, 'balanced_accuracy': 0.4596259765209906, 'mcc': 0.5592188159377556, 'train_loss': 0.33843237960787}\n",
      "Epoch 6/20\n"
     ]
    },
    {
     "name": "stderr",
     "output_type": "stream",
     "text": [
      "100%|██████████| 761/761 [01:16<00:00,  9.95it/s]\n"
     ]
    },
    {
     "name": "stdout",
     "output_type": "stream",
     "text": [
      "{'val_loss': 1.5554981262616392, 'val_accuracy': 0.6611472501478415, 'precision': 0.6562603801132337, 'recall': 0.6611472501478415, 'f1-score': 0.6478033836220783, 'macro_f1-score': 0.4256006616863511, 'balanced_accuracy': 0.4195870919674076, 'mcc': 0.5550088196251474, 'train_loss': 0.3021137078259625}\n",
      "Epoch 7/20\n"
     ]
    },
    {
     "name": "stderr",
     "output_type": "stream",
     "text": [
      "100%|██████████| 761/761 [01:16<00:00,  9.90it/s]\n"
     ]
    },
    {
     "name": "stdout",
     "output_type": "stream",
     "text": [
      "{'val_loss': 1.542504499121657, 'val_accuracy': 0.6782968657599053, 'precision': 0.6646521080883829, 'recall': 0.6782968657599053, 'f1-score': 0.656813119180144, 'macro_f1-score': 0.42539707186148057, 'balanced_accuracy': 0.4068005946970781, 'mcc': 0.5620201780544536, 'train_loss': 0.25941363209674967}\n",
      "Epoch 8/20\n"
     ]
    },
    {
     "name": "stderr",
     "output_type": "stream",
     "text": [
      "100%|██████████| 761/761 [01:15<00:00, 10.03it/s]\n"
     ]
    },
    {
     "name": "stdout",
     "output_type": "stream",
     "text": [
      "{'val_loss': 1.6324689168975037, 'val_accuracy': 0.6712004730928445, 'precision': 0.6629914980501805, 'recall': 0.6712004730928445, 'f1-score': 0.6574327854762356, 'macro_f1-score': 0.42802079708919893, 'balanced_accuracy': 0.4227018482074645, 'mcc': 0.5652635544348251, 'train_loss': 0.2598832277740192}\n",
      "Early stopping.\n",
      "\n",
      "[Fold 3]\n",
      "Label distribution after resampling:\n",
      "  label 0: 2000\n",
      "  label 1: 200\n",
      "  label 2: 200\n",
      "  label 3: 200\n",
      "  label 4: 206\n",
      "  label 5: 200\n",
      "  label 6: 200\n",
      "  label 7: 200\n",
      "  label 8: 200\n",
      "  label 9: 200\n",
      "  label 10: 200\n",
      "  label 11: 200\n",
      "  label 12: 200\n",
      "  label 13: 200\n",
      "  label 14: 200\n",
      "  label 15: 200\n",
      "  label 16: 200\n",
      "  label 17: 231\n",
      "  label 18: 200\n",
      "  label 19: 200\n",
      "  label 20: 200\n",
      "  label 21: 200\n",
      "  label 22: 200\n",
      "  label 23: 200\n",
      "  label 24: 200\n",
      "  label 25: 200\n",
      "  label 26: 200\n",
      "  label 27: 200\n",
      "  label 28: 200\n",
      "  label 29: 200\n",
      "  label 30: 200\n",
      "  label 31: 200\n",
      "  label 32: 200\n",
      "  label 33: 200\n",
      "  label 34: 200\n",
      "  label 35: 200\n",
      "  label 36: 200\n",
      "  label 37: 200\n",
      "  label 38: 200\n",
      "  label 39: 200\n",
      "  label 40: 200\n",
      "  label 41: 200\n",
      "  label 42: 200\n",
      "  label 43: 200\n",
      "  label 44: 200\n",
      "  label 45: 200\n",
      "  label 46: 200\n",
      "  label 47: 529\n",
      "  label 48: 201\n",
      "  label 49: 200\n",
      "model is bert-base-uncased bilstm\n",
      "Epoch 1/20\n"
     ]
    },
    {
     "name": "stderr",
     "output_type": "stream",
     "text": [
      "100%|██████████| 761/761 [01:16<00:00,  9.90it/s]\n"
     ]
    },
    {
     "name": "stdout",
     "output_type": "stream",
     "text": [
      "{'val_loss': 1.5024556708785723, 'val_accuracy': 0.6043761088113542, 'precision': 0.6265298340211044, 'recall': 0.6043761088113542, 'f1-score': 0.5722078688786415, 'macro_f1-score': 0.30710761168382994, 'balanced_accuracy': 0.34042099202925163, 'mcc': 0.45784730388099326, 'train_loss': 2.1495778299819155}\n",
      "Epoch 2/20\n"
     ]
    },
    {
     "name": "stderr",
     "output_type": "stream",
     "text": [
      "100%|██████████| 761/761 [01:15<00:00, 10.02it/s]\n"
     ]
    },
    {
     "name": "stdout",
     "output_type": "stream",
     "text": [
      "{'val_loss': 1.4307580095417094, 'val_accuracy': 0.6215257244234181, 'precision': 0.6402167071680807, 'recall': 0.6215257244234181, 'f1-score': 0.6024466065520965, 'macro_f1-score': 0.3150857346378533, 'balanced_accuracy': 0.3327168857065353, 'mcc': 0.5013592956025936, 'train_loss': 0.8631342207418164}\n",
      "Epoch 3/20\n"
     ]
    },
    {
     "name": "stderr",
     "output_type": "stream",
     "text": [
      "100%|██████████| 761/761 [01:15<00:00, 10.03it/s]\n"
     ]
    },
    {
     "name": "stdout",
     "output_type": "stream",
     "text": [
      "{'val_loss': 1.4286464323412698, 'val_accuracy': 0.6457717327025428, 'precision': 0.6440904852996983, 'recall': 0.6457717327025428, 'f1-score': 0.6347411006555723, 'macro_f1-score': 0.36130268587689973, 'balanced_accuracy': 0.3765337418662964, 'mcc': 0.5352644029531868, 'train_loss': 0.5139653846406123}\n",
      "Epoch 4/20\n"
     ]
    },
    {
     "name": "stderr",
     "output_type": "stream",
     "text": [
      "100%|██████████| 761/761 [01:15<00:00, 10.07it/s]\n"
     ]
    },
    {
     "name": "stdout",
     "output_type": "stream",
     "text": [
      "{'val_loss': 1.5057506389775366, 'val_accuracy': 0.6292134831460674, 'precision': 0.663584001306003, 'recall': 0.6292134831460674, 'f1-score': 0.6301661777313714, 'macro_f1-score': 0.35660854567452427, 'balanced_accuracy': 0.3810178906244778, 'mcc': 0.5215419924496004, 'train_loss': 0.37555855485450346}\n",
      "Epoch 5/20\n"
     ]
    },
    {
     "name": "stderr",
     "output_type": "stream",
     "text": [
      "100%|██████████| 761/761 [01:15<00:00, 10.04it/s]\n"
     ]
    },
    {
     "name": "stdout",
     "output_type": "stream",
     "text": [
      "{'val_loss': 1.5709453559709046, 'val_accuracy': 0.6552335895919574, 'precision': 0.6526759489548398, 'recall': 0.6552335895919574, 'f1-score': 0.6414241222274473, 'macro_f1-score': 0.3688224052843849, 'balanced_accuracy': 0.3735771878496532, 'mcc': 0.54494770585964, 'train_loss': 0.3069566567324386}\n",
      "Epoch 6/20\n"
     ]
    },
    {
     "name": "stderr",
     "output_type": "stream",
     "text": [
      "100%|██████████| 761/761 [01:15<00:00, 10.04it/s]\n"
     ]
    },
    {
     "name": "stdout",
     "output_type": "stream",
     "text": [
      "{'val_loss': 1.6076508934767741, 'val_accuracy': 0.6374926079243052, 'precision': 0.6491570976237303, 'recall': 0.6374926079243052, 'f1-score': 0.6325447468323485, 'macro_f1-score': 0.35156022330823944, 'balanced_accuracy': 0.3625815238053699, 'mcc': 0.5267050078381231, 'train_loss': 0.2697739885574141}\n",
      "Epoch 7/20\n"
     ]
    },
    {
     "name": "stderr",
     "output_type": "stream",
     "text": [
      "100%|██████████| 761/761 [01:15<00:00, 10.09it/s]\n"
     ]
    },
    {
     "name": "stdout",
     "output_type": "stream",
     "text": [
      "{'val_loss': 1.6638043747757965, 'val_accuracy': 0.6481371969248965, 'precision': 0.6496937601522199, 'recall': 0.6481371969248965, 'f1-score': 0.6317668507255608, 'macro_f1-score': 0.3450076715053698, 'balanced_accuracy': 0.35725012982922766, 'mcc': 0.5289002085553404, 'train_loss': 0.2384850542573809}\n",
      "Epoch 8/20\n"
     ]
    },
    {
     "name": "stderr",
     "output_type": "stream",
     "text": [
      "100%|██████████| 761/761 [01:15<00:00, 10.03it/s]\n"
     ]
    },
    {
     "name": "stdout",
     "output_type": "stream",
     "text": [
      "{'val_loss': 1.6763528548883941, 'val_accuracy': 0.641632170313424, 'precision': 0.6580663504345925, 'recall': 0.641632170313424, 'f1-score': 0.6399979764694219, 'macro_f1-score': 0.3690808741359136, 'balanced_accuracy': 0.39032327208952056, 'mcc': 0.5379229618160905, 'train_loss': 0.2543632629059461}\n",
      "Epoch 9/20\n"
     ]
    },
    {
     "name": "stderr",
     "output_type": "stream",
     "text": [
      "100%|██████████| 761/761 [01:15<00:00, 10.10it/s]\n"
     ]
    },
    {
     "name": "stdout",
     "output_type": "stream",
     "text": [
      "{'val_loss': 1.7013168807299632, 'val_accuracy': 0.6499112950916618, 'precision': 0.6487943512256124, 'recall': 0.6499112950916618, 'f1-score': 0.6405420371405703, 'macro_f1-score': 0.38154090535988094, 'balanced_accuracy': 0.39085250987119957, 'mcc': 0.5370762042648539, 'train_loss': 0.2292523043849426}\n",
      "Epoch 10/20\n"
     ]
    },
    {
     "name": "stderr",
     "output_type": "stream",
     "text": [
      "100%|██████████| 761/761 [01:16<00:00,  9.92it/s]\n"
     ]
    },
    {
     "name": "stdout",
     "output_type": "stream",
     "text": [
      "{'val_loss': 1.8718517760060869, 'val_accuracy': 0.6203429923122413, 'precision': 0.6608655022090205, 'recall': 0.6203429923122413, 'f1-score': 0.6290689782216495, 'macro_f1-score': 0.35457314034336074, 'balanced_accuracy': 0.3617738804796579, 'mcc': 0.5141436459073208, 'train_loss': 0.20845208417332967}\n",
      "Epoch 11/20\n"
     ]
    },
    {
     "name": "stderr",
     "output_type": "stream",
     "text": [
      "100%|██████████| 761/761 [01:16<00:00,  9.99it/s]\n"
     ]
    },
    {
     "name": "stdout",
     "output_type": "stream",
     "text": [
      "{'val_loss': 1.8003310504949317, 'val_accuracy': 0.6505026611472502, 'precision': 0.6477161690617798, 'recall': 0.6505026611472502, 'f1-score': 0.6342504408218139, 'macro_f1-score': 0.34943303679659526, 'balanced_accuracy': 0.3524074824494094, 'mcc': 0.5316148291898682, 'train_loss': 0.22853719413650078}\n",
      "Epoch 12/20\n"
     ]
    },
    {
     "name": "stderr",
     "output_type": "stream",
     "text": [
      "100%|██████████| 761/761 [01:15<00:00, 10.02it/s]\n"
     ]
    },
    {
     "name": "stdout",
     "output_type": "stream",
     "text": [
      "{'val_loss': 1.8169844361408702, 'val_accuracy': 0.651685393258427, 'precision': 0.6552548496720924, 'recall': 0.651685393258427, 'f1-score': 0.6427708748968949, 'macro_f1-score': 0.3896338408749497, 'balanced_accuracy': 0.3902154140107166, 'mcc': 0.5419519562342743, 'train_loss': 0.2015843899919359}\n",
      "Epoch 13/20\n"
     ]
    },
    {
     "name": "stderr",
     "output_type": "stream",
     "text": [
      "100%|██████████| 761/761 [01:15<00:00, 10.10it/s]\n"
     ]
    },
    {
     "name": "stdout",
     "output_type": "stream",
     "text": [
      "{'val_loss': 1.8972734884833389, 'val_accuracy': 0.6670609107037256, 'precision': 0.6467230885595521, 'recall': 0.6670609107037256, 'f1-score': 0.6476345298550451, 'macro_f1-score': 0.35532880924025173, 'balanced_accuracy': 0.3483538765206534, 'mcc': 0.5558440525645604, 'train_loss': 0.17437883346150634}\n",
      "Epoch 14/20\n"
     ]
    },
    {
     "name": "stderr",
     "output_type": "stream",
     "text": [
      "100%|██████████| 761/761 [01:15<00:00, 10.08it/s]\n"
     ]
    },
    {
     "name": "stdout",
     "output_type": "stream",
     "text": [
      "{'val_loss': 1.8667993891351629, 'val_accuracy': 0.6363098758131284, 'precision': 0.6504229159960486, 'recall': 0.6363098758131284, 'f1-score': 0.6320474774616399, 'macro_f1-score': 0.3538639610018942, 'balanced_accuracy': 0.35680828054192965, 'mcc': 0.5256173795299723, 'train_loss': 0.1983296913914774}\n",
      "Epoch 15/20\n"
     ]
    },
    {
     "name": "stderr",
     "output_type": "stream",
     "text": [
      "100%|██████████| 761/761 [01:15<00:00, 10.11it/s]\n"
     ]
    },
    {
     "name": "stdout",
     "output_type": "stream",
     "text": [
      "{'val_loss': 2.0820980677908323, 'val_accuracy': 0.5972797161442933, 'precision': 0.6530973751238466, 'recall': 0.5972797161442933, 'f1-score': 0.6074023880540717, 'macro_f1-score': 0.35963022053811255, 'balanced_accuracy': 0.39345112140256494, 'mcc': 0.5049850034044181, 'train_loss': 0.19011556633727308}\n",
      "Early stopping.\n",
      "\n",
      "[Fold 4]\n",
      "Label distribution after resampling:\n",
      "  label 0: 2000\n",
      "  label 1: 200\n",
      "  label 2: 200\n",
      "  label 3: 200\n",
      "  label 4: 206\n",
      "  label 5: 200\n",
      "  label 6: 200\n",
      "  label 7: 200\n",
      "  label 8: 200\n",
      "  label 9: 200\n",
      "  label 10: 200\n",
      "  label 11: 200\n",
      "  label 12: 200\n",
      "  label 13: 200\n",
      "  label 14: 200\n",
      "  label 15: 200\n",
      "  label 16: 200\n",
      "  label 17: 232\n",
      "  label 18: 200\n",
      "  label 19: 200\n",
      "  label 20: 200\n",
      "  label 21: 200\n",
      "  label 22: 200\n",
      "  label 23: 200\n",
      "  label 24: 200\n",
      "  label 25: 200\n",
      "  label 26: 200\n",
      "  label 27: 200\n",
      "  label 28: 200\n",
      "  label 29: 200\n",
      "  label 30: 200\n",
      "  label 31: 200\n",
      "  label 32: 200\n",
      "  label 33: 200\n",
      "  label 34: 200\n",
      "  label 35: 200\n",
      "  label 36: 200\n",
      "  label 37: 200\n",
      "  label 38: 200\n",
      "  label 39: 200\n",
      "  label 40: 200\n",
      "  label 41: 200\n",
      "  label 42: 200\n",
      "  label 43: 200\n",
      "  label 44: 200\n",
      "  label 45: 200\n",
      "  label 46: 200\n",
      "  label 47: 529\n",
      "  label 48: 201\n",
      "  label 49: 200\n",
      "model is bert-base-uncased bilstm\n",
      "Epoch 1/20\n"
     ]
    },
    {
     "name": "stderr",
     "output_type": "stream",
     "text": [
      "100%|██████████| 761/761 [01:15<00:00, 10.03it/s]\n"
     ]
    },
    {
     "name": "stdout",
     "output_type": "stream",
     "text": [
      "{'val_loss': 1.3896991351865373, 'val_accuracy': 0.6369012418687168, 'precision': 0.6217268955267492, 'recall': 0.6369012418687168, 'f1-score': 0.596688211781327, 'macro_f1-score': 0.36380368283530073, 'balanced_accuracy': 0.38358074213863036, 'mcc': 0.5079201991687913, 'train_loss': 2.241336922373001}\n",
      "Epoch 2/20\n"
     ]
    },
    {
     "name": "stderr",
     "output_type": "stream",
     "text": [
      "100%|██████████| 761/761 [01:15<00:00, 10.07it/s]\n"
     ]
    },
    {
     "name": "stdout",
     "output_type": "stream",
     "text": [
      "{'val_loss': 1.3035958999732755, 'val_accuracy': 0.651685393258427, 'precision': 0.6676973327378217, 'recall': 0.651685393258427, 'f1-score': 0.6385611385211581, 'macro_f1-score': 0.41298853026462046, 'balanced_accuracy': 0.41235061750587854, 'mcc': 0.532252125163671, 'train_loss': 0.9165904470052418}\n",
      "Epoch 3/20\n"
     ]
    },
    {
     "name": "stderr",
     "output_type": "stream",
     "text": [
      "100%|██████████| 761/761 [01:15<00:00, 10.09it/s]\n"
     ]
    },
    {
     "name": "stdout",
     "output_type": "stream",
     "text": [
      "{'val_loss': 1.2997497182409719, 'val_accuracy': 0.6635127143701951, 'precision': 0.6653000011883005, 'recall': 0.6635127143701951, 'f1-score': 0.6535352814699839, 'macro_f1-score': 0.42741072546484576, 'balanced_accuracy': 0.44533988566183114, 'mcc': 0.5607905764353761, 'train_loss': 0.5748236682633141}\n",
      "Epoch 4/20\n"
     ]
    },
    {
     "name": "stderr",
     "output_type": "stream",
     "text": [
      "100%|██████████| 761/761 [01:15<00:00, 10.02it/s]\n"
     ]
    },
    {
     "name": "stdout",
     "output_type": "stream",
     "text": [
      "{'val_loss': 1.3564850021645707, 'val_accuracy': 0.6487285629804849, 'precision': 0.6702771068983056, 'recall': 0.6487285629804849, 'f1-score': 0.6483482444607964, 'macro_f1-score': 0.420910789538312, 'balanced_accuracy': 0.4303090399440642, 'mcc': 0.5437191336044207, 'train_loss': 0.4222965171112729}\n",
      "Epoch 5/20\n"
     ]
    },
    {
     "name": "stderr",
     "output_type": "stream",
     "text": [
      "100%|██████████| 761/761 [01:15<00:00, 10.02it/s]\n"
     ]
    },
    {
     "name": "stdout",
     "output_type": "stream",
     "text": [
      "{'val_loss': 1.5985157894638349, 'val_accuracy': 0.6108811354228267, 'precision': 0.6576963106000625, 'recall': 0.6108811354228267, 'f1-score': 0.620715844812471, 'macro_f1-score': 0.4089768045412475, 'balanced_accuracy': 0.4392920945082662, 'mcc': 0.5220838469041307, 'train_loss': 0.3346520788580884}\n",
      "Epoch 6/20\n"
     ]
    },
    {
     "name": "stderr",
     "output_type": "stream",
     "text": [
      "100%|██████████| 761/761 [01:15<00:00, 10.05it/s]\n"
     ]
    },
    {
     "name": "stdout",
     "output_type": "stream",
     "text": [
      "{'val_loss': 1.5528261931437366, 'val_accuracy': 0.6043761088113542, 'precision': 0.681502641660653, 'recall': 0.6043761088113542, 'f1-score': 0.6256008088496788, 'macro_f1-score': 0.4344005973648134, 'balanced_accuracy': 0.48173459808239605, 'mcc': 0.5140374609919163, 'train_loss': 0.2962285900297581}\n",
      "Epoch 7/20\n"
     ]
    },
    {
     "name": "stderr",
     "output_type": "stream",
     "text": [
      "100%|██████████| 761/761 [01:15<00:00, 10.08it/s]\n"
     ]
    },
    {
     "name": "stdout",
     "output_type": "stream",
     "text": [
      "{'val_loss': 1.494497575287549, 'val_accuracy': 0.6782968657599053, 'precision': 0.6936861021641115, 'recall': 0.6782968657599053, 'f1-score': 0.6742604227037132, 'macro_f1-score': 0.44051696613858127, 'balanced_accuracy': 0.46878619478441, 'mcc': 0.5831581456618065, 'train_loss': 0.2618518052084198}\n",
      "Epoch 8/20\n"
     ]
    },
    {
     "name": "stderr",
     "output_type": "stream",
     "text": [
      "100%|██████████| 761/761 [01:15<00:00, 10.07it/s]\n"
     ]
    },
    {
     "name": "stdout",
     "output_type": "stream",
     "text": [
      "{'val_loss': 1.7286358200154215, 'val_accuracy': 0.6327616794795978, 'precision': 0.6902776820612105, 'recall': 0.6327616794795978, 'f1-score': 0.6480729017547672, 'macro_f1-score': 0.43483287326890335, 'balanced_accuracy': 0.4739770205474199, 'mcc': 0.5487600801222294, 'train_loss': 0.2283535379795272}\n",
      "Epoch 9/20\n"
     ]
    },
    {
     "name": "stderr",
     "output_type": "stream",
     "text": [
      "100%|██████████| 761/761 [01:15<00:00, 10.08it/s]\n"
     ]
    },
    {
     "name": "stdout",
     "output_type": "stream",
     "text": [
      "{'val_loss': 1.5713486404351469, 'val_accuracy': 0.6771141336487285, 'precision': 0.6739493596337442, 'recall': 0.6771141336487285, 'f1-score': 0.6667011547636704, 'macro_f1-score': 0.4231515314707241, 'balanced_accuracy': 0.42927296912320023, 'mcc': 0.5774170958489486, 'train_loss': 0.2233252911540862}\n",
      "Epoch 10/20\n"
     ]
    },
    {
     "name": "stderr",
     "output_type": "stream",
     "text": [
      "100%|██████████| 761/761 [01:15<00:00, 10.02it/s]\n"
     ]
    },
    {
     "name": "stdout",
     "output_type": "stream",
     "text": [
      "{'val_loss': 1.8194787977439053, 'val_accuracy': 0.6351271437019516, 'precision': 0.6892582470366142, 'recall': 0.6351271437019516, 'f1-score': 0.6471907391214999, 'macro_f1-score': 0.4115327992125082, 'balanced_accuracy': 0.45959051986102556, 'mcc': 0.5472492623435409, 'train_loss': 0.20393886785059628}\n",
      "Early stopping.\n",
      "\n",
      "[Fold 5]\n",
      "Label distribution after resampling:\n",
      "  label 0: 2000\n",
      "  label 1: 200\n",
      "  label 2: 200\n",
      "  label 3: 200\n",
      "  label 4: 205\n",
      "  label 5: 200\n",
      "  label 6: 200\n",
      "  label 7: 200\n",
      "  label 8: 200\n",
      "  label 9: 200\n",
      "  label 10: 200\n",
      "  label 11: 200\n",
      "  label 12: 200\n",
      "  label 13: 200\n",
      "  label 14: 200\n",
      "  label 15: 200\n",
      "  label 16: 200\n",
      "  label 17: 231\n",
      "  label 18: 200\n",
      "  label 19: 200\n",
      "  label 20: 200\n",
      "  label 21: 200\n",
      "  label 22: 200\n",
      "  label 23: 200\n",
      "  label 24: 200\n",
      "  label 25: 200\n",
      "  label 26: 200\n",
      "  label 27: 200\n",
      "  label 28: 200\n",
      "  label 29: 200\n",
      "  label 30: 200\n",
      "  label 31: 200\n",
      "  label 32: 200\n",
      "  label 33: 200\n",
      "  label 34: 200\n",
      "  label 35: 200\n",
      "  label 36: 200\n",
      "  label 37: 200\n",
      "  label 38: 200\n",
      "  label 39: 200\n",
      "  label 40: 200\n",
      "  label 41: 200\n",
      "  label 42: 200\n",
      "  label 43: 200\n",
      "  label 44: 200\n",
      "  label 45: 200\n",
      "  label 46: 200\n",
      "  label 47: 529\n",
      "  label 48: 202\n",
      "  label 49: 200\n",
      "model is bert-base-uncased bilstm\n",
      "Epoch 1/20\n"
     ]
    },
    {
     "name": "stderr",
     "output_type": "stream",
     "text": [
      "100%|██████████| 761/761 [01:15<00:00, 10.05it/s]\n"
     ]
    },
    {
     "name": "stdout",
     "output_type": "stream",
     "text": [
      "{'val_loss': 1.536451590511034, 'val_accuracy': 0.5940828402366863, 'precision': 0.6159022462301367, 'recall': 0.5940828402366863, 'f1-score': 0.5826057890924983, 'macro_f1-score': 0.31407235869184214, 'balanced_accuracy': 0.38507185994936466, 'mcc': 0.4703111211652626, 'train_loss': 2.158779280649378}\n",
      "Epoch 2/20\n"
     ]
    },
    {
     "name": "stderr",
     "output_type": "stream",
     "text": [
      "100%|██████████| 761/761 [01:15<00:00, 10.05it/s]\n"
     ]
    },
    {
     "name": "stdout",
     "output_type": "stream",
     "text": [
      "{'val_loss': 1.411656230688095, 'val_accuracy': 0.6313609467455621, 'precision': 0.6264837692468757, 'recall': 0.6313609467455621, 'f1-score': 0.6166507635209223, 'macro_f1-score': 0.33794281622564426, 'balanced_accuracy': 0.3569845397889213, 'mcc': 0.5169627013686687, 'train_loss': 0.8846114576058695}\n",
      "Epoch 3/20\n"
     ]
    },
    {
     "name": "stderr",
     "output_type": "stream",
     "text": [
      "100%|██████████| 761/761 [01:15<00:00, 10.07it/s]\n"
     ]
    },
    {
     "name": "stdout",
     "output_type": "stream",
     "text": [
      "{'val_loss': 1.3773651193335372, 'val_accuracy': 0.6579881656804734, 'precision': 0.6601206228617997, 'recall': 0.6579881656804734, 'f1-score': 0.6492256146650706, 'macro_f1-score': 0.3835427045694405, 'balanced_accuracy': 0.3855173646872149, 'mcc': 0.5530738576628083, 'train_loss': 0.5584664160725948}\n",
      "Epoch 4/20\n"
     ]
    },
    {
     "name": "stderr",
     "output_type": "stream",
     "text": [
      "100%|██████████| 761/761 [01:15<00:00, 10.05it/s]\n"
     ]
    },
    {
     "name": "stdout",
     "output_type": "stream",
     "text": [
      "{'val_loss': 1.4984626681456026, 'val_accuracy': 0.644378698224852, 'precision': 0.6355510872398458, 'recall': 0.644378698224852, 'f1-score': 0.6282795981577556, 'macro_f1-score': 0.36321068859517397, 'balanced_accuracy': 0.36476076037205507, 'mcc': 0.5270134407962203, 'train_loss': 0.4034006981088556}\n",
      "Epoch 5/20\n"
     ]
    },
    {
     "name": "stderr",
     "output_type": "stream",
     "text": [
      "100%|██████████| 761/761 [01:15<00:00, 10.07it/s]\n"
     ]
    },
    {
     "name": "stdout",
     "output_type": "stream",
     "text": [
      "{'val_loss': 1.554059104396487, 'val_accuracy': 0.6378698224852071, 'precision': 0.681189626577244, 'recall': 0.6378698224852071, 'f1-score': 0.6439165214542975, 'macro_f1-score': 0.36900259807893954, 'balanced_accuracy': 0.3970534662375912, 'mcc': 0.5433600597613917, 'train_loss': 0.3299863795711905}\n",
      "Epoch 6/20\n"
     ]
    },
    {
     "name": "stderr",
     "output_type": "stream",
     "text": [
      "100%|██████████| 761/761 [01:15<00:00, 10.13it/s]\n"
     ]
    },
    {
     "name": "stdout",
     "output_type": "stream",
     "text": [
      "{'val_loss': 1.524538851149802, 'val_accuracy': 0.649112426035503, 'precision': 0.7050134664807792, 'recall': 0.649112426035503, 'f1-score': 0.6633801995633195, 'macro_f1-score': 0.4027163829335956, 'balanced_accuracy': 0.41706473791929694, 'mcc': 0.5581902869307368, 'train_loss': 0.281003483367959}\n",
      "Epoch 7/20\n"
     ]
    },
    {
     "name": "stderr",
     "output_type": "stream",
     "text": [
      "100%|██████████| 761/761 [01:15<00:00, 10.06it/s]\n"
     ]
    },
    {
     "name": "stdout",
     "output_type": "stream",
     "text": [
      "{'val_loss': 1.594751724270436, 'val_accuracy': 0.6650887573964497, 'precision': 0.6523752290204978, 'recall': 0.6650887573964497, 'f1-score': 0.6474634630700132, 'macro_f1-score': 0.3423938844650119, 'balanced_accuracy': 0.33688118624486885, 'mcc': 0.5512432009173043, 'train_loss': 0.2509827104589257}\n",
      "Epoch 8/20\n"
     ]
    },
    {
     "name": "stderr",
     "output_type": "stream",
     "text": [
      "100%|██████████| 761/761 [01:15<00:00, 10.08it/s]\n"
     ]
    },
    {
     "name": "stdout",
     "output_type": "stream",
     "text": [
      "{'val_loss': 1.7283922033911605, 'val_accuracy': 0.6349112426035503, 'precision': 0.6422295947277418, 'recall': 0.6349112426035503, 'f1-score': 0.6203900703999513, 'macro_f1-score': 0.3434910391403204, 'balanced_accuracy': 0.3487268720153396, 'mcc': 0.5169704666315819, 'train_loss': 0.21333253457921994}\n",
      "Epoch 9/20\n"
     ]
    },
    {
     "name": "stderr",
     "output_type": "stream",
     "text": [
      "100%|██████████| 761/761 [01:15<00:00, 10.04it/s]\n"
     ]
    },
    {
     "name": "stdout",
     "output_type": "stream",
     "text": [
      "{'val_loss': 1.7679981311677762, 'val_accuracy': 0.6325443786982249, 'precision': 0.6864063884854447, 'recall': 0.6325443786982249, 'f1-score': 0.6412075960053303, 'macro_f1-score': 0.3609680817108356, 'balanced_accuracy': 0.3913740632899985, 'mcc': 0.5363602456502796, 'train_loss': 0.21540131508684796}\n",
      "Early stopping.\n",
      "\n",
      " === bert-base-uncased + bilstm + ros Final 10-fold Cross-Validation Results ===\n",
      "Total time: 4367 seconds\n",
      "Total time: 1 hrs 12 mins 47 secs\n",
      "val_loss: 1.5881\n",
      "val_accuracy: 0.6602\n",
      "precision: 0.6802\n",
      "recall: 0.6602\n",
      "f1-score: 0.6584\n",
      "macro_f1-score: 0.4188\n",
      "balanced_accuracy: 0.4347\n",
      "mcc: 0.5602\n",
      "train_loss: 0.2627\n",
      "▶ Running: roberta-base + lstm + ros\n",
      "tokenizer is roberta-base\n",
      "Using device: cuda\n",
      "CUDA Available: True\n",
      "CUDA Device: NVIDIA GeForce RTX 5070 Ti\n",
      "Current GPU Memory Allocated: 0.02 GB\n",
      "Current GPU Memory Cached: 3.19 GB\n",
      "\n",
      "[Fold 1]\n",
      "Label distribution after resampling:\n",
      "  label 0: 2000\n",
      "  label 1: 200\n",
      "  label 2: 200\n",
      "  label 3: 200\n",
      "  label 4: 205\n",
      "  label 5: 200\n",
      "  label 6: 200\n",
      "  label 7: 200\n",
      "  label 8: 200\n",
      "  label 9: 200\n",
      "  label 10: 200\n",
      "  label 11: 200\n",
      "  label 12: 200\n",
      "  label 13: 200\n",
      "  label 14: 200\n",
      "  label 15: 200\n",
      "  label 16: 200\n",
      "  label 17: 231\n",
      "  label 18: 200\n",
      "  label 19: 200\n",
      "  label 20: 200\n",
      "  label 21: 200\n",
      "  label 22: 200\n",
      "  label 23: 200\n",
      "  label 24: 200\n",
      "  label 25: 200\n",
      "  label 26: 200\n",
      "  label 27: 200\n",
      "  label 28: 200\n",
      "  label 29: 200\n",
      "  label 30: 200\n",
      "  label 31: 200\n",
      "  label 32: 200\n",
      "  label 33: 200\n",
      "  label 34: 200\n",
      "  label 35: 200\n",
      "  label 36: 200\n",
      "  label 37: 200\n",
      "  label 38: 200\n",
      "  label 39: 200\n",
      "  label 40: 200\n",
      "  label 41: 200\n",
      "  label 42: 200\n",
      "  label 43: 200\n",
      "  label 44: 200\n",
      "  label 45: 200\n",
      "  label 46: 200\n",
      "  label 47: 529\n",
      "  label 48: 202\n",
      "  label 49: 200\n",
      "model is roberta-base lstm\n"
     ]
    },
    {
     "name": "stderr",
     "output_type": "stream",
     "text": [
      "Some weights of RobertaModel were not initialized from the model checkpoint at roberta-base and are newly initialized: ['pooler.dense.bias', 'pooler.dense.weight']\n",
      "You should probably TRAIN this model on a down-stream task to be able to use it for predictions and inference.\n"
     ]
    },
    {
     "name": "stdout",
     "output_type": "stream",
     "text": [
      "Epoch 1/20\n"
     ]
    },
    {
     "name": "stderr",
     "output_type": "stream",
     "text": [
      "100%|██████████| 761/761 [01:11<00:00, 10.59it/s]\n"
     ]
    },
    {
     "name": "stdout",
     "output_type": "stream",
     "text": [
      "{'val_loss': 1.9937270609837658, 'val_accuracy': 0.5068007096392667, 'precision': 0.5321908139591337, 'recall': 0.5068007096392667, 'f1-score': 0.48554402077658776, 'macro_f1-score': 0.18623294492015346, 'balanced_accuracy': 0.2821414754032886, 'mcc': 0.37592214104954585, 'train_loss': 2.728883320649256}\n",
      "Epoch 2/20\n"
     ]
    },
    {
     "name": "stderr",
     "output_type": "stream",
     "text": [
      "100%|██████████| 761/761 [01:11<00:00, 10.63it/s]\n"
     ]
    },
    {
     "name": "stdout",
     "output_type": "stream",
     "text": [
      "{'val_loss': 1.7092464959846352, 'val_accuracy': 0.5334121821407452, 'precision': 0.5656129824875764, 'recall': 0.5334121821407452, 'f1-score': 0.5322416087695461, 'macro_f1-score': 0.26152812471640396, 'balanced_accuracy': 0.33438117879213025, 'mcc': 0.4146547988615353, 'train_loss': 1.7270002090977934}\n",
      "Epoch 3/20\n"
     ]
    },
    {
     "name": "stderr",
     "output_type": "stream",
     "text": [
      "100%|██████████| 761/761 [01:11<00:00, 10.59it/s]\n"
     ]
    },
    {
     "name": "stdout",
     "output_type": "stream",
     "text": [
      "{'val_loss': 1.6456908786071922, 'val_accuracy': 0.560615020697812, 'precision': 0.5718364994829976, 'recall': 0.560615020697812, 'f1-score': 0.5517225116441912, 'macro_f1-score': 0.29763945661944713, 'balanced_accuracy': 0.35522214426837395, 'mcc': 0.4407549729606415, 'train_loss': 1.304094014750517}\n",
      "Epoch 4/20\n"
     ]
    },
    {
     "name": "stderr",
     "output_type": "stream",
     "text": [
      "100%|██████████| 761/761 [01:11<00:00, 10.59it/s]\n"
     ]
    },
    {
     "name": "stdout",
     "output_type": "stream",
     "text": [
      "{'val_loss': 1.4509275229472034, 'val_accuracy': 0.6079243051448847, 'precision': 0.6090319674497718, 'recall': 0.6079243051448847, 'f1-score': 0.5827861658360756, 'macro_f1-score': 0.3365114223525601, 'balanced_accuracy': 0.3768927418591076, 'mcc': 0.48103284605851526, 'train_loss': 1.0354759224767598}\n",
      "Epoch 5/20\n"
     ]
    },
    {
     "name": "stderr",
     "output_type": "stream",
     "text": [
      "100%|██████████| 761/761 [01:11<00:00, 10.58it/s]\n"
     ]
    },
    {
     "name": "stdout",
     "output_type": "stream",
     "text": [
      "{'val_loss': 1.5697554619807117, 'val_accuracy': 0.5824955647545831, 'precision': 0.6353444098490956, 'recall': 0.5824955647545831, 'f1-score': 0.5793048514362, 'macro_f1-score': 0.335587653480808, 'balanced_accuracy': 0.4068839001875228, 'mcc': 0.47549270555561207, 'train_loss': 0.9151519644667692}\n",
      "Epoch 6/20\n"
     ]
    },
    {
     "name": "stderr",
     "output_type": "stream",
     "text": [
      "100%|██████████| 761/761 [01:11<00:00, 10.59it/s]\n"
     ]
    },
    {
     "name": "stdout",
     "output_type": "stream",
     "text": [
      "{'val_loss': 1.5109420193816132, 'val_accuracy': 0.6191602602010644, 'precision': 0.61357170436786, 'recall': 0.6191602602010644, 'f1-score': 0.5990991676227795, 'macro_f1-score': 0.3500154215313834, 'balanced_accuracy': 0.3967258833586196, 'mcc': 0.49492940359051574, 'train_loss': 0.74970960780567}\n",
      "Epoch 7/20\n"
     ]
    },
    {
     "name": "stderr",
     "output_type": "stream",
     "text": [
      "100%|██████████| 761/761 [01:11<00:00, 10.59it/s]\n"
     ]
    },
    {
     "name": "stdout",
     "output_type": "stream",
     "text": [
      "{'val_loss': 1.5652157540591258, 'val_accuracy': 0.615612063867534, 'precision': 0.60421022318213, 'recall': 0.615612063867534, 'f1-score': 0.5986744239848105, 'macro_f1-score': 0.3507664603231966, 'balanced_accuracy': 0.37902505056182534, 'mcc': 0.4915951218312866, 'train_loss': 0.7011789964529124}\n",
      "Epoch 8/20\n"
     ]
    },
    {
     "name": "stderr",
     "output_type": "stream",
     "text": [
      "100%|██████████| 761/761 [01:11<00:00, 10.62it/s]\n"
     ]
    },
    {
     "name": "stdout",
     "output_type": "stream",
     "text": [
      "{'val_loss': 1.486377570707843, 'val_accuracy': 0.6132465996451804, 'precision': 0.6259358905596024, 'recall': 0.6132465996451804, 'f1-score': 0.6024575624087586, 'macro_f1-score': 0.34130789675234396, 'balanced_accuracy': 0.3673406292759294, 'mcc': 0.49194334378495763, 'train_loss': 0.6283900490600943}\n",
      "Epoch 9/20\n"
     ]
    },
    {
     "name": "stderr",
     "output_type": "stream",
     "text": [
      "100%|██████████| 761/761 [01:11<00:00, 10.57it/s]\n"
     ]
    },
    {
     "name": "stdout",
     "output_type": "stream",
     "text": [
      "{'val_loss': 1.7190285623073578, 'val_accuracy': 0.5801301005322295, 'precision': 0.6613859239406582, 'recall': 0.5801301005322295, 'f1-score': 0.5995290914084827, 'macro_f1-score': 0.3711060524120427, 'balanced_accuracy': 0.3989638634973733, 'mcc': 0.48350906219083933, 'train_loss': 0.5901549762205445}\n",
      "Epoch 10/20\n"
     ]
    },
    {
     "name": "stderr",
     "output_type": "stream",
     "text": [
      "100%|██████████| 761/761 [01:11<00:00, 10.60it/s]\n"
     ]
    },
    {
     "name": "stdout",
     "output_type": "stream",
     "text": [
      "{'val_loss': 1.5629785687855955, 'val_accuracy': 0.6061502069781195, 'precision': 0.6372630568434242, 'recall': 0.6061502069781195, 'f1-score': 0.6102064084147839, 'macro_f1-score': 0.3719923705880849, 'balanced_accuracy': 0.40493378565951127, 'mcc': 0.4988631272275945, 'train_loss': 0.550465828710959}\n",
      "Epoch 11/20\n"
     ]
    },
    {
     "name": "stderr",
     "output_type": "stream",
     "text": [
      "100%|██████████| 761/761 [01:11<00:00, 10.59it/s]\n"
     ]
    },
    {
     "name": "stdout",
     "output_type": "stream",
     "text": [
      "{'val_loss': 1.641203724550751, 'val_accuracy': 0.6061502069781195, 'precision': 0.6613308317272035, 'recall': 0.6061502069781195, 'f1-score': 0.6200424973600487, 'macro_f1-score': 0.3779371301097948, 'balanced_accuracy': 0.4211506637275584, 'mcc': 0.5058491715975071, 'train_loss': 0.47083610012324506}\n",
      "Epoch 12/20\n"
     ]
    },
    {
     "name": "stderr",
     "output_type": "stream",
     "text": [
      "100%|██████████| 761/761 [01:11<00:00, 10.58it/s]\n"
     ]
    },
    {
     "name": "stdout",
     "output_type": "stream",
     "text": [
      "{'val_loss': 1.5473229674235829, 'val_accuracy': 0.615612063867534, 'precision': 0.6759057660953577, 'recall': 0.615612063867534, 'f1-score': 0.632939795432697, 'macro_f1-score': 0.4071921009817016, 'balanced_accuracy': 0.4270951583424056, 'mcc': 0.5261448104512643, 'train_loss': 0.46111388435482037}\n",
      "Epoch 13/20\n"
     ]
    },
    {
     "name": "stderr",
     "output_type": "stream",
     "text": [
      "100%|██████████| 761/761 [01:11<00:00, 10.58it/s]\n"
     ]
    },
    {
     "name": "stdout",
     "output_type": "stream",
     "text": [
      "{'val_loss': 1.562978501870947, 'val_accuracy': 0.6469544648137197, 'precision': 0.6606584509076019, 'recall': 0.6469544648137197, 'f1-score': 0.6381618095262022, 'macro_f1-score': 0.3851259954371809, 'balanced_accuracy': 0.4033405926941853, 'mcc': 0.5412662737422415, 'train_loss': 0.41802244013696715}\n",
      "Epoch 14/20\n"
     ]
    },
    {
     "name": "stderr",
     "output_type": "stream",
     "text": [
      "100%|██████████| 761/761 [01:11<00:00, 10.59it/s]\n"
     ]
    },
    {
     "name": "stdout",
     "output_type": "stream",
     "text": [
      "{'val_loss': 1.6196692181083392, 'val_accuracy': 0.6369012418687168, 'precision': 0.6459308267989273, 'recall': 0.6369012418687168, 'f1-score': 0.6297674956518097, 'macro_f1-score': 0.3978040556391985, 'balanced_accuracy': 0.4204918678968621, 'mcc': 0.5324534209555105, 'train_loss': 0.4062537874111051}\n",
      "Epoch 15/20\n"
     ]
    },
    {
     "name": "stderr",
     "output_type": "stream",
     "text": [
      "100%|██████████| 761/761 [01:11<00:00, 10.59it/s]\n"
     ]
    },
    {
     "name": "stdout",
     "output_type": "stream",
     "text": [
      "{'val_loss': 1.712753437037738, 'val_accuracy': 0.6191602602010644, 'precision': 0.6479628141381737, 'recall': 0.6191602602010644, 'f1-score': 0.6228287656386323, 'macro_f1-score': 0.37706076553969387, 'balanced_accuracy': 0.4113427902352758, 'mcc': 0.5136652665663997, 'train_loss': 0.456943400563983}\n",
      "Early stopping.\n",
      "\n",
      "[Fold 2]\n",
      "Label distribution after resampling:\n",
      "  label 0: 2000\n",
      "  label 1: 200\n",
      "  label 2: 200\n",
      "  label 3: 200\n",
      "  label 4: 206\n",
      "  label 5: 200\n",
      "  label 6: 200\n",
      "  label 7: 200\n",
      "  label 8: 200\n",
      "  label 9: 200\n",
      "  label 10: 200\n",
      "  label 11: 200\n",
      "  label 12: 200\n",
      "  label 13: 200\n",
      "  label 14: 200\n",
      "  label 15: 200\n",
      "  label 16: 200\n",
      "  label 17: 231\n",
      "  label 18: 200\n",
      "  label 19: 200\n",
      "  label 20: 200\n",
      "  label 21: 200\n",
      "  label 22: 200\n",
      "  label 23: 200\n",
      "  label 24: 200\n",
      "  label 25: 200\n",
      "  label 26: 200\n",
      "  label 27: 200\n",
      "  label 28: 200\n",
      "  label 29: 200\n",
      "  label 30: 200\n",
      "  label 31: 200\n",
      "  label 32: 200\n",
      "  label 33: 200\n",
      "  label 34: 200\n",
      "  label 35: 200\n",
      "  label 36: 200\n",
      "  label 37: 200\n",
      "  label 38: 200\n",
      "  label 39: 200\n",
      "  label 40: 200\n",
      "  label 41: 200\n",
      "  label 42: 200\n",
      "  label 43: 200\n",
      "  label 44: 200\n",
      "  label 45: 200\n",
      "  label 46: 200\n",
      "  label 47: 528\n",
      "  label 48: 202\n",
      "  label 49: 200\n",
      "model is roberta-base lstm\n"
     ]
    },
    {
     "name": "stderr",
     "output_type": "stream",
     "text": [
      "Some weights of RobertaModel were not initialized from the model checkpoint at roberta-base and are newly initialized: ['pooler.dense.bias', 'pooler.dense.weight']\n",
      "You should probably TRAIN this model on a down-stream task to be able to use it for predictions and inference.\n"
     ]
    },
    {
     "name": "stdout",
     "output_type": "stream",
     "text": [
      "Epoch 1/20\n"
     ]
    },
    {
     "name": "stderr",
     "output_type": "stream",
     "text": [
      "100%|██████████| 761/761 [01:11<00:00, 10.62it/s]\n"
     ]
    },
    {
     "name": "stdout",
     "output_type": "stream",
     "text": [
      "{'val_loss': 2.0959183101384147, 'val_accuracy': 0.4689532820816085, 'precision': 0.5069856421190522, 'recall': 0.4689532820816085, 'f1-score': 0.4611417140015696, 'macro_f1-score': 0.13367771306104806, 'balanced_accuracy': 0.24100645678464644, 'mcc': 0.3299530873701999, 'train_loss': 3.0627678181589353}\n",
      "Epoch 2/20\n"
     ]
    },
    {
     "name": "stderr",
     "output_type": "stream",
     "text": [
      "100%|██████████| 761/761 [01:11<00:00, 10.61it/s]\n"
     ]
    },
    {
     "name": "stdout",
     "output_type": "stream",
     "text": [
      "{'val_loss': 1.8365106537656963, 'val_accuracy': 0.5008870490833827, 'precision': 0.5337966538615028, 'recall': 0.5008870490833827, 'f1-score': 0.4900682218025696, 'macro_f1-score': 0.21928947429002194, 'balanced_accuracy': 0.30930122305619734, 'mcc': 0.3627793325487342, 'train_loss': 2.0433693126372687}\n",
      "Epoch 3/20\n"
     ]
    },
    {
     "name": "stderr",
     "output_type": "stream",
     "text": [
      "100%|██████████| 761/761 [01:11<00:00, 10.58it/s]\n"
     ]
    },
    {
     "name": "stdout",
     "output_type": "stream",
     "text": [
      "{'val_loss': 1.6202561984646995, 'val_accuracy': 0.576581904198699, 'precision': 0.5334483224838784, 'recall': 0.576581904198699, 'f1-score': 0.5431106907569343, 'macro_f1-score': 0.25597518237082795, 'balanced_accuracy': 0.3351037619319735, 'mcc': 0.4354291129524667, 'train_loss': 1.6062289439582322}\n",
      "Epoch 4/20\n"
     ]
    },
    {
     "name": "stderr",
     "output_type": "stream",
     "text": [
      "100%|██████████| 761/761 [01:12<00:00, 10.56it/s]\n"
     ]
    },
    {
     "name": "stdout",
     "output_type": "stream",
     "text": [
      "{'val_loss': 1.6079042340224643, 'val_accuracy': 0.5612063867534004, 'precision': 0.5573701932489208, 'recall': 0.5612063867534004, 'f1-score': 0.547411572053206, 'macro_f1-score': 0.28664835858958926, 'balanced_accuracy': 0.3484442520902619, 'mcc': 0.43126878359967796, 'train_loss': 1.288575125586501}\n",
      "Epoch 5/20\n"
     ]
    },
    {
     "name": "stderr",
     "output_type": "stream",
     "text": [
      "100%|██████████| 761/761 [01:11<00:00, 10.60it/s]\n"
     ]
    },
    {
     "name": "stdout",
     "output_type": "stream",
     "text": [
      "{'val_loss': 1.508752536098912, 'val_accuracy': 0.6037847427557658, 'precision': 0.5881873043887429, 'recall': 0.6037847427557658, 'f1-score': 0.5834344069448989, 'macro_f1-score': 0.331259858957128, 'balanced_accuracy': 0.3873088175885244, 'mcc': 0.4823321875612437, 'train_loss': 1.1011900434982762}\n",
      "Epoch 6/20\n"
     ]
    },
    {
     "name": "stderr",
     "output_type": "stream",
     "text": [
      "100%|██████████| 761/761 [01:11<00:00, 10.62it/s]\n"
     ]
    },
    {
     "name": "stdout",
     "output_type": "stream",
     "text": [
      "{'val_loss': 1.542963646774022, 'val_accuracy': 0.6120638675340035, 'precision': 0.6421759437544327, 'recall': 0.6120638675340035, 'f1-score': 0.5910384627386449, 'macro_f1-score': 0.33305967521133434, 'balanced_accuracy': 0.3700098961193518, 'mcc': 0.4822623830534378, 'train_loss': 0.9662570912053174}\n",
      "Epoch 7/20\n"
     ]
    },
    {
     "name": "stderr",
     "output_type": "stream",
     "text": [
      "100%|██████████| 761/761 [01:11<00:00, 10.59it/s]\n"
     ]
    },
    {
     "name": "stdout",
     "output_type": "stream",
     "text": [
      "{'val_loss': 1.66448963531908, 'val_accuracy': 0.5866351271437019, 'precision': 0.634696180904645, 'recall': 0.5866351271437019, 'f1-score': 0.5831682771662731, 'macro_f1-score': 0.3290098151851221, 'balanced_accuracy': 0.41666374951364915, 'mcc': 0.47429741837639605, 'train_loss': 0.8465399204823096}\n",
      "Epoch 8/20\n"
     ]
    },
    {
     "name": "stderr",
     "output_type": "stream",
     "text": [
      "100%|██████████| 761/761 [01:11<00:00, 10.57it/s]\n"
     ]
    },
    {
     "name": "stdout",
     "output_type": "stream",
     "text": [
      "{'val_loss': 1.4918405368642986, 'val_accuracy': 0.6102897693672383, 'precision': 0.6396019634083749, 'recall': 0.6102897693672383, 'f1-score': 0.6138851924296055, 'macro_f1-score': 0.3674958435926927, 'balanced_accuracy': 0.4272922489112794, 'mcc': 0.5051768535578939, 'train_loss': 0.7620722134248813}\n",
      "Epoch 9/20\n"
     ]
    },
    {
     "name": "stderr",
     "output_type": "stream",
     "text": [
      "100%|██████████| 761/761 [01:11<00:00, 10.58it/s]\n"
     ]
    },
    {
     "name": "stdout",
     "output_type": "stream",
     "text": [
      "{'val_loss': 1.5570608723276067, 'val_accuracy': 0.6049674748669427, 'precision': 0.6365848420001365, 'recall': 0.6049674748669427, 'f1-score': 0.6062711555263667, 'macro_f1-score': 0.3496241509864158, 'balanced_accuracy': 0.3986185749208749, 'mcc': 0.4979529198630505, 'train_loss': 0.7238434034347064}\n",
      "Epoch 10/20\n"
     ]
    },
    {
     "name": "stderr",
     "output_type": "stream",
     "text": [
      "100%|██████████| 761/761 [01:11<00:00, 10.60it/s]\n"
     ]
    },
    {
     "name": "stdout",
     "output_type": "stream",
     "text": [
      "{'val_loss': 1.6163335313212197, 'val_accuracy': 0.5824955647545831, 'precision': 0.6354871707086791, 'recall': 0.5824955647545831, 'f1-score': 0.5916505623094942, 'macro_f1-score': 0.34568957193454247, 'balanced_accuracy': 0.39791144608811835, 'mcc': 0.4828500170929873, 'train_loss': 0.6855491784630091}\n",
      "Epoch 11/20\n"
     ]
    },
    {
     "name": "stderr",
     "output_type": "stream",
     "text": [
      "100%|██████████| 761/761 [01:11<00:00, 10.60it/s]\n"
     ]
    },
    {
     "name": "stdout",
     "output_type": "stream",
     "text": [
      "{'val_loss': 1.5628030543338578, 'val_accuracy': 0.6114725014784151, 'precision': 0.62562157250374, 'recall': 0.6114725014784151, 'f1-score': 0.6074067316284888, 'macro_f1-score': 0.3577741033091759, 'balanced_accuracy': 0.39694457072025435, 'mcc': 0.49861789446819693, 'train_loss': 0.6328705889558354}\n",
      "Early stopping.\n",
      "\n",
      "[Fold 3]\n",
      "Label distribution after resampling:\n",
      "  label 0: 2000\n",
      "  label 1: 200\n",
      "  label 2: 200\n",
      "  label 3: 200\n",
      "  label 4: 206\n",
      "  label 5: 200\n",
      "  label 6: 200\n",
      "  label 7: 200\n",
      "  label 8: 200\n",
      "  label 9: 200\n",
      "  label 10: 200\n",
      "  label 11: 200\n",
      "  label 12: 200\n",
      "  label 13: 200\n",
      "  label 14: 200\n",
      "  label 15: 200\n",
      "  label 16: 200\n",
      "  label 17: 231\n",
      "  label 18: 200\n",
      "  label 19: 200\n",
      "  label 20: 200\n",
      "  label 21: 200\n",
      "  label 22: 200\n",
      "  label 23: 200\n",
      "  label 24: 200\n",
      "  label 25: 200\n",
      "  label 26: 200\n",
      "  label 27: 200\n",
      "  label 28: 200\n",
      "  label 29: 200\n",
      "  label 30: 200\n",
      "  label 31: 200\n",
      "  label 32: 200\n",
      "  label 33: 200\n",
      "  label 34: 200\n",
      "  label 35: 200\n",
      "  label 36: 200\n",
      "  label 37: 200\n",
      "  label 38: 200\n",
      "  label 39: 200\n",
      "  label 40: 200\n",
      "  label 41: 200\n",
      "  label 42: 200\n",
      "  label 43: 200\n",
      "  label 44: 200\n",
      "  label 45: 200\n",
      "  label 46: 200\n",
      "  label 47: 529\n",
      "  label 48: 201\n",
      "  label 49: 200\n",
      "model is roberta-base lstm\n"
     ]
    },
    {
     "name": "stderr",
     "output_type": "stream",
     "text": [
      "Some weights of RobertaModel were not initialized from the model checkpoint at roberta-base and are newly initialized: ['pooler.dense.bias', 'pooler.dense.weight']\n",
      "You should probably TRAIN this model on a down-stream task to be able to use it for predictions and inference.\n"
     ]
    },
    {
     "name": "stdout",
     "output_type": "stream",
     "text": [
      "Epoch 1/20\n"
     ]
    },
    {
     "name": "stderr",
     "output_type": "stream",
     "text": [
      "100%|██████████| 761/761 [01:11<00:00, 10.62it/s]\n"
     ]
    },
    {
     "name": "stdout",
     "output_type": "stream",
     "text": [
      "{'val_loss': 1.939632479874593, 'val_accuracy': 0.48905972797161446, 'precision': 0.5136181891818496, 'recall': 0.48905972797161446, 'f1-score': 0.4716792473203854, 'macro_f1-score': 0.183619432261396, 'balanced_accuracy': 0.2942787269467727, 'mcc': 0.34497361683565697, 'train_loss': 2.6479560860509785}\n",
      "Epoch 2/20\n"
     ]
    },
    {
     "name": "stderr",
     "output_type": "stream",
     "text": [
      "100%|██████████| 761/761 [01:11<00:00, 10.58it/s]\n"
     ]
    },
    {
     "name": "stdout",
     "output_type": "stream",
     "text": [
      "{'val_loss': 1.6576752820104923, 'val_accuracy': 0.5357776463630988, 'precision': 0.5989060553310143, 'recall': 0.5357776463630988, 'f1-score': 0.5437824986090452, 'macro_f1-score': 0.2640794541144119, 'balanced_accuracy': 0.34639225562494064, 'mcc': 0.41173679893195037, 'train_loss': 1.6799126876011472}\n",
      "Epoch 3/20\n"
     ]
    },
    {
     "name": "stderr",
     "output_type": "stream",
     "text": [
      "100%|██████████| 761/761 [01:11<00:00, 10.58it/s]\n"
     ]
    },
    {
     "name": "stdout",
     "output_type": "stream",
     "text": [
      "{'val_loss': 1.6212011013390883, 'val_accuracy': 0.5617977528089888, 'precision': 0.6086379494964058, 'recall': 0.5617977528089888, 'f1-score': 0.5676875243903028, 'macro_f1-score': 0.28064901547937493, 'balanced_accuracy': 0.34921117002042024, 'mcc': 0.44226089122570134, 'train_loss': 1.2613774229443182}\n",
      "Epoch 4/20\n"
     ]
    },
    {
     "name": "stderr",
     "output_type": "stream",
     "text": [
      "100%|██████████| 761/761 [01:11<00:00, 10.64it/s]\n"
     ]
    },
    {
     "name": "stdout",
     "output_type": "stream",
     "text": [
      "{'val_loss': 1.6413963049087885, 'val_accuracy': 0.5600236546422236, 'precision': 0.5948456108739082, 'recall': 0.5600236546422236, 'f1-score': 0.5613119490713282, 'macro_f1-score': 0.29785870810652304, 'balanced_accuracy': 0.371531051365439, 'mcc': 0.4381835581451121, 'train_loss': 1.0960846782592217}\n",
      "Epoch 5/20\n"
     ]
    },
    {
     "name": "stderr",
     "output_type": "stream",
     "text": [
      "100%|██████████| 761/761 [01:11<00:00, 10.59it/s]\n"
     ]
    },
    {
     "name": "stdout",
     "output_type": "stream",
     "text": [
      "{'val_loss': 1.5714283979163979, 'val_accuracy': 0.5972797161442933, 'precision': 0.6161359223716465, 'recall': 0.5972797161442933, 'f1-score': 0.5942739509619615, 'macro_f1-score': 0.32568422905864836, 'balanced_accuracy': 0.3645175865655566, 'mcc': 0.482093228870935, 'train_loss': 0.8820048617039967}\n",
      "Epoch 6/20\n"
     ]
    },
    {
     "name": "stderr",
     "output_type": "stream",
     "text": [
      "100%|██████████| 761/761 [01:11<00:00, 10.60it/s]\n"
     ]
    },
    {
     "name": "stdout",
     "output_type": "stream",
     "text": [
      "{'val_loss': 1.4865063968694434, 'val_accuracy': 0.5990538143110585, 'precision': 0.6177903831995606, 'recall': 0.5990538143110585, 'f1-score': 0.59955779595304, 'macro_f1-score': 0.3474158853599356, 'balanced_accuracy': 0.38867113744228965, 'mcc': 0.4877207593656296, 'train_loss': 0.8037991814423014}\n",
      "Epoch 7/20\n"
     ]
    },
    {
     "name": "stderr",
     "output_type": "stream",
     "text": [
      "100%|██████████| 761/761 [01:11<00:00, 10.59it/s]\n"
     ]
    },
    {
     "name": "stdout",
     "output_type": "stream",
     "text": [
      "{'val_loss': 1.527520256222419, 'val_accuracy': 0.6108811354228267, 'precision': 0.6201846493487094, 'recall': 0.6108811354228267, 'f1-score': 0.6061542743486017, 'macro_f1-score': 0.33279828202570066, 'balanced_accuracy': 0.37221843703629537, 'mcc': 0.4980020181082325, 'train_loss': 0.710679689664565}\n",
      "Epoch 8/20\n"
     ]
    },
    {
     "name": "stderr",
     "output_type": "stream",
     "text": [
      "100%|██████████| 761/761 [01:11<00:00, 10.61it/s]\n"
     ]
    },
    {
     "name": "stdout",
     "output_type": "stream",
     "text": [
      "{'val_loss': 1.5537867371766072, 'val_accuracy': 0.615612063867534, 'precision': 0.6337040409162282, 'recall': 0.615612063867534, 'f1-score': 0.6165170467390163, 'macro_f1-score': 0.342384994218327, 'balanced_accuracy': 0.37822550909550734, 'mcc': 0.5086978770663135, 'train_loss': 0.6181578702940734}\n",
      "Epoch 9/20\n"
     ]
    },
    {
     "name": "stderr",
     "output_type": "stream",
     "text": [
      "100%|██████████| 761/761 [01:11<00:00, 10.62it/s]\n"
     ]
    },
    {
     "name": "stdout",
     "output_type": "stream",
     "text": [
      "{'val_loss': 1.6517737850827992, 'val_accuracy': 0.5972797161442933, 'precision': 0.6518968377994966, 'recall': 0.5972797161442933, 'f1-score': 0.5997161540810261, 'macro_f1-score': 0.316257027710494, 'balanced_accuracy': 0.35394132331788236, 'mcc': 0.4910128786737219, 'train_loss': 0.5719868032391453}\n",
      "Early stopping.\n",
      "\n",
      "[Fold 4]\n",
      "Label distribution after resampling:\n",
      "  label 0: 2000\n",
      "  label 1: 200\n",
      "  label 2: 200\n",
      "  label 3: 200\n",
      "  label 4: 206\n",
      "  label 5: 200\n",
      "  label 6: 200\n",
      "  label 7: 200\n",
      "  label 8: 200\n",
      "  label 9: 200\n",
      "  label 10: 200\n",
      "  label 11: 200\n",
      "  label 12: 200\n",
      "  label 13: 200\n",
      "  label 14: 200\n",
      "  label 15: 200\n",
      "  label 16: 200\n",
      "  label 17: 232\n",
      "  label 18: 200\n",
      "  label 19: 200\n",
      "  label 20: 200\n",
      "  label 21: 200\n",
      "  label 22: 200\n",
      "  label 23: 200\n",
      "  label 24: 200\n",
      "  label 25: 200\n",
      "  label 26: 200\n",
      "  label 27: 200\n",
      "  label 28: 200\n",
      "  label 29: 200\n",
      "  label 30: 200\n",
      "  label 31: 200\n",
      "  label 32: 200\n",
      "  label 33: 200\n",
      "  label 34: 200\n",
      "  label 35: 200\n",
      "  label 36: 200\n",
      "  label 37: 200\n",
      "  label 38: 200\n",
      "  label 39: 200\n",
      "  label 40: 200\n",
      "  label 41: 200\n",
      "  label 42: 200\n",
      "  label 43: 200\n",
      "  label 44: 200\n",
      "  label 45: 200\n",
      "  label 46: 200\n",
      "  label 47: 529\n",
      "  label 48: 201\n",
      "  label 49: 200\n",
      "model is roberta-base lstm\n"
     ]
    },
    {
     "name": "stderr",
     "output_type": "stream",
     "text": [
      "Some weights of RobertaModel were not initialized from the model checkpoint at roberta-base and are newly initialized: ['pooler.dense.bias', 'pooler.dense.weight']\n",
      "You should probably TRAIN this model on a down-stream task to be able to use it for predictions and inference.\n"
     ]
    },
    {
     "name": "stdout",
     "output_type": "stream",
     "text": [
      "Epoch 1/20\n"
     ]
    },
    {
     "name": "stderr",
     "output_type": "stream",
     "text": [
      "100%|██████████| 761/761 [01:11<00:00, 10.61it/s]\n"
     ]
    },
    {
     "name": "stdout",
     "output_type": "stream",
     "text": [
      "{'val_loss': 1.743742511519846, 'val_accuracy': 0.556475458308693, 'precision': 0.5560772162622021, 'recall': 0.556475458308693, 'f1-score': 0.5239668274645276, 'macro_f1-score': 0.2289537850056436, 'balanced_accuracy': 0.3179376143414407, 'mcc': 0.41277415675242246, 'train_loss': 2.695896837620478}\n",
      "Epoch 2/20\n"
     ]
    },
    {
     "name": "stderr",
     "output_type": "stream",
     "text": [
      "100%|██████████| 761/761 [01:11<00:00, 10.59it/s]\n"
     ]
    },
    {
     "name": "stdout",
     "output_type": "stream",
     "text": [
      "{'val_loss': 1.8797106815958924, 'val_accuracy': 0.4931992903607333, 'precision': 0.6061978219318623, 'recall': 0.4931992903607333, 'f1-score': 0.5181100760985201, 'macro_f1-score': 0.27734447955744634, 'balanced_accuracy': 0.3950151272561331, 'mcc': 0.399925221239967, 'train_loss': 1.6511745915384706}\n",
      "Epoch 3/20\n"
     ]
    },
    {
     "name": "stderr",
     "output_type": "stream",
     "text": [
      "100%|██████████| 761/761 [01:12<00:00, 10.56it/s]\n"
     ]
    },
    {
     "name": "stdout",
     "output_type": "stream",
     "text": [
      "{'val_loss': 1.426180490345325, 'val_accuracy': 0.6085156712004731, 'precision': 0.6241558612172086, 'recall': 0.6085156712004731, 'f1-score': 0.599426201821565, 'macro_f1-score': 0.3544700781769883, 'balanced_accuracy': 0.39628258090062735, 'mcc': 0.4867162898221723, 'train_loss': 1.2127307292744616}\n",
      "Epoch 4/20\n"
     ]
    },
    {
     "name": "stderr",
     "output_type": "stream",
     "text": [
      "100%|██████████| 761/761 [01:11<00:00, 10.60it/s]\n"
     ]
    },
    {
     "name": "stdout",
     "output_type": "stream",
     "text": [
      "{'val_loss': 1.4287390433392435, 'val_accuracy': 0.6238911886457718, 'precision': 0.6357005989392733, 'recall': 0.6238911886457718, 'f1-score': 0.6222234628036101, 'macro_f1-score': 0.3930963521436543, 'balanced_accuracy': 0.4406987902050332, 'mcc': 0.5159121098227684, 'train_loss': 1.001206961865494}\n",
      "Epoch 5/20\n"
     ]
    },
    {
     "name": "stderr",
     "output_type": "stream",
     "text": [
      "100%|██████████| 761/761 [01:11<00:00, 10.60it/s]\n"
     ]
    },
    {
     "name": "stdout",
     "output_type": "stream",
     "text": [
      "{'val_loss': 1.4067995964356188, 'val_accuracy': 0.6321703134240094, 'precision': 0.6710172092847547, 'recall': 0.6321703134240094, 'f1-score': 0.6334088679561224, 'macro_f1-score': 0.39249097761563256, 'balanced_accuracy': 0.4198410005868613, 'mcc': 0.5257092093964821, 'train_loss': 0.8425156969317625}\n",
      "Epoch 6/20\n"
     ]
    },
    {
     "name": "stderr",
     "output_type": "stream",
     "text": [
      "100%|██████████| 761/761 [01:11<00:00, 10.59it/s]\n"
     ]
    },
    {
     "name": "stdout",
     "output_type": "stream",
     "text": [
      "{'val_loss': 1.5034440823321074, 'val_accuracy': 0.6061502069781195, 'precision': 0.6998328009787049, 'recall': 0.6061502069781195, 'f1-score': 0.6213596643649275, 'macro_f1-score': 0.39665519443823677, 'balanced_accuracy': 0.4654999984827773, 'mcc': 0.5072899758355249, 'train_loss': 0.7228267606979287}\n",
      "Epoch 7/20\n"
     ]
    },
    {
     "name": "stderr",
     "output_type": "stream",
     "text": [
      "100%|██████████| 761/761 [01:12<00:00, 10.56it/s]\n"
     ]
    },
    {
     "name": "stdout",
     "output_type": "stream",
     "text": [
      "{'val_loss': 1.4280663062379044, 'val_accuracy': 0.6404494382022472, 'precision': 0.6707568234277552, 'recall': 0.6404494382022472, 'f1-score': 0.6431513565261135, 'macro_f1-score': 0.3977382090405618, 'balanced_accuracy': 0.4339497409080872, 'mcc': 0.5310813571254658, 'train_loss': 0.6607095352894138}\n",
      "Epoch 8/20\n"
     ]
    },
    {
     "name": "stderr",
     "output_type": "stream",
     "text": [
      "100%|██████████| 761/761 [01:12<00:00, 10.56it/s]\n"
     ]
    },
    {
     "name": "stdout",
     "output_type": "stream",
     "text": [
      "{'val_loss': 1.523424339181972, 'val_accuracy': 0.6173861620342992, 'precision': 0.6616334128754343, 'recall': 0.6173861620342992, 'f1-score': 0.6281098282818327, 'macro_f1-score': 0.3884674825571801, 'balanced_accuracy': 0.42930613584654076, 'mcc': 0.5185059255263591, 'train_loss': 0.5986304037742874}\n",
      "Epoch 9/20\n"
     ]
    },
    {
     "name": "stderr",
     "output_type": "stream",
     "text": [
      "100%|██████████| 761/761 [01:11<00:00, 10.60it/s]\n"
     ]
    },
    {
     "name": "stdout",
     "output_type": "stream",
     "text": [
      "{'val_loss': 1.4291861180989247, 'val_accuracy': 0.6522767593140154, 'precision': 0.6672402037613122, 'recall': 0.6522767593140154, 'f1-score': 0.6476971317174244, 'macro_f1-score': 0.4097372485187713, 'balanced_accuracy': 0.4599205423584432, 'mcc': 0.5480778945249416, 'train_loss': 0.5845665085213883}\n",
      "Epoch 10/20\n"
     ]
    },
    {
     "name": "stderr",
     "output_type": "stream",
     "text": [
      "100%|██████████| 761/761 [01:11<00:00, 10.59it/s]\n"
     ]
    },
    {
     "name": "stdout",
     "output_type": "stream",
     "text": [
      "{'val_loss': 1.6149440739514693, 'val_accuracy': 0.6061502069781195, 'precision': 0.6800876207538243, 'recall': 0.6061502069781195, 'f1-score': 0.6270030966967431, 'macro_f1-score': 0.39382280089517785, 'balanced_accuracy': 0.4646191526472031, 'mcc': 0.508301510778409, 'train_loss': 0.4908434334266123}\n",
      "Epoch 11/20\n"
     ]
    },
    {
     "name": "stderr",
     "output_type": "stream",
     "text": [
      "100%|██████████| 761/761 [01:11<00:00, 10.61it/s]\n"
     ]
    },
    {
     "name": "stdout",
     "output_type": "stream",
     "text": [
      "{'val_loss': 1.461575060239378, 'val_accuracy': 0.654642223536369, 'precision': 0.6656194525618259, 'recall': 0.654642223536369, 'f1-score': 0.6487526908458136, 'macro_f1-score': 0.41014987455263624, 'balanced_accuracy': 0.43594912902308686, 'mcc': 0.5535778437217111, 'train_loss': 0.449224658227194}\n",
      "Epoch 12/20\n"
     ]
    },
    {
     "name": "stderr",
     "output_type": "stream",
     "text": [
      "100%|██████████| 761/761 [01:11<00:00, 10.60it/s]\n"
     ]
    },
    {
     "name": "stdout",
     "output_type": "stream",
     "text": [
      "{'val_loss': 1.5592625475717041, 'val_accuracy': 0.6345357776463632, 'precision': 0.6632220215245774, 'recall': 0.6345357776463632, 'f1-score': 0.6362222117022333, 'macro_f1-score': 0.40719461547715197, 'balanced_accuracy': 0.44629648583821285, 'mcc': 0.5343506331098334, 'train_loss': 0.43852464057769475}\n",
      "Epoch 13/20\n"
     ]
    },
    {
     "name": "stderr",
     "output_type": "stream",
     "text": [
      "100%|██████████| 761/761 [01:12<00:00, 10.57it/s]\n"
     ]
    },
    {
     "name": "stdout",
     "output_type": "stream",
     "text": [
      "{'val_loss': 1.4951968209923439, 'val_accuracy': 0.6558249556475458, 'precision': 0.6710208809875597, 'recall': 0.6558249556475458, 'f1-score': 0.6523506869947228, 'macro_f1-score': 0.42466537765336504, 'balanced_accuracy': 0.44125017627363283, 'mcc': 0.5539917072596696, 'train_loss': 0.4522686055059815}\n",
      "Epoch 14/20\n"
     ]
    },
    {
     "name": "stderr",
     "output_type": "stream",
     "text": [
      "100%|██████████| 761/761 [01:11<00:00, 10.59it/s]\n"
     ]
    },
    {
     "name": "stdout",
     "output_type": "stream",
     "text": [
      "{'val_loss': 1.6092670304032992, 'val_accuracy': 0.6339444115907746, 'precision': 0.660457202933147, 'recall': 0.6339444115907746, 'f1-score': 0.6359191085446612, 'macro_f1-score': 0.40412278230174253, 'balanced_accuracy': 0.44219932257480493, 'mcc': 0.5362481747682506, 'train_loss': 0.41425587154151416}\n",
      "Epoch 15/20\n"
     ]
    },
    {
     "name": "stderr",
     "output_type": "stream",
     "text": [
      "100%|██████████| 761/761 [01:12<00:00, 10.57it/s]\n"
     ]
    },
    {
     "name": "stdout",
     "output_type": "stream",
     "text": [
      "{'val_loss': 1.6078554296268608, 'val_accuracy': 0.6162034299231224, 'precision': 0.6935352838897108, 'recall': 0.6162034299231224, 'f1-score': 0.6302403971629609, 'macro_f1-score': 0.4027519668135933, 'balanced_accuracy': 0.4411718841080075, 'mcc': 0.5255311979958863, 'train_loss': 0.521193452008098}\n",
      "Epoch 16/20\n"
     ]
    },
    {
     "name": "stderr",
     "output_type": "stream",
     "text": [
      "100%|██████████| 761/761 [01:11<00:00, 10.62it/s]\n"
     ]
    },
    {
     "name": "stdout",
     "output_type": "stream",
     "text": [
      "{'val_loss': 1.6143196728431954, 'val_accuracy': 0.6404494382022472, 'precision': 0.6701939420369966, 'recall': 0.6404494382022472, 'f1-score': 0.64342661445038, 'macro_f1-score': 0.41433221016231914, 'balanced_accuracy': 0.4502683696172489, 'mcc': 0.546446467534908, 'train_loss': 0.3982220320728621}\n",
      "Early stopping.\n",
      "\n",
      "[Fold 5]\n",
      "Label distribution after resampling:\n",
      "  label 0: 2000\n",
      "  label 1: 200\n",
      "  label 2: 200\n",
      "  label 3: 200\n",
      "  label 4: 205\n",
      "  label 5: 200\n",
      "  label 6: 200\n",
      "  label 7: 200\n",
      "  label 8: 200\n",
      "  label 9: 200\n",
      "  label 10: 200\n",
      "  label 11: 200\n",
      "  label 12: 200\n",
      "  label 13: 200\n",
      "  label 14: 200\n",
      "  label 15: 200\n",
      "  label 16: 200\n",
      "  label 17: 231\n",
      "  label 18: 200\n",
      "  label 19: 200\n",
      "  label 20: 200\n",
      "  label 21: 200\n",
      "  label 22: 200\n",
      "  label 23: 200\n",
      "  label 24: 200\n",
      "  label 25: 200\n",
      "  label 26: 200\n",
      "  label 27: 200\n",
      "  label 28: 200\n",
      "  label 29: 200\n",
      "  label 30: 200\n",
      "  label 31: 200\n",
      "  label 32: 200\n",
      "  label 33: 200\n",
      "  label 34: 200\n",
      "  label 35: 200\n",
      "  label 36: 200\n",
      "  label 37: 200\n",
      "  label 38: 200\n",
      "  label 39: 200\n",
      "  label 40: 200\n",
      "  label 41: 200\n",
      "  label 42: 200\n",
      "  label 43: 200\n",
      "  label 44: 200\n",
      "  label 45: 200\n",
      "  label 46: 200\n",
      "  label 47: 529\n",
      "  label 48: 202\n",
      "  label 49: 200\n",
      "model is roberta-base lstm\n"
     ]
    },
    {
     "name": "stderr",
     "output_type": "stream",
     "text": [
      "Some weights of RobertaModel were not initialized from the model checkpoint at roberta-base and are newly initialized: ['pooler.dense.bias', 'pooler.dense.weight']\n",
      "You should probably TRAIN this model on a down-stream task to be able to use it for predictions and inference.\n"
     ]
    },
    {
     "name": "stdout",
     "output_type": "stream",
     "text": [
      "Epoch 1/20\n"
     ]
    },
    {
     "name": "stderr",
     "output_type": "stream",
     "text": [
      "100%|██████████| 761/761 [01:11<00:00, 10.59it/s]\n"
     ]
    },
    {
     "name": "stdout",
     "output_type": "stream",
     "text": [
      "{'val_loss': 1.8983323388504532, 'val_accuracy': 0.5508875739644971, 'precision': 0.5465017431430262, 'recall': 0.5508875739644971, 'f1-score': 0.5065890365017364, 'macro_f1-score': 0.19877453300268805, 'balanced_accuracy': 0.2712410355919515, 'mcc': 0.402383929093592, 'train_loss': 2.6544779200748136}\n",
      "Epoch 2/20\n"
     ]
    },
    {
     "name": "stderr",
     "output_type": "stream",
     "text": [
      "100%|██████████| 761/761 [01:11<00:00, 10.60it/s]\n"
     ]
    },
    {
     "name": "stdout",
     "output_type": "stream",
     "text": [
      "{'val_loss': 1.7723505418255645, 'val_accuracy': 0.5378698224852071, 'precision': 0.6037619618528901, 'recall': 0.5378698224852071, 'f1-score': 0.5442960345259135, 'macro_f1-score': 0.2750268733133618, 'balanced_accuracy': 0.36463835622113083, 'mcc': 0.43572394166177253, 'train_loss': 1.642441592532921}\n",
      "Epoch 3/20\n"
     ]
    },
    {
     "name": "stderr",
     "output_type": "stream",
     "text": [
      "100%|██████████| 761/761 [01:11<00:00, 10.61it/s]\n"
     ]
    },
    {
     "name": "stdout",
     "output_type": "stream",
     "text": [
      "{'val_loss': 1.606905406938409, 'val_accuracy': 0.5485207100591716, 'precision': 0.5855956951716951, 'recall': 0.5485207100591716, 'f1-score': 0.5508825685186717, 'macro_f1-score': 0.2978257888454335, 'balanced_accuracy': 0.37208855668496116, 'mcc': 0.440832896309074, 'train_loss': 1.2945482581658057}\n",
      "Epoch 4/20\n"
     ]
    },
    {
     "name": "stderr",
     "output_type": "stream",
     "text": [
      "100%|██████████| 761/761 [01:11<00:00, 10.59it/s]\n"
     ]
    },
    {
     "name": "stdout",
     "output_type": "stream",
     "text": [
      "{'val_loss': 1.6172344948885575, 'val_accuracy': 0.5520710059171597, 'precision': 0.6665431798104751, 'recall': 0.5520710059171597, 'f1-score': 0.576147619056819, 'macro_f1-score': 0.32052724684907424, 'balanced_accuracy': 0.39097431696383383, 'mcc': 0.4528148870098615, 'train_loss': 1.013423564536656}\n",
      "Epoch 5/20\n"
     ]
    },
    {
     "name": "stderr",
     "output_type": "stream",
     "text": [
      "100%|██████████| 761/761 [01:11<00:00, 10.60it/s]\n"
     ]
    },
    {
     "name": "stdout",
     "output_type": "stream",
     "text": [
      "{'val_loss': 1.5151502360712807, 'val_accuracy': 0.6124260355029586, 'precision': 0.6403737154822834, 'recall': 0.6124260355029586, 'f1-score': 0.6078008953805896, 'macro_f1-score': 0.3393111265766376, 'balanced_accuracy': 0.364820324910909, 'mcc': 0.4915841908088992, 'train_loss': 0.9128605046660765}\n",
      "Epoch 6/20\n"
     ]
    },
    {
     "name": "stderr",
     "output_type": "stream",
     "text": [
      "100%|██████████| 761/761 [01:11<00:00, 10.59it/s]\n"
     ]
    },
    {
     "name": "stdout",
     "output_type": "stream",
     "text": [
      "{'val_loss': 1.525067555454542, 'val_accuracy': 0.6053254437869823, 'precision': 0.6437696708802676, 'recall': 0.6053254437869823, 'f1-score': 0.6069877873011061, 'macro_f1-score': 0.3492537877491948, 'balanced_accuracy': 0.37098754741996204, 'mcc': 0.4997724259727572, 'train_loss': 0.7921155662264836}\n",
      "Epoch 7/20\n"
     ]
    },
    {
     "name": "stderr",
     "output_type": "stream",
     "text": [
      "100%|██████████| 761/761 [01:11<00:00, 10.61it/s]\n"
     ]
    },
    {
     "name": "stdout",
     "output_type": "stream",
     "text": [
      "{'val_loss': 1.5543985254359696, 'val_accuracy': 0.5952662721893491, 'precision': 0.6615264451588824, 'recall': 0.5952662721893491, 'f1-score': 0.6085521137393733, 'macro_f1-score': 0.3434068246934775, 'balanced_accuracy': 0.3769435528919631, 'mcc': 0.48852507175282767, 'train_loss': 0.6779119955392924}\n",
      "Epoch 8/20\n"
     ]
    },
    {
     "name": "stderr",
     "output_type": "stream",
     "text": [
      "100%|██████████| 761/761 [01:11<00:00, 10.59it/s]\n"
     ]
    },
    {
     "name": "stdout",
     "output_type": "stream",
     "text": [
      "{'val_loss': 1.555489624727447, 'val_accuracy': 0.6218934911242604, 'precision': 0.6657519622815083, 'recall': 0.6218934911242604, 'f1-score': 0.6234930233380931, 'macro_f1-score': 0.3675423509500522, 'balanced_accuracy': 0.37207411484051134, 'mcc': 0.5044455541282784, 'train_loss': 0.6858868246185795}\n",
      "Epoch 9/20\n"
     ]
    },
    {
     "name": "stderr",
     "output_type": "stream",
     "text": [
      "100%|██████████| 761/761 [01:11<00:00, 10.61it/s]\n"
     ]
    },
    {
     "name": "stdout",
     "output_type": "stream",
     "text": [
      "{'val_loss': 1.6507216621682328, 'val_accuracy': 0.6047337278106509, 'precision': 0.652830981253125, 'recall': 0.6047337278106509, 'f1-score': 0.6121220154073694, 'macro_f1-score': 0.35790854877826483, 'balanced_accuracy': 0.40630973564226075, 'mcc': 0.5008265578574589, 'train_loss': 0.6426608060020341}\n",
      "Epoch 10/20\n"
     ]
    },
    {
     "name": "stderr",
     "output_type": "stream",
     "text": [
      "100%|██████████| 761/761 [01:12<00:00, 10.56it/s]\n"
     ]
    },
    {
     "name": "stdout",
     "output_type": "stream",
     "text": [
      "{'val_loss': 1.558903879714462, 'val_accuracy': 0.6224852071005917, 'precision': 0.6596386487043154, 'recall': 0.6224852071005917, 'f1-score': 0.6273449432400127, 'macro_f1-score': 0.38094914361931775, 'balanced_accuracy': 0.3965929148676861, 'mcc': 0.5158718718357865, 'train_loss': 0.582316839927991}\n",
      "Epoch 11/20\n"
     ]
    },
    {
     "name": "stderr",
     "output_type": "stream",
     "text": [
      "100%|██████████| 761/761 [01:11<00:00, 10.59it/s]\n"
     ]
    },
    {
     "name": "stdout",
     "output_type": "stream",
     "text": [
      "{'val_loss': 1.7420130560420595, 'val_accuracy': 0.578698224852071, 'precision': 0.6812293895023801, 'recall': 0.578698224852071, 'f1-score': 0.608145606196003, 'macro_f1-score': 0.3389008871485807, 'balanced_accuracy': 0.3795418427338161, 'mcc': 0.48278989765495356, 'train_loss': 0.5389041332148613}\n",
      "Epoch 12/20\n"
     ]
    },
    {
     "name": "stderr",
     "output_type": "stream",
     "text": [
      "100%|██████████| 761/761 [01:11<00:00, 10.63it/s]\n"
     ]
    },
    {
     "name": "stdout",
     "output_type": "stream",
     "text": [
      "{'val_loss': 1.6081801034369558, 'val_accuracy': 0.6230769230769231, 'precision': 0.6680313389923924, 'recall': 0.6230769230769231, 'f1-score': 0.6307584490263521, 'macro_f1-score': 0.3688562075677732, 'balanced_accuracy': 0.39868793788623913, 'mcc': 0.5205330655394698, 'train_loss': 0.5126311549679443}\n",
      "Epoch 13/20\n"
     ]
    },
    {
     "name": "stderr",
     "output_type": "stream",
     "text": [
      "100%|██████████| 761/761 [01:11<00:00, 10.59it/s]\n"
     ]
    },
    {
     "name": "stdout",
     "output_type": "stream",
     "text": [
      "{'val_loss': 1.5544130155500375, 'val_accuracy': 0.6556213017751479, 'precision': 0.6818447571898402, 'recall': 0.6556213017751479, 'f1-score': 0.6585590859106463, 'macro_f1-score': 0.40050905844129003, 'balanced_accuracy': 0.41150601036999385, 'mcc': 0.5537750002763732, 'train_loss': 0.4895383038346346}\n",
      "Epoch 14/20\n"
     ]
    },
    {
     "name": "stderr",
     "output_type": "stream",
     "text": [
      "100%|██████████| 761/761 [01:11<00:00, 10.60it/s]\n"
     ]
    },
    {
     "name": "stdout",
     "output_type": "stream",
     "text": [
      "{'val_loss': 1.5848826459556256, 'val_accuracy': 0.6337278106508876, 'precision': 0.6733538226868537, 'recall': 0.6337278106508876, 'f1-score': 0.6422406740206282, 'macro_f1-score': 0.37058611125021024, 'balanced_accuracy': 0.39022692301277473, 'mcc': 0.5332676200555241, 'train_loss': 0.4895524650851311}\n",
      "Epoch 15/20\n"
     ]
    },
    {
     "name": "stderr",
     "output_type": "stream",
     "text": [
      "100%|██████████| 761/761 [01:11<00:00, 10.58it/s]\n"
     ]
    },
    {
     "name": "stdout",
     "output_type": "stream",
     "text": [
      "{'val_loss': 1.5969330426656976, 'val_accuracy': 0.6396449704142012, 'precision': 0.6773362613158742, 'recall': 0.6396449704142012, 'f1-score': 0.6461192641231285, 'macro_f1-score': 0.39213994496783605, 'balanced_accuracy': 0.39500322878018546, 'mcc': 0.5376633519650624, 'train_loss': 0.47201776763965203}\n",
      "Epoch 16/20\n"
     ]
    },
    {
     "name": "stderr",
     "output_type": "stream",
     "text": [
      "100%|██████████| 761/761 [01:11<00:00, 10.58it/s]\n"
     ]
    },
    {
     "name": "stdout",
     "output_type": "stream",
     "text": [
      "{'val_loss': 1.6620687322234207, 'val_accuracy': 0.6408284023668639, 'precision': 0.6756735540105656, 'recall': 0.6408284023668639, 'f1-score': 0.6474937943495256, 'macro_f1-score': 0.394802023933781, 'balanced_accuracy': 0.414137377918212, 'mcc': 0.5372003810215187, 'train_loss': 0.42717837360191907}\n",
      "Early stopping.\n",
      "\n",
      " === roberta-base + lstm + ros Final 10-fold Cross-Validation Results ===\n",
      "Total time: 5097 seconds\n",
      "Total time: 1 hrs 24 mins 57 secs\n",
      "val_loss: 1.5151\n",
      "val_accuracy: 0.6273\n",
      "precision: 0.6572\n",
      "recall: 0.6273\n",
      "f1-score: 0.6315\n",
      "macro_f1-score: 0.3895\n",
      "balanced_accuracy: 0.4192\n",
      "mcc: 0.5254\n",
      "train_loss: 0.5938\n",
      "▶ Running: roberta-base + cnn + ros\n",
      "tokenizer is roberta-base\n",
      "Using device: cuda\n",
      "CUDA Available: True\n",
      "CUDA Device: NVIDIA GeForce RTX 5070 Ti\n",
      "Current GPU Memory Allocated: 0.02 GB\n",
      "Current GPU Memory Cached: 3.96 GB\n",
      "\n",
      "[Fold 1]\n",
      "Label distribution after resampling:\n",
      "  label 0: 2000\n",
      "  label 1: 200\n",
      "  label 2: 200\n",
      "  label 3: 200\n",
      "  label 4: 205\n",
      "  label 5: 200\n",
      "  label 6: 200\n",
      "  label 7: 200\n",
      "  label 8: 200\n",
      "  label 9: 200\n",
      "  label 10: 200\n",
      "  label 11: 200\n",
      "  label 12: 200\n",
      "  label 13: 200\n",
      "  label 14: 200\n",
      "  label 15: 200\n",
      "  label 16: 200\n",
      "  label 17: 231\n",
      "  label 18: 200\n",
      "  label 19: 200\n",
      "  label 20: 200\n",
      "  label 21: 200\n",
      "  label 22: 200\n",
      "  label 23: 200\n",
      "  label 24: 200\n",
      "  label 25: 200\n",
      "  label 26: 200\n",
      "  label 27: 200\n",
      "  label 28: 200\n",
      "  label 29: 200\n",
      "  label 30: 200\n",
      "  label 31: 200\n",
      "  label 32: 200\n",
      "  label 33: 200\n",
      "  label 34: 200\n",
      "  label 35: 200\n",
      "  label 36: 200\n",
      "  label 37: 200\n",
      "  label 38: 200\n",
      "  label 39: 200\n",
      "  label 40: 200\n",
      "  label 41: 200\n",
      "  label 42: 200\n",
      "  label 43: 200\n",
      "  label 44: 200\n",
      "  label 45: 200\n",
      "  label 46: 200\n",
      "  label 47: 529\n",
      "  label 48: 202\n",
      "  label 49: 200\n",
      "model is roberta-base cnn\n"
     ]
    },
    {
     "name": "stderr",
     "output_type": "stream",
     "text": [
      "Some weights of RobertaModel were not initialized from the model checkpoint at roberta-base and are newly initialized: ['pooler.dense.bias', 'pooler.dense.weight']\n",
      "You should probably TRAIN this model on a down-stream task to be able to use it for predictions and inference.\n"
     ]
    },
    {
     "name": "stdout",
     "output_type": "stream",
     "text": [
      "Epoch 1/20\n"
     ]
    },
    {
     "name": "stderr",
     "output_type": "stream",
     "text": [
      "100%|██████████| 761/761 [01:07<00:00, 11.35it/s]\n"
     ]
    },
    {
     "name": "stdout",
     "output_type": "stream",
     "text": [
      "{'val_loss': 1.5611830651760101, 'val_accuracy': 0.5428740390301596, 'precision': 0.5920437880435888, 'recall': 0.5428740390301596, 'f1-score': 0.5407454343571276, 'macro_f1-score': 0.2869311441164139, 'balanced_accuracy': 0.36029031205280476, 'mcc': 0.427303516253133, 'train_loss': 2.248030708121251}\n",
      "Epoch 2/20\n"
     ]
    },
    {
     "name": "stderr",
     "output_type": "stream",
     "text": [
      "100%|██████████| 761/761 [01:06<00:00, 11.36it/s]\n"
     ]
    },
    {
     "name": "stdout",
     "output_type": "stream",
     "text": [
      "{'val_loss': 1.413244605064392, 'val_accuracy': 0.6049674748669427, 'precision': 0.6649129070628662, 'recall': 0.6049674748669427, 'f1-score': 0.6165288905939011, 'macro_f1-score': 0.3708844377804872, 'balanced_accuracy': 0.41774550749313477, 'mcc': 0.4914399812431484, 'train_loss': 0.9313389657557246}\n",
      "Epoch 3/20\n"
     ]
    },
    {
     "name": "stderr",
     "output_type": "stream",
     "text": [
      "100%|██████████| 761/761 [01:07<00:00, 11.36it/s]\n"
     ]
    },
    {
     "name": "stdout",
     "output_type": "stream",
     "text": [
      "{'val_loss': 1.459237594368323, 'val_accuracy': 0.6250739207569486, 'precision': 0.6609162879136148, 'recall': 0.6250739207569486, 'f1-score': 0.6234960244171197, 'macro_f1-score': 0.39904278943714955, 'balanced_accuracy': 0.43696018190821306, 'mcc': 0.5242693833188992, 'train_loss': 0.6176349286200495}\n",
      "Epoch 4/20\n"
     ]
    },
    {
     "name": "stderr",
     "output_type": "stream",
     "text": [
      "100%|██████████| 761/761 [01:07<00:00, 11.34it/s]\n"
     ]
    },
    {
     "name": "stdout",
     "output_type": "stream",
     "text": [
      "{'val_loss': 1.3666639744110827, 'val_accuracy': 0.6706091070372561, 'precision': 0.6784657505723493, 'recall': 0.6706091070372561, 'f1-score': 0.6624553887661836, 'macro_f1-score': 0.4373868975258917, 'balanced_accuracy': 0.42306424893445566, 'mcc': 0.5645899440780922, 'train_loss': 0.4517869699927495}\n",
      "Epoch 5/20\n"
     ]
    },
    {
     "name": "stderr",
     "output_type": "stream",
     "text": [
      "100%|██████████| 761/761 [01:06<00:00, 11.37it/s]\n"
     ]
    },
    {
     "name": "stdout",
     "output_type": "stream",
     "text": [
      "{'val_loss': 1.5996696825297374, 'val_accuracy': 0.6102897693672383, 'precision': 0.6830524036862091, 'recall': 0.6102897693672383, 'f1-score': 0.6294100182480804, 'macro_f1-score': 0.4185450072593751, 'balanced_accuracy': 0.4459837869583747, 'mcc': 0.5208156075503909, 'train_loss': 0.3747020797001176}\n",
      "Epoch 6/20\n"
     ]
    },
    {
     "name": "stderr",
     "output_type": "stream",
     "text": [
      "100%|██████████| 761/761 [01:06<00:00, 11.36it/s]\n"
     ]
    },
    {
     "name": "stdout",
     "output_type": "stream",
     "text": [
      "{'val_loss': 1.5545909857412554, 'val_accuracy': 0.651685393258427, 'precision': 0.6774835002000599, 'recall': 0.651685393258427, 'f1-score': 0.6477788981509356, 'macro_f1-score': 0.4295366288000123, 'balanced_accuracy': 0.4283063445288443, 'mcc': 0.5435377930468533, 'train_loss': 0.3381979005379448}\n",
      "Epoch 7/20\n"
     ]
    },
    {
     "name": "stderr",
     "output_type": "stream",
     "text": [
      "100%|██████████| 761/761 [01:06<00:00, 11.36it/s]\n"
     ]
    },
    {
     "name": "stdout",
     "output_type": "stream",
     "text": [
      "{'val_loss': 1.8628886364540964, 'val_accuracy': 0.5706682436428149, 'precision': 0.6769178429788667, 'recall': 0.5706682436428149, 'f1-score': 0.5994487128952043, 'macro_f1-score': 0.3867106056324138, 'balanced_accuracy': 0.4233276434612616, 'mcc': 0.4806498862315465, 'train_loss': 0.3078892386424185}\n",
      "Early stopping.\n",
      "\n",
      "[Fold 2]\n",
      "Label distribution after resampling:\n",
      "  label 0: 2000\n",
      "  label 1: 200\n",
      "  label 2: 200\n",
      "  label 3: 200\n",
      "  label 4: 206\n",
      "  label 5: 200\n",
      "  label 6: 200\n",
      "  label 7: 200\n",
      "  label 8: 200\n",
      "  label 9: 200\n",
      "  label 10: 200\n",
      "  label 11: 200\n",
      "  label 12: 200\n",
      "  label 13: 200\n",
      "  label 14: 200\n",
      "  label 15: 200\n",
      "  label 16: 200\n",
      "  label 17: 231\n",
      "  label 18: 200\n",
      "  label 19: 200\n",
      "  label 20: 200\n",
      "  label 21: 200\n",
      "  label 22: 200\n",
      "  label 23: 200\n",
      "  label 24: 200\n",
      "  label 25: 200\n",
      "  label 26: 200\n",
      "  label 27: 200\n",
      "  label 28: 200\n",
      "  label 29: 200\n",
      "  label 30: 200\n",
      "  label 31: 200\n",
      "  label 32: 200\n",
      "  label 33: 200\n",
      "  label 34: 200\n",
      "  label 35: 200\n",
      "  label 36: 200\n",
      "  label 37: 200\n",
      "  label 38: 200\n",
      "  label 39: 200\n",
      "  label 40: 200\n",
      "  label 41: 200\n",
      "  label 42: 200\n",
      "  label 43: 200\n",
      "  label 44: 200\n",
      "  label 45: 200\n",
      "  label 46: 200\n",
      "  label 47: 528\n",
      "  label 48: 202\n",
      "  label 49: 200\n",
      "model is roberta-base cnn\n"
     ]
    },
    {
     "name": "stderr",
     "output_type": "stream",
     "text": [
      "Some weights of RobertaModel were not initialized from the model checkpoint at roberta-base and are newly initialized: ['pooler.dense.bias', 'pooler.dense.weight']\n",
      "You should probably TRAIN this model on a down-stream task to be able to use it for predictions and inference.\n"
     ]
    },
    {
     "name": "stdout",
     "output_type": "stream",
     "text": [
      "Epoch 1/20\n"
     ]
    },
    {
     "name": "stderr",
     "output_type": "stream",
     "text": [
      "100%|██████████| 761/761 [01:06<00:00, 11.36it/s]\n"
     ]
    },
    {
     "name": "stdout",
     "output_type": "stream",
     "text": [
      "{'val_loss': 1.6659160110185731, 'val_accuracy': 0.5109402720283855, 'precision': 0.621835081906911, 'recall': 0.5109402720283855, 'f1-score': 0.5389996958474708, 'macro_f1-score': 0.2931274920476082, 'balanced_accuracy': 0.395645717361948, 'mcc': 0.4061068829397494, 'train_loss': 2.1448704863503165}\n",
      "Epoch 2/20\n"
     ]
    },
    {
     "name": "stderr",
     "output_type": "stream",
     "text": [
      "100%|██████████| 761/761 [01:07<00:00, 11.34it/s]\n"
     ]
    },
    {
     "name": "stdout",
     "output_type": "stream",
     "text": [
      "{'val_loss': 1.4456145445693214, 'val_accuracy': 0.6085156712004731, 'precision': 0.6623892074207116, 'recall': 0.6085156712004731, 'f1-score': 0.6162101724698201, 'macro_f1-score': 0.3849631250314261, 'balanced_accuracy': 0.45643905227603243, 'mcc': 0.5076136471124922, 'train_loss': 0.8895282892610648}\n",
      "Epoch 3/20\n"
     ]
    },
    {
     "name": "stderr",
     "output_type": "stream",
     "text": [
      "100%|██████████| 761/761 [01:07<00:00, 11.35it/s]\n"
     ]
    },
    {
     "name": "stdout",
     "output_type": "stream",
     "text": [
      "{'val_loss': 1.5202273372209296, 'val_accuracy': 0.6037847427557658, 'precision': 0.6378410339645134, 'recall': 0.6037847427557658, 'f1-score': 0.6071523605844931, 'macro_f1-score': 0.36011184827949466, 'balanced_accuracy': 0.407127988549562, 'mcc': 0.49104417720394794, 'train_loss': 0.5658180405595065}\n",
      "Epoch 4/20\n"
     ]
    },
    {
     "name": "stderr",
     "output_type": "stream",
     "text": [
      "100%|██████████| 761/761 [01:06<00:00, 11.36it/s]\n"
     ]
    },
    {
     "name": "stdout",
     "output_type": "stream",
     "text": [
      "{'val_loss': 1.534030997247066, 'val_accuracy': 0.6061502069781195, 'precision': 0.6658569993917803, 'recall': 0.6061502069781195, 'f1-score': 0.61647696350206, 'macro_f1-score': 0.41265265994786576, 'balanced_accuracy': 0.44913903843522, 'mcc': 0.5099113360155125, 'train_loss': 0.4336443034474311}\n",
      "Epoch 5/20\n"
     ]
    },
    {
     "name": "stderr",
     "output_type": "stream",
     "text": [
      "100%|██████████| 761/761 [01:07<00:00, 11.35it/s]\n"
     ]
    },
    {
     "name": "stdout",
     "output_type": "stream",
     "text": [
      "{'val_loss': 1.5210451368453368, 'val_accuracy': 0.657599053814311, 'precision': 0.6850608245320271, 'recall': 0.657599053814311, 'f1-score': 0.6570986803441861, 'macro_f1-score': 0.42020099521290405, 'balanced_accuracy': 0.4465126823935615, 'mcc': 0.5572156464975019, 'train_loss': 0.3543082641378907}\n",
      "Epoch 6/20\n"
     ]
    },
    {
     "name": "stderr",
     "output_type": "stream",
     "text": [
      "100%|██████████| 761/761 [01:07<00:00, 11.36it/s]\n"
     ]
    },
    {
     "name": "stdout",
     "output_type": "stream",
     "text": [
      "{'val_loss': 1.553727627643999, 'val_accuracy': 0.6688350088704909, 'precision': 0.6610559256021931, 'recall': 0.6688350088704909, 'f1-score': 0.6501063003745603, 'macro_f1-score': 0.40718349847002344, 'balanced_accuracy': 0.4051447494123714, 'mcc': 0.5587717631384654, 'train_loss': 0.3206718389297323}\n",
      "Epoch 7/20\n"
     ]
    },
    {
     "name": "stderr",
     "output_type": "stream",
     "text": [
      "100%|██████████| 761/761 [01:07<00:00, 11.34it/s]\n"
     ]
    },
    {
     "name": "stdout",
     "output_type": "stream",
     "text": [
      "{'val_loss': 1.625738852991248, 'val_accuracy': 0.6327616794795978, 'precision': 0.6695793699745037, 'recall': 0.6327616794795978, 'f1-score': 0.6371138510991015, 'macro_f1-score': 0.3979176778474428, 'balanced_accuracy': 0.43728462023071574, 'mcc': 0.5356793322563451, 'train_loss': 0.29665981508111006}\n",
      "Epoch 8/20\n"
     ]
    },
    {
     "name": "stderr",
     "output_type": "stream",
     "text": [
      "100%|██████████| 761/761 [01:07<00:00, 11.35it/s]\n"
     ]
    },
    {
     "name": "stdout",
     "output_type": "stream",
     "text": [
      "{'val_loss': 1.6735678579447404, 'val_accuracy': 0.644589000591366, 'precision': 0.6658043236273922, 'recall': 0.644589000591366, 'f1-score': 0.6397190808200434, 'macro_f1-score': 0.40941673979023113, 'balanced_accuracy': 0.43967552509988217, 'mcc': 0.537493668877285, 'train_loss': 0.27932335429919125}\n",
      "Early stopping.\n",
      "\n",
      "[Fold 3]\n",
      "Label distribution after resampling:\n",
      "  label 0: 2000\n",
      "  label 1: 200\n",
      "  label 2: 200\n",
      "  label 3: 200\n",
      "  label 4: 206\n",
      "  label 5: 200\n",
      "  label 6: 200\n",
      "  label 7: 200\n",
      "  label 8: 200\n",
      "  label 9: 200\n",
      "  label 10: 200\n",
      "  label 11: 200\n",
      "  label 12: 200\n",
      "  label 13: 200\n",
      "  label 14: 200\n",
      "  label 15: 200\n",
      "  label 16: 200\n",
      "  label 17: 231\n",
      "  label 18: 200\n",
      "  label 19: 200\n",
      "  label 20: 200\n",
      "  label 21: 200\n",
      "  label 22: 200\n",
      "  label 23: 200\n",
      "  label 24: 200\n",
      "  label 25: 200\n",
      "  label 26: 200\n",
      "  label 27: 200\n",
      "  label 28: 200\n",
      "  label 29: 200\n",
      "  label 30: 200\n",
      "  label 31: 200\n",
      "  label 32: 200\n",
      "  label 33: 200\n",
      "  label 34: 200\n",
      "  label 35: 200\n",
      "  label 36: 200\n",
      "  label 37: 200\n",
      "  label 38: 200\n",
      "  label 39: 200\n",
      "  label 40: 200\n",
      "  label 41: 200\n",
      "  label 42: 200\n",
      "  label 43: 200\n",
      "  label 44: 200\n",
      "  label 45: 200\n",
      "  label 46: 200\n",
      "  label 47: 529\n",
      "  label 48: 201\n",
      "  label 49: 200\n",
      "model is roberta-base cnn\n"
     ]
    },
    {
     "name": "stderr",
     "output_type": "stream",
     "text": [
      "Some weights of RobertaModel were not initialized from the model checkpoint at roberta-base and are newly initialized: ['pooler.dense.bias', 'pooler.dense.weight']\n",
      "You should probably TRAIN this model on a down-stream task to be able to use it for predictions and inference.\n"
     ]
    },
    {
     "name": "stdout",
     "output_type": "stream",
     "text": [
      "Epoch 1/20\n"
     ]
    },
    {
     "name": "stderr",
     "output_type": "stream",
     "text": [
      "100%|██████████| 761/761 [01:06<00:00, 11.36it/s]\n"
     ]
    },
    {
     "name": "stdout",
     "output_type": "stream",
     "text": [
      "{'val_loss': 1.4195783666844637, 'val_accuracy': 0.6031933767001774, 'precision': 0.5934700821145882, 'recall': 0.6031933767001774, 'f1-score': 0.5786955250358581, 'macro_f1-score': 0.29617665639302443, 'balanced_accuracy': 0.34337736325049223, 'mcc': 0.4719424866225963, 'train_loss': 2.1270447375348303}\n",
      "Epoch 2/20\n"
     ]
    },
    {
     "name": "stderr",
     "output_type": "stream",
     "text": [
      "100%|██████████| 761/761 [01:06<00:00, 11.36it/s]\n"
     ]
    },
    {
     "name": "stdout",
     "output_type": "stream",
     "text": [
      "{'val_loss': 1.3912265936158739, 'val_accuracy': 0.6321703134240094, 'precision': 0.6279772143771766, 'recall': 0.6321703134240094, 'f1-score': 0.6163238763128633, 'macro_f1-score': 0.3309019240065327, 'balanced_accuracy': 0.3643275858861184, 'mcc': 0.51483564500269, 'train_loss': 0.8775658398063831}\n",
      "Epoch 3/20\n"
     ]
    },
    {
     "name": "stderr",
     "output_type": "stream",
     "text": [
      "100%|██████████| 761/761 [01:06<00:00, 11.36it/s]\n"
     ]
    },
    {
     "name": "stdout",
     "output_type": "stream",
     "text": [
      "{'val_loss': 1.484767812321771, 'val_accuracy': 0.6244825547013602, 'precision': 0.6402570355719855, 'recall': 0.6244825547013602, 'f1-score': 0.6199477875487814, 'macro_f1-score': 0.36524779955850584, 'balanced_accuracy': 0.3981966041252072, 'mcc': 0.5168399289153834, 'train_loss': 0.5429823098853525}\n",
      "Epoch 4/20\n"
     ]
    },
    {
     "name": "stderr",
     "output_type": "stream",
     "text": [
      "100%|██████████| 761/761 [01:07<00:00, 11.34it/s]\n"
     ]
    },
    {
     "name": "stdout",
     "output_type": "stream",
     "text": [
      "{'val_loss': 1.4868707013017726, 'val_accuracy': 0.6339444115907746, 'precision': 0.6433594907945467, 'recall': 0.6339444115907746, 'f1-score': 0.6195530614015791, 'macro_f1-score': 0.3269495714362193, 'balanced_accuracy': 0.36766107344618965, 'mcc': 0.5185838111920362, 'train_loss': 0.42993885809347604}\n",
      "Epoch 5/20\n"
     ]
    },
    {
     "name": "stderr",
     "output_type": "stream",
     "text": [
      "100%|██████████| 761/761 [01:07<00:00, 11.35it/s]\n"
     ]
    },
    {
     "name": "stdout",
     "output_type": "stream",
     "text": [
      "{'val_loss': 1.7221441668159556, 'val_accuracy': 0.5890005913660555, 'precision': 0.6248470153063712, 'recall': 0.5890005913660555, 'f1-score': 0.592449586320383, 'macro_f1-score': 0.2989995152304855, 'balanced_accuracy': 0.32010204923304725, 'mcc': 0.4780112919207079, 'train_loss': 0.34794046837009207}\n",
      "Epoch 6/20\n"
     ]
    },
    {
     "name": "stderr",
     "output_type": "stream",
     "text": [
      "100%|██████████| 761/761 [01:06<00:00, 11.36it/s]\n"
     ]
    },
    {
     "name": "stdout",
     "output_type": "stream",
     "text": [
      "{'val_loss': 1.6354589788418896, 'val_accuracy': 0.6422235363690124, 'precision': 0.6497613604992262, 'recall': 0.6422235363690124, 'f1-score': 0.6328999956456135, 'macro_f1-score': 0.35310132176728415, 'balanced_accuracy': 0.37316013745292925, 'mcc': 0.532702844045904, 'train_loss': 0.3106960566749897}\n",
      "Early stopping.\n",
      "\n",
      "[Fold 4]\n",
      "Label distribution after resampling:\n",
      "  label 0: 2000\n",
      "  label 1: 200\n",
      "  label 2: 200\n",
      "  label 3: 200\n",
      "  label 4: 206\n",
      "  label 5: 200\n",
      "  label 6: 200\n",
      "  label 7: 200\n",
      "  label 8: 200\n",
      "  label 9: 200\n",
      "  label 10: 200\n",
      "  label 11: 200\n",
      "  label 12: 200\n",
      "  label 13: 200\n",
      "  label 14: 200\n",
      "  label 15: 200\n",
      "  label 16: 200\n",
      "  label 17: 232\n",
      "  label 18: 200\n",
      "  label 19: 200\n",
      "  label 20: 200\n",
      "  label 21: 200\n",
      "  label 22: 200\n",
      "  label 23: 200\n",
      "  label 24: 200\n",
      "  label 25: 200\n",
      "  label 26: 200\n",
      "  label 27: 200\n",
      "  label 28: 200\n",
      "  label 29: 200\n",
      "  label 30: 200\n",
      "  label 31: 200\n",
      "  label 32: 200\n",
      "  label 33: 200\n",
      "  label 34: 200\n",
      "  label 35: 200\n",
      "  label 36: 200\n",
      "  label 37: 200\n",
      "  label 38: 200\n",
      "  label 39: 200\n",
      "  label 40: 200\n",
      "  label 41: 200\n",
      "  label 42: 200\n",
      "  label 43: 200\n",
      "  label 44: 200\n",
      "  label 45: 200\n",
      "  label 46: 200\n",
      "  label 47: 529\n",
      "  label 48: 201\n",
      "  label 49: 200\n",
      "model is roberta-base cnn\n"
     ]
    },
    {
     "name": "stderr",
     "output_type": "stream",
     "text": [
      "Some weights of RobertaModel were not initialized from the model checkpoint at roberta-base and are newly initialized: ['pooler.dense.bias', 'pooler.dense.weight']\n",
      "You should probably TRAIN this model on a down-stream task to be able to use it for predictions and inference.\n"
     ]
    },
    {
     "name": "stdout",
     "output_type": "stream",
     "text": [
      "Epoch 1/20\n"
     ]
    },
    {
     "name": "stderr",
     "output_type": "stream",
     "text": [
      "100%|██████████| 761/761 [01:07<00:00, 11.34it/s]\n"
     ]
    },
    {
     "name": "stdout",
     "output_type": "stream",
     "text": [
      "{'val_loss': 1.556239348537517, 'val_accuracy': 0.5706682436428149, 'precision': 0.6489111886841449, 'recall': 0.5706682436428149, 'f1-score': 0.5820318234303044, 'macro_f1-score': 0.352834645476258, 'balanced_accuracy': 0.4379168426366447, 'mcc': 0.4632052422235521, 'train_loss': 2.202848834292804}\n",
      "Epoch 2/20\n"
     ]
    },
    {
     "name": "stderr",
     "output_type": "stream",
     "text": [
      "100%|██████████| 761/761 [01:07<00:00, 11.35it/s]\n"
     ]
    },
    {
     "name": "stdout",
     "output_type": "stream",
     "text": [
      "{'val_loss': 1.3083602097236886, 'val_accuracy': 0.6351271437019516, 'precision': 0.6764400589809749, 'recall': 0.6351271437019516, 'f1-score': 0.6356096354483857, 'macro_f1-score': 0.42838035327593155, 'balanced_accuracy': 0.4843351864910791, 'mcc': 0.5373003099291973, 'train_loss': 0.8695251277492488}\n",
      "Epoch 3/20\n"
     ]
    },
    {
     "name": "stderr",
     "output_type": "stream",
     "text": [
      "100%|██████████| 761/761 [01:07<00:00, 11.34it/s]\n"
     ]
    },
    {
     "name": "stdout",
     "output_type": "stream",
     "text": [
      "{'val_loss': 1.4359176639678344, 'val_accuracy': 0.6209343583678297, 'precision': 0.6811707028386702, 'recall': 0.6209343583678297, 'f1-score': 0.6309059996885573, 'macro_f1-score': 0.39803334766850607, 'balanced_accuracy': 0.4577176403775962, 'mcc': 0.5257550538755641, 'train_loss': 0.5408519886228478}\n",
      "Epoch 4/20\n"
     ]
    },
    {
     "name": "stderr",
     "output_type": "stream",
     "text": [
      "100%|██████████| 761/761 [01:07<00:00, 11.34it/s]\n"
     ]
    },
    {
     "name": "stdout",
     "output_type": "stream",
     "text": [
      "{'val_loss': 1.391689787214657, 'val_accuracy': 0.641632170313424, 'precision': 0.6619276693933818, 'recall': 0.641632170313424, 'f1-score': 0.6354125242309758, 'macro_f1-score': 0.40256946710722474, 'balanced_accuracy': 0.431084502374787, 'mcc': 0.534501898673577, 'train_loss': 0.4153068509814421}\n",
      "Epoch 5/20\n"
     ]
    },
    {
     "name": "stderr",
     "output_type": "stream",
     "text": [
      "100%|██████████| 761/761 [01:07<00:00, 11.35it/s]\n"
     ]
    },
    {
     "name": "stdout",
     "output_type": "stream",
     "text": [
      "{'val_loss': 1.442490686504346, 'val_accuracy': 0.6552335895919574, 'precision': 0.6771448195605833, 'recall': 0.6552335895919574, 'f1-score': 0.6491943038368101, 'macro_f1-score': 0.4074475370232637, 'balanced_accuracy': 0.4330950052991463, 'mcc': 0.551424825978283, 'train_loss': 0.3448265072217752}\n",
      "Early stopping.\n",
      "\n",
      "[Fold 5]\n",
      "Label distribution after resampling:\n",
      "  label 0: 2000\n",
      "  label 1: 200\n",
      "  label 2: 200\n",
      "  label 3: 200\n",
      "  label 4: 205\n",
      "  label 5: 200\n",
      "  label 6: 200\n",
      "  label 7: 200\n",
      "  label 8: 200\n",
      "  label 9: 200\n",
      "  label 10: 200\n",
      "  label 11: 200\n",
      "  label 12: 200\n",
      "  label 13: 200\n",
      "  label 14: 200\n",
      "  label 15: 200\n",
      "  label 16: 200\n",
      "  label 17: 231\n",
      "  label 18: 200\n",
      "  label 19: 200\n",
      "  label 20: 200\n",
      "  label 21: 200\n",
      "  label 22: 200\n",
      "  label 23: 200\n",
      "  label 24: 200\n",
      "  label 25: 200\n",
      "  label 26: 200\n",
      "  label 27: 200\n",
      "  label 28: 200\n",
      "  label 29: 200\n",
      "  label 30: 200\n",
      "  label 31: 200\n",
      "  label 32: 200\n",
      "  label 33: 200\n",
      "  label 34: 200\n",
      "  label 35: 200\n",
      "  label 36: 200\n",
      "  label 37: 200\n",
      "  label 38: 200\n",
      "  label 39: 200\n",
      "  label 40: 200\n",
      "  label 41: 200\n",
      "  label 42: 200\n",
      "  label 43: 200\n",
      "  label 44: 200\n",
      "  label 45: 200\n",
      "  label 46: 200\n",
      "  label 47: 529\n",
      "  label 48: 202\n",
      "  label 49: 200\n",
      "model is roberta-base cnn\n"
     ]
    },
    {
     "name": "stderr",
     "output_type": "stream",
     "text": [
      "Some weights of RobertaModel were not initialized from the model checkpoint at roberta-base and are newly initialized: ['pooler.dense.bias', 'pooler.dense.weight']\n",
      "You should probably TRAIN this model on a down-stream task to be able to use it for predictions and inference.\n"
     ]
    },
    {
     "name": "stdout",
     "output_type": "stream",
     "text": [
      "Epoch 1/20\n"
     ]
    },
    {
     "name": "stderr",
     "output_type": "stream",
     "text": [
      "100%|██████████| 761/761 [01:07<00:00, 11.35it/s]\n"
     ]
    },
    {
     "name": "stdout",
     "output_type": "stream",
     "text": [
      "{'val_loss': 1.6520176361191947, 'val_accuracy': 0.5414201183431953, 'precision': 0.6849268003337423, 'recall': 0.5414201183431953, 'f1-score': 0.5727476183483691, 'macro_f1-score': 0.33230386152953856, 'balanced_accuracy': 0.4236547913584442, 'mcc': 0.44698693471266693, 'train_loss': 2.204512663880723}\n",
      "Epoch 2/20\n"
     ]
    },
    {
     "name": "stderr",
     "output_type": "stream",
     "text": [
      "100%|██████████| 761/761 [01:07<00:00, 11.35it/s]\n"
     ]
    },
    {
     "name": "stdout",
     "output_type": "stream",
     "text": [
      "{'val_loss': 1.330382156484532, 'val_accuracy': 0.6331360946745562, 'precision': 0.6603513938689279, 'recall': 0.6331360946745562, 'f1-score': 0.6319281070307977, 'macro_f1-score': 0.38435403309052246, 'balanced_accuracy': 0.41237070474525217, 'mcc': 0.5259953103769561, 'train_loss': 0.9124842782195232}\n",
      "Epoch 3/20\n"
     ]
    },
    {
     "name": "stderr",
     "output_type": "stream",
     "text": [
      "100%|██████████| 761/761 [01:07<00:00, 11.34it/s]\n"
     ]
    },
    {
     "name": "stdout",
     "output_type": "stream",
     "text": [
      "{'val_loss': 1.571727047832507, 'val_accuracy': 0.5988165680473373, 'precision': 0.6676251535351946, 'recall': 0.5988165680473373, 'f1-score': 0.6147455375578863, 'macro_f1-score': 0.3579003497545721, 'balanced_accuracy': 0.42172316721511904, 'mcc': 0.5093565655558285, 'train_loss': 0.576958794582454}\n",
      "Epoch 4/20\n"
     ]
    },
    {
     "name": "stderr",
     "output_type": "stream",
     "text": [
      "100%|██████████| 761/761 [01:07<00:00, 11.34it/s]\n"
     ]
    },
    {
     "name": "stdout",
     "output_type": "stream",
     "text": [
      "{'val_loss': 1.6006560362172577, 'val_accuracy': 0.598224852071006, 'precision': 0.6926762696135251, 'recall': 0.598224852071006, 'f1-score': 0.6197433088352251, 'macro_f1-score': 0.3702388989211174, 'balanced_accuracy': 0.41361520989030026, 'mcc': 0.5073709614300437, 'train_loss': 0.453467591666909}\n",
      "Epoch 5/20\n"
     ]
    },
    {
     "name": "stderr",
     "output_type": "stream",
     "text": [
      "100%|██████████| 761/761 [01:06<00:00, 11.37it/s]\n"
     ]
    },
    {
     "name": "stdout",
     "output_type": "stream",
     "text": [
      "{'val_loss': 1.5625962918659426, 'val_accuracy': 0.6195266272189349, 'precision': 0.6906055155143667, 'recall': 0.6195266272189349, 'f1-score': 0.6358224792972278, 'macro_f1-score': 0.3839062598846922, 'balanced_accuracy': 0.4220979164965844, 'mcc': 0.5247188374515049, 'train_loss': 0.3637928807368788}\n",
      "Early stopping.\n",
      "\n",
      " === roberta-base + cnn + ros Final 10-fold Cross-Validation Results ===\n",
      "Total time: 2204 seconds\n",
      "Total time: 0 hrs 36 mins 44 secs\n",
      "val_loss: 1.4022\n",
      "val_accuracy: 0.6442\n",
      "precision: 0.6681\n",
      "recall: 0.6442\n",
      "f1-score: 0.6414\n",
      "macro_f1-score: 0.4071\n",
      "balanced_accuracy: 0.4329\n",
      "mcc: 0.5404\n",
      "train_loss: 0.6262\n",
      "▶ Running: roberta-base + bilstm + ros\n",
      "tokenizer is roberta-base\n",
      "Using device: cuda\n",
      "CUDA Available: True\n",
      "CUDA Device: NVIDIA GeForce RTX 5070 Ti\n",
      "Current GPU Memory Allocated: 0.02 GB\n",
      "Current GPU Memory Cached: 3.96 GB\n",
      "\n",
      "[Fold 1]\n",
      "Label distribution after resampling:\n",
      "  label 0: 2000\n",
      "  label 1: 200\n",
      "  label 2: 200\n",
      "  label 3: 200\n",
      "  label 4: 205\n",
      "  label 5: 200\n",
      "  label 6: 200\n",
      "  label 7: 200\n",
      "  label 8: 200\n",
      "  label 9: 200\n",
      "  label 10: 200\n",
      "  label 11: 200\n",
      "  label 12: 200\n",
      "  label 13: 200\n",
      "  label 14: 200\n",
      "  label 15: 200\n",
      "  label 16: 200\n",
      "  label 17: 231\n",
      "  label 18: 200\n",
      "  label 19: 200\n",
      "  label 20: 200\n",
      "  label 21: 200\n",
      "  label 22: 200\n",
      "  label 23: 200\n",
      "  label 24: 200\n",
      "  label 25: 200\n",
      "  label 26: 200\n",
      "  label 27: 200\n",
      "  label 28: 200\n",
      "  label 29: 200\n",
      "  label 30: 200\n",
      "  label 31: 200\n",
      "  label 32: 200\n",
      "  label 33: 200\n",
      "  label 34: 200\n",
      "  label 35: 200\n",
      "  label 36: 200\n",
      "  label 37: 200\n",
      "  label 38: 200\n",
      "  label 39: 200\n",
      "  label 40: 200\n",
      "  label 41: 200\n",
      "  label 42: 200\n",
      "  label 43: 200\n",
      "  label 44: 200\n",
      "  label 45: 200\n",
      "  label 46: 200\n",
      "  label 47: 529\n",
      "  label 48: 202\n",
      "  label 49: 200\n",
      "model is roberta-base bilstm\n"
     ]
    },
    {
     "name": "stderr",
     "output_type": "stream",
     "text": [
      "Some weights of RobertaModel were not initialized from the model checkpoint at roberta-base and are newly initialized: ['pooler.dense.bias', 'pooler.dense.weight']\n",
      "You should probably TRAIN this model on a down-stream task to be able to use it for predictions and inference.\n"
     ]
    },
    {
     "name": "stdout",
     "output_type": "stream",
     "text": [
      "Epoch 1/20\n"
     ]
    },
    {
     "name": "stderr",
     "output_type": "stream",
     "text": [
      "100%|██████████| 761/761 [01:17<00:00,  9.88it/s]\n"
     ]
    },
    {
     "name": "stdout",
     "output_type": "stream",
     "text": [
      "{'val_loss': 1.7471384040589601, 'val_accuracy': 0.5044352454169131, 'precision': 0.5690299553647133, 'recall': 0.5044352454169131, 'f1-score': 0.5051042576139169, 'macro_f1-score': 0.2279143914017082, 'balanced_accuracy': 0.31571399042761694, 'mcc': 0.37225683465453113, 'train_loss': 2.520387557583632}\n",
      "Epoch 2/20\n"
     ]
    },
    {
     "name": "stderr",
     "output_type": "stream",
     "text": [
      "100%|██████████| 761/761 [01:17<00:00,  9.87it/s]\n"
     ]
    },
    {
     "name": "stdout",
     "output_type": "stream",
     "text": [
      "{'val_loss': 1.522434780620179, 'val_accuracy': 0.5842696629213483, 'precision': 0.630419747243594, 'recall': 0.5842696629213483, 'f1-score': 0.5693669317693614, 'macro_f1-score': 0.335465381760179, 'balanced_accuracy': 0.39227975498699863, 'mcc': 0.4534772869710861, 'train_loss': 1.3375132077235272}\n",
      "Epoch 3/20\n"
     ]
    },
    {
     "name": "stderr",
     "output_type": "stream",
     "text": [
      "100%|██████████| 761/761 [01:17<00:00,  9.85it/s]\n"
     ]
    },
    {
     "name": "stdout",
     "output_type": "stream",
     "text": [
      "{'val_loss': 1.4628675900540262, 'val_accuracy': 0.6102897693672383, 'precision': 0.6093302822177846, 'recall': 0.6102897693672383, 'f1-score': 0.5958450187543761, 'macro_f1-score': 0.34556919906225053, 'balanced_accuracy': 0.39530876643070484, 'mcc': 0.48844944193537465, 'train_loss': 0.8826096531752687}\n",
      "Epoch 4/20\n"
     ]
    },
    {
     "name": "stderr",
     "output_type": "stream",
     "text": [
      "100%|██████████| 761/761 [01:17<00:00,  9.88it/s]\n"
     ]
    },
    {
     "name": "stdout",
     "output_type": "stream",
     "text": [
      "{'val_loss': 1.503779117791158, 'val_accuracy': 0.6061502069781195, 'precision': 0.6239237604983224, 'recall': 0.6061502069781195, 'f1-score': 0.601055046278001, 'macro_f1-score': 0.34208576892934645, 'balanced_accuracy': 0.37011672265090695, 'mcc': 0.49072650261804074, 'train_loss': 0.6819878944762433}\n",
      "Epoch 5/20\n"
     ]
    },
    {
     "name": "stderr",
     "output_type": "stream",
     "text": [
      "100%|██████████| 761/761 [01:17<00:00,  9.87it/s]\n"
     ]
    },
    {
     "name": "stdout",
     "output_type": "stream",
     "text": [
      "{'val_loss': 1.466017114385119, 'val_accuracy': 0.6451803666469544, 'precision': 0.6370762824382663, 'recall': 0.6451803666469544, 'f1-score': 0.627598264178182, 'macro_f1-score': 0.3960063816010892, 'balanced_accuracy': 0.40512016213383467, 'mcc': 0.5267235551090267, 'train_loss': 0.5673964419126823}\n",
      "Epoch 6/20\n"
     ]
    },
    {
     "name": "stderr",
     "output_type": "stream",
     "text": [
      "100%|██████████| 761/761 [01:17<00:00,  9.87it/s]\n"
     ]
    },
    {
     "name": "stdout",
     "output_type": "stream",
     "text": [
      "{'val_loss': 1.8086727345889468, 'val_accuracy': 0.589591957421644, 'precision': 0.6719942692492572, 'recall': 0.589591957421644, 'f1-score': 0.6113756219822449, 'macro_f1-score': 0.35419643186473215, 'balanced_accuracy': 0.4287028232924023, 'mcc': 0.49822626697755085, 'train_loss': 0.500379708878275}\n",
      "Epoch 7/20\n"
     ]
    },
    {
     "name": "stderr",
     "output_type": "stream",
     "text": [
      "100%|██████████| 761/761 [01:17<00:00,  9.86it/s]\n"
     ]
    },
    {
     "name": "stdout",
     "output_type": "stream",
     "text": [
      "{'val_loss': 1.5327362477217081, 'val_accuracy': 0.6374926079243052, 'precision': 0.6592948371117218, 'recall': 0.6374926079243052, 'f1-score': 0.6338971068296176, 'macro_f1-score': 0.3905964585480962, 'balanced_accuracy': 0.40050861303363683, 'mcc': 0.5320818984264203, 'train_loss': 0.42282602164536986}\n",
      "Epoch 8/20\n"
     ]
    },
    {
     "name": "stderr",
     "output_type": "stream",
     "text": [
      "100%|██████████| 761/761 [01:17<00:00,  9.84it/s]\n"
     ]
    },
    {
     "name": "stdout",
     "output_type": "stream",
     "text": [
      "{'val_loss': 1.61142346769009, 'val_accuracy': 0.625665286812537, 'precision': 0.6412258800859133, 'recall': 0.625665286812537, 'f1-score': 0.6249081236231256, 'macro_f1-score': 0.36534705176248594, 'balanced_accuracy': 0.38420716011412986, 'mcc': 0.5139685671297025, 'train_loss': 0.413427865715225}\n",
      "Early stopping.\n",
      "\n",
      "[Fold 2]\n",
      "Label distribution after resampling:\n",
      "  label 0: 2000\n",
      "  label 1: 200\n",
      "  label 2: 200\n",
      "  label 3: 200\n",
      "  label 4: 206\n",
      "  label 5: 200\n",
      "  label 6: 200\n",
      "  label 7: 200\n",
      "  label 8: 200\n",
      "  label 9: 200\n",
      "  label 10: 200\n",
      "  label 11: 200\n",
      "  label 12: 200\n",
      "  label 13: 200\n",
      "  label 14: 200\n",
      "  label 15: 200\n",
      "  label 16: 200\n",
      "  label 17: 231\n",
      "  label 18: 200\n",
      "  label 19: 200\n",
      "  label 20: 200\n",
      "  label 21: 200\n",
      "  label 22: 200\n",
      "  label 23: 200\n",
      "  label 24: 200\n",
      "  label 25: 200\n",
      "  label 26: 200\n",
      "  label 27: 200\n",
      "  label 28: 200\n",
      "  label 29: 200\n",
      "  label 30: 200\n",
      "  label 31: 200\n",
      "  label 32: 200\n",
      "  label 33: 200\n",
      "  label 34: 200\n",
      "  label 35: 200\n",
      "  label 36: 200\n",
      "  label 37: 200\n",
      "  label 38: 200\n",
      "  label 39: 200\n",
      "  label 40: 200\n",
      "  label 41: 200\n",
      "  label 42: 200\n",
      "  label 43: 200\n",
      "  label 44: 200\n",
      "  label 45: 200\n",
      "  label 46: 200\n",
      "  label 47: 528\n",
      "  label 48: 202\n",
      "  label 49: 200\n",
      "model is roberta-base bilstm\n"
     ]
    },
    {
     "name": "stderr",
     "output_type": "stream",
     "text": [
      "Some weights of RobertaModel were not initialized from the model checkpoint at roberta-base and are newly initialized: ['pooler.dense.bias', 'pooler.dense.weight']\n",
      "You should probably TRAIN this model on a down-stream task to be able to use it for predictions and inference.\n"
     ]
    },
    {
     "name": "stdout",
     "output_type": "stream",
     "text": [
      "Epoch 1/20\n"
     ]
    },
    {
     "name": "stderr",
     "output_type": "stream",
     "text": [
      "100%|██████████| 761/761 [01:16<00:00,  9.90it/s]\n"
     ]
    },
    {
     "name": "stdout",
     "output_type": "stream",
     "text": [
      "{'val_loss': 1.7749210534230717, 'val_accuracy': 0.5227675931401538, 'precision': 0.5546930250098988, 'recall': 0.5227675931401538, 'f1-score': 0.5110628587926537, 'macro_f1-score': 0.18691375048718534, 'balanced_accuracy': 0.28487387301421824, 'mcc': 0.385480439071439, 'train_loss': 2.5859382351500604}\n",
      "Epoch 2/20\n"
     ]
    },
    {
     "name": "stderr",
     "output_type": "stream",
     "text": [
      "100%|██████████| 761/761 [01:17<00:00,  9.88it/s]\n"
     ]
    },
    {
     "name": "stdout",
     "output_type": "stream",
     "text": [
      "{'val_loss': 1.5899818410288613, 'val_accuracy': 0.5736250739207569, 'precision': 0.6229885582928073, 'recall': 0.5736250739207569, 'f1-score': 0.5673867648858324, 'macro_f1-score': 0.28667074317603936, 'balanced_accuracy': 0.3433951803118267, 'mcc': 0.4462886918443542, 'train_loss': 1.3761790149628568}\n",
      "Epoch 3/20\n"
     ]
    },
    {
     "name": "stderr",
     "output_type": "stream",
     "text": [
      "100%|██████████| 761/761 [01:17<00:00,  9.86it/s]\n"
     ]
    },
    {
     "name": "stdout",
     "output_type": "stream",
     "text": [
      "{'val_loss': 1.4608837158050176, 'val_accuracy': 0.6162034299231224, 'precision': 0.6441034616503972, 'recall': 0.6162034299231224, 'f1-score': 0.612176025847673, 'macro_f1-score': 0.3634814112908127, 'balanced_accuracy': 0.4261414902033103, 'mcc': 0.5068298803750019, 'train_loss': 0.8922021788068889}\n",
      "Epoch 4/20\n"
     ]
    },
    {
     "name": "stderr",
     "output_type": "stream",
     "text": [
      "100%|██████████| 761/761 [01:17<00:00,  9.86it/s]\n"
     ]
    },
    {
     "name": "stdout",
     "output_type": "stream",
     "text": [
      "{'val_loss': 1.46839303059398, 'val_accuracy': 0.6215257244234181, 'precision': 0.6558092975445571, 'recall': 0.6215257244234181, 'f1-score': 0.6195315821599807, 'macro_f1-score': 0.3784708386627063, 'balanced_accuracy': 0.4216742338379638, 'mcc': 0.5057579879689794, 'train_loss': 0.6795283446918179}\n",
      "Epoch 5/20\n"
     ]
    },
    {
     "name": "stderr",
     "output_type": "stream",
     "text": [
      "100%|██████████| 761/761 [01:17<00:00,  9.88it/s]\n"
     ]
    },
    {
     "name": "stdout",
     "output_type": "stream",
     "text": [
      "{'val_loss': 1.4720619101569337, 'val_accuracy': 0.6197516262566529, 'precision': 0.6565074868531316, 'recall': 0.6197516262566529, 'f1-score': 0.6304561718184788, 'macro_f1-score': 0.41393874787269064, 'balanced_accuracy': 0.43461993892554324, 'mcc': 0.5187015137430984, 'train_loss': 0.5434730319249959}\n",
      "Epoch 6/20\n"
     ]
    },
    {
     "name": "stderr",
     "output_type": "stream",
     "text": [
      "100%|██████████| 761/761 [01:16<00:00,  9.89it/s]\n"
     ]
    },
    {
     "name": "stdout",
     "output_type": "stream",
     "text": [
      "{'val_loss': 1.5168615661139757, 'val_accuracy': 0.63571850975754, 'precision': 0.6639504338471371, 'recall': 0.63571850975754, 'f1-score': 0.638375090257568, 'macro_f1-score': 0.4015326211159362, 'balanced_accuracy': 0.4294578617611123, 'mcc': 0.533334163446838, 'train_loss': 0.44535663137493875}\n",
      "Epoch 7/20\n"
     ]
    },
    {
     "name": "stderr",
     "output_type": "stream",
     "text": [
      "100%|██████████| 761/761 [01:16<00:00,  9.89it/s]\n"
     ]
    },
    {
     "name": "stdout",
     "output_type": "stream",
     "text": [
      "{'val_loss': 1.5505273794790484, 'val_accuracy': 0.644589000591366, 'precision': 0.6537139638141543, 'recall': 0.644589000591366, 'f1-score': 0.6411915636902906, 'macro_f1-score': 0.40441278152159343, 'balanced_accuracy': 0.4307481667000152, 'mcc': 0.5397378791289654, 'train_loss': 0.411884750938349}\n",
      "Epoch 8/20\n"
     ]
    },
    {
     "name": "stderr",
     "output_type": "stream",
     "text": [
      "100%|██████████| 761/761 [01:17<00:00,  9.87it/s]\n"
     ]
    },
    {
     "name": "stdout",
     "output_type": "stream",
     "text": [
      "{'val_loss': 1.5922699725290514, 'val_accuracy': 0.625665286812537, 'precision': 0.6908237516651683, 'recall': 0.625665286812537, 'f1-score': 0.6391551149357495, 'macro_f1-score': 0.39733006321541803, 'balanced_accuracy': 0.44094505381268617, 'mcc': 0.5269182832579671, 'train_loss': 0.37561184679416254}\n",
      "Early stopping.\n",
      "\n",
      "[Fold 3]\n",
      "Label distribution after resampling:\n",
      "  label 0: 2000\n",
      "  label 1: 200\n",
      "  label 2: 200\n",
      "  label 3: 200\n",
      "  label 4: 206\n",
      "  label 5: 200\n",
      "  label 6: 200\n",
      "  label 7: 200\n",
      "  label 8: 200\n",
      "  label 9: 200\n",
      "  label 10: 200\n",
      "  label 11: 200\n",
      "  label 12: 200\n",
      "  label 13: 200\n",
      "  label 14: 200\n",
      "  label 15: 200\n",
      "  label 16: 200\n",
      "  label 17: 231\n",
      "  label 18: 200\n",
      "  label 19: 200\n",
      "  label 20: 200\n",
      "  label 21: 200\n",
      "  label 22: 200\n",
      "  label 23: 200\n",
      "  label 24: 200\n",
      "  label 25: 200\n",
      "  label 26: 200\n",
      "  label 27: 200\n",
      "  label 28: 200\n",
      "  label 29: 200\n",
      "  label 30: 200\n",
      "  label 31: 200\n",
      "  label 32: 200\n",
      "  label 33: 200\n",
      "  label 34: 200\n",
      "  label 35: 200\n",
      "  label 36: 200\n",
      "  label 37: 200\n",
      "  label 38: 200\n",
      "  label 39: 200\n",
      "  label 40: 200\n",
      "  label 41: 200\n",
      "  label 42: 200\n",
      "  label 43: 200\n",
      "  label 44: 200\n",
      "  label 45: 200\n",
      "  label 46: 200\n",
      "  label 47: 529\n",
      "  label 48: 201\n",
      "  label 49: 200\n",
      "model is roberta-base bilstm\n"
     ]
    },
    {
     "name": "stderr",
     "output_type": "stream",
     "text": [
      "Some weights of RobertaModel were not initialized from the model checkpoint at roberta-base and are newly initialized: ['pooler.dense.bias', 'pooler.dense.weight']\n",
      "You should probably TRAIN this model on a down-stream task to be able to use it for predictions and inference.\n"
     ]
    },
    {
     "name": "stdout",
     "output_type": "stream",
     "text": [
      "Epoch 1/20\n"
     ]
    },
    {
     "name": "stderr",
     "output_type": "stream",
     "text": [
      "100%|██████████| 761/761 [01:17<00:00,  9.86it/s]\n"
     ]
    },
    {
     "name": "stdout",
     "output_type": "stream",
     "text": [
      "{'val_loss': 1.750458779762376, 'val_accuracy': 0.5269071555292726, 'precision': 0.5732026955014707, 'recall': 0.5269071555292726, 'f1-score': 0.5225906553165829, 'macro_f1-score': 0.222625427597661, 'balanced_accuracy': 0.32251709046551547, 'mcc': 0.40785059795985745, 'train_loss': 2.5918335668674124}\n",
      "Epoch 2/20\n"
     ]
    },
    {
     "name": "stderr",
     "output_type": "stream",
     "text": [
      "100%|██████████| 761/761 [01:17<00:00,  9.88it/s]\n"
     ]
    },
    {
     "name": "stdout",
     "output_type": "stream",
     "text": [
      "{'val_loss': 1.5149166533407175, 'val_accuracy': 0.5860437610881135, 'precision': 0.6147337359277738, 'recall': 0.5860437610881135, 'f1-score': 0.5819016708817054, 'macro_f1-score': 0.3174359574258432, 'balanced_accuracy': 0.3733761489573741, 'mcc': 0.4674482399010579, 'train_loss': 1.3402592830761346}\n",
      "Epoch 3/20\n"
     ]
    },
    {
     "name": "stderr",
     "output_type": "stream",
     "text": [
      "100%|██████████| 761/761 [01:17<00:00,  9.87it/s]\n"
     ]
    },
    {
     "name": "stdout",
     "output_type": "stream",
     "text": [
      "{'val_loss': 1.5315376463926063, 'val_accuracy': 0.6014192785334121, 'precision': 0.6366805292817728, 'recall': 0.6014192785334121, 'f1-score': 0.5966071062181808, 'macro_f1-score': 0.3117394706461176, 'balanced_accuracy': 0.3668995588356313, 'mcc': 0.49060991480628036, 'train_loss': 0.8674755627668796}\n",
      "Epoch 4/20\n"
     ]
    },
    {
     "name": "stderr",
     "output_type": "stream",
     "text": [
      "100%|██████████| 761/761 [01:17<00:00,  9.87it/s]\n"
     ]
    },
    {
     "name": "stdout",
     "output_type": "stream",
     "text": [
      "{'val_loss': 1.4543935302293525, 'val_accuracy': 0.6268480189237138, 'precision': 0.6462436160540087, 'recall': 0.6268480189237138, 'f1-score': 0.6192734402413453, 'macro_f1-score': 0.34901482830166386, 'balanced_accuracy': 0.3847143766979131, 'mcc': 0.516030807765108, 'train_loss': 0.656655262759183}\n",
      "Epoch 5/20\n"
     ]
    },
    {
     "name": "stderr",
     "output_type": "stream",
     "text": [
      "100%|██████████| 761/761 [01:17<00:00,  9.86it/s]\n"
     ]
    },
    {
     "name": "stdout",
     "output_type": "stream",
     "text": [
      "{'val_loss': 1.4845176173268624, 'val_accuracy': 0.6268480189237138, 'precision': 0.6551321567126281, 'recall': 0.6268480189237138, 'f1-score': 0.6293972927738339, 'macro_f1-score': 0.37585828298269114, 'balanced_accuracy': 0.40652966974209725, 'mcc': 0.5200718514682475, 'train_loss': 0.5601505345117873}\n",
      "Epoch 6/20\n"
     ]
    },
    {
     "name": "stderr",
     "output_type": "stream",
     "text": [
      "100%|██████████| 761/761 [01:17<00:00,  9.88it/s]\n"
     ]
    },
    {
     "name": "stdout",
     "output_type": "stream",
     "text": [
      "{'val_loss': 1.5633645600305413, 'val_accuracy': 0.6138379657007688, 'precision': 0.6692205266567832, 'recall': 0.6138379657007688, 'f1-score': 0.6219939590327653, 'macro_f1-score': 0.36732224672087765, 'balanced_accuracy': 0.4069104997017361, 'mcc': 0.5187555237718136, 'train_loss': 0.45493114069740576}\n",
      "Epoch 7/20\n"
     ]
    },
    {
     "name": "stderr",
     "output_type": "stream",
     "text": [
      "100%|██████████| 761/761 [01:16<00:00,  9.89it/s]\n"
     ]
    },
    {
     "name": "stdout",
     "output_type": "stream",
     "text": [
      "{'val_loss': 1.581874407968431, 'val_accuracy': 0.625665286812537, 'precision': 0.6654671731258104, 'recall': 0.625665286812537, 'f1-score': 0.6316186218745252, 'macro_f1-score': 0.3730042599525113, 'balanced_accuracy': 0.3983824938255742, 'mcc': 0.5250182580150687, 'train_loss': 0.420380662725296}\n",
      "Epoch 8/20\n"
     ]
    },
    {
     "name": "stderr",
     "output_type": "stream",
     "text": [
      "100%|██████████| 761/761 [01:16<00:00,  9.95it/s]\n"
     ]
    },
    {
     "name": "stdout",
     "output_type": "stream",
     "text": [
      "{'val_loss': 1.6286846503334225, 'val_accuracy': 0.6321703134240094, 'precision': 0.6565233951207159, 'recall': 0.6321703134240094, 'f1-score': 0.6291670480794938, 'macro_f1-score': 0.3670020729110839, 'balanced_accuracy': 0.3966109244692058, 'mcc': 0.523086257291459, 'train_loss': 0.35065682787502017}\n",
      "Early stopping.\n",
      "\n",
      "[Fold 4]\n",
      "Label distribution after resampling:\n",
      "  label 0: 2000\n",
      "  label 1: 200\n",
      "  label 2: 200\n",
      "  label 3: 200\n",
      "  label 4: 206\n",
      "  label 5: 200\n",
      "  label 6: 200\n",
      "  label 7: 200\n",
      "  label 8: 200\n",
      "  label 9: 200\n",
      "  label 10: 200\n",
      "  label 11: 200\n",
      "  label 12: 200\n",
      "  label 13: 200\n",
      "  label 14: 200\n",
      "  label 15: 200\n",
      "  label 16: 200\n",
      "  label 17: 232\n",
      "  label 18: 200\n",
      "  label 19: 200\n",
      "  label 20: 200\n",
      "  label 21: 200\n",
      "  label 22: 200\n",
      "  label 23: 200\n",
      "  label 24: 200\n",
      "  label 25: 200\n",
      "  label 26: 200\n",
      "  label 27: 200\n",
      "  label 28: 200\n",
      "  label 29: 200\n",
      "  label 30: 200\n",
      "  label 31: 200\n",
      "  label 32: 200\n",
      "  label 33: 200\n",
      "  label 34: 200\n",
      "  label 35: 200\n",
      "  label 36: 200\n",
      "  label 37: 200\n",
      "  label 38: 200\n",
      "  label 39: 200\n",
      "  label 40: 200\n",
      "  label 41: 200\n",
      "  label 42: 200\n",
      "  label 43: 200\n",
      "  label 44: 200\n",
      "  label 45: 200\n",
      "  label 46: 200\n",
      "  label 47: 529\n",
      "  label 48: 201\n",
      "  label 49: 200\n",
      "model is roberta-base bilstm\n"
     ]
    },
    {
     "name": "stderr",
     "output_type": "stream",
     "text": [
      "Some weights of RobertaModel were not initialized from the model checkpoint at roberta-base and are newly initialized: ['pooler.dense.bias', 'pooler.dense.weight']\n",
      "You should probably TRAIN this model on a down-stream task to be able to use it for predictions and inference.\n"
     ]
    },
    {
     "name": "stdout",
     "output_type": "stream",
     "text": [
      "Epoch 1/20\n"
     ]
    },
    {
     "name": "stderr",
     "output_type": "stream",
     "text": [
      "100%|██████████| 761/761 [01:17<00:00,  9.84it/s]\n"
     ]
    },
    {
     "name": "stdout",
     "output_type": "stream",
     "text": [
      "{'val_loss': 1.6606562536842417, 'val_accuracy': 0.5547013601419278, 'precision': 0.5698636124392374, 'recall': 0.5547013601419278, 'f1-score': 0.5378951797719422, 'macro_f1-score': 0.2532700456102471, 'balanced_accuracy': 0.36699780651731223, 'mcc': 0.4322784001859464, 'train_loss': 2.5833008253308067}\n",
      "Epoch 2/20\n"
     ]
    },
    {
     "name": "stderr",
     "output_type": "stream",
     "text": [
      "100%|██████████| 761/761 [01:16<00:00,  9.91it/s]\n"
     ]
    },
    {
     "name": "stdout",
     "output_type": "stream",
     "text": [
      "{'val_loss': 1.5362369204467197, 'val_accuracy': 0.5683027794204613, 'precision': 0.6603555379781387, 'recall': 0.5683027794204613, 'f1-score': 0.5769564106314284, 'macro_f1-score': 0.34297457033307, 'balanced_accuracy': 0.45698712784786083, 'mcc': 0.4696586749617162, 'train_loss': 1.2392500114973521}\n",
      "Epoch 3/20\n"
     ]
    },
    {
     "name": "stderr",
     "output_type": "stream",
     "text": [
      "100%|██████████| 761/761 [01:16<00:00,  9.90it/s]\n"
     ]
    },
    {
     "name": "stdout",
     "output_type": "stream",
     "text": [
      "{'val_loss': 1.3580917859414838, 'val_accuracy': 0.6422235363690124, 'precision': 0.6375359406298816, 'recall': 0.6422235363690124, 'f1-score': 0.6326786067626179, 'macro_f1-score': 0.4152418966708931, 'balanced_accuracy': 0.45652874031370955, 'mcc': 0.5337798490260786, 'train_loss': 0.8273171551241668}\n",
      "Epoch 4/20\n"
     ]
    },
    {
     "name": "stderr",
     "output_type": "stream",
     "text": [
      "100%|██████████| 761/761 [01:17<00:00,  9.88it/s]\n"
     ]
    },
    {
     "name": "stdout",
     "output_type": "stream",
     "text": [
      "{'val_loss': 1.6165043233700518, 'val_accuracy': 0.563571850975754, 'precision': 0.6588237044937445, 'recall': 0.563571850975754, 'f1-score': 0.585541357545407, 'macro_f1-score': 0.3681301813272993, 'balanced_accuracy': 0.44125572623559894, 'mcc': 0.4787019381882573, 'train_loss': 0.6448922063396575}\n",
      "Epoch 5/20\n"
     ]
    },
    {
     "name": "stderr",
     "output_type": "stream",
     "text": [
      "100%|██████████| 761/761 [01:17<00:00,  9.86it/s]\n"
     ]
    },
    {
     "name": "stdout",
     "output_type": "stream",
     "text": [
      "{'val_loss': 1.5154902898478058, 'val_accuracy': 0.602602010644589, 'precision': 0.6849539669161459, 'recall': 0.602602010644589, 'f1-score': 0.6262771189969998, 'macro_f1-score': 0.4267825192318738, 'balanced_accuracy': 0.4865305018877698, 'mcc': 0.5128099089831027, 'train_loss': 0.5202701782682879}\n",
      "Epoch 6/20\n"
     ]
    },
    {
     "name": "stderr",
     "output_type": "stream",
     "text": [
      "100%|██████████| 761/761 [01:17<00:00,  9.85it/s]\n"
     ]
    },
    {
     "name": "stdout",
     "output_type": "stream",
     "text": [
      "{'val_loss': 1.423403780415373, 'val_accuracy': 0.657599053814311, 'precision': 0.6646462541665762, 'recall': 0.657599053814311, 'f1-score': 0.6495531798583408, 'macro_f1-score': 0.4189101561905266, 'balanced_accuracy': 0.438831069111657, 'mcc': 0.5537217406574906, 'train_loss': 0.4391745056506643}\n",
      "Epoch 7/20\n"
     ]
    },
    {
     "name": "stderr",
     "output_type": "stream",
     "text": [
      "100%|██████████| 761/761 [01:17<00:00,  9.85it/s]\n"
     ]
    },
    {
     "name": "stdout",
     "output_type": "stream",
     "text": [
      "{'val_loss': 1.533856414680211, 'val_accuracy': 0.6079243051448847, 'precision': 0.6740741477381637, 'recall': 0.6079243051448847, 'f1-score': 0.6190784363573612, 'macro_f1-score': 0.39740684454249225, 'balanced_accuracy': 0.43437737695685485, 'mcc': 0.5000346452532333, 'train_loss': 0.37691886245998774}\n",
      "Epoch 8/20\n"
     ]
    },
    {
     "name": "stderr",
     "output_type": "stream",
     "text": [
      "100%|██████████| 761/761 [01:17<00:00,  9.87it/s]\n"
     ]
    },
    {
     "name": "stdout",
     "output_type": "stream",
     "text": [
      "{'val_loss': 1.47411976023665, 'val_accuracy': 0.6439976345357776, 'precision': 0.6747997678210759, 'recall': 0.6439976345357776, 'f1-score': 0.6472978892767346, 'macro_f1-score': 0.41841670299206585, 'balanced_accuracy': 0.4264450977037951, 'mcc': 0.5420855151582035, 'train_loss': 0.4133829228707275}\n",
      "Early stopping.\n",
      "\n",
      "[Fold 5]\n",
      "Label distribution after resampling:\n",
      "  label 0: 2000\n",
      "  label 1: 200\n",
      "  label 2: 200\n",
      "  label 3: 200\n",
      "  label 4: 205\n",
      "  label 5: 200\n",
      "  label 6: 200\n",
      "  label 7: 200\n",
      "  label 8: 200\n",
      "  label 9: 200\n",
      "  label 10: 200\n",
      "  label 11: 200\n",
      "  label 12: 200\n",
      "  label 13: 200\n",
      "  label 14: 200\n",
      "  label 15: 200\n",
      "  label 16: 200\n",
      "  label 17: 231\n",
      "  label 18: 200\n",
      "  label 19: 200\n",
      "  label 20: 200\n",
      "  label 21: 200\n",
      "  label 22: 200\n",
      "  label 23: 200\n",
      "  label 24: 200\n",
      "  label 25: 200\n",
      "  label 26: 200\n",
      "  label 27: 200\n",
      "  label 28: 200\n",
      "  label 29: 200\n",
      "  label 30: 200\n",
      "  label 31: 200\n",
      "  label 32: 200\n",
      "  label 33: 200\n",
      "  label 34: 200\n",
      "  label 35: 200\n",
      "  label 36: 200\n",
      "  label 37: 200\n",
      "  label 38: 200\n",
      "  label 39: 200\n",
      "  label 40: 200\n",
      "  label 41: 200\n",
      "  label 42: 200\n",
      "  label 43: 200\n",
      "  label 44: 200\n",
      "  label 45: 200\n",
      "  label 46: 200\n",
      "  label 47: 529\n",
      "  label 48: 202\n",
      "  label 49: 200\n",
      "model is roberta-base bilstm\n"
     ]
    },
    {
     "name": "stderr",
     "output_type": "stream",
     "text": [
      "Some weights of RobertaModel were not initialized from the model checkpoint at roberta-base and are newly initialized: ['pooler.dense.bias', 'pooler.dense.weight']\n",
      "You should probably TRAIN this model on a down-stream task to be able to use it for predictions and inference.\n"
     ]
    },
    {
     "name": "stdout",
     "output_type": "stream",
     "text": [
      "Epoch 1/20\n"
     ]
    },
    {
     "name": "stderr",
     "output_type": "stream",
     "text": [
      "100%|██████████| 761/761 [01:17<00:00,  9.84it/s]\n"
     ]
    },
    {
     "name": "stdout",
     "output_type": "stream",
     "text": [
      "{'val_loss': 1.7416279568987072, 'val_accuracy': 0.514792899408284, 'precision': 0.5139964610151, 'recall': 0.514792899408284, 'f1-score': 0.49957943961874357, 'macro_f1-score': 0.1978058850209246, 'balanced_accuracy': 0.27689943658382093, 'mcc': 0.36833096672778864, 'train_loss': 2.645645260184259}\n",
      "Epoch 2/20\n"
     ]
    },
    {
     "name": "stderr",
     "output_type": "stream",
     "text": [
      "100%|██████████| 761/761 [01:17<00:00,  9.88it/s]\n"
     ]
    },
    {
     "name": "stdout",
     "output_type": "stream",
     "text": [
      "{'val_loss': 1.7119207460925263, 'val_accuracy': 0.5366863905325444, 'precision': 0.5987939787432366, 'recall': 0.5366863905325444, 'f1-score': 0.5509699317923449, 'macro_f1-score': 0.289776104700372, 'balanced_accuracy': 0.3728351196947848, 'mcc': 0.4318356196011548, 'train_loss': 1.452817862199891}\n",
      "Epoch 3/20\n"
     ]
    },
    {
     "name": "stderr",
     "output_type": "stream",
     "text": [
      "100%|██████████| 761/761 [01:17<00:00,  9.86it/s]\n"
     ]
    },
    {
     "name": "stdout",
     "output_type": "stream",
     "text": [
      "{'val_loss': 1.5515747683228187, 'val_accuracy': 0.598224852071006, 'precision': 0.6373960173138584, 'recall': 0.598224852071006, 'f1-score': 0.6022393777966263, 'macro_f1-score': 0.3583538608180119, 'balanced_accuracy': 0.4131901029365278, 'mcc': 0.487635028911927, 'train_loss': 0.9390496295557386}\n",
      "Epoch 4/20\n"
     ]
    },
    {
     "name": "stderr",
     "output_type": "stream",
     "text": [
      "100%|██████████| 761/761 [01:17<00:00,  9.87it/s]\n"
     ]
    },
    {
     "name": "stdout",
     "output_type": "stream",
     "text": [
      "{'val_loss': 1.4233425667263426, 'val_accuracy': 0.6408284023668639, 'precision': 0.6166967277687357, 'recall': 0.6408284023668639, 'f1-score': 0.6225008020946596, 'macro_f1-score': 0.3529711587354085, 'balanced_accuracy': 0.36750414321402775, 'mcc': 0.5220610076139945, 'train_loss': 0.7078079516055863}\n",
      "Epoch 5/20\n"
     ]
    },
    {
     "name": "stderr",
     "output_type": "stream",
     "text": [
      "100%|██████████| 761/761 [01:17<00:00,  9.82it/s]\n"
     ]
    },
    {
     "name": "stdout",
     "output_type": "stream",
     "text": [
      "{'val_loss': 1.4530212243772902, 'val_accuracy': 0.6337278106508876, 'precision': 0.6448706259464626, 'recall': 0.6337278106508876, 'f1-score': 0.6266237053162707, 'macro_f1-score': 0.38803598254376437, 'balanced_accuracy': 0.40577915323294056, 'mcc': 0.5213904887450999, 'train_loss': 0.5485284602790875}\n",
      "Epoch 6/20\n"
     ]
    },
    {
     "name": "stderr",
     "output_type": "stream",
     "text": [
      "100%|██████████| 761/761 [01:17<00:00,  9.84it/s]\n"
     ]
    },
    {
     "name": "stdout",
     "output_type": "stream",
     "text": [
      "{'val_loss': 1.5634821231635112, 'val_accuracy': 0.6242603550295858, 'precision': 0.6821139979167722, 'recall': 0.6242603550295858, 'f1-score': 0.6344805719223667, 'macro_f1-score': 0.38884897585801753, 'balanced_accuracy': 0.41248185234511825, 'mcc': 0.5236552974829458, 'train_loss': 0.5042246333109252}\n",
      "Epoch 7/20\n"
     ]
    },
    {
     "name": "stderr",
     "output_type": "stream",
     "text": [
      "100%|██████████| 761/761 [01:17<00:00,  9.84it/s]\n"
     ]
    },
    {
     "name": "stdout",
     "output_type": "stream",
     "text": [
      "{'val_loss': 1.5320400865572803, 'val_accuracy': 0.6384615384615384, 'precision': 0.656501841672962, 'recall': 0.6384615384615384, 'f1-score': 0.6351731354894136, 'macro_f1-score': 0.38741554641883647, 'balanced_accuracy': 0.4025225194589426, 'mcc': 0.5327761145949381, 'train_loss': 0.42825594035304015}\n",
      "Epoch 8/20\n"
     ]
    },
    {
     "name": "stderr",
     "output_type": "stream",
     "text": [
      "100%|██████████| 761/761 [01:17<00:00,  9.84it/s]\n"
     ]
    },
    {
     "name": "stdout",
     "output_type": "stream",
     "text": [
      "{'val_loss': 1.5887727804903715, 'val_accuracy': 0.6384615384615384, 'precision': 0.6926030533603352, 'recall': 0.6384615384615384, 'f1-score': 0.6519173733790975, 'macro_f1-score': 0.3983579452917694, 'balanced_accuracy': 0.42522076892164046, 'mcc': 0.5396809888597316, 'train_loss': 0.3813651634255392}\n",
      "Epoch 9/20\n"
     ]
    },
    {
     "name": "stderr",
     "output_type": "stream",
     "text": [
      "100%|██████████| 761/761 [01:17<00:00,  9.84it/s]\n"
     ]
    },
    {
     "name": "stdout",
     "output_type": "stream",
     "text": [
      "{'val_loss': 1.5767904416007816, 'val_accuracy': 0.6520710059171597, 'precision': 0.6799774984256592, 'recall': 0.6520710059171597, 'f1-score': 0.6557389296373306, 'macro_f1-score': 0.3956056262159071, 'balanced_accuracy': 0.3983712362278581, 'mcc': 0.5564085163886824, 'train_loss': 0.3473507101756475}\n",
      "Epoch 10/20\n"
     ]
    },
    {
     "name": "stderr",
     "output_type": "stream",
     "text": [
      "100%|██████████| 761/761 [01:17<00:00,  9.87it/s]\n"
     ]
    },
    {
     "name": "stdout",
     "output_type": "stream",
     "text": [
      "{'val_loss': 1.6637009978294373, 'val_accuracy': 0.6301775147928994, 'precision': 0.6707044234481362, 'recall': 0.6301775147928994, 'f1-score': 0.6370127304963736, 'macro_f1-score': 0.3713549505001664, 'balanced_accuracy': 0.39568231790406444, 'mcc': 0.532503750050721, 'train_loss': 0.3268478054482289}\n",
      "Epoch 11/20\n"
     ]
    },
    {
     "name": "stderr",
     "output_type": "stream",
     "text": [
      "100%|██████████| 761/761 [01:17<00:00,  9.81it/s]\n"
     ]
    },
    {
     "name": "stdout",
     "output_type": "stream",
     "text": [
      "{'val_loss': 1.6230465533598415, 'val_accuracy': 0.650887573964497, 'precision': 0.6760411710151379, 'recall': 0.650887573964497, 'f1-score': 0.6455814265856729, 'macro_f1-score': 0.3813777239891264, 'balanced_accuracy': 0.39650351218686175, 'mcc': 0.5439899485508817, 'train_loss': 0.32150336027478266}\n",
      "Early stopping.\n",
      "\n",
      " === roberta-base + bilstm + ros Final 10-fold Cross-Validation Results ===\n",
      "Total time: 3508 seconds\n",
      "Total time: 0 hrs 58 mins 28 secs\n",
      "val_loss: 1.5054\n",
      "val_accuracy: 0.6266\n",
      "precision: 0.6653\n",
      "recall: 0.6266\n",
      "f1-score: 0.6331\n",
      "macro_f1-score: 0.4022\n",
      "balanced_accuracy: 0.4316\n",
      "mcc: 0.5236\n",
      "train_loss: 0.5145\n",
      "▶ Running: microsoft/deberta-base + lstm + ros\n",
      "tokenizer is microsoft/deberta-base\n",
      "Using device: cuda\n",
      "CUDA Available: True\n",
      "CUDA Device: NVIDIA GeForce RTX 5070 Ti\n",
      "Current GPU Memory Allocated: 0.02 GB\n",
      "Current GPU Memory Cached: 3.96 GB\n",
      "\n",
      "[Fold 1]\n",
      "Label distribution after resampling:\n",
      "  label 0: 2000\n",
      "  label 1: 200\n",
      "  label 2: 200\n",
      "  label 3: 200\n",
      "  label 4: 205\n",
      "  label 5: 200\n",
      "  label 6: 200\n",
      "  label 7: 200\n",
      "  label 8: 200\n",
      "  label 9: 200\n",
      "  label 10: 200\n",
      "  label 11: 200\n",
      "  label 12: 200\n",
      "  label 13: 200\n",
      "  label 14: 200\n",
      "  label 15: 200\n",
      "  label 16: 200\n",
      "  label 17: 231\n",
      "  label 18: 200\n",
      "  label 19: 200\n",
      "  label 20: 200\n",
      "  label 21: 200\n",
      "  label 22: 200\n",
      "  label 23: 200\n",
      "  label 24: 200\n",
      "  label 25: 200\n",
      "  label 26: 200\n",
      "  label 27: 200\n",
      "  label 28: 200\n",
      "  label 29: 200\n",
      "  label 30: 200\n",
      "  label 31: 200\n",
      "  label 32: 200\n",
      "  label 33: 200\n",
      "  label 34: 200\n",
      "  label 35: 200\n",
      "  label 36: 200\n",
      "  label 37: 200\n",
      "  label 38: 200\n",
      "  label 39: 200\n",
      "  label 40: 200\n",
      "  label 41: 200\n",
      "  label 42: 200\n",
      "  label 43: 200\n",
      "  label 44: 200\n",
      "  label 45: 200\n",
      "  label 46: 200\n",
      "  label 47: 529\n",
      "  label 48: 202\n",
      "  label 49: 200\n",
      "model is microsoft/deberta-base lstm\n",
      "Epoch 1/20\n"
     ]
    },
    {
     "name": "stderr",
     "output_type": "stream",
     "text": [
      "100%|██████████| 761/761 [01:25<00:00,  8.95it/s]\n"
     ]
    },
    {
     "name": "stdout",
     "output_type": "stream",
     "text": [
      "{'val_loss': 2.3447719351300655, 'val_accuracy': 0.5340035481963336, 'precision': 0.3187918669301139, 'recall': 0.5340035481963336, 'f1-score': 0.39851005634242725, 'macro_f1-score': 0.03891874954164142, 'balanced_accuracy': 0.07021515755231916, 'mcc': 0.29366744903435626, 'train_loss': 3.4141257949633603}\n",
      "Epoch 2/20\n"
     ]
    },
    {
     "name": "stderr",
     "output_type": "stream",
     "text": [
      "100%|██████████| 761/761 [01:24<00:00,  8.99it/s]\n"
     ]
    },
    {
     "name": "stdout",
     "output_type": "stream",
     "text": [
      "{'val_loss': 2.3767539352740883, 'val_accuracy': 0.47782377291543465, 'precision': 0.42271105812616855, 'recall': 0.47782377291543465, 'f1-score': 0.43966521819481996, 'macro_f1-score': 0.059087974142718075, 'balanced_accuracy': 0.1143329932869278, 'mcc': 0.31271820322315813, 'train_loss': 3.0559058125166323}\n",
      "Epoch 3/20\n"
     ]
    },
    {
     "name": "stderr",
     "output_type": "stream",
     "text": [
      "100%|██████████| 761/761 [01:24<00:00,  8.96it/s]\n"
     ]
    },
    {
     "name": "stdout",
     "output_type": "stream",
     "text": [
      "{'val_loss': 2.1970629287215897, 'val_accuracy': 0.48905972797161446, 'precision': 0.41616956742790034, 'recall': 0.48905972797161446, 'f1-score': 0.43534922155728056, 'macro_f1-score': 0.05196245033195497, 'balanced_accuracy': 0.09970186534236461, 'mcc': 0.3041700405182999, 'train_loss': 2.8341046441713553}\n",
      "Epoch 4/20\n"
     ]
    },
    {
     "name": "stderr",
     "output_type": "stream",
     "text": [
      "100%|██████████| 761/761 [01:24<00:00,  9.04it/s]\n"
     ]
    },
    {
     "name": "stdout",
     "output_type": "stream",
     "text": [
      "{'val_loss': 2.1199509327141746, 'val_accuracy': 0.5162625665286813, 'precision': 0.4399860953483079, 'recall': 0.5162625665286813, 'f1-score': 0.4598736552634704, 'macro_f1-score': 0.06885153570605507, 'balanced_accuracy': 0.11783044251197453, 'mcc': 0.34046813654670893, 'train_loss': 2.6326074200766785}\n",
      "Epoch 5/20\n"
     ]
    },
    {
     "name": "stderr",
     "output_type": "stream",
     "text": [
      "100%|██████████| 761/761 [01:25<00:00,  8.93it/s]\n"
     ]
    },
    {
     "name": "stdout",
     "output_type": "stream",
     "text": [
      "{'val_loss': 2.127627154566207, 'val_accuracy': 0.5073920756948551, 'precision': 0.4347461173683878, 'recall': 0.5073920756948551, 'f1-score': 0.4531921203210375, 'macro_f1-score': 0.07659993520076719, 'balanced_accuracy': 0.15431030902148646, 'mcc': 0.3305068248511059, 'train_loss': 2.5206812408687878}\n",
      "Epoch 6/20\n"
     ]
    },
    {
     "name": "stderr",
     "output_type": "stream",
     "text": [
      "100%|██████████| 761/761 [01:24<00:00,  8.97it/s]\n"
     ]
    },
    {
     "name": "stdout",
     "output_type": "stream",
     "text": [
      "{'val_loss': 2.130621092499427, 'val_accuracy': 0.5233589591957422, 'precision': 0.41561286212655923, 'recall': 0.5233589591957422, 'f1-score': 0.4509275227255289, 'macro_f1-score': 0.07129366121685839, 'balanced_accuracy': 0.1274575158784411, 'mcc': 0.3337178943597641, 'train_loss': 2.440172524239168}\n",
      "Epoch 7/20\n"
     ]
    },
    {
     "name": "stderr",
     "output_type": "stream",
     "text": [
      "100%|██████████| 761/761 [01:24<00:00,  8.99it/s]\n"
     ]
    },
    {
     "name": "stdout",
     "output_type": "stream",
     "text": [
      "{'val_loss': 2.139217395827455, 'val_accuracy': 0.5056179775280899, 'precision': 0.44456806667279347, 'recall': 0.5056179775280899, 'f1-score': 0.4651032577392729, 'macro_f1-score': 0.08235849813093525, 'balanced_accuracy': 0.13306865545058744, 'mcc': 0.3445870938898865, 'train_loss': 2.4826001041665497}\n",
      "Epoch 8/20\n"
     ]
    },
    {
     "name": "stderr",
     "output_type": "stream",
     "text": [
      "100%|██████████| 761/761 [01:25<00:00,  8.90it/s]\n"
     ]
    },
    {
     "name": "stdout",
     "output_type": "stream",
     "text": [
      "{'val_loss': 2.3275378526381725, 'val_accuracy': 0.459491425192194, 'precision': 0.418363706423648, 'recall': 0.459491425192194, 'f1-score': 0.4231400653261052, 'macro_f1-score': 0.06461133224598666, 'balanced_accuracy': 0.09593027393722026, 'mcc': 0.2800120903729283, 'train_loss': 2.9600287830939274}\n",
      "Epoch 9/20\n"
     ]
    },
    {
     "name": "stderr",
     "output_type": "stream",
     "text": [
      "100%|██████████| 761/761 [01:24<00:00,  8.97it/s]\n"
     ]
    },
    {
     "name": "stdout",
     "output_type": "stream",
     "text": [
      "{'val_loss': 2.2369682726995, 'val_accuracy': 0.5198107628622117, 'precision': 0.44099860088732, 'recall': 0.5198107628622117, 'f1-score': 0.4420438034328755, 'macro_f1-score': 0.08090144897013285, 'balanced_accuracy': 0.11483245387913574, 'mcc': 0.32534082935067743, 'train_loss': 2.469176033636587}\n",
      "Epoch 10/20\n"
     ]
    },
    {
     "name": "stderr",
     "output_type": "stream",
     "text": [
      "100%|██████████| 761/761 [01:24<00:00,  8.96it/s]\n"
     ]
    },
    {
     "name": "stdout",
     "output_type": "stream",
     "text": [
      "{'val_loss': 2.2849084937347555, 'val_accuracy': 0.47723240685984625, 'precision': 0.39825597935860063, 'recall': 0.47723240685984625, 'f1-score': 0.43125497868750085, 'macro_f1-score': 0.06644667242115504, 'balanced_accuracy': 0.1143405213669832, 'mcc': 0.2867681413219923, 'train_loss': 2.6720398921377555}\n",
      "Early stopping.\n",
      "\n",
      "[Fold 2]\n",
      "Label distribution after resampling:\n",
      "  label 0: 2000\n",
      "  label 1: 200\n",
      "  label 2: 200\n",
      "  label 3: 200\n",
      "  label 4: 206\n",
      "  label 5: 200\n",
      "  label 6: 200\n",
      "  label 7: 200\n",
      "  label 8: 200\n",
      "  label 9: 200\n",
      "  label 10: 200\n",
      "  label 11: 200\n",
      "  label 12: 200\n",
      "  label 13: 200\n",
      "  label 14: 200\n",
      "  label 15: 200\n",
      "  label 16: 200\n",
      "  label 17: 231\n",
      "  label 18: 200\n",
      "  label 19: 200\n",
      "  label 20: 200\n",
      "  label 21: 200\n",
      "  label 22: 200\n",
      "  label 23: 200\n",
      "  label 24: 200\n",
      "  label 25: 200\n",
      "  label 26: 200\n",
      "  label 27: 200\n",
      "  label 28: 200\n",
      "  label 29: 200\n",
      "  label 30: 200\n",
      "  label 31: 200\n",
      "  label 32: 200\n",
      "  label 33: 200\n",
      "  label 34: 200\n",
      "  label 35: 200\n",
      "  label 36: 200\n",
      "  label 37: 200\n",
      "  label 38: 200\n",
      "  label 39: 200\n",
      "  label 40: 200\n",
      "  label 41: 200\n",
      "  label 42: 200\n",
      "  label 43: 200\n",
      "  label 44: 200\n",
      "  label 45: 200\n",
      "  label 46: 200\n",
      "  label 47: 528\n",
      "  label 48: 202\n",
      "  label 49: 200\n",
      "model is microsoft/deberta-base lstm\n",
      "Epoch 1/20\n"
     ]
    },
    {
     "name": "stderr",
     "output_type": "stream",
     "text": [
      "100%|██████████| 761/761 [01:25<00:00,  8.93it/s]\n"
     ]
    },
    {
     "name": "stdout",
     "output_type": "stream",
     "text": [
      "{'val_loss': 2.56260088704667, 'val_accuracy': 0.5032525133057363, 'precision': 0.33779825628828813, 'recall': 0.5032525133057363, 'f1-score': 0.39859797887823134, 'macro_f1-score': 0.03146159245535588, 'balanced_accuracy': 0.06116459115692071, 'mcc': 0.2742609695315927, 'train_loss': 3.456087369956419}\n",
      "Epoch 2/20\n"
     ]
    },
    {
     "name": "stderr",
     "output_type": "stream",
     "text": [
      "100%|██████████| 761/761 [01:25<00:00,  8.91it/s]\n"
     ]
    },
    {
     "name": "stdout",
     "output_type": "stream",
     "text": [
      "{'val_loss': 3.0568716143662074, 'val_accuracy': 0.39562389118864577, 'precision': 0.2757150804618591, 'recall': 0.39562389118864577, 'f1-score': 0.32251891740725364, 'macro_f1-score': 0.017442983656322606, 'balanced_accuracy': 0.04078630538610677, 'mcc': 0.11409905104024244, 'train_loss': 3.2358680460675475}\n",
      "Epoch 3/20\n"
     ]
    },
    {
     "name": "stderr",
     "output_type": "stream",
     "text": [
      "100%|██████████| 761/761 [01:24<00:00,  8.97it/s]\n"
     ]
    },
    {
     "name": "stdout",
     "output_type": "stream",
     "text": [
      "{'val_loss': 2.99327274538436, 'val_accuracy': 0.47013601419278533, 'precision': 0.22102787184107886, 'recall': 0.47013601419278533, 'f1-score': 0.30069037110479835, 'macro_f1-score': 0.012791633145615447, 'balanced_accuracy': 0.02, 'mcc': 0.0, 'train_loss': 3.4602782707490056}\n",
      "Epoch 4/20\n"
     ]
    },
    {
     "name": "stderr",
     "output_type": "stream",
     "text": [
      "100%|██████████| 761/761 [01:24<00:00,  8.99it/s]\n"
     ]
    },
    {
     "name": "stdout",
     "output_type": "stream",
     "text": [
      "{'val_loss': 2.6959532285636327, 'val_accuracy': 0.488468361916026, 'precision': 0.302095521451103, 'recall': 0.488468361916026, 'f1-score': 0.3679139063732168, 'macro_f1-score': 0.021220092218292068, 'balanced_accuracy': 0.03417827587837518, 'mcc': 0.23948221650509727, 'train_loss': 3.4209724894960982}\n",
      "Early stopping.\n",
      "\n",
      "[Fold 3]\n",
      "Label distribution after resampling:\n",
      "  label 0: 2000\n",
      "  label 1: 200\n",
      "  label 2: 200\n",
      "  label 3: 200\n",
      "  label 4: 206\n",
      "  label 5: 200\n",
      "  label 6: 200\n",
      "  label 7: 200\n",
      "  label 8: 200\n",
      "  label 9: 200\n",
      "  label 10: 200\n",
      "  label 11: 200\n",
      "  label 12: 200\n",
      "  label 13: 200\n",
      "  label 14: 200\n",
      "  label 15: 200\n",
      "  label 16: 200\n",
      "  label 17: 231\n",
      "  label 18: 200\n",
      "  label 19: 200\n",
      "  label 20: 200\n",
      "  label 21: 200\n",
      "  label 22: 200\n",
      "  label 23: 200\n",
      "  label 24: 200\n",
      "  label 25: 200\n",
      "  label 26: 200\n",
      "  label 27: 200\n",
      "  label 28: 200\n",
      "  label 29: 200\n",
      "  label 30: 200\n",
      "  label 31: 200\n",
      "  label 32: 200\n",
      "  label 33: 200\n",
      "  label 34: 200\n",
      "  label 35: 200\n",
      "  label 36: 200\n",
      "  label 37: 200\n",
      "  label 38: 200\n",
      "  label 39: 200\n",
      "  label 40: 200\n",
      "  label 41: 200\n",
      "  label 42: 200\n",
      "  label 43: 200\n",
      "  label 44: 200\n",
      "  label 45: 200\n",
      "  label 46: 200\n",
      "  label 47: 529\n",
      "  label 48: 201\n",
      "  label 49: 200\n",
      "model is microsoft/deberta-base lstm\n",
      "Epoch 1/20\n"
     ]
    },
    {
     "name": "stderr",
     "output_type": "stream",
     "text": [
      "100%|██████████| 761/761 [01:24<00:00,  8.97it/s]\n"
     ]
    },
    {
     "name": "stdout",
     "output_type": "stream",
     "text": [
      "{'val_loss': 2.363659722625085, 'val_accuracy': 0.5085748078060319, 'precision': 0.3241079808620594, 'recall': 0.5085748078060319, 'f1-score': 0.3929740872217233, 'macro_f1-score': 0.03147366139849565, 'balanced_accuracy': 0.06629388221841052, 'mcc': 0.27643107848961396, 'train_loss': 3.4312091089892793}\n",
      "Epoch 2/20\n"
     ]
    },
    {
     "name": "stderr",
     "output_type": "stream",
     "text": [
      "100%|██████████| 761/761 [01:25<00:00,  8.91it/s]\n"
     ]
    },
    {
     "name": "stdout",
     "output_type": "stream",
     "text": [
      "{'val_loss': 2.3203796890546693, 'val_accuracy': 0.48905972797161446, 'precision': 0.346418164863166, 'recall': 0.48905972797161446, 'f1-score': 0.3999906843585543, 'macro_f1-score': 0.034015597223914194, 'balanced_accuracy': 0.07196892341842397, 'mcc': 0.2787824636210731, 'train_loss': 3.0941243602474477}\n",
      "Epoch 3/20\n"
     ]
    },
    {
     "name": "stderr",
     "output_type": "stream",
     "text": [
      "100%|██████████| 761/761 [01:25<00:00,  8.95it/s]\n"
     ]
    },
    {
     "name": "stdout",
     "output_type": "stream",
     "text": [
      "{'val_loss': 2.4422024915803155, 'val_accuracy': 0.4565345949142519, 'precision': 0.3672408403706387, 'recall': 0.4565345949142519, 'f1-score': 0.40444819092927775, 'macro_f1-score': 0.030318743280626437, 'balanced_accuracy': 0.06334476843910807, 'mcc': 0.2593482979521548, 'train_loss': 2.930917243919924}\n",
      "Epoch 4/20\n"
     ]
    },
    {
     "name": "stderr",
     "output_type": "stream",
     "text": [
      "100%|██████████| 761/761 [01:24<00:00,  8.98it/s]\n"
     ]
    },
    {
     "name": "stdout",
     "output_type": "stream",
     "text": [
      "{'val_loss': 2.2133266993288725, 'val_accuracy': 0.4600827912477824, 'precision': 0.3654215841522853, 'recall': 0.4600827912477824, 'f1-score': 0.40091597985667154, 'macro_f1-score': 0.04817041789435393, 'balanced_accuracy': 0.0913080785222026, 'mcc': 0.2606606416948165, 'train_loss': 2.767847057084373}\n",
      "Epoch 5/20\n"
     ]
    },
    {
     "name": "stderr",
     "output_type": "stream",
     "text": [
      "100%|██████████| 761/761 [01:24<00:00,  8.96it/s]\n"
     ]
    },
    {
     "name": "stdout",
     "output_type": "stream",
     "text": [
      "{'val_loss': 2.2046546756096608, 'val_accuracy': 0.5020697811945595, 'precision': 0.40249059295701883, 'recall': 0.5020697811945595, 'f1-score': 0.430771087595903, 'macro_f1-score': 0.0579548092449593, 'balanced_accuracy': 0.09357659447731198, 'mcc': 0.3026130601230489, 'train_loss': 2.6621867672059287}\n",
      "Epoch 6/20\n"
     ]
    },
    {
     "name": "stderr",
     "output_type": "stream",
     "text": [
      "100%|██████████| 761/761 [01:25<00:00,  8.88it/s]\n"
     ]
    },
    {
     "name": "stdout",
     "output_type": "stream",
     "text": [
      "{'val_loss': 2.0766225637130016, 'val_accuracy': 0.5085748078060319, 'precision': 0.4084862420086392, 'recall': 0.5085748078060319, 'f1-score': 0.4417515906850015, 'macro_f1-score': 0.05835330924176388, 'balanced_accuracy': 0.08807813315394075, 'mcc': 0.31965194865105045, 'train_loss': 2.606643336831192}\n",
      "Epoch 7/20\n"
     ]
    },
    {
     "name": "stderr",
     "output_type": "stream",
     "text": [
      "100%|██████████| 761/761 [01:24<00:00,  9.00it/s]\n"
     ]
    },
    {
     "name": "stdout",
     "output_type": "stream",
     "text": [
      "{'val_loss': 2.2279544124063455, 'val_accuracy': 0.5026611472501479, 'precision': 0.43512828289964234, 'recall': 0.5026611472501479, 'f1-score': 0.45034291770751456, 'macro_f1-score': 0.07540508816224785, 'balanced_accuracy': 0.11243568057928403, 'mcc': 0.32535157556529715, 'train_loss': 2.601571279662354}\n",
      "Epoch 8/20\n"
     ]
    },
    {
     "name": "stderr",
     "output_type": "stream",
     "text": [
      "100%|██████████| 761/761 [01:24<00:00,  8.96it/s]\n"
     ]
    },
    {
     "name": "stdout",
     "output_type": "stream",
     "text": [
      "{'val_loss': 2.054688552640519, 'val_accuracy': 0.47191011235955055, 'precision': 0.4601986138028796, 'recall': 0.47191011235955055, 'f1-score': 0.45162666877942614, 'macro_f1-score': 0.08774990120780217, 'balanced_accuracy': 0.11705905355173198, 'mcc': 0.31139912248201723, 'train_loss': 2.4381402555495773}\n",
      "Epoch 9/20\n"
     ]
    },
    {
     "name": "stderr",
     "output_type": "stream",
     "text": [
      "100%|██████████| 761/761 [01:24<00:00,  8.97it/s]\n"
     ]
    },
    {
     "name": "stdout",
     "output_type": "stream",
     "text": [
      "{'val_loss': 2.068481311483203, 'val_accuracy': 0.5038438793613247, 'precision': 0.4551256912796689, 'recall': 0.5038438793613247, 'f1-score': 0.4601956544257175, 'macro_f1-score': 0.08611939559192862, 'balanced_accuracy': 0.12386438233112047, 'mcc': 0.33521409032116545, 'train_loss': 2.3614001014072854}\n",
      "Epoch 10/20\n"
     ]
    },
    {
     "name": "stderr",
     "output_type": "stream",
     "text": [
      "100%|██████████| 761/761 [01:25<00:00,  8.90it/s]\n"
     ]
    },
    {
     "name": "stdout",
     "output_type": "stream",
     "text": [
      "{'val_loss': 2.916516531188533, 'val_accuracy': 0.47013601419278533, 'precision': 0.22102787184107886, 'recall': 0.47013601419278533, 'f1-score': 0.30069037110479835, 'macro_f1-score': 0.012791633145615447, 'balanced_accuracy': 0.02, 'mcc': 0.0, 'train_loss': 2.593051179166536}\n",
      "Epoch 11/20\n"
     ]
    },
    {
     "name": "stderr",
     "output_type": "stream",
     "text": [
      "100%|██████████| 761/761 [01:23<00:00,  9.07it/s]\n"
     ]
    },
    {
     "name": "stdout",
     "output_type": "stream",
     "text": [
      "{'val_loss': 2.7821665248780882, 'val_accuracy': 0.47013601419278533, 'precision': 0.22102787184107886, 'recall': 0.47013601419278533, 'f1-score': 0.30069037110479835, 'macro_f1-score': 0.012791633145615447, 'balanced_accuracy': 0.02, 'mcc': 0.0, 'train_loss': 3.700045764211286}\n",
      "Early stopping.\n",
      "\n",
      "[Fold 4]\n",
      "Label distribution after resampling:\n",
      "  label 0: 2000\n",
      "  label 1: 200\n",
      "  label 2: 200\n",
      "  label 3: 200\n",
      "  label 4: 206\n",
      "  label 5: 200\n",
      "  label 6: 200\n",
      "  label 7: 200\n",
      "  label 8: 200\n",
      "  label 9: 200\n",
      "  label 10: 200\n",
      "  label 11: 200\n",
      "  label 12: 200\n",
      "  label 13: 200\n",
      "  label 14: 200\n",
      "  label 15: 200\n",
      "  label 16: 200\n",
      "  label 17: 232\n",
      "  label 18: 200\n",
      "  label 19: 200\n",
      "  label 20: 200\n",
      "  label 21: 200\n",
      "  label 22: 200\n",
      "  label 23: 200\n",
      "  label 24: 200\n",
      "  label 25: 200\n",
      "  label 26: 200\n",
      "  label 27: 200\n",
      "  label 28: 200\n",
      "  label 29: 200\n",
      "  label 30: 200\n",
      "  label 31: 200\n",
      "  label 32: 200\n",
      "  label 33: 200\n",
      "  label 34: 200\n",
      "  label 35: 200\n",
      "  label 36: 200\n",
      "  label 37: 200\n",
      "  label 38: 200\n",
      "  label 39: 200\n",
      "  label 40: 200\n",
      "  label 41: 200\n",
      "  label 42: 200\n",
      "  label 43: 200\n",
      "  label 44: 200\n",
      "  label 45: 200\n",
      "  label 46: 200\n",
      "  label 47: 529\n",
      "  label 48: 201\n",
      "  label 49: 200\n",
      "model is microsoft/deberta-base lstm\n",
      "Epoch 1/20\n"
     ]
    },
    {
     "name": "stderr",
     "output_type": "stream",
     "text": [
      "100%|██████████| 761/761 [01:24<00:00,  8.99it/s]\n"
     ]
    },
    {
     "name": "stdout",
     "output_type": "stream",
     "text": [
      "{'val_loss': 3.2072225584174103, 'val_accuracy': 0.47013601419278533, 'precision': 0.22102787184107886, 'recall': 0.47013601419278533, 'f1-score': 0.30069037110479835, 'macro_f1-score': 0.012791633145615447, 'balanced_accuracy': 0.02, 'mcc': 0.0, 'train_loss': 3.411949962260062}\n",
      "Epoch 2/20\n"
     ]
    },
    {
     "name": "stderr",
     "output_type": "stream",
     "text": [
      "100%|██████████| 761/761 [01:24<00:00,  8.97it/s]\n"
     ]
    },
    {
     "name": "stdout",
     "output_type": "stream",
     "text": [
      "{'val_loss': 2.75149138581078, 'val_accuracy': 0.39503252513305737, 'precision': 0.3343713545200291, 'recall': 0.39503252513305737, 'f1-score': 0.34120148539257206, 'macro_f1-score': 0.01854771115409413, 'balanced_accuracy': 0.0325997712978845, 'mcc': 0.21721875273120295, 'train_loss': 3.5884299954979553}\n",
      "Epoch 3/20\n"
     ]
    },
    {
     "name": "stderr",
     "output_type": "stream",
     "text": [
      "100%|██████████| 761/761 [01:25<00:00,  8.86it/s]\n"
     ]
    },
    {
     "name": "stdout",
     "output_type": "stream",
     "text": [
      "{'val_loss': 2.7584453135166527, 'val_accuracy': 0.5192193968066233, 'precision': 0.28365747249406476, 'recall': 0.5192193968066233, 'f1-score': 0.3668223742045871, 'macro_f1-score': 0.023404255848835834, 'balanced_accuracy': 0.03257575757575758, 'mcc': 0.24083351452231308, 'train_loss': 3.5230381914883186}\n",
      "Epoch 4/20\n"
     ]
    },
    {
     "name": "stderr",
     "output_type": "stream",
     "text": [
      "100%|██████████| 761/761 [01:24<00:00,  8.96it/s]\n"
     ]
    },
    {
     "name": "stdout",
     "output_type": "stream",
     "text": [
      "{'val_loss': 3.3695495398539417, 'val_accuracy': 0.514488468361916, 'precision': 0.2902570918202491, 'recall': 0.514488468361916, 'f1-score': 0.37072851572030197, 'macro_f1-score': 0.022868668670628898, 'balanced_accuracy': 0.0332590051457976, 'mcc': 0.2435913483938406, 'train_loss': 3.3848042394109217}\n",
      "Epoch 5/20\n"
     ]
    },
    {
     "name": "stderr",
     "output_type": "stream",
     "text": [
      "100%|██████████| 761/761 [01:24<00:00,  8.97it/s]\n"
     ]
    },
    {
     "name": "stdout",
     "output_type": "stream",
     "text": [
      "{'val_loss': 2.567587726521042, 'val_accuracy': 0.5186280307510349, 'precision': 0.2841942100193839, 'recall': 0.5186280307510349, 'f1-score': 0.36718181621406043, 'macro_f1-score': 0.02308318848611566, 'balanced_accuracy': 0.03255060034305317, 'mcc': 0.2411479412130373, 'train_loss': 3.3258871772129495}\n",
      "Epoch 6/20\n"
     ]
    },
    {
     "name": "stderr",
     "output_type": "stream",
     "text": [
      "100%|██████████| 761/761 [01:24<00:00,  8.99it/s]\n"
     ]
    },
    {
     "name": "stdout",
     "output_type": "stream",
     "text": [
      "{'val_loss': 2.9560637698983245, 'val_accuracy': 0.5227675931401538, 'precision': 0.28648897676617874, 'recall': 0.5227675931401538, 'f1-score': 0.37013454981806526, 'macro_f1-score': 0.024107951062632776, 'balanced_accuracy': 0.03399028016009148, 'mcc': 0.250755095855247, 'train_loss': 3.3181245884663486}\n",
      "Epoch 7/20\n"
     ]
    },
    {
     "name": "stderr",
     "output_type": "stream",
     "text": [
      "100%|██████████| 761/761 [01:25<00:00,  8.91it/s]\n"
     ]
    },
    {
     "name": "stdout",
     "output_type": "stream",
     "text": [
      "{'val_loss': 2.979429247244349, 'val_accuracy': 0.47013601419278533, 'precision': 0.22102787184107886, 'recall': 0.47013601419278533, 'f1-score': 0.30069037110479835, 'macro_f1-score': 0.012791633145615447, 'balanced_accuracy': 0.02, 'mcc': 0.0, 'train_loss': 3.3321629886401625}\n",
      "Epoch 8/20\n"
     ]
    },
    {
     "name": "stderr",
     "output_type": "stream",
     "text": [
      "100%|██████████| 761/761 [01:24<00:00,  8.98it/s]\n"
     ]
    },
    {
     "name": "stdout",
     "output_type": "stream",
     "text": [
      "{'val_loss': 3.0781618176766163, 'val_accuracy': 0.47013601419278533, 'precision': 0.22102787184107886, 'recall': 0.47013601419278533, 'f1-score': 0.30069037110479835, 'macro_f1-score': 0.012791633145615447, 'balanced_accuracy': 0.02, 'mcc': 0.0, 'train_loss': 3.3680375104821465}\n",
      "Epoch 9/20\n"
     ]
    },
    {
     "name": "stderr",
     "output_type": "stream",
     "text": [
      "100%|██████████| 761/761 [01:25<00:00,  8.89it/s]\n"
     ]
    },
    {
     "name": "stdout",
     "output_type": "stream",
     "text": [
      "{'val_loss': 3.0254484122654177, 'val_accuracy': 0.47013601419278533, 'precision': 0.22102787184107886, 'recall': 0.47013601419278533, 'f1-score': 0.30069037110479835, 'macro_f1-score': 0.012791633145615447, 'balanced_accuracy': 0.02, 'mcc': 0.0, 'train_loss': 3.2837272326360396}\n",
      "Early stopping.\n",
      "\n",
      "[Fold 5]\n",
      "Label distribution after resampling:\n",
      "  label 0: 2000\n",
      "  label 1: 200\n",
      "  label 2: 200\n",
      "  label 3: 200\n",
      "  label 4: 205\n",
      "  label 5: 200\n",
      "  label 6: 200\n",
      "  label 7: 200\n",
      "  label 8: 200\n",
      "  label 9: 200\n",
      "  label 10: 200\n",
      "  label 11: 200\n",
      "  label 12: 200\n",
      "  label 13: 200\n",
      "  label 14: 200\n",
      "  label 15: 200\n",
      "  label 16: 200\n",
      "  label 17: 231\n",
      "  label 18: 200\n",
      "  label 19: 200\n",
      "  label 20: 200\n",
      "  label 21: 200\n",
      "  label 22: 200\n",
      "  label 23: 200\n",
      "  label 24: 200\n",
      "  label 25: 200\n",
      "  label 26: 200\n",
      "  label 27: 200\n",
      "  label 28: 200\n",
      "  label 29: 200\n",
      "  label 30: 200\n",
      "  label 31: 200\n",
      "  label 32: 200\n",
      "  label 33: 200\n",
      "  label 34: 200\n",
      "  label 35: 200\n",
      "  label 36: 200\n",
      "  label 37: 200\n",
      "  label 38: 200\n",
      "  label 39: 200\n",
      "  label 40: 200\n",
      "  label 41: 200\n",
      "  label 42: 200\n",
      "  label 43: 200\n",
      "  label 44: 200\n",
      "  label 45: 200\n",
      "  label 46: 200\n",
      "  label 47: 529\n",
      "  label 48: 202\n",
      "  label 49: 200\n",
      "model is microsoft/deberta-base lstm\n",
      "Epoch 1/20\n"
     ]
    },
    {
     "name": "stderr",
     "output_type": "stream",
     "text": [
      "100%|██████████| 761/761 [01:25<00:00,  8.90it/s]\n"
     ]
    },
    {
     "name": "stdout",
     "output_type": "stream",
     "text": [
      "{'val_loss': 2.420059624707924, 'val_accuracy': 0.48284023668639053, 'precision': 0.40281078957451205, 'recall': 0.48284023668639053, 'f1-score': 0.4311566906740792, 'macro_f1-score': 0.035645990806581346, 'balanced_accuracy': 0.05195290944904425, 'mcc': 0.2934352874408663, 'train_loss': 3.308924554681966}\n",
      "Epoch 2/20\n"
     ]
    },
    {
     "name": "stderr",
     "output_type": "stream",
     "text": [
      "100%|██████████| 761/761 [01:25<00:00,  8.86it/s]\n"
     ]
    },
    {
     "name": "stdout",
     "output_type": "stream",
     "text": [
      "{'val_loss': 2.2639250451663755, 'val_accuracy': 0.4757396449704142, 'precision': 0.396198318042033, 'recall': 0.4757396449704142, 'f1-score': 0.4228160480262563, 'macro_f1-score': 0.04997572924688, 'balanced_accuracy': 0.09381384015814431, 'mcc': 0.283199026152815, 'train_loss': 2.878545193415277}\n",
      "Epoch 3/20\n"
     ]
    },
    {
     "name": "stderr",
     "output_type": "stream",
     "text": [
      "100%|██████████| 761/761 [01:24<00:00,  8.98it/s]\n"
     ]
    },
    {
     "name": "stdout",
     "output_type": "stream",
     "text": [
      "{'val_loss': 2.6695793124864684, 'val_accuracy': 0.4485207100591716, 'precision': 0.23598338462698812, 'recall': 0.4485207100591716, 'f1-score': 0.3089602014977086, 'macro_f1-score': 0.015630169786678277, 'balanced_accuracy': 0.030421014753508457, 'mcc': 0.07601287032283313, 'train_loss': 2.960220878133636}\n",
      "Epoch 4/20\n"
     ]
    },
    {
     "name": "stderr",
     "output_type": "stream",
     "text": [
      "100%|██████████| 761/761 [01:24<00:00,  8.99it/s]\n"
     ]
    },
    {
     "name": "stdout",
     "output_type": "stream",
     "text": [
      "{'val_loss': 2.6070236136328497, 'val_accuracy': 0.5177514792899408, 'precision': 0.28214534768277666, 'recall': 0.5177514792899408, 'f1-score': 0.3648846102032145, 'macro_f1-score': 0.023870402802101575, 'balanced_accuracy': 0.03252537974200443, 'mcc': 0.23595513931833584, 'train_loss': 3.534148418010456}\n",
      "Epoch 5/20\n"
     ]
    },
    {
     "name": "stderr",
     "output_type": "stream",
     "text": [
      "100%|██████████| 761/761 [01:24<00:00,  8.96it/s]\n"
     ]
    },
    {
     "name": "stdout",
     "output_type": "stream",
     "text": [
      "{'val_loss': 2.7311378728668645, 'val_accuracy': 0.4366863905325444, 'precision': 0.30456227813458137, 'recall': 0.4366863905325444, 'f1-score': 0.34698230241371997, 'macro_f1-score': 0.019592976330931888, 'balanced_accuracy': 0.03362224257690252, 'mcc': 0.2088647985911049, 'train_loss': 3.456895917849848}\n",
      "Early stopping.\n",
      "\n",
      " === microsoft/deberta-base + lstm + ros Final 10-fold Cross-Validation Results ===\n",
      "Total time: 3517 seconds\n",
      "Total time: 0 hrs 58 mins 37 secs\n",
      "val_loss: 2.3953\n",
      "val_accuracy: 0.4959\n",
      "precision: 0.3851\n",
      "recall: 0.4959\n",
      "f1-score: 0.4217\n",
      "macro_f1-score: 0.0551\n",
      "balanced_accuracy: 0.0878\n",
      "mcc: 0.2928\n",
      "train_loss: 2.9147\n",
      "▶ Running: microsoft/deberta-base + cnn + ros\n",
      "tokenizer is microsoft/deberta-base\n",
      "Using device: cuda\n",
      "CUDA Available: True\n",
      "CUDA Device: NVIDIA GeForce RTX 5070 Ti\n",
      "Current GPU Memory Allocated: 0.02 GB\n",
      "Current GPU Memory Cached: 5.32 GB\n",
      "\n",
      "[Fold 1]\n",
      "Label distribution after resampling:\n",
      "  label 0: 2000\n",
      "  label 1: 200\n",
      "  label 2: 200\n",
      "  label 3: 200\n",
      "  label 4: 205\n",
      "  label 5: 200\n",
      "  label 6: 200\n",
      "  label 7: 200\n",
      "  label 8: 200\n",
      "  label 9: 200\n",
      "  label 10: 200\n",
      "  label 11: 200\n",
      "  label 12: 200\n",
      "  label 13: 200\n",
      "  label 14: 200\n",
      "  label 15: 200\n",
      "  label 16: 200\n",
      "  label 17: 231\n",
      "  label 18: 200\n",
      "  label 19: 200\n",
      "  label 20: 200\n",
      "  label 21: 200\n",
      "  label 22: 200\n",
      "  label 23: 200\n",
      "  label 24: 200\n",
      "  label 25: 200\n",
      "  label 26: 200\n",
      "  label 27: 200\n",
      "  label 28: 200\n",
      "  label 29: 200\n",
      "  label 30: 200\n",
      "  label 31: 200\n",
      "  label 32: 200\n",
      "  label 33: 200\n",
      "  label 34: 200\n",
      "  label 35: 200\n",
      "  label 36: 200\n",
      "  label 37: 200\n",
      "  label 38: 200\n",
      "  label 39: 200\n",
      "  label 40: 200\n",
      "  label 41: 200\n",
      "  label 42: 200\n",
      "  label 43: 200\n",
      "  label 44: 200\n",
      "  label 45: 200\n",
      "  label 46: 200\n",
      "  label 47: 529\n",
      "  label 48: 202\n",
      "  label 49: 200\n",
      "model is microsoft/deberta-base cnn\n",
      "Epoch 1/20\n"
     ]
    },
    {
     "name": "stderr",
     "output_type": "stream",
     "text": [
      "100%|██████████| 761/761 [01:22<00:00,  9.20it/s]\n"
     ]
    },
    {
     "name": "stdout",
     "output_type": "stream",
     "text": [
      "{'val_loss': 1.5417240886193402, 'val_accuracy': 0.5860437610881135, 'precision': 0.5960823148413267, 'recall': 0.5860437610881135, 'f1-score': 0.5542719627516056, 'macro_f1-score': 0.2923885824915476, 'balanced_accuracy': 0.35958566757326293, 'mcc': 0.4465059951778622, 'train_loss': 2.464291633350307}\n",
      "Epoch 2/20\n"
     ]
    },
    {
     "name": "stderr",
     "output_type": "stream",
     "text": [
      "100%|██████████| 761/761 [01:22<00:00,  9.27it/s]\n"
     ]
    },
    {
     "name": "stdout",
     "output_type": "stream",
     "text": [
      "{'val_loss': 1.4175817494122487, 'val_accuracy': 0.6232998225901834, 'precision': 0.6226243336474115, 'recall': 0.6232998225901834, 'f1-score': 0.6034787478420344, 'macro_f1-score': 0.34741939445070663, 'balanced_accuracy': 0.36826160731985297, 'mcc': 0.4960493619716031, 'train_loss': 1.0516942371167586}\n",
      "Epoch 3/20\n"
     ]
    },
    {
     "name": "stderr",
     "output_type": "stream",
     "text": [
      "100%|██████████| 761/761 [01:21<00:00,  9.29it/s]\n"
     ]
    },
    {
     "name": "stdout",
     "output_type": "stream",
     "text": [
      "{'val_loss': 1.4873536479360652, 'val_accuracy': 0.6144293317563572, 'precision': 0.6632702627938136, 'recall': 0.6144293317563572, 'f1-score': 0.6231129501017787, 'macro_f1-score': 0.3849896529759731, 'balanced_accuracy': 0.4246491516351613, 'mcc': 0.5141775510371436, 'train_loss': 0.658446794074719}\n",
      "Epoch 4/20\n"
     ]
    },
    {
     "name": "stderr",
     "output_type": "stream",
     "text": [
      "100%|██████████| 761/761 [01:22<00:00,  9.27it/s]\n"
     ]
    },
    {
     "name": "stdout",
     "output_type": "stream",
     "text": [
      "{'val_loss': 1.5372278830915127, 'val_accuracy': 0.6238911886457718, 'precision': 0.6662426177363656, 'recall': 0.6238911886457718, 'f1-score': 0.6265710505765515, 'macro_f1-score': 0.3777567214457268, 'balanced_accuracy': 0.41881498679766077, 'mcc': 0.5272705549537852, 'train_loss': 0.48234277886538013}\n",
      "Epoch 5/20\n"
     ]
    },
    {
     "name": "stderr",
     "output_type": "stream",
     "text": [
      "100%|██████████| 761/761 [01:22<00:00,  9.17it/s]\n"
     ]
    },
    {
     "name": "stdout",
     "output_type": "stream",
     "text": [
      "{'val_loss': 1.5514184663880546, 'val_accuracy': 0.638675340035482, 'precision': 0.6618856928020134, 'recall': 0.638675340035482, 'f1-score': 0.6425896699314585, 'macro_f1-score': 0.4011576756811177, 'balanced_accuracy': 0.4259007266863485, 'mcc': 0.5365254588833263, 'train_loss': 0.4309212583754794}\n",
      "Epoch 6/20\n"
     ]
    },
    {
     "name": "stderr",
     "output_type": "stream",
     "text": [
      "100%|██████████| 761/761 [01:22<00:00,  9.25it/s]\n"
     ]
    },
    {
     "name": "stdout",
     "output_type": "stream",
     "text": [
      "{'val_loss': 1.7628214640437432, 'val_accuracy': 0.6114725014784151, 'precision': 0.6660796915889011, 'recall': 0.6114725014784151, 'f1-score': 0.6251957849313814, 'macro_f1-score': 0.36732891054326616, 'balanced_accuracy': 0.39493637549302696, 'mcc': 0.5162998618335387, 'train_loss': 0.3561682214840522}\n",
      "Epoch 7/20\n"
     ]
    },
    {
     "name": "stderr",
     "output_type": "stream",
     "text": [
      "100%|██████████| 761/761 [01:21<00:00,  9.33it/s]\n"
     ]
    },
    {
     "name": "stdout",
     "output_type": "stream",
     "text": [
      "{'val_loss': 1.6651376283393715, 'val_accuracy': 0.6274393849793022, 'precision': 0.671814779299412, 'recall': 0.6274393849793022, 'f1-score': 0.6361059196498609, 'macro_f1-score': 0.3885861615759797, 'balanced_accuracy': 0.41977382837065474, 'mcc': 0.5292031759085003, 'train_loss': 0.3259742729324216}\n",
      "Epoch 8/20\n"
     ]
    },
    {
     "name": "stderr",
     "output_type": "stream",
     "text": [
      "100%|██████████| 761/761 [01:22<00:00,  9.26it/s]\n"
     ]
    },
    {
     "name": "stdout",
     "output_type": "stream",
     "text": [
      "{'val_loss': 1.7341188743429363, 'val_accuracy': 0.6434062684801892, 'precision': 0.6791064104415494, 'recall': 0.6434062684801892, 'f1-score': 0.6495864005535201, 'macro_f1-score': 0.4128036065893175, 'balanced_accuracy': 0.43697758423026556, 'mcc': 0.5442980668468719, 'train_loss': 0.2839699527150835}\n",
      "Epoch 9/20\n"
     ]
    },
    {
     "name": "stderr",
     "output_type": "stream",
     "text": [
      "100%|██████████| 761/761 [01:22<00:00,  9.17it/s]\n"
     ]
    },
    {
     "name": "stdout",
     "output_type": "stream",
     "text": [
      "{'val_loss': 1.857675979159913, 'val_accuracy': 0.5582495564754583, 'precision': 0.6152388402229576, 'recall': 0.5582495564754583, 'f1-score': 0.5593136070487111, 'macro_f1-score': 0.30797949887578197, 'balanced_accuracy': 0.3548944707938814, 'mcc': 0.4428418532102355, 'train_loss': 0.6348953692489714}\n",
      "Epoch 10/20\n"
     ]
    },
    {
     "name": "stderr",
     "output_type": "stream",
     "text": [
      "100%|██████████| 761/761 [01:22<00:00,  9.23it/s]\n"
     ]
    },
    {
     "name": "stdout",
     "output_type": "stream",
     "text": [
      "{'val_loss': 1.6486063127247792, 'val_accuracy': 0.644589000591366, 'precision': 0.6512921204991444, 'recall': 0.644589000591366, 'f1-score': 0.6360146734793559, 'macro_f1-score': 0.38759496264361637, 'balanced_accuracy': 0.4007971521310268, 'mcc': 0.5327845386562079, 'train_loss': 0.79400664075301}\n",
      "Epoch 11/20\n"
     ]
    },
    {
     "name": "stderr",
     "output_type": "stream",
     "text": [
      "100%|██████████| 761/761 [01:22<00:00,  9.25it/s]\n"
     ]
    },
    {
     "name": "stdout",
     "output_type": "stream",
     "text": [
      "{'val_loss': 1.7706477310297624, 'val_accuracy': 0.6558249556475458, 'precision': 0.6570905478351412, 'recall': 0.6558249556475458, 'f1-score': 0.6448944077982596, 'macro_f1-score': 0.38135460638006635, 'balanced_accuracy': 0.3859691348358265, 'mcc': 0.5435626239592639, 'train_loss': 0.2555973990043226}\n",
      "Early stopping.\n",
      "\n",
      "[Fold 2]\n",
      "Label distribution after resampling:\n",
      "  label 0: 2000\n",
      "  label 1: 200\n",
      "  label 2: 200\n",
      "  label 3: 200\n",
      "  label 4: 206\n",
      "  label 5: 200\n",
      "  label 6: 200\n",
      "  label 7: 200\n",
      "  label 8: 200\n",
      "  label 9: 200\n",
      "  label 10: 200\n",
      "  label 11: 200\n",
      "  label 12: 200\n",
      "  label 13: 200\n",
      "  label 14: 200\n",
      "  label 15: 200\n",
      "  label 16: 200\n",
      "  label 17: 231\n",
      "  label 18: 200\n",
      "  label 19: 200\n",
      "  label 20: 200\n",
      "  label 21: 200\n",
      "  label 22: 200\n",
      "  label 23: 200\n",
      "  label 24: 200\n",
      "  label 25: 200\n",
      "  label 26: 200\n",
      "  label 27: 200\n",
      "  label 28: 200\n",
      "  label 29: 200\n",
      "  label 30: 200\n",
      "  label 31: 200\n",
      "  label 32: 200\n",
      "  label 33: 200\n",
      "  label 34: 200\n",
      "  label 35: 200\n",
      "  label 36: 200\n",
      "  label 37: 200\n",
      "  label 38: 200\n",
      "  label 39: 200\n",
      "  label 40: 200\n",
      "  label 41: 200\n",
      "  label 42: 200\n",
      "  label 43: 200\n",
      "  label 44: 200\n",
      "  label 45: 200\n",
      "  label 46: 200\n",
      "  label 47: 528\n",
      "  label 48: 202\n",
      "  label 49: 200\n",
      "model is microsoft/deberta-base cnn\n",
      "Epoch 1/20\n"
     ]
    },
    {
     "name": "stderr",
     "output_type": "stream",
     "text": [
      "100%|██████████| 761/761 [01:22<00:00,  9.26it/s]\n"
     ]
    },
    {
     "name": "stdout",
     "output_type": "stream",
     "text": [
      "{'val_loss': 1.6720645663873204, 'val_accuracy': 0.5399172087522176, 'precision': 0.6479928740885099, 'recall': 0.5399172087522176, 'f1-score': 0.562116692533058, 'macro_f1-score': 0.3028331185083986, 'balanced_accuracy': 0.3963846833308488, 'mcc': 0.43862794194614607, 'train_loss': 2.3401899097313548}\n",
      "Epoch 2/20\n"
     ]
    },
    {
     "name": "stderr",
     "output_type": "stream",
     "text": [
      "100%|██████████| 761/761 [01:22<00:00,  9.20it/s]\n"
     ]
    },
    {
     "name": "stdout",
     "output_type": "stream",
     "text": [
      "{'val_loss': 1.3962519961707998, 'val_accuracy': 0.6238911886457718, 'precision': 0.6400380659212181, 'recall': 0.6238911886457718, 'f1-score': 0.6072707240380661, 'macro_f1-score': 0.3487099398598032, 'balanced_accuracy': 0.3784222201915722, 'mcc': 0.4982537778007501, 'train_loss': 0.9206975260639316}\n",
      "Epoch 3/20\n"
     ]
    },
    {
     "name": "stderr",
     "output_type": "stream",
     "text": [
      "100%|██████████| 761/761 [01:22<00:00,  9.25it/s]\n"
     ]
    },
    {
     "name": "stdout",
     "output_type": "stream",
     "text": [
      "{'val_loss': 1.4024679511785507, 'val_accuracy': 0.6540508574807806, 'precision': 0.6512911932446728, 'recall': 0.6540508574807806, 'f1-score': 0.6436251081664703, 'macro_f1-score': 0.39218035647909644, 'balanced_accuracy': 0.42376532345649504, 'mcc': 0.5391203114522755, 'train_loss': 0.5760920143388848}\n",
      "Epoch 4/20\n"
     ]
    },
    {
     "name": "stderr",
     "output_type": "stream",
     "text": [
      "100%|██████████| 761/761 [01:22<00:00,  9.27it/s]\n"
     ]
    },
    {
     "name": "stdout",
     "output_type": "stream",
     "text": [
      "{'val_loss': 1.5117181446754708, 'val_accuracy': 0.6528681253696038, 'precision': 0.6597004334176252, 'recall': 0.6528681253696038, 'f1-score': 0.6507320308504486, 'macro_f1-score': 0.40822919231935223, 'balanced_accuracy': 0.4239354679182275, 'mcc': 0.5458818680813127, 'train_loss': 0.4055323113372816}\n",
      "Epoch 5/20\n"
     ]
    },
    {
     "name": "stderr",
     "output_type": "stream",
     "text": [
      "100%|██████████| 761/761 [01:22<00:00,  9.27it/s]\n"
     ]
    },
    {
     "name": "stdout",
     "output_type": "stream",
     "text": [
      "{'val_loss': 1.5915893484961312, 'val_accuracy': 0.6475458308693081, 'precision': 0.6543474192132229, 'recall': 0.6475458308693081, 'f1-score': 0.6358280951820112, 'macro_f1-score': 0.3781191576663908, 'balanced_accuracy': 0.39435678371076044, 'mcc': 0.5399765574757781, 'train_loss': 0.3570743557555251}\n",
      "Epoch 6/20\n"
     ]
    },
    {
     "name": "stderr",
     "output_type": "stream",
     "text": [
      "100%|██████████| 761/761 [01:22<00:00,  9.20it/s]\n"
     ]
    },
    {
     "name": "stdout",
     "output_type": "stream",
     "text": [
      "{'val_loss': 1.6860646462103106, 'val_accuracy': 0.63571850975754, 'precision': 0.6711068662728131, 'recall': 0.63571850975754, 'f1-score': 0.6383714691118428, 'macro_f1-score': 0.37942474383084773, 'balanced_accuracy': 0.41084235126716095, 'mcc': 0.5360822468231252, 'train_loss': 0.37493037312192434}\n",
      "Epoch 7/20\n"
     ]
    },
    {
     "name": "stderr",
     "output_type": "stream",
     "text": [
      "100%|██████████| 761/761 [01:22<00:00,  9.22it/s]\n"
     ]
    },
    {
     "name": "stdout",
     "output_type": "stream",
     "text": [
      "{'val_loss': 1.7160017119263702, 'val_accuracy': 0.6457717327025428, 'precision': 0.6547013327914178, 'recall': 0.6457717327025428, 'f1-score': 0.6388474240238218, 'macro_f1-score': 0.41051815025506033, 'balanced_accuracy': 0.41682237023658225, 'mcc': 0.536479133870927, 'train_loss': 0.2933307241914003}\n",
      "Epoch 8/20\n"
     ]
    },
    {
     "name": "stderr",
     "output_type": "stream",
     "text": [
      "100%|██████████| 761/761 [01:22<00:00,  9.28it/s]\n"
     ]
    },
    {
     "name": "stdout",
     "output_type": "stream",
     "text": [
      "{'val_loss': 1.764915889445341, 'val_accuracy': 0.6652868125369604, 'precision': 0.6429717336293729, 'recall': 0.6652868125369604, 'f1-score': 0.6423049050612937, 'macro_f1-score': 0.4030921487640745, 'balanced_accuracy': 0.38968015822962443, 'mcc': 0.548733776208678, 'train_loss': 0.25013035941231415}\n",
      "Epoch 9/20\n"
     ]
    },
    {
     "name": "stderr",
     "output_type": "stream",
     "text": [
      "100%|██████████| 761/761 [01:22<00:00,  9.26it/s]\n"
     ]
    },
    {
     "name": "stdout",
     "output_type": "stream",
     "text": [
      "{'val_loss': 1.953786681845503, 'val_accuracy': 0.6363098758131284, 'precision': 0.6656374767746664, 'recall': 0.6363098758131284, 'f1-score': 0.6394165914675478, 'macro_f1-score': 0.40848472760720755, 'balanced_accuracy': 0.4239511419932424, 'mcc': 0.5329082718800828, 'train_loss': 0.2346593177893888}\n",
      "Epoch 10/20\n"
     ]
    },
    {
     "name": "stderr",
     "output_type": "stream",
     "text": [
      "100%|██████████| 761/761 [01:22<00:00,  9.22it/s]\n"
     ]
    },
    {
     "name": "stdout",
     "output_type": "stream",
     "text": [
      "{'val_loss': 1.9434545852665632, 'val_accuracy': 0.6499112950916618, 'precision': 0.6649776842522721, 'recall': 0.6499112950916618, 'f1-score': 0.644197451380995, 'macro_f1-score': 0.4036706510181278, 'balanced_accuracy': 0.4120972533389564, 'mcc': 0.5394675345298362, 'train_loss': 0.2592931670680123}\n",
      "Early stopping.\n",
      "\n",
      "[Fold 3]\n",
      "Label distribution after resampling:\n",
      "  label 0: 2000\n",
      "  label 1: 200\n",
      "  label 2: 200\n",
      "  label 3: 200\n",
      "  label 4: 206\n",
      "  label 5: 200\n",
      "  label 6: 200\n",
      "  label 7: 200\n",
      "  label 8: 200\n",
      "  label 9: 200\n",
      "  label 10: 200\n",
      "  label 11: 200\n",
      "  label 12: 200\n",
      "  label 13: 200\n",
      "  label 14: 200\n",
      "  label 15: 200\n",
      "  label 16: 200\n",
      "  label 17: 231\n",
      "  label 18: 200\n",
      "  label 19: 200\n",
      "  label 20: 200\n",
      "  label 21: 200\n",
      "  label 22: 200\n",
      "  label 23: 200\n",
      "  label 24: 200\n",
      "  label 25: 200\n",
      "  label 26: 200\n",
      "  label 27: 200\n",
      "  label 28: 200\n",
      "  label 29: 200\n",
      "  label 30: 200\n",
      "  label 31: 200\n",
      "  label 32: 200\n",
      "  label 33: 200\n",
      "  label 34: 200\n",
      "  label 35: 200\n",
      "  label 36: 200\n",
      "  label 37: 200\n",
      "  label 38: 200\n",
      "  label 39: 200\n",
      "  label 40: 200\n",
      "  label 41: 200\n",
      "  label 42: 200\n",
      "  label 43: 200\n",
      "  label 44: 200\n",
      "  label 45: 200\n",
      "  label 46: 200\n",
      "  label 47: 529\n",
      "  label 48: 201\n",
      "  label 49: 200\n",
      "model is microsoft/deberta-base cnn\n",
      "Epoch 1/20\n"
     ]
    },
    {
     "name": "stderr",
     "output_type": "stream",
     "text": [
      "100%|██████████| 761/761 [01:22<00:00,  9.20it/s]\n"
     ]
    },
    {
     "name": "stdout",
     "output_type": "stream",
     "text": [
      "{'val_loss': 1.7836897468791817, 'val_accuracy': 0.5470136014192786, 'precision': 0.5435028897111047, 'recall': 0.5470136014192786, 'f1-score': 0.5259143464759964, 'macro_f1-score': 0.2138708067819212, 'balanced_accuracy': 0.29518183577302265, 'mcc': 0.41913428575366923, 'train_loss': 2.796274146801852}\n",
      "Epoch 2/20\n"
     ]
    },
    {
     "name": "stderr",
     "output_type": "stream",
     "text": [
      "100%|██████████| 761/761 [01:22<00:00,  9.21it/s]\n"
     ]
    },
    {
     "name": "stdout",
     "output_type": "stream",
     "text": [
      "{'val_loss': 1.5746646304175538, 'val_accuracy': 0.5683027794204613, 'precision': 0.6476990199117884, 'recall': 0.5683027794204613, 'f1-score': 0.5870386733844638, 'macro_f1-score': 0.32073499962616653, 'balanced_accuracy': 0.37764766272988204, 'mcc': 0.4612807083134322, 'train_loss': 1.3977836697079662}\n",
      "Epoch 3/20\n"
     ]
    },
    {
     "name": "stderr",
     "output_type": "stream",
     "text": [
      "100%|██████████| 761/761 [01:22<00:00,  9.26it/s]\n"
     ]
    },
    {
     "name": "stdout",
     "output_type": "stream",
     "text": [
      "{'val_loss': 1.4709906651164002, 'val_accuracy': 0.6079243051448847, 'precision': 0.6298782105549945, 'recall': 0.6079243051448847, 'f1-score': 0.6078093298722905, 'macro_f1-score': 0.33451961447450157, 'balanced_accuracy': 0.36041350963035784, 'mcc': 0.4955985741918541, 'train_loss': 0.796844087991467}\n",
      "Epoch 4/20\n"
     ]
    },
    {
     "name": "stderr",
     "output_type": "stream",
     "text": [
      "100%|██████████| 761/761 [01:22<00:00,  9.22it/s]\n"
     ]
    },
    {
     "name": "stdout",
     "output_type": "stream",
     "text": [
      "{'val_loss': 1.5903904536422693, 'val_accuracy': 0.6363098758131284, 'precision': 0.6429817389081778, 'recall': 0.6363098758131284, 'f1-score': 0.6204394857153601, 'macro_f1-score': 0.36820044718146183, 'balanced_accuracy': 0.36571788669679045, 'mcc': 0.5122066492024107, 'train_loss': 0.5405508985451659}\n",
      "Epoch 5/20\n"
     ]
    },
    {
     "name": "stderr",
     "output_type": "stream",
     "text": [
      "100%|██████████| 761/761 [01:22<00:00,  9.20it/s]\n"
     ]
    },
    {
     "name": "stdout",
     "output_type": "stream",
     "text": [
      "{'val_loss': 1.655171347957737, 'val_accuracy': 0.628622117090479, 'precision': 0.641120896853658, 'recall': 0.628622117090479, 'f1-score': 0.6203933242582607, 'macro_f1-score': 0.363923289501901, 'balanced_accuracy': 0.38506746147877347, 'mcc': 0.5161209905351057, 'train_loss': 0.41445193233631755}\n",
      "Epoch 6/20\n"
     ]
    },
    {
     "name": "stderr",
     "output_type": "stream",
     "text": [
      "100%|██████████| 761/761 [01:21<00:00,  9.28it/s]\n"
     ]
    },
    {
     "name": "stdout",
     "output_type": "stream",
     "text": [
      "{'val_loss': 1.7540698833060715, 'val_accuracy': 0.6238911886457718, 'precision': 0.6528288240037099, 'recall': 0.6238911886457718, 'f1-score': 0.6277881097284138, 'macro_f1-score': 0.35636297168612985, 'balanced_accuracy': 0.387108204250434, 'mcc': 0.521308351976726, 'train_loss': 0.3506379237205143}\n",
      "Epoch 7/20\n"
     ]
    },
    {
     "name": "stderr",
     "output_type": "stream",
     "text": [
      "100%|██████████| 761/761 [01:22<00:00,  9.27it/s]\n"
     ]
    },
    {
     "name": "stdout",
     "output_type": "stream",
     "text": [
      "{'val_loss': 1.8864220549475472, 'val_accuracy': 0.6108811354228267, 'precision': 0.6587524128597738, 'recall': 0.6108811354228267, 'f1-score': 0.6213740326217008, 'macro_f1-score': 0.37000399908282583, 'balanced_accuracy': 0.40524367396404437, 'mcc': 0.516851478639156, 'train_loss': 0.3130257311570807}\n",
      "Epoch 8/20\n"
     ]
    },
    {
     "name": "stderr",
     "output_type": "stream",
     "text": [
      "100%|██████████| 761/761 [01:21<00:00,  9.30it/s]\n"
     ]
    },
    {
     "name": "stdout",
     "output_type": "stream",
     "text": [
      "{'val_loss': 1.845999243686784, 'val_accuracy': 0.6422235363690124, 'precision': 0.6394625555718799, 'recall': 0.6422235363690124, 'f1-score': 0.6347561195553848, 'macro_f1-score': 0.3679294220845264, 'balanced_accuracy': 0.37678126724554445, 'mcc': 0.5326293782515911, 'train_loss': 0.28836642261062173}\n",
      "Epoch 9/20\n"
     ]
    },
    {
     "name": "stderr",
     "output_type": "stream",
     "text": [
      "100%|██████████| 761/761 [01:22<00:00,  9.23it/s]\n"
     ]
    },
    {
     "name": "stdout",
     "output_type": "stream",
     "text": [
      "{'val_loss': 1.8930422899858006, 'val_accuracy': 0.6339444115907746, 'precision': 0.6450765040878015, 'recall': 0.6339444115907746, 'f1-score': 0.6246896918166529, 'macro_f1-score': 0.3597421402991365, 'balanced_accuracy': 0.3629155762121614, 'mcc': 0.5231551489418145, 'train_loss': 0.2550762573984646}\n",
      "Epoch 10/20\n"
     ]
    },
    {
     "name": "stderr",
     "output_type": "stream",
     "text": [
      "100%|██████████| 761/761 [01:22<00:00,  9.28it/s]\n"
     ]
    },
    {
     "name": "stdout",
     "output_type": "stream",
     "text": [
      "{'val_loss': 1.88971538813609, 'val_accuracy': 0.6481371969248965, 'precision': 0.6666327045536224, 'recall': 0.6481371969248965, 'f1-score': 0.6430610677416175, 'macro_f1-score': 0.3945283716639482, 'balanced_accuracy': 0.41604026526381915, 'mcc': 0.5405443128943628, 'train_loss': 0.2883673952008217}\n",
      "Epoch 11/20\n"
     ]
    },
    {
     "name": "stderr",
     "output_type": "stream",
     "text": [
      "100%|██████████| 761/761 [01:22<00:00,  9.22it/s]\n"
     ]
    },
    {
     "name": "stdout",
     "output_type": "stream",
     "text": [
      "{'val_loss': 2.0512664357446275, 'val_accuracy': 0.6132465996451804, 'precision': 0.6590325095336246, 'recall': 0.6132465996451804, 'f1-score': 0.6110930480256752, 'macro_f1-score': 0.37372647469076803, 'balanced_accuracy': 0.3799566064944223, 'mcc': 0.49960788801759104, 'train_loss': 0.28009531230441786}\n",
      "Epoch 12/20\n"
     ]
    },
    {
     "name": "stderr",
     "output_type": "stream",
     "text": [
      "100%|██████████| 761/761 [01:22<00:00,  9.22it/s]\n"
     ]
    },
    {
     "name": "stdout",
     "output_type": "stream",
     "text": [
      "{'val_loss': 1.9528992176055908, 'val_accuracy': 0.6303962152572442, 'precision': 0.6516090441379796, 'recall': 0.6303962152572442, 'f1-score': 0.6311975982660206, 'macro_f1-score': 0.38858567690782336, 'balanced_accuracy': 0.423057325994925, 'mcc': 0.5288809915621169, 'train_loss': 0.24648764737087464}\n",
      "Epoch 13/20\n"
     ]
    },
    {
     "name": "stderr",
     "output_type": "stream",
     "text": [
      "100%|██████████| 761/761 [01:22<00:00,  9.18it/s]\n"
     ]
    },
    {
     "name": "stdout",
     "output_type": "stream",
     "text": [
      "{'val_loss': 2.034021549629715, 'val_accuracy': 0.6392667060910704, 'precision': 0.6522655352386735, 'recall': 0.6392667060910704, 'f1-score': 0.6373488796662595, 'macro_f1-score': 0.37321401062080173, 'balanced_accuracy': 0.3957849394699893, 'mcc': 0.5379688444445032, 'train_loss': 0.21632076806019204}\n",
      "Early stopping.\n",
      "\n",
      "[Fold 4]\n",
      "Label distribution after resampling:\n",
      "  label 0: 2000\n",
      "  label 1: 200\n",
      "  label 2: 200\n",
      "  label 3: 200\n",
      "  label 4: 206\n",
      "  label 5: 200\n",
      "  label 6: 200\n",
      "  label 7: 200\n",
      "  label 8: 200\n",
      "  label 9: 200\n",
      "  label 10: 200\n",
      "  label 11: 200\n",
      "  label 12: 200\n",
      "  label 13: 200\n",
      "  label 14: 200\n",
      "  label 15: 200\n",
      "  label 16: 200\n",
      "  label 17: 232\n",
      "  label 18: 200\n",
      "  label 19: 200\n",
      "  label 20: 200\n",
      "  label 21: 200\n",
      "  label 22: 200\n",
      "  label 23: 200\n",
      "  label 24: 200\n",
      "  label 25: 200\n",
      "  label 26: 200\n",
      "  label 27: 200\n",
      "  label 28: 200\n",
      "  label 29: 200\n",
      "  label 30: 200\n",
      "  label 31: 200\n",
      "  label 32: 200\n",
      "  label 33: 200\n",
      "  label 34: 200\n",
      "  label 35: 200\n",
      "  label 36: 200\n",
      "  label 37: 200\n",
      "  label 38: 200\n",
      "  label 39: 200\n",
      "  label 40: 200\n",
      "  label 41: 200\n",
      "  label 42: 200\n",
      "  label 43: 200\n",
      "  label 44: 200\n",
      "  label 45: 200\n",
      "  label 46: 200\n",
      "  label 47: 529\n",
      "  label 48: 201\n",
      "  label 49: 200\n",
      "model is microsoft/deberta-base cnn\n",
      "Epoch 1/20\n"
     ]
    },
    {
     "name": "stderr",
     "output_type": "stream",
     "text": [
      "100%|██████████| 761/761 [01:22<00:00,  9.24it/s]\n"
     ]
    },
    {
     "name": "stdout",
     "output_type": "stream",
     "text": [
      "{'val_loss': 3.350870424846433, 'val_accuracy': 0.47013601419278533, 'precision': 0.22102787184107886, 'recall': 0.47013601419278533, 'f1-score': 0.30069037110479835, 'macro_f1-score': 0.012791633145615447, 'balanced_accuracy': 0.02, 'mcc': 0.0, 'train_loss': 3.6976764421425417}\n",
      "Epoch 2/20\n"
     ]
    },
    {
     "name": "stderr",
     "output_type": "stream",
     "text": [
      "100%|██████████| 761/761 [01:22<00:00,  9.24it/s]\n"
     ]
    },
    {
     "name": "stdout",
     "output_type": "stream",
     "text": [
      "{'val_loss': 3.409438319925992, 'val_accuracy': 0.47013601419278533, 'precision': 0.22102787184107886, 'recall': 0.47013601419278533, 'f1-score': 0.30069037110479835, 'macro_f1-score': 0.012791633145615447, 'balanced_accuracy': 0.02, 'mcc': 0.0, 'train_loss': 3.701893453372449}\n",
      "Epoch 3/20\n"
     ]
    },
    {
     "name": "stderr",
     "output_type": "stream",
     "text": [
      "100%|██████████| 761/761 [01:22<00:00,  9.22it/s]\n"
     ]
    },
    {
     "name": "stdout",
     "output_type": "stream",
     "text": [
      "{'val_loss': 3.3512538446570344, 'val_accuracy': 0.47013601419278533, 'precision': 0.22102787184107886, 'recall': 0.47013601419278533, 'f1-score': 0.30069037110479835, 'macro_f1-score': 0.012791633145615447, 'balanced_accuracy': 0.02, 'mcc': 0.0, 'train_loss': 3.6989794723621023}\n",
      "Epoch 4/20\n"
     ]
    },
    {
     "name": "stderr",
     "output_type": "stream",
     "text": [
      "100%|██████████| 761/761 [01:22<00:00,  9.18it/s]\n"
     ]
    },
    {
     "name": "stdout",
     "output_type": "stream",
     "text": [
      "{'val_loss': 3.1852443870508447, 'val_accuracy': 0.47013601419278533, 'precision': 0.22102787184107886, 'recall': 0.47013601419278533, 'f1-score': 0.30069037110479835, 'macro_f1-score': 0.012791633145615447, 'balanced_accuracy': 0.02, 'mcc': 0.0, 'train_loss': 3.6614202735615153}\n",
      "Early stopping.\n",
      "\n",
      "[Fold 5]\n",
      "Label distribution after resampling:\n",
      "  label 0: 2000\n",
      "  label 1: 200\n",
      "  label 2: 200\n",
      "  label 3: 200\n",
      "  label 4: 205\n",
      "  label 5: 200\n",
      "  label 6: 200\n",
      "  label 7: 200\n",
      "  label 8: 200\n",
      "  label 9: 200\n",
      "  label 10: 200\n",
      "  label 11: 200\n",
      "  label 12: 200\n",
      "  label 13: 200\n",
      "  label 14: 200\n",
      "  label 15: 200\n",
      "  label 16: 200\n",
      "  label 17: 231\n",
      "  label 18: 200\n",
      "  label 19: 200\n",
      "  label 20: 200\n",
      "  label 21: 200\n",
      "  label 22: 200\n",
      "  label 23: 200\n",
      "  label 24: 200\n",
      "  label 25: 200\n",
      "  label 26: 200\n",
      "  label 27: 200\n",
      "  label 28: 200\n",
      "  label 29: 200\n",
      "  label 30: 200\n",
      "  label 31: 200\n",
      "  label 32: 200\n",
      "  label 33: 200\n",
      "  label 34: 200\n",
      "  label 35: 200\n",
      "  label 36: 200\n",
      "  label 37: 200\n",
      "  label 38: 200\n",
      "  label 39: 200\n",
      "  label 40: 200\n",
      "  label 41: 200\n",
      "  label 42: 200\n",
      "  label 43: 200\n",
      "  label 44: 200\n",
      "  label 45: 200\n",
      "  label 46: 200\n",
      "  label 47: 529\n",
      "  label 48: 202\n",
      "  label 49: 200\n",
      "model is microsoft/deberta-base cnn\n",
      "Epoch 1/20\n"
     ]
    },
    {
     "name": "stderr",
     "output_type": "stream",
     "text": [
      "100%|██████████| 761/761 [01:22<00:00,  9.24it/s]\n"
     ]
    },
    {
     "name": "stdout",
     "output_type": "stream",
     "text": [
      "{'val_loss': 1.617320885635772, 'val_accuracy': 0.5603550295857989, 'precision': 0.6237055850490255, 'recall': 0.5603550295857989, 'f1-score': 0.5772556920342861, 'macro_f1-score': 0.312218761830725, 'balanced_accuracy': 0.401887415651886, 'mcc': 0.454486813111745, 'train_loss': 2.1496713076878473}\n",
      "Epoch 2/20\n"
     ]
    },
    {
     "name": "stderr",
     "output_type": "stream",
     "text": [
      "100%|██████████| 761/761 [01:22<00:00,  9.25it/s]\n"
     ]
    },
    {
     "name": "stdout",
     "output_type": "stream",
     "text": [
      "{'val_loss': 2.852357081647189, 'val_accuracy': 0.48520710059171596, 'precision': 0.30312252381207294, 'recall': 0.48520710059171596, 'f1-score': 0.336514685550236, 'macro_f1-score': 0.05908713285162432, 'balanced_accuracy': 0.05734397720085461, 'mcc': 0.13751242064288083, 'train_loss': 1.0714601106677357}\n",
      "Epoch 3/20\n"
     ]
    },
    {
     "name": "stderr",
     "output_type": "stream",
     "text": [
      "100%|██████████| 761/761 [01:22<00:00,  9.22it/s]\n"
     ]
    },
    {
     "name": "stdout",
     "output_type": "stream",
     "text": [
      "{'val_loss': 3.3233374267254234, 'val_accuracy': 0.46982248520710057, 'precision': 0.22073316760617626, 'recall': 0.46982248520710057, 'f1-score': 0.3003535050357793, 'macro_f1-score': 0.012785829307568436, 'balanced_accuracy': 0.02, 'mcc': 0.0, 'train_loss': 3.6897860065239643}\n",
      "Epoch 4/20\n"
     ]
    },
    {
     "name": "stderr",
     "output_type": "stream",
     "text": [
      "100%|██████████| 761/761 [01:22<00:00,  9.19it/s]\n"
     ]
    },
    {
     "name": "stdout",
     "output_type": "stream",
     "text": [
      "{'val_loss': 3.237329033185851, 'val_accuracy': 0.46982248520710057, 'precision': 0.22073316760617626, 'recall': 0.46982248520710057, 'f1-score': 0.3003535050357793, 'macro_f1-score': 0.012785829307568436, 'balanced_accuracy': 0.02, 'mcc': 0.0, 'train_loss': 3.6844311925960747}\n",
      "Early stopping.\n",
      "\n",
      " === microsoft/deberta-base + cnn + ros Final 10-fold Cross-Validation Results ===\n",
      "Total time: 3673 seconds\n",
      "Total time: 1 hrs 1 mins 13 secs\n",
      "val_loss: 2.0616\n",
      "val_accuracy: 0.5936\n",
      "precision: 0.5690\n",
      "recall: 0.5936\n",
      "f1-score: 0.5619\n",
      "macro_f1-score: 0.3086\n",
      "balanced_accuracy: 0.3383\n",
      "mcc: 0.4152\n",
      "train_loss: 1.3426\n",
      "▶ Running: microsoft/deberta-base + bilstm + ros\n",
      "tokenizer is microsoft/deberta-base\n",
      "Using device: cuda\n",
      "CUDA Available: True\n",
      "CUDA Device: NVIDIA GeForce RTX 5070 Ti\n",
      "Current GPU Memory Allocated: 0.02 GB\n",
      "Current GPU Memory Cached: 5.32 GB\n",
      "\n",
      "[Fold 1]\n",
      "Label distribution after resampling:\n",
      "  label 0: 2000\n",
      "  label 1: 200\n",
      "  label 2: 200\n",
      "  label 3: 200\n",
      "  label 4: 205\n",
      "  label 5: 200\n",
      "  label 6: 200\n",
      "  label 7: 200\n",
      "  label 8: 200\n",
      "  label 9: 200\n",
      "  label 10: 200\n",
      "  label 11: 200\n",
      "  label 12: 200\n",
      "  label 13: 200\n",
      "  label 14: 200\n",
      "  label 15: 200\n",
      "  label 16: 200\n",
      "  label 17: 231\n",
      "  label 18: 200\n",
      "  label 19: 200\n",
      "  label 20: 200\n",
      "  label 21: 200\n",
      "  label 22: 200\n",
      "  label 23: 200\n",
      "  label 24: 200\n",
      "  label 25: 200\n",
      "  label 26: 200\n",
      "  label 27: 200\n",
      "  label 28: 200\n",
      "  label 29: 200\n",
      "  label 30: 200\n",
      "  label 31: 200\n",
      "  label 32: 200\n",
      "  label 33: 200\n",
      "  label 34: 200\n",
      "  label 35: 200\n",
      "  label 36: 200\n",
      "  label 37: 200\n",
      "  label 38: 200\n",
      "  label 39: 200\n",
      "  label 40: 200\n",
      "  label 41: 200\n",
      "  label 42: 200\n",
      "  label 43: 200\n",
      "  label 44: 200\n",
      "  label 45: 200\n",
      "  label 46: 200\n",
      "  label 47: 529\n",
      "  label 48: 202\n",
      "  label 49: 200\n",
      "model is microsoft/deberta-base bilstm\n",
      "Epoch 1/20\n"
     ]
    },
    {
     "name": "stderr",
     "output_type": "stream",
     "text": [
      "100%|██████████| 761/761 [01:30<00:00,  8.43it/s]\n"
     ]
    },
    {
     "name": "stdout",
     "output_type": "stream",
     "text": [
      "{'val_loss': 2.3730211988934933, 'val_accuracy': 0.5221762270845653, 'precision': 0.33301550297171933, 'recall': 0.5221762270845653, 'f1-score': 0.4062007468242419, 'macro_f1-score': 0.031323568300654026, 'balanced_accuracy': 0.04985134362492853, 'mcc': 0.28939337176258345, 'train_loss': 3.3100648214563275}\n",
      "Epoch 2/20\n"
     ]
    },
    {
     "name": "stderr",
     "output_type": "stream",
     "text": [
      "100%|██████████| 761/761 [01:30<00:00,  8.44it/s]\n"
     ]
    },
    {
     "name": "stdout",
     "output_type": "stream",
     "text": [
      "{'val_loss': 2.209524726530291, 'val_accuracy': 0.47309284447072736, 'precision': 0.40966923566151575, 'recall': 0.47309284447072736, 'f1-score': 0.4269697375822516, 'macro_f1-score': 0.04749171074279162, 'balanced_accuracy': 0.1128824247212341, 'mcc': 0.2948920630973302, 'train_loss': 2.8446034233767477}\n",
      "Epoch 3/20\n"
     ]
    },
    {
     "name": "stderr",
     "output_type": "stream",
     "text": [
      "100%|██████████| 761/761 [01:29<00:00,  8.48it/s]\n"
     ]
    },
    {
     "name": "stdout",
     "output_type": "stream",
     "text": [
      "{'val_loss': 2.2097711675571947, 'val_accuracy': 0.48492016558249557, 'precision': 0.43803036724393163, 'recall': 0.48492016558249557, 'f1-score': 0.44536231617225697, 'macro_f1-score': 0.06225070625802481, 'balanced_accuracy': 0.11540432131665053, 'mcc': 0.3167610102066194, 'train_loss': 2.586534223324679}\n",
      "Epoch 4/20\n"
     ]
    },
    {
     "name": "stderr",
     "output_type": "stream",
     "text": [
      "100%|██████████| 761/761 [01:30<00:00,  8.43it/s]\n"
     ]
    },
    {
     "name": "stdout",
     "output_type": "stream",
     "text": [
      "{'val_loss': 2.0963520250230467, 'val_accuracy': 0.48314606741573035, 'precision': 0.4481022750987935, 'recall': 0.48314606741573035, 'f1-score': 0.4518622750392687, 'macro_f1-score': 0.0928883297520145, 'balanced_accuracy': 0.14424834529385686, 'mcc': 0.3219455819311501, 'train_loss': 2.428245012456265}\n",
      "Epoch 5/20\n"
     ]
    },
    {
     "name": "stderr",
     "output_type": "stream",
     "text": [
      "100%|██████████| 761/761 [01:29<00:00,  8.48it/s]\n"
     ]
    },
    {
     "name": "stdout",
     "output_type": "stream",
     "text": [
      "{'val_loss': 2.078574097943756, 'val_accuracy': 0.4742755765819042, 'precision': 0.4641706375095415, 'recall': 0.4742755765819042, 'f1-score': 0.45773618292495394, 'macro_f1-score': 0.08181219086999836, 'balanced_accuracy': 0.1504955020261389, 'mcc': 0.3226736284818543, 'train_loss': 2.208396881544637}\n",
      "Epoch 6/20\n"
     ]
    },
    {
     "name": "stderr",
     "output_type": "stream",
     "text": [
      "100%|██████████| 761/761 [01:29<00:00,  8.48it/s]\n"
     ]
    },
    {
     "name": "stdout",
     "output_type": "stream",
     "text": [
      "{'val_loss': 2.0533212490801542, 'val_accuracy': 0.4926079243051449, 'precision': 0.4577179121015469, 'recall': 0.4926079243051449, 'f1-score': 0.46207137703518375, 'macro_f1-score': 0.09941060699136266, 'balanced_accuracy': 0.16550254942431622, 'mcc': 0.33658771630436113, 'train_loss': 2.139284487466148}\n",
      "Epoch 7/20\n"
     ]
    },
    {
     "name": "stderr",
     "output_type": "stream",
     "text": [
      "100%|██████████| 761/761 [01:29<00:00,  8.46it/s]\n"
     ]
    },
    {
     "name": "stdout",
     "output_type": "stream",
     "text": [
      "{'val_loss': 2.6019291787777306, 'val_accuracy': 0.413364872856298, 'precision': 0.3202419161101465, 'recall': 0.413364872856298, 'f1-score': 0.35102819020810766, 'macro_f1-score': 0.06538632937335012, 'balanced_accuracy': 0.109129103709329, 'mcc': 0.16728972058610828, 'train_loss': 2.1298884181562765}\n",
      "Epoch 8/20\n"
     ]
    },
    {
     "name": "stderr",
     "output_type": "stream",
     "text": [
      "100%|██████████| 761/761 [01:29<00:00,  8.53it/s]\n"
     ]
    },
    {
     "name": "stdout",
     "output_type": "stream",
     "text": [
      "{'val_loss': 2.081951723908478, 'val_accuracy': 0.47841513897102306, 'precision': 0.4553942616101092, 'recall': 0.47841513897102306, 'f1-score': 0.45823215571227127, 'macro_f1-score': 0.09713233941273351, 'balanced_accuracy': 0.12901056419928836, 'mcc': 0.3272485583321066, 'train_loss': 2.1386444473078625}\n",
      "Epoch 9/20\n"
     ]
    },
    {
     "name": "stderr",
     "output_type": "stream",
     "text": [
      "100%|██████████| 761/761 [01:29<00:00,  8.52it/s]\n"
     ]
    },
    {
     "name": "stdout",
     "output_type": "stream",
     "text": [
      "{'val_loss': 1.9542614350903709, 'val_accuracy': 0.498521584861029, 'precision': 0.4429728020882854, 'recall': 0.498521584861029, 'f1-score': 0.459780851150689, 'macro_f1-score': 0.07726714066575388, 'balanced_accuracy': 0.1215069274613522, 'mcc': 0.33627873558419785, 'train_loss': 2.0827119317537224}\n",
      "Early stopping.\n",
      "\n",
      "[Fold 2]\n",
      "Label distribution after resampling:\n",
      "  label 0: 2000\n",
      "  label 1: 200\n",
      "  label 2: 200\n",
      "  label 3: 200\n",
      "  label 4: 206\n",
      "  label 5: 200\n",
      "  label 6: 200\n",
      "  label 7: 200\n",
      "  label 8: 200\n",
      "  label 9: 200\n",
      "  label 10: 200\n",
      "  label 11: 200\n",
      "  label 12: 200\n",
      "  label 13: 200\n",
      "  label 14: 200\n",
      "  label 15: 200\n",
      "  label 16: 200\n",
      "  label 17: 231\n",
      "  label 18: 200\n",
      "  label 19: 200\n",
      "  label 20: 200\n",
      "  label 21: 200\n",
      "  label 22: 200\n",
      "  label 23: 200\n",
      "  label 24: 200\n",
      "  label 25: 200\n",
      "  label 26: 200\n",
      "  label 27: 200\n",
      "  label 28: 200\n",
      "  label 29: 200\n",
      "  label 30: 200\n",
      "  label 31: 200\n",
      "  label 32: 200\n",
      "  label 33: 200\n",
      "  label 34: 200\n",
      "  label 35: 200\n",
      "  label 36: 200\n",
      "  label 37: 200\n",
      "  label 38: 200\n",
      "  label 39: 200\n",
      "  label 40: 200\n",
      "  label 41: 200\n",
      "  label 42: 200\n",
      "  label 43: 200\n",
      "  label 44: 200\n",
      "  label 45: 200\n",
      "  label 46: 200\n",
      "  label 47: 528\n",
      "  label 48: 202\n",
      "  label 49: 200\n",
      "model is microsoft/deberta-base bilstm\n",
      "Epoch 1/20\n"
     ]
    },
    {
     "name": "stderr",
     "output_type": "stream",
     "text": [
      "100%|██████████| 761/761 [01:29<00:00,  8.47it/s]\n"
     ]
    },
    {
     "name": "stdout",
     "output_type": "stream",
     "text": [
      "{'val_loss': 2.3596999431556127, 'val_accuracy': 0.5091661738616203, 'precision': 0.3640232674523295, 'recall': 0.5091661738616203, 'f1-score': 0.41341675581836573, 'macro_f1-score': 0.04623149444006666, 'balanced_accuracy': 0.07781684394243035, 'mcc': 0.28383046128965805, 'train_loss': 3.3092991405028394}\n",
      "Epoch 2/20\n"
     ]
    },
    {
     "name": "stderr",
     "output_type": "stream",
     "text": [
      "100%|██████████| 761/761 [01:30<00:00,  8.42it/s]\n"
     ]
    },
    {
     "name": "stdout",
     "output_type": "stream",
     "text": [
      "{'val_loss': 2.2258102376506015, 'val_accuracy': 0.462448255470136, 'precision': 0.4652747726715838, 'recall': 0.462448255470136, 'f1-score': 0.45213351917592864, 'macro_f1-score': 0.09920645650179315, 'balanced_accuracy': 0.16947547229600787, 'mcc': 0.3048114039233863, 'train_loss': 2.6234314867764046}\n",
      "Epoch 3/20\n"
     ]
    },
    {
     "name": "stderr",
     "output_type": "stream",
     "text": [
      "100%|██████████| 761/761 [01:30<00:00,  8.45it/s]\n"
     ]
    },
    {
     "name": "stdout",
     "output_type": "stream",
     "text": [
      "{'val_loss': 1.8987467896263555, 'val_accuracy': 0.5002956830277943, 'precision': 0.45911608325443737, 'recall': 0.5002956830277943, 'f1-score': 0.4736378300138978, 'macro_f1-score': 0.10106048670220918, 'balanced_accuracy': 0.13353436036338578, 'mcc': 0.3463808335857428, 'train_loss': 2.1728005515761506}\n",
      "Epoch 4/20\n"
     ]
    },
    {
     "name": "stderr",
     "output_type": "stream",
     "text": [
      "100%|██████████| 761/761 [01:29<00:00,  8.47it/s]\n"
     ]
    },
    {
     "name": "stdout",
     "output_type": "stream",
     "text": [
      "{'val_loss': 1.8272550668356553, 'val_accuracy': 0.534594914251922, 'precision': 0.49363903925818897, 'recall': 0.534594914251922, 'f1-score': 0.49583768240577986, 'macro_f1-score': 0.1669430592341168, 'balanced_accuracy': 0.19921699731654993, 'mcc': 0.36912550277752404, 'train_loss': 1.7559669751688622}\n",
      "Epoch 5/20\n"
     ]
    },
    {
     "name": "stderr",
     "output_type": "stream",
     "text": [
      "100%|██████████| 761/761 [01:29<00:00,  8.47it/s]\n"
     ]
    },
    {
     "name": "stdout",
     "output_type": "stream",
     "text": [
      "{'val_loss': 1.8019577090470296, 'val_accuracy': 0.5464222353636902, 'precision': 0.5329086461571528, 'recall': 0.5464222353636902, 'f1-score': 0.5170666235728238, 'macro_f1-score': 0.20248583376951745, 'balanced_accuracy': 0.2447850096002391, 'mcc': 0.40192033621370105, 'train_loss': 1.7449851302373738}\n",
      "Epoch 6/20\n"
     ]
    },
    {
     "name": "stderr",
     "output_type": "stream",
     "text": [
      "100%|██████████| 761/761 [01:30<00:00,  8.42it/s]\n"
     ]
    },
    {
     "name": "stdout",
     "output_type": "stream",
     "text": [
      "{'val_loss': 1.7297554291644186, 'val_accuracy': 0.5464222353636902, 'precision': 0.5486460774451923, 'recall': 0.5464222353636902, 'f1-score': 0.5373799871783368, 'macro_f1-score': 0.2597950028984047, 'balanced_accuracy': 0.28321516314371026, 'mcc': 0.41129782872488435, 'train_loss': 1.205609069860561}\n",
      "Epoch 7/20\n"
     ]
    },
    {
     "name": "stderr",
     "output_type": "stream",
     "text": [
      "100%|██████████| 761/761 [01:29<00:00,  8.46it/s]\n"
     ]
    },
    {
     "name": "stdout",
     "output_type": "stream",
     "text": [
      "{'val_loss': 1.782988023926627, 'val_accuracy': 0.5487876995860438, 'precision': 0.5517964878393472, 'recall': 0.5487876995860438, 'f1-score': 0.5402178881271283, 'macro_f1-score': 0.27050839325240295, 'balanced_accuracy': 0.3053924045100207, 'mcc': 0.42376139066732327, 'train_loss': 1.016608897944161}\n",
      "Epoch 8/20\n"
     ]
    },
    {
     "name": "stderr",
     "output_type": "stream",
     "text": [
      "100%|██████████| 761/761 [01:29<00:00,  8.49it/s]\n"
     ]
    },
    {
     "name": "stdout",
     "output_type": "stream",
     "text": [
      "{'val_loss': 1.7459215800154884, 'val_accuracy': 0.5724423418095801, 'precision': 0.5623029718236711, 'recall': 0.5724423418095801, 'f1-score': 0.5562158110728412, 'macro_f1-score': 0.28344122041161957, 'balanced_accuracy': 0.3034488261973488, 'mcc': 0.44318018499113915, 'train_loss': 0.8693258370347468}\n",
      "Epoch 9/20\n"
     ]
    },
    {
     "name": "stderr",
     "output_type": "stream",
     "text": [
      "100%|██████████| 761/761 [01:29<00:00,  8.49it/s]\n"
     ]
    },
    {
     "name": "stdout",
     "output_type": "stream",
     "text": [
      "{'val_loss': 1.8699864239062902, 'val_accuracy': 0.540508574807806, 'precision': 0.5815542136086854, 'recall': 0.540508574807806, 'f1-score': 0.5447327021925732, 'macro_f1-score': 0.2729387622873282, 'balanced_accuracy': 0.3111429609762004, 'mcc': 0.42591649605975307, 'train_loss': 0.8108715377111629}\n",
      "Epoch 10/20\n"
     ]
    },
    {
     "name": "stderr",
     "output_type": "stream",
     "text": [
      "100%|██████████| 761/761 [01:30<00:00,  8.43it/s]\n"
     ]
    },
    {
     "name": "stdout",
     "output_type": "stream",
     "text": [
      "{'val_loss': 1.7907114835842601, 'val_accuracy': 0.5795387344766411, 'precision': 0.5854409061825742, 'recall': 0.5795387344766411, 'f1-score': 0.5623810379982884, 'macro_f1-score': 0.3009092139073533, 'balanced_accuracy': 0.2999228229382054, 'mcc': 0.4464744344500517, 'train_loss': 0.6925313539421198}\n",
      "Epoch 11/20\n"
     ]
    },
    {
     "name": "stderr",
     "output_type": "stream",
     "text": [
      "100%|██████████| 761/761 [01:31<00:00,  8.35it/s]\n"
     ]
    },
    {
     "name": "stdout",
     "output_type": "stream",
     "text": [
      "{'val_loss': 1.8207098529586252, 'val_accuracy': 0.5617977528089888, 'precision': 0.5805863508557734, 'recall': 0.5617977528089888, 'f1-score': 0.5597176124257672, 'macro_f1-score': 0.30890965644646307, 'balanced_accuracy': 0.3171645588950318, 'mcc': 0.43507784132385063, 'train_loss': 0.672546993642458}\n",
      "Epoch 12/20\n"
     ]
    },
    {
     "name": "stderr",
     "output_type": "stream",
     "text": [
      "100%|██████████| 761/761 [01:29<00:00,  8.49it/s]\n"
     ]
    },
    {
     "name": "stdout",
     "output_type": "stream",
     "text": [
      "{'val_loss': 1.9255371667304129, 'val_accuracy': 0.560615020697812, 'precision': 0.6011159901478196, 'recall': 0.560615020697812, 'f1-score': 0.5619260683144277, 'macro_f1-score': 0.30875026923091936, 'balanced_accuracy': 0.3278071486171836, 'mcc': 0.4500825597113683, 'train_loss': 0.5594484350899829}\n",
      "Epoch 13/20\n"
     ]
    },
    {
     "name": "stderr",
     "output_type": "stream",
     "text": [
      "100%|██████████| 761/761 [01:29<00:00,  8.46it/s]\n"
     ]
    },
    {
     "name": "stdout",
     "output_type": "stream",
     "text": [
      "{'val_loss': 1.9729470228249173, 'val_accuracy': 0.556475458308693, 'precision': 0.5936564810016204, 'recall': 0.556475458308693, 'f1-score': 0.557761337534055, 'macro_f1-score': 0.3196689704016943, 'balanced_accuracy': 0.3419564559432007, 'mcc': 0.4438341452621227, 'train_loss': 0.5600074652029243}\n",
      "Epoch 14/20\n"
     ]
    },
    {
     "name": "stderr",
     "output_type": "stream",
     "text": [
      "100%|██████████| 761/761 [01:30<00:00,  8.44it/s]\n"
     ]
    },
    {
     "name": "stdout",
     "output_type": "stream",
     "text": [
      "{'val_loss': 1.9616322163140998, 'val_accuracy': 0.5594322885866351, 'precision': 0.5859275328097416, 'recall': 0.5594322885866351, 'f1-score': 0.5645148243583554, 'macro_f1-score': 0.31398808141729717, 'balanced_accuracy': 0.3294614942419085, 'mcc': 0.43345314725529316, 'train_loss': 0.5495611158898406}\n",
      "Epoch 15/20\n"
     ]
    },
    {
     "name": "stderr",
     "output_type": "stream",
     "text": [
      "100%|██████████| 761/761 [01:29<00:00,  8.47it/s]\n"
     ]
    },
    {
     "name": "stdout",
     "output_type": "stream",
     "text": [
      "{'val_loss': 1.939123881875344, 'val_accuracy': 0.5884092253104671, 'precision': 0.6062077894145408, 'recall': 0.5884092253104671, 'f1-score': 0.5842311735073221, 'macro_f1-score': 0.33168689156459047, 'balanced_accuracy': 0.358671173480464, 'mcc': 0.4745110983130717, 'train_loss': 0.48039964300368604}\n",
      "Epoch 16/20\n"
     ]
    },
    {
     "name": "stderr",
     "output_type": "stream",
     "text": [
      "100%|██████████| 761/761 [01:29<00:00,  8.50it/s]\n"
     ]
    },
    {
     "name": "stdout",
     "output_type": "stream",
     "text": [
      "{'val_loss': 1.9407038385013364, 'val_accuracy': 0.5836782968657599, 'precision': 0.6039533107057926, 'recall': 0.5836782968657599, 'f1-score': 0.5833371229271213, 'macro_f1-score': 0.3207521514608007, 'balanced_accuracy': 0.3491104688278677, 'mcc': 0.46728821968343204, 'train_loss': 0.4030900299891771}\n",
      "Epoch 17/20\n"
     ]
    },
    {
     "name": "stderr",
     "output_type": "stream",
     "text": [
      "100%|██████████| 761/761 [01:30<00:00,  8.45it/s]\n"
     ]
    },
    {
     "name": "stdout",
     "output_type": "stream",
     "text": [
      "{'val_loss': 1.9551600304976948, 'val_accuracy': 0.622708456534595, 'precision': 0.6217115523103715, 'recall': 0.622708456534595, 'f1-score': 0.6107422370006816, 'macro_f1-score': 0.367159437524228, 'balanced_accuracy': 0.3653921804296924, 'mcc': 0.4980654111907902, 'train_loss': 0.36947939383617445}\n",
      "Epoch 18/20\n"
     ]
    },
    {
     "name": "stderr",
     "output_type": "stream",
     "text": [
      "100%|██████████| 761/761 [01:29<00:00,  8.46it/s]\n"
     ]
    },
    {
     "name": "stdout",
     "output_type": "stream",
     "text": [
      "{'val_loss': 1.9109018014849357, 'val_accuracy': 0.622708456534595, 'precision': 0.6157434594359417, 'recall': 0.622708456534595, 'f1-score': 0.6089476947636507, 'macro_f1-score': 0.3533115485655111, 'balanced_accuracy': 0.35289167143462025, 'mcc': 0.5028004166543034, 'train_loss': 0.33158418026834763}\n",
      "Epoch 19/20\n"
     ]
    },
    {
     "name": "stderr",
     "output_type": "stream",
     "text": [
      "100%|██████████| 761/761 [01:29<00:00,  8.54it/s]\n"
     ]
    },
    {
     "name": "stdout",
     "output_type": "stream",
     "text": [
      "{'val_loss': 1.8490335977864716, 'val_accuracy': 0.6091070372560615, 'precision': 0.6357919327175012, 'recall': 0.6091070372560615, 'f1-score': 0.6130255965261544, 'macro_f1-score': 0.3648269496224199, 'balanced_accuracy': 0.3750690153071897, 'mcc': 0.5006497358776063, 'train_loss': 0.3629015650546347}\n",
      "Epoch 20/20\n"
     ]
    },
    {
     "name": "stderr",
     "output_type": "stream",
     "text": [
      "100%|██████████| 761/761 [01:29<00:00,  8.50it/s]\n"
     ]
    },
    {
     "name": "stdout",
     "output_type": "stream",
     "text": [
      "{'val_loss': 1.950093055108808, 'val_accuracy': 0.612655233589592, 'precision': 0.6216769508991894, 'recall': 0.612655233589592, 'f1-score': 0.610277517179762, 'macro_f1-score': 0.36007928832661784, 'balanced_accuracy': 0.368153759318333, 'mcc': 0.4992983474729632, 'train_loss': 0.2977841584875925}\n",
      "Early stopping.\n",
      "\n",
      "[Fold 3]\n",
      "Label distribution after resampling:\n",
      "  label 0: 2000\n",
      "  label 1: 200\n",
      "  label 2: 200\n",
      "  label 3: 200\n",
      "  label 4: 206\n",
      "  label 5: 200\n",
      "  label 6: 200\n",
      "  label 7: 200\n",
      "  label 8: 200\n",
      "  label 9: 200\n",
      "  label 10: 200\n",
      "  label 11: 200\n",
      "  label 12: 200\n",
      "  label 13: 200\n",
      "  label 14: 200\n",
      "  label 15: 200\n",
      "  label 16: 200\n",
      "  label 17: 231\n",
      "  label 18: 200\n",
      "  label 19: 200\n",
      "  label 20: 200\n",
      "  label 21: 200\n",
      "  label 22: 200\n",
      "  label 23: 200\n",
      "  label 24: 200\n",
      "  label 25: 200\n",
      "  label 26: 200\n",
      "  label 27: 200\n",
      "  label 28: 200\n",
      "  label 29: 200\n",
      "  label 30: 200\n",
      "  label 31: 200\n",
      "  label 32: 200\n",
      "  label 33: 200\n",
      "  label 34: 200\n",
      "  label 35: 200\n",
      "  label 36: 200\n",
      "  label 37: 200\n",
      "  label 38: 200\n",
      "  label 39: 200\n",
      "  label 40: 200\n",
      "  label 41: 200\n",
      "  label 42: 200\n",
      "  label 43: 200\n",
      "  label 44: 200\n",
      "  label 45: 200\n",
      "  label 46: 200\n",
      "  label 47: 529\n",
      "  label 48: 201\n",
      "  label 49: 200\n",
      "model is microsoft/deberta-base bilstm\n",
      "Epoch 1/20\n"
     ]
    },
    {
     "name": "stderr",
     "output_type": "stream",
     "text": [
      "100%|██████████| 761/761 [01:30<00:00,  8.43it/s]\n"
     ]
    },
    {
     "name": "stdout",
     "output_type": "stream",
     "text": [
      "{'val_loss': 2.655577108545123, 'val_accuracy': 0.5085748078060319, 'precision': 0.3139818347150704, 'recall': 0.5085748078060319, 'f1-score': 0.3757937271884405, 'macro_f1-score': 0.031319065921452005, 'balanced_accuracy': 0.05403300408114982, 'mcc': 0.2322732940138347, 'train_loss': 3.4201774039500332}\n",
      "Epoch 2/20\n"
     ]
    },
    {
     "name": "stderr",
     "output_type": "stream",
     "text": [
      "100%|██████████| 761/761 [01:29<00:00,  8.47it/s]\n"
     ]
    },
    {
     "name": "stdout",
     "output_type": "stream",
     "text": [
      "{'val_loss': 2.3119211039453185, 'val_accuracy': 0.4931992903607333, 'precision': 0.36947242298861066, 'recall': 0.4931992903607333, 'f1-score': 0.41745485588473513, 'macro_f1-score': 0.03228325550791044, 'balanced_accuracy': 0.05947759310739142, 'mcc': 0.29592527936820945, 'train_loss': 3.056868219657577}\n",
      "Epoch 3/20\n"
     ]
    },
    {
     "name": "stderr",
     "output_type": "stream",
     "text": [
      "100%|██████████| 761/761 [01:29<00:00,  8.48it/s]\n"
     ]
    },
    {
     "name": "stdout",
     "output_type": "stream",
     "text": [
      "{'val_loss': 2.3587671147202545, 'val_accuracy': 0.5020697811945595, 'precision': 0.3468918646895027, 'recall': 0.5020697811945595, 'f1-score': 0.40430603251321995, 'macro_f1-score': 0.037487247076478054, 'balanced_accuracy': 0.06301780327674927, 'mcc': 0.27046552883957076, 'train_loss': 2.7724301147711574}\n",
      "Epoch 4/20\n"
     ]
    },
    {
     "name": "stderr",
     "output_type": "stream",
     "text": [
      "100%|██████████| 761/761 [01:29<00:00,  8.50it/s]\n"
     ]
    },
    {
     "name": "stdout",
     "output_type": "stream",
     "text": [
      "{'val_loss': 2.428004450393173, 'val_accuracy': 0.5056179775280899, 'precision': 0.4246120556294916, 'recall': 0.5056179775280899, 'f1-score': 0.4539135945781159, 'macro_f1-score': 0.06772615532885096, 'balanced_accuracy': 0.08581878517657728, 'mcc': 0.3288296729859042, 'train_loss': 2.6243532612508607}\n",
      "Epoch 5/20\n"
     ]
    },
    {
     "name": "stderr",
     "output_type": "stream",
     "text": [
      "100%|██████████| 761/761 [01:30<00:00,  8.44it/s]\n"
     ]
    },
    {
     "name": "stdout",
     "output_type": "stream",
     "text": [
      "{'val_loss': 2.355846107006073, 'val_accuracy': 0.4961561206386753, 'precision': 0.43603075847024564, 'recall': 0.4961561206386753, 'f1-score': 0.45326080649218525, 'macro_f1-score': 0.06464111516196674, 'balanced_accuracy': 0.08878564163584639, 'mcc': 0.32370251995862553, 'train_loss': 2.4998866551495724}\n",
      "Epoch 6/20\n"
     ]
    },
    {
     "name": "stderr",
     "output_type": "stream",
     "text": [
      "100%|██████████| 761/761 [01:29<00:00,  8.46it/s]\n"
     ]
    },
    {
     "name": "stdout",
     "output_type": "stream",
     "text": [
      "{'val_loss': 2.364586060901858, 'val_accuracy': 0.4529863985807215, 'precision': 0.40102982184788183, 'recall': 0.4529863985807215, 'f1-score': 0.4187819031647468, 'macro_f1-score': 0.055898629061706, 'balanced_accuracy': 0.10113709804617418, 'mcc': 0.2849079609540522, 'train_loss': 2.4405678255329306}\n",
      "Epoch 7/20\n"
     ]
    },
    {
     "name": "stderr",
     "output_type": "stream",
     "text": [
      "100%|██████████| 761/761 [01:29<00:00,  8.48it/s]\n"
     ]
    },
    {
     "name": "stdout",
     "output_type": "stream",
     "text": [
      "{'val_loss': 2.614174915934509, 'val_accuracy': 0.332347723240686, 'precision': 0.4680484259059707, 'recall': 0.332347723240686, 'f1-score': 0.37067866202725325, 'macro_f1-score': 0.06226685510465229, 'balanced_accuracy': 0.10123113043249674, 'mcc': 0.2433214967125342, 'train_loss': 2.412523541751265}\n",
      "Early stopping.\n",
      "\n",
      "[Fold 4]\n",
      "Label distribution after resampling:\n",
      "  label 0: 2000\n",
      "  label 1: 200\n",
      "  label 2: 200\n",
      "  label 3: 200\n",
      "  label 4: 206\n",
      "  label 5: 200\n",
      "  label 6: 200\n",
      "  label 7: 200\n",
      "  label 8: 200\n",
      "  label 9: 200\n",
      "  label 10: 200\n",
      "  label 11: 200\n",
      "  label 12: 200\n",
      "  label 13: 200\n",
      "  label 14: 200\n",
      "  label 15: 200\n",
      "  label 16: 200\n",
      "  label 17: 232\n",
      "  label 18: 200\n",
      "  label 19: 200\n",
      "  label 20: 200\n",
      "  label 21: 200\n",
      "  label 22: 200\n",
      "  label 23: 200\n",
      "  label 24: 200\n",
      "  label 25: 200\n",
      "  label 26: 200\n",
      "  label 27: 200\n",
      "  label 28: 200\n",
      "  label 29: 200\n",
      "  label 30: 200\n",
      "  label 31: 200\n",
      "  label 32: 200\n",
      "  label 33: 200\n",
      "  label 34: 200\n",
      "  label 35: 200\n",
      "  label 36: 200\n",
      "  label 37: 200\n",
      "  label 38: 200\n",
      "  label 39: 200\n",
      "  label 40: 200\n",
      "  label 41: 200\n",
      "  label 42: 200\n",
      "  label 43: 200\n",
      "  label 44: 200\n",
      "  label 45: 200\n",
      "  label 46: 200\n",
      "  label 47: 529\n",
      "  label 48: 201\n",
      "  label 49: 200\n",
      "model is microsoft/deberta-base bilstm\n",
      "Epoch 1/20\n"
     ]
    },
    {
     "name": "stderr",
     "output_type": "stream",
     "text": [
      "100%|██████████| 761/761 [01:29<00:00,  8.47it/s]\n"
     ]
    },
    {
     "name": "stdout",
     "output_type": "stream",
     "text": [
      "{'val_loss': 2.513863093448135, 'val_accuracy': 0.47545830869308103, 'precision': 0.39095271628933176, 'recall': 0.47545830869308103, 'f1-score': 0.4144845192467829, 'macro_f1-score': 0.0404223501062679, 'balanced_accuracy': 0.06566574025114244, 'mcc': 0.30814925980722846, 'train_loss': 3.3106778404245865}\n",
      "Epoch 2/20\n"
     ]
    },
    {
     "name": "stderr",
     "output_type": "stream",
     "text": [
      "100%|██████████| 761/761 [01:30<00:00,  8.44it/s]\n"
     ]
    },
    {
     "name": "stdout",
     "output_type": "stream",
     "text": [
      "{'val_loss': 2.013444278037773, 'val_accuracy': 0.4967474866942638, 'precision': 0.452553836891627, 'recall': 0.4967474866942638, 'f1-score': 0.4673781375066079, 'macro_f1-score': 0.08177391175450278, 'balanced_accuracy': 0.14862199376455465, 'mcc': 0.33385900189053824, 'train_loss': 2.68845081564318}\n",
      "Epoch 3/20\n"
     ]
    },
    {
     "name": "stderr",
     "output_type": "stream",
     "text": [
      "100%|██████████| 761/761 [01:29<00:00,  8.46it/s]\n"
     ]
    },
    {
     "name": "stdout",
     "output_type": "stream",
     "text": [
      "{'val_loss': 1.7974234245858103, 'val_accuracy': 0.547604967474867, 'precision': 0.49509252092368833, 'recall': 0.547604967474867, 'f1-score': 0.5014373651871725, 'macro_f1-score': 0.13373065636719556, 'balanced_accuracy': 0.20673245738366364, 'mcc': 0.3991899844459258, 'train_loss': 2.1810109670152804}\n",
      "Epoch 4/20\n"
     ]
    },
    {
     "name": "stderr",
     "output_type": "stream",
     "text": [
      "100%|██████████| 761/761 [01:29<00:00,  8.48it/s]\n"
     ]
    },
    {
     "name": "stdout",
     "output_type": "stream",
     "text": [
      "{'val_loss': 1.7231877631736252, 'val_accuracy': 0.5316380839739799, 'precision': 0.47982819344711863, 'recall': 0.5316380839739799, 'f1-score': 0.4953740897727916, 'macro_f1-score': 0.1810062232116884, 'balanced_accuracy': 0.26159556468830425, 'mcc': 0.3874276198743965, 'train_loss': 1.8215627089123219}\n",
      "Epoch 5/20\n"
     ]
    },
    {
     "name": "stderr",
     "output_type": "stream",
     "text": [
      "100%|██████████| 761/761 [01:29<00:00,  8.46it/s]\n"
     ]
    },
    {
     "name": "stdout",
     "output_type": "stream",
     "text": [
      "{'val_loss': 1.6689266708661925, 'val_accuracy': 0.5328208160851567, 'precision': 0.5588325520185476, 'recall': 0.5328208160851567, 'f1-score': 0.5222099804066888, 'macro_f1-score': 0.23411541378241252, 'balanced_accuracy': 0.28864923561327016, 'mcc': 0.3929967549605432, 'train_loss': 1.5953056989298857}\n",
      "Epoch 6/20\n"
     ]
    },
    {
     "name": "stderr",
     "output_type": "stream",
     "text": [
      "100%|██████████| 761/761 [01:30<00:00,  8.38it/s]\n"
     ]
    },
    {
     "name": "stdout",
     "output_type": "stream",
     "text": [
      "{'val_loss': 1.7443645304104067, 'val_accuracy': 0.5541099940863394, 'precision': 0.5343744721879019, 'recall': 0.5541099940863394, 'f1-score': 0.5325457110163645, 'macro_f1-score': 0.20667803846873872, 'balanced_accuracy': 0.2620709267611819, 'mcc': 0.4246952128076736, 'train_loss': 1.3227378115469146}\n",
      "Epoch 7/20\n"
     ]
    },
    {
     "name": "stderr",
     "output_type": "stream",
     "text": [
      "100%|██████████| 761/761 [01:30<00:00,  8.45it/s]\n"
     ]
    },
    {
     "name": "stdout",
     "output_type": "stream",
     "text": [
      "{'val_loss': 1.831282893441758, 'val_accuracy': 0.5233589591957422, 'precision': 0.5594966037424987, 'recall': 0.5233589591957422, 'f1-score': 0.518227277051884, 'macro_f1-score': 0.22913158990381546, 'balanced_accuracy': 0.27867909897397125, 'mcc': 0.3969703849750155, 'train_loss': 1.160481906438469}\n",
      "Epoch 8/20\n"
     ]
    },
    {
     "name": "stderr",
     "output_type": "stream",
     "text": [
      "100%|██████████| 761/761 [01:30<00:00,  8.45it/s]\n"
     ]
    },
    {
     "name": "stdout",
     "output_type": "stream",
     "text": [
      "{'val_loss': 1.7260226382399506, 'val_accuracy': 0.5777646363098758, 'precision': 0.5907516923093327, 'recall': 0.5777646363098758, 'f1-score': 0.5611415064126961, 'macro_f1-score': 0.2676196693280953, 'balanced_accuracy': 0.3037781743258056, 'mcc': 0.45131502178223715, 'train_loss': 1.0169169489250234}\n",
      "Epoch 9/20\n"
     ]
    },
    {
     "name": "stderr",
     "output_type": "stream",
     "text": [
      "100%|██████████| 761/761 [01:30<00:00,  8.43it/s]\n"
     ]
    },
    {
     "name": "stdout",
     "output_type": "stream",
     "text": [
      "{'val_loss': 1.7131559916262358, 'val_accuracy': 0.5298639858072147, 'precision': 0.6253507491671955, 'recall': 0.5298639858072147, 'f1-score': 0.5586652560512291, 'macro_f1-score': 0.2868155983151706, 'balanced_accuracy': 0.3249255216184804, 'mcc': 0.41732910630013653, 'train_loss': 0.9072654796727541}\n",
      "Epoch 10/20\n"
     ]
    },
    {
     "name": "stderr",
     "output_type": "stream",
     "text": [
      "100%|██████████| 761/761 [01:30<00:00,  8.43it/s]\n"
     ]
    },
    {
     "name": "stdout",
     "output_type": "stream",
     "text": [
      "{'val_loss': 1.7708296266929158, 'val_accuracy': 0.5736250739207569, 'precision': 0.6023956666878013, 'recall': 0.5736250739207569, 'f1-score': 0.5701752965662809, 'macro_f1-score': 0.29199067690147523, 'balanced_accuracy': 0.3418632412144768, 'mcc': 0.46822973120587574, 'train_loss': 0.8016251087893638}\n",
      "Epoch 11/20\n"
     ]
    },
    {
     "name": "stderr",
     "output_type": "stream",
     "text": [
      "100%|██████████| 761/761 [01:29<00:00,  8.51it/s]\n"
     ]
    },
    {
     "name": "stdout",
     "output_type": "stream",
     "text": [
      "{'val_loss': 1.7014748653713263, 'val_accuracy': 0.5688941454760497, 'precision': 0.6095610593942927, 'recall': 0.5688941454760497, 'f1-score': 0.5796659500613335, 'macro_f1-score': 0.3047218078557586, 'balanced_accuracy': 0.329853790355982, 'mcc': 0.45840244063458335, 'train_loss': 0.777917828317854}\n",
      "Epoch 12/20\n"
     ]
    },
    {
     "name": "stderr",
     "output_type": "stream",
     "text": [
      "100%|██████████| 761/761 [01:29<00:00,  8.52it/s]\n"
     ]
    },
    {
     "name": "stdout",
     "output_type": "stream",
     "text": [
      "{'val_loss': 1.7893770831935811, 'val_accuracy': 0.5854523950325251, 'precision': 0.6195418585207902, 'recall': 0.5854523950325251, 'f1-score': 0.586845764543337, 'macro_f1-score': 0.32370864734206195, 'balanced_accuracy': 0.3657132741481022, 'mcc': 0.48565984633686454, 'train_loss': 0.6876077455873558}\n",
      "Epoch 13/20\n"
     ]
    },
    {
     "name": "stderr",
     "output_type": "stream",
     "text": [
      "100%|██████████| 761/761 [01:29<00:00,  8.51it/s]\n"
     ]
    },
    {
     "name": "stdout",
     "output_type": "stream",
     "text": [
      "{'val_loss': 1.8079532362380117, 'val_accuracy': 0.5854523950325251, 'precision': 0.5990435982463002, 'recall': 0.5854523950325251, 'f1-score': 0.5795043127779541, 'macro_f1-score': 0.32264430064789695, 'balanced_accuracy': 0.3576027450040123, 'mcc': 0.4742516147917813, 'train_loss': 0.5911101304709363}\n",
      "Epoch 14/20\n"
     ]
    },
    {
     "name": "stderr",
     "output_type": "stream",
     "text": [
      "100%|██████████| 761/761 [01:29<00:00,  8.47it/s]\n"
     ]
    },
    {
     "name": "stdout",
     "output_type": "stream",
     "text": [
      "{'val_loss': 1.7950749543477904, 'val_accuracy': 0.6037847427557658, 'precision': 0.60150344657683, 'recall': 0.6037847427557658, 'f1-score': 0.5878691420728752, 'macro_f1-score': 0.30882754711624216, 'balanced_accuracy': 0.3209790111393259, 'mcc': 0.48330495375492627, 'train_loss': 0.5953700454139521}\n",
      "Epoch 15/20\n"
     ]
    },
    {
     "name": "stderr",
     "output_type": "stream",
     "text": [
      "100%|██████████| 761/761 [01:30<00:00,  8.38it/s]\n"
     ]
    },
    {
     "name": "stdout",
     "output_type": "stream",
     "text": [
      "{'val_loss': 1.751112608133622, 'val_accuracy': 0.6031933767001774, 'precision': 0.6089861046038112, 'recall': 0.6031933767001774, 'f1-score': 0.5933318531984139, 'macro_f1-score': 0.32629510705760395, 'balanced_accuracy': 0.34339689197307843, 'mcc': 0.49187221600488606, 'train_loss': 0.6448542502134764}\n",
      "Epoch 16/20\n"
     ]
    },
    {
     "name": "stderr",
     "output_type": "stream",
     "text": [
      "100%|██████████| 761/761 [01:30<00:00,  8.42it/s]\n"
     ]
    },
    {
     "name": "stdout",
     "output_type": "stream",
     "text": [
      "{'val_loss': 1.8441884526104297, 'val_accuracy': 0.6079243051448847, 'precision': 0.6142470381434795, 'recall': 0.6079243051448847, 'f1-score': 0.5943617793083035, 'macro_f1-score': 0.3338707356029245, 'balanced_accuracy': 0.3627548066298754, 'mcc': 0.49688155724015376, 'train_loss': 0.5286196893063936}\n",
      "Epoch 17/20\n"
     ]
    },
    {
     "name": "stderr",
     "output_type": "stream",
     "text": [
      "100%|██████████| 761/761 [01:30<00:00,  8.41it/s]\n"
     ]
    },
    {
     "name": "stdout",
     "output_type": "stream",
     "text": [
      "{'val_loss': 1.9207737043781101, 'val_accuracy': 0.6002365464222353, 'precision': 0.6210446251610525, 'recall': 0.6002365464222353, 'f1-score': 0.5983349985725762, 'macro_f1-score': 0.3337907772939604, 'balanced_accuracy': 0.36427587443322956, 'mcc': 0.4950547225794839, 'train_loss': 0.4727155429221758}\n",
      "Epoch 18/20\n"
     ]
    },
    {
     "name": "stderr",
     "output_type": "stream",
     "text": [
      "100%|██████████| 761/761 [01:30<00:00,  8.45it/s]\n"
     ]
    },
    {
     "name": "stdout",
     "output_type": "stream",
     "text": [
      "{'val_loss': 1.8804831060598481, 'val_accuracy': 0.5984624482554701, 'precision': 0.6337089164217794, 'recall': 0.5984624482554701, 'f1-score': 0.5922051842378347, 'macro_f1-score': 0.35111573995322004, 'balanced_accuracy': 0.37603153335688916, 'mcc': 0.4923173662844388, 'train_loss': 0.45443496630868524}\n",
      "Epoch 19/20\n"
     ]
    },
    {
     "name": "stderr",
     "output_type": "stream",
     "text": [
      "100%|██████████| 761/761 [01:29<00:00,  8.49it/s]\n"
     ]
    },
    {
     "name": "stdout",
     "output_type": "stream",
     "text": [
      "{'val_loss': 2.0846263636957922, 'val_accuracy': 0.5558840922531046, 'precision': 0.6355506472653849, 'recall': 0.5558840922531046, 'f1-score': 0.5733982247051204, 'macro_f1-score': 0.2952009087296106, 'balanced_accuracy': 0.3605564166644657, 'mcc': 0.4510575629852405, 'train_loss': 0.47231323370874007}\n",
      "Epoch 20/20\n"
     ]
    },
    {
     "name": "stderr",
     "output_type": "stream",
     "text": [
      "100%|██████████| 761/761 [01:29<00:00,  8.48it/s]\n"
     ]
    },
    {
     "name": "stdout",
     "output_type": "stream",
     "text": [
      "{'val_loss': 1.9096052778779335, 'val_accuracy': 0.6102897693672383, 'precision': 0.6364258675229982, 'recall': 0.6102897693672383, 'f1-score': 0.6053305935209745, 'macro_f1-score': 0.3451399726753527, 'balanced_accuracy': 0.36221872783121833, 'mcc': 0.5059846523355197, 'train_loss': 0.510540199075653}\n",
      "\n",
      "[Fold 5]\n",
      "Label distribution after resampling:\n",
      "  label 0: 2000\n",
      "  label 1: 200\n",
      "  label 2: 200\n",
      "  label 3: 200\n",
      "  label 4: 205\n",
      "  label 5: 200\n",
      "  label 6: 200\n",
      "  label 7: 200\n",
      "  label 8: 200\n",
      "  label 9: 200\n",
      "  label 10: 200\n",
      "  label 11: 200\n",
      "  label 12: 200\n",
      "  label 13: 200\n",
      "  label 14: 200\n",
      "  label 15: 200\n",
      "  label 16: 200\n",
      "  label 17: 231\n",
      "  label 18: 200\n",
      "  label 19: 200\n",
      "  label 20: 200\n",
      "  label 21: 200\n",
      "  label 22: 200\n",
      "  label 23: 200\n",
      "  label 24: 200\n",
      "  label 25: 200\n",
      "  label 26: 200\n",
      "  label 27: 200\n",
      "  label 28: 200\n",
      "  label 29: 200\n",
      "  label 30: 200\n",
      "  label 31: 200\n",
      "  label 32: 200\n",
      "  label 33: 200\n",
      "  label 34: 200\n",
      "  label 35: 200\n",
      "  label 36: 200\n",
      "  label 37: 200\n",
      "  label 38: 200\n",
      "  label 39: 200\n",
      "  label 40: 200\n",
      "  label 41: 200\n",
      "  label 42: 200\n",
      "  label 43: 200\n",
      "  label 44: 200\n",
      "  label 45: 200\n",
      "  label 46: 200\n",
      "  label 47: 529\n",
      "  label 48: 202\n",
      "  label 49: 200\n",
      "model is microsoft/deberta-base bilstm\n",
      "Epoch 1/20\n"
     ]
    },
    {
     "name": "stderr",
     "output_type": "stream",
     "text": [
      "100%|██████████| 761/761 [01:30<00:00,  8.42it/s]\n"
     ]
    },
    {
     "name": "stdout",
     "output_type": "stream",
     "text": [
      "{'val_loss': 2.967734015212869, 'val_accuracy': 0.46982248520710057, 'precision': 0.22073316760617626, 'recall': 0.46982248520710057, 'f1-score': 0.3003535050357793, 'macro_f1-score': 0.012785829307568436, 'balanced_accuracy': 0.02, 'mcc': 0.0, 'train_loss': 3.707782046397005}\n",
      "Epoch 2/20\n"
     ]
    },
    {
     "name": "stderr",
     "output_type": "stream",
     "text": [
      "100%|██████████| 761/761 [01:29<00:00,  8.50it/s]\n"
     ]
    },
    {
     "name": "stdout",
     "output_type": "stream",
     "text": [
      "{'val_loss': 2.8869498113416276, 'val_accuracy': 0.46982248520710057, 'precision': 0.22073316760617626, 'recall': 0.46982248520710057, 'f1-score': 0.3003535050357793, 'macro_f1-score': 0.012785829307568436, 'balanced_accuracy': 0.02, 'mcc': 0.0, 'train_loss': 3.6938308491500074}\n",
      "Epoch 3/20\n"
     ]
    },
    {
     "name": "stderr",
     "output_type": "stream",
     "text": [
      "100%|██████████| 761/761 [01:29<00:00,  8.51it/s]\n"
     ]
    },
    {
     "name": "stdout",
     "output_type": "stream",
     "text": [
      "{'val_loss': 2.8517092342646615, 'val_accuracy': 0.46982248520710057, 'precision': 0.22073316760617626, 'recall': 0.46982248520710057, 'f1-score': 0.3003535050357793, 'macro_f1-score': 0.012785829307568436, 'balanced_accuracy': 0.02, 'mcc': 0.0, 'train_loss': 3.6826469453342954}\n",
      "Epoch 4/20\n"
     ]
    },
    {
     "name": "stderr",
     "output_type": "stream",
     "text": [
      "100%|██████████| 761/761 [01:29<00:00,  8.47it/s]\n"
     ]
    },
    {
     "name": "stdout",
     "output_type": "stream",
     "text": [
      "{'val_loss': 3.052157566232501, 'val_accuracy': 0.46982248520710057, 'precision': 0.22073316760617626, 'recall': 0.46982248520710057, 'f1-score': 0.3003535050357793, 'macro_f1-score': 0.012785829307568436, 'balanced_accuracy': 0.02, 'mcc': 0.0, 'train_loss': 3.547704702921202}\n",
      "Early stopping.\n",
      "\n",
      " === microsoft/deberta-base + bilstm + ros Final 10-fold Cross-Validation Results ===\n",
      "Total time: 5714 seconds\n",
      "Total time: 1 hrs 35 mins 14 secs\n",
      "val_loss: 2.2569\n",
      "val_accuracy: 0.5378\n",
      "precision: 0.4717\n",
      "recall: 0.5378\n",
      "f1-score: 0.4839\n",
      "macro_f1-score: 0.1796\n",
      "balanced_accuracy: 0.2025\n",
      "mcc: 0.3312\n",
      "train_loss: 1.8591\n"
     ]
    }
   ],
   "source": [
    "model_list = [\"bert-base-uncased\",\"roberta-base\",\"microsoft/deberta-base\"]\n",
    "hybrid_list = [\"lstm\",\"cnn\",\"bilstm\"]\n",
    "resample_list = [\"ros\"]\n",
    "\n",
    "all_experiment_result = {}\n",
    "\n",
    "for model_name in model_list:\n",
    "    for hybrid_type in hybrid_list:\n",
    "        for resample_method in resample_list:\n",
    "            results = run_kfold_experiment(\n",
    "                X=messages, y=labels, model_name=model_name, hybrid_type=hybrid_type, resample_method=resample_method,\n",
    "                kfold=KFOLD_SPLIT, seed=SEED, epochs=EPOCHS, patience=PATIENCE, max_length=MAX_LENGTH, \n",
    "                batch_size=BATCH_SIZE, lr=LR, weight_decay=WEIGHT_DECAY\n",
    "            )\n",
    "            key = f\"{model_name} {hybrid_type if hybrid_type else 'None'} {resample_method}\"\n",
    "            all_experiment_result[key] = results"
   ]
  },
  {
   "cell_type": "code",
   "execution_count": null,
   "id": "ec792735-5337-4675-a201-30ec3a0415ca",
   "metadata": {},
   "outputs": [
    {
     "data": {
      "text/plain": [
       "[{'val_loss': 2.261115422788656,\n",
       "  'val_accuracy': 0.49645390070921985,\n",
       "  'precision': 0.41896579120527055,\n",
       "  'recall': 0.49645390070921985,\n",
       "  'f1-score': 0.44238528361883755,\n",
       "  'macro_f1-score': 0.05785507040522239,\n",
       "  'balanced_accuracy': 0.09802192674930751,\n",
       "  'mcc': 0.3167047963061038,\n",
       "  'train_loss': 2.7967017672559784},\n",
       " {'val_loss': 2.1568681159109437,\n",
       "  'val_accuracy': 0.5023640661938534,\n",
       "  'precision': 0.4336742991644342,\n",
       "  'recall': 0.5023640661938534,\n",
       "  'f1-score': 0.4564577566917796,\n",
       "  'macro_f1-score': 0.07459803110262138,\n",
       "  'balanced_accuracy': 0.11099391593985253,\n",
       "  'mcc': 0.33112116743349945,\n",
       "  'train_loss': 2.5998853363106376},\n",
       " {'val_loss': 1.6890919332234364,\n",
       "  'val_accuracy': 0.6028368794326241,\n",
       "  'precision': 0.6323139629526746,\n",
       "  'recall': 0.6028368794326241,\n",
       "  'f1-score': 0.6051753185595788,\n",
       "  'macro_f1-score': 0.3263400501675815,\n",
       "  'balanced_accuracy': 0.3621146308417319,\n",
       "  'mcc': 0.49477989276357737,\n",
       "  'train_loss': 0.7474348061511489},\n",
       " {'val_loss': 1.8209654002819422,\n",
       "  'val_accuracy': 0.5531914893617021,\n",
       "  'precision': 0.5584454196251772,\n",
       "  'recall': 0.5531914893617021,\n",
       "  'f1-score': 0.5486097795454151,\n",
       "  'macro_f1-score': 0.28014245224495,\n",
       "  'balanced_accuracy': 0.3189467465186578,\n",
       "  'mcc': 0.4285266434619085,\n",
       "  'train_loss': 1.134027204431603},\n",
       " {'val_loss': 1.727713943652387,\n",
       "  'val_accuracy': 0.6082840236686391,\n",
       "  'precision': 0.6153953696709343,\n",
       "  'recall': 0.6082840236686391,\n",
       "  'f1-score': 0.6015026294375109,\n",
       "  'macro_f1-score': 0.32763251576794333,\n",
       "  'balanced_accuracy': 0.3594681546514519,\n",
       "  'mcc': 0.503106042397281,\n",
       "  'train_loss': 0.5871046796566705},\n",
       " {'val_loss': 1.770251529396705,\n",
       "  'val_accuracy': 0.5644970414201184,\n",
       "  'precision': 0.6057072785985745,\n",
       "  'recall': 0.5644970414201184,\n",
       "  'f1-score': 0.5700177323984376,\n",
       "  'macro_f1-score': 0.30161246080381665,\n",
       "  'balanced_accuracy': 0.3386222481625047,\n",
       "  'mcc': 0.4579196771768643,\n",
       "  'train_loss': 0.6956350006810577},\n",
       " {'val_loss': 2.061440851328508,\n",
       "  'val_accuracy': 0.493491124260355,\n",
       "  'precision': 0.4723555170085918,\n",
       "  'recall': 0.493491124260355,\n",
       "  'f1-score': 0.4698019039372376,\n",
       "  'macro_f1-score': 0.10626371926500905,\n",
       "  'balanced_accuracy': 0.18322211421827717,\n",
       "  'mcc': 0.35100767034346064,\n",
       "  'train_loss': 2.3100633703162545},\n",
       " {'val_loss': 1.9004233895607714,\n",
       "  'val_accuracy': 0.5644970414201184,\n",
       "  'precision': 0.5967117323828096,\n",
       "  'recall': 0.5644970414201184,\n",
       "  'f1-score': 0.564275671596027,\n",
       "  'macro_f1-score': 0.29405012599008606,\n",
       "  'balanced_accuracy': 0.31525022329689867,\n",
       "  'mcc': 0.4513670503478317,\n",
       "  'train_loss': 0.8204562938572831},\n",
       " {'val_loss': 3.005597024593713,\n",
       "  'val_accuracy': 0.46982248520710057,\n",
       "  'precision': 0.22073316760617626,\n",
       "  'recall': 0.46982248520710057,\n",
       "  'f1-score': 0.3003535050357793,\n",
       "  'macro_f1-score': 0.01304676459955963,\n",
       "  'balanced_accuracy': 0.02040816326530612,\n",
       "  'mcc': 0.0,\n",
       "  'train_loss': 3.7102315834060255},\n",
       " {'val_loss': 1.9944296692902188,\n",
       "  'val_accuracy': 0.5964497041420118,\n",
       "  'precision': 0.645037657243152,\n",
       "  'recall': 0.5964497041420118,\n",
       "  'f1-score': 0.6051610470209126,\n",
       "  'macro_f1-score': 0.3560885039788761,\n",
       "  'balanced_accuracy': 0.39389654400402674,\n",
       "  'mcc': 0.4930213315560392,\n",
       "  'train_loss': 0.46104344591768953}]"
      ]
     },
     "execution_count": 5,
     "metadata": {},
     "output_type": "execute_result"
    }
   ],
   "source": [
    "all_experiment_result"
   ]
  },
  {
   "cell_type": "code",
   "execution_count": null,
   "id": "3c633d6f-3117-4e62-a92c-c50fb863c194",
   "metadata": {},
   "outputs": [],
   "source": []
  },
  {
   "cell_type": "code",
   "execution_count": null,
   "id": "a979ee3d-a4b6-4ea5-8247-fe041653243b",
   "metadata": {},
   "outputs": [],
   "source": []
  }
 ],
 "metadata": {
  "kernelspec": {
   "display_name": "Python 3",
   "language": "python",
   "name": "python3"
  },
  "language_info": {
   "codemirror_mode": {
    "name": "ipython",
    "version": 3
   },
   "file_extension": ".py",
   "mimetype": "text/x-python",
   "name": "python",
   "nbconvert_exporter": "python",
   "pygments_lexer": "ipython3",
   "version": "3.10.0"
  }
 },
 "nbformat": 4,
 "nbformat_minor": 5
}
