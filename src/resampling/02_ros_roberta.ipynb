{
 "cells": [
  {
   "cell_type": "code",
   "execution_count": 1,
   "id": "c6902def-8805-4483-a546-4ab48a7b8953",
   "metadata": {},
   "outputs": [
    {
     "data": {
      "text/html": [
       "<div>\n",
       "<style scoped>\n",
       "    .dataframe tbody tr th:only-of-type {\n",
       "        vertical-align: middle;\n",
       "    }\n",
       "\n",
       "    .dataframe tbody tr th {\n",
       "        vertical-align: top;\n",
       "    }\n",
       "\n",
       "    .dataframe thead th {\n",
       "        text-align: right;\n",
       "    }\n",
       "</style>\n",
       "<table border=\"1\" class=\"dataframe\">\n",
       "  <thead>\n",
       "    <tr style=\"text-align: right;\">\n",
       "      <th></th>\n",
       "      <th>Inbound Message</th>\n",
       "      <th>Label</th>\n",
       "    </tr>\n",
       "  </thead>\n",
       "  <tbody>\n",
       "    <tr>\n",
       "      <th>0</th>\n",
       "      <td>login issue verified user details employee man...</td>\n",
       "      <td>0</td>\n",
       "    </tr>\n",
       "    <tr>\n",
       "      <th>1</th>\n",
       "      <td>outlook hello team meetings skype meetings etc...</td>\n",
       "      <td>0</td>\n",
       "    </tr>\n",
       "    <tr>\n",
       "      <th>2</th>\n",
       "      <td>cant log vpn cannot log vpn best</td>\n",
       "      <td>0</td>\n",
       "    </tr>\n",
       "    <tr>\n",
       "      <th>3</th>\n",
       "      <td>unable access tool page unable access tool page</td>\n",
       "      <td>0</td>\n",
       "    </tr>\n",
       "    <tr>\n",
       "      <th>4</th>\n",
       "      <td>skype error skype error</td>\n",
       "      <td>0</td>\n",
       "    </tr>\n",
       "    <tr>\n",
       "      <th>...</th>\n",
       "      <td>...</td>\n",
       "      <td>...</td>\n",
       "    </tr>\n",
       "    <tr>\n",
       "      <th>8449</th>\n",
       "      <td>emails coming mail good afternoon receiving em...</td>\n",
       "      <td>22</td>\n",
       "    </tr>\n",
       "    <tr>\n",
       "      <th>8450</th>\n",
       "      <td>telephony software issue telephony software issue</td>\n",
       "      <td>0</td>\n",
       "    </tr>\n",
       "    <tr>\n",
       "      <th>8451</th>\n",
       "      <td>vip windows password reset tifpdchb pedxruyf v...</td>\n",
       "      <td>0</td>\n",
       "    </tr>\n",
       "    <tr>\n",
       "      <th>8452</th>\n",
       "      <td>machine est funcionando unable access machine ...</td>\n",
       "      <td>44</td>\n",
       "    </tr>\n",
       "    <tr>\n",
       "      <th>8453</th>\n",
       "      <td>mehreren lassen sich verschiedene prgramdntyme...</td>\n",
       "      <td>49</td>\n",
       "    </tr>\n",
       "  </tbody>\n",
       "</table>\n",
       "<p>8454 rows × 2 columns</p>\n",
       "</div>"
      ],
      "text/plain": [
       "                                        Inbound Message  Label\n",
       "0     login issue verified user details employee man...      0\n",
       "1     outlook hello team meetings skype meetings etc...      0\n",
       "2                      cant log vpn cannot log vpn best      0\n",
       "3       unable access tool page unable access tool page      0\n",
       "4                               skype error skype error      0\n",
       "...                                                 ...    ...\n",
       "8449  emails coming mail good afternoon receiving em...     22\n",
       "8450  telephony software issue telephony software issue      0\n",
       "8451  vip windows password reset tifpdchb pedxruyf v...      0\n",
       "8452  machine est funcionando unable access machine ...     44\n",
       "8453  mehreren lassen sich verschiedene prgramdntyme...     49\n",
       "\n",
       "[8454 rows x 2 columns]"
      ]
     },
     "execution_count": 1,
     "metadata": {},
     "output_type": "execute_result"
    }
   ],
   "source": [
    "import pandas as pd\n",
    "data_path = \"../../data/open_source_8454_combine_short_description.csv\"\n",
    "df = pd.read_csv(data_path)\n",
    "# df_label_0 = df[df[\"Label\"] == 0]\n",
    "# df_label_0_to_drop = df_label_0.sample(n=3000, random_state=42)\n",
    "# df = df.drop(df_label_0_to_drop.index)\n",
    "df"
   ]
  },
  {
   "cell_type": "code",
   "execution_count": 2,
   "id": "8a523c41-9917-42ad-9920-021c2d567bf2",
   "metadata": {},
   "outputs": [],
   "source": [
    "import sys\n",
    "import os\n",
    "sys.path.append(os.path.abspath('../ml_lib'))\n",
    "\n",
    "from config import *\n",
    "from experiment import run_kfold_experiment"
   ]
  },
  {
   "cell_type": "code",
   "execution_count": 3,
   "id": "0042fdaa-0d1e-4925-a831-51d69b623c54",
   "metadata": {},
   "outputs": [],
   "source": [
    "messages, labels = df['Inbound Message'].tolist(), df['Label'].tolist()"
   ]
  },
  {
   "cell_type": "code",
   "execution_count": 4,
   "id": "f9a1f7b1-5c13-4312-959c-24cae1a028e8",
   "metadata": {},
   "outputs": [
    {
     "name": "stdout",
     "output_type": "stream",
     "text": [
      "▶ Running: roberta-base + plain + ros\n",
      "tokenizer is roberta-base\n",
      "Using device: cuda\n",
      "CUDA Available: True\n",
      "CUDA Device: NVIDIA GeForce RTX 3050 6GB Laptop GPU\n",
      "Current GPU Memory Allocated: 0.00 GB\n",
      "Current GPU Memory Cached: 0.00 GB\n",
      "\n",
      "[Fold 1]\n",
      "Label distribution after resampling:\n",
      "  label 0: 2000\n",
      "  label 1: 200\n",
      "  label 2: 200\n",
      "  label 3: 200\n",
      "  label 4: 231\n",
      "  label 5: 200\n",
      "  label 6: 200\n",
      "  label 7: 200\n",
      "  label 8: 200\n",
      "  label 9: 200\n",
      "  label 10: 200\n",
      "  label 11: 200\n",
      "  label 12: 217\n",
      "  label 13: 200\n",
      "  label 14: 200\n",
      "  label 15: 200\n",
      "  label 16: 200\n",
      "  label 17: 260\n",
      "  label 18: 200\n",
      "  label 19: 200\n",
      "  label 20: 200\n",
      "  label 21: 200\n",
      "  label 22: 200\n",
      "  label 23: 200\n",
      "  label 24: 200\n",
      "  label 25: 200\n",
      "  label 26: 200\n",
      "  label 27: 200\n",
      "  label 28: 200\n",
      "  label 29: 200\n",
      "  label 30: 200\n",
      "  label 31: 200\n",
      "  label 32: 200\n",
      "  label 33: 200\n",
      "  label 34: 200\n",
      "  label 35: 200\n",
      "  label 36: 200\n",
      "  label 37: 200\n",
      "  label 38: 200\n",
      "  label 39: 200\n",
      "  label 40: 200\n",
      "  label 41: 200\n",
      "  label 42: 200\n",
      "  label 43: 200\n",
      "  label 44: 200\n",
      "  label 45: 200\n",
      "  label 46: 200\n",
      "  label 47: 595\n",
      "  label 48: 227\n",
      "  label 49: 200\n",
      "model is roberta-base\n"
     ]
    },
    {
     "name": "stderr",
     "output_type": "stream",
     "text": [
      "D:\\Anaconda3\\envs\\cuda\\Lib\\site-packages\\sklearn\\model_selection\\_split.py:737: UserWarning: The least populated class in y has only 7 members, which is less than n_splits=10.\n",
      "  warnings.warn(\n",
      "Some weights of RobertaForSequenceClassification were not initialized from the model checkpoint at roberta-base and are newly initialized: ['classifier.dense.bias', 'classifier.dense.weight', 'classifier.out_proj.bias', 'classifier.out_proj.weight']\n",
      "You should probably TRAIN this model on a down-stream task to be able to use it for predictions and inference.\n"
     ]
    },
    {
     "name": "stdout",
     "output_type": "stream",
     "text": [
      "Epoch 1/20\n"
     ]
    },
    {
     "name": "stderr",
     "output_type": "stream",
     "text": [
      "100%|██████████| 771/771 [05:30<00:00,  2.33it/s]\n",
      "D:\\Anaconda3\\envs\\cuda\\Lib\\site-packages\\sklearn\\metrics\\_classification.py:2458: UserWarning: y_pred contains classes not in y_true\n",
      "  warnings.warn(\"y_pred contains classes not in y_true\")\n"
     ]
    },
    {
     "name": "stdout",
     "output_type": "stream",
     "text": [
      "{'val_loss': 1.6053442077816658, 'val_accuracy': 0.5425531914893617, 'precision': 0.6161120230196729, 'recall': 0.5425531914893617, 'f1-score': 0.5543384977622753, 'macro_f1-score': 0.27973062716739494, 'balanced_accuracy': 0.3757794256716737, 'mcc': 0.4241379147280329, 'train_loss': 2.3763012151619187}\n",
      "Epoch 2/20\n"
     ]
    },
    {
     "name": "stderr",
     "output_type": "stream",
     "text": [
      "100%|██████████| 771/771 [05:30<00:00,  2.33it/s]\n"
     ]
    },
    {
     "name": "stdout",
     "output_type": "stream",
     "text": [
      "{'val_loss': 1.447192998989573, 'val_accuracy': 0.6217494089834515, 'precision': 0.6490505958247896, 'recall': 0.6217494089834515, 'f1-score': 0.6151655041189174, 'macro_f1-score': 0.39193019184014805, 'balanced_accuracy': 0.46012775311459087, 'mcc': 0.5154739991217699, 'train_loss': 1.033191741595163}\n",
      "Epoch 3/20\n"
     ]
    },
    {
     "name": "stderr",
     "output_type": "stream",
     "text": [
      "100%|██████████| 771/771 [05:31<00:00,  2.33it/s]\n",
      "D:\\Anaconda3\\envs\\cuda\\Lib\\site-packages\\sklearn\\metrics\\_classification.py:2458: UserWarning: y_pred contains classes not in y_true\n",
      "  warnings.warn(\"y_pred contains classes not in y_true\")\n"
     ]
    },
    {
     "name": "stdout",
     "output_type": "stream",
     "text": [
      "{'val_loss': 1.5030528756807435, 'val_accuracy': 0.6170212765957447, 'precision': 0.6400396711478374, 'recall': 0.6170212765957447, 'f1-score': 0.615038829493711, 'macro_f1-score': 0.3665978755394314, 'balanced_accuracy': 0.40714088429908907, 'mcc': 0.5113210861072802, 'train_loss': 0.6290774467110093}\n",
      "Epoch 4/20\n"
     ]
    },
    {
     "name": "stderr",
     "output_type": "stream",
     "text": [
      "100%|██████████| 771/771 [05:31<00:00,  2.32it/s]\n"
     ]
    },
    {
     "name": "stdout",
     "output_type": "stream",
     "text": [
      "{'val_loss': 1.5851517465879332, 'val_accuracy': 0.6300236406619385, 'precision': 0.6847648057918367, 'recall': 0.6300236406619385, 'f1-score': 0.6300694834399382, 'macro_f1-score': 0.38697668556146025, 'balanced_accuracy': 0.4289006465047649, 'mcc': 0.5191003160495514, 'train_loss': 0.471670943823306}\n",
      "Epoch 5/20\n"
     ]
    },
    {
     "name": "stderr",
     "output_type": "stream",
     "text": [
      "100%|██████████| 771/771 [05:31<00:00,  2.32it/s]\n"
     ]
    },
    {
     "name": "stdout",
     "output_type": "stream",
     "text": [
      "{'val_loss': 1.5881846400926698, 'val_accuracy': 0.6288416075650118, 'precision': 0.6638078112742776, 'recall': 0.6288416075650118, 'f1-score': 0.6337649752985388, 'macro_f1-score': 0.3949961638453269, 'balanced_accuracy': 0.43982270051451283, 'mcc': 0.5252556069983166, 'train_loss': 0.3948119678299019}\n",
      "Epoch 6/20\n"
     ]
    },
    {
     "name": "stderr",
     "output_type": "stream",
     "text": [
      "100%|██████████| 771/771 [05:31<00:00,  2.32it/s]\n"
     ]
    },
    {
     "name": "stdout",
     "output_type": "stream",
     "text": [
      "{'val_loss': 1.618226392089196, 'val_accuracy': 0.6513002364066194, 'precision': 0.6683655008695187, 'recall': 0.6513002364066194, 'f1-score': 0.6459772363812767, 'macro_f1-score': 0.4067202737377287, 'balanced_accuracy': 0.43348675261177594, 'mcc': 0.5441714596420232, 'train_loss': 0.3450568572819793}\n",
      "Epoch 7/20\n"
     ]
    },
    {
     "name": "stderr",
     "output_type": "stream",
     "text": [
      "100%|██████████| 771/771 [05:31<00:00,  2.32it/s]\n"
     ]
    },
    {
     "name": "stdout",
     "output_type": "stream",
     "text": [
      "{'val_loss': 1.6175148048490848, 'val_accuracy': 0.6678486997635934, 'precision': 0.6809288634291928, 'recall': 0.6678486997635934, 'f1-score': 0.648706249667763, 'macro_f1-score': 0.40212862368392954, 'balanced_accuracy': 0.4114177245345755, 'mcc': 0.5529918598911211, 'train_loss': 0.315582465774219}\n",
      "Epoch 8/20\n"
     ]
    },
    {
     "name": "stderr",
     "output_type": "stream",
     "text": [
      "100%|██████████| 771/771 [05:31<00:00,  2.32it/s]\n"
     ]
    },
    {
     "name": "stdout",
     "output_type": "stream",
     "text": [
      "{'val_loss': 1.778255693192752, 'val_accuracy': 0.6442080378250591, 'precision': 0.6579699660413217, 'recall': 0.6442080378250591, 'f1-score': 0.6386568596156297, 'macro_f1-score': 0.40556792462837465, 'balanced_accuracy': 0.43347206859115456, 'mcc': 0.5347522994088367, 'train_loss': 0.2950799273660385}\n",
      "Epoch 9/20\n"
     ]
    },
    {
     "name": "stderr",
     "output_type": "stream",
     "text": [
      "100%|██████████| 771/771 [05:31<00:00,  2.32it/s]\n"
     ]
    },
    {
     "name": "stdout",
     "output_type": "stream",
     "text": [
      "{'val_loss': 1.937460257197326, 'val_accuracy': 0.6276595744680851, 'precision': 0.698549963470665, 'recall': 0.6276595744680851, 'f1-score': 0.6386035785948629, 'macro_f1-score': 0.3929360601682814, 'balanced_accuracy': 0.4520455374533471, 'mcc': 0.5440824591436884, 'train_loss': 0.26886979794013766}\n",
      "Early stopping.\n",
      "\n",
      "[Fold 2]\n",
      "Label distribution after resampling:\n",
      "  label 0: 2000\n",
      "  label 1: 200\n",
      "  label 2: 200\n",
      "  label 3: 200\n",
      "  label 4: 231\n",
      "  label 5: 200\n",
      "  label 6: 200\n",
      "  label 7: 200\n",
      "  label 8: 200\n",
      "  label 9: 200\n",
      "  label 10: 200\n",
      "  label 11: 200\n",
      "  label 12: 217\n",
      "  label 13: 200\n",
      "  label 14: 200\n",
      "  label 15: 200\n",
      "  label 16: 200\n",
      "  label 17: 260\n",
      "  label 18: 200\n",
      "  label 19: 200\n",
      "  label 20: 200\n",
      "  label 21: 200\n",
      "  label 22: 200\n",
      "  label 23: 200\n",
      "  label 24: 200\n",
      "  label 25: 200\n",
      "  label 26: 200\n",
      "  label 27: 200\n",
      "  label 28: 200\n",
      "  label 29: 200\n",
      "  label 30: 200\n",
      "  label 31: 200\n",
      "  label 32: 200\n",
      "  label 33: 200\n",
      "  label 34: 200\n",
      "  label 35: 200\n",
      "  label 36: 200\n",
      "  label 37: 200\n",
      "  label 38: 200\n",
      "  label 39: 200\n",
      "  label 40: 200\n",
      "  label 41: 200\n",
      "  label 42: 200\n",
      "  label 43: 200\n",
      "  label 44: 200\n",
      "  label 45: 200\n",
      "  label 46: 200\n",
      "  label 47: 595\n",
      "  label 48: 227\n",
      "  label 49: 200\n",
      "model is roberta-base\n"
     ]
    },
    {
     "name": "stderr",
     "output_type": "stream",
     "text": [
      "Some weights of RobertaForSequenceClassification were not initialized from the model checkpoint at roberta-base and are newly initialized: ['classifier.dense.bias', 'classifier.dense.weight', 'classifier.out_proj.bias', 'classifier.out_proj.weight']\n",
      "You should probably TRAIN this model on a down-stream task to be able to use it for predictions and inference.\n"
     ]
    },
    {
     "name": "stdout",
     "output_type": "stream",
     "text": [
      "Epoch 1/20\n"
     ]
    },
    {
     "name": "stderr",
     "output_type": "stream",
     "text": [
      "100%|██████████| 771/771 [05:32<00:00,  2.32it/s]\n"
     ]
    },
    {
     "name": "stdout",
     "output_type": "stream",
     "text": [
      "{'val_loss': 1.5891329061310246, 'val_accuracy': 0.5591016548463357, 'precision': 0.6730438008335399, 'recall': 0.5591016548463357, 'f1-score': 0.5812795412380807, 'macro_f1-score': 0.32317799862054, 'balanced_accuracy': 0.40009493671002944, 'mcc': 0.45515139805888083, 'train_loss': 2.162147362485779}\n",
      "Epoch 2/20\n"
     ]
    },
    {
     "name": "stderr",
     "output_type": "stream",
     "text": [
      "100%|██████████| 771/771 [05:32<00:00,  2.32it/s]\n"
     ]
    },
    {
     "name": "stdout",
     "output_type": "stream",
     "text": [
      "{'val_loss': 1.3816893123230845, 'val_accuracy': 0.5957446808510638, 'precision': 0.6412354728600073, 'recall': 0.5957446808510638, 'f1-score': 0.5980061213235023, 'macro_f1-score': 0.3541228268721152, 'balanced_accuracy': 0.41204849559458806, 'mcc': 0.4913766266715108, 'train_loss': 0.9436784175003549}\n",
      "Epoch 3/20\n"
     ]
    },
    {
     "name": "stderr",
     "output_type": "stream",
     "text": [
      "100%|██████████| 771/771 [05:31<00:00,  2.32it/s]\n"
     ]
    },
    {
     "name": "stdout",
     "output_type": "stream",
     "text": [
      "{'val_loss': 1.5391641731532115, 'val_accuracy': 0.5886524822695035, 'precision': 0.6787709474287036, 'recall': 0.5886524822695035, 'f1-score': 0.6132386668314741, 'macro_f1-score': 0.37351543496400064, 'balanced_accuracy': 0.43480484136476166, 'mcc': 0.49487381510447687, 'train_loss': 0.5969356658123192}\n",
      "Epoch 4/20\n"
     ]
    },
    {
     "name": "stderr",
     "output_type": "stream",
     "text": [
      "100%|██████████| 771/771 [05:31<00:00,  2.32it/s]\n"
     ]
    },
    {
     "name": "stdout",
     "output_type": "stream",
     "text": [
      "{'val_loss': 1.5652168280673477, 'val_accuracy': 0.6134751773049646, 'precision': 0.6628100026465308, 'recall': 0.6134751773049646, 'f1-score': 0.6154223205626161, 'macro_f1-score': 0.3652989595643659, 'balanced_accuracy': 0.4438768619643511, 'mcc': 0.5183806357879993, 'train_loss': 0.45471311023823635}\n",
      "Epoch 5/20\n"
     ]
    },
    {
     "name": "stderr",
     "output_type": "stream",
     "text": [
      "100%|██████████| 771/771 [05:32<00:00,  2.32it/s]\n"
     ]
    },
    {
     "name": "stdout",
     "output_type": "stream",
     "text": [
      "{'val_loss': 1.535117652056352, 'val_accuracy': 0.6513002364066194, 'precision': 0.648552797283805, 'recall': 0.6513002364066194, 'f1-score': 0.6386524850237124, 'macro_f1-score': 0.374870595823406, 'balanced_accuracy': 0.4058709464643445, 'mcc': 0.5449836595411597, 'train_loss': 0.3787561870009751}\n",
      "Epoch 6/20\n"
     ]
    },
    {
     "name": "stderr",
     "output_type": "stream",
     "text": [
      "100%|██████████| 771/771 [05:32<00:00,  2.32it/s]\n"
     ]
    },
    {
     "name": "stdout",
     "output_type": "stream",
     "text": [
      "{'val_loss': 1.5848885043612067, 'val_accuracy': 0.648936170212766, 'precision': 0.6575651836054567, 'recall': 0.648936170212766, 'f1-score': 0.6392045444246248, 'macro_f1-score': 0.3754096763096524, 'balanced_accuracy': 0.41250574969226844, 'mcc': 0.5478826323680247, 'train_loss': 0.3321530882102448}\n",
      "Epoch 7/20\n"
     ]
    },
    {
     "name": "stderr",
     "output_type": "stream",
     "text": [
      "100%|██████████| 771/771 [05:31<00:00,  2.32it/s]\n"
     ]
    },
    {
     "name": "stdout",
     "output_type": "stream",
     "text": [
      "{'val_loss': 1.8798820814996395, 'val_accuracy': 0.6028368794326241, 'precision': 0.6788312460173312, 'recall': 0.6028368794326241, 'f1-score': 0.6226284745543013, 'macro_f1-score': 0.3849744772551154, 'balanced_accuracy': 0.41504279434152935, 'mcc': 0.5079976932684593, 'train_loss': 0.3186288778688251}\n",
      "Epoch 8/20\n"
     ]
    },
    {
     "name": "stderr",
     "output_type": "stream",
     "text": [
      "100%|██████████| 771/771 [05:32<00:00,  2.32it/s]\n"
     ]
    },
    {
     "name": "stdout",
     "output_type": "stream",
     "text": [
      "{'val_loss': 2.080164132253179, 'val_accuracy': 0.5709219858156028, 'precision': 0.6651316040082478, 'recall': 0.5709219858156028, 'f1-score': 0.592495573210218, 'macro_f1-score': 0.36065754879921913, 'balanced_accuracy': 0.42875058407966044, 'mcc': 0.49176869255044475, 'train_loss': 0.2787715137160677}\n",
      "Epoch 9/20\n"
     ]
    },
    {
     "name": "stderr",
     "output_type": "stream",
     "text": [
      "100%|██████████| 771/771 [05:31<00:00,  2.32it/s]\n"
     ]
    },
    {
     "name": "stdout",
     "output_type": "stream",
     "text": [
      "{'val_loss': 1.6590178254640326, 'val_accuracy': 0.6595744680851063, 'precision': 0.6748798333235775, 'recall': 0.6595744680851063, 'f1-score': 0.6557971455595841, 'macro_f1-score': 0.4193969977193798, 'balanced_accuracy': 0.4274389592444175, 'mcc': 0.5544608702234741, 'train_loss': 0.272748998515477}\n",
      "Epoch 10/20\n"
     ]
    },
    {
     "name": "stderr",
     "output_type": "stream",
     "text": [
      "100%|██████████| 771/771 [05:31<00:00,  2.32it/s]\n"
     ]
    },
    {
     "name": "stdout",
     "output_type": "stream",
     "text": [
      "{'val_loss': 1.8755246670740955, 'val_accuracy': 0.607565011820331, 'precision': 0.6700925377272049, 'recall': 0.607565011820331, 'f1-score': 0.6173517465421239, 'macro_f1-score': 0.37704717759881085, 'balanced_accuracy': 0.428481489745742, 'mcc': 0.5125175342080699, 'train_loss': 0.2664718083607277}\n",
      "Epoch 11/20\n"
     ]
    },
    {
     "name": "stderr",
     "output_type": "stream",
     "text": [
      "100%|██████████| 771/771 [05:31<00:00,  2.32it/s]\n"
     ]
    },
    {
     "name": "stdout",
     "output_type": "stream",
     "text": [
      "{'val_loss': 2.1240458465972036, 'val_accuracy': 0.5721040189125296, 'precision': 0.6782396817637804, 'recall': 0.5721040189125296, 'f1-score': 0.5974386734191564, 'macro_f1-score': 0.3793354292013246, 'balanced_accuracy': 0.4182761789991906, 'mcc': 0.48524167354232, 'train_loss': 0.24210942865454443}\n",
      "Epoch 12/20\n"
     ]
    },
    {
     "name": "stderr",
     "output_type": "stream",
     "text": [
      "100%|██████████| 771/771 [05:31<00:00,  2.32it/s]\n"
     ]
    },
    {
     "name": "stdout",
     "output_type": "stream",
     "text": [
      "{'val_loss': 1.9705090545258432, 'val_accuracy': 0.607565011820331, 'precision': 0.6712918945528713, 'recall': 0.607565011820331, 'f1-score': 0.6242872031336283, 'macro_f1-score': 0.3570290001020666, 'balanced_accuracy': 0.4188727651370174, 'mcc': 0.5103293521132896, 'train_loss': 0.246909380849359}\n",
      "Early stopping.\n",
      "\n",
      "[Fold 3]\n",
      "Label distribution after resampling:\n",
      "  label 0: 2000\n",
      "  label 1: 200\n",
      "  label 2: 200\n",
      "  label 3: 200\n",
      "  label 4: 231\n",
      "  label 5: 200\n",
      "  label 6: 200\n",
      "  label 7: 200\n",
      "  label 8: 200\n",
      "  label 9: 200\n",
      "  label 10: 200\n",
      "  label 11: 200\n",
      "  label 12: 217\n",
      "  label 13: 200\n",
      "  label 14: 200\n",
      "  label 15: 200\n",
      "  label 16: 200\n",
      "  label 17: 260\n",
      "  label 18: 200\n",
      "  label 19: 200\n",
      "  label 20: 200\n",
      "  label 21: 200\n",
      "  label 22: 200\n",
      "  label 23: 200\n",
      "  label 24: 200\n",
      "  label 25: 200\n",
      "  label 26: 200\n",
      "  label 27: 200\n",
      "  label 28: 200\n",
      "  label 29: 200\n",
      "  label 30: 200\n",
      "  label 31: 200\n",
      "  label 32: 200\n",
      "  label 33: 200\n",
      "  label 34: 200\n",
      "  label 35: 200\n",
      "  label 36: 200\n",
      "  label 37: 200\n",
      "  label 38: 200\n",
      "  label 39: 200\n",
      "  label 40: 200\n",
      "  label 41: 200\n",
      "  label 42: 200\n",
      "  label 43: 200\n",
      "  label 44: 200\n",
      "  label 45: 200\n",
      "  label 46: 200\n",
      "  label 47: 595\n",
      "  label 48: 227\n",
      "  label 49: 200\n",
      "model is roberta-base\n"
     ]
    },
    {
     "name": "stderr",
     "output_type": "stream",
     "text": [
      "Some weights of RobertaForSequenceClassification were not initialized from the model checkpoint at roberta-base and are newly initialized: ['classifier.dense.bias', 'classifier.dense.weight', 'classifier.out_proj.bias', 'classifier.out_proj.weight']\n",
      "You should probably TRAIN this model on a down-stream task to be able to use it for predictions and inference.\n"
     ]
    },
    {
     "name": "stdout",
     "output_type": "stream",
     "text": [
      "Epoch 1/20\n"
     ]
    },
    {
     "name": "stderr",
     "output_type": "stream",
     "text": [
      "100%|██████████| 771/771 [05:31<00:00,  2.32it/s]\n"
     ]
    },
    {
     "name": "stdout",
     "output_type": "stream",
     "text": [
      "{'val_loss': 1.585383490571436, 'val_accuracy': 0.557919621749409, 'precision': 0.6197683501626532, 'recall': 0.557919621749409, 'f1-score': 0.5574949049602438, 'macro_f1-score': 0.2834332186235112, 'balanced_accuracy': 0.35388840108273484, 'mcc': 0.42959576572907626, 'train_loss': 2.2914148274562702}\n",
      "Epoch 2/20\n"
     ]
    },
    {
     "name": "stderr",
     "output_type": "stream",
     "text": [
      "100%|██████████| 771/771 [05:31<00:00,  2.32it/s]\n"
     ]
    },
    {
     "name": "stdout",
     "output_type": "stream",
     "text": [
      "{'val_loss': 1.4002048238268439, 'val_accuracy': 0.5874704491725768, 'precision': 0.6516917305325691, 'recall': 0.5874704491725768, 'f1-score': 0.5963113456747108, 'macro_f1-score': 0.36010537172105317, 'balanced_accuracy': 0.4212379035873923, 'mcc': 0.4750814002373313, 'train_loss': 1.0476608309223185}\n",
      "Epoch 3/20\n"
     ]
    },
    {
     "name": "stderr",
     "output_type": "stream",
     "text": [
      "100%|██████████| 771/771 [05:31<00:00,  2.33it/s]\n"
     ]
    },
    {
     "name": "stdout",
     "output_type": "stream",
     "text": [
      "{'val_loss': 1.47816124502218, 'val_accuracy': 0.6323877068557919, 'precision': 0.667683672735995, 'recall': 0.6323877068557919, 'f1-score': 0.640415116163938, 'macro_f1-score': 0.386812783242685, 'balanced_accuracy': 0.44157044562515013, 'mcc': 0.5359204624888525, 'train_loss': 0.6623741896815801}\n",
      "Epoch 4/20\n"
     ]
    },
    {
     "name": "stderr",
     "output_type": "stream",
     "text": [
      "100%|██████████| 771/771 [05:31<00:00,  2.32it/s]\n"
     ]
    },
    {
     "name": "stdout",
     "output_type": "stream",
     "text": [
      "{'val_loss': 1.659696782534977, 'val_accuracy': 0.6217494089834515, 'precision': 0.6922753523167684, 'recall': 0.6217494089834515, 'f1-score': 0.640662256982747, 'macro_f1-score': 0.4241227420912756, 'balanced_accuracy': 0.47265535713251877, 'mcc': 0.5318854778297925, 'train_loss': 0.4961366219743217}\n",
      "Epoch 5/20\n"
     ]
    },
    {
     "name": "stderr",
     "output_type": "stream",
     "text": [
      "100%|██████████| 771/771 [05:31<00:00,  2.33it/s]\n"
     ]
    },
    {
     "name": "stdout",
     "output_type": "stream",
     "text": [
      "{'val_loss': 1.6168918778311532, 'val_accuracy': 0.6347517730496454, 'precision': 0.6887450354648654, 'recall': 0.6347517730496454, 'f1-score': 0.6298977534754033, 'macro_f1-score': 0.3759224358003939, 'balanced_accuracy': 0.41235117736957977, 'mcc': 0.5287496412543241, 'train_loss': 0.40334096950528375}\n",
      "Epoch 6/20\n"
     ]
    },
    {
     "name": "stderr",
     "output_type": "stream",
     "text": [
      "100%|██████████| 771/771 [05:31<00:00,  2.32it/s]\n"
     ]
    },
    {
     "name": "stdout",
     "output_type": "stream",
     "text": [
      "{'val_loss': 1.5724388743346591, 'val_accuracy': 0.6607565011820331, 'precision': 0.6639000725357818, 'recall': 0.6607565011820331, 'f1-score': 0.6496847506223389, 'macro_f1-score': 0.3951283482492272, 'balanced_accuracy': 0.3924870400071058, 'mcc': 0.547602531600676, 'train_loss': 0.3613553261215256}\n",
      "Epoch 7/20\n"
     ]
    },
    {
     "name": "stderr",
     "output_type": "stream",
     "text": [
      "100%|██████████| 771/771 [05:31<00:00,  2.32it/s]\n"
     ]
    },
    {
     "name": "stdout",
     "output_type": "stream",
     "text": [
      "{'val_loss': 1.7579352866928533, 'val_accuracy': 0.6359338061465721, 'precision': 0.6899203168797554, 'recall': 0.6359338061465721, 'f1-score': 0.6387596355579819, 'macro_f1-score': 0.4084502498397715, 'balanced_accuracy': 0.45463398341968786, 'mcc': 0.5337820199073073, 'train_loss': 0.31241275156073844}\n",
      "Early stopping.\n",
      "\n",
      "[Fold 4]\n",
      "Label distribution after resampling:\n",
      "  label 0: 2000\n",
      "  label 1: 200\n",
      "  label 2: 200\n",
      "  label 3: 200\n",
      "  label 4: 231\n",
      "  label 5: 200\n",
      "  label 6: 200\n",
      "  label 7: 200\n",
      "  label 8: 200\n",
      "  label 9: 200\n",
      "  label 10: 200\n",
      "  label 11: 200\n",
      "  label 12: 217\n",
      "  label 13: 200\n",
      "  label 14: 200\n",
      "  label 15: 200\n",
      "  label 16: 200\n",
      "  label 17: 260\n",
      "  label 18: 200\n",
      "  label 19: 200\n",
      "  label 20: 200\n",
      "  label 21: 200\n",
      "  label 22: 200\n",
      "  label 23: 200\n",
      "  label 24: 200\n",
      "  label 25: 200\n",
      "  label 26: 200\n",
      "  label 27: 200\n",
      "  label 28: 200\n",
      "  label 29: 200\n",
      "  label 30: 200\n",
      "  label 31: 200\n",
      "  label 32: 200\n",
      "  label 33: 200\n",
      "  label 34: 200\n",
      "  label 35: 200\n",
      "  label 36: 200\n",
      "  label 37: 200\n",
      "  label 38: 200\n",
      "  label 39: 200\n",
      "  label 40: 200\n",
      "  label 41: 200\n",
      "  label 42: 200\n",
      "  label 43: 200\n",
      "  label 44: 200\n",
      "  label 45: 200\n",
      "  label 46: 200\n",
      "  label 47: 595\n",
      "  label 48: 227\n",
      "  label 49: 200\n",
      "model is roberta-base\n"
     ]
    },
    {
     "name": "stderr",
     "output_type": "stream",
     "text": [
      "Some weights of RobertaForSequenceClassification were not initialized from the model checkpoint at roberta-base and are newly initialized: ['classifier.dense.bias', 'classifier.dense.weight', 'classifier.out_proj.bias', 'classifier.out_proj.weight']\n",
      "You should probably TRAIN this model on a down-stream task to be able to use it for predictions and inference.\n"
     ]
    },
    {
     "name": "stdout",
     "output_type": "stream",
     "text": [
      "Epoch 1/20\n"
     ]
    },
    {
     "name": "stderr",
     "output_type": "stream",
     "text": [
      "100%|██████████| 771/771 [05:31<00:00,  2.32it/s]\n"
     ]
    },
    {
     "name": "stdout",
     "output_type": "stream",
     "text": [
      "{'val_loss': 1.608726146086207, 'val_accuracy': 0.5271867612293144, 'precision': 0.6092675945047087, 'recall': 0.5271867612293144, 'f1-score': 0.5434414945980796, 'macro_f1-score': 0.3015350542727241, 'balanced_accuracy': 0.3889941253282615, 'mcc': 0.4167153195685265, 'train_loss': 2.115247342759688}\n",
      "Epoch 2/20\n"
     ]
    },
    {
     "name": "stderr",
     "output_type": "stream",
     "text": [
      "100%|██████████| 771/771 [05:31<00:00,  2.32it/s]\n"
     ]
    },
    {
     "name": "stdout",
     "output_type": "stream",
     "text": [
      "{'val_loss': 1.533308229356442, 'val_accuracy': 0.6028368794326241, 'precision': 0.6427365986601866, 'recall': 0.6028368794326241, 'f1-score': 0.6042394543932674, 'macro_f1-score': 0.3662398771372674, 'balanced_accuracy': 0.419800133661752, 'mcc': 0.49799198115751686, 'train_loss': 0.9158458389853998}\n",
      "Epoch 3/20\n"
     ]
    },
    {
     "name": "stderr",
     "output_type": "stream",
     "text": [
      "100%|██████████| 771/771 [05:31<00:00,  2.32it/s]\n"
     ]
    },
    {
     "name": "stdout",
     "output_type": "stream",
     "text": [
      "{'val_loss': 1.4660122866900462, 'val_accuracy': 0.6359338061465721, 'precision': 0.6602320839343384, 'recall': 0.6359338061465721, 'f1-score': 0.6323604208626248, 'macro_f1-score': 0.40708642220744196, 'balanced_accuracy': 0.44948295309880826, 'mcc': 0.5279935071733826, 'train_loss': 0.5864351641884419}\n",
      "Epoch 4/20\n"
     ]
    },
    {
     "name": "stderr",
     "output_type": "stream",
     "text": [
      "100%|██████████| 771/771 [05:32<00:00,  2.32it/s]\n"
     ]
    },
    {
     "name": "stdout",
     "output_type": "stream",
     "text": [
      "{'val_loss': 1.5119947116329986, 'val_accuracy': 0.6371158392434988, 'precision': 0.6732147584027229, 'recall': 0.6371158392434988, 'f1-score': 0.6365722064006653, 'macro_f1-score': 0.39456603706229587, 'balanced_accuracy': 0.4223648644237797, 'mcc': 0.5281528796552019, 'train_loss': 0.4543358940756777}\n",
      "Epoch 5/20\n"
     ]
    },
    {
     "name": "stderr",
     "output_type": "stream",
     "text": [
      "100%|██████████| 771/771 [05:31<00:00,  2.32it/s]\n"
     ]
    },
    {
     "name": "stdout",
     "output_type": "stream",
     "text": [
      "{'val_loss': 1.61192416976083, 'val_accuracy': 0.6264775413711584, 'precision': 0.6574494294862623, 'recall': 0.6264775413711584, 'f1-score': 0.6320399513667082, 'macro_f1-score': 0.3790443372082393, 'balanced_accuracy': 0.38537586753914943, 'mcc': 0.5193475153088948, 'train_loss': 0.37430511144909107}\n",
      "Epoch 6/20\n"
     ]
    },
    {
     "name": "stderr",
     "output_type": "stream",
     "text": [
      "100%|██████████| 771/771 [05:31<00:00,  2.32it/s]\n"
     ]
    },
    {
     "name": "stdout",
     "output_type": "stream",
     "text": [
      "{'val_loss': 1.6055821439005293, 'val_accuracy': 0.6548463356973995, 'precision': 0.6743316692514664, 'recall': 0.6548463356973995, 'f1-score': 0.6549360218451, 'macro_f1-score': 0.4363529526687375, 'balanced_accuracy': 0.4673974397615707, 'mcc': 0.5566236607244486, 'train_loss': 0.3456820339790694}\n",
      "Epoch 7/20\n"
     ]
    },
    {
     "name": "stderr",
     "output_type": "stream",
     "text": [
      "100%|██████████| 771/771 [05:31<00:00,  2.32it/s]\n"
     ]
    },
    {
     "name": "stdout",
     "output_type": "stream",
     "text": [
      "{'val_loss': 1.7517075904135435, 'val_accuracy': 0.6052009456264775, 'precision': 0.6675394733262725, 'recall': 0.6052009456264775, 'f1-score': 0.617068532634, 'macro_f1-score': 0.4111457930746306, 'balanced_accuracy': 0.4304797305026555, 'mcc': 0.5105930410629649, 'train_loss': 0.3035014837306239}\n",
      "Epoch 8/20\n"
     ]
    },
    {
     "name": "stderr",
     "output_type": "stream",
     "text": [
      "100%|██████████| 771/771 [05:32<00:00,  2.32it/s]\n"
     ]
    },
    {
     "name": "stdout",
     "output_type": "stream",
     "text": [
      "{'val_loss': 1.8169463170024585, 'val_accuracy': 0.6583924349881797, 'precision': 0.666348091198124, 'recall': 0.6583924349881797, 'f1-score': 0.6367967930876535, 'macro_f1-score': 0.38680823024694955, 'balanced_accuracy': 0.4044815300989274, 'mcc': 0.5403657732888318, 'train_loss': 0.2887685019812811}\n",
      "Epoch 9/20\n"
     ]
    },
    {
     "name": "stderr",
     "output_type": "stream",
     "text": [
      "100%|██████████| 771/771 [05:32<00:00,  2.32it/s]\n"
     ]
    },
    {
     "name": "stdout",
     "output_type": "stream",
     "text": [
      "{'val_loss': 1.7929351712172885, 'val_accuracy': 0.6465721040189125, 'precision': 0.6797955191134226, 'recall': 0.6465721040189125, 'f1-score': 0.6510844206244665, 'macro_f1-score': 0.4136993927685858, 'balanced_accuracy': 0.4365852107364323, 'mcc': 0.5495526134814999, 'train_loss': 0.26997509819785215}\n",
      "Early stopping.\n",
      "\n",
      "[Fold 5]\n",
      "Label distribution after resampling:\n",
      "  label 0: 2000\n",
      "  label 1: 200\n",
      "  label 2: 200\n",
      "  label 3: 200\n",
      "  label 4: 231\n",
      "  label 5: 200\n",
      "  label 6: 200\n",
      "  label 7: 200\n",
      "  label 8: 200\n",
      "  label 9: 200\n",
      "  label 10: 200\n",
      "  label 11: 200\n",
      "  label 12: 217\n",
      "  label 13: 200\n",
      "  label 14: 200\n",
      "  label 15: 200\n",
      "  label 16: 200\n",
      "  label 17: 260\n",
      "  label 18: 200\n",
      "  label 19: 200\n",
      "  label 20: 200\n",
      "  label 21: 200\n",
      "  label 22: 200\n",
      "  label 23: 200\n",
      "  label 24: 200\n",
      "  label 25: 200\n",
      "  label 26: 200\n",
      "  label 27: 200\n",
      "  label 28: 200\n",
      "  label 29: 200\n",
      "  label 30: 200\n",
      "  label 31: 200\n",
      "  label 32: 200\n",
      "  label 33: 200\n",
      "  label 34: 200\n",
      "  label 35: 200\n",
      "  label 36: 200\n",
      "  label 37: 200\n",
      "  label 38: 200\n",
      "  label 39: 200\n",
      "  label 40: 200\n",
      "  label 41: 200\n",
      "  label 42: 200\n",
      "  label 43: 200\n",
      "  label 44: 200\n",
      "  label 45: 200\n",
      "  label 46: 200\n",
      "  label 47: 595\n",
      "  label 48: 227\n",
      "  label 49: 200\n",
      "model is roberta-base\n"
     ]
    },
    {
     "name": "stderr",
     "output_type": "stream",
     "text": [
      "Some weights of RobertaForSequenceClassification were not initialized from the model checkpoint at roberta-base and are newly initialized: ['classifier.dense.bias', 'classifier.dense.weight', 'classifier.out_proj.bias', 'classifier.out_proj.weight']\n",
      "You should probably TRAIN this model on a down-stream task to be able to use it for predictions and inference.\n"
     ]
    },
    {
     "name": "stdout",
     "output_type": "stream",
     "text": [
      "Epoch 1/20\n"
     ]
    },
    {
     "name": "stderr",
     "output_type": "stream",
     "text": [
      "100%|██████████| 771/771 [05:31<00:00,  2.32it/s]\n"
     ]
    },
    {
     "name": "stdout",
     "output_type": "stream",
     "text": [
      "{'val_loss': 1.4807002431941483, 'val_accuracy': 0.6011834319526628, 'precision': 0.5828658175877931, 'recall': 0.6011834319526628, 'f1-score': 0.5715497273017693, 'macro_f1-score': 0.2889566873663994, 'balanced_accuracy': 0.3236391109252657, 'mcc': 0.467396695078545, 'train_loss': 2.120581717729259}\n",
      "Epoch 2/20\n"
     ]
    },
    {
     "name": "stderr",
     "output_type": "stream",
     "text": [
      "100%|██████████| 771/771 [05:31<00:00,  2.32it/s]\n"
     ]
    },
    {
     "name": "stdout",
     "output_type": "stream",
     "text": [
      "{'val_loss': 1.4684503179676127, 'val_accuracy': 0.5988165680473373, 'precision': 0.6683185580848522, 'recall': 0.5988165680473373, 'f1-score': 0.6030742849419475, 'macro_f1-score': 0.32543177841115084, 'balanced_accuracy': 0.39319543984860994, 'mcc': 0.4907732167050387, 'train_loss': 0.9130138117631585}\n",
      "Epoch 3/20\n"
     ]
    },
    {
     "name": "stderr",
     "output_type": "stream",
     "text": [
      "100%|██████████| 771/771 [05:31<00:00,  2.32it/s]\n"
     ]
    },
    {
     "name": "stdout",
     "output_type": "stream",
     "text": [
      "{'val_loss': 1.4935460009102552, 'val_accuracy': 0.6260355029585799, 'precision': 0.6558770970902565, 'recall': 0.6260355029585799, 'f1-score': 0.6200037401359996, 'macro_f1-score': 0.34011866877397795, 'balanced_accuracy': 0.3693629514495098, 'mcc': 0.5146317631956664, 'train_loss': 0.5820520666902631}\n",
      "Epoch 4/20\n"
     ]
    },
    {
     "name": "stderr",
     "output_type": "stream",
     "text": [
      "100%|██████████| 771/771 [05:31<00:00,  2.32it/s]\n"
     ]
    },
    {
     "name": "stdout",
     "output_type": "stream",
     "text": [
      "{'val_loss': 1.5046306272160332, 'val_accuracy': 0.6319526627218935, 'precision': 0.6805621405433755, 'recall': 0.6319526627218935, 'f1-score': 0.633985236260498, 'macro_f1-score': 0.3719239250258702, 'balanced_accuracy': 0.4190006384196905, 'mcc': 0.5327956300604577, 'train_loss': 0.43370409629243667}\n",
      "Epoch 5/20\n"
     ]
    },
    {
     "name": "stderr",
     "output_type": "stream",
     "text": [
      "100%|██████████| 771/771 [05:31<00:00,  2.32it/s]\n"
     ]
    },
    {
     "name": "stdout",
     "output_type": "stream",
     "text": [
      "{'val_loss': 1.6191281909650226, 'val_accuracy': 0.6331360946745562, 'precision': 0.6607445818382677, 'recall': 0.6331360946745562, 'f1-score': 0.6353351036115755, 'macro_f1-score': 0.36305294258004056, 'balanced_accuracy': 0.39517674194965907, 'mcc': 0.53273739060945, 'train_loss': 0.3664392242824173}\n",
      "Epoch 6/20\n"
     ]
    },
    {
     "name": "stderr",
     "output_type": "stream",
     "text": [
      "100%|██████████| 771/771 [05:31<00:00,  2.32it/s]\n"
     ]
    },
    {
     "name": "stdout",
     "output_type": "stream",
     "text": [
      "{'val_loss': 1.5963963365779732, 'val_accuracy': 0.6295857988165681, 'precision': 0.641063546819801, 'recall': 0.6295857988165681, 'f1-score': 0.6283768303236119, 'macro_f1-score': 0.361503011825527, 'balanced_accuracy': 0.3829165111147625, 'mcc': 0.5238584574725906, 'train_loss': 0.34610819830963857}\n",
      "Epoch 7/20\n"
     ]
    },
    {
     "name": "stderr",
     "output_type": "stream",
     "text": [
      "100%|██████████| 771/771 [05:31<00:00,  2.32it/s]\n"
     ]
    },
    {
     "name": "stdout",
     "output_type": "stream",
     "text": [
      "{'val_loss': 1.7497612125468704, 'val_accuracy': 0.6437869822485207, 'precision': 0.6735672908553123, 'recall': 0.6437869822485207, 'f1-score': 0.6389263934106695, 'macro_f1-score': 0.35743475909979894, 'balanced_accuracy': 0.3671366283077954, 'mcc': 0.5341771543951345, 'train_loss': 0.29505668683569447}\n",
      "Early stopping.\n",
      "\n",
      "[Fold 6]\n",
      "Label distribution after resampling:\n",
      "  label 0: 2000\n",
      "  label 1: 200\n",
      "  label 2: 200\n",
      "  label 3: 200\n",
      "  label 4: 231\n",
      "  label 5: 200\n",
      "  label 6: 200\n",
      "  label 7: 200\n",
      "  label 8: 200\n",
      "  label 9: 200\n",
      "  label 10: 200\n",
      "  label 11: 200\n",
      "  label 12: 217\n",
      "  label 13: 200\n",
      "  label 14: 200\n",
      "  label 15: 200\n",
      "  label 16: 200\n",
      "  label 17: 260\n",
      "  label 18: 200\n",
      "  label 19: 200\n",
      "  label 20: 200\n",
      "  label 21: 200\n",
      "  label 22: 200\n",
      "  label 23: 200\n",
      "  label 24: 200\n",
      "  label 25: 200\n",
      "  label 26: 200\n",
      "  label 27: 200\n",
      "  label 28: 200\n",
      "  label 29: 200\n",
      "  label 30: 200\n",
      "  label 31: 200\n",
      "  label 32: 200\n",
      "  label 33: 200\n",
      "  label 34: 200\n",
      "  label 35: 200\n",
      "  label 36: 200\n",
      "  label 37: 200\n",
      "  label 38: 200\n",
      "  label 39: 200\n",
      "  label 40: 200\n",
      "  label 41: 200\n",
      "  label 42: 200\n",
      "  label 43: 200\n",
      "  label 44: 200\n",
      "  label 45: 200\n",
      "  label 46: 200\n",
      "  label 47: 595\n",
      "  label 48: 227\n",
      "  label 49: 200\n",
      "model is roberta-base\n"
     ]
    },
    {
     "name": "stderr",
     "output_type": "stream",
     "text": [
      "Some weights of RobertaForSequenceClassification were not initialized from the model checkpoint at roberta-base and are newly initialized: ['classifier.dense.bias', 'classifier.dense.weight', 'classifier.out_proj.bias', 'classifier.out_proj.weight']\n",
      "You should probably TRAIN this model on a down-stream task to be able to use it for predictions and inference.\n"
     ]
    },
    {
     "name": "stdout",
     "output_type": "stream",
     "text": [
      "Epoch 1/20\n"
     ]
    },
    {
     "name": "stderr",
     "output_type": "stream",
     "text": [
      "100%|██████████| 771/771 [05:31<00:00,  2.32it/s]\n"
     ]
    },
    {
     "name": "stdout",
     "output_type": "stream",
     "text": [
      "{'val_loss': 1.7422654201399606, 'val_accuracy': 0.5112426035502958, 'precision': 0.6277844939824444, 'recall': 0.5112426035502958, 'f1-score': 0.5353806442902606, 'macro_f1-score': 0.3018204689387622, 'balanced_accuracy': 0.40797075867167476, 'mcc': 0.41104115627839416, 'train_loss': 2.4601988401239794}\n",
      "Epoch 2/20\n"
     ]
    },
    {
     "name": "stderr",
     "output_type": "stream",
     "text": [
      "100%|██████████| 771/771 [05:31<00:00,  2.32it/s]\n"
     ]
    },
    {
     "name": "stdout",
     "output_type": "stream",
     "text": [
      "{'val_loss': 1.4172663798309721, 'val_accuracy': 0.6106508875739645, 'precision': 0.6716108326327918, 'recall': 0.6106508875739645, 'f1-score': 0.6112672879598624, 'macro_f1-score': 0.3410923909117847, 'balanced_accuracy': 0.40310798640924717, 'mcc': 0.4974891009357954, 'train_loss': 1.060238234379876}\n",
      "Epoch 3/20\n"
     ]
    },
    {
     "name": "stderr",
     "output_type": "stream",
     "text": [
      "100%|██████████| 771/771 [05:31<00:00,  2.32it/s]\n"
     ]
    },
    {
     "name": "stdout",
     "output_type": "stream",
     "text": [
      "{'val_loss': 1.4026508910476037, 'val_accuracy': 0.6260355029585799, 'precision': 0.6781728497173897, 'recall': 0.6260355029585799, 'f1-score': 0.6313763519389627, 'macro_f1-score': 0.36480186776079454, 'balanced_accuracy': 0.4096751774177416, 'mcc': 0.5207973522249487, 'train_loss': 0.6608875888736795}\n",
      "Epoch 4/20\n"
     ]
    },
    {
     "name": "stderr",
     "output_type": "stream",
     "text": [
      "100%|██████████| 771/771 [05:31<00:00,  2.32it/s]\n"
     ]
    },
    {
     "name": "stdout",
     "output_type": "stream",
     "text": [
      "{'val_loss': 1.4778943517298069, 'val_accuracy': 0.6165680473372781, 'precision': 0.679673658203531, 'recall': 0.6165680473372781, 'f1-score': 0.6320474466377752, 'macro_f1-score': 0.38176815989637364, 'balanced_accuracy': 0.4332751884119523, 'mcc': 0.5192033556357348, 'train_loss': 0.47427184122642346}\n",
      "Epoch 5/20\n"
     ]
    },
    {
     "name": "stderr",
     "output_type": "stream",
     "text": [
      "100%|██████████| 771/771 [05:31<00:00,  2.32it/s]\n"
     ]
    },
    {
     "name": "stdout",
     "output_type": "stream",
     "text": [
      "{'val_loss': 1.5571528962760601, 'val_accuracy': 0.6390532544378699, 'precision': 0.7038653720920388, 'recall': 0.6390532544378699, 'f1-score': 0.6447039454108869, 'macro_f1-score': 0.3966978376646445, 'balanced_accuracy': 0.453152590282128, 'mcc': 0.5423700857808382, 'train_loss': 0.4332339084826787}\n",
      "Epoch 6/20\n"
     ]
    },
    {
     "name": "stderr",
     "output_type": "stream",
     "text": [
      "100%|██████████| 771/771 [05:31<00:00,  2.32it/s]\n"
     ]
    },
    {
     "name": "stdout",
     "output_type": "stream",
     "text": [
      "{'val_loss': 1.5981127912143491, 'val_accuracy': 0.6615384615384615, 'precision': 0.6928951187474116, 'recall': 0.6615384615384615, 'f1-score': 0.6631260252843446, 'macro_f1-score': 0.4158287282679385, 'balanced_accuracy': 0.4717096956905929, 'mcc': 0.5646885804045009, 'train_loss': 0.3444296739447074}\n",
      "Epoch 7/20\n"
     ]
    },
    {
     "name": "stderr",
     "output_type": "stream",
     "text": [
      "100%|██████████| 771/771 [05:31<00:00,  2.32it/s]\n"
     ]
    },
    {
     "name": "stdout",
     "output_type": "stream",
     "text": [
      "{'val_loss': 1.5737591082195066, 'val_accuracy': 0.6579881656804734, 'precision': 0.6866660955628867, 'recall': 0.6579881656804734, 'f1-score': 0.6539633121984346, 'macro_f1-score': 0.4014672404150299, 'balanced_accuracy': 0.46330976457011275, 'mcc': 0.5564807757975162, 'train_loss': 0.3322728316175199}\n",
      "Epoch 8/20\n"
     ]
    },
    {
     "name": "stderr",
     "output_type": "stream",
     "text": [
      "100%|██████████| 771/771 [05:31<00:00,  2.32it/s]\n"
     ]
    },
    {
     "name": "stdout",
     "output_type": "stream",
     "text": [
      "{'val_loss': 1.8007529973983765, 'val_accuracy': 0.6011834319526628, 'precision': 0.6519208516395145, 'recall': 0.6011834319526628, 'f1-score': 0.6131904720890974, 'macro_f1-score': 0.378885327949713, 'balanced_accuracy': 0.43034766351768966, 'mcc': 0.5105715964931993, 'train_loss': 0.2953970508913276}\n",
      "Epoch 9/20\n"
     ]
    },
    {
     "name": "stderr",
     "output_type": "stream",
     "text": [
      "100%|██████████| 771/771 [05:31<00:00,  2.32it/s]\n"
     ]
    },
    {
     "name": "stdout",
     "output_type": "stream",
     "text": [
      "{'val_loss': 1.5808800447661921, 'val_accuracy': 0.6532544378698225, 'precision': 0.6828924020412277, 'recall': 0.6532544378698225, 'f1-score': 0.6525700765612088, 'macro_f1-score': 0.3784513119123373, 'balanced_accuracy': 0.43611514752954583, 'mcc': 0.5532966943639025, 'train_loss': 0.30590698465429506}\n",
      "Early stopping.\n",
      "\n",
      "[Fold 7]\n",
      "Label distribution after resampling:\n",
      "  label 0: 2000\n",
      "  label 1: 200\n",
      "  label 2: 200\n",
      "  label 3: 200\n",
      "  label 4: 232\n",
      "  label 5: 200\n",
      "  label 6: 200\n",
      "  label 7: 200\n",
      "  label 8: 200\n",
      "  label 9: 200\n",
      "  label 10: 200\n",
      "  label 11: 200\n",
      "  label 12: 217\n",
      "  label 13: 200\n",
      "  label 14: 200\n",
      "  label 15: 200\n",
      "  label 16: 200\n",
      "  label 17: 260\n",
      "  label 18: 200\n",
      "  label 19: 200\n",
      "  label 20: 200\n",
      "  label 21: 200\n",
      "  label 22: 200\n",
      "  label 23: 200\n",
      "  label 24: 200\n",
      "  label 25: 200\n",
      "  label 26: 200\n",
      "  label 27: 200\n",
      "  label 28: 200\n",
      "  label 29: 200\n",
      "  label 30: 200\n",
      "  label 31: 200\n",
      "  label 32: 200\n",
      "  label 33: 200\n",
      "  label 34: 200\n",
      "  label 35: 200\n",
      "  label 36: 200\n",
      "  label 37: 200\n",
      "  label 38: 200\n",
      "  label 39: 200\n",
      "  label 40: 200\n",
      "  label 41: 200\n",
      "  label 42: 200\n",
      "  label 43: 200\n",
      "  label 44: 200\n",
      "  label 45: 200\n",
      "  label 46: 200\n",
      "  label 47: 594\n",
      "  label 48: 227\n",
      "  label 49: 200\n",
      "model is roberta-base\n"
     ]
    },
    {
     "name": "stderr",
     "output_type": "stream",
     "text": [
      "Some weights of RobertaForSequenceClassification were not initialized from the model checkpoint at roberta-base and are newly initialized: ['classifier.dense.bias', 'classifier.dense.weight', 'classifier.out_proj.bias', 'classifier.out_proj.weight']\n",
      "You should probably TRAIN this model on a down-stream task to be able to use it for predictions and inference.\n"
     ]
    },
    {
     "name": "stdout",
     "output_type": "stream",
     "text": [
      "Epoch 1/20\n"
     ]
    },
    {
     "name": "stderr",
     "output_type": "stream",
     "text": [
      "100%|██████████| 771/771 [05:31<00:00,  2.32it/s]\n"
     ]
    },
    {
     "name": "stdout",
     "output_type": "stream",
     "text": [
      "{'val_loss': 1.5988774457067814, 'val_accuracy': 0.570414201183432, 'precision': 0.6252817903294293, 'recall': 0.570414201183432, 'f1-score': 0.5795463429811566, 'macro_f1-score': 0.35355529811974507, 'balanced_accuracy': 0.4560663471368057, 'mcc': 0.4737468871184886, 'train_loss': 2.082138040495599}\n",
      "Epoch 2/20\n"
     ]
    },
    {
     "name": "stderr",
     "output_type": "stream",
     "text": [
      "100%|██████████| 771/771 [05:31<00:00,  2.32it/s]\n"
     ]
    },
    {
     "name": "stdout",
     "output_type": "stream",
     "text": [
      "{'val_loss': 1.3647108876480247, 'val_accuracy': 0.6461538461538462, 'precision': 0.6794975481087321, 'recall': 0.6461538461538462, 'f1-score': 0.646693571549975, 'macro_f1-score': 0.4171597751570942, 'balanced_accuracy': 0.47977252285806016, 'mcc': 0.5511258933967677, 'train_loss': 0.8941760346892588}\n",
      "Epoch 3/20\n"
     ]
    },
    {
     "name": "stderr",
     "output_type": "stream",
     "text": [
      "100%|██████████| 771/771 [05:32<00:00,  2.32it/s]\n"
     ]
    },
    {
     "name": "stdout",
     "output_type": "stream",
     "text": [
      "{'val_loss': 1.3478789874967538, 'val_accuracy': 0.6461538461538462, 'precision': 0.6926736653968891, 'recall': 0.6461538461538462, 'f1-score': 0.6565471704197393, 'macro_f1-score': 0.4406127821401967, 'balanced_accuracy': 0.4922276531871736, 'mcc': 0.559078312249795, 'train_loss': 0.5786622722093233}\n",
      "Epoch 4/20\n"
     ]
    },
    {
     "name": "stderr",
     "output_type": "stream",
     "text": [
      "100%|██████████| 771/771 [05:32<00:00,  2.32it/s]\n"
     ]
    },
    {
     "name": "stdout",
     "output_type": "stream",
     "text": [
      "{'val_loss': 1.3948544199174304, 'val_accuracy': 0.6579881656804734, 'precision': 0.6785391468134225, 'recall': 0.6579881656804734, 'f1-score': 0.6558035621018404, 'macro_f1-score': 0.4386717633856312, 'balanced_accuracy': 0.5068190003381047, 'mcc': 0.5625702128641299, 'train_loss': 0.44829622382629086}\n",
      "Epoch 5/20\n"
     ]
    },
    {
     "name": "stderr",
     "output_type": "stream",
     "text": [
      "100%|██████████| 771/771 [05:31<00:00,  2.33it/s]\n"
     ]
    },
    {
     "name": "stdout",
     "output_type": "stream",
     "text": [
      "{'val_loss': 1.593978542201924, 'val_accuracy': 0.6437869822485207, 'precision': 0.6904452058175605, 'recall': 0.6437869822485207, 'f1-score': 0.6523920226097122, 'macro_f1-score': 0.4344497272191294, 'balanced_accuracy': 0.4869339288884597, 'mcc': 0.5542881350842901, 'train_loss': 0.36678182173293233}\n",
      "Epoch 6/20\n"
     ]
    },
    {
     "name": "stderr",
     "output_type": "stream",
     "text": [
      "100%|██████████| 771/771 [05:31<00:00,  2.32it/s]\n"
     ]
    },
    {
     "name": "stdout",
     "output_type": "stream",
     "text": [
      "{'val_loss': 1.7724088998335712, 'val_accuracy': 0.6153846153846154, 'precision': 0.6811888939743039, 'recall': 0.6153846153846154, 'f1-score': 0.6296917093112665, 'macro_f1-score': 0.4247976297885006, 'balanced_accuracy': 0.4977594937743836, 'mcc': 0.5303604931706283, 'train_loss': 0.3341202461468744}\n",
      "Early stopping.\n",
      "\n",
      "[Fold 8]\n",
      "Label distribution after resampling:\n",
      "  label 0: 2000\n",
      "  label 1: 200\n",
      "  label 2: 200\n",
      "  label 3: 200\n",
      "  label 4: 232\n",
      "  label 5: 200\n",
      "  label 6: 200\n",
      "  label 7: 200\n",
      "  label 8: 200\n",
      "  label 9: 200\n",
      "  label 10: 200\n",
      "  label 11: 200\n",
      "  label 12: 216\n",
      "  label 13: 200\n",
      "  label 14: 200\n",
      "  label 15: 200\n",
      "  label 16: 200\n",
      "  label 17: 260\n",
      "  label 18: 200\n",
      "  label 19: 200\n",
      "  label 20: 200\n",
      "  label 21: 200\n",
      "  label 22: 200\n",
      "  label 23: 200\n",
      "  label 24: 200\n",
      "  label 25: 200\n",
      "  label 26: 200\n",
      "  label 27: 200\n",
      "  label 28: 200\n",
      "  label 29: 200\n",
      "  label 30: 200\n",
      "  label 31: 200\n",
      "  label 32: 200\n",
      "  label 33: 200\n",
      "  label 34: 200\n",
      "  label 35: 200\n",
      "  label 36: 200\n",
      "  label 37: 200\n",
      "  label 38: 200\n",
      "  label 39: 200\n",
      "  label 40: 200\n",
      "  label 41: 200\n",
      "  label 42: 200\n",
      "  label 43: 200\n",
      "  label 44: 200\n",
      "  label 45: 200\n",
      "  label 46: 200\n",
      "  label 47: 595\n",
      "  label 48: 226\n",
      "  label 49: 200\n",
      "model is roberta-base\n"
     ]
    },
    {
     "name": "stderr",
     "output_type": "stream",
     "text": [
      "Some weights of RobertaForSequenceClassification were not initialized from the model checkpoint at roberta-base and are newly initialized: ['classifier.dense.bias', 'classifier.dense.weight', 'classifier.out_proj.bias', 'classifier.out_proj.weight']\n",
      "You should probably TRAIN this model on a down-stream task to be able to use it for predictions and inference.\n"
     ]
    },
    {
     "name": "stdout",
     "output_type": "stream",
     "text": [
      "Epoch 1/20\n"
     ]
    },
    {
     "name": "stderr",
     "output_type": "stream",
     "text": [
      "100%|██████████| 771/771 [05:31<00:00,  2.33it/s]\n"
     ]
    },
    {
     "name": "stdout",
     "output_type": "stream",
     "text": [
      "{'val_loss': 1.4962955567072023, 'val_accuracy': 0.5763313609467455, 'precision': 0.663813071228, 'recall': 0.5763313609467455, 'f1-score': 0.5864660965995654, 'macro_f1-score': 0.3633691888764897, 'balanced_accuracy': 0.47254776356565636, 'mcc': 0.471111703230492, 'train_loss': 2.2842978748520677}\n",
      "Epoch 2/20\n"
     ]
    },
    {
     "name": "stderr",
     "output_type": "stream",
     "text": [
      "100%|██████████| 771/771 [05:31<00:00,  2.32it/s]\n"
     ]
    },
    {
     "name": "stdout",
     "output_type": "stream",
     "text": [
      "{'val_loss': 1.3325529998203494, 'val_accuracy': 0.6319526627218935, 'precision': 0.6816682186198102, 'recall': 0.6319526627218935, 'f1-score': 0.6374895066171073, 'macro_f1-score': 0.4091399662001025, 'balanced_accuracy': 0.44025912714162246, 'mcc': 0.5257670488875107, 'train_loss': 1.0166019196446923}\n",
      "Epoch 3/20\n"
     ]
    },
    {
     "name": "stderr",
     "output_type": "stream",
     "text": [
      "100%|██████████| 771/771 [05:31<00:00,  2.33it/s]\n"
     ]
    },
    {
     "name": "stdout",
     "output_type": "stream",
     "text": [
      "{'val_loss': 1.2919363716863237, 'val_accuracy': 0.6366863905325444, 'precision': 0.6692939963386678, 'recall': 0.6366863905325444, 'f1-score': 0.6437395375799576, 'macro_f1-score': 0.3982981889040203, 'balanced_accuracy': 0.44903649877129964, 'mcc': 0.5347877622121672, 'train_loss': 0.6405133476575061}\n",
      "Epoch 4/20\n"
     ]
    },
    {
     "name": "stderr",
     "output_type": "stream",
     "text": [
      "100%|██████████| 771/771 [05:31<00:00,  2.33it/s]\n"
     ]
    },
    {
     "name": "stdout",
     "output_type": "stream",
     "text": [
      "{'val_loss': 1.605673483520184, 'val_accuracy': 0.5857988165680473, 'precision': 0.7009044209442, 'recall': 0.5857988165680473, 'f1-score': 0.6193352166715027, 'macro_f1-score': 0.3864150614399891, 'balanced_accuracy': 0.4291584735996783, 'mcc': 0.49861284518752397, 'train_loss': 0.5003740443097942}\n",
      "Epoch 5/20\n"
     ]
    },
    {
     "name": "stderr",
     "output_type": "stream",
     "text": [
      "100%|██████████| 771/771 [05:31<00:00,  2.33it/s]\n"
     ]
    },
    {
     "name": "stdout",
     "output_type": "stream",
     "text": [
      "{'val_loss': 1.3459576756324407, 'val_accuracy': 0.6662721893491125, 'precision': 0.673103298101372, 'recall': 0.6662721893491125, 'f1-score': 0.6546210292742817, 'macro_f1-score': 0.41226760282195324, 'balanced_accuracy': 0.4360147285527519, 'mcc': 0.5591938437217181, 'train_loss': 0.44145914519642965}\n",
      "Epoch 6/20\n"
     ]
    },
    {
     "name": "stderr",
     "output_type": "stream",
     "text": [
      "100%|██████████| 771/771 [05:31<00:00,  2.33it/s]\n"
     ]
    },
    {
     "name": "stdout",
     "output_type": "stream",
     "text": [
      "{'val_loss': 1.587902972158396, 'val_accuracy': 0.6532544378698225, 'precision': 0.672460099516651, 'recall': 0.6532544378698225, 'f1-score': 0.6481972880878192, 'macro_f1-score': 0.40922114757652894, 'balanced_accuracy': 0.4383943879687163, 'mcc': 0.554688047427887, 'train_loss': 0.3380256166159817}\n",
      "Epoch 7/20\n"
     ]
    },
    {
     "name": "stderr",
     "output_type": "stream",
     "text": [
      "100%|██████████| 771/771 [05:31<00:00,  2.33it/s]\n"
     ]
    },
    {
     "name": "stdout",
     "output_type": "stream",
     "text": [
      "{'val_loss': 1.6293350716806807, 'val_accuracy': 0.6260355029585799, 'precision': 0.6720895804374452, 'recall': 0.6260355029585799, 'f1-score': 0.627899099645972, 'macro_f1-score': 0.3956896150959393, 'balanced_accuracy': 0.44882907311992604, 'mcc': 0.5349693902075041, 'train_loss': 0.3368268817549646}\n",
      "Epoch 8/20\n"
     ]
    },
    {
     "name": "stderr",
     "output_type": "stream",
     "text": [
      "100%|██████████| 771/771 [05:31<00:00,  2.33it/s]\n"
     ]
    },
    {
     "name": "stdout",
     "output_type": "stream",
     "text": [
      "{'val_loss': 1.4646248170789682, 'val_accuracy': 0.672189349112426, 'precision': 0.6660200025071522, 'recall': 0.672189349112426, 'f1-score': 0.6584025988876834, 'macro_f1-score': 0.41576708824241154, 'balanced_accuracy': 0.4254477877707106, 'mcc': 0.5636686994551666, 'train_loss': 0.3058679118044626}\n",
      "Epoch 9/20\n"
     ]
    },
    {
     "name": "stderr",
     "output_type": "stream",
     "text": [
      "100%|██████████| 771/771 [05:31<00:00,  2.33it/s]\n"
     ]
    },
    {
     "name": "stdout",
     "output_type": "stream",
     "text": [
      "{'val_loss': 1.7652975208354447, 'val_accuracy': 0.6165680473372781, 'precision': 0.6743681990519085, 'recall': 0.6165680473372781, 'f1-score': 0.6294953916713443, 'macro_f1-score': 0.38909519695640493, 'balanced_accuracy': 0.44164715381244846, 'mcc': 0.5167057942253993, 'train_loss': 0.29860951857527795}\n",
      "Epoch 10/20\n"
     ]
    },
    {
     "name": "stderr",
     "output_type": "stream",
     "text": [
      "100%|██████████| 771/771 [05:31<00:00,  2.33it/s]\n"
     ]
    },
    {
     "name": "stdout",
     "output_type": "stream",
     "text": [
      "{'val_loss': 1.5992973660523038, 'val_accuracy': 0.6520710059171597, 'precision': 0.6761475517460654, 'recall': 0.6520710059171597, 'f1-score': 0.6479968780643534, 'macro_f1-score': 0.3989407692088327, 'balanced_accuracy': 0.41012640938625383, 'mcc': 0.5489596626393634, 'train_loss': 0.2614152802640014}\n",
      "Epoch 11/20\n"
     ]
    },
    {
     "name": "stderr",
     "output_type": "stream",
     "text": [
      "100%|██████████| 771/771 [05:31<00:00,  2.33it/s]\n"
     ]
    },
    {
     "name": "stdout",
     "output_type": "stream",
     "text": [
      "{'val_loss': 1.6434678873925839, 'val_accuracy': 0.6544378698224852, 'precision': 0.6674327338933981, 'recall': 0.6544378698224852, 'f1-score': 0.6515331481925859, 'macro_f1-score': 0.3935016135668854, 'balanced_accuracy': 0.41544666537725145, 'mcc': 0.5513487983531054, 'train_loss': 0.2748400013478311}\n",
      "Early stopping.\n",
      "\n",
      "[Fold 9]\n",
      "Label distribution after resampling:\n",
      "  label 0: 2000\n",
      "  label 1: 200\n",
      "  label 2: 200\n",
      "  label 3: 200\n",
      "  label 4: 232\n",
      "  label 5: 200\n",
      "  label 6: 200\n",
      "  label 7: 200\n",
      "  label 8: 200\n",
      "  label 9: 200\n",
      "  label 10: 200\n",
      "  label 11: 200\n",
      "  label 12: 217\n",
      "  label 13: 200\n",
      "  label 14: 200\n",
      "  label 15: 200\n",
      "  label 16: 200\n",
      "  label 17: 261\n",
      "  label 18: 200\n",
      "  label 19: 200\n",
      "  label 20: 200\n",
      "  label 21: 200\n",
      "  label 22: 200\n",
      "  label 23: 200\n",
      "  label 24: 200\n",
      "  label 25: 200\n",
      "  label 26: 200\n",
      "  label 27: 200\n",
      "  label 28: 200\n",
      "  label 29: 200\n",
      "  label 30: 200\n",
      "  label 31: 200\n",
      "  label 32: 200\n",
      "  label 33: 200\n",
      "  label 34: 200\n",
      "  label 35: 200\n",
      "  label 36: 200\n",
      "  label 37: 200\n",
      "  label 38: 200\n",
      "  label 39: 200\n",
      "  label 40: 200\n",
      "  label 41: 200\n",
      "  label 42: 200\n",
      "  label 43: 200\n",
      "  label 44: 200\n",
      "  label 45: 200\n",
      "  label 46: 200\n",
      "  label 47: 595\n",
      "  label 48: 226\n",
      "  label 49: 200\n",
      "model is roberta-base\n"
     ]
    },
    {
     "name": "stderr",
     "output_type": "stream",
     "text": [
      "Some weights of RobertaForSequenceClassification were not initialized from the model checkpoint at roberta-base and are newly initialized: ['classifier.dense.bias', 'classifier.dense.weight', 'classifier.out_proj.bias', 'classifier.out_proj.weight']\n",
      "You should probably TRAIN this model on a down-stream task to be able to use it for predictions and inference.\n"
     ]
    },
    {
     "name": "stdout",
     "output_type": "stream",
     "text": [
      "Epoch 1/20\n"
     ]
    },
    {
     "name": "stderr",
     "output_type": "stream",
     "text": [
      "100%|██████████| 771/771 [05:32<00:00,  2.32it/s]\n",
      "D:\\Anaconda3\\envs\\cuda\\Lib\\site-packages\\sklearn\\metrics\\_classification.py:2458: UserWarning: y_pred contains classes not in y_true\n",
      "  warnings.warn(\"y_pred contains classes not in y_true\")\n"
     ]
    },
    {
     "name": "stdout",
     "output_type": "stream",
     "text": [
      "{'val_loss': 1.5257260686946366, 'val_accuracy': 0.5775147928994083, 'precision': 0.6348961378660376, 'recall': 0.5775147928994083, 'f1-score': 0.5895047295200694, 'macro_f1-score': 0.352912952766644, 'balanced_accuracy': 0.4441067507861833, 'mcc': 0.47403873724970497, 'train_loss': 2.1264247163724344}\n",
      "Epoch 2/20\n"
     ]
    },
    {
     "name": "stderr",
     "output_type": "stream",
     "text": [
      "100%|██████████| 771/771 [05:32<00:00,  2.32it/s]\n",
      "D:\\Anaconda3\\envs\\cuda\\Lib\\site-packages\\sklearn\\metrics\\_classification.py:2458: UserWarning: y_pred contains classes not in y_true\n",
      "  warnings.warn(\"y_pred contains classes not in y_true\")\n"
     ]
    },
    {
     "name": "stdout",
     "output_type": "stream",
     "text": [
      "{'val_loss': 1.361967406182919, 'val_accuracy': 0.6378698224852071, 'precision': 0.6822004008360862, 'recall': 0.6378698224852071, 'f1-score': 0.6378227519413164, 'macro_f1-score': 0.35591516585372474, 'balanced_accuracy': 0.3982533761069205, 'mcc': 0.5420566044827504, 'train_loss': 0.9315833618668731}\n",
      "Epoch 3/20\n"
     ]
    },
    {
     "name": "stderr",
     "output_type": "stream",
     "text": [
      "100%|██████████| 771/771 [05:32<00:00,  2.32it/s]\n",
      "D:\\Anaconda3\\envs\\cuda\\Lib\\site-packages\\sklearn\\metrics\\_classification.py:2458: UserWarning: y_pred contains classes not in y_true\n",
      "  warnings.warn(\"y_pred contains classes not in y_true\")\n"
     ]
    },
    {
     "name": "stdout",
     "output_type": "stream",
     "text": [
      "{'val_loss': 1.323677011255948, 'val_accuracy': 0.6568047337278107, 'precision': 0.690672858230893, 'recall': 0.6568047337278107, 'f1-score': 0.6553261908132397, 'macro_f1-score': 0.3861671222659313, 'balanced_accuracy': 0.42380196158816424, 'mcc': 0.5561551068719264, 'train_loss': 0.6060789439358523}\n",
      "Epoch 4/20\n"
     ]
    },
    {
     "name": "stderr",
     "output_type": "stream",
     "text": [
      "100%|██████████| 771/771 [05:32<00:00,  2.32it/s]\n",
      "D:\\Anaconda3\\envs\\cuda\\Lib\\site-packages\\sklearn\\metrics\\_classification.py:2458: UserWarning: y_pred contains classes not in y_true\n",
      "  warnings.warn(\"y_pred contains classes not in y_true\")\n"
     ]
    },
    {
     "name": "stdout",
     "output_type": "stream",
     "text": [
      "{'val_loss': 1.3473050054514184, 'val_accuracy': 0.6710059171597633, 'precision': 0.6973002714515308, 'recall': 0.6710059171597633, 'f1-score': 0.6713375731155061, 'macro_f1-score': 0.3941127210321519, 'balanced_accuracy': 0.42765398603521254, 'mcc': 0.5778798364194802, 'train_loss': 0.44729442803380015}\n",
      "Epoch 5/20\n"
     ]
    },
    {
     "name": "stderr",
     "output_type": "stream",
     "text": [
      "100%|██████████| 771/771 [05:32<00:00,  2.32it/s]\n",
      "D:\\Anaconda3\\envs\\cuda\\Lib\\site-packages\\sklearn\\metrics\\_classification.py:2458: UserWarning: y_pred contains classes not in y_true\n",
      "  warnings.warn(\"y_pred contains classes not in y_true\")\n"
     ]
    },
    {
     "name": "stdout",
     "output_type": "stream",
     "text": [
      "{'val_loss': 1.3898767249764137, 'val_accuracy': 0.6745562130177515, 'precision': 0.7010692387210605, 'recall': 0.6745562130177515, 'f1-score': 0.6711722635141977, 'macro_f1-score': 0.40495269913039145, 'balanced_accuracy': 0.41858177980395633, 'mcc': 0.5742779452199784, 'train_loss': 0.3815809120405973}\n",
      "Epoch 6/20\n"
     ]
    },
    {
     "name": "stderr",
     "output_type": "stream",
     "text": [
      "100%|██████████| 771/771 [05:32<00:00,  2.32it/s]\n",
      "D:\\Anaconda3\\envs\\cuda\\Lib\\site-packages\\sklearn\\metrics\\_classification.py:2458: UserWarning: y_pred contains classes not in y_true\n",
      "  warnings.warn(\"y_pred contains classes not in y_true\")\n"
     ]
    },
    {
     "name": "stdout",
     "output_type": "stream",
     "text": [
      "{'val_loss': 1.5522663863200061, 'val_accuracy': 0.6319526627218935, 'precision': 0.6813116633720895, 'recall': 0.6319526627218935, 'f1-score': 0.6439182063792306, 'macro_f1-score': 0.40255097587169153, 'balanced_accuracy': 0.4541400865679897, 'mcc': 0.5375604724524804, 'train_loss': 0.337090344327694}\n",
      "Epoch 7/20\n"
     ]
    },
    {
     "name": "stderr",
     "output_type": "stream",
     "text": [
      "100%|██████████| 771/771 [05:32<00:00,  2.32it/s]\n",
      "D:\\Anaconda3\\envs\\cuda\\Lib\\site-packages\\sklearn\\metrics\\_classification.py:2458: UserWarning: y_pred contains classes not in y_true\n",
      "  warnings.warn(\"y_pred contains classes not in y_true\")\n"
     ]
    },
    {
     "name": "stdout",
     "output_type": "stream",
     "text": [
      "{'val_loss': 1.604593959619414, 'val_accuracy': 0.6295857988165681, 'precision': 0.6607779707136102, 'recall': 0.6295857988165681, 'f1-score': 0.6343615417505077, 'macro_f1-score': 0.3828737007408099, 'balanced_accuracy': 0.42665110685107593, 'mcc': 0.5328264321453803, 'train_loss': 0.30929286541941486}\n",
      "Epoch 8/20\n"
     ]
    },
    {
     "name": "stderr",
     "output_type": "stream",
     "text": [
      "100%|██████████| 771/771 [05:32<00:00,  2.32it/s]\n",
      "D:\\Anaconda3\\envs\\cuda\\Lib\\site-packages\\sklearn\\metrics\\_classification.py:2458: UserWarning: y_pred contains classes not in y_true\n",
      "  warnings.warn(\"y_pred contains classes not in y_true\")\n"
     ]
    },
    {
     "name": "stdout",
     "output_type": "stream",
     "text": [
      "{'val_loss': 1.6036339374083393, 'val_accuracy': 0.6698224852071006, 'precision': 0.6776864103073341, 'recall': 0.6698224852071006, 'f1-score': 0.6641141200234807, 'macro_f1-score': 0.4082195570403778, 'balanced_accuracy': 0.4368753289297678, 'mcc': 0.5762734971419363, 'train_loss': 0.2811029221459102}\n",
      "Epoch 9/20\n"
     ]
    },
    {
     "name": "stderr",
     "output_type": "stream",
     "text": [
      "100%|██████████| 771/771 [05:32<00:00,  2.32it/s]\n",
      "D:\\Anaconda3\\envs\\cuda\\Lib\\site-packages\\sklearn\\metrics\\_classification.py:2458: UserWarning: y_pred contains classes not in y_true\n",
      "  warnings.warn(\"y_pred contains classes not in y_true\")\n"
     ]
    },
    {
     "name": "stdout",
     "output_type": "stream",
     "text": [
      "{'val_loss': 1.6544704476617418, 'val_accuracy': 0.6579881656804734, 'precision': 0.6993339511234292, 'recall': 0.6579881656804734, 'f1-score': 0.6648882709702727, 'macro_f1-score': 0.41941279619661154, 'balanced_accuracy': 0.4533876827034694, 'mcc': 0.569294278253488, 'train_loss': 0.26657970004440823}\n",
      "Epoch 10/20\n"
     ]
    },
    {
     "name": "stderr",
     "output_type": "stream",
     "text": [
      "100%|██████████| 771/771 [05:32<00:00,  2.32it/s]\n",
      "D:\\Anaconda3\\envs\\cuda\\Lib\\site-packages\\sklearn\\metrics\\_classification.py:2458: UserWarning: y_pred contains classes not in y_true\n",
      "  warnings.warn(\"y_pred contains classes not in y_true\")\n"
     ]
    },
    {
     "name": "stdout",
     "output_type": "stream",
     "text": [
      "{'val_loss': 1.6945736025864224, 'val_accuracy': 0.6544378698224852, 'precision': 0.6941486681899841, 'recall': 0.6544378698224852, 'f1-score': 0.6619837895793124, 'macro_f1-score': 0.39913245321415436, 'balanced_accuracy': 0.4325532520222286, 'mcc': 0.5629032328317922, 'train_loss': 0.2546928739537583}\n",
      "Epoch 11/20\n"
     ]
    },
    {
     "name": "stderr",
     "output_type": "stream",
     "text": [
      "100%|██████████| 771/771 [05:32<00:00,  2.32it/s]\n",
      "D:\\Anaconda3\\envs\\cuda\\Lib\\site-packages\\sklearn\\metrics\\_classification.py:2458: UserWarning: y_pred contains classes not in y_true\n",
      "  warnings.warn(\"y_pred contains classes not in y_true\")\n"
     ]
    },
    {
     "name": "stdout",
     "output_type": "stream",
     "text": [
      "{'val_loss': 1.7217450676099308, 'val_accuracy': 0.659171597633136, 'precision': 0.7019488549273417, 'recall': 0.659171597633136, 'f1-score': 0.6616489340616869, 'macro_f1-score': 0.3712780799916555, 'balanced_accuracy': 0.3931487076184552, 'mcc': 0.5624492846443286, 'train_loss': 0.2531352701751532}\n",
      "Epoch 12/20\n"
     ]
    },
    {
     "name": "stderr",
     "output_type": "stream",
     "text": [
      "100%|██████████| 771/771 [05:32<00:00,  2.32it/s]\n",
      "D:\\Anaconda3\\envs\\cuda\\Lib\\site-packages\\sklearn\\metrics\\_classification.py:2458: UserWarning: y_pred contains classes not in y_true\n",
      "  warnings.warn(\"y_pred contains classes not in y_true\")\n"
     ]
    },
    {
     "name": "stdout",
     "output_type": "stream",
     "text": [
      "{'val_loss': 1.6865210431926656, 'val_accuracy': 0.6828402366863905, 'precision': 0.6810803014649168, 'recall': 0.6828402366863905, 'f1-score': 0.6669259166668002, 'macro_f1-score': 0.40334253304853157, 'balanced_accuracy': 0.4033679538930657, 'mcc': 0.5760024991208283, 'train_loss': 0.2420052061595467}\n",
      "Early stopping.\n",
      "\n",
      "[Fold 10]\n",
      "Label distribution after resampling:\n",
      "  label 0: 2000\n",
      "  label 1: 200\n",
      "  label 2: 200\n",
      "  label 3: 200\n",
      "  label 4: 231\n",
      "  label 5: 200\n",
      "  label 6: 200\n",
      "  label 7: 200\n",
      "  label 8: 200\n",
      "  label 9: 200\n",
      "  label 10: 200\n",
      "  label 11: 200\n",
      "  label 12: 217\n",
      "  label 13: 200\n",
      "  label 14: 200\n",
      "  label 15: 200\n",
      "  label 16: 200\n",
      "  label 17: 260\n",
      "  label 18: 200\n",
      "  label 19: 200\n",
      "  label 20: 200\n",
      "  label 21: 200\n",
      "  label 22: 200\n",
      "  label 23: 200\n",
      "  label 24: 200\n",
      "  label 25: 200\n",
      "  label 26: 200\n",
      "  label 27: 200\n",
      "  label 28: 200\n",
      "  label 29: 200\n",
      "  label 30: 200\n",
      "  label 31: 200\n",
      "  label 32: 200\n",
      "  label 33: 200\n",
      "  label 34: 200\n",
      "  label 35: 200\n",
      "  label 36: 200\n",
      "  label 37: 200\n",
      "  label 38: 200\n",
      "  label 39: 200\n",
      "  label 40: 200\n",
      "  label 41: 200\n",
      "  label 42: 200\n",
      "  label 43: 200\n",
      "  label 44: 200\n",
      "  label 45: 200\n",
      "  label 46: 200\n",
      "  label 47: 595\n",
      "  label 48: 227\n",
      "  label 49: 200\n",
      "model is roberta-base\n"
     ]
    },
    {
     "name": "stderr",
     "output_type": "stream",
     "text": [
      "Some weights of RobertaForSequenceClassification were not initialized from the model checkpoint at roberta-base and are newly initialized: ['classifier.dense.bias', 'classifier.dense.weight', 'classifier.out_proj.bias', 'classifier.out_proj.weight']\n",
      "You should probably TRAIN this model on a down-stream task to be able to use it for predictions and inference.\n"
     ]
    },
    {
     "name": "stdout",
     "output_type": "stream",
     "text": [
      "Epoch 1/20\n"
     ]
    },
    {
     "name": "stderr",
     "output_type": "stream",
     "text": [
      "100%|██████████| 771/771 [05:31<00:00,  2.32it/s]\n",
      "D:\\Anaconda3\\envs\\cuda\\Lib\\site-packages\\sklearn\\metrics\\_classification.py:2458: UserWarning: y_pred contains classes not in y_true\n",
      "  warnings.warn(\"y_pred contains classes not in y_true\")\n"
     ]
    },
    {
     "name": "stdout",
     "output_type": "stream",
     "text": [
      "{'val_loss': 1.4601828275986437, 'val_accuracy': 0.5893491124260355, 'precision': 0.6124775711369107, 'recall': 0.5893491124260355, 'f1-score': 0.5830350295802772, 'macro_f1-score': 0.3127508169549781, 'balanced_accuracy': 0.35353276526852273, 'mcc': 0.4688049908883988, 'train_loss': 2.107669388505735}\n",
      "Epoch 2/20\n"
     ]
    },
    {
     "name": "stderr",
     "output_type": "stream",
     "text": [
      "100%|██████████| 771/771 [05:31<00:00,  2.32it/s]\n"
     ]
    },
    {
     "name": "stdout",
     "output_type": "stream",
     "text": [
      "{'val_loss': 1.377277230879046, 'val_accuracy': 0.6142011834319526, 'precision': 0.6588856466927078, 'recall': 0.6142011834319526, 'f1-score': 0.6146672576227662, 'macro_f1-score': 0.3656664202668578, 'balanced_accuracy': 0.43002256681110396, 'mcc': 0.5056957980316916, 'train_loss': 0.9578133427022187}\n",
      "Epoch 3/20\n"
     ]
    },
    {
     "name": "stderr",
     "output_type": "stream",
     "text": [
      "100%|██████████| 771/771 [05:32<00:00,  2.32it/s]\n",
      "D:\\Anaconda3\\envs\\cuda\\Lib\\site-packages\\sklearn\\metrics\\_classification.py:2458: UserWarning: y_pred contains classes not in y_true\n",
      "  warnings.warn(\"y_pred contains classes not in y_true\")\n"
     ]
    },
    {
     "name": "stdout",
     "output_type": "stream",
     "text": [
      "{'val_loss': 1.3200294060527153, 'val_accuracy': 0.6568047337278107, 'precision': 0.6934510666909418, 'recall': 0.6568047337278107, 'f1-score': 0.6582653234922001, 'macro_f1-score': 0.3955454096139694, 'balanced_accuracy': 0.4269322327002465, 'mcc': 0.5536511257443341, 'train_loss': 0.6285805274743282}\n",
      "Epoch 4/20\n"
     ]
    },
    {
     "name": "stderr",
     "output_type": "stream",
     "text": [
      "100%|██████████| 771/771 [05:31<00:00,  2.32it/s]\n",
      "D:\\Anaconda3\\envs\\cuda\\Lib\\site-packages\\sklearn\\metrics\\_classification.py:2458: UserWarning: y_pred contains classes not in y_true\n",
      "  warnings.warn(\"y_pred contains classes not in y_true\")\n"
     ]
    },
    {
     "name": "stdout",
     "output_type": "stream",
     "text": [
      "{'val_loss': 1.4438285883867517, 'val_accuracy': 0.6662721893491125, 'precision': 0.69742311003922, 'recall': 0.6662721893491125, 'f1-score': 0.6680774047666658, 'macro_f1-score': 0.3988683330768156, 'balanced_accuracy': 0.4187598743403982, 'mcc': 0.5638440686208341, 'train_loss': 0.4814338534055749}\n",
      "Epoch 5/20\n"
     ]
    },
    {
     "name": "stderr",
     "output_type": "stream",
     "text": [
      "100%|██████████| 771/771 [05:32<00:00,  2.32it/s]\n"
     ]
    },
    {
     "name": "stdout",
     "output_type": "stream",
     "text": [
      "{'val_loss': 1.5421526949360687, 'val_accuracy': 0.6402366863905326, 'precision': 0.677041599713326, 'recall': 0.6402366863905326, 'f1-score': 0.6474494430948532, 'macro_f1-score': 0.3763337917606302, 'balanced_accuracy': 0.40194714346159827, 'mcc': 0.5408634232479068, 'train_loss': 0.4162818133159409}\n",
      "Epoch 6/20\n"
     ]
    },
    {
     "name": "stderr",
     "output_type": "stream",
     "text": [
      "100%|██████████| 771/771 [05:31<00:00,  2.32it/s]\n"
     ]
    },
    {
     "name": "stdout",
     "output_type": "stream",
     "text": [
      "{'val_loss': 1.5106127644484897, 'val_accuracy': 0.6615384615384615, 'precision': 0.6729705698961218, 'recall': 0.6615384615384615, 'f1-score': 0.6566392640435749, 'macro_f1-score': 0.3920769144681456, 'balanced_accuracy': 0.393041091288494, 'mcc': 0.5589661969045729, 'train_loss': 0.35082842939896886}\n",
      "Epoch 7/20\n"
     ]
    },
    {
     "name": "stderr",
     "output_type": "stream",
     "text": [
      "100%|██████████| 771/771 [05:31<00:00,  2.32it/s]\n"
     ]
    },
    {
     "name": "stdout",
     "output_type": "stream",
     "text": [
      "{'val_loss': 1.7715059023983073, 'val_accuracy': 0.58698224852071, 'precision': 0.6571841573983734, 'recall': 0.58698224852071, 'f1-score': 0.5951754676084019, 'macro_f1-score': 0.35849663723414404, 'balanced_accuracy': 0.40632025931463833, 'mcc': 0.49266943837410115, 'train_loss': 0.31492134987771625}\n",
      "Early stopping.\n",
      "\n",
      " === roberta-base + plain + ros Final 10-fold Cross-Validation Results ===\n",
      "Total time: 30159 seconds\n",
      "Total time: 8 hrs 22 mins 39 secs\n",
      "val_loss: 1.5556\n",
      "val_accuracy: 0.6524\n",
      "precision: 0.6839\n",
      "recall: 0.6524\n",
      "f1-score: 0.6542\n",
      "macro_f1-score: 0.4149\n",
      "balanced_accuracy: 0.4482\n",
      "mcc: 0.5541\n",
      "train_loss: 0.3870\n"
     ]
    }
   ],
   "source": [
    "model_list = [\"roberta-base\"]\n",
    "hybrid_list = [None]\n",
    "resample_list = [\"ros\"]\n",
    "\n",
    "for model_name in model_list:\n",
    "    for hybrid_type in hybrid_list:\n",
    "        for resample_method in resample_list:\n",
    "            results = run_kfold_experiment(\n",
    "                X=messages, y=labels, model_name=model_name, hybrid_type=hybrid_type, resample_method=resample_method,\n",
    "                kfold=KFOLD_SPLIT, seed=SEED, epochs=EPOCHS, patience=PATIENCE, max_length=MAX_LENGTH, \n",
    "                batch_size=BATCH_SIZE, lr=LR, weight_decay=WEIGHT_DECAY\n",
    "            )"
   ]
  },
  {
   "cell_type": "code",
   "execution_count": 5,
   "id": "ec792735-5337-4675-a201-30ec3a0415ca",
   "metadata": {},
   "outputs": [
    {
     "data": {
      "text/plain": [
       "[{'val_loss': 1.618226392089196,\n",
       "  'val_accuracy': 0.6513002364066194,\n",
       "  'precision': 0.6683655008695187,\n",
       "  'recall': 0.6513002364066194,\n",
       "  'f1-score': 0.6459772363812767,\n",
       "  'macro_f1-score': 0.4067202737377287,\n",
       "  'balanced_accuracy': 0.43348675261177594,\n",
       "  'mcc': 0.5441714596420232,\n",
       "  'train_loss': 0.3450568572819793},\n",
       " {'val_loss': 1.6590178254640326,\n",
       "  'val_accuracy': 0.6595744680851063,\n",
       "  'precision': 0.6748798333235775,\n",
       "  'recall': 0.6595744680851063,\n",
       "  'f1-score': 0.6557971455595841,\n",
       "  'macro_f1-score': 0.4193969977193798,\n",
       "  'balanced_accuracy': 0.4274389592444175,\n",
       "  'mcc': 0.5544608702234741,\n",
       "  'train_loss': 0.272748998515477},\n",
       " {'val_loss': 1.659696782534977,\n",
       "  'val_accuracy': 0.6217494089834515,\n",
       "  'precision': 0.6922753523167684,\n",
       "  'recall': 0.6217494089834515,\n",
       "  'f1-score': 0.640662256982747,\n",
       "  'macro_f1-score': 0.4241227420912756,\n",
       "  'balanced_accuracy': 0.47265535713251877,\n",
       "  'mcc': 0.5318854778297925,\n",
       "  'train_loss': 0.4961366219743217},\n",
       " {'val_loss': 1.6055821439005293,\n",
       "  'val_accuracy': 0.6548463356973995,\n",
       "  'precision': 0.6743316692514664,\n",
       "  'recall': 0.6548463356973995,\n",
       "  'f1-score': 0.6549360218451,\n",
       "  'macro_f1-score': 0.4363529526687375,\n",
       "  'balanced_accuracy': 0.4673974397615707,\n",
       "  'mcc': 0.5566236607244486,\n",
       "  'train_loss': 0.3456820339790694},\n",
       " {'val_loss': 1.5046306272160332,\n",
       "  'val_accuracy': 0.6319526627218935,\n",
       "  'precision': 0.6805621405433755,\n",
       "  'recall': 0.6319526627218935,\n",
       "  'f1-score': 0.633985236260498,\n",
       "  'macro_f1-score': 0.3719239250258702,\n",
       "  'balanced_accuracy': 0.4190006384196905,\n",
       "  'mcc': 0.5327956300604577,\n",
       "  'train_loss': 0.43370409629243667},\n",
       " {'val_loss': 1.5981127912143491,\n",
       "  'val_accuracy': 0.6615384615384615,\n",
       "  'precision': 0.6928951187474116,\n",
       "  'recall': 0.6615384615384615,\n",
       "  'f1-score': 0.6631260252843446,\n",
       "  'macro_f1-score': 0.4158287282679385,\n",
       "  'balanced_accuracy': 0.4717096956905929,\n",
       "  'mcc': 0.5646885804045009,\n",
       "  'train_loss': 0.3444296739447074},\n",
       " {'val_loss': 1.3478789874967538,\n",
       "  'val_accuracy': 0.6461538461538462,\n",
       "  'precision': 0.6926736653968891,\n",
       "  'recall': 0.6461538461538462,\n",
       "  'f1-score': 0.6565471704197393,\n",
       "  'macro_f1-score': 0.4406127821401967,\n",
       "  'balanced_accuracy': 0.4922276531871736,\n",
       "  'mcc': 0.559078312249795,\n",
       "  'train_loss': 0.5786622722093233},\n",
       " {'val_loss': 1.4646248170789682,\n",
       "  'val_accuracy': 0.672189349112426,\n",
       "  'precision': 0.6660200025071522,\n",
       "  'recall': 0.672189349112426,\n",
       "  'f1-score': 0.6584025988876834,\n",
       "  'macro_f1-score': 0.41576708824241154,\n",
       "  'balanced_accuracy': 0.4254477877707106,\n",
       "  'mcc': 0.5636686994551666,\n",
       "  'train_loss': 0.3058679118044626},\n",
       " {'val_loss': 1.6544704476617418,\n",
       "  'val_accuracy': 0.6579881656804734,\n",
       "  'precision': 0.6993339511234292,\n",
       "  'recall': 0.6579881656804734,\n",
       "  'f1-score': 0.6648882709702727,\n",
       "  'macro_f1-score': 0.41941279619661154,\n",
       "  'balanced_accuracy': 0.4533876827034694,\n",
       "  'mcc': 0.569294278253488,\n",
       "  'train_loss': 0.26657970004440823},\n",
       " {'val_loss': 1.4438285883867517,\n",
       "  'val_accuracy': 0.6662721893491125,\n",
       "  'precision': 0.69742311003922,\n",
       "  'recall': 0.6662721893491125,\n",
       "  'f1-score': 0.6680774047666658,\n",
       "  'macro_f1-score': 0.3988683330768156,\n",
       "  'balanced_accuracy': 0.4187598743403982,\n",
       "  'mcc': 0.5638440686208341,\n",
       "  'train_loss': 0.4814338534055749}]"
      ]
     },
     "execution_count": 5,
     "metadata": {},
     "output_type": "execute_result"
    }
   ],
   "source": [
    "results"
   ]
  },
  {
   "cell_type": "code",
   "execution_count": null,
   "id": "3c633d6f-3117-4e62-a92c-c50fb863c194",
   "metadata": {},
   "outputs": [],
   "source": []
  },
  {
   "cell_type": "code",
   "execution_count": null,
   "id": "a979ee3d-a4b6-4ea5-8247-fe041653243b",
   "metadata": {},
   "outputs": [],
   "source": []
  }
 ],
 "metadata": {
  "kernelspec": {
   "display_name": "Python 3 (ipykernel)",
   "language": "python",
   "name": "python3"
  },
  "language_info": {
   "codemirror_mode": {
    "name": "ipython",
    "version": 3
   },
   "file_extension": ".py",
   "mimetype": "text/x-python",
   "name": "python",
   "nbconvert_exporter": "python",
   "pygments_lexer": "ipython3",
   "version": "3.11.9"
  }
 },
 "nbformat": 4,
 "nbformat_minor": 5
}
