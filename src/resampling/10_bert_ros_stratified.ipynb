{
 "cells": [
  {
   "cell_type": "code",
   "execution_count": 1,
   "id": "2e76aa66-729a-4bf9-98b9-61d8114e9f3a",
   "metadata": {},
   "outputs": [
    {
     "data": {
      "text/html": [
       "<div>\n",
       "<style scoped>\n",
       "    .dataframe tbody tr th:only-of-type {\n",
       "        vertical-align: middle;\n",
       "    }\n",
       "\n",
       "    .dataframe tbody tr th {\n",
       "        vertical-align: top;\n",
       "    }\n",
       "\n",
       "    .dataframe thead th {\n",
       "        text-align: right;\n",
       "    }\n",
       "</style>\n",
       "<table border=\"1\" class=\"dataframe\">\n",
       "  <thead>\n",
       "    <tr style=\"text-align: right;\">\n",
       "      <th></th>\n",
       "      <th>Inbound Message</th>\n",
       "      <th>Label</th>\n",
       "    </tr>\n",
       "  </thead>\n",
       "  <tbody>\n",
       "    <tr>\n",
       "      <th>0</th>\n",
       "      <td>login issue verified user details employee man...</td>\n",
       "      <td>0</td>\n",
       "    </tr>\n",
       "    <tr>\n",
       "      <th>1</th>\n",
       "      <td>outlook hello team meetings skype meetings etc...</td>\n",
       "      <td>0</td>\n",
       "    </tr>\n",
       "    <tr>\n",
       "      <th>2</th>\n",
       "      <td>cant log vpn cannot log vpn best</td>\n",
       "      <td>0</td>\n",
       "    </tr>\n",
       "    <tr>\n",
       "      <th>3</th>\n",
       "      <td>unable access tool page unable access tool page</td>\n",
       "      <td>0</td>\n",
       "    </tr>\n",
       "    <tr>\n",
       "      <th>4</th>\n",
       "      <td>skype error skype error</td>\n",
       "      <td>0</td>\n",
       "    </tr>\n",
       "    <tr>\n",
       "      <th>...</th>\n",
       "      <td>...</td>\n",
       "      <td>...</td>\n",
       "    </tr>\n",
       "    <tr>\n",
       "      <th>8449</th>\n",
       "      <td>emails coming mail good afternoon receiving em...</td>\n",
       "      <td>22</td>\n",
       "    </tr>\n",
       "    <tr>\n",
       "      <th>8450</th>\n",
       "      <td>telephony software issue telephony software issue</td>\n",
       "      <td>0</td>\n",
       "    </tr>\n",
       "    <tr>\n",
       "      <th>8451</th>\n",
       "      <td>vip windows password reset tifpdchb pedxruyf v...</td>\n",
       "      <td>0</td>\n",
       "    </tr>\n",
       "    <tr>\n",
       "      <th>8452</th>\n",
       "      <td>machine est funcionando unable access machine ...</td>\n",
       "      <td>44</td>\n",
       "    </tr>\n",
       "    <tr>\n",
       "      <th>8453</th>\n",
       "      <td>mehreren lassen sich verschiedene prgramdntyme...</td>\n",
       "      <td>49</td>\n",
       "    </tr>\n",
       "  </tbody>\n",
       "</table>\n",
       "<p>8454 rows × 2 columns</p>\n",
       "</div>"
      ],
      "text/plain": [
       "                                        Inbound Message  Label\n",
       "0     login issue verified user details employee man...      0\n",
       "1     outlook hello team meetings skype meetings etc...      0\n",
       "2                      cant log vpn cannot log vpn best      0\n",
       "3       unable access tool page unable access tool page      0\n",
       "4                               skype error skype error      0\n",
       "...                                                 ...    ...\n",
       "8449  emails coming mail good afternoon receiving em...     22\n",
       "8450  telephony software issue telephony software issue      0\n",
       "8451  vip windows password reset tifpdchb pedxruyf v...      0\n",
       "8452  machine est funcionando unable access machine ...     44\n",
       "8453  mehreren lassen sich verschiedene prgramdntyme...     49\n",
       "\n",
       "[8454 rows x 2 columns]"
      ]
     },
     "execution_count": 1,
     "metadata": {},
     "output_type": "execute_result"
    }
   ],
   "source": [
    "import pandas as pd\n",
    "data_path = \"../../data/open_source_8454_combine_short_description.csv\"  # 替換為你的檔案路徑\n",
    "df = pd.read_csv(data_path)\n",
    "# df_label_0 = df[df[\"Label\"] == 0]\n",
    "# df_label_0_to_drop = df_label_0.sample(n=3000, random_state=42)\n",
    "# df = df.drop(df_label_0_to_drop.index)\n",
    "df"
   ]
  },
  {
   "cell_type": "markdown",
   "id": "e79be804-d1e3-463a-824f-d4765544e493",
   "metadata": {},
   "source": [
    "# 十折驗證法"
   ]
  },
  {
   "cell_type": "code",
   "execution_count": 2,
   "id": "7e6a5029-3898-4bab-8d6c-bfd1a3694153",
   "metadata": {},
   "outputs": [
    {
     "name": "stdout",
     "output_type": "stream",
     "text": [
      "Using device: cuda\n",
      "CUDA Available: True\n",
      "CUDA Device: NVIDIA GeForce RTX 3050 6GB Laptop GPU\n",
      "Current GPU Memory Allocated: 0.0 GB\n",
      "Current GPU Memory Cached: 0.0 GB\n"
     ]
    }
   ],
   "source": [
    "import torch\n",
    "device = torch.device('cuda') if torch.cuda.is_available() else torch.device('cpu')\n",
    "print(f\"Using device: {device}\") \n",
    "print(f\"CUDA Available: {torch.cuda.is_available()}\")\n",
    "print(f\"CUDA Device: {torch.cuda.get_device_name(0)}\")\n",
    "print(f\"Current GPU Memory Allocated: {torch.cuda.memory_allocated() / 1e9} GB\")\n",
    "print(f\"Current GPU Memory Cached: {torch.cuda.memory_reserved() / 1e9} GB\")"
   ]
  },
  {
   "cell_type": "code",
   "execution_count": 3,
   "id": "833a0227-7775-4659-a98c-48c3fbdc9db9",
   "metadata": {},
   "outputs": [],
   "source": [
    "from torch.utils.data import Dataset\n",
    "class CustomDataset(Dataset):\n",
    "    def __init__(self, messages, labels, tokenizer, max_length):\n",
    "        self.messages = messages\n",
    "        self.labels = labels\n",
    "        self.tokenizer = tokenizer\n",
    "        self.max_length = max_length\n",
    "\n",
    "    def __len__(self):\n",
    "        return len(self.messages)\n",
    "\n",
    "    def __getitem__(self, idx):\n",
    "        message = str(self.messages[idx])\n",
    "        label = self.labels[idx]\n",
    "        \n",
    "        encoding = self.tokenizer.encode_plus(\n",
    "            message,\n",
    "            max_length=self.max_length,\n",
    "            add_special_tokens=True,\n",
    "            padding='max_length',\n",
    "            truncation=True,\n",
    "            return_attention_mask=True,\n",
    "            return_tensors='pt'\n",
    "        )\n",
    "        \n",
    "        return {\n",
    "            'input_ids': encoding['input_ids'].flatten(),\n",
    "            'attention_mask': encoding['attention_mask'].flatten(),\n",
    "            'labels': torch.tensor(label, dtype=torch.long)\n",
    "        }"
   ]
  },
  {
   "cell_type": "code",
   "execution_count": 4,
   "id": "985bf187-a1b5-4882-9e52-2cbc0188e8a6",
   "metadata": {},
   "outputs": [],
   "source": [
    "# 定義訓練與評估函數\n",
    "def train_epoch(model, dataloader, optimizer, criterion):\n",
    "    model.train()\n",
    "    total_loss = 0\n",
    "\n",
    "    for batch in tqdm(dataloader):\n",
    "        optimizer.zero_grad()\n",
    "\n",
    "        input_ids = batch['input_ids'].to(device)\n",
    "        attention_mask = batch['attention_mask'].to(device)\n",
    "        labels = batch['labels'].to(device)\n",
    "\n",
    "        outputs = model(input_ids=input_ids, attention_mask=attention_mask, labels=labels)\n",
    "        loss = outputs.loss\n",
    "        total_loss += loss.item()\n",
    "\n",
    "        loss.backward()\n",
    "        optimizer.step()\n",
    "    \n",
    "    return total_loss / len(dataloader)"
   ]
  },
  {
   "cell_type": "code",
   "execution_count": 5,
   "id": "7dceb8a1-edf1-42fe-ac48-dc84ed4709cf",
   "metadata": {},
   "outputs": [],
   "source": [
    "from sklearn.metrics import precision_score, recall_score, f1_score, balanced_accuracy_score, matthews_corrcoef\n",
    "from sklearn.preprocessing import label_binarize\n",
    "import numpy as np\n",
    "import torch\n",
    "\n",
    "def eval_model(model, dataloader, criterion, num_labels):\n",
    "    model.eval()\n",
    "    total_loss = 0\n",
    "    all_labels = []\n",
    "    all_preds = []\n",
    "    all_probs = []\n",
    "    \n",
    "    with torch.no_grad():\n",
    "        for batch in dataloader:\n",
    "            input_ids = batch['input_ids'].to(device)\n",
    "            attention_mask = batch['attention_mask'].to(device)\n",
    "            labels = batch['labels'].to(device)\n",
    "\n",
    "            outputs = model(input_ids=input_ids, attention_mask=attention_mask)\n",
    "            logits = outputs.logits\n",
    "            loss = criterion(logits, labels)\n",
    "            total_loss += loss.item()\n",
    "\n",
    "            probs = torch.softmax(logits, dim=1)\n",
    "            _, preds = torch.max(logits, dim=1)\n",
    "\n",
    "            all_labels.extend(labels.cpu().numpy())\n",
    "            all_preds.extend(preds.cpu().numpy())\n",
    "            all_probs.extend(probs.cpu().numpy())\n",
    "\n",
    "    val_loss = total_loss / len(dataloader)\n",
    "    val_accuracy = np.mean(np.array(all_preds) == np.array(all_labels))\n",
    "    precision = precision_score(all_labels, all_preds, average='weighted', zero_division=0)\n",
    "    recall = recall_score(all_labels, all_preds, average='weighted', zero_division=0)\n",
    "    f1 = f1_score(all_labels, all_preds, average='weighted', zero_division=0)\n",
    "    macro_f1 = f1_score(all_labels, all_preds, average='macro', zero_division=0)\n",
    "    balanced_acc = balanced_accuracy_score(all_labels, all_preds)\n",
    "    mcc = matthews_corrcoef(all_labels, all_preds)\n",
    "\n",
    "    return {\n",
    "        \"val_loss\": val_loss,\n",
    "        \"val_accuracy\": val_accuracy,\n",
    "        \"precision\": precision,\n",
    "        \"recall\": recall,\n",
    "        \"f1-score\": f1,\n",
    "        \"macro_f1-score\": macro_f1,\n",
    "        \"balanced_accuracy\": balanced_acc,\n",
    "        \"mcc\": mcc\n",
    "    }"
   ]
  },
  {
   "cell_type": "code",
   "execution_count": 6,
   "id": "0217a72c-db4d-4875-8a00-33f2dae9de5e",
   "metadata": {},
   "outputs": [],
   "source": [
    "from transformers import BertTokenizer, BertForSequenceClassification\n",
    "from sklearn.model_selection import StratifiedKFold\n",
    "# 設定參數\n",
    "MAX_LENGTH = 128\n",
    "BATCH_SIZE = 16\n",
    "EPOCHS = 20\n",
    "\n",
    "# 初始化 BERT 的 tokenizer\n",
    "tokenizer = BertTokenizer.from_pretrained('bert-base-uncased')\n",
    "\n",
    "# 初始化數據\n",
    "messages = df['Inbound Message'].tolist()\n",
    "labels = df['Label'].tolist()\n",
    "\n",
    "# KFold 初始化\n",
    "skf = StratifiedKFold(n_splits=10, shuffle=True, random_state=42)"
   ]
  },
  {
   "cell_type": "code",
   "execution_count": 7,
   "id": "ee99c1b8-2fc7-483a-8cb6-d375039c6cb1",
   "metadata": {
    "scrolled": true
   },
   "outputs": [
    {
     "name": "stderr",
     "output_type": "stream",
     "text": [
      "D:\\Anaconda3\\envs\\cuda\\Lib\\site-packages\\sklearn\\model_selection\\_split.py:737: UserWarning: The least populated class in y has only 7 members, which is less than n_splits=10.\n",
      "  warnings.warn(\n"
     ]
    },
    {
     "name": "stdout",
     "output_type": "stream",
     "text": [
      "Fold 1\n",
      "Training set label distribution: {0: 3576, 1: 28, 2: 126, 3: 27, 4: 231, 5: 130, 6: 107, 7: 35, 8: 76, 9: 73, 10: 79, 11: 194, 12: 217, 13: 32, 14: 26, 15: 28, 16: 23, 17: 260, 18: 104, 19: 51, 20: 16, 21: 39, 22: 88, 23: 180, 24: 18, 25: 56, 26: 97, 27: 55, 28: 13, 29: 15, 30: 17, 31: 90, 32: 40, 33: 36, 34: 34, 35: 13, 36: 32, 37: 24, 38: 7, 39: 116, 40: 13, 41: 9, 42: 166, 43: 18, 44: 22, 45: 10, 46: 61, 47: 595, 48: 227, 49: 78}\n",
      "Validation set label distribution: {0: 398, 1: 3, 2: 14, 3: 3, 4: 26, 5: 15, 6: 11, 7: 4, 8: 9, 9: 8, 10: 9, 11: 21, 12: 24, 13: 4, 14: 3, 15: 3, 16: 2, 17: 29, 18: 12, 19: 5, 20: 2, 21: 5, 22: 9, 23: 20, 24: 2, 25: 7, 26: 10, 27: 6, 28: 2, 29: 1, 30: 2, 31: 10, 32: 5, 33: 4, 34: 3, 35: 2, 36: 3, 37: 3, 39: 13, 40: 1, 41: 2, 42: 18, 43: 2, 44: 3, 45: 1, 46: 7, 47: 66, 48: 25, 49: 9}\n",
      "avg_label_size: 152\n"
     ]
    },
    {
     "name": "stderr",
     "output_type": "stream",
     "text": [
      "Some weights of BertForSequenceClassification were not initialized from the model checkpoint at bert-base-uncased and are newly initialized: ['classifier.bias', 'classifier.weight']\n",
      "You should probably TRAIN this model on a down-stream task to be able to use it for predictions and inference.\n"
     ]
    },
    {
     "name": "stdout",
     "output_type": "stream",
     "text": [
      "Epoch 1/20\n"
     ]
    },
    {
     "name": "stderr",
     "output_type": "stream",
     "text": [
      "100%|██████████| 743/743 [05:13<00:00,  2.37it/s]\n"
     ]
    },
    {
     "name": "stdout",
     "output_type": "stream",
     "text": [
      "{'val_loss': 1.4354290287449676, 'val_accuracy': 0.6312056737588653, 'precision': 0.6303157487025659, 'recall': 0.6312056737588653, 'f1-score': 0.5778762596702014, 'macro_f1-score': 0.2992568822589959, 'balanced_accuracy': 0.3342009542415513, 'mcc': 0.4886858199947117}\n",
      "Epoch 2/20\n"
     ]
    },
    {
     "name": "stderr",
     "output_type": "stream",
     "text": [
      "100%|██████████| 743/743 [05:14<00:00,  2.36it/s]\n",
      "D:\\Anaconda3\\envs\\cuda\\Lib\\site-packages\\sklearn\\metrics\\_classification.py:2458: UserWarning: y_pred contains classes not in y_true\n",
      "  warnings.warn(\"y_pred contains classes not in y_true\")\n"
     ]
    },
    {
     "name": "stdout",
     "output_type": "stream",
     "text": [
      "{'val_loss': 1.3752841072262458, 'val_accuracy': 0.6595744680851063, 'precision': 0.6961857960644039, 'recall': 0.6595744680851063, 'f1-score': 0.6503099508256422, 'macro_f1-score': 0.4005950290927472, 'balanced_accuracy': 0.44672649320015284, 'mcc': 0.5484793832437574}\n",
      "Epoch 3/20\n"
     ]
    },
    {
     "name": "stderr",
     "output_type": "stream",
     "text": [
      "100%|██████████| 743/743 [05:15<00:00,  2.36it/s]\n"
     ]
    },
    {
     "name": "stdout",
     "output_type": "stream",
     "text": [
      "{'val_loss': 1.2916429723208804, 'val_accuracy': 0.693853427895981, 'precision': 0.6774667576972542, 'recall': 0.693853427895981, 'f1-score': 0.6640638060692088, 'macro_f1-score': 0.4016391151685814, 'balanced_accuracy': 0.3896598151340901, 'mcc': 0.5837335715018253}\n",
      "Epoch 4/20\n"
     ]
    },
    {
     "name": "stderr",
     "output_type": "stream",
     "text": [
      "100%|██████████| 743/743 [05:13<00:00,  2.37it/s]\n"
     ]
    },
    {
     "name": "stdout",
     "output_type": "stream",
     "text": [
      "{'val_loss': 1.4894741008866508, 'val_accuracy': 0.6891252955082743, 'precision': 0.6721954314092364, 'recall': 0.6891252955082743, 'f1-score': 0.6603640806470911, 'macro_f1-score': 0.39713529618625065, 'balanced_accuracy': 0.3739914990646303, 'mcc': 0.5737234998589886}\n",
      "Epoch 5/20\n"
     ]
    },
    {
     "name": "stderr",
     "output_type": "stream",
     "text": [
      "100%|██████████| 743/743 [05:16<00:00,  2.35it/s]\n"
     ]
    },
    {
     "name": "stdout",
     "output_type": "stream",
     "text": [
      "{'val_loss': 1.4172489440666054, 'val_accuracy': 0.6867612293144209, 'precision': 0.6986652163048981, 'recall': 0.6867612293144209, 'f1-score': 0.6752979789748187, 'macro_f1-score': 0.43357891822649586, 'balanced_accuracy': 0.42409259881038197, 'mcc': 0.5786132021491989}\n",
      "Epoch 6/20\n"
     ]
    },
    {
     "name": "stderr",
     "output_type": "stream",
     "text": [
      "100%|██████████| 743/743 [05:15<00:00,  2.36it/s]\n"
     ]
    },
    {
     "name": "stdout",
     "output_type": "stream",
     "text": [
      "{'val_loss': 1.6120480625134594, 'val_accuracy': 0.66548463356974, 'precision': 0.6828045811103565, 'recall': 0.66548463356974, 'f1-score': 0.6603751818635061, 'macro_f1-score': 0.4276193593985929, 'balanced_accuracy': 0.4232859272667037, 'mcc': 0.5640666494318938}\n",
      "Epoch 7/20\n"
     ]
    },
    {
     "name": "stderr",
     "output_type": "stream",
     "text": [
      "100%|██████████| 743/743 [05:14<00:00,  2.36it/s]\n"
     ]
    },
    {
     "name": "stdout",
     "output_type": "stream",
     "text": [
      "{'val_loss': 1.670332964861168, 'val_accuracy': 0.6749408983451537, 'precision': 0.6699722543897685, 'recall': 0.6749408983451537, 'f1-score': 0.6626565183708538, 'macro_f1-score': 0.4265326188738556, 'balanced_accuracy': 0.4314454991604108, 'mcc': 0.5718274503469193}\n",
      "Epoch 8/20\n"
     ]
    },
    {
     "name": "stderr",
     "output_type": "stream",
     "text": [
      "100%|██████████| 743/743 [05:15<00:00,  2.36it/s]\n"
     ]
    },
    {
     "name": "stdout",
     "output_type": "stream",
     "text": [
      "{'val_loss': 1.65867303115017, 'val_accuracy': 0.6761229314420804, 'precision': 0.6737217166565463, 'recall': 0.6761229314420804, 'f1-score': 0.6640306436197587, 'macro_f1-score': 0.4329338686358534, 'balanced_accuracy': 0.4523930073818503, 'mcc': 0.5759308317853691}\n",
      "Early stopping triggered at epoch 8\n",
      "Fold 2\n",
      "Training set label distribution: {0: 3576, 1: 28, 2: 126, 3: 27, 4: 231, 5: 131, 6: 106, 7: 35, 8: 76, 9: 73, 10: 79, 11: 194, 12: 217, 13: 32, 14: 26, 15: 28, 16: 23, 17: 260, 18: 104, 19: 51, 20: 16, 21: 39, 22: 88, 23: 180, 24: 18, 25: 56, 26: 97, 27: 55, 28: 13, 29: 15, 30: 17, 31: 90, 32: 40, 33: 36, 34: 34, 35: 13, 36: 32, 37: 24, 38: 6, 39: 116, 40: 13, 41: 10, 42: 166, 43: 18, 44: 22, 45: 10, 46: 61, 47: 595, 48: 227, 49: 78}\n",
      "Validation set label distribution: {0: 398, 1: 3, 2: 14, 3: 3, 4: 26, 5: 14, 6: 12, 7: 4, 8: 9, 9: 8, 10: 9, 11: 21, 12: 24, 13: 4, 14: 3, 15: 3, 16: 2, 17: 29, 18: 12, 19: 5, 20: 2, 21: 5, 22: 9, 23: 20, 24: 2, 25: 7, 26: 10, 27: 6, 28: 2, 29: 1, 30: 2, 31: 10, 32: 5, 33: 4, 34: 3, 35: 2, 36: 3, 37: 3, 38: 1, 39: 13, 40: 1, 41: 1, 42: 18, 43: 2, 44: 3, 45: 1, 46: 7, 47: 66, 48: 25, 49: 9}\n",
      "avg_label_size: 152\n"
     ]
    },
    {
     "name": "stderr",
     "output_type": "stream",
     "text": [
      "Some weights of BertForSequenceClassification were not initialized from the model checkpoint at bert-base-uncased and are newly initialized: ['classifier.bias', 'classifier.weight']\n",
      "You should probably TRAIN this model on a down-stream task to be able to use it for predictions and inference.\n"
     ]
    },
    {
     "name": "stdout",
     "output_type": "stream",
     "text": [
      "Epoch 1/20\n"
     ]
    },
    {
     "name": "stderr",
     "output_type": "stream",
     "text": [
      "100%|██████████| 743/743 [05:14<00:00,  2.36it/s]\n"
     ]
    },
    {
     "name": "stdout",
     "output_type": "stream",
     "text": [
      "{'val_loss': 1.3569500097688638, 'val_accuracy': 0.6394799054373522, 'precision': 0.6179359944522628, 'recall': 0.6394799054373522, 'f1-score': 0.5869820279216329, 'macro_f1-score': 0.3074199591543637, 'balanced_accuracy': 0.3275294791175054, 'mcc': 0.5013105128209998}\n",
      "Epoch 2/20\n"
     ]
    },
    {
     "name": "stderr",
     "output_type": "stream",
     "text": [
      "100%|██████████| 743/743 [05:14<00:00,  2.36it/s]\n"
     ]
    },
    {
     "name": "stdout",
     "output_type": "stream",
     "text": [
      "{'val_loss': 1.2624031985705753, 'val_accuracy': 0.6666666666666666, 'precision': 0.6245490875454623, 'recall': 0.6666666666666666, 'f1-score': 0.6195258410736417, 'macro_f1-score': 0.3470085646253052, 'balanced_accuracy': 0.3459337676744018, 'mcc': 0.5412667898311184}\n",
      "Epoch 3/20\n"
     ]
    },
    {
     "name": "stderr",
     "output_type": "stream",
     "text": [
      "100%|██████████| 743/743 [05:14<00:00,  2.36it/s]\n"
     ]
    },
    {
     "name": "stdout",
     "output_type": "stream",
     "text": [
      "{'val_loss': 1.317785066253734, 'val_accuracy': 0.6477541371158393, 'precision': 0.6835107682041324, 'recall': 0.6477541371158393, 'f1-score': 0.6428080260051393, 'macro_f1-score': 0.3806194030878077, 'balanced_accuracy': 0.3974833380293439, 'mcc': 0.5474975227430735}\n",
      "Epoch 4/20\n"
     ]
    },
    {
     "name": "stderr",
     "output_type": "stream",
     "text": [
      "100%|██████████| 743/743 [05:15<00:00,  2.35it/s]\n"
     ]
    },
    {
     "name": "stdout",
     "output_type": "stream",
     "text": [
      "{'val_loss': 1.408329132311749, 'val_accuracy': 0.6808510638297872, 'precision': 0.6636831005052034, 'recall': 0.6808510638297872, 'f1-score': 0.6545652482725719, 'macro_f1-score': 0.3687300100439747, 'balanced_accuracy': 0.35836384813899974, 'mcc': 0.5670659869905342}\n",
      "Epoch 5/20\n"
     ]
    },
    {
     "name": "stderr",
     "output_type": "stream",
     "text": [
      "100%|██████████| 743/743 [05:15<00:00,  2.35it/s]\n"
     ]
    },
    {
     "name": "stdout",
     "output_type": "stream",
     "text": [
      "{'val_loss': 1.4545577050379987, 'val_accuracy': 0.6572104018912529, 'precision': 0.6806182961750705, 'recall': 0.6572104018912529, 'f1-score': 0.64933449773395, 'macro_f1-score': 0.3822874921527913, 'balanced_accuracy': 0.37970505567518215, 'mcc': 0.5558741966788165}\n",
      "Epoch 6/20\n"
     ]
    },
    {
     "name": "stderr",
     "output_type": "stream",
     "text": [
      "100%|██████████| 743/743 [05:16<00:00,  2.35it/s]\n"
     ]
    },
    {
     "name": "stdout",
     "output_type": "stream",
     "text": [
      "{'val_loss': 1.498795084233554, 'val_accuracy': 0.6867612293144209, 'precision': 0.6696810404309412, 'recall': 0.6867612293144209, 'f1-score': 0.6630697107094278, 'macro_f1-score': 0.3852732296109742, 'balanced_accuracy': 0.3789226439495543, 'mcc': 0.5801702127324276}\n",
      "Epoch 7/20\n"
     ]
    },
    {
     "name": "stderr",
     "output_type": "stream",
     "text": [
      "100%|██████████| 743/743 [05:15<00:00,  2.35it/s]\n"
     ]
    },
    {
     "name": "stdout",
     "output_type": "stream",
     "text": [
      "{'val_loss': 1.6030651328136336, 'val_accuracy': 0.6702127659574468, 'precision': 0.6736151943665266, 'recall': 0.6702127659574468, 'f1-score': 0.6563553653095702, 'macro_f1-score': 0.3824626361857484, 'balanced_accuracy': 0.3957122138840385, 'mcc': 0.567981177722398}\n",
      "Epoch 8/20\n"
     ]
    },
    {
     "name": "stderr",
     "output_type": "stream",
     "text": [
      "100%|██████████| 743/743 [05:15<00:00,  2.36it/s]\n"
     ]
    },
    {
     "name": "stdout",
     "output_type": "stream",
     "text": [
      "{'val_loss': 1.626012571015448, 'val_accuracy': 0.6643026004728132, 'precision': 0.6760526349271325, 'recall': 0.6643026004728132, 'f1-score': 0.6563435492943571, 'macro_f1-score': 0.37981573407667457, 'balanced_accuracy': 0.3930107960696767, 'mcc': 0.5608730522509499}\n",
      "Epoch 9/20\n"
     ]
    },
    {
     "name": "stderr",
     "output_type": "stream",
     "text": [
      "100%|██████████| 743/743 [05:13<00:00,  2.37it/s]\n"
     ]
    },
    {
     "name": "stdout",
     "output_type": "stream",
     "text": [
      "{'val_loss': 1.6837547643567032, 'val_accuracy': 0.6560283687943262, 'precision': 0.6710503440687002, 'recall': 0.6560283687943262, 'f1-score': 0.6482737026724217, 'macro_f1-score': 0.38877883535601415, 'balanced_accuracy': 0.3949782284543851, 'mcc': 0.5539475826826501}\n",
      "Epoch 10/20\n"
     ]
    },
    {
     "name": "stderr",
     "output_type": "stream",
     "text": [
      "100%|██████████| 743/743 [05:14<00:00,  2.36it/s]\n"
     ]
    },
    {
     "name": "stdout",
     "output_type": "stream",
     "text": [
      "{'val_loss': 1.69976691845453, 'val_accuracy': 0.6690307328605201, 'precision': 0.6738795166711675, 'recall': 0.6690307328605201, 'f1-score': 0.6557957722460506, 'macro_f1-score': 0.4141385188540423, 'balanced_accuracy': 0.40506291419933765, 'mcc': 0.5589383159756263}\n",
      "Epoch 11/20\n"
     ]
    },
    {
     "name": "stderr",
     "output_type": "stream",
     "text": [
      "100%|██████████| 743/743 [05:14<00:00,  2.36it/s]\n"
     ]
    },
    {
     "name": "stdout",
     "output_type": "stream",
     "text": [
      "{'val_loss': 1.8451229665639266, 'val_accuracy': 0.6784869976359338, 'precision': 0.6508707281145489, 'recall': 0.6784869976359338, 'f1-score': 0.6504429890563999, 'macro_f1-score': 0.3950926842077827, 'balanced_accuracy': 0.3716145285181327, 'mcc': 0.5599833990678732}\n",
      "Epoch 12/20\n"
     ]
    },
    {
     "name": "stderr",
     "output_type": "stream",
     "text": [
      "100%|██████████| 743/743 [05:15<00:00,  2.36it/s]\n"
     ]
    },
    {
     "name": "stdout",
     "output_type": "stream",
     "text": [
      "{'val_loss': 1.8697846725864231, 'val_accuracy': 0.6572104018912529, 'precision': 0.6543560378797414, 'recall': 0.6572104018912529, 'f1-score': 0.644105479806745, 'macro_f1-score': 0.39383540349168294, 'balanced_accuracy': 0.4140265825570106, 'mcc': 0.546340469803475}\n",
      "Epoch 13/20\n"
     ]
    },
    {
     "name": "stderr",
     "output_type": "stream",
     "text": [
      "100%|██████████| 743/743 [05:16<00:00,  2.35it/s]\n"
     ]
    },
    {
     "name": "stdout",
     "output_type": "stream",
     "text": [
      "{'val_loss': 1.7872674484860223, 'val_accuracy': 0.6843971631205674, 'precision': 0.6615078067882608, 'recall': 0.6843971631205674, 'f1-score': 0.6547342674084348, 'macro_f1-score': 0.4110403590067741, 'balanced_accuracy': 0.3963188859466454, 'mcc': 0.5755068270248035}\n",
      "Early stopping triggered at epoch 13\n",
      "Fold 3\n",
      "Training set label distribution: {0: 3576, 1: 28, 2: 126, 3: 27, 4: 231, 5: 131, 6: 106, 7: 35, 8: 76, 9: 73, 10: 80, 11: 193, 12: 217, 13: 32, 14: 26, 15: 28, 16: 23, 17: 260, 18: 104, 19: 51, 20: 16, 21: 40, 22: 87, 23: 180, 24: 18, 25: 57, 26: 96, 27: 55, 28: 14, 29: 14, 30: 17, 31: 90, 32: 41, 33: 36, 34: 33, 35: 13, 36: 32, 37: 24, 38: 6, 39: 116, 40: 13, 41: 10, 42: 166, 43: 18, 44: 22, 45: 10, 46: 61, 47: 595, 48: 227, 49: 78}\n",
      "Validation set label distribution: {0: 398, 1: 3, 2: 14, 3: 3, 4: 26, 5: 14, 6: 12, 7: 4, 8: 9, 9: 8, 10: 8, 11: 22, 12: 24, 13: 4, 14: 3, 15: 3, 16: 2, 17: 29, 18: 12, 19: 5, 20: 2, 21: 4, 22: 10, 23: 20, 24: 2, 25: 6, 26: 11, 27: 6, 28: 1, 29: 2, 30: 2, 31: 10, 32: 4, 33: 4, 34: 4, 35: 2, 36: 3, 37: 3, 38: 1, 39: 13, 40: 1, 41: 1, 42: 18, 43: 2, 44: 3, 45: 1, 46: 7, 47: 66, 48: 25, 49: 9}\n",
      "avg_label_size: 152\n"
     ]
    },
    {
     "name": "stderr",
     "output_type": "stream",
     "text": [
      "Some weights of BertForSequenceClassification were not initialized from the model checkpoint at bert-base-uncased and are newly initialized: ['classifier.bias', 'classifier.weight']\n",
      "You should probably TRAIN this model on a down-stream task to be able to use it for predictions and inference.\n"
     ]
    },
    {
     "name": "stdout",
     "output_type": "stream",
     "text": [
      "Epoch 1/20\n"
     ]
    },
    {
     "name": "stderr",
     "output_type": "stream",
     "text": [
      "100%|██████████| 743/743 [05:15<00:00,  2.36it/s]\n"
     ]
    },
    {
     "name": "stdout",
     "output_type": "stream",
     "text": [
      "{'val_loss': 1.5854398630700022, 'val_accuracy': 0.5886524822695035, 'precision': 0.5352839340323696, 'recall': 0.5886524822695035, 'f1-score': 0.5281047702990691, 'macro_f1-score': 0.2119074555439582, 'balanced_accuracy': 0.24354055276824293, 'mcc': 0.42527251842930186}\n",
      "Epoch 2/20\n"
     ]
    },
    {
     "name": "stderr",
     "output_type": "stream",
     "text": [
      "100%|██████████| 743/743 [05:14<00:00,  2.36it/s]\n"
     ]
    },
    {
     "name": "stdout",
     "output_type": "stream",
     "text": [
      "{'val_loss': 1.3220868881018657, 'val_accuracy': 0.6631205673758865, 'precision': 0.6707283505317779, 'recall': 0.6631205673758865, 'f1-score': 0.6353179148029267, 'macro_f1-score': 0.39568237541495554, 'balanced_accuracy': 0.4218247849283891, 'mcc': 0.5440959635410038}\n",
      "Epoch 3/20\n"
     ]
    },
    {
     "name": "stderr",
     "output_type": "stream",
     "text": [
      "100%|██████████| 743/743 [05:15<00:00,  2.36it/s]\n"
     ]
    },
    {
     "name": "stdout",
     "output_type": "stream",
     "text": [
      "{'val_loss': 1.3956499723893292, 'val_accuracy': 0.6536643026004728, 'precision': 0.653821537121614, 'recall': 0.6536643026004728, 'f1-score': 0.6445206405885504, 'macro_f1-score': 0.402191499775962, 'balanced_accuracy': 0.43234750778400055, 'mcc': 0.5470526218351299}\n",
      "Epoch 4/20\n"
     ]
    },
    {
     "name": "stderr",
     "output_type": "stream",
     "text": [
      "100%|██████████| 743/743 [05:14<00:00,  2.36it/s]\n"
     ]
    },
    {
     "name": "stdout",
     "output_type": "stream",
     "text": [
      "{'val_loss': 1.5013047451118253, 'val_accuracy': 0.6595744680851063, 'precision': 0.6790348866458069, 'recall': 0.6595744680851063, 'f1-score': 0.6587748247893844, 'macro_f1-score': 0.42626807720027154, 'balanced_accuracy': 0.4286238267171901, 'mcc': 0.5542464583564987}\n",
      "Epoch 5/20\n"
     ]
    },
    {
     "name": "stderr",
     "output_type": "stream",
     "text": [
      "100%|██████████| 743/743 [05:15<00:00,  2.36it/s]\n"
     ]
    },
    {
     "name": "stdout",
     "output_type": "stream",
     "text": [
      "{'val_loss': 1.6716134969918233, 'val_accuracy': 0.6442080378250591, 'precision': 0.6279564311572449, 'recall': 0.6442080378250591, 'f1-score': 0.6225060765368909, 'macro_f1-score': 0.371028850616861, 'balanced_accuracy': 0.3649528875194964, 'mcc': 0.5204322803255179}\n",
      "Epoch 6/20\n"
     ]
    },
    {
     "name": "stderr",
     "output_type": "stream",
     "text": [
      "100%|██████████| 743/743 [05:14<00:00,  2.36it/s]\n"
     ]
    },
    {
     "name": "stdout",
     "output_type": "stream",
     "text": [
      "{'val_loss': 1.737080549294094, 'val_accuracy': 0.6572104018912529, 'precision': 0.6493547882337697, 'recall': 0.6572104018912529, 'f1-score': 0.6421082127531162, 'macro_f1-score': 0.40853291576338835, 'balanced_accuracy': 0.4338500904917296, 'mcc': 0.5441206684525796}\n",
      "Epoch 7/20\n"
     ]
    },
    {
     "name": "stderr",
     "output_type": "stream",
     "text": [
      "100%|██████████| 743/743 [05:14<00:00,  2.36it/s]\n"
     ]
    },
    {
     "name": "stdout",
     "output_type": "stream",
     "text": [
      "{'val_loss': 1.8601637499512367, 'val_accuracy': 0.6643026004728132, 'precision': 0.6719538800604237, 'recall': 0.6643026004728132, 'f1-score': 0.654139879277953, 'macro_f1-score': 0.40706583350610126, 'balanced_accuracy': 0.4070516780010455, 'mcc': 0.5506399255875861}\n",
      "Early stopping triggered at epoch 7\n",
      "Fold 4\n",
      "Training set label distribution: {0: 3576, 1: 28, 2: 126, 3: 27, 4: 231, 5: 131, 6: 106, 7: 35, 8: 77, 9: 72, 10: 80, 11: 193, 12: 217, 13: 32, 14: 27, 15: 27, 16: 23, 17: 260, 18: 104, 19: 51, 20: 16, 21: 40, 22: 87, 23: 180, 24: 18, 25: 57, 26: 96, 27: 55, 28: 14, 29: 14, 30: 17, 31: 90, 32: 41, 33: 36, 34: 33, 35: 13, 36: 32, 37: 24, 38: 6, 39: 116, 40: 13, 41: 10, 42: 166, 43: 18, 44: 23, 45: 9, 46: 61, 47: 595, 48: 227, 49: 78}\n",
      "Validation set label distribution: {0: 398, 1: 3, 2: 14, 3: 3, 4: 26, 5: 14, 6: 12, 7: 4, 8: 8, 9: 9, 10: 8, 11: 22, 12: 24, 13: 4, 14: 2, 15: 4, 16: 2, 17: 29, 18: 12, 19: 5, 20: 2, 21: 4, 22: 10, 23: 20, 24: 2, 25: 6, 26: 11, 27: 6, 28: 1, 29: 2, 30: 2, 31: 10, 32: 4, 33: 4, 34: 4, 35: 2, 36: 3, 37: 3, 38: 1, 39: 13, 40: 1, 41: 1, 42: 18, 43: 2, 44: 2, 45: 2, 46: 7, 47: 66, 48: 25, 49: 9}\n",
      "avg_label_size: 152\n"
     ]
    },
    {
     "name": "stderr",
     "output_type": "stream",
     "text": [
      "Some weights of BertForSequenceClassification were not initialized from the model checkpoint at bert-base-uncased and are newly initialized: ['classifier.bias', 'classifier.weight']\n",
      "You should probably TRAIN this model on a down-stream task to be able to use it for predictions and inference.\n"
     ]
    },
    {
     "name": "stdout",
     "output_type": "stream",
     "text": [
      "Epoch 1/20\n"
     ]
    },
    {
     "name": "stderr",
     "output_type": "stream",
     "text": [
      "100%|██████████| 743/743 [05:14<00:00,  2.36it/s]\n"
     ]
    },
    {
     "name": "stdout",
     "output_type": "stream",
     "text": [
      "{'val_loss': 1.3870265888717939, 'val_accuracy': 0.6335697399527187, 'precision': 0.5999684284905371, 'recall': 0.6335697399527187, 'f1-score': 0.5852583442704634, 'macro_f1-score': 0.3217925500675312, 'balanced_accuracy': 0.35165097460540196, 'mcc': 0.4935479414032679}\n",
      "Epoch 2/20\n"
     ]
    },
    {
     "name": "stderr",
     "output_type": "stream",
     "text": [
      "100%|██████████| 743/743 [05:14<00:00,  2.36it/s]\n"
     ]
    },
    {
     "name": "stdout",
     "output_type": "stream",
     "text": [
      "{'val_loss': 1.2316267018048268, 'val_accuracy': 0.6843971631205674, 'precision': 0.6743425960150913, 'recall': 0.6843971631205674, 'f1-score': 0.6562471174686426, 'macro_f1-score': 0.42120316229746346, 'balanced_accuracy': 0.4274681188389384, 'mcc': 0.5708557522159647}\n",
      "Epoch 3/20\n"
     ]
    },
    {
     "name": "stderr",
     "output_type": "stream",
     "text": [
      "100%|██████████| 743/743 [05:12<00:00,  2.37it/s]\n"
     ]
    },
    {
     "name": "stdout",
     "output_type": "stream",
     "text": [
      "{'val_loss': 1.2537681336672801, 'val_accuracy': 0.6749408983451537, 'precision': 0.6778532146129801, 'recall': 0.6749408983451537, 'f1-score': 0.6554125154623663, 'macro_f1-score': 0.3983324364846104, 'balanced_accuracy': 0.4193894490999672, 'mcc': 0.5632974764856677}\n",
      "Epoch 4/20\n"
     ]
    },
    {
     "name": "stderr",
     "output_type": "stream",
     "text": [
      "100%|██████████| 743/743 [05:15<00:00,  2.36it/s]\n"
     ]
    },
    {
     "name": "stdout",
     "output_type": "stream",
     "text": [
      "{'val_loss': 1.3020060152377722, 'val_accuracy': 0.682033096926714, 'precision': 0.7049254578038999, 'recall': 0.682033096926714, 'f1-score': 0.6715550243741017, 'macro_f1-score': 0.43322836798804715, 'balanced_accuracy': 0.45992792642387165, 'mcc': 0.5836468261012575}\n",
      "Epoch 5/20\n"
     ]
    },
    {
     "name": "stderr",
     "output_type": "stream",
     "text": [
      "100%|██████████| 743/743 [05:14<00:00,  2.36it/s]\n"
     ]
    },
    {
     "name": "stdout",
     "output_type": "stream",
     "text": [
      "{'val_loss': 1.3769016704469357, 'val_accuracy': 0.6950354609929078, 'precision': 0.6862910487445287, 'recall': 0.6950354609929078, 'f1-score': 0.679180344528181, 'macro_f1-score': 0.43000377063772105, 'balanced_accuracy': 0.4237696233568699, 'mcc': 0.5915417058632774}\n",
      "Epoch 6/20\n"
     ]
    },
    {
     "name": "stderr",
     "output_type": "stream",
     "text": [
      "100%|██████████| 743/743 [05:13<00:00,  2.37it/s]\n"
     ]
    },
    {
     "name": "stdout",
     "output_type": "stream",
     "text": [
      "{'val_loss': 1.4678977188074365, 'val_accuracy': 0.6867612293144209, 'precision': 0.6960164988365104, 'recall': 0.6867612293144209, 'f1-score': 0.6699931020915756, 'macro_f1-score': 0.44952872280957834, 'balanced_accuracy': 0.4415712763102817, 'mcc': 0.5825068451869978}\n",
      "Epoch 7/20\n"
     ]
    },
    {
     "name": "stderr",
     "output_type": "stream",
     "text": [
      "100%|██████████| 743/743 [05:15<00:00,  2.36it/s]\n"
     ]
    },
    {
     "name": "stdout",
     "output_type": "stream",
     "text": [
      "{'val_loss': 1.5425996842249385, 'val_accuracy': 0.693853427895981, 'precision': 0.6820747963795281, 'recall': 0.693853427895981, 'f1-score': 0.6756166017448044, 'macro_f1-score': 0.4342845550603396, 'balanced_accuracy': 0.43177606756246506, 'mcc': 0.5892801592727439}\n",
      "Epoch 8/20\n"
     ]
    },
    {
     "name": "stderr",
     "output_type": "stream",
     "text": [
      "100%|██████████| 743/743 [05:14<00:00,  2.37it/s]\n"
     ]
    },
    {
     "name": "stdout",
     "output_type": "stream",
     "text": [
      "{'val_loss': 1.5939607648354657, 'val_accuracy': 0.6749408983451537, 'precision': 0.6867873749227915, 'recall': 0.6749408983451537, 'f1-score': 0.665482875541152, 'macro_f1-score': 0.44147683087926454, 'balanced_accuracy': 0.4537818728605766, 'mcc': 0.5736670131035511}\n",
      "Epoch 9/20\n"
     ]
    },
    {
     "name": "stderr",
     "output_type": "stream",
     "text": [
      "100%|██████████| 743/743 [05:15<00:00,  2.36it/s]\n"
     ]
    },
    {
     "name": "stdout",
     "output_type": "stream",
     "text": [
      "{'val_loss': 1.5367936317650777, 'val_accuracy': 0.6914893617021277, 'precision': 0.6806549925563643, 'recall': 0.6914893617021277, 'f1-score': 0.6681452693672474, 'macro_f1-score': 0.390685508048484, 'balanced_accuracy': 0.3962696233568699, 'mcc': 0.5859159068994364}\n",
      "Early stopping triggered at epoch 9\n",
      "Fold 5\n",
      "Training set label distribution: {0: 3577, 1: 27, 2: 126, 3: 27, 4: 231, 5: 131, 6: 106, 7: 35, 8: 77, 9: 73, 10: 79, 11: 193, 12: 217, 13: 33, 14: 26, 15: 28, 16: 22, 17: 260, 18: 105, 19: 50, 20: 16, 21: 40, 22: 87, 23: 180, 24: 18, 25: 57, 26: 96, 27: 55, 28: 14, 29: 14, 30: 17, 31: 90, 32: 41, 33: 36, 34: 33, 35: 14, 36: 31, 37: 24, 38: 6, 39: 117, 40: 13, 41: 10, 42: 165, 43: 18, 44: 23, 45: 10, 46: 61, 47: 595, 48: 227, 49: 78}\n",
      "Validation set label distribution: {0: 397, 1: 4, 2: 14, 3: 3, 4: 26, 5: 14, 6: 12, 7: 4, 8: 8, 9: 8, 10: 9, 11: 22, 12: 24, 13: 3, 14: 3, 15: 3, 16: 3, 17: 29, 18: 11, 19: 6, 20: 2, 21: 4, 22: 10, 23: 20, 24: 2, 25: 6, 26: 11, 27: 6, 28: 1, 29: 2, 30: 2, 31: 10, 32: 4, 33: 4, 34: 4, 35: 1, 36: 4, 37: 3, 38: 1, 39: 12, 40: 1, 41: 1, 42: 19, 43: 2, 44: 2, 45: 1, 46: 7, 47: 66, 48: 25, 49: 9}\n",
      "avg_label_size: 152\n"
     ]
    },
    {
     "name": "stderr",
     "output_type": "stream",
     "text": [
      "Some weights of BertForSequenceClassification were not initialized from the model checkpoint at bert-base-uncased and are newly initialized: ['classifier.bias', 'classifier.weight']\n",
      "You should probably TRAIN this model on a down-stream task to be able to use it for predictions and inference.\n"
     ]
    },
    {
     "name": "stdout",
     "output_type": "stream",
     "text": [
      "Epoch 1/20\n"
     ]
    },
    {
     "name": "stderr",
     "output_type": "stream",
     "text": [
      "100%|██████████| 743/743 [05:15<00:00,  2.36it/s]\n"
     ]
    },
    {
     "name": "stdout",
     "output_type": "stream",
     "text": [
      "{'val_loss': 1.387935331407583, 'val_accuracy': 0.6331360946745562, 'precision': 0.5736697517777593, 'recall': 0.6331360946745562, 'f1-score': 0.5740163664590446, 'macro_f1-score': 0.30186904602833986, 'balanced_accuracy': 0.3271446434126013, 'mcc': 0.4909507446468793}\n",
      "Epoch 2/20\n"
     ]
    },
    {
     "name": "stderr",
     "output_type": "stream",
     "text": [
      "100%|██████████| 743/743 [05:15<00:00,  2.36it/s]\n"
     ]
    },
    {
     "name": "stdout",
     "output_type": "stream",
     "text": [
      "{'val_loss': 1.2235523827795713, 'val_accuracy': 0.6568047337278107, 'precision': 0.6269488065262285, 'recall': 0.6568047337278107, 'f1-score': 0.6261223412595006, 'macro_f1-score': 0.3431701862823103, 'balanced_accuracy': 0.3387699429728614, 'mcc': 0.5388082817337866}\n",
      "Epoch 3/20\n"
     ]
    },
    {
     "name": "stderr",
     "output_type": "stream",
     "text": [
      "100%|██████████| 743/743 [05:14<00:00,  2.36it/s]\n"
     ]
    },
    {
     "name": "stdout",
     "output_type": "stream",
     "text": [
      "{'val_loss': 1.3431840707670968, 'val_accuracy': 0.6745562130177515, 'precision': 0.6488805249364565, 'recall': 0.6745562130177515, 'f1-score': 0.6352447412281227, 'macro_f1-score': 0.353060323694932, 'balanced_accuracy': 0.343473148421652, 'mcc': 0.5531516901435455}\n",
      "Epoch 4/20\n"
     ]
    },
    {
     "name": "stderr",
     "output_type": "stream",
     "text": [
      "100%|██████████| 743/743 [05:15<00:00,  2.36it/s]\n"
     ]
    },
    {
     "name": "stdout",
     "output_type": "stream",
     "text": [
      "{'val_loss': 1.3769887545198765, 'val_accuracy': 0.6698224852071006, 'precision': 0.66784498363686, 'recall': 0.6698224852071006, 'f1-score': 0.6505585112948068, 'macro_f1-score': 0.36019883133198755, 'balanced_accuracy': 0.36279686875779305, 'mcc': 0.5595424585412458}\n",
      "Epoch 5/20\n"
     ]
    },
    {
     "name": "stderr",
     "output_type": "stream",
     "text": [
      "100%|██████████| 743/743 [05:14<00:00,  2.36it/s]\n"
     ]
    },
    {
     "name": "stdout",
     "output_type": "stream",
     "text": [
      "{'val_loss': 1.5341323155839488, 'val_accuracy': 0.6497041420118344, 'precision': 0.6332735055952488, 'recall': 0.6497041420118344, 'f1-score': 0.6291380858658239, 'macro_f1-score': 0.316314153292831, 'balanced_accuracy': 0.3262419106051627, 'mcc': 0.5354363992948785}\n",
      "Epoch 6/20\n"
     ]
    },
    {
     "name": "stderr",
     "output_type": "stream",
     "text": [
      "100%|██████████| 743/743 [05:14<00:00,  2.36it/s]\n"
     ]
    },
    {
     "name": "stdout",
     "output_type": "stream",
     "text": [
      "{'val_loss': 1.567468580209984, 'val_accuracy': 0.6733727810650888, 'precision': 0.6327534332392736, 'recall': 0.6733727810650888, 'f1-score': 0.6382921806540884, 'macro_f1-score': 0.36006795121176155, 'balanced_accuracy': 0.3426425972418823, 'mcc': 0.5518937297512991}\n",
      "Epoch 7/20\n"
     ]
    },
    {
     "name": "stderr",
     "output_type": "stream",
     "text": [
      "100%|██████████| 743/743 [05:15<00:00,  2.36it/s]\n"
     ]
    },
    {
     "name": "stdout",
     "output_type": "stream",
     "text": [
      "{'val_loss': 1.5762238221348457, 'val_accuracy': 0.6710059171597633, 'precision': 0.6630303923939564, 'recall': 0.6710059171597633, 'f1-score': 0.6561750997206415, 'macro_f1-score': 0.3668567954991643, 'balanced_accuracy': 0.36013565950700444, 'mcc': 0.5639359069491129}\n",
      "Epoch 8/20\n"
     ]
    },
    {
     "name": "stderr",
     "output_type": "stream",
     "text": [
      "100%|██████████| 743/743 [05:14<00:00,  2.37it/s]\n"
     ]
    },
    {
     "name": "stdout",
     "output_type": "stream",
     "text": [
      "{'val_loss': 1.9396153508492235, 'val_accuracy': 0.6579881656804734, 'precision': 0.6346956957606982, 'recall': 0.6579881656804734, 'f1-score': 0.6191116273066266, 'macro_f1-score': 0.35103096349368285, 'balanced_accuracy': 0.3380113173486445, 'mcc': 0.5288860299498154}\n",
      "Epoch 9/20\n"
     ]
    },
    {
     "name": "stderr",
     "output_type": "stream",
     "text": [
      "100%|██████████| 743/743 [05:14<00:00,  2.36it/s]\n"
     ]
    },
    {
     "name": "stdout",
     "output_type": "stream",
     "text": [
      "{'val_loss': 1.8100945474404209, 'val_accuracy': 0.6603550295857988, 'precision': 0.6545762358101608, 'recall': 0.6603550295857988, 'f1-score': 0.6388147313019172, 'macro_f1-score': 0.34595295964789896, 'balanced_accuracy': 0.3384890242527801, 'mcc': 0.5445648178415027}\n",
      "Epoch 10/20\n"
     ]
    },
    {
     "name": "stderr",
     "output_type": "stream",
     "text": [
      "100%|██████████| 743/743 [05:15<00:00,  2.36it/s]\n"
     ]
    },
    {
     "name": "stdout",
     "output_type": "stream",
     "text": [
      "{'val_loss': 1.8437508956863071, 'val_accuracy': 0.6449704142011834, 'precision': 0.6383098710420002, 'recall': 0.6449704142011834, 'f1-score': 0.6330819864174292, 'macro_f1-score': 0.34118741938816965, 'balanced_accuracy': 0.35927240513355513, 'mcc': 0.5346060810582541}\n",
      "Early stopping triggered at epoch 10\n",
      "Fold 6\n",
      "Training set label distribution: {0: 3577, 1: 28, 2: 126, 3: 27, 4: 231, 5: 131, 6: 106, 7: 35, 8: 77, 9: 73, 10: 79, 11: 193, 12: 217, 13: 33, 14: 26, 15: 28, 16: 22, 17: 260, 18: 105, 19: 50, 20: 16, 21: 40, 22: 87, 23: 180, 24: 18, 25: 57, 26: 96, 27: 55, 28: 14, 29: 14, 30: 17, 31: 90, 32: 41, 33: 36, 34: 33, 35: 14, 36: 31, 37: 24, 38: 6, 39: 116, 40: 13, 41: 10, 42: 165, 43: 18, 44: 23, 45: 10, 46: 61, 47: 595, 48: 227, 49: 78}\n",
      "Validation set label distribution: {0: 397, 1: 3, 2: 14, 3: 3, 4: 26, 5: 14, 6: 12, 7: 4, 8: 8, 9: 8, 10: 9, 11: 22, 12: 24, 13: 3, 14: 3, 15: 3, 16: 3, 17: 29, 18: 11, 19: 6, 20: 2, 21: 4, 22: 10, 23: 20, 24: 2, 25: 6, 26: 11, 27: 6, 28: 1, 29: 2, 30: 2, 31: 10, 32: 4, 33: 4, 34: 4, 35: 1, 36: 4, 37: 3, 38: 1, 39: 13, 40: 1, 41: 1, 42: 19, 43: 2, 44: 2, 45: 1, 46: 7, 47: 66, 48: 25, 49: 9}\n",
      "avg_label_size: 152\n"
     ]
    },
    {
     "name": "stderr",
     "output_type": "stream",
     "text": [
      "Some weights of BertForSequenceClassification were not initialized from the model checkpoint at bert-base-uncased and are newly initialized: ['classifier.bias', 'classifier.weight']\n",
      "You should probably TRAIN this model on a down-stream task to be able to use it for predictions and inference.\n"
     ]
    },
    {
     "name": "stdout",
     "output_type": "stream",
     "text": [
      "Epoch 1/20\n"
     ]
    },
    {
     "name": "stderr",
     "output_type": "stream",
     "text": [
      "100%|██████████| 743/743 [05:13<00:00,  2.37it/s]\n"
     ]
    },
    {
     "name": "stdout",
     "output_type": "stream",
     "text": [
      "{'val_loss': 1.4346571440966625, 'val_accuracy': 0.6224852071005917, 'precision': 0.5778666813576286, 'recall': 0.6224852071005917, 'f1-score': 0.5725056798412995, 'macro_f1-score': 0.2846876759507017, 'balanced_accuracy': 0.33171313984759654, 'mcc': 0.48421890956959873}\n",
      "Epoch 2/20\n"
     ]
    },
    {
     "name": "stderr",
     "output_type": "stream",
     "text": [
      "100%|██████████| 743/743 [05:14<00:00,  2.36it/s]\n"
     ]
    },
    {
     "name": "stdout",
     "output_type": "stream",
     "text": [
      "{'val_loss': 1.2936161222322933, 'val_accuracy': 0.6355029585798817, 'precision': 0.673555782247169, 'recall': 0.6355029585798817, 'f1-score': 0.6213486129506285, 'macro_f1-score': 0.3405241094238534, 'balanced_accuracy': 0.39403190663885485, 'mcc': 0.5169101709252395}\n",
      "Epoch 3/20\n"
     ]
    },
    {
     "name": "stderr",
     "output_type": "stream",
     "text": [
      "100%|██████████| 743/743 [05:14<00:00,  2.36it/s]\n"
     ]
    },
    {
     "name": "stdout",
     "output_type": "stream",
     "text": [
      "{'val_loss': 1.2588155353968997, 'val_accuracy': 0.6828402366863905, 'precision': 0.680970485792971, 'recall': 0.6828402366863905, 'f1-score': 0.6651152572507265, 'macro_f1-score': 0.38766075679282863, 'balanced_accuracy': 0.3928763561004716, 'mcc': 0.5739892634856771}\n",
      "Epoch 4/20\n"
     ]
    },
    {
     "name": "stderr",
     "output_type": "stream",
     "text": [
      "100%|██████████| 743/743 [05:14<00:00,  2.36it/s]\n"
     ]
    },
    {
     "name": "stdout",
     "output_type": "stream",
     "text": [
      "{'val_loss': 1.4091804848527008, 'val_accuracy': 0.6686390532544378, 'precision': 0.690488812344016, 'recall': 0.6686390532544378, 'f1-score': 0.6564879237049523, 'macro_f1-score': 0.39728846117115973, 'balanced_accuracy': 0.40557764130397167, 'mcc': 0.5577954856507555}\n",
      "Epoch 5/20\n"
     ]
    },
    {
     "name": "stderr",
     "output_type": "stream",
     "text": [
      "100%|██████████| 743/743 [05:14<00:00,  2.36it/s]\n"
     ]
    },
    {
     "name": "stdout",
     "output_type": "stream",
     "text": [
      "{'val_loss': 1.5110189757257138, 'val_accuracy': 0.6473372781065089, 'precision': 0.6879447214800453, 'recall': 0.6473372781065089, 'f1-score': 0.6541670785132344, 'macro_f1-score': 0.38444041727499156, 'balanced_accuracy': 0.41000652482960676, 'mcc': 0.5599541630100072}\n",
      "Epoch 6/20\n"
     ]
    },
    {
     "name": "stderr",
     "output_type": "stream",
     "text": [
      "100%|██████████| 743/743 [05:14<00:00,  2.36it/s]\n"
     ]
    },
    {
     "name": "stdout",
     "output_type": "stream",
     "text": [
      "{'val_loss': 1.4756745949106396, 'val_accuracy': 0.6887573964497041, 'precision': 0.6884790931523447, 'recall': 0.6887573964497041, 'f1-score': 0.6734667028175889, 'macro_f1-score': 0.4372987927035096, 'balanced_accuracy': 0.46162668095054465, 'mcc': 0.5866175651020017}\n",
      "Epoch 7/20\n"
     ]
    },
    {
     "name": "stderr",
     "output_type": "stream",
     "text": [
      "100%|██████████| 743/743 [05:14<00:00,  2.36it/s]\n"
     ]
    },
    {
     "name": "stdout",
     "output_type": "stream",
     "text": [
      "{'val_loss': 1.5831500921609267, 'val_accuracy': 0.6568047337278107, 'precision': 0.6725081860298252, 'recall': 0.6568047337278107, 'f1-score': 0.6418947252545938, 'macro_f1-score': 0.3671856070856634, 'balanced_accuracy': 0.37192957853743425, 'mcc': 0.5418122386826927}\n",
      "Epoch 8/20\n"
     ]
    },
    {
     "name": "stderr",
     "output_type": "stream",
     "text": [
      "100%|██████████| 743/743 [05:15<00:00,  2.35it/s]\n"
     ]
    },
    {
     "name": "stdout",
     "output_type": "stream",
     "text": [
      "{'val_loss': 1.6335873963697902, 'val_accuracy': 0.6828402366863905, 'precision': 0.6851191242823964, 'recall': 0.6828402366863905, 'f1-score': 0.656777557531396, 'macro_f1-score': 0.36413949912868665, 'balanced_accuracy': 0.37197903599719945, 'mcc': 0.5731569059242818}\n",
      "Epoch 9/20\n"
     ]
    },
    {
     "name": "stderr",
     "output_type": "stream",
     "text": [
      "100%|██████████| 743/743 [05:15<00:00,  2.36it/s]\n"
     ]
    },
    {
     "name": "stdout",
     "output_type": "stream",
     "text": [
      "{'val_loss': 1.7269750462388092, 'val_accuracy': 0.676923076923077, 'precision': 0.6743359759318689, 'recall': 0.676923076923077, 'f1-score': 0.6611226014781135, 'macro_f1-score': 0.3631627196676259, 'balanced_accuracy': 0.3986226679233381, 'mcc': 0.5712542581761159}\n",
      "Early stopping triggered at epoch 9\n",
      "Fold 7\n",
      "Training set label distribution: {0: 3577, 1: 28, 2: 126, 3: 27, 4: 232, 5: 130, 6: 106, 7: 35, 8: 77, 9: 73, 10: 79, 11: 193, 12: 217, 13: 33, 14: 26, 15: 28, 16: 22, 17: 260, 18: 105, 19: 50, 20: 16, 21: 40, 22: 87, 23: 180, 24: 18, 25: 57, 26: 96, 27: 55, 28: 14, 29: 14, 30: 17, 31: 90, 32: 41, 33: 36, 34: 33, 35: 14, 36: 31, 37: 25, 38: 6, 39: 116, 40: 12, 41: 10, 42: 165, 43: 18, 44: 23, 45: 10, 46: 62, 47: 594, 48: 227, 49: 78}\n",
      "Validation set label distribution: {0: 397, 1: 3, 2: 14, 3: 3, 4: 25, 5: 15, 6: 12, 7: 4, 8: 8, 9: 8, 10: 9, 11: 22, 12: 24, 13: 3, 14: 3, 15: 3, 16: 3, 17: 29, 18: 11, 19: 6, 20: 2, 21: 4, 22: 10, 23: 20, 24: 2, 25: 6, 26: 11, 27: 6, 28: 1, 29: 2, 30: 2, 31: 10, 32: 4, 33: 4, 34: 4, 35: 1, 36: 4, 37: 2, 38: 1, 39: 13, 40: 2, 41: 1, 42: 19, 43: 2, 44: 2, 45: 1, 46: 6, 47: 67, 48: 25, 49: 9}\n",
      "avg_label_size: 152\n"
     ]
    },
    {
     "name": "stderr",
     "output_type": "stream",
     "text": [
      "Some weights of BertForSequenceClassification were not initialized from the model checkpoint at bert-base-uncased and are newly initialized: ['classifier.bias', 'classifier.weight']\n",
      "You should probably TRAIN this model on a down-stream task to be able to use it for predictions and inference.\n"
     ]
    },
    {
     "name": "stdout",
     "output_type": "stream",
     "text": [
      "Epoch 1/20\n"
     ]
    },
    {
     "name": "stderr",
     "output_type": "stream",
     "text": [
      "100%|██████████| 743/743 [05:15<00:00,  2.35it/s]\n"
     ]
    },
    {
     "name": "stdout",
     "output_type": "stream",
     "text": [
      "{'val_loss': 1.3688236266936895, 'val_accuracy': 0.650887573964497, 'precision': 0.5888669826425363, 'recall': 0.650887573964497, 'f1-score': 0.5966428747179088, 'macro_f1-score': 0.36202051201939683, 'balanced_accuracy': 0.38219728543678405, 'mcc': 0.5181066385012765}\n",
      "Epoch 2/20\n"
     ]
    },
    {
     "name": "stderr",
     "output_type": "stream",
     "text": [
      "100%|██████████| 743/743 [05:16<00:00,  2.35it/s]\n"
     ]
    },
    {
     "name": "stdout",
     "output_type": "stream",
     "text": [
      "{'val_loss': 1.2174839726034201, 'val_accuracy': 0.6662721893491125, 'precision': 0.6731761448148608, 'recall': 0.6662721893491125, 'f1-score': 0.6527048529546454, 'macro_f1-score': 0.4114407750976531, 'balanced_accuracy': 0.45115760664873295, 'mcc': 0.5630390080358945}\n",
      "Epoch 3/20\n"
     ]
    },
    {
     "name": "stderr",
     "output_type": "stream",
     "text": [
      "100%|██████████| 743/743 [05:15<00:00,  2.35it/s]\n"
     ]
    },
    {
     "name": "stdout",
     "output_type": "stream",
     "text": [
      "{'val_loss': 1.2699106099470607, 'val_accuracy': 0.6615384615384615, 'precision': 0.7155427874224254, 'recall': 0.6615384615384615, 'f1-score': 0.6683513327396806, 'macro_f1-score': 0.46155960515258554, 'balanced_accuracy': 0.4990320228024441, 'mcc': 0.5649386679554981}\n",
      "Epoch 4/20\n"
     ]
    },
    {
     "name": "stderr",
     "output_type": "stream",
     "text": [
      "100%|██████████| 743/743 [05:15<00:00,  2.36it/s]\n"
     ]
    },
    {
     "name": "stdout",
     "output_type": "stream",
     "text": [
      "{'val_loss': 1.3626705152246188, 'val_accuracy': 0.6816568047337278, 'precision': 0.6579553301415988, 'recall': 0.6816568047337278, 'f1-score': 0.6640707691500582, 'macro_f1-score': 0.4029757692955488, 'balanced_accuracy': 0.40754148947531155, 'mcc': 0.5786958076542126}\n",
      "Epoch 5/20\n"
     ]
    },
    {
     "name": "stderr",
     "output_type": "stream",
     "text": [
      "100%|██████████| 743/743 [05:14<00:00,  2.36it/s]\n"
     ]
    },
    {
     "name": "stdout",
     "output_type": "stream",
     "text": [
      "{'val_loss': 1.3913104697218481, 'val_accuracy': 0.6686390532544378, 'precision': 0.688263107649171, 'recall': 0.6686390532544378, 'f1-score': 0.6625422521343117, 'macro_f1-score': 0.4180344146813221, 'balanced_accuracy': 0.431003403962852, 'mcc': 0.5685116528560383}\n",
      "Epoch 6/20\n"
     ]
    },
    {
     "name": "stderr",
     "output_type": "stream",
     "text": [
      "100%|██████████| 743/743 [05:15<00:00,  2.35it/s]\n"
     ]
    },
    {
     "name": "stdout",
     "output_type": "stream",
     "text": [
      "{'val_loss': 1.4503586503132335, 'val_accuracy': 0.6946745562130178, 'precision': 0.6919594622962018, 'recall': 0.6946745562130178, 'f1-score': 0.6720663521112, 'macro_f1-score': 0.42908620379750756, 'balanced_accuracy': 0.4539724257357923, 'mcc': 0.5898142911102994}\n",
      "Early stopping triggered at epoch 6\n",
      "Fold 8\n",
      "Training set label distribution: {0: 3577, 1: 28, 2: 126, 3: 27, 4: 232, 5: 130, 6: 106, 7: 35, 8: 77, 9: 73, 10: 79, 11: 194, 12: 216, 13: 33, 14: 26, 15: 28, 16: 22, 17: 260, 18: 105, 19: 50, 20: 16, 21: 40, 22: 87, 23: 180, 24: 18, 25: 57, 26: 96, 27: 55, 28: 13, 29: 14, 30: 18, 31: 90, 32: 40, 33: 36, 34: 33, 35: 14, 36: 31, 37: 25, 38: 6, 39: 116, 40: 12, 41: 10, 42: 165, 43: 18, 44: 23, 45: 10, 46: 62, 47: 595, 48: 226, 49: 79}\n",
      "Validation set label distribution: {0: 397, 1: 3, 2: 14, 3: 3, 4: 25, 5: 15, 6: 12, 7: 4, 8: 8, 9: 8, 10: 9, 11: 21, 12: 25, 13: 3, 14: 3, 15: 3, 16: 3, 17: 29, 18: 11, 19: 6, 20: 2, 21: 4, 22: 10, 23: 20, 24: 2, 25: 6, 26: 11, 27: 6, 28: 2, 29: 2, 30: 1, 31: 10, 32: 5, 33: 4, 34: 4, 35: 1, 36: 4, 37: 2, 38: 1, 39: 13, 40: 2, 41: 1, 42: 19, 43: 2, 44: 2, 45: 1, 46: 6, 47: 66, 48: 26, 49: 8}\n",
      "avg_label_size: 152\n"
     ]
    },
    {
     "name": "stderr",
     "output_type": "stream",
     "text": [
      "Some weights of BertForSequenceClassification were not initialized from the model checkpoint at bert-base-uncased and are newly initialized: ['classifier.bias', 'classifier.weight']\n",
      "You should probably TRAIN this model on a down-stream task to be able to use it for predictions and inference.\n"
     ]
    },
    {
     "name": "stdout",
     "output_type": "stream",
     "text": [
      "Epoch 1/20\n"
     ]
    },
    {
     "name": "stderr",
     "output_type": "stream",
     "text": [
      "100%|██████████| 743/743 [05:14<00:00,  2.36it/s]\n"
     ]
    },
    {
     "name": "stdout",
     "output_type": "stream",
     "text": [
      "{'val_loss': 1.3348219315960723, 'val_accuracy': 0.6414201183431952, 'precision': 0.6172452600198746, 'recall': 0.6414201183431952, 'f1-score': 0.6020120484717268, 'macro_f1-score': 0.31450460301443384, 'balanced_accuracy': 0.32799167190286105, 'mcc': 0.5126440070356453}\n",
      "Epoch 2/20\n"
     ]
    },
    {
     "name": "stderr",
     "output_type": "stream",
     "text": [
      "100%|██████████| 743/743 [05:15<00:00,  2.36it/s]\n"
     ]
    },
    {
     "name": "stdout",
     "output_type": "stream",
     "text": [
      "{'val_loss': 1.2372258642934404, 'val_accuracy': 0.6556213017751479, 'precision': 0.6524639503523862, 'recall': 0.6556213017751479, 'f1-score': 0.6315670747686457, 'macro_f1-score': 0.36458701545055383, 'balanced_accuracy': 0.37698760659756425, 'mcc': 0.5351465016051984}\n",
      "Epoch 3/20\n"
     ]
    },
    {
     "name": "stderr",
     "output_type": "stream",
     "text": [
      "100%|██████████| 743/743 [05:14<00:00,  2.36it/s]\n"
     ]
    },
    {
     "name": "stdout",
     "output_type": "stream",
     "text": [
      "{'val_loss': 1.3001195462244861, 'val_accuracy': 0.6532544378698225, 'precision': 0.671691313103345, 'recall': 0.6532544378698225, 'f1-score': 0.6478786106825858, 'macro_f1-score': 0.37723575455724023, 'balanced_accuracy': 0.40042101625653403, 'mcc': 0.5447734654719827}\n",
      "Epoch 4/20\n"
     ]
    },
    {
     "name": "stderr",
     "output_type": "stream",
     "text": [
      "100%|██████████| 743/743 [05:14<00:00,  2.36it/s]\n"
     ]
    },
    {
     "name": "stdout",
     "output_type": "stream",
     "text": [
      "{'val_loss': 1.3355192305906765, 'val_accuracy': 0.6710059171597633, 'precision': 0.6885888672019297, 'recall': 0.6710059171597633, 'f1-score': 0.6655458855825296, 'macro_f1-score': 0.4020563145956001, 'balanced_accuracy': 0.42010432179878804, 'mcc': 0.572018038371693}\n",
      "Epoch 5/20\n"
     ]
    },
    {
     "name": "stderr",
     "output_type": "stream",
     "text": [
      "100%|██████████| 743/743 [05:14<00:00,  2.36it/s]\n"
     ]
    },
    {
     "name": "stdout",
     "output_type": "stream",
     "text": [
      "{'val_loss': 1.431366652812598, 'val_accuracy': 0.672189349112426, 'precision': 0.6850129213078404, 'recall': 0.672189349112426, 'f1-score': 0.6630889969206601, 'macro_f1-score': 0.37600176032097626, 'balanced_accuracy': 0.40230224325953595, 'mcc': 0.5652749582422343}\n",
      "Epoch 6/20\n"
     ]
    },
    {
     "name": "stderr",
     "output_type": "stream",
     "text": [
      "100%|██████████| 743/743 [05:14<00:00,  2.36it/s]\n"
     ]
    },
    {
     "name": "stdout",
     "output_type": "stream",
     "text": [
      "{'val_loss': 1.5073462311389312, 'val_accuracy': 0.6781065088757396, 'precision': 0.6791632315744742, 'recall': 0.6781065088757396, 'f1-score': 0.6621312659208728, 'macro_f1-score': 0.39915176884824666, 'balanced_accuracy': 0.4101615522730341, 'mcc': 0.5659492539617454}\n",
      "Epoch 7/20\n"
     ]
    },
    {
     "name": "stderr",
     "output_type": "stream",
     "text": [
      "100%|██████████| 743/743 [05:15<00:00,  2.36it/s]\n"
     ]
    },
    {
     "name": "stdout",
     "output_type": "stream",
     "text": [
      "{'val_loss': 1.5931745947531935, 'val_accuracy': 0.6497041420118344, 'precision': 0.6919461530830526, 'recall': 0.6497041420118344, 'f1-score': 0.658169805876359, 'macro_f1-score': 0.4087689152078965, 'balanced_accuracy': 0.4398481585578772, 'mcc': 0.5542766601378135}\n",
      "Epoch 8/20\n"
     ]
    },
    {
     "name": "stderr",
     "output_type": "stream",
     "text": [
      "100%|██████████| 743/743 [05:15<00:00,  2.35it/s]\n"
     ]
    },
    {
     "name": "stdout",
     "output_type": "stream",
     "text": [
      "{'val_loss': 1.5584355873881646, 'val_accuracy': 0.6686390532544378, 'precision': 0.6731071503990562, 'recall': 0.6686390532544378, 'f1-score': 0.66114211668517, 'macro_f1-score': 0.40812562726654295, 'balanced_accuracy': 0.41893697627601995, 'mcc': 0.5696055280961395}\n",
      "Epoch 9/20\n"
     ]
    },
    {
     "name": "stderr",
     "output_type": "stream",
     "text": [
      "100%|██████████| 743/743 [05:15<00:00,  2.35it/s]\n"
     ]
    },
    {
     "name": "stdout",
     "output_type": "stream",
     "text": [
      "{'val_loss': 1.6149718260989998, 'val_accuracy': 0.6686390532544378, 'precision': 0.6723946782899248, 'recall': 0.6686390532544378, 'f1-score': 0.6549144579342375, 'macro_f1-score': 0.40314019932124656, 'balanced_accuracy': 0.3992099303886405, 'mcc': 0.5591695523695445}\n",
      "Epoch 10/20\n"
     ]
    },
    {
     "name": "stderr",
     "output_type": "stream",
     "text": [
      "100%|██████████| 743/743 [05:14<00:00,  2.36it/s]\n"
     ]
    },
    {
     "name": "stdout",
     "output_type": "stream",
     "text": [
      "{'val_loss': 1.592476190261121, 'val_accuracy': 0.6627218934911243, 'precision': 0.6777877176940419, 'recall': 0.6627218934911243, 'f1-score': 0.6562540756646605, 'macro_f1-score': 0.3991384921115981, 'balanced_accuracy': 0.4172308537672789, 'mcc': 0.5563483448482571}\n",
      "Early stopping triggered at epoch 10\n",
      "Fold 9\n",
      "Training set label distribution: {0: 3577, 1: 28, 2: 126, 3: 27, 4: 232, 5: 130, 6: 106, 7: 36, 8: 76, 9: 73, 10: 79, 11: 194, 12: 217, 13: 32, 14: 26, 15: 28, 16: 22, 17: 261, 18: 104, 19: 50, 20: 17, 21: 39, 22: 87, 23: 180, 24: 18, 25: 57, 26: 96, 27: 55, 28: 13, 29: 15, 30: 17, 31: 90, 32: 40, 33: 36, 34: 33, 35: 14, 36: 31, 37: 25, 38: 7, 39: 116, 40: 12, 41: 10, 42: 166, 43: 18, 44: 22, 45: 10, 46: 61, 47: 595, 48: 226, 49: 79}\n",
      "Validation set label distribution: {0: 397, 1: 3, 2: 14, 3: 3, 4: 25, 5: 15, 6: 12, 7: 3, 8: 9, 9: 8, 10: 9, 11: 21, 12: 24, 13: 4, 14: 3, 15: 3, 16: 3, 17: 28, 18: 12, 19: 6, 20: 1, 21: 5, 22: 10, 23: 20, 24: 2, 25: 6, 26: 11, 27: 6, 28: 2, 29: 1, 30: 2, 31: 10, 32: 5, 33: 4, 34: 4, 35: 1, 36: 4, 37: 2, 39: 13, 40: 2, 41: 1, 42: 18, 43: 2, 44: 3, 45: 1, 46: 7, 47: 66, 48: 26, 49: 8}\n",
      "avg_label_size: 152\n"
     ]
    },
    {
     "name": "stderr",
     "output_type": "stream",
     "text": [
      "Some weights of BertForSequenceClassification were not initialized from the model checkpoint at bert-base-uncased and are newly initialized: ['classifier.bias', 'classifier.weight']\n",
      "You should probably TRAIN this model on a down-stream task to be able to use it for predictions and inference.\n"
     ]
    },
    {
     "name": "stdout",
     "output_type": "stream",
     "text": [
      "Epoch 1/20\n"
     ]
    },
    {
     "name": "stderr",
     "output_type": "stream",
     "text": [
      "100%|██████████| 743/743 [05:14<00:00,  2.36it/s]\n",
      "D:\\Anaconda3\\envs\\cuda\\Lib\\site-packages\\sklearn\\metrics\\_classification.py:2458: UserWarning: y_pred contains classes not in y_true\n",
      "  warnings.warn(\"y_pred contains classes not in y_true\")\n"
     ]
    },
    {
     "name": "stdout",
     "output_type": "stream",
     "text": [
      "{'val_loss': 1.4464877990056884, 'val_accuracy': 0.6201183431952663, 'precision': 0.5338099475557372, 'recall': 0.6201183431952663, 'f1-score': 0.556216856315227, 'macro_f1-score': 0.25153004813969515, 'balanced_accuracy': 0.2835847205394319, 'mcc': 0.469325149130977}\n",
      "Epoch 2/20\n"
     ]
    },
    {
     "name": "stderr",
     "output_type": "stream",
     "text": [
      "100%|██████████| 743/743 [05:14<00:00,  2.36it/s]\n",
      "D:\\Anaconda3\\envs\\cuda\\Lib\\site-packages\\sklearn\\metrics\\_classification.py:2458: UserWarning: y_pred contains classes not in y_true\n",
      "  warnings.warn(\"y_pred contains classes not in y_true\")\n"
     ]
    },
    {
     "name": "stdout",
     "output_type": "stream",
     "text": [
      "{'val_loss': 1.314731943719792, 'val_accuracy': 0.6355029585798817, 'precision': 0.6263734852909382, 'recall': 0.6355029585798817, 'f1-score': 0.618596258812974, 'macro_f1-score': 0.345530136128809, 'balanced_accuracy': 0.3842310389565312, 'mcc': 0.5188242726464112}\n",
      "Epoch 3/20\n"
     ]
    },
    {
     "name": "stderr",
     "output_type": "stream",
     "text": [
      "100%|██████████| 743/743 [05:14<00:00,  2.36it/s]\n",
      "D:\\Anaconda3\\envs\\cuda\\Lib\\site-packages\\sklearn\\metrics\\_classification.py:2458: UserWarning: y_pred contains classes not in y_true\n",
      "  warnings.warn(\"y_pred contains classes not in y_true\")\n"
     ]
    },
    {
     "name": "stdout",
     "output_type": "stream",
     "text": [
      "{'val_loss': 1.3070650499946666, 'val_accuracy': 0.663905325443787, 'precision': 0.676143911907817, 'recall': 0.663905325443787, 'f1-score': 0.6554694460301473, 'macro_f1-score': 0.38492710528969376, 'balanced_accuracy': 0.406263792554082, 'mcc': 0.5567457082522784}\n",
      "Epoch 4/20\n"
     ]
    },
    {
     "name": "stderr",
     "output_type": "stream",
     "text": [
      "100%|██████████| 743/743 [05:14<00:00,  2.36it/s]\n",
      "D:\\Anaconda3\\envs\\cuda\\Lib\\site-packages\\sklearn\\metrics\\_classification.py:2458: UserWarning: y_pred contains classes not in y_true\n",
      "  warnings.warn(\"y_pred contains classes not in y_true\")\n"
     ]
    },
    {
     "name": "stdout",
     "output_type": "stream",
     "text": [
      "{'val_loss': 1.3553800745955054, 'val_accuracy': 0.672189349112426, 'precision': 0.7134883285900419, 'recall': 0.672189349112426, 'f1-score': 0.6744400783442641, 'macro_f1-score': 0.4057764713296248, 'balanced_accuracy': 0.4252050936891322, 'mcc': 0.5740542355837903}\n",
      "Epoch 5/20\n"
     ]
    },
    {
     "name": "stderr",
     "output_type": "stream",
     "text": [
      "100%|██████████| 743/743 [05:15<00:00,  2.35it/s]\n"
     ]
    },
    {
     "name": "stdout",
     "output_type": "stream",
     "text": [
      "{'val_loss': 1.4109927303386185, 'val_accuracy': 0.6792899408284023, 'precision': 0.704127217210406, 'recall': 0.6792899408284023, 'f1-score': 0.6763207793496094, 'macro_f1-score': 0.3923641841044949, 'balanced_accuracy': 0.3878920491481537, 'mcc': 0.5813907757922244}\n",
      "Epoch 6/20\n"
     ]
    },
    {
     "name": "stderr",
     "output_type": "stream",
     "text": [
      "100%|██████████| 743/743 [05:15<00:00,  2.35it/s]\n"
     ]
    },
    {
     "name": "stdout",
     "output_type": "stream",
     "text": [
      "{'val_loss': 1.5290978877049572, 'val_accuracy': 0.7053254437869823, 'precision': 0.6841965695982232, 'recall': 0.7053254437869823, 'f1-score': 0.6724260842958237, 'macro_f1-score': 0.39005795437597995, 'balanced_accuracy': 0.3570675467943242, 'mcc': 0.5969206490048756}\n",
      "Epoch 7/20\n"
     ]
    },
    {
     "name": "stderr",
     "output_type": "stream",
     "text": [
      "100%|██████████| 743/743 [05:15<00:00,  2.36it/s]\n"
     ]
    },
    {
     "name": "stdout",
     "output_type": "stream",
     "text": [
      "{'val_loss': 1.5751496497190223, 'val_accuracy': 0.6887573964497041, 'precision': 0.6971549647054017, 'recall': 0.6887573964497041, 'f1-score': 0.6700911823415905, 'macro_f1-score': 0.3917497154679566, 'balanced_accuracy': 0.3626804163353796, 'mcc': 0.5768465115432672}\n",
      "Early stopping triggered at epoch 7\n",
      "Fold 10\n",
      "Training set label distribution: {0: 3577, 1: 28, 2: 126, 3: 27, 4: 231, 5: 130, 6: 107, 7: 35, 8: 76, 9: 73, 10: 79, 11: 194, 12: 217, 13: 32, 14: 26, 15: 28, 16: 23, 17: 260, 18: 104, 19: 50, 20: 17, 21: 39, 22: 88, 23: 180, 24: 18, 25: 56, 26: 97, 27: 54, 28: 13, 29: 15, 30: 17, 31: 90, 32: 40, 33: 36, 34: 34, 35: 13, 36: 32, 37: 24, 38: 7, 39: 116, 40: 12, 41: 10, 42: 166, 43: 18, 44: 22, 45: 10, 46: 61, 47: 595, 48: 227, 49: 79}\n",
      "Validation set label distribution: {0: 397, 1: 3, 2: 14, 3: 3, 4: 26, 5: 15, 6: 11, 7: 4, 8: 9, 9: 8, 10: 9, 11: 21, 12: 24, 13: 4, 14: 3, 15: 3, 16: 2, 17: 29, 18: 12, 19: 6, 20: 1, 21: 5, 22: 9, 23: 20, 24: 2, 25: 7, 26: 10, 27: 7, 28: 2, 29: 1, 30: 2, 31: 10, 32: 5, 33: 4, 34: 3, 35: 2, 36: 3, 37: 3, 39: 13, 40: 2, 41: 1, 42: 18, 43: 2, 44: 3, 45: 1, 46: 7, 47: 66, 48: 25, 49: 8}\n",
      "avg_label_size: 152\n"
     ]
    },
    {
     "name": "stderr",
     "output_type": "stream",
     "text": [
      "Some weights of BertForSequenceClassification were not initialized from the model checkpoint at bert-base-uncased and are newly initialized: ['classifier.bias', 'classifier.weight']\n",
      "You should probably TRAIN this model on a down-stream task to be able to use it for predictions and inference.\n"
     ]
    },
    {
     "name": "stdout",
     "output_type": "stream",
     "text": [
      "Epoch 1/20\n"
     ]
    },
    {
     "name": "stderr",
     "output_type": "stream",
     "text": [
      "100%|██████████| 743/743 [05:15<00:00,  2.36it/s]\n"
     ]
    },
    {
     "name": "stdout",
     "output_type": "stream",
     "text": [
      "{'val_loss': 1.4012645719186314, 'val_accuracy': 0.6272189349112426, 'precision': 0.6191157608507306, 'recall': 0.6272189349112426, 'f1-score': 0.5890115332804837, 'macro_f1-score': 0.2851331725916123, 'balanced_accuracy': 0.3032242348417852, 'mcc': 0.4860336035633189}\n",
      "Epoch 2/20\n"
     ]
    },
    {
     "name": "stderr",
     "output_type": "stream",
     "text": [
      "100%|██████████| 743/743 [05:14<00:00,  2.36it/s]\n"
     ]
    },
    {
     "name": "stdout",
     "output_type": "stream",
     "text": [
      "{'val_loss': 1.3185463322783417, 'val_accuracy': 0.6461538461538462, 'precision': 0.6717552340512968, 'recall': 0.6461538461538462, 'f1-score': 0.6420964360259113, 'macro_f1-score': 0.4049292193930288, 'balanced_accuracy': 0.4236616303977601, 'mcc': 0.5473369993434835}\n",
      "Epoch 3/20\n"
     ]
    },
    {
     "name": "stderr",
     "output_type": "stream",
     "text": [
      "100%|██████████| 743/743 [05:12<00:00,  2.37it/s]\n"
     ]
    },
    {
     "name": "stdout",
     "output_type": "stream",
     "text": [
      "{'val_loss': 1.3350705223263435, 'val_accuracy': 0.6674556213017752, 'precision': 0.6916903797517815, 'recall': 0.6674556213017752, 'f1-score': 0.6627957453175983, 'macro_f1-score': 0.393077626461619, 'balanced_accuracy': 0.39008807939096146, 'mcc': 0.5603071335688748}\n",
      "Epoch 4/20\n"
     ]
    },
    {
     "name": "stderr",
     "output_type": "stream",
     "text": [
      "100%|██████████| 743/743 [05:14<00:00,  2.37it/s]\n",
      "D:\\Anaconda3\\envs\\cuda\\Lib\\site-packages\\sklearn\\metrics\\_classification.py:2458: UserWarning: y_pred contains classes not in y_true\n",
      "  warnings.warn(\"y_pred contains classes not in y_true\")\n"
     ]
    },
    {
     "name": "stdout",
     "output_type": "stream",
     "text": [
      "{'val_loss': 1.4069375558844153, 'val_accuracy': 0.685207100591716, 'precision': 0.671881833486428, 'recall': 0.685207100591716, 'f1-score': 0.6599934011997444, 'macro_f1-score': 0.3781595959524149, 'balanced_accuracy': 0.377914307082993, 'mcc': 0.5760377161532176}\n",
      "Epoch 5/20\n"
     ]
    },
    {
     "name": "stderr",
     "output_type": "stream",
     "text": [
      "100%|██████████| 743/743 [05:14<00:00,  2.36it/s]\n"
     ]
    },
    {
     "name": "stdout",
     "output_type": "stream",
     "text": [
      "{'val_loss': 1.4532499875662461, 'val_accuracy': 0.6804733727810651, 'precision': 0.6730947902098673, 'recall': 0.6804733727810651, 'f1-score': 0.6683749981878131, 'macro_f1-score': 0.39950232828624566, 'balanced_accuracy': 0.4078568721770905, 'mcc': 0.5833034680802273}\n",
      "Early stopping triggered at epoch 5\n",
      "Final 10-fold Cross-Validation Results:\n",
      "val_loss: 1.4694101314607821\n",
      "val_accuracy: 0.6647195489089924\n",
      "precision: 0.6629979144570658\n",
      "recall: 0.6647195489089924\n",
      "f1-score: 0.6450204672267714\n",
      "macro_f1-score: 0.38213813781948447\n",
      "balanced_accuracy: 0.39326876343502176\n",
      "mcc: 0.552613479479838\n"
     ]
    }
   ],
   "source": [
    "from torch.utils.data import DataLoader\n",
    "import torch\n",
    "from torch.nn import CrossEntropyLoss\n",
    "from torch.optim import AdamW\n",
    "from tqdm import tqdm\n",
    "import numpy as np\n",
    "from imblearn.over_sampling import RandomOverSampler\n",
    "from collections import Counter\n",
    "\n",
    "all_fold_results = []\n",
    "\n",
    "# 進行 10 折交叉驗證\n",
    "for fold, (train_idx, val_idx) in enumerate(skf.split(messages, labels)):\n",
    "    print(f\"Fold {fold + 1}\")\n",
    "    \n",
    "    train_messages = [messages[i] for i in train_idx]\n",
    "    train_labels = [labels[i] for i in train_idx]\n",
    "    val_messages = [messages[i] for i in val_idx]\n",
    "    val_labels = [labels[i] for i in val_idx]\n",
    "    \n",
    "    print(\"Training set label distribution:\", {label: train_labels.count(label) for label in set(train_labels)})\n",
    "    print(\"Validation set label distribution:\", {label: val_labels.count(label) for label in set(val_labels)})\n",
    "    \n",
    "    # 計算各 Label 的數量\n",
    "    label_counts = pd.Series(train_labels).value_counts()\n",
    "    avg_label_size = int(label_counts.mean())  # **取平均值作為 resample 基準點**\n",
    "    print(f\"avg_label_size: {avg_label_size}\")\n",
    "    \n",
    "    # 找出需要過採樣的類別\n",
    "    labels_to_oversample = label_counts[label_counts < avg_label_size].index.tolist()\n",
    "\n",
    "    # 進行 ROS (Random Oversampling)\n",
    "    ros = RandomOverSampler(sampling_strategy={label: avg_label_size for label in labels_to_oversample}, random_state=42)\n",
    "    train_messages_resampled, train_labels_resampled = ros.fit_resample(np.array(train_messages).reshape(-1, 1), train_labels)\n",
    "    train_messages_resampled = train_messages_resampled.flatten().tolist()\n",
    "\n",
    "    # 轉換成 DataLoader\n",
    "    train_dataset = CustomDataset(train_messages_resampled, train_labels_resampled, tokenizer, MAX_LENGTH)\n",
    "    val_dataset = CustomDataset(val_messages, val_labels, tokenizer, MAX_LENGTH)\n",
    "    train_dataloader = DataLoader(train_dataset, batch_size=BATCH_SIZE, shuffle=True)\n",
    "    val_dataloader = DataLoader(val_dataset, batch_size=BATCH_SIZE)\n",
    "\n",
    "    NUM_LABELS = len(set(train_labels) | set(val_labels))\n",
    "    model = BertForSequenceClassification.from_pretrained('bert-base-uncased', num_labels=NUM_LABELS)\n",
    "    model.to(device)\n",
    "    optimizer = AdamW(model.parameters(), lr=5e-5, weight_decay=1e-2)\n",
    "    criterion = CrossEntropyLoss()\n",
    "\n",
    "    epoch_results = []\n",
    "    patience = 3\n",
    "    best_macro_f1 = 0\n",
    "    epochs_without_improvement = 0\n",
    "    \n",
    "    for epoch in range(EPOCHS):\n",
    "        print(f\"Epoch {epoch + 1}/{EPOCHS}\")\n",
    "        train_loss = train_epoch(model, train_dataloader, optimizer, criterion)\n",
    "        metrics = eval_model(model, val_dataloader, criterion, num_labels=NUM_LABELS)\n",
    "        epoch_results.append(metrics)\n",
    "        print(metrics)\n",
    "\n",
    "        current_macro_f1 = metrics[\"macro_f1-score\"]\n",
    "        \n",
    "        if current_macro_f1 > best_macro_f1:\n",
    "            best_macro_f1 = current_macro_f1  # 更新最佳 macro_f1-score\n",
    "            epochs_without_improvement = 0   # 重置計數\n",
    "        else:\n",
    "            epochs_without_improvement += 1  # 增加計數\n",
    "        \n",
    "        # 若連續 patience 3 次沒有提升，則停止訓練\n",
    "        if epochs_without_improvement >= patience:\n",
    "            print(f\"Early stopping triggered at epoch {epoch + 1}\")\n",
    "            break\n",
    "    \n",
    "    avg_metrics = {metric: np.mean([epoch[metric] for epoch in epoch_results]) for metric in epoch_results[0].keys()}\n",
    "    all_fold_results.append(avg_metrics)\n",
    "\n",
    "final_metrics = {metric: np.mean([result[metric] for result in all_fold_results]) for metric in all_fold_results[0].keys()}\n",
    "print(\"Final 10-fold Cross-Validation Results:\")\n",
    "for metric, value in final_metrics.items():\n",
    "    print(f\"{metric}: {value}\")"
   ]
  },
  {
   "cell_type": "code",
   "execution_count": 8,
   "id": "f8016681-94ee-4d35-81ac-9831d7172f0d",
   "metadata": {},
   "outputs": [
    {
     "data": {
      "text/plain": [
       "[{'val_loss': 1.4937666514712684,\n",
       "  'val_accuracy': 0.6721335697399526,\n",
       "  'precision': 0.6751659377918787,\n",
       "  'recall': 0.6721335697399526,\n",
       "  'f1-score': 0.6518718025051351,\n",
       "  'macro_f1-score': 0.4024113859801716,\n",
       "  'balanced_accuracy': 0.4094744742824714,\n",
       "  'mcc': 0.5606325510390829},\n",
       " {'val_loss': 1.5702765131117817,\n",
       "  'val_accuracy': 0.6660301873067831,\n",
       "  'precision': 0.6616392730868577,\n",
       "  'recall': 0.6660301873067831,\n",
       "  'f1-score': 0.6447951136546417,\n",
       "  'macro_f1-score': 0.3797309869118412,\n",
       "  'balanced_accuracy': 0.38143556017032415,\n",
       "  'mcc': 0.5551350804865189},\n",
       " {'val_loss': 1.5819056092728825,\n",
       "  'val_accuracy': 0.6472475515028705,\n",
       "  'precision': 0.6411619725404295,\n",
       "  'recall': 0.6472475515028705,\n",
       "  'f1-score': 0.6264960455782702,\n",
       "  'macro_f1-score': 0.3746681439744997,\n",
       "  'balanced_accuracy': 0.39031304688715635,\n",
       "  'mcc': 0.5265514909325167},\n",
       " {'val_loss': 1.4102867677401696,\n",
       "  'val_accuracy': 0.6796690307328606,\n",
       "  'precision': 0.6765460453735813,\n",
       "  'recall': 0.6796690307328606,\n",
       "  'f1-score': 0.6585434660942817,\n",
       "  'macro_f1-score': 0.41339287825256,\n",
       "  'balanced_accuracy': 0.42284499249058244,\n",
       "  'mcc': 0.5704732918369071},\n",
       " {'val_loss': 1.5602946051378859,\n",
       "  'val_accuracy': 0.6591715976331362,\n",
       "  'precision': 0.6373983200718641,\n",
       "  'recall': 0.6591715976331362,\n",
       "  'f1-score': 0.6300555671508001,\n",
       "  'macro_f1-score': 0.34397086298710783,\n",
       "  'balanced_accuracy': 0.3436977517653937,\n",
       "  'mcc': 0.540177613991032},\n",
       " {'val_loss': 1.480741710220493,\n",
       "  'val_accuracy': 0.6624589086127548,\n",
       "  'precision': 0.6701409847353628,\n",
       "  'recall': 0.6624589086127548,\n",
       "  'f1-score': 0.6447651265936147,\n",
       "  'macro_f1-score': 0.3695986710221134,\n",
       "  'balanced_accuracy': 0.3931515035698909,\n",
       "  'mcc': 0.5517454400584856},\n",
       " {'val_loss': 1.3434263074173118,\n",
       "  'val_accuracy': 0.6706114398422091,\n",
       "  'precision': 0.6692939691611324,\n",
       "  'recall': 0.6706114398422091,\n",
       "  'f1-score': 0.6527297389679675,\n",
       "  'macro_f1-score': 0.414186213340669,\n",
       "  'balanced_accuracy': 0.43748403901031946,\n",
       "  'mcc': 0.5638510110188698},\n",
       " {'val_loss': 1.4505457655157685,\n",
       "  'val_accuracy': 0.6621301775147929,\n",
       "  'precision': 0.6709401243025924,\n",
       "  'recall': 0.6621301775147929,\n",
       "  'f1-score': 0.6502704338507448,\n",
       "  'macro_f1-score': 0.3852710450694335,\n",
       "  'balanced_accuracy': 0.40131943310781343,\n",
       "  'mcc': 0.5535206310140255},\n",
       " {'val_loss': 1.4198435907254645,\n",
       "  'val_accuracy': 0.6664412510566358,\n",
       "  'precision': 0.6621849178369379,\n",
       "  'recall': 0.6664412510566358,\n",
       "  'f1-score': 0.6462229550699481,\n",
       "  'macro_f1-score': 0.36599080211946494,\n",
       "  'balanced_accuracy': 0.3724178082881478,\n",
       "  'mcc': 0.5534439002791177},\n",
       " {'val_loss': 1.3830137939947955,\n",
       "  'val_accuracy': 0.6613017751479291,\n",
       "  'precision': 0.6655075996700208,\n",
       "  'recall': 0.6613017751479291,\n",
       "  'f1-score': 0.6444544228023101,\n",
       "  'macro_f1-score': 0.37216038853698413,\n",
       "  'balanced_accuracy': 0.3805490247781181,\n",
       "  'mcc': 0.5506037841418244}]"
      ]
     },
     "execution_count": 8,
     "metadata": {},
     "output_type": "execute_result"
    }
   ],
   "source": [
    "all_fold_results"
   ]
  }
 ],
 "metadata": {
  "kernelspec": {
   "display_name": "Python 3 (ipykernel)",
   "language": "python",
   "name": "python3"
  },
  "language_info": {
   "codemirror_mode": {
    "name": "ipython",
    "version": 3
   },
   "file_extension": ".py",
   "mimetype": "text/x-python",
   "name": "python",
   "nbconvert_exporter": "python",
   "pygments_lexer": "ipython3",
   "version": "3.11.9"
  }
 },
 "nbformat": 4,
 "nbformat_minor": 5
}
