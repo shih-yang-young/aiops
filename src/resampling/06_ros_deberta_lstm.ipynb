{
 "cells": [
  {
   "cell_type": "code",
   "execution_count": 1,
   "id": "c6902def-8805-4483-a546-4ab48a7b8953",
   "metadata": {},
   "outputs": [
    {
     "data": {
      "text/html": [
       "<div>\n",
       "<style scoped>\n",
       "    .dataframe tbody tr th:only-of-type {\n",
       "        vertical-align: middle;\n",
       "    }\n",
       "\n",
       "    .dataframe tbody tr th {\n",
       "        vertical-align: top;\n",
       "    }\n",
       "\n",
       "    .dataframe thead th {\n",
       "        text-align: right;\n",
       "    }\n",
       "</style>\n",
       "<table border=\"1\" class=\"dataframe\">\n",
       "  <thead>\n",
       "    <tr style=\"text-align: right;\">\n",
       "      <th></th>\n",
       "      <th>Inbound Message</th>\n",
       "      <th>Label</th>\n",
       "    </tr>\n",
       "  </thead>\n",
       "  <tbody>\n",
       "    <tr>\n",
       "      <th>0</th>\n",
       "      <td>login issue verified user details employee man...</td>\n",
       "      <td>0</td>\n",
       "    </tr>\n",
       "    <tr>\n",
       "      <th>1</th>\n",
       "      <td>outlook hello team meetings skype meetings etc...</td>\n",
       "      <td>0</td>\n",
       "    </tr>\n",
       "    <tr>\n",
       "      <th>2</th>\n",
       "      <td>cant log vpn cannot log vpn best</td>\n",
       "      <td>0</td>\n",
       "    </tr>\n",
       "    <tr>\n",
       "      <th>3</th>\n",
       "      <td>unable access tool page unable access tool page</td>\n",
       "      <td>0</td>\n",
       "    </tr>\n",
       "    <tr>\n",
       "      <th>4</th>\n",
       "      <td>skype error skype error</td>\n",
       "      <td>0</td>\n",
       "    </tr>\n",
       "    <tr>\n",
       "      <th>...</th>\n",
       "      <td>...</td>\n",
       "      <td>...</td>\n",
       "    </tr>\n",
       "    <tr>\n",
       "      <th>8449</th>\n",
       "      <td>emails coming mail good afternoon receiving em...</td>\n",
       "      <td>22</td>\n",
       "    </tr>\n",
       "    <tr>\n",
       "      <th>8450</th>\n",
       "      <td>telephony software issue telephony software issue</td>\n",
       "      <td>0</td>\n",
       "    </tr>\n",
       "    <tr>\n",
       "      <th>8451</th>\n",
       "      <td>vip windows password reset tifpdchb pedxruyf v...</td>\n",
       "      <td>0</td>\n",
       "    </tr>\n",
       "    <tr>\n",
       "      <th>8452</th>\n",
       "      <td>machine est funcionando unable access machine ...</td>\n",
       "      <td>44</td>\n",
       "    </tr>\n",
       "    <tr>\n",
       "      <th>8453</th>\n",
       "      <td>mehreren lassen sich verschiedene prgramdntyme...</td>\n",
       "      <td>49</td>\n",
       "    </tr>\n",
       "  </tbody>\n",
       "</table>\n",
       "<p>8454 rows × 2 columns</p>\n",
       "</div>"
      ],
      "text/plain": [
       "                                        Inbound Message  Label\n",
       "0     login issue verified user details employee man...      0\n",
       "1     outlook hello team meetings skype meetings etc...      0\n",
       "2                      cant log vpn cannot log vpn best      0\n",
       "3       unable access tool page unable access tool page      0\n",
       "4                               skype error skype error      0\n",
       "...                                                 ...    ...\n",
       "8449  emails coming mail good afternoon receiving em...     22\n",
       "8450  telephony software issue telephony software issue      0\n",
       "8451  vip windows password reset tifpdchb pedxruyf v...      0\n",
       "8452  machine est funcionando unable access machine ...     44\n",
       "8453  mehreren lassen sich verschiedene prgramdntyme...     49\n",
       "\n",
       "[8454 rows x 2 columns]"
      ]
     },
     "execution_count": 1,
     "metadata": {},
     "output_type": "execute_result"
    }
   ],
   "source": [
    "import pandas as pd\n",
    "data_path = \"../../data/open_source_8454_combine_short_description.csv\"\n",
    "df = pd.read_csv(data_path)\n",
    "# df_label_0 = df[df[\"Label\"] == 0]\n",
    "# df_label_0_to_drop = df_label_0.sample(n=3000, random_state=42)\n",
    "# df = df.drop(df_label_0_to_drop.index)\n",
    "df"
   ]
  },
  {
   "cell_type": "code",
   "execution_count": 2,
   "id": "8a523c41-9917-42ad-9920-021c2d567bf2",
   "metadata": {},
   "outputs": [],
   "source": [
    "import sys\n",
    "import os\n",
    "sys.path.append(os.path.abspath('../ml_lib'))\n",
    "\n",
    "from config import *\n",
    "from experiment import run_kfold_experiment"
   ]
  },
  {
   "cell_type": "code",
   "execution_count": 3,
   "id": "0042fdaa-0d1e-4925-a831-51d69b623c54",
   "metadata": {},
   "outputs": [],
   "source": [
    "messages, labels = df['Inbound Message'].tolist(), df['Label'].tolist()"
   ]
  },
  {
   "cell_type": "code",
   "execution_count": null,
   "id": "f9a1f7b1-5c13-4312-959c-24cae1a028e8",
   "metadata": {},
   "outputs": [
    {
     "name": "stdout",
     "output_type": "stream",
     "text": [
      "▶ Running: microsoft/deberta-base + lstm + ros\n",
      "tokenizer is microsoft/deberta-base\n",
      "Using device: cuda\n",
      "CUDA Available: True\n",
      "CUDA Device: NVIDIA GeForce RTX 3050 6GB Laptop GPU\n",
      "Current GPU Memory Allocated: 0.00 GB\n",
      "Current GPU Memory Cached: 0.00 GB\n",
      "\n",
      "[Fold 1]\n",
      "Label distribution after resampling:\n",
      "  label 0: 2000\n",
      "  label 1: 200\n",
      "  label 2: 200\n",
      "  label 3: 200\n",
      "  label 4: 231\n",
      "  label 5: 200\n",
      "  label 6: 200\n",
      "  label 7: 200\n",
      "  label 8: 200\n",
      "  label 9: 200\n",
      "  label 10: 200\n",
      "  label 11: 200\n",
      "  label 12: 217\n",
      "  label 13: 200\n",
      "  label 14: 200\n",
      "  label 15: 200\n",
      "  label 16: 200\n",
      "  label 17: 260\n",
      "  label 18: 200\n",
      "  label 19: 200\n",
      "  label 20: 200\n",
      "  label 21: 200\n",
      "  label 22: 200\n",
      "  label 23: 200\n",
      "  label 24: 200\n",
      "  label 25: 200\n",
      "  label 26: 200\n",
      "  label 27: 200\n",
      "  label 28: 200\n",
      "  label 29: 200\n",
      "  label 30: 200\n",
      "  label 31: 200\n",
      "  label 32: 200\n",
      "  label 33: 200\n",
      "  label 34: 200\n",
      "  label 35: 200\n",
      "  label 36: 200\n",
      "  label 37: 200\n",
      "  label 38: 200\n",
      "  label 39: 200\n",
      "  label 40: 200\n",
      "  label 41: 200\n",
      "  label 42: 200\n",
      "  label 43: 200\n",
      "  label 44: 200\n",
      "  label 45: 200\n",
      "  label 46: 200\n",
      "  label 47: 595\n",
      "  label 48: 227\n",
      "  label 49: 200\n",
      "model is microsoft/deberta-base lstm\n"
     ]
    },
    {
     "name": "stderr",
     "output_type": "stream",
     "text": [
      "D:\\Anaconda3\\envs\\cuda\\Lib\\site-packages\\sklearn\\model_selection\\_split.py:737: UserWarning: The least populated class in y has only 7 members, which is less than n_splits=10.\n",
      "  warnings.warn(\n"
     ]
    },
    {
     "name": "stdout",
     "output_type": "stream",
     "text": [
      "Epoch 1/20\n"
     ]
    },
    {
     "name": "stderr",
     "output_type": "stream",
     "text": [
      "100%|██████████| 771/771 [08:25<00:00,  1.53it/s]\n"
     ]
    },
    {
     "name": "stdout",
     "output_type": "stream",
     "text": [
      "{'val_loss': 2.9519814050422526, 'val_accuracy': 0.47044917257683216, 'precision': 0.221322423978226, 'recall': 0.47044917257683216, 'f1-score': 0.3010269625170084, 'macro_f1-score': 0.01305859964564604, 'balanced_accuracy': 0.02040816326530612, 'mcc': 0.0, 'train_loss': 3.706846180902226}\n",
      "Epoch 2/20\n"
     ]
    },
    {
     "name": "stderr",
     "output_type": "stream",
     "text": [
      "100%|██████████| 771/771 [08:25<00:00,  1.53it/s]\n"
     ]
    },
    {
     "name": "stdout",
     "output_type": "stream",
     "text": [
      "{'val_loss': 2.929658345456393, 'val_accuracy': 0.4657210401891253, 'precision': 0.22305291696181934, 'recall': 0.4657210401891253, 'f1-score': 0.3016386883568297, 'macro_f1-score': 0.013085136414207669, 'balanced_accuracy': 0.020203056096810584, 'mcc': 0.02175425885990653, 'train_loss': 3.693760722836941}\n",
      "Epoch 3/20\n"
     ]
    },
    {
     "name": "stderr",
     "output_type": "stream",
     "text": [
      "100%|██████████| 771/771 [08:28<00:00,  1.52it/s]\n"
     ]
    },
    {
     "name": "stdout",
     "output_type": "stream",
     "text": [
      "{'val_loss': 2.910826764016781, 'val_accuracy': 0.4657210401891253, 'precision': 0.22305291696181934, 'recall': 0.4657210401891253, 'f1-score': 0.3016386883568297, 'macro_f1-score': 0.013085136414207669, 'balanced_accuracy': 0.020203056096810584, 'mcc': 0.02175425885990653, 'train_loss': 3.6799676399750467}\n",
      "Epoch 4/20\n"
     ]
    },
    {
     "name": "stderr",
     "output_type": "stream",
     "text": [
      "100%|██████████| 771/771 [08:28<00:00,  1.52it/s]\n"
     ]
    },
    {
     "name": "stdout",
     "output_type": "stream",
     "text": [
      "{'val_loss': 2.951984162600535, 'val_accuracy': 0.4657210401891253, 'precision': 0.22305291696181934, 'recall': 0.4657210401891253, 'f1-score': 0.3016386883568297, 'macro_f1-score': 0.013085136414207669, 'balanced_accuracy': 0.020203056096810584, 'mcc': 0.02175425885990653, 'train_loss': 3.674685240101103}\n",
      "Epoch 5/20\n"
     ]
    },
    {
     "name": "stderr",
     "output_type": "stream",
     "text": [
      "100%|██████████| 771/771 [08:25<00:00,  1.53it/s]\n"
     ]
    },
    {
     "name": "stdout",
     "output_type": "stream",
     "text": [
      "{'val_loss': 2.8910578151918807, 'val_accuracy': 0.4657210401891253, 'precision': 0.22305291696181934, 'recall': 0.4657210401891253, 'f1-score': 0.3016386883568297, 'macro_f1-score': 0.013085136414207669, 'balanced_accuracy': 0.020203056096810584, 'mcc': 0.02201109780748512, 'train_loss': 3.6736895524728777}\n",
      "Early stopping.\n",
      "\n",
      "[Fold 2]\n",
      "Label distribution after resampling:\n",
      "  label 0: 2000\n",
      "  label 1: 200\n",
      "  label 2: 200\n",
      "  label 3: 200\n",
      "  label 4: 231\n",
      "  label 5: 200\n",
      "  label 6: 200\n",
      "  label 7: 200\n",
      "  label 8: 200\n",
      "  label 9: 200\n",
      "  label 10: 200\n",
      "  label 11: 200\n",
      "  label 12: 217\n",
      "  label 13: 200\n",
      "  label 14: 200\n",
      "  label 15: 200\n",
      "  label 16: 200\n",
      "  label 17: 260\n",
      "  label 18: 200\n",
      "  label 19: 200\n",
      "  label 20: 200\n",
      "  label 21: 200\n",
      "  label 22: 200\n",
      "  label 23: 200\n",
      "  label 24: 200\n",
      "  label 25: 200\n",
      "  label 26: 200\n",
      "  label 27: 200\n",
      "  label 28: 200\n",
      "  label 29: 200\n",
      "  label 30: 200\n",
      "  label 31: 200\n",
      "  label 32: 200\n",
      "  label 33: 200\n",
      "  label 34: 200\n",
      "  label 35: 200\n",
      "  label 36: 200\n",
      "  label 37: 200\n",
      "  label 38: 200\n",
      "  label 39: 200\n",
      "  label 40: 200\n",
      "  label 41: 200\n",
      "  label 42: 200\n",
      "  label 43: 200\n",
      "  label 44: 200\n",
      "  label 45: 200\n",
      "  label 46: 200\n",
      "  label 47: 595\n",
      "  label 48: 227\n",
      "  label 49: 200\n",
      "model is microsoft/deberta-base lstm\n",
      "Epoch 1/20\n"
     ]
    },
    {
     "name": "stderr",
     "output_type": "stream",
     "text": [
      "100%|██████████| 771/771 [08:25<00:00,  1.52it/s]\n"
     ]
    },
    {
     "name": "stdout",
     "output_type": "stream",
     "text": [
      "{'val_loss': 2.9232226092860385, 'val_accuracy': 0.47044917257683216, 'precision': 0.221322423978226, 'recall': 0.47044917257683216, 'f1-score': 0.3010269625170084, 'macro_f1-score': 0.01279742765273312, 'balanced_accuracy': 0.02, 'mcc': 0.0, 'train_loss': 3.7138594399784943}\n",
      "Epoch 2/20\n"
     ]
    },
    {
     "name": "stderr",
     "output_type": "stream",
     "text": [
      "100%|██████████| 771/771 [08:24<00:00,  1.53it/s]\n"
     ]
    },
    {
     "name": "stdout",
     "output_type": "stream",
     "text": [
      "{'val_loss': 2.9417050289657882, 'val_accuracy': 0.46808510638297873, 'precision': 0.2241851652712702, 'recall': 0.46808510638297873, 'f1-score': 0.3031698492114329, 'macro_f1-score': 0.01288852725793328, 'balanced_accuracy': 0.019899497487437186, 'mcc': 0.036496547696437516, 'train_loss': 3.689497425707707}\n",
      "Epoch 3/20\n"
     ]
    },
    {
     "name": "stderr",
     "output_type": "stream",
     "text": [
      "100%|██████████| 771/771 [08:24<00:00,  1.53it/s]\n"
     ]
    },
    {
     "name": "stdout",
     "output_type": "stream",
     "text": [
      "{'val_loss': 2.943055368819327, 'val_accuracy': 0.46808510638297873, 'precision': 0.2241851652712702, 'recall': 0.46808510638297873, 'f1-score': 0.3031698492114329, 'macro_f1-score': 0.01288852725793328, 'balanced_accuracy': 0.019899497487437186, 'mcc': 0.036496547696437516, 'train_loss': 3.680424266597486}\n",
      "Epoch 4/20\n"
     ]
    },
    {
     "name": "stderr",
     "output_type": "stream",
     "text": [
      "100%|██████████| 771/771 [08:25<00:00,  1.52it/s]\n"
     ]
    },
    {
     "name": "stdout",
     "output_type": "stream",
     "text": [
      "{'val_loss': 2.9472335599503428, 'val_accuracy': 0.46808510638297873, 'precision': 0.2241851652712702, 'recall': 0.46808510638297873, 'f1-score': 0.3031698492114329, 'macro_f1-score': 0.01288852725793328, 'balanced_accuracy': 0.019899497487437186, 'mcc': 0.036496547696437516, 'train_loss': 3.6748346401095855}\n",
      "Epoch 5/20\n"
     ]
    },
    {
     "name": "stderr",
     "output_type": "stream",
     "text": [
      "100%|██████████| 771/771 [08:26<00:00,  1.52it/s]\n"
     ]
    },
    {
     "name": "stdout",
     "output_type": "stream",
     "text": [
      "{'val_loss': 2.8395342197058335, 'val_accuracy': 0.46808510638297873, 'precision': 0.2241851652712702, 'recall': 0.46808510638297873, 'f1-score': 0.3031698492114329, 'macro_f1-score': 0.01288852725793328, 'balanced_accuracy': 0.019899497487437186, 'mcc': 0.036496547696437516, 'train_loss': 3.6651348956364136}\n",
      "Early stopping.\n",
      "\n",
      "[Fold 3]\n",
      "Label distribution after resampling:\n",
      "  label 0: 2000\n",
      "  label 1: 200\n",
      "  label 2: 200\n",
      "  label 3: 200\n",
      "  label 4: 231\n",
      "  label 5: 200\n",
      "  label 6: 200\n",
      "  label 7: 200\n",
      "  label 8: 200\n",
      "  label 9: 200\n",
      "  label 10: 200\n",
      "  label 11: 200\n",
      "  label 12: 217\n",
      "  label 13: 200\n",
      "  label 14: 200\n",
      "  label 15: 200\n",
      "  label 16: 200\n",
      "  label 17: 260\n",
      "  label 18: 200\n",
      "  label 19: 200\n",
      "  label 20: 200\n",
      "  label 21: 200\n",
      "  label 22: 200\n",
      "  label 23: 200\n",
      "  label 24: 200\n",
      "  label 25: 200\n",
      "  label 26: 200\n",
      "  label 27: 200\n",
      "  label 28: 200\n",
      "  label 29: 200\n",
      "  label 30: 200\n",
      "  label 31: 200\n",
      "  label 32: 200\n",
      "  label 33: 200\n",
      "  label 34: 200\n",
      "  label 35: 200\n",
      "  label 36: 200\n",
      "  label 37: 200\n",
      "  label 38: 200\n",
      "  label 39: 200\n",
      "  label 40: 200\n",
      "  label 41: 200\n",
      "  label 42: 200\n",
      "  label 43: 200\n",
      "  label 44: 200\n",
      "  label 45: 200\n",
      "  label 46: 200\n",
      "  label 47: 595\n",
      "  label 48: 227\n",
      "  label 49: 200\n",
      "model is microsoft/deberta-base lstm\n",
      "Epoch 1/20\n"
     ]
    },
    {
     "name": "stderr",
     "output_type": "stream",
     "text": [
      "100%|██████████| 771/771 [08:28<00:00,  1.52it/s]\n"
     ]
    },
    {
     "name": "stdout",
     "output_type": "stream",
     "text": [
      "{'val_loss': 2.8873619763356335, 'val_accuracy': 0.466903073286052, 'precision': 0.2230821406576815, 'recall': 0.466903073286052, 'f1-score': 0.30191295396888496, 'macro_f1-score': 0.012835093419983755, 'balanced_accuracy': 0.01984924623115578, 'mcc': 0.024093693052919595, 'train_loss': 3.707361018456683}\n",
      "Epoch 2/20\n"
     ]
    },
    {
     "name": "stderr",
     "output_type": "stream",
     "text": [
      "100%|██████████| 771/771 [08:29<00:00,  1.51it/s]\n"
     ]
    },
    {
     "name": "stdout",
     "output_type": "stream",
     "text": [
      "{'val_loss': 2.911666559723188, 'val_accuracy': 0.466903073286052, 'precision': 0.2230821406576815, 'recall': 0.466903073286052, 'f1-score': 0.30191295396888496, 'macro_f1-score': 0.012835093419983755, 'balanced_accuracy': 0.01984924623115578, 'mcc': 0.024093693052919595, 'train_loss': 3.67942828427029}\n",
      "Epoch 3/20\n"
     ]
    },
    {
     "name": "stderr",
     "output_type": "stream",
     "text": [
      "100%|██████████| 771/771 [08:27<00:00,  1.52it/s]\n"
     ]
    },
    {
     "name": "stdout",
     "output_type": "stream",
     "text": [
      "{'val_loss': 2.972125953098513, 'val_accuracy': 0.466903073286052, 'precision': 0.2230821406576815, 'recall': 0.466903073286052, 'f1-score': 0.30191295396888496, 'macro_f1-score': 0.012835093419983755, 'balanced_accuracy': 0.01984924623115578, 'mcc': 0.024093693052919595, 'train_loss': 3.6671908399628914}\n",
      "Epoch 4/20\n"
     ]
    },
    {
     "name": "stderr",
     "output_type": "stream",
     "text": [
      "100%|██████████| 771/771 [08:26<00:00,  1.52it/s]\n"
     ]
    },
    {
     "name": "stdout",
     "output_type": "stream",
     "text": [
      "{'val_loss': 2.9421554646402037, 'val_accuracy': 0.466903073286052, 'precision': 0.2230821406576815, 'recall': 0.466903073286052, 'f1-score': 0.30191295396888496, 'macro_f1-score': 0.012835093419983755, 'balanced_accuracy': 0.01984924623115578, 'mcc': 0.024093693052919595, 'train_loss': 3.6532414064642365}\n",
      "Early stopping.\n",
      "\n",
      "[Fold 4]\n",
      "Label distribution after resampling:\n",
      "  label 0: 2000\n",
      "  label 1: 200\n",
      "  label 2: 200\n",
      "  label 3: 200\n",
      "  label 4: 231\n",
      "  label 5: 200\n",
      "  label 6: 200\n",
      "  label 7: 200\n",
      "  label 8: 200\n",
      "  label 9: 200\n",
      "  label 10: 200\n",
      "  label 11: 200\n",
      "  label 12: 217\n",
      "  label 13: 200\n",
      "  label 14: 200\n",
      "  label 15: 200\n",
      "  label 16: 200\n",
      "  label 17: 260\n",
      "  label 18: 200\n",
      "  label 19: 200\n",
      "  label 20: 200\n",
      "  label 21: 200\n",
      "  label 22: 200\n",
      "  label 23: 200\n",
      "  label 24: 200\n",
      "  label 25: 200\n",
      "  label 26: 200\n",
      "  label 27: 200\n",
      "  label 28: 200\n",
      "  label 29: 200\n",
      "  label 30: 200\n",
      "  label 31: 200\n",
      "  label 32: 200\n",
      "  label 33: 200\n",
      "  label 34: 200\n",
      "  label 35: 200\n",
      "  label 36: 200\n",
      "  label 37: 200\n",
      "  label 38: 200\n",
      "  label 39: 200\n",
      "  label 40: 200\n",
      "  label 41: 200\n",
      "  label 42: 200\n",
      "  label 43: 200\n",
      "  label 44: 200\n",
      "  label 45: 200\n",
      "  label 46: 200\n",
      "  label 47: 595\n",
      "  label 48: 227\n",
      "  label 49: 200\n",
      "model is microsoft/deberta-base lstm\n",
      "Epoch 1/20\n"
     ]
    },
    {
     "name": "stderr",
     "output_type": "stream",
     "text": [
      "100%|██████████| 771/771 [08:24<00:00,  1.53it/s]\n"
     ]
    },
    {
     "name": "stdout",
     "output_type": "stream",
     "text": [
      "{'val_loss': 2.9175282379366316, 'val_accuracy': 0.4645390070921986, 'precision': 0.22168648060275184, 'recall': 0.4645390070921986, 'f1-score': 0.3001404623745049, 'macro_f1-score': 0.01275974025974026, 'balanced_accuracy': 0.019748743718592966, 'mcc': 0.005102310314673425, 'train_loss': 3.7038179928226693}\n",
      "Epoch 2/20\n"
     ]
    },
    {
     "name": "stderr",
     "output_type": "stream",
     "text": [
      "100%|██████████| 771/771 [08:24<00:00,  1.53it/s]\n"
     ]
    },
    {
     "name": "stdout",
     "output_type": "stream",
     "text": [
      "{'val_loss': 2.9742167265910022, 'val_accuracy': 0.4645390070921986, 'precision': 0.22168648060275184, 'recall': 0.4645390070921986, 'f1-score': 0.3001404623745049, 'macro_f1-score': 0.01275974025974026, 'balanced_accuracy': 0.019748743718592966, 'mcc': 0.005102310314673425, 'train_loss': 3.6861360598785557}\n",
      "Epoch 3/20\n"
     ]
    },
    {
     "name": "stderr",
     "output_type": "stream",
     "text": [
      "100%|██████████| 771/771 [08:26<00:00,  1.52it/s]\n"
     ]
    },
    {
     "name": "stdout",
     "output_type": "stream",
     "text": [
      "{'val_loss': 3.0445825108941995, 'val_accuracy': 0.4645390070921986, 'precision': 0.22168648060275184, 'recall': 0.4645390070921986, 'f1-score': 0.3001404623745049, 'macro_f1-score': 0.01275974025974026, 'balanced_accuracy': 0.019748743718592966, 'mcc': 0.005102310314673425, 'train_loss': 3.6789460123435687}\n",
      "Epoch 4/20\n"
     ]
    },
    {
     "name": "stderr",
     "output_type": "stream",
     "text": [
      "100%|██████████| 771/771 [08:25<00:00,  1.52it/s]\n"
     ]
    },
    {
     "name": "stdout",
     "output_type": "stream",
     "text": [
      "{'val_loss': 2.955002096464049, 'val_accuracy': 0.4645390070921986, 'precision': 0.22168648060275184, 'recall': 0.4645390070921986, 'f1-score': 0.3001404623745049, 'macro_f1-score': 0.01275974025974026, 'balanced_accuracy': 0.019748743718592966, 'mcc': 0.005102310314673425, 'train_loss': 3.6792765721272866}\n",
      "Early stopping.\n",
      "\n",
      "[Fold 5]\n",
      "Label distribution after resampling:\n",
      "  label 0: 2000\n",
      "  label 1: 200\n",
      "  label 2: 200\n",
      "  label 3: 200\n",
      "  label 4: 231\n",
      "  label 5: 200\n",
      "  label 6: 200\n",
      "  label 7: 200\n",
      "  label 8: 200\n",
      "  label 9: 200\n",
      "  label 10: 200\n",
      "  label 11: 200\n",
      "  label 12: 217\n",
      "  label 13: 200\n",
      "  label 14: 200\n",
      "  label 15: 200\n",
      "  label 16: 200\n",
      "  label 17: 260\n",
      "  label 18: 200\n",
      "  label 19: 200\n",
      "  label 20: 200\n",
      "  label 21: 200\n",
      "  label 22: 200\n",
      "  label 23: 200\n",
      "  label 24: 200\n",
      "  label 25: 200\n",
      "  label 26: 200\n",
      "  label 27: 200\n",
      "  label 28: 200\n",
      "  label 29: 200\n",
      "  label 30: 200\n",
      "  label 31: 200\n",
      "  label 32: 200\n",
      "  label 33: 200\n",
      "  label 34: 200\n",
      "  label 35: 200\n",
      "  label 36: 200\n",
      "  label 37: 200\n",
      "  label 38: 200\n",
      "  label 39: 200\n",
      "  label 40: 200\n",
      "  label 41: 200\n",
      "  label 42: 200\n",
      "  label 43: 200\n",
      "  label 44: 200\n",
      "  label 45: 200\n",
      "  label 46: 200\n",
      "  label 47: 595\n",
      "  label 48: 227\n",
      "  label 49: 200\n",
      "model is microsoft/deberta-base lstm\n",
      "Epoch 1/20\n"
     ]
    },
    {
     "name": "stderr",
     "output_type": "stream",
     "text": [
      "100%|██████████| 771/771 [08:25<00:00,  1.53it/s]\n"
     ]
    },
    {
     "name": "stdout",
     "output_type": "stream",
     "text": [
      "{'val_loss': 2.993869219186171, 'val_accuracy': 0.4686390532544379, 'precision': 0.22308118002639307, 'recall': 0.4686390532544379, 'f1-score': 0.30227409283836204, 'macro_f1-score': 0.012867587327376117, 'balanced_accuracy': 0.019949622166246853, 'mcc': 0.03484803419596345, 'train_loss': 3.705953176537995}\n",
      "Epoch 2/20\n"
     ]
    },
    {
     "name": "stderr",
     "output_type": "stream",
     "text": [
      "100%|██████████| 771/771 [08:24<00:00,  1.53it/s]\n"
     ]
    },
    {
     "name": "stdout",
     "output_type": "stream",
     "text": [
      "{'val_loss': 2.8800807134160458, 'val_accuracy': 0.46982248520710057, 'precision': 0.22073316760617626, 'recall': 0.46982248520710057, 'f1-score': 0.3003535050357793, 'macro_f1-score': 0.012785829307568436, 'balanced_accuracy': 0.02, 'mcc': 0.0, 'train_loss': 3.7015669454087234}\n",
      "Epoch 3/20\n"
     ]
    },
    {
     "name": "stderr",
     "output_type": "stream",
     "text": [
      "100%|██████████| 771/771 [08:26<00:00,  1.52it/s]\n"
     ]
    },
    {
     "name": "stdout",
     "output_type": "stream",
     "text": [
      "{'val_loss': 2.9696201873275467, 'val_accuracy': 0.46982248520710057, 'precision': 0.22073316760617626, 'recall': 0.46982248520710057, 'f1-score': 0.3003535050357793, 'macro_f1-score': 0.012785829307568436, 'balanced_accuracy': 0.02, 'mcc': 0.0, 'train_loss': 3.683663729099912}\n",
      "Epoch 4/20\n"
     ]
    },
    {
     "name": "stderr",
     "output_type": "stream",
     "text": [
      "100%|██████████| 771/771 [08:27<00:00,  1.52it/s]\n"
     ]
    },
    {
     "name": "stdout",
     "output_type": "stream",
     "text": [
      "{'val_loss': 2.9201115842135446, 'val_accuracy': 0.46982248520710057, 'precision': 0.22073316760617626, 'recall': 0.46982248520710057, 'f1-score': 0.3003535050357793, 'macro_f1-score': 0.012785829307568436, 'balanced_accuracy': 0.02, 'mcc': 0.0, 'train_loss': 3.67644007072993}\n",
      "Early stopping.\n",
      "\n",
      "[Fold 6]\n",
      "Label distribution after resampling:\n",
      "  label 0: 2000\n",
      "  label 1: 200\n",
      "  label 2: 200\n",
      "  label 3: 200\n",
      "  label 4: 231\n",
      "  label 5: 200\n",
      "  label 6: 200\n",
      "  label 7: 200\n",
      "  label 8: 200\n",
      "  label 9: 200\n",
      "  label 10: 200\n",
      "  label 11: 200\n",
      "  label 12: 217\n",
      "  label 13: 200\n",
      "  label 14: 200\n",
      "  label 15: 200\n",
      "  label 16: 200\n",
      "  label 17: 260\n",
      "  label 18: 200\n",
      "  label 19: 200\n",
      "  label 20: 200\n",
      "  label 21: 200\n",
      "  label 22: 200\n",
      "  label 23: 200\n",
      "  label 24: 200\n",
      "  label 25: 200\n",
      "  label 26: 200\n",
      "  label 27: 200\n",
      "  label 28: 200\n",
      "  label 29: 200\n",
      "  label 30: 200\n",
      "  label 31: 200\n",
      "  label 32: 200\n",
      "  label 33: 200\n",
      "  label 34: 200\n",
      "  label 35: 200\n",
      "  label 36: 200\n",
      "  label 37: 200\n",
      "  label 38: 200\n",
      "  label 39: 200\n",
      "  label 40: 200\n",
      "  label 41: 200\n",
      "  label 42: 200\n",
      "  label 43: 200\n",
      "  label 44: 200\n",
      "  label 45: 200\n",
      "  label 46: 200\n",
      "  label 47: 595\n",
      "  label 48: 227\n",
      "  label 49: 200\n",
      "model is microsoft/deberta-base lstm\n",
      "Epoch 1/20\n"
     ]
    },
    {
     "name": "stderr",
     "output_type": "stream",
     "text": [
      "100%|██████████| 771/771 [08:25<00:00,  1.52it/s]\n"
     ]
    },
    {
     "name": "stdout",
     "output_type": "stream",
     "text": [
      "{'val_loss': 2.9502595955470823, 'val_accuracy': 0.46982248520710057, 'precision': 0.22073316760617626, 'recall': 0.46982248520710057, 'f1-score': 0.3003535050357793, 'macro_f1-score': 0.012785829307568436, 'balanced_accuracy': 0.02, 'mcc': 0.0, 'train_loss': 3.7136001528159808}\n",
      "Epoch 2/20\n"
     ]
    },
    {
     "name": "stderr",
     "output_type": "stream",
     "text": [
      "100%|██████████| 771/771 [08:27<00:00,  1.52it/s]\n"
     ]
    },
    {
     "name": "stdout",
     "output_type": "stream",
     "text": [
      "{'val_loss': 2.948515482668607, 'val_accuracy': 0.46982248520710057, 'precision': 0.22073316760617626, 'recall': 0.46982248520710057, 'f1-score': 0.3003535050357793, 'macro_f1-score': 0.012785829307568436, 'balanced_accuracy': 0.02, 'mcc': 0.0, 'train_loss': 3.6903969292201575}\n",
      "Epoch 3/20\n"
     ]
    },
    {
     "name": "stderr",
     "output_type": "stream",
     "text": [
      "100%|██████████| 771/771 [08:23<00:00,  1.53it/s]\n"
     ]
    },
    {
     "name": "stdout",
     "output_type": "stream",
     "text": [
      "{'val_loss': 2.9069120164187447, 'val_accuracy': 0.46982248520710057, 'precision': 0.22073316760617626, 'recall': 0.46982248520710057, 'f1-score': 0.3003535050357793, 'macro_f1-score': 0.012785829307568436, 'balanced_accuracy': 0.02, 'mcc': 0.0, 'train_loss': 3.682736015505364}\n",
      "Epoch 4/20\n"
     ]
    },
    {
     "name": "stderr",
     "output_type": "stream",
     "text": [
      "100%|██████████| 771/771 [08:23<00:00,  1.53it/s]\n"
     ]
    },
    {
     "name": "stdout",
     "output_type": "stream",
     "text": [
      "{'val_loss': 2.9219003533417323, 'val_accuracy': 0.46982248520710057, 'precision': 0.22073316760617626, 'recall': 0.46982248520710057, 'f1-score': 0.3003535050357793, 'macro_f1-score': 0.012785829307568436, 'balanced_accuracy': 0.02, 'mcc': 0.0, 'train_loss': 3.678323164060422}\n",
      "Early stopping.\n",
      "\n",
      "[Fold 7]\n",
      "Label distribution after resampling:\n",
      "  label 0: 2000\n",
      "  label 1: 200\n",
      "  label 2: 200\n",
      "  label 3: 200\n",
      "  label 4: 232\n",
      "  label 5: 200\n",
      "  label 6: 200\n",
      "  label 7: 200\n",
      "  label 8: 200\n",
      "  label 9: 200\n",
      "  label 10: 200\n",
      "  label 11: 200\n",
      "  label 12: 217\n",
      "  label 13: 200\n",
      "  label 14: 200\n",
      "  label 15: 200\n",
      "  label 16: 200\n",
      "  label 17: 260\n",
      "  label 18: 200\n",
      "  label 19: 200\n",
      "  label 20: 200\n",
      "  label 21: 200\n",
      "  label 22: 200\n",
      "  label 23: 200\n",
      "  label 24: 200\n",
      "  label 25: 200\n",
      "  label 26: 200\n",
      "  label 27: 200\n",
      "  label 28: 200\n",
      "  label 29: 200\n",
      "  label 30: 200\n",
      "  label 31: 200\n",
      "  label 32: 200\n",
      "  label 33: 200\n",
      "  label 34: 200\n",
      "  label 35: 200\n",
      "  label 36: 200\n",
      "  label 37: 200\n",
      "  label 38: 200\n",
      "  label 39: 200\n",
      "  label 40: 200\n",
      "  label 41: 200\n",
      "  label 42: 200\n",
      "  label 43: 200\n",
      "  label 44: 200\n",
      "  label 45: 200\n",
      "  label 46: 200\n",
      "  label 47: 594\n",
      "  label 48: 227\n",
      "  label 49: 200\n",
      "model is microsoft/deberta-base lstm\n",
      "Epoch 1/20\n"
     ]
    },
    {
     "name": "stderr",
     "output_type": "stream",
     "text": [
      "100%|██████████| 771/771 [08:24<00:00,  1.53it/s]\n"
     ]
    },
    {
     "name": "stdout",
     "output_type": "stream",
     "text": [
      "{'val_loss': 2.9895962724145853, 'val_accuracy': 0.45798816568047335, 'precision': 0.22012264137427112, 'recall': 0.45798816568047335, 'f1-score': 0.2973365523714602, 'macro_f1-score': 0.012657399836467702, 'balanced_accuracy': 0.019496221662468515, 'mcc': -0.007217170789019822, 'train_loss': 3.698949434104751}\n",
      "Epoch 2/20\n"
     ]
    },
    {
     "name": "stderr",
     "output_type": "stream",
     "text": [
      "100%|██████████| 771/771 [08:25<00:00,  1.52it/s]\n"
     ]
    },
    {
     "name": "stdout",
     "output_type": "stream",
     "text": [
      "{'val_loss': 2.9260413646698, 'val_accuracy': 0.45798816568047335, 'precision': 0.22012264137427112, 'recall': 0.45798816568047335, 'f1-score': 0.2973365523714602, 'macro_f1-score': 0.012657399836467702, 'balanced_accuracy': 0.019496221662468515, 'mcc': -0.007217170789019822, 'train_loss': 3.6878208965642907}\n",
      "Epoch 3/20\n"
     ]
    },
    {
     "name": "stderr",
     "output_type": "stream",
     "text": [
      "100%|██████████| 771/771 [08:24<00:00,  1.53it/s]\n"
     ]
    },
    {
     "name": "stdout",
     "output_type": "stream",
     "text": [
      "{'val_loss': 2.9612889154902042, 'val_accuracy': 0.46153846153846156, 'precision': 0.22460722561594038, 'recall': 0.46153846153846156, 'f1-score': 0.3012996733292145, 'macro_f1-score': 0.015448097510886306, 'balanced_accuracy': 0.021996221662468517, 'mcc': 0.00895081922193781, 'train_loss': 3.681702163278206}\n",
      "Epoch 4/20\n"
     ]
    },
    {
     "name": "stderr",
     "output_type": "stream",
     "text": [
      "100%|██████████| 771/771 [08:24<00:00,  1.53it/s]\n"
     ]
    },
    {
     "name": "stdout",
     "output_type": "stream",
     "text": [
      "{'val_loss': 2.944823242583365, 'val_accuracy': 0.46153846153846156, 'precision': 0.22460722561594038, 'recall': 0.46153846153846156, 'f1-score': 0.3012996733292145, 'macro_f1-score': 0.015448097510886306, 'balanced_accuracy': 0.021996221662468517, 'mcc': 0.00895081922193781, 'train_loss': 3.6806614003138165}\n",
      "Epoch 5/20\n"
     ]
    },
    {
     "name": "stderr",
     "output_type": "stream",
     "text": [
      "100%|██████████| 771/771 [08:26<00:00,  1.52it/s]\n"
     ]
    },
    {
     "name": "stdout",
     "output_type": "stream",
     "text": [
      "{'val_loss': 2.9810720254790106, 'val_accuracy': 0.46153846153846156, 'precision': 0.22460722561594038, 'recall': 0.46153846153846156, 'f1-score': 0.3012996733292145, 'macro_f1-score': 0.015448097510886306, 'balanced_accuracy': 0.021996221662468517, 'mcc': 0.00895081922193781, 'train_loss': 3.675562859818475}\n",
      "Epoch 6/20\n"
     ]
    },
    {
     "name": "stderr",
     "output_type": "stream",
     "text": [
      "100%|██████████| 771/771 [08:24<00:00,  1.53it/s]\n"
     ]
    },
    {
     "name": "stdout",
     "output_type": "stream",
     "text": [
      "{'val_loss': 2.922624000963175, 'val_accuracy': 0.46153846153846156, 'precision': 0.22460722561594038, 'recall': 0.46153846153846156, 'f1-score': 0.3012996733292145, 'macro_f1-score': 0.015448097510886306, 'balanced_accuracy': 0.021996221662468517, 'mcc': 0.00895081922193781, 'train_loss': 3.6755786480142913}\n",
      "Early stopping.\n",
      "\n",
      "[Fold 8]\n",
      "Label distribution after resampling:\n",
      "  label 0: 2000\n",
      "  label 1: 200\n",
      "  label 2: 200\n",
      "  label 3: 200\n",
      "  label 4: 232\n",
      "  label 5: 200\n",
      "  label 6: 200\n",
      "  label 7: 200\n",
      "  label 8: 200\n",
      "  label 9: 200\n",
      "  label 10: 200\n",
      "  label 11: 200\n",
      "  label 12: 216\n",
      "  label 13: 200\n",
      "  label 14: 200\n",
      "  label 15: 200\n",
      "  label 16: 200\n",
      "  label 17: 260\n",
      "  label 18: 200\n",
      "  label 19: 200\n",
      "  label 20: 200\n",
      "  label 21: 200\n",
      "  label 22: 200\n",
      "  label 23: 200\n",
      "  label 24: 200\n",
      "  label 25: 200\n",
      "  label 26: 200\n",
      "  label 27: 200\n",
      "  label 28: 200\n",
      "  label 29: 200\n",
      "  label 30: 200\n",
      "  label 31: 200\n",
      "  label 32: 200\n",
      "  label 33: 200\n",
      "  label 34: 200\n",
      "  label 35: 200\n",
      "  label 36: 200\n",
      "  label 37: 200\n",
      "  label 38: 200\n",
      "  label 39: 200\n",
      "  label 40: 200\n",
      "  label 41: 200\n",
      "  label 42: 200\n",
      "  label 43: 200\n",
      "  label 44: 200\n",
      "  label 45: 200\n",
      "  label 46: 200\n",
      "  label 47: 595\n",
      "  label 48: 226\n",
      "  label 49: 200\n",
      "model is microsoft/deberta-base lstm\n",
      "Epoch 1/20\n"
     ]
    },
    {
     "name": "stderr",
     "output_type": "stream",
     "text": [
      "100%|██████████| 771/771 [08:24<00:00,  1.53it/s]\n"
     ]
    },
    {
     "name": "stdout",
     "output_type": "stream",
     "text": [
      "{'val_loss': 2.9434928219273404, 'val_accuracy': 0.46982248520710057, 'precision': 0.22909560124222716, 'recall': 0.46982248520710057, 'f1-score': 0.306033842417629, 'macro_f1-score': 0.015910799298421447, 'balanced_accuracy': 0.022248866498740555, 'mcc': 0.04619288134022071, 'train_loss': 3.7039504542888833}\n",
      "Epoch 2/20\n"
     ]
    },
    {
     "name": "stderr",
     "output_type": "stream",
     "text": [
      "100%|██████████| 771/771 [08:23<00:00,  1.53it/s]\n"
     ]
    },
    {
     "name": "stdout",
     "output_type": "stream",
     "text": [
      "{'val_loss': 2.9562716214162, 'val_accuracy': 0.46982248520710057, 'precision': 0.22909560124222716, 'recall': 0.46982248520710057, 'f1-score': 0.306033842417629, 'macro_f1-score': 0.015910799298421447, 'balanced_accuracy': 0.022248866498740555, 'mcc': 0.04619288134022071, 'train_loss': 3.6830862180732105}\n",
      "Epoch 3/20\n"
     ]
    },
    {
     "name": "stderr",
     "output_type": "stream",
     "text": [
      "100%|██████████| 771/771 [08:24<00:00,  1.53it/s]\n"
     ]
    },
    {
     "name": "stdout",
     "output_type": "stream",
     "text": [
      "{'val_loss': 2.9422462211464935, 'val_accuracy': 0.4662721893491124, 'precision': 0.22275578721010544, 'recall': 0.4662721893491124, 'f1-score': 0.3014821810612339, 'macro_f1-score': 0.012833876221498371, 'balanced_accuracy': 0.019848866498740556, 'mcc': 0.026440280198770726, 'train_loss': 3.6803656394379614}\n",
      "Epoch 4/20\n"
     ]
    },
    {
     "name": "stderr",
     "output_type": "stream",
     "text": [
      "100%|██████████| 771/771 [08:24<00:00,  1.53it/s]\n"
     ]
    },
    {
     "name": "stdout",
     "output_type": "stream",
     "text": [
      "{'val_loss': 2.9461977751749866, 'val_accuracy': 0.46982248520710057, 'precision': 0.22909560124222716, 'recall': 0.46982248520710057, 'f1-score': 0.306033842417629, 'macro_f1-score': 0.015910799298421447, 'balanced_accuracy': 0.022248866498740555, 'mcc': 0.04619288134022071, 'train_loss': 3.6796053637171844}\n",
      "Early stopping.\n",
      "\n",
      "[Fold 9]\n",
      "Label distribution after resampling:\n",
      "  label 0: 2000\n",
      "  label 1: 200\n",
      "  label 2: 200\n",
      "  label 3: 200\n",
      "  label 4: 232\n",
      "  label 5: 200\n",
      "  label 6: 200\n",
      "  label 7: 200\n",
      "  label 8: 200\n",
      "  label 9: 200\n",
      "  label 10: 200\n",
      "  label 11: 200\n",
      "  label 12: 217\n",
      "  label 13: 200\n",
      "  label 14: 200\n",
      "  label 15: 200\n",
      "  label 16: 200\n",
      "  label 17: 261\n",
      "  label 18: 200\n",
      "  label 19: 200\n",
      "  label 20: 200\n",
      "  label 21: 200\n",
      "  label 22: 200\n",
      "  label 23: 200\n",
      "  label 24: 200\n",
      "  label 25: 200\n",
      "  label 26: 200\n",
      "  label 27: 200\n",
      "  label 28: 200\n",
      "  label 29: 200\n",
      "  label 30: 200\n",
      "  label 31: 200\n",
      "  label 32: 200\n",
      "  label 33: 200\n",
      "  label 34: 200\n",
      "  label 35: 200\n",
      "  label 36: 200\n",
      "  label 37: 200\n",
      "  label 38: 200\n",
      "  label 39: 200\n",
      "  label 40: 200\n",
      "  label 41: 200\n",
      "  label 42: 200\n",
      "  label 43: 200\n",
      "  label 44: 200\n",
      "  label 45: 200\n",
      "  label 46: 200\n",
      "  label 47: 595\n",
      "  label 48: 226\n",
      "  label 49: 200\n",
      "model is microsoft/deberta-base lstm\n",
      "Epoch 1/20\n"
     ]
    },
    {
     "name": "stderr",
     "output_type": "stream",
     "text": [
      " 21%|██        | 159/771 [01:43<06:32,  1.56it/s]"
     ]
    }
   ],
   "source": [
    "model_list = [\"microsoft/deberta-base\"]\n",
    "hybrid_list = [\"lstm\"]\n",
    "resample_list = [\"ros\"]\n",
    "\n",
    "for model_name in model_list:\n",
    "    for hybrid_type in hybrid_list:\n",
    "        for resample_method in resample_list:\n",
    "            results = run_kfold_experiment(\n",
    "                X=messages, y=labels, model_name=model_name, hybrid_type=hybrid_type, resample_method=resample_method,\n",
    "                kfold=KFOLD_SPLIT, seed=SEED, epochs=EPOCHS, patience=PATIENCE, max_length=MAX_LENGTH, \n",
    "                batch_size=BATCH_SIZE, lr=LR, weight_decay=WEIGHT_DECAY\n",
    "            )"
   ]
  },
  {
   "cell_type": "code",
   "execution_count": 6,
   "id": "ec792735-5337-4675-a201-30ec3a0415ca",
   "metadata": {},
   "outputs": [
    {
     "data": {
      "text/plain": [
       "[{'val_loss': 2.929658345456393,\n",
       "  'val_accuracy': 0.4657210401891253,\n",
       "  'precision': 0.22305291696181934,\n",
       "  'recall': 0.4657210401891253,\n",
       "  'f1-score': 0.3016386883568297,\n",
       "  'macro_f1-score': 0.013085136414207669,\n",
       "  'balanced_accuracy': 0.020203056096810584,\n",
       "  'mcc': 0.02175425885990653,\n",
       "  'train_loss': 3.693760722836941},\n",
       " {'val_loss': 2.9417050289657882,\n",
       "  'val_accuracy': 0.46808510638297873,\n",
       "  'precision': 0.2241851652712702,\n",
       "  'recall': 0.46808510638297873,\n",
       "  'f1-score': 0.3031698492114329,\n",
       "  'macro_f1-score': 0.01288852725793328,\n",
       "  'balanced_accuracy': 0.019899497487437186,\n",
       "  'mcc': 0.036496547696437516,\n",
       "  'train_loss': 3.689497425707707},\n",
       " {'val_loss': 2.8873619763356335,\n",
       "  'val_accuracy': 0.466903073286052,\n",
       "  'precision': 0.2230821406576815,\n",
       "  'recall': 0.466903073286052,\n",
       "  'f1-score': 0.30191295396888496,\n",
       "  'macro_f1-score': 0.012835093419983755,\n",
       "  'balanced_accuracy': 0.01984924623115578,\n",
       "  'mcc': 0.024093693052919595,\n",
       "  'train_loss': 3.707361018456683},\n",
       " {'val_loss': 2.9175282379366316,\n",
       "  'val_accuracy': 0.4645390070921986,\n",
       "  'precision': 0.22168648060275184,\n",
       "  'recall': 0.4645390070921986,\n",
       "  'f1-score': 0.3001404623745049,\n",
       "  'macro_f1-score': 0.01275974025974026,\n",
       "  'balanced_accuracy': 0.019748743718592966,\n",
       "  'mcc': 0.005102310314673425,\n",
       "  'train_loss': 3.7038179928226693},\n",
       " {'val_loss': 2.993869219186171,\n",
       "  'val_accuracy': 0.4686390532544379,\n",
       "  'precision': 0.22308118002639307,\n",
       "  'recall': 0.4686390532544379,\n",
       "  'f1-score': 0.30227409283836204,\n",
       "  'macro_f1-score': 0.012867587327376117,\n",
       "  'balanced_accuracy': 0.019949622166246853,\n",
       "  'mcc': 0.03484803419596345,\n",
       "  'train_loss': 3.705953176537995},\n",
       " {'val_loss': 2.9502595955470823,\n",
       "  'val_accuracy': 0.46982248520710057,\n",
       "  'precision': 0.22073316760617626,\n",
       "  'recall': 0.46982248520710057,\n",
       "  'f1-score': 0.3003535050357793,\n",
       "  'macro_f1-score': 0.012785829307568436,\n",
       "  'balanced_accuracy': 0.02,\n",
       "  'mcc': 0.0,\n",
       "  'train_loss': 3.7136001528159808},\n",
       " {'val_loss': 2.9612889154902042,\n",
       "  'val_accuracy': 0.46153846153846156,\n",
       "  'precision': 0.22460722561594038,\n",
       "  'recall': 0.46153846153846156,\n",
       "  'f1-score': 0.3012996733292145,\n",
       "  'macro_f1-score': 0.015448097510886306,\n",
       "  'balanced_accuracy': 0.021996221662468517,\n",
       "  'mcc': 0.00895081922193781,\n",
       "  'train_loss': 3.681702163278206},\n",
       " {'val_loss': 2.9434928219273404,\n",
       "  'val_accuracy': 0.46982248520710057,\n",
       "  'precision': 0.22909560124222716,\n",
       "  'recall': 0.46982248520710057,\n",
       "  'f1-score': 0.306033842417629,\n",
       "  'macro_f1-score': 0.015910799298421447,\n",
       "  'balanced_accuracy': 0.022248866498740555,\n",
       "  'mcc': 0.04619288134022071,\n",
       "  'train_loss': 3.7039504542888833},\n",
       " {'val_loss': 2.9340197995023907,\n",
       "  'val_accuracy': 0.463905325443787,\n",
       "  'precision': 0.22463465447923445,\n",
       "  'recall': 0.463905325443787,\n",
       "  'f1-score': 0.30192323891600226,\n",
       "  'macro_f1-score': 0.014985625907904226,\n",
       "  'balanced_accuracy': 0.02174900186774962,\n",
       "  'mcc': 0.017061328488290832,\n",
       "  'train_loss': 3.6784399941119084},\n",
       " {'val_loss': 2.9316482004129663,\n",
       "  'val_accuracy': 0.47218934911242605,\n",
       "  'precision': 0.22972635681069087,\n",
       "  'recall': 0.47218934911242605,\n",
       "  'f1-score': 0.30821447687273673,\n",
       "  'macro_f1-score': 0.016063730251651136,\n",
       "  'balanced_accuracy': 0.022907777720660057,\n",
       "  'mcc': 0.06702278090032462,\n",
       "  'train_loss': 3.6789846271856286}]"
      ]
     },
     "execution_count": 6,
     "metadata": {},
     "output_type": "execute_result"
    }
   ],
   "source": [
    "results"
   ]
  },
  {
   "cell_type": "code",
   "execution_count": 9,
   "id": "3c633d6f-3117-4e62-a92c-c50fb863c194",
   "metadata": {},
   "outputs": [
    {
     "name": "stdout",
     "output_type": "stream",
     "text": [
      "val_loss: 2.9391\n",
      "val_accuracy: 0.4671\n",
      "precision: 0.2244\n",
      "recall: 0.4671\n",
      "f1-score: 0.3027\n",
      "macro_f1-score: 0.0140\n",
      "balanced_accuracy: 0.0209\n",
      "mcc: 0.0262\n",
      "train_loss: 3.6957\n"
     ]
    }
   ],
   "source": [
    "import numpy as np\n",
    "final_metrics = {k: np.mean([f[k] for f in results]) for k in results[0].keys()}\n",
    "for metric, value in final_metrics.items():\n",
    "    print(f\"{metric}: {value:.4f}\")"
   ]
  },
  {
   "cell_type": "code",
   "execution_count": null,
   "id": "a979ee3d-a4b6-4ea5-8247-fe041653243b",
   "metadata": {},
   "outputs": [],
   "source": []
  },
  {
   "cell_type": "code",
   "execution_count": null,
   "id": "fc77c198-e078-4d19-bee3-c65c7c58dbd0",
   "metadata": {},
   "outputs": [],
   "source": []
  }
 ],
 "metadata": {
  "kernelspec": {
   "display_name": "Python 3 (ipykernel)",
   "language": "python",
   "name": "python3"
  },
  "language_info": {
   "codemirror_mode": {
    "name": "ipython",
    "version": 3
   },
   "file_extension": ".py",
   "mimetype": "text/x-python",
   "name": "python",
   "nbconvert_exporter": "python",
   "pygments_lexer": "ipython3",
   "version": "3.11.9"
  }
 },
 "nbformat": 4,
 "nbformat_minor": 5
}
