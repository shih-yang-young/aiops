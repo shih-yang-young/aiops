{
 "cells": [
  {
   "cell_type": "code",
   "execution_count": 1,
   "id": "c6902def-8805-4483-a546-4ab48a7b8953",
   "metadata": {},
   "outputs": [
    {
     "data": {
      "text/html": [
       "<div>\n",
       "<style scoped>\n",
       "    .dataframe tbody tr th:only-of-type {\n",
       "        vertical-align: middle;\n",
       "    }\n",
       "\n",
       "    .dataframe tbody tr th {\n",
       "        vertical-align: top;\n",
       "    }\n",
       "\n",
       "    .dataframe thead th {\n",
       "        text-align: right;\n",
       "    }\n",
       "</style>\n",
       "<table border=\"1\" class=\"dataframe\">\n",
       "  <thead>\n",
       "    <tr style=\"text-align: right;\">\n",
       "      <th></th>\n",
       "      <th>Inbound Message</th>\n",
       "      <th>Label</th>\n",
       "    </tr>\n",
       "  </thead>\n",
       "  <tbody>\n",
       "    <tr>\n",
       "      <th>0</th>\n",
       "      <td>login issue verified user details employee man...</td>\n",
       "      <td>0</td>\n",
       "    </tr>\n",
       "    <tr>\n",
       "      <th>1</th>\n",
       "      <td>outlook hello team meetings skype meetings etc...</td>\n",
       "      <td>0</td>\n",
       "    </tr>\n",
       "    <tr>\n",
       "      <th>2</th>\n",
       "      <td>cant log vpn cannot log vpn best</td>\n",
       "      <td>0</td>\n",
       "    </tr>\n",
       "    <tr>\n",
       "      <th>3</th>\n",
       "      <td>unable access tool page unable access tool page</td>\n",
       "      <td>0</td>\n",
       "    </tr>\n",
       "    <tr>\n",
       "      <th>4</th>\n",
       "      <td>skype error skype error</td>\n",
       "      <td>0</td>\n",
       "    </tr>\n",
       "    <tr>\n",
       "      <th>...</th>\n",
       "      <td>...</td>\n",
       "      <td>...</td>\n",
       "    </tr>\n",
       "    <tr>\n",
       "      <th>8449</th>\n",
       "      <td>emails coming mail good afternoon receiving em...</td>\n",
       "      <td>22</td>\n",
       "    </tr>\n",
       "    <tr>\n",
       "      <th>8450</th>\n",
       "      <td>telephony software issue telephony software issue</td>\n",
       "      <td>0</td>\n",
       "    </tr>\n",
       "    <tr>\n",
       "      <th>8451</th>\n",
       "      <td>vip windows password reset tifpdchb pedxruyf v...</td>\n",
       "      <td>0</td>\n",
       "    </tr>\n",
       "    <tr>\n",
       "      <th>8452</th>\n",
       "      <td>machine est funcionando unable access machine ...</td>\n",
       "      <td>44</td>\n",
       "    </tr>\n",
       "    <tr>\n",
       "      <th>8453</th>\n",
       "      <td>mehreren lassen sich verschiedene prgramdntyme...</td>\n",
       "      <td>49</td>\n",
       "    </tr>\n",
       "  </tbody>\n",
       "</table>\n",
       "<p>8454 rows × 2 columns</p>\n",
       "</div>"
      ],
      "text/plain": [
       "                                        Inbound Message  Label\n",
       "0     login issue verified user details employee man...      0\n",
       "1     outlook hello team meetings skype meetings etc...      0\n",
       "2                      cant log vpn cannot log vpn best      0\n",
       "3       unable access tool page unable access tool page      0\n",
       "4                               skype error skype error      0\n",
       "...                                                 ...    ...\n",
       "8449  emails coming mail good afternoon receiving em...     22\n",
       "8450  telephony software issue telephony software issue      0\n",
       "8451  vip windows password reset tifpdchb pedxruyf v...      0\n",
       "8452  machine est funcionando unable access machine ...     44\n",
       "8453  mehreren lassen sich verschiedene prgramdntyme...     49\n",
       "\n",
       "[8454 rows x 2 columns]"
      ]
     },
     "execution_count": 1,
     "metadata": {},
     "output_type": "execute_result"
    }
   ],
   "source": [
    "import pandas as pd\n",
    "data_path = \"../../data/open_source_8454_combine_short_description.csv\"\n",
    "df = pd.read_csv(data_path)\n",
    "# df_label_0 = df[df[\"Label\"] == 0]\n",
    "# df_label_0_to_drop = df_label_0.sample(n=3000, random_state=42)\n",
    "# df = df.drop(df_label_0_to_drop.index)\n",
    "df"
   ]
  },
  {
   "cell_type": "code",
   "execution_count": 2,
   "id": "8a523c41-9917-42ad-9920-021c2d567bf2",
   "metadata": {},
   "outputs": [],
   "source": [
    "import sys\n",
    "import os\n",
    "sys.path.append(os.path.abspath('../ml_lib'))\n",
    "\n",
    "from config import *\n",
    "from experiment import run_kfold_experiment"
   ]
  },
  {
   "cell_type": "code",
   "execution_count": 3,
   "id": "0042fdaa-0d1e-4925-a831-51d69b623c54",
   "metadata": {},
   "outputs": [],
   "source": [
    "messages, labels = df['Inbound Message'].tolist(), df['Label'].tolist()"
   ]
  },
  {
   "cell_type": "code",
   "execution_count": 4,
   "id": "f9a1f7b1-5c13-4312-959c-24cae1a028e8",
   "metadata": {},
   "outputs": [
    {
     "name": "stdout",
     "output_type": "stream",
     "text": [
      "▶ Running: roberta-base + lstm + ros\n",
      "tokenizer is roberta-base\n",
      "Using device: cuda\n",
      "CUDA Available: True\n",
      "CUDA Device: NVIDIA GeForce RTX 3050 6GB Laptop GPU\n",
      "Current GPU Memory Allocated: 0.00 GB\n",
      "Current GPU Memory Cached: 0.00 GB\n",
      "\n",
      "[Fold 1]\n",
      "Label distribution after resampling:\n",
      "  label 0: 2000\n",
      "  label 1: 200\n",
      "  label 2: 200\n",
      "  label 3: 200\n",
      "  label 4: 231\n",
      "  label 5: 200\n",
      "  label 6: 200\n",
      "  label 7: 200\n",
      "  label 8: 200\n",
      "  label 9: 200\n",
      "  label 10: 200\n",
      "  label 11: 200\n",
      "  label 12: 217\n",
      "  label 13: 200\n",
      "  label 14: 200\n",
      "  label 15: 200\n",
      "  label 16: 200\n",
      "  label 17: 260\n",
      "  label 18: 200\n",
      "  label 19: 200\n",
      "  label 20: 200\n",
      "  label 21: 200\n",
      "  label 22: 200\n",
      "  label 23: 200\n",
      "  label 24: 200\n",
      "  label 25: 200\n",
      "  label 26: 200\n",
      "  label 27: 200\n",
      "  label 28: 200\n",
      "  label 29: 200\n",
      "  label 30: 200\n",
      "  label 31: 200\n",
      "  label 32: 200\n",
      "  label 33: 200\n",
      "  label 34: 200\n",
      "  label 35: 200\n",
      "  label 36: 200\n",
      "  label 37: 200\n",
      "  label 38: 200\n",
      "  label 39: 200\n",
      "  label 40: 200\n",
      "  label 41: 200\n",
      "  label 42: 200\n",
      "  label 43: 200\n",
      "  label 44: 200\n",
      "  label 45: 200\n",
      "  label 46: 200\n",
      "  label 47: 595\n",
      "  label 48: 227\n",
      "  label 49: 200\n",
      "model is roberta-base lstm\n"
     ]
    },
    {
     "name": "stderr",
     "output_type": "stream",
     "text": [
      "D:\\Anaconda3\\envs\\cuda\\Lib\\site-packages\\sklearn\\model_selection\\_split.py:737: UserWarning: The least populated class in y has only 7 members, which is less than n_splits=10.\n",
      "  warnings.warn(\n",
      "Some weights of RobertaModel were not initialized from the model checkpoint at roberta-base and are newly initialized: ['roberta.pooler.dense.bias', 'roberta.pooler.dense.weight']\n",
      "You should probably TRAIN this model on a down-stream task to be able to use it for predictions and inference.\n"
     ]
    },
    {
     "name": "stdout",
     "output_type": "stream",
     "text": [
      "Epoch 1/20\n"
     ]
    },
    {
     "name": "stderr",
     "output_type": "stream",
     "text": [
      "100%|██████████| 771/771 [06:27<00:00,  1.99it/s]\n",
      "D:\\Anaconda3\\envs\\cuda\\Lib\\site-packages\\sklearn\\metrics\\_classification.py:2458: UserWarning: y_pred contains classes not in y_true\n",
      "  warnings.warn(\"y_pred contains classes not in y_true\")\n"
     ]
    },
    {
     "name": "stdout",
     "output_type": "stream",
     "text": [
      "{'val_loss': 1.7556735074745033, 'val_accuracy': 0.5484633569739953, 'precision': 0.5615386641285959, 'recall': 0.5484633569739953, 'f1-score': 0.5197138705658828, 'macro_f1-score': 0.1992748738957426, 'balanced_accuracy': 0.28216574739914524, 'mcc': 0.39929707748388205, 'train_loss': 2.826272724822028}\n",
      "Epoch 2/20\n"
     ]
    },
    {
     "name": "stderr",
     "output_type": "stream",
     "text": [
      "100%|██████████| 771/771 [06:07<00:00,  2.10it/s]\n",
      "D:\\Anaconda3\\envs\\cuda\\Lib\\site-packages\\sklearn\\metrics\\_classification.py:2458: UserWarning: y_pred contains classes not in y_true\n",
      "  warnings.warn(\"y_pred contains classes not in y_true\")\n"
     ]
    },
    {
     "name": "stdout",
     "output_type": "stream",
     "text": [
      "{'val_loss': 1.7137511957366511, 'val_accuracy': 0.5425531914893617, 'precision': 0.5733919522430356, 'recall': 0.5425531914893617, 'f1-score': 0.5248476111768486, 'macro_f1-score': 0.24604241374674152, 'balanced_accuracy': 0.37184259385651636, 'mcc': 0.4154478085742281, 'train_loss': 1.7571780148956408}\n",
      "Epoch 3/20\n"
     ]
    },
    {
     "name": "stderr",
     "output_type": "stream",
     "text": [
      "100%|██████████| 771/771 [06:07<00:00,  2.10it/s]\n",
      "D:\\Anaconda3\\envs\\cuda\\Lib\\site-packages\\sklearn\\metrics\\_classification.py:2458: UserWarning: y_pred contains classes not in y_true\n",
      "  warnings.warn(\"y_pred contains classes not in y_true\")\n"
     ]
    },
    {
     "name": "stdout",
     "output_type": "stream",
     "text": [
      "{'val_loss': 1.599286971227178, 'val_accuracy': 0.5721040189125296, 'precision': 0.6255320385685882, 'recall': 0.5721040189125296, 'f1-score': 0.5679359561454461, 'macro_f1-score': 0.32982832854911215, 'balanced_accuracy': 0.4094419534413134, 'mcc': 0.4553431595558321, 'train_loss': 1.316126744880132}\n",
      "Epoch 4/20\n"
     ]
    },
    {
     "name": "stderr",
     "output_type": "stream",
     "text": [
      "100%|██████████| 771/771 [06:10<00:00,  2.08it/s]\n"
     ]
    },
    {
     "name": "stdout",
     "output_type": "stream",
     "text": [
      "{'val_loss': 1.540689819263962, 'val_accuracy': 0.5921985815602837, 'precision': 0.6156804495285416, 'recall': 0.5921985815602837, 'f1-score': 0.5891110023542807, 'macro_f1-score': 0.325652539187049, 'balanced_accuracy': 0.3888462163236811, 'mcc': 0.47358133264202745, 'train_loss': 1.1078943566898736}\n",
      "Epoch 5/20\n"
     ]
    },
    {
     "name": "stderr",
     "output_type": "stream",
     "text": [
      "100%|██████████| 771/771 [06:27<00:00,  1.99it/s]\n"
     ]
    },
    {
     "name": "stdout",
     "output_type": "stream",
     "text": [
      "{'val_loss': 1.9830847146376125, 'val_accuracy': 0.45271867612293143, 'precision': 0.6702117625594074, 'recall': 0.45271867612293143, 'f1-score': 0.5041836998241915, 'macro_f1-score': 0.31647769525682035, 'balanced_accuracy': 0.4158643959585154, 'mcc': 0.3803654331634251, 'train_loss': 1.0847659788436308}\n",
      "Epoch 6/20\n"
     ]
    },
    {
     "name": "stderr",
     "output_type": "stream",
     "text": [
      "100%|██████████| 771/771 [06:36<00:00,  1.94it/s]\n",
      "D:\\Anaconda3\\envs\\cuda\\Lib\\site-packages\\sklearn\\metrics\\_classification.py:2458: UserWarning: y_pred contains classes not in y_true\n",
      "  warnings.warn(\"y_pred contains classes not in y_true\")\n"
     ]
    },
    {
     "name": "stdout",
     "output_type": "stream",
     "text": [
      "{'val_loss': 1.7880919170829486, 'val_accuracy': 0.5555555555555556, 'precision': 0.6350817848848765, 'recall': 0.5555555555555556, 'f1-score': 0.5776711281697051, 'macro_f1-score': 0.3721614208844422, 'balanced_accuracy': 0.4644312484853154, 'mcc': 0.46131534565505944, 'train_loss': 0.8658804683988351}\n",
      "Epoch 7/20\n"
     ]
    },
    {
     "name": "stderr",
     "output_type": "stream",
     "text": [
      "100%|██████████| 771/771 [06:36<00:00,  1.94it/s]\n"
     ]
    },
    {
     "name": "stdout",
     "output_type": "stream",
     "text": [
      "{'val_loss': 1.482167347422186, 'val_accuracy': 0.5969267139479906, 'precision': 0.6497762030134836, 'recall': 0.5969267139479906, 'f1-score': 0.6082574199526252, 'macro_f1-score': 0.36073975432269473, 'balanced_accuracy': 0.4217924924870279, 'mcc': 0.4972997321669713, 'train_loss': 0.7638617886372887}\n",
      "Epoch 8/20\n"
     ]
    },
    {
     "name": "stderr",
     "output_type": "stream",
     "text": [
      "100%|██████████| 771/771 [06:36<00:00,  1.95it/s]\n"
     ]
    },
    {
     "name": "stdout",
     "output_type": "stream",
     "text": [
      "{'val_loss': 1.5156221097370364, 'val_accuracy': 0.6264775413711584, 'precision': 0.6650590847149561, 'recall': 0.6264775413711584, 'f1-score': 0.6271428906636919, 'macro_f1-score': 0.40109383040229174, 'balanced_accuracy': 0.4626695400731663, 'mcc': 0.522100635553649, 'train_loss': 0.6317611607383506}\n",
      "Epoch 9/20\n"
     ]
    },
    {
     "name": "stderr",
     "output_type": "stream",
     "text": [
      "100%|██████████| 771/771 [06:36<00:00,  1.94it/s]\n"
     ]
    },
    {
     "name": "stdout",
     "output_type": "stream",
     "text": [
      "{'val_loss': 1.5589614634243947, 'val_accuracy': 0.6146572104018913, 'precision': 0.6618014928121156, 'recall': 0.6146572104018913, 'f1-score': 0.6230986566833309, 'macro_f1-score': 0.36787413403346125, 'balanced_accuracy': 0.42884697690950985, 'mcc': 0.5147487218275878, 'train_loss': 0.6099368489640928}\n",
      "Epoch 10/20\n"
     ]
    },
    {
     "name": "stderr",
     "output_type": "stream",
     "text": [
      "100%|██████████| 771/771 [06:33<00:00,  1.96it/s]\n"
     ]
    },
    {
     "name": "stdout",
     "output_type": "stream",
     "text": [
      "{'val_loss': 1.6199611537861374, 'val_accuracy': 0.5981087470449172, 'precision': 0.6436293662606182, 'recall': 0.5981087470449172, 'f1-score': 0.6082135399600477, 'macro_f1-score': 0.35870562314162907, 'balanced_accuracy': 0.4211675760835705, 'mcc': 0.496539888591618, 'train_loss': 0.564547080106927}\n",
      "Epoch 11/20\n"
     ]
    },
    {
     "name": "stderr",
     "output_type": "stream",
     "text": [
      "100%|██████████| 771/771 [06:35<00:00,  1.95it/s]\n"
     ]
    },
    {
     "name": "stdout",
     "output_type": "stream",
     "text": [
      "{'val_loss': 1.6050054565915521, 'val_accuracy': 0.6347517730496454, 'precision': 0.6597692832554117, 'recall': 0.6347517730496454, 'f1-score': 0.6339024343792937, 'macro_f1-score': 0.35644919389588026, 'balanced_accuracy': 0.39540300171048914, 'mcc': 0.525453706975563, 'train_loss': 0.5823099726542889}\n",
      "Early stopping.\n",
      "\n",
      "[Fold 2]\n",
      "Label distribution after resampling:\n",
      "  label 0: 2000\n",
      "  label 1: 200\n",
      "  label 2: 200\n",
      "  label 3: 200\n",
      "  label 4: 231\n",
      "  label 5: 200\n",
      "  label 6: 200\n",
      "  label 7: 200\n",
      "  label 8: 200\n",
      "  label 9: 200\n",
      "  label 10: 200\n",
      "  label 11: 200\n",
      "  label 12: 217\n",
      "  label 13: 200\n",
      "  label 14: 200\n",
      "  label 15: 200\n",
      "  label 16: 200\n",
      "  label 17: 260\n",
      "  label 18: 200\n",
      "  label 19: 200\n",
      "  label 20: 200\n",
      "  label 21: 200\n",
      "  label 22: 200\n",
      "  label 23: 200\n",
      "  label 24: 200\n",
      "  label 25: 200\n",
      "  label 26: 200\n",
      "  label 27: 200\n",
      "  label 28: 200\n",
      "  label 29: 200\n",
      "  label 30: 200\n",
      "  label 31: 200\n",
      "  label 32: 200\n",
      "  label 33: 200\n",
      "  label 34: 200\n",
      "  label 35: 200\n",
      "  label 36: 200\n",
      "  label 37: 200\n",
      "  label 38: 200\n",
      "  label 39: 200\n",
      "  label 40: 200\n",
      "  label 41: 200\n",
      "  label 42: 200\n",
      "  label 43: 200\n",
      "  label 44: 200\n",
      "  label 45: 200\n",
      "  label 46: 200\n",
      "  label 47: 595\n",
      "  label 48: 227\n",
      "  label 49: 200\n",
      "model is roberta-base lstm\n"
     ]
    },
    {
     "name": "stderr",
     "output_type": "stream",
     "text": [
      "Some weights of RobertaModel were not initialized from the model checkpoint at roberta-base and are newly initialized: ['roberta.pooler.dense.bias', 'roberta.pooler.dense.weight']\n",
      "You should probably TRAIN this model on a down-stream task to be able to use it for predictions and inference.\n"
     ]
    },
    {
     "name": "stdout",
     "output_type": "stream",
     "text": [
      "Epoch 1/20\n"
     ]
    },
    {
     "name": "stderr",
     "output_type": "stream",
     "text": [
      "100%|██████████| 771/771 [06:38<00:00,  1.93it/s]\n"
     ]
    },
    {
     "name": "stdout",
     "output_type": "stream",
     "text": [
      "{'val_loss': 1.789137746927873, 'val_accuracy': 0.5449172576832151, 'precision': 0.5252049687989556, 'recall': 0.5449172576832151, 'f1-score': 0.5212866027486694, 'macro_f1-score': 0.23067922074917846, 'balanced_accuracy': 0.31131363559330977, 'mcc': 0.41786523246269996, 'train_loss': 2.6563296681402875}\n",
      "Epoch 2/20\n"
     ]
    },
    {
     "name": "stderr",
     "output_type": "stream",
     "text": [
      "100%|██████████| 771/771 [06:34<00:00,  1.95it/s]\n"
     ]
    },
    {
     "name": "stdout",
     "output_type": "stream",
     "text": [
      "{'val_loss': 1.8335761382894695, 'val_accuracy': 0.5023640661938534, 'precision': 0.5687342660989795, 'recall': 0.5023640661938534, 'f1-score': 0.51316504487901, 'macro_f1-score': 0.24220592842247535, 'balanced_accuracy': 0.35977753976515026, 'mcc': 0.38632391020884477, 'train_loss': 1.7197259583361881}\n",
      "Epoch 3/20\n"
     ]
    },
    {
     "name": "stderr",
     "output_type": "stream",
     "text": [
      "100%|██████████| 771/771 [06:37<00:00,  1.94it/s]\n"
     ]
    },
    {
     "name": "stdout",
     "output_type": "stream",
     "text": [
      "{'val_loss': 1.5624006913518005, 'val_accuracy': 0.5839243498817966, 'precision': 0.5658508462608891, 'recall': 0.5839243498817966, 'f1-score': 0.5515852653110298, 'macro_f1-score': 0.28487015497676416, 'balanced_accuracy': 0.3483542018062032, 'mcc': 0.4420306385653167, 'train_loss': 1.383325978437132}\n",
      "Epoch 4/20\n"
     ]
    },
    {
     "name": "stderr",
     "output_type": "stream",
     "text": [
      "100%|██████████| 771/771 [06:37<00:00,  1.94it/s]\n"
     ]
    },
    {
     "name": "stdout",
     "output_type": "stream",
     "text": [
      "{'val_loss': 1.4173327943064131, 'val_accuracy': 0.6122931442080378, 'precision': 0.616487010960663, 'recall': 0.6122931442080378, 'f1-score': 0.5951535831476866, 'macro_f1-score': 0.36051727861346355, 'balanced_accuracy': 0.4166364615418851, 'mcc': 0.4895898485027845, 'train_loss': 1.1533920278267793}\n",
      "Epoch 5/20\n"
     ]
    },
    {
     "name": "stderr",
     "output_type": "stream",
     "text": [
      "100%|██████████| 771/771 [06:33<00:00,  1.96it/s]\n"
     ]
    },
    {
     "name": "stdout",
     "output_type": "stream",
     "text": [
      "{'val_loss': 1.4073426194910734, 'val_accuracy': 0.640661938534279, 'precision': 0.6447248924350234, 'recall': 0.640661938534279, 'f1-score': 0.6244784649781678, 'macro_f1-score': 0.3502156256330615, 'balanced_accuracy': 0.3840600558378066, 'mcc': 0.5153070605750988, 'train_loss': 0.9606237869743552}\n",
      "Epoch 6/20\n"
     ]
    },
    {
     "name": "stderr",
     "output_type": "stream",
     "text": [
      "100%|██████████| 771/771 [06:33<00:00,  1.96it/s]\n"
     ]
    },
    {
     "name": "stdout",
     "output_type": "stream",
     "text": [
      "{'val_loss': 1.5510020582181103, 'val_accuracy': 0.5933806146572104, 'precision': 0.6245479601464983, 'recall': 0.5933806146572104, 'f1-score': 0.5940352364638422, 'macro_f1-score': 0.33979316595764625, 'balanced_accuracy': 0.4093813157308045, 'mcc': 0.4810631394802328, 'train_loss': 0.8363502138474262}\n",
      "Epoch 7/20\n"
     ]
    },
    {
     "name": "stderr",
     "output_type": "stream",
     "text": [
      "100%|██████████| 771/771 [06:38<00:00,  1.94it/s]\n"
     ]
    },
    {
     "name": "stdout",
     "output_type": "stream",
     "text": [
      "{'val_loss': 1.3792625873718622, 'val_accuracy': 0.6453900709219859, 'precision': 0.6355818851534936, 'recall': 0.6453900709219859, 'f1-score': 0.6290327114412736, 'macro_f1-score': 0.35619671107837164, 'balanced_accuracy': 0.3917732024035957, 'mcc': 0.5300309172644504, 'train_loss': 0.7842092467943054}\n",
      "Early stopping.\n",
      "\n",
      "[Fold 3]\n",
      "Label distribution after resampling:\n",
      "  label 0: 2000\n",
      "  label 1: 200\n",
      "  label 2: 200\n",
      "  label 3: 200\n",
      "  label 4: 231\n",
      "  label 5: 200\n",
      "  label 6: 200\n",
      "  label 7: 200\n",
      "  label 8: 200\n",
      "  label 9: 200\n",
      "  label 10: 200\n",
      "  label 11: 200\n",
      "  label 12: 217\n",
      "  label 13: 200\n",
      "  label 14: 200\n",
      "  label 15: 200\n",
      "  label 16: 200\n",
      "  label 17: 260\n",
      "  label 18: 200\n",
      "  label 19: 200\n",
      "  label 20: 200\n",
      "  label 21: 200\n",
      "  label 22: 200\n",
      "  label 23: 200\n",
      "  label 24: 200\n",
      "  label 25: 200\n",
      "  label 26: 200\n",
      "  label 27: 200\n",
      "  label 28: 200\n",
      "  label 29: 200\n",
      "  label 30: 200\n",
      "  label 31: 200\n",
      "  label 32: 200\n",
      "  label 33: 200\n",
      "  label 34: 200\n",
      "  label 35: 200\n",
      "  label 36: 200\n",
      "  label 37: 200\n",
      "  label 38: 200\n",
      "  label 39: 200\n",
      "  label 40: 200\n",
      "  label 41: 200\n",
      "  label 42: 200\n",
      "  label 43: 200\n",
      "  label 44: 200\n",
      "  label 45: 200\n",
      "  label 46: 200\n",
      "  label 47: 595\n",
      "  label 48: 227\n",
      "  label 49: 200\n",
      "model is roberta-base lstm\n"
     ]
    },
    {
     "name": "stderr",
     "output_type": "stream",
     "text": [
      "Some weights of RobertaModel were not initialized from the model checkpoint at roberta-base and are newly initialized: ['roberta.pooler.dense.bias', 'roberta.pooler.dense.weight']\n",
      "You should probably TRAIN this model on a down-stream task to be able to use it for predictions and inference.\n"
     ]
    },
    {
     "name": "stdout",
     "output_type": "stream",
     "text": [
      "Epoch 1/20\n"
     ]
    },
    {
     "name": "stderr",
     "output_type": "stream",
     "text": [
      "100%|██████████| 771/771 [06:34<00:00,  1.95it/s]\n"
     ]
    },
    {
     "name": "stdout",
     "output_type": "stream",
     "text": [
      "{'val_loss': 2.120473434340279, 'val_accuracy': 0.5449172576832151, 'precision': 0.4780026665856175, 'recall': 0.5449172576832151, 'f1-score': 0.49206833764147384, 'macro_f1-score': 0.1713540766628655, 'balanced_accuracy': 0.26531877542161725, 'mcc': 0.3849152758122769, 'train_loss': 2.9467365370650236}\n",
      "Epoch 2/20\n"
     ]
    },
    {
     "name": "stderr",
     "output_type": "stream",
     "text": [
      "100%|██████████| 771/771 [06:38<00:00,  1.93it/s]\n"
     ]
    },
    {
     "name": "stdout",
     "output_type": "stream",
     "text": [
      "{'val_loss': 1.7788296746757795, 'val_accuracy': 0.5212765957446809, 'precision': 0.5611929842801087, 'recall': 0.5212765957446809, 'f1-score': 0.5220341699510499, 'macro_f1-score': 0.2348601022759636, 'balanced_accuracy': 0.32143130244291224, 'mcc': 0.39092243468426796, 'train_loss': 1.9454990246571147}\n",
      "Epoch 3/20\n"
     ]
    },
    {
     "name": "stderr",
     "output_type": "stream",
     "text": [
      "100%|██████████| 771/771 [06:37<00:00,  1.94it/s]\n"
     ]
    },
    {
     "name": "stdout",
     "output_type": "stream",
     "text": [
      "{'val_loss': 1.624830371928665, 'val_accuracy': 0.5567375886524822, 'precision': 0.5967856277483465, 'recall': 0.5567375886524822, 'f1-score': 0.5492740348065868, 'macro_f1-score': 0.2898488940015104, 'balanced_accuracy': 0.3782245824507997, 'mcc': 0.43070936577735996, 'train_loss': 1.5592934585112388}\n",
      "Epoch 4/20\n"
     ]
    },
    {
     "name": "stderr",
     "output_type": "stream",
     "text": [
      "100%|██████████| 771/771 [06:36<00:00,  1.94it/s]\n"
     ]
    },
    {
     "name": "stdout",
     "output_type": "stream",
     "text": [
      "{'val_loss': 1.4919069308154989, 'val_accuracy': 0.6052009456264775, 'precision': 0.6489443593714782, 'recall': 0.6052009456264775, 'f1-score': 0.6024594987151356, 'macro_f1-score': 0.34835199608695944, 'balanced_accuracy': 0.4152555264774118, 'mcc': 0.49691067816766515, 'train_loss': 1.2976132792489539}\n",
      "Epoch 5/20\n"
     ]
    },
    {
     "name": "stderr",
     "output_type": "stream",
     "text": [
      "100%|██████████| 771/771 [06:37<00:00,  1.94it/s]\n"
     ]
    },
    {
     "name": "stdout",
     "output_type": "stream",
     "text": [
      "{'val_loss': 1.6035534604540411, 'val_accuracy': 0.5697399527186762, 'precision': 0.6048681334053448, 'recall': 0.5697399527186762, 'f1-score': 0.574333423859712, 'macro_f1-score': 0.3438059874244644, 'balanced_accuracy': 0.42145876386268, 'mcc': 0.467388249431053, 'train_loss': 1.089591137823273}\n",
      "Epoch 6/20\n"
     ]
    },
    {
     "name": "stderr",
     "output_type": "stream",
     "text": [
      "100%|██████████| 771/771 [06:36<00:00,  1.94it/s]\n"
     ]
    },
    {
     "name": "stdout",
     "output_type": "stream",
     "text": [
      "{'val_loss': 1.3948199675892883, 'val_accuracy': 0.6371158392434988, 'precision': 0.6614239555153338, 'recall': 0.6371158392434988, 'f1-score': 0.6249012973273279, 'macro_f1-score': 0.37564431913336377, 'balanced_accuracy': 0.4268847490367504, 'mcc': 0.5250430743976781, 'train_loss': 0.8906511043605483}\n",
      "Epoch 7/20\n"
     ]
    },
    {
     "name": "stderr",
     "output_type": "stream",
     "text": [
      "100%|██████████| 771/771 [06:37<00:00,  1.94it/s]\n"
     ]
    },
    {
     "name": "stdout",
     "output_type": "stream",
     "text": [
      "{'val_loss': 1.4758453020509683, 'val_accuracy': 0.6170212765957447, 'precision': 0.6631076002258666, 'recall': 0.6170212765957447, 'f1-score': 0.6224840731589886, 'macro_f1-score': 0.36491766985780605, 'balanced_accuracy': 0.4154619560054493, 'mcc': 0.5158625760844039, 'train_loss': 0.7978256974857296}\n",
      "Epoch 8/20\n"
     ]
    },
    {
     "name": "stderr",
     "output_type": "stream",
     "text": [
      "100%|██████████| 771/771 [06:37<00:00,  1.94it/s]\n"
     ]
    },
    {
     "name": "stdout",
     "output_type": "stream",
     "text": [
      "{'val_loss': 1.4801198851387456, 'val_accuracy': 0.6300236406619385, 'precision': 0.6765439849712275, 'recall': 0.6300236406619385, 'f1-score': 0.6329155820076048, 'macro_f1-score': 0.3813519292497514, 'balanced_accuracy': 0.44402736704755413, 'mcc': 0.528478140796949, 'train_loss': 0.6771920876318998}\n",
      "Epoch 9/20\n"
     ]
    },
    {
     "name": "stderr",
     "output_type": "stream",
     "text": [
      "100%|██████████| 771/771 [06:37<00:00,  1.94it/s]\n"
     ]
    },
    {
     "name": "stdout",
     "output_type": "stream",
     "text": [
      "{'val_loss': 1.6116422201102634, 'val_accuracy': 0.5945626477541371, 'precision': 0.6498751214938059, 'recall': 0.5945626477541371, 'f1-score': 0.6012072135385707, 'macro_f1-score': 0.37730251309234325, 'balanced_accuracy': 0.41408110030480494, 'mcc': 0.48709394422039837, 'train_loss': 0.6443764269062053}\n",
      "Epoch 10/20\n"
     ]
    },
    {
     "name": "stderr",
     "output_type": "stream",
     "text": [
      "100%|██████████| 771/771 [06:37<00:00,  1.94it/s]\n"
     ]
    },
    {
     "name": "stdout",
     "output_type": "stream",
     "text": [
      "{'val_loss': 1.4924756254789964, 'val_accuracy': 0.6264775413711584, 'precision': 0.6551348383975985, 'recall': 0.6264775413711584, 'f1-score': 0.6283773960502186, 'macro_f1-score': 0.3956089499514821, 'balanced_accuracy': 0.42160118985925593, 'mcc': 0.516028588058666, 'train_loss': 0.6454176877162645}\n",
      "Epoch 11/20\n"
     ]
    },
    {
     "name": "stderr",
     "output_type": "stream",
     "text": [
      "100%|██████████| 771/771 [06:36<00:00,  1.95it/s]\n"
     ]
    },
    {
     "name": "stdout",
     "output_type": "stream",
     "text": [
      "{'val_loss': 1.4769906036134035, 'val_accuracy': 0.6323877068557919, 'precision': 0.6806592868210163, 'recall': 0.6323877068557919, 'f1-score': 0.6428827803661062, 'macro_f1-score': 0.4244578695485379, 'balanced_accuracy': 0.47762495911066355, 'mcc': 0.5344553218987007, 'train_loss': 0.546175410263192}\n",
      "Epoch 12/20\n"
     ]
    },
    {
     "name": "stderr",
     "output_type": "stream",
     "text": [
      "100%|██████████| 771/771 [06:38<00:00,  1.93it/s]\n"
     ]
    },
    {
     "name": "stdout",
     "output_type": "stream",
     "text": [
      "{'val_loss': 1.7344723849926356, 'val_accuracy': 0.6004728132387707, 'precision': 0.6435651696735394, 'recall': 0.6004728132387707, 'f1-score': 0.608154465334049, 'macro_f1-score': 0.3624109558467141, 'balanced_accuracy': 0.42893966150909485, 'mcc': 0.5031768755821282, 'train_loss': 0.5046501624193791}\n",
      "Epoch 13/20\n"
     ]
    },
    {
     "name": "stderr",
     "output_type": "stream",
     "text": [
      "100%|██████████| 771/771 [06:38<00:00,  1.93it/s]\n"
     ]
    },
    {
     "name": "stdout",
     "output_type": "stream",
     "text": [
      "{'val_loss': 1.515920877456665, 'val_accuracy': 0.6442080378250591, 'precision': 0.6598584857482637, 'recall': 0.6442080378250591, 'f1-score': 0.6419929804488678, 'macro_f1-score': 0.3900689027752807, 'balanced_accuracy': 0.42231643749692616, 'mcc': 0.5393937078070212, 'train_loss': 0.4892112522998441}\n",
      "Epoch 14/20\n"
     ]
    },
    {
     "name": "stderr",
     "output_type": "stream",
     "text": [
      "100%|██████████| 771/771 [06:38<00:00,  1.94it/s]\n"
     ]
    },
    {
     "name": "stdout",
     "output_type": "stream",
     "text": [
      "{'val_loss': 1.541214161324051, 'val_accuracy': 0.6513002364066194, 'precision': 0.6514628953775614, 'recall': 0.6513002364066194, 'f1-score': 0.6392288355424978, 'macro_f1-score': 0.3844536645671062, 'balanced_accuracy': 0.4296453109300449, 'mcc': 0.5424023424280981, 'train_loss': 0.5403415709975551}\n",
      "Early stopping.\n",
      "\n",
      "[Fold 4]\n",
      "Label distribution after resampling:\n",
      "  label 0: 2000\n",
      "  label 1: 200\n",
      "  label 2: 200\n",
      "  label 3: 200\n",
      "  label 4: 231\n",
      "  label 5: 200\n",
      "  label 6: 200\n",
      "  label 7: 200\n",
      "  label 8: 200\n",
      "  label 9: 200\n",
      "  label 10: 200\n",
      "  label 11: 200\n",
      "  label 12: 217\n",
      "  label 13: 200\n",
      "  label 14: 200\n",
      "  label 15: 200\n",
      "  label 16: 200\n",
      "  label 17: 260\n",
      "  label 18: 200\n",
      "  label 19: 200\n",
      "  label 20: 200\n",
      "  label 21: 200\n",
      "  label 22: 200\n",
      "  label 23: 200\n",
      "  label 24: 200\n",
      "  label 25: 200\n",
      "  label 26: 200\n",
      "  label 27: 200\n",
      "  label 28: 200\n",
      "  label 29: 200\n",
      "  label 30: 200\n",
      "  label 31: 200\n",
      "  label 32: 200\n",
      "  label 33: 200\n",
      "  label 34: 200\n",
      "  label 35: 200\n",
      "  label 36: 200\n",
      "  label 37: 200\n",
      "  label 38: 200\n",
      "  label 39: 200\n",
      "  label 40: 200\n",
      "  label 41: 200\n",
      "  label 42: 200\n",
      "  label 43: 200\n",
      "  label 44: 200\n",
      "  label 45: 200\n",
      "  label 46: 200\n",
      "  label 47: 595\n",
      "  label 48: 227\n",
      "  label 49: 200\n",
      "model is roberta-base lstm\n"
     ]
    },
    {
     "name": "stderr",
     "output_type": "stream",
     "text": [
      "Some weights of RobertaModel were not initialized from the model checkpoint at roberta-base and are newly initialized: ['roberta.pooler.dense.bias', 'roberta.pooler.dense.weight']\n",
      "You should probably TRAIN this model on a down-stream task to be able to use it for predictions and inference.\n"
     ]
    },
    {
     "name": "stdout",
     "output_type": "stream",
     "text": [
      "Epoch 1/20\n"
     ]
    },
    {
     "name": "stderr",
     "output_type": "stream",
     "text": [
      "100%|██████████| 771/771 [06:37<00:00,  1.94it/s]\n"
     ]
    },
    {
     "name": "stdout",
     "output_type": "stream",
     "text": [
      "{'val_loss': 1.8265790883100257, 'val_accuracy': 0.5638297872340425, 'precision': 0.48573526246415055, 'recall': 0.5638297872340425, 'f1-score': 0.5019170317640793, 'macro_f1-score': 0.18773071465060948, 'balanced_accuracy': 0.2674772780214645, 'mcc': 0.403598694797842, 'train_loss': 2.6789484840422753}\n",
      "Epoch 2/20\n"
     ]
    },
    {
     "name": "stderr",
     "output_type": "stream",
     "text": [
      "100%|██████████| 771/771 [06:36<00:00,  1.94it/s]\n"
     ]
    },
    {
     "name": "stdout",
     "output_type": "stream",
     "text": [
      "{'val_loss': 1.6021318435668945, 'val_accuracy': 0.5768321513002365, 'precision': 0.5923705871375835, 'recall': 0.5768321513002365, 'f1-score': 0.5591616406031896, 'macro_f1-score': 0.28650568573487667, 'balanced_accuracy': 0.35858265263299055, 'mcc': 0.4499552616446811, 'train_loss': 1.7818119763245688}\n",
      "Epoch 3/20\n"
     ]
    },
    {
     "name": "stderr",
     "output_type": "stream",
     "text": [
      "100%|██████████| 771/771 [06:39<00:00,  1.93it/s]\n"
     ]
    },
    {
     "name": "stdout",
     "output_type": "stream",
     "text": [
      "{'val_loss': 1.5406431049670812, 'val_accuracy': 0.5969267139479906, 'precision': 0.5783021876856765, 'recall': 0.5969267139479906, 'f1-score': 0.5726874980332797, 'macro_f1-score': 0.31847760586469365, 'balanced_accuracy': 0.38493965065720387, 'mcc': 0.4723665882869592, 'train_loss': 1.3807923021483515}\n",
      "Epoch 4/20\n"
     ]
    },
    {
     "name": "stderr",
     "output_type": "stream",
     "text": [
      "100%|██████████| 771/771 [06:34<00:00,  1.95it/s]\n"
     ]
    },
    {
     "name": "stdout",
     "output_type": "stream",
     "text": [
      "{'val_loss': 1.516249327164776, 'val_accuracy': 0.6052009456264775, 'precision': 0.6180667291810075, 'recall': 0.6052009456264775, 'f1-score': 0.6015643749279882, 'macro_f1-score': 0.3412553853965949, 'balanced_accuracy': 0.41299435186196576, 'mcc': 0.49893248116450706, 'train_loss': 1.1723797734338794}\n",
      "Epoch 5/20\n"
     ]
    },
    {
     "name": "stderr",
     "output_type": "stream",
     "text": [
      "100%|██████████| 771/771 [06:35<00:00,  1.95it/s]\n"
     ]
    },
    {
     "name": "stdout",
     "output_type": "stream",
     "text": [
      "{'val_loss': 1.4873310777376283, 'val_accuracy': 0.6111111111111112, 'precision': 0.6132508770322651, 'recall': 0.6111111111111112, 'f1-score': 0.5967541045053011, 'macro_f1-score': 0.3630835046006233, 'balanced_accuracy': 0.438227371032864, 'mcc': 0.49684179413865914, 'train_loss': 1.0199187390226025}\n",
      "Epoch 6/20\n"
     ]
    },
    {
     "name": "stderr",
     "output_type": "stream",
     "text": [
      "100%|██████████| 771/771 [06:40<00:00,  1.93it/s]\n"
     ]
    },
    {
     "name": "stdout",
     "output_type": "stream",
     "text": [
      "{'val_loss': 1.5082586857507814, 'val_accuracy': 0.6063829787234043, 'precision': 0.6258355071760053, 'recall': 0.6063829787234043, 'f1-score': 0.5978312362391659, 'macro_f1-score': 0.3829144419002579, 'balanced_accuracy': 0.4242853347003407, 'mcc': 0.49253101285067435, 'train_loss': 0.8851575941697787}\n",
      "Epoch 7/20\n"
     ]
    },
    {
     "name": "stderr",
     "output_type": "stream",
     "text": [
      "100%|██████████| 771/771 [06:36<00:00,  1.94it/s]\n"
     ]
    },
    {
     "name": "stdout",
     "output_type": "stream",
     "text": [
      "{'val_loss': 1.5129498097131837, 'val_accuracy': 0.6087470449172577, 'precision': 0.6569069940329662, 'recall': 0.6087470449172577, 'f1-score': 0.6075074686074179, 'macro_f1-score': 0.3666260703525361, 'balanced_accuracy': 0.4195913243882747, 'mcc': 0.5008013049084252, 'train_loss': 0.8379968822427606}\n",
      "Epoch 8/20\n"
     ]
    },
    {
     "name": "stderr",
     "output_type": "stream",
     "text": [
      "100%|██████████| 771/771 [06:36<00:00,  1.95it/s]\n"
     ]
    },
    {
     "name": "stdout",
     "output_type": "stream",
     "text": [
      "{'val_loss': 1.4862355376189609, 'val_accuracy': 0.6205673758865248, 'precision': 0.6460998887814001, 'recall': 0.6205673758865248, 'f1-score': 0.6213849714771527, 'macro_f1-score': 0.3853990753526034, 'balanced_accuracy': 0.42330457045409386, 'mcc': 0.5150323276869536, 'train_loss': 0.708182164841125}\n",
      "Epoch 9/20\n"
     ]
    },
    {
     "name": "stderr",
     "output_type": "stream",
     "text": [
      "100%|██████████| 771/771 [06:37<00:00,  1.94it/s]\n"
     ]
    },
    {
     "name": "stdout",
     "output_type": "stream",
     "text": [
      "{'val_loss': 1.535100813181895, 'val_accuracy': 0.6099290780141844, 'precision': 0.6444813513902856, 'recall': 0.6099290780141844, 'f1-score': 0.6097675234810855, 'macro_f1-score': 0.3727935891949671, 'balanced_accuracy': 0.4054194719275987, 'mcc': 0.5003073464804947, 'train_loss': 0.6398350343630008}\n",
      "Epoch 10/20\n"
     ]
    },
    {
     "name": "stderr",
     "output_type": "stream",
     "text": [
      "100%|██████████| 771/771 [06:32<00:00,  1.96it/s]\n"
     ]
    },
    {
     "name": "stdout",
     "output_type": "stream",
     "text": [
      "{'val_loss': 1.498834083665092, 'val_accuracy': 0.6193853427895981, 'precision': 0.6132335519621156, 'recall': 0.6193853427895981, 'f1-score': 0.609689339182422, 'macro_f1-score': 0.3644322847099692, 'balanced_accuracy': 0.38989307820541574, 'mcc': 0.49901361198725114, 'train_loss': 0.6031911340862242}\n",
      "Epoch 11/20\n"
     ]
    },
    {
     "name": "stderr",
     "output_type": "stream",
     "text": [
      "100%|██████████| 771/771 [06:33<00:00,  1.96it/s]\n"
     ]
    },
    {
     "name": "stdout",
     "output_type": "stream",
     "text": [
      "{'val_loss': 1.5812821984291077, 'val_accuracy': 0.5969267139479906, 'precision': 0.6438898561256817, 'recall': 0.5969267139479906, 'f1-score': 0.6074580253635782, 'macro_f1-score': 0.3705564435551104, 'balanced_accuracy': 0.40898130161103646, 'mcc': 0.4934325209609117, 'train_loss': 0.6360125461189818}\n",
      "Early stopping.\n",
      "\n",
      "[Fold 5]\n",
      "Label distribution after resampling:\n",
      "  label 0: 2000\n",
      "  label 1: 200\n",
      "  label 2: 200\n",
      "  label 3: 200\n",
      "  label 4: 231\n",
      "  label 5: 200\n",
      "  label 6: 200\n",
      "  label 7: 200\n",
      "  label 8: 200\n",
      "  label 9: 200\n",
      "  label 10: 200\n",
      "  label 11: 200\n",
      "  label 12: 217\n",
      "  label 13: 200\n",
      "  label 14: 200\n",
      "  label 15: 200\n",
      "  label 16: 200\n",
      "  label 17: 260\n",
      "  label 18: 200\n",
      "  label 19: 200\n",
      "  label 20: 200\n",
      "  label 21: 200\n",
      "  label 22: 200\n",
      "  label 23: 200\n",
      "  label 24: 200\n",
      "  label 25: 200\n",
      "  label 26: 200\n",
      "  label 27: 200\n",
      "  label 28: 200\n",
      "  label 29: 200\n",
      "  label 30: 200\n",
      "  label 31: 200\n",
      "  label 32: 200\n",
      "  label 33: 200\n",
      "  label 34: 200\n",
      "  label 35: 200\n",
      "  label 36: 200\n",
      "  label 37: 200\n",
      "  label 38: 200\n",
      "  label 39: 200\n",
      "  label 40: 200\n",
      "  label 41: 200\n",
      "  label 42: 200\n",
      "  label 43: 200\n",
      "  label 44: 200\n",
      "  label 45: 200\n",
      "  label 46: 200\n",
      "  label 47: 595\n",
      "  label 48: 227\n",
      "  label 49: 200\n",
      "model is roberta-base lstm\n"
     ]
    },
    {
     "name": "stderr",
     "output_type": "stream",
     "text": [
      "Some weights of RobertaModel were not initialized from the model checkpoint at roberta-base and are newly initialized: ['roberta.pooler.dense.bias', 'roberta.pooler.dense.weight']\n",
      "You should probably TRAIN this model on a down-stream task to be able to use it for predictions and inference.\n"
     ]
    },
    {
     "name": "stdout",
     "output_type": "stream",
     "text": [
      "Epoch 1/20\n"
     ]
    },
    {
     "name": "stderr",
     "output_type": "stream",
     "text": [
      "100%|██████████| 771/771 [06:37<00:00,  1.94it/s]\n"
     ]
    },
    {
     "name": "stdout",
     "output_type": "stream",
     "text": [
      "{'val_loss': 1.7076882281393375, 'val_accuracy': 0.5443786982248521, 'precision': 0.48956889254306835, 'recall': 0.5443786982248521, 'f1-score': 0.5014207020934929, 'macro_f1-score': 0.2058792427727856, 'balanced_accuracy': 0.2763059902208256, 'mcc': 0.39785471238925824, 'train_loss': 2.6406510208676606}\n",
      "Epoch 2/20\n"
     ]
    },
    {
     "name": "stderr",
     "output_type": "stream",
     "text": [
      "100%|██████████| 771/771 [06:37<00:00,  1.94it/s]\n"
     ]
    },
    {
     "name": "stdout",
     "output_type": "stream",
     "text": [
      "{'val_loss': 1.552337089799485, 'val_accuracy': 0.5775147928994083, 'precision': 0.565913513676845, 'recall': 0.5775147928994083, 'f1-score': 0.5492391451419623, 'macro_f1-score': 0.25411258462585157, 'balanced_accuracy': 0.3010122009301198, 'mcc': 0.444772970967486, 'train_loss': 1.593733877909941}\n",
      "Epoch 3/20\n"
     ]
    },
    {
     "name": "stderr",
     "output_type": "stream",
     "text": [
      "100%|██████████| 771/771 [06:38<00:00,  1.94it/s]\n"
     ]
    },
    {
     "name": "stdout",
     "output_type": "stream",
     "text": [
      "{'val_loss': 1.555924244646756, 'val_accuracy': 0.5964497041420118, 'precision': 0.6215747599500099, 'recall': 0.5964497041420118, 'f1-score': 0.5785234007427186, 'macro_f1-score': 0.3364205674813319, 'balanced_accuracy': 0.40879824311689156, 'mcc': 0.4767344999236212, 'train_loss': 1.2073994762084208}\n",
      "Epoch 4/20\n"
     ]
    },
    {
     "name": "stderr",
     "output_type": "stream",
     "text": [
      "100%|██████████| 771/771 [06:40<00:00,  1.93it/s]\n"
     ]
    },
    {
     "name": "stdout",
     "output_type": "stream",
     "text": [
      "{'val_loss': 1.526418997431701, 'val_accuracy': 0.5940828402366863, 'precision': 0.6397855672074825, 'recall': 0.5940828402366863, 'f1-score': 0.5966615704447921, 'macro_f1-score': 0.31750456268283267, 'balanced_accuracy': 0.3810722360076609, 'mcc': 0.49194313004233753, 'train_loss': 0.9958437721205129}\n",
      "Epoch 5/20\n"
     ]
    },
    {
     "name": "stderr",
     "output_type": "stream",
     "text": [
      "100%|██████████| 771/771 [06:39<00:00,  1.93it/s]\n"
     ]
    },
    {
     "name": "stdout",
     "output_type": "stream",
     "text": [
      "{'val_loss': 1.5029627298409085, 'val_accuracy': 0.6023668639053255, 'precision': 0.5962395262601243, 'recall': 0.6023668639053255, 'f1-score': 0.5906934434023763, 'macro_f1-score': 0.3390053640373548, 'balanced_accuracy': 0.39157501147529805, 'mcc': 0.4921623008258476, 'train_loss': 0.8320645547523882}\n",
      "Epoch 6/20\n"
     ]
    },
    {
     "name": "stderr",
     "output_type": "stream",
     "text": [
      "100%|██████████| 771/771 [06:37<00:00,  1.94it/s]\n"
     ]
    },
    {
     "name": "stdout",
     "output_type": "stream",
     "text": [
      "{'val_loss': 1.5263426000217222, 'val_accuracy': 0.5988165680473373, 'precision': 0.6358230270869255, 'recall': 0.5988165680473373, 'f1-score': 0.6013915729749658, 'macro_f1-score': 0.3338575415655493, 'balanced_accuracy': 0.37160429419046176, 'mcc': 0.49271318334405145, 'train_loss': 0.7288029068445572}\n",
      "Epoch 7/20\n"
     ]
    },
    {
     "name": "stderr",
     "output_type": "stream",
     "text": [
      "100%|██████████| 771/771 [06:37<00:00,  1.94it/s]\n"
     ]
    },
    {
     "name": "stdout",
     "output_type": "stream",
     "text": [
      "{'val_loss': 1.5327394863344588, 'val_accuracy': 0.6177514792899408, 'precision': 0.6358556224711632, 'recall': 0.6177514792899408, 'f1-score': 0.6124965390258015, 'macro_f1-score': 0.34302984785471674, 'balanced_accuracy': 0.361632652204223, 'mcc': 0.506713678370881, 'train_loss': 0.6631112903085973}\n",
      "Epoch 8/20\n"
     ]
    },
    {
     "name": "stderr",
     "output_type": "stream",
     "text": [
      "100%|██████████| 771/771 [06:37<00:00,  1.94it/s]\n"
     ]
    },
    {
     "name": "stdout",
     "output_type": "stream",
     "text": [
      "{'val_loss': 1.5621545241688781, 'val_accuracy': 0.6236686390532544, 'precision': 0.6696235150170949, 'recall': 0.6236686390532544, 'f1-score': 0.6323497137596942, 'macro_f1-score': 0.3353400181072178, 'balanced_accuracy': 0.3624357413904356, 'mcc': 0.5210799773111128, 'train_loss': 0.5733866573839259}\n",
      "Epoch 9/20\n"
     ]
    },
    {
     "name": "stderr",
     "output_type": "stream",
     "text": [
      "100%|██████████| 771/771 [06:39<00:00,  1.93it/s]\n"
     ]
    },
    {
     "name": "stdout",
     "output_type": "stream",
     "text": [
      "{'val_loss': 1.5261695399036947, 'val_accuracy': 0.6532544378698225, 'precision': 0.6426133434542114, 'recall': 0.6532544378698225, 'f1-score': 0.6347467590900848, 'macro_f1-score': 0.35478711639170185, 'balanced_accuracy': 0.3620161297745502, 'mcc': 0.5363554817634674, 'train_loss': 0.5018436212657954}\n",
      "Epoch 10/20\n"
     ]
    },
    {
     "name": "stderr",
     "output_type": "stream",
     "text": [
      "100%|██████████| 771/771 [06:33<00:00,  1.96it/s]\n"
     ]
    },
    {
     "name": "stdout",
     "output_type": "stream",
     "text": [
      "{'val_loss': 1.6211399340404655, 'val_accuracy': 0.6248520710059171, 'precision': 0.6360013414825171, 'recall': 0.6248520710059171, 'f1-score': 0.6180653847655361, 'macro_f1-score': 0.3529104726943715, 'balanced_accuracy': 0.3770293959499722, 'mcc': 0.5218536691238448, 'train_loss': 0.5027662705625232}\n",
      "Epoch 11/20\n"
     ]
    },
    {
     "name": "stderr",
     "output_type": "stream",
     "text": [
      "100%|██████████| 771/771 [06:37<00:00,  1.94it/s]\n"
     ]
    },
    {
     "name": "stdout",
     "output_type": "stream",
     "text": [
      "{'val_loss': 1.616114929599582, 'val_accuracy': 0.6295857988165681, 'precision': 0.6411009695868523, 'recall': 0.6295857988165681, 'f1-score': 0.6259934526695272, 'macro_f1-score': 0.3544873547753033, 'balanced_accuracy': 0.3607156806700101, 'mcc': 0.5224548482222598, 'train_loss': 0.4512394658699342}\n",
      "Epoch 12/20\n"
     ]
    },
    {
     "name": "stderr",
     "output_type": "stream",
     "text": [
      "100%|██████████| 771/771 [06:36<00:00,  1.94it/s]\n"
     ]
    },
    {
     "name": "stdout",
     "output_type": "stream",
     "text": [
      "{'val_loss': 1.6266173298628825, 'val_accuracy': 0.6236686390532544, 'precision': 0.6295717263125908, 'recall': 0.6236686390532544, 'f1-score': 0.6174058712137338, 'macro_f1-score': 0.3109637489468741, 'balanced_accuracy': 0.3442440992148014, 'mcc': 0.5171713040083732, 'train_loss': 0.4767605731730022}\n",
      "Early stopping.\n",
      "\n",
      "[Fold 6]\n",
      "Label distribution after resampling:\n",
      "  label 0: 2000\n",
      "  label 1: 200\n",
      "  label 2: 200\n",
      "  label 3: 200\n",
      "  label 4: 231\n",
      "  label 5: 200\n",
      "  label 6: 200\n",
      "  label 7: 200\n",
      "  label 8: 200\n",
      "  label 9: 200\n",
      "  label 10: 200\n",
      "  label 11: 200\n",
      "  label 12: 217\n",
      "  label 13: 200\n",
      "  label 14: 200\n",
      "  label 15: 200\n",
      "  label 16: 200\n",
      "  label 17: 260\n",
      "  label 18: 200\n",
      "  label 19: 200\n",
      "  label 20: 200\n",
      "  label 21: 200\n",
      "  label 22: 200\n",
      "  label 23: 200\n",
      "  label 24: 200\n",
      "  label 25: 200\n",
      "  label 26: 200\n",
      "  label 27: 200\n",
      "  label 28: 200\n",
      "  label 29: 200\n",
      "  label 30: 200\n",
      "  label 31: 200\n",
      "  label 32: 200\n",
      "  label 33: 200\n",
      "  label 34: 200\n",
      "  label 35: 200\n",
      "  label 36: 200\n",
      "  label 37: 200\n",
      "  label 38: 200\n",
      "  label 39: 200\n",
      "  label 40: 200\n",
      "  label 41: 200\n",
      "  label 42: 200\n",
      "  label 43: 200\n",
      "  label 44: 200\n",
      "  label 45: 200\n",
      "  label 46: 200\n",
      "  label 47: 595\n",
      "  label 48: 227\n",
      "  label 49: 200\n",
      "model is roberta-base lstm\n"
     ]
    },
    {
     "name": "stderr",
     "output_type": "stream",
     "text": [
      "Some weights of RobertaModel were not initialized from the model checkpoint at roberta-base and are newly initialized: ['roberta.pooler.dense.bias', 'roberta.pooler.dense.weight']\n",
      "You should probably TRAIN this model on a down-stream task to be able to use it for predictions and inference.\n"
     ]
    },
    {
     "name": "stdout",
     "output_type": "stream",
     "text": [
      "Epoch 1/20\n"
     ]
    },
    {
     "name": "stderr",
     "output_type": "stream",
     "text": [
      "100%|██████████| 771/771 [06:37<00:00,  1.94it/s]\n"
     ]
    },
    {
     "name": "stdout",
     "output_type": "stream",
     "text": [
      "{'val_loss': 1.736788737324049, 'val_accuracy': 0.5479289940828402, 'precision': 0.5296456978684992, 'recall': 0.5479289940828402, 'f1-score': 0.5068424799262113, 'macro_f1-score': 0.20156592793504718, 'balanced_accuracy': 0.27805161523479943, 'mcc': 0.4033952673880544, 'train_loss': 2.649333463414015}\n",
      "Epoch 2/20\n"
     ]
    },
    {
     "name": "stderr",
     "output_type": "stream",
     "text": [
      "100%|██████████| 771/771 [06:36<00:00,  1.95it/s]\n"
     ]
    },
    {
     "name": "stdout",
     "output_type": "stream",
     "text": [
      "{'val_loss': 1.6830544831617824, 'val_accuracy': 0.5289940828402366, 'precision': 0.574167464237678, 'recall': 0.5289940828402366, 'f1-score': 0.5256647693195033, 'macro_f1-score': 0.2629859822585852, 'balanced_accuracy': 0.37137838011029184, 'mcc': 0.417888047746932, 'train_loss': 1.6228808332355416}\n",
      "Epoch 3/20\n"
     ]
    },
    {
     "name": "stderr",
     "output_type": "stream",
     "text": [
      "100%|██████████| 771/771 [06:35<00:00,  1.95it/s]\n"
     ]
    },
    {
     "name": "stdout",
     "output_type": "stream",
     "text": [
      "{'val_loss': 1.6568121898849055, 'val_accuracy': 0.5479289940828402, 'precision': 0.628149095233625, 'recall': 0.5479289940828402, 'f1-score': 0.5511788488234133, 'macro_f1-score': 0.29829378023211534, 'balanced_accuracy': 0.38573533124952386, 'mcc': 0.428583697481577, 'train_loss': 1.2262873580406304}\n",
      "Epoch 4/20\n"
     ]
    },
    {
     "name": "stderr",
     "output_type": "stream",
     "text": [
      "100%|██████████| 771/771 [06:34<00:00,  1.95it/s]\n"
     ]
    },
    {
     "name": "stdout",
     "output_type": "stream",
     "text": [
      "{'val_loss': 1.4967931902633522, 'val_accuracy': 0.58698224852071, 'precision': 0.6384872837308966, 'recall': 0.58698224852071, 'f1-score': 0.5934649357152626, 'macro_f1-score': 0.3375846583848627, 'balanced_accuracy': 0.3972080304056263, 'mcc': 0.46913165241093957, 'train_loss': 1.0122478308612735}\n",
      "Epoch 5/20\n"
     ]
    },
    {
     "name": "stderr",
     "output_type": "stream",
     "text": [
      "100%|██████████| 771/771 [06:34<00:00,  1.95it/s]\n"
     ]
    },
    {
     "name": "stdout",
     "output_type": "stream",
     "text": [
      "{'val_loss': 1.556827091945792, 'val_accuracy': 0.5715976331360947, 'precision': 0.6570524369662901, 'recall': 0.5715976331360947, 'f1-score': 0.5838509912743374, 'macro_f1-score': 0.3245204469471634, 'balanced_accuracy': 0.4126731275767884, 'mcc': 0.4614881087742765, 'train_loss': 0.8170467963401137}\n",
      "Epoch 6/20\n"
     ]
    },
    {
     "name": "stderr",
     "output_type": "stream",
     "text": [
      "100%|██████████| 771/771 [06:34<00:00,  1.96it/s]\n"
     ]
    },
    {
     "name": "stdout",
     "output_type": "stream",
     "text": [
      "{'val_loss': 1.4432449543251182, 'val_accuracy': 0.6343195266272189, 'precision': 0.6305683633931276, 'recall': 0.6343195266272189, 'f1-score': 0.6193628379377372, 'macro_f1-score': 0.3605944915236944, 'balanced_accuracy': 0.39526130250687613, 'mcc': 0.5169378686808633, 'train_loss': 0.7745406409452552}\n",
      "Epoch 7/20\n"
     ]
    },
    {
     "name": "stderr",
     "output_type": "stream",
     "text": [
      "100%|██████████| 771/771 [06:34<00:00,  1.96it/s]\n"
     ]
    },
    {
     "name": "stdout",
     "output_type": "stream",
     "text": [
      "{'val_loss': 1.4925079475033958, 'val_accuracy': 0.6189349112426036, 'precision': 0.6330555751328012, 'recall': 0.6189349112426036, 'f1-score': 0.6160850400245337, 'macro_f1-score': 0.35736151076709816, 'balanced_accuracy': 0.41669985215262406, 'mcc': 0.5174745271192615, 'train_loss': 0.6584717391781152}\n",
      "Epoch 8/20\n"
     ]
    },
    {
     "name": "stderr",
     "output_type": "stream",
     "text": [
      "100%|██████████| 771/771 [06:34<00:00,  1.96it/s]\n"
     ]
    },
    {
     "name": "stdout",
     "output_type": "stream",
     "text": [
      "{'val_loss': 1.5298598942891606, 'val_accuracy': 0.6130177514792899, 'precision': 0.6370607279941238, 'recall': 0.6130177514792899, 'f1-score': 0.6149496399205091, 'macro_f1-score': 0.35820475156342146, 'balanced_accuracy': 0.4178908206708898, 'mcc': 0.5080256802219669, 'train_loss': 0.5893459848373471}\n",
      "Epoch 9/20\n"
     ]
    },
    {
     "name": "stderr",
     "output_type": "stream",
     "text": [
      "100%|██████████| 771/771 [06:36<00:00,  1.94it/s]\n"
     ]
    },
    {
     "name": "stdout",
     "output_type": "stream",
     "text": [
      "{'val_loss': 1.5326425084527933, 'val_accuracy': 0.6449704142011834, 'precision': 0.6436450875224485, 'recall': 0.6449704142011834, 'f1-score': 0.6251895883367689, 'macro_f1-score': 0.334641327858179, 'balanced_accuracy': 0.3588963103914655, 'mcc': 0.5268631413656278, 'train_loss': 0.5505275152401392}\n",
      "Early stopping.\n",
      "\n",
      "[Fold 7]\n",
      "Label distribution after resampling:\n",
      "  label 0: 2000\n",
      "  label 1: 200\n",
      "  label 2: 200\n",
      "  label 3: 200\n",
      "  label 4: 232\n",
      "  label 5: 200\n",
      "  label 6: 200\n",
      "  label 7: 200\n",
      "  label 8: 200\n",
      "  label 9: 200\n",
      "  label 10: 200\n",
      "  label 11: 200\n",
      "  label 12: 217\n",
      "  label 13: 200\n",
      "  label 14: 200\n",
      "  label 15: 200\n",
      "  label 16: 200\n",
      "  label 17: 260\n",
      "  label 18: 200\n",
      "  label 19: 200\n",
      "  label 20: 200\n",
      "  label 21: 200\n",
      "  label 22: 200\n",
      "  label 23: 200\n",
      "  label 24: 200\n",
      "  label 25: 200\n",
      "  label 26: 200\n",
      "  label 27: 200\n",
      "  label 28: 200\n",
      "  label 29: 200\n",
      "  label 30: 200\n",
      "  label 31: 200\n",
      "  label 32: 200\n",
      "  label 33: 200\n",
      "  label 34: 200\n",
      "  label 35: 200\n",
      "  label 36: 200\n",
      "  label 37: 200\n",
      "  label 38: 200\n",
      "  label 39: 200\n",
      "  label 40: 200\n",
      "  label 41: 200\n",
      "  label 42: 200\n",
      "  label 43: 200\n",
      "  label 44: 200\n",
      "  label 45: 200\n",
      "  label 46: 200\n",
      "  label 47: 594\n",
      "  label 48: 227\n",
      "  label 49: 200\n",
      "model is roberta-base lstm\n"
     ]
    },
    {
     "name": "stderr",
     "output_type": "stream",
     "text": [
      "Some weights of RobertaModel were not initialized from the model checkpoint at roberta-base and are newly initialized: ['roberta.pooler.dense.bias', 'roberta.pooler.dense.weight']\n",
      "You should probably TRAIN this model on a down-stream task to be able to use it for predictions and inference.\n"
     ]
    },
    {
     "name": "stdout",
     "output_type": "stream",
     "text": [
      "Epoch 1/20\n"
     ]
    },
    {
     "name": "stderr",
     "output_type": "stream",
     "text": [
      "100%|██████████| 771/771 [06:33<00:00,  1.96it/s]\n"
     ]
    },
    {
     "name": "stdout",
     "output_type": "stream",
     "text": [
      "{'val_loss': 1.7271259989378587, 'val_accuracy': 0.5810650887573965, 'precision': 0.541758190438674, 'recall': 0.5810650887573965, 'f1-score': 0.532210675038821, 'macro_f1-score': 0.23929096553554757, 'balanced_accuracy': 0.3146230473500189, 'mcc': 0.4384570087101434, 'train_loss': 2.7053776337788107}\n",
      "Epoch 2/20\n"
     ]
    },
    {
     "name": "stderr",
     "output_type": "stream",
     "text": [
      "100%|██████████| 771/771 [06:35<00:00,  1.95it/s]\n"
     ]
    },
    {
     "name": "stdout",
     "output_type": "stream",
     "text": [
      "{'val_loss': 1.7270422319196306, 'val_accuracy': 0.5349112426035503, 'precision': 0.6152412570208105, 'recall': 0.5349112426035503, 'f1-score': 0.5491716234617341, 'macro_f1-score': 0.2997973960140908, 'balanced_accuracy': 0.3985715428933825, 'mcc': 0.43124555432403916, 'train_loss': 1.6484747386782703}\n",
      "Epoch 3/20\n"
     ]
    },
    {
     "name": "stderr",
     "output_type": "stream",
     "text": [
      "100%|██████████| 771/771 [06:37<00:00,  1.94it/s]\n"
     ]
    },
    {
     "name": "stdout",
     "output_type": "stream",
     "text": [
      "{'val_loss': 1.6715715291365139, 'val_accuracy': 0.5550295857988166, 'precision': 0.603565938751216, 'recall': 0.5550295857988166, 'f1-score': 0.5620001564856285, 'macro_f1-score': 0.324352245918895, 'balanced_accuracy': 0.42544208327805905, 'mcc': 0.4545442882220721, 'train_loss': 1.2242341760531474}\n",
      "Epoch 4/20\n"
     ]
    },
    {
     "name": "stderr",
     "output_type": "stream",
     "text": [
      "100%|██████████| 771/771 [06:37<00:00,  1.94it/s]\n"
     ]
    },
    {
     "name": "stdout",
     "output_type": "stream",
     "text": [
      "{'val_loss': 1.53557632329329, 'val_accuracy': 0.6035502958579881, 'precision': 0.634066292617119, 'recall': 0.6035502958579881, 'f1-score': 0.6051792358940318, 'macro_f1-score': 0.3776915509138016, 'balanced_accuracy': 0.43608697358581644, 'mcc': 0.4977833438532097, 'train_loss': 0.9841826418185203}\n",
      "Epoch 5/20\n"
     ]
    },
    {
     "name": "stderr",
     "output_type": "stream",
     "text": [
      "100%|██████████| 771/771 [06:36<00:00,  1.95it/s]\n"
     ]
    },
    {
     "name": "stdout",
     "output_type": "stream",
     "text": [
      "{'val_loss': 1.496621071167712, 'val_accuracy': 0.6331360946745562, 'precision': 0.6536850059426261, 'recall': 0.6331360946745562, 'f1-score': 0.6233569284283893, 'macro_f1-score': 0.3728815084913182, 'balanced_accuracy': 0.4140487216729683, 'mcc': 0.5226033629323673, 'train_loss': 0.8240784008524606}\n",
      "Epoch 6/20\n"
     ]
    },
    {
     "name": "stderr",
     "output_type": "stream",
     "text": [
      "100%|██████████| 771/771 [06:36<00:00,  1.95it/s]\n"
     ]
    },
    {
     "name": "stdout",
     "output_type": "stream",
     "text": [
      "{'val_loss': 1.4235528066473186, 'val_accuracy': 0.6485207100591716, 'precision': 0.6687393418699029, 'recall': 0.6485207100591716, 'f1-score': 0.6442443023995589, 'macro_f1-score': 0.40789653327222863, 'balanced_accuracy': 0.42217682126827905, 'mcc': 0.5418430025814523, 'train_loss': 0.7327269335046662}\n",
      "Epoch 7/20\n"
     ]
    },
    {
     "name": "stderr",
     "output_type": "stream",
     "text": [
      "100%|██████████| 771/771 [06:34<00:00,  1.96it/s]\n"
     ]
    },
    {
     "name": "stdout",
     "output_type": "stream",
     "text": [
      "{'val_loss': 1.4655618611371741, 'val_accuracy': 0.6189349112426036, 'precision': 0.6316374553004392, 'recall': 0.6189349112426036, 'f1-score': 0.6179490381923848, 'macro_f1-score': 0.4037523154744318, 'balanced_accuracy': 0.4503632209458806, 'mcc': 0.5112059925295539, 'train_loss': 0.7015492076443173}\n",
      "Epoch 8/20\n"
     ]
    },
    {
     "name": "stderr",
     "output_type": "stream",
     "text": [
      "100%|██████████| 771/771 [06:34<00:00,  1.96it/s]\n"
     ]
    },
    {
     "name": "stdout",
     "output_type": "stream",
     "text": [
      "{'val_loss': 1.9163660991866633, 'val_accuracy': 0.5171597633136095, 'precision': 0.6567763687033105, 'recall': 0.5171597633136095, 'f1-score': 0.5480008272234967, 'macro_f1-score': 0.39122580809540863, 'balanced_accuracy': 0.4621818196437232, 'mcc': 0.44075351461309514, 'train_loss': 0.6086013677461138}\n",
      "Epoch 9/20\n"
     ]
    },
    {
     "name": "stderr",
     "output_type": "stream",
     "text": [
      "100%|██████████| 771/771 [06:36<00:00,  1.94it/s]\n"
     ]
    },
    {
     "name": "stdout",
     "output_type": "stream",
     "text": [
      "{'val_loss': 1.4937829262805435, 'val_accuracy': 0.6284023668639053, 'precision': 0.6810734625594898, 'recall': 0.6284023668639053, 'f1-score': 0.6387782211044936, 'macro_f1-score': 0.4217518241890208, 'balanced_accuracy': 0.4656329421490164, 'mcc': 0.5286045615834162, 'train_loss': 0.571410884836691}\n",
      "Epoch 10/20\n"
     ]
    },
    {
     "name": "stderr",
     "output_type": "stream",
     "text": [
      "100%|██████████| 771/771 [06:34<00:00,  1.95it/s]\n"
     ]
    },
    {
     "name": "stdout",
     "output_type": "stream",
     "text": [
      "{'val_loss': 1.6367948954960085, 'val_accuracy': 0.5751479289940828, 'precision': 0.6740754777339589, 'recall': 0.5751479289940828, 'f1-score': 0.5991911322991194, 'macro_f1-score': 0.40804688493785773, 'balanced_accuracy': 0.44700959486301345, 'mcc': 0.47833162896155124, 'train_loss': 0.503869749209451}\n",
      "Epoch 11/20\n"
     ]
    },
    {
     "name": "stderr",
     "output_type": "stream",
     "text": [
      "100%|██████████| 771/771 [06:34<00:00,  1.95it/s]\n"
     ]
    },
    {
     "name": "stdout",
     "output_type": "stream",
     "text": [
      "{'val_loss': 1.4948628612284391, 'val_accuracy': 0.650887573964497, 'precision': 0.6638245567988071, 'recall': 0.650887573964497, 'f1-score': 0.6480814388445126, 'macro_f1-score': 0.43112734130576996, 'balanced_accuracy': 0.4495061252164947, 'mcc': 0.5472262412324412, 'train_loss': 0.43756173856933295}\n",
      "Epoch 12/20\n"
     ]
    },
    {
     "name": "stderr",
     "output_type": "stream",
     "text": [
      "100%|██████████| 771/771 [06:34<00:00,  1.96it/s]\n"
     ]
    },
    {
     "name": "stdout",
     "output_type": "stream",
     "text": [
      "{'val_loss': 1.5470350620881566, 'val_accuracy': 0.6556213017751479, 'precision': 0.684532271815413, 'recall': 0.6556213017751479, 'f1-score': 0.6585862748913989, 'macro_f1-score': 0.43558557699080175, 'balanced_accuracy': 0.4677218293558177, 'mcc': 0.5632858151203776, 'train_loss': 0.48677447354650527}\n",
      "Epoch 13/20\n"
     ]
    },
    {
     "name": "stderr",
     "output_type": "stream",
     "text": [
      "100%|██████████| 771/771 [06:33<00:00,  1.96it/s]\n"
     ]
    },
    {
     "name": "stdout",
     "output_type": "stream",
     "text": [
      "{'val_loss': 1.5619472017828024, 'val_accuracy': 0.642603550295858, 'precision': 0.670196394100175, 'recall': 0.642603550295858, 'f1-score': 0.6472896438993628, 'macro_f1-score': 0.43005036095611104, 'balanced_accuracy': 0.46228825099203924, 'mcc': 0.550374116369182, 'train_loss': 0.40669001320234455}\n",
      "Epoch 14/20\n"
     ]
    },
    {
     "name": "stderr",
     "output_type": "stream",
     "text": [
      "100%|██████████| 771/771 [06:28<00:00,  1.98it/s]\n"
     ]
    },
    {
     "name": "stdout",
     "output_type": "stream",
     "text": [
      "{'val_loss': 1.5885467349358324, 'val_accuracy': 0.6177514792899408, 'precision': 0.6630184480415073, 'recall': 0.6177514792899408, 'f1-score': 0.6254560846283982, 'macro_f1-score': 0.3983243071725628, 'balanced_accuracy': 0.42745370807421024, 'mcc': 0.5120271411002743, 'train_loss': 0.4141341353997337}\n",
      "Epoch 15/20\n"
     ]
    },
    {
     "name": "stderr",
     "output_type": "stream",
     "text": [
      "100%|██████████| 771/771 [06:37<00:00,  1.94it/s]\n"
     ]
    },
    {
     "name": "stdout",
     "output_type": "stream",
     "text": [
      "{'val_loss': 1.5838806617934749, 'val_accuracy': 0.6449704142011834, 'precision': 0.6697641170655042, 'recall': 0.6449704142011834, 'f1-score': 0.6478774765827331, 'macro_f1-score': 0.424746466030859, 'balanced_accuracy': 0.45630263753785927, 'mcc': 0.5461148052267416, 'train_loss': 0.3702777286244969}\n",
      "Early stopping.\n",
      "\n",
      "[Fold 8]\n",
      "Label distribution after resampling:\n",
      "  label 0: 2000\n",
      "  label 1: 200\n",
      "  label 2: 200\n",
      "  label 3: 200\n",
      "  label 4: 232\n",
      "  label 5: 200\n",
      "  label 6: 200\n",
      "  label 7: 200\n",
      "  label 8: 200\n",
      "  label 9: 200\n",
      "  label 10: 200\n",
      "  label 11: 200\n",
      "  label 12: 216\n",
      "  label 13: 200\n",
      "  label 14: 200\n",
      "  label 15: 200\n",
      "  label 16: 200\n",
      "  label 17: 260\n",
      "  label 18: 200\n",
      "  label 19: 200\n",
      "  label 20: 200\n",
      "  label 21: 200\n",
      "  label 22: 200\n",
      "  label 23: 200\n",
      "  label 24: 200\n",
      "  label 25: 200\n",
      "  label 26: 200\n",
      "  label 27: 200\n",
      "  label 28: 200\n",
      "  label 29: 200\n",
      "  label 30: 200\n",
      "  label 31: 200\n",
      "  label 32: 200\n",
      "  label 33: 200\n",
      "  label 34: 200\n",
      "  label 35: 200\n",
      "  label 36: 200\n",
      "  label 37: 200\n",
      "  label 38: 200\n",
      "  label 39: 200\n",
      "  label 40: 200\n",
      "  label 41: 200\n",
      "  label 42: 200\n",
      "  label 43: 200\n",
      "  label 44: 200\n",
      "  label 45: 200\n",
      "  label 46: 200\n",
      "  label 47: 595\n",
      "  label 48: 226\n",
      "  label 49: 200\n",
      "model is roberta-base lstm\n"
     ]
    },
    {
     "name": "stderr",
     "output_type": "stream",
     "text": [
      "Some weights of RobertaModel were not initialized from the model checkpoint at roberta-base and are newly initialized: ['roberta.pooler.dense.bias', 'roberta.pooler.dense.weight']\n",
      "You should probably TRAIN this model on a down-stream task to be able to use it for predictions and inference.\n"
     ]
    },
    {
     "name": "stdout",
     "output_type": "stream",
     "text": [
      "Epoch 1/20\n"
     ]
    },
    {
     "name": "stderr",
     "output_type": "stream",
     "text": [
      "100%|██████████| 771/771 [06:30<00:00,  1.98it/s]\n"
     ]
    },
    {
     "name": "stdout",
     "output_type": "stream",
     "text": [
      "{'val_loss': 1.655661479482111, 'val_accuracy': 0.5692307692307692, 'precision': 0.5344284152225193, 'recall': 0.5692307692307692, 'f1-score': 0.5276191443928082, 'macro_f1-score': 0.24132219459527163, 'balanced_accuracy': 0.33238661153741494, 'mcc': 0.42590134690167525, 'train_loss': 2.6542721802777045}\n",
      "Epoch 2/20\n"
     ]
    },
    {
     "name": "stderr",
     "output_type": "stream",
     "text": [
      "100%|██████████| 771/771 [06:27<00:00,  1.99it/s]\n"
     ]
    },
    {
     "name": "stdout",
     "output_type": "stream",
     "text": [
      "{'val_loss': 1.4704888440528006, 'val_accuracy': 0.5905325443786982, 'precision': 0.5944307877384936, 'recall': 0.5905325443786982, 'f1-score': 0.5749834937813114, 'macro_f1-score': 0.3298366216850029, 'balanced_accuracy': 0.4072571568591806, 'mcc': 0.4674729862107888, 'train_loss': 1.6376486862061397}\n",
      "Epoch 3/20\n"
     ]
    },
    {
     "name": "stderr",
     "output_type": "stream",
     "text": [
      "100%|██████████| 771/771 [06:27<00:00,  1.99it/s]\n"
     ]
    },
    {
     "name": "stdout",
     "output_type": "stream",
     "text": [
      "{'val_loss': 1.4844719621370424, 'val_accuracy': 0.5751479289940828, 'precision': 0.605759274865512, 'recall': 0.5751479289940828, 'f1-score': 0.5755779195158921, 'macro_f1-score': 0.32155014306951996, 'balanced_accuracy': 0.39496709130436636, 'mcc': 0.46165443769632203, 'train_loss': 1.2342108824760225}\n",
      "Epoch 4/20\n"
     ]
    },
    {
     "name": "stderr",
     "output_type": "stream",
     "text": [
      "100%|██████████| 771/771 [06:29<00:00,  1.98it/s]\n"
     ]
    },
    {
     "name": "stdout",
     "output_type": "stream",
     "text": [
      "{'val_loss': 1.503654364145027, 'val_accuracy': 0.570414201183432, 'precision': 0.6689517601060283, 'recall': 0.570414201183432, 'f1-score': 0.5851680076044686, 'macro_f1-score': 0.32530625246927836, 'balanced_accuracy': 0.39087376691874404, 'mcc': 0.4693956959997605, 'train_loss': 1.0467673594424387}\n",
      "Epoch 5/20\n"
     ]
    },
    {
     "name": "stderr",
     "output_type": "stream",
     "text": [
      "100%|██████████| 771/771 [06:30<00:00,  1.98it/s]\n"
     ]
    },
    {
     "name": "stdout",
     "output_type": "stream",
     "text": [
      "{'val_loss': 1.6479128936551652, 'val_accuracy': 0.5597633136094674, 'precision': 0.6453386638331945, 'recall': 0.5597633136094674, 'f1-score': 0.5738053306606382, 'macro_f1-score': 0.3383132836308194, 'balanced_accuracy': 0.4699262774000092, 'mcc': 0.4693981138528218, 'train_loss': 0.8612110124255896}\n",
      "Epoch 6/20\n"
     ]
    },
    {
     "name": "stderr",
     "output_type": "stream",
     "text": [
      "100%|██████████| 771/771 [06:27<00:00,  1.99it/s]\n"
     ]
    },
    {
     "name": "stdout",
     "output_type": "stream",
     "text": [
      "{'val_loss': 1.421930619005887, 'val_accuracy': 0.6224852071005917, 'precision': 0.6454446172451582, 'recall': 0.6224852071005917, 'f1-score': 0.6176695080901541, 'macro_f1-score': 0.38603185970883674, 'balanced_accuracy': 0.42750951538715115, 'mcc': 0.5202692989948519, 'train_loss': 0.7751334825127196}\n",
      "Epoch 7/20\n"
     ]
    },
    {
     "name": "stderr",
     "output_type": "stream",
     "text": [
      "100%|██████████| 771/771 [06:29<00:00,  1.98it/s]\n"
     ]
    },
    {
     "name": "stdout",
     "output_type": "stream",
     "text": [
      "{'val_loss': 1.415035607679835, 'val_accuracy': 0.6343195266272189, 'precision': 0.6375758041984998, 'recall': 0.6343195266272189, 'f1-score': 0.6223546264695285, 'macro_f1-score': 0.35112970493501755, 'balanced_accuracy': 0.40828072357530276, 'mcc': 0.5254830148324364, 'train_loss': 0.6913875505405487}\n",
      "Epoch 8/20\n"
     ]
    },
    {
     "name": "stderr",
     "output_type": "stream",
     "text": [
      "100%|██████████| 771/771 [06:29<00:00,  1.98it/s]\n"
     ]
    },
    {
     "name": "stdout",
     "output_type": "stream",
     "text": [
      "{'val_loss': 1.419905257674883, 'val_accuracy': 0.6272189349112426, 'precision': 0.621512011270004, 'recall': 0.6272189349112426, 'f1-score': 0.6141106529297387, 'macro_f1-score': 0.3722658899328184, 'balanced_accuracy': 0.4460645609674589, 'mcc': 0.5225048318989064, 'train_loss': 0.6272125946099347}\n",
      "Epoch 9/20\n"
     ]
    },
    {
     "name": "stderr",
     "output_type": "stream",
     "text": [
      "100%|██████████| 771/771 [06:27<00:00,  1.99it/s]\n"
     ]
    },
    {
     "name": "stdout",
     "output_type": "stream",
     "text": [
      "{'val_loss': 1.4324011555257834, 'val_accuracy': 0.6355029585798817, 'precision': 0.6420984539917906, 'recall': 0.6355029585798817, 'f1-score': 0.6319919336486888, 'macro_f1-score': 0.4062706241991353, 'balanced_accuracy': 0.44389287554738466, 'mcc': 0.525992257616669, 'train_loss': 0.5829016775443628}\n",
      "Epoch 10/20\n"
     ]
    },
    {
     "name": "stderr",
     "output_type": "stream",
     "text": [
      "100%|██████████| 771/771 [06:28<00:00,  1.99it/s]\n"
     ]
    },
    {
     "name": "stdout",
     "output_type": "stream",
     "text": [
      "{'val_loss': 1.5741367008326188, 'val_accuracy': 0.5810650887573965, 'precision': 0.652094442839492, 'recall': 0.5810650887573965, 'f1-score': 0.5988838965688493, 'macro_f1-score': 0.35455811984871466, 'balanced_accuracy': 0.39859798037569566, 'mcc': 0.4805234633663731, 'train_loss': 0.5880170276366783}\n",
      "Epoch 11/20\n"
     ]
    },
    {
     "name": "stderr",
     "output_type": "stream",
     "text": [
      "100%|██████████| 771/771 [06:30<00:00,  1.98it/s]\n"
     ]
    },
    {
     "name": "stdout",
     "output_type": "stream",
     "text": [
      "{'val_loss': 1.3320527346629016, 'val_accuracy': 0.6650887573964497, 'precision': 0.6732484299656197, 'recall': 0.6650887573964497, 'f1-score': 0.6538058070056845, 'macro_f1-score': 0.40151695879928084, 'balanced_accuracy': 0.4176975799023539, 'mcc': 0.5584741765283227, 'train_loss': 0.5191584879969731}\n",
      "Epoch 12/20\n"
     ]
    },
    {
     "name": "stderr",
     "output_type": "stream",
     "text": [
      "100%|██████████| 771/771 [06:30<00:00,  1.97it/s]\n"
     ]
    },
    {
     "name": "stdout",
     "output_type": "stream",
     "text": [
      "{'val_loss': 1.4370213555839826, 'val_accuracy': 0.6355029585798817, 'precision': 0.6750603400838469, 'recall': 0.6355029585798817, 'f1-score': 0.6422407054027964, 'macro_f1-score': 0.4245449396890575, 'balanced_accuracy': 0.4650960209563431, 'mcc': 0.5407827024270814, 'train_loss': 0.4961262112616256}\n",
      "Epoch 13/20\n"
     ]
    },
    {
     "name": "stderr",
     "output_type": "stream",
     "text": [
      "100%|██████████| 771/771 [06:28<00:00,  1.99it/s]\n"
     ]
    },
    {
     "name": "stdout",
     "output_type": "stream",
     "text": [
      "{'val_loss': 1.512522688451803, 'val_accuracy': 0.6331360946745562, 'precision': 0.6558940930039387, 'recall': 0.6331360946745562, 'f1-score': 0.6298997229033748, 'macro_f1-score': 0.3652006842009999, 'balanced_accuracy': 0.4125090025127689, 'mcc': 0.5303151395674583, 'train_loss': 0.4233481085022136}\n",
      "Epoch 14/20\n"
     ]
    },
    {
     "name": "stderr",
     "output_type": "stream",
     "text": [
      "100%|██████████| 771/771 [06:26<00:00,  2.00it/s]\n"
     ]
    },
    {
     "name": "stdout",
     "output_type": "stream",
     "text": [
      "{'val_loss': 1.5208231683047313, 'val_accuracy': 0.6319526627218935, 'precision': 0.6760339451496488, 'recall': 0.6319526627218935, 'f1-score': 0.635649300233804, 'macro_f1-score': 0.3951649088961513, 'balanced_accuracy': 0.44279074111694533, 'mcc': 0.5385362800147406, 'train_loss': 0.4121171369298268}\n",
      "Epoch 15/20\n"
     ]
    },
    {
     "name": "stderr",
     "output_type": "stream",
     "text": [
      "100%|██████████| 771/771 [06:28<00:00,  1.98it/s]\n"
     ]
    },
    {
     "name": "stdout",
     "output_type": "stream",
     "text": [
      "{'val_loss': 1.4925652151962496, 'val_accuracy': 0.6568047337278107, 'precision': 0.6751847477758409, 'recall': 0.6568047337278107, 'f1-score': 0.6543623014421829, 'macro_f1-score': 0.42411062352486156, 'balanced_accuracy': 0.45180283904729224, 'mcc': 0.5556586210223797, 'train_loss': 0.38401840641930335}\n",
      "Early stopping.\n",
      "\n",
      "[Fold 9]\n",
      "Label distribution after resampling:\n",
      "  label 0: 2000\n",
      "  label 1: 200\n",
      "  label 2: 200\n",
      "  label 3: 200\n",
      "  label 4: 232\n",
      "  label 5: 200\n",
      "  label 6: 200\n",
      "  label 7: 200\n",
      "  label 8: 200\n",
      "  label 9: 200\n",
      "  label 10: 200\n",
      "  label 11: 200\n",
      "  label 12: 217\n",
      "  label 13: 200\n",
      "  label 14: 200\n",
      "  label 15: 200\n",
      "  label 16: 200\n",
      "  label 17: 261\n",
      "  label 18: 200\n",
      "  label 19: 200\n",
      "  label 20: 200\n",
      "  label 21: 200\n",
      "  label 22: 200\n",
      "  label 23: 200\n",
      "  label 24: 200\n",
      "  label 25: 200\n",
      "  label 26: 200\n",
      "  label 27: 200\n",
      "  label 28: 200\n",
      "  label 29: 200\n",
      "  label 30: 200\n",
      "  label 31: 200\n",
      "  label 32: 200\n",
      "  label 33: 200\n",
      "  label 34: 200\n",
      "  label 35: 200\n",
      "  label 36: 200\n",
      "  label 37: 200\n",
      "  label 38: 200\n",
      "  label 39: 200\n",
      "  label 40: 200\n",
      "  label 41: 200\n",
      "  label 42: 200\n",
      "  label 43: 200\n",
      "  label 44: 200\n",
      "  label 45: 200\n",
      "  label 46: 200\n",
      "  label 47: 595\n",
      "  label 48: 226\n",
      "  label 49: 200\n",
      "model is roberta-base lstm\n"
     ]
    },
    {
     "name": "stderr",
     "output_type": "stream",
     "text": [
      "Some weights of RobertaModel were not initialized from the model checkpoint at roberta-base and are newly initialized: ['roberta.pooler.dense.bias', 'roberta.pooler.dense.weight']\n",
      "You should probably TRAIN this model on a down-stream task to be able to use it for predictions and inference.\n"
     ]
    },
    {
     "name": "stdout",
     "output_type": "stream",
     "text": [
      "Epoch 1/20\n"
     ]
    },
    {
     "name": "stderr",
     "output_type": "stream",
     "text": [
      "100%|██████████| 771/771 [06:29<00:00,  1.98it/s]\n",
      "D:\\Anaconda3\\envs\\cuda\\Lib\\site-packages\\sklearn\\metrics\\_classification.py:2458: UserWarning: y_pred contains classes not in y_true\n",
      "  warnings.warn(\"y_pred contains classes not in y_true\")\n"
     ]
    },
    {
     "name": "stdout",
     "output_type": "stream",
     "text": [
      "{'val_loss': 2.048513223540108, 'val_accuracy': 0.47692307692307695, 'precision': 0.5442897428773189, 'recall': 0.47692307692307695, 'f1-score': 0.4776319872739813, 'macro_f1-score': 0.1814684696880878, 'balanced_accuracy': 0.2812493671615658, 'mcc': 0.36841195486792433, 'train_loss': 2.582014220543254}\n",
      "Epoch 2/20\n"
     ]
    },
    {
     "name": "stderr",
     "output_type": "stream",
     "text": [
      "100%|██████████| 771/771 [06:27<00:00,  1.99it/s]\n"
     ]
    },
    {
     "name": "stdout",
     "output_type": "stream",
     "text": [
      "{'val_loss': 1.639564331972374, 'val_accuracy': 0.5597633136094674, 'precision': 0.5952569869415472, 'recall': 0.5597633136094674, 'f1-score': 0.5623706441265839, 'macro_f1-score': 0.3201034133804315, 'balanced_accuracy': 0.39758297800373577, 'mcc': 0.44348069167796766, 'train_loss': 1.6107326835664484}\n",
      "Epoch 3/20\n"
     ]
    },
    {
     "name": "stderr",
     "output_type": "stream",
     "text": [
      "100%|██████████| 771/771 [06:27<00:00,  1.99it/s]\n",
      "D:\\Anaconda3\\envs\\cuda\\Lib\\site-packages\\sklearn\\metrics\\_classification.py:2458: UserWarning: y_pred contains classes not in y_true\n",
      "  warnings.warn(\"y_pred contains classes not in y_true\")\n"
     ]
    },
    {
     "name": "stdout",
     "output_type": "stream",
     "text": [
      "{'val_loss': 1.511606254667606, 'val_accuracy': 0.591715976331361, 'precision': 0.5950652040405686, 'recall': 0.591715976331361, 'f1-score': 0.5796787054394938, 'macro_f1-score': 0.3135178593237722, 'balanced_accuracy': 0.356662560723888, 'mcc': 0.4695366180933145, 'train_loss': 1.220478700872525}\n",
      "Epoch 4/20\n"
     ]
    },
    {
     "name": "stderr",
     "output_type": "stream",
     "text": [
      "100%|██████████| 771/771 [06:27<00:00,  1.99it/s]\n",
      "D:\\Anaconda3\\envs\\cuda\\Lib\\site-packages\\sklearn\\metrics\\_classification.py:2458: UserWarning: y_pred contains classes not in y_true\n",
      "  warnings.warn(\"y_pred contains classes not in y_true\")\n"
     ]
    },
    {
     "name": "stdout",
     "output_type": "stream",
     "text": [
      "{'val_loss': 1.4704762506035138, 'val_accuracy': 0.6071005917159763, 'precision': 0.6621840897962963, 'recall': 0.6071005917159763, 'f1-score': 0.6194354678825194, 'macro_f1-score': 0.35435354719404266, 'balanced_accuracy': 0.3988893709944448, 'mcc': 0.5014927583953281, 'train_loss': 1.0312673382258137}\n",
      "Epoch 5/20\n"
     ]
    },
    {
     "name": "stderr",
     "output_type": "stream",
     "text": [
      "100%|██████████| 771/771 [06:27<00:00,  1.99it/s]\n"
     ]
    },
    {
     "name": "stdout",
     "output_type": "stream",
     "text": [
      "{'val_loss': 1.4399017511673693, 'val_accuracy': 0.6355029585798817, 'precision': 0.6736454496904255, 'recall': 0.6355029585798817, 'f1-score': 0.626392157439448, 'macro_f1-score': 0.3576646881663835, 'balanced_accuracy': 0.39534883352623545, 'mcc': 0.5250801251344358, 'train_loss': 0.8222728251212611}\n",
      "Epoch 6/20\n"
     ]
    },
    {
     "name": "stderr",
     "output_type": "stream",
     "text": [
      "100%|██████████| 771/771 [06:26<00:00,  2.00it/s]\n",
      "D:\\Anaconda3\\envs\\cuda\\Lib\\site-packages\\sklearn\\metrics\\_classification.py:2458: UserWarning: y_pred contains classes not in y_true\n",
      "  warnings.warn(\"y_pred contains classes not in y_true\")\n"
     ]
    },
    {
     "name": "stdout",
     "output_type": "stream",
     "text": [
      "{'val_loss': 1.4722333887837968, 'val_accuracy': 0.6142011834319526, 'precision': 0.6487155394012337, 'recall': 0.6142011834319526, 'f1-score': 0.6186722134577378, 'macro_f1-score': 0.3847407309452259, 'balanced_accuracy': 0.457916619613016, 'mcc': 0.5179935582042294, 'train_loss': 0.7367249385836678}\n",
      "Epoch 7/20\n"
     ]
    },
    {
     "name": "stderr",
     "output_type": "stream",
     "text": [
      "100%|██████████| 771/771 [06:27<00:00,  1.99it/s]\n"
     ]
    },
    {
     "name": "stdout",
     "output_type": "stream",
     "text": [
      "{'val_loss': 1.5597879706688647, 'val_accuracy': 0.6071005917159763, 'precision': 0.6725645773669178, 'recall': 0.6071005917159763, 'f1-score': 0.6238351886649952, 'macro_f1-score': 0.372765713893585, 'balanced_accuracy': 0.42447042941465396, 'mcc': 0.5182503119391992, 'train_loss': 0.6642619328604753}\n",
      "Epoch 8/20\n"
     ]
    },
    {
     "name": "stderr",
     "output_type": "stream",
     "text": [
      "100%|██████████| 771/771 [06:27<00:00,  1.99it/s]\n"
     ]
    },
    {
     "name": "stdout",
     "output_type": "stream",
     "text": [
      "{'val_loss': 1.4860224004061717, 'val_accuracy': 0.6142011834319526, 'precision': 0.6457972770110308, 'recall': 0.6142011834319526, 'f1-score': 0.6182337992491532, 'macro_f1-score': 0.3786881971855256, 'balanced_accuracy': 0.4264594408772685, 'mcc': 0.5109816563069979, 'train_loss': 0.6673017468511208}\n",
      "Epoch 9/20\n"
     ]
    },
    {
     "name": "stderr",
     "output_type": "stream",
     "text": [
      "100%|██████████| 771/771 [06:27<00:00,  1.99it/s]\n",
      "D:\\Anaconda3\\envs\\cuda\\Lib\\site-packages\\sklearn\\metrics\\_classification.py:2458: UserWarning: y_pred contains classes not in y_true\n",
      "  warnings.warn(\"y_pred contains classes not in y_true\")\n"
     ]
    },
    {
     "name": "stdout",
     "output_type": "stream",
     "text": [
      "{'val_loss': 1.5149287592689946, 'val_accuracy': 0.6094674556213018, 'precision': 0.6589301777181713, 'recall': 0.6094674556213018, 'f1-score': 0.6112636136587092, 'macro_f1-score': 0.3783115085488559, 'balanced_accuracy': 0.4371662449683834, 'mcc': 0.5036839402190233, 'train_loss': 0.5316411553847032}\n",
      "Early stopping.\n",
      "\n",
      "[Fold 10]\n",
      "Label distribution after resampling:\n",
      "  label 0: 2000\n",
      "  label 1: 200\n",
      "  label 2: 200\n",
      "  label 3: 200\n",
      "  label 4: 231\n",
      "  label 5: 200\n",
      "  label 6: 200\n",
      "  label 7: 200\n",
      "  label 8: 200\n",
      "  label 9: 200\n",
      "  label 10: 200\n",
      "  label 11: 200\n",
      "  label 12: 217\n",
      "  label 13: 200\n",
      "  label 14: 200\n",
      "  label 15: 200\n",
      "  label 16: 200\n",
      "  label 17: 260\n",
      "  label 18: 200\n",
      "  label 19: 200\n",
      "  label 20: 200\n",
      "  label 21: 200\n",
      "  label 22: 200\n",
      "  label 23: 200\n",
      "  label 24: 200\n",
      "  label 25: 200\n",
      "  label 26: 200\n",
      "  label 27: 200\n",
      "  label 28: 200\n",
      "  label 29: 200\n",
      "  label 30: 200\n",
      "  label 31: 200\n",
      "  label 32: 200\n",
      "  label 33: 200\n",
      "  label 34: 200\n",
      "  label 35: 200\n",
      "  label 36: 200\n",
      "  label 37: 200\n",
      "  label 38: 200\n",
      "  label 39: 200\n",
      "  label 40: 200\n",
      "  label 41: 200\n",
      "  label 42: 200\n",
      "  label 43: 200\n",
      "  label 44: 200\n",
      "  label 45: 200\n",
      "  label 46: 200\n",
      "  label 47: 595\n",
      "  label 48: 227\n",
      "  label 49: 200\n",
      "model is roberta-base lstm\n"
     ]
    },
    {
     "name": "stderr",
     "output_type": "stream",
     "text": [
      "Some weights of RobertaModel were not initialized from the model checkpoint at roberta-base and are newly initialized: ['roberta.pooler.dense.bias', 'roberta.pooler.dense.weight']\n",
      "You should probably TRAIN this model on a down-stream task to be able to use it for predictions and inference.\n"
     ]
    },
    {
     "name": "stdout",
     "output_type": "stream",
     "text": [
      "Epoch 1/20\n"
     ]
    },
    {
     "name": "stderr",
     "output_type": "stream",
     "text": [
      "100%|██████████| 771/771 [06:28<00:00,  1.98it/s]\n",
      "D:\\Anaconda3\\envs\\cuda\\Lib\\site-packages\\sklearn\\metrics\\_classification.py:2458: UserWarning: y_pred contains classes not in y_true\n",
      "  warnings.warn(\"y_pred contains classes not in y_true\")\n"
     ]
    },
    {
     "name": "stdout",
     "output_type": "stream",
     "text": [
      "{'val_loss': 1.6885728150043848, 'val_accuracy': 0.5763313609467455, 'precision': 0.5343855464414379, 'recall': 0.5763313609467455, 'f1-score': 0.5264615418869253, 'macro_f1-score': 0.19641708876092565, 'balanced_accuracy': 0.26455293083443693, 'mcc': 0.42809344537825533, 'train_loss': 2.6525471833584064}\n",
      "Epoch 2/20\n"
     ]
    },
    {
     "name": "stderr",
     "output_type": "stream",
     "text": [
      "100%|██████████| 771/771 [06:24<00:00,  2.01it/s]\n",
      "D:\\Anaconda3\\envs\\cuda\\Lib\\site-packages\\sklearn\\metrics\\_classification.py:2458: UserWarning: y_pred contains classes not in y_true\n",
      "  warnings.warn(\"y_pred contains classes not in y_true\")\n"
     ]
    },
    {
     "name": "stdout",
     "output_type": "stream",
     "text": [
      "{'val_loss': 1.5408702481467769, 'val_accuracy': 0.5893491124260355, 'precision': 0.5835454939344602, 'recall': 0.5893491124260355, 'f1-score': 0.5676004094163665, 'macro_f1-score': 0.27697068731689867, 'balanced_accuracy': 0.3646827285779348, 'mcc': 0.464769537013291, 'train_loss': 1.6795389980812172}\n",
      "Epoch 3/20\n"
     ]
    },
    {
     "name": "stderr",
     "output_type": "stream",
     "text": [
      "100%|██████████| 771/771 [06:26<00:00,  2.00it/s]\n"
     ]
    },
    {
     "name": "stdout",
     "output_type": "stream",
     "text": [
      "{'val_loss': 1.542100928864389, 'val_accuracy': 0.5751479289940828, 'precision': 0.6247304824488872, 'recall': 0.5751479289940828, 'f1-score': 0.5836931052847585, 'macro_f1-score': 0.33493009198051543, 'balanced_accuracy': 0.4058486168518395, 'mcc': 0.4714509449515199, 'train_loss': 1.2846979338835185}\n",
      "Epoch 4/20\n"
     ]
    },
    {
     "name": "stderr",
     "output_type": "stream",
     "text": [
      "100%|██████████| 771/771 [06:26<00:00,  1.99it/s]\n"
     ]
    },
    {
     "name": "stdout",
     "output_type": "stream",
     "text": [
      "{'val_loss': 1.411583179572843, 'val_accuracy': 0.6118343195266273, 'precision': 0.6082744427386151, 'recall': 0.6118343195266273, 'f1-score': 0.5983785397746144, 'macro_f1-score': 0.3328313340291906, 'balanced_accuracy': 0.3697029698088483, 'mcc': 0.48964292474500193, 'train_loss': 1.0681682384045053}\n",
      "Epoch 5/20\n"
     ]
    },
    {
     "name": "stderr",
     "output_type": "stream",
     "text": [
      "100%|██████████| 771/771 [06:29<00:00,  1.98it/s]\n"
     ]
    },
    {
     "name": "stdout",
     "output_type": "stream",
     "text": [
      "{'val_loss': 1.6421478491909098, 'val_accuracy': 0.5609467455621302, 'precision': 0.6461381150575652, 'recall': 0.5609467455621302, 'f1-score': 0.572513170617385, 'macro_f1-score': 0.3146557592597849, 'balanced_accuracy': 0.40574069354632414, 'mcc': 0.46454005606493615, 'train_loss': 0.8933667950283847}\n",
      "Epoch 6/20\n"
     ]
    },
    {
     "name": "stderr",
     "output_type": "stream",
     "text": [
      "100%|██████████| 771/771 [06:28<00:00,  1.99it/s]\n"
     ]
    },
    {
     "name": "stdout",
     "output_type": "stream",
     "text": [
      "{'val_loss': 1.4715986589215837, 'val_accuracy': 0.6224852071005917, 'precision': 0.6470934867613883, 'recall': 0.6224852071005917, 'f1-score': 0.6175064688138767, 'macro_f1-score': 0.31527962632670853, 'balanced_accuracy': 0.3765136608367685, 'mcc': 0.508739941277697, 'train_loss': 0.8079640658139873}\n",
      "Early stopping.\n",
      "\n",
      " === roberta-base + lstm + ros Final 10-fold Cross-Validation Results ===\n",
      "Total time: 43921 seconds\n",
      "Total time: 12 hrs 12 mins 1 secs\n",
      "val_loss: 1.4864\n",
      "val_accuracy: 0.6260\n",
      "precision: 0.6515\n",
      "recall: 0.6260\n",
      "f1-score: 0.6244\n",
      "macro_f1-score: 0.3867\n",
      "balanced_accuracy: 0.4334\n",
      "mcc: 0.5208\n",
      "train_loss: 0.7320\n"
     ]
    }
   ],
   "source": [
    "model_list = [\"roberta-base\"]\n",
    "hybrid_list = [\"lstm\"]\n",
    "resample_list = [\"ros\"]\n",
    "\n",
    "for model_name in model_list:\n",
    "    for hybrid_type in hybrid_list:\n",
    "        for resample_method in resample_list:\n",
    "            results = run_kfold_experiment(\n",
    "                X=messages, y=labels, model_name=model_name, hybrid_type=hybrid_type, resample_method=resample_method,\n",
    "                kfold=KFOLD_SPLIT, seed=SEED, epochs=EPOCHS, patience=PATIENCE, max_length=MAX_LENGTH, \n",
    "                batch_size=BATCH_SIZE, lr=LR, weight_decay=WEIGHT_DECAY\n",
    "            )"
   ]
  },
  {
   "cell_type": "code",
   "execution_count": null,
   "id": "ec792735-5337-4675-a201-30ec3a0415ca",
   "metadata": {},
   "outputs": [],
   "source": []
  },
  {
   "cell_type": "code",
   "execution_count": null,
   "id": "3c633d6f-3117-4e62-a92c-c50fb863c194",
   "metadata": {},
   "outputs": [],
   "source": []
  },
  {
   "cell_type": "code",
   "execution_count": null,
   "id": "a979ee3d-a4b6-4ea5-8247-fe041653243b",
   "metadata": {},
   "outputs": [],
   "source": []
  }
 ],
 "metadata": {
  "kernelspec": {
   "display_name": "Python 3 (ipykernel)",
   "language": "python",
   "name": "python3"
  },
  "language_info": {
   "codemirror_mode": {
    "name": "ipython",
    "version": 3
   },
   "file_extension": ".py",
   "mimetype": "text/x-python",
   "name": "python",
   "nbconvert_exporter": "python",
   "pygments_lexer": "ipython3",
   "version": "3.11.9"
  }
 },
 "nbformat": 4,
 "nbformat_minor": 5
}
