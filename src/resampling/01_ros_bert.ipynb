{
 "cells": [
  {
   "cell_type": "code",
   "execution_count": 1,
   "id": "c6902def-8805-4483-a546-4ab48a7b8953",
   "metadata": {},
   "outputs": [
    {
     "data": {
      "text/html": [
       "<div>\n",
       "<style scoped>\n",
       "    .dataframe tbody tr th:only-of-type {\n",
       "        vertical-align: middle;\n",
       "    }\n",
       "\n",
       "    .dataframe tbody tr th {\n",
       "        vertical-align: top;\n",
       "    }\n",
       "\n",
       "    .dataframe thead th {\n",
       "        text-align: right;\n",
       "    }\n",
       "</style>\n",
       "<table border=\"1\" class=\"dataframe\">\n",
       "  <thead>\n",
       "    <tr style=\"text-align: right;\">\n",
       "      <th></th>\n",
       "      <th>Inbound Message</th>\n",
       "      <th>Label</th>\n",
       "    </tr>\n",
       "  </thead>\n",
       "  <tbody>\n",
       "    <tr>\n",
       "      <th>0</th>\n",
       "      <td>login issue verified user details employee man...</td>\n",
       "      <td>0</td>\n",
       "    </tr>\n",
       "    <tr>\n",
       "      <th>1</th>\n",
       "      <td>outlook hello team meetings skype meetings etc...</td>\n",
       "      <td>0</td>\n",
       "    </tr>\n",
       "    <tr>\n",
       "      <th>2</th>\n",
       "      <td>cant log vpn cannot log vpn best</td>\n",
       "      <td>0</td>\n",
       "    </tr>\n",
       "    <tr>\n",
       "      <th>3</th>\n",
       "      <td>unable access tool page unable access tool page</td>\n",
       "      <td>0</td>\n",
       "    </tr>\n",
       "    <tr>\n",
       "      <th>4</th>\n",
       "      <td>skype error skype error</td>\n",
       "      <td>0</td>\n",
       "    </tr>\n",
       "    <tr>\n",
       "      <th>...</th>\n",
       "      <td>...</td>\n",
       "      <td>...</td>\n",
       "    </tr>\n",
       "    <tr>\n",
       "      <th>8449</th>\n",
       "      <td>emails coming mail good afternoon receiving em...</td>\n",
       "      <td>22</td>\n",
       "    </tr>\n",
       "    <tr>\n",
       "      <th>8450</th>\n",
       "      <td>telephony software issue telephony software issue</td>\n",
       "      <td>0</td>\n",
       "    </tr>\n",
       "    <tr>\n",
       "      <th>8451</th>\n",
       "      <td>vip windows password reset tifpdchb pedxruyf v...</td>\n",
       "      <td>0</td>\n",
       "    </tr>\n",
       "    <tr>\n",
       "      <th>8452</th>\n",
       "      <td>machine est funcionando unable access machine ...</td>\n",
       "      <td>44</td>\n",
       "    </tr>\n",
       "    <tr>\n",
       "      <th>8453</th>\n",
       "      <td>mehreren lassen sich verschiedene prgramdntyme...</td>\n",
       "      <td>49</td>\n",
       "    </tr>\n",
       "  </tbody>\n",
       "</table>\n",
       "<p>8454 rows × 2 columns</p>\n",
       "</div>"
      ],
      "text/plain": [
       "                                        Inbound Message  Label\n",
       "0     login issue verified user details employee man...      0\n",
       "1     outlook hello team meetings skype meetings etc...      0\n",
       "2                      cant log vpn cannot log vpn best      0\n",
       "3       unable access tool page unable access tool page      0\n",
       "4                               skype error skype error      0\n",
       "...                                                 ...    ...\n",
       "8449  emails coming mail good afternoon receiving em...     22\n",
       "8450  telephony software issue telephony software issue      0\n",
       "8451  vip windows password reset tifpdchb pedxruyf v...      0\n",
       "8452  machine est funcionando unable access machine ...     44\n",
       "8453  mehreren lassen sich verschiedene prgramdntyme...     49\n",
       "\n",
       "[8454 rows x 2 columns]"
      ]
     },
     "execution_count": 1,
     "metadata": {},
     "output_type": "execute_result"
    }
   ],
   "source": [
    "import pandas as pd\n",
    "data_path = \"../../data/open_source_8454_combine_short_description.csv\"\n",
    "df = pd.read_csv(data_path)\n",
    "# df_label_0 = df[df[\"Label\"] == 0]\n",
    "# df_label_0_to_drop = df_label_0.sample(n=3000, random_state=42)\n",
    "# df = df.drop(df_label_0_to_drop.index)\n",
    "df"
   ]
  },
  {
   "cell_type": "code",
   "execution_count": 2,
   "id": "8a523c41-9917-42ad-9920-021c2d567bf2",
   "metadata": {},
   "outputs": [],
   "source": [
    "import sys\n",
    "import os\n",
    "sys.path.append(os.path.abspath('../ml_lib'))\n",
    "\n",
    "from config import *\n",
    "from experiment import run_kfold_experiment"
   ]
  },
  {
   "cell_type": "code",
   "execution_count": 3,
   "id": "0042fdaa-0d1e-4925-a831-51d69b623c54",
   "metadata": {},
   "outputs": [],
   "source": [
    "messages, labels = df['Inbound Message'].tolist(), df['Label'].tolist()"
   ]
  },
  {
   "cell_type": "code",
   "execution_count": 4,
   "id": "f9a1f7b1-5c13-4312-959c-24cae1a028e8",
   "metadata": {},
   "outputs": [
    {
     "name": "stdout",
     "output_type": "stream",
     "text": [
      "▶ Running: bert-base-uncased + plain + ros\n",
      "tokenizer is bert-base-uncased\n",
      "Using device: cuda\n",
      "CUDA Available: True\n",
      "CUDA Device: NVIDIA GeForce RTX 3050 6GB Laptop GPU\n",
      "Current GPU Memory Allocated: 0.00 GB\n",
      "Current GPU Memory Cached: 0.00 GB\n",
      "\n",
      "[Fold 1]\n",
      "Label distribution after resampling:\n",
      "  label 0: 2000\n",
      "  label 1: 200\n",
      "  label 2: 200\n",
      "  label 3: 200\n",
      "  label 4: 231\n",
      "  label 5: 200\n",
      "  label 6: 200\n",
      "  label 7: 200\n",
      "  label 8: 200\n",
      "  label 9: 200\n",
      "  label 10: 200\n",
      "  label 11: 200\n",
      "  label 12: 217\n",
      "  label 13: 200\n",
      "  label 14: 200\n",
      "  label 15: 200\n",
      "  label 16: 200\n",
      "  label 17: 260\n",
      "  label 18: 200\n",
      "  label 19: 200\n",
      "  label 20: 200\n",
      "  label 21: 200\n",
      "  label 22: 200\n",
      "  label 23: 200\n",
      "  label 24: 200\n",
      "  label 25: 200\n",
      "  label 26: 200\n",
      "  label 27: 200\n",
      "  label 28: 200\n",
      "  label 29: 200\n",
      "  label 30: 200\n",
      "  label 31: 200\n",
      "  label 32: 200\n",
      "  label 33: 200\n",
      "  label 34: 200\n",
      "  label 35: 200\n",
      "  label 36: 200\n",
      "  label 37: 200\n",
      "  label 38: 200\n",
      "  label 39: 200\n",
      "  label 40: 200\n",
      "  label 41: 200\n",
      "  label 42: 200\n",
      "  label 43: 200\n",
      "  label 44: 200\n",
      "  label 45: 200\n",
      "  label 46: 200\n",
      "  label 47: 595\n",
      "  label 48: 227\n",
      "  label 49: 200\n",
      "model is bert-base-uncased\n"
     ]
    },
    {
     "name": "stderr",
     "output_type": "stream",
     "text": [
      "D:\\Anaconda3\\envs\\cuda\\Lib\\site-packages\\sklearn\\model_selection\\_split.py:737: UserWarning: The least populated class in y has only 7 members, which is less than n_splits=10.\n",
      "  warnings.warn(\n",
      "Some weights of BertForSequenceClassification were not initialized from the model checkpoint at bert-base-uncased and are newly initialized: ['classifier.bias', 'classifier.weight']\n",
      "You should probably TRAIN this model on a down-stream task to be able to use it for predictions and inference.\n"
     ]
    },
    {
     "name": "stdout",
     "output_type": "stream",
     "text": [
      "Epoch 1/20\n"
     ]
    },
    {
     "name": "stderr",
     "output_type": "stream",
     "text": [
      "100%|██████████| 771/771 [05:24<00:00,  2.38it/s]\n",
      "D:\\Anaconda3\\envs\\cuda\\Lib\\site-packages\\sklearn\\metrics\\_classification.py:2458: UserWarning: y_pred contains classes not in y_true\n",
      "  warnings.warn(\"y_pred contains classes not in y_true\")\n"
     ]
    },
    {
     "name": "stdout",
     "output_type": "stream",
     "text": [
      "{'val_loss': 1.5016848669861846, 'val_accuracy': 0.6063829787234043, 'precision': 0.6386408591688073, 'recall': 0.6063829787234043, 'f1-score': 0.5922523488406004, 'macro_f1-score': 0.3517226183190387, 'balanced_accuracy': 0.43000650116618766, 'mcc': 0.48211655951515814, 'train_loss': 2.101798060493865}\n",
      "Epoch 2/20\n"
     ]
    },
    {
     "name": "stderr",
     "output_type": "stream",
     "text": [
      "100%|██████████| 771/771 [05:24<00:00,  2.37it/s]\n"
     ]
    },
    {
     "name": "stdout",
     "output_type": "stream",
     "text": [
      "{'val_loss': 1.3838587279589671, 'val_accuracy': 0.6442080378250591, 'precision': 0.6695150488347924, 'recall': 0.6442080378250591, 'f1-score': 0.6450661163918368, 'macro_f1-score': 0.4369624505164145, 'balanced_accuracy': 0.4604867595863038, 'mcc': 0.5374374771492921, 'train_loss': 0.7526106470483132}\n",
      "Epoch 3/20\n"
     ]
    },
    {
     "name": "stderr",
     "output_type": "stream",
     "text": [
      "100%|██████████| 771/771 [05:24<00:00,  2.37it/s]\n"
     ]
    },
    {
     "name": "stdout",
     "output_type": "stream",
     "text": [
      "{'val_loss': 1.5479273897296977, 'val_accuracy': 0.6323877068557919, 'precision': 0.6908518241262126, 'recall': 0.6323877068557919, 'f1-score': 0.6458937190118799, 'macro_f1-score': 0.40796577387095545, 'balanced_accuracy': 0.4505174314556022, 'mcc': 0.5433214764310311, 'train_loss': 0.43373436453702696}\n",
      "Epoch 4/20\n"
     ]
    },
    {
     "name": "stderr",
     "output_type": "stream",
     "text": [
      "100%|██████████| 771/771 [05:25<00:00,  2.37it/s]\n"
     ]
    },
    {
     "name": "stdout",
     "output_type": "stream",
     "text": [
      "{'val_loss': 1.5418608902760271, 'val_accuracy': 0.6702127659574468, 'precision': 0.6928642393887834, 'recall': 0.6702127659574468, 'f1-score': 0.6724781065320276, 'macro_f1-score': 0.4429917076323849, 'balanced_accuracy': 0.4661881528264463, 'mcc': 0.5796627051668871, 'train_loss': 0.31862924261509057}\n",
      "Epoch 5/20\n"
     ]
    },
    {
     "name": "stderr",
     "output_type": "stream",
     "text": [
      "100%|██████████| 771/771 [05:24<00:00,  2.37it/s]\n"
     ]
    },
    {
     "name": "stdout",
     "output_type": "stream",
     "text": [
      "{'val_loss': 1.6860491734630656, 'val_accuracy': 0.6312056737588653, 'precision': 0.6699941650271415, 'recall': 0.6312056737588653, 'f1-score': 0.6305985331936684, 'macro_f1-score': 0.39822294021410237, 'balanced_accuracy': 0.4253852363189513, 'mcc': 0.5304547831567237, 'train_loss': 0.2665282080358259}\n",
      "Epoch 6/20\n"
     ]
    },
    {
     "name": "stderr",
     "output_type": "stream",
     "text": [
      "100%|██████████| 771/771 [05:24<00:00,  2.38it/s]\n"
     ]
    },
    {
     "name": "stdout",
     "output_type": "stream",
     "text": [
      "{'val_loss': 1.6661522866420027, 'val_accuracy': 0.6453900709219859, 'precision': 0.6866269073949355, 'recall': 0.6453900709219859, 'f1-score': 0.6543488242691664, 'macro_f1-score': 0.39354296652039844, 'balanced_accuracy': 0.42549898149422866, 'mcc': 0.5492168964228435, 'train_loss': 0.24785839116029276}\n",
      "Epoch 7/20\n"
     ]
    },
    {
     "name": "stderr",
     "output_type": "stream",
     "text": [
      "100%|██████████| 771/771 [05:24<00:00,  2.38it/s]\n",
      "D:\\Anaconda3\\envs\\cuda\\Lib\\site-packages\\sklearn\\metrics\\_classification.py:2458: UserWarning: y_pred contains classes not in y_true\n",
      "  warnings.warn(\"y_pred contains classes not in y_true\")\n"
     ]
    },
    {
     "name": "stdout",
     "output_type": "stream",
     "text": [
      "{'val_loss': 1.7461301313256317, 'val_accuracy': 0.6595744680851063, 'precision': 0.6724345534018054, 'recall': 0.6595744680851063, 'f1-score': 0.6509680836023154, 'macro_f1-score': 0.3917690092777893, 'balanced_accuracy': 0.4227695145247191, 'mcc': 0.5501014790616162, 'train_loss': 0.23228757862719174}\n",
      "Early stopping.\n",
      "\n",
      "[Fold 2]\n",
      "Label distribution after resampling:\n",
      "  label 0: 2000\n",
      "  label 1: 200\n",
      "  label 2: 200\n",
      "  label 3: 200\n",
      "  label 4: 231\n",
      "  label 5: 200\n",
      "  label 6: 200\n",
      "  label 7: 200\n",
      "  label 8: 200\n",
      "  label 9: 200\n",
      "  label 10: 200\n",
      "  label 11: 200\n",
      "  label 12: 217\n",
      "  label 13: 200\n",
      "  label 14: 200\n",
      "  label 15: 200\n",
      "  label 16: 200\n",
      "  label 17: 260\n",
      "  label 18: 200\n",
      "  label 19: 200\n",
      "  label 20: 200\n",
      "  label 21: 200\n",
      "  label 22: 200\n",
      "  label 23: 200\n",
      "  label 24: 200\n",
      "  label 25: 200\n",
      "  label 26: 200\n",
      "  label 27: 200\n",
      "  label 28: 200\n",
      "  label 29: 200\n",
      "  label 30: 200\n",
      "  label 31: 200\n",
      "  label 32: 200\n",
      "  label 33: 200\n",
      "  label 34: 200\n",
      "  label 35: 200\n",
      "  label 36: 200\n",
      "  label 37: 200\n",
      "  label 38: 200\n",
      "  label 39: 200\n",
      "  label 40: 200\n",
      "  label 41: 200\n",
      "  label 42: 200\n",
      "  label 43: 200\n",
      "  label 44: 200\n",
      "  label 45: 200\n",
      "  label 46: 200\n",
      "  label 47: 595\n",
      "  label 48: 227\n",
      "  label 49: 200\n",
      "model is bert-base-uncased\n"
     ]
    },
    {
     "name": "stderr",
     "output_type": "stream",
     "text": [
      "Some weights of BertForSequenceClassification were not initialized from the model checkpoint at bert-base-uncased and are newly initialized: ['classifier.bias', 'classifier.weight']\n",
      "You should probably TRAIN this model on a down-stream task to be able to use it for predictions and inference.\n"
     ]
    },
    {
     "name": "stdout",
     "output_type": "stream",
     "text": [
      "Epoch 1/20\n"
     ]
    },
    {
     "name": "stderr",
     "output_type": "stream",
     "text": [
      "100%|██████████| 771/771 [05:23<00:00,  2.38it/s]\n"
     ]
    },
    {
     "name": "stdout",
     "output_type": "stream",
     "text": [
      "{'val_loss': 1.345424476097215, 'val_accuracy': 0.6323877068557919, 'precision': 0.630027990682298, 'recall': 0.6323877068557919, 'f1-score': 0.6138333286816791, 'macro_f1-score': 0.3524087803745835, 'balanced_accuracy': 0.4183388358286816, 'mcc': 0.5077823545627804, 'train_loss': 2.143960588637029}\n",
      "Epoch 2/20\n"
     ]
    },
    {
     "name": "stderr",
     "output_type": "stream",
     "text": [
      "100%|██████████| 771/771 [05:23<00:00,  2.38it/s]\n"
     ]
    },
    {
     "name": "stdout",
     "output_type": "stream",
     "text": [
      "{'val_loss': 1.2971362055472608, 'val_accuracy': 0.6631205673758865, 'precision': 0.6618769680814892, 'recall': 0.6631205673758865, 'f1-score': 0.6397111173004607, 'macro_f1-score': 0.3783851031068417, 'balanced_accuracy': 0.4059825982965994, 'mcc': 0.5477749755855182, 'train_loss': 0.7873898816866324}\n",
      "Epoch 3/20\n"
     ]
    },
    {
     "name": "stderr",
     "output_type": "stream",
     "text": [
      "100%|██████████| 771/771 [05:23<00:00,  2.38it/s]\n"
     ]
    },
    {
     "name": "stdout",
     "output_type": "stream",
     "text": [
      "{'val_loss': 1.374310793179386, 'val_accuracy': 0.6536643026004728, 'precision': 0.6604182333218628, 'recall': 0.6536643026004728, 'f1-score': 0.6429583519184501, 'macro_f1-score': 0.40499395714920083, 'balanced_accuracy': 0.4116801724623593, 'mcc': 0.5468604848836797, 'train_loss': 0.42782853777615787}\n",
      "Epoch 4/20\n"
     ]
    },
    {
     "name": "stderr",
     "output_type": "stream",
     "text": [
      "100%|██████████| 771/771 [05:23<00:00,  2.38it/s]\n"
     ]
    },
    {
     "name": "stdout",
     "output_type": "stream",
     "text": [
      "{'val_loss': 1.4494643197307047, 'val_accuracy': 0.6631205673758865, 'precision': 0.6588488953914485, 'recall': 0.6631205673758865, 'f1-score': 0.6392875918340244, 'macro_f1-score': 0.3660042768128568, 'balanced_accuracy': 0.35747124977488864, 'mcc': 0.5446765615309144, 'train_loss': 0.3142992874435916}\n",
      "Epoch 5/20\n"
     ]
    },
    {
     "name": "stderr",
     "output_type": "stream",
     "text": [
      "100%|██████████| 771/771 [05:23<00:00,  2.38it/s]\n"
     ]
    },
    {
     "name": "stdout",
     "output_type": "stream",
     "text": [
      "{'val_loss': 1.453942578918529, 'val_accuracy': 0.6583924349881797, 'precision': 0.6710513375588111, 'recall': 0.6583924349881797, 'f1-score': 0.6470812403997368, 'macro_f1-score': 0.4153023696481037, 'balanced_accuracy': 0.4472278046738105, 'mcc': 0.5563593679088015, 'train_loss': 0.26441360613145176}\n",
      "Epoch 6/20\n"
     ]
    },
    {
     "name": "stderr",
     "output_type": "stream",
     "text": [
      "100%|██████████| 771/771 [05:23<00:00,  2.38it/s]\n"
     ]
    },
    {
     "name": "stdout",
     "output_type": "stream",
     "text": [
      "{'val_loss': 1.5602289595693912, 'val_accuracy': 0.6382978723404256, 'precision': 0.674196068073832, 'recall': 0.6382978723404256, 'f1-score': 0.6412087001177733, 'macro_f1-score': 0.41215593760033536, 'balanced_accuracy': 0.42596603121555465, 'mcc': 0.540962142395092, 'train_loss': 0.23350284042032543}\n",
      "Epoch 7/20\n"
     ]
    },
    {
     "name": "stderr",
     "output_type": "stream",
     "text": [
      "100%|██████████| 771/771 [05:23<00:00,  2.38it/s]\n"
     ]
    },
    {
     "name": "stdout",
     "output_type": "stream",
     "text": [
      "{'val_loss': 1.6480083679253201, 'val_accuracy': 0.6442080378250591, 'precision': 0.645701821493078, 'recall': 0.6442080378250591, 'f1-score': 0.6390500808424432, 'macro_f1-score': 0.3826145717695349, 'balanced_accuracy': 0.4012868350906299, 'mcc': 0.5403653655738764, 'train_loss': 0.23476849815744216}\n",
      "Epoch 8/20\n"
     ]
    },
    {
     "name": "stderr",
     "output_type": "stream",
     "text": [
      "100%|██████████| 771/771 [05:23<00:00,  2.38it/s]\n"
     ]
    },
    {
     "name": "stdout",
     "output_type": "stream",
     "text": [
      "{'val_loss': 1.6639614251424681, 'val_accuracy': 0.6595744680851063, 'precision': 0.6685596806109438, 'recall': 0.6595744680851063, 'f1-score': 0.6505416241157778, 'macro_f1-score': 0.43506207050215084, 'balanced_accuracy': 0.4357286368168884, 'mcc': 0.5586856299532883, 'train_loss': 0.20232707153022503}\n",
      "Epoch 9/20\n"
     ]
    },
    {
     "name": "stderr",
     "output_type": "stream",
     "text": [
      "100%|██████████| 771/771 [05:23<00:00,  2.38it/s]\n"
     ]
    },
    {
     "name": "stdout",
     "output_type": "stream",
     "text": [
      "{'val_loss': 1.7674558983658843, 'val_accuracy': 0.6264775413711584, 'precision': 0.693863093204206, 'recall': 0.6264775413711584, 'f1-score': 0.6406684621847719, 'macro_f1-score': 0.4149705450418137, 'balanced_accuracy': 0.4346489010613946, 'mcc': 0.5324549551964676, 'train_loss': 0.20865643182443275}\n",
      "Epoch 10/20\n"
     ]
    },
    {
     "name": "stderr",
     "output_type": "stream",
     "text": [
      "100%|██████████| 771/771 [05:23<00:00,  2.38it/s]\n"
     ]
    },
    {
     "name": "stdout",
     "output_type": "stream",
     "text": [
      "{'val_loss': 1.8952948040557358, 'val_accuracy': 0.6170212765957447, 'precision': 0.6582746080867602, 'recall': 0.6170212765957447, 'f1-score': 0.6224692331480516, 'macro_f1-score': 0.40665888535220757, 'balanced_accuracy': 0.4423057587130711, 'mcc': 0.5149225928101667, 'train_loss': 0.2013190111438907}\n",
      "Epoch 11/20\n"
     ]
    },
    {
     "name": "stderr",
     "output_type": "stream",
     "text": [
      "100%|██████████| 771/771 [05:23<00:00,  2.38it/s]\n"
     ]
    },
    {
     "name": "stdout",
     "output_type": "stream",
     "text": [
      "{'val_loss': 1.838532660648508, 'val_accuracy': 0.6607565011820331, 'precision': 0.6645579679717827, 'recall': 0.6607565011820331, 'f1-score': 0.6507111857935414, 'macro_f1-score': 0.3942963438406634, 'balanced_accuracy': 0.40414739732436833, 'mcc': 0.5510572143365153, 'train_loss': 0.189047447170509}\n",
      "Early stopping.\n",
      "\n",
      "[Fold 3]\n",
      "Label distribution after resampling:\n",
      "  label 0: 2000\n",
      "  label 1: 200\n",
      "  label 2: 200\n",
      "  label 3: 200\n",
      "  label 4: 231\n",
      "  label 5: 200\n",
      "  label 6: 200\n",
      "  label 7: 200\n",
      "  label 8: 200\n",
      "  label 9: 200\n",
      "  label 10: 200\n",
      "  label 11: 200\n",
      "  label 12: 217\n",
      "  label 13: 200\n",
      "  label 14: 200\n",
      "  label 15: 200\n",
      "  label 16: 200\n",
      "  label 17: 260\n",
      "  label 18: 200\n",
      "  label 19: 200\n",
      "  label 20: 200\n",
      "  label 21: 200\n",
      "  label 22: 200\n",
      "  label 23: 200\n",
      "  label 24: 200\n",
      "  label 25: 200\n",
      "  label 26: 200\n",
      "  label 27: 200\n",
      "  label 28: 200\n",
      "  label 29: 200\n",
      "  label 30: 200\n",
      "  label 31: 200\n",
      "  label 32: 200\n",
      "  label 33: 200\n",
      "  label 34: 200\n",
      "  label 35: 200\n",
      "  label 36: 200\n",
      "  label 37: 200\n",
      "  label 38: 200\n",
      "  label 39: 200\n",
      "  label 40: 200\n",
      "  label 41: 200\n",
      "  label 42: 200\n",
      "  label 43: 200\n",
      "  label 44: 200\n",
      "  label 45: 200\n",
      "  label 46: 200\n",
      "  label 47: 595\n",
      "  label 48: 227\n",
      "  label 49: 200\n",
      "model is bert-base-uncased\n"
     ]
    },
    {
     "name": "stderr",
     "output_type": "stream",
     "text": [
      "Some weights of BertForSequenceClassification were not initialized from the model checkpoint at bert-base-uncased and are newly initialized: ['classifier.bias', 'classifier.weight']\n",
      "You should probably TRAIN this model on a down-stream task to be able to use it for predictions and inference.\n"
     ]
    },
    {
     "name": "stdout",
     "output_type": "stream",
     "text": [
      "Epoch 1/20\n"
     ]
    },
    {
     "name": "stderr",
     "output_type": "stream",
     "text": [
      "100%|██████████| 771/771 [05:23<00:00,  2.38it/s]\n"
     ]
    },
    {
     "name": "stdout",
     "output_type": "stream",
     "text": [
      "{'val_loss': 1.4219031929969788, 'val_accuracy': 0.6323877068557919, 'precision': 0.6496877539932023, 'recall': 0.6323877068557919, 'f1-score': 0.6208728543507236, 'macro_f1-score': 0.37485320651398185, 'balanced_accuracy': 0.4192636055871197, 'mcc': 0.5193976978213595, 'train_loss': 2.140544835772805}\n",
      "Epoch 2/20\n"
     ]
    },
    {
     "name": "stderr",
     "output_type": "stream",
     "text": [
      "100%|██████████| 771/771 [05:23<00:00,  2.38it/s]\n"
     ]
    },
    {
     "name": "stdout",
     "output_type": "stream",
     "text": [
      "{'val_loss': 1.307239297425972, 'val_accuracy': 0.6548463356973995, 'precision': 0.6640436697918424, 'recall': 0.6548463356973995, 'f1-score': 0.6496307053487604, 'macro_f1-score': 0.3986163951068102, 'balanced_accuracy': 0.4492224268097946, 'mcc': 0.5514318358079245, 'train_loss': 0.7825569939423938}\n",
      "Epoch 3/20\n"
     ]
    },
    {
     "name": "stderr",
     "output_type": "stream",
     "text": [
      "100%|██████████| 771/771 [05:23<00:00,  2.38it/s]\n"
     ]
    },
    {
     "name": "stdout",
     "output_type": "stream",
     "text": [
      "{'val_loss': 1.6367626808724314, 'val_accuracy': 0.607565011820331, 'precision': 0.6818268803892282, 'recall': 0.607565011820331, 'f1-score': 0.6266143076688246, 'macro_f1-score': 0.3883652977742508, 'balanced_accuracy': 0.43403572347673886, 'mcc': 0.5202870534202971, 'train_loss': 0.4409373345870607}\n",
      "Epoch 4/20\n"
     ]
    },
    {
     "name": "stderr",
     "output_type": "stream",
     "text": [
      "100%|██████████| 771/771 [05:24<00:00,  2.38it/s]\n"
     ]
    },
    {
     "name": "stdout",
     "output_type": "stream",
     "text": [
      "{'val_loss': 1.4881156919137486, 'val_accuracy': 0.6643026004728132, 'precision': 0.6756536057484567, 'recall': 0.6643026004728132, 'f1-score': 0.6550834575931676, 'macro_f1-score': 0.41904530107830185, 'balanced_accuracy': 0.45360056279999095, 'mcc': 0.5640263292542683, 'train_loss': 0.3273577858197434}\n",
      "Epoch 5/20\n"
     ]
    },
    {
     "name": "stderr",
     "output_type": "stream",
     "text": [
      "100%|██████████| 771/771 [05:24<00:00,  2.37it/s]\n"
     ]
    },
    {
     "name": "stdout",
     "output_type": "stream",
     "text": [
      "{'val_loss': 1.6087611070219077, 'val_accuracy': 0.6513002364066194, 'precision': 0.6829167835631891, 'recall': 0.6513002364066194, 'f1-score': 0.6566445791706896, 'macro_f1-score': 0.42554677908692945, 'balanced_accuracy': 0.47242295771384313, 'mcc': 0.5584180383534371, 'train_loss': 0.2616314650446795}\n",
      "Epoch 6/20\n"
     ]
    },
    {
     "name": "stderr",
     "output_type": "stream",
     "text": [
      "100%|██████████| 771/771 [05:25<00:00,  2.37it/s]\n"
     ]
    },
    {
     "name": "stdout",
     "output_type": "stream",
     "text": [
      "{'val_loss': 1.6831222435213484, 'val_accuracy': 0.6773049645390071, 'precision': 0.6642213598691632, 'recall': 0.6773049645390071, 'f1-score': 0.6585486208063068, 'macro_f1-score': 0.39092971314237923, 'balanced_accuracy': 0.40630409320170197, 'mcc': 0.5694849496804553, 'train_loss': 0.2414311633050326}\n",
      "Epoch 7/20\n"
     ]
    },
    {
     "name": "stderr",
     "output_type": "stream",
     "text": [
      "100%|██████████| 771/771 [05:24<00:00,  2.37it/s]\n"
     ]
    },
    {
     "name": "stdout",
     "output_type": "stream",
     "text": [
      "{'val_loss': 1.7094937034373014, 'val_accuracy': 0.6465721040189125, 'precision': 0.6612117875120241, 'recall': 0.6465721040189125, 'f1-score': 0.6409846222615079, 'macro_f1-score': 0.38234010525137535, 'balanced_accuracy': 0.4121126591827857, 'mcc': 0.5407529720928732, 'train_loss': 0.23020061372505107}\n",
      "Epoch 8/20\n"
     ]
    },
    {
     "name": "stderr",
     "output_type": "stream",
     "text": [
      "100%|██████████| 771/771 [05:24<00:00,  2.37it/s]\n"
     ]
    },
    {
     "name": "stdout",
     "output_type": "stream",
     "text": [
      "{'val_loss': 1.6781420550256405, 'val_accuracy': 0.6666666666666666, 'precision': 0.6867395964000391, 'recall': 0.6666666666666666, 'f1-score': 0.6670786103092876, 'macro_f1-score': 0.4313368163599955, 'balanced_accuracy': 0.4685784700176313, 'mcc': 0.5766472581889903, 'train_loss': 0.22857373473675374}\n",
      "Epoch 9/20\n"
     ]
    },
    {
     "name": "stderr",
     "output_type": "stream",
     "text": [
      "100%|██████████| 771/771 [05:25<00:00,  2.37it/s]\n"
     ]
    },
    {
     "name": "stdout",
     "output_type": "stream",
     "text": [
      "{'val_loss': 1.7891626706663168, 'val_accuracy': 0.6678486997635934, 'precision': 0.6698497408160529, 'recall': 0.6678486997635934, 'f1-score': 0.6592644174949732, 'macro_f1-score': 0.4173235298950114, 'balanced_accuracy': 0.44434951027908925, 'mcc': 0.5605939302332102, 'train_loss': 0.2010710493398132}\n",
      "Epoch 10/20\n"
     ]
    },
    {
     "name": "stderr",
     "output_type": "stream",
     "text": [
      "100%|██████████| 771/771 [05:25<00:00,  2.37it/s]\n"
     ]
    },
    {
     "name": "stdout",
     "output_type": "stream",
     "text": [
      "{'val_loss': 1.958776758526856, 'val_accuracy': 0.6442080378250591, 'precision': 0.6521205021994029, 'recall': 0.6442080378250591, 'f1-score': 0.637561985007059, 'macro_f1-score': 0.40336508985180386, 'balanced_accuracy': 0.450002336164769, 'mcc': 0.5427048092703252, 'train_loss': 0.2047863997746713}\n",
      "Epoch 11/20\n"
     ]
    },
    {
     "name": "stderr",
     "output_type": "stream",
     "text": [
      "100%|██████████| 771/771 [05:25<00:00,  2.37it/s]\n"
     ]
    },
    {
     "name": "stdout",
     "output_type": "stream",
     "text": [
      "{'val_loss': 1.973690393960701, 'val_accuracy': 0.6453900709219859, 'precision': 0.6872027540706593, 'recall': 0.6453900709219859, 'f1-score': 0.6516505241480297, 'macro_f1-score': 0.40318580239362234, 'balanced_accuracy': 0.45531978180467175, 'mcc': 0.5537160189392749, 'train_loss': 0.20616126457354883}\n",
      "Early stopping.\n",
      "\n",
      "[Fold 4]\n",
      "Label distribution after resampling:\n",
      "  label 0: 2000\n",
      "  label 1: 200\n",
      "  label 2: 200\n",
      "  label 3: 200\n",
      "  label 4: 231\n",
      "  label 5: 200\n",
      "  label 6: 200\n",
      "  label 7: 200\n",
      "  label 8: 200\n",
      "  label 9: 200\n",
      "  label 10: 200\n",
      "  label 11: 200\n",
      "  label 12: 217\n",
      "  label 13: 200\n",
      "  label 14: 200\n",
      "  label 15: 200\n",
      "  label 16: 200\n",
      "  label 17: 260\n",
      "  label 18: 200\n",
      "  label 19: 200\n",
      "  label 20: 200\n",
      "  label 21: 200\n",
      "  label 22: 200\n",
      "  label 23: 200\n",
      "  label 24: 200\n",
      "  label 25: 200\n",
      "  label 26: 200\n",
      "  label 27: 200\n",
      "  label 28: 200\n",
      "  label 29: 200\n",
      "  label 30: 200\n",
      "  label 31: 200\n",
      "  label 32: 200\n",
      "  label 33: 200\n",
      "  label 34: 200\n",
      "  label 35: 200\n",
      "  label 36: 200\n",
      "  label 37: 200\n",
      "  label 38: 200\n",
      "  label 39: 200\n",
      "  label 40: 200\n",
      "  label 41: 200\n",
      "  label 42: 200\n",
      "  label 43: 200\n",
      "  label 44: 200\n",
      "  label 45: 200\n",
      "  label 46: 200\n",
      "  label 47: 595\n",
      "  label 48: 227\n",
      "  label 49: 200\n",
      "model is bert-base-uncased\n"
     ]
    },
    {
     "name": "stderr",
     "output_type": "stream",
     "text": [
      "Some weights of BertForSequenceClassification were not initialized from the model checkpoint at bert-base-uncased and are newly initialized: ['classifier.bias', 'classifier.weight']\n",
      "You should probably TRAIN this model on a down-stream task to be able to use it for predictions and inference.\n"
     ]
    },
    {
     "name": "stdout",
     "output_type": "stream",
     "text": [
      "Epoch 1/20\n"
     ]
    },
    {
     "name": "stderr",
     "output_type": "stream",
     "text": [
      "100%|██████████| 771/771 [05:24<00:00,  2.38it/s]\n"
     ]
    },
    {
     "name": "stdout",
     "output_type": "stream",
     "text": [
      "{'val_loss': 1.4737822255998287, 'val_accuracy': 0.5886524822695035, 'precision': 0.6022418807240278, 'recall': 0.5886524822695035, 'f1-score': 0.581526900305503, 'macro_f1-score': 0.33542073125345256, 'balanced_accuracy': 0.41051221479188904, 'mcc': 0.469200034892066, 'train_loss': 2.1824206653813287}\n",
      "Epoch 2/20\n"
     ]
    },
    {
     "name": "stderr",
     "output_type": "stream",
     "text": [
      "100%|██████████| 771/771 [05:23<00:00,  2.38it/s]\n"
     ]
    },
    {
     "name": "stdout",
     "output_type": "stream",
     "text": [
      "{'val_loss': 1.3350660980872389, 'val_accuracy': 0.6465721040189125, 'precision': 0.6747222431632817, 'recall': 0.6465721040189125, 'f1-score': 0.638102832394418, 'macro_f1-score': 0.39750099851253473, 'balanced_accuracy': 0.41019435975757235, 'mcc': 0.5359519872071237, 'train_loss': 0.797748039301422}\n",
      "Epoch 3/20\n"
     ]
    },
    {
     "name": "stderr",
     "output_type": "stream",
     "text": [
      "100%|██████████| 771/771 [05:23<00:00,  2.38it/s]\n"
     ]
    },
    {
     "name": "stdout",
     "output_type": "stream",
     "text": [
      "{'val_loss': 1.318044771563332, 'val_accuracy': 0.6761229314420804, 'precision': 0.6792093509743492, 'recall': 0.6761229314420804, 'f1-score': 0.6612174294497961, 'macro_f1-score': 0.44338396773292127, 'balanced_accuracy': 0.4292491594468028, 'mcc': 0.5687683620197403, 'train_loss': 0.45404830863928825}\n",
      "Epoch 4/20\n"
     ]
    },
    {
     "name": "stderr",
     "output_type": "stream",
     "text": [
      "100%|██████████| 771/771 [05:23<00:00,  2.38it/s]\n"
     ]
    },
    {
     "name": "stdout",
     "output_type": "stream",
     "text": [
      "{'val_loss': 1.4218655043053177, 'val_accuracy': 0.6773049645390071, 'precision': 0.6737584522233041, 'recall': 0.6773049645390071, 'f1-score': 0.662889085578754, 'macro_f1-score': 0.42649672541416805, 'balanced_accuracy': 0.41998740669023116, 'mcc': 0.5694858926772264, 'train_loss': 0.332462930463583}\n",
      "Epoch 5/20\n"
     ]
    },
    {
     "name": "stderr",
     "output_type": "stream",
     "text": [
      "100%|██████████| 771/771 [05:23<00:00,  2.38it/s]\n"
     ]
    },
    {
     "name": "stdout",
     "output_type": "stream",
     "text": [
      "{'val_loss': 1.5511458842259533, 'val_accuracy': 0.6607565011820331, 'precision': 0.6657881479064207, 'recall': 0.6607565011820331, 'f1-score': 0.6470064367517361, 'macro_f1-score': 0.39406292278251803, 'balanced_accuracy': 0.4199480279784907, 'mcc': 0.5587690485778986, 'train_loss': 0.27778456201378243}\n",
      "Epoch 6/20\n"
     ]
    },
    {
     "name": "stderr",
     "output_type": "stream",
     "text": [
      "100%|██████████| 771/771 [05:23<00:00,  2.38it/s]\n"
     ]
    },
    {
     "name": "stdout",
     "output_type": "stream",
     "text": [
      "{'val_loss': 1.5236887436992717, 'val_accuracy': 0.6749408983451537, 'precision': 0.6779933496789595, 'recall': 0.6749408983451537, 'f1-score': 0.6643057980176044, 'macro_f1-score': 0.4312680046928055, 'balanced_accuracy': 0.4387793283287305, 'mcc': 0.573392827158135, 'train_loss': 0.25390526827306387}\n",
      "Early stopping.\n",
      "\n",
      "[Fold 5]\n",
      "Label distribution after resampling:\n",
      "  label 0: 2000\n",
      "  label 1: 200\n",
      "  label 2: 200\n",
      "  label 3: 200\n",
      "  label 4: 231\n",
      "  label 5: 200\n",
      "  label 6: 200\n",
      "  label 7: 200\n",
      "  label 8: 200\n",
      "  label 9: 200\n",
      "  label 10: 200\n",
      "  label 11: 200\n",
      "  label 12: 217\n",
      "  label 13: 200\n",
      "  label 14: 200\n",
      "  label 15: 200\n",
      "  label 16: 200\n",
      "  label 17: 260\n",
      "  label 18: 200\n",
      "  label 19: 200\n",
      "  label 20: 200\n",
      "  label 21: 200\n",
      "  label 22: 200\n",
      "  label 23: 200\n",
      "  label 24: 200\n",
      "  label 25: 200\n",
      "  label 26: 200\n",
      "  label 27: 200\n",
      "  label 28: 200\n",
      "  label 29: 200\n",
      "  label 30: 200\n",
      "  label 31: 200\n",
      "  label 32: 200\n",
      "  label 33: 200\n",
      "  label 34: 200\n",
      "  label 35: 200\n",
      "  label 36: 200\n",
      "  label 37: 200\n",
      "  label 38: 200\n",
      "  label 39: 200\n",
      "  label 40: 200\n",
      "  label 41: 200\n",
      "  label 42: 200\n",
      "  label 43: 200\n",
      "  label 44: 200\n",
      "  label 45: 200\n",
      "  label 46: 200\n",
      "  label 47: 595\n",
      "  label 48: 227\n",
      "  label 49: 200\n",
      "model is bert-base-uncased\n"
     ]
    },
    {
     "name": "stderr",
     "output_type": "stream",
     "text": [
      "Some weights of BertForSequenceClassification were not initialized from the model checkpoint at bert-base-uncased and are newly initialized: ['classifier.bias', 'classifier.weight']\n",
      "You should probably TRAIN this model on a down-stream task to be able to use it for predictions and inference.\n"
     ]
    },
    {
     "name": "stdout",
     "output_type": "stream",
     "text": [
      "Epoch 1/20\n"
     ]
    },
    {
     "name": "stderr",
     "output_type": "stream",
     "text": [
      "100%|██████████| 771/771 [05:23<00:00,  2.38it/s]\n"
     ]
    },
    {
     "name": "stdout",
     "output_type": "stream",
     "text": [
      "{'val_loss': 1.4457508021930479, 'val_accuracy': 0.6165680473372781, 'precision': 0.6615698452656603, 'recall': 0.6165680473372781, 'f1-score': 0.5970873377803171, 'macro_f1-score': 0.33779283670153826, 'balanced_accuracy': 0.43990174235988305, 'mcc': 0.5091470945897064, 'train_loss': 2.1775050177184525}\n",
      "Epoch 2/20\n"
     ]
    },
    {
     "name": "stderr",
     "output_type": "stream",
     "text": [
      "100%|██████████| 771/771 [05:23<00:00,  2.38it/s]\n"
     ]
    },
    {
     "name": "stdout",
     "output_type": "stream",
     "text": [
      "{'val_loss': 1.32649457285989, 'val_accuracy': 0.6532544378698225, 'precision': 0.6840936938963149, 'recall': 0.6532544378698225, 'f1-score': 0.6455719077385873, 'macro_f1-score': 0.3864532191218581, 'balanced_accuracy': 0.4238854136649256, 'mcc': 0.5450343831563301, 'train_loss': 0.7674891965514491}\n",
      "Epoch 3/20\n"
     ]
    },
    {
     "name": "stderr",
     "output_type": "stream",
     "text": [
      "100%|██████████| 771/771 [05:23<00:00,  2.38it/s]\n"
     ]
    },
    {
     "name": "stdout",
     "output_type": "stream",
     "text": [
      "{'val_loss': 1.415343870812992, 'val_accuracy': 0.6674556213017752, 'precision': 0.6705790415810325, 'recall': 0.6674556213017752, 'f1-score': 0.6472264768677737, 'macro_f1-score': 0.4015546152974665, 'balanced_accuracy': 0.40776249039114676, 'mcc': 0.5553312786870859, 'train_loss': 0.4260663278884074}\n",
      "Epoch 4/20\n"
     ]
    },
    {
     "name": "stderr",
     "output_type": "stream",
     "text": [
      "100%|██████████| 771/771 [05:23<00:00,  2.38it/s]\n"
     ]
    },
    {
     "name": "stdout",
     "output_type": "stream",
     "text": [
      "{'val_loss': 1.527428539294117, 'val_accuracy': 0.6437869822485207, 'precision': 0.6732563528105673, 'recall': 0.6437869822485207, 'f1-score': 0.6388113966927575, 'macro_f1-score': 0.37997531542541607, 'balanced_accuracy': 0.3950261850874481, 'mcc': 0.5419196689278291, 'train_loss': 0.31210619120118144}\n",
      "Epoch 5/20\n"
     ]
    },
    {
     "name": "stderr",
     "output_type": "stream",
     "text": [
      "100%|██████████| 771/771 [05:23<00:00,  2.38it/s]\n"
     ]
    },
    {
     "name": "stdout",
     "output_type": "stream",
     "text": [
      "{'val_loss': 1.6662446867744878, 'val_accuracy': 0.6343195266272189, 'precision': 0.6393778100490133, 'recall': 0.6343195266272189, 'f1-score': 0.6230379729015086, 'macro_f1-score': 0.36909647542355273, 'balanced_accuracy': 0.37625124796847786, 'mcc': 0.5192858651666378, 'train_loss': 0.2531229226442897}\n",
      "Epoch 6/20\n"
     ]
    },
    {
     "name": "stderr",
     "output_type": "stream",
     "text": [
      "100%|██████████| 771/771 [05:23<00:00,  2.38it/s]\n"
     ]
    },
    {
     "name": "stdout",
     "output_type": "stream",
     "text": [
      "{'val_loss': 1.6983063140848897, 'val_accuracy': 0.650887573964497, 'precision': 0.6654590648139487, 'recall': 0.650887573964497, 'f1-score': 0.6255657358629866, 'macro_f1-score': 0.37721832006305817, 'balanced_accuracy': 0.37038994883559473, 'mcc': 0.5307118122553117, 'train_loss': 0.25312840534028647}\n",
      "Early stopping.\n",
      "\n",
      "[Fold 6]\n",
      "Label distribution after resampling:\n",
      "  label 0: 2000\n",
      "  label 1: 200\n",
      "  label 2: 200\n",
      "  label 3: 200\n",
      "  label 4: 231\n",
      "  label 5: 200\n",
      "  label 6: 200\n",
      "  label 7: 200\n",
      "  label 8: 200\n",
      "  label 9: 200\n",
      "  label 10: 200\n",
      "  label 11: 200\n",
      "  label 12: 217\n",
      "  label 13: 200\n",
      "  label 14: 200\n",
      "  label 15: 200\n",
      "  label 16: 200\n",
      "  label 17: 260\n",
      "  label 18: 200\n",
      "  label 19: 200\n",
      "  label 20: 200\n",
      "  label 21: 200\n",
      "  label 22: 200\n",
      "  label 23: 200\n",
      "  label 24: 200\n",
      "  label 25: 200\n",
      "  label 26: 200\n",
      "  label 27: 200\n",
      "  label 28: 200\n",
      "  label 29: 200\n",
      "  label 30: 200\n",
      "  label 31: 200\n",
      "  label 32: 200\n",
      "  label 33: 200\n",
      "  label 34: 200\n",
      "  label 35: 200\n",
      "  label 36: 200\n",
      "  label 37: 200\n",
      "  label 38: 200\n",
      "  label 39: 200\n",
      "  label 40: 200\n",
      "  label 41: 200\n",
      "  label 42: 200\n",
      "  label 43: 200\n",
      "  label 44: 200\n",
      "  label 45: 200\n",
      "  label 46: 200\n",
      "  label 47: 595\n",
      "  label 48: 227\n",
      "  label 49: 200\n",
      "model is bert-base-uncased\n"
     ]
    },
    {
     "name": "stderr",
     "output_type": "stream",
     "text": [
      "Some weights of BertForSequenceClassification were not initialized from the model checkpoint at bert-base-uncased and are newly initialized: ['classifier.bias', 'classifier.weight']\n",
      "You should probably TRAIN this model on a down-stream task to be able to use it for predictions and inference.\n"
     ]
    },
    {
     "name": "stdout",
     "output_type": "stream",
     "text": [
      "Epoch 1/20\n"
     ]
    },
    {
     "name": "stderr",
     "output_type": "stream",
     "text": [
      "100%|██████████| 771/771 [05:23<00:00,  2.38it/s]\n"
     ]
    },
    {
     "name": "stdout",
     "output_type": "stream",
     "text": [
      "{'val_loss': 1.441453678428002, 'val_accuracy': 0.6201183431952663, 'precision': 0.6627273984393899, 'recall': 0.6201183431952663, 'f1-score': 0.5974068767447, 'macro_f1-score': 0.3485173244244152, 'balanced_accuracy': 0.39277658936034404, 'mcc': 0.4894610543064054, 'train_loss': 2.154334246957658}\n",
      "Epoch 2/20\n"
     ]
    },
    {
     "name": "stderr",
     "output_type": "stream",
     "text": [
      "100%|██████████| 771/771 [05:24<00:00,  2.38it/s]\n"
     ]
    },
    {
     "name": "stdout",
     "output_type": "stream",
     "text": [
      "{'val_loss': 1.3701828330192927, 'val_accuracy': 0.6295857988165681, 'precision': 0.6770564123068884, 'recall': 0.6295857988165681, 'f1-score': 0.6351604393645757, 'macro_f1-score': 0.38162859160367985, 'balanced_accuracy': 0.4450992758580739, 'mcc': 0.5356736894853206, 'train_loss': 0.7681353262658249}\n",
      "Epoch 3/20\n"
     ]
    },
    {
     "name": "stderr",
     "output_type": "stream",
     "text": [
      "100%|██████████| 771/771 [05:23<00:00,  2.38it/s]\n"
     ]
    },
    {
     "name": "stdout",
     "output_type": "stream",
     "text": [
      "{'val_loss': 1.34442999958992, 'val_accuracy': 0.6792899408284023, 'precision': 0.6788826235922163, 'recall': 0.6792899408284023, 'f1-score': 0.6678303138988071, 'macro_f1-score': 0.40727875191017454, 'balanced_accuracy': 0.41540824191831244, 'mcc': 0.5738132681834832, 'train_loss': 0.4202192444185184}\n",
      "Epoch 4/20\n"
     ]
    },
    {
     "name": "stderr",
     "output_type": "stream",
     "text": [
      "100%|██████████| 771/771 [05:24<00:00,  2.38it/s]\n"
     ]
    },
    {
     "name": "stdout",
     "output_type": "stream",
     "text": [
      "{'val_loss': 1.4453130701802812, 'val_accuracy': 0.6556213017751479, 'precision': 0.6782583915092252, 'recall': 0.6556213017751479, 'f1-score': 0.6451096943614251, 'macro_f1-score': 0.36819179709897604, 'balanced_accuracy': 0.38594180768277375, 'mcc': 0.5495789341395166, 'train_loss': 0.3033850752179609}\n",
      "Epoch 5/20\n"
     ]
    },
    {
     "name": "stderr",
     "output_type": "stream",
     "text": [
      "100%|██████████| 771/771 [05:24<00:00,  2.38it/s]\n"
     ]
    },
    {
     "name": "stdout",
     "output_type": "stream",
     "text": [
      "{'val_loss': 1.586287258930926, 'val_accuracy': 0.659171597633136, 'precision': 0.6695244726483635, 'recall': 0.659171597633136, 'f1-score': 0.6545797959948246, 'macro_f1-score': 0.3978471352919632, 'balanced_accuracy': 0.43088187406828626, 'mcc': 0.5572006718486928, 'train_loss': 0.2604134257800694}\n",
      "Epoch 6/20\n"
     ]
    },
    {
     "name": "stderr",
     "output_type": "stream",
     "text": [
      "100%|██████████| 771/771 [05:24<00:00,  2.38it/s]\n"
     ]
    },
    {
     "name": "stdout",
     "output_type": "stream",
     "text": [
      "{'val_loss': 1.7074077601702708, 'val_accuracy': 0.6378698224852071, 'precision': 0.6669391929508812, 'recall': 0.6378698224852071, 'f1-score': 0.636539444927487, 'macro_f1-score': 0.3520070870014936, 'balanced_accuracy': 0.3904249373155255, 'mcc': 0.53178516879676, 'train_loss': 0.2428537003633152}\n",
      "Early stopping.\n",
      "\n",
      "[Fold 7]\n",
      "Label distribution after resampling:\n",
      "  label 0: 2000\n",
      "  label 1: 200\n",
      "  label 2: 200\n",
      "  label 3: 200\n",
      "  label 4: 232\n",
      "  label 5: 200\n",
      "  label 6: 200\n",
      "  label 7: 200\n",
      "  label 8: 200\n",
      "  label 9: 200\n",
      "  label 10: 200\n",
      "  label 11: 200\n",
      "  label 12: 217\n",
      "  label 13: 200\n",
      "  label 14: 200\n",
      "  label 15: 200\n",
      "  label 16: 200\n",
      "  label 17: 260\n",
      "  label 18: 200\n",
      "  label 19: 200\n",
      "  label 20: 200\n",
      "  label 21: 200\n",
      "  label 22: 200\n",
      "  label 23: 200\n",
      "  label 24: 200\n",
      "  label 25: 200\n",
      "  label 26: 200\n",
      "  label 27: 200\n",
      "  label 28: 200\n",
      "  label 29: 200\n",
      "  label 30: 200\n",
      "  label 31: 200\n",
      "  label 32: 200\n",
      "  label 33: 200\n",
      "  label 34: 200\n",
      "  label 35: 200\n",
      "  label 36: 200\n",
      "  label 37: 200\n",
      "  label 38: 200\n",
      "  label 39: 200\n",
      "  label 40: 200\n",
      "  label 41: 200\n",
      "  label 42: 200\n",
      "  label 43: 200\n",
      "  label 44: 200\n",
      "  label 45: 200\n",
      "  label 46: 200\n",
      "  label 47: 594\n",
      "  label 48: 227\n",
      "  label 49: 200\n",
      "model is bert-base-uncased\n"
     ]
    },
    {
     "name": "stderr",
     "output_type": "stream",
     "text": [
      "Some weights of BertForSequenceClassification were not initialized from the model checkpoint at bert-base-uncased and are newly initialized: ['classifier.bias', 'classifier.weight']\n",
      "You should probably TRAIN this model on a down-stream task to be able to use it for predictions and inference.\n"
     ]
    },
    {
     "name": "stdout",
     "output_type": "stream",
     "text": [
      "Epoch 1/20\n"
     ]
    },
    {
     "name": "stderr",
     "output_type": "stream",
     "text": [
      "100%|██████████| 771/771 [05:23<00:00,  2.38it/s]\n"
     ]
    },
    {
     "name": "stdout",
     "output_type": "stream",
     "text": [
      "{'val_loss': 1.4664439244090386, 'val_accuracy': 0.6224852071005917, 'precision': 0.637890626641156, 'recall': 0.6224852071005917, 'f1-score': 0.6136934729757513, 'macro_f1-score': 0.41170585509782925, 'balanced_accuracy': 0.4715779005929121, 'mcc': 0.5148545903812809, 'train_loss': 2.0759946635879585}\n",
      "Epoch 2/20\n"
     ]
    },
    {
     "name": "stderr",
     "output_type": "stream",
     "text": [
      "100%|██████████| 771/771 [05:23<00:00,  2.38it/s]\n"
     ]
    },
    {
     "name": "stdout",
     "output_type": "stream",
     "text": [
      "{'val_loss': 1.2483786591943704, 'val_accuracy': 0.6627218934911243, 'precision': 0.7016092097073252, 'recall': 0.6627218934911243, 'f1-score': 0.6602406575772377, 'macro_f1-score': 0.4836889267492197, 'balanced_accuracy': 0.519990103414926, 'mcc': 0.5716682214519698, 'train_loss': 0.7358427176834235}\n",
      "Epoch 3/20\n"
     ]
    },
    {
     "name": "stderr",
     "output_type": "stream",
     "text": [
      "100%|██████████| 771/771 [05:23<00:00,  2.38it/s]\n"
     ]
    },
    {
     "name": "stdout",
     "output_type": "stream",
     "text": [
      "{'val_loss': 1.3083140343989965, 'val_accuracy': 0.6674556213017752, 'precision': 0.679528704630881, 'recall': 0.6674556213017752, 'f1-score': 0.6601387149171675, 'macro_f1-score': 0.4183908311414509, 'balanced_accuracy': 0.4652907588763584, 'mcc': 0.573826232648411, 'train_loss': 0.4240084173575759}\n",
      "Epoch 4/20\n"
     ]
    },
    {
     "name": "stderr",
     "output_type": "stream",
     "text": [
      "100%|██████████| 771/771 [05:24<00:00,  2.38it/s]\n"
     ]
    },
    {
     "name": "stdout",
     "output_type": "stream",
     "text": [
      "{'val_loss': 1.4123662563989747, 'val_accuracy': 0.6686390532544378, 'precision': 0.7007643938446607, 'recall': 0.6686390532544378, 'f1-score': 0.6714050603154964, 'macro_f1-score': 0.47860871957695417, 'balanced_accuracy': 0.5275062160244519, 'mcc': 0.5804899423873036, 'train_loss': 0.30625957325849823}\n",
      "Epoch 5/20\n"
     ]
    },
    {
     "name": "stderr",
     "output_type": "stream",
     "text": [
      "100%|██████████| 771/771 [05:23<00:00,  2.38it/s]\n"
     ]
    },
    {
     "name": "stdout",
     "output_type": "stream",
     "text": [
      "{'val_loss': 1.5298789317877788, 'val_accuracy': 0.6449704142011834, 'precision': 0.6850812261136999, 'recall': 0.6449704142011834, 'f1-score': 0.6468458733321953, 'macro_f1-score': 0.4437301539663129, 'balanced_accuracy': 0.4725046798492766, 'mcc': 0.5478095475732379, 'train_loss': 0.2543325255686555}\n",
      "Early stopping.\n",
      "\n",
      "[Fold 8]\n",
      "Label distribution after resampling:\n",
      "  label 0: 2000\n",
      "  label 1: 200\n",
      "  label 2: 200\n",
      "  label 3: 200\n",
      "  label 4: 232\n",
      "  label 5: 200\n",
      "  label 6: 200\n",
      "  label 7: 200\n",
      "  label 8: 200\n",
      "  label 9: 200\n",
      "  label 10: 200\n",
      "  label 11: 200\n",
      "  label 12: 216\n",
      "  label 13: 200\n",
      "  label 14: 200\n",
      "  label 15: 200\n",
      "  label 16: 200\n",
      "  label 17: 260\n",
      "  label 18: 200\n",
      "  label 19: 200\n",
      "  label 20: 200\n",
      "  label 21: 200\n",
      "  label 22: 200\n",
      "  label 23: 200\n",
      "  label 24: 200\n",
      "  label 25: 200\n",
      "  label 26: 200\n",
      "  label 27: 200\n",
      "  label 28: 200\n",
      "  label 29: 200\n",
      "  label 30: 200\n",
      "  label 31: 200\n",
      "  label 32: 200\n",
      "  label 33: 200\n",
      "  label 34: 200\n",
      "  label 35: 200\n",
      "  label 36: 200\n",
      "  label 37: 200\n",
      "  label 38: 200\n",
      "  label 39: 200\n",
      "  label 40: 200\n",
      "  label 41: 200\n",
      "  label 42: 200\n",
      "  label 43: 200\n",
      "  label 44: 200\n",
      "  label 45: 200\n",
      "  label 46: 200\n",
      "  label 47: 595\n",
      "  label 48: 226\n",
      "  label 49: 200\n",
      "model is bert-base-uncased\n"
     ]
    },
    {
     "name": "stderr",
     "output_type": "stream",
     "text": [
      "Some weights of BertForSequenceClassification were not initialized from the model checkpoint at bert-base-uncased and are newly initialized: ['classifier.bias', 'classifier.weight']\n",
      "You should probably TRAIN this model on a down-stream task to be able to use it for predictions and inference.\n"
     ]
    },
    {
     "name": "stdout",
     "output_type": "stream",
     "text": [
      "Epoch 1/20\n"
     ]
    },
    {
     "name": "stderr",
     "output_type": "stream",
     "text": [
      "100%|██████████| 771/771 [05:23<00:00,  2.38it/s]\n"
     ]
    },
    {
     "name": "stdout",
     "output_type": "stream",
     "text": [
      "{'val_loss': 1.3926171413007773, 'val_accuracy': 0.6035502958579881, 'precision': 0.6042371070062645, 'recall': 0.6035502958579881, 'f1-score': 0.5810733898459755, 'macro_f1-score': 0.3273443779197492, 'balanced_accuracy': 0.3916444634445242, 'mcc': 0.47987611811066855, 'train_loss': 2.206743187941466}\n",
      "Epoch 2/20\n"
     ]
    },
    {
     "name": "stderr",
     "output_type": "stream",
     "text": [
      "100%|██████████| 771/771 [05:24<00:00,  2.38it/s]\n"
     ]
    },
    {
     "name": "stdout",
     "output_type": "stream",
     "text": [
      "{'val_loss': 1.3055947659150609, 'val_accuracy': 0.6532544378698225, 'precision': 0.6838989876001712, 'recall': 0.6532544378698225, 'f1-score': 0.6492982125148143, 'macro_f1-score': 0.39107833142282994, 'balanced_accuracy': 0.409669695666449, 'mcc': 0.5470964481018596, 'train_loss': 0.8127911838421408}\n",
      "Epoch 3/20\n"
     ]
    },
    {
     "name": "stderr",
     "output_type": "stream",
     "text": [
      "100%|██████████| 771/771 [05:24<00:00,  2.38it/s]\n"
     ]
    },
    {
     "name": "stdout",
     "output_type": "stream",
     "text": [
      "{'val_loss': 1.3228060158918489, 'val_accuracy': 0.6556213017751479, 'precision': 0.6943099327842605, 'recall': 0.6556213017751479, 'f1-score': 0.657443212761889, 'macro_f1-score': 0.42451506270192607, 'balanced_accuracy': 0.44030838524590477, 'mcc': 0.5548716880381064, 'train_loss': 0.45993884809885355}\n",
      "Epoch 4/20\n"
     ]
    },
    {
     "name": "stderr",
     "output_type": "stream",
     "text": [
      "100%|██████████| 771/771 [05:24<00:00,  2.38it/s]\n"
     ]
    },
    {
     "name": "stdout",
     "output_type": "stream",
     "text": [
      "{'val_loss': 1.5015289524816118, 'val_accuracy': 0.6544378698224852, 'precision': 0.6866967518684427, 'recall': 0.6544378698224852, 'f1-score': 0.6592154433183784, 'macro_f1-score': 0.42760239329287125, 'balanced_accuracy': 0.45940444963242993, 'mcc': 0.5607501591573895, 'train_loss': 0.33038714214502296}\n",
      "Epoch 5/20\n"
     ]
    },
    {
     "name": "stderr",
     "output_type": "stream",
     "text": [
      "100%|██████████| 771/771 [05:24<00:00,  2.38it/s]\n"
     ]
    },
    {
     "name": "stdout",
     "output_type": "stream",
     "text": [
      "{'val_loss': 1.5166582960002828, 'val_accuracy': 0.6544378698224852, 'precision': 0.673141612308349, 'recall': 0.6544378698224852, 'f1-score': 0.6487544557288792, 'macro_f1-score': 0.4079288058953379, 'balanced_accuracy': 0.42735387770489963, 'mcc': 0.5455315679329418, 'train_loss': 0.2805158611684168}\n",
      "Epoch 6/20\n"
     ]
    },
    {
     "name": "stderr",
     "output_type": "stream",
     "text": [
      "100%|██████████| 771/771 [05:24<00:00,  2.37it/s]\n"
     ]
    },
    {
     "name": "stdout",
     "output_type": "stream",
     "text": [
      "{'val_loss': 1.638044168364327, 'val_accuracy': 0.6437869822485207, 'precision': 0.6836381319132032, 'recall': 0.6437869822485207, 'f1-score': 0.6465621763027196, 'macro_f1-score': 0.409198469896398, 'balanced_accuracy': 0.45475853480970857, 'mcc': 0.546335003889803, 'train_loss': 0.25785042496395677}\n",
      "Epoch 7/20\n"
     ]
    },
    {
     "name": "stderr",
     "output_type": "stream",
     "text": [
      "100%|██████████| 771/771 [05:23<00:00,  2.38it/s]\n"
     ]
    },
    {
     "name": "stdout",
     "output_type": "stream",
     "text": [
      "{'val_loss': 1.626824457690401, 'val_accuracy': 0.6390532544378699, 'precision': 0.6607289069532774, 'recall': 0.6390532544378699, 'f1-score': 0.6341266019552063, 'macro_f1-score': 0.38912318762577824, 'balanced_accuracy': 0.4171574564781384, 'mcc': 0.5347719779490053, 'train_loss': 0.24155505273150504}\n",
      "Early stopping.\n",
      "\n",
      "[Fold 9]\n",
      "Label distribution after resampling:\n",
      "  label 0: 2000\n",
      "  label 1: 200\n",
      "  label 2: 200\n",
      "  label 3: 200\n",
      "  label 4: 232\n",
      "  label 5: 200\n",
      "  label 6: 200\n",
      "  label 7: 200\n",
      "  label 8: 200\n",
      "  label 9: 200\n",
      "  label 10: 200\n",
      "  label 11: 200\n",
      "  label 12: 217\n",
      "  label 13: 200\n",
      "  label 14: 200\n",
      "  label 15: 200\n",
      "  label 16: 200\n",
      "  label 17: 261\n",
      "  label 18: 200\n",
      "  label 19: 200\n",
      "  label 20: 200\n",
      "  label 21: 200\n",
      "  label 22: 200\n",
      "  label 23: 200\n",
      "  label 24: 200\n",
      "  label 25: 200\n",
      "  label 26: 200\n",
      "  label 27: 200\n",
      "  label 28: 200\n",
      "  label 29: 200\n",
      "  label 30: 200\n",
      "  label 31: 200\n",
      "  label 32: 200\n",
      "  label 33: 200\n",
      "  label 34: 200\n",
      "  label 35: 200\n",
      "  label 36: 200\n",
      "  label 37: 200\n",
      "  label 38: 200\n",
      "  label 39: 200\n",
      "  label 40: 200\n",
      "  label 41: 200\n",
      "  label 42: 200\n",
      "  label 43: 200\n",
      "  label 44: 200\n",
      "  label 45: 200\n",
      "  label 46: 200\n",
      "  label 47: 595\n",
      "  label 48: 226\n",
      "  label 49: 200\n",
      "model is bert-base-uncased\n"
     ]
    },
    {
     "name": "stderr",
     "output_type": "stream",
     "text": [
      "Some weights of BertForSequenceClassification were not initialized from the model checkpoint at bert-base-uncased and are newly initialized: ['classifier.bias', 'classifier.weight']\n",
      "You should probably TRAIN this model on a down-stream task to be able to use it for predictions and inference.\n"
     ]
    },
    {
     "name": "stdout",
     "output_type": "stream",
     "text": [
      "Epoch 1/20\n"
     ]
    },
    {
     "name": "stderr",
     "output_type": "stream",
     "text": [
      "100%|██████████| 771/771 [05:23<00:00,  2.38it/s]\n"
     ]
    },
    {
     "name": "stdout",
     "output_type": "stream",
     "text": [
      "{'val_loss': 1.4935321380507272, 'val_accuracy': 0.6118343195266273, 'precision': 0.5950608297018518, 'recall': 0.6118343195266273, 'f1-score': 0.5798697473571006, 'macro_f1-score': 0.2805654482169836, 'balanced_accuracy': 0.3189244564559426, 'mcc': 0.4826788445360131, 'train_loss': 2.0952897049032453}\n",
      "Epoch 2/20\n"
     ]
    },
    {
     "name": "stderr",
     "output_type": "stream",
     "text": [
      "100%|██████████| 771/771 [05:23<00:00,  2.38it/s]\n"
     ]
    },
    {
     "name": "stdout",
     "output_type": "stream",
     "text": [
      "{'val_loss': 1.354940986295916, 'val_accuracy': 0.6568047337278107, 'precision': 0.687818280975377, 'recall': 0.6568047337278107, 'f1-score': 0.6482766174121609, 'macro_f1-score': 0.3803439964291985, 'balanced_accuracy': 0.40129030091323825, 'mcc': 0.5554340121284427, 'train_loss': 0.7567594635618027}\n",
      "Epoch 3/20\n"
     ]
    },
    {
     "name": "stderr",
     "output_type": "stream",
     "text": [
      "100%|██████████| 771/771 [05:23<00:00,  2.38it/s]\n"
     ]
    },
    {
     "name": "stdout",
     "output_type": "stream",
     "text": [
      "{'val_loss': 1.4307903495599639, 'val_accuracy': 0.6532544378698225, 'precision': 0.6662865028483824, 'recall': 0.6532544378698225, 'f1-score': 0.64982016075114, 'macro_f1-score': 0.37531451137193933, 'balanced_accuracy': 0.39918677908165395, 'mcc': 0.5520100546631099, 'train_loss': 0.4383996048901138}\n",
      "Epoch 4/20\n"
     ]
    },
    {
     "name": "stderr",
     "output_type": "stream",
     "text": [
      "100%|██████████| 771/771 [05:23<00:00,  2.38it/s]\n",
      "D:\\Anaconda3\\envs\\cuda\\Lib\\site-packages\\sklearn\\metrics\\_classification.py:2458: UserWarning: y_pred contains classes not in y_true\n",
      "  warnings.warn(\"y_pred contains classes not in y_true\")\n"
     ]
    },
    {
     "name": "stdout",
     "output_type": "stream",
     "text": [
      "{'val_loss': 1.5037791818942663, 'val_accuracy': 0.6627218934911243, 'precision': 0.6906489077239722, 'recall': 0.6627218934911243, 'f1-score': 0.6648219846458269, 'macro_f1-score': 0.3869819477169647, 'balanced_accuracy': 0.41417222784184177, 'mcc': 0.5720423158847909, 'train_loss': 0.326947160620827}\n",
      "Epoch 5/20\n"
     ]
    },
    {
     "name": "stderr",
     "output_type": "stream",
     "text": [
      "100%|██████████| 771/771 [05:23<00:00,  2.38it/s]\n"
     ]
    },
    {
     "name": "stdout",
     "output_type": "stream",
     "text": [
      "{'val_loss': 1.5675545278585181, 'val_accuracy': 0.6402366863905326, 'precision': 0.6661502745579885, 'recall': 0.6402366863905326, 'f1-score': 0.6436557830700178, 'macro_f1-score': 0.36531818038000546, 'balanced_accuracy': 0.38209892265642015, 'mcc': 0.541387113212378, 'train_loss': 0.26309940132920073}\n",
      "Epoch 6/20\n"
     ]
    },
    {
     "name": "stderr",
     "output_type": "stream",
     "text": [
      "100%|██████████| 771/771 [05:23<00:00,  2.38it/s]\n"
     ]
    },
    {
     "name": "stdout",
     "output_type": "stream",
     "text": [
      "{'val_loss': 1.7251147071145616, 'val_accuracy': 0.6307692307692307, 'precision': 0.6881347563263746, 'recall': 0.6307692307692307, 'f1-score': 0.6411079306771204, 'macro_f1-score': 0.3664497451003721, 'balanced_accuracy': 0.3816081443930619, 'mcc': 0.5390340751808523, 'train_loss': 0.23642606472949246}\n",
      "Epoch 7/20\n"
     ]
    },
    {
     "name": "stderr",
     "output_type": "stream",
     "text": [
      "100%|██████████| 771/771 [05:23<00:00,  2.38it/s]\n"
     ]
    },
    {
     "name": "stdout",
     "output_type": "stream",
     "text": [
      "{'val_loss': 1.6332399805761733, 'val_accuracy': 0.672189349112426, 'precision': 0.660519593869847, 'recall': 0.672189349112426, 'f1-score': 0.6602971416285273, 'macro_f1-score': 0.37349400103727703, 'balanced_accuracy': 0.37587917805390686, 'mcc': 0.5660149746936718, 'train_loss': 0.21800213597954074}\n",
      "Early stopping.\n",
      "\n",
      "[Fold 10]\n",
      "Label distribution after resampling:\n",
      "  label 0: 2000\n",
      "  label 1: 200\n",
      "  label 2: 200\n",
      "  label 3: 200\n",
      "  label 4: 231\n",
      "  label 5: 200\n",
      "  label 6: 200\n",
      "  label 7: 200\n",
      "  label 8: 200\n",
      "  label 9: 200\n",
      "  label 10: 200\n",
      "  label 11: 200\n",
      "  label 12: 217\n",
      "  label 13: 200\n",
      "  label 14: 200\n",
      "  label 15: 200\n",
      "  label 16: 200\n",
      "  label 17: 260\n",
      "  label 18: 200\n",
      "  label 19: 200\n",
      "  label 20: 200\n",
      "  label 21: 200\n",
      "  label 22: 200\n",
      "  label 23: 200\n",
      "  label 24: 200\n",
      "  label 25: 200\n",
      "  label 26: 200\n",
      "  label 27: 200\n",
      "  label 28: 200\n",
      "  label 29: 200\n",
      "  label 30: 200\n",
      "  label 31: 200\n",
      "  label 32: 200\n",
      "  label 33: 200\n",
      "  label 34: 200\n",
      "  label 35: 200\n",
      "  label 36: 200\n",
      "  label 37: 200\n",
      "  label 38: 200\n",
      "  label 39: 200\n",
      "  label 40: 200\n",
      "  label 41: 200\n",
      "  label 42: 200\n",
      "  label 43: 200\n",
      "  label 44: 200\n",
      "  label 45: 200\n",
      "  label 46: 200\n",
      "  label 47: 595\n",
      "  label 48: 227\n",
      "  label 49: 200\n",
      "model is bert-base-uncased\n"
     ]
    },
    {
     "name": "stderr",
     "output_type": "stream",
     "text": [
      "Some weights of BertForSequenceClassification were not initialized from the model checkpoint at bert-base-uncased and are newly initialized: ['classifier.bias', 'classifier.weight']\n",
      "You should probably TRAIN this model on a down-stream task to be able to use it for predictions and inference.\n"
     ]
    },
    {
     "name": "stdout",
     "output_type": "stream",
     "text": [
      "Epoch 1/20\n"
     ]
    },
    {
     "name": "stderr",
     "output_type": "stream",
     "text": [
      "100%|██████████| 771/771 [05:23<00:00,  2.38it/s]\n",
      "D:\\Anaconda3\\envs\\cuda\\Lib\\site-packages\\sklearn\\metrics\\_classification.py:2458: UserWarning: y_pred contains classes not in y_true\n",
      "  warnings.warn(\"y_pred contains classes not in y_true\")\n"
     ]
    },
    {
     "name": "stdout",
     "output_type": "stream",
     "text": [
      "{'val_loss': 1.4692442754529558, 'val_accuracy': 0.6130177514792899, 'precision': 0.6421644880710801, 'recall': 0.6130177514792899, 'f1-score': 0.6109130401378198, 'macro_f1-score': 0.33942911366129247, 'balanced_accuracy': 0.40130938556186324, 'mcc': 0.5008811429480425, 'train_loss': 2.1103040455380304}\n",
      "Epoch 2/20\n"
     ]
    },
    {
     "name": "stderr",
     "output_type": "stream",
     "text": [
      "100%|██████████| 771/771 [05:23<00:00,  2.38it/s]\n"
     ]
    },
    {
     "name": "stdout",
     "output_type": "stream",
     "text": [
      "{'val_loss': 1.3488158358717866, 'val_accuracy': 0.6402366863905326, 'precision': 0.6674337314693713, 'recall': 0.6402366863905326, 'f1-score': 0.6392399251935768, 'macro_f1-score': 0.3882220684353093, 'balanced_accuracy': 0.4257643214457427, 'mcc': 0.5365389063531443, 'train_loss': 0.7524193278121268}\n",
      "Epoch 3/20\n"
     ]
    },
    {
     "name": "stderr",
     "output_type": "stream",
     "text": [
      "100%|██████████| 771/771 [05:23<00:00,  2.38it/s]\n"
     ]
    },
    {
     "name": "stdout",
     "output_type": "stream",
     "text": [
      "{'val_loss': 1.4004146400487647, 'val_accuracy': 0.6556213017751479, 'precision': 0.6621472059509468, 'recall': 0.6556213017751479, 'f1-score': 0.6432050263540128, 'macro_f1-score': 0.3909698132729344, 'balanced_accuracy': 0.4065588765761596, 'mcc': 0.5493270361883967, 'train_loss': 0.43195351063432086}\n",
      "Epoch 4/20\n"
     ]
    },
    {
     "name": "stderr",
     "output_type": "stream",
     "text": [
      "100%|██████████| 771/771 [05:24<00:00,  2.38it/s]\n"
     ]
    },
    {
     "name": "stdout",
     "output_type": "stream",
     "text": [
      "{'val_loss': 1.4925217369817338, 'val_accuracy': 0.6650887573964497, 'precision': 0.6614574824073748, 'recall': 0.6650887573964497, 'f1-score': 0.6462812316539005, 'macro_f1-score': 0.4035775414917249, 'balanced_accuracy': 0.41068247217721554, 'mcc': 0.5598577988661688, 'train_loss': 0.3204064046463962}\n",
      "Epoch 5/20\n"
     ]
    },
    {
     "name": "stderr",
     "output_type": "stream",
     "text": [
      "100%|██████████| 771/771 [05:23<00:00,  2.38it/s]\n",
      "D:\\Anaconda3\\envs\\cuda\\Lib\\site-packages\\sklearn\\metrics\\_classification.py:2458: UserWarning: y_pred contains classes not in y_true\n",
      "  warnings.warn(\"y_pred contains classes not in y_true\")\n"
     ]
    },
    {
     "name": "stdout",
     "output_type": "stream",
     "text": [
      "{'val_loss': 1.593710260008866, 'val_accuracy': 0.6698224852071006, 'precision': 0.6805635523338497, 'recall': 0.6698224852071006, 'f1-score': 0.6652483542211948, 'macro_f1-score': 0.3956152077305636, 'balanced_accuracy': 0.4130426980951676, 'mcc': 0.5709176749981478, 'train_loss': 0.26563769746475147}\n",
      "Epoch 6/20\n"
     ]
    },
    {
     "name": "stderr",
     "output_type": "stream",
     "text": [
      "100%|██████████| 771/771 [05:24<00:00,  2.38it/s]\n",
      "D:\\Anaconda3\\envs\\cuda\\Lib\\site-packages\\sklearn\\metrics\\_classification.py:2458: UserWarning: y_pred contains classes not in y_true\n",
      "  warnings.warn(\"y_pred contains classes not in y_true\")\n"
     ]
    },
    {
     "name": "stdout",
     "output_type": "stream",
     "text": [
      "{'val_loss': 1.7483100452513065, 'val_accuracy': 0.6272189349112426, 'precision': 0.6965019319948359, 'recall': 0.6272189349112426, 'f1-score': 0.6444711537469445, 'macro_f1-score': 0.4533907896289413, 'balanced_accuracy': 0.48515239086645495, 'mcc': 0.5367937038183805, 'train_loss': 0.2533061369249764}\n",
      "Epoch 7/20\n"
     ]
    },
    {
     "name": "stderr",
     "output_type": "stream",
     "text": [
      "100%|██████████| 771/771 [05:24<00:00,  2.38it/s]\n",
      "D:\\Anaconda3\\envs\\cuda\\Lib\\site-packages\\sklearn\\metrics\\_classification.py:2458: UserWarning: y_pred contains classes not in y_true\n",
      "  warnings.warn(\"y_pred contains classes not in y_true\")\n"
     ]
    },
    {
     "name": "stdout",
     "output_type": "stream",
     "text": [
      "{'val_loss': 1.6946038766851965, 'val_accuracy': 0.6437869822485207, 'precision': 0.7011065696655531, 'recall': 0.6437869822485207, 'f1-score': 0.6599404884410598, 'macro_f1-score': 0.4258396360116066, 'balanced_accuracy': 0.47980525548527647, 'mcc': 0.5516622314522546, 'train_loss': 0.2363619382351869}\n",
      "Epoch 8/20\n"
     ]
    },
    {
     "name": "stderr",
     "output_type": "stream",
     "text": [
      "100%|██████████| 771/771 [05:24<00:00,  2.38it/s]\n",
      "D:\\Anaconda3\\envs\\cuda\\Lib\\site-packages\\sklearn\\metrics\\_classification.py:2458: UserWarning: y_pred contains classes not in y_true\n",
      "  warnings.warn(\"y_pred contains classes not in y_true\")\n"
     ]
    },
    {
     "name": "stdout",
     "output_type": "stream",
     "text": [
      "{'val_loss': 1.928308071955195, 'val_accuracy': 0.6153846153846154, 'precision': 0.6744493748831174, 'recall': 0.6153846153846154, 'f1-score': 0.6276655479109454, 'macro_f1-score': 0.37892075520151003, 'balanced_accuracy': 0.4226574063134332, 'mcc': 0.525926586907334, 'train_loss': 0.21477663844591913}\n",
      "Epoch 9/20\n"
     ]
    },
    {
     "name": "stderr",
     "output_type": "stream",
     "text": [
      "100%|██████████| 771/771 [05:23<00:00,  2.38it/s]\n"
     ]
    },
    {
     "name": "stdout",
     "output_type": "stream",
     "text": [
      "{'val_loss': 1.6511977629841499, 'val_accuracy': 0.6710059171597633, 'precision': 0.6668430921710704, 'recall': 0.6710059171597633, 'f1-score': 0.6562102903420488, 'macro_f1-score': 0.3715907042835127, 'balanced_accuracy': 0.37934714803841446, 'mcc': 0.5646317428734452, 'train_loss': 0.21535400326645193}\n",
      "Early stopping.\n",
      "\n",
      " === bert-base-uncased + plain + ros Final 10-fold Cross-Validation Results ===\n",
      "Total time: 24874 seconds\n",
      "Total time: 6 hrs 54 mins 34 secs\n",
      "val_loss: 1.4964\n",
      "val_accuracy: 0.6626\n",
      "precision: 0.6852\n",
      "recall: 0.6626\n",
      "f1-score: 0.6595\n",
      "macro_f1-score: 0.4313\n",
      "balanced_accuracy: 0.4502\n",
      "mcc: 0.5654\n",
      "train_loss: 0.3696\n"
     ]
    },
    {
     "name": "stderr",
     "output_type": "stream",
     "text": [
      "D:\\Anaconda3\\envs\\cuda\\Lib\\site-packages\\sklearn\\metrics\\_classification.py:2458: UserWarning: y_pred contains classes not in y_true\n",
      "  warnings.warn(\"y_pred contains classes not in y_true\")\n"
     ]
    }
   ],
   "source": [
    "model_list = [\"bert-base-uncased\"]\n",
    "hybrid_list = [None]\n",
    "resample_list = [\"ros\"]\n",
    "\n",
    "for model_name in model_list:\n",
    "    for hybrid_type in hybrid_list:\n",
    "        for resample_method in resample_list:\n",
    "            results = run_kfold_experiment(\n",
    "                X=messages, y=labels, model_name=model_name, hybrid_type=hybrid_type, resample_method=resample_method,\n",
    "                kfold=KFOLD_SPLIT, seed=SEED, epochs=EPOCHS, patience=PATIENCE, max_length=MAX_LENGTH, \n",
    "                batch_size=BATCH_SIZE, lr=LR, weight_decay=WEIGHT_DECAY\n",
    "            )"
   ]
  },
  {
   "cell_type": "code",
   "execution_count": 5,
   "id": "ec792735-5337-4675-a201-30ec3a0415ca",
   "metadata": {},
   "outputs": [
    {
     "data": {
      "text/plain": [
       "[{'val_loss': 1.5418608902760271,\n",
       "  'val_accuracy': 0.6702127659574468,\n",
       "  'precision': 0.6928642393887834,\n",
       "  'recall': 0.6702127659574468,\n",
       "  'f1-score': 0.6724781065320276,\n",
       "  'macro_f1-score': 0.4429917076323849,\n",
       "  'balanced_accuracy': 0.4661881528264463,\n",
       "  'mcc': 0.5796627051668871,\n",
       "  'train_loss': 0.31862924261509057},\n",
       " {'val_loss': 1.6639614251424681,\n",
       "  'val_accuracy': 0.6595744680851063,\n",
       "  'precision': 0.6685596806109438,\n",
       "  'recall': 0.6595744680851063,\n",
       "  'f1-score': 0.6505416241157778,\n",
       "  'macro_f1-score': 0.43506207050215084,\n",
       "  'balanced_accuracy': 0.4357286368168884,\n",
       "  'mcc': 0.5586856299532883,\n",
       "  'train_loss': 0.20232707153022503},\n",
       " {'val_loss': 1.6781420550256405,\n",
       "  'val_accuracy': 0.6666666666666666,\n",
       "  'precision': 0.6867395964000391,\n",
       "  'recall': 0.6666666666666666,\n",
       "  'f1-score': 0.6670786103092876,\n",
       "  'macro_f1-score': 0.4313368163599955,\n",
       "  'balanced_accuracy': 0.4685784700176313,\n",
       "  'mcc': 0.5766472581889903,\n",
       "  'train_loss': 0.22857373473675374},\n",
       " {'val_loss': 1.318044771563332,\n",
       "  'val_accuracy': 0.6761229314420804,\n",
       "  'precision': 0.6792093509743492,\n",
       "  'recall': 0.6761229314420804,\n",
       "  'f1-score': 0.6612174294497961,\n",
       "  'macro_f1-score': 0.44338396773292127,\n",
       "  'balanced_accuracy': 0.4292491594468028,\n",
       "  'mcc': 0.5687683620197403,\n",
       "  'train_loss': 0.45404830863928825},\n",
       " {'val_loss': 1.415343870812992,\n",
       "  'val_accuracy': 0.6674556213017752,\n",
       "  'precision': 0.6705790415810325,\n",
       "  'recall': 0.6674556213017752,\n",
       "  'f1-score': 0.6472264768677737,\n",
       "  'macro_f1-score': 0.4015546152974665,\n",
       "  'balanced_accuracy': 0.40776249039114676,\n",
       "  'mcc': 0.5553312786870859,\n",
       "  'train_loss': 0.4260663278884074},\n",
       " {'val_loss': 1.34442999958992,\n",
       "  'val_accuracy': 0.6792899408284023,\n",
       "  'precision': 0.6788826235922163,\n",
       "  'recall': 0.6792899408284023,\n",
       "  'f1-score': 0.6678303138988071,\n",
       "  'macro_f1-score': 0.40727875191017454,\n",
       "  'balanced_accuracy': 0.41540824191831244,\n",
       "  'mcc': 0.5738132681834832,\n",
       "  'train_loss': 0.4202192444185184},\n",
       " {'val_loss': 1.2483786591943704,\n",
       "  'val_accuracy': 0.6627218934911243,\n",
       "  'precision': 0.7016092097073252,\n",
       "  'recall': 0.6627218934911243,\n",
       "  'f1-score': 0.6602406575772377,\n",
       "  'macro_f1-score': 0.4836889267492197,\n",
       "  'balanced_accuracy': 0.519990103414926,\n",
       "  'mcc': 0.5716682214519698,\n",
       "  'train_loss': 0.7358427176834235},\n",
       " {'val_loss': 1.5015289524816118,\n",
       "  'val_accuracy': 0.6544378698224852,\n",
       "  'precision': 0.6866967518684427,\n",
       "  'recall': 0.6544378698224852,\n",
       "  'f1-score': 0.6592154433183784,\n",
       "  'macro_f1-score': 0.42760239329287125,\n",
       "  'balanced_accuracy': 0.45940444963242993,\n",
       "  'mcc': 0.5607501591573895,\n",
       "  'train_loss': 0.33038714214502296},\n",
       " {'val_loss': 1.5037791818942663,\n",
       "  'val_accuracy': 0.6627218934911243,\n",
       "  'precision': 0.6906489077239722,\n",
       "  'recall': 0.6627218934911243,\n",
       "  'f1-score': 0.6648219846458269,\n",
       "  'macro_f1-score': 0.3869819477169647,\n",
       "  'balanced_accuracy': 0.41417222784184177,\n",
       "  'mcc': 0.5720423158847909,\n",
       "  'train_loss': 0.326947160620827},\n",
       " {'val_loss': 1.7483100452513065,\n",
       "  'val_accuracy': 0.6272189349112426,\n",
       "  'precision': 0.6965019319948359,\n",
       "  'recall': 0.6272189349112426,\n",
       "  'f1-score': 0.6444711537469445,\n",
       "  'macro_f1-score': 0.4533907896289413,\n",
       "  'balanced_accuracy': 0.48515239086645495,\n",
       "  'mcc': 0.5367937038183805,\n",
       "  'train_loss': 0.2533061369249764}]"
      ]
     },
     "execution_count": 5,
     "metadata": {},
     "output_type": "execute_result"
    }
   ],
   "source": [
    "results"
   ]
  },
  {
   "cell_type": "code",
   "execution_count": null,
   "id": "3c633d6f-3117-4e62-a92c-c50fb863c194",
   "metadata": {},
   "outputs": [],
   "source": []
  },
  {
   "cell_type": "code",
   "execution_count": null,
   "id": "a979ee3d-a4b6-4ea5-8247-fe041653243b",
   "metadata": {},
   "outputs": [],
   "source": []
  }
 ],
 "metadata": {
  "kernelspec": {
   "display_name": "Python 3 (ipykernel)",
   "language": "python",
   "name": "python3"
  },
  "language_info": {
   "codemirror_mode": {
    "name": "ipython",
    "version": 3
   },
   "file_extension": ".py",
   "mimetype": "text/x-python",
   "name": "python",
   "nbconvert_exporter": "python",
   "pygments_lexer": "ipython3",
   "version": "3.11.9"
  }
 },
 "nbformat": 4,
 "nbformat_minor": 5
}
