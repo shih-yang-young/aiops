{
 "cells": [
  {
   "cell_type": "code",
   "execution_count": 1,
   "id": "f22f4841-9a9d-4a63-b896-560594d666d8",
   "metadata": {},
   "outputs": [
    {
     "data": {
      "text/html": [
       "<div>\n",
       "<style scoped>\n",
       "    .dataframe tbody tr th:only-of-type {\n",
       "        vertical-align: middle;\n",
       "    }\n",
       "\n",
       "    .dataframe tbody tr th {\n",
       "        vertical-align: top;\n",
       "    }\n",
       "\n",
       "    .dataframe thead th {\n",
       "        text-align: right;\n",
       "    }\n",
       "</style>\n",
       "<table border=\"1\" class=\"dataframe\">\n",
       "  <thead>\n",
       "    <tr style=\"text-align: right;\">\n",
       "      <th></th>\n",
       "      <th>Inbound Message</th>\n",
       "      <th>Label</th>\n",
       "    </tr>\n",
       "  </thead>\n",
       "  <tbody>\n",
       "    <tr>\n",
       "      <th>0</th>\n",
       "      <td>connection icon icon dear please setup icon pe...</td>\n",
       "      <td>3</td>\n",
       "    </tr>\n",
       "    <tr>\n",
       "      <th>1</th>\n",
       "      <td>work experience user work experience user work...</td>\n",
       "      <td>0</td>\n",
       "    </tr>\n",
       "    <tr>\n",
       "      <th>2</th>\n",
       "      <td>requesting meeting requesting meeting please h...</td>\n",
       "      <td>3</td>\n",
       "    </tr>\n",
       "    <tr>\n",
       "      <th>3</th>\n",
       "      <td>reset passwords external accounts expire days ...</td>\n",
       "      <td>0</td>\n",
       "    </tr>\n",
       "    <tr>\n",
       "      <th>4</th>\n",
       "      <td>mail verification warning got attached please ...</td>\n",
       "      <td>5</td>\n",
       "    </tr>\n",
       "    <tr>\n",
       "      <th>...</th>\n",
       "      <td>...</td>\n",
       "      <td>...</td>\n",
       "    </tr>\n",
       "    <tr>\n",
       "      <th>46767</th>\n",
       "      <td>git space project issues adding users sent git...</td>\n",
       "      <td>0</td>\n",
       "    </tr>\n",
       "    <tr>\n",
       "      <th>46768</th>\n",
       "      <td>error sent error guys help error appearing wan...</td>\n",
       "      <td>5</td>\n",
       "    </tr>\n",
       "    <tr>\n",
       "      <th>46769</th>\n",
       "      <td>connection issues sent connection issues hello...</td>\n",
       "      <td>3</td>\n",
       "    </tr>\n",
       "    <tr>\n",
       "      <th>46770</th>\n",
       "      <td>error cube reports sent error hello guys recei...</td>\n",
       "      <td>2</td>\n",
       "    </tr>\n",
       "    <tr>\n",
       "      <th>46771</th>\n",
       "      <td>running extensions hello please advised runnin...</td>\n",
       "      <td>3</td>\n",
       "    </tr>\n",
       "  </tbody>\n",
       "</table>\n",
       "<p>46772 rows × 2 columns</p>\n",
       "</div>"
      ],
      "text/plain": [
       "                                         Inbound Message  Label\n",
       "0      connection icon icon dear please setup icon pe...      3\n",
       "1      work experience user work experience user work...      0\n",
       "2      requesting meeting requesting meeting please h...      3\n",
       "3      reset passwords external accounts expire days ...      0\n",
       "4      mail verification warning got attached please ...      5\n",
       "...                                                  ...    ...\n",
       "46767  git space project issues adding users sent git...      0\n",
       "46768  error sent error guys help error appearing wan...      5\n",
       "46769  connection issues sent connection issues hello...      3\n",
       "46770  error cube reports sent error hello guys recei...      2\n",
       "46771  running extensions hello please advised runnin...      3\n",
       "\n",
       "[46772 rows x 2 columns]"
      ]
     },
     "execution_count": 1,
     "metadata": {},
     "output_type": "execute_result"
    }
   ],
   "source": [
    "import pandas as pd\n",
    "data_path = \"../../data/46772_8_label.csv\"\n",
    "df = pd.read_csv(data_path)\n",
    "# df_label_0 = df[df[\"Label\"] == 0]\n",
    "# df_label_0_to_drop = df_label_0.sample(n=3000, random_state=42)\n",
    "# df = df.drop(df_label_0_to_drop.index)\n",
    "df"
   ]
  },
  {
   "cell_type": "code",
   "execution_count": 2,
   "id": "bf737873-4f1c-4588-913d-8f06b2777b20",
   "metadata": {},
   "outputs": [
    {
     "name": "stderr",
     "output_type": "stream",
     "text": [
      "c:\\Users\\user\\AppData\\Local\\Programs\\Python\\Python310\\lib\\site-packages\\tqdm\\auto.py:21: TqdmWarning: IProgress not found. Please update jupyter and ipywidgets. See https://ipywidgets.readthedocs.io/en/stable/user_install.html\n",
      "  from .autonotebook import tqdm as notebook_tqdm\n"
     ]
    }
   ],
   "source": [
    "import sys\n",
    "import os\n",
    "sys.path.append(os.path.abspath('../ml_lib'))\n",
    "\n",
    "from config import *\n",
    "from experiment import run_kfold_experiment"
   ]
  },
  {
   "cell_type": "code",
   "execution_count": 3,
   "id": "a12b2613-aa9d-41c0-8f62-72210eaf8d7f",
   "metadata": {},
   "outputs": [],
   "source": [
    "messages, labels = df['Inbound Message'].tolist(), df['Label'].tolist()"
   ]
  },
  {
   "cell_type": "code",
   "execution_count": 4,
   "id": "38d4729f-f867-4cea-89f9-31f67e5ecced",
   "metadata": {},
   "outputs": [
    {
     "name": "stdout",
     "output_type": "stream",
     "text": [
      "▶ Running: bert-base-uncased + plain + ros\n",
      "tokenizer is bert-base-uncased\n",
      "Using device: cuda\n",
      "CUDA Available: True\n",
      "CUDA Device: NVIDIA GeForce RTX 5070 Ti\n",
      "Current GPU Memory Allocated: 0.00 GB\n",
      "Current GPU Memory Cached: 0.00 GB\n",
      "\n",
      "[Fold 1]\n",
      "Label distribution after resampling:\n",
      "  label 0: 5626\n",
      "  label 1: 5000\n",
      "  label 2: 8442\n",
      "  label 3: 10770\n",
      "  label 4: 5000\n",
      "  label 5: 5578\n",
      "  label 6: 5000\n",
      "  label 7: 5000\n",
      "model is bert-base-uncased\n"
     ]
    },
    {
     "name": "stderr",
     "output_type": "stream",
     "text": [
      "Some weights of BertForSequenceClassification were not initialized from the model checkpoint at bert-base-uncased and are newly initialized: ['classifier.bias', 'classifier.weight']\n",
      "You should probably TRAIN this model on a down-stream task to be able to use it for predictions and inference.\n"
     ]
    },
    {
     "name": "stdout",
     "output_type": "stream",
     "text": [
      "Epoch 1/20\n"
     ]
    },
    {
     "name": "stderr",
     "output_type": "stream",
     "text": [
      "100%|██████████| 3151/3151 [04:27<00:00, 11.79it/s]\n"
     ]
    },
    {
     "name": "stdout",
     "output_type": "stream",
     "text": [
      "{'val_loss': 0.40600998307076785, 'val_accuracy': 0.8595403527525387, 'precision': 0.8617379767459303, 'recall': 0.8595403527525387, 'f1-score': 0.8596972301543001, 'macro_f1-score': 0.8565391082617471, 'balanced_accuracy': 0.8720600779439243, 'mcc': 0.8279785287723224, 'train_loss': 0.5118527536740647}\n",
      "Epoch 2/20\n"
     ]
    },
    {
     "name": "stderr",
     "output_type": "stream",
     "text": [
      "100%|██████████| 3151/3151 [04:27<00:00, 11.79it/s]\n"
     ]
    },
    {
     "name": "stdout",
     "output_type": "stream",
     "text": [
      "{'val_loss': 0.42305306571925805, 'val_accuracy': 0.8655264564404062, 'precision': 0.8692225330596975, 'recall': 0.8655264564404062, 'f1-score': 0.8661692962364451, 'macro_f1-score': 0.8639240315009069, 'balanced_accuracy': 0.8517866562191287, 'mcc': 0.8341013164279442, 'train_loss': 0.2740712692235191}\n",
      "Epoch 3/20\n"
     ]
    },
    {
     "name": "stderr",
     "output_type": "stream",
     "text": [
      "100%|██████████| 3151/3151 [04:27<00:00, 11.76it/s]\n"
     ]
    },
    {
     "name": "stdout",
     "output_type": "stream",
     "text": [
      "{'val_loss': 0.4419834510447123, 'val_accuracy': 0.8652057723142704, 'precision': 0.8690428705085885, 'recall': 0.8652057723142704, 'f1-score': 0.864731630298922, 'macro_f1-score': 0.8627309002165354, 'balanced_accuracy': 0.8438568124054522, 'mcc': 0.8336876637447044, 'train_loss': 0.1825683730951017}\n",
      "Epoch 4/20\n"
     ]
    },
    {
     "name": "stderr",
     "output_type": "stream",
     "text": [
      "100%|██████████| 3151/3151 [04:27<00:00, 11.78it/s]\n"
     ]
    },
    {
     "name": "stdout",
     "output_type": "stream",
     "text": [
      "{'val_loss': 0.462624382866849, 'val_accuracy': 0.8717263495456975, 'precision': 0.872320306385947, 'recall': 0.8717263495456975, 'f1-score': 0.8714468526503112, 'macro_f1-score': 0.8689630724143785, 'balanced_accuracy': 0.8628054669991784, 'mcc': 0.8420486325235687, 'train_loss': 0.12874771174110952}\n",
      "Epoch 5/20\n"
     ]
    },
    {
     "name": "stderr",
     "output_type": "stream",
     "text": [
      "100%|██████████| 3151/3151 [04:27<00:00, 11.78it/s]\n"
     ]
    },
    {
     "name": "stdout",
     "output_type": "stream",
     "text": [
      "{'val_loss': 0.5144789963164645, 'val_accuracy': 0.8622127204703367, 'precision': 0.8642842414100087, 'recall': 0.8622127204703367, 'f1-score': 0.862251578396854, 'macro_f1-score': 0.862191175046409, 'balanced_accuracy': 0.8594517953142137, 'mcc': 0.8305981561135708, 'train_loss': 0.0951322164759365}\n",
      "Epoch 6/20\n"
     ]
    },
    {
     "name": "stderr",
     "output_type": "stream",
     "text": [
      "100%|██████████| 3151/3151 [04:27<00:00, 11.78it/s]\n"
     ]
    },
    {
     "name": "stdout",
     "output_type": "stream",
     "text": [
      "{'val_loss': 0.5490055654954134, 'val_accuracy': 0.8608230892570817, 'precision': 0.8631650300003291, 'recall': 0.8608230892570817, 'f1-score': 0.8604766187607867, 'macro_f1-score': 0.8564000259291635, 'balanced_accuracy': 0.8744358385285979, 'mcc': 0.8306380948578025, 'train_loss': 0.0789335109483176}\n",
      "Epoch 7/20\n"
     ]
    },
    {
     "name": "stderr",
     "output_type": "stream",
     "text": [
      "100%|██████████| 3151/3151 [04:27<00:00, 11.78it/s]\n"
     ]
    },
    {
     "name": "stdout",
     "output_type": "stream",
     "text": [
      "{'val_loss': 0.6683852144041393, 'val_accuracy': 0.8623196151790486, 'precision': 0.865496171275917, 'recall': 0.8623196151790486, 'f1-score': 0.8627853437008349, 'macro_f1-score': 0.8620616391502427, 'balanced_accuracy': 0.8595456532995225, 'mcc': 0.831174135089482, 'train_loss': 0.06437189164437351}\n",
      "Early stopping.\n",
      "\n",
      "[Fold 2]\n",
      "Label distribution after resampling:\n",
      "  label 0: 5626\n",
      "  label 1: 5000\n",
      "  label 2: 8442\n",
      "  label 3: 10770\n",
      "  label 4: 5000\n",
      "  label 5: 5578\n",
      "  label 6: 5000\n",
      "  label 7: 5000\n",
      "model is bert-base-uncased\n"
     ]
    },
    {
     "name": "stderr",
     "output_type": "stream",
     "text": [
      "Some weights of BertForSequenceClassification were not initialized from the model checkpoint at bert-base-uncased and are newly initialized: ['classifier.bias', 'classifier.weight']\n",
      "You should probably TRAIN this model on a down-stream task to be able to use it for predictions and inference.\n"
     ]
    },
    {
     "name": "stdout",
     "output_type": "stream",
     "text": [
      "Epoch 1/20\n"
     ]
    },
    {
     "name": "stderr",
     "output_type": "stream",
     "text": [
      "100%|██████████| 3151/3151 [04:27<00:00, 11.76it/s]\n"
     ]
    },
    {
     "name": "stdout",
     "output_type": "stream",
     "text": [
      "{'val_loss': 0.48584610528798183, 'val_accuracy': 0.8305718866916088, 'precision': 0.8373167578060252, 'recall': 0.8305718866916088, 'f1-score': 0.8314091204305505, 'macro_f1-score': 0.827949750325123, 'balanced_accuracy': 0.8626850355452436, 'mcc': 0.7943064778271351, 'train_loss': 0.498024737073439}\n",
      "Epoch 2/20\n"
     ]
    },
    {
     "name": "stderr",
     "output_type": "stream",
     "text": [
      "100%|██████████| 3151/3151 [04:28<00:00, 11.76it/s]\n"
     ]
    },
    {
     "name": "stdout",
     "output_type": "stream",
     "text": [
      "{'val_loss': 0.46251354731348715, 'val_accuracy': 0.8501336183858899, 'precision': 0.8517882029222112, 'recall': 0.8501336183858899, 'f1-score': 0.8504645242504375, 'macro_f1-score': 0.8496605413666545, 'balanced_accuracy': 0.8545102845941559, 'mcc': 0.8156671684225755, 'train_loss': 0.26227863108968613}\n",
      "Epoch 3/20\n"
     ]
    },
    {
     "name": "stderr",
     "output_type": "stream",
     "text": [
      "100%|██████████| 3151/3151 [04:27<00:00, 11.76it/s]\n"
     ]
    },
    {
     "name": "stdout",
     "output_type": "stream",
     "text": [
      "{'val_loss': 0.4794850037369527, 'val_accuracy': 0.8543025120256548, 'precision': 0.8577843818771677, 'recall': 0.8543025120256548, 'f1-score': 0.8543569746540846, 'macro_f1-score': 0.857488065755104, 'balanced_accuracy': 0.8556470149226169, 'mcc': 0.8212033782927313, 'train_loss': 0.17385634659605959}\n",
      "Epoch 4/20\n"
     ]
    },
    {
     "name": "stderr",
     "output_type": "stream",
     "text": [
      "100%|██████████| 3151/3151 [04:27<00:00, 11.78it/s]\n"
     ]
    },
    {
     "name": "stdout",
     "output_type": "stream",
     "text": [
      "{'val_loss': 0.6046916832809106, 'val_accuracy': 0.8531266702298236, 'precision': 0.8539673348954615, 'recall': 0.8531266702298236, 'f1-score': 0.8528831357158744, 'macro_f1-score': 0.8534671806079211, 'balanced_accuracy': 0.8542194970896786, 'mcc': 0.8197908193986346, 'train_loss': 0.11735562027545965}\n",
      "Epoch 5/20\n"
     ]
    },
    {
     "name": "stderr",
     "output_type": "stream",
     "text": [
      "100%|██████████| 3151/3151 [04:27<00:00, 11.78it/s]\n"
     ]
    },
    {
     "name": "stdout",
     "output_type": "stream",
     "text": [
      "{'val_loss': 0.5642471744830155, 'val_accuracy': 0.8549438802779262, 'precision': 0.8565615800029454, 'recall': 0.8549438802779262, 'f1-score': 0.8548512063108401, 'macro_f1-score': 0.8577193952083377, 'balanced_accuracy': 0.8543508714222112, 'mcc': 0.8217110738522362, 'train_loss': 0.08656867273430888}\n",
      "Epoch 6/20\n"
     ]
    },
    {
     "name": "stderr",
     "output_type": "stream",
     "text": [
      "100%|██████████| 3151/3151 [04:27<00:00, 11.78it/s]\n"
     ]
    },
    {
     "name": "stdout",
     "output_type": "stream",
     "text": [
      "{'val_loss': 0.5890842121759127, 'val_accuracy': 0.8525921966862641, 'precision': 0.8530749869390923, 'recall': 0.8525921966862641, 'f1-score': 0.8525082590780431, 'macro_f1-score': 0.8548467011377718, 'balanced_accuracy': 0.853802551097096, 'mcc': 0.8189360472360453, 'train_loss': 0.07275739001208914}\n",
      "Epoch 7/20\n"
     ]
    },
    {
     "name": "stderr",
     "output_type": "stream",
     "text": [
      "100%|██████████| 3151/3151 [04:27<00:00, 11.76it/s]\n"
     ]
    },
    {
     "name": "stdout",
     "output_type": "stream",
     "text": [
      "{'val_loss': 0.6167781482532254, 'val_accuracy': 0.8595403527525387, 'precision': 0.8599145020298715, 'recall': 0.8595403527525387, 'f1-score': 0.859390180001657, 'macro_f1-score': 0.8606417098832668, 'balanced_accuracy': 0.8535913118417499, 'mcc': 0.8270505283355628, 'train_loss': 0.05733654343246585}\n",
      "Epoch 8/20\n"
     ]
    },
    {
     "name": "stderr",
     "output_type": "stream",
     "text": [
      "100%|██████████| 3151/3151 [04:27<00:00, 11.77it/s]\n"
     ]
    },
    {
     "name": "stdout",
     "output_type": "stream",
     "text": [
      "{'val_loss': 0.6970551892566798, 'val_accuracy': 0.8555852485301978, 'precision': 0.8558308749465919, 'recall': 0.8555852485301978, 'f1-score': 0.8552185468862027, 'macro_f1-score': 0.8547228405229934, 'balanced_accuracy': 0.8529927329727214, 'mcc': 0.8221602078307004, 'train_loss': 0.052471804289009896}\n",
      "Epoch 9/20\n"
     ]
    },
    {
     "name": "stderr",
     "output_type": "stream",
     "text": [
      "100%|██████████| 3151/3151 [04:27<00:00, 11.77it/s]\n"
     ]
    },
    {
     "name": "stdout",
     "output_type": "stream",
     "text": [
      "{'val_loss': 0.7767811532571124, 'val_accuracy': 0.8534473543559594, 'precision': 0.8546124038511517, 'recall': 0.8534473543559594, 'f1-score': 0.8535058358321053, 'macro_f1-score': 0.853215809899653, 'balanced_accuracy': 0.8620300369051048, 'mcc': 0.8204342857610916, 'train_loss': 0.0404771374677105}\n",
      "Epoch 10/20\n"
     ]
    },
    {
     "name": "stderr",
     "output_type": "stream",
     "text": [
      "100%|██████████| 3151/3151 [04:27<00:00, 11.77it/s]\n"
     ]
    },
    {
     "name": "stdout",
     "output_type": "stream",
     "text": [
      "{'val_loss': 0.7201036539318788, 'val_accuracy': 0.8586851950828434, 'precision': 0.8594541537230636, 'recall': 0.8586851950828434, 'f1-score': 0.8583680783538197, 'macro_f1-score': 0.8588314286433681, 'balanced_accuracy': 0.8555115190444711, 'mcc': 0.8261297821503337, 'train_loss': 0.04299511359619942}\n",
      "Early stopping.\n",
      "\n",
      "[Fold 3]\n",
      "Label distribution after resampling:\n",
      "  label 0: 5626\n",
      "  label 1: 5000\n",
      "  label 2: 8442\n",
      "  label 3: 10770\n",
      "  label 4: 5000\n",
      "  label 5: 5578\n",
      "  label 6: 5000\n",
      "  label 7: 5000\n",
      "model is bert-base-uncased\n"
     ]
    },
    {
     "name": "stderr",
     "output_type": "stream",
     "text": [
      "Some weights of BertForSequenceClassification were not initialized from the model checkpoint at bert-base-uncased and are newly initialized: ['classifier.bias', 'classifier.weight']\n",
      "You should probably TRAIN this model on a down-stream task to be able to use it for predictions and inference.\n"
     ]
    },
    {
     "name": "stdout",
     "output_type": "stream",
     "text": [
      "Epoch 1/20\n"
     ]
    },
    {
     "name": "stderr",
     "output_type": "stream",
     "text": [
      "100%|██████████| 3151/3151 [04:27<00:00, 11.76it/s]\n"
     ]
    },
    {
     "name": "stdout",
     "output_type": "stream",
     "text": [
      "{'val_loss': 0.4242220773337743, 'val_accuracy': 0.8549283728886038, 'precision': 0.8600943982543983, 'recall': 0.8549283728886038, 'f1-score': 0.8554778611461904, 'macro_f1-score': 0.8532489805227044, 'balanced_accuracy': 0.8597641418948526, 'mcc': 0.8226914036624247, 'train_loss': 0.519009358439948}\n",
      "Epoch 2/20\n"
     ]
    },
    {
     "name": "stderr",
     "output_type": "stream",
     "text": [
      "100%|██████████| 3151/3151 [04:27<00:00, 11.76it/s]\n"
     ]
    },
    {
     "name": "stdout",
     "output_type": "stream",
     "text": [
      "{'val_loss': 0.4045473462878129, 'val_accuracy': 0.8676502031216592, 'precision': 0.8694179096692145, 'recall': 0.8676502031216592, 'f1-score': 0.8674506523939186, 'macro_f1-score': 0.862832381474185, 'balanced_accuracy': 0.8646608209097444, 'mcc': 0.8379520809571945, 'train_loss': 0.2716191036169163}\n",
      "Epoch 3/20\n"
     ]
    },
    {
     "name": "stderr",
     "output_type": "stream",
     "text": [
      "100%|██████████| 3151/3151 [04:28<00:00, 11.75it/s]\n"
     ]
    },
    {
     "name": "stdout",
     "output_type": "stream",
     "text": [
      "{'val_loss': 0.45939984266670086, 'val_accuracy': 0.8596322428907419, 'precision': 0.8629929139834664, 'recall': 0.8596322428907419, 'f1-score': 0.8597219792295033, 'macro_f1-score': 0.8576493891820902, 'balanced_accuracy': 0.861048887009338, 'mcc': 0.8273162390513906, 'train_loss': 0.17470425592553046}\n",
      "Epoch 4/20\n"
     ]
    },
    {
     "name": "stderr",
     "output_type": "stream",
     "text": [
      "100%|██████████| 3151/3151 [04:27<00:00, 11.77it/s]\n"
     ]
    },
    {
     "name": "stdout",
     "output_type": "stream",
     "text": [
      "{'val_loss': 0.5691109309084396, 'val_accuracy': 0.8613427410733376, 'precision': 0.8633382716771291, 'recall': 0.8613427410733376, 'f1-score': 0.8612184243390885, 'macro_f1-score': 0.8578136956526827, 'balanced_accuracy': 0.8691638263836932, 'mcc': 0.8307128915355718, 'train_loss': 0.11889060062437722}\n",
      "Epoch 5/20\n"
     ]
    },
    {
     "name": "stderr",
     "output_type": "stream",
     "text": [
      "100%|██████████| 3151/3151 [04:27<00:00, 11.78it/s]\n"
     ]
    },
    {
     "name": "stdout",
     "output_type": "stream",
     "text": [
      "{'val_loss': 0.5495923339938507, 'val_accuracy': 0.86337395766517, 'precision': 0.8645719368003256, 'recall': 0.86337395766517, 'f1-score': 0.8632782675904033, 'macro_f1-score': 0.8640874128352051, 'balanced_accuracy': 0.868263717623847, 'mcc': 0.8322041423103188, 'train_loss': 0.08550298728679978}\n",
      "Epoch 6/20\n"
     ]
    },
    {
     "name": "stderr",
     "output_type": "stream",
     "text": [
      "100%|██████████| 3151/3151 [04:28<00:00, 11.73it/s]\n"
     ]
    },
    {
     "name": "stdout",
     "output_type": "stream",
     "text": [
      "{'val_loss': 0.6012288010404565, 'val_accuracy': 0.8558905281163138, 'precision': 0.8592531641600576, 'recall': 0.8558905281163138, 'f1-score': 0.8565096574030451, 'macro_f1-score': 0.8531623032931552, 'balanced_accuracy': 0.8449603130522625, 'mcc': 0.8225318772664504, 'train_loss': 0.06913659064160078}\n",
      "Epoch 7/20\n"
     ]
    },
    {
     "name": "stderr",
     "output_type": "stream",
     "text": [
      "100%|██████████| 3151/3151 [04:27<00:00, 11.76it/s]\n"
     ]
    },
    {
     "name": "stdout",
     "output_type": "stream",
     "text": [
      "{'val_loss': 0.5810153656611299, 'val_accuracy': 0.8671156724395981, 'precision': 0.8676443376835472, 'recall': 0.8671156724395981, 'f1-score': 0.8672135203806953, 'macro_f1-score': 0.8655782867789248, 'balanced_accuracy': 0.868960406949483, 'mcc': 0.836582573117529, 'train_loss': 0.058745450589362716}\n",
      "Epoch 8/20\n"
     ]
    },
    {
     "name": "stderr",
     "output_type": "stream",
     "text": [
      "100%|██████████| 3151/3151 [04:28<00:00, 11.73it/s]\n"
     ]
    },
    {
     "name": "stdout",
     "output_type": "stream",
     "text": [
      "{'val_loss': 0.6929270820670291, 'val_accuracy': 0.8599529612999787, 'precision': 0.8611256506776279, 'recall': 0.8599529612999787, 'f1-score': 0.8595446924373515, 'macro_f1-score': 0.8567999421360531, 'balanced_accuracy': 0.8602640218903832, 'mcc': 0.8286392640660148, 'train_loss': 0.05021162191613711}\n",
      "Epoch 9/20\n"
     ]
    },
    {
     "name": "stderr",
     "output_type": "stream",
     "text": [
      "100%|██████████| 3151/3151 [04:28<00:00, 11.75it/s]\n"
     ]
    },
    {
     "name": "stdout",
     "output_type": "stream",
     "text": [
      "{'val_loss': 0.6938351004618284, 'val_accuracy': 0.8635877699379945, 'precision': 0.8659551186782035, 'recall': 0.8635877699379945, 'f1-score': 0.8635680574493235, 'macro_f1-score': 0.8601937239110156, 'balanced_accuracy': 0.8472120777216172, 'mcc': 0.8318273559604885, 'train_loss': 0.05159718991887245}\n",
      "Epoch 10/20\n"
     ]
    },
    {
     "name": "stderr",
     "output_type": "stream",
     "text": [
      "100%|██████████| 3151/3151 [04:27<00:00, 11.78it/s]\n"
     ]
    },
    {
     "name": "stdout",
     "output_type": "stream",
     "text": [
      "{'val_loss': 0.6880505751468178, 'val_accuracy': 0.8623048963010477, 'precision': 0.863233275665634, 'recall': 0.8623048963010477, 'f1-score': 0.862378854766863, 'macro_f1-score': 0.8575831018218303, 'balanced_accuracy': 0.8601287170001419, 'mcc': 0.8306783560639679, 'train_loss': 0.04762142901880012}\n",
      "Early stopping.\n",
      "\n",
      "[Fold 4]\n",
      "Label distribution after resampling:\n",
      "  label 0: 5625\n",
      "  label 1: 5000\n",
      "  label 2: 8441\n",
      "  label 3: 10771\n",
      "  label 4: 5000\n",
      "  label 5: 5579\n",
      "  label 6: 5000\n",
      "  label 7: 5000\n",
      "model is bert-base-uncased\n"
     ]
    },
    {
     "name": "stderr",
     "output_type": "stream",
     "text": [
      "Some weights of BertForSequenceClassification were not initialized from the model checkpoint at bert-base-uncased and are newly initialized: ['classifier.bias', 'classifier.weight']\n",
      "You should probably TRAIN this model on a down-stream task to be able to use it for predictions and inference.\n"
     ]
    },
    {
     "name": "stdout",
     "output_type": "stream",
     "text": [
      "Epoch 1/20\n"
     ]
    },
    {
     "name": "stderr",
     "output_type": "stream",
     "text": [
      "100%|██████████| 3151/3151 [04:28<00:00, 11.75it/s]\n"
     ]
    },
    {
     "name": "stdout",
     "output_type": "stream",
     "text": [
      "{'val_loss': 0.4406201481723633, 'val_accuracy': 0.8477656617489844, 'precision': 0.8533825119946342, 'recall': 0.8477656617489844, 'f1-score': 0.8484099438060576, 'macro_f1-score': 0.8457660920227732, 'balanced_accuracy': 0.865924009463376, 'mcc': 0.8145456939094565, 'train_loss': 0.5110830976910031}\n",
      "Epoch 2/20\n"
     ]
    },
    {
     "name": "stderr",
     "output_type": "stream",
     "text": [
      "100%|██████████| 3151/3151 [04:28<00:00, 11.75it/s]\n"
     ]
    },
    {
     "name": "stdout",
     "output_type": "stream",
     "text": [
      "{'val_loss': 0.4441993344320446, 'val_accuracy': 0.8502245028864657, 'precision': 0.8543207180580864, 'recall': 0.8502245028864657, 'f1-score': 0.849249255871198, 'macro_f1-score': 0.8510863018095058, 'balanced_accuracy': 0.8697801325154253, 'mcc': 0.8188744114379416, 'train_loss': 0.26658592665238734}\n",
      "Epoch 3/20\n"
     ]
    },
    {
     "name": "stderr",
     "output_type": "stream",
     "text": [
      "100%|██████████| 3151/3151 [04:24<00:00, 11.90it/s]\n"
     ]
    },
    {
     "name": "stdout",
     "output_type": "stream",
     "text": [
      "{'val_loss': 0.48387931493771635, 'val_accuracy': 0.8543938422065427, 'precision': 0.8579869177202313, 'recall': 0.8543938422065427, 'f1-score': 0.8542614868565248, 'macro_f1-score': 0.8566213778857013, 'balanced_accuracy': 0.8584313507457171, 'mcc': 0.8214598604482511, 'train_loss': 0.17383848057757745}\n",
      "Epoch 4/20\n"
     ]
    },
    {
     "name": "stderr",
     "output_type": "stream",
     "text": [
      "100%|██████████| 3151/3151 [04:23<00:00, 11.94it/s]\n"
     ]
    },
    {
     "name": "stdout",
     "output_type": "stream",
     "text": [
      "{'val_loss': 0.5063442414753839, 'val_accuracy': 0.8603805858456275, 'precision': 0.8605147999205081, 'recall': 0.8603805858456275, 'f1-score': 0.8603439977792663, 'macro_f1-score': 0.8598803812450982, 'balanced_accuracy': 0.8647376638179148, 'mcc': 0.828527335151, 'train_loss': 0.12048085955702689}\n",
      "Epoch 5/20\n"
     ]
    },
    {
     "name": "stderr",
     "output_type": "stream",
     "text": [
      "100%|██████████| 3151/3151 [04:24<00:00, 11.93it/s]\n"
     ]
    },
    {
     "name": "stdout",
     "output_type": "stream",
     "text": [
      "{'val_loss': 0.5373326829730127, 'val_accuracy': 0.8574941201624974, 'precision': 0.8581901613951586, 'recall': 0.8574941201624974, 'f1-score': 0.8573845039736148, 'macro_f1-score': 0.8610471309828656, 'balanced_accuracy': 0.8559480166772715, 'mcc': 0.8248294906418, 'train_loss': 0.087884127674979}\n",
      "Epoch 6/20\n"
     ]
    },
    {
     "name": "stderr",
     "output_type": "stream",
     "text": [
      "100%|██████████| 3151/3151 [04:24<00:00, 11.93it/s]\n"
     ]
    },
    {
     "name": "stdout",
     "output_type": "stream",
     "text": [
      "{'val_loss': 0.5754373674745608, 'val_accuracy': 0.8674363908488347, 'precision': 0.8673687172935212, 'recall': 0.8674363908488347, 'f1-score': 0.8672983844764821, 'macro_f1-score': 0.8669686343359795, 'balanced_accuracy': 0.8668148533404743, 'mcc': 0.8368127351009887, 'train_loss': 0.07040273320144935}\n",
      "Epoch 7/20\n"
     ]
    },
    {
     "name": "stderr",
     "output_type": "stream",
     "text": [
      "100%|██████████| 3151/3151 [04:24<00:00, 11.93it/s]\n"
     ]
    },
    {
     "name": "stdout",
     "output_type": "stream",
     "text": [
      "{'val_loss': 0.6519969345969904, 'val_accuracy': 0.8611289288005132, 'precision': 0.8627813488170256, 'recall': 0.8611289288005132, 'f1-score': 0.860834290737642, 'macro_f1-score': 0.860654984526368, 'balanced_accuracy': 0.8616722267603161, 'mcc': 0.8300158575021503, 'train_loss': 0.06332902333668723}\n",
      "Epoch 8/20\n"
     ]
    },
    {
     "name": "stderr",
     "output_type": "stream",
     "text": [
      "100%|██████████| 3151/3151 [04:24<00:00, 11.93it/s]\n"
     ]
    },
    {
     "name": "stdout",
     "output_type": "stream",
     "text": [
      "{'val_loss': 0.7370165528144994, 'val_accuracy': 0.8604874919820398, 'precision': 0.863128690590399, 'recall': 0.8604874919820398, 'f1-score': 0.8610375286054149, 'macro_f1-score': 0.8610746504260122, 'balanced_accuracy': 0.8646150088359713, 'mcc': 0.8289703950592471, 'train_loss': 0.051785344801631765}\n",
      "Epoch 9/20\n"
     ]
    },
    {
     "name": "stderr",
     "output_type": "stream",
     "text": [
      "100%|██████████| 3151/3151 [04:24<00:00, 11.93it/s]\n"
     ]
    },
    {
     "name": "stdout",
     "output_type": "stream",
     "text": [
      "{'val_loss': 0.7312492413169697, 'val_accuracy': 0.860594398118452, 'precision': 0.8612789020086628, 'recall': 0.860594398118452, 'f1-score': 0.8607084964699299, 'macro_f1-score': 0.8606307186113742, 'balanced_accuracy': 0.8566950906958515, 'mcc': 0.8281552228752199, 'train_loss': 0.04864024506134869}\n",
      "Early stopping.\n",
      "\n",
      "[Fold 5]\n",
      "Label distribution after resampling:\n",
      "  label 0: 5625\n",
      "  label 1: 5000\n",
      "  label 2: 8441\n",
      "  label 3: 10771\n",
      "  label 4: 5000\n",
      "  label 5: 5579\n",
      "  label 6: 5000\n",
      "  label 7: 5000\n",
      "model is bert-base-uncased\n"
     ]
    },
    {
     "name": "stderr",
     "output_type": "stream",
     "text": [
      "Some weights of BertForSequenceClassification were not initialized from the model checkpoint at bert-base-uncased and are newly initialized: ['classifier.bias', 'classifier.weight']\n",
      "You should probably TRAIN this model on a down-stream task to be able to use it for predictions and inference.\n"
     ]
    },
    {
     "name": "stdout",
     "output_type": "stream",
     "text": [
      "Epoch 1/20\n"
     ]
    },
    {
     "name": "stderr",
     "output_type": "stream",
     "text": [
      "100%|██████████| 3151/3151 [04:24<00:00, 11.93it/s]\n"
     ]
    },
    {
     "name": "stdout",
     "output_type": "stream",
     "text": [
      "{'val_loss': 0.4402709918208102, 'val_accuracy': 0.8540731237973059, 'precision': 0.857994280633084, 'recall': 0.8540731237973059, 'f1-score': 0.8543143276910751, 'macro_f1-score': 0.8491091990272995, 'balanced_accuracy': 0.8745519858800554, 'mcc': 0.8224389640246346, 'train_loss': 0.5082179447213352}\n",
      "Epoch 2/20\n"
     ]
    },
    {
     "name": "stderr",
     "output_type": "stream",
     "text": [
      "100%|██████████| 3151/3151 [04:24<00:00, 11.93it/s]\n"
     ]
    },
    {
     "name": "stdout",
     "output_type": "stream",
     "text": [
      "{'val_loss': 0.4504207932652953, 'val_accuracy': 0.8548214667521916, 'precision': 0.860286659407053, 'recall': 0.8548214667521916, 'f1-score': 0.8552187538238466, 'macro_f1-score': 0.8519424916056048, 'balanced_accuracy': 0.8689670968094085, 'mcc': 0.8232861105280087, 'train_loss': 0.2591382702856887}\n",
      "Epoch 3/20\n"
     ]
    },
    {
     "name": "stderr",
     "output_type": "stream",
     "text": [
      "100%|██████████| 3151/3151 [04:24<00:00, 11.93it/s]\n"
     ]
    },
    {
     "name": "stdout",
     "output_type": "stream",
     "text": [
      "{'val_loss': 0.5028817807467512, 'val_accuracy': 0.8553559974342527, 'precision': 0.85686309966417, 'recall': 0.8553559974342527, 'f1-score': 0.8553715376022297, 'macro_f1-score': 0.8594606226845569, 'balanced_accuracy': 0.8523102970726169, 'mcc': 0.82190024052323, 'train_loss': 0.17152207883162662}\n",
      "Epoch 4/20\n"
     ]
    },
    {
     "name": "stderr",
     "output_type": "stream",
     "text": [
      "100%|██████████| 3151/3151 [04:24<00:00, 11.92it/s]\n"
     ]
    },
    {
     "name": "stdout",
     "output_type": "stream",
     "text": [
      "{'val_loss': 0.5399692038297016, 'val_accuracy': 0.858776993799444, 'precision': 0.8595634914906517, 'recall': 0.858776993799444, 'f1-score': 0.8586751390237771, 'macro_f1-score': 0.8610155526977274, 'balanced_accuracy': 0.8530426095076693, 'mcc': 0.8260437830124776, 'train_loss': 0.11941490901439172}\n",
      "Epoch 5/20\n"
     ]
    },
    {
     "name": "stderr",
     "output_type": "stream",
     "text": [
      "100%|██████████| 3151/3151 [04:24<00:00, 11.93it/s]\n"
     ]
    },
    {
     "name": "stdout",
     "output_type": "stream",
     "text": [
      "{'val_loss': 0.5741685656605798, 'val_accuracy': 0.8537524053880693, 'precision': 0.8549367569034731, 'recall': 0.8537524053880693, 'f1-score': 0.8535754150755771, 'macro_f1-score': 0.8534958101259063, 'balanced_accuracy': 0.8581503410364508, 'mcc': 0.8205150675872254, 'train_loss': 0.08436879836425486}\n",
      "Epoch 6/20\n"
     ]
    },
    {
     "name": "stderr",
     "output_type": "stream",
     "text": [
      "100%|██████████| 3151/3151 [04:24<00:00, 11.93it/s]\n"
     ]
    },
    {
     "name": "stdout",
     "output_type": "stream",
     "text": [
      "{'val_loss': 0.6503864544456721, 'val_accuracy': 0.8555698097070772, 'precision': 0.8599303017917399, 'recall': 0.8555698097070772, 'f1-score': 0.8560955757692645, 'macro_f1-score': 0.8600587150580818, 'balanced_accuracy': 0.8573023430442724, 'mcc': 0.8235458484039597, 'train_loss': 0.07000483835666295}\n",
      "Epoch 7/20\n"
     ]
    },
    {
     "name": "stderr",
     "output_type": "stream",
     "text": [
      "100%|██████████| 3151/3151 [04:24<00:00, 11.93it/s]\n"
     ]
    },
    {
     "name": "stdout",
     "output_type": "stream",
     "text": [
      "{'val_loss': 0.6931276080111026, 'val_accuracy': 0.8577079324353218, 'precision': 0.8587254670186354, 'recall': 0.8577079324353218, 'f1-score': 0.8574626336181775, 'macro_f1-score': 0.8565358054731176, 'balanced_accuracy': 0.8552613228916283, 'mcc': 0.8247148892802975, 'train_loss': 0.05982847333077657}\n",
      "Early stopping.\n",
      "\n",
      " === bert-base-uncased + plain + ros Final 5-fold Cross-Validation Results ===\n",
      "val_loss: 0.5552\n",
      "val_accuracy: 0.8649\n",
      "precision: 0.8654\n",
      "recall: 0.8649\n",
      "f1-score: 0.8648\n",
      "macro_f1-score: 0.8646\n",
      "balanced_accuracy: 0.8610\n",
      "mcc: 0.8337\n",
      "train_loss: 0.0869\n",
      "total_seconds: 12558.0000\n",
      "total_time: 3 hrs 29 mins 18 secs\n",
      "▶ Running: bert-base-uncased + cnn + ros\n",
      "tokenizer is bert-base-uncased\n",
      "Using device: cuda\n",
      "CUDA Available: True\n",
      "CUDA Device: NVIDIA GeForce RTX 5070 Ti\n",
      "Current GPU Memory Allocated: 0.02 GB\n",
      "Current GPU Memory Cached: 3.03 GB\n",
      "\n",
      "[Fold 1]\n",
      "Label distribution after resampling:\n",
      "  label 0: 5626\n",
      "  label 1: 5000\n",
      "  label 2: 8442\n",
      "  label 3: 10770\n",
      "  label 4: 5000\n",
      "  label 5: 5578\n",
      "  label 6: 5000\n",
      "  label 7: 5000\n",
      "model is bert-base-uncased cnn\n",
      "Epoch 1/20\n"
     ]
    },
    {
     "name": "stderr",
     "output_type": "stream",
     "text": [
      "100%|██████████| 3151/3151 [04:29<00:00, 11.69it/s]\n"
     ]
    },
    {
     "name": "stdout",
     "output_type": "stream",
     "text": [
      "{'val_loss': 0.42438601720918956, 'val_accuracy': 0.8571886691608765, 'precision': 0.8594179086802779, 'recall': 0.8571886691608765, 'f1-score': 0.8571405530869564, 'macro_f1-score': 0.8536495237339299, 'balanced_accuracy': 0.8716473599531793, 'mcc': 0.82552791782276, 'train_loss': 0.5215438918882384}\n",
      "Epoch 2/20\n"
     ]
    },
    {
     "name": "stderr",
     "output_type": "stream",
     "text": [
      "100%|██████████| 3151/3151 [04:29<00:00, 11.70it/s]\n"
     ]
    },
    {
     "name": "stdout",
     "output_type": "stream",
     "text": [
      "{'val_loss': 0.43979916985855144, 'val_accuracy': 0.8611437733832176, 'precision': 0.8647891529294872, 'recall': 0.8611437733832176, 'f1-score': 0.8616176814887653, 'macro_f1-score': 0.8582502243852936, 'balanced_accuracy': 0.8612375745650197, 'mcc': 0.8291681420466405, 'train_loss': 0.2832699353531504}\n",
      "Epoch 3/20\n"
     ]
    },
    {
     "name": "stderr",
     "output_type": "stream",
     "text": [
      "100%|██████████| 3151/3151 [04:29<00:00, 11.69it/s]\n"
     ]
    },
    {
     "name": "stdout",
     "output_type": "stream",
     "text": [
      "{'val_loss': 0.4607280786921326, 'val_accuracy': 0.8594334580438269, 'precision': 0.8631547297519678, 'recall': 0.8594334580438269, 'f1-score': 0.8595393137350376, 'macro_f1-score': 0.8590839029545478, 'balanced_accuracy': 0.8477778171449382, 'mcc': 0.827246992064126, 'train_loss': 0.18836333021750334}\n",
      "Epoch 4/20\n"
     ]
    },
    {
     "name": "stderr",
     "output_type": "stream",
     "text": [
      "100%|██████████| 3151/3151 [04:29<00:00, 11.69it/s]\n"
     ]
    },
    {
     "name": "stdout",
     "output_type": "stream",
     "text": [
      "{'val_loss': 0.49573501631235467, 'val_accuracy': 0.868412613575628, 'precision': 0.8720808263340305, 'recall': 0.868412613575628, 'f1-score': 0.8685961280790521, 'macro_f1-score': 0.8642895396593818, 'balanced_accuracy': 0.8520341691879725, 'mcc': 0.8380933325901071, 'train_loss': 0.12999071751281405}\n",
      "Epoch 5/20\n"
     ]
    },
    {
     "name": "stderr",
     "output_type": "stream",
     "text": [
      "100%|██████████| 3151/3151 [04:29<00:00, 11.70it/s]\n"
     ]
    },
    {
     "name": "stdout",
     "output_type": "stream",
     "text": [
      "{'val_loss': 0.49756501170559825, 'val_accuracy': 0.8698022447888829, 'precision': 0.8709375280430527, 'recall': 0.8698022447888829, 'f1-score': 0.8699509754413508, 'macro_f1-score': 0.8658839522242167, 'balanced_accuracy': 0.8640593668155114, 'mcc': 0.8395482048043811, 'train_loss': 0.09859363828935051}\n",
      "Epoch 6/20\n"
     ]
    },
    {
     "name": "stderr",
     "output_type": "stream",
     "text": [
      "100%|██████████| 3151/3151 [04:29<00:00, 11.70it/s]\n"
     ]
    },
    {
     "name": "stdout",
     "output_type": "stream",
     "text": [
      "{'val_loss': 0.5414683802608544, 'val_accuracy': 0.8719401389631213, 'precision': 0.8720564584747661, 'recall': 0.8719401389631213, 'f1-score': 0.8718617734998596, 'macro_f1-score': 0.8710594190076237, 'balanced_accuracy': 0.866094004223016, 'mcc': 0.8422467935243187, 'train_loss': 0.07883893058084658}\n",
      "Epoch 7/20\n"
     ]
    },
    {
     "name": "stderr",
     "output_type": "stream",
     "text": [
      "100%|██████████| 3151/3151 [04:29<00:00, 11.70it/s]\n"
     ]
    },
    {
     "name": "stdout",
     "output_type": "stream",
     "text": [
      "{'val_loss': 0.5705464906867148, 'val_accuracy': 0.8670229823623731, 'precision': 0.8678607858798385, 'recall': 0.8670229823623731, 'f1-score': 0.8671752633243527, 'macro_f1-score': 0.8659326195333548, 'balanced_accuracy': 0.8585634414442735, 'mcc': 0.8361965351929762, 'train_loss': 0.06712630194745331}\n",
      "Epoch 8/20\n"
     ]
    },
    {
     "name": "stderr",
     "output_type": "stream",
     "text": [
      "100%|██████████| 3151/3151 [04:29<00:00, 11.71it/s]\n"
     ]
    },
    {
     "name": "stdout",
     "output_type": "stream",
     "text": [
      "{'val_loss': 0.6698603673719674, 'val_accuracy': 0.8616782469267771, 'precision': 0.8632831947356422, 'recall': 0.8616782469267771, 'f1-score': 0.8620560513598187, 'macro_f1-score': 0.8567069971274763, 'balanced_accuracy': 0.8650727407044688, 'mcc': 0.8301327795486341, 'train_loss': 0.0581205784726188}\n",
      "Epoch 9/20\n"
     ]
    },
    {
     "name": "stderr",
     "output_type": "stream",
     "text": [
      "100%|██████████| 3151/3151 [04:29<00:00, 11.71it/s]\n"
     ]
    },
    {
     "name": "stdout",
     "output_type": "stream",
     "text": [
      "{'val_loss': 0.7289576712860945, 'val_accuracy': 0.8568679850347408, 'precision': 0.8613548394112749, 'recall': 0.8568679850347408, 'f1-score': 0.8574368669524174, 'macro_f1-score': 0.8534222928744437, 'balanced_accuracy': 0.8582272529244599, 'mcc': 0.8242337641679459, 'train_loss': 0.05161051379694484}\n",
      "Early stopping.\n",
      "\n",
      "[Fold 2]\n",
      "Label distribution after resampling:\n",
      "  label 0: 5626\n",
      "  label 1: 5000\n",
      "  label 2: 8442\n",
      "  label 3: 10770\n",
      "  label 4: 5000\n",
      "  label 5: 5578\n",
      "  label 6: 5000\n",
      "  label 7: 5000\n",
      "model is bert-base-uncased cnn\n",
      "Epoch 1/20\n"
     ]
    },
    {
     "name": "stderr",
     "output_type": "stream",
     "text": [
      "100%|██████████| 3151/3151 [04:29<00:00, 11.70it/s]\n"
     ]
    },
    {
     "name": "stdout",
     "output_type": "stream",
     "text": [
      "{'val_loss': 0.5629098388883803, 'val_accuracy': 0.811865312667023, 'precision': 0.8339552062297584, 'recall': 0.811865312667023, 'f1-score': 0.8120279146250868, 'macro_f1-score': 0.8171987555738665, 'balanced_accuracy': 0.8584182478729101, 'mcc': 0.7779549995170972, 'train_loss': 0.5195267366825286}\n",
      "Epoch 2/20\n"
     ]
    },
    {
     "name": "stderr",
     "output_type": "stream",
     "text": [
      "100%|██████████| 3151/3151 [04:29<00:00, 11.71it/s]\n"
     ]
    },
    {
     "name": "stdout",
     "output_type": "stream",
     "text": [
      "{'val_loss': 0.4688984566599003, 'val_accuracy': 0.845964724746125, 'precision': 0.8518491702508536, 'recall': 0.845964724746125, 'f1-score': 0.845756281325789, 'macro_f1-score': 0.8520504834214231, 'balanced_accuracy': 0.8538742634461386, 'mcc': 0.8130021607720599, 'train_loss': 0.28136080141249903}\n",
      "Epoch 3/20\n"
     ]
    },
    {
     "name": "stderr",
     "output_type": "stream",
     "text": [
      "100%|██████████| 3151/3151 [04:29<00:00, 11.71it/s]\n"
     ]
    },
    {
     "name": "stdout",
     "output_type": "stream",
     "text": [
      "{'val_loss': 0.47838937616150856, 'val_accuracy': 0.8520577231427044, 'precision': 0.8524743626878113, 'recall': 0.8520577231427044, 'f1-score': 0.8516785651767298, 'macro_f1-score': 0.8500258566759933, 'balanced_accuracy': 0.8540991583070683, 'mcc': 0.8180226074000638, 'train_loss': 0.1853698027165848}\n",
      "Epoch 4/20\n"
     ]
    },
    {
     "name": "stderr",
     "output_type": "stream",
     "text": [
      "100%|██████████| 3151/3151 [04:29<00:00, 11.71it/s]\n"
     ]
    },
    {
     "name": "stdout",
     "output_type": "stream",
     "text": [
      "{'val_loss': 0.5673979391268271, 'val_accuracy': 0.8493853554249065, 'precision': 0.8545815100764939, 'recall': 0.8493853554249065, 'f1-score': 0.8497656915727857, 'macro_f1-score': 0.8553660143073682, 'balanced_accuracy': 0.843443816594744, 'mcc': 0.8154339268293768, 'train_loss': 0.12823559759719763}\n",
      "Epoch 5/20\n"
     ]
    },
    {
     "name": "stderr",
     "output_type": "stream",
     "text": [
      "100%|██████████| 3151/3151 [04:29<00:00, 11.71it/s]\n"
     ]
    },
    {
     "name": "stdout",
     "output_type": "stream",
     "text": [
      "{'val_loss': 0.5945817959437179, 'val_accuracy': 0.8510956707642972, 'precision': 0.8520732855481755, 'recall': 0.8510956707642972, 'f1-score': 0.8506955041358304, 'macro_f1-score': 0.84951754872724, 'balanced_accuracy': 0.84958955014949, 'mcc': 0.81672120369152, 'train_loss': 0.09179372937815573}\n",
      "Epoch 6/20\n"
     ]
    },
    {
     "name": "stderr",
     "output_type": "stream",
     "text": [
      "100%|██████████| 3151/3151 [04:28<00:00, 11.71it/s]\n"
     ]
    },
    {
     "name": "stdout",
     "output_type": "stream",
     "text": [
      "{'val_loss': 0.7022223443459544, 'val_accuracy': 0.8481026189203634, 'precision': 0.8501418258469877, 'recall': 0.8481026189203634, 'f1-score': 0.847875888330515, 'macro_f1-score': 0.8501390029556923, 'balanced_accuracy': 0.8593779700258944, 'mcc': 0.8145862317761924, 'train_loss': 0.07460116504846749}\n",
      "Epoch 7/20\n"
     ]
    },
    {
     "name": "stderr",
     "output_type": "stream",
     "text": [
      "100%|██████████| 3151/3151 [04:28<00:00, 11.71it/s]\n"
     ]
    },
    {
     "name": "stdout",
     "output_type": "stream",
     "text": [
      "{'val_loss': 0.64405568295445, 'val_accuracy': 0.851309460181721, 'precision': 0.8517866975000056, 'recall': 0.851309460181721, 'f1-score': 0.8511218805116786, 'macro_f1-score': 0.85422861754184, 'balanced_accuracy': 0.8531555054226243, 'mcc': 0.8170949783504634, 'train_loss': 0.06318395636322827}\n",
      "Early stopping.\n",
      "\n",
      "[Fold 3]\n",
      "Label distribution after resampling:\n",
      "  label 0: 5626\n",
      "  label 1: 5000\n",
      "  label 2: 8442\n",
      "  label 3: 10770\n",
      "  label 4: 5000\n",
      "  label 5: 5578\n",
      "  label 6: 5000\n",
      "  label 7: 5000\n",
      "model is bert-base-uncased cnn\n",
      "Epoch 1/20\n"
     ]
    },
    {
     "name": "stderr",
     "output_type": "stream",
     "text": [
      "100%|██████████| 3151/3151 [04:29<00:00, 11.69it/s]\n"
     ]
    },
    {
     "name": "stdout",
     "output_type": "stream",
     "text": [
      "{'val_loss': 0.4442787648584598, 'val_accuracy': 0.8458413512935643, 'precision': 0.8509367833655581, 'recall': 0.8458413512935643, 'f1-score': 0.8465992096628111, 'macro_f1-score': 0.8379714456010829, 'balanced_accuracy': 0.8628827949508269, 'mcc': 0.8120455605827563, 'train_loss': 0.5246838266671328}\n",
      "Epoch 2/20\n"
     ]
    },
    {
     "name": "stderr",
     "output_type": "stream",
     "text": [
      "100%|██████████| 3151/3151 [04:29<00:00, 11.70it/s]\n"
     ]
    },
    {
     "name": "stdout",
     "output_type": "stream",
     "text": [
      "{'val_loss': 0.44194543013014853, 'val_accuracy': 0.8572803078896729, 'precision': 0.8617643464867608, 'recall': 0.8572803078896729, 'f1-score': 0.8575559231840102, 'macro_f1-score': 0.8498175468732369, 'balanced_accuracy': 0.8762457039193221, 'mcc': 0.8261620295154364, 'train_loss': 0.2863966191376071}\n",
      "Epoch 3/20\n"
     ]
    },
    {
     "name": "stderr",
     "output_type": "stream",
     "text": [
      "100%|██████████| 3151/3151 [04:29<00:00, 11.70it/s]\n"
     ]
    },
    {
     "name": "stdout",
     "output_type": "stream",
     "text": [
      "{'val_loss': 0.4644803148559016, 'val_accuracy': 0.8608082103912764, 'precision': 0.8639978174979142, 'recall': 0.8608082103912764, 'f1-score': 0.8607260477531389, 'macro_f1-score': 0.8560236054264347, 'balanced_accuracy': 0.8610292891126669, 'mcc': 0.8293512527016619, 'train_loss': 0.19296890705728137}\n",
      "Epoch 4/20\n"
     ]
    },
    {
     "name": "stderr",
     "output_type": "stream",
     "text": [
      "100%|██████████| 3151/3151 [04:29<00:00, 11.70it/s]\n"
     ]
    },
    {
     "name": "stdout",
     "output_type": "stream",
     "text": [
      "{'val_loss': 0.4829061318698347, 'val_accuracy': 0.8651913619841779, 'precision': 0.8676607566163156, 'recall': 0.8651913619841779, 'f1-score': 0.8654703879067824, 'macro_f1-score': 0.862866019820717, 'balanced_accuracy': 0.8665295459821614, 'mcc': 0.834960481472341, 'train_loss': 0.1341046992900256}\n",
      "Epoch 5/20\n"
     ]
    },
    {
     "name": "stderr",
     "output_type": "stream",
     "text": [
      "100%|██████████| 3151/3151 [04:29<00:00, 11.70it/s]\n"
     ]
    },
    {
     "name": "stdout",
     "output_type": "stream",
     "text": [
      "{'val_loss': 0.5253302619896001, 'val_accuracy': 0.8540731237973059, 'precision': 0.8572011582002429, 'recall': 0.8540731237973059, 'f1-score': 0.8533208217857353, 'macro_f1-score': 0.8503622859237141, 'balanced_accuracy': 0.8618174788033255, 'mcc': 0.8225588885244248, 'train_loss': 0.10552192151406677}\n",
      "Epoch 6/20\n"
     ]
    },
    {
     "name": "stderr",
     "output_type": "stream",
     "text": [
      "100%|██████████| 3151/3151 [04:29<00:00, 11.70it/s]\n"
     ]
    },
    {
     "name": "stdout",
     "output_type": "stream",
     "text": [
      "{'val_loss': 0.6789095282615322, 'val_accuracy': 0.8588838999358563, 'precision': 0.8616693449569384, 'recall': 0.8588838999358563, 'f1-score': 0.8590267597430059, 'macro_f1-score': 0.8543808588716462, 'balanced_accuracy': 0.8483301014548723, 'mcc': 0.8260659459398613, 'train_loss': 0.07704211346853052}\n",
      "Epoch 7/20\n"
     ]
    },
    {
     "name": "stderr",
     "output_type": "stream",
     "text": [
      "100%|██████████| 3151/3151 [04:29<00:00, 11.70it/s]\n"
     ]
    },
    {
     "name": "stdout",
     "output_type": "stream",
     "text": [
      "{'val_loss': 0.6044242750136898, 'val_accuracy': 0.8596322428907419, 'precision': 0.8617492205479943, 'recall': 0.8596322428907419, 'f1-score': 0.859435924614969, 'macro_f1-score': 0.8545347103490283, 'balanced_accuracy': 0.8629523191938897, 'mcc': 0.8283446161788833, 'train_loss': 0.06984486005188856}\n",
      "Early stopping.\n",
      "\n",
      "[Fold 4]\n",
      "Label distribution after resampling:\n",
      "  label 0: 5625\n",
      "  label 1: 5000\n",
      "  label 2: 8441\n",
      "  label 3: 10771\n",
      "  label 4: 5000\n",
      "  label 5: 5579\n",
      "  label 6: 5000\n",
      "  label 7: 5000\n",
      "model is bert-base-uncased cnn\n",
      "Epoch 1/20\n"
     ]
    },
    {
     "name": "stderr",
     "output_type": "stream",
     "text": [
      "100%|██████████| 3151/3151 [04:29<00:00, 11.71it/s]\n"
     ]
    },
    {
     "name": "stdout",
     "output_type": "stream",
     "text": [
      "{'val_loss': 0.4621471760269159, 'val_accuracy': 0.8430617917468463, 'precision': 0.8488597758615375, 'recall': 0.8430617917468463, 'f1-score': 0.8435803049814704, 'macro_f1-score': 0.8367714066004042, 'balanced_accuracy': 0.8663522154532548, 'mcc': 0.8094668871396731, 'train_loss': 0.5240326360620556}\n",
      "Epoch 2/20\n"
     ]
    },
    {
     "name": "stderr",
     "output_type": "stream",
     "text": [
      "100%|██████████| 3151/3151 [04:29<00:00, 11.70it/s]\n"
     ]
    },
    {
     "name": "stdout",
     "output_type": "stream",
     "text": [
      "{'val_loss': 0.44022314753064995, 'val_accuracy': 0.8573872140260851, 'precision': 0.8580970172682639, 'recall': 0.8573872140260851, 'f1-score': 0.8569488688802469, 'macro_f1-score': 0.854685793569534, 'balanced_accuracy': 0.864231734999312, 'mcc': 0.8252327309969921, 'train_loss': 0.28411312263236704}\n",
      "Epoch 3/20\n"
     ]
    },
    {
     "name": "stderr",
     "output_type": "stream",
     "text": [
      "100%|██████████| 3151/3151 [04:29<00:00, 11.70it/s]\n"
     ]
    },
    {
     "name": "stdout",
     "output_type": "stream",
     "text": [
      "{'val_loss': 0.47441053106330144, 'val_accuracy': 0.8611289288005132, 'precision': 0.8614308326493825, 'recall': 0.8611289288005132, 'f1-score': 0.8608766803105945, 'macro_f1-score': 0.860922272656037, 'balanced_accuracy': 0.8661839784029897, 'mcc': 0.829706138110316, 'train_loss': 0.18779027226477948}\n",
      "Epoch 4/20\n"
     ]
    },
    {
     "name": "stderr",
     "output_type": "stream",
     "text": [
      "100%|██████████| 3151/3151 [04:29<00:00, 11.70it/s]\n"
     ]
    },
    {
     "name": "stdout",
     "output_type": "stream",
     "text": [
      "{'val_loss': 0.5324993781427033, 'val_accuracy': 0.8579217447081462, 'precision': 0.8584932892793627, 'recall': 0.8579217447081462, 'f1-score': 0.8575656754599756, 'macro_f1-score': 0.8594626649601518, 'balanced_accuracy': 0.8489001860007381, 'mcc': 0.8249231543774498, 'train_loss': 0.12685426721179113}\n",
      "Epoch 5/20\n"
     ]
    },
    {
     "name": "stderr",
     "output_type": "stream",
     "text": [
      "100%|██████████| 3151/3151 [04:29<00:00, 11.70it/s]\n"
     ]
    },
    {
     "name": "stdout",
     "output_type": "stream",
     "text": [
      "{'val_loss': 0.5938529811615451, 'val_accuracy': 0.8608082103912764, 'precision': 0.8607274983339358, 'recall': 0.8608082103912764, 'f1-score': 0.860472600976426, 'macro_f1-score': 0.8615031034923553, 'balanced_accuracy': 0.8622762732935295, 'mcc': 0.8290653374321971, 'train_loss': 0.09375695505380116}\n",
      "Epoch 6/20\n"
     ]
    },
    {
     "name": "stderr",
     "output_type": "stream",
     "text": [
      "100%|██████████| 3151/3151 [04:29<00:00, 11.71it/s]\n"
     ]
    },
    {
     "name": "stdout",
     "output_type": "stream",
     "text": [
      "{'val_loss': 0.7326585515706728, 'val_accuracy': 0.856425058798375, 'precision': 0.8612259564477003, 'recall': 0.856425058798375, 'f1-score': 0.8570855759300834, 'macro_f1-score': 0.8603478288284074, 'balanced_accuracy': 0.8562953819605463, 'mcc': 0.8245011992736185, 'train_loss': 0.07624107428160966}\n",
      "Epoch 7/20\n"
     ]
    },
    {
     "name": "stderr",
     "output_type": "stream",
     "text": [
      "100%|██████████| 3151/3151 [04:29<00:00, 11.71it/s]\n"
     ]
    },
    {
     "name": "stdout",
     "output_type": "stream",
     "text": [
      "{'val_loss': 0.6425946051086713, 'val_accuracy': 0.8596322428907419, 'precision': 0.8611570064012446, 'recall': 0.8596322428907419, 'f1-score': 0.859840948854797, 'macro_f1-score': 0.8614706548918974, 'balanced_accuracy': 0.8521197949330196, 'mcc': 0.8269528902681009, 'train_loss': 0.06287206225104014}\n",
      "Epoch 8/20\n"
     ]
    },
    {
     "name": "stderr",
     "output_type": "stream",
     "text": [
      "100%|██████████| 3151/3151 [04:28<00:00, 11.72it/s]\n"
     ]
    },
    {
     "name": "stdout",
     "output_type": "stream",
     "text": [
      "{'val_loss': 0.6841488700341652, 'val_accuracy': 0.8612358349369253, 'precision': 0.8623344966340447, 'recall': 0.8612358349369253, 'f1-score': 0.8614981723734738, 'macro_f1-score': 0.8610662947573442, 'balanced_accuracy': 0.8588717387458863, 'mcc': 0.8290412088019508, 'train_loss': 0.057019222525567216}\n",
      "Early stopping.\n",
      "\n",
      "[Fold 5]\n",
      "Label distribution after resampling:\n",
      "  label 0: 5625\n",
      "  label 1: 5000\n",
      "  label 2: 8441\n",
      "  label 3: 10771\n",
      "  label 4: 5000\n",
      "  label 5: 5579\n",
      "  label 6: 5000\n",
      "  label 7: 5000\n",
      "model is bert-base-uncased cnn\n",
      "Epoch 1/20\n"
     ]
    },
    {
     "name": "stderr",
     "output_type": "stream",
     "text": [
      "100%|██████████| 3151/3151 [04:29<00:00, 11.69it/s]\n"
     ]
    },
    {
     "name": "stdout",
     "output_type": "stream",
     "text": [
      "{'val_loss': 0.4576781707760106, 'val_accuracy': 0.8444515715202052, 'precision': 0.848446922799496, 'recall': 0.8444515715202052, 'f1-score': 0.844839487656209, 'macro_f1-score': 0.8407719377458759, 'balanced_accuracy': 0.8663942783438275, 'mcc': 0.8101216983122498, 'train_loss': 0.5206273579449809}\n",
      "Epoch 2/20\n"
     ]
    },
    {
     "name": "stderr",
     "output_type": "stream",
     "text": [
      "100%|██████████| 3151/3151 [04:29<00:00, 11.70it/s]\n"
     ]
    },
    {
     "name": "stdout",
     "output_type": "stream",
     "text": [
      "{'val_loss': 0.40481731548873534, 'val_accuracy': 0.8679709215308958, 'precision': 0.8707584106668008, 'recall': 0.8679709215308958, 'f1-score': 0.8681735223072312, 'macro_f1-score': 0.8658238360194275, 'balanced_accuracy': 0.8517000194744189, 'mcc': 0.8369677014512141, 'train_loss': 0.28801808989734184}\n",
      "Epoch 3/20\n"
     ]
    },
    {
     "name": "stderr",
     "output_type": "stream",
     "text": [
      "100%|██████████| 3151/3151 [04:29<00:00, 11.69it/s]\n"
     ]
    },
    {
     "name": "stdout",
     "output_type": "stream",
     "text": [
      "{'val_loss': 0.48560894136914073, 'val_accuracy': 0.8520419072054736, 'precision': 0.8567359520358389, 'recall': 0.8520419072054736, 'f1-score': 0.8523574568029783, 'macro_f1-score': 0.8496048809210095, 'balanced_accuracy': 0.8697365720485395, 'mcc': 0.819950978843384, 'train_loss': 0.2002041131667441}\n",
      "Epoch 4/20\n"
     ]
    },
    {
     "name": "stderr",
     "output_type": "stream",
     "text": [
      "100%|██████████| 3151/3151 [04:29<00:00, 11.70it/s]\n"
     ]
    },
    {
     "name": "stdout",
     "output_type": "stream",
     "text": [
      "{'val_loss': 0.574168311810105, 'val_accuracy': 0.84851400470387, 'precision': 0.854527402659181, 'recall': 0.84851400470387, 'f1-score': 0.8495782652126073, 'macro_f1-score': 0.8454838547008855, 'balanced_accuracy': 0.8618995407779959, 'mcc': 0.8145390092939754, 'train_loss': 0.13806930604449616}\n",
      "Epoch 5/20\n"
     ]
    },
    {
     "name": "stderr",
     "output_type": "stream",
     "text": [
      "100%|██████████| 3151/3151 [04:29<00:00, 11.70it/s]\n"
     ]
    },
    {
     "name": "stdout",
     "output_type": "stream",
     "text": [
      "{'val_loss': 0.5523025315564373, 'val_accuracy': 0.8553559974342527, 'precision': 0.8593965602056362, 'recall': 0.8553559974342527, 'f1-score': 0.8552638224757763, 'macro_f1-score': 0.8527915330866443, 'balanced_accuracy': 0.8684307200003984, 'mcc': 0.8240160462540667, 'train_loss': 0.10647794422039061}\n",
      "Early stopping.\n",
      "\n",
      " === bert-base-uncased + cnn + ros Final 5-fold Cross-Validation Results ===\n",
      "val_loss: 0.5181\n",
      "val_accuracy: 0.8631\n",
      "precision: 0.8652\n",
      "recall: 0.8631\n",
      "f1-score: 0.8631\n",
      "macro_f1-score: 0.8633\n",
      "balanced_accuracy: 0.8580\n",
      "mcc: 0.8317\n",
      "train_loss: 0.1446\n",
      "total_seconds: 10517.0000\n",
      "total_time: 2 hrs 55 mins 17 secs\n",
      "▶ Running: bert-base-uncased + lstm + ros\n",
      "tokenizer is bert-base-uncased\n",
      "Using device: cuda\n",
      "CUDA Available: True\n",
      "CUDA Device: NVIDIA GeForce RTX 5070 Ti\n",
      "Current GPU Memory Allocated: 0.02 GB\n",
      "Current GPU Memory Cached: 3.04 GB\n",
      "\n",
      "[Fold 1]\n",
      "Label distribution after resampling:\n",
      "  label 0: 5626\n",
      "  label 1: 5000\n",
      "  label 2: 8442\n",
      "  label 3: 10770\n",
      "  label 4: 5000\n",
      "  label 5: 5578\n",
      "  label 6: 5000\n",
      "  label 7: 5000\n",
      "model is bert-base-uncased lstm\n",
      "Epoch 1/20\n"
     ]
    },
    {
     "name": "stderr",
     "output_type": "stream",
     "text": [
      "100%|██████████| 3151/3151 [04:43<00:00, 11.11it/s]\n"
     ]
    },
    {
     "name": "stdout",
     "output_type": "stream",
     "text": [
      "{'val_loss': 0.44123672929902874, 'val_accuracy': 0.8505611972207375, 'precision': 0.8561657383102382, 'recall': 0.8505611972207375, 'f1-score': 0.8514157596010676, 'macro_f1-score': 0.8463399495831225, 'balanced_accuracy': 0.8576420885534614, 'mcc': 0.8176273811157395, 'train_loss': 0.5218566970421479}\n",
      "Epoch 2/20\n"
     ]
    },
    {
     "name": "stderr",
     "output_type": "stream",
     "text": [
      "100%|██████████| 3151/3151 [04:43<00:00, 11.10it/s]\n"
     ]
    },
    {
     "name": "stdout",
     "output_type": "stream",
     "text": [
      "{'val_loss': 0.4478694186187707, 'val_accuracy': 0.8522715125601282, 'precision': 0.8585984321253165, 'recall': 0.8522715125601282, 'f1-score': 0.8535987925025972, 'macro_f1-score': 0.8439804249148355, 'balanced_accuracy': 0.8607381488890009, 'mcc': 0.8192320159659794, 'train_loss': 0.2861475970144453}\n",
      "Epoch 3/20\n"
     ]
    },
    {
     "name": "stderr",
     "output_type": "stream",
     "text": [
      "100%|██████████| 3151/3151 [04:43<00:00, 11.10it/s]\n"
     ]
    },
    {
     "name": "stdout",
     "output_type": "stream",
     "text": [
      "{'val_loss': 0.42729402635819635, 'val_accuracy': 0.8698022447888829, 'precision': 0.8706118987506541, 'recall': 0.8698022447888829, 'f1-score': 0.8696398056474667, 'macro_f1-score': 0.863900655902063, 'balanced_accuracy': 0.8542079859811308, 'mcc': 0.8394229892529109, 'train_loss': 0.19705576878304082}\n",
      "Epoch 4/20\n"
     ]
    },
    {
     "name": "stderr",
     "output_type": "stream",
     "text": [
      "100%|██████████| 3151/3151 [04:43<00:00, 11.10it/s]\n"
     ]
    },
    {
     "name": "stdout",
     "output_type": "stream",
     "text": [
      "{'val_loss': 0.4965536510476317, 'val_accuracy': 0.8642437199358631, 'precision': 0.8653340086441713, 'recall': 0.8642437199358631, 'f1-score': 0.8643795980773439, 'macro_f1-score': 0.8594450894365651, 'balanced_accuracy': 0.8674411823026206, 'mcc': 0.8331739706390727, 'train_loss': 0.13876652286510047}\n",
      "Epoch 5/20\n"
     ]
    },
    {
     "name": "stderr",
     "output_type": "stream",
     "text": [
      "100%|██████████| 3151/3151 [04:43<00:00, 11.11it/s]\n"
     ]
    },
    {
     "name": "stdout",
     "output_type": "stream",
     "text": [
      "{'val_loss': 0.531445451427856, 'val_accuracy': 0.8656333511491181, 'precision': 0.8659568947018232, 'recall': 0.8656333511491181, 'f1-score': 0.865530160560375, 'macro_f1-score': 0.8593809656354987, 'balanced_accuracy': 0.8630939358911672, 'mcc': 0.8350490207352493, 'train_loss': 0.10738678157655566}\n",
      "Epoch 6/20\n"
     ]
    },
    {
     "name": "stderr",
     "output_type": "stream",
     "text": [
      "100%|██████████| 3151/3151 [04:43<00:00, 11.11it/s]\n"
     ]
    },
    {
     "name": "stdout",
     "output_type": "stream",
     "text": [
      "{'val_loss': 0.6616117701441862, 'val_accuracy': 0.8555852485301978, 'precision': 0.8602295916335051, 'recall': 0.8555852485301978, 'f1-score': 0.8562337323946554, 'macro_f1-score': 0.8515886529688408, 'balanced_accuracy': 0.8475883992390376, 'mcc': 0.822370233394718, 'train_loss': 0.08466376654242329}\n",
      "Early stopping.\n",
      "\n",
      "[Fold 2]\n",
      "Label distribution after resampling:\n",
      "  label 0: 5626\n",
      "  label 1: 5000\n",
      "  label 2: 8442\n",
      "  label 3: 10770\n",
      "  label 4: 5000\n",
      "  label 5: 5578\n",
      "  label 6: 5000\n",
      "  label 7: 5000\n",
      "model is bert-base-uncased lstm\n",
      "Epoch 1/20\n"
     ]
    },
    {
     "name": "stderr",
     "output_type": "stream",
     "text": [
      "100%|██████████| 3151/3151 [04:43<00:00, 11.12it/s]\n"
     ]
    },
    {
     "name": "stdout",
     "output_type": "stream",
     "text": [
      "{'val_loss': 0.45837017090784177, 'val_accuracy': 0.846071619454837, 'precision': 0.8490501638529343, 'recall': 0.846071619454837, 'f1-score': 0.8464840517166714, 'macro_f1-score': 0.8467823637465617, 'balanced_accuracy': 0.8467477586732512, 'mcc': 0.8104650443208821, 'train_loss': 0.5347363170453884}\n",
      "Epoch 2/20\n"
     ]
    },
    {
     "name": "stderr",
     "output_type": "stream",
     "text": [
      "100%|██████████| 3151/3151 [04:43<00:00, 11.10it/s]\n"
     ]
    },
    {
     "name": "stdout",
     "output_type": "stream",
     "text": [
      "{'val_loss': 0.5333503804273075, 'val_accuracy': 0.8285408872260823, 'precision': 0.8410708925608996, 'recall': 0.8285408872260823, 'f1-score': 0.8297269842819754, 'macro_f1-score': 0.8206358012826933, 'balanced_accuracy': 0.8663818263831629, 'mcc': 0.7938355040481958, 'train_loss': 0.29154255708531185}\n",
      "Epoch 3/20\n"
     ]
    },
    {
     "name": "stderr",
     "output_type": "stream",
     "text": [
      "100%|██████████| 3151/3151 [04:43<00:00, 11.10it/s]\n"
     ]
    },
    {
     "name": "stdout",
     "output_type": "stream",
     "text": [
      "{'val_loss': 0.47918686010023087, 'val_accuracy': 0.8548369855692143, 'precision': 0.8558952080300418, 'recall': 0.8548369855692143, 'f1-score': 0.8546673459488519, 'macro_f1-score': 0.8551777690218642, 'balanced_accuracy': 0.8556855964058285, 'mcc': 0.8216953426670882, 'train_loss': 0.19908246855889614}\n",
      "Epoch 4/20\n"
     ]
    },
    {
     "name": "stderr",
     "output_type": "stream",
     "text": [
      "100%|██████████| 3151/3151 [04:43<00:00, 11.10it/s]\n"
     ]
    },
    {
     "name": "stdout",
     "output_type": "stream",
     "text": [
      "{'val_loss': 0.538954902603092, 'val_accuracy': 0.8522715125601282, 'precision': 0.8541457332955807, 'recall': 0.8522715125601282, 'f1-score': 0.8522825556559926, 'macro_f1-score': 0.8475940731390386, 'balanced_accuracy': 0.8667757452565615, 'mcc': 0.8196837961954204, 'train_loss': 0.14387682044815941}\n",
      "Epoch 5/20\n"
     ]
    },
    {
     "name": "stderr",
     "output_type": "stream",
     "text": [
      "100%|██████████| 3151/3151 [04:44<00:00, 11.09it/s]\n"
     ]
    },
    {
     "name": "stdout",
     "output_type": "stream",
     "text": [
      "{'val_loss': 0.5844237838445916, 'val_accuracy': 0.8472474612506681, 'precision': 0.8481474542366353, 'recall': 0.8472474612506681, 'f1-score': 0.8462327965474594, 'macro_f1-score': 0.8460789426792992, 'balanced_accuracy': 0.8446715697487239, 'mcc': 0.812740725840432, 'train_loss': 0.10918483573125255}\n",
      "Epoch 6/20\n"
     ]
    },
    {
     "name": "stderr",
     "output_type": "stream",
     "text": [
      "100%|██████████| 3151/3151 [04:43<00:00, 11.10it/s]\n"
     ]
    },
    {
     "name": "stdout",
     "output_type": "stream",
     "text": [
      "{'val_loss': 0.6293983545990135, 'val_accuracy': 0.8477819347942277, 'precision': 0.8494618044152046, 'recall': 0.8477819347942277, 'f1-score': 0.8476756114638586, 'macro_f1-score': 0.8489549439558726, 'balanced_accuracy': 0.8408055665225744, 'mcc': 0.8128945340185086, 'train_loss': 0.09346296154118153}\n",
      "Early stopping.\n",
      "\n",
      "[Fold 3]\n",
      "Label distribution after resampling:\n",
      "  label 0: 5626\n",
      "  label 1: 5000\n",
      "  label 2: 8442\n",
      "  label 3: 10770\n",
      "  label 4: 5000\n",
      "  label 5: 5578\n",
      "  label 6: 5000\n",
      "  label 7: 5000\n",
      "model is bert-base-uncased lstm\n",
      "Epoch 1/20\n"
     ]
    },
    {
     "name": "stderr",
     "output_type": "stream",
     "text": [
      "100%|██████████| 3151/3151 [04:43<00:00, 11.10it/s]\n"
     ]
    },
    {
     "name": "stdout",
     "output_type": "stream",
     "text": [
      "{'val_loss': 0.4356003736392555, 'val_accuracy': 0.8491554415223433, 'precision': 0.8523004548927027, 'recall': 0.8491554415223433, 'f1-score': 0.8489537622443059, 'macro_f1-score': 0.84268949737089, 'balanced_accuracy': 0.8637581072608458, 'mcc': 0.815762475823611, 'train_loss': 0.5254784759461539}\n",
      "Epoch 2/20\n"
     ]
    },
    {
     "name": "stderr",
     "output_type": "stream",
     "text": [
      "100%|██████████| 3151/3151 [04:43<00:00, 11.13it/s]\n"
     ]
    },
    {
     "name": "stdout",
     "output_type": "stream",
     "text": [
      "{'val_loss': 0.4662023461877536, 'val_accuracy': 0.8514004703870002, 'precision': 0.8551036615146389, 'recall': 0.8514004703870002, 'f1-score': 0.8506075507956737, 'macro_f1-score': 0.854578959598113, 'balanced_accuracy': 0.8568258679247999, 'mcc': 0.8194250071628596, 'train_loss': 0.2850707890003298}\n",
      "Epoch 3/20\n"
     ]
    },
    {
     "name": "stderr",
     "output_type": "stream",
     "text": [
      "100%|██████████| 3151/3151 [04:43<00:00, 11.11it/s]\n"
     ]
    },
    {
     "name": "stdout",
     "output_type": "stream",
     "text": [
      "{'val_loss': 0.4645495961746599, 'val_accuracy': 0.8658327988026513, 'precision': 0.8680635841662709, 'recall': 0.8658327988026513, 'f1-score': 0.8657349683015004, 'macro_f1-score': 0.861536809318521, 'balanced_accuracy': 0.8636289431536504, 'mcc': 0.8354178060431247, 'train_loss': 0.198665708113256}\n",
      "Epoch 4/20\n"
     ]
    },
    {
     "name": "stderr",
     "output_type": "stream",
     "text": [
      "100%|██████████| 3151/3151 [04:43<00:00, 11.10it/s]\n"
     ]
    },
    {
     "name": "stdout",
     "output_type": "stream",
     "text": [
      "{'val_loss': 0.480963603575897, 'val_accuracy': 0.8674363908488347, 'precision': 0.8692214236883168, 'recall': 0.8674363908488347, 'f1-score': 0.8676152144794038, 'macro_f1-score': 0.8659461733631383, 'balanced_accuracy': 0.8563025737088739, 'mcc': 0.8369302619091495, 'train_loss': 0.1430321782582059}\n",
      "Epoch 5/20\n"
     ]
    },
    {
     "name": "stderr",
     "output_type": "stream",
     "text": [
      "100%|██████████| 3151/3151 [04:43<00:00, 11.10it/s]\n"
     ]
    },
    {
     "name": "stdout",
     "output_type": "stream",
     "text": [
      "{'val_loss': 0.5295716961853716, 'val_accuracy': 0.8660466110754758, 'precision': 0.8659590454831207, 'recall': 0.8660466110754758, 'f1-score': 0.8657122424130045, 'macro_f1-score': 0.8618316240261062, 'balanced_accuracy': 0.8545137967359873, 'mcc': 0.8348998820403714, 'train_loss': 0.10783230676518925}\n",
      "Epoch 6/20\n"
     ]
    },
    {
     "name": "stderr",
     "output_type": "stream",
     "text": [
      "100%|██████████| 3151/3151 [04:43<00:00, 11.10it/s]\n"
     ]
    },
    {
     "name": "stdout",
     "output_type": "stream",
     "text": [
      "{'val_loss': 0.6114533383626108, 'val_accuracy': 0.8588838999358563, 'precision': 0.8594318154998709, 'recall': 0.8588838999358563, 'f1-score': 0.85882767550085, 'macro_f1-score': 0.8579611077771996, 'balanced_accuracy': 0.8488577512580044, 'mcc': 0.8258134655697481, 'train_loss': 0.08594324359123044}\n",
      "Epoch 7/20\n"
     ]
    },
    {
     "name": "stderr",
     "output_type": "stream",
     "text": [
      "100%|██████████| 3151/3151 [04:43<00:00, 11.11it/s]\n"
     ]
    },
    {
     "name": "stdout",
     "output_type": "stream",
     "text": [
      "{'val_loss': 0.5872251777322645, 'val_accuracy': 0.8599529612999787, 'precision': 0.8621578805295349, 'recall': 0.8599529612999787, 'f1-score': 0.8596095547210727, 'macro_f1-score': 0.858177964873889, 'balanced_accuracy': 0.8485874618932167, 'mcc': 0.8276129084369578, 'train_loss': 0.07603014849310845}\n",
      "Early stopping.\n",
      "\n",
      "[Fold 4]\n",
      "Label distribution after resampling:\n",
      "  label 0: 5625\n",
      "  label 1: 5000\n",
      "  label 2: 8441\n",
      "  label 3: 10771\n",
      "  label 4: 5000\n",
      "  label 5: 5579\n",
      "  label 6: 5000\n",
      "  label 7: 5000\n",
      "model is bert-base-uncased lstm\n",
      "Epoch 1/20\n"
     ]
    },
    {
     "name": "stderr",
     "output_type": "stream",
     "text": [
      "100%|██████████| 3151/3151 [04:43<00:00, 11.11it/s]\n"
     ]
    },
    {
     "name": "stdout",
     "output_type": "stream",
     "text": [
      "{'val_loss': 0.44574502762247864, 'val_accuracy': 0.8476587556125722, 'precision': 0.8517118792141762, 'recall': 0.8476587556125722, 'f1-score': 0.8481578480471867, 'macro_f1-score': 0.8438092676313396, 'balanced_accuracy': 0.8596408184397837, 'mcc': 0.8136104029966522, 'train_loss': 0.5327061242688481}\n",
      "Epoch 2/20\n"
     ]
    },
    {
     "name": "stderr",
     "output_type": "stream",
     "text": [
      "100%|██████████| 3151/3151 [04:43<00:00, 11.11it/s]\n"
     ]
    },
    {
     "name": "stdout",
     "output_type": "stream",
     "text": [
      "{'val_loss': 0.5086913315857896, 'val_accuracy': 0.8450930083386786, 'precision': 0.8505987583433325, 'recall': 0.8450930083386786, 'f1-score': 0.8456311448719246, 'macro_f1-score': 0.8432742750782289, 'balanced_accuracy': 0.8521804748950789, 'mcc': 0.8097967864143945, 'train_loss': 0.28278254093829885}\n",
      "Epoch 3/20\n"
     ]
    },
    {
     "name": "stderr",
     "output_type": "stream",
     "text": [
      "100%|██████████| 3151/3151 [04:43<00:00, 11.10it/s]\n"
     ]
    },
    {
     "name": "stdout",
     "output_type": "stream",
     "text": [
      "{'val_loss': 0.4758970310195134, 'val_accuracy': 0.8604874919820398, 'precision': 0.8625226771236914, 'recall': 0.8604874919820398, 'f1-score': 0.860930394944317, 'macro_f1-score': 0.8592562428971968, 'balanced_accuracy': 0.8592933447075022, 'mcc': 0.8283195371660453, 'train_loss': 0.19520512166938747}\n",
      "Epoch 4/20\n"
     ]
    },
    {
     "name": "stderr",
     "output_type": "stream",
     "text": [
      "100%|██████████| 3151/3151 [04:43<00:00, 11.11it/s]\n"
     ]
    },
    {
     "name": "stdout",
     "output_type": "stream",
     "text": [
      "{'val_loss': 0.5594846279551394, 'val_accuracy': 0.8412443874278384, 'precision': 0.8490669156859124, 'recall': 0.8412443874278384, 'f1-score': 0.8418620472304355, 'macro_f1-score': 0.8381177052845294, 'balanced_accuracy': 0.8642407000575694, 'mcc': 0.8075867555556933, 'train_loss': 0.13569201352241736}\n",
      "Epoch 5/20\n"
     ]
    },
    {
     "name": "stderr",
     "output_type": "stream",
     "text": [
      "100%|██████████| 3151/3151 [04:43<00:00, 11.10it/s]\n"
     ]
    },
    {
     "name": "stdout",
     "output_type": "stream",
     "text": [
      "{'val_loss': 0.5334047425641781, 'val_accuracy': 0.8555698097070772, 'precision': 0.8575488528369247, 'recall': 0.8555698097070772, 'f1-score': 0.8557223909979228, 'macro_f1-score': 0.8569007331158129, 'balanced_accuracy': 0.8496323637821025, 'mcc': 0.8225711071782498, 'train_loss': 0.10192245470136918}\n",
      "Epoch 6/20\n"
     ]
    },
    {
     "name": "stderr",
     "output_type": "stream",
     "text": [
      "100%|██████████| 3151/3151 [04:43<00:00, 11.11it/s]\n"
     ]
    },
    {
     "name": "stdout",
     "output_type": "stream",
     "text": [
      "{'val_loss': 0.6513307059502118, 'val_accuracy': 0.8510797519777635, 'precision': 0.8533211331481982, 'recall': 0.8510797519777635, 'f1-score': 0.8505143520307723, 'macro_f1-score': 0.8530363138202974, 'balanced_accuracy': 0.8499549935941881, 'mcc': 0.8177530990407605, 'train_loss': 0.08077875090405635}\n",
      "Early stopping.\n",
      "\n",
      "[Fold 5]\n",
      "Label distribution after resampling:\n",
      "  label 0: 5625\n",
      "  label 1: 5000\n",
      "  label 2: 8441\n",
      "  label 3: 10771\n",
      "  label 4: 5000\n",
      "  label 5: 5579\n",
      "  label 6: 5000\n",
      "  label 7: 5000\n",
      "model is bert-base-uncased lstm\n",
      "Epoch 1/20\n"
     ]
    },
    {
     "name": "stderr",
     "output_type": "stream",
     "text": [
      "100%|██████████| 3151/3151 [04:43<00:00, 11.12it/s]\n"
     ]
    },
    {
     "name": "stdout",
     "output_type": "stream",
     "text": [
      "{'val_loss': 0.4300763703532453, 'val_accuracy': 0.853645499251657, 'precision': 0.856260726739395, 'recall': 0.853645499251657, 'f1-score': 0.8541090371885802, 'macro_f1-score': 0.8508331434893559, 'balanced_accuracy': 0.8666027980981283, 'mcc': 0.8205404994133116, 'train_loss': 0.513750636704817}\n",
      "Epoch 2/20\n"
     ]
    },
    {
     "name": "stderr",
     "output_type": "stream",
     "text": [
      "100%|██████████| 3151/3151 [04:43<00:00, 11.10it/s]\n"
     ]
    },
    {
     "name": "stdout",
     "output_type": "stream",
     "text": [
      "{'val_loss': 0.4471400442549115, 'val_accuracy': 0.8555698097070772, 'precision': 0.8580809690777492, 'recall': 0.8555698097070772, 'f1-score': 0.8554242496183991, 'macro_f1-score': 0.8534283512352251, 'balanced_accuracy': 0.8574782910836366, 'mcc': 0.8234347075756188, 'train_loss': 0.28136562500018963}\n",
      "Epoch 3/20\n"
     ]
    },
    {
     "name": "stderr",
     "output_type": "stream",
     "text": [
      "100%|██████████| 3151/3151 [04:43<00:00, 11.11it/s]\n"
     ]
    },
    {
     "name": "stdout",
     "output_type": "stream",
     "text": [
      "{'val_loss': 0.47009316297709686, 'val_accuracy': 0.8555698097070772, 'precision': 0.8582811503405082, 'recall': 0.8555698097070772, 'f1-score': 0.8559514901615094, 'macro_f1-score': 0.854032369172716, 'balanced_accuracy': 0.8658274390561043, 'mcc': 0.8232716346609664, 'train_loss': 0.19255776341661093}\n",
      "Epoch 4/20\n"
     ]
    },
    {
     "name": "stderr",
     "output_type": "stream",
     "text": [
      "100%|██████████| 3151/3151 [04:43<00:00, 11.10it/s]\n"
     ]
    },
    {
     "name": "stdout",
     "output_type": "stream",
     "text": [
      "{'val_loss': 0.5110720467108947, 'val_accuracy': 0.8574941201624974, 'precision': 0.8582517466766332, 'recall': 0.8574941201624974, 'f1-score': 0.8572226164387392, 'macro_f1-score': 0.8577759387125118, 'balanced_accuracy': 0.8616913820841595, 'mcc': 0.8254272048007408, 'train_loss': 0.13975716863628224}\n",
      "Epoch 5/20\n"
     ]
    },
    {
     "name": "stderr",
     "output_type": "stream",
     "text": [
      "100%|██████████| 3151/3151 [04:43<00:00, 11.11it/s]\n"
     ]
    },
    {
     "name": "stdout",
     "output_type": "stream",
     "text": [
      "{'val_loss': 0.6428608659059845, 'val_accuracy': 0.858776993799444, 'precision': 0.8618017694103669, 'recall': 0.858776993799444, 'f1-score': 0.8588532578558145, 'macro_f1-score': 0.8592206877050028, 'balanced_accuracy': 0.861769169541171, 'mcc': 0.8263807557267775, 'train_loss': 0.10678402240181496}\n",
      "Epoch 6/20\n"
     ]
    },
    {
     "name": "stderr",
     "output_type": "stream",
     "text": [
      "100%|██████████| 3151/3151 [04:43<00:00, 11.10it/s]\n"
     ]
    },
    {
     "name": "stdout",
     "output_type": "stream",
     "text": [
      "{'val_loss': 0.6640912824835724, 'val_accuracy': 0.8491554415223433, 'precision': 0.8516537164681328, 'recall': 0.8491554415223433, 'f1-score': 0.8492897756043007, 'macro_f1-score': 0.8489905311208505, 'balanced_accuracy': 0.8606996577975501, 'mcc': 0.8157236795171319, 'train_loss': 0.08512825454635205}\n",
      "Epoch 7/20\n"
     ]
    },
    {
     "name": "stderr",
     "output_type": "stream",
     "text": [
      "100%|██████████| 3151/3151 [04:43<00:00, 11.11it/s]\n"
     ]
    },
    {
     "name": "stdout",
     "output_type": "stream",
     "text": [
      "{'val_loss': 0.6387254444120102, 'val_accuracy': 0.8620910840282232, 'precision': 0.8639346047527569, 'recall': 0.8620910840282232, 'f1-score': 0.8624227299348998, 'macro_f1-score': 0.860655317471176, 'balanced_accuracy': 0.8545822376488806, 'mcc': 0.8300690144611345, 'train_loss': 0.07091226302727868}\n",
      "Epoch 8/20\n"
     ]
    },
    {
     "name": "stderr",
     "output_type": "stream",
     "text": [
      "100%|██████████| 3151/3151 [04:43<00:00, 11.10it/s]\n"
     ]
    },
    {
     "name": "stdout",
     "output_type": "stream",
     "text": [
      "{'val_loss': 0.6433738698167966, 'val_accuracy': 0.8528971562967714, 'precision': 0.8556887879903776, 'recall': 0.8528971562967714, 'f1-score': 0.8530821890899295, 'macro_f1-score': 0.8546641888140832, 'balanced_accuracy': 0.8534339297086176, 'mcc': 0.8197606608358718, 'train_loss': 0.0679936409608215}\n",
      "Epoch 9/20\n"
     ]
    },
    {
     "name": "stderr",
     "output_type": "stream",
     "text": [
      "100%|██████████| 3151/3151 [04:43<00:00, 11.11it/s]\n"
     ]
    },
    {
     "name": "stdout",
     "output_type": "stream",
     "text": [
      "{'val_loss': 0.7111473703251467, 'val_accuracy': 0.8521488133418859, 'precision': 0.8536175198154506, 'recall': 0.8521488133418859, 'f1-score': 0.8522937013366022, 'macro_f1-score': 0.8494402854440486, 'balanced_accuracy': 0.8538375976040299, 'mcc': 0.8184743721610913, 'train_loss': 0.061671787172737545}\n",
      "Epoch 10/20\n"
     ]
    },
    {
     "name": "stderr",
     "output_type": "stream",
     "text": [
      "100%|██████████| 3151/3151 [04:43<00:00, 11.10it/s]\n"
     ]
    },
    {
     "name": "stdout",
     "output_type": "stream",
     "text": [
      "{'val_loss': 0.6930027970807372, 'val_accuracy': 0.8540731237973059, 'precision': 0.8559439902722242, 'recall': 0.8540731237973059, 'f1-score': 0.8545773245249, 'macro_f1-score': 0.8521023342140359, 'balanced_accuracy': 0.8525546703392191, 'mcc': 0.8204277021153189, 'train_loss': 0.051863875318883056}\n",
      "Early stopping.\n",
      "\n",
      " === bert-base-uncased + lstm + ros Final 5-fold Cross-Validation Results ===\n",
      "val_loss: 0.5004\n",
      "val_accuracy: 0.8629\n",
      "precision: 0.8644\n",
      "recall: 0.8629\n",
      "f1-score: 0.8631\n",
      "macro_f1-score: 0.8610\n",
      "balanced_accuracy: 0.8560\n",
      "mcc: 0.8313\n",
      "train_loss: 0.1611\n",
      "total_seconds: 10766.0000\n",
      "total_time: 2 hrs 59 mins 26 secs\n",
      "▶ Running: bert-base-uncased + bilstm + ros\n",
      "tokenizer is bert-base-uncased\n",
      "Using device: cuda\n",
      "CUDA Available: True\n",
      "CUDA Device: NVIDIA GeForce RTX 5070 Ti\n",
      "Current GPU Memory Allocated: 0.02 GB\n",
      "Current GPU Memory Cached: 3.14 GB\n",
      "\n",
      "[Fold 1]\n",
      "Label distribution after resampling:\n",
      "  label 0: 5626\n",
      "  label 1: 5000\n",
      "  label 2: 8442\n",
      "  label 3: 10770\n",
      "  label 4: 5000\n",
      "  label 5: 5578\n",
      "  label 6: 5000\n",
      "  label 7: 5000\n",
      "model is bert-base-uncased bilstm\n",
      "Epoch 1/20\n"
     ]
    },
    {
     "name": "stderr",
     "output_type": "stream",
     "text": [
      "100%|██████████| 3151/3151 [04:52<00:00, 10.76it/s]\n"
     ]
    },
    {
     "name": "stdout",
     "output_type": "stream",
     "text": [
      "{'val_loss': 0.4285744480725028, 'val_accuracy': 0.8560128273650455, 'precision': 0.8597372256158965, 'recall': 0.8560128273650455, 'f1-score': 0.8559933344930906, 'macro_f1-score': 0.8566615411358655, 'balanced_accuracy': 0.8638698672929058, 'mcc': 0.82423792312612, 'train_loss': 0.5234616054313612}\n",
      "Epoch 2/20\n"
     ]
    },
    {
     "name": "stderr",
     "output_type": "stream",
     "text": [
      "100%|██████████| 3151/3151 [04:52<00:00, 10.78it/s]\n"
     ]
    },
    {
     "name": "stdout",
     "output_type": "stream",
     "text": [
      "{'val_loss': 0.42035862027516224, 'val_accuracy': 0.860609299839658, 'precision': 0.8625206942133792, 'recall': 0.860609299839658, 'f1-score': 0.8605167337914059, 'macro_f1-score': 0.8567441213063722, 'balanced_accuracy': 0.8669607129111606, 'mcc': 0.829803357358005, 'train_loss': 0.2816182441460586}\n",
      "Epoch 3/20\n"
     ]
    },
    {
     "name": "stderr",
     "output_type": "stream",
     "text": [
      "100%|██████████| 3151/3151 [04:52<00:00, 10.78it/s]\n"
     ]
    },
    {
     "name": "stdout",
     "output_type": "stream",
     "text": [
      "{'val_loss': 0.5065587744928706, 'val_accuracy': 0.8597541421699626, 'precision': 0.863731159278526, 'recall': 0.8597541421699626, 'f1-score': 0.860518402201512, 'macro_f1-score': 0.8535137550168321, 'balanced_accuracy': 0.8663555991282486, 'mcc': 0.8282972469292122, 'train_loss': 0.1893326943734042}\n",
      "Epoch 4/20\n"
     ]
    },
    {
     "name": "stderr",
     "output_type": "stream",
     "text": [
      "100%|██████████| 3151/3151 [04:52<00:00, 10.77it/s]\n"
     ]
    },
    {
     "name": "stdout",
     "output_type": "stream",
     "text": [
      "{'val_loss': 0.48402465536203393, 'val_accuracy': 0.8588989845002672, 'precision': 0.8623423639406387, 'recall': 0.8588989845002672, 'f1-score': 0.8593127410394831, 'macro_f1-score': 0.8539822841387859, 'balanced_accuracy': 0.8573976797938065, 'mcc': 0.826548580681354, 'train_loss': 0.13517771345419588}\n",
      "Epoch 5/20\n"
     ]
    },
    {
     "name": "stderr",
     "output_type": "stream",
     "text": [
      "100%|██████████| 3151/3151 [04:52<00:00, 10.78it/s]\n"
     ]
    },
    {
     "name": "stdout",
     "output_type": "stream",
     "text": [
      "{'val_loss': 0.5470176515280882, 'val_accuracy': 0.8646712987707108, 'precision': 0.8655787454807943, 'recall': 0.8646712987707108, 'f1-score': 0.8648215361990573, 'macro_f1-score': 0.8634393423330881, 'balanced_accuracy': 0.8560194851934742, 'mcc': 0.8331851763862328, 'train_loss': 0.09975249858708891}\n",
      "Epoch 6/20\n"
     ]
    },
    {
     "name": "stderr",
     "output_type": "stream",
     "text": [
      "100%|██████████| 3151/3151 [04:52<00:00, 10.78it/s]\n"
     ]
    },
    {
     "name": "stdout",
     "output_type": "stream",
     "text": [
      "{'val_loss': 0.6337952775713533, 'val_accuracy': 0.8581507215392838, 'precision': 0.8607969381720417, 'recall': 0.8581507215392838, 'f1-score': 0.8584285448513621, 'macro_f1-score': 0.8568953538531683, 'balanced_accuracy': 0.8581442480960251, 'mcc': 0.8255944791087676, 'train_loss': 0.08387784409272164}\n",
      "Epoch 7/20\n"
     ]
    },
    {
     "name": "stderr",
     "output_type": "stream",
     "text": [
      "100%|██████████| 3151/3151 [04:52<00:00, 10.78it/s]\n"
     ]
    },
    {
     "name": "stdout",
     "output_type": "stream",
     "text": [
      "{'val_loss': 0.5748693260678656, 'val_accuracy': 0.8557990379476216, 'precision': 0.8568191353075284, 'recall': 0.8557990379476216, 'f1-score': 0.8559467603284072, 'macro_f1-score': 0.8511074194400648, 'balanced_accuracy': 0.8612718540095324, 'mcc': 0.8232646114547925, 'train_loss': 0.06669977634337337}\n",
      "Epoch 8/20\n"
     ]
    },
    {
     "name": "stderr",
     "output_type": "stream",
     "text": [
      "100%|██████████| 3151/3151 [04:52<00:00, 10.79it/s]\n"
     ]
    },
    {
     "name": "stdout",
     "output_type": "stream",
     "text": [
      "{'val_loss': 0.6713179668976774, 'val_accuracy': 0.864457509353287, 'precision': 0.8670734968383967, 'recall': 0.864457509353287, 'f1-score': 0.864592933769188, 'macro_f1-score': 0.8641459193872738, 'balanced_accuracy': 0.8513920841932741, 'mcc': 0.8328936564499854, 'train_loss': 0.06333812917103138}\n",
      "Epoch 9/20\n"
     ]
    },
    {
     "name": "stderr",
     "output_type": "stream",
     "text": [
      "100%|██████████| 3151/3151 [04:52<00:00, 10.78it/s]\n"
     ]
    },
    {
     "name": "stdout",
     "output_type": "stream",
     "text": [
      "{'val_loss': 0.6051876058599028, 'val_accuracy': 0.8662747194013897, 'precision': 0.8674356137472441, 'recall': 0.8662747194013897, 'f1-score': 0.8663873977347479, 'macro_f1-score': 0.8673971771656975, 'balanced_accuracy': 0.8674362856232453, 'mcc': 0.8357317204980899, 'train_loss': 0.05415790726265235}\n",
      "Epoch 10/20\n"
     ]
    },
    {
     "name": "stderr",
     "output_type": "stream",
     "text": [
      "100%|██████████| 3151/3151 [04:52<00:00, 10.77it/s]\n"
     ]
    },
    {
     "name": "stdout",
     "output_type": "stream",
     "text": [
      "{'val_loss': 0.6598068822930472, 'val_accuracy': 0.8680919294494922, 'precision': 0.870268643041991, 'recall': 0.8680919294494922, 'f1-score': 0.8685197802915963, 'macro_f1-score': 0.8667113647758355, 'balanced_accuracy': 0.8617359265217935, 'mcc': 0.8376833801012652, 'train_loss': 0.053101588826938655}\n",
      "Epoch 11/20\n"
     ]
    },
    {
     "name": "stderr",
     "output_type": "stream",
     "text": [
      "100%|██████████| 3151/3151 [04:52<00:00, 10.76it/s]\n"
     ]
    },
    {
     "name": "stdout",
     "output_type": "stream",
     "text": [
      "{'val_loss': 0.6717861855458309, 'val_accuracy': 0.8669160876536611, 'precision': 0.8680580297288981, 'recall': 0.8669160876536611, 'f1-score': 0.8671370545269712, 'macro_f1-score': 0.8657221451016035, 'balanced_accuracy': 0.8588852069674848, 'mcc': 0.8362453565158824, 'train_loss': 0.046187080197106906}\n",
      "Epoch 12/20\n"
     ]
    },
    {
     "name": "stderr",
     "output_type": "stream",
     "text": [
      "100%|██████████| 3151/3151 [04:52<00:00, 10.76it/s]\n"
     ]
    },
    {
     "name": "stdout",
     "output_type": "stream",
     "text": [
      "{'val_loss': 0.6534301088264204, 'val_accuracy': 0.8638161411010155, 'precision': 0.864806623194105, 'recall': 0.8638161411010155, 'f1-score': 0.864088671706595, 'macro_f1-score': 0.8624060111547862, 'balanced_accuracy': 0.8567334583586326, 'mcc': 0.8322792193203641, 'train_loss': 0.047083595805070745}\n",
      "Early stopping.\n",
      "\n",
      "[Fold 2]\n",
      "Label distribution after resampling:\n",
      "  label 0: 5626\n",
      "  label 1: 5000\n",
      "  label 2: 8442\n",
      "  label 3: 10770\n",
      "  label 4: 5000\n",
      "  label 5: 5578\n",
      "  label 6: 5000\n",
      "  label 7: 5000\n",
      "model is bert-base-uncased bilstm\n",
      "Epoch 1/20\n"
     ]
    },
    {
     "name": "stderr",
     "output_type": "stream",
     "text": [
      "100%|██████████| 3151/3151 [04:52<00:00, 10.78it/s]\n"
     ]
    },
    {
     "name": "stdout",
     "output_type": "stream",
     "text": [
      "{'val_loss': 0.5340319514529318, 'val_accuracy': 0.8230892570817745, 'precision': 0.8390539708449086, 'recall': 0.8230892570817745, 'f1-score': 0.8252260698129811, 'macro_f1-score': 0.8140934701857435, 'balanced_accuracy': 0.8652115647235126, 'mcc': 0.7875136378119703, 'train_loss': 0.5190886662382147}\n",
      "Epoch 2/20\n"
     ]
    },
    {
     "name": "stderr",
     "output_type": "stream",
     "text": [
      "100%|██████████| 3151/3151 [04:52<00:00, 10.78it/s]\n"
     ]
    },
    {
     "name": "stdout",
     "output_type": "stream",
     "text": [
      "{'val_loss': 0.45567659334812916, 'val_accuracy': 0.8419027258150722, 'precision': 0.8459025618836993, 'recall': 0.8419027258150722, 'f1-score': 0.8411717696199843, 'macro_f1-score': 0.8461734165960978, 'balanced_accuracy': 0.8550781879178134, 'mcc': 0.8080011954572303, 'train_loss': 0.2761257176681459}\n",
      "Epoch 3/20\n"
     ]
    },
    {
     "name": "stderr",
     "output_type": "stream",
     "text": [
      "100%|██████████| 3151/3151 [04:52<00:00, 10.77it/s]\n"
     ]
    },
    {
     "name": "stdout",
     "output_type": "stream",
     "text": [
      "{'val_loss': 0.5020879216945897, 'val_accuracy': 0.8509887760555852, 'precision': 0.8536251689103054, 'recall': 0.8509887760555852, 'f1-score': 0.8511650788717728, 'macro_f1-score': 0.8502097793737204, 'balanced_accuracy': 0.8582707726759742, 'mcc': 0.8178778724358932, 'train_loss': 0.18583009923380892}\n",
      "Epoch 4/20\n"
     ]
    },
    {
     "name": "stderr",
     "output_type": "stream",
     "text": [
      "100%|██████████| 3151/3151 [04:52<00:00, 10.77it/s]\n"
     ]
    },
    {
     "name": "stdout",
     "output_type": "stream",
     "text": [
      "{'val_loss': 0.5282876286369104, 'val_accuracy': 0.8533404596472475, 'precision': 0.8558405210829332, 'recall': 0.8533404596472475, 'f1-score': 0.8538559521143808, 'macro_f1-score': 0.8537746737775971, 'balanced_accuracy': 0.8584921263111736, 'mcc': 0.8198268298331027, 'train_loss': 0.12664425395939277}\n",
      "Epoch 5/20\n"
     ]
    },
    {
     "name": "stderr",
     "output_type": "stream",
     "text": [
      "100%|██████████| 3151/3151 [04:52<00:00, 10.77it/s]\n"
     ]
    },
    {
     "name": "stdout",
     "output_type": "stream",
     "text": [
      "{'val_loss': 0.6009550112988163, 'val_accuracy': 0.8554783538214858, 'precision': 0.8556278852698705, 'recall': 0.8554783538214858, 'f1-score': 0.855242813414599, 'macro_f1-score': 0.8553949773451437, 'balanced_accuracy': 0.85387472166079, 'mcc': 0.8220081254165837, 'train_loss': 0.09380357197379609}\n",
      "Epoch 6/20\n"
     ]
    },
    {
     "name": "stderr",
     "output_type": "stream",
     "text": [
      "100%|██████████| 3151/3151 [04:52<00:00, 10.76it/s]\n"
     ]
    },
    {
     "name": "stdout",
     "output_type": "stream",
     "text": [
      "{'val_loss': 0.6729686771061781, 'val_accuracy': 0.8548369855692143, 'precision': 0.8558719468851934, 'recall': 0.8548369855692143, 'f1-score': 0.8547285805073211, 'macro_f1-score': 0.8533414486562814, 'balanced_accuracy': 0.8375716383633249, 'mcc': 0.820800833521376, 'train_loss': 0.07695152446627912}\n",
      "Epoch 7/20\n"
     ]
    },
    {
     "name": "stderr",
     "output_type": "stream",
     "text": [
      "100%|██████████| 3151/3151 [04:52<00:00, 10.77it/s]\n"
     ]
    },
    {
     "name": "stdout",
     "output_type": "stream",
     "text": [
      "{'val_loss': 0.6756624232440327, 'val_accuracy': 0.850026723677178, 'precision': 0.8499438354178809, 'recall': 0.850026723677178, 'f1-score': 0.8495547965638481, 'macro_f1-score': 0.850425808097802, 'balanced_accuracy': 0.8535814275106249, 'mcc': 0.8158960061740019, 'train_loss': 0.06256993403544478}\n",
      "Epoch 8/20\n"
     ]
    },
    {
     "name": "stderr",
     "output_type": "stream",
     "text": [
      "100%|██████████| 3151/3151 [04:52<00:00, 10.77it/s]\n"
     ]
    },
    {
     "name": "stdout",
     "output_type": "stream",
     "text": [
      "{'val_loss': 0.6689931807444535, 'val_accuracy': 0.8507749866381614, 'precision': 0.8506281489779656, 'recall': 0.8507749866381614, 'f1-score': 0.850394541306697, 'macro_f1-score': 0.848746018179638, 'balanced_accuracy': 0.8477642139073861, 'mcc': 0.8163687835748644, 'train_loss': 0.05571978082205014}\n",
      "Early stopping.\n",
      "\n",
      "[Fold 3]\n",
      "Label distribution after resampling:\n",
      "  label 0: 5626\n",
      "  label 1: 5000\n",
      "  label 2: 8442\n",
      "  label 3: 10770\n",
      "  label 4: 5000\n",
      "  label 5: 5578\n",
      "  label 6: 5000\n",
      "  label 7: 5000\n",
      "model is bert-base-uncased bilstm\n",
      "Epoch 1/20\n"
     ]
    },
    {
     "name": "stderr",
     "output_type": "stream",
     "text": [
      "100%|██████████| 3151/3151 [04:52<00:00, 10.76it/s]\n"
     ]
    },
    {
     "name": "stdout",
     "output_type": "stream",
     "text": [
      "{'val_loss': 0.4442665480936949, 'val_accuracy': 0.8470173187940988, 'precision': 0.855891050838829, 'recall': 0.8470173187940988, 'f1-score': 0.8472384609870287, 'macro_f1-score': 0.8492513971655209, 'balanced_accuracy': 0.8566092042090251, 'mcc': 0.8147447313400747, 'train_loss': 0.5232819372020197}\n",
      "Epoch 2/20\n"
     ]
    },
    {
     "name": "stderr",
     "output_type": "stream",
     "text": [
      "100%|██████████| 3151/3151 [04:52<00:00, 10.77it/s]\n"
     ]
    },
    {
     "name": "stdout",
     "output_type": "stream",
     "text": [
      "{'val_loss': 0.5396498703962972, 'val_accuracy': 0.8387855462903571, 'precision': 0.8517070358684211, 'recall': 0.8387855462903571, 'f1-score': 0.8394373479673058, 'macro_f1-score': 0.8354487884053909, 'balanced_accuracy': 0.8640707029108202, 'mcc': 0.8055323620574232, 'train_loss': 0.2823693495072656}\n",
      "Epoch 3/20\n"
     ]
    },
    {
     "name": "stderr",
     "output_type": "stream",
     "text": [
      "100%|██████████| 3151/3151 [04:52<00:00, 10.77it/s]\n"
     ]
    },
    {
     "name": "stdout",
     "output_type": "stream",
     "text": [
      "{'val_loss': 0.4275986931867834, 'val_accuracy': 0.8628394269831088, 'precision': 0.8642630425201858, 'recall': 0.8628394269831088, 'f1-score': 0.8628454274588343, 'macro_f1-score': 0.8599676781459356, 'balanced_accuracy': 0.8715868136639338, 'mcc': 0.8322674132536968, 'train_loss': 0.19309920674124606}\n",
      "Epoch 4/20\n"
     ]
    },
    {
     "name": "stderr",
     "output_type": "stream",
     "text": [
      "100%|██████████| 3151/3151 [04:52<00:00, 10.77it/s]\n"
     ]
    },
    {
     "name": "stdout",
     "output_type": "stream",
     "text": [
      "{'val_loss': 0.49558429731390413, 'val_accuracy': 0.852683344023947, 'precision': 0.8589492972392754, 'recall': 0.852683344023947, 'f1-score': 0.8529141624841222, 'macro_f1-score': 0.8479369276533477, 'balanced_accuracy': 0.8541582635271223, 'mcc': 0.8190887685188637, 'train_loss': 0.13893832023473063}\n",
      "Epoch 5/20\n"
     ]
    },
    {
     "name": "stderr",
     "output_type": "stream",
     "text": [
      "100%|██████████| 3151/3151 [04:52<00:00, 10.77it/s]\n"
     ]
    },
    {
     "name": "stdout",
     "output_type": "stream",
     "text": [
      "{'val_loss': 0.5428274721766894, 'val_accuracy': 0.8674363908488347, 'precision': 0.8679849028292841, 'recall': 0.8674363908488347, 'f1-score': 0.8671902362003782, 'macro_f1-score': 0.8642501758025318, 'balanced_accuracy': 0.8592854838516923, 'mcc': 0.8365736362774789, 'train_loss': 0.10704276350234325}\n",
      "Epoch 6/20\n"
     ]
    },
    {
     "name": "stderr",
     "output_type": "stream",
     "text": [
      "100%|██████████| 3151/3151 [04:52<00:00, 10.76it/s]\n"
     ]
    },
    {
     "name": "stdout",
     "output_type": "stream",
     "text": [
      "{'val_loss': 0.5966941776554077, 'val_accuracy': 0.8590977122086808, 'precision': 0.8612803196501017, 'recall': 0.8590977122086808, 'f1-score': 0.8591257489790848, 'macro_f1-score': 0.8589432187809791, 'balanced_accuracy': 0.8626881532673235, 'mcc': 0.8276971955397634, 'train_loss': 0.08131616612119286}\n",
      "Epoch 7/20\n"
     ]
    },
    {
     "name": "stderr",
     "output_type": "stream",
     "text": [
      "100%|██████████| 3151/3151 [04:52<00:00, 10.78it/s]\n"
     ]
    },
    {
     "name": "stdout",
     "output_type": "stream",
     "text": [
      "{'val_loss': 0.6473611091146182, 'val_accuracy': 0.8612358349369253, 'precision': 0.8617364929011668, 'recall': 0.8612358349369253, 'f1-score': 0.8611682012324254, 'macro_f1-score': 0.8596705403136027, 'balanced_accuracy': 0.8615146844801413, 'mcc': 0.8293843356831411, 'train_loss': 0.07101455635348097}\n",
      "Epoch 8/20\n"
     ]
    },
    {
     "name": "stderr",
     "output_type": "stream",
     "text": [
      "100%|██████████| 3151/3151 [04:52<00:00, 10.77it/s]\n"
     ]
    },
    {
     "name": "stdout",
     "output_type": "stream",
     "text": [
      "{'val_loss': 0.7100818016890708, 'val_accuracy': 0.8646568313021168, 'precision': 0.8662160689430273, 'recall': 0.8646568313021168, 'f1-score': 0.8646603397257157, 'macro_f1-score': 0.8628620885529218, 'balanced_accuracy': 0.8557050414973497, 'mcc': 0.8332145051836832, 'train_loss': 0.06281833745395396}\n",
      "Early stopping.\n",
      "\n",
      "[Fold 4]\n",
      "Label distribution after resampling:\n",
      "  label 0: 5625\n",
      "  label 1: 5000\n",
      "  label 2: 8441\n",
      "  label 3: 10771\n",
      "  label 4: 5000\n",
      "  label 5: 5579\n",
      "  label 6: 5000\n",
      "  label 7: 5000\n",
      "model is bert-base-uncased bilstm\n",
      "Epoch 1/20\n"
     ]
    },
    {
     "name": "stderr",
     "output_type": "stream",
     "text": [
      "100%|██████████| 3151/3151 [04:52<00:00, 10.77it/s]\n"
     ]
    },
    {
     "name": "stdout",
     "output_type": "stream",
     "text": [
      "{'val_loss': 0.4497003723700077, 'val_accuracy': 0.8514004703870002, 'precision': 0.8536349333870886, 'recall': 0.8514004703870002, 'f1-score': 0.8511120476540734, 'macro_f1-score': 0.8496633377624321, 'balanced_accuracy': 0.8500822881503416, 'mcc': 0.817690130337802, 'train_loss': 0.5314836071993918}\n",
      "Epoch 2/20\n"
     ]
    },
    {
     "name": "stderr",
     "output_type": "stream",
     "text": [
      "100%|██████████| 3151/3151 [04:52<00:00, 10.77it/s]\n"
     ]
    },
    {
     "name": "stdout",
     "output_type": "stream",
     "text": [
      "{'val_loss': 0.4660356220574333, 'val_accuracy': 0.8497968783408167, 'precision': 0.8561517274436299, 'recall': 0.8497968783408167, 'f1-score': 0.8499919658979899, 'macro_f1-score': 0.8484593882425174, 'balanced_accuracy': 0.8759261766812965, 'mcc': 0.8181705228171444, 'train_loss': 0.2815047203433401}\n",
      "Epoch 3/20\n"
     ]
    },
    {
     "name": "stderr",
     "output_type": "stream",
     "text": [
      "100%|██████████| 3151/3151 [04:52<00:00, 10.77it/s]\n"
     ]
    },
    {
     "name": "stdout",
     "output_type": "stream",
     "text": [
      "{'val_loss': 0.5322021637143742, 'val_accuracy': 0.8404960444729528, 'precision': 0.8440892947647812, 'recall': 0.8404960444729528, 'f1-score': 0.8396630765407078, 'macro_f1-score': 0.8396893837074813, 'balanced_accuracy': 0.8489552925720745, 'mcc': 0.8061539705437956, 'train_loss': 0.1905499400565964}\n",
      "Epoch 4/20\n"
     ]
    },
    {
     "name": "stderr",
     "output_type": "stream",
     "text": [
      "100%|██████████| 3151/3151 [04:52<00:00, 10.77it/s]\n"
     ]
    },
    {
     "name": "stdout",
     "output_type": "stream",
     "text": [
      "{'val_loss': 0.5578310057035305, 'val_accuracy': 0.8558905281163138, 'precision': 0.858981122958405, 'recall': 0.8558905281163138, 'f1-score': 0.8562939263839586, 'macro_f1-score': 0.8552501195887392, 'balanced_accuracy': 0.8584938385880538, 'mcc': 0.8231354986886499, 'train_loss': 0.13242549794845482}\n",
      "Epoch 5/20\n"
     ]
    },
    {
     "name": "stderr",
     "output_type": "stream",
     "text": [
      "100%|██████████| 3151/3151 [04:52<00:00, 10.78it/s]\n"
     ]
    },
    {
     "name": "stdout",
     "output_type": "stream",
     "text": [
      "{'val_loss': 0.5245152475837713, 'val_accuracy': 0.8562112465255506, 'precision': 0.8576198548127565, 'recall': 0.8562112465255506, 'f1-score': 0.8565658360345433, 'macro_f1-score': 0.8512323959445561, 'balanced_accuracy': 0.8627643814385746, 'mcc': 0.8236599278072352, 'train_loss': 0.104901382419414}\n",
      "Epoch 6/20\n"
     ]
    },
    {
     "name": "stderr",
     "output_type": "stream",
     "text": [
      "100%|██████████| 3151/3151 [04:52<00:00, 10.77it/s]\n"
     ]
    },
    {
     "name": "stdout",
     "output_type": "stream",
     "text": [
      "{'val_loss': 0.562007957103097, 'val_accuracy': 0.8595253367543297, 'precision': 0.8624077991888074, 'recall': 0.8595253367543297, 'f1-score': 0.8594071146527424, 'macro_f1-score': 0.8605917312356065, 'balanced_accuracy': 0.8506187776950677, 'mcc': 0.8267637988170814, 'train_loss': 0.07992836082561008}\n",
      "Epoch 7/20\n"
     ]
    },
    {
     "name": "stderr",
     "output_type": "stream",
     "text": [
      "100%|██████████| 3151/3151 [04:52<00:00, 10.77it/s]\n"
     ]
    },
    {
     "name": "stdout",
     "output_type": "stream",
     "text": [
      "{'val_loss': 0.6323245526888431, 'val_accuracy': 0.8506521274321146, 'precision': 0.8577917675786084, 'recall': 0.8506521274321146, 'f1-score': 0.8515337621927203, 'macro_f1-score': 0.8516929903825587, 'balanced_accuracy': 0.8639990816822317, 'mcc': 0.818798483474178, 'train_loss': 0.06606409724678972}\n",
      "Epoch 8/20\n"
     ]
    },
    {
     "name": "stderr",
     "output_type": "stream",
     "text": [
      "100%|██████████| 3151/3151 [04:52<00:00, 10.78it/s]\n"
     ]
    },
    {
     "name": "stdout",
     "output_type": "stream",
     "text": [
      "{'val_loss': 0.6058034119120616, 'val_accuracy': 0.8558905281163138, 'precision': 0.8580716650771686, 'recall': 0.8558905281163138, 'f1-score': 0.8558112598696128, 'macro_f1-score': 0.859267246995236, 'balanced_accuracy': 0.8493544182222175, 'mcc': 0.8227976551144242, 'train_loss': 0.05978788923030963}\n",
      "Epoch 9/20\n"
     ]
    },
    {
     "name": "stderr",
     "output_type": "stream",
     "text": [
      "100%|██████████| 3151/3151 [04:52<00:00, 10.77it/s]\n"
     ]
    },
    {
     "name": "stdout",
     "output_type": "stream",
     "text": [
      "{'val_loss': 0.7201240487815116, 'val_accuracy': 0.8561043403891383, 'precision': 0.8570475998386926, 'recall': 0.8561043403891383, 'f1-score': 0.8555015126001931, 'macro_f1-score': 0.8588950536837782, 'balanced_accuracy': 0.8537930738752826, 'mcc': 0.8234062955679194, 'train_loss': 0.049300683005625734}\n",
      "Early stopping.\n",
      "\n",
      "[Fold 5]\n",
      "Label distribution after resampling:\n",
      "  label 0: 5625\n",
      "  label 1: 5000\n",
      "  label 2: 8441\n",
      "  label 3: 10771\n",
      "  label 4: 5000\n",
      "  label 5: 5579\n",
      "  label 6: 5000\n",
      "  label 7: 5000\n",
      "model is bert-base-uncased bilstm\n",
      "Epoch 1/20\n"
     ]
    },
    {
     "name": "stderr",
     "output_type": "stream",
     "text": [
      "100%|██████████| 3151/3151 [04:52<00:00, 10.77it/s]\n"
     ]
    },
    {
     "name": "stdout",
     "output_type": "stream",
     "text": [
      "{'val_loss': 0.4855997307257902, 'val_accuracy': 0.8404960444729528, 'precision': 0.8530349241163783, 'recall': 0.8404960444729528, 'f1-score': 0.8402655593430512, 'macro_f1-score': 0.8404905485322636, 'balanced_accuracy': 0.8612400479611921, 'mcc': 0.809125639036084, 'train_loss': 0.5224914895503606}\n",
      "Epoch 2/20\n"
     ]
    },
    {
     "name": "stderr",
     "output_type": "stream",
     "text": [
      "100%|██████████| 3151/3151 [04:52<00:00, 10.78it/s]\n"
     ]
    },
    {
     "name": "stdout",
     "output_type": "stream",
     "text": [
      "{'val_loss': 0.45336046271726615, 'val_accuracy': 0.8469104126576865, 'precision': 0.8558394401135687, 'recall': 0.8469104126576865, 'f1-score': 0.8489424824451771, 'macro_f1-score': 0.840294071426906, 'balanced_accuracy': 0.8591641950059893, 'mcc': 0.813325068094715, 'train_loss': 0.2739655129896416}\n",
      "Epoch 3/20\n"
     ]
    },
    {
     "name": "stderr",
     "output_type": "stream",
     "text": [
      "100%|██████████| 3151/3151 [04:52<00:00, 10.77it/s]\n"
     ]
    },
    {
     "name": "stdout",
     "output_type": "stream",
     "text": [
      "{'val_loss': 0.5184440509559444, 'val_accuracy': 0.8487278169766944, 'precision': 0.8547424254445428, 'recall': 0.8487278169766944, 'f1-score': 0.8487632816141043, 'macro_f1-score': 0.8484431174690068, 'balanced_accuracy': 0.854788947005481, 'mcc': 0.8154077649952618, 'train_loss': 0.18266779600739566}\n",
      "Epoch 4/20\n"
     ]
    },
    {
     "name": "stderr",
     "output_type": "stream",
     "text": [
      "100%|██████████| 3151/3151 [04:52<00:00, 10.78it/s]\n"
     ]
    },
    {
     "name": "stdout",
     "output_type": "stream",
     "text": [
      "{'val_loss': 0.552668431862934, 'val_accuracy': 0.8576010262989096, 'precision': 0.8582971948178166, 'recall': 0.8576010262989096, 'f1-score': 0.8575483845817029, 'macro_f1-score': 0.8555240213041925, 'balanced_accuracy': 0.8625874266378422, 'mcc': 0.8253565556220542, 'train_loss': 0.12923708635801168}\n",
      "Epoch 5/20\n"
     ]
    },
    {
     "name": "stderr",
     "output_type": "stream",
     "text": [
      "100%|██████████| 3151/3151 [04:52<00:00, 10.77it/s]\n"
     ]
    },
    {
     "name": "stdout",
     "output_type": "stream",
     "text": [
      "{'val_loss': 0.6697571010149729, 'val_accuracy': 0.8507590335685268, 'precision': 0.8518148092613382, 'recall': 0.8507590335685268, 'f1-score': 0.8504916929179555, 'macro_f1-score': 0.8477388379362699, 'balanced_accuracy': 0.8640540435754107, 'mcc': 0.8175794486092451, 'train_loss': 0.09541887379677329}\n",
      "Epoch 6/20\n"
     ]
    },
    {
     "name": "stderr",
     "output_type": "stream",
     "text": [
      "100%|██████████| 3151/3151 [04:52<00:00, 10.77it/s]\n"
     ]
    },
    {
     "name": "stdout",
     "output_type": "stream",
     "text": [
      "{'val_loss': 0.5745448620615797, 'val_accuracy': 0.8570664956168484, 'precision': 0.8577928564245937, 'recall': 0.8570664956168484, 'f1-score': 0.8572514000585013, 'macro_f1-score': 0.855645295389042, 'balanced_accuracy': 0.8563030186382965, 'mcc': 0.8240975070688099, 'train_loss': 0.08060397516006662}\n",
      "Epoch 7/20\n"
     ]
    },
    {
     "name": "stderr",
     "output_type": "stream",
     "text": [
      "100%|██████████| 3151/3151 [04:52<00:00, 10.77it/s]\n"
     ]
    },
    {
     "name": "stdout",
     "output_type": "stream",
     "text": [
      "{'val_loss': 0.6338652577058166, 'val_accuracy': 0.8603805858456275, 'precision': 0.8618041313845298, 'recall': 0.8603805858456275, 'f1-score': 0.8604569856623006, 'macro_f1-score': 0.8595274333816418, 'balanced_accuracy': 0.8473274941446758, 'mcc': 0.8277709513060602, 'train_loss': 0.06842424291580908}\n",
      "Epoch 8/20\n"
     ]
    },
    {
     "name": "stderr",
     "output_type": "stream",
     "text": [
      "100%|██████████| 3151/3151 [04:52<00:00, 10.78it/s]\n"
     ]
    },
    {
     "name": "stdout",
     "output_type": "stream",
     "text": [
      "{'val_loss': 0.6839675449702538, 'val_accuracy': 0.8580286508445585, 'precision': 0.858845190590106, 'recall': 0.8580286508445585, 'f1-score': 0.8576809353456694, 'macro_f1-score': 0.8585151669453963, 'balanced_accuracy': 0.8628288932745883, 'mcc': 0.8261903763761052, 'train_loss': 0.06058244904382341}\n",
      "Epoch 9/20\n"
     ]
    },
    {
     "name": "stderr",
     "output_type": "stream",
     "text": [
      "100%|██████████| 3151/3151 [04:52<00:00, 10.76it/s]\n"
     ]
    },
    {
     "name": "stdout",
     "output_type": "stream",
     "text": [
      "{'val_loss': 0.6965303899803892, 'val_accuracy': 0.8589908060722685, 'precision': 0.8601389790777322, 'recall': 0.8589908060722685, 'f1-score': 0.8590110203527266, 'macro_f1-score': 0.857795302369553, 'balanced_accuracy': 0.8498120550332929, 'mcc': 0.8260683286510893, 'train_loss': 0.054075104176800996}\n",
      "Epoch 10/20\n"
     ]
    },
    {
     "name": "stderr",
     "output_type": "stream",
     "text": [
      "100%|██████████| 3151/3151 [04:52<00:00, 10.78it/s]\n"
     ]
    },
    {
     "name": "stdout",
     "output_type": "stream",
     "text": [
      "{'val_loss': 0.743709983303944, 'val_accuracy': 0.8519350010690614, 'precision': 0.8549442368826449, 'recall': 0.8519350010690614, 'f1-score': 0.852760584073124, 'macro_f1-score': 0.8480008910612805, 'balanced_accuracy': 0.8515784125330985, 'mcc': 0.8180453841233339, 'train_loss': 0.04507573943772877}\n",
      "Early stopping.\n",
      "\n",
      " === bert-base-uncased + bilstm + ros Final 5-fold Cross-Validation Results ===\n",
      "val_loss: 0.5890\n",
      "val_accuracy: 0.8618\n",
      "precision: 0.8631\n",
      "recall: 0.8618\n",
      "f1-score: 0.8617\n",
      "macro_f1-score: 0.8614\n",
      "balanced_accuracy: 0.8557\n",
      "mcc: 0.8298\n",
      "train_loss: 0.0807\n",
      "total_seconds: 14895.0000\n",
      "total_time: 4 hrs 8 mins 15 secs\n",
      "▶ Running: roberta-base + plain + ros\n",
      "tokenizer is roberta-base\n",
      "Using device: cuda\n",
      "CUDA Available: True\n",
      "CUDA Device: NVIDIA GeForce RTX 5070 Ti\n",
      "Current GPU Memory Allocated: 0.02 GB\n",
      "Current GPU Memory Cached: 3.14 GB\n",
      "\n",
      "[Fold 1]\n",
      "Label distribution after resampling:\n",
      "  label 0: 5626\n",
      "  label 1: 5000\n",
      "  label 2: 8442\n",
      "  label 3: 10770\n",
      "  label 4: 5000\n",
      "  label 5: 5578\n",
      "  label 6: 5000\n",
      "  label 7: 5000\n",
      "model is roberta-base\n"
     ]
    },
    {
     "name": "stderr",
     "output_type": "stream",
     "text": [
      "Some weights of RobertaForSequenceClassification were not initialized from the model checkpoint at roberta-base and are newly initialized: ['classifier.dense.bias', 'classifier.dense.weight', 'classifier.out_proj.bias', 'classifier.out_proj.weight']\n",
      "You should probably TRAIN this model on a down-stream task to be able to use it for predictions and inference.\n"
     ]
    },
    {
     "name": "stdout",
     "output_type": "stream",
     "text": [
      "Epoch 1/20\n"
     ]
    },
    {
     "name": "stderr",
     "output_type": "stream",
     "text": [
      "100%|██████████| 3151/3151 [04:29<00:00, 11.68it/s]\n"
     ]
    },
    {
     "name": "stdout",
     "output_type": "stream",
     "text": [
      "{'val_loss': 0.45617492300832374, 'val_accuracy': 0.8478888295029396, 'precision': 0.8506064837706363, 'recall': 0.8478888295029396, 'f1-score': 0.8482530656417743, 'macro_f1-score': 0.848920339638352, 'balanced_accuracy': 0.853694521786406, 'mcc': 0.8133263662572761, 'train_loss': 0.5740026207832883}\n",
      "Epoch 2/20\n"
     ]
    },
    {
     "name": "stderr",
     "output_type": "stream",
     "text": [
      "100%|██████████| 3151/3151 [04:29<00:00, 11.67it/s]\n"
     ]
    },
    {
     "name": "stdout",
     "output_type": "stream",
     "text": [
      "{'val_loss': 0.443933709188659, 'val_accuracy': 0.8563335114911812, 'precision': 0.8588428357797288, 'recall': 0.8563335114911812, 'f1-score': 0.8561786853022948, 'macro_f1-score': 0.8483727283208342, 'balanced_accuracy': 0.8637652387317007, 'mcc': 0.8239327170979313, 'train_loss': 0.3547694325306394}\n",
      "Epoch 3/20\n"
     ]
    },
    {
     "name": "stderr",
     "output_type": "stream",
     "text": [
      "100%|██████████| 3151/3151 [04:30<00:00, 11.67it/s]\n"
     ]
    },
    {
     "name": "stdout",
     "output_type": "stream",
     "text": [
      "{'val_loss': 0.450821311545805, 'val_accuracy': 0.8547300908605024, 'precision': 0.8601564453103895, 'recall': 0.8547300908605024, 'f1-score': 0.8560695727592251, 'macro_f1-score': 0.8492475913931703, 'balanced_accuracy': 0.8629716285008233, 'mcc': 0.8218268256072523, 'train_loss': 0.2796490092723982}\n",
      "Epoch 4/20\n"
     ]
    },
    {
     "name": "stderr",
     "output_type": "stream",
     "text": [
      "100%|██████████| 3151/3151 [04:29<00:00, 11.67it/s]\n"
     ]
    },
    {
     "name": "stdout",
     "output_type": "stream",
     "text": [
      "{'val_loss': 0.44652499851539856, 'val_accuracy': 0.864564404061999, 'precision': 0.8649280363915353, 'recall': 0.864564404061999, 'f1-score': 0.8643061552473459, 'macro_f1-score': 0.8610824063396177, 'balanced_accuracy': 0.8680350617372865, 'mcc': 0.8337678304643689, 'train_loss': 0.22614465073925616}\n",
      "Epoch 5/20\n"
     ]
    },
    {
     "name": "stderr",
     "output_type": "stream",
     "text": [
      "100%|██████████| 3151/3151 [04:29<00:00, 11.68it/s]\n"
     ]
    },
    {
     "name": "stdout",
     "output_type": "stream",
     "text": [
      "{'val_loss': 0.5332858631267953, 'val_accuracy': 0.8540887226082309, 'precision': 0.8556237610054057, 'recall': 0.8540887226082309, 'f1-score': 0.8538220459670118, 'macro_f1-score': 0.8472254318046512, 'balanced_accuracy': 0.8522178108165225, 'mcc': 0.8215209680881954, 'train_loss': 0.18783786283740647}\n",
      "Epoch 6/20\n"
     ]
    },
    {
     "name": "stderr",
     "output_type": "stream",
     "text": [
      "100%|██████████| 3151/3151 [04:29<00:00, 11.67it/s]\n"
     ]
    },
    {
     "name": "stdout",
     "output_type": "stream",
     "text": [
      "{'val_loss': 0.49679695332948215, 'val_accuracy': 0.859112773917691, 'precision': 0.8620489303979736, 'recall': 0.859112773917691, 'f1-score': 0.8596557995640347, 'macro_f1-score': 0.8505992244191992, 'balanced_accuracy': 0.8723015544436854, 'mcc': 0.8279332413463858, 'train_loss': 0.1601640655556726}\n",
      "Epoch 7/20\n"
     ]
    },
    {
     "name": "stderr",
     "output_type": "stream",
     "text": [
      "100%|██████████| 3151/3151 [04:29<00:00, 11.68it/s]\n"
     ]
    },
    {
     "name": "stdout",
     "output_type": "stream",
     "text": [
      "{'val_loss': 0.5644840244888368, 'val_accuracy': 0.8567610903260289, 'precision': 0.8586527931295465, 'recall': 0.8567610903260289, 'f1-score': 0.8563426569584434, 'macro_f1-score': 0.8548987750695802, 'balanced_accuracy': 0.8532355877442613, 'mcc': 0.8245791065776151, 'train_loss': 0.12991029475332347}\n",
      "Early stopping.\n",
      "\n",
      "[Fold 2]\n",
      "Label distribution after resampling:\n",
      "  label 0: 5626\n",
      "  label 1: 5000\n",
      "  label 2: 8442\n",
      "  label 3: 10770\n",
      "  label 4: 5000\n",
      "  label 5: 5578\n",
      "  label 6: 5000\n",
      "  label 7: 5000\n",
      "model is roberta-base\n"
     ]
    },
    {
     "name": "stderr",
     "output_type": "stream",
     "text": [
      "Some weights of RobertaForSequenceClassification were not initialized from the model checkpoint at roberta-base and are newly initialized: ['classifier.dense.bias', 'classifier.dense.weight', 'classifier.out_proj.bias', 'classifier.out_proj.weight']\n",
      "You should probably TRAIN this model on a down-stream task to be able to use it for predictions and inference.\n"
     ]
    },
    {
     "name": "stdout",
     "output_type": "stream",
     "text": [
      "Epoch 1/20\n"
     ]
    },
    {
     "name": "stderr",
     "output_type": "stream",
     "text": [
      "100%|██████████| 3151/3151 [04:29<00:00, 11.68it/s]\n"
     ]
    },
    {
     "name": "stdout",
     "output_type": "stream",
     "text": [
      "{'val_loss': 0.5587028061827788, 'val_accuracy': 0.8107963655799038, 'precision': 0.8241717905986652, 'recall': 0.8107963655799038, 'f1-score': 0.8096534230924042, 'macro_f1-score': 0.8055349735016573, 'balanced_accuracy': 0.8529262702967336, 'mcc': 0.7740022353787779, 'train_loss': 0.5627228235326392}\n",
      "Epoch 2/20\n"
     ]
    },
    {
     "name": "stderr",
     "output_type": "stream",
     "text": [
      "100%|██████████| 3151/3151 [04:30<00:00, 11.67it/s]\n"
     ]
    },
    {
     "name": "stdout",
     "output_type": "stream",
     "text": [
      "{'val_loss': 0.5415866897911088, 'val_accuracy': 0.8312132549438803, 'precision': 0.8402952586451478, 'recall': 0.8312132549438803, 'f1-score': 0.8305800455907106, 'macro_f1-score': 0.8349504747133294, 'balanced_accuracy': 0.8646129321761301, 'mcc': 0.797266918315557, 'train_loss': 0.34704608184479646}\n",
      "Epoch 3/20\n"
     ]
    },
    {
     "name": "stderr",
     "output_type": "stream",
     "text": [
      "100%|██████████| 3151/3151 [04:29<00:00, 11.67it/s]\n"
     ]
    },
    {
     "name": "stdout",
     "output_type": "stream",
     "text": [
      "{'val_loss': 0.43845530338266975, 'val_accuracy': 0.8502405130946018, 'precision': 0.8512441986153906, 'recall': 0.8502405130946018, 'f1-score': 0.8499654414942318, 'macro_f1-score': 0.851524537734865, 'balanced_accuracy': 0.8645372546086623, 'mcc': 0.8169463275102186, 'train_loss': 0.26098781894441425}\n",
      "Epoch 4/20\n"
     ]
    },
    {
     "name": "stderr",
     "output_type": "stream",
     "text": [
      "100%|██████████| 3151/3151 [04:29<00:00, 11.67it/s]\n"
     ]
    },
    {
     "name": "stdout",
     "output_type": "stream",
     "text": [
      "{'val_loss': 0.5117190616953576, 'val_accuracy': 0.8493853554249065, 'precision': 0.8520140397620132, 'recall': 0.8493853554249065, 'f1-score': 0.8493912236210227, 'macro_f1-score': 0.8479340602480026, 'balanced_accuracy': 0.859552912176256, 'mcc': 0.816204300200379, 'train_loss': 0.20202359047274113}\n",
      "Epoch 5/20\n"
     ]
    },
    {
     "name": "stderr",
     "output_type": "stream",
     "text": [
      "100%|██████████| 3151/3151 [04:30<00:00, 11.67it/s]\n"
     ]
    },
    {
     "name": "stdout",
     "output_type": "stream",
     "text": [
      "{'val_loss': 0.5234214491139237, 'val_accuracy': 0.8497060395510422, 'precision': 0.8510919935746193, 'recall': 0.8497060395510422, 'f1-score': 0.8496515508190337, 'macro_f1-score': 0.8494175451394306, 'balanced_accuracy': 0.8583799885556815, 'mcc': 0.8160564111114815, 'train_loss': 0.16438743504988204}\n",
      "Epoch 6/20\n"
     ]
    },
    {
     "name": "stderr",
     "output_type": "stream",
     "text": [
      "100%|██████████| 3151/3151 [04:30<00:00, 11.66it/s]\n"
     ]
    },
    {
     "name": "stdout",
     "output_type": "stream",
     "text": [
      "{'val_loss': 0.5553268555464207, 'val_accuracy': 0.8540887226082309, 'precision': 0.8566985194974648, 'recall': 0.8540887226082309, 'f1-score': 0.8542260391065692, 'macro_f1-score': 0.8560139504626837, 'balanced_accuracy': 0.8550010660662165, 'mcc': 0.8205006446057007, 'train_loss': 0.13778077230448277}\n",
      "Epoch 7/20\n"
     ]
    },
    {
     "name": "stderr",
     "output_type": "stream",
     "text": [
      "100%|██████████| 3151/3151 [04:30<00:00, 11.67it/s]\n"
     ]
    },
    {
     "name": "stdout",
     "output_type": "stream",
     "text": [
      "{'val_loss': 0.591064632875033, 'val_accuracy': 0.8479957242116515, 'precision': 0.8502861993587209, 'recall': 0.8479957242116515, 'f1-score': 0.8478395259544815, 'macro_f1-score': 0.8470337886671713, 'balanced_accuracy': 0.8526171199001225, 'mcc': 0.8133073744950033, 'train_loss': 0.10623145870077748}\n",
      "Epoch 8/20\n"
     ]
    },
    {
     "name": "stderr",
     "output_type": "stream",
     "text": [
      "100%|██████████| 3151/3151 [04:30<00:00, 11.66it/s]\n"
     ]
    },
    {
     "name": "stdout",
     "output_type": "stream",
     "text": [
      "{'val_loss': 0.6568597165603015, 'val_accuracy': 0.84735435595938, 'precision': 0.8513651252916745, 'recall': 0.84735435595938, 'f1-score': 0.8481291478191808, 'macro_f1-score': 0.8451701562603537, 'balanced_accuracy': 0.856801560195075, 'mcc': 0.8132219881727301, 'train_loss': 0.09653338801071565}\n",
      "Epoch 9/20\n"
     ]
    },
    {
     "name": "stderr",
     "output_type": "stream",
     "text": [
      "100%|██████████| 3151/3151 [04:30<00:00, 11.66it/s]\n"
     ]
    },
    {
     "name": "stdout",
     "output_type": "stream",
     "text": [
      "{'val_loss': 0.6933026564500542, 'val_accuracy': 0.8462854088722608, 'precision': 0.8492022381201886, 'recall': 0.8462854088722608, 'f1-score': 0.846455758065092, 'macro_f1-score': 0.8423294861656426, 'balanced_accuracy': 0.8504230409499962, 'mcc': 0.8119297377271825, 'train_loss': 0.08682012772029095}\n",
      "Early stopping.\n",
      "\n",
      "[Fold 3]\n",
      "Label distribution after resampling:\n",
      "  label 0: 5626\n",
      "  label 1: 5000\n",
      "  label 2: 8442\n",
      "  label 3: 10770\n",
      "  label 4: 5000\n",
      "  label 5: 5578\n",
      "  label 6: 5000\n",
      "  label 7: 5000\n",
      "model is roberta-base\n"
     ]
    },
    {
     "name": "stderr",
     "output_type": "stream",
     "text": [
      "Some weights of RobertaForSequenceClassification were not initialized from the model checkpoint at roberta-base and are newly initialized: ['classifier.dense.bias', 'classifier.dense.weight', 'classifier.out_proj.bias', 'classifier.out_proj.weight']\n",
      "You should probably TRAIN this model on a down-stream task to be able to use it for predictions and inference.\n"
     ]
    },
    {
     "name": "stdout",
     "output_type": "stream",
     "text": [
      "Epoch 1/20\n"
     ]
    },
    {
     "name": "stderr",
     "output_type": "stream",
     "text": [
      "100%|██████████| 3151/3151 [04:30<00:00, 11.66it/s]\n"
     ]
    },
    {
     "name": "stdout",
     "output_type": "stream",
     "text": [
      "{'val_loss': 0.47646567774379356, 'val_accuracy': 0.8420996365191362, 'precision': 0.8465059033146688, 'recall': 0.8420996365191362, 'f1-score': 0.8424454689145118, 'macro_f1-score': 0.8393859798828518, 'balanced_accuracy': 0.85626856759203, 'mcc': 0.8076901616998977, 'train_loss': 0.5629838323643267}\n",
      "Epoch 2/20\n"
     ]
    },
    {
     "name": "stderr",
     "output_type": "stream",
     "text": [
      "100%|██████████| 3151/3151 [04:30<00:00, 11.66it/s]\n"
     ]
    },
    {
     "name": "stdout",
     "output_type": "stream",
     "text": [
      "{'val_loss': 0.5118467360002618, 'val_accuracy': 0.8332264271969211, 'precision': 0.8438467206905261, 'recall': 0.8332264271969211, 'f1-score': 0.8315734283002916, 'macro_f1-score': 0.8353561795416975, 'balanced_accuracy': 0.8689882339142161, 'mcc': 0.8007072998566405, 'train_loss': 0.34694232503368966}\n",
      "Epoch 3/20\n"
     ]
    },
    {
     "name": "stderr",
     "output_type": "stream",
     "text": [
      "100%|██████████| 3151/3151 [04:30<00:00, 11.67it/s]\n"
     ]
    },
    {
     "name": "stdout",
     "output_type": "stream",
     "text": [
      "{'val_loss': 0.4405517118385969, 'val_accuracy': 0.856425058798375, 'precision': 0.8600660478728016, 'recall': 0.856425058798375, 'f1-score': 0.856935423754798, 'macro_f1-score': 0.8508881061320929, 'balanced_accuracy': 0.8726245593175104, 'mcc': 0.8250462591324489, 'train_loss': 0.26468076914701383}\n",
      "Epoch 4/20\n"
     ]
    },
    {
     "name": "stderr",
     "output_type": "stream",
     "text": [
      "100%|██████████| 3151/3151 [04:30<00:00, 11.66it/s]\n"
     ]
    },
    {
     "name": "stdout",
     "output_type": "stream",
     "text": [
      "{'val_loss': 0.4969924901301662, 'val_accuracy': 0.8492623476587556, 'precision': 0.8566476697526146, 'recall': 0.8492623476587556, 'f1-score': 0.8504366514950206, 'macro_f1-score': 0.8525145608900693, 'balanced_accuracy': 0.8622306787697765, 'mcc': 0.816856326648496, 'train_loss': 0.20427926210856515}\n",
      "Epoch 5/20\n"
     ]
    },
    {
     "name": "stderr",
     "output_type": "stream",
     "text": [
      "100%|██████████| 3151/3151 [04:30<00:00, 11.67it/s]\n"
     ]
    },
    {
     "name": "stdout",
     "output_type": "stream",
     "text": [
      "{'val_loss': 0.4742910249819422, 'val_accuracy': 0.8693607013042549, 'precision': 0.8705977454423881, 'recall': 0.8693607013042549, 'f1-score': 0.869389308631397, 'macro_f1-score': 0.8668697012368247, 'balanced_accuracy': 0.8686230116419498, 'mcc': 0.8395353968107218, 'train_loss': 0.1720825734110688}\n",
      "Epoch 6/20\n"
     ]
    },
    {
     "name": "stderr",
     "output_type": "stream",
     "text": [
      "100%|██████████| 3151/3151 [04:30<00:00, 11.67it/s]\n"
     ]
    },
    {
     "name": "stdout",
     "output_type": "stream",
     "text": [
      "{'val_loss': 0.5957777702926188, 'val_accuracy': 0.8579217447081462, 'precision': 0.860308331516893, 'recall': 0.8579217447081462, 'f1-score': 0.8580866726472268, 'macro_f1-score': 0.854722986087077, 'balanced_accuracy': 0.8671446418313102, 'mcc': 0.8259098953890123, 'train_loss': 0.1397576779224657}\n",
      "Epoch 7/20\n"
     ]
    },
    {
     "name": "stderr",
     "output_type": "stream",
     "text": [
      "100%|██████████| 3151/3151 [04:30<00:00, 11.67it/s]\n"
     ]
    },
    {
     "name": "stdout",
     "output_type": "stream",
     "text": [
      "{'val_loss': 0.5360435954263258, 'val_accuracy': 0.8636946760744066, 'precision': 0.864327908733191, 'recall': 0.8636946760744066, 'f1-score': 0.8636784018406313, 'macro_f1-score': 0.8640732210874953, 'balanced_accuracy': 0.8712467381382485, 'mcc': 0.8328985212821299, 'train_loss': 0.11647708752372556}\n",
      "Epoch 8/20\n"
     ]
    },
    {
     "name": "stderr",
     "output_type": "stream",
     "text": [
      "100%|██████████| 3151/3151 [04:30<00:00, 11.66it/s]\n"
     ]
    },
    {
     "name": "stdout",
     "output_type": "stream",
     "text": [
      "{'val_loss': 0.6318664358039268, 'val_accuracy': 0.8628394269831088, 'precision': 0.8647782572526367, 'recall': 0.8628394269831088, 'f1-score': 0.8630217729639403, 'macro_f1-score': 0.8566534320054575, 'balanced_accuracy': 0.868528239647522, 'mcc': 0.8318280264911526, 'train_loss': 0.10009327554941988}\n",
      "Early stopping.\n",
      "\n",
      "[Fold 4]\n",
      "Label distribution after resampling:\n",
      "  label 0: 5625\n",
      "  label 1: 5000\n",
      "  label 2: 8441\n",
      "  label 3: 10771\n",
      "  label 4: 5000\n",
      "  label 5: 5579\n",
      "  label 6: 5000\n",
      "  label 7: 5000\n",
      "model is roberta-base\n"
     ]
    },
    {
     "name": "stderr",
     "output_type": "stream",
     "text": [
      "Some weights of RobertaForSequenceClassification were not initialized from the model checkpoint at roberta-base and are newly initialized: ['classifier.dense.bias', 'classifier.dense.weight', 'classifier.out_proj.bias', 'classifier.out_proj.weight']\n",
      "You should probably TRAIN this model on a down-stream task to be able to use it for predictions and inference.\n"
     ]
    },
    {
     "name": "stdout",
     "output_type": "stream",
     "text": [
      "Epoch 1/20\n"
     ]
    },
    {
     "name": "stderr",
     "output_type": "stream",
     "text": [
      "100%|██████████| 3151/3151 [04:30<00:00, 11.67it/s]\n"
     ]
    },
    {
     "name": "stdout",
     "output_type": "stream",
     "text": [
      "{'val_loss': 0.5498210499174575, 'val_accuracy': 0.8202907846910412, 'precision': 0.8327555412023504, 'recall': 0.8202907846910412, 'f1-score': 0.8202066473243572, 'macro_f1-score': 0.8146014941643366, 'balanced_accuracy': 0.8493665372937365, 'mcc': 0.782023376147529, 'train_loss': 0.5605372407981107}\n",
      "Epoch 2/20\n"
     ]
    },
    {
     "name": "stderr",
     "output_type": "stream",
     "text": [
      "100%|██████████| 3151/3151 [04:29<00:00, 11.67it/s]\n"
     ]
    },
    {
     "name": "stdout",
     "output_type": "stream",
     "text": [
      "{'val_loss': 0.5353664558675363, 'val_accuracy': 0.8282018387855463, 'precision': 0.8452185207902506, 'recall': 0.8282018387855463, 'f1-score': 0.8295615593034382, 'macro_f1-score': 0.8226322534357431, 'balanced_accuracy': 0.8688903920178783, 'mcc': 0.7947857818026148, 'train_loss': 0.3556416093503926}\n",
      "Epoch 3/20\n"
     ]
    },
    {
     "name": "stderr",
     "output_type": "stream",
     "text": [
      "100%|██████████| 3151/3151 [04:30<00:00, 11.67it/s]\n"
     ]
    },
    {
     "name": "stdout",
     "output_type": "stream",
     "text": [
      "{'val_loss': 0.5432012295398193, 'val_accuracy': 0.8275604019670729, 'precision': 0.8493952265038786, 'recall': 0.8275604019670729, 'f1-score': 0.8316956473040439, 'macro_f1-score': 0.8212963530163513, 'balanced_accuracy': 0.8663986037260591, 'mcc': 0.7940973674997298, 'train_loss': 0.26518724093161067}\n",
      "Epoch 4/20\n"
     ]
    },
    {
     "name": "stderr",
     "output_type": "stream",
     "text": [
      "100%|██████████| 3151/3151 [04:30<00:00, 11.66it/s]\n"
     ]
    },
    {
     "name": "stdout",
     "output_type": "stream",
     "text": [
      "{'val_loss': 0.4649016740007533, 'val_accuracy': 0.8579217447081462, 'precision': 0.8606373746111773, 'recall': 0.8579217447081462, 'f1-score': 0.8581980107996051, 'macro_f1-score': 0.8545169330370219, 'balanced_accuracy': 0.8742016262179773, 'mcc': 0.8266379305952346, 'train_loss': 0.20289670072510124}\n",
      "Epoch 5/20\n"
     ]
    },
    {
     "name": "stderr",
     "output_type": "stream",
     "text": [
      "100%|██████████| 3151/3151 [04:30<00:00, 11.67it/s]\n"
     ]
    },
    {
     "name": "stdout",
     "output_type": "stream",
     "text": [
      "{'val_loss': 0.49059457523254757, 'val_accuracy': 0.8640153944836434, 'precision': 0.8648572417070601, 'recall': 0.8640153944836434, 'f1-score': 0.863949050319902, 'macro_f1-score': 0.8657023031798211, 'balanced_accuracy': 0.8686771011586811, 'mcc': 0.8330518756437032, 'train_loss': 0.16761564466938547}\n",
      "Epoch 6/20\n"
     ]
    },
    {
     "name": "stderr",
     "output_type": "stream",
     "text": [
      "100%|██████████| 3151/3151 [04:30<00:00, 11.67it/s]\n"
     ]
    },
    {
     "name": "stdout",
     "output_type": "stream",
     "text": [
      "{'val_loss': 0.583969789948792, 'val_accuracy': 0.8464827881120376, 'precision': 0.8516903123908988, 'recall': 0.8464827881120376, 'f1-score': 0.8471274869967944, 'macro_f1-score': 0.8428932361602456, 'balanced_accuracy': 0.8642666867593937, 'mcc': 0.8128813753328301, 'train_loss': 0.1359647095939502}\n",
      "Epoch 7/20\n"
     ]
    },
    {
     "name": "stderr",
     "output_type": "stream",
     "text": [
      "100%|██████████| 3151/3151 [04:30<00:00, 11.66it/s]\n"
     ]
    },
    {
     "name": "stdout",
     "output_type": "stream",
     "text": [
      "{'val_loss': 0.59397822146893, 'val_accuracy': 0.8537524053880693, 'precision': 0.8571580699964502, 'recall': 0.8537524053880693, 'f1-score': 0.8542191967159876, 'macro_f1-score': 0.847603311454044, 'balanced_accuracy': 0.8708159315086499, 'mcc': 0.8214628206667958, 'train_loss': 0.11600290248865809}\n",
      "Epoch 8/20\n"
     ]
    },
    {
     "name": "stderr",
     "output_type": "stream",
     "text": [
      "100%|██████████| 3151/3151 [04:30<00:00, 11.66it/s]\n"
     ]
    },
    {
     "name": "stdout",
     "output_type": "stream",
     "text": [
      "{'val_loss': 0.6527001033457489, 'val_accuracy': 0.8543938422065427, 'precision': 0.857401438913387, 'recall': 0.8543938422065427, 'f1-score': 0.8545007481214617, 'macro_f1-score': 0.8507535065952527, 'balanced_accuracy': 0.8646280148499779, 'mcc': 0.8219838545280118, 'train_loss': 0.09732830905445217}\n",
      "Early stopping.\n",
      "\n",
      "[Fold 5]\n",
      "Label distribution after resampling:\n",
      "  label 0: 5625\n",
      "  label 1: 5000\n",
      "  label 2: 8441\n",
      "  label 3: 10771\n",
      "  label 4: 5000\n",
      "  label 5: 5579\n",
      "  label 6: 5000\n",
      "  label 7: 5000\n",
      "model is roberta-base\n"
     ]
    },
    {
     "name": "stderr",
     "output_type": "stream",
     "text": [
      "Some weights of RobertaForSequenceClassification were not initialized from the model checkpoint at roberta-base and are newly initialized: ['classifier.dense.bias', 'classifier.dense.weight', 'classifier.out_proj.bias', 'classifier.out_proj.weight']\n",
      "You should probably TRAIN this model on a down-stream task to be able to use it for predictions and inference.\n"
     ]
    },
    {
     "name": "stdout",
     "output_type": "stream",
     "text": [
      "Epoch 1/20\n"
     ]
    },
    {
     "name": "stderr",
     "output_type": "stream",
     "text": [
      "100%|██████████| 3151/3151 [04:30<00:00, 11.66it/s]\n"
     ]
    },
    {
     "name": "stdout",
     "output_type": "stream",
     "text": [
      "{'val_loss': 0.5250129951116366, 'val_accuracy': 0.820611503100278, 'precision': 0.8330506749207859, 'recall': 0.820611503100278, 'f1-score': 0.8213002309656975, 'macro_f1-score': 0.8130921142097496, 'balanced_accuracy': 0.8622542563928741, 'mcc': 0.78482176561284, 'train_loss': 0.6188673056811047}\n",
      "Epoch 2/20\n"
     ]
    },
    {
     "name": "stderr",
     "output_type": "stream",
     "text": [
      "100%|██████████| 3151/3151 [04:30<00:00, 11.64it/s]\n"
     ]
    },
    {
     "name": "stdout",
     "output_type": "stream",
     "text": [
      "{'val_loss': 0.4603418864453068, 'val_accuracy': 0.8475518494761599, 'precision': 0.852593265822377, 'recall': 0.8475518494761599, 'f1-score': 0.8486888214595518, 'macro_f1-score': 0.8443346622098471, 'balanced_accuracy': 0.8569325635418481, 'mcc': 0.8135538798227895, 'train_loss': 0.35930783968946123}\n",
      "Epoch 3/20\n"
     ]
    },
    {
     "name": "stderr",
     "output_type": "stream",
     "text": [
      "100%|██████████| 3151/3151 [04:30<00:00, 11.65it/s]\n"
     ]
    },
    {
     "name": "stdout",
     "output_type": "stream",
     "text": [
      "{'val_loss': 0.46584330572086013, 'val_accuracy': 0.8479794740218088, 'precision': 0.8522770696714611, 'recall': 0.8479794740218088, 'f1-score': 0.8482651879633726, 'macro_f1-score': 0.8501348323849576, 'balanced_accuracy': 0.863513711322402, 'mcc': 0.8147020102896146, 'train_loss': 0.27517742210300417}\n",
      "Epoch 4/20\n"
     ]
    },
    {
     "name": "stderr",
     "output_type": "stream",
     "text": [
      "100%|██████████| 3151/3151 [04:30<00:00, 11.66it/s]\n"
     ]
    },
    {
     "name": "stdout",
     "output_type": "stream",
     "text": [
      "{'val_loss': 0.4984269321283214, 'val_accuracy': 0.8538593115244815, 'precision': 0.8585893235421547, 'recall': 0.8538593115244815, 'f1-score': 0.853923101009538, 'macro_f1-score': 0.8508626460490352, 'balanced_accuracy': 0.8684701109746341, 'mcc': 0.8212557668726067, 'train_loss': 0.21753671006658665}\n",
      "Epoch 5/20\n"
     ]
    },
    {
     "name": "stderr",
     "output_type": "stream",
     "text": [
      "100%|██████████| 3151/3151 [04:30<00:00, 11.66it/s]\n"
     ]
    },
    {
     "name": "stdout",
     "output_type": "stream",
     "text": [
      "{'val_loss': 0.5297235532241882, 'val_accuracy': 0.8551421851614283, 'precision': 0.858954071616804, 'recall': 0.8551421851614283, 'f1-score': 0.8554150300427131, 'macro_f1-score': 0.8496786563457034, 'balanced_accuracy': 0.871354884325656, 'mcc': 0.823262150831534, 'train_loss': 0.17296923689088442}\n",
      "Epoch 6/20\n"
     ]
    },
    {
     "name": "stderr",
     "output_type": "stream",
     "text": [
      "100%|██████████| 3151/3151 [04:29<00:00, 11.67it/s]\n"
     ]
    },
    {
     "name": "stdout",
     "output_type": "stream",
     "text": [
      "{'val_loss': 0.5335513409991295, 'val_accuracy': 0.8539662176608938, 'precision': 0.8566840734022397, 'recall': 0.8539662176608938, 'f1-score': 0.8544484729242565, 'macro_f1-score': 0.8484937971056989, 'balanced_accuracy': 0.8684440953790526, 'mcc': 0.821385135284496, 'train_loss': 0.1454296616730388}\n",
      "Epoch 7/20\n"
     ]
    },
    {
     "name": "stderr",
     "output_type": "stream",
     "text": [
      "100%|██████████| 3151/3151 [04:29<00:00, 11.67it/s]\n"
     ]
    },
    {
     "name": "stdout",
     "output_type": "stream",
     "text": [
      "{'val_loss': 0.569957856899207, 'val_accuracy': 0.8537524053880693, 'precision': 0.856743950080559, 'recall': 0.8537524053880693, 'f1-score': 0.8543997037890003, 'macro_f1-score': 0.8439411987912022, 'balanced_accuracy': 0.8646655434904233, 'mcc': 0.8213133943208887, 'train_loss': 0.12535478100398234}\n",
      "Early stopping.\n",
      "\n",
      " === roberta-base + plain + ros Final 5-fold Cross-Validation Results ===\n",
      "val_loss: 0.4930\n",
      "val_accuracy: 0.8612\n",
      "precision: 0.8631\n",
      "recall: 0.8612\n",
      "f1-score: 0.8612\n",
      "macro_f1-score: 0.8601\n",
      "balanced_accuracy: 0.8658\n",
      "mcc: 0.8296\n",
      "train_loss: 0.1842\n",
      "total_seconds: 11319.0000\n",
      "total_time: 3 hrs 8 mins 39 secs\n",
      "▶ Running: roberta-base + cnn + ros\n",
      "tokenizer is roberta-base\n",
      "Using device: cuda\n",
      "CUDA Available: True\n",
      "CUDA Device: NVIDIA GeForce RTX 5070 Ti\n",
      "Current GPU Memory Allocated: 0.02 GB\n",
      "Current GPU Memory Cached: 3.91 GB\n",
      "\n",
      "[Fold 1]\n",
      "Label distribution after resampling:\n",
      "  label 0: 5626\n",
      "  label 1: 5000\n",
      "  label 2: 8442\n",
      "  label 3: 10770\n",
      "  label 4: 5000\n",
      "  label 5: 5578\n",
      "  label 6: 5000\n",
      "  label 7: 5000\n",
      "model is roberta-base cnn\n"
     ]
    },
    {
     "name": "stderr",
     "output_type": "stream",
     "text": [
      "Some weights of RobertaModel were not initialized from the model checkpoint at roberta-base and are newly initialized: ['pooler.dense.bias', 'pooler.dense.weight']\n",
      "You should probably TRAIN this model on a down-stream task to be able to use it for predictions and inference.\n"
     ]
    },
    {
     "name": "stdout",
     "output_type": "stream",
     "text": [
      "Epoch 1/20\n"
     ]
    },
    {
     "name": "stderr",
     "output_type": "stream",
     "text": [
      "100%|██████████| 3151/3151 [04:35<00:00, 11.45it/s]\n"
     ]
    },
    {
     "name": "stdout",
     "output_type": "stream",
     "text": [
      "{'val_loss': 0.626863438795265, 'val_accuracy': 0.8042757883484768, 'precision': 0.8177112814508581, 'recall': 0.8042757883484768, 'f1-score': 0.8041116930624824, 'macro_f1-score': 0.806045394146736, 'balanced_accuracy': 0.8290968095438898, 'mcc': 0.7608105707669461, 'train_loss': 0.6060156972711757}\n",
      "Epoch 2/20\n"
     ]
    },
    {
     "name": "stderr",
     "output_type": "stream",
     "text": [
      "100%|██████████| 3151/3151 [04:35<00:00, 11.43it/s]\n"
     ]
    },
    {
     "name": "stdout",
     "output_type": "stream",
     "text": [
      "{'val_loss': 0.4727152143151332, 'val_accuracy': 0.8415820416889364, 'precision': 0.8473814021466675, 'recall': 0.8415820416889364, 'f1-score': 0.8421364130313407, 'macro_f1-score': 0.8390404393883533, 'balanced_accuracy': 0.8585642102926418, 'mcc': 0.806889729444014, 'train_loss': 0.3876747652765343}\n",
      "Epoch 3/20\n"
     ]
    },
    {
     "name": "stderr",
     "output_type": "stream",
     "text": [
      "100%|██████████| 3151/3151 [04:35<00:00, 11.46it/s]\n"
     ]
    },
    {
     "name": "stdout",
     "output_type": "stream",
     "text": [
      "{'val_loss': 0.466237782403572, 'val_accuracy': 0.8488508818813468, 'precision': 0.8536554029488557, 'recall': 0.8488508818813468, 'f1-score': 0.8496868093366657, 'macro_f1-score': 0.8410410607090841, 'balanced_accuracy': 0.865228780737773, 'mcc': 0.8157658170680834, 'train_loss': 0.30124395361754797}\n",
      "Epoch 4/20\n"
     ]
    },
    {
     "name": "stderr",
     "output_type": "stream",
     "text": [
      "100%|██████████| 3151/3151 [04:34<00:00, 11.46it/s]\n"
     ]
    },
    {
     "name": "stdout",
     "output_type": "stream",
     "text": [
      "{'val_loss': 0.4234573015385968, 'val_accuracy': 0.8628540887226083, 'precision': 0.8641235330467936, 'recall': 0.8628540887226083, 'f1-score': 0.8627464006435096, 'macro_f1-score': 0.8581471299290698, 'balanced_accuracy': 0.8630010782223971, 'mcc': 0.831819026434896, 'train_loss': 0.23687101096421437}\n",
      "Epoch 5/20\n"
     ]
    },
    {
     "name": "stderr",
     "output_type": "stream",
     "text": [
      "100%|██████████| 3151/3151 [04:34<00:00, 11.46it/s]\n"
     ]
    },
    {
     "name": "stdout",
     "output_type": "stream",
     "text": [
      "{'val_loss': 0.460515241834343, 'val_accuracy': 0.8550507749866382, 'precision': 0.8571471026922781, 'recall': 0.8550507749866382, 'f1-score': 0.8552528167276935, 'macro_f1-score': 0.8495447043637929, 'balanced_accuracy': 0.8564198507337492, 'mcc': 0.8221328892584481, 'train_loss': 0.19160742016695528}\n",
      "Epoch 6/20\n"
     ]
    },
    {
     "name": "stderr",
     "output_type": "stream",
     "text": [
      "100%|██████████| 3151/3151 [04:34<00:00, 11.46it/s]\n"
     ]
    },
    {
     "name": "stdout",
     "output_type": "stream",
     "text": [
      "{'val_loss': 0.463255823454541, 'val_accuracy': 0.8587920897915553, 'precision': 0.8625485870157996, 'recall': 0.8587920897915553, 'f1-score': 0.8590758957006563, 'macro_f1-score': 0.853037618260906, 'balanced_accuracy': 0.8565351880626364, 'mcc': 0.8264963589925524, 'train_loss': 0.1550524192707411}\n",
      "Epoch 7/20\n"
     ]
    },
    {
     "name": "stderr",
     "output_type": "stream",
     "text": [
      "100%|██████████| 3151/3151 [04:35<00:00, 11.46it/s]\n"
     ]
    },
    {
     "name": "stdout",
     "output_type": "stream",
     "text": [
      "{'val_loss': 0.5810880248546282, 'val_accuracy': 0.8509887760555852, 'precision': 0.8561520757596559, 'recall': 0.8509887760555852, 'f1-score': 0.8515565199704471, 'macro_f1-score': 0.8461999956673165, 'balanced_accuracy': 0.860738138729322, 'mcc': 0.8185054685153295, 'train_loss': 0.13380337129963646}\n",
      "Early stopping.\n",
      "\n",
      "[Fold 2]\n",
      "Label distribution after resampling:\n",
      "  label 0: 5626\n",
      "  label 1: 5000\n",
      "  label 2: 8442\n",
      "  label 3: 10770\n",
      "  label 4: 5000\n",
      "  label 5: 5578\n",
      "  label 6: 5000\n",
      "  label 7: 5000\n",
      "model is roberta-base cnn\n"
     ]
    },
    {
     "name": "stderr",
     "output_type": "stream",
     "text": [
      "Some weights of RobertaModel were not initialized from the model checkpoint at roberta-base and are newly initialized: ['pooler.dense.bias', 'pooler.dense.weight']\n",
      "You should probably TRAIN this model on a down-stream task to be able to use it for predictions and inference.\n"
     ]
    },
    {
     "name": "stdout",
     "output_type": "stream",
     "text": [
      "Epoch 1/20\n"
     ]
    },
    {
     "name": "stderr",
     "output_type": "stream",
     "text": [
      "100%|██████████| 3151/3151 [04:35<00:00, 11.43it/s]\n"
     ]
    },
    {
     "name": "stdout",
     "output_type": "stream",
     "text": [
      "{'val_loss': 0.5704639941326574, 'val_accuracy': 0.813254943880278, 'precision': 0.8225887205460137, 'recall': 0.813254943880278, 'f1-score': 0.8137265119341196, 'macro_f1-score': 0.8121041659088183, 'balanced_accuracy': 0.8504333245215772, 'mcc': 0.7747046625348306, 'train_loss': 0.602223266500735}\n",
      "Epoch 2/20\n"
     ]
    },
    {
     "name": "stderr",
     "output_type": "stream",
     "text": [
      "100%|██████████| 3151/3151 [04:35<00:00, 11.44it/s]\n"
     ]
    },
    {
     "name": "stdout",
     "output_type": "stream",
     "text": [
      "{'val_loss': 0.4795254200378544, 'val_accuracy': 0.8357028327097809, 'precision': 0.8415223544001447, 'recall': 0.8357028327097809, 'f1-score': 0.8360911684897606, 'macro_f1-score': 0.835314593895074, 'balanced_accuracy': 0.8582873146951604, 'mcc': 0.8005408486191125, 'train_loss': 0.3804083924284793}\n",
      "Epoch 3/20\n"
     ]
    },
    {
     "name": "stderr",
     "output_type": "stream",
     "text": [
      "100%|██████████| 3151/3151 [04:35<00:00, 11.45it/s]\n"
     ]
    },
    {
     "name": "stdout",
     "output_type": "stream",
     "text": [
      "{'val_loss': 0.45011317031378417, 'val_accuracy': 0.8472474612506681, 'precision': 0.8487875926796691, 'recall': 0.8472474612506681, 'f1-score': 0.8469473142540198, 'macro_f1-score': 0.8448011809150928, 'balanced_accuracy': 0.859073130309626, 'mcc': 0.8133142083078083, 'train_loss': 0.2941643242596852}\n",
      "Epoch 4/20\n"
     ]
    },
    {
     "name": "stderr",
     "output_type": "stream",
     "text": [
      "100%|██████████| 3151/3151 [04:35<00:00, 11.46it/s]\n"
     ]
    },
    {
     "name": "stdout",
     "output_type": "stream",
     "text": [
      "{'val_loss': 0.48853148740644636, 'val_accuracy': 0.8457509353287013, 'precision': 0.8511317861455038, 'recall': 0.8457509353287013, 'f1-score': 0.8461336695336286, 'macro_f1-score': 0.8416912030399614, 'balanced_accuracy': 0.8698528341360433, 'mcc': 0.8129426296544139, 'train_loss': 0.2330995632165003}\n",
      "Epoch 5/20\n"
     ]
    },
    {
     "name": "stderr",
     "output_type": "stream",
     "text": [
      "100%|██████████| 3151/3151 [04:34<00:00, 11.46it/s]\n"
     ]
    },
    {
     "name": "stdout",
     "output_type": "stream",
     "text": [
      "{'val_loss': 0.5197367837302324, 'val_accuracy': 0.8401924104756815, 'precision': 0.8450959869424535, 'recall': 0.8401924104756815, 'f1-score': 0.8401746086450884, 'macro_f1-score': 0.837757711623837, 'balanced_accuracy': 0.8646286641086762, 'mcc': 0.8061159490239467, 'train_loss': 0.18820286685773338}\n",
      "Epoch 6/20\n"
     ]
    },
    {
     "name": "stderr",
     "output_type": "stream",
     "text": [
      "100%|██████████| 3151/3151 [04:35<00:00, 11.46it/s]\n"
     ]
    },
    {
     "name": "stdout",
     "output_type": "stream",
     "text": [
      "{'val_loss': 0.5219312316093307, 'val_accuracy': 0.8479957242116515, 'precision': 0.8509690596325415, 'recall': 0.8479957242116515, 'f1-score': 0.8479404458178873, 'macro_f1-score': 0.8461171257624085, 'balanced_accuracy': 0.8649910254021262, 'mcc': 0.8150929723753357, 'train_loss': 0.15245333020601945}\n",
      "Epoch 7/20\n"
     ]
    },
    {
     "name": "stderr",
     "output_type": "stream",
     "text": [
      "100%|██████████| 3151/3151 [04:34<00:00, 11.46it/s]\n"
     ]
    },
    {
     "name": "stdout",
     "output_type": "stream",
     "text": [
      "{'val_loss': 0.6832938622341006, 'val_accuracy': 0.8300374131480491, 'precision': 0.8338707440009301, 'recall': 0.8300374131480491, 'f1-score': 0.8294832817118211, 'macro_f1-score': 0.8289728877135895, 'balanced_accuracy': 0.8374231124678202, 'mcc': 0.7915519892877375, 'train_loss': 0.13439536551149547}\n",
      "Epoch 8/20\n"
     ]
    },
    {
     "name": "stderr",
     "output_type": "stream",
     "text": [
      "100%|██████████| 3151/3151 [04:34<00:00, 11.46it/s]\n"
     ]
    },
    {
     "name": "stdout",
     "output_type": "stream",
     "text": [
      "{'val_loss': 0.528690238804835, 'val_accuracy': 0.8424371993586317, 'precision': 0.8452232607207786, 'recall': 0.8424371993586317, 'f1-score': 0.8420530744182316, 'macro_f1-score': 0.8444204918615843, 'balanced_accuracy': 0.8615170454829764, 'mcc': 0.8083386518349575, 'train_loss': 0.11690637953540263}\n",
      "Epoch 9/20\n"
     ]
    },
    {
     "name": "stderr",
     "output_type": "stream",
     "text": [
      "100%|██████████| 3151/3151 [04:34<00:00, 11.46it/s]\n"
     ]
    },
    {
     "name": "stdout",
     "output_type": "stream",
     "text": [
      "{'val_loss': 0.5740167162476633, 'val_accuracy': 0.8475681453768038, 'precision': 0.8494316081087613, 'recall': 0.8475681453768038, 'f1-score': 0.8471772768237735, 'macro_f1-score': 0.8468387764219273, 'balanced_accuracy': 0.8589375041822893, 'mcc': 0.8140481045244454, 'train_loss': 0.0932054146308164}\n",
      "Epoch 10/20\n"
     ]
    },
    {
     "name": "stderr",
     "output_type": "stream",
     "text": [
      "100%|██████████| 3151/3151 [04:34<00:00, 11.46it/s]\n"
     ]
    },
    {
     "name": "stdout",
     "output_type": "stream",
     "text": [
      "{'val_loss': 0.7011285723827811, 'val_accuracy': 0.8426509887760556, 'precision': 0.8470653966387223, 'recall': 0.8426509887760556, 'f1-score': 0.8423549935615336, 'macro_f1-score': 0.8466178146737197, 'balanced_accuracy': 0.8553207562211553, 'mcc': 0.8089342638250204, 'train_loss': 0.09344081822286576}\n",
      "Epoch 11/20\n"
     ]
    },
    {
     "name": "stderr",
     "output_type": "stream",
     "text": [
      "100%|██████████| 3151/3151 [04:34<00:00, 11.46it/s]\n"
     ]
    },
    {
     "name": "stdout",
     "output_type": "stream",
     "text": [
      "{'val_loss': 0.5855578459401288, 'val_accuracy': 0.8503474078033137, 'precision': 0.8514162528375832, 'recall': 0.8503474078033137, 'f1-score': 0.8502216987783363, 'macro_f1-score': 0.8498084244914522, 'balanced_accuracy': 0.8610180260531772, 'mcc': 0.8165495394251773, 'train_loss': 0.07797268268567323}\n",
      "Epoch 12/20\n"
     ]
    },
    {
     "name": "stderr",
     "output_type": "stream",
     "text": [
      "100%|██████████| 3151/3151 [04:34<00:00, 11.46it/s]\n"
     ]
    },
    {
     "name": "stdout",
     "output_type": "stream",
     "text": [
      "{'val_loss': 0.6909022755666167, 'val_accuracy': 0.8515232495991448, 'precision': 0.8540515688455956, 'recall': 0.8515232495991448, 'f1-score': 0.8518536461090684, 'macro_f1-score': 0.851718827334063, 'balanced_accuracy': 0.8599083103259328, 'mcc': 0.8180536148513636, 'train_loss': 0.06959072053682401}\n",
      "Epoch 13/20\n"
     ]
    },
    {
     "name": "stderr",
     "output_type": "stream",
     "text": [
      "100%|██████████| 3151/3151 [04:34<00:00, 11.47it/s]\n"
     ]
    },
    {
     "name": "stdout",
     "output_type": "stream",
     "text": [
      "{'val_loss': 0.5910176219928086, 'val_accuracy': 0.8491715660074827, 'precision': 0.8500120400053781, 'recall': 0.8491715660074827, 'f1-score': 0.8488855608475383, 'macro_f1-score': 0.8485942109951975, 'balanced_accuracy': 0.8507267908107663, 'mcc': 0.815273641670068, 'train_loss': 0.06758684023761387}\n",
      "Epoch 14/20\n"
     ]
    },
    {
     "name": "stderr",
     "output_type": "stream",
     "text": [
      "100%|██████████| 3151/3151 [04:34<00:00, 11.47it/s]\n"
     ]
    },
    {
     "name": "stdout",
     "output_type": "stream",
     "text": [
      "{'val_loss': 0.7631534231392841, 'val_accuracy': 0.8482095136290754, 'precision': 0.8498136538821743, 'recall': 0.8482095136290754, 'f1-score': 0.8485156194308616, 'macro_f1-score': 0.8444142430051208, 'balanced_accuracy': 0.8566136912421746, 'mcc': 0.8138660607096657, 'train_loss': 0.06926253776281989}\n",
      "Epoch 15/20\n"
     ]
    },
    {
     "name": "stderr",
     "output_type": "stream",
     "text": [
      "100%|██████████| 3151/3151 [04:34<00:00, 11.47it/s]\n"
     ]
    },
    {
     "name": "stdout",
     "output_type": "stream",
     "text": [
      "{'val_loss': 0.7445894294034323, 'val_accuracy': 0.8469267771245323, 'precision': 0.848225566646454, 'recall': 0.8469267771245323, 'f1-score': 0.8469231489314415, 'macro_f1-score': 0.8447315771416218, 'balanced_accuracy': 0.8575645708178395, 'mcc': 0.8121174176740519, 'train_loss': 0.056370896878423025}\n",
      "Early stopping.\n",
      "\n",
      "[Fold 3]\n",
      "Label distribution after resampling:\n",
      "  label 0: 5626\n",
      "  label 1: 5000\n",
      "  label 2: 8442\n",
      "  label 3: 10770\n",
      "  label 4: 5000\n",
      "  label 5: 5578\n",
      "  label 6: 5000\n",
      "  label 7: 5000\n",
      "model is roberta-base cnn\n"
     ]
    },
    {
     "name": "stderr",
     "output_type": "stream",
     "text": [
      "Some weights of RobertaModel were not initialized from the model checkpoint at roberta-base and are newly initialized: ['pooler.dense.bias', 'pooler.dense.weight']\n",
      "You should probably TRAIN this model on a down-stream task to be able to use it for predictions and inference.\n"
     ]
    },
    {
     "name": "stdout",
     "output_type": "stream",
     "text": [
      "Epoch 1/20\n"
     ]
    },
    {
     "name": "stderr",
     "output_type": "stream",
     "text": [
      "100%|██████████| 3151/3151 [04:35<00:00, 11.45it/s]\n"
     ]
    },
    {
     "name": "stdout",
     "output_type": "stream",
     "text": [
      "{'val_loss': 0.502525403127711, 'val_accuracy': 0.8362197990164636, 'precision': 0.842829549880553, 'recall': 0.8362197990164636, 'f1-score': 0.836991202999515, 'macro_f1-score': 0.8345842910666064, 'balanced_accuracy': 0.8612850582112485, 'mcc': 0.8012097607310473, 'train_loss': 0.6021005963993542}\n",
      "Epoch 2/20\n"
     ]
    },
    {
     "name": "stderr",
     "output_type": "stream",
     "text": [
      "100%|██████████| 3151/3151 [04:35<00:00, 11.46it/s]\n"
     ]
    },
    {
     "name": "stdout",
     "output_type": "stream",
     "text": [
      "{'val_loss': 0.4409585999149797, 'val_accuracy': 0.8538593115244815, 'precision': 0.8605790077116923, 'recall': 0.8538593115244815, 'f1-score': 0.8549523797251694, 'macro_f1-score': 0.8553772968300573, 'balanced_accuracy': 0.864653568032572, 'mcc': 0.8206181452063538, 'train_loss': 0.3757858879170231}\n",
      "Epoch 3/20\n"
     ]
    },
    {
     "name": "stderr",
     "output_type": "stream",
     "text": [
      "100%|██████████| 3151/3151 [04:35<00:00, 11.46it/s]\n"
     ]
    },
    {
     "name": "stdout",
     "output_type": "stream",
     "text": [
      "{'val_loss': 0.4486095738525574, 'val_accuracy': 0.8515073765234125, 'precision': 0.8594792141747692, 'recall': 0.8515073765234125, 'f1-score': 0.8525311729005058, 'macro_f1-score': 0.8445876353199926, 'balanced_accuracy': 0.877588228393706, 'mcc': 0.8196324934549951, 'train_loss': 0.2853894867706407}\n",
      "Epoch 4/20\n"
     ]
    },
    {
     "name": "stderr",
     "output_type": "stream",
     "text": [
      "100%|██████████| 3151/3151 [04:35<00:00, 11.45it/s]\n"
     ]
    },
    {
     "name": "stdout",
     "output_type": "stream",
     "text": [
      "{'val_loss': 0.4326070636001408, 'val_accuracy': 0.8541800299337182, 'precision': 0.8583294311018216, 'recall': 0.8541800299337182, 'f1-score': 0.8535687540185343, 'macro_f1-score': 0.8581004244494272, 'balanced_accuracy': 0.8710700022555646, 'mcc': 0.8230505584625937, 'train_loss': 0.22344406062242925}\n",
      "Epoch 5/20\n"
     ]
    },
    {
     "name": "stderr",
     "output_type": "stream",
     "text": [
      "100%|██████████| 3151/3151 [04:35<00:00, 11.45it/s]\n"
     ]
    },
    {
     "name": "stdout",
     "output_type": "stream",
     "text": [
      "{'val_loss': 0.478785591537499, 'val_accuracy': 0.8615565533461621, 'precision': 0.8651918830539514, 'recall': 0.8615565533461621, 'f1-score': 0.8619685041115502, 'macro_f1-score': 0.8624379404187157, 'balanced_accuracy': 0.8719047065634423, 'mcc': 0.8301192977325478, 'train_loss': 0.18287437442890084}\n",
      "Epoch 6/20\n"
     ]
    },
    {
     "name": "stderr",
     "output_type": "stream",
     "text": [
      "100%|██████████| 3151/3151 [04:34<00:00, 11.46it/s]\n"
     ]
    },
    {
     "name": "stdout",
     "output_type": "stream",
     "text": [
      "{'val_loss': 0.4672314703400828, 'val_accuracy': 0.8670087663031858, 'precision': 0.8687180684505429, 'recall': 0.8670087663031858, 'f1-score': 0.8669904499601642, 'macro_f1-score': 0.8647913815147855, 'balanced_accuracy': 0.862050534489939, 'mcc': 0.8364252927604402, 'train_loss': 0.14973347338211837}\n",
      "Epoch 7/20\n"
     ]
    },
    {
     "name": "stderr",
     "output_type": "stream",
     "text": [
      "100%|██████████| 3151/3151 [04:34<00:00, 11.46it/s]\n"
     ]
    },
    {
     "name": "stdout",
     "output_type": "stream",
     "text": [
      "{'val_loss': 0.48936322662087844, 'val_accuracy': 0.8642292067564679, 'precision': 0.866812374815092, 'recall': 0.8642292067564679, 'f1-score': 0.8648418613792102, 'macro_f1-score': 0.8606623836130185, 'balanced_accuracy': 0.865530129548324, 'mcc': 0.8331370395714477, 'train_loss': 0.12365936346009099}\n",
      "Epoch 8/20\n"
     ]
    },
    {
     "name": "stderr",
     "output_type": "stream",
     "text": [
      "100%|██████████| 3151/3151 [04:34<00:00, 11.46it/s]\n"
     ]
    },
    {
     "name": "stdout",
     "output_type": "stream",
     "text": [
      "{'val_loss': 0.6453361168949523, 'val_accuracy': 0.8540731237973059, 'precision': 0.8586883922981579, 'recall': 0.8540731237973059, 'f1-score': 0.8530070002414091, 'macro_f1-score': 0.8552321074003011, 'balanced_accuracy': 0.8662319163698942, 'mcc': 0.8234069377716605, 'train_loss': 0.10479176341037778}\n",
      "Epoch 9/20\n"
     ]
    },
    {
     "name": "stderr",
     "output_type": "stream",
     "text": [
      "100%|██████████| 3151/3151 [04:40<00:00, 11.24it/s]\n"
     ]
    },
    {
     "name": "stdout",
     "output_type": "stream",
     "text": [
      "{'val_loss': 0.4984070772492191, 'val_accuracy': 0.8659397049390635, 'precision': 0.8660771335932181, 'recall': 0.8659397049390635, 'f1-score': 0.8658198082651113, 'macro_f1-score': 0.864696558308909, 'balanced_accuracy': 0.8576770877846634, 'mcc': 0.8346816173709576, 'train_loss': 0.09427792917290051}\n",
      "Early stopping.\n",
      "\n",
      "[Fold 4]\n",
      "Label distribution after resampling:\n",
      "  label 0: 5625\n",
      "  label 1: 5000\n",
      "  label 2: 8441\n",
      "  label 3: 10771\n",
      "  label 4: 5000\n",
      "  label 5: 5579\n",
      "  label 6: 5000\n",
      "  label 7: 5000\n",
      "model is roberta-base cnn\n"
     ]
    },
    {
     "name": "stderr",
     "output_type": "stream",
     "text": [
      "Some weights of RobertaModel were not initialized from the model checkpoint at roberta-base and are newly initialized: ['pooler.dense.bias', 'pooler.dense.weight']\n",
      "You should probably TRAIN this model on a down-stream task to be able to use it for predictions and inference.\n"
     ]
    },
    {
     "name": "stdout",
     "output_type": "stream",
     "text": [
      "Epoch 1/20\n"
     ]
    },
    {
     "name": "stderr",
     "output_type": "stream",
     "text": [
      "100%|██████████| 3151/3151 [04:40<00:00, 11.24it/s]\n"
     ]
    },
    {
     "name": "stdout",
     "output_type": "stream",
     "text": [
      "{'val_loss': 0.6053568564291694, 'val_accuracy': 0.8090656403677571, 'precision': 0.818629679165776, 'recall': 0.8090656403677571, 'f1-score': 0.807804214918182, 'macro_f1-score': 0.8098135643714178, 'balanced_accuracy': 0.8519734476948488, 'mcc': 0.7715246076459034, 'train_loss': 0.6312119988828037}\n",
      "Epoch 2/20\n"
     ]
    },
    {
     "name": "stderr",
     "output_type": "stream",
     "text": [
      "100%|██████████| 3151/3151 [04:39<00:00, 11.29it/s]\n"
     ]
    },
    {
     "name": "stdout",
     "output_type": "stream",
     "text": [
      "{'val_loss': 0.4920245615335611, 'val_accuracy': 0.8318366474235621, 'precision': 0.8392983663957525, 'recall': 0.8318366474235621, 'f1-score': 0.8330087976866948, 'macro_f1-score': 0.8304174327698295, 'balanced_accuracy': 0.8515536278123552, 'mcc': 0.7956492615255535, 'train_loss': 0.38828433533732626}\n",
      "Epoch 3/20\n"
     ]
    },
    {
     "name": "stderr",
     "output_type": "stream",
     "text": [
      "100%|██████████| 3151/3151 [04:38<00:00, 11.31it/s]\n"
     ]
    },
    {
     "name": "stdout",
     "output_type": "stream",
     "text": [
      "{'val_loss': 0.4540097203121608, 'val_accuracy': 0.8555698097070772, 'precision': 0.8578395623867295, 'recall': 0.8555698097070772, 'f1-score': 0.8558764998286098, 'macro_f1-score': 0.8516938334434166, 'balanced_accuracy': 0.8574367220899382, 'mcc': 0.8226312239896151, 'train_loss': 0.29863581274583184}\n",
      "Epoch 4/20\n"
     ]
    },
    {
     "name": "stderr",
     "output_type": "stream",
     "text": [
      "100%|██████████| 3151/3151 [04:38<00:00, 11.31it/s]\n"
     ]
    },
    {
     "name": "stdout",
     "output_type": "stream",
     "text": [
      "{'val_loss': 0.47233864632872946, 'val_accuracy': 0.8509728458413512, 'precision': 0.8547651817913772, 'recall': 0.8509728458413512, 'f1-score': 0.8507473011416593, 'macro_f1-score': 0.8482082970425324, 'balanced_accuracy': 0.869649931238514, 'mcc': 0.8190695558027085, 'train_loss': 0.23661593763831315}\n",
      "Epoch 5/20\n"
     ]
    },
    {
     "name": "stderr",
     "output_type": "stream",
     "text": [
      "100%|██████████| 3151/3151 [04:38<00:00, 11.32it/s]\n"
     ]
    },
    {
     "name": "stdout",
     "output_type": "stream",
     "text": [
      "{'val_loss': 0.4455590265301558, 'val_accuracy': 0.8573872140260851, 'precision': 0.8643735339060107, 'recall': 0.8573872140260851, 'f1-score': 0.8577670606667809, 'macro_f1-score': 0.8586256698114378, 'balanced_accuracy': 0.8381032076490217, 'mcc': 0.8245709659101076, 'train_loss': 0.1959705491223964}\n",
      "Epoch 6/20\n"
     ]
    },
    {
     "name": "stderr",
     "output_type": "stream",
     "text": [
      "100%|██████████| 3151/3151 [04:38<00:00, 11.31it/s]\n"
     ]
    },
    {
     "name": "stdout",
     "output_type": "stream",
     "text": [
      "{'val_loss': 0.4566181438911356, 'val_accuracy': 0.8690399828950182, 'precision': 0.8694999487860225, 'recall': 0.8690399828950182, 'f1-score': 0.8690565328138796, 'macro_f1-score': 0.8686604692632127, 'balanced_accuracy': 0.8628473148597, 'mcc': 0.8385095984094081, 'train_loss': 0.16033799667709386}\n",
      "Epoch 7/20\n"
     ]
    },
    {
     "name": "stderr",
     "output_type": "stream",
     "text": [
      "100%|██████████| 3151/3151 [04:38<00:00, 11.31it/s]\n"
     ]
    },
    {
     "name": "stdout",
     "output_type": "stream",
     "text": [
      "{'val_loss': 0.49498811121234015, 'val_accuracy': 0.8589908060722685, 'precision': 0.8592327192557884, 'recall': 0.8589908060722685, 'f1-score': 0.8588425848669651, 'macro_f1-score': 0.8588771002711801, 'balanced_accuracy': 0.8569952690513756, 'mcc': 0.8264664587122205, 'train_loss': 0.13264218977721504}\n",
      "Epoch 8/20\n"
     ]
    },
    {
     "name": "stderr",
     "output_type": "stream",
     "text": [
      "100%|██████████| 3151/3151 [04:38<00:00, 11.32it/s]\n"
     ]
    },
    {
     "name": "stdout",
     "output_type": "stream",
     "text": [
      "{'val_loss': 0.5109019667180812, 'val_accuracy': 0.8639084883472311, 'precision': 0.8644730559998001, 'recall': 0.8639084883472311, 'f1-score': 0.8638211096386481, 'macro_f1-score': 0.8617015628367741, 'balanced_accuracy': 0.8596912640382068, 'mcc': 0.8324087633153682, 'train_loss': 0.11215133404467878}\n",
      "Epoch 9/20\n"
     ]
    },
    {
     "name": "stderr",
     "output_type": "stream",
     "text": [
      "100%|██████████| 3151/3151 [04:38<00:00, 11.32it/s]\n"
     ]
    },
    {
     "name": "stdout",
     "output_type": "stream",
     "text": [
      "{'val_loss': 0.6001565872862712, 'val_accuracy': 0.8440239469745563, 'precision': 0.8506794002798499, 'recall': 0.8440239469745563, 'f1-score': 0.8449272580382219, 'macro_f1-score': 0.8403111736606796, 'balanced_accuracy': 0.8672495687560883, 'mcc': 0.8107898944862046, 'train_loss': 0.09967242657800371}\n",
      "Early stopping.\n",
      "\n",
      "[Fold 5]\n",
      "Label distribution after resampling:\n",
      "  label 0: 5625\n",
      "  label 1: 5000\n",
      "  label 2: 8441\n",
      "  label 3: 10771\n",
      "  label 4: 5000\n",
      "  label 5: 5579\n",
      "  label 6: 5000\n",
      "  label 7: 5000\n",
      "model is roberta-base cnn\n"
     ]
    },
    {
     "name": "stderr",
     "output_type": "stream",
     "text": [
      "Some weights of RobertaModel were not initialized from the model checkpoint at roberta-base and are newly initialized: ['pooler.dense.bias', 'pooler.dense.weight']\n",
      "You should probably TRAIN this model on a down-stream task to be able to use it for predictions and inference.\n"
     ]
    },
    {
     "name": "stdout",
     "output_type": "stream",
     "text": [
      "Epoch 1/20\n"
     ]
    },
    {
     "name": "stderr",
     "output_type": "stream",
     "text": [
      "100%|██████████| 3151/3151 [04:37<00:00, 11.34it/s]\n"
     ]
    },
    {
     "name": "stdout",
     "output_type": "stream",
     "text": [
      "{'val_loss': 1.988513419770787, 'val_accuracy': 0.28779131922172335, 'precision': 0.08282384341937987, 'recall': 0.28779131922172335, 'f1-score': 0.12862929293456404, 'macro_f1-score': 0.055869168188610326, 'balanced_accuracy': 0.125, 'mcc': 0.0, 'train_loss': 2.0450412358075467}\n",
      "Epoch 2/20\n"
     ]
    },
    {
     "name": "stderr",
     "output_type": "stream",
     "text": [
      "100%|██████████| 3151/3151 [04:37<00:00, 11.36it/s]\n"
     ]
    },
    {
     "name": "stdout",
     "output_type": "stream",
     "text": [
      "{'val_loss': 1.9831024805704753, 'val_accuracy': 0.28779131922172335, 'precision': 0.08282384341937987, 'recall': 0.28779131922172335, 'f1-score': 0.12862929293456404, 'macro_f1-score': 0.055869168188610326, 'balanced_accuracy': 0.125, 'mcc': 0.0, 'train_loss': 2.0407516553038003}\n",
      "Epoch 3/20\n"
     ]
    },
    {
     "name": "stderr",
     "output_type": "stream",
     "text": [
      "100%|██████████| 3151/3151 [04:37<00:00, 11.33it/s]\n"
     ]
    },
    {
     "name": "stdout",
     "output_type": "stream",
     "text": [
      "{'val_loss': 1.9783355649719891, 'val_accuracy': 0.28779131922172335, 'precision': 0.08282384341937987, 'recall': 0.28779131922172335, 'f1-score': 0.12862929293456404, 'macro_f1-score': 0.055869168188610326, 'balanced_accuracy': 0.125, 'mcc': 0.0, 'train_loss': 2.0394877143906474}\n",
      "Epoch 4/20\n"
     ]
    },
    {
     "name": "stderr",
     "output_type": "stream",
     "text": [
      "100%|██████████| 3151/3151 [04:37<00:00, 11.34it/s]\n"
     ]
    },
    {
     "name": "stdout",
     "output_type": "stream",
     "text": [
      "{'val_loss': 1.9551826036893405, 'val_accuracy': 0.28779131922172335, 'precision': 0.08282384341937987, 'recall': 0.28779131922172335, 'f1-score': 0.12862929293456404, 'macro_f1-score': 0.055869168188610326, 'balanced_accuracy': 0.125, 'mcc': 0.0, 'train_loss': 2.038184327876443}\n",
      "Early stopping.\n",
      "\n",
      " === roberta-base + cnn + ros Final 5-fold Cross-Validation Results ===\n",
      "val_loss: 0.8053\n",
      "val_accuracy: 0.7476\n",
      "precision: 0.7078\n",
      "recall: 0.7476\n",
      "f1-score: 0.7159\n",
      "macro_f1-score: 0.6998\n",
      "balanced_accuracy: 0.7146\n",
      "mcc: 0.6650\n",
      "train_loss: 0.5323\n",
      "total_seconds: 13089.0000\n",
      "total_time: 3 hrs 38 mins 9 secs\n",
      "▶ Running: roberta-base + lstm + ros\n",
      "tokenizer is roberta-base\n",
      "Using device: cuda\n",
      "CUDA Available: True\n",
      "CUDA Device: NVIDIA GeForce RTX 5070 Ti\n",
      "Current GPU Memory Allocated: 0.02 GB\n",
      "Current GPU Memory Cached: 3.91 GB\n",
      "\n",
      "[Fold 1]\n",
      "Label distribution after resampling:\n",
      "  label 0: 5626\n",
      "  label 1: 5000\n",
      "  label 2: 8442\n",
      "  label 3: 10770\n",
      "  label 4: 5000\n",
      "  label 5: 5578\n",
      "  label 6: 5000\n",
      "  label 7: 5000\n",
      "model is roberta-base lstm\n"
     ]
    },
    {
     "name": "stderr",
     "output_type": "stream",
     "text": [
      "Some weights of RobertaModel were not initialized from the model checkpoint at roberta-base and are newly initialized: ['pooler.dense.bias', 'pooler.dense.weight']\n",
      "You should probably TRAIN this model on a down-stream task to be able to use it for predictions and inference.\n"
     ]
    },
    {
     "name": "stdout",
     "output_type": "stream",
     "text": [
      "Epoch 1/20\n"
     ]
    },
    {
     "name": "stderr",
     "output_type": "stream",
     "text": [
      "100%|██████████| 3151/3151 [04:58<00:00, 10.57it/s]\n"
     ]
    },
    {
     "name": "stdout",
     "output_type": "stream",
     "text": [
      "{'val_loss': 0.5751696211277929, 'val_accuracy': 0.8178514163548904, 'precision': 0.8271666748336604, 'recall': 0.8178514163548904, 'f1-score': 0.8199817818748152, 'macro_f1-score': 0.8137253713503183, 'balanced_accuracy': 0.8413149759547411, 'mcc': 0.7781825674099051, 'train_loss': 0.967560058470871}\n",
      "Epoch 2/20\n"
     ]
    },
    {
     "name": "stderr",
     "output_type": "stream",
     "text": [
      "100%|██████████| 3151/3151 [04:57<00:00, 10.58it/s]\n"
     ]
    },
    {
     "name": "stdout",
     "output_type": "stream",
     "text": [
      "{'val_loss': 0.5136525130870505, 'val_accuracy': 0.8335649385355425, 'precision': 0.8432738068666493, 'recall': 0.8335649385355425, 'f1-score': 0.8351243549708086, 'macro_f1-score': 0.8314581526151188, 'balanced_accuracy': 0.847172622562105, 'mcc': 0.7979354909643495, 'train_loss': 0.46675762577530355}\n",
      "Epoch 3/20\n"
     ]
    },
    {
     "name": "stderr",
     "output_type": "stream",
     "text": [
      "100%|██████████| 3151/3151 [04:57<00:00, 10.60it/s]\n"
     ]
    },
    {
     "name": "stdout",
     "output_type": "stream",
     "text": [
      "{'val_loss': 0.5112400559883596, 'val_accuracy': 0.8385889898450026, 'precision': 0.8472877507319012, 'recall': 0.8385889898450026, 'f1-score': 0.8400397696213575, 'macro_f1-score': 0.8318248169239276, 'balanced_accuracy': 0.8539349976697871, 'mcc': 0.8036219159594377, 'train_loss': 0.363232806952737}\n",
      "Epoch 4/20\n"
     ]
    },
    {
     "name": "stderr",
     "output_type": "stream",
     "text": [
      "100%|██████████| 3151/3151 [04:57<00:00, 10.58it/s]\n"
     ]
    },
    {
     "name": "stdout",
     "output_type": "stream",
     "text": [
      "{'val_loss': 0.4834484948179661, 'val_accuracy': 0.8554783538214858, 'precision': 0.8583566787509367, 'recall': 0.8554783538214858, 'f1-score': 0.855813355738343, 'macro_f1-score': 0.8456631479045764, 'balanced_accuracy': 0.8620832472298172, 'mcc': 0.8232982249922766, 'train_loss': 0.30307928417900637}\n",
      "Epoch 5/20\n"
     ]
    },
    {
     "name": "stderr",
     "output_type": "stream",
     "text": [
      "100%|██████████| 3151/3151 [04:57<00:00, 10.58it/s]\n"
     ]
    },
    {
     "name": "stdout",
     "output_type": "stream",
     "text": [
      "{'val_loss': 0.46762143031288034, 'val_accuracy': 0.8581507215392838, 'precision': 0.8611234396842453, 'recall': 0.8581507215392838, 'f1-score': 0.8586995434624755, 'macro_f1-score': 0.8526570770928472, 'balanced_accuracy': 0.8678787795840567, 'mcc': 0.8264463642009338, 'train_loss': 0.2628046400383675}\n",
      "Epoch 6/20\n"
     ]
    },
    {
     "name": "stderr",
     "output_type": "stream",
     "text": [
      "100%|██████████| 3151/3151 [04:58<00:00, 10.57it/s]\n"
     ]
    },
    {
     "name": "stdout",
     "output_type": "stream",
     "text": [
      "{'val_loss': 0.49104487379360146, 'val_accuracy': 0.8595403527525387, 'precision': 0.8614068071064552, 'recall': 0.8595403527525387, 'f1-score': 0.8595763513762659, 'macro_f1-score': 0.8561571515307289, 'balanced_accuracy': 0.8645106528278002, 'mcc': 0.8278616390038747, 'train_loss': 0.22333764456099023}\n",
      "Epoch 7/20\n"
     ]
    },
    {
     "name": "stderr",
     "output_type": "stream",
     "text": [
      "100%|██████████| 3151/3151 [04:57<00:00, 10.58it/s]\n"
     ]
    },
    {
     "name": "stdout",
     "output_type": "stream",
     "text": [
      "{'val_loss': 0.5544126770888956, 'val_accuracy': 0.8571886691608765, 'precision': 0.8621664779099808, 'recall': 0.8571886691608765, 'f1-score': 0.8581199826901078, 'macro_f1-score': 0.8505817099051269, 'balanced_accuracy': 0.8700915696304992, 'mcc': 0.825874927614972, 'train_loss': 0.18779306916863742}\n",
      "Epoch 8/20\n"
     ]
    },
    {
     "name": "stderr",
     "output_type": "stream",
     "text": [
      "100%|██████████| 3151/3151 [04:57<00:00, 10.58it/s]\n"
     ]
    },
    {
     "name": "stdout",
     "output_type": "stream",
     "text": [
      "{'val_loss': 0.5516799549078648, 'val_accuracy': 0.863174772848744, 'precision': 0.8646940393663066, 'recall': 0.863174772848744, 'f1-score': 0.8635968340287512, 'macro_f1-score': 0.8586170585365765, 'balanced_accuracy': 0.8661002599382179, 'mcc': 0.8318322109423972, 'train_loss': 0.16521984426350805}\n",
      "Epoch 9/20\n"
     ]
    },
    {
     "name": "stderr",
     "output_type": "stream",
     "text": [
      "100%|██████████| 3151/3151 [04:57<00:00, 10.58it/s]\n"
     ]
    },
    {
     "name": "stdout",
     "output_type": "stream",
     "text": [
      "{'val_loss': 0.5950176470530912, 'val_accuracy': 0.8576162479957242, 'precision': 0.8608462030624146, 'recall': 0.8576162479957242, 'f1-score': 0.8582175793399421, 'macro_f1-score': 0.8554036600269832, 'balanced_accuracy': 0.8612425488129247, 'mcc': 0.8255022952301179, 'train_loss': 0.15732873318297477}\n",
      "Epoch 10/20\n"
     ]
    },
    {
     "name": "stderr",
     "output_type": "stream",
     "text": [
      "100%|██████████| 3151/3151 [04:58<00:00, 10.57it/s]\n"
     ]
    },
    {
     "name": "stdout",
     "output_type": "stream",
     "text": [
      "{'val_loss': 0.609954314514135, 'val_accuracy': 0.8619989310529129, 'precision': 0.8637594455024805, 'recall': 0.8619989310529129, 'f1-score': 0.8618362293262228, 'macro_f1-score': 0.8578902010226764, 'balanced_accuracy': 0.8566156044812356, 'mcc': 0.8301554942145628, 'train_loss': 0.1323578613526869}\n",
      "Epoch 11/20\n"
     ]
    },
    {
     "name": "stderr",
     "output_type": "stream",
     "text": [
      "100%|██████████| 3151/3151 [04:57<00:00, 10.59it/s]\n"
     ]
    },
    {
     "name": "stdout",
     "output_type": "stream",
     "text": [
      "{'val_loss': 0.6093215869671992, 'val_accuracy': 0.8648850881881347, 'precision': 0.8648793443034964, 'recall': 0.8648850881881347, 'f1-score': 0.8645725286879178, 'macro_f1-score': 0.8616040621185583, 'balanced_accuracy': 0.8617536422816701, 'mcc': 0.8339605238824478, 'train_loss': 0.13607711453880122}\n",
      "Epoch 12/20\n"
     ]
    },
    {
     "name": "stderr",
     "output_type": "stream",
     "text": [
      "100%|██████████| 3151/3151 [04:57<00:00, 10.58it/s]\n"
     ]
    },
    {
     "name": "stdout",
     "output_type": "stream",
     "text": [
      "{'val_loss': 0.676065449973441, 'val_accuracy': 0.847461250668092, 'precision': 0.8501972748935742, 'recall': 0.847461250668092, 'f1-score': 0.8478960809009176, 'macro_f1-score': 0.8405061896895861, 'balanced_accuracy': 0.8564285914005625, 'mcc': 0.8134577880945515, 'train_loss': 0.11030070835738365}\n",
      "Epoch 13/20\n"
     ]
    },
    {
     "name": "stderr",
     "output_type": "stream",
     "text": [
      "100%|██████████| 3151/3151 [04:57<00:00, 10.59it/s]\n"
     ]
    },
    {
     "name": "stdout",
     "output_type": "stream",
     "text": [
      "{'val_loss': 0.6782705665490407, 'val_accuracy': 0.863174772848744, 'precision': 0.8631446474277892, 'recall': 0.863174772848744, 'f1-score': 0.8630319773780301, 'macro_f1-score': 0.860248192185018, 'balanced_accuracy': 0.8574204560412242, 'mcc': 0.8316246909645981, 'train_loss': 0.10707311866280626}\n",
      "Epoch 14/20\n"
     ]
    },
    {
     "name": "stderr",
     "output_type": "stream",
     "text": [
      "100%|██████████| 3151/3151 [04:57<00:00, 10.58it/s]\n"
     ]
    },
    {
     "name": "stdout",
     "output_type": "stream",
     "text": [
      "{'val_loss': 0.695052487641159, 'val_accuracy': 0.8526990913949759, 'precision': 0.8540764444350369, 'recall': 0.8526990913949759, 'f1-score': 0.8522057929622687, 'macro_f1-score': 0.8506972836452279, 'balanced_accuracy': 0.8421307725179403, 'mcc': 0.818483309135725, 'train_loss': 0.12406953356331625}\n",
      "Early stopping.\n",
      "\n",
      "[Fold 2]\n",
      "Label distribution after resampling:\n",
      "  label 0: 5626\n",
      "  label 1: 5000\n",
      "  label 2: 8442\n",
      "  label 3: 10770\n",
      "  label 4: 5000\n",
      "  label 5: 5578\n",
      "  label 6: 5000\n",
      "  label 7: 5000\n",
      "model is roberta-base lstm\n"
     ]
    },
    {
     "name": "stderr",
     "output_type": "stream",
     "text": [
      "Some weights of RobertaModel were not initialized from the model checkpoint at roberta-base and are newly initialized: ['pooler.dense.bias', 'pooler.dense.weight']\n",
      "You should probably TRAIN this model on a down-stream task to be able to use it for predictions and inference.\n"
     ]
    },
    {
     "name": "stdout",
     "output_type": "stream",
     "text": [
      "Epoch 1/20\n"
     ]
    },
    {
     "name": "stderr",
     "output_type": "stream",
     "text": [
      "100%|██████████| 3151/3151 [04:57<00:00, 10.57it/s]\n"
     ]
    },
    {
     "name": "stdout",
     "output_type": "stream",
     "text": [
      "{'val_loss': 0.583867995116191, 'val_accuracy': 0.8053447354355959, 'precision': 0.8198064425470467, 'recall': 0.8053447354355959, 'f1-score': 0.8065979245338906, 'macro_f1-score': 0.7972796611483779, 'balanced_accuracy': 0.8496463690019863, 'mcc': 0.7666217254608894, 'train_loss': 0.5923989489875552}\n",
      "Epoch 2/20\n"
     ]
    },
    {
     "name": "stderr",
     "output_type": "stream",
     "text": [
      "100%|██████████| 3151/3151 [04:58<00:00, 10.57it/s]\n"
     ]
    },
    {
     "name": "stdout",
     "output_type": "stream",
     "text": [
      "{'val_loss': 0.4859421438545498, 'val_accuracy': 0.8399786210582576, 'precision': 0.8406193132957643, 'recall': 0.8399786210582576, 'f1-score': 0.839533710963132, 'macro_f1-score': 0.8360038306254172, 'balanced_accuracy': 0.8479747646228664, 'mcc': 0.8040368974893883, 'train_loss': 0.3722931106608232}\n",
      "Epoch 3/20\n"
     ]
    },
    {
     "name": "stderr",
     "output_type": "stream",
     "text": [
      "100%|██████████| 3151/3151 [04:58<00:00, 10.56it/s]\n"
     ]
    },
    {
     "name": "stdout",
     "output_type": "stream",
     "text": [
      "{'val_loss': 0.5256336082218804, 'val_accuracy': 0.8307856761090326, 'precision': 0.8417055442039515, 'recall': 0.8307856761090326, 'f1-score': 0.8312851616575939, 'macro_f1-score': 0.8256596825932965, 'balanced_accuracy': 0.8701190056924719, 'mcc': 0.7968847738911589, 'train_loss': 0.2868496891080397}\n",
      "Epoch 4/20\n"
     ]
    },
    {
     "name": "stderr",
     "output_type": "stream",
     "text": [
      "100%|██████████| 3151/3151 [04:57<00:00, 10.57it/s]\n"
     ]
    },
    {
     "name": "stdout",
     "output_type": "stream",
     "text": [
      "{'val_loss': 0.48520298912548104, 'val_accuracy': 0.8469267771245323, 'precision': 0.8512584851179085, 'recall': 0.8469267771245323, 'f1-score': 0.8468758408099396, 'macro_f1-score': 0.8439178942551615, 'balanced_accuracy': 0.8571317759329936, 'mcc': 0.8123137795912271, 'train_loss': 0.23167317469776627}\n",
      "Epoch 5/20\n"
     ]
    },
    {
     "name": "stderr",
     "output_type": "stream",
     "text": [
      "100%|██████████| 3151/3151 [04:57<00:00, 10.58it/s]\n"
     ]
    },
    {
     "name": "stdout",
     "output_type": "stream",
     "text": [
      "{'val_loss': 0.5783793981843748, 'val_accuracy': 0.8450026723677178, 'precision': 0.8485397427209331, 'recall': 0.8450026723677178, 'f1-score': 0.8456035028922024, 'macro_f1-score': 0.8441089912938167, 'balanced_accuracy': 0.8559528882921199, 'mcc': 0.8098365789092368, 'train_loss': 0.19129894183439083}\n",
      "Epoch 6/20\n"
     ]
    },
    {
     "name": "stderr",
     "output_type": "stream",
     "text": [
      "100%|██████████| 3151/3151 [04:57<00:00, 10.60it/s]\n"
     ]
    },
    {
     "name": "stdout",
     "output_type": "stream",
     "text": [
      "{'val_loss': 0.5776823906860769, 'val_accuracy': 0.8469267771245323, 'precision': 0.8510763188310975, 'recall': 0.8469267771245323, 'f1-score': 0.847450030089913, 'macro_f1-score': 0.8421384533094252, 'balanced_accuracy': 0.8663148966057601, 'mcc': 0.8133110579785333, 'train_loss': 0.16474882030392007}\n",
      "Epoch 7/20\n"
     ]
    },
    {
     "name": "stderr",
     "output_type": "stream",
     "text": [
      "100%|██████████| 3151/3151 [04:57<00:00, 10.59it/s]\n"
     ]
    },
    {
     "name": "stdout",
     "output_type": "stream",
     "text": [
      "{'val_loss': 0.6573980897219263, 'val_accuracy': 0.8454302512025654, 'precision': 0.8485507046848363, 'recall': 0.8454302512025654, 'f1-score': 0.8453187567993165, 'macro_f1-score': 0.8471052868439966, 'balanced_accuracy': 0.8653499865660657, 'mcc': 0.8119461288527338, 'train_loss': 0.15137902957946475}\n",
      "Epoch 8/20\n"
     ]
    },
    {
     "name": "stderr",
     "output_type": "stream",
     "text": [
      "100%|██████████| 3151/3151 [04:57<00:00, 10.59it/s]\n"
     ]
    },
    {
     "name": "stdout",
     "output_type": "stream",
     "text": [
      "{'val_loss': 0.6392265698422765, 'val_accuracy': 0.8498129342597541, 'precision': 0.8513847543464518, 'recall': 0.8498129342597541, 'f1-score': 0.8501471035539363, 'macro_f1-score': 0.8472735319558455, 'balanced_accuracy': 0.8484639335160169, 'mcc': 0.8151479765870715, 'train_loss': 0.12983642630834724}\n",
      "Epoch 9/20\n"
     ]
    },
    {
     "name": "stderr",
     "output_type": "stream",
     "text": [
      "100%|██████████| 3151/3151 [04:57<00:00, 10.58it/s]\n"
     ]
    },
    {
     "name": "stdout",
     "output_type": "stream",
     "text": [
      "{'val_loss': 0.6574471799069698, 'val_accuracy': 0.8555852485301978, 'precision': 0.8561481954695798, 'recall': 0.8555852485301978, 'f1-score': 0.8556684749644766, 'macro_f1-score': 0.8560199144844518, 'balanced_accuracy': 0.8613639585667594, 'mcc': 0.8226260994962002, 'train_loss': 0.12560113302792736}\n",
      "Epoch 10/20\n"
     ]
    },
    {
     "name": "stderr",
     "output_type": "stream",
     "text": [
      "100%|██████████| 3151/3151 [04:57<00:00, 10.58it/s]\n"
     ]
    },
    {
     "name": "stdout",
     "output_type": "stream",
     "text": [
      "{'val_loss': 0.7156094871998693, 'val_accuracy': 0.8416889363976483, 'precision': 0.8425451863547513, 'recall': 0.8416889363976483, 'f1-score': 0.8414143219422971, 'macro_f1-score': 0.8384900691208369, 'balanced_accuracy': 0.8511633083839569, 'mcc': 0.8059594738308423, 'train_loss': 0.11822466556395436}\n",
      "Epoch 11/20\n"
     ]
    },
    {
     "name": "stderr",
     "output_type": "stream",
     "text": [
      "100%|██████████| 3151/3151 [04:57<00:00, 10.58it/s]\n"
     ]
    },
    {
     "name": "stdout",
     "output_type": "stream",
     "text": [
      "{'val_loss': 0.7153816569305989, 'val_accuracy': 0.840726884019241, 'precision': 0.847219289720595, 'recall': 0.840726884019241, 'f1-score': 0.8416467352109996, 'macro_f1-score': 0.8358735898553091, 'balanced_accuracy': 0.863496417487668, 'mcc': 0.8062852524400909, 'train_loss': 0.11653564790178354}\n",
      "Epoch 12/20\n"
     ]
    },
    {
     "name": "stderr",
     "output_type": "stream",
     "text": [
      "100%|██████████| 3151/3151 [04:57<00:00, 10.60it/s]\n"
     ]
    },
    {
     "name": "stdout",
     "output_type": "stream",
     "text": [
      "{'val_loss': 0.6932555849731573, 'val_accuracy': 0.8452164617851416, 'precision': 0.8469984924417886, 'recall': 0.8452164617851416, 'f1-score': 0.845032622768941, 'macro_f1-score': 0.8418239968667655, 'balanced_accuracy': 0.8460263439219511, 'mcc': 0.8097210719130438, 'train_loss': 0.09586873508591391}\n",
      "Early stopping.\n",
      "\n",
      "[Fold 3]\n",
      "Label distribution after resampling:\n",
      "  label 0: 5626\n",
      "  label 1: 5000\n",
      "  label 2: 8442\n",
      "  label 3: 10770\n",
      "  label 4: 5000\n",
      "  label 5: 5578\n",
      "  label 6: 5000\n",
      "  label 7: 5000\n",
      "model is roberta-base lstm\n"
     ]
    },
    {
     "name": "stderr",
     "output_type": "stream",
     "text": [
      "Some weights of RobertaModel were not initialized from the model checkpoint at roberta-base and are newly initialized: ['pooler.dense.bias', 'pooler.dense.weight']\n",
      "You should probably TRAIN this model on a down-stream task to be able to use it for predictions and inference.\n"
     ]
    },
    {
     "name": "stdout",
     "output_type": "stream",
     "text": [
      "Epoch 1/20\n"
     ]
    },
    {
     "name": "stderr",
     "output_type": "stream",
     "text": [
      "100%|██████████| 3151/3151 [04:58<00:00, 10.57it/s]\n"
     ]
    },
    {
     "name": "stdout",
     "output_type": "stream",
     "text": [
      "{'val_loss': 0.5044769753948746, 'val_accuracy': 0.832264271969211, 'precision': 0.8413096926378734, 'recall': 0.832264271969211, 'f1-score': 0.8335246515706196, 'macro_f1-score': 0.828944446163854, 'balanced_accuracy': 0.821577322785312, 'mcc': 0.7932813639949986, 'train_loss': 0.6244584912394615}\n",
      "Epoch 2/20\n"
     ]
    },
    {
     "name": "stderr",
     "output_type": "stream",
     "text": [
      "100%|██████████| 3151/3151 [04:58<00:00, 10.57it/s]\n"
     ]
    },
    {
     "name": "stdout",
     "output_type": "stream",
     "text": [
      "{'val_loss': 0.44376502798344847, 'val_accuracy': 0.8581355569809707, 'precision': 0.8599963159189097, 'recall': 0.8581355569809707, 'f1-score': 0.8577935872027972, 'macro_f1-score': 0.8561784734788512, 'balanced_accuracy': 0.8666693010244151, 'mcc': 0.8263154229271874, 'train_loss': 0.38040010090024745}\n",
      "Epoch 3/20\n"
     ]
    },
    {
     "name": "stderr",
     "output_type": "stream",
     "text": [
      "100%|██████████| 3151/3151 [04:57<00:00, 10.58it/s]\n"
     ]
    },
    {
     "name": "stdout",
     "output_type": "stream",
     "text": [
      "{'val_loss': 0.5193309458736808, 'val_accuracy': 0.8397477015180671, 'precision': 0.8508040558691141, 'recall': 0.8397477015180671, 'f1-score': 0.8381375983628422, 'macro_f1-score': 0.8383131545797445, 'balanced_accuracy': 0.8761188813430656, 'mcc': 0.8089328763364566, 'train_loss': 0.29994344741421697}\n",
      "Epoch 4/20\n"
     ]
    },
    {
     "name": "stderr",
     "output_type": "stream",
     "text": [
      "100%|██████████| 3151/3151 [04:57<00:00, 10.58it/s]\n"
     ]
    },
    {
     "name": "stdout",
     "output_type": "stream",
     "text": [
      "{'val_loss': 0.5045323200046252, 'val_accuracy': 0.8528971562967714, 'precision': 0.8587256838598978, 'recall': 0.8528971562967714, 'f1-score': 0.8536212659862735, 'macro_f1-score': 0.8439888830230751, 'balanced_accuracy': 0.875591548740088, 'mcc': 0.8210472432183894, 'train_loss': 0.24693667289296414}\n",
      "Epoch 5/20\n"
     ]
    },
    {
     "name": "stderr",
     "output_type": "stream",
     "text": [
      "100%|██████████| 3151/3151 [04:57<00:00, 10.58it/s]\n"
     ]
    },
    {
     "name": "stdout",
     "output_type": "stream",
     "text": [
      "{'val_loss': 0.444595250999157, 'val_accuracy': 0.8711781056232628, 'precision': 0.8714605414120065, 'recall': 0.8711781056232628, 'f1-score': 0.8711155419693123, 'macro_f1-score': 0.8710223086791311, 'balanced_accuracy': 0.8683498030191562, 'mcc': 0.84132765484387, 'train_loss': 0.2065975069735165}\n",
      "Epoch 6/20\n"
     ]
    },
    {
     "name": "stderr",
     "output_type": "stream",
     "text": [
      "100%|██████████| 3151/3151 [04:57<00:00, 10.60it/s]\n"
     ]
    },
    {
     "name": "stdout",
     "output_type": "stream",
     "text": [
      "{'val_loss': 0.6357913307340131, 'val_accuracy': 0.8518280949326491, 'precision': 0.8560325533265795, 'recall': 0.8518280949326491, 'f1-score': 0.8516661304982505, 'macro_f1-score': 0.8470685727982354, 'balanced_accuracy': 0.8752300205064312, 'mcc': 0.8199671202059878, 'train_loss': 0.1966315775992061}\n",
      "Epoch 7/20\n"
     ]
    },
    {
     "name": "stderr",
     "output_type": "stream",
     "text": [
      "100%|██████████| 3151/3151 [04:58<00:00, 10.57it/s]\n"
     ]
    },
    {
     "name": "stdout",
     "output_type": "stream",
     "text": [
      "{'val_loss': 0.5227823882761737, 'val_accuracy': 0.8614496472097498, 'precision': 0.8667748341853786, 'recall': 0.8614496472097498, 'f1-score': 0.861885552587973, 'macro_f1-score': 0.8586038283026112, 'balanced_accuracy': 0.8736502719047586, 'mcc': 0.8316802628631568, 'train_loss': 0.1509692873741476}\n",
      "Epoch 8/20\n"
     ]
    },
    {
     "name": "stderr",
     "output_type": "stream",
     "text": [
      "100%|██████████| 3151/3151 [04:58<00:00, 10.57it/s]\n"
     ]
    },
    {
     "name": "stdout",
     "output_type": "stream",
     "text": [
      "{'val_loss': 0.5626833269778544, 'val_accuracy': 0.8661535172118879, 'precision': 0.8675317984535003, 'recall': 0.8661535172118879, 'f1-score': 0.8663357337744915, 'macro_f1-score': 0.8669375022936257, 'balanced_accuracy': 0.8708739988316317, 'mcc': 0.8359058364732385, 'train_loss': 0.13601941344340343}\n",
      "Early stopping.\n",
      "\n",
      "[Fold 4]\n",
      "Label distribution after resampling:\n",
      "  label 0: 5625\n",
      "  label 1: 5000\n",
      "  label 2: 8441\n",
      "  label 3: 10771\n",
      "  label 4: 5000\n",
      "  label 5: 5579\n",
      "  label 6: 5000\n",
      "  label 7: 5000\n",
      "model is roberta-base lstm\n"
     ]
    },
    {
     "name": "stderr",
     "output_type": "stream",
     "text": [
      "Some weights of RobertaModel were not initialized from the model checkpoint at roberta-base and are newly initialized: ['pooler.dense.bias', 'pooler.dense.weight']\n",
      "You should probably TRAIN this model on a down-stream task to be able to use it for predictions and inference.\n"
     ]
    },
    {
     "name": "stdout",
     "output_type": "stream",
     "text": [
      "Epoch 1/20\n"
     ]
    },
    {
     "name": "stderr",
     "output_type": "stream",
     "text": [
      "100%|██████████| 3151/3151 [04:58<00:00, 10.57it/s]\n"
     ]
    },
    {
     "name": "stdout",
     "output_type": "stream",
     "text": [
      "{'val_loss': 0.5667737000072613, 'val_accuracy': 0.8115244815052384, 'precision': 0.8325899551995538, 'recall': 0.8115244815052384, 'f1-score': 0.8120050559464859, 'macro_f1-score': 0.8053041351546368, 'balanced_accuracy': 0.8553123320192266, 'mcc': 0.7767342739283332, 'train_loss': 0.6047789487078602}\n",
      "Epoch 2/20\n"
     ]
    },
    {
     "name": "stderr",
     "output_type": "stream",
     "text": [
      "100%|██████████| 3151/3151 [04:57<00:00, 10.59it/s]\n"
     ]
    },
    {
     "name": "stdout",
     "output_type": "stream",
     "text": [
      "{'val_loss': 0.48666846176179557, 'val_accuracy': 0.8316228351507376, 'precision': 0.8380158498855297, 'recall': 0.8316228351507376, 'f1-score': 0.8311134671346267, 'macro_f1-score': 0.8362387083887421, 'balanced_accuracy': 0.8568410156135522, 'mcc': 0.79639184875713, 'train_loss': 0.3848181201700122}\n",
      "Epoch 3/20\n"
     ]
    },
    {
     "name": "stderr",
     "output_type": "stream",
     "text": [
      "100%|██████████| 3151/3151 [04:57<00:00, 10.58it/s]\n"
     ]
    },
    {
     "name": "stdout",
     "output_type": "stream",
     "text": [
      "{'val_loss': 0.457776880181498, 'val_accuracy': 0.8545007483429549, 'precision': 0.860109866472524, 'recall': 0.8545007483429549, 'f1-score': 0.8553114300787621, 'macro_f1-score': 0.8482568792259411, 'balanced_accuracy': 0.8743204791300533, 'mcc': 0.8222854541106844, 'train_loss': 0.2998188962963073}\n",
      "Epoch 4/20\n"
     ]
    },
    {
     "name": "stderr",
     "output_type": "stream",
     "text": [
      "100%|██████████| 3151/3151 [04:57<00:00, 10.59it/s]\n"
     ]
    },
    {
     "name": "stdout",
     "output_type": "stream",
     "text": [
      "{'val_loss': 0.4936777067967714, 'val_accuracy': 0.8440239469745563, 'precision': 0.8541081692471135, 'recall': 0.8440239469745563, 'f1-score': 0.8450092633017245, 'macro_f1-score': 0.8358394397059696, 'balanced_accuracy': 0.8702011996811041, 'mcc': 0.8118026656765215, 'train_loss': 0.2408474574027502}\n",
      "Epoch 5/20\n"
     ]
    },
    {
     "name": "stderr",
     "output_type": "stream",
     "text": [
      "100%|██████████| 3151/3151 [04:58<00:00, 10.56it/s]\n"
     ]
    },
    {
     "name": "stdout",
     "output_type": "stream",
     "text": [
      "{'val_loss': 0.4796848059353283, 'val_accuracy': 0.8598460551635664, 'precision': 0.861692734993693, 'recall': 0.8598460551635664, 'f1-score': 0.8603962707183215, 'macro_f1-score': 0.8599981910977933, 'balanced_accuracy': 0.8597315225339095, 'mcc': 0.8274454175301693, 'train_loss': 0.20147594127081977}\n",
      "Epoch 6/20\n"
     ]
    },
    {
     "name": "stderr",
     "output_type": "stream",
     "text": [
      "100%|██████████| 3151/3151 [04:57<00:00, 10.59it/s]\n"
     ]
    },
    {
     "name": "stdout",
     "output_type": "stream",
     "text": [
      "{'val_loss': 0.5117967379454555, 'val_accuracy': 0.8574941201624974, 'precision': 0.8598000929949975, 'recall': 0.8574941201624974, 'f1-score': 0.8570523614291202, 'macro_f1-score': 0.8593818173923391, 'balanced_accuracy': 0.8600929422713637, 'mcc': 0.8256636219626498, 'train_loss': 0.16754725080831595}\n",
      "Epoch 7/20\n"
     ]
    },
    {
     "name": "stderr",
     "output_type": "stream",
     "text": [
      "100%|██████████| 3151/3151 [04:57<00:00, 10.58it/s]\n"
     ]
    },
    {
     "name": "stdout",
     "output_type": "stream",
     "text": [
      "{'val_loss': 0.5696123483960923, 'val_accuracy': 0.852255719478298, 'precision': 0.8570175624541873, 'recall': 0.852255719478298, 'f1-score': 0.8529740722940413, 'macro_f1-score': 0.8504383961674684, 'balanced_accuracy': 0.8606554881132337, 'mcc': 0.8192863892364087, 'train_loss': 0.14502212630232525}\n",
      "Epoch 8/20\n"
     ]
    },
    {
     "name": "stderr",
     "output_type": "stream",
     "text": [
      "100%|██████████| 3151/3151 [04:57<00:00, 10.58it/s]\n"
     ]
    },
    {
     "name": "stdout",
     "output_type": "stream",
     "text": [
      "{'val_loss': 0.5921813169128111, 'val_accuracy': 0.8561043403891383, 'precision': 0.8583819868600916, 'recall': 0.8561043403891383, 'f1-score': 0.8560151028149496, 'macro_f1-score': 0.8560409703376375, 'balanced_accuracy': 0.8512298751388685, 'mcc': 0.8226492821238943, 'train_loss': 0.1252640011304796}\n",
      "Early stopping.\n",
      "\n",
      "[Fold 5]\n",
      "Label distribution after resampling:\n",
      "  label 0: 5625\n",
      "  label 1: 5000\n",
      "  label 2: 8441\n",
      "  label 3: 10771\n",
      "  label 4: 5000\n",
      "  label 5: 5579\n",
      "  label 6: 5000\n",
      "  label 7: 5000\n",
      "model is roberta-base lstm\n"
     ]
    },
    {
     "name": "stderr",
     "output_type": "stream",
     "text": [
      "Some weights of RobertaModel were not initialized from the model checkpoint at roberta-base and are newly initialized: ['pooler.dense.bias', 'pooler.dense.weight']\n",
      "You should probably TRAIN this model on a down-stream task to be able to use it for predictions and inference.\n"
     ]
    },
    {
     "name": "stdout",
     "output_type": "stream",
     "text": [
      "Epoch 1/20\n"
     ]
    },
    {
     "name": "stderr",
     "output_type": "stream",
     "text": [
      "100%|██████████| 3151/3151 [04:57<00:00, 10.59it/s]\n"
     ]
    },
    {
     "name": "stdout",
     "output_type": "stream",
     "text": [
      "{'val_loss': 0.4909672313743932, 'val_accuracy': 0.831302116741501, 'precision': 0.8381942895854244, 'recall': 0.831302116741501, 'f1-score': 0.8323837813706875, 'macro_f1-score': 0.8305884252092295, 'balanced_accuracy': 0.8539570770486873, 'mcc': 0.7943919922289012, 'train_loss': 0.6077382700516}\n",
      "Epoch 2/20\n"
     ]
    },
    {
     "name": "stderr",
     "output_type": "stream",
     "text": [
      "100%|██████████| 3151/3151 [04:57<00:00, 10.59it/s]\n"
     ]
    },
    {
     "name": "stdout",
     "output_type": "stream",
     "text": [
      "{'val_loss': 0.44099052022251056, 'val_accuracy': 0.853645499251657, 'precision': 0.8552466844571018, 'recall': 0.853645499251657, 'f1-score': 0.8535378448874951, 'macro_f1-score': 0.8524921010104101, 'balanced_accuracy': 0.8664600202754532, 'mcc': 0.8211881325996024, 'train_loss': 0.37335852964688715}\n",
      "Epoch 3/20\n"
     ]
    },
    {
     "name": "stderr",
     "output_type": "stream",
     "text": [
      "100%|██████████| 3151/3151 [04:58<00:00, 10.56it/s]\n"
     ]
    },
    {
     "name": "stdout",
     "output_type": "stream",
     "text": [
      "{'val_loss': 0.4881323330040671, 'val_accuracy': 0.8402822322001283, 'precision': 0.8455380470566797, 'recall': 0.8402822322001283, 'f1-score': 0.8397772830864895, 'macro_f1-score': 0.8416832009471823, 'balanced_accuracy': 0.8581647132636346, 'mcc': 0.8063087062285166, 'train_loss': 0.29563469971671713}\n",
      "Epoch 4/20\n"
     ]
    },
    {
     "name": "stderr",
     "output_type": "stream",
     "text": [
      "100%|██████████| 3151/3151 [04:58<00:00, 10.57it/s]\n"
     ]
    },
    {
     "name": "stdout",
     "output_type": "stream",
     "text": [
      "{'val_loss': 0.4775956752614524, 'val_accuracy': 0.8577079324353218, 'precision': 0.8605100069716811, 'recall': 0.8577079324353218, 'f1-score': 0.8581667862233058, 'macro_f1-score': 0.8588269125145127, 'balanced_accuracy': 0.8548896180453208, 'mcc': 0.8248789367004951, 'train_loss': 0.2357075080827945}\n",
      "Epoch 5/20\n"
     ]
    },
    {
     "name": "stderr",
     "output_type": "stream",
     "text": [
      "100%|██████████| 3151/3151 [04:57<00:00, 10.58it/s]\n"
     ]
    },
    {
     "name": "stdout",
     "output_type": "stream",
     "text": [
      "{'val_loss': 0.5361921039489536, 'val_accuracy': 0.8500106906136412, 'precision': 0.8570112362227214, 'recall': 0.8500106906136412, 'f1-score': 0.8509057723394989, 'macro_f1-score': 0.843804349570044, 'balanced_accuracy': 0.8654460958053657, 'mcc': 0.8176077209436654, 'train_loss': 0.2013415075198374}\n",
      "Epoch 6/20\n"
     ]
    },
    {
     "name": "stderr",
     "output_type": "stream",
     "text": [
      "100%|██████████| 3151/3151 [04:57<00:00, 10.59it/s]\n"
     ]
    },
    {
     "name": "stdout",
     "output_type": "stream",
     "text": [
      "{'val_loss': 0.5283872387276437, 'val_accuracy': 0.853645499251657, 'precision': 0.8556734147489368, 'recall': 0.853645499251657, 'f1-score': 0.8534573149090461, 'macro_f1-score': 0.8535094337942963, 'balanced_accuracy': 0.8689054664167388, 'mcc': 0.8214703213736207, 'train_loss': 0.16540034012628116}\n",
      "Epoch 7/20\n"
     ]
    },
    {
     "name": "stderr",
     "output_type": "stream",
     "text": [
      "100%|██████████| 3151/3151 [04:57<00:00, 10.58it/s]\n"
     ]
    },
    {
     "name": "stdout",
     "output_type": "stream",
     "text": [
      "{'val_loss': 0.5169144995852859, 'val_accuracy': 0.8540731237973059, 'precision': 0.8576940498064844, 'recall': 0.8540731237973059, 'f1-score': 0.854445597488797, 'macro_f1-score': 0.8548687400056787, 'balanced_accuracy': 0.8414738383519764, 'mcc': 0.8202264879746158, 'train_loss': 0.14463997094257094}\n",
      "Early stopping.\n",
      "\n",
      " === roberta-base + lstm + ros Final 5-fold Cross-Validation Results ===\n",
      "val_loss: 0.5337\n",
      "val_accuracy: 0.8618\n",
      "precision: 0.8629\n",
      "recall: 0.8618\n",
      "f1-score: 0.8620\n",
      "macro_f1-score: 0.8615\n",
      "balanced_accuracy: 0.8612\n",
      "mcc: 0.8300\n",
      "train_loss: 0.1811\n",
      "total_seconds: 15767.0000\n",
      "total_time: 4 hrs 22 mins 47 secs\n",
      "▶ Running: roberta-base + bilstm + ros\n",
      "tokenizer is roberta-base\n",
      "Using device: cuda\n",
      "CUDA Available: True\n",
      "CUDA Device: NVIDIA GeForce RTX 5070 Ti\n",
      "Current GPU Memory Allocated: 0.02 GB\n",
      "Current GPU Memory Cached: 3.91 GB\n",
      "\n",
      "[Fold 1]\n",
      "Label distribution after resampling:\n",
      "  label 0: 5626\n",
      "  label 1: 5000\n",
      "  label 2: 8442\n",
      "  label 3: 10770\n",
      "  label 4: 5000\n",
      "  label 5: 5578\n",
      "  label 6: 5000\n",
      "  label 7: 5000\n",
      "model is roberta-base bilstm\n"
     ]
    },
    {
     "name": "stderr",
     "output_type": "stream",
     "text": [
      "Some weights of RobertaModel were not initialized from the model checkpoint at roberta-base and are newly initialized: ['pooler.dense.bias', 'pooler.dense.weight']\n",
      "You should probably TRAIN this model on a down-stream task to be able to use it for predictions and inference.\n"
     ]
    },
    {
     "name": "stdout",
     "output_type": "stream",
     "text": [
      "Epoch 1/20\n"
     ]
    },
    {
     "name": "stderr",
     "output_type": "stream",
     "text": [
      "100%|██████████| 3151/3151 [05:19<00:00,  9.88it/s]\n"
     ]
    },
    {
     "name": "stdout",
     "output_type": "stream",
     "text": [
      "{'val_loss': 0.5422355694139106, 'val_accuracy': 0.8206306787814003, 'precision': 0.8308465547014817, 'recall': 0.8206306787814003, 'f1-score': 0.8210348701569586, 'macro_f1-score': 0.8131774600412418, 'balanced_accuracy': 0.8440214304484228, 'mcc': 0.7840437679424098, 'train_loss': 0.6278938192333902}\n",
      "Epoch 2/20\n"
     ]
    },
    {
     "name": "stderr",
     "output_type": "stream",
     "text": [
      "100%|██████████| 3151/3151 [05:19<00:00,  9.86it/s]\n"
     ]
    },
    {
     "name": "stdout",
     "output_type": "stream",
     "text": [
      "{'val_loss': 0.47937304126019153, 'val_accuracy': 0.848637092463923, 'precision': 0.8505862150758559, 'recall': 0.848637092463923, 'f1-score': 0.8483741096040845, 'macro_f1-score': 0.8397165743533788, 'balanced_accuracy': 0.8519807893274909, 'mcc': 0.8147935500440571, 'train_loss': 0.38222161394531234}\n",
      "Epoch 3/20\n"
     ]
    },
    {
     "name": "stderr",
     "output_type": "stream",
     "text": [
      "100%|██████████| 3151/3151 [05:18<00:00,  9.89it/s]\n"
     ]
    },
    {
     "name": "stdout",
     "output_type": "stream",
     "text": [
      "{'val_loss': 0.4766279747407151, 'val_accuracy': 0.8526990913949759, 'precision': 0.8561147632702057, 'recall': 0.8526990913949759, 'f1-score': 0.8529844526396102, 'macro_f1-score': 0.8546688955440189, 'balanced_accuracy': 0.8552491542906209, 'mcc': 0.8189329333901603, 'train_loss': 0.29859512547927786}\n",
      "Epoch 4/20\n"
     ]
    },
    {
     "name": "stderr",
     "output_type": "stream",
     "text": [
      "100%|██████████| 3151/3151 [05:19<00:00,  9.86it/s]\n"
     ]
    },
    {
     "name": "stdout",
     "output_type": "stream",
     "text": [
      "{'val_loss': 0.45640320162583364, 'val_accuracy': 0.8626402993051844, 'precision': 0.8642102757959044, 'recall': 0.8626402993051844, 'f1-score': 0.8626485473910704, 'macro_f1-score': 0.8561874319928677, 'balanced_accuracy': 0.8554397211030687, 'mcc': 0.8310817441124572, 'train_loss': 0.23968214326887208}\n",
      "Epoch 5/20\n"
     ]
    },
    {
     "name": "stderr",
     "output_type": "stream",
     "text": [
      "100%|██████████| 3151/3151 [05:19<00:00,  9.88it/s]\n"
     ]
    },
    {
     "name": "stdout",
     "output_type": "stream",
     "text": [
      "{'val_loss': 0.539740531399257, 'val_accuracy': 0.8571886691608765, 'precision': 0.8604179043322892, 'recall': 0.8571886691608765, 'f1-score': 0.857308375659938, 'macro_f1-score': 0.8570257014458044, 'balanced_accuracy': 0.8539511022657682, 'mcc': 0.824410453209704, 'train_loss': 0.19371345262458445}\n",
      "Epoch 6/20\n"
     ]
    },
    {
     "name": "stderr",
     "output_type": "stream",
     "text": [
      "100%|██████████| 3151/3151 [05:19<00:00,  9.85it/s]\n"
     ]
    },
    {
     "name": "stdout",
     "output_type": "stream",
     "text": [
      "{'val_loss': 0.5669558359926933, 'val_accuracy': 0.856547300908605, 'precision': 0.8586620412572845, 'recall': 0.856547300908605, 'f1-score': 0.8568831448250854, 'macro_f1-score': 0.8506293810488492, 'balanced_accuracy': 0.8569345676403626, 'mcc': 0.8239114510602418, 'train_loss': 0.17103361337098685}\n",
      "Epoch 7/20\n"
     ]
    },
    {
     "name": "stderr",
     "output_type": "stream",
     "text": [
      "100%|██████████| 3151/3151 [05:19<00:00,  9.85it/s]\n"
     ]
    },
    {
     "name": "stdout",
     "output_type": "stream",
     "text": [
      "{'val_loss': 0.5281124500135899, 'val_accuracy': 0.8663816141101015, 'precision': 0.8675987670195392, 'recall': 0.8663816141101015, 'f1-score': 0.8662674973990493, 'macro_f1-score': 0.8612138257386397, 'balanced_accuracy': 0.8557153178816548, 'mcc': 0.8353918326883081, 'train_loss': 0.14481346329767375}\n",
      "Epoch 8/20\n"
     ]
    },
    {
     "name": "stderr",
     "output_type": "stream",
     "text": [
      "100%|██████████| 3151/3151 [05:19<00:00,  9.86it/s]\n"
     ]
    },
    {
     "name": "stdout",
     "output_type": "stream",
     "text": [
      "{'val_loss': 0.6055450831404608, 'val_accuracy': 0.8625334045964724, 'precision': 0.8637537999326576, 'recall': 0.8625334045964724, 'f1-score': 0.8627493399104809, 'macro_f1-score': 0.860907526758559, 'balanced_accuracy': 0.8632376994575885, 'mcc': 0.8313195685589673, 'train_loss': 0.12391416004815167}\n",
      "Epoch 9/20\n"
     ]
    },
    {
     "name": "stderr",
     "output_type": "stream",
     "text": [
      "100%|██████████| 3151/3151 [05:19<00:00,  9.85it/s]\n"
     ]
    },
    {
     "name": "stdout",
     "output_type": "stream",
     "text": [
      "{'val_loss': 0.6429341739525175, 'val_accuracy': 0.8575093532870123, 'precision': 0.8608969097895509, 'recall': 0.8575093532870123, 'f1-score': 0.8582403225511382, 'macro_f1-score': 0.8570678336669827, 'balanced_accuracy': 0.8609469664499443, 'mcc': 0.8253585048650264, 'train_loss': 0.11336605022792914}\n",
      "Epoch 10/20\n"
     ]
    },
    {
     "name": "stderr",
     "output_type": "stream",
     "text": [
      "100%|██████████| 3151/3151 [05:19<00:00,  9.86it/s]\n"
     ]
    },
    {
     "name": "stdout",
     "output_type": "stream",
     "text": [
      "{'val_loss': 0.8000014395691837, 'val_accuracy': 0.81058257616248, 'precision': 0.8298488137762287, 'recall': 0.81058257616248, 'f1-score': 0.812536028234872, 'macro_f1-score': 0.8136205983501664, 'balanced_accuracy': 0.835242508558903, 'mcc': 0.7731794679143698, 'train_loss': 0.1022968820599329}\n",
      "Early stopping.\n",
      "\n",
      "[Fold 2]\n",
      "Label distribution after resampling:\n",
      "  label 0: 5626\n",
      "  label 1: 5000\n",
      "  label 2: 8442\n",
      "  label 3: 10770\n",
      "  label 4: 5000\n",
      "  label 5: 5578\n",
      "  label 6: 5000\n",
      "  label 7: 5000\n",
      "model is roberta-base bilstm\n"
     ]
    },
    {
     "name": "stderr",
     "output_type": "stream",
     "text": [
      "Some weights of RobertaModel were not initialized from the model checkpoint at roberta-base and are newly initialized: ['pooler.dense.bias', 'pooler.dense.weight']\n",
      "You should probably TRAIN this model on a down-stream task to be able to use it for predictions and inference.\n"
     ]
    },
    {
     "name": "stdout",
     "output_type": "stream",
     "text": [
      "Epoch 1/20\n"
     ]
    },
    {
     "name": "stderr",
     "output_type": "stream",
     "text": [
      "100%|██████████| 3151/3151 [05:19<00:00,  9.86it/s]\n"
     ]
    },
    {
     "name": "stdout",
     "output_type": "stream",
     "text": [
      "{'val_loss': 0.6110827891394878, 'val_accuracy': 0.8024585783003741, 'precision': 0.8207709432761223, 'recall': 0.8024585783003741, 'f1-score': 0.8019922948158201, 'macro_f1-score': 0.7956255264129287, 'balanced_accuracy': 0.8502551466434228, 'mcc': 0.7657691520091244, 'train_loss': 0.5942497589710837}\n",
      "Epoch 2/20\n"
     ]
    },
    {
     "name": "stderr",
     "output_type": "stream",
     "text": [
      "100%|██████████| 3151/3151 [05:18<00:00,  9.88it/s]\n"
     ]
    },
    {
     "name": "stdout",
     "output_type": "stream",
     "text": [
      "{'val_loss': 0.5290609793148489, 'val_accuracy': 0.8245857830037413, 'precision': 0.8341182767695384, 'recall': 0.8245857830037413, 'f1-score': 0.826311857398689, 'macro_f1-score': 0.8164455450344376, 'balanced_accuracy': 0.8450482117777853, 'mcc': 0.7861948936075732, 'train_loss': 0.3699076798265981}\n",
      "Epoch 3/20\n"
     ]
    },
    {
     "name": "stderr",
     "output_type": "stream",
     "text": [
      "100%|██████████| 3151/3151 [05:19<00:00,  9.85it/s]\n"
     ]
    },
    {
     "name": "stdout",
     "output_type": "stream",
     "text": [
      "{'val_loss': 0.5198562229036265, 'val_accuracy': 0.8371993586317478, 'precision': 0.8448069058704846, 'recall': 0.8371993586317478, 'f1-score': 0.837582191947173, 'macro_f1-score': 0.8323659556731943, 'balanced_accuracy': 0.86925332062269, 'mcc': 0.803298892674308, 'train_loss': 0.28490424767903266}\n",
      "Epoch 4/20\n"
     ]
    },
    {
     "name": "stderr",
     "output_type": "stream",
     "text": [
      "100%|██████████| 3151/3151 [05:19<00:00,  9.87it/s]\n"
     ]
    },
    {
     "name": "stdout",
     "output_type": "stream",
     "text": [
      "{'val_loss': 0.5012680188219389, 'val_accuracy': 0.8466060929983966, 'precision': 0.8501011710239637, 'recall': 0.8466060929983966, 'f1-score': 0.8470928695935973, 'macro_f1-score': 0.8440743181322434, 'balanced_accuracy': 0.8639676679867379, 'mcc': 0.8128814918763366, 'train_loss': 0.22672500982123947}\n",
      "Epoch 5/20\n"
     ]
    },
    {
     "name": "stderr",
     "output_type": "stream",
     "text": [
      "100%|██████████| 3151/3151 [05:18<00:00,  9.88it/s]\n"
     ]
    },
    {
     "name": "stdout",
     "output_type": "stream",
     "text": [
      "{'val_loss': 0.5042020331614484, 'val_accuracy': 0.8516301443078568, 'precision': 0.8523694360141849, 'recall': 0.8516301443078568, 'f1-score': 0.8514363716254878, 'macro_f1-score': 0.8505162681847158, 'balanced_accuracy': 0.8616609636430723, 'mcc': 0.8180426339304425, 'train_loss': 0.18285169311459507}\n",
      "Epoch 6/20\n"
     ]
    },
    {
     "name": "stderr",
     "output_type": "stream",
     "text": [
      "100%|██████████| 3151/3151 [05:19<00:00,  9.87it/s]\n"
     ]
    },
    {
     "name": "stdout",
     "output_type": "stream",
     "text": [
      "{'val_loss': 0.5177161385424626, 'val_accuracy': 0.8528059861036879, 'precision': 0.854556422623987, 'recall': 0.8528059861036879, 'f1-score': 0.8530783662343997, 'macro_f1-score': 0.850984268643423, 'balanced_accuracy': 0.8544557993374481, 'mcc': 0.8188307308666375, 'train_loss': 0.15690880540856794}\n",
      "Epoch 7/20\n"
     ]
    },
    {
     "name": "stderr",
     "output_type": "stream",
     "text": [
      "100%|██████████| 3151/3151 [05:20<00:00,  9.85it/s]\n"
     ]
    },
    {
     "name": "stdout",
     "output_type": "stream",
     "text": [
      "{'val_loss': 0.5581495170338222, 'val_accuracy': 0.8545163014430786, 'precision': 0.8553487337522521, 'recall': 0.8545163014430786, 'f1-score': 0.8545974188648544, 'macro_f1-score': 0.8561566143173669, 'balanced_accuracy': 0.8537631295459769, 'mcc': 0.8211639700998883, 'train_loss': 0.1350861639628244}\n",
      "Epoch 8/20\n"
     ]
    },
    {
     "name": "stderr",
     "output_type": "stream",
     "text": [
      "100%|██████████| 3151/3151 [05:19<00:00,  9.87it/s]\n"
     ]
    },
    {
     "name": "stdout",
     "output_type": "stream",
     "text": [
      "{'val_loss': 0.6001237333013922, 'val_accuracy': 0.8544094067343666, 'precision': 0.8546203219819275, 'recall': 0.8544094067343666, 'f1-score': 0.8544588520094333, 'macro_f1-score': 0.8554319615691399, 'balanced_accuracy': 0.8577212953619564, 'mcc': 0.8209241582535564, 'train_loss': 0.117302221612046}\n",
      "Epoch 9/20\n"
     ]
    },
    {
     "name": "stderr",
     "output_type": "stream",
     "text": [
      "100%|██████████| 3151/3151 [05:19<00:00,  9.87it/s]\n"
     ]
    },
    {
     "name": "stdout",
     "output_type": "stream",
     "text": [
      "{'val_loss': 0.7043485166425378, 'val_accuracy': 0.840833778727953, 'precision': 0.841942400806188, 'recall': 0.840833778727953, 'f1-score': 0.8400712492689767, 'macro_f1-score': 0.8372533696877464, 'balanced_accuracy': 0.8468331988051663, 'mcc': 0.8053778467326297, 'train_loss': 0.10143535867808827}\n",
      "Epoch 10/20\n"
     ]
    },
    {
     "name": "stderr",
     "output_type": "stream",
     "text": [
      "100%|██████████| 3151/3151 [05:19<00:00,  9.85it/s]\n"
     ]
    },
    {
     "name": "stdout",
     "output_type": "stream",
     "text": [
      "{'val_loss': 0.6708211368329935, 'val_accuracy': 0.8475681453768038, 'precision': 0.8482652157863836, 'recall': 0.8475681453768038, 'f1-score': 0.8474004907079451, 'macro_f1-score': 0.8461057998486837, 'balanced_accuracy': 0.8564817761123671, 'mcc': 0.8134466674097041, 'train_loss': 0.09996657773685502}\n",
      "Early stopping.\n",
      "\n",
      "[Fold 3]\n",
      "Label distribution after resampling:\n",
      "  label 0: 5626\n",
      "  label 1: 5000\n",
      "  label 2: 8442\n",
      "  label 3: 10770\n",
      "  label 4: 5000\n",
      "  label 5: 5578\n",
      "  label 6: 5000\n",
      "  label 7: 5000\n",
      "model is roberta-base bilstm\n"
     ]
    },
    {
     "name": "stderr",
     "output_type": "stream",
     "text": [
      "Some weights of RobertaModel were not initialized from the model checkpoint at roberta-base and are newly initialized: ['pooler.dense.bias', 'pooler.dense.weight']\n",
      "You should probably TRAIN this model on a down-stream task to be able to use it for predictions and inference.\n"
     ]
    },
    {
     "name": "stdout",
     "output_type": "stream",
     "text": [
      "Epoch 1/20\n"
     ]
    },
    {
     "name": "stderr",
     "output_type": "stream",
     "text": [
      "100%|██████████| 3151/3151 [05:19<00:00,  9.86it/s]\n"
     ]
    },
    {
     "name": "stdout",
     "output_type": "stream",
     "text": [
      "{'val_loss': 0.4719425506189338, 'val_accuracy': 0.8320504596963866, 'precision': 0.8423162875759639, 'recall': 0.8320504596963866, 'f1-score': 0.8331558452860344, 'macro_f1-score': 0.8359984767734907, 'balanced_accuracy': 0.8312606937845297, 'mcc': 0.7937032534639824, 'train_loss': 0.6023826034871436}\n",
      "Epoch 2/20\n"
     ]
    },
    {
     "name": "stderr",
     "output_type": "stream",
     "text": [
      "100%|██████████| 3151/3151 [05:20<00:00,  9.83it/s]\n"
     ]
    },
    {
     "name": "stdout",
     "output_type": "stream",
     "text": [
      "{'val_loss': 0.44617741642854153, 'val_accuracy': 0.8486209108402822, 'precision': 0.8544529767917585, 'recall': 0.8486209108402822, 'f1-score': 0.8487371483253127, 'macro_f1-score': 0.8389705204307203, 'balanced_accuracy': 0.8704332727087574, 'mcc': 0.8159660225066145, 'train_loss': 0.3730067561470121}\n",
      "Epoch 3/20\n"
     ]
    },
    {
     "name": "stderr",
     "output_type": "stream",
     "text": [
      "100%|██████████| 3151/3151 [05:19<00:00,  9.86it/s]\n"
     ]
    },
    {
     "name": "stdout",
     "output_type": "stream",
     "text": [
      "{'val_loss': 0.4515922954544807, 'val_accuracy': 0.8533247808424204, 'precision': 0.8565528371085933, 'recall': 0.8533247808424204, 'f1-score': 0.8534546956868547, 'macro_f1-score': 0.8510438653536387, 'balanced_accuracy': 0.8592623504696764, 'mcc': 0.819855461605332, 'train_loss': 0.2994918729706485}\n",
      "Epoch 4/20\n"
     ]
    },
    {
     "name": "stderr",
     "output_type": "stream",
     "text": [
      "100%|██████████| 3151/3151 [05:19<00:00,  9.85it/s]\n"
     ]
    },
    {
     "name": "stdout",
     "output_type": "stream",
     "text": [
      "{'val_loss': 0.4705675461082759, 'val_accuracy': 0.8541800299337182, 'precision': 0.8589671795097834, 'recall': 0.8541800299337182, 'f1-score': 0.8536308425452361, 'macro_f1-score': 0.8452719213248314, 'balanced_accuracy': 0.8658025080265523, 'mcc': 0.8219460006419075, 'train_loss': 0.23793909248107672}\n",
      "Epoch 5/20\n"
     ]
    },
    {
     "name": "stderr",
     "output_type": "stream",
     "text": [
      "100%|██████████| 3151/3151 [05:18<00:00,  9.88it/s]\n"
     ]
    },
    {
     "name": "stdout",
     "output_type": "stream",
     "text": [
      "{'val_loss': 0.4906808997209892, 'val_accuracy': 0.8589908060722685, 'precision': 0.8616650236316775, 'recall': 0.8589908060722685, 'f1-score': 0.8590455170860705, 'macro_f1-score': 0.8526342953757656, 'balanced_accuracy': 0.8729041354322615, 'mcc': 0.8276648677129587, 'train_loss': 0.20274388190416218}\n",
      "Epoch 6/20\n"
     ]
    },
    {
     "name": "stderr",
     "output_type": "stream",
     "text": [
      "100%|██████████| 3151/3151 [05:19<00:00,  9.86it/s]\n"
     ]
    },
    {
     "name": "stdout",
     "output_type": "stream",
     "text": [
      "{'val_loss': 0.5394256693740876, 'val_accuracy': 0.8611289288005132, 'precision': 0.8650614053758116, 'recall': 0.8611289288005132, 'f1-score': 0.8611750976700723, 'macro_f1-score': 0.8617213891196867, 'balanced_accuracy': 0.8514534782324088, 'mcc': 0.8289438562502903, 'train_loss': 0.16947859913128172}\n",
      "Epoch 7/20\n"
     ]
    },
    {
     "name": "stderr",
     "output_type": "stream",
     "text": [
      "100%|██████████| 3151/3151 [05:19<00:00,  9.85it/s]\n"
     ]
    },
    {
     "name": "stdout",
     "output_type": "stream",
     "text": [
      "{'val_loss': 0.5290799617667834, 'val_accuracy': 0.8641223006200556, 'precision': 0.8661728612603279, 'recall': 0.8641223006200556, 'f1-score': 0.8642347544938261, 'macro_f1-score': 0.8618016483187442, 'balanced_accuracy': 0.8744583845301725, 'mcc': 0.833681258675881, 'train_loss': 0.1459612675061847}\n",
      "Epoch 8/20\n"
     ]
    },
    {
     "name": "stderr",
     "output_type": "stream",
     "text": [
      "100%|██████████| 3151/3151 [05:19<00:00,  9.86it/s]\n"
     ]
    },
    {
     "name": "stdout",
     "output_type": "stream",
     "text": [
      "{'val_loss': 0.5080448887533803, 'val_accuracy': 0.8638015822108189, 'precision': 0.8648834358756832, 'recall': 0.8638015822108189, 'f1-score': 0.8636605914970222, 'macro_f1-score': 0.8605938049848498, 'balanced_accuracy': 0.8591306021707429, 'mcc': 0.8322153245323435, 'train_loss': 0.12877061359528322}\n",
      "Epoch 9/20\n"
     ]
    },
    {
     "name": "stderr",
     "output_type": "stream",
     "text": [
      "100%|██████████| 3151/3151 [05:19<00:00,  9.86it/s]\n"
     ]
    },
    {
     "name": "stdout",
     "output_type": "stream",
     "text": [
      "{'val_loss': 0.5239683290999223, 'val_accuracy': 0.8642292067564679, 'precision': 0.8662991635848241, 'recall': 0.8642292067564679, 'f1-score': 0.8647001413032176, 'macro_f1-score': 0.859918591212381, 'balanced_accuracy': 0.8622205139598225, 'mcc': 0.8330511464510246, 'train_loss': 0.11487849517715802}\n",
      "Epoch 10/20\n"
     ]
    },
    {
     "name": "stderr",
     "output_type": "stream",
     "text": [
      "100%|██████████| 3151/3151 [05:19<00:00,  9.87it/s]\n"
     ]
    },
    {
     "name": "stdout",
     "output_type": "stream",
     "text": [
      "{'val_loss': 0.6140405654636586, 'val_accuracy': 0.86337395766517, 'precision': 0.8665157511791335, 'recall': 0.86337395766517, 'f1-score': 0.8640961014536686, 'macro_f1-score': 0.8584186072554117, 'balanced_accuracy': 0.8630505420112848, 'mcc': 0.8319954105865954, 'train_loss': 0.09798110396182592}\n",
      "Early stopping.\n",
      "\n",
      "[Fold 4]\n",
      "Label distribution after resampling:\n",
      "  label 0: 5625\n",
      "  label 1: 5000\n",
      "  label 2: 8441\n",
      "  label 3: 10771\n",
      "  label 4: 5000\n",
      "  label 5: 5579\n",
      "  label 6: 5000\n",
      "  label 7: 5000\n",
      "model is roberta-base bilstm\n"
     ]
    },
    {
     "name": "stderr",
     "output_type": "stream",
     "text": [
      "Some weights of RobertaModel were not initialized from the model checkpoint at roberta-base and are newly initialized: ['pooler.dense.bias', 'pooler.dense.weight']\n",
      "You should probably TRAIN this model on a down-stream task to be able to use it for predictions and inference.\n"
     ]
    },
    {
     "name": "stdout",
     "output_type": "stream",
     "text": [
      "Epoch 1/20\n"
     ]
    },
    {
     "name": "stderr",
     "output_type": "stream",
     "text": [
      "100%|██████████| 3151/3151 [05:19<00:00,  9.85it/s]\n"
     ]
    },
    {
     "name": "stdout",
     "output_type": "stream",
     "text": [
      "{'val_loss': 0.506193794335565, 'val_accuracy': 0.825742997648065, 'precision': 0.8376658616489052, 'recall': 0.825742997648065, 'f1-score': 0.8269057161437264, 'macro_f1-score': 0.8200596869875026, 'balanced_accuracy': 0.8518539283644634, 'mcc': 0.7889410542258557, 'train_loss': 0.6160771430203155}\n",
      "Epoch 2/20\n"
     ]
    },
    {
     "name": "stderr",
     "output_type": "stream",
     "text": [
      "100%|██████████| 3151/3151 [05:20<00:00,  9.83it/s]\n"
     ]
    },
    {
     "name": "stdout",
     "output_type": "stream",
     "text": [
      "{'val_loss': 0.4420990250877336, 'val_accuracy': 0.8524695317511225, 'precision': 0.8545026904059021, 'recall': 0.8524695317511225, 'f1-score': 0.8528636998094183, 'macro_f1-score': 0.8521078917969483, 'balanced_accuracy': 0.8652851585422874, 'mcc': 0.8191749841110098, 'train_loss': 0.3816982629058409}\n",
      "Epoch 3/20\n"
     ]
    },
    {
     "name": "stderr",
     "output_type": "stream",
     "text": [
      "100%|██████████| 3151/3151 [05:19<00:00,  9.86it/s]\n"
     ]
    },
    {
     "name": "stdout",
     "output_type": "stream",
     "text": [
      "{'val_loss': 0.4678180131201561, 'val_accuracy': 0.8454137267479154, 'precision': 0.8490900961909322, 'recall': 0.8454137267479154, 'f1-score': 0.8445240120193928, 'macro_f1-score': 0.84574637013757, 'balanced_accuracy': 0.8696270939667377, 'mcc': 0.812800292128373, 'train_loss': 0.30064773994566824}\n",
      "Epoch 4/20\n"
     ]
    },
    {
     "name": "stderr",
     "output_type": "stream",
     "text": [
      "100%|██████████| 3151/3151 [05:19<00:00,  9.88it/s]\n"
     ]
    },
    {
     "name": "stdout",
     "output_type": "stream",
     "text": [
      "{'val_loss': 0.4717616233210533, 'val_accuracy': 0.8557836219799017, 'precision': 0.8577611925288257, 'recall': 0.8557836219799017, 'f1-score': 0.855363057252139, 'macro_f1-score': 0.8554188631267264, 'balanced_accuracy': 0.8642067952976361, 'mcc': 0.824092350745723, 'train_loss': 0.24100161190636832}\n",
      "Epoch 5/20\n"
     ]
    },
    {
     "name": "stderr",
     "output_type": "stream",
     "text": [
      "100%|██████████| 3151/3151 [05:19<00:00,  9.86it/s]\n"
     ]
    },
    {
     "name": "stdout",
     "output_type": "stream",
     "text": [
      "{'val_loss': 0.5252293633985627, 'val_accuracy': 0.8603805858456275, 'precision': 0.8618655716218303, 'recall': 0.8603805858456275, 'f1-score': 0.8605800074054802, 'macro_f1-score': 0.8606367648018369, 'balanced_accuracy': 0.865159378266628, 'mcc': 0.8286333399734507, 'train_loss': 0.19743902221053392}\n",
      "Epoch 6/20\n"
     ]
    },
    {
     "name": "stderr",
     "output_type": "stream",
     "text": [
      "100%|██████████| 3151/3151 [05:20<00:00,  9.84it/s]\n"
     ]
    },
    {
     "name": "stdout",
     "output_type": "stream",
     "text": [
      "{'val_loss': 0.5335797242366541, 'val_accuracy': 0.8571734017532606, 'precision': 0.8606685487546938, 'recall': 0.8571734017532606, 'f1-score': 0.8571577621730861, 'macro_f1-score': 0.8558065199241477, 'balanced_accuracy': 0.8524912800570301, 'mcc': 0.8244587933520341, 'train_loss': 0.1696720171929049}\n",
      "Epoch 7/20\n"
     ]
    },
    {
     "name": "stderr",
     "output_type": "stream",
     "text": [
      "100%|██████████| 3151/3151 [05:19<00:00,  9.86it/s]\n"
     ]
    },
    {
     "name": "stdout",
     "output_type": "stream",
     "text": [
      "{'val_loss': 0.5517834475478873, 'val_accuracy': 0.853645499251657, 'precision': 0.8573992998279838, 'recall': 0.853645499251657, 'f1-score': 0.8540764494069779, 'macro_f1-score': 0.8457800631135631, 'balanced_accuracy': 0.8580434896739015, 'mcc': 0.8211218429239695, 'train_loss': 0.1401674857053723}\n",
      "Epoch 8/20\n"
     ]
    },
    {
     "name": "stderr",
     "output_type": "stream",
     "text": [
      "100%|██████████| 3151/3151 [05:19<00:00,  9.85it/s]\n"
     ]
    },
    {
     "name": "stdout",
     "output_type": "stream",
     "text": [
      "{'val_loss': 0.6257278250076641, 'val_accuracy': 0.850331409022878, 'precision': 0.8560659496817891, 'recall': 0.850331409022878, 'f1-score': 0.8509942423193425, 'macro_f1-score': 0.8459762730638838, 'balanced_accuracy': 0.8587056886637374, 'mcc': 0.8178834751252579, 'train_loss': 0.12220023363133788}\n",
      "Early stopping.\n",
      "\n",
      "[Fold 5]\n",
      "Label distribution after resampling:\n",
      "  label 0: 5625\n",
      "  label 1: 5000\n",
      "  label 2: 8441\n",
      "  label 3: 10771\n",
      "  label 4: 5000\n",
      "  label 5: 5579\n",
      "  label 6: 5000\n",
      "  label 7: 5000\n",
      "model is roberta-base bilstm\n"
     ]
    },
    {
     "name": "stderr",
     "output_type": "stream",
     "text": [
      "Some weights of RobertaModel were not initialized from the model checkpoint at roberta-base and are newly initialized: ['pooler.dense.bias', 'pooler.dense.weight']\n",
      "You should probably TRAIN this model on a down-stream task to be able to use it for predictions and inference.\n"
     ]
    },
    {
     "name": "stdout",
     "output_type": "stream",
     "text": [
      "Epoch 1/20\n"
     ]
    },
    {
     "name": "stderr",
     "output_type": "stream",
     "text": [
      "100%|██████████| 3151/3151 [05:19<00:00,  9.86it/s]\n"
     ]
    },
    {
     "name": "stdout",
     "output_type": "stream",
     "text": [
      "{'val_loss': 0.5145542321042118, 'val_accuracy': 0.8296985246953175, 'precision': 0.8365662042230567, 'recall': 0.8296985246953175, 'f1-score': 0.8302450720294531, 'macro_f1-score': 0.8239557357032192, 'balanced_accuracy': 0.8585341919432425, 'mcc': 0.7926623088794089, 'train_loss': 0.5963889488537173}\n",
      "Epoch 2/20\n"
     ]
    },
    {
     "name": "stderr",
     "output_type": "stream",
     "text": [
      "100%|██████████| 3151/3151 [05:19<00:00,  9.87it/s]\n"
     ]
    },
    {
     "name": "stdout",
     "output_type": "stream",
     "text": [
      "{'val_loss': 0.48180115523182937, 'val_accuracy': 0.844344665383793, 'precision': 0.8486248358141215, 'recall': 0.844344665383793, 'f1-score': 0.8441967453075295, 'macro_f1-score': 0.8410091610118222, 'balanced_accuracy': 0.8664553030929152, 'mcc': 0.8111834668410542, 'train_loss': 0.3740277954657133}\n",
      "Epoch 3/20\n"
     ]
    },
    {
     "name": "stderr",
     "output_type": "stream",
     "text": [
      "100%|██████████| 3151/3151 [05:19<00:00,  9.86it/s]\n"
     ]
    },
    {
     "name": "stdout",
     "output_type": "stream",
     "text": [
      "{'val_loss': 0.4918431317959076, 'val_accuracy': 0.8372888603805858, 'precision': 0.8445807940753651, 'recall': 0.8372888603805858, 'f1-score': 0.8368749749678449, 'macro_f1-score': 0.8321982552656396, 'balanced_accuracy': 0.868027356779105, 'mcc': 0.8036936169845474, 'train_loss': 0.2982514175411724}\n",
      "Epoch 4/20\n"
     ]
    },
    {
     "name": "stderr",
     "output_type": "stream",
     "text": [
      "100%|██████████| 3151/3151 [05:19<00:00,  9.86it/s]\n"
     ]
    },
    {
     "name": "stdout",
     "output_type": "stream",
     "text": [
      "{'val_loss': 0.4648441014668116, 'val_accuracy': 0.8542869360701304, 'precision': 0.857954113125629, 'recall': 0.8542869360701304, 'f1-score': 0.8542003029386802, 'macro_f1-score': 0.8550332918782081, 'balanced_accuracy': 0.8528170954480867, 'mcc': 0.8207545855814079, 'train_loss': 0.23759741266472345}\n",
      "Epoch 5/20\n"
     ]
    },
    {
     "name": "stderr",
     "output_type": "stream",
     "text": [
      "100%|██████████| 3151/3151 [05:19<00:00,  9.86it/s]\n"
     ]
    },
    {
     "name": "stdout",
     "output_type": "stream",
     "text": [
      "{'val_loss': 0.5083954415307977, 'val_accuracy': 0.8537524053880693, 'precision': 0.8565687251717424, 'recall': 0.8537524053880693, 'f1-score': 0.8539203525477275, 'macro_f1-score': 0.8537730460558106, 'balanced_accuracy': 0.8524146253453281, 'mcc': 0.8200700522374361, 'train_loss': 0.1918031407500372}\n",
      "Epoch 6/20\n"
     ]
    },
    {
     "name": "stderr",
     "output_type": "stream",
     "text": [
      "100%|██████████| 3151/3151 [05:19<00:00,  9.86it/s]\n"
     ]
    },
    {
     "name": "stdout",
     "output_type": "stream",
     "text": [
      "{'val_loss': 0.5566001758449034, 'val_accuracy': 0.8546076544793672, 'precision': 0.8573012784505071, 'recall': 0.8546076544793672, 'f1-score': 0.8549228014150048, 'macro_f1-score': 0.8510582698690808, 'balanced_accuracy': 0.8674539457670665, 'mcc': 0.822199018425582, 'train_loss': 0.16208291486448304}\n",
      "Epoch 7/20\n"
     ]
    },
    {
     "name": "stderr",
     "output_type": "stream",
     "text": [
      "100%|██████████| 3151/3151 [05:18<00:00,  9.90it/s]\n"
     ]
    },
    {
     "name": "stdout",
     "output_type": "stream",
     "text": [
      "{'val_loss': 0.5501357019811264, 'val_accuracy': 0.8577079324353218, 'precision': 0.8592431712721382, 'recall': 0.8577079324353218, 'f1-score': 0.8576013352006141, 'macro_f1-score': 0.8576232170492433, 'balanced_accuracy': 0.8569213109455344, 'mcc': 0.8247996325798684, 'train_loss': 0.14026457237913822}\n",
      "Epoch 8/20\n"
     ]
    },
    {
     "name": "stderr",
     "output_type": "stream",
     "text": [
      "100%|██████████| 3151/3151 [05:19<00:00,  9.87it/s]\n"
     ]
    },
    {
     "name": "stdout",
     "output_type": "stream",
     "text": [
      "{'val_loss': 0.6123295195979807, 'val_accuracy': 0.8507590335685268, 'precision': 0.8515441158054301, 'recall': 0.8507590335685268, 'f1-score': 0.8507607872972267, 'macro_f1-score': 0.8502518170981527, 'balanced_accuracy': 0.8571080278610015, 'mcc': 0.8166362189347893, 'train_loss': 0.12104880607056498}\n",
      "Epoch 9/20\n"
     ]
    },
    {
     "name": "stderr",
     "output_type": "stream",
     "text": [
      "100%|██████████| 3151/3151 [05:19<00:00,  9.86it/s]\n"
     ]
    },
    {
     "name": "stdout",
     "output_type": "stream",
     "text": [
      "{'val_loss': 0.5923738623435936, 'val_accuracy': 0.8580286508445585, 'precision': 0.8593101202881659, 'recall': 0.8580286508445585, 'f1-score': 0.8582905339497762, 'macro_f1-score': 0.8577389577368559, 'balanced_accuracy': 0.8563967625228677, 'mcc': 0.8254137898524155, 'train_loss': 0.11047505983048048}\n",
      "Epoch 10/20\n"
     ]
    },
    {
     "name": "stderr",
     "output_type": "stream",
     "text": [
      "100%|██████████| 3151/3151 [05:14<00:00, 10.00it/s]\n"
     ]
    },
    {
     "name": "stdout",
     "output_type": "stream",
     "text": [
      "{'val_loss': 0.6620913076196582, 'val_accuracy': 0.8565319649347872, 'precision': 0.8573028134233995, 'recall': 0.8565319649347872, 'f1-score': 0.8565391149728516, 'macro_f1-score': 0.8561747277813894, 'balanced_accuracy': 0.8588345369865502, 'mcc': 0.8238767909413579, 'train_loss': 0.09602479221179883}\n",
      "Epoch 11/20\n"
     ]
    },
    {
     "name": "stderr",
     "output_type": "stream",
     "text": [
      "100%|██████████| 3151/3151 [04:57<00:00, 10.58it/s]\n"
     ]
    },
    {
     "name": "stdout",
     "output_type": "stream",
     "text": [
      "{'val_loss': 0.6282438705941965, 'val_accuracy': 0.8515073765234125, 'precision': 0.8573145639790691, 'recall': 0.8515073765234125, 'f1-score': 0.852560653248981, 'macro_f1-score': 0.8563052810738113, 'balanced_accuracy': 0.8575269803926867, 'mcc': 0.818728204137552, 'train_loss': 0.09374659751331767}\n",
      "Epoch 12/20\n"
     ]
    },
    {
     "name": "stderr",
     "output_type": "stream",
     "text": [
      "100%|██████████| 3151/3151 [04:57<00:00, 10.58it/s]\n"
     ]
    },
    {
     "name": "stdout",
     "output_type": "stream",
     "text": [
      "{'val_loss': 0.618109857225711, 'val_accuracy': 0.8608082103912764, 'precision': 0.8614547362508281, 'recall': 0.8608082103912764, 'f1-score': 0.8608707534550026, 'macro_f1-score': 0.8618644620281849, 'balanced_accuracy': 0.8592467042114931, 'mcc': 0.8284436418089279, 'train_loss': 0.07893480965156438}\n",
      "Epoch 13/20\n"
     ]
    },
    {
     "name": "stderr",
     "output_type": "stream",
     "text": [
      "100%|██████████| 3151/3151 [04:58<00:00, 10.55it/s]\n"
     ]
    },
    {
     "name": "stdout",
     "output_type": "stream",
     "text": [
      "{'val_loss': 0.6922000510048949, 'val_accuracy': 0.8528971562967714, 'precision': 0.8550829877026912, 'recall': 0.8528971562967714, 'f1-score': 0.8533142800920778, 'macro_f1-score': 0.8506517977046857, 'balanced_accuracy': 0.8590980474032017, 'mcc': 0.8196592843737854, 'train_loss': 0.07310781747523029}\n",
      "Epoch 14/20\n"
     ]
    },
    {
     "name": "stderr",
     "output_type": "stream",
     "text": [
      "100%|██████████| 3151/3151 [04:58<00:00, 10.57it/s]\n"
     ]
    },
    {
     "name": "stdout",
     "output_type": "stream",
     "text": [
      "{'val_loss': 0.656400952140331, 'val_accuracy': 0.8539662176608938, 'precision': 0.8556384213728829, 'recall': 0.8539662176608938, 'f1-score': 0.8536669074214, 'macro_f1-score': 0.8542250677221102, 'balanced_accuracy': 0.853413223431818, 'mcc': 0.8204467338412044, 'train_loss': 0.08726438868218062}\n",
      "Epoch 15/20\n"
     ]
    },
    {
     "name": "stderr",
     "output_type": "stream",
     "text": [
      "100%|██████████| 3151/3151 [04:58<00:00, 10.57it/s]\n"
     ]
    },
    {
     "name": "stdout",
     "output_type": "stream",
     "text": [
      "{'val_loss': 0.6770699892294569, 'val_accuracy': 0.8590977122086808, 'precision': 0.8595200339669593, 'recall': 0.8590977122086808, 'f1-score': 0.859013988972128, 'macro_f1-score': 0.8612557219849262, 'balanced_accuracy': 0.8599454324936664, 'mcc': 0.8264901758044738, 'train_loss': 0.07725110662103105}\n",
      "Early stopping.\n",
      "\n",
      " === roberta-base + bilstm + ros Final 5-fold Cross-Validation Results ===\n",
      "val_loss: 0.5517\n",
      "val_accuracy: 0.8612\n",
      "precision: 0.8625\n",
      "recall: 0.8612\n",
      "f1-score: 0.8613\n",
      "macro_f1-score: 0.8603\n",
      "balanced_accuracy: 0.8617\n",
      "mcc: 0.8295\n",
      "train_loss: 0.1404\n",
      "total_seconds: 18122.0000\n",
      "total_time: 5 hrs 2 mins 2 secs\n",
      "▶ Running: microsoft/deberta-base + plain + ros\n",
      "tokenizer is microsoft/deberta-base\n",
      "Using device: cuda\n",
      "CUDA Available: True\n",
      "CUDA Device: NVIDIA GeForce RTX 5070 Ti\n",
      "Current GPU Memory Allocated: 0.02 GB\n",
      "Current GPU Memory Cached: 3.91 GB\n",
      "\n",
      "[Fold 1]\n",
      "Label distribution after resampling:\n",
      "  label 0: 5626\n",
      "  label 1: 5000\n",
      "  label 2: 8442\n",
      "  label 3: 10770\n",
      "  label 4: 5000\n",
      "  label 5: 5578\n",
      "  label 6: 5000\n",
      "  label 7: 5000\n",
      "model is microsoft/deberta-base\n"
     ]
    },
    {
     "name": "stderr",
     "output_type": "stream",
     "text": [
      "Some weights of DebertaForSequenceClassification were not initialized from the model checkpoint at microsoft/deberta-base and are newly initialized: ['classifier.bias', 'classifier.weight', 'pooler.dense.bias', 'pooler.dense.weight']\n",
      "You should probably TRAIN this model on a down-stream task to be able to use it for predictions and inference.\n"
     ]
    },
    {
     "name": "stdout",
     "output_type": "stream",
     "text": [
      "Epoch 1/20\n"
     ]
    },
    {
     "name": "stderr",
     "output_type": "stream",
     "text": [
      "100%|██████████| 3151/3151 [05:18<00:00,  9.89it/s]\n"
     ]
    },
    {
     "name": "stdout",
     "output_type": "stream",
     "text": [
      "{'val_loss': 0.5052574719373997, 'val_accuracy': 0.826402993051844, 'precision': 0.8334618544516311, 'recall': 0.826402993051844, 'f1-score': 0.8266167433062546, 'macro_f1-score': 0.8223962844378565, 'balanced_accuracy': 0.8495017934846985, 'mcc': 0.7898094104177054, 'train_loss': 0.5490309027242627}\n",
      "Epoch 2/20\n"
     ]
    },
    {
     "name": "stderr",
     "output_type": "stream",
     "text": [
      "100%|██████████| 3151/3151 [05:18<00:00,  9.89it/s]\n"
     ]
    },
    {
     "name": "stdout",
     "output_type": "stream",
     "text": [
      "{'val_loss': 0.6233303306703893, 'val_accuracy': 0.8004275788348477, 'precision': 0.8256679382383568, 'recall': 0.8004275788348477, 'f1-score': 0.8055750045770674, 'macro_f1-score': 0.7739083262834845, 'balanced_accuracy': 0.8299837178884762, 'mcc': 0.7620150526652612, 'train_loss': 0.35460074815334014}\n",
      "Epoch 3/20\n"
     ]
    },
    {
     "name": "stderr",
     "output_type": "stream",
     "text": [
      "100%|██████████| 3151/3151 [05:18<00:00,  9.89it/s]\n"
     ]
    },
    {
     "name": "stdout",
     "output_type": "stream",
     "text": [
      "{'val_loss': 0.44340968689698185, 'val_accuracy': 0.8599679315873864, 'precision': 0.8628385866472972, 'recall': 0.8599679315873864, 'f1-score': 0.8600849914546771, 'macro_f1-score': 0.8531642023387295, 'balanced_accuracy': 0.872274602037556, 'mcc': 0.8293172878867796, 'train_loss': 0.252653691689039}\n",
      "Epoch 4/20\n"
     ]
    },
    {
     "name": "stderr",
     "output_type": "stream",
     "text": [
      "100%|██████████| 3151/3151 [05:18<00:00,  9.89it/s]\n"
     ]
    },
    {
     "name": "stdout",
     "output_type": "stream",
     "text": [
      "{'val_loss': 0.492613993678242, 'val_accuracy': 0.8550507749866382, 'precision': 0.8559242042793778, 'recall': 0.8550507749866382, 'f1-score': 0.8548575629513379, 'macro_f1-score': 0.8428286547774044, 'balanced_accuracy': 0.8483574675320513, 'mcc': 0.8219406375569612, 'train_loss': 0.18982416674212776}\n",
      "Epoch 5/20\n"
     ]
    },
    {
     "name": "stderr",
     "output_type": "stream",
     "text": [
      "100%|██████████| 3151/3151 [05:18<00:00,  9.89it/s]\n"
     ]
    },
    {
     "name": "stdout",
     "output_type": "stream",
     "text": [
      "{'val_loss': 0.5570526242140744, 'val_accuracy': 0.8581507215392838, 'precision': 0.8604960289076811, 'recall': 0.8581507215392838, 'f1-score': 0.8584649920998924, 'macro_f1-score': 0.8532647383501184, 'balanced_accuracy': 0.8530959613561333, 'mcc': 0.8256032350848072, 'train_loss': 0.1641853389385479}\n",
      "Epoch 6/20\n"
     ]
    },
    {
     "name": "stderr",
     "output_type": "stream",
     "text": [
      "100%|██████████| 3151/3151 [05:18<00:00,  9.89it/s]\n"
     ]
    },
    {
     "name": "stdout",
     "output_type": "stream",
     "text": [
      "{'val_loss': 0.5697778434707568, 'val_accuracy': 0.863174772848744, 'precision': 0.8634551582882923, 'recall': 0.863174772848744, 'f1-score': 0.8629605291377742, 'macro_f1-score': 0.8588624742916489, 'balanced_accuracy': 0.8538801594791932, 'mcc': 0.831322215950806, 'train_loss': 0.1203852380143469}\n",
      "Epoch 7/20\n"
     ]
    },
    {
     "name": "stderr",
     "output_type": "stream",
     "text": [
      "100%|██████████| 3151/3151 [05:18<00:00,  9.89it/s]\n"
     ]
    },
    {
     "name": "stdout",
     "output_type": "stream",
     "text": [
      "{'val_loss': 0.6628452055741293, 'val_accuracy': 0.8557990379476216, 'precision': 0.8572195897505918, 'recall': 0.8557990379476216, 'f1-score': 0.8559887375490538, 'macro_f1-score': 0.8527996727535104, 'balanced_accuracy': 0.85253520922173, 'mcc': 0.8224016493653009, 'train_loss': 0.10435049084826292}\n",
      "Epoch 8/20\n"
     ]
    },
    {
     "name": "stderr",
     "output_type": "stream",
     "text": [
      "100%|██████████| 3151/3151 [05:18<00:00,  9.89it/s]\n"
     ]
    },
    {
     "name": "stdout",
     "output_type": "stream",
     "text": [
      "{'val_loss': 0.6978896721826396, 'val_accuracy': 0.8528059861036879, 'precision': 0.8551582877380985, 'recall': 0.8528059861036879, 'f1-score': 0.8521910256215997, 'macro_f1-score': 0.8499908602406003, 'balanced_accuracy': 0.8549007299280216, 'mcc': 0.820541646770521, 'train_loss': 0.10944177874650139}\n",
      "Epoch 9/20\n"
     ]
    },
    {
     "name": "stderr",
     "output_type": "stream",
     "text": [
      "100%|██████████| 3151/3151 [05:18<00:00,  9.89it/s]\n"
     ]
    },
    {
     "name": "stdout",
     "output_type": "stream",
     "text": [
      "{'val_loss': 0.6862340783744127, 'val_accuracy': 0.8575093532870123, 'precision': 0.8593761248493869, 'recall': 0.8575093532870123, 'f1-score': 0.8577033170599176, 'macro_f1-score': 0.8564795814915817, 'balanced_accuracy': 0.8471297770727609, 'mcc': 0.8243833498990413, 'train_loss': 0.0761631045047194}\n",
      "Early stopping.\n",
      "\n",
      "[Fold 2]\n",
      "Label distribution after resampling:\n",
      "  label 0: 5626\n",
      "  label 1: 5000\n",
      "  label 2: 8442\n",
      "  label 3: 10770\n",
      "  label 4: 5000\n",
      "  label 5: 5578\n",
      "  label 6: 5000\n",
      "  label 7: 5000\n",
      "model is microsoft/deberta-base\n"
     ]
    },
    {
     "name": "stderr",
     "output_type": "stream",
     "text": [
      "Some weights of DebertaForSequenceClassification were not initialized from the model checkpoint at microsoft/deberta-base and are newly initialized: ['classifier.bias', 'classifier.weight', 'pooler.dense.bias', 'pooler.dense.weight']\n",
      "You should probably TRAIN this model on a down-stream task to be able to use it for predictions and inference.\n"
     ]
    },
    {
     "name": "stdout",
     "output_type": "stream",
     "text": [
      "Epoch 1/20\n"
     ]
    },
    {
     "name": "stderr",
     "output_type": "stream",
     "text": [
      "100%|██████████| 3151/3151 [05:18<00:00,  9.89it/s]\n"
     ]
    },
    {
     "name": "stdout",
     "output_type": "stream",
     "text": [
      "{'val_loss': 0.5133535109619555, 'val_accuracy': 0.8301443078567611, 'precision': 0.8366018675375616, 'recall': 0.8301443078567611, 'f1-score': 0.8303610085231462, 'macro_f1-score': 0.8286048043198002, 'balanced_accuracy': 0.8556518115845024, 'mcc': 0.7928713455834606, 'train_loss': 0.5805777604501046}\n",
      "Epoch 2/20\n"
     ]
    },
    {
     "name": "stderr",
     "output_type": "stream",
     "text": [
      "100%|██████████| 3151/3151 [05:18<00:00,  9.89it/s]\n"
     ]
    },
    {
     "name": "stdout",
     "output_type": "stream",
     "text": [
      "{'val_loss': 0.4563184204455624, 'val_accuracy': 0.8491715660074827, 'precision': 0.8507125229074808, 'recall': 0.8491715660074827, 'f1-score': 0.8490454120661477, 'macro_f1-score': 0.846937117938682, 'balanced_accuracy': 0.8592869663943181, 'mcc': 0.814887105087589, 'train_loss': 0.30049682061106053}\n",
      "Epoch 3/20\n"
     ]
    },
    {
     "name": "stderr",
     "output_type": "stream",
     "text": [
      "100%|██████████| 3151/3151 [05:18<00:00,  9.89it/s]\n"
     ]
    },
    {
     "name": "stdout",
     "output_type": "stream",
     "text": [
      "{'val_loss': 0.536204914119827, 'val_accuracy': 0.8494922501336184, 'precision': 0.8502515565863409, 'recall': 0.8494922501336184, 'f1-score': 0.8491785888091322, 'macro_f1-score': 0.8506831904546683, 'balanced_accuracy': 0.850745615544104, 'mcc': 0.8154338562177652, 'train_loss': 0.21779248896140638}\n",
      "Epoch 4/20\n"
     ]
    },
    {
     "name": "stderr",
     "output_type": "stream",
     "text": [
      "100%|██████████| 3151/3151 [05:18<00:00,  9.89it/s]\n"
     ]
    },
    {
     "name": "stdout",
     "output_type": "stream",
     "text": [
      "{'val_loss': 0.5763062538917407, 'val_accuracy': 0.8559059326563335, 'precision': 0.8576220668198902, 'recall': 0.8559059326563335, 'f1-score': 0.8560412622321079, 'macro_f1-score': 0.8572961194895916, 'balanced_accuracy': 0.853856542274859, 'mcc': 0.8223759145721251, 'train_loss': 0.14833290124195592}\n",
      "Epoch 5/20\n"
     ]
    },
    {
     "name": "stderr",
     "output_type": "stream",
     "text": [
      "100%|██████████| 3151/3151 [05:18<00:00,  9.89it/s]\n"
     ]
    },
    {
     "name": "stdout",
     "output_type": "stream",
     "text": [
      "{'val_loss': 0.6361809413064208, 'val_accuracy': 0.8508818813468734, 'precision': 0.8529665719991386, 'recall': 0.8508818813468734, 'f1-score': 0.851052118338071, 'macro_f1-score': 0.8490908743418346, 'balanced_accuracy': 0.8508814035661987, 'mcc': 0.8168674613282213, 'train_loss': 0.11232887231268229}\n",
      "Epoch 6/20\n"
     ]
    },
    {
     "name": "stderr",
     "output_type": "stream",
     "text": [
      "100%|██████████| 3151/3151 [05:18<00:00,  9.89it/s]\n"
     ]
    },
    {
     "name": "stdout",
     "output_type": "stream",
     "text": [
      "{'val_loss': 0.7692799961088925, 'val_accuracy': 0.840833778727953, 'precision': 0.8467122133034171, 'recall': 0.840833778727953, 'f1-score': 0.8413329705334891, 'macro_f1-score': 0.8395539812463713, 'balanced_accuracy': 0.8512284108827326, 'mcc': 0.805084707220019, 'train_loss': 0.0977330263774258}\n",
      "Epoch 7/20\n"
     ]
    },
    {
     "name": "stderr",
     "output_type": "stream",
     "text": [
      "100%|██████████| 3151/3151 [05:18<00:00,  9.89it/s]\n"
     ]
    },
    {
     "name": "stdout",
     "output_type": "stream",
     "text": [
      "{'val_loss': 0.6851263289970673, 'val_accuracy': 0.8388027792624265, 'precision': 0.8414516473071714, 'recall': 0.8388027792624265, 'f1-score': 0.8382197707484684, 'macro_f1-score': 0.839918704610289, 'balanced_accuracy': 0.8423700991437195, 'mcc': 0.80348781739499, 'train_loss': 0.094111393701187}\n",
      "Early stopping.\n",
      "\n",
      "[Fold 3]\n",
      "Label distribution after resampling:\n",
      "  label 0: 5626\n",
      "  label 1: 5000\n",
      "  label 2: 8442\n",
      "  label 3: 10770\n",
      "  label 4: 5000\n",
      "  label 5: 5578\n",
      "  label 6: 5000\n",
      "  label 7: 5000\n",
      "model is microsoft/deberta-base\n"
     ]
    },
    {
     "name": "stderr",
     "output_type": "stream",
     "text": [
      "Some weights of DebertaForSequenceClassification were not initialized from the model checkpoint at microsoft/deberta-base and are newly initialized: ['classifier.bias', 'classifier.weight', 'pooler.dense.bias', 'pooler.dense.weight']\n",
      "You should probably TRAIN this model on a down-stream task to be able to use it for predictions and inference.\n"
     ]
    },
    {
     "name": "stdout",
     "output_type": "stream",
     "text": [
      "Epoch 1/20\n"
     ]
    },
    {
     "name": "stderr",
     "output_type": "stream",
     "text": [
      "100%|██████████| 3151/3151 [05:18<00:00,  9.89it/s]\n"
     ]
    },
    {
     "name": "stdout",
     "output_type": "stream",
     "text": [
      "{'val_loss': 1.9340870392628204, 'val_accuracy': 0.2878982253581356, 'precision': 0.08288538816436382, 'recall': 0.2878982253581356, 'f1-score': 0.12871418957241787, 'macro_f1-score': 0.055885282642981655, 'balanced_accuracy': 0.125, 'mcc': 0.0, 'train_loss': 1.8122610359277396}\n",
      "Epoch 2/20\n"
     ]
    },
    {
     "name": "stderr",
     "output_type": "stream",
     "text": [
      "100%|██████████| 3151/3151 [05:18<00:00,  9.89it/s]\n"
     ]
    },
    {
     "name": "stdout",
     "output_type": "stream",
     "text": [
      "{'val_loss': 1.9300539183820415, 'val_accuracy': 0.2878982253581356, 'precision': 0.08288538816436382, 'recall': 0.2878982253581356, 'f1-score': 0.12871418957241787, 'macro_f1-score': 0.055885282642981655, 'balanced_accuracy': 0.125, 'mcc': 0.0, 'train_loss': 2.0362041442971575}\n",
      "Epoch 3/20\n"
     ]
    },
    {
     "name": "stderr",
     "output_type": "stream",
     "text": [
      "100%|██████████| 3151/3151 [05:18<00:00,  9.89it/s]\n"
     ]
    },
    {
     "name": "stdout",
     "output_type": "stream",
     "text": [
      "{'val_loss': 1.953678098703042, 'val_accuracy': 0.2878982253581356, 'precision': 0.08288538816436382, 'recall': 0.2878982253581356, 'f1-score': 0.12871418957241787, 'macro_f1-score': 0.055885282642981655, 'balanced_accuracy': 0.125, 'mcc': 0.0, 'train_loss': 2.031520518981173}\n",
      "Epoch 4/20\n"
     ]
    },
    {
     "name": "stderr",
     "output_type": "stream",
     "text": [
      "100%|██████████| 3151/3151 [05:18<00:00,  9.89it/s]\n"
     ]
    },
    {
     "name": "stdout",
     "output_type": "stream",
     "text": [
      "{'val_loss': 1.9459929270622058, 'val_accuracy': 0.2878982253581356, 'precision': 0.08288538816436382, 'recall': 0.2878982253581356, 'f1-score': 0.12871418957241787, 'macro_f1-score': 0.055885282642981655, 'balanced_accuracy': 0.125, 'mcc': 0.0, 'train_loss': 2.0220500884908073}\n",
      "Early stopping.\n",
      "\n",
      "[Fold 4]\n",
      "Label distribution after resampling:\n",
      "  label 0: 5625\n",
      "  label 1: 5000\n",
      "  label 2: 8441\n",
      "  label 3: 10771\n",
      "  label 4: 5000\n",
      "  label 5: 5579\n",
      "  label 6: 5000\n",
      "  label 7: 5000\n",
      "model is microsoft/deberta-base\n"
     ]
    },
    {
     "name": "stderr",
     "output_type": "stream",
     "text": [
      "Some weights of DebertaForSequenceClassification were not initialized from the model checkpoint at microsoft/deberta-base and are newly initialized: ['classifier.bias', 'classifier.weight', 'pooler.dense.bias', 'pooler.dense.weight']\n",
      "You should probably TRAIN this model on a down-stream task to be able to use it for predictions and inference.\n"
     ]
    },
    {
     "name": "stdout",
     "output_type": "stream",
     "text": [
      "Epoch 1/20\n"
     ]
    },
    {
     "name": "stderr",
     "output_type": "stream",
     "text": [
      "100%|██████████| 3151/3151 [05:18<00:00,  9.89it/s]\n"
     ]
    },
    {
     "name": "stdout",
     "output_type": "stream",
     "text": [
      "{'val_loss': 0.4540056969683904, 'val_accuracy': 0.8445584776566175, 'precision': 0.8466210942814888, 'recall': 0.8445584776566175, 'f1-score': 0.8439989606449864, 'macro_f1-score': 0.8461989104410497, 'balanced_accuracy': 0.8529321762816948, 'mcc': 0.8092245141863909, 'train_loss': 0.5396062688123504}\n",
      "Epoch 2/20\n"
     ]
    },
    {
     "name": "stderr",
     "output_type": "stream",
     "text": [
      "100%|██████████| 3151/3151 [05:18<00:00,  9.89it/s]\n"
     ]
    },
    {
     "name": "stdout",
     "output_type": "stream",
     "text": [
      "{'val_loss': 0.42919885304987304, 'val_accuracy': 0.8636946760744066, 'precision': 0.8650398099761479, 'recall': 0.8636946760744066, 'f1-score': 0.8637749708657936, 'macro_f1-score': 0.8679700487049771, 'balanced_accuracy': 0.8590033020212703, 'mcc': 0.8318166029723317, 'train_loss': 0.31078056972864004}\n",
      "Epoch 3/20\n"
     ]
    },
    {
     "name": "stderr",
     "output_type": "stream",
     "text": [
      "100%|██████████| 3151/3151 [05:18<00:00,  9.89it/s]\n"
     ]
    },
    {
     "name": "stdout",
     "output_type": "stream",
     "text": [
      "{'val_loss': 0.44232162792617696, 'val_accuracy': 0.8621979901646355, 'precision': 0.8625535893492964, 'recall': 0.8621979901646355, 'f1-score': 0.8621435853904968, 'macro_f1-score': 0.862176836336048, 'balanced_accuracy': 0.8671743127760588, 'mcc': 0.8305660939608402, 'train_loss': 0.22217928616219781}\n",
      "Epoch 4/20\n"
     ]
    },
    {
     "name": "stderr",
     "output_type": "stream",
     "text": [
      "100%|██████████| 3151/3151 [05:18<00:00,  9.89it/s]\n"
     ]
    },
    {
     "name": "stdout",
     "output_type": "stream",
     "text": [
      "{'val_loss': 1.430716411374573, 'val_accuracy': 0.4548856104340389, 'precision': 0.6779195805594372, 'recall': 0.4548856104340389, 'f1-score': 0.4702134832935034, 'macro_f1-score': 0.49847601017482585, 'balanced_accuracy': 0.48440783836305656, 'mcc': 0.40824668386545615, 'train_loss': 0.19481067215847647}\n",
      "Epoch 5/20\n"
     ]
    },
    {
     "name": "stderr",
     "output_type": "stream",
     "text": [
      "100%|██████████| 3151/3151 [05:18<00:00,  9.89it/s]\n"
     ]
    },
    {
     "name": "stdout",
     "output_type": "stream",
     "text": [
      "{'val_loss': 0.5343587482873446, 'val_accuracy': 0.857814838571734, 'precision': 0.8599516883497396, 'recall': 0.857814838571734, 'f1-score': 0.8582630654827625, 'macro_f1-score': 0.8550479884031481, 'balanced_accuracy': 0.8611198160139935, 'mcc': 0.8254944336231507, 'train_loss': 0.2929884670920001}\n",
      "Early stopping.\n",
      "\n",
      "[Fold 5]\n",
      "Label distribution after resampling:\n",
      "  label 0: 5625\n",
      "  label 1: 5000\n",
      "  label 2: 8441\n",
      "  label 3: 10771\n",
      "  label 4: 5000\n",
      "  label 5: 5579\n",
      "  label 6: 5000\n",
      "  label 7: 5000\n",
      "model is microsoft/deberta-base\n"
     ]
    },
    {
     "name": "stderr",
     "output_type": "stream",
     "text": [
      "Some weights of DebertaForSequenceClassification were not initialized from the model checkpoint at microsoft/deberta-base and are newly initialized: ['classifier.bias', 'classifier.weight', 'pooler.dense.bias', 'pooler.dense.weight']\n",
      "You should probably TRAIN this model on a down-stream task to be able to use it for predictions and inference.\n"
     ]
    },
    {
     "name": "stdout",
     "output_type": "stream",
     "text": [
      "Epoch 1/20\n"
     ]
    },
    {
     "name": "stderr",
     "output_type": "stream",
     "text": [
      "100%|██████████| 3151/3151 [05:18<00:00,  9.89it/s]\n"
     ]
    },
    {
     "name": "stdout",
     "output_type": "stream",
     "text": [
      "{'val_loss': 1.9489215180405184, 'val_accuracy': 0.28779131922172335, 'precision': 0.08282384341937987, 'recall': 0.28779131922172335, 'f1-score': 0.12862929293456404, 'macro_f1-score': 0.055869168188610326, 'balanced_accuracy': 0.125, 'mcc': 0.0, 'train_loss': 2.0077943566941867}\n",
      "Epoch 2/20\n"
     ]
    },
    {
     "name": "stderr",
     "output_type": "stream",
     "text": [
      "100%|██████████| 3151/3151 [05:18<00:00,  9.89it/s]\n"
     ]
    },
    {
     "name": "stdout",
     "output_type": "stream",
     "text": [
      "{'val_loss': 1.9343674205307269, 'val_accuracy': 0.22567885396621767, 'precision': 0.0509309451275054, 'recall': 0.22567885396621767, 'f1-score': 0.08310650863021116, 'macro_f1-score': 0.04603139991277802, 'balanced_accuracy': 0.125, 'mcc': 0.0, 'train_loss': 2.0334731003323347}\n",
      "Epoch 3/20\n"
     ]
    },
    {
     "name": "stderr",
     "output_type": "stream",
     "text": [
      "100%|██████████| 3151/3151 [05:18<00:00,  9.88it/s]\n"
     ]
    },
    {
     "name": "stdout",
     "output_type": "stream",
     "text": [
      "{'val_loss': 1.9976165048077574, 'val_accuracy': 0.28779131922172335, 'precision': 0.08282384341937987, 'recall': 0.28779131922172335, 'f1-score': 0.12862929293456404, 'macro_f1-score': 0.055869168188610326, 'balanced_accuracy': 0.125, 'mcc': 0.0, 'train_loss': 2.0265708756197145}\n",
      "Epoch 4/20\n"
     ]
    },
    {
     "name": "stderr",
     "output_type": "stream",
     "text": [
      "100%|██████████| 3151/3151 [05:18<00:00,  9.89it/s]\n"
     ]
    },
    {
     "name": "stdout",
     "output_type": "stream",
     "text": [
      "{'val_loss': 1.9550179514110597, 'val_accuracy': 0.28779131922172335, 'precision': 0.08282384341937987, 'recall': 0.28779131922172335, 'f1-score': 0.12862929293456404, 'macro_f1-score': 0.055869168188610326, 'balanced_accuracy': 0.125, 'mcc': 0.0, 'train_loss': 2.037136083934013}\n",
      "Early stopping.\n",
      "\n",
      " === microsoft/deberta-base + plain + ros Final 5-fold Cross-Validation Results ===\n",
      "val_loss: 1.0917\n",
      "val_accuracy: 0.6317\n",
      "precision: 0.5504\n",
      "recall: 0.6317\n",
      "f1-score: 0.5680\n",
      "macro_f1-score: 0.5392\n",
      "balanced_accuracy: 0.5633\n",
      "mcc: 0.4971\n",
      "train_loss: 0.8799\n",
      "total_seconds: 9962.0000\n",
      "total_time: 2 hrs 46 mins 2 secs\n",
      "▶ Running: microsoft/deberta-base + cnn + ros\n",
      "tokenizer is microsoft/deberta-base\n",
      "Using device: cuda\n",
      "CUDA Available: True\n",
      "CUDA Device: NVIDIA GeForce RTX 5070 Ti\n",
      "Current GPU Memory Allocated: 0.02 GB\n",
      "Current GPU Memory Cached: 5.12 GB\n",
      "\n",
      "[Fold 1]\n",
      "Label distribution after resampling:\n",
      "  label 0: 5626\n",
      "  label 1: 5000\n",
      "  label 2: 8442\n",
      "  label 3: 10770\n",
      "  label 4: 5000\n",
      "  label 5: 5578\n",
      "  label 6: 5000\n",
      "  label 7: 5000\n",
      "model is microsoft/deberta-base cnn\n",
      "Epoch 1/20\n"
     ]
    },
    {
     "name": "stderr",
     "output_type": "stream",
     "text": [
      "100%|██████████| 3151/3151 [05:32<00:00,  9.48it/s]\n"
     ]
    },
    {
     "name": "stdout",
     "output_type": "stream",
     "text": [
      "{'val_loss': 1.9826034531634078, 'val_accuracy': 0.2878674505611972, 'precision': 0.08286766909260333, 'recall': 0.2878674505611972, 'f1-score': 0.1286897483999509, 'macro_f1-score': 0.055880644090305444, 'balanced_accuracy': 0.125, 'mcc': 0.0, 'train_loss': 2.0440308628518102}\n",
      "Epoch 2/20\n"
     ]
    },
    {
     "name": "stderr",
     "output_type": "stream",
     "text": [
      "100%|██████████| 3151/3151 [05:32<00:00,  9.48it/s]\n"
     ]
    },
    {
     "name": "stdout",
     "output_type": "stream",
     "text": [
      "{'val_loss': 1.978344742457072, 'val_accuracy': 0.2878674505611972, 'precision': 0.08286766909260333, 'recall': 0.2878674505611972, 'f1-score': 0.1286897483999509, 'macro_f1-score': 0.055880644090305444, 'balanced_accuracy': 0.125, 'mcc': 0.0, 'train_loss': 2.038050881078303}\n",
      "Epoch 3/20\n"
     ]
    },
    {
     "name": "stderr",
     "output_type": "stream",
     "text": [
      "100%|██████████| 3151/3151 [05:32<00:00,  9.48it/s]\n"
     ]
    },
    {
     "name": "stdout",
     "output_type": "stream",
     "text": [
      "{'val_loss': 1.9661977574356602, 'val_accuracy': 0.2255478353821486, 'precision': 0.0508718260455728, 'recall': 0.2255478353821486, 'f1-score': 0.0830189154219509, 'macro_f1-score': 0.04600959441779329, 'balanced_accuracy': 0.125, 'mcc': 0.0, 'train_loss': 2.0304905521949106}\n",
      "Epoch 4/20\n"
     ]
    },
    {
     "name": "stderr",
     "output_type": "stream",
     "text": [
      "100%|██████████| 3151/3151 [05:32<00:00,  9.48it/s]\n"
     ]
    },
    {
     "name": "stdout",
     "output_type": "stream",
     "text": [
      "{'val_loss': 1.9604591434837406, 'val_accuracy': 0.2255478353821486, 'precision': 0.0508718260455728, 'recall': 0.2255478353821486, 'f1-score': 0.0830189154219509, 'macro_f1-score': 0.04600959441779329, 'balanced_accuracy': 0.125, 'mcc': 0.0, 'train_loss': 2.023404159533792}\n",
      "Early stopping.\n",
      "\n",
      "[Fold 2]\n",
      "Label distribution after resampling:\n",
      "  label 0: 5626\n",
      "  label 1: 5000\n",
      "  label 2: 8442\n",
      "  label 3: 10770\n",
      "  label 4: 5000\n",
      "  label 5: 5578\n",
      "  label 6: 5000\n",
      "  label 7: 5000\n",
      "model is microsoft/deberta-base cnn\n",
      "Epoch 1/20\n"
     ]
    },
    {
     "name": "stderr",
     "output_type": "stream",
     "text": [
      "100%|██████████| 3151/3151 [05:32<00:00,  9.48it/s]\n"
     ]
    },
    {
     "name": "stdout",
     "output_type": "stream",
     "text": [
      "{'val_loss': 2.0106720842866816, 'val_accuracy': 0.2878674505611972, 'precision': 0.08286766909260333, 'recall': 0.2878674505611972, 'f1-score': 0.1286897483999509, 'macro_f1-score': 0.055880644090305444, 'balanced_accuracy': 0.125, 'mcc': 0.0, 'train_loss': 1.9520651724784195}\n",
      "Epoch 2/20\n"
     ]
    },
    {
     "name": "stderr",
     "output_type": "stream",
     "text": [
      "100%|██████████| 3151/3151 [05:32<00:00,  9.48it/s]\n"
     ]
    },
    {
     "name": "stdout",
     "output_type": "stream",
     "text": [
      "{'val_loss': 1.9713749304795876, 'val_accuracy': 0.2878674505611972, 'precision': 0.08286766909260333, 'recall': 0.2878674505611972, 'f1-score': 0.1286897483999509, 'macro_f1-score': 0.055880644090305444, 'balanced_accuracy': 0.125, 'mcc': 0.0, 'train_loss': 2.0415644866631015}\n",
      "Epoch 3/20\n"
     ]
    },
    {
     "name": "stderr",
     "output_type": "stream",
     "text": [
      "100%|██████████| 3151/3151 [05:32<00:00,  9.48it/s]\n"
     ]
    },
    {
     "name": "stdout",
     "output_type": "stream",
     "text": [
      "{'val_loss': 1.9475599062748445, 'val_accuracy': 0.2878674505611972, 'precision': 0.08286766909260333, 'recall': 0.2878674505611972, 'f1-score': 0.1286897483999509, 'macro_f1-score': 0.055880644090305444, 'balanced_accuracy': 0.125, 'mcc': 0.0, 'train_loss': 2.03951851045166}\n",
      "Epoch 4/20\n"
     ]
    },
    {
     "name": "stderr",
     "output_type": "stream",
     "text": [
      "100%|██████████| 3151/3151 [05:32<00:00,  9.48it/s]\n"
     ]
    },
    {
     "name": "stdout",
     "output_type": "stream",
     "text": [
      "{'val_loss': 1.9619532173515386, 'val_accuracy': 0.2878674505611972, 'precision': 0.08286766909260333, 'recall': 0.2878674505611972, 'f1-score': 0.1286897483999509, 'macro_f1-score': 0.055880644090305444, 'balanced_accuracy': 0.125, 'mcc': 0.0, 'train_loss': 2.038099264387326}\n",
      "Early stopping.\n",
      "\n",
      "[Fold 3]\n",
      "Label distribution after resampling:\n",
      "  label 0: 5626\n",
      "  label 1: 5000\n",
      "  label 2: 8442\n",
      "  label 3: 10770\n",
      "  label 4: 5000\n",
      "  label 5: 5578\n",
      "  label 6: 5000\n",
      "  label 7: 5000\n",
      "model is microsoft/deberta-base cnn\n",
      "Epoch 1/20\n"
     ]
    },
    {
     "name": "stderr",
     "output_type": "stream",
     "text": [
      "100%|██████████| 3151/3151 [05:32<00:00,  9.48it/s]\n"
     ]
    },
    {
     "name": "stdout",
     "output_type": "stream",
     "text": [
      "{'val_loss': 0.492710290177383, 'val_accuracy': 0.8365405174257002, 'precision': 0.8445974541146769, 'recall': 0.8365405174257002, 'f1-score': 0.8383389751282475, 'macro_f1-score': 0.8291076419751896, 'balanced_accuracy': 0.8524326569196701, 'mcc': 0.801007425448357, 'train_loss': 0.6174748308917608}\n",
      "Epoch 2/20\n"
     ]
    },
    {
     "name": "stderr",
     "output_type": "stream",
     "text": [
      "100%|██████████| 3151/3151 [05:32<00:00,  9.48it/s]\n"
     ]
    },
    {
     "name": "stdout",
     "output_type": "stream",
     "text": [
      "{'val_loss': 0.4711759657208991, 'val_accuracy': 0.8474449433397477, 'precision': 0.8507243157539147, 'recall': 0.8474449433397477, 'f1-score': 0.847950891080248, 'macro_f1-score': 0.8466384994954935, 'balanced_accuracy': 0.8597240147793026, 'mcc': 0.813112312491058, 'train_loss': 0.37565706544699073}\n",
      "Epoch 3/20\n"
     ]
    },
    {
     "name": "stderr",
     "output_type": "stream",
     "text": [
      "100%|██████████| 3151/3151 [05:32<00:00,  9.48it/s]\n"
     ]
    },
    {
     "name": "stdout",
     "output_type": "stream",
     "text": [
      "{'val_loss': 0.5238674408923357, 'val_accuracy': 0.8428479794740218, 'precision': 0.8579280942750073, 'recall': 0.8428479794740218, 'f1-score': 0.8452463492735748, 'macro_f1-score': 0.8359895223092177, 'balanced_accuracy': 0.8782933849733568, 'mcc': 0.8113308901076941, 'train_loss': 0.2832066139390427}\n",
      "Epoch 4/20\n"
     ]
    },
    {
     "name": "stderr",
     "output_type": "stream",
     "text": [
      "100%|██████████| 3151/3151 [05:32<00:00,  9.48it/s]\n"
     ]
    },
    {
     "name": "stdout",
     "output_type": "stream",
     "text": [
      "{'val_loss': 1.9574555339976254, 'val_accuracy': 0.2878982253581356, 'precision': 0.08288538816436382, 'recall': 0.2878982253581356, 'f1-score': 0.12871418957241787, 'macro_f1-score': 0.055885282642981655, 'balanced_accuracy': 0.125, 'mcc': 0.0, 'train_loss': 1.9294207910308097}\n",
      "Epoch 5/20\n"
     ]
    },
    {
     "name": "stderr",
     "output_type": "stream",
     "text": [
      "100%|██████████| 3151/3151 [05:32<00:00,  9.48it/s]\n"
     ]
    },
    {
     "name": "stdout",
     "output_type": "stream",
     "text": [
      "{'val_loss': 1.969608472351335, 'val_accuracy': 0.2878982253581356, 'precision': 0.08288538816436382, 'recall': 0.2878982253581356, 'f1-score': 0.12871418957241787, 'macro_f1-score': 0.055885282642981655, 'balanced_accuracy': 0.125, 'mcc': 0.0, 'train_loss': 2.038123912941422}\n",
      "Early stopping.\n",
      "\n",
      "[Fold 4]\n",
      "Label distribution after resampling:\n",
      "  label 0: 5625\n",
      "  label 1: 5000\n",
      "  label 2: 8441\n",
      "  label 3: 10771\n",
      "  label 4: 5000\n",
      "  label 5: 5579\n",
      "  label 6: 5000\n",
      "  label 7: 5000\n",
      "model is microsoft/deberta-base cnn\n",
      "Epoch 1/20\n"
     ]
    },
    {
     "name": "stderr",
     "output_type": "stream",
     "text": [
      "100%|██████████| 3151/3151 [05:32<00:00,  9.48it/s]\n"
     ]
    },
    {
     "name": "stdout",
     "output_type": "stream",
     "text": [
      "{'val_loss': 0.5605094592413332, 'val_accuracy': 0.8141971349155441, 'precision': 0.8273374287901587, 'recall': 0.8141971349155441, 'f1-score': 0.8150562694776, 'macro_f1-score': 0.8077538886256594, 'balanced_accuracy': 0.8448470505989674, 'mcc': 0.7741014105954633, 'train_loss': 0.6938847607537816}\n",
      "Epoch 2/20\n"
     ]
    },
    {
     "name": "stderr",
     "output_type": "stream",
     "text": [
      "100%|██████████| 3151/3151 [05:32<00:00,  9.48it/s]\n"
     ]
    },
    {
     "name": "stdout",
     "output_type": "stream",
     "text": [
      "{'val_loss': 0.44765864063977684, 'val_accuracy': 0.8545007483429549, 'precision': 0.8566197678652585, 'recall': 0.8545007483429549, 'f1-score': 0.8546401669986623, 'macro_f1-score': 0.8527696239697953, 'balanced_accuracy': 0.8642695980981354, 'mcc': 0.8220304596741256, 'train_loss': 0.3697018081851963}\n",
      "Epoch 3/20\n"
     ]
    },
    {
     "name": "stderr",
     "output_type": "stream",
     "text": [
      "100%|██████████| 3151/3151 [05:32<00:00,  9.48it/s]\n"
     ]
    },
    {
     "name": "stdout",
     "output_type": "stream",
     "text": [
      "{'val_loss': 0.5000627343296113, 'val_accuracy': 0.8535385931152448, 'precision': 0.8550518485886729, 'recall': 0.8535385931152448, 'f1-score': 0.8528314852283185, 'macro_f1-score': 0.85707176014462, 'balanced_accuracy': 0.864155769727013, 'mcc': 0.8206927400929422, 'train_loss': 0.30669853779224554}\n",
      "Epoch 4/20\n"
     ]
    },
    {
     "name": "stderr",
     "output_type": "stream",
     "text": [
      "100%|██████████| 3151/3151 [05:32<00:00,  9.48it/s]\n"
     ]
    },
    {
     "name": "stdout",
     "output_type": "stream",
     "text": [
      "{'val_loss': 0.5956518395015826, 'val_accuracy': 0.8470173187940988, 'precision': 0.8502013636029451, 'recall': 0.8470173187940988, 'f1-score': 0.8471943959780153, 'macro_f1-score': 0.8468243329711727, 'balanced_accuracy': 0.8498790030476044, 'mcc': 0.8119744256609268, 'train_loss': 0.22874472731525172}\n",
      "Epoch 5/20\n"
     ]
    },
    {
     "name": "stderr",
     "output_type": "stream",
     "text": [
      "100%|██████████| 3151/3151 [05:32<00:00,  9.48it/s]\n"
     ]
    },
    {
     "name": "stdout",
     "output_type": "stream",
     "text": [
      "{'val_loss': 0.5655096678795596, 'val_accuracy': 0.8554629035706649, 'precision': 0.8579542292212623, 'recall': 0.8554629035706649, 'f1-score': 0.8557392724807017, 'macro_f1-score': 0.8529134417705493, 'balanced_accuracy': 0.8674934479708417, 'mcc': 0.8226915160489078, 'train_loss': 0.2190280020896003}\n",
      "Epoch 6/20\n"
     ]
    },
    {
     "name": "stderr",
     "output_type": "stream",
     "text": [
      "100%|██████████| 3151/3151 [05:32<00:00,  9.48it/s]\n"
     ]
    },
    {
     "name": "stdout",
     "output_type": "stream",
     "text": [
      "{'val_loss': 0.6184811176941133, 'val_accuracy': 0.850331409022878, 'precision': 0.8547313589940762, 'recall': 0.850331409022878, 'f1-score': 0.8503523822925618, 'macro_f1-score': 0.8448646332024214, 'balanced_accuracy': 0.8698707950099152, 'mcc': 0.8181159780288679, 'train_loss': 0.15395910734843057}\n",
      "Early stopping.\n",
      "\n",
      "[Fold 5]\n",
      "Label distribution after resampling:\n",
      "  label 0: 5625\n",
      "  label 1: 5000\n",
      "  label 2: 8441\n",
      "  label 3: 10771\n",
      "  label 4: 5000\n",
      "  label 5: 5579\n",
      "  label 6: 5000\n",
      "  label 7: 5000\n",
      "model is microsoft/deberta-base cnn\n",
      "Epoch 1/20\n"
     ]
    },
    {
     "name": "stderr",
     "output_type": "stream",
     "text": [
      "100%|██████████| 3151/3151 [05:32<00:00,  9.49it/s]\n"
     ]
    },
    {
     "name": "stdout",
     "output_type": "stream",
     "text": [
      "{'val_loss': 0.5613543907307789, 'val_accuracy': 0.8125935428693607, 'precision': 0.8332336231763441, 'recall': 0.8125935428693607, 'f1-score': 0.8142994335006003, 'macro_f1-score': 0.8038337278991738, 'balanced_accuracy': 0.8602735531410708, 'mcc': 0.7770684169649681, 'train_loss': 0.6065526794983882}\n",
      "Epoch 2/20\n"
     ]
    },
    {
     "name": "stderr",
     "output_type": "stream",
     "text": [
      "100%|██████████| 3151/3151 [05:32<00:00,  9.49it/s]\n"
     ]
    },
    {
     "name": "stdout",
     "output_type": "stream",
     "text": [
      "{'val_loss': 0.493343628412033, 'val_accuracy': 0.840602950609365, 'precision': 0.8455460280950411, 'recall': 0.840602950609365, 'f1-score': 0.8391629638524981, 'macro_f1-score': 0.839704961327597, 'balanced_accuracy': 0.8661038864054185, 'mcc': 0.8079261842000294, 'train_loss': 0.3529585609629263}\n",
      "Epoch 3/20\n"
     ]
    },
    {
     "name": "stderr",
     "output_type": "stream",
     "text": [
      "100%|██████████| 3151/3151 [05:32<00:00,  9.49it/s]\n"
     ]
    },
    {
     "name": "stdout",
     "output_type": "stream",
     "text": [
      "{'val_loss': 0.4722190493088948, 'val_accuracy': 0.8546076544793672, 'precision': 0.8558613927760199, 'recall': 0.8546076544793672, 'f1-score': 0.8542565031432597, 'macro_f1-score': 0.8514999743780117, 'balanced_accuracy': 0.8695837750750073, 'mcc': 0.8222170735701597, 'train_loss': 0.2502177902201787}\n",
      "Epoch 4/20\n"
     ]
    },
    {
     "name": "stderr",
     "output_type": "stream",
     "text": [
      "100%|██████████| 3151/3151 [05:32<00:00,  9.49it/s]\n"
     ]
    },
    {
     "name": "stdout",
     "output_type": "stream",
     "text": [
      "{'val_loss': 0.5125024841413793, 'val_accuracy': 0.8534316869788325, 'precision': 0.8550658644704013, 'recall': 0.8534316869788325, 'f1-score': 0.8530453578560625, 'macro_f1-score': 0.8539856230610134, 'balanced_accuracy': 0.8547707719897912, 'mcc': 0.8198877188700473, 'train_loss': 0.2067815033289341}\n",
      "Epoch 5/20\n"
     ]
    },
    {
     "name": "stderr",
     "output_type": "stream",
     "text": [
      "100%|██████████| 3151/3151 [05:32<00:00,  9.49it/s]\n"
     ]
    },
    {
     "name": "stdout",
     "output_type": "stream",
     "text": [
      "{'val_loss': 0.5439232142787411, 'val_accuracy': 0.8577079324353218, 'precision': 0.8584116530933663, 'recall': 0.8577079324353218, 'f1-score': 0.8573737244583779, 'macro_f1-score': 0.8617345330094719, 'balanced_accuracy': 0.8603617631656342, 'mcc': 0.8250349574081802, 'train_loss': 0.1557441925261922}\n",
      "Epoch 6/20\n"
     ]
    },
    {
     "name": "stderr",
     "output_type": "stream",
     "text": [
      "100%|██████████| 3151/3151 [05:31<00:00,  9.49it/s]\n"
     ]
    },
    {
     "name": "stdout",
     "output_type": "stream",
     "text": [
      "{'val_loss': 0.665194683521389, 'val_accuracy': 0.8523626256147103, 'precision': 0.8554614256726927, 'recall': 0.8523626256147103, 'f1-score': 0.8528305264963857, 'macro_f1-score': 0.852161904828247, 'balanced_accuracy': 0.8665448993064351, 'mcc': 0.8196753745392815, 'train_loss': 0.12647276338170924}\n",
      "Epoch 7/20\n"
     ]
    },
    {
     "name": "stderr",
     "output_type": "stream",
     "text": [
      "100%|██████████| 3151/3151 [05:32<00:00,  9.49it/s]\n"
     ]
    },
    {
     "name": "stdout",
     "output_type": "stream",
     "text": [
      "{'val_loss': 0.6968160486852742, 'val_accuracy': 0.84851400470387, 'precision': 0.8512427349659514, 'recall': 0.84851400470387, 'f1-score': 0.8485057821186279, 'macro_f1-score': 0.8483100886499353, 'balanced_accuracy': 0.8583721136954322, 'mcc': 0.815120557746608, 'train_loss': 0.12671288681314702}\n",
      "Epoch 8/20\n"
     ]
    },
    {
     "name": "stderr",
     "output_type": "stream",
     "text": [
      "100%|██████████| 3151/3151 [05:32<00:00,  9.49it/s]\n"
     ]
    },
    {
     "name": "stdout",
     "output_type": "stream",
     "text": [
      "{'val_loss': 0.7070358087982321, 'val_accuracy': 0.8569595894804362, 'precision': 0.857797956534366, 'recall': 0.8569595894804362, 'f1-score': 0.8569414555874133, 'macro_f1-score': 0.8540668765430476, 'balanced_accuracy': 0.8624938736853578, 'mcc': 0.8245922063249398, 'train_loss': 0.10324000356419011}\n",
      "Early stopping.\n",
      "\n",
      " === microsoft/deberta-base + cnn + ros Final 5-fold Cross-Validation Results ===\n",
      "val_loss: 1.1017\n",
      "val_accuracy: 0.6269\n",
      "precision: 0.5460\n",
      "recall: 0.6269\n",
      "f1-score: 0.5631\n",
      "macro_f1-score: 0.5354\n",
      "balanced_accuracy: 0.5668\n",
      "mcc: 0.4918\n",
      "train_loss: 0.9668\n",
      "total_seconds: 9656.0000\n",
      "total_time: 2 hrs 40 mins 56 secs\n",
      "▶ Running: microsoft/deberta-base + lstm + ros\n",
      "tokenizer is microsoft/deberta-base\n",
      "Using device: cuda\n",
      "CUDA Available: True\n",
      "CUDA Device: NVIDIA GeForce RTX 5070 Ti\n",
      "Current GPU Memory Allocated: 0.02 GB\n",
      "Current GPU Memory Cached: 5.12 GB\n",
      "\n",
      "[Fold 1]\n",
      "Label distribution after resampling:\n",
      "  label 0: 5626\n",
      "  label 1: 5000\n",
      "  label 2: 8442\n",
      "  label 3: 10770\n",
      "  label 4: 5000\n",
      "  label 5: 5578\n",
      "  label 6: 5000\n",
      "  label 7: 5000\n",
      "model is microsoft/deberta-base lstm\n",
      "Epoch 1/20\n"
     ]
    },
    {
     "name": "stderr",
     "output_type": "stream",
     "text": [
      "100%|██████████| 3151/3151 [05:37<00:00,  9.34it/s]\n"
     ]
    },
    {
     "name": "stdout",
     "output_type": "stream",
     "text": [
      "{'val_loss': 0.5488072534020131, 'val_accuracy': 0.8333511491181187, 'precision': 0.8370605889666939, 'recall': 0.8333511491181187, 'f1-score': 0.8330258763735094, 'macro_f1-score': 0.8329590922074561, 'balanced_accuracy': 0.8494066562232924, 'mcc': 0.79717658099242, 'train_loss': 0.8895667061453223}\n",
      "Epoch 2/20\n"
     ]
    },
    {
     "name": "stderr",
     "output_type": "stream",
     "text": [
      "100%|██████████| 3151/3151 [05:37<00:00,  9.35it/s]\n"
     ]
    },
    {
     "name": "stdout",
     "output_type": "stream",
     "text": [
      "{'val_loss': 0.47888931553396913, 'val_accuracy': 0.8488508818813468, 'precision': 0.850177705205242, 'recall': 0.8488508818813468, 'f1-score': 0.8479693893859411, 'macro_f1-score': 0.8477539392238221, 'balanced_accuracy': 0.8585543821849679, 'mcc': 0.8159026692593356, 'train_loss': 0.38948733392737567}\n",
      "Epoch 3/20\n"
     ]
    },
    {
     "name": "stderr",
     "output_type": "stream",
     "text": [
      "100%|██████████| 3151/3151 [05:36<00:00,  9.35it/s]\n"
     ]
    },
    {
     "name": "stdout",
     "output_type": "stream",
     "text": [
      "{'val_loss': 0.49237206840935427, 'val_accuracy': 0.8571886691608765, 'precision': 0.8596150440895911, 'recall': 0.8571886691608765, 'f1-score': 0.8573418316760533, 'macro_f1-score': 0.8505119046849589, 'balanced_accuracy': 0.8698590396255724, 'mcc': 0.825542309120703, 'train_loss': 0.3337727871814211}\n",
      "Epoch 4/20\n"
     ]
    },
    {
     "name": "stderr",
     "output_type": "stream",
     "text": [
      "100%|██████████| 3151/3151 [05:37<00:00,  9.34it/s]\n"
     ]
    },
    {
     "name": "stdout",
     "output_type": "stream",
     "text": [
      "{'val_loss': 0.48998963604720996, 'val_accuracy': 0.8601817210048103, 'precision': 0.8625146623615597, 'recall': 0.8601817210048103, 'f1-score': 0.8605187443538164, 'macro_f1-score': 0.8500025547620618, 'balanced_accuracy': 0.863945171479352, 'mcc': 0.8288584348201001, 'train_loss': 0.24015572452719666}\n",
      "Epoch 5/20\n"
     ]
    },
    {
     "name": "stderr",
     "output_type": "stream",
     "text": [
      "100%|██████████| 3151/3151 [05:37<00:00,  9.35it/s]\n"
     ]
    },
    {
     "name": "stdout",
     "output_type": "stream",
     "text": [
      "{'val_loss': 0.5162930204827562, 'val_accuracy': 0.8594334580438269, 'precision': 0.8605725365678275, 'recall': 0.8594334580438269, 'f1-score': 0.8593976882854618, 'macro_f1-score': 0.856882114083551, 'balanced_accuracy': 0.8644699771662848, 'mcc': 0.8277932032303403, 'train_loss': 0.19652089300769066}\n",
      "Epoch 6/20\n"
     ]
    },
    {
     "name": "stderr",
     "output_type": "stream",
     "text": [
      "100%|██████████| 3151/3151 [05:37<00:00,  9.34it/s]\n"
     ]
    },
    {
     "name": "stdout",
     "output_type": "stream",
     "text": [
      "{'val_loss': 0.5895352167539044, 'val_accuracy': 0.8550507749866382, 'precision': 0.8553773228167647, 'recall': 0.8550507749866382, 'f1-score': 0.8551088398786161, 'macro_f1-score': 0.850498079097879, 'balanced_accuracy': 0.8489050551315755, 'mcc': 0.8215493926708143, 'train_loss': 0.17101147936102}\n",
      "Epoch 7/20\n"
     ]
    },
    {
     "name": "stderr",
     "output_type": "stream",
     "text": [
      "100%|██████████| 3151/3151 [05:37<00:00,  9.34it/s]\n"
     ]
    },
    {
     "name": "stdout",
     "output_type": "stream",
     "text": [
      "{'val_loss': 0.6274077045981987, 'val_accuracy': 0.8544094067343666, 'precision': 0.8567767319358853, 'recall': 0.8544094067343666, 'f1-score': 0.8546631051238576, 'macro_f1-score': 0.8487428685774183, 'balanced_accuracy': 0.8498254768679467, 'mcc': 0.8214236578009957, 'train_loss': 0.13788731729136489}\n",
      "Epoch 8/20\n"
     ]
    },
    {
     "name": "stderr",
     "output_type": "stream",
     "text": [
      "100%|██████████| 3151/3151 [05:37<00:00,  9.34it/s]\n"
     ]
    },
    {
     "name": "stdout",
     "output_type": "stream",
     "text": [
      "{'val_loss': 0.5769491418209086, 'val_accuracy': 0.8596472474612507, 'precision': 0.8600649619223945, 'recall': 0.8596472474612507, 'f1-score': 0.8595255343060565, 'macro_f1-score': 0.8545363246555366, 'balanced_accuracy': 0.8470319685926735, 'mcc': 0.8268927590171367, 'train_loss': 0.12521690377576608}\n",
      "Early stopping.\n",
      "\n",
      "[Fold 2]\n",
      "Label distribution after resampling:\n",
      "  label 0: 5626\n",
      "  label 1: 5000\n",
      "  label 2: 8442\n",
      "  label 3: 10770\n",
      "  label 4: 5000\n",
      "  label 5: 5578\n",
      "  label 6: 5000\n",
      "  label 7: 5000\n",
      "model is microsoft/deberta-base lstm\n",
      "Epoch 1/20\n"
     ]
    },
    {
     "name": "stderr",
     "output_type": "stream",
     "text": [
      "100%|██████████| 3151/3151 [05:37<00:00,  9.35it/s]\n"
     ]
    },
    {
     "name": "stdout",
     "output_type": "stream",
     "text": [
      "{'val_loss': 0.732767724723388, 'val_accuracy': 0.7805451630144308, 'precision': 0.7920019060707857, 'recall': 0.7805451630144308, 'f1-score': 0.7829108216651499, 'macro_f1-score': 0.7714569826274491, 'balanced_accuracy': 0.7978535895229861, 'mcc': 0.7335438927877955, 'train_loss': 1.1063270133540806}\n",
      "Epoch 2/20\n"
     ]
    },
    {
     "name": "stderr",
     "output_type": "stream",
     "text": [
      "100%|██████████| 3151/3151 [05:37<00:00,  9.35it/s]\n"
     ]
    },
    {
     "name": "stdout",
     "output_type": "stream",
     "text": [
      "{'val_loss': 0.6222809429097379, 'val_accuracy': 0.8069481560662747, 'precision': 0.8141431425024115, 'recall': 0.8069481560662747, 'f1-score': 0.8064936224002456, 'macro_f1-score': 0.8091635139889676, 'balanced_accuracy': 0.832551778611688, 'mcc': 0.7669477611896376, 'train_loss': 0.5778632028514867}\n",
      "Epoch 3/20\n"
     ]
    },
    {
     "name": "stderr",
     "output_type": "stream",
     "text": [
      "100%|██████████| 3151/3151 [05:37<00:00,  9.35it/s]\n"
     ]
    },
    {
     "name": "stdout",
     "output_type": "stream",
     "text": [
      "{'val_loss': 0.5406734267488504, 'val_accuracy': 0.8295029396044896, 'precision': 0.831083703663948, 'recall': 0.8295029396044896, 'f1-score': 0.8291044253360755, 'macro_f1-score': 0.8277082091798678, 'balanced_accuracy': 0.8501179707245459, 'mcc': 0.7918301870573441, 'train_loss': 0.4606078155066845}\n",
      "Epoch 4/20\n"
     ]
    },
    {
     "name": "stderr",
     "output_type": "stream",
     "text": [
      "100%|██████████| 3151/3151 [05:37<00:00,  9.35it/s]\n"
     ]
    },
    {
     "name": "stdout",
     "output_type": "stream",
     "text": [
      "{'val_loss': 0.5815554952169331, 'val_accuracy': 0.8271512560128274, 'precision': 0.8307339408377808, 'recall': 0.8271512560128274, 'f1-score': 0.8269053347695007, 'macro_f1-score': 0.8207335115112689, 'balanced_accuracy': 0.8442333361412331, 'mcc': 0.7887168349490077, 'train_loss': 0.3940691648577838}\n",
      "Epoch 5/20\n"
     ]
    },
    {
     "name": "stderr",
     "output_type": "stream",
     "text": [
      "100%|██████████| 3151/3151 [05:36<00:00,  9.35it/s]\n"
     ]
    },
    {
     "name": "stdout",
     "output_type": "stream",
     "text": [
      "{'val_loss': 0.7352426466269371, 'val_accuracy': 0.7910208444681989, 'precision': 0.8030302502234691, 'recall': 0.7910208444681989, 'f1-score': 0.7883675130980097, 'macro_f1-score': 0.7847010503415797, 'balanced_accuracy': 0.819315138875657, 'mcc': 0.7470401715600787, 'train_loss': 0.4558489677667386}\n",
      "Epoch 6/20\n"
     ]
    },
    {
     "name": "stderr",
     "output_type": "stream",
     "text": [
      "100%|██████████| 3151/3151 [05:37<00:00,  9.34it/s]\n"
     ]
    },
    {
     "name": "stdout",
     "output_type": "stream",
     "text": [
      "{'val_loss': 0.8361951324674818, 'val_accuracy': 0.7360769641902726, 'precision': 0.7421009644414303, 'recall': 0.7360769641902726, 'f1-score': 0.7361992151110772, 'macro_f1-score': 0.7163910705599272, 'balanced_accuracy': 0.7372216311885622, 'mcc': 0.6777250128934781, 'train_loss': 0.7676826041624523}\n",
      "Early stopping.\n",
      "\n",
      "[Fold 3]\n",
      "Label distribution after resampling:\n",
      "  label 0: 5626\n",
      "  label 1: 5000\n",
      "  label 2: 8442\n",
      "  label 3: 10770\n",
      "  label 4: 5000\n",
      "  label 5: 5578\n",
      "  label 6: 5000\n",
      "  label 7: 5000\n",
      "model is microsoft/deberta-base lstm\n",
      "Epoch 1/20\n"
     ]
    },
    {
     "name": "stderr",
     "output_type": "stream",
     "text": [
      "100%|██████████| 3151/3151 [05:37<00:00,  9.33it/s]\n"
     ]
    },
    {
     "name": "stdout",
     "output_type": "stream",
     "text": [
      "{'val_loss': 0.5794169061713749, 'val_accuracy': 0.8197562540089801, 'precision': 0.8313184501947594, 'recall': 0.8197562540089801, 'f1-score': 0.8205953611863508, 'macro_f1-score': 0.8182454249361532, 'balanced_accuracy': 0.8570435903213732, 'mcc': 0.7834509416200798, 'train_loss': 0.8843995542698476}\n",
      "Epoch 2/20\n"
     ]
    },
    {
     "name": "stderr",
     "output_type": "stream",
     "text": [
      "100%|██████████| 3151/3151 [05:37<00:00,  9.35it/s]\n"
     ]
    },
    {
     "name": "stdout",
     "output_type": "stream",
     "text": [
      "{'val_loss': 1.2299974837873735, 'val_accuracy': 0.56040196707291, 'precision': 0.6216689076555205, 'recall': 0.56040196707291, 'f1-score': 0.5289459557173231, 'macro_f1-score': 0.5348381228184199, 'balanced_accuracy': 0.5470378785705419, 'mcc': 0.4964403048330894, 'train_loss': 0.5397032775458921}\n",
      "Epoch 3/20\n"
     ]
    },
    {
     "name": "stderr",
     "output_type": "stream",
     "text": [
      "100%|██████████| 3151/3151 [05:37<00:00,  9.35it/s]\n"
     ]
    },
    {
     "name": "stdout",
     "output_type": "stream",
     "text": [
      "{'val_loss': 0.629427643183969, 'val_accuracy': 0.8169766944622622, 'precision': 0.8259003420256156, 'recall': 0.8169766944622622, 'f1-score': 0.8186661236753893, 'macro_f1-score': 0.8121096651270607, 'balanced_accuracy': 0.8380681863339376, 'mcc': 0.7774460962403836, 'train_loss': 0.5128262682316304}\n",
      "Epoch 4/20\n"
     ]
    },
    {
     "name": "stderr",
     "output_type": "stream",
     "text": [
      "100%|██████████| 3151/3151 [05:37<00:00,  9.34it/s]\n"
     ]
    },
    {
     "name": "stdout",
     "output_type": "stream",
     "text": [
      "{'val_loss': 0.5741131571622995, 'val_accuracy': 0.826170622193714, 'precision': 0.8316328554565, 'recall': 0.826170622193714, 'f1-score': 0.8269069040548259, 'macro_f1-score': 0.8254678667772264, 'balanced_accuracy': 0.8342384993092005, 'mcc': 0.786353092360569, 'train_loss': 0.4044008636779159}\n",
      "Epoch 5/20\n"
     ]
    },
    {
     "name": "stderr",
     "output_type": "stream",
     "text": [
      "100%|██████████| 3151/3151 [05:37<00:00,  9.35it/s]\n"
     ]
    },
    {
     "name": "stdout",
     "output_type": "stream",
     "text": [
      "{'val_loss': 0.5675968633375617, 'val_accuracy': 0.8412443874278384, 'precision': 0.8475774423165873, 'recall': 0.8412443874278384, 'f1-score': 0.8423012411465739, 'macro_f1-score': 0.831376200944304, 'balanced_accuracy': 0.8529801605249339, 'mcc': 0.8057507687158936, 'train_loss': 0.350933180633969}\n",
      "Epoch 6/20\n"
     ]
    },
    {
     "name": "stderr",
     "output_type": "stream",
     "text": [
      "100%|██████████| 3151/3151 [05:37<00:00,  9.35it/s]\n"
     ]
    },
    {
     "name": "stdout",
     "output_type": "stream",
     "text": [
      "{'val_loss': 1.0703154591859405, 'val_accuracy': 0.7052597819114818, 'precision': 0.704097396961255, 'recall': 0.7052597819114818, 'f1-score': 0.6801295725127332, 'macro_f1-score': 0.7028111121903067, 'balanced_accuracy': 0.7475231978973147, 'mcc': 0.650094656788299, 'train_loss': 0.339783079477523}\n",
      "Epoch 7/20\n"
     ]
    },
    {
     "name": "stderr",
     "output_type": "stream",
     "text": [
      "100%|██████████| 3151/3151 [05:37<00:00,  9.35it/s]\n"
     ]
    },
    {
     "name": "stdout",
     "output_type": "stream",
     "text": [
      "{'val_loss': 0.7139664741790193, 'val_accuracy': 0.7870429762668377, 'precision': 0.8046692862363609, 'recall': 0.7870429762668377, 'f1-score': 0.7837524809402376, 'macro_f1-score': 0.8029429286635238, 'balanced_accuracy': 0.832802706625229, 'mcc': 0.7474505572584227, 'train_loss': 0.4250311437197401}\n",
      "Epoch 8/20\n"
     ]
    },
    {
     "name": "stderr",
     "output_type": "stream",
     "text": [
      "100%|██████████| 3151/3151 [05:36<00:00,  9.36it/s]\n"
     ]
    },
    {
     "name": "stdout",
     "output_type": "stream",
     "text": [
      "{'val_loss': 0.6490406681743697, 'val_accuracy': 0.8131280735514218, 'precision': 0.8168470119967868, 'recall': 0.8131280735514218, 'f1-score': 0.8131825648107165, 'macro_f1-score': 0.809621743773812, 'balanced_accuracy': 0.8299998984699368, 'mcc': 0.7721615804008207, 'train_loss': 0.49845441915059385}\n",
      "Early stopping.\n",
      "\n",
      "[Fold 4]\n",
      "Label distribution after resampling:\n",
      "  label 0: 5625\n",
      "  label 1: 5000\n",
      "  label 2: 8441\n",
      "  label 3: 10771\n",
      "  label 4: 5000\n",
      "  label 5: 5579\n",
      "  label 6: 5000\n",
      "  label 7: 5000\n",
      "model is microsoft/deberta-base lstm\n",
      "Epoch 1/20\n"
     ]
    },
    {
     "name": "stderr",
     "output_type": "stream",
     "text": [
      "100%|██████████| 3151/3151 [05:37<00:00,  9.35it/s]\n"
     ]
    },
    {
     "name": "stdout",
     "output_type": "stream",
     "text": [
      "{'val_loss': 0.6157237442894878, 'val_accuracy': 0.8083172974128715, 'precision': 0.8158708509266478, 'recall': 0.8083172974128715, 'f1-score': 0.8074862487274832, 'macro_f1-score': 0.8122554919013476, 'balanced_accuracy': 0.8339563165419106, 'mcc': 0.7678893524451159, 'train_loss': 0.8828595989528288}\n",
      "Epoch 2/20\n"
     ]
    },
    {
     "name": "stderr",
     "output_type": "stream",
     "text": [
      "100%|██████████| 3151/3151 [05:37<00:00,  9.35it/s]\n"
     ]
    },
    {
     "name": "stdout",
     "output_type": "stream",
     "text": [
      "{'val_loss': 0.4956445796176409, 'val_accuracy': 0.8396407953816549, 'precision': 0.8417300400074025, 'recall': 0.8396407953816549, 'f1-score': 0.839251104981214, 'macro_f1-score': 0.8408067704778606, 'balanced_accuracy': 0.8547648144442254, 'mcc': 0.8040202706626204, 'train_loss': 0.4754199453427683}\n",
      "Epoch 3/20\n"
     ]
    },
    {
     "name": "stderr",
     "output_type": "stream",
     "text": [
      "100%|██████████| 3151/3151 [05:36<00:00,  9.36it/s]\n"
     ]
    },
    {
     "name": "stdout",
     "output_type": "stream",
     "text": [
      "{'val_loss': 0.7450710385146304, 'val_accuracy': 0.7905708787684413, 'precision': 0.798423066211207, 'recall': 0.7905708787684413, 'f1-score': 0.7914158694438187, 'macro_f1-score': 0.7930627099411994, 'balanced_accuracy': 0.8196349414691012, 'mcc': 0.744497761408668, 'train_loss': 0.6209348950798702}\n",
      "Epoch 4/20\n"
     ]
    },
    {
     "name": "stderr",
     "output_type": "stream",
     "text": [
      "100%|██████████| 3151/3151 [05:36<00:00,  9.36it/s]\n"
     ]
    },
    {
     "name": "stdout",
     "output_type": "stream",
     "text": [
      "{'val_loss': 0.8570264496609696, 'val_accuracy': 0.7024802223647637, 'precision': 0.7421868872069093, 'recall': 0.7024802223647637, 'f1-score': 0.7092924778694769, 'macro_f1-score': 0.6948235482965941, 'balanced_accuracy': 0.7296732783171983, 'mcc': 0.6424555265822579, 'train_loss': 0.7486693477373356}\n",
      "Epoch 5/20\n"
     ]
    },
    {
     "name": "stderr",
     "output_type": "stream",
     "text": [
      "100%|██████████| 3151/3151 [05:36<00:00,  9.35it/s]\n"
     ]
    },
    {
     "name": "stdout",
     "output_type": "stream",
     "text": [
      "{'val_loss': 0.9399436022481348, 'val_accuracy': 0.6603592046183451, 'precision': 0.6550647468280762, 'recall': 0.6603592046183451, 'f1-score': 0.6490616092086022, 'macro_f1-score': 0.5833974594622624, 'balanced_accuracy': 0.6438122807278368, 'mcc': 0.5866445132209257, 'train_loss': 0.7598817297501324}\n",
      "Early stopping.\n",
      "\n",
      "[Fold 5]\n",
      "Label distribution after resampling:\n",
      "  label 0: 5625\n",
      "  label 1: 5000\n",
      "  label 2: 8441\n",
      "  label 3: 10771\n",
      "  label 4: 5000\n",
      "  label 5: 5579\n",
      "  label 6: 5000\n",
      "  label 7: 5000\n",
      "model is microsoft/deberta-base lstm\n",
      "Epoch 1/20\n"
     ]
    },
    {
     "name": "stderr",
     "output_type": "stream",
     "text": [
      "100%|██████████| 3151/3151 [05:37<00:00,  9.35it/s]\n"
     ]
    },
    {
     "name": "stdout",
     "output_type": "stream",
     "text": [
      "{'val_loss': 0.5448553038076458, 'val_accuracy': 0.8279880265127219, 'precision': 0.8319947260872226, 'recall': 0.8279880265127219, 'f1-score': 0.8285254351601233, 'macro_f1-score': 0.8302753613787951, 'balanced_accuracy': 0.8420128517664256, 'mcc': 0.7889039689423598, 'train_loss': 0.8828627282557924}\n",
      "Epoch 2/20\n"
     ]
    },
    {
     "name": "stderr",
     "output_type": "stream",
     "text": [
      "100%|██████████| 3151/3151 [05:37<00:00,  9.35it/s]\n"
     ]
    },
    {
     "name": "stdout",
     "output_type": "stream",
     "text": [
      "{'val_loss': 0.8870058441263997, 'val_accuracy': 0.7042976266837716, 'precision': 0.7158933235570306, 'recall': 0.7042976266837716, 'f1-score': 0.6874894431771675, 'macro_f1-score': 0.5946352464977986, 'balanced_accuracy': 0.5871294539582674, 'mcc': 0.6438791055351522, 'train_loss': 0.4680765914062457}\n",
      "Epoch 3/20\n"
     ]
    },
    {
     "name": "stderr",
     "output_type": "stream",
     "text": [
      "100%|██████████| 3151/3151 [05:37<00:00,  9.34it/s]\n"
     ]
    },
    {
     "name": "stdout",
     "output_type": "stream",
     "text": [
      "{'val_loss': 0.5257104682139098, 'val_accuracy': 0.8464827881120376, 'precision': 0.8519612199983468, 'recall': 0.8464827881120376, 'f1-score': 0.8472985480541492, 'macro_f1-score': 0.8415347209880539, 'balanced_accuracy': 0.8621397828514878, 'mcc': 0.8127062673034433, 'train_loss': 0.3673260809858993}\n",
      "Epoch 4/20\n"
     ]
    },
    {
     "name": "stderr",
     "output_type": "stream",
     "text": [
      "100%|██████████| 3151/3151 [05:37<00:00,  9.34it/s]\n"
     ]
    },
    {
     "name": "stdout",
     "output_type": "stream",
     "text": [
      "{'val_loss': 0.49764941185633216, 'val_accuracy': 0.8442377592473808, 'precision': 0.8492924317022793, 'recall': 0.8442377592473808, 'f1-score': 0.8443623476086456, 'macro_f1-score': 0.843246800472693, 'balanced_accuracy': 0.8672573791290394, 'mcc': 0.8108631808335719, 'train_loss': 0.2769856225596921}\n",
      "Epoch 5/20\n"
     ]
    },
    {
     "name": "stderr",
     "output_type": "stream",
     "text": [
      "100%|██████████| 3151/3151 [05:37<00:00,  9.34it/s]\n"
     ]
    },
    {
     "name": "stdout",
     "output_type": "stream",
     "text": [
      "{'val_loss': 0.5607010195015842, 'val_accuracy': 0.8468035065212743, 'precision': 0.8515595184413759, 'recall': 0.8468035065212743, 'f1-score': 0.8476232579996882, 'macro_f1-score': 0.8462189977725473, 'balanced_accuracy': 0.8625795426069025, 'mcc': 0.8126681923400652, 'train_loss': 0.24546138252365432}\n",
      "Epoch 6/20\n"
     ]
    },
    {
     "name": "stderr",
     "output_type": "stream",
     "text": [
      "100%|██████████| 3151/3151 [05:37<00:00,  9.33it/s]\n"
     ]
    },
    {
     "name": "stdout",
     "output_type": "stream",
     "text": [
      "{'val_loss': 0.5410941509338908, 'val_accuracy': 0.8468035065212743, 'precision': 0.8504374405637, 'recall': 0.8468035065212743, 'f1-score': 0.847237950687242, 'macro_f1-score': 0.8483456548706308, 'balanced_accuracy': 0.8475852440148774, 'mcc': 0.8114641671254214, 'train_loss': 0.1837301441507904}\n",
      "Epoch 7/20\n"
     ]
    },
    {
     "name": "stderr",
     "output_type": "stream",
     "text": [
      "100%|██████████| 3151/3151 [05:38<00:00,  9.32it/s]\n"
     ]
    },
    {
     "name": "stdout",
     "output_type": "stream",
     "text": [
      "{'val_loss': 0.5915067481561603, 'val_accuracy': 0.8370750481077613, 'precision': 0.8414090784141749, 'recall': 0.8370750481077613, 'f1-score': 0.8378743378401793, 'macro_f1-score': 0.8368265561408748, 'balanced_accuracy': 0.8462044575056802, 'mcc': 0.8009515420669246, 'train_loss': 0.16888349153715035}\n",
      "Epoch 8/20\n"
     ]
    },
    {
     "name": "stderr",
     "output_type": "stream",
     "text": [
      "100%|██████████| 3151/3151 [05:38<00:00,  9.31it/s]\n"
     ]
    },
    {
     "name": "stdout",
     "output_type": "stream",
     "text": [
      "{'val_loss': 1.9665997162843363, 'val_accuracy': 0.28779131922172335, 'precision': 0.08282384341937987, 'recall': 0.28779131922172335, 'f1-score': 0.12862929293456404, 'macro_f1-score': 0.055869168188610326, 'balanced_accuracy': 0.125, 'mcc': 0.0, 'train_loss': 1.7140566640158437}\n",
      "Epoch 9/20\n"
     ]
    },
    {
     "name": "stderr",
     "output_type": "stream",
     "text": [
      "100%|██████████| 3151/3151 [05:38<00:00,  9.31it/s]\n"
     ]
    },
    {
     "name": "stdout",
     "output_type": "stream",
     "text": [
      "{'val_loss': 1.9461052438132784, 'val_accuracy': 0.28779131922172335, 'precision': 0.08282384341937987, 'recall': 0.28779131922172335, 'f1-score': 0.12862929293456404, 'macro_f1-score': 0.055869168188610326, 'balanced_accuracy': 0.125, 'mcc': 0.0, 'train_loss': 2.0325887207378095}\n",
      "Early stopping.\n",
      "\n",
      " === microsoft/deberta-base + lstm + ros Final 5-fold Cross-Validation Results ===\n",
      "val_loss: 0.5323\n",
      "val_accuracy: 0.8433\n",
      "precision: 0.8463\n",
      "recall: 0.8433\n",
      "f1-score: 0.8435\n",
      "macro_f1-score: 0.8410\n",
      "balanced_accuracy: 0.8540\n",
      "mcc: 0.8082\n",
      "train_loss: 0.3334\n",
      "total_seconds: 13088.0000\n",
      "total_time: 3 hrs 38 mins 8 secs\n",
      "▶ Running: microsoft/deberta-base + bilstm + ros\n",
      "tokenizer is microsoft/deberta-base\n",
      "Using device: cuda\n",
      "CUDA Available: True\n",
      "CUDA Device: NVIDIA GeForce RTX 5070 Ti\n",
      "Current GPU Memory Allocated: 0.02 GB\n",
      "Current GPU Memory Cached: 5.28 GB\n",
      "\n",
      "[Fold 1]\n",
      "Label distribution after resampling:\n",
      "  label 0: 5626\n",
      "  label 1: 5000\n",
      "  label 2: 8442\n",
      "  label 3: 10770\n",
      "  label 4: 5000\n",
      "  label 5: 5578\n",
      "  label 6: 5000\n",
      "  label 7: 5000\n",
      "model is microsoft/deberta-base bilstm\n",
      "Epoch 1/20\n"
     ]
    },
    {
     "name": "stderr",
     "output_type": "stream",
     "text": [
      "100%|██████████| 3151/3151 [05:47<00:00,  9.08it/s]\n"
     ]
    },
    {
     "name": "stdout",
     "output_type": "stream",
     "text": [
      "{'val_loss': 1.04147101895422, 'val_accuracy': 0.6485301977552111, 'precision': 0.6985373620529681, 'recall': 0.6485301977552111, 'f1-score': 0.663891357796487, 'macro_f1-score': 0.6647901225051865, 'balanced_accuracy': 0.7064716145150638, 'mcc': 0.5825003947859473, 'train_loss': 1.4595056418217163}\n",
      "Epoch 2/20\n"
     ]
    },
    {
     "name": "stderr",
     "output_type": "stream",
     "text": [
      "100%|██████████| 3151/3151 [05:46<00:00,  9.08it/s]\n"
     ]
    },
    {
     "name": "stdout",
     "output_type": "stream",
     "text": [
      "{'val_loss': 0.6811866811325408, 'val_accuracy': 0.7815072153928381, 'precision': 0.7967135142642273, 'recall': 0.7815072153928381, 'f1-score': 0.7827224016640697, 'macro_f1-score': 0.7873172132172104, 'balanced_accuracy': 0.8235720605799658, 'mcc': 0.7368174189041935, 'train_loss': 0.7170150960529278}\n",
      "Epoch 3/20\n"
     ]
    },
    {
     "name": "stderr",
     "output_type": "stream",
     "text": [
      "100%|██████████| 3151/3151 [05:47<00:00,  9.08it/s]\n"
     ]
    },
    {
     "name": "stdout",
     "output_type": "stream",
     "text": [
      "{'val_loss': 0.5406424717420442, 'val_accuracy': 0.832923570283271, 'precision': 0.8370144269749684, 'recall': 0.832923570283271, 'f1-score': 0.8326764186351509, 'macro_f1-score': 0.8280862447280062, 'balanced_accuracy': 0.8413869658636255, 'mcc': 0.7955691841848829, 'train_loss': 0.45748936697859605}\n",
      "Epoch 4/20\n"
     ]
    },
    {
     "name": "stderr",
     "output_type": "stream",
     "text": [
      "100%|██████████| 3151/3151 [05:46<00:00,  9.08it/s]\n"
     ]
    },
    {
     "name": "stdout",
     "output_type": "stream",
     "text": [
      "{'val_loss': 0.4963416728007997, 'val_accuracy': 0.8404061998931053, 'precision': 0.8434204484071952, 'recall': 0.8404061998931053, 'f1-score': 0.8406007409921683, 'macro_f1-score': 0.8352424368462056, 'balanced_accuracy': 0.8553931378361744, 'mcc': 0.8053015812417442, 'train_loss': 0.3800258527766122}\n",
      "Epoch 5/20\n"
     ]
    },
    {
     "name": "stderr",
     "output_type": "stream",
     "text": [
      "100%|██████████| 3151/3151 [05:47<00:00,  9.08it/s]\n"
     ]
    },
    {
     "name": "stdout",
     "output_type": "stream",
     "text": [
      "{'val_loss': 0.5037476726449452, 'val_accuracy': 0.856547300908605, 'precision': 0.858736080179164, 'recall': 0.856547300908605, 'f1-score': 0.8565104209410471, 'macro_f1-score': 0.8550127678637873, 'balanced_accuracy': 0.8569505570991593, 'mcc': 0.8239501340959265, 'train_loss': 0.3100594207319342}\n",
      "Epoch 6/20\n"
     ]
    },
    {
     "name": "stderr",
     "output_type": "stream",
     "text": [
      "100%|██████████| 3151/3151 [05:46<00:00,  9.09it/s]\n"
     ]
    },
    {
     "name": "stdout",
     "output_type": "stream",
     "text": [
      "{'val_loss': 0.5029088295136507, 'val_accuracy': 0.8498129342597541, 'precision': 0.8514383193373906, 'recall': 0.8498129342597541, 'f1-score': 0.8497827988498571, 'macro_f1-score': 0.8432869905136724, 'balanced_accuracy': 0.8558631394643166, 'mcc': 0.8162748882654679, 'train_loss': 0.26022177833297666}\n",
      "Epoch 7/20\n"
     ]
    },
    {
     "name": "stderr",
     "output_type": "stream",
     "text": [
      "100%|██████████| 3151/3151 [05:47<00:00,  9.08it/s]\n"
     ]
    },
    {
     "name": "stdout",
     "output_type": "stream",
     "text": [
      "{'val_loss': 0.5607761460587255, 'val_accuracy': 0.8472474612506681, 'precision': 0.8506934895850803, 'recall': 0.8472474612506681, 'f1-score': 0.8473783283152381, 'macro_f1-score': 0.8402043778080193, 'balanced_accuracy': 0.8519041281541004, 'mcc': 0.8125977469316563, 'train_loss': 0.22490699006902465}\n",
      "Epoch 8/20\n"
     ]
    },
    {
     "name": "stderr",
     "output_type": "stream",
     "text": [
      "100%|██████████| 3151/3151 [05:46<00:00,  9.08it/s]\n"
     ]
    },
    {
     "name": "stdout",
     "output_type": "stream",
     "text": [
      "{'val_loss': 0.5959867765888189, 'val_accuracy': 0.8437199358631747, 'precision': 0.8528003504052486, 'recall': 0.8437199358631747, 'f1-score': 0.845590617225152, 'macro_f1-score': 0.8380671715716765, 'balanced_accuracy': 0.8608598086079227, 'mcc': 0.8101520080870721, 'train_loss': 0.18793275841606072}\n",
      "Early stopping.\n",
      "\n",
      "[Fold 2]\n",
      "Label distribution after resampling:\n",
      "  label 0: 5626\n",
      "  label 1: 5000\n",
      "  label 2: 8442\n",
      "  label 3: 10770\n",
      "  label 4: 5000\n",
      "  label 5: 5578\n",
      "  label 6: 5000\n",
      "  label 7: 5000\n",
      "model is microsoft/deberta-base bilstm\n",
      "Epoch 1/20\n"
     ]
    },
    {
     "name": "stderr",
     "output_type": "stream",
     "text": [
      "100%|██████████| 3151/3151 [05:47<00:00,  9.07it/s]\n"
     ]
    },
    {
     "name": "stdout",
     "output_type": "stream",
     "text": [
      "{'val_loss': 0.6191706037164754, 'val_accuracy': 0.7845002672367718, 'precision': 0.8177572643960518, 'recall': 0.7845002672367718, 'f1-score': 0.7900686683853183, 'macro_f1-score': 0.7815539213484047, 'balanced_accuracy': 0.8393057147856661, 'mcc': 0.7453454134925274, 'train_loss': 0.835125821397555}\n",
      "Epoch 2/20\n"
     ]
    },
    {
     "name": "stderr",
     "output_type": "stream",
     "text": [
      "100%|██████████| 3151/3151 [05:47<00:00,  9.08it/s]\n"
     ]
    },
    {
     "name": "stdout",
     "output_type": "stream",
     "text": [
      "{'val_loss': 0.5218931705460079, 'val_accuracy': 0.831533939070016, 'precision': 0.8375717521126923, 'recall': 0.831533939070016, 'f1-score': 0.8321530023820123, 'macro_f1-score': 0.8336259194109525, 'balanced_accuracy': 0.8443733084825763, 'mcc': 0.7934493403582341, 'train_loss': 0.42606854285206613}\n",
      "Epoch 3/20\n"
     ]
    },
    {
     "name": "stderr",
     "output_type": "stream",
     "text": [
      "100%|██████████| 3151/3151 [05:47<00:00,  9.08it/s]\n"
     ]
    },
    {
     "name": "stdout",
     "output_type": "stream",
     "text": [
      "{'val_loss': 0.5202532841927475, 'val_accuracy': 0.8359166221272047, 'precision': 0.8400374038612112, 'recall': 0.8359166221272047, 'f1-score': 0.8364530182344311, 'macro_f1-score': 0.8356608392106597, 'balanced_accuracy': 0.8420058324027015, 'mcc': 0.7982511143266078, 'train_loss': 0.7611728658540851}\n",
      "Epoch 4/20\n"
     ]
    },
    {
     "name": "stderr",
     "output_type": "stream",
     "text": [
      "100%|██████████| 3151/3151 [05:46<00:00,  9.08it/s]\n"
     ]
    },
    {
     "name": "stdout",
     "output_type": "stream",
     "text": [
      "{'val_loss': 0.5254147233600672, 'val_accuracy': 0.8388027792624265, 'precision': 0.8448031394692491, 'recall': 0.8388027792624265, 'f1-score': 0.8399347379622762, 'macro_f1-score': 0.8355388886866602, 'balanced_accuracy': 0.8570527337484137, 'mcc': 0.8030194012927757, 'train_loss': 0.2748813892568966}\n",
      "Epoch 5/20\n"
     ]
    },
    {
     "name": "stderr",
     "output_type": "stream",
     "text": [
      "100%|██████████| 3151/3151 [05:47<00:00,  9.08it/s]\n"
     ]
    },
    {
     "name": "stdout",
     "output_type": "stream",
     "text": [
      "{'val_loss': 1.5764874000325162, 'val_accuracy': 0.5002672367717798, 'precision': 0.4823166191625665, 'recall': 0.5002672367717798, 'f1-score': 0.4451581788549806, 'macro_f1-score': 0.41332926590388586, 'balanced_accuracy': 0.5076886263362146, 'mcc': 0.40213091769855525, 'train_loss': 0.49858562285107155}\n",
      "Epoch 6/20\n"
     ]
    },
    {
     "name": "stderr",
     "output_type": "stream",
     "text": [
      "100%|██████████| 3151/3151 [05:55<00:00,  8.86it/s]\n"
     ]
    },
    {
     "name": "stdout",
     "output_type": "stream",
     "text": [
      "{'val_loss': 1.2605201240278716, 'val_accuracy': 0.4778193479422769, 'precision': 0.3849998154193377, 'recall': 0.4778193479422769, 'f1-score': 0.4138148512516094, 'macro_f1-score': 0.4834869024049787, 'balanced_accuracy': 0.5197737355125474, 'mcc': 0.35865055307675975, 'train_loss': 1.1966920691477008}\n",
      "Early stopping.\n",
      "\n",
      "[Fold 3]\n",
      "Label distribution after resampling:\n",
      "  label 0: 5626\n",
      "  label 1: 5000\n",
      "  label 2: 8442\n",
      "  label 3: 10770\n",
      "  label 4: 5000\n",
      "  label 5: 5578\n",
      "  label 6: 5000\n",
      "  label 7: 5000\n",
      "model is microsoft/deberta-base bilstm\n",
      "Epoch 1/20\n"
     ]
    },
    {
     "name": "stderr",
     "output_type": "stream",
     "text": [
      "100%|██████████| 3151/3151 [06:20<00:00,  8.27it/s]\n"
     ]
    },
    {
     "name": "stdout",
     "output_type": "stream",
     "text": [
      "{'val_loss': 0.5486815530010778, 'val_accuracy': 0.8258499037844772, 'precision': 0.8337881221499807, 'recall': 0.8258499037844772, 'f1-score': 0.8261557298773079, 'macro_f1-score': 0.8261672173188022, 'balanced_accuracy': 0.8413477195210349, 'mcc': 0.7865429468151746, 'train_loss': 0.9436901648535081}\n",
      "Epoch 2/20\n"
     ]
    },
    {
     "name": "stderr",
     "output_type": "stream",
     "text": [
      "100%|██████████| 3151/3151 [06:16<00:00,  8.38it/s]\n"
     ]
    },
    {
     "name": "stdout",
     "output_type": "stream",
     "text": [
      "{'val_loss': 0.5674703798806056, 'val_accuracy': 0.8258499037844772, 'precision': 0.8317736740500853, 'recall': 0.8258499037844772, 'f1-score': 0.8267528727228606, 'macro_f1-score': 0.8187871092116097, 'balanced_accuracy': 0.8485399700260505, 'mcc': 0.7878125258491023, 'train_loss': 0.4596402582817988}\n",
      "Epoch 3/20\n"
     ]
    },
    {
     "name": "stderr",
     "output_type": "stream",
     "text": [
      "100%|██████████| 3151/3151 [06:23<00:00,  8.23it/s]\n"
     ]
    },
    {
     "name": "stdout",
     "output_type": "stream",
     "text": [
      "{'val_loss': 0.4747577360807321, 'val_accuracy': 0.8598460551635664, 'precision': 0.8609712153111077, 'recall': 0.8598460551635664, 'f1-score': 0.8600868772582757, 'macro_f1-score': 0.8563143867600643, 'balanced_accuracy': 0.8641434847926112, 'mcc': 0.8277800106957619, 'train_loss': 0.32032291873519864}\n",
      "Epoch 4/20\n"
     ]
    },
    {
     "name": "stderr",
     "output_type": "stream",
     "text": [
      "100%|██████████| 3151/3151 [06:18<00:00,  8.33it/s]\n"
     ]
    },
    {
     "name": "stdout",
     "output_type": "stream",
     "text": [
      "{'val_loss': 0.5528731518162366, 'val_accuracy': 0.8303399615137909, 'precision': 0.8376441626250268, 'recall': 0.8303399615137909, 'f1-score': 0.8292397080482216, 'macro_f1-score': 0.8337496417678245, 'balanced_accuracy': 0.8372944669238994, 'mcc': 0.7928008467470246, 'train_loss': 0.25826246030002087}\n",
      "Epoch 5/20\n"
     ]
    },
    {
     "name": "stderr",
     "output_type": "stream",
     "text": [
      "100%|██████████| 3151/3151 [06:17<00:00,  8.35it/s]\n"
     ]
    },
    {
     "name": "stdout",
     "output_type": "stream",
     "text": [
      "{'val_loss': 0.5091335672089178, 'val_accuracy': 0.8571734017532606, 'precision': 0.8588282500103073, 'recall': 0.8571734017532606, 'f1-score': 0.8573506647112692, 'macro_f1-score': 0.8554753729496389, 'balanced_accuracy': 0.8588729873172628, 'mcc': 0.8241774413640801, 'train_loss': 0.20115717005969436}\n",
      "Epoch 6/20\n"
     ]
    },
    {
     "name": "stderr",
     "output_type": "stream",
     "text": [
      "100%|██████████| 3151/3151 [06:15<00:00,  8.38it/s]\n"
     ]
    },
    {
     "name": "stdout",
     "output_type": "stream",
     "text": [
      "{'val_loss': 0.602422243463369, 'val_accuracy': 0.8394269831088305, 'precision': 0.8429082942179236, 'recall': 0.8394269831088305, 'f1-score': 0.8397159040745772, 'macro_f1-score': 0.8398149680345159, 'balanced_accuracy': 0.8528157482010215, 'mcc': 0.8036732896355833, 'train_loss': 0.20130765060112424}\n",
      "Early stopping.\n",
      "\n",
      "[Fold 4]\n",
      "Label distribution after resampling:\n",
      "  label 0: 5625\n",
      "  label 1: 5000\n",
      "  label 2: 8441\n",
      "  label 3: 10771\n",
      "  label 4: 5000\n",
      "  label 5: 5579\n",
      "  label 6: 5000\n",
      "  label 7: 5000\n",
      "model is microsoft/deberta-base bilstm\n",
      "Epoch 1/20\n"
     ]
    },
    {
     "name": "stderr",
     "output_type": "stream",
     "text": [
      "100%|██████████| 3151/3151 [06:16<00:00,  8.37it/s]\n"
     ]
    },
    {
     "name": "stdout",
     "output_type": "stream",
     "text": [
      "{'val_loss': 0.7085843827097844, 'val_accuracy': 0.7913192217233269, 'precision': 0.8077823187595128, 'recall': 0.7913192217233269, 'f1-score': 0.7921585852971323, 'macro_f1-score': 0.7985211283702514, 'balanced_accuracy': 0.8214287737629599, 'mcc': 0.7499371897594151, 'train_loss': 0.9238596599784324}\n",
      "Epoch 2/20\n"
     ]
    },
    {
     "name": "stderr",
     "output_type": "stream",
     "text": [
      "100%|██████████| 3151/3151 [06:17<00:00,  8.34it/s]\n"
     ]
    },
    {
     "name": "stdout",
     "output_type": "stream",
     "text": [
      "{'val_loss': 0.8870270990917826, 'val_accuracy': 0.7101774641864443, 'precision': 0.7718422483701498, 'recall': 0.7101774641864443, 'f1-score': 0.7211565288419071, 'macro_f1-score': 0.7226977306836634, 'balanced_accuracy': 0.75649414411196, 'mcc': 0.6522755173043386, 'train_loss': 0.5766879370520603}\n",
      "Epoch 3/20\n"
     ]
    },
    {
     "name": "stderr",
     "output_type": "stream",
     "text": [
      "100%|██████████| 3151/3151 [06:16<00:00,  8.36it/s]\n"
     ]
    },
    {
     "name": "stdout",
     "output_type": "stream",
     "text": [
      "{'val_loss': 0.5799041608428089, 'val_accuracy': 0.828522557194783, 'precision': 0.8368143738259607, 'recall': 0.828522557194783, 'f1-score': 0.8285633951966338, 'macro_f1-score': 0.831475237874744, 'balanced_accuracy': 0.8353523392769844, 'mcc': 0.7902892435244202, 'train_loss': 0.560939729865138}\n",
      "Epoch 4/20\n"
     ]
    },
    {
     "name": "stderr",
     "output_type": "stream",
     "text": [
      "100%|██████████| 3151/3151 [06:16<00:00,  8.38it/s]\n"
     ]
    },
    {
     "name": "stdout",
     "output_type": "stream",
     "text": [
      "{'val_loss': 0.5005405303409212, 'val_accuracy': 0.8367543296985247, 'precision': 0.8394673381079202, 'recall': 0.8367543296985247, 'f1-score': 0.8367384287829551, 'macro_f1-score': 0.8395550787816795, 'balanced_accuracy': 0.8598129243921733, 'mcc': 0.8009352035853373, 'train_loss': 0.4373859333489782}\n",
      "Epoch 5/20\n"
     ]
    },
    {
     "name": "stderr",
     "output_type": "stream",
     "text": [
      "100%|██████████| 3151/3151 [06:17<00:00,  8.34it/s]\n"
     ]
    },
    {
     "name": "stdout",
     "output_type": "stream",
     "text": [
      "{'val_loss': 0.5551254371802012, 'val_accuracy': 0.8320504596963866, 'precision': 0.8364154268166734, 'recall': 0.8320504596963866, 'f1-score': 0.8321939183492092, 'macro_f1-score': 0.835700561073619, 'balanced_accuracy': 0.8543622294369608, 'mcc': 0.7954755688609322, 'train_loss': 0.4208318852520687}\n",
      "Epoch 6/20\n"
     ]
    },
    {
     "name": "stderr",
     "output_type": "stream",
     "text": [
      "100%|██████████| 3151/3151 [06:18<00:00,  8.33it/s]\n"
     ]
    },
    {
     "name": "stdout",
     "output_type": "stream",
     "text": [
      "{'val_loss': 0.5151916367471473, 'val_accuracy': 0.8400684199273039, 'precision': 0.8440273382368068, 'recall': 0.8400684199273039, 'f1-score': 0.8405642147347046, 'macro_f1-score': 0.8416845291095323, 'balanced_accuracy': 0.8505151942531342, 'mcc': 0.8036139865275739, 'train_loss': 0.36591807558602923}\n",
      "Epoch 7/20\n"
     ]
    },
    {
     "name": "stderr",
     "output_type": "stream",
     "text": [
      "100%|██████████| 3151/3151 [06:20<00:00,  8.28it/s]\n"
     ]
    },
    {
     "name": "stdout",
     "output_type": "stream",
     "text": [
      "{'val_loss': 0.5896809861191318, 'val_accuracy': 0.8203976908274535, 'precision': 0.8282041222103834, 'recall': 0.8203976908274535, 'f1-score': 0.8214719339284307, 'macro_f1-score': 0.8070952877578517, 'balanced_accuracy': 0.8405507680137116, 'mcc': 0.7818652388405807, 'train_loss': 0.36332373422907766}\n",
      "Epoch 8/20\n"
     ]
    },
    {
     "name": "stderr",
     "output_type": "stream",
     "text": [
      "100%|██████████| 3151/3151 [06:22<00:00,  8.24it/s]\n"
     ]
    },
    {
     "name": "stdout",
     "output_type": "stream",
     "text": [
      "{'val_loss': 0.5440359573524732, 'val_accuracy': 0.8397477015180671, 'precision': 0.8435547144421048, 'recall': 0.8397477015180671, 'f1-score': 0.8398116076068146, 'macro_f1-score': 0.8410588380257569, 'balanced_accuracy': 0.8451584202764646, 'mcc': 0.804322176751994, 'train_loss': 0.32527704494590043}\n",
      "Epoch 9/20\n"
     ]
    },
    {
     "name": "stderr",
     "output_type": "stream",
     "text": [
      "100%|██████████| 3151/3151 [06:17<00:00,  8.35it/s]\n"
     ]
    },
    {
     "name": "stdout",
     "output_type": "stream",
     "text": [
      "{'val_loss': 0.5520583952816888, 'val_accuracy': 0.8414581997006628, 'precision': 0.8423277619123397, 'recall': 0.8414581997006628, 'f1-score': 0.8414570587937636, 'macro_f1-score': 0.8412056058408922, 'balanced_accuracy': 0.8499386861972875, 'mcc': 0.8056666946058911, 'train_loss': 0.26904209251555466}\n",
      "Early stopping.\n",
      "\n",
      "[Fold 5]\n",
      "Label distribution after resampling:\n",
      "  label 0: 5625\n",
      "  label 1: 5000\n",
      "  label 2: 8441\n",
      "  label 3: 10771\n",
      "  label 4: 5000\n",
      "  label 5: 5579\n",
      "  label 6: 5000\n",
      "  label 7: 5000\n",
      "model is microsoft/deberta-base bilstm\n",
      "Epoch 1/20\n"
     ]
    },
    {
     "name": "stderr",
     "output_type": "stream",
     "text": [
      "100%|██████████| 3151/3151 [06:19<00:00,  8.30it/s]\n"
     ]
    },
    {
     "name": "stdout",
     "output_type": "stream",
     "text": [
      "{'val_loss': 1.989607968289628, 'val_accuracy': 0.2891810989950823, 'precision': 0.3343208391067573, 'recall': 0.2891810989950823, 'f1-score': 0.13202598310807584, 'macro_f1-score': 0.0640087643466273, 'balanced_accuracy': 0.12908533800821545, 'mcc': 0.03067913885216527, 'train_loss': 1.300820762611351}\n",
      "Epoch 2/20\n"
     ]
    },
    {
     "name": "stderr",
     "output_type": "stream",
     "text": [
      "100%|██████████| 3151/3151 [06:19<00:00,  8.31it/s]\n"
     ]
    },
    {
     "name": "stdout",
     "output_type": "stream",
     "text": [
      "{'val_loss': 1.0803380647276202, 'val_accuracy': 0.6428265982467394, 'precision': 0.6520942327546684, 'recall': 0.6428265982467394, 'f1-score': 0.6336831754057596, 'macro_f1-score': 0.62519704458191, 'balanced_accuracy': 0.6703283380346896, 'mcc': 0.5651949604283052, 'train_loss': 1.0858088319962156}\n",
      "Epoch 3/20\n"
     ]
    },
    {
     "name": "stderr",
     "output_type": "stream",
     "text": [
      "100%|██████████| 3151/3151 [06:18<00:00,  8.32it/s]\n"
     ]
    },
    {
     "name": "stdout",
     "output_type": "stream",
     "text": [
      "{'val_loss': 1.6152011516766671, 'val_accuracy': 0.38047893949112677, 'precision': 0.3095046516215739, 'recall': 0.38047893949112677, 'f1-score': 0.32281490877413427, 'macro_f1-score': 0.26276725096528875, 'balanced_accuracy': 0.32688472879936725, 'mcc': 0.2233396868297036, 'train_loss': 1.4936963053345114}\n",
      "Epoch 4/20\n"
     ]
    },
    {
     "name": "stderr",
     "output_type": "stream",
     "text": [
      "100%|██████████| 3151/3151 [06:18<00:00,  8.32it/s]\n"
     ]
    },
    {
     "name": "stdout",
     "output_type": "stream",
     "text": [
      "{'val_loss': 1.3902837104267545, 'val_accuracy': 0.4545648920248022, 'precision': 0.40809367754254927, 'recall': 0.4545648920248022, 'f1-score': 0.38784458319462717, 'macro_f1-score': 0.36206814291809764, 'balanced_accuracy': 0.39922574542213257, 'mcc': 0.3272949638585487, 'train_loss': 1.424346557631261}\n",
      "Epoch 5/20\n"
     ]
    },
    {
     "name": "stderr",
     "output_type": "stream",
     "text": [
      "100%|██████████| 3151/3151 [06:17<00:00,  8.36it/s]\n"
     ]
    },
    {
     "name": "stdout",
     "output_type": "stream",
     "text": [
      "{'val_loss': 1.7505143210419223, 'val_accuracy': 0.2570023519350011, 'precision': 0.29358803673718664, 'recall': 0.2570023519350011, 'f1-score': 0.1990804756747344, 'macro_f1-score': 0.28130360350455197, 'balanced_accuracy': 0.31799713387573886, 'mcc': 0.16574186964814305, 'train_loss': 1.2141598914112979}\n",
      "Early stopping.\n",
      "\n",
      " === microsoft/deberta-base + bilstm + ros Final 5-fold Cross-Validation Results ===\n",
      "val_loss: 0.6189\n",
      "val_accuracy: 0.8070\n",
      "precision: 0.8112\n",
      "recall: 0.8070\n",
      "f1-score: 0.8055\n",
      "macro_f1-score: 0.8028\n",
      "balanced_accuracy: 0.8168\n",
      "mcc: 0.7638\n",
      "train_loss: 0.5687\n",
      "total_seconds: 13417.0000\n",
      "total_time: 3 hrs 43 mins 37 secs\n"
     ]
    }
   ],
   "source": [
    "model_list = [\"bert-base-uncased\", \"roberta-base\", \"microsoft/deberta-base\"]\n",
    "hybrid_list = [None, \"cnn\", \"lstm\", \"bilstm\"]\n",
    "resample_list = [\"ros\"]\n",
    "\n",
    "all_experiment_result = {}\n",
    "\n",
    "for model_name in model_list:\n",
    "    for hybrid_type in hybrid_list:\n",
    "        for resample_method in resample_list:\n",
    "            results = run_kfold_experiment(\n",
    "                X=messages, y=labels, model_name=model_name, hybrid_type=hybrid_type, resample_method=resample_method,\n",
    "                kfold=KFOLD_SPLIT, seed=SEED, epochs=EPOCHS, patience=PATIENCE, max_length=MAX_LENGTH, \n",
    "                batch_size=BATCH_SIZE, lr=LR, weight_decay=WEIGHT_DECAY, upper_cap=UPPER_CAP, lower_cap=LOWER_CAP\n",
    "            )\n",
    "\n",
    "            key = f\"{model_name} {hybrid_type if hybrid_type else 'None'} {resample_method}\"\n",
    "            all_experiment_result[key] = results"
   ]
  },
  {
   "cell_type": "code",
   "execution_count": 5,
   "id": "d799ebb4-be3b-4b29-9238-6c2a2f8256ae",
   "metadata": {},
   "outputs": [
    {
     "data": {
      "text/plain": [
       "{'bert-base-uncased None ros': {'val_loss': 0.5551648936170933,\n",
       "  'val_accuracy': 0.8649191518772227,\n",
       "  'precision': 0.8653622709767077,\n",
       "  'recall': 0.8649191518772227,\n",
       "  'f1-score': 0.8648048153065846,\n",
       "  'macro_f1-score': 0.8646334512220555,\n",
       "  'balanced_accuracy': 0.8610429297277109,\n",
       "  'mcc': 0.8337076504180253,\n",
       "  'train_loss': 0.08692946959575584,\n",
       "  'total_seconds': 12558,\n",
       "  'total_time': '3 hrs 29 mins 18 secs'},\n",
       " 'bert-base-uncased cnn ros': {'val_loss': 0.5180885495815593,\n",
       "  'val_accuracy': 0.8630591976588755,\n",
       "  'precision': 0.8651569268336624,\n",
       "  'recall': 0.8630591976588755,\n",
       "  'f1-score': 0.863148795252617,\n",
       "  'macro_f1-score': 0.8633236785294983,\n",
       "  'balanced_accuracy': 0.8580087319135739,\n",
       "  'mcc': 0.8317348481418897,\n",
       "  'train_loss': 0.14459085448384257,\n",
       "  'total_seconds': 10517,\n",
       "  'total_time': '2 hrs 55 mins 17 secs'},\n",
       " 'bert-base-uncased lstm ros': {'val_loss': 0.5004133930931696,\n",
       "  'val_accuracy': 0.862930839443439,\n",
       "  'precision': 0.8644371624690923,\n",
       "  'recall': 0.862930839443439,\n",
       "  'f1-score': 0.8630550981909879,\n",
       "  'macro_f1-score': 0.8609872317310877,\n",
       "  'balanced_accuracy': 0.856014347690443,\n",
       "  'mcc': 0.8312874290912656,\n",
       "  'train_loss': 0.16105756005936184,\n",
       "  'total_seconds': 10766,\n",
       "  'total_time': '2 hrs 59 mins 26 secs'},\n",
       " 'bert-base-uncased bilstm ros': {'val_loss': 0.5889686608288643,\n",
       "  'val_accuracy': 0.8618190773343335,\n",
       "  'precision': 0.8630520664839472,\n",
       "  'recall': 0.8618190773343335,\n",
       "  'f1-score': 0.8617369095329537,\n",
       "  'macro_f1-score': 0.8614322989861243,\n",
       "  'balanced_accuracy': 0.8557085525950943,\n",
       "  'mcc': 0.8297696464630588,\n",
       "  'train_loss': 0.08067136929604217,\n",
       "  'total_seconds': 14895,\n",
       "  'total_time': '4 hrs 8 mins 15 secs'},\n",
       " 'roberta-base None ros': {'val_loss': 0.49303287728092615,\n",
       "  'val_accuracy': 0.861177706796522,\n",
       "  'precision': 0.8631341733161207,\n",
       "  'recall': 0.861177706796522,\n",
       "  'f1-score': 0.8611587308629505,\n",
       "  'macro_f1-score': 0.8601062014535964,\n",
       "  'balanced_accuracy': 0.8657612703157536,\n",
       "  'mcc': 0.8296223028794202,\n",
       "  'train_loss': 0.18423207023815596,\n",
       "  'total_seconds': 11319,\n",
       "  'total_time': '3 hrs 8 mins 39 secs'},\n",
       " 'roberta-base cnn ros': {'val_loss': 0.8053445222214437,\n",
       "  'val_accuracy': 0.7476434813483361,\n",
       "  'precision': 0.7078433925096669,\n",
       "  'recall': 0.7476434813483361,\n",
       "  'f1-score': 0.7158552644922371,\n",
       "  'macro_f1-score': 0.6998373952459483,\n",
       "  'balanced_accuracy': 0.7145614475795938,\n",
       "  'mcc': 0.6649615064912215,\n",
       "  'train_loss': 0.5323148874735595,\n",
       "  'total_seconds': 13089,\n",
       "  'total_time': '3 hrs 38 mins 9 secs'},\n",
       " 'roberta-base lstm ros': {'val_loss': 0.5337288998140214,\n",
       "  'val_accuracy': 0.8618404859880968,\n",
       "  'precision': 0.8629381646300913,\n",
       "  'recall': 0.8618404859880968,\n",
       "  'f1-score': 0.8619839205126668,\n",
       "  'macro_f1-score': 0.8614942777788894,\n",
       "  'balanced_accuracy': 0.8612177088893633,\n",
       "  'mcc': 0.8300477264906364,\n",
       "  'train_loss': 0.18109184077877188,\n",
       "  'total_seconds': 15767,\n",
       "  'total_time': '4 hrs 22 mins 47 secs'},\n",
       " 'roberta-base bilstm ros': {'val_loss': 0.5517362298876939,\n",
       "  'val_accuracy': 0.8612418024820279,\n",
       "  'precision': 0.8624881339809555,\n",
       "  'recall': 0.8612418024820279,\n",
       "  'f1-score': 0.8613100863236426,\n",
       "  'macro_f1-score': 0.8603346630409545,\n",
       "  'balanced_accuracy': 0.8616685828871852,\n",
       "  'mcc': 0.8294628086492912,\n",
       "  'train_loss': 0.14044694532575625,\n",
       "  'total_seconds': 18122,\n",
       "  'total_time': '5 hrs 2 mins 2 secs'},\n",
       " 'microsoft/deberta-base None ros': {'val_loss': 1.0916583015431418,\n",
       "  'val_accuracy': 0.6316929852318685,\n",
       "  'precision': 0.5503652533336149,\n",
       "  'recall': 0.6316929852318685,\n",
       "  'f1-score': 0.5680240489485314,\n",
       "  'macro_f1-score': 0.5391766186635619,\n",
       "  'balanced_accuracy': 0.5633480007550645,\n",
       "  'mcc': 0.4971029466990526,\n",
       "  'train_loss': 0.8799108203213738,\n",
       "  'total_seconds': 9962,\n",
       "  'total_time': '2 hrs 46 mins 2 secs'},\n",
       " 'microsoft/deberta-base cnn ros': {'val_loss': 1.1016874903558682,\n",
       "  'val_accuracy': 0.6268852740025418,\n",
       "  'precision': 0.5459846311242321,\n",
       "  'recall': 0.6268852740025418,\n",
       "  'f1-score': 0.5631071195133692,\n",
       "  'macro_f1-score': 0.5354412161660392,\n",
       "  'balanced_accuracy': 0.56684830953439,\n",
       "  'mcc': 0.49176800199843607,\n",
       "  'train_loss': 0.9668391662191315,\n",
       "  'total_seconds': 9656,\n",
       "  'total_time': '2 hrs 40 mins 56 secs'},\n",
       " 'microsoft/deberta-base lstm ros': {'val_loss': 0.53226040822414,\n",
       "  'val_accuracy': 0.8433250173958168,\n",
       "  'precision': 0.846280232623893,\n",
       "  'recall': 0.8433250173958168,\n",
       "  'f1-score': 0.8434584820873134,\n",
       "  'macro_f1-score': 0.8410237899112427,\n",
       "  'balanced_accuracy': 0.8539836333749735,\n",
       "  'mcc': 0.808171719358324,\n",
       "  'train_loss': 0.3334423957283806,\n",
       "  'total_seconds': 13088,\n",
       "  'total_time': '3 hrs 38 mins 8 secs'},\n",
       " 'microsoft/deberta-base bilstm ros': {'val_loss': 0.6188576788786385,\n",
       "  'val_accuracy': 0.8070409992746839,\n",
       "  'precision': 0.8111732540685915,\n",
       "  'recall': 0.8070409992746839,\n",
       "  'f1-score': 0.8054595413148435,\n",
       "  'macro_f1-score': 0.8027739135051906,\n",
       "  'balanced_accuracy': 0.8167886813164593,\n",
       "  'mcc': 0.763758041214835,\n",
       "  'train_loss': 0.5686564225806926,\n",
       "  'total_seconds': 13417,\n",
       "  'total_time': '3 hrs 43 mins 37 secs'}}"
      ]
     },
     "execution_count": 5,
     "metadata": {},
     "output_type": "execute_result"
    }
   ],
   "source": [
    "all_experiment_result"
   ]
  }
 ],
 "metadata": {
  "kernelspec": {
   "display_name": "Python 3",
   "language": "python",
   "name": "python3"
  },
  "language_info": {
   "codemirror_mode": {
    "name": "ipython",
    "version": 3
   },
   "file_extension": ".py",
   "mimetype": "text/x-python",
   "name": "python",
   "nbconvert_exporter": "python",
   "pygments_lexer": "ipython3",
   "version": "3.10.0"
  }
 },
 "nbformat": 4,
 "nbformat_minor": 5
}
