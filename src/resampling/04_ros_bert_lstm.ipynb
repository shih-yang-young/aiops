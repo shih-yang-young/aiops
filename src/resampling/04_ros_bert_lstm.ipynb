{
 "cells": [
  {
   "cell_type": "code",
   "execution_count": 1,
   "id": "c6902def-8805-4483-a546-4ab48a7b8953",
   "metadata": {},
   "outputs": [
    {
     "data": {
      "text/html": [
       "<div>\n",
       "<style scoped>\n",
       "    .dataframe tbody tr th:only-of-type {\n",
       "        vertical-align: middle;\n",
       "    }\n",
       "\n",
       "    .dataframe tbody tr th {\n",
       "        vertical-align: top;\n",
       "    }\n",
       "\n",
       "    .dataframe thead th {\n",
       "        text-align: right;\n",
       "    }\n",
       "</style>\n",
       "<table border=\"1\" class=\"dataframe\">\n",
       "  <thead>\n",
       "    <tr style=\"text-align: right;\">\n",
       "      <th></th>\n",
       "      <th>Inbound Message</th>\n",
       "      <th>Label</th>\n",
       "    </tr>\n",
       "  </thead>\n",
       "  <tbody>\n",
       "    <tr>\n",
       "      <th>0</th>\n",
       "      <td>login issue verified user details employee man...</td>\n",
       "      <td>0</td>\n",
       "    </tr>\n",
       "    <tr>\n",
       "      <th>1</th>\n",
       "      <td>outlook hello team meetings skype meetings etc...</td>\n",
       "      <td>0</td>\n",
       "    </tr>\n",
       "    <tr>\n",
       "      <th>2</th>\n",
       "      <td>cant log vpn cannot log vpn best</td>\n",
       "      <td>0</td>\n",
       "    </tr>\n",
       "    <tr>\n",
       "      <th>3</th>\n",
       "      <td>unable access tool page unable access tool page</td>\n",
       "      <td>0</td>\n",
       "    </tr>\n",
       "    <tr>\n",
       "      <th>4</th>\n",
       "      <td>skype error skype error</td>\n",
       "      <td>0</td>\n",
       "    </tr>\n",
       "    <tr>\n",
       "      <th>...</th>\n",
       "      <td>...</td>\n",
       "      <td>...</td>\n",
       "    </tr>\n",
       "    <tr>\n",
       "      <th>8449</th>\n",
       "      <td>emails coming mail good afternoon receiving em...</td>\n",
       "      <td>22</td>\n",
       "    </tr>\n",
       "    <tr>\n",
       "      <th>8450</th>\n",
       "      <td>telephony software issue telephony software issue</td>\n",
       "      <td>0</td>\n",
       "    </tr>\n",
       "    <tr>\n",
       "      <th>8451</th>\n",
       "      <td>vip windows password reset tifpdchb pedxruyf v...</td>\n",
       "      <td>0</td>\n",
       "    </tr>\n",
       "    <tr>\n",
       "      <th>8452</th>\n",
       "      <td>machine est funcionando unable access machine ...</td>\n",
       "      <td>44</td>\n",
       "    </tr>\n",
       "    <tr>\n",
       "      <th>8453</th>\n",
       "      <td>mehreren lassen sich verschiedene prgramdntyme...</td>\n",
       "      <td>49</td>\n",
       "    </tr>\n",
       "  </tbody>\n",
       "</table>\n",
       "<p>8454 rows × 2 columns</p>\n",
       "</div>"
      ],
      "text/plain": [
       "                                        Inbound Message  Label\n",
       "0     login issue verified user details employee man...      0\n",
       "1     outlook hello team meetings skype meetings etc...      0\n",
       "2                      cant log vpn cannot log vpn best      0\n",
       "3       unable access tool page unable access tool page      0\n",
       "4                               skype error skype error      0\n",
       "...                                                 ...    ...\n",
       "8449  emails coming mail good afternoon receiving em...     22\n",
       "8450  telephony software issue telephony software issue      0\n",
       "8451  vip windows password reset tifpdchb pedxruyf v...      0\n",
       "8452  machine est funcionando unable access machine ...     44\n",
       "8453  mehreren lassen sich verschiedene prgramdntyme...     49\n",
       "\n",
       "[8454 rows x 2 columns]"
      ]
     },
     "execution_count": 1,
     "metadata": {},
     "output_type": "execute_result"
    }
   ],
   "source": [
    "import pandas as pd\n",
    "data_path = \"../../data/open_source_8454_combine_short_description.csv\"\n",
    "df = pd.read_csv(data_path)\n",
    "# df_label_0 = df[df[\"Label\"] == 0]\n",
    "# df_label_0_to_drop = df_label_0.sample(n=3000, random_state=42)\n",
    "# df = df.drop(df_label_0_to_drop.index)\n",
    "df"
   ]
  },
  {
   "cell_type": "code",
   "execution_count": 2,
   "id": "8a523c41-9917-42ad-9920-021c2d567bf2",
   "metadata": {},
   "outputs": [],
   "source": [
    "import sys\n",
    "import os\n",
    "sys.path.append(os.path.abspath('../ml_lib'))\n",
    "\n",
    "from config import *\n",
    "from experiment import run_kfold_experiment"
   ]
  },
  {
   "cell_type": "code",
   "execution_count": 3,
   "id": "0042fdaa-0d1e-4925-a831-51d69b623c54",
   "metadata": {},
   "outputs": [],
   "source": [
    "messages, labels = df['Inbound Message'].tolist(), df['Label'].tolist()"
   ]
  },
  {
   "cell_type": "code",
   "execution_count": 4,
   "id": "f9a1f7b1-5c13-4312-959c-24cae1a028e8",
   "metadata": {},
   "outputs": [
    {
     "name": "stdout",
     "output_type": "stream",
     "text": [
      "▶ Running: bert-base-uncased + lstm + ros\n",
      "tokenizer is bert-base-uncased\n",
      "Using device: cuda\n",
      "CUDA Available: True\n",
      "CUDA Device: NVIDIA GeForce RTX 3050 6GB Laptop GPU\n",
      "Current GPU Memory Allocated: 0.00 GB\n",
      "Current GPU Memory Cached: 0.00 GB\n",
      "\n",
      "[Fold 1]\n",
      "Label distribution after resampling:\n",
      "  label 0: 2000\n",
      "  label 1: 200\n",
      "  label 2: 200\n",
      "  label 3: 200\n",
      "  label 4: 231\n",
      "  label 5: 200\n",
      "  label 6: 200\n",
      "  label 7: 200\n",
      "  label 8: 200\n",
      "  label 9: 200\n",
      "  label 10: 200\n",
      "  label 11: 200\n",
      "  label 12: 217\n",
      "  label 13: 200\n",
      "  label 14: 200\n",
      "  label 15: 200\n",
      "  label 16: 200\n",
      "  label 17: 260\n",
      "  label 18: 200\n",
      "  label 19: 200\n",
      "  label 20: 200\n",
      "  label 21: 200\n",
      "  label 22: 200\n",
      "  label 23: 200\n",
      "  label 24: 200\n",
      "  label 25: 200\n",
      "  label 26: 200\n",
      "  label 27: 200\n",
      "  label 28: 200\n",
      "  label 29: 200\n",
      "  label 30: 200\n",
      "  label 31: 200\n",
      "  label 32: 200\n",
      "  label 33: 200\n",
      "  label 34: 200\n",
      "  label 35: 200\n",
      "  label 36: 200\n",
      "  label 37: 200\n",
      "  label 38: 200\n",
      "  label 39: 200\n",
      "  label 40: 200\n",
      "  label 41: 200\n",
      "  label 42: 200\n",
      "  label 43: 200\n",
      "  label 44: 200\n",
      "  label 45: 200\n",
      "  label 46: 200\n",
      "  label 47: 595\n",
      "  label 48: 227\n",
      "  label 49: 200\n",
      "model is bert-base-uncased lstm\n"
     ]
    },
    {
     "name": "stderr",
     "output_type": "stream",
     "text": [
      "D:\\Anaconda3\\envs\\cuda\\Lib\\site-packages\\sklearn\\model_selection\\_split.py:737: UserWarning: The least populated class in y has only 7 members, which is less than n_splits=10.\n",
      "  warnings.warn(\n"
     ]
    },
    {
     "name": "stdout",
     "output_type": "stream",
     "text": [
      "Epoch 1/20\n"
     ]
    },
    {
     "name": "stderr",
     "output_type": "stream",
     "text": [
      "100%|██████████| 771/771 [06:01<00:00,  2.13it/s]\n",
      "D:\\Anaconda3\\envs\\cuda\\Lib\\site-packages\\sklearn\\metrics\\_classification.py:2458: UserWarning: y_pred contains classes not in y_true\n",
      "  warnings.warn(\"y_pred contains classes not in y_true\")\n"
     ]
    },
    {
     "name": "stdout",
     "output_type": "stream",
     "text": [
      "{'val_loss': 1.6072263526466657, 'val_accuracy': 0.574468085106383, 'precision': 0.5795779674727383, 'recall': 0.574468085106383, 'f1-score': 0.5588696464115654, 'macro_f1-score': 0.2977770468859874, 'balanced_accuracy': 0.3509393952535947, 'mcc': 0.4441304768873455, 'train_loss': 2.2380628617511804}\n",
      "Epoch 2/20\n"
     ]
    },
    {
     "name": "stderr",
     "output_type": "stream",
     "text": [
      "100%|██████████| 771/771 [06:09<00:00,  2.09it/s]\n"
     ]
    },
    {
     "name": "stdout",
     "output_type": "stream",
     "text": [
      "{'val_loss': 1.4296590652105943, 'val_accuracy': 0.6323877068557919, 'precision': 0.6820204217361562, 'recall': 0.6323877068557919, 'f1-score': 0.6350113880422327, 'macro_f1-score': 0.3971707061861279, 'balanced_accuracy': 0.4429429547290138, 'mcc': 0.5274271229226961, 'train_loss': 1.1008415450227245}\n",
      "Epoch 3/20\n"
     ]
    },
    {
     "name": "stderr",
     "output_type": "stream",
     "text": [
      "100%|██████████| 771/771 [06:10<00:00,  2.08it/s]\n"
     ]
    },
    {
     "name": "stdout",
     "output_type": "stream",
     "text": [
      "{'val_loss': 1.4535633528007652, 'val_accuracy': 0.6453900709219859, 'precision': 0.6957447124795973, 'recall': 0.6453900709219859, 'f1-score': 0.644479889905457, 'macro_f1-score': 0.400013978527573, 'balanced_accuracy': 0.4436493990376881, 'mcc': 0.5471976669114192, 'train_loss': 0.7516479154447173}\n",
      "Epoch 4/20\n"
     ]
    },
    {
     "name": "stderr",
     "output_type": "stream",
     "text": [
      "100%|██████████| 771/771 [06:23<00:00,  2.01it/s]\n"
     ]
    },
    {
     "name": "stdout",
     "output_type": "stream",
     "text": [
      "{'val_loss': 1.3642863597509995, 'val_accuracy': 0.6678486997635934, 'precision': 0.671633325478759, 'recall': 0.6678486997635934, 'f1-score': 0.6529369402730978, 'macro_f1-score': 0.393960780943356, 'balanced_accuracy': 0.41826019795605585, 'mcc': 0.5575428874524757, 'train_loss': 0.5541347795964524}\n",
      "Epoch 5/20\n"
     ]
    },
    {
     "name": "stderr",
     "output_type": "stream",
     "text": [
      "100%|██████████| 771/771 [06:20<00:00,  2.03it/s]\n"
     ]
    },
    {
     "name": "stdout",
     "output_type": "stream",
     "text": [
      "{'val_loss': 1.5387137903357453, 'val_accuracy': 0.6442080378250591, 'precision': 0.6830935321198618, 'recall': 0.6442080378250591, 'f1-score': 0.6505506685022485, 'macro_f1-score': 0.41242490613277927, 'balanced_accuracy': 0.4616558539328618, 'mcc': 0.5578907414620637, 'train_loss': 0.4539551984629897}\n",
      "Epoch 6/20\n"
     ]
    },
    {
     "name": "stderr",
     "output_type": "stream",
     "text": [
      "100%|██████████| 771/771 [06:20<00:00,  2.03it/s]\n"
     ]
    },
    {
     "name": "stdout",
     "output_type": "stream",
     "text": [
      "{'val_loss': 1.4762658791721992, 'val_accuracy': 0.6749408983451537, 'precision': 0.6720591963342575, 'recall': 0.6749408983451537, 'f1-score': 0.6646635365857828, 'macro_f1-score': 0.4210552178495544, 'balanced_accuracy': 0.43594744864473167, 'mcc': 0.5688086674653614, 'train_loss': 0.370745901861524}\n",
      "Epoch 7/20\n"
     ]
    },
    {
     "name": "stderr",
     "output_type": "stream",
     "text": [
      "100%|██████████| 771/771 [06:20<00:00,  2.03it/s]\n"
     ]
    },
    {
     "name": "stdout",
     "output_type": "stream",
     "text": [
      "{'val_loss': 1.5758454406036522, 'val_accuracy': 0.6548463356973995, 'precision': 0.6705781829812795, 'recall': 0.6548463356973995, 'f1-score': 0.6487646150316673, 'macro_f1-score': 0.4065023299134019, 'balanced_accuracy': 0.4280771262952224, 'mcc': 0.5497656393213431, 'train_loss': 0.36424461063891456}\n",
      "Epoch 8/20\n"
     ]
    },
    {
     "name": "stderr",
     "output_type": "stream",
     "text": [
      "100%|██████████| 771/771 [06:21<00:00,  2.02it/s]\n"
     ]
    },
    {
     "name": "stdout",
     "output_type": "stream",
     "text": [
      "{'val_loss': 1.5984842749136798, 'val_accuracy': 0.6666666666666666, 'precision': 0.6447834689182983, 'recall': 0.6666666666666666, 'f1-score': 0.646410009993237, 'macro_f1-score': 0.41002270753583553, 'balanced_accuracy': 0.41723998234400345, 'mcc': 0.5503007804027201, 'train_loss': 0.3119915319768526}\n",
      "Epoch 9/20\n"
     ]
    },
    {
     "name": "stderr",
     "output_type": "stream",
     "text": [
      "100%|██████████| 771/771 [06:15<00:00,  2.05it/s]\n"
     ]
    },
    {
     "name": "stdout",
     "output_type": "stream",
     "text": [
      "{'val_loss': 1.6389615490751446, 'val_accuracy': 0.6382978723404256, 'precision': 0.646854260426513, 'recall': 0.6382978723404256, 'f1-score': 0.6333934093671764, 'macro_f1-score': 0.39246498717879613, 'balanced_accuracy': 0.4031777714425294, 'mcc': 0.5279357151376869, 'train_loss': 0.29725559752062447}\n",
      "Early stopping.\n",
      "\n",
      "[Fold 2]\n",
      "Label distribution after resampling:\n",
      "  label 0: 2000\n",
      "  label 1: 200\n",
      "  label 2: 200\n",
      "  label 3: 200\n",
      "  label 4: 231\n",
      "  label 5: 200\n",
      "  label 6: 200\n",
      "  label 7: 200\n",
      "  label 8: 200\n",
      "  label 9: 200\n",
      "  label 10: 200\n",
      "  label 11: 200\n",
      "  label 12: 217\n",
      "  label 13: 200\n",
      "  label 14: 200\n",
      "  label 15: 200\n",
      "  label 16: 200\n",
      "  label 17: 260\n",
      "  label 18: 200\n",
      "  label 19: 200\n",
      "  label 20: 200\n",
      "  label 21: 200\n",
      "  label 22: 200\n",
      "  label 23: 200\n",
      "  label 24: 200\n",
      "  label 25: 200\n",
      "  label 26: 200\n",
      "  label 27: 200\n",
      "  label 28: 200\n",
      "  label 29: 200\n",
      "  label 30: 200\n",
      "  label 31: 200\n",
      "  label 32: 200\n",
      "  label 33: 200\n",
      "  label 34: 200\n",
      "  label 35: 200\n",
      "  label 36: 200\n",
      "  label 37: 200\n",
      "  label 38: 200\n",
      "  label 39: 200\n",
      "  label 40: 200\n",
      "  label 41: 200\n",
      "  label 42: 200\n",
      "  label 43: 200\n",
      "  label 44: 200\n",
      "  label 45: 200\n",
      "  label 46: 200\n",
      "  label 47: 595\n",
      "  label 48: 227\n",
      "  label 49: 200\n",
      "model is bert-base-uncased lstm\n",
      "Epoch 1/20\n"
     ]
    },
    {
     "name": "stderr",
     "output_type": "stream",
     "text": [
      "100%|██████████| 771/771 [06:16<00:00,  2.05it/s]\n"
     ]
    },
    {
     "name": "stdout",
     "output_type": "stream",
     "text": [
      "{'val_loss': 1.6704888861134368, 'val_accuracy': 0.5626477541371159, 'precision': 0.5449377593184153, 'recall': 0.5626477541371159, 'f1-score': 0.5323136938217665, 'macro_f1-score': 0.23552341879689426, 'balanced_accuracy': 0.32294813612425805, 'mcc': 0.41883256643893935, 'train_loss': 2.3332343995957676}\n",
      "Epoch 2/20\n"
     ]
    },
    {
     "name": "stderr",
     "output_type": "stream",
     "text": [
      "100%|██████████| 771/771 [06:22<00:00,  2.01it/s]\n"
     ]
    },
    {
     "name": "stdout",
     "output_type": "stream",
     "text": [
      "{'val_loss': 1.4362323801472503, 'val_accuracy': 0.607565011820331, 'precision': 0.6226433244579563, 'recall': 0.607565011820331, 'f1-score': 0.5965233566969165, 'macro_f1-score': 0.33980177105438647, 'balanced_accuracy': 0.38411286367611097, 'mcc': 0.48939585232741994, 'train_loss': 1.1781971001207596}\n",
      "Epoch 3/20\n"
     ]
    },
    {
     "name": "stderr",
     "output_type": "stream",
     "text": [
      "100%|██████████| 771/771 [06:21<00:00,  2.02it/s]\n"
     ]
    },
    {
     "name": "stdout",
     "output_type": "stream",
     "text": [
      "{'val_loss': 1.5346637053309746, 'val_accuracy': 0.5839243498817966, 'precision': 0.6705895135708526, 'recall': 0.5839243498817966, 'f1-score': 0.6043343599522383, 'macro_f1-score': 0.3573420262260545, 'balanced_accuracy': 0.40370217207848463, 'mcc': 0.4814840569096818, 'train_loss': 0.7711172627451819}\n",
      "Epoch 4/20\n"
     ]
    },
    {
     "name": "stderr",
     "output_type": "stream",
     "text": [
      "100%|██████████| 771/771 [06:20<00:00,  2.03it/s]\n"
     ]
    },
    {
     "name": "stdout",
     "output_type": "stream",
     "text": [
      "{'val_loss': 1.3021198527992897, 'val_accuracy': 0.6749408983451537, 'precision': 0.6809226242320418, 'recall': 0.6749408983451537, 'f1-score': 0.6589389632035747, 'macro_f1-score': 0.3745973091825946, 'balanced_accuracy': 0.3667249448389458, 'mcc': 0.5678316041027349, 'train_loss': 0.5927942077666715}\n",
      "Epoch 5/20\n"
     ]
    },
    {
     "name": "stderr",
     "output_type": "stream",
     "text": [
      "100%|██████████| 771/771 [06:21<00:00,  2.02it/s]\n"
     ]
    },
    {
     "name": "stdout",
     "output_type": "stream",
     "text": [
      "{'val_loss': 1.4356639284007955, 'val_accuracy': 0.6536643026004728, 'precision': 0.6887198325068893, 'recall': 0.6536643026004728, 'f1-score': 0.6497422803090152, 'macro_f1-score': 0.395117824475791, 'balanced_accuracy': 0.3910474575175493, 'mcc': 0.5482225740205349, 'train_loss': 0.5033307399132063}\n",
      "Epoch 6/20\n"
     ]
    },
    {
     "name": "stderr",
     "output_type": "stream",
     "text": [
      "100%|██████████| 771/771 [06:22<00:00,  2.02it/s]\n"
     ]
    },
    {
     "name": "stdout",
     "output_type": "stream",
     "text": [
      "{'val_loss': 1.4522709048019264, 'val_accuracy': 0.6382978723404256, 'precision': 0.6760268378582392, 'recall': 0.6382978723404256, 'f1-score': 0.6354639841869485, 'macro_f1-score': 0.36120627538435285, 'balanced_accuracy': 0.3648424103746231, 'mcc': 0.5339771961845736, 'train_loss': 0.4173738771733066}\n",
      "Epoch 7/20\n"
     ]
    },
    {
     "name": "stderr",
     "output_type": "stream",
     "text": [
      "100%|██████████| 771/771 [06:22<00:00,  2.02it/s]\n"
     ]
    },
    {
     "name": "stdout",
     "output_type": "stream",
     "text": [
      "{'val_loss': 1.5204266883292288, 'val_accuracy': 0.6122931442080378, 'precision': 0.6660928969258925, 'recall': 0.6122931442080378, 'f1-score': 0.6186030132797328, 'macro_f1-score': 0.3540158543396342, 'balanced_accuracy': 0.3693216181823529, 'mcc': 0.5096792088506489, 'train_loss': 0.36048207461505394}\n",
      "Epoch 8/20\n"
     ]
    },
    {
     "name": "stderr",
     "output_type": "stream",
     "text": [
      "100%|██████████| 771/771 [06:21<00:00,  2.02it/s]\n"
     ]
    },
    {
     "name": "stdout",
     "output_type": "stream",
     "text": [
      "{'val_loss': 1.5390480396882542, 'val_accuracy': 0.6477541371158393, 'precision': 0.6731252580547411, 'recall': 0.6477541371158393, 'f1-score': 0.6437291829448368, 'macro_f1-score': 0.38102435404019325, 'balanced_accuracy': 0.38414521436706495, 'mcc': 0.5404646035209069, 'train_loss': 0.33295258075052003}\n",
      "Early stopping.\n",
      "\n",
      "[Fold 3]\n",
      "Label distribution after resampling:\n",
      "  label 0: 2000\n",
      "  label 1: 200\n",
      "  label 2: 200\n",
      "  label 3: 200\n",
      "  label 4: 231\n",
      "  label 5: 200\n",
      "  label 6: 200\n",
      "  label 7: 200\n",
      "  label 8: 200\n",
      "  label 9: 200\n",
      "  label 10: 200\n",
      "  label 11: 200\n",
      "  label 12: 217\n",
      "  label 13: 200\n",
      "  label 14: 200\n",
      "  label 15: 200\n",
      "  label 16: 200\n",
      "  label 17: 260\n",
      "  label 18: 200\n",
      "  label 19: 200\n",
      "  label 20: 200\n",
      "  label 21: 200\n",
      "  label 22: 200\n",
      "  label 23: 200\n",
      "  label 24: 200\n",
      "  label 25: 200\n",
      "  label 26: 200\n",
      "  label 27: 200\n",
      "  label 28: 200\n",
      "  label 29: 200\n",
      "  label 30: 200\n",
      "  label 31: 200\n",
      "  label 32: 200\n",
      "  label 33: 200\n",
      "  label 34: 200\n",
      "  label 35: 200\n",
      "  label 36: 200\n",
      "  label 37: 200\n",
      "  label 38: 200\n",
      "  label 39: 200\n",
      "  label 40: 200\n",
      "  label 41: 200\n",
      "  label 42: 200\n",
      "  label 43: 200\n",
      "  label 44: 200\n",
      "  label 45: 200\n",
      "  label 46: 200\n",
      "  label 47: 595\n",
      "  label 48: 227\n",
      "  label 49: 200\n",
      "model is bert-base-uncased lstm\n",
      "Epoch 1/20\n"
     ]
    },
    {
     "name": "stderr",
     "output_type": "stream",
     "text": [
      "100%|██████████| 771/771 [06:19<00:00,  2.03it/s]\n"
     ]
    },
    {
     "name": "stdout",
     "output_type": "stream",
     "text": [
      "{'val_loss': 1.538290575990137, 'val_accuracy': 0.6205673758865248, 'precision': 0.5763834017837947, 'recall': 0.6205673758865248, 'f1-score': 0.5691223979279764, 'macro_f1-score': 0.2938736231218853, 'balanced_accuracy': 0.3304693904393609, 'mcc': 0.4736557573228594, 'train_loss': 2.331221890356754}\n",
      "Epoch 2/20\n"
     ]
    },
    {
     "name": "stderr",
     "output_type": "stream",
     "text": [
      "100%|██████████| 771/771 [06:20<00:00,  2.03it/s]\n"
     ]
    },
    {
     "name": "stdout",
     "output_type": "stream",
     "text": [
      "{'val_loss': 1.4663906131150588, 'val_accuracy': 0.6182033096926713, 'precision': 0.6038196913088292, 'recall': 0.6182033096926713, 'f1-score': 0.6017067223112408, 'macro_f1-score': 0.34785293951408414, 'balanced_accuracy': 0.3958984186167516, 'mcc': 0.4939557962885252, 'train_loss': 1.1634280353823214}\n",
      "Epoch 3/20\n"
     ]
    },
    {
     "name": "stderr",
     "output_type": "stream",
     "text": [
      "100%|██████████| 771/771 [06:20<00:00,  2.03it/s]\n"
     ]
    },
    {
     "name": "stdout",
     "output_type": "stream",
     "text": [
      "{'val_loss': 1.4275436075228565, 'val_accuracy': 0.6548463356973995, 'precision': 0.6456172043219388, 'recall': 0.6548463356973995, 'f1-score': 0.6334646111234031, 'macro_f1-score': 0.3912740796031296, 'balanced_accuracy': 0.4097615981988708, 'mcc': 0.5384402649333634, 'train_loss': 0.7643616523124983}\n",
      "Epoch 4/20\n"
     ]
    },
    {
     "name": "stderr",
     "output_type": "stream",
     "text": [
      "100%|██████████| 771/771 [06:21<00:00,  2.02it/s]\n"
     ]
    },
    {
     "name": "stdout",
     "output_type": "stream",
     "text": [
      "{'val_loss': 1.4568501710891724, 'val_accuracy': 0.6453900709219859, 'precision': 0.6549874483049448, 'recall': 0.6453900709219859, 'f1-score': 0.6321289002809334, 'macro_f1-score': 0.3868488369172197, 'balanced_accuracy': 0.425915608423614, 'mcc': 0.532992577963631, 'train_loss': 0.5731632504249825}\n",
      "Epoch 5/20\n"
     ]
    },
    {
     "name": "stderr",
     "output_type": "stream",
     "text": [
      "100%|██████████| 771/771 [06:21<00:00,  2.02it/s]\n"
     ]
    },
    {
     "name": "stdout",
     "output_type": "stream",
     "text": [
      "{'val_loss': 1.4969662051155883, 'val_accuracy': 0.6371158392434988, 'precision': 0.6628343417620347, 'recall': 0.6371158392434988, 'f1-score': 0.6412989100301291, 'macro_f1-score': 0.40004185070242143, 'balanced_accuracy': 0.4162956411770135, 'mcc': 0.5337031171888326, 'train_loss': 0.5152367429974478}\n",
      "Epoch 6/20\n"
     ]
    },
    {
     "name": "stderr",
     "output_type": "stream",
     "text": [
      "100%|██████████| 771/771 [06:20<00:00,  2.03it/s]\n"
     ]
    },
    {
     "name": "stdout",
     "output_type": "stream",
     "text": [
      "{'val_loss': 1.5508438894208871, 'val_accuracy': 0.6513002364066194, 'precision': 0.6586275221958243, 'recall': 0.6513002364066194, 'f1-score': 0.6451308664852642, 'macro_f1-score': 0.39045890122407917, 'balanced_accuracy': 0.413385977027651, 'mcc': 0.5449067991573803, 'train_loss': 0.40469971005641764}\n",
      "Epoch 7/20\n"
     ]
    },
    {
     "name": "stderr",
     "output_type": "stream",
     "text": [
      "100%|██████████| 771/771 [06:18<00:00,  2.04it/s]\n"
     ]
    },
    {
     "name": "stdout",
     "output_type": "stream",
     "text": [
      "{'val_loss': 1.5515221503545653, 'val_accuracy': 0.6572104018912529, 'precision': 0.6587716548829385, 'recall': 0.6572104018912529, 'f1-score': 0.6462628896426145, 'macro_f1-score': 0.40004972284765183, 'balanced_accuracy': 0.4168064830662127, 'mcc': 0.5478978157094948, 'train_loss': 0.37759306363703443}\n",
      "Epoch 8/20\n"
     ]
    },
    {
     "name": "stderr",
     "output_type": "stream",
     "text": [
      "100%|██████████| 771/771 [06:17<00:00,  2.04it/s]\n"
     ]
    },
    {
     "name": "stdout",
     "output_type": "stream",
     "text": [
      "{'val_loss': 1.5451291321583513, 'val_accuracy': 0.6631205673758865, 'precision': 0.6741889039900907, 'recall': 0.6631205673758865, 'f1-score': 0.6569642794685362, 'macro_f1-score': 0.4015707236732793, 'balanced_accuracy': 0.4190439817330478, 'mcc': 0.5606159467706987, 'train_loss': 0.3222546696145904}\n",
      "Epoch 9/20\n"
     ]
    },
    {
     "name": "stderr",
     "output_type": "stream",
     "text": [
      "100%|██████████| 771/771 [06:22<00:00,  2.01it/s]\n"
     ]
    },
    {
     "name": "stdout",
     "output_type": "stream",
     "text": [
      "{'val_loss': 1.6376183966420732, 'val_accuracy': 0.6536643026004728, 'precision': 0.6656731892594155, 'recall': 0.6536643026004728, 'f1-score': 0.6471381447368414, 'macro_f1-score': 0.3921373617609208, 'balanced_accuracy': 0.39799532439296775, 'mcc': 0.5424179401520685, 'train_loss': 0.30703904507766283}\n",
      "Epoch 10/20\n"
     ]
    },
    {
     "name": "stderr",
     "output_type": "stream",
     "text": [
      "100%|██████████| 771/771 [06:20<00:00,  2.03it/s]\n"
     ]
    },
    {
     "name": "stdout",
     "output_type": "stream",
     "text": [
      "{'val_loss': 1.689386378481703, 'val_accuracy': 0.6678486997635934, 'precision': 0.6518365118983945, 'recall': 0.6678486997635934, 'f1-score': 0.6495644624818798, 'macro_f1-score': 0.3876581605005935, 'balanced_accuracy': 0.3897910162403491, 'mcc': 0.5529503440026676, 'train_loss': 0.28134917187590236}\n",
      "Epoch 11/20\n"
     ]
    },
    {
     "name": "stderr",
     "output_type": "stream",
     "text": [
      "100%|██████████| 771/771 [06:20<00:00,  2.02it/s]\n"
     ]
    },
    {
     "name": "stdout",
     "output_type": "stream",
     "text": [
      "{'val_loss': 1.7654542225711751, 'val_accuracy': 0.6690307328605201, 'precision': 0.663209378695327, 'recall': 0.6690307328605201, 'f1-score': 0.6547885909600146, 'macro_f1-score': 0.4026663624515489, 'balanced_accuracy': 0.42669814489405544, 'mcc': 0.5601104837264672, 'train_loss': 0.2625065287635523}\n",
      "Epoch 12/20\n"
     ]
    },
    {
     "name": "stderr",
     "output_type": "stream",
     "text": [
      "100%|██████████| 771/771 [06:18<00:00,  2.04it/s]\n"
     ]
    },
    {
     "name": "stdout",
     "output_type": "stream",
     "text": [
      "{'val_loss': 1.799364446469073, 'val_accuracy': 0.6300236406619385, 'precision': 0.651958635085632, 'recall': 0.6300236406619385, 'f1-score': 0.6337792116911257, 'macro_f1-score': 0.3875267637836398, 'balanced_accuracy': 0.42429082581101296, 'mcc': 0.5261739389962419, 'train_loss': 0.2649669842359679}\n",
      "Epoch 13/20\n"
     ]
    },
    {
     "name": "stderr",
     "output_type": "stream",
     "text": [
      "100%|██████████| 771/771 [06:17<00:00,  2.04it/s]\n"
     ]
    },
    {
     "name": "stdout",
     "output_type": "stream",
     "text": [
      "{'val_loss': 1.9253539814139313, 'val_accuracy': 0.6229314420803782, 'precision': 0.6739594690593943, 'recall': 0.6229314420803782, 'f1-score': 0.6335454264962801, 'macro_f1-score': 0.36547651916286616, 'balanced_accuracy': 0.390019137803993, 'mcc': 0.5217976305875786, 'train_loss': 0.2778723974628845}\n",
      "Epoch 14/20\n"
     ]
    },
    {
     "name": "stderr",
     "output_type": "stream",
     "text": [
      "100%|██████████| 771/771 [06:20<00:00,  2.03it/s]\n"
     ]
    },
    {
     "name": "stdout",
     "output_type": "stream",
     "text": [
      "{'val_loss': 1.8314064313780587, 'val_accuracy': 0.6453900709219859, 'precision': 0.6652429930634289, 'recall': 0.6453900709219859, 'f1-score': 0.644442699677368, 'macro_f1-score': 0.3982171140331384, 'balanced_accuracy': 0.41474216545886966, 'mcc': 0.542277440179994, 'train_loss': 0.2540336959257277}\n",
      "Early stopping.\n",
      "\n",
      "[Fold 4]\n",
      "Label distribution after resampling:\n",
      "  label 0: 2000\n",
      "  label 1: 200\n",
      "  label 2: 200\n",
      "  label 3: 200\n",
      "  label 4: 231\n",
      "  label 5: 200\n",
      "  label 6: 200\n",
      "  label 7: 200\n",
      "  label 8: 200\n",
      "  label 9: 200\n",
      "  label 10: 200\n",
      "  label 11: 200\n",
      "  label 12: 217\n",
      "  label 13: 200\n",
      "  label 14: 200\n",
      "  label 15: 200\n",
      "  label 16: 200\n",
      "  label 17: 260\n",
      "  label 18: 200\n",
      "  label 19: 200\n",
      "  label 20: 200\n",
      "  label 21: 200\n",
      "  label 22: 200\n",
      "  label 23: 200\n",
      "  label 24: 200\n",
      "  label 25: 200\n",
      "  label 26: 200\n",
      "  label 27: 200\n",
      "  label 28: 200\n",
      "  label 29: 200\n",
      "  label 30: 200\n",
      "  label 31: 200\n",
      "  label 32: 200\n",
      "  label 33: 200\n",
      "  label 34: 200\n",
      "  label 35: 200\n",
      "  label 36: 200\n",
      "  label 37: 200\n",
      "  label 38: 200\n",
      "  label 39: 200\n",
      "  label 40: 200\n",
      "  label 41: 200\n",
      "  label 42: 200\n",
      "  label 43: 200\n",
      "  label 44: 200\n",
      "  label 45: 200\n",
      "  label 46: 200\n",
      "  label 47: 595\n",
      "  label 48: 227\n",
      "  label 49: 200\n",
      "model is bert-base-uncased lstm\n",
      "Epoch 1/20\n"
     ]
    },
    {
     "name": "stderr",
     "output_type": "stream",
     "text": [
      "100%|██████████| 771/771 [06:21<00:00,  2.02it/s]\n"
     ]
    },
    {
     "name": "stdout",
     "output_type": "stream",
     "text": [
      "{'val_loss': 1.5869684747929842, 'val_accuracy': 0.6087470449172577, 'precision': 0.5830488487457903, 'recall': 0.6087470449172577, 'f1-score': 0.5743910042033569, 'macro_f1-score': 0.2990902807074162, 'balanced_accuracy': 0.35976018946301397, 'mcc': 0.4777337318069601, 'train_loss': 2.281898332245155}\n",
      "Epoch 2/20\n"
     ]
    },
    {
     "name": "stderr",
     "output_type": "stream",
     "text": [
      "100%|██████████| 771/771 [06:20<00:00,  2.03it/s]\n"
     ]
    },
    {
     "name": "stdout",
     "output_type": "stream",
     "text": [
      "{'val_loss': 1.4803603673880954, 'val_accuracy': 0.624113475177305, 'precision': 0.6416259889489127, 'recall': 0.624113475177305, 'f1-score': 0.6098043554271967, 'macro_f1-score': 0.3865625159417048, 'balanced_accuracy': 0.4344052966806389, 'mcc': 0.5114617167371902, 'train_loss': 1.123217797928747}\n",
      "Epoch 3/20\n"
     ]
    },
    {
     "name": "stderr",
     "output_type": "stream",
     "text": [
      "100%|██████████| 771/771 [06:20<00:00,  2.02it/s]\n"
     ]
    },
    {
     "name": "stdout",
     "output_type": "stream",
     "text": [
      "{'val_loss': 1.4422788417564247, 'val_accuracy': 0.6276595744680851, 'precision': 0.6558917163414105, 'recall': 0.6276595744680851, 'f1-score': 0.6303068083879264, 'macro_f1-score': 0.40055963792473614, 'balanced_accuracy': 0.43155052565601865, 'mcc': 0.5166072247018838, 'train_loss': 0.8082112005480533}\n",
      "Epoch 4/20\n"
     ]
    },
    {
     "name": "stderr",
     "output_type": "stream",
     "text": [
      "100%|██████████| 771/771 [06:24<00:00,  2.00it/s]\n"
     ]
    },
    {
     "name": "stdout",
     "output_type": "stream",
     "text": [
      "{'val_loss': 1.436983532500717, 'val_accuracy': 0.6524822695035462, 'precision': 0.6743260598255008, 'recall': 0.6524822695035462, 'f1-score': 0.652549343477678, 'macro_f1-score': 0.4309757381058036, 'balanced_accuracy': 0.46151375019597163, 'mcc': 0.5520664916553557, 'train_loss': 0.6052436470724497}\n",
      "Epoch 5/20\n"
     ]
    },
    {
     "name": "stderr",
     "output_type": "stream",
     "text": [
      "100%|██████████| 771/771 [06:21<00:00,  2.02it/s]\n"
     ]
    },
    {
     "name": "stdout",
     "output_type": "stream",
     "text": [
      "{'val_loss': 1.4681194773260153, 'val_accuracy': 0.640661938534279, 'precision': 0.6726953160487876, 'recall': 0.640661938534279, 'f1-score': 0.6433096763381977, 'macro_f1-score': 0.39719977784891597, 'balanced_accuracy': 0.44356052017640996, 'mcc': 0.541773595390187, 'train_loss': 0.5136978233187193}\n",
      "Epoch 6/20\n"
     ]
    },
    {
     "name": "stderr",
     "output_type": "stream",
     "text": [
      "100%|██████████| 771/771 [06:19<00:00,  2.03it/s]\n"
     ]
    },
    {
     "name": "stdout",
     "output_type": "stream",
     "text": [
      "{'val_loss': 1.469194768734698, 'val_accuracy': 0.6382978723404256, 'precision': 0.6502368486984577, 'recall': 0.6382978723404256, 'f1-score': 0.6351192732948243, 'macro_f1-score': 0.36923217022621185, 'balanced_accuracy': 0.3843405561649887, 'mcc': 0.5253581601122773, 'train_loss': 0.43019419996944847}\n",
      "Epoch 7/20\n"
     ]
    },
    {
     "name": "stderr",
     "output_type": "stream",
     "text": [
      "100%|██████████| 771/771 [06:17<00:00,  2.04it/s]\n"
     ]
    },
    {
     "name": "stdout",
     "output_type": "stream",
     "text": [
      "{'val_loss': 1.5736600340537306, 'val_accuracy': 0.6442080378250591, 'precision': 0.672600114217346, 'recall': 0.6442080378250591, 'f1-score': 0.6465589915051426, 'macro_f1-score': 0.411384272548514, 'balanced_accuracy': 0.43647041348108745, 'mcc': 0.5379314087439572, 'train_loss': 0.4212037719298159}\n",
      "Early stopping.\n",
      "\n",
      "[Fold 5]\n",
      "Label distribution after resampling:\n",
      "  label 0: 2000\n",
      "  label 1: 200\n",
      "  label 2: 200\n",
      "  label 3: 200\n",
      "  label 4: 231\n",
      "  label 5: 200\n",
      "  label 6: 200\n",
      "  label 7: 200\n",
      "  label 8: 200\n",
      "  label 9: 200\n",
      "  label 10: 200\n",
      "  label 11: 200\n",
      "  label 12: 217\n",
      "  label 13: 200\n",
      "  label 14: 200\n",
      "  label 15: 200\n",
      "  label 16: 200\n",
      "  label 17: 260\n",
      "  label 18: 200\n",
      "  label 19: 200\n",
      "  label 20: 200\n",
      "  label 21: 200\n",
      "  label 22: 200\n",
      "  label 23: 200\n",
      "  label 24: 200\n",
      "  label 25: 200\n",
      "  label 26: 200\n",
      "  label 27: 200\n",
      "  label 28: 200\n",
      "  label 29: 200\n",
      "  label 30: 200\n",
      "  label 31: 200\n",
      "  label 32: 200\n",
      "  label 33: 200\n",
      "  label 34: 200\n",
      "  label 35: 200\n",
      "  label 36: 200\n",
      "  label 37: 200\n",
      "  label 38: 200\n",
      "  label 39: 200\n",
      "  label 40: 200\n",
      "  label 41: 200\n",
      "  label 42: 200\n",
      "  label 43: 200\n",
      "  label 44: 200\n",
      "  label 45: 200\n",
      "  label 46: 200\n",
      "  label 47: 595\n",
      "  label 48: 227\n",
      "  label 49: 200\n",
      "model is bert-base-uncased lstm\n",
      "Epoch 1/20\n"
     ]
    },
    {
     "name": "stderr",
     "output_type": "stream",
     "text": [
      "100%|██████████| 771/771 [06:21<00:00,  2.02it/s]\n"
     ]
    },
    {
     "name": "stdout",
     "output_type": "stream",
     "text": [
      "{'val_loss': 1.7178451475107446, 'val_accuracy': 0.5609467455621302, 'precision': 0.591270482086793, 'recall': 0.5609467455621302, 'f1-score': 0.5479110481769498, 'macro_f1-score': 0.2718669000359509, 'balanced_accuracy': 0.3408553122374889, 'mcc': 0.43614097760094833, 'train_loss': 2.3177589427017824}\n",
      "Epoch 2/20\n"
     ]
    },
    {
     "name": "stderr",
     "output_type": "stream",
     "text": [
      "100%|██████████| 771/771 [06:19<00:00,  2.03it/s]\n"
     ]
    },
    {
     "name": "stdout",
     "output_type": "stream",
     "text": [
      "{'val_loss': 1.6130034248783904, 'val_accuracy': 0.5775147928994083, 'precision': 0.6263647623511983, 'recall': 0.5775147928994083, 'f1-score': 0.5792020858541809, 'macro_f1-score': 0.34744540429509685, 'balanced_accuracy': 0.4282189133414247, 'mcc': 0.4807014913748152, 'train_loss': 1.0908880405388917}\n",
      "Epoch 3/20\n"
     ]
    },
    {
     "name": "stderr",
     "output_type": "stream",
     "text": [
      "100%|██████████| 771/771 [06:19<00:00,  2.03it/s]\n"
     ]
    },
    {
     "name": "stdout",
     "output_type": "stream",
     "text": [
      "{'val_loss': 1.379026081202165, 'val_accuracy': 0.6473372781065089, 'precision': 0.6603431742484998, 'recall': 0.6473372781065089, 'f1-score': 0.6357646585251329, 'macro_f1-score': 0.39399388443221867, 'balanced_accuracy': 0.436592494540507, 'mcc': 0.5448199271279531, 'train_loss': 0.7054496487909409}\n",
      "Epoch 4/20\n"
     ]
    },
    {
     "name": "stderr",
     "output_type": "stream",
     "text": [
      "100%|██████████| 771/771 [06:17<00:00,  2.04it/s]\n"
     ]
    },
    {
     "name": "stdout",
     "output_type": "stream",
     "text": [
      "{'val_loss': 1.3342416348322383, 'val_accuracy': 0.663905325443787, 'precision': 0.6803162927060095, 'recall': 0.663905325443787, 'f1-score': 0.6501273871600679, 'macro_f1-score': 0.4143174916899477, 'balanced_accuracy': 0.43765298144751985, 'mcc': 0.5539609645322155, 'train_loss': 0.5442500027855701}\n",
      "Epoch 5/20\n"
     ]
    },
    {
     "name": "stderr",
     "output_type": "stream",
     "text": [
      "100%|██████████| 771/771 [06:22<00:00,  2.01it/s]\n"
     ]
    },
    {
     "name": "stdout",
     "output_type": "stream",
     "text": [
      "{'val_loss': 1.4683422041389178, 'val_accuracy': 0.642603550295858, 'precision': 0.6648402305798087, 'recall': 0.642603550295858, 'f1-score': 0.642966019664106, 'macro_f1-score': 0.38684982030878495, 'balanced_accuracy': 0.39485265778999773, 'mcc': 0.5387970374845491, 'train_loss': 0.4352382862247072}\n",
      "Epoch 6/20\n"
     ]
    },
    {
     "name": "stderr",
     "output_type": "stream",
     "text": [
      "100%|██████████| 771/771 [06:21<00:00,  2.02it/s]\n"
     ]
    },
    {
     "name": "stdout",
     "output_type": "stream",
     "text": [
      "{'val_loss': 1.4269546832678452, 'val_accuracy': 0.6710059171597633, 'precision': 0.6678510175599148, 'recall': 0.6710059171597633, 'f1-score': 0.6601165395404399, 'macro_f1-score': 0.4100715740507684, 'balanced_accuracy': 0.4400629613017866, 'mcc': 0.5692115134342317, 'train_loss': 0.35857340130090093}\n",
      "Epoch 7/20\n"
     ]
    },
    {
     "name": "stderr",
     "output_type": "stream",
     "text": [
      "100%|██████████| 771/771 [06:21<00:00,  2.02it/s]\n"
     ]
    },
    {
     "name": "stdout",
     "output_type": "stream",
     "text": [
      "{'val_loss': 1.5081688876984254, 'val_accuracy': 0.6674556213017752, 'precision': 0.6521927052089395, 'recall': 0.6674556213017752, 'f1-score': 0.6507492449137832, 'macro_f1-score': 0.3996802342681914, 'balanced_accuracy': 0.3993717775513283, 'mcc': 0.5614817708192543, 'train_loss': 0.30859710096868403}\n",
      "Early stopping.\n",
      "\n",
      "[Fold 6]\n",
      "Label distribution after resampling:\n",
      "  label 0: 2000\n",
      "  label 1: 200\n",
      "  label 2: 200\n",
      "  label 3: 200\n",
      "  label 4: 231\n",
      "  label 5: 200\n",
      "  label 6: 200\n",
      "  label 7: 200\n",
      "  label 8: 200\n",
      "  label 9: 200\n",
      "  label 10: 200\n",
      "  label 11: 200\n",
      "  label 12: 217\n",
      "  label 13: 200\n",
      "  label 14: 200\n",
      "  label 15: 200\n",
      "  label 16: 200\n",
      "  label 17: 260\n",
      "  label 18: 200\n",
      "  label 19: 200\n",
      "  label 20: 200\n",
      "  label 21: 200\n",
      "  label 22: 200\n",
      "  label 23: 200\n",
      "  label 24: 200\n",
      "  label 25: 200\n",
      "  label 26: 200\n",
      "  label 27: 200\n",
      "  label 28: 200\n",
      "  label 29: 200\n",
      "  label 30: 200\n",
      "  label 31: 200\n",
      "  label 32: 200\n",
      "  label 33: 200\n",
      "  label 34: 200\n",
      "  label 35: 200\n",
      "  label 36: 200\n",
      "  label 37: 200\n",
      "  label 38: 200\n",
      "  label 39: 200\n",
      "  label 40: 200\n",
      "  label 41: 200\n",
      "  label 42: 200\n",
      "  label 43: 200\n",
      "  label 44: 200\n",
      "  label 45: 200\n",
      "  label 46: 200\n",
      "  label 47: 595\n",
      "  label 48: 227\n",
      "  label 49: 200\n",
      "model is bert-base-uncased lstm\n",
      "Epoch 1/20\n"
     ]
    },
    {
     "name": "stderr",
     "output_type": "stream",
     "text": [
      "100%|██████████| 771/771 [06:20<00:00,  2.03it/s]\n"
     ]
    },
    {
     "name": "stdout",
     "output_type": "stream",
     "text": [
      "{'val_loss': 1.6690361769694202, 'val_accuracy': 0.5526627218934911, 'precision': 0.5536782739851793, 'recall': 0.5526627218934911, 'f1-score': 0.5305923802528171, 'macro_f1-score': 0.2677108580726094, 'balanced_accuracy': 0.35516216277907403, 'mcc': 0.42000183579756867, 'train_loss': 2.3083480288082523}\n",
      "Epoch 2/20\n"
     ]
    },
    {
     "name": "stderr",
     "output_type": "stream",
     "text": [
      "100%|██████████| 771/771 [06:21<00:00,  2.02it/s]\n"
     ]
    },
    {
     "name": "stdout",
     "output_type": "stream",
     "text": [
      "{'val_loss': 1.494766672827163, 'val_accuracy': 0.621301775147929, 'precision': 0.6689901068600421, 'recall': 0.621301775147929, 'f1-score': 0.6153398322815793, 'macro_f1-score': 0.3571481000661506, 'balanced_accuracy': 0.41576127770482335, 'mcc': 0.5018828099114331, 'train_loss': 1.157675032215205}\n",
      "Epoch 3/20\n"
     ]
    },
    {
     "name": "stderr",
     "output_type": "stream",
     "text": [
      "100%|██████████| 771/771 [06:21<00:00,  2.02it/s]\n"
     ]
    },
    {
     "name": "stdout",
     "output_type": "stream",
     "text": [
      "{'val_loss': 1.4768502611034322, 'val_accuracy': 0.6201183431952663, 'precision': 0.6860100673971193, 'recall': 0.6201183431952663, 'f1-score': 0.6256646752503315, 'macro_f1-score': 0.3892579001638864, 'balanced_accuracy': 0.45476779312499294, 'mcc': 0.5178029639702529, 'train_loss': 0.776985030974009}\n",
      "Epoch 4/20\n"
     ]
    },
    {
     "name": "stderr",
     "output_type": "stream",
     "text": [
      "100%|██████████| 771/771 [06:20<00:00,  2.03it/s]\n"
     ]
    },
    {
     "name": "stdout",
     "output_type": "stream",
     "text": [
      "{'val_loss': 1.4536163199622676, 'val_accuracy': 0.6165680473372781, 'precision': 0.6629547482256206, 'recall': 0.6165680473372781, 'f1-score': 0.618951282289342, 'macro_f1-score': 0.35782134508592206, 'balanced_accuracy': 0.4033253749261319, 'mcc': 0.5118868778071503, 'train_loss': 0.5865655262820452}\n",
      "Epoch 5/20\n"
     ]
    },
    {
     "name": "stderr",
     "output_type": "stream",
     "text": [
      "100%|██████████| 771/771 [06:21<00:00,  2.02it/s]\n"
     ]
    },
    {
     "name": "stdout",
     "output_type": "stream",
     "text": [
      "{'val_loss': 1.4132780702608936, 'val_accuracy': 0.6449704142011834, 'precision': 0.6781647278749893, 'recall': 0.6449704142011834, 'f1-score': 0.6461961580094766, 'macro_f1-score': 0.3748386295942388, 'balanced_accuracy': 0.4026499887308858, 'mcc': 0.5447015337450746, 'train_loss': 0.4816902325320723}\n",
      "Epoch 6/20\n"
     ]
    },
    {
     "name": "stderr",
     "output_type": "stream",
     "text": [
      "100%|██████████| 771/771 [06:23<00:00,  2.01it/s]\n"
     ]
    },
    {
     "name": "stdout",
     "output_type": "stream",
     "text": [
      "{'val_loss': 1.4324881738086916, 'val_accuracy': 0.6544378698224852, 'precision': 0.6791635898165178, 'recall': 0.6544378698224852, 'f1-score': 0.64769143987785, 'macro_f1-score': 0.38281981690379063, 'balanced_accuracy': 0.41621967480481475, 'mcc': 0.5487199417079183, 'train_loss': 0.42849786562697745}\n",
      "Early stopping.\n",
      "\n",
      "[Fold 7]\n",
      "Label distribution after resampling:\n",
      "  label 0: 2000\n",
      "  label 1: 200\n",
      "  label 2: 200\n",
      "  label 3: 200\n",
      "  label 4: 232\n",
      "  label 5: 200\n",
      "  label 6: 200\n",
      "  label 7: 200\n",
      "  label 8: 200\n",
      "  label 9: 200\n",
      "  label 10: 200\n",
      "  label 11: 200\n",
      "  label 12: 217\n",
      "  label 13: 200\n",
      "  label 14: 200\n",
      "  label 15: 200\n",
      "  label 16: 200\n",
      "  label 17: 260\n",
      "  label 18: 200\n",
      "  label 19: 200\n",
      "  label 20: 200\n",
      "  label 21: 200\n",
      "  label 22: 200\n",
      "  label 23: 200\n",
      "  label 24: 200\n",
      "  label 25: 200\n",
      "  label 26: 200\n",
      "  label 27: 200\n",
      "  label 28: 200\n",
      "  label 29: 200\n",
      "  label 30: 200\n",
      "  label 31: 200\n",
      "  label 32: 200\n",
      "  label 33: 200\n",
      "  label 34: 200\n",
      "  label 35: 200\n",
      "  label 36: 200\n",
      "  label 37: 200\n",
      "  label 38: 200\n",
      "  label 39: 200\n",
      "  label 40: 200\n",
      "  label 41: 200\n",
      "  label 42: 200\n",
      "  label 43: 200\n",
      "  label 44: 200\n",
      "  label 45: 200\n",
      "  label 46: 200\n",
      "  label 47: 594\n",
      "  label 48: 227\n",
      "  label 49: 200\n",
      "model is bert-base-uncased lstm\n",
      "Epoch 1/20\n"
     ]
    },
    {
     "name": "stderr",
     "output_type": "stream",
     "text": [
      "100%|██████████| 771/771 [06:21<00:00,  2.02it/s]\n"
     ]
    },
    {
     "name": "stdout",
     "output_type": "stream",
     "text": [
      "{'val_loss': 1.5712952793769117, 'val_accuracy': 0.6153846153846154, 'precision': 0.6253986978586258, 'recall': 0.6153846153846154, 'f1-score': 0.5921013143943433, 'macro_f1-score': 0.32333466484110185, 'balanced_accuracy': 0.38547575497232595, 'mcc': 0.4938540692875933, 'train_loss': 2.3058225180079193}\n",
      "Epoch 2/20\n"
     ]
    },
    {
     "name": "stderr",
     "output_type": "stream",
     "text": [
      "100%|██████████| 771/771 [06:18<00:00,  2.04it/s]\n"
     ]
    },
    {
     "name": "stdout",
     "output_type": "stream",
     "text": [
      "{'val_loss': 1.3978603746531144, 'val_accuracy': 0.6449704142011834, 'precision': 0.6379091340135139, 'recall': 0.6449704142011834, 'f1-score': 0.6285048461612749, 'macro_f1-score': 0.4200728885717849, 'balanced_accuracy': 0.45534153125324617, 'mcc': 0.534252249135228, 'train_loss': 1.1658333322340104}\n",
      "Epoch 3/20\n"
     ]
    },
    {
     "name": "stderr",
     "output_type": "stream",
     "text": [
      "100%|██████████| 771/771 [06:22<00:00,  2.02it/s]\n"
     ]
    },
    {
     "name": "stdout",
     "output_type": "stream",
     "text": [
      "{'val_loss': 1.3402049822627373, 'val_accuracy': 0.6165680473372781, 'precision': 0.6741990631970877, 'recall': 0.6165680473372781, 'f1-score': 0.6256911731729442, 'macro_f1-score': 0.402072447379671, 'balanced_accuracy': 0.47184584520823786, 'mcc': 0.5161351223090592, 'train_loss': 0.7733294984709892}\n",
      "Epoch 4/20\n"
     ]
    },
    {
     "name": "stderr",
     "output_type": "stream",
     "text": [
      "100%|██████████| 771/771 [06:20<00:00,  2.03it/s]\n"
     ]
    },
    {
     "name": "stdout",
     "output_type": "stream",
     "text": [
      "{'val_loss': 1.4518111674290783, 'val_accuracy': 0.6272189349112426, 'precision': 0.6759923555913113, 'recall': 0.6272189349112426, 'f1-score': 0.639024283140272, 'macro_f1-score': 0.4397421225164227, 'balanced_accuracy': 0.4908111148714696, 'mcc': 0.5388165566439735, 'train_loss': 0.5877404281514396}\n",
      "Epoch 5/20\n"
     ]
    },
    {
     "name": "stderr",
     "output_type": "stream",
     "text": [
      "100%|██████████| 771/771 [06:20<00:00,  2.03it/s]\n"
     ]
    },
    {
     "name": "stdout",
     "output_type": "stream",
     "text": [
      "{'val_loss': 1.3401953251856678, 'val_accuracy': 0.6378698224852071, 'precision': 0.6972619660633985, 'recall': 0.6378698224852071, 'f1-score': 0.6495064586820988, 'macro_f1-score': 0.42522724848015175, 'balanced_accuracy': 0.4508323171259265, 'mcc': 0.5422308090923114, 'train_loss': 0.470970701890117}\n",
      "Epoch 6/20\n"
     ]
    },
    {
     "name": "stderr",
     "output_type": "stream",
     "text": [
      "100%|██████████| 771/771 [06:21<00:00,  2.02it/s]\n"
     ]
    },
    {
     "name": "stdout",
     "output_type": "stream",
     "text": [
      "{'val_loss': 1.6309041639543929, 'val_accuracy': 0.6071005917159763, 'precision': 0.694364192003458, 'recall': 0.6071005917159763, 'f1-score': 0.6230038871505285, 'macro_f1-score': 0.42852587854296914, 'balanced_accuracy': 0.46906533208088114, 'mcc': 0.5346934257284541, 'train_loss': 0.4062222537624465}\n",
      "Epoch 7/20\n"
     ]
    },
    {
     "name": "stderr",
     "output_type": "stream",
     "text": [
      "100%|██████████| 771/771 [06:18<00:00,  2.04it/s]\n"
     ]
    },
    {
     "name": "stdout",
     "output_type": "stream",
     "text": [
      "{'val_loss': 1.5300671486359723, 'val_accuracy': 0.6473372781065089, 'precision': 0.6875502971433605, 'recall': 0.6473372781065089, 'f1-score': 0.6548996513459404, 'macro_f1-score': 0.4187949266190115, 'balanced_accuracy': 0.4768377371767891, 'mcc': 0.5542863910147233, 'train_loss': 0.3864573317974922}\n",
      "Early stopping.\n",
      "\n",
      "[Fold 8]\n",
      "Label distribution after resampling:\n",
      "  label 0: 2000\n",
      "  label 1: 200\n",
      "  label 2: 200\n",
      "  label 3: 200\n",
      "  label 4: 232\n",
      "  label 5: 200\n",
      "  label 6: 200\n",
      "  label 7: 200\n",
      "  label 8: 200\n",
      "  label 9: 200\n",
      "  label 10: 200\n",
      "  label 11: 200\n",
      "  label 12: 216\n",
      "  label 13: 200\n",
      "  label 14: 200\n",
      "  label 15: 200\n",
      "  label 16: 200\n",
      "  label 17: 260\n",
      "  label 18: 200\n",
      "  label 19: 200\n",
      "  label 20: 200\n",
      "  label 21: 200\n",
      "  label 22: 200\n",
      "  label 23: 200\n",
      "  label 24: 200\n",
      "  label 25: 200\n",
      "  label 26: 200\n",
      "  label 27: 200\n",
      "  label 28: 200\n",
      "  label 29: 200\n",
      "  label 30: 200\n",
      "  label 31: 200\n",
      "  label 32: 200\n",
      "  label 33: 200\n",
      "  label 34: 200\n",
      "  label 35: 200\n",
      "  label 36: 200\n",
      "  label 37: 200\n",
      "  label 38: 200\n",
      "  label 39: 200\n",
      "  label 40: 200\n",
      "  label 41: 200\n",
      "  label 42: 200\n",
      "  label 43: 200\n",
      "  label 44: 200\n",
      "  label 45: 200\n",
      "  label 46: 200\n",
      "  label 47: 595\n",
      "  label 48: 226\n",
      "  label 49: 200\n",
      "model is bert-base-uncased lstm\n",
      "Epoch 1/20\n"
     ]
    },
    {
     "name": "stderr",
     "output_type": "stream",
     "text": [
      "100%|██████████| 771/771 [06:20<00:00,  2.03it/s]\n"
     ]
    },
    {
     "name": "stdout",
     "output_type": "stream",
     "text": [
      "{'val_loss': 1.4971604673367627, 'val_accuracy': 0.5905325443786982, 'precision': 0.6012459590962211, 'recall': 0.5905325443786982, 'f1-score': 0.5824359622809671, 'macro_f1-score': 0.32191748872195913, 'balanced_accuracy': 0.3732715028864512, 'mcc': 0.4733085284437203, 'train_loss': 2.2682359424237304}\n",
      "Epoch 2/20\n"
     ]
    },
    {
     "name": "stderr",
     "output_type": "stream",
     "text": [
      "100%|██████████| 771/771 [06:17<00:00,  2.04it/s]\n"
     ]
    },
    {
     "name": "stdout",
     "output_type": "stream",
     "text": [
      "{'val_loss': 1.4142897219028112, 'val_accuracy': 0.6118343195266273, 'precision': 0.6307770448300913, 'recall': 0.6118343195266273, 'f1-score': 0.6119909300807047, 'macro_f1-score': 0.3901690199597471, 'balanced_accuracy': 0.42098135389524843, 'mcc': 0.5027644157922564, 'train_loss': 1.060613529517493}\n",
      "Epoch 3/20\n"
     ]
    },
    {
     "name": "stderr",
     "output_type": "stream",
     "text": [
      "100%|██████████| 771/771 [06:18<00:00,  2.04it/s]\n"
     ]
    },
    {
     "name": "stdout",
     "output_type": "stream",
     "text": [
      "{'val_loss': 1.3947079198540382, 'val_accuracy': 0.6177514792899408, 'precision': 0.6522784505897828, 'recall': 0.6177514792899408, 'f1-score': 0.62096914567582, 'macro_f1-score': 0.37650402345565476, 'balanced_accuracy': 0.4158190603121541, 'mcc': 0.5061645282574465, 'train_loss': 0.6981376481427293}\n",
      "Epoch 4/20\n"
     ]
    },
    {
     "name": "stderr",
     "output_type": "stream",
     "text": [
      "100%|██████████| 771/771 [06:22<00:00,  2.02it/s]\n"
     ]
    },
    {
     "name": "stdout",
     "output_type": "stream",
     "text": [
      "{'val_loss': 1.3885387930105317, 'val_accuracy': 0.6698224852071006, 'precision': 0.6509961017720011, 'recall': 0.6698224852071006, 'f1-score': 0.6499627061591021, 'macro_f1-score': 0.41321797530146037, 'balanced_accuracy': 0.41962052221437174, 'mcc': 0.5616578410237981, 'train_loss': 0.5461028882685262}\n",
      "Epoch 5/20\n"
     ]
    },
    {
     "name": "stderr",
     "output_type": "stream",
     "text": [
      "100%|██████████| 771/771 [06:21<00:00,  2.02it/s]\n"
     ]
    },
    {
     "name": "stdout",
     "output_type": "stream",
     "text": [
      "{'val_loss': 1.4287511515167524, 'val_accuracy': 0.6497041420118344, 'precision': 0.6523585708844768, 'recall': 0.6497041420118344, 'f1-score': 0.6361580216590816, 'macro_f1-score': 0.38803142557967996, 'balanced_accuracy': 0.404672396209988, 'mcc': 0.5385317599177698, 'train_loss': 0.44012055770239167}\n",
      "Epoch 6/20\n"
     ]
    },
    {
     "name": "stderr",
     "output_type": "stream",
     "text": [
      "100%|██████████| 771/771 [06:19<00:00,  2.03it/s]\n"
     ]
    },
    {
     "name": "stdout",
     "output_type": "stream",
     "text": [
      "{'val_loss': 1.5171368785624235, 'val_accuracy': 0.6402366863905326, 'precision': 0.6769626362872018, 'recall': 0.6402366863905326, 'f1-score': 0.6470347459502166, 'macro_f1-score': 0.4089370946819558, 'balanced_accuracy': 0.44481941206463366, 'mcc': 0.5442045315141977, 'train_loss': 0.386136534412412}\n",
      "Epoch 7/20\n"
     ]
    },
    {
     "name": "stderr",
     "output_type": "stream",
     "text": [
      "100%|██████████| 771/771 [06:19<00:00,  2.03it/s]\n"
     ]
    },
    {
     "name": "stdout",
     "output_type": "stream",
     "text": [
      "{'val_loss': 1.5351348530571416, 'val_accuracy': 0.6390532544378699, 'precision': 0.6679252353930024, 'recall': 0.6390532544378699, 'f1-score': 0.6353499799067682, 'macro_f1-score': 0.4038054128815928, 'balanced_accuracy': 0.44292114489674556, 'mcc': 0.5348087093521166, 'train_loss': 0.3385796357071856}\n",
      "Early stopping.\n",
      "\n",
      "[Fold 9]\n",
      "Label distribution after resampling:\n",
      "  label 0: 2000\n",
      "  label 1: 200\n",
      "  label 2: 200\n",
      "  label 3: 200\n",
      "  label 4: 232\n",
      "  label 5: 200\n",
      "  label 6: 200\n",
      "  label 7: 200\n",
      "  label 8: 200\n",
      "  label 9: 200\n",
      "  label 10: 200\n",
      "  label 11: 200\n",
      "  label 12: 217\n",
      "  label 13: 200\n",
      "  label 14: 200\n",
      "  label 15: 200\n",
      "  label 16: 200\n",
      "  label 17: 261\n",
      "  label 18: 200\n",
      "  label 19: 200\n",
      "  label 20: 200\n",
      "  label 21: 200\n",
      "  label 22: 200\n",
      "  label 23: 200\n",
      "  label 24: 200\n",
      "  label 25: 200\n",
      "  label 26: 200\n",
      "  label 27: 200\n",
      "  label 28: 200\n",
      "  label 29: 200\n",
      "  label 30: 200\n",
      "  label 31: 200\n",
      "  label 32: 200\n",
      "  label 33: 200\n",
      "  label 34: 200\n",
      "  label 35: 200\n",
      "  label 36: 200\n",
      "  label 37: 200\n",
      "  label 38: 200\n",
      "  label 39: 200\n",
      "  label 40: 200\n",
      "  label 41: 200\n",
      "  label 42: 200\n",
      "  label 43: 200\n",
      "  label 44: 200\n",
      "  label 45: 200\n",
      "  label 46: 200\n",
      "  label 47: 595\n",
      "  label 48: 226\n",
      "  label 49: 200\n",
      "model is bert-base-uncased lstm\n",
      "Epoch 1/20\n"
     ]
    },
    {
     "name": "stderr",
     "output_type": "stream",
     "text": [
      "100%|██████████| 771/771 [06:21<00:00,  2.02it/s]\n"
     ]
    },
    {
     "name": "stdout",
     "output_type": "stream",
     "text": [
      "{'val_loss': 1.608423244278386, 'val_accuracy': 0.6, 'precision': 0.5839854977556497, 'recall': 0.6, 'f1-score': 0.5759777412075057, 'macro_f1-score': 0.3019946513610399, 'balanced_accuracy': 0.37102076231028064, 'mcc': 0.47799565767868735, 'train_loss': 2.2842906109708445}\n",
      "Epoch 2/20\n"
     ]
    },
    {
     "name": "stderr",
     "output_type": "stream",
     "text": [
      "100%|██████████| 771/771 [06:20<00:00,  2.03it/s]\n"
     ]
    },
    {
     "name": "stdout",
     "output_type": "stream",
     "text": [
      "{'val_loss': 1.4480468113467377, 'val_accuracy': 0.6248520710059171, 'precision': 0.6514002421109278, 'recall': 0.6248520710059171, 'f1-score': 0.6206982176357485, 'macro_f1-score': 0.3392185588527163, 'balanced_accuracy': 0.3787058855228289, 'mcc': 0.5124673123788325, 'train_loss': 1.0835159968116095}\n",
      "Epoch 3/20\n"
     ]
    },
    {
     "name": "stderr",
     "output_type": "stream",
     "text": [
      "100%|██████████| 771/771 [06:19<00:00,  2.03it/s]\n"
     ]
    },
    {
     "name": "stdout",
     "output_type": "stream",
     "text": [
      "{'val_loss': 1.3595231389099698, 'val_accuracy': 0.6449704142011834, 'precision': 0.6937918157290641, 'recall': 0.6449704142011834, 'f1-score': 0.6382643825596365, 'macro_f1-score': 0.3902659628116701, 'balanced_accuracy': 0.4104526081879189, 'mcc': 0.5385443414144497, 'train_loss': 0.7383620355147796}\n",
      "Epoch 4/20\n"
     ]
    },
    {
     "name": "stderr",
     "output_type": "stream",
     "text": [
      "100%|██████████| 771/771 [06:18<00:00,  2.03it/s]\n"
     ]
    },
    {
     "name": "stdout",
     "output_type": "stream",
     "text": [
      "{'val_loss': 1.4106286449252434, 'val_accuracy': 0.6449704142011834, 'precision': 0.6967751545576679, 'recall': 0.6449704142011834, 'f1-score': 0.6556854031964379, 'macro_f1-score': 0.38375333225220154, 'balanced_accuracy': 0.43555712854689876, 'mcc': 0.5513121081728454, 'train_loss': 0.5685831021358067}\n",
      "Epoch 5/20\n"
     ]
    },
    {
     "name": "stderr",
     "output_type": "stream",
     "text": [
      "100%|██████████| 771/771 [06:19<00:00,  2.03it/s]\n"
     ]
    },
    {
     "name": "stdout",
     "output_type": "stream",
     "text": [
      "{'val_loss': 1.3973632882226188, 'val_accuracy': 0.6710059171597633, 'precision': 0.6809978042728793, 'recall': 0.6710059171597633, 'f1-score': 0.6634147440829323, 'macro_f1-score': 0.39613022923577146, 'balanced_accuracy': 0.41516004272519974, 'mcc': 0.5723565498918629, 'train_loss': 0.46333385514513376}\n",
      "Epoch 6/20\n"
     ]
    },
    {
     "name": "stderr",
     "output_type": "stream",
     "text": [
      "100%|██████████| 771/771 [06:22<00:00,  2.02it/s]\n"
     ]
    },
    {
     "name": "stdout",
     "output_type": "stream",
     "text": [
      "{'val_loss': 1.4114834930536881, 'val_accuracy': 0.663905325443787, 'precision': 0.6825095513396879, 'recall': 0.663905325443787, 'f1-score': 0.6577915531714055, 'macro_f1-score': 0.3853085278079677, 'balanced_accuracy': 0.3968835904866337, 'mcc': 0.555634014117885, 'train_loss': 0.38290122672239013}\n",
      "Epoch 7/20\n"
     ]
    },
    {
     "name": "stderr",
     "output_type": "stream",
     "text": [
      "100%|██████████| 771/771 [06:20<00:00,  2.03it/s]\n",
      "D:\\Anaconda3\\envs\\cuda\\Lib\\site-packages\\sklearn\\metrics\\_classification.py:2458: UserWarning: y_pred contains classes not in y_true\n",
      "  warnings.warn(\"y_pred contains classes not in y_true\")\n"
     ]
    },
    {
     "name": "stdout",
     "output_type": "stream",
     "text": [
      "{'val_loss': 1.5307488334628772, 'val_accuracy': 0.642603550295858, 'precision': 0.6723854682976912, 'recall': 0.642603550295858, 'f1-score': 0.6456053379207596, 'macro_f1-score': 0.35008310766004697, 'balanced_accuracy': 0.3867078198165948, 'mcc': 0.5442364774281744, 'train_loss': 0.3466954106361099}\n",
      "Epoch 8/20\n"
     ]
    },
    {
     "name": "stderr",
     "output_type": "stream",
     "text": [
      "100%|██████████| 771/771 [06:20<00:00,  2.03it/s]\n"
     ]
    },
    {
     "name": "stdout",
     "output_type": "stream",
     "text": [
      "{'val_loss': 1.5593179790478833, 'val_accuracy': 0.650887573964497, 'precision': 0.683686158991884, 'recall': 0.650887573964497, 'f1-score': 0.6571598405593567, 'macro_f1-score': 0.3932219666146776, 'balanced_accuracy': 0.4109407009196245, 'mcc': 0.5614987868875583, 'train_loss': 0.2981403558315702}\n",
      "Early stopping.\n",
      "\n",
      "[Fold 10]\n",
      "Label distribution after resampling:\n",
      "  label 0: 2000\n",
      "  label 1: 200\n",
      "  label 2: 200\n",
      "  label 3: 200\n",
      "  label 4: 231\n",
      "  label 5: 200\n",
      "  label 6: 200\n",
      "  label 7: 200\n",
      "  label 8: 200\n",
      "  label 9: 200\n",
      "  label 10: 200\n",
      "  label 11: 200\n",
      "  label 12: 217\n",
      "  label 13: 200\n",
      "  label 14: 200\n",
      "  label 15: 200\n",
      "  label 16: 200\n",
      "  label 17: 260\n",
      "  label 18: 200\n",
      "  label 19: 200\n",
      "  label 20: 200\n",
      "  label 21: 200\n",
      "  label 22: 200\n",
      "  label 23: 200\n",
      "  label 24: 200\n",
      "  label 25: 200\n",
      "  label 26: 200\n",
      "  label 27: 200\n",
      "  label 28: 200\n",
      "  label 29: 200\n",
      "  label 30: 200\n",
      "  label 31: 200\n",
      "  label 32: 200\n",
      "  label 33: 200\n",
      "  label 34: 200\n",
      "  label 35: 200\n",
      "  label 36: 200\n",
      "  label 37: 200\n",
      "  label 38: 200\n",
      "  label 39: 200\n",
      "  label 40: 200\n",
      "  label 41: 200\n",
      "  label 42: 200\n",
      "  label 43: 200\n",
      "  label 44: 200\n",
      "  label 45: 200\n",
      "  label 46: 200\n",
      "  label 47: 595\n",
      "  label 48: 227\n",
      "  label 49: 200\n",
      "model is bert-base-uncased lstm\n",
      "Epoch 1/20\n"
     ]
    },
    {
     "name": "stderr",
     "output_type": "stream",
     "text": [
      "100%|██████████| 771/771 [06:22<00:00,  2.02it/s]\n",
      "D:\\Anaconda3\\envs\\cuda\\Lib\\site-packages\\sklearn\\metrics\\_classification.py:2458: UserWarning: y_pred contains classes not in y_true\n",
      "  warnings.warn(\"y_pred contains classes not in y_true\")\n"
     ]
    },
    {
     "name": "stdout",
     "output_type": "stream",
     "text": [
      "{'val_loss': 1.4868435184910613, 'val_accuracy': 0.6378698224852071, 'precision': 0.6534520030722463, 'recall': 0.6378698224852071, 'f1-score': 0.6176796795221196, 'macro_f1-score': 0.33382838110448193, 'balanced_accuracy': 0.37847010394809955, 'mcc': 0.5180874045628131, 'train_loss': 2.2166057142456834}\n",
      "Epoch 2/20\n"
     ]
    },
    {
     "name": "stderr",
     "output_type": "stream",
     "text": [
      "100%|██████████| 771/771 [06:19<00:00,  2.03it/s]\n"
     ]
    },
    {
     "name": "stdout",
     "output_type": "stream",
     "text": [
      "{'val_loss': 1.289593720211173, 'val_accuracy': 0.6662721893491125, 'precision': 0.6597216299237267, 'recall': 0.6662721893491125, 'f1-score': 0.6515148781363321, 'macro_f1-score': 0.41295547942676425, 'balanced_accuracy': 0.45459748539616546, 'mcc': 0.5639809628903004, 'train_loss': 1.0962331827280587}\n",
      "Epoch 3/20\n"
     ]
    },
    {
     "name": "stderr",
     "output_type": "stream",
     "text": [
      "100%|██████████| 771/771 [06:18<00:00,  2.04it/s]\n"
     ]
    },
    {
     "name": "stdout",
     "output_type": "stream",
     "text": [
      "{'val_loss': 1.2701898363401305, 'val_accuracy': 0.6733727810650888, 'precision': 0.6829833843053585, 'recall': 0.6733727810650888, 'f1-score': 0.663866353914747, 'macro_f1-score': 0.40393927999313894, 'balanced_accuracy': 0.4371852465563568, 'mcc': 0.5750736063806158, 'train_loss': 0.7335235162235884}\n",
      "Epoch 4/20\n"
     ]
    },
    {
     "name": "stderr",
     "output_type": "stream",
     "text": [
      "100%|██████████| 771/771 [06:20<00:00,  2.03it/s]\n"
     ]
    },
    {
     "name": "stdout",
     "output_type": "stream",
     "text": [
      "{'val_loss': 1.3363743064538487, 'val_accuracy': 0.672189349112426, 'precision': 0.700363806903744, 'recall': 0.672189349112426, 'f1-score': 0.6717145064600899, 'macro_f1-score': 0.4460595214962853, 'balanced_accuracy': 0.4662115332000041, 'mcc': 0.5807119262390452, 'train_loss': 0.5570945256473026}\n",
      "Epoch 5/20\n"
     ]
    },
    {
     "name": "stderr",
     "output_type": "stream",
     "text": [
      "100%|██████████| 771/771 [06:20<00:00,  2.03it/s]\n"
     ]
    },
    {
     "name": "stdout",
     "output_type": "stream",
     "text": [
      "{'val_loss': 1.3409235640516821, 'val_accuracy': 0.6650887573964497, 'precision': 0.6777137537008565, 'recall': 0.6650887573964497, 'f1-score': 0.6598021118796369, 'macro_f1-score': 0.40445599958218775, 'balanced_accuracy': 0.40749455570966125, 'mcc': 0.56558278293243, 'train_loss': 0.4527101156491443}\n",
      "Epoch 6/20\n"
     ]
    },
    {
     "name": "stderr",
     "output_type": "stream",
     "text": [
      "100%|██████████| 771/771 [06:20<00:00,  2.02it/s]\n",
      "D:\\Anaconda3\\envs\\cuda\\Lib\\site-packages\\sklearn\\metrics\\_classification.py:2458: UserWarning: y_pred contains classes not in y_true\n",
      "  warnings.warn(\"y_pred contains classes not in y_true\")\n"
     ]
    },
    {
     "name": "stdout",
     "output_type": "stream",
     "text": [
      "{'val_loss': 1.4130603277458336, 'val_accuracy': 0.659171597633136, 'precision': 0.6822158565358535, 'recall': 0.659171597633136, 'f1-score': 0.6624358247299248, 'macro_f1-score': 0.40933131651506616, 'balanced_accuracy': 0.44890096701225907, 'mcc': 0.5687229572475891, 'train_loss': 0.3872510717043849}\n",
      "Epoch 7/20\n"
     ]
    },
    {
     "name": "stderr",
     "output_type": "stream",
     "text": [
      "100%|██████████| 771/771 [06:19<00:00,  2.03it/s]\n"
     ]
    },
    {
     "name": "stdout",
     "output_type": "stream",
     "text": [
      "{'val_loss': 1.407744234462954, 'val_accuracy': 0.6603550295857988, 'precision': 0.656175183012351, 'recall': 0.6603550295857988, 'f1-score': 0.644887625127002, 'macro_f1-score': 0.3788838981835852, 'balanced_accuracy': 0.3811345534826976, 'mcc': 0.5519448110210531, 'train_loss': 0.32178154842621237}\n",
      "Early stopping.\n",
      "\n",
      " === bert-base-uncased + lstm + ros Final 10-fold Cross-Validation Results ===\n",
      "Total time: 31224 seconds\n",
      "Total time: 8 hrs 40 mins 24 secs\n",
      "val_loss: 1.4500\n",
      "val_accuracy: 0.6574\n",
      "precision: 0.6773\n",
      "recall: 0.6574\n",
      "f1-score: 0.6522\n",
      "macro_f1-score: 0.4149\n",
      "balanced_accuracy: 0.4399\n",
      "mcc: 0.5555\n",
      "train_loss: 0.5217\n"
     ]
    }
   ],
   "source": [
    "model_list = [\"bert-base-uncased\"]\n",
    "hybrid_list = [\"lstm\"]\n",
    "resample_list = [\"ros\"]\n",
    "\n",
    "for model_name in model_list:\n",
    "    for hybrid_type in hybrid_list:\n",
    "        for resample_method in resample_list:\n",
    "            results = run_kfold_experiment(\n",
    "                X=messages, y=labels, model_name=model_name, hybrid_type=hybrid_type, resample_method=resample_method,\n",
    "                kfold=KFOLD_SPLIT, seed=SEED, epochs=EPOCHS, patience=PATIENCE, max_length=MAX_LENGTH, \n",
    "                batch_size=BATCH_SIZE, lr=LR, weight_decay=WEIGHT_DECAY\n",
    "            )"
   ]
  },
  {
   "cell_type": "code",
   "execution_count": null,
   "id": "ec792735-5337-4675-a201-30ec3a0415ca",
   "metadata": {},
   "outputs": [],
   "source": []
  },
  {
   "cell_type": "code",
   "execution_count": null,
   "id": "3c633d6f-3117-4e62-a92c-c50fb863c194",
   "metadata": {},
   "outputs": [],
   "source": []
  },
  {
   "cell_type": "code",
   "execution_count": null,
   "id": "a979ee3d-a4b6-4ea5-8247-fe041653243b",
   "metadata": {},
   "outputs": [],
   "source": []
  }
 ],
 "metadata": {
  "kernelspec": {
   "display_name": "Python 3 (ipykernel)",
   "language": "python",
   "name": "python3"
  },
  "language_info": {
   "codemirror_mode": {
    "name": "ipython",
    "version": 3
   },
   "file_extension": ".py",
   "mimetype": "text/x-python",
   "name": "python",
   "nbconvert_exporter": "python",
   "pygments_lexer": "ipython3",
   "version": "3.11.9"
  }
 },
 "nbformat": 4,
 "nbformat_minor": 5
}
