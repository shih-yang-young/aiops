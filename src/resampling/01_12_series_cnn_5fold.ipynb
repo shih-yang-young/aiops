{
 "cells": [
  {
   "cell_type": "code",
   "execution_count": 1,
   "id": "f22f4841-9a9d-4a63-b896-560594d666d8",
   "metadata": {},
   "outputs": [
    {
     "data": {
      "text/html": [
       "<div>\n",
       "<style scoped>\n",
       "    .dataframe tbody tr th:only-of-type {\n",
       "        vertical-align: middle;\n",
       "    }\n",
       "\n",
       "    .dataframe tbody tr th {\n",
       "        vertical-align: top;\n",
       "    }\n",
       "\n",
       "    .dataframe thead th {\n",
       "        text-align: right;\n",
       "    }\n",
       "</style>\n",
       "<table border=\"1\" class=\"dataframe\">\n",
       "  <thead>\n",
       "    <tr style=\"text-align: right;\">\n",
       "      <th></th>\n",
       "      <th>Inbound Message</th>\n",
       "      <th>Label</th>\n",
       "    </tr>\n",
       "  </thead>\n",
       "  <tbody>\n",
       "    <tr>\n",
       "      <th>0</th>\n",
       "      <td>login issue verified user details employee man...</td>\n",
       "      <td>0</td>\n",
       "    </tr>\n",
       "    <tr>\n",
       "      <th>1</th>\n",
       "      <td>outlook hello team meetings skype meetings etc...</td>\n",
       "      <td>0</td>\n",
       "    </tr>\n",
       "    <tr>\n",
       "      <th>2</th>\n",
       "      <td>cant log vpn cannot log vpn best</td>\n",
       "      <td>0</td>\n",
       "    </tr>\n",
       "    <tr>\n",
       "      <th>3</th>\n",
       "      <td>unable access tool page unable access tool page</td>\n",
       "      <td>0</td>\n",
       "    </tr>\n",
       "    <tr>\n",
       "      <th>4</th>\n",
       "      <td>skype error skype error</td>\n",
       "      <td>0</td>\n",
       "    </tr>\n",
       "    <tr>\n",
       "      <th>...</th>\n",
       "      <td>...</td>\n",
       "      <td>...</td>\n",
       "    </tr>\n",
       "    <tr>\n",
       "      <th>8449</th>\n",
       "      <td>emails coming mail good afternoon receiving em...</td>\n",
       "      <td>22</td>\n",
       "    </tr>\n",
       "    <tr>\n",
       "      <th>8450</th>\n",
       "      <td>telephony software issue telephony software issue</td>\n",
       "      <td>0</td>\n",
       "    </tr>\n",
       "    <tr>\n",
       "      <th>8451</th>\n",
       "      <td>vip windows password reset tifpdchb pedxruyf v...</td>\n",
       "      <td>0</td>\n",
       "    </tr>\n",
       "    <tr>\n",
       "      <th>8452</th>\n",
       "      <td>machine est funcionando unable access machine ...</td>\n",
       "      <td>44</td>\n",
       "    </tr>\n",
       "    <tr>\n",
       "      <th>8453</th>\n",
       "      <td>mehreren lassen sich verschiedene prgramdntyme...</td>\n",
       "      <td>49</td>\n",
       "    </tr>\n",
       "  </tbody>\n",
       "</table>\n",
       "<p>8454 rows × 2 columns</p>\n",
       "</div>"
      ],
      "text/plain": [
       "                                        Inbound Message  Label\n",
       "0     login issue verified user details employee man...      0\n",
       "1     outlook hello team meetings skype meetings etc...      0\n",
       "2                      cant log vpn cannot log vpn best      0\n",
       "3       unable access tool page unable access tool page      0\n",
       "4                               skype error skype error      0\n",
       "...                                                 ...    ...\n",
       "8449  emails coming mail good afternoon receiving em...     22\n",
       "8450  telephony software issue telephony software issue      0\n",
       "8451  vip windows password reset tifpdchb pedxruyf v...      0\n",
       "8452  machine est funcionando unable access machine ...     44\n",
       "8453  mehreren lassen sich verschiedene prgramdntyme...     49\n",
       "\n",
       "[8454 rows x 2 columns]"
      ]
     },
     "execution_count": 1,
     "metadata": {},
     "output_type": "execute_result"
    }
   ],
   "source": [
    "import pandas as pd\n",
    "data_path = \"../../data/open_source_8454_combine_short_description.csv\"\n",
    "df = pd.read_csv(data_path)\n",
    "# df_label_0 = df[df[\"Label\"] == 0]\n",
    "# df_label_0_to_drop = df_label_0.sample(n=3000, random_state=42)\n",
    "# df = df.drop(df_label_0_to_drop.index)\n",
    "df"
   ]
  },
  {
   "cell_type": "code",
   "execution_count": 2,
   "id": "bf737873-4f1c-4588-913d-8f06b2777b20",
   "metadata": {},
   "outputs": [
    {
     "name": "stderr",
     "output_type": "stream",
     "text": [
      "c:\\Users\\user\\AppData\\Local\\Programs\\Python\\Python310\\lib\\site-packages\\tqdm\\auto.py:21: TqdmWarning: IProgress not found. Please update jupyter and ipywidgets. See https://ipywidgets.readthedocs.io/en/stable/user_install.html\n",
      "  from .autonotebook import tqdm as notebook_tqdm\n"
     ]
    }
   ],
   "source": [
    "import sys\n",
    "import os\n",
    "sys.path.append(os.path.abspath('../ml_lib'))\n",
    "\n",
    "from config import *\n",
    "from experiment import run_kfold_experiment"
   ]
  },
  {
   "cell_type": "code",
   "execution_count": 3,
   "id": "a12b2613-aa9d-41c0-8f62-72210eaf8d7f",
   "metadata": {},
   "outputs": [],
   "source": [
    "messages, labels = df['Inbound Message'].tolist(), df['Label'].tolist()"
   ]
  },
  {
   "cell_type": "code",
   "execution_count": 4,
   "id": "38d4729f-f867-4cea-89f9-31f67e5ecced",
   "metadata": {},
   "outputs": [
    {
     "name": "stdout",
     "output_type": "stream",
     "text": [
      "▶ Running: bert-base-uncased + cnn1filter234drop3 + ros\n",
      "tokenizer is bert-base-uncased\n",
      "Using device: cuda\n",
      "CUDA Available: True\n",
      "CUDA Device: NVIDIA GeForce RTX 5070 Ti\n",
      "Current GPU Memory Allocated: 0.00 GB\n",
      "Current GPU Memory Cached: 0.00 GB\n",
      "\n",
      "[Fold 1]\n",
      "Label distribution after resampling:\n",
      "  label 0: 2000\n",
      "  label 1: 200\n",
      "  label 2: 200\n",
      "  label 3: 200\n",
      "  label 4: 205\n",
      "  label 5: 200\n",
      "  label 6: 200\n",
      "  label 7: 200\n",
      "  label 8: 200\n",
      "  label 9: 200\n",
      "  label 10: 200\n",
      "  label 11: 200\n",
      "  label 12: 200\n",
      "  label 13: 200\n",
      "  label 14: 200\n",
      "  label 15: 200\n",
      "  label 16: 200\n",
      "  label 17: 231\n",
      "  label 18: 200\n",
      "  label 19: 200\n",
      "  label 20: 200\n",
      "  label 21: 200\n",
      "  label 22: 200\n",
      "  label 23: 200\n",
      "  label 24: 200\n",
      "  label 25: 200\n",
      "  label 26: 200\n",
      "  label 27: 200\n",
      "  label 28: 200\n",
      "  label 29: 200\n",
      "  label 30: 200\n",
      "  label 31: 200\n",
      "  label 32: 200\n",
      "  label 33: 200\n",
      "  label 34: 200\n",
      "  label 35: 200\n",
      "  label 36: 200\n",
      "  label 37: 200\n",
      "  label 38: 200\n",
      "  label 39: 200\n",
      "  label 40: 200\n",
      "  label 41: 200\n",
      "  label 42: 200\n",
      "  label 43: 200\n",
      "  label 44: 200\n",
      "  label 45: 200\n",
      "  label 46: 200\n",
      "  label 47: 529\n",
      "  label 48: 202\n",
      "  label 49: 200\n",
      "model is bert-base-uncased cnn1filter234drop3\n",
      "Epoch 1/20\n"
     ]
    },
    {
     "name": "stderr",
     "output_type": "stream",
     "text": [
      "100%|██████████| 761/761 [01:06<00:00, 11.45it/s]\n"
     ]
    },
    {
     "name": "stdout",
     "output_type": "stream",
     "text": [
      "{'val_loss': 1.4353268298338044, 'val_accuracy': 0.6091070372560615, 'precision': 0.6472033960429353, 'recall': 0.6091070372560615, 'f1-score': 0.6077922889598778, 'macro_f1-score': 0.3633245279399798, 'balanced_accuracy': 0.4359935666541236, 'mcc': 0.5002117906424242, 'train_loss': 1.9881984368651988}\n",
      "Epoch 2/20\n"
     ]
    },
    {
     "name": "stderr",
     "output_type": "stream",
     "text": [
      "100%|██████████| 761/761 [01:05<00:00, 11.53it/s]\n"
     ]
    },
    {
     "name": "stdout",
     "output_type": "stream",
     "text": [
      "{'val_loss': 1.317881831020679, 'val_accuracy': 0.6493199290360734, 'precision': 0.6819730328921774, 'recall': 0.6493199290360734, 'f1-score': 0.6391519242233484, 'macro_f1-score': 0.41631889849488984, 'balanced_accuracy': 0.439896156581792, 'mcc': 0.544755817884922, 'train_loss': 0.6685969490415946}\n",
      "Epoch 3/20\n"
     ]
    },
    {
     "name": "stderr",
     "output_type": "stream",
     "text": [
      "100%|██████████| 761/761 [01:05<00:00, 11.53it/s]\n"
     ]
    },
    {
     "name": "stdout",
     "output_type": "stream",
     "text": [
      "{'val_loss': 1.4442833437109894, 'val_accuracy': 0.6499112950916618, 'precision': 0.6854897641130172, 'recall': 0.6499112950916618, 'f1-score': 0.6440342836820523, 'macro_f1-score': 0.4207381265147467, 'balanced_accuracy': 0.4346009711379851, 'mcc': 0.5418908499502646, 'train_loss': 0.37354994149151677}\n",
      "Epoch 4/20\n"
     ]
    },
    {
     "name": "stderr",
     "output_type": "stream",
     "text": [
      "100%|██████████| 761/761 [01:06<00:00, 11.53it/s]\n"
     ]
    },
    {
     "name": "stdout",
     "output_type": "stream",
     "text": [
      "{'val_loss': 1.4888657348335914, 'val_accuracy': 0.6706091070372561, 'precision': 0.6684270233873852, 'recall': 0.6706091070372561, 'f1-score': 0.6563810817650064, 'macro_f1-score': 0.41748303461241215, 'balanced_accuracy': 0.41384025092150545, 'mcc': 0.5598690106595335, 'train_loss': 0.2975874034193456}\n",
      "Epoch 5/20\n"
     ]
    },
    {
     "name": "stderr",
     "output_type": "stream",
     "text": [
      "100%|██████████| 761/761 [01:05<00:00, 11.54it/s]\n"
     ]
    },
    {
     "name": "stdout",
     "output_type": "stream",
     "text": [
      "{'val_loss': 1.502525509528394, 'val_accuracy': 0.667652276759314, 'precision': 0.6675390069012064, 'recall': 0.667652276759314, 'f1-score': 0.6530801506268866, 'macro_f1-score': 0.4096149983597941, 'balanced_accuracy': 0.41153133917495077, 'mcc': 0.5594555315393449, 'train_loss': 0.26050190718259547}\n",
      "Epoch 6/20\n"
     ]
    },
    {
     "name": "stderr",
     "output_type": "stream",
     "text": [
      "100%|██████████| 761/761 [01:05<00:00, 11.54it/s]\n"
     ]
    },
    {
     "name": "stdout",
     "output_type": "stream",
     "text": [
      "{'val_loss': 1.71038618543238, 'val_accuracy': 0.6369012418687168, 'precision': 0.6659846497399133, 'recall': 0.6369012418687168, 'f1-score': 0.6422470088352562, 'macro_f1-score': 0.42319487794460625, 'balanced_accuracy': 0.4248207924871252, 'mcc': 0.5304390653555535, 'train_loss': 0.24031733449257214}\n",
      "Epoch 7/20\n"
     ]
    },
    {
     "name": "stderr",
     "output_type": "stream",
     "text": [
      "100%|██████████| 761/761 [01:06<00:00, 11.53it/s]\n"
     ]
    },
    {
     "name": "stdout",
     "output_type": "stream",
     "text": [
      "{'val_loss': 1.6576867744607746, 'val_accuracy': 0.6404494382022472, 'precision': 0.6632161529232029, 'recall': 0.6404494382022472, 'f1-score': 0.6399627440533263, 'macro_f1-score': 0.41677129174378935, 'balanced_accuracy': 0.42068105666567446, 'mcc': 0.5354044294495731, 'train_loss': 0.22935339865187837}\n",
      "Epoch 8/20\n"
     ]
    },
    {
     "name": "stderr",
     "output_type": "stream",
     "text": [
      "100%|██████████| 761/761 [01:06<00:00, 11.53it/s]\n"
     ]
    },
    {
     "name": "stdout",
     "output_type": "stream",
     "text": [
      "{'val_loss': 1.7709130490163587, 'val_accuracy': 0.6321703134240094, 'precision': 0.661813139665108, 'recall': 0.6321703134240094, 'f1-score': 0.6284262169293263, 'macro_f1-score': 0.39420674859350063, 'balanced_accuracy': 0.4272643029207183, 'mcc': 0.5181065691784046, 'train_loss': 0.2213612409181888}\n",
      "Epoch 9/20\n"
     ]
    },
    {
     "name": "stderr",
     "output_type": "stream",
     "text": [
      "100%|██████████| 761/761 [01:06<00:00, 11.52it/s]\n"
     ]
    },
    {
     "name": "stdout",
     "output_type": "stream",
     "text": [
      "{'val_loss': 1.8176852265056573, 'val_accuracy': 0.6321703134240094, 'precision': 0.6629763951753594, 'recall': 0.6321703134240094, 'f1-score': 0.6340421694653373, 'macro_f1-score': 0.42852652864960994, 'balanced_accuracy': 0.4496172969506602, 'mcc': 0.5290237046382874, 'train_loss': 0.20924005646542518}\n",
      "Epoch 10/20\n"
     ]
    },
    {
     "name": "stderr",
     "output_type": "stream",
     "text": [
      "100%|██████████| 761/761 [01:05<00:00, 11.54it/s]\n"
     ]
    },
    {
     "name": "stdout",
     "output_type": "stream",
     "text": [
      "{'val_loss': 1.742742027876512, 'val_accuracy': 0.6788882318154937, 'precision': 0.6858821702171273, 'recall': 0.6788882318154937, 'f1-score': 0.6672344520050565, 'macro_f1-score': 0.44233731491128714, 'balanced_accuracy': 0.44095666944852197, 'mcc': 0.573475031252967, 'train_loss': 0.21259020623700808}\n",
      "Epoch 11/20\n"
     ]
    },
    {
     "name": "stderr",
     "output_type": "stream",
     "text": [
      "100%|██████████| 761/761 [01:05<00:00, 11.62it/s]\n"
     ]
    },
    {
     "name": "stdout",
     "output_type": "stream",
     "text": [
      "{'val_loss': 1.7843293227114767, 'val_accuracy': 0.6617386162034299, 'precision': 0.674961229134673, 'recall': 0.6617386162034299, 'f1-score': 0.6558040276689782, 'macro_f1-score': 0.4277582820957334, 'balanced_accuracy': 0.42616953468845403, 'mcc': 0.5581041855655936, 'train_loss': 0.1835979800039545}\n",
      "Epoch 12/20\n"
     ]
    },
    {
     "name": "stderr",
     "output_type": "stream",
     "text": [
      "100%|██████████| 761/761 [01:05<00:00, 11.68it/s]\n"
     ]
    },
    {
     "name": "stdout",
     "output_type": "stream",
     "text": [
      "{'val_loss': 1.9472336923738696, 'val_accuracy': 0.6268480189237138, 'precision': 0.6667818924977056, 'recall': 0.6268480189237138, 'f1-score': 0.6324854569651905, 'macro_f1-score': 0.4124963713778715, 'balanced_accuracy': 0.4265833873212138, 'mcc': 0.5278307238291456, 'train_loss': 0.2158785363394307}\n",
      "Epoch 13/20\n"
     ]
    },
    {
     "name": "stderr",
     "output_type": "stream",
     "text": [
      "100%|██████████| 761/761 [01:05<00:00, 11.54it/s]\n"
     ]
    },
    {
     "name": "stdout",
     "output_type": "stream",
     "text": [
      "{'val_loss': 1.7944696478123934, 'val_accuracy': 0.6558249556475458, 'precision': 0.6796972798497964, 'recall': 0.6558249556475458, 'f1-score': 0.6564961107810314, 'macro_f1-score': 0.43122661867248774, 'balanced_accuracy': 0.4490739682687238, 'mcc': 0.556908752140626, 'train_loss': 0.2026858031693124}\n",
      "Early stopping.\n",
      "\n",
      "[Fold 2]\n",
      "Label distribution after resampling:\n",
      "  label 0: 2000\n",
      "  label 1: 200\n",
      "  label 2: 200\n",
      "  label 3: 200\n",
      "  label 4: 206\n",
      "  label 5: 200\n",
      "  label 6: 200\n",
      "  label 7: 200\n",
      "  label 8: 200\n",
      "  label 9: 200\n",
      "  label 10: 200\n",
      "  label 11: 200\n",
      "  label 12: 200\n",
      "  label 13: 200\n",
      "  label 14: 200\n",
      "  label 15: 200\n",
      "  label 16: 200\n",
      "  label 17: 231\n",
      "  label 18: 200\n",
      "  label 19: 200\n",
      "  label 20: 200\n",
      "  label 21: 200\n",
      "  label 22: 200\n",
      "  label 23: 200\n",
      "  label 24: 200\n",
      "  label 25: 200\n",
      "  label 26: 200\n",
      "  label 27: 200\n",
      "  label 28: 200\n",
      "  label 29: 200\n",
      "  label 30: 200\n",
      "  label 31: 200\n",
      "  label 32: 200\n",
      "  label 33: 200\n",
      "  label 34: 200\n",
      "  label 35: 200\n",
      "  label 36: 200\n",
      "  label 37: 200\n",
      "  label 38: 200\n",
      "  label 39: 200\n",
      "  label 40: 200\n",
      "  label 41: 200\n",
      "  label 42: 200\n",
      "  label 43: 200\n",
      "  label 44: 200\n",
      "  label 45: 200\n",
      "  label 46: 200\n",
      "  label 47: 528\n",
      "  label 48: 202\n",
      "  label 49: 200\n",
      "model is bert-base-uncased cnn1filter234drop3\n",
      "Epoch 1/20\n"
     ]
    },
    {
     "name": "stderr",
     "output_type": "stream",
     "text": [
      "100%|██████████| 761/761 [01:06<00:00, 11.48it/s]\n"
     ]
    },
    {
     "name": "stdout",
     "output_type": "stream",
     "text": [
      "{'val_loss': 1.3976258871690281, 'val_accuracy': 0.6197516262566529, 'precision': 0.645122007800904, 'recall': 0.6197516262566529, 'f1-score': 0.601793204308954, 'macro_f1-score': 0.3652575604526379, 'balanced_accuracy': 0.4096711328146085, 'mcc': 0.49178838233444494, 'train_loss': 1.911489077176747}\n",
      "Epoch 2/20\n"
     ]
    },
    {
     "name": "stderr",
     "output_type": "stream",
     "text": [
      "100%|██████████| 761/761 [01:06<00:00, 11.41it/s]\n"
     ]
    },
    {
     "name": "stdout",
     "output_type": "stream",
     "text": [
      "{'val_loss': 1.3082509440071177, 'val_accuracy': 0.6510940272028386, 'precision': 0.6689770656834421, 'recall': 0.6510940272028386, 'f1-score': 0.651745111029683, 'macro_f1-score': 0.42088614108284383, 'balanced_accuracy': 0.4392654091229914, 'mcc': 0.547613980555663, 'train_loss': 0.661939402608967}\n",
      "Epoch 3/20\n"
     ]
    },
    {
     "name": "stderr",
     "output_type": "stream",
     "text": [
      "100%|██████████| 761/761 [01:05<00:00, 11.59it/s]\n"
     ]
    },
    {
     "name": "stdout",
     "output_type": "stream",
     "text": [
      "{'val_loss': 1.4661045988213341, 'val_accuracy': 0.622708456534595, 'precision': 0.6577971713856635, 'recall': 0.622708456534595, 'f1-score': 0.6246546389439479, 'macro_f1-score': 0.3970890496294197, 'balanced_accuracy': 0.4500459298363396, 'mcc': 0.5271486211911837, 'train_loss': 0.3906216090875488}\n",
      "Epoch 4/20\n"
     ]
    },
    {
     "name": "stderr",
     "output_type": "stream",
     "text": [
      "100%|██████████| 761/761 [01:05<00:00, 11.54it/s]\n"
     ]
    },
    {
     "name": "stdout",
     "output_type": "stream",
     "text": [
      "{'val_loss': 1.5878272450195168, 'val_accuracy': 0.641632170313424, 'precision': 0.6787940248612734, 'recall': 0.641632170313424, 'f1-score': 0.6450081949185095, 'macro_f1-score': 0.4210749431964728, 'balanced_accuracy': 0.42299208035741104, 'mcc': 0.541563611052588, 'train_loss': 0.29337357559318455}\n",
      "Epoch 5/20\n"
     ]
    },
    {
     "name": "stderr",
     "output_type": "stream",
     "text": [
      "100%|██████████| 761/761 [01:06<00:00, 11.49it/s]\n"
     ]
    },
    {
     "name": "stdout",
     "output_type": "stream",
     "text": [
      "{'val_loss': 1.6015771270360586, 'val_accuracy': 0.651685393258427, 'precision': 0.669205708886269, 'recall': 0.651685393258427, 'f1-score': 0.6513606123575945, 'macro_f1-score': 0.4266679116059094, 'balanced_accuracy': 0.4515519298285783, 'mcc': 0.5529838174160335, 'train_loss': 0.25851119294978003}\n",
      "Epoch 6/20\n"
     ]
    },
    {
     "name": "stderr",
     "output_type": "stream",
     "text": [
      "100%|██████████| 761/761 [01:06<00:00, 11.45it/s]\n"
     ]
    },
    {
     "name": "stdout",
     "output_type": "stream",
     "text": [
      "{'val_loss': 1.752397878411806, 'val_accuracy': 0.6369012418687168, 'precision': 0.6549499325860123, 'recall': 0.6369012418687168, 'f1-score': 0.6381278372576159, 'macro_f1-score': 0.4139399502117849, 'balanced_accuracy': 0.44433158074089574, 'mcc': 0.5354498612208929, 'train_loss': 0.2390636306913244}\n",
      "Epoch 7/20\n"
     ]
    },
    {
     "name": "stderr",
     "output_type": "stream",
     "text": [
      "100%|██████████| 761/761 [01:06<00:00, 11.47it/s]\n"
     ]
    },
    {
     "name": "stdout",
     "output_type": "stream",
     "text": [
      "{'val_loss': 1.7967631279859904, 'val_accuracy': 0.6564163217031342, 'precision': 0.6634662548138809, 'recall': 0.6564163217031342, 'f1-score': 0.6437274881021765, 'macro_f1-score': 0.40548232299118053, 'balanced_accuracy': 0.3954640986075549, 'mcc': 0.5393584493503184, 'train_loss': 0.2310916946236529}\n",
      "Epoch 8/20\n"
     ]
    },
    {
     "name": "stderr",
     "output_type": "stream",
     "text": [
      "100%|██████████| 761/761 [01:06<00:00, 11.48it/s]\n"
     ]
    },
    {
     "name": "stdout",
     "output_type": "stream",
     "text": [
      "{'val_loss': 1.8161078165724593, 'val_accuracy': 0.6747486694263749, 'precision': 0.6631018290305442, 'recall': 0.6747486694263749, 'f1-score': 0.6602689173158208, 'macro_f1-score': 0.4348750297622327, 'balanced_accuracy': 0.44062785902360313, 'mcc': 0.5663594009269732, 'train_loss': 0.19702019124339565}\n",
      "Epoch 9/20\n"
     ]
    },
    {
     "name": "stderr",
     "output_type": "stream",
     "text": [
      "100%|██████████| 761/761 [01:06<00:00, 11.45it/s]\n"
     ]
    },
    {
     "name": "stdout",
     "output_type": "stream",
     "text": [
      "{'val_loss': 1.9125928653860993, 'val_accuracy': 0.651685393258427, 'precision': 0.6585773169113621, 'recall': 0.651685393258427, 'f1-score': 0.6469215845007619, 'macro_f1-score': 0.4103741406787828, 'balanced_accuracy': 0.43489144642153293, 'mcc': 0.5490303752418166, 'train_loss': 0.20901441612034918}\n",
      "Epoch 10/20\n"
     ]
    },
    {
     "name": "stderr",
     "output_type": "stream",
     "text": [
      "100%|██████████| 761/761 [01:06<00:00, 11.52it/s]\n"
     ]
    },
    {
     "name": "stdout",
     "output_type": "stream",
     "text": [
      "{'val_loss': 1.9150446914839294, 'val_accuracy': 0.6428149024246008, 'precision': 0.6684983696208273, 'recall': 0.6428149024246008, 'f1-score': 0.6424368465919977, 'macro_f1-score': 0.4200014455003169, 'balanced_accuracy': 0.4542236734303608, 'mcc': 0.5458375037035905, 'train_loss': 0.21142032838019}\n",
      "Epoch 11/20\n"
     ]
    },
    {
     "name": "stderr",
     "output_type": "stream",
     "text": [
      "100%|██████████| 761/761 [01:06<00:00, 11.48it/s]\n"
     ]
    },
    {
     "name": "stdout",
     "output_type": "stream",
     "text": [
      "{'val_loss': 1.772652812372401, 'val_accuracy': 0.6499112950916618, 'precision': 0.6548839285165906, 'recall': 0.6499112950916618, 'f1-score': 0.6464915810348484, 'macro_f1-score': 0.412288575128484, 'balanced_accuracy': 0.44620718729556785, 'mcc': 0.5451981781737422, 'train_loss': 0.1937179307356347}\n",
      "Early stopping.\n",
      "\n",
      "[Fold 3]\n",
      "Label distribution after resampling:\n",
      "  label 0: 2000\n",
      "  label 1: 200\n",
      "  label 2: 200\n",
      "  label 3: 200\n",
      "  label 4: 206\n",
      "  label 5: 200\n",
      "  label 6: 200\n",
      "  label 7: 200\n",
      "  label 8: 200\n",
      "  label 9: 200\n",
      "  label 10: 200\n",
      "  label 11: 200\n",
      "  label 12: 200\n",
      "  label 13: 200\n",
      "  label 14: 200\n",
      "  label 15: 200\n",
      "  label 16: 200\n",
      "  label 17: 231\n",
      "  label 18: 200\n",
      "  label 19: 200\n",
      "  label 20: 200\n",
      "  label 21: 200\n",
      "  label 22: 200\n",
      "  label 23: 200\n",
      "  label 24: 200\n",
      "  label 25: 200\n",
      "  label 26: 200\n",
      "  label 27: 200\n",
      "  label 28: 200\n",
      "  label 29: 200\n",
      "  label 30: 200\n",
      "  label 31: 200\n",
      "  label 32: 200\n",
      "  label 33: 200\n",
      "  label 34: 200\n",
      "  label 35: 200\n",
      "  label 36: 200\n",
      "  label 37: 200\n",
      "  label 38: 200\n",
      "  label 39: 200\n",
      "  label 40: 200\n",
      "  label 41: 200\n",
      "  label 42: 200\n",
      "  label 43: 200\n",
      "  label 44: 200\n",
      "  label 45: 200\n",
      "  label 46: 200\n",
      "  label 47: 529\n",
      "  label 48: 201\n",
      "  label 49: 200\n",
      "model is bert-base-uncased cnn1filter234drop3\n",
      "Epoch 1/20\n"
     ]
    },
    {
     "name": "stderr",
     "output_type": "stream",
     "text": [
      "100%|██████████| 761/761 [01:06<00:00, 11.53it/s]\n"
     ]
    },
    {
     "name": "stdout",
     "output_type": "stream",
     "text": [
      "{'val_loss': 1.4070472312423419, 'val_accuracy': 0.6073329390892963, 'precision': 0.6409892801583882, 'recall': 0.6073329390892963, 'f1-score': 0.6083823321752321, 'macro_f1-score': 0.35574842589546307, 'balanced_accuracy': 0.40231062117912925, 'mcc': 0.494825944606616, 'train_loss': 1.9283159221675488}\n",
      "Epoch 2/20\n"
     ]
    },
    {
     "name": "stderr",
     "output_type": "stream",
     "text": [
      "100%|██████████| 761/761 [01:06<00:00, 11.52it/s]\n"
     ]
    },
    {
     "name": "stdout",
     "output_type": "stream",
     "text": [
      "{'val_loss': 1.3579518333920892, 'val_accuracy': 0.6457717327025428, 'precision': 0.652704433265959, 'recall': 0.6457717327025428, 'f1-score': 0.6350085478616102, 'macro_f1-score': 0.37018375601559356, 'balanced_accuracy': 0.38568809897743767, 'mcc': 0.5335466532739797, 'train_loss': 0.6417367935435218}\n",
      "Epoch 3/20\n"
     ]
    },
    {
     "name": "stderr",
     "output_type": "stream",
     "text": [
      "100%|██████████| 761/761 [01:06<00:00, 11.53it/s]\n"
     ]
    },
    {
     "name": "stdout",
     "output_type": "stream",
     "text": [
      "{'val_loss': 1.4467061883154906, 'val_accuracy': 0.6581904198698995, 'precision': 0.6545647950561494, 'recall': 0.6581904198698995, 'f1-score': 0.6449577404723228, 'macro_f1-score': 0.3536637627826157, 'balanced_accuracy': 0.3653987443571255, 'mcc': 0.5469306556787144, 'train_loss': 0.38213130758779124}\n",
      "Epoch 4/20\n"
     ]
    },
    {
     "name": "stderr",
     "output_type": "stream",
     "text": [
      "100%|██████████| 761/761 [01:06<00:00, 11.51it/s]\n"
     ]
    },
    {
     "name": "stdout",
     "output_type": "stream",
     "text": [
      "{'val_loss': 1.5388033609345275, 'val_accuracy': 0.651685393258427, 'precision': 0.6730188888731377, 'recall': 0.651685393258427, 'f1-score': 0.6495719290512928, 'macro_f1-score': 0.35561055422639304, 'balanced_accuracy': 0.37245111888881083, 'mcc': 0.5495559974239634, 'train_loss': 0.28991416420141397}\n",
      "Epoch 5/20\n"
     ]
    },
    {
     "name": "stderr",
     "output_type": "stream",
     "text": [
      "100%|██████████| 761/761 [01:06<00:00, 11.51it/s]\n"
     ]
    },
    {
     "name": "stdout",
     "output_type": "stream",
     "text": [
      "{'val_loss': 1.5848091688920867, 'val_accuracy': 0.6552335895919574, 'precision': 0.6645657288123047, 'recall': 0.6552335895919574, 'f1-score': 0.6484673626290228, 'macro_f1-score': 0.37671189827790974, 'balanced_accuracy': 0.39546530793022405, 'mcc': 0.5529430313444289, 'train_loss': 0.24282062655613415}\n",
      "Epoch 6/20\n"
     ]
    },
    {
     "name": "stderr",
     "output_type": "stream",
     "text": [
      "100%|██████████| 761/761 [01:06<00:00, 11.52it/s]\n"
     ]
    },
    {
     "name": "stdout",
     "output_type": "stream",
     "text": [
      "{'val_loss': 1.7944395131659958, 'val_accuracy': 0.628622117090479, 'precision': 0.6512142759474066, 'recall': 0.628622117090479, 'f1-score': 0.6256038868970866, 'macro_f1-score': 0.3410342112547702, 'balanced_accuracy': 0.3477972118587174, 'mcc': 0.5249487455093286, 'train_loss': 0.24052236827565224}\n",
      "Epoch 7/20\n"
     ]
    },
    {
     "name": "stderr",
     "output_type": "stream",
     "text": [
      "100%|██████████| 761/761 [01:06<00:00, 11.51it/s]\n"
     ]
    },
    {
     "name": "stdout",
     "output_type": "stream",
     "text": [
      "{'val_loss': 1.7010997351048127, 'val_accuracy': 0.6505026611472502, 'precision': 0.6597218448572222, 'recall': 0.6505026611472502, 'f1-score': 0.6443256120555754, 'macro_f1-score': 0.38800577444025613, 'balanced_accuracy': 0.405997487785654, 'mcc': 0.5403467953867803, 'train_loss': 0.2316540085717316}\n",
      "Epoch 8/20\n"
     ]
    },
    {
     "name": "stderr",
     "output_type": "stream",
     "text": [
      "100%|██████████| 761/761 [01:06<00:00, 11.50it/s]\n"
     ]
    },
    {
     "name": "stdout",
     "output_type": "stream",
     "text": [
      "{'val_loss': 1.8668308145595047, 'val_accuracy': 0.657599053814311, 'precision': 0.6732436307127706, 'recall': 0.657599053814311, 'f1-score': 0.652619927748963, 'macro_f1-score': 0.39357919931270374, 'balanced_accuracy': 0.40212232188590824, 'mcc': 0.556454090431199, 'train_loss': 0.20693922640741086}\n",
      "Epoch 9/20\n"
     ]
    },
    {
     "name": "stderr",
     "output_type": "stream",
     "text": [
      "100%|██████████| 761/761 [01:06<00:00, 11.52it/s]\n"
     ]
    },
    {
     "name": "stdout",
     "output_type": "stream",
     "text": [
      "{'val_loss': 2.0924373792027526, 'val_accuracy': 0.6493199290360734, 'precision': 0.6541188889596936, 'recall': 0.6493199290360734, 'f1-score': 0.6323866461673602, 'macro_f1-score': 0.34993670816835676, 'balanced_accuracy': 0.3497404119559216, 'mcc': 0.5287206234634202, 'train_loss': 0.1948737668016688}\n",
      "Epoch 10/20\n"
     ]
    },
    {
     "name": "stderr",
     "output_type": "stream",
     "text": [
      "100%|██████████| 761/761 [01:06<00:00, 11.51it/s]\n"
     ]
    },
    {
     "name": "stdout",
     "output_type": "stream",
     "text": [
      "{'val_loss': 1.8644658453621954, 'val_accuracy': 0.6617386162034299, 'precision': 0.6536718941947376, 'recall': 0.6617386162034299, 'f1-score': 0.6403122245476092, 'macro_f1-score': 0.37188701927627654, 'balanced_accuracy': 0.36594800145644996, 'mcc': 0.5459482947203307, 'train_loss': 0.21167622645704978}\n",
      "Epoch 11/20\n"
     ]
    },
    {
     "name": "stderr",
     "output_type": "stream",
     "text": [
      "100%|██████████| 761/761 [01:06<00:00, 11.53it/s]\n"
     ]
    },
    {
     "name": "stdout",
     "output_type": "stream",
     "text": [
      "{'val_loss': 1.9006394873250205, 'val_accuracy': 0.618568894145476, 'precision': 0.6626084770678946, 'recall': 0.618568894145476, 'f1-score': 0.6205870636537979, 'macro_f1-score': 0.3625041045495406, 'balanced_accuracy': 0.37677047245362677, 'mcc': 0.5172343606754223, 'train_loss': 0.20430373337346835}\n",
      "Early stopping.\n",
      "\n",
      "[Fold 4]\n",
      "Label distribution after resampling:\n",
      "  label 0: 2000\n",
      "  label 1: 200\n",
      "  label 2: 200\n",
      "  label 3: 200\n",
      "  label 4: 206\n",
      "  label 5: 200\n",
      "  label 6: 200\n",
      "  label 7: 200\n",
      "  label 8: 200\n",
      "  label 9: 200\n",
      "  label 10: 200\n",
      "  label 11: 200\n",
      "  label 12: 200\n",
      "  label 13: 200\n",
      "  label 14: 200\n",
      "  label 15: 200\n",
      "  label 16: 200\n",
      "  label 17: 232\n",
      "  label 18: 200\n",
      "  label 19: 200\n",
      "  label 20: 200\n",
      "  label 21: 200\n",
      "  label 22: 200\n",
      "  label 23: 200\n",
      "  label 24: 200\n",
      "  label 25: 200\n",
      "  label 26: 200\n",
      "  label 27: 200\n",
      "  label 28: 200\n",
      "  label 29: 200\n",
      "  label 30: 200\n",
      "  label 31: 200\n",
      "  label 32: 200\n",
      "  label 33: 200\n",
      "  label 34: 200\n",
      "  label 35: 200\n",
      "  label 36: 200\n",
      "  label 37: 200\n",
      "  label 38: 200\n",
      "  label 39: 200\n",
      "  label 40: 200\n",
      "  label 41: 200\n",
      "  label 42: 200\n",
      "  label 43: 200\n",
      "  label 44: 200\n",
      "  label 45: 200\n",
      "  label 46: 200\n",
      "  label 47: 529\n",
      "  label 48: 201\n",
      "  label 49: 200\n",
      "model is bert-base-uncased cnn1filter234drop3\n",
      "Epoch 1/20\n"
     ]
    },
    {
     "name": "stderr",
     "output_type": "stream",
     "text": [
      "100%|██████████| 761/761 [01:05<00:00, 11.53it/s]\n"
     ]
    },
    {
     "name": "stdout",
     "output_type": "stream",
     "text": [
      "{'val_loss': 1.415987288052181, 'val_accuracy': 0.5966883500887049, 'precision': 0.6805108399709812, 'recall': 0.5966883500887049, 'f1-score': 0.6130561074956757, 'macro_f1-score': 0.38731342557903825, 'balanced_accuracy': 0.4515273691286518, 'mcc': 0.49047891248224507, 'train_loss': 1.9521272353211152}\n",
      "Epoch 2/20\n"
     ]
    },
    {
     "name": "stderr",
     "output_type": "stream",
     "text": [
      "100%|██████████| 761/761 [01:06<00:00, 11.52it/s]\n"
     ]
    },
    {
     "name": "stdout",
     "output_type": "stream",
     "text": [
      "{'val_loss': 1.2746152548857455, 'val_accuracy': 0.6599645180366647, 'precision': 0.6875507983029177, 'recall': 0.6599645180366647, 'f1-score': 0.6548549330213351, 'macro_f1-score': 0.4537473515098716, 'balanced_accuracy': 0.4662726611638092, 'mcc': 0.5635990227468584, 'train_loss': 0.6373217671316572}\n",
      "Epoch 3/20\n"
     ]
    },
    {
     "name": "stderr",
     "output_type": "stream",
     "text": [
      "100%|██████████| 761/761 [01:06<00:00, 11.51it/s]\n"
     ]
    },
    {
     "name": "stdout",
     "output_type": "stream",
     "text": [
      "{'val_loss': 1.4321099660306607, 'val_accuracy': 0.6321703134240094, 'precision': 0.6961993928919599, 'recall': 0.6321703134240094, 'f1-score': 0.6453275778768189, 'macro_f1-score': 0.4334136399065543, 'balanced_accuracy': 0.46248197194238466, 'mcc': 0.5430935514904077, 'train_loss': 0.3700140745020453}\n",
      "Epoch 4/20\n"
     ]
    },
    {
     "name": "stderr",
     "output_type": "stream",
     "text": [
      "100%|██████████| 761/761 [01:06<00:00, 11.46it/s]\n"
     ]
    },
    {
     "name": "stdout",
     "output_type": "stream",
     "text": [
      "{'val_loss': 1.5720820114859995, 'val_accuracy': 0.622708456534595, 'precision': 0.6773477253038745, 'recall': 0.622708456534595, 'f1-score': 0.6306491015856891, 'macro_f1-score': 0.4411570303638779, 'balanced_accuracy': 0.46228529008791147, 'mcc': 0.5295712191769716, 'train_loss': 0.2850897820732518}\n",
      "Epoch 5/20\n"
     ]
    },
    {
     "name": "stderr",
     "output_type": "stream",
     "text": [
      "100%|██████████| 761/761 [01:05<00:00, 11.67it/s]\n"
     ]
    },
    {
     "name": "stdout",
     "output_type": "stream",
     "text": [
      "{'val_loss': 1.511380560836702, 'val_accuracy': 0.6641040804257835, 'precision': 0.674971208144776, 'recall': 0.6641040804257835, 'f1-score': 0.6569291006827889, 'macro_f1-score': 0.43505901971253075, 'balanced_accuracy': 0.4442159408959703, 'mcc': 0.5573016160235073, 'train_loss': 0.2502365054711993}\n",
      "Early stopping.\n",
      "\n",
      "[Fold 5]\n",
      "Label distribution after resampling:\n",
      "  label 0: 2000\n",
      "  label 1: 200\n",
      "  label 2: 200\n",
      "  label 3: 200\n",
      "  label 4: 205\n",
      "  label 5: 200\n",
      "  label 6: 200\n",
      "  label 7: 200\n",
      "  label 8: 200\n",
      "  label 9: 200\n",
      "  label 10: 200\n",
      "  label 11: 200\n",
      "  label 12: 200\n",
      "  label 13: 200\n",
      "  label 14: 200\n",
      "  label 15: 200\n",
      "  label 16: 200\n",
      "  label 17: 231\n",
      "  label 18: 200\n",
      "  label 19: 200\n",
      "  label 20: 200\n",
      "  label 21: 200\n",
      "  label 22: 200\n",
      "  label 23: 200\n",
      "  label 24: 200\n",
      "  label 25: 200\n",
      "  label 26: 200\n",
      "  label 27: 200\n",
      "  label 28: 200\n",
      "  label 29: 200\n",
      "  label 30: 200\n",
      "  label 31: 200\n",
      "  label 32: 200\n",
      "  label 33: 200\n",
      "  label 34: 200\n",
      "  label 35: 200\n",
      "  label 36: 200\n",
      "  label 37: 200\n",
      "  label 38: 200\n",
      "  label 39: 200\n",
      "  label 40: 200\n",
      "  label 41: 200\n",
      "  label 42: 200\n",
      "  label 43: 200\n",
      "  label 44: 200\n",
      "  label 45: 200\n",
      "  label 46: 200\n",
      "  label 47: 529\n",
      "  label 48: 202\n",
      "  label 49: 200\n",
      "model is bert-base-uncased cnn1filter234drop3\n",
      "Epoch 1/20\n"
     ]
    },
    {
     "name": "stderr",
     "output_type": "stream",
     "text": [
      "100%|██████████| 761/761 [01:05<00:00, 11.54it/s]\n"
     ]
    },
    {
     "name": "stdout",
     "output_type": "stream",
     "text": [
      "{'val_loss': 1.4346226262596418, 'val_accuracy': 0.6053254437869823, 'precision': 0.6749321438153385, 'recall': 0.6053254437869823, 'f1-score': 0.6157556717305361, 'macro_f1-score': 0.36834919482190903, 'balanced_accuracy': 0.43518479986293024, 'mcc': 0.5019367286140324, 'train_loss': 1.9907270598270577}\n",
      "Epoch 2/20\n"
     ]
    },
    {
     "name": "stderr",
     "output_type": "stream",
     "text": [
      "100%|██████████| 761/761 [01:04<00:00, 11.71it/s]\n"
     ]
    },
    {
     "name": "stdout",
     "output_type": "stream",
     "text": [
      "{'val_loss': 1.2897733899782289, 'val_accuracy': 0.6739644970414201, 'precision': 0.6782519454255528, 'recall': 0.6739644970414201, 'f1-score': 0.6571049985790446, 'macro_f1-score': 0.39502526933400184, 'balanced_accuracy': 0.4043994016931906, 'mcc': 0.5644816394446165, 'train_loss': 0.6619923032438395}\n",
      "Epoch 3/20\n"
     ]
    },
    {
     "name": "stderr",
     "output_type": "stream",
     "text": [
      "100%|██████████| 761/761 [01:06<00:00, 11.51it/s]\n"
     ]
    },
    {
     "name": "stdout",
     "output_type": "stream",
     "text": [
      "{'val_loss': 1.3878669994619657, 'val_accuracy': 0.6757396449704142, 'precision': 0.6631384729484401, 'recall': 0.6757396449704142, 'f1-score': 0.6547162464685194, 'macro_f1-score': 0.39536092571980835, 'balanced_accuracy': 0.3854964046706106, 'mcc': 0.5610578036731755, 'train_loss': 0.3817871746370929}\n",
      "Epoch 4/20\n"
     ]
    },
    {
     "name": "stderr",
     "output_type": "stream",
     "text": [
      "100%|██████████| 761/761 [01:06<00:00, 11.53it/s]\n"
     ]
    },
    {
     "name": "stdout",
     "output_type": "stream",
     "text": [
      "{'val_loss': 1.4382819897442494, 'val_accuracy': 0.6662721893491125, 'precision': 0.670385747077616, 'recall': 0.6662721893491125, 'f1-score': 0.653118235476475, 'macro_f1-score': 0.4138350858126338, 'balanced_accuracy': 0.3983546177001026, 'mcc': 0.555362818269652, 'train_loss': 0.29172045201474356}\n",
      "Epoch 5/20\n"
     ]
    },
    {
     "name": "stderr",
     "output_type": "stream",
     "text": [
      "100%|██████████| 761/761 [01:06<00:00, 11.50it/s]\n"
     ]
    },
    {
     "name": "stdout",
     "output_type": "stream",
     "text": [
      "{'val_loss': 1.5386536703357157, 'val_accuracy': 0.6532544378698225, 'precision': 0.6792146877229173, 'recall': 0.6532544378698225, 'f1-score': 0.6523938862620206, 'macro_f1-score': 0.4040971866806596, 'balanced_accuracy': 0.4256398513517718, 'mcc': 0.5589897802827215, 'train_loss': 0.26298056510993023}\n",
      "Epoch 6/20\n"
     ]
    },
    {
     "name": "stderr",
     "output_type": "stream",
     "text": [
      "100%|██████████| 761/761 [01:05<00:00, 11.54it/s]\n"
     ]
    },
    {
     "name": "stdout",
     "output_type": "stream",
     "text": [
      "{'val_loss': 1.5824448422722097, 'val_accuracy': 0.6585798816568047, 'precision': 0.6635335976922522, 'recall': 0.6585798816568047, 'f1-score': 0.6495677491400873, 'macro_f1-score': 0.38640124043974017, 'balanced_accuracy': 0.3859011742219129, 'mcc': 0.5495260330143812, 'train_loss': 0.23178848028354318}\n",
      "Epoch 7/20\n"
     ]
    },
    {
     "name": "stderr",
     "output_type": "stream",
     "text": [
      "100%|██████████| 761/761 [01:06<00:00, 11.52it/s]\n"
     ]
    },
    {
     "name": "stdout",
     "output_type": "stream",
     "text": [
      "{'val_loss': 1.6965484103223063, 'val_accuracy': 0.6775147928994083, 'precision': 0.669063275542821, 'recall': 0.6775147928994083, 'f1-score': 0.6542787683629774, 'macro_f1-score': 0.38425581097655764, 'balanced_accuracy': 0.38039267239680635, 'mcc': 0.5672288697525419, 'train_loss': 0.22903749872269488}\n",
      "Early stopping.\n",
      "\n",
      " === bert-base-uncased + cnn1filter234drop3 + ros Final 5-fold Cross-Validation Results ===\n",
      "Total time: 3324 seconds\n",
      "Total time: 0 hrs 55 mins 24 secs\n",
      "val_loss: 1.6277\n",
      "val_accuracy: 0.6675\n",
      "precision: 0.6760\n",
      "recall: 0.6675\n",
      "f1-score: 0.6576\n",
      "macro_f1-score: 0.4277\n",
      "balanced_accuracy: 0.4297\n",
      "mcc: 0.5631\n",
      "train_loss: 0.3091\n",
      "▶ Running: bert-base-uncased + cnn1filter234drop5 + ros\n",
      "tokenizer is bert-base-uncased\n",
      "Using device: cuda\n",
      "CUDA Available: True\n",
      "CUDA Device: NVIDIA GeForce RTX 5070 Ti\n",
      "Current GPU Memory Allocated: 0.02 GB\n",
      "Current GPU Memory Cached: 3.07 GB\n",
      "\n",
      "[Fold 1]\n",
      "Label distribution after resampling:\n",
      "  label 0: 2000\n",
      "  label 1: 200\n",
      "  label 2: 200\n",
      "  label 3: 200\n",
      "  label 4: 205\n",
      "  label 5: 200\n",
      "  label 6: 200\n",
      "  label 7: 200\n",
      "  label 8: 200\n",
      "  label 9: 200\n",
      "  label 10: 200\n",
      "  label 11: 200\n",
      "  label 12: 200\n",
      "  label 13: 200\n",
      "  label 14: 200\n",
      "  label 15: 200\n",
      "  label 16: 200\n",
      "  label 17: 231\n",
      "  label 18: 200\n",
      "  label 19: 200\n",
      "  label 20: 200\n",
      "  label 21: 200\n",
      "  label 22: 200\n",
      "  label 23: 200\n",
      "  label 24: 200\n",
      "  label 25: 200\n",
      "  label 26: 200\n",
      "  label 27: 200\n",
      "  label 28: 200\n",
      "  label 29: 200\n",
      "  label 30: 200\n",
      "  label 31: 200\n",
      "  label 32: 200\n",
      "  label 33: 200\n",
      "  label 34: 200\n",
      "  label 35: 200\n",
      "  label 36: 200\n",
      "  label 37: 200\n",
      "  label 38: 200\n",
      "  label 39: 200\n",
      "  label 40: 200\n",
      "  label 41: 200\n",
      "  label 42: 200\n",
      "  label 43: 200\n",
      "  label 44: 200\n",
      "  label 45: 200\n",
      "  label 46: 200\n",
      "  label 47: 529\n",
      "  label 48: 202\n",
      "  label 49: 200\n",
      "model is bert-base-uncased cnn1filter234drop5\n",
      "Epoch 1/20\n"
     ]
    },
    {
     "name": "stderr",
     "output_type": "stream",
     "text": [
      "100%|██████████| 761/761 [01:06<00:00, 11.52it/s]\n"
     ]
    },
    {
     "name": "stdout",
     "output_type": "stream",
     "text": [
      "{'val_loss': 1.3991518869714916, 'val_accuracy': 0.6298048492016558, 'precision': 0.6324771101345622, 'recall': 0.6298048492016558, 'f1-score': 0.6074572721425542, 'macro_f1-score': 0.379591980908345, 'balanced_accuracy': 0.45230211637183615, 'mcc': 0.5108879352878185, 'train_loss': 2.1863455065133226}\n",
      "Epoch 2/20\n"
     ]
    },
    {
     "name": "stderr",
     "output_type": "stream",
     "text": [
      "100%|██████████| 761/761 [01:05<00:00, 11.53it/s]\n"
     ]
    },
    {
     "name": "stdout",
     "output_type": "stream",
     "text": [
      "{'val_loss': 1.350604716618106, 'val_accuracy': 0.6658781785925488, 'precision': 0.6614880977197444, 'recall': 0.6658781785925488, 'f1-score': 0.6445556271705404, 'macro_f1-score': 0.4301300943212719, 'balanced_accuracy': 0.4287312773619643, 'mcc': 0.5495074435146863, 'train_loss': 0.7972247660179645}\n",
      "Epoch 3/20\n"
     ]
    },
    {
     "name": "stderr",
     "output_type": "stream",
     "text": [
      "100%|██████████| 761/761 [01:06<00:00, 11.50it/s]\n"
     ]
    },
    {
     "name": "stdout",
     "output_type": "stream",
     "text": [
      "{'val_loss': 1.4591040099566837, 'val_accuracy': 0.644589000591366, 'precision': 0.6465836689650268, 'recall': 0.644589000591366, 'f1-score': 0.6288883663156529, 'macro_f1-score': 0.39965067842405927, 'balanced_accuracy': 0.4052463255962718, 'mcc': 0.5247050618084811, 'train_loss': 0.46774536826979474}\n",
      "Epoch 4/20\n"
     ]
    },
    {
     "name": "stderr",
     "output_type": "stream",
     "text": [
      "100%|██████████| 761/761 [01:05<00:00, 11.64it/s]\n"
     ]
    },
    {
     "name": "stdout",
     "output_type": "stream",
     "text": [
      "{'val_loss': 1.5115180333267968, 'val_accuracy': 0.6635127143701951, 'precision': 0.6681452197445189, 'recall': 0.6635127143701951, 'f1-score': 0.6531502783419858, 'macro_f1-score': 0.43119996009645545, 'balanced_accuracy': 0.43780268312187604, 'mcc': 0.5560076672732754, 'train_loss': 0.3569131694518705}\n",
      "Epoch 5/20\n"
     ]
    },
    {
     "name": "stderr",
     "output_type": "stream",
     "text": [
      "100%|██████████| 761/761 [01:05<00:00, 11.62it/s]\n"
     ]
    },
    {
     "name": "stdout",
     "output_type": "stream",
     "text": [
      "{'val_loss': 1.6294423069031734, 'val_accuracy': 0.6434062684801892, 'precision': 0.6609756990483205, 'recall': 0.6434062684801892, 'f1-score': 0.641410765654314, 'macro_f1-score': 0.42220941317201166, 'balanced_accuracy': 0.428155768873309, 'mcc': 0.5393001574488746, 'train_loss': 0.2920716081209892}\n",
      "Epoch 6/20\n"
     ]
    },
    {
     "name": "stderr",
     "output_type": "stream",
     "text": [
      "100%|██████████| 761/761 [01:05<00:00, 11.59it/s]\n"
     ]
    },
    {
     "name": "stdout",
     "output_type": "stream",
     "text": [
      "{'val_loss': 1.7902727172059834, 'val_accuracy': 0.6611472501478415, 'precision': 0.6802652107968421, 'recall': 0.6611472501478415, 'f1-score': 0.6565800258123374, 'macro_f1-score': 0.43083939411763134, 'balanced_accuracy': 0.44030645462021134, 'mcc': 0.5594180117280849, 'train_loss': 0.2616837819231706}\n",
      "Epoch 7/20\n"
     ]
    },
    {
     "name": "stderr",
     "output_type": "stream",
     "text": [
      "100%|██████████| 761/761 [01:05<00:00, 11.71it/s]\n"
     ]
    },
    {
     "name": "stdout",
     "output_type": "stream",
     "text": [
      "{'val_loss': 1.7730015083303992, 'val_accuracy': 0.6173861620342992, 'precision': 0.6670923839608891, 'recall': 0.6173861620342992, 'f1-score': 0.6304781181054574, 'macro_f1-score': 0.41944854187076275, 'balanced_accuracy': 0.4293212602078449, 'mcc': 0.5238749239528209, 'train_loss': 0.25899879529377084}\n",
      "Early stopping.\n",
      "\n",
      "[Fold 2]\n",
      "Label distribution after resampling:\n",
      "  label 0: 2000\n",
      "  label 1: 200\n",
      "  label 2: 200\n",
      "  label 3: 200\n",
      "  label 4: 206\n",
      "  label 5: 200\n",
      "  label 6: 200\n",
      "  label 7: 200\n",
      "  label 8: 200\n",
      "  label 9: 200\n",
      "  label 10: 200\n",
      "  label 11: 200\n",
      "  label 12: 200\n",
      "  label 13: 200\n",
      "  label 14: 200\n",
      "  label 15: 200\n",
      "  label 16: 200\n",
      "  label 17: 231\n",
      "  label 18: 200\n",
      "  label 19: 200\n",
      "  label 20: 200\n",
      "  label 21: 200\n",
      "  label 22: 200\n",
      "  label 23: 200\n",
      "  label 24: 200\n",
      "  label 25: 200\n",
      "  label 26: 200\n",
      "  label 27: 200\n",
      "  label 28: 200\n",
      "  label 29: 200\n",
      "  label 30: 200\n",
      "  label 31: 200\n",
      "  label 32: 200\n",
      "  label 33: 200\n",
      "  label 34: 200\n",
      "  label 35: 200\n",
      "  label 36: 200\n",
      "  label 37: 200\n",
      "  label 38: 200\n",
      "  label 39: 200\n",
      "  label 40: 200\n",
      "  label 41: 200\n",
      "  label 42: 200\n",
      "  label 43: 200\n",
      "  label 44: 200\n",
      "  label 45: 200\n",
      "  label 46: 200\n",
      "  label 47: 528\n",
      "  label 48: 202\n",
      "  label 49: 200\n",
      "model is bert-base-uncased cnn1filter234drop5\n",
      "Epoch 1/20\n"
     ]
    },
    {
     "name": "stderr",
     "output_type": "stream",
     "text": [
      "100%|██████████| 761/761 [01:05<00:00, 11.60it/s]\n"
     ]
    },
    {
     "name": "stdout",
     "output_type": "stream",
     "text": [
      "{'val_loss': 1.3868633117878213, 'val_accuracy': 0.618568894145476, 'precision': 0.6268832301962968, 'recall': 0.618568894145476, 'f1-score': 0.605225433276239, 'macro_f1-score': 0.36868765588673347, 'balanced_accuracy': 0.39696969172886853, 'mcc': 0.48727630984573267, 'train_loss': 2.196319106295607}\n",
      "Epoch 2/20\n"
     ]
    },
    {
     "name": "stderr",
     "output_type": "stream",
     "text": [
      "100%|██████████| 761/761 [01:05<00:00, 11.64it/s]\n"
     ]
    },
    {
     "name": "stdout",
     "output_type": "stream",
     "text": [
      "{'val_loss': 1.2561977637826272, 'val_accuracy': 0.6599645180366647, 'precision': 0.6841001104130439, 'recall': 0.6599645180366647, 'f1-score': 0.6583169596054262, 'macro_f1-score': 0.4305860027894481, 'balanced_accuracy': 0.44147547428849004, 'mcc': 0.5525119620169232, 'train_loss': 0.7967933713117035}\n",
      "Epoch 3/20\n"
     ]
    },
    {
     "name": "stderr",
     "output_type": "stream",
     "text": [
      "100%|██████████| 761/761 [01:05<00:00, 11.69it/s]\n"
     ]
    },
    {
     "name": "stdout",
     "output_type": "stream",
     "text": [
      "{'val_loss': 1.3627792303011101, 'val_accuracy': 0.6712004730928445, 'precision': 0.6560197373685437, 'recall': 0.6712004730928445, 'f1-score': 0.6491218617895108, 'macro_f1-score': 0.41155585927556765, 'balanced_accuracy': 0.40073648625855823, 'mcc': 0.5560633648676271, 'train_loss': 0.4637289934090379}\n",
      "Epoch 4/20\n"
     ]
    },
    {
     "name": "stderr",
     "output_type": "stream",
     "text": [
      "100%|██████████| 761/761 [01:05<00:00, 11.56it/s]\n"
     ]
    },
    {
     "name": "stdout",
     "output_type": "stream",
     "text": [
      "{'val_loss': 1.4934726506471634, 'val_accuracy': 0.6682436428149024, 'precision': 0.6607833133724317, 'recall': 0.6682436428149024, 'f1-score': 0.6545259364920201, 'macro_f1-score': 0.4255087343766754, 'balanced_accuracy': 0.45028642198234087, 'mcc': 0.5593891510446849, 'train_loss': 0.35270912805266197}\n",
      "Epoch 5/20\n"
     ]
    },
    {
     "name": "stderr",
     "output_type": "stream",
     "text": [
      "100%|██████████| 761/761 [01:04<00:00, 11.73it/s]\n"
     ]
    },
    {
     "name": "stdout",
     "output_type": "stream",
     "text": [
      "{'val_loss': 1.556879848804114, 'val_accuracy': 0.6587817859254879, 'precision': 0.6581365051775145, 'recall': 0.6587817859254879, 'f1-score': 0.6480007218867025, 'macro_f1-score': 0.4180781673176128, 'balanced_accuracy': 0.4175704430419628, 'mcc': 0.5455639506562855, 'train_loss': 0.2860514783507284}\n",
      "Early stopping.\n",
      "\n",
      "[Fold 3]\n",
      "Label distribution after resampling:\n",
      "  label 0: 2000\n",
      "  label 1: 200\n",
      "  label 2: 200\n",
      "  label 3: 200\n",
      "  label 4: 206\n",
      "  label 5: 200\n",
      "  label 6: 200\n",
      "  label 7: 200\n",
      "  label 8: 200\n",
      "  label 9: 200\n",
      "  label 10: 200\n",
      "  label 11: 200\n",
      "  label 12: 200\n",
      "  label 13: 200\n",
      "  label 14: 200\n",
      "  label 15: 200\n",
      "  label 16: 200\n",
      "  label 17: 231\n",
      "  label 18: 200\n",
      "  label 19: 200\n",
      "  label 20: 200\n",
      "  label 21: 200\n",
      "  label 22: 200\n",
      "  label 23: 200\n",
      "  label 24: 200\n",
      "  label 25: 200\n",
      "  label 26: 200\n",
      "  label 27: 200\n",
      "  label 28: 200\n",
      "  label 29: 200\n",
      "  label 30: 200\n",
      "  label 31: 200\n",
      "  label 32: 200\n",
      "  label 33: 200\n",
      "  label 34: 200\n",
      "  label 35: 200\n",
      "  label 36: 200\n",
      "  label 37: 200\n",
      "  label 38: 200\n",
      "  label 39: 200\n",
      "  label 40: 200\n",
      "  label 41: 200\n",
      "  label 42: 200\n",
      "  label 43: 200\n",
      "  label 44: 200\n",
      "  label 45: 200\n",
      "  label 46: 200\n",
      "  label 47: 529\n",
      "  label 48: 201\n",
      "  label 49: 200\n",
      "model is bert-base-uncased cnn1filter234drop5\n",
      "Epoch 1/20\n"
     ]
    },
    {
     "name": "stderr",
     "output_type": "stream",
     "text": [
      "100%|██████████| 761/761 [01:06<00:00, 11.53it/s]\n"
     ]
    },
    {
     "name": "stdout",
     "output_type": "stream",
     "text": [
      "{'val_loss': 1.390702763818345, 'val_accuracy': 0.6238911886457718, 'precision': 0.620369662948802, 'recall': 0.6238911886457718, 'f1-score': 0.6070793362824847, 'macro_f1-score': 0.3422501895311887, 'balanced_accuracy': 0.3762505332435096, 'mcc': 0.4987164654315838, 'train_loss': 2.1499450436637844}\n",
      "Epoch 2/20\n"
     ]
    },
    {
     "name": "stderr",
     "output_type": "stream",
     "text": [
      "100%|██████████| 761/761 [01:05<00:00, 11.65it/s]\n"
     ]
    },
    {
     "name": "stdout",
     "output_type": "stream",
     "text": [
      "{'val_loss': 1.4107040248389513, 'val_accuracy': 0.6351271437019516, 'precision': 0.6813662847870021, 'recall': 0.6351271437019516, 'f1-score': 0.623560410165971, 'macro_f1-score': 0.3733299095699049, 'balanced_accuracy': 0.4060122322396252, 'mcc': 0.5165404266982724, 'train_loss': 0.7867387396903921}\n",
      "Epoch 3/20\n"
     ]
    },
    {
     "name": "stderr",
     "output_type": "stream",
     "text": [
      "100%|██████████| 761/761 [01:05<00:00, 11.67it/s]\n"
     ]
    },
    {
     "name": "stdout",
     "output_type": "stream",
     "text": [
      "{'val_loss': 1.4864277046806407, 'val_accuracy': 0.6351271437019516, 'precision': 0.6656288467598038, 'recall': 0.6351271437019516, 'f1-score': 0.6342742188104814, 'macro_f1-score': 0.3776513141475349, 'balanced_accuracy': 0.37928829106880385, 'mcc': 0.5258080906140877, 'train_loss': 0.4708535102160547}\n",
      "Epoch 4/20\n"
     ]
    },
    {
     "name": "stderr",
     "output_type": "stream",
     "text": [
      "100%|██████████| 761/761 [01:05<00:00, 11.65it/s]\n"
     ]
    },
    {
     "name": "stdout",
     "output_type": "stream",
     "text": [
      "{'val_loss': 1.5388574982589145, 'val_accuracy': 0.6700177409816677, 'precision': 0.6554347405785194, 'recall': 0.6700177409816677, 'f1-score': 0.653761384159594, 'macro_f1-score': 0.3795018730484241, 'balanced_accuracy': 0.37575695525242786, 'mcc': 0.5591970830438622, 'train_loss': 0.34663483066760914}\n",
      "Epoch 5/20\n"
     ]
    },
    {
     "name": "stderr",
     "output_type": "stream",
     "text": [
      "100%|██████████| 761/761 [01:06<00:00, 11.49it/s]\n"
     ]
    },
    {
     "name": "stdout",
     "output_type": "stream",
     "text": [
      "{'val_loss': 1.6269047950517457, 'val_accuracy': 0.6345357776463632, 'precision': 0.6575624230854346, 'recall': 0.6345357776463632, 'f1-score': 0.6297809024434528, 'macro_f1-score': 0.3569173804396774, 'balanced_accuracy': 0.35508614141893247, 'mcc': 0.5192502276096781, 'train_loss': 0.2921511970280514}\n",
      "Epoch 6/20\n"
     ]
    },
    {
     "name": "stderr",
     "output_type": "stream",
     "text": [
      "100%|██████████| 761/761 [01:06<00:00, 11.46it/s]\n"
     ]
    },
    {
     "name": "stdout",
     "output_type": "stream",
     "text": [
      "{'val_loss': 1.7020363180704836, 'val_accuracy': 0.6617386162034299, 'precision': 0.6488567286648792, 'recall': 0.6617386162034299, 'f1-score': 0.6336087774023794, 'macro_f1-score': 0.3535190198685333, 'balanced_accuracy': 0.34248041491024783, 'mcc': 0.5387228929062633, 'train_loss': 0.26874057419350894}\n",
      "Epoch 7/20\n"
     ]
    },
    {
     "name": "stderr",
     "output_type": "stream",
     "text": [
      "100%|██████████| 761/761 [01:06<00:00, 11.50it/s]\n"
     ]
    },
    {
     "name": "stdout",
     "output_type": "stream",
     "text": [
      "{'val_loss': 1.679405947620014, 'val_accuracy': 0.6528681253696038, 'precision': 0.6719497859511947, 'recall': 0.6528681253696038, 'f1-score': 0.6514884069271581, 'macro_f1-score': 0.37654613037670887, 'balanced_accuracy': 0.39680487279527266, 'mcc': 0.5519070809996535, 'train_loss': 0.2512160625159447}\n",
      "Early stopping.\n",
      "\n",
      "[Fold 4]\n",
      "Label distribution after resampling:\n",
      "  label 0: 2000\n",
      "  label 1: 200\n",
      "  label 2: 200\n",
      "  label 3: 200\n",
      "  label 4: 206\n",
      "  label 5: 200\n",
      "  label 6: 200\n",
      "  label 7: 200\n",
      "  label 8: 200\n",
      "  label 9: 200\n",
      "  label 10: 200\n",
      "  label 11: 200\n",
      "  label 12: 200\n",
      "  label 13: 200\n",
      "  label 14: 200\n",
      "  label 15: 200\n",
      "  label 16: 200\n",
      "  label 17: 232\n",
      "  label 18: 200\n",
      "  label 19: 200\n",
      "  label 20: 200\n",
      "  label 21: 200\n",
      "  label 22: 200\n",
      "  label 23: 200\n",
      "  label 24: 200\n",
      "  label 25: 200\n",
      "  label 26: 200\n",
      "  label 27: 200\n",
      "  label 28: 200\n",
      "  label 29: 200\n",
      "  label 30: 200\n",
      "  label 31: 200\n",
      "  label 32: 200\n",
      "  label 33: 200\n",
      "  label 34: 200\n",
      "  label 35: 200\n",
      "  label 36: 200\n",
      "  label 37: 200\n",
      "  label 38: 200\n",
      "  label 39: 200\n",
      "  label 40: 200\n",
      "  label 41: 200\n",
      "  label 42: 200\n",
      "  label 43: 200\n",
      "  label 44: 200\n",
      "  label 45: 200\n",
      "  label 46: 200\n",
      "  label 47: 529\n",
      "  label 48: 201\n",
      "  label 49: 200\n",
      "model is bert-base-uncased cnn1filter234drop5\n",
      "Epoch 1/20\n"
     ]
    },
    {
     "name": "stderr",
     "output_type": "stream",
     "text": [
      "100%|██████████| 761/761 [01:06<00:00, 11.50it/s]\n"
     ]
    },
    {
     "name": "stdout",
     "output_type": "stream",
     "text": [
      "{'val_loss': 1.3943861143768959, 'val_accuracy': 0.612655233589592, 'precision': 0.638584006565962, 'recall': 0.612655233589592, 'f1-score': 0.6042283464397372, 'macro_f1-score': 0.3659912633365538, 'balanced_accuracy': 0.43025667726927347, 'mcc': 0.5018224256928892, 'train_loss': 2.219248677091122}\n",
      "Epoch 2/20\n"
     ]
    },
    {
     "name": "stderr",
     "output_type": "stream",
     "text": [
      "100%|██████████| 761/761 [01:06<00:00, 11.51it/s]\n"
     ]
    },
    {
     "name": "stdout",
     "output_type": "stream",
     "text": [
      "{'val_loss': 1.3544946627796821, 'val_accuracy': 0.6197516262566529, 'precision': 0.6745909987317524, 'recall': 0.6197516262566529, 'f1-score': 0.6326626940653493, 'macro_f1-score': 0.4109087317331802, 'balanced_accuracy': 0.4463423341141866, 'mcc': 0.522421816492104, 'train_loss': 0.7835897994417399}\n",
      "Epoch 3/20\n"
     ]
    },
    {
     "name": "stderr",
     "output_type": "stream",
     "text": [
      "100%|██████████| 761/761 [01:06<00:00, 11.48it/s]\n"
     ]
    },
    {
     "name": "stdout",
     "output_type": "stream",
     "text": [
      "{'val_loss': 1.4661854778258305, 'val_accuracy': 0.6221170904790065, 'precision': 0.6831589408913571, 'recall': 0.6221170904790065, 'f1-score': 0.635010551622381, 'macro_f1-score': 0.4353053296922132, 'balanced_accuracy': 0.47499023437459104, 'mcc': 0.538258199023315, 'train_loss': 0.4398989336915148}\n",
      "Epoch 4/20\n"
     ]
    },
    {
     "name": "stderr",
     "output_type": "stream",
     "text": [
      "100%|██████████| 761/761 [01:06<00:00, 11.49it/s]\n"
     ]
    },
    {
     "name": "stdout",
     "output_type": "stream",
     "text": [
      "{'val_loss': 1.4444740185478948, 'val_accuracy': 0.6380839739798936, 'precision': 0.6839190755452729, 'recall': 0.6380839739798936, 'f1-score': 0.6478105976152624, 'macro_f1-score': 0.4296575798668522, 'balanced_accuracy': 0.46258133920942746, 'mcc': 0.539985585861398, 'train_loss': 0.33061571304322895}\n",
      "Epoch 5/20\n"
     ]
    },
    {
     "name": "stderr",
     "output_type": "stream",
     "text": [
      "100%|██████████| 761/761 [01:05<00:00, 11.54it/s]\n"
     ]
    },
    {
     "name": "stdout",
     "output_type": "stream",
     "text": [
      "{'val_loss': 1.6520381347750717, 'val_accuracy': 0.6522767593140154, 'precision': 0.6608208704315957, 'recall': 0.6522767593140154, 'f1-score': 0.6346106411860037, 'macro_f1-score': 0.4172742056649572, 'balanced_accuracy': 0.4005550486611649, 'mcc': 0.5356084570545058, 'train_loss': 0.2858008651868116}\n",
      "Epoch 6/20\n"
     ]
    },
    {
     "name": "stderr",
     "output_type": "stream",
     "text": [
      "100%|██████████| 761/761 [01:05<00:00, 11.55it/s]\n"
     ]
    },
    {
     "name": "stdout",
     "output_type": "stream",
     "text": [
      "{'val_loss': 1.5964256820251357, 'val_accuracy': 0.6700177409816677, 'precision': 0.6860053439359003, 'recall': 0.6700177409816677, 'f1-score': 0.6680116894307883, 'macro_f1-score': 0.43371535574280884, 'balanced_accuracy': 0.45653116130423604, 'mcc': 0.5772640827685851, 'train_loss': 0.25861624086278145}\n",
      "Early stopping.\n",
      "\n",
      "[Fold 5]\n",
      "Label distribution after resampling:\n",
      "  label 0: 2000\n",
      "  label 1: 200\n",
      "  label 2: 200\n",
      "  label 3: 200\n",
      "  label 4: 205\n",
      "  label 5: 200\n",
      "  label 6: 200\n",
      "  label 7: 200\n",
      "  label 8: 200\n",
      "  label 9: 200\n",
      "  label 10: 200\n",
      "  label 11: 200\n",
      "  label 12: 200\n",
      "  label 13: 200\n",
      "  label 14: 200\n",
      "  label 15: 200\n",
      "  label 16: 200\n",
      "  label 17: 231\n",
      "  label 18: 200\n",
      "  label 19: 200\n",
      "  label 20: 200\n",
      "  label 21: 200\n",
      "  label 22: 200\n",
      "  label 23: 200\n",
      "  label 24: 200\n",
      "  label 25: 200\n",
      "  label 26: 200\n",
      "  label 27: 200\n",
      "  label 28: 200\n",
      "  label 29: 200\n",
      "  label 30: 200\n",
      "  label 31: 200\n",
      "  label 32: 200\n",
      "  label 33: 200\n",
      "  label 34: 200\n",
      "  label 35: 200\n",
      "  label 36: 200\n",
      "  label 37: 200\n",
      "  label 38: 200\n",
      "  label 39: 200\n",
      "  label 40: 200\n",
      "  label 41: 200\n",
      "  label 42: 200\n",
      "  label 43: 200\n",
      "  label 44: 200\n",
      "  label 45: 200\n",
      "  label 46: 200\n",
      "  label 47: 529\n",
      "  label 48: 202\n",
      "  label 49: 200\n",
      "model is bert-base-uncased cnn1filter234drop5\n",
      "Epoch 1/20\n"
     ]
    },
    {
     "name": "stderr",
     "output_type": "stream",
     "text": [
      "100%|██████████| 761/761 [01:05<00:00, 11.54it/s]\n"
     ]
    },
    {
     "name": "stdout",
     "output_type": "stream",
     "text": [
      "{'val_loss': 1.3762562502667588, 'val_accuracy': 0.6331360946745562, 'precision': 0.6054279428055244, 'recall': 0.6331360946745562, 'f1-score': 0.6018624339730347, 'macro_f1-score': 0.3382829125908242, 'balanced_accuracy': 0.38998005120034945, 'mcc': 0.5073123368062341, 'train_loss': 2.1938506458419695}\n",
      "Epoch 2/20\n"
     ]
    },
    {
     "name": "stderr",
     "output_type": "stream",
     "text": [
      "100%|██████████| 761/761 [01:06<00:00, 11.52it/s]\n"
     ]
    },
    {
     "name": "stdout",
     "output_type": "stream",
     "text": [
      "{'val_loss': 1.3180474622069664, 'val_accuracy': 0.6526627218934912, 'precision': 0.6882107357689662, 'recall': 0.6526627218934912, 'f1-score': 0.6576076420520205, 'macro_f1-score': 0.394715048147185, 'balanced_accuracy': 0.4193708287273787, 'mcc': 0.5611966368948614, 'train_loss': 0.7579970894168461}\n",
      "Epoch 3/20\n"
     ]
    },
    {
     "name": "stderr",
     "output_type": "stream",
     "text": [
      "100%|██████████| 761/761 [01:05<00:00, 11.53it/s]\n"
     ]
    },
    {
     "name": "stdout",
     "output_type": "stream",
     "text": [
      "{'val_loss': 1.4198244742627413, 'val_accuracy': 0.6473372781065089, 'precision': 0.6821246394570314, 'recall': 0.6473372781065089, 'f1-score': 0.6508829776953593, 'macro_f1-score': 0.3889595993395544, 'balanced_accuracy': 0.4184037572734349, 'mcc': 0.550699241133032, 'train_loss': 0.4458641375949834}\n",
      "Epoch 4/20\n"
     ]
    },
    {
     "name": "stderr",
     "output_type": "stream",
     "text": [
      "100%|██████████| 761/761 [01:05<00:00, 11.55it/s]\n"
     ]
    },
    {
     "name": "stdout",
     "output_type": "stream",
     "text": [
      "{'val_loss': 1.4575516296164044, 'val_accuracy': 0.6869822485207101, 'precision': 0.6826333250501677, 'recall': 0.6869822485207101, 'f1-score': 0.6696624092156602, 'macro_f1-score': 0.4083522284061632, 'balanced_accuracy': 0.40003717844085934, 'mcc': 0.5794357691752456, 'train_loss': 0.3321041258152344}\n",
      "Epoch 5/20\n"
     ]
    },
    {
     "name": "stderr",
     "output_type": "stream",
     "text": [
      "100%|██████████| 761/761 [01:05<00:00, 11.56it/s]\n"
     ]
    },
    {
     "name": "stdout",
     "output_type": "stream",
     "text": [
      "{'val_loss': 1.608644425868988, 'val_accuracy': 0.6568047337278107, 'precision': 0.666129811201818, 'recall': 0.6568047337278107, 'f1-score': 0.6479727391288859, 'macro_f1-score': 0.4152157279307565, 'balanced_accuracy': 0.421398835819283, 'mcc': 0.5456346978475434, 'train_loss': 0.2917729001320928}\n",
      "Epoch 6/20\n"
     ]
    },
    {
     "name": "stderr",
     "output_type": "stream",
     "text": [
      "100%|██████████| 761/761 [01:06<00:00, 11.52it/s]\n"
     ]
    },
    {
     "name": "stdout",
     "output_type": "stream",
     "text": [
      "{'val_loss': 1.731020757717625, 'val_accuracy': 0.6384615384615384, 'precision': 0.6803279068277887, 'recall': 0.6384615384615384, 'f1-score': 0.6448399157584483, 'macro_f1-score': 0.39810915012137904, 'balanced_accuracy': 0.40779772839438316, 'mcc': 0.5432557948175388, 'train_loss': 0.25266774967875766}\n",
      "Epoch 7/20\n"
     ]
    },
    {
     "name": "stderr",
     "output_type": "stream",
     "text": [
      "100%|██████████| 761/761 [01:06<00:00, 11.51it/s]\n"
     ]
    },
    {
     "name": "stdout",
     "output_type": "stream",
     "text": [
      "{'val_loss': 1.7041786304622326, 'val_accuracy': 0.6757396449704142, 'precision': 0.6808937849134339, 'recall': 0.6757396449704142, 'f1-score': 0.6644890810043725, 'macro_f1-score': 0.409344594102727, 'balanced_accuracy': 0.38834828143662486, 'mcc': 0.5643883104998944, 'train_loss': 0.23870524175651125}\n",
      "Epoch 8/20\n"
     ]
    },
    {
     "name": "stderr",
     "output_type": "stream",
     "text": [
      "100%|██████████| 761/761 [01:06<00:00, 11.48it/s]\n"
     ]
    },
    {
     "name": "stdout",
     "output_type": "stream",
     "text": [
      "{'val_loss': 1.7740170792588648, 'val_accuracy': 0.6609467455621302, 'precision': 0.6925765712772045, 'recall': 0.6609467455621302, 'f1-score': 0.6603836503057884, 'macro_f1-score': 0.4202662809562744, 'balanced_accuracy': 0.41898435086488744, 'mcc': 0.5641538908268956, 'train_loss': 0.24325953597513747}\n",
      "Epoch 9/20\n"
     ]
    },
    {
     "name": "stderr",
     "output_type": "stream",
     "text": [
      "100%|██████████| 761/761 [01:06<00:00, 11.50it/s]\n"
     ]
    },
    {
     "name": "stdout",
     "output_type": "stream",
     "text": [
      "{'val_loss': 1.7518736273050308, 'val_accuracy': 0.6520710059171597, 'precision': 0.6772094339663346, 'recall': 0.6520710059171597, 'f1-score': 0.6551944738020224, 'macro_f1-score': 0.3907598598391462, 'balanced_accuracy': 0.42033828367618775, 'mcc': 0.5554774145038607, 'train_loss': 0.24024843144672342}\n",
      "Epoch 10/20\n"
     ]
    },
    {
     "name": "stderr",
     "output_type": "stream",
     "text": [
      "100%|██████████| 761/761 [01:06<00:00, 11.50it/s]\n"
     ]
    },
    {
     "name": "stdout",
     "output_type": "stream",
     "text": [
      "{'val_loss': 1.6509038004672751, 'val_accuracy': 0.6692307692307692, 'precision': 0.6833846269837963, 'recall': 0.6692307692307692, 'f1-score': 0.6642399427598489, 'macro_f1-score': 0.40016948044931766, 'balanced_accuracy': 0.40627450106468616, 'mcc': 0.5679364279880313, 'train_loss': 0.2190408797482758}\n",
      "Epoch 11/20\n"
     ]
    },
    {
     "name": "stderr",
     "output_type": "stream",
     "text": [
      "100%|██████████| 761/761 [01:06<00:00, 11.45it/s]\n"
     ]
    },
    {
     "name": "stdout",
     "output_type": "stream",
     "text": [
      "{'val_loss': 1.7599666726617318, 'val_accuracy': 0.6485207100591716, 'precision': 0.6630889138707008, 'recall': 0.6485207100591716, 'f1-score': 0.6409085235384976, 'macro_f1-score': 0.38890916732697883, 'balanced_accuracy': 0.4063681471168898, 'mcc': 0.5463634917615233, 'train_loss': 0.21226345603635752}\n",
      "Early stopping.\n",
      "\n",
      " === bert-base-uncased + cnn1filter234drop5 + ros Final 5-fold Cross-Validation Results ===\n",
      "Total time: 2533 seconds\n",
      "Total time: 0 hrs 42 mins 13 secs\n",
      "val_loss: 1.5094\n",
      "val_accuracy: 0.6553\n",
      "precision: 0.6767\n",
      "recall: 0.6553\n",
      "f1-score: 0.6521\n",
      "macro_f1-score: 0.4194\n",
      "balanced_accuracy: 0.4298\n",
      "mcc: 0.5540\n",
      "train_loss: 0.4367\n",
      "▶ Running: bert-base-uncased + cnn1filter345drop3 + ros\n",
      "tokenizer is bert-base-uncased\n",
      "Using device: cuda\n",
      "CUDA Available: True\n",
      "CUDA Device: NVIDIA GeForce RTX 5070 Ti\n",
      "Current GPU Memory Allocated: 0.02 GB\n",
      "Current GPU Memory Cached: 3.07 GB\n",
      "\n",
      "[Fold 1]\n",
      "Label distribution after resampling:\n",
      "  label 0: 2000\n",
      "  label 1: 200\n",
      "  label 2: 200\n",
      "  label 3: 200\n",
      "  label 4: 205\n",
      "  label 5: 200\n",
      "  label 6: 200\n",
      "  label 7: 200\n",
      "  label 8: 200\n",
      "  label 9: 200\n",
      "  label 10: 200\n",
      "  label 11: 200\n",
      "  label 12: 200\n",
      "  label 13: 200\n",
      "  label 14: 200\n",
      "  label 15: 200\n",
      "  label 16: 200\n",
      "  label 17: 231\n",
      "  label 18: 200\n",
      "  label 19: 200\n",
      "  label 20: 200\n",
      "  label 21: 200\n",
      "  label 22: 200\n",
      "  label 23: 200\n",
      "  label 24: 200\n",
      "  label 25: 200\n",
      "  label 26: 200\n",
      "  label 27: 200\n",
      "  label 28: 200\n",
      "  label 29: 200\n",
      "  label 30: 200\n",
      "  label 31: 200\n",
      "  label 32: 200\n",
      "  label 33: 200\n",
      "  label 34: 200\n",
      "  label 35: 200\n",
      "  label 36: 200\n",
      "  label 37: 200\n",
      "  label 38: 200\n",
      "  label 39: 200\n",
      "  label 40: 200\n",
      "  label 41: 200\n",
      "  label 42: 200\n",
      "  label 43: 200\n",
      "  label 44: 200\n",
      "  label 45: 200\n",
      "  label 46: 200\n",
      "  label 47: 529\n",
      "  label 48: 202\n",
      "  label 49: 200\n",
      "model is bert-base-uncased cnn1filter345drop3\n",
      "Epoch 1/20\n"
     ]
    },
    {
     "name": "stderr",
     "output_type": "stream",
     "text": [
      "100%|██████████| 761/761 [01:06<00:00, 11.48it/s]\n"
     ]
    },
    {
     "name": "stdout",
     "output_type": "stream",
     "text": [
      "{'val_loss': 1.4373042808388763, 'val_accuracy': 0.6008279124778237, 'precision': 0.6761593313143983, 'recall': 0.6008279124778237, 'f1-score': 0.603603282915256, 'macro_f1-score': 0.3712335624917546, 'balanced_accuracy': 0.4337004210193666, 'mcc': 0.5020163439132045, 'train_loss': 1.9204865771978505}\n",
      "Epoch 2/20\n"
     ]
    },
    {
     "name": "stderr",
     "output_type": "stream",
     "text": [
      "100%|██████████| 761/761 [01:06<00:00, 11.46it/s]\n"
     ]
    },
    {
     "name": "stdout",
     "output_type": "stream",
     "text": [
      "{'val_loss': 1.343552624841906, 'val_accuracy': 0.6641040804257835, 'precision': 0.6794283174686018, 'recall': 0.6641040804257835, 'f1-score': 0.6507440896201149, 'macro_f1-score': 0.4370585207881795, 'balanced_accuracy': 0.4527030367399679, 'mcc': 0.560715519136767, 'train_loss': 0.6447953349774833}\n",
      "Epoch 3/20\n"
     ]
    },
    {
     "name": "stderr",
     "output_type": "stream",
     "text": [
      "100%|██████████| 761/761 [01:06<00:00, 11.40it/s]\n"
     ]
    },
    {
     "name": "stdout",
     "output_type": "stream",
     "text": [
      "{'val_loss': 1.457949793001391, 'val_accuracy': 0.6800709639266707, 'precision': 0.6735660273454869, 'recall': 0.6800709639266707, 'f1-score': 0.6602157920976276, 'macro_f1-score': 0.4311204809063555, 'balanced_accuracy': 0.42008056624895396, 'mcc': 0.5687516200561479, 'train_loss': 0.37916549471661}\n",
      "Epoch 4/20\n"
     ]
    },
    {
     "name": "stderr",
     "output_type": "stream",
     "text": [
      "100%|██████████| 761/761 [01:06<00:00, 11.42it/s]\n"
     ]
    },
    {
     "name": "stdout",
     "output_type": "stream",
     "text": [
      "{'val_loss': 1.5285746407396388, 'val_accuracy': 0.6587817859254879, 'precision': 0.6592304245048596, 'recall': 0.6587817859254879, 'f1-score': 0.6430705368023617, 'macro_f1-score': 0.39072858748212047, 'balanced_accuracy': 0.3909916813487293, 'mcc': 0.5440047986434815, 'train_loss': 0.30873270213369003}\n",
      "Epoch 5/20\n"
     ]
    },
    {
     "name": "stderr",
     "output_type": "stream",
     "text": [
      "100%|██████████| 761/761 [01:06<00:00, 11.42it/s]\n"
     ]
    },
    {
     "name": "stdout",
     "output_type": "stream",
     "text": [
      "{'val_loss': 1.6530526527818643, 'val_accuracy': 0.6629213483146067, 'precision': 0.6732178760699137, 'recall': 0.6629213483146067, 'f1-score': 0.6586417326875292, 'macro_f1-score': 0.41908194766638673, 'balanced_accuracy': 0.42413020762363723, 'mcc': 0.5598531084992416, 'train_loss': 0.26770617962727977}\n",
      "Early stopping.\n",
      "\n",
      "[Fold 2]\n",
      "Label distribution after resampling:\n",
      "  label 0: 2000\n",
      "  label 1: 200\n",
      "  label 2: 200\n",
      "  label 3: 200\n",
      "  label 4: 206\n",
      "  label 5: 200\n",
      "  label 6: 200\n",
      "  label 7: 200\n",
      "  label 8: 200\n",
      "  label 9: 200\n",
      "  label 10: 200\n",
      "  label 11: 200\n",
      "  label 12: 200\n",
      "  label 13: 200\n",
      "  label 14: 200\n",
      "  label 15: 200\n",
      "  label 16: 200\n",
      "  label 17: 231\n",
      "  label 18: 200\n",
      "  label 19: 200\n",
      "  label 20: 200\n",
      "  label 21: 200\n",
      "  label 22: 200\n",
      "  label 23: 200\n",
      "  label 24: 200\n",
      "  label 25: 200\n",
      "  label 26: 200\n",
      "  label 27: 200\n",
      "  label 28: 200\n",
      "  label 29: 200\n",
      "  label 30: 200\n",
      "  label 31: 200\n",
      "  label 32: 200\n",
      "  label 33: 200\n",
      "  label 34: 200\n",
      "  label 35: 200\n",
      "  label 36: 200\n",
      "  label 37: 200\n",
      "  label 38: 200\n",
      "  label 39: 200\n",
      "  label 40: 200\n",
      "  label 41: 200\n",
      "  label 42: 200\n",
      "  label 43: 200\n",
      "  label 44: 200\n",
      "  label 45: 200\n",
      "  label 46: 200\n",
      "  label 47: 528\n",
      "  label 48: 202\n",
      "  label 49: 200\n",
      "model is bert-base-uncased cnn1filter345drop3\n",
      "Epoch 1/20\n"
     ]
    },
    {
     "name": "stderr",
     "output_type": "stream",
     "text": [
      "100%|██████████| 761/761 [01:06<00:00, 11.46it/s]\n"
     ]
    },
    {
     "name": "stdout",
     "output_type": "stream",
     "text": [
      "{'val_loss': 1.358575259739498, 'val_accuracy': 0.6120638675340035, 'precision': 0.6992419055392035, 'recall': 0.6120638675340035, 'f1-score': 0.6177039674893856, 'macro_f1-score': 0.3943626493636813, 'balanced_accuracy': 0.4606630404310812, 'mcc': 0.4977520190436609, 'train_loss': 1.8940822170379128}\n",
      "Epoch 2/20\n"
     ]
    },
    {
     "name": "stderr",
     "output_type": "stream",
     "text": [
      "100%|██████████| 761/761 [01:06<00:00, 11.47it/s]\n"
     ]
    },
    {
     "name": "stdout",
     "output_type": "stream",
     "text": [
      "{'val_loss': 1.293653183107106, 'val_accuracy': 0.6611472501478415, 'precision': 0.6718996083572735, 'recall': 0.6611472501478415, 'f1-score': 0.6520520246977609, 'macro_f1-score': 0.4380191430325649, 'balanced_accuracy': 0.43097603981212196, 'mcc': 0.555622633954152, 'train_loss': 0.6344439041520543}\n",
      "Epoch 3/20\n"
     ]
    },
    {
     "name": "stderr",
     "output_type": "stream",
     "text": [
      "100%|██████████| 761/761 [01:06<00:00, 11.47it/s]\n"
     ]
    },
    {
     "name": "stdout",
     "output_type": "stream",
     "text": [
      "{'val_loss': 1.425391844139909, 'val_accuracy': 0.6581904198698995, 'precision': 0.6730498233789515, 'recall': 0.6581904198698995, 'f1-score': 0.65192473318539, 'macro_f1-score': 0.42435330784709907, 'balanced_accuracy': 0.4427075968902803, 'mcc': 0.547674092531637, 'train_loss': 0.3905952609512519}\n",
      "Epoch 4/20\n"
     ]
    },
    {
     "name": "stderr",
     "output_type": "stream",
     "text": [
      "100%|██████████| 761/761 [01:06<00:00, 11.49it/s]\n"
     ]
    },
    {
     "name": "stdout",
     "output_type": "stream",
     "text": [
      "{'val_loss': 1.5641705970156867, 'val_accuracy': 0.6552335895919574, 'precision': 0.6762144723243778, 'recall': 0.6552335895919574, 'f1-score': 0.6537635106705145, 'macro_f1-score': 0.423251875657556, 'balanced_accuracy': 0.4390089621778602, 'mcc': 0.5539159096078459, 'train_loss': 0.2991276557977053}\n",
      "Epoch 5/20\n"
     ]
    },
    {
     "name": "stderr",
     "output_type": "stream",
     "text": [
      "100%|██████████| 761/761 [01:06<00:00, 11.47it/s]\n"
     ]
    },
    {
     "name": "stdout",
     "output_type": "stream",
     "text": [
      "{'val_loss': 1.66884804784127, 'val_accuracy': 0.6540508574807806, 'precision': 0.6645146054593117, 'recall': 0.6540508574807806, 'f1-score': 0.6469782832694152, 'macro_f1-score': 0.42916755506937343, 'balanced_accuracy': 0.43016337396503074, 'mcc': 0.5433324495569029, 'train_loss': 0.2507735477526686}\n",
      "Early stopping.\n",
      "\n",
      "[Fold 3]\n",
      "Label distribution after resampling:\n",
      "  label 0: 2000\n",
      "  label 1: 200\n",
      "  label 2: 200\n",
      "  label 3: 200\n",
      "  label 4: 206\n",
      "  label 5: 200\n",
      "  label 6: 200\n",
      "  label 7: 200\n",
      "  label 8: 200\n",
      "  label 9: 200\n",
      "  label 10: 200\n",
      "  label 11: 200\n",
      "  label 12: 200\n",
      "  label 13: 200\n",
      "  label 14: 200\n",
      "  label 15: 200\n",
      "  label 16: 200\n",
      "  label 17: 231\n",
      "  label 18: 200\n",
      "  label 19: 200\n",
      "  label 20: 200\n",
      "  label 21: 200\n",
      "  label 22: 200\n",
      "  label 23: 200\n",
      "  label 24: 200\n",
      "  label 25: 200\n",
      "  label 26: 200\n",
      "  label 27: 200\n",
      "  label 28: 200\n",
      "  label 29: 200\n",
      "  label 30: 200\n",
      "  label 31: 200\n",
      "  label 32: 200\n",
      "  label 33: 200\n",
      "  label 34: 200\n",
      "  label 35: 200\n",
      "  label 36: 200\n",
      "  label 37: 200\n",
      "  label 38: 200\n",
      "  label 39: 200\n",
      "  label 40: 200\n",
      "  label 41: 200\n",
      "  label 42: 200\n",
      "  label 43: 200\n",
      "  label 44: 200\n",
      "  label 45: 200\n",
      "  label 46: 200\n",
      "  label 47: 529\n",
      "  label 48: 201\n",
      "  label 49: 200\n",
      "model is bert-base-uncased cnn1filter345drop3\n",
      "Epoch 1/20\n"
     ]
    },
    {
     "name": "stderr",
     "output_type": "stream",
     "text": [
      "100%|██████████| 761/761 [01:06<00:00, 11.46it/s]\n"
     ]
    },
    {
     "name": "stdout",
     "output_type": "stream",
     "text": [
      "{'val_loss': 1.4853685576960725, 'val_accuracy': 0.589591957421644, 'precision': 0.6516726441894992, 'recall': 0.589591957421644, 'f1-score': 0.5991903012772518, 'macro_f1-score': 0.3337493085614416, 'balanced_accuracy': 0.38835618853142223, 'mcc': 0.47856048923778466, 'train_loss': 1.9015161536056329}\n",
      "Epoch 2/20\n"
     ]
    },
    {
     "name": "stderr",
     "output_type": "stream",
     "text": [
      "100%|██████████| 761/761 [01:05<00:00, 11.59it/s]\n"
     ]
    },
    {
     "name": "stdout",
     "output_type": "stream",
     "text": [
      "{'val_loss': 1.3792522527136892, 'val_accuracy': 0.6475458308693081, 'precision': 0.6698193684060492, 'recall': 0.6475458308693081, 'f1-score': 0.6424115036229293, 'macro_f1-score': 0.36495469768313404, 'balanced_accuracy': 0.3794672809998223, 'mcc': 0.5383064553236215, 'train_loss': 0.5985789605307438}\n",
      "Epoch 3/20\n"
     ]
    },
    {
     "name": "stderr",
     "output_type": "stream",
     "text": [
      "100%|██████████| 761/761 [01:06<00:00, 11.45it/s]\n"
     ]
    },
    {
     "name": "stdout",
     "output_type": "stream",
     "text": [
      "{'val_loss': 1.437087595181645, 'val_accuracy': 0.6493199290360734, 'precision': 0.6475922301959582, 'recall': 0.6493199290360734, 'f1-score': 0.6365356913969332, 'macro_f1-score': 0.36234065265842896, 'balanced_accuracy': 0.36572321460029483, 'mcc': 0.5362017317359566, 'train_loss': 0.35518711415803583}\n",
      "Epoch 4/20\n"
     ]
    },
    {
     "name": "stderr",
     "output_type": "stream",
     "text": [
      "100%|██████████| 761/761 [01:06<00:00, 11.48it/s]\n"
     ]
    },
    {
     "name": "stdout",
     "output_type": "stream",
     "text": [
      "{'val_loss': 1.624802883925303, 'val_accuracy': 0.6493199290360734, 'precision': 0.6653688731258504, 'recall': 0.6493199290360734, 'f1-score': 0.6440640158270338, 'macro_f1-score': 0.3735834437586736, 'balanced_accuracy': 0.3858454815593617, 'mcc': 0.5462394763254027, 'train_loss': 0.2758459170947387}\n",
      "Epoch 5/20\n"
     ]
    },
    {
     "name": "stderr",
     "output_type": "stream",
     "text": [
      "100%|██████████| 761/761 [01:06<00:00, 11.51it/s]\n"
     ]
    },
    {
     "name": "stdout",
     "output_type": "stream",
     "text": [
      "{'val_loss': 1.729186198340272, 'val_accuracy': 0.631578947368421, 'precision': 0.6376588246425445, 'recall': 0.631578947368421, 'f1-score': 0.624474402556181, 'macro_f1-score': 0.3422010351929499, 'balanced_accuracy': 0.34361158458118807, 'mcc': 0.5163497705769103, 'train_loss': 0.25734791147544656}\n",
      "Epoch 6/20\n"
     ]
    },
    {
     "name": "stderr",
     "output_type": "stream",
     "text": [
      "100%|██████████| 761/761 [01:06<00:00, 11.51it/s]\n"
     ]
    },
    {
     "name": "stdout",
     "output_type": "stream",
     "text": [
      "{'val_loss': 1.7597570229532584, 'val_accuracy': 0.6463630987581312, 'precision': 0.6573860580596281, 'recall': 0.6463630987581312, 'f1-score': 0.6395583093518857, 'macro_f1-score': 0.35722399161794444, 'balanced_accuracy': 0.36950305380473625, 'mcc': 0.5394762654274934, 'train_loss': 0.23379615889329822}\n",
      "Epoch 7/20\n"
     ]
    },
    {
     "name": "stderr",
     "output_type": "stream",
     "text": [
      "100%|██████████| 761/761 [01:06<00:00, 11.49it/s]\n"
     ]
    },
    {
     "name": "stdout",
     "output_type": "stream",
     "text": [
      "{'val_loss': 1.8558839030985563, 'val_accuracy': 0.6345357776463632, 'precision': 0.6579825630157243, 'recall': 0.6345357776463632, 'f1-score': 0.6316137312131471, 'macro_f1-score': 0.3548882072211654, 'balanced_accuracy': 0.37241860528108967, 'mcc': 0.5222979231757188, 'train_loss': 0.2078430363822743}\n",
      "Early stopping.\n",
      "\n",
      "[Fold 4]\n",
      "Label distribution after resampling:\n",
      "  label 0: 2000\n",
      "  label 1: 200\n",
      "  label 2: 200\n",
      "  label 3: 200\n",
      "  label 4: 206\n",
      "  label 5: 200\n",
      "  label 6: 200\n",
      "  label 7: 200\n",
      "  label 8: 200\n",
      "  label 9: 200\n",
      "  label 10: 200\n",
      "  label 11: 200\n",
      "  label 12: 200\n",
      "  label 13: 200\n",
      "  label 14: 200\n",
      "  label 15: 200\n",
      "  label 16: 200\n",
      "  label 17: 232\n",
      "  label 18: 200\n",
      "  label 19: 200\n",
      "  label 20: 200\n",
      "  label 21: 200\n",
      "  label 22: 200\n",
      "  label 23: 200\n",
      "  label 24: 200\n",
      "  label 25: 200\n",
      "  label 26: 200\n",
      "  label 27: 200\n",
      "  label 28: 200\n",
      "  label 29: 200\n",
      "  label 30: 200\n",
      "  label 31: 200\n",
      "  label 32: 200\n",
      "  label 33: 200\n",
      "  label 34: 200\n",
      "  label 35: 200\n",
      "  label 36: 200\n",
      "  label 37: 200\n",
      "  label 38: 200\n",
      "  label 39: 200\n",
      "  label 40: 200\n",
      "  label 41: 200\n",
      "  label 42: 200\n",
      "  label 43: 200\n",
      "  label 44: 200\n",
      "  label 45: 200\n",
      "  label 46: 200\n",
      "  label 47: 529\n",
      "  label 48: 201\n",
      "  label 49: 200\n",
      "model is bert-base-uncased cnn1filter345drop3\n",
      "Epoch 1/20\n"
     ]
    },
    {
     "name": "stderr",
     "output_type": "stream",
     "text": [
      "100%|██████████| 761/761 [01:06<00:00, 11.46it/s]\n"
     ]
    },
    {
     "name": "stdout",
     "output_type": "stream",
     "text": [
      "{'val_loss': 1.294625901669826, 'val_accuracy': 0.6339444115907746, 'precision': 0.6476623747437751, 'recall': 0.6339444115907746, 'f1-score': 0.6211825957856618, 'macro_f1-score': 0.3956343987604166, 'balanced_accuracy': 0.4545918133375487, 'mcc': 0.5205357554419129, 'train_loss': 1.921998864169503}\n",
      "Epoch 2/20\n"
     ]
    },
    {
     "name": "stderr",
     "output_type": "stream",
     "text": [
      "100%|██████████| 761/761 [01:06<00:00, 11.49it/s]\n"
     ]
    },
    {
     "name": "stdout",
     "output_type": "stream",
     "text": [
      "{'val_loss': 1.2854496452887103, 'val_accuracy': 0.6741573033707865, 'precision': 0.6998486656125807, 'recall': 0.6741573033707865, 'f1-score': 0.6563762497302913, 'macro_f1-score': 0.4209504030452164, 'balanced_accuracy': 0.4368203054007451, 'mcc': 0.5679445271299757, 'train_loss': 0.6595584263538015}\n",
      "Epoch 3/20\n"
     ]
    },
    {
     "name": "stderr",
     "output_type": "stream",
     "text": [
      "100%|██████████| 761/761 [01:06<00:00, 11.45it/s]\n"
     ]
    },
    {
     "name": "stdout",
     "output_type": "stream",
     "text": [
      "{'val_loss': 1.3756381787781446, 'val_accuracy': 0.6605558840922531, 'precision': 0.6947296249312175, 'recall': 0.6605558840922531, 'f1-score': 0.6623877766786191, 'macro_f1-score': 0.46784019909040725, 'balanced_accuracy': 0.4868090779132679, 'mcc': 0.5682993739162296, 'train_loss': 0.38024056438263626}\n",
      "Epoch 4/20\n"
     ]
    },
    {
     "name": "stderr",
     "output_type": "stream",
     "text": [
      "100%|██████████| 761/761 [01:06<00:00, 11.46it/s]\n"
     ]
    },
    {
     "name": "stdout",
     "output_type": "stream",
     "text": [
      "{'val_loss': 1.5460970601383246, 'val_accuracy': 0.6611472501478415, 'precision': 0.7012120049482551, 'recall': 0.6611472501478415, 'f1-score': 0.6572158901034515, 'macro_f1-score': 0.41942876602966755, 'balanced_accuracy': 0.4497926238269195, 'mcc': 0.5622025850816218, 'train_loss': 0.2876287330365428}\n",
      "Epoch 5/20\n"
     ]
    },
    {
     "name": "stderr",
     "output_type": "stream",
     "text": [
      "100%|██████████| 761/761 [01:06<00:00, 11.48it/s]\n"
     ]
    },
    {
     "name": "stdout",
     "output_type": "stream",
     "text": [
      "{'val_loss': 1.5644646503452986, 'val_accuracy': 0.6700177409816677, 'precision': 0.6779453778018244, 'recall': 0.6700177409816677, 'f1-score': 0.6657400377293372, 'macro_f1-score': 0.447246878061337, 'balanced_accuracy': 0.45300664040711525, 'mcc': 0.5705766650519468, 'train_loss': 0.25701857644650944}\n",
      "Epoch 6/20\n"
     ]
    },
    {
     "name": "stderr",
     "output_type": "stream",
     "text": [
      "100%|██████████| 761/761 [01:06<00:00, 11.48it/s]\n"
     ]
    },
    {
     "name": "stdout",
     "output_type": "stream",
     "text": [
      "{'val_loss': 1.586893839093874, 'val_accuracy': 0.651685393258427, 'precision': 0.6773521848167045, 'recall': 0.651685393258427, 'f1-score': 0.6536898450094872, 'macro_f1-score': 0.41722201544630666, 'balanced_accuracy': 0.4465316771060668, 'mcc': 0.5527455798647405, 'train_loss': 0.2316241847301017}\n",
      "Early stopping.\n",
      "\n",
      "[Fold 5]\n",
      "Label distribution after resampling:\n",
      "  label 0: 2000\n",
      "  label 1: 200\n",
      "  label 2: 200\n",
      "  label 3: 200\n",
      "  label 4: 205\n",
      "  label 5: 200\n",
      "  label 6: 200\n",
      "  label 7: 200\n",
      "  label 8: 200\n",
      "  label 9: 200\n",
      "  label 10: 200\n",
      "  label 11: 200\n",
      "  label 12: 200\n",
      "  label 13: 200\n",
      "  label 14: 200\n",
      "  label 15: 200\n",
      "  label 16: 200\n",
      "  label 17: 231\n",
      "  label 18: 200\n",
      "  label 19: 200\n",
      "  label 20: 200\n",
      "  label 21: 200\n",
      "  label 22: 200\n",
      "  label 23: 200\n",
      "  label 24: 200\n",
      "  label 25: 200\n",
      "  label 26: 200\n",
      "  label 27: 200\n",
      "  label 28: 200\n",
      "  label 29: 200\n",
      "  label 30: 200\n",
      "  label 31: 200\n",
      "  label 32: 200\n",
      "  label 33: 200\n",
      "  label 34: 200\n",
      "  label 35: 200\n",
      "  label 36: 200\n",
      "  label 37: 200\n",
      "  label 38: 200\n",
      "  label 39: 200\n",
      "  label 40: 200\n",
      "  label 41: 200\n",
      "  label 42: 200\n",
      "  label 43: 200\n",
      "  label 44: 200\n",
      "  label 45: 200\n",
      "  label 46: 200\n",
      "  label 47: 529\n",
      "  label 48: 202\n",
      "  label 49: 200\n",
      "model is bert-base-uncased cnn1filter345drop3\n",
      "Epoch 1/20\n"
     ]
    },
    {
     "name": "stderr",
     "output_type": "stream",
     "text": [
      "100%|██████████| 761/761 [01:06<00:00, 11.48it/s]\n"
     ]
    },
    {
     "name": "stdout",
     "output_type": "stream",
     "text": [
      "{'val_loss': 1.3724304676618215, 'val_accuracy': 0.6272189349112426, 'precision': 0.6800147604427219, 'recall': 0.6272189349112426, 'f1-score': 0.6339121435155475, 'macro_f1-score': 0.3787156861549776, 'balanced_accuracy': 0.42609332928316185, 'mcc': 0.5204886700974252, 'train_loss': 1.8619362661779004}\n",
      "Epoch 2/20\n"
     ]
    },
    {
     "name": "stderr",
     "output_type": "stream",
     "text": [
      "100%|██████████| 761/761 [01:05<00:00, 11.61it/s]\n"
     ]
    },
    {
     "name": "stdout",
     "output_type": "stream",
     "text": [
      "{'val_loss': 1.3286941425417953, 'val_accuracy': 0.6609467455621302, 'precision': 0.6731372997979748, 'recall': 0.6609467455621302, 'f1-score': 0.6540921257997634, 'macro_f1-score': 0.40948614987477194, 'balanced_accuracy': 0.4293386384439547, 'mcc': 0.5586800734754185, 'train_loss': 0.6270619157931808}\n",
      "Epoch 3/20\n"
     ]
    },
    {
     "name": "stderr",
     "output_type": "stream",
     "text": [
      "100%|██████████| 761/761 [01:05<00:00, 11.55it/s]\n"
     ]
    },
    {
     "name": "stdout",
     "output_type": "stream",
     "text": [
      "{'val_loss': 1.5188462349041454, 'val_accuracy': 0.6343195266272189, 'precision': 0.6719805321324491, 'recall': 0.6343195266272189, 'f1-score': 0.6409936905546078, 'macro_f1-score': 0.3946838985962789, 'balanced_accuracy': 0.4077429571454693, 'mcc': 0.5382085618406655, 'train_loss': 0.37241386250395736}\n",
      "Epoch 4/20\n"
     ]
    },
    {
     "name": "stderr",
     "output_type": "stream",
     "text": [
      "100%|██████████| 761/761 [01:06<00:00, 11.43it/s]\n"
     ]
    },
    {
     "name": "stdout",
     "output_type": "stream",
     "text": [
      "{'val_loss': 1.5115751365445695, 'val_accuracy': 0.6686390532544378, 'precision': 0.6714041114266056, 'recall': 0.6686390532544378, 'f1-score': 0.653700633209067, 'macro_f1-score': 0.38789807792558484, 'balanced_accuracy': 0.37524886850390937, 'mcc': 0.5561185318496167, 'train_loss': 0.28490030152708506}\n",
      "Epoch 5/20\n"
     ]
    },
    {
     "name": "stderr",
     "output_type": "stream",
     "text": [
      "100%|██████████| 761/761 [01:06<00:00, 11.44it/s]\n"
     ]
    },
    {
     "name": "stdout",
     "output_type": "stream",
     "text": [
      "{'val_loss': 1.5581923588266913, 'val_accuracy': 0.6727810650887573, 'precision': 0.6717328992848122, 'recall': 0.6727810650887573, 'f1-score': 0.6578176184077956, 'macro_f1-score': 0.36466677044280016, 'balanced_accuracy': 0.35774305379195176, 'mcc': 0.5654701727753783, 'train_loss': 0.24971375486516098}\n",
      "Early stopping.\n",
      "\n",
      " === bert-base-uncased + cnn1filter345drop3 + ros Final 5-fold Cross-Validation Results ===\n",
      "Total time: 1985 seconds\n",
      "Total time: 0 hrs 33 mins 5 secs\n",
      "val_loss: 1.3933\n",
      "val_accuracy: 0.6592\n",
      "precision: 0.6769\n",
      "recall: 0.6592\n",
      "f1-score: 0.6527\n",
      "macro_f1-score: 0.4252\n",
      "balanced_accuracy: 0.4371\n",
      "mcc: 0.5579\n",
      "train_loss: 0.5125\n",
      "▶ Running: bert-base-uncased + cnn1filter345drop5 + ros\n",
      "tokenizer is bert-base-uncased\n",
      "Using device: cuda\n",
      "CUDA Available: True\n",
      "CUDA Device: NVIDIA GeForce RTX 5070 Ti\n",
      "Current GPU Memory Allocated: 0.02 GB\n",
      "Current GPU Memory Cached: 3.07 GB\n",
      "\n",
      "[Fold 1]\n",
      "Label distribution after resampling:\n",
      "  label 0: 2000\n",
      "  label 1: 200\n",
      "  label 2: 200\n",
      "  label 3: 200\n",
      "  label 4: 205\n",
      "  label 5: 200\n",
      "  label 6: 200\n",
      "  label 7: 200\n",
      "  label 8: 200\n",
      "  label 9: 200\n",
      "  label 10: 200\n",
      "  label 11: 200\n",
      "  label 12: 200\n",
      "  label 13: 200\n",
      "  label 14: 200\n",
      "  label 15: 200\n",
      "  label 16: 200\n",
      "  label 17: 231\n",
      "  label 18: 200\n",
      "  label 19: 200\n",
      "  label 20: 200\n",
      "  label 21: 200\n",
      "  label 22: 200\n",
      "  label 23: 200\n",
      "  label 24: 200\n",
      "  label 25: 200\n",
      "  label 26: 200\n",
      "  label 27: 200\n",
      "  label 28: 200\n",
      "  label 29: 200\n",
      "  label 30: 200\n",
      "  label 31: 200\n",
      "  label 32: 200\n",
      "  label 33: 200\n",
      "  label 34: 200\n",
      "  label 35: 200\n",
      "  label 36: 200\n",
      "  label 37: 200\n",
      "  label 38: 200\n",
      "  label 39: 200\n",
      "  label 40: 200\n",
      "  label 41: 200\n",
      "  label 42: 200\n",
      "  label 43: 200\n",
      "  label 44: 200\n",
      "  label 45: 200\n",
      "  label 46: 200\n",
      "  label 47: 529\n",
      "  label 48: 202\n",
      "  label 49: 200\n",
      "model is bert-base-uncased cnn1filter345drop5\n",
      "Epoch 1/20\n"
     ]
    },
    {
     "name": "stderr",
     "output_type": "stream",
     "text": [
      "100%|██████████| 761/761 [01:05<00:00, 11.53it/s]\n"
     ]
    },
    {
     "name": "stdout",
     "output_type": "stream",
     "text": [
      "{'val_loss': 1.4118695031359512, 'val_accuracy': 0.6173861620342992, 'precision': 0.6232326382272615, 'recall': 0.6173861620342992, 'f1-score': 0.5866284957904515, 'macro_f1-score': 0.34646078124177243, 'balanced_accuracy': 0.4113489163628266, 'mcc': 0.4857596854617974, 'train_loss': 2.0900530674924362}\n",
      "Epoch 2/20\n"
     ]
    },
    {
     "name": "stderr",
     "output_type": "stream",
     "text": [
      "100%|██████████| 761/761 [01:06<00:00, 11.52it/s]\n"
     ]
    },
    {
     "name": "stdout",
     "output_type": "stream",
     "text": [
      "{'val_loss': 1.332221971649044, 'val_accuracy': 0.6605558840922531, 'precision': 0.6649320571741133, 'recall': 0.6605558840922531, 'f1-score': 0.646122083631838, 'macro_f1-score': 0.4360857428597892, 'balanced_accuracy': 0.44381724901359787, 'mcc': 0.5507714271047464, 'train_loss': 0.7387931363243467}\n",
      "Epoch 3/20\n"
     ]
    },
    {
     "name": "stderr",
     "output_type": "stream",
     "text": [
      "100%|██████████| 761/761 [01:06<00:00, 11.41it/s]\n"
     ]
    },
    {
     "name": "stdout",
     "output_type": "stream",
     "text": [
      "{'val_loss': 1.4535563082065222, 'val_accuracy': 0.6564163217031342, 'precision': 0.6801137560567523, 'recall': 0.6564163217031342, 'f1-score': 0.6385288958130618, 'macro_f1-score': 0.4042882318315443, 'balanced_accuracy': 0.3994069367029918, 'mcc': 0.5396006565811517, 'train_loss': 0.4474773860381091}\n",
      "Epoch 4/20\n"
     ]
    },
    {
     "name": "stderr",
     "output_type": "stream",
     "text": [
      "100%|██████████| 761/761 [01:06<00:00, 11.44it/s]\n"
     ]
    },
    {
     "name": "stdout",
     "output_type": "stream",
     "text": [
      "{'val_loss': 1.5475052465807717, 'val_accuracy': 0.6510940272028386, 'precision': 0.6534505044886202, 'recall': 0.6510940272028386, 'f1-score': 0.6402231510775007, 'macro_f1-score': 0.3936722661786123, 'balanced_accuracy': 0.40205403194036976, 'mcc': 0.539521134934374, 'train_loss': 0.325506298796674}\n",
      "Epoch 5/20\n"
     ]
    },
    {
     "name": "stderr",
     "output_type": "stream",
     "text": [
      "100%|██████████| 761/761 [01:06<00:00, 11.46it/s]\n"
     ]
    },
    {
     "name": "stdout",
     "output_type": "stream",
     "text": [
      "{'val_loss': 1.5667324582079671, 'val_accuracy': 0.6682436428149024, 'precision': 0.6610295303587103, 'recall': 0.6682436428149024, 'f1-score': 0.6517751840153941, 'macro_f1-score': 0.4420794467781747, 'balanced_accuracy': 0.43408836026194914, 'mcc': 0.5599432190702984, 'train_loss': 0.2975208025423225}\n",
      "Epoch 6/20\n"
     ]
    },
    {
     "name": "stderr",
     "output_type": "stream",
     "text": [
      "100%|██████████| 761/761 [01:06<00:00, 11.43it/s]\n"
     ]
    },
    {
     "name": "stdout",
     "output_type": "stream",
     "text": [
      "{'val_loss': 1.679304934054051, 'val_accuracy': 0.6629213483146067, 'precision': 0.6723996838898099, 'recall': 0.6629213483146067, 'f1-score': 0.6554420534786439, 'macro_f1-score': 0.4256853138060129, 'balanced_accuracy': 0.4318755844358874, 'mcc': 0.5612192453267615, 'train_loss': 0.2569115981918548}\n",
      "Epoch 7/20\n"
     ]
    },
    {
     "name": "stderr",
     "output_type": "stream",
     "text": [
      "100%|██████████| 761/761 [01:06<00:00, 11.50it/s]\n"
     ]
    },
    {
     "name": "stdout",
     "output_type": "stream",
     "text": [
      "{'val_loss': 1.7652391008329842, 'val_accuracy': 0.6617386162034299, 'precision': 0.656261612909668, 'recall': 0.6617386162034299, 'f1-score': 0.648896573352996, 'macro_f1-score': 0.4181682156271559, 'balanced_accuracy': 0.41085425782699564, 'mcc': 0.552024983527582, 'train_loss': 0.2504718767004222}\n",
      "Epoch 8/20\n"
     ]
    },
    {
     "name": "stderr",
     "output_type": "stream",
     "text": [
      "100%|██████████| 761/761 [01:06<00:00, 11.40it/s]\n"
     ]
    },
    {
     "name": "stdout",
     "output_type": "stream",
     "text": [
      "{'val_loss': 1.7898124695386526, 'val_accuracy': 0.6505026611472502, 'precision': 0.6584152868733443, 'recall': 0.6505026611472502, 'f1-score': 0.6440118239573359, 'macro_f1-score': 0.3910877492610965, 'balanced_accuracy': 0.37934887118424493, 'mcc': 0.5395110415880101, 'train_loss': 0.22962975168647184}\n",
      "Early stopping.\n",
      "\n",
      "[Fold 2]\n",
      "Label distribution after resampling:\n",
      "  label 0: 2000\n",
      "  label 1: 200\n",
      "  label 2: 200\n",
      "  label 3: 200\n",
      "  label 4: 206\n",
      "  label 5: 200\n",
      "  label 6: 200\n",
      "  label 7: 200\n",
      "  label 8: 200\n",
      "  label 9: 200\n",
      "  label 10: 200\n",
      "  label 11: 200\n",
      "  label 12: 200\n",
      "  label 13: 200\n",
      "  label 14: 200\n",
      "  label 15: 200\n",
      "  label 16: 200\n",
      "  label 17: 231\n",
      "  label 18: 200\n",
      "  label 19: 200\n",
      "  label 20: 200\n",
      "  label 21: 200\n",
      "  label 22: 200\n",
      "  label 23: 200\n",
      "  label 24: 200\n",
      "  label 25: 200\n",
      "  label 26: 200\n",
      "  label 27: 200\n",
      "  label 28: 200\n",
      "  label 29: 200\n",
      "  label 30: 200\n",
      "  label 31: 200\n",
      "  label 32: 200\n",
      "  label 33: 200\n",
      "  label 34: 200\n",
      "  label 35: 200\n",
      "  label 36: 200\n",
      "  label 37: 200\n",
      "  label 38: 200\n",
      "  label 39: 200\n",
      "  label 40: 200\n",
      "  label 41: 200\n",
      "  label 42: 200\n",
      "  label 43: 200\n",
      "  label 44: 200\n",
      "  label 45: 200\n",
      "  label 46: 200\n",
      "  label 47: 528\n",
      "  label 48: 202\n",
      "  label 49: 200\n",
      "model is bert-base-uncased cnn1filter345drop5\n",
      "Epoch 1/20\n"
     ]
    },
    {
     "name": "stderr",
     "output_type": "stream",
     "text": [
      "100%|██████████| 761/761 [01:06<00:00, 11.44it/s]\n"
     ]
    },
    {
     "name": "stdout",
     "output_type": "stream",
     "text": [
      "{'val_loss': 1.386415662630549, 'val_accuracy': 0.6333530455351862, 'precision': 0.6013131371379292, 'recall': 0.6333530455351862, 'f1-score': 0.5962372909542324, 'macro_f1-score': 0.34759121064269577, 'balanced_accuracy': 0.41013338871720506, 'mcc': 0.5081825556748669, 'train_loss': 2.18592251482837}\n",
      "Epoch 2/20\n"
     ]
    },
    {
     "name": "stderr",
     "output_type": "stream",
     "text": [
      "100%|██████████| 761/761 [01:06<00:00, 11.41it/s]\n"
     ]
    },
    {
     "name": "stdout",
     "output_type": "stream",
     "text": [
      "{'val_loss': 1.3474527641006235, 'val_accuracy': 0.6617386162034299, 'precision': 0.666231114372269, 'recall': 0.6617386162034299, 'f1-score': 0.6434750422495924, 'macro_f1-score': 0.42327313598806704, 'balanced_accuracy': 0.45274157770996704, 'mcc': 0.5469638264030618, 'train_loss': 0.7596579870593375}\n",
      "Epoch 3/20\n"
     ]
    },
    {
     "name": "stderr",
     "output_type": "stream",
     "text": [
      "100%|██████████| 761/761 [01:06<00:00, 11.38it/s]\n"
     ]
    },
    {
     "name": "stdout",
     "output_type": "stream",
     "text": [
      "{'val_loss': 1.4525114006872446, 'val_accuracy': 0.6558249556475458, 'precision': 0.6621425887281689, 'recall': 0.6558249556475458, 'f1-score': 0.6495989452082921, 'macro_f1-score': 0.42960022338790305, 'balanced_accuracy': 0.4394646976180026, 'mcc': 0.5507300089176619, 'train_loss': 0.4482589417214306}\n",
      "Epoch 4/20\n"
     ]
    },
    {
     "name": "stderr",
     "output_type": "stream",
     "text": [
      "100%|██████████| 761/761 [01:06<00:00, 11.42it/s]\n"
     ]
    },
    {
     "name": "stdout",
     "output_type": "stream",
     "text": [
      "{'val_loss': 1.628435971883108, 'val_accuracy': 0.6221170904790065, 'precision': 0.6639539186144108, 'recall': 0.6221170904790065, 'f1-score': 0.6280786142368021, 'macro_f1-score': 0.4025493960580003, 'balanced_accuracy': 0.42343208977545793, 'mcc': 0.5199040174673315, 'train_loss': 0.33601820516141817}\n",
      "Epoch 5/20\n"
     ]
    },
    {
     "name": "stderr",
     "output_type": "stream",
     "text": [
      "100%|██████████| 761/761 [01:06<00:00, 11.49it/s]\n"
     ]
    },
    {
     "name": "stdout",
     "output_type": "stream",
     "text": [
      "{'val_loss': 1.6367722780637022, 'val_accuracy': 0.6505026611472502, 'precision': 0.6735242655649362, 'recall': 0.6505026611472502, 'f1-score': 0.6513600172759075, 'macro_f1-score': 0.4307329922000078, 'balanced_accuracy': 0.4543132867556188, 'mcc': 0.5475138609457764, 'train_loss': 0.2805211141928247}\n",
      "Epoch 6/20\n"
     ]
    },
    {
     "name": "stderr",
     "output_type": "stream",
     "text": [
      "100%|██████████| 761/761 [01:06<00:00, 11.48it/s]\n"
     ]
    },
    {
     "name": "stdout",
     "output_type": "stream",
     "text": [
      "{'val_loss': 1.7068737107065488, 'val_accuracy': 0.6682436428149024, 'precision': 0.6548202448454485, 'recall': 0.6682436428149024, 'f1-score': 0.6497367443917876, 'macro_f1-score': 0.4121119451122071, 'balanced_accuracy': 0.4246996983616287, 'mcc': 0.5549777227963629, 'train_loss': 0.2738828087646548}\n",
      "Epoch 7/20\n"
     ]
    },
    {
     "name": "stderr",
     "output_type": "stream",
     "text": [
      "100%|██████████| 761/761 [01:06<00:00, 11.52it/s]\n"
     ]
    },
    {
     "name": "stdout",
     "output_type": "stream",
     "text": [
      "{'val_loss': 1.8730112482916634, 'val_accuracy': 0.6552335895919574, 'precision': 0.6473476507694097, 'recall': 0.6552335895919574, 'f1-score': 0.6347991092930662, 'macro_f1-score': 0.389918817875919, 'balanced_accuracy': 0.3950485192523143, 'mcc': 0.5343244503076037, 'train_loss': 0.23649223961557767}\n",
      "Epoch 8/20\n"
     ]
    },
    {
     "name": "stderr",
     "output_type": "stream",
     "text": [
      "100%|██████████| 761/761 [01:06<00:00, 11.50it/s]\n"
     ]
    },
    {
     "name": "stdout",
     "output_type": "stream",
     "text": [
      "{'val_loss': 1.940143640030105, 'val_accuracy': 0.6292134831460674, 'precision': 0.6681305714861993, 'recall': 0.6292134831460674, 'f1-score': 0.6386314256608921, 'macro_f1-score': 0.4252354308239913, 'balanced_accuracy': 0.470816599172524, 'mcc': 0.5310538973905723, 'train_loss': 0.22622844036720552}\n",
      "Early stopping.\n",
      "\n",
      "[Fold 3]\n",
      "Label distribution after resampling:\n",
      "  label 0: 2000\n",
      "  label 1: 200\n",
      "  label 2: 200\n",
      "  label 3: 200\n",
      "  label 4: 206\n",
      "  label 5: 200\n",
      "  label 6: 200\n",
      "  label 7: 200\n",
      "  label 8: 200\n",
      "  label 9: 200\n",
      "  label 10: 200\n",
      "  label 11: 200\n",
      "  label 12: 200\n",
      "  label 13: 200\n",
      "  label 14: 200\n",
      "  label 15: 200\n",
      "  label 16: 200\n",
      "  label 17: 231\n",
      "  label 18: 200\n",
      "  label 19: 200\n",
      "  label 20: 200\n",
      "  label 21: 200\n",
      "  label 22: 200\n",
      "  label 23: 200\n",
      "  label 24: 200\n",
      "  label 25: 200\n",
      "  label 26: 200\n",
      "  label 27: 200\n",
      "  label 28: 200\n",
      "  label 29: 200\n",
      "  label 30: 200\n",
      "  label 31: 200\n",
      "  label 32: 200\n",
      "  label 33: 200\n",
      "  label 34: 200\n",
      "  label 35: 200\n",
      "  label 36: 200\n",
      "  label 37: 200\n",
      "  label 38: 200\n",
      "  label 39: 200\n",
      "  label 40: 200\n",
      "  label 41: 200\n",
      "  label 42: 200\n",
      "  label 43: 200\n",
      "  label 44: 200\n",
      "  label 45: 200\n",
      "  label 46: 200\n",
      "  label 47: 529\n",
      "  label 48: 201\n",
      "  label 49: 200\n",
      "model is bert-base-uncased cnn1filter345drop5\n",
      "Epoch 1/20\n"
     ]
    },
    {
     "name": "stderr",
     "output_type": "stream",
     "text": [
      "100%|██████████| 761/761 [01:06<00:00, 11.50it/s]\n"
     ]
    },
    {
     "name": "stdout",
     "output_type": "stream",
     "text": [
      "{'val_loss': 1.4475688270802767, 'val_accuracy': 0.6067415730337079, 'precision': 0.6285574874427853, 'recall': 0.6067415730337079, 'f1-score': 0.6005748599776464, 'macro_f1-score': 0.33216655849687465, 'balanced_accuracy': 0.3683098572128969, 'mcc': 0.4799381237797051, 'train_loss': 2.081748615113257}\n",
      "Epoch 2/20\n"
     ]
    },
    {
     "name": "stderr",
     "output_type": "stream",
     "text": [
      "100%|██████████| 761/761 [01:06<00:00, 11.44it/s]\n"
     ]
    },
    {
     "name": "stdout",
     "output_type": "stream",
     "text": [
      "{'val_loss': 1.4772993635456517, 'val_accuracy': 0.6031933767001774, 'precision': 0.6636222957303254, 'recall': 0.6031933767001774, 'f1-score': 0.6160484149173213, 'macro_f1-score': 0.37073273026989395, 'balanced_accuracy': 0.41694953316125216, 'mcc': 0.4978523591969298, 'train_loss': 0.7480246605505768}\n",
      "Epoch 3/20\n"
     ]
    },
    {
     "name": "stderr",
     "output_type": "stream",
     "text": [
      "100%|██████████| 761/761 [01:06<00:00, 11.40it/s]\n"
     ]
    },
    {
     "name": "stdout",
     "output_type": "stream",
     "text": [
      "{'val_loss': 1.4679028793888271, 'val_accuracy': 0.6339444115907746, 'precision': 0.6566083474432983, 'recall': 0.6339444115907746, 'f1-score': 0.6307058104286152, 'macro_f1-score': 0.3522853447112806, 'balanced_accuracy': 0.36817411075174755, 'mcc': 0.5200146703137205, 'train_loss': 0.4391938502118285}\n",
      "Epoch 4/20\n"
     ]
    },
    {
     "name": "stderr",
     "output_type": "stream",
     "text": [
      "100%|██████████| 761/761 [01:06<00:00, 11.37it/s]\n"
     ]
    },
    {
     "name": "stdout",
     "output_type": "stream",
     "text": [
      "{'val_loss': 1.5200008544719443, 'val_accuracy': 0.6670609107037256, 'precision': 0.645360087328654, 'recall': 0.6670609107037256, 'f1-score': 0.646852104636529, 'macro_f1-score': 0.372066014267754, 'balanced_accuracy': 0.3731469603091246, 'mcc': 0.5563993146198543, 'train_loss': 0.3317052583808615}\n",
      "Epoch 5/20\n"
     ]
    },
    {
     "name": "stderr",
     "output_type": "stream",
     "text": [
      "100%|██████████| 761/761 [01:06<00:00, 11.48it/s]\n"
     ]
    },
    {
     "name": "stdout",
     "output_type": "stream",
     "text": [
      "{'val_loss': 1.7206871253701876, 'val_accuracy': 0.6493199290360734, 'precision': 0.6533122795168103, 'recall': 0.6493199290360734, 'f1-score': 0.6431992596925853, 'macro_f1-score': 0.3704069745718759, 'balanced_accuracy': 0.38370079371883115, 'mcc': 0.5378515531955095, 'train_loss': 0.27477460537587983}\n",
      "Epoch 6/20\n"
     ]
    },
    {
     "name": "stderr",
     "output_type": "stream",
     "text": [
      "100%|██████████| 761/761 [01:06<00:00, 11.46it/s]\n"
     ]
    },
    {
     "name": "stdout",
     "output_type": "stream",
     "text": [
      "{'val_loss': 1.9207569686871655, 'val_accuracy': 0.654642223536369, 'precision': 0.6398703124673967, 'recall': 0.654642223536369, 'f1-score': 0.6278716361095795, 'macro_f1-score': 0.34117473352264144, 'balanced_accuracy': 0.3426344774842211, 'mcc': 0.5319318636817983, 'train_loss': 0.24637277096353286}\n",
      "Epoch 7/20\n"
     ]
    },
    {
     "name": "stderr",
     "output_type": "stream",
     "text": [
      "100%|██████████| 761/761 [01:06<00:00, 11.45it/s]\n"
     ]
    },
    {
     "name": "stdout",
     "output_type": "stream",
     "text": [
      "{'val_loss': 1.8535861187386062, 'val_accuracy': 0.6303962152572442, 'precision': 0.6609252084628167, 'recall': 0.6303962152572442, 'f1-score': 0.6317671869194645, 'macro_f1-score': 0.3646369496004521, 'balanced_accuracy': 0.39569398519095395, 'mcc': 0.5265827785951436, 'train_loss': 0.23791492845784779}\n",
      "Early stopping.\n",
      "\n",
      "[Fold 4]\n",
      "Label distribution after resampling:\n",
      "  label 0: 2000\n",
      "  label 1: 200\n",
      "  label 2: 200\n",
      "  label 3: 200\n",
      "  label 4: 206\n",
      "  label 5: 200\n",
      "  label 6: 200\n",
      "  label 7: 200\n",
      "  label 8: 200\n",
      "  label 9: 200\n",
      "  label 10: 200\n",
      "  label 11: 200\n",
      "  label 12: 200\n",
      "  label 13: 200\n",
      "  label 14: 200\n",
      "  label 15: 200\n",
      "  label 16: 200\n",
      "  label 17: 232\n",
      "  label 18: 200\n",
      "  label 19: 200\n",
      "  label 20: 200\n",
      "  label 21: 200\n",
      "  label 22: 200\n",
      "  label 23: 200\n",
      "  label 24: 200\n",
      "  label 25: 200\n",
      "  label 26: 200\n",
      "  label 27: 200\n",
      "  label 28: 200\n",
      "  label 29: 200\n",
      "  label 30: 200\n",
      "  label 31: 200\n",
      "  label 32: 200\n",
      "  label 33: 200\n",
      "  label 34: 200\n",
      "  label 35: 200\n",
      "  label 36: 200\n",
      "  label 37: 200\n",
      "  label 38: 200\n",
      "  label 39: 200\n",
      "  label 40: 200\n",
      "  label 41: 200\n",
      "  label 42: 200\n",
      "  label 43: 200\n",
      "  label 44: 200\n",
      "  label 45: 200\n",
      "  label 46: 200\n",
      "  label 47: 529\n",
      "  label 48: 201\n",
      "  label 49: 200\n",
      "model is bert-base-uncased cnn1filter345drop5\n",
      "Epoch 1/20\n"
     ]
    },
    {
     "name": "stderr",
     "output_type": "stream",
     "text": [
      "100%|██████████| 761/761 [01:06<00:00, 11.49it/s]\n"
     ]
    },
    {
     "name": "stdout",
     "output_type": "stream",
     "text": [
      "{'val_loss': 1.3083442975327653, 'val_accuracy': 0.6363098758131284, 'precision': 0.6729076288735917, 'recall': 0.6363098758131284, 'f1-score': 0.6391548936894357, 'macro_f1-score': 0.42306301724452505, 'balanced_accuracy': 0.4711310819580669, 'mcc': 0.5258416376122705, 'train_loss': 2.1193559639713926}\n",
      "Epoch 2/20\n"
     ]
    },
    {
     "name": "stderr",
     "output_type": "stream",
     "text": [
      "100%|██████████| 761/761 [01:06<00:00, 11.42it/s]\n"
     ]
    },
    {
     "name": "stdout",
     "output_type": "stream",
     "text": [
      "{'val_loss': 1.2904353377954014, 'val_accuracy': 0.6457717327025428, 'precision': 0.6824853675696901, 'recall': 0.6457717327025428, 'f1-score': 0.650591141168362, 'macro_f1-score': 0.44377525625566655, 'balanced_accuracy': 0.47950450329698285, 'mcc': 0.5488054172724967, 'train_loss': 0.7311735339217994}\n",
      "Epoch 3/20\n"
     ]
    },
    {
     "name": "stderr",
     "output_type": "stream",
     "text": [
      "100%|██████████| 761/761 [01:06<00:00, 11.44it/s]\n"
     ]
    },
    {
     "name": "stdout",
     "output_type": "stream",
     "text": [
      "{'val_loss': 1.4045380359550692, 'val_accuracy': 0.6398580721466588, 'precision': 0.6959207059272597, 'recall': 0.6398580721466588, 'f1-score': 0.647912035365235, 'macro_f1-score': 0.42078393652468876, 'balanced_accuracy': 0.4514891213486707, 'mcc': 0.5477521345358697, 'train_loss': 0.42295284502198444}\n",
      "Epoch 4/20\n"
     ]
    },
    {
     "name": "stderr",
     "output_type": "stream",
     "text": [
      "100%|██████████| 761/761 [01:06<00:00, 11.40it/s]\n"
     ]
    },
    {
     "name": "stdout",
     "output_type": "stream",
     "text": [
      "{'val_loss': 1.4619247470543069, 'val_accuracy': 0.6534594914251922, 'precision': 0.6762189995898045, 'recall': 0.6534594914251922, 'f1-score': 0.6501533237813689, 'macro_f1-score': 0.41931162323797877, 'balanced_accuracy': 0.4462521633323275, 'mcc': 0.5439428424371968, 'train_loss': 0.3216410536017959}\n",
      "Epoch 5/20\n"
     ]
    },
    {
     "name": "stderr",
     "output_type": "stream",
     "text": [
      "100%|██████████| 761/761 [01:06<00:00, 11.45it/s]\n"
     ]
    },
    {
     "name": "stdout",
     "output_type": "stream",
     "text": [
      "{'val_loss': 1.4899241198908608, 'val_accuracy': 0.6487285629804849, 'precision': 0.6788202084966788, 'recall': 0.6487285629804849, 'f1-score': 0.6490566687320849, 'macro_f1-score': 0.42960993635288836, 'balanced_accuracy': 0.44907361791101735, 'mcc': 0.5465423439304425, 'train_loss': 0.26727933327712694}\n",
      "Early stopping.\n",
      "\n",
      "[Fold 5]\n",
      "Label distribution after resampling:\n",
      "  label 0: 2000\n",
      "  label 1: 200\n",
      "  label 2: 200\n",
      "  label 3: 200\n",
      "  label 4: 205\n",
      "  label 5: 200\n",
      "  label 6: 200\n",
      "  label 7: 200\n",
      "  label 8: 200\n",
      "  label 9: 200\n",
      "  label 10: 200\n",
      "  label 11: 200\n",
      "  label 12: 200\n",
      "  label 13: 200\n",
      "  label 14: 200\n",
      "  label 15: 200\n",
      "  label 16: 200\n",
      "  label 17: 231\n",
      "  label 18: 200\n",
      "  label 19: 200\n",
      "  label 20: 200\n",
      "  label 21: 200\n",
      "  label 22: 200\n",
      "  label 23: 200\n",
      "  label 24: 200\n",
      "  label 25: 200\n",
      "  label 26: 200\n",
      "  label 27: 200\n",
      "  label 28: 200\n",
      "  label 29: 200\n",
      "  label 30: 200\n",
      "  label 31: 200\n",
      "  label 32: 200\n",
      "  label 33: 200\n",
      "  label 34: 200\n",
      "  label 35: 200\n",
      "  label 36: 200\n",
      "  label 37: 200\n",
      "  label 38: 200\n",
      "  label 39: 200\n",
      "  label 40: 200\n",
      "  label 41: 200\n",
      "  label 42: 200\n",
      "  label 43: 200\n",
      "  label 44: 200\n",
      "  label 45: 200\n",
      "  label 46: 200\n",
      "  label 47: 529\n",
      "  label 48: 202\n",
      "  label 49: 200\n",
      "model is bert-base-uncased cnn1filter345drop5\n",
      "Epoch 1/20\n"
     ]
    },
    {
     "name": "stderr",
     "output_type": "stream",
     "text": [
      "100%|██████████| 761/761 [01:06<00:00, 11.48it/s]\n"
     ]
    },
    {
     "name": "stdout",
     "output_type": "stream",
     "text": [
      "{'val_loss': 1.4810179072730947, 'val_accuracy': 0.580473372781065, 'precision': 0.6658679742909484, 'recall': 0.580473372781065, 'f1-score': 0.5914226865413428, 'macro_f1-score': 0.3467746294677003, 'balanced_accuracy': 0.40928436967835014, 'mcc': 0.4770551116601909, 'train_loss': 2.119319018333876}\n",
      "Epoch 2/20\n"
     ]
    },
    {
     "name": "stderr",
     "output_type": "stream",
     "text": [
      "100%|██████████| 761/761 [01:06<00:00, 11.46it/s]\n"
     ]
    },
    {
     "name": "stdout",
     "output_type": "stream",
     "text": [
      "{'val_loss': 1.4558449038919412, 'val_accuracy': 0.6207100591715976, 'precision': 0.6925371958493636, 'recall': 0.6207100591715976, 'f1-score': 0.6360016525516722, 'macro_f1-score': 0.3702624427998373, 'balanced_accuracy': 0.39613374528359313, 'mcc': 0.5223297781379391, 'train_loss': 0.7655910151605537}\n",
      "Epoch 3/20\n"
     ]
    },
    {
     "name": "stderr",
     "output_type": "stream",
     "text": [
      "100%|██████████| 761/761 [01:06<00:00, 11.51it/s]\n"
     ]
    },
    {
     "name": "stdout",
     "output_type": "stream",
     "text": [
      "{'val_loss': 1.450592800412538, 'val_accuracy': 0.6278106508875739, 'precision': 0.6820613977441599, 'recall': 0.6278106508875739, 'f1-score': 0.6338643880532606, 'macro_f1-score': 0.3614103075665032, 'balanced_accuracy': 0.3853579594373735, 'mcc': 0.5356993696995364, 'train_loss': 0.4463019983527225}\n",
      "Epoch 4/20\n"
     ]
    },
    {
     "name": "stderr",
     "output_type": "stream",
     "text": [
      "100%|██████████| 761/761 [01:06<00:00, 11.51it/s]\n"
     ]
    },
    {
     "name": "stdout",
     "output_type": "stream",
     "text": [
      "{'val_loss': 1.488786274532102, 'val_accuracy': 0.6668639053254438, 'precision': 0.6715163700765541, 'recall': 0.6668639053254438, 'f1-score': 0.6587837205240621, 'macro_f1-score': 0.3700703147879479, 'balanced_accuracy': 0.36815718715571316, 'mcc': 0.562586037305181, 'train_loss': 0.3425970442578412}\n",
      "Epoch 5/20\n"
     ]
    },
    {
     "name": "stderr",
     "output_type": "stream",
     "text": [
      "100%|██████████| 761/761 [01:06<00:00, 11.51it/s]\n"
     ]
    },
    {
     "name": "stdout",
     "output_type": "stream",
     "text": [
      "{'val_loss': 1.6006472054517493, 'val_accuracy': 0.6715976331360947, 'precision': 0.6699939168606058, 'recall': 0.6715976331360947, 'f1-score': 0.6529027413877994, 'macro_f1-score': 0.394940766283718, 'balanced_accuracy': 0.38800419119794954, 'mcc': 0.5594651538415485, 'train_loss': 0.29259936096154043}\n",
      "Epoch 6/20\n"
     ]
    },
    {
     "name": "stderr",
     "output_type": "stream",
     "text": [
      "100%|██████████| 761/761 [01:06<00:00, 11.47it/s]\n"
     ]
    },
    {
     "name": "stdout",
     "output_type": "stream",
     "text": [
      "{'val_loss': 1.655298575758934, 'val_accuracy': 0.6650887573964497, 'precision': 0.687874223904955, 'recall': 0.6650887573964497, 'f1-score': 0.6597443551528449, 'macro_f1-score': 0.3864254315462343, 'balanced_accuracy': 0.39409552560211286, 'mcc': 0.5670124507384675, 'train_loss': 0.25389096156954666}\n",
      "Epoch 7/20\n"
     ]
    },
    {
     "name": "stderr",
     "output_type": "stream",
     "text": [
      "100%|██████████| 761/761 [01:06<00:00, 11.42it/s]\n"
     ]
    },
    {
     "name": "stdout",
     "output_type": "stream",
     "text": [
      "{'val_loss': 1.6851015993446674, 'val_accuracy': 0.6585798816568047, 'precision': 0.6799622949428206, 'recall': 0.6585798816568047, 'f1-score': 0.6560065018351389, 'macro_f1-score': 0.40954710927817506, 'balanced_accuracy': 0.4012077061904349, 'mcc': 0.553328503705596, 'train_loss': 0.23649475657266078}\n",
      "Epoch 8/20\n"
     ]
    },
    {
     "name": "stderr",
     "output_type": "stream",
     "text": [
      "100%|██████████| 761/761 [01:06<00:00, 11.43it/s]\n"
     ]
    },
    {
     "name": "stdout",
     "output_type": "stream",
     "text": [
      "{'val_loss': 1.8323157644777928, 'val_accuracy': 0.6550295857988165, 'precision': 0.6825302901197766, 'recall': 0.6550295857988165, 'f1-score': 0.658178879139564, 'macro_f1-score': 0.4023004841088557, 'balanced_accuracy': 0.42312398207292207, 'mcc': 0.5592788260848397, 'train_loss': 0.22694085288178495}\n",
      "Epoch 9/20\n"
     ]
    },
    {
     "name": "stderr",
     "output_type": "stream",
     "text": [
      "100%|██████████| 761/761 [01:06<00:00, 11.48it/s]\n"
     ]
    },
    {
     "name": "stdout",
     "output_type": "stream",
     "text": [
      "{'val_loss': 1.7942086631818763, 'val_accuracy': 0.6822485207100591, 'precision': 0.682442247640473, 'recall': 0.6822485207100591, 'f1-score': 0.6714091257922469, 'macro_f1-score': 0.3986797040446649, 'balanced_accuracy': 0.40413043883391203, 'mcc': 0.5787625413535966, 'train_loss': 0.23529613659513376}\n",
      "Epoch 10/20\n"
     ]
    },
    {
     "name": "stderr",
     "output_type": "stream",
     "text": [
      "100%|██████████| 761/761 [01:06<00:00, 11.46it/s]\n"
     ]
    },
    {
     "name": "stdout",
     "output_type": "stream",
     "text": [
      "{'val_loss': 1.8083777185880914, 'val_accuracy': 0.6686390532544378, 'precision': 0.6802202015120979, 'recall': 0.6686390532544378, 'f1-score': 0.6620547197177629, 'macro_f1-score': 0.3970535552091233, 'balanced_accuracy': 0.4007297967614041, 'mcc': 0.5709341719899802, 'train_loss': 0.21422142541781314}\n",
      "Early stopping.\n",
      "\n",
      " === bert-base-uncased + cnn1filter345drop5 + ros Final 5-fold Cross-Validation Results ===\n",
      "Total time: 2702 seconds\n",
      "Total time: 0 hrs 45 mins 2 secs\n",
      "val_loss: 1.5398\n",
      "val_accuracy: 0.6580\n",
      "precision: 0.6685\n",
      "recall: 0.6580\n",
      "f1-score: 0.6513\n",
      "macro_f1-score: 0.4196\n",
      "balanced_accuracy: 0.4285\n",
      "mcc: 0.5532\n",
      "train_loss: 0.3755\n",
      "▶ Running: bert-base-uncased + cnn2filter234drop3 + ros\n",
      "tokenizer is bert-base-uncased\n",
      "Using device: cuda\n",
      "CUDA Available: True\n",
      "CUDA Device: NVIDIA GeForce RTX 5070 Ti\n",
      "Current GPU Memory Allocated: 0.02 GB\n",
      "Current GPU Memory Cached: 3.07 GB\n",
      "\n",
      "[Fold 1]\n",
      "Label distribution after resampling:\n",
      "  label 0: 2000\n",
      "  label 1: 200\n",
      "  label 2: 200\n",
      "  label 3: 200\n",
      "  label 4: 205\n",
      "  label 5: 200\n",
      "  label 6: 200\n",
      "  label 7: 200\n",
      "  label 8: 200\n",
      "  label 9: 200\n",
      "  label 10: 200\n",
      "  label 11: 200\n",
      "  label 12: 200\n",
      "  label 13: 200\n",
      "  label 14: 200\n",
      "  label 15: 200\n",
      "  label 16: 200\n",
      "  label 17: 231\n",
      "  label 18: 200\n",
      "  label 19: 200\n",
      "  label 20: 200\n",
      "  label 21: 200\n",
      "  label 22: 200\n",
      "  label 23: 200\n",
      "  label 24: 200\n",
      "  label 25: 200\n",
      "  label 26: 200\n",
      "  label 27: 200\n",
      "  label 28: 200\n",
      "  label 29: 200\n",
      "  label 30: 200\n",
      "  label 31: 200\n",
      "  label 32: 200\n",
      "  label 33: 200\n",
      "  label 34: 200\n",
      "  label 35: 200\n",
      "  label 36: 200\n",
      "  label 37: 200\n",
      "  label 38: 200\n",
      "  label 39: 200\n",
      "  label 40: 200\n",
      "  label 41: 200\n",
      "  label 42: 200\n",
      "  label 43: 200\n",
      "  label 44: 200\n",
      "  label 45: 200\n",
      "  label 46: 200\n",
      "  label 47: 529\n",
      "  label 48: 202\n",
      "  label 49: 200\n",
      "model is bert-base-uncased cnn2filter234drop3\n",
      "Epoch 1/20\n"
     ]
    },
    {
     "name": "stderr",
     "output_type": "stream",
     "text": [
      "100%|██████████| 761/761 [01:06<00:00, 11.36it/s]\n"
     ]
    },
    {
     "name": "stdout",
     "output_type": "stream",
     "text": [
      "{'val_loss': 1.5366710666215644, 'val_accuracy': 0.5748078060319338, 'precision': 0.6311159625738377, 'recall': 0.5748078060319338, 'f1-score': 0.5628696409792084, 'macro_f1-score': 0.2899250591436078, 'balanced_accuracy': 0.3660871185076748, 'mcc': 0.45782932306350926, 'train_loss': 2.4229387940934393}\n",
      "Epoch 2/20\n"
     ]
    },
    {
     "name": "stderr",
     "output_type": "stream",
     "text": [
      "100%|██████████| 761/761 [01:06<00:00, 11.40it/s]\n"
     ]
    },
    {
     "name": "stdout",
     "output_type": "stream",
     "text": [
      "{'val_loss': 1.3210501907006749, 'val_accuracy': 0.6505026611472502, 'precision': 0.64794875470078, 'recall': 0.6505026611472502, 'f1-score': 0.6279677150148473, 'macro_f1-score': 0.39773211959114035, 'balanced_accuracy': 0.4083321796113653, 'mcc': 0.5318147154097487, 'train_loss': 0.874922442373559}\n",
      "Epoch 3/20\n"
     ]
    },
    {
     "name": "stderr",
     "output_type": "stream",
     "text": [
      "100%|██████████| 761/761 [01:06<00:00, 11.38it/s]\n"
     ]
    },
    {
     "name": "stdout",
     "output_type": "stream",
     "text": [
      "{'val_loss': 1.3562594193894908, 'val_accuracy': 0.6694263749260793, 'precision': 0.6809935426399495, 'recall': 0.6694263749260793, 'f1-score': 0.6611402710513741, 'macro_f1-score': 0.4332071853622712, 'balanced_accuracy': 0.4324117286390966, 'mcc': 0.5611432731707028, 'train_loss': 0.49400299694511485}\n",
      "Epoch 4/20\n"
     ]
    },
    {
     "name": "stderr",
     "output_type": "stream",
     "text": [
      "100%|██████████| 761/761 [01:05<00:00, 11.54it/s]\n"
     ]
    },
    {
     "name": "stdout",
     "output_type": "stream",
     "text": [
      "{'val_loss': 1.5449550947490729, 'val_accuracy': 0.6363098758131284, 'precision': 0.6771245402251231, 'recall': 0.6363098758131284, 'f1-score': 0.6402601837444282, 'macro_f1-score': 0.4102430852657322, 'balanced_accuracy': 0.44303167624391065, 'mcc': 0.5377452049621017, 'train_loss': 0.35809026763293494}\n",
      "Epoch 5/20\n"
     ]
    },
    {
     "name": "stderr",
     "output_type": "stream",
     "text": [
      "100%|██████████| 761/761 [01:05<00:00, 11.66it/s]\n"
     ]
    },
    {
     "name": "stdout",
     "output_type": "stream",
     "text": [
      "{'val_loss': 1.6015615106191274, 'val_accuracy': 0.6534594914251922, 'precision': 0.6689674895983658, 'recall': 0.6534594914251922, 'f1-score': 0.6465042596760313, 'macro_f1-score': 0.4204639633092014, 'balanced_accuracy': 0.4307581435324115, 'mcc': 0.5449162889154873, 'train_loss': 0.3089807946822372}\n",
      "Epoch 6/20\n"
     ]
    },
    {
     "name": "stderr",
     "output_type": "stream",
     "text": [
      "100%|██████████| 761/761 [01:05<00:00, 11.62it/s]\n"
     ]
    },
    {
     "name": "stdout",
     "output_type": "stream",
     "text": [
      "{'val_loss': 1.6789204084648277, 'val_accuracy': 0.6765227675931401, 'precision': 0.6661235039146519, 'recall': 0.6765227675931401, 'f1-score': 0.6629902772171918, 'macro_f1-score': 0.4409951414375907, 'balanced_accuracy': 0.44125729675010944, 'mcc': 0.5714849256475275, 'train_loss': 0.24916902947350944}\n",
      "Epoch 7/20\n"
     ]
    },
    {
     "name": "stderr",
     "output_type": "stream",
     "text": [
      "100%|██████████| 761/761 [01:05<00:00, 11.62it/s]\n"
     ]
    },
    {
     "name": "stdout",
     "output_type": "stream",
     "text": [
      "{'val_loss': 1.831365112426146, 'val_accuracy': 0.6434062684801892, 'precision': 0.6700880099715064, 'recall': 0.6434062684801892, 'f1-score': 0.647372231307272, 'macro_f1-score': 0.4221085482189675, 'balanced_accuracy': 0.44172761069356314, 'mcc': 0.548769369076091, 'train_loss': 0.24226933124759106}\n",
      "Epoch 8/20\n"
     ]
    },
    {
     "name": "stderr",
     "output_type": "stream",
     "text": [
      "100%|██████████| 761/761 [01:05<00:00, 11.64it/s]\n"
     ]
    },
    {
     "name": "stdout",
     "output_type": "stream",
     "text": [
      "{'val_loss': 1.8506327265838407, 'val_accuracy': 0.6753400354819633, 'precision': 0.6738107634173498, 'recall': 0.6753400354819633, 'f1-score': 0.6620619703337507, 'macro_f1-score': 0.4349890449157183, 'balanced_accuracy': 0.4341848508368791, 'mcc': 0.5692756535645146, 'train_loss': 0.23910524951644074}\n",
      "Epoch 9/20\n"
     ]
    },
    {
     "name": "stderr",
     "output_type": "stream",
     "text": [
      "100%|██████████| 761/761 [01:05<00:00, 11.66it/s]\n"
     ]
    },
    {
     "name": "stdout",
     "output_type": "stream",
     "text": [
      "{'val_loss': 1.9384225268127784, 'val_accuracy': 0.6499112950916618, 'precision': 0.6677550088918746, 'recall': 0.6499112950916618, 'f1-score': 0.645945415931853, 'macro_f1-score': 0.4126831949171778, 'balanced_accuracy': 0.41108298406347543, 'mcc': 0.544322891703036, 'train_loss': 0.23128209128222}\n",
      "Early stopping.\n",
      "\n",
      "[Fold 2]\n",
      "Label distribution after resampling:\n",
      "  label 0: 2000\n",
      "  label 1: 200\n",
      "  label 2: 200\n",
      "  label 3: 200\n",
      "  label 4: 206\n",
      "  label 5: 200\n",
      "  label 6: 200\n",
      "  label 7: 200\n",
      "  label 8: 200\n",
      "  label 9: 200\n",
      "  label 10: 200\n",
      "  label 11: 200\n",
      "  label 12: 200\n",
      "  label 13: 200\n",
      "  label 14: 200\n",
      "  label 15: 200\n",
      "  label 16: 200\n",
      "  label 17: 231\n",
      "  label 18: 200\n",
      "  label 19: 200\n",
      "  label 20: 200\n",
      "  label 21: 200\n",
      "  label 22: 200\n",
      "  label 23: 200\n",
      "  label 24: 200\n",
      "  label 25: 200\n",
      "  label 26: 200\n",
      "  label 27: 200\n",
      "  label 28: 200\n",
      "  label 29: 200\n",
      "  label 30: 200\n",
      "  label 31: 200\n",
      "  label 32: 200\n",
      "  label 33: 200\n",
      "  label 34: 200\n",
      "  label 35: 200\n",
      "  label 36: 200\n",
      "  label 37: 200\n",
      "  label 38: 200\n",
      "  label 39: 200\n",
      "  label 40: 200\n",
      "  label 41: 200\n",
      "  label 42: 200\n",
      "  label 43: 200\n",
      "  label 44: 200\n",
      "  label 45: 200\n",
      "  label 46: 200\n",
      "  label 47: 528\n",
      "  label 48: 202\n",
      "  label 49: 200\n",
      "model is bert-base-uncased cnn2filter234drop3\n",
      "Epoch 1/20\n"
     ]
    },
    {
     "name": "stderr",
     "output_type": "stream",
     "text": [
      "100%|██████████| 761/761 [01:05<00:00, 11.66it/s]\n"
     ]
    },
    {
     "name": "stdout",
     "output_type": "stream",
     "text": [
      "{'val_loss': 1.453193483487615, 'val_accuracy': 0.615612063867534, 'precision': 0.6224565994357626, 'recall': 0.615612063867534, 'f1-score': 0.5916186685966887, 'macro_f1-score': 0.3338736384253344, 'balanced_accuracy': 0.39460327955196645, 'mcc': 0.49139829046936306, 'train_loss': 2.370623236103534}\n",
      "Epoch 2/20\n"
     ]
    },
    {
     "name": "stderr",
     "output_type": "stream",
     "text": [
      "100%|██████████| 761/761 [01:05<00:00, 11.65it/s]\n"
     ]
    },
    {
     "name": "stdout",
     "output_type": "stream",
     "text": [
      "{'val_loss': 1.3450757911745108, 'val_accuracy': 0.6593731519810763, 'precision': 0.6517534690753951, 'recall': 0.6593731519810763, 'f1-score': 0.643787001766514, 'macro_f1-score': 0.41026927787985934, 'balanced_accuracy': 0.42604469360961805, 'mcc': 0.5459152350279255, 'train_loss': 0.8415673299155316}\n",
      "Epoch 3/20\n"
     ]
    },
    {
     "name": "stderr",
     "output_type": "stream",
     "text": [
      "100%|██████████| 761/761 [01:05<00:00, 11.66it/s]\n"
     ]
    },
    {
     "name": "stdout",
     "output_type": "stream",
     "text": [
      "{'val_loss': 1.519419252029005, 'val_accuracy': 0.63571850975754, 'precision': 0.6609693197655072, 'recall': 0.63571850975754, 'f1-score': 0.6340604563562025, 'macro_f1-score': 0.40292075146092693, 'balanced_accuracy': 0.4366393760938055, 'mcc': 0.5280932281620612, 'train_loss': 0.4721462884318186}\n",
      "Epoch 4/20\n"
     ]
    },
    {
     "name": "stderr",
     "output_type": "stream",
     "text": [
      "100%|██████████| 761/761 [01:05<00:00, 11.63it/s]\n"
     ]
    },
    {
     "name": "stdout",
     "output_type": "stream",
     "text": [
      "{'val_loss': 1.6639938242030594, 'val_accuracy': 0.6587817859254879, 'precision': 0.6448390696091606, 'recall': 0.6587817859254879, 'f1-score': 0.6427326823809268, 'macro_f1-score': 0.39750051451917073, 'balanced_accuracy': 0.4117347711894832, 'mcc': 0.544298428455896, 'train_loss': 0.3412805950212808}\n",
      "Epoch 5/20\n"
     ]
    },
    {
     "name": "stderr",
     "output_type": "stream",
     "text": [
      "100%|██████████| 761/761 [01:05<00:00, 11.66it/s]\n"
     ]
    },
    {
     "name": "stdout",
     "output_type": "stream",
     "text": [
      "{'val_loss': 1.857287327073655, 'val_accuracy': 0.5937315198107629, 'precision': 0.6682701468815962, 'recall': 0.5937315198107629, 'f1-score': 0.610663994849052, 'macro_f1-score': 0.3653210412680759, 'balanced_accuracy': 0.41262894121662036, 'mcc': 0.5014908935505735, 'train_loss': 0.284515285570757}\n",
      "Early stopping.\n",
      "\n",
      "[Fold 3]\n",
      "Label distribution after resampling:\n",
      "  label 0: 2000\n",
      "  label 1: 200\n",
      "  label 2: 200\n",
      "  label 3: 200\n",
      "  label 4: 206\n",
      "  label 5: 200\n",
      "  label 6: 200\n",
      "  label 7: 200\n",
      "  label 8: 200\n",
      "  label 9: 200\n",
      "  label 10: 200\n",
      "  label 11: 200\n",
      "  label 12: 200\n",
      "  label 13: 200\n",
      "  label 14: 200\n",
      "  label 15: 200\n",
      "  label 16: 200\n",
      "  label 17: 231\n",
      "  label 18: 200\n",
      "  label 19: 200\n",
      "  label 20: 200\n",
      "  label 21: 200\n",
      "  label 22: 200\n",
      "  label 23: 200\n",
      "  label 24: 200\n",
      "  label 25: 200\n",
      "  label 26: 200\n",
      "  label 27: 200\n",
      "  label 28: 200\n",
      "  label 29: 200\n",
      "  label 30: 200\n",
      "  label 31: 200\n",
      "  label 32: 200\n",
      "  label 33: 200\n",
      "  label 34: 200\n",
      "  label 35: 200\n",
      "  label 36: 200\n",
      "  label 37: 200\n",
      "  label 38: 200\n",
      "  label 39: 200\n",
      "  label 40: 200\n",
      "  label 41: 200\n",
      "  label 42: 200\n",
      "  label 43: 200\n",
      "  label 44: 200\n",
      "  label 45: 200\n",
      "  label 46: 200\n",
      "  label 47: 529\n",
      "  label 48: 201\n",
      "  label 49: 200\n",
      "model is bert-base-uncased cnn2filter234drop3\n",
      "Epoch 1/20\n"
     ]
    },
    {
     "name": "stderr",
     "output_type": "stream",
     "text": [
      "100%|██████████| 761/761 [01:05<00:00, 11.64it/s]\n"
     ]
    },
    {
     "name": "stdout",
     "output_type": "stream",
     "text": [
      "{'val_loss': 1.5206994082567826, 'val_accuracy': 0.5860437610881135, 'precision': 0.6204010893687042, 'recall': 0.5860437610881135, 'f1-score': 0.5626002878539563, 'macro_f1-score': 0.29460742684181623, 'balanced_accuracy': 0.3484941930224983, 'mcc': 0.45238179415448493, 'train_loss': 2.5172243534970375}\n",
      "Epoch 2/20\n"
     ]
    },
    {
     "name": "stderr",
     "output_type": "stream",
     "text": [
      "100%|██████████| 761/761 [01:05<00:00, 11.64it/s]\n"
     ]
    },
    {
     "name": "stdout",
     "output_type": "stream",
     "text": [
      "{'val_loss': 1.4692362690309309, 'val_accuracy': 0.6439976345357776, 'precision': 0.6460609585339533, 'recall': 0.6439976345357776, 'f1-score': 0.6179023590546859, 'macro_f1-score': 0.33773763627175457, 'balanced_accuracy': 0.35773181841589113, 'mcc': 0.5204450205621027, 'train_loss': 0.9058923375904169}\n",
      "Epoch 3/20\n"
     ]
    },
    {
     "name": "stderr",
     "output_type": "stream",
     "text": [
      "100%|██████████| 761/761 [01:05<00:00, 11.65it/s]\n"
     ]
    },
    {
     "name": "stdout",
     "output_type": "stream",
     "text": [
      "{'val_loss': 1.573327640598675, 'val_accuracy': 0.6522767593140154, 'precision': 0.6603713273938583, 'recall': 0.6522767593140154, 'f1-score': 0.6345971030979759, 'macro_f1-score': 0.34314977043112804, 'balanced_accuracy': 0.3509228676845643, 'mcc': 0.5354225424068834, 'train_loss': 0.4865031247070052}\n",
      "Epoch 4/20\n"
     ]
    },
    {
     "name": "stderr",
     "output_type": "stream",
     "text": [
      "100%|██████████| 761/761 [01:05<00:00, 11.66it/s]\n"
     ]
    },
    {
     "name": "stdout",
     "output_type": "stream",
     "text": [
      "{'val_loss': 1.6972398815571137, 'val_accuracy': 0.6380839739798936, 'precision': 0.6621454015129211, 'recall': 0.6380839739798936, 'f1-score': 0.6351756678604243, 'macro_f1-score': 0.360613942593521, 'balanced_accuracy': 0.39089898872029843, 'mcc': 0.5346495731339389, 'train_loss': 0.35705295854472063}\n",
      "Epoch 5/20\n"
     ]
    },
    {
     "name": "stderr",
     "output_type": "stream",
     "text": [
      "100%|██████████| 761/761 [01:05<00:00, 11.65it/s]\n"
     ]
    },
    {
     "name": "stdout",
     "output_type": "stream",
     "text": [
      "{'val_loss': 1.6694716434433776, 'val_accuracy': 0.6303962152572442, 'precision': 0.6502924480179532, 'recall': 0.6303962152572442, 'f1-score': 0.6297686522243128, 'macro_f1-score': 0.37542363234383985, 'balanced_accuracy': 0.3823138244228978, 'mcc': 0.5231312703054707, 'train_loss': 0.29659790701126376}\n",
      "Epoch 6/20\n"
     ]
    },
    {
     "name": "stderr",
     "output_type": "stream",
     "text": [
      "100%|██████████| 761/761 [01:05<00:00, 11.55it/s]\n"
     ]
    },
    {
     "name": "stdout",
     "output_type": "stream",
     "text": [
      "{'val_loss': 1.797135331158368, 'val_accuracy': 0.6439976345357776, 'precision': 0.6412781892992591, 'recall': 0.6439976345357776, 'f1-score': 0.6354042380353196, 'macro_f1-score': 0.35087278172975594, 'balanced_accuracy': 0.35561567206233596, 'mcc': 0.5325239225187703, 'train_loss': 0.24628976988391987}\n",
      "Epoch 7/20\n"
     ]
    },
    {
     "name": "stderr",
     "output_type": "stream",
     "text": [
      "100%|██████████| 761/761 [01:05<00:00, 11.65it/s]\n"
     ]
    },
    {
     "name": "stdout",
     "output_type": "stream",
     "text": [
      "{'val_loss': 1.8257294091975913, 'val_accuracy': 0.6493199290360734, 'precision': 0.6575937952559022, 'recall': 0.6493199290360734, 'f1-score': 0.644718954542991, 'macro_f1-score': 0.37670058196118206, 'balanced_accuracy': 0.39008622070532745, 'mcc': 0.5425747633613615, 'train_loss': 0.2546722326267378}\n",
      "Epoch 8/20\n"
     ]
    },
    {
     "name": "stderr",
     "output_type": "stream",
     "text": [
      "100%|██████████| 761/761 [01:05<00:00, 11.66it/s]\n"
     ]
    },
    {
     "name": "stdout",
     "output_type": "stream",
     "text": [
      "{'val_loss': 1.9741495659328856, 'val_accuracy': 0.644589000591366, 'precision': 0.653373821793562, 'recall': 0.644589000591366, 'f1-score': 0.6364166638720122, 'macro_f1-score': 0.3592729500221756, 'balanced_accuracy': 0.3774776386486068, 'mcc': 0.5353424012066335, 'train_loss': 0.23322591611426494}\n",
      "Epoch 9/20\n"
     ]
    },
    {
     "name": "stderr",
     "output_type": "stream",
     "text": [
      "100%|██████████| 761/761 [01:05<00:00, 11.62it/s]\n"
     ]
    },
    {
     "name": "stdout",
     "output_type": "stream",
     "text": [
      "{'val_loss': 1.94507386662804, 'val_accuracy': 0.6463630987581312, 'precision': 0.6630861995407797, 'recall': 0.6463630987581312, 'f1-score': 0.642820423209777, 'macro_f1-score': 0.36397517124961243, 'balanced_accuracy': 0.3946442705276361, 'mcc': 0.5450357479458411, 'train_loss': 0.2278528731513974}\n",
      "Epoch 10/20\n"
     ]
    },
    {
     "name": "stderr",
     "output_type": "stream",
     "text": [
      "100%|██████████| 761/761 [01:05<00:00, 11.63it/s]\n"
     ]
    },
    {
     "name": "stdout",
     "output_type": "stream",
     "text": [
      "{'val_loss': 1.9196815076020528, 'val_accuracy': 0.6475458308693081, 'precision': 0.6720924101091879, 'recall': 0.6475458308693081, 'f1-score': 0.6433523913696306, 'macro_f1-score': 0.39014486118318253, 'balanced_accuracy': 0.4033059097091393, 'mcc': 0.5385970092330865, 'train_loss': 0.20133699908373454}\n",
      "Epoch 11/20\n"
     ]
    },
    {
     "name": "stderr",
     "output_type": "stream",
     "text": [
      "100%|██████████| 761/761 [01:05<00:00, 11.58it/s]\n"
     ]
    },
    {
     "name": "stdout",
     "output_type": "stream",
     "text": [
      "{'val_loss': 2.1108635045095996, 'val_accuracy': 0.651685393258427, 'precision': 0.6501866571897092, 'recall': 0.651685393258427, 'f1-score': 0.6312589431315986, 'macro_f1-score': 0.3579549723345831, 'balanced_accuracy': 0.36542311841276237, 'mcc': 0.5333641955637075, 'train_loss': 0.21435974342393616}\n",
      "Epoch 12/20\n"
     ]
    },
    {
     "name": "stderr",
     "output_type": "stream",
     "text": [
      "100%|██████████| 761/761 [01:05<00:00, 11.65it/s]\n"
     ]
    },
    {
     "name": "stdout",
     "output_type": "stream",
     "text": [
      "{'val_loss': 2.0817018308729494, 'val_accuracy': 0.664695446481372, 'precision': 0.6577007669452483, 'recall': 0.664695446481372, 'f1-score': 0.647568623022675, 'macro_f1-score': 0.37889547279910785, 'balanced_accuracy': 0.36836543905723956, 'mcc': 0.5494811282331258, 'train_loss': 0.21382300218942962}\n",
      "Epoch 13/20\n"
     ]
    },
    {
     "name": "stderr",
     "output_type": "stream",
     "text": [
      "100%|██████████| 761/761 [01:05<00:00, 11.65it/s]\n"
     ]
    },
    {
     "name": "stdout",
     "output_type": "stream",
     "text": [
      "{'val_loss': 1.957953395708552, 'val_accuracy': 0.6605558840922531, 'precision': 0.6599175429036863, 'recall': 0.6605558840922531, 'f1-score': 0.6498143282729599, 'macro_f1-score': 0.3691763730415951, 'balanced_accuracy': 0.3756277897424307, 'mcc': 0.5525172622309855, 'train_loss': 0.2000206948452875}\n",
      "Early stopping.\n",
      "\n",
      "[Fold 4]\n",
      "Label distribution after resampling:\n",
      "  label 0: 2000\n",
      "  label 1: 200\n",
      "  label 2: 200\n",
      "  label 3: 200\n",
      "  label 4: 206\n",
      "  label 5: 200\n",
      "  label 6: 200\n",
      "  label 7: 200\n",
      "  label 8: 200\n",
      "  label 9: 200\n",
      "  label 10: 200\n",
      "  label 11: 200\n",
      "  label 12: 200\n",
      "  label 13: 200\n",
      "  label 14: 200\n",
      "  label 15: 200\n",
      "  label 16: 200\n",
      "  label 17: 232\n",
      "  label 18: 200\n",
      "  label 19: 200\n",
      "  label 20: 200\n",
      "  label 21: 200\n",
      "  label 22: 200\n",
      "  label 23: 200\n",
      "  label 24: 200\n",
      "  label 25: 200\n",
      "  label 26: 200\n",
      "  label 27: 200\n",
      "  label 28: 200\n",
      "  label 29: 200\n",
      "  label 30: 200\n",
      "  label 31: 200\n",
      "  label 32: 200\n",
      "  label 33: 200\n",
      "  label 34: 200\n",
      "  label 35: 200\n",
      "  label 36: 200\n",
      "  label 37: 200\n",
      "  label 38: 200\n",
      "  label 39: 200\n",
      "  label 40: 200\n",
      "  label 41: 200\n",
      "  label 42: 200\n",
      "  label 43: 200\n",
      "  label 44: 200\n",
      "  label 45: 200\n",
      "  label 46: 200\n",
      "  label 47: 529\n",
      "  label 48: 201\n",
      "  label 49: 200\n",
      "model is bert-base-uncased cnn2filter234drop3\n",
      "Epoch 1/20\n"
     ]
    },
    {
     "name": "stderr",
     "output_type": "stream",
     "text": [
      "100%|██████████| 761/761 [01:05<00:00, 11.62it/s]\n"
     ]
    },
    {
     "name": "stdout",
     "output_type": "stream",
     "text": [
      "{'val_loss': 1.335682918440621, 'val_accuracy': 0.6102897693672383, 'precision': 0.6689194521441849, 'recall': 0.6102897693672383, 'f1-score': 0.5978228267746051, 'macro_f1-score': 0.3649367639469627, 'balanced_accuracy': 0.4300521814296799, 'mcc': 0.4829401668394604, 'train_loss': 2.371260282714483}\n",
      "Epoch 2/20\n"
     ]
    },
    {
     "name": "stderr",
     "output_type": "stream",
     "text": [
      "100%|██████████| 761/761 [01:05<00:00, 11.63it/s]\n"
     ]
    },
    {
     "name": "stdout",
     "output_type": "stream",
     "text": [
      "{'val_loss': 1.3699406689068057, 'val_accuracy': 0.6369012418687168, 'precision': 0.6481759248744372, 'recall': 0.6369012418687168, 'f1-score': 0.6342104908387178, 'macro_f1-score': 0.4001003234152081, 'balanced_accuracy': 0.47339149968465494, 'mcc': 0.5396184899076896, 'train_loss': 0.8368127659139433}\n",
      "Epoch 3/20\n"
     ]
    },
    {
     "name": "stderr",
     "output_type": "stream",
     "text": [
      "100%|██████████| 761/761 [01:05<00:00, 11.62it/s]\n"
     ]
    },
    {
     "name": "stdout",
     "output_type": "stream",
     "text": [
      "{'val_loss': 1.3967252958495662, 'val_accuracy': 0.6404494382022472, 'precision': 0.6781753856101788, 'recall': 0.6404494382022472, 'f1-score': 0.6468814863400071, 'macro_f1-score': 0.42025686202155677, 'balanced_accuracy': 0.45138217292119104, 'mcc': 0.5428630203407974, 'train_loss': 0.48911706849678116}\n",
      "Epoch 4/20\n"
     ]
    },
    {
     "name": "stderr",
     "output_type": "stream",
     "text": [
      "100%|██████████| 761/761 [01:05<00:00, 11.64it/s]\n"
     ]
    },
    {
     "name": "stdout",
     "output_type": "stream",
     "text": [
      "{'val_loss': 1.5150717231181432, 'val_accuracy': 0.6499112950916618, 'precision': 0.6839997903113066, 'recall': 0.6499112950916618, 'f1-score': 0.6508062423306405, 'macro_f1-score': 0.42685972634570263, 'balanced_accuracy': 0.4253379697311046, 'mcc': 0.5433186557365772, 'train_loss': 0.3380068328192411}\n",
      "Epoch 5/20\n"
     ]
    },
    {
     "name": "stderr",
     "output_type": "stream",
     "text": [
      "100%|██████████| 761/761 [01:05<00:00, 11.65it/s]\n"
     ]
    },
    {
     "name": "stdout",
     "output_type": "stream",
     "text": [
      "{'val_loss': 1.5313485547337893, 'val_accuracy': 0.664695446481372, 'precision': 0.6788866985391107, 'recall': 0.664695446481372, 'f1-score': 0.6599829064127273, 'macro_f1-score': 0.4438506949980454, 'balanced_accuracy': 0.45021607276987446, 'mcc': 0.5635751015140346, 'train_loss': 0.2920896255456489}\n",
      "Epoch 6/20\n"
     ]
    },
    {
     "name": "stderr",
     "output_type": "stream",
     "text": [
      "100%|██████████| 761/761 [01:05<00:00, 11.65it/s]\n"
     ]
    },
    {
     "name": "stdout",
     "output_type": "stream",
     "text": [
      "{'val_loss': 1.7836106018918865, 'val_accuracy': 0.644589000591366, 'precision': 0.6758985664637572, 'recall': 0.644589000591366, 'f1-score': 0.6478373090438316, 'macro_f1-score': 0.40672070238869845, 'balanced_accuracy': 0.43607993208335327, 'mcc': 0.5458077209818043, 'train_loss': 0.24935654445909913}\n",
      "Epoch 7/20\n"
     ]
    },
    {
     "name": "stderr",
     "output_type": "stream",
     "text": [
      "100%|██████████| 761/761 [01:05<00:00, 11.65it/s]\n"
     ]
    },
    {
     "name": "stdout",
     "output_type": "stream",
     "text": [
      "{'val_loss': 1.6797415650678131, 'val_accuracy': 0.6717918391484329, 'precision': 0.6892502731918262, 'recall': 0.6717918391484329, 'f1-score': 0.6659775999747739, 'macro_f1-score': 0.4371520357111551, 'balanced_accuracy': 0.4261775015420626, 'mcc': 0.5680082700971394, 'train_loss': 0.24105925539400766}\n",
      "Epoch 8/20\n"
     ]
    },
    {
     "name": "stderr",
     "output_type": "stream",
     "text": [
      "100%|██████████| 761/761 [01:05<00:00, 11.65it/s]\n"
     ]
    },
    {
     "name": "stdout",
     "output_type": "stream",
     "text": [
      "{'val_loss': 1.8089298451284193, 'val_accuracy': 0.6593731519810763, 'precision': 0.678666250389541, 'recall': 0.6593731519810763, 'f1-score': 0.6574545304851995, 'macro_f1-score': 0.4315362613451127, 'balanced_accuracy': 0.44771605754840976, 'mcc': 0.5607615822158262, 'train_loss': 0.22205483027502562}\n",
      "Early stopping.\n",
      "\n",
      "[Fold 5]\n",
      "Label distribution after resampling:\n",
      "  label 0: 2000\n",
      "  label 1: 200\n",
      "  label 2: 200\n",
      "  label 3: 200\n",
      "  label 4: 205\n",
      "  label 5: 200\n",
      "  label 6: 200\n",
      "  label 7: 200\n",
      "  label 8: 200\n",
      "  label 9: 200\n",
      "  label 10: 200\n",
      "  label 11: 200\n",
      "  label 12: 200\n",
      "  label 13: 200\n",
      "  label 14: 200\n",
      "  label 15: 200\n",
      "  label 16: 200\n",
      "  label 17: 231\n",
      "  label 18: 200\n",
      "  label 19: 200\n",
      "  label 20: 200\n",
      "  label 21: 200\n",
      "  label 22: 200\n",
      "  label 23: 200\n",
      "  label 24: 200\n",
      "  label 25: 200\n",
      "  label 26: 200\n",
      "  label 27: 200\n",
      "  label 28: 200\n",
      "  label 29: 200\n",
      "  label 30: 200\n",
      "  label 31: 200\n",
      "  label 32: 200\n",
      "  label 33: 200\n",
      "  label 34: 200\n",
      "  label 35: 200\n",
      "  label 36: 200\n",
      "  label 37: 200\n",
      "  label 38: 200\n",
      "  label 39: 200\n",
      "  label 40: 200\n",
      "  label 41: 200\n",
      "  label 42: 200\n",
      "  label 43: 200\n",
      "  label 44: 200\n",
      "  label 45: 200\n",
      "  label 46: 200\n",
      "  label 47: 529\n",
      "  label 48: 202\n",
      "  label 49: 200\n",
      "model is bert-base-uncased cnn2filter234drop3\n",
      "Epoch 1/20\n"
     ]
    },
    {
     "name": "stderr",
     "output_type": "stream",
     "text": [
      "100%|██████████| 761/761 [01:05<00:00, 11.62it/s]\n"
     ]
    },
    {
     "name": "stdout",
     "output_type": "stream",
     "text": [
      "{'val_loss': 1.4934342956205584, 'val_accuracy': 0.6029585798816568, 'precision': 0.580902689439701, 'recall': 0.6029585798816568, 'f1-score': 0.5813104973712826, 'macro_f1-score': 0.3052777655415871, 'balanced_accuracy': 0.3565926090379933, 'mcc': 0.4755484817419399, 'train_loss': 2.384345842723621}\n",
      "Epoch 2/20\n"
     ]
    },
    {
     "name": "stderr",
     "output_type": "stream",
     "text": [
      "100%|██████████| 761/761 [01:06<00:00, 11.50it/s]\n"
     ]
    },
    {
     "name": "stdout",
     "output_type": "stream",
     "text": [
      "{'val_loss': 1.3746091037426356, 'val_accuracy': 0.6538461538461539, 'precision': 0.6796254017822982, 'recall': 0.6538461538461539, 'f1-score': 0.6530374818131752, 'macro_f1-score': 0.38375901384595673, 'balanced_accuracy': 0.4141335166729152, 'mcc': 0.5503681480808109, 'train_loss': 0.875531469857254}\n",
      "Epoch 3/20\n"
     ]
    },
    {
     "name": "stderr",
     "output_type": "stream",
     "text": [
      "100%|██████████| 761/761 [01:06<00:00, 11.51it/s]\n"
     ]
    },
    {
     "name": "stdout",
     "output_type": "stream",
     "text": [
      "{'val_loss': 1.4604751313070081, 'val_accuracy': 0.672189349112426, 'precision': 0.6727834129295219, 'recall': 0.672189349112426, 'f1-score': 0.6581583668843825, 'macro_f1-score': 0.40266443703177723, 'balanced_accuracy': 0.4066361239972291, 'mcc': 0.5610640649655195, 'train_loss': 0.494273129468796}\n",
      "Epoch 4/20\n"
     ]
    },
    {
     "name": "stderr",
     "output_type": "stream",
     "text": [
      "100%|██████████| 761/761 [01:06<00:00, 11.38it/s]\n"
     ]
    },
    {
     "name": "stdout",
     "output_type": "stream",
     "text": [
      "{'val_loss': 1.572041263698407, 'val_accuracy': 0.6603550295857988, 'precision': 0.675565190734039, 'recall': 0.6603550295857988, 'f1-score': 0.656959422949403, 'macro_f1-score': 0.3981901403376728, 'balanced_accuracy': 0.3964654830533151, 'mcc': 0.5561089939118247, 'train_loss': 0.35729064498189717}\n",
      "Epoch 5/20\n"
     ]
    },
    {
     "name": "stderr",
     "output_type": "stream",
     "text": [
      "100%|██████████| 761/761 [01:06<00:00, 11.52it/s]\n"
     ]
    },
    {
     "name": "stdout",
     "output_type": "stream",
     "text": [
      "{'val_loss': 1.6390913854230125, 'val_accuracy': 0.6680473372781065, 'precision': 0.6888268503942568, 'recall': 0.6680473372781065, 'f1-score': 0.6640339450511636, 'macro_f1-score': 0.4084126798475621, 'balanced_accuracy': 0.4273208333752701, 'mcc': 0.5701683882455794, 'train_loss': 0.30319693147017573}\n",
      "Epoch 6/20\n"
     ]
    },
    {
     "name": "stderr",
     "output_type": "stream",
     "text": [
      "100%|██████████| 761/761 [01:05<00:00, 11.63it/s]\n"
     ]
    },
    {
     "name": "stdout",
     "output_type": "stream",
     "text": [
      "{'val_loss': 1.7899039716653105, 'val_accuracy': 0.649112426035503, 'precision': 0.6708622283723843, 'recall': 0.649112426035503, 'f1-score': 0.6502053287473204, 'macro_f1-score': 0.40412362613820785, 'balanced_accuracy': 0.4321274816268592, 'mcc': 0.5498810468171811, 'train_loss': 0.26455479683648214}\n",
      "Epoch 7/20\n"
     ]
    },
    {
     "name": "stderr",
     "output_type": "stream",
     "text": [
      "100%|██████████| 761/761 [01:05<00:00, 11.62it/s]\n"
     ]
    },
    {
     "name": "stdout",
     "output_type": "stream",
     "text": [
      "{'val_loss': 1.7136049101937492, 'val_accuracy': 0.6550295857988165, 'precision': 0.6714325938462615, 'recall': 0.6550295857988165, 'f1-score': 0.6527329216330805, 'macro_f1-score': 0.3876641484933231, 'balanced_accuracy': 0.39718726554026546, 'mcc': 0.5551446579352001, 'train_loss': 0.23534230781785173}\n",
      "Epoch 8/20\n"
     ]
    },
    {
     "name": "stderr",
     "output_type": "stream",
     "text": [
      "100%|██████████| 761/761 [01:05<00:00, 11.66it/s]\n"
     ]
    },
    {
     "name": "stdout",
     "output_type": "stream",
     "text": [
      "{'val_loss': 1.8605673718002607, 'val_accuracy': 0.663905325443787, 'precision': 0.6764905861343351, 'recall': 0.663905325443787, 'f1-score': 0.6549754840303176, 'macro_f1-score': 0.41018879692335203, 'balanced_accuracy': 0.4122774581508535, 'mcc': 0.5560025532010784, 'train_loss': 0.2430215306116853}\n",
      "Epoch 9/20\n"
     ]
    },
    {
     "name": "stderr",
     "output_type": "stream",
     "text": [
      "100%|██████████| 761/761 [01:05<00:00, 11.65it/s]\n"
     ]
    },
    {
     "name": "stdout",
     "output_type": "stream",
     "text": [
      "{'val_loss': 1.7547152195617837, 'val_accuracy': 0.650887573964497, 'precision': 0.6814476743668809, 'recall': 0.650887573964497, 'f1-score': 0.6536851128687601, 'macro_f1-score': 0.417818889470636, 'balanced_accuracy': 0.4312764646721068, 'mcc': 0.5560188751119673, 'train_loss': 0.2310577837839654}\n",
      "Epoch 10/20\n"
     ]
    },
    {
     "name": "stderr",
     "output_type": "stream",
     "text": [
      "100%|██████████| 761/761 [01:05<00:00, 11.66it/s]\n"
     ]
    },
    {
     "name": "stdout",
     "output_type": "stream",
     "text": [
      "{'val_loss': 1.8998709862243455, 'val_accuracy': 0.6562130177514793, 'precision': 0.6782422336144074, 'recall': 0.6562130177514793, 'f1-score': 0.6540859219838744, 'macro_f1-score': 0.39059255822653777, 'balanced_accuracy': 0.4143292327151948, 'mcc': 0.5561175615798744, 'train_loss': 0.22022748542961795}\n",
      "Epoch 11/20\n"
     ]
    },
    {
     "name": "stderr",
     "output_type": "stream",
     "text": [
      "100%|██████████| 761/761 [01:05<00:00, 11.67it/s]\n"
     ]
    },
    {
     "name": "stdout",
     "output_type": "stream",
     "text": [
      "{'val_loss': 1.9279975978271016, 'val_accuracy': 0.676923076923077, 'precision': 0.6862944635893438, 'recall': 0.676923076923077, 'f1-score': 0.6650103810568233, 'macro_f1-score': 0.4114767450272624, 'balanced_accuracy': 0.41292030655786555, 'mcc': 0.5693636790967619, 'train_loss': 0.1986163701229079}\n",
      "Epoch 12/20\n"
     ]
    },
    {
     "name": "stderr",
     "output_type": "stream",
     "text": [
      "100%|██████████| 761/761 [01:05<00:00, 11.67it/s]\n"
     ]
    },
    {
     "name": "stdout",
     "output_type": "stream",
     "text": [
      "{'val_loss': 2.065351702132315, 'val_accuracy': 0.6124260355029586, 'precision': 0.6812691393671775, 'recall': 0.6124260355029586, 'f1-score': 0.632200595777821, 'macro_f1-score': 0.3952257532525411, 'balanced_accuracy': 0.43358525558799976, 'mcc': 0.5263224666890539, 'train_loss': 0.2092629516236888}\n",
      "Early stopping.\n",
      "\n",
      " === bert-base-uncased + cnn2filter234drop3 + ros Final 5-fold Cross-Validation Results ===\n",
      "Total time: 3273 seconds\n",
      "Total time: 0 hrs 54 mins 33 secs\n",
      "val_loss: 1.6459\n",
      "val_accuracy: 0.6598\n",
      "precision: 0.6701\n",
      "recall: 0.6598\n",
      "f1-score: 0.6528\n",
      "macro_f1-score: 0.4206\n",
      "balanced_accuracy: 0.4304\n",
      "mcc: 0.5551\n",
      "train_loss: 0.3630\n",
      "▶ Running: bert-base-uncased + cnn2filter234drop5 + ros\n",
      "tokenizer is bert-base-uncased\n",
      "Using device: cuda\n",
      "CUDA Available: True\n",
      "CUDA Device: NVIDIA GeForce RTX 5070 Ti\n",
      "Current GPU Memory Allocated: 0.02 GB\n",
      "Current GPU Memory Cached: 3.07 GB\n",
      "\n",
      "[Fold 1]\n",
      "Label distribution after resampling:\n",
      "  label 0: 2000\n",
      "  label 1: 200\n",
      "  label 2: 200\n",
      "  label 3: 200\n",
      "  label 4: 205\n",
      "  label 5: 200\n",
      "  label 6: 200\n",
      "  label 7: 200\n",
      "  label 8: 200\n",
      "  label 9: 200\n",
      "  label 10: 200\n",
      "  label 11: 200\n",
      "  label 12: 200\n",
      "  label 13: 200\n",
      "  label 14: 200\n",
      "  label 15: 200\n",
      "  label 16: 200\n",
      "  label 17: 231\n",
      "  label 18: 200\n",
      "  label 19: 200\n",
      "  label 20: 200\n",
      "  label 21: 200\n",
      "  label 22: 200\n",
      "  label 23: 200\n",
      "  label 24: 200\n",
      "  label 25: 200\n",
      "  label 26: 200\n",
      "  label 27: 200\n",
      "  label 28: 200\n",
      "  label 29: 200\n",
      "  label 30: 200\n",
      "  label 31: 200\n",
      "  label 32: 200\n",
      "  label 33: 200\n",
      "  label 34: 200\n",
      "  label 35: 200\n",
      "  label 36: 200\n",
      "  label 37: 200\n",
      "  label 38: 200\n",
      "  label 39: 200\n",
      "  label 40: 200\n",
      "  label 41: 200\n",
      "  label 42: 200\n",
      "  label 43: 200\n",
      "  label 44: 200\n",
      "  label 45: 200\n",
      "  label 46: 200\n",
      "  label 47: 529\n",
      "  label 48: 202\n",
      "  label 49: 200\n",
      "model is bert-base-uncased cnn2filter234drop5\n",
      "Epoch 1/20\n"
     ]
    },
    {
     "name": "stderr",
     "output_type": "stream",
     "text": [
      "100%|██████████| 761/761 [01:05<00:00, 11.69it/s]\n"
     ]
    },
    {
     "name": "stdout",
     "output_type": "stream",
     "text": [
      "{'val_loss': 1.5516286925324854, 'val_accuracy': 0.5866351271437019, 'precision': 0.5505228016541632, 'recall': 0.5866351271437019, 'f1-score': 0.533981621621537, 'macro_f1-score': 0.26468029565856094, 'balanced_accuracy': 0.34808430844833127, 'mcc': 0.44321727860351, 'train_loss': 2.6474132478315475}\n",
      "Epoch 2/20\n"
     ]
    },
    {
     "name": "stderr",
     "output_type": "stream",
     "text": [
      "100%|██████████| 761/761 [01:05<00:00, 11.64it/s]\n"
     ]
    },
    {
     "name": "stdout",
     "output_type": "stream",
     "text": [
      "{'val_loss': 1.4061121963105112, 'val_accuracy': 0.6268480189237138, 'precision': 0.6619029364361583, 'recall': 0.6268480189237138, 'f1-score': 0.6176962990188667, 'macro_f1-score': 0.4039695390454706, 'balanced_accuracy': 0.41965211542691877, 'mcc': 0.5072387630371945, 'train_loss': 1.107168864816153}\n",
      "Epoch 3/20\n"
     ]
    },
    {
     "name": "stderr",
     "output_type": "stream",
     "text": [
      "100%|██████████| 761/761 [01:05<00:00, 11.58it/s]\n"
     ]
    },
    {
     "name": "stdout",
     "output_type": "stream",
     "text": [
      "{'val_loss': 1.5237635430300012, 'val_accuracy': 0.6238911886457718, 'precision': 0.6878651465783476, 'recall': 0.6238911886457718, 'f1-score': 0.63719923105985, 'macro_f1-score': 0.4156051253626487, 'balanced_accuracy': 0.45841815748262144, 'mcc': 0.5314133390218809, 'train_loss': 0.6067418873251346}\n",
      "Epoch 4/20\n"
     ]
    },
    {
     "name": "stderr",
     "output_type": "stream",
     "text": [
      "100%|██████████| 761/761 [01:06<00:00, 11.48it/s]\n"
     ]
    },
    {
     "name": "stdout",
     "output_type": "stream",
     "text": [
      "{'val_loss': 1.6172801683533866, 'val_accuracy': 0.6469544648137197, 'precision': 0.6709313460389177, 'recall': 0.6469544648137197, 'f1-score': 0.6401072435483006, 'macro_f1-score': 0.39690912792291255, 'balanced_accuracy': 0.4003132293547346, 'mcc': 0.5376823524593662, 'train_loss': 0.4353053504882598}\n",
      "Epoch 5/20\n"
     ]
    },
    {
     "name": "stderr",
     "output_type": "stream",
     "text": [
      "100%|██████████| 761/761 [01:06<00:00, 11.41it/s]\n"
     ]
    },
    {
     "name": "stdout",
     "output_type": "stream",
     "text": [
      "{'val_loss': 1.638673926018319, 'val_accuracy': 0.641632170313424, 'precision': 0.6757173194773199, 'recall': 0.641632170313424, 'f1-score': 0.6457656840846615, 'macro_f1-score': 0.417463676397688, 'balanced_accuracy': 0.42148061376618445, 'mcc': 0.5341130706638175, 'train_loss': 0.3426483674329778}\n",
      "Epoch 6/20\n"
     ]
    },
    {
     "name": "stderr",
     "output_type": "stream",
     "text": [
      "100%|██████████| 761/761 [01:06<00:00, 11.36it/s]\n"
     ]
    },
    {
     "name": "stdout",
     "output_type": "stream",
     "text": [
      "{'val_loss': 1.6851020813831743, 'val_accuracy': 0.6510940272028386, 'precision': 0.6765685932985769, 'recall': 0.6510940272028386, 'f1-score': 0.6513589859000894, 'macro_f1-score': 0.4124040443819481, 'balanced_accuracy': 0.4045934162793165, 'mcc': 0.5425793040607332, 'train_loss': 0.307281233726434}\n",
      "Epoch 7/20\n"
     ]
    },
    {
     "name": "stderr",
     "output_type": "stream",
     "text": [
      "100%|██████████| 761/761 [01:05<00:00, 11.57it/s]\n"
     ]
    },
    {
     "name": "stdout",
     "output_type": "stream",
     "text": [
      "{'val_loss': 1.827415221142319, 'val_accuracy': 0.6451803666469544, 'precision': 0.6532857798458375, 'recall': 0.6451803666469544, 'f1-score': 0.6392983001174805, 'macro_f1-score': 0.3961659808498618, 'balanced_accuracy': 0.4109281590029614, 'mcc': 0.5324967069688596, 'train_loss': 0.2653656505530458}\n",
      "Epoch 8/20\n"
     ]
    },
    {
     "name": "stderr",
     "output_type": "stream",
     "text": [
      "100%|██████████| 761/761 [01:05<00:00, 11.65it/s]\n"
     ]
    },
    {
     "name": "stdout",
     "output_type": "stream",
     "text": [
      "{'val_loss': 1.96645332619829, 'val_accuracy': 0.6611472501478415, 'precision': 0.6503669661576252, 'recall': 0.6611472501478415, 'f1-score': 0.6394358612828477, 'macro_f1-score': 0.3856985035734344, 'balanced_accuracy': 0.3757006390046181, 'mcc': 0.544810094559524, 'train_loss': 0.2470876851572524}\n",
      "Early stopping.\n",
      "\n",
      "[Fold 2]\n",
      "Label distribution after resampling:\n",
      "  label 0: 2000\n",
      "  label 1: 200\n",
      "  label 2: 200\n",
      "  label 3: 200\n",
      "  label 4: 206\n",
      "  label 5: 200\n",
      "  label 6: 200\n",
      "  label 7: 200\n",
      "  label 8: 200\n",
      "  label 9: 200\n",
      "  label 10: 200\n",
      "  label 11: 200\n",
      "  label 12: 200\n",
      "  label 13: 200\n",
      "  label 14: 200\n",
      "  label 15: 200\n",
      "  label 16: 200\n",
      "  label 17: 231\n",
      "  label 18: 200\n",
      "  label 19: 200\n",
      "  label 20: 200\n",
      "  label 21: 200\n",
      "  label 22: 200\n",
      "  label 23: 200\n",
      "  label 24: 200\n",
      "  label 25: 200\n",
      "  label 26: 200\n",
      "  label 27: 200\n",
      "  label 28: 200\n",
      "  label 29: 200\n",
      "  label 30: 200\n",
      "  label 31: 200\n",
      "  label 32: 200\n",
      "  label 33: 200\n",
      "  label 34: 200\n",
      "  label 35: 200\n",
      "  label 36: 200\n",
      "  label 37: 200\n",
      "  label 38: 200\n",
      "  label 39: 200\n",
      "  label 40: 200\n",
      "  label 41: 200\n",
      "  label 42: 200\n",
      "  label 43: 200\n",
      "  label 44: 200\n",
      "  label 45: 200\n",
      "  label 46: 200\n",
      "  label 47: 528\n",
      "  label 48: 202\n",
      "  label 49: 200\n",
      "model is bert-base-uncased cnn2filter234drop5\n",
      "Epoch 1/20\n"
     ]
    },
    {
     "name": "stderr",
     "output_type": "stream",
     "text": [
      "100%|██████████| 761/761 [01:05<00:00, 11.63it/s]\n"
     ]
    },
    {
     "name": "stdout",
     "output_type": "stream",
     "text": [
      "{'val_loss': 1.5121497337548238, 'val_accuracy': 0.602602010644589, 'precision': 0.5525890703769167, 'recall': 0.602602010644589, 'f1-score': 0.5554426451625624, 'macro_f1-score': 0.27957729894634253, 'balanced_accuracy': 0.3392736758171015, 'mcc': 0.45838394572823454, 'train_loss': 2.627701730828404}\n",
      "Epoch 2/20\n"
     ]
    },
    {
     "name": "stderr",
     "output_type": "stream",
     "text": [
      "100%|██████████| 761/761 [01:05<00:00, 11.66it/s]\n"
     ]
    },
    {
     "name": "stdout",
     "output_type": "stream",
     "text": [
      "{'val_loss': 1.2860265031175793, 'val_accuracy': 0.6558249556475458, 'precision': 0.6657894298866736, 'recall': 0.6558249556475458, 'f1-score': 0.6470391768595721, 'macro_f1-score': 0.4120196233708975, 'balanced_accuracy': 0.4211731309680616, 'mcc': 0.5433720527720137, 'train_loss': 1.0759000551645765}\n",
      "Epoch 3/20\n"
     ]
    },
    {
     "name": "stderr",
     "output_type": "stream",
     "text": [
      "100%|██████████| 761/761 [01:05<00:00, 11.65it/s]\n"
     ]
    },
    {
     "name": "stdout",
     "output_type": "stream",
     "text": [
      "{'val_loss': 1.4564679996022638, 'val_accuracy': 0.6528681253696038, 'precision': 0.6808840735679844, 'recall': 0.6528681253696038, 'f1-score': 0.6546281002902582, 'macro_f1-score': 0.43200607438686134, 'balanced_accuracy': 0.45054030800935785, 'mcc': 0.5517509652914316, 'train_loss': 0.576548028458277}\n",
      "Epoch 4/20\n"
     ]
    },
    {
     "name": "stderr",
     "output_type": "stream",
     "text": [
      "100%|██████████| 761/761 [01:05<00:00, 11.63it/s]\n"
     ]
    },
    {
     "name": "stdout",
     "output_type": "stream",
     "text": [
      "{'val_loss': 1.5304795098754596, 'val_accuracy': 0.638675340035482, 'precision': 0.6695629982982365, 'recall': 0.638675340035482, 'f1-score': 0.6400349166421693, 'macro_f1-score': 0.42319840720731444, 'balanced_accuracy': 0.4478107112295288, 'mcc': 0.5399901718048005, 'train_loss': 0.40336618757514225}\n",
      "Epoch 5/20\n"
     ]
    },
    {
     "name": "stderr",
     "output_type": "stream",
     "text": [
      "100%|██████████| 761/761 [01:05<00:00, 11.66it/s]\n"
     ]
    },
    {
     "name": "stdout",
     "output_type": "stream",
     "text": [
      "{'val_loss': 1.7277329032713513, 'val_accuracy': 0.6392667060910704, 'precision': 0.670440305871698, 'recall': 0.6392667060910704, 'f1-score': 0.6437157278655747, 'macro_f1-score': 0.42292083375648154, 'balanced_accuracy': 0.4514172904584583, 'mcc': 0.5374074238011639, 'train_loss': 0.33156849902842817}\n",
      "Epoch 6/20\n"
     ]
    },
    {
     "name": "stderr",
     "output_type": "stream",
     "text": [
      "100%|██████████| 761/761 [01:05<00:00, 11.63it/s]\n"
     ]
    },
    {
     "name": "stdout",
     "output_type": "stream",
     "text": [
      "{'val_loss': 1.7873804136267248, 'val_accuracy': 0.6428149024246008, 'precision': 0.6714001074041965, 'recall': 0.6428149024246008, 'f1-score': 0.6445977265958887, 'macro_f1-score': 0.4113958810842045, 'balanced_accuracy': 0.4348284897265136, 'mcc': 0.5418219441621127, 'train_loss': 0.2872957285724913}\n",
      "Early stopping.\n",
      "\n",
      "[Fold 3]\n",
      "Label distribution after resampling:\n",
      "  label 0: 2000\n",
      "  label 1: 200\n",
      "  label 2: 200\n",
      "  label 3: 200\n",
      "  label 4: 206\n",
      "  label 5: 200\n",
      "  label 6: 200\n",
      "  label 7: 200\n",
      "  label 8: 200\n",
      "  label 9: 200\n",
      "  label 10: 200\n",
      "  label 11: 200\n",
      "  label 12: 200\n",
      "  label 13: 200\n",
      "  label 14: 200\n",
      "  label 15: 200\n",
      "  label 16: 200\n",
      "  label 17: 231\n",
      "  label 18: 200\n",
      "  label 19: 200\n",
      "  label 20: 200\n",
      "  label 21: 200\n",
      "  label 22: 200\n",
      "  label 23: 200\n",
      "  label 24: 200\n",
      "  label 25: 200\n",
      "  label 26: 200\n",
      "  label 27: 200\n",
      "  label 28: 200\n",
      "  label 29: 200\n",
      "  label 30: 200\n",
      "  label 31: 200\n",
      "  label 32: 200\n",
      "  label 33: 200\n",
      "  label 34: 200\n",
      "  label 35: 200\n",
      "  label 36: 200\n",
      "  label 37: 200\n",
      "  label 38: 200\n",
      "  label 39: 200\n",
      "  label 40: 200\n",
      "  label 41: 200\n",
      "  label 42: 200\n",
      "  label 43: 200\n",
      "  label 44: 200\n",
      "  label 45: 200\n",
      "  label 46: 200\n",
      "  label 47: 529\n",
      "  label 48: 201\n",
      "  label 49: 200\n",
      "model is bert-base-uncased cnn2filter234drop5\n",
      "Epoch 1/20\n"
     ]
    },
    {
     "name": "stderr",
     "output_type": "stream",
     "text": [
      "100%|██████████| 761/761 [01:05<00:00, 11.67it/s]\n"
     ]
    },
    {
     "name": "stdout",
     "output_type": "stream",
     "text": [
      "{'val_loss': 1.642979675306464, 'val_accuracy': 0.5547013601419278, 'precision': 0.5687313562744345, 'recall': 0.5547013601419278, 'f1-score': 0.5520636821054944, 'macro_f1-score': 0.26974301931000055, 'balanced_accuracy': 0.3573764466167832, 'mcc': 0.4337511797800222, 'train_loss': 2.661220538318549}\n",
      "Epoch 2/20\n"
     ]
    },
    {
     "name": "stderr",
     "output_type": "stream",
     "text": [
      "100%|██████████| 761/761 [01:05<00:00, 11.64it/s]\n"
     ]
    },
    {
     "name": "stdout",
     "output_type": "stream",
     "text": [
      "{'val_loss': 1.4353310640128154, 'val_accuracy': 0.6250739207569486, 'precision': 0.6407753202237285, 'recall': 0.6250739207569486, 'f1-score': 0.6182447634438817, 'macro_f1-score': 0.3612529103972841, 'balanced_accuracy': 0.40038052168419114, 'mcc': 0.5159904611088783, 'train_loss': 1.073419197121055}\n",
      "Epoch 3/20\n"
     ]
    },
    {
     "name": "stderr",
     "output_type": "stream",
     "text": [
      "100%|██████████| 761/761 [01:05<00:00, 11.66it/s]\n"
     ]
    },
    {
     "name": "stdout",
     "output_type": "stream",
     "text": [
      "{'val_loss': 1.4184959497091905, 'val_accuracy': 0.6499112950916618, 'precision': 0.6476363778580024, 'recall': 0.6499112950916618, 'f1-score': 0.6297758267397318, 'macro_f1-score': 0.36817017809322067, 'balanced_accuracy': 0.3672282899036043, 'mcc': 0.533386513247735, 'train_loss': 0.5724954686265894}\n",
      "Epoch 4/20\n"
     ]
    },
    {
     "name": "stderr",
     "output_type": "stream",
     "text": [
      "100%|██████████| 761/761 [01:05<00:00, 11.63it/s]\n"
     ]
    },
    {
     "name": "stdout",
     "output_type": "stream",
     "text": [
      "{'val_loss': 1.5418923438157675, 'val_accuracy': 0.6475458308693081, 'precision': 0.66479983691379, 'recall': 0.6475458308693081, 'f1-score': 0.6435020075795478, 'macro_f1-score': 0.3921690920590446, 'balanced_accuracy': 0.4127435769172929, 'mcc': 0.5445929805201948, 'train_loss': 0.4063034096999527}\n",
      "Epoch 5/20\n"
     ]
    },
    {
     "name": "stderr",
     "output_type": "stream",
     "text": [
      "100%|██████████| 761/761 [01:05<00:00, 11.64it/s]\n"
     ]
    },
    {
     "name": "stdout",
     "output_type": "stream",
     "text": [
      "{'val_loss': 1.8447824064290748, 'val_accuracy': 0.6079243051448847, 'precision': 0.6754944426260003, 'recall': 0.6079243051448847, 'f1-score': 0.6210741542237231, 'macro_f1-score': 0.37590771868608536, 'balanced_accuracy': 0.41710402181135575, 'mcc': 0.5099787924264857, 'train_loss': 0.3232148914180608}\n",
      "Epoch 6/20\n"
     ]
    },
    {
     "name": "stderr",
     "output_type": "stream",
     "text": [
      "100%|██████████| 761/761 [01:05<00:00, 11.66it/s]\n"
     ]
    },
    {
     "name": "stdout",
     "output_type": "stream",
     "text": [
      "{'val_loss': 1.746663768898766, 'val_accuracy': 0.6363098758131284, 'precision': 0.6658993451362194, 'recall': 0.6363098758131284, 'f1-score': 0.6333450022488157, 'macro_f1-score': 0.3713642321106734, 'balanced_accuracy': 0.3688482345278391, 'mcc': 0.5297007024278925, 'train_loss': 0.29096422770700653}\n",
      "Epoch 7/20\n"
     ]
    },
    {
     "name": "stderr",
     "output_type": "stream",
     "text": [
      "100%|██████████| 761/761 [01:05<00:00, 11.64it/s]\n"
     ]
    },
    {
     "name": "stdout",
     "output_type": "stream",
     "text": [
      "{'val_loss': 1.9295447547480744, 'val_accuracy': 0.6493199290360734, 'precision': 0.6571396430812181, 'recall': 0.6493199290360734, 'f1-score': 0.6432047446056363, 'macro_f1-score': 0.36340482523861584, 'balanced_accuracy': 0.3779860944722808, 'mcc': 0.5440311162857374, 'train_loss': 0.26421653246201093}\n",
      "Early stopping.\n",
      "\n",
      "[Fold 4]\n",
      "Label distribution after resampling:\n",
      "  label 0: 2000\n",
      "  label 1: 200\n",
      "  label 2: 200\n",
      "  label 3: 200\n",
      "  label 4: 206\n",
      "  label 5: 200\n",
      "  label 6: 200\n",
      "  label 7: 200\n",
      "  label 8: 200\n",
      "  label 9: 200\n",
      "  label 10: 200\n",
      "  label 11: 200\n",
      "  label 12: 200\n",
      "  label 13: 200\n",
      "  label 14: 200\n",
      "  label 15: 200\n",
      "  label 16: 200\n",
      "  label 17: 232\n",
      "  label 18: 200\n",
      "  label 19: 200\n",
      "  label 20: 200\n",
      "  label 21: 200\n",
      "  label 22: 200\n",
      "  label 23: 200\n",
      "  label 24: 200\n",
      "  label 25: 200\n",
      "  label 26: 200\n",
      "  label 27: 200\n",
      "  label 28: 200\n",
      "  label 29: 200\n",
      "  label 30: 200\n",
      "  label 31: 200\n",
      "  label 32: 200\n",
      "  label 33: 200\n",
      "  label 34: 200\n",
      "  label 35: 200\n",
      "  label 36: 200\n",
      "  label 37: 200\n",
      "  label 38: 200\n",
      "  label 39: 200\n",
      "  label 40: 200\n",
      "  label 41: 200\n",
      "  label 42: 200\n",
      "  label 43: 200\n",
      "  label 44: 200\n",
      "  label 45: 200\n",
      "  label 46: 200\n",
      "  label 47: 529\n",
      "  label 48: 201\n",
      "  label 49: 200\n",
      "model is bert-base-uncased cnn2filter234drop5\n",
      "Epoch 1/20\n"
     ]
    },
    {
     "name": "stderr",
     "output_type": "stream",
     "text": [
      "100%|██████████| 761/761 [01:05<00:00, 11.67it/s]\n"
     ]
    },
    {
     "name": "stdout",
     "output_type": "stream",
     "text": [
      "{'val_loss': 1.5671295287474147, 'val_accuracy': 0.5972797161442933, 'precision': 0.525979760803018, 'recall': 0.5972797161442933, 'f1-score': 0.5307853283692426, 'macro_f1-score': 0.24571855314129507, 'balanced_accuracy': 0.30231726393798886, 'mcc': 0.4520216677702804, 'train_loss': 2.9270170510363487}\n",
      "Epoch 2/20\n"
     ]
    },
    {
     "name": "stderr",
     "output_type": "stream",
     "text": [
      "100%|██████████| 761/761 [01:05<00:00, 11.65it/s]\n"
     ]
    },
    {
     "name": "stdout",
     "output_type": "stream",
     "text": [
      "{'val_loss': 1.337165890437252, 'val_accuracy': 0.6380839739798936, 'precision': 0.6763596079954473, 'recall': 0.6380839739798936, 'f1-score': 0.6321740837874321, 'macro_f1-score': 0.40535974805014013, 'balanced_accuracy': 0.4505066304419696, 'mcc': 0.5286620066220793, 'train_loss': 1.2913520450112697}\n",
      "Epoch 3/20\n"
     ]
    },
    {
     "name": "stderr",
     "output_type": "stream",
     "text": [
      "100%|██████████| 761/761 [01:05<00:00, 11.67it/s]\n"
     ]
    },
    {
     "name": "stdout",
     "output_type": "stream",
     "text": [
      "{'val_loss': 1.3451263293061617, 'val_accuracy': 0.6700177409816677, 'precision': 0.699249396731624, 'recall': 0.6700177409816677, 'f1-score': 0.6643558050282579, 'macro_f1-score': 0.4299221141225301, 'balanced_accuracy': 0.44882484325785277, 'mcc': 0.5721682148980287, 'train_loss': 0.6436040155129427}\n",
      "Epoch 4/20\n"
     ]
    },
    {
     "name": "stderr",
     "output_type": "stream",
     "text": [
      "100%|██████████| 761/761 [01:05<00:00, 11.67it/s]\n"
     ]
    },
    {
     "name": "stdout",
     "output_type": "stream",
     "text": [
      "{'val_loss': 1.5389283262896087, 'val_accuracy': 0.6658781785925488, 'precision': 0.6959008776234097, 'recall': 0.6658781785925488, 'f1-score': 0.6663634376309004, 'macro_f1-score': 0.4315501124249777, 'balanced_accuracy': 0.46096107094863115, 'mcc': 0.5695482637742748, 'train_loss': 0.4362957341236683}\n",
      "Epoch 5/20\n"
     ]
    },
    {
     "name": "stderr",
     "output_type": "stream",
     "text": [
      "100%|██████████| 761/761 [01:05<00:00, 11.67it/s]\n"
     ]
    },
    {
     "name": "stdout",
     "output_type": "stream",
     "text": [
      "{'val_loss': 1.4929317258438974, 'val_accuracy': 0.6782968657599053, 'precision': 0.703223320930855, 'recall': 0.6782968657599053, 'f1-score': 0.6806330562876961, 'macro_f1-score': 0.4536437268001905, 'balanced_accuracy': 0.47099137535875096, 'mcc': 0.5845426182107877, 'train_loss': 0.3327587997998538}\n",
      "Epoch 6/20\n"
     ]
    },
    {
     "name": "stderr",
     "output_type": "stream",
     "text": [
      "100%|██████████| 761/761 [01:04<00:00, 11.71it/s]\n"
     ]
    },
    {
     "name": "stdout",
     "output_type": "stream",
     "text": [
      "{'val_loss': 1.7218141661218878, 'val_accuracy': 0.6830277942046127, 'precision': 0.6863645604328684, 'recall': 0.6830277942046127, 'f1-score': 0.6618593022760277, 'macro_f1-score': 0.41674269219025445, 'balanced_accuracy': 0.40762192523494717, 'mcc': 0.5718993384077036, 'train_loss': 0.28828143535375245}\n",
      "Epoch 7/20\n"
     ]
    },
    {
     "name": "stderr",
     "output_type": "stream",
     "text": [
      "100%|██████████| 761/761 [01:05<00:00, 11.66it/s]\n"
     ]
    },
    {
     "name": "stdout",
     "output_type": "stream",
     "text": [
      "{'val_loss': 1.6648327605623119, 'val_accuracy': 0.6694263749260793, 'precision': 0.6933930327893343, 'recall': 0.6694263749260793, 'f1-score': 0.6690815185511283, 'macro_f1-score': 0.4432256157399892, 'balanced_accuracy': 0.4641203779771498, 'mcc': 0.5738431875693459, 'train_loss': 0.2545717633500666}\n",
      "Epoch 8/20\n"
     ]
    },
    {
     "name": "stderr",
     "output_type": "stream",
     "text": [
      "100%|██████████| 761/761 [01:05<00:00, 11.67it/s]\n"
     ]
    },
    {
     "name": "stdout",
     "output_type": "stream",
     "text": [
      "{'val_loss': 1.641203857536586, 'val_accuracy': 0.6641040804257835, 'precision': 0.6924943470973606, 'recall': 0.6641040804257835, 'f1-score': 0.6654879327866151, 'macro_f1-score': 0.40832360137021945, 'balanced_accuracy': 0.4287250273977123, 'mcc': 0.5651241346247677, 'train_loss': 0.2488661816015683}\n",
      "Early stopping.\n",
      "\n",
      "[Fold 5]\n",
      "Label distribution after resampling:\n",
      "  label 0: 2000\n",
      "  label 1: 200\n",
      "  label 2: 200\n",
      "  label 3: 200\n",
      "  label 4: 205\n",
      "  label 5: 200\n",
      "  label 6: 200\n",
      "  label 7: 200\n",
      "  label 8: 200\n",
      "  label 9: 200\n",
      "  label 10: 200\n",
      "  label 11: 200\n",
      "  label 12: 200\n",
      "  label 13: 200\n",
      "  label 14: 200\n",
      "  label 15: 200\n",
      "  label 16: 200\n",
      "  label 17: 231\n",
      "  label 18: 200\n",
      "  label 19: 200\n",
      "  label 20: 200\n",
      "  label 21: 200\n",
      "  label 22: 200\n",
      "  label 23: 200\n",
      "  label 24: 200\n",
      "  label 25: 200\n",
      "  label 26: 200\n",
      "  label 27: 200\n",
      "  label 28: 200\n",
      "  label 29: 200\n",
      "  label 30: 200\n",
      "  label 31: 200\n",
      "  label 32: 200\n",
      "  label 33: 200\n",
      "  label 34: 200\n",
      "  label 35: 200\n",
      "  label 36: 200\n",
      "  label 37: 200\n",
      "  label 38: 200\n",
      "  label 39: 200\n",
      "  label 40: 200\n",
      "  label 41: 200\n",
      "  label 42: 200\n",
      "  label 43: 200\n",
      "  label 44: 200\n",
      "  label 45: 200\n",
      "  label 46: 200\n",
      "  label 47: 529\n",
      "  label 48: 202\n",
      "  label 49: 200\n",
      "model is bert-base-uncased cnn2filter234drop5\n",
      "Epoch 1/20\n"
     ]
    },
    {
     "name": "stderr",
     "output_type": "stream",
     "text": [
      "100%|██████████| 761/761 [01:05<00:00, 11.66it/s]\n"
     ]
    },
    {
     "name": "stdout",
     "output_type": "stream",
     "text": [
      "{'val_loss': 1.550317331867398, 'val_accuracy': 0.5976331360946746, 'precision': 0.5733733070877431, 'recall': 0.5976331360946746, 'f1-score': 0.5691513229939552, 'macro_f1-score': 0.28139050165922413, 'balanced_accuracy': 0.3268935495711998, 'mcc': 0.4669339260316652, 'train_loss': 2.6555806193182567}\n",
      "Epoch 2/20\n"
     ]
    },
    {
     "name": "stderr",
     "output_type": "stream",
     "text": [
      "100%|██████████| 761/761 [01:05<00:00, 11.68it/s]\n"
     ]
    },
    {
     "name": "stdout",
     "output_type": "stream",
     "text": [
      "{'val_loss': 1.3671451778906696, 'val_accuracy': 0.6479289940828402, 'precision': 0.6611563354823835, 'recall': 0.6479289940828402, 'f1-score': 0.6417829948349171, 'macro_f1-score': 0.3593172732165334, 'balanced_accuracy': 0.3795817191219965, 'mcc': 0.5389226984415415, 'train_loss': 1.033457894460757}\n",
      "Epoch 3/20\n"
     ]
    },
    {
     "name": "stderr",
     "output_type": "stream",
     "text": [
      "100%|██████████| 761/761 [01:05<00:00, 11.68it/s]\n"
     ]
    },
    {
     "name": "stdout",
     "output_type": "stream",
     "text": [
      "{'val_loss': 1.4091086441053535, 'val_accuracy': 0.6668639053254438, 'precision': 0.6797111019610059, 'recall': 0.6668639053254438, 'f1-score': 0.6606781404276949, 'macro_f1-score': 0.42336033936099093, 'balanced_accuracy': 0.45001838298001473, 'mcc': 0.5723201575358629, 'train_loss': 0.5594778531004581}\n",
      "Epoch 4/20\n"
     ]
    },
    {
     "name": "stderr",
     "output_type": "stream",
     "text": [
      "100%|██████████| 761/761 [01:05<00:00, 11.66it/s]\n"
     ]
    },
    {
     "name": "stdout",
     "output_type": "stream",
     "text": [
      "{'val_loss': 1.5310609003282942, 'val_accuracy': 0.6461538461538462, 'precision': 0.6765438997730633, 'recall': 0.6461538461538462, 'f1-score': 0.6419473545727538, 'macro_f1-score': 0.3738221006142684, 'balanced_accuracy': 0.3962663242156178, 'mcc': 0.5452898088034128, 'train_loss': 0.39350897961010994}\n",
      "Epoch 5/20\n"
     ]
    },
    {
     "name": "stderr",
     "output_type": "stream",
     "text": [
      "100%|██████████| 761/761 [01:05<00:00, 11.68it/s]\n"
     ]
    },
    {
     "name": "stdout",
     "output_type": "stream",
     "text": [
      "{'val_loss': 1.6630165027278774, 'val_accuracy': 0.6650887573964497, 'precision': 0.6805595046280901, 'recall': 0.6650887573964497, 'f1-score': 0.6596893197545552, 'macro_f1-score': 0.4142815178951987, 'balanced_accuracy': 0.4205749236471472, 'mcc': 0.5566534682220073, 'train_loss': 0.31357201558149833}\n",
      "Epoch 6/20\n"
     ]
    },
    {
     "name": "stderr",
     "output_type": "stream",
     "text": [
      "100%|██████████| 761/761 [01:05<00:00, 11.63it/s]\n"
     ]
    },
    {
     "name": "stdout",
     "output_type": "stream",
     "text": [
      "{'val_loss': 1.6188315403348994, 'val_accuracy': 0.665680473372781, 'precision': 0.6714641610231447, 'recall': 0.665680473372781, 'f1-score': 0.6602328240579063, 'macro_f1-score': 0.3889478512617158, 'balanced_accuracy': 0.39952297620265526, 'mcc': 0.5637964402229848, 'train_loss': 0.31029887464259714}\n",
      "Early stopping.\n",
      "\n",
      " === bert-base-uncased + cnn2filter234drop5 + ros Final 5-fold Cross-Validation Results ===\n",
      "Total time: 2431 seconds\n",
      "Total time: 0 hrs 40 mins 31 secs\n",
      "val_loss: 1.5078\n",
      "val_accuracy: 0.6574\n",
      "precision: 0.6809\n",
      "recall: 0.6574\n",
      "f1-score: 0.6570\n",
      "macro_f1-score: 0.4237\n",
      "balanced_accuracy: 0.4412\n",
      "mcc: 0.5575\n",
      "train_loss: 0.4435\n",
      "▶ Running: bert-base-uncased + cnn2filter345drop3 + ros\n",
      "tokenizer is bert-base-uncased\n",
      "Using device: cuda\n",
      "CUDA Available: True\n",
      "CUDA Device: NVIDIA GeForce RTX 5070 Ti\n",
      "Current GPU Memory Allocated: 0.02 GB\n",
      "Current GPU Memory Cached: 3.07 GB\n",
      "\n",
      "[Fold 1]\n",
      "Label distribution after resampling:\n",
      "  label 0: 2000\n",
      "  label 1: 200\n",
      "  label 2: 200\n",
      "  label 3: 200\n",
      "  label 4: 205\n",
      "  label 5: 200\n",
      "  label 6: 200\n",
      "  label 7: 200\n",
      "  label 8: 200\n",
      "  label 9: 200\n",
      "  label 10: 200\n",
      "  label 11: 200\n",
      "  label 12: 200\n",
      "  label 13: 200\n",
      "  label 14: 200\n",
      "  label 15: 200\n",
      "  label 16: 200\n",
      "  label 17: 231\n",
      "  label 18: 200\n",
      "  label 19: 200\n",
      "  label 20: 200\n",
      "  label 21: 200\n",
      "  label 22: 200\n",
      "  label 23: 200\n",
      "  label 24: 200\n",
      "  label 25: 200\n",
      "  label 26: 200\n",
      "  label 27: 200\n",
      "  label 28: 200\n",
      "  label 29: 200\n",
      "  label 30: 200\n",
      "  label 31: 200\n",
      "  label 32: 200\n",
      "  label 33: 200\n",
      "  label 34: 200\n",
      "  label 35: 200\n",
      "  label 36: 200\n",
      "  label 37: 200\n",
      "  label 38: 200\n",
      "  label 39: 200\n",
      "  label 40: 200\n",
      "  label 41: 200\n",
      "  label 42: 200\n",
      "  label 43: 200\n",
      "  label 44: 200\n",
      "  label 45: 200\n",
      "  label 46: 200\n",
      "  label 47: 529\n",
      "  label 48: 202\n",
      "  label 49: 200\n",
      "model is bert-base-uncased cnn2filter345drop3\n",
      "Epoch 1/20\n"
     ]
    },
    {
     "name": "stderr",
     "output_type": "stream",
     "text": [
      "100%|██████████| 761/761 [01:05<00:00, 11.63it/s]\n"
     ]
    },
    {
     "name": "stdout",
     "output_type": "stream",
     "text": [
      "{'val_loss': 1.4832505676543937, 'val_accuracy': 0.5830869308101715, 'precision': 0.6784176059319135, 'recall': 0.5830869308101715, 'f1-score': 0.5803693636457417, 'macro_f1-score': 0.36465524834222185, 'balanced_accuracy': 0.4245976645954196, 'mcc': 0.456428041119059, 'train_loss': 2.3129651866040626}\n",
      "Epoch 2/20\n"
     ]
    },
    {
     "name": "stderr",
     "output_type": "stream",
     "text": [
      "100%|██████████| 761/761 [01:05<00:00, 11.62it/s]\n"
     ]
    },
    {
     "name": "stdout",
     "output_type": "stream",
     "text": [
      "{'val_loss': 1.3750933324390988, 'val_accuracy': 0.628622117090479, 'precision': 0.6760701397520611, 'recall': 0.628622117090479, 'f1-score': 0.6296220499750973, 'macro_f1-score': 0.4059726303379661, 'balanced_accuracy': 0.42102066101084196, 'mcc': 0.5165374759310036, 'train_loss': 0.8063704954966923}\n",
      "Epoch 3/20\n"
     ]
    },
    {
     "name": "stderr",
     "output_type": "stream",
     "text": [
      "100%|██████████| 761/761 [01:05<00:00, 11.61it/s]\n"
     ]
    },
    {
     "name": "stdout",
     "output_type": "stream",
     "text": [
      "{'val_loss': 1.4473114373548976, 'val_accuracy': 0.6481371969248965, 'precision': 0.6856160559820531, 'recall': 0.6481371969248965, 'f1-score': 0.6424294377745725, 'macro_f1-score': 0.43667569644800075, 'balanced_accuracy': 0.4284452232888362, 'mcc': 0.5363103304561798, 'train_loss': 0.46700587583297026}\n",
      "Epoch 4/20\n"
     ]
    },
    {
     "name": "stderr",
     "output_type": "stream",
     "text": [
      "100%|██████████| 761/761 [01:05<00:00, 11.61it/s]\n"
     ]
    },
    {
     "name": "stdout",
     "output_type": "stream",
     "text": [
      "{'val_loss': 1.557310680735786, 'val_accuracy': 0.6351271437019516, 'precision': 0.6831233007350879, 'recall': 0.6351271437019516, 'f1-score': 0.6425311845263235, 'macro_f1-score': 0.4129142440545817, 'balanced_accuracy': 0.43740676912841864, 'mcc': 0.538346417273948, 'train_loss': 0.3553308417602062}\n",
      "Epoch 5/20\n"
     ]
    },
    {
     "name": "stderr",
     "output_type": "stream",
     "text": [
      "100%|██████████| 761/761 [01:05<00:00, 11.61it/s]\n"
     ]
    },
    {
     "name": "stdout",
     "output_type": "stream",
     "text": [
      "{'val_loss': 1.7560409689849277, 'val_accuracy': 0.6581904198698995, 'precision': 0.674389214835313, 'recall': 0.6581904198698995, 'f1-score': 0.6537647550228226, 'macro_f1-score': 0.40681962749211636, 'balanced_accuracy': 0.41201008547026574, 'mcc': 0.5519285307488446, 'train_loss': 0.29241652331595236}\n",
      "Epoch 6/20\n"
     ]
    },
    {
     "name": "stderr",
     "output_type": "stream",
     "text": [
      "100%|██████████| 761/761 [01:05<00:00, 11.65it/s]\n"
     ]
    },
    {
     "name": "stdout",
     "output_type": "stream",
     "text": [
      "{'val_loss': 1.7047262463086057, 'val_accuracy': 0.6617386162034299, 'precision': 0.6818877483466799, 'recall': 0.6617386162034299, 'f1-score': 0.659299416884803, 'macro_f1-score': 0.4348213597949235, 'balanced_accuracy': 0.45416426064719295, 'mcc': 0.5607464212889199, 'train_loss': 0.26999314795596996}\n",
      "Early stopping.\n",
      "\n",
      "[Fold 2]\n",
      "Label distribution after resampling:\n",
      "  label 0: 2000\n",
      "  label 1: 200\n",
      "  label 2: 200\n",
      "  label 3: 200\n",
      "  label 4: 206\n",
      "  label 5: 200\n",
      "  label 6: 200\n",
      "  label 7: 200\n",
      "  label 8: 200\n",
      "  label 9: 200\n",
      "  label 10: 200\n",
      "  label 11: 200\n",
      "  label 12: 200\n",
      "  label 13: 200\n",
      "  label 14: 200\n",
      "  label 15: 200\n",
      "  label 16: 200\n",
      "  label 17: 231\n",
      "  label 18: 200\n",
      "  label 19: 200\n",
      "  label 20: 200\n",
      "  label 21: 200\n",
      "  label 22: 200\n",
      "  label 23: 200\n",
      "  label 24: 200\n",
      "  label 25: 200\n",
      "  label 26: 200\n",
      "  label 27: 200\n",
      "  label 28: 200\n",
      "  label 29: 200\n",
      "  label 30: 200\n",
      "  label 31: 200\n",
      "  label 32: 200\n",
      "  label 33: 200\n",
      "  label 34: 200\n",
      "  label 35: 200\n",
      "  label 36: 200\n",
      "  label 37: 200\n",
      "  label 38: 200\n",
      "  label 39: 200\n",
      "  label 40: 200\n",
      "  label 41: 200\n",
      "  label 42: 200\n",
      "  label 43: 200\n",
      "  label 44: 200\n",
      "  label 45: 200\n",
      "  label 46: 200\n",
      "  label 47: 528\n",
      "  label 48: 202\n",
      "  label 49: 200\n",
      "model is bert-base-uncased cnn2filter345drop3\n",
      "Epoch 1/20\n"
     ]
    },
    {
     "name": "stderr",
     "output_type": "stream",
     "text": [
      "100%|██████████| 761/761 [01:05<00:00, 11.62it/s]\n"
     ]
    },
    {
     "name": "stdout",
     "output_type": "stream",
     "text": [
      "{'val_loss': 1.4583351797652695, 'val_accuracy': 0.5819041986989947, 'precision': 0.6779930558495011, 'recall': 0.5819041986989947, 'f1-score': 0.5930226180131444, 'macro_f1-score': 0.3536740623637127, 'balanced_accuracy': 0.43377467999683134, 'mcc': 0.47010531760563024, 'train_loss': 2.2781045493252488}\n",
      "Epoch 2/20\n"
     ]
    },
    {
     "name": "stderr",
     "output_type": "stream",
     "text": [
      "100%|██████████| 761/761 [01:05<00:00, 11.62it/s]\n"
     ]
    },
    {
     "name": "stdout",
     "output_type": "stream",
     "text": [
      "{'val_loss': 1.4551879704560873, 'val_accuracy': 0.6055588409225311, 'precision': 0.6770530638229392, 'recall': 0.6055588409225311, 'f1-score': 0.624318710670856, 'macro_f1-score': 0.3955662704632378, 'balanced_accuracy': 0.44917422948996666, 'mcc': 0.5046891159746778, 'train_loss': 0.8128944407859707}\n",
      "Epoch 3/20\n"
     ]
    },
    {
     "name": "stderr",
     "output_type": "stream",
     "text": [
      "100%|██████████| 761/761 [01:05<00:00, 11.61it/s]\n"
     ]
    },
    {
     "name": "stdout",
     "output_type": "stream",
     "text": [
      "{'val_loss': 1.4659319154496462, 'val_accuracy': 0.6599645180366647, 'precision': 0.6592615471905588, 'recall': 0.6599645180366647, 'f1-score': 0.6507748232051256, 'macro_f1-score': 0.4510135524045198, 'balanced_accuracy': 0.45570061545631646, 'mcc': 0.5488603171462482, 'train_loss': 0.45913112611459683}\n",
      "Epoch 4/20\n"
     ]
    },
    {
     "name": "stderr",
     "output_type": "stream",
     "text": [
      "100%|██████████| 761/761 [01:05<00:00, 11.61it/s]\n"
     ]
    },
    {
     "name": "stdout",
     "output_type": "stream",
     "text": [
      "{'val_loss': 1.584063931737306, 'val_accuracy': 0.6292134831460674, 'precision': 0.6519423694374378, 'recall': 0.6292134831460674, 'f1-score': 0.6306750008091139, 'macro_f1-score': 0.42162487107373586, 'balanced_accuracy': 0.4396195906308509, 'mcc': 0.5217244840367075, 'train_loss': 0.3490300907162306}\n",
      "Epoch 5/20\n"
     ]
    },
    {
     "name": "stderr",
     "output_type": "stream",
     "text": [
      "100%|██████████| 761/761 [01:05<00:00, 11.63it/s]\n"
     ]
    },
    {
     "name": "stdout",
     "output_type": "stream",
     "text": [
      "{'val_loss': 1.612639371727435, 'val_accuracy': 0.6552335895919574, 'precision': 0.6634271490727647, 'recall': 0.6552335895919574, 'f1-score': 0.6483821990839229, 'macro_f1-score': 0.42398111815316114, 'balanced_accuracy': 0.44099432511663755, 'mcc': 0.5471529739277741, 'train_loss': 0.2830531814431774}\n",
      "Epoch 6/20\n"
     ]
    },
    {
     "name": "stderr",
     "output_type": "stream",
     "text": [
      "100%|██████████| 761/761 [01:05<00:00, 11.61it/s]\n"
     ]
    },
    {
     "name": "stdout",
     "output_type": "stream",
     "text": [
      "{'val_loss': 1.7595631603924733, 'val_accuracy': 0.6570076877587226, 'precision': 0.6663817669028006, 'recall': 0.6570076877587226, 'f1-score': 0.651336667820528, 'macro_f1-score': 0.43778426967913453, 'balanced_accuracy': 0.46357683887893997, 'mcc': 0.553504638114964, 'train_loss': 0.2619562775995607}\n",
      "Early stopping.\n",
      "\n",
      "[Fold 3]\n",
      "Label distribution after resampling:\n",
      "  label 0: 2000\n",
      "  label 1: 200\n",
      "  label 2: 200\n",
      "  label 3: 200\n",
      "  label 4: 206\n",
      "  label 5: 200\n",
      "  label 6: 200\n",
      "  label 7: 200\n",
      "  label 8: 200\n",
      "  label 9: 200\n",
      "  label 10: 200\n",
      "  label 11: 200\n",
      "  label 12: 200\n",
      "  label 13: 200\n",
      "  label 14: 200\n",
      "  label 15: 200\n",
      "  label 16: 200\n",
      "  label 17: 231\n",
      "  label 18: 200\n",
      "  label 19: 200\n",
      "  label 20: 200\n",
      "  label 21: 200\n",
      "  label 22: 200\n",
      "  label 23: 200\n",
      "  label 24: 200\n",
      "  label 25: 200\n",
      "  label 26: 200\n",
      "  label 27: 200\n",
      "  label 28: 200\n",
      "  label 29: 200\n",
      "  label 30: 200\n",
      "  label 31: 200\n",
      "  label 32: 200\n",
      "  label 33: 200\n",
      "  label 34: 200\n",
      "  label 35: 200\n",
      "  label 36: 200\n",
      "  label 37: 200\n",
      "  label 38: 200\n",
      "  label 39: 200\n",
      "  label 40: 200\n",
      "  label 41: 200\n",
      "  label 42: 200\n",
      "  label 43: 200\n",
      "  label 44: 200\n",
      "  label 45: 200\n",
      "  label 46: 200\n",
      "  label 47: 529\n",
      "  label 48: 201\n",
      "  label 49: 200\n",
      "model is bert-base-uncased cnn2filter345drop3\n",
      "Epoch 1/20\n"
     ]
    },
    {
     "name": "stderr",
     "output_type": "stream",
     "text": [
      "100%|██████████| 761/761 [01:05<00:00, 11.63it/s]\n"
     ]
    },
    {
     "name": "stdout",
     "output_type": "stream",
     "text": [
      "{'val_loss': 1.5107003270455126, 'val_accuracy': 0.6020106445890006, 'precision': 0.6095958661644947, 'recall': 0.6020106445890006, 'f1-score': 0.5823385221826067, 'macro_f1-score': 0.3324820362596818, 'balanced_accuracy': 0.39850215884670687, 'mcc': 0.47106947559640727, 'train_loss': 2.2488647333582503}\n",
      "Epoch 2/20\n"
     ]
    },
    {
     "name": "stderr",
     "output_type": "stream",
     "text": [
      "100%|██████████| 761/761 [01:05<00:00, 11.60it/s]\n"
     ]
    },
    {
     "name": "stdout",
     "output_type": "stream",
     "text": [
      "{'val_loss': 1.4296929110895913, 'val_accuracy': 0.6292134831460674, 'precision': 0.6390320023582233, 'recall': 0.6292134831460674, 'f1-score': 0.6134899497015566, 'macro_f1-score': 0.3349022875806796, 'balanced_accuracy': 0.36388510293972715, 'mcc': 0.5158086578593755, 'train_loss': 0.7861310954397831}\n",
      "Epoch 3/20\n"
     ]
    },
    {
     "name": "stderr",
     "output_type": "stream",
     "text": [
      "100%|██████████| 761/761 [01:05<00:00, 11.62it/s]\n"
     ]
    },
    {
     "name": "stdout",
     "output_type": "stream",
     "text": [
      "{'val_loss': 1.5228305374676327, 'val_accuracy': 0.6268480189237138, 'precision': 0.6599216642456932, 'recall': 0.6268480189237138, 'f1-score': 0.6278721286857388, 'macro_f1-score': 0.3474710467483939, 'balanced_accuracy': 0.3911061469933872, 'mcc': 0.5270967525654048, 'train_loss': 0.44950273059279156}\n",
      "Epoch 4/20\n"
     ]
    },
    {
     "name": "stderr",
     "output_type": "stream",
     "text": [
      "100%|██████████| 761/761 [01:05<00:00, 11.61it/s]\n"
     ]
    },
    {
     "name": "stdout",
     "output_type": "stream",
     "text": [
      "{'val_loss': 1.6400516809157606, 'val_accuracy': 0.6363098758131284, 'precision': 0.6613387696166435, 'recall': 0.6363098758131284, 'f1-score': 0.6327744642718884, 'macro_f1-score': 0.3480102218938788, 'balanced_accuracy': 0.35815213685641156, 'mcc': 0.5343856901330055, 'train_loss': 0.33559177187607964}\n",
      "Epoch 5/20\n"
     ]
    },
    {
     "name": "stderr",
     "output_type": "stream",
     "text": [
      "100%|██████████| 761/761 [01:05<00:00, 11.62it/s]\n"
     ]
    },
    {
     "name": "stdout",
     "output_type": "stream",
     "text": [
      "{'val_loss': 1.78961381316185, 'val_accuracy': 0.6268480189237138, 'precision': 0.6625165784844841, 'recall': 0.6268480189237138, 'f1-score': 0.6271922301509658, 'macro_f1-score': 0.3658768259073639, 'balanced_accuracy': 0.38079916492512444, 'mcc': 0.5241977670606717, 'train_loss': 0.2836553723748367}\n",
      "Epoch 6/20\n"
     ]
    },
    {
     "name": "stderr",
     "output_type": "stream",
     "text": [
      "100%|██████████| 761/761 [01:05<00:00, 11.63it/s]\n"
     ]
    },
    {
     "name": "stdout",
     "output_type": "stream",
     "text": [
      "{'val_loss': 1.775242676712432, 'val_accuracy': 0.6510940272028386, 'precision': 0.6468221582003705, 'recall': 0.6510940272028386, 'f1-score': 0.6402925951066712, 'macro_f1-score': 0.36519117723670164, 'balanced_accuracy': 0.3606547114980874, 'mcc': 0.5398455410368653, 'train_loss': 0.254607931590234}\n",
      "Epoch 7/20\n"
     ]
    },
    {
     "name": "stderr",
     "output_type": "stream",
     "text": [
      "100%|██████████| 761/761 [01:05<00:00, 11.60it/s]\n"
     ]
    },
    {
     "name": "stdout",
     "output_type": "stream",
     "text": [
      "{'val_loss': 1.8315067614586849, 'val_accuracy': 0.657599053814311, 'precision': 0.6619850886422681, 'recall': 0.657599053814311, 'f1-score': 0.6491655911829517, 'macro_f1-score': 0.35150388697604046, 'balanced_accuracy': 0.3613158916056615, 'mcc': 0.548293715531682, 'train_loss': 0.2423037422931681}\n",
      "Epoch 8/20\n"
     ]
    },
    {
     "name": "stderr",
     "output_type": "stream",
     "text": [
      "100%|██████████| 761/761 [01:05<00:00, 11.62it/s]\n"
     ]
    },
    {
     "name": "stdout",
     "output_type": "stream",
     "text": [
      "{'val_loss': 1.9922977714043744, 'val_accuracy': 0.6380839739798936, 'precision': 0.6659709309746105, 'recall': 0.6380839739798936, 'f1-score': 0.6382800286792311, 'macro_f1-score': 0.394308363005742, 'balanced_accuracy': 0.42102967634078203, 'mcc': 0.5382841081223187, 'train_loss': 0.2312426066813004}\n",
      "Epoch 9/20\n"
     ]
    },
    {
     "name": "stderr",
     "output_type": "stream",
     "text": [
      "100%|██████████| 761/761 [01:05<00:00, 11.60it/s]\n"
     ]
    },
    {
     "name": "stdout",
     "output_type": "stream",
     "text": [
      "{'val_loss': 1.9360826735226613, 'val_accuracy': 0.6280307510348906, 'precision': 0.6518904471060998, 'recall': 0.6280307510348906, 'f1-score': 0.6254268170426459, 'macro_f1-score': 0.33700657568669123, 'balanced_accuracy': 0.3620687282205507, 'mcc': 0.5221063988969699, 'train_loss': 0.21194828539363472}\n",
      "Epoch 10/20\n"
     ]
    },
    {
     "name": "stderr",
     "output_type": "stream",
     "text": [
      "100%|██████████| 761/761 [01:05<00:00, 11.62it/s]\n"
     ]
    },
    {
     "name": "stdout",
     "output_type": "stream",
     "text": [
      "{'val_loss': 1.8986557927334085, 'val_accuracy': 0.6688350088704909, 'precision': 0.6553831059204728, 'recall': 0.6688350088704909, 'f1-score': 0.6539424604286018, 'macro_f1-score': 0.36371335702614743, 'balanced_accuracy': 0.3611224245434091, 'mcc': 0.5618661197709728, 'train_loss': 0.20675378763018992}\n",
      "Epoch 11/20\n"
     ]
    },
    {
     "name": "stderr",
     "output_type": "stream",
     "text": [
      "100%|██████████| 761/761 [01:05<00:00, 11.63it/s]\n"
     ]
    },
    {
     "name": "stdout",
     "output_type": "stream",
     "text": [
      "{'val_loss': 1.8512427247357819, 'val_accuracy': 0.6457717327025428, 'precision': 0.6561225069375001, 'recall': 0.6457717327025428, 'f1-score': 0.6400626557545877, 'macro_f1-score': 0.3585885213475711, 'balanced_accuracy': 0.38101044438955156, 'mcc': 0.5464505215103475, 'train_loss': 0.21263599570726782}\n",
      "Early stopping.\n",
      "\n",
      "[Fold 4]\n",
      "Label distribution after resampling:\n",
      "  label 0: 2000\n",
      "  label 1: 200\n",
      "  label 2: 200\n",
      "  label 3: 200\n",
      "  label 4: 206\n",
      "  label 5: 200\n",
      "  label 6: 200\n",
      "  label 7: 200\n",
      "  label 8: 200\n",
      "  label 9: 200\n",
      "  label 10: 200\n",
      "  label 11: 200\n",
      "  label 12: 200\n",
      "  label 13: 200\n",
      "  label 14: 200\n",
      "  label 15: 200\n",
      "  label 16: 200\n",
      "  label 17: 232\n",
      "  label 18: 200\n",
      "  label 19: 200\n",
      "  label 20: 200\n",
      "  label 21: 200\n",
      "  label 22: 200\n",
      "  label 23: 200\n",
      "  label 24: 200\n",
      "  label 25: 200\n",
      "  label 26: 200\n",
      "  label 27: 200\n",
      "  label 28: 200\n",
      "  label 29: 200\n",
      "  label 30: 200\n",
      "  label 31: 200\n",
      "  label 32: 200\n",
      "  label 33: 200\n",
      "  label 34: 200\n",
      "  label 35: 200\n",
      "  label 36: 200\n",
      "  label 37: 200\n",
      "  label 38: 200\n",
      "  label 39: 200\n",
      "  label 40: 200\n",
      "  label 41: 200\n",
      "  label 42: 200\n",
      "  label 43: 200\n",
      "  label 44: 200\n",
      "  label 45: 200\n",
      "  label 46: 200\n",
      "  label 47: 529\n",
      "  label 48: 201\n",
      "  label 49: 200\n",
      "model is bert-base-uncased cnn2filter345drop3\n",
      "Epoch 1/20\n"
     ]
    },
    {
     "name": "stderr",
     "output_type": "stream",
     "text": [
      "100%|██████████| 761/761 [01:05<00:00, 11.61it/s]\n"
     ]
    },
    {
     "name": "stdout",
     "output_type": "stream",
     "text": [
      "{'val_loss': 1.3298209244912524, 'val_accuracy': 0.6191602602010644, 'precision': 0.6047040163950144, 'recall': 0.6191602602010644, 'f1-score': 0.5966793993887642, 'macro_f1-score': 0.35381240107435225, 'balanced_accuracy': 0.39699607024631617, 'mcc': 0.5001924623962098, 'train_loss': 2.466655648490916}\n",
      "Epoch 2/20\n"
     ]
    },
    {
     "name": "stderr",
     "output_type": "stream",
     "text": [
      "100%|██████████| 761/761 [01:05<00:00, 11.62it/s]\n"
     ]
    },
    {
     "name": "stdout",
     "output_type": "stream",
     "text": [
      "{'val_loss': 1.3640889516978894, 'val_accuracy': 0.63571850975754, 'precision': 0.642122060904642, 'recall': 0.63571850975754, 'f1-score': 0.6309406910347093, 'macro_f1-score': 0.4022129933897391, 'balanced_accuracy': 0.4259031877295405, 'mcc': 0.5321125412774057, 'train_loss': 0.8709792948368345}\n",
      "Epoch 3/20\n"
     ]
    },
    {
     "name": "stderr",
     "output_type": "stream",
     "text": [
      "100%|██████████| 761/761 [01:05<00:00, 11.59it/s]\n"
     ]
    },
    {
     "name": "stdout",
     "output_type": "stream",
     "text": [
      "{'val_loss': 1.5151215171757735, 'val_accuracy': 0.6410408042578356, 'precision': 0.6977921461455884, 'recall': 0.6410408042578356, 'f1-score': 0.6535174869259133, 'macro_f1-score': 0.41596109193976744, 'balanced_accuracy': 0.4557919654128053, 'mcc': 0.5474526085932472, 'train_loss': 0.47705953781653326}\n",
      "Epoch 4/20\n"
     ]
    },
    {
     "name": "stderr",
     "output_type": "stream",
     "text": [
      "100%|██████████| 761/761 [01:05<00:00, 11.61it/s]\n"
     ]
    },
    {
     "name": "stdout",
     "output_type": "stream",
     "text": [
      "{'val_loss': 1.6253031852110378, 'val_accuracy': 0.628622117090479, 'precision': 0.6869231987106407, 'recall': 0.628622117090479, 'f1-score': 0.639983215311028, 'macro_f1-score': 0.4168753518412104, 'balanced_accuracy': 0.4618422686292564, 'mcc': 0.5411043433762139, 'train_loss': 0.3309103401509969}\n",
      "Epoch 5/20\n"
     ]
    },
    {
     "name": "stderr",
     "output_type": "stream",
     "text": [
      "100%|██████████| 761/761 [01:05<00:00, 11.62it/s]\n"
     ]
    },
    {
     "name": "stdout",
     "output_type": "stream",
     "text": [
      "{'val_loss': 1.6538960350290783, 'val_accuracy': 0.641632170313424, 'precision': 0.6881795406058859, 'recall': 0.641632170313424, 'f1-score': 0.6507152520534683, 'macro_f1-score': 0.4204424845458676, 'balanced_accuracy': 0.41694321723063604, 'mcc': 0.5388277434882033, 'train_loss': 0.2839463680117353}\n",
      "Epoch 6/20\n"
     ]
    },
    {
     "name": "stderr",
     "output_type": "stream",
     "text": [
      "100%|██████████| 761/761 [01:05<00:00, 11.58it/s]\n"
     ]
    },
    {
     "name": "stdout",
     "output_type": "stream",
     "text": [
      "{'val_loss': 1.7988415939627953, 'val_accuracy': 0.6292134831460674, 'precision': 0.6861098011651556, 'recall': 0.6292134831460674, 'f1-score': 0.6386597015997353, 'macro_f1-score': 0.4215459463447948, 'balanced_accuracy': 0.4396794713694472, 'mcc': 0.5330208425568308, 'train_loss': 0.25634776330865067}\n",
      "Epoch 7/20\n"
     ]
    },
    {
     "name": "stderr",
     "output_type": "stream",
     "text": [
      "100%|██████████| 761/761 [01:06<00:00, 11.51it/s]\n"
     ]
    },
    {
     "name": "stdout",
     "output_type": "stream",
     "text": [
      "{'val_loss': 1.8042701009028363, 'val_accuracy': 0.6599645180366647, 'precision': 0.6775924153628359, 'recall': 0.6599645180366647, 'f1-score': 0.6482385597870597, 'macro_f1-score': 0.4030523284342545, 'balanced_accuracy': 0.4275618330610589, 'mcc': 0.5538870518650177, 'train_loss': 0.2355717891318119}\n",
      "Epoch 8/20\n"
     ]
    },
    {
     "name": "stderr",
     "output_type": "stream",
     "text": [
      "100%|██████████| 761/761 [01:05<00:00, 11.59it/s]\n"
     ]
    },
    {
     "name": "stdout",
     "output_type": "stream",
     "text": [
      "{'val_loss': 1.6554440341468126, 'val_accuracy': 0.6540508574807806, 'precision': 0.6869148359920689, 'recall': 0.6540508574807806, 'f1-score': 0.6554012629764104, 'macro_f1-score': 0.4171050866147465, 'balanced_accuracy': 0.4265143371740049, 'mcc': 0.553448925909927, 'train_loss': 0.24706846565367965}\n",
      "Epoch 9/20\n"
     ]
    },
    {
     "name": "stderr",
     "output_type": "stream",
     "text": [
      "100%|██████████| 761/761 [01:05<00:00, 11.62it/s]\n"
     ]
    },
    {
     "name": "stdout",
     "output_type": "stream",
     "text": [
      "{'val_loss': 1.9202425404680226, 'val_accuracy': 0.6505026611472502, 'precision': 0.6764147571268421, 'recall': 0.6505026611472502, 'f1-score': 0.6506865800057541, 'macro_f1-score': 0.4125609820824225, 'balanced_accuracy': 0.4416060218805107, 'mcc': 0.5559939998679642, 'train_loss': 0.21172577759364813}\n",
      "Early stopping.\n",
      "\n",
      "[Fold 5]\n",
      "Label distribution after resampling:\n",
      "  label 0: 2000\n",
      "  label 1: 200\n",
      "  label 2: 200\n",
      "  label 3: 200\n",
      "  label 4: 205\n",
      "  label 5: 200\n",
      "  label 6: 200\n",
      "  label 7: 200\n",
      "  label 8: 200\n",
      "  label 9: 200\n",
      "  label 10: 200\n",
      "  label 11: 200\n",
      "  label 12: 200\n",
      "  label 13: 200\n",
      "  label 14: 200\n",
      "  label 15: 200\n",
      "  label 16: 200\n",
      "  label 17: 231\n",
      "  label 18: 200\n",
      "  label 19: 200\n",
      "  label 20: 200\n",
      "  label 21: 200\n",
      "  label 22: 200\n",
      "  label 23: 200\n",
      "  label 24: 200\n",
      "  label 25: 200\n",
      "  label 26: 200\n",
      "  label 27: 200\n",
      "  label 28: 200\n",
      "  label 29: 200\n",
      "  label 30: 200\n",
      "  label 31: 200\n",
      "  label 32: 200\n",
      "  label 33: 200\n",
      "  label 34: 200\n",
      "  label 35: 200\n",
      "  label 36: 200\n",
      "  label 37: 200\n",
      "  label 38: 200\n",
      "  label 39: 200\n",
      "  label 40: 200\n",
      "  label 41: 200\n",
      "  label 42: 200\n",
      "  label 43: 200\n",
      "  label 44: 200\n",
      "  label 45: 200\n",
      "  label 46: 200\n",
      "  label 47: 529\n",
      "  label 48: 202\n",
      "  label 49: 200\n",
      "model is bert-base-uncased cnn2filter345drop3\n",
      "Epoch 1/20\n"
     ]
    },
    {
     "name": "stderr",
     "output_type": "stream",
     "text": [
      "100%|██████████| 761/761 [01:05<00:00, 11.62it/s]\n"
     ]
    },
    {
     "name": "stdout",
     "output_type": "stream",
     "text": [
      "{'val_loss': 1.499768151427215, 'val_accuracy': 0.5834319526627219, 'precision': 0.5952284343631729, 'recall': 0.5834319526627219, 'f1-score': 0.5693927818509313, 'macro_f1-score': 0.2873398809740202, 'balanced_accuracy': 0.3214637984862824, 'mcc': 0.4505338651101026, 'train_loss': 2.3665106338834323}\n",
      "Epoch 2/20\n"
     ]
    },
    {
     "name": "stderr",
     "output_type": "stream",
     "text": [
      "100%|██████████| 761/761 [01:05<00:00, 11.62it/s]\n"
     ]
    },
    {
     "name": "stdout",
     "output_type": "stream",
     "text": [
      "{'val_loss': 1.4139745648739472, 'val_accuracy': 0.6455621301775148, 'precision': 0.6318973489793189, 'recall': 0.6455621301775148, 'f1-score': 0.6229987930778836, 'macro_f1-score': 0.3585079321728148, 'balanced_accuracy': 0.3658813132200271, 'mcc': 0.5262680223785675, 'train_loss': 0.822410521375287}\n",
      "Epoch 3/20\n"
     ]
    },
    {
     "name": "stderr",
     "output_type": "stream",
     "text": [
      "100%|██████████| 761/761 [01:05<00:00, 11.61it/s]\n"
     ]
    },
    {
     "name": "stdout",
     "output_type": "stream",
     "text": [
      "{'val_loss': 1.4461616505429429, 'val_accuracy': 0.6562130177514793, 'precision': 0.6926413103854465, 'recall': 0.6562130177514793, 'f1-score': 0.6564805000874124, 'macro_f1-score': 0.40246841248502135, 'balanced_accuracy': 0.4020859912348505, 'mcc': 0.5500854579730096, 'train_loss': 0.46372920303126985}\n",
      "Epoch 4/20\n"
     ]
    },
    {
     "name": "stderr",
     "output_type": "stream",
     "text": [
      "100%|██████████| 761/761 [01:05<00:00, 11.60it/s]\n"
     ]
    },
    {
     "name": "stdout",
     "output_type": "stream",
     "text": [
      "{'val_loss': 1.5704134753290213, 'val_accuracy': 0.6804733727810651, 'precision': 0.6787585877795151, 'recall': 0.6804733727810651, 'f1-score': 0.6613771846492624, 'macro_f1-score': 0.38608437328629724, 'balanced_accuracy': 0.36617256632474415, 'mcc': 0.5701525554146414, 'train_loss': 0.34407998667846335}\n",
      "Epoch 5/20\n"
     ]
    },
    {
     "name": "stderr",
     "output_type": "stream",
     "text": [
      "100%|██████████| 761/761 [01:05<00:00, 11.63it/s]\n"
     ]
    },
    {
     "name": "stdout",
     "output_type": "stream",
     "text": [
      "{'val_loss': 1.73992507764191, 'val_accuracy': 0.6266272189349112, 'precision': 0.6517089846628855, 'recall': 0.6266272189349112, 'f1-score': 0.6292338066310229, 'macro_f1-score': 0.3663169049537797, 'balanced_accuracy': 0.3826252755968564, 'mcc': 0.5237864791773154, 'train_loss': 0.28152015410442}\n",
      "Epoch 6/20\n"
     ]
    },
    {
     "name": "stderr",
     "output_type": "stream",
     "text": [
      "100%|██████████| 761/761 [01:05<00:00, 11.60it/s]\n"
     ]
    },
    {
     "name": "stdout",
     "output_type": "stream",
     "text": [
      "{'val_loss': 1.6489850752196222, 'val_accuracy': 0.6579881656804734, 'precision': 0.6785333073961486, 'recall': 0.6579881656804734, 'f1-score': 0.6533397145919155, 'macro_f1-score': 0.38260205368375727, 'balanced_accuracy': 0.38539344145304255, 'mcc': 0.5538319976003888, 'train_loss': 0.24981125901451973}\n",
      "Early stopping.\n",
      "\n",
      " === bert-base-uncased + cnn2filter345drop3 + ros Final 5-fold Cross-Validation Results ===\n",
      "Total time: 2643 seconds\n",
      "Total time: 0 hrs 44 mins 3 secs\n",
      "val_loss: 1.6301\n",
      "val_accuracy: 0.6463\n",
      "precision: 0.6779\n",
      "recall: 0.6463\n",
      "f1-score: 0.6453\n",
      "macro_f1-score: 0.4212\n",
      "balanced_accuracy: 0.4294\n",
      "mcc: 0.5413\n",
      "train_loss: 0.3755\n",
      "▶ Running: bert-base-uncased + cnn2filter345drop5 + ros\n",
      "tokenizer is bert-base-uncased\n",
      "Using device: cuda\n",
      "CUDA Available: True\n",
      "CUDA Device: NVIDIA GeForce RTX 5070 Ti\n",
      "Current GPU Memory Allocated: 0.02 GB\n",
      "Current GPU Memory Cached: 3.07 GB\n",
      "\n",
      "[Fold 1]\n",
      "Label distribution after resampling:\n",
      "  label 0: 2000\n",
      "  label 1: 200\n",
      "  label 2: 200\n",
      "  label 3: 200\n",
      "  label 4: 205\n",
      "  label 5: 200\n",
      "  label 6: 200\n",
      "  label 7: 200\n",
      "  label 8: 200\n",
      "  label 9: 200\n",
      "  label 10: 200\n",
      "  label 11: 200\n",
      "  label 12: 200\n",
      "  label 13: 200\n",
      "  label 14: 200\n",
      "  label 15: 200\n",
      "  label 16: 200\n",
      "  label 17: 231\n",
      "  label 18: 200\n",
      "  label 19: 200\n",
      "  label 20: 200\n",
      "  label 21: 200\n",
      "  label 22: 200\n",
      "  label 23: 200\n",
      "  label 24: 200\n",
      "  label 25: 200\n",
      "  label 26: 200\n",
      "  label 27: 200\n",
      "  label 28: 200\n",
      "  label 29: 200\n",
      "  label 30: 200\n",
      "  label 31: 200\n",
      "  label 32: 200\n",
      "  label 33: 200\n",
      "  label 34: 200\n",
      "  label 35: 200\n",
      "  label 36: 200\n",
      "  label 37: 200\n",
      "  label 38: 200\n",
      "  label 39: 200\n",
      "  label 40: 200\n",
      "  label 41: 200\n",
      "  label 42: 200\n",
      "  label 43: 200\n",
      "  label 44: 200\n",
      "  label 45: 200\n",
      "  label 46: 200\n",
      "  label 47: 529\n",
      "  label 48: 202\n",
      "  label 49: 200\n",
      "model is bert-base-uncased cnn2filter345drop5\n",
      "Epoch 1/20\n"
     ]
    },
    {
     "name": "stderr",
     "output_type": "stream",
     "text": [
      "100%|██████████| 761/761 [01:05<00:00, 11.62it/s]\n"
     ]
    },
    {
     "name": "stdout",
     "output_type": "stream",
     "text": [
      "{'val_loss': 1.5727426471575252, 'val_accuracy': 0.5576581904198699, 'precision': 0.5813651020029885, 'recall': 0.5576581904198699, 'f1-score': 0.543746598381342, 'macro_f1-score': 0.2938848786757726, 'balanced_accuracy': 0.4174597689764606, 'mcc': 0.4386635490356315, 'train_loss': 2.542704456504165}\n",
      "Epoch 2/20\n"
     ]
    },
    {
     "name": "stderr",
     "output_type": "stream",
     "text": [
      "100%|██████████| 761/761 [01:05<00:00, 11.60it/s]\n"
     ]
    },
    {
     "name": "stdout",
     "output_type": "stream",
     "text": [
      "{'val_loss': 1.3372724638232645, 'val_accuracy': 0.638675340035482, 'precision': 0.6662250456706306, 'recall': 0.638675340035482, 'f1-score': 0.6325561049762913, 'macro_f1-score': 0.3946491398357033, 'balanced_accuracy': 0.39433569015977077, 'mcc': 0.5190026005054117, 'train_loss': 1.015755740007809}\n",
      "Epoch 3/20\n"
     ]
    },
    {
     "name": "stderr",
     "output_type": "stream",
     "text": [
      "100%|██████████| 761/761 [01:05<00:00, 11.61it/s]\n"
     ]
    },
    {
     "name": "stdout",
     "output_type": "stream",
     "text": [
      "{'val_loss': 1.4745442383694198, 'val_accuracy': 0.6457717327025428, 'precision': 0.6763315411325042, 'recall': 0.6457717327025428, 'f1-score': 0.6480933757334673, 'macro_f1-score': 0.40637353777172136, 'balanced_accuracy': 0.4302279934941191, 'mcc': 0.5445065614902883, 'train_loss': 0.5708425347050762}\n",
      "Epoch 4/20\n"
     ]
    },
    {
     "name": "stderr",
     "output_type": "stream",
     "text": [
      "100%|██████████| 761/761 [01:05<00:00, 11.62it/s]\n"
     ]
    },
    {
     "name": "stdout",
     "output_type": "stream",
     "text": [
      "{'val_loss': 1.53219392080352, 'val_accuracy': 0.6558249556475458, 'precision': 0.6665863789067792, 'recall': 0.6558249556475458, 'f1-score': 0.6491199942253809, 'macro_f1-score': 0.43813855962239584, 'balanced_accuracy': 0.45583797441845064, 'mcc': 0.5495011302725448, 'train_loss': 0.40800348392953306}\n",
      "Epoch 5/20\n"
     ]
    },
    {
     "name": "stderr",
     "output_type": "stream",
     "text": [
      "100%|██████████| 761/761 [01:05<00:00, 11.61it/s]\n"
     ]
    },
    {
     "name": "stdout",
     "output_type": "stream",
     "text": [
      "{'val_loss': 1.6824763490343995, 'val_accuracy': 0.6611472501478415, 'precision': 0.6533380580540809, 'recall': 0.6611472501478415, 'f1-score': 0.6478868688190562, 'macro_f1-score': 0.40528242452211066, 'balanced_accuracy': 0.4150180231619606, 'mcc': 0.5484660673604324, 'train_loss': 0.3404360825181223}\n",
      "Epoch 6/20\n"
     ]
    },
    {
     "name": "stderr",
     "output_type": "stream",
     "text": [
      "100%|██████████| 761/761 [01:05<00:00, 11.63it/s]\n"
     ]
    },
    {
     "name": "stdout",
     "output_type": "stream",
     "text": [
      "{'val_loss': 1.6827633709840055, 'val_accuracy': 0.6522767593140154, 'precision': 0.6738455701252354, 'recall': 0.6522767593140154, 'f1-score': 0.6529142116738477, 'macro_f1-score': 0.41828797033769666, 'balanced_accuracy': 0.44185022352130265, 'mcc': 0.5572366611254249, 'train_loss': 0.2974729772103992}\n",
      "Epoch 7/20\n"
     ]
    },
    {
     "name": "stderr",
     "output_type": "stream",
     "text": [
      "100%|██████████| 761/761 [01:05<00:00, 11.60it/s]\n"
     ]
    },
    {
     "name": "stdout",
     "output_type": "stream",
     "text": [
      "{'val_loss': 1.716467666597861, 'val_accuracy': 0.6475458308693081, 'precision': 0.6554865244289063, 'recall': 0.6475458308693081, 'f1-score': 0.6437574496662745, 'macro_f1-score': 0.3943664760945513, 'balanced_accuracy': 0.4084846144113204, 'mcc': 0.5436671366309422, 'train_loss': 0.27844204228192704}\n",
      "Early stopping.\n",
      "\n",
      "[Fold 2]\n",
      "Label distribution after resampling:\n",
      "  label 0: 2000\n",
      "  label 1: 200\n",
      "  label 2: 200\n",
      "  label 3: 200\n",
      "  label 4: 206\n",
      "  label 5: 200\n",
      "  label 6: 200\n",
      "  label 7: 200\n",
      "  label 8: 200\n",
      "  label 9: 200\n",
      "  label 10: 200\n",
      "  label 11: 200\n",
      "  label 12: 200\n",
      "  label 13: 200\n",
      "  label 14: 200\n",
      "  label 15: 200\n",
      "  label 16: 200\n",
      "  label 17: 231\n",
      "  label 18: 200\n",
      "  label 19: 200\n",
      "  label 20: 200\n",
      "  label 21: 200\n",
      "  label 22: 200\n",
      "  label 23: 200\n",
      "  label 24: 200\n",
      "  label 25: 200\n",
      "  label 26: 200\n",
      "  label 27: 200\n",
      "  label 28: 200\n",
      "  label 29: 200\n",
      "  label 30: 200\n",
      "  label 31: 200\n",
      "  label 32: 200\n",
      "  label 33: 200\n",
      "  label 34: 200\n",
      "  label 35: 200\n",
      "  label 36: 200\n",
      "  label 37: 200\n",
      "  label 38: 200\n",
      "  label 39: 200\n",
      "  label 40: 200\n",
      "  label 41: 200\n",
      "  label 42: 200\n",
      "  label 43: 200\n",
      "  label 44: 200\n",
      "  label 45: 200\n",
      "  label 46: 200\n",
      "  label 47: 528\n",
      "  label 48: 202\n",
      "  label 49: 200\n",
      "model is bert-base-uncased cnn2filter345drop5\n",
      "Epoch 1/20\n"
     ]
    },
    {
     "name": "stderr",
     "output_type": "stream",
     "text": [
      "100%|██████████| 761/761 [01:05<00:00, 11.63it/s]\n"
     ]
    },
    {
     "name": "stdout",
     "output_type": "stream",
     "text": [
      "{'val_loss': 1.5365614511494368, 'val_accuracy': 0.5925487876995861, 'precision': 0.5601323051818663, 'recall': 0.5925487876995861, 'f1-score': 0.5507303051057191, 'macro_f1-score': 0.26213377985595404, 'balanced_accuracy': 0.3235933435180913, 'mcc': 0.4539290307418991, 'train_loss': 2.5933549830227425}\n",
      "Epoch 2/20\n"
     ]
    },
    {
     "name": "stderr",
     "output_type": "stream",
     "text": [
      "100%|██████████| 761/761 [01:05<00:00, 11.62it/s]\n"
     ]
    },
    {
     "name": "stdout",
     "output_type": "stream",
     "text": [
      "{'val_loss': 1.4610911905765533, 'val_accuracy': 0.6410408042578356, 'precision': 0.6293447937870311, 'recall': 0.6410408042578356, 'f1-score': 0.6245422445045862, 'macro_f1-score': 0.3731138827320292, 'balanced_accuracy': 0.4289321842377794, 'mcc': 0.5265226184426107, 'train_loss': 1.0380098042463817}\n",
      "Epoch 3/20\n"
     ]
    },
    {
     "name": "stderr",
     "output_type": "stream",
     "text": [
      "100%|██████████| 761/761 [01:05<00:00, 11.62it/s]\n"
     ]
    },
    {
     "name": "stdout",
     "output_type": "stream",
     "text": [
      "{'val_loss': 1.604390246547618, 'val_accuracy': 0.6741573033707865, 'precision': 0.684215913794129, 'recall': 0.6741573033707865, 'f1-score': 0.6528081613072945, 'macro_f1-score': 0.4207912536048225, 'balanced_accuracy': 0.4101313913088251, 'mcc': 0.5575884438386666, 'train_loss': 0.5657265320439846}\n",
      "Epoch 4/20\n"
     ]
    },
    {
     "name": "stderr",
     "output_type": "stream",
     "text": [
      "100%|██████████| 761/761 [01:05<00:00, 11.63it/s]\n"
     ]
    },
    {
     "name": "stdout",
     "output_type": "stream",
     "text": [
      "{'val_loss': 1.6940693478539306, 'val_accuracy': 0.6404494382022472, 'precision': 0.6487412598189898, 'recall': 0.6404494382022472, 'f1-score': 0.6363209347173936, 'macro_f1-score': 0.3849223516903044, 'balanced_accuracy': 0.39476576314310824, 'mcc': 0.5347293737252745, 'train_loss': 0.4024017901158599}\n",
      "Epoch 5/20\n"
     ]
    },
    {
     "name": "stderr",
     "output_type": "stream",
     "text": [
      "100%|██████████| 761/761 [01:05<00:00, 11.60it/s]\n"
     ]
    },
    {
     "name": "stdout",
     "output_type": "stream",
     "text": [
      "{'val_loss': 1.6977558240013302, 'val_accuracy': 0.6629213483146067, 'precision': 0.6513527339675368, 'recall': 0.6629213483146067, 'f1-score': 0.6455539198057368, 'macro_f1-score': 0.4047155116757545, 'balanced_accuracy': 0.38474692117200504, 'mcc': 0.5471815420049371, 'train_loss': 0.3314454024547464}\n",
      "Epoch 6/20\n"
     ]
    },
    {
     "name": "stderr",
     "output_type": "stream",
     "text": [
      "100%|██████████| 761/761 [01:05<00:00, 11.62it/s]\n"
     ]
    },
    {
     "name": "stdout",
     "output_type": "stream",
     "text": [
      "{'val_loss': 1.7800397553815033, 'val_accuracy': 0.6706091070372561, 'precision': 0.6711201803743404, 'recall': 0.6706091070372561, 'f1-score': 0.6614416818099332, 'macro_f1-score': 0.41046440548492563, 'balanced_accuracy': 0.42323158879704886, 'mcc': 0.5671296451729524, 'train_loss': 0.29148541468057326}\n",
      "Early stopping.\n",
      "\n",
      "[Fold 3]\n",
      "Label distribution after resampling:\n",
      "  label 0: 2000\n",
      "  label 1: 200\n",
      "  label 2: 200\n",
      "  label 3: 200\n",
      "  label 4: 206\n",
      "  label 5: 200\n",
      "  label 6: 200\n",
      "  label 7: 200\n",
      "  label 8: 200\n",
      "  label 9: 200\n",
      "  label 10: 200\n",
      "  label 11: 200\n",
      "  label 12: 200\n",
      "  label 13: 200\n",
      "  label 14: 200\n",
      "  label 15: 200\n",
      "  label 16: 200\n",
      "  label 17: 231\n",
      "  label 18: 200\n",
      "  label 19: 200\n",
      "  label 20: 200\n",
      "  label 21: 200\n",
      "  label 22: 200\n",
      "  label 23: 200\n",
      "  label 24: 200\n",
      "  label 25: 200\n",
      "  label 26: 200\n",
      "  label 27: 200\n",
      "  label 28: 200\n",
      "  label 29: 200\n",
      "  label 30: 200\n",
      "  label 31: 200\n",
      "  label 32: 200\n",
      "  label 33: 200\n",
      "  label 34: 200\n",
      "  label 35: 200\n",
      "  label 36: 200\n",
      "  label 37: 200\n",
      "  label 38: 200\n",
      "  label 39: 200\n",
      "  label 40: 200\n",
      "  label 41: 200\n",
      "  label 42: 200\n",
      "  label 43: 200\n",
      "  label 44: 200\n",
      "  label 45: 200\n",
      "  label 46: 200\n",
      "  label 47: 529\n",
      "  label 48: 201\n",
      "  label 49: 200\n",
      "model is bert-base-uncased cnn2filter345drop5\n",
      "Epoch 1/20\n"
     ]
    },
    {
     "name": "stderr",
     "output_type": "stream",
     "text": [
      "100%|██████████| 761/761 [01:05<00:00, 11.60it/s]\n"
     ]
    },
    {
     "name": "stdout",
     "output_type": "stream",
     "text": [
      "{'val_loss': 1.5088023695181, 'val_accuracy': 0.6002365464222353, 'precision': 0.6103039144437167, 'recall': 0.6002365464222353, 'f1-score': 0.572979019952456, 'macro_f1-score': 0.2870817176866369, 'balanced_accuracy': 0.3188453262465936, 'mcc': 0.4637456309288364, 'train_loss': 2.473636282179578}\n",
      "Epoch 2/20\n"
     ]
    },
    {
     "name": "stderr",
     "output_type": "stream",
     "text": [
      "100%|██████████| 761/761 [01:05<00:00, 11.61it/s]\n"
     ]
    },
    {
     "name": "stdout",
     "output_type": "stream",
     "text": [
      "{'val_loss': 1.3380775721567981, 'val_accuracy': 0.654642223536369, 'precision': 0.6489250018780052, 'recall': 0.654642223536369, 'f1-score': 0.6320428037800891, 'macro_f1-score': 0.37549700413443715, 'balanced_accuracy': 0.38420175832945647, 'mcc': 0.5384769831770146, 'train_loss': 0.9412730128140863}\n",
      "Epoch 3/20\n"
     ]
    },
    {
     "name": "stderr",
     "output_type": "stream",
     "text": [
      "100%|██████████| 761/761 [01:05<00:00, 11.62it/s]\n"
     ]
    },
    {
     "name": "stdout",
     "output_type": "stream",
     "text": [
      "{'val_loss': 1.5153952370274741, 'val_accuracy': 0.6481371969248965, 'precision': 0.6310381932693434, 'recall': 0.6481371969248965, 'f1-score': 0.6191837008014817, 'macro_f1-score': 0.344587330992904, 'balanced_accuracy': 0.35152534694062226, 'mcc': 0.5255148402246497, 'train_loss': 0.530602409412568}\n",
      "Epoch 4/20\n"
     ]
    },
    {
     "name": "stderr",
     "output_type": "stream",
     "text": [
      "100%|██████████| 761/761 [01:05<00:00, 11.60it/s]\n"
     ]
    },
    {
     "name": "stdout",
     "output_type": "stream",
     "text": [
      "{'val_loss': 1.5462532304930237, 'val_accuracy': 0.6463630987581312, 'precision': 0.655043009814422, 'recall': 0.6463630987581312, 'f1-score': 0.6318302371175971, 'macro_f1-score': 0.3724505093482728, 'balanced_accuracy': 0.381676929084328, 'mcc': 0.5314724790421226, 'train_loss': 0.38107967462375975}\n",
      "Epoch 5/20\n"
     ]
    },
    {
     "name": "stderr",
     "output_type": "stream",
     "text": [
      "100%|██████████| 761/761 [01:05<00:00, 11.61it/s]\n"
     ]
    },
    {
     "name": "stdout",
     "output_type": "stream",
     "text": [
      "{'val_loss': 1.6477945306391086, 'val_accuracy': 0.667652276759314, 'precision': 0.6578501867419059, 'recall': 0.667652276759314, 'f1-score': 0.6527137455709808, 'macro_f1-score': 0.37446185266936177, 'balanced_accuracy': 0.37535400022735005, 'mcc': 0.5621787102033277, 'train_loss': 0.32816272674424574}\n",
      "Early stopping.\n",
      "\n",
      "[Fold 4]\n",
      "Label distribution after resampling:\n",
      "  label 0: 2000\n",
      "  label 1: 200\n",
      "  label 2: 200\n",
      "  label 3: 200\n",
      "  label 4: 206\n",
      "  label 5: 200\n",
      "  label 6: 200\n",
      "  label 7: 200\n",
      "  label 8: 200\n",
      "  label 9: 200\n",
      "  label 10: 200\n",
      "  label 11: 200\n",
      "  label 12: 200\n",
      "  label 13: 200\n",
      "  label 14: 200\n",
      "  label 15: 200\n",
      "  label 16: 200\n",
      "  label 17: 232\n",
      "  label 18: 200\n",
      "  label 19: 200\n",
      "  label 20: 200\n",
      "  label 21: 200\n",
      "  label 22: 200\n",
      "  label 23: 200\n",
      "  label 24: 200\n",
      "  label 25: 200\n",
      "  label 26: 200\n",
      "  label 27: 200\n",
      "  label 28: 200\n",
      "  label 29: 200\n",
      "  label 30: 200\n",
      "  label 31: 200\n",
      "  label 32: 200\n",
      "  label 33: 200\n",
      "  label 34: 200\n",
      "  label 35: 200\n",
      "  label 36: 200\n",
      "  label 37: 200\n",
      "  label 38: 200\n",
      "  label 39: 200\n",
      "  label 40: 200\n",
      "  label 41: 200\n",
      "  label 42: 200\n",
      "  label 43: 200\n",
      "  label 44: 200\n",
      "  label 45: 200\n",
      "  label 46: 200\n",
      "  label 47: 529\n",
      "  label 48: 201\n",
      "  label 49: 200\n",
      "model is bert-base-uncased cnn2filter345drop5\n",
      "Epoch 1/20\n"
     ]
    },
    {
     "name": "stderr",
     "output_type": "stream",
     "text": [
      "100%|██████████| 761/761 [01:05<00:00, 11.59it/s]\n"
     ]
    },
    {
     "name": "stdout",
     "output_type": "stream",
     "text": [
      "{'val_loss': 1.3790088385905859, 'val_accuracy': 0.6150206978119456, 'precision': 0.5775756805563831, 'recall': 0.6150206978119456, 'f1-score': 0.5709753829329651, 'macro_f1-score': 0.33673366286474193, 'balanced_accuracy': 0.38279109743279927, 'mcc': 0.4783350966936794, 'train_loss': 2.556894635950532}\n",
      "Epoch 2/20\n"
     ]
    },
    {
     "name": "stderr",
     "output_type": "stream",
     "text": [
      "100%|██████████| 761/761 [01:05<00:00, 11.62it/s]\n"
     ]
    },
    {
     "name": "stdout",
     "output_type": "stream",
     "text": [
      "{'val_loss': 1.3366441217795857, 'val_accuracy': 0.641632170313424, 'precision': 0.6593470498822184, 'recall': 0.641632170313424, 'f1-score': 0.6341761733004313, 'macro_f1-score': 0.4087394944393397, 'balanced_accuracy': 0.4618662848083537, 'mcc': 0.5374897822867426, 'train_loss': 1.0062533682616093}\n",
      "Epoch 3/20\n"
     ]
    },
    {
     "name": "stderr",
     "output_type": "stream",
     "text": [
      "100%|██████████| 761/761 [01:05<00:00, 11.61it/s]\n"
     ]
    },
    {
     "name": "stdout",
     "output_type": "stream",
     "text": [
      "{'val_loss': 1.4002060729939982, 'val_accuracy': 0.6611472501478415, 'precision': 0.6819494413747578, 'recall': 0.6611472501478415, 'f1-score': 0.6543723823089025, 'macro_f1-score': 0.4154597037011033, 'balanced_accuracy': 0.45068154436132135, 'mcc': 0.5599712942403308, 'train_loss': 0.558058075626404}\n",
      "Epoch 4/20\n"
     ]
    },
    {
     "name": "stderr",
     "output_type": "stream",
     "text": [
      "100%|██████████| 761/761 [01:05<00:00, 11.60it/s]\n"
     ]
    },
    {
     "name": "stdout",
     "output_type": "stream",
     "text": [
      "{'val_loss': 1.4725331695012327, 'val_accuracy': 0.6729745712596097, 'precision': 0.691617114915093, 'recall': 0.6729745712596097, 'f1-score': 0.6642065795064315, 'macro_f1-score': 0.4116532097062637, 'balanced_accuracy': 0.42856271411672126, 'mcc': 0.5722521341591181, 'train_loss': 0.3876257235607752}\n",
      "Epoch 5/20\n"
     ]
    },
    {
     "name": "stderr",
     "output_type": "stream",
     "text": [
      "100%|██████████| 761/761 [01:05<00:00, 11.61it/s]\n"
     ]
    },
    {
     "name": "stdout",
     "output_type": "stream",
     "text": [
      "{'val_loss': 1.5643998634702754, 'val_accuracy': 0.6694263749260793, 'precision': 0.6754041782370835, 'recall': 0.6694263749260793, 'f1-score': 0.6595642964418376, 'macro_f1-score': 0.4241642352150394, 'balanced_accuracy': 0.42307201555026447, 'mcc': 0.5618961831120863, 'train_loss': 0.3270432438931468}\n",
      "Epoch 6/20\n"
     ]
    },
    {
     "name": "stderr",
     "output_type": "stream",
     "text": [
      "100%|██████████| 761/761 [01:05<00:00, 11.60it/s]\n"
     ]
    },
    {
     "name": "stdout",
     "output_type": "stream",
     "text": [
      "{'val_loss': 1.5900215149488088, 'val_accuracy': 0.6717918391484329, 'precision': 0.7037489297344605, 'recall': 0.6717918391484329, 'f1-score': 0.6726862622773491, 'macro_f1-score': 0.4495920855485119, 'balanced_accuracy': 0.4857935840242236, 'mcc': 0.5802682725886376, 'train_loss': 0.28367885497475775}\n",
      "Epoch 7/20\n"
     ]
    },
    {
     "name": "stderr",
     "output_type": "stream",
     "text": [
      "100%|██████████| 761/761 [01:05<00:00, 11.62it/s]\n"
     ]
    },
    {
     "name": "stdout",
     "output_type": "stream",
     "text": [
      "{'val_loss': 1.6703933941305809, 'val_accuracy': 0.6765227675931401, 'precision': 0.6884954682671471, 'recall': 0.6765227675931401, 'f1-score': 0.6702194980579114, 'macro_f1-score': 0.4475043439613126, 'balanced_accuracy': 0.46325011105806035, 'mcc': 0.5826514071240334, 'train_loss': 0.2556743361484186}\n",
      "Epoch 8/20\n"
     ]
    },
    {
     "name": "stderr",
     "output_type": "stream",
     "text": [
      "100%|██████████| 761/761 [01:05<00:00, 11.61it/s]\n"
     ]
    },
    {
     "name": "stdout",
     "output_type": "stream",
     "text": [
      "{'val_loss': 1.7523323542104576, 'val_accuracy': 0.6777054997043169, 'precision': 0.6781165373014998, 'recall': 0.6777054997043169, 'f1-score': 0.6729489116553891, 'macro_f1-score': 0.44515353946550595, 'balanced_accuracy': 0.45452943475887303, 'mcc': 0.5776906339490796, 'train_loss': 0.24063821601021776}\n",
      "Epoch 9/20\n"
     ]
    },
    {
     "name": "stderr",
     "output_type": "stream",
     "text": [
      "100%|██████████| 761/761 [01:05<00:00, 11.61it/s]\n"
     ]
    },
    {
     "name": "stdout",
     "output_type": "stream",
     "text": [
      "{'val_loss': 1.8359319602824606, 'val_accuracy': 0.6623299822590183, 'precision': 0.6575299031280628, 'recall': 0.6623299822590183, 'f1-score': 0.6414859927633483, 'macro_f1-score': 0.3905737038492117, 'balanced_accuracy': 0.38630675728018404, 'mcc': 0.5450295346414122, 'train_loss': 0.23637378759469235}\n",
      "Early stopping.\n",
      "\n",
      "[Fold 5]\n",
      "Label distribution after resampling:\n",
      "  label 0: 2000\n",
      "  label 1: 200\n",
      "  label 2: 200\n",
      "  label 3: 200\n",
      "  label 4: 205\n",
      "  label 5: 200\n",
      "  label 6: 200\n",
      "  label 7: 200\n",
      "  label 8: 200\n",
      "  label 9: 200\n",
      "  label 10: 200\n",
      "  label 11: 200\n",
      "  label 12: 200\n",
      "  label 13: 200\n",
      "  label 14: 200\n",
      "  label 15: 200\n",
      "  label 16: 200\n",
      "  label 17: 231\n",
      "  label 18: 200\n",
      "  label 19: 200\n",
      "  label 20: 200\n",
      "  label 21: 200\n",
      "  label 22: 200\n",
      "  label 23: 200\n",
      "  label 24: 200\n",
      "  label 25: 200\n",
      "  label 26: 200\n",
      "  label 27: 200\n",
      "  label 28: 200\n",
      "  label 29: 200\n",
      "  label 30: 200\n",
      "  label 31: 200\n",
      "  label 32: 200\n",
      "  label 33: 200\n",
      "  label 34: 200\n",
      "  label 35: 200\n",
      "  label 36: 200\n",
      "  label 37: 200\n",
      "  label 38: 200\n",
      "  label 39: 200\n",
      "  label 40: 200\n",
      "  label 41: 200\n",
      "  label 42: 200\n",
      "  label 43: 200\n",
      "  label 44: 200\n",
      "  label 45: 200\n",
      "  label 46: 200\n",
      "  label 47: 529\n",
      "  label 48: 202\n",
      "  label 49: 200\n",
      "model is bert-base-uncased cnn2filter345drop5\n",
      "Epoch 1/20\n"
     ]
    },
    {
     "name": "stderr",
     "output_type": "stream",
     "text": [
      "100%|██████████| 761/761 [01:05<00:00, 11.61it/s]\n"
     ]
    },
    {
     "name": "stdout",
     "output_type": "stream",
     "text": [
      "{'val_loss': 1.5773783674779929, 'val_accuracy': 0.5781065088757397, 'precision': 0.5733264870166509, 'recall': 0.5781065088757397, 'f1-score': 0.5614542701590817, 'macro_f1-score': 0.25141264796563173, 'balanced_accuracy': 0.34109311811158144, 'mcc': 0.45574085886762195, 'train_loss': 2.597263773465125}\n",
      "Epoch 2/20\n"
     ]
    },
    {
     "name": "stderr",
     "output_type": "stream",
     "text": [
      "100%|██████████| 761/761 [01:05<00:00, 11.60it/s]\n"
     ]
    },
    {
     "name": "stdout",
     "output_type": "stream",
     "text": [
      "{'val_loss': 1.4209735618447357, 'val_accuracy': 0.6183431952662722, 'precision': 0.6177357130431673, 'recall': 0.6183431952662722, 'f1-score': 0.5996732289125795, 'macro_f1-score': 0.3540200611314399, 'balanced_accuracy': 0.4008629879882593, 'mcc': 0.5097895553330009, 'train_loss': 1.0507556260337028}\n",
      "Epoch 3/20\n"
     ]
    },
    {
     "name": "stderr",
     "output_type": "stream",
     "text": [
      "100%|██████████| 761/761 [01:05<00:00, 11.62it/s]\n"
     ]
    },
    {
     "name": "stdout",
     "output_type": "stream",
     "text": [
      "{'val_loss': 1.4845197819313913, 'val_accuracy': 0.659171597633136, 'precision': 0.672370176315148, 'recall': 0.659171597633136, 'f1-score': 0.6484454971544245, 'macro_f1-score': 0.3721155277349593, 'balanced_accuracy': 0.3753059620304122, 'mcc': 0.5500820625139707, 'train_loss': 0.5933774872909394}\n",
      "Epoch 4/20\n"
     ]
    },
    {
     "name": "stderr",
     "output_type": "stream",
     "text": [
      "100%|██████████| 761/761 [01:05<00:00, 11.60it/s]\n"
     ]
    },
    {
     "name": "stdout",
     "output_type": "stream",
     "text": [
      "{'val_loss': 1.612998642167955, 'val_accuracy': 0.6621301775147929, 'precision': 0.6747382479860107, 'recall': 0.6621301775147929, 'f1-score': 0.6590086835336206, 'macro_f1-score': 0.4053218972910138, 'balanced_accuracy': 0.4354284825606895, 'mcc': 0.5634283927058241, 'train_loss': 0.4152673019289618}\n",
      "Epoch 5/20\n"
     ]
    },
    {
     "name": "stderr",
     "output_type": "stream",
     "text": [
      "100%|██████████| 761/761 [01:05<00:00, 11.62it/s]\n"
     ]
    },
    {
     "name": "stdout",
     "output_type": "stream",
     "text": [
      "{'val_loss': 1.6264251605519708, 'val_accuracy': 0.649112426035503, 'precision': 0.657647354742726, 'recall': 0.649112426035503, 'f1-score': 0.6426154813936645, 'macro_f1-score': 0.3608449605102604, 'balanced_accuracy': 0.36215421024258104, 'mcc': 0.5378109464686214, 'train_loss': 0.3385291138783822}\n",
      "Epoch 6/20\n"
     ]
    },
    {
     "name": "stderr",
     "output_type": "stream",
     "text": [
      "100%|██████████| 761/761 [01:05<00:00, 11.60it/s]\n"
     ]
    },
    {
     "name": "stdout",
     "output_type": "stream",
     "text": [
      "{'val_loss': 1.6741216663482055, 'val_accuracy': 0.657396449704142, 'precision': 0.6567408432029186, 'recall': 0.657396449704142, 'f1-score': 0.6463204854454114, 'macro_f1-score': 0.3502511807744016, 'balanced_accuracy': 0.36018518952674894, 'mcc': 0.5467998474691432, 'train_loss': 0.2927411138930611}\n",
      "Epoch 7/20\n"
     ]
    },
    {
     "name": "stderr",
     "output_type": "stream",
     "text": [
      "100%|██████████| 761/761 [01:05<00:00, 11.61it/s]\n"
     ]
    },
    {
     "name": "stdout",
     "output_type": "stream",
     "text": [
      "{'val_loss': 1.9116462997670443, 'val_accuracy': 0.6402366863905326, 'precision': 0.6822955760451916, 'recall': 0.6402366863905326, 'f1-score': 0.6463911552404495, 'macro_f1-score': 0.39151033285666, 'balanced_accuracy': 0.4169349081080441, 'mcc': 0.547543691310196, 'train_loss': 0.25905408259694135}\n",
      "Early stopping.\n",
      "\n",
      " === bert-base-uncased + cnn2filter345drop5 + ros Final 5-fold Cross-Validation Results ===\n",
      "Total time: 2365 seconds\n",
      "Total time: 0 hrs 39 mins 25 secs\n",
      "val_loss: 1.5355\n",
      "val_accuracy: 0.6637\n",
      "precision: 0.6756\n",
      "recall: 0.6637\n",
      "f1-score: 0.6531\n",
      "macro_f1-score: 0.4179\n",
      "balanced_accuracy: 0.4343\n",
      "mcc: 0.5579\n",
      "train_loss: 0.5228\n",
      "▶ Running: roberta-base + cnn1filter234drop3 + ros\n",
      "tokenizer is roberta-base\n",
      "Using device: cuda\n",
      "CUDA Available: True\n",
      "CUDA Device: NVIDIA GeForce RTX 5070 Ti\n",
      "Current GPU Memory Allocated: 0.02 GB\n",
      "Current GPU Memory Cached: 3.07 GB\n",
      "\n",
      "[Fold 1]\n",
      "Label distribution after resampling:\n",
      "  label 0: 2000\n",
      "  label 1: 200\n",
      "  label 2: 200\n",
      "  label 3: 200\n",
      "  label 4: 205\n",
      "  label 5: 200\n",
      "  label 6: 200\n",
      "  label 7: 200\n",
      "  label 8: 200\n",
      "  label 9: 200\n",
      "  label 10: 200\n",
      "  label 11: 200\n",
      "  label 12: 200\n",
      "  label 13: 200\n",
      "  label 14: 200\n",
      "  label 15: 200\n",
      "  label 16: 200\n",
      "  label 17: 231\n",
      "  label 18: 200\n",
      "  label 19: 200\n",
      "  label 20: 200\n",
      "  label 21: 200\n",
      "  label 22: 200\n",
      "  label 23: 200\n",
      "  label 24: 200\n",
      "  label 25: 200\n",
      "  label 26: 200\n",
      "  label 27: 200\n",
      "  label 28: 200\n",
      "  label 29: 200\n",
      "  label 30: 200\n",
      "  label 31: 200\n",
      "  label 32: 200\n",
      "  label 33: 200\n",
      "  label 34: 200\n",
      "  label 35: 200\n",
      "  label 36: 200\n",
      "  label 37: 200\n",
      "  label 38: 200\n",
      "  label 39: 200\n",
      "  label 40: 200\n",
      "  label 41: 200\n",
      "  label 42: 200\n",
      "  label 43: 200\n",
      "  label 44: 200\n",
      "  label 45: 200\n",
      "  label 46: 200\n",
      "  label 47: 529\n",
      "  label 48: 202\n",
      "  label 49: 200\n",
      "model is roberta-base cnn1filter234drop3\n"
     ]
    },
    {
     "name": "stderr",
     "output_type": "stream",
     "text": [
      "Some weights of RobertaModel were not initialized from the model checkpoint at roberta-base and are newly initialized: ['pooler.dense.bias', 'pooler.dense.weight']\n",
      "You should probably TRAIN this model on a down-stream task to be able to use it for predictions and inference.\n"
     ]
    },
    {
     "name": "stdout",
     "output_type": "stream",
     "text": [
      "Epoch 1/20\n"
     ]
    },
    {
     "name": "stderr",
     "output_type": "stream",
     "text": [
      "100%|██████████| 761/761 [01:06<00:00, 11.50it/s]\n"
     ]
    },
    {
     "name": "stdout",
     "output_type": "stream",
     "text": [
      "{'val_loss': 1.4888895536368747, 'val_accuracy': 0.5742164399763453, 'precision': 0.6457693119922963, 'recall': 0.5742164399763453, 'f1-score': 0.5741923654380968, 'macro_f1-score': 0.339432775612348, 'balanced_accuracy': 0.41781300955390194, 'mcc': 0.4547960049572343, 'train_loss': 2.1935277455896336}\n",
      "Epoch 2/20\n"
     ]
    },
    {
     "name": "stderr",
     "output_type": "stream",
     "text": [
      "100%|██████████| 761/761 [01:06<00:00, 11.49it/s]\n"
     ]
    },
    {
     "name": "stdout",
     "output_type": "stream",
     "text": [
      "{'val_loss': 1.5413250726348948, 'val_accuracy': 0.5753991720875222, 'precision': 0.6752506406801403, 'recall': 0.5753991720875222, 'f1-score': 0.5931326030454184, 'macro_f1-score': 0.3640331417358916, 'balanced_accuracy': 0.4271267896970998, 'mcc': 0.475605865618325, 'train_loss': 0.8929428831623982}\n",
      "Epoch 3/20\n"
     ]
    },
    {
     "name": "stderr",
     "output_type": "stream",
     "text": [
      "100%|██████████| 761/761 [01:06<00:00, 11.50it/s]\n"
     ]
    },
    {
     "name": "stdout",
     "output_type": "stream",
     "text": [
      "{'val_loss': 1.4008933901786804, 'val_accuracy': 0.63571850975754, 'precision': 0.6729324708864156, 'recall': 0.63571850975754, 'f1-score': 0.6358025850182346, 'macro_f1-score': 0.39270056091404304, 'balanced_accuracy': 0.4266514904967336, 'mcc': 0.5291352151073054, 'train_loss': 0.5882936281821496}\n",
      "Epoch 4/20\n"
     ]
    },
    {
     "name": "stderr",
     "output_type": "stream",
     "text": [
      "100%|██████████| 761/761 [01:06<00:00, 11.49it/s]\n"
     ]
    },
    {
     "name": "stdout",
     "output_type": "stream",
     "text": [
      "{'val_loss': 1.4852608110544816, 'val_accuracy': 0.6250739207569486, 'precision': 0.6848497843594408, 'recall': 0.6250739207569486, 'f1-score': 0.6349231846757885, 'macro_f1-score': 0.40705444096792304, 'balanced_accuracy': 0.4466475107499683, 'mcc': 0.5314180091881114, 'train_loss': 0.4508128782462588}\n",
      "Epoch 5/20\n"
     ]
    },
    {
     "name": "stderr",
     "output_type": "stream",
     "text": [
      "100%|██████████| 761/761 [01:06<00:00, 11.50it/s]\n"
     ]
    },
    {
     "name": "stdout",
     "output_type": "stream",
     "text": [
      "{'val_loss': 1.5889168058363896, 'val_accuracy': 0.6221170904790065, 'precision': 0.6990389603279464, 'recall': 0.6221170904790065, 'f1-score': 0.6372299990435918, 'macro_f1-score': 0.3998883694762138, 'balanced_accuracy': 0.42738011741456516, 'mcc': 0.5249733883749022, 'train_loss': 0.3804994355666888}\n",
      "Epoch 6/20\n"
     ]
    },
    {
     "name": "stderr",
     "output_type": "stream",
     "text": [
      "100%|██████████| 761/761 [01:06<00:00, 11.49it/s]\n"
     ]
    },
    {
     "name": "stdout",
     "output_type": "stream",
     "text": [
      "{'val_loss': 1.6071202740916666, 'val_accuracy': 0.6410408042578356, 'precision': 0.658469291898888, 'recall': 0.6410408042578356, 'f1-score': 0.6403033838082716, 'macro_f1-score': 0.3937572849289006, 'balanced_accuracy': 0.421892504882278, 'mcc': 0.5383952937471685, 'train_loss': 0.34262526162095985}\n",
      "Epoch 7/20\n"
     ]
    },
    {
     "name": "stderr",
     "output_type": "stream",
     "text": [
      "100%|██████████| 761/761 [01:06<00:00, 11.49it/s]\n"
     ]
    },
    {
     "name": "stdout",
     "output_type": "stream",
     "text": [
      "{'val_loss': 1.678900884007508, 'val_accuracy': 0.6369012418687168, 'precision': 0.6674704267671258, 'recall': 0.6369012418687168, 'f1-score': 0.641708241305365, 'macro_f1-score': 0.39977905014569265, 'balanced_accuracy': 0.43100734239858285, 'mcc': 0.5401331073055434, 'train_loss': 0.30015756236756425}\n",
      "Early stopping.\n",
      "\n",
      "[Fold 2]\n",
      "Label distribution after resampling:\n",
      "  label 0: 2000\n",
      "  label 1: 200\n",
      "  label 2: 200\n",
      "  label 3: 200\n",
      "  label 4: 206\n",
      "  label 5: 200\n",
      "  label 6: 200\n",
      "  label 7: 200\n",
      "  label 8: 200\n",
      "  label 9: 200\n",
      "  label 10: 200\n",
      "  label 11: 200\n",
      "  label 12: 200\n",
      "  label 13: 200\n",
      "  label 14: 200\n",
      "  label 15: 200\n",
      "  label 16: 200\n",
      "  label 17: 231\n",
      "  label 18: 200\n",
      "  label 19: 200\n",
      "  label 20: 200\n",
      "  label 21: 200\n",
      "  label 22: 200\n",
      "  label 23: 200\n",
      "  label 24: 200\n",
      "  label 25: 200\n",
      "  label 26: 200\n",
      "  label 27: 200\n",
      "  label 28: 200\n",
      "  label 29: 200\n",
      "  label 30: 200\n",
      "  label 31: 200\n",
      "  label 32: 200\n",
      "  label 33: 200\n",
      "  label 34: 200\n",
      "  label 35: 200\n",
      "  label 36: 200\n",
      "  label 37: 200\n",
      "  label 38: 200\n",
      "  label 39: 200\n",
      "  label 40: 200\n",
      "  label 41: 200\n",
      "  label 42: 200\n",
      "  label 43: 200\n",
      "  label 44: 200\n",
      "  label 45: 200\n",
      "  label 46: 200\n",
      "  label 47: 528\n",
      "  label 48: 202\n",
      "  label 49: 200\n",
      "model is roberta-base cnn1filter234drop3\n"
     ]
    },
    {
     "name": "stderr",
     "output_type": "stream",
     "text": [
      "Some weights of RobertaModel were not initialized from the model checkpoint at roberta-base and are newly initialized: ['pooler.dense.bias', 'pooler.dense.weight']\n",
      "You should probably TRAIN this model on a down-stream task to be able to use it for predictions and inference.\n"
     ]
    },
    {
     "name": "stdout",
     "output_type": "stream",
     "text": [
      "Epoch 1/20\n"
     ]
    },
    {
     "name": "stderr",
     "output_type": "stream",
     "text": [
      "100%|██████████| 761/761 [01:06<00:00, 11.50it/s]\n"
     ]
    },
    {
     "name": "stdout",
     "output_type": "stream",
     "text": [
      "{'val_loss': 1.5653967351283666, 'val_accuracy': 0.5718509757539917, 'precision': 0.6493437097331645, 'recall': 0.5718509757539917, 'f1-score': 0.5625742908106259, 'macro_f1-score': 0.3000387015376173, 'balanced_accuracy': 0.37423035697196416, 'mcc': 0.44285557968504585, 'train_loss': 2.257271562001708}\n",
      "Epoch 2/20\n"
     ]
    },
    {
     "name": "stderr",
     "output_type": "stream",
     "text": [
      "100%|██████████| 761/761 [01:06<00:00, 11.47it/s]\n"
     ]
    },
    {
     "name": "stdout",
     "output_type": "stream",
     "text": [
      "{'val_loss': 1.3491933573529404, 'val_accuracy': 0.6351271437019516, 'precision': 0.6203792681967903, 'recall': 0.6351271437019516, 'f1-score': 0.615416108078434, 'macro_f1-score': 0.3827380326505633, 'balanced_accuracy': 0.4136476818506319, 'mcc': 0.5216250180221395, 'train_loss': 0.9512849117038128}\n",
      "Epoch 3/20\n"
     ]
    },
    {
     "name": "stderr",
     "output_type": "stream",
     "text": [
      "100%|██████████| 761/761 [01:06<00:00, 11.49it/s]\n"
     ]
    },
    {
     "name": "stdout",
     "output_type": "stream",
     "text": [
      "{'val_loss': 1.4050138016354363, 'val_accuracy': 0.6392667060910704, 'precision': 0.6594878910075737, 'recall': 0.6392667060910704, 'f1-score': 0.6378529976981181, 'macro_f1-score': 0.38892472428223196, 'balanced_accuracy': 0.4295251877775846, 'mcc': 0.5314818543398407, 'train_loss': 0.6041624049867813}\n",
      "Epoch 4/20\n"
     ]
    },
    {
     "name": "stderr",
     "output_type": "stream",
     "text": [
      "100%|██████████| 761/761 [01:06<00:00, 11.48it/s]\n"
     ]
    },
    {
     "name": "stdout",
     "output_type": "stream",
     "text": [
      "{'val_loss': 1.470153347501215, 'val_accuracy': 0.6439976345357776, 'precision': 0.6387882232653557, 'recall': 0.6439976345357776, 'f1-score': 0.6208262247248384, 'macro_f1-score': 0.36875353665274296, 'balanced_accuracy': 0.39013382845086897, 'mcc': 0.5261787061333947, 'train_loss': 0.45140750142017505}\n",
      "Epoch 5/20\n"
     ]
    },
    {
     "name": "stderr",
     "output_type": "stream",
     "text": [
      "100%|██████████| 761/761 [01:06<00:00, 11.49it/s]\n"
     ]
    },
    {
     "name": "stdout",
     "output_type": "stream",
     "text": [
      "{'val_loss': 1.727964828599174, 'val_accuracy': 0.6002365464222353, 'precision': 0.6710974893045677, 'recall': 0.6002365464222353, 'f1-score': 0.6141830257810711, 'macro_f1-score': 0.3856866640106596, 'balanced_accuracy': 0.4336132281164268, 'mcc': 0.5092926501915891, 'train_loss': 0.3782876013544402}\n",
      "Epoch 6/20\n"
     ]
    },
    {
     "name": "stderr",
     "output_type": "stream",
     "text": [
      "100%|██████████| 761/761 [01:06<00:00, 11.50it/s]\n"
     ]
    },
    {
     "name": "stdout",
     "output_type": "stream",
     "text": [
      "{'val_loss': 1.569380318781115, 'val_accuracy': 0.6581904198698995, 'precision': 0.6665779459477673, 'recall': 0.6581904198698995, 'f1-score': 0.6518786804049032, 'macro_f1-score': 0.4162419481598129, 'balanced_accuracy': 0.420283548659193, 'mcc': 0.55216511675989, 'train_loss': 0.34530875511203113}\n",
      "Epoch 7/20\n"
     ]
    },
    {
     "name": "stderr",
     "output_type": "stream",
     "text": [
      "100%|██████████| 761/761 [01:06<00:00, 11.49it/s]\n"
     ]
    },
    {
     "name": "stdout",
     "output_type": "stream",
     "text": [
      "{'val_loss': 1.6517704539703872, 'val_accuracy': 0.6232998225901834, 'precision': 0.662852552278504, 'recall': 0.6232998225901834, 'f1-score': 0.6306316917761491, 'macro_f1-score': 0.4135692821866978, 'balanced_accuracy': 0.4485416911395517, 'mcc': 0.5290095638180563, 'train_loss': 0.29379728764391033}\n",
      "Epoch 8/20\n"
     ]
    },
    {
     "name": "stderr",
     "output_type": "stream",
     "text": [
      "100%|██████████| 761/761 [01:06<00:00, 11.50it/s]\n"
     ]
    },
    {
     "name": "stdout",
     "output_type": "stream",
     "text": [
      "{'val_loss': 1.7454685307336304, 'val_accuracy': 0.6102897693672383, 'precision': 0.6551835000315399, 'recall': 0.6102897693672383, 'f1-score': 0.6181815906233902, 'macro_f1-score': 0.38560770400120076, 'balanced_accuracy': 0.43033558365473384, 'mcc': 0.5148464527548522, 'train_loss': 0.29713655778717213}\n",
      "Epoch 9/20\n"
     ]
    },
    {
     "name": "stderr",
     "output_type": "stream",
     "text": [
      "100%|██████████| 761/761 [01:06<00:00, 11.48it/s]\n"
     ]
    },
    {
     "name": "stdout",
     "output_type": "stream",
     "text": [
      "{'val_loss': 1.7272572615798913, 'val_accuracy': 0.6499112950916618, 'precision': 0.6615858559244532, 'recall': 0.6499112950916618, 'f1-score': 0.6438540085985345, 'macro_f1-score': 0.39833100451597786, 'balanced_accuracy': 0.43468234115779336, 'mcc': 0.5432221257419213, 'train_loss': 0.27056414409052293}\n",
      "Early stopping.\n",
      "\n",
      "[Fold 3]\n",
      "Label distribution after resampling:\n",
      "  label 0: 2000\n",
      "  label 1: 200\n",
      "  label 2: 200\n",
      "  label 3: 200\n",
      "  label 4: 206\n",
      "  label 5: 200\n",
      "  label 6: 200\n",
      "  label 7: 200\n",
      "  label 8: 200\n",
      "  label 9: 200\n",
      "  label 10: 200\n",
      "  label 11: 200\n",
      "  label 12: 200\n",
      "  label 13: 200\n",
      "  label 14: 200\n",
      "  label 15: 200\n",
      "  label 16: 200\n",
      "  label 17: 231\n",
      "  label 18: 200\n",
      "  label 19: 200\n",
      "  label 20: 200\n",
      "  label 21: 200\n",
      "  label 22: 200\n",
      "  label 23: 200\n",
      "  label 24: 200\n",
      "  label 25: 200\n",
      "  label 26: 200\n",
      "  label 27: 200\n",
      "  label 28: 200\n",
      "  label 29: 200\n",
      "  label 30: 200\n",
      "  label 31: 200\n",
      "  label 32: 200\n",
      "  label 33: 200\n",
      "  label 34: 200\n",
      "  label 35: 200\n",
      "  label 36: 200\n",
      "  label 37: 200\n",
      "  label 38: 200\n",
      "  label 39: 200\n",
      "  label 40: 200\n",
      "  label 41: 200\n",
      "  label 42: 200\n",
      "  label 43: 200\n",
      "  label 44: 200\n",
      "  label 45: 200\n",
      "  label 46: 200\n",
      "  label 47: 529\n",
      "  label 48: 201\n",
      "  label 49: 200\n",
      "model is roberta-base cnn1filter234drop3\n"
     ]
    },
    {
     "name": "stderr",
     "output_type": "stream",
     "text": [
      "Some weights of RobertaModel were not initialized from the model checkpoint at roberta-base and are newly initialized: ['pooler.dense.bias', 'pooler.dense.weight']\n",
      "You should probably TRAIN this model on a down-stream task to be able to use it for predictions and inference.\n"
     ]
    },
    {
     "name": "stdout",
     "output_type": "stream",
     "text": [
      "Epoch 1/20\n"
     ]
    },
    {
     "name": "stderr",
     "output_type": "stream",
     "text": [
      "100%|██████████| 761/761 [01:06<00:00, 11.50it/s]\n"
     ]
    },
    {
     "name": "stdout",
     "output_type": "stream",
     "text": [
      "{'val_loss': 1.5361559615944915, 'val_accuracy': 0.5783560023654643, 'precision': 0.6584272485223234, 'recall': 0.5783560023654643, 'f1-score': 0.566018516190941, 'macro_f1-score': 0.2960637132891145, 'balanced_accuracy': 0.3710562250090756, 'mcc': 0.4458350504035133, 'train_loss': 2.3327352417126277}\n",
      "Epoch 2/20\n"
     ]
    },
    {
     "name": "stderr",
     "output_type": "stream",
     "text": [
      "100%|██████████| 761/761 [01:06<00:00, 11.51it/s]\n"
     ]
    },
    {
     "name": "stdout",
     "output_type": "stream",
     "text": [
      "{'val_loss': 1.4339131549844202, 'val_accuracy': 0.6191602602010644, 'precision': 0.6347101496508082, 'recall': 0.6191602602010644, 'f1-score': 0.6087334526616538, 'macro_f1-score': 0.33510958381810624, 'balanced_accuracy': 0.3690221969114969, 'mcc': 0.502018969368154, 'train_loss': 0.9990900585063184}\n",
      "Epoch 3/20\n"
     ]
    },
    {
     "name": "stderr",
     "output_type": "stream",
     "text": [
      "100%|██████████| 761/761 [01:06<00:00, 11.49it/s]\n"
     ]
    },
    {
     "name": "stdout",
     "output_type": "stream",
     "text": [
      "{'val_loss': 1.4619135038470321, 'val_accuracy': 0.6091070372560615, 'precision': 0.6776245808998093, 'recall': 0.6091070372560615, 'f1-score': 0.6223490804433112, 'macro_f1-score': 0.3667341641300592, 'balanced_accuracy': 0.42223000123248655, 'mcc': 0.5067079189866497, 'train_loss': 0.605260889810778}\n",
      "Epoch 4/20\n"
     ]
    },
    {
     "name": "stderr",
     "output_type": "stream",
     "text": [
      "100%|██████████| 761/761 [01:06<00:00, 11.50it/s]\n"
     ]
    },
    {
     "name": "stdout",
     "output_type": "stream",
     "text": [
      "{'val_loss': 1.5573720037937164, 'val_accuracy': 0.6351271437019516, 'precision': 0.6687533021225495, 'recall': 0.6351271437019516, 'f1-score': 0.6257292450595284, 'macro_f1-score': 0.35604478962072683, 'balanced_accuracy': 0.3812825565925877, 'mcc': 0.5174374428352254, 'train_loss': 0.4495108440205083}\n",
      "Epoch 5/20\n"
     ]
    },
    {
     "name": "stderr",
     "output_type": "stream",
     "text": [
      "100%|██████████| 761/761 [01:06<00:00, 11.47it/s]\n"
     ]
    },
    {
     "name": "stdout",
     "output_type": "stream",
     "text": [
      "{'val_loss': 1.591800772637691, 'val_accuracy': 0.6333530455351862, 'precision': 0.6206129369438554, 'recall': 0.6333530455351862, 'f1-score': 0.610964978801638, 'macro_f1-score': 0.3351318267191455, 'balanced_accuracy': 0.3420055682677626, 'mcc': 0.5053222093647847, 'train_loss': 0.39989208479983424}\n",
      "Epoch 6/20\n"
     ]
    },
    {
     "name": "stderr",
     "output_type": "stream",
     "text": [
      "100%|██████████| 761/761 [01:06<00:00, 11.50it/s]\n"
     ]
    },
    {
     "name": "stdout",
     "output_type": "stream",
     "text": [
      "{'val_loss': 1.672050584037349, 'val_accuracy': 0.6398580721466588, 'precision': 0.6470876962807149, 'recall': 0.6398580721466588, 'f1-score': 0.6332957134019135, 'macro_f1-score': 0.35900756220279384, 'balanced_accuracy': 0.376749902013106, 'mcc': 0.5335580087029071, 'train_loss': 0.3209082478162944}\n",
      "Early stopping.\n",
      "\n",
      "[Fold 4]\n",
      "Label distribution after resampling:\n",
      "  label 0: 2000\n",
      "  label 1: 200\n",
      "  label 2: 200\n",
      "  label 3: 200\n",
      "  label 4: 206\n",
      "  label 5: 200\n",
      "  label 6: 200\n",
      "  label 7: 200\n",
      "  label 8: 200\n",
      "  label 9: 200\n",
      "  label 10: 200\n",
      "  label 11: 200\n",
      "  label 12: 200\n",
      "  label 13: 200\n",
      "  label 14: 200\n",
      "  label 15: 200\n",
      "  label 16: 200\n",
      "  label 17: 232\n",
      "  label 18: 200\n",
      "  label 19: 200\n",
      "  label 20: 200\n",
      "  label 21: 200\n",
      "  label 22: 200\n",
      "  label 23: 200\n",
      "  label 24: 200\n",
      "  label 25: 200\n",
      "  label 26: 200\n",
      "  label 27: 200\n",
      "  label 28: 200\n",
      "  label 29: 200\n",
      "  label 30: 200\n",
      "  label 31: 200\n",
      "  label 32: 200\n",
      "  label 33: 200\n",
      "  label 34: 200\n",
      "  label 35: 200\n",
      "  label 36: 200\n",
      "  label 37: 200\n",
      "  label 38: 200\n",
      "  label 39: 200\n",
      "  label 40: 200\n",
      "  label 41: 200\n",
      "  label 42: 200\n",
      "  label 43: 200\n",
      "  label 44: 200\n",
      "  label 45: 200\n",
      "  label 46: 200\n",
      "  label 47: 529\n",
      "  label 48: 201\n",
      "  label 49: 200\n",
      "model is roberta-base cnn1filter234drop3\n"
     ]
    },
    {
     "name": "stderr",
     "output_type": "stream",
     "text": [
      "Some weights of RobertaModel were not initialized from the model checkpoint at roberta-base and are newly initialized: ['pooler.dense.bias', 'pooler.dense.weight']\n",
      "You should probably TRAIN this model on a down-stream task to be able to use it for predictions and inference.\n"
     ]
    },
    {
     "name": "stdout",
     "output_type": "stream",
     "text": [
      "Epoch 1/20\n"
     ]
    },
    {
     "name": "stderr",
     "output_type": "stream",
     "text": [
      "100%|██████████| 761/761 [01:06<00:00, 11.49it/s]\n"
     ]
    },
    {
     "name": "stdout",
     "output_type": "stream",
     "text": [
      "{'val_loss': 1.5570355102701008, 'val_accuracy': 0.5801301005322295, 'precision': 0.6177759365789706, 'recall': 0.5801301005322295, 'f1-score': 0.5729888558315116, 'macro_f1-score': 0.3251942619013761, 'balanced_accuracy': 0.4086192263951834, 'mcc': 0.4608316565890844, 'train_loss': 2.2260661433780085}\n",
      "Epoch 2/20\n"
     ]
    },
    {
     "name": "stderr",
     "output_type": "stream",
     "text": [
      "100%|██████████| 761/761 [01:06<00:00, 11.49it/s]\n"
     ]
    },
    {
     "name": "stdout",
     "output_type": "stream",
     "text": [
      "{'val_loss': 1.4169866844730556, 'val_accuracy': 0.615612063867534, 'precision': 0.6747648783555465, 'recall': 0.615612063867534, 'f1-score': 0.6233815086459454, 'macro_f1-score': 0.40331479096759165, 'balanced_accuracy': 0.4793099333507485, 'mcc': 0.5193261271068276, 'train_loss': 0.907950741996433}\n",
      "Epoch 3/20\n"
     ]
    },
    {
     "name": "stderr",
     "output_type": "stream",
     "text": [
      "100%|██████████| 761/761 [01:06<00:00, 11.49it/s]\n"
     ]
    },
    {
     "name": "stdout",
     "output_type": "stream",
     "text": [
      "{'val_loss': 1.3603281620538459, 'val_accuracy': 0.6439976345357776, 'precision': 0.6735841603898659, 'recall': 0.6439976345357776, 'f1-score': 0.6440945351370085, 'macro_f1-score': 0.42026543796163557, 'balanced_accuracy': 0.4465328484192021, 'mcc': 0.5439424319731214, 'train_loss': 0.5650945617407365}\n",
      "Epoch 4/20\n"
     ]
    },
    {
     "name": "stderr",
     "output_type": "stream",
     "text": [
      "100%|██████████| 761/761 [01:06<00:00, 11.48it/s]\n"
     ]
    },
    {
     "name": "stdout",
     "output_type": "stream",
     "text": [
      "{'val_loss': 1.5103428268207695, 'val_accuracy': 0.6020106445890006, 'precision': 0.6700150924727621, 'recall': 0.6020106445890006, 'f1-score': 0.6186863154340251, 'macro_f1-score': 0.4136322289644631, 'balanced_accuracy': 0.47226425916448284, 'mcc': 0.5142341592551934, 'train_loss': 0.43969778106615204}\n",
      "Epoch 5/20\n"
     ]
    },
    {
     "name": "stderr",
     "output_type": "stream",
     "text": [
      "100%|██████████| 761/761 [01:06<00:00, 11.50it/s]\n"
     ]
    },
    {
     "name": "stdout",
     "output_type": "stream",
     "text": [
      "{'val_loss': 1.4482356692260165, 'val_accuracy': 0.6623299822590183, 'precision': 0.6747360879244443, 'recall': 0.6623299822590183, 'f1-score': 0.6591160331901484, 'macro_f1-score': 0.4514699356297546, 'balanced_accuracy': 0.45814145236791987, 'mcc': 0.5592267016395139, 'train_loss': 0.35282835839915916}\n",
      "Epoch 6/20\n"
     ]
    },
    {
     "name": "stderr",
     "output_type": "stream",
     "text": [
      "100%|██████████| 761/761 [01:06<00:00, 11.49it/s]\n"
     ]
    },
    {
     "name": "stdout",
     "output_type": "stream",
     "text": [
      "{'val_loss': 1.5057798148888462, 'val_accuracy': 0.6593731519810763, 'precision': 0.680667786663477, 'recall': 0.6593731519810763, 'f1-score': 0.6539341813918029, 'macro_f1-score': 0.43263009914238454, 'balanced_accuracy': 0.4599245092439886, 'mcc': 0.5597206256633951, 'train_loss': 0.3058108663254965}\n",
      "Epoch 7/20\n"
     ]
    },
    {
     "name": "stderr",
     "output_type": "stream",
     "text": [
      "100%|██████████| 761/761 [01:06<00:00, 11.50it/s]\n"
     ]
    },
    {
     "name": "stdout",
     "output_type": "stream",
     "text": [
      "{'val_loss': 1.485680050445053, 'val_accuracy': 0.6540508574807806, 'precision': 0.6769050432130514, 'recall': 0.6540508574807806, 'f1-score': 0.6545841502916392, 'macro_f1-score': 0.4264674345575729, 'balanced_accuracy': 0.4660908242350405, 'mcc': 0.5537858623499617, 'train_loss': 0.3044082240254157}\n",
      "Epoch 8/20\n"
     ]
    },
    {
     "name": "stderr",
     "output_type": "stream",
     "text": [
      "100%|██████████| 761/761 [01:06<00:00, 11.49it/s]\n"
     ]
    },
    {
     "name": "stdout",
     "output_type": "stream",
     "text": [
      "{'val_loss': 1.6665900703871026, 'val_accuracy': 0.638675340035482, 'precision': 0.6855482886606338, 'recall': 0.638675340035482, 'f1-score': 0.6461852994477444, 'macro_f1-score': 0.4245949743675333, 'balanced_accuracy': 0.47062595487312947, 'mcc': 0.5490235786650811, 'train_loss': 0.2607789985246898}\n",
      "Early stopping.\n",
      "\n",
      "[Fold 5]\n",
      "Label distribution after resampling:\n",
      "  label 0: 2000\n",
      "  label 1: 200\n",
      "  label 2: 200\n",
      "  label 3: 200\n",
      "  label 4: 205\n",
      "  label 5: 200\n",
      "  label 6: 200\n",
      "  label 7: 200\n",
      "  label 8: 200\n",
      "  label 9: 200\n",
      "  label 10: 200\n",
      "  label 11: 200\n",
      "  label 12: 200\n",
      "  label 13: 200\n",
      "  label 14: 200\n",
      "  label 15: 200\n",
      "  label 16: 200\n",
      "  label 17: 231\n",
      "  label 18: 200\n",
      "  label 19: 200\n",
      "  label 20: 200\n",
      "  label 21: 200\n",
      "  label 22: 200\n",
      "  label 23: 200\n",
      "  label 24: 200\n",
      "  label 25: 200\n",
      "  label 26: 200\n",
      "  label 27: 200\n",
      "  label 28: 200\n",
      "  label 29: 200\n",
      "  label 30: 200\n",
      "  label 31: 200\n",
      "  label 32: 200\n",
      "  label 33: 200\n",
      "  label 34: 200\n",
      "  label 35: 200\n",
      "  label 36: 200\n",
      "  label 37: 200\n",
      "  label 38: 200\n",
      "  label 39: 200\n",
      "  label 40: 200\n",
      "  label 41: 200\n",
      "  label 42: 200\n",
      "  label 43: 200\n",
      "  label 44: 200\n",
      "  label 45: 200\n",
      "  label 46: 200\n",
      "  label 47: 529\n",
      "  label 48: 202\n",
      "  label 49: 200\n",
      "model is roberta-base cnn1filter234drop3\n"
     ]
    },
    {
     "name": "stderr",
     "output_type": "stream",
     "text": [
      "Some weights of RobertaModel were not initialized from the model checkpoint at roberta-base and are newly initialized: ['pooler.dense.bias', 'pooler.dense.weight']\n",
      "You should probably TRAIN this model on a down-stream task to be able to use it for predictions and inference.\n"
     ]
    },
    {
     "name": "stdout",
     "output_type": "stream",
     "text": [
      "Epoch 1/20\n"
     ]
    },
    {
     "name": "stderr",
     "output_type": "stream",
     "text": [
      "100%|██████████| 761/761 [01:06<00:00, 11.49it/s]\n"
     ]
    },
    {
     "name": "stdout",
     "output_type": "stream",
     "text": [
      "{'val_loss': 1.4935041840346355, 'val_accuracy': 0.5846153846153846, 'precision': 0.6166994204827758, 'recall': 0.5846153846153846, 'f1-score': 0.5772951249486525, 'macro_f1-score': 0.30305419567097375, 'balanced_accuracy': 0.365107491026748, 'mcc': 0.45556699036159354, 'train_loss': 2.2986484306243966}\n",
      "Epoch 2/20\n"
     ]
    },
    {
     "name": "stderr",
     "output_type": "stream",
     "text": [
      "100%|██████████| 761/761 [01:06<00:00, 11.50it/s]\n"
     ]
    },
    {
     "name": "stdout",
     "output_type": "stream",
     "text": [
      "{'val_loss': 1.5087599034579295, 'val_accuracy': 0.5976331360946746, 'precision': 0.6383923410744672, 'recall': 0.5976331360946746, 'f1-score': 0.598566751782883, 'macro_f1-score': 0.34741651494895265, 'balanced_accuracy': 0.4208179376471221, 'mcc': 0.4842569395081997, 'train_loss': 0.9552252903756895}\n",
      "Epoch 3/20\n"
     ]
    },
    {
     "name": "stderr",
     "output_type": "stream",
     "text": [
      "100%|██████████| 761/761 [01:06<00:00, 11.48it/s]\n"
     ]
    },
    {
     "name": "stdout",
     "output_type": "stream",
     "text": [
      "{'val_loss': 1.4516113164289943, 'val_accuracy': 0.6189349112426036, 'precision': 0.6969683659883277, 'recall': 0.6189349112426036, 'f1-score': 0.636650740079181, 'macro_f1-score': 0.38048071925067084, 'balanced_accuracy': 0.41224943554191784, 'mcc': 0.525250788430671, 'train_loss': 0.6221436215968468}\n",
      "Epoch 4/20\n"
     ]
    },
    {
     "name": "stderr",
     "output_type": "stream",
     "text": [
      "100%|██████████| 761/761 [01:06<00:00, 11.50it/s]\n"
     ]
    },
    {
     "name": "stdout",
     "output_type": "stream",
     "text": [
      "{'val_loss': 1.6258970116669278, 'val_accuracy': 0.5976331360946746, 'precision': 0.6605599838733383, 'recall': 0.5976331360946746, 'f1-score': 0.61322007715227, 'macro_f1-score': 0.3546141511312219, 'balanced_accuracy': 0.39617166629374706, 'mcc': 0.5010049906201687, 'train_loss': 0.45311098222947543}\n",
      "Epoch 5/20\n"
     ]
    },
    {
     "name": "stderr",
     "output_type": "stream",
     "text": [
      "100%|██████████| 761/761 [01:06<00:00, 11.48it/s]\n"
     ]
    },
    {
     "name": "stdout",
     "output_type": "stream",
     "text": [
      "{'val_loss': 1.5251317451585014, 'val_accuracy': 0.6278106508875739, 'precision': 0.6737057811283433, 'recall': 0.6278106508875739, 'f1-score': 0.637002157090004, 'macro_f1-score': 0.37063093751678794, 'balanced_accuracy': 0.4038334375625729, 'mcc': 0.5347171897227078, 'train_loss': 0.39421197229754007}\n",
      "Epoch 6/20\n"
     ]
    },
    {
     "name": "stderr",
     "output_type": "stream",
     "text": [
      "100%|██████████| 761/761 [01:06<00:00, 11.49it/s]\n"
     ]
    },
    {
     "name": "stdout",
     "output_type": "stream",
     "text": [
      "{'val_loss': 1.5528918313530256, 'val_accuracy': 0.6532544378698225, 'precision': 0.6508060204393339, 'recall': 0.6532544378698225, 'f1-score': 0.6361328040976, 'macro_f1-score': 0.3555340724752876, 'balanced_accuracy': 0.3543891170709444, 'mcc': 0.5397811337089472, 'train_loss': 0.3512547838008435}\n",
      "Early stopping.\n",
      "\n",
      " === roberta-base + cnn1filter234drop3 + ros Final 5-fold Cross-Validation Results ===\n",
      "Total time: 2517 seconds\n",
      "Total time: 0 hrs 41 mins 57 secs\n",
      "val_loss: 1.4833\n",
      "val_accuracy: 0.6347\n",
      "precision: 0.6802\n",
      "recall: 0.6347\n",
      "f1-score: 0.6410\n",
      "macro_f1-score: 0.4044\n",
      "balanced_accuracy: 0.4319\n",
      "mcc: 0.5350\n",
      "train_loss: 0.4753\n",
      "▶ Running: roberta-base + cnn1filter234drop5 + ros\n",
      "tokenizer is roberta-base\n",
      "Using device: cuda\n",
      "CUDA Available: True\n",
      "CUDA Device: NVIDIA GeForce RTX 5070 Ti\n",
      "Current GPU Memory Allocated: 0.02 GB\n",
      "Current GPU Memory Cached: 3.84 GB\n",
      "\n",
      "[Fold 1]\n",
      "Label distribution after resampling:\n",
      "  label 0: 2000\n",
      "  label 1: 200\n",
      "  label 2: 200\n",
      "  label 3: 200\n",
      "  label 4: 205\n",
      "  label 5: 200\n",
      "  label 6: 200\n",
      "  label 7: 200\n",
      "  label 8: 200\n",
      "  label 9: 200\n",
      "  label 10: 200\n",
      "  label 11: 200\n",
      "  label 12: 200\n",
      "  label 13: 200\n",
      "  label 14: 200\n",
      "  label 15: 200\n",
      "  label 16: 200\n",
      "  label 17: 231\n",
      "  label 18: 200\n",
      "  label 19: 200\n",
      "  label 20: 200\n",
      "  label 21: 200\n",
      "  label 22: 200\n",
      "  label 23: 200\n",
      "  label 24: 200\n",
      "  label 25: 200\n",
      "  label 26: 200\n",
      "  label 27: 200\n",
      "  label 28: 200\n",
      "  label 29: 200\n",
      "  label 30: 200\n",
      "  label 31: 200\n",
      "  label 32: 200\n",
      "  label 33: 200\n",
      "  label 34: 200\n",
      "  label 35: 200\n",
      "  label 36: 200\n",
      "  label 37: 200\n",
      "  label 38: 200\n",
      "  label 39: 200\n",
      "  label 40: 200\n",
      "  label 41: 200\n",
      "  label 42: 200\n",
      "  label 43: 200\n",
      "  label 44: 200\n",
      "  label 45: 200\n",
      "  label 46: 200\n",
      "  label 47: 529\n",
      "  label 48: 202\n",
      "  label 49: 200\n",
      "model is roberta-base cnn1filter234drop5\n"
     ]
    },
    {
     "name": "stderr",
     "output_type": "stream",
     "text": [
      "Some weights of RobertaModel were not initialized from the model checkpoint at roberta-base and are newly initialized: ['pooler.dense.bias', 'pooler.dense.weight']\n",
      "You should probably TRAIN this model on a down-stream task to be able to use it for predictions and inference.\n"
     ]
    },
    {
     "name": "stdout",
     "output_type": "stream",
     "text": [
      "Epoch 1/20\n"
     ]
    },
    {
     "name": "stderr",
     "output_type": "stream",
     "text": [
      "100%|██████████| 761/761 [01:06<00:00, 11.51it/s]\n"
     ]
    },
    {
     "name": "stdout",
     "output_type": "stream",
     "text": [
      "{'val_loss': 1.7658541404976036, 'val_accuracy': 0.5097575399172087, 'precision': 0.5468140625443476, 'recall': 0.5097575399172087, 'f1-score': 0.5002585579716242, 'macro_f1-score': 0.20430247508721977, 'balanced_accuracy': 0.32116798836528226, 'mcc': 0.3697514226285424, 'train_loss': 2.7204279247940604}\n",
      "Epoch 2/20\n"
     ]
    },
    {
     "name": "stderr",
     "output_type": "stream",
     "text": [
      "100%|██████████| 761/761 [01:06<00:00, 11.49it/s]\n"
     ]
    },
    {
     "name": "stdout",
     "output_type": "stream",
     "text": [
      "{'val_loss': 1.4389429463530488, 'val_accuracy': 0.5943228858663513, 'precision': 0.6227470143301853, 'recall': 0.5943228858663513, 'f1-score': 0.5851967642939019, 'macro_f1-score': 0.3342977612672086, 'balanced_accuracy': 0.3949127087907711, 'mcc': 0.4761979575222263, 'train_loss': 1.2957578335109114}\n",
      "Epoch 3/20\n"
     ]
    },
    {
     "name": "stderr",
     "output_type": "stream",
     "text": [
      "100%|██████████| 761/761 [01:06<00:00, 11.51it/s]\n"
     ]
    },
    {
     "name": "stdout",
     "output_type": "stream",
     "text": [
      "{'val_loss': 1.4474465987592373, 'val_accuracy': 0.6091070372560615, 'precision': 0.661095925064477, 'recall': 0.6091070372560615, 'f1-score': 0.615335304084352, 'macro_f1-score': 0.37950595872459353, 'balanced_accuracy': 0.43545778707528265, 'mcc': 0.5047576784957141, 'train_loss': 0.7677370601978628}\n",
      "Epoch 4/20\n"
     ]
    },
    {
     "name": "stderr",
     "output_type": "stream",
     "text": [
      "100%|██████████| 761/761 [01:06<00:00, 11.49it/s]\n"
     ]
    },
    {
     "name": "stdout",
     "output_type": "stream",
     "text": [
      "{'val_loss': 1.54245263338089, 'val_accuracy': 0.6020106445890006, 'precision': 0.6546149990780928, 'recall': 0.6020106445890006, 'f1-score': 0.6099923188575829, 'macro_f1-score': 0.3772327263992628, 'balanced_accuracy': 0.4088879434319774, 'mcc': 0.497187529988367, 'train_loss': 0.5636967778127547}\n",
      "Epoch 5/20\n"
     ]
    },
    {
     "name": "stderr",
     "output_type": "stream",
     "text": [
      "100%|██████████| 761/761 [01:06<00:00, 11.50it/s]\n"
     ]
    },
    {
     "name": "stdout",
     "output_type": "stream",
     "text": [
      "{'val_loss': 1.416366552969195, 'val_accuracy': 0.6339444115907746, 'precision': 0.6785598275118454, 'recall': 0.6339444115907746, 'f1-score': 0.6372444305948644, 'macro_f1-score': 0.3904050946753167, 'balanced_accuracy': 0.4055641991495861, 'mcc': 0.5138761690951904, 'train_loss': 0.4572672429598584}\n",
      "Epoch 6/20\n"
     ]
    },
    {
     "name": "stderr",
     "output_type": "stream",
     "text": [
      "100%|██████████| 761/761 [01:06<00:00, 11.49it/s]\n"
     ]
    },
    {
     "name": "stdout",
     "output_type": "stream",
     "text": [
      "{'val_loss': 1.5301274280503112, 'val_accuracy': 0.6404494382022472, 'precision': 0.6692414342662055, 'recall': 0.6404494382022472, 'f1-score': 0.6385279292444245, 'macro_f1-score': 0.3852193102638059, 'balanced_accuracy': 0.40047574099930244, 'mcc': 0.5333599983816626, 'train_loss': 0.3949446463039568}\n",
      "Epoch 7/20\n"
     ]
    },
    {
     "name": "stderr",
     "output_type": "stream",
     "text": [
      "100%|██████████| 761/761 [01:06<00:00, 11.50it/s]\n"
     ]
    },
    {
     "name": "stdout",
     "output_type": "stream",
     "text": [
      "{'val_loss': 1.594817894809651, 'val_accuracy': 0.6558249556475458, 'precision': 0.6712320260172249, 'recall': 0.6558249556475458, 'f1-score': 0.6488682403672716, 'macro_f1-score': 0.39798793006300337, 'balanced_accuracy': 0.4083737733651978, 'mcc': 0.5515304815866702, 'train_loss': 0.347188099157726}\n",
      "Epoch 8/20\n"
     ]
    },
    {
     "name": "stderr",
     "output_type": "stream",
     "text": [
      "100%|██████████| 761/761 [01:06<00:00, 11.51it/s]\n"
     ]
    },
    {
     "name": "stdout",
     "output_type": "stream",
     "text": [
      "{'val_loss': 1.6156817983906224, 'val_accuracy': 0.6540508574807806, 'precision': 0.6706384859100126, 'recall': 0.6540508574807806, 'f1-score': 0.6475684054145143, 'macro_f1-score': 0.40402256818922233, 'balanced_accuracy': 0.4355901618563815, 'mcc': 0.5481226075531913, 'train_loss': 0.33148598302101884}\n",
      "Epoch 9/20\n"
     ]
    },
    {
     "name": "stderr",
     "output_type": "stream",
     "text": [
      "100%|██████████| 761/761 [01:06<00:00, 11.50it/s]\n"
     ]
    },
    {
     "name": "stdout",
     "output_type": "stream",
     "text": [
      "{'val_loss': 1.7332827915560525, 'val_accuracy': 0.6374926079243052, 'precision': 0.6787748584441565, 'recall': 0.6374926079243052, 'f1-score': 0.6451304300055344, 'macro_f1-score': 0.37921380030852925, 'balanced_accuracy': 0.38938088819315875, 'mcc': 0.5317002442125616, 'train_loss': 0.3040468897199339}\n",
      "Epoch 10/20\n"
     ]
    },
    {
     "name": "stderr",
     "output_type": "stream",
     "text": [
      "100%|██████████| 761/761 [01:06<00:00, 11.50it/s]\n"
     ]
    },
    {
     "name": "stdout",
     "output_type": "stream",
     "text": [
      "{'val_loss': 1.6851106544710555, 'val_accuracy': 0.6564163217031342, 'precision': 0.6411844143787278, 'recall': 0.6564163217031342, 'f1-score': 0.6369845951170664, 'macro_f1-score': 0.38913696102077167, 'balanced_accuracy': 0.39127627213763394, 'mcc': 0.5380101977125281, 'train_loss': 0.2994378085104986}\n",
      "Epoch 11/20\n"
     ]
    },
    {
     "name": "stderr",
     "output_type": "stream",
     "text": [
      "100%|██████████| 761/761 [01:06<00:00, 11.49it/s]\n"
     ]
    },
    {
     "name": "stdout",
     "output_type": "stream",
     "text": [
      "{'val_loss': 1.7289580975501042, 'val_accuracy': 0.6469544648137197, 'precision': 0.6651540638127671, 'recall': 0.6469544648137197, 'f1-score': 0.6391707261065547, 'macro_f1-score': 0.3750989967870531, 'balanced_accuracy': 0.380199592553368, 'mcc': 0.5399749615511086, 'train_loss': 0.26722059458550484}\n",
      "Early stopping.\n",
      "\n",
      "[Fold 2]\n",
      "Label distribution after resampling:\n",
      "  label 0: 2000\n",
      "  label 1: 200\n",
      "  label 2: 200\n",
      "  label 3: 200\n",
      "  label 4: 206\n",
      "  label 5: 200\n",
      "  label 6: 200\n",
      "  label 7: 200\n",
      "  label 8: 200\n",
      "  label 9: 200\n",
      "  label 10: 200\n",
      "  label 11: 200\n",
      "  label 12: 200\n",
      "  label 13: 200\n",
      "  label 14: 200\n",
      "  label 15: 200\n",
      "  label 16: 200\n",
      "  label 17: 231\n",
      "  label 18: 200\n",
      "  label 19: 200\n",
      "  label 20: 200\n",
      "  label 21: 200\n",
      "  label 22: 200\n",
      "  label 23: 200\n",
      "  label 24: 200\n",
      "  label 25: 200\n",
      "  label 26: 200\n",
      "  label 27: 200\n",
      "  label 28: 200\n",
      "  label 29: 200\n",
      "  label 30: 200\n",
      "  label 31: 200\n",
      "  label 32: 200\n",
      "  label 33: 200\n",
      "  label 34: 200\n",
      "  label 35: 200\n",
      "  label 36: 200\n",
      "  label 37: 200\n",
      "  label 38: 200\n",
      "  label 39: 200\n",
      "  label 40: 200\n",
      "  label 41: 200\n",
      "  label 42: 200\n",
      "  label 43: 200\n",
      "  label 44: 200\n",
      "  label 45: 200\n",
      "  label 46: 200\n",
      "  label 47: 528\n",
      "  label 48: 202\n",
      "  label 49: 200\n",
      "model is roberta-base cnn1filter234drop5\n"
     ]
    },
    {
     "name": "stderr",
     "output_type": "stream",
     "text": [
      "Some weights of RobertaModel were not initialized from the model checkpoint at roberta-base and are newly initialized: ['pooler.dense.bias', 'pooler.dense.weight']\n",
      "You should probably TRAIN this model on a down-stream task to be able to use it for predictions and inference.\n"
     ]
    },
    {
     "name": "stdout",
     "output_type": "stream",
     "text": [
      "Epoch 1/20\n"
     ]
    },
    {
     "name": "stderr",
     "output_type": "stream",
     "text": [
      "100%|██████████| 761/761 [01:06<00:00, 11.50it/s]\n"
     ]
    },
    {
     "name": "stdout",
     "output_type": "stream",
     "text": [
      "{'val_loss': 1.5391293466091156, 'val_accuracy': 0.5824955647545831, 'precision': 0.6423788179718362, 'recall': 0.5824955647545831, 'f1-score': 0.5739436257402107, 'macro_f1-score': 0.31242854601820896, 'balanced_accuracy': 0.404875771007475, 'mcc': 0.4646030324781763, 'train_loss': 2.4588768071789935}\n",
      "Epoch 2/20\n"
     ]
    },
    {
     "name": "stderr",
     "output_type": "stream",
     "text": [
      "100%|██████████| 761/761 [01:06<00:00, 11.50it/s]\n"
     ]
    },
    {
     "name": "stdout",
     "output_type": "stream",
     "text": [
      "{'val_loss': 1.3741937740793768, 'val_accuracy': 0.6333530455351862, 'precision': 0.6253798967675597, 'recall': 0.6333530455351862, 'f1-score': 0.6124932250157203, 'macro_f1-score': 0.35670226886024176, 'balanced_accuracy': 0.3891370552812242, 'mcc': 0.5065118868647516, 'train_loss': 1.1037078665449491}\n",
      "Epoch 3/20\n"
     ]
    },
    {
     "name": "stderr",
     "output_type": "stream",
     "text": [
      "100%|██████████| 761/761 [01:06<00:00, 11.49it/s]\n"
     ]
    },
    {
     "name": "stdout",
     "output_type": "stream",
     "text": [
      "{'val_loss': 1.46538822409117, 'val_accuracy': 0.6327616794795978, 'precision': 0.6613559875373924, 'recall': 0.6327616794795978, 'f1-score': 0.6383580736757152, 'macro_f1-score': 0.41287407921169406, 'balanced_accuracy': 0.4357158826595991, 'mcc': 0.5334450332571543, 'train_loss': 0.6765687666373247}\n",
      "Epoch 4/20\n"
     ]
    },
    {
     "name": "stderr",
     "output_type": "stream",
     "text": [
      "100%|██████████| 761/761 [01:06<00:00, 11.50it/s]\n"
     ]
    },
    {
     "name": "stdout",
     "output_type": "stream",
     "text": [
      "{'val_loss': 1.5185130699625555, 'val_accuracy': 0.6439976345357776, 'precision': 0.6823749910860334, 'recall': 0.6439976345357776, 'f1-score': 0.6451045076274131, 'macro_f1-score': 0.39381771647477765, 'balanced_accuracy': 0.4368232409067806, 'mcc': 0.5383066667816477, 'train_loss': 0.5050061760340547}\n",
      "Epoch 5/20\n"
     ]
    },
    {
     "name": "stderr",
     "output_type": "stream",
     "text": [
      "100%|██████████| 761/761 [01:06<00:00, 11.48it/s]\n"
     ]
    },
    {
     "name": "stdout",
     "output_type": "stream",
     "text": [
      "{'val_loss': 1.503739297952292, 'val_accuracy': 0.6552335895919574, 'precision': 0.6701482601257175, 'recall': 0.6552335895919574, 'f1-score': 0.6576673216875475, 'macro_f1-score': 0.4105684472247228, 'balanced_accuracy': 0.42315033791040635, 'mcc': 0.549160043668151, 'train_loss': 0.4086154331765217}\n",
      "Epoch 6/20\n"
     ]
    },
    {
     "name": "stderr",
     "output_type": "stream",
     "text": [
      "100%|██████████| 761/761 [01:06<00:00, 11.50it/s]\n"
     ]
    },
    {
     "name": "stdout",
     "output_type": "stream",
     "text": [
      "{'val_loss': 1.772982805686177, 'val_accuracy': 0.5943228858663513, 'precision': 0.6529347701329902, 'recall': 0.5943228858663513, 'f1-score': 0.6114051057914156, 'macro_f1-score': 0.3619844187368858, 'balanced_accuracy': 0.4067965787852962, 'mcc': 0.4987358048221083, 'train_loss': 0.36645810084806635}\n",
      "Early stopping.\n",
      "\n",
      "[Fold 3]\n",
      "Label distribution after resampling:\n",
      "  label 0: 2000\n",
      "  label 1: 200\n",
      "  label 2: 200\n",
      "  label 3: 200\n",
      "  label 4: 206\n",
      "  label 5: 200\n",
      "  label 6: 200\n",
      "  label 7: 200\n",
      "  label 8: 200\n",
      "  label 9: 200\n",
      "  label 10: 200\n",
      "  label 11: 200\n",
      "  label 12: 200\n",
      "  label 13: 200\n",
      "  label 14: 200\n",
      "  label 15: 200\n",
      "  label 16: 200\n",
      "  label 17: 231\n",
      "  label 18: 200\n",
      "  label 19: 200\n",
      "  label 20: 200\n",
      "  label 21: 200\n",
      "  label 22: 200\n",
      "  label 23: 200\n",
      "  label 24: 200\n",
      "  label 25: 200\n",
      "  label 26: 200\n",
      "  label 27: 200\n",
      "  label 28: 200\n",
      "  label 29: 200\n",
      "  label 30: 200\n",
      "  label 31: 200\n",
      "  label 32: 200\n",
      "  label 33: 200\n",
      "  label 34: 200\n",
      "  label 35: 200\n",
      "  label 36: 200\n",
      "  label 37: 200\n",
      "  label 38: 200\n",
      "  label 39: 200\n",
      "  label 40: 200\n",
      "  label 41: 200\n",
      "  label 42: 200\n",
      "  label 43: 200\n",
      "  label 44: 200\n",
      "  label 45: 200\n",
      "  label 46: 200\n",
      "  label 47: 529\n",
      "  label 48: 201\n",
      "  label 49: 200\n",
      "model is roberta-base cnn1filter234drop5\n"
     ]
    },
    {
     "name": "stderr",
     "output_type": "stream",
     "text": [
      "Some weights of RobertaModel were not initialized from the model checkpoint at roberta-base and are newly initialized: ['pooler.dense.bias', 'pooler.dense.weight']\n",
      "You should probably TRAIN this model on a down-stream task to be able to use it for predictions and inference.\n"
     ]
    },
    {
     "name": "stdout",
     "output_type": "stream",
     "text": [
      "Epoch 1/20\n"
     ]
    },
    {
     "name": "stderr",
     "output_type": "stream",
     "text": [
      "100%|██████████| 761/761 [01:06<00:00, 11.50it/s]\n"
     ]
    },
    {
     "name": "stdout",
     "output_type": "stream",
     "text": [
      "{'val_loss': 1.6515965332400124, 'val_accuracy': 0.5552927261975162, 'precision': 0.5850021430332748, 'recall': 0.5552927261975162, 'f1-score': 0.5522563853628434, 'macro_f1-score': 0.28696144526669987, 'balanced_accuracy': 0.3335240568077198, 'mcc': 0.4309023128503424, 'train_loss': 2.506448243983315}\n",
      "Epoch 2/20\n"
     ]
    },
    {
     "name": "stderr",
     "output_type": "stream",
     "text": [
      "100%|██████████| 761/761 [01:06<00:00, 11.49it/s]\n"
     ]
    },
    {
     "name": "stdout",
     "output_type": "stream",
     "text": [
      "{'val_loss': 1.4743714057049662, 'val_accuracy': 0.6055588409225311, 'precision': 0.6399875896505105, 'recall': 0.6055588409225311, 'f1-score': 0.5987410369137701, 'macro_f1-score': 0.33060247991091, 'balanced_accuracy': 0.38589119576140973, 'mcc': 0.4930056286392905, 'train_loss': 1.0886459809565199}\n",
      "Epoch 3/20\n"
     ]
    },
    {
     "name": "stderr",
     "output_type": "stream",
     "text": [
      "100%|██████████| 761/761 [01:06<00:00, 11.51it/s]\n"
     ]
    },
    {
     "name": "stdout",
     "output_type": "stream",
     "text": [
      "{'val_loss': 1.6178656583124738, 'val_accuracy': 0.5736250739207569, 'precision': 0.6283236413861145, 'recall': 0.5736250739207569, 'f1-score': 0.5868010179987226, 'macro_f1-score': 0.3440602717996956, 'balanced_accuracy': 0.41672958611939914, 'mcc': 0.4785084270015692, 'train_loss': 0.6602176896708867}\n",
      "Epoch 4/20\n"
     ]
    },
    {
     "name": "stderr",
     "output_type": "stream",
     "text": [
      "100%|██████████| 761/761 [01:06<00:00, 11.47it/s]\n"
     ]
    },
    {
     "name": "stdout",
     "output_type": "stream",
     "text": [
      "{'val_loss': 1.5785055104291663, 'val_accuracy': 0.6020106445890006, 'precision': 0.6484339080018174, 'recall': 0.6020106445890006, 'f1-score': 0.6138136061828567, 'macro_f1-score': 0.3695358417544608, 'balanced_accuracy': 0.4210319726552757, 'mcc': 0.5016694101128059, 'train_loss': 0.5118948989566147}\n",
      "Epoch 5/20\n"
     ]
    },
    {
     "name": "stderr",
     "output_type": "stream",
     "text": [
      "100%|██████████| 761/761 [01:06<00:00, 11.50it/s]\n"
     ]
    },
    {
     "name": "stdout",
     "output_type": "stream",
     "text": [
      "{'val_loss': 1.657349338227848, 'val_accuracy': 0.6049674748669427, 'precision': 0.6483954145831808, 'recall': 0.6049674748669427, 'f1-score': 0.6110310213163893, 'macro_f1-score': 0.32044439408620506, 'balanced_accuracy': 0.37693889145963894, 'mcc': 0.5031095061535796, 'train_loss': 0.4095792694631646}\n",
      "Epoch 6/20\n"
     ]
    },
    {
     "name": "stderr",
     "output_type": "stream",
     "text": [
      "100%|██████████| 761/761 [01:06<00:00, 11.50it/s]\n"
     ]
    },
    {
     "name": "stdout",
     "output_type": "stream",
     "text": [
      "{'val_loss': 1.6442527602303703, 'val_accuracy': 0.644589000591366, 'precision': 0.6256753523403416, 'recall': 0.644589000591366, 'f1-score': 0.6217580378651082, 'macro_f1-score': 0.3479409550174304, 'balanced_accuracy': 0.34880387093095655, 'mcc': 0.5219680580969566, 'train_loss': 0.332499235644496}\n",
      "Epoch 7/20\n"
     ]
    },
    {
     "name": "stderr",
     "output_type": "stream",
     "text": [
      "100%|██████████| 761/761 [01:06<00:00, 11.50it/s]\n"
     ]
    },
    {
     "name": "stdout",
     "output_type": "stream",
     "text": [
      "{'val_loss': 1.7653180760032725, 'val_accuracy': 0.6020106445890006, 'precision': 0.6693913714644033, 'recall': 0.6020106445890006, 'f1-score': 0.6183633862594317, 'macro_f1-score': 0.3426327112127423, 'balanced_accuracy': 0.3728931319352338, 'mcc': 0.49411071280474367, 'train_loss': 0.3294368110531048}\n",
      "Early stopping.\n",
      "\n",
      "[Fold 4]\n",
      "Label distribution after resampling:\n",
      "  label 0: 2000\n",
      "  label 1: 200\n",
      "  label 2: 200\n",
      "  label 3: 200\n",
      "  label 4: 206\n",
      "  label 5: 200\n",
      "  label 6: 200\n",
      "  label 7: 200\n",
      "  label 8: 200\n",
      "  label 9: 200\n",
      "  label 10: 200\n",
      "  label 11: 200\n",
      "  label 12: 200\n",
      "  label 13: 200\n",
      "  label 14: 200\n",
      "  label 15: 200\n",
      "  label 16: 200\n",
      "  label 17: 232\n",
      "  label 18: 200\n",
      "  label 19: 200\n",
      "  label 20: 200\n",
      "  label 21: 200\n",
      "  label 22: 200\n",
      "  label 23: 200\n",
      "  label 24: 200\n",
      "  label 25: 200\n",
      "  label 26: 200\n",
      "  label 27: 200\n",
      "  label 28: 200\n",
      "  label 29: 200\n",
      "  label 30: 200\n",
      "  label 31: 200\n",
      "  label 32: 200\n",
      "  label 33: 200\n",
      "  label 34: 200\n",
      "  label 35: 200\n",
      "  label 36: 200\n",
      "  label 37: 200\n",
      "  label 38: 200\n",
      "  label 39: 200\n",
      "  label 40: 200\n",
      "  label 41: 200\n",
      "  label 42: 200\n",
      "  label 43: 200\n",
      "  label 44: 200\n",
      "  label 45: 200\n",
      "  label 46: 200\n",
      "  label 47: 529\n",
      "  label 48: 201\n",
      "  label 49: 200\n",
      "model is roberta-base cnn1filter234drop5\n"
     ]
    },
    {
     "name": "stderr",
     "output_type": "stream",
     "text": [
      "Some weights of RobertaModel were not initialized from the model checkpoint at roberta-base and are newly initialized: ['pooler.dense.bias', 'pooler.dense.weight']\n",
      "You should probably TRAIN this model on a down-stream task to be able to use it for predictions and inference.\n"
     ]
    },
    {
     "name": "stdout",
     "output_type": "stream",
     "text": [
      "Epoch 1/20\n"
     ]
    },
    {
     "name": "stderr",
     "output_type": "stream",
     "text": [
      "100%|██████████| 761/761 [01:06<00:00, 11.50it/s]\n"
     ]
    },
    {
     "name": "stdout",
     "output_type": "stream",
     "text": [
      "{'val_loss': 1.55784890730426, 'val_accuracy': 0.5990538143110585, 'precision': 0.5866094418015635, 'recall': 0.5990538143110585, 'f1-score': 0.5546557681978828, 'macro_f1-score': 0.2639952999634745, 'balanced_accuracy': 0.3277903345021218, 'mcc': 0.46660200519199496, 'train_loss': 2.784418562551992}\n",
      "Epoch 2/20\n"
     ]
    },
    {
     "name": "stderr",
     "output_type": "stream",
     "text": [
      "100%|██████████| 761/761 [01:06<00:00, 11.49it/s]\n"
     ]
    },
    {
     "name": "stdout",
     "output_type": "stream",
     "text": [
      "{'val_loss': 1.435437409101792, 'val_accuracy': 0.5771732702542874, 'precision': 0.6321352656724696, 'recall': 0.5771732702542874, 'f1-score': 0.5899290804145887, 'macro_f1-score': 0.3412342797496945, 'balanced_accuracy': 0.4045548854560011, 'mcc': 0.45689528841175964, 'train_loss': 1.3276537213077997}\n",
      "Epoch 3/20\n"
     ]
    },
    {
     "name": "stderr",
     "output_type": "stream",
     "text": [
      "100%|██████████| 761/761 [01:06<00:00, 11.51it/s]\n"
     ]
    },
    {
     "name": "stdout",
     "output_type": "stream",
     "text": [
      "{'val_loss': 1.4271942005967193, 'val_accuracy': 0.612655233589592, 'precision': 0.6572120765499894, 'recall': 0.612655233589592, 'f1-score': 0.6104055048125012, 'macro_f1-score': 0.3716366474110475, 'balanced_accuracy': 0.42656028113845806, 'mcc': 0.5026023815942667, 'train_loss': 0.7932890966808749}\n",
      "Epoch 4/20\n"
     ]
    },
    {
     "name": "stderr",
     "output_type": "stream",
     "text": [
      "100%|██████████| 761/761 [01:06<00:00, 11.49it/s]\n"
     ]
    },
    {
     "name": "stdout",
     "output_type": "stream",
     "text": [
      "{'val_loss': 1.5226136644212704, 'val_accuracy': 0.6221170904790065, 'precision': 0.6704983269256674, 'recall': 0.6221170904790065, 'f1-score': 0.6219146687531197, 'macro_f1-score': 0.39156730698445164, 'balanced_accuracy': 0.44693510037527845, 'mcc': 0.5216734652603994, 'train_loss': 0.5605091492837582}\n",
      "Epoch 5/20\n"
     ]
    },
    {
     "name": "stderr",
     "output_type": "stream",
     "text": [
      "100%|██████████| 761/761 [01:06<00:00, 11.50it/s]\n"
     ]
    },
    {
     "name": "stdout",
     "output_type": "stream",
     "text": [
      "{'val_loss': 1.4799688292561837, 'val_accuracy': 0.6298048492016558, 'precision': 0.673277161580824, 'recall': 0.6298048492016558, 'f1-score': 0.6340163007450548, 'macro_f1-score': 0.39778038650134, 'balanced_accuracy': 0.43952219011424454, 'mcc': 0.5305428300859417, 'train_loss': 0.46707083528393906}\n",
      "Epoch 6/20\n"
     ]
    },
    {
     "name": "stderr",
     "output_type": "stream",
     "text": [
      "100%|██████████| 761/761 [01:06<00:00, 11.49it/s]\n"
     ]
    },
    {
     "name": "stdout",
     "output_type": "stream",
     "text": [
      "{'val_loss': 1.5416648955839984, 'val_accuracy': 0.6321703134240094, 'precision': 0.6684884188024319, 'recall': 0.6321703134240094, 'f1-score': 0.6364888919265387, 'macro_f1-score': 0.3971015866414616, 'balanced_accuracy': 0.4486514398982312, 'mcc': 0.5298081675708065, 'train_loss': 0.4109488385882468}\n",
      "Epoch 7/20\n"
     ]
    },
    {
     "name": "stderr",
     "output_type": "stream",
     "text": [
      "100%|██████████| 761/761 [01:06<00:00, 11.50it/s]\n"
     ]
    },
    {
     "name": "stdout",
     "output_type": "stream",
     "text": [
      "{'val_loss': 1.5536739755913895, 'val_accuracy': 0.6552335895919574, 'precision': 0.6609073672006801, 'recall': 0.6552335895919574, 'f1-score': 0.6410897418863429, 'macro_f1-score': 0.41466278684459057, 'balanced_accuracy': 0.4359541032815242, 'mcc': 0.5443865836214099, 'train_loss': 0.34440407886337515}\n",
      "Epoch 8/20\n"
     ]
    },
    {
     "name": "stderr",
     "output_type": "stream",
     "text": [
      "100%|██████████| 761/761 [01:06<00:00, 11.51it/s]\n"
     ]
    },
    {
     "name": "stdout",
     "output_type": "stream",
     "text": [
      "{'val_loss': 1.6204247393135756, 'val_accuracy': 0.6499112950916618, 'precision': 0.6841636891684391, 'recall': 0.6499112950916618, 'f1-score': 0.65147476588786, 'macro_f1-score': 0.4170579484452733, 'balanced_accuracy': 0.46546068730418333, 'mcc': 0.552152249164949, 'train_loss': 0.31130196947638683}\n",
      "Epoch 9/20\n"
     ]
    },
    {
     "name": "stderr",
     "output_type": "stream",
     "text": [
      "100%|██████████| 761/761 [01:06<00:00, 11.49it/s]\n"
     ]
    },
    {
     "name": "stdout",
     "output_type": "stream",
     "text": [
      "{'val_loss': 1.7022867762255218, 'val_accuracy': 0.6463630987581312, 'precision': 0.6662832630462697, 'recall': 0.6463630987581312, 'f1-score': 0.6399934623868788, 'macro_f1-score': 0.39514591672358307, 'balanced_accuracy': 0.4105666877381327, 'mcc': 0.5354337032278574, 'train_loss': 0.30034519683596594}\n",
      "Epoch 10/20\n"
     ]
    },
    {
     "name": "stderr",
     "output_type": "stream",
     "text": [
      "100%|██████████| 761/761 [01:06<00:00, 11.51it/s]\n"
     ]
    },
    {
     "name": "stdout",
     "output_type": "stream",
     "text": [
      "{'val_loss': 1.744013714340498, 'val_accuracy': 0.625665286812537, 'precision': 0.66960416624334, 'recall': 0.625665286812537, 'f1-score': 0.6280332682043418, 'macro_f1-score': 0.4020862563149768, 'balanced_accuracy': 0.41963495160216596, 'mcc': 0.5310754893220777, 'train_loss': 0.2723150445398007}\n",
      "Epoch 11/20\n"
     ]
    },
    {
     "name": "stderr",
     "output_type": "stream",
     "text": [
      "100%|██████████| 761/761 [01:06<00:00, 11.49it/s]\n"
     ]
    },
    {
     "name": "stdout",
     "output_type": "stream",
     "text": [
      "{'val_loss': 1.6678451088801869, 'val_accuracy': 0.6629213483146067, 'precision': 0.6774018811069157, 'recall': 0.6629213483146067, 'f1-score': 0.6573833882435177, 'macro_f1-score': 0.43539412552209666, 'balanced_accuracy': 0.4740138023736226, 'mcc': 0.5614401300592861, 'train_loss': 0.2893282353496191}\n",
      "Epoch 12/20\n"
     ]
    },
    {
     "name": "stderr",
     "output_type": "stream",
     "text": [
      "100%|██████████| 761/761 [01:06<00:00, 11.51it/s]\n"
     ]
    },
    {
     "name": "stdout",
     "output_type": "stream",
     "text": [
      "{'val_loss': 1.7473772099276759, 'val_accuracy': 0.6374926079243052, 'precision': 0.6794758205383575, 'recall': 0.6374926079243052, 'f1-score': 0.6471094905411806, 'macro_f1-score': 0.41887728109104105, 'balanced_accuracy': 0.4643015545642602, 'mcc': 0.5400435953597295, 'train_loss': 0.24281023140248945}\n",
      "Epoch 13/20\n"
     ]
    },
    {
     "name": "stderr",
     "output_type": "stream",
     "text": [
      "100%|██████████| 761/761 [01:06<00:00, 11.51it/s]\n"
     ]
    },
    {
     "name": "stdout",
     "output_type": "stream",
     "text": [
      "{'val_loss': 1.7614472109191823, 'val_accuracy': 0.6664695446481372, 'precision': 0.660793667321076, 'recall': 0.6664695446481372, 'f1-score': 0.6494315392446552, 'macro_f1-score': 0.38802396239987985, 'balanced_accuracy': 0.4073344672745132, 'mcc': 0.5520438532318676, 'train_loss': 0.25681833879264626}\n",
      "Epoch 14/20\n"
     ]
    },
    {
     "name": "stderr",
     "output_type": "stream",
     "text": [
      "100%|██████████| 761/761 [01:06<00:00, 11.50it/s]\n"
     ]
    },
    {
     "name": "stdout",
     "output_type": "stream",
     "text": [
      "{'val_loss': 1.8536705907504514, 'val_accuracy': 0.6469544648137197, 'precision': 0.6712973870564284, 'recall': 0.6469544648137197, 'f1-score': 0.6481436986087992, 'macro_f1-score': 0.3875775170465943, 'balanced_accuracy': 0.45109694254691335, 'mcc': 0.5497376866845552, 'train_loss': 0.20790941242383165}\n",
      "Early stopping.\n",
      "\n",
      "[Fold 5]\n",
      "Label distribution after resampling:\n",
      "  label 0: 2000\n",
      "  label 1: 200\n",
      "  label 2: 200\n",
      "  label 3: 200\n",
      "  label 4: 205\n",
      "  label 5: 200\n",
      "  label 6: 200\n",
      "  label 7: 200\n",
      "  label 8: 200\n",
      "  label 9: 200\n",
      "  label 10: 200\n",
      "  label 11: 200\n",
      "  label 12: 200\n",
      "  label 13: 200\n",
      "  label 14: 200\n",
      "  label 15: 200\n",
      "  label 16: 200\n",
      "  label 17: 231\n",
      "  label 18: 200\n",
      "  label 19: 200\n",
      "  label 20: 200\n",
      "  label 21: 200\n",
      "  label 22: 200\n",
      "  label 23: 200\n",
      "  label 24: 200\n",
      "  label 25: 200\n",
      "  label 26: 200\n",
      "  label 27: 200\n",
      "  label 28: 200\n",
      "  label 29: 200\n",
      "  label 30: 200\n",
      "  label 31: 200\n",
      "  label 32: 200\n",
      "  label 33: 200\n",
      "  label 34: 200\n",
      "  label 35: 200\n",
      "  label 36: 200\n",
      "  label 37: 200\n",
      "  label 38: 200\n",
      "  label 39: 200\n",
      "  label 40: 200\n",
      "  label 41: 200\n",
      "  label 42: 200\n",
      "  label 43: 200\n",
      "  label 44: 200\n",
      "  label 45: 200\n",
      "  label 46: 200\n",
      "  label 47: 529\n",
      "  label 48: 202\n",
      "  label 49: 200\n",
      "model is roberta-base cnn1filter234drop5\n"
     ]
    },
    {
     "name": "stderr",
     "output_type": "stream",
     "text": [
      "Some weights of RobertaModel were not initialized from the model checkpoint at roberta-base and are newly initialized: ['pooler.dense.bias', 'pooler.dense.weight']\n",
      "You should probably TRAIN this model on a down-stream task to be able to use it for predictions and inference.\n"
     ]
    },
    {
     "name": "stdout",
     "output_type": "stream",
     "text": [
      "Epoch 1/20\n"
     ]
    },
    {
     "name": "stderr",
     "output_type": "stream",
     "text": [
      "100%|██████████| 761/761 [01:06<00:00, 11.51it/s]\n"
     ]
    },
    {
     "name": "stdout",
     "output_type": "stream",
     "text": [
      "{'val_loss': 1.7067996010465443, 'val_accuracy': 0.5431952662721894, 'precision': 0.5947481313296176, 'recall': 0.5431952662721894, 'f1-score': 0.544616967570644, 'macro_f1-score': 0.2302575506785287, 'balanced_accuracy': 0.3075077548883271, 'mcc': 0.4198620893444448, 'train_loss': 2.5378151944839686}\n",
      "Epoch 2/20\n"
     ]
    },
    {
     "name": "stderr",
     "output_type": "stream",
     "text": [
      "100%|██████████| 761/761 [01:06<00:00, 11.48it/s]\n"
     ]
    },
    {
     "name": "stdout",
     "output_type": "stream",
     "text": [
      "{'val_loss': 1.4173525917642522, 'val_accuracy': 0.6100591715976331, 'precision': 0.6166822127672624, 'recall': 0.6100591715976331, 'f1-score': 0.5975544311808696, 'macro_f1-score': 0.3188928244424587, 'balanced_accuracy': 0.3514701272600766, 'mcc': 0.49255979382626114, 'train_loss': 1.1530964357702553}\n",
      "Epoch 3/20\n"
     ]
    },
    {
     "name": "stderr",
     "output_type": "stream",
     "text": [
      "100%|██████████| 761/761 [01:06<00:00, 11.50it/s]\n"
     ]
    },
    {
     "name": "stdout",
     "output_type": "stream",
     "text": [
      "{'val_loss': 1.6019007560779464, 'val_accuracy': 0.5857988165680473, 'precision': 0.6569315130735672, 'recall': 0.5857988165680473, 'f1-score': 0.6000816641302872, 'macro_f1-score': 0.3416789979618059, 'balanced_accuracy': 0.39262967583584546, 'mcc': 0.4883703763299255, 'train_loss': 0.7365955706641725}\n",
      "Epoch 4/20\n"
     ]
    },
    {
     "name": "stderr",
     "output_type": "stream",
     "text": [
      "100%|██████████| 761/761 [01:06<00:00, 11.49it/s]\n"
     ]
    },
    {
     "name": "stdout",
     "output_type": "stream",
     "text": [
      "{'val_loss': 1.421260211405889, 'val_accuracy': 0.6597633136094675, 'precision': 0.6510826555417014, 'recall': 0.6597633136094675, 'f1-score': 0.6412952051905546, 'macro_f1-score': 0.3523038659294272, 'balanced_accuracy': 0.35398519292109676, 'mcc': 0.5460184925211887, 'train_loss': 0.5437579790960003}\n",
      "Epoch 5/20\n"
     ]
    },
    {
     "name": "stderr",
     "output_type": "stream",
     "text": [
      "100%|██████████| 761/761 [01:06<00:00, 11.50it/s]\n"
     ]
    },
    {
     "name": "stdout",
     "output_type": "stream",
     "text": [
      "{'val_loss': 1.498402622510802, 'val_accuracy': 0.6390532544378699, 'precision': 0.6557867437057336, 'recall': 0.6390532544378699, 'f1-score': 0.6331972873204433, 'macro_f1-score': 0.3678882483988072, 'balanced_accuracy': 0.3677658348607122, 'mcc': 0.5265001034312256, 'train_loss': 0.46149015552933365}\n",
      "Epoch 6/20\n"
     ]
    },
    {
     "name": "stderr",
     "output_type": "stream",
     "text": [
      "100%|██████████| 761/761 [01:06<00:00, 11.51it/s]\n"
     ]
    },
    {
     "name": "stdout",
     "output_type": "stream",
     "text": [
      "{'val_loss': 1.5432510006259073, 'val_accuracy': 0.6568047337278107, 'precision': 0.6804872470276846, 'recall': 0.6568047337278107, 'f1-score': 0.6555683047613553, 'macro_f1-score': 0.3770677472538619, 'balanced_accuracy': 0.387844365261182, 'mcc': 0.5536156763654185, 'train_loss': 0.3896602409990913}\n",
      "Epoch 7/20\n"
     ]
    },
    {
     "name": "stderr",
     "output_type": "stream",
     "text": [
      "100%|██████████| 761/761 [01:06<00:00, 11.49it/s]\n"
     ]
    },
    {
     "name": "stdout",
     "output_type": "stream",
     "text": [
      "{'val_loss': 1.6512900389871508, 'val_accuracy': 0.6242603550295858, 'precision': 0.6603796346991528, 'recall': 0.6242603550295858, 'f1-score': 0.6273712426742823, 'macro_f1-score': 0.35812425964746386, 'balanced_accuracy': 0.3890858453811586, 'mcc': 0.5282292890490999, 'train_loss': 0.34730087793046677}\n",
      "Epoch 8/20\n"
     ]
    },
    {
     "name": "stderr",
     "output_type": "stream",
     "text": [
      "100%|██████████| 761/761 [01:06<00:00, 11.51it/s]\n"
     ]
    },
    {
     "name": "stdout",
     "output_type": "stream",
     "text": [
      "{'val_loss': 1.6770585625309427, 'val_accuracy': 0.6366863905325444, 'precision': 0.6711620279320862, 'recall': 0.6366863905325444, 'f1-score': 0.6464118150768126, 'macro_f1-score': 0.3754563718534662, 'balanced_accuracy': 0.402825851100914, 'mcc': 0.5409503211451893, 'train_loss': 0.3180120075011379}\n",
      "Epoch 9/20\n"
     ]
    },
    {
     "name": "stderr",
     "output_type": "stream",
     "text": [
      "100%|██████████| 761/761 [01:06<00:00, 11.48it/s]\n"
     ]
    },
    {
     "name": "stdout",
     "output_type": "stream",
     "text": [
      "{'val_loss': 1.7119493433186468, 'val_accuracy': 0.6349112426035503, 'precision': 0.6778093208302112, 'recall': 0.6349112426035503, 'f1-score': 0.6440197068342494, 'macro_f1-score': 0.3956935979729492, 'balanced_accuracy': 0.42195446914503393, 'mcc': 0.5404116629709653, 'train_loss': 0.30268607381241747}\n",
      "Epoch 10/20\n"
     ]
    },
    {
     "name": "stderr",
     "output_type": "stream",
     "text": [
      "100%|██████████| 761/761 [01:06<00:00, 11.50it/s]\n"
     ]
    },
    {
     "name": "stdout",
     "output_type": "stream",
     "text": [
      "{'val_loss': 1.8018515916927806, 'val_accuracy': 0.6325443786982249, 'precision': 0.6840187264817712, 'recall': 0.6325443786982249, 'f1-score': 0.6378780268215721, 'macro_f1-score': 0.35409993018396635, 'balanced_accuracy': 0.3830153471117301, 'mcc': 0.5348166168154179, 'train_loss': 0.28857026420565474}\n",
      "Epoch 11/20\n"
     ]
    },
    {
     "name": "stderr",
     "output_type": "stream",
     "text": [
      "100%|██████████| 761/761 [01:06<00:00, 11.51it/s]\n"
     ]
    },
    {
     "name": "stdout",
     "output_type": "stream",
     "text": [
      "{'val_loss': 1.7954641719752888, 'val_accuracy': 0.636094674556213, 'precision': 0.6602114734205289, 'recall': 0.636094674556213, 'f1-score': 0.6392769103608273, 'macro_f1-score': 0.37880355672929755, 'balanced_accuracy': 0.3999009703925022, 'mcc': 0.5338826271576927, 'train_loss': 0.2638817239227202}\n",
      "Epoch 12/20\n"
     ]
    },
    {
     "name": "stderr",
     "output_type": "stream",
     "text": [
      "100%|██████████| 761/761 [01:06<00:00, 11.49it/s]\n"
     ]
    },
    {
     "name": "stdout",
     "output_type": "stream",
     "text": [
      "{'val_loss': 1.687104249619088, 'val_accuracy': 0.6502958579881657, 'precision': 0.6758411749583945, 'recall': 0.6502958579881657, 'f1-score': 0.6519364972633449, 'macro_f1-score': 0.39236255598979897, 'balanced_accuracy': 0.39981025985191154, 'mcc': 0.5517375178666946, 'train_loss': 0.2869188820780469}\n",
      "Early stopping.\n",
      "\n",
      " === roberta-base + cnn1filter234drop5 + ros Final 5-fold Cross-Validation Results ===\n",
      "Total time: 3493 seconds\n",
      "Total time: 0 hrs 58 mins 13 secs\n",
      "val_loss: 1.6079\n",
      "val_accuracy: 0.6373\n",
      "precision: 0.6671\n",
      "recall: 0.6373\n",
      "f1-score: 0.6402\n",
      "macro_f1-score: 0.4035\n",
      "balanced_accuracy: 0.4377\n",
      "mcc: 0.5370\n",
      "train_loss: 0.4224\n",
      "▶ Running: roberta-base + cnn1filter345drop3 + ros\n",
      "tokenizer is roberta-base\n",
      "Using device: cuda\n",
      "CUDA Available: True\n",
      "CUDA Device: NVIDIA GeForce RTX 5070 Ti\n",
      "Current GPU Memory Allocated: 0.02 GB\n",
      "Current GPU Memory Cached: 3.84 GB\n",
      "\n",
      "[Fold 1]\n",
      "Label distribution after resampling:\n",
      "  label 0: 2000\n",
      "  label 1: 200\n",
      "  label 2: 200\n",
      "  label 3: 200\n",
      "  label 4: 205\n",
      "  label 5: 200\n",
      "  label 6: 200\n",
      "  label 7: 200\n",
      "  label 8: 200\n",
      "  label 9: 200\n",
      "  label 10: 200\n",
      "  label 11: 200\n",
      "  label 12: 200\n",
      "  label 13: 200\n",
      "  label 14: 200\n",
      "  label 15: 200\n",
      "  label 16: 200\n",
      "  label 17: 231\n",
      "  label 18: 200\n",
      "  label 19: 200\n",
      "  label 20: 200\n",
      "  label 21: 200\n",
      "  label 22: 200\n",
      "  label 23: 200\n",
      "  label 24: 200\n",
      "  label 25: 200\n",
      "  label 26: 200\n",
      "  label 27: 200\n",
      "  label 28: 200\n",
      "  label 29: 200\n",
      "  label 30: 200\n",
      "  label 31: 200\n",
      "  label 32: 200\n",
      "  label 33: 200\n",
      "  label 34: 200\n",
      "  label 35: 200\n",
      "  label 36: 200\n",
      "  label 37: 200\n",
      "  label 38: 200\n",
      "  label 39: 200\n",
      "  label 40: 200\n",
      "  label 41: 200\n",
      "  label 42: 200\n",
      "  label 43: 200\n",
      "  label 44: 200\n",
      "  label 45: 200\n",
      "  label 46: 200\n",
      "  label 47: 529\n",
      "  label 48: 202\n",
      "  label 49: 200\n",
      "model is roberta-base cnn1filter345drop3\n"
     ]
    },
    {
     "name": "stderr",
     "output_type": "stream",
     "text": [
      "Some weights of RobertaModel were not initialized from the model checkpoint at roberta-base and are newly initialized: ['pooler.dense.bias', 'pooler.dense.weight']\n",
      "You should probably TRAIN this model on a down-stream task to be able to use it for predictions and inference.\n"
     ]
    },
    {
     "name": "stdout",
     "output_type": "stream",
     "text": [
      "Epoch 1/20\n"
     ]
    },
    {
     "name": "stderr",
     "output_type": "stream",
     "text": [
      "100%|██████████| 761/761 [01:06<00:00, 11.45it/s]\n"
     ]
    },
    {
     "name": "stdout",
     "output_type": "stream",
     "text": [
      "{'val_loss': 1.622629683535054, 'val_accuracy': 0.540508574807806, 'precision': 0.6318428524764931, 'recall': 0.540508574807806, 'f1-score': 0.5585342221038124, 'macro_f1-score': 0.32784048502605595, 'balanced_accuracy': 0.40529679027302534, 'mcc': 0.4263303023758471, 'train_loss': 2.197426422079352}\n",
      "Epoch 2/20\n"
     ]
    },
    {
     "name": "stderr",
     "output_type": "stream",
     "text": [
      "100%|██████████| 761/761 [01:06<00:00, 11.44it/s]\n"
     ]
    },
    {
     "name": "stdout",
     "output_type": "stream",
     "text": [
      "{'val_loss': 1.4381212243493997, 'val_accuracy': 0.6292134831460674, 'precision': 0.6659599264499867, 'recall': 0.6292134831460674, 'f1-score': 0.6259729091663762, 'macro_f1-score': 0.3770536200888781, 'balanced_accuracy': 0.42224056725007175, 'mcc': 0.5275681721026957, 'train_loss': 0.9248417879842741}\n",
      "Epoch 3/20\n"
     ]
    },
    {
     "name": "stderr",
     "output_type": "stream",
     "text": [
      "100%|██████████| 761/761 [01:06<00:00, 11.45it/s]\n"
     ]
    },
    {
     "name": "stdout",
     "output_type": "stream",
     "text": [
      "{'val_loss': 1.400436523669171, 'val_accuracy': 0.6564163217031342, 'precision': 0.6553547133726321, 'recall': 0.6564163217031342, 'f1-score': 0.6373417288268242, 'macro_f1-score': 0.381875041861553, 'balanced_accuracy': 0.3831155470226964, 'mcc': 0.5408651344679336, 'train_loss': 0.5881906978531438}\n",
      "Epoch 4/20\n"
     ]
    },
    {
     "name": "stderr",
     "output_type": "stream",
     "text": [
      "100%|██████████| 761/761 [01:06<00:00, 11.45it/s]\n"
     ]
    },
    {
     "name": "stdout",
     "output_type": "stream",
     "text": [
      "{'val_loss': 1.5648296975864555, 'val_accuracy': 0.6049674748669427, 'precision': 0.6867623815371471, 'recall': 0.6049674748669427, 'f1-score': 0.6290580813040735, 'macro_f1-score': 0.3881735154418014, 'balanced_accuracy': 0.4205324907666948, 'mcc': 0.5119819655152569, 'train_loss': 0.44407569329191915}\n",
      "Epoch 5/20\n"
     ]
    },
    {
     "name": "stderr",
     "output_type": "stream",
     "text": [
      "100%|██████████| 761/761 [01:06<00:00, 11.45it/s]\n"
     ]
    },
    {
     "name": "stdout",
     "output_type": "stream",
     "text": [
      "{'val_loss': 1.574807752415819, 'val_accuracy': 0.6250739207569486, 'precision': 0.6589623166137313, 'recall': 0.6250739207569486, 'f1-score': 0.6332612481330896, 'macro_f1-score': 0.388421066229353, 'balanced_accuracy': 0.4168340212910154, 'mcc': 0.5290147923148646, 'train_loss': 0.37109941200741153}\n",
      "Epoch 6/20\n"
     ]
    },
    {
     "name": "stderr",
     "output_type": "stream",
     "text": [
      "100%|██████████| 761/761 [01:06<00:00, 11.45it/s]\n"
     ]
    },
    {
     "name": "stdout",
     "output_type": "stream",
     "text": [
      "{'val_loss': 1.6677477809618104, 'val_accuracy': 0.6238911886457718, 'precision': 0.6664332316727763, 'recall': 0.6238911886457718, 'f1-score': 0.6338753023375395, 'macro_f1-score': 0.3775737677986954, 'balanced_accuracy': 0.41235924117091505, 'mcc': 0.5317352732162763, 'train_loss': 0.33032846299542235}\n",
      "Epoch 7/20\n"
     ]
    },
    {
     "name": "stderr",
     "output_type": "stream",
     "text": [
      "100%|██████████| 761/761 [01:06<00:00, 11.44it/s]\n"
     ]
    },
    {
     "name": "stdout",
     "output_type": "stream",
     "text": [
      "{'val_loss': 1.6900897485748776, 'val_accuracy': 0.6540508574807806, 'precision': 0.6607977832370976, 'recall': 0.6540508574807806, 'f1-score': 0.6424361013356032, 'macro_f1-score': 0.37837100441168675, 'balanced_accuracy': 0.37174267468641115, 'mcc': 0.539396101878425, 'train_loss': 0.3057000610760796}\n",
      "Epoch 8/20\n"
     ]
    },
    {
     "name": "stderr",
     "output_type": "stream",
     "text": [
      "100%|██████████| 761/761 [01:06<00:00, 11.46it/s]\n"
     ]
    },
    {
     "name": "stdout",
     "output_type": "stream",
     "text": [
      "{'val_loss': 1.7782186008286927, 'val_accuracy': 0.6303962152572442, 'precision': 0.6570005923306385, 'recall': 0.6303962152572442, 'f1-score': 0.6305267557815816, 'macro_f1-score': 0.40351142282660285, 'balanced_accuracy': 0.4280447589896565, 'mcc': 0.5257741631515411, 'train_loss': 0.27954402041490556}\n",
      "Epoch 9/20\n"
     ]
    },
    {
     "name": "stderr",
     "output_type": "stream",
     "text": [
      "100%|██████████| 761/761 [01:06<00:00, 11.45it/s]\n"
     ]
    },
    {
     "name": "stdout",
     "output_type": "stream",
     "text": [
      "{'val_loss': 1.7005175690887109, 'val_accuracy': 0.6599645180366647, 'precision': 0.6618802512677653, 'recall': 0.6599645180366647, 'f1-score': 0.6496898590593785, 'macro_f1-score': 0.39952866905708867, 'balanced_accuracy': 0.40291432787281345, 'mcc': 0.5513031917298391, 'train_loss': 0.2663980998290377}\n",
      "Epoch 10/20\n"
     ]
    },
    {
     "name": "stderr",
     "output_type": "stream",
     "text": [
      "100%|██████████| 761/761 [01:06<00:00, 11.45it/s]\n"
     ]
    },
    {
     "name": "stdout",
     "output_type": "stream",
     "text": [
      "{'val_loss': 1.7360928220287808, 'val_accuracy': 0.6534594914251922, 'precision': 0.6623061381028769, 'recall': 0.6534594914251922, 'f1-score': 0.6474382619177944, 'macro_f1-score': 0.38671815190797804, 'balanced_accuracy': 0.39281426059007607, 'mcc': 0.5498613546493469, 'train_loss': 0.2671908494957041}\n",
      "Epoch 11/20\n"
     ]
    },
    {
     "name": "stderr",
     "output_type": "stream",
     "text": [
      "100%|██████████| 761/761 [01:06<00:00, 11.45it/s]\n"
     ]
    },
    {
     "name": "stdout",
     "output_type": "stream",
     "text": [
      "{'val_loss': 1.982071261923268, 'val_accuracy': 0.6309875813128326, 'precision': 0.652135074368874, 'recall': 0.6309875813128326, 'f1-score': 0.6195986071294065, 'macro_f1-score': 0.36864469975010583, 'balanced_accuracy': 0.37496777471578185, 'mcc': 0.5084263440985715, 'train_loss': 0.2565252890503805}\n",
      "Early stopping.\n",
      "\n",
      "[Fold 2]\n",
      "Label distribution after resampling:\n",
      "  label 0: 2000\n",
      "  label 1: 200\n",
      "  label 2: 200\n",
      "  label 3: 200\n",
      "  label 4: 206\n",
      "  label 5: 200\n",
      "  label 6: 200\n",
      "  label 7: 200\n",
      "  label 8: 200\n",
      "  label 9: 200\n",
      "  label 10: 200\n",
      "  label 11: 200\n",
      "  label 12: 200\n",
      "  label 13: 200\n",
      "  label 14: 200\n",
      "  label 15: 200\n",
      "  label 16: 200\n",
      "  label 17: 231\n",
      "  label 18: 200\n",
      "  label 19: 200\n",
      "  label 20: 200\n",
      "  label 21: 200\n",
      "  label 22: 200\n",
      "  label 23: 200\n",
      "  label 24: 200\n",
      "  label 25: 200\n",
      "  label 26: 200\n",
      "  label 27: 200\n",
      "  label 28: 200\n",
      "  label 29: 200\n",
      "  label 30: 200\n",
      "  label 31: 200\n",
      "  label 32: 200\n",
      "  label 33: 200\n",
      "  label 34: 200\n",
      "  label 35: 200\n",
      "  label 36: 200\n",
      "  label 37: 200\n",
      "  label 38: 200\n",
      "  label 39: 200\n",
      "  label 40: 200\n",
      "  label 41: 200\n",
      "  label 42: 200\n",
      "  label 43: 200\n",
      "  label 44: 200\n",
      "  label 45: 200\n",
      "  label 46: 200\n",
      "  label 47: 528\n",
      "  label 48: 202\n",
      "  label 49: 200\n",
      "model is roberta-base cnn1filter345drop3\n"
     ]
    },
    {
     "name": "stderr",
     "output_type": "stream",
     "text": [
      "Some weights of RobertaModel were not initialized from the model checkpoint at roberta-base and are newly initialized: ['pooler.dense.bias', 'pooler.dense.weight']\n",
      "You should probably TRAIN this model on a down-stream task to be able to use it for predictions and inference.\n"
     ]
    },
    {
     "name": "stdout",
     "output_type": "stream",
     "text": [
      "Epoch 1/20\n"
     ]
    },
    {
     "name": "stderr",
     "output_type": "stream",
     "text": [
      "100%|██████████| 761/761 [01:06<00:00, 11.45it/s]\n"
     ]
    },
    {
     "name": "stdout",
     "output_type": "stream",
     "text": [
      "{'val_loss': 1.4840303386719722, 'val_accuracy': 0.5759905381431106, 'precision': 0.6212822034449758, 'recall': 0.5759905381431106, 'f1-score': 0.5813543274472025, 'macro_f1-score': 0.3323903249480616, 'balanced_accuracy': 0.41065721443669345, 'mcc': 0.4626309914113957, 'train_loss': 2.1626878249974193}\n",
      "Epoch 2/20\n"
     ]
    },
    {
     "name": "stderr",
     "output_type": "stream",
     "text": [
      "100%|██████████| 761/761 [01:06<00:00, 11.46it/s]\n"
     ]
    },
    {
     "name": "stdout",
     "output_type": "stream",
     "text": [
      "{'val_loss': 1.420618327158802, 'val_accuracy': 0.6374926079243052, 'precision': 0.6580558183032206, 'recall': 0.6374926079243052, 'f1-score': 0.6246489632579068, 'macro_f1-score': 0.3691635138619029, 'balanced_accuracy': 0.40099369509444394, 'mcc': 0.5195347333967655, 'train_loss': 0.8483352022889252}\n",
      "Epoch 3/20\n"
     ]
    },
    {
     "name": "stderr",
     "output_type": "stream",
     "text": [
      "100%|██████████| 761/761 [01:06<00:00, 11.45it/s]\n"
     ]
    },
    {
     "name": "stdout",
     "output_type": "stream",
     "text": [
      "{'val_loss': 1.5281747933828607, 'val_accuracy': 0.618568894145476, 'precision': 0.6668139432881126, 'recall': 0.618568894145476, 'f1-score': 0.6281797605651784, 'macro_f1-score': 0.3916782687765369, 'balanced_accuracy': 0.43544136254144106, 'mcc': 0.5191834850314264, 'train_loss': 0.5335342042667011}\n",
      "Epoch 4/20\n"
     ]
    },
    {
     "name": "stderr",
     "output_type": "stream",
     "text": [
      "100%|██████████| 761/761 [01:06<00:00, 11.46it/s]\n"
     ]
    },
    {
     "name": "stdout",
     "output_type": "stream",
     "text": [
      "{'val_loss': 1.47312748966352, 'val_accuracy': 0.6274393849793022, 'precision': 0.664915553894094, 'recall': 0.6274393849793022, 'f1-score': 0.6349342590570937, 'macro_f1-score': 0.38837669121286794, 'balanced_accuracy': 0.4263218279906561, 'mcc': 0.5267331191309444, 'train_loss': 0.40971452256960794}\n",
      "Epoch 5/20\n"
     ]
    },
    {
     "name": "stderr",
     "output_type": "stream",
     "text": [
      "100%|██████████| 761/761 [01:06<00:00, 11.45it/s]\n"
     ]
    },
    {
     "name": "stdout",
     "output_type": "stream",
     "text": [
      "{'val_loss': 1.5691054806394398, 'val_accuracy': 0.6422235363690124, 'precision': 0.664698936757653, 'recall': 0.6422235363690124, 'f1-score': 0.6392703061459856, 'macro_f1-score': 0.3884110199117752, 'balanced_accuracy': 0.4147337047220521, 'mcc': 0.5379588818411088, 'train_loss': 0.3582829474330771}\n",
      "Epoch 6/20\n"
     ]
    },
    {
     "name": "stderr",
     "output_type": "stream",
     "text": [
      "100%|██████████| 761/761 [01:06<00:00, 11.45it/s]\n"
     ]
    },
    {
     "name": "stdout",
     "output_type": "stream",
     "text": [
      "{'val_loss': 1.5486056754049264, 'val_accuracy': 0.6481371969248965, 'precision': 0.6718884893127669, 'recall': 0.6481371969248965, 'f1-score': 0.6469524282266941, 'macro_f1-score': 0.4055276799458723, 'balanced_accuracy': 0.4397165402745384, 'mcc': 0.5500952316894775, 'train_loss': 0.3107955755645094}\n",
      "Epoch 7/20\n"
     ]
    },
    {
     "name": "stderr",
     "output_type": "stream",
     "text": [
      "100%|██████████| 761/761 [01:06<00:00, 11.46it/s]\n"
     ]
    },
    {
     "name": "stdout",
     "output_type": "stream",
     "text": [
      "{'val_loss': 1.612052045481385, 'val_accuracy': 0.6463630987581312, 'precision': 0.6617178918087031, 'recall': 0.6463630987581312, 'f1-score': 0.6455961115741595, 'macro_f1-score': 0.4066960653212919, 'balanced_accuracy': 0.4314843725985321, 'mcc': 0.539075171313797, 'train_loss': 0.27922894664747583}\n",
      "Epoch 8/20\n"
     ]
    },
    {
     "name": "stderr",
     "output_type": "stream",
     "text": [
      "100%|██████████| 761/761 [01:06<00:00, 11.44it/s]\n"
     ]
    },
    {
     "name": "stdout",
     "output_type": "stream",
     "text": [
      "{'val_loss': 1.7521656875340443, 'val_accuracy': 0.6132465996451804, 'precision': 0.6520630600704993, 'recall': 0.6132465996451804, 'f1-score': 0.6199307056068104, 'macro_f1-score': 0.3949296382911058, 'balanced_accuracy': 0.45092050451133203, 'mcc': 0.5154360628674639, 'train_loss': 0.2721229260395747}\n",
      "Epoch 9/20\n"
     ]
    },
    {
     "name": "stderr",
     "output_type": "stream",
     "text": [
      "100%|██████████| 761/761 [01:06<00:00, 11.46it/s]\n"
     ]
    },
    {
     "name": "stdout",
     "output_type": "stream",
     "text": [
      "{'val_loss': 1.743725746870041, 'val_accuracy': 0.641632170313424, 'precision': 0.6833851372100253, 'recall': 0.641632170313424, 'f1-score': 0.6456886741986155, 'macro_f1-score': 0.39648361716428016, 'balanced_accuracy': 0.4233219042418516, 'mcc': 0.5393737473980931, 'train_loss': 0.26642737923888793}\n",
      "Epoch 10/20\n"
     ]
    },
    {
     "name": "stderr",
     "output_type": "stream",
     "text": [
      "100%|██████████| 761/761 [01:06<00:00, 11.44it/s]\n"
     ]
    },
    {
     "name": "stdout",
     "output_type": "stream",
     "text": [
      "{'val_loss': 1.849187064845607, 'val_accuracy': 0.6321703134240094, 'precision': 0.657829040569829, 'recall': 0.6321703134240094, 'f1-score': 0.632285845990588, 'macro_f1-score': 0.389600234862733, 'balanced_accuracy': 0.4132497439932659, 'mcc': 0.5231671572799179, 'train_loss': 0.24795037626996197}\n",
      "Early stopping.\n",
      "\n",
      "[Fold 3]\n",
      "Label distribution after resampling:\n",
      "  label 0: 2000\n",
      "  label 1: 200\n",
      "  label 2: 200\n",
      "  label 3: 200\n",
      "  label 4: 206\n",
      "  label 5: 200\n",
      "  label 6: 200\n",
      "  label 7: 200\n",
      "  label 8: 200\n",
      "  label 9: 200\n",
      "  label 10: 200\n",
      "  label 11: 200\n",
      "  label 12: 200\n",
      "  label 13: 200\n",
      "  label 14: 200\n",
      "  label 15: 200\n",
      "  label 16: 200\n",
      "  label 17: 231\n",
      "  label 18: 200\n",
      "  label 19: 200\n",
      "  label 20: 200\n",
      "  label 21: 200\n",
      "  label 22: 200\n",
      "  label 23: 200\n",
      "  label 24: 200\n",
      "  label 25: 200\n",
      "  label 26: 200\n",
      "  label 27: 200\n",
      "  label 28: 200\n",
      "  label 29: 200\n",
      "  label 30: 200\n",
      "  label 31: 200\n",
      "  label 32: 200\n",
      "  label 33: 200\n",
      "  label 34: 200\n",
      "  label 35: 200\n",
      "  label 36: 200\n",
      "  label 37: 200\n",
      "  label 38: 200\n",
      "  label 39: 200\n",
      "  label 40: 200\n",
      "  label 41: 200\n",
      "  label 42: 200\n",
      "  label 43: 200\n",
      "  label 44: 200\n",
      "  label 45: 200\n",
      "  label 46: 200\n",
      "  label 47: 529\n",
      "  label 48: 201\n",
      "  label 49: 200\n",
      "model is roberta-base cnn1filter345drop3\n"
     ]
    },
    {
     "name": "stderr",
     "output_type": "stream",
     "text": [
      "Some weights of RobertaModel were not initialized from the model checkpoint at roberta-base and are newly initialized: ['pooler.dense.bias', 'pooler.dense.weight']\n",
      "You should probably TRAIN this model on a down-stream task to be able to use it for predictions and inference.\n"
     ]
    },
    {
     "name": "stdout",
     "output_type": "stream",
     "text": [
      "Epoch 1/20\n"
     ]
    },
    {
     "name": "stderr",
     "output_type": "stream",
     "text": [
      "100%|██████████| 761/761 [01:06<00:00, 11.45it/s]\n"
     ]
    },
    {
     "name": "stdout",
     "output_type": "stream",
     "text": [
      "{'val_loss': 1.5966937778131016, 'val_accuracy': 0.5416913069189828, 'precision': 0.5873345360092703, 'recall': 0.5416913069189828, 'f1-score': 0.5459412194809177, 'macro_f1-score': 0.2915162673768083, 'balanced_accuracy': 0.37853140180398026, 'mcc': 0.4227613827759448, 'train_loss': 2.125797171943604}\n",
      "Epoch 2/20\n"
     ]
    },
    {
     "name": "stderr",
     "output_type": "stream",
     "text": [
      "100%|██████████| 761/761 [01:06<00:00, 11.45it/s]\n"
     ]
    },
    {
     "name": "stdout",
     "output_type": "stream",
     "text": [
      "{'val_loss': 1.512098047530876, 'val_accuracy': 0.5854523950325251, 'precision': 0.6276201129407599, 'recall': 0.5854523950325251, 'f1-score': 0.5816675850995604, 'macro_f1-score': 0.33033647998728377, 'balanced_accuracy': 0.39499896388545197, 'mcc': 0.462546369744457, 'train_loss': 0.8980338683011654}\n",
      "Epoch 3/20\n"
     ]
    },
    {
     "name": "stderr",
     "output_type": "stream",
     "text": [
      "100%|██████████| 761/761 [01:06<00:00, 11.44it/s]\n"
     ]
    },
    {
     "name": "stdout",
     "output_type": "stream",
     "text": [
      "{'val_loss': 1.434112788652474, 'val_accuracy': 0.6191602602010644, 'precision': 0.6362025804744843, 'recall': 0.6191602602010644, 'f1-score': 0.6132186783802882, 'macro_f1-score': 0.3613666585084511, 'balanced_accuracy': 0.3744474662326692, 'mcc': 0.4969649245505049, 'train_loss': 0.573224837848924}\n",
      "Epoch 4/20\n"
     ]
    },
    {
     "name": "stderr",
     "output_type": "stream",
     "text": [
      "100%|██████████| 761/761 [01:06<00:00, 11.46it/s]\n"
     ]
    },
    {
     "name": "stdout",
     "output_type": "stream",
     "text": [
      "{'val_loss': 1.624237966987322, 'val_accuracy': 0.6002365464222353, 'precision': 0.6415870693174933, 'recall': 0.6002365464222353, 'f1-score': 0.6037380371050601, 'macro_f1-score': 0.35839974640672745, 'balanced_accuracy': 0.3965925088067285, 'mcc': 0.4923951880736345, 'train_loss': 0.43954516435715124}\n",
      "Epoch 5/20\n"
     ]
    },
    {
     "name": "stderr",
     "output_type": "stream",
     "text": [
      "100%|██████████| 761/761 [01:06<00:00, 11.44it/s]\n"
     ]
    },
    {
     "name": "stdout",
     "output_type": "stream",
     "text": [
      "{'val_loss': 1.602419008342725, 'val_accuracy': 0.6167947959787108, 'precision': 0.6442555134728594, 'recall': 0.6167947959787108, 'f1-score': 0.6119392062840474, 'macro_f1-score': 0.3616692250863406, 'balanced_accuracy': 0.3885120812129898, 'mcc': 0.5011151492536716, 'train_loss': 0.3861899818104059}\n",
      "Epoch 6/20\n"
     ]
    },
    {
     "name": "stderr",
     "output_type": "stream",
     "text": [
      "100%|██████████| 761/761 [01:06<00:00, 11.45it/s]\n"
     ]
    },
    {
     "name": "stdout",
     "output_type": "stream",
     "text": [
      "{'val_loss': 1.6071461330888406, 'val_accuracy': 0.6262566528681254, 'precision': 0.6602149748310076, 'recall': 0.6262566528681254, 'f1-score': 0.6267529137922375, 'macro_f1-score': 0.36173088362224654, 'balanced_accuracy': 0.38994073650139055, 'mcc': 0.5170605390178179, 'train_loss': 0.32226138343513205}\n",
      "Epoch 7/20\n"
     ]
    },
    {
     "name": "stderr",
     "output_type": "stream",
     "text": [
      "100%|██████████| 761/761 [01:06<00:00, 11.44it/s]\n"
     ]
    },
    {
     "name": "stdout",
     "output_type": "stream",
     "text": [
      "{'val_loss': 1.638047976735628, 'val_accuracy': 0.6475458308693081, 'precision': 0.6425767505592545, 'recall': 0.6475458308693081, 'f1-score': 0.6326426274544821, 'macro_f1-score': 0.36534014133029513, 'balanced_accuracy': 0.3839219770115354, 'mcc': 0.5299492969388543, 'train_loss': 0.2887978276602542}\n",
      "Epoch 8/20\n"
     ]
    },
    {
     "name": "stderr",
     "output_type": "stream",
     "text": [
      "100%|██████████| 761/761 [01:06<00:00, 11.46it/s]\n"
     ]
    },
    {
     "name": "stdout",
     "output_type": "stream",
     "text": [
      "{'val_loss': 1.7590782335906658, 'val_accuracy': 0.6303962152572442, 'precision': 0.6372843698734447, 'recall': 0.6303962152572442, 'f1-score': 0.6232187388845898, 'macro_f1-score': 0.36344506760710443, 'balanced_accuracy': 0.3729093618340815, 'mcc': 0.5151106129467339, 'train_loss': 0.2645304622764989}\n",
      "Epoch 9/20\n"
     ]
    },
    {
     "name": "stderr",
     "output_type": "stream",
     "text": [
      "100%|██████████| 761/761 [01:06<00:00, 11.47it/s]\n"
     ]
    },
    {
     "name": "stdout",
     "output_type": "stream",
     "text": [
      "{'val_loss': 2.0743240629726984, 'val_accuracy': 0.5777646363098758, 'precision': 0.6634215697036913, 'recall': 0.5777646363098758, 'f1-score': 0.5996949337125319, 'macro_f1-score': 0.3585650240918598, 'balanced_accuracy': 0.4132734776548672, 'mcc': 0.4896892589974744, 'train_loss': 0.28327811772552036}\n",
      "Epoch 10/20\n"
     ]
    },
    {
     "name": "stderr",
     "output_type": "stream",
     "text": [
      "100%|██████████| 761/761 [01:06<00:00, 11.44it/s]\n"
     ]
    },
    {
     "name": "stdout",
     "output_type": "stream",
     "text": [
      "{'val_loss': 1.716733307770963, 'val_accuracy': 0.6392667060910704, 'precision': 0.6527554687785664, 'recall': 0.6392667060910704, 'f1-score': 0.6304230768271316, 'macro_f1-score': 0.36429704719856587, 'balanced_accuracy': 0.3793593928453818, 'mcc': 0.5268312426420161, 'train_loss': 0.25817540997936683}\n",
      "Early stopping.\n",
      "\n",
      "[Fold 4]\n",
      "Label distribution after resampling:\n",
      "  label 0: 2000\n",
      "  label 1: 200\n",
      "  label 2: 200\n",
      "  label 3: 200\n",
      "  label 4: 206\n",
      "  label 5: 200\n",
      "  label 6: 200\n",
      "  label 7: 200\n",
      "  label 8: 200\n",
      "  label 9: 200\n",
      "  label 10: 200\n",
      "  label 11: 200\n",
      "  label 12: 200\n",
      "  label 13: 200\n",
      "  label 14: 200\n",
      "  label 15: 200\n",
      "  label 16: 200\n",
      "  label 17: 232\n",
      "  label 18: 200\n",
      "  label 19: 200\n",
      "  label 20: 200\n",
      "  label 21: 200\n",
      "  label 22: 200\n",
      "  label 23: 200\n",
      "  label 24: 200\n",
      "  label 25: 200\n",
      "  label 26: 200\n",
      "  label 27: 200\n",
      "  label 28: 200\n",
      "  label 29: 200\n",
      "  label 30: 200\n",
      "  label 31: 200\n",
      "  label 32: 200\n",
      "  label 33: 200\n",
      "  label 34: 200\n",
      "  label 35: 200\n",
      "  label 36: 200\n",
      "  label 37: 200\n",
      "  label 38: 200\n",
      "  label 39: 200\n",
      "  label 40: 200\n",
      "  label 41: 200\n",
      "  label 42: 200\n",
      "  label 43: 200\n",
      "  label 44: 200\n",
      "  label 45: 200\n",
      "  label 46: 200\n",
      "  label 47: 529\n",
      "  label 48: 201\n",
      "  label 49: 200\n",
      "model is roberta-base cnn1filter345drop3\n"
     ]
    },
    {
     "name": "stderr",
     "output_type": "stream",
     "text": [
      "Some weights of RobertaModel were not initialized from the model checkpoint at roberta-base and are newly initialized: ['pooler.dense.bias', 'pooler.dense.weight']\n",
      "You should probably TRAIN this model on a down-stream task to be able to use it for predictions and inference.\n"
     ]
    },
    {
     "name": "stdout",
     "output_type": "stream",
     "text": [
      "Epoch 1/20\n"
     ]
    },
    {
     "name": "stderr",
     "output_type": "stream",
     "text": [
      "100%|██████████| 761/761 [01:06<00:00, 11.45it/s]\n"
     ]
    },
    {
     "name": "stdout",
     "output_type": "stream",
     "text": [
      "{'val_loss': 1.4102068104833927, 'val_accuracy': 0.6043761088113542, 'precision': 0.6389710862017919, 'recall': 0.6043761088113542, 'f1-score': 0.5999893288077508, 'macro_f1-score': 0.35747610584691336, 'balanced_accuracy': 0.43407814227691355, 'mcc': 0.496262521860176, 'train_loss': 2.1669965941316978}\n",
      "Epoch 2/20\n"
     ]
    },
    {
     "name": "stderr",
     "output_type": "stream",
     "text": [
      "100%|██████████| 761/761 [01:06<00:00, 11.44it/s]\n"
     ]
    },
    {
     "name": "stdout",
     "output_type": "stream",
     "text": [
      "{'val_loss': 1.3317442463254028, 'val_accuracy': 0.6280307510348906, 'precision': 0.6667366960572108, 'recall': 0.6280307510348906, 'f1-score': 0.6358325621667398, 'macro_f1-score': 0.4138475988439143, 'balanced_accuracy': 0.4325941501509811, 'mcc': 0.5248029789265012, 'train_loss': 0.8529915103050005}\n",
      "Epoch 3/20\n"
     ]
    },
    {
     "name": "stderr",
     "output_type": "stream",
     "text": [
      "100%|██████████| 761/761 [01:06<00:00, 11.45it/s]\n"
     ]
    },
    {
     "name": "stdout",
     "output_type": "stream",
     "text": [
      "{'val_loss': 1.3717687056874328, 'val_accuracy': 0.6333530455351862, 'precision': 0.6798042570802717, 'recall': 0.6333530455351862, 'f1-score': 0.6435049272541187, 'macro_f1-score': 0.39949531036905417, 'balanced_accuracy': 0.440623612229886, 'mcc': 0.5359626430617115, 'train_loss': 0.5335352805378246}\n",
      "Epoch 4/20\n"
     ]
    },
    {
     "name": "stderr",
     "output_type": "stream",
     "text": [
      "100%|██████████| 761/761 [01:06<00:00, 11.45it/s]\n"
     ]
    },
    {
     "name": "stdout",
     "output_type": "stream",
     "text": [
      "{'val_loss': 1.4048181550120407, 'val_accuracy': 0.6457717327025428, 'precision': 0.6873101893742819, 'recall': 0.6457717327025428, 'f1-score': 0.6515497807702105, 'macro_f1-score': 0.41748197055991393, 'balanced_accuracy': 0.44279512150862216, 'mcc': 0.5443506992640595, 'train_loss': 0.4006728072101238}\n",
      "Epoch 5/20\n"
     ]
    },
    {
     "name": "stderr",
     "output_type": "stream",
     "text": [
      "100%|██████████| 761/761 [01:06<00:00, 11.44it/s]\n"
     ]
    },
    {
     "name": "stdout",
     "output_type": "stream",
     "text": [
      "{'val_loss': 1.5743552170834452, 'val_accuracy': 0.6221170904790065, 'precision': 0.680845712288056, 'recall': 0.6221170904790065, 'f1-score': 0.6357357383463419, 'macro_f1-score': 0.39970309939609083, 'balanced_accuracy': 0.45549184094045325, 'mcc': 0.5250259562412175, 'train_loss': 0.34146537239395286}\n",
      "Epoch 6/20\n"
     ]
    },
    {
     "name": "stderr",
     "output_type": "stream",
     "text": [
      "100%|██████████| 761/761 [01:06<00:00, 11.45it/s]\n"
     ]
    },
    {
     "name": "stdout",
     "output_type": "stream",
     "text": [
      "{'val_loss': 1.4982638682396907, 'val_accuracy': 0.6652868125369604, 'precision': 0.7022954980149521, 'recall': 0.6652868125369604, 'f1-score': 0.6676879316142678, 'macro_f1-score': 0.43536288945818313, 'balanced_accuracy': 0.47182045898522423, 'mcc': 0.5747221076363721, 'train_loss': 0.3312761254294111}\n",
      "Epoch 7/20\n"
     ]
    },
    {
     "name": "stderr",
     "output_type": "stream",
     "text": [
      "100%|██████████| 761/761 [01:06<00:00, 11.44it/s]\n"
     ]
    },
    {
     "name": "stdout",
     "output_type": "stream",
     "text": [
      "{'val_loss': 1.6143397452696315, 'val_accuracy': 0.6392667060910704, 'precision': 0.6750790595909483, 'recall': 0.6392667060910704, 'f1-score': 0.6465660132408461, 'macro_f1-score': 0.42873998998307833, 'balanced_accuracy': 0.43234971083318735, 'mcc': 0.5415059976897715, 'train_loss': 0.2626184933658557}\n",
      "Epoch 8/20\n"
     ]
    },
    {
     "name": "stderr",
     "output_type": "stream",
     "text": [
      "100%|██████████| 761/761 [01:06<00:00, 11.45it/s]\n"
     ]
    },
    {
     "name": "stdout",
     "output_type": "stream",
     "text": [
      "{'val_loss': 1.5366447806920644, 'val_accuracy': 0.6652868125369604, 'precision': 0.6898157907972219, 'recall': 0.6652868125369604, 'f1-score': 0.6667944136758956, 'macro_f1-score': 0.4417971516388129, 'balanced_accuracy': 0.46249006027915934, 'mcc': 0.5705868093451545, 'train_loss': 0.2593655589577569}\n",
      "Epoch 9/20\n"
     ]
    },
    {
     "name": "stderr",
     "output_type": "stream",
     "text": [
      "100%|██████████| 761/761 [01:06<00:00, 11.46it/s]\n"
     ]
    },
    {
     "name": "stdout",
     "output_type": "stream",
     "text": [
      "{'val_loss': 1.6254369270689082, 'val_accuracy': 0.6753400354819633, 'precision': 0.6776653639845477, 'recall': 0.6753400354819633, 'f1-score': 0.6596220134752627, 'macro_f1-score': 0.4313008417878069, 'balanced_accuracy': 0.4448118541132083, 'mcc': 0.5655658530237057, 'train_loss': 0.251759060549595}\n",
      "Epoch 10/20\n"
     ]
    },
    {
     "name": "stderr",
     "output_type": "stream",
     "text": [
      "100%|██████████| 761/761 [01:06<00:00, 11.45it/s]\n"
     ]
    },
    {
     "name": "stdout",
     "output_type": "stream",
     "text": [
      "{'val_loss': 1.760956623081891, 'val_accuracy': 0.6292134831460674, 'precision': 0.6950521525451449, 'recall': 0.6292134831460674, 'f1-score': 0.6448387184809029, 'macro_f1-score': 0.425951526700243, 'balanced_accuracy': 0.45363350191568796, 'mcc': 0.5416690872194521, 'train_loss': 0.23743687334786195}\n",
      "Epoch 11/20\n"
     ]
    },
    {
     "name": "stderr",
     "output_type": "stream",
     "text": [
      "100%|██████████| 761/761 [01:06<00:00, 11.45it/s]\n"
     ]
    },
    {
     "name": "stdout",
     "output_type": "stream",
     "text": [
      "{'val_loss': 1.6985766669770457, 'val_accuracy': 0.6369012418687168, 'precision': 0.6849832628059879, 'recall': 0.6369012418687168, 'f1-score': 0.6443509729643643, 'macro_f1-score': 0.41872160625256283, 'balanced_accuracy': 0.45635432092943434, 'mcc': 0.5433217434366525, 'train_loss': 0.2448988888839825}\n",
      "Early stopping.\n",
      "\n",
      "[Fold 5]\n",
      "Label distribution after resampling:\n",
      "  label 0: 2000\n",
      "  label 1: 200\n",
      "  label 2: 200\n",
      "  label 3: 200\n",
      "  label 4: 205\n",
      "  label 5: 200\n",
      "  label 6: 200\n",
      "  label 7: 200\n",
      "  label 8: 200\n",
      "  label 9: 200\n",
      "  label 10: 200\n",
      "  label 11: 200\n",
      "  label 12: 200\n",
      "  label 13: 200\n",
      "  label 14: 200\n",
      "  label 15: 200\n",
      "  label 16: 200\n",
      "  label 17: 231\n",
      "  label 18: 200\n",
      "  label 19: 200\n",
      "  label 20: 200\n",
      "  label 21: 200\n",
      "  label 22: 200\n",
      "  label 23: 200\n",
      "  label 24: 200\n",
      "  label 25: 200\n",
      "  label 26: 200\n",
      "  label 27: 200\n",
      "  label 28: 200\n",
      "  label 29: 200\n",
      "  label 30: 200\n",
      "  label 31: 200\n",
      "  label 32: 200\n",
      "  label 33: 200\n",
      "  label 34: 200\n",
      "  label 35: 200\n",
      "  label 36: 200\n",
      "  label 37: 200\n",
      "  label 38: 200\n",
      "  label 39: 200\n",
      "  label 40: 200\n",
      "  label 41: 200\n",
      "  label 42: 200\n",
      "  label 43: 200\n",
      "  label 44: 200\n",
      "  label 45: 200\n",
      "  label 46: 200\n",
      "  label 47: 529\n",
      "  label 48: 202\n",
      "  label 49: 200\n",
      "model is roberta-base cnn1filter345drop3\n"
     ]
    },
    {
     "name": "stderr",
     "output_type": "stream",
     "text": [
      "Some weights of RobertaModel were not initialized from the model checkpoint at roberta-base and are newly initialized: ['pooler.dense.bias', 'pooler.dense.weight']\n",
      "You should probably TRAIN this model on a down-stream task to be able to use it for predictions and inference.\n"
     ]
    },
    {
     "name": "stdout",
     "output_type": "stream",
     "text": [
      "Epoch 1/20\n"
     ]
    },
    {
     "name": "stderr",
     "output_type": "stream",
     "text": [
      "100%|██████████| 761/761 [01:06<00:00, 11.44it/s]\n"
     ]
    },
    {
     "name": "stdout",
     "output_type": "stream",
     "text": [
      "{'val_loss': 1.4358408439834163, 'val_accuracy': 0.6207100591715976, 'precision': 0.606726630546265, 'recall': 0.6207100591715976, 'f1-score': 0.5978618401071709, 'macro_f1-score': 0.3187236306844278, 'balanced_accuracy': 0.35200994267503233, 'mcc': 0.5034011540185531, 'train_loss': 2.183020149322126}\n",
      "Epoch 2/20\n"
     ]
    },
    {
     "name": "stderr",
     "output_type": "stream",
     "text": [
      "100%|██████████| 761/761 [01:06<00:00, 11.46it/s]\n"
     ]
    },
    {
     "name": "stdout",
     "output_type": "stream",
     "text": [
      "{'val_loss': 1.3621362979119678, 'val_accuracy': 0.6461538461538462, 'precision': 0.652377872102423, 'recall': 0.6461538461538462, 'f1-score': 0.6316060541753256, 'macro_f1-score': 0.35562596497094473, 'balanced_accuracy': 0.3622845809862526, 'mcc': 0.529874701189735, 'train_loss': 0.8975018989906675}\n",
      "Epoch 3/20\n"
     ]
    },
    {
     "name": "stderr",
     "output_type": "stream",
     "text": [
      "100%|██████████| 761/761 [01:06<00:00, 11.45it/s]\n"
     ]
    },
    {
     "name": "stdout",
     "output_type": "stream",
     "text": [
      "{'val_loss': 1.4433592853118788, 'val_accuracy': 0.6497041420118344, 'precision': 0.6725947002223711, 'recall': 0.6497041420118344, 'f1-score': 0.6440531961340947, 'macro_f1-score': 0.37314608813451594, 'balanced_accuracy': 0.39193023376275876, 'mcc': 0.5401841682943535, 'train_loss': 0.5775419958278478}\n",
      "Epoch 4/20\n"
     ]
    },
    {
     "name": "stderr",
     "output_type": "stream",
     "text": [
      "100%|██████████| 761/761 [01:06<00:00, 11.45it/s]\n"
     ]
    },
    {
     "name": "stdout",
     "output_type": "stream",
     "text": [
      "{'val_loss': 1.5796745172086752, 'val_accuracy': 0.6242603550295858, 'precision': 0.6965958122656992, 'recall': 0.6242603550295858, 'f1-score': 0.642116261948043, 'macro_f1-score': 0.3906812910712605, 'balanced_accuracy': 0.4278204921654149, 'mcc': 0.5270007358845824, 'train_loss': 0.4539336852739111}\n",
      "Epoch 5/20\n"
     ]
    },
    {
     "name": "stderr",
     "output_type": "stream",
     "text": [
      "100%|██████████| 761/761 [01:06<00:00, 11.46it/s]\n"
     ]
    },
    {
     "name": "stdout",
     "output_type": "stream",
     "text": [
      "{'val_loss': 1.6006567048014335, 'val_accuracy': 0.6372781065088757, 'precision': 0.6773381920200208, 'recall': 0.6372781065088757, 'f1-score': 0.6438883621259797, 'macro_f1-score': 0.38180045195070106, 'balanced_accuracy': 0.40347455775955604, 'mcc': 0.5363167939424001, 'train_loss': 0.3806518017340075}\n",
      "Epoch 6/20\n"
     ]
    },
    {
     "name": "stderr",
     "output_type": "stream",
     "text": [
      "100%|██████████| 761/761 [01:06<00:00, 11.44it/s]\n"
     ]
    },
    {
     "name": "stdout",
     "output_type": "stream",
     "text": [
      "{'val_loss': 1.6459562874065254, 'val_accuracy': 0.6402366863905326, 'precision': 0.6693568353077632, 'recall': 0.6402366863905326, 'f1-score': 0.6415633366181276, 'macro_f1-score': 0.39321171117716025, 'balanced_accuracy': 0.40801001880610926, 'mcc': 0.5366891232329248, 'train_loss': 0.3283266910448494}\n",
      "Epoch 7/20\n"
     ]
    },
    {
     "name": "stderr",
     "output_type": "stream",
     "text": [
      "100%|██████████| 761/761 [01:06<00:00, 11.46it/s]\n"
     ]
    },
    {
     "name": "stdout",
     "output_type": "stream",
     "text": [
      "{'val_loss': 1.590146540189689, 'val_accuracy': 0.6520710059171597, 'precision': 0.6719059332128771, 'recall': 0.6520710059171597, 'f1-score': 0.6509770842824233, 'macro_f1-score': 0.3762299700603689, 'balanced_accuracy': 0.382709778466875, 'mcc': 0.5522573771600328, 'train_loss': 0.28459962938377403}\n",
      "Epoch 8/20\n"
     ]
    },
    {
     "name": "stderr",
     "output_type": "stream",
     "text": [
      "100%|██████████| 761/761 [01:06<00:00, 11.44it/s]\n"
     ]
    },
    {
     "name": "stdout",
     "output_type": "stream",
     "text": [
      "{'val_loss': 1.7470448756555341, 'val_accuracy': 0.6295857988165681, 'precision': 0.6646757461269589, 'recall': 0.6295857988165681, 'f1-score': 0.6345526514161701, 'macro_f1-score': 0.3623007255424222, 'balanced_accuracy': 0.38442822004805643, 'mcc': 0.5312684571970692, 'train_loss': 0.27833520554424646}\n",
      "Epoch 9/20\n"
     ]
    },
    {
     "name": "stderr",
     "output_type": "stream",
     "text": [
      "100%|██████████| 761/761 [01:06<00:00, 11.45it/s]\n"
     ]
    },
    {
     "name": "stdout",
     "output_type": "stream",
     "text": [
      "{'val_loss': 1.7136923128141548, 'val_accuracy': 0.659171597633136, 'precision': 0.6869691711998338, 'recall': 0.659171597633136, 'f1-score': 0.6617927299361016, 'macro_f1-score': 0.40251387939811517, 'balanced_accuracy': 0.43044218673077383, 'mcc': 0.5633601320315254, 'train_loss': 0.2741605661725001}\n",
      "Epoch 10/20\n"
     ]
    },
    {
     "name": "stderr",
     "output_type": "stream",
     "text": [
      "100%|██████████| 761/761 [01:06<00:00, 11.44it/s]\n"
     ]
    },
    {
     "name": "stdout",
     "output_type": "stream",
     "text": [
      "{'val_loss': 1.861505147139981, 'val_accuracy': 0.6278106508875739, 'precision': 0.6917640723843553, 'recall': 0.6278106508875739, 'f1-score': 0.6415101228885879, 'macro_f1-score': 0.38054234368543083, 'balanced_accuracy': 0.4126015045286281, 'mcc': 0.539620530882285, 'train_loss': 0.26093100761852756}\n",
      "Epoch 11/20\n"
     ]
    },
    {
     "name": "stderr",
     "output_type": "stream",
     "text": [
      "100%|██████████| 761/761 [01:06<00:00, 11.45it/s]\n"
     ]
    },
    {
     "name": "stdout",
     "output_type": "stream",
     "text": [
      "{'val_loss': 1.7236646492526215, 'val_accuracy': 0.6502958579881657, 'precision': 0.6622562062767029, 'recall': 0.6502958579881657, 'f1-score': 0.6446164675085642, 'macro_f1-score': 0.37657079683915456, 'balanced_accuracy': 0.4002434348481039, 'mcc': 0.5444034248044937, 'train_loss': 0.25171868541643866}\n",
      "Epoch 12/20\n"
     ]
    },
    {
     "name": "stderr",
     "output_type": "stream",
     "text": [
      "100%|██████████| 761/761 [01:06<00:00, 11.46it/s]\n"
     ]
    },
    {
     "name": "stdout",
     "output_type": "stream",
     "text": [
      "{'val_loss': 1.81732847105782, 'val_accuracy': 0.6301775147928994, 'precision': 0.6752375713974978, 'recall': 0.6301775147928994, 'f1-score': 0.6397787645374906, 'macro_f1-score': 0.39136881687517616, 'balanced_accuracy': 0.3956029242406627, 'mcc': 0.5318870624912019, 'train_loss': 0.24863882853806205}\n",
      "Early stopping.\n",
      "\n",
      " === roberta-base + cnn1filter345drop3 + ros Final 5-fold Cross-Validation Results ===\n",
      "Total time: 3789 seconds\n",
      "Total time: 1 hrs 3 mins 9 secs\n",
      "val_loss: 1.6557\n",
      "val_accuracy: 0.6498\n",
      "precision: 0.6676\n",
      "recall: 0.6498\n",
      "f1-score: 0.6475\n",
      "macro_f1-score: 0.4040\n",
      "balanced_accuracy: 0.4273\n",
      "mcc: 0.5457\n",
      "train_loss: 0.2762\n",
      "▶ Running: roberta-base + cnn1filter345drop5 + ros\n",
      "tokenizer is roberta-base\n",
      "Using device: cuda\n",
      "CUDA Available: True\n",
      "CUDA Device: NVIDIA GeForce RTX 5070 Ti\n",
      "Current GPU Memory Allocated: 0.02 GB\n",
      "Current GPU Memory Cached: 3.84 GB\n",
      "\n",
      "[Fold 1]\n",
      "Label distribution after resampling:\n",
      "  label 0: 2000\n",
      "  label 1: 200\n",
      "  label 2: 200\n",
      "  label 3: 200\n",
      "  label 4: 205\n",
      "  label 5: 200\n",
      "  label 6: 200\n",
      "  label 7: 200\n",
      "  label 8: 200\n",
      "  label 9: 200\n",
      "  label 10: 200\n",
      "  label 11: 200\n",
      "  label 12: 200\n",
      "  label 13: 200\n",
      "  label 14: 200\n",
      "  label 15: 200\n",
      "  label 16: 200\n",
      "  label 17: 231\n",
      "  label 18: 200\n",
      "  label 19: 200\n",
      "  label 20: 200\n",
      "  label 21: 200\n",
      "  label 22: 200\n",
      "  label 23: 200\n",
      "  label 24: 200\n",
      "  label 25: 200\n",
      "  label 26: 200\n",
      "  label 27: 200\n",
      "  label 28: 200\n",
      "  label 29: 200\n",
      "  label 30: 200\n",
      "  label 31: 200\n",
      "  label 32: 200\n",
      "  label 33: 200\n",
      "  label 34: 200\n",
      "  label 35: 200\n",
      "  label 36: 200\n",
      "  label 37: 200\n",
      "  label 38: 200\n",
      "  label 39: 200\n",
      "  label 40: 200\n",
      "  label 41: 200\n",
      "  label 42: 200\n",
      "  label 43: 200\n",
      "  label 44: 200\n",
      "  label 45: 200\n",
      "  label 46: 200\n",
      "  label 47: 529\n",
      "  label 48: 202\n",
      "  label 49: 200\n",
      "model is roberta-base cnn1filter345drop5\n"
     ]
    },
    {
     "name": "stderr",
     "output_type": "stream",
     "text": [
      "Some weights of RobertaModel were not initialized from the model checkpoint at roberta-base and are newly initialized: ['pooler.dense.bias', 'pooler.dense.weight']\n",
      "You should probably TRAIN this model on a down-stream task to be able to use it for predictions and inference.\n"
     ]
    },
    {
     "name": "stdout",
     "output_type": "stream",
     "text": [
      "Epoch 1/20\n"
     ]
    },
    {
     "name": "stderr",
     "output_type": "stream",
     "text": [
      "100%|██████████| 761/761 [01:06<00:00, 11.45it/s]\n"
     ]
    },
    {
     "name": "stdout",
     "output_type": "stream",
     "text": [
      "{'val_loss': 1.6517725412575703, 'val_accuracy': 0.5369603784742756, 'precision': 0.6233134840196615, 'recall': 0.5369603784742756, 'f1-score': 0.5547229236457195, 'macro_f1-score': 0.2816838439565317, 'balanced_accuracy': 0.37604461612358947, 'mcc': 0.4195692762425633, 'train_loss': 2.500091662623096}\n",
      "Epoch 2/20\n"
     ]
    },
    {
     "name": "stderr",
     "output_type": "stream",
     "text": [
      "100%|██████████| 761/761 [01:06<00:00, 11.46it/s]\n"
     ]
    },
    {
     "name": "stdout",
     "output_type": "stream",
     "text": [
      "{'val_loss': 1.5891739473028004, 'val_accuracy': 0.5688941454760497, 'precision': 0.6729834101275196, 'recall': 0.5688941454760497, 'f1-score': 0.5975419422528002, 'macro_f1-score': 0.3593551618796213, 'balanced_accuracy': 0.4218816481871723, 'mcc': 0.4663821313824182, 'train_loss': 1.0738607064065733}\n",
      "Epoch 3/20\n"
     ]
    },
    {
     "name": "stderr",
     "output_type": "stream",
     "text": [
      "100%|██████████| 761/761 [01:06<00:00, 11.44it/s]\n"
     ]
    },
    {
     "name": "stdout",
     "output_type": "stream",
     "text": [
      "{'val_loss': 1.4537785961380545, 'val_accuracy': 0.6333530455351862, 'precision': 0.6574370468139815, 'recall': 0.6333530455351862, 'f1-score': 0.630433211289529, 'macro_f1-score': 0.3635225482855711, 'balanced_accuracy': 0.39951701149253405, 'mcc': 0.5269496620992636, 'train_loss': 0.6676816251349198}\n",
      "Epoch 4/20\n"
     ]
    },
    {
     "name": "stderr",
     "output_type": "stream",
     "text": [
      "100%|██████████| 761/761 [01:06<00:00, 11.46it/s]\n"
     ]
    },
    {
     "name": "stdout",
     "output_type": "stream",
     "text": [
      "{'val_loss': 1.522150139201362, 'val_accuracy': 0.6303962152572442, 'precision': 0.6425259971914414, 'recall': 0.6303962152572442, 'f1-score': 0.6234492269666261, 'macro_f1-score': 0.36724097320853405, 'balanced_accuracy': 0.39650070768187895, 'mcc': 0.519718866014457, 'train_loss': 0.5199276077244113}\n",
      "Epoch 5/20\n"
     ]
    },
    {
     "name": "stderr",
     "output_type": "stream",
     "text": [
      "100%|██████████| 761/761 [01:06<00:00, 11.46it/s]\n"
     ]
    },
    {
     "name": "stdout",
     "output_type": "stream",
     "text": [
      "{'val_loss': 1.5340052963990085, 'val_accuracy': 0.6434062684801892, 'precision': 0.659815185724678, 'recall': 0.6434062684801892, 'f1-score': 0.6372456056435353, 'macro_f1-score': 0.38158111945330647, 'balanced_accuracy': 0.3895105864718081, 'mcc': 0.536560630323425, 'train_loss': 0.41694570134507686}\n",
      "Epoch 6/20\n"
     ]
    },
    {
     "name": "stderr",
     "output_type": "stream",
     "text": [
      "100%|██████████| 761/761 [01:06<00:00, 11.45it/s]\n"
     ]
    },
    {
     "name": "stdout",
     "output_type": "stream",
     "text": [
      "{'val_loss': 1.683637261952994, 'val_accuracy': 0.5901833234772325, 'precision': 0.6532109660216264, 'recall': 0.5901833234772325, 'f1-score': 0.6038425467942833, 'macro_f1-score': 0.35999226739233264, 'balanced_accuracy': 0.38907784715071336, 'mcc': 0.48867040971573944, 'train_loss': 0.3664720326395272}\n",
      "Epoch 7/20\n"
     ]
    },
    {
     "name": "stderr",
     "output_type": "stream",
     "text": [
      "100%|██████████| 761/761 [01:06<00:00, 11.46it/s]\n"
     ]
    },
    {
     "name": "stdout",
     "output_type": "stream",
     "text": [
      "{'val_loss': 1.6217719639809627, 'val_accuracy': 0.6262566528681254, 'precision': 0.6684992333362474, 'recall': 0.6262566528681254, 'f1-score': 0.634045612267054, 'macro_f1-score': 0.37700832787270533, 'balanced_accuracy': 0.4077188944740899, 'mcc': 0.5280161914946491, 'train_loss': 0.36897513318168057}\n",
      "Epoch 8/20\n"
     ]
    },
    {
     "name": "stderr",
     "output_type": "stream",
     "text": [
      "100%|██████████| 761/761 [01:06<00:00, 11.44it/s]\n"
     ]
    },
    {
     "name": "stdout",
     "output_type": "stream",
     "text": [
      "{'val_loss': 1.8275772946060829, 'val_accuracy': 0.5972797161442933, 'precision': 0.6614428974577335, 'recall': 0.5972797161442933, 'f1-score': 0.6099418007808116, 'macro_f1-score': 0.3892875143429382, 'balanced_accuracy': 0.4207875791169082, 'mcc': 0.5060757999879044, 'train_loss': 0.3176702947910195}\n",
      "Epoch 9/20\n"
     ]
    },
    {
     "name": "stderr",
     "output_type": "stream",
     "text": [
      "100%|██████████| 761/761 [01:06<00:00, 11.46it/s]\n"
     ]
    },
    {
     "name": "stdout",
     "output_type": "stream",
     "text": [
      "{'val_loss': 1.8193469081284865, 'val_accuracy': 0.6221170904790065, 'precision': 0.6742150807546021, 'recall': 0.6221170904790065, 'f1-score': 0.6320148040745854, 'macro_f1-score': 0.36319108764744745, 'balanced_accuracy': 0.3841262754465433, 'mcc': 0.5243840631922054, 'train_loss': 0.2903873706609745}\n",
      "Epoch 10/20\n"
     ]
    },
    {
     "name": "stderr",
     "output_type": "stream",
     "text": [
      "100%|██████████| 761/761 [01:06<00:00, 11.46it/s]\n"
     ]
    },
    {
     "name": "stdout",
     "output_type": "stream",
     "text": [
      "{'val_loss': 1.9248940832210037, 'val_accuracy': 0.6309875813128326, 'precision': 0.6651261568811416, 'recall': 0.6309875813128326, 'f1-score': 0.6313871980047316, 'macro_f1-score': 0.36835620251236856, 'balanced_accuracy': 0.3964986274497377, 'mcc': 0.532056627973938, 'train_loss': 0.2817052471905496}\n",
      "Epoch 11/20\n"
     ]
    },
    {
     "name": "stderr",
     "output_type": "stream",
     "text": [
      "100%|██████████| 761/761 [01:06<00:00, 11.46it/s]\n"
     ]
    },
    {
     "name": "stdout",
     "output_type": "stream",
     "text": [
      "{'val_loss': 1.7147640883922577, 'val_accuracy': 0.6457717327025428, 'precision': 0.6641659859119458, 'recall': 0.6457717327025428, 'f1-score': 0.6424426005538831, 'macro_f1-score': 0.395197354148394, 'balanced_accuracy': 0.411336188388086, 'mcc': 0.5403954882584778, 'train_loss': 0.27705587136146764}\n",
      "Epoch 12/20\n"
     ]
    },
    {
     "name": "stderr",
     "output_type": "stream",
     "text": [
      "100%|██████████| 761/761 [01:06<00:00, 11.47it/s]\n"
     ]
    },
    {
     "name": "stdout",
     "output_type": "stream",
     "text": [
      "{'val_loss': 1.9995331893552024, 'val_accuracy': 0.6280307510348906, 'precision': 0.675838431556512, 'recall': 0.6280307510348906, 'f1-score': 0.6364265707453688, 'macro_f1-score': 0.39807257738882673, 'balanced_accuracy': 0.43592066259237794, 'mcc': 0.5295786232278465, 'train_loss': 0.2588931385543364}\n",
      "Epoch 13/20\n"
     ]
    },
    {
     "name": "stderr",
     "output_type": "stream",
     "text": [
      "100%|██████████| 761/761 [01:06<00:00, 11.44it/s]\n"
     ]
    },
    {
     "name": "stdout",
     "output_type": "stream",
     "text": [
      "{'val_loss': 1.8955026685066942, 'val_accuracy': 0.6262566528681254, 'precision': 0.6651944558098406, 'recall': 0.6262566528681254, 'f1-score': 0.6334328008997054, 'macro_f1-score': 0.3786472566650377, 'balanced_accuracy': 0.4188532224123918, 'mcc': 0.5231499775412987, 'train_loss': 0.2589435333370154}\n",
      "Epoch 14/20\n"
     ]
    },
    {
     "name": "stderr",
     "output_type": "stream",
     "text": [
      "100%|██████████| 761/761 [01:06<00:00, 11.46it/s]\n"
     ]
    },
    {
     "name": "stdout",
     "output_type": "stream",
     "text": [
      "{'val_loss': 1.7981054392063394, 'val_accuracy': 0.6404494382022472, 'precision': 0.6604279337412854, 'recall': 0.6404494382022472, 'f1-score': 0.6408832131492601, 'macro_f1-score': 0.37855656141465494, 'balanced_accuracy': 0.3866578621041421, 'mcc': 0.530083894185997, 'train_loss': 0.24144616234972927}\n",
      "Epoch 15/20\n"
     ]
    },
    {
     "name": "stderr",
     "output_type": "stream",
     "text": [
      "100%|██████████| 761/761 [01:06<00:00, 11.45it/s]\n"
     ]
    },
    {
     "name": "stdout",
     "output_type": "stream",
     "text": [
      "{'val_loss': 1.9247756437310632, 'val_accuracy': 0.6238911886457718, 'precision': 0.6605637774231623, 'recall': 0.6238911886457718, 'f1-score': 0.6321528835912307, 'macro_f1-score': 0.3971572279649526, 'balanced_accuracy': 0.43224467899818364, 'mcc': 0.5244420288048083, 'train_loss': 0.24901369516248234}\n",
      "Early stopping.\n",
      "\n",
      "[Fold 2]\n",
      "Label distribution after resampling:\n",
      "  label 0: 2000\n",
      "  label 1: 200\n",
      "  label 2: 200\n",
      "  label 3: 200\n",
      "  label 4: 206\n",
      "  label 5: 200\n",
      "  label 6: 200\n",
      "  label 7: 200\n",
      "  label 8: 200\n",
      "  label 9: 200\n",
      "  label 10: 200\n",
      "  label 11: 200\n",
      "  label 12: 200\n",
      "  label 13: 200\n",
      "  label 14: 200\n",
      "  label 15: 200\n",
      "  label 16: 200\n",
      "  label 17: 231\n",
      "  label 18: 200\n",
      "  label 19: 200\n",
      "  label 20: 200\n",
      "  label 21: 200\n",
      "  label 22: 200\n",
      "  label 23: 200\n",
      "  label 24: 200\n",
      "  label 25: 200\n",
      "  label 26: 200\n",
      "  label 27: 200\n",
      "  label 28: 200\n",
      "  label 29: 200\n",
      "  label 30: 200\n",
      "  label 31: 200\n",
      "  label 32: 200\n",
      "  label 33: 200\n",
      "  label 34: 200\n",
      "  label 35: 200\n",
      "  label 36: 200\n",
      "  label 37: 200\n",
      "  label 38: 200\n",
      "  label 39: 200\n",
      "  label 40: 200\n",
      "  label 41: 200\n",
      "  label 42: 200\n",
      "  label 43: 200\n",
      "  label 44: 200\n",
      "  label 45: 200\n",
      "  label 46: 200\n",
      "  label 47: 528\n",
      "  label 48: 202\n",
      "  label 49: 200\n",
      "model is roberta-base cnn1filter345drop5\n"
     ]
    },
    {
     "name": "stderr",
     "output_type": "stream",
     "text": [
      "Some weights of RobertaModel were not initialized from the model checkpoint at roberta-base and are newly initialized: ['pooler.dense.bias', 'pooler.dense.weight']\n",
      "You should probably TRAIN this model on a down-stream task to be able to use it for predictions and inference.\n"
     ]
    },
    {
     "name": "stdout",
     "output_type": "stream",
     "text": [
      "Epoch 1/20\n"
     ]
    },
    {
     "name": "stderr",
     "output_type": "stream",
     "text": [
      "100%|██████████| 761/761 [01:06<00:00, 11.46it/s]\n"
     ]
    },
    {
     "name": "stdout",
     "output_type": "stream",
     "text": [
      "{'val_loss': 1.6592794718607418, 'val_accuracy': 0.5310467179183915, 'precision': 0.5540770073053235, 'recall': 0.5310467179183915, 'f1-score': 0.5276489859802359, 'macro_f1-score': 0.2635495518431669, 'balanced_accuracy': 0.36369896154107123, 'mcc': 0.4063625138765722, 'train_loss': 2.5368858103526564}\n",
      "Epoch 2/20\n"
     ]
    },
    {
     "name": "stderr",
     "output_type": "stream",
     "text": [
      "100%|██████████| 761/761 [01:06<00:00, 11.46it/s]\n"
     ]
    },
    {
     "name": "stdout",
     "output_type": "stream",
     "text": [
      "{'val_loss': 1.4847509208715186, 'val_accuracy': 0.5949142519219397, 'precision': 0.6320110234954829, 'recall': 0.5949142519219397, 'f1-score': 0.6054467485087789, 'macro_f1-score': 0.3572291668357085, 'balanced_accuracy': 0.412499436128026, 'mcc': 0.4887807192501307, 'train_loss': 1.1138365008279623}\n",
      "Epoch 3/20\n"
     ]
    },
    {
     "name": "stderr",
     "output_type": "stream",
     "text": [
      "100%|██████████| 761/761 [01:06<00:00, 11.45it/s]\n"
     ]
    },
    {
     "name": "stdout",
     "output_type": "stream",
     "text": [
      "{'val_loss': 1.5252513688690257, 'val_accuracy': 0.5901833234772325, 'precision': 0.6357747590614901, 'recall': 0.5901833234772325, 'f1-score': 0.5959805163086114, 'macro_f1-score': 0.34787091769476136, 'balanced_accuracy': 0.4183828757381686, 'mcc': 0.4862294534403621, 'train_loss': 0.6882296730317518}\n",
      "Epoch 4/20\n"
     ]
    },
    {
     "name": "stderr",
     "output_type": "stream",
     "text": [
      "100%|██████████| 761/761 [01:06<00:00, 11.46it/s]\n"
     ]
    },
    {
     "name": "stdout",
     "output_type": "stream",
     "text": [
      "{'val_loss': 1.543641617275634, 'val_accuracy': 0.6428149024246008, 'precision': 0.670987728678218, 'recall': 0.6428149024246008, 'f1-score': 0.6396026490104176, 'macro_f1-score': 0.38266045844815827, 'balanced_accuracy': 0.4221174523816435, 'mcc': 0.5382698040158752, 'train_loss': 0.4934137117572902}\n",
      "Epoch 5/20\n"
     ]
    },
    {
     "name": "stderr",
     "output_type": "stream",
     "text": [
      "100%|██████████| 761/761 [01:06<00:00, 11.44it/s]\n"
     ]
    },
    {
     "name": "stdout",
     "output_type": "stream",
     "text": [
      "{'val_loss': 1.6044348703240447, 'val_accuracy': 0.6374926079243052, 'precision': 0.654651700208834, 'recall': 0.6374926079243052, 'f1-score': 0.6360497393671379, 'macro_f1-score': 0.36020341225672836, 'balanced_accuracy': 0.39983167044847084, 'mcc': 0.531782051942965, 'train_loss': 0.424005342971744}\n",
      "Epoch 6/20\n"
     ]
    },
    {
     "name": "stderr",
     "output_type": "stream",
     "text": [
      "100%|██████████| 761/761 [01:06<00:00, 11.45it/s]\n"
     ]
    },
    {
     "name": "stdout",
     "output_type": "stream",
     "text": [
      "{'val_loss': 1.79148930311203, 'val_accuracy': 0.576581904198699, 'precision': 0.6735955333449811, 'recall': 0.576581904198699, 'f1-score': 0.5961939453708965, 'macro_f1-score': 0.34662668091107696, 'balanced_accuracy': 0.4038164072589216, 'mcc': 0.48710243818199983, 'train_loss': 0.3760024202221444}\n",
      "Epoch 7/20\n"
     ]
    },
    {
     "name": "stderr",
     "output_type": "stream",
     "text": [
      "100%|██████████| 761/761 [01:06<00:00, 11.46it/s]\n"
     ]
    },
    {
     "name": "stdout",
     "output_type": "stream",
     "text": [
      "{'val_loss': 1.6490292498525583, 'val_accuracy': 0.6564163217031342, 'precision': 0.662868918071766, 'recall': 0.6564163217031342, 'f1-score': 0.6485145252993939, 'macro_f1-score': 0.4026727704632635, 'balanced_accuracy': 0.41042433360315833, 'mcc': 0.5430427636299271, 'train_loss': 0.33763814614730814}\n",
      "Epoch 8/20\n"
     ]
    },
    {
     "name": "stderr",
     "output_type": "stream",
     "text": [
      "100%|██████████| 761/761 [01:06<00:00, 11.44it/s]\n"
     ]
    },
    {
     "name": "stdout",
     "output_type": "stream",
     "text": [
      "{'val_loss': 1.7627956139029197, 'val_accuracy': 0.638675340035482, 'precision': 0.6485025781336082, 'recall': 0.638675340035482, 'f1-score': 0.6301296431137028, 'macro_f1-score': 0.3719091450481538, 'balanced_accuracy': 0.3912232312697521, 'mcc': 0.5250920121300635, 'train_loss': 0.30074962750370965}\n",
      "Epoch 9/20\n"
     ]
    },
    {
     "name": "stderr",
     "output_type": "stream",
     "text": [
      "100%|██████████| 761/761 [01:06<00:00, 11.45it/s]\n"
     ]
    },
    {
     "name": "stdout",
     "output_type": "stream",
     "text": [
      "{'val_loss': 1.7806109067685199, 'val_accuracy': 0.6333530455351862, 'precision': 0.6654552677809599, 'recall': 0.6333530455351862, 'f1-score': 0.6387409222509491, 'macro_f1-score': 0.39396273535722726, 'balanced_accuracy': 0.4330375612871595, 'mcc': 0.5349896822097382, 'train_loss': 0.2893548507657044}\n",
      "Epoch 10/20\n"
     ]
    },
    {
     "name": "stderr",
     "output_type": "stream",
     "text": [
      "100%|██████████| 761/761 [01:06<00:00, 11.43it/s]\n"
     ]
    },
    {
     "name": "stdout",
     "output_type": "stream",
     "text": [
      "{'val_loss': 1.9192620836338907, 'val_accuracy': 0.6091070372560615, 'precision': 0.6657054910504328, 'recall': 0.6091070372560615, 'f1-score': 0.6186334940089037, 'macro_f1-score': 0.3772950730879691, 'balanced_accuracy': 0.4124107668379462, 'mcc': 0.5089217967291608, 'train_loss': 0.26079968710150936}\n",
      "Early stopping.\n",
      "\n",
      "[Fold 3]\n",
      "Label distribution after resampling:\n",
      "  label 0: 2000\n",
      "  label 1: 200\n",
      "  label 2: 200\n",
      "  label 3: 200\n",
      "  label 4: 206\n",
      "  label 5: 200\n",
      "  label 6: 200\n",
      "  label 7: 200\n",
      "  label 8: 200\n",
      "  label 9: 200\n",
      "  label 10: 200\n",
      "  label 11: 200\n",
      "  label 12: 200\n",
      "  label 13: 200\n",
      "  label 14: 200\n",
      "  label 15: 200\n",
      "  label 16: 200\n",
      "  label 17: 231\n",
      "  label 18: 200\n",
      "  label 19: 200\n",
      "  label 20: 200\n",
      "  label 21: 200\n",
      "  label 22: 200\n",
      "  label 23: 200\n",
      "  label 24: 200\n",
      "  label 25: 200\n",
      "  label 26: 200\n",
      "  label 27: 200\n",
      "  label 28: 200\n",
      "  label 29: 200\n",
      "  label 30: 200\n",
      "  label 31: 200\n",
      "  label 32: 200\n",
      "  label 33: 200\n",
      "  label 34: 200\n",
      "  label 35: 200\n",
      "  label 36: 200\n",
      "  label 37: 200\n",
      "  label 38: 200\n",
      "  label 39: 200\n",
      "  label 40: 200\n",
      "  label 41: 200\n",
      "  label 42: 200\n",
      "  label 43: 200\n",
      "  label 44: 200\n",
      "  label 45: 200\n",
      "  label 46: 200\n",
      "  label 47: 529\n",
      "  label 48: 201\n",
      "  label 49: 200\n",
      "model is roberta-base cnn1filter345drop5\n"
     ]
    },
    {
     "name": "stderr",
     "output_type": "stream",
     "text": [
      "Some weights of RobertaModel were not initialized from the model checkpoint at roberta-base and are newly initialized: ['pooler.dense.bias', 'pooler.dense.weight']\n",
      "You should probably TRAIN this model on a down-stream task to be able to use it for predictions and inference.\n"
     ]
    },
    {
     "name": "stdout",
     "output_type": "stream",
     "text": [
      "Epoch 1/20\n"
     ]
    },
    {
     "name": "stderr",
     "output_type": "stream",
     "text": [
      "100%|██████████| 761/761 [01:06<00:00, 11.46it/s]\n"
     ]
    },
    {
     "name": "stdout",
     "output_type": "stream",
     "text": [
      "{'val_loss': 1.6077718965287477, 'val_accuracy': 0.563571850975754, 'precision': 0.5915686989758226, 'recall': 0.563571850975754, 'f1-score': 0.5591222127069707, 'macro_f1-score': 0.3208901340010546, 'balanced_accuracy': 0.401877879982848, 'mcc': 0.44880218037675224, 'train_loss': 2.3021535777074433}\n",
      "Epoch 2/20\n"
     ]
    },
    {
     "name": "stderr",
     "output_type": "stream",
     "text": [
      "100%|██████████| 761/761 [01:06<00:00, 11.45it/s]\n"
     ]
    },
    {
     "name": "stdout",
     "output_type": "stream",
     "text": [
      "{'val_loss': 1.4505915686769306, 'val_accuracy': 0.6132465996451804, 'precision': 0.6141735754280678, 'recall': 0.6132465996451804, 'f1-score': 0.6009934908836564, 'macro_f1-score': 0.3359443318638244, 'balanced_accuracy': 0.3819043536894926, 'mcc': 0.48613813830424824, 'train_loss': 1.0414946293470582}\n",
      "Epoch 3/20\n"
     ]
    },
    {
     "name": "stderr",
     "output_type": "stream",
     "text": [
      "100%|██████████| 761/761 [01:06<00:00, 11.45it/s]\n"
     ]
    },
    {
     "name": "stdout",
     "output_type": "stream",
     "text": [
      "{'val_loss': 1.6082053942219265, 'val_accuracy': 0.5878178592548787, 'precision': 0.6687110797438628, 'recall': 0.5878178592548787, 'f1-score': 0.6045649834491884, 'macro_f1-score': 0.34259471965192634, 'balanced_accuracy': 0.3980430293907439, 'mcc': 0.48897354373247187, 'train_loss': 0.6381392691739677}\n",
      "Epoch 4/20\n"
     ]
    },
    {
     "name": "stderr",
     "output_type": "stream",
     "text": [
      "100%|██████████| 761/761 [01:06<00:00, 11.45it/s]\n"
     ]
    },
    {
     "name": "stdout",
     "output_type": "stream",
     "text": [
      "{'val_loss': 1.4877750257838447, 'val_accuracy': 0.6221170904790065, 'precision': 0.6321280659616442, 'recall': 0.6221170904790065, 'f1-score': 0.6181608104464472, 'macro_f1-score': 0.3367503945540693, 'balanced_accuracy': 0.358381040553784, 'mcc': 0.5092845407114484, 'train_loss': 0.49209360296638505}\n",
      "Epoch 5/20\n"
     ]
    },
    {
     "name": "stderr",
     "output_type": "stream",
     "text": [
      "100%|██████████| 761/761 [01:06<00:00, 11.44it/s]\n"
     ]
    },
    {
     "name": "stdout",
     "output_type": "stream",
     "text": [
      "{'val_loss': 1.5951816166909236, 'val_accuracy': 0.6167947959787108, 'precision': 0.6561888480092892, 'recall': 0.6167947959787108, 'f1-score': 0.6279543389989554, 'macro_f1-score': 0.3843502877556623, 'balanced_accuracy': 0.41225490363184164, 'mcc': 0.5147052461375198, 'train_loss': 0.4144063701561888}\n",
      "Epoch 6/20\n"
     ]
    },
    {
     "name": "stderr",
     "output_type": "stream",
     "text": [
      "100%|██████████| 761/761 [01:06<00:00, 11.46it/s]\n"
     ]
    },
    {
     "name": "stdout",
     "output_type": "stream",
     "text": [
      "{'val_loss': 1.6428644127159748, 'val_accuracy': 0.6303962152572442, 'precision': 0.6467829410406888, 'recall': 0.6303962152572442, 'f1-score': 0.6270528798763106, 'macro_f1-score': 0.3650348169441343, 'balanced_accuracy': 0.40286332299690597, 'mcc': 0.5288069081665763, 'train_loss': 0.3647585304933704}\n",
      "Epoch 7/20\n"
     ]
    },
    {
     "name": "stderr",
     "output_type": "stream",
     "text": [
      "100%|██████████| 761/761 [01:06<00:00, 11.48it/s]\n"
     ]
    },
    {
     "name": "stdout",
     "output_type": "stream",
     "text": [
      "{'val_loss': 1.6896510950799257, 'val_accuracy': 0.6434062684801892, 'precision': 0.6524703671261706, 'recall': 0.6434062684801892, 'f1-score': 0.6361206053620382, 'macro_f1-score': 0.37419441546511983, 'balanced_accuracy': 0.38765494897011477, 'mcc': 0.5345493227862926, 'train_loss': 0.31738543595492097}\n",
      "Epoch 8/20\n"
     ]
    },
    {
     "name": "stderr",
     "output_type": "stream",
     "text": [
      "100%|██████████| 761/761 [01:06<00:00, 11.46it/s]\n"
     ]
    },
    {
     "name": "stdout",
     "output_type": "stream",
     "text": [
      "{'val_loss': 1.821918026456293, 'val_accuracy': 0.6345357776463632, 'precision': 0.6477499831918007, 'recall': 0.6345357776463632, 'f1-score': 0.629328833756348, 'macro_f1-score': 0.35792927370988237, 'balanced_accuracy': 0.38660506682242757, 'mcc': 0.5274160669751742, 'train_loss': 0.30652880013899564}\n",
      "Early stopping.\n",
      "\n",
      "[Fold 4]\n",
      "Label distribution after resampling:\n",
      "  label 0: 2000\n",
      "  label 1: 200\n",
      "  label 2: 200\n",
      "  label 3: 200\n",
      "  label 4: 206\n",
      "  label 5: 200\n",
      "  label 6: 200\n",
      "  label 7: 200\n",
      "  label 8: 200\n",
      "  label 9: 200\n",
      "  label 10: 200\n",
      "  label 11: 200\n",
      "  label 12: 200\n",
      "  label 13: 200\n",
      "  label 14: 200\n",
      "  label 15: 200\n",
      "  label 16: 200\n",
      "  label 17: 232\n",
      "  label 18: 200\n",
      "  label 19: 200\n",
      "  label 20: 200\n",
      "  label 21: 200\n",
      "  label 22: 200\n",
      "  label 23: 200\n",
      "  label 24: 200\n",
      "  label 25: 200\n",
      "  label 26: 200\n",
      "  label 27: 200\n",
      "  label 28: 200\n",
      "  label 29: 200\n",
      "  label 30: 200\n",
      "  label 31: 200\n",
      "  label 32: 200\n",
      "  label 33: 200\n",
      "  label 34: 200\n",
      "  label 35: 200\n",
      "  label 36: 200\n",
      "  label 37: 200\n",
      "  label 38: 200\n",
      "  label 39: 200\n",
      "  label 40: 200\n",
      "  label 41: 200\n",
      "  label 42: 200\n",
      "  label 43: 200\n",
      "  label 44: 200\n",
      "  label 45: 200\n",
      "  label 46: 200\n",
      "  label 47: 529\n",
      "  label 48: 201\n",
      "  label 49: 200\n",
      "model is roberta-base cnn1filter345drop5\n"
     ]
    },
    {
     "name": "stderr",
     "output_type": "stream",
     "text": [
      "Some weights of RobertaModel were not initialized from the model checkpoint at roberta-base and are newly initialized: ['pooler.dense.bias', 'pooler.dense.weight']\n",
      "You should probably TRAIN this model on a down-stream task to be able to use it for predictions and inference.\n"
     ]
    },
    {
     "name": "stdout",
     "output_type": "stream",
     "text": [
      "Epoch 1/20\n"
     ]
    },
    {
     "name": "stderr",
     "output_type": "stream",
     "text": [
      "100%|██████████| 761/761 [01:06<00:00, 11.45it/s]\n"
     ]
    },
    {
     "name": "stdout",
     "output_type": "stream",
     "text": [
      "{'val_loss': 1.6044911376710207, 'val_accuracy': 0.550561797752809, 'precision': 0.6306355037812266, 'recall': 0.550561797752809, 'f1-score': 0.5577948827586707, 'macro_f1-score': 0.2723968242253335, 'balanced_accuracy': 0.3946690111484877, 'mcc': 0.43393298371369166, 'train_loss': 2.5266824605117177}\n",
      "Epoch 2/20\n"
     ]
    },
    {
     "name": "stderr",
     "output_type": "stream",
     "text": [
      "100%|██████████| 761/761 [01:06<00:00, 11.45it/s]\n"
     ]
    },
    {
     "name": "stdout",
     "output_type": "stream",
     "text": [
      "{'val_loss': 1.3120292028728522, 'val_accuracy': 0.6428149024246008, 'precision': 0.6449848945563557, 'recall': 0.6428149024246008, 'f1-score': 0.6266735166552787, 'macro_f1-score': 0.38899359845324766, 'balanced_accuracy': 0.4486163340490414, 'mcc': 0.5322368302387774, 'train_loss': 1.1601428218019463}\n",
      "Epoch 3/20\n"
     ]
    },
    {
     "name": "stderr",
     "output_type": "stream",
     "text": [
      "100%|██████████| 761/761 [01:06<00:00, 11.46it/s]\n"
     ]
    },
    {
     "name": "stdout",
     "output_type": "stream",
     "text": [
      "{'val_loss': 1.3174571119389444, 'val_accuracy': 0.6439976345357776, 'precision': 0.6830002486109709, 'recall': 0.6439976345357776, 'f1-score': 0.645966676087524, 'macro_f1-score': 0.4136396054767654, 'balanced_accuracy': 0.44287085121232933, 'mcc': 0.5402286766201322, 'train_loss': 0.7119046041690567}\n",
      "Epoch 4/20\n"
     ]
    },
    {
     "name": "stderr",
     "output_type": "stream",
     "text": [
      "100%|██████████| 761/761 [01:06<00:00, 11.45it/s]\n"
     ]
    },
    {
     "name": "stdout",
     "output_type": "stream",
     "text": [
      "{'val_loss': 1.4213356126872998, 'val_accuracy': 0.6564163217031342, 'precision': 0.6931237031787255, 'recall': 0.6564163217031342, 'f1-score': 0.6627380030302809, 'macro_f1-score': 0.4409593267512568, 'balanced_accuracy': 0.48645132879677094, 'mcc': 0.5634590092963577, 'train_loss': 0.5284536927253125}\n",
      "Epoch 5/20\n"
     ]
    },
    {
     "name": "stderr",
     "output_type": "stream",
     "text": [
      "100%|██████████| 761/761 [01:06<00:00, 11.46it/s]\n"
     ]
    },
    {
     "name": "stdout",
     "output_type": "stream",
     "text": [
      "{'val_loss': 1.498191717098344, 'val_accuracy': 0.6481371969248965, 'precision': 0.6896391455405804, 'recall': 0.6481371969248965, 'f1-score': 0.6543111838078832, 'macro_f1-score': 0.4196303415499721, 'balanced_accuracy': 0.46779964082782277, 'mcc': 0.5552511798617769, 'train_loss': 0.43497683111524377}\n",
      "Epoch 6/20\n"
     ]
    },
    {
     "name": "stderr",
     "output_type": "stream",
     "text": [
      "100%|██████████| 761/761 [01:06<00:00, 11.45it/s]\n"
     ]
    },
    {
     "name": "stdout",
     "output_type": "stream",
     "text": [
      "{'val_loss': 1.483749213224312, 'val_accuracy': 0.654642223536369, 'precision': 0.6954992762718163, 'recall': 0.654642223536369, 'f1-score': 0.6599645268187879, 'macro_f1-score': 0.4322054876776113, 'balanced_accuracy': 0.46201473987088726, 'mcc': 0.5632638975548191, 'train_loss': 0.38479515377177553}\n",
      "Epoch 7/20\n"
     ]
    },
    {
     "name": "stderr",
     "output_type": "stream",
     "text": [
      "100%|██████████| 761/761 [01:06<00:00, 11.46it/s]\n"
     ]
    },
    {
     "name": "stdout",
     "output_type": "stream",
     "text": [
      "{'val_loss': 1.4832827699071955, 'val_accuracy': 0.6700177409816677, 'precision': 0.6793728830911013, 'recall': 0.6700177409816677, 'f1-score': 0.6615586750031639, 'macro_f1-score': 0.4175191309945502, 'balanced_accuracy': 0.4263117723277957, 'mcc': 0.5672027728542562, 'train_loss': 0.3346370438312066}\n",
      "Early stopping.\n",
      "\n",
      "[Fold 5]\n",
      "Label distribution after resampling:\n",
      "  label 0: 2000\n",
      "  label 1: 200\n",
      "  label 2: 200\n",
      "  label 3: 200\n",
      "  label 4: 205\n",
      "  label 5: 200\n",
      "  label 6: 200\n",
      "  label 7: 200\n",
      "  label 8: 200\n",
      "  label 9: 200\n",
      "  label 10: 200\n",
      "  label 11: 200\n",
      "  label 12: 200\n",
      "  label 13: 200\n",
      "  label 14: 200\n",
      "  label 15: 200\n",
      "  label 16: 200\n",
      "  label 17: 231\n",
      "  label 18: 200\n",
      "  label 19: 200\n",
      "  label 20: 200\n",
      "  label 21: 200\n",
      "  label 22: 200\n",
      "  label 23: 200\n",
      "  label 24: 200\n",
      "  label 25: 200\n",
      "  label 26: 200\n",
      "  label 27: 200\n",
      "  label 28: 200\n",
      "  label 29: 200\n",
      "  label 30: 200\n",
      "  label 31: 200\n",
      "  label 32: 200\n",
      "  label 33: 200\n",
      "  label 34: 200\n",
      "  label 35: 200\n",
      "  label 36: 200\n",
      "  label 37: 200\n",
      "  label 38: 200\n",
      "  label 39: 200\n",
      "  label 40: 200\n",
      "  label 41: 200\n",
      "  label 42: 200\n",
      "  label 43: 200\n",
      "  label 44: 200\n",
      "  label 45: 200\n",
      "  label 46: 200\n",
      "  label 47: 529\n",
      "  label 48: 202\n",
      "  label 49: 200\n",
      "model is roberta-base cnn1filter345drop5\n"
     ]
    },
    {
     "name": "stderr",
     "output_type": "stream",
     "text": [
      "Some weights of RobertaModel were not initialized from the model checkpoint at roberta-base and are newly initialized: ['pooler.dense.bias', 'pooler.dense.weight']\n",
      "You should probably TRAIN this model on a down-stream task to be able to use it for predictions and inference.\n"
     ]
    },
    {
     "name": "stdout",
     "output_type": "stream",
     "text": [
      "Epoch 1/20\n"
     ]
    },
    {
     "name": "stderr",
     "output_type": "stream",
     "text": [
      "100%|██████████| 761/761 [01:06<00:00, 11.47it/s]\n"
     ]
    },
    {
     "name": "stdout",
     "output_type": "stream",
     "text": [
      "{'val_loss': 1.584108295868028, 'val_accuracy': 0.5715976331360947, 'precision': 0.593893167958524, 'recall': 0.5715976331360947, 'f1-score': 0.5568245471756349, 'macro_f1-score': 0.26826913898039106, 'balanced_accuracy': 0.32912051787268554, 'mcc': 0.4327555089504862, 'train_loss': 2.504707152442456}\n",
      "Epoch 2/20\n"
     ]
    },
    {
     "name": "stderr",
     "output_type": "stream",
     "text": [
      "100%|██████████| 761/761 [01:06<00:00, 11.45it/s]\n"
     ]
    },
    {
     "name": "stdout",
     "output_type": "stream",
     "text": [
      "{'val_loss': 1.4122124516739036, 'val_accuracy': 0.6165680473372781, 'precision': 0.6334141961160531, 'recall': 0.6165680473372781, 'f1-score': 0.6062331973653281, 'macro_f1-score': 0.3278331445196519, 'balanced_accuracy': 0.3585132613648063, 'mcc': 0.49758608350014505, 'train_loss': 1.135941484206296}\n",
      "Epoch 3/20\n"
     ]
    },
    {
     "name": "stderr",
     "output_type": "stream",
     "text": [
      "100%|██████████| 761/761 [01:06<00:00, 11.46it/s]\n"
     ]
    },
    {
     "name": "stdout",
     "output_type": "stream",
     "text": [
      "{'val_loss': 1.544030562886652, 'val_accuracy': 0.5964497041420118, 'precision': 0.6642338099119398, 'recall': 0.5964497041420118, 'f1-score': 0.6088337938457562, 'macro_f1-score': 0.3494321853784645, 'balanced_accuracy': 0.4118933765308542, 'mcc': 0.4927848147192006, 'train_loss': 0.7000853156134897}\n",
      "Epoch 4/20\n"
     ]
    },
    {
     "name": "stderr",
     "output_type": "stream",
     "text": [
      "100%|██████████| 761/761 [01:06<00:00, 11.45it/s]\n"
     ]
    },
    {
     "name": "stdout",
     "output_type": "stream",
     "text": [
      "{'val_loss': 1.4170745217575218, 'val_accuracy': 0.6384615384615384, 'precision': 0.6474321498699465, 'recall': 0.6384615384615384, 'f1-score': 0.6325323660187044, 'macro_f1-score': 0.37883263685957824, 'balanced_accuracy': 0.39779002821147785, 'mcc': 0.5238401055358369, 'train_loss': 0.5327526894636677}\n",
      "Epoch 5/20\n"
     ]
    },
    {
     "name": "stderr",
     "output_type": "stream",
     "text": [
      "100%|██████████| 761/761 [01:06<00:00, 11.46it/s]\n"
     ]
    },
    {
     "name": "stdout",
     "output_type": "stream",
     "text": [
      "{'val_loss': 1.5470920182623953, 'val_accuracy': 0.6544378698224852, 'precision': 0.6577823298370328, 'recall': 0.6544378698224852, 'f1-score': 0.646072201760194, 'macro_f1-score': 0.3964355062211829, 'balanced_accuracy': 0.40906116949703303, 'mcc': 0.5497893958077185, 'train_loss': 0.4369229977306727}\n",
      "Epoch 6/20\n"
     ]
    },
    {
     "name": "stderr",
     "output_type": "stream",
     "text": [
      "100%|██████████| 761/761 [01:06<00:00, 11.45it/s]\n"
     ]
    },
    {
     "name": "stdout",
     "output_type": "stream",
     "text": [
      "{'val_loss': 1.7062303862481747, 'val_accuracy': 0.6313609467455621, 'precision': 0.6833777642300296, 'recall': 0.6313609467455621, 'f1-score': 0.6407612139743295, 'macro_f1-score': 0.3983140421798054, 'balanced_accuracy': 0.44588985251414764, 'mcc': 0.5399927343603226, 'train_loss': 0.3939748772453032}\n",
      "Epoch 7/20\n"
     ]
    },
    {
     "name": "stderr",
     "output_type": "stream",
     "text": [
      "100%|██████████| 761/761 [01:06<00:00, 11.39it/s]\n"
     ]
    },
    {
     "name": "stdout",
     "output_type": "stream",
     "text": [
      "{'val_loss': 1.610737606039587, 'val_accuracy': 0.6485207100591716, 'precision': 0.6717024634000573, 'recall': 0.6485207100591716, 'f1-score': 0.6469275300638967, 'macro_f1-score': 0.3847946301616729, 'balanced_accuracy': 0.42699091199792905, 'mcc': 0.5489038536220388, 'train_loss': 0.32913407249346804}\n",
      "Epoch 8/20\n"
     ]
    },
    {
     "name": "stderr",
     "output_type": "stream",
     "text": [
      "100%|██████████| 761/761 [01:07<00:00, 11.28it/s]\n"
     ]
    },
    {
     "name": "stdout",
     "output_type": "stream",
     "text": [
      "{'val_loss': 1.7425310344628568, 'val_accuracy': 0.6295857988165681, 'precision': 0.6604376285104057, 'recall': 0.6295857988165681, 'f1-score': 0.6323795067023916, 'macro_f1-score': 0.38884310320527626, 'balanced_accuracy': 0.43397429919793973, 'mcc': 0.5314070767842496, 'train_loss': 0.31314372200073376}\n",
      "Epoch 9/20\n"
     ]
    },
    {
     "name": "stderr",
     "output_type": "stream",
     "text": [
      "100%|██████████| 761/761 [01:07<00:00, 11.28it/s]\n"
     ]
    },
    {
     "name": "stdout",
     "output_type": "stream",
     "text": [
      "{'val_loss': 1.6452721551341831, 'val_accuracy': 0.6621301775147929, 'precision': 0.667110215762742, 'recall': 0.6621301775147929, 'f1-score': 0.6568805184977502, 'macro_f1-score': 0.41639259683124147, 'balanced_accuracy': 0.42101556419260133, 'mcc': 0.5594430824697338, 'train_loss': 0.3021914100178986}\n",
      "Epoch 10/20\n"
     ]
    },
    {
     "name": "stderr",
     "output_type": "stream",
     "text": [
      "100%|██████████| 761/761 [01:07<00:00, 11.29it/s]\n"
     ]
    },
    {
     "name": "stdout",
     "output_type": "stream",
     "text": [
      "{'val_loss': 1.8032114789733347, 'val_accuracy': 0.6159763313609468, 'precision': 0.6665248431287668, 'recall': 0.6159763313609468, 'f1-score': 0.6257285471984476, 'macro_f1-score': 0.3956178327866138, 'balanced_accuracy': 0.42771762483547754, 'mcc': 0.5266190577787327, 'train_loss': 0.2835951516173447}\n",
      "Epoch 11/20\n"
     ]
    },
    {
     "name": "stderr",
     "output_type": "stream",
     "text": [
      "100%|██████████| 761/761 [01:07<00:00, 11.28it/s]\n"
     ]
    },
    {
     "name": "stdout",
     "output_type": "stream",
     "text": [
      "{'val_loss': 1.7828554454839454, 'val_accuracy': 0.6289940828402367, 'precision': 0.664494785435036, 'recall': 0.6289940828402367, 'f1-score': 0.6358538748335543, 'macro_f1-score': 0.36928745132356033, 'balanced_accuracy': 0.3928795531376854, 'mcc': 0.5323145233969047, 'train_loss': 0.27607545897159014}\n",
      "Epoch 12/20\n"
     ]
    },
    {
     "name": "stderr",
     "output_type": "stream",
     "text": [
      "100%|██████████| 761/761 [01:07<00:00, 11.29it/s]\n"
     ]
    },
    {
     "name": "stdout",
     "output_type": "stream",
     "text": [
      "{'val_loss': 2.003665973555367, 'val_accuracy': 0.6136094674556213, 'precision': 0.6860258199744912, 'recall': 0.6136094674556213, 'f1-score': 0.6317726358068114, 'macro_f1-score': 0.3978698971223318, 'balanced_accuracy': 0.4322525249397417, 'mcc': 0.5305848325390747, 'train_loss': 0.25079642520861334}\n",
      "Early stopping.\n",
      "\n",
      " === roberta-base + cnn1filter345drop5 + ros Final 5-fold Cross-Validation Results ===\n",
      "Total time: 3654 seconds\n",
      "Total time: 1 hrs 0 mins 54 secs\n",
      "val_loss: 1.6621\n",
      "val_accuracy: 0.6440\n",
      "precision: 0.6710\n",
      "recall: 0.6440\n",
      "f1-score: 0.6465\n",
      "macro_f1-score: 0.4085\n",
      "balanced_accuracy: 0.4332\n",
      "mcc: 0.5420\n",
      "train_loss: 0.3683\n",
      "▶ Running: roberta-base + cnn2filter234drop3 + ros\n",
      "tokenizer is roberta-base\n",
      "Using device: cuda\n",
      "CUDA Available: True\n",
      "CUDA Device: NVIDIA GeForce RTX 5070 Ti\n",
      "Current GPU Memory Allocated: 0.02 GB\n",
      "Current GPU Memory Cached: 3.84 GB\n",
      "\n",
      "[Fold 1]\n",
      "Label distribution after resampling:\n",
      "  label 0: 2000\n",
      "  label 1: 200\n",
      "  label 2: 200\n",
      "  label 3: 200\n",
      "  label 4: 205\n",
      "  label 5: 200\n",
      "  label 6: 200\n",
      "  label 7: 200\n",
      "  label 8: 200\n",
      "  label 9: 200\n",
      "  label 10: 200\n",
      "  label 11: 200\n",
      "  label 12: 200\n",
      "  label 13: 200\n",
      "  label 14: 200\n",
      "  label 15: 200\n",
      "  label 16: 200\n",
      "  label 17: 231\n",
      "  label 18: 200\n",
      "  label 19: 200\n",
      "  label 20: 200\n",
      "  label 21: 200\n",
      "  label 22: 200\n",
      "  label 23: 200\n",
      "  label 24: 200\n",
      "  label 25: 200\n",
      "  label 26: 200\n",
      "  label 27: 200\n",
      "  label 28: 200\n",
      "  label 29: 200\n",
      "  label 30: 200\n",
      "  label 31: 200\n",
      "  label 32: 200\n",
      "  label 33: 200\n",
      "  label 34: 200\n",
      "  label 35: 200\n",
      "  label 36: 200\n",
      "  label 37: 200\n",
      "  label 38: 200\n",
      "  label 39: 200\n",
      "  label 40: 200\n",
      "  label 41: 200\n",
      "  label 42: 200\n",
      "  label 43: 200\n",
      "  label 44: 200\n",
      "  label 45: 200\n",
      "  label 46: 200\n",
      "  label 47: 529\n",
      "  label 48: 202\n",
      "  label 49: 200\n",
      "model is roberta-base cnn2filter234drop3\n"
     ]
    },
    {
     "name": "stderr",
     "output_type": "stream",
     "text": [
      "Some weights of RobertaModel were not initialized from the model checkpoint at roberta-base and are newly initialized: ['pooler.dense.bias', 'pooler.dense.weight']\n",
      "You should probably TRAIN this model on a down-stream task to be able to use it for predictions and inference.\n"
     ]
    },
    {
     "name": "stdout",
     "output_type": "stream",
     "text": [
      "Epoch 1/20\n"
     ]
    },
    {
     "name": "stderr",
     "output_type": "stream",
     "text": [
      "100%|██████████| 761/761 [01:07<00:00, 11.20it/s]\n"
     ]
    },
    {
     "name": "stdout",
     "output_type": "stream",
     "text": [
      "{'val_loss': 1.8238564830905986, 'val_accuracy': 0.5026611472501479, 'precision': 0.5580602747324567, 'recall': 0.5026611472501479, 'f1-score': 0.49123240934738394, 'macro_f1-score': 0.19062924930567113, 'balanced_accuracy': 0.26308915506451863, 'mcc': 0.37134383992141984, 'train_loss': 2.938660301610769}\n",
      "Epoch 2/20\n"
     ]
    },
    {
     "name": "stderr",
     "output_type": "stream",
     "text": [
      "100%|██████████| 761/761 [01:07<00:00, 11.22it/s]\n"
     ]
    },
    {
     "name": "stdout",
     "output_type": "stream",
     "text": [
      "{'val_loss': 1.5981664753185127, 'val_accuracy': 0.5558840922531046, 'precision': 0.6207268261303702, 'recall': 0.5558840922531046, 'f1-score': 0.5560069946097765, 'macro_f1-score': 0.30323742205985005, 'balanced_accuracy': 0.3819575030530884, 'mcc': 0.43785503057035396, 'train_loss': 1.4723265644128627}\n",
      "Epoch 3/20\n"
     ]
    },
    {
     "name": "stderr",
     "output_type": "stream",
     "text": [
      "100%|██████████| 761/761 [01:06<00:00, 11.43it/s]\n"
     ]
    },
    {
     "name": "stdout",
     "output_type": "stream",
     "text": [
      "{'val_loss': 1.452859784634608, 'val_accuracy': 0.6085156712004731, 'precision': 0.6394539407594019, 'recall': 0.6085156712004731, 'f1-score': 0.6033399993029377, 'macro_f1-score': 0.36253156594952274, 'balanced_accuracy': 0.4075764656163517, 'mcc': 0.4993780732743024, 'train_loss': 0.8800308461179871}\n",
      "Epoch 4/20\n"
     ]
    },
    {
     "name": "stderr",
     "output_type": "stream",
     "text": [
      "100%|██████████| 761/761 [01:06<00:00, 11.43it/s]\n"
     ]
    },
    {
     "name": "stdout",
     "output_type": "stream",
     "text": [
      "{'val_loss': 1.479075534163781, 'val_accuracy': 0.6250739207569486, 'precision': 0.6768267571567893, 'recall': 0.6250739207569486, 'f1-score': 0.633323594548295, 'macro_f1-score': 0.4017738375189752, 'balanced_accuracy': 0.42970887911446176, 'mcc': 0.5280387774411875, 'train_loss': 0.6278104272410372}\n",
      "Epoch 5/20\n"
     ]
    },
    {
     "name": "stderr",
     "output_type": "stream",
     "text": [
      "100%|██████████| 761/761 [01:06<00:00, 11.43it/s]\n"
     ]
    },
    {
     "name": "stdout",
     "output_type": "stream",
     "text": [
      "{'val_loss': 1.5787062813650887, 'val_accuracy': 0.6221170904790065, 'precision': 0.6853794687177156, 'recall': 0.6221170904790065, 'f1-score': 0.6375885304576329, 'macro_f1-score': 0.42046750252420284, 'balanced_accuracy': 0.46139604365376186, 'mcc': 0.5331942180422949, 'train_loss': 0.47742506823503705}\n",
      "Epoch 6/20\n"
     ]
    },
    {
     "name": "stderr",
     "output_type": "stream",
     "text": [
      "100%|██████████| 761/761 [01:06<00:00, 11.45it/s]\n"
     ]
    },
    {
     "name": "stdout",
     "output_type": "stream",
     "text": [
      "{'val_loss': 1.6022764972920687, 'val_accuracy': 0.6434062684801892, 'precision': 0.6816877805621386, 'recall': 0.6434062684801892, 'f1-score': 0.6511844773783025, 'macro_f1-score': 0.41007199801510763, 'balanced_accuracy': 0.4551334583292001, 'mcc': 0.5426721505712354, 'train_loss': 0.39324316923945907}\n",
      "Epoch 7/20\n"
     ]
    },
    {
     "name": "stderr",
     "output_type": "stream",
     "text": [
      "100%|██████████| 761/761 [01:07<00:00, 11.20it/s]\n"
     ]
    },
    {
     "name": "stdout",
     "output_type": "stream",
     "text": [
      "{'val_loss': 1.6649091114413064, 'val_accuracy': 0.6534594914251922, 'precision': 0.6849166542733413, 'recall': 0.6534594914251922, 'f1-score': 0.6580819829183818, 'macro_f1-score': 0.4136458095259284, 'balanced_accuracy': 0.45181559600646254, 'mcc': 0.5563678953715221, 'train_loss': 0.34961912231752346}\n",
      "Epoch 8/20\n"
     ]
    },
    {
     "name": "stderr",
     "output_type": "stream",
     "text": [
      "100%|██████████| 761/761 [01:07<00:00, 11.22it/s]\n"
     ]
    },
    {
     "name": "stdout",
     "output_type": "stream",
     "text": [
      "{'val_loss': 1.777529607966261, 'val_accuracy': 0.6309875813128326, 'precision': 0.6838261976847955, 'recall': 0.6309875813128326, 'f1-score': 0.6442009719016146, 'macro_f1-score': 0.41459109767782293, 'balanced_accuracy': 0.45845732333187267, 'mcc': 0.5438909998676743, 'train_loss': 0.31272714492055964}\n",
      "Early stopping.\n",
      "\n",
      "[Fold 2]\n",
      "Label distribution after resampling:\n",
      "  label 0: 2000\n",
      "  label 1: 200\n",
      "  label 2: 200\n",
      "  label 3: 200\n",
      "  label 4: 206\n",
      "  label 5: 200\n",
      "  label 6: 200\n",
      "  label 7: 200\n",
      "  label 8: 200\n",
      "  label 9: 200\n",
      "  label 10: 200\n",
      "  label 11: 200\n",
      "  label 12: 200\n",
      "  label 13: 200\n",
      "  label 14: 200\n",
      "  label 15: 200\n",
      "  label 16: 200\n",
      "  label 17: 231\n",
      "  label 18: 200\n",
      "  label 19: 200\n",
      "  label 20: 200\n",
      "  label 21: 200\n",
      "  label 22: 200\n",
      "  label 23: 200\n",
      "  label 24: 200\n",
      "  label 25: 200\n",
      "  label 26: 200\n",
      "  label 27: 200\n",
      "  label 28: 200\n",
      "  label 29: 200\n",
      "  label 30: 200\n",
      "  label 31: 200\n",
      "  label 32: 200\n",
      "  label 33: 200\n",
      "  label 34: 200\n",
      "  label 35: 200\n",
      "  label 36: 200\n",
      "  label 37: 200\n",
      "  label 38: 200\n",
      "  label 39: 200\n",
      "  label 40: 200\n",
      "  label 41: 200\n",
      "  label 42: 200\n",
      "  label 43: 200\n",
      "  label 44: 200\n",
      "  label 45: 200\n",
      "  label 46: 200\n",
      "  label 47: 528\n",
      "  label 48: 202\n",
      "  label 49: 200\n",
      "model is roberta-base cnn2filter234drop3\n"
     ]
    },
    {
     "name": "stderr",
     "output_type": "stream",
     "text": [
      "Some weights of RobertaModel were not initialized from the model checkpoint at roberta-base and are newly initialized: ['pooler.dense.bias', 'pooler.dense.weight']\n",
      "You should probably TRAIN this model on a down-stream task to be able to use it for predictions and inference.\n"
     ]
    },
    {
     "name": "stdout",
     "output_type": "stream",
     "text": [
      "Epoch 1/20\n"
     ]
    },
    {
     "name": "stderr",
     "output_type": "stream",
     "text": [
      "100%|██████████| 761/761 [01:06<00:00, 11.37it/s]\n"
     ]
    },
    {
     "name": "stdout",
     "output_type": "stream",
     "text": [
      "{'val_loss': 1.6957377099765922, 'val_accuracy': 0.5629804849201656, 'precision': 0.46486147284381085, 'recall': 0.5629804849201656, 'f1-score': 0.4976425343397784, 'macro_f1-score': 0.20587009873354561, 'balanced_accuracy': 0.25058542472795414, 'mcc': 0.40207063817167815, 'train_loss': 2.8146063861646415}\n",
      "Epoch 2/20\n"
     ]
    },
    {
     "name": "stderr",
     "output_type": "stream",
     "text": [
      "100%|██████████| 761/761 [01:07<00:00, 11.29it/s]\n"
     ]
    },
    {
     "name": "stdout",
     "output_type": "stream",
     "text": [
      "{'val_loss': 1.474666287876525, 'val_accuracy': 0.5901833234772325, 'precision': 0.6391586710604406, 'recall': 0.5901833234772325, 'f1-score': 0.5780439459463688, 'macro_f1-score': 0.31309871352408836, 'balanced_accuracy': 0.3641170085941156, 'mcc': 0.4703175138322037, 'train_loss': 1.4352417455866209}\n",
      "Epoch 3/20\n"
     ]
    },
    {
     "name": "stderr",
     "output_type": "stream",
     "text": [
      "100%|██████████| 761/761 [01:07<00:00, 11.19it/s]\n"
     ]
    },
    {
     "name": "stdout",
     "output_type": "stream",
     "text": [
      "{'val_loss': 1.5588711744771813, 'val_accuracy': 0.5860437610881135, 'precision': 0.63885128465282, 'recall': 0.5860437610881135, 'f1-score': 0.5902806497275209, 'macro_f1-score': 0.3271772864626369, 'balanced_accuracy': 0.3991582560712949, 'mcc': 0.4821965372612575, 'train_loss': 0.8418874266739744}\n",
      "Epoch 4/20\n"
     ]
    },
    {
     "name": "stderr",
     "output_type": "stream",
     "text": [
      "100%|██████████| 761/761 [01:06<00:00, 11.40it/s]\n"
     ]
    },
    {
     "name": "stdout",
     "output_type": "stream",
     "text": [
      "{'val_loss': 1.6251945506851628, 'val_accuracy': 0.6132465996451804, 'precision': 0.652048951396505, 'recall': 0.6132465996451804, 'f1-score': 0.618645939050545, 'macro_f1-score': 0.3697453343943075, 'balanced_accuracy': 0.43981446246442935, 'mcc': 0.5118916743252256, 'train_loss': 0.6095425055096717}\n",
      "Epoch 5/20\n"
     ]
    },
    {
     "name": "stderr",
     "output_type": "stream",
     "text": [
      "100%|██████████| 761/761 [01:06<00:00, 11.42it/s]\n"
     ]
    },
    {
     "name": "stdout",
     "output_type": "stream",
     "text": [
      "{'val_loss': 1.598330147986142, 'val_accuracy': 0.6298048492016558, 'precision': 0.6544923483428635, 'recall': 0.6298048492016558, 'f1-score': 0.6330600948232262, 'macro_f1-score': 0.3902270809356341, 'balanced_accuracy': 0.44539059124982955, 'mcc': 0.5254516872114748, 'train_loss': 0.465440529419425}\n",
      "Epoch 6/20\n"
     ]
    },
    {
     "name": "stderr",
     "output_type": "stream",
     "text": [
      "100%|██████████| 761/761 [01:06<00:00, 11.41it/s]\n"
     ]
    },
    {
     "name": "stdout",
     "output_type": "stream",
     "text": [
      "{'val_loss': 1.661904608865954, 'val_accuracy': 0.6741573033707865, 'precision': 0.658456896601758, 'recall': 0.6741573033707865, 'f1-score': 0.6583276158785796, 'macro_f1-score': 0.4061634696383537, 'balanced_accuracy': 0.4095292502952952, 'mcc': 0.5649977781247321, 'train_loss': 0.4034543524247823}\n",
      "Epoch 7/20\n"
     ]
    },
    {
     "name": "stderr",
     "output_type": "stream",
     "text": [
      "100%|██████████| 761/761 [01:06<00:00, 11.42it/s]\n"
     ]
    },
    {
     "name": "stdout",
     "output_type": "stream",
     "text": [
      "{'val_loss': 1.7071821054197707, 'val_accuracy': 0.6664695446481372, 'precision': 0.6426804240519901, 'recall': 0.6664695446481372, 'f1-score': 0.6339021403962668, 'macro_f1-score': 0.3784017537747673, 'balanced_accuracy': 0.36752632580802, 'mcc': 0.5413188918801453, 'train_loss': 0.3586845762388837}\n",
      "Epoch 8/20\n"
     ]
    },
    {
     "name": "stderr",
     "output_type": "stream",
     "text": [
      "100%|██████████| 761/761 [01:06<00:00, 11.44it/s]\n"
     ]
    },
    {
     "name": "stdout",
     "output_type": "stream",
     "text": [
      "{'val_loss': 1.7377454728450414, 'val_accuracy': 0.6067415730337079, 'precision': 0.6464242692858774, 'recall': 0.6067415730337079, 'f1-score': 0.6169713932486225, 'macro_f1-score': 0.3749485895411959, 'balanced_accuracy': 0.41344496663978253, 'mcc': 0.510152879032247, 'train_loss': 0.32254463945773676}\n",
      "Epoch 9/20\n"
     ]
    },
    {
     "name": "stderr",
     "output_type": "stream",
     "text": [
      "100%|██████████| 761/761 [01:06<00:00, 11.41it/s]\n"
     ]
    },
    {
     "name": "stdout",
     "output_type": "stream",
     "text": [
      "{'val_loss': 1.8181540122571982, 'val_accuracy': 0.6138379657007688, 'precision': 0.6608099937758424, 'recall': 0.6138379657007688, 'f1-score': 0.6206251930670494, 'macro_f1-score': 0.37401566726539104, 'balanced_accuracy': 0.4020865090435979, 'mcc': 0.5202475449303855, 'train_loss': 0.31507503992722474}\n",
      "Early stopping.\n",
      "\n",
      "[Fold 3]\n",
      "Label distribution after resampling:\n",
      "  label 0: 2000\n",
      "  label 1: 200\n",
      "  label 2: 200\n",
      "  label 3: 200\n",
      "  label 4: 206\n",
      "  label 5: 200\n",
      "  label 6: 200\n",
      "  label 7: 200\n",
      "  label 8: 200\n",
      "  label 9: 200\n",
      "  label 10: 200\n",
      "  label 11: 200\n",
      "  label 12: 200\n",
      "  label 13: 200\n",
      "  label 14: 200\n",
      "  label 15: 200\n",
      "  label 16: 200\n",
      "  label 17: 231\n",
      "  label 18: 200\n",
      "  label 19: 200\n",
      "  label 20: 200\n",
      "  label 21: 200\n",
      "  label 22: 200\n",
      "  label 23: 200\n",
      "  label 24: 200\n",
      "  label 25: 200\n",
      "  label 26: 200\n",
      "  label 27: 200\n",
      "  label 28: 200\n",
      "  label 29: 200\n",
      "  label 30: 200\n",
      "  label 31: 200\n",
      "  label 32: 200\n",
      "  label 33: 200\n",
      "  label 34: 200\n",
      "  label 35: 200\n",
      "  label 36: 200\n",
      "  label 37: 200\n",
      "  label 38: 200\n",
      "  label 39: 200\n",
      "  label 40: 200\n",
      "  label 41: 200\n",
      "  label 42: 200\n",
      "  label 43: 200\n",
      "  label 44: 200\n",
      "  label 45: 200\n",
      "  label 46: 200\n",
      "  label 47: 529\n",
      "  label 48: 201\n",
      "  label 49: 200\n",
      "model is roberta-base cnn2filter234drop3\n"
     ]
    },
    {
     "name": "stderr",
     "output_type": "stream",
     "text": [
      "Some weights of RobertaModel were not initialized from the model checkpoint at roberta-base and are newly initialized: ['pooler.dense.bias', 'pooler.dense.weight']\n",
      "You should probably TRAIN this model on a down-stream task to be able to use it for predictions and inference.\n"
     ]
    },
    {
     "name": "stdout",
     "output_type": "stream",
     "text": [
      "Epoch 1/20\n"
     ]
    },
    {
     "name": "stderr",
     "output_type": "stream",
     "text": [
      "100%|██████████| 761/761 [01:06<00:00, 11.39it/s]\n"
     ]
    },
    {
     "name": "stdout",
     "output_type": "stream",
     "text": [
      "{'val_loss': 1.763559304318338, 'val_accuracy': 0.5399172087522176, 'precision': 0.5405682112103305, 'recall': 0.5399172087522176, 'f1-score': 0.5243957912759593, 'macro_f1-score': 0.22944300599381343, 'balanced_accuracy': 0.31376811416644296, 'mcc': 0.40935751197703496, 'train_loss': 2.697809388697069}\n",
      "Epoch 2/20\n"
     ]
    },
    {
     "name": "stderr",
     "output_type": "stream",
     "text": [
      "100%|██████████| 761/761 [01:06<00:00, 11.39it/s]\n"
     ]
    },
    {
     "name": "stdout",
     "output_type": "stream",
     "text": [
      "{'val_loss': 1.4970436287376117, 'val_accuracy': 0.5937315198107629, 'precision': 0.6491257744025839, 'recall': 0.5937315198107629, 'f1-score': 0.5910513717064533, 'macro_f1-score': 0.33620316274461914, 'balanced_accuracy': 0.3926326459029741, 'mcc': 0.480408555717158, 'train_loss': 1.3124966194140926}\n",
      "Epoch 3/20\n"
     ]
    },
    {
     "name": "stderr",
     "output_type": "stream",
     "text": [
      "100%|██████████| 761/761 [01:07<00:00, 11.33it/s]\n"
     ]
    },
    {
     "name": "stdout",
     "output_type": "stream",
     "text": [
      "{'val_loss': 1.479288712425052, 'val_accuracy': 0.6173861620342992, 'precision': 0.6219462162866087, 'recall': 0.6173861620342992, 'f1-score': 0.6016470897034828, 'macro_f1-score': 0.335561041112115, 'balanced_accuracy': 0.3559396600731891, 'mcc': 0.49375997391661985, 'train_loss': 0.7717337121357273}\n",
      "Epoch 4/20\n"
     ]
    },
    {
     "name": "stderr",
     "output_type": "stream",
     "text": [
      "100%|██████████| 761/761 [01:06<00:00, 11.43it/s]\n"
     ]
    },
    {
     "name": "stdout",
     "output_type": "stream",
     "text": [
      "{'val_loss': 1.5840267463112778, 'val_accuracy': 0.6203429923122413, 'precision': 0.6350224472758527, 'recall': 0.6203429923122413, 'f1-score': 0.6197600207419186, 'macro_f1-score': 0.3528577225764756, 'balanced_accuracy': 0.36643763496889187, 'mcc': 0.5098545938002584, 'train_loss': 0.5501495127403392}\n",
      "Epoch 5/20\n"
     ]
    },
    {
     "name": "stderr",
     "output_type": "stream",
     "text": [
      "100%|██████████| 761/761 [01:06<00:00, 11.42it/s]\n"
     ]
    },
    {
     "name": "stdout",
     "output_type": "stream",
     "text": [
      "{'val_loss': 1.6157712987009085, 'val_accuracy': 0.6481371969248965, 'precision': 0.6328964905906237, 'recall': 0.6481371969248965, 'f1-score': 0.620257774742781, 'macro_f1-score': 0.32694147626131764, 'balanced_accuracy': 0.33720686079426615, 'mcc': 0.522222962765981, 'train_loss': 0.44552613049990325}\n",
      "Epoch 6/20\n"
     ]
    },
    {
     "name": "stderr",
     "output_type": "stream",
     "text": [
      "100%|██████████| 761/761 [01:06<00:00, 11.41it/s]\n"
     ]
    },
    {
     "name": "stdout",
     "output_type": "stream",
     "text": [
      "{'val_loss': 1.6775212085471962, 'val_accuracy': 0.6108811354228267, 'precision': 0.6659153436817611, 'recall': 0.6108811354228267, 'f1-score': 0.6212927334148781, 'macro_f1-score': 0.36812926407614066, 'balanced_accuracy': 0.3985711014559479, 'mcc': 0.5091744566818329, 'train_loss': 0.3857655503888677}\n",
      "Epoch 7/20\n"
     ]
    },
    {
     "name": "stderr",
     "output_type": "stream",
     "text": [
      "100%|██████████| 761/761 [01:07<00:00, 11.36it/s]\n"
     ]
    },
    {
     "name": "stdout",
     "output_type": "stream",
     "text": [
      "{'val_loss': 1.747478243596149, 'val_accuracy': 0.6475458308693081, 'precision': 0.6642292484388069, 'recall': 0.6475458308693081, 'f1-score': 0.6439774463224862, 'macro_f1-score': 0.38917352062248894, 'balanced_accuracy': 0.39546343657851785, 'mcc': 0.5369688098676236, 'train_loss': 0.3374116170206615}\n",
      "Epoch 8/20\n"
     ]
    },
    {
     "name": "stderr",
     "output_type": "stream",
     "text": [
      "100%|██████████| 761/761 [01:06<00:00, 11.37it/s]\n"
     ]
    },
    {
     "name": "stdout",
     "output_type": "stream",
     "text": [
      "{'val_loss': 1.7513803550094929, 'val_accuracy': 0.644589000591366, 'precision': 0.6538708989771753, 'recall': 0.644589000591366, 'f1-score': 0.6373883819847955, 'macro_f1-score': 0.3721863606863792, 'balanced_accuracy': 0.3828287148192917, 'mcc': 0.5307086318752005, 'train_loss': 0.3121966459615824}\n",
      "Epoch 9/20\n"
     ]
    },
    {
     "name": "stderr",
     "output_type": "stream",
     "text": [
      "100%|██████████| 761/761 [01:06<00:00, 11.42it/s]\n"
     ]
    },
    {
     "name": "stdout",
     "output_type": "stream",
     "text": [
      "{'val_loss': 1.9105947276331343, 'val_accuracy': 0.63571850975754, 'precision': 0.6422615327263245, 'recall': 0.63571850975754, 'f1-score': 0.6250469921658842, 'macro_f1-score': 0.3487545410154673, 'balanced_accuracy': 0.3696668315053841, 'mcc': 0.5227536918184752, 'train_loss': 0.2961344449559371}\n",
      "Epoch 10/20\n"
     ]
    },
    {
     "name": "stderr",
     "output_type": "stream",
     "text": [
      "100%|██████████| 761/761 [01:06<00:00, 11.40it/s]\n"
     ]
    },
    {
     "name": "stdout",
     "output_type": "stream",
     "text": [
      "{'val_loss': 1.9878812083658182, 'val_accuracy': 0.5830869308101715, 'precision': 0.6491163864473743, 'recall': 0.5830869308101715, 'f1-score': 0.5992715834978025, 'macro_f1-score': 0.36138124174236397, 'balanced_accuracy': 0.3989335058390089, 'mcc': 0.49180904172902307, 'train_loss': 0.25283821042212223}\n",
      "Early stopping.\n",
      "\n",
      "[Fold 4]\n",
      "Label distribution after resampling:\n",
      "  label 0: 2000\n",
      "  label 1: 200\n",
      "  label 2: 200\n",
      "  label 3: 200\n",
      "  label 4: 206\n",
      "  label 5: 200\n",
      "  label 6: 200\n",
      "  label 7: 200\n",
      "  label 8: 200\n",
      "  label 9: 200\n",
      "  label 10: 200\n",
      "  label 11: 200\n",
      "  label 12: 200\n",
      "  label 13: 200\n",
      "  label 14: 200\n",
      "  label 15: 200\n",
      "  label 16: 200\n",
      "  label 17: 232\n",
      "  label 18: 200\n",
      "  label 19: 200\n",
      "  label 20: 200\n",
      "  label 21: 200\n",
      "  label 22: 200\n",
      "  label 23: 200\n",
      "  label 24: 200\n",
      "  label 25: 200\n",
      "  label 26: 200\n",
      "  label 27: 200\n",
      "  label 28: 200\n",
      "  label 29: 200\n",
      "  label 30: 200\n",
      "  label 31: 200\n",
      "  label 32: 200\n",
      "  label 33: 200\n",
      "  label 34: 200\n",
      "  label 35: 200\n",
      "  label 36: 200\n",
      "  label 37: 200\n",
      "  label 38: 200\n",
      "  label 39: 200\n",
      "  label 40: 200\n",
      "  label 41: 200\n",
      "  label 42: 200\n",
      "  label 43: 200\n",
      "  label 44: 200\n",
      "  label 45: 200\n",
      "  label 46: 200\n",
      "  label 47: 529\n",
      "  label 48: 201\n",
      "  label 49: 200\n",
      "model is roberta-base cnn2filter234drop3\n"
     ]
    },
    {
     "name": "stderr",
     "output_type": "stream",
     "text": [
      "Some weights of RobertaModel were not initialized from the model checkpoint at roberta-base and are newly initialized: ['pooler.dense.bias', 'pooler.dense.weight']\n",
      "You should probably TRAIN this model on a down-stream task to be able to use it for predictions and inference.\n"
     ]
    },
    {
     "name": "stdout",
     "output_type": "stream",
     "text": [
      "Epoch 1/20\n"
     ]
    },
    {
     "name": "stderr",
     "output_type": "stream",
     "text": [
      "100%|██████████| 761/761 [01:06<00:00, 11.41it/s]\n"
     ]
    },
    {
     "name": "stdout",
     "output_type": "stream",
     "text": [
      "{'val_loss': 1.7024687759156496, 'val_accuracy': 0.5700768775872265, 'precision': 0.47536948431108145, 'recall': 0.5700768775872265, 'f1-score': 0.5083261445896644, 'macro_f1-score': 0.19414011340327839, 'balanced_accuracy': 0.2729632890199804, 'mcc': 0.4202115960199559, 'train_loss': 2.8679268156495263}\n",
      "Epoch 2/20\n"
     ]
    },
    {
     "name": "stderr",
     "output_type": "stream",
     "text": [
      "100%|██████████| 761/761 [01:06<00:00, 11.39it/s]\n"
     ]
    },
    {
     "name": "stdout",
     "output_type": "stream",
     "text": [
      "{'val_loss': 1.4501432119956557, 'val_accuracy': 0.5925487876995861, 'precision': 0.6117516901885229, 'recall': 0.5925487876995861, 'f1-score': 0.5854305267665174, 'macro_f1-score': 0.313840996702214, 'balanced_accuracy': 0.386135524020196, 'mcc': 0.47396799098676745, 'train_loss': 1.442103502471563}\n",
      "Epoch 3/20\n"
     ]
    },
    {
     "name": "stderr",
     "output_type": "stream",
     "text": [
      "100%|██████████| 761/761 [01:06<00:00, 11.43it/s]\n"
     ]
    },
    {
     "name": "stdout",
     "output_type": "stream",
     "text": [
      "{'val_loss': 1.5122547444869887, 'val_accuracy': 0.5972797161442933, 'precision': 0.6339270923804954, 'recall': 0.5972797161442933, 'f1-score': 0.5992296337093981, 'macro_f1-score': 0.37260324129269007, 'balanced_accuracy': 0.4336513775825982, 'mcc': 0.49785275633777093, 'train_loss': 0.8313521976226576}\n",
      "Epoch 4/20\n"
     ]
    },
    {
     "name": "stderr",
     "output_type": "stream",
     "text": [
      "100%|██████████| 761/761 [01:06<00:00, 11.42it/s]\n"
     ]
    },
    {
     "name": "stdout",
     "output_type": "stream",
     "text": [
      "{'val_loss': 1.4995054436742135, 'val_accuracy': 0.6179775280898876, 'precision': 0.6883266915338182, 'recall': 0.6179775280898876, 'f1-score': 0.6368772504012525, 'macro_f1-score': 0.4109063996733542, 'balanced_accuracy': 0.4543873632531596, 'mcc': 0.5196984387136384, 'train_loss': 0.5944758699705112}\n",
      "Epoch 5/20\n"
     ]
    },
    {
     "name": "stderr",
     "output_type": "stream",
     "text": [
      "100%|██████████| 761/761 [01:06<00:00, 11.40it/s]\n"
     ]
    },
    {
     "name": "stdout",
     "output_type": "stream",
     "text": [
      "{'val_loss': 1.5464900349670987, 'val_accuracy': 0.6298048492016558, 'precision': 0.6805576805103919, 'recall': 0.6298048492016558, 'f1-score': 0.6377146586781538, 'macro_f1-score': 0.41768716439808534, 'balanced_accuracy': 0.4429165581686035, 'mcc': 0.5262807150745912, 'train_loss': 0.45925297589578545}\n",
      "Epoch 6/20\n"
     ]
    },
    {
     "name": "stderr",
     "output_type": "stream",
     "text": [
      "100%|██████████| 761/761 [01:06<00:00, 11.43it/s]\n"
     ]
    },
    {
     "name": "stdout",
     "output_type": "stream",
     "text": [
      "{'val_loss': 1.5630983718723621, 'val_accuracy': 0.6457717327025428, 'precision': 0.6745813106448619, 'recall': 0.6457717327025428, 'f1-score': 0.6451063399704604, 'macro_f1-score': 0.4045442067643401, 'balanced_accuracy': 0.4349964655315259, 'mcc': 0.5427234073937545, 'train_loss': 0.384293179062003}\n",
      "Epoch 7/20\n"
     ]
    },
    {
     "name": "stderr",
     "output_type": "stream",
     "text": [
      "100%|██████████| 761/761 [01:06<00:00, 11.40it/s]\n"
     ]
    },
    {
     "name": "stdout",
     "output_type": "stream",
     "text": [
      "{'val_loss': 1.639258639148946, 'val_accuracy': 0.6380839739798936, 'precision': 0.6909722045197271, 'recall': 0.6380839739798936, 'f1-score': 0.6433941229633268, 'macro_f1-score': 0.41350221929850767, 'balanced_accuracy': 0.4432885632400145, 'mcc': 0.5377231432545675, 'train_loss': 0.3384251531945363}\n",
      "Epoch 8/20\n"
     ]
    },
    {
     "name": "stderr",
     "output_type": "stream",
     "text": [
      "100%|██████████| 761/761 [01:06<00:00, 11.43it/s]\n"
     ]
    },
    {
     "name": "stdout",
     "output_type": "stream",
     "text": [
      "{'val_loss': 1.5763532013263342, 'val_accuracy': 0.6380839739798936, 'precision': 0.6679173636952891, 'recall': 0.6380839739798936, 'f1-score': 0.6427922440869953, 'macro_f1-score': 0.40819665067777444, 'balanced_accuracy': 0.4289170562212469, 'mcc': 0.5318844284728558, 'train_loss': 0.3051842806607475}\n",
      "Early stopping.\n",
      "\n",
      "[Fold 5]\n",
      "Label distribution after resampling:\n",
      "  label 0: 2000\n",
      "  label 1: 200\n",
      "  label 2: 200\n",
      "  label 3: 200\n",
      "  label 4: 205\n",
      "  label 5: 200\n",
      "  label 6: 200\n",
      "  label 7: 200\n",
      "  label 8: 200\n",
      "  label 9: 200\n",
      "  label 10: 200\n",
      "  label 11: 200\n",
      "  label 12: 200\n",
      "  label 13: 200\n",
      "  label 14: 200\n",
      "  label 15: 200\n",
      "  label 16: 200\n",
      "  label 17: 231\n",
      "  label 18: 200\n",
      "  label 19: 200\n",
      "  label 20: 200\n",
      "  label 21: 200\n",
      "  label 22: 200\n",
      "  label 23: 200\n",
      "  label 24: 200\n",
      "  label 25: 200\n",
      "  label 26: 200\n",
      "  label 27: 200\n",
      "  label 28: 200\n",
      "  label 29: 200\n",
      "  label 30: 200\n",
      "  label 31: 200\n",
      "  label 32: 200\n",
      "  label 33: 200\n",
      "  label 34: 200\n",
      "  label 35: 200\n",
      "  label 36: 200\n",
      "  label 37: 200\n",
      "  label 38: 200\n",
      "  label 39: 200\n",
      "  label 40: 200\n",
      "  label 41: 200\n",
      "  label 42: 200\n",
      "  label 43: 200\n",
      "  label 44: 200\n",
      "  label 45: 200\n",
      "  label 46: 200\n",
      "  label 47: 529\n",
      "  label 48: 202\n",
      "  label 49: 200\n",
      "model is roberta-base cnn2filter234drop3\n"
     ]
    },
    {
     "name": "stderr",
     "output_type": "stream",
     "text": [
      "Some weights of RobertaModel were not initialized from the model checkpoint at roberta-base and are newly initialized: ['pooler.dense.bias', 'pooler.dense.weight']\n",
      "You should probably TRAIN this model on a down-stream task to be able to use it for predictions and inference.\n"
     ]
    },
    {
     "name": "stdout",
     "output_type": "stream",
     "text": [
      "Epoch 1/20\n"
     ]
    },
    {
     "name": "stderr",
     "output_type": "stream",
     "text": [
      "100%|██████████| 761/761 [01:06<00:00, 11.42it/s]\n"
     ]
    },
    {
     "name": "stdout",
     "output_type": "stream",
     "text": [
      "{'val_loss': 1.6188302411223359, 'val_accuracy': 0.5585798816568047, 'precision': 0.49610745166337483, 'recall': 0.5585798816568047, 'f1-score': 0.4963939919582593, 'macro_f1-score': 0.1767169249808529, 'balanced_accuracy': 0.24626649966925396, 'mcc': 0.3876124031595214, 'train_loss': 2.6747903600628837}\n",
      "Epoch 2/20\n"
     ]
    },
    {
     "name": "stderr",
     "output_type": "stream",
     "text": [
      "100%|██████████| 761/761 [01:06<00:00, 11.40it/s]\n"
     ]
    },
    {
     "name": "stdout",
     "output_type": "stream",
     "text": [
      "{'val_loss': 1.4454597527126096, 'val_accuracy': 0.6100591715976331, 'precision': 0.6378386826331011, 'recall': 0.6100591715976331, 'f1-score': 0.5967530777054463, 'macro_f1-score': 0.34029323070292455, 'balanced_accuracy': 0.3603402478806327, 'mcc': 0.4853606052044685, 'train_loss': 1.273683356275383}\n",
      "Epoch 3/20\n"
     ]
    },
    {
     "name": "stderr",
     "output_type": "stream",
     "text": [
      "100%|██████████| 761/761 [01:06<00:00, 11.41it/s]\n"
     ]
    },
    {
     "name": "stdout",
     "output_type": "stream",
     "text": [
      "{'val_loss': 1.447773349734972, 'val_accuracy': 0.6278106508875739, 'precision': 0.6561855060194131, 'recall': 0.6278106508875739, 'f1-score': 0.6274578714867881, 'macro_f1-score': 0.36733378098694236, 'balanced_accuracy': 0.40067515066805465, 'mcc': 0.5202013960106723, 'train_loss': 0.7488125321821221}\n",
      "Epoch 4/20\n"
     ]
    },
    {
     "name": "stderr",
     "output_type": "stream",
     "text": [
      "100%|██████████| 761/761 [01:06<00:00, 11.41it/s]\n"
     ]
    },
    {
     "name": "stdout",
     "output_type": "stream",
     "text": [
      "{'val_loss': 1.524161216223015, 'val_accuracy': 0.6289940828402367, 'precision': 0.6577144328682801, 'recall': 0.6289940828402367, 'f1-score': 0.6275548138798235, 'macro_f1-score': 0.3592025441692341, 'balanced_accuracy': 0.3823842733803566, 'mcc': 0.5233156181431399, 'train_loss': 0.5331300138624363}\n",
      "Epoch 5/20\n"
     ]
    },
    {
     "name": "stderr",
     "output_type": "stream",
     "text": [
      "100%|██████████| 761/761 [01:06<00:00, 11.45it/s]\n"
     ]
    },
    {
     "name": "stdout",
     "output_type": "stream",
     "text": [
      "{'val_loss': 1.501907687704518, 'val_accuracy': 0.6710059171597633, 'precision': 0.6794259684616814, 'recall': 0.6710059171597633, 'f1-score': 0.6535087758407245, 'macro_f1-score': 0.38481969192554566, 'balanced_accuracy': 0.395491995666553, 'mcc': 0.5665715456677513, 'train_loss': 0.4402754152861868}\n",
      "Epoch 6/20\n"
     ]
    },
    {
     "name": "stderr",
     "output_type": "stream",
     "text": [
      "100%|██████████| 761/761 [01:06<00:00, 11.41it/s]\n"
     ]
    },
    {
     "name": "stdout",
     "output_type": "stream",
     "text": [
      "{'val_loss': 1.740710716624305, 'val_accuracy': 0.6278106508875739, 'precision': 0.6836927961860242, 'recall': 0.6278106508875739, 'f1-score': 0.6382234993144685, 'macro_f1-score': 0.39628239134956933, 'balanced_accuracy': 0.40895592962168154, 'mcc': 0.5320776572160882, 'train_loss': 0.37512199190027923}\n",
      "Epoch 7/20\n"
     ]
    },
    {
     "name": "stderr",
     "output_type": "stream",
     "text": [
      "100%|██████████| 761/761 [01:06<00:00, 11.42it/s]\n"
     ]
    },
    {
     "name": "stdout",
     "output_type": "stream",
     "text": [
      "{'val_loss': 1.5256340194423244, 'val_accuracy': 0.6674556213017752, 'precision': 0.663100346644734, 'recall': 0.6674556213017752, 'f1-score': 0.654601074239044, 'macro_f1-score': 0.3914626534226512, 'balanced_accuracy': 0.3823785423077043, 'mcc': 0.5552205616174306, 'train_loss': 0.3399069569637796}\n",
      "Epoch 8/20\n"
     ]
    },
    {
     "name": "stderr",
     "output_type": "stream",
     "text": [
      "100%|██████████| 761/761 [01:06<00:00, 11.42it/s]\n"
     ]
    },
    {
     "name": "stdout",
     "output_type": "stream",
     "text": [
      "{'val_loss': 1.6404215654112257, 'val_accuracy': 0.6585798816568047, 'precision': 0.6848026968948092, 'recall': 0.6585798816568047, 'f1-score': 0.659116995260656, 'macro_f1-score': 0.3996087467589869, 'balanced_accuracy': 0.4141355329821132, 'mcc': 0.560938371350819, 'train_loss': 0.2906252151861806}\n",
      "Epoch 9/20\n"
     ]
    },
    {
     "name": "stderr",
     "output_type": "stream",
     "text": [
      "100%|██████████| 761/761 [01:06<00:00, 11.43it/s]\n"
     ]
    },
    {
     "name": "stdout",
     "output_type": "stream",
     "text": [
      "{'val_loss': 1.8004205724540747, 'val_accuracy': 0.6461538461538462, 'precision': 0.661627706228988, 'recall': 0.6461538461538462, 'f1-score': 0.633859313881896, 'macro_f1-score': 0.38194077465396853, 'balanced_accuracy': 0.3747961354964793, 'mcc': 0.5308750391047851, 'train_loss': 0.2756798622882515}\n",
      "Epoch 10/20\n"
     ]
    },
    {
     "name": "stderr",
     "output_type": "stream",
     "text": [
      "100%|██████████| 761/761 [01:06<00:00, 11.43it/s]\n"
     ]
    },
    {
     "name": "stdout",
     "output_type": "stream",
     "text": [
      "{'val_loss': 1.6975569800948196, 'val_accuracy': 0.6568047337278107, 'precision': 0.6838779562529351, 'recall': 0.6568047337278107, 'f1-score': 0.6588062764136104, 'macro_f1-score': 0.3942328929142882, 'balanced_accuracy': 0.40765440966255917, 'mcc': 0.5583864693663765, 'train_loss': 0.2908704829274991}\n",
      "Epoch 11/20\n"
     ]
    },
    {
     "name": "stderr",
     "output_type": "stream",
     "text": [
      "100%|██████████| 761/761 [01:06<00:00, 11.40it/s]\n"
     ]
    },
    {
     "name": "stdout",
     "output_type": "stream",
     "text": [
      "{'val_loss': 1.947934847676529, 'val_accuracy': 0.6224852071005917, 'precision': 0.6747694539016078, 'recall': 0.6224852071005917, 'f1-score': 0.6360910403168014, 'macro_f1-score': 0.38571851077138974, 'balanced_accuracy': 0.41467776923660227, 'mcc': 0.5269491059532418, 'train_loss': 0.24918069641696933}\n",
      "Early stopping.\n",
      "\n",
      " === roberta-base + cnn2filter234drop3 + ros Final 5-fold Cross-Validation Results ===\n",
      "Total time: 3247 seconds\n",
      "Total time: 0 hrs 54 mins 7 secs\n",
      "val_loss: 1.6350\n",
      "val_accuracy: 0.6464\n",
      "precision: 0.6747\n",
      "recall: 0.6464\n",
      "f1-score: 0.6473\n",
      "macro_f1-score: 0.4066\n",
      "balanced_accuracy: 0.4247\n",
      "mcc: 0.5445\n",
      "train_loss: 0.3936\n",
      "▶ Running: roberta-base + cnn2filter234drop5 + ros\n",
      "tokenizer is roberta-base\n",
      "Using device: cuda\n",
      "CUDA Available: True\n",
      "CUDA Device: NVIDIA GeForce RTX 5070 Ti\n",
      "Current GPU Memory Allocated: 0.02 GB\n",
      "Current GPU Memory Cached: 3.85 GB\n",
      "\n",
      "[Fold 1]\n",
      "Label distribution after resampling:\n",
      "  label 0: 2000\n",
      "  label 1: 200\n",
      "  label 2: 200\n",
      "  label 3: 200\n",
      "  label 4: 205\n",
      "  label 5: 200\n",
      "  label 6: 200\n",
      "  label 7: 200\n",
      "  label 8: 200\n",
      "  label 9: 200\n",
      "  label 10: 200\n",
      "  label 11: 200\n",
      "  label 12: 200\n",
      "  label 13: 200\n",
      "  label 14: 200\n",
      "  label 15: 200\n",
      "  label 16: 200\n",
      "  label 17: 231\n",
      "  label 18: 200\n",
      "  label 19: 200\n",
      "  label 20: 200\n",
      "  label 21: 200\n",
      "  label 22: 200\n",
      "  label 23: 200\n",
      "  label 24: 200\n",
      "  label 25: 200\n",
      "  label 26: 200\n",
      "  label 27: 200\n",
      "  label 28: 200\n",
      "  label 29: 200\n",
      "  label 30: 200\n",
      "  label 31: 200\n",
      "  label 32: 200\n",
      "  label 33: 200\n",
      "  label 34: 200\n",
      "  label 35: 200\n",
      "  label 36: 200\n",
      "  label 37: 200\n",
      "  label 38: 200\n",
      "  label 39: 200\n",
      "  label 40: 200\n",
      "  label 41: 200\n",
      "  label 42: 200\n",
      "  label 43: 200\n",
      "  label 44: 200\n",
      "  label 45: 200\n",
      "  label 46: 200\n",
      "  label 47: 529\n",
      "  label 48: 202\n",
      "  label 49: 200\n",
      "model is roberta-base cnn2filter234drop5\n"
     ]
    },
    {
     "name": "stderr",
     "output_type": "stream",
     "text": [
      "Some weights of RobertaModel were not initialized from the model checkpoint at roberta-base and are newly initialized: ['pooler.dense.bias', 'pooler.dense.weight']\n",
      "You should probably TRAIN this model on a down-stream task to be able to use it for predictions and inference.\n"
     ]
    },
    {
     "name": "stdout",
     "output_type": "stream",
     "text": [
      "Epoch 1/20\n"
     ]
    },
    {
     "name": "stderr",
     "output_type": "stream",
     "text": [
      "100%|██████████| 761/761 [01:06<00:00, 11.44it/s]\n"
     ]
    },
    {
     "name": "stdout",
     "output_type": "stream",
     "text": [
      "{'val_loss': 1.8241913262403235, 'val_accuracy': 0.5334121821407452, 'precision': 0.4812266703335375, 'recall': 0.5334121821407452, 'f1-score': 0.4820668336627103, 'macro_f1-score': 0.16929459291775514, 'balanced_accuracy': 0.2276931235541226, 'mcc': 0.3682231838060958, 'train_loss': 3.0960545215594157}\n",
      "Epoch 2/20\n"
     ]
    },
    {
     "name": "stderr",
     "output_type": "stream",
     "text": [
      "100%|██████████| 761/761 [01:06<00:00, 11.41it/s]\n"
     ]
    },
    {
     "name": "stdout",
     "output_type": "stream",
     "text": [
      "{'val_loss': 1.674769659087343, 'val_accuracy': 0.524541691306919, 'precision': 0.611022838757562, 'recall': 0.524541691306919, 'f1-score': 0.543730474024676, 'macro_f1-score': 0.2832755436109352, 'balanced_accuracy': 0.36295164778775657, 'mcc': 0.4086849021560581, 'train_loss': 1.7798500778483968}\n",
      "Epoch 3/20\n"
     ]
    },
    {
     "name": "stderr",
     "output_type": "stream",
     "text": [
      "100%|██████████| 761/761 [01:06<00:00, 11.43it/s]\n"
     ]
    },
    {
     "name": "stdout",
     "output_type": "stream",
     "text": [
      "{'val_loss': 1.5427445223871268, 'val_accuracy': 0.5742164399763453, 'precision': 0.6479781387209825, 'recall': 0.5742164399763453, 'f1-score': 0.5850711610560477, 'macro_f1-score': 0.33566758582258166, 'balanced_accuracy': 0.3945190247355783, 'mcc': 0.459793070232293, 'train_loss': 1.0968295418009966}\n",
      "Epoch 4/20\n"
     ]
    },
    {
     "name": "stderr",
     "output_type": "stream",
     "text": [
      "100%|██████████| 761/761 [01:06<00:00, 11.43it/s]\n"
     ]
    },
    {
     "name": "stdout",
     "output_type": "stream",
     "text": [
      "{'val_loss': 1.5792773765213084, 'val_accuracy': 0.5972797161442933, 'precision': 0.6343103667436366, 'recall': 0.5972797161442933, 'f1-score': 0.6004684856924319, 'macro_f1-score': 0.3331107544031601, 'balanced_accuracy': 0.38416617263194935, 'mcc': 0.488899819879922, 'train_loss': 0.7575222013050718}\n",
      "Epoch 5/20\n"
     ]
    },
    {
     "name": "stderr",
     "output_type": "stream",
     "text": [
      "100%|██████████| 761/761 [01:06<00:00, 11.42it/s]\n"
     ]
    },
    {
     "name": "stdout",
     "output_type": "stream",
     "text": [
      "{'val_loss': 1.5730975602033004, 'val_accuracy': 0.6339444115907746, 'precision': 0.6556668106398634, 'recall': 0.6339444115907746, 'f1-score': 0.6304096095920051, 'macro_f1-score': 0.3722934327057558, 'balanced_accuracy': 0.3907826183464354, 'mcc': 0.5245744485964232, 'train_loss': 0.5940092288682166}\n",
      "Epoch 6/20\n"
     ]
    },
    {
     "name": "stderr",
     "output_type": "stream",
     "text": [
      "100%|██████████| 761/761 [01:06<00:00, 11.41it/s]\n"
     ]
    },
    {
     "name": "stdout",
     "output_type": "stream",
     "text": [
      "{'val_loss': 1.5885261735826168, 'val_accuracy': 0.628622117090479, 'precision': 0.6510956510717051, 'recall': 0.628622117090479, 'f1-score': 0.6249974740295465, 'macro_f1-score': 0.38796969553086, 'balanced_accuracy': 0.42772041578043846, 'mcc': 0.5228694851391315, 'train_loss': 0.4935178999812312}\n",
      "Epoch 7/20\n"
     ]
    },
    {
     "name": "stderr",
     "output_type": "stream",
     "text": [
      "100%|██████████| 761/761 [01:06<00:00, 11.41it/s]\n"
     ]
    },
    {
     "name": "stdout",
     "output_type": "stream",
     "text": [
      "{'val_loss': 1.5095420583801449, 'val_accuracy': 0.6534594914251922, 'precision': 0.6711238957077408, 'recall': 0.6534594914251922, 'f1-score': 0.6469533449051319, 'macro_f1-score': 0.3867423553965412, 'balanced_accuracy': 0.4030301715384132, 'mcc': 0.5519848070275649, 'train_loss': 0.4126228573273148}\n",
      "Epoch 8/20\n"
     ]
    },
    {
     "name": "stderr",
     "output_type": "stream",
     "text": [
      "100%|██████████| 761/761 [01:06<00:00, 11.43it/s]\n"
     ]
    },
    {
     "name": "stdout",
     "output_type": "stream",
     "text": [
      "{'val_loss': 1.7397009283304214, 'val_accuracy': 0.6309875813128326, 'precision': 0.6719902675307057, 'recall': 0.6309875813128326, 'f1-score': 0.6372319061692331, 'macro_f1-score': 0.39185021364969463, 'balanced_accuracy': 0.4258599107008709, 'mcc': 0.5383217596053793, 'train_loss': 0.3772677990134301}\n",
      "Epoch 9/20\n"
     ]
    },
    {
     "name": "stderr",
     "output_type": "stream",
     "text": [
      "100%|██████████| 761/761 [01:06<00:00, 11.41it/s]\n"
     ]
    },
    {
     "name": "stdout",
     "output_type": "stream",
     "text": [
      "{'val_loss': 1.6423010969499372, 'val_accuracy': 0.6493199290360734, 'precision': 0.657693428262752, 'recall': 0.6493199290360734, 'f1-score': 0.6433020971359976, 'macro_f1-score': 0.394555122022161, 'balanced_accuracy': 0.4307216810481823, 'mcc': 0.5469338793319627, 'train_loss': 0.35185992610903943}\n",
      "Epoch 10/20\n"
     ]
    },
    {
     "name": "stderr",
     "output_type": "stream",
     "text": [
      "100%|██████████| 761/761 [01:06<00:00, 11.40it/s]\n"
     ]
    },
    {
     "name": "stdout",
     "output_type": "stream",
     "text": [
      "{'val_loss': 1.7357899130515333, 'val_accuracy': 0.6505026611472502, 'precision': 0.6633702272781776, 'recall': 0.6505026611472502, 'f1-score': 0.6449939690562475, 'macro_f1-score': 0.405384800528996, 'balanced_accuracy': 0.42163585446033197, 'mcc': 0.5463265155257121, 'train_loss': 0.3304124315080824}\n",
      "Epoch 11/20\n"
     ]
    },
    {
     "name": "stderr",
     "output_type": "stream",
     "text": [
      "100%|██████████| 761/761 [01:06<00:00, 11.41it/s]\n"
     ]
    },
    {
     "name": "stdout",
     "output_type": "stream",
     "text": [
      "{'val_loss': 1.707716833308058, 'val_accuracy': 0.6499112950916618, 'precision': 0.6623798806571938, 'recall': 0.6499112950916618, 'f1-score': 0.6449074858927859, 'macro_f1-score': 0.39750404550713564, 'balanced_accuracy': 0.40779783857255825, 'mcc': 0.5449594809672829, 'train_loss': 0.28159535627655496}\n",
      "Epoch 12/20\n"
     ]
    },
    {
     "name": "stderr",
     "output_type": "stream",
     "text": [
      "100%|██████████| 761/761 [01:06<00:00, 11.40it/s]\n"
     ]
    },
    {
     "name": "stdout",
     "output_type": "stream",
     "text": [
      "{'val_loss': 1.8758349592955608, 'val_accuracy': 0.6457717327025428, 'precision': 0.6517727930288972, 'recall': 0.6457717327025428, 'f1-score': 0.6356881027187756, 'macro_f1-score': 0.38665680045155254, 'balanced_accuracy': 0.39556454958800413, 'mcc': 0.5333784653934223, 'train_loss': 0.2799735445732376}\n",
      "Epoch 13/20\n"
     ]
    },
    {
     "name": "stderr",
     "output_type": "stream",
     "text": [
      "100%|██████████| 761/761 [01:06<00:00, 11.44it/s]\n"
     ]
    },
    {
     "name": "stdout",
     "output_type": "stream",
     "text": [
      "{'val_loss': 1.8989157867881488, 'val_accuracy': 0.6327616794795978, 'precision': 0.6600658341849271, 'recall': 0.6327616794795978, 'f1-score': 0.6386329810507115, 'macro_f1-score': 0.3944129502002179, 'balanced_accuracy': 0.40972870027433367, 'mcc': 0.5353725353070954, 'train_loss': 0.2896583446359039}\n",
      "Early stopping.\n",
      "\n",
      "[Fold 2]\n",
      "Label distribution after resampling:\n",
      "  label 0: 2000\n",
      "  label 1: 200\n",
      "  label 2: 200\n",
      "  label 3: 200\n",
      "  label 4: 206\n",
      "  label 5: 200\n",
      "  label 6: 200\n",
      "  label 7: 200\n",
      "  label 8: 200\n",
      "  label 9: 200\n",
      "  label 10: 200\n",
      "  label 11: 200\n",
      "  label 12: 200\n",
      "  label 13: 200\n",
      "  label 14: 200\n",
      "  label 15: 200\n",
      "  label 16: 200\n",
      "  label 17: 231\n",
      "  label 18: 200\n",
      "  label 19: 200\n",
      "  label 20: 200\n",
      "  label 21: 200\n",
      "  label 22: 200\n",
      "  label 23: 200\n",
      "  label 24: 200\n",
      "  label 25: 200\n",
      "  label 26: 200\n",
      "  label 27: 200\n",
      "  label 28: 200\n",
      "  label 29: 200\n",
      "  label 30: 200\n",
      "  label 31: 200\n",
      "  label 32: 200\n",
      "  label 33: 200\n",
      "  label 34: 200\n",
      "  label 35: 200\n",
      "  label 36: 200\n",
      "  label 37: 200\n",
      "  label 38: 200\n",
      "  label 39: 200\n",
      "  label 40: 200\n",
      "  label 41: 200\n",
      "  label 42: 200\n",
      "  label 43: 200\n",
      "  label 44: 200\n",
      "  label 45: 200\n",
      "  label 46: 200\n",
      "  label 47: 528\n",
      "  label 48: 202\n",
      "  label 49: 200\n",
      "model is roberta-base cnn2filter234drop5\n"
     ]
    },
    {
     "name": "stderr",
     "output_type": "stream",
     "text": [
      "Some weights of RobertaModel were not initialized from the model checkpoint at roberta-base and are newly initialized: ['pooler.dense.bias', 'pooler.dense.weight']\n",
      "You should probably TRAIN this model on a down-stream task to be able to use it for predictions and inference.\n"
     ]
    },
    {
     "name": "stdout",
     "output_type": "stream",
     "text": [
      "Epoch 1/20\n"
     ]
    },
    {
     "name": "stderr",
     "output_type": "stream",
     "text": [
      "100%|██████████| 761/761 [01:06<00:00, 11.43it/s]\n"
     ]
    },
    {
     "name": "stdout",
     "output_type": "stream",
     "text": [
      "{'val_loss': 2.138116586883113, 'val_accuracy': 0.5150798344175045, 'precision': 0.4070959189264753, 'recall': 0.5150798344175045, 'f1-score': 0.44725913986682925, 'macro_f1-score': 0.08637399416941967, 'balanced_accuracy': 0.13217531921616263, 'mcc': 0.32342145343220385, 'train_loss': 3.2940607619191593}\n",
      "Epoch 2/20\n"
     ]
    },
    {
     "name": "stderr",
     "output_type": "stream",
     "text": [
      "100%|██████████| 761/761 [01:06<00:00, 11.44it/s]\n"
     ]
    },
    {
     "name": "stdout",
     "output_type": "stream",
     "text": [
      "{'val_loss': 1.755923551208568, 'val_accuracy': 0.5310467179183915, 'precision': 0.5200956332511357, 'recall': 0.5310467179183915, 'f1-score': 0.5066859200712072, 'macro_f1-score': 0.18397041995354532, 'balanced_accuracy': 0.28019008954385927, 'mcc': 0.3914383410710024, 'train_loss': 2.3800757160011323}\n",
      "Epoch 3/20\n"
     ]
    },
    {
     "name": "stderr",
     "output_type": "stream",
     "text": [
      "100%|██████████| 761/761 [01:06<00:00, 11.45it/s]\n"
     ]
    },
    {
     "name": "stdout",
     "output_type": "stream",
     "text": [
      "{'val_loss': 1.6201632185926977, 'val_accuracy': 0.5541099940863394, 'precision': 0.5830401609810456, 'recall': 0.5541099940863394, 'f1-score': 0.5470782346022455, 'macro_f1-score': 0.2706841573633051, 'balanced_accuracy': 0.3639132054011047, 'mcc': 0.4351660348407179, 'train_loss': 1.5201445360534607}\n",
      "Epoch 4/20\n"
     ]
    },
    {
     "name": "stderr",
     "output_type": "stream",
     "text": [
      "100%|██████████| 761/761 [01:06<00:00, 11.41it/s]\n"
     ]
    },
    {
     "name": "stdout",
     "output_type": "stream",
     "text": [
      "{'val_loss': 1.6751637976124603, 'val_accuracy': 0.547604967474867, 'precision': 0.6042439446514049, 'recall': 0.547604967474867, 'f1-score': 0.5570613404296726, 'macro_f1-score': 0.3106203753580418, 'balanced_accuracy': 0.36172984994742485, 'mcc': 0.43726832501854174, 'train_loss': 0.9884659095756642}\n",
      "Epoch 5/20\n"
     ]
    },
    {
     "name": "stderr",
     "output_type": "stream",
     "text": [
      "100%|██████████| 761/761 [01:06<00:00, 11.43it/s]\n"
     ]
    },
    {
     "name": "stdout",
     "output_type": "stream",
     "text": [
      "{'val_loss': 1.6513884885693497, 'val_accuracy': 0.5683027794204613, 'precision': 0.6467606489759631, 'recall': 0.5683027794204613, 'f1-score': 0.5903452751589796, 'macro_f1-score': 0.34424018219579494, 'balanced_accuracy': 0.3992608166649627, 'mcc': 0.4673689422446715, 'train_loss': 0.7250575933718023}\n",
      "Epoch 6/20\n"
     ]
    },
    {
     "name": "stderr",
     "output_type": "stream",
     "text": [
      "100%|██████████| 761/761 [01:06<00:00, 11.41it/s]\n"
     ]
    },
    {
     "name": "stdout",
     "output_type": "stream",
     "text": [
      "{'val_loss': 1.7235472758985915, 'val_accuracy': 0.5842696629213483, 'precision': 0.6505843034987048, 'recall': 0.5842696629213483, 'f1-score': 0.5945767113389535, 'macro_f1-score': 0.33638260207261794, 'balanced_accuracy': 0.38819377731991656, 'mcc': 0.4781603533074227, 'train_loss': 0.6043366465849725}\n",
      "Epoch 7/20\n"
     ]
    },
    {
     "name": "stderr",
     "output_type": "stream",
     "text": [
      "100%|██████████| 761/761 [01:06<00:00, 11.43it/s]\n"
     ]
    },
    {
     "name": "stdout",
     "output_type": "stream",
     "text": [
      "{'val_loss': 1.6450010436885762, 'val_accuracy': 0.618568894145476, 'precision': 0.6619996799507349, 'recall': 0.618568894145476, 'f1-score': 0.6228901376892052, 'macro_f1-score': 0.38151553417963385, 'balanced_accuracy': 0.3954141810509203, 'mcc': 0.5055458676315773, 'train_loss': 0.4816717044566605}\n",
      "Epoch 8/20\n"
     ]
    },
    {
     "name": "stderr",
     "output_type": "stream",
     "text": [
      "100%|██████████| 761/761 [01:06<00:00, 11.44it/s]\n"
     ]
    },
    {
     "name": "stdout",
     "output_type": "stream",
     "text": [
      "{'val_loss': 1.7029319399932645, 'val_accuracy': 0.641632170313424, 'precision': 0.6485418174116905, 'recall': 0.641632170313424, 'f1-score': 0.6273076854057992, 'macro_f1-score': 0.36869147529415885, 'balanced_accuracy': 0.3655971208309204, 'mcc': 0.5260946244386383, 'train_loss': 0.4402569560297372}\n",
      "Epoch 9/20\n"
     ]
    },
    {
     "name": "stderr",
     "output_type": "stream",
     "text": [
      "100%|██████████| 761/761 [01:06<00:00, 11.43it/s]\n"
     ]
    },
    {
     "name": "stdout",
     "output_type": "stream",
     "text": [
      "{'val_loss': 1.6882522302978444, 'val_accuracy': 0.625665286812537, 'precision': 0.6482089677743262, 'recall': 0.625665286812537, 'f1-score': 0.6249720232572096, 'macro_f1-score': 0.3773743908175235, 'balanced_accuracy': 0.4016673922975413, 'mcc': 0.5230826412694075, 'train_loss': 0.3972904123561689}\n",
      "Epoch 10/20\n"
     ]
    },
    {
     "name": "stderr",
     "output_type": "stream",
     "text": [
      "100%|██████████| 761/761 [01:06<00:00, 11.45it/s]\n"
     ]
    },
    {
     "name": "stdout",
     "output_type": "stream",
     "text": [
      "{'val_loss': 1.8682389934107941, 'val_accuracy': 0.6238911886457718, 'precision': 0.6614287973593548, 'recall': 0.6238911886457718, 'f1-score': 0.6276870223951821, 'macro_f1-score': 0.391972630077393, 'balanced_accuracy': 0.40817051896472606, 'mcc': 0.5251931879285325, 'train_loss': 0.33756933676546413}\n",
      "Epoch 11/20\n"
     ]
    },
    {
     "name": "stderr",
     "output_type": "stream",
     "text": [
      "100%|██████████| 761/761 [01:06<00:00, 11.41it/s]\n"
     ]
    },
    {
     "name": "stdout",
     "output_type": "stream",
     "text": [
      "{'val_loss': 1.8318485727287688, 'val_accuracy': 0.6463630987581312, 'precision': 0.652387907833948, 'recall': 0.6463630987581312, 'f1-score': 0.6417613091286221, 'macro_f1-score': 0.3970885957572224, 'balanced_accuracy': 0.3963814869708115, 'mcc': 0.5371224295663829, 'train_loss': 0.3550572842469686}\n",
      "Epoch 12/20\n"
     ]
    },
    {
     "name": "stderr",
     "output_type": "stream",
     "text": [
      "100%|██████████| 761/761 [01:06<00:00, 11.42it/s]\n"
     ]
    },
    {
     "name": "stdout",
     "output_type": "stream",
     "text": [
      "{'val_loss': 1.8366840785404421, 'val_accuracy': 0.6611472501478415, 'precision': 0.6502363099347716, 'recall': 0.6611472501478415, 'f1-score': 0.6447304530938952, 'macro_f1-score': 0.4030067925645215, 'balanced_accuracy': 0.3950627997374485, 'mcc': 0.548129099025601, 'train_loss': 0.2950762049527533}\n",
      "Epoch 13/20\n"
     ]
    },
    {
     "name": "stderr",
     "output_type": "stream",
     "text": [
      "100%|██████████| 761/761 [01:06<00:00, 11.41it/s]\n"
     ]
    },
    {
     "name": "stdout",
     "output_type": "stream",
     "text": [
      "{'val_loss': 1.8922906464563225, 'val_accuracy': 0.6457717327025428, 'precision': 0.6580102653035229, 'recall': 0.6457717327025428, 'f1-score': 0.639269919772375, 'macro_f1-score': 0.3921726608910997, 'balanced_accuracy': 0.40549842742462006, 'mcc': 0.5384628723230004, 'train_loss': 0.28941604365507795}\n",
      "Epoch 14/20\n"
     ]
    },
    {
     "name": "stderr",
     "output_type": "stream",
     "text": [
      "100%|██████████| 761/761 [01:06<00:00, 11.40it/s]\n"
     ]
    },
    {
     "name": "stdout",
     "output_type": "stream",
     "text": [
      "{'val_loss': 1.9525282793449905, 'val_accuracy': 0.615612063867534, 'precision': 0.645478391476545, 'recall': 0.615612063867534, 'f1-score': 0.6210660177424884, 'macro_f1-score': 0.3643894689967937, 'balanced_accuracy': 0.40480349128172305, 'mcc': 0.5094703955445451, 'train_loss': 0.29568279486971955}\n",
      "Epoch 15/20\n"
     ]
    },
    {
     "name": "stderr",
     "output_type": "stream",
     "text": [
      "100%|██████████| 761/761 [01:06<00:00, 11.41it/s]\n"
     ]
    },
    {
     "name": "stdout",
     "output_type": "stream",
     "text": [
      "{'val_loss': 1.893384003695452, 'val_accuracy': 0.6475458308693081, 'precision': 0.6539604832834515, 'recall': 0.6475458308693081, 'f1-score': 0.6432256176264967, 'macro_f1-score': 0.3941619131750438, 'balanced_accuracy': 0.40078623170726724, 'mcc': 0.5439527163156629, 'train_loss': 0.28207960746767496}\n",
      "Early stopping.\n",
      "\n",
      "[Fold 3]\n",
      "Label distribution after resampling:\n",
      "  label 0: 2000\n",
      "  label 1: 200\n",
      "  label 2: 200\n",
      "  label 3: 200\n",
      "  label 4: 206\n",
      "  label 5: 200\n",
      "  label 6: 200\n",
      "  label 7: 200\n",
      "  label 8: 200\n",
      "  label 9: 200\n",
      "  label 10: 200\n",
      "  label 11: 200\n",
      "  label 12: 200\n",
      "  label 13: 200\n",
      "  label 14: 200\n",
      "  label 15: 200\n",
      "  label 16: 200\n",
      "  label 17: 231\n",
      "  label 18: 200\n",
      "  label 19: 200\n",
      "  label 20: 200\n",
      "  label 21: 200\n",
      "  label 22: 200\n",
      "  label 23: 200\n",
      "  label 24: 200\n",
      "  label 25: 200\n",
      "  label 26: 200\n",
      "  label 27: 200\n",
      "  label 28: 200\n",
      "  label 29: 200\n",
      "  label 30: 200\n",
      "  label 31: 200\n",
      "  label 32: 200\n",
      "  label 33: 200\n",
      "  label 34: 200\n",
      "  label 35: 200\n",
      "  label 36: 200\n",
      "  label 37: 200\n",
      "  label 38: 200\n",
      "  label 39: 200\n",
      "  label 40: 200\n",
      "  label 41: 200\n",
      "  label 42: 200\n",
      "  label 43: 200\n",
      "  label 44: 200\n",
      "  label 45: 200\n",
      "  label 46: 200\n",
      "  label 47: 529\n",
      "  label 48: 201\n",
      "  label 49: 200\n",
      "model is roberta-base cnn2filter234drop5\n"
     ]
    },
    {
     "name": "stderr",
     "output_type": "stream",
     "text": [
      "Some weights of RobertaModel were not initialized from the model checkpoint at roberta-base and are newly initialized: ['pooler.dense.bias', 'pooler.dense.weight']\n",
      "You should probably TRAIN this model on a down-stream task to be able to use it for predictions and inference.\n"
     ]
    },
    {
     "name": "stdout",
     "output_type": "stream",
     "text": [
      "Epoch 1/20\n"
     ]
    },
    {
     "name": "stderr",
     "output_type": "stream",
     "text": [
      "100%|██████████| 761/761 [01:06<00:00, 11.41it/s]\n"
     ]
    },
    {
     "name": "stdout",
     "output_type": "stream",
     "text": [
      "{'val_loss': 1.8603819473734442, 'val_accuracy': 0.5381431105854524, 'precision': 0.4647995571428571, 'recall': 0.5381431105854524, 'f1-score': 0.48261240861751187, 'macro_f1-score': 0.1380392061667627, 'balanced_accuracy': 0.22217230464306512, 'mcc': 0.38232180553361633, 'train_loss': 3.1620168540230247}\n",
      "Epoch 2/20\n"
     ]
    },
    {
     "name": "stderr",
     "output_type": "stream",
     "text": [
      "100%|██████████| 761/761 [01:06<00:00, 11.40it/s]\n"
     ]
    },
    {
     "name": "stdout",
     "output_type": "stream",
     "text": [
      "{'val_loss': 1.5111790333154067, 'val_accuracy': 0.5795387344766411, 'precision': 0.5806936738984945, 'recall': 0.5795387344766411, 'f1-score': 0.5521728015128312, 'macro_f1-score': 0.2781119611993878, 'balanced_accuracy': 0.3475848310376458, 'mcc': 0.45266618580600926, 'train_loss': 1.8417054421798316}\n",
      "Epoch 3/20\n"
     ]
    },
    {
     "name": "stderr",
     "output_type": "stream",
     "text": [
      "100%|██████████| 761/761 [01:06<00:00, 11.42it/s]\n"
     ]
    },
    {
     "name": "stdout",
     "output_type": "stream",
     "text": [
      "{'val_loss': 1.4798442105639655, 'val_accuracy': 0.6132465996451804, 'precision': 0.6564768335005728, 'recall': 0.6132465996451804, 'f1-score': 0.5953730478693114, 'macro_f1-score': 0.31858898421357706, 'balanced_accuracy': 0.3756209393717582, 'mcc': 0.4927667577486787, 'train_loss': 1.0921598218978625}\n",
      "Epoch 4/20\n"
     ]
    },
    {
     "name": "stderr",
     "output_type": "stream",
     "text": [
      "100%|██████████| 761/761 [01:06<00:00, 11.41it/s]\n"
     ]
    },
    {
     "name": "stdout",
     "output_type": "stream",
     "text": [
      "{'val_loss': 1.564719242307375, 'val_accuracy': 0.5759905381431106, 'precision': 0.6475131072225216, 'recall': 0.5759905381431106, 'f1-score': 0.5924145289188875, 'macro_f1-score': 0.337975512636484, 'balanced_accuracy': 0.3875236670951857, 'mcc': 0.47510430773664614, 'train_loss': 0.7333088358288996}\n",
      "Epoch 5/20\n"
     ]
    },
    {
     "name": "stderr",
     "output_type": "stream",
     "text": [
      "100%|██████████| 761/761 [01:06<00:00, 11.40it/s]\n"
     ]
    },
    {
     "name": "stdout",
     "output_type": "stream",
     "text": [
      "{'val_loss': 1.4756816026737105, 'val_accuracy': 0.6333530455351862, 'precision': 0.6478037545236132, 'recall': 0.6333530455351862, 'f1-score': 0.6202878024280407, 'macro_f1-score': 0.34540945067296236, 'balanced_accuracy': 0.3902937296542902, 'mcc': 0.5206989480804814, 'train_loss': 0.5593103440759921}\n",
      "Epoch 6/20\n"
     ]
    },
    {
     "name": "stderr",
     "output_type": "stream",
     "text": [
      "100%|██████████| 761/761 [01:06<00:00, 11.39it/s]\n"
     ]
    },
    {
     "name": "stdout",
     "output_type": "stream",
     "text": [
      "{'val_loss': 1.5980720884113941, 'val_accuracy': 0.622708456534595, 'precision': 0.6556819959804624, 'recall': 0.622708456534595, 'f1-score': 0.6254291424281001, 'macro_f1-score': 0.38401928836023325, 'balanced_accuracy': 0.4087184601408299, 'mcc': 0.5195305025896562, 'train_loss': 0.4602217903977527}\n",
      "Epoch 7/20\n"
     ]
    },
    {
     "name": "stderr",
     "output_type": "stream",
     "text": [
      "100%|██████████| 761/761 [01:06<00:00, 11.43it/s]\n"
     ]
    },
    {
     "name": "stdout",
     "output_type": "stream",
     "text": [
      "{'val_loss': 1.697713185312613, 'val_accuracy': 0.6351271437019516, 'precision': 0.6642803759605859, 'recall': 0.6351271437019516, 'f1-score': 0.6345974046845603, 'macro_f1-score': 0.37390657892928253, 'balanced_accuracy': 0.4019385892715063, 'mcc': 0.5352265846214753, 'train_loss': 0.39007958712401397}\n",
      "Epoch 8/20\n"
     ]
    },
    {
     "name": "stderr",
     "output_type": "stream",
     "text": [
      "100%|██████████| 761/761 [01:06<00:00, 11.42it/s]\n"
     ]
    },
    {
     "name": "stdout",
     "output_type": "stream",
     "text": [
      "{'val_loss': 1.7404465526342392, 'val_accuracy': 0.6363098758131284, 'precision': 0.6715307640218384, 'recall': 0.6363098758131284, 'f1-score': 0.6396713574023145, 'macro_f1-score': 0.3873074947380147, 'balanced_accuracy': 0.42264404455954435, 'mcc': 0.5401450533396448, 'train_loss': 0.34889054047396595}\n",
      "Epoch 9/20\n"
     ]
    },
    {
     "name": "stderr",
     "output_type": "stream",
     "text": [
      "100%|██████████| 761/761 [01:06<00:00, 11.43it/s]\n"
     ]
    },
    {
     "name": "stdout",
     "output_type": "stream",
     "text": [
      "{'val_loss': 1.766185906698119, 'val_accuracy': 0.625665286812537, 'precision': 0.6689681970566889, 'recall': 0.625665286812537, 'f1-score': 0.6350631139335633, 'macro_f1-score': 0.3981342220402944, 'balanced_accuracy': 0.4245545368805918, 'mcc': 0.5357775819624382, 'train_loss': 0.30885760403946827}\n",
      "Epoch 10/20\n"
     ]
    },
    {
     "name": "stderr",
     "output_type": "stream",
     "text": [
      "100%|██████████| 761/761 [01:06<00:00, 11.42it/s]\n"
     ]
    },
    {
     "name": "stdout",
     "output_type": "stream",
     "text": [
      "{'val_loss': 1.7475452373893756, 'val_accuracy': 0.6209343583678297, 'precision': 0.650960087960361, 'recall': 0.6209343583678297, 'f1-score': 0.6255750041626141, 'macro_f1-score': 0.3571266355875426, 'balanced_accuracy': 0.3984037699168704, 'mcc': 0.5150412979034238, 'train_loss': 0.3263492116284815}\n",
      "Epoch 11/20\n"
     ]
    },
    {
     "name": "stderr",
     "output_type": "stream",
     "text": [
      "100%|██████████| 761/761 [01:06<00:00, 11.43it/s]\n"
     ]
    },
    {
     "name": "stdout",
     "output_type": "stream",
     "text": [
      "{'val_loss': 1.8004351471954922, 'val_accuracy': 0.631578947368421, 'precision': 0.6528712116080594, 'recall': 0.631578947368421, 'f1-score': 0.6270138159723724, 'macro_f1-score': 0.35965059227952006, 'balanced_accuracy': 0.37182402266052433, 'mcc': 0.5256580911305794, 'train_loss': 0.28314807211047677}\n",
      "Epoch 12/20\n"
     ]
    },
    {
     "name": "stderr",
     "output_type": "stream",
     "text": [
      "100%|██████████| 761/761 [01:06<00:00, 11.45it/s]\n"
     ]
    },
    {
     "name": "stdout",
     "output_type": "stream",
     "text": [
      "{'val_loss': 1.7953813866061985, 'val_accuracy': 0.654642223536369, 'precision': 0.6661635402093452, 'recall': 0.654642223536369, 'f1-score': 0.6462600213524979, 'macro_f1-score': 0.37836017843068076, 'balanced_accuracy': 0.39744056582975545, 'mcc': 0.5520872139720329, 'train_loss': 0.2863604106179117}\n",
      "Early stopping.\n",
      "\n",
      "[Fold 4]\n",
      "Label distribution after resampling:\n",
      "  label 0: 2000\n",
      "  label 1: 200\n",
      "  label 2: 200\n",
      "  label 3: 200\n",
      "  label 4: 206\n",
      "  label 5: 200\n",
      "  label 6: 200\n",
      "  label 7: 200\n",
      "  label 8: 200\n",
      "  label 9: 200\n",
      "  label 10: 200\n",
      "  label 11: 200\n",
      "  label 12: 200\n",
      "  label 13: 200\n",
      "  label 14: 200\n",
      "  label 15: 200\n",
      "  label 16: 200\n",
      "  label 17: 232\n",
      "  label 18: 200\n",
      "  label 19: 200\n",
      "  label 20: 200\n",
      "  label 21: 200\n",
      "  label 22: 200\n",
      "  label 23: 200\n",
      "  label 24: 200\n",
      "  label 25: 200\n",
      "  label 26: 200\n",
      "  label 27: 200\n",
      "  label 28: 200\n",
      "  label 29: 200\n",
      "  label 30: 200\n",
      "  label 31: 200\n",
      "  label 32: 200\n",
      "  label 33: 200\n",
      "  label 34: 200\n",
      "  label 35: 200\n",
      "  label 36: 200\n",
      "  label 37: 200\n",
      "  label 38: 200\n",
      "  label 39: 200\n",
      "  label 40: 200\n",
      "  label 41: 200\n",
      "  label 42: 200\n",
      "  label 43: 200\n",
      "  label 44: 200\n",
      "  label 45: 200\n",
      "  label 46: 200\n",
      "  label 47: 529\n",
      "  label 48: 201\n",
      "  label 49: 200\n",
      "model is roberta-base cnn2filter234drop5\n"
     ]
    },
    {
     "name": "stderr",
     "output_type": "stream",
     "text": [
      "Some weights of RobertaModel were not initialized from the model checkpoint at roberta-base and are newly initialized: ['pooler.dense.bias', 'pooler.dense.weight']\n",
      "You should probably TRAIN this model on a down-stream task to be able to use it for predictions and inference.\n"
     ]
    },
    {
     "name": "stdout",
     "output_type": "stream",
     "text": [
      "Epoch 1/20\n"
     ]
    },
    {
     "name": "stderr",
     "output_type": "stream",
     "text": [
      "100%|██████████| 761/761 [01:06<00:00, 11.44it/s]\n"
     ]
    },
    {
     "name": "stdout",
     "output_type": "stream",
     "text": [
      "{'val_loss': 3.29072915383105, 'val_accuracy': 0.47013601419278533, 'precision': 0.22102787184107886, 'recall': 0.47013601419278533, 'f1-score': 0.30069037110479835, 'macro_f1-score': 0.012791633145615447, 'balanced_accuracy': 0.02, 'mcc': 0.0, 'train_loss': 3.6884469653867704}\n",
      "Epoch 2/20\n"
     ]
    },
    {
     "name": "stderr",
     "output_type": "stream",
     "text": [
      "100%|██████████| 761/761 [01:06<00:00, 11.47it/s]\n"
     ]
    },
    {
     "name": "stdout",
     "output_type": "stream",
     "text": [
      "{'val_loss': 3.291619564002415, 'val_accuracy': 0.47013601419278533, 'precision': 0.22102787184107886, 'recall': 0.47013601419278533, 'f1-score': 0.30069037110479835, 'macro_f1-score': 0.012791633145615447, 'balanced_accuracy': 0.02, 'mcc': 0.0, 'train_loss': 3.706488375281536}\n",
      "Epoch 3/20\n"
     ]
    },
    {
     "name": "stderr",
     "output_type": "stream",
     "text": [
      "100%|██████████| 761/761 [01:06<00:00, 11.44it/s]\n"
     ]
    },
    {
     "name": "stdout",
     "output_type": "stream",
     "text": [
      "{'val_loss': 2.843956618938806, 'val_accuracy': 0.47013601419278533, 'precision': 0.22102787184107886, 'recall': 0.47013601419278533, 'f1-score': 0.30069037110479835, 'macro_f1-score': 0.012791633145615447, 'balanced_accuracy': 0.02, 'mcc': 0.0, 'train_loss': 3.686103756888311}\n",
      "Epoch 4/20\n"
     ]
    },
    {
     "name": "stderr",
     "output_type": "stream",
     "text": [
      "100%|██████████| 761/761 [01:06<00:00, 11.45it/s]\n"
     ]
    },
    {
     "name": "stdout",
     "output_type": "stream",
     "text": [
      "{'val_loss': 2.933601979939443, 'val_accuracy': 0.47013601419278533, 'precision': 0.22102787184107886, 'recall': 0.47013601419278533, 'f1-score': 0.30069037110479835, 'macro_f1-score': 0.012791633145615447, 'balanced_accuracy': 0.02, 'mcc': 0.0, 'train_loss': 3.6738927505332755}\n",
      "Early stopping.\n",
      "\n",
      "[Fold 5]\n",
      "Label distribution after resampling:\n",
      "  label 0: 2000\n",
      "  label 1: 200\n",
      "  label 2: 200\n",
      "  label 3: 200\n",
      "  label 4: 205\n",
      "  label 5: 200\n",
      "  label 6: 200\n",
      "  label 7: 200\n",
      "  label 8: 200\n",
      "  label 9: 200\n",
      "  label 10: 200\n",
      "  label 11: 200\n",
      "  label 12: 200\n",
      "  label 13: 200\n",
      "  label 14: 200\n",
      "  label 15: 200\n",
      "  label 16: 200\n",
      "  label 17: 231\n",
      "  label 18: 200\n",
      "  label 19: 200\n",
      "  label 20: 200\n",
      "  label 21: 200\n",
      "  label 22: 200\n",
      "  label 23: 200\n",
      "  label 24: 200\n",
      "  label 25: 200\n",
      "  label 26: 200\n",
      "  label 27: 200\n",
      "  label 28: 200\n",
      "  label 29: 200\n",
      "  label 30: 200\n",
      "  label 31: 200\n",
      "  label 32: 200\n",
      "  label 33: 200\n",
      "  label 34: 200\n",
      "  label 35: 200\n",
      "  label 36: 200\n",
      "  label 37: 200\n",
      "  label 38: 200\n",
      "  label 39: 200\n",
      "  label 40: 200\n",
      "  label 41: 200\n",
      "  label 42: 200\n",
      "  label 43: 200\n",
      "  label 44: 200\n",
      "  label 45: 200\n",
      "  label 46: 200\n",
      "  label 47: 529\n",
      "  label 48: 202\n",
      "  label 49: 200\n",
      "model is roberta-base cnn2filter234drop5\n"
     ]
    },
    {
     "name": "stderr",
     "output_type": "stream",
     "text": [
      "Some weights of RobertaModel were not initialized from the model checkpoint at roberta-base and are newly initialized: ['pooler.dense.bias', 'pooler.dense.weight']\n",
      "You should probably TRAIN this model on a down-stream task to be able to use it for predictions and inference.\n"
     ]
    },
    {
     "name": "stdout",
     "output_type": "stream",
     "text": [
      "Epoch 1/20\n"
     ]
    },
    {
     "name": "stderr",
     "output_type": "stream",
     "text": [
      "100%|██████████| 761/761 [01:06<00:00, 11.44it/s]\n"
     ]
    },
    {
     "name": "stdout",
     "output_type": "stream",
     "text": [
      "{'val_loss': 1.9827867487691484, 'val_accuracy': 0.5319526627218935, 'precision': 0.3846073645962248, 'recall': 0.5319526627218935, 'f1-score': 0.44249660213383446, 'macro_f1-score': 0.10132389549697132, 'balanced_accuracy': 0.14770249416034614, 'mcc': 0.33455793868596534, 'train_loss': 3.1822244350292994}\n",
      "Epoch 2/20\n"
     ]
    },
    {
     "name": "stderr",
     "output_type": "stream",
     "text": [
      "100%|██████████| 761/761 [01:06<00:00, 11.42it/s]\n"
     ]
    },
    {
     "name": "stdout",
     "output_type": "stream",
     "text": [
      "{'val_loss': 1.6043722747631792, 'val_accuracy': 0.5662721893491124, 'precision': 0.5527736656699422, 'recall': 0.5662721893491124, 'f1-score': 0.5379279205372205, 'macro_f1-score': 0.24931289185589628, 'balanced_accuracy': 0.34690197664968525, 'mcc': 0.4374822739054837, 'train_loss': 2.0938662657129936}\n",
      "Epoch 3/20\n"
     ]
    },
    {
     "name": "stderr",
     "output_type": "stream",
     "text": [
      "100%|██████████| 761/761 [01:06<00:00, 11.44it/s]\n"
     ]
    },
    {
     "name": "stdout",
     "output_type": "stream",
     "text": [
      "{'val_loss': 1.5650130088599223, 'val_accuracy': 0.5893491124260355, 'precision': 0.6071861521540555, 'recall': 0.5893491124260355, 'f1-score': 0.585833702805806, 'macro_f1-score': 0.32777586825388805, 'balanced_accuracy': 0.3648002501165355, 'mcc': 0.4705332627693995, 'train_loss': 1.3315032181304325}\n",
      "Epoch 4/20\n"
     ]
    },
    {
     "name": "stderr",
     "output_type": "stream",
     "text": [
      "100%|██████████| 761/761 [01:06<00:00, 11.42it/s]\n"
     ]
    },
    {
     "name": "stdout",
     "output_type": "stream",
     "text": [
      "{'val_loss': 1.6478226842745296, 'val_accuracy': 0.5834319526627219, 'precision': 0.6293205332354129, 'recall': 0.5834319526627219, 'f1-score': 0.5843836035286818, 'macro_f1-score': 0.31224596025080165, 'balanced_accuracy': 0.37660134393767386, 'mcc': 0.48013848782056057, 'train_loss': 0.8886324073164754}\n",
      "Epoch 5/20\n"
     ]
    },
    {
     "name": "stderr",
     "output_type": "stream",
     "text": [
      "100%|██████████| 761/761 [01:06<00:00, 11.44it/s]\n"
     ]
    },
    {
     "name": "stdout",
     "output_type": "stream",
     "text": [
      "{'val_loss': 1.5747085244588133, 'val_accuracy': 0.6071005917159763, 'precision': 0.6523770947348392, 'recall': 0.6071005917159763, 'f1-score': 0.5992785416967742, 'macro_f1-score': 0.3442270257358049, 'balanced_accuracy': 0.38035398684558364, 'mcc': 0.4999724098940632, 'train_loss': 0.6825652431779873}\n",
      "Epoch 6/20\n"
     ]
    },
    {
     "name": "stderr",
     "output_type": "stream",
     "text": [
      "100%|██████████| 761/761 [01:06<00:00, 11.42it/s]\n"
     ]
    },
    {
     "name": "stdout",
     "output_type": "stream",
     "text": [
      "{'val_loss': 1.5124373112647038, 'val_accuracy': 0.6479289940828402, 'precision': 0.6521317639603315, 'recall': 0.6479289940828402, 'f1-score': 0.6373395365401128, 'macro_f1-score': 0.3688462731390405, 'balanced_accuracy': 0.3670008440533106, 'mcc': 0.5362111604712088, 'train_loss': 0.5317435472782667}\n",
      "Epoch 7/20\n"
     ]
    },
    {
     "name": "stderr",
     "output_type": "stream",
     "text": [
      "100%|██████████| 761/761 [01:06<00:00, 11.42it/s]\n"
     ]
    },
    {
     "name": "stdout",
     "output_type": "stream",
     "text": [
      "{'val_loss': 1.6399976779829781, 'val_accuracy': 0.6177514792899408, 'precision': 0.6723387199442521, 'recall': 0.6177514792899408, 'f1-score': 0.6272133608284423, 'macro_f1-score': 0.3790993562511108, 'balanced_accuracy': 0.41150377402299904, 'mcc': 0.5226701622821558, 'train_loss': 0.4747330014852124}\n",
      "Epoch 8/20\n"
     ]
    },
    {
     "name": "stderr",
     "output_type": "stream",
     "text": [
      "100%|██████████| 761/761 [01:06<00:00, 11.45it/s]\n"
     ]
    },
    {
     "name": "stdout",
     "output_type": "stream",
     "text": [
      "{'val_loss': 1.7575895103081218, 'val_accuracy': 0.6343195266272189, 'precision': 0.6820101086377843, 'recall': 0.6343195266272189, 'f1-score': 0.637612967513301, 'macro_f1-score': 0.39936240758574115, 'balanced_accuracy': 0.42090380987142845, 'mcc': 0.5352469638922616, 'train_loss': 0.40277369670158697}\n",
      "Epoch 9/20\n"
     ]
    },
    {
     "name": "stderr",
     "output_type": "stream",
     "text": [
      "100%|██████████| 761/761 [01:06<00:00, 11.41it/s]\n"
     ]
    },
    {
     "name": "stdout",
     "output_type": "stream",
     "text": [
      "{'val_loss': 1.693914903784698, 'val_accuracy': 0.6284023668639053, 'precision': 0.6543335490106689, 'recall': 0.6284023668639053, 'f1-score': 0.6268998765212582, 'macro_f1-score': 0.36778532637287464, 'balanced_accuracy': 0.384942023580235, 'mcc': 0.5227055336260632, 'train_loss': 0.36517617684812254}\n",
      "Epoch 10/20\n"
     ]
    },
    {
     "name": "stderr",
     "output_type": "stream",
     "text": [
      "100%|██████████| 761/761 [01:06<00:00, 11.43it/s]\n"
     ]
    },
    {
     "name": "stdout",
     "output_type": "stream",
     "text": [
      "{'val_loss': 1.7997280409875906, 'val_accuracy': 0.6420118343195266, 'precision': 0.6661468754035297, 'recall': 0.6420118343195266, 'f1-score': 0.6424009792430718, 'macro_f1-score': 0.36463175440174234, 'balanced_accuracy': 0.3931437425482355, 'mcc': 0.5409802438151515, 'train_loss': 0.3160585620845625}\n",
      "Epoch 11/20\n"
     ]
    },
    {
     "name": "stderr",
     "output_type": "stream",
     "text": [
      "100%|██████████| 761/761 [01:06<00:00, 11.42it/s]\n"
     ]
    },
    {
     "name": "stdout",
     "output_type": "stream",
     "text": [
      "{'val_loss': 1.7536702847705696, 'val_accuracy': 0.6396449704142012, 'precision': 0.6688414790695896, 'recall': 0.6396449704142012, 'f1-score': 0.6400342206483624, 'macro_f1-score': 0.37578385778123397, 'balanced_accuracy': 0.3994700988337209, 'mcc': 0.5370173987665559, 'train_loss': 0.340802073654928}\n",
      "Early stopping.\n",
      "\n",
      " === roberta-base + cnn2filter234drop5 + ros Final 5-fold Cross-Validation Results ===\n",
      "Total time: 3867 seconds\n",
      "Total time: 1 hrs 4 mins 27 secs\n",
      "val_loss: 2.0774\n",
      "val_accuracy: 0.6084\n",
      "precision: 0.5771\n",
      "recall: 0.6084\n",
      "f1-score: 0.5726\n",
      "macro_f1-score: 0.3237\n",
      "balanced_accuracy: 0.3364\n",
      "mcc: 0.4331\n",
      "train_loss: 1.0051\n",
      "▶ Running: roberta-base + cnn2filter345drop3 + ros\n",
      "tokenizer is roberta-base\n",
      "Using device: cuda\n",
      "CUDA Available: True\n",
      "CUDA Device: NVIDIA GeForce RTX 5070 Ti\n",
      "Current GPU Memory Allocated: 0.02 GB\n",
      "Current GPU Memory Cached: 3.85 GB\n",
      "\n",
      "[Fold 1]\n",
      "Label distribution after resampling:\n",
      "  label 0: 2000\n",
      "  label 1: 200\n",
      "  label 2: 200\n",
      "  label 3: 200\n",
      "  label 4: 205\n",
      "  label 5: 200\n",
      "  label 6: 200\n",
      "  label 7: 200\n",
      "  label 8: 200\n",
      "  label 9: 200\n",
      "  label 10: 200\n",
      "  label 11: 200\n",
      "  label 12: 200\n",
      "  label 13: 200\n",
      "  label 14: 200\n",
      "  label 15: 200\n",
      "  label 16: 200\n",
      "  label 17: 231\n",
      "  label 18: 200\n",
      "  label 19: 200\n",
      "  label 20: 200\n",
      "  label 21: 200\n",
      "  label 22: 200\n",
      "  label 23: 200\n",
      "  label 24: 200\n",
      "  label 25: 200\n",
      "  label 26: 200\n",
      "  label 27: 200\n",
      "  label 28: 200\n",
      "  label 29: 200\n",
      "  label 30: 200\n",
      "  label 31: 200\n",
      "  label 32: 200\n",
      "  label 33: 200\n",
      "  label 34: 200\n",
      "  label 35: 200\n",
      "  label 36: 200\n",
      "  label 37: 200\n",
      "  label 38: 200\n",
      "  label 39: 200\n",
      "  label 40: 200\n",
      "  label 41: 200\n",
      "  label 42: 200\n",
      "  label 43: 200\n",
      "  label 44: 200\n",
      "  label 45: 200\n",
      "  label 46: 200\n",
      "  label 47: 529\n",
      "  label 48: 202\n",
      "  label 49: 200\n",
      "model is roberta-base cnn2filter345drop3\n"
     ]
    },
    {
     "name": "stderr",
     "output_type": "stream",
     "text": [
      "Some weights of RobertaModel were not initialized from the model checkpoint at roberta-base and are newly initialized: ['pooler.dense.bias', 'pooler.dense.weight']\n",
      "You should probably TRAIN this model on a down-stream task to be able to use it for predictions and inference.\n"
     ]
    },
    {
     "name": "stdout",
     "output_type": "stream",
     "text": [
      "Epoch 1/20\n"
     ]
    },
    {
     "name": "stderr",
     "output_type": "stream",
     "text": [
      "100%|██████████| 761/761 [01:06<00:00, 11.38it/s]\n"
     ]
    },
    {
     "name": "stdout",
     "output_type": "stream",
     "text": [
      "{'val_loss': 1.6920575859411708, 'val_accuracy': 0.556475458308693, 'precision': 0.5346088800865666, 'recall': 0.556475458308693, 'f1-score': 0.5229282589770944, 'macro_f1-score': 0.20309361995096128, 'balanced_accuracy': 0.29203162504906943, 'mcc': 0.41233658601627954, 'train_loss': 2.844988162038204}\n",
      "Epoch 2/20\n"
     ]
    },
    {
     "name": "stderr",
     "output_type": "stream",
     "text": [
      "100%|██████████| 761/761 [01:06<00:00, 11.38it/s]\n"
     ]
    },
    {
     "name": "stdout",
     "output_type": "stream",
     "text": [
      "{'val_loss': 1.79184619491955, 'val_accuracy': 0.48965109402720286, 'precision': 0.6324608822575996, 'recall': 0.48965109402720286, 'f1-score': 0.5160774320490327, 'macro_f1-score': 0.28934347770104696, 'balanced_accuracy': 0.39760734315673923, 'mcc': 0.40155445676140594, 'train_loss': 1.3575164871522851}\n",
      "Epoch 3/20\n"
     ]
    },
    {
     "name": "stderr",
     "output_type": "stream",
     "text": [
      "100%|██████████| 761/761 [01:07<00:00, 11.36it/s]\n"
     ]
    },
    {
     "name": "stdout",
     "output_type": "stream",
     "text": [
      "{'val_loss': 1.4679598631161563, 'val_accuracy': 0.6238911886457718, 'precision': 0.6791194441628697, 'recall': 0.6238911886457718, 'f1-score': 0.6311705262778005, 'macro_f1-score': 0.40958826835219925, 'balanced_accuracy': 0.456631620244626, 'mcc': 0.5252207455081568, 'train_loss': 0.7622138503229101}\n",
      "Epoch 4/20\n"
     ]
    },
    {
     "name": "stderr",
     "output_type": "stream",
     "text": [
      "100%|██████████| 761/761 [01:06<00:00, 11.39it/s]\n"
     ]
    },
    {
     "name": "stdout",
     "output_type": "stream",
     "text": [
      "{'val_loss': 1.5563452238181852, 'val_accuracy': 0.6108811354228267, 'precision': 0.6712051277400312, 'recall': 0.6108811354228267, 'f1-score': 0.6243567281812223, 'macro_f1-score': 0.39795125017551797, 'balanced_accuracy': 0.43733037377412926, 'mcc': 0.5118140896867323, 'train_loss': 0.5408123481024972}\n",
      "Epoch 5/20\n"
     ]
    },
    {
     "name": "stderr",
     "output_type": "stream",
     "text": [
      "100%|██████████| 761/761 [01:06<00:00, 11.37it/s]\n"
     ]
    },
    {
     "name": "stdout",
     "output_type": "stream",
     "text": [
      "{'val_loss': 1.6731611872619052, 'val_accuracy': 0.6120638675340035, 'precision': 0.6668628164363095, 'recall': 0.6120638675340035, 'f1-score': 0.6230943801276082, 'macro_f1-score': 0.4182272811685226, 'balanced_accuracy': 0.4492861627637973, 'mcc': 0.5209717681018964, 'train_loss': 0.4371683446594983}\n",
      "Epoch 6/20\n"
     ]
    },
    {
     "name": "stderr",
     "output_type": "stream",
     "text": [
      "100%|██████████| 761/761 [01:06<00:00, 11.39it/s]\n"
     ]
    },
    {
     "name": "stdout",
     "output_type": "stream",
     "text": [
      "{'val_loss': 1.6937151854892947, 'val_accuracy': 0.6321703134240094, 'precision': 0.6564443077020478, 'recall': 0.6321703134240094, 'f1-score': 0.6331518511376858, 'macro_f1-score': 0.4171251799737852, 'balanced_accuracy': 0.4562238328373392, 'mcc': 0.5322653559750137, 'train_loss': 0.3663648273893748}\n",
      "Epoch 7/20\n"
     ]
    },
    {
     "name": "stderr",
     "output_type": "stream",
     "text": [
      "100%|██████████| 761/761 [01:06<00:00, 11.39it/s]\n"
     ]
    },
    {
     "name": "stdout",
     "output_type": "stream",
     "text": [
      "{'val_loss': 1.7435518296540908, 'val_accuracy': 0.6108811354228267, 'precision': 0.66512641045163, 'recall': 0.6108811354228267, 'f1-score': 0.6195793198795096, 'macro_f1-score': 0.3618330570968479, 'balanced_accuracy': 0.369206959946829, 'mcc': 0.48765118645411576, 'train_loss': 0.33404629625522003}\n",
      "Epoch 8/20\n"
     ]
    },
    {
     "name": "stderr",
     "output_type": "stream",
     "text": [
      "100%|██████████| 761/761 [01:06<00:00, 11.38it/s]\n"
     ]
    },
    {
     "name": "stdout",
     "output_type": "stream",
     "text": [
      "{'val_loss': 1.7341662105524316, 'val_accuracy': 0.6298048492016558, 'precision': 0.6661207476310591, 'recall': 0.6298048492016558, 'f1-score': 0.6328481759643837, 'macro_f1-score': 0.40549104235937705, 'balanced_accuracy': 0.4303502332043911, 'mcc': 0.5270648701955469, 'train_loss': 0.3110492226812112}\n",
      "Early stopping.\n",
      "\n",
      "[Fold 2]\n",
      "Label distribution after resampling:\n",
      "  label 0: 2000\n",
      "  label 1: 200\n",
      "  label 2: 200\n",
      "  label 3: 200\n",
      "  label 4: 206\n",
      "  label 5: 200\n",
      "  label 6: 200\n",
      "  label 7: 200\n",
      "  label 8: 200\n",
      "  label 9: 200\n",
      "  label 10: 200\n",
      "  label 11: 200\n",
      "  label 12: 200\n",
      "  label 13: 200\n",
      "  label 14: 200\n",
      "  label 15: 200\n",
      "  label 16: 200\n",
      "  label 17: 231\n",
      "  label 18: 200\n",
      "  label 19: 200\n",
      "  label 20: 200\n",
      "  label 21: 200\n",
      "  label 22: 200\n",
      "  label 23: 200\n",
      "  label 24: 200\n",
      "  label 25: 200\n",
      "  label 26: 200\n",
      "  label 27: 200\n",
      "  label 28: 200\n",
      "  label 29: 200\n",
      "  label 30: 200\n",
      "  label 31: 200\n",
      "  label 32: 200\n",
      "  label 33: 200\n",
      "  label 34: 200\n",
      "  label 35: 200\n",
      "  label 36: 200\n",
      "  label 37: 200\n",
      "  label 38: 200\n",
      "  label 39: 200\n",
      "  label 40: 200\n",
      "  label 41: 200\n",
      "  label 42: 200\n",
      "  label 43: 200\n",
      "  label 44: 200\n",
      "  label 45: 200\n",
      "  label 46: 200\n",
      "  label 47: 528\n",
      "  label 48: 202\n",
      "  label 49: 200\n",
      "model is roberta-base cnn2filter345drop3\n"
     ]
    },
    {
     "name": "stderr",
     "output_type": "stream",
     "text": [
      "Some weights of RobertaModel were not initialized from the model checkpoint at roberta-base and are newly initialized: ['pooler.dense.bias', 'pooler.dense.weight']\n",
      "You should probably TRAIN this model on a down-stream task to be able to use it for predictions and inference.\n"
     ]
    },
    {
     "name": "stdout",
     "output_type": "stream",
     "text": [
      "Epoch 1/20\n"
     ]
    },
    {
     "name": "stderr",
     "output_type": "stream",
     "text": [
      "100%|██████████| 761/761 [01:06<00:00, 11.37it/s]\n"
     ]
    },
    {
     "name": "stdout",
     "output_type": "stream",
     "text": [
      "{'val_loss': 1.5112107986549161, 'val_accuracy': 0.5884092253104671, 'precision': 0.602761576242508, 'recall': 0.5884092253104671, 'f1-score': 0.5454530164450768, 'macro_f1-score': 0.25799520674533977, 'balanced_accuracy': 0.30936122173721287, 'mcc': 0.4393854372893688, 'train_loss': 2.593197422804563}\n",
      "Epoch 2/20\n"
     ]
    },
    {
     "name": "stderr",
     "output_type": "stream",
     "text": [
      "100%|██████████| 761/761 [01:06<00:00, 11.36it/s]\n"
     ]
    },
    {
     "name": "stdout",
     "output_type": "stream",
     "text": [
      "{'val_loss': 1.4238360462323674, 'val_accuracy': 0.6085156712004731, 'precision': 0.622060554154303, 'recall': 0.6085156712004731, 'f1-score': 0.5969665660456307, 'macro_f1-score': 0.3483048569652623, 'balanced_accuracy': 0.4093000619142728, 'mcc': 0.4945460968608819, 'train_loss': 1.2141454874020212}\n",
      "Epoch 3/20\n"
     ]
    },
    {
     "name": "stderr",
     "output_type": "stream",
     "text": [
      "100%|██████████| 761/761 [01:06<00:00, 11.39it/s]\n"
     ]
    },
    {
     "name": "stdout",
     "output_type": "stream",
     "text": [
      "{'val_loss': 1.3114343159041315, 'val_accuracy': 0.654642223536369, 'precision': 0.6677661407099507, 'recall': 0.654642223536369, 'f1-score': 0.6423543772778728, 'macro_f1-score': 0.4055764153663893, 'balanced_accuracy': 0.4255694297246288, 'mcc': 0.54756739215331, 'train_loss': 0.7094056868972196}\n",
      "Epoch 4/20\n"
     ]
    },
    {
     "name": "stderr",
     "output_type": "stream",
     "text": [
      "100%|██████████| 761/761 [01:06<00:00, 11.39it/s]\n"
     ]
    },
    {
     "name": "stdout",
     "output_type": "stream",
     "text": [
      "{'val_loss': 1.4542238150002822, 'val_accuracy': 0.6581904198698995, 'precision': 0.6693510013229048, 'recall': 0.6581904198698995, 'f1-score': 0.6474101416444321, 'macro_f1-score': 0.3924609786277559, 'balanced_accuracy': 0.4087071096415152, 'mcc': 0.5425472495404653, 'train_loss': 0.5093355498542218}\n",
      "Epoch 5/20\n"
     ]
    },
    {
     "name": "stderr",
     "output_type": "stream",
     "text": [
      "100%|██████████| 761/761 [01:06<00:00, 11.38it/s]\n"
     ]
    },
    {
     "name": "stdout",
     "output_type": "stream",
     "text": [
      "{'val_loss': 1.4955035020720284, 'val_accuracy': 0.6434062684801892, 'precision': 0.6532788502272036, 'recall': 0.6434062684801892, 'f1-score': 0.6349684621954945, 'macro_f1-score': 0.4156598602422293, 'balanced_accuracy': 0.43476543800026685, 'mcc': 0.5344330771991695, 'train_loss': 0.41077775575230374}\n",
      "Epoch 6/20\n"
     ]
    },
    {
     "name": "stderr",
     "output_type": "stream",
     "text": [
      "100%|██████████| 761/761 [01:06<00:00, 11.38it/s]\n"
     ]
    },
    {
     "name": "stdout",
     "output_type": "stream",
     "text": [
      "{'val_loss': 1.5558169891811766, 'val_accuracy': 0.6587817859254879, 'precision': 0.663502978635665, 'recall': 0.6587817859254879, 'f1-score': 0.6501014568955151, 'macro_f1-score': 0.40045368049335733, 'balanced_accuracy': 0.41391258765873773, 'mcc': 0.5540137503076351, 'train_loss': 0.3581281469403013}\n",
      "Epoch 7/20\n"
     ]
    },
    {
     "name": "stderr",
     "output_type": "stream",
     "text": [
      "100%|██████████| 761/761 [01:07<00:00, 11.35it/s]\n"
     ]
    },
    {
     "name": "stdout",
     "output_type": "stream",
     "text": [
      "{'val_loss': 1.6674409351258908, 'val_accuracy': 0.6345357776463632, 'precision': 0.6810365043914106, 'recall': 0.6345357776463632, 'f1-score': 0.6429133491751352, 'macro_f1-score': 0.41537216381263276, 'balanced_accuracy': 0.44973814440471516, 'mcc': 0.5426206247082225, 'train_loss': 0.3472054144428766}\n",
      "Epoch 8/20\n"
     ]
    },
    {
     "name": "stderr",
     "output_type": "stream",
     "text": [
      "100%|██████████| 761/761 [01:06<00:00, 11.37it/s]\n"
     ]
    },
    {
     "name": "stdout",
     "output_type": "stream",
     "text": [
      "{'val_loss': 1.7429381431836002, 'val_accuracy': 0.6457717327025428, 'precision': 0.6716304838356364, 'recall': 0.6457717327025428, 'f1-score': 0.6469164995836654, 'macro_f1-score': 0.41040096409218285, 'balanced_accuracy': 0.4512763894816888, 'mcc': 0.5473200079702567, 'train_loss': 0.29635227853052915}\n",
      "Early stopping.\n",
      "\n",
      "[Fold 3]\n",
      "Label distribution after resampling:\n",
      "  label 0: 2000\n",
      "  label 1: 200\n",
      "  label 2: 200\n",
      "  label 3: 200\n",
      "  label 4: 206\n",
      "  label 5: 200\n",
      "  label 6: 200\n",
      "  label 7: 200\n",
      "  label 8: 200\n",
      "  label 9: 200\n",
      "  label 10: 200\n",
      "  label 11: 200\n",
      "  label 12: 200\n",
      "  label 13: 200\n",
      "  label 14: 200\n",
      "  label 15: 200\n",
      "  label 16: 200\n",
      "  label 17: 231\n",
      "  label 18: 200\n",
      "  label 19: 200\n",
      "  label 20: 200\n",
      "  label 21: 200\n",
      "  label 22: 200\n",
      "  label 23: 200\n",
      "  label 24: 200\n",
      "  label 25: 200\n",
      "  label 26: 200\n",
      "  label 27: 200\n",
      "  label 28: 200\n",
      "  label 29: 200\n",
      "  label 30: 200\n",
      "  label 31: 200\n",
      "  label 32: 200\n",
      "  label 33: 200\n",
      "  label 34: 200\n",
      "  label 35: 200\n",
      "  label 36: 200\n",
      "  label 37: 200\n",
      "  label 38: 200\n",
      "  label 39: 200\n",
      "  label 40: 200\n",
      "  label 41: 200\n",
      "  label 42: 200\n",
      "  label 43: 200\n",
      "  label 44: 200\n",
      "  label 45: 200\n",
      "  label 46: 200\n",
      "  label 47: 529\n",
      "  label 48: 201\n",
      "  label 49: 200\n",
      "model is roberta-base cnn2filter345drop3\n"
     ]
    },
    {
     "name": "stderr",
     "output_type": "stream",
     "text": [
      "Some weights of RobertaModel were not initialized from the model checkpoint at roberta-base and are newly initialized: ['pooler.dense.bias', 'pooler.dense.weight']\n",
      "You should probably TRAIN this model on a down-stream task to be able to use it for predictions and inference.\n"
     ]
    },
    {
     "name": "stdout",
     "output_type": "stream",
     "text": [
      "Epoch 1/20\n"
     ]
    },
    {
     "name": "stderr",
     "output_type": "stream",
     "text": [
      "100%|██████████| 761/761 [01:07<00:00, 11.36it/s]\n"
     ]
    },
    {
     "name": "stdout",
     "output_type": "stream",
     "text": [
      "{'val_loss': 1.7078488823377862, 'val_accuracy': 0.5381431105854524, 'precision': 0.5913325668872472, 'recall': 0.5381431105854524, 'f1-score': 0.5418290735182975, 'macro_f1-score': 0.2408309126999198, 'balanced_accuracy': 0.31865919237402746, 'mcc': 0.4102515065282223, 'train_loss': 2.6191342757346594}\n",
      "Epoch 2/20\n"
     ]
    },
    {
     "name": "stderr",
     "output_type": "stream",
     "text": [
      "100%|██████████| 761/761 [01:06<00:00, 11.38it/s]\n"
     ]
    },
    {
     "name": "stdout",
     "output_type": "stream",
     "text": [
      "{'val_loss': 1.5333943490712147, 'val_accuracy': 0.5890005913660555, 'precision': 0.6714911158601595, 'recall': 0.5890005913660555, 'f1-score': 0.5889385120727648, 'macro_f1-score': 0.3261258331207585, 'balanced_accuracy': 0.4106503490867774, 'mcc': 0.48199417867575906, 'train_loss': 1.2420610003418113}\n",
      "Epoch 3/20\n"
     ]
    },
    {
     "name": "stderr",
     "output_type": "stream",
     "text": [
      "100%|██████████| 761/761 [01:06<00:00, 11.39it/s]\n"
     ]
    },
    {
     "name": "stdout",
     "output_type": "stream",
     "text": [
      "{'val_loss': 1.4605166450986322, 'val_accuracy': 0.6374926079243052, 'precision': 0.6326695062385734, 'recall': 0.6374926079243052, 'f1-score': 0.6258050093384868, 'macro_f1-score': 0.3515269770143627, 'balanced_accuracy': 0.364657654823101, 'mcc': 0.5197366787639212, 'train_loss': 0.7465347336916041}\n",
      "Epoch 4/20\n"
     ]
    },
    {
     "name": "stderr",
     "output_type": "stream",
     "text": [
      "100%|██████████| 761/761 [01:06<00:00, 11.37it/s]\n"
     ]
    },
    {
     "name": "stdout",
     "output_type": "stream",
     "text": [
      "{'val_loss': 1.5434539230926982, 'val_accuracy': 0.6327616794795978, 'precision': 0.6473407348024788, 'recall': 0.6327616794795978, 'f1-score': 0.6250165296267082, 'macro_f1-score': 0.3598351942627398, 'balanced_accuracy': 0.3848238230999496, 'mcc': 0.5172204206940616, 'train_loss': 0.518613970306128}\n",
      "Epoch 5/20\n"
     ]
    },
    {
     "name": "stderr",
     "output_type": "stream",
     "text": [
      "100%|██████████| 761/761 [01:06<00:00, 11.40it/s]\n"
     ]
    },
    {
     "name": "stdout",
     "output_type": "stream",
     "text": [
      "{'val_loss': 1.7316372450792565, 'val_accuracy': 0.6091070372560615, 'precision': 0.6581972395837655, 'recall': 0.6091070372560615, 'f1-score': 0.6182945111806667, 'macro_f1-score': 0.3242394232392031, 'balanced_accuracy': 0.3561167821626954, 'mcc': 0.5043833644353191, 'train_loss': 0.4291426790302984}\n",
      "Epoch 6/20\n"
     ]
    },
    {
     "name": "stderr",
     "output_type": "stream",
     "text": [
      "100%|██████████| 761/761 [01:06<00:00, 11.37it/s]\n"
     ]
    },
    {
     "name": "stdout",
     "output_type": "stream",
     "text": [
      "{'val_loss': 1.662930834686981, 'val_accuracy': 0.6451803666469544, 'precision': 0.6563763789729924, 'recall': 0.6451803666469544, 'f1-score': 0.6409909013761191, 'macro_f1-score': 0.3776436348559046, 'balanced_accuracy': 0.39488726862270745, 'mcc': 0.5390148289783433, 'train_loss': 0.37976841085912283}\n",
      "Epoch 7/20\n"
     ]
    },
    {
     "name": "stderr",
     "output_type": "stream",
     "text": [
      "100%|██████████| 761/761 [01:06<00:00, 11.39it/s]\n"
     ]
    },
    {
     "name": "stdout",
     "output_type": "stream",
     "text": [
      "{'val_loss': 1.7286682792429655, 'val_accuracy': 0.6463630987581312, 'precision': 0.6638403554405388, 'recall': 0.6463630987581312, 'f1-score': 0.6389206081474805, 'macro_f1-score': 0.37550579565414177, 'balanced_accuracy': 0.396712330265999, 'mcc': 0.5371061219298517, 'train_loss': 0.3303427568376162}\n",
      "Epoch 8/20\n"
     ]
    },
    {
     "name": "stderr",
     "output_type": "stream",
     "text": [
      "100%|██████████| 761/761 [01:06<00:00, 11.36it/s]\n"
     ]
    },
    {
     "name": "stdout",
     "output_type": "stream",
     "text": [
      "{'val_loss': 1.796636701192496, 'val_accuracy': 0.6321703134240094, 'precision': 0.6478749895250024, 'recall': 0.6321703134240094, 'f1-score': 0.6299691639835526, 'macro_f1-score': 0.3528920719320559, 'balanced_accuracy': 0.37983070032453625, 'mcc': 0.5295642123130886, 'train_loss': 0.3073239572940984}\n",
      "Epoch 9/20\n"
     ]
    },
    {
     "name": "stderr",
     "output_type": "stream",
     "text": [
      "100%|██████████| 761/761 [01:07<00:00, 11.35it/s]\n"
     ]
    },
    {
     "name": "stdout",
     "output_type": "stream",
     "text": [
      "{'val_loss': 1.9795205181218543, 'val_accuracy': 0.6144293317563572, 'precision': 0.6442059136338162, 'recall': 0.6144293317563572, 'f1-score': 0.6138722379977337, 'macro_f1-score': 0.33909968187135836, 'balanced_accuracy': 0.37534179702693665, 'mcc': 0.5026858306716294, 'train_loss': 0.28671097678454216}\n",
      "Early stopping.\n",
      "\n",
      "[Fold 4]\n",
      "Label distribution after resampling:\n",
      "  label 0: 2000\n",
      "  label 1: 200\n",
      "  label 2: 200\n",
      "  label 3: 200\n",
      "  label 4: 206\n",
      "  label 5: 200\n",
      "  label 6: 200\n",
      "  label 7: 200\n",
      "  label 8: 200\n",
      "  label 9: 200\n",
      "  label 10: 200\n",
      "  label 11: 200\n",
      "  label 12: 200\n",
      "  label 13: 200\n",
      "  label 14: 200\n",
      "  label 15: 200\n",
      "  label 16: 200\n",
      "  label 17: 232\n",
      "  label 18: 200\n",
      "  label 19: 200\n",
      "  label 20: 200\n",
      "  label 21: 200\n",
      "  label 22: 200\n",
      "  label 23: 200\n",
      "  label 24: 200\n",
      "  label 25: 200\n",
      "  label 26: 200\n",
      "  label 27: 200\n",
      "  label 28: 200\n",
      "  label 29: 200\n",
      "  label 30: 200\n",
      "  label 31: 200\n",
      "  label 32: 200\n",
      "  label 33: 200\n",
      "  label 34: 200\n",
      "  label 35: 200\n",
      "  label 36: 200\n",
      "  label 37: 200\n",
      "  label 38: 200\n",
      "  label 39: 200\n",
      "  label 40: 200\n",
      "  label 41: 200\n",
      "  label 42: 200\n",
      "  label 43: 200\n",
      "  label 44: 200\n",
      "  label 45: 200\n",
      "  label 46: 200\n",
      "  label 47: 529\n",
      "  label 48: 201\n",
      "  label 49: 200\n",
      "model is roberta-base cnn2filter345drop3\n"
     ]
    },
    {
     "name": "stderr",
     "output_type": "stream",
     "text": [
      "Some weights of RobertaModel were not initialized from the model checkpoint at roberta-base and are newly initialized: ['pooler.dense.bias', 'pooler.dense.weight']\n",
      "You should probably TRAIN this model on a down-stream task to be able to use it for predictions and inference.\n"
     ]
    },
    {
     "name": "stdout",
     "output_type": "stream",
     "text": [
      "Epoch 1/20\n"
     ]
    },
    {
     "name": "stderr",
     "output_type": "stream",
     "text": [
      "100%|██████████| 761/761 [01:06<00:00, 11.38it/s]\n"
     ]
    },
    {
     "name": "stdout",
     "output_type": "stream",
     "text": [
      "{'val_loss': 1.6981832272601578, 'val_accuracy': 0.4991129509166174, 'precision': 0.5566324723394318, 'recall': 0.4991129509166174, 'f1-score': 0.5061897912184918, 'macro_f1-score': 0.2499777544034065, 'balanced_accuracy': 0.3785943046987052, 'mcc': 0.38034186233760264, 'train_loss': 2.7149997458508075}\n",
      "Epoch 2/20\n"
     ]
    },
    {
     "name": "stderr",
     "output_type": "stream",
     "text": [
      "100%|██████████| 761/761 [01:07<00:00, 11.36it/s]\n"
     ]
    },
    {
     "name": "stdout",
     "output_type": "stream",
     "text": [
      "{'val_loss': 1.4601966018946666, 'val_accuracy': 0.5860437610881135, 'precision': 0.6370893895958673, 'recall': 0.5860437610881135, 'f1-score': 0.5846588325988489, 'macro_f1-score': 0.3340466667350917, 'balanced_accuracy': 0.4283338653370953, 'mcc': 0.47878208226719543, 'train_loss': 1.267810148533321}\n",
      "Epoch 3/20\n"
     ]
    },
    {
     "name": "stderr",
     "output_type": "stream",
     "text": [
      "100%|██████████| 761/761 [01:07<00:00, 11.35it/s]\n"
     ]
    },
    {
     "name": "stdout",
     "output_type": "stream",
     "text": [
      "{'val_loss': 1.365277866709907, 'val_accuracy': 0.6292134831460674, 'precision': 0.6867450825970133, 'recall': 0.6292134831460674, 'f1-score': 0.6390230579516943, 'macro_f1-score': 0.41211946303554464, 'balanced_accuracy': 0.4661562833291514, 'mcc': 0.5293653259447852, 'train_loss': 0.750078793218587}\n",
      "Epoch 4/20\n"
     ]
    },
    {
     "name": "stderr",
     "output_type": "stream",
     "text": [
      "100%|██████████| 761/761 [01:07<00:00, 11.35it/s]\n"
     ]
    },
    {
     "name": "stdout",
     "output_type": "stream",
     "text": [
      "{'val_loss': 1.4441264246432286, 'val_accuracy': 0.6487285629804849, 'precision': 0.6517506420568663, 'recall': 0.6487285629804849, 'f1-score': 0.6289601517458085, 'macro_f1-score': 0.3894241717603977, 'balanced_accuracy': 0.41458099948760824, 'mcc': 0.5322579319606615, 'train_loss': 0.5317297420818138}\n",
      "Epoch 5/20\n"
     ]
    },
    {
     "name": "stderr",
     "output_type": "stream",
     "text": [
      "100%|██████████| 761/761 [01:07<00:00, 11.35it/s]\n"
     ]
    },
    {
     "name": "stdout",
     "output_type": "stream",
     "text": [
      "{'val_loss': 1.5453176824551709, 'val_accuracy': 0.6410408042578356, 'precision': 0.6747999419391835, 'recall': 0.6410408042578356, 'f1-score': 0.6404689505275473, 'macro_f1-score': 0.4011879115899893, 'balanced_accuracy': 0.4510913763377825, 'mcc': 0.5422225461584503, 'train_loss': 0.44146632289810106}\n",
      "Epoch 6/20\n"
     ]
    },
    {
     "name": "stderr",
     "output_type": "stream",
     "text": [
      "100%|██████████| 761/761 [01:06<00:00, 11.38it/s]\n"
     ]
    },
    {
     "name": "stdout",
     "output_type": "stream",
     "text": [
      "{'val_loss': 1.5250375327074304, 'val_accuracy': 0.6641040804257835, 'precision': 0.6809996691891461, 'recall': 0.6641040804257835, 'f1-score': 0.6626192749965012, 'macro_f1-score': 0.4227893874014701, 'balanced_accuracy': 0.45043291073688335, 'mcc': 0.5641467212598965, 'train_loss': 0.36391712731771103}\n",
      "Epoch 7/20\n"
     ]
    },
    {
     "name": "stderr",
     "output_type": "stream",
     "text": [
      "100%|██████████| 761/761 [01:06<00:00, 11.37it/s]\n"
     ]
    },
    {
     "name": "stdout",
     "output_type": "stream",
     "text": [
      "{'val_loss': 1.597232370303487, 'val_accuracy': 0.6611472501478415, 'precision': 0.6661923387545813, 'recall': 0.6611472501478415, 'f1-score': 0.6550058358580821, 'macro_f1-score': 0.4084101105814855, 'balanced_accuracy': 0.4359414993953117, 'mcc': 0.5607105277849929, 'train_loss': 0.32790476925250106}\n",
      "Epoch 8/20\n"
     ]
    },
    {
     "name": "stderr",
     "output_type": "stream",
     "text": [
      "100%|██████████| 761/761 [01:06<00:00, 11.37it/s]\n"
     ]
    },
    {
     "name": "stdout",
     "output_type": "stream",
     "text": [
      "{'val_loss': 1.524021231059758, 'val_accuracy': 0.6741573033707865, 'precision': 0.683498550331449, 'recall': 0.6741573033707865, 'f1-score': 0.6680461472888505, 'macro_f1-score': 0.4373187239174918, 'balanced_accuracy': 0.45235070517171494, 'mcc': 0.5741802325053698, 'train_loss': 0.296938423003693}\n",
      "Epoch 9/20\n"
     ]
    },
    {
     "name": "stderr",
     "output_type": "stream",
     "text": [
      "100%|██████████| 761/761 [01:07<00:00, 11.36it/s]\n"
     ]
    },
    {
     "name": "stdout",
     "output_type": "stream",
     "text": [
      "{'val_loss': 1.8408551753129598, 'val_accuracy': 0.6428149024246008, 'precision': 0.6748762754830574, 'recall': 0.6428149024246008, 'f1-score': 0.6475478190811351, 'macro_f1-score': 0.42043878487755554, 'balanced_accuracy': 0.4417348503811829, 'mcc': 0.5477690637194345, 'train_loss': 0.2686887750556293}\n",
      "Epoch 10/20\n"
     ]
    },
    {
     "name": "stderr",
     "output_type": "stream",
     "text": [
      "100%|██████████| 761/761 [01:07<00:00, 11.29it/s]\n"
     ]
    },
    {
     "name": "stdout",
     "output_type": "stream",
     "text": [
      "{'val_loss': 1.6169788643436611, 'val_accuracy': 0.6635127143701951, 'precision': 0.6725225214577546, 'recall': 0.6635127143701951, 'f1-score': 0.6532043055655391, 'macro_f1-score': 0.4105915324390359, 'balanced_accuracy': 0.4334369030309588, 'mcc': 0.5571263600927904, 'train_loss': 0.2720169948833736}\n",
      "Epoch 11/20\n"
     ]
    },
    {
     "name": "stderr",
     "output_type": "stream",
     "text": [
      "100%|██████████| 761/761 [01:08<00:00, 11.17it/s]\n"
     ]
    },
    {
     "name": "stdout",
     "output_type": "stream",
     "text": [
      "{'val_loss': 1.8110281743530958, 'val_accuracy': 0.6309875813128326, 'precision': 0.669162263047801, 'recall': 0.6309875813128326, 'f1-score': 0.638190244578984, 'macro_f1-score': 0.39468292055728715, 'balanced_accuracy': 0.4358668940448357, 'mcc': 0.5287771622742644, 'train_loss': 0.24531354928271706}\n",
      "Early stopping.\n",
      "\n",
      "[Fold 5]\n",
      "Label distribution after resampling:\n",
      "  label 0: 2000\n",
      "  label 1: 200\n",
      "  label 2: 200\n",
      "  label 3: 200\n",
      "  label 4: 205\n",
      "  label 5: 200\n",
      "  label 6: 200\n",
      "  label 7: 200\n",
      "  label 8: 200\n",
      "  label 9: 200\n",
      "  label 10: 200\n",
      "  label 11: 200\n",
      "  label 12: 200\n",
      "  label 13: 200\n",
      "  label 14: 200\n",
      "  label 15: 200\n",
      "  label 16: 200\n",
      "  label 17: 231\n",
      "  label 18: 200\n",
      "  label 19: 200\n",
      "  label 20: 200\n",
      "  label 21: 200\n",
      "  label 22: 200\n",
      "  label 23: 200\n",
      "  label 24: 200\n",
      "  label 25: 200\n",
      "  label 26: 200\n",
      "  label 27: 200\n",
      "  label 28: 200\n",
      "  label 29: 200\n",
      "  label 30: 200\n",
      "  label 31: 200\n",
      "  label 32: 200\n",
      "  label 33: 200\n",
      "  label 34: 200\n",
      "  label 35: 200\n",
      "  label 36: 200\n",
      "  label 37: 200\n",
      "  label 38: 200\n",
      "  label 39: 200\n",
      "  label 40: 200\n",
      "  label 41: 200\n",
      "  label 42: 200\n",
      "  label 43: 200\n",
      "  label 44: 200\n",
      "  label 45: 200\n",
      "  label 46: 200\n",
      "  label 47: 529\n",
      "  label 48: 202\n",
      "  label 49: 200\n",
      "model is roberta-base cnn2filter345drop3\n"
     ]
    },
    {
     "name": "stderr",
     "output_type": "stream",
     "text": [
      "Some weights of RobertaModel were not initialized from the model checkpoint at roberta-base and are newly initialized: ['pooler.dense.bias', 'pooler.dense.weight']\n",
      "You should probably TRAIN this model on a down-stream task to be able to use it for predictions and inference.\n"
     ]
    },
    {
     "name": "stdout",
     "output_type": "stream",
     "text": [
      "Epoch 1/20\n"
     ]
    },
    {
     "name": "stderr",
     "output_type": "stream",
     "text": [
      "100%|██████████| 761/761 [01:08<00:00, 11.18it/s]\n"
     ]
    },
    {
     "name": "stdout",
     "output_type": "stream",
     "text": [
      "{'val_loss': 1.753189795984412, 'val_accuracy': 0.5520710059171597, 'precision': 0.5173426669887671, 'recall': 0.5520710059171597, 'f1-score': 0.5002546552071473, 'macro_f1-score': 0.15330645050113403, 'balanced_accuracy': 0.21733727940559816, 'mcc': 0.4012308000561044, 'train_loss': 2.7843345124837446}\n",
      "Epoch 2/20\n"
     ]
    },
    {
     "name": "stderr",
     "output_type": "stream",
     "text": [
      "100%|██████████| 761/761 [01:08<00:00, 11.12it/s]\n"
     ]
    },
    {
     "name": "stdout",
     "output_type": "stream",
     "text": [
      "{'val_loss': 1.5919668972492218, 'val_accuracy': 0.5402366863905326, 'precision': 0.6158425712115393, 'recall': 0.5402366863905326, 'f1-score': 0.5604812575462662, 'macro_f1-score': 0.3194962703402718, 'balanced_accuracy': 0.3930116941831729, 'mcc': 0.44227905634118725, 'train_loss': 1.3834482763114333}\n",
      "Epoch 3/20\n"
     ]
    },
    {
     "name": "stderr",
     "output_type": "stream",
     "text": [
      "100%|██████████| 761/761 [01:08<00:00, 11.14it/s]\n"
     ]
    },
    {
     "name": "stdout",
     "output_type": "stream",
     "text": [
      "{'val_loss': 1.498771438902279, 'val_accuracy': 0.6153846153846154, 'precision': 0.654283805426661, 'recall': 0.6153846153846154, 'f1-score': 0.6208218566212842, 'macro_f1-score': 0.36741604573893427, 'balanced_accuracy': 0.3958280236182138, 'mcc': 0.5093878426677654, 'train_loss': 0.789506361573817}\n",
      "Epoch 4/20\n"
     ]
    },
    {
     "name": "stderr",
     "output_type": "stream",
     "text": [
      "100%|██████████| 761/761 [01:08<00:00, 11.17it/s]\n"
     ]
    },
    {
     "name": "stdout",
     "output_type": "stream",
     "text": [
      "{'val_loss': 1.5320532932034079, 'val_accuracy': 0.6272189349112426, 'precision': 0.6598973987512948, 'recall': 0.6272189349112426, 'f1-score': 0.6225659150307049, 'macro_f1-score': 0.34135101438082144, 'balanced_accuracy': 0.37198844844032114, 'mcc': 0.5178267671834897, 'train_loss': 0.5692972814745016}\n",
      "Epoch 5/20\n"
     ]
    },
    {
     "name": "stderr",
     "output_type": "stream",
     "text": [
      "100%|██████████| 761/761 [01:07<00:00, 11.21it/s]\n"
     ]
    },
    {
     "name": "stdout",
     "output_type": "stream",
     "text": [
      "{'val_loss': 1.5370350705002838, 'val_accuracy': 0.6485207100591716, 'precision': 0.6506989616974566, 'recall': 0.6485207100591716, 'f1-score': 0.633723244860193, 'macro_f1-score': 0.37163689579871734, 'balanced_accuracy': 0.379715578060366, 'mcc': 0.5345791509874778, 'train_loss': 0.47085676795794446}\n",
      "Epoch 6/20\n"
     ]
    },
    {
     "name": "stderr",
     "output_type": "stream",
     "text": [
      "100%|██████████| 761/761 [01:08<00:00, 11.15it/s]\n"
     ]
    },
    {
     "name": "stdout",
     "output_type": "stream",
     "text": [
      "{'val_loss': 1.6471763804273785, 'val_accuracy': 0.6272189349112426, 'precision': 0.6646294879619554, 'recall': 0.6272189349112426, 'f1-score': 0.6326835125825255, 'macro_f1-score': 0.3893432441721735, 'balanced_accuracy': 0.42082402876463193, 'mcc': 0.5317155714327998, 'train_loss': 0.38905789660786755}\n",
      "Epoch 7/20\n"
     ]
    },
    {
     "name": "stderr",
     "output_type": "stream",
     "text": [
      "100%|██████████| 761/761 [01:07<00:00, 11.23it/s]\n"
     ]
    },
    {
     "name": "stdout",
     "output_type": "stream",
     "text": [
      "{'val_loss': 1.6647709408458673, 'val_accuracy': 0.644378698224852, 'precision': 0.6668565668487868, 'recall': 0.644378698224852, 'f1-score': 0.6411608189205256, 'macro_f1-score': 0.38399128000776317, 'balanced_accuracy': 0.3899741296147188, 'mcc': 0.5385924551604997, 'train_loss': 0.34272171684838193}\n",
      "Epoch 8/20\n"
     ]
    },
    {
     "name": "stderr",
     "output_type": "stream",
     "text": [
      "100%|██████████| 761/761 [01:07<00:00, 11.28it/s]\n"
     ]
    },
    {
     "name": "stdout",
     "output_type": "stream",
     "text": [
      "{'val_loss': 1.7984846644806411, 'val_accuracy': 0.6236686390532544, 'precision': 0.6645088521073673, 'recall': 0.6236686390532544, 'f1-score': 0.6270126349386512, 'macro_f1-score': 0.36780580025809145, 'balanced_accuracy': 0.3858630309539489, 'mcc': 0.5151316634815966, 'train_loss': 0.3150414484816159}\n",
      "Epoch 9/20\n"
     ]
    },
    {
     "name": "stderr",
     "output_type": "stream",
     "text": [
      "100%|██████████| 761/761 [01:08<00:00, 11.18it/s]\n"
     ]
    },
    {
     "name": "stdout",
     "output_type": "stream",
     "text": [
      "{'val_loss': 1.917758195467715, 'val_accuracy': 0.6313609467455621, 'precision': 0.6658384930456864, 'recall': 0.6313609467455621, 'f1-score': 0.6392939338439116, 'macro_f1-score': 0.3945802758740284, 'balanced_accuracy': 0.4217768810994864, 'mcc': 0.5328504758291807, 'train_loss': 0.30022601690020967}\n",
      "Epoch 10/20\n"
     ]
    },
    {
     "name": "stderr",
     "output_type": "stream",
     "text": [
      "100%|██████████| 761/761 [01:07<00:00, 11.34it/s]\n"
     ]
    },
    {
     "name": "stdout",
     "output_type": "stream",
     "text": [
      "{'val_loss': 1.7361063251517854, 'val_accuracy': 0.6390532544378699, 'precision': 0.6685930407088174, 'recall': 0.6390532544378699, 'f1-score': 0.6445412864372763, 'macro_f1-score': 0.38210814814824984, 'balanced_accuracy': 0.4000202633077958, 'mcc': 0.5377483550978226, 'train_loss': 0.28700363797254363}\n",
      "Epoch 11/20\n"
     ]
    },
    {
     "name": "stderr",
     "output_type": "stream",
     "text": [
      "100%|██████████| 761/761 [01:07<00:00, 11.27it/s]\n"
     ]
    },
    {
     "name": "stdout",
     "output_type": "stream",
     "text": [
      "{'val_loss': 1.872842326197984, 'val_accuracy': 0.6396449704142012, 'precision': 0.6696827799028001, 'recall': 0.6396449704142012, 'f1-score': 0.6441214321425843, 'macro_f1-score': 0.3708578199331313, 'balanced_accuracy': 0.3668733880079854, 'mcc': 0.5411712737410569, 'train_loss': 0.27240110726466554}\n",
      "Epoch 12/20\n"
     ]
    },
    {
     "name": "stderr",
     "output_type": "stream",
     "text": [
      "100%|██████████| 761/761 [01:07<00:00, 11.32it/s]\n"
     ]
    },
    {
     "name": "stdout",
     "output_type": "stream",
     "text": [
      "{'val_loss': 1.8414813323684458, 'val_accuracy': 0.6585798816568047, 'precision': 0.6730856555945827, 'recall': 0.6585798816568047, 'f1-score': 0.6538862649763726, 'macro_f1-score': 0.3995723862837106, 'balanced_accuracy': 0.40764621088506103, 'mcc': 0.5561931516111827, 'train_loss': 0.25687430176024817}\n",
      "Epoch 13/20\n"
     ]
    },
    {
     "name": "stderr",
     "output_type": "stream",
     "text": [
      "100%|██████████| 761/761 [01:07<00:00, 11.31it/s]\n"
     ]
    },
    {
     "name": "stdout",
     "output_type": "stream",
     "text": [
      "{'val_loss': 1.8115927998749715, 'val_accuracy': 0.6532544378698225, 'precision': 0.6706762497875, 'recall': 0.6532544378698225, 'f1-score': 0.6485688706215613, 'macro_f1-score': 0.3747672060275461, 'balanced_accuracy': 0.37107041068989416, 'mcc': 0.5401124709524463, 'train_loss': 0.23713355465809252}\n",
      "Epoch 14/20\n"
     ]
    },
    {
     "name": "stderr",
     "output_type": "stream",
     "text": [
      "100%|██████████| 761/761 [01:08<00:00, 11.14it/s]\n"
     ]
    },
    {
     "name": "stdout",
     "output_type": "stream",
     "text": [
      "{'val_loss': 1.9762824979030862, 'val_accuracy': 0.6461538461538462, 'precision': 0.6875741986357192, 'recall': 0.6461538461538462, 'f1-score': 0.6555082787324313, 'macro_f1-score': 0.4006715752823456, 'balanced_accuracy': 0.4286422782014798, 'mcc': 0.5547949808727233, 'train_loss': 0.2545353980060623}\n",
      "Epoch 15/20\n"
     ]
    },
    {
     "name": "stderr",
     "output_type": "stream",
     "text": [
      "100%|██████████| 761/761 [01:08<00:00, 11.13it/s]\n"
     ]
    },
    {
     "name": "stdout",
     "output_type": "stream",
     "text": [
      "{'val_loss': 2.145048532283531, 'val_accuracy': 0.6337278106508876, 'precision': 0.6689838106569145, 'recall': 0.6337278106508876, 'f1-score': 0.6383443728375418, 'macro_f1-score': 0.38237618989956185, 'balanced_accuracy': 0.3986923625419695, 'mcc': 0.5312704600036376, 'train_loss': 0.24299668124173224}\n",
      "Epoch 16/20\n"
     ]
    },
    {
     "name": "stderr",
     "output_type": "stream",
     "text": [
      "100%|██████████| 761/761 [01:08<00:00, 11.13it/s]\n"
     ]
    },
    {
     "name": "stdout",
     "output_type": "stream",
     "text": [
      "{'val_loss': 1.8927677996316046, 'val_accuracy': 0.6514792899408284, 'precision': 0.6691232444326529, 'recall': 0.6514792899408284, 'f1-score': 0.6490633709861393, 'macro_f1-score': 0.3912150715385103, 'balanced_accuracy': 0.39827490891919815, 'mcc': 0.550959956239538, 'train_loss': 0.23360198693571468}\n",
      "Epoch 17/20\n"
     ]
    },
    {
     "name": "stderr",
     "output_type": "stream",
     "text": [
      "100%|██████████| 761/761 [01:08<00:00, 11.11it/s]\n"
     ]
    },
    {
     "name": "stdout",
     "output_type": "stream",
     "text": [
      "{'val_loss': 1.9351521994707719, 'val_accuracy': 0.6437869822485207, 'precision': 0.6969793303434608, 'recall': 0.6437869822485207, 'f1-score': 0.6509915006253805, 'macro_f1-score': 0.42007662833488413, 'balanced_accuracy': 0.42092451503780304, 'mcc': 0.5519354673200781, 'train_loss': 0.23632233914320752}\n",
      "Epoch 18/20\n"
     ]
    },
    {
     "name": "stderr",
     "output_type": "stream",
     "text": [
      "100%|██████████| 761/761 [01:08<00:00, 11.16it/s]\n"
     ]
    },
    {
     "name": "stdout",
     "output_type": "stream",
     "text": [
      "{'val_loss': 1.96736346670198, 'val_accuracy': 0.6603550295857988, 'precision': 0.6830120013791868, 'recall': 0.6603550295857988, 'f1-score': 0.6594632378346096, 'macro_f1-score': 0.407220669513565, 'balanced_accuracy': 0.414330739157313, 'mcc': 0.5596810624100815, 'train_loss': 0.20690251722562883}\n",
      "Epoch 19/20\n"
     ]
    },
    {
     "name": "stderr",
     "output_type": "stream",
     "text": [
      "100%|██████████| 761/761 [01:08<00:00, 11.17it/s]\n"
     ]
    },
    {
     "name": "stdout",
     "output_type": "stream",
     "text": [
      "{'val_loss': 1.9495874764222019, 'val_accuracy': 0.649112426035503, 'precision': 0.6695738976505048, 'recall': 0.649112426035503, 'f1-score': 0.651028167544081, 'macro_f1-score': 0.39431234840234347, 'balanced_accuracy': 0.4020550161737742, 'mcc': 0.547523760280937, 'train_loss': 0.2359590726337333}\n",
      "Epoch 20/20\n"
     ]
    },
    {
     "name": "stderr",
     "output_type": "stream",
     "text": [
      "100%|██████████| 761/761 [01:08<00:00, 11.16it/s]\n"
     ]
    },
    {
     "name": "stdout",
     "output_type": "stream",
     "text": [
      "{'val_loss': 2.006882208417047, 'val_accuracy': 0.6485207100591716, 'precision': 0.6696354377450633, 'recall': 0.6485207100591716, 'f1-score': 0.6485308711997131, 'macro_f1-score': 0.3841678609970072, 'balanced_accuracy': 0.3952225538886565, 'mcc': 0.5499388574271644, 'train_loss': 0.2112258737489187}\n",
      "Early stopping.\n",
      "\n",
      " === roberta-base + cnn2filter345drop3 + ros Final 5-fold Cross-Validation Results ===\n",
      "Total time: 3984 seconds\n",
      "Total time: 1 hrs 6 mins 24 secs\n",
      "val_loss: 1.6582\n",
      "val_accuracy: 0.6437\n",
      "precision: 0.6714\n",
      "recall: 0.6437\n",
      "f1-score: 0.6436\n",
      "macro_f1-score: 0.4138\n",
      "balanced_accuracy: 0.4304\n",
      "mcc: 0.5441\n",
      "train_loss: 0.3522\n",
      "▶ Running: roberta-base + cnn2filter345drop5 + ros\n",
      "tokenizer is roberta-base\n",
      "Using device: cuda\n",
      "CUDA Available: True\n",
      "CUDA Device: NVIDIA GeForce RTX 5070 Ti\n",
      "Current GPU Memory Allocated: 0.02 GB\n",
      "Current GPU Memory Cached: 3.85 GB\n",
      "\n",
      "[Fold 1]\n",
      "Label distribution after resampling:\n",
      "  label 0: 2000\n",
      "  label 1: 200\n",
      "  label 2: 200\n",
      "  label 3: 200\n",
      "  label 4: 205\n",
      "  label 5: 200\n",
      "  label 6: 200\n",
      "  label 7: 200\n",
      "  label 8: 200\n",
      "  label 9: 200\n",
      "  label 10: 200\n",
      "  label 11: 200\n",
      "  label 12: 200\n",
      "  label 13: 200\n",
      "  label 14: 200\n",
      "  label 15: 200\n",
      "  label 16: 200\n",
      "  label 17: 231\n",
      "  label 18: 200\n",
      "  label 19: 200\n",
      "  label 20: 200\n",
      "  label 21: 200\n",
      "  label 22: 200\n",
      "  label 23: 200\n",
      "  label 24: 200\n",
      "  label 25: 200\n",
      "  label 26: 200\n",
      "  label 27: 200\n",
      "  label 28: 200\n",
      "  label 29: 200\n",
      "  label 30: 200\n",
      "  label 31: 200\n",
      "  label 32: 200\n",
      "  label 33: 200\n",
      "  label 34: 200\n",
      "  label 35: 200\n",
      "  label 36: 200\n",
      "  label 37: 200\n",
      "  label 38: 200\n",
      "  label 39: 200\n",
      "  label 40: 200\n",
      "  label 41: 200\n",
      "  label 42: 200\n",
      "  label 43: 200\n",
      "  label 44: 200\n",
      "  label 45: 200\n",
      "  label 46: 200\n",
      "  label 47: 529\n",
      "  label 48: 202\n",
      "  label 49: 200\n",
      "model is roberta-base cnn2filter345drop5\n"
     ]
    },
    {
     "name": "stderr",
     "output_type": "stream",
     "text": [
      "Some weights of RobertaModel were not initialized from the model checkpoint at roberta-base and are newly initialized: ['pooler.dense.bias', 'pooler.dense.weight']\n",
      "You should probably TRAIN this model on a down-stream task to be able to use it for predictions and inference.\n"
     ]
    },
    {
     "name": "stdout",
     "output_type": "stream",
     "text": [
      "Epoch 1/20\n"
     ]
    },
    {
     "name": "stderr",
     "output_type": "stream",
     "text": [
      "100%|██████████| 761/761 [01:08<00:00, 11.17it/s]\n"
     ]
    },
    {
     "name": "stdout",
     "output_type": "stream",
     "text": [
      "{'val_loss': 2.102595175774592, 'val_accuracy': 0.5263157894736842, 'precision': 0.3988461336534627, 'recall': 0.5263157894736842, 'f1-score': 0.4373864838275316, 'macro_f1-score': 0.05359821586444124, 'balanced_accuracy': 0.11698993654361253, 'mcc': 0.32746556737061244, 'train_loss': 3.3114087650559734}\n",
      "Epoch 2/20\n"
     ]
    },
    {
     "name": "stderr",
     "output_type": "stream",
     "text": [
      "100%|██████████| 761/761 [01:08<00:00, 11.17it/s]\n"
     ]
    },
    {
     "name": "stdout",
     "output_type": "stream",
     "text": [
      "{'val_loss': 1.864390437333089, 'val_accuracy': 0.5062093435836783, 'precision': 0.47663030656619454, 'recall': 0.5062093435836783, 'f1-score': 0.47304701781822833, 'macro_f1-score': 0.17083252942299024, 'balanced_accuracy': 0.2712855041502272, 'mcc': 0.35779119987983127, 'train_loss': 2.4377195542181367}\n",
      "Epoch 3/20\n"
     ]
    },
    {
     "name": "stderr",
     "output_type": "stream",
     "text": [
      "100%|██████████| 761/761 [01:08<00:00, 11.16it/s]\n"
     ]
    },
    {
     "name": "stdout",
     "output_type": "stream",
     "text": [
      "{'val_loss': 1.7955049714952145, 'val_accuracy': 0.48551153163808397, 'precision': 0.5629363941145631, 'recall': 0.48551153163808397, 'f1-score': 0.5018931646865629, 'macro_f1-score': 0.22616906597182052, 'balanced_accuracy': 0.33086682145590446, 'mcc': 0.3769324623145447, 'train_loss': 1.6607475129596194}\n",
      "Epoch 4/20\n"
     ]
    },
    {
     "name": "stderr",
     "output_type": "stream",
     "text": [
      "100%|██████████| 761/761 [01:08<00:00, 11.17it/s]\n"
     ]
    },
    {
     "name": "stdout",
     "output_type": "stream",
     "text": [
      "{'val_loss': 1.6526476566521626, 'val_accuracy': 0.560615020697812, 'precision': 0.6033757671928611, 'recall': 0.560615020697812, 'f1-score': 0.556361163143693, 'macro_f1-score': 0.29466333648146625, 'balanced_accuracy': 0.3659652383830993, 'mcc': 0.45512436702888803, 'train_loss': 1.25367263488168}\n",
      "Epoch 5/20\n"
     ]
    },
    {
     "name": "stderr",
     "output_type": "stream",
     "text": [
      "100%|██████████| 761/761 [01:08<00:00, 11.16it/s]\n"
     ]
    },
    {
     "name": "stdout",
     "output_type": "stream",
     "text": [
      "{'val_loss': 1.5696446352972175, 'val_accuracy': 0.5972797161442933, 'precision': 0.6050154515383857, 'recall': 0.5972797161442933, 'f1-score': 0.5859474850787224, 'macro_f1-score': 0.341925704862257, 'balanced_accuracy': 0.3801658797185732, 'mcc': 0.4797400123690592, 'train_loss': 0.9474709950945537}\n",
      "Epoch 6/20\n"
     ]
    },
    {
     "name": "stderr",
     "output_type": "stream",
     "text": [
      "100%|██████████| 761/761 [01:07<00:00, 11.20it/s]\n"
     ]
    },
    {
     "name": "stdout",
     "output_type": "stream",
     "text": [
      "{'val_loss': 1.6060181929255433, 'val_accuracy': 0.6114725014784151, 'precision': 0.6324357585781627, 'recall': 0.6114725014784151, 'f1-score': 0.6032977498772204, 'macro_f1-score': 0.35753523407870014, 'balanced_accuracy': 0.40184069764605423, 'mcc': 0.50097749789402, 'train_loss': 0.7428470222125229}\n",
      "Epoch 7/20\n"
     ]
    },
    {
     "name": "stderr",
     "output_type": "stream",
     "text": [
      "100%|██████████| 761/761 [01:06<00:00, 11.37it/s]\n"
     ]
    },
    {
     "name": "stdout",
     "output_type": "stream",
     "text": [
      "{'val_loss': 1.621771827058972, 'val_accuracy': 0.6339444115907746, 'precision': 0.6381431946658196, 'recall': 0.6339444115907746, 'f1-score': 0.6231775108264752, 'macro_f1-score': 0.3722086730847908, 'balanced_accuracy': 0.3990722188237787, 'mcc': 0.5256850467997868, 'train_loss': 0.5959520949718987}\n",
      "Epoch 8/20\n"
     ]
    },
    {
     "name": "stderr",
     "output_type": "stream",
     "text": [
      "100%|██████████| 761/761 [01:06<00:00, 11.36it/s]\n"
     ]
    },
    {
     "name": "stdout",
     "output_type": "stream",
     "text": [
      "{'val_loss': 1.7317743756861057, 'val_accuracy': 0.6191602602010644, 'precision': 0.6460907797104767, 'recall': 0.6191602602010644, 'f1-score': 0.6229749075166261, 'macro_f1-score': 0.3737939233975365, 'balanced_accuracy': 0.4028168340838581, 'mcc': 0.5143302176038489, 'train_loss': 0.48631762998097827}\n",
      "Epoch 9/20\n"
     ]
    },
    {
     "name": "stderr",
     "output_type": "stream",
     "text": [
      "100%|██████████| 761/761 [01:06<00:00, 11.38it/s]\n"
     ]
    },
    {
     "name": "stdout",
     "output_type": "stream",
     "text": [
      "{'val_loss': 1.6944716235376753, 'val_accuracy': 0.6510940272028386, 'precision': 0.6534462150935971, 'recall': 0.6510940272028386, 'f1-score': 0.6407763575703148, 'macro_f1-score': 0.4039128348233859, 'balanced_accuracy': 0.40490483885201073, 'mcc': 0.539726679145379, 'train_loss': 0.4443766644687126}\n",
      "Epoch 10/20\n"
     ]
    },
    {
     "name": "stderr",
     "output_type": "stream",
     "text": [
      "100%|██████████| 761/761 [01:06<00:00, 11.38it/s]\n"
     ]
    },
    {
     "name": "stdout",
     "output_type": "stream",
     "text": [
      "{'val_loss': 1.601425511938221, 'val_accuracy': 0.6451803666469544, 'precision': 0.6659872241822112, 'recall': 0.6451803666469544, 'f1-score': 0.64294144590323, 'macro_f1-score': 0.41352452167622344, 'balanced_accuracy': 0.4076431500695842, 'mcc': 0.5405159551860642, 'train_loss': 0.40414315224570097}\n",
      "Epoch 11/20\n"
     ]
    },
    {
     "name": "stderr",
     "output_type": "stream",
     "text": [
      "100%|██████████| 761/761 [01:06<00:00, 11.37it/s]\n"
     ]
    },
    {
     "name": "stdout",
     "output_type": "stream",
     "text": [
      "{'val_loss': 1.8152683276050496, 'val_accuracy': 0.6345357776463632, 'precision': 0.6540593917219704, 'recall': 0.6345357776463632, 'f1-score': 0.6235909721920634, 'macro_f1-score': 0.3729301464352066, 'balanced_accuracy': 0.4017479305368436, 'mcc': 0.5187380894670418, 'train_loss': 0.3708307463798119}\n",
      "Epoch 12/20\n"
     ]
    },
    {
     "name": "stderr",
     "output_type": "stream",
     "text": [
      "100%|██████████| 761/761 [01:07<00:00, 11.35it/s]\n"
     ]
    },
    {
     "name": "stdout",
     "output_type": "stream",
     "text": [
      "{'val_loss': 1.94980751399724, 'val_accuracy': 0.6162034299231224, 'precision': 0.6631200078938826, 'recall': 0.6162034299231224, 'f1-score': 0.6277127015460923, 'macro_f1-score': 0.36493082982034336, 'balanced_accuracy': 0.3943778878975542, 'mcc': 0.5150673630792579, 'train_loss': 0.35025073946227225}\n",
      "Epoch 13/20\n"
     ]
    },
    {
     "name": "stderr",
     "output_type": "stream",
     "text": [
      "100%|██████████| 761/761 [01:07<00:00, 11.22it/s]\n"
     ]
    },
    {
     "name": "stdout",
     "output_type": "stream",
     "text": [
      "{'val_loss': 1.8560496641779847, 'val_accuracy': 0.6392667060910704, 'precision': 0.6507672644648972, 'recall': 0.6392667060910704, 'f1-score': 0.6318506647871772, 'macro_f1-score': 0.3775557980600059, 'balanced_accuracy': 0.38516849796978503, 'mcc': 0.5250081701103482, 'train_loss': 0.3715889943095411}\n",
      "Early stopping.\n",
      "\n",
      "[Fold 2]\n",
      "Label distribution after resampling:\n",
      "  label 0: 2000\n",
      "  label 1: 200\n",
      "  label 2: 200\n",
      "  label 3: 200\n",
      "  label 4: 206\n",
      "  label 5: 200\n",
      "  label 6: 200\n",
      "  label 7: 200\n",
      "  label 8: 200\n",
      "  label 9: 200\n",
      "  label 10: 200\n",
      "  label 11: 200\n",
      "  label 12: 200\n",
      "  label 13: 200\n",
      "  label 14: 200\n",
      "  label 15: 200\n",
      "  label 16: 200\n",
      "  label 17: 231\n",
      "  label 18: 200\n",
      "  label 19: 200\n",
      "  label 20: 200\n",
      "  label 21: 200\n",
      "  label 22: 200\n",
      "  label 23: 200\n",
      "  label 24: 200\n",
      "  label 25: 200\n",
      "  label 26: 200\n",
      "  label 27: 200\n",
      "  label 28: 200\n",
      "  label 29: 200\n",
      "  label 30: 200\n",
      "  label 31: 200\n",
      "  label 32: 200\n",
      "  label 33: 200\n",
      "  label 34: 200\n",
      "  label 35: 200\n",
      "  label 36: 200\n",
      "  label 37: 200\n",
      "  label 38: 200\n",
      "  label 39: 200\n",
      "  label 40: 200\n",
      "  label 41: 200\n",
      "  label 42: 200\n",
      "  label 43: 200\n",
      "  label 44: 200\n",
      "  label 45: 200\n",
      "  label 46: 200\n",
      "  label 47: 528\n",
      "  label 48: 202\n",
      "  label 49: 200\n",
      "model is roberta-base cnn2filter345drop5\n"
     ]
    },
    {
     "name": "stderr",
     "output_type": "stream",
     "text": [
      "Some weights of RobertaModel were not initialized from the model checkpoint at roberta-base and are newly initialized: ['pooler.dense.bias', 'pooler.dense.weight']\n",
      "You should probably TRAIN this model on a down-stream task to be able to use it for predictions and inference.\n"
     ]
    },
    {
     "name": "stdout",
     "output_type": "stream",
     "text": [
      "Epoch 1/20\n"
     ]
    },
    {
     "name": "stderr",
     "output_type": "stream",
     "text": [
      "100%|██████████| 761/761 [01:06<00:00, 11.37it/s]\n"
     ]
    },
    {
     "name": "stdout",
     "output_type": "stream",
     "text": [
      "{'val_loss': 1.8337936153951682, 'val_accuracy': 0.5198107628622117, 'precision': 0.5418962809359541, 'recall': 0.5198107628622117, 'f1-score': 0.5027314821343599, 'macro_f1-score': 0.18302538640966978, 'balanced_accuracy': 0.290346390073714, 'mcc': 0.3826588161722414, 'train_loss': 2.968004270076125}\n",
      "Epoch 2/20\n"
     ]
    },
    {
     "name": "stderr",
     "output_type": "stream",
     "text": [
      "100%|██████████| 761/761 [01:06<00:00, 11.37it/s]\n"
     ]
    },
    {
     "name": "stdout",
     "output_type": "stream",
     "text": [
      "{'val_loss': 1.5150578893580526, 'val_accuracy': 0.5617977528089888, 'precision': 0.5882226756504069, 'recall': 0.5617977528089888, 'f1-score': 0.5504056671197197, 'macro_f1-score': 0.2806699547180044, 'balanced_accuracy': 0.36029160053472625, 'mcc': 0.44088566097274934, 'train_loss': 1.6337911310396434}\n",
      "Epoch 3/20\n"
     ]
    },
    {
     "name": "stderr",
     "output_type": "stream",
     "text": [
      "100%|██████████| 761/761 [01:06<00:00, 11.37it/s]\n"
     ]
    },
    {
     "name": "stdout",
     "output_type": "stream",
     "text": [
      "{'val_loss': 1.4603222892531809, 'val_accuracy': 0.6232998225901834, 'precision': 0.651591151224673, 'recall': 0.6232998225901834, 'f1-score': 0.6119524278826325, 'macro_f1-score': 0.3620769414667793, 'balanced_accuracy': 0.3953046741839081, 'mcc': 0.5056967754792863, 'train_loss': 0.965431213143934}\n",
      "Epoch 4/20\n"
     ]
    },
    {
     "name": "stderr",
     "output_type": "stream",
     "text": [
      "100%|██████████| 761/761 [01:07<00:00, 11.35it/s]\n"
     ]
    },
    {
     "name": "stdout",
     "output_type": "stream",
     "text": [
      "{'val_loss': 1.5563739822158273, 'val_accuracy': 0.6457717327025428, 'precision': 0.6406784019897507, 'recall': 0.6457717327025428, 'f1-score': 0.6230775759691483, 'macro_f1-score': 0.3851016024667169, 'balanced_accuracy': 0.3872612053296693, 'mcc': 0.5173415412270018, 'train_loss': 0.6829868680338587}\n",
      "Epoch 5/20\n"
     ]
    },
    {
     "name": "stderr",
     "output_type": "stream",
     "text": [
      "100%|██████████| 761/761 [01:08<00:00, 11.14it/s]\n"
     ]
    },
    {
     "name": "stdout",
     "output_type": "stream",
     "text": [
      "{'val_loss': 1.4912688202171955, 'val_accuracy': 0.6339444115907746, 'precision': 0.6416915605220046, 'recall': 0.6339444115907746, 'f1-score': 0.6283245247304241, 'macro_f1-score': 0.3897061259237317, 'balanced_accuracy': 0.42464762315132915, 'mcc': 0.524122768073798, 'train_loss': 0.5492143164806156}\n",
      "Epoch 6/20\n"
     ]
    },
    {
     "name": "stderr",
     "output_type": "stream",
     "text": [
      "100%|██████████| 761/761 [01:08<00:00, 11.09it/s]\n"
     ]
    },
    {
     "name": "stdout",
     "output_type": "stream",
     "text": [
      "{'val_loss': 1.6655845602728285, 'val_accuracy': 0.6369012418687168, 'precision': 0.6576310152301148, 'recall': 0.6369012418687168, 'f1-score': 0.6323957461194349, 'macro_f1-score': 0.4044222176301053, 'balanced_accuracy': 0.4319839378930617, 'mcc': 0.5269539659331418, 'train_loss': 0.44441442299174067}\n",
      "Epoch 7/20\n"
     ]
    },
    {
     "name": "stderr",
     "output_type": "stream",
     "text": [
      "100%|██████████| 761/761 [01:07<00:00, 11.22it/s]\n"
     ]
    },
    {
     "name": "stdout",
     "output_type": "stream",
     "text": [
      "{'val_loss': 1.6449876520431266, 'val_accuracy': 0.6333530455351862, 'precision': 0.6532469967979659, 'recall': 0.6333530455351862, 'f1-score': 0.6314048625817686, 'macro_f1-score': 0.3861922317519011, 'balanced_accuracy': 0.41479571703508233, 'mcc': 0.5286701035542972, 'train_loss': 0.3808026363737832}\n",
      "Epoch 8/20\n"
     ]
    },
    {
     "name": "stderr",
     "output_type": "stream",
     "text": [
      "100%|██████████| 761/761 [01:08<00:00, 11.17it/s]\n"
     ]
    },
    {
     "name": "stdout",
     "output_type": "stream",
     "text": [
      "{'val_loss': 1.7903714087211862, 'val_accuracy': 0.6522767593140154, 'precision': 0.6396377658642035, 'recall': 0.6522767593140154, 'f1-score': 0.6413367090043167, 'macro_f1-score': 0.41385457678216697, 'balanced_accuracy': 0.4201617124391467, 'mcc': 0.5377799877996798, 'train_loss': 0.34787626016478734}\n",
      "Epoch 9/20\n"
     ]
    },
    {
     "name": "stderr",
     "output_type": "stream",
     "text": [
      "100%|██████████| 761/761 [01:08<00:00, 11.17it/s]\n"
     ]
    },
    {
     "name": "stdout",
     "output_type": "stream",
     "text": [
      "{'val_loss': 1.9320336276630186, 'val_accuracy': 0.6167947959787108, 'precision': 0.6569837432380096, 'recall': 0.6167947959787108, 'f1-score': 0.623307981103912, 'macro_f1-score': 0.3735278005402411, 'balanced_accuracy': 0.4168126935333865, 'mcc': 0.5147983847626527, 'train_loss': 0.32294615764053397}\n",
      "Epoch 10/20\n"
     ]
    },
    {
     "name": "stderr",
     "output_type": "stream",
     "text": [
      "100%|██████████| 761/761 [01:08<00:00, 11.17it/s]\n"
     ]
    },
    {
     "name": "stdout",
     "output_type": "stream",
     "text": [
      "{'val_loss': 1.7387060666421674, 'val_accuracy': 0.6593731519810763, 'precision': 0.6546503552936647, 'recall': 0.6593731519810763, 'f1-score': 0.6474224477688122, 'macro_f1-score': 0.37949347288145546, 'balanced_accuracy': 0.41891766360038835, 'mcc': 0.5514995313088763, 'train_loss': 0.32531333250592065}\n",
      "Epoch 11/20\n"
     ]
    },
    {
     "name": "stderr",
     "output_type": "stream",
     "text": [
      "100%|██████████| 761/761 [01:07<00:00, 11.20it/s]\n"
     ]
    },
    {
     "name": "stdout",
     "output_type": "stream",
     "text": [
      "{'val_loss': 1.7553735288246624, 'val_accuracy': 0.6487285629804849, 'precision': 0.6567947178023633, 'recall': 0.6487285629804849, 'f1-score': 0.6452466133239513, 'macro_f1-score': 0.4008444942719586, 'balanced_accuracy': 0.4281200497886959, 'mcc': 0.5438620440028835, 'train_loss': 0.29577677553053333}\n",
      "Early stopping.\n",
      "\n",
      "[Fold 3]\n",
      "Label distribution after resampling:\n",
      "  label 0: 2000\n",
      "  label 1: 200\n",
      "  label 2: 200\n",
      "  label 3: 200\n",
      "  label 4: 206\n",
      "  label 5: 200\n",
      "  label 6: 200\n",
      "  label 7: 200\n",
      "  label 8: 200\n",
      "  label 9: 200\n",
      "  label 10: 200\n",
      "  label 11: 200\n",
      "  label 12: 200\n",
      "  label 13: 200\n",
      "  label 14: 200\n",
      "  label 15: 200\n",
      "  label 16: 200\n",
      "  label 17: 231\n",
      "  label 18: 200\n",
      "  label 19: 200\n",
      "  label 20: 200\n",
      "  label 21: 200\n",
      "  label 22: 200\n",
      "  label 23: 200\n",
      "  label 24: 200\n",
      "  label 25: 200\n",
      "  label 26: 200\n",
      "  label 27: 200\n",
      "  label 28: 200\n",
      "  label 29: 200\n",
      "  label 30: 200\n",
      "  label 31: 200\n",
      "  label 32: 200\n",
      "  label 33: 200\n",
      "  label 34: 200\n",
      "  label 35: 200\n",
      "  label 36: 200\n",
      "  label 37: 200\n",
      "  label 38: 200\n",
      "  label 39: 200\n",
      "  label 40: 200\n",
      "  label 41: 200\n",
      "  label 42: 200\n",
      "  label 43: 200\n",
      "  label 44: 200\n",
      "  label 45: 200\n",
      "  label 46: 200\n",
      "  label 47: 529\n",
      "  label 48: 201\n",
      "  label 49: 200\n",
      "model is roberta-base cnn2filter345drop5\n"
     ]
    },
    {
     "name": "stderr",
     "output_type": "stream",
     "text": [
      "Some weights of RobertaModel were not initialized from the model checkpoint at roberta-base and are newly initialized: ['pooler.dense.bias', 'pooler.dense.weight']\n",
      "You should probably TRAIN this model on a down-stream task to be able to use it for predictions and inference.\n"
     ]
    },
    {
     "name": "stdout",
     "output_type": "stream",
     "text": [
      "Epoch 1/20\n"
     ]
    },
    {
     "name": "stderr",
     "output_type": "stream",
     "text": [
      "100%|██████████| 761/761 [01:08<00:00, 11.19it/s]\n"
     ]
    },
    {
     "name": "stdout",
     "output_type": "stream",
     "text": [
      "{'val_loss': 2.0835101385161563, 'val_accuracy': 0.5280898876404494, 'precision': 0.41926223977995486, 'recall': 0.5280898876404494, 'f1-score': 0.44960535002483076, 'macro_f1-score': 0.08360810339868106, 'balanced_accuracy': 0.12994618590869883, 'mcc': 0.34070235458945275, 'train_loss': 3.274604396970451}\n",
      "Epoch 2/20\n"
     ]
    },
    {
     "name": "stderr",
     "output_type": "stream",
     "text": [
      "100%|██████████| 761/761 [01:08<00:00, 11.19it/s]\n"
     ]
    },
    {
     "name": "stdout",
     "output_type": "stream",
     "text": [
      "{'val_loss': 1.9009905367527369, 'val_accuracy': 0.46954464813719693, 'precision': 0.49442268446379345, 'recall': 0.46954464813719693, 'f1-score': 0.46421948182937334, 'macro_f1-score': 0.1710150772606924, 'balanced_accuracy': 0.26005121986127144, 'mcc': 0.33915720129225346, 'train_loss': 2.3398513584036706}\n",
      "Epoch 3/20\n"
     ]
    },
    {
     "name": "stderr",
     "output_type": "stream",
     "text": [
      "100%|██████████| 761/761 [01:08<00:00, 11.18it/s]\n"
     ]
    },
    {
     "name": "stdout",
     "output_type": "stream",
     "text": [
      "{'val_loss': 1.633816952412983, 'val_accuracy': 0.540508574807806, 'precision': 0.558291926845128, 'recall': 0.540508574807806, 'f1-score': 0.518928428805486, 'macro_f1-score': 0.2473765967670779, 'balanced_accuracy': 0.3227729270210655, 'mcc': 0.40975971874227357, 'train_loss': 1.611787488363419}\n",
      "Epoch 4/20\n"
     ]
    },
    {
     "name": "stderr",
     "output_type": "stream",
     "text": [
      "100%|██████████| 761/761 [01:08<00:00, 11.18it/s]\n"
     ]
    },
    {
     "name": "stdout",
     "output_type": "stream",
     "text": [
      "{'val_loss': 1.5140476150895066, 'val_accuracy': 0.5919574216439977, 'precision': 0.6172415794752908, 'recall': 0.5919574216439977, 'f1-score': 0.5729144828477413, 'macro_f1-score': 0.30109645011588904, 'balanced_accuracy': 0.3613653498023924, 'mcc': 0.4691133783097521, 'train_loss': 1.109562370588369}\n",
      "Epoch 5/20\n"
     ]
    },
    {
     "name": "stderr",
     "output_type": "stream",
     "text": [
      "100%|██████████| 761/761 [01:07<00:00, 11.25it/s]\n"
     ]
    },
    {
     "name": "stdout",
     "output_type": "stream",
     "text": [
      "{'val_loss': 1.5842364795927733, 'val_accuracy': 0.6085156712004731, 'precision': 0.6183852849804773, 'recall': 0.6085156712004731, 'f1-score': 0.5881606673479123, 'macro_f1-score': 0.32181151516299855, 'balanced_accuracy': 0.3442414807533137, 'mcc': 0.48483638661657485, 'train_loss': 0.8164359098214671}\n",
      "Epoch 6/20\n"
     ]
    },
    {
     "name": "stderr",
     "output_type": "stream",
     "text": [
      "100%|██████████| 761/761 [01:06<00:00, 11.38it/s]\n"
     ]
    },
    {
     "name": "stdout",
     "output_type": "stream",
     "text": [
      "{'val_loss': 1.609658397874742, 'val_accuracy': 0.5801301005322295, 'precision': 0.6235604877289346, 'recall': 0.5801301005322295, 'f1-score': 0.5845466499588003, 'macro_f1-score': 0.3203920814501477, 'balanced_accuracy': 0.34358362844505996, 'mcc': 0.4580746853931173, 'train_loss': 0.6489016167163536}\n",
      "Epoch 7/20\n"
     ]
    },
    {
     "name": "stderr",
     "output_type": "stream",
     "text": [
      "100%|██████████| 761/761 [01:06<00:00, 11.38it/s]\n"
     ]
    },
    {
     "name": "stdout",
     "output_type": "stream",
     "text": [
      "{'val_loss': 1.6898826669971898, 'val_accuracy': 0.6179775280898876, 'precision': 0.6449045650342172, 'recall': 0.6179775280898876, 'f1-score': 0.6144084724489375, 'macro_f1-score': 0.3467450809363446, 'balanced_accuracy': 0.3799397316022543, 'mcc': 0.510261841788542, 'train_loss': 0.5738969084301305}\n",
      "Epoch 8/20\n"
     ]
    },
    {
     "name": "stderr",
     "output_type": "stream",
     "text": [
      "100%|██████████| 761/761 [01:06<00:00, 11.40it/s]\n"
     ]
    },
    {
     "name": "stdout",
     "output_type": "stream",
     "text": [
      "{'val_loss': 1.6799390657611613, 'val_accuracy': 0.6321703134240094, 'precision': 0.6345164097033728, 'recall': 0.6321703134240094, 'f1-score': 0.6227556844291956, 'macro_f1-score': 0.3486560320563607, 'balanced_accuracy': 0.3764951413946275, 'mcc': 0.5155739423197615, 'train_loss': 0.470999520156978}\n",
      "Epoch 9/20\n"
     ]
    },
    {
     "name": "stderr",
     "output_type": "stream",
     "text": [
      "100%|██████████| 761/761 [01:06<00:00, 11.36it/s]\n"
     ]
    },
    {
     "name": "stdout",
     "output_type": "stream",
     "text": [
      "{'val_loss': 1.8097945502344168, 'val_accuracy': 0.6280307510348906, 'precision': 0.6384950779237122, 'recall': 0.6280307510348906, 'f1-score': 0.6242590436589388, 'macro_f1-score': 0.3340018604916313, 'balanced_accuracy': 0.3674532790198743, 'mcc': 0.5201602910339488, 'train_loss': 0.40227937898702637}\n",
      "Epoch 10/20\n"
     ]
    },
    {
     "name": "stderr",
     "output_type": "stream",
     "text": [
      "100%|██████████| 761/761 [01:06<00:00, 11.38it/s]\n"
     ]
    },
    {
     "name": "stdout",
     "output_type": "stream",
     "text": [
      "{'val_loss': 1.8193977025319945, 'val_accuracy': 0.5984624482554701, 'precision': 0.6275175727490034, 'recall': 0.5984624482554701, 'f1-score': 0.6043313782762649, 'macro_f1-score': 0.32818456124257284, 'balanced_accuracy': 0.36842503571157087, 'mcc': 0.4933350434116925, 'train_loss': 0.39274643291076755}\n",
      "Epoch 11/20\n"
     ]
    },
    {
     "name": "stderr",
     "output_type": "stream",
     "text": [
      "100%|██████████| 761/761 [01:06<00:00, 11.36it/s]\n"
     ]
    },
    {
     "name": "stdout",
     "output_type": "stream",
     "text": [
      "{'val_loss': 2.0183223525308214, 'val_accuracy': 0.5978710821998817, 'precision': 0.6582772044475235, 'recall': 0.5978710821998817, 'f1-score': 0.6150341508471056, 'macro_f1-score': 0.33836742571768175, 'balanced_accuracy': 0.38843412726637433, 'mcc': 0.49887670183888044, 'train_loss': 0.3679539948119323}\n",
      "Early stopping.\n",
      "\n",
      "[Fold 4]\n",
      "Label distribution after resampling:\n",
      "  label 0: 2000\n",
      "  label 1: 200\n",
      "  label 2: 200\n",
      "  label 3: 200\n",
      "  label 4: 206\n",
      "  label 5: 200\n",
      "  label 6: 200\n",
      "  label 7: 200\n",
      "  label 8: 200\n",
      "  label 9: 200\n",
      "  label 10: 200\n",
      "  label 11: 200\n",
      "  label 12: 200\n",
      "  label 13: 200\n",
      "  label 14: 200\n",
      "  label 15: 200\n",
      "  label 16: 200\n",
      "  label 17: 232\n",
      "  label 18: 200\n",
      "  label 19: 200\n",
      "  label 20: 200\n",
      "  label 21: 200\n",
      "  label 22: 200\n",
      "  label 23: 200\n",
      "  label 24: 200\n",
      "  label 25: 200\n",
      "  label 26: 200\n",
      "  label 27: 200\n",
      "  label 28: 200\n",
      "  label 29: 200\n",
      "  label 30: 200\n",
      "  label 31: 200\n",
      "  label 32: 200\n",
      "  label 33: 200\n",
      "  label 34: 200\n",
      "  label 35: 200\n",
      "  label 36: 200\n",
      "  label 37: 200\n",
      "  label 38: 200\n",
      "  label 39: 200\n",
      "  label 40: 200\n",
      "  label 41: 200\n",
      "  label 42: 200\n",
      "  label 43: 200\n",
      "  label 44: 200\n",
      "  label 45: 200\n",
      "  label 46: 200\n",
      "  label 47: 529\n",
      "  label 48: 201\n",
      "  label 49: 200\n",
      "model is roberta-base cnn2filter345drop5\n"
     ]
    },
    {
     "name": "stderr",
     "output_type": "stream",
     "text": [
      "Some weights of RobertaModel were not initialized from the model checkpoint at roberta-base and are newly initialized: ['pooler.dense.bias', 'pooler.dense.weight']\n",
      "You should probably TRAIN this model on a down-stream task to be able to use it for predictions and inference.\n"
     ]
    },
    {
     "name": "stdout",
     "output_type": "stream",
     "text": [
      "Epoch 1/20\n"
     ]
    },
    {
     "name": "stderr",
     "output_type": "stream",
     "text": [
      "100%|██████████| 761/761 [01:06<00:00, 11.38it/s]\n"
     ]
    },
    {
     "name": "stdout",
     "output_type": "stream",
     "text": [
      "{'val_loss': 1.7075903786803193, 'val_accuracy': 0.5659373151981076, 'precision': 0.5053589481654074, 'recall': 0.5659373151981076, 'f1-score': 0.5114738853233873, 'macro_f1-score': 0.21009958960517863, 'balanced_accuracy': 0.32291543749830676, 'mcc': 0.42343944977569087, 'train_loss': 2.981935517390047}\n",
      "Epoch 2/20\n"
     ]
    },
    {
     "name": "stderr",
     "output_type": "stream",
     "text": [
      "100%|██████████| 761/761 [01:06<00:00, 11.38it/s]\n"
     ]
    },
    {
     "name": "stdout",
     "output_type": "stream",
     "text": [
      "{'val_loss': 1.4112389751200407, 'val_accuracy': 0.6055588409225311, 'precision': 0.6138191892736075, 'recall': 0.6055588409225311, 'f1-score': 0.5898711919072509, 'macro_f1-score': 0.33979689173183225, 'balanced_accuracy': 0.4261898657804744, 'mcc': 0.48888094750858496, 'train_loss': 1.5905036651743538}\n",
      "Epoch 3/20\n"
     ]
    },
    {
     "name": "stderr",
     "output_type": "stream",
     "text": [
      "100%|██████████| 761/761 [01:06<00:00, 11.36it/s]\n"
     ]
    },
    {
     "name": "stdout",
     "output_type": "stream",
     "text": [
      "{'val_loss': 1.3813560360445167, 'val_accuracy': 0.6321703134240094, 'precision': 0.6867680346633196, 'recall': 0.6321703134240094, 'f1-score': 0.6251908596599527, 'macro_f1-score': 0.39645769350747107, 'balanced_accuracy': 0.42652428013547605, 'mcc': 0.5273577055932877, 'train_loss': 0.9327731887551708}\n",
      "Epoch 4/20\n"
     ]
    },
    {
     "name": "stderr",
     "output_type": "stream",
     "text": [
      "100%|██████████| 761/761 [01:06<00:00, 11.39it/s]\n"
     ]
    },
    {
     "name": "stdout",
     "output_type": "stream",
     "text": [
      "{'val_loss': 1.381867358707032, 'val_accuracy': 0.6351271437019516, 'precision': 0.673031398439451, 'recall': 0.6351271437019516, 'f1-score': 0.6364137879307153, 'macro_f1-score': 0.40349787828056516, 'balanced_accuracy': 0.43619026443131953, 'mcc': 0.5267837975218632, 'train_loss': 0.6569536980755539}\n",
      "Epoch 5/20\n"
     ]
    },
    {
     "name": "stderr",
     "output_type": "stream",
     "text": [
      "100%|██████████| 761/761 [01:06<00:00, 11.36it/s]\n"
     ]
    },
    {
     "name": "stdout",
     "output_type": "stream",
     "text": [
      "{'val_loss': 1.5424238718905539, 'val_accuracy': 0.6339444115907746, 'precision': 0.663181057002838, 'recall': 0.6339444115907746, 'f1-score': 0.6322404728367721, 'macro_f1-score': 0.4204897795840639, 'balanced_accuracy': 0.4727574576339791, 'mcc': 0.53760187034707, 'train_loss': 0.5731832461820795}\n",
      "Epoch 6/20\n"
     ]
    },
    {
     "name": "stderr",
     "output_type": "stream",
     "text": [
      "100%|██████████| 761/761 [01:06<00:00, 11.38it/s]\n"
     ]
    },
    {
     "name": "stdout",
     "output_type": "stream",
     "text": [
      "{'val_loss': 1.6446199970987607, 'val_accuracy': 0.6108811354228267, 'precision': 0.6567160834691548, 'recall': 0.6108811354228267, 'f1-score': 0.6216189999502385, 'macro_f1-score': 0.4046836698842662, 'balanced_accuracy': 0.4476673468673403, 'mcc': 0.5108292180480097, 'train_loss': 0.4383830305619677}\n",
      "Epoch 7/20\n"
     ]
    },
    {
     "name": "stderr",
     "output_type": "stream",
     "text": [
      "100%|██████████| 761/761 [01:06<00:00, 11.39it/s]\n"
     ]
    },
    {
     "name": "stdout",
     "output_type": "stream",
     "text": [
      "{'val_loss': 1.8864284877507191, 'val_accuracy': 0.5683027794204613, 'precision': 0.6643659111874627, 'recall': 0.5683027794204613, 'f1-score': 0.5881954723952596, 'macro_f1-score': 0.36473431775028, 'balanced_accuracy': 0.466596256857152, 'mcc': 0.48829921045875824, 'train_loss': 0.42279866497851076}\n",
      "Epoch 8/20\n"
     ]
    },
    {
     "name": "stderr",
     "output_type": "stream",
     "text": [
      "100%|██████████| 761/761 [01:07<00:00, 11.34it/s]\n"
     ]
    },
    {
     "name": "stdout",
     "output_type": "stream",
     "text": [
      "{'val_loss': 1.7367218496664516, 'val_accuracy': 0.6298048492016558, 'precision': 0.6783968266880027, 'recall': 0.6298048492016558, 'f1-score': 0.6359253407850315, 'macro_f1-score': 0.40342873923249684, 'balanced_accuracy': 0.4691873449911561, 'mcc': 0.5366291306449383, 'train_loss': 0.3436122126981332}\n",
      "Early stopping.\n",
      "\n",
      "[Fold 5]\n",
      "Label distribution after resampling:\n",
      "  label 0: 2000\n",
      "  label 1: 200\n",
      "  label 2: 200\n",
      "  label 3: 200\n",
      "  label 4: 205\n",
      "  label 5: 200\n",
      "  label 6: 200\n",
      "  label 7: 200\n",
      "  label 8: 200\n",
      "  label 9: 200\n",
      "  label 10: 200\n",
      "  label 11: 200\n",
      "  label 12: 200\n",
      "  label 13: 200\n",
      "  label 14: 200\n",
      "  label 15: 200\n",
      "  label 16: 200\n",
      "  label 17: 231\n",
      "  label 18: 200\n",
      "  label 19: 200\n",
      "  label 20: 200\n",
      "  label 21: 200\n",
      "  label 22: 200\n",
      "  label 23: 200\n",
      "  label 24: 200\n",
      "  label 25: 200\n",
      "  label 26: 200\n",
      "  label 27: 200\n",
      "  label 28: 200\n",
      "  label 29: 200\n",
      "  label 30: 200\n",
      "  label 31: 200\n",
      "  label 32: 200\n",
      "  label 33: 200\n",
      "  label 34: 200\n",
      "  label 35: 200\n",
      "  label 36: 200\n",
      "  label 37: 200\n",
      "  label 38: 200\n",
      "  label 39: 200\n",
      "  label 40: 200\n",
      "  label 41: 200\n",
      "  label 42: 200\n",
      "  label 43: 200\n",
      "  label 44: 200\n",
      "  label 45: 200\n",
      "  label 46: 200\n",
      "  label 47: 529\n",
      "  label 48: 202\n",
      "  label 49: 200\n",
      "model is roberta-base cnn2filter345drop5\n"
     ]
    },
    {
     "name": "stderr",
     "output_type": "stream",
     "text": [
      "Some weights of RobertaModel were not initialized from the model checkpoint at roberta-base and are newly initialized: ['pooler.dense.bias', 'pooler.dense.weight']\n",
      "You should probably TRAIN this model on a down-stream task to be able to use it for predictions and inference.\n"
     ]
    },
    {
     "name": "stdout",
     "output_type": "stream",
     "text": [
      "Epoch 1/20\n"
     ]
    },
    {
     "name": "stderr",
     "output_type": "stream",
     "text": [
      "100%|██████████| 761/761 [01:07<00:00, 11.35it/s]\n"
     ]
    },
    {
     "name": "stdout",
     "output_type": "stream",
     "text": [
      "{'val_loss': 1.8527572014421787, 'val_accuracy': 0.5017751479289941, 'precision': 0.5370064760242216, 'recall': 0.5017751479289941, 'f1-score': 0.4909574951243765, 'macro_f1-score': 0.15353652972579376, 'balanced_accuracy': 0.273529872541293, 'mcc': 0.367635378533327, 'train_loss': 2.9488541583350703}\n",
      "Epoch 2/20\n"
     ]
    },
    {
     "name": "stderr",
     "output_type": "stream",
     "text": [
      "100%|██████████| 761/761 [01:07<00:00, 11.35it/s]\n"
     ]
    },
    {
     "name": "stdout",
     "output_type": "stream",
     "text": [
      "{'val_loss': 1.5753012524460845, 'val_accuracy': 0.5674556213017752, 'precision': 0.6006319104202891, 'recall': 0.5674556213017752, 'f1-score': 0.564221436928706, 'macro_f1-score': 0.28750163629482556, 'balanced_accuracy': 0.34619453554896595, 'mcc': 0.4529698023111746, 'train_loss': 1.742469025112483}\n",
      "Epoch 3/20\n"
     ]
    },
    {
     "name": "stderr",
     "output_type": "stream",
     "text": [
      "100%|██████████| 761/761 [01:06<00:00, 11.36it/s]\n"
     ]
    },
    {
     "name": "stdout",
     "output_type": "stream",
     "text": [
      "{'val_loss': 1.5907759438708144, 'val_accuracy': 0.5781065088757397, 'precision': 0.6160238022297961, 'recall': 0.5781065088757397, 'f1-score': 0.5798432264593603, 'macro_f1-score': 0.3146240681989391, 'balanced_accuracy': 0.36598650357008056, 'mcc': 0.470448194768406, 'train_loss': 1.0857800363554435}\n",
      "Epoch 4/20\n"
     ]
    },
    {
     "name": "stderr",
     "output_type": "stream",
     "text": [
      "100%|██████████| 761/761 [01:06<00:00, 11.38it/s]\n"
     ]
    },
    {
     "name": "stdout",
     "output_type": "stream",
     "text": [
      "{'val_loss': 1.5937773815865786, 'val_accuracy': 0.6106508875739645, 'precision': 0.6630932795634886, 'recall': 0.6106508875739645, 'f1-score': 0.6178237339857041, 'macro_f1-score': 0.3542788418427063, 'balanced_accuracy': 0.39565746198325225, 'mcc': 0.4978026101582155, 'train_loss': 0.7840749154677529}\n",
      "Epoch 5/20\n"
     ]
    },
    {
     "name": "stderr",
     "output_type": "stream",
     "text": [
      "100%|██████████| 761/761 [01:07<00:00, 11.35it/s]\n"
     ]
    },
    {
     "name": "stdout",
     "output_type": "stream",
     "text": [
      "{'val_loss': 1.6021833830284622, 'val_accuracy': 0.6366863905325444, 'precision': 0.649877733926399, 'recall': 0.6366863905325444, 'f1-score': 0.6305745681342454, 'macro_f1-score': 0.3763740987333364, 'balanced_accuracy': 0.4005898643664938, 'mcc': 0.5286458892311287, 'train_loss': 0.6333458459398827}\n",
      "Epoch 6/20\n"
     ]
    },
    {
     "name": "stderr",
     "output_type": "stream",
     "text": [
      "100%|██████████| 761/761 [01:07<00:00, 11.35it/s]\n"
     ]
    },
    {
     "name": "stdout",
     "output_type": "stream",
     "text": [
      "{'val_loss': 1.7056589958802708, 'val_accuracy': 0.6159763313609468, 'precision': 0.6414269516358577, 'recall': 0.6159763313609468, 'f1-score': 0.6165814484521458, 'macro_f1-score': 0.3496367322302428, 'balanced_accuracy': 0.3856349027715126, 'mcc': 0.5140450016893048, 'train_loss': 0.5193349955243679}\n",
      "Epoch 7/20\n"
     ]
    },
    {
     "name": "stderr",
     "output_type": "stream",
     "text": [
      "100%|██████████| 761/761 [01:07<00:00, 11.35it/s]\n"
     ]
    },
    {
     "name": "stdout",
     "output_type": "stream",
     "text": [
      "{'val_loss': 1.6524685465221136, 'val_accuracy': 0.6260355029585799, 'precision': 0.6839649785959425, 'recall': 0.6260355029585799, 'f1-score': 0.6354475619696501, 'macro_f1-score': 0.36614033966622267, 'balanced_accuracy': 0.4034870376033467, 'mcc': 0.5267867028368174, 'train_loss': 0.46515416032567364}\n",
      "Epoch 8/20\n"
     ]
    },
    {
     "name": "stderr",
     "output_type": "stream",
     "text": [
      "100%|██████████| 761/761 [01:06<00:00, 11.37it/s]\n"
     ]
    },
    {
     "name": "stdout",
     "output_type": "stream",
     "text": [
      "{'val_loss': 1.8064213524449546, 'val_accuracy': 0.650887573964497, 'precision': 0.6495691628734562, 'recall': 0.650887573964497, 'f1-score': 0.6357265028797089, 'macro_f1-score': 0.38997393798405006, 'balanced_accuracy': 0.39915389321521416, 'mcc': 0.5380681122120496, 'train_loss': 0.4139884544705358}\n",
      "Epoch 9/20\n"
     ]
    },
    {
     "name": "stderr",
     "output_type": "stream",
     "text": [
      "100%|██████████| 761/761 [01:06<00:00, 11.39it/s]\n"
     ]
    },
    {
     "name": "stdout",
     "output_type": "stream",
     "text": [
      "{'val_loss': 1.6576468539687823, 'val_accuracy': 0.6514792899408284, 'precision': 0.654031685890863, 'recall': 0.6514792899408284, 'f1-score': 0.6399233245416596, 'macro_f1-score': 0.37286667447101346, 'balanced_accuracy': 0.38691598493244617, 'mcc': 0.5431194681281982, 'train_loss': 0.37296524983995966}\n",
      "Epoch 10/20\n"
     ]
    },
    {
     "name": "stderr",
     "output_type": "stream",
     "text": [
      "100%|██████████| 761/761 [01:06<00:00, 11.37it/s]\n"
     ]
    },
    {
     "name": "stdout",
     "output_type": "stream",
     "text": [
      "{'val_loss': 1.7784748520210105, 'val_accuracy': 0.6502958579881657, 'precision': 0.6523810540524073, 'recall': 0.6502958579881657, 'f1-score': 0.6385705591270343, 'macro_f1-score': 0.3835498341842982, 'balanced_accuracy': 0.3829483267511793, 'mcc': 0.5407277188863668, 'train_loss': 0.36114714890424743}\n",
      "Epoch 11/20\n"
     ]
    },
    {
     "name": "stderr",
     "output_type": "stream",
     "text": [
      "100%|██████████| 761/761 [01:06<00:00, 11.37it/s]\n"
     ]
    },
    {
     "name": "stdout",
     "output_type": "stream",
     "text": [
      "{'val_loss': 1.9955111154407825, 'val_accuracy': 0.6076923076923076, 'precision': 0.6686234107325083, 'recall': 0.6076923076923076, 'f1-score': 0.6235113334479715, 'macro_f1-score': 0.36346919594532023, 'balanced_accuracy': 0.4025237625955985, 'mcc': 0.517246099777323, 'train_loss': 0.31011032250020826}\n",
      "Early stopping.\n",
      "\n",
      " === roberta-base + cnn2filter345drop5 + ros Final 5-fold Cross-Validation Results ===\n",
      "Total time: 3845 seconds\n",
      "Total time: 1 hrs 4 mins 5 secs\n",
      "val_loss: 1.6841\n",
      "val_accuracy: 0.6429\n",
      "precision: 0.6506\n",
      "recall: 0.6429\n",
      "f1-score: 0.6350\n",
      "macro_f1-score: 0.3973\n",
      "balanced_accuracy: 0.4152\n",
      "mcc: 0.5339\n",
      "train_loss: 0.4420\n",
      "▶ Running: microsoft/deberta-base + cnn1filter234drop3 + ros\n",
      "tokenizer is microsoft/deberta-base\n",
      "Using device: cuda\n",
      "CUDA Available: True\n",
      "CUDA Device: NVIDIA GeForce RTX 5070 Ti\n",
      "Current GPU Memory Allocated: 0.02 GB\n",
      "Current GPU Memory Cached: 3.85 GB\n",
      "\n",
      "[Fold 1]\n",
      "Label distribution after resampling:\n",
      "  label 0: 2000\n",
      "  label 1: 200\n",
      "  label 2: 200\n",
      "  label 3: 200\n",
      "  label 4: 205\n",
      "  label 5: 200\n",
      "  label 6: 200\n",
      "  label 7: 200\n",
      "  label 8: 200\n",
      "  label 9: 200\n",
      "  label 10: 200\n",
      "  label 11: 200\n",
      "  label 12: 200\n",
      "  label 13: 200\n",
      "  label 14: 200\n",
      "  label 15: 200\n",
      "  label 16: 200\n",
      "  label 17: 231\n",
      "  label 18: 200\n",
      "  label 19: 200\n",
      "  label 20: 200\n",
      "  label 21: 200\n",
      "  label 22: 200\n",
      "  label 23: 200\n",
      "  label 24: 200\n",
      "  label 25: 200\n",
      "  label 26: 200\n",
      "  label 27: 200\n",
      "  label 28: 200\n",
      "  label 29: 200\n",
      "  label 30: 200\n",
      "  label 31: 200\n",
      "  label 32: 200\n",
      "  label 33: 200\n",
      "  label 34: 200\n",
      "  label 35: 200\n",
      "  label 36: 200\n",
      "  label 37: 200\n",
      "  label 38: 200\n",
      "  label 39: 200\n",
      "  label 40: 200\n",
      "  label 41: 200\n",
      "  label 42: 200\n",
      "  label 43: 200\n",
      "  label 44: 200\n",
      "  label 45: 200\n",
      "  label 46: 200\n",
      "  label 47: 529\n",
      "  label 48: 202\n",
      "  label 49: 200\n",
      "model is microsoft/deberta-base cnn1filter234drop3\n",
      "Epoch 1/20\n"
     ]
    },
    {
     "name": "stderr",
     "output_type": "stream",
     "text": [
      "100%|██████████| 761/761 [01:20<00:00,  9.42it/s]\n"
     ]
    },
    {
     "name": "stdout",
     "output_type": "stream",
     "text": [
      "{'val_loss': 2.130922217414064, 'val_accuracy': 0.5168539325842697, 'precision': 0.4178609174609569, 'recall': 0.5168539325842697, 'f1-score': 0.4459253116133326, 'macro_f1-score': 0.061284034160922006, 'balanced_accuracy': 0.12780235228340767, 'mcc': 0.3328196990290819, 'train_loss': 3.148463791522654}\n",
      "Epoch 2/20\n"
     ]
    },
    {
     "name": "stderr",
     "output_type": "stream",
     "text": [
      "100%|██████████| 761/761 [01:20<00:00,  9.44it/s]\n"
     ]
    },
    {
     "name": "stdout",
     "output_type": "stream",
     "text": [
      "{'val_loss': 2.0107779632199487, 'val_accuracy': 0.4973388527498522, 'precision': 0.4507728711694858, 'recall': 0.4973388527498522, 'f1-score': 0.45340491805567024, 'macro_f1-score': 0.0725146251805462, 'balanced_accuracy': 0.15702345488275873, 'mcc': 0.3311720270913452, 'train_loss': 2.751538320063918}\n",
      "Epoch 3/20\n"
     ]
    },
    {
     "name": "stderr",
     "output_type": "stream",
     "text": [
      "100%|██████████| 761/761 [01:20<00:00,  9.45it/s]\n"
     ]
    },
    {
     "name": "stdout",
     "output_type": "stream",
     "text": [
      "{'val_loss': 1.9650024513028703, 'val_accuracy': 0.4470727380248374, 'precision': 0.4656822893901537, 'recall': 0.4470727380248374, 'f1-score': 0.44009530796211555, 'macro_f1-score': 0.09029066124829194, 'balanced_accuracy': 0.14707682248964674, 'mcc': 0.2936039524966719, 'train_loss': 2.2811673517766042}\n",
      "Epoch 4/20\n"
     ]
    },
    {
     "name": "stderr",
     "output_type": "stream",
     "text": [
      "100%|██████████| 761/761 [01:20<00:00,  9.44it/s]\n"
     ]
    },
    {
     "name": "stdout",
     "output_type": "stream",
     "text": [
      "{'val_loss': 1.8845412927978444, 'val_accuracy': 0.48551153163808397, 'precision': 0.4925689512452666, 'recall': 0.48551153163808397, 'f1-score': 0.4772976113021737, 'macro_f1-score': 0.1456701521785202, 'balanced_accuracy': 0.19563529018635578, 'mcc': 0.3483448751404054, 'train_loss': 1.9792050961282657}\n",
      "Epoch 5/20\n"
     ]
    },
    {
     "name": "stderr",
     "output_type": "stream",
     "text": [
      "100%|██████████| 761/761 [01:20<00:00,  9.43it/s]\n"
     ]
    },
    {
     "name": "stdout",
     "output_type": "stream",
     "text": [
      "{'val_loss': 1.8959000582964916, 'val_accuracy': 0.4606741573033708, 'precision': 0.5285177144115824, 'recall': 0.4606741573033708, 'f1-score': 0.47076691576949486, 'macro_f1-score': 0.16324068567415026, 'balanced_accuracy': 0.2224742067359333, 'mcc': 0.3396171944735881, 'train_loss': 1.6924013047431363}\n",
      "Epoch 6/20\n"
     ]
    },
    {
     "name": "stderr",
     "output_type": "stream",
     "text": [
      "100%|██████████| 761/761 [01:20<00:00,  9.44it/s]\n"
     ]
    },
    {
     "name": "stdout",
     "output_type": "stream",
     "text": [
      "{'val_loss': 1.726617767001098, 'val_accuracy': 0.524541691306919, 'precision': 0.5453437591411626, 'recall': 0.524541691306919, 'f1-score': 0.5143443385747001, 'macro_f1-score': 0.20525101223768683, 'balanced_accuracy': 0.25426314877803635, 'mcc': 0.39617002058632506, 'train_loss': 1.4621714144436038}\n",
      "Epoch 7/20\n"
     ]
    },
    {
     "name": "stderr",
     "output_type": "stream",
     "text": [
      "100%|██████████| 761/761 [01:20<00:00,  9.45it/s]\n"
     ]
    },
    {
     "name": "stdout",
     "output_type": "stream",
     "text": [
      "{'val_loss': 1.8974203973446253, 'val_accuracy': 0.5251330573625074, 'precision': 0.5479428763413765, 'recall': 0.5251330573625074, 'f1-score': 0.5208782212998028, 'macro_f1-score': 0.21124398542336892, 'balanced_accuracy': 0.2586343040817782, 'mcc': 0.3971312803734471, 'train_loss': 1.259145846661381}\n",
      "Epoch 8/20\n"
     ]
    },
    {
     "name": "stderr",
     "output_type": "stream",
     "text": [
      "100%|██████████| 761/761 [01:20<00:00,  9.43it/s]\n"
     ]
    },
    {
     "name": "stdout",
     "output_type": "stream",
     "text": [
      "{'val_loss': 1.7187630033717964, 'val_accuracy': 0.5694855115316381, 'precision': 0.5538580268259368, 'recall': 0.5694855115316381, 'f1-score': 0.5463334039950809, 'macro_f1-score': 0.24131769496841, 'balanced_accuracy': 0.2631145660536062, 'mcc': 0.4309161557678998, 'train_loss': 1.1259593761155233}\n",
      "Epoch 9/20\n"
     ]
    },
    {
     "name": "stderr",
     "output_type": "stream",
     "text": [
      "100%|██████████| 761/761 [01:20<00:00,  9.42it/s]\n"
     ]
    },
    {
     "name": "stdout",
     "output_type": "stream",
     "text": [
      "{'val_loss': 1.8925955796016838, 'val_accuracy': 0.5079834417504435, 'precision': 0.6010412508993325, 'recall': 0.5079834417504435, 'f1-score': 0.5261260727879083, 'macro_f1-score': 0.25092245390297735, 'balanced_accuracy': 0.3054391670272944, 'mcc': 0.38944408779687617, 'train_loss': 0.9967163694280833}\n",
      "Epoch 10/20\n"
     ]
    },
    {
     "name": "stderr",
     "output_type": "stream",
     "text": [
      "100%|██████████| 761/761 [01:20<00:00,  9.44it/s]\n"
     ]
    },
    {
     "name": "stdout",
     "output_type": "stream",
     "text": [
      "{'val_loss': 1.8190872776058484, 'val_accuracy': 0.5653459491425192, 'precision': 0.5634799003182486, 'recall': 0.5653459491425192, 'f1-score': 0.5554092900537902, 'macro_f1-score': 0.2938873907253115, 'balanced_accuracy': 0.333396533858045, 'mcc': 0.44414028254909216, 'train_loss': 0.8653128707534223}\n",
      "Epoch 11/20\n"
     ]
    },
    {
     "name": "stderr",
     "output_type": "stream",
     "text": [
      "100%|██████████| 761/761 [01:20<00:00,  9.45it/s]\n"
     ]
    },
    {
     "name": "stdout",
     "output_type": "stream",
     "text": [
      "{'val_loss': 1.8556758519613519, 'val_accuracy': 0.5594322885866351, 'precision': 0.5724198599667102, 'recall': 0.5594322885866351, 'f1-score': 0.5568537742081034, 'macro_f1-score': 0.28698739361670744, 'balanced_accuracy': 0.3254146449310786, 'mcc': 0.4363876403005126, 'train_loss': 0.7742437319377249}\n",
      "Epoch 12/20\n"
     ]
    },
    {
     "name": "stderr",
     "output_type": "stream",
     "text": [
      "100%|██████████| 761/761 [01:20<00:00,  9.43it/s]\n"
     ]
    },
    {
     "name": "stdout",
     "output_type": "stream",
     "text": [
      "{'val_loss': 1.8921775801001854, 'val_accuracy': 0.5777646363098758, 'precision': 0.5864655494603958, 'recall': 0.5777646363098758, 'f1-score': 0.5748693669654558, 'macro_f1-score': 0.3027027577107855, 'balanced_accuracy': 0.320391588847994, 'mcc': 0.45430625458233215, 'train_loss': 0.729541068424259}\n",
      "Epoch 13/20\n"
     ]
    },
    {
     "name": "stderr",
     "output_type": "stream",
     "text": [
      "100%|██████████| 761/761 [01:20<00:00,  9.43it/s]\n"
     ]
    },
    {
     "name": "stdout",
     "output_type": "stream",
     "text": [
      "{'val_loss': 1.8731348936287862, 'val_accuracy': 0.5807214665878179, 'precision': 0.5933030765306568, 'recall': 0.5807214665878179, 'f1-score': 0.5730061044597354, 'macro_f1-score': 0.2990794870063057, 'balanced_accuracy': 0.3217743047444758, 'mcc': 0.4597266243654875, 'train_loss': 0.631660471226085}\n",
      "Epoch 14/20\n"
     ]
    },
    {
     "name": "stderr",
     "output_type": "stream",
     "text": [
      "100%|██████████| 761/761 [01:20<00:00,  9.44it/s]\n"
     ]
    },
    {
     "name": "stdout",
     "output_type": "stream",
     "text": [
      "{'val_loss': 2.2537291601019085, 'val_accuracy': 0.4991129509166174, 'precision': 0.5825113414483201, 'recall': 0.4991129509166174, 'f1-score': 0.5203278154063324, 'macro_f1-score': 0.2976970333681926, 'balanced_accuracy': 0.3347154266822012, 'mcc': 0.3926770683461997, 'train_loss': 0.5915280430750253}\n",
      "Epoch 15/20\n"
     ]
    },
    {
     "name": "stderr",
     "output_type": "stream",
     "text": [
      "100%|██████████| 761/761 [01:20<00:00,  9.44it/s]\n"
     ]
    },
    {
     "name": "stdout",
     "output_type": "stream",
     "text": [
      "{'val_loss': 2.028972658346284, 'val_accuracy': 0.5677114133648729, 'precision': 0.5846226935154414, 'recall': 0.5677114133648729, 'f1-score': 0.5649164080793233, 'macro_f1-score': 0.31371256183809926, 'balanced_accuracy': 0.34298173684984407, 'mcc': 0.45329417169570363, 'train_loss': 0.5441485172561058}\n",
      "Epoch 16/20\n"
     ]
    },
    {
     "name": "stderr",
     "output_type": "stream",
     "text": [
      "100%|██████████| 761/761 [01:20<00:00,  9.43it/s]\n"
     ]
    },
    {
     "name": "stdout",
     "output_type": "stream",
     "text": [
      "{'val_loss': 2.024416390454994, 'val_accuracy': 0.5706682436428149, 'precision': 0.5884941281596509, 'recall': 0.5706682436428149, 'f1-score': 0.5666877726801522, 'macro_f1-score': 0.3032704883385705, 'balanced_accuracy': 0.3229894924991637, 'mcc': 0.44455976346681725, 'train_loss': 0.521187144002428}\n",
      "Epoch 17/20\n"
     ]
    },
    {
     "name": "stderr",
     "output_type": "stream",
     "text": [
      "100%|██████████| 761/761 [01:20<00:00,  9.44it/s]\n"
     ]
    },
    {
     "name": "stdout",
     "output_type": "stream",
     "text": [
      "{'val_loss': 1.991687145997893, 'val_accuracy': 0.5996451803666469, 'precision': 0.5983872443548085, 'recall': 0.5996451803666469, 'f1-score': 0.5928129869276623, 'macro_f1-score': 0.32340359105360483, 'balanced_accuracy': 0.3351951484844763, 'mcc': 0.4802444510729249, 'train_loss': 0.4876763872158531}\n",
      "Epoch 18/20\n"
     ]
    },
    {
     "name": "stderr",
     "output_type": "stream",
     "text": [
      "100%|██████████| 761/761 [01:20<00:00,  9.44it/s]\n"
     ]
    },
    {
     "name": "stdout",
     "output_type": "stream",
     "text": [
      "{'val_loss': 2.255837477040741, 'val_accuracy': 0.5736250739207569, 'precision': 0.5981749600826303, 'recall': 0.5736250739207569, 'f1-score': 0.5698713874073529, 'macro_f1-score': 0.28491926406747503, 'balanced_accuracy': 0.29580662580959727, 'mcc': 0.45850561850499494, 'train_loss': 0.43928117029804553}\n",
      "Epoch 19/20\n"
     ]
    },
    {
     "name": "stderr",
     "output_type": "stream",
     "text": [
      "100%|██████████| 761/761 [01:20<00:00,  9.44it/s]\n"
     ]
    },
    {
     "name": "stdout",
     "output_type": "stream",
     "text": [
      "{'val_loss': 2.1360020749973803, 'val_accuracy': 0.5458308693081018, 'precision': 0.5786017627269328, 'recall': 0.5458308693081018, 'f1-score': 0.5504307114579913, 'macro_f1-score': 0.291161304741605, 'balanced_accuracy': 0.3126502422060558, 'mcc': 0.42259586512965736, 'train_loss': 0.561220847466733}\n",
      "Epoch 20/20\n"
     ]
    },
    {
     "name": "stderr",
     "output_type": "stream",
     "text": [
      "100%|██████████| 761/761 [01:20<00:00,  9.44it/s]\n"
     ]
    },
    {
     "name": "stdout",
     "output_type": "stream",
     "text": [
      "{'val_loss': 2.092136906003052, 'val_accuracy': 0.5736250739207569, 'precision': 0.5827478727404941, 'recall': 0.5736250739207569, 'f1-score': 0.5656834702454381, 'macro_f1-score': 0.3102306191503802, 'balanced_accuracy': 0.3407020088177227, 'mcc': 0.45375190008337396, 'train_loss': 0.5652779867179917}\n",
      "Early stopping.\n",
      "\n",
      "[Fold 2]\n",
      "Label distribution after resampling:\n",
      "  label 0: 2000\n",
      "  label 1: 200\n",
      "  label 2: 200\n",
      "  label 3: 200\n",
      "  label 4: 206\n",
      "  label 5: 200\n",
      "  label 6: 200\n",
      "  label 7: 200\n",
      "  label 8: 200\n",
      "  label 9: 200\n",
      "  label 10: 200\n",
      "  label 11: 200\n",
      "  label 12: 200\n",
      "  label 13: 200\n",
      "  label 14: 200\n",
      "  label 15: 200\n",
      "  label 16: 200\n",
      "  label 17: 231\n",
      "  label 18: 200\n",
      "  label 19: 200\n",
      "  label 20: 200\n",
      "  label 21: 200\n",
      "  label 22: 200\n",
      "  label 23: 200\n",
      "  label 24: 200\n",
      "  label 25: 200\n",
      "  label 26: 200\n",
      "  label 27: 200\n",
      "  label 28: 200\n",
      "  label 29: 200\n",
      "  label 30: 200\n",
      "  label 31: 200\n",
      "  label 32: 200\n",
      "  label 33: 200\n",
      "  label 34: 200\n",
      "  label 35: 200\n",
      "  label 36: 200\n",
      "  label 37: 200\n",
      "  label 38: 200\n",
      "  label 39: 200\n",
      "  label 40: 200\n",
      "  label 41: 200\n",
      "  label 42: 200\n",
      "  label 43: 200\n",
      "  label 44: 200\n",
      "  label 45: 200\n",
      "  label 46: 200\n",
      "  label 47: 528\n",
      "  label 48: 202\n",
      "  label 49: 200\n",
      "model is microsoft/deberta-base cnn1filter234drop3\n",
      "Epoch 1/20\n"
     ]
    },
    {
     "name": "stderr",
     "output_type": "stream",
     "text": [
      "100%|██████████| 761/761 [01:20<00:00,  9.44it/s]\n"
     ]
    },
    {
     "name": "stdout",
     "output_type": "stream",
     "text": [
      "{'val_loss': 1.5246531074901797, 'val_accuracy': 0.5771732702542874, 'precision': 0.6032014362182448, 'recall': 0.5771732702542874, 'f1-score': 0.5743502190173618, 'macro_f1-score': 0.32504663507769166, 'balanced_accuracy': 0.4077154493929469, 'mcc': 0.46909140020073703, 'train_loss': 2.1936773006142203}\n",
      "Epoch 2/20\n"
     ]
    },
    {
     "name": "stderr",
     "output_type": "stream",
     "text": [
      "100%|██████████| 761/761 [01:20<00:00,  9.43it/s]\n"
     ]
    },
    {
     "name": "stdout",
     "output_type": "stream",
     "text": [
      "{'val_loss': 1.3789869302286293, 'val_accuracy': 0.625665286812537, 'precision': 0.6529529174390065, 'recall': 0.625665286812537, 'f1-score': 0.62898302472499, 'macro_f1-score': 0.38034798999653047, 'balanced_accuracy': 0.4319311263167029, 'mcc': 0.5241086071755985, 'train_loss': 0.8940804987440911}\n",
      "Epoch 3/20\n"
     ]
    },
    {
     "name": "stderr",
     "output_type": "stream",
     "text": [
      "100%|██████████| 761/761 [01:20<00:00,  9.43it/s]\n"
     ]
    },
    {
     "name": "stdout",
     "output_type": "stream",
     "text": [
      "{'val_loss': 1.4308202120493043, 'val_accuracy': 0.651685393258427, 'precision': 0.6670145555496836, 'recall': 0.651685393258427, 'f1-score': 0.640686874045208, 'macro_f1-score': 0.3881904349084605, 'balanced_accuracy': 0.40273238637240105, 'mcc': 0.5340668033372641, 'train_loss': 0.5418041396137137}\n",
      "Epoch 4/20\n"
     ]
    },
    {
     "name": "stderr",
     "output_type": "stream",
     "text": [
      "100%|██████████| 761/761 [01:20<00:00,  9.45it/s]\n"
     ]
    },
    {
     "name": "stdout",
     "output_type": "stream",
     "text": [
      "{'val_loss': 1.5902211744830292, 'val_accuracy': 0.654642223536369, 'precision': 0.6618614416133504, 'recall': 0.654642223536369, 'f1-score': 0.6459721950860093, 'macro_f1-score': 0.39451379757711985, 'balanced_accuracy': 0.413031568829237, 'mcc': 0.5453873052532608, 'train_loss': 0.4090988904325862}\n",
      "Epoch 5/20\n"
     ]
    },
    {
     "name": "stderr",
     "output_type": "stream",
     "text": [
      "100%|██████████| 761/761 [01:20<00:00,  9.43it/s]\n"
     ]
    },
    {
     "name": "stdout",
     "output_type": "stream",
     "text": [
      "{'val_loss': 1.6675121983829535, 'val_accuracy': 0.6351271437019516, 'precision': 0.6525164144201353, 'recall': 0.6351271437019516, 'f1-score': 0.633643100059287, 'macro_f1-score': 0.38512408548512994, 'balanced_accuracy': 0.41087625653804105, 'mcc': 0.5246871623586129, 'train_loss': 0.3276980497718895}\n",
      "Epoch 6/20\n"
     ]
    },
    {
     "name": "stderr",
     "output_type": "stream",
     "text": [
      "100%|██████████| 761/761 [01:20<00:00,  9.43it/s]\n"
     ]
    },
    {
     "name": "stdout",
     "output_type": "stream",
     "text": [
      "{'val_loss': 1.6696171281191539, 'val_accuracy': 0.6617386162034299, 'precision': 0.6700082659360115, 'recall': 0.6617386162034299, 'f1-score': 0.6566422812082479, 'macro_f1-score': 0.39438887541782447, 'balanced_accuracy': 0.4094578420311368, 'mcc': 0.554153407268277, 'train_loss': 0.3231266888773923}\n",
      "Epoch 7/20\n"
     ]
    },
    {
     "name": "stderr",
     "output_type": "stream",
     "text": [
      "100%|██████████| 761/761 [01:20<00:00,  9.44it/s]\n"
     ]
    },
    {
     "name": "stdout",
     "output_type": "stream",
     "text": [
      "{'val_loss': 1.7050703366128903, 'val_accuracy': 0.6623299822590183, 'precision': 0.6775160480167834, 'recall': 0.6623299822590183, 'f1-score': 0.656471024028826, 'macro_f1-score': 0.40984800378260117, 'balanced_accuracy': 0.41479189822477375, 'mcc': 0.554721387048146, 'train_loss': 0.2732399794953519}\n",
      "Epoch 8/20\n"
     ]
    },
    {
     "name": "stderr",
     "output_type": "stream",
     "text": [
      "100%|██████████| 761/761 [01:20<00:00,  9.45it/s]\n"
     ]
    },
    {
     "name": "stdout",
     "output_type": "stream",
     "text": [
      "{'val_loss': 1.797404740919482, 'val_accuracy': 0.6232998225901834, 'precision': 0.666822216900335, 'recall': 0.6232998225901834, 'f1-score': 0.6315569596636141, 'macro_f1-score': 0.3757965016767561, 'balanced_accuracy': 0.3965797469139728, 'mcc': 0.5244989025735151, 'train_loss': 0.2557927840273049}\n",
      "Epoch 9/20\n"
     ]
    },
    {
     "name": "stderr",
     "output_type": "stream",
     "text": [
      "100%|██████████| 761/761 [01:20<00:00,  9.43it/s]\n"
     ]
    },
    {
     "name": "stdout",
     "output_type": "stream",
     "text": [
      "{'val_loss': 1.7524841202879853, 'val_accuracy': 0.6487285629804849, 'precision': 0.6764684821884627, 'recall': 0.6487285629804849, 'f1-score': 0.6476687770436766, 'macro_f1-score': 0.3790386521948772, 'balanced_accuracy': 0.398974891421496, 'mcc': 0.5409337270662935, 'train_loss': 0.24319368004756056}\n",
      "Epoch 10/20\n"
     ]
    },
    {
     "name": "stderr",
     "output_type": "stream",
     "text": [
      "100%|██████████| 761/761 [01:20<00:00,  9.43it/s]\n"
     ]
    },
    {
     "name": "stdout",
     "output_type": "stream",
     "text": [
      "{'val_loss': 1.8450917423052609, 'val_accuracy': 0.6570076877587226, 'precision': 0.6592014475241115, 'recall': 0.6570076877587226, 'f1-score': 0.6499481140760521, 'macro_f1-score': 0.3926183140963262, 'balanced_accuracy': 0.39374213741705005, 'mcc': 0.5497739420347593, 'train_loss': 0.23439021298689977}\n",
      "Early stopping.\n",
      "\n",
      "[Fold 3]\n",
      "Label distribution after resampling:\n",
      "  label 0: 2000\n",
      "  label 1: 200\n",
      "  label 2: 200\n",
      "  label 3: 200\n",
      "  label 4: 206\n",
      "  label 5: 200\n",
      "  label 6: 200\n",
      "  label 7: 200\n",
      "  label 8: 200\n",
      "  label 9: 200\n",
      "  label 10: 200\n",
      "  label 11: 200\n",
      "  label 12: 200\n",
      "  label 13: 200\n",
      "  label 14: 200\n",
      "  label 15: 200\n",
      "  label 16: 200\n",
      "  label 17: 231\n",
      "  label 18: 200\n",
      "  label 19: 200\n",
      "  label 20: 200\n",
      "  label 21: 200\n",
      "  label 22: 200\n",
      "  label 23: 200\n",
      "  label 24: 200\n",
      "  label 25: 200\n",
      "  label 26: 200\n",
      "  label 27: 200\n",
      "  label 28: 200\n",
      "  label 29: 200\n",
      "  label 30: 200\n",
      "  label 31: 200\n",
      "  label 32: 200\n",
      "  label 33: 200\n",
      "  label 34: 200\n",
      "  label 35: 200\n",
      "  label 36: 200\n",
      "  label 37: 200\n",
      "  label 38: 200\n",
      "  label 39: 200\n",
      "  label 40: 200\n",
      "  label 41: 200\n",
      "  label 42: 200\n",
      "  label 43: 200\n",
      "  label 44: 200\n",
      "  label 45: 200\n",
      "  label 46: 200\n",
      "  label 47: 529\n",
      "  label 48: 201\n",
      "  label 49: 200\n",
      "model is microsoft/deberta-base cnn1filter234drop3\n",
      "Epoch 1/20\n"
     ]
    },
    {
     "name": "stderr",
     "output_type": "stream",
     "text": [
      "100%|██████████| 761/761 [01:20<00:00,  9.44it/s]\n"
     ]
    },
    {
     "name": "stdout",
     "output_type": "stream",
     "text": [
      "{'val_loss': 2.7988784695571325, 'val_accuracy': 0.5121230041395624, 'precision': 0.34354148959640707, 'recall': 0.5121230041395624, 'f1-score': 0.38839469988075953, 'macro_f1-score': 0.055092105365276096, 'balanced_accuracy': 0.0763522101098084, 'mcc': 0.24675342443201742, 'train_loss': 2.6104496986104686}\n",
      "Epoch 2/20\n"
     ]
    },
    {
     "name": "stderr",
     "output_type": "stream",
     "text": [
      "100%|██████████| 761/761 [01:20<00:00,  9.44it/s]\n"
     ]
    },
    {
     "name": "stdout",
     "output_type": "stream",
     "text": [
      "{'val_loss': 3.279130605031859, 'val_accuracy': 0.47013601419278533, 'precision': 0.22102787184107886, 'recall': 0.47013601419278533, 'f1-score': 0.30069037110479835, 'macro_f1-score': 0.012791633145615447, 'balanced_accuracy': 0.02, 'mcc': 0.0, 'train_loss': 3.7074552299785237}\n",
      "Epoch 3/20\n"
     ]
    },
    {
     "name": "stderr",
     "output_type": "stream",
     "text": [
      "100%|██████████| 761/761 [01:20<00:00,  9.43it/s]\n"
     ]
    },
    {
     "name": "stdout",
     "output_type": "stream",
     "text": [
      "{'val_loss': 3.249678672484632, 'val_accuracy': 0.47013601419278533, 'precision': 0.22102787184107886, 'recall': 0.47013601419278533, 'f1-score': 0.30069037110479835, 'macro_f1-score': 0.012791633145615447, 'balanced_accuracy': 0.02, 'mcc': 0.0, 'train_loss': 3.7010791079286833}\n",
      "Epoch 4/20\n"
     ]
    },
    {
     "name": "stderr",
     "output_type": "stream",
     "text": [
      "100%|██████████| 761/761 [01:20<00:00,  9.43it/s]\n"
     ]
    },
    {
     "name": "stdout",
     "output_type": "stream",
     "text": [
      "{'val_loss': 3.309946413310069, 'val_accuracy': 0.47013601419278533, 'precision': 0.22102787184107886, 'recall': 0.47013601419278533, 'f1-score': 0.30069037110479835, 'macro_f1-score': 0.012791633145615447, 'balanced_accuracy': 0.02, 'mcc': 0.0, 'train_loss': 3.699521742418467}\n",
      "Early stopping.\n",
      "\n",
      "[Fold 4]\n",
      "Label distribution after resampling:\n",
      "  label 0: 2000\n",
      "  label 1: 200\n",
      "  label 2: 200\n",
      "  label 3: 200\n",
      "  label 4: 206\n",
      "  label 5: 200\n",
      "  label 6: 200\n",
      "  label 7: 200\n",
      "  label 8: 200\n",
      "  label 9: 200\n",
      "  label 10: 200\n",
      "  label 11: 200\n",
      "  label 12: 200\n",
      "  label 13: 200\n",
      "  label 14: 200\n",
      "  label 15: 200\n",
      "  label 16: 200\n",
      "  label 17: 232\n",
      "  label 18: 200\n",
      "  label 19: 200\n",
      "  label 20: 200\n",
      "  label 21: 200\n",
      "  label 22: 200\n",
      "  label 23: 200\n",
      "  label 24: 200\n",
      "  label 25: 200\n",
      "  label 26: 200\n",
      "  label 27: 200\n",
      "  label 28: 200\n",
      "  label 29: 200\n",
      "  label 30: 200\n",
      "  label 31: 200\n",
      "  label 32: 200\n",
      "  label 33: 200\n",
      "  label 34: 200\n",
      "  label 35: 200\n",
      "  label 36: 200\n",
      "  label 37: 200\n",
      "  label 38: 200\n",
      "  label 39: 200\n",
      "  label 40: 200\n",
      "  label 41: 200\n",
      "  label 42: 200\n",
      "  label 43: 200\n",
      "  label 44: 200\n",
      "  label 45: 200\n",
      "  label 46: 200\n",
      "  label 47: 529\n",
      "  label 48: 201\n",
      "  label 49: 200\n",
      "model is microsoft/deberta-base cnn1filter234drop3\n",
      "Epoch 1/20\n"
     ]
    },
    {
     "name": "stderr",
     "output_type": "stream",
     "text": [
      "100%|██████████| 761/761 [01:20<00:00,  9.43it/s]\n"
     ]
    },
    {
     "name": "stdout",
     "output_type": "stream",
     "text": [
      "{'val_loss': 1.5040085287588947, 'val_accuracy': 0.5759905381431106, 'precision': 0.5875190514953113, 'recall': 0.5759905381431106, 'f1-score': 0.5585108225444639, 'macro_f1-score': 0.29485227589182406, 'balanced_accuracy': 0.3621467092628159, 'mcc': 0.4471628768062641, 'train_loss': 2.3639750906734993}\n",
      "Epoch 2/20\n"
     ]
    },
    {
     "name": "stderr",
     "output_type": "stream",
     "text": [
      "100%|██████████| 761/761 [01:20<00:00,  9.44it/s]\n"
     ]
    },
    {
     "name": "stdout",
     "output_type": "stream",
     "text": [
      "{'val_loss': 1.3626527406697004, 'val_accuracy': 0.631578947368421, 'precision': 0.6673605213809823, 'recall': 0.631578947368421, 'f1-score': 0.6352854128121955, 'macro_f1-score': 0.39942969099267595, 'balanced_accuracy': 0.4231098709850965, 'mcc': 0.5230533676198715, 'train_loss': 0.9068329300677572}\n",
      "Epoch 3/20\n"
     ]
    },
    {
     "name": "stderr",
     "output_type": "stream",
     "text": [
      "100%|██████████| 761/761 [01:20<00:00,  9.43it/s]\n"
     ]
    },
    {
     "name": "stdout",
     "output_type": "stream",
     "text": [
      "{'val_loss': 1.3931119610678475, 'val_accuracy': 0.615612063867534, 'precision': 0.691621939706153, 'recall': 0.615612063867534, 'f1-score': 0.6325161576040729, 'macro_f1-score': 0.416558313128348, 'balanced_accuracy': 0.4627779387992001, 'mcc': 0.5184980932167021, 'train_loss': 0.5965240323933211}\n",
      "Epoch 4/20\n"
     ]
    },
    {
     "name": "stderr",
     "output_type": "stream",
     "text": [
      "100%|██████████| 761/761 [01:20<00:00,  9.42it/s]\n"
     ]
    },
    {
     "name": "stdout",
     "output_type": "stream",
     "text": [
      "{'val_loss': 1.5272816543309193, 'val_accuracy': 0.6138379657007688, 'precision': 0.6630170297218801, 'recall': 0.6138379657007688, 'f1-score': 0.6237503743645831, 'macro_f1-score': 0.3962259086978481, 'balanced_accuracy': 0.4370388946447198, 'mcc': 0.5108460744945936, 'train_loss': 0.4841171822311178}\n",
      "Epoch 5/20\n"
     ]
    },
    {
     "name": "stderr",
     "output_type": "stream",
     "text": [
      "100%|██████████| 761/761 [01:20<00:00,  9.43it/s]\n"
     ]
    },
    {
     "name": "stdout",
     "output_type": "stream",
     "text": [
      "{'val_loss': 1.536664288561299, 'val_accuracy': 0.6570076877587226, 'precision': 0.6601994615622733, 'recall': 0.6570076877587226, 'f1-score': 0.6507318641583153, 'macro_f1-score': 0.4166076827172707, 'balanced_accuracy': 0.42970512371518815, 'mcc': 0.5482925829017822, 'train_loss': 0.3393159157225713}\n",
      "Epoch 6/20\n"
     ]
    },
    {
     "name": "stderr",
     "output_type": "stream",
     "text": [
      "100%|██████████| 761/761 [01:20<00:00,  9.44it/s]\n"
     ]
    },
    {
     "name": "stdout",
     "output_type": "stream",
     "text": [
      "{'val_loss': 1.6164462380814102, 'val_accuracy': 0.6422235363690124, 'precision': 0.6684159017366665, 'recall': 0.6422235363690124, 'f1-score': 0.6383352342206707, 'macro_f1-score': 0.4119130557870278, 'balanced_accuracy': 0.429748292146671, 'mcc': 0.5421113720115535, 'train_loss': 0.3701234709388245}\n",
      "Epoch 7/20\n"
     ]
    },
    {
     "name": "stderr",
     "output_type": "stream",
     "text": [
      "100%|██████████| 761/761 [01:20<00:00,  9.44it/s]\n"
     ]
    },
    {
     "name": "stdout",
     "output_type": "stream",
     "text": [
      "{'val_loss': 1.6680219718870126, 'val_accuracy': 0.6617386162034299, 'precision': 0.6787082742203211, 'recall': 0.6617386162034299, 'f1-score': 0.6492593290374655, 'macro_f1-score': 0.4045864913562297, 'balanced_accuracy': 0.4056847711369594, 'mcc': 0.5535489798262275, 'train_loss': 0.2697442605199339}\n",
      "Epoch 8/20\n"
     ]
    },
    {
     "name": "stderr",
     "output_type": "stream",
     "text": [
      "100%|██████████| 761/761 [01:20<00:00,  9.44it/s]\n"
     ]
    },
    {
     "name": "stdout",
     "output_type": "stream",
     "text": [
      "{'val_loss': 2.0674392952109284, 'val_accuracy': 0.5653459491425192, 'precision': 0.6117037406526796, 'recall': 0.5653459491425192, 'f1-score': 0.5620929562764263, 'macro_f1-score': 0.297413667146335, 'balanced_accuracy': 0.3166139763123316, 'mcc': 0.4608455323133144, 'train_loss': 0.2843372514691698}\n",
      "Early stopping.\n",
      "\n",
      "[Fold 5]\n",
      "Label distribution after resampling:\n",
      "  label 0: 2000\n",
      "  label 1: 200\n",
      "  label 2: 200\n",
      "  label 3: 200\n",
      "  label 4: 205\n",
      "  label 5: 200\n",
      "  label 6: 200\n",
      "  label 7: 200\n",
      "  label 8: 200\n",
      "  label 9: 200\n",
      "  label 10: 200\n",
      "  label 11: 200\n",
      "  label 12: 200\n",
      "  label 13: 200\n",
      "  label 14: 200\n",
      "  label 15: 200\n",
      "  label 16: 200\n",
      "  label 17: 231\n",
      "  label 18: 200\n",
      "  label 19: 200\n",
      "  label 20: 200\n",
      "  label 21: 200\n",
      "  label 22: 200\n",
      "  label 23: 200\n",
      "  label 24: 200\n",
      "  label 25: 200\n",
      "  label 26: 200\n",
      "  label 27: 200\n",
      "  label 28: 200\n",
      "  label 29: 200\n",
      "  label 30: 200\n",
      "  label 31: 200\n",
      "  label 32: 200\n",
      "  label 33: 200\n",
      "  label 34: 200\n",
      "  label 35: 200\n",
      "  label 36: 200\n",
      "  label 37: 200\n",
      "  label 38: 200\n",
      "  label 39: 200\n",
      "  label 40: 200\n",
      "  label 41: 200\n",
      "  label 42: 200\n",
      "  label 43: 200\n",
      "  label 44: 200\n",
      "  label 45: 200\n",
      "  label 46: 200\n",
      "  label 47: 529\n",
      "  label 48: 202\n",
      "  label 49: 200\n",
      "model is microsoft/deberta-base cnn1filter234drop3\n",
      "Epoch 1/20\n"
     ]
    },
    {
     "name": "stderr",
     "output_type": "stream",
     "text": [
      "100%|██████████| 761/761 [01:20<00:00,  9.43it/s]\n"
     ]
    },
    {
     "name": "stdout",
     "output_type": "stream",
     "text": [
      "{'val_loss': 1.5214382674334184, 'val_accuracy': 0.6041420118343195, 'precision': 0.5954341474693486, 'recall': 0.6041420118343195, 'f1-score': 0.5795623066599553, 'macro_f1-score': 0.31426523848188354, 'balanced_accuracy': 0.377858877802101, 'mcc': 0.4817613745297129, 'train_loss': 2.3014408203524765}\n",
      "Epoch 2/20\n"
     ]
    },
    {
     "name": "stderr",
     "output_type": "stream",
     "text": [
      "100%|██████████| 761/761 [01:20<00:00,  9.44it/s]\n"
     ]
    },
    {
     "name": "stdout",
     "output_type": "stream",
     "text": [
      "{'val_loss': 1.5298429165246352, 'val_accuracy': 0.5822485207100592, 'precision': 0.6763101717149413, 'recall': 0.5822485207100592, 'f1-score': 0.6097048702320034, 'macro_f1-score': 0.37013018007981763, 'balanced_accuracy': 0.3916751746228506, 'mcc': 0.4700949654296513, 'train_loss': 0.9511981852812773}\n",
      "Epoch 3/20\n"
     ]
    },
    {
     "name": "stderr",
     "output_type": "stream",
     "text": [
      "100%|██████████| 761/761 [01:20<00:00,  9.45it/s]\n"
     ]
    },
    {
     "name": "stdout",
     "output_type": "stream",
     "text": [
      "{'val_loss': 1.5982188402481798, 'val_accuracy': 0.6076923076923076, 'precision': 0.6618468673817428, 'recall': 0.6076923076923076, 'f1-score': 0.6200837378226813, 'macro_f1-score': 0.3837293151240374, 'balanced_accuracy': 0.41181088778520086, 'mcc': 0.5066359861864967, 'train_loss': 0.6031441155542056}\n",
      "Epoch 4/20\n"
     ]
    },
    {
     "name": "stderr",
     "output_type": "stream",
     "text": [
      "100%|██████████| 761/761 [01:20<00:00,  9.43it/s]\n"
     ]
    },
    {
     "name": "stdout",
     "output_type": "stream",
     "text": [
      "{'val_loss': 1.576254666413901, 'val_accuracy': 0.6449704142011834, 'precision': 0.6854968128301361, 'recall': 0.6449704142011834, 'f1-score': 0.6490431188106376, 'macro_f1-score': 0.3918504848132922, 'balanced_accuracy': 0.410841633879704, 'mcc': 0.5425451267360408, 'train_loss': 0.47071027377823493}\n",
      "Epoch 5/20\n"
     ]
    },
    {
     "name": "stderr",
     "output_type": "stream",
     "text": [
      "100%|██████████| 761/761 [01:20<00:00,  9.43it/s]\n"
     ]
    },
    {
     "name": "stdout",
     "output_type": "stream",
     "text": [
      "{'val_loss': 1.6369975819340292, 'val_accuracy': 0.6384615384615384, 'precision': 0.6765175281539488, 'recall': 0.6384615384615384, 'f1-score': 0.6416154098588857, 'macro_f1-score': 0.3733538509804423, 'balanced_accuracy': 0.37201105742988483, 'mcc': 0.5314677194876024, 'train_loss': 0.3592486168097572}\n",
      "Epoch 6/20\n"
     ]
    },
    {
     "name": "stderr",
     "output_type": "stream",
     "text": [
      "100%|██████████| 761/761 [01:20<00:00,  9.44it/s]\n"
     ]
    },
    {
     "name": "stdout",
     "output_type": "stream",
     "text": [
      "{'val_loss': 1.6531417783138886, 'val_accuracy': 0.6562130177514793, 'precision': 0.6773190477396683, 'recall': 0.6562130177514793, 'f1-score': 0.6543548686375145, 'macro_f1-score': 0.3963818816456275, 'balanced_accuracy': 0.40261888074179586, 'mcc': 0.5540051227734882, 'train_loss': 0.32381095717454256}\n",
      "Epoch 7/20\n"
     ]
    },
    {
     "name": "stderr",
     "output_type": "stream",
     "text": [
      "100%|██████████| 761/761 [01:20<00:00,  9.45it/s]\n"
     ]
    },
    {
     "name": "stdout",
     "output_type": "stream",
     "text": [
      "{'val_loss': 1.734298439801864, 'val_accuracy': 0.6585798816568047, 'precision': 0.6624640148959658, 'recall': 0.6585798816568047, 'f1-score': 0.6452829671552048, 'macro_f1-score': 0.37505367748184887, 'balanced_accuracy': 0.36490606522693253, 'mcc': 0.5428655773385769, 'train_loss': 0.30111182425183375}\n",
      "Epoch 8/20\n"
     ]
    },
    {
     "name": "stderr",
     "output_type": "stream",
     "text": [
      "100%|██████████| 761/761 [01:20<00:00,  9.43it/s]\n"
     ]
    },
    {
     "name": "stdout",
     "output_type": "stream",
     "text": [
      "{'val_loss': 3.3282440810833336, 'val_accuracy': 0.46982248520710057, 'precision': 0.22073316760617626, 'recall': 0.46982248520710057, 'f1-score': 0.3003535050357793, 'macro_f1-score': 0.012785829307568436, 'balanced_accuracy': 0.02, 'mcc': 0.0, 'train_loss': 0.5546394844120919}\n",
      "Epoch 9/20\n"
     ]
    },
    {
     "name": "stderr",
     "output_type": "stream",
     "text": [
      "100%|██████████| 761/761 [01:20<00:00,  9.42it/s]\n"
     ]
    },
    {
     "name": "stdout",
     "output_type": "stream",
     "text": [
      "{'val_loss': 3.2655997118859923, 'val_accuracy': 0.46982248520710057, 'precision': 0.22073316760617626, 'recall': 0.46982248520710057, 'f1-score': 0.3003535050357793, 'macro_f1-score': 0.012785829307568436, 'balanced_accuracy': 0.02, 'mcc': 0.0, 'train_loss': 3.706101783471728}\n",
      "Early stopping.\n",
      "\n",
      " === microsoft/deberta-base + cnn1filter234drop3 + ros Final 5-fold Cross-Validation Results ===\n",
      "Total time: 4348 seconds\n",
      "Total time: 1 hrs 12 mins 28 secs\n",
      "val_loss: 1.9371\n",
      "val_accuracy: 0.6175\n",
      "precision: 0.5914\n",
      "recall: 0.6175\n",
      "f1-score: 0.5886\n",
      "macro_f1-score: 0.3203\n",
      "balanced_accuracy: 0.3317\n",
      "mcc: 0.4768\n",
      "train_loss: 0.8069\n",
      "▶ Running: microsoft/deberta-base + cnn1filter234drop5 + ros\n",
      "tokenizer is microsoft/deberta-base\n",
      "Using device: cuda\n",
      "CUDA Available: True\n",
      "CUDA Device: NVIDIA GeForce RTX 5070 Ti\n",
      "Current GPU Memory Allocated: 0.02 GB\n",
      "Current GPU Memory Cached: 5.14 GB\n",
      "\n",
      "[Fold 1]\n",
      "Label distribution after resampling:\n",
      "  label 0: 2000\n",
      "  label 1: 200\n",
      "  label 2: 200\n",
      "  label 3: 200\n",
      "  label 4: 205\n",
      "  label 5: 200\n",
      "  label 6: 200\n",
      "  label 7: 200\n",
      "  label 8: 200\n",
      "  label 9: 200\n",
      "  label 10: 200\n",
      "  label 11: 200\n",
      "  label 12: 200\n",
      "  label 13: 200\n",
      "  label 14: 200\n",
      "  label 15: 200\n",
      "  label 16: 200\n",
      "  label 17: 231\n",
      "  label 18: 200\n",
      "  label 19: 200\n",
      "  label 20: 200\n",
      "  label 21: 200\n",
      "  label 22: 200\n",
      "  label 23: 200\n",
      "  label 24: 200\n",
      "  label 25: 200\n",
      "  label 26: 200\n",
      "  label 27: 200\n",
      "  label 28: 200\n",
      "  label 29: 200\n",
      "  label 30: 200\n",
      "  label 31: 200\n",
      "  label 32: 200\n",
      "  label 33: 200\n",
      "  label 34: 200\n",
      "  label 35: 200\n",
      "  label 36: 200\n",
      "  label 37: 200\n",
      "  label 38: 200\n",
      "  label 39: 200\n",
      "  label 40: 200\n",
      "  label 41: 200\n",
      "  label 42: 200\n",
      "  label 43: 200\n",
      "  label 44: 200\n",
      "  label 45: 200\n",
      "  label 46: 200\n",
      "  label 47: 529\n",
      "  label 48: 202\n",
      "  label 49: 200\n",
      "model is microsoft/deberta-base cnn1filter234drop5\n",
      "Epoch 1/20\n"
     ]
    },
    {
     "name": "stderr",
     "output_type": "stream",
     "text": [
      "100%|██████████| 761/761 [01:20<00:00,  9.44it/s]\n"
     ]
    },
    {
     "name": "stdout",
     "output_type": "stream",
     "text": [
      "{'val_loss': 1.6447562282940127, 'val_accuracy': 0.5659373151981076, 'precision': 0.5462964924193938, 'recall': 0.5659373151981076, 'f1-score': 0.5136255974197858, 'macro_f1-score': 0.23339230442290912, 'balanced_accuracy': 0.30356459519295437, 'mcc': 0.41166039430072915, 'train_loss': 2.7733861922277883}\n",
      "Epoch 2/20\n"
     ]
    },
    {
     "name": "stderr",
     "output_type": "stream",
     "text": [
      "100%|██████████| 761/761 [01:20<00:00,  9.44it/s]\n"
     ]
    },
    {
     "name": "stdout",
     "output_type": "stream",
     "text": [
      "{'val_loss': 1.570801372797984, 'val_accuracy': 0.5688941454760497, 'precision': 0.5688184251189944, 'recall': 0.5688941454760497, 'f1-score': 0.5530084766630883, 'macro_f1-score': 0.2965979897744362, 'balanced_accuracy': 0.3669278239380904, 'mcc': 0.4398423385559515, 'train_loss': 1.9902902645757727}\n",
      "Epoch 3/20\n"
     ]
    },
    {
     "name": "stderr",
     "output_type": "stream",
     "text": [
      "100%|██████████| 761/761 [01:20<00:00,  9.43it/s]\n"
     ]
    },
    {
     "name": "stdout",
     "output_type": "stream",
     "text": [
      "{'val_loss': 1.7460707555402, 'val_accuracy': 0.5192193968066233, 'precision': 0.5670631931136787, 'recall': 0.5192193968066233, 'f1-score': 0.5098214815266772, 'macro_f1-score': 0.2289462827029175, 'balanced_accuracy': 0.2888283650578868, 'mcc': 0.36731817572154085, 'train_loss': 1.3990719620720942}\n",
      "Epoch 4/20\n"
     ]
    },
    {
     "name": "stderr",
     "output_type": "stream",
     "text": [
      "100%|██████████| 761/761 [01:20<00:00,  9.43it/s]\n"
     ]
    },
    {
     "name": "stdout",
     "output_type": "stream",
     "text": [
      "{'val_loss': 1.5821470472047914, 'val_accuracy': 0.5617977528089888, 'precision': 0.6036247186733148, 'recall': 0.5617977528089888, 'f1-score': 0.5614689740836477, 'macro_f1-score': 0.3130581110291337, 'balanced_accuracy': 0.3571070229206635, 'mcc': 0.43323160164732133, 'train_loss': 1.1012802749245614}\n",
      "Epoch 5/20\n"
     ]
    },
    {
     "name": "stderr",
     "output_type": "stream",
     "text": [
      "100%|██████████| 761/761 [01:20<00:00,  9.43it/s]\n"
     ]
    },
    {
     "name": "stdout",
     "output_type": "stream",
     "text": [
      "{'val_loss': 1.5657451675747924, 'val_accuracy': 0.5949142519219397, 'precision': 0.6467658065425035, 'recall': 0.5949142519219397, 'f1-score': 0.6027595070006002, 'macro_f1-score': 0.3619592912719828, 'balanced_accuracy': 0.4091046405410749, 'mcc': 0.48351513566804477, 'train_loss': 0.7626201772129801}\n",
      "Epoch 6/20\n"
     ]
    },
    {
     "name": "stderr",
     "output_type": "stream",
     "text": [
      "100%|██████████| 761/761 [01:20<00:00,  9.44it/s]\n"
     ]
    },
    {
     "name": "stdout",
     "output_type": "stream",
     "text": [
      "{'val_loss': 1.6638183948004022, 'val_accuracy': 0.5878178592548787, 'precision': 0.6423871661344676, 'recall': 0.5878178592548787, 'f1-score': 0.5865773818316935, 'macro_f1-score': 0.34344674383495183, 'balanced_accuracy': 0.3797066771027184, 'mcc': 0.4699191288979445, 'train_loss': 0.6227233251373182}\n",
      "Epoch 7/20\n"
     ]
    },
    {
     "name": "stderr",
     "output_type": "stream",
     "text": [
      "100%|██████████| 761/761 [01:20<00:00,  9.43it/s]\n"
     ]
    },
    {
     "name": "stdout",
     "output_type": "stream",
     "text": [
      "{'val_loss': 1.7339322218355142, 'val_accuracy': 0.5730337078651685, 'precision': 0.6257875925582806, 'recall': 0.5730337078651685, 'f1-score': 0.5848752410590489, 'macro_f1-score': 0.3643215961717678, 'balanced_accuracy': 0.3972530212867803, 'mcc': 0.46975237291184613, 'train_loss': 0.5924668557961494}\n",
      "Epoch 8/20\n"
     ]
    },
    {
     "name": "stderr",
     "output_type": "stream",
     "text": [
      "100%|██████████| 761/761 [01:20<00:00,  9.44it/s]\n"
     ]
    },
    {
     "name": "stdout",
     "output_type": "stream",
     "text": [
      "{'val_loss': 1.6978570158189197, 'val_accuracy': 0.6215257244234181, 'precision': 0.6390601373392041, 'recall': 0.6215257244234181, 'f1-score': 0.611939980454994, 'macro_f1-score': 0.36895921121382436, 'balanced_accuracy': 0.39014073081508804, 'mcc': 0.5034219056654999, 'train_loss': 0.49196644659728084}\n",
      "Epoch 9/20\n"
     ]
    },
    {
     "name": "stderr",
     "output_type": "stream",
     "text": [
      "100%|██████████| 761/761 [01:20<00:00,  9.43it/s]\n"
     ]
    },
    {
     "name": "stdout",
     "output_type": "stream",
     "text": [
      "{'val_loss': 1.753359242430273, 'val_accuracy': 0.6232998225901834, 'precision': 0.6364389477703071, 'recall': 0.6232998225901834, 'f1-score': 0.6181739208207752, 'macro_f1-score': 0.37920307679271326, 'balanced_accuracy': 0.38738138508217057, 'mcc': 0.5089960811522811, 'train_loss': 0.4883007256744941}\n",
      "Epoch 10/20\n"
     ]
    },
    {
     "name": "stderr",
     "output_type": "stream",
     "text": [
      "100%|██████████| 761/761 [01:20<00:00,  9.45it/s]\n"
     ]
    },
    {
     "name": "stdout",
     "output_type": "stream",
     "text": [
      "{'val_loss': 1.7551542281542185, 'val_accuracy': 0.6215257244234181, 'precision': 0.6534790707749569, 'recall': 0.6215257244234181, 'f1-score': 0.6249762753063831, 'macro_f1-score': 0.38776644961611695, 'balanced_accuracy': 0.3987940906864064, 'mcc': 0.5222339129122268, 'train_loss': 0.38285383656523075}\n",
      "Epoch 11/20\n"
     ]
    },
    {
     "name": "stderr",
     "output_type": "stream",
     "text": [
      "100%|██████████| 761/761 [01:20<00:00,  9.46it/s]\n"
     ]
    },
    {
     "name": "stdout",
     "output_type": "stream",
     "text": [
      "{'val_loss': 1.7718504071235657, 'val_accuracy': 0.5972797161442933, 'precision': 0.6262149029077967, 'recall': 0.5972797161442933, 'f1-score': 0.5947408314998349, 'macro_f1-score': 0.3499551068730165, 'balanced_accuracy': 0.38278600376442834, 'mcc': 0.4889909094850989, 'train_loss': 0.3681568788087948}\n",
      "Epoch 12/20\n"
     ]
    },
    {
     "name": "stderr",
     "output_type": "stream",
     "text": [
      "100%|██████████| 761/761 [01:20<00:00,  9.44it/s]\n"
     ]
    },
    {
     "name": "stdout",
     "output_type": "stream",
     "text": [
      "{'val_loss': 1.8576106215423007, 'val_accuracy': 0.6345357776463632, 'precision': 0.6550929176329147, 'recall': 0.6345357776463632, 'f1-score': 0.6308351376616643, 'macro_f1-score': 0.38142152141752367, 'balanced_accuracy': 0.38366956468947483, 'mcc': 0.5226433687358129, 'train_loss': 0.36404851281650746}\n",
      "Epoch 13/20\n"
     ]
    },
    {
     "name": "stderr",
     "output_type": "stream",
     "text": [
      "100%|██████████| 761/761 [01:20<00:00,  9.43it/s]\n"
     ]
    },
    {
     "name": "stdout",
     "output_type": "stream",
     "text": [
      "{'val_loss': 1.8324285801851525, 'val_accuracy': 0.6540508574807806, 'precision': 0.654965424341534, 'recall': 0.6540508574807806, 'f1-score': 0.6432966316492306, 'macro_f1-score': 0.378133640111961, 'balanced_accuracy': 0.38249634440908425, 'mcc': 0.540120338018086, 'train_loss': 0.30993921818296116}\n",
      "Early stopping.\n",
      "\n",
      "[Fold 2]\n",
      "Label distribution after resampling:\n",
      "  label 0: 2000\n",
      "  label 1: 200\n",
      "  label 2: 200\n",
      "  label 3: 200\n",
      "  label 4: 206\n",
      "  label 5: 200\n",
      "  label 6: 200\n",
      "  label 7: 200\n",
      "  label 8: 200\n",
      "  label 9: 200\n",
      "  label 10: 200\n",
      "  label 11: 200\n",
      "  label 12: 200\n",
      "  label 13: 200\n",
      "  label 14: 200\n",
      "  label 15: 200\n",
      "  label 16: 200\n",
      "  label 17: 231\n",
      "  label 18: 200\n",
      "  label 19: 200\n",
      "  label 20: 200\n",
      "  label 21: 200\n",
      "  label 22: 200\n",
      "  label 23: 200\n",
      "  label 24: 200\n",
      "  label 25: 200\n",
      "  label 26: 200\n",
      "  label 27: 200\n",
      "  label 28: 200\n",
      "  label 29: 200\n",
      "  label 30: 200\n",
      "  label 31: 200\n",
      "  label 32: 200\n",
      "  label 33: 200\n",
      "  label 34: 200\n",
      "  label 35: 200\n",
      "  label 36: 200\n",
      "  label 37: 200\n",
      "  label 38: 200\n",
      "  label 39: 200\n",
      "  label 40: 200\n",
      "  label 41: 200\n",
      "  label 42: 200\n",
      "  label 43: 200\n",
      "  label 44: 200\n",
      "  label 45: 200\n",
      "  label 46: 200\n",
      "  label 47: 528\n",
      "  label 48: 202\n",
      "  label 49: 200\n",
      "model is microsoft/deberta-base cnn1filter234drop5\n",
      "Epoch 1/20\n"
     ]
    },
    {
     "name": "stderr",
     "output_type": "stream",
     "text": [
      "100%|██████████| 761/761 [01:20<00:00,  9.43it/s]\n"
     ]
    },
    {
     "name": "stdout",
     "output_type": "stream",
     "text": [
      "{'val_loss': 1.995479165383105, 'val_accuracy': 0.5251330573625074, 'precision': 0.5225333819028897, 'recall': 0.5251330573625074, 'f1-score': 0.4924196000749224, 'macro_f1-score': 0.1571133828737487, 'balanced_accuracy': 0.23798011201542735, 'mcc': 0.38266144229725446, 'train_loss': 2.8791596458713267}\n",
      "Epoch 2/20\n"
     ]
    },
    {
     "name": "stderr",
     "output_type": "stream",
     "text": [
      "100%|██████████| 761/761 [01:20<00:00,  9.45it/s]\n"
     ]
    },
    {
     "name": "stdout",
     "output_type": "stream",
     "text": [
      "{'val_loss': 1.5766989813660675, 'val_accuracy': 0.5742164399763453, 'precision': 0.6134328674904636, 'recall': 0.5742164399763453, 'f1-score': 0.5725693781176493, 'macro_f1-score': 0.2837905248266229, 'balanced_accuracy': 0.3522800881012263, 'mcc': 0.4540661388381767, 'train_loss': 1.6499775012125324}\n",
      "Epoch 3/20\n"
     ]
    },
    {
     "name": "stderr",
     "output_type": "stream",
     "text": [
      "100%|██████████| 761/761 [01:20<00:00,  9.43it/s]\n"
     ]
    },
    {
     "name": "stdout",
     "output_type": "stream",
     "text": [
      "{'val_loss': 1.5184104324511762, 'val_accuracy': 0.6173861620342992, 'precision': 0.6321015385969283, 'recall': 0.6173861620342992, 'f1-score': 0.6087884638266602, 'macro_f1-score': 0.345805938661288, 'balanced_accuracy': 0.391018156064396, 'mcc': 0.5072863011924564, 'train_loss': 0.9662268840452062}\n",
      "Epoch 4/20\n"
     ]
    },
    {
     "name": "stderr",
     "output_type": "stream",
     "text": [
      "100%|██████████| 761/761 [01:20<00:00,  9.44it/s]\n"
     ]
    },
    {
     "name": "stdout",
     "output_type": "stream",
     "text": [
      "{'val_loss': 1.4886532892596047, 'val_accuracy': 0.6434062684801892, 'precision': 0.6433703426262496, 'recall': 0.6434062684801892, 'f1-score': 0.6316887592808978, 'macro_f1-score': 0.3626164060867344, 'balanced_accuracy': 0.366398788132582, 'mcc': 0.5305626898528681, 'train_loss': 0.6624301605112606}\n",
      "Epoch 5/20\n"
     ]
    },
    {
     "name": "stderr",
     "output_type": "stream",
     "text": [
      "100%|██████████| 761/761 [01:20<00:00,  9.45it/s]\n"
     ]
    },
    {
     "name": "stdout",
     "output_type": "stream",
     "text": [
      "{'val_loss': 1.6131886256472119, 'val_accuracy': 0.6475458308693081, 'precision': 0.6760910513282968, 'recall': 0.6475458308693081, 'f1-score': 0.6411936668684309, 'macro_f1-score': 0.3606519541660653, 'balanced_accuracy': 0.38302849082430435, 'mcc': 0.540003690753395, 'train_loss': 0.5642552872294861}\n",
      "Epoch 6/20\n"
     ]
    },
    {
     "name": "stderr",
     "output_type": "stream",
     "text": [
      "100%|██████████| 761/761 [01:20<00:00,  9.46it/s]\n"
     ]
    },
    {
     "name": "stdout",
     "output_type": "stream",
     "text": [
      "{'val_loss': 1.5782316182300729, 'val_accuracy': 0.644589000591366, 'precision': 0.6459989000277302, 'recall': 0.644589000591366, 'f1-score': 0.637267564127952, 'macro_f1-score': 0.40359025504231794, 'balanced_accuracy': 0.408523487153893, 'mcc': 0.5334842059687891, 'train_loss': 0.453998027540714}\n",
      "Epoch 7/20\n"
     ]
    },
    {
     "name": "stderr",
     "output_type": "stream",
     "text": [
      "100%|██████████| 761/761 [01:20<00:00,  9.44it/s]\n"
     ]
    },
    {
     "name": "stdout",
     "output_type": "stream",
     "text": [
      "{'val_loss': 1.6694052135044675, 'val_accuracy': 0.631578947368421, 'precision': 0.6764437565278503, 'recall': 0.631578947368421, 'f1-score': 0.6329576318390792, 'macro_f1-score': 0.38385819976784274, 'balanced_accuracy': 0.40912135462155896, 'mcc': 0.5241153706749977, 'train_loss': 0.38843749326246246}\n",
      "Epoch 8/20\n"
     ]
    },
    {
     "name": "stderr",
     "output_type": "stream",
     "text": [
      "100%|██████████| 761/761 [01:20<00:00,  9.44it/s]\n"
     ]
    },
    {
     "name": "stdout",
     "output_type": "stream",
     "text": [
      "{'val_loss': 1.8846677209971086, 'val_accuracy': 0.6014192785334121, 'precision': 0.6503366690025904, 'recall': 0.6014192785334121, 'f1-score': 0.6126108013724868, 'macro_f1-score': 0.3688072839115704, 'balanced_accuracy': 0.36619617018035666, 'mcc': 0.5011852771139444, 'train_loss': 0.36579419006734265}\n",
      "Epoch 9/20\n"
     ]
    },
    {
     "name": "stderr",
     "output_type": "stream",
     "text": [
      "100%|██████████| 761/761 [01:20<00:00,  9.44it/s]\n"
     ]
    },
    {
     "name": "stdout",
     "output_type": "stream",
     "text": [
      "{'val_loss': 1.826438935860148, 'val_accuracy': 0.6410408042578356, 'precision': 0.6626302268878369, 'recall': 0.6410408042578356, 'f1-score': 0.6403997443202344, 'macro_f1-score': 0.3988705702848003, 'balanced_accuracy': 0.4020102762861734, 'mcc': 0.5422338685597794, 'train_loss': 0.3303615916410214}\n",
      "Early stopping.\n",
      "\n",
      "[Fold 3]\n",
      "Label distribution after resampling:\n",
      "  label 0: 2000\n",
      "  label 1: 200\n",
      "  label 2: 200\n",
      "  label 3: 200\n",
      "  label 4: 206\n",
      "  label 5: 200\n",
      "  label 6: 200\n",
      "  label 7: 200\n",
      "  label 8: 200\n",
      "  label 9: 200\n",
      "  label 10: 200\n",
      "  label 11: 200\n",
      "  label 12: 200\n",
      "  label 13: 200\n",
      "  label 14: 200\n",
      "  label 15: 200\n",
      "  label 16: 200\n",
      "  label 17: 231\n",
      "  label 18: 200\n",
      "  label 19: 200\n",
      "  label 20: 200\n",
      "  label 21: 200\n",
      "  label 22: 200\n",
      "  label 23: 200\n",
      "  label 24: 200\n",
      "  label 25: 200\n",
      "  label 26: 200\n",
      "  label 27: 200\n",
      "  label 28: 200\n",
      "  label 29: 200\n",
      "  label 30: 200\n",
      "  label 31: 200\n",
      "  label 32: 200\n",
      "  label 33: 200\n",
      "  label 34: 200\n",
      "  label 35: 200\n",
      "  label 36: 200\n",
      "  label 37: 200\n",
      "  label 38: 200\n",
      "  label 39: 200\n",
      "  label 40: 200\n",
      "  label 41: 200\n",
      "  label 42: 200\n",
      "  label 43: 200\n",
      "  label 44: 200\n",
      "  label 45: 200\n",
      "  label 46: 200\n",
      "  label 47: 529\n",
      "  label 48: 201\n",
      "  label 49: 200\n",
      "model is microsoft/deberta-base cnn1filter234drop5\n",
      "Epoch 1/20\n"
     ]
    },
    {
     "name": "stderr",
     "output_type": "stream",
     "text": [
      "100%|██████████| 761/761 [01:20<00:00,  9.44it/s]\n"
     ]
    },
    {
     "name": "stdout",
     "output_type": "stream",
     "text": [
      "{'val_loss': 1.9585105416909703, 'val_accuracy': 0.47604967474866944, 'precision': 0.5408493924759035, 'recall': 0.47604967474866944, 'f1-score': 0.4796947985249782, 'macro_f1-score': 0.16911226690955736, 'balanced_accuracy': 0.24495219818040165, 'mcc': 0.3382805535371387, 'train_loss': 3.106104448496434}\n",
      "Epoch 2/20\n"
     ]
    },
    {
     "name": "stderr",
     "output_type": "stream",
     "text": [
      "100%|██████████| 761/761 [01:20<00:00,  9.43it/s]\n"
     ]
    },
    {
     "name": "stdout",
     "output_type": "stream",
     "text": [
      "{'val_loss': 1.5121783524189356, 'val_accuracy': 0.5872264931992903, 'precision': 0.6450738104244268, 'recall': 0.5872264931992903, 'f1-score': 0.5861727888952125, 'macro_f1-score': 0.32007194480614176, 'balanced_accuracy': 0.3685123496480695, 'mcc': 0.4726315952478575, 'train_loss': 1.4874134409913253}\n",
      "Epoch 3/20\n"
     ]
    },
    {
     "name": "stderr",
     "output_type": "stream",
     "text": [
      "100%|██████████| 761/761 [01:20<00:00,  9.44it/s]\n"
     ]
    },
    {
     "name": "stdout",
     "output_type": "stream",
     "text": [
      "{'val_loss': 1.4883858229754106, 'val_accuracy': 0.6238911886457718, 'precision': 0.6429070052220622, 'recall': 0.6238911886457718, 'f1-score': 0.609984190937115, 'macro_f1-score': 0.3374132905411404, 'balanced_accuracy': 0.36529093946644225, 'mcc': 0.5043856561321706, 'train_loss': 0.7623579485559745}\n",
      "Epoch 4/20\n"
     ]
    },
    {
     "name": "stderr",
     "output_type": "stream",
     "text": [
      "100%|██████████| 761/761 [01:20<00:00,  9.43it/s]\n"
     ]
    },
    {
     "name": "stdout",
     "output_type": "stream",
     "text": [
      "{'val_loss': 1.5756640437076677, 'val_accuracy': 0.6510940272028386, 'precision': 0.6487475474028109, 'recall': 0.6510940272028386, 'f1-score': 0.634831962371281, 'macro_f1-score': 0.3604200404688629, 'balanced_accuracy': 0.36205028527840816, 'mcc': 0.5317277779660929, 'train_loss': 0.5024511548011281}\n",
      "Epoch 5/20\n"
     ]
    },
    {
     "name": "stderr",
     "output_type": "stream",
     "text": [
      "100%|██████████| 761/761 [01:20<00:00,  9.45it/s]\n"
     ]
    },
    {
     "name": "stdout",
     "output_type": "stream",
     "text": [
      "{'val_loss': 1.8882367602496777, 'val_accuracy': 0.5730337078651685, 'precision': 0.6570032384716022, 'recall': 0.5730337078651685, 'f1-score': 0.5930050992159824, 'macro_f1-score': 0.3513965083320412, 'balanced_accuracy': 0.39418134096721863, 'mcc': 0.4833888303492547, 'train_loss': 0.3994611685902233}\n",
      "Epoch 6/20\n"
     ]
    },
    {
     "name": "stderr",
     "output_type": "stream",
     "text": [
      "100%|██████████| 761/761 [01:20<00:00,  9.46it/s]\n"
     ]
    },
    {
     "name": "stdout",
     "output_type": "stream",
     "text": [
      "{'val_loss': 1.6655777639375542, 'val_accuracy': 0.651685393258427, 'precision': 0.6646136032884189, 'recall': 0.651685393258427, 'f1-score': 0.6426118381148993, 'macro_f1-score': 0.37998417978818355, 'balanced_accuracy': 0.39060428819875187, 'mcc': 0.542219525559986, 'train_loss': 0.3344742307835962}\n",
      "Epoch 7/20\n"
     ]
    },
    {
     "name": "stderr",
     "output_type": "stream",
     "text": [
      "100%|██████████| 761/761 [01:20<00:00,  9.44it/s]\n"
     ]
    },
    {
     "name": "stdout",
     "output_type": "stream",
     "text": [
      "{'val_loss': 1.7417186411484233, 'val_accuracy': 0.641632170313424, 'precision': 0.657643710822014, 'recall': 0.641632170313424, 'f1-score': 0.6398686105960513, 'macro_f1-score': 0.36201772741245924, 'balanced_accuracy': 0.3872622831075554, 'mcc': 0.5384797292774095, 'train_loss': 0.3224640745784642}\n",
      "Epoch 8/20\n"
     ]
    },
    {
     "name": "stderr",
     "output_type": "stream",
     "text": [
      "100%|██████████| 761/761 [01:20<00:00,  9.45it/s]\n"
     ]
    },
    {
     "name": "stdout",
     "output_type": "stream",
     "text": [
      "{'val_loss': 1.9053922481132004, 'val_accuracy': 0.6167947959787108, 'precision': 0.6520942056857499, 'recall': 0.6167947959787108, 'f1-score': 0.6152092184720404, 'macro_f1-score': 0.3637883889342683, 'balanced_accuracy': 0.37914723255523275, 'mcc': 0.5100233776329859, 'train_loss': 0.2561215613264977}\n",
      "Epoch 9/20\n"
     ]
    },
    {
     "name": "stderr",
     "output_type": "stream",
     "text": [
      "100%|██████████| 761/761 [01:20<00:00,  9.45it/s]\n"
     ]
    },
    {
     "name": "stdout",
     "output_type": "stream",
     "text": [
      "{'val_loss': 1.8825266625521317, 'val_accuracy': 0.6611472501478415, 'precision': 0.6474790869480274, 'recall': 0.6611472501478415, 'f1-score': 0.640332871782142, 'macro_f1-score': 0.3810085096963671, 'balanced_accuracy': 0.3767509293079504, 'mcc': 0.5418119423733159, 'train_loss': 0.30483491504632193}\n",
      "Epoch 10/20\n"
     ]
    },
    {
     "name": "stderr",
     "output_type": "stream",
     "text": [
      "100%|██████████| 761/761 [01:20<00:00,  9.46it/s]\n"
     ]
    },
    {
     "name": "stdout",
     "output_type": "stream",
     "text": [
      "{'val_loss': 2.0125481671882124, 'val_accuracy': 0.6203429923122413, 'precision': 0.6551805891510633, 'recall': 0.6203429923122413, 'f1-score': 0.6168499674309958, 'macro_f1-score': 0.348561710928365, 'balanced_accuracy': 0.375881392843951, 'mcc': 0.5189459234557182, 'train_loss': 0.24784848116535288}\n",
      "Epoch 11/20\n"
     ]
    },
    {
     "name": "stderr",
     "output_type": "stream",
     "text": [
      "100%|██████████| 761/761 [01:20<00:00,  9.44it/s]\n"
     ]
    },
    {
     "name": "stdout",
     "output_type": "stream",
     "text": [
      "{'val_loss': 2.214410035115368, 'val_accuracy': 0.6043761088113542, 'precision': 0.6404167811159935, 'recall': 0.6043761088113542, 'f1-score': 0.6072563376322647, 'macro_f1-score': 0.33028370207050933, 'balanced_accuracy': 0.37044029592080435, 'mcc': 0.491909473002231, 'train_loss': 0.25779127556574866}\n",
      "Epoch 12/20\n"
     ]
    },
    {
     "name": "stderr",
     "output_type": "stream",
     "text": [
      "100%|██████████| 761/761 [01:20<00:00,  9.44it/s]\n"
     ]
    },
    {
     "name": "stdout",
     "output_type": "stream",
     "text": [
      "{'val_loss': 2.067133368186231, 'val_accuracy': 0.6298048492016558, 'precision': 0.6400320771579256, 'recall': 0.6298048492016558, 'f1-score': 0.6245508780725446, 'macro_f1-score': 0.3549585356025365, 'balanced_accuracy': 0.36650049708087723, 'mcc': 0.5191908190333859, 'train_loss': 0.2595512439287543}\n",
      "Early stopping.\n",
      "\n",
      "[Fold 4]\n",
      "Label distribution after resampling:\n",
      "  label 0: 2000\n",
      "  label 1: 200\n",
      "  label 2: 200\n",
      "  label 3: 200\n",
      "  label 4: 206\n",
      "  label 5: 200\n",
      "  label 6: 200\n",
      "  label 7: 200\n",
      "  label 8: 200\n",
      "  label 9: 200\n",
      "  label 10: 200\n",
      "  label 11: 200\n",
      "  label 12: 200\n",
      "  label 13: 200\n",
      "  label 14: 200\n",
      "  label 15: 200\n",
      "  label 16: 200\n",
      "  label 17: 232\n",
      "  label 18: 200\n",
      "  label 19: 200\n",
      "  label 20: 200\n",
      "  label 21: 200\n",
      "  label 22: 200\n",
      "  label 23: 200\n",
      "  label 24: 200\n",
      "  label 25: 200\n",
      "  label 26: 200\n",
      "  label 27: 200\n",
      "  label 28: 200\n",
      "  label 29: 200\n",
      "  label 30: 200\n",
      "  label 31: 200\n",
      "  label 32: 200\n",
      "  label 33: 200\n",
      "  label 34: 200\n",
      "  label 35: 200\n",
      "  label 36: 200\n",
      "  label 37: 200\n",
      "  label 38: 200\n",
      "  label 39: 200\n",
      "  label 40: 200\n",
      "  label 41: 200\n",
      "  label 42: 200\n",
      "  label 43: 200\n",
      "  label 44: 200\n",
      "  label 45: 200\n",
      "  label 46: 200\n",
      "  label 47: 529\n",
      "  label 48: 201\n",
      "  label 49: 200\n",
      "model is microsoft/deberta-base cnn1filter234drop5\n",
      "Epoch 1/20\n"
     ]
    },
    {
     "name": "stderr",
     "output_type": "stream",
     "text": [
      "100%|██████████| 761/761 [01:20<00:00,  9.44it/s]\n"
     ]
    },
    {
     "name": "stdout",
     "output_type": "stream",
     "text": [
      "{'val_loss': 3.452750752556999, 'val_accuracy': 0.47013601419278533, 'precision': 0.22102787184107886, 'recall': 0.47013601419278533, 'f1-score': 0.30069037110479835, 'macro_f1-score': 0.012791633145615447, 'balanced_accuracy': 0.02, 'mcc': 0.0, 'train_loss': 3.0560643611850313}\n",
      "Epoch 2/20\n"
     ]
    },
    {
     "name": "stderr",
     "output_type": "stream",
     "text": [
      "100%|██████████| 761/761 [01:20<00:00,  9.44it/s]\n"
     ]
    },
    {
     "name": "stdout",
     "output_type": "stream",
     "text": [
      "{'val_loss': 3.2937845464022653, 'val_accuracy': 0.47013601419278533, 'precision': 0.22102787184107886, 'recall': 0.47013601419278533, 'f1-score': 0.30069037110479835, 'macro_f1-score': 0.012791633145615447, 'balanced_accuracy': 0.02, 'mcc': 0.0, 'train_loss': 3.716489233889185}\n",
      "Epoch 3/20\n"
     ]
    },
    {
     "name": "stderr",
     "output_type": "stream",
     "text": [
      "100%|██████████| 761/761 [01:20<00:00,  9.43it/s]\n"
     ]
    },
    {
     "name": "stdout",
     "output_type": "stream",
     "text": [
      "{'val_loss': 3.2469625585484057, 'val_accuracy': 0.47013601419278533, 'precision': 0.22102787184107886, 'recall': 0.47013601419278533, 'f1-score': 0.30069037110479835, 'macro_f1-score': 0.012791633145615447, 'balanced_accuracy': 0.02, 'mcc': 0.0, 'train_loss': 3.7112301288860388}\n",
      "Epoch 4/20\n"
     ]
    },
    {
     "name": "stderr",
     "output_type": "stream",
     "text": [
      "100%|██████████| 761/761 [01:20<00:00,  9.43it/s]\n"
     ]
    },
    {
     "name": "stdout",
     "output_type": "stream",
     "text": [
      "{'val_loss': 3.3410500692871383, 'val_accuracy': 0.47013601419278533, 'precision': 0.22102787184107886, 'recall': 0.47013601419278533, 'f1-score': 0.30069037110479835, 'macro_f1-score': 0.012791633145615447, 'balanced_accuracy': 0.02, 'mcc': 0.0, 'train_loss': 3.708404647536409}\n",
      "Early stopping.\n",
      "\n",
      "[Fold 5]\n",
      "Label distribution after resampling:\n",
      "  label 0: 2000\n",
      "  label 1: 200\n",
      "  label 2: 200\n",
      "  label 3: 200\n",
      "  label 4: 205\n",
      "  label 5: 200\n",
      "  label 6: 200\n",
      "  label 7: 200\n",
      "  label 8: 200\n",
      "  label 9: 200\n",
      "  label 10: 200\n",
      "  label 11: 200\n",
      "  label 12: 200\n",
      "  label 13: 200\n",
      "  label 14: 200\n",
      "  label 15: 200\n",
      "  label 16: 200\n",
      "  label 17: 231\n",
      "  label 18: 200\n",
      "  label 19: 200\n",
      "  label 20: 200\n",
      "  label 21: 200\n",
      "  label 22: 200\n",
      "  label 23: 200\n",
      "  label 24: 200\n",
      "  label 25: 200\n",
      "  label 26: 200\n",
      "  label 27: 200\n",
      "  label 28: 200\n",
      "  label 29: 200\n",
      "  label 30: 200\n",
      "  label 31: 200\n",
      "  label 32: 200\n",
      "  label 33: 200\n",
      "  label 34: 200\n",
      "  label 35: 200\n",
      "  label 36: 200\n",
      "  label 37: 200\n",
      "  label 38: 200\n",
      "  label 39: 200\n",
      "  label 40: 200\n",
      "  label 41: 200\n",
      "  label 42: 200\n",
      "  label 43: 200\n",
      "  label 44: 200\n",
      "  label 45: 200\n",
      "  label 46: 200\n",
      "  label 47: 529\n",
      "  label 48: 202\n",
      "  label 49: 200\n",
      "model is microsoft/deberta-base cnn1filter234drop5\n",
      "Epoch 1/20\n"
     ]
    },
    {
     "name": "stderr",
     "output_type": "stream",
     "text": [
      "100%|██████████| 761/761 [01:20<00:00,  9.44it/s]\n"
     ]
    },
    {
     "name": "stdout",
     "output_type": "stream",
     "text": [
      "{'val_loss': 1.5652390083052077, 'val_accuracy': 0.572189349112426, 'precision': 0.5474080302925364, 'recall': 0.572189349112426, 'f1-score': 0.5429843434272771, 'macro_f1-score': 0.2544984647701361, 'balanced_accuracy': 0.3047997882208242, 'mcc': 0.4341125559640276, 'train_loss': 2.7145626999232206}\n",
      "Epoch 2/20\n"
     ]
    },
    {
     "name": "stderr",
     "output_type": "stream",
     "text": [
      "100%|██████████| 761/761 [01:20<00:00,  9.44it/s]\n"
     ]
    },
    {
     "name": "stdout",
     "output_type": "stream",
     "text": [
      "{'val_loss': 1.9023184793175392, 'val_accuracy': 0.5266272189349113, 'precision': 0.6287351901072264, 'recall': 0.5266272189349113, 'f1-score': 0.5221382486930969, 'macro_f1-score': 0.2367798710917545, 'balanced_accuracy': 0.23587809632900408, 'mcc': 0.40062949931741476, 'train_loss': 1.230630724799774}\n",
      "Epoch 3/20\n"
     ]
    },
    {
     "name": "stderr",
     "output_type": "stream",
     "text": [
      "100%|██████████| 761/761 [01:20<00:00,  9.44it/s]\n"
     ]
    },
    {
     "name": "stdout",
     "output_type": "stream",
     "text": [
      "{'val_loss': 1.4531797822916284, 'val_accuracy': 0.6289940828402367, 'precision': 0.6762329056645453, 'recall': 0.6289940828402367, 'f1-score': 0.6278915331156749, 'macro_f1-score': 0.3648571975408485, 'balanced_accuracy': 0.4019906015487282, 'mcc': 0.5178442583409864, 'train_loss': 0.7303625250066313}\n",
      "Epoch 4/20\n"
     ]
    },
    {
     "name": "stderr",
     "output_type": "stream",
     "text": [
      "100%|██████████| 761/761 [01:20<00:00,  9.44it/s]\n"
     ]
    },
    {
     "name": "stdout",
     "output_type": "stream",
     "text": [
      "{'val_loss': 1.46445131203476, 'val_accuracy': 0.6615384615384615, 'precision': 0.6591075384789545, 'recall': 0.6615384615384615, 'f1-score': 0.6485624161875488, 'macro_f1-score': 0.37888188852761895, 'balanced_accuracy': 0.3838496267885602, 'mcc': 0.5536983718321369, 'train_loss': 0.5401816308527754}\n",
      "Epoch 5/20\n"
     ]
    },
    {
     "name": "stderr",
     "output_type": "stream",
     "text": [
      "100%|██████████| 761/761 [01:20<00:00,  9.44it/s]\n"
     ]
    },
    {
     "name": "stdout",
     "output_type": "stream",
     "text": [
      "{'val_loss': 1.6281898285982743, 'val_accuracy': 0.6402366863905326, 'precision': 0.6649927339123719, 'recall': 0.6402366863905326, 'f1-score': 0.6402406816537349, 'macro_f1-score': 0.40306705111849794, 'balanced_accuracy': 0.41768237697707633, 'mcc': 0.534943875490382, 'train_loss': 0.4234968406489699}\n",
      "Epoch 6/20\n"
     ]
    },
    {
     "name": "stderr",
     "output_type": "stream",
     "text": [
      "100%|██████████| 761/761 [01:20<00:00,  9.45it/s]\n"
     ]
    },
    {
     "name": "stdout",
     "output_type": "stream",
     "text": [
      "{'val_loss': 1.7605107184850946, 'val_accuracy': 0.6301775147928994, 'precision': 0.6562745237918364, 'recall': 0.6301775147928994, 'f1-score': 0.6299440694407153, 'macro_f1-score': 0.3522731467551048, 'balanced_accuracy': 0.36934503856199796, 'mcc': 0.5263461136876302, 'train_loss': 0.36994818541002256}\n",
      "Epoch 7/20\n"
     ]
    },
    {
     "name": "stderr",
     "output_type": "stream",
     "text": [
      "100%|██████████| 761/761 [01:20<00:00,  9.44it/s]\n"
     ]
    },
    {
     "name": "stdout",
     "output_type": "stream",
     "text": [
      "{'val_loss': 1.7076912437969785, 'val_accuracy': 0.6568047337278107, 'precision': 0.6648333864166781, 'recall': 0.6568047337278107, 'f1-score': 0.6497627478721871, 'macro_f1-score': 0.387234433413614, 'balanced_accuracy': 0.39421970488431524, 'mcc': 0.5479959161733603, 'train_loss': 0.32835018050057735}\n",
      "Epoch 8/20\n"
     ]
    },
    {
     "name": "stderr",
     "output_type": "stream",
     "text": [
      "100%|██████████| 761/761 [01:20<00:00,  9.45it/s]\n"
     ]
    },
    {
     "name": "stdout",
     "output_type": "stream",
     "text": [
      "{'val_loss': 1.8097526740353063, 'val_accuracy': 0.665680473372781, 'precision': 0.6702183775423598, 'recall': 0.665680473372781, 'f1-score': 0.6516264768252863, 'macro_f1-score': 0.3941317243588876, 'balanced_accuracy': 0.3754790487332681, 'mcc': 0.5526015461993542, 'train_loss': 0.3269033665216862}\n",
      "Early stopping.\n",
      "\n",
      " === microsoft/deberta-base + cnn1filter234drop5 + ros Final 5-fold Cross-Validation Results ===\n",
      "Total time: 3921 seconds\n",
      "Total time: 1 hrs 5 mins 21 secs\n",
      "val_loss: 2.0594\n",
      "val_accuracy: 0.6075\n",
      "precision: 0.5666\n",
      "recall: 0.6075\n",
      "f1-score: 0.5687\n",
      "macro_f1-score: 0.3176\n",
      "balanced_accuracy: 0.3244\n",
      "mcc: 0.4265\n",
      "train_loss: 0.9242\n",
      "▶ Running: microsoft/deberta-base + cnn1filter345drop3 + ros\n",
      "tokenizer is microsoft/deberta-base\n",
      "Using device: cuda\n",
      "CUDA Available: True\n",
      "CUDA Device: NVIDIA GeForce RTX 5070 Ti\n",
      "Current GPU Memory Allocated: 0.02 GB\n",
      "Current GPU Memory Cached: 5.14 GB\n",
      "\n",
      "[Fold 1]\n",
      "Label distribution after resampling:\n",
      "  label 0: 2000\n",
      "  label 1: 200\n",
      "  label 2: 200\n",
      "  label 3: 200\n",
      "  label 4: 205\n",
      "  label 5: 200\n",
      "  label 6: 200\n",
      "  label 7: 200\n",
      "  label 8: 200\n",
      "  label 9: 200\n",
      "  label 10: 200\n",
      "  label 11: 200\n",
      "  label 12: 200\n",
      "  label 13: 200\n",
      "  label 14: 200\n",
      "  label 15: 200\n",
      "  label 16: 200\n",
      "  label 17: 231\n",
      "  label 18: 200\n",
      "  label 19: 200\n",
      "  label 20: 200\n",
      "  label 21: 200\n",
      "  label 22: 200\n",
      "  label 23: 200\n",
      "  label 24: 200\n",
      "  label 25: 200\n",
      "  label 26: 200\n",
      "  label 27: 200\n",
      "  label 28: 200\n",
      "  label 29: 200\n",
      "  label 30: 200\n",
      "  label 31: 200\n",
      "  label 32: 200\n",
      "  label 33: 200\n",
      "  label 34: 200\n",
      "  label 35: 200\n",
      "  label 36: 200\n",
      "  label 37: 200\n",
      "  label 38: 200\n",
      "  label 39: 200\n",
      "  label 40: 200\n",
      "  label 41: 200\n",
      "  label 42: 200\n",
      "  label 43: 200\n",
      "  label 44: 200\n",
      "  label 45: 200\n",
      "  label 46: 200\n",
      "  label 47: 529\n",
      "  label 48: 202\n",
      "  label 49: 200\n",
      "model is microsoft/deberta-base cnn1filter345drop3\n",
      "Epoch 1/20\n"
     ]
    },
    {
     "name": "stderr",
     "output_type": "stream",
     "text": [
      "100%|██████████| 761/761 [01:20<00:00,  9.40it/s]\n"
     ]
    },
    {
     "name": "stdout",
     "output_type": "stream",
     "text": [
      "{'val_loss': 1.4118154324450582, 'val_accuracy': 0.6250739207569486, 'precision': 0.6194924673651088, 'recall': 0.6250739207569486, 'f1-score': 0.5835784700139335, 'macro_f1-score': 0.366747228560955, 'balanced_accuracy': 0.4068841967633331, 'mcc': 0.4882960795519173, 'train_loss': 2.207470830182365}\n",
      "Epoch 2/20\n"
     ]
    },
    {
     "name": "stderr",
     "output_type": "stream",
     "text": [
      "100%|██████████| 761/761 [01:20<00:00,  9.41it/s]\n"
     ]
    },
    {
     "name": "stdout",
     "output_type": "stream",
     "text": [
      "{'val_loss': 1.3695822467781462, 'val_accuracy': 0.6321703134240094, 'precision': 0.6487102692577715, 'recall': 0.6321703134240094, 'f1-score': 0.6186283786940123, 'macro_f1-score': 0.4007135728022135, 'balanced_accuracy': 0.419402135788905, 'mcc': 0.5104707707677477, 'train_loss': 0.8078290965217172}\n",
      "Epoch 3/20\n"
     ]
    },
    {
     "name": "stderr",
     "output_type": "stream",
     "text": [
      "100%|██████████| 761/761 [01:20<00:00,  9.41it/s]\n"
     ]
    },
    {
     "name": "stdout",
     "output_type": "stream",
     "text": [
      "{'val_loss': 1.5012420109420452, 'val_accuracy': 0.638675340035482, 'precision': 0.6858994643859383, 'recall': 0.638675340035482, 'f1-score': 0.6406495740854605, 'macro_f1-score': 0.39202825270142094, 'balanced_accuracy': 0.4055197439792414, 'mcc': 0.5363261803026382, 'train_loss': 0.5099238577138501}\n",
      "Epoch 4/20\n"
     ]
    },
    {
     "name": "stderr",
     "output_type": "stream",
     "text": [
      "100%|██████████| 761/761 [01:20<00:00,  9.40it/s]\n"
     ]
    },
    {
     "name": "stdout",
     "output_type": "stream",
     "text": [
      "{'val_loss': 1.5229781435908012, 'val_accuracy': 0.6688350088704909, 'precision': 0.6664157377617677, 'recall': 0.6688350088704909, 'f1-score': 0.6595103510947729, 'macro_f1-score': 0.4155429046969564, 'balanced_accuracy': 0.43302313079588844, 'mcc': 0.5675931066498937, 'train_loss': 0.3748122638962801}\n",
      "Epoch 5/20\n"
     ]
    },
    {
     "name": "stderr",
     "output_type": "stream",
     "text": [
      "100%|██████████| 761/761 [01:20<00:00,  9.40it/s]\n"
     ]
    },
    {
     "name": "stdout",
     "output_type": "stream",
     "text": [
      "{'val_loss': 1.6773004531860352, 'val_accuracy': 0.6410408042578356, 'precision': 0.6670168468189824, 'recall': 0.6410408042578356, 'f1-score': 0.641671022887882, 'macro_f1-score': 0.37870537083978706, 'balanced_accuracy': 0.39816320665560717, 'mcc': 0.5432146803539026, 'train_loss': 0.3142476683854567}\n",
      "Epoch 6/20\n"
     ]
    },
    {
     "name": "stderr",
     "output_type": "stream",
     "text": [
      "100%|██████████| 761/761 [01:20<00:00,  9.41it/s]\n"
     ]
    },
    {
     "name": "stdout",
     "output_type": "stream",
     "text": [
      "{'val_loss': 1.6971350967321757, 'val_accuracy': 0.6469544648137197, 'precision': 0.6641911527866133, 'recall': 0.6469544648137197, 'f1-score': 0.6459980056808748, 'macro_f1-score': 0.3835394157945365, 'balanced_accuracy': 0.3914876170098949, 'mcc': 0.540609255833941, 'train_loss': 0.29838527635207374}\n",
      "Epoch 7/20\n"
     ]
    },
    {
     "name": "stderr",
     "output_type": "stream",
     "text": [
      "100%|██████████| 761/761 [01:20<00:00,  9.42it/s]\n"
     ]
    },
    {
     "name": "stdout",
     "output_type": "stream",
     "text": [
      "{'val_loss': 1.8019312164693508, 'val_accuracy': 0.654642223536369, 'precision': 0.6702495046435413, 'recall': 0.654642223536369, 'f1-score': 0.6485483016783766, 'macro_f1-score': 0.3855328125915487, 'balanced_accuracy': 0.398660631043694, 'mcc': 0.5552534328220954, 'train_loss': 0.2523637894392944}\n",
      "Early stopping.\n",
      "\n",
      "[Fold 2]\n",
      "Label distribution after resampling:\n",
      "  label 0: 2000\n",
      "  label 1: 200\n",
      "  label 2: 200\n",
      "  label 3: 200\n",
      "  label 4: 206\n",
      "  label 5: 200\n",
      "  label 6: 200\n",
      "  label 7: 200\n",
      "  label 8: 200\n",
      "  label 9: 200\n",
      "  label 10: 200\n",
      "  label 11: 200\n",
      "  label 12: 200\n",
      "  label 13: 200\n",
      "  label 14: 200\n",
      "  label 15: 200\n",
      "  label 16: 200\n",
      "  label 17: 231\n",
      "  label 18: 200\n",
      "  label 19: 200\n",
      "  label 20: 200\n",
      "  label 21: 200\n",
      "  label 22: 200\n",
      "  label 23: 200\n",
      "  label 24: 200\n",
      "  label 25: 200\n",
      "  label 26: 200\n",
      "  label 27: 200\n",
      "  label 28: 200\n",
      "  label 29: 200\n",
      "  label 30: 200\n",
      "  label 31: 200\n",
      "  label 32: 200\n",
      "  label 33: 200\n",
      "  label 34: 200\n",
      "  label 35: 200\n",
      "  label 36: 200\n",
      "  label 37: 200\n",
      "  label 38: 200\n",
      "  label 39: 200\n",
      "  label 40: 200\n",
      "  label 41: 200\n",
      "  label 42: 200\n",
      "  label 43: 200\n",
      "  label 44: 200\n",
      "  label 45: 200\n",
      "  label 46: 200\n",
      "  label 47: 528\n",
      "  label 48: 202\n",
      "  label 49: 200\n",
      "model is microsoft/deberta-base cnn1filter345drop3\n",
      "Epoch 1/20\n"
     ]
    },
    {
     "name": "stderr",
     "output_type": "stream",
     "text": [
      "100%|██████████| 761/761 [01:20<00:00,  9.40it/s]\n"
     ]
    },
    {
     "name": "stdout",
     "output_type": "stream",
     "text": [
      "{'val_loss': 1.4062637461806244, 'val_accuracy': 0.5937315198107629, 'precision': 0.6521136719608738, 'recall': 0.5937315198107629, 'f1-score': 0.5878526037995538, 'macro_f1-score': 0.330926647910592, 'balanced_accuracy': 0.39630014941774105, 'mcc': 0.4785017678558545, 'train_loss': 2.269801929416857}\n",
      "Epoch 2/20\n"
     ]
    },
    {
     "name": "stderr",
     "output_type": "stream",
     "text": [
      "100%|██████████| 761/761 [01:20<00:00,  9.40it/s]\n"
     ]
    },
    {
     "name": "stdout",
     "output_type": "stream",
     "text": [
      "{'val_loss': 1.3586741733663488, 'val_accuracy': 0.6611472501478415, 'precision': 0.6663581756780637, 'recall': 0.6611472501478415, 'f1-score': 0.6359451567794185, 'macro_f1-score': 0.3968404457452056, 'balanced_accuracy': 0.40410577188397284, 'mcc': 0.5390558759914139, 'train_loss': 0.8389885923708942}\n",
      "Epoch 3/20\n"
     ]
    },
    {
     "name": "stderr",
     "output_type": "stream",
     "text": [
      "100%|██████████| 761/761 [01:20<00:00,  9.41it/s]\n"
     ]
    },
    {
     "name": "stdout",
     "output_type": "stream",
     "text": [
      "{'val_loss': 1.4057329313934974, 'val_accuracy': 0.6534594914251922, 'precision': 0.6470764988956536, 'recall': 0.6534594914251922, 'f1-score': 0.636967726416856, 'macro_f1-score': 0.36078817289728904, 'balanced_accuracy': 0.37742964461609363, 'mcc': 0.5420437635156561, 'train_loss': 0.5123722172549066}\n",
      "Epoch 4/20\n"
     ]
    },
    {
     "name": "stderr",
     "output_type": "stream",
     "text": [
      "100%|██████████| 761/761 [01:20<00:00,  9.41it/s]\n"
     ]
    },
    {
     "name": "stdout",
     "output_type": "stream",
     "text": [
      "{'val_loss': 1.5353680348621224, 'val_accuracy': 0.6771141336487285, 'precision': 0.6705124565449249, 'recall': 0.6771141336487285, 'f1-score': 0.6588957268441313, 'macro_f1-score': 0.3912261707887298, 'balanced_accuracy': 0.3941315258982216, 'mcc': 0.56558129138362, 'train_loss': 0.3797008046383496}\n",
      "Epoch 5/20\n"
     ]
    },
    {
     "name": "stderr",
     "output_type": "stream",
     "text": [
      "100%|██████████| 761/761 [01:20<00:00,  9.40it/s]\n"
     ]
    },
    {
     "name": "stdout",
     "output_type": "stream",
     "text": [
      "{'val_loss': 1.7555316894684199, 'val_accuracy': 0.6327616794795978, 'precision': 0.6555484334904517, 'recall': 0.6327616794795978, 'f1-score': 0.6299202500839037, 'macro_f1-score': 0.37510208029267333, 'balanced_accuracy': 0.3936936333777459, 'mcc': 0.522470332879521, 'train_loss': 0.31419023569139715}\n",
      "Early stopping.\n",
      "\n",
      "[Fold 3]\n",
      "Label distribution after resampling:\n",
      "  label 0: 2000\n",
      "  label 1: 200\n",
      "  label 2: 200\n",
      "  label 3: 200\n",
      "  label 4: 206\n",
      "  label 5: 200\n",
      "  label 6: 200\n",
      "  label 7: 200\n",
      "  label 8: 200\n",
      "  label 9: 200\n",
      "  label 10: 200\n",
      "  label 11: 200\n",
      "  label 12: 200\n",
      "  label 13: 200\n",
      "  label 14: 200\n",
      "  label 15: 200\n",
      "  label 16: 200\n",
      "  label 17: 231\n",
      "  label 18: 200\n",
      "  label 19: 200\n",
      "  label 20: 200\n",
      "  label 21: 200\n",
      "  label 22: 200\n",
      "  label 23: 200\n",
      "  label 24: 200\n",
      "  label 25: 200\n",
      "  label 26: 200\n",
      "  label 27: 200\n",
      "  label 28: 200\n",
      "  label 29: 200\n",
      "  label 30: 200\n",
      "  label 31: 200\n",
      "  label 32: 200\n",
      "  label 33: 200\n",
      "  label 34: 200\n",
      "  label 35: 200\n",
      "  label 36: 200\n",
      "  label 37: 200\n",
      "  label 38: 200\n",
      "  label 39: 200\n",
      "  label 40: 200\n",
      "  label 41: 200\n",
      "  label 42: 200\n",
      "  label 43: 200\n",
      "  label 44: 200\n",
      "  label 45: 200\n",
      "  label 46: 200\n",
      "  label 47: 529\n",
      "  label 48: 201\n",
      "  label 49: 200\n",
      "model is microsoft/deberta-base cnn1filter345drop3\n",
      "Epoch 1/20\n"
     ]
    },
    {
     "name": "stderr",
     "output_type": "stream",
     "text": [
      "100%|██████████| 761/761 [01:20<00:00,  9.40it/s]\n"
     ]
    },
    {
     "name": "stdout",
     "output_type": "stream",
     "text": [
      "{'val_loss': 1.5128749929509073, 'val_accuracy': 0.5736250739207569, 'precision': 0.6226141187378409, 'recall': 0.5736250739207569, 'f1-score': 0.5697780002718599, 'macro_f1-score': 0.2973867910397814, 'balanced_accuracy': 0.35943636534857815, 'mcc': 0.4497086861593757, 'train_loss': 2.2975914199468184}\n",
      "Epoch 2/20\n"
     ]
    },
    {
     "name": "stderr",
     "output_type": "stream",
     "text": [
      "100%|██████████| 761/761 [01:20<00:00,  9.41it/s]\n"
     ]
    },
    {
     "name": "stdout",
     "output_type": "stream",
     "text": [
      "{'val_loss': 1.4810690671767828, 'val_accuracy': 0.6221170904790065, 'precision': 0.6695431543693189, 'recall': 0.6221170904790065, 'f1-score': 0.6250864122885986, 'macro_f1-score': 0.3718751697491806, 'balanced_accuracy': 0.42257092907323085, 'mcc': 0.5100935268692371, 'train_loss': 0.9039761607734665}\n",
      "Epoch 3/20\n"
     ]
    },
    {
     "name": "stderr",
     "output_type": "stream",
     "text": [
      "100%|██████████| 761/761 [01:20<00:00,  9.41it/s]\n"
     ]
    },
    {
     "name": "stdout",
     "output_type": "stream",
     "text": [
      "{'val_loss': 1.5153899524571761, 'val_accuracy': 0.6280307510348906, 'precision': 0.6364678460328502, 'recall': 0.6280307510348906, 'f1-score': 0.6143915375065081, 'macro_f1-score': 0.35843843566591643, 'balanced_accuracy': 0.3731053885637584, 'mcc': 0.508992442661566, 'train_loss': 0.5554069154082005}\n",
      "Epoch 4/20\n"
     ]
    },
    {
     "name": "stderr",
     "output_type": "stream",
     "text": [
      "100%|██████████| 761/761 [01:20<00:00,  9.40it/s]\n"
     ]
    },
    {
     "name": "stdout",
     "output_type": "stream",
     "text": [
      "{'val_loss': 1.6619925018189088, 'val_accuracy': 0.615612063867534, 'precision': 0.6400202990397311, 'recall': 0.615612063867534, 'f1-score': 0.6166657999425319, 'macro_f1-score': 0.3410464918445698, 'balanced_accuracy': 0.3717202111192254, 'mcc': 0.5053557495172648, 'train_loss': 0.39594913872617266}\n",
      "Epoch 5/20\n"
     ]
    },
    {
     "name": "stderr",
     "output_type": "stream",
     "text": [
      "100%|██████████| 761/761 [01:20<00:00,  9.40it/s]\n"
     ]
    },
    {
     "name": "stdout",
     "output_type": "stream",
     "text": [
      "{'val_loss': 1.7116693927432007, 'val_accuracy': 0.6463630987581312, 'precision': 0.6422420406453173, 'recall': 0.6463630987581312, 'f1-score': 0.6297662989083883, 'macro_f1-score': 0.35422196392431554, 'balanced_accuracy': 0.37074031080101344, 'mcc': 0.5278952717540766, 'train_loss': 0.34020945032307104}\n",
      "Early stopping.\n",
      "\n",
      "[Fold 4]\n",
      "Label distribution after resampling:\n",
      "  label 0: 2000\n",
      "  label 1: 200\n",
      "  label 2: 200\n",
      "  label 3: 200\n",
      "  label 4: 206\n",
      "  label 5: 200\n",
      "  label 6: 200\n",
      "  label 7: 200\n",
      "  label 8: 200\n",
      "  label 9: 200\n",
      "  label 10: 200\n",
      "  label 11: 200\n",
      "  label 12: 200\n",
      "  label 13: 200\n",
      "  label 14: 200\n",
      "  label 15: 200\n",
      "  label 16: 200\n",
      "  label 17: 232\n",
      "  label 18: 200\n",
      "  label 19: 200\n",
      "  label 20: 200\n",
      "  label 21: 200\n",
      "  label 22: 200\n",
      "  label 23: 200\n",
      "  label 24: 200\n",
      "  label 25: 200\n",
      "  label 26: 200\n",
      "  label 27: 200\n",
      "  label 28: 200\n",
      "  label 29: 200\n",
      "  label 30: 200\n",
      "  label 31: 200\n",
      "  label 32: 200\n",
      "  label 33: 200\n",
      "  label 34: 200\n",
      "  label 35: 200\n",
      "  label 36: 200\n",
      "  label 37: 200\n",
      "  label 38: 200\n",
      "  label 39: 200\n",
      "  label 40: 200\n",
      "  label 41: 200\n",
      "  label 42: 200\n",
      "  label 43: 200\n",
      "  label 44: 200\n",
      "  label 45: 200\n",
      "  label 46: 200\n",
      "  label 47: 529\n",
      "  label 48: 201\n",
      "  label 49: 200\n",
      "model is microsoft/deberta-base cnn1filter345drop3\n",
      "Epoch 1/20\n"
     ]
    },
    {
     "name": "stderr",
     "output_type": "stream",
     "text": [
      "100%|██████████| 761/761 [01:20<00:00,  9.40it/s]\n"
     ]
    },
    {
     "name": "stdout",
     "output_type": "stream",
     "text": [
      "{'val_loss': 1.8958011685677294, 'val_accuracy': 0.5002956830277943, 'precision': 0.5365027855530116, 'recall': 0.5002956830277943, 'f1-score': 0.4931525641377925, 'macro_f1-score': 0.19456209915780615, 'balanced_accuracy': 0.2928180058999616, 'mcc': 0.3786388143304322, 'train_loss': 3.008182868067758}\n",
      "Epoch 2/20\n"
     ]
    },
    {
     "name": "stderr",
     "output_type": "stream",
     "text": [
      "100%|██████████| 761/761 [01:20<00:00,  9.40it/s]\n"
     ]
    },
    {
     "name": "stdout",
     "output_type": "stream",
     "text": [
      "{'val_loss': 1.5313674363325227, 'val_accuracy': 0.5600236546422236, 'precision': 0.6008769752371099, 'recall': 0.5600236546422236, 'f1-score': 0.5599849246570003, 'macro_f1-score': 0.2996062475478574, 'balanced_accuracy': 0.348162963686734, 'mcc': 0.45717607097096796, 'train_loss': 1.5010134532323178}\n",
      "Epoch 3/20\n"
     ]
    },
    {
     "name": "stderr",
     "output_type": "stream",
     "text": [
      "100%|██████████| 761/761 [01:20<00:00,  9.40it/s]\n"
     ]
    },
    {
     "name": "stdout",
     "output_type": "stream",
     "text": [
      "{'val_loss': 1.387241838394471, 'val_accuracy': 0.6404494382022472, 'precision': 0.6116339499887623, 'recall': 0.6404494382022472, 'f1-score': 0.6103771609278608, 'macro_f1-score': 0.35969689513529524, 'balanced_accuracy': 0.3617872968891634, 'mcc': 0.5264200908083975, 'train_loss': 0.8781268055037976}\n",
      "Epoch 4/20\n"
     ]
    },
    {
     "name": "stderr",
     "output_type": "stream",
     "text": [
      "100%|██████████| 761/761 [01:20<00:00,  9.40it/s]\n"
     ]
    },
    {
     "name": "stdout",
     "output_type": "stream",
     "text": [
      "{'val_loss': 1.4885630388304871, 'val_accuracy': 0.6410408042578356, 'precision': 0.6630917088051844, 'recall': 0.6410408042578356, 'f1-score': 0.6213432424948414, 'macro_f1-score': 0.3858646093430448, 'balanced_accuracy': 0.370893350109984, 'mcc': 0.5300429314552352, 'train_loss': 0.606333815878191}\n",
      "Epoch 5/20\n"
     ]
    },
    {
     "name": "stderr",
     "output_type": "stream",
     "text": [
      "100%|██████████| 761/761 [01:20<00:00,  9.40it/s]\n"
     ]
    },
    {
     "name": "stdout",
     "output_type": "stream",
     "text": [
      "{'val_loss': 1.542643870104034, 'val_accuracy': 0.6451803666469544, 'precision': 0.6439447761321087, 'recall': 0.6451803666469544, 'f1-score': 0.6252127497285668, 'macro_f1-score': 0.39974165428328357, 'balanced_accuracy': 0.40600061718337455, 'mcc': 0.5293681766425837, 'train_loss': 0.5636393051746249}\n",
      "Epoch 6/20\n"
     ]
    },
    {
     "name": "stderr",
     "output_type": "stream",
     "text": [
      "100%|██████████| 761/761 [01:20<00:00,  9.40it/s]\n"
     ]
    },
    {
     "name": "stdout",
     "output_type": "stream",
     "text": [
      "{'val_loss': 1.8638044933103166, 'val_accuracy': 0.5718509757539917, 'precision': 0.6414660732625885, 'recall': 0.5718509757539917, 'f1-score': 0.5826117018936435, 'macro_f1-score': 0.3790751302544814, 'balanced_accuracy': 0.4111066291903973, 'mcc': 0.4703804782154534, 'train_loss': 0.5690578956710133}\n",
      "Epoch 7/20\n"
     ]
    },
    {
     "name": "stderr",
     "output_type": "stream",
     "text": [
      "100%|██████████| 761/761 [01:20<00:00,  9.41it/s]\n"
     ]
    },
    {
     "name": "stdout",
     "output_type": "stream",
     "text": [
      "{'val_loss': 1.577399750363152, 'val_accuracy': 0.6617386162034299, 'precision': 0.6768499212807916, 'recall': 0.6617386162034299, 'f1-score': 0.6507712813032992, 'macro_f1-score': 0.427940821555406, 'balanced_accuracy': 0.43346077297927693, 'mcc': 0.5579881350898703, 'train_loss': 0.5130711816075049}\n",
      "Epoch 8/20\n"
     ]
    },
    {
     "name": "stderr",
     "output_type": "stream",
     "text": [
      "100%|██████████| 761/761 [01:20<00:00,  9.40it/s]\n"
     ]
    },
    {
     "name": "stdout",
     "output_type": "stream",
     "text": [
      "{'val_loss': 2.956054248899784, 'val_accuracy': 0.4807806031933767, 'precision': 0.34712859034884663, 'recall': 0.4807806031933767, 'f1-score': 0.3658191197352878, 'macro_f1-score': 0.06643566069931794, 'balanced_accuracy': 0.0694175751489847, 'mcc': 0.1919686638696076, 'train_loss': 0.4789520322116344}\n",
      "Epoch 9/20\n"
     ]
    },
    {
     "name": "stderr",
     "output_type": "stream",
     "text": [
      "100%|██████████| 761/761 [01:20<00:00,  9.40it/s]\n"
     ]
    },
    {
     "name": "stdout",
     "output_type": "stream",
     "text": [
      "{'val_loss': 2.0908911205687613, 'val_accuracy': 0.5759905381431106, 'precision': 0.6200382950479774, 'recall': 0.5759905381431106, 'f1-score': 0.5848508999264183, 'macro_f1-score': 0.3644431810498643, 'balanced_accuracy': 0.40609727799261996, 'mcc': 0.4599532942374398, 'train_loss': 1.6465824038896626}\n",
      "Epoch 10/20\n"
     ]
    },
    {
     "name": "stderr",
     "output_type": "stream",
     "text": [
      "100%|██████████| 761/761 [01:20<00:00,  9.40it/s]\n"
     ]
    },
    {
     "name": "stdout",
     "output_type": "stream",
     "text": [
      "{'val_loss': 1.8957677528543293, 'val_accuracy': 0.628622117090479, 'precision': 0.6651180221953599, 'recall': 0.628622117090479, 'f1-score': 0.6331176762597456, 'macro_f1-score': 0.4215728734817992, 'balanced_accuracy': 0.4374906681118281, 'mcc': 0.5238524511213157, 'train_loss': 0.4166001626926764}\n",
      "Early stopping.\n",
      "\n",
      "[Fold 5]\n",
      "Label distribution after resampling:\n",
      "  label 0: 2000\n",
      "  label 1: 200\n",
      "  label 2: 200\n",
      "  label 3: 200\n",
      "  label 4: 205\n",
      "  label 5: 200\n",
      "  label 6: 200\n",
      "  label 7: 200\n",
      "  label 8: 200\n",
      "  label 9: 200\n",
      "  label 10: 200\n",
      "  label 11: 200\n",
      "  label 12: 200\n",
      "  label 13: 200\n",
      "  label 14: 200\n",
      "  label 15: 200\n",
      "  label 16: 200\n",
      "  label 17: 231\n",
      "  label 18: 200\n",
      "  label 19: 200\n",
      "  label 20: 200\n",
      "  label 21: 200\n",
      "  label 22: 200\n",
      "  label 23: 200\n",
      "  label 24: 200\n",
      "  label 25: 200\n",
      "  label 26: 200\n",
      "  label 27: 200\n",
      "  label 28: 200\n",
      "  label 29: 200\n",
      "  label 30: 200\n",
      "  label 31: 200\n",
      "  label 32: 200\n",
      "  label 33: 200\n",
      "  label 34: 200\n",
      "  label 35: 200\n",
      "  label 36: 200\n",
      "  label 37: 200\n",
      "  label 38: 200\n",
      "  label 39: 200\n",
      "  label 40: 200\n",
      "  label 41: 200\n",
      "  label 42: 200\n",
      "  label 43: 200\n",
      "  label 44: 200\n",
      "  label 45: 200\n",
      "  label 46: 200\n",
      "  label 47: 529\n",
      "  label 48: 202\n",
      "  label 49: 200\n",
      "model is microsoft/deberta-base cnn1filter345drop3\n",
      "Epoch 1/20\n"
     ]
    },
    {
     "name": "stderr",
     "output_type": "stream",
     "text": [
      "100%|██████████| 761/761 [01:20<00:00,  9.42it/s]\n"
     ]
    },
    {
     "name": "stdout",
     "output_type": "stream",
     "text": [
      "{'val_loss': 1.5912574074178372, 'val_accuracy': 0.5875739644970415, 'precision': 0.678524162810646, 'recall': 0.5875739644970415, 'f1-score': 0.5935392955124462, 'macro_f1-score': 0.3117904703873809, 'balanced_accuracy': 0.37624089506535385, 'mcc': 0.47990038606415697, 'train_loss': 2.3308773333312023}\n",
      "Epoch 2/20\n"
     ]
    },
    {
     "name": "stderr",
     "output_type": "stream",
     "text": [
      "100%|██████████| 761/761 [01:20<00:00,  9.40it/s]\n"
     ]
    },
    {
     "name": "stdout",
     "output_type": "stream",
     "text": [
      "{'val_loss': 1.5137077052638215, 'val_accuracy': 0.6017751479289941, 'precision': 0.647152240281391, 'recall': 0.6017751479289941, 'f1-score': 0.6089540537011082, 'macro_f1-score': 0.34484852251106224, 'balanced_accuracy': 0.37205989123936056, 'mcc': 0.505991268638578, 'train_loss': 0.897263089779877}\n",
      "Epoch 3/20\n"
     ]
    },
    {
     "name": "stderr",
     "output_type": "stream",
     "text": [
      "100%|██████████| 761/761 [01:20<00:00,  9.40it/s]\n"
     ]
    },
    {
     "name": "stdout",
     "output_type": "stream",
     "text": [
      "{'val_loss': 1.516900991212647, 'val_accuracy': 0.6295857988165681, 'precision': 0.6632571463139146, 'recall': 0.6295857988165681, 'f1-score': 0.6293163466079957, 'macro_f1-score': 0.349122968117465, 'balanced_accuracy': 0.36027979612801, 'mcc': 0.5182733218410754, 'train_loss': 0.5512998066646746}\n",
      "Epoch 4/20\n"
     ]
    },
    {
     "name": "stderr",
     "output_type": "stream",
     "text": [
      "100%|██████████| 761/761 [01:20<00:00,  9.41it/s]\n"
     ]
    },
    {
     "name": "stdout",
     "output_type": "stream",
     "text": [
      "{'val_loss': 1.6211266419235266, 'val_accuracy': 0.6378698224852071, 'precision': 0.6591889205952514, 'recall': 0.6378698224852071, 'f1-score': 0.6302396051914149, 'macro_f1-score': 0.34414493559501735, 'balanced_accuracy': 0.35446503454345846, 'mcc': 0.5220200364961204, 'train_loss': 0.4196675052516329}\n",
      "Epoch 5/20\n"
     ]
    },
    {
     "name": "stderr",
     "output_type": "stream",
     "text": [
      "100%|██████████| 761/761 [01:20<00:00,  9.41it/s]\n"
     ]
    },
    {
     "name": "stdout",
     "output_type": "stream",
     "text": [
      "{'val_loss': 1.7274174105446294, 'val_accuracy': 0.6414201183431952, 'precision': 0.6714579362594624, 'recall': 0.6414201183431952, 'f1-score': 0.6433472826134479, 'macro_f1-score': 0.37176828561575953, 'balanced_accuracy': 0.3927578861050851, 'mcc': 0.5400898558398142, 'train_loss': 0.3499111735097374}\n",
      "Epoch 6/20\n"
     ]
    },
    {
     "name": "stderr",
     "output_type": "stream",
     "text": [
      "100%|██████████| 761/761 [01:20<00:00,  9.40it/s]\n"
     ]
    },
    {
     "name": "stdout",
     "output_type": "stream",
     "text": [
      "{'val_loss': 1.7811012653247364, 'val_accuracy': 0.6372781065088757, 'precision': 0.6519555585987241, 'recall': 0.6372781065088757, 'f1-score': 0.6291888988912608, 'macro_f1-score': 0.344487541664351, 'balanced_accuracy': 0.35508505934282186, 'mcc': 0.5266989669232559, 'train_loss': 0.29094568392354875}\n",
      "Epoch 7/20\n"
     ]
    },
    {
     "name": "stderr",
     "output_type": "stream",
     "text": [
      "100%|██████████| 761/761 [01:20<00:00,  9.40it/s]\n"
     ]
    },
    {
     "name": "stdout",
     "output_type": "stream",
     "text": [
      "{'val_loss': 1.822053871627124, 'val_accuracy': 0.6420118343195266, 'precision': 0.6615747936848151, 'recall': 0.6420118343195266, 'f1-score': 0.6414463006523466, 'macro_f1-score': 0.37015906067559107, 'balanced_accuracy': 0.3653480862666031, 'mcc': 0.5346883600652524, 'train_loss': 0.2719757275193264}\n",
      "Epoch 8/20\n"
     ]
    },
    {
     "name": "stderr",
     "output_type": "stream",
     "text": [
      "100%|██████████| 761/761 [01:20<00:00,  9.41it/s]\n"
     ]
    },
    {
     "name": "stdout",
     "output_type": "stream",
     "text": [
      "{'val_loss': 1.8569525979318708, 'val_accuracy': 0.6621301775147929, 'precision': 0.6599112917565452, 'recall': 0.6621301775147929, 'f1-score': 0.6510394435218975, 'macro_f1-score': 0.37312545747310083, 'balanced_accuracy': 0.38215624007883875, 'mcc': 0.5517892350359626, 'train_loss': 0.2482715007379705}\n",
      "Epoch 9/20\n"
     ]
    },
    {
     "name": "stderr",
     "output_type": "stream",
     "text": [
      "100%|██████████| 761/761 [01:20<00:00,  9.42it/s]\n"
     ]
    },
    {
     "name": "stdout",
     "output_type": "stream",
     "text": [
      "{'val_loss': 1.9732902564530104, 'val_accuracy': 0.6402366863905326, 'precision': 0.6793326449940502, 'recall': 0.6402366863905326, 'f1-score': 0.6375247925420255, 'macro_f1-score': 0.3855593491323678, 'balanced_accuracy': 0.3881337366950455, 'mcc': 0.5357858980364821, 'train_loss': 0.2503210033085711}\n",
      "Epoch 10/20\n"
     ]
    },
    {
     "name": "stderr",
     "output_type": "stream",
     "text": [
      "100%|██████████| 761/761 [01:20<00:00,  9.40it/s]\n"
     ]
    },
    {
     "name": "stdout",
     "output_type": "stream",
     "text": [
      "{'val_loss': 1.8698468998355686, 'val_accuracy': 0.6568047337278107, 'precision': 0.6612399505247227, 'recall': 0.6568047337278107, 'f1-score': 0.6477984408367211, 'macro_f1-score': 0.365452392523502, 'balanced_accuracy': 0.35596016786244467, 'mcc': 0.5442570136823696, 'train_loss': 0.2571660247717038}\n",
      "Epoch 11/20\n"
     ]
    },
    {
     "name": "stderr",
     "output_type": "stream",
     "text": [
      "100%|██████████| 761/761 [01:20<00:00,  9.41it/s]\n"
     ]
    },
    {
     "name": "stdout",
     "output_type": "stream",
     "text": [
      "{'val_loss': 2.1246686583420016, 'val_accuracy': 0.6319526627218935, 'precision': 0.6580103115429645, 'recall': 0.6319526627218935, 'f1-score': 0.6357736510348329, 'macro_f1-score': 0.36371149464465985, 'balanced_accuracy': 0.38779007489107625, 'mcc': 0.5320667662043854, 'train_loss': 0.2207917981382102}\n",
      "Epoch 12/20\n"
     ]
    },
    {
     "name": "stderr",
     "output_type": "stream",
     "text": [
      "100%|██████████| 761/761 [01:20<00:00,  9.41it/s]\n"
     ]
    },
    {
     "name": "stdout",
     "output_type": "stream",
     "text": [
      "{'val_loss': 2.0322282660119937, 'val_accuracy': 0.6597633136094675, 'precision': 0.6639878486735029, 'recall': 0.6597633136094675, 'f1-score': 0.6490256928345493, 'macro_f1-score': 0.3625108248072317, 'balanced_accuracy': 0.3582357726184837, 'mcc': 0.548537387227008, 'train_loss': 0.21595298854723505}\n",
      "Early stopping.\n",
      "\n",
      " === microsoft/deberta-base + cnn1filter345drop3 + ros Final 5-fold Cross-Validation Results ===\n",
      "Total time: 3337 seconds\n",
      "Total time: 0 hrs 55 mins 37 secs\n",
      "val_loss: 1.5827\n",
      "val_accuracy: 0.6508\n",
      "precision: 0.6717\n",
      "recall: 0.6508\n",
      "f1-score: 0.6418\n",
      "macro_f1-score: 0.3996\n",
      "balanced_accuracy: 0.4163\n",
      "mcc: 0.5421\n",
      "train_loss: 0.5762\n",
      "▶ Running: microsoft/deberta-base + cnn1filter345drop5 + ros\n",
      "tokenizer is microsoft/deberta-base\n",
      "Using device: cuda\n",
      "CUDA Available: True\n",
      "CUDA Device: NVIDIA GeForce RTX 5070 Ti\n",
      "Current GPU Memory Allocated: 0.02 GB\n",
      "Current GPU Memory Cached: 5.14 GB\n",
      "\n",
      "[Fold 1]\n",
      "Label distribution after resampling:\n",
      "  label 0: 2000\n",
      "  label 1: 200\n",
      "  label 2: 200\n",
      "  label 3: 200\n",
      "  label 4: 205\n",
      "  label 5: 200\n",
      "  label 6: 200\n",
      "  label 7: 200\n",
      "  label 8: 200\n",
      "  label 9: 200\n",
      "  label 10: 200\n",
      "  label 11: 200\n",
      "  label 12: 200\n",
      "  label 13: 200\n",
      "  label 14: 200\n",
      "  label 15: 200\n",
      "  label 16: 200\n",
      "  label 17: 231\n",
      "  label 18: 200\n",
      "  label 19: 200\n",
      "  label 20: 200\n",
      "  label 21: 200\n",
      "  label 22: 200\n",
      "  label 23: 200\n",
      "  label 24: 200\n",
      "  label 25: 200\n",
      "  label 26: 200\n",
      "  label 27: 200\n",
      "  label 28: 200\n",
      "  label 29: 200\n",
      "  label 30: 200\n",
      "  label 31: 200\n",
      "  label 32: 200\n",
      "  label 33: 200\n",
      "  label 34: 200\n",
      "  label 35: 200\n",
      "  label 36: 200\n",
      "  label 37: 200\n",
      "  label 38: 200\n",
      "  label 39: 200\n",
      "  label 40: 200\n",
      "  label 41: 200\n",
      "  label 42: 200\n",
      "  label 43: 200\n",
      "  label 44: 200\n",
      "  label 45: 200\n",
      "  label 46: 200\n",
      "  label 47: 529\n",
      "  label 48: 202\n",
      "  label 49: 200\n",
      "model is microsoft/deberta-base cnn1filter345drop5\n",
      "Epoch 1/20\n"
     ]
    },
    {
     "name": "stderr",
     "output_type": "stream",
     "text": [
      "100%|██████████| 761/761 [01:20<00:00,  9.40it/s]\n"
     ]
    },
    {
     "name": "stdout",
     "output_type": "stream",
     "text": [
      "{'val_loss': 1.724703683043426, 'val_accuracy': 0.534594914251922, 'precision': 0.5426403169418287, 'recall': 0.534594914251922, 'f1-score': 0.5097899019651633, 'macro_f1-score': 0.19386997651950882, 'balanced_accuracy': 0.2733339146166609, 'mcc': 0.3999613207437724, 'train_loss': 2.8254976621908523}\n",
      "Epoch 2/20\n"
     ]
    },
    {
     "name": "stderr",
     "output_type": "stream",
     "text": [
      "100%|██████████| 761/761 [01:20<00:00,  9.41it/s]\n"
     ]
    },
    {
     "name": "stdout",
     "output_type": "stream",
     "text": [
      "{'val_loss': 1.4898641275347404, 'val_accuracy': 0.5801301005322295, 'precision': 0.6624928879210564, 'recall': 0.5801301005322295, 'f1-score': 0.5983306752976917, 'macro_f1-score': 0.3170670463356979, 'balanced_accuracy': 0.37113222178204774, 'mcc': 0.4754718250304993, 'train_loss': 1.4068189643998967}\n",
      "Epoch 3/20\n"
     ]
    },
    {
     "name": "stderr",
     "output_type": "stream",
     "text": [
      "100%|██████████| 761/761 [01:20<00:00,  9.40it/s]\n"
     ]
    },
    {
     "name": "stdout",
     "output_type": "stream",
     "text": [
      "{'val_loss': 1.7550201278250173, 'val_accuracy': 0.5470136014192786, 'precision': 0.6437912059356373, 'recall': 0.5470136014192786, 'f1-score': 0.5562086579038827, 'macro_f1-score': 0.2861111110977637, 'balanced_accuracy': 0.3680298346642838, 'mcc': 0.4412576750408034, 'train_loss': 0.8644413675491193}\n",
      "Epoch 4/20\n"
     ]
    },
    {
     "name": "stderr",
     "output_type": "stream",
     "text": [
      "100%|██████████| 761/761 [01:20<00:00,  9.40it/s]\n"
     ]
    },
    {
     "name": "stdout",
     "output_type": "stream",
     "text": [
      "{'val_loss': 1.467813472702818, 'val_accuracy': 0.6469544648137197, 'precision': 0.6591584997184908, 'recall': 0.6469544648137197, 'f1-score': 0.6381295298487265, 'macro_f1-score': 0.3945996716844885, 'balanced_accuracy': 0.4047928300497171, 'mcc': 0.5378078576838593, 'train_loss': 0.6463669017740524}\n",
      "Epoch 5/20\n"
     ]
    },
    {
     "name": "stderr",
     "output_type": "stream",
     "text": [
      "100%|██████████| 761/761 [01:20<00:00,  9.41it/s]\n"
     ]
    },
    {
     "name": "stdout",
     "output_type": "stream",
     "text": [
      "{'val_loss': 1.5540126072910596, 'val_accuracy': 0.6321703134240094, 'precision': 0.6576441564405379, 'recall': 0.6321703134240094, 'f1-score': 0.6305529204519156, 'macro_f1-score': 0.3721223532031617, 'balanced_accuracy': 0.3918655055011876, 'mcc': 0.5227279720202943, 'train_loss': 0.5235609838325388}\n",
      "Epoch 6/20\n"
     ]
    },
    {
     "name": "stderr",
     "output_type": "stream",
     "text": [
      "100%|██████████| 761/761 [01:20<00:00,  9.42it/s]\n"
     ]
    },
    {
     "name": "stdout",
     "output_type": "stream",
     "text": [
      "{'val_loss': 1.6706254887131025, 'val_accuracy': 0.6451803666469544, 'precision': 0.6597142629444378, 'recall': 0.6451803666469544, 'f1-score': 0.6342228980238273, 'macro_f1-score': 0.367693855688948, 'balanced_accuracy': 0.39246385868873807, 'mcc': 0.5328359174812891, 'train_loss': 0.45081869839554783}\n",
      "Epoch 7/20\n"
     ]
    },
    {
     "name": "stderr",
     "output_type": "stream",
     "text": [
      "100%|██████████| 761/761 [01:20<00:00,  9.40it/s]\n"
     ]
    },
    {
     "name": "stdout",
     "output_type": "stream",
     "text": [
      "{'val_loss': 1.789206512553512, 'val_accuracy': 0.6540508574807806, 'precision': 0.6469445027201214, 'recall': 0.6540508574807806, 'f1-score': 0.6308919692844291, 'macro_f1-score': 0.3614579872165266, 'balanced_accuracy': 0.3674149652895435, 'mcc': 0.5300727961123191, 'train_loss': 0.3624468156786418}\n",
      "Early stopping.\n",
      "\n",
      "[Fold 2]\n",
      "Label distribution after resampling:\n",
      "  label 0: 2000\n",
      "  label 1: 200\n",
      "  label 2: 200\n",
      "  label 3: 200\n",
      "  label 4: 206\n",
      "  label 5: 200\n",
      "  label 6: 200\n",
      "  label 7: 200\n",
      "  label 8: 200\n",
      "  label 9: 200\n",
      "  label 10: 200\n",
      "  label 11: 200\n",
      "  label 12: 200\n",
      "  label 13: 200\n",
      "  label 14: 200\n",
      "  label 15: 200\n",
      "  label 16: 200\n",
      "  label 17: 231\n",
      "  label 18: 200\n",
      "  label 19: 200\n",
      "  label 20: 200\n",
      "  label 21: 200\n",
      "  label 22: 200\n",
      "  label 23: 200\n",
      "  label 24: 200\n",
      "  label 25: 200\n",
      "  label 26: 200\n",
      "  label 27: 200\n",
      "  label 28: 200\n",
      "  label 29: 200\n",
      "  label 30: 200\n",
      "  label 31: 200\n",
      "  label 32: 200\n",
      "  label 33: 200\n",
      "  label 34: 200\n",
      "  label 35: 200\n",
      "  label 36: 200\n",
      "  label 37: 200\n",
      "  label 38: 200\n",
      "  label 39: 200\n",
      "  label 40: 200\n",
      "  label 41: 200\n",
      "  label 42: 200\n",
      "  label 43: 200\n",
      "  label 44: 200\n",
      "  label 45: 200\n",
      "  label 46: 200\n",
      "  label 47: 528\n",
      "  label 48: 202\n",
      "  label 49: 200\n",
      "model is microsoft/deberta-base cnn1filter345drop5\n",
      "Epoch 1/20\n"
     ]
    },
    {
     "name": "stderr",
     "output_type": "stream",
     "text": [
      "100%|██████████| 761/761 [01:20<00:00,  9.40it/s]\n"
     ]
    },
    {
     "name": "stdout",
     "output_type": "stream",
     "text": [
      "{'val_loss': 3.3346404871850646, 'val_accuracy': 0.47013601419278533, 'precision': 0.22102787184107886, 'recall': 0.47013601419278533, 'f1-score': 0.30069037110479835, 'macro_f1-score': 0.012791633145615447, 'balanced_accuracy': 0.02, 'mcc': 0.0, 'train_loss': 3.7202512863901065}\n",
      "Epoch 2/20\n"
     ]
    },
    {
     "name": "stderr",
     "output_type": "stream",
     "text": [
      "100%|██████████| 761/761 [01:20<00:00,  9.40it/s]\n"
     ]
    },
    {
     "name": "stdout",
     "output_type": "stream",
     "text": [
      "{'val_loss': 3.2458648884071493, 'val_accuracy': 0.47013601419278533, 'precision': 0.22102787184107886, 'recall': 0.47013601419278533, 'f1-score': 0.30069037110479835, 'macro_f1-score': 0.012791633145615447, 'balanced_accuracy': 0.02, 'mcc': 0.0, 'train_loss': 3.7077395956713644}\n",
      "Epoch 3/20\n"
     ]
    },
    {
     "name": "stderr",
     "output_type": "stream",
     "text": [
      "100%|██████████| 761/761 [01:20<00:00,  9.41it/s]\n"
     ]
    },
    {
     "name": "stdout",
     "output_type": "stream",
     "text": [
      "{'val_loss': 3.2398744551640637, 'val_accuracy': 0.47013601419278533, 'precision': 0.22102787184107886, 'recall': 0.47013601419278533, 'f1-score': 0.30069037110479835, 'macro_f1-score': 0.012791633145615447, 'balanced_accuracy': 0.02, 'mcc': 0.0, 'train_loss': 3.7085241118492496}\n",
      "Epoch 4/20\n"
     ]
    },
    {
     "name": "stderr",
     "output_type": "stream",
     "text": [
      "100%|██████████| 761/761 [01:20<00:00,  9.40it/s]\n"
     ]
    },
    {
     "name": "stdout",
     "output_type": "stream",
     "text": [
      "{'val_loss': 3.2138217057821885, 'val_accuracy': 0.47013601419278533, 'precision': 0.22102787184107886, 'recall': 0.47013601419278533, 'f1-score': 0.30069037110479835, 'macro_f1-score': 0.012791633145615447, 'balanced_accuracy': 0.02, 'mcc': 0.0, 'train_loss': 3.704740231359835}\n",
      "Early stopping.\n",
      "\n",
      "[Fold 3]\n",
      "Label distribution after resampling:\n",
      "  label 0: 2000\n",
      "  label 1: 200\n",
      "  label 2: 200\n",
      "  label 3: 200\n",
      "  label 4: 206\n",
      "  label 5: 200\n",
      "  label 6: 200\n",
      "  label 7: 200\n",
      "  label 8: 200\n",
      "  label 9: 200\n",
      "  label 10: 200\n",
      "  label 11: 200\n",
      "  label 12: 200\n",
      "  label 13: 200\n",
      "  label 14: 200\n",
      "  label 15: 200\n",
      "  label 16: 200\n",
      "  label 17: 231\n",
      "  label 18: 200\n",
      "  label 19: 200\n",
      "  label 20: 200\n",
      "  label 21: 200\n",
      "  label 22: 200\n",
      "  label 23: 200\n",
      "  label 24: 200\n",
      "  label 25: 200\n",
      "  label 26: 200\n",
      "  label 27: 200\n",
      "  label 28: 200\n",
      "  label 29: 200\n",
      "  label 30: 200\n",
      "  label 31: 200\n",
      "  label 32: 200\n",
      "  label 33: 200\n",
      "  label 34: 200\n",
      "  label 35: 200\n",
      "  label 36: 200\n",
      "  label 37: 200\n",
      "  label 38: 200\n",
      "  label 39: 200\n",
      "  label 40: 200\n",
      "  label 41: 200\n",
      "  label 42: 200\n",
      "  label 43: 200\n",
      "  label 44: 200\n",
      "  label 45: 200\n",
      "  label 46: 200\n",
      "  label 47: 529\n",
      "  label 48: 201\n",
      "  label 49: 200\n",
      "model is microsoft/deberta-base cnn1filter345drop5\n",
      "Epoch 1/20\n"
     ]
    },
    {
     "name": "stderr",
     "output_type": "stream",
     "text": [
      "100%|██████████| 761/761 [01:20<00:00,  9.40it/s]\n"
     ]
    },
    {
     "name": "stdout",
     "output_type": "stream",
     "text": [
      "{'val_loss': 3.3274650236345686, 'val_accuracy': 0.47013601419278533, 'precision': 0.22102787184107886, 'recall': 0.47013601419278533, 'f1-score': 0.30069037110479835, 'macro_f1-score': 0.012791633145615447, 'balanced_accuracy': 0.02, 'mcc': 0.0, 'train_loss': 3.7327893002744417}\n",
      "Epoch 2/20\n"
     ]
    },
    {
     "name": "stderr",
     "output_type": "stream",
     "text": [
      "100%|██████████| 761/761 [01:20<00:00,  9.41it/s]\n"
     ]
    },
    {
     "name": "stdout",
     "output_type": "stream",
     "text": [
      "{'val_loss': 3.2708672330064594, 'val_accuracy': 0.47013601419278533, 'precision': 0.22102787184107886, 'recall': 0.47013601419278533, 'f1-score': 0.30069037110479835, 'macro_f1-score': 0.012791633145615447, 'balanced_accuracy': 0.02, 'mcc': 0.0, 'train_loss': 3.711883496987522}\n",
      "Epoch 3/20\n"
     ]
    },
    {
     "name": "stderr",
     "output_type": "stream",
     "text": [
      "100%|██████████| 761/761 [01:20<00:00,  9.41it/s]\n"
     ]
    },
    {
     "name": "stdout",
     "output_type": "stream",
     "text": [
      "{'val_loss': 3.1819751667526535, 'val_accuracy': 0.47013601419278533, 'precision': 0.22102787184107886, 'recall': 0.47013601419278533, 'f1-score': 0.30069037110479835, 'macro_f1-score': 0.012791633145615447, 'balanced_accuracy': 0.02, 'mcc': 0.0, 'train_loss': 3.709221982767955}\n",
      "Epoch 4/20\n"
     ]
    },
    {
     "name": "stderr",
     "output_type": "stream",
     "text": [
      "100%|██████████| 761/761 [01:20<00:00,  9.40it/s]\n"
     ]
    },
    {
     "name": "stdout",
     "output_type": "stream",
     "text": [
      "{'val_loss': 3.209491068462156, 'val_accuracy': 0.47013601419278533, 'precision': 0.22102787184107886, 'recall': 0.47013601419278533, 'f1-score': 0.30069037110479835, 'macro_f1-score': 0.012791633145615447, 'balanced_accuracy': 0.02, 'mcc': 0.0, 'train_loss': 3.704004859172405}\n",
      "Early stopping.\n",
      "\n",
      "[Fold 4]\n",
      "Label distribution after resampling:\n",
      "  label 0: 2000\n",
      "  label 1: 200\n",
      "  label 2: 200\n",
      "  label 3: 200\n",
      "  label 4: 206\n",
      "  label 5: 200\n",
      "  label 6: 200\n",
      "  label 7: 200\n",
      "  label 8: 200\n",
      "  label 9: 200\n",
      "  label 10: 200\n",
      "  label 11: 200\n",
      "  label 12: 200\n",
      "  label 13: 200\n",
      "  label 14: 200\n",
      "  label 15: 200\n",
      "  label 16: 200\n",
      "  label 17: 232\n",
      "  label 18: 200\n",
      "  label 19: 200\n",
      "  label 20: 200\n",
      "  label 21: 200\n",
      "  label 22: 200\n",
      "  label 23: 200\n",
      "  label 24: 200\n",
      "  label 25: 200\n",
      "  label 26: 200\n",
      "  label 27: 200\n",
      "  label 28: 200\n",
      "  label 29: 200\n",
      "  label 30: 200\n",
      "  label 31: 200\n",
      "  label 32: 200\n",
      "  label 33: 200\n",
      "  label 34: 200\n",
      "  label 35: 200\n",
      "  label 36: 200\n",
      "  label 37: 200\n",
      "  label 38: 200\n",
      "  label 39: 200\n",
      "  label 40: 200\n",
      "  label 41: 200\n",
      "  label 42: 200\n",
      "  label 43: 200\n",
      "  label 44: 200\n",
      "  label 45: 200\n",
      "  label 46: 200\n",
      "  label 47: 529\n",
      "  label 48: 201\n",
      "  label 49: 200\n",
      "model is microsoft/deberta-base cnn1filter345drop5\n",
      "Epoch 1/20\n"
     ]
    },
    {
     "name": "stderr",
     "output_type": "stream",
     "text": [
      "100%|██████████| 761/761 [01:21<00:00,  9.38it/s]\n"
     ]
    },
    {
     "name": "stdout",
     "output_type": "stream",
     "text": [
      "{'val_loss': 1.8214490706065916, 'val_accuracy': 0.4807806031933767, 'precision': 0.5815527160774411, 'recall': 0.4807806031933767, 'f1-score': 0.49279677229129176, 'macro_f1-score': 0.26334366473410825, 'balanced_accuracy': 0.3444028824191514, 'mcc': 0.35925434933430356, 'train_loss': 2.810934867401474}\n",
      "Epoch 2/20\n"
     ]
    },
    {
     "name": "stderr",
     "output_type": "stream",
     "text": [
      "100%|██████████| 761/761 [01:20<00:00,  9.40it/s]\n"
     ]
    },
    {
     "name": "stdout",
     "output_type": "stream",
     "text": [
      "{'val_loss': 1.4310255849136497, 'val_accuracy': 0.6108811354228267, 'precision': 0.6044401438232585, 'recall': 0.6108811354228267, 'f1-score': 0.5972843112868209, 'macro_f1-score': 0.3365971734918545, 'balanced_accuracy': 0.3953403070160565, 'mcc': 0.49516595741275676, 'train_loss': 1.4120252129282806}\n",
      "Epoch 3/20\n"
     ]
    },
    {
     "name": "stderr",
     "output_type": "stream",
     "text": [
      "100%|██████████| 761/761 [01:20<00:00,  9.42it/s]\n"
     ]
    },
    {
     "name": "stdout",
     "output_type": "stream",
     "text": [
      "{'val_loss': 1.4012496742718625, 'val_accuracy': 0.638675340035482, 'precision': 0.6501183279816751, 'recall': 0.638675340035482, 'f1-score': 0.6339250544372435, 'macro_f1-score': 0.3830982730673613, 'balanced_accuracy': 0.4102432311961431, 'mcc': 0.5363866019334204, 'train_loss': 0.848085513086341}\n",
      "Epoch 4/20\n"
     ]
    },
    {
     "name": "stderr",
     "output_type": "stream",
     "text": [
      "100%|██████████| 761/761 [01:20<00:00,  9.40it/s]\n"
     ]
    },
    {
     "name": "stdout",
     "output_type": "stream",
     "text": [
      "{'val_loss': 1.3331733690399044, 'val_accuracy': 0.6540508574807806, 'precision': 0.6729854160608172, 'recall': 0.6540508574807806, 'f1-score': 0.6536527090488269, 'macro_f1-score': 0.4051694417455517, 'balanced_accuracy': 0.4202760897404558, 'mcc': 0.5486879125050409, 'train_loss': 0.6201300753302549}\n",
      "Epoch 5/20\n"
     ]
    },
    {
     "name": "stderr",
     "output_type": "stream",
     "text": [
      "100%|██████████| 761/761 [01:20<00:00,  9.41it/s]\n"
     ]
    },
    {
     "name": "stdout",
     "output_type": "stream",
     "text": [
      "{'val_loss': 1.5947411521425787, 'val_accuracy': 0.6114725014784151, 'precision': 0.6863681837868075, 'recall': 0.6114725014784151, 'f1-score': 0.628583421330834, 'macro_f1-score': 0.3873073311105937, 'balanced_accuracy': 0.4228841152105281, 'mcc': 0.5168217341175171, 'train_loss': 0.49931107431101895}\n",
      "Epoch 6/20\n"
     ]
    },
    {
     "name": "stderr",
     "output_type": "stream",
     "text": [
      "100%|██████████| 761/761 [01:20<00:00,  9.40it/s]\n"
     ]
    },
    {
     "name": "stdout",
     "output_type": "stream",
     "text": [
      "{'val_loss': 1.6571827997576516, 'val_accuracy': 0.6363098758131284, 'precision': 0.6506153145007332, 'recall': 0.6363098758131284, 'f1-score': 0.6249142032592855, 'macro_f1-score': 0.3754034219691522, 'balanced_accuracy': 0.3937195159726899, 'mcc': 0.5275913977554574, 'train_loss': 0.3776133208292073}\n",
      "Epoch 7/20\n"
     ]
    },
    {
     "name": "stderr",
     "output_type": "stream",
     "text": [
      "100%|██████████| 761/761 [01:20<00:00,  9.41it/s]\n"
     ]
    },
    {
     "name": "stdout",
     "output_type": "stream",
     "text": [
      "{'val_loss': 1.6475152519513976, 'val_accuracy': 0.6451803666469544, 'precision': 0.6728144889339875, 'recall': 0.6451803666469544, 'f1-score': 0.6419430564985111, 'macro_f1-score': 0.4127481747868269, 'balanced_accuracy': 0.427554643310311, 'mcc': 0.5449004169603519, 'train_loss': 0.38057088407806555}\n",
      "Epoch 8/20\n"
     ]
    },
    {
     "name": "stderr",
     "output_type": "stream",
     "text": [
      "100%|██████████| 761/761 [01:20<00:00,  9.41it/s]\n"
     ]
    },
    {
     "name": "stdout",
     "output_type": "stream",
     "text": [
      "{'val_loss': 1.7600699902143118, 'val_accuracy': 0.6475458308693081, 'precision': 0.6716529256168629, 'recall': 0.6475458308693081, 'f1-score': 0.6462138151488396, 'macro_f1-score': 0.40088134246292617, 'balanced_accuracy': 0.42392704507002354, 'mcc': 0.5417595582809568, 'train_loss': 0.2904652612156549}\n",
      "Epoch 9/20\n"
     ]
    },
    {
     "name": "stderr",
     "output_type": "stream",
     "text": [
      "100%|██████████| 761/761 [01:20<00:00,  9.40it/s]\n"
     ]
    },
    {
     "name": "stdout",
     "output_type": "stream",
     "text": [
      "{'val_loss': 1.842019669289859, 'val_accuracy': 0.6422235363690124, 'precision': 0.6800961277192527, 'recall': 0.6422235363690124, 'f1-score': 0.6491310559055236, 'macro_f1-score': 0.42282075873477515, 'balanced_accuracy': 0.44755133323188284, 'mcc': 0.5441931770711308, 'train_loss': 0.29739259240467164}\n",
      "Epoch 10/20\n"
     ]
    },
    {
     "name": "stderr",
     "output_type": "stream",
     "text": [
      "100%|██████████| 761/761 [01:20<00:00,  9.40it/s]\n"
     ]
    },
    {
     "name": "stdout",
     "output_type": "stream",
     "text": [
      "{'val_loss': 2.3251049563569843, 'val_accuracy': 0.6392667060910704, 'precision': 0.6557267665816138, 'recall': 0.6392667060910704, 'f1-score': 0.6379193874514798, 'macro_f1-score': 0.40369365561585574, 'balanced_accuracy': 0.4384721053502214, 'mcc': 0.5375527444407241, 'train_loss': 0.3126630503506829}\n",
      "Epoch 11/20\n"
     ]
    },
    {
     "name": "stderr",
     "output_type": "stream",
     "text": [
      "100%|██████████| 761/761 [01:20<00:00,  9.41it/s]\n"
     ]
    },
    {
     "name": "stdout",
     "output_type": "stream",
     "text": [
      "{'val_loss': 1.8968273021702498, 'val_accuracy': 0.6641040804257835, 'precision': 0.681019975510558, 'recall': 0.6641040804257835, 'f1-score': 0.6518823828954998, 'macro_f1-score': 0.4105136181725528, 'balanced_accuracy': 0.4430953489860656, 'mcc': 0.5582692242090656, 'train_loss': 0.2840254965921161}\n",
      "Epoch 12/20\n"
     ]
    },
    {
     "name": "stderr",
     "output_type": "stream",
     "text": [
      "100%|██████████| 761/761 [01:20<00:00,  9.42it/s]\n"
     ]
    },
    {
     "name": "stdout",
     "output_type": "stream",
     "text": [
      "{'val_loss': 1.9241475797486756, 'val_accuracy': 0.6262566528681254, 'precision': 0.676890448492544, 'recall': 0.6262566528681254, 'f1-score': 0.6359021396615895, 'macro_f1-score': 0.388831298071875, 'balanced_accuracy': 0.4345002002427808, 'mcc': 0.5291995005750892, 'train_loss': 1.3270265607275902}\n",
      "Early stopping.\n",
      "\n",
      "[Fold 5]\n",
      "Label distribution after resampling:\n",
      "  label 0: 2000\n",
      "  label 1: 200\n",
      "  label 2: 200\n",
      "  label 3: 200\n",
      "  label 4: 205\n",
      "  label 5: 200\n",
      "  label 6: 200\n",
      "  label 7: 200\n",
      "  label 8: 200\n",
      "  label 9: 200\n",
      "  label 10: 200\n",
      "  label 11: 200\n",
      "  label 12: 200\n",
      "  label 13: 200\n",
      "  label 14: 200\n",
      "  label 15: 200\n",
      "  label 16: 200\n",
      "  label 17: 231\n",
      "  label 18: 200\n",
      "  label 19: 200\n",
      "  label 20: 200\n",
      "  label 21: 200\n",
      "  label 22: 200\n",
      "  label 23: 200\n",
      "  label 24: 200\n",
      "  label 25: 200\n",
      "  label 26: 200\n",
      "  label 27: 200\n",
      "  label 28: 200\n",
      "  label 29: 200\n",
      "  label 30: 200\n",
      "  label 31: 200\n",
      "  label 32: 200\n",
      "  label 33: 200\n",
      "  label 34: 200\n",
      "  label 35: 200\n",
      "  label 36: 200\n",
      "  label 37: 200\n",
      "  label 38: 200\n",
      "  label 39: 200\n",
      "  label 40: 200\n",
      "  label 41: 200\n",
      "  label 42: 200\n",
      "  label 43: 200\n",
      "  label 44: 200\n",
      "  label 45: 200\n",
      "  label 46: 200\n",
      "  label 47: 529\n",
      "  label 48: 202\n",
      "  label 49: 200\n",
      "model is microsoft/deberta-base cnn1filter345drop5\n",
      "Epoch 1/20\n"
     ]
    },
    {
     "name": "stderr",
     "output_type": "stream",
     "text": [
      "100%|██████████| 761/761 [01:20<00:00,  9.40it/s]\n"
     ]
    },
    {
     "name": "stdout",
     "output_type": "stream",
     "text": [
      "{'val_loss': 1.5651785152138404, 'val_accuracy': 0.5674556213017752, 'precision': 0.5923765072642481, 'recall': 0.5674556213017752, 'f1-score': 0.5548225540345813, 'macro_f1-score': 0.2526408463859775, 'balanced_accuracy': 0.30869949261654744, 'mcc': 0.4394358049032229, 'train_loss': 2.7273606786433406}\n",
      "Epoch 2/20\n"
     ]
    },
    {
     "name": "stderr",
     "output_type": "stream",
     "text": [
      "100%|██████████| 761/761 [01:20<00:00,  9.40it/s]\n"
     ]
    },
    {
     "name": "stdout",
     "output_type": "stream",
     "text": [
      "{'val_loss': 1.3491828424750634, 'val_accuracy': 0.6378698224852071, 'precision': 0.624015243175332, 'recall': 0.6378698224852071, 'f1-score': 0.6124600144994801, 'macro_f1-score': 0.3482474265264749, 'balanced_accuracy': 0.36760717383595776, 'mcc': 0.5141692992293152, 'train_loss': 1.1750268228107308}\n",
      "Epoch 3/20\n"
     ]
    },
    {
     "name": "stderr",
     "output_type": "stream",
     "text": [
      "100%|██████████| 761/761 [01:20<00:00,  9.41it/s]\n"
     ]
    },
    {
     "name": "stdout",
     "output_type": "stream",
     "text": [
      "{'val_loss': 1.5199222719331957, 'val_accuracy': 0.6402366863905326, 'precision': 0.6685723354593514, 'recall': 0.6402366863905326, 'f1-score': 0.6231725887817423, 'macro_f1-score': 0.36024458730739456, 'balanced_accuracy': 0.3683399766304236, 'mcc': 0.5150281468930467, 'train_loss': 0.6830690353913}\n",
      "Epoch 4/20\n"
     ]
    },
    {
     "name": "stderr",
     "output_type": "stream",
     "text": [
      "100%|██████████| 761/761 [01:20<00:00,  9.42it/s]\n"
     ]
    },
    {
     "name": "stdout",
     "output_type": "stream",
     "text": [
      "{'val_loss': 1.5691060232666303, 'val_accuracy': 0.6248520710059171, 'precision': 0.6719248179176898, 'recall': 0.6248520710059171, 'f1-score': 0.634832099380786, 'macro_f1-score': 0.3620331743598525, 'balanced_accuracy': 0.3906104303409396, 'mcc': 0.5295208836362126, 'train_loss': 0.5108403163140887}\n",
      "Epoch 5/20\n"
     ]
    },
    {
     "name": "stderr",
     "output_type": "stream",
     "text": [
      "100%|██████████| 761/761 [01:20<00:00,  9.41it/s]\n"
     ]
    },
    {
     "name": "stdout",
     "output_type": "stream",
     "text": [
      "{'val_loss': 1.66957089445501, 'val_accuracy': 0.6372781065088757, 'precision': 0.6642138213103606, 'recall': 0.6372781065088757, 'f1-score': 0.6383872727322034, 'macro_f1-score': 0.3563278346360026, 'balanced_accuracy': 0.3658985023471078, 'mcc': 0.5317954767148325, 'train_loss': 0.4141048823070863}\n",
      "Epoch 6/20\n"
     ]
    },
    {
     "name": "stderr",
     "output_type": "stream",
     "text": [
      "100%|██████████| 761/761 [01:20<00:00,  9.40it/s]\n"
     ]
    },
    {
     "name": "stdout",
     "output_type": "stream",
     "text": [
      "{'val_loss': 1.7018133505897701, 'val_accuracy': 0.6485207100591716, 'precision': 0.6918174012947809, 'recall': 0.6485207100591716, 'f1-score': 0.654121981853564, 'macro_f1-score': 0.3747411137805632, 'balanced_accuracy': 0.3815787725680767, 'mcc': 0.5441516603980887, 'train_loss': 0.34017446890360775}\n",
      "Epoch 7/20\n"
     ]
    },
    {
     "name": "stderr",
     "output_type": "stream",
     "text": [
      "100%|██████████| 761/761 [01:20<00:00,  9.42it/s]\n"
     ]
    },
    {
     "name": "stdout",
     "output_type": "stream",
     "text": [
      "{'val_loss': 1.822583409412852, 'val_accuracy': 0.6372781065088757, 'precision': 0.6579918119856714, 'recall': 0.6372781065088757, 'f1-score': 0.6363302638862787, 'macro_f1-score': 0.3911229927903058, 'balanced_accuracy': 0.4009017077166288, 'mcc': 0.5358053282530625, 'train_loss': 0.32386834109165313}\n",
      "Epoch 8/20\n"
     ]
    },
    {
     "name": "stderr",
     "output_type": "stream",
     "text": [
      "100%|██████████| 761/761 [01:20<00:00,  9.42it/s]\n"
     ]
    },
    {
     "name": "stdout",
     "output_type": "stream",
     "text": [
      "{'val_loss': 1.7974651194406006, 'val_accuracy': 0.6307692307692307, 'precision': 0.6553619764892015, 'recall': 0.6307692307692307, 'f1-score': 0.6328581072331251, 'macro_f1-score': 0.3746939161107128, 'balanced_accuracy': 0.4000468481153511, 'mcc': 0.5276338906218158, 'train_loss': 0.2954464728406137}\n",
      "Epoch 9/20\n"
     ]
    },
    {
     "name": "stderr",
     "output_type": "stream",
     "text": [
      "100%|██████████| 761/761 [01:20<00:00,  9.41it/s]\n"
     ]
    },
    {
     "name": "stdout",
     "output_type": "stream",
     "text": [
      "{'val_loss': 1.9451607932459634, 'val_accuracy': 0.6461538461538462, 'precision': 0.6713311659829483, 'recall': 0.6461538461538462, 'f1-score': 0.6511770458604815, 'macro_f1-score': 0.4020904521010463, 'balanced_accuracy': 0.406737533368436, 'mcc': 0.5471343744853788, 'train_loss': 0.2779061391162741}\n",
      "Epoch 10/20\n"
     ]
    },
    {
     "name": "stderr",
     "output_type": "stream",
     "text": [
      "100%|██████████| 761/761 [01:20<00:00,  9.40it/s]\n"
     ]
    },
    {
     "name": "stdout",
     "output_type": "stream",
     "text": [
      "{'val_loss': 1.8024037391790804, 'val_accuracy': 0.6615384615384615, 'precision': 0.6701532369338082, 'recall': 0.6615384615384615, 'f1-score': 0.6568309646301576, 'macro_f1-score': 0.39800456361797865, 'balanced_accuracy': 0.40496622242477204, 'mcc': 0.558859554937924, 'train_loss': 0.27627000988383976}\n",
      "Epoch 11/20\n"
     ]
    },
    {
     "name": "stderr",
     "output_type": "stream",
     "text": [
      "100%|██████████| 761/761 [01:20<00:00,  9.41it/s]\n"
     ]
    },
    {
     "name": "stdout",
     "output_type": "stream",
     "text": [
      "{'val_loss': 2.0347647256446333, 'val_accuracy': 0.6568047337278107, 'precision': 0.6786168805263573, 'recall': 0.6568047337278107, 'f1-score': 0.6549551335272574, 'macro_f1-score': 0.40184597767041325, 'balanced_accuracy': 0.3959137783343247, 'mcc': 0.5559131688791141, 'train_loss': 0.24333547826265273}\n",
      "Epoch 12/20\n"
     ]
    },
    {
     "name": "stderr",
     "output_type": "stream",
     "text": [
      "100%|██████████| 761/761 [01:20<00:00,  9.42it/s]\n"
     ]
    },
    {
     "name": "stdout",
     "output_type": "stream",
     "text": [
      "{'val_loss': 2.226521037097247, 'val_accuracy': 0.6556213017751479, 'precision': 0.6592610191988592, 'recall': 0.6556213017751479, 'f1-score': 0.6493185534380919, 'macro_f1-score': 0.398677176358218, 'balanced_accuracy': 0.39595993558610254, 'mcc': 0.5514752568810045, 'train_loss': 0.2225599238727335}\n",
      "Early stopping.\n",
      "\n",
      " === microsoft/deberta-base + cnn1filter345drop5 + ros Final 5-fold Cross-Validation Results ===\n",
      "Total time: 3339 seconds\n",
      "Total time: 0 hrs 55 mins 39 secs\n",
      "val_loss: 2.3834\n",
      "val_accuracy: 0.5751\n",
      "precision: 0.4905\n",
      "recall: 0.5751\n",
      "f1-score: 0.5080\n",
      "macro_f1-score: 0.2490\n",
      "balanced_accuracy: 0.2598\n",
      "mcc: 0.3258\n",
      "train_loss: 1.7349\n",
      "▶ Running: microsoft/deberta-base + cnn2filter234drop3 + ros\n",
      "tokenizer is microsoft/deberta-base\n",
      "Using device: cuda\n",
      "CUDA Available: True\n",
      "CUDA Device: NVIDIA GeForce RTX 5070 Ti\n",
      "Current GPU Memory Allocated: 0.02 GB\n",
      "Current GPU Memory Cached: 5.14 GB\n",
      "\n",
      "[Fold 1]\n",
      "Label distribution after resampling:\n",
      "  label 0: 2000\n",
      "  label 1: 200\n",
      "  label 2: 200\n",
      "  label 3: 200\n",
      "  label 4: 205\n",
      "  label 5: 200\n",
      "  label 6: 200\n",
      "  label 7: 200\n",
      "  label 8: 200\n",
      "  label 9: 200\n",
      "  label 10: 200\n",
      "  label 11: 200\n",
      "  label 12: 200\n",
      "  label 13: 200\n",
      "  label 14: 200\n",
      "  label 15: 200\n",
      "  label 16: 200\n",
      "  label 17: 231\n",
      "  label 18: 200\n",
      "  label 19: 200\n",
      "  label 20: 200\n",
      "  label 21: 200\n",
      "  label 22: 200\n",
      "  label 23: 200\n",
      "  label 24: 200\n",
      "  label 25: 200\n",
      "  label 26: 200\n",
      "  label 27: 200\n",
      "  label 28: 200\n",
      "  label 29: 200\n",
      "  label 30: 200\n",
      "  label 31: 200\n",
      "  label 32: 200\n",
      "  label 33: 200\n",
      "  label 34: 200\n",
      "  label 35: 200\n",
      "  label 36: 200\n",
      "  label 37: 200\n",
      "  label 38: 200\n",
      "  label 39: 200\n",
      "  label 40: 200\n",
      "  label 41: 200\n",
      "  label 42: 200\n",
      "  label 43: 200\n",
      "  label 44: 200\n",
      "  label 45: 200\n",
      "  label 46: 200\n",
      "  label 47: 529\n",
      "  label 48: 202\n",
      "  label 49: 200\n",
      "model is microsoft/deberta-base cnn2filter234drop3\n",
      "Epoch 1/20\n"
     ]
    },
    {
     "name": "stderr",
     "output_type": "stream",
     "text": [
      "100%|██████████| 761/761 [01:21<00:00,  9.39it/s]\n"
     ]
    },
    {
     "name": "stdout",
     "output_type": "stream",
     "text": [
      "{'val_loss': 1.7713468220998656, 'val_accuracy': 0.5198107628622117, 'precision': 0.4510963656610171, 'recall': 0.5198107628622117, 'f1-score': 0.46417868529328166, 'macro_f1-score': 0.1778367316378005, 'balanced_accuracy': 0.24134271275836455, 'mcc': 0.33860597269117676, 'train_loss': 2.9578766511084997}\n",
      "Epoch 2/20\n"
     ]
    },
    {
     "name": "stderr",
     "output_type": "stream",
     "text": [
      "100%|██████████| 761/761 [01:21<00:00,  9.39it/s]\n"
     ]
    },
    {
     "name": "stdout",
     "output_type": "stream",
     "text": [
      "{'val_loss': 1.5412620151380323, 'val_accuracy': 0.5748078060319338, 'precision': 0.5493970904380056, 'recall': 0.5748078060319338, 'f1-score': 0.5461173635096891, 'macro_f1-score': 0.27423861271194305, 'balanced_accuracy': 0.33046978389522225, 'mcc': 0.4478184697260618, 'train_loss': 1.542683198088572}\n",
      "Epoch 3/20\n"
     ]
    },
    {
     "name": "stderr",
     "output_type": "stream",
     "text": [
      "100%|██████████| 761/761 [01:21<00:00,  9.39it/s]\n"
     ]
    },
    {
     "name": "stdout",
     "output_type": "stream",
     "text": [
      "{'val_loss': 1.4778989474728423, 'val_accuracy': 0.6197516262566529, 'precision': 0.6435829101911853, 'recall': 0.6197516262566529, 'f1-score': 0.6025336275077107, 'macro_f1-score': 0.3449172765018648, 'balanced_accuracy': 0.36949674552458467, 'mcc': 0.5005192891269343, 'train_loss': 0.9135402011025437}\n",
      "Epoch 4/20\n"
     ]
    },
    {
     "name": "stderr",
     "output_type": "stream",
     "text": [
      "100%|██████████| 761/761 [01:20<00:00,  9.40it/s]\n"
     ]
    },
    {
     "name": "stdout",
     "output_type": "stream",
     "text": [
      "{'val_loss': 1.547689584066283, 'val_accuracy': 0.5866351271437019, 'precision': 0.666502473896829, 'recall': 0.5866351271437019, 'f1-score': 0.6068055304131194, 'macro_f1-score': 0.3596990213320382, 'balanced_accuracy': 0.37623795841734065, 'mcc': 0.4745852662297251, 'train_loss': 0.6793847505527006}\n",
      "Epoch 5/20\n"
     ]
    },
    {
     "name": "stderr",
     "output_type": "stream",
     "text": [
      "100%|██████████| 761/761 [01:20<00:00,  9.40it/s]\n"
     ]
    },
    {
     "name": "stdout",
     "output_type": "stream",
     "text": [
      "{'val_loss': 1.5960030117124882, 'val_accuracy': 0.6268480189237138, 'precision': 0.6409524615853693, 'recall': 0.6268480189237138, 'f1-score': 0.6244984285964018, 'macro_f1-score': 0.38129627593661214, 'balanced_accuracy': 0.40663645790927, 'mcc': 0.5169097898535007, 'train_loss': 0.480585097111321}\n",
      "Epoch 6/20\n"
     ]
    },
    {
     "name": "stderr",
     "output_type": "stream",
     "text": [
      "100%|██████████| 761/761 [01:21<00:00,  9.38it/s]\n"
     ]
    },
    {
     "name": "stdout",
     "output_type": "stream",
     "text": [
      "{'val_loss': 1.6425818261110559, 'val_accuracy': 0.6487285629804849, 'precision': 0.6609404346726223, 'recall': 0.6487285629804849, 'f1-score': 0.6428863760534577, 'macro_f1-score': 0.4199446126240643, 'balanced_accuracy': 0.4300368154988407, 'mcc': 0.5400789087841588, 'train_loss': 0.38194887027690255}\n",
      "Epoch 7/20\n"
     ]
    },
    {
     "name": "stderr",
     "output_type": "stream",
     "text": [
      "100%|██████████| 761/761 [01:21<00:00,  9.38it/s]\n"
     ]
    },
    {
     "name": "stdout",
     "output_type": "stream",
     "text": [
      "{'val_loss': 1.651642772386659, 'val_accuracy': 0.6475458308693081, 'precision': 0.6586228300349495, 'recall': 0.6475458308693081, 'f1-score': 0.6400504666441996, 'macro_f1-score': 0.378262958133644, 'balanced_accuracy': 0.38251585692988593, 'mcc': 0.5374946983930108, 'train_loss': 0.34185447635523164}\n",
      "Epoch 8/20\n"
     ]
    },
    {
     "name": "stderr",
     "output_type": "stream",
     "text": [
      "100%|██████████| 761/761 [01:20<00:00,  9.40it/s]\n"
     ]
    },
    {
     "name": "stdout",
     "output_type": "stream",
     "text": [
      "{'val_loss': 1.7797901495447699, 'val_accuracy': 0.6209343583678297, 'precision': 0.6741321159117436, 'recall': 0.6209343583678297, 'f1-score': 0.6239119628853171, 'macro_f1-score': 0.3627088011044842, 'balanced_accuracy': 0.37920296394299163, 'mcc': 0.5128299790924592, 'train_loss': 0.3223098138091491}\n",
      "Epoch 9/20\n"
     ]
    },
    {
     "name": "stderr",
     "output_type": "stream",
     "text": [
      "100%|██████████| 761/761 [01:20<00:00,  9.41it/s]\n"
     ]
    },
    {
     "name": "stdout",
     "output_type": "stream",
     "text": [
      "{'val_loss': 1.9754200245974198, 'val_accuracy': 0.6191602602010644, 'precision': 0.6495378199805079, 'recall': 0.6191602602010644, 'f1-score': 0.6217321018328265, 'macro_f1-score': 0.3671937654949765, 'balanced_accuracy': 0.38553028077770435, 'mcc': 0.5198462109099613, 'train_loss': 0.30583886650076403}\n",
      "Early stopping.\n",
      "\n",
      "[Fold 2]\n",
      "Label distribution after resampling:\n",
      "  label 0: 2000\n",
      "  label 1: 200\n",
      "  label 2: 200\n",
      "  label 3: 200\n",
      "  label 4: 206\n",
      "  label 5: 200\n",
      "  label 6: 200\n",
      "  label 7: 200\n",
      "  label 8: 200\n",
      "  label 9: 200\n",
      "  label 10: 200\n",
      "  label 11: 200\n",
      "  label 12: 200\n",
      "  label 13: 200\n",
      "  label 14: 200\n",
      "  label 15: 200\n",
      "  label 16: 200\n",
      "  label 17: 231\n",
      "  label 18: 200\n",
      "  label 19: 200\n",
      "  label 20: 200\n",
      "  label 21: 200\n",
      "  label 22: 200\n",
      "  label 23: 200\n",
      "  label 24: 200\n",
      "  label 25: 200\n",
      "  label 26: 200\n",
      "  label 27: 200\n",
      "  label 28: 200\n",
      "  label 29: 200\n",
      "  label 30: 200\n",
      "  label 31: 200\n",
      "  label 32: 200\n",
      "  label 33: 200\n",
      "  label 34: 200\n",
      "  label 35: 200\n",
      "  label 36: 200\n",
      "  label 37: 200\n",
      "  label 38: 200\n",
      "  label 39: 200\n",
      "  label 40: 200\n",
      "  label 41: 200\n",
      "  label 42: 200\n",
      "  label 43: 200\n",
      "  label 44: 200\n",
      "  label 45: 200\n",
      "  label 46: 200\n",
      "  label 47: 528\n",
      "  label 48: 202\n",
      "  label 49: 200\n",
      "model is microsoft/deberta-base cnn2filter234drop3\n",
      "Epoch 1/20\n"
     ]
    },
    {
     "name": "stderr",
     "output_type": "stream",
     "text": [
      "100%|██████████| 761/761 [01:21<00:00,  9.38it/s]\n"
     ]
    },
    {
     "name": "stdout",
     "output_type": "stream",
     "text": [
      "{'val_loss': 1.742403710788151, 'val_accuracy': 0.5322294500295683, 'precision': 0.5519314097515664, 'recall': 0.5322294500295683, 'f1-score': 0.5192369086600347, 'macro_f1-score': 0.20148355832420137, 'balanced_accuracy': 0.2679378831883928, 'mcc': 0.3979394280788428, 'train_loss': 2.8261040048123034}\n",
      "Epoch 2/20\n"
     ]
    },
    {
     "name": "stderr",
     "output_type": "stream",
     "text": [
      "100%|██████████| 761/761 [01:21<00:00,  9.39it/s]\n"
     ]
    },
    {
     "name": "stdout",
     "output_type": "stream",
     "text": [
      "{'val_loss': 1.4847988362582225, 'val_accuracy': 0.6014192785334121, 'precision': 0.6048546583545645, 'recall': 0.6014192785334121, 'f1-score': 0.5849945520222914, 'macro_f1-score': 0.29915131255504696, 'balanced_accuracy': 0.3619611340238973, 'mcc': 0.472690120815559, 'train_loss': 1.385431433945855}\n",
      "Epoch 3/20\n"
     ]
    },
    {
     "name": "stderr",
     "output_type": "stream",
     "text": [
      "100%|██████████| 761/761 [01:20<00:00,  9.40it/s]\n"
     ]
    },
    {
     "name": "stdout",
     "output_type": "stream",
     "text": [
      "{'val_loss': 1.5532361550151177, 'val_accuracy': 0.5836782968657599, 'precision': 0.6028654609185374, 'recall': 0.5836782968657599, 'f1-score': 0.5810094346156551, 'macro_f1-score': 0.35241904556348286, 'balanced_accuracy': 0.4239378754022585, 'mcc': 0.4751812043834367, 'train_loss': 0.8220643647475249}\n",
      "Epoch 4/20\n"
     ]
    },
    {
     "name": "stderr",
     "output_type": "stream",
     "text": [
      "100%|██████████| 761/761 [01:20<00:00,  9.41it/s]\n"
     ]
    },
    {
     "name": "stdout",
     "output_type": "stream",
     "text": [
      "{'val_loss': 1.5094476589616739, 'val_accuracy': 0.625665286812537, 'precision': 0.6547141327554552, 'recall': 0.625665286812537, 'f1-score': 0.627487526157591, 'macro_f1-score': 0.366654648716469, 'balanced_accuracy': 0.3879261021105148, 'mcc': 0.5173392158113846, 'train_loss': 0.5825387606600424}\n",
      "Epoch 5/20\n"
     ]
    },
    {
     "name": "stderr",
     "output_type": "stream",
     "text": [
      "100%|██████████| 761/761 [01:21<00:00,  9.38it/s]\n"
     ]
    },
    {
     "name": "stdout",
     "output_type": "stream",
     "text": [
      "{'val_loss': 1.5565910974763475, 'val_accuracy': 0.638675340035482, 'precision': 0.6492924134738721, 'recall': 0.638675340035482, 'f1-score': 0.6325282313829258, 'macro_f1-score': 0.37370001701927386, 'balanced_accuracy': 0.40138056428283336, 'mcc': 0.5266281079429915, 'train_loss': 0.460918401613949}\n",
      "Epoch 6/20\n"
     ]
    },
    {
     "name": "stderr",
     "output_type": "stream",
     "text": [
      "100%|██████████| 761/761 [01:21<00:00,  9.39it/s]\n"
     ]
    },
    {
     "name": "stdout",
     "output_type": "stream",
     "text": [
      "{'val_loss': 1.7246173026989091, 'val_accuracy': 0.6108811354228267, 'precision': 0.6563276712650371, 'recall': 0.6108811354228267, 'f1-score': 0.615010324297923, 'macro_f1-score': 0.3747539498815271, 'balanced_accuracy': 0.4234656923313996, 'mcc': 0.515473926747833, 'train_loss': 0.3973643181701136}\n",
      "Epoch 7/20\n"
     ]
    },
    {
     "name": "stderr",
     "output_type": "stream",
     "text": [
      "100%|██████████| 761/761 [01:20<00:00,  9.40it/s]\n"
     ]
    },
    {
     "name": "stdout",
     "output_type": "stream",
     "text": [
      "{'val_loss': 1.8145965461461049, 'val_accuracy': 0.6457717327025428, 'precision': 0.6673263071792463, 'recall': 0.6457717327025428, 'f1-score': 0.6448151683494832, 'macro_f1-score': 0.39800885967578453, 'balanced_accuracy': 0.41590602313549285, 'mcc': 0.5454903447963736, 'train_loss': 0.34597572734464405}\n",
      "Epoch 8/20\n"
     ]
    },
    {
     "name": "stderr",
     "output_type": "stream",
     "text": [
      "100%|██████████| 761/761 [01:20<00:00,  9.40it/s]\n"
     ]
    },
    {
     "name": "stdout",
     "output_type": "stream",
     "text": [
      "{'val_loss': 1.9717685822046027, 'val_accuracy': 0.6292134831460674, 'precision': 0.6645062661968191, 'recall': 0.6292134831460674, 'f1-score': 0.6373295312258042, 'macro_f1-score': 0.40301691727171635, 'balanced_accuracy': 0.4252142635837037, 'mcc': 0.5333837221836581, 'train_loss': 0.3116077327288188}\n",
      "Epoch 9/20\n"
     ]
    },
    {
     "name": "stderr",
     "output_type": "stream",
     "text": [
      "100%|██████████| 761/761 [01:21<00:00,  9.39it/s]\n"
     ]
    },
    {
     "name": "stdout",
     "output_type": "stream",
     "text": [
      "{'val_loss': 1.8372693778771274, 'val_accuracy': 0.6487285629804849, 'precision': 0.6700573748495512, 'recall': 0.6487285629804849, 'f1-score': 0.6418921236231139, 'macro_f1-score': 0.37338128336759957, 'balanced_accuracy': 0.40219202515389746, 'mcc': 0.540392887340742, 'train_loss': 0.2980391028846287}\n",
      "Epoch 10/20\n"
     ]
    },
    {
     "name": "stderr",
     "output_type": "stream",
     "text": [
      "100%|██████████| 761/761 [01:21<00:00,  9.39it/s]\n"
     ]
    },
    {
     "name": "stdout",
     "output_type": "stream",
     "text": [
      "{'val_loss': 1.7042239214170654, 'val_accuracy': 0.6700177409816677, 'precision': 0.6719879255103914, 'recall': 0.6700177409816677, 'f1-score': 0.659708223945378, 'macro_f1-score': 0.40289963037156595, 'balanced_accuracy': 0.4137860815774442, 'mcc': 0.562927304027253, 'train_loss': 0.26572028836039596}\n",
      "Epoch 11/20\n"
     ]
    },
    {
     "name": "stderr",
     "output_type": "stream",
     "text": [
      "100%|██████████| 761/761 [01:21<00:00,  9.39it/s]\n"
     ]
    },
    {
     "name": "stdout",
     "output_type": "stream",
     "text": [
      "{'val_loss': 1.8597731773021087, 'val_accuracy': 0.6552335895919574, 'precision': 0.6579566867608129, 'recall': 0.6552335895919574, 'f1-score': 0.6491465176043917, 'macro_f1-score': 0.3869157402555129, 'balanced_accuracy': 0.40922724120658055, 'mcc': 0.5492764707256833, 'train_loss': 0.25536822970667744}\n",
      "Early stopping.\n",
      "\n",
      "[Fold 3]\n",
      "Label distribution after resampling:\n",
      "  label 0: 2000\n",
      "  label 1: 200\n",
      "  label 2: 200\n",
      "  label 3: 200\n",
      "  label 4: 206\n",
      "  label 5: 200\n",
      "  label 6: 200\n",
      "  label 7: 200\n",
      "  label 8: 200\n",
      "  label 9: 200\n",
      "  label 10: 200\n",
      "  label 11: 200\n",
      "  label 12: 200\n",
      "  label 13: 200\n",
      "  label 14: 200\n",
      "  label 15: 200\n",
      "  label 16: 200\n",
      "  label 17: 231\n",
      "  label 18: 200\n",
      "  label 19: 200\n",
      "  label 20: 200\n",
      "  label 21: 200\n",
      "  label 22: 200\n",
      "  label 23: 200\n",
      "  label 24: 200\n",
      "  label 25: 200\n",
      "  label 26: 200\n",
      "  label 27: 200\n",
      "  label 28: 200\n",
      "  label 29: 200\n",
      "  label 30: 200\n",
      "  label 31: 200\n",
      "  label 32: 200\n",
      "  label 33: 200\n",
      "  label 34: 200\n",
      "  label 35: 200\n",
      "  label 36: 200\n",
      "  label 37: 200\n",
      "  label 38: 200\n",
      "  label 39: 200\n",
      "  label 40: 200\n",
      "  label 41: 200\n",
      "  label 42: 200\n",
      "  label 43: 200\n",
      "  label 44: 200\n",
      "  label 45: 200\n",
      "  label 46: 200\n",
      "  label 47: 529\n",
      "  label 48: 201\n",
      "  label 49: 200\n",
      "model is microsoft/deberta-base cnn2filter234drop3\n",
      "Epoch 1/20\n"
     ]
    },
    {
     "name": "stderr",
     "output_type": "stream",
     "text": [
      "100%|██████████| 761/761 [01:21<00:00,  9.39it/s]\n"
     ]
    },
    {
     "name": "stdout",
     "output_type": "stream",
     "text": [
      "{'val_loss': 1.7394240172404163, 'val_accuracy': 0.5127143701951508, 'precision': 0.5352944332194224, 'recall': 0.5127143701951508, 'f1-score': 0.4976191111904204, 'macro_f1-score': 0.20293399143296253, 'balanced_accuracy': 0.29206993233621326, 'mcc': 0.3888534685399224, 'train_loss': 2.612911848999981}\n",
      "Epoch 2/20\n"
     ]
    },
    {
     "name": "stderr",
     "output_type": "stream",
     "text": [
      "100%|██████████| 761/761 [01:21<00:00,  9.38it/s]\n"
     ]
    },
    {
     "name": "stdout",
     "output_type": "stream",
     "text": [
      "{'val_loss': 1.5529397675451242, 'val_accuracy': 0.5842696629213483, 'precision': 0.61996013126973, 'recall': 0.5842696629213483, 'f1-score': 0.5717517758714176, 'macro_f1-score': 0.2984164188431159, 'balanced_accuracy': 0.3436185834709935, 'mcc': 0.4561602978321498, 'train_loss': 1.2415904177551045}\n",
      "Epoch 3/20\n"
     ]
    },
    {
     "name": "stderr",
     "output_type": "stream",
     "text": [
      "100%|██████████| 761/761 [01:21<00:00,  9.37it/s]\n"
     ]
    },
    {
     "name": "stdout",
     "output_type": "stream",
     "text": [
      "{'val_loss': 1.5819830028515942, 'val_accuracy': 0.5884092253104671, 'precision': 0.6332694113460146, 'recall': 0.5884092253104671, 'f1-score': 0.5960511527314968, 'macro_f1-score': 0.34574249691485165, 'balanced_accuracy': 0.3739002718288762, 'mcc': 0.47349022688696557, 'train_loss': 0.7546645526660413}\n",
      "Epoch 4/20\n"
     ]
    },
    {
     "name": "stderr",
     "output_type": "stream",
     "text": [
      "100%|██████████| 761/761 [01:21<00:00,  9.38it/s]\n"
     ]
    },
    {
     "name": "stdout",
     "output_type": "stream",
     "text": [
      "{'val_loss': 1.5730675121523299, 'val_accuracy': 0.602602010644589, 'precision': 0.6281168863136268, 'recall': 0.602602010644589, 'f1-score': 0.6006849758161362, 'macro_f1-score': 0.33654415087466594, 'balanced_accuracy': 0.3468722850467792, 'mcc': 0.48739086509360413, 'train_loss': 0.5370244791635781}\n",
      "Epoch 5/20\n"
     ]
    },
    {
     "name": "stderr",
     "output_type": "stream",
     "text": [
      "100%|██████████| 761/761 [01:21<00:00,  9.39it/s]\n"
     ]
    },
    {
     "name": "stdout",
     "output_type": "stream",
     "text": [
      "{'val_loss': 1.7653295358396925, 'val_accuracy': 0.6197516262566529, 'precision': 0.6699055419992296, 'recall': 0.6197516262566529, 'f1-score': 0.6294323448108898, 'macro_f1-score': 0.37191973549870844, 'balanced_accuracy': 0.40391556515571525, 'mcc': 0.5283594122410502, 'train_loss': 0.4069231363177378}\n",
      "Epoch 6/20\n"
     ]
    },
    {
     "name": "stderr",
     "output_type": "stream",
     "text": [
      "100%|██████████| 761/761 [01:20<00:00,  9.40it/s]\n"
     ]
    },
    {
     "name": "stdout",
     "output_type": "stream",
     "text": [
      "{'val_loss': 1.6303659785749778, 'val_accuracy': 0.6392667060910704, 'precision': 0.669486202048734, 'recall': 0.6392667060910704, 'f1-score': 0.6335996106529002, 'macro_f1-score': 0.3791224851023668, 'balanced_accuracy': 0.3791349622823554, 'mcc': 0.5231133962263188, 'train_loss': 0.35523719667933107}\n",
      "Epoch 7/20\n"
     ]
    },
    {
     "name": "stderr",
     "output_type": "stream",
     "text": [
      "100%|██████████| 761/761 [01:21<00:00,  9.38it/s]\n"
     ]
    },
    {
     "name": "stdout",
     "output_type": "stream",
     "text": [
      "{'val_loss': 1.7751648683311805, 'val_accuracy': 0.6345357776463632, 'precision': 0.6590252993984577, 'recall': 0.6345357776463632, 'f1-score': 0.6320867770302832, 'macro_f1-score': 0.351837014917995, 'balanced_accuracy': 0.36658840862020237, 'mcc': 0.5220765053614317, 'train_loss': 0.33424478609717}\n",
      "Epoch 8/20\n"
     ]
    },
    {
     "name": "stderr",
     "output_type": "stream",
     "text": [
      "100%|██████████| 761/761 [01:21<00:00,  9.37it/s]\n"
     ]
    },
    {
     "name": "stdout",
     "output_type": "stream",
     "text": [
      "{'val_loss': 1.7637535114333314, 'val_accuracy': 0.6422235363690124, 'precision': 0.6463300536848041, 'recall': 0.6422235363690124, 'f1-score': 0.6351304573277226, 'macro_f1-score': 0.3800626088997735, 'balanced_accuracy': 0.3958208156157818, 'mcc': 0.5311827291066679, 'train_loss': 0.31262070971691636}\n",
      "Epoch 9/20\n"
     ]
    },
    {
     "name": "stderr",
     "output_type": "stream",
     "text": [
      "100%|██████████| 761/761 [01:21<00:00,  9.39it/s]\n"
     ]
    },
    {
     "name": "stdout",
     "output_type": "stream",
     "text": [
      "{'val_loss': 1.7746375428055816, 'val_accuracy': 0.6303962152572442, 'precision': 0.6576889511948908, 'recall': 0.6303962152572442, 'f1-score': 0.6270677233038285, 'macro_f1-score': 0.3302294608000505, 'balanced_accuracy': 0.34423284466222265, 'mcc': 0.524487379894893, 'train_loss': 0.28731587918232954}\n",
      "Epoch 10/20\n"
     ]
    },
    {
     "name": "stderr",
     "output_type": "stream",
     "text": [
      "100%|██████████| 761/761 [01:20<00:00,  9.41it/s]\n"
     ]
    },
    {
     "name": "stdout",
     "output_type": "stream",
     "text": [
      "{'val_loss': 1.9141806920744338, 'val_accuracy': 0.6327616794795978, 'precision': 0.654425325366786, 'recall': 0.6327616794795978, 'f1-score': 0.6331442338392292, 'macro_f1-score': 0.3758336172351854, 'balanced_accuracy': 0.3982547658372392, 'mcc': 0.5276372693924766, 'train_loss': 0.25265528793898306}\n",
      "Epoch 11/20\n"
     ]
    },
    {
     "name": "stderr",
     "output_type": "stream",
     "text": [
      "100%|██████████| 761/761 [01:21<00:00,  9.38it/s]\n"
     ]
    },
    {
     "name": "stdout",
     "output_type": "stream",
     "text": [
      "{'val_loss': 2.1678174621654005, 'val_accuracy': 0.6493199290360734, 'precision': 0.6224818913481321, 'recall': 0.6493199290360734, 'f1-score': 0.6142568638563088, 'macro_f1-score': 0.3283951220745965, 'balanced_accuracy': 0.30051403017478984, 'mcc': 0.5161360809818395, 'train_loss': 0.24656790892994973}\n",
      "Early stopping.\n",
      "\n",
      "[Fold 4]\n",
      "Label distribution after resampling:\n",
      "  label 0: 2000\n",
      "  label 1: 200\n",
      "  label 2: 200\n",
      "  label 3: 200\n",
      "  label 4: 206\n",
      "  label 5: 200\n",
      "  label 6: 200\n",
      "  label 7: 200\n",
      "  label 8: 200\n",
      "  label 9: 200\n",
      "  label 10: 200\n",
      "  label 11: 200\n",
      "  label 12: 200\n",
      "  label 13: 200\n",
      "  label 14: 200\n",
      "  label 15: 200\n",
      "  label 16: 200\n",
      "  label 17: 232\n",
      "  label 18: 200\n",
      "  label 19: 200\n",
      "  label 20: 200\n",
      "  label 21: 200\n",
      "  label 22: 200\n",
      "  label 23: 200\n",
      "  label 24: 200\n",
      "  label 25: 200\n",
      "  label 26: 200\n",
      "  label 27: 200\n",
      "  label 28: 200\n",
      "  label 29: 200\n",
      "  label 30: 200\n",
      "  label 31: 200\n",
      "  label 32: 200\n",
      "  label 33: 200\n",
      "  label 34: 200\n",
      "  label 35: 200\n",
      "  label 36: 200\n",
      "  label 37: 200\n",
      "  label 38: 200\n",
      "  label 39: 200\n",
      "  label 40: 200\n",
      "  label 41: 200\n",
      "  label 42: 200\n",
      "  label 43: 200\n",
      "  label 44: 200\n",
      "  label 45: 200\n",
      "  label 46: 200\n",
      "  label 47: 529\n",
      "  label 48: 201\n",
      "  label 49: 200\n",
      "model is microsoft/deberta-base cnn2filter234drop3\n",
      "Epoch 1/20\n"
     ]
    },
    {
     "name": "stderr",
     "output_type": "stream",
     "text": [
      "100%|██████████| 761/761 [01:21<00:00,  9.39it/s]\n"
     ]
    },
    {
     "name": "stdout",
     "output_type": "stream",
     "text": [
      "{'val_loss': 1.9175774635009046, 'val_accuracy': 0.5363690124186872, 'precision': 0.4345273802260128, 'recall': 0.5363690124186872, 'f1-score': 0.4649062985483461, 'macro_f1-score': 0.11649758073976163, 'balanced_accuracy': 0.20831642579900617, 'mcc': 0.3667444379250721, 'train_loss': 3.0736972731140377}\n",
      "Epoch 2/20\n"
     ]
    },
    {
     "name": "stderr",
     "output_type": "stream",
     "text": [
      "100%|██████████| 761/761 [01:20<00:00,  9.40it/s]\n"
     ]
    },
    {
     "name": "stdout",
     "output_type": "stream",
     "text": [
      "{'val_loss': 1.6860150155031457, 'val_accuracy': 0.5292726197516262, 'precision': 0.576228090843313, 'recall': 0.5292726197516262, 'f1-score': 0.5187041492045469, 'macro_f1-score': 0.2412902626867389, 'balanced_accuracy': 0.33881075090036694, 'mcc': 0.41164251053750184, 'train_loss': 1.8603385397075196}\n",
      "Epoch 3/20\n"
     ]
    },
    {
     "name": "stderr",
     "output_type": "stream",
     "text": [
      "100%|██████████| 761/761 [01:20<00:00,  9.40it/s]\n"
     ]
    },
    {
     "name": "stdout",
     "output_type": "stream",
     "text": [
      "{'val_loss': 1.4543089070972406, 'val_accuracy': 0.5984624482554701, 'precision': 0.6128865205759192, 'recall': 0.5984624482554701, 'f1-score': 0.59471769837446, 'macro_f1-score': 0.3539905078135774, 'balanced_accuracy': 0.37623003778304254, 'mcc': 0.48828567569219816, 'train_loss': 1.1676257205307092}\n",
      "Epoch 4/20\n"
     ]
    },
    {
     "name": "stderr",
     "output_type": "stream",
     "text": [
      "100%|██████████| 761/761 [01:21<00:00,  9.38it/s]\n"
     ]
    },
    {
     "name": "stdout",
     "output_type": "stream",
     "text": [
      "{'val_loss': 1.525164689095515, 'val_accuracy': 0.589591957421644, 'precision': 0.6464407720378094, 'recall': 0.589591957421644, 'f1-score': 0.6026318290042063, 'macro_f1-score': 0.355761210771023, 'balanced_accuracy': 0.41805250273700195, 'mcc': 0.48897558316302653, 'train_loss': 0.7774425706435754}\n",
      "Epoch 5/20\n"
     ]
    },
    {
     "name": "stderr",
     "output_type": "stream",
     "text": [
      "100%|██████████| 761/761 [01:21<00:00,  9.37it/s]\n"
     ]
    },
    {
     "name": "stdout",
     "output_type": "stream",
     "text": [
      "{'val_loss': 1.5281744022976678, 'val_accuracy': 0.612655233589592, 'precision': 0.6759383026201359, 'recall': 0.612655233589592, 'f1-score': 0.625782858174829, 'macro_f1-score': 0.4022566746546775, 'balanced_accuracy': 0.44206700929552023, 'mcc': 0.5177221427822704, 'train_loss': 0.5980449544459229}\n",
      "Epoch 6/20\n"
     ]
    },
    {
     "name": "stderr",
     "output_type": "stream",
     "text": [
      "100%|██████████| 761/761 [01:20<00:00,  9.40it/s]\n"
     ]
    },
    {
     "name": "stdout",
     "output_type": "stream",
     "text": [
      "{'val_loss': 1.5174421187279359, 'val_accuracy': 0.6505026611472502, 'precision': 0.6758992589767971, 'recall': 0.6505026611472502, 'f1-score': 0.6467517011561842, 'macro_f1-score': 0.41126657007142514, 'balanced_accuracy': 0.44051924274334164, 'mcc': 0.5485150463536314, 'train_loss': 0.5038384450856552}\n",
      "Epoch 7/20\n"
     ]
    },
    {
     "name": "stderr",
     "output_type": "stream",
     "text": [
      "100%|██████████| 761/761 [01:20<00:00,  9.40it/s]\n"
     ]
    },
    {
     "name": "stdout",
     "output_type": "stream",
     "text": [
      "{'val_loss': 1.6524868094415035, 'val_accuracy': 0.6238911886457718, 'precision': 0.6441018281010854, 'recall': 0.6238911886457718, 'f1-score': 0.6164497325892511, 'macro_f1-score': 0.3790450639583126, 'balanced_accuracy': 0.4258294684316977, 'mcc': 0.5150700571591104, 'train_loss': 0.39462581381652106}\n",
      "Epoch 8/20\n"
     ]
    },
    {
     "name": "stderr",
     "output_type": "stream",
     "text": [
      "100%|██████████| 761/761 [01:21<00:00,  9.39it/s]\n"
     ]
    },
    {
     "name": "stdout",
     "output_type": "stream",
     "text": [
      "{'val_loss': 1.6477505457851123, 'val_accuracy': 0.6203429923122413, 'precision': 0.6868403874271807, 'recall': 0.6203429923122413, 'f1-score': 0.638469909348685, 'macro_f1-score': 0.4226519256358388, 'balanced_accuracy': 0.4575769745454978, 'mcc': 0.5269019193925429, 'train_loss': 0.3656753260328994}\n",
      "Epoch 9/20\n"
     ]
    },
    {
     "name": "stderr",
     "output_type": "stream",
     "text": [
      "100%|██████████| 761/761 [01:21<00:00,  9.39it/s]\n"
     ]
    },
    {
     "name": "stdout",
     "output_type": "stream",
     "text": [
      "{'val_loss': 1.7536675549059544, 'val_accuracy': 0.6398580721466588, 'precision': 0.6636376450020086, 'recall': 0.6398580721466588, 'f1-score': 0.6373450277311575, 'macro_f1-score': 0.3956904231695885, 'balanced_accuracy': 0.413321376047669, 'mcc': 0.5279501089590002, 'train_loss': 0.3101230059149485}\n",
      "Epoch 10/20\n"
     ]
    },
    {
     "name": "stderr",
     "output_type": "stream",
     "text": [
      "100%|██████████| 761/761 [01:21<00:00,  9.39it/s]\n"
     ]
    },
    {
     "name": "stdout",
     "output_type": "stream",
     "text": [
      "{'val_loss': 1.8572548085226204, 'val_accuracy': 0.6380839739798936, 'precision': 0.67247136250871, 'recall': 0.6380839739798936, 'f1-score': 0.6443268850182495, 'macro_f1-score': 0.41068849853270983, 'balanced_accuracy': 0.44013557882585963, 'mcc': 0.5435901567214516, 'train_loss': 0.3266485888925815}\n",
      "Epoch 11/20\n"
     ]
    },
    {
     "name": "stderr",
     "output_type": "stream",
     "text": [
      "100%|██████████| 761/761 [01:21<00:00,  9.39it/s]\n"
     ]
    },
    {
     "name": "stdout",
     "output_type": "stream",
     "text": [
      "{'val_loss': 1.7532110328100763, 'val_accuracy': 0.6428149024246008, 'precision': 0.6672290814677169, 'recall': 0.6428149024246008, 'f1-score': 0.6443372700292801, 'macro_f1-score': 0.3921537334378271, 'balanced_accuracy': 0.4089936697314051, 'mcc': 0.5411491966797619, 'train_loss': 0.2994188275916377}\n",
      "Early stopping.\n",
      "\n",
      "[Fold 5]\n",
      "Label distribution after resampling:\n",
      "  label 0: 2000\n",
      "  label 1: 200\n",
      "  label 2: 200\n",
      "  label 3: 200\n",
      "  label 4: 205\n",
      "  label 5: 200\n",
      "  label 6: 200\n",
      "  label 7: 200\n",
      "  label 8: 200\n",
      "  label 9: 200\n",
      "  label 10: 200\n",
      "  label 11: 200\n",
      "  label 12: 200\n",
      "  label 13: 200\n",
      "  label 14: 200\n",
      "  label 15: 200\n",
      "  label 16: 200\n",
      "  label 17: 231\n",
      "  label 18: 200\n",
      "  label 19: 200\n",
      "  label 20: 200\n",
      "  label 21: 200\n",
      "  label 22: 200\n",
      "  label 23: 200\n",
      "  label 24: 200\n",
      "  label 25: 200\n",
      "  label 26: 200\n",
      "  label 27: 200\n",
      "  label 28: 200\n",
      "  label 29: 200\n",
      "  label 30: 200\n",
      "  label 31: 200\n",
      "  label 32: 200\n",
      "  label 33: 200\n",
      "  label 34: 200\n",
      "  label 35: 200\n",
      "  label 36: 200\n",
      "  label 37: 200\n",
      "  label 38: 200\n",
      "  label 39: 200\n",
      "  label 40: 200\n",
      "  label 41: 200\n",
      "  label 42: 200\n",
      "  label 43: 200\n",
      "  label 44: 200\n",
      "  label 45: 200\n",
      "  label 46: 200\n",
      "  label 47: 529\n",
      "  label 48: 202\n",
      "  label 49: 200\n",
      "model is microsoft/deberta-base cnn2filter234drop3\n",
      "Epoch 1/20\n"
     ]
    },
    {
     "name": "stderr",
     "output_type": "stream",
     "text": [
      "100%|██████████| 761/761 [01:21<00:00,  9.38it/s]\n"
     ]
    },
    {
     "name": "stdout",
     "output_type": "stream",
     "text": [
      "{'val_loss': 1.610334169189885, 'val_accuracy': 0.5674556213017752, 'precision': 0.5471192901221132, 'recall': 0.5674556213017752, 'f1-score': 0.5268134915726569, 'macro_f1-score': 0.2099184213564731, 'balanced_accuracy': 0.26704913151562193, 'mcc': 0.42703686068614694, 'train_loss': 2.713774975903244}\n",
      "Epoch 2/20\n"
     ]
    },
    {
     "name": "stderr",
     "output_type": "stream",
     "text": [
      "100%|██████████| 761/761 [01:21<00:00,  9.39it/s]\n"
     ]
    },
    {
     "name": "stdout",
     "output_type": "stream",
     "text": [
      "{'val_loss': 1.4697223345063768, 'val_accuracy': 0.6011834319526628, 'precision': 0.645636012478908, 'recall': 0.6011834319526628, 'f1-score': 0.5888970868142976, 'macro_f1-score': 0.3237312928567564, 'balanced_accuracy': 0.35621013805988805, 'mcc': 0.47292531682816713, 'train_loss': 1.249796828717659}\n",
      "Epoch 3/20\n"
     ]
    },
    {
     "name": "stderr",
     "output_type": "stream",
     "text": [
      "100%|██████████| 761/761 [01:21<00:00,  9.38it/s]\n"
     ]
    },
    {
     "name": "stdout",
     "output_type": "stream",
     "text": [
      "{'val_loss': 1.5077116585002754, 'val_accuracy': 0.6, 'precision': 0.6371587872614985, 'recall': 0.6, 'f1-score': 0.6052694424524596, 'macro_f1-score': 0.3375986208507167, 'balanced_accuracy': 0.3753807016818486, 'mcc': 0.4916152455085051, 'train_loss': 0.7421994921843107}\n",
      "Epoch 4/20\n"
     ]
    },
    {
     "name": "stderr",
     "output_type": "stream",
     "text": [
      "100%|██████████| 761/761 [01:21<00:00,  9.39it/s]\n"
     ]
    },
    {
     "name": "stdout",
     "output_type": "stream",
     "text": [
      "{'val_loss': 1.6570154074228034, 'val_accuracy': 0.5952662721893491, 'precision': 0.6445311145016114, 'recall': 0.5952662721893491, 'f1-score': 0.6058719927468565, 'macro_f1-score': 0.32946076613839836, 'balanced_accuracy': 0.36274073862431616, 'mcc': 0.490208375216833, 'train_loss': 0.5695830415126607}\n",
      "Epoch 5/20\n"
     ]
    },
    {
     "name": "stderr",
     "output_type": "stream",
     "text": [
      "100%|██████████| 761/761 [01:21<00:00,  9.39it/s]\n"
     ]
    },
    {
     "name": "stdout",
     "output_type": "stream",
     "text": [
      "{'val_loss': 1.57422089632952, 'val_accuracy': 0.6520710059171597, 'precision': 0.6424554943902533, 'recall': 0.6520710059171597, 'f1-score': 0.6368518075521912, 'macro_f1-score': 0.37402507955514913, 'balanced_accuracy': 0.38226547419518014, 'mcc': 0.5340465522675846, 'train_loss': 0.4974808324221399}\n",
      "Epoch 6/20\n"
     ]
    },
    {
     "name": "stderr",
     "output_type": "stream",
     "text": [
      "100%|██████████| 761/761 [01:21<00:00,  9.39it/s]\n"
     ]
    },
    {
     "name": "stdout",
     "output_type": "stream",
     "text": [
      "{'val_loss': 1.804623765203188, 'val_accuracy': 0.6396449704142012, 'precision': 0.6542388501424493, 'recall': 0.6396449704142012, 'f1-score': 0.6348578832362852, 'macro_f1-score': 0.36253746280322074, 'balanced_accuracy': 0.35663043330179517, 'mcc': 0.5273736967338141, 'train_loss': 0.5557733138731917}\n",
      "Epoch 7/20\n"
     ]
    },
    {
     "name": "stderr",
     "output_type": "stream",
     "text": [
      "100%|██████████| 761/761 [01:21<00:00,  9.38it/s]\n"
     ]
    },
    {
     "name": "stdout",
     "output_type": "stream",
     "text": [
      "{'val_loss': 1.8711296376192346, 'val_accuracy': 0.6325443786982249, 'precision': 0.664354304992763, 'recall': 0.6325443786982249, 'f1-score': 0.6393231451944812, 'macro_f1-score': 0.3560167754961611, 'balanced_accuracy': 0.3671422405912566, 'mcc': 0.5290587044980917, 'train_loss': 0.3030197119539782}\n",
      "Epoch 8/20\n"
     ]
    },
    {
     "name": "stderr",
     "output_type": "stream",
     "text": [
      "100%|██████████| 761/761 [01:21<00:00,  9.39it/s]\n"
     ]
    },
    {
     "name": "stdout",
     "output_type": "stream",
     "text": [
      "{'val_loss': 1.9013371079597834, 'val_accuracy': 0.6289940828402367, 'precision': 0.6908820075323983, 'recall': 0.6289940828402367, 'f1-score': 0.6428916608433793, 'macro_f1-score': 0.37790420940759306, 'balanced_accuracy': 0.4050287680966185, 'mcc': 0.5307828376434984, 'train_loss': 0.27658389085162133}\n",
      "Epoch 9/20\n"
     ]
    },
    {
     "name": "stderr",
     "output_type": "stream",
     "text": [
      "100%|██████████| 761/761 [01:20<00:00,  9.41it/s]\n"
     ]
    },
    {
     "name": "stdout",
     "output_type": "stream",
     "text": [
      "{'val_loss': 1.6870768078655567, 'val_accuracy': 0.6556213017751479, 'precision': 0.6481543890112702, 'recall': 0.6556213017751479, 'f1-score': 0.6363248102005982, 'macro_f1-score': 0.3756733581620548, 'balanced_accuracy': 0.3682322090498967, 'mcc': 0.5351875287120557, 'train_loss': 0.28918435793760405}\n",
      "Epoch 10/20\n"
     ]
    },
    {
     "name": "stderr",
     "output_type": "stream",
     "text": [
      "100%|██████████| 761/761 [01:21<00:00,  9.37it/s]\n"
     ]
    },
    {
     "name": "stdout",
     "output_type": "stream",
     "text": [
      "{'val_loss': 2.027682216662281, 'val_accuracy': 0.6408284023668639, 'precision': 0.6362666411473166, 'recall': 0.6408284023668639, 'f1-score': 0.6220450076507624, 'macro_f1-score': 0.3477148234848004, 'balanced_accuracy': 0.3504645128068937, 'mcc': 0.5213537877065131, 'train_loss': 0.2540162148036102}\n",
      "Epoch 11/20\n"
     ]
    },
    {
     "name": "stderr",
     "output_type": "stream",
     "text": [
      "100%|██████████| 761/761 [01:21<00:00,  9.39it/s]\n"
     ]
    },
    {
     "name": "stdout",
     "output_type": "stream",
     "text": [
      "{'val_loss': 1.8388613299378809, 'val_accuracy': 0.6585798816568047, 'precision': 0.6660705614468783, 'recall': 0.6585798816568047, 'f1-score': 0.6488867573754122, 'macro_f1-score': 0.39109514429539216, 'balanced_accuracy': 0.39077327126931777, 'mcc': 0.5503237815148583, 'train_loss': 0.2433814029833461}\n",
      "Epoch 12/20\n"
     ]
    },
    {
     "name": "stderr",
     "output_type": "stream",
     "text": [
      "100%|██████████| 761/761 [01:21<00:00,  9.39it/s]\n"
     ]
    },
    {
     "name": "stdout",
     "output_type": "stream",
     "text": [
      "{'val_loss': 2.003657669391272, 'val_accuracy': 0.6402366863905326, 'precision': 0.6799935036946704, 'recall': 0.6402366863905326, 'f1-score': 0.6418245103223631, 'macro_f1-score': 0.3668640272330641, 'balanced_accuracy': 0.3750362385148554, 'mcc': 0.5303709855117158, 'train_loss': 0.24960244121427713}\n",
      "Epoch 13/20\n"
     ]
    },
    {
     "name": "stderr",
     "output_type": "stream",
     "text": [
      "100%|██████████| 761/761 [01:20<00:00,  9.41it/s]\n"
     ]
    },
    {
     "name": "stdout",
     "output_type": "stream",
     "text": [
      "{'val_loss': 1.9879471299783238, 'val_accuracy': 0.6313609467455621, 'precision': 0.6639265512135092, 'recall': 0.6313609467455621, 'f1-score': 0.6332816176809994, 'macro_f1-score': 0.341289145619925, 'balanced_accuracy': 0.36229888712597247, 'mcc': 0.5271145820534586, 'train_loss': 0.2792010632877173}\n",
      "Epoch 14/20\n"
     ]
    },
    {
     "name": "stderr",
     "output_type": "stream",
     "text": [
      "100%|██████████| 761/761 [01:21<00:00,  9.38it/s]\n"
     ]
    },
    {
     "name": "stdout",
     "output_type": "stream",
     "text": [
      "{'val_loss': 1.892972061234825, 'val_accuracy': 0.6319526627218935, 'precision': 0.6545499062866756, 'recall': 0.6319526627218935, 'f1-score': 0.6332497984793106, 'macro_f1-score': 0.3659112071797413, 'balanced_accuracy': 0.39589792467011065, 'mcc': 0.5320839772265652, 'train_loss': 0.21894263784289753}\n",
      "Early stopping.\n",
      "\n",
      " === microsoft/deberta-base + cnn2filter234drop3 + ros Final 5-fold Cross-Validation Results ===\n",
      "Total time: 4798 seconds\n",
      "Total time: 1 hrs 19 mins 58 secs\n",
      "val_loss: 1.7729\n",
      "val_accuracy: 0.6398\n",
      "precision: 0.6649\n",
      "recall: 0.6398\n",
      "f1-score: 0.6405\n",
      "macro_f1-score: 0.4034\n",
      "balanced_accuracy: 0.4199\n",
      "mcc: 0.5364\n",
      "train_loss: 0.3230\n",
      "▶ Running: microsoft/deberta-base + cnn2filter234drop5 + ros\n",
      "tokenizer is microsoft/deberta-base\n",
      "Using device: cuda\n",
      "CUDA Available: True\n",
      "CUDA Device: NVIDIA GeForce RTX 5070 Ti\n",
      "Current GPU Memory Allocated: 0.02 GB\n",
      "Current GPU Memory Cached: 5.15 GB\n",
      "\n",
      "[Fold 1]\n",
      "Label distribution after resampling:\n",
      "  label 0: 2000\n",
      "  label 1: 200\n",
      "  label 2: 200\n",
      "  label 3: 200\n",
      "  label 4: 205\n",
      "  label 5: 200\n",
      "  label 6: 200\n",
      "  label 7: 200\n",
      "  label 8: 200\n",
      "  label 9: 200\n",
      "  label 10: 200\n",
      "  label 11: 200\n",
      "  label 12: 200\n",
      "  label 13: 200\n",
      "  label 14: 200\n",
      "  label 15: 200\n",
      "  label 16: 200\n",
      "  label 17: 231\n",
      "  label 18: 200\n",
      "  label 19: 200\n",
      "  label 20: 200\n",
      "  label 21: 200\n",
      "  label 22: 200\n",
      "  label 23: 200\n",
      "  label 24: 200\n",
      "  label 25: 200\n",
      "  label 26: 200\n",
      "  label 27: 200\n",
      "  label 28: 200\n",
      "  label 29: 200\n",
      "  label 30: 200\n",
      "  label 31: 200\n",
      "  label 32: 200\n",
      "  label 33: 200\n",
      "  label 34: 200\n",
      "  label 35: 200\n",
      "  label 36: 200\n",
      "  label 37: 200\n",
      "  label 38: 200\n",
      "  label 39: 200\n",
      "  label 40: 200\n",
      "  label 41: 200\n",
      "  label 42: 200\n",
      "  label 43: 200\n",
      "  label 44: 200\n",
      "  label 45: 200\n",
      "  label 46: 200\n",
      "  label 47: 529\n",
      "  label 48: 202\n",
      "  label 49: 200\n",
      "model is microsoft/deberta-base cnn2filter234drop5\n",
      "Epoch 1/20\n"
     ]
    },
    {
     "name": "stderr",
     "output_type": "stream",
     "text": [
      "100%|██████████| 761/761 [01:21<00:00,  9.39it/s]\n"
     ]
    },
    {
     "name": "stdout",
     "output_type": "stream",
     "text": [
      "{'val_loss': 1.8251468887868918, 'val_accuracy': 0.5677114133648729, 'precision': 0.4252570682343459, 'recall': 0.5677114133648729, 'f1-score': 0.46819531533440367, 'macro_f1-score': 0.12134480272306228, 'balanced_accuracy': 0.14698471959255954, 'mcc': 0.37786474437055356, 'train_loss': 3.0828533706777828}\n",
      "Epoch 2/20\n"
     ]
    },
    {
     "name": "stderr",
     "output_type": "stream",
     "text": [
      "100%|██████████| 761/761 [01:20<00:00,  9.40it/s]\n"
     ]
    },
    {
     "name": "stdout",
     "output_type": "stream",
     "text": [
      "{'val_loss': 1.6095179448712547, 'val_accuracy': 0.543465405085748, 'precision': 0.6245614126927697, 'recall': 0.543465405085748, 'f1-score': 0.5499133056201062, 'macro_f1-score': 0.2721194301282428, 'balanced_accuracy': 0.3345278843781673, 'mcc': 0.4244242112868312, 'train_loss': 1.7968316013568648}\n",
      "Epoch 3/20\n"
     ]
    },
    {
     "name": "stderr",
     "output_type": "stream",
     "text": [
      "100%|██████████| 761/761 [01:20<00:00,  9.40it/s]\n"
     ]
    },
    {
     "name": "stdout",
     "output_type": "stream",
     "text": [
      "{'val_loss': 1.5468198907262873, 'val_accuracy': 0.5943228858663513, 'precision': 0.6971060767839632, 'recall': 0.5943228858663513, 'f1-score': 0.5998601289983699, 'macro_f1-score': 0.33413764603300455, 'balanced_accuracy': 0.36033139967444705, 'mcc': 0.47878096108803303, 'train_loss': 1.046605084243178}\n",
      "Epoch 4/20\n"
     ]
    },
    {
     "name": "stderr",
     "output_type": "stream",
     "text": [
      "100%|██████████| 761/761 [01:21<00:00,  9.39it/s]\n"
     ]
    },
    {
     "name": "stdout",
     "output_type": "stream",
     "text": [
      "{'val_loss': 1.5656185937377642, 'val_accuracy': 0.628622117090479, 'precision': 0.656854514164203, 'recall': 0.628622117090479, 'f1-score': 0.6164118734650166, 'macro_f1-score': 0.3685507345140866, 'balanced_accuracy': 0.38970157906013525, 'mcc': 0.5156363155412729, 'train_loss': 0.7103600412039344}\n",
      "Epoch 5/20\n"
     ]
    },
    {
     "name": "stderr",
     "output_type": "stream",
     "text": [
      "100%|██████████| 761/761 [01:21<00:00,  9.39it/s]\n"
     ]
    },
    {
     "name": "stdout",
     "output_type": "stream",
     "text": [
      "{'val_loss': 1.7143564277662422, 'val_accuracy': 0.631578947368421, 'precision': 0.6756049657234691, 'recall': 0.631578947368421, 'f1-score': 0.6267990359205748, 'macro_f1-score': 0.35338241318907326, 'balanced_accuracy': 0.37259990649937413, 'mcc': 0.5180378484163359, 'train_loss': 0.5656590338101251}\n",
      "Epoch 6/20\n"
     ]
    },
    {
     "name": "stderr",
     "output_type": "stream",
     "text": [
      "100%|██████████| 761/761 [01:21<00:00,  9.39it/s]\n"
     ]
    },
    {
     "name": "stdout",
     "output_type": "stream",
     "text": [
      "{'val_loss': 1.6720035481003095, 'val_accuracy': 0.6244825547013602, 'precision': 0.6580845744994973, 'recall': 0.6244825547013602, 'f1-score': 0.6312732109987096, 'macro_f1-score': 0.3852871309887452, 'balanced_accuracy': 0.4068872481681501, 'mcc': 0.5235281851467095, 'train_loss': 0.4956218245856552}\n",
      "Epoch 7/20\n"
     ]
    },
    {
     "name": "stderr",
     "output_type": "stream",
     "text": [
      "100%|██████████| 761/761 [01:20<00:00,  9.40it/s]\n"
     ]
    },
    {
     "name": "stdout",
     "output_type": "stream",
     "text": [
      "{'val_loss': 1.7243768901757475, 'val_accuracy': 0.6345357776463632, 'precision': 0.6655319128018385, 'recall': 0.6345357776463632, 'f1-score': 0.6394831043928961, 'macro_f1-score': 0.4009032823320725, 'balanced_accuracy': 0.4181079462239227, 'mcc': 0.5349624529724084, 'train_loss': 0.3845691204942401}\n",
      "Epoch 8/20\n"
     ]
    },
    {
     "name": "stderr",
     "output_type": "stream",
     "text": [
      "100%|██████████| 761/761 [01:21<00:00,  9.39it/s]\n"
     ]
    },
    {
     "name": "stdout",
     "output_type": "stream",
     "text": [
      "{'val_loss': 1.8715662503579877, 'val_accuracy': 0.618568894145476, 'precision': 0.6709396270647637, 'recall': 0.618568894145476, 'f1-score': 0.6339756554736224, 'macro_f1-score': 0.38958604087987053, 'balanced_accuracy': 0.41428161017290555, 'mcc': 0.5242000492279153, 'train_loss': 0.35066693616693206}\n",
      "Epoch 9/20\n"
     ]
    },
    {
     "name": "stderr",
     "output_type": "stream",
     "text": [
      "100%|██████████| 761/761 [01:20<00:00,  9.40it/s]\n"
     ]
    },
    {
     "name": "stdout",
     "output_type": "stream",
     "text": [
      "{'val_loss': 1.746236728609733, 'val_accuracy': 0.6611472501478415, 'precision': 0.6680461994291158, 'recall': 0.6611472501478415, 'f1-score': 0.6517368225714263, 'macro_f1-score': 0.37782841777599024, 'balanced_accuracy': 0.38139791024253883, 'mcc': 0.5551078273699771, 'train_loss': 0.2924296522363727}\n",
      "Epoch 10/20\n"
     ]
    },
    {
     "name": "stderr",
     "output_type": "stream",
     "text": [
      "100%|██████████| 761/761 [01:21<00:00,  9.39it/s]\n"
     ]
    },
    {
     "name": "stdout",
     "output_type": "stream",
     "text": [
      "{'val_loss': 2.13605276087545, 'val_accuracy': 0.4618568894145476, 'precision': 0.6658699115384343, 'recall': 0.4618568894145476, 'f1-score': 0.5168820638179294, 'macro_f1-score': 0.18285482382115822, 'balanced_accuracy': 0.17404233031088168, 'mcc': 0.3667529914921679, 'train_loss': 0.3255022049473988}\n",
      "Early stopping.\n",
      "\n",
      "[Fold 2]\n",
      "Label distribution after resampling:\n",
      "  label 0: 2000\n",
      "  label 1: 200\n",
      "  label 2: 200\n",
      "  label 3: 200\n",
      "  label 4: 206\n",
      "  label 5: 200\n",
      "  label 6: 200\n",
      "  label 7: 200\n",
      "  label 8: 200\n",
      "  label 9: 200\n",
      "  label 10: 200\n",
      "  label 11: 200\n",
      "  label 12: 200\n",
      "  label 13: 200\n",
      "  label 14: 200\n",
      "  label 15: 200\n",
      "  label 16: 200\n",
      "  label 17: 231\n",
      "  label 18: 200\n",
      "  label 19: 200\n",
      "  label 20: 200\n",
      "  label 21: 200\n",
      "  label 22: 200\n",
      "  label 23: 200\n",
      "  label 24: 200\n",
      "  label 25: 200\n",
      "  label 26: 200\n",
      "  label 27: 200\n",
      "  label 28: 200\n",
      "  label 29: 200\n",
      "  label 30: 200\n",
      "  label 31: 200\n",
      "  label 32: 200\n",
      "  label 33: 200\n",
      "  label 34: 200\n",
      "  label 35: 200\n",
      "  label 36: 200\n",
      "  label 37: 200\n",
      "  label 38: 200\n",
      "  label 39: 200\n",
      "  label 40: 200\n",
      "  label 41: 200\n",
      "  label 42: 200\n",
      "  label 43: 200\n",
      "  label 44: 200\n",
      "  label 45: 200\n",
      "  label 46: 200\n",
      "  label 47: 528\n",
      "  label 48: 202\n",
      "  label 49: 200\n",
      "model is microsoft/deberta-base cnn2filter234drop5\n",
      "Epoch 1/20\n"
     ]
    },
    {
     "name": "stderr",
     "output_type": "stream",
     "text": [
      "100%|██████████| 761/761 [01:21<00:00,  9.39it/s]\n"
     ]
    },
    {
     "name": "stdout",
     "output_type": "stream",
     "text": [
      "{'val_loss': 2.00711885825643, 'val_accuracy': 0.5002956830277943, 'precision': 0.4530982691046281, 'recall': 0.5002956830277943, 'f1-score': 0.46426492673651043, 'macro_f1-score': 0.14232880830832786, 'balanced_accuracy': 0.21456196599404115, 'mcc': 0.33358863040848385, 'train_loss': 3.0848520095025664}\n",
      "Epoch 2/20\n"
     ]
    },
    {
     "name": "stderr",
     "output_type": "stream",
     "text": [
      "100%|██████████| 761/761 [01:20<00:00,  9.40it/s]\n"
     ]
    },
    {
     "name": "stdout",
     "output_type": "stream",
     "text": [
      "{'val_loss': 1.560579978632477, 'val_accuracy': 0.5742164399763453, 'precision': 0.5615399841033493, 'recall': 0.5742164399763453, 'f1-score': 0.5470882414853662, 'macro_f1-score': 0.22977973714881736, 'balanced_accuracy': 0.3090841646969547, 'mcc': 0.4336826239407568, 'train_loss': 1.9165034441377737}\n",
      "Epoch 3/20\n"
     ]
    },
    {
     "name": "stderr",
     "output_type": "stream",
     "text": [
      "100%|██████████| 761/761 [01:21<00:00,  9.39it/s]\n"
     ]
    },
    {
     "name": "stdout",
     "output_type": "stream",
     "text": [
      "{'val_loss': 1.5702138346321177, 'val_accuracy': 0.5688941454760497, 'precision': 0.6056129135493659, 'recall': 0.5688941454760497, 'f1-score': 0.5727059971011585, 'macro_f1-score': 0.2933121245741798, 'balanced_accuracy': 0.3534275375665888, 'mcc': 0.4580419453557952, 'train_loss': 1.2870204985024267}\n",
      "Epoch 4/20\n"
     ]
    },
    {
     "name": "stderr",
     "output_type": "stream",
     "text": [
      "100%|██████████| 761/761 [01:21<00:00,  9.38it/s]\n"
     ]
    },
    {
     "name": "stdout",
     "output_type": "stream",
     "text": [
      "{'val_loss': 1.5505014084420115, 'val_accuracy': 0.6309875813128326, 'precision': 0.6237797618583769, 'recall': 0.6309875813128326, 'f1-score': 0.6197513441102439, 'macro_f1-score': 0.3439092453287633, 'balanced_accuracy': 0.37834953051866, 'mcc': 0.5148372722290244, 'train_loss': 0.915358673159459}\n",
      "Epoch 5/20\n"
     ]
    },
    {
     "name": "stderr",
     "output_type": "stream",
     "text": [
      "100%|██████████| 761/761 [01:20<00:00,  9.40it/s]\n"
     ]
    },
    {
     "name": "stdout",
     "output_type": "stream",
     "text": [
      "{'val_loss': 1.6285178596681018, 'val_accuracy': 0.6162034299231224, 'precision': 0.6632099788009224, 'recall': 0.6162034299231224, 'f1-score': 0.6266413765577107, 'macro_f1-score': 0.37371179667649856, 'balanced_accuracy': 0.4133645921042225, 'mcc': 0.5107284426123638, 'train_loss': 0.6524802248988609}\n",
      "Epoch 6/20\n"
     ]
    },
    {
     "name": "stderr",
     "output_type": "stream",
     "text": [
      "100%|██████████| 761/761 [01:20<00:00,  9.41it/s]\n"
     ]
    },
    {
     "name": "stdout",
     "output_type": "stream",
     "text": [
      "{'val_loss': 1.766243912139029, 'val_accuracy': 0.6138379657007688, 'precision': 0.6421857833332517, 'recall': 0.6138379657007688, 'f1-score': 0.6180675821371546, 'macro_f1-score': 0.3612066819688775, 'balanced_accuracy': 0.3953877273494249, 'mcc': 0.5042261572157489, 'train_loss': 0.5349649233785158}\n",
      "Epoch 7/20\n"
     ]
    },
    {
     "name": "stderr",
     "output_type": "stream",
     "text": [
      "100%|██████████| 761/761 [01:21<00:00,  9.38it/s]\n"
     ]
    },
    {
     "name": "stdout",
     "output_type": "stream",
     "text": [
      "{'val_loss': 1.7011391908492681, 'val_accuracy': 0.6268480189237138, 'precision': 0.65471834033353, 'recall': 0.6268480189237138, 'f1-score': 0.6251198822829335, 'macro_f1-score': 0.36516473836507823, 'balanced_accuracy': 0.383882232652649, 'mcc': 0.5113844176009014, 'train_loss': 0.49182586469803785}\n",
      "Epoch 8/20\n"
     ]
    },
    {
     "name": "stderr",
     "output_type": "stream",
     "text": [
      "100%|██████████| 761/761 [01:21<00:00,  9.39it/s]\n"
     ]
    },
    {
     "name": "stdout",
     "output_type": "stream",
     "text": [
      "{'val_loss': 1.8987216433545329, 'val_accuracy': 0.6221170904790065, 'precision': 0.6433545358821345, 'recall': 0.6221170904790065, 'f1-score': 0.6224149810058686, 'macro_f1-score': 0.3592492778862651, 'balanced_accuracy': 0.3903138047366467, 'mcc': 0.5134430102958201, 'train_loss': 0.4006044013858938}\n",
      "Early stopping.\n",
      "\n",
      "[Fold 3]\n",
      "Label distribution after resampling:\n",
      "  label 0: 2000\n",
      "  label 1: 200\n",
      "  label 2: 200\n",
      "  label 3: 200\n",
      "  label 4: 206\n",
      "  label 5: 200\n",
      "  label 6: 200\n",
      "  label 7: 200\n",
      "  label 8: 200\n",
      "  label 9: 200\n",
      "  label 10: 200\n",
      "  label 11: 200\n",
      "  label 12: 200\n",
      "  label 13: 200\n",
      "  label 14: 200\n",
      "  label 15: 200\n",
      "  label 16: 200\n",
      "  label 17: 231\n",
      "  label 18: 200\n",
      "  label 19: 200\n",
      "  label 20: 200\n",
      "  label 21: 200\n",
      "  label 22: 200\n",
      "  label 23: 200\n",
      "  label 24: 200\n",
      "  label 25: 200\n",
      "  label 26: 200\n",
      "  label 27: 200\n",
      "  label 28: 200\n",
      "  label 29: 200\n",
      "  label 30: 200\n",
      "  label 31: 200\n",
      "  label 32: 200\n",
      "  label 33: 200\n",
      "  label 34: 200\n",
      "  label 35: 200\n",
      "  label 36: 200\n",
      "  label 37: 200\n",
      "  label 38: 200\n",
      "  label 39: 200\n",
      "  label 40: 200\n",
      "  label 41: 200\n",
      "  label 42: 200\n",
      "  label 43: 200\n",
      "  label 44: 200\n",
      "  label 45: 200\n",
      "  label 46: 200\n",
      "  label 47: 529\n",
      "  label 48: 201\n",
      "  label 49: 200\n",
      "model is microsoft/deberta-base cnn2filter234drop5\n",
      "Epoch 1/20\n"
     ]
    },
    {
     "name": "stderr",
     "output_type": "stream",
     "text": [
      "100%|██████████| 761/761 [01:20<00:00,  9.40it/s]\n"
     ]
    },
    {
     "name": "stdout",
     "output_type": "stream",
     "text": [
      "{'val_loss': 3.3474303933809386, 'val_accuracy': 0.47013601419278533, 'precision': 0.22102787184107886, 'recall': 0.47013601419278533, 'f1-score': 0.30069037110479835, 'macro_f1-score': 0.012791633145615447, 'balanced_accuracy': 0.02, 'mcc': 0.0, 'train_loss': 3.6164946170736707}\n",
      "Epoch 2/20\n"
     ]
    },
    {
     "name": "stderr",
     "output_type": "stream",
     "text": [
      "100%|██████████| 761/761 [01:20<00:00,  9.40it/s]\n"
     ]
    },
    {
     "name": "stdout",
     "output_type": "stream",
     "text": [
      "{'val_loss': 3.066146337761069, 'val_accuracy': 0.47013601419278533, 'precision': 0.22102787184107886, 'recall': 0.47013601419278533, 'f1-score': 0.30069037110479835, 'macro_f1-score': 0.012791633145615447, 'balanced_accuracy': 0.02, 'mcc': 0.0, 'train_loss': 3.6744202204665437}\n",
      "Epoch 3/20\n"
     ]
    },
    {
     "name": "stderr",
     "output_type": "stream",
     "text": [
      "100%|██████████| 761/761 [01:21<00:00,  9.38it/s]\n"
     ]
    },
    {
     "name": "stdout",
     "output_type": "stream",
     "text": [
      "{'val_loss': 3.0517570140226833, 'val_accuracy': 0.47013601419278533, 'precision': 0.22102787184107886, 'recall': 0.47013601419278533, 'f1-score': 0.30069037110479835, 'macro_f1-score': 0.012791633145615447, 'balanced_accuracy': 0.02, 'mcc': 0.0, 'train_loss': 3.7092593355341745}\n",
      "Epoch 4/20\n"
     ]
    },
    {
     "name": "stderr",
     "output_type": "stream",
     "text": [
      "100%|██████████| 761/761 [01:21<00:00,  9.38it/s]\n"
     ]
    },
    {
     "name": "stdout",
     "output_type": "stream",
     "text": [
      "{'val_loss': 3.053941162127369, 'val_accuracy': 0.47013601419278533, 'precision': 0.22102787184107886, 'recall': 0.47013601419278533, 'f1-score': 0.30069037110479835, 'macro_f1-score': 0.012791633145615447, 'balanced_accuracy': 0.02, 'mcc': 0.0, 'train_loss': 3.703899981627796}\n",
      "Early stopping.\n",
      "\n",
      "[Fold 4]\n",
      "Label distribution after resampling:\n",
      "  label 0: 2000\n",
      "  label 1: 200\n",
      "  label 2: 200\n",
      "  label 3: 200\n",
      "  label 4: 206\n",
      "  label 5: 200\n",
      "  label 6: 200\n",
      "  label 7: 200\n",
      "  label 8: 200\n",
      "  label 9: 200\n",
      "  label 10: 200\n",
      "  label 11: 200\n",
      "  label 12: 200\n",
      "  label 13: 200\n",
      "  label 14: 200\n",
      "  label 15: 200\n",
      "  label 16: 200\n",
      "  label 17: 232\n",
      "  label 18: 200\n",
      "  label 19: 200\n",
      "  label 20: 200\n",
      "  label 21: 200\n",
      "  label 22: 200\n",
      "  label 23: 200\n",
      "  label 24: 200\n",
      "  label 25: 200\n",
      "  label 26: 200\n",
      "  label 27: 200\n",
      "  label 28: 200\n",
      "  label 29: 200\n",
      "  label 30: 200\n",
      "  label 31: 200\n",
      "  label 32: 200\n",
      "  label 33: 200\n",
      "  label 34: 200\n",
      "  label 35: 200\n",
      "  label 36: 200\n",
      "  label 37: 200\n",
      "  label 38: 200\n",
      "  label 39: 200\n",
      "  label 40: 200\n",
      "  label 41: 200\n",
      "  label 42: 200\n",
      "  label 43: 200\n",
      "  label 44: 200\n",
      "  label 45: 200\n",
      "  label 46: 200\n",
      "  label 47: 529\n",
      "  label 48: 201\n",
      "  label 49: 200\n",
      "model is microsoft/deberta-base cnn2filter234drop5\n",
      "Epoch 1/20\n"
     ]
    },
    {
     "name": "stderr",
     "output_type": "stream",
     "text": [
      "100%|██████████| 761/761 [01:21<00:00,  9.39it/s]\n"
     ]
    },
    {
     "name": "stdout",
     "output_type": "stream",
     "text": [
      "{'val_loss': 1.7975680113963362, 'val_accuracy': 0.5588409225310467, 'precision': 0.450389991021139, 'recall': 0.5588409225310467, 'f1-score': 0.48557326721791805, 'macro_f1-score': 0.16609506679258929, 'balanced_accuracy': 0.22993149110626768, 'mcc': 0.398608522724419, 'train_loss': 3.095656329166247}\n",
      "Epoch 2/20\n"
     ]
    },
    {
     "name": "stderr",
     "output_type": "stream",
     "text": [
      "100%|██████████| 761/761 [01:20<00:00,  9.40it/s]\n"
     ]
    },
    {
     "name": "stdout",
     "output_type": "stream",
     "text": [
      "{'val_loss': 1.4819682361382358, 'val_accuracy': 0.6002365464222353, 'precision': 0.5965194763139935, 'recall': 0.6002365464222353, 'f1-score': 0.5727352198967208, 'macro_f1-score': 0.3146006896110349, 'balanced_accuracy': 0.38483006083083965, 'mcc': 0.47752203181826475, 'train_loss': 1.7599996564109441}\n",
      "Epoch 3/20\n"
     ]
    },
    {
     "name": "stderr",
     "output_type": "stream",
     "text": [
      "100%|██████████| 761/761 [01:21<00:00,  9.38it/s]\n"
     ]
    },
    {
     "name": "stdout",
     "output_type": "stream",
     "text": [
      "{'val_loss': 1.5431200608892262, 'val_accuracy': 0.5807214665878179, 'precision': 0.6253701591029521, 'recall': 0.5807214665878179, 'f1-score': 0.5841208505922454, 'macro_f1-score': 0.36980121167252067, 'balanced_accuracy': 0.43689113027470045, 'mcc': 0.46937473811177677, 'train_loss': 1.0826589949575893}\n",
      "Epoch 4/20\n"
     ]
    },
    {
     "name": "stderr",
     "output_type": "stream",
     "text": [
      "100%|██████████| 761/761 [01:21<00:00,  9.39it/s]\n"
     ]
    },
    {
     "name": "stdout",
     "output_type": "stream",
     "text": [
      "{'val_loss': 1.5026622684496753, 'val_accuracy': 0.6439976345357776, 'precision': 0.6267059383421594, 'recall': 0.6439976345357776, 'f1-score': 0.6261605965290588, 'macro_f1-score': 0.3861168592325887, 'balanced_accuracy': 0.41656580205851584, 'mcc': 0.5290950465438672, 'train_loss': 0.7225845788413372}\n",
      "Epoch 5/20\n"
     ]
    },
    {
     "name": "stderr",
     "output_type": "stream",
     "text": [
      "100%|██████████| 761/761 [01:21<00:00,  9.39it/s]\n"
     ]
    },
    {
     "name": "stdout",
     "output_type": "stream",
     "text": [
      "{'val_loss': 1.4744004990975812, 'val_accuracy': 0.6658781785925488, 'precision': 0.665949619842053, 'recall': 0.6658781785925488, 'f1-score': 0.649475379626631, 'macro_f1-score': 0.43116865855688613, 'balanced_accuracy': 0.4556148250273159, 'mcc': 0.5598739262474923, 'train_loss': 0.5615645296108002}\n",
      "Epoch 6/20\n"
     ]
    },
    {
     "name": "stderr",
     "output_type": "stream",
     "text": [
      "100%|██████████| 761/761 [01:20<00:00,  9.40it/s]\n"
     ]
    },
    {
     "name": "stdout",
     "output_type": "stream",
     "text": [
      "{'val_loss': 1.483338990863764, 'val_accuracy': 0.6593731519810763, 'precision': 0.6701750708023051, 'recall': 0.6593731519810763, 'f1-score': 0.6499711968959324, 'macro_f1-score': 0.4338085190668843, 'balanced_accuracy': 0.45480070357501395, 'mcc': 0.553355112320748, 'train_loss': 0.4733606478843089}\n",
      "Epoch 7/20\n"
     ]
    },
    {
     "name": "stderr",
     "output_type": "stream",
     "text": [
      "100%|██████████| 761/761 [01:21<00:00,  9.39it/s]\n"
     ]
    },
    {
     "name": "stdout",
     "output_type": "stream",
     "text": [
      "{'val_loss': 1.6330761141934484, 'val_accuracy': 0.6522767593140154, 'precision': 0.6729849458140749, 'recall': 0.6522767593140154, 'f1-score': 0.6511970860947003, 'macro_f1-score': 0.4096481042054886, 'balanced_accuracy': 0.44538279626486604, 'mcc': 0.5535583429753081, 'train_loss': 0.37087180225959393}\n",
      "Epoch 8/20\n"
     ]
    },
    {
     "name": "stderr",
     "output_type": "stream",
     "text": [
      "100%|██████████| 761/761 [01:21<00:00,  9.39it/s]\n"
     ]
    },
    {
     "name": "stdout",
     "output_type": "stream",
     "text": [
      "{'val_loss': 1.8086303372709256, 'val_accuracy': 0.6552335895919574, 'precision': 0.6633935751534417, 'recall': 0.6552335895919574, 'f1-score': 0.6428451030693044, 'macro_f1-score': 0.41209914730714575, 'balanced_accuracy': 0.409391496094755, 'mcc': 0.5479400095440218, 'train_loss': 0.35280511700199446}\n",
      "Epoch 9/20\n"
     ]
    },
    {
     "name": "stderr",
     "output_type": "stream",
     "text": [
      "100%|██████████| 761/761 [01:21<00:00,  9.38it/s]\n"
     ]
    },
    {
     "name": "stdout",
     "output_type": "stream",
     "text": [
      "{'val_loss': 1.7498525274249743, 'val_accuracy': 0.6510940272028386, 'precision': 0.6816562131856913, 'recall': 0.6510940272028386, 'f1-score': 0.6549931492766893, 'macro_f1-score': 0.4182394117584203, 'balanced_accuracy': 0.45833534580531404, 'mcc': 0.5561221144639622, 'train_loss': 0.32181469928081613}\n",
      "Early stopping.\n",
      "\n",
      "[Fold 5]\n",
      "Label distribution after resampling:\n",
      "  label 0: 2000\n",
      "  label 1: 200\n",
      "  label 2: 200\n",
      "  label 3: 200\n",
      "  label 4: 205\n",
      "  label 5: 200\n",
      "  label 6: 200\n",
      "  label 7: 200\n",
      "  label 8: 200\n",
      "  label 9: 200\n",
      "  label 10: 200\n",
      "  label 11: 200\n",
      "  label 12: 200\n",
      "  label 13: 200\n",
      "  label 14: 200\n",
      "  label 15: 200\n",
      "  label 16: 200\n",
      "  label 17: 231\n",
      "  label 18: 200\n",
      "  label 19: 200\n",
      "  label 20: 200\n",
      "  label 21: 200\n",
      "  label 22: 200\n",
      "  label 23: 200\n",
      "  label 24: 200\n",
      "  label 25: 200\n",
      "  label 26: 200\n",
      "  label 27: 200\n",
      "  label 28: 200\n",
      "  label 29: 200\n",
      "  label 30: 200\n",
      "  label 31: 200\n",
      "  label 32: 200\n",
      "  label 33: 200\n",
      "  label 34: 200\n",
      "  label 35: 200\n",
      "  label 36: 200\n",
      "  label 37: 200\n",
      "  label 38: 200\n",
      "  label 39: 200\n",
      "  label 40: 200\n",
      "  label 41: 200\n",
      "  label 42: 200\n",
      "  label 43: 200\n",
      "  label 44: 200\n",
      "  label 45: 200\n",
      "  label 46: 200\n",
      "  label 47: 529\n",
      "  label 48: 202\n",
      "  label 49: 200\n",
      "model is microsoft/deberta-base cnn2filter234drop5\n",
      "Epoch 1/20\n"
     ]
    },
    {
     "name": "stderr",
     "output_type": "stream",
     "text": [
      "100%|██████████| 761/761 [01:21<00:00,  9.39it/s]\n"
     ]
    },
    {
     "name": "stdout",
     "output_type": "stream",
     "text": [
      "{'val_loss': 1.959983080063226, 'val_accuracy': 0.527810650887574, 'precision': 0.4533316021439865, 'recall': 0.527810650887574, 'f1-score': 0.4637102907451416, 'macro_f1-score': 0.08657830231805425, 'balanced_accuracy': 0.11907628352281954, 'mcc': 0.35353719514779464, 'train_loss': 3.170553845582278}\n",
      "Epoch 2/20\n"
     ]
    },
    {
     "name": "stderr",
     "output_type": "stream",
     "text": [
      "100%|██████████| 761/761 [01:21<00:00,  9.40it/s]\n"
     ]
    },
    {
     "name": "stdout",
     "output_type": "stream",
     "text": [
      "{'val_loss': 1.673533930531088, 'val_accuracy': 0.557396449704142, 'precision': 0.5284903691278293, 'recall': 0.557396449704142, 'f1-score': 0.5121030229996806, 'macro_f1-score': 0.1861726667839986, 'balanced_accuracy': 0.2469449086356159, 'mcc': 0.41016361921776817, 'train_loss': 2.271017645567695}\n",
      "Epoch 3/20\n"
     ]
    },
    {
     "name": "stderr",
     "output_type": "stream",
     "text": [
      "100%|██████████| 761/761 [01:21<00:00,  9.39it/s]\n"
     ]
    },
    {
     "name": "stdout",
     "output_type": "stream",
     "text": [
      "{'val_loss': 1.6603571260875125, 'val_accuracy': 0.5644970414201184, 'precision': 0.62774891911631, 'recall': 0.5644970414201184, 'f1-score': 0.5713526371440371, 'macro_f1-score': 0.2720151312087417, 'balanced_accuracy': 0.30520376195058596, 'mcc': 0.4509653709338337, 'train_loss': 1.463317520710861}\n",
      "Epoch 4/20\n"
     ]
    },
    {
     "name": "stderr",
     "output_type": "stream",
     "text": [
      "100%|██████████| 761/761 [01:21<00:00,  9.38it/s]\n"
     ]
    },
    {
     "name": "stdout",
     "output_type": "stream",
     "text": [
      "{'val_loss': 1.6117282734726959, 'val_accuracy': 0.6136094674556213, 'precision': 0.6227629497627342, 'recall': 0.6136094674556213, 'f1-score': 0.6056523807845006, 'macro_f1-score': 0.3029984068360748, 'balanced_accuracy': 0.3222766762198577, 'mcc': 0.49371391738358705, 'train_loss': 0.9450431351161974}\n",
      "Epoch 5/20\n"
     ]
    },
    {
     "name": "stderr",
     "output_type": "stream",
     "text": [
      "100%|██████████| 761/761 [01:20<00:00,  9.40it/s]\n"
     ]
    },
    {
     "name": "stdout",
     "output_type": "stream",
     "text": [
      "{'val_loss': 1.5366616729857787, 'val_accuracy': 0.6349112426035503, 'precision': 0.6660316126480021, 'recall': 0.6349112426035503, 'f1-score': 0.6273439918293913, 'macro_f1-score': 0.3467927735675045, 'balanced_accuracy': 0.3580086377014271, 'mcc': 0.5198909313276021, 'train_loss': 0.7025651752792113}\n",
      "Epoch 6/20\n"
     ]
    },
    {
     "name": "stderr",
     "output_type": "stream",
     "text": [
      "100%|██████████| 761/761 [01:20<00:00,  9.41it/s]\n"
     ]
    },
    {
     "name": "stdout",
     "output_type": "stream",
     "text": [
      "{'val_loss': 1.6960019899426766, 'val_accuracy': 0.6224852071005917, 'precision': 0.6415968263124916, 'recall': 0.6224852071005917, 'f1-score': 0.6179481919258988, 'macro_f1-score': 0.32764740077296806, 'balanced_accuracy': 0.3466652298890029, 'mcc': 0.5128938785255813, 'train_loss': 0.5192385193073091}\n",
      "Epoch 7/20\n"
     ]
    },
    {
     "name": "stderr",
     "output_type": "stream",
     "text": [
      "100%|██████████| 761/761 [01:21<00:00,  9.37it/s]\n"
     ]
    },
    {
     "name": "stdout",
     "output_type": "stream",
     "text": [
      "{'val_loss': 1.8396126178075682, 'val_accuracy': 0.6059171597633136, 'precision': 0.6513093570469148, 'recall': 0.6059171597633136, 'f1-score': 0.6112700336110924, 'macro_f1-score': 0.32879671569434954, 'balanced_accuracy': 0.34693328406774965, 'mcc': 0.49782033833200773, 'train_loss': 0.44730252001566734}\n",
      "Epoch 8/20\n"
     ]
    },
    {
     "name": "stderr",
     "output_type": "stream",
     "text": [
      "100%|██████████| 761/761 [01:21<00:00,  9.39it/s]\n"
     ]
    },
    {
     "name": "stdout",
     "output_type": "stream",
     "text": [
      "{'val_loss': 1.8104503170218107, 'val_accuracy': 0.6343195266272189, 'precision': 0.658310204353716, 'recall': 0.6343195266272189, 'f1-score': 0.6342326121312968, 'macro_f1-score': 0.3793188879735151, 'balanced_accuracy': 0.3786082077268006, 'mcc': 0.5241666501588239, 'train_loss': 0.37454200736228643}\n",
      "Epoch 9/20\n"
     ]
    },
    {
     "name": "stderr",
     "output_type": "stream",
     "text": [
      "100%|██████████| 761/761 [01:20<00:00,  9.40it/s]\n"
     ]
    },
    {
     "name": "stdout",
     "output_type": "stream",
     "text": [
      "{'val_loss': 1.9472707664629199, 'val_accuracy': 0.6147928994082841, 'precision': 0.652071381956841, 'recall': 0.6147928994082841, 'f1-score': 0.6216086233366185, 'macro_f1-score': 0.35501852485520374, 'balanced_accuracy': 0.38149650031342547, 'mcc': 0.5168395513178748, 'train_loss': 0.32146667421620423}\n",
      "Epoch 10/20\n"
     ]
    },
    {
     "name": "stderr",
     "output_type": "stream",
     "text": [
      "100%|██████████| 761/761 [01:20<00:00,  9.41it/s]\n"
     ]
    },
    {
     "name": "stdout",
     "output_type": "stream",
     "text": [
      "{'val_loss': 1.9258948131552283, 'val_accuracy': 0.6289940828402367, 'precision': 0.6562247601193418, 'recall': 0.6289940828402367, 'f1-score': 0.6343276393543754, 'macro_f1-score': 0.38460186912044286, 'balanced_accuracy': 0.41007568540976147, 'mcc': 0.527070059323206, 'train_loss': 0.42587834853879647}\n",
      "Epoch 11/20\n"
     ]
    },
    {
     "name": "stderr",
     "output_type": "stream",
     "text": [
      "100%|██████████| 761/761 [01:21<00:00,  9.38it/s]\n"
     ]
    },
    {
     "name": "stdout",
     "output_type": "stream",
     "text": [
      "{'val_loss': 2.1312866240458668, 'val_accuracy': 0.6331360946745562, 'precision': 0.6614073635507729, 'recall': 0.6331360946745562, 'f1-score': 0.6344664721309795, 'macro_f1-score': 0.3733095616648031, 'balanced_accuracy': 0.38337751937555103, 'mcc': 0.5297493096362389, 'train_loss': 0.31228684034331916}\n",
      "Epoch 12/20\n"
     ]
    },
    {
     "name": "stderr",
     "output_type": "stream",
     "text": [
      "100%|██████████| 761/761 [01:21<00:00,  9.38it/s]\n"
     ]
    },
    {
     "name": "stdout",
     "output_type": "stream",
     "text": [
      "{'val_loss': 2.0793618500795006, 'val_accuracy': 0.6431952662721894, 'precision': 0.6630943544864958, 'recall': 0.6431952662721894, 'f1-score': 0.6433068573122788, 'macro_f1-score': 0.36883362542100256, 'balanced_accuracy': 0.3881313418864903, 'mcc': 0.5433580088505012, 'train_loss': 0.2627899508437438}\n",
      "Epoch 13/20\n"
     ]
    },
    {
     "name": "stderr",
     "output_type": "stream",
     "text": [
      "100%|██████████| 761/761 [01:20<00:00,  9.40it/s]\n"
     ]
    },
    {
     "name": "stdout",
     "output_type": "stream",
     "text": [
      "{'val_loss': 2.1884154604291015, 'val_accuracy': 0.6112426035502958, 'precision': 0.6706884380055841, 'recall': 0.6112426035502958, 'f1-score': 0.6235839058916044, 'macro_f1-score': 0.37964392526818896, 'balanced_accuracy': 0.4135067682484366, 'mcc': 0.5177636342542734, 'train_loss': 0.24070494217429747}\n",
      "Early stopping.\n",
      "\n",
      " === microsoft/deberta-base + cnn2filter234drop5 + ros Final 5-fold Cross-Validation Results ===\n",
      "Total time: 3770 seconds\n",
      "Total time: 1 hrs 2 mins 50 secs\n",
      "val_loss: 2.0219\n",
      "val_accuracy: 0.6018\n",
      "precision: 0.5752\n",
      "recall: 0.6018\n",
      "f1-score: 0.5702\n",
      "macro_f1-score: 0.3212\n",
      "balanced_accuracy: 0.3433\n",
      "mcc: 0.4252\n",
      "train_loss: 1.1106\n",
      "▶ Running: microsoft/deberta-base + cnn2filter345drop3 + ros\n",
      "tokenizer is microsoft/deberta-base\n",
      "Using device: cuda\n",
      "CUDA Available: True\n",
      "CUDA Device: NVIDIA GeForce RTX 5070 Ti\n",
      "Current GPU Memory Allocated: 0.02 GB\n",
      "Current GPU Memory Cached: 5.15 GB\n",
      "\n",
      "[Fold 1]\n",
      "Label distribution after resampling:\n",
      "  label 0: 2000\n",
      "  label 1: 200\n",
      "  label 2: 200\n",
      "  label 3: 200\n",
      "  label 4: 205\n",
      "  label 5: 200\n",
      "  label 6: 200\n",
      "  label 7: 200\n",
      "  label 8: 200\n",
      "  label 9: 200\n",
      "  label 10: 200\n",
      "  label 11: 200\n",
      "  label 12: 200\n",
      "  label 13: 200\n",
      "  label 14: 200\n",
      "  label 15: 200\n",
      "  label 16: 200\n",
      "  label 17: 231\n",
      "  label 18: 200\n",
      "  label 19: 200\n",
      "  label 20: 200\n",
      "  label 21: 200\n",
      "  label 22: 200\n",
      "  label 23: 200\n",
      "  label 24: 200\n",
      "  label 25: 200\n",
      "  label 26: 200\n",
      "  label 27: 200\n",
      "  label 28: 200\n",
      "  label 29: 200\n",
      "  label 30: 200\n",
      "  label 31: 200\n",
      "  label 32: 200\n",
      "  label 33: 200\n",
      "  label 34: 200\n",
      "  label 35: 200\n",
      "  label 36: 200\n",
      "  label 37: 200\n",
      "  label 38: 200\n",
      "  label 39: 200\n",
      "  label 40: 200\n",
      "  label 41: 200\n",
      "  label 42: 200\n",
      "  label 43: 200\n",
      "  label 44: 200\n",
      "  label 45: 200\n",
      "  label 46: 200\n",
      "  label 47: 529\n",
      "  label 48: 202\n",
      "  label 49: 200\n",
      "model is microsoft/deberta-base cnn2filter345drop3\n",
      "Epoch 1/20\n"
     ]
    },
    {
     "name": "stderr",
     "output_type": "stream",
     "text": [
      "100%|██████████| 761/761 [01:21<00:00,  9.37it/s]\n"
     ]
    },
    {
     "name": "stdout",
     "output_type": "stream",
     "text": [
      "{'val_loss': 1.7402893366678707, 'val_accuracy': 0.5280898876404494, 'precision': 0.5371227259929425, 'recall': 0.5280898876404494, 'f1-score': 0.49076791084025834, 'macro_f1-score': 0.20229768403928713, 'balanced_accuracy': 0.3128038807859419, 'mcc': 0.3753341730238334, 'train_loss': 2.8519063143159964}\n",
      "Epoch 2/20\n"
     ]
    },
    {
     "name": "stderr",
     "output_type": "stream",
     "text": [
      "100%|██████████| 761/761 [01:21<00:00,  9.36it/s]\n"
     ]
    },
    {
     "name": "stdout",
     "output_type": "stream",
     "text": [
      "{'val_loss': 1.5059389072769094, 'val_accuracy': 0.5824955647545831, 'precision': 0.6265495529028389, 'recall': 0.5824955647545831, 'f1-score': 0.5812402928252718, 'macro_f1-score': 0.30799348153953526, 'balanced_accuracy': 0.3735894242065396, 'mcc': 0.46337235595753856, 'train_loss': 1.4376484676118593}\n",
      "Epoch 3/20\n"
     ]
    },
    {
     "name": "stderr",
     "output_type": "stream",
     "text": [
      "100%|██████████| 761/761 [01:21<00:00,  9.36it/s]\n"
     ]
    },
    {
     "name": "stdout",
     "output_type": "stream",
     "text": [
      "{'val_loss': 1.4521496256567397, 'val_accuracy': 0.6250739207569486, 'precision': 0.6483900427440972, 'recall': 0.6250739207569486, 'f1-score': 0.6137868515500201, 'macro_f1-score': 0.368207181556392, 'balanced_accuracy': 0.4143881975904886, 'mcc': 0.5082186099088937, 'train_loss': 0.8246830453736397}\n",
      "Epoch 4/20\n"
     ]
    },
    {
     "name": "stderr",
     "output_type": "stream",
     "text": [
      "100%|██████████| 761/761 [01:21<00:00,  9.36it/s]\n"
     ]
    },
    {
     "name": "stdout",
     "output_type": "stream",
     "text": [
      "{'val_loss': 1.5248184032597631, 'val_accuracy': 0.622708456534595, 'precision': 0.6485674887406288, 'recall': 0.622708456534595, 'f1-score': 0.6218184251699647, 'macro_f1-score': 0.3530038363431647, 'balanced_accuracy': 0.3728290726110026, 'mcc': 0.5094893482563135, 'train_loss': 0.5637246309320654}\n",
      "Epoch 5/20\n"
     ]
    },
    {
     "name": "stderr",
     "output_type": "stream",
     "text": [
      "100%|██████████| 761/761 [01:21<00:00,  9.37it/s]\n"
     ]
    },
    {
     "name": "stdout",
     "output_type": "stream",
     "text": [
      "{'val_loss': 1.615030105946199, 'val_accuracy': 0.654642223536369, 'precision': 0.6549245129157021, 'recall': 0.654642223536369, 'f1-score': 0.6417552064009375, 'macro_f1-score': 0.37745115285404574, 'balanced_accuracy': 0.3731759658713568, 'mcc': 0.5412089849663712, 'train_loss': 0.46790715620538487}\n",
      "Epoch 6/20\n"
     ]
    },
    {
     "name": "stderr",
     "output_type": "stream",
     "text": [
      "100%|██████████| 761/761 [01:21<00:00,  9.36it/s]\n"
     ]
    },
    {
     "name": "stdout",
     "output_type": "stream",
     "text": [
      "{'val_loss': 1.7180611046980012, 'val_accuracy': 0.6002365464222353, 'precision': 0.6327359574868963, 'recall': 0.6002365464222353, 'f1-score': 0.6052248246272078, 'macro_f1-score': 0.3613656570756031, 'balanced_accuracy': 0.4030860077469706, 'mcc': 0.49374775001975385, 'train_loss': 0.4356863744968105}\n",
      "Epoch 7/20\n"
     ]
    },
    {
     "name": "stderr",
     "output_type": "stream",
     "text": [
      "100%|██████████| 761/761 [01:21<00:00,  9.36it/s]\n"
     ]
    },
    {
     "name": "stdout",
     "output_type": "stream",
     "text": [
      "{'val_loss': 1.9025677175454374, 'val_accuracy': 0.6197516262566529, 'precision': 0.6614891173889108, 'recall': 0.6197516262566529, 'f1-score': 0.6285754876346352, 'macro_f1-score': 0.3773668248876893, 'balanced_accuracy': 0.3871538321322492, 'mcc': 0.5165332974126193, 'train_loss': 0.32689889827461693}\n",
      "Epoch 8/20\n"
     ]
    },
    {
     "name": "stderr",
     "output_type": "stream",
     "text": [
      "100%|██████████| 761/761 [01:21<00:00,  9.35it/s]\n"
     ]
    },
    {
     "name": "stdout",
     "output_type": "stream",
     "text": [
      "{'val_loss': 1.9243909819227345, 'val_accuracy': 0.6309875813128326, 'precision': 0.6464851054814804, 'recall': 0.6309875813128326, 'f1-score': 0.6296003846568303, 'macro_f1-score': 0.3576441771498773, 'balanced_accuracy': 0.3734131171467673, 'mcc': 0.5207221442566967, 'train_loss': 0.3038972387440336}\n",
      "Early stopping.\n",
      "\n",
      "[Fold 2]\n",
      "Label distribution after resampling:\n",
      "  label 0: 2000\n",
      "  label 1: 200\n",
      "  label 2: 200\n",
      "  label 3: 200\n",
      "  label 4: 206\n",
      "  label 5: 200\n",
      "  label 6: 200\n",
      "  label 7: 200\n",
      "  label 8: 200\n",
      "  label 9: 200\n",
      "  label 10: 200\n",
      "  label 11: 200\n",
      "  label 12: 200\n",
      "  label 13: 200\n",
      "  label 14: 200\n",
      "  label 15: 200\n",
      "  label 16: 200\n",
      "  label 17: 231\n",
      "  label 18: 200\n",
      "  label 19: 200\n",
      "  label 20: 200\n",
      "  label 21: 200\n",
      "  label 22: 200\n",
      "  label 23: 200\n",
      "  label 24: 200\n",
      "  label 25: 200\n",
      "  label 26: 200\n",
      "  label 27: 200\n",
      "  label 28: 200\n",
      "  label 29: 200\n",
      "  label 30: 200\n",
      "  label 31: 200\n",
      "  label 32: 200\n",
      "  label 33: 200\n",
      "  label 34: 200\n",
      "  label 35: 200\n",
      "  label 36: 200\n",
      "  label 37: 200\n",
      "  label 38: 200\n",
      "  label 39: 200\n",
      "  label 40: 200\n",
      "  label 41: 200\n",
      "  label 42: 200\n",
      "  label 43: 200\n",
      "  label 44: 200\n",
      "  label 45: 200\n",
      "  label 46: 200\n",
      "  label 47: 528\n",
      "  label 48: 202\n",
      "  label 49: 200\n",
      "model is microsoft/deberta-base cnn2filter345drop3\n",
      "Epoch 1/20\n"
     ]
    },
    {
     "name": "stderr",
     "output_type": "stream",
     "text": [
      "100%|██████████| 761/761 [01:21<00:00,  9.36it/s]\n"
     ]
    },
    {
     "name": "stdout",
     "output_type": "stream",
     "text": [
      "{'val_loss': 3.3573368922719418, 'val_accuracy': 0.47013601419278533, 'precision': 0.22102787184107886, 'recall': 0.47013601419278533, 'f1-score': 0.30069037110479835, 'macro_f1-score': 0.012791633145615447, 'balanced_accuracy': 0.02, 'mcc': 0.0, 'train_loss': 3.4860134005703216}\n",
      "Epoch 2/20\n"
     ]
    },
    {
     "name": "stderr",
     "output_type": "stream",
     "text": [
      "100%|██████████| 761/761 [01:21<00:00,  9.36it/s]\n"
     ]
    },
    {
     "name": "stdout",
     "output_type": "stream",
     "text": [
      "{'val_loss': 3.39324348827578, 'val_accuracy': 0.47013601419278533, 'precision': 0.22102787184107886, 'recall': 0.47013601419278533, 'f1-score': 0.30069037110479835, 'macro_f1-score': 0.012791633145615447, 'balanced_accuracy': 0.02, 'mcc': 0.0, 'train_loss': 3.7038293520818404}\n",
      "Epoch 3/20\n"
     ]
    },
    {
     "name": "stderr",
     "output_type": "stream",
     "text": [
      "100%|██████████| 761/761 [01:21<00:00,  9.36it/s]\n"
     ]
    },
    {
     "name": "stdout",
     "output_type": "stream",
     "text": [
      "{'val_loss': 3.4906110178749516, 'val_accuracy': 0.47013601419278533, 'precision': 0.22102787184107886, 'recall': 0.47013601419278533, 'f1-score': 0.30069037110479835, 'macro_f1-score': 0.012791633145615447, 'balanced_accuracy': 0.02, 'mcc': 0.0, 'train_loss': 3.6965802148199898}\n",
      "Epoch 4/20\n"
     ]
    },
    {
     "name": "stderr",
     "output_type": "stream",
     "text": [
      "100%|██████████| 761/761 [01:21<00:00,  9.36it/s]\n"
     ]
    },
    {
     "name": "stdout",
     "output_type": "stream",
     "text": [
      "{'val_loss': 3.3984927163933807, 'val_accuracy': 0.47013601419278533, 'precision': 0.22102787184107886, 'recall': 0.47013601419278533, 'f1-score': 0.30069037110479835, 'macro_f1-score': 0.012791633145615447, 'balanced_accuracy': 0.02, 'mcc': 0.0, 'train_loss': 3.667521898442593}\n",
      "Early stopping.\n",
      "\n",
      "[Fold 3]\n",
      "Label distribution after resampling:\n",
      "  label 0: 2000\n",
      "  label 1: 200\n",
      "  label 2: 200\n",
      "  label 3: 200\n",
      "  label 4: 206\n",
      "  label 5: 200\n",
      "  label 6: 200\n",
      "  label 7: 200\n",
      "  label 8: 200\n",
      "  label 9: 200\n",
      "  label 10: 200\n",
      "  label 11: 200\n",
      "  label 12: 200\n",
      "  label 13: 200\n",
      "  label 14: 200\n",
      "  label 15: 200\n",
      "  label 16: 200\n",
      "  label 17: 231\n",
      "  label 18: 200\n",
      "  label 19: 200\n",
      "  label 20: 200\n",
      "  label 21: 200\n",
      "  label 22: 200\n",
      "  label 23: 200\n",
      "  label 24: 200\n",
      "  label 25: 200\n",
      "  label 26: 200\n",
      "  label 27: 200\n",
      "  label 28: 200\n",
      "  label 29: 200\n",
      "  label 30: 200\n",
      "  label 31: 200\n",
      "  label 32: 200\n",
      "  label 33: 200\n",
      "  label 34: 200\n",
      "  label 35: 200\n",
      "  label 36: 200\n",
      "  label 37: 200\n",
      "  label 38: 200\n",
      "  label 39: 200\n",
      "  label 40: 200\n",
      "  label 41: 200\n",
      "  label 42: 200\n",
      "  label 43: 200\n",
      "  label 44: 200\n",
      "  label 45: 200\n",
      "  label 46: 200\n",
      "  label 47: 529\n",
      "  label 48: 201\n",
      "  label 49: 200\n",
      "model is microsoft/deberta-base cnn2filter345drop3\n",
      "Epoch 1/20\n"
     ]
    },
    {
     "name": "stderr",
     "output_type": "stream",
     "text": [
      "100%|██████████| 761/761 [01:21<00:00,  9.36it/s]\n"
     ]
    },
    {
     "name": "stdout",
     "output_type": "stream",
     "text": [
      "{'val_loss': 1.680402086871975, 'val_accuracy': 0.5541099940863394, 'precision': 0.5350822572454955, 'recall': 0.5541099940863394, 'f1-score': 0.5277621180466433, 'macro_f1-score': 0.21093044467097805, 'balanced_accuracy': 0.27073959690143645, 'mcc': 0.4198856945741371, 'train_loss': 2.8537296066146327}\n",
      "Epoch 2/20\n"
     ]
    },
    {
     "name": "stderr",
     "output_type": "stream",
     "text": [
      "100%|██████████| 761/761 [01:21<00:00,  9.37it/s]\n"
     ]
    },
    {
     "name": "stdout",
     "output_type": "stream",
     "text": [
      "{'val_loss': 1.5616854001890939, 'val_accuracy': 0.5748078060319338, 'precision': 0.6070725970409476, 'recall': 0.5748078060319338, 'f1-score': 0.5755789706725524, 'macro_f1-score': 0.2912125952416556, 'balanced_accuracy': 0.35819848471353216, 'mcc': 0.4676636521815194, 'train_loss': 1.3760620950869287}\n",
      "Epoch 3/20\n"
     ]
    },
    {
     "name": "stderr",
     "output_type": "stream",
     "text": [
      "100%|██████████| 761/761 [01:21<00:00,  9.35it/s]\n"
     ]
    },
    {
     "name": "stdout",
     "output_type": "stream",
     "text": [
      "{'val_loss': 1.4828125162507004, 'val_accuracy': 0.6108811354228267, 'precision': 0.6415954298186815, 'recall': 0.6108811354228267, 'f1-score': 0.6115507715241634, 'macro_f1-score': 0.3369832114161966, 'balanced_accuracy': 0.3921217849516775, 'mcc': 0.5115720645742281, 'train_loss': 0.7959013782177272}\n",
      "Epoch 4/20\n"
     ]
    },
    {
     "name": "stderr",
     "output_type": "stream",
     "text": [
      "100%|██████████| 761/761 [01:21<00:00,  9.36it/s]\n"
     ]
    },
    {
     "name": "stdout",
     "output_type": "stream",
     "text": [
      "{'val_loss': 1.4977739290246423, 'val_accuracy': 0.6363098758131284, 'precision': 0.6340829114951063, 'recall': 0.6363098758131284, 'f1-score': 0.62465939292667, 'macro_f1-score': 0.3437248424234094, 'balanced_accuracy': 0.3527648439953024, 'mcc': 0.51770845210786, 'train_loss': 0.5375686044781499}\n",
      "Epoch 5/20\n"
     ]
    },
    {
     "name": "stderr",
     "output_type": "stream",
     "text": [
      "100%|██████████| 761/761 [01:21<00:00,  9.36it/s]\n"
     ]
    },
    {
     "name": "stdout",
     "output_type": "stream",
     "text": [
      "{'val_loss': 1.643422729283009, 'val_accuracy': 0.6404494382022472, 'precision': 0.6463158769137342, 'recall': 0.6404494382022472, 'f1-score': 0.6358611864456432, 'macro_f1-score': 0.3376324774342464, 'balanced_accuracy': 0.3501089047889094, 'mcc': 0.5345200679510259, 'train_loss': 0.40554138878788726}\n",
      "Epoch 6/20\n"
     ]
    },
    {
     "name": "stderr",
     "output_type": "stream",
     "text": [
      "100%|██████████| 761/761 [01:21<00:00,  9.37it/s]\n"
     ]
    },
    {
     "name": "stdout",
     "output_type": "stream",
     "text": [
      "{'val_loss': 1.6866908742571778, 'val_accuracy': 0.6528681253696038, 'precision': 0.6510886898037388, 'recall': 0.6528681253696038, 'f1-score': 0.6432675720132435, 'macro_f1-score': 0.37729631261612956, 'balanced_accuracy': 0.3855838355489521, 'mcc': 0.5410446005730585, 'train_loss': 0.3625134010615657}\n",
      "Epoch 7/20\n"
     ]
    },
    {
     "name": "stderr",
     "output_type": "stream",
     "text": [
      "100%|██████████| 761/761 [01:21<00:00,  9.35it/s]\n"
     ]
    },
    {
     "name": "stdout",
     "output_type": "stream",
     "text": [
      "{'val_loss': 1.8438549235744297, 'val_accuracy': 0.6410408042578356, 'precision': 0.6705715685424016, 'recall': 0.6410408042578356, 'f1-score': 0.6331175818162761, 'macro_f1-score': 0.367603686669897, 'balanced_accuracy': 0.38797996156043796, 'mcc': 0.534941480477307, 'train_loss': 0.2982311044279951}\n",
      "Epoch 8/20\n"
     ]
    },
    {
     "name": "stderr",
     "output_type": "stream",
     "text": [
      "100%|██████████| 761/761 [01:21<00:00,  9.36it/s]\n"
     ]
    },
    {
     "name": "stdout",
     "output_type": "stream",
     "text": [
      "{'val_loss': 1.9236902729520258, 'val_accuracy': 0.6345357776463632, 'precision': 0.6544844419592722, 'recall': 0.6345357776463632, 'f1-score': 0.6247083426701853, 'macro_f1-score': 0.35564397326870184, 'balanced_accuracy': 0.3743285184433297, 'mcc': 0.524135506145438, 'train_loss': 0.28775308425042595}\n",
      "Epoch 9/20\n"
     ]
    },
    {
     "name": "stderr",
     "output_type": "stream",
     "text": [
      "100%|██████████| 761/761 [01:21<00:00,  9.37it/s]\n"
     ]
    },
    {
     "name": "stdout",
     "output_type": "stream",
     "text": [
      "{'val_loss': 1.9638598988640983, 'val_accuracy': 0.6374926079243052, 'precision': 0.6620949622997185, 'recall': 0.6374926079243052, 'f1-score': 0.6414647103512396, 'macro_f1-score': 0.4047903357230938, 'balanced_accuracy': 0.4312842030627539, 'mcc': 0.5412981017300377, 'train_loss': 0.30926283823911216}\n",
      "Epoch 10/20\n"
     ]
    },
    {
     "name": "stderr",
     "output_type": "stream",
     "text": [
      "100%|██████████| 761/761 [01:21<00:00,  9.37it/s]\n"
     ]
    },
    {
     "name": "stdout",
     "output_type": "stream",
     "text": [
      "{'val_loss': 1.8189644844464536, 'val_accuracy': 0.6422235363690124, 'precision': 0.6547924254428736, 'recall': 0.6422235363690124, 'f1-score': 0.6375358491701806, 'macro_f1-score': 0.35125056164305635, 'balanced_accuracy': 0.3636341291081175, 'mcc': 0.5365279025843683, 'train_loss': 0.24574376988615082}\n",
      "Epoch 11/20\n"
     ]
    },
    {
     "name": "stderr",
     "output_type": "stream",
     "text": [
      "100%|██████████| 761/761 [01:21<00:00,  9.36it/s]\n"
     ]
    },
    {
     "name": "stdout",
     "output_type": "stream",
     "text": [
      "{'val_loss': 2.0871466347631418, 'val_accuracy': 0.6351271437019516, 'precision': 0.648809522905229, 'recall': 0.6351271437019516, 'f1-score': 0.6298991883485985, 'macro_f1-score': 0.37835518011615343, 'balanced_accuracy': 0.4032143465981002, 'mcc': 0.5300363958884551, 'train_loss': 0.22667411604954932}\n",
      "Epoch 12/20\n"
     ]
    },
    {
     "name": "stderr",
     "output_type": "stream",
     "text": [
      "100%|██████████| 761/761 [01:21<00:00,  9.35it/s]\n"
     ]
    },
    {
     "name": "stdout",
     "output_type": "stream",
     "text": [
      "{'val_loss': 1.9819555603108316, 'val_accuracy': 0.6522767593140154, 'precision': 0.6560813312032374, 'recall': 0.6522767593140154, 'f1-score': 0.6433080358323859, 'macro_f1-score': 0.35605904595424753, 'balanced_accuracy': 0.37685026586341425, 'mcc': 0.5452595285540557, 'train_loss': 0.24099419836497055}\n",
      "Early stopping.\n",
      "\n",
      "[Fold 4]\n",
      "Label distribution after resampling:\n",
      "  label 0: 2000\n",
      "  label 1: 200\n",
      "  label 2: 200\n",
      "  label 3: 200\n",
      "  label 4: 206\n",
      "  label 5: 200\n",
      "  label 6: 200\n",
      "  label 7: 200\n",
      "  label 8: 200\n",
      "  label 9: 200\n",
      "  label 10: 200\n",
      "  label 11: 200\n",
      "  label 12: 200\n",
      "  label 13: 200\n",
      "  label 14: 200\n",
      "  label 15: 200\n",
      "  label 16: 200\n",
      "  label 17: 232\n",
      "  label 18: 200\n",
      "  label 19: 200\n",
      "  label 20: 200\n",
      "  label 21: 200\n",
      "  label 22: 200\n",
      "  label 23: 200\n",
      "  label 24: 200\n",
      "  label 25: 200\n",
      "  label 26: 200\n",
      "  label 27: 200\n",
      "  label 28: 200\n",
      "  label 29: 200\n",
      "  label 30: 200\n",
      "  label 31: 200\n",
      "  label 32: 200\n",
      "  label 33: 200\n",
      "  label 34: 200\n",
      "  label 35: 200\n",
      "  label 36: 200\n",
      "  label 37: 200\n",
      "  label 38: 200\n",
      "  label 39: 200\n",
      "  label 40: 200\n",
      "  label 41: 200\n",
      "  label 42: 200\n",
      "  label 43: 200\n",
      "  label 44: 200\n",
      "  label 45: 200\n",
      "  label 46: 200\n",
      "  label 47: 529\n",
      "  label 48: 201\n",
      "  label 49: 200\n",
      "model is microsoft/deberta-base cnn2filter345drop3\n",
      "Epoch 1/20\n"
     ]
    },
    {
     "name": "stderr",
     "output_type": "stream",
     "text": [
      "100%|██████████| 761/761 [01:21<00:00,  9.36it/s]\n"
     ]
    },
    {
     "name": "stdout",
     "output_type": "stream",
     "text": [
      "{'val_loss': 1.5517103160327335, 'val_accuracy': 0.5683027794204613, 'precision': 0.615074033915319, 'recall': 0.5683027794204613, 'f1-score': 0.5631152764433671, 'macro_f1-score': 0.2648107641824566, 'balanced_accuracy': 0.3239013233768632, 'mcc': 0.4309833024012008, 'train_loss': 2.816545102348779}\n",
      "Epoch 2/20\n"
     ]
    },
    {
     "name": "stderr",
     "output_type": "stream",
     "text": [
      "100%|██████████| 761/761 [01:21<00:00,  9.36it/s]\n"
     ]
    },
    {
     "name": "stdout",
     "output_type": "stream",
     "text": [
      "{'val_loss': 1.5793908539245713, 'val_accuracy': 0.5842696629213483, 'precision': 0.5588108028008195, 'recall': 0.5842696629213483, 'f1-score': 0.5529314896295728, 'macro_f1-score': 0.30994178846101716, 'balanced_accuracy': 0.36002411881778884, 'mcc': 0.4434893773025706, 'train_loss': 1.4168361404252272}\n",
      "Epoch 3/20\n"
     ]
    },
    {
     "name": "stderr",
     "output_type": "stream",
     "text": [
      "100%|██████████| 761/761 [01:21<00:00,  9.35it/s]\n"
     ]
    },
    {
     "name": "stdout",
     "output_type": "stream",
     "text": [
      "{'val_loss': 1.4333890516240642, 'val_accuracy': 0.6333530455351862, 'precision': 0.6654369974720619, 'recall': 0.6333530455351862, 'f1-score': 0.6283194610308614, 'macro_f1-score': 0.3927369148308846, 'balanced_accuracy': 0.4388875916823689, 'mcc': 0.5210387567552149, 'train_loss': 0.8224586247222966}\n",
      "Epoch 4/20\n"
     ]
    },
    {
     "name": "stderr",
     "output_type": "stream",
     "text": [
      "100%|██████████| 761/761 [01:21<00:00,  9.34it/s]\n"
     ]
    },
    {
     "name": "stdout",
     "output_type": "stream",
     "text": [
      "{'val_loss': 1.5454212757495214, 'val_accuracy': 0.6244825547013602, 'precision': 0.6691733989422523, 'recall': 0.6244825547013602, 'f1-score': 0.6237396340022148, 'macro_f1-score': 0.3939208572871757, 'balanced_accuracy': 0.42680892611651844, 'mcc': 0.5158168221798133, 'train_loss': 0.568526446038512}\n",
      "Epoch 5/20\n"
     ]
    },
    {
     "name": "stderr",
     "output_type": "stream",
     "text": [
      "100%|██████████| 761/761 [01:21<00:00,  9.35it/s]\n"
     ]
    },
    {
     "name": "stdout",
     "output_type": "stream",
     "text": [
      "{'val_loss': 1.5984358898592446, 'val_accuracy': 0.6475458308693081, 'precision': 0.6694106937879538, 'recall': 0.6475458308693081, 'f1-score': 0.6435778167473665, 'macro_f1-score': 0.3915268025325902, 'balanced_accuracy': 0.3878678845205025, 'mcc': 0.540301185243859, 'train_loss': 0.45153898730110403}\n",
      "Epoch 6/20\n"
     ]
    },
    {
     "name": "stderr",
     "output_type": "stream",
     "text": [
      "100%|██████████| 761/761 [01:21<00:00,  9.36it/s]\n"
     ]
    },
    {
     "name": "stdout",
     "output_type": "stream",
     "text": [
      "{'val_loss': 1.5293647405111566, 'val_accuracy': 0.6664695446481372, 'precision': 0.6847054521254704, 'recall': 0.6664695446481372, 'f1-score': 0.6600341158982782, 'macro_f1-score': 0.4151189951036278, 'balanced_accuracy': 0.44240206671271465, 'mcc': 0.5643048323293433, 'train_loss': 0.4171187629930567}\n",
      "Epoch 7/20\n"
     ]
    },
    {
     "name": "stderr",
     "output_type": "stream",
     "text": [
      "100%|██████████| 761/761 [01:21<00:00,  9.36it/s]\n"
     ]
    },
    {
     "name": "stdout",
     "output_type": "stream",
     "text": [
      "{'val_loss': 1.8213936422231063, 'val_accuracy': 0.6173861620342992, 'precision': 0.639013068822577, 'recall': 0.6173861620342992, 'f1-score': 0.6171722059951003, 'macro_f1-score': 0.4071635834531324, 'balanced_accuracy': 0.41605095880488796, 'mcc': 0.492096556305778, 'train_loss': 0.345128121051531}\n",
      "Epoch 8/20\n"
     ]
    },
    {
     "name": "stderr",
     "output_type": "stream",
     "text": [
      "100%|██████████| 761/761 [01:21<00:00,  9.36it/s]\n"
     ]
    },
    {
     "name": "stdout",
     "output_type": "stream",
     "text": [
      "{'val_loss': 1.7993205508814667, 'val_accuracy': 0.6469544648137197, 'precision': 0.6636930528521947, 'recall': 0.6469544648137197, 'f1-score': 0.6407401789984674, 'macro_f1-score': 0.3856904841181111, 'balanced_accuracy': 0.41142228805507935, 'mcc': 0.5381214929534116, 'train_loss': 0.31431172680875846}\n",
      "Epoch 9/20\n"
     ]
    },
    {
     "name": "stderr",
     "output_type": "stream",
     "text": [
      "100%|██████████| 761/761 [01:21<00:00,  9.35it/s]\n"
     ]
    },
    {
     "name": "stdout",
     "output_type": "stream",
     "text": [
      "{'val_loss': 1.71231380554865, 'val_accuracy': 0.6552335895919574, 'precision': 0.6696665947136168, 'recall': 0.6552335895919574, 'f1-score': 0.6484532710150614, 'macro_f1-score': 0.3937266575474656, 'balanced_accuracy': 0.41591419850417, 'mcc': 0.5510043058741407, 'train_loss': 0.2958655964403258}\n",
      "Early stopping.\n",
      "\n",
      "[Fold 5]\n",
      "Label distribution after resampling:\n",
      "  label 0: 2000\n",
      "  label 1: 200\n",
      "  label 2: 200\n",
      "  label 3: 200\n",
      "  label 4: 205\n",
      "  label 5: 200\n",
      "  label 6: 200\n",
      "  label 7: 200\n",
      "  label 8: 200\n",
      "  label 9: 200\n",
      "  label 10: 200\n",
      "  label 11: 200\n",
      "  label 12: 200\n",
      "  label 13: 200\n",
      "  label 14: 200\n",
      "  label 15: 200\n",
      "  label 16: 200\n",
      "  label 17: 231\n",
      "  label 18: 200\n",
      "  label 19: 200\n",
      "  label 20: 200\n",
      "  label 21: 200\n",
      "  label 22: 200\n",
      "  label 23: 200\n",
      "  label 24: 200\n",
      "  label 25: 200\n",
      "  label 26: 200\n",
      "  label 27: 200\n",
      "  label 28: 200\n",
      "  label 29: 200\n",
      "  label 30: 200\n",
      "  label 31: 200\n",
      "  label 32: 200\n",
      "  label 33: 200\n",
      "  label 34: 200\n",
      "  label 35: 200\n",
      "  label 36: 200\n",
      "  label 37: 200\n",
      "  label 38: 200\n",
      "  label 39: 200\n",
      "  label 40: 200\n",
      "  label 41: 200\n",
      "  label 42: 200\n",
      "  label 43: 200\n",
      "  label 44: 200\n",
      "  label 45: 200\n",
      "  label 46: 200\n",
      "  label 47: 529\n",
      "  label 48: 202\n",
      "  label 49: 200\n",
      "model is microsoft/deberta-base cnn2filter345drop3\n",
      "Epoch 1/20\n"
     ]
    },
    {
     "name": "stderr",
     "output_type": "stream",
     "text": [
      "100%|██████████| 761/761 [01:21<00:00,  9.37it/s]\n"
     ]
    },
    {
     "name": "stdout",
     "output_type": "stream",
     "text": [
      "{'val_loss': 3.4918852144817136, 'val_accuracy': 0.46982248520710057, 'precision': 0.22073316760617626, 'recall': 0.46982248520710057, 'f1-score': 0.3003535050357793, 'macro_f1-score': 0.012785829307568436, 'balanced_accuracy': 0.02, 'mcc': 0.0, 'train_loss': 3.716264226276834}\n",
      "Epoch 2/20\n"
     ]
    },
    {
     "name": "stderr",
     "output_type": "stream",
     "text": [
      "100%|██████████| 761/761 [01:21<00:00,  9.37it/s]\n"
     ]
    },
    {
     "name": "stdout",
     "output_type": "stream",
     "text": [
      "{'val_loss': 3.4494493659937158, 'val_accuracy': 0.46982248520710057, 'precision': 0.22073316760617626, 'recall': 0.46982248520710057, 'f1-score': 0.3003535050357793, 'macro_f1-score': 0.012785829307568436, 'balanced_accuracy': 0.02, 'mcc': 0.0, 'train_loss': 3.703392363409175}\n",
      "Epoch 3/20\n"
     ]
    },
    {
     "name": "stderr",
     "output_type": "stream",
     "text": [
      "100%|██████████| 761/761 [01:21<00:00,  9.35it/s]\n"
     ]
    },
    {
     "name": "stdout",
     "output_type": "stream",
     "text": [
      "{'val_loss': 3.4040885848819085, 'val_accuracy': 0.46982248520710057, 'precision': 0.22073316760617626, 'recall': 0.46982248520710057, 'f1-score': 0.3003535050357793, 'macro_f1-score': 0.012785829307568436, 'balanced_accuracy': 0.02, 'mcc': 0.0, 'train_loss': 3.6992146940644877}\n",
      "Epoch 4/20\n"
     ]
    },
    {
     "name": "stderr",
     "output_type": "stream",
     "text": [
      "100%|██████████| 761/761 [01:21<00:00,  9.36it/s]\n"
     ]
    },
    {
     "name": "stdout",
     "output_type": "stream",
     "text": [
      "{'val_loss': 3.3922447528479234, 'val_accuracy': 0.46982248520710057, 'precision': 0.22073316760617626, 'recall': 0.46982248520710057, 'f1-score': 0.3003535050357793, 'macro_f1-score': 0.012785829307568436, 'balanced_accuracy': 0.02, 'mcc': 0.0, 'train_loss': 3.6958776695186297}\n",
      "Early stopping.\n",
      "\n",
      " === microsoft/deberta-base + cnn2filter345drop3 + ros Final 5-fold Cross-Validation Results ===\n",
      "Total time: 3183 seconds\n",
      "Total time: 0 hrs 53 mins 3 secs\n",
      "val_loss: 2.3915\n",
      "val_accuracy: 0.5797\n",
      "precision: 0.4887\n",
      "recall: 0.5797\n",
      "f1-score: 0.5089\n",
      "macro_f1-score: 0.2446\n",
      "balanced_accuracy: 0.2574\n",
      "mcc: 0.3294\n",
      "train_loss: 1.6793\n",
      "▶ Running: microsoft/deberta-base + cnn2filter345drop5 + ros\n",
      "tokenizer is microsoft/deberta-base\n",
      "Using device: cuda\n",
      "CUDA Available: True\n",
      "CUDA Device: NVIDIA GeForce RTX 5070 Ti\n",
      "Current GPU Memory Allocated: 0.02 GB\n",
      "Current GPU Memory Cached: 5.15 GB\n",
      "\n",
      "[Fold 1]\n",
      "Label distribution after resampling:\n",
      "  label 0: 2000\n",
      "  label 1: 200\n",
      "  label 2: 200\n",
      "  label 3: 200\n",
      "  label 4: 205\n",
      "  label 5: 200\n",
      "  label 6: 200\n",
      "  label 7: 200\n",
      "  label 8: 200\n",
      "  label 9: 200\n",
      "  label 10: 200\n",
      "  label 11: 200\n",
      "  label 12: 200\n",
      "  label 13: 200\n",
      "  label 14: 200\n",
      "  label 15: 200\n",
      "  label 16: 200\n",
      "  label 17: 231\n",
      "  label 18: 200\n",
      "  label 19: 200\n",
      "  label 20: 200\n",
      "  label 21: 200\n",
      "  label 22: 200\n",
      "  label 23: 200\n",
      "  label 24: 200\n",
      "  label 25: 200\n",
      "  label 26: 200\n",
      "  label 27: 200\n",
      "  label 28: 200\n",
      "  label 29: 200\n",
      "  label 30: 200\n",
      "  label 31: 200\n",
      "  label 32: 200\n",
      "  label 33: 200\n",
      "  label 34: 200\n",
      "  label 35: 200\n",
      "  label 36: 200\n",
      "  label 37: 200\n",
      "  label 38: 200\n",
      "  label 39: 200\n",
      "  label 40: 200\n",
      "  label 41: 200\n",
      "  label 42: 200\n",
      "  label 43: 200\n",
      "  label 44: 200\n",
      "  label 45: 200\n",
      "  label 46: 200\n",
      "  label 47: 529\n",
      "  label 48: 202\n",
      "  label 49: 200\n",
      "model is microsoft/deberta-base cnn2filter345drop5\n",
      "Epoch 1/20\n"
     ]
    },
    {
     "name": "stderr",
     "output_type": "stream",
     "text": [
      "100%|██████████| 761/761 [01:21<00:00,  9.36it/s]\n"
     ]
    },
    {
     "name": "stdout",
     "output_type": "stream",
     "text": [
      "{'val_loss': 2.396514266729355, 'val_accuracy': 0.4997043169722058, 'precision': 0.3646932439624021, 'recall': 0.4997043169722058, 'f1-score': 0.40959027379063695, 'macro_f1-score': 0.058123209205489176, 'balanced_accuracy': 0.10207464927178656, 'mcc': 0.3019517859037952, 'train_loss': 3.5377533761649813}\n",
      "Epoch 2/20\n"
     ]
    },
    {
     "name": "stderr",
     "output_type": "stream",
     "text": [
      "100%|██████████| 761/761 [01:21<00:00,  9.38it/s]\n"
     ]
    },
    {
     "name": "stdout",
     "output_type": "stream",
     "text": [
      "{'val_loss': 3.123632716682722, 'val_accuracy': 0.5156712004730929, 'precision': 0.30753749064945524, 'recall': 0.5156712004730929, 'f1-score': 0.3847308416300243, 'macro_f1-score': 0.028012679425021704, 'balanced_accuracy': 0.05032961692395655, 'mcc': 0.2565872548426438, 'train_loss': 2.943783958700734}\n",
      "Epoch 3/20\n"
     ]
    },
    {
     "name": "stderr",
     "output_type": "stream",
     "text": [
      "100%|██████████| 761/761 [01:21<00:00,  9.35it/s]\n"
     ]
    },
    {
     "name": "stdout",
     "output_type": "stream",
     "text": [
      "{'val_loss': 3.182901492658651, 'val_accuracy': 0.534594914251922, 'precision': 0.2952865659959199, 'recall': 0.534594914251922, 'f1-score': 0.3801201133932259, 'macro_f1-score': 0.025253799583262692, 'balanced_accuracy': 0.03702058319039451, 'mcc': 0.28172813691614734, 'train_loss': 3.51684871390364}\n",
      "Epoch 4/20\n"
     ]
    },
    {
     "name": "stderr",
     "output_type": "stream",
     "text": [
      "100%|██████████| 761/761 [01:21<00:00,  9.36it/s]\n"
     ]
    },
    {
     "name": "stdout",
     "output_type": "stream",
     "text": [
      "{'val_loss': 3.468510441060336, 'val_accuracy': 0.47013601419278533, 'precision': 0.22102787184107886, 'recall': 0.47013601419278533, 'f1-score': 0.30069037110479835, 'macro_f1-score': 0.012791633145615447, 'balanced_accuracy': 0.02, 'mcc': 0.0, 'train_loss': 3.670358022471765}\n",
      "Early stopping.\n",
      "\n",
      "[Fold 2]\n",
      "Label distribution after resampling:\n",
      "  label 0: 2000\n",
      "  label 1: 200\n",
      "  label 2: 200\n",
      "  label 3: 200\n",
      "  label 4: 206\n",
      "  label 5: 200\n",
      "  label 6: 200\n",
      "  label 7: 200\n",
      "  label 8: 200\n",
      "  label 9: 200\n",
      "  label 10: 200\n",
      "  label 11: 200\n",
      "  label 12: 200\n",
      "  label 13: 200\n",
      "  label 14: 200\n",
      "  label 15: 200\n",
      "  label 16: 200\n",
      "  label 17: 231\n",
      "  label 18: 200\n",
      "  label 19: 200\n",
      "  label 20: 200\n",
      "  label 21: 200\n",
      "  label 22: 200\n",
      "  label 23: 200\n",
      "  label 24: 200\n",
      "  label 25: 200\n",
      "  label 26: 200\n",
      "  label 27: 200\n",
      "  label 28: 200\n",
      "  label 29: 200\n",
      "  label 30: 200\n",
      "  label 31: 200\n",
      "  label 32: 200\n",
      "  label 33: 200\n",
      "  label 34: 200\n",
      "  label 35: 200\n",
      "  label 36: 200\n",
      "  label 37: 200\n",
      "  label 38: 200\n",
      "  label 39: 200\n",
      "  label 40: 200\n",
      "  label 41: 200\n",
      "  label 42: 200\n",
      "  label 43: 200\n",
      "  label 44: 200\n",
      "  label 45: 200\n",
      "  label 46: 200\n",
      "  label 47: 528\n",
      "  label 48: 202\n",
      "  label 49: 200\n",
      "model is microsoft/deberta-base cnn2filter345drop5\n",
      "Epoch 1/20\n"
     ]
    },
    {
     "name": "stderr",
     "output_type": "stream",
     "text": [
      "100%|██████████| 761/761 [01:21<00:00,  9.37it/s]\n"
     ]
    },
    {
     "name": "stdout",
     "output_type": "stream",
     "text": [
      "{'val_loss': 3.476209372844336, 'val_accuracy': 0.47013601419278533, 'precision': 0.22102787184107886, 'recall': 0.47013601419278533, 'f1-score': 0.30069037110479835, 'macro_f1-score': 0.012791633145615447, 'balanced_accuracy': 0.02, 'mcc': 0.0, 'train_loss': 3.583442870013504}\n",
      "Epoch 2/20\n"
     ]
    },
    {
     "name": "stderr",
     "output_type": "stream",
     "text": [
      "100%|██████████| 761/761 [01:21<00:00,  9.38it/s]\n"
     ]
    },
    {
     "name": "stdout",
     "output_type": "stream",
     "text": [
      "{'val_loss': 2.8394953462312804, 'val_accuracy': 0.5292726197516262, 'precision': 0.2899844129723513, 'recall': 0.5292726197516262, 'f1-score': 0.37453652858738606, 'macro_f1-score': 0.02544973544973545, 'balanced_accuracy': 0.0350375939849624, 'mcc': 0.2644556863248395, 'train_loss': 3.6187856053240823}\n",
      "Epoch 3/20\n"
     ]
    },
    {
     "name": "stderr",
     "output_type": "stream",
     "text": [
      "100%|██████████| 761/761 [01:21<00:00,  9.36it/s]\n"
     ]
    },
    {
     "name": "stdout",
     "output_type": "stream",
     "text": [
      "{'val_loss': 2.710571339670217, 'val_accuracy': 0.5097575399172087, 'precision': 0.28273776005627743, 'recall': 0.5097575399172087, 'f1-score': 0.36367779507572834, 'macro_f1-score': 0.024524165074955143, 'balanced_accuracy': 0.03495871754858845, 'mcc': 0.22593959573305403, 'train_loss': 3.4320974882579507}\n",
      "Epoch 4/20\n"
     ]
    },
    {
     "name": "stderr",
     "output_type": "stream",
     "text": [
      "100%|██████████| 761/761 [01:21<00:00,  9.36it/s]\n"
     ]
    },
    {
     "name": "stdout",
     "output_type": "stream",
     "text": [
      "{'val_loss': 3.0088738630402765, 'val_accuracy': 0.47013601419278533, 'precision': 0.22102787184107886, 'recall': 0.47013601419278533, 'f1-score': 0.30069037110479835, 'macro_f1-score': 0.012791633145615447, 'balanced_accuracy': 0.02, 'mcc': 0.0, 'train_loss': 3.458044668691387}\n",
      "Epoch 5/20\n"
     ]
    },
    {
     "name": "stderr",
     "output_type": "stream",
     "text": [
      "100%|██████████| 761/761 [01:21<00:00,  9.37it/s]\n"
     ]
    },
    {
     "name": "stdout",
     "output_type": "stream",
     "text": [
      "{'val_loss': 3.0099857640716263, 'val_accuracy': 0.47013601419278533, 'precision': 0.22102787184107886, 'recall': 0.47013601419278533, 'f1-score': 0.30069037110479835, 'macro_f1-score': 0.012791633145615447, 'balanced_accuracy': 0.02, 'mcc': 0.0, 'train_loss': 3.5953850761819606}\n",
      "Early stopping.\n",
      "\n",
      "[Fold 3]\n",
      "Label distribution after resampling:\n",
      "  label 0: 2000\n",
      "  label 1: 200\n",
      "  label 2: 200\n",
      "  label 3: 200\n",
      "  label 4: 206\n",
      "  label 5: 200\n",
      "  label 6: 200\n",
      "  label 7: 200\n",
      "  label 8: 200\n",
      "  label 9: 200\n",
      "  label 10: 200\n",
      "  label 11: 200\n",
      "  label 12: 200\n",
      "  label 13: 200\n",
      "  label 14: 200\n",
      "  label 15: 200\n",
      "  label 16: 200\n",
      "  label 17: 231\n",
      "  label 18: 200\n",
      "  label 19: 200\n",
      "  label 20: 200\n",
      "  label 21: 200\n",
      "  label 22: 200\n",
      "  label 23: 200\n",
      "  label 24: 200\n",
      "  label 25: 200\n",
      "  label 26: 200\n",
      "  label 27: 200\n",
      "  label 28: 200\n",
      "  label 29: 200\n",
      "  label 30: 200\n",
      "  label 31: 200\n",
      "  label 32: 200\n",
      "  label 33: 200\n",
      "  label 34: 200\n",
      "  label 35: 200\n",
      "  label 36: 200\n",
      "  label 37: 200\n",
      "  label 38: 200\n",
      "  label 39: 200\n",
      "  label 40: 200\n",
      "  label 41: 200\n",
      "  label 42: 200\n",
      "  label 43: 200\n",
      "  label 44: 200\n",
      "  label 45: 200\n",
      "  label 46: 200\n",
      "  label 47: 529\n",
      "  label 48: 201\n",
      "  label 49: 200\n",
      "model is microsoft/deberta-base cnn2filter345drop5\n",
      "Epoch 1/20\n"
     ]
    },
    {
     "name": "stderr",
     "output_type": "stream",
     "text": [
      "100%|██████████| 761/761 [01:21<00:00,  9.37it/s]\n"
     ]
    },
    {
     "name": "stdout",
     "output_type": "stream",
     "text": [
      "{'val_loss': 3.5244762919983774, 'val_accuracy': 0.47013601419278533, 'precision': 0.22102787184107886, 'recall': 0.47013601419278533, 'f1-score': 0.30069037110479835, 'macro_f1-score': 0.012791633145615447, 'balanced_accuracy': 0.02, 'mcc': 0.0, 'train_loss': 3.7098726605930405}\n",
      "Epoch 2/20\n"
     ]
    },
    {
     "name": "stderr",
     "output_type": "stream",
     "text": [
      "100%|██████████| 761/761 [01:21<00:00,  9.36it/s]\n"
     ]
    },
    {
     "name": "stdout",
     "output_type": "stream",
     "text": [
      "{'val_loss': 3.5022305250167847, 'val_accuracy': 0.47013601419278533, 'precision': 0.22102787184107886, 'recall': 0.47013601419278533, 'f1-score': 0.30069037110479835, 'macro_f1-score': 0.012791633145615447, 'balanced_accuracy': 0.02, 'mcc': 0.0, 'train_loss': 3.710313367154376}\n",
      "Epoch 3/20\n"
     ]
    },
    {
     "name": "stderr",
     "output_type": "stream",
     "text": [
      "100%|██████████| 761/761 [01:21<00:00,  9.33it/s]\n"
     ]
    },
    {
     "name": "stdout",
     "output_type": "stream",
     "text": [
      "{'val_loss': 3.5169461425745263, 'val_accuracy': 0.47013601419278533, 'precision': 0.22102787184107886, 'recall': 0.47013601419278533, 'f1-score': 0.30069037110479835, 'macro_f1-score': 0.012791633145615447, 'balanced_accuracy': 0.02, 'mcc': 0.0, 'train_loss': 3.706212325415693}\n",
      "Epoch 4/20\n"
     ]
    },
    {
     "name": "stderr",
     "output_type": "stream",
     "text": [
      "100%|██████████| 761/761 [01:21<00:00,  9.36it/s]\n"
     ]
    },
    {
     "name": "stdout",
     "output_type": "stream",
     "text": [
      "{'val_loss': 3.4976708776545973, 'val_accuracy': 0.47013601419278533, 'precision': 0.22102787184107886, 'recall': 0.47013601419278533, 'f1-score': 0.30069037110479835, 'macro_f1-score': 0.012791633145615447, 'balanced_accuracy': 0.02, 'mcc': 0.0, 'train_loss': 3.705790631561179}\n",
      "Early stopping.\n",
      "\n",
      "[Fold 4]\n",
      "Label distribution after resampling:\n",
      "  label 0: 2000\n",
      "  label 1: 200\n",
      "  label 2: 200\n",
      "  label 3: 200\n",
      "  label 4: 206\n",
      "  label 5: 200\n",
      "  label 6: 200\n",
      "  label 7: 200\n",
      "  label 8: 200\n",
      "  label 9: 200\n",
      "  label 10: 200\n",
      "  label 11: 200\n",
      "  label 12: 200\n",
      "  label 13: 200\n",
      "  label 14: 200\n",
      "  label 15: 200\n",
      "  label 16: 200\n",
      "  label 17: 232\n",
      "  label 18: 200\n",
      "  label 19: 200\n",
      "  label 20: 200\n",
      "  label 21: 200\n",
      "  label 22: 200\n",
      "  label 23: 200\n",
      "  label 24: 200\n",
      "  label 25: 200\n",
      "  label 26: 200\n",
      "  label 27: 200\n",
      "  label 28: 200\n",
      "  label 29: 200\n",
      "  label 30: 200\n",
      "  label 31: 200\n",
      "  label 32: 200\n",
      "  label 33: 200\n",
      "  label 34: 200\n",
      "  label 35: 200\n",
      "  label 36: 200\n",
      "  label 37: 200\n",
      "  label 38: 200\n",
      "  label 39: 200\n",
      "  label 40: 200\n",
      "  label 41: 200\n",
      "  label 42: 200\n",
      "  label 43: 200\n",
      "  label 44: 200\n",
      "  label 45: 200\n",
      "  label 46: 200\n",
      "  label 47: 529\n",
      "  label 48: 201\n",
      "  label 49: 200\n",
      "model is microsoft/deberta-base cnn2filter345drop5\n",
      "Epoch 1/20\n"
     ]
    },
    {
     "name": "stderr",
     "output_type": "stream",
     "text": [
      "100%|██████████| 761/761 [01:21<00:00,  9.36it/s]\n"
     ]
    },
    {
     "name": "stdout",
     "output_type": "stream",
     "text": [
      "{'val_loss': 2.171386031609661, 'val_accuracy': 0.5186280307510349, 'precision': 0.37112148396371497, 'recall': 0.5186280307510349, 'f1-score': 0.4305136543477687, 'macro_f1-score': 0.04265104020668877, 'balanced_accuracy': 0.07452279498059042, 'mcc': 0.32090238976991015, 'train_loss': 3.400681291083939}\n",
      "Epoch 2/20\n"
     ]
    },
    {
     "name": "stderr",
     "output_type": "stream",
     "text": [
      "100%|██████████| 761/761 [01:21<00:00,  9.35it/s]\n"
     ]
    },
    {
     "name": "stdout",
     "output_type": "stream",
     "text": [
      "{'val_loss': 1.9834318071041468, 'val_accuracy': 0.5298639858072147, 'precision': 0.3790642074597087, 'recall': 0.5298639858072147, 'f1-score': 0.43410872896975283, 'macro_f1-score': 0.046718780554311806, 'balanced_accuracy': 0.0681640429715285, 'mcc': 0.3206624199719278, 'train_loss': 3.079449507316058}\n",
      "Epoch 3/20\n"
     ]
    },
    {
     "name": "stderr",
     "output_type": "stream",
     "text": [
      "100%|██████████| 761/761 [01:21<00:00,  9.36it/s]\n"
     ]
    },
    {
     "name": "stdout",
     "output_type": "stream",
     "text": [
      "{'val_loss': 1.9116106342594579, 'val_accuracy': 0.5269071555292726, 'precision': 0.4667005566466151, 'recall': 0.5269071555292726, 'f1-score': 0.47746157537019907, 'macro_f1-score': 0.12283341006015201, 'balanced_accuracy': 0.2057336386572323, 'mcc': 0.3695548942149912, 'train_loss': 2.643294613245439}\n",
      "Epoch 4/20\n"
     ]
    },
    {
     "name": "stderr",
     "output_type": "stream",
     "text": [
      "100%|██████████| 761/761 [01:21<00:00,  9.36it/s]\n"
     ]
    },
    {
     "name": "stdout",
     "output_type": "stream",
     "text": [
      "{'val_loss': 1.6694559334021695, 'val_accuracy': 0.5416913069189828, 'precision': 0.5269367846547661, 'recall': 0.5416913069189828, 'f1-score': 0.5154676489879076, 'macro_f1-score': 0.20434555045365918, 'balanced_accuracy': 0.2803575612845722, 'mcc': 0.4063232500793124, 'train_loss': 1.974629118470732}\n",
      "Epoch 5/20\n"
     ]
    },
    {
     "name": "stderr",
     "output_type": "stream",
     "text": [
      "100%|██████████| 761/761 [01:21<00:00,  9.36it/s]\n"
     ]
    },
    {
     "name": "stdout",
     "output_type": "stream",
     "text": [
      "{'val_loss': 1.5698537888391964, 'val_accuracy': 0.5570668243642815, 'precision': 0.6323454303792384, 'recall': 0.5570668243642815, 'f1-score': 0.5693814670266395, 'macro_f1-score': 0.3173198420869901, 'balanced_accuracy': 0.37286037761471036, 'mcc': 0.44136168332517955, 'train_loss': 1.3017529829964531}\n",
      "Epoch 6/20\n"
     ]
    },
    {
     "name": "stderr",
     "output_type": "stream",
     "text": [
      "100%|██████████| 761/761 [01:21<00:00,  9.36it/s]\n"
     ]
    },
    {
     "name": "stdout",
     "output_type": "stream",
     "text": [
      "{'val_loss': 1.5835507188765507, 'val_accuracy': 0.5996451803666469, 'precision': 0.6497492536178185, 'recall': 0.5996451803666469, 'f1-score': 0.5953829316299527, 'macro_f1-score': 0.35754525265583026, 'balanced_accuracy': 0.40548927188664735, 'mcc': 0.4838289025584485, 'train_loss': 0.8761918729222558}\n",
      "Epoch 7/20\n"
     ]
    },
    {
     "name": "stderr",
     "output_type": "stream",
     "text": [
      "100%|██████████| 761/761 [01:21<00:00,  9.36it/s]\n"
     ]
    },
    {
     "name": "stdout",
     "output_type": "stream",
     "text": [
      "{'val_loss': 1.6657455313318181, 'val_accuracy': 0.6096984033116499, 'precision': 0.6424703082006911, 'recall': 0.6096984033116499, 'f1-score': 0.6121039387449495, 'macro_f1-score': 0.3757980092198213, 'balanced_accuracy': 0.41910427465614325, 'mcc': 0.5036980184751719, 'train_loss': 0.6791551265077428}\n",
      "Epoch 8/20\n"
     ]
    },
    {
     "name": "stderr",
     "output_type": "stream",
     "text": [
      "100%|██████████| 761/761 [01:21<00:00,  9.35it/s]\n"
     ]
    },
    {
     "name": "stdout",
     "output_type": "stream",
     "text": [
      "{'val_loss': 1.8713974182335835, 'val_accuracy': 0.5712596096984033, 'precision': 0.6448916537847226, 'recall': 0.5712596096984033, 'f1-score': 0.5904346411004848, 'macro_f1-score': 0.3405563567587949, 'balanced_accuracy': 0.404785537437076, 'mcc': 0.47820688824033875, 'train_loss': 0.5402696740895548}\n",
      "Epoch 9/20\n"
     ]
    },
    {
     "name": "stderr",
     "output_type": "stream",
     "text": [
      "100%|██████████| 761/761 [01:21<00:00,  9.36it/s]\n"
     ]
    },
    {
     "name": "stdout",
     "output_type": "stream",
     "text": [
      "{'val_loss': 1.8028678798450615, 'val_accuracy': 0.6120638675340035, 'precision': 0.6373225284864753, 'recall': 0.6120638675340035, 'f1-score': 0.6136866997203967, 'macro_f1-score': 0.3573310769495423, 'balanced_accuracy': 0.39184957398137704, 'mcc': 0.5066936259208715, 'train_loss': 0.4615791837627291}\n",
      "Epoch 10/20\n"
     ]
    },
    {
     "name": "stderr",
     "output_type": "stream",
     "text": [
      "100%|██████████| 761/761 [01:21<00:00,  9.37it/s]\n"
     ]
    },
    {
     "name": "stdout",
     "output_type": "stream",
     "text": [
      "{'val_loss': 1.8744048951369412, 'val_accuracy': 0.6102897693672383, 'precision': 0.6512323239023791, 'recall': 0.6102897693672383, 'f1-score': 0.6180323265226625, 'macro_f1-score': 0.366791729090688, 'balanced_accuracy': 0.4101649388668986, 'mcc': 0.5090295827216568, 'train_loss': 0.394077306225377}\n",
      "Early stopping.\n",
      "\n",
      "[Fold 5]\n",
      "Label distribution after resampling:\n",
      "  label 0: 2000\n",
      "  label 1: 200\n",
      "  label 2: 200\n",
      "  label 3: 200\n",
      "  label 4: 205\n",
      "  label 5: 200\n",
      "  label 6: 200\n",
      "  label 7: 200\n",
      "  label 8: 200\n",
      "  label 9: 200\n",
      "  label 10: 200\n",
      "  label 11: 200\n",
      "  label 12: 200\n",
      "  label 13: 200\n",
      "  label 14: 200\n",
      "  label 15: 200\n",
      "  label 16: 200\n",
      "  label 17: 231\n",
      "  label 18: 200\n",
      "  label 19: 200\n",
      "  label 20: 200\n",
      "  label 21: 200\n",
      "  label 22: 200\n",
      "  label 23: 200\n",
      "  label 24: 200\n",
      "  label 25: 200\n",
      "  label 26: 200\n",
      "  label 27: 200\n",
      "  label 28: 200\n",
      "  label 29: 200\n",
      "  label 30: 200\n",
      "  label 31: 200\n",
      "  label 32: 200\n",
      "  label 33: 200\n",
      "  label 34: 200\n",
      "  label 35: 200\n",
      "  label 36: 200\n",
      "  label 37: 200\n",
      "  label 38: 200\n",
      "  label 39: 200\n",
      "  label 40: 200\n",
      "  label 41: 200\n",
      "  label 42: 200\n",
      "  label 43: 200\n",
      "  label 44: 200\n",
      "  label 45: 200\n",
      "  label 46: 200\n",
      "  label 47: 529\n",
      "  label 48: 202\n",
      "  label 49: 200\n",
      "model is microsoft/deberta-base cnn2filter345drop5\n",
      "Epoch 1/20\n"
     ]
    },
    {
     "name": "stderr",
     "output_type": "stream",
     "text": [
      "100%|██████████| 761/761 [01:21<00:00,  9.35it/s]\n"
     ]
    },
    {
     "name": "stdout",
     "output_type": "stream",
     "text": [
      "{'val_loss': 1.9387884887884248, 'val_accuracy': 0.5248520710059171, 'precision': 0.43840358983455513, 'recall': 0.5248520710059171, 'f1-score': 0.46668980009624333, 'macro_f1-score': 0.11548599729424837, 'balanced_accuracy': 0.1942416371568634, 'mcc': 0.3536764474154555, 'train_loss': 3.2297006455420196}\n",
      "Epoch 2/20\n"
     ]
    },
    {
     "name": "stderr",
     "output_type": "stream",
     "text": [
      "100%|██████████| 761/761 [01:21<00:00,  9.35it/s]\n"
     ]
    },
    {
     "name": "stdout",
     "output_type": "stream",
     "text": [
      "{'val_loss': 1.6035607895761166, 'val_accuracy': 0.5769230769230769, 'precision': 0.5786920758077055, 'recall': 0.5769230769230769, 'f1-score': 0.5528534768612047, 'macro_f1-score': 0.24920953043357588, 'balanced_accuracy': 0.30146551973586777, 'mcc': 0.4466063567721388, 'train_loss': 2.0045958917964932}\n",
      "Epoch 3/20\n"
     ]
    },
    {
     "name": "stderr",
     "output_type": "stream",
     "text": [
      "100%|██████████| 761/761 [01:21<00:00,  9.36it/s]\n"
     ]
    },
    {
     "name": "stdout",
     "output_type": "stream",
     "text": [
      "{'val_loss': 1.6520701545589376, 'val_accuracy': 0.5828402366863905, 'precision': 0.611804565903154, 'recall': 0.5828402366863905, 'f1-score': 0.5816880602612786, 'macro_f1-score': 0.31982234041938745, 'balanced_accuracy': 0.361075206052561, 'mcc': 0.47822528062654174, 'train_loss': 1.199908103955403}\n",
      "Epoch 4/20\n"
     ]
    },
    {
     "name": "stderr",
     "output_type": "stream",
     "text": [
      "100%|██████████| 761/761 [01:21<00:00,  9.37it/s]\n"
     ]
    },
    {
     "name": "stdout",
     "output_type": "stream",
     "text": [
      "{'val_loss': 1.6295429912378203, 'val_accuracy': 0.6011834319526628, 'precision': 0.6160088056999752, 'recall': 0.6011834319526628, 'f1-score': 0.5921425626096736, 'macro_f1-score': 0.3410778771561344, 'balanced_accuracy': 0.380264848393408, 'mcc': 0.48417265402519793, 'train_loss': 0.8180892005973984}\n",
      "Epoch 5/20\n"
     ]
    },
    {
     "name": "stderr",
     "output_type": "stream",
     "text": [
      "100%|██████████| 761/761 [01:21<00:00,  9.35it/s]\n"
     ]
    },
    {
     "name": "stdout",
     "output_type": "stream",
     "text": [
      "{'val_loss': 1.6512682938350822, 'val_accuracy': 0.6118343195266273, 'precision': 0.6698924418873118, 'recall': 0.6118343195266273, 'f1-score': 0.6235271669698035, 'macro_f1-score': 0.35668745825711584, 'balanced_accuracy': 0.3759444417568586, 'mcc': 0.5034114032453865, 'train_loss': 0.6322839329320247}\n",
      "Epoch 6/20\n"
     ]
    },
    {
     "name": "stderr",
     "output_type": "stream",
     "text": [
      "100%|██████████| 761/761 [01:21<00:00,  9.34it/s]\n"
     ]
    },
    {
     "name": "stdout",
     "output_type": "stream",
     "text": [
      "{'val_loss': 1.7386643301765874, 'val_accuracy': 0.6153846153846154, 'precision': 0.6618858798698616, 'recall': 0.6153846153846154, 'f1-score': 0.6155262739980446, 'macro_f1-score': 0.3273368338056643, 'balanced_accuracy': 0.3464928040608532, 'mcc': 0.5083784455651076, 'train_loss': 0.521544251019446}\n",
      "Epoch 7/20\n"
     ]
    },
    {
     "name": "stderr",
     "output_type": "stream",
     "text": [
      "100%|██████████| 761/761 [01:21<00:00,  9.37it/s]\n"
     ]
    },
    {
     "name": "stdout",
     "output_type": "stream",
     "text": [
      "{'val_loss': 1.7959209450010984, 'val_accuracy': 0.6254437869822486, 'precision': 0.6756182137078639, 'recall': 0.6254437869822486, 'f1-score': 0.6355867079171174, 'macro_f1-score': 0.3600532611549815, 'balanced_accuracy': 0.37859178940326127, 'mcc': 0.5262215544847764, 'train_loss': 0.4387752397681015}\n",
      "Epoch 8/20\n"
     ]
    },
    {
     "name": "stderr",
     "output_type": "stream",
     "text": [
      "100%|██████████| 761/761 [01:21<00:00,  9.37it/s]\n"
     ]
    },
    {
     "name": "stdout",
     "output_type": "stream",
     "text": [
      "{'val_loss': 1.7930439572851613, 'val_accuracy': 0.6372781065088757, 'precision': 0.6544193959610367, 'recall': 0.6372781065088757, 'f1-score': 0.6325146856341095, 'macro_f1-score': 0.37665270674588636, 'balanced_accuracy': 0.3793950140436699, 'mcc': 0.5335424343182561, 'train_loss': 0.4039497275527141}\n",
      "Epoch 9/20\n"
     ]
    },
    {
     "name": "stderr",
     "output_type": "stream",
     "text": [
      "100%|██████████| 761/761 [01:21<00:00,  9.36it/s]\n"
     ]
    },
    {
     "name": "stdout",
     "output_type": "stream",
     "text": [
      "{'val_loss': 1.863499409396131, 'val_accuracy': 0.6396449704142012, 'precision': 0.6785129845131359, 'recall': 0.6396449704142012, 'f1-score': 0.6398964936312389, 'macro_f1-score': 0.3753623370735206, 'balanced_accuracy': 0.38637499436406986, 'mcc': 0.540932813208531, 'train_loss': 0.3424936050926084}\n",
      "Epoch 10/20\n"
     ]
    },
    {
     "name": "stderr",
     "output_type": "stream",
     "text": [
      "100%|██████████| 761/761 [01:21<00:00,  9.36it/s]\n"
     ]
    },
    {
     "name": "stdout",
     "output_type": "stream",
     "text": [
      "{'val_loss': 1.8109814558389052, 'val_accuracy': 0.644378698224852, 'precision': 0.6789242248420371, 'recall': 0.644378698224852, 'f1-score': 0.6423574200400892, 'macro_f1-score': 0.36364444661626627, 'balanced_accuracy': 0.36593612107657897, 'mcc': 0.5328652056914835, 'train_loss': 0.3247039903973507}\n",
      "Epoch 11/20\n"
     ]
    },
    {
     "name": "stderr",
     "output_type": "stream",
     "text": [
      "100%|██████████| 761/761 [01:21<00:00,  9.36it/s]\n"
     ]
    },
    {
     "name": "stdout",
     "output_type": "stream",
     "text": [
      "{'val_loss': 2.0486324201777295, 'val_accuracy': 0.6100591715976331, 'precision': 0.6641816534846633, 'recall': 0.6100591715976331, 'f1-score': 0.6220779186524175, 'macro_f1-score': 0.370267624691349, 'balanced_accuracy': 0.3883798964442933, 'mcc': 0.517764112491219, 'train_loss': 0.3020637345759739}\n",
      "Early stopping.\n",
      "\n",
      " === microsoft/deberta-base + cnn2filter345drop5 + ros Final 5-fold Cross-Validation Results ===\n",
      "Total time: 2927 seconds\n",
      "Total time: 0 hrs 48 mins 47 secs\n",
      "val_loss: 2.4439\n",
      "val_accuracy: 0.5492\n",
      "precision: 0.4345\n",
      "recall: 0.5492\n",
      "f1-score: 0.4659\n",
      "macro_f1-score: 0.1698\n",
      "balanced_accuracy: 0.1911\n",
      "mcc: 0.3207\n",
      "train_loss: 2.3899\n"
     ]
    }
   ],
   "source": [
    "model_list = [\"bert-base-uncased\", \"roberta-base\", \"microsoft/deberta-base\"]\n",
    "hybrid_list = [\"cnn1filter234drop3\", \"cnn1filter234drop5\", \"cnn1filter345drop3\", \"cnn1filter345drop5\", \"cnn2filter234drop3\", \"cnn2filter234drop5\", \"cnn2filter345drop3\", \"cnn2filter345drop5\"]\n",
    "resample_list = [\"ros\"]\n",
    "\n",
    "all_experiment_result = {}\n",
    "\n",
    "for model_name in model_list:\n",
    "    for hybrid_type in hybrid_list:\n",
    "        for resample_method in resample_list:\n",
    "            results = run_kfold_experiment(\n",
    "                X=messages, y=labels, model_name=model_name, hybrid_type=hybrid_type, resample_method=resample_method,\n",
    "                kfold=KFOLD_SPLIT, seed=SEED, epochs=EPOCHS, patience=PATIENCE, max_length=MAX_LENGTH, \n",
    "                batch_size=BATCH_SIZE, lr=LR, weight_decay=WEIGHT_DECAY\n",
    "            )\n",
    "\n",
    "            key = f\"{model_name} {hybrid_type if hybrid_type else 'None'} {resample_method}\"\n",
    "            all_experiment_result[key] = results"
   ]
  },
  {
   "cell_type": "code",
   "execution_count": 5,
   "id": "d799ebb4-be3b-4b29-9238-6c2a2f8256ae",
   "metadata": {},
   "outputs": [
    {
     "data": {
      "text/plain": [
       "{'bert-base-uncased cnn1filter234drop3 ros': {'val_loss': 1.6277155807276942,\n",
       "  'val_accuracy': 0.6674945324883914,\n",
       "  'precision': 0.6760328350681952,\n",
       "  'recall': 0.6674945324883914,\n",
       "  'f1-score': 0.6576192931135301,\n",
       "  'macro_f1-score': 0.4276747962617458,\n",
       "  'balanced_accuracy': 0.4296668258443891,\n",
       "  'mcc': 0.5630500727255299,\n",
       "  'train_loss': 0.30911836860684305},\n",
       " 'bert-base-uncased cnn1filter234drop5 ros': {'val_loss': 1.5093551704906067,\n",
       "  'val_accuracy': 0.6553117618859329,\n",
       "  'precision': 0.6766831165809287,\n",
       "  'recall': 0.6553117618859329,\n",
       "  'f1-score': 0.652124564807035,\n",
       "  'macro_f1-score': 0.419371889316563,\n",
       "  'balanced_accuracy': 0.4298019395804545,\n",
       "  'mcc': 0.5540257604368543,\n",
       "  'train_loss': 0.436699968219567},\n",
       " 'bert-base-uncased cnn1filter345drop3 ros': {'val_loss': 1.3932682026388512,\n",
       "  'val_accuracy': 0.6592147778528163,\n",
       "  'precision': 0.6769127447361836,\n",
       "  'recall': 0.6592147778528163,\n",
       "  'f1-score': 0.6526680065246584,\n",
       "  'macro_f1-score': 0.42519749130891943,\n",
       "  'balanced_accuracy': 0.43713445489373487,\n",
       "  'mcc': 0.5579114153615939,\n",
       "  'train_loss': 0.5124775272800186},\n",
       " 'bert-base-uncased cnn1filter345drop5 ros': {'val_loss': 1.5398085055767363,\n",
       "  'val_accuracy': 0.6580317658050452,\n",
       "  'precision': 0.6684723091529622,\n",
       "  'recall': 0.6580317658050452,\n",
       "  'f1-score': 0.6513169897862663,\n",
       "  'macro_f1-score': 0.4196401637559556,\n",
       "  'balanced_accuracy': 0.4284521633628221,\n",
       "  'mcc': 0.5531980631228043,\n",
       "  'train_loss': 0.3754830931220937},\n",
       " 'bert-base-uncased cnn2filter234drop3 ros': {'val_loss': 1.6459482963073928,\n",
       "  'val_accuracy': 0.6598049541778787,\n",
       "  'precision': 0.6700607512010454,\n",
       "  'recall': 0.6598049541778787,\n",
       "  'f1-score': 0.6527595379269647,\n",
       "  'macro_f1-score': 0.42061577299386277,\n",
       "  'balanced_accuracy': 0.4304200875021696,\n",
       "  'mcc': 0.5551182293069082,\n",
       "  'train_loss': 0.363044153560478},\n",
       " 'bert-base-uncased cnn2filter234drop5 ros': {'val_loss': 1.5078149278771202,\n",
       "  'val_accuracy': 0.657441379527537,\n",
       "  'precision': 0.6808671305701911,\n",
       "  'recall': 0.657441379527537,\n",
       "  'f1-score': 0.6570413977339717,\n",
       "  'macro_f1-score': 0.4237285818009551,\n",
       "  'balanced_accuracy': 0.44115485140632016,\n",
       "  'mcc': 0.557463958444419,\n",
       "  'train_loss': 0.44354729169830387},\n",
       " 'bert-base-uncased cnn2filter345drop3 ros': {'val_loss': 1.630108873742931,\n",
       "  'val_accuracy': 0.6463224379678003,\n",
       "  'precision': 0.6779199291395649,\n",
       "  'recall': 0.6463224379678003,\n",
       "  'f1-score': 0.6453248982692154,\n",
       "  'macro_f1-score': 0.4212023941376158,\n",
       "  'balanced_accuracy': 0.4293881955380464,\n",
       "  'mcc': 0.5413122112509174,\n",
       "  'train_loss': 0.3754913149937576},\n",
       " 'bert-base-uncased cnn2filter345drop5 ros': {'val_loss': 1.5355363793249404,\n",
       "  'val_accuracy': 0.6637092998435854,\n",
       "  'precision': 0.6756428944598769,\n",
       "  'recall': 0.6637092998435854,\n",
       "  'f1-score': 0.6531331810247469,\n",
       "  'macro_f1-score': 0.41786816004023625,\n",
       "  'balanced_accuracy': 0.43427863812832906,\n",
       "  'mcc': 0.5578526445165375,\n",
       "  'train_loss': 0.5227898371382647},\n",
       " 'roberta-base cnn1filter234drop3 ros': {'val_loss': 1.4832803238675278,\n",
       "  'val_accuracy': 0.6347272542769062,\n",
       "  'precision': 0.6801513530239579,\n",
       "  'recall': 0.6347272542769062,\n",
       "  'f1-score': 0.6409835437586664,\n",
       "  'macro_f1-score': 0.40439624162764415,\n",
       "  'balanced_accuracy': 0.43191038971029705,\n",
       "  'mcc': 0.5349537070009672,\n",
       "  'train_loss': 0.4752709006330148},\n",
       " 'roberta-base cnn1filter234drop5 ros': {'val_loss': 1.6078739970219584,\n",
       "  'val_accuracy': 0.6373311544935072,\n",
       "  'precision': 0.6671279166772699,\n",
       "  'recall': 0.6373311544935072,\n",
       "  'f1-score': 0.6402286360701707,\n",
       "  'macro_f1-score': 0.40350404253008454,\n",
       "  'balanced_accuracy': 0.43766125773798265,\n",
       "  'mcc': 0.5370177687906806,\n",
       "  'train_loss': 0.422392791555399},\n",
       " 'roberta-base cnn1filter345drop3 ros': {'val_loss': 1.6557311433103847,\n",
       "  'val_accuracy': 0.649752711010956,\n",
       "  'precision': 0.6676160393391303,\n",
       "  'recall': 0.649752711010956,\n",
       "  'f1-score': 0.647470527684444,\n",
       "  'macro_f1-score': 0.40397173210302356,\n",
       "  'balanced_accuracy': 0.42727667112193146,\n",
       "  'mcc': 0.5457491145561745,\n",
       "  'train_loss': 0.27621938397057855},\n",
       " 'roberta-base cnn1filter345drop5 ros': {'val_loss': 1.6620703647440336,\n",
       "  'val_accuracy': 0.6439576735869326,\n",
       "  'precision': 0.671026023315807,\n",
       "  'recall': 0.6439576735869326,\n",
       "  'f1-score': 0.6465027913143498,\n",
       "  'macro_f1-score': 0.4084895118380502,\n",
       "  'balanced_accuracy': 0.4332133585633501,\n",
       "  'mcc': 0.542045744952277,\n",
       "  'train_loss': 0.36831655152020887},\n",
       " 'roberta-base cnn2filter234drop3 ros': {'val_loss': 1.6350001468411033,\n",
       "  'val_accuracy': 0.6464409911155122,\n",
       "  'precision': 0.6746851982326963,\n",
       "  'recall': 0.6464409911155122,\n",
       "  'f1-score': 0.6473450493195017,\n",
       "  'macro_f1-score': 0.40662008078842354,\n",
       "  'balanced_accuracy': 0.4246881643356583,\n",
       "  'mcc': 0.5444759784920122,\n",
       "  'train_loss': 0.3936338457524894},\n",
       " 'roberta-base cnn2filter234drop5 ros': {'val_loss': 2.0773957124858535,\n",
       "  'val_accuracy': 0.6083541477855265,\n",
       "  'precision': 0.5771225429497002,\n",
       "  'recall': 0.6083541477855265,\n",
       "  'f1-score': 0.572618174940361,\n",
       "  'macro_f1-score': 0.3237359711730337,\n",
       "  'balanced_accuracy': 0.33643140018996015,\n",
       "  'mcc': 0.4330960320812026,\n",
       "  'train_loss': 1.0051133805177321},\n",
       " 'roberta-base cnn2filter345drop3 ros': {'val_loss': 1.6581537909102892,\n",
       "  'val_accuracy': 0.6437189576560909,\n",
       "  'precision': 0.6713991852622831,\n",
       "  'recall': 0.6437189576560909,\n",
       "  'f1-score': 0.6436182783226905,\n",
       "  'macro_f1-score': 0.4137852257038065,\n",
       "  'balanced_accuracy': 0.43044281791925787,\n",
       "  'mcc': 0.5441070748209713,\n",
       "  'train_loss': 0.35219505468356505},\n",
       " 'roberta-base cnn2filter345drop5 ros': {'val_loss': 1.6841162421512155,\n",
       "  'val_accuracy': 0.6428918849880502,\n",
       "  'precision': 0.6505783239252163,\n",
       "  'recall': 0.6428918849880502,\n",
       "  'f1-score': 0.6350001630106447,\n",
       "  'macro_f1-score': 0.39729976961657304,\n",
       "  'balanced_accuracy': 0.4152422709505103,\n",
       "  'mcc': 0.533907973572925,\n",
       "  'train_loss': 0.4420381266440163},\n",
       " 'microsoft/deberta-base cnn1filter234drop3 ros': {'val_loss': 1.937088403808621,\n",
       "  'val_accuracy': 0.6174637744550859,\n",
       "  'precision': 0.5913926582539881,\n",
       "  'recall': 0.6174637744550859,\n",
       "  'f1-score': 0.5885530887266155,\n",
       "  'macro_f1-score': 0.32026665291287604,\n",
       "  'balanced_accuracy': 0.3317326522552085,\n",
       "  'mcc': 0.47680339364567176,\n",
       "  'train_loss': 0.8068985876437574},\n",
       " 'microsoft/deberta-base cnn1filter234drop5 ros': {'val_loss': 2.059370618018339,\n",
       "  'val_accuracy': 0.6075269351491888,\n",
       "  'precision': 0.5665955327008331,\n",
       "  'recall': 0.6075269351491888,\n",
       "  'f1-score': 0.568701552795002,\n",
       "  'macro_f1-score': 0.3176447797237831,\n",
       "  'balanced_accuracy': 0.3243501768250653,\n",
       "  'mcc': 0.42649478734894275,\n",
       "  'train_loss': 0.9242495961972536},\n",
       " 'microsoft/deberta-base cnn1filter345drop3 ros': {'val_loss': 1.5826822781900192,\n",
       "  'val_accuracy': 0.6508149304182603,\n",
       "  'precision': 0.6716999268167984,\n",
       "  'recall': 0.6508149304182603,\n",
       "  'f1-score': 0.6417675988016229,\n",
       "  'macro_f1-score': 0.39955173817582323,\n",
       "  'balanced_accuracy': 0.4162588682854829,\n",
       "  'mcc': 0.5421033085273794,\n",
       "  'train_loss': 0.5762338403913433},\n",
       " 'microsoft/deberta-base cnn1filter345drop5 ros': {'val_loss': 2.3834198892116545,\n",
       "  'val_accuracy': 0.5751207751444298,\n",
       "  'precision': 0.4905283074205699,\n",
       "  'recall': 0.5751207751444298,\n",
       "  'f1-score': 0.5079636747648657,\n",
       "  'macro_f1-score': 0.24901882976230816,\n",
       "  'balanced_accuracy': 0.2598163393300072,\n",
       "  'mcc': 0.3258270818480738,\n",
       "  'train_loss': 1.7349412439919092},\n",
       " 'microsoft/deberta-base cnn2filter234drop3 ros': {'val_loss': 1.7729431590943967,\n",
       "  'val_accuracy': 0.6398176912929221,\n",
       "  'precision': 0.6649375406856609,\n",
       "  'recall': 0.6398176912929221,\n",
       "  'f1-score': 0.6405406062662162,\n",
       "  'macro_f1-score': 0.403354241745357,\n",
       "  'balanced_accuracy': 0.4198844281026283,\n",
       "  'mcc': 0.5363742121963772,\n",
       "  'train_loss': 0.3230468083477766},\n",
       " 'microsoft/deberta-base cnn2filter234drop5 ros': {'val_loss': 2.021911789448756,\n",
       "  'val_accuracy': 0.6018484913167168,\n",
       "  'precision': 0.5752339188730973,\n",
       "  'recall': 0.6018484913167168,\n",
       "  'f1-score': 0.5702227376611426,\n",
       "  'macro_f1-score': 0.3211634200683028,\n",
       "  'balanced_accuracy': 0.34326978546258413,\n",
       "  'mcc': 0.42522321344574526,\n",
       "  'train_loss': 1.1105565917779756},\n",
       " 'microsoft/deberta-base cnn2filter345drop3 ros': {'val_loss': 2.3914953704150217,\n",
       "  'val_accuracy': 0.5797125751017395,\n",
       "  'precision': 0.4886971933576292,\n",
       "  'recall': 0.5797125751017395,\n",
       "  'f1-score': 0.5088595817582066,\n",
       "  'macro_f1-score': 0.24458758922679022,\n",
       "  'balanced_accuracy': 0.2573724471293651,\n",
       "  'mcc': 0.32936238380515037,\n",
       "  'train_loss': 1.6793132768569419},\n",
       " 'microsoft/deberta-base cnn2filter345drop5 ros': {'val_loss': 2.443855078715198,\n",
       "  'val_accuracy': 0.5492178921474287,\n",
       "  'precision': 0.43451904658751206,\n",
       "  'recall': 0.5492178921474287,\n",
       "  'f1-score': 0.46588715957237603,\n",
       "  'macro_f1-score': 0.16976305875330955,\n",
       "  'balanced_accuracy': 0.19112230639131242,\n",
       "  'mcc': 0.3207295850044126,\n",
       "  'train_loss': 2.389903299228512}}"
      ]
     },
     "execution_count": 5,
     "metadata": {},
     "output_type": "execute_result"
    }
   ],
   "source": [
    "all_experiment_result"
   ]
  }
 ],
 "metadata": {
  "kernelspec": {
   "display_name": "Python 3 (ipykernel)",
   "language": "python",
   "name": "python3"
  },
  "language_info": {
   "codemirror_mode": {
    "name": "ipython",
    "version": 3
   },
   "file_extension": ".py",
   "mimetype": "text/x-python",
   "name": "python",
   "nbconvert_exporter": "python",
   "pygments_lexer": "ipython3",
   "version": "3.11.9"
  }
 },
 "nbformat": 4,
 "nbformat_minor": 5
}
