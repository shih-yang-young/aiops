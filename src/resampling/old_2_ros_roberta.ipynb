{
 "cells": [
  {
   "cell_type": "code",
   "execution_count": 1,
   "id": "2e76aa66-729a-4bf9-98b9-61d8114e9f3a",
   "metadata": {},
   "outputs": [
    {
     "data": {
      "text/html": [
       "<div>\n",
       "<style scoped>\n",
       "    .dataframe tbody tr th:only-of-type {\n",
       "        vertical-align: middle;\n",
       "    }\n",
       "\n",
       "    .dataframe tbody tr th {\n",
       "        vertical-align: top;\n",
       "    }\n",
       "\n",
       "    .dataframe thead th {\n",
       "        text-align: right;\n",
       "    }\n",
       "</style>\n",
       "<table border=\"1\" class=\"dataframe\">\n",
       "  <thead>\n",
       "    <tr style=\"text-align: right;\">\n",
       "      <th></th>\n",
       "      <th>Inbound Message</th>\n",
       "      <th>Label</th>\n",
       "    </tr>\n",
       "  </thead>\n",
       "  <tbody>\n",
       "    <tr>\n",
       "      <th>0</th>\n",
       "      <td>login issue verified user details employee man...</td>\n",
       "      <td>0</td>\n",
       "    </tr>\n",
       "    <tr>\n",
       "      <th>1</th>\n",
       "      <td>outlook hello team meetings skype meetings etc...</td>\n",
       "      <td>0</td>\n",
       "    </tr>\n",
       "    <tr>\n",
       "      <th>2</th>\n",
       "      <td>cant log vpn cannot log vpn best</td>\n",
       "      <td>0</td>\n",
       "    </tr>\n",
       "    <tr>\n",
       "      <th>3</th>\n",
       "      <td>unable access tool page unable access tool page</td>\n",
       "      <td>0</td>\n",
       "    </tr>\n",
       "    <tr>\n",
       "      <th>4</th>\n",
       "      <td>skype error skype error</td>\n",
       "      <td>0</td>\n",
       "    </tr>\n",
       "    <tr>\n",
       "      <th>...</th>\n",
       "      <td>...</td>\n",
       "      <td>...</td>\n",
       "    </tr>\n",
       "    <tr>\n",
       "      <th>8449</th>\n",
       "      <td>emails coming mail good afternoon receiving em...</td>\n",
       "      <td>22</td>\n",
       "    </tr>\n",
       "    <tr>\n",
       "      <th>8450</th>\n",
       "      <td>telephony software issue telephony software issue</td>\n",
       "      <td>0</td>\n",
       "    </tr>\n",
       "    <tr>\n",
       "      <th>8451</th>\n",
       "      <td>vip windows password reset tifpdchb pedxruyf v...</td>\n",
       "      <td>0</td>\n",
       "    </tr>\n",
       "    <tr>\n",
       "      <th>8452</th>\n",
       "      <td>machine est funcionando unable access machine ...</td>\n",
       "      <td>44</td>\n",
       "    </tr>\n",
       "    <tr>\n",
       "      <th>8453</th>\n",
       "      <td>mehreren lassen sich verschiedene prgramdntyme...</td>\n",
       "      <td>49</td>\n",
       "    </tr>\n",
       "  </tbody>\n",
       "</table>\n",
       "<p>8454 rows × 2 columns</p>\n",
       "</div>"
      ],
      "text/plain": [
       "                                        Inbound Message  Label\n",
       "0     login issue verified user details employee man...      0\n",
       "1     outlook hello team meetings skype meetings etc...      0\n",
       "2                      cant log vpn cannot log vpn best      0\n",
       "3       unable access tool page unable access tool page      0\n",
       "4                               skype error skype error      0\n",
       "...                                                 ...    ...\n",
       "8449  emails coming mail good afternoon receiving em...     22\n",
       "8450  telephony software issue telephony software issue      0\n",
       "8451  vip windows password reset tifpdchb pedxruyf v...      0\n",
       "8452  machine est funcionando unable access machine ...     44\n",
       "8453  mehreren lassen sich verschiedene prgramdntyme...     49\n",
       "\n",
       "[8454 rows x 2 columns]"
      ]
     },
     "execution_count": 1,
     "metadata": {},
     "output_type": "execute_result"
    }
   ],
   "source": [
    "import pandas as pd\n",
    "data_path = \"../../data/open_source_8454_combine_short_description.csv\"  # 替換為你的檔案路徑\n",
    "df = pd.read_csv(data_path)\n",
    "# df_label_0 = df[df[\"Label\"] == 0]\n",
    "# df_label_0_to_drop = df_label_0.sample(n=3000, random_state=42)\n",
    "# df = df.drop(df_label_0_to_drop.index)\n",
    "df"
   ]
  },
  {
   "cell_type": "markdown",
   "id": "e79be804-d1e3-463a-824f-d4765544e493",
   "metadata": {},
   "source": [
    "# 十折驗證法"
   ]
  },
  {
   "cell_type": "code",
   "execution_count": 2,
   "id": "7e6a5029-3898-4bab-8d6c-bfd1a3694153",
   "metadata": {},
   "outputs": [
    {
     "name": "stdout",
     "output_type": "stream",
     "text": [
      "Using device: cuda\n",
      "CUDA Available: True\n",
      "CUDA Device: NVIDIA GeForce RTX 3050 6GB Laptop GPU\n",
      "Current GPU Memory Allocated: 0.0 GB\n",
      "Current GPU Memory Cached: 0.0 GB\n"
     ]
    }
   ],
   "source": [
    "import torch\n",
    "device = torch.device('cuda') if torch.cuda.is_available() else torch.device('cpu')\n",
    "print(f\"Using device: {device}\") \n",
    "print(f\"CUDA Available: {torch.cuda.is_available()}\")\n",
    "print(f\"CUDA Device: {torch.cuda.get_device_name(0)}\")\n",
    "print(f\"Current GPU Memory Allocated: {torch.cuda.memory_allocated() / 1e9} GB\")\n",
    "print(f\"Current GPU Memory Cached: {torch.cuda.memory_reserved() / 1e9} GB\")"
   ]
  },
  {
   "cell_type": "code",
   "execution_count": 3,
   "id": "833a0227-7775-4659-a98c-48c3fbdc9db9",
   "metadata": {},
   "outputs": [],
   "source": [
    "from torch.utils.data import Dataset\n",
    "class CustomDataset(Dataset):\n",
    "    def __init__(self, messages, labels, tokenizer, max_length):\n",
    "        self.messages = messages\n",
    "        self.labels = labels\n",
    "        self.tokenizer = tokenizer\n",
    "        self.max_length = max_length\n",
    "\n",
    "    def __len__(self):\n",
    "        return len(self.messages)\n",
    "\n",
    "    def __getitem__(self, idx):\n",
    "        message = str(self.messages[idx])\n",
    "        label = self.labels[idx]\n",
    "        \n",
    "        encoding = self.tokenizer.encode_plus(\n",
    "            message,\n",
    "            max_length=self.max_length,\n",
    "            add_special_tokens=True,\n",
    "            padding='max_length',\n",
    "            truncation=True,\n",
    "            return_attention_mask=True,\n",
    "            return_tensors='pt'\n",
    "        )\n",
    "        \n",
    "        return {\n",
    "            'input_ids': encoding['input_ids'].flatten(),\n",
    "            'attention_mask': encoding['attention_mask'].flatten(),\n",
    "            'labels': torch.tensor(label, dtype=torch.long)\n",
    "        }"
   ]
  },
  {
   "cell_type": "code",
   "execution_count": 4,
   "id": "985bf187-a1b5-4882-9e52-2cbc0188e8a6",
   "metadata": {},
   "outputs": [],
   "source": [
    "# 定義訓練與評估函數\n",
    "def train_epoch(model, dataloader, optimizer, criterion):\n",
    "    model.train()\n",
    "    total_loss = 0\n",
    "\n",
    "    for batch in tqdm(dataloader):\n",
    "        optimizer.zero_grad()\n",
    "\n",
    "        input_ids = batch['input_ids'].to(device)\n",
    "        attention_mask = batch['attention_mask'].to(device)\n",
    "        labels = batch['labels'].to(device)\n",
    "\n",
    "        outputs = model(input_ids=input_ids, attention_mask=attention_mask, labels=labels)\n",
    "        loss = outputs.loss\n",
    "        total_loss += loss.item()\n",
    "\n",
    "        loss.backward()\n",
    "        optimizer.step()\n",
    "    \n",
    "    return total_loss / len(dataloader)"
   ]
  },
  {
   "cell_type": "code",
   "execution_count": 5,
   "id": "7dceb8a1-edf1-42fe-ac48-dc84ed4709cf",
   "metadata": {},
   "outputs": [],
   "source": [
    "from sklearn.metrics import precision_score, recall_score, f1_score, balanced_accuracy_score, matthews_corrcoef\n",
    "from sklearn.preprocessing import label_binarize\n",
    "import numpy as np\n",
    "import torch\n",
    "\n",
    "def eval_model(model, dataloader, criterion, num_labels):\n",
    "    model.eval()\n",
    "    total_loss = 0\n",
    "    all_labels = []\n",
    "    all_preds = []\n",
    "    all_probs = []\n",
    "    \n",
    "    with torch.no_grad():\n",
    "        for batch in dataloader:\n",
    "            input_ids = batch['input_ids'].to(device)\n",
    "            attention_mask = batch['attention_mask'].to(device)\n",
    "            labels = batch['labels'].to(device)\n",
    "\n",
    "            outputs = model(input_ids=input_ids, attention_mask=attention_mask)\n",
    "            logits = outputs.logits\n",
    "            loss = criterion(logits, labels)\n",
    "            total_loss += loss.item()\n",
    "\n",
    "            probs = torch.softmax(logits, dim=1)\n",
    "            _, preds = torch.max(logits, dim=1)\n",
    "\n",
    "            all_labels.extend(labels.cpu().numpy())\n",
    "            all_preds.extend(preds.cpu().numpy())\n",
    "            all_probs.extend(probs.cpu().numpy())\n",
    "\n",
    "    val_loss = total_loss / len(dataloader)\n",
    "    val_accuracy = np.mean(np.array(all_preds) == np.array(all_labels))\n",
    "    precision = precision_score(all_labels, all_preds, average='weighted', zero_division=0)\n",
    "    recall = recall_score(all_labels, all_preds, average='weighted', zero_division=0)\n",
    "    f1 = f1_score(all_labels, all_preds, average='weighted', zero_division=0)\n",
    "    macro_f1 = f1_score(all_labels, all_preds, average='macro', zero_division=0)\n",
    "    balanced_acc = balanced_accuracy_score(all_labels, all_preds)\n",
    "    mcc = matthews_corrcoef(all_labels, all_preds)\n",
    "\n",
    "    return {\n",
    "        \"val_loss\": val_loss,\n",
    "        \"val_accuracy\": val_accuracy,\n",
    "        \"precision\": precision,\n",
    "        \"recall\": recall,\n",
    "        \"f1-score\": f1,\n",
    "        \"macro_f1-score\": macro_f1,\n",
    "        \"balanced_accuracy\": balanced_acc,\n",
    "        \"mcc\": mcc\n",
    "    }"
   ]
  },
  {
   "cell_type": "code",
   "execution_count": 6,
   "id": "0217a72c-db4d-4875-8a00-33f2dae9de5e",
   "metadata": {},
   "outputs": [],
   "source": [
    "from transformers import RobertaTokenizer, RobertaForSequenceClassification\n",
    "from sklearn.model_selection import StratifiedKFold\n",
    "# 設定參數\n",
    "MAX_LENGTH = 128\n",
    "BATCH_SIZE = 16\n",
    "EPOCHS = 20\n",
    "\n",
    "# 初始化 BERT 的 tokenizer\n",
    "tokenizer = RobertaTokenizer.from_pretrained('roberta-base')\n",
    "\n",
    "# 初始化數據\n",
    "messages = df['Inbound Message'].tolist()\n",
    "labels = df['Label'].tolist()\n",
    "\n",
    "# KFold 初始化\n",
    "skf = StratifiedKFold(n_splits=10, shuffle=True, random_state=42)"
   ]
  },
  {
   "cell_type": "code",
   "execution_count": 7,
   "id": "ee99c1b8-2fc7-483a-8cb6-d375039c6cb1",
   "metadata": {
    "scrolled": true
   },
   "outputs": [
    {
     "name": "stderr",
     "output_type": "stream",
     "text": [
      "D:\\Anaconda3\\envs\\cuda\\Lib\\site-packages\\sklearn\\model_selection\\_split.py:737: UserWarning: The least populated class in y has only 7 members, which is less than n_splits=10.\n",
      "  warnings.warn(\n"
     ]
    },
    {
     "name": "stdout",
     "output_type": "stream",
     "text": [
      "Fold 1\n",
      "Training set label distribution: {0: 3576, 1: 28, 2: 126, 3: 27, 4: 231, 5: 130, 6: 107, 7: 35, 8: 76, 9: 73, 10: 79, 11: 194, 12: 217, 13: 32, 14: 26, 15: 28, 16: 23, 17: 260, 18: 104, 19: 51, 20: 16, 21: 39, 22: 88, 23: 180, 24: 18, 25: 56, 26: 97, 27: 55, 28: 13, 29: 15, 30: 17, 31: 90, 32: 40, 33: 36, 34: 34, 35: 13, 36: 32, 37: 24, 38: 7, 39: 116, 40: 13, 41: 9, 42: 166, 43: 18, 44: 22, 45: 10, 46: 61, 47: 595, 48: 227, 49: 78}\n",
      "Validation set label distribution: {0: 398, 1: 3, 2: 14, 3: 3, 4: 26, 5: 15, 6: 11, 7: 4, 8: 9, 9: 8, 10: 9, 11: 21, 12: 24, 13: 4, 14: 3, 15: 3, 16: 2, 17: 29, 18: 12, 19: 5, 20: 2, 21: 5, 22: 9, 23: 20, 24: 2, 25: 7, 26: 10, 27: 6, 28: 2, 29: 1, 30: 2, 31: 10, 32: 5, 33: 4, 34: 3, 35: 2, 36: 3, 37: 3, 39: 13, 40: 1, 41: 2, 42: 18, 43: 2, 44: 3, 45: 1, 46: 7, 47: 66, 48: 25, 49: 9}\n",
      "avg_label_size: 152\n"
     ]
    },
    {
     "name": "stderr",
     "output_type": "stream",
     "text": [
      "Some weights of RobertaForSequenceClassification were not initialized from the model checkpoint at roberta-base and are newly initialized: ['classifier.dense.bias', 'classifier.dense.weight', 'classifier.out_proj.bias', 'classifier.out_proj.weight']\n",
      "You should probably TRAIN this model on a down-stream task to be able to use it for predictions and inference.\n"
     ]
    },
    {
     "name": "stdout",
     "output_type": "stream",
     "text": [
      "Epoch 1/20\n"
     ]
    },
    {
     "name": "stderr",
     "output_type": "stream",
     "text": [
      "100%|██████████| 743/743 [05:39<00:00,  2.19it/s]\n",
      "D:\\Anaconda3\\envs\\cuda\\Lib\\site-packages\\sklearn\\metrics\\_classification.py:2458: UserWarning: y_pred contains classes not in y_true\n",
      "  warnings.warn(\"y_pred contains classes not in y_true\")\n"
     ]
    },
    {
     "name": "stdout",
     "output_type": "stream",
     "text": [
      "{'val_loss': 1.4821844730737075, 'val_accuracy': 0.5957446808510638, 'precision': 0.5959500515899222, 'recall': 0.5957446808510638, 'f1-score': 0.557547908417595, 'macro_f1-score': 0.27741460900707304, 'balanced_accuracy': 0.35794546404970096, 'mcc': 0.4580871425836011}\n",
      "Epoch 2/20\n"
     ]
    },
    {
     "name": "stderr",
     "output_type": "stream",
     "text": [
      "100%|██████████| 743/743 [05:45<00:00,  2.15it/s]\n",
      "D:\\Anaconda3\\envs\\cuda\\Lib\\site-packages\\sklearn\\metrics\\_classification.py:2458: UserWarning: y_pred contains classes not in y_true\n",
      "  warnings.warn(\"y_pred contains classes not in y_true\")\n"
     ]
    },
    {
     "name": "stdout",
     "output_type": "stream",
     "text": [
      "{'val_loss': 1.3639354036664062, 'val_accuracy': 0.6430260047281324, 'precision': 0.6157416602580883, 'recall': 0.6430260047281324, 'f1-score': 0.6177128653064358, 'macro_f1-score': 0.34132701704232915, 'balanced_accuracy': 0.3819564241153008, 'mcc': 0.5214417669665102}\n",
      "Epoch 3/20\n"
     ]
    },
    {
     "name": "stderr",
     "output_type": "stream",
     "text": [
      "100%|██████████| 743/743 [05:48<00:00,  2.13it/s]\n"
     ]
    },
    {
     "name": "stdout",
     "output_type": "stream",
     "text": [
      "{'val_loss': 1.4327144825233604, 'val_accuracy': 0.6442080378250591, 'precision': 0.6854372309300681, 'recall': 0.6442080378250591, 'f1-score': 0.6299753680081099, 'macro_f1-score': 0.3903859983750052, 'balanced_accuracy': 0.404013322357135, 'mcc': 0.5233405124469904}\n",
      "Epoch 4/20\n"
     ]
    },
    {
     "name": "stderr",
     "output_type": "stream",
     "text": [
      "100%|██████████| 743/743 [05:32<00:00,  2.24it/s]\n"
     ]
    },
    {
     "name": "stdout",
     "output_type": "stream",
     "text": [
      "{'val_loss': 1.4512892365455627, 'val_accuracy': 0.6761229314420804, 'precision': 0.6742185490679313, 'recall': 0.6761229314420804, 'f1-score': 0.6433416238043425, 'macro_f1-score': 0.3774805867231094, 'balanced_accuracy': 0.37624986714374536, 'mcc': 0.5574885938360664}\n",
      "Epoch 5/20\n"
     ]
    },
    {
     "name": "stderr",
     "output_type": "stream",
     "text": [
      "100%|██████████| 743/743 [05:21<00:00,  2.31it/s]\n"
     ]
    },
    {
     "name": "stdout",
     "output_type": "stream",
     "text": [
      "{'val_loss': 1.5322928552357655, 'val_accuracy': 0.6371158392434988, 'precision': 0.6942829068551197, 'recall': 0.6371158392434988, 'f1-score': 0.6503396810214692, 'macro_f1-score': 0.3897800251585065, 'balanced_accuracy': 0.417973766379341, 'mcc': 0.5433652865526639}\n",
      "Epoch 6/20\n"
     ]
    },
    {
     "name": "stderr",
     "output_type": "stream",
     "text": [
      "100%|██████████| 743/743 [05:21<00:00,  2.31it/s]\n",
      "D:\\Anaconda3\\envs\\cuda\\Lib\\site-packages\\sklearn\\metrics\\_classification.py:2458: UserWarning: y_pred contains classes not in y_true\n",
      "  warnings.warn(\"y_pred contains classes not in y_true\")\n"
     ]
    },
    {
     "name": "stdout",
     "output_type": "stream",
     "text": [
      "{'val_loss': 1.4980559467144732, 'val_accuracy': 0.6784869976359338, 'precision': 0.6684320675148379, 'recall': 0.6784869976359338, 'f1-score': 0.6607948023518874, 'macro_f1-score': 0.40710425111035575, 'balanced_accuracy': 0.4255944798047465, 'mcc': 0.5693629595530353}\n",
      "Epoch 7/20\n"
     ]
    },
    {
     "name": "stderr",
     "output_type": "stream",
     "text": [
      "100%|██████████| 743/743 [05:20<00:00,  2.32it/s]\n",
      "D:\\Anaconda3\\envs\\cuda\\Lib\\site-packages\\sklearn\\metrics\\_classification.py:2458: UserWarning: y_pred contains classes not in y_true\n",
      "  warnings.warn(\"y_pred contains classes not in y_true\")\n"
     ]
    },
    {
     "name": "stdout",
     "output_type": "stream",
     "text": [
      "{'val_loss': 1.636758877421325, 'val_accuracy': 0.6643026004728132, 'precision': 0.6817103120755226, 'recall': 0.6643026004728132, 'f1-score': 0.6583180606276507, 'macro_f1-score': 0.42483170215864335, 'balanced_accuracy': 0.4631440592553865, 'mcc': 0.5661825846158693}\n",
      "Epoch 8/20\n"
     ]
    },
    {
     "name": "stderr",
     "output_type": "stream",
     "text": [
      "100%|██████████| 743/743 [05:20<00:00,  2.31it/s]\n",
      "D:\\Anaconda3\\envs\\cuda\\Lib\\site-packages\\sklearn\\metrics\\_classification.py:2458: UserWarning: y_pred contains classes not in y_true\n",
      "  warnings.warn(\"y_pred contains classes not in y_true\")\n"
     ]
    },
    {
     "name": "stdout",
     "output_type": "stream",
     "text": [
      "{'val_loss': 1.569907621954972, 'val_accuracy': 0.6843971631205674, 'precision': 0.6799308909650487, 'recall': 0.6843971631205674, 'f1-score': 0.6715591389605191, 'macro_f1-score': 0.4045280405914585, 'balanced_accuracy': 0.42937308889653303, 'mcc': 0.581755068830885}\n",
      "Epoch 9/20\n"
     ]
    },
    {
     "name": "stderr",
     "output_type": "stream",
     "text": [
      "100%|██████████| 743/743 [05:20<00:00,  2.32it/s]\n",
      "D:\\Anaconda3\\envs\\cuda\\Lib\\site-packages\\sklearn\\metrics\\_classification.py:2458: UserWarning: y_pred contains classes not in y_true\n",
      "  warnings.warn(\"y_pred contains classes not in y_true\")\n"
     ]
    },
    {
     "name": "stdout",
     "output_type": "stream",
     "text": [
      "{'val_loss': 1.5919684379730585, 'val_accuracy': 0.66548463356974, 'precision': 0.6860756587436357, 'recall': 0.66548463356974, 'f1-score': 0.6612045146490373, 'macro_f1-score': 0.4137136473612189, 'balanced_accuracy': 0.4384399311917621, 'mcc': 0.562205742785788}\n",
      "Epoch 10/20\n"
     ]
    },
    {
     "name": "stderr",
     "output_type": "stream",
     "text": [
      "100%|██████████| 743/743 [05:20<00:00,  2.32it/s]\n",
      "D:\\Anaconda3\\envs\\cuda\\Lib\\site-packages\\sklearn\\metrics\\_classification.py:2458: UserWarning: y_pred contains classes not in y_true\n",
      "  warnings.warn(\"y_pred contains classes not in y_true\")\n"
     ]
    },
    {
     "name": "stdout",
     "output_type": "stream",
     "text": [
      "{'val_loss': 1.5757664110300675, 'val_accuracy': 0.6891252955082743, 'precision': 0.6966314566421944, 'recall': 0.6891252955082743, 'f1-score': 0.6823540018643108, 'macro_f1-score': 0.420846675458877, 'balanced_accuracy': 0.4289189262265056, 'mcc': 0.5893471516279769}\n",
      "Early stopping triggered at epoch 10\n",
      "Fold 2\n",
      "Training set label distribution: {0: 3576, 1: 28, 2: 126, 3: 27, 4: 231, 5: 131, 6: 106, 7: 35, 8: 76, 9: 73, 10: 79, 11: 194, 12: 217, 13: 32, 14: 26, 15: 28, 16: 23, 17: 260, 18: 104, 19: 51, 20: 16, 21: 39, 22: 88, 23: 180, 24: 18, 25: 56, 26: 97, 27: 55, 28: 13, 29: 15, 30: 17, 31: 90, 32: 40, 33: 36, 34: 34, 35: 13, 36: 32, 37: 24, 38: 6, 39: 116, 40: 13, 41: 10, 42: 166, 43: 18, 44: 22, 45: 10, 46: 61, 47: 595, 48: 227, 49: 78}\n",
      "Validation set label distribution: {0: 398, 1: 3, 2: 14, 3: 3, 4: 26, 5: 14, 6: 12, 7: 4, 8: 9, 9: 8, 10: 9, 11: 21, 12: 24, 13: 4, 14: 3, 15: 3, 16: 2, 17: 29, 18: 12, 19: 5, 20: 2, 21: 5, 22: 9, 23: 20, 24: 2, 25: 7, 26: 10, 27: 6, 28: 2, 29: 1, 30: 2, 31: 10, 32: 5, 33: 4, 34: 3, 35: 2, 36: 3, 37: 3, 38: 1, 39: 13, 40: 1, 41: 1, 42: 18, 43: 2, 44: 3, 45: 1, 46: 7, 47: 66, 48: 25, 49: 9}\n",
      "avg_label_size: 152\n"
     ]
    },
    {
     "name": "stderr",
     "output_type": "stream",
     "text": [
      "Some weights of RobertaForSequenceClassification were not initialized from the model checkpoint at roberta-base and are newly initialized: ['classifier.dense.bias', 'classifier.dense.weight', 'classifier.out_proj.bias', 'classifier.out_proj.weight']\n",
      "You should probably TRAIN this model on a down-stream task to be able to use it for predictions and inference.\n"
     ]
    },
    {
     "name": "stdout",
     "output_type": "stream",
     "text": [
      "Epoch 1/20\n"
     ]
    },
    {
     "name": "stderr",
     "output_type": "stream",
     "text": [
      "100%|██████████| 743/743 [05:20<00:00,  2.32it/s]\n"
     ]
    },
    {
     "name": "stdout",
     "output_type": "stream",
     "text": [
      "{'val_loss': 1.5700932246334147, 'val_accuracy': 0.5531914893617021, 'precision': 0.565670366662688, 'recall': 0.5531914893617021, 'f1-score': 0.5254919605694363, 'macro_f1-score': 0.23407788035335464, 'balanced_accuracy': 0.3632526581314487, 'mcc': 0.42107672535873863}\n",
      "Epoch 2/20\n"
     ]
    },
    {
     "name": "stderr",
     "output_type": "stream",
     "text": [
      "100%|██████████| 743/743 [05:20<00:00,  2.32it/s]\n"
     ]
    },
    {
     "name": "stdout",
     "output_type": "stream",
     "text": [
      "{'val_loss': 1.3275081610904549, 'val_accuracy': 0.6347517730496454, 'precision': 0.6384360824638408, 'recall': 0.6347517730496454, 'f1-score': 0.6169542515687656, 'macro_f1-score': 0.3470465290506363, 'balanced_accuracy': 0.39091745214872925, 'mcc': 0.525039118041594}\n",
      "Epoch 3/20\n"
     ]
    },
    {
     "name": "stderr",
     "output_type": "stream",
     "text": [
      "100%|██████████| 743/743 [05:20<00:00,  2.32it/s]\n"
     ]
    },
    {
     "name": "stdout",
     "output_type": "stream",
     "text": [
      "{'val_loss': 1.3252363407386925, 'val_accuracy': 0.6394799054373522, 'precision': 0.6877019518428893, 'recall': 0.6394799054373522, 'f1-score': 0.6280715183990526, 'macro_f1-score': 0.34587995878242617, 'balanced_accuracy': 0.37151357725429807, 'mcc': 0.5177714939956682}\n",
      "Epoch 4/20\n"
     ]
    },
    {
     "name": "stderr",
     "output_type": "stream",
     "text": [
      "100%|██████████| 743/743 [05:20<00:00,  2.32it/s]\n"
     ]
    },
    {
     "name": "stdout",
     "output_type": "stream",
     "text": [
      "{'val_loss': 1.3187573076981418, 'val_accuracy': 0.6702127659574468, 'precision': 0.6621338305248315, 'recall': 0.6702127659574468, 'f1-score': 0.6406002258571091, 'macro_f1-score': 0.37082966727716005, 'balanced_accuracy': 0.36402914572671974, 'mcc': 0.5511206886729939}\n",
      "Epoch 5/20\n"
     ]
    },
    {
     "name": "stderr",
     "output_type": "stream",
     "text": [
      "100%|██████████| 743/743 [05:20<00:00,  2.32it/s]\n"
     ]
    },
    {
     "name": "stdout",
     "output_type": "stream",
     "text": [
      "{'val_loss': 1.404525468371949, 'val_accuracy': 0.6524822695035462, 'precision': 0.7078164643566048, 'recall': 0.6524822695035462, 'f1-score': 0.6576494576007443, 'macro_f1-score': 0.41155188290010825, 'balanced_accuracy': 0.4472604957125318, 'mcc': 0.5548037355019328}\n",
      "Epoch 6/20\n"
     ]
    },
    {
     "name": "stderr",
     "output_type": "stream",
     "text": [
      "100%|██████████| 743/743 [05:20<00:00,  2.32it/s]\n"
     ]
    },
    {
     "name": "stdout",
     "output_type": "stream",
     "text": [
      "{'val_loss': 1.4432630398363437, 'val_accuracy': 0.6702127659574468, 'precision': 0.666078293787789, 'recall': 0.6702127659574468, 'f1-score': 0.6538211466044136, 'macro_f1-score': 0.3660886460843744, 'balanced_accuracy': 0.37155407746722946, 'mcc': 0.5643123718715493}\n",
      "Epoch 7/20\n"
     ]
    },
    {
     "name": "stderr",
     "output_type": "stream",
     "text": [
      "100%|██████████| 743/743 [05:20<00:00,  2.32it/s]\n"
     ]
    },
    {
     "name": "stdout",
     "output_type": "stream",
     "text": [
      "{'val_loss': 1.552037145731584, 'val_accuracy': 0.6548463356973995, 'precision': 0.6621958869651673, 'recall': 0.6548463356973995, 'f1-score': 0.6487999056586232, 'macro_f1-score': 0.39389737207067577, 'balanced_accuracy': 0.39505204784626025, 'mcc': 0.5438397704771931}\n",
      "Epoch 8/20\n"
     ]
    },
    {
     "name": "stderr",
     "output_type": "stream",
     "text": [
      "100%|██████████| 743/743 [05:20<00:00,  2.32it/s]\n"
     ]
    },
    {
     "name": "stdout",
     "output_type": "stream",
     "text": [
      "{'val_loss': 1.52664193848394, 'val_accuracy': 0.66548463356974, 'precision': 0.6727342364429728, 'recall': 0.66548463356974, 'f1-score': 0.6558632732487778, 'macro_f1-score': 0.38729429202150834, 'balanced_accuracy': 0.39391693251202864, 'mcc': 0.5610686920075237}\n",
      "Early stopping triggered at epoch 8\n",
      "Fold 3\n",
      "Training set label distribution: {0: 3576, 1: 28, 2: 126, 3: 27, 4: 231, 5: 131, 6: 106, 7: 35, 8: 76, 9: 73, 10: 80, 11: 193, 12: 217, 13: 32, 14: 26, 15: 28, 16: 23, 17: 260, 18: 104, 19: 51, 20: 16, 21: 40, 22: 87, 23: 180, 24: 18, 25: 57, 26: 96, 27: 55, 28: 14, 29: 14, 30: 17, 31: 90, 32: 41, 33: 36, 34: 33, 35: 13, 36: 32, 37: 24, 38: 6, 39: 116, 40: 13, 41: 10, 42: 166, 43: 18, 44: 22, 45: 10, 46: 61, 47: 595, 48: 227, 49: 78}\n",
      "Validation set label distribution: {0: 398, 1: 3, 2: 14, 3: 3, 4: 26, 5: 14, 6: 12, 7: 4, 8: 9, 9: 8, 10: 8, 11: 22, 12: 24, 13: 4, 14: 3, 15: 3, 16: 2, 17: 29, 18: 12, 19: 5, 20: 2, 21: 4, 22: 10, 23: 20, 24: 2, 25: 6, 26: 11, 27: 6, 28: 1, 29: 2, 30: 2, 31: 10, 32: 4, 33: 4, 34: 4, 35: 2, 36: 3, 37: 3, 38: 1, 39: 13, 40: 1, 41: 1, 42: 18, 43: 2, 44: 3, 45: 1, 46: 7, 47: 66, 48: 25, 49: 9}\n",
      "avg_label_size: 152\n"
     ]
    },
    {
     "name": "stderr",
     "output_type": "stream",
     "text": [
      "Some weights of RobertaForSequenceClassification were not initialized from the model checkpoint at roberta-base and are newly initialized: ['classifier.dense.bias', 'classifier.dense.weight', 'classifier.out_proj.bias', 'classifier.out_proj.weight']\n",
      "You should probably TRAIN this model on a down-stream task to be able to use it for predictions and inference.\n"
     ]
    },
    {
     "name": "stdout",
     "output_type": "stream",
     "text": [
      "Epoch 1/20\n"
     ]
    },
    {
     "name": "stderr",
     "output_type": "stream",
     "text": [
      "100%|██████████| 743/743 [05:20<00:00,  2.32it/s]\n"
     ]
    },
    {
     "name": "stdout",
     "output_type": "stream",
     "text": [
      "{'val_loss': 1.4375637623499025, 'val_accuracy': 0.6028368794326241, 'precision': 0.5468932561946275, 'recall': 0.6028368794326241, 'f1-score': 0.5533380717970936, 'macro_f1-score': 0.27193174260423125, 'balanced_accuracy': 0.3261870111828524, 'mcc': 0.4550799575039396}\n",
      "Epoch 2/20\n"
     ]
    },
    {
     "name": "stderr",
     "output_type": "stream",
     "text": [
      "100%|██████████| 743/743 [05:20<00:00,  2.32it/s]\n"
     ]
    },
    {
     "name": "stdout",
     "output_type": "stream",
     "text": [
      "{'val_loss': 1.2719754992790941, 'val_accuracy': 0.6418439716312057, 'precision': 0.6564636454239144, 'recall': 0.6418439716312057, 'f1-score': 0.6310346815149691, 'macro_f1-score': 0.3949115567385376, 'balanced_accuracy': 0.43632719701792655, 'mcc': 0.5237132501903902}\n",
      "Epoch 3/20\n"
     ]
    },
    {
     "name": "stderr",
     "output_type": "stream",
     "text": [
      "100%|██████████| 743/743 [05:20<00:00,  2.32it/s]\n"
     ]
    },
    {
     "name": "stdout",
     "output_type": "stream",
     "text": [
      "{'val_loss': 1.2865930868769593, 'val_accuracy': 0.648936170212766, 'precision': 0.6742987841887823, 'recall': 0.648936170212766, 'f1-score': 0.6370482705116017, 'macro_f1-score': 0.38383078348844374, 'balanced_accuracy': 0.41181042357015324, 'mcc': 0.5361055510394833}\n",
      "Epoch 4/20\n"
     ]
    },
    {
     "name": "stderr",
     "output_type": "stream",
     "text": [
      "100%|██████████| 743/743 [05:20<00:00,  2.32it/s]\n"
     ]
    },
    {
     "name": "stdout",
     "output_type": "stream",
     "text": [
      "{'val_loss': 1.3904909365019709, 'val_accuracy': 0.6453900709219859, 'precision': 0.6630102494767045, 'recall': 0.6453900709219859, 'f1-score': 0.6383835962445733, 'macro_f1-score': 0.3863344563766083, 'balanced_accuracy': 0.4081371255037344, 'mcc': 0.5343683811799134}\n",
      "Epoch 5/20\n"
     ]
    },
    {
     "name": "stderr",
     "output_type": "stream",
     "text": [
      "100%|██████████| 743/743 [05:20<00:00,  2.32it/s]\n"
     ]
    },
    {
     "name": "stdout",
     "output_type": "stream",
     "text": [
      "{'val_loss': 1.4277765638423416, 'val_accuracy': 0.6631205673758865, 'precision': 0.6640574931769719, 'recall': 0.6631205673758865, 'f1-score': 0.6479708841099832, 'macro_f1-score': 0.3877141106826334, 'balanced_accuracy': 0.41331450689321075, 'mcc': 0.5548904390901677}\n",
      "Early stopping triggered at epoch 5\n",
      "Fold 4\n",
      "Training set label distribution: {0: 3576, 1: 28, 2: 126, 3: 27, 4: 231, 5: 131, 6: 106, 7: 35, 8: 77, 9: 72, 10: 80, 11: 193, 12: 217, 13: 32, 14: 27, 15: 27, 16: 23, 17: 260, 18: 104, 19: 51, 20: 16, 21: 40, 22: 87, 23: 180, 24: 18, 25: 57, 26: 96, 27: 55, 28: 14, 29: 14, 30: 17, 31: 90, 32: 41, 33: 36, 34: 33, 35: 13, 36: 32, 37: 24, 38: 6, 39: 116, 40: 13, 41: 10, 42: 166, 43: 18, 44: 23, 45: 9, 46: 61, 47: 595, 48: 227, 49: 78}\n",
      "Validation set label distribution: {0: 398, 1: 3, 2: 14, 3: 3, 4: 26, 5: 14, 6: 12, 7: 4, 8: 8, 9: 9, 10: 8, 11: 22, 12: 24, 13: 4, 14: 2, 15: 4, 16: 2, 17: 29, 18: 12, 19: 5, 20: 2, 21: 4, 22: 10, 23: 20, 24: 2, 25: 6, 26: 11, 27: 6, 28: 1, 29: 2, 30: 2, 31: 10, 32: 4, 33: 4, 34: 4, 35: 2, 36: 3, 37: 3, 38: 1, 39: 13, 40: 1, 41: 1, 42: 18, 43: 2, 44: 2, 45: 2, 46: 7, 47: 66, 48: 25, 49: 9}\n",
      "avg_label_size: 152\n"
     ]
    },
    {
     "name": "stderr",
     "output_type": "stream",
     "text": [
      "Some weights of RobertaForSequenceClassification were not initialized from the model checkpoint at roberta-base and are newly initialized: ['classifier.dense.bias', 'classifier.dense.weight', 'classifier.out_proj.bias', 'classifier.out_proj.weight']\n",
      "You should probably TRAIN this model on a down-stream task to be able to use it for predictions and inference.\n"
     ]
    },
    {
     "name": "stdout",
     "output_type": "stream",
     "text": [
      "Epoch 1/20\n"
     ]
    },
    {
     "name": "stderr",
     "output_type": "stream",
     "text": [
      "100%|██████████| 743/743 [05:21<00:00,  2.31it/s]\n"
     ]
    },
    {
     "name": "stdout",
     "output_type": "stream",
     "text": [
      "{'val_loss': 1.5267829276480764, 'val_accuracy': 0.5839243498817966, 'precision': 0.5298222752552434, 'recall': 0.5839243498817966, 'f1-score': 0.5402378894418653, 'macro_f1-score': 0.23732834288467541, 'balanced_accuracy': 0.31320799909961233, 'mcc': 0.44059267160120147}\n",
      "Epoch 2/20\n"
     ]
    },
    {
     "name": "stderr",
     "output_type": "stream",
     "text": [
      "100%|██████████| 743/743 [05:21<00:00,  2.31it/s]\n"
     ]
    },
    {
     "name": "stdout",
     "output_type": "stream",
     "text": [
      "{'val_loss': 1.3110741781738569, 'val_accuracy': 0.6300236406619385, 'precision': 0.6450478742151792, 'recall': 0.6300236406619385, 'f1-score': 0.6108845392600122, 'macro_f1-score': 0.3828126578941454, 'balanced_accuracy': 0.41425926760430315, 'mcc': 0.507168805374468}\n",
      "Epoch 3/20\n"
     ]
    },
    {
     "name": "stderr",
     "output_type": "stream",
     "text": [
      "100%|██████████| 743/743 [05:20<00:00,  2.32it/s]\n"
     ]
    },
    {
     "name": "stdout",
     "output_type": "stream",
     "text": [
      "{'val_loss': 1.3030172620179519, 'val_accuracy': 0.6477541371158393, 'precision': 0.6299078553389411, 'recall': 0.6477541371158393, 'f1-score': 0.6250755329481462, 'macro_f1-score': 0.37496114400083996, 'balanced_accuracy': 0.40146716723465986, 'mcc': 0.5321720467321013}\n",
      "Epoch 4/20\n"
     ]
    },
    {
     "name": "stderr",
     "output_type": "stream",
     "text": [
      "100%|██████████| 743/743 [05:20<00:00,  2.32it/s]\n"
     ]
    },
    {
     "name": "stdout",
     "output_type": "stream",
     "text": [
      "{'val_loss': 1.48655026813723, 'val_accuracy': 0.6619385342789598, 'precision': 0.6583733740648634, 'recall': 0.6619385342789598, 'f1-score': 0.6098437929017668, 'macro_f1-score': 0.3340040565530613, 'balanced_accuracy': 0.32150995818329037, 'mcc': 0.5271038382861475}\n",
      "Epoch 5/20\n"
     ]
    },
    {
     "name": "stderr",
     "output_type": "stream",
     "text": [
      "100%|██████████| 743/743 [05:21<00:00,  2.31it/s]\n"
     ]
    },
    {
     "name": "stdout",
     "output_type": "stream",
     "text": [
      "{'val_loss': 1.437341661948078, 'val_accuracy': 0.6548463356973995, 'precision': 0.6658323501368099, 'recall': 0.6548463356973995, 'f1-score': 0.6341745947182374, 'macro_f1-score': 0.3560367176584215, 'balanced_accuracy': 0.37570217646963444, 'mcc': 0.5383090703295067}\n",
      "Early stopping triggered at epoch 5\n",
      "Fold 5\n",
      "Training set label distribution: {0: 3577, 1: 27, 2: 126, 3: 27, 4: 231, 5: 131, 6: 106, 7: 35, 8: 77, 9: 73, 10: 79, 11: 193, 12: 217, 13: 33, 14: 26, 15: 28, 16: 22, 17: 260, 18: 105, 19: 50, 20: 16, 21: 40, 22: 87, 23: 180, 24: 18, 25: 57, 26: 96, 27: 55, 28: 14, 29: 14, 30: 17, 31: 90, 32: 41, 33: 36, 34: 33, 35: 14, 36: 31, 37: 24, 38: 6, 39: 117, 40: 13, 41: 10, 42: 165, 43: 18, 44: 23, 45: 10, 46: 61, 47: 595, 48: 227, 49: 78}\n",
      "Validation set label distribution: {0: 397, 1: 4, 2: 14, 3: 3, 4: 26, 5: 14, 6: 12, 7: 4, 8: 8, 9: 8, 10: 9, 11: 22, 12: 24, 13: 3, 14: 3, 15: 3, 16: 3, 17: 29, 18: 11, 19: 6, 20: 2, 21: 4, 22: 10, 23: 20, 24: 2, 25: 6, 26: 11, 27: 6, 28: 1, 29: 2, 30: 2, 31: 10, 32: 4, 33: 4, 34: 4, 35: 1, 36: 4, 37: 3, 38: 1, 39: 12, 40: 1, 41: 1, 42: 19, 43: 2, 44: 2, 45: 1, 46: 7, 47: 66, 48: 25, 49: 9}\n",
      "avg_label_size: 152\n"
     ]
    },
    {
     "name": "stderr",
     "output_type": "stream",
     "text": [
      "Some weights of RobertaForSequenceClassification were not initialized from the model checkpoint at roberta-base and are newly initialized: ['classifier.dense.bias', 'classifier.dense.weight', 'classifier.out_proj.bias', 'classifier.out_proj.weight']\n",
      "You should probably TRAIN this model on a down-stream task to be able to use it for predictions and inference.\n"
     ]
    },
    {
     "name": "stdout",
     "output_type": "stream",
     "text": [
      "Epoch 1/20\n"
     ]
    },
    {
     "name": "stderr",
     "output_type": "stream",
     "text": [
      "100%|██████████| 743/743 [05:21<00:00,  2.31it/s]\n"
     ]
    },
    {
     "name": "stdout",
     "output_type": "stream",
     "text": [
      "{'val_loss': 1.4792731213119794, 'val_accuracy': 0.5905325443786982, 'precision': 0.5545883296422801, 'recall': 0.5905325443786982, 'f1-score': 0.5370308163224113, 'macro_f1-score': 0.24407639001733672, 'balanced_accuracy': 0.294424859461644, 'mcc': 0.43851028791288}\n",
      "Epoch 2/20\n"
     ]
    },
    {
     "name": "stderr",
     "output_type": "stream",
     "text": [
      "100%|██████████| 743/743 [05:21<00:00,  2.31it/s]\n"
     ]
    },
    {
     "name": "stdout",
     "output_type": "stream",
     "text": [
      "{'val_loss': 1.2789887482265256, 'val_accuracy': 0.6544378698224852, 'precision': 0.6532130601587615, 'recall': 0.6544378698224852, 'f1-score': 0.6136366032698292, 'macro_f1-score': 0.37023340520626824, 'balanced_accuracy': 0.35627038733871, 'mcc': 0.525987268257198}\n",
      "Epoch 3/20\n"
     ]
    },
    {
     "name": "stderr",
     "output_type": "stream",
     "text": [
      "100%|██████████| 743/743 [05:20<00:00,  2.31it/s]\n"
     ]
    },
    {
     "name": "stdout",
     "output_type": "stream",
     "text": [
      "{'val_loss': 1.3218197147801238, 'val_accuracy': 0.6497041420118344, 'precision': 0.6177002825516077, 'recall': 0.6497041420118344, 'f1-score': 0.6179430871348349, 'macro_f1-score': 0.35924346687468883, 'balanced_accuracy': 0.3528166975073858, 'mcc': 0.5251573794202541}\n",
      "Epoch 4/20\n"
     ]
    },
    {
     "name": "stderr",
     "output_type": "stream",
     "text": [
      "100%|██████████| 743/743 [05:21<00:00,  2.31it/s]\n"
     ]
    },
    {
     "name": "stdout",
     "output_type": "stream",
     "text": [
      "{'val_loss': 1.4457566251732268, 'val_accuracy': 0.6355029585798817, 'precision': 0.6460629865246532, 'recall': 0.6355029585798817, 'f1-score': 0.6110097746770028, 'macro_f1-score': 0.3522858576132718, 'balanced_accuracy': 0.3720844801174922, 'mcc': 0.5102985974729262}\n",
      "Epoch 5/20\n"
     ]
    },
    {
     "name": "stderr",
     "output_type": "stream",
     "text": [
      "100%|██████████| 743/743 [05:21<00:00,  2.31it/s]\n"
     ]
    },
    {
     "name": "stdout",
     "output_type": "stream",
     "text": [
      "{'val_loss': 1.5214436841460894, 'val_accuracy': 0.6686390532544378, 'precision': 0.6594740788452255, 'recall': 0.6686390532544378, 'f1-score': 0.6285152871696703, 'macro_f1-score': 0.3352225383199531, 'balanced_accuracy': 0.31664704752063344, 'mcc': 0.5444368376237991}\n",
      "Early stopping triggered at epoch 5\n",
      "Fold 6\n",
      "Training set label distribution: {0: 3577, 1: 28, 2: 126, 3: 27, 4: 231, 5: 131, 6: 106, 7: 35, 8: 77, 9: 73, 10: 79, 11: 193, 12: 217, 13: 33, 14: 26, 15: 28, 16: 22, 17: 260, 18: 105, 19: 50, 20: 16, 21: 40, 22: 87, 23: 180, 24: 18, 25: 57, 26: 96, 27: 55, 28: 14, 29: 14, 30: 17, 31: 90, 32: 41, 33: 36, 34: 33, 35: 14, 36: 31, 37: 24, 38: 6, 39: 116, 40: 13, 41: 10, 42: 165, 43: 18, 44: 23, 45: 10, 46: 61, 47: 595, 48: 227, 49: 78}\n",
      "Validation set label distribution: {0: 397, 1: 3, 2: 14, 3: 3, 4: 26, 5: 14, 6: 12, 7: 4, 8: 8, 9: 8, 10: 9, 11: 22, 12: 24, 13: 3, 14: 3, 15: 3, 16: 3, 17: 29, 18: 11, 19: 6, 20: 2, 21: 4, 22: 10, 23: 20, 24: 2, 25: 6, 26: 11, 27: 6, 28: 1, 29: 2, 30: 2, 31: 10, 32: 4, 33: 4, 34: 4, 35: 1, 36: 4, 37: 3, 38: 1, 39: 13, 40: 1, 41: 1, 42: 19, 43: 2, 44: 2, 45: 1, 46: 7, 47: 66, 48: 25, 49: 9}\n",
      "avg_label_size: 152\n"
     ]
    },
    {
     "name": "stderr",
     "output_type": "stream",
     "text": [
      "Some weights of RobertaForSequenceClassification were not initialized from the model checkpoint at roberta-base and are newly initialized: ['classifier.dense.bias', 'classifier.dense.weight', 'classifier.out_proj.bias', 'classifier.out_proj.weight']\n",
      "You should probably TRAIN this model on a down-stream task to be able to use it for predictions and inference.\n"
     ]
    },
    {
     "name": "stdout",
     "output_type": "stream",
     "text": [
      "Epoch 1/20\n"
     ]
    },
    {
     "name": "stderr",
     "output_type": "stream",
     "text": [
      "100%|██████████| 743/743 [05:20<00:00,  2.32it/s]\n"
     ]
    },
    {
     "name": "stdout",
     "output_type": "stream",
     "text": [
      "{'val_loss': 1.4691233792394962, 'val_accuracy': 0.58698224852071, 'precision': 0.5325193009814314, 'recall': 0.58698224852071, 'f1-score': 0.5332393098162362, 'macro_f1-score': 0.2559825343777905, 'balanced_accuracy': 0.3059187961540954, 'mcc': 0.4371308604408978}\n",
      "Epoch 2/20\n"
     ]
    },
    {
     "name": "stderr",
     "output_type": "stream",
     "text": [
      "100%|██████████| 743/743 [05:20<00:00,  2.32it/s]\n"
     ]
    },
    {
     "name": "stdout",
     "output_type": "stream",
     "text": [
      "{'val_loss': 1.2951403698831234, 'val_accuracy': 0.6307692307692307, 'precision': 0.6308347022072893, 'recall': 0.6307692307692307, 'f1-score': 0.5968028796865252, 'macro_f1-score': 0.3240170643287453, 'balanced_accuracy': 0.363627107812235, 'mcc': 0.49391785221955875}\n",
      "Epoch 3/20\n"
     ]
    },
    {
     "name": "stderr",
     "output_type": "stream",
     "text": [
      "100%|██████████| 743/743 [05:20<00:00,  2.32it/s]\n"
     ]
    },
    {
     "name": "stdout",
     "output_type": "stream",
     "text": [
      "{'val_loss': 1.3676500899611779, 'val_accuracy': 0.6615384615384615, 'precision': 0.6247836482528041, 'recall': 0.6615384615384615, 'f1-score': 0.6206338139422234, 'macro_f1-score': 0.3749973337569438, 'balanced_accuracy': 0.38861386535670744, 'mcc': 0.5341470904549851}\n",
      "Epoch 4/20\n"
     ]
    },
    {
     "name": "stderr",
     "output_type": "stream",
     "text": [
      "100%|██████████| 743/743 [05:20<00:00,  2.32it/s]\n"
     ]
    },
    {
     "name": "stdout",
     "output_type": "stream",
     "text": [
      "{'val_loss': 1.3792240091089933, 'val_accuracy': 0.621301775147929, 'precision': 0.6556094305819797, 'recall': 0.621301775147929, 'f1-score': 0.6196545917939232, 'macro_f1-score': 0.32846774981454635, 'balanced_accuracy': 0.35422511719338046, 'mcc': 0.5113642982833047}\n",
      "Epoch 5/20\n"
     ]
    },
    {
     "name": "stderr",
     "output_type": "stream",
     "text": [
      "100%|██████████| 743/743 [05:20<00:00,  2.32it/s]\n"
     ]
    },
    {
     "name": "stdout",
     "output_type": "stream",
     "text": [
      "{'val_loss': 1.4319065820496037, 'val_accuracy': 0.659171597633136, 'precision': 0.6644332985241596, 'recall': 0.659171597633136, 'f1-score': 0.6484664473114292, 'macro_f1-score': 0.35650800406533284, 'balanced_accuracy': 0.37778341832057316, 'mcc': 0.5564352192089916}\n",
      "Epoch 6/20\n"
     ]
    },
    {
     "name": "stderr",
     "output_type": "stream",
     "text": [
      "100%|██████████| 743/743 [05:20<00:00,  2.32it/s]\n"
     ]
    },
    {
     "name": "stdout",
     "output_type": "stream",
     "text": [
      "{'val_loss': 1.6117609008303229, 'val_accuracy': 0.6544378698224852, 'precision': 0.6760544573794843, 'recall': 0.6544378698224852, 'f1-score': 0.6433758758471279, 'macro_f1-score': 0.35937797538493077, 'balanced_accuracy': 0.3938076470491169, 'mcc': 0.5404483660758238}\n",
      "Early stopping triggered at epoch 6\n",
      "Fold 7\n",
      "Training set label distribution: {0: 3577, 1: 28, 2: 126, 3: 27, 4: 232, 5: 130, 6: 106, 7: 35, 8: 77, 9: 73, 10: 79, 11: 193, 12: 217, 13: 33, 14: 26, 15: 28, 16: 22, 17: 260, 18: 105, 19: 50, 20: 16, 21: 40, 22: 87, 23: 180, 24: 18, 25: 57, 26: 96, 27: 55, 28: 14, 29: 14, 30: 17, 31: 90, 32: 41, 33: 36, 34: 33, 35: 14, 36: 31, 37: 25, 38: 6, 39: 116, 40: 12, 41: 10, 42: 165, 43: 18, 44: 23, 45: 10, 46: 62, 47: 594, 48: 227, 49: 78}\n",
      "Validation set label distribution: {0: 397, 1: 3, 2: 14, 3: 3, 4: 25, 5: 15, 6: 12, 7: 4, 8: 8, 9: 8, 10: 9, 11: 22, 12: 24, 13: 3, 14: 3, 15: 3, 16: 3, 17: 29, 18: 11, 19: 6, 20: 2, 21: 4, 22: 10, 23: 20, 24: 2, 25: 6, 26: 11, 27: 6, 28: 1, 29: 2, 30: 2, 31: 10, 32: 4, 33: 4, 34: 4, 35: 1, 36: 4, 37: 2, 38: 1, 39: 13, 40: 2, 41: 1, 42: 19, 43: 2, 44: 2, 45: 1, 46: 6, 47: 67, 48: 25, 49: 9}\n",
      "avg_label_size: 152\n"
     ]
    },
    {
     "name": "stderr",
     "output_type": "stream",
     "text": [
      "Some weights of RobertaForSequenceClassification were not initialized from the model checkpoint at roberta-base and are newly initialized: ['classifier.dense.bias', 'classifier.dense.weight', 'classifier.out_proj.bias', 'classifier.out_proj.weight']\n",
      "You should probably TRAIN this model on a down-stream task to be able to use it for predictions and inference.\n"
     ]
    },
    {
     "name": "stdout",
     "output_type": "stream",
     "text": [
      "Epoch 1/20\n"
     ]
    },
    {
     "name": "stderr",
     "output_type": "stream",
     "text": [
      "100%|██████████| 743/743 [05:20<00:00,  2.32it/s]\n"
     ]
    },
    {
     "name": "stdout",
     "output_type": "stream",
     "text": [
      "{'val_loss': 1.4461406789860636, 'val_accuracy': 0.5988165680473373, 'precision': 0.5692223161453931, 'recall': 0.5988165680473373, 'f1-score': 0.5636144605924338, 'macro_f1-score': 0.29139732614988295, 'balanced_accuracy': 0.3777161397965385, 'mcc': 0.4706585889031606}\n",
      "Epoch 2/20\n"
     ]
    },
    {
     "name": "stderr",
     "output_type": "stream",
     "text": [
      "100%|██████████| 743/743 [05:20<00:00,  2.32it/s]\n"
     ]
    },
    {
     "name": "stdout",
     "output_type": "stream",
     "text": [
      "{'val_loss': 1.258743238898943, 'val_accuracy': 0.6710059171597633, 'precision': 0.6450789109386393, 'recall': 0.6710059171597633, 'f1-score': 0.6441427736319084, 'macro_f1-score': 0.41216036599257827, 'balanced_accuracy': 0.4421665784478095, 'mcc': 0.5573427106327619}\n",
      "Epoch 3/20\n"
     ]
    },
    {
     "name": "stderr",
     "output_type": "stream",
     "text": [
      "100%|██████████| 743/743 [05:20<00:00,  2.32it/s]\n"
     ]
    },
    {
     "name": "stdout",
     "output_type": "stream",
     "text": [
      "{'val_loss': 1.2605257436351955, 'val_accuracy': 0.6733727810650888, 'precision': 0.6727060440183891, 'recall': 0.6733727810650888, 'f1-score': 0.6573216477803372, 'macro_f1-score': 0.43835240013784016, 'balanced_accuracy': 0.45583091622656524, 'mcc': 0.5647838567353309}\n",
      "Epoch 4/20\n"
     ]
    },
    {
     "name": "stderr",
     "output_type": "stream",
     "text": [
      "100%|██████████| 743/743 [05:20<00:00,  2.32it/s]\n"
     ]
    },
    {
     "name": "stdout",
     "output_type": "stream",
     "text": [
      "{'val_loss': 1.3816113646300334, 'val_accuracy': 0.6402366863905326, 'precision': 0.6863250122458027, 'recall': 0.6402366863905326, 'f1-score': 0.6433170719804876, 'macro_f1-score': 0.4224985218196077, 'balanced_accuracy': 0.4706586652732414, 'mcc': 0.5317217174542758}\n",
      "Epoch 5/20\n"
     ]
    },
    {
     "name": "stderr",
     "output_type": "stream",
     "text": [
      "100%|██████████| 743/743 [05:20<00:00,  2.32it/s]\n"
     ]
    },
    {
     "name": "stdout",
     "output_type": "stream",
     "text": [
      "{'val_loss': 1.4282552962595563, 'val_accuracy': 0.6627218934911243, 'precision': 0.6843038562444511, 'recall': 0.6627218934911243, 'f1-score': 0.6649790522514845, 'macro_f1-score': 0.4604860584785468, 'balanced_accuracy': 0.4829304430678263, 'mcc': 0.5631463842919534}\n",
      "Epoch 6/20\n"
     ]
    },
    {
     "name": "stderr",
     "output_type": "stream",
     "text": [
      "100%|██████████| 743/743 [05:20<00:00,  2.32it/s]\n"
     ]
    },
    {
     "name": "stdout",
     "output_type": "stream",
     "text": [
      "{'val_loss': 1.493929556237077, 'val_accuracy': 0.6603550295857988, 'precision': 0.6768641354385025, 'recall': 0.6603550295857988, 'f1-score': 0.6606550878520692, 'macro_f1-score': 0.45005908985969645, 'balanced_accuracy': 0.48168770294475827, 'mcc': 0.5661873572390753}\n",
      "Epoch 7/20\n"
     ]
    },
    {
     "name": "stderr",
     "output_type": "stream",
     "text": [
      "100%|██████████| 743/743 [05:20<00:00,  2.32it/s]\n"
     ]
    },
    {
     "name": "stdout",
     "output_type": "stream",
     "text": [
      "{'val_loss': 1.50561366623865, 'val_accuracy': 0.6816568047337278, 'precision': 0.69183499763027, 'recall': 0.6816568047337278, 'f1-score': 0.670194346780116, 'macro_f1-score': 0.46715570943645623, 'balanced_accuracy': 0.4869790128843286, 'mcc': 0.5753466033209246}\n",
      "Epoch 8/20\n"
     ]
    },
    {
     "name": "stderr",
     "output_type": "stream",
     "text": [
      "100%|██████████| 743/743 [05:20<00:00,  2.32it/s]\n"
     ]
    },
    {
     "name": "stdout",
     "output_type": "stream",
     "text": [
      "{'val_loss': 1.5417969052521687, 'val_accuracy': 0.6792899408284023, 'precision': 0.6823677156090734, 'recall': 0.6792899408284023, 'f1-score': 0.6749596833998064, 'macro_f1-score': 0.4365478730695886, 'balanced_accuracy': 0.4420586783290291, 'mcc': 0.5802240040885301}\n",
      "Epoch 9/20\n"
     ]
    },
    {
     "name": "stderr",
     "output_type": "stream",
     "text": [
      "100%|██████████| 743/743 [05:20<00:00,  2.32it/s]\n"
     ]
    },
    {
     "name": "stdout",
     "output_type": "stream",
     "text": [
      "{'val_loss': 1.551356682518743, 'val_accuracy': 0.685207100591716, 'precision': 0.6737689008753741, 'recall': 0.685207100591716, 'f1-score': 0.6679225574156191, 'macro_f1-score': 0.42438125923994646, 'balanced_accuracy': 0.4388275671046691, 'mcc': 0.5826277421272165}\n",
      "Epoch 10/20\n"
     ]
    },
    {
     "name": "stderr",
     "output_type": "stream",
     "text": [
      "100%|██████████| 743/743 [05:20<00:00,  2.32it/s]\n"
     ]
    },
    {
     "name": "stdout",
     "output_type": "stream",
     "text": [
      "{'val_loss': 1.649752969730575, 'val_accuracy': 0.6686390532544378, 'precision': 0.6775678110095272, 'recall': 0.6686390532544378, 'f1-score': 0.6623362352782207, 'macro_f1-score': 0.44348377146009904, 'balanced_accuracy': 0.4484845797523591, 'mcc': 0.5633209243010596}\n",
      "Early stopping triggered at epoch 10\n",
      "Fold 8\n",
      "Training set label distribution: {0: 3577, 1: 28, 2: 126, 3: 27, 4: 232, 5: 130, 6: 106, 7: 35, 8: 77, 9: 73, 10: 79, 11: 194, 12: 216, 13: 33, 14: 26, 15: 28, 16: 22, 17: 260, 18: 105, 19: 50, 20: 16, 21: 40, 22: 87, 23: 180, 24: 18, 25: 57, 26: 96, 27: 55, 28: 13, 29: 14, 30: 18, 31: 90, 32: 40, 33: 36, 34: 33, 35: 14, 36: 31, 37: 25, 38: 6, 39: 116, 40: 12, 41: 10, 42: 165, 43: 18, 44: 23, 45: 10, 46: 62, 47: 595, 48: 226, 49: 79}\n",
      "Validation set label distribution: {0: 397, 1: 3, 2: 14, 3: 3, 4: 25, 5: 15, 6: 12, 7: 4, 8: 8, 9: 8, 10: 9, 11: 21, 12: 25, 13: 3, 14: 3, 15: 3, 16: 3, 17: 29, 18: 11, 19: 6, 20: 2, 21: 4, 22: 10, 23: 20, 24: 2, 25: 6, 26: 11, 27: 6, 28: 2, 29: 2, 30: 1, 31: 10, 32: 5, 33: 4, 34: 4, 35: 1, 36: 4, 37: 2, 38: 1, 39: 13, 40: 2, 41: 1, 42: 19, 43: 2, 44: 2, 45: 1, 46: 6, 47: 66, 48: 26, 49: 8}\n",
      "avg_label_size: 152\n"
     ]
    },
    {
     "name": "stderr",
     "output_type": "stream",
     "text": [
      "Some weights of RobertaForSequenceClassification were not initialized from the model checkpoint at roberta-base and are newly initialized: ['classifier.dense.bias', 'classifier.dense.weight', 'classifier.out_proj.bias', 'classifier.out_proj.weight']\n",
      "You should probably TRAIN this model on a down-stream task to be able to use it for predictions and inference.\n"
     ]
    },
    {
     "name": "stdout",
     "output_type": "stream",
     "text": [
      "Epoch 1/20\n"
     ]
    },
    {
     "name": "stderr",
     "output_type": "stream",
     "text": [
      "100%|██████████| 743/743 [05:20<00:00,  2.32it/s]\n"
     ]
    },
    {
     "name": "stdout",
     "output_type": "stream",
     "text": [
      "{'val_loss': 1.4025967317932058, 'val_accuracy': 0.6153846153846154, 'precision': 0.6167502270377732, 'recall': 0.6153846153846154, 'f1-score': 0.5701295246530722, 'macro_f1-score': 0.31620511409819096, 'balanced_accuracy': 0.3576614251192549, 'mcc': 0.46853076621301015}\n",
      "Epoch 2/20\n"
     ]
    },
    {
     "name": "stderr",
     "output_type": "stream",
     "text": [
      "100%|██████████| 743/743 [05:20<00:00,  2.32it/s]\n"
     ]
    },
    {
     "name": "stdout",
     "output_type": "stream",
     "text": [
      "{'val_loss': 1.2952163371275056, 'val_accuracy': 0.6473372781065089, 'precision': 0.6139456502770114, 'recall': 0.6473372781065089, 'f1-score': 0.6101397737596773, 'macro_f1-score': 0.34391482088074726, 'balanced_accuracy': 0.35630670316998125, 'mcc': 0.5232507952470008}\n",
      "Epoch 3/20\n"
     ]
    },
    {
     "name": "stderr",
     "output_type": "stream",
     "text": [
      "100%|██████████| 743/743 [05:20<00:00,  2.32it/s]\n"
     ]
    },
    {
     "name": "stdout",
     "output_type": "stream",
     "text": [
      "{'val_loss': 1.245693161380741, 'val_accuracy': 0.663905325443787, 'precision': 0.6379735919178191, 'recall': 0.663905325443787, 'f1-score': 0.6326441954629828, 'macro_f1-score': 0.37295933734891995, 'balanced_accuracy': 0.38726477604939935, 'mcc': 0.5453291878103638}\n",
      "Epoch 4/20\n"
     ]
    },
    {
     "name": "stderr",
     "output_type": "stream",
     "text": [
      "100%|██████████| 743/743 [05:20<00:00,  2.32it/s]\n"
     ]
    },
    {
     "name": "stdout",
     "output_type": "stream",
     "text": [
      "{'val_loss': 1.272416668680479, 'val_accuracy': 0.6757396449704142, 'precision': 0.6628266807341455, 'recall': 0.6757396449704142, 'f1-score': 0.6455052538914773, 'macro_f1-score': 0.3476723116500297, 'balanced_accuracy': 0.34087865366530484, 'mcc': 0.5579552012174945}\n",
      "Epoch 5/20\n"
     ]
    },
    {
     "name": "stderr",
     "output_type": "stream",
     "text": [
      "100%|██████████| 743/743 [05:20<00:00,  2.32it/s]\n"
     ]
    },
    {
     "name": "stdout",
     "output_type": "stream",
     "text": [
      "{'val_loss': 1.3913743235873726, 'val_accuracy': 0.6686390532544378, 'precision': 0.6654240088553705, 'recall': 0.6686390532544378, 'f1-score': 0.6495432932876437, 'macro_f1-score': 0.38698020009761824, 'balanced_accuracy': 0.39702932974560423, 'mcc': 0.557168167540021}\n",
      "Epoch 6/20\n"
     ]
    },
    {
     "name": "stderr",
     "output_type": "stream",
     "text": [
      "100%|██████████| 743/743 [05:20<00:00,  2.32it/s]\n"
     ]
    },
    {
     "name": "stdout",
     "output_type": "stream",
     "text": [
      "{'val_loss': 1.336295059969965, 'val_accuracy': 0.6650887573964497, 'precision': 0.6680976844523349, 'recall': 0.6650887573964497, 'f1-score': 0.6528883640214853, 'macro_f1-score': 0.38058180006333225, 'balanced_accuracy': 0.39381840124550016, 'mcc': 0.5616194920974458}\n",
      "Epoch 7/20\n"
     ]
    },
    {
     "name": "stderr",
     "output_type": "stream",
     "text": [
      "100%|██████████| 743/743 [05:20<00:00,  2.32it/s]\n"
     ]
    },
    {
     "name": "stdout",
     "output_type": "stream",
     "text": [
      "{'val_loss': 1.464633029446287, 'val_accuracy': 0.6710059171597633, 'precision': 0.6646964930542125, 'recall': 0.6710059171597633, 'f1-score': 0.6583001610365434, 'macro_f1-score': 0.3852861121044405, 'balanced_accuracy': 0.4076778248656094, 'mcc': 0.5656073968917771}\n",
      "Epoch 8/20\n"
     ]
    },
    {
     "name": "stderr",
     "output_type": "stream",
     "text": [
      "100%|██████████| 743/743 [05:20<00:00,  2.32it/s]\n"
     ]
    },
    {
     "name": "stdout",
     "output_type": "stream",
     "text": [
      "{'val_loss': 1.4380418759471965, 'val_accuracy': 0.6863905325443787, 'precision': 0.698739705088295, 'recall': 0.6863905325443787, 'f1-score': 0.670135105596876, 'macro_f1-score': 0.3970750077606736, 'balanced_accuracy': 0.39692280769385463, 'mcc': 0.5794694851360335}\n",
      "Epoch 9/20\n"
     ]
    },
    {
     "name": "stderr",
     "output_type": "stream",
     "text": [
      "100%|██████████| 743/743 [05:20<00:00,  2.32it/s]\n"
     ]
    },
    {
     "name": "stdout",
     "output_type": "stream",
     "text": [
      "{'val_loss': 1.5186630765784461, 'val_accuracy': 0.6745562130177515, 'precision': 0.6781391938132302, 'recall': 0.6745562130177515, 'f1-score': 0.6608461063782082, 'macro_f1-score': 0.3795656815210267, 'balanced_accuracy': 0.409256694615041, 'mcc': 0.569268543008615}\n",
      "Epoch 10/20\n"
     ]
    },
    {
     "name": "stderr",
     "output_type": "stream",
     "text": [
      "100%|██████████| 743/743 [05:20<00:00,  2.32it/s]\n"
     ]
    },
    {
     "name": "stdout",
     "output_type": "stream",
     "text": [
      "{'val_loss': 1.605266106016231, 'val_accuracy': 0.6390532544378699, 'precision': 0.6733482230850806, 'recall': 0.6390532544378699, 'f1-score': 0.6441972740848008, 'macro_f1-score': 0.4028948354616741, 'balanced_accuracy': 0.44645777489054794, 'mcc': 0.5465642291435061}\n",
      "Epoch 11/20\n"
     ]
    },
    {
     "name": "stderr",
     "output_type": "stream",
     "text": [
      "100%|██████████| 743/743 [05:20<00:00,  2.32it/s]\n"
     ]
    },
    {
     "name": "stdout",
     "output_type": "stream",
     "text": [
      "{'val_loss': 1.6509540629977326, 'val_accuracy': 0.6473372781065089, 'precision': 0.6703503454309413, 'recall': 0.6473372781065089, 'f1-score': 0.6431697454118037, 'macro_f1-score': 0.3575008020592732, 'balanced_accuracy': 0.39281654083579864, 'mcc': 0.537336859021341}\n",
      "Epoch 12/20\n"
     ]
    },
    {
     "name": "stderr",
     "output_type": "stream",
     "text": [
      "100%|██████████| 743/743 [05:20<00:00,  2.32it/s]\n"
     ]
    },
    {
     "name": "stdout",
     "output_type": "stream",
     "text": [
      "{'val_loss': 1.6003904387636005, 'val_accuracy': 0.6792899408284023, 'precision': 0.6750824080965793, 'recall': 0.6792899408284023, 'f1-score': 0.6642924224788328, 'macro_f1-score': 0.37654519506654843, 'balanced_accuracy': 0.40546771964668166, 'mcc': 0.5754739311672155}\n",
      "Epoch 13/20\n"
     ]
    },
    {
     "name": "stderr",
     "output_type": "stream",
     "text": [
      "100%|██████████| 743/743 [05:20<00:00,  2.32it/s]\n"
     ]
    },
    {
     "name": "stdout",
     "output_type": "stream",
     "text": [
      "{'val_loss': 1.6576195870930295, 'val_accuracy': 0.6650887573964497, 'precision': 0.6796884335708195, 'recall': 0.6650887573964497, 'f1-score': 0.6536178729649441, 'macro_f1-score': 0.39549678023571133, 'balanced_accuracy': 0.42937525032554263, 'mcc': 0.560404867603017}\n",
      "Early stopping triggered at epoch 13\n",
      "Fold 9\n",
      "Training set label distribution: {0: 3577, 1: 28, 2: 126, 3: 27, 4: 232, 5: 130, 6: 106, 7: 36, 8: 76, 9: 73, 10: 79, 11: 194, 12: 217, 13: 32, 14: 26, 15: 28, 16: 22, 17: 261, 18: 104, 19: 50, 20: 17, 21: 39, 22: 87, 23: 180, 24: 18, 25: 57, 26: 96, 27: 55, 28: 13, 29: 15, 30: 17, 31: 90, 32: 40, 33: 36, 34: 33, 35: 14, 36: 31, 37: 25, 38: 7, 39: 116, 40: 12, 41: 10, 42: 166, 43: 18, 44: 22, 45: 10, 46: 61, 47: 595, 48: 226, 49: 79}\n",
      "Validation set label distribution: {0: 397, 1: 3, 2: 14, 3: 3, 4: 25, 5: 15, 6: 12, 7: 3, 8: 9, 9: 8, 10: 9, 11: 21, 12: 24, 13: 4, 14: 3, 15: 3, 16: 3, 17: 28, 18: 12, 19: 6, 20: 1, 21: 5, 22: 10, 23: 20, 24: 2, 25: 6, 26: 11, 27: 6, 28: 2, 29: 1, 30: 2, 31: 10, 32: 5, 33: 4, 34: 4, 35: 1, 36: 4, 37: 2, 39: 13, 40: 2, 41: 1, 42: 18, 43: 2, 44: 3, 45: 1, 46: 7, 47: 66, 48: 26, 49: 8}\n",
      "avg_label_size: 152\n"
     ]
    },
    {
     "name": "stderr",
     "output_type": "stream",
     "text": [
      "Some weights of RobertaForSequenceClassification were not initialized from the model checkpoint at roberta-base and are newly initialized: ['classifier.dense.bias', 'classifier.dense.weight', 'classifier.out_proj.bias', 'classifier.out_proj.weight']\n",
      "You should probably TRAIN this model on a down-stream task to be able to use it for predictions and inference.\n"
     ]
    },
    {
     "name": "stdout",
     "output_type": "stream",
     "text": [
      "Epoch 1/20\n"
     ]
    },
    {
     "name": "stderr",
     "output_type": "stream",
     "text": [
      "100%|██████████| 743/743 [05:21<00:00,  2.31it/s]\n"
     ]
    },
    {
     "name": "stdout",
     "output_type": "stream",
     "text": [
      "{'val_loss': 1.4335786239156183, 'val_accuracy': 0.6130177514792899, 'precision': 0.5989893624197761, 'recall': 0.6130177514792899, 'f1-score': 0.5797812057697925, 'macro_f1-score': 0.2895650491710929, 'balanced_accuracy': 0.3430393682581006, 'mcc': 0.4878088745050494}\n",
      "Epoch 2/20\n"
     ]
    },
    {
     "name": "stderr",
     "output_type": "stream",
     "text": [
      "100%|██████████| 743/743 [05:21<00:00,  2.31it/s]\n"
     ]
    },
    {
     "name": "stdout",
     "output_type": "stream",
     "text": [
      "{'val_loss': 1.3445330779507476, 'val_accuracy': 0.6449704142011834, 'precision': 0.6385953353829019, 'recall': 0.6449704142011834, 'f1-score': 0.6240471320546453, 'macro_f1-score': 0.3346404636762676, 'balanced_accuracy': 0.3532476999973016, 'mcc': 0.5272045023170124}\n",
      "Epoch 3/20\n"
     ]
    },
    {
     "name": "stderr",
     "output_type": "stream",
     "text": [
      "100%|██████████| 743/743 [05:21<00:00,  2.31it/s]\n"
     ]
    },
    {
     "name": "stdout",
     "output_type": "stream",
     "text": [
      "{'val_loss': 1.2778169434025604, 'val_accuracy': 0.6603550295857988, 'precision': 0.661112650420783, 'recall': 0.6603550295857988, 'f1-score': 0.6400642856296697, 'macro_f1-score': 0.38674392352254433, 'balanced_accuracy': 0.3837096869899009, 'mcc': 0.5460215693164272}\n",
      "Epoch 4/20\n"
     ]
    },
    {
     "name": "stderr",
     "output_type": "stream",
     "text": [
      "100%|██████████| 743/743 [05:21<00:00,  2.31it/s]\n"
     ]
    },
    {
     "name": "stdout",
     "output_type": "stream",
     "text": [
      "{'val_loss': 1.3688279738966025, 'val_accuracy': 0.6615384615384615, 'precision': 0.6642599665733014, 'recall': 0.6615384615384615, 'f1-score': 0.6474893520034292, 'macro_f1-score': 0.36833346847640075, 'balanced_accuracy': 0.3698629746910218, 'mcc': 0.5487609990222957}\n",
      "Epoch 5/20\n"
     ]
    },
    {
     "name": "stderr",
     "output_type": "stream",
     "text": [
      "100%|██████████| 743/743 [05:21<00:00,  2.31it/s]\n"
     ]
    },
    {
     "name": "stdout",
     "output_type": "stream",
     "text": [
      "{'val_loss': 1.4607159039884243, 'val_accuracy': 0.663905325443787, 'precision': 0.6842727297166246, 'recall': 0.663905325443787, 'f1-score': 0.6654336180329965, 'macro_f1-score': 0.39603529517015, 'balanced_accuracy': 0.414829686697522, 'mcc': 0.5683249829045032}\n",
      "Epoch 6/20\n"
     ]
    },
    {
     "name": "stderr",
     "output_type": "stream",
     "text": [
      "100%|██████████| 743/743 [05:21<00:00,  2.31it/s]\n"
     ]
    },
    {
     "name": "stdout",
     "output_type": "stream",
     "text": [
      "{'val_loss': 1.4418894536090348, 'val_accuracy': 0.6556213017751479, 'precision': 0.6798769848203826, 'recall': 0.6556213017751479, 'f1-score': 0.6522194800027187, 'macro_f1-score': 0.3970175249713693, 'balanced_accuracy': 0.4062446758334282, 'mcc': 0.5543934659604729}\n",
      "Epoch 7/20\n"
     ]
    },
    {
     "name": "stderr",
     "output_type": "stream",
     "text": [
      "100%|██████████| 743/743 [05:21<00:00,  2.31it/s]\n"
     ]
    },
    {
     "name": "stdout",
     "output_type": "stream",
     "text": [
      "{'val_loss': 1.4352331718183913, 'val_accuracy': 0.676923076923077, 'precision': 0.6922242427108678, 'recall': 0.676923076923077, 'f1-score': 0.6681470049616438, 'macro_f1-score': 0.385990760020559, 'balanced_accuracy': 0.3957580354668207, 'mcc': 0.5744526945720564}\n",
      "Epoch 8/20\n"
     ]
    },
    {
     "name": "stderr",
     "output_type": "stream",
     "text": [
      "100%|██████████| 743/743 [05:21<00:00,  2.31it/s]\n",
      "D:\\Anaconda3\\envs\\cuda\\Lib\\site-packages\\sklearn\\metrics\\_classification.py:2458: UserWarning: y_pred contains classes not in y_true\n",
      "  warnings.warn(\"y_pred contains classes not in y_true\")\n"
     ]
    },
    {
     "name": "stdout",
     "output_type": "stream",
     "text": [
      "{'val_loss': 1.6855495206589968, 'val_accuracy': 0.6201183431952663, 'precision': 0.6663038746964417, 'recall': 0.6201183431952663, 'f1-score': 0.6287494948027503, 'macro_f1-score': 0.33906868505447607, 'balanced_accuracy': 0.3858806406043336, 'mcc': 0.521969206829751}\n",
      "Epoch 9/20\n"
     ]
    },
    {
     "name": "stderr",
     "output_type": "stream",
     "text": [
      "100%|██████████| 743/743 [05:21<00:00,  2.31it/s]\n"
     ]
    },
    {
     "name": "stdout",
     "output_type": "stream",
     "text": [
      "{'val_loss': 1.5357036894222476, 'val_accuracy': 0.6840236686390533, 'precision': 0.672965195920192, 'recall': 0.6840236686390533, 'f1-score': 0.6655681895073566, 'macro_f1-score': 0.418367569550228, 'balanced_accuracy': 0.42668113031835847, 'mcc': 0.5811273578299659}\n",
      "Epoch 10/20\n"
     ]
    },
    {
     "name": "stderr",
     "output_type": "stream",
     "text": [
      "100%|██████████| 743/743 [05:21<00:00,  2.31it/s]\n"
     ]
    },
    {
     "name": "stdout",
     "output_type": "stream",
     "text": [
      "{'val_loss': 1.61988702135266, 'val_accuracy': 0.6686390532544378, 'precision': 0.6708869466636603, 'recall': 0.6686390532544378, 'f1-score': 0.6596253943544467, 'macro_f1-score': 0.3716724539049543, 'balanced_accuracy': 0.377550116510174, 'mcc': 0.5642930640714344}\n",
      "Epoch 11/20\n"
     ]
    },
    {
     "name": "stderr",
     "output_type": "stream",
     "text": [
      "100%|██████████| 743/743 [05:21<00:00,  2.31it/s]\n"
     ]
    },
    {
     "name": "stdout",
     "output_type": "stream",
     "text": [
      "{'val_loss': 1.5695595252064038, 'val_accuracy': 0.6863905325443787, 'precision': 0.6898764016682215, 'recall': 0.6863905325443787, 'f1-score': 0.6791704826895278, 'macro_f1-score': 0.43168396570376977, 'balanced_accuracy': 0.4307485490457269, 'mcc': 0.5855118681082645}\n",
      "Epoch 12/20\n"
     ]
    },
    {
     "name": "stderr",
     "output_type": "stream",
     "text": [
      "100%|██████████| 743/743 [05:21<00:00,  2.31it/s]\n"
     ]
    },
    {
     "name": "stdout",
     "output_type": "stream",
     "text": [
      "{'val_loss': 1.6655749088188387, 'val_accuracy': 0.6757396449704142, 'precision': 0.6924391843260906, 'recall': 0.6757396449704142, 'f1-score': 0.6742216316784632, 'macro_f1-score': 0.4424294355061378, 'balanced_accuracy': 0.44254190043065794, 'mcc': 0.5737560907157165}\n",
      "Epoch 13/20\n"
     ]
    },
    {
     "name": "stderr",
     "output_type": "stream",
     "text": [
      "100%|██████████| 743/743 [05:21<00:00,  2.31it/s]\n"
     ]
    },
    {
     "name": "stdout",
     "output_type": "stream",
     "text": [
      "{'val_loss': 1.713179182893825, 'val_accuracy': 0.676923076923077, 'precision': 0.6941304129334338, 'recall': 0.676923076923077, 'f1-score': 0.6702789317467583, 'macro_f1-score': 0.43212668705539825, 'balanced_accuracy': 0.43894699105334994, 'mcc': 0.576758734066041}\n",
      "Epoch 14/20\n"
     ]
    },
    {
     "name": "stderr",
     "output_type": "stream",
     "text": [
      "100%|██████████| 743/743 [05:21<00:00,  2.31it/s]\n"
     ]
    },
    {
     "name": "stdout",
     "output_type": "stream",
     "text": [
      "{'val_loss': 1.642056185119557, 'val_accuracy': 0.6828402366863905, 'precision': 0.6766520990978444, 'recall': 0.6828402366863905, 'f1-score': 0.672526523967649, 'macro_f1-score': 0.4206294089108266, 'balanced_accuracy': 0.42124194188580144, 'mcc': 0.5814227965888424}\n",
      "Epoch 15/20\n"
     ]
    },
    {
     "name": "stderr",
     "output_type": "stream",
     "text": [
      "100%|██████████| 743/743 [05:21<00:00,  2.31it/s]\n",
      "D:\\Anaconda3\\envs\\cuda\\Lib\\site-packages\\sklearn\\metrics\\_classification.py:2458: UserWarning: y_pred contains classes not in y_true\n",
      "  warnings.warn(\"y_pred contains classes not in y_true\")\n"
     ]
    },
    {
     "name": "stdout",
     "output_type": "stream",
     "text": [
      "{'val_loss': 1.7428650586110241, 'val_accuracy': 0.676923076923077, 'precision': 0.7027271395291349, 'recall': 0.676923076923077, 'f1-score': 0.6764773212385226, 'macro_f1-score': 0.4079229936827584, 'balanced_accuracy': 0.41344030864182, 'mcc': 0.5786510578078408}\n",
      "Early stopping triggered at epoch 15\n",
      "Fold 10\n",
      "Training set label distribution: {0: 3577, 1: 28, 2: 126, 3: 27, 4: 231, 5: 130, 6: 107, 7: 35, 8: 76, 9: 73, 10: 79, 11: 194, 12: 217, 13: 32, 14: 26, 15: 28, 16: 23, 17: 260, 18: 104, 19: 50, 20: 17, 21: 39, 22: 88, 23: 180, 24: 18, 25: 56, 26: 97, 27: 54, 28: 13, 29: 15, 30: 17, 31: 90, 32: 40, 33: 36, 34: 34, 35: 13, 36: 32, 37: 24, 38: 7, 39: 116, 40: 12, 41: 10, 42: 166, 43: 18, 44: 22, 45: 10, 46: 61, 47: 595, 48: 227, 49: 79}\n",
      "Validation set label distribution: {0: 397, 1: 3, 2: 14, 3: 3, 4: 26, 5: 15, 6: 11, 7: 4, 8: 9, 9: 8, 10: 9, 11: 21, 12: 24, 13: 4, 14: 3, 15: 3, 16: 2, 17: 29, 18: 12, 19: 6, 20: 1, 21: 5, 22: 9, 23: 20, 24: 2, 25: 7, 26: 10, 27: 7, 28: 2, 29: 1, 30: 2, 31: 10, 32: 5, 33: 4, 34: 3, 35: 2, 36: 3, 37: 3, 39: 13, 40: 2, 41: 1, 42: 18, 43: 2, 44: 3, 45: 1, 46: 7, 47: 66, 48: 25, 49: 8}\n",
      "avg_label_size: 152\n"
     ]
    },
    {
     "name": "stderr",
     "output_type": "stream",
     "text": [
      "Some weights of RobertaForSequenceClassification were not initialized from the model checkpoint at roberta-base and are newly initialized: ['classifier.dense.bias', 'classifier.dense.weight', 'classifier.out_proj.bias', 'classifier.out_proj.weight']\n",
      "You should probably TRAIN this model on a down-stream task to be able to use it for predictions and inference.\n"
     ]
    },
    {
     "name": "stdout",
     "output_type": "stream",
     "text": [
      "Epoch 1/20\n"
     ]
    },
    {
     "name": "stderr",
     "output_type": "stream",
     "text": [
      "100%|██████████| 743/743 [05:20<00:00,  2.31it/s]\n",
      "D:\\Anaconda3\\envs\\cuda\\Lib\\site-packages\\sklearn\\metrics\\_classification.py:2458: UserWarning: y_pred contains classes not in y_true\n",
      "  warnings.warn(\"y_pred contains classes not in y_true\")\n"
     ]
    },
    {
     "name": "stdout",
     "output_type": "stream",
     "text": [
      "{'val_loss': 1.5336920753964838, 'val_accuracy': 0.58698224852071, 'precision': 0.5622225638582904, 'recall': 0.58698224852071, 'f1-score': 0.5442339858615838, 'macro_f1-score': 0.23705219643047987, 'balanced_accuracy': 0.2929087337238903, 'mcc': 0.4472837799798878}\n",
      "Epoch 2/20\n"
     ]
    },
    {
     "name": "stderr",
     "output_type": "stream",
     "text": [
      "100%|██████████| 743/743 [05:20<00:00,  2.32it/s]\n",
      "D:\\Anaconda3\\envs\\cuda\\Lib\\site-packages\\sklearn\\metrics\\_classification.py:2458: UserWarning: y_pred contains classes not in y_true\n",
      "  warnings.warn(\"y_pred contains classes not in y_true\")\n"
     ]
    },
    {
     "name": "stdout",
     "output_type": "stream",
     "text": [
      "{'val_loss': 1.4173821199615046, 'val_accuracy': 0.6130177514792899, 'precision': 0.6723000915859804, 'recall': 0.6130177514792899, 'f1-score': 0.6262268146190844, 'macro_f1-score': 0.37470771087225957, 'balanced_accuracy': 0.4514285474178373, 'mcc': 0.5124200642619742}\n",
      "Epoch 3/20\n"
     ]
    },
    {
     "name": "stderr",
     "output_type": "stream",
     "text": [
      "100%|██████████| 743/743 [05:20<00:00,  2.32it/s]\n"
     ]
    },
    {
     "name": "stdout",
     "output_type": "stream",
     "text": [
      "{'val_loss': 1.3456942413775426, 'val_accuracy': 0.6461538461538462, 'precision': 0.6535678094768903, 'recall': 0.6461538461538462, 'f1-score': 0.6352454625051596, 'macro_f1-score': 0.3706135365815172, 'balanced_accuracy': 0.40539669398414707, 'mcc': 0.5406538488448861}\n",
      "Epoch 4/20\n"
     ]
    },
    {
     "name": "stderr",
     "output_type": "stream",
     "text": [
      "100%|██████████| 743/743 [05:20<00:00,  2.32it/s]\n"
     ]
    },
    {
     "name": "stdout",
     "output_type": "stream",
     "text": [
      "{'val_loss': 1.4172539576044623, 'val_accuracy': 0.6355029585798817, 'precision': 0.6477892337357435, 'recall': 0.6355029585798817, 'f1-score': 0.6241384646296432, 'macro_f1-score': 0.3867174774963946, 'balanced_accuracy': 0.4102439101792628, 'mcc': 0.5221080290418288}\n",
      "Epoch 5/20\n"
     ]
    },
    {
     "name": "stderr",
     "output_type": "stream",
     "text": [
      "100%|██████████| 743/743 [05:20<00:00,  2.31it/s]\n"
     ]
    },
    {
     "name": "stdout",
     "output_type": "stream",
     "text": [
      "{'val_loss': 1.3953244056341783, 'val_accuracy': 0.6698224852071006, 'precision': 0.6758872138778769, 'recall': 0.6698224852071006, 'f1-score': 0.6508924889271273, 'macro_f1-score': 0.3854822640656904, 'balanced_accuracy': 0.3678222066515867, 'mcc': 0.5581176219101588}\n",
      "Epoch 6/20\n"
     ]
    },
    {
     "name": "stderr",
     "output_type": "stream",
     "text": [
      "100%|██████████| 743/743 [05:21<00:00,  2.31it/s]\n",
      "D:\\Anaconda3\\envs\\cuda\\Lib\\site-packages\\sklearn\\metrics\\_classification.py:2458: UserWarning: y_pred contains classes not in y_true\n",
      "  warnings.warn(\"y_pred contains classes not in y_true\")\n"
     ]
    },
    {
     "name": "stdout",
     "output_type": "stream",
     "text": [
      "{'val_loss': 1.4581929822013062, 'val_accuracy': 0.6745562130177515, 'precision': 0.6754746774791323, 'recall': 0.6745562130177515, 'f1-score': 0.6565057209749489, 'macro_f1-score': 0.37977617495675275, 'balanced_accuracy': 0.4064059229361097, 'mcc': 0.5687574889702891}\n",
      "Epoch 7/20\n"
     ]
    },
    {
     "name": "stderr",
     "output_type": "stream",
     "text": [
      "100%|██████████| 743/743 [05:20<00:00,  2.31it/s]\n"
     ]
    },
    {
     "name": "stdout",
     "output_type": "stream",
     "text": [
      "{'val_loss': 1.6474106716659833, 'val_accuracy': 0.6662721893491125, 'precision': 0.6589363277311076, 'recall': 0.6662721893491125, 'f1-score': 0.64852237895272, 'macro_f1-score': 0.381726972909533, 'balanced_accuracy': 0.3865601356767864, 'mcc': 0.5531950034126226}\n",
      "Early stopping triggered at epoch 7\n",
      "Final 10-fold Cross-Validation Results:\n",
      "val_loss: 1.4450511407671303\n",
      "val_accuracy: 0.6480501716903266\n",
      "precision: 0.6499081975479711\n",
      "recall: 0.6480501716903266\n",
      "f1-score: 0.6283101541742109\n",
      "macro_f1-score: 0.3653989007761228\n",
      "balanced_accuracy: 0.39019583807958524\n",
      "mcc: 0.532050094292448\n"
     ]
    }
   ],
   "source": [
    "from torch.utils.data import DataLoader\n",
    "import torch\n",
    "from torch.nn import CrossEntropyLoss\n",
    "from torch.optim import AdamW\n",
    "from tqdm import tqdm\n",
    "import numpy as np\n",
    "from imblearn.over_sampling import RandomOverSampler\n",
    "from collections import Counter\n",
    "\n",
    "all_fold_results = []\n",
    "\n",
    "# 進行 10 折交叉驗證\n",
    "for fold, (train_idx, val_idx) in enumerate(skf.split(messages, labels)):\n",
    "    print(f\"Fold {fold + 1}\")\n",
    "    \n",
    "    train_messages = [messages[i] for i in train_idx]\n",
    "    train_labels = [labels[i] for i in train_idx]\n",
    "    val_messages = [messages[i] for i in val_idx]\n",
    "    val_labels = [labels[i] for i in val_idx]\n",
    "\n",
    "    print(\"Training set label distribution:\", {label: train_labels.count(label) for label in set(train_labels)})\n",
    "    print(\"Validation set label distribution:\", {label: val_labels.count(label) for label in set(val_labels)})\n",
    "    \n",
    "    # 計算各 Label 的數量\n",
    "    label_counts = pd.Series(train_labels).value_counts()\n",
    "    avg_label_size = int(label_counts.mean())  # **取平均值作為 resample 基準點**\n",
    "    print(f\"avg_label_size: {avg_label_size}\")\n",
    "    \n",
    "    # 找出需要過採樣的類別\n",
    "    labels_to_oversample = label_counts[label_counts < avg_label_size].index.tolist()\n",
    "\n",
    "    # 進行 ROS (Random Oversampling)\n",
    "    ros = RandomOverSampler(sampling_strategy={label: avg_label_size for label in labels_to_oversample}, random_state=42)\n",
    "    train_messages_resampled, train_labels_resampled = ros.fit_resample(np.array(train_messages).reshape(-1, 1), train_labels)\n",
    "    train_messages_resampled = train_messages_resampled.flatten().tolist()\n",
    "\n",
    "    # 轉換成 DataLoader\n",
    "    train_dataset = CustomDataset(train_messages_resampled, train_labels_resampled, tokenizer, MAX_LENGTH)\n",
    "    val_dataset = CustomDataset(val_messages, val_labels, tokenizer, MAX_LENGTH)\n",
    "    train_dataloader = DataLoader(train_dataset, batch_size=BATCH_SIZE, shuffle=True)\n",
    "    val_dataloader = DataLoader(val_dataset, batch_size=BATCH_SIZE)\n",
    "\n",
    "    NUM_LABELS = len(set(train_labels) | set(val_labels))\n",
    "    model = RobertaForSequenceClassification.from_pretrained('roberta-base', num_labels=NUM_LABELS)\n",
    "    model.to(device)\n",
    "    optimizer = AdamW(model.parameters(), lr=5e-5, weight_decay=1e-2)\n",
    "    criterion = CrossEntropyLoss()\n",
    "\n",
    "    epoch_results = []\n",
    "    patience = 3\n",
    "    best_macro_f1 = 0\n",
    "    epochs_without_improvement = 0\n",
    "    \n",
    "    for epoch in range(EPOCHS):\n",
    "        print(f\"Epoch {epoch + 1}/{EPOCHS}\")\n",
    "        train_loss = train_epoch(model, train_dataloader, optimizer, criterion)\n",
    "        metrics = eval_model(model, val_dataloader, criterion, num_labels=NUM_LABELS)\n",
    "        epoch_results.append(metrics)\n",
    "        print(metrics)\n",
    "\n",
    "        current_macro_f1 = metrics[\"macro_f1-score\"]\n",
    "        \n",
    "        if current_macro_f1 > best_macro_f1:\n",
    "            best_macro_f1 = current_macro_f1  # 更新最佳 macro_f1-score\n",
    "            epochs_without_improvement = 0   # 重置計數\n",
    "        else:\n",
    "            epochs_without_improvement += 1  # 增加計數\n",
    "        \n",
    "        # 若連續 patience 3 次沒有提升，則停止訓練\n",
    "        if epochs_without_improvement >= patience:\n",
    "            print(f\"Early stopping triggered at epoch {epoch + 1}\")\n",
    "            break\n",
    "    \n",
    "    avg_metrics = {metric: np.mean([epoch[metric] for epoch in epoch_results]) for metric in epoch_results[0].keys()}\n",
    "    all_fold_results.append(avg_metrics)\n",
    "\n",
    "final_metrics = {metric: np.mean([result[metric] for result in all_fold_results]) for metric in all_fold_results[0].keys()}\n",
    "print(\"Final 10-fold Cross-Validation Results:\")\n",
    "for metric, value in final_metrics.items():\n",
    "    print(f\"{metric}: {value}\")"
   ]
  },
  {
   "cell_type": "code",
   "execution_count": 8,
   "id": "f8016681-94ee-4d35-81ac-9831d7172f0d",
   "metadata": {},
   "outputs": [
    {
     "data": {
      "text/plain": [
       "[{'val_loss': 1.5134873746138697,\n",
       "  'val_accuracy': 0.6578014184397163,\n",
       "  'precision': 0.6678410784642368,\n",
       "  'recall': 0.6578014184397163,\n",
       "  'f1-score': 0.6433147965011357,\n",
       "  'macro_f1-score': 0.38474125529865766,\n",
       "  'balanced_accuracy': 0.4123609329420157,\n",
       "  'mcc': 0.5472576809799387},\n",
       " {'val_loss': 1.4335078283230651,\n",
       "  'val_accuracy': 0.6425827423167849,\n",
       "  'precision': 0.657845889130848,\n",
       "  'recall': 0.6425827423167849,\n",
       "  'f1-score': 0.6284064674383654,\n",
       "  'macro_f1-score': 0.3570832785675305,\n",
       "  'balanced_accuracy': 0.3871870483499057,\n",
       "  'mcc': 0.5298790744908992},\n",
       " {'val_loss': 1.3628799697700535,\n",
       "  'val_accuracy': 0.6404255319148937,\n",
       "  'precision': 0.6409446856922001,\n",
       "  'recall': 0.6404255319148937,\n",
       "  'f1-score': 0.6215551008356442,\n",
       "  'macro_f1-score': 0.36494452997809085,\n",
       "  'balanced_accuracy': 0.39915525283357545,\n",
       "  'mcc': 0.5208315158007788},\n",
       " {'val_loss': 1.4129532595850385,\n",
       "  'val_accuracy': 0.6356973995271866,\n",
       "  'precision': 0.6257967458022073,\n",
       "  'recall': 0.6356973995271866,\n",
       "  'f1-score': 0.6040432698540056,\n",
       "  'macro_f1-score': 0.3370285837982287,\n",
       "  'balanced_accuracy': 0.36522931371830003,\n",
       "  'mcc': 0.509069286464685},\n",
       " {'val_loss': 1.4094563787275889,\n",
       "  'val_accuracy': 0.6397633136094675,\n",
       "  'precision': 0.6262077475445056,\n",
       "  'recall': 0.6397633136094675,\n",
       "  'f1-score': 0.6016271137147496,\n",
       "  'macro_f1-score': 0.33221233160630376,\n",
       "  'balanced_accuracy': 0.3384486943891731,\n",
       "  'mcc': 0.5088780741374115},\n",
       " {'val_loss': 1.4258008885121196,\n",
       "  'val_accuracy': 0.6357001972386588,\n",
       "  'precision': 0.6307058063211913,\n",
       "  'recall': 0.6357001972386588,\n",
       "  'f1-score': 0.6103621530662442,\n",
       "  'macro_f1-score': 0.3332251102880483,\n",
       "  'balanced_accuracy': 0.36399599198101806,\n",
       "  'mcc': 0.5122406144472603},\n",
       " {'val_loss': 1.4517726102387005,\n",
       "  'val_accuracy': 0.6621301775147929,\n",
       "  'precision': 0.6660039700155422,\n",
       "  'recall': 0.6621301775147929,\n",
       "  'f1-score': 0.6509442916962482,\n",
       "  'macro_f1-score': 0.4246522375644243,\n",
       "  'balanced_accuracy': 0.45273402838271243,\n",
       "  'mcc': 0.5555359889094288},\n",
       " {'val_loss': 1.452243112260138,\n",
       "  'val_accuracy': 0.6614474283113336,\n",
       "  'precision': 0.6619278958010472,\n",
       "  'recall': 0.6614474283113336,\n",
       "  'f1-score': 0.642723776386796,\n",
       "  'macro_f1-score': 0.37251369218062974,\n",
       "  'balanced_accuracy': 0.393917992451394,\n",
       "  'mcc': 0.5498445324689877},\n",
       " {'val_loss': 1.5291313493776622,\n",
       "  'val_accuracy': 0.6631952662721893,\n",
       "  'precision': 0.6723541684586439,\n",
       "  'recall': 0.6631952662721893,\n",
       "  'f1-score': 0.6535866698960248,\n",
       "  'macro_f1-score': 0.3881485122917956,\n",
       "  'balanced_accuracy': 0.40024824709495455,\n",
       "  'mcc': 0.5580304843077115},\n",
       " {'val_loss': 1.459278636263066,\n",
       "  'val_accuracy': 0.6417582417582418,\n",
       "  'precision': 0.6494539882492888,\n",
       "  'recall': 0.6417582417582418,\n",
       "  'f1-score': 0.6265379023528953,\n",
       "  'macro_f1-score': 0.3594394761875182,\n",
       "  'balanced_accuracy': 0.3886808786528029,\n",
       "  'mcc': 0.5289336909173782}]"
      ]
     },
     "execution_count": 8,
     "metadata": {},
     "output_type": "execute_result"
    }
   ],
   "source": [
    "all_fold_results"
   ]
  }
 ],
 "metadata": {
  "kernelspec": {
   "display_name": "Python 3 (ipykernel)",
   "language": "python",
   "name": "python3"
  },
  "language_info": {
   "codemirror_mode": {
    "name": "ipython",
    "version": 3
   },
   "file_extension": ".py",
   "mimetype": "text/x-python",
   "name": "python",
   "nbconvert_exporter": "python",
   "pygments_lexer": "ipython3",
   "version": "3.11.9"
  }
 },
 "nbformat": 4,
 "nbformat_minor": 5
}
