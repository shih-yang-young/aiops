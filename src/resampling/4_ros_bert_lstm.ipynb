{
 "cells": [
  {
   "cell_type": "code",
   "execution_count": 1,
   "id": "00a89f5b-e5b4-4de2-92ea-caa07ffd3817",
   "metadata": {},
   "outputs": [
    {
     "data": {
      "text/html": [
       "<div>\n",
       "<style scoped>\n",
       "    .dataframe tbody tr th:only-of-type {\n",
       "        vertical-align: middle;\n",
       "    }\n",
       "\n",
       "    .dataframe tbody tr th {\n",
       "        vertical-align: top;\n",
       "    }\n",
       "\n",
       "    .dataframe thead th {\n",
       "        text-align: right;\n",
       "    }\n",
       "</style>\n",
       "<table border=\"1\" class=\"dataframe\">\n",
       "  <thead>\n",
       "    <tr style=\"text-align: right;\">\n",
       "      <th></th>\n",
       "      <th>Inbound Message</th>\n",
       "      <th>Label</th>\n",
       "    </tr>\n",
       "  </thead>\n",
       "  <tbody>\n",
       "    <tr>\n",
       "      <th>0</th>\n",
       "      <td>login issue verified user details employee man...</td>\n",
       "      <td>0</td>\n",
       "    </tr>\n",
       "    <tr>\n",
       "      <th>1</th>\n",
       "      <td>outlook hello team meetings skype meetings etc...</td>\n",
       "      <td>0</td>\n",
       "    </tr>\n",
       "    <tr>\n",
       "      <th>2</th>\n",
       "      <td>cant log vpn cannot log vpn best</td>\n",
       "      <td>0</td>\n",
       "    </tr>\n",
       "    <tr>\n",
       "      <th>3</th>\n",
       "      <td>unable access tool page unable access tool page</td>\n",
       "      <td>0</td>\n",
       "    </tr>\n",
       "    <tr>\n",
       "      <th>4</th>\n",
       "      <td>skype error skype error</td>\n",
       "      <td>0</td>\n",
       "    </tr>\n",
       "    <tr>\n",
       "      <th>...</th>\n",
       "      <td>...</td>\n",
       "      <td>...</td>\n",
       "    </tr>\n",
       "    <tr>\n",
       "      <th>8449</th>\n",
       "      <td>emails coming mail good afternoon receiving em...</td>\n",
       "      <td>22</td>\n",
       "    </tr>\n",
       "    <tr>\n",
       "      <th>8450</th>\n",
       "      <td>telephony software issue telephony software issue</td>\n",
       "      <td>0</td>\n",
       "    </tr>\n",
       "    <tr>\n",
       "      <th>8451</th>\n",
       "      <td>vip windows password reset tifpdchb pedxruyf v...</td>\n",
       "      <td>0</td>\n",
       "    </tr>\n",
       "    <tr>\n",
       "      <th>8452</th>\n",
       "      <td>machine est funcionando unable access machine ...</td>\n",
       "      <td>44</td>\n",
       "    </tr>\n",
       "    <tr>\n",
       "      <th>8453</th>\n",
       "      <td>mehreren lassen sich verschiedene prgramdntyme...</td>\n",
       "      <td>49</td>\n",
       "    </tr>\n",
       "  </tbody>\n",
       "</table>\n",
       "<p>8454 rows × 2 columns</p>\n",
       "</div>"
      ],
      "text/plain": [
       "                                        Inbound Message  Label\n",
       "0     login issue verified user details employee man...      0\n",
       "1     outlook hello team meetings skype meetings etc...      0\n",
       "2                      cant log vpn cannot log vpn best      0\n",
       "3       unable access tool page unable access tool page      0\n",
       "4                               skype error skype error      0\n",
       "...                                                 ...    ...\n",
       "8449  emails coming mail good afternoon receiving em...     22\n",
       "8450  telephony software issue telephony software issue      0\n",
       "8451  vip windows password reset tifpdchb pedxruyf v...      0\n",
       "8452  machine est funcionando unable access machine ...     44\n",
       "8453  mehreren lassen sich verschiedene prgramdntyme...     49\n",
       "\n",
       "[8454 rows x 2 columns]"
      ]
     },
     "execution_count": 1,
     "metadata": {},
     "output_type": "execute_result"
    }
   ],
   "source": [
    "import pandas as pd\n",
    "data_path = \"../../data/open_source_8454_combine_short_description.csv\"  # 替換為你的檔案路徑\n",
    "df = pd.read_csv(data_path)\n",
    "# df_label_0 = df[df[\"Label\"] == 0]\n",
    "# df_label_0_to_drop = df_label_0.sample(n=3000, random_state=42)\n",
    "# df = df.drop(df_label_0_to_drop.index)\n",
    "df"
   ]
  },
  {
   "cell_type": "code",
   "execution_count": 2,
   "id": "5be6a3f1-409a-4b50-a12c-8f5cad911a0d",
   "metadata": {},
   "outputs": [
    {
     "name": "stdout",
     "output_type": "stream",
     "text": [
      "Using device: cuda\n",
      "CUDA Available: True\n",
      "CUDA Device: NVIDIA GeForce RTX 3050 6GB Laptop GPU\n",
      "Current GPU Memory Allocated: 0.0 GB\n",
      "Current GPU Memory Cached: 0.0 GB\n"
     ]
    }
   ],
   "source": [
    "import torch\n",
    "device = torch.device('cuda') if torch.cuda.is_available() else torch.device('cpu')\n",
    "print(f\"Using device: {device}\") \n",
    "print(f\"CUDA Available: {torch.cuda.is_available()}\")\n",
    "print(f\"CUDA Device: {torch.cuda.get_device_name(0)}\")\n",
    "print(f\"Current GPU Memory Allocated: {torch.cuda.memory_allocated() / 1e9} GB\")\n",
    "print(f\"Current GPU Memory Cached: {torch.cuda.memory_reserved() / 1e9} GB\")"
   ]
  },
  {
   "cell_type": "code",
   "execution_count": 3,
   "id": "d0e5bba8-9ed2-4228-9fc8-85c42ef4b108",
   "metadata": {},
   "outputs": [],
   "source": [
    "from torch.utils.data import Dataset\n",
    "class CustomDataset(Dataset):\n",
    "    def __init__(self, messages, labels, tokenizer, max_length):\n",
    "        self.messages = messages\n",
    "        self.labels = labels\n",
    "        self.tokenizer = tokenizer\n",
    "        self.max_length = max_length\n",
    "\n",
    "    def __len__(self):\n",
    "        return len(self.messages)\n",
    "\n",
    "    def __getitem__(self, idx):\n",
    "        message = str(self.messages[idx])\n",
    "        label = self.labels[idx]\n",
    "        \n",
    "        encoding = self.tokenizer.encode_plus(\n",
    "            message,\n",
    "            max_length=self.max_length,\n",
    "            add_special_tokens=True,\n",
    "            padding='max_length',\n",
    "            truncation=True,\n",
    "            return_attention_mask=True,\n",
    "            return_tensors='pt'\n",
    "        )\n",
    "        \n",
    "        return {\n",
    "            'input_ids': encoding['input_ids'].flatten(),\n",
    "            'attention_mask': encoding['attention_mask'].flatten(),\n",
    "            'labels': torch.tensor(label, dtype=torch.long)\n",
    "        }"
   ]
  },
  {
   "cell_type": "code",
   "execution_count": 4,
   "id": "ef04f0d9-0fd7-4ff3-a2ff-4fb8f4f965cc",
   "metadata": {},
   "outputs": [],
   "source": [
    "# 定義訓練與評估函數\n",
    "def train_epoch(model, dataloader, optimizer, criterion):\n",
    "    model.train()\n",
    "    total_loss = 0\n",
    "\n",
    "    for batch in tqdm(dataloader):\n",
    "        optimizer.zero_grad()\n",
    "\n",
    "        input_ids = batch['input_ids'].to(device)\n",
    "        attention_mask = batch['attention_mask'].to(device)\n",
    "        labels = batch['labels'].to(device)\n",
    "\n",
    "        outputs = model(input_ids=input_ids, attention_mask=attention_mask, labels=labels)\n",
    "        loss = outputs[\"loss\"]\n",
    "        total_loss += loss.item()\n",
    "\n",
    "        loss.backward()\n",
    "        optimizer.step()\n",
    "    \n",
    "    return total_loss / len(dataloader)"
   ]
  },
  {
   "cell_type": "code",
   "execution_count": 5,
   "id": "50ab17dc-61af-4ab3-8fd1-74208c0cb6b8",
   "metadata": {},
   "outputs": [],
   "source": [
    "from sklearn.metrics import precision_score, recall_score, f1_score, balanced_accuracy_score, matthews_corrcoef\n",
    "from sklearn.preprocessing import label_binarize\n",
    "import numpy as np\n",
    "import torch\n",
    "\n",
    "def eval_model(model, dataloader, criterion, num_labels):\n",
    "    model.eval()\n",
    "    total_loss = 0\n",
    "    all_labels = []\n",
    "    all_preds = []\n",
    "    all_probs = []\n",
    "    \n",
    "    with torch.no_grad():\n",
    "        for batch in dataloader:\n",
    "            input_ids = batch['input_ids'].to(device)\n",
    "            attention_mask = batch['attention_mask'].to(device)\n",
    "            labels = batch['labels'].to(device)\n",
    "\n",
    "            outputs = model(input_ids=input_ids, attention_mask=attention_mask)\n",
    "            logits = outputs[\"logits\"]\n",
    "            loss = criterion(logits, labels)\n",
    "            total_loss += loss.item()\n",
    "\n",
    "            probs = torch.softmax(logits, dim=1)\n",
    "            _, preds = torch.max(logits, dim=1)\n",
    "\n",
    "            all_labels.extend(labels.cpu().numpy())\n",
    "            all_preds.extend(preds.cpu().numpy())\n",
    "            all_probs.extend(probs.cpu().numpy())\n",
    "\n",
    "    val_loss = total_loss / len(dataloader)\n",
    "    val_accuracy = np.mean(np.array(all_preds) == np.array(all_labels))\n",
    "    precision = precision_score(all_labels, all_preds, average='weighted', zero_division=0)\n",
    "    recall = recall_score(all_labels, all_preds, average='weighted', zero_division=0)\n",
    "    f1 = f1_score(all_labels, all_preds, average='weighted', zero_division=0)\n",
    "    macro_f1 = f1_score(all_labels, all_preds, average='macro', zero_division=0)\n",
    "    balanced_acc = balanced_accuracy_score(all_labels, all_preds)\n",
    "    mcc = matthews_corrcoef(all_labels, all_preds)\n",
    "\n",
    "    return {\n",
    "        \"val_loss\": val_loss,\n",
    "        \"val_accuracy\": val_accuracy,\n",
    "        \"precision\": precision,\n",
    "        \"recall\": recall,\n",
    "        \"f1-score\": f1,\n",
    "        \"macro_f1-score\": macro_f1,\n",
    "        \"balanced_accuracy\": balanced_acc,\n",
    "        \"mcc\": mcc\n",
    "    }"
   ]
  },
  {
   "cell_type": "code",
   "execution_count": 6,
   "id": "75c13c9f-bbc2-4163-a7b9-3283eb764ec9",
   "metadata": {},
   "outputs": [],
   "source": [
    "from transformers import BertTokenizer, BertForSequenceClassification\n",
    "from sklearn.model_selection import StratifiedKFold\n",
    "# 設定參數\n",
    "MAX_LENGTH = 128\n",
    "BATCH_SIZE = 16\n",
    "EPOCHS = 20\n",
    "\n",
    "# 初始化 BERT 的 tokenizer\n",
    "tokenizer = BertTokenizer.from_pretrained('bert-base-uncased')\n",
    "\n",
    "# 初始化數據\n",
    "messages = df['Inbound Message'].tolist()\n",
    "labels = df['Label'].tolist()\n",
    "\n",
    "# KFold 初始化\n",
    "skf = StratifiedKFold(n_splits=10, shuffle=True, random_state=42)"
   ]
  },
  {
   "cell_type": "code",
   "execution_count": 7,
   "id": "4c1674d1-a425-4c0e-a324-775515a79703",
   "metadata": {},
   "outputs": [],
   "source": [
    "from transformers import BertModel\n",
    "import torch.nn as nn\n",
    "\n",
    "class BertWithLSTM(nn.Module):\n",
    "    def __init__(self, num_labels, hidden_size=768, lstm_hidden_size=256, lstm_layers=1, dropout=0.3):\n",
    "        super(BertWithLSTM, self).__init__()\n",
    "        self.bert = BertModel.from_pretrained('bert-base-uncased')\n",
    "        self.lstm = nn.LSTM(hidden_size, lstm_hidden_size, num_layers=lstm_layers,\n",
    "                            batch_first=True, bidirectional=True)\n",
    "        self.dropout = nn.Dropout(dropout)\n",
    "        self.classifier = nn.Linear(lstm_hidden_size * 2, num_labels)\n",
    "\n",
    "    def forward(self, input_ids, attention_mask, token_type_ids=None, labels=None):\n",
    "        outputs = self.bert(input_ids=input_ids, attention_mask=attention_mask, token_type_ids=token_type_ids)\n",
    "        sequence_output = outputs.last_hidden_state  # (batch_size, seq_len, hidden_size)\n",
    "        lstm_out, _ = self.lstm(sequence_output)     # (batch_size, seq_len, lstm_hidden_size*2)\n",
    "\n",
    "        # 使用 masked mean pooling\n",
    "        mask = attention_mask.unsqueeze(-1).expand(lstm_out.size())\n",
    "        masked_lstm_out = lstm_out * mask\n",
    "        summed = torch.sum(masked_lstm_out, 1)\n",
    "        counted = torch.clamp(mask.sum(1), min=1e-9)\n",
    "        pooled = summed / counted  # (batch_size, lstm_hidden_size*2)\n",
    "\n",
    "        logits = self.classifier(self.dropout(pooled))\n",
    "        if labels is not None:\n",
    "            loss_fn = nn.CrossEntropyLoss()\n",
    "            loss = loss_fn(logits, labels)\n",
    "            return {\"loss\": loss, \"logits\": logits}\n",
    "        else:\n",
    "            return {\"logits\": logits}"
   ]
  },
  {
   "cell_type": "code",
   "execution_count": 9,
   "id": "0bd84f7f-34bb-430c-b231-eb24df49ea50",
   "metadata": {},
   "outputs": [
    {
     "name": "stderr",
     "output_type": "stream",
     "text": [
      "D:\\Anaconda3\\envs\\cuda\\Lib\\site-packages\\sklearn\\model_selection\\_split.py:737: UserWarning: The least populated class in y has only 7 members, which is less than n_splits=10.\n",
      "  warnings.warn(\n"
     ]
    },
    {
     "name": "stdout",
     "output_type": "stream",
     "text": [
      "\n",
      "===== Fold 1 =====\n",
      "Train label dist: {0: 3576, 1: 28, 2: 126, 3: 27, 4: 231, 5: 130, 6: 107, 7: 35, 8: 76, 9: 73, 10: 79, 11: 194, 12: 217, 13: 32, 14: 26, 15: 28, 16: 23, 17: 260, 18: 104, 19: 51, 20: 16, 21: 39, 22: 88, 23: 180, 24: 18, 25: 56, 26: 97, 27: 55, 28: 13, 29: 15, 30: 17, 31: 90, 32: 40, 33: 36, 34: 34, 35: 13, 36: 32, 37: 24, 38: 7, 39: 116, 40: 13, 41: 9, 42: 166, 43: 18, 44: 22, 45: 10, 46: 61, 47: 595, 48: 227, 49: 78}\n",
      "Val label dist: {0: 398, 1: 3, 2: 14, 3: 3, 4: 26, 5: 15, 6: 11, 7: 4, 8: 9, 9: 8, 10: 9, 11: 21, 12: 24, 13: 4, 14: 3, 15: 3, 16: 2, 17: 29, 18: 12, 19: 5, 20: 2, 21: 5, 22: 9, 23: 20, 24: 2, 25: 7, 26: 10, 27: 6, 28: 2, 29: 1, 30: 2, 31: 10, 32: 5, 33: 4, 34: 3, 35: 2, 36: 3, 37: 3, 39: 13, 40: 1, 41: 2, 42: 18, 43: 2, 44: 3, 45: 1, 46: 7, 47: 66, 48: 25, 49: 9}\n",
      "avg_label_size: 152\n",
      "\n",
      "Epoch 1/20\n"
     ]
    },
    {
     "name": "stderr",
     "output_type": "stream",
     "text": [
      "100%|██████████| 743/743 [05:28<00:00,  2.26it/s]\n"
     ]
    },
    {
     "name": "stdout",
     "output_type": "stream",
     "text": [
      "Train loss: 2.0921\n",
      "{'val_loss': 1.4376675745226302, 'val_accuracy': 0.6229314420803782, 'precision': 0.5565755439517769, 'recall': 0.6229314420803782, 'f1-score': 0.558827181905549, 'macro_f1-score': 0.2720805024698875, 'balanced_accuracy': 0.2860550433114697, 'mcc': 0.4716480126219055}\n",
      "\n",
      "Epoch 2/20\n"
     ]
    },
    {
     "name": "stderr",
     "output_type": "stream",
     "text": [
      "100%|██████████| 743/743 [05:28<00:00,  2.26it/s]\n"
     ]
    },
    {
     "name": "stdout",
     "output_type": "stream",
     "text": [
      "Train loss: 0.9946\n",
      "{'val_loss': 1.319464628426534, 'val_accuracy': 0.6631205673758865, 'precision': 0.6765336169301449, 'recall': 0.6631205673758865, 'f1-score': 0.6277491722177814, 'macro_f1-score': 0.38394418980002815, 'balanced_accuracy': 0.3971779388327647, 'mcc': 0.5428174321745257}\n",
      "\n",
      "Epoch 3/20\n"
     ]
    },
    {
     "name": "stderr",
     "output_type": "stream",
     "text": [
      "100%|██████████| 743/743 [05:29<00:00,  2.26it/s]\n"
     ]
    },
    {
     "name": "stdout",
     "output_type": "stream",
     "text": [
      "Train loss: 0.6344\n",
      "{'val_loss': 1.4415271231588327, 'val_accuracy': 0.6713947990543735, 'precision': 0.6570341009662016, 'recall': 0.6713947990543735, 'f1-score': 0.6289601326943149, 'macro_f1-score': 0.37860322365350807, 'balanced_accuracy': 0.3686889310438796, 'mcc': 0.5442738060872683}\n",
      "\n",
      "Epoch 4/20\n"
     ]
    },
    {
     "name": "stderr",
     "output_type": "stream",
     "text": [
      "100%|██████████| 743/743 [05:30<00:00,  2.24it/s]\n"
     ]
    },
    {
     "name": "stdout",
     "output_type": "stream",
     "text": [
      "Train loss: 0.4670\n"
     ]
    },
    {
     "name": "stderr",
     "output_type": "stream",
     "text": [
      "D:\\Anaconda3\\envs\\cuda\\Lib\\site-packages\\sklearn\\metrics\\_classification.py:2458: UserWarning: y_pred contains classes not in y_true\n",
      "  warnings.warn(\"y_pred contains classes not in y_true\")\n"
     ]
    },
    {
     "name": "stdout",
     "output_type": "stream",
     "text": [
      "{'val_loss': 1.3995910056357115, 'val_accuracy': 0.6761229314420804, 'precision': 0.6665315482377596, 'recall': 0.6761229314420804, 'f1-score': 0.6575546753179516, 'macro_f1-score': 0.3968468814610154, 'balanced_accuracy': 0.4230869612055803, 'mcc': 0.565664872049671}\n",
      "\n",
      "Epoch 5/20\n"
     ]
    },
    {
     "name": "stderr",
     "output_type": "stream",
     "text": [
      "100%|██████████| 743/743 [05:29<00:00,  2.25it/s]\n"
     ]
    },
    {
     "name": "stdout",
     "output_type": "stream",
     "text": [
      "Train loss: 0.3714\n",
      "{'val_loss': 1.4308265740016721, 'val_accuracy': 0.6666666666666666, 'precision': 0.653536332658673, 'recall': 0.6666666666666666, 'f1-score': 0.6474255674393122, 'macro_f1-score': 0.4009305153338365, 'balanced_accuracy': 0.40406506627147126, 'mcc': 0.5519669927595056}\n",
      "\n",
      "Epoch 6/20\n"
     ]
    },
    {
     "name": "stderr",
     "output_type": "stream",
     "text": [
      "100%|██████████| 743/743 [05:29<00:00,  2.25it/s]\n"
     ]
    },
    {
     "name": "stdout",
     "output_type": "stream",
     "text": [
      "Train loss: 0.3174\n",
      "{'val_loss': 1.4909721618553378, 'val_accuracy': 0.66548463356974, 'precision': 0.6783715243864535, 'recall': 0.66548463356974, 'f1-score': 0.6575741917186533, 'macro_f1-score': 0.3978023871543136, 'balanced_accuracy': 0.4062466695869636, 'mcc': 0.556351805779537}\n",
      "\n",
      "Epoch 7/20\n"
     ]
    },
    {
     "name": "stderr",
     "output_type": "stream",
     "text": [
      "100%|██████████| 743/743 [05:29<00:00,  2.26it/s]\n"
     ]
    },
    {
     "name": "stdout",
     "output_type": "stream",
     "text": [
      "Train loss: 0.2758\n"
     ]
    },
    {
     "name": "stderr",
     "output_type": "stream",
     "text": [
      "D:\\Anaconda3\\envs\\cuda\\Lib\\site-packages\\sklearn\\metrics\\_classification.py:2458: UserWarning: y_pred contains classes not in y_true\n",
      "  warnings.warn(\"y_pred contains classes not in y_true\")\n"
     ]
    },
    {
     "name": "stdout",
     "output_type": "stream",
     "text": [
      "{'val_loss': 1.5557144554156177, 'val_accuracy': 0.682033096926714, 'precision': 0.6731901210949224, 'recall': 0.682033096926714, 'f1-score': 0.6542668078547272, 'macro_f1-score': 0.3857200426107582, 'balanced_accuracy': 0.39325376605036694, 'mcc': 0.5692611995288787}\n",
      "\n",
      "Epoch 8/20\n"
     ]
    },
    {
     "name": "stderr",
     "output_type": "stream",
     "text": [
      "100%|██████████| 743/743 [05:29<00:00,  2.26it/s]\n"
     ]
    },
    {
     "name": "stdout",
     "output_type": "stream",
     "text": [
      "Train loss: 0.2636\n",
      "{'val_loss': 1.6898280337171734, 'val_accuracy': 0.6749408983451537, 'precision': 0.6615112611682441, 'recall': 0.6749408983451537, 'f1-score': 0.6533837671454212, 'macro_f1-score': 0.3871772180196915, 'balanced_accuracy': 0.3812195417712447, 'mcc': 0.5606883765015033}\n",
      "Early stopping triggered at epoch 8\n",
      "\n",
      "===== Fold 2 =====\n",
      "Train label dist: {0: 3576, 1: 28, 2: 126, 3: 27, 4: 231, 5: 131, 6: 106, 7: 35, 8: 76, 9: 73, 10: 79, 11: 194, 12: 217, 13: 32, 14: 26, 15: 28, 16: 23, 17: 260, 18: 104, 19: 51, 20: 16, 21: 39, 22: 88, 23: 180, 24: 18, 25: 56, 26: 97, 27: 55, 28: 13, 29: 15, 30: 17, 31: 90, 32: 40, 33: 36, 34: 34, 35: 13, 36: 32, 37: 24, 38: 6, 39: 116, 40: 13, 41: 10, 42: 166, 43: 18, 44: 22, 45: 10, 46: 61, 47: 595, 48: 227, 49: 78}\n",
      "Val label dist: {0: 398, 1: 3, 2: 14, 3: 3, 4: 26, 5: 14, 6: 12, 7: 4, 8: 9, 9: 8, 10: 9, 11: 21, 12: 24, 13: 4, 14: 3, 15: 3, 16: 2, 17: 29, 18: 12, 19: 5, 20: 2, 21: 5, 22: 9, 23: 20, 24: 2, 25: 7, 26: 10, 27: 6, 28: 2, 29: 1, 30: 2, 31: 10, 32: 5, 33: 4, 34: 3, 35: 2, 36: 3, 37: 3, 38: 1, 39: 13, 40: 1, 41: 1, 42: 18, 43: 2, 44: 3, 45: 1, 46: 7, 47: 66, 48: 25, 49: 9}\n",
      "avg_label_size: 152\n",
      "\n",
      "Epoch 1/20\n"
     ]
    },
    {
     "name": "stderr",
     "output_type": "stream",
     "text": [
      "100%|██████████| 743/743 [05:29<00:00,  2.25it/s]\n"
     ]
    },
    {
     "name": "stdout",
     "output_type": "stream",
     "text": [
      "Train loss: 2.1990\n",
      "{'val_loss': 1.4091449475513314, 'val_accuracy': 0.6146572104018913, 'precision': 0.5142863151222172, 'recall': 0.6146572104018913, 'f1-score': 0.5439813691190936, 'macro_f1-score': 0.26247864861259645, 'balanced_accuracy': 0.31173011558802577, 'mcc': 0.46601823753416094}\n",
      "\n",
      "Epoch 2/20\n"
     ]
    },
    {
     "name": "stderr",
     "output_type": "stream",
     "text": [
      "100%|██████████| 743/743 [05:29<00:00,  2.26it/s]\n"
     ]
    },
    {
     "name": "stdout",
     "output_type": "stream",
     "text": [
      "Train loss: 0.9827\n",
      "{'val_loss': 1.2683237785438322, 'val_accuracy': 0.6513002364066194, 'precision': 0.6465492979951726, 'recall': 0.6513002364066194, 'f1-score': 0.6229161544622004, 'macro_f1-score': 0.3898368833162098, 'balanced_accuracy': 0.4088539489929197, 'mcc': 0.5315472724563577}\n",
      "\n",
      "Epoch 3/20\n"
     ]
    },
    {
     "name": "stderr",
     "output_type": "stream",
     "text": [
      "100%|██████████| 743/743 [05:29<00:00,  2.25it/s]\n"
     ]
    },
    {
     "name": "stdout",
     "output_type": "stream",
     "text": [
      "Train loss: 0.6096\n",
      "{'val_loss': 1.3187009503818907, 'val_accuracy': 0.6619385342789598, 'precision': 0.6561994141984262, 'recall': 0.6619385342789598, 'f1-score': 0.6319688399558766, 'macro_f1-score': 0.37974193925071126, 'balanced_accuracy': 0.3774161899499449, 'mcc': 0.5369788765242383}\n",
      "\n",
      "Epoch 4/20\n"
     ]
    },
    {
     "name": "stderr",
     "output_type": "stream",
     "text": [
      "100%|██████████| 743/743 [05:29<00:00,  2.26it/s]\n"
     ]
    },
    {
     "name": "stdout",
     "output_type": "stream",
     "text": [
      "Train loss: 0.4350\n",
      "{'val_loss': 1.3861707786344133, 'val_accuracy': 0.6560283687943262, 'precision': 0.636292708205037, 'recall': 0.6560283687943262, 'f1-score': 0.6249947028468226, 'macro_f1-score': 0.3464223331475471, 'balanced_accuracy': 0.35856859177134687, 'mcc': 0.5326333143297107}\n",
      "\n",
      "Epoch 5/20\n"
     ]
    },
    {
     "name": "stderr",
     "output_type": "stream",
     "text": [
      "100%|██████████| 743/743 [05:29<00:00,  2.25it/s]\n"
     ]
    },
    {
     "name": "stdout",
     "output_type": "stream",
     "text": [
      "Train loss: 0.3388\n",
      "{'val_loss': 1.4543103817498908, 'val_accuracy': 0.6643026004728132, 'precision': 0.651692879218588, 'recall': 0.6643026004728132, 'f1-score': 0.6421653163310419, 'macro_f1-score': 0.37808066111423627, 'balanced_accuracy': 0.3863764957370745, 'mcc': 0.555138498711517}\n",
      "Early stopping triggered at epoch 5\n",
      "\n",
      "===== Fold 3 =====\n",
      "Train label dist: {0: 3576, 1: 28, 2: 126, 3: 27, 4: 231, 5: 131, 6: 106, 7: 35, 8: 76, 9: 73, 10: 80, 11: 193, 12: 217, 13: 32, 14: 26, 15: 28, 16: 23, 17: 260, 18: 104, 19: 51, 20: 16, 21: 40, 22: 87, 23: 180, 24: 18, 25: 57, 26: 96, 27: 55, 28: 14, 29: 14, 30: 17, 31: 90, 32: 41, 33: 36, 34: 33, 35: 13, 36: 32, 37: 24, 38: 6, 39: 116, 40: 13, 41: 10, 42: 166, 43: 18, 44: 22, 45: 10, 46: 61, 47: 595, 48: 227, 49: 78}\n",
      "Val label dist: {0: 398, 1: 3, 2: 14, 3: 3, 4: 26, 5: 14, 6: 12, 7: 4, 8: 9, 9: 8, 10: 8, 11: 22, 12: 24, 13: 4, 14: 3, 15: 3, 16: 2, 17: 29, 18: 12, 19: 5, 20: 2, 21: 4, 22: 10, 23: 20, 24: 2, 25: 6, 26: 11, 27: 6, 28: 1, 29: 2, 30: 2, 31: 10, 32: 4, 33: 4, 34: 4, 35: 2, 36: 3, 37: 3, 38: 1, 39: 13, 40: 1, 41: 1, 42: 18, 43: 2, 44: 3, 45: 1, 46: 7, 47: 66, 48: 25, 49: 9}\n",
      "avg_label_size: 152\n",
      "\n",
      "Epoch 1/20\n"
     ]
    },
    {
     "name": "stderr",
     "output_type": "stream",
     "text": [
      "100%|██████████| 743/743 [05:29<00:00,  2.25it/s]\n"
     ]
    },
    {
     "name": "stdout",
     "output_type": "stream",
     "text": [
      "Train loss: 2.0630\n",
      "{'val_loss': 1.4025647724574466, 'val_accuracy': 0.6205673758865248, 'precision': 0.5919476985660749, 'recall': 0.6205673758865248, 'f1-score': 0.588466713051676, 'macro_f1-score': 0.3604631728473003, 'balanced_accuracy': 0.4264463428233139, 'mcc': 0.49182770700677947}\n",
      "\n",
      "Epoch 2/20\n"
     ]
    },
    {
     "name": "stderr",
     "output_type": "stream",
     "text": [
      "100%|██████████| 743/743 [05:29<00:00,  2.26it/s]\n"
     ]
    },
    {
     "name": "stdout",
     "output_type": "stream",
     "text": [
      "Train loss: 0.9071\n",
      "{'val_loss': 1.2678851833883322, 'val_accuracy': 0.66548463356974, 'precision': 0.6664598619814817, 'recall': 0.66548463356974, 'f1-score': 0.6410259618862967, 'macro_f1-score': 0.37820089693073244, 'balanced_accuracy': 0.4025080171219835, 'mcc': 0.5525509898041021}\n",
      "\n",
      "Epoch 3/20\n"
     ]
    },
    {
     "name": "stderr",
     "output_type": "stream",
     "text": [
      "100%|██████████| 743/743 [05:29<00:00,  2.25it/s]\n"
     ]
    },
    {
     "name": "stdout",
     "output_type": "stream",
     "text": [
      "Train loss: 0.5816\n",
      "{'val_loss': 1.3618451812357273, 'val_accuracy': 0.6808510638297872, 'precision': 0.6724742669519145, 'recall': 0.6808510638297872, 'f1-score': 0.6548399576474935, 'macro_f1-score': 0.39980350297895484, 'balanced_accuracy': 0.4074072745945212, 'mcc': 0.5700490621510353}\n",
      "\n",
      "Epoch 4/20\n"
     ]
    },
    {
     "name": "stderr",
     "output_type": "stream",
     "text": [
      "100%|██████████| 743/743 [05:29<00:00,  2.26it/s]\n"
     ]
    },
    {
     "name": "stdout",
     "output_type": "stream",
     "text": [
      "Train loss: 0.4302\n",
      "{'val_loss': 1.4239947284167667, 'val_accuracy': 0.6702127659574468, 'precision': 0.6416324081396569, 'recall': 0.6702127659574468, 'f1-score': 0.6412162484221714, 'macro_f1-score': 0.40533545125123466, 'balanced_accuracy': 0.4080458423899595, 'mcc': 0.551084640797566}\n",
      "\n",
      "Epoch 5/20\n"
     ]
    },
    {
     "name": "stderr",
     "output_type": "stream",
     "text": [
      "100%|██████████| 743/743 [05:29<00:00,  2.26it/s]\n"
     ]
    },
    {
     "name": "stdout",
     "output_type": "stream",
     "text": [
      "Train loss: 0.3323\n",
      "{'val_loss': 1.461415263841737, 'val_accuracy': 0.6595744680851063, 'precision': 0.6666547934919651, 'recall': 0.6595744680851063, 'f1-score': 0.6517646200117108, 'macro_f1-score': 0.4069792263769485, 'balanced_accuracy': 0.4163049379181245, 'mcc': 0.5514079090851245}\n",
      "\n",
      "Epoch 6/20\n"
     ]
    },
    {
     "name": "stderr",
     "output_type": "stream",
     "text": [
      "100%|██████████| 743/743 [05:29<00:00,  2.26it/s]\n"
     ]
    },
    {
     "name": "stdout",
     "output_type": "stream",
     "text": [
      "Train loss: 0.3002\n",
      "{'val_loss': 1.6272065375211104, 'val_accuracy': 0.6430260047281324, 'precision': 0.640418830007845, 'recall': 0.6430260047281324, 'f1-score': 0.6275825590486065, 'macro_f1-score': 0.39849780199763485, 'balanced_accuracy': 0.42268554186336194, 'mcc': 0.5271800835861645}\n",
      "\n",
      "Epoch 7/20\n"
     ]
    },
    {
     "name": "stderr",
     "output_type": "stream",
     "text": [
      "100%|██████████| 743/743 [05:29<00:00,  2.25it/s]\n"
     ]
    },
    {
     "name": "stdout",
     "output_type": "stream",
     "text": [
      "Train loss: 0.2655\n",
      "{'val_loss': 1.5485147125316117, 'val_accuracy': 0.682033096926714, 'precision': 0.6583233141014687, 'recall': 0.682033096926714, 'f1-score': 0.6596680503841126, 'macro_f1-score': 0.42713417119722635, 'balanced_accuracy': 0.4453388166657271, 'mcc': 0.5716861333178828}\n",
      "\n",
      "Epoch 8/20\n"
     ]
    },
    {
     "name": "stderr",
     "output_type": "stream",
     "text": [
      "100%|██████████| 743/743 [05:29<00:00,  2.25it/s]\n"
     ]
    },
    {
     "name": "stdout",
     "output_type": "stream",
     "text": [
      "Train loss: 0.2443\n",
      "{'val_loss': 1.627835846172189, 'val_accuracy': 0.6583924349881797, 'precision': 0.661675470580926, 'recall': 0.6583924349881797, 'f1-score': 0.6441981048670532, 'macro_f1-score': 0.39119794399455415, 'balanced_accuracy': 0.3950985219116739, 'mcc': 0.543628374835484}\n",
      "\n",
      "Epoch 9/20\n"
     ]
    },
    {
     "name": "stderr",
     "output_type": "stream",
     "text": [
      "100%|██████████| 743/743 [05:29<00:00,  2.26it/s]\n"
     ]
    },
    {
     "name": "stdout",
     "output_type": "stream",
     "text": [
      "Train loss: 0.2429\n",
      "{'val_loss': 1.6837662784558423, 'val_accuracy': 0.6501182033096927, 'precision': 0.6554088058897662, 'recall': 0.6501182033096927, 'f1-score': 0.6437716678344776, 'macro_f1-score': 0.3962979466775821, 'balanced_accuracy': 0.4114196106190735, 'mcc': 0.5470712464312727}\n",
      "\n",
      "Epoch 10/20\n"
     ]
    },
    {
     "name": "stderr",
     "output_type": "stream",
     "text": [
      "100%|██████████| 743/743 [05:29<00:00,  2.25it/s]\n"
     ]
    },
    {
     "name": "stdout",
     "output_type": "stream",
     "text": [
      "Train loss: 0.2235\n",
      "{'val_loss': 1.6372291367009002, 'val_accuracy': 0.6666666666666666, 'precision': 0.6756179770535157, 'recall': 0.6666666666666666, 'f1-score': 0.6590284248775884, 'macro_f1-score': 0.4249679965375258, 'balanced_accuracy': 0.4446425137022434, 'mcc': 0.5612312082143623}\n",
      "Early stopping triggered at epoch 10\n",
      "\n",
      "===== Fold 4 =====\n",
      "Train label dist: {0: 3576, 1: 28, 2: 126, 3: 27, 4: 231, 5: 131, 6: 106, 7: 35, 8: 77, 9: 72, 10: 80, 11: 193, 12: 217, 13: 32, 14: 27, 15: 27, 16: 23, 17: 260, 18: 104, 19: 51, 20: 16, 21: 40, 22: 87, 23: 180, 24: 18, 25: 57, 26: 96, 27: 55, 28: 14, 29: 14, 30: 17, 31: 90, 32: 41, 33: 36, 34: 33, 35: 13, 36: 32, 37: 24, 38: 6, 39: 116, 40: 13, 41: 10, 42: 166, 43: 18, 44: 23, 45: 9, 46: 61, 47: 595, 48: 227, 49: 78}\n",
      "Val label dist: {0: 398, 1: 3, 2: 14, 3: 3, 4: 26, 5: 14, 6: 12, 7: 4, 8: 8, 9: 9, 10: 8, 11: 22, 12: 24, 13: 4, 14: 2, 15: 4, 16: 2, 17: 29, 18: 12, 19: 5, 20: 2, 21: 4, 22: 10, 23: 20, 24: 2, 25: 6, 26: 11, 27: 6, 28: 1, 29: 2, 30: 2, 31: 10, 32: 4, 33: 4, 34: 4, 35: 2, 36: 3, 37: 3, 38: 1, 39: 13, 40: 1, 41: 1, 42: 18, 43: 2, 44: 2, 45: 2, 46: 7, 47: 66, 48: 25, 49: 9}\n",
      "avg_label_size: 152\n",
      "\n",
      "Epoch 1/20\n"
     ]
    },
    {
     "name": "stderr",
     "output_type": "stream",
     "text": [
      "100%|██████████| 743/743 [05:29<00:00,  2.26it/s]\n"
     ]
    },
    {
     "name": "stdout",
     "output_type": "stream",
     "text": [
      "Train loss: 2.2784\n",
      "{'val_loss': 1.4779980801186472, 'val_accuracy': 0.6052009456264775, 'precision': 0.5370559766930039, 'recall': 0.6052009456264775, 'f1-score': 0.5429495587033181, 'macro_f1-score': 0.285344443452352, 'balanced_accuracy': 0.32489640541979825, 'mcc': 0.4501324671750476}\n",
      "\n",
      "Epoch 2/20\n"
     ]
    },
    {
     "name": "stderr",
     "output_type": "stream",
     "text": [
      "100%|██████████| 743/743 [05:29<00:00,  2.26it/s]\n"
     ]
    },
    {
     "name": "stdout",
     "output_type": "stream",
     "text": [
      "Train loss: 1.0473\n",
      "{'val_loss': 1.3365103433716972, 'val_accuracy': 0.6229314420803782, 'precision': 0.6499871946475759, 'recall': 0.6229314420803782, 'f1-score': 0.6162445337124788, 'macro_f1-score': 0.39083992128717204, 'balanced_accuracy': 0.44551991501249866, 'mcc': 0.513963898294676}\n",
      "\n",
      "Epoch 3/20\n"
     ]
    },
    {
     "name": "stderr",
     "output_type": "stream",
     "text": [
      "100%|██████████| 743/743 [05:29<00:00,  2.26it/s]\n"
     ]
    },
    {
     "name": "stdout",
     "output_type": "stream",
     "text": [
      "Train loss: 0.6407\n",
      "{'val_loss': 1.341528983610981, 'val_accuracy': 0.6773049645390071, 'precision': 0.647726908901719, 'recall': 0.6773049645390071, 'f1-score': 0.6453382058778794, 'macro_f1-score': 0.4251687148574834, 'balanced_accuracy': 0.39641623532323583, 'mcc': 0.5541660035411987}\n",
      "\n",
      "Epoch 4/20\n"
     ]
    },
    {
     "name": "stderr",
     "output_type": "stream",
     "text": [
      "100%|██████████| 743/743 [05:29<00:00,  2.26it/s]\n"
     ]
    },
    {
     "name": "stdout",
     "output_type": "stream",
     "text": [
      "Train loss: 0.4712\n",
      "{'val_loss': 1.3793018730181568, 'val_accuracy': 0.6619385342789598, 'precision': 0.6644770120893784, 'recall': 0.6619385342789598, 'f1-score': 0.6440546057183295, 'macro_f1-score': 0.40052515346581297, 'balanced_accuracy': 0.40750965129519967, 'mcc': 0.5477390616811246}\n",
      "\n",
      "Epoch 5/20\n"
     ]
    },
    {
     "name": "stderr",
     "output_type": "stream",
     "text": [
      "100%|██████████| 743/743 [05:29<00:00,  2.26it/s]\n"
     ]
    },
    {
     "name": "stdout",
     "output_type": "stream",
     "text": [
      "Train loss: 0.3600\n",
      "{'val_loss': 1.448130819032777, 'val_accuracy': 0.6713947990543735, 'precision': 0.6535538224338516, 'recall': 0.6713947990543735, 'f1-score': 0.650641369167588, 'macro_f1-score': 0.4136684971842017, 'balanced_accuracy': 0.4250467987219849, 'mcc': 0.5578655365971418}\n",
      "\n",
      "Epoch 6/20\n"
     ]
    },
    {
     "name": "stderr",
     "output_type": "stream",
     "text": [
      "100%|██████████| 743/743 [05:29<00:00,  2.25it/s]\n"
     ]
    },
    {
     "name": "stdout",
     "output_type": "stream",
     "text": [
      "Train loss: 0.3327\n",
      "{'val_loss': 1.4839471679813456, 'val_accuracy': 0.6891252955082743, 'precision': 0.6791289037056373, 'recall': 0.6891252955082743, 'f1-score': 0.6618564773382138, 'macro_f1-score': 0.4283857846600458, 'balanced_accuracy': 0.4004548738963918, 'mcc': 0.5743914298246477}\n",
      "\n",
      "Epoch 7/20\n"
     ]
    },
    {
     "name": "stderr",
     "output_type": "stream",
     "text": [
      "100%|██████████| 743/743 [05:28<00:00,  2.26it/s]\n"
     ]
    },
    {
     "name": "stdout",
     "output_type": "stream",
     "text": [
      "Train loss: 0.2851\n",
      "{'val_loss': 1.556220807556836, 'val_accuracy': 0.6607565011820331, 'precision': 0.6497508955331998, 'recall': 0.6607565011820331, 'f1-score': 0.6389625561028767, 'macro_f1-score': 0.39351812838924266, 'balanced_accuracy': 0.3815960342108843, 'mcc': 0.5426947649458348}\n",
      "\n",
      "Epoch 8/20\n"
     ]
    },
    {
     "name": "stderr",
     "output_type": "stream",
     "text": [
      "100%|██████████| 743/743 [05:30<00:00,  2.25it/s]\n"
     ]
    },
    {
     "name": "stdout",
     "output_type": "stream",
     "text": [
      "Train loss: 0.2653\n",
      "{'val_loss': 1.5616688284109224, 'val_accuracy': 0.6548463356973995, 'precision': 0.6600061438510019, 'recall': 0.6548463356973995, 'f1-score': 0.6434816041943665, 'macro_f1-score': 0.39722622715614697, 'balanced_accuracy': 0.42835707015216634, 'mcc': 0.5446171849276884}\n",
      "\n",
      "Epoch 9/20\n"
     ]
    },
    {
     "name": "stderr",
     "output_type": "stream",
     "text": [
      "100%|██████████| 743/743 [05:28<00:00,  2.26it/s]\n"
     ]
    },
    {
     "name": "stdout",
     "output_type": "stream",
     "text": [
      "Train loss: 0.2476\n",
      "{'val_loss': 1.6318463356989734, 'val_accuracy': 0.6548463356973995, 'precision': 0.6565407809638983, 'recall': 0.6548463356973995, 'f1-score': 0.6430817146255497, 'macro_f1-score': 0.4012713152968997, 'balanced_accuracy': 0.4047003035721282, 'mcc': 0.5459183587692328}\n",
      "Early stopping triggered at epoch 9\n",
      "\n",
      "===== Fold 5 =====\n",
      "Train label dist: {0: 3577, 1: 27, 2: 126, 3: 27, 4: 231, 5: 131, 6: 106, 7: 35, 8: 77, 9: 73, 10: 79, 11: 193, 12: 217, 13: 33, 14: 26, 15: 28, 16: 22, 17: 260, 18: 105, 19: 50, 20: 16, 21: 40, 22: 87, 23: 180, 24: 18, 25: 57, 26: 96, 27: 55, 28: 14, 29: 14, 30: 17, 31: 90, 32: 41, 33: 36, 34: 33, 35: 14, 36: 31, 37: 24, 38: 6, 39: 117, 40: 13, 41: 10, 42: 165, 43: 18, 44: 23, 45: 10, 46: 61, 47: 595, 48: 227, 49: 78}\n",
      "Val label dist: {0: 397, 1: 4, 2: 14, 3: 3, 4: 26, 5: 14, 6: 12, 7: 4, 8: 8, 9: 8, 10: 9, 11: 22, 12: 24, 13: 3, 14: 3, 15: 3, 16: 3, 17: 29, 18: 11, 19: 6, 20: 2, 21: 4, 22: 10, 23: 20, 24: 2, 25: 6, 26: 11, 27: 6, 28: 1, 29: 2, 30: 2, 31: 10, 32: 4, 33: 4, 34: 4, 35: 1, 36: 4, 37: 3, 38: 1, 39: 12, 40: 1, 41: 1, 42: 19, 43: 2, 44: 2, 45: 1, 46: 7, 47: 66, 48: 25, 49: 9}\n",
      "avg_label_size: 152\n",
      "\n",
      "Epoch 1/20\n"
     ]
    },
    {
     "name": "stderr",
     "output_type": "stream",
     "text": [
      "100%|██████████| 743/743 [05:29<00:00,  2.25it/s]\n"
     ]
    },
    {
     "name": "stdout",
     "output_type": "stream",
     "text": [
      "Train loss: 2.1395\n",
      "{'val_loss': 1.4206242583832651, 'val_accuracy': 0.6118343195266273, 'precision': 0.5947772867733738, 'recall': 0.6118343195266273, 'f1-score': 0.5765083328686975, 'macro_f1-score': 0.2890202521173472, 'balanced_accuracy': 0.34331021981386783, 'mcc': 0.48136666172297043}\n",
      "\n",
      "Epoch 2/20\n"
     ]
    },
    {
     "name": "stderr",
     "output_type": "stream",
     "text": [
      "100%|██████████| 743/743 [05:32<00:00,  2.24it/s]\n"
     ]
    },
    {
     "name": "stdout",
     "output_type": "stream",
     "text": [
      "Train loss: 0.9880\n",
      "{'val_loss': 1.305571587018247, 'val_accuracy': 0.6402366863905326, 'precision': 0.6416268736066871, 'recall': 0.6402366863905326, 'f1-score': 0.6124253247554616, 'macro_f1-score': 0.33751045494351195, 'balanced_accuracy': 0.3575279425048359, 'mcc': 0.5140279828673624}\n",
      "\n",
      "Epoch 3/20\n"
     ]
    },
    {
     "name": "stderr",
     "output_type": "stream",
     "text": [
      "100%|██████████| 743/743 [05:30<00:00,  2.24it/s]\n"
     ]
    },
    {
     "name": "stdout",
     "output_type": "stream",
     "text": [
      "Train loss: 0.6309\n",
      "{'val_loss': 1.304782915227818, 'val_accuracy': 0.6579881656804734, 'precision': 0.6680641776193168, 'recall': 0.6579881656804734, 'f1-score': 0.6345568743145277, 'macro_f1-score': 0.3571198680847401, 'balanced_accuracy': 0.35625128377387516, 'mcc': 0.5364341574561711}\n",
      "\n",
      "Epoch 4/20\n"
     ]
    },
    {
     "name": "stderr",
     "output_type": "stream",
     "text": [
      "100%|██████████| 743/743 [05:29<00:00,  2.25it/s]\n"
     ]
    },
    {
     "name": "stdout",
     "output_type": "stream",
     "text": [
      "Train loss: 0.4615\n",
      "{'val_loss': 1.2670891200596432, 'val_accuracy': 0.6816568047337278, 'precision': 0.6657195261069958, 'recall': 0.6816568047337278, 'f1-score': 0.6523153737977104, 'macro_f1-score': 0.3836125730596354, 'balanced_accuracy': 0.3757524710731735, 'mcc': 0.5662135259685563}\n",
      "\n",
      "Epoch 5/20\n"
     ]
    },
    {
     "name": "stderr",
     "output_type": "stream",
     "text": [
      "100%|██████████| 743/743 [05:28<00:00,  2.26it/s]\n"
     ]
    },
    {
     "name": "stdout",
     "output_type": "stream",
     "text": [
      "Train loss: 0.3824\n",
      "{'val_loss': 1.425757736529944, 'val_accuracy': 0.6686390532544378, 'precision': 0.6514857207224071, 'recall': 0.6686390532544378, 'f1-score': 0.6425677281441583, 'macro_f1-score': 0.35750510619020276, 'balanced_accuracy': 0.355654505979929, 'mcc': 0.5521332270911326}\n",
      "\n",
      "Epoch 6/20\n"
     ]
    },
    {
     "name": "stderr",
     "output_type": "stream",
     "text": [
      "100%|██████████| 743/743 [05:29<00:00,  2.26it/s]\n"
     ]
    },
    {
     "name": "stdout",
     "output_type": "stream",
     "text": [
      "Train loss: 0.3132\n",
      "{'val_loss': 1.4394622968052917, 'val_accuracy': 0.6733727810650888, 'precision': 0.6526938299579395, 'recall': 0.6733727810650888, 'f1-score': 0.6505964642600488, 'macro_f1-score': 0.37701761082414204, 'balanced_accuracy': 0.36938209730167926, 'mcc': 0.5620831266902954}\n",
      "\n",
      "Epoch 7/20\n"
     ]
    },
    {
     "name": "stderr",
     "output_type": "stream",
     "text": [
      "100%|██████████| 743/743 [05:29<00:00,  2.26it/s]\n"
     ]
    },
    {
     "name": "stdout",
     "output_type": "stream",
     "text": [
      "Train loss: 0.2691\n",
      "{'val_loss': 1.5765095904188335, 'val_accuracy': 0.676923076923077, 'precision': 0.6678259929220379, 'recall': 0.676923076923077, 'f1-score': 0.6500134189297654, 'macro_f1-score': 0.3801293647101927, 'balanced_accuracy': 0.3876427614215438, 'mcc': 0.5656580023071683}\n",
      "Early stopping triggered at epoch 7\n",
      "\n",
      "===== Fold 6 =====\n",
      "Train label dist: {0: 3577, 1: 28, 2: 126, 3: 27, 4: 231, 5: 131, 6: 106, 7: 35, 8: 77, 9: 73, 10: 79, 11: 193, 12: 217, 13: 33, 14: 26, 15: 28, 16: 22, 17: 260, 18: 105, 19: 50, 20: 16, 21: 40, 22: 87, 23: 180, 24: 18, 25: 57, 26: 96, 27: 55, 28: 14, 29: 14, 30: 17, 31: 90, 32: 41, 33: 36, 34: 33, 35: 14, 36: 31, 37: 24, 38: 6, 39: 116, 40: 13, 41: 10, 42: 165, 43: 18, 44: 23, 45: 10, 46: 61, 47: 595, 48: 227, 49: 78}\n",
      "Val label dist: {0: 397, 1: 3, 2: 14, 3: 3, 4: 26, 5: 14, 6: 12, 7: 4, 8: 8, 9: 8, 10: 9, 11: 22, 12: 24, 13: 3, 14: 3, 15: 3, 16: 3, 17: 29, 18: 11, 19: 6, 20: 2, 21: 4, 22: 10, 23: 20, 24: 2, 25: 6, 26: 11, 27: 6, 28: 1, 29: 2, 30: 2, 31: 10, 32: 4, 33: 4, 34: 4, 35: 1, 36: 4, 37: 3, 38: 1, 39: 13, 40: 1, 41: 1, 42: 19, 43: 2, 44: 2, 45: 1, 46: 7, 47: 66, 48: 25, 49: 9}\n",
      "avg_label_size: 152\n",
      "\n",
      "Epoch 1/20\n"
     ]
    },
    {
     "name": "stderr",
     "output_type": "stream",
     "text": [
      "100%|██████████| 743/743 [05:31<00:00,  2.24it/s]\n"
     ]
    },
    {
     "name": "stdout",
     "output_type": "stream",
     "text": [
      "Train loss: 2.1672\n",
      "{'val_loss': 1.407661589811433, 'val_accuracy': 0.6153846153846154, 'precision': 0.5974317580125151, 'recall': 0.6153846153846154, 'f1-score': 0.570897441371848, 'macro_f1-score': 0.2937515000159256, 'balanced_accuracy': 0.33279298301031124, 'mcc': 0.4760005032581076}\n",
      "\n",
      "Epoch 2/20\n"
     ]
    },
    {
     "name": "stderr",
     "output_type": "stream",
     "text": [
      "100%|██████████| 743/743 [05:29<00:00,  2.25it/s]\n"
     ]
    },
    {
     "name": "stdout",
     "output_type": "stream",
     "text": [
      "Train loss: 0.9579\n",
      "{'val_loss': 1.2792257031179823, 'val_accuracy': 0.6662721893491125, 'precision': 0.6802524623963345, 'recall': 0.6662721893491125, 'f1-score': 0.6424337946641884, 'macro_f1-score': 0.369598648032975, 'balanced_accuracy': 0.39444689060857235, 'mcc': 0.5481827112118213}\n",
      "\n",
      "Epoch 3/20\n"
     ]
    },
    {
     "name": "stderr",
     "output_type": "stream",
     "text": [
      "100%|██████████| 743/743 [05:29<00:00,  2.26it/s]\n"
     ]
    },
    {
     "name": "stdout",
     "output_type": "stream",
     "text": [
      "Train loss: 0.5979\n",
      "{'val_loss': 1.2651595776935793, 'val_accuracy': 0.6863905325443787, 'precision': 0.6724518749886531, 'recall': 0.6863905325443787, 'f1-score': 0.6589452636546267, 'macro_f1-score': 0.37016660598810697, 'balanced_accuracy': 0.3660808360574313, 'mcc': 0.5714373032565514}\n",
      "\n",
      "Epoch 4/20\n"
     ]
    },
    {
     "name": "stderr",
     "output_type": "stream",
     "text": [
      "100%|██████████| 743/743 [05:29<00:00,  2.26it/s]\n"
     ]
    },
    {
     "name": "stdout",
     "output_type": "stream",
     "text": [
      "Train loss: 0.4441\n",
      "{'val_loss': 1.3633183510798328, 'val_accuracy': 0.6733727810650888, 'precision': 0.6400699599221519, 'recall': 0.6733727810650888, 'f1-score': 0.6373466679491052, 'macro_f1-score': 0.34187025872362786, 'balanced_accuracy': 0.3481980213308076, 'mcc': 0.5534237630262865}\n",
      "\n",
      "Epoch 5/20\n"
     ]
    },
    {
     "name": "stderr",
     "output_type": "stream",
     "text": [
      "100%|██████████| 743/743 [05:28<00:00,  2.26it/s]\n"
     ]
    },
    {
     "name": "stdout",
     "output_type": "stream",
     "text": [
      "Train loss: 0.3497\n",
      "{'val_loss': 1.3886538654003504, 'val_accuracy': 0.6840236686390533, 'precision': 0.6745347694232952, 'recall': 0.6840236686390533, 'f1-score': 0.6657349692963352, 'macro_f1-score': 0.3705661954739821, 'balanced_accuracy': 0.4025361456144909, 'mcc': 0.5794964384676025}\n",
      "\n",
      "Epoch 6/20\n"
     ]
    },
    {
     "name": "stderr",
     "output_type": "stream",
     "text": [
      "100%|██████████| 743/743 [05:28<00:00,  2.26it/s]\n"
     ]
    },
    {
     "name": "stdout",
     "output_type": "stream",
     "text": [
      "Train loss: 0.2876\n",
      "{'val_loss': 1.429109756676656, 'val_accuracy': 0.6686390532544378, 'precision': 0.6591816754803307, 'recall': 0.6686390532544378, 'f1-score': 0.6473255739343171, 'macro_f1-score': 0.3396246246495639, 'balanced_accuracy': 0.36077449594859845, 'mcc': 0.560872306413463}\n",
      "\n",
      "Epoch 7/20\n"
     ]
    },
    {
     "name": "stderr",
     "output_type": "stream",
     "text": [
      "100%|██████████| 743/743 [05:29<00:00,  2.25it/s]\n"
     ]
    },
    {
     "name": "stdout",
     "output_type": "stream",
     "text": [
      "Train loss: 0.2688\n",
      "{'val_loss': 1.61864151257389, 'val_accuracy': 0.6378698224852071, 'precision': 0.691343664730869, 'recall': 0.6378698224852071, 'f1-score': 0.6421317404903176, 'macro_f1-score': 0.38375556015193946, 'balanced_accuracy': 0.4133657258816223, 'mcc': 0.5461249445642129}\n",
      "\n",
      "Epoch 8/20\n"
     ]
    },
    {
     "name": "stderr",
     "output_type": "stream",
     "text": [
      "100%|██████████| 743/743 [05:28<00:00,  2.26it/s]\n"
     ]
    },
    {
     "name": "stdout",
     "output_type": "stream",
     "text": [
      "Train loss: 0.2523\n",
      "{'val_loss': 1.537757136911716, 'val_accuracy': 0.6698224852071006, 'precision': 0.6578136554792431, 'recall': 0.6698224852071006, 'f1-score': 0.6549262955940113, 'macro_f1-score': 0.36064188892275234, 'balanced_accuracy': 0.3893957132083616, 'mcc': 0.5634343969808845}\n",
      "\n",
      "Epoch 9/20\n"
     ]
    },
    {
     "name": "stderr",
     "output_type": "stream",
     "text": [
      "100%|██████████| 743/743 [05:28<00:00,  2.26it/s]\n"
     ]
    },
    {
     "name": "stdout",
     "output_type": "stream",
     "text": [
      "Train loss: 0.2434\n",
      "{'val_loss': 1.5827682164480101, 'val_accuracy': 0.6662721893491125, 'precision': 0.6931188607206241, 'recall': 0.6662721893491125, 'f1-score': 0.6585513866547459, 'macro_f1-score': 0.42296061545206803, 'balanced_accuracy': 0.442861801063088, 'mcc': 0.5594836577273833}\n",
      "\n",
      "Epoch 10/20\n"
     ]
    },
    {
     "name": "stderr",
     "output_type": "stream",
     "text": [
      "100%|██████████| 743/743 [05:28<00:00,  2.26it/s]\n"
     ]
    },
    {
     "name": "stdout",
     "output_type": "stream",
     "text": [
      "Train loss: 0.2479\n",
      "{'val_loss': 1.6273825640948314, 'val_accuracy': 0.6840236686390533, 'precision': 0.6681657662024658, 'recall': 0.6840236686390533, 'f1-score': 0.6650251139321676, 'macro_f1-score': 0.37652950928835066, 'balanced_accuracy': 0.40039486767636867, 'mcc': 0.5782022688776968}\n",
      "\n",
      "Epoch 11/20\n"
     ]
    },
    {
     "name": "stderr",
     "output_type": "stream",
     "text": [
      "100%|██████████| 743/743 [05:28<00:00,  2.26it/s]\n"
     ]
    },
    {
     "name": "stdout",
     "output_type": "stream",
     "text": [
      "Train loss: 0.2231\n",
      "{'val_loss': 1.5545754871278439, 'val_accuracy': 0.6863905325443787, 'precision': 0.6724325048428772, 'recall': 0.6863905325443787, 'f1-score': 0.667606905437894, 'macro_f1-score': 0.3605454778005328, 'balanced_accuracy': 0.37475642450907065, 'mcc': 0.5812363587499385}\n",
      "\n",
      "Epoch 12/20\n"
     ]
    },
    {
     "name": "stderr",
     "output_type": "stream",
     "text": [
      "100%|██████████| 743/743 [05:28<00:00,  2.26it/s]\n"
     ]
    },
    {
     "name": "stdout",
     "output_type": "stream",
     "text": [
      "Train loss: 0.2197\n",
      "{'val_loss': 1.642102116683744, 'val_accuracy': 0.6792899408284023, 'precision': 0.6848586151198893, 'recall': 0.6792899408284023, 'f1-score': 0.6601154343491106, 'macro_f1-score': 0.4174079813456652, 'balanced_accuracy': 0.42033041412251365, 'mcc': 0.5684488246152388}\n",
      "Early stopping triggered at epoch 12\n",
      "\n",
      "===== Fold 7 =====\n",
      "Train label dist: {0: 3577, 1: 28, 2: 126, 3: 27, 4: 232, 5: 130, 6: 106, 7: 35, 8: 77, 9: 73, 10: 79, 11: 193, 12: 217, 13: 33, 14: 26, 15: 28, 16: 22, 17: 260, 18: 105, 19: 50, 20: 16, 21: 40, 22: 87, 23: 180, 24: 18, 25: 57, 26: 96, 27: 55, 28: 14, 29: 14, 30: 17, 31: 90, 32: 41, 33: 36, 34: 33, 35: 14, 36: 31, 37: 25, 38: 6, 39: 116, 40: 12, 41: 10, 42: 165, 43: 18, 44: 23, 45: 10, 46: 62, 47: 594, 48: 227, 49: 78}\n",
      "Val label dist: {0: 397, 1: 3, 2: 14, 3: 3, 4: 25, 5: 15, 6: 12, 7: 4, 8: 8, 9: 8, 10: 9, 11: 22, 12: 24, 13: 3, 14: 3, 15: 3, 16: 3, 17: 29, 18: 11, 19: 6, 20: 2, 21: 4, 22: 10, 23: 20, 24: 2, 25: 6, 26: 11, 27: 6, 28: 1, 29: 2, 30: 2, 31: 10, 32: 4, 33: 4, 34: 4, 35: 1, 36: 4, 37: 2, 38: 1, 39: 13, 40: 2, 41: 1, 42: 19, 43: 2, 44: 2, 45: 1, 46: 6, 47: 67, 48: 25, 49: 9}\n",
      "avg_label_size: 152\n",
      "\n",
      "Epoch 1/20\n"
     ]
    },
    {
     "name": "stderr",
     "output_type": "stream",
     "text": [
      "100%|██████████| 743/743 [05:28<00:00,  2.26it/s]\n"
     ]
    },
    {
     "name": "stdout",
     "output_type": "stream",
     "text": [
      "Train loss: 2.1089\n",
      "{'val_loss': 1.4339270535505042, 'val_accuracy': 0.6295857988165681, 'precision': 0.6230973425316257, 'recall': 0.6295857988165681, 'f1-score': 0.6129206069305354, 'macro_f1-score': 0.35725922685890266, 'balanced_accuracy': 0.4117186633574488, 'mcc': 0.5170396398973821}\n",
      "\n",
      "Epoch 2/20\n"
     ]
    },
    {
     "name": "stderr",
     "output_type": "stream",
     "text": [
      "100%|██████████| 743/743 [05:28<00:00,  2.26it/s]\n"
     ]
    },
    {
     "name": "stdout",
     "output_type": "stream",
     "text": [
      "Train loss: 0.9724\n",
      "{'val_loss': 1.2579602902790286, 'val_accuracy': 0.6615384615384615, 'precision': 0.6815138703778185, 'recall': 0.6615384615384615, 'f1-score': 0.6495664293518436, 'macro_f1-score': 0.43919555421725676, 'balanced_accuracy': 0.45187137069933003, 'mcc': 0.546977594541022}\n",
      "\n",
      "Epoch 3/20\n"
     ]
    },
    {
     "name": "stderr",
     "output_type": "stream",
     "text": [
      "100%|██████████| 743/743 [05:28<00:00,  2.26it/s]\n"
     ]
    },
    {
     "name": "stdout",
     "output_type": "stream",
     "text": [
      "Train loss: 0.5960\n",
      "{'val_loss': 1.220929353866937, 'val_accuracy': 0.685207100591716, 'precision': 0.6919077133384794, 'recall': 0.685207100591716, 'f1-score': 0.6681918174233531, 'macro_f1-score': 0.42935031412288893, 'balanced_accuracy': 0.4196987067332185, 'mcc': 0.5772141399496659}\n",
      "\n",
      "Epoch 4/20\n"
     ]
    },
    {
     "name": "stderr",
     "output_type": "stream",
     "text": [
      "100%|██████████| 743/743 [05:28<00:00,  2.26it/s]\n"
     ]
    },
    {
     "name": "stdout",
     "output_type": "stream",
     "text": [
      "Train loss: 0.4459\n",
      "{'val_loss': 1.305345186647379, 'val_accuracy': 0.6863905325443787, 'precision': 0.6653920637617988, 'recall': 0.6863905325443787, 'f1-score': 0.6548094394578623, 'macro_f1-score': 0.3852060986534258, 'balanced_accuracy': 0.3655963711026854, 'mcc': 0.5718571531735261}\n",
      "\n",
      "Epoch 5/20\n"
     ]
    },
    {
     "name": "stderr",
     "output_type": "stream",
     "text": [
      "100%|██████████| 743/743 [05:28<00:00,  2.26it/s]\n"
     ]
    },
    {
     "name": "stdout",
     "output_type": "stream",
     "text": [
      "Train loss: 0.3429\n",
      "{'val_loss': 1.3078737056480263, 'val_accuracy': 0.6911242603550296, 'precision': 0.6694703686959926, 'recall': 0.6911242603550296, 'f1-score': 0.6684738808123485, 'macro_f1-score': 0.4215365300556331, 'balanced_accuracy': 0.40015346060828194, 'mcc': 0.5813761292972243}\n",
      "Early stopping triggered at epoch 5\n",
      "\n",
      "===== Fold 8 =====\n",
      "Train label dist: {0: 3577, 1: 28, 2: 126, 3: 27, 4: 232, 5: 130, 6: 106, 7: 35, 8: 77, 9: 73, 10: 79, 11: 194, 12: 216, 13: 33, 14: 26, 15: 28, 16: 22, 17: 260, 18: 105, 19: 50, 20: 16, 21: 40, 22: 87, 23: 180, 24: 18, 25: 57, 26: 96, 27: 55, 28: 13, 29: 14, 30: 18, 31: 90, 32: 40, 33: 36, 34: 33, 35: 14, 36: 31, 37: 25, 38: 6, 39: 116, 40: 12, 41: 10, 42: 165, 43: 18, 44: 23, 45: 10, 46: 62, 47: 595, 48: 226, 49: 79}\n",
      "Val label dist: {0: 397, 1: 3, 2: 14, 3: 3, 4: 25, 5: 15, 6: 12, 7: 4, 8: 8, 9: 8, 10: 9, 11: 21, 12: 25, 13: 3, 14: 3, 15: 3, 16: 3, 17: 29, 18: 11, 19: 6, 20: 2, 21: 4, 22: 10, 23: 20, 24: 2, 25: 6, 26: 11, 27: 6, 28: 2, 29: 2, 30: 1, 31: 10, 32: 5, 33: 4, 34: 4, 35: 1, 36: 4, 37: 2, 38: 1, 39: 13, 40: 2, 41: 1, 42: 19, 43: 2, 44: 2, 45: 1, 46: 6, 47: 66, 48: 26, 49: 8}\n",
      "avg_label_size: 152\n",
      "\n",
      "Epoch 1/20\n"
     ]
    },
    {
     "name": "stderr",
     "output_type": "stream",
     "text": [
      "100%|██████████| 743/743 [05:29<00:00,  2.25it/s]\n"
     ]
    },
    {
     "name": "stdout",
     "output_type": "stream",
     "text": [
      "Train loss: 2.2549\n",
      "{'val_loss': 1.4618611448215988, 'val_accuracy': 0.6094674556213018, 'precision': 0.5699394220018865, 'recall': 0.6094674556213018, 'f1-score': 0.5673706798959853, 'macro_f1-score': 0.270938106173835, 'balanced_accuracy': 0.3527635913687247, 'mcc': 0.4734224851427381}\n",
      "\n",
      "Epoch 2/20\n"
     ]
    },
    {
     "name": "stderr",
     "output_type": "stream",
     "text": [
      "100%|██████████| 743/743 [05:29<00:00,  2.26it/s]\n"
     ]
    },
    {
     "name": "stdout",
     "output_type": "stream",
     "text": [
      "Train loss: 1.0660\n",
      "{'val_loss': 1.2952703861695416, 'val_accuracy': 0.6437869822485207, 'precision': 0.6387523272242561, 'recall': 0.6437869822485207, 'f1-score': 0.622689175843412, 'macro_f1-score': 0.33282671933585506, 'balanced_accuracy': 0.37242831323562625, 'mcc': 0.5308586180435519}\n",
      "\n",
      "Epoch 3/20\n"
     ]
    },
    {
     "name": "stderr",
     "output_type": "stream",
     "text": [
      "100%|██████████| 743/743 [05:29<00:00,  2.26it/s]\n"
     ]
    },
    {
     "name": "stdout",
     "output_type": "stream",
     "text": [
      "Train loss: 0.6894\n",
      "{'val_loss': 1.2102359926925514, 'val_accuracy': 0.6792899408284023, 'precision': 0.6832913797014343, 'recall': 0.6792899408284023, 'f1-score': 0.6635460837853381, 'macro_f1-score': 0.38065214928232244, 'balanced_accuracy': 0.38103187976691977, 'mcc': 0.5717431153507534}\n",
      "\n",
      "Epoch 4/20\n"
     ]
    },
    {
     "name": "stderr",
     "output_type": "stream",
     "text": [
      "100%|██████████| 743/743 [05:29<00:00,  2.26it/s]\n"
     ]
    },
    {
     "name": "stdout",
     "output_type": "stream",
     "text": [
      "Train loss: 0.4805\n",
      "{'val_loss': 1.3204837295244325, 'val_accuracy': 0.6733727810650888, 'precision': 0.6765476210583827, 'recall': 0.6733727810650888, 'f1-score': 0.6499324091226385, 'macro_f1-score': 0.3764435345896942, 'balanced_accuracy': 0.3844967363050624, 'mcc': 0.5623682797271955}\n",
      "\n",
      "Epoch 5/20\n"
     ]
    },
    {
     "name": "stderr",
     "output_type": "stream",
     "text": [
      "100%|██████████| 743/743 [05:29<00:00,  2.25it/s]\n"
     ]
    },
    {
     "name": "stdout",
     "output_type": "stream",
     "text": [
      "Train loss: 0.4026\n",
      "{'val_loss': 1.3858423412970777, 'val_accuracy': 0.6781065088757396, 'precision': 0.6754654177762981, 'recall': 0.6781065088757396, 'f1-score': 0.6597214936904944, 'macro_f1-score': 0.38562772477324714, 'balanced_accuracy': 0.3839029792069107, 'mcc': 0.5656851907399769}\n",
      "\n",
      "Epoch 6/20\n"
     ]
    },
    {
     "name": "stderr",
     "output_type": "stream",
     "text": [
      "100%|██████████| 743/743 [05:29<00:00,  2.25it/s]\n"
     ]
    },
    {
     "name": "stdout",
     "output_type": "stream",
     "text": [
      "Train loss: 0.3279\n",
      "{'val_loss': 1.379262628982652, 'val_accuracy': 0.6816568047337278, 'precision': 0.6668069894970212, 'recall': 0.6816568047337278, 'f1-score': 0.6645760499664171, 'macro_f1-score': 0.3905167038947252, 'balanced_accuracy': 0.41662621878038913, 'mcc': 0.5755501366866083}\n",
      "\n",
      "Epoch 7/20\n"
     ]
    },
    {
     "name": "stderr",
     "output_type": "stream",
     "text": [
      "100%|██████████| 743/743 [05:29<00:00,  2.25it/s]\n"
     ]
    },
    {
     "name": "stdout",
     "output_type": "stream",
     "text": [
      "Train loss: 0.2749\n",
      "{'val_loss': 1.4416674741034239, 'val_accuracy': 0.6875739644970414, 'precision': 0.6989694986471335, 'recall': 0.6875739644970414, 'f1-score': 0.6770540200520816, 'macro_f1-score': 0.4125403831134151, 'balanced_accuracy': 0.43341089272560973, 'mcc': 0.5849955562785848}\n",
      "\n",
      "Epoch 8/20\n"
     ]
    },
    {
     "name": "stderr",
     "output_type": "stream",
     "text": [
      "100%|██████████| 743/743 [05:29<00:00,  2.26it/s]\n"
     ]
    },
    {
     "name": "stdout",
     "output_type": "stream",
     "text": [
      "Train loss: 0.2625\n",
      "{'val_loss': 1.4590520706941497, 'val_accuracy': 0.6698224852071006, 'precision': 0.7067171404784572, 'recall': 0.6698224852071006, 'f1-score': 0.6669775384549015, 'macro_f1-score': 0.4144868124247589, 'balanced_accuracy': 0.4192524155466299, 'mcc': 0.5720068049937814}\n",
      "\n",
      "Epoch 9/20\n"
     ]
    },
    {
     "name": "stderr",
     "output_type": "stream",
     "text": [
      "100%|██████████| 743/743 [05:29<00:00,  2.26it/s]\n"
     ]
    },
    {
     "name": "stdout",
     "output_type": "stream",
     "text": [
      "Train loss: 0.2440\n",
      "{'val_loss': 1.4922983106577172, 'val_accuracy': 0.6792899408284023, 'precision': 0.6643538757217416, 'recall': 0.6792899408284023, 'f1-score': 0.6576724096475488, 'macro_f1-score': 0.39971003474567396, 'balanced_accuracy': 0.4035907243088878, 'mcc': 0.5714226576670762}\n",
      "\n",
      "Epoch 10/20\n"
     ]
    },
    {
     "name": "stderr",
     "output_type": "stream",
     "text": [
      "100%|██████████| 743/743 [05:29<00:00,  2.26it/s]\n"
     ]
    },
    {
     "name": "stdout",
     "output_type": "stream",
     "text": [
      "Train loss: 0.2691\n",
      "{'val_loss': 1.472652756380585, 'val_accuracy': 0.6958579881656805, 'precision': 0.7050873151918826, 'recall': 0.6958579881656805, 'f1-score': 0.6773463836438117, 'macro_f1-score': 0.3982309287117981, 'balanced_accuracy': 0.39335267957635817, 'mcc': 0.5946907071382842}\n",
      "\n",
      "Epoch 11/20\n"
     ]
    },
    {
     "name": "stderr",
     "output_type": "stream",
     "text": [
      "100%|██████████| 743/743 [05:29<00:00,  2.26it/s]\n"
     ]
    },
    {
     "name": "stdout",
     "output_type": "stream",
     "text": [
      "Train loss: 0.2141\n",
      "{'val_loss': 1.5555828000014682, 'val_accuracy': 0.6792899408284023, 'precision': 0.6966997772263085, 'recall': 0.6792899408284023, 'f1-score': 0.672657398778632, 'macro_f1-score': 0.4237311793977192, 'balanced_accuracy': 0.4150231047100207, 'mcc': 0.5789244238234925}\n",
      "\n",
      "Epoch 12/20\n"
     ]
    },
    {
     "name": "stderr",
     "output_type": "stream",
     "text": [
      "100%|██████████| 743/743 [05:29<00:00,  2.25it/s]\n"
     ]
    },
    {
     "name": "stdout",
     "output_type": "stream",
     "text": [
      "Train loss: 0.2156\n",
      "{'val_loss': 1.57396714023824, 'val_accuracy': 0.6887573964497041, 'precision': 0.6890478869070424, 'recall': 0.6887573964497041, 'f1-score': 0.6784805344597977, 'macro_f1-score': 0.4155690871475648, 'balanced_accuracy': 0.4269730859865696, 'mcc': 0.5892378763421573}\n",
      "\n",
      "Epoch 13/20\n"
     ]
    },
    {
     "name": "stderr",
     "output_type": "stream",
     "text": [
      "100%|██████████| 743/743 [05:29<00:00,  2.26it/s]\n"
     ]
    },
    {
     "name": "stdout",
     "output_type": "stream",
     "text": [
      "Train loss: 0.2342\n",
      "{'val_loss': 1.6575822307253785, 'val_accuracy': 0.6733727810650888, 'precision': 0.6603683322914091, 'recall': 0.6733727810650888, 'f1-score': 0.648177554315972, 'macro_f1-score': 0.3573944822901634, 'balanced_accuracy': 0.3594170536573569, 'mcc': 0.5601014157741327}\n",
      "\n",
      "Epoch 14/20\n"
     ]
    },
    {
     "name": "stderr",
     "output_type": "stream",
     "text": [
      "100%|██████████| 743/743 [05:29<00:00,  2.25it/s]\n"
     ]
    },
    {
     "name": "stdout",
     "output_type": "stream",
     "text": [
      "Train loss: 0.2143\n",
      "{'val_loss': 1.7468575160458404, 'val_accuracy': 0.6473372781065089, 'precision': 0.6337791023270918, 'recall': 0.6473372781065089, 'f1-score': 0.6277963900133732, 'macro_f1-score': 0.3474009985071717, 'balanced_accuracy': 0.3657227985232169, 'mcc': 0.5335364578790873}\n",
      "Early stopping triggered at epoch 14\n",
      "\n",
      "===== Fold 9 =====\n",
      "Train label dist: {0: 3577, 1: 28, 2: 126, 3: 27, 4: 232, 5: 130, 6: 106, 7: 36, 8: 76, 9: 73, 10: 79, 11: 194, 12: 217, 13: 32, 14: 26, 15: 28, 16: 22, 17: 261, 18: 104, 19: 50, 20: 17, 21: 39, 22: 87, 23: 180, 24: 18, 25: 57, 26: 96, 27: 55, 28: 13, 29: 15, 30: 17, 31: 90, 32: 40, 33: 36, 34: 33, 35: 14, 36: 31, 37: 25, 38: 7, 39: 116, 40: 12, 41: 10, 42: 166, 43: 18, 44: 22, 45: 10, 46: 61, 47: 595, 48: 226, 49: 79}\n",
      "Val label dist: {0: 397, 1: 3, 2: 14, 3: 3, 4: 25, 5: 15, 6: 12, 7: 3, 8: 9, 9: 8, 10: 9, 11: 21, 12: 24, 13: 4, 14: 3, 15: 3, 16: 3, 17: 28, 18: 12, 19: 6, 20: 1, 21: 5, 22: 10, 23: 20, 24: 2, 25: 6, 26: 11, 27: 6, 28: 2, 29: 1, 30: 2, 31: 10, 32: 5, 33: 4, 34: 4, 35: 1, 36: 4, 37: 2, 39: 13, 40: 2, 41: 1, 42: 18, 43: 2, 44: 3, 45: 1, 46: 7, 47: 66, 48: 26, 49: 8}\n",
      "avg_label_size: 152\n",
      "\n",
      "Epoch 1/20\n"
     ]
    },
    {
     "name": "stderr",
     "output_type": "stream",
     "text": [
      "100%|██████████| 743/743 [05:39<00:00,  2.19it/s]\n"
     ]
    },
    {
     "name": "stdout",
     "output_type": "stream",
     "text": [
      "Train loss: 2.1537\n"
     ]
    },
    {
     "name": "stderr",
     "output_type": "stream",
     "text": [
      "D:\\Anaconda3\\envs\\cuda\\Lib\\site-packages\\sklearn\\metrics\\_classification.py:2458: UserWarning: y_pred contains classes not in y_true\n",
      "  warnings.warn(\"y_pred contains classes not in y_true\")\n"
     ]
    },
    {
     "name": "stdout",
     "output_type": "stream",
     "text": [
      "{'val_loss': 1.483929195494022, 'val_accuracy': 0.6059171597633136, 'precision': 0.5894458385913394, 'recall': 0.6059171597633136, 'f1-score': 0.5752102109227752, 'macro_f1-score': 0.2546958436278086, 'balanced_accuracy': 0.30051712425639326, 'mcc': 0.4768874797512445}\n",
      "\n",
      "Epoch 2/20\n"
     ]
    },
    {
     "name": "stderr",
     "output_type": "stream",
     "text": [
      "100%|██████████| 743/743 [05:35<00:00,  2.22it/s]\n"
     ]
    },
    {
     "name": "stdout",
     "output_type": "stream",
     "text": [
      "Train loss: 1.0080\n"
     ]
    },
    {
     "name": "stderr",
     "output_type": "stream",
     "text": [
      "D:\\Anaconda3\\envs\\cuda\\Lib\\site-packages\\sklearn\\metrics\\_classification.py:2458: UserWarning: y_pred contains classes not in y_true\n",
      "  warnings.warn(\"y_pred contains classes not in y_true\")\n"
     ]
    },
    {
     "name": "stdout",
     "output_type": "stream",
     "text": [
      "{'val_loss': 1.3091321542577923, 'val_accuracy': 0.650887573964497, 'precision': 0.6329060850272638, 'recall': 0.650887573964497, 'f1-score': 0.6200250903858132, 'macro_f1-score': 0.3548738317569281, 'balanced_accuracy': 0.3715792542647013, 'mcc': 0.525724979074313}\n",
      "\n",
      "Epoch 3/20\n"
     ]
    },
    {
     "name": "stderr",
     "output_type": "stream",
     "text": [
      "100%|██████████| 743/743 [05:35<00:00,  2.21it/s]\n"
     ]
    },
    {
     "name": "stdout",
     "output_type": "stream",
     "text": [
      "Train loss: 0.6230\n",
      "{'val_loss': 1.281332867325477, 'val_accuracy': 0.6402366863905326, 'precision': 0.6812066815172547, 'recall': 0.6402366863905326, 'f1-score': 0.6335986037319928, 'macro_f1-score': 0.368510503623602, 'balanced_accuracy': 0.3897335009045285, 'mcc': 0.5313819440665493}\n",
      "\n",
      "Epoch 4/20\n"
     ]
    },
    {
     "name": "stderr",
     "output_type": "stream",
     "text": [
      "100%|██████████| 743/743 [05:33<00:00,  2.23it/s]\n"
     ]
    },
    {
     "name": "stdout",
     "output_type": "stream",
     "text": [
      "Train loss: 0.4473\n",
      "{'val_loss': 1.4307174598270993, 'val_accuracy': 0.6710059171597633, 'precision': 0.6365020042306105, 'recall': 0.6710059171597633, 'f1-score': 0.6278037796273169, 'macro_f1-score': 0.31190614423489316, 'balanced_accuracy': 0.28847868579041147, 'mcc': 0.5461820368412055}\n",
      "\n",
      "Epoch 5/20\n"
     ]
    },
    {
     "name": "stderr",
     "output_type": "stream",
     "text": [
      "100%|██████████| 743/743 [05:34<00:00,  2.22it/s]\n"
     ]
    },
    {
     "name": "stdout",
     "output_type": "stream",
     "text": [
      "Train loss: 0.3732\n",
      "{'val_loss': 1.335535688782638, 'val_accuracy': 0.6899408284023668, 'precision': 0.6776362657455868, 'recall': 0.6899408284023668, 'f1-score': 0.6648774547681062, 'macro_f1-score': 0.40242506649061577, 'balanced_accuracy': 0.3745320141056017, 'mcc': 0.5742802737555823}\n",
      "\n",
      "Epoch 6/20\n"
     ]
    },
    {
     "name": "stderr",
     "output_type": "stream",
     "text": [
      "100%|██████████| 743/743 [05:34<00:00,  2.22it/s]\n"
     ]
    },
    {
     "name": "stdout",
     "output_type": "stream",
     "text": [
      "Train loss: 0.3088\n",
      "{'val_loss': 1.4145567383406297, 'val_accuracy': 0.6650887573964497, 'precision': 0.6713208964875051, 'recall': 0.6650887573964497, 'f1-score': 0.6547835475600526, 'macro_f1-score': 0.3732591568351555, 'balanced_accuracy': 0.3794344287856856, 'mcc': 0.5607059528053705}\n",
      "\n",
      "Epoch 7/20\n"
     ]
    },
    {
     "name": "stderr",
     "output_type": "stream",
     "text": [
      "100%|██████████| 743/743 [05:34<00:00,  2.22it/s]\n"
     ]
    },
    {
     "name": "stdout",
     "output_type": "stream",
     "text": [
      "Train loss: 0.2619\n",
      "{'val_loss': 1.4842572870119564, 'val_accuracy': 0.6686390532544378, 'precision': 0.6867449455323585, 'recall': 0.6686390532544378, 'f1-score': 0.6681417650841377, 'macro_f1-score': 0.4201117599770908, 'balanced_accuracy': 0.4152520064569619, 'mcc': 0.5671056886784925}\n",
      "\n",
      "Epoch 8/20\n"
     ]
    },
    {
     "name": "stderr",
     "output_type": "stream",
     "text": [
      "100%|██████████| 743/743 [05:34<00:00,  2.22it/s]\n"
     ]
    },
    {
     "name": "stdout",
     "output_type": "stream",
     "text": [
      "Train loss: 0.2529\n",
      "{'val_loss': 1.5205863258748684, 'val_accuracy': 0.6710059171597633, 'precision': 0.6687284717954504, 'recall': 0.6710059171597633, 'f1-score': 0.6523927756966715, 'macro_f1-score': 0.37273024970911384, 'balanced_accuracy': 0.3577845612351858, 'mcc': 0.5561676837792379}\n",
      "\n",
      "Epoch 9/20\n"
     ]
    },
    {
     "name": "stderr",
     "output_type": "stream",
     "text": [
      "100%|██████████| 743/743 [05:34<00:00,  2.22it/s]\n"
     ]
    },
    {
     "name": "stdout",
     "output_type": "stream",
     "text": [
      "Train loss: 0.2400\n",
      "{'val_loss': 1.6295786185084649, 'val_accuracy': 0.6603550295857988, 'precision': 0.6948082239503907, 'recall': 0.6603550295857988, 'f1-score': 0.6611130475383922, 'macro_f1-score': 0.38397245573515076, 'balanced_accuracy': 0.3890739406186895, 'mcc': 0.563277346725467}\n",
      "\n",
      "Epoch 10/20\n"
     ]
    },
    {
     "name": "stderr",
     "output_type": "stream",
     "text": [
      "100%|██████████| 743/743 [05:33<00:00,  2.23it/s]\n"
     ]
    },
    {
     "name": "stdout",
     "output_type": "stream",
     "text": [
      "Train loss: 0.2272\n",
      "{'val_loss': 1.6748388392745324, 'val_accuracy': 0.6615384615384615, 'precision': 0.6579750991378288, 'recall': 0.6615384615384615, 'f1-score': 0.6478918652891219, 'macro_f1-score': 0.396372113726052, 'balanced_accuracy': 0.3869115670452225, 'mcc': 0.5515689158747467}\n",
      "Early stopping triggered at epoch 10\n",
      "\n",
      "===== Fold 10 =====\n",
      "Train label dist: {0: 3577, 1: 28, 2: 126, 3: 27, 4: 231, 5: 130, 6: 107, 7: 35, 8: 76, 9: 73, 10: 79, 11: 194, 12: 217, 13: 32, 14: 26, 15: 28, 16: 23, 17: 260, 18: 104, 19: 50, 20: 17, 21: 39, 22: 88, 23: 180, 24: 18, 25: 56, 26: 97, 27: 54, 28: 13, 29: 15, 30: 17, 31: 90, 32: 40, 33: 36, 34: 34, 35: 13, 36: 32, 37: 24, 38: 7, 39: 116, 40: 12, 41: 10, 42: 166, 43: 18, 44: 22, 45: 10, 46: 61, 47: 595, 48: 227, 49: 79}\n",
      "Val label dist: {0: 397, 1: 3, 2: 14, 3: 3, 4: 26, 5: 15, 6: 11, 7: 4, 8: 9, 9: 8, 10: 9, 11: 21, 12: 24, 13: 4, 14: 3, 15: 3, 16: 2, 17: 29, 18: 12, 19: 6, 20: 1, 21: 5, 22: 9, 23: 20, 24: 2, 25: 7, 26: 10, 27: 7, 28: 2, 29: 1, 30: 2, 31: 10, 32: 5, 33: 4, 34: 3, 35: 2, 36: 3, 37: 3, 39: 13, 40: 2, 41: 1, 42: 18, 43: 2, 44: 3, 45: 1, 46: 7, 47: 66, 48: 25, 49: 8}\n",
      "avg_label_size: 152\n",
      "\n",
      "Epoch 1/20\n"
     ]
    },
    {
     "name": "stderr",
     "output_type": "stream",
     "text": [
      "100%|██████████| 743/743 [05:34<00:00,  2.22it/s]\n"
     ]
    },
    {
     "name": "stdout",
     "output_type": "stream",
     "text": [
      "Train loss: 2.0850\n",
      "{'val_loss': 1.4608232705098279, 'val_accuracy': 0.6059171597633136, 'precision': 0.5977299602679476, 'recall': 0.6059171597633136, 'f1-score': 0.5694405393505106, 'macro_f1-score': 0.28552090407306063, 'balanced_accuracy': 0.31865693683736995, 'mcc': 0.4694956695584935}\n",
      "\n",
      "Epoch 2/20\n"
     ]
    },
    {
     "name": "stderr",
     "output_type": "stream",
     "text": [
      "100%|██████████| 743/743 [05:33<00:00,  2.22it/s]\n"
     ]
    },
    {
     "name": "stdout",
     "output_type": "stream",
     "text": [
      "Train loss: 0.9543\n"
     ]
    },
    {
     "name": "stderr",
     "output_type": "stream",
     "text": [
      "D:\\Anaconda3\\envs\\cuda\\Lib\\site-packages\\sklearn\\metrics\\_classification.py:2458: UserWarning: y_pred contains classes not in y_true\n",
      "  warnings.warn(\"y_pred contains classes not in y_true\")\n"
     ]
    },
    {
     "name": "stdout",
     "output_type": "stream",
     "text": [
      "{'val_loss': 1.338241937025538, 'val_accuracy': 0.6461538461538462, 'precision': 0.6574885424437372, 'recall': 0.6461538461538462, 'f1-score': 0.6341680387281007, 'macro_f1-score': 0.3893401479314251, 'balanced_accuracy': 0.4176660017322481, 'mcc': 0.5369399210936937}\n",
      "\n",
      "Epoch 3/20\n"
     ]
    },
    {
     "name": "stderr",
     "output_type": "stream",
     "text": [
      "100%|██████████| 743/743 [06:57<00:00,  1.78it/s]\n"
     ]
    },
    {
     "name": "stdout",
     "output_type": "stream",
     "text": [
      "Train loss: 0.6098\n"
     ]
    },
    {
     "name": "stderr",
     "output_type": "stream",
     "text": [
      "D:\\Anaconda3\\envs\\cuda\\Lib\\site-packages\\sklearn\\metrics\\_classification.py:2458: UserWarning: y_pred contains classes not in y_true\n",
      "  warnings.warn(\"y_pred contains classes not in y_true\")\n"
     ]
    },
    {
     "name": "stdout",
     "output_type": "stream",
     "text": [
      "{'val_loss': 1.266345463271411, 'val_accuracy': 0.672189349112426, 'precision': 0.6558843335779345, 'recall': 0.672189349112426, 'f1-score': 0.6440716136752234, 'macro_f1-score': 0.37865189254901355, 'balanced_accuracy': 0.3826475238736179, 'mcc': 0.5542154210156334}\n",
      "\n",
      "Epoch 4/20\n"
     ]
    },
    {
     "name": "stderr",
     "output_type": "stream",
     "text": [
      "100%|██████████| 743/743 [07:00<00:00,  1.77it/s]\n"
     ]
    },
    {
     "name": "stdout",
     "output_type": "stream",
     "text": [
      "Train loss: 0.4521\n",
      "{'val_loss': 1.347375531803887, 'val_accuracy': 0.7041420118343196, 'precision': 0.6862486671627331, 'recall': 0.7041420118343196, 'f1-score': 0.6794137032622173, 'macro_f1-score': 0.41953962437597736, 'balanced_accuracy': 0.39419103458535365, 'mcc': 0.5963677706284605}\n",
      "\n",
      "Epoch 5/20\n"
     ]
    },
    {
     "name": "stderr",
     "output_type": "stream",
     "text": [
      "100%|██████████| 743/743 [06:19<00:00,  1.96it/s]\n"
     ]
    },
    {
     "name": "stdout",
     "output_type": "stream",
     "text": [
      "Train loss: 0.3543\n"
     ]
    },
    {
     "name": "stderr",
     "output_type": "stream",
     "text": [
      "D:\\Anaconda3\\envs\\cuda\\Lib\\site-packages\\sklearn\\metrics\\_classification.py:2458: UserWarning: y_pred contains classes not in y_true\n",
      "  warnings.warn(\"y_pred contains classes not in y_true\")\n"
     ]
    },
    {
     "name": "stdout",
     "output_type": "stream",
     "text": [
      "{'val_loss': 1.4013953596915838, 'val_accuracy': 0.6792899408284023, 'precision': 0.6748760188852879, 'recall': 0.6792899408284023, 'f1-score': 0.6642080061111695, 'macro_f1-score': 0.35948437473031936, 'balanced_accuracy': 0.3616987983503918, 'mcc': 0.5705001502937185}\n",
      "\n",
      "Epoch 6/20\n"
     ]
    },
    {
     "name": "stderr",
     "output_type": "stream",
     "text": [
      "100%|██████████| 743/743 [06:10<00:00,  2.01it/s]\n"
     ]
    },
    {
     "name": "stdout",
     "output_type": "stream",
     "text": [
      "Train loss: 0.3096\n"
     ]
    },
    {
     "name": "stderr",
     "output_type": "stream",
     "text": [
      "D:\\Anaconda3\\envs\\cuda\\Lib\\site-packages\\sklearn\\metrics\\_classification.py:2458: UserWarning: y_pred contains classes not in y_true\n",
      "  warnings.warn(\"y_pred contains classes not in y_true\")\n"
     ]
    },
    {
     "name": "stdout",
     "output_type": "stream",
     "text": [
      "{'val_loss': 1.4561707298710662, 'val_accuracy': 0.693491124260355, 'precision': 0.689216640475439, 'recall': 0.693491124260355, 'f1-score': 0.674254203565171, 'macro_f1-score': 0.39513452943949723, 'balanced_accuracy': 0.39197672430930486, 'mcc': 0.586723459775166}\n",
      "\n",
      "Epoch 7/20\n"
     ]
    },
    {
     "name": "stderr",
     "output_type": "stream",
     "text": [
      "100%|██████████| 743/743 [06:11<00:00,  2.00it/s]\n"
     ]
    },
    {
     "name": "stdout",
     "output_type": "stream",
     "text": [
      "Train loss: 0.2800\n",
      "{'val_loss': 1.5399778305359606, 'val_accuracy': 0.6781065088757396, 'precision': 0.6742686364591226, 'recall': 0.6781065088757396, 'f1-score': 0.6602519328680181, 'macro_f1-score': 0.40878340488982806, 'balanced_accuracy': 0.39522571480142066, 'mcc': 0.5736665710031522}\n",
      "Early stopping triggered at epoch 7\n",
      "\n",
      "=== Final 10-fold Cross-Validation Results ===\n",
      "val_loss: 1.4301\n",
      "val_accuracy: 0.6625\n",
      "precision: 0.6543\n",
      "recall: 0.6625\n",
      "f1-score: 0.6391\n",
      "macro_f1-score: 0.3766\n",
      "balanced_accuracy: 0.3870\n",
      "mcc: 0.5472\n"
     ]
    }
   ],
   "source": [
    "from torch.utils.data import DataLoader\n",
    "import torch\n",
    "from torch.nn import CrossEntropyLoss\n",
    "from torch.optim import AdamW\n",
    "from tqdm import tqdm\n",
    "import numpy as np\n",
    "from imblearn.over_sampling import RandomOverSampler\n",
    "from collections import Counter\n",
    "\n",
    "all_fold_results = []\n",
    "\n",
    "# 進行 10 折交叉驗證\n",
    "for fold, (train_idx, val_idx) in enumerate(skf.split(messages, labels)):\n",
    "    print(f\"\\n===== Fold {fold + 1} =====\")\n",
    "    train_messages = [messages[i] for i in train_idx]\n",
    "    train_labels = [labels[i] for i in train_idx]\n",
    "    val_messages = [messages[i] for i in val_idx]\n",
    "    val_labels = [labels[i] for i in val_idx]\n",
    "\n",
    "    print(\"Train label dist:\", {l: train_labels.count(l) for l in set(train_labels)})\n",
    "    print(\"Val label dist:\", {l: val_labels.count(l) for l in set(val_labels)})\n",
    "\n",
    "    # 計算各 Label 的數量\n",
    "    label_counts = pd.Series(train_labels).value_counts()\n",
    "    avg_label_size = int(label_counts.mean())  # **取平均值作為 resample 基準點**\n",
    "    print(f\"avg_label_size: {avg_label_size}\")\n",
    "\n",
    "    # 找出需要過採樣的類別\n",
    "    labels_to_oversample = label_counts[label_counts < avg_label_size].index.tolist()\n",
    "    \n",
    "    # 進行 ROS (Random Oversampling)\n",
    "    ros = RandomOverSampler(sampling_strategy={label: avg_label_size for label in labels_to_oversample}, random_state=42)\n",
    "    train_messages_resampled, train_labels_resampled = ros.fit_resample(np.array(train_messages).reshape(-1, 1), train_labels)\n",
    "    train_messages_resampled = train_messages_resampled.flatten().tolist()\n",
    "\n",
    "    # 轉換成 DataLoader\n",
    "    train_dataset = CustomDataset(train_messages_resampled, train_labels_resampled, tokenizer, MAX_LENGTH)\n",
    "    val_dataset = CustomDataset(val_messages, val_labels, tokenizer, MAX_LENGTH)\n",
    "    train_dataloader = DataLoader(train_dataset, batch_size=BATCH_SIZE, shuffle=True)\n",
    "    val_dataloader = DataLoader(val_dataset, batch_size=BATCH_SIZE)\n",
    "\n",
    "    NUM_LABELS = len(set(train_labels) | set(val_labels))\n",
    "    model = BertWithLSTM(num_labels=NUM_LABELS).to(device)\n",
    "    optimizer = AdamW(model.parameters(), lr=5e-5, weight_decay=1e-2)\n",
    "    criterion = CrossEntropyLoss()\n",
    "\n",
    "    epoch_results = []\n",
    "    patience = 3\n",
    "    best_macro_f1 = 0\n",
    "    epochs_without_improvement = 0\n",
    "\n",
    "    for epoch in range(EPOCHS):\n",
    "        print(f\"\\nEpoch {epoch + 1}/{EPOCHS}\")\n",
    "        train_loss = train_epoch(model, train_dataloader, optimizer, criterion)\n",
    "        print(f\"Train loss: {train_loss:.4f}\")\n",
    "        metrics = eval_model(model, val_dataloader, criterion, num_labels=NUM_LABELS)\n",
    "        print(metrics)\n",
    "        epoch_results.append(metrics)\n",
    "\n",
    "        current_macro_f1 = metrics[\"macro_f1-score\"]\n",
    "        if current_macro_f1 > best_macro_f1:\n",
    "            best_macro_f1 = current_macro_f1\n",
    "            epochs_without_improvement = 0\n",
    "        else:\n",
    "            epochs_without_improvement += 1\n",
    "\n",
    "        if epochs_without_improvement >= patience:\n",
    "            print(f\"Early stopping triggered at epoch {epoch + 1}\")\n",
    "            break\n",
    "\n",
    "    avg_metrics = {k: np.mean([e[k] for e in epoch_results]) for k in epoch_results[0].keys()}\n",
    "    all_fold_results.append(avg_metrics)\n",
    "\n",
    "# ===== 6. 結果統整 =====\n",
    "final_metrics = {k: np.mean([f[k] for f in all_fold_results]) for k in all_fold_results[0].keys()}\n",
    "print(\"\\n=== Final 10-fold Cross-Validation Results ===\")\n",
    "for metric, value in final_metrics.items():\n",
    "    print(f\"{metric}: {value:.4f}\")"
   ]
  },
  {
   "cell_type": "code",
   "execution_count": 10,
   "id": "4db7e5d9-9e6c-44d8-9328-ef91c112d313",
   "metadata": {},
   "outputs": [
    {
     "data": {
      "text/plain": [
       "[{'val_loss': 1.4706989445916887,\n",
       "  'val_accuracy': 0.6653368794326241,\n",
       "  'precision': 0.6529105061742719,\n",
       "  'recall': 0.6653368794326241,\n",
       "  'f1-score': 0.6357176870367138,\n",
       "  'macro_f1-score': 0.37538812006287986,\n",
       "  'balanced_accuracy': 0.38247423975921757,\n",
       "  'mcc': 0.5453340621878493},\n",
       " {'val_loss': 1.3673301673722718,\n",
       "  'val_accuracy': 0.649645390070922,\n",
       "  'precision': 0.6210041229478882,\n",
       "  'recall': 0.649645390070922,\n",
       "  'f1-score': 0.6132052765430069,\n",
       "  'macro_f1-score': 0.35131209308826017,\n",
       "  'balanced_accuracy': 0.3685890684078624,\n",
       "  'mcc': 0.5244632399111969},\n",
       " {'val_loss': 1.5042257640721663,\n",
       "  'val_accuracy': 0.659692671394799,\n",
       "  'precision': 0.6530613426764613,\n",
       "  'recall': 0.659692671394799,\n",
       "  'f1-score': 0.6411562308031187,\n",
       "  'macro_f1-score': 0.3988878110789694,\n",
       "  'balanced_accuracy': 0.41798974196099825,\n",
       "  'mcc': 0.5467717355229773},\n",
       " {'val_loss': 1.4685725820889262,\n",
       "  'val_accuracy': 0.655371683740478,\n",
       "  'precision': 0.6442475154243629,\n",
       "  'recall': 0.655371683740478,\n",
       "  'f1-score': 0.6318456250489555,\n",
       "  'macro_f1-score': 0.39288313174992856,\n",
       "  'balanced_accuracy': 0.4016108097338098,\n",
       "  'mcc': 0.5368320784173991},\n",
       " {'val_loss': 1.3913996434918634,\n",
       "  'val_accuracy': 0.6586644125105663,\n",
       "  'precision': 0.6488847725298227,\n",
       "  'recall': 0.6586644125105663,\n",
       "  'f1-score': 0.6312833595814814,\n",
       "  'macro_f1-score': 0.35455931856139605,\n",
       "  'balanced_accuracy': 0.36364589740984343,\n",
       "  'mcc': 0.5397023834433795},\n",
       " {'val_loss': 1.474696323134989,\n",
       "  'val_accuracy': 0.6681459566074951,\n",
       "  'precision': 0.6659712972766042,\n",
       "  'recall': 0.6681459566074951,\n",
       "  'f1-score': 0.6475867156107223,\n",
       "  'macro_f1-score': 0.36728490548712417,\n",
       "  'balanced_accuracy': 0.3871611932526031,\n",
       "  'mcc': 0.5571952897624323},\n",
       " {'val_loss': 1.305207117998375,\n",
       "  'val_accuracy': 0.6707692307692307,\n",
       "  'precision': 0.666276271741143,\n",
       "  'recall': 0.6707692307692307,\n",
       "  'f1-score': 0.6507924347951886,\n",
       "  'macro_f1-score': 0.4065095447816215,\n",
       "  'balanced_accuracy': 0.4098077145001929,\n",
       "  'mcc': 0.5588929313717641},\n",
       " {'val_loss': 1.460901180166761,\n",
       "  'val_accuracy': 0.6704987320371936,\n",
       "  'precision': 0.6689875775750247,\n",
       "  'recall': 0.6704987320371936,\n",
       "  'f1-score': 0.6524284372621716,\n",
       "  'macro_f1-score': 0.37900491745628173,\n",
       "  'balanced_accuracy': 0.3934280338355916,\n",
       "  'mcc': 0.5617531232562444},\n",
       " {'val_loss': 1.4564465174697478,\n",
       "  'val_accuracy': 0.6584615384615385,\n",
       "  'precision': 0.659727451201559,\n",
       "  'recall': 0.6584615384615385,\n",
       "  'f1-score': 0.640583814060438,\n",
       "  'macro_f1-score': 0.3638857125716411,\n",
       "  'balanced_accuracy': 0.36532970834633816,\n",
       "  'mcc': 0.5453282301352209},\n",
       " {'val_loss': 1.4014757318156106,\n",
       "  'val_accuracy': 0.6684699915469146,\n",
       "  'precision': 0.6622446856103146,\n",
       "  'recall': 0.6684699915469146,\n",
       "  'f1-score': 0.6465440053657728,\n",
       "  'macro_f1-score': 0.3766364111413031,\n",
       "  'balanced_accuracy': 0.38029467635567243,\n",
       "  'mcc': 0.5554155661954739}]"
      ]
     },
     "execution_count": 10,
     "metadata": {},
     "output_type": "execute_result"
    }
   ],
   "source": [
    "all_fold_results"
   ]
  },
  {
   "cell_type": "code",
   "execution_count": null,
   "id": "0b8a0f7e-a38a-4688-8daa-e68bd09850f1",
   "metadata": {},
   "outputs": [],
   "source": []
  }
 ],
 "metadata": {
  "kernelspec": {
   "display_name": "Python 3 (ipykernel)",
   "language": "python",
   "name": "python3"
  },
  "language_info": {
   "codemirror_mode": {
    "name": "ipython",
    "version": 3
   },
   "file_extension": ".py",
   "mimetype": "text/x-python",
   "name": "python",
   "nbconvert_exporter": "python",
   "pygments_lexer": "ipython3",
   "version": "3.11.9"
  }
 },
 "nbformat": 4,
 "nbformat_minor": 5
}
