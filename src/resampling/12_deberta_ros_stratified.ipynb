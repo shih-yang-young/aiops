{
 "cells": [
  {
   "cell_type": "code",
   "execution_count": 1,
   "id": "2e76aa66-729a-4bf9-98b9-61d8114e9f3a",
   "metadata": {},
   "outputs": [
    {
     "data": {
      "text/html": [
       "<div>\n",
       "<style scoped>\n",
       "    .dataframe tbody tr th:only-of-type {\n",
       "        vertical-align: middle;\n",
       "    }\n",
       "\n",
       "    .dataframe tbody tr th {\n",
       "        vertical-align: top;\n",
       "    }\n",
       "\n",
       "    .dataframe thead th {\n",
       "        text-align: right;\n",
       "    }\n",
       "</style>\n",
       "<table border=\"1\" class=\"dataframe\">\n",
       "  <thead>\n",
       "    <tr style=\"text-align: right;\">\n",
       "      <th></th>\n",
       "      <th>Inbound Message</th>\n",
       "      <th>Label</th>\n",
       "    </tr>\n",
       "  </thead>\n",
       "  <tbody>\n",
       "    <tr>\n",
       "      <th>0</th>\n",
       "      <td>login issue verified user details employee man...</td>\n",
       "      <td>0</td>\n",
       "    </tr>\n",
       "    <tr>\n",
       "      <th>1</th>\n",
       "      <td>outlook hello team meetings skype meetings etc...</td>\n",
       "      <td>0</td>\n",
       "    </tr>\n",
       "    <tr>\n",
       "      <th>2</th>\n",
       "      <td>cant log vpn cannot log vpn best</td>\n",
       "      <td>0</td>\n",
       "    </tr>\n",
       "    <tr>\n",
       "      <th>3</th>\n",
       "      <td>unable access tool page unable access tool page</td>\n",
       "      <td>0</td>\n",
       "    </tr>\n",
       "    <tr>\n",
       "      <th>4</th>\n",
       "      <td>skype error skype error</td>\n",
       "      <td>0</td>\n",
       "    </tr>\n",
       "    <tr>\n",
       "      <th>...</th>\n",
       "      <td>...</td>\n",
       "      <td>...</td>\n",
       "    </tr>\n",
       "    <tr>\n",
       "      <th>8449</th>\n",
       "      <td>emails coming mail good afternoon receiving em...</td>\n",
       "      <td>22</td>\n",
       "    </tr>\n",
       "    <tr>\n",
       "      <th>8450</th>\n",
       "      <td>telephony software issue telephony software issue</td>\n",
       "      <td>0</td>\n",
       "    </tr>\n",
       "    <tr>\n",
       "      <th>8451</th>\n",
       "      <td>vip windows password reset tifpdchb pedxruyf v...</td>\n",
       "      <td>0</td>\n",
       "    </tr>\n",
       "    <tr>\n",
       "      <th>8452</th>\n",
       "      <td>machine est funcionando unable access machine ...</td>\n",
       "      <td>44</td>\n",
       "    </tr>\n",
       "    <tr>\n",
       "      <th>8453</th>\n",
       "      <td>mehreren lassen sich verschiedene prgramdntyme...</td>\n",
       "      <td>49</td>\n",
       "    </tr>\n",
       "  </tbody>\n",
       "</table>\n",
       "<p>8454 rows × 2 columns</p>\n",
       "</div>"
      ],
      "text/plain": [
       "                                        Inbound Message  Label\n",
       "0     login issue verified user details employee man...      0\n",
       "1     outlook hello team meetings skype meetings etc...      0\n",
       "2                      cant log vpn cannot log vpn best      0\n",
       "3       unable access tool page unable access tool page      0\n",
       "4                               skype error skype error      0\n",
       "...                                                 ...    ...\n",
       "8449  emails coming mail good afternoon receiving em...     22\n",
       "8450  telephony software issue telephony software issue      0\n",
       "8451  vip windows password reset tifpdchb pedxruyf v...      0\n",
       "8452  machine est funcionando unable access machine ...     44\n",
       "8453  mehreren lassen sich verschiedene prgramdntyme...     49\n",
       "\n",
       "[8454 rows x 2 columns]"
      ]
     },
     "execution_count": 1,
     "metadata": {},
     "output_type": "execute_result"
    }
   ],
   "source": [
    "import pandas as pd\n",
    "data_path = \"../../data/open_source_8454_combine_short_description.csv\"  # 替換為你的檔案路徑\n",
    "df = pd.read_csv(data_path)\n",
    "# df_label_0 = df[df[\"Label\"] == 0]\n",
    "# df_label_0_to_drop = df_label_0.sample(n=3000, random_state=42)\n",
    "# df = df.drop(df_label_0_to_drop.index)\n",
    "df"
   ]
  },
  {
   "cell_type": "markdown",
   "id": "e79be804-d1e3-463a-824f-d4765544e493",
   "metadata": {},
   "source": [
    "# 十折驗證法"
   ]
  },
  {
   "cell_type": "code",
   "execution_count": 2,
   "id": "7e6a5029-3898-4bab-8d6c-bfd1a3694153",
   "metadata": {},
   "outputs": [
    {
     "name": "stdout",
     "output_type": "stream",
     "text": [
      "Using device: cuda\n",
      "CUDA Available: True\n",
      "CUDA Device: NVIDIA GeForce RTX 3050 6GB Laptop GPU\n",
      "Current GPU Memory Allocated: 0.0 GB\n",
      "Current GPU Memory Cached: 0.0 GB\n"
     ]
    }
   ],
   "source": [
    "import torch\n",
    "device = torch.device('cuda') if torch.cuda.is_available() else torch.device('cpu')\n",
    "print(f\"Using device: {device}\") \n",
    "print(f\"CUDA Available: {torch.cuda.is_available()}\")\n",
    "print(f\"CUDA Device: {torch.cuda.get_device_name(0)}\")\n",
    "print(f\"Current GPU Memory Allocated: {torch.cuda.memory_allocated() / 1e9} GB\")\n",
    "print(f\"Current GPU Memory Cached: {torch.cuda.memory_reserved() / 1e9} GB\")"
   ]
  },
  {
   "cell_type": "code",
   "execution_count": 3,
   "id": "833a0227-7775-4659-a98c-48c3fbdc9db9",
   "metadata": {},
   "outputs": [],
   "source": [
    "from torch.utils.data import Dataset\n",
    "class CustomDataset(Dataset):\n",
    "    def __init__(self, messages, labels, tokenizer, max_length):\n",
    "        self.messages = messages\n",
    "        self.labels = labels\n",
    "        self.tokenizer = tokenizer\n",
    "        self.max_length = max_length\n",
    "\n",
    "    def __len__(self):\n",
    "        return len(self.messages)\n",
    "\n",
    "    def __getitem__(self, idx):\n",
    "        message = str(self.messages[idx])\n",
    "        label = self.labels[idx]\n",
    "        \n",
    "        encoding = self.tokenizer.encode_plus(\n",
    "            message,\n",
    "            max_length=self.max_length,\n",
    "            add_special_tokens=True,\n",
    "            padding='max_length',\n",
    "            truncation=True,\n",
    "            return_attention_mask=True,\n",
    "            return_tensors='pt'\n",
    "        )\n",
    "        \n",
    "        return {\n",
    "            'input_ids': encoding['input_ids'].flatten(),\n",
    "            'attention_mask': encoding['attention_mask'].flatten(),\n",
    "            'labels': torch.tensor(label, dtype=torch.long)\n",
    "        }"
   ]
  },
  {
   "cell_type": "code",
   "execution_count": 4,
   "id": "985bf187-a1b5-4882-9e52-2cbc0188e8a6",
   "metadata": {},
   "outputs": [],
   "source": [
    "# 定義訓練與評估函數\n",
    "def train_epoch(model, dataloader, optimizer, criterion):\n",
    "    model.train()\n",
    "    total_loss = 0\n",
    "\n",
    "    for batch in tqdm(dataloader):\n",
    "        optimizer.zero_grad()\n",
    "\n",
    "        input_ids = batch['input_ids'].to(device)\n",
    "        attention_mask = batch['attention_mask'].to(device)\n",
    "        labels = batch['labels'].to(device)\n",
    "\n",
    "        outputs = model(input_ids=input_ids, attention_mask=attention_mask, labels=labels)\n",
    "        loss = outputs.loss\n",
    "        total_loss += loss.item()\n",
    "\n",
    "        loss.backward()\n",
    "        optimizer.step()\n",
    "    \n",
    "    return total_loss / len(dataloader)"
   ]
  },
  {
   "cell_type": "code",
   "execution_count": 5,
   "id": "7dceb8a1-edf1-42fe-ac48-dc84ed4709cf",
   "metadata": {},
   "outputs": [],
   "source": [
    "from sklearn.metrics import precision_score, recall_score, f1_score, balanced_accuracy_score, matthews_corrcoef\n",
    "from sklearn.preprocessing import label_binarize\n",
    "import numpy as np\n",
    "import torch\n",
    "\n",
    "def eval_model(model, dataloader, criterion, num_labels):\n",
    "    model.eval()\n",
    "    total_loss = 0\n",
    "    all_labels = []\n",
    "    all_preds = []\n",
    "    all_probs = []\n",
    "    \n",
    "    with torch.no_grad():\n",
    "        for batch in dataloader:\n",
    "            input_ids = batch['input_ids'].to(device)\n",
    "            attention_mask = batch['attention_mask'].to(device)\n",
    "            labels = batch['labels'].to(device)\n",
    "\n",
    "            outputs = model(input_ids=input_ids, attention_mask=attention_mask)\n",
    "            logits = outputs.logits\n",
    "            loss = criterion(logits, labels)\n",
    "            total_loss += loss.item()\n",
    "\n",
    "            probs = torch.softmax(logits, dim=1)\n",
    "            _, preds = torch.max(logits, dim=1)\n",
    "\n",
    "            all_labels.extend(labels.cpu().numpy())\n",
    "            all_preds.extend(preds.cpu().numpy())\n",
    "            all_probs.extend(probs.cpu().numpy())\n",
    "\n",
    "    val_loss = total_loss / len(dataloader)\n",
    "    val_accuracy = np.mean(np.array(all_preds) == np.array(all_labels))\n",
    "    precision = precision_score(all_labels, all_preds, average='weighted', zero_division=0)\n",
    "    recall = recall_score(all_labels, all_preds, average='weighted', zero_division=0)\n",
    "    f1 = f1_score(all_labels, all_preds, average='weighted', zero_division=0)\n",
    "    macro_f1 = f1_score(all_labels, all_preds, average='macro', zero_division=0)\n",
    "    balanced_acc = balanced_accuracy_score(all_labels, all_preds)\n",
    "    mcc = matthews_corrcoef(all_labels, all_preds)\n",
    "\n",
    "    return {\n",
    "        \"val_loss\": val_loss,\n",
    "        \"val_accuracy\": val_accuracy,\n",
    "        \"precision\": precision,\n",
    "        \"recall\": recall,\n",
    "        \"f1-score\": f1,\n",
    "        \"macro_f1-score\": macro_f1,\n",
    "        \"balanced_accuracy\": balanced_acc,\n",
    "        \"mcc\": mcc\n",
    "    }"
   ]
  },
  {
   "cell_type": "code",
   "execution_count": 6,
   "id": "0217a72c-db4d-4875-8a00-33f2dae9de5e",
   "metadata": {},
   "outputs": [],
   "source": [
    "from transformers import DebertaTokenizer, DebertaForSequenceClassification\n",
    "from sklearn.model_selection import StratifiedKFold\n",
    "# 設定參數\n",
    "MAX_LENGTH = 128\n",
    "BATCH_SIZE = 16\n",
    "EPOCHS = 20\n",
    "\n",
    "# 初始化 BERT 的 tokenizer\n",
    "tokenizer = DebertaTokenizer.from_pretrained('microsoft/deberta-base')\n",
    "\n",
    "# 初始化數據\n",
    "messages = df['Inbound Message'].tolist()\n",
    "labels = df['Label'].tolist()\n",
    "\n",
    "# KFold 初始化\n",
    "skf = StratifiedKFold(n_splits=10, shuffle=True, random_state=42)"
   ]
  },
  {
   "cell_type": "code",
   "execution_count": 7,
   "id": "ee99c1b8-2fc7-483a-8cb6-d375039c6cb1",
   "metadata": {
    "scrolled": true
   },
   "outputs": [
    {
     "name": "stderr",
     "output_type": "stream",
     "text": [
      "D:\\Anaconda3\\envs\\cuda\\Lib\\site-packages\\sklearn\\model_selection\\_split.py:737: UserWarning: The least populated class in y has only 7 members, which is less than n_splits=10.\n",
      "  warnings.warn(\n"
     ]
    },
    {
     "name": "stdout",
     "output_type": "stream",
     "text": [
      "Fold 1\n",
      "Training set label distribution: {0: 3576, 1: 28, 2: 126, 3: 27, 4: 231, 5: 130, 6: 107, 7: 35, 8: 76, 9: 73, 10: 79, 11: 194, 12: 217, 13: 32, 14: 26, 15: 28, 16: 23, 17: 260, 18: 104, 19: 51, 20: 16, 21: 39, 22: 88, 23: 180, 24: 18, 25: 56, 26: 97, 27: 55, 28: 13, 29: 15, 30: 17, 31: 90, 32: 40, 33: 36, 34: 34, 35: 13, 36: 32, 37: 24, 38: 7, 39: 116, 40: 13, 41: 9, 42: 166, 43: 18, 44: 22, 45: 10, 46: 61, 47: 595, 48: 227, 49: 78}\n",
      "Validation set label distribution: {0: 398, 1: 3, 2: 14, 3: 3, 4: 26, 5: 15, 6: 11, 7: 4, 8: 9, 9: 8, 10: 9, 11: 21, 12: 24, 13: 4, 14: 3, 15: 3, 16: 2, 17: 29, 18: 12, 19: 5, 20: 2, 21: 5, 22: 9, 23: 20, 24: 2, 25: 7, 26: 10, 27: 6, 28: 2, 29: 1, 30: 2, 31: 10, 32: 5, 33: 4, 34: 3, 35: 2, 36: 3, 37: 3, 39: 13, 40: 1, 41: 2, 42: 18, 43: 2, 44: 3, 45: 1, 46: 7, 47: 66, 48: 25, 49: 9}\n",
      "avg_label_size: 152\n"
     ]
    },
    {
     "name": "stderr",
     "output_type": "stream",
     "text": [
      "Some weights of DebertaForSequenceClassification were not initialized from the model checkpoint at microsoft/deberta-base and are newly initialized: ['classifier.bias', 'classifier.weight', 'pooler.dense.bias', 'pooler.dense.weight']\n",
      "You should probably TRAIN this model on a down-stream task to be able to use it for predictions and inference.\n"
     ]
    },
    {
     "name": "stdout",
     "output_type": "stream",
     "text": [
      "Epoch 1/20\n"
     ]
    },
    {
     "name": "stderr",
     "output_type": "stream",
     "text": [
      "100%|██████████| 743/743 [07:20<00:00,  1.69it/s]\n"
     ]
    },
    {
     "name": "stdout",
     "output_type": "stream",
     "text": [
      "{'val_loss': 1.4672687660973027, 'val_accuracy': 0.6134751773049646, 'precision': 0.558842743514526, 'recall': 0.6134751773049646, 'f1-score': 0.5449059806000187, 'macro_f1-score': 0.251724332264726, 'balanced_accuracy': 0.282115198212221, 'mcc': 0.45335584756890107}\n",
      "Epoch 2/20\n"
     ]
    },
    {
     "name": "stderr",
     "output_type": "stream",
     "text": [
      "100%|██████████| 743/743 [07:21<00:00,  1.68it/s]\n",
      "D:\\Anaconda3\\envs\\cuda\\Lib\\site-packages\\sklearn\\metrics\\_classification.py:2458: UserWarning: y_pred contains classes not in y_true\n",
      "  warnings.warn(\"y_pred contains classes not in y_true\")\n"
     ]
    },
    {
     "name": "stdout",
     "output_type": "stream",
     "text": [
      "{'val_loss': 1.4326210786711495, 'val_accuracy': 0.6288416075650118, 'precision': 0.6770327905930581, 'recall': 0.6288416075650118, 'f1-score': 0.6272805262535579, 'macro_f1-score': 0.3689410582449272, 'balanced_accuracy': 0.4237216335751057, 'mcc': 0.5270277300843637}\n",
      "Epoch 3/20\n"
     ]
    },
    {
     "name": "stderr",
     "output_type": "stream",
     "text": [
      "100%|██████████| 743/743 [07:21<00:00,  1.68it/s]\n"
     ]
    },
    {
     "name": "stdout",
     "output_type": "stream",
     "text": [
      "{'val_loss': 1.4502064934316672, 'val_accuracy': 0.6737588652482269, 'precision': 0.6746433259171222, 'recall': 0.6737588652482269, 'f1-score': 0.6511407972459297, 'macro_f1-score': 0.4098267407114755, 'balanced_accuracy': 0.3994285609408727, 'mcc': 0.5583857121973658}\n",
      "Epoch 4/20\n"
     ]
    },
    {
     "name": "stderr",
     "output_type": "stream",
     "text": [
      "100%|██████████| 743/743 [07:21<00:00,  1.68it/s]\n"
     ]
    },
    {
     "name": "stdout",
     "output_type": "stream",
     "text": [
      "{'val_loss': 1.5775335515445132, 'val_accuracy': 0.6382978723404256, 'precision': 0.6784050236343924, 'recall': 0.6382978723404256, 'f1-score': 0.6437013557996123, 'macro_f1-score': 0.40631747735664464, 'balanced_accuracy': 0.43359823568958616, 'mcc': 0.5379042421410923}\n",
      "Epoch 5/20\n"
     ]
    },
    {
     "name": "stderr",
     "output_type": "stream",
     "text": [
      "100%|██████████| 743/743 [07:21<00:00,  1.68it/s]\n"
     ]
    },
    {
     "name": "stdout",
     "output_type": "stream",
     "text": [
      "{'val_loss': 1.617673395939593, 'val_accuracy': 0.6784869976359338, 'precision': 0.6590755409018864, 'recall': 0.6784869976359338, 'f1-score': 0.6487176232674394, 'macro_f1-score': 0.40606208460171156, 'balanced_accuracy': 0.3805554904166541, 'mcc': 0.5598805668834452}\n",
      "Epoch 6/20\n"
     ]
    },
    {
     "name": "stderr",
     "output_type": "stream",
     "text": [
      "100%|██████████| 743/743 [07:21<00:00,  1.68it/s]\n",
      "D:\\Anaconda3\\envs\\cuda\\Lib\\site-packages\\sklearn\\metrics\\_classification.py:2458: UserWarning: y_pred contains classes not in y_true\n",
      "  warnings.warn(\"y_pred contains classes not in y_true\")\n"
     ]
    },
    {
     "name": "stdout",
     "output_type": "stream",
     "text": [
      "{'val_loss': 1.716750883831168, 'val_accuracy': 0.6725768321513003, 'precision': 0.6740833611781302, 'recall': 0.6725768321513003, 'f1-score': 0.6573321498847221, 'macro_f1-score': 0.4091446493463178, 'balanced_accuracy': 0.4292534502767405, 'mcc': 0.5668240627211122}\n",
      "Early stopping triggered at epoch 6\n",
      "Fold 2\n",
      "Training set label distribution: {0: 3576, 1: 28, 2: 126, 3: 27, 4: 231, 5: 131, 6: 106, 7: 35, 8: 76, 9: 73, 10: 79, 11: 194, 12: 217, 13: 32, 14: 26, 15: 28, 16: 23, 17: 260, 18: 104, 19: 51, 20: 16, 21: 39, 22: 88, 23: 180, 24: 18, 25: 56, 26: 97, 27: 55, 28: 13, 29: 15, 30: 17, 31: 90, 32: 40, 33: 36, 34: 34, 35: 13, 36: 32, 37: 24, 38: 6, 39: 116, 40: 13, 41: 10, 42: 166, 43: 18, 44: 22, 45: 10, 46: 61, 47: 595, 48: 227, 49: 78}\n",
      "Validation set label distribution: {0: 398, 1: 3, 2: 14, 3: 3, 4: 26, 5: 14, 6: 12, 7: 4, 8: 9, 9: 8, 10: 9, 11: 21, 12: 24, 13: 4, 14: 3, 15: 3, 16: 2, 17: 29, 18: 12, 19: 5, 20: 2, 21: 5, 22: 9, 23: 20, 24: 2, 25: 7, 26: 10, 27: 6, 28: 2, 29: 1, 30: 2, 31: 10, 32: 5, 33: 4, 34: 3, 35: 2, 36: 3, 37: 3, 38: 1, 39: 13, 40: 1, 41: 1, 42: 18, 43: 2, 44: 3, 45: 1, 46: 7, 47: 66, 48: 25, 49: 9}\n",
      "avg_label_size: 152\n"
     ]
    },
    {
     "name": "stderr",
     "output_type": "stream",
     "text": [
      "Some weights of DebertaForSequenceClassification were not initialized from the model checkpoint at microsoft/deberta-base and are newly initialized: ['classifier.bias', 'classifier.weight', 'pooler.dense.bias', 'pooler.dense.weight']\n",
      "You should probably TRAIN this model on a down-stream task to be able to use it for predictions and inference.\n"
     ]
    },
    {
     "name": "stdout",
     "output_type": "stream",
     "text": [
      "Epoch 1/20\n"
     ]
    },
    {
     "name": "stderr",
     "output_type": "stream",
     "text": [
      "100%|██████████| 743/743 [07:22<00:00,  1.68it/s]\n"
     ]
    },
    {
     "name": "stdout",
     "output_type": "stream",
     "text": [
      "{'val_loss': 1.3099417618985445, 'val_accuracy': 0.6300236406619385, 'precision': 0.6197345410037982, 'recall': 0.6300236406619385, 'f1-score': 0.5893560350491331, 'macro_f1-score': 0.32466375877450154, 'balanced_accuracy': 0.3590889666986011, 'mcc': 0.49812428629605404}\n",
      "Epoch 2/20\n"
     ]
    },
    {
     "name": "stderr",
     "output_type": "stream",
     "text": [
      "100%|██████████| 743/743 [07:22<00:00,  1.68it/s]\n"
     ]
    },
    {
     "name": "stdout",
     "output_type": "stream",
     "text": [
      "{'val_loss': 1.3044195647509593, 'val_accuracy': 0.648936170212766, 'precision': 0.6641744654438829, 'recall': 0.648936170212766, 'f1-score': 0.6312103995559799, 'macro_f1-score': 0.3569979263111987, 'balanced_accuracy': 0.37370483460589166, 'mcc': 0.53266040463945}\n",
      "Epoch 3/20\n"
     ]
    },
    {
     "name": "stderr",
     "output_type": "stream",
     "text": [
      "100%|██████████| 743/743 [07:22<00:00,  1.68it/s]\n"
     ]
    },
    {
     "name": "stdout",
     "output_type": "stream",
     "text": [
      "{'val_loss': 1.3545566021271471, 'val_accuracy': 0.6394799054373522, 'precision': 0.626753144495992, 'recall': 0.6394799054373522, 'f1-score': 0.6231290866136037, 'macro_f1-score': 0.3207365501155042, 'balanced_accuracy': 0.34708166719397004, 'mcc': 0.5219014469961728}\n",
      "Epoch 4/20\n"
     ]
    },
    {
     "name": "stderr",
     "output_type": "stream",
     "text": [
      "100%|██████████| 743/743 [07:22<00:00,  1.68it/s]\n"
     ]
    },
    {
     "name": "stdout",
     "output_type": "stream",
     "text": [
      "{'val_loss': 1.4736228635850943, 'val_accuracy': 0.6607565011820331, 'precision': 0.6570542423028697, 'recall': 0.6607565011820331, 'f1-score': 0.6436662098519951, 'macro_f1-score': 0.34484044898432586, 'balanced_accuracy': 0.34304462477586717, 'mcc': 0.5495514543467371}\n",
      "Epoch 5/20\n"
     ]
    },
    {
     "name": "stderr",
     "output_type": "stream",
     "text": [
      "100%|██████████| 743/743 [07:22<00:00,  1.68it/s]\n"
     ]
    },
    {
     "name": "stdout",
     "output_type": "stream",
     "text": [
      "{'val_loss': 1.515274485889471, 'val_accuracy': 0.6583924349881797, 'precision': 0.6526247212933849, 'recall': 0.6583924349881797, 'f1-score': 0.6381378684465288, 'macro_f1-score': 0.33475619890632347, 'balanced_accuracy': 0.34977789337292015, 'mcc': 0.5441938468769328}\n",
      "Early stopping triggered at epoch 5\n",
      "Fold 3\n",
      "Training set label distribution: {0: 3576, 1: 28, 2: 126, 3: 27, 4: 231, 5: 131, 6: 106, 7: 35, 8: 76, 9: 73, 10: 80, 11: 193, 12: 217, 13: 32, 14: 26, 15: 28, 16: 23, 17: 260, 18: 104, 19: 51, 20: 16, 21: 40, 22: 87, 23: 180, 24: 18, 25: 57, 26: 96, 27: 55, 28: 14, 29: 14, 30: 17, 31: 90, 32: 41, 33: 36, 34: 33, 35: 13, 36: 32, 37: 24, 38: 6, 39: 116, 40: 13, 41: 10, 42: 166, 43: 18, 44: 22, 45: 10, 46: 61, 47: 595, 48: 227, 49: 78}\n",
      "Validation set label distribution: {0: 398, 1: 3, 2: 14, 3: 3, 4: 26, 5: 14, 6: 12, 7: 4, 8: 9, 9: 8, 10: 8, 11: 22, 12: 24, 13: 4, 14: 3, 15: 3, 16: 2, 17: 29, 18: 12, 19: 5, 20: 2, 21: 4, 22: 10, 23: 20, 24: 2, 25: 6, 26: 11, 27: 6, 28: 1, 29: 2, 30: 2, 31: 10, 32: 4, 33: 4, 34: 4, 35: 2, 36: 3, 37: 3, 38: 1, 39: 13, 40: 1, 41: 1, 42: 18, 43: 2, 44: 3, 45: 1, 46: 7, 47: 66, 48: 25, 49: 9}\n",
      "avg_label_size: 152\n"
     ]
    },
    {
     "name": "stderr",
     "output_type": "stream",
     "text": [
      "Some weights of DebertaForSequenceClassification were not initialized from the model checkpoint at microsoft/deberta-base and are newly initialized: ['classifier.bias', 'classifier.weight', 'pooler.dense.bias', 'pooler.dense.weight']\n",
      "You should probably TRAIN this model on a down-stream task to be able to use it for predictions and inference.\n"
     ]
    },
    {
     "name": "stdout",
     "output_type": "stream",
     "text": [
      "Epoch 1/20\n"
     ]
    },
    {
     "name": "stderr",
     "output_type": "stream",
     "text": [
      "100%|██████████| 743/743 [07:21<00:00,  1.68it/s]\n"
     ]
    },
    {
     "name": "stdout",
     "output_type": "stream",
     "text": [
      "{'val_loss': 1.4118325468504205, 'val_accuracy': 0.607565011820331, 'precision': 0.6405447612539812, 'recall': 0.607565011820331, 'f1-score': 0.5973155728884779, 'macro_f1-score': 0.31385176540944154, 'balanced_accuracy': 0.37634612663949, 'mcc': 0.4881712252945972}\n",
      "Epoch 2/20\n"
     ]
    },
    {
     "name": "stderr",
     "output_type": "stream",
     "text": [
      "100%|██████████| 743/743 [07:21<00:00,  1.68it/s]\n"
     ]
    },
    {
     "name": "stdout",
     "output_type": "stream",
     "text": [
      "{'val_loss': 1.291137012670625, 'val_accuracy': 0.640661938534279, 'precision': 0.6740522733436951, 'recall': 0.640661938534279, 'f1-score': 0.6390286524845878, 'macro_f1-score': 0.3743435526971038, 'balanced_accuracy': 0.4205110647414927, 'mcc': 0.5300022016333666}\n",
      "Epoch 3/20\n"
     ]
    },
    {
     "name": "stderr",
     "output_type": "stream",
     "text": [
      "100%|██████████| 743/743 [07:21<00:00,  1.68it/s]\n"
     ]
    },
    {
     "name": "stdout",
     "output_type": "stream",
     "text": [
      "{'val_loss': 1.2614974407654889, 'val_accuracy': 0.6690307328605201, 'precision': 0.6915823392439034, 'recall': 0.6690307328605201, 'f1-score': 0.6649672820587061, 'macro_f1-score': 0.4069795959646843, 'balanced_accuracy': 0.45561483460993074, 'mcc': 0.5699812915642997}\n",
      "Epoch 4/20\n"
     ]
    },
    {
     "name": "stderr",
     "output_type": "stream",
     "text": [
      "100%|██████████| 743/743 [07:21<00:00,  1.68it/s]\n"
     ]
    },
    {
     "name": "stdout",
     "output_type": "stream",
     "text": [
      "{'val_loss': 1.3964089481335766, 'val_accuracy': 0.6702127659574468, 'precision': 0.6673297208268048, 'recall': 0.6702127659574468, 'f1-score': 0.6593688606987121, 'macro_f1-score': 0.3985781051761623, 'balanced_accuracy': 0.3983158745988411, 'mcc': 0.5647367352775687}\n",
      "Epoch 5/20\n"
     ]
    },
    {
     "name": "stderr",
     "output_type": "stream",
     "text": [
      "100%|██████████| 743/743 [07:21<00:00,  1.68it/s]\n"
     ]
    },
    {
     "name": "stdout",
     "output_type": "stream",
     "text": [
      "{'val_loss': 1.4965597548574772, 'val_accuracy': 0.6702127659574468, 'precision': 0.6800464589992545, 'recall': 0.6702127659574468, 'f1-score': 0.6602972141844158, 'macro_f1-score': 0.39585336834498414, 'balanced_accuracy': 0.4210987473067182, 'mcc': 0.5619275348669889}\n",
      "Epoch 6/20\n"
     ]
    },
    {
     "name": "stderr",
     "output_type": "stream",
     "text": [
      "100%|██████████| 743/743 [07:21<00:00,  1.68it/s]\n"
     ]
    },
    {
     "name": "stdout",
     "output_type": "stream",
     "text": [
      "{'val_loss': 1.581575408859073, 'val_accuracy': 0.6666666666666666, 'precision': 0.6851650394711574, 'recall': 0.6666666666666666, 'f1-score': 0.6673937181545248, 'macro_f1-score': 0.39936895183965904, 'balanced_accuracy': 0.42756388535125317, 'mcc': 0.5697657184920247}\n",
      "Early stopping triggered at epoch 6\n",
      "Fold 4\n",
      "Training set label distribution: {0: 3576, 1: 28, 2: 126, 3: 27, 4: 231, 5: 131, 6: 106, 7: 35, 8: 77, 9: 72, 10: 80, 11: 193, 12: 217, 13: 32, 14: 27, 15: 27, 16: 23, 17: 260, 18: 104, 19: 51, 20: 16, 21: 40, 22: 87, 23: 180, 24: 18, 25: 57, 26: 96, 27: 55, 28: 14, 29: 14, 30: 17, 31: 90, 32: 41, 33: 36, 34: 33, 35: 13, 36: 32, 37: 24, 38: 6, 39: 116, 40: 13, 41: 10, 42: 166, 43: 18, 44: 23, 45: 9, 46: 61, 47: 595, 48: 227, 49: 78}\n",
      "Validation set label distribution: {0: 398, 1: 3, 2: 14, 3: 3, 4: 26, 5: 14, 6: 12, 7: 4, 8: 8, 9: 9, 10: 8, 11: 22, 12: 24, 13: 4, 14: 2, 15: 4, 16: 2, 17: 29, 18: 12, 19: 5, 20: 2, 21: 4, 22: 10, 23: 20, 24: 2, 25: 6, 26: 11, 27: 6, 28: 1, 29: 2, 30: 2, 31: 10, 32: 4, 33: 4, 34: 4, 35: 2, 36: 3, 37: 3, 38: 1, 39: 13, 40: 1, 41: 1, 42: 18, 43: 2, 44: 2, 45: 2, 46: 7, 47: 66, 48: 25, 49: 9}\n",
      "avg_label_size: 152\n"
     ]
    },
    {
     "name": "stderr",
     "output_type": "stream",
     "text": [
      "Some weights of DebertaForSequenceClassification were not initialized from the model checkpoint at microsoft/deberta-base and are newly initialized: ['classifier.bias', 'classifier.weight', 'pooler.dense.bias', 'pooler.dense.weight']\n",
      "You should probably TRAIN this model on a down-stream task to be able to use it for predictions and inference.\n"
     ]
    },
    {
     "name": "stdout",
     "output_type": "stream",
     "text": [
      "Epoch 1/20\n"
     ]
    },
    {
     "name": "stderr",
     "output_type": "stream",
     "text": [
      "100%|██████████| 743/743 [07:22<00:00,  1.68it/s]\n"
     ]
    },
    {
     "name": "stdout",
     "output_type": "stream",
     "text": [
      "{'val_loss': 1.4588468873275902, 'val_accuracy': 0.6146572104018913, 'precision': 0.5394258859157616, 'recall': 0.6146572104018913, 'f1-score': 0.5556572768191416, 'macro_f1-score': 0.27033765342906046, 'balanced_accuracy': 0.3266288055789876, 'mcc': 0.46965465108285226}\n",
      "Epoch 2/20\n"
     ]
    },
    {
     "name": "stderr",
     "output_type": "stream",
     "text": [
      "100%|██████████| 743/743 [07:22<00:00,  1.68it/s]\n"
     ]
    },
    {
     "name": "stdout",
     "output_type": "stream",
     "text": [
      "{'val_loss': 1.402013286104742, 'val_accuracy': 0.6229314420803782, 'precision': 0.6545262737678103, 'recall': 0.6229314420803782, 'f1-score': 0.6140092509283883, 'macro_f1-score': 0.37848823844221996, 'balanced_accuracy': 0.43555205687475657, 'mcc': 0.5059413706934949}\n",
      "Epoch 3/20\n"
     ]
    },
    {
     "name": "stderr",
     "output_type": "stream",
     "text": [
      "100%|██████████| 743/743 [07:22<00:00,  1.68it/s]\n"
     ]
    },
    {
     "name": "stdout",
     "output_type": "stream",
     "text": [
      "{'val_loss': 1.418556346083587, 'val_accuracy': 0.648936170212766, 'precision': 0.6922005433151347, 'recall': 0.648936170212766, 'f1-score': 0.6468641397622711, 'macro_f1-score': 0.40592481582008916, 'balanced_accuracy': 0.4558259381908836, 'mcc': 0.5436351638201986}\n",
      "Epoch 4/20\n"
     ]
    },
    {
     "name": "stderr",
     "output_type": "stream",
     "text": [
      "100%|██████████| 743/743 [07:22<00:00,  1.68it/s]\n"
     ]
    },
    {
     "name": "stdout",
     "output_type": "stream",
     "text": [
      "{'val_loss': 2.6692620155946263, 'val_accuracy': 0.47044917257683216, 'precision': 0.221322423978226, 'recall': 0.47044917257683216, 'f1-score': 0.3010269625170084, 'macro_f1-score': 0.01279742765273312, 'balanced_accuracy': 0.02, 'mcc': 0.0}\n",
      "Epoch 5/20\n"
     ]
    },
    {
     "name": "stderr",
     "output_type": "stream",
     "text": [
      "100%|██████████| 743/743 [07:22<00:00,  1.68it/s]\n"
     ]
    },
    {
     "name": "stdout",
     "output_type": "stream",
     "text": [
      "{'val_loss': 2.672943279428302, 'val_accuracy': 0.47044917257683216, 'precision': 0.221322423978226, 'recall': 0.47044917257683216, 'f1-score': 0.3010269625170084, 'macro_f1-score': 0.01279742765273312, 'balanced_accuracy': 0.02, 'mcc': 0.0}\n",
      "Epoch 6/20\n"
     ]
    },
    {
     "name": "stderr",
     "output_type": "stream",
     "text": [
      "100%|██████████| 743/743 [07:22<00:00,  1.68it/s]\n"
     ]
    },
    {
     "name": "stdout",
     "output_type": "stream",
     "text": [
      "{'val_loss': 2.6715897096777863, 'val_accuracy': 0.47044917257683216, 'precision': 0.221322423978226, 'recall': 0.47044917257683216, 'f1-score': 0.3010269625170084, 'macro_f1-score': 0.01279742765273312, 'balanced_accuracy': 0.02, 'mcc': 0.0}\n",
      "Early stopping triggered at epoch 6\n",
      "Fold 5\n",
      "Training set label distribution: {0: 3577, 1: 27, 2: 126, 3: 27, 4: 231, 5: 131, 6: 106, 7: 35, 8: 77, 9: 73, 10: 79, 11: 193, 12: 217, 13: 33, 14: 26, 15: 28, 16: 22, 17: 260, 18: 105, 19: 50, 20: 16, 21: 40, 22: 87, 23: 180, 24: 18, 25: 57, 26: 96, 27: 55, 28: 14, 29: 14, 30: 17, 31: 90, 32: 41, 33: 36, 34: 33, 35: 14, 36: 31, 37: 24, 38: 6, 39: 117, 40: 13, 41: 10, 42: 165, 43: 18, 44: 23, 45: 10, 46: 61, 47: 595, 48: 227, 49: 78}\n",
      "Validation set label distribution: {0: 397, 1: 4, 2: 14, 3: 3, 4: 26, 5: 14, 6: 12, 7: 4, 8: 8, 9: 8, 10: 9, 11: 22, 12: 24, 13: 3, 14: 3, 15: 3, 16: 3, 17: 29, 18: 11, 19: 6, 20: 2, 21: 4, 22: 10, 23: 20, 24: 2, 25: 6, 26: 11, 27: 6, 28: 1, 29: 2, 30: 2, 31: 10, 32: 4, 33: 4, 34: 4, 35: 1, 36: 4, 37: 3, 38: 1, 39: 12, 40: 1, 41: 1, 42: 19, 43: 2, 44: 2, 45: 1, 46: 7, 47: 66, 48: 25, 49: 9}\n",
      "avg_label_size: 152\n"
     ]
    },
    {
     "name": "stderr",
     "output_type": "stream",
     "text": [
      "Some weights of DebertaForSequenceClassification were not initialized from the model checkpoint at microsoft/deberta-base and are newly initialized: ['classifier.bias', 'classifier.weight', 'pooler.dense.bias', 'pooler.dense.weight']\n",
      "You should probably TRAIN this model on a down-stream task to be able to use it for predictions and inference.\n"
     ]
    },
    {
     "name": "stdout",
     "output_type": "stream",
     "text": [
      "Epoch 1/20\n"
     ]
    },
    {
     "name": "stderr",
     "output_type": "stream",
     "text": [
      "100%|██████████| 743/743 [07:22<00:00,  1.68it/s]\n"
     ]
    },
    {
     "name": "stdout",
     "output_type": "stream",
     "text": [
      "{'val_loss': 1.3714656155064422, 'val_accuracy': 0.6177514792899408, 'precision': 0.5910296547557707, 'recall': 0.6177514792899408, 'f1-score': 0.5756953984270907, 'macro_f1-score': 0.29119682952705245, 'balanced_accuracy': 0.3351982698977419, 'mcc': 0.47888742389013933}\n",
      "Epoch 2/20\n"
     ]
    },
    {
     "name": "stderr",
     "output_type": "stream",
     "text": [
      "100%|██████████| 743/743 [07:22<00:00,  1.68it/s]\n"
     ]
    },
    {
     "name": "stdout",
     "output_type": "stream",
     "text": [
      "{'val_loss': 1.2740802211019229, 'val_accuracy': 0.650887573964497, 'precision': 0.6606992170035851, 'recall': 0.650887573964497, 'f1-score': 0.6287908448187746, 'macro_f1-score': 0.34028043521883483, 'balanced_accuracy': 0.37289926392135153, 'mcc': 0.535919121869158}\n",
      "Epoch 3/20\n"
     ]
    },
    {
     "name": "stderr",
     "output_type": "stream",
     "text": [
      "100%|██████████| 743/743 [07:22<00:00,  1.68it/s]\n"
     ]
    },
    {
     "name": "stdout",
     "output_type": "stream",
     "text": [
      "{'val_loss': 1.3892455764536589, 'val_accuracy': 0.6662721893491125, 'precision': 0.6691633586067346, 'recall': 0.6662721893491125, 'f1-score': 0.6483930918949561, 'macro_f1-score': 0.36886736807325066, 'balanced_accuracy': 0.371237963055219, 'mcc': 0.5521952592961159}\n",
      "Epoch 4/20\n"
     ]
    },
    {
     "name": "stderr",
     "output_type": "stream",
     "text": [
      "100%|██████████| 743/743 [07:22<00:00,  1.68it/s]\n"
     ]
    },
    {
     "name": "stdout",
     "output_type": "stream",
     "text": [
      "{'val_loss': 1.5745372198662668, 'val_accuracy': 0.6331360946745562, 'precision': 0.6260525362679179, 'recall': 0.6331360946745562, 'f1-score': 0.6164700407313113, 'macro_f1-score': 0.3036751876274882, 'balanced_accuracy': 0.30964463107586715, 'mcc': 0.5116554616941895}\n",
      "Epoch 5/20\n"
     ]
    },
    {
     "name": "stderr",
     "output_type": "stream",
     "text": [
      "100%|██████████| 743/743 [07:22<00:00,  1.68it/s]\n"
     ]
    },
    {
     "name": "stdout",
     "output_type": "stream",
     "text": [
      "{'val_loss': 1.6874246608536199, 'val_accuracy': 0.6603550295857988, 'precision': 0.6591156990898487, 'recall': 0.6603550295857988, 'f1-score': 0.6374671853723369, 'macro_f1-score': 0.35893716384247265, 'balanced_accuracy': 0.3524589142564233, 'mcc': 0.5417750145353348}\n",
      "Epoch 6/20\n"
     ]
    },
    {
     "name": "stderr",
     "output_type": "stream",
     "text": [
      "100%|██████████| 743/743 [07:22<00:00,  1.68it/s]\n"
     ]
    },
    {
     "name": "stdout",
     "output_type": "stream",
     "text": [
      "{'val_loss': 1.780729813958114, 'val_accuracy': 0.663905325443787, 'precision': 0.6553367996486545, 'recall': 0.663905325443787, 'f1-score': 0.6354933670324396, 'macro_f1-score': 0.34609130806969013, 'balanced_accuracy': 0.3528706785757379, 'mcc': 0.5457271876827455}\n",
      "Early stopping triggered at epoch 6\n",
      "Fold 6\n",
      "Training set label distribution: {0: 3577, 1: 28, 2: 126, 3: 27, 4: 231, 5: 131, 6: 106, 7: 35, 8: 77, 9: 73, 10: 79, 11: 193, 12: 217, 13: 33, 14: 26, 15: 28, 16: 22, 17: 260, 18: 105, 19: 50, 20: 16, 21: 40, 22: 87, 23: 180, 24: 18, 25: 57, 26: 96, 27: 55, 28: 14, 29: 14, 30: 17, 31: 90, 32: 41, 33: 36, 34: 33, 35: 14, 36: 31, 37: 24, 38: 6, 39: 116, 40: 13, 41: 10, 42: 165, 43: 18, 44: 23, 45: 10, 46: 61, 47: 595, 48: 227, 49: 78}\n",
      "Validation set label distribution: {0: 397, 1: 3, 2: 14, 3: 3, 4: 26, 5: 14, 6: 12, 7: 4, 8: 8, 9: 8, 10: 9, 11: 22, 12: 24, 13: 3, 14: 3, 15: 3, 16: 3, 17: 29, 18: 11, 19: 6, 20: 2, 21: 4, 22: 10, 23: 20, 24: 2, 25: 6, 26: 11, 27: 6, 28: 1, 29: 2, 30: 2, 31: 10, 32: 4, 33: 4, 34: 4, 35: 1, 36: 4, 37: 3, 38: 1, 39: 13, 40: 1, 41: 1, 42: 19, 43: 2, 44: 2, 45: 1, 46: 7, 47: 66, 48: 25, 49: 9}\n",
      "avg_label_size: 152\n"
     ]
    },
    {
     "name": "stderr",
     "output_type": "stream",
     "text": [
      "Some weights of DebertaForSequenceClassification were not initialized from the model checkpoint at microsoft/deberta-base and are newly initialized: ['classifier.bias', 'classifier.weight', 'pooler.dense.bias', 'pooler.dense.weight']\n",
      "You should probably TRAIN this model on a down-stream task to be able to use it for predictions and inference.\n"
     ]
    },
    {
     "name": "stdout",
     "output_type": "stream",
     "text": [
      "Epoch 1/20\n"
     ]
    },
    {
     "name": "stderr",
     "output_type": "stream",
     "text": [
      "100%|██████████| 743/743 [07:22<00:00,  1.68it/s]\n"
     ]
    },
    {
     "name": "stdout",
     "output_type": "stream",
     "text": [
      "{'val_loss': 1.4791824300334138, 'val_accuracy': 0.5775147928994083, 'precision': 0.5453489448694208, 'recall': 0.5775147928994083, 'f1-score': 0.5430569642067998, 'macro_f1-score': 0.21296984634853472, 'balanced_accuracy': 0.2771303913145831, 'mcc': 0.43420145428737067}\n",
      "Epoch 2/20\n"
     ]
    },
    {
     "name": "stderr",
     "output_type": "stream",
     "text": [
      "100%|██████████| 743/743 [07:22<00:00,  1.68it/s]\n"
     ]
    },
    {
     "name": "stdout",
     "output_type": "stream",
     "text": [
      "{'val_loss': 1.3015940301823166, 'val_accuracy': 0.6568047337278107, 'precision': 0.6461119681079988, 'recall': 0.6568047337278107, 'f1-score': 0.6410022387381674, 'macro_f1-score': 0.366693362620836, 'balanced_accuracy': 0.4096231703239867, 'mcc': 0.5452724211505625}\n",
      "Epoch 3/20\n"
     ]
    },
    {
     "name": "stderr",
     "output_type": "stream",
     "text": [
      "100%|██████████| 743/743 [07:22<00:00,  1.68it/s]\n"
     ]
    },
    {
     "name": "stdout",
     "output_type": "stream",
     "text": [
      "{'val_loss': 1.3949105407831803, 'val_accuracy': 0.6366863905325444, 'precision': 0.6410545575973903, 'recall': 0.6366863905325444, 'f1-score': 0.6246178352025074, 'macro_f1-score': 0.3639999840344541, 'balanced_accuracy': 0.38732198632393605, 'mcc': 0.5282060502122382}\n",
      "Epoch 4/20\n"
     ]
    },
    {
     "name": "stderr",
     "output_type": "stream",
     "text": [
      "100%|██████████| 743/743 [07:22<00:00,  1.68it/s]\n"
     ]
    },
    {
     "name": "stdout",
     "output_type": "stream",
     "text": [
      "{'val_loss': 1.5103411235899296, 'val_accuracy': 0.6402366863905326, 'precision': 0.6607158728442036, 'recall': 0.6402366863905326, 'f1-score': 0.6390717863012108, 'macro_f1-score': 0.3701259510934111, 'balanced_accuracy': 0.3905127461612624, 'mcc': 0.5323099757017863}\n",
      "Epoch 5/20\n"
     ]
    },
    {
     "name": "stderr",
     "output_type": "stream",
     "text": [
      "100%|██████████| 743/743 [07:22<00:00,  1.68it/s]\n"
     ]
    },
    {
     "name": "stdout",
     "output_type": "stream",
     "text": [
      "{'val_loss': 1.5827627182006836, 'val_accuracy': 0.659171597633136, 'precision': 0.6356889773305809, 'recall': 0.659171597633136, 'f1-score': 0.6364385097289392, 'macro_f1-score': 0.35402865745390694, 'balanced_accuracy': 0.36328403996681324, 'mcc': 0.5416207637867203}\n",
      "Epoch 6/20\n"
     ]
    },
    {
     "name": "stderr",
     "output_type": "stream",
     "text": [
      "100%|██████████| 743/743 [07:22<00:00,  1.68it/s]\n"
     ]
    },
    {
     "name": "stdout",
     "output_type": "stream",
     "text": [
      "{'val_loss': 1.714961586133489, 'val_accuracy': 0.6532544378698225, 'precision': 0.6687746433008119, 'recall': 0.6532544378698225, 'f1-score': 0.6416945138329043, 'macro_f1-score': 0.34977387898306184, 'balanced_accuracy': 0.3569928606039514, 'mcc': 0.5479964256855341}\n",
      "Epoch 7/20\n"
     ]
    },
    {
     "name": "stderr",
     "output_type": "stream",
     "text": [
      "100%|██████████| 743/743 [07:22<00:00,  1.68it/s]\n"
     ]
    },
    {
     "name": "stdout",
     "output_type": "stream",
     "text": [
      "{'val_loss': 1.6776819015448947, 'val_accuracy': 0.6437869822485207, 'precision': 0.6570386802261562, 'recall': 0.6437869822485207, 'f1-score': 0.636774932216464, 'macro_f1-score': 0.3371348123592869, 'balanced_accuracy': 0.36160326239889523, 'mcc': 0.5402388612154702}\n",
      "Early stopping triggered at epoch 7\n",
      "Fold 7\n",
      "Training set label distribution: {0: 3577, 1: 28, 2: 126, 3: 27, 4: 232, 5: 130, 6: 106, 7: 35, 8: 77, 9: 73, 10: 79, 11: 193, 12: 217, 13: 33, 14: 26, 15: 28, 16: 22, 17: 260, 18: 105, 19: 50, 20: 16, 21: 40, 22: 87, 23: 180, 24: 18, 25: 57, 26: 96, 27: 55, 28: 14, 29: 14, 30: 17, 31: 90, 32: 41, 33: 36, 34: 33, 35: 14, 36: 31, 37: 25, 38: 6, 39: 116, 40: 12, 41: 10, 42: 165, 43: 18, 44: 23, 45: 10, 46: 62, 47: 594, 48: 227, 49: 78}\n",
      "Validation set label distribution: {0: 397, 1: 3, 2: 14, 3: 3, 4: 25, 5: 15, 6: 12, 7: 4, 8: 8, 9: 8, 10: 9, 11: 22, 12: 24, 13: 3, 14: 3, 15: 3, 16: 3, 17: 29, 18: 11, 19: 6, 20: 2, 21: 4, 22: 10, 23: 20, 24: 2, 25: 6, 26: 11, 27: 6, 28: 1, 29: 2, 30: 2, 31: 10, 32: 4, 33: 4, 34: 4, 35: 1, 36: 4, 37: 2, 38: 1, 39: 13, 40: 2, 41: 1, 42: 19, 43: 2, 44: 2, 45: 1, 46: 6, 47: 67, 48: 25, 49: 9}\n",
      "avg_label_size: 152\n"
     ]
    },
    {
     "name": "stderr",
     "output_type": "stream",
     "text": [
      "Some weights of DebertaForSequenceClassification were not initialized from the model checkpoint at microsoft/deberta-base and are newly initialized: ['classifier.bias', 'classifier.weight', 'pooler.dense.bias', 'pooler.dense.weight']\n",
      "You should probably TRAIN this model on a down-stream task to be able to use it for predictions and inference.\n"
     ]
    },
    {
     "name": "stdout",
     "output_type": "stream",
     "text": [
      "Epoch 1/20\n"
     ]
    },
    {
     "name": "stderr",
     "output_type": "stream",
     "text": [
      "100%|██████████| 743/743 [07:22<00:00,  1.68it/s]\n"
     ]
    },
    {
     "name": "stdout",
     "output_type": "stream",
     "text": [
      "{'val_loss': 1.3699705572623126, 'val_accuracy': 0.6118343195266273, 'precision': 0.5746110236323005, 'recall': 0.6118343195266273, 'f1-score': 0.5716800411572628, 'macro_f1-score': 0.29223588114238636, 'balanced_accuracy': 0.29656713983834293, 'mcc': 0.4640076431060138}\n",
      "Epoch 2/20\n"
     ]
    },
    {
     "name": "stderr",
     "output_type": "stream",
     "text": [
      "100%|██████████| 743/743 [07:22<00:00,  1.68it/s]\n"
     ]
    },
    {
     "name": "stdout",
     "output_type": "stream",
     "text": [
      "{'val_loss': 1.3142675971085171, 'val_accuracy': 0.6378698224852071, 'precision': 0.6592842687966364, 'recall': 0.6378698224852071, 'f1-score': 0.6331719691815582, 'macro_f1-score': 0.42099032559201377, 'balanced_accuracy': 0.4435020667377281, 'mcc': 0.5232294413539308}\n",
      "Epoch 3/20\n"
     ]
    },
    {
     "name": "stderr",
     "output_type": "stream",
     "text": [
      "100%|██████████| 743/743 [07:22<00:00,  1.68it/s]\n"
     ]
    },
    {
     "name": "stdout",
     "output_type": "stream",
     "text": [
      "{'val_loss': 1.399539738893509, 'val_accuracy': 0.659171597633136, 'precision': 0.6562920169064251, 'recall': 0.659171597633136, 'f1-score': 0.636604331039104, 'macro_f1-score': 0.39222374214869427, 'balanced_accuracy': 0.3945577796014462, 'mcc': 0.5452070718898177}\n",
      "Epoch 4/20\n"
     ]
    },
    {
     "name": "stderr",
     "output_type": "stream",
     "text": [
      "100%|██████████| 743/743 [07:22<00:00,  1.68it/s]\n"
     ]
    },
    {
     "name": "stdout",
     "output_type": "stream",
     "text": [
      "{'val_loss': 1.4590333351549112, 'val_accuracy': 0.685207100591716, 'precision': 0.68723288987201, 'recall': 0.685207100591716, 'f1-score': 0.6723581608062155, 'macro_f1-score': 0.4314232397907331, 'balanced_accuracy': 0.4330752959605432, 'mcc': 0.5809752640392117}\n",
      "Epoch 5/20\n"
     ]
    },
    {
     "name": "stderr",
     "output_type": "stream",
     "text": [
      "100%|██████████| 743/743 [07:22<00:00,  1.68it/s]\n"
     ]
    },
    {
     "name": "stdout",
     "output_type": "stream",
     "text": [
      "{'val_loss': 1.7805227249298456, 'val_accuracy': 0.6603550295857988, 'precision': 0.6468520266250969, 'recall': 0.6603550295857988, 'f1-score': 0.6256805033966284, 'macro_f1-score': 0.37854881451452793, 'balanced_accuracy': 0.36829147119759226, 'mcc': 0.5323352065754295}\n",
      "Epoch 6/20\n"
     ]
    },
    {
     "name": "stderr",
     "output_type": "stream",
     "text": [
      "100%|██████████| 743/743 [07:22<00:00,  1.68it/s]\n"
     ]
    },
    {
     "name": "stdout",
     "output_type": "stream",
     "text": [
      "{'val_loss': 1.5231713424876052, 'val_accuracy': 0.6745562130177515, 'precision': 0.6804269915468747, 'recall': 0.6745562130177515, 'f1-score': 0.6636025184192034, 'macro_f1-score': 0.43607428079588395, 'balanced_accuracy': 0.4547330354809982, 'mcc': 0.5736021130031612}\n",
      "Epoch 7/20\n"
     ]
    },
    {
     "name": "stderr",
     "output_type": "stream",
     "text": [
      "100%|██████████| 743/743 [07:22<00:00,  1.68it/s]\n"
     ]
    },
    {
     "name": "stdout",
     "output_type": "stream",
     "text": [
      "{'val_loss': 1.720587747276954, 'val_accuracy': 0.672189349112426, 'precision': 0.6845090037186851, 'recall': 0.672189349112426, 'f1-score': 0.6652155506741084, 'macro_f1-score': 0.4417911734479719, 'balanced_accuracy': 0.444489997834394, 'mcc': 0.5693820343673263}\n",
      "Epoch 8/20\n"
     ]
    },
    {
     "name": "stderr",
     "output_type": "stream",
     "text": [
      "100%|██████████| 743/743 [07:22<00:00,  1.68it/s]\n"
     ]
    },
    {
     "name": "stdout",
     "output_type": "stream",
     "text": [
      "{'val_loss': 1.6888096664311751, 'val_accuracy': 0.663905325443787, 'precision': 0.6633622537316913, 'recall': 0.663905325443787, 'f1-score': 0.6530441343564811, 'macro_f1-score': 0.3972283300411418, 'balanced_accuracy': 0.42091291742393877, 'mcc': 0.5632758418674016}\n",
      "Epoch 9/20\n"
     ]
    },
    {
     "name": "stderr",
     "output_type": "stream",
     "text": [
      "100%|██████████| 743/743 [07:22<00:00,  1.68it/s]\n"
     ]
    },
    {
     "name": "stdout",
     "output_type": "stream",
     "text": [
      "{'val_loss': 1.7048924919569268, 'val_accuracy': 0.672189349112426, 'precision': 0.6631866404895903, 'recall': 0.672189349112426, 'f1-score': 0.6625536510678421, 'macro_f1-score': 0.4146407657447066, 'balanced_accuracy': 0.42954191308158607, 'mcc': 0.5687976410555884}\n",
      "Epoch 10/20\n"
     ]
    },
    {
     "name": "stderr",
     "output_type": "stream",
     "text": [
      "100%|██████████| 743/743 [07:22<00:00,  1.68it/s]\n"
     ]
    },
    {
     "name": "stdout",
     "output_type": "stream",
     "text": [
      "{'val_loss': 1.7407373805653374, 'val_accuracy': 0.6816568047337278, 'precision': 0.679161953073805, 'recall': 0.6816568047337278, 'f1-score': 0.6691422800663207, 'macro_f1-score': 0.4119881849891583, 'balanced_accuracy': 0.4325771556047267, 'mcc': 0.5774226938994361}\n",
      "Early stopping triggered at epoch 10\n",
      "Fold 8\n",
      "Training set label distribution: {0: 3577, 1: 28, 2: 126, 3: 27, 4: 232, 5: 130, 6: 106, 7: 35, 8: 77, 9: 73, 10: 79, 11: 194, 12: 216, 13: 33, 14: 26, 15: 28, 16: 22, 17: 260, 18: 105, 19: 50, 20: 16, 21: 40, 22: 87, 23: 180, 24: 18, 25: 57, 26: 96, 27: 55, 28: 13, 29: 14, 30: 18, 31: 90, 32: 40, 33: 36, 34: 33, 35: 14, 36: 31, 37: 25, 38: 6, 39: 116, 40: 12, 41: 10, 42: 165, 43: 18, 44: 23, 45: 10, 46: 62, 47: 595, 48: 226, 49: 79}\n",
      "Validation set label distribution: {0: 397, 1: 3, 2: 14, 3: 3, 4: 25, 5: 15, 6: 12, 7: 4, 8: 8, 9: 8, 10: 9, 11: 21, 12: 25, 13: 3, 14: 3, 15: 3, 16: 3, 17: 29, 18: 11, 19: 6, 20: 2, 21: 4, 22: 10, 23: 20, 24: 2, 25: 6, 26: 11, 27: 6, 28: 2, 29: 2, 30: 1, 31: 10, 32: 5, 33: 4, 34: 4, 35: 1, 36: 4, 37: 2, 38: 1, 39: 13, 40: 2, 41: 1, 42: 19, 43: 2, 44: 2, 45: 1, 46: 6, 47: 66, 48: 26, 49: 8}\n",
      "avg_label_size: 152\n"
     ]
    },
    {
     "name": "stderr",
     "output_type": "stream",
     "text": [
      "Some weights of DebertaForSequenceClassification were not initialized from the model checkpoint at microsoft/deberta-base and are newly initialized: ['classifier.bias', 'classifier.weight', 'pooler.dense.bias', 'pooler.dense.weight']\n",
      "You should probably TRAIN this model on a down-stream task to be able to use it for predictions and inference.\n"
     ]
    },
    {
     "name": "stdout",
     "output_type": "stream",
     "text": [
      "Epoch 1/20\n"
     ]
    },
    {
     "name": "stderr",
     "output_type": "stream",
     "text": [
      "100%|██████████| 743/743 [07:22<00:00,  1.68it/s]\n"
     ]
    },
    {
     "name": "stdout",
     "output_type": "stream",
     "text": [
      "{'val_loss': 2.7177932779743985, 'val_accuracy': 0.46982248520710057, 'precision': 0.22073316760617626, 'recall': 0.46982248520710057, 'f1-score': 0.3003535050357793, 'macro_f1-score': 0.012785829307568436, 'balanced_accuracy': 0.02, 'mcc': 0.0}\n",
      "Epoch 2/20\n"
     ]
    },
    {
     "name": "stderr",
     "output_type": "stream",
     "text": [
      "100%|██████████| 743/743 [07:22<00:00,  1.68it/s]\n"
     ]
    },
    {
     "name": "stdout",
     "output_type": "stream",
     "text": [
      "{'val_loss': 2.6753786892261147, 'val_accuracy': 0.46982248520710057, 'precision': 0.22073316760617626, 'recall': 0.46982248520710057, 'f1-score': 0.3003535050357793, 'macro_f1-score': 0.012785829307568436, 'balanced_accuracy': 0.02, 'mcc': 0.0}\n",
      "Epoch 3/20\n"
     ]
    },
    {
     "name": "stderr",
     "output_type": "stream",
     "text": [
      "100%|██████████| 743/743 [07:22<00:00,  1.68it/s]\n"
     ]
    },
    {
     "name": "stdout",
     "output_type": "stream",
     "text": [
      "{'val_loss': 2.677268037256205, 'val_accuracy': 0.46982248520710057, 'precision': 0.22073316760617626, 'recall': 0.46982248520710057, 'f1-score': 0.3003535050357793, 'macro_f1-score': 0.012785829307568436, 'balanced_accuracy': 0.02, 'mcc': 0.0}\n",
      "Epoch 4/20\n"
     ]
    },
    {
     "name": "stderr",
     "output_type": "stream",
     "text": [
      "100%|██████████| 743/743 [07:22<00:00,  1.68it/s]\n"
     ]
    },
    {
     "name": "stdout",
     "output_type": "stream",
     "text": [
      "{'val_loss': 2.679952913860105, 'val_accuracy': 0.46982248520710057, 'precision': 0.22073316760617626, 'recall': 0.46982248520710057, 'f1-score': 0.3003535050357793, 'macro_f1-score': 0.012785829307568436, 'balanced_accuracy': 0.02, 'mcc': 0.0}\n",
      "Early stopping triggered at epoch 4\n",
      "Fold 9\n",
      "Training set label distribution: {0: 3577, 1: 28, 2: 126, 3: 27, 4: 232, 5: 130, 6: 106, 7: 36, 8: 76, 9: 73, 10: 79, 11: 194, 12: 217, 13: 32, 14: 26, 15: 28, 16: 22, 17: 261, 18: 104, 19: 50, 20: 17, 21: 39, 22: 87, 23: 180, 24: 18, 25: 57, 26: 96, 27: 55, 28: 13, 29: 15, 30: 17, 31: 90, 32: 40, 33: 36, 34: 33, 35: 14, 36: 31, 37: 25, 38: 7, 39: 116, 40: 12, 41: 10, 42: 166, 43: 18, 44: 22, 45: 10, 46: 61, 47: 595, 48: 226, 49: 79}\n",
      "Validation set label distribution: {0: 397, 1: 3, 2: 14, 3: 3, 4: 25, 5: 15, 6: 12, 7: 3, 8: 9, 9: 8, 10: 9, 11: 21, 12: 24, 13: 4, 14: 3, 15: 3, 16: 3, 17: 28, 18: 12, 19: 6, 20: 1, 21: 5, 22: 10, 23: 20, 24: 2, 25: 6, 26: 11, 27: 6, 28: 2, 29: 1, 30: 2, 31: 10, 32: 5, 33: 4, 34: 4, 35: 1, 36: 4, 37: 2, 39: 13, 40: 2, 41: 1, 42: 18, 43: 2, 44: 3, 45: 1, 46: 7, 47: 66, 48: 26, 49: 8}\n",
      "avg_label_size: 152\n"
     ]
    },
    {
     "name": "stderr",
     "output_type": "stream",
     "text": [
      "Some weights of DebertaForSequenceClassification were not initialized from the model checkpoint at microsoft/deberta-base and are newly initialized: ['classifier.bias', 'classifier.weight', 'pooler.dense.bias', 'pooler.dense.weight']\n",
      "You should probably TRAIN this model on a down-stream task to be able to use it for predictions and inference.\n"
     ]
    },
    {
     "name": "stdout",
     "output_type": "stream",
     "text": [
      "Epoch 1/20\n"
     ]
    },
    {
     "name": "stderr",
     "output_type": "stream",
     "text": [
      "100%|██████████| 743/743 [07:22<00:00,  1.68it/s]\n"
     ]
    },
    {
     "name": "stdout",
     "output_type": "stream",
     "text": [
      "{'val_loss': 1.420119917617654, 'val_accuracy': 0.6035502958579881, 'precision': 0.6140496716664798, 'recall': 0.6035502958579881, 'f1-score': 0.5842135383901932, 'macro_f1-score': 0.3110576089973374, 'balanced_accuracy': 0.32130179743889714, 'mcc': 0.46790515209507744}\n",
      "Epoch 2/20\n"
     ]
    },
    {
     "name": "stderr",
     "output_type": "stream",
     "text": [
      "100%|██████████| 743/743 [07:22<00:00,  1.68it/s]\n"
     ]
    },
    {
     "name": "stdout",
     "output_type": "stream",
     "text": [
      "{'val_loss': 1.3822124785972092, 'val_accuracy': 0.6390532544378699, 'precision': 0.6355276744939141, 'recall': 0.6390532544378699, 'f1-score': 0.6106600491734177, 'macro_f1-score': 0.31931661409853873, 'balanced_accuracy': 0.32363711181579896, 'mcc': 0.5124969137981688}\n",
      "Epoch 3/20\n"
     ]
    },
    {
     "name": "stderr",
     "output_type": "stream",
     "text": [
      "100%|██████████| 743/743 [07:22<00:00,  1.68it/s]\n"
     ]
    },
    {
     "name": "stdout",
     "output_type": "stream",
     "text": [
      "{'val_loss': 1.3319038973664337, 'val_accuracy': 0.6781065088757396, 'precision': 0.6855252005796733, 'recall': 0.6781065088757396, 'f1-score': 0.667496573563531, 'macro_f1-score': 0.37487406984237615, 'balanced_accuracy': 0.3845428516661745, 'mcc': 0.578259461455636}\n",
      "Epoch 4/20\n"
     ]
    },
    {
     "name": "stderr",
     "output_type": "stream",
     "text": [
      "100%|██████████| 743/743 [07:22<00:00,  1.68it/s]\n"
     ]
    },
    {
     "name": "stdout",
     "output_type": "stream",
     "text": [
      "{'val_loss': 1.4920718731745235, 'val_accuracy': 0.6579881656804734, 'precision': 0.684685530454983, 'recall': 0.6579881656804734, 'f1-score': 0.6596088634642522, 'macro_f1-score': 0.3813754783497513, 'balanced_accuracy': 0.4064035035944253, 'mcc': 0.5599591418795401}\n",
      "Epoch 5/20\n"
     ]
    },
    {
     "name": "stderr",
     "output_type": "stream",
     "text": [
      "100%|██████████| 743/743 [07:22<00:00,  1.68it/s]\n"
     ]
    },
    {
     "name": "stdout",
     "output_type": "stream",
     "text": [
      "{'val_loss': 1.454895386156046, 'val_accuracy': 0.6757396449704142, 'precision': 0.684652232164535, 'recall': 0.6757396449704142, 'f1-score': 0.6691365647064651, 'macro_f1-score': 0.3727090916217731, 'balanced_accuracy': 0.36045536239208165, 'mcc': 0.570465442094385}\n",
      "Epoch 6/20\n"
     ]
    },
    {
     "name": "stderr",
     "output_type": "stream",
     "text": [
      "100%|██████████| 743/743 [07:22<00:00,  1.68it/s]\n"
     ]
    },
    {
     "name": "stdout",
     "output_type": "stream",
     "text": [
      "{'val_loss': 1.5753323351437192, 'val_accuracy': 0.685207100591716, 'precision': 0.6822509799582395, 'recall': 0.685207100591716, 'f1-score': 0.6693839279490549, 'macro_f1-score': 0.3738131471578821, 'balanced_accuracy': 0.360060181112718, 'mcc': 0.5788402848813331}\n",
      "Epoch 7/20\n"
     ]
    },
    {
     "name": "stderr",
     "output_type": "stream",
     "text": [
      "100%|██████████| 743/743 [07:22<00:00,  1.68it/s]\n"
     ]
    },
    {
     "name": "stdout",
     "output_type": "stream",
     "text": [
      "{'val_loss': 1.635213261505343, 'val_accuracy': 0.6745562130177515, 'precision': 0.6780432619830161, 'recall': 0.6745562130177515, 'f1-score': 0.6623969157836106, 'macro_f1-score': 0.40882033479837904, 'balanced_accuracy': 0.4000436417081664, 'mcc': 0.5639988856875352}\n",
      "Epoch 8/20\n"
     ]
    },
    {
     "name": "stderr",
     "output_type": "stream",
     "text": [
      "100%|██████████| 743/743 [07:22<00:00,  1.68it/s]\n"
     ]
    },
    {
     "name": "stdout",
     "output_type": "stream",
     "text": [
      "{'val_loss': 1.6414101146302134, 'val_accuracy': 0.6804733727810651, 'precision': 0.6631706593953656, 'recall': 0.6804733727810651, 'f1-score': 0.6621443578890462, 'macro_f1-score': 0.342417667590377, 'balanced_accuracy': 0.3449811270710361, 'mcc': 0.5743758705882845}\n",
      "Epoch 9/20\n"
     ]
    },
    {
     "name": "stderr",
     "output_type": "stream",
     "text": [
      "100%|██████████| 743/743 [07:22<00:00,  1.68it/s]\n"
     ]
    },
    {
     "name": "stdout",
     "output_type": "stream",
     "text": [
      "{'val_loss': 1.8253083836357549, 'val_accuracy': 0.6579881656804734, 'precision': 0.6879708008719707, 'recall': 0.6579881656804734, 'f1-score': 0.6500960720710313, 'macro_f1-score': 0.35590845218112177, 'balanced_accuracy': 0.36055596208426105, 'mcc': 0.5504184621752649}\n",
      "Epoch 10/20\n"
     ]
    },
    {
     "name": "stderr",
     "output_type": "stream",
     "text": [
      "100%|██████████| 743/743 [07:22<00:00,  1.68it/s]\n"
     ]
    },
    {
     "name": "stdout",
     "output_type": "stream",
     "text": [
      "{'val_loss': 1.7427132214015384, 'val_accuracy': 0.672189349112426, 'precision': 0.6560090073597717, 'recall': 0.672189349112426, 'f1-score': 0.6562292738124451, 'macro_f1-score': 0.3631348407310002, 'balanced_accuracy': 0.3652888500145992, 'mcc': 0.5635471498273671}\n",
      "Early stopping triggered at epoch 10\n",
      "Fold 10\n",
      "Training set label distribution: {0: 3577, 1: 28, 2: 126, 3: 27, 4: 231, 5: 130, 6: 107, 7: 35, 8: 76, 9: 73, 10: 79, 11: 194, 12: 217, 13: 32, 14: 26, 15: 28, 16: 23, 17: 260, 18: 104, 19: 50, 20: 17, 21: 39, 22: 88, 23: 180, 24: 18, 25: 56, 26: 97, 27: 54, 28: 13, 29: 15, 30: 17, 31: 90, 32: 40, 33: 36, 34: 34, 35: 13, 36: 32, 37: 24, 38: 7, 39: 116, 40: 12, 41: 10, 42: 166, 43: 18, 44: 22, 45: 10, 46: 61, 47: 595, 48: 227, 49: 79}\n",
      "Validation set label distribution: {0: 397, 1: 3, 2: 14, 3: 3, 4: 26, 5: 15, 6: 11, 7: 4, 8: 9, 9: 8, 10: 9, 11: 21, 12: 24, 13: 4, 14: 3, 15: 3, 16: 2, 17: 29, 18: 12, 19: 6, 20: 1, 21: 5, 22: 9, 23: 20, 24: 2, 25: 7, 26: 10, 27: 7, 28: 2, 29: 1, 30: 2, 31: 10, 32: 5, 33: 4, 34: 3, 35: 2, 36: 3, 37: 3, 39: 13, 40: 2, 41: 1, 42: 18, 43: 2, 44: 3, 45: 1, 46: 7, 47: 66, 48: 25, 49: 8}\n",
      "avg_label_size: 152\n"
     ]
    },
    {
     "name": "stderr",
     "output_type": "stream",
     "text": [
      "Some weights of DebertaForSequenceClassification were not initialized from the model checkpoint at microsoft/deberta-base and are newly initialized: ['classifier.bias', 'classifier.weight', 'pooler.dense.bias', 'pooler.dense.weight']\n",
      "You should probably TRAIN this model on a down-stream task to be able to use it for predictions and inference.\n"
     ]
    },
    {
     "name": "stdout",
     "output_type": "stream",
     "text": [
      "Epoch 1/20\n"
     ]
    },
    {
     "name": "stderr",
     "output_type": "stream",
     "text": [
      "100%|██████████| 743/743 [07:22<00:00,  1.68it/s]\n",
      "D:\\Anaconda3\\envs\\cuda\\Lib\\site-packages\\sklearn\\metrics\\_classification.py:2458: UserWarning: y_pred contains classes not in y_true\n",
      "  warnings.warn(\"y_pred contains classes not in y_true\")\n"
     ]
    },
    {
     "name": "stdout",
     "output_type": "stream",
     "text": [
      "{'val_loss': 1.4185590744018555, 'val_accuracy': 0.6094674556213018, 'precision': 0.5793067821039264, 'recall': 0.6094674556213018, 'f1-score': 0.5615607929867772, 'macro_f1-score': 0.22716786589921908, 'balanced_accuracy': 0.27197024869221514, 'mcc': 0.4692921942880275}\n",
      "Epoch 2/20\n"
     ]
    },
    {
     "name": "stderr",
     "output_type": "stream",
     "text": [
      "100%|██████████| 743/743 [07:22<00:00,  1.68it/s]\n"
     ]
    },
    {
     "name": "stdout",
     "output_type": "stream",
     "text": [
      "{'val_loss': 1.255212277173996, 'val_accuracy': 0.6698224852071006, 'precision': 0.6397514137713276, 'recall': 0.6698224852071006, 'f1-score': 0.6293647612251677, 'macro_f1-score': 0.3124508656947538, 'balanced_accuracy': 0.32841189526908604, 'mcc': 0.5524006222359266}\n",
      "Epoch 3/20\n"
     ]
    },
    {
     "name": "stderr",
     "output_type": "stream",
     "text": [
      "100%|██████████| 743/743 [07:22<00:00,  1.68it/s]\n"
     ]
    },
    {
     "name": "stdout",
     "output_type": "stream",
     "text": [
      "{'val_loss': 1.4005953422132529, 'val_accuracy': 0.6390532544378699, 'precision': 0.6600933580697178, 'recall': 0.6390532544378699, 'f1-score': 0.6349631784689964, 'macro_f1-score': 0.3588487879607564, 'balanced_accuracy': 0.37646341481511836, 'mcc': 0.5317194578264508}\n",
      "Epoch 4/20\n"
     ]
    },
    {
     "name": "stderr",
     "output_type": "stream",
     "text": [
      "100%|██████████| 743/743 [07:22<00:00,  1.68it/s]\n"
     ]
    },
    {
     "name": "stdout",
     "output_type": "stream",
     "text": [
      "{'val_loss': 1.4326386558559705, 'val_accuracy': 0.6710059171597633, 'precision': 0.6503297172805134, 'recall': 0.6710059171597633, 'f1-score': 0.644741698641154, 'macro_f1-score': 0.326560813727904, 'balanced_accuracy': 0.3238903657290769, 'mcc': 0.5589079896158007}\n",
      "Epoch 5/20\n"
     ]
    },
    {
     "name": "stderr",
     "output_type": "stream",
     "text": [
      "100%|██████████| 743/743 [07:22<00:00,  1.68it/s]\n"
     ]
    },
    {
     "name": "stdout",
     "output_type": "stream",
     "text": [
      "{'val_loss': 1.5896450809712679, 'val_accuracy': 0.650887573964497, 'precision': 0.7026066910858585, 'recall': 0.650887573964497, 'f1-score': 0.6449834559313604, 'macro_f1-score': 0.3613667565980745, 'balanced_accuracy': 0.36002333691265637, 'mcc': 0.5503662559895214}\n",
      "Epoch 6/20\n"
     ]
    },
    {
     "name": "stderr",
     "output_type": "stream",
     "text": [
      "100%|██████████| 743/743 [07:22<00:00,  1.68it/s]\n"
     ]
    },
    {
     "name": "stdout",
     "output_type": "stream",
     "text": [
      "{'val_loss': 1.5507847194401723, 'val_accuracy': 0.6627218934911243, 'precision': 0.6964632689617813, 'recall': 0.6627218934911243, 'f1-score': 0.6620667110149713, 'macro_f1-score': 0.39049831068055024, 'balanced_accuracy': 0.4094612021178441, 'mcc': 0.5673797270977755}\n",
      "Epoch 7/20\n"
     ]
    },
    {
     "name": "stderr",
     "output_type": "stream",
     "text": [
      "100%|██████████| 743/743 [07:22<00:00,  1.68it/s]\n"
     ]
    },
    {
     "name": "stdout",
     "output_type": "stream",
     "text": [
      "{'val_loss': 1.6086727903698974, 'val_accuracy': 0.6710059171597633, 'precision': 0.675765392320032, 'recall': 0.6710059171597633, 'f1-score': 0.655534745575495, 'macro_f1-score': 0.3576448895207901, 'balanced_accuracy': 0.3600871106327051, 'mcc': 0.5648593132134976}\n",
      "Epoch 8/20\n"
     ]
    },
    {
     "name": "stderr",
     "output_type": "stream",
     "text": [
      "100%|██████████| 743/743 [07:22<00:00,  1.68it/s]\n"
     ]
    },
    {
     "name": "stdout",
     "output_type": "stream",
     "text": [
      "{'val_loss': 1.6045066354409703, 'val_accuracy': 0.6887573964497041, 'precision': 0.6733072600606079, 'recall': 0.6887573964497041, 'f1-score': 0.6683639730673664, 'macro_f1-score': 0.4038619963586844, 'balanced_accuracy': 0.4089543236675139, 'mcc': 0.5854345881412009}\n",
      "Epoch 9/20\n"
     ]
    },
    {
     "name": "stderr",
     "output_type": "stream",
     "text": [
      "100%|██████████| 743/743 [07:22<00:00,  1.68it/s]\n"
     ]
    },
    {
     "name": "stdout",
     "output_type": "stream",
     "text": [
      "{'val_loss': 1.6611028943421706, 'val_accuracy': 0.6757396449704142, 'precision': 0.676051595793314, 'recall': 0.6757396449704142, 'f1-score': 0.6611887168417525, 'macro_f1-score': 0.3576440112367817, 'balanced_accuracy': 0.36700941813207094, 'mcc': 0.5719378884048982}\n",
      "Epoch 10/20\n"
     ]
    },
    {
     "name": "stderr",
     "output_type": "stream",
     "text": [
      "100%|██████████| 743/743 [07:22<00:00,  1.68it/s]\n"
     ]
    },
    {
     "name": "stdout",
     "output_type": "stream",
     "text": [
      "{'val_loss': 1.7928315626000457, 'val_accuracy': 0.6828402366863905, 'precision': 0.6887835698736694, 'recall': 0.6828402366863905, 'f1-score': 0.6712371818092725, 'macro_f1-score': 0.3857141679443857, 'balanced_accuracy': 0.39591904030762853, 'mcc': 0.5828265450330816}\n",
      "Epoch 11/20\n"
     ]
    },
    {
     "name": "stderr",
     "output_type": "stream",
     "text": [
      "100%|██████████| 743/743 [07:22<00:00,  1.68it/s]\n"
     ]
    },
    {
     "name": "stdout",
     "output_type": "stream",
     "text": [
      "{'val_loss': 1.8193218055761085, 'val_accuracy': 0.6923076923076923, 'precision': 0.6816742443002329, 'recall': 0.6923076923076923, 'f1-score': 0.6705107389988602, 'macro_f1-score': 0.3699087148754967, 'balanced_accuracy': 0.3754890047942888, 'mcc': 0.5872602834837521}\n",
      "Early stopping triggered at epoch 11\n",
      "Final 10-fold Cross-Validation Results:\n",
      "val_loss: 1.6792079284841583\n",
      "val_accuracy: 0.6248128325575134\n",
      "precision: 0.5889089389141263\n",
      "recall: 0.6248128325575134\n",
      "f1-score: 0.5842892325113602\n",
      "macro_f1-score: 0.3071646898626065\n",
      "balanced_accuracy: 0.32445532069253247\n",
      "mcc: 0.4574206196346914\n",
      "\n",
      "Total training time: 32059.43 seconds\n"
     ]
    }
   ],
   "source": [
    "from torch.utils.data import DataLoader\n",
    "import torch\n",
    "from torch.nn import CrossEntropyLoss\n",
    "from torch.optim import AdamW\n",
    "from tqdm import tqdm\n",
    "import numpy as np\n",
    "from imblearn.over_sampling import RandomOverSampler\n",
    "from collections import Counter\n",
    "import time  # 加入這行來使用時間模組\n",
    "total_start_time = time.time()  # 記錄整體開始時間\n",
    "\n",
    "all_fold_results = []\n",
    "\n",
    "# 進行 10 折交叉驗證\n",
    "for fold, (train_idx, val_idx) in enumerate(skf.split(messages, labels)):\n",
    "    print(f\"Fold {fold + 1}\")\n",
    "    \n",
    "    train_messages = [messages[i] for i in train_idx]\n",
    "    train_labels = [labels[i] for i in train_idx]\n",
    "    val_messages = [messages[i] for i in val_idx]\n",
    "    val_labels = [labels[i] for i in val_idx]\n",
    "\n",
    "    print(\"Training set label distribution:\", {label: train_labels.count(label) for label in set(train_labels)})\n",
    "    print(\"Validation set label distribution:\", {label: val_labels.count(label) for label in set(val_labels)})\n",
    "\n",
    "    # 計算各 Label 的數量\n",
    "    label_counts = pd.Series(train_labels).value_counts()\n",
    "    avg_label_size = int(label_counts.mean())  # **取平均值作為 resample 基準點**\n",
    "    print(f\"avg_label_size: {avg_label_size}\")\n",
    "    \n",
    "    # 找出需要過採樣的類別\n",
    "    labels_to_oversample = label_counts[label_counts < avg_label_size].index.tolist()\n",
    "\n",
    "    # 進行 ROS (Random Oversampling)\n",
    "    ros = RandomOverSampler(sampling_strategy={label: avg_label_size for label in labels_to_oversample}, random_state=42)\n",
    "    train_messages_resampled, train_labels_resampled = ros.fit_resample(np.array(train_messages).reshape(-1, 1), train_labels)\n",
    "    train_messages_resampled = train_messages_resampled.flatten().tolist()\n",
    "\n",
    "    # 轉換成 DataLoader\n",
    "    train_dataset = CustomDataset(train_messages_resampled, train_labels_resampled, tokenizer, MAX_LENGTH)\n",
    "    val_dataset = CustomDataset(val_messages, val_labels, tokenizer, MAX_LENGTH)\n",
    "    train_dataloader = DataLoader(train_dataset, batch_size=BATCH_SIZE, shuffle=True)\n",
    "    val_dataloader = DataLoader(val_dataset, batch_size=BATCH_SIZE)\n",
    "\n",
    "    NUM_LABELS = len(set(train_labels) | set(val_labels))\n",
    "    model = DebertaForSequenceClassification.from_pretrained('microsoft/deberta-base', num_labels=NUM_LABELS)\n",
    "    model.to(device)\n",
    "    optimizer = AdamW(model.parameters(), lr=5e-5, weight_decay=1e-2)\n",
    "    criterion = CrossEntropyLoss()\n",
    "\n",
    "    epoch_results = []\n",
    "    patience = 3\n",
    "    best_macro_f1 = 0\n",
    "    epochs_without_improvement = 0\n",
    "    \n",
    "    for epoch in range(EPOCHS):\n",
    "        print(f\"Epoch {epoch + 1}/{EPOCHS}\")\n",
    "        train_loss = train_epoch(model, train_dataloader, optimizer, criterion)\n",
    "        metrics = eval_model(model, val_dataloader, criterion, num_labels=NUM_LABELS)\n",
    "        epoch_results.append(metrics)\n",
    "        print(metrics)\n",
    "\n",
    "        current_macro_f1 = metrics[\"macro_f1-score\"]\n",
    "        \n",
    "        if current_macro_f1 > best_macro_f1:\n",
    "            best_macro_f1 = current_macro_f1  # 更新最佳 macro_f1-score\n",
    "            epochs_without_improvement = 0   # 重置計數\n",
    "        else:\n",
    "            epochs_without_improvement += 1  # 增加計數\n",
    "        \n",
    "        # 若連續 patience 3 次沒有提升，則停止訓練\n",
    "        if epochs_without_improvement >= patience:\n",
    "            print(f\"Early stopping triggered at epoch {epoch + 1}\")\n",
    "            break\n",
    "    \n",
    "    avg_metrics = {metric: np.mean([epoch[metric] for epoch in epoch_results]) for metric in epoch_results[0].keys()}\n",
    "    all_fold_results.append(avg_metrics)\n",
    "\n",
    "final_metrics = {metric: np.mean([result[metric] for result in all_fold_results]) for metric in all_fold_results[0].keys()}\n",
    "print(\"Final 10-fold Cross-Validation Results:\")\n",
    "for metric, value in final_metrics.items():\n",
    "    print(f\"{metric}: {value}\")\n",
    "\n",
    "total_end_time = time.time()\n",
    "print(f\"\\nTotal training time: {total_end_time - total_start_time:.2f} seconds\")"
   ]
  },
  {
   "cell_type": "code",
   "execution_count": 8,
   "id": "f8016681-94ee-4d35-81ac-9831d7172f0d",
   "metadata": {},
   "outputs": [
    {
     "data": {
      "text/plain": [
       "[{'val_loss': 1.543675694919232,\n",
       "  'val_accuracy': 0.6509062253743104,\n",
       "  'precision': 0.6536804642898525,\n",
       "  'recall': 0.6509062253743104,\n",
       "  'f1-score': 0.6288464055085466,\n",
       "  'macro_f1-score': 0.3753360570876338,\n",
       "  'balanced_accuracy': 0.39144542818519673,\n",
       "  'mcc': 0.5338963602660467},\n",
       " {'val_loss': 1.3915630556502432,\n",
       "  'val_accuracy': 0.6475177304964539,\n",
       "  'precision': 0.6440682229079855,\n",
       "  'recall': 0.6475177304964539,\n",
       "  'f1-score': 0.6250999199034482,\n",
       "  'macro_f1-score': 0.33639897661837076,\n",
       "  'balanced_accuracy': 0.35453959732945,\n",
       "  'mcc': 0.5292862878310693},\n",
       " {'val_loss': 1.406501852022777,\n",
       "  'val_accuracy': 0.6540583136327818,\n",
       "  'precision': 0.6731200988564661,\n",
       "  'recall': 0.6540583136327818,\n",
       "  'f1-score': 0.6480618834115708,\n",
       "  'macro_f1-score': 0.38149588990533917,\n",
       "  'balanced_accuracy': 0.41657508887462097,\n",
       "  'mcc': 0.5474307845214743},\n",
       " {'val_loss': 2.048868587369439,\n",
       "  'val_accuracy': 0.5496453900709221,\n",
       "  'precision': 0.42501999582223077,\n",
       "  'recall': 0.5496453900709221,\n",
       "  'f1-score': 0.4532685925101378,\n",
       "  'macro_f1-score': 0.18219049844159485,\n",
       "  'balanced_accuracy': 0.21300113344077132,\n",
       "  'mcc': 0.2532051975994243},\n",
       " {'val_loss': 1.512913851290004,\n",
       "  'val_accuracy': 0.6487179487179486,\n",
       "  'precision': 0.6435662108954187,\n",
       "  'recall': 0.6487179487179486,\n",
       "  'f1-score': 0.6237183213794849,\n",
       "  'macro_f1-score': 0.33484138205979813,\n",
       "  'balanced_accuracy': 0.34905162013039015,\n",
       "  'mcc': 0.5276932448279472},\n",
       " {'val_loss': 1.5230620472097012,\n",
       "  'val_accuracy': 0.6382079459002536,\n",
       "  'precision': 0.6363905206109376,\n",
       "  'recall': 0.6382079459002536,\n",
       "  'f1-score': 0.6232366828895703,\n",
       "  'macro_f1-score': 0.33638949898478454,\n",
       "  'balanced_accuracy': 0.363781208156204,\n",
       "  'mcc': 0.5242637074342403},\n",
       " {'val_loss': 1.5701532582067093,\n",
       "  'val_accuracy': 0.6618934911242603,\n",
       "  'precision': 0.6594919068393116,\n",
       "  'recall': 0.6618934911242603,\n",
       "  'f1-score': 0.6453053140164725,\n",
       "  'macro_f1-score': 0.4017144738207218,\n",
       "  'balanced_accuracy': 0.4118248772761296,\n",
       "  'mcc': 0.5498234951157317},\n",
       " {'val_loss': 2.687598229579206,\n",
       "  'val_accuracy': 0.46982248520710057,\n",
       "  'precision': 0.22073316760617626,\n",
       "  'recall': 0.46982248520710057,\n",
       "  'f1-score': 0.3003535050357793,\n",
       "  'macro_f1-score': 0.012785829307568436,\n",
       "  'balanced_accuracy': 0.02,\n",
       "  'mcc': 0.0},\n",
       " {'val_loss': 1.5501180869228437,\n",
       "  'val_accuracy': 0.6624852071005917,\n",
       "  'precision': 0.6671885018927949,\n",
       "  'recall': 0.6624852071005917,\n",
       "  'f1-score': 0.6491366136803047,\n",
       "  'macro_f1-score': 0.36034273053685373,\n",
       "  'balanced_accuracy': 0.3627270388898158,\n",
       "  'mcc': 0.5520266764482592},\n",
       " {'val_loss': 1.5576246216714282,\n",
       "  'val_accuracy': 0.664873587950511,\n",
       "  'precision': 0.6658302994200892,\n",
       "  'recall': 0.664873587950511,\n",
       "  'f1-score': 0.6458650867782885,\n",
       "  'macro_f1-score': 0.3501515618633997,\n",
       "  'balanced_accuracy': 0.36160721464274587,\n",
       "  'mcc': 0.5565804423027211}]"
      ]
     },
     "execution_count": 8,
     "metadata": {},
     "output_type": "execute_result"
    }
   ],
   "source": [
    "all_fold_results"
   ]
  }
 ],
 "metadata": {
  "kernelspec": {
   "display_name": "Python 3 (ipykernel)",
   "language": "python",
   "name": "python3"
  },
  "language_info": {
   "codemirror_mode": {
    "name": "ipython",
    "version": 3
   },
   "file_extension": ".py",
   "mimetype": "text/x-python",
   "name": "python",
   "nbconvert_exporter": "python",
   "pygments_lexer": "ipython3",
   "version": "3.11.9"
  }
 },
 "nbformat": 4,
 "nbformat_minor": 5
}
