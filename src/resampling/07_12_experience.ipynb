{
 "cells": [
  {
   "cell_type": "code",
   "execution_count": 1,
   "id": "c6902def-8805-4483-a546-4ab48a7b8953",
   "metadata": {},
   "outputs": [
    {
     "data": {
      "text/html": [
       "<div>\n",
       "<style scoped>\n",
       "    .dataframe tbody tr th:only-of-type {\n",
       "        vertical-align: middle;\n",
       "    }\n",
       "\n",
       "    .dataframe tbody tr th {\n",
       "        vertical-align: top;\n",
       "    }\n",
       "\n",
       "    .dataframe thead th {\n",
       "        text-align: right;\n",
       "    }\n",
       "</style>\n",
       "<table border=\"1\" class=\"dataframe\">\n",
       "  <thead>\n",
       "    <tr style=\"text-align: right;\">\n",
       "      <th></th>\n",
       "      <th>Inbound Message</th>\n",
       "      <th>Label</th>\n",
       "    </tr>\n",
       "  </thead>\n",
       "  <tbody>\n",
       "    <tr>\n",
       "      <th>0</th>\n",
       "      <td>login issue verified user details employee man...</td>\n",
       "      <td>0</td>\n",
       "    </tr>\n",
       "    <tr>\n",
       "      <th>1</th>\n",
       "      <td>outlook hello team meetings skype meetings etc...</td>\n",
       "      <td>0</td>\n",
       "    </tr>\n",
       "    <tr>\n",
       "      <th>2</th>\n",
       "      <td>cant log vpn cannot log vpn best</td>\n",
       "      <td>0</td>\n",
       "    </tr>\n",
       "    <tr>\n",
       "      <th>3</th>\n",
       "      <td>unable access tool page unable access tool page</td>\n",
       "      <td>0</td>\n",
       "    </tr>\n",
       "    <tr>\n",
       "      <th>4</th>\n",
       "      <td>skype error skype error</td>\n",
       "      <td>0</td>\n",
       "    </tr>\n",
       "    <tr>\n",
       "      <th>...</th>\n",
       "      <td>...</td>\n",
       "      <td>...</td>\n",
       "    </tr>\n",
       "    <tr>\n",
       "      <th>8449</th>\n",
       "      <td>emails coming mail good afternoon receiving em...</td>\n",
       "      <td>22</td>\n",
       "    </tr>\n",
       "    <tr>\n",
       "      <th>8450</th>\n",
       "      <td>telephony software issue telephony software issue</td>\n",
       "      <td>0</td>\n",
       "    </tr>\n",
       "    <tr>\n",
       "      <th>8451</th>\n",
       "      <td>vip windows password reset tifpdchb pedxruyf v...</td>\n",
       "      <td>0</td>\n",
       "    </tr>\n",
       "    <tr>\n",
       "      <th>8452</th>\n",
       "      <td>machine est funcionando unable access machine ...</td>\n",
       "      <td>44</td>\n",
       "    </tr>\n",
       "    <tr>\n",
       "      <th>8453</th>\n",
       "      <td>mehreren lassen sich verschiedene prgramdntyme...</td>\n",
       "      <td>49</td>\n",
       "    </tr>\n",
       "  </tbody>\n",
       "</table>\n",
       "<p>8454 rows × 2 columns</p>\n",
       "</div>"
      ],
      "text/plain": [
       "                                        Inbound Message  Label\n",
       "0     login issue verified user details employee man...      0\n",
       "1     outlook hello team meetings skype meetings etc...      0\n",
       "2                      cant log vpn cannot log vpn best      0\n",
       "3       unable access tool page unable access tool page      0\n",
       "4                               skype error skype error      0\n",
       "...                                                 ...    ...\n",
       "8449  emails coming mail good afternoon receiving em...     22\n",
       "8450  telephony software issue telephony software issue      0\n",
       "8451  vip windows password reset tifpdchb pedxruyf v...      0\n",
       "8452  machine est funcionando unable access machine ...     44\n",
       "8453  mehreren lassen sich verschiedene prgramdntyme...     49\n",
       "\n",
       "[8454 rows x 2 columns]"
      ]
     },
     "execution_count": 1,
     "metadata": {},
     "output_type": "execute_result"
    }
   ],
   "source": [
    "import pandas as pd\n",
    "data_path = \"../../data/open_source_8454_combine_short_description.csv\"\n",
    "df = pd.read_csv(data_path)\n",
    "# df_label_0 = df[df[\"Label\"] == 0]\n",
    "# df_label_0_to_drop = df_label_0.sample(n=3000, random_state=42)\n",
    "# df = df.drop(df_label_0_to_drop.index)\n",
    "df"
   ]
  },
  {
   "cell_type": "code",
   "execution_count": 2,
   "id": "8a523c41-9917-42ad-9920-021c2d567bf2",
   "metadata": {},
   "outputs": [
    {
     "name": "stderr",
     "output_type": "stream",
     "text": [
      "c:\\Users\\user\\AppData\\Local\\Programs\\Python\\Python310\\lib\\site-packages\\tqdm\\auto.py:21: TqdmWarning: IProgress not found. Please update jupyter and ipywidgets. See https://ipywidgets.readthedocs.io/en/stable/user_install.html\n",
      "  from .autonotebook import tqdm as notebook_tqdm\n"
     ]
    }
   ],
   "source": [
    "import sys\n",
    "import os\n",
    "sys.path.append(os.path.abspath('../ml_lib'))\n",
    "\n",
    "from config import *\n",
    "from experiment import run_kfold_experiment"
   ]
  },
  {
   "cell_type": "code",
   "execution_count": 3,
   "id": "0042fdaa-0d1e-4925-a831-51d69b623c54",
   "metadata": {},
   "outputs": [],
   "source": [
    "messages, labels = df['Inbound Message'].tolist(), df['Label'].tolist()"
   ]
  },
  {
   "cell_type": "code",
   "execution_count": 4,
   "id": "f9a1f7b1-5c13-4312-959c-24cae1a028e8",
   "metadata": {},
   "outputs": [
    {
     "name": "stdout",
     "output_type": "stream",
     "text": [
      "▶ Running: bert-base-uncased + cnn + ros\n",
      "tokenizer is bert-base-uncased\n",
      "Using device: cuda\n",
      "CUDA Available: True\n",
      "CUDA Device: NVIDIA GeForce RTX 5070 Ti\n",
      "Current GPU Memory Allocated: 0.00 GB\n",
      "Current GPU Memory Cached: 0.00 GB\n",
      "\n",
      "[Fold 1]\n",
      "Label distribution after resampling:\n",
      "  label 0: 2000\n",
      "  label 1: 200\n",
      "  label 2: 200\n",
      "  label 3: 200\n",
      "  label 4: 231\n",
      "  label 5: 200\n",
      "  label 6: 200\n",
      "  label 7: 200\n",
      "  label 8: 200\n",
      "  label 9: 200\n",
      "  label 10: 200\n",
      "  label 11: 200\n",
      "  label 12: 217\n",
      "  label 13: 200\n",
      "  label 14: 200\n",
      "  label 15: 200\n",
      "  label 16: 200\n",
      "  label 17: 260\n",
      "  label 18: 200\n",
      "  label 19: 200\n",
      "  label 20: 200\n",
      "  label 21: 200\n",
      "  label 22: 200\n",
      "  label 23: 200\n",
      "  label 24: 200\n",
      "  label 25: 200\n",
      "  label 26: 200\n",
      "  label 27: 200\n",
      "  label 28: 200\n",
      "  label 29: 200\n",
      "  label 30: 200\n",
      "  label 31: 200\n",
      "  label 32: 200\n",
      "  label 33: 200\n",
      "  label 34: 200\n",
      "  label 35: 200\n",
      "  label 36: 200\n",
      "  label 37: 200\n",
      "  label 38: 200\n",
      "  label 39: 200\n",
      "  label 40: 200\n",
      "  label 41: 200\n",
      "  label 42: 200\n",
      "  label 43: 200\n",
      "  label 44: 200\n",
      "  label 45: 200\n",
      "  label 46: 200\n",
      "  label 47: 595\n",
      "  label 48: 227\n",
      "  label 49: 200\n",
      "model is bert-base-uncased cnn\n"
     ]
    },
    {
     "name": "stderr",
     "output_type": "stream",
     "text": [
      "c:\\Users\\user\\AppData\\Local\\Programs\\Python\\Python310\\lib\\site-packages\\sklearn\\model_selection\\_split.py:805: UserWarning: The least populated class in y has only 7 members, which is less than n_splits=10.\n",
      "  warnings.warn(\n"
     ]
    },
    {
     "name": "stdout",
     "output_type": "stream",
     "text": [
      "Epoch 1/20\n"
     ]
    },
    {
     "name": "stderr",
     "output_type": "stream",
     "text": [
      "100%|██████████| 771/771 [01:05<00:00, 11.70it/s]\n",
      "c:\\Users\\user\\AppData\\Local\\Programs\\Python\\Python310\\lib\\site-packages\\sklearn\\metrics\\_classification.py:2524: UserWarning: y_pred contains classes not in y_true\n",
      "  warnings.warn(\"y_pred contains classes not in y_true\")\n"
     ]
    },
    {
     "name": "stdout",
     "output_type": "stream",
     "text": [
      "{'val_loss': 1.5418899081787973, 'val_accuracy': 0.5650118203309693, 'precision': 0.681650609579342, 'recall': 0.5650118203309693, 'f1-score': 0.595926411092785, 'macro_f1-score': 0.38426277523574304, 'balanced_accuracy': 0.4891496861989897, 'mcc': 0.4726257998271341, 'train_loss': 1.9985643483012256}\n",
      "Epoch 2/20\n"
     ]
    },
    {
     "name": "stderr",
     "output_type": "stream",
     "text": [
      "100%|██████████| 771/771 [01:05<00:00, 11.76it/s]\n"
     ]
    },
    {
     "name": "stdout",
     "output_type": "stream",
     "text": [
      "{'val_loss': 1.3199985769559752, 'val_accuracy': 0.6678486997635934, 'precision': 0.6528595450954139, 'recall': 0.6678486997635934, 'f1-score': 0.6457781581934555, 'macro_f1-score': 0.38192743269203505, 'balanced_accuracy': 0.39609258831129973, 'mcc': 0.5530362751099218, 'train_loss': 0.7237647705253615}\n",
      "Epoch 3/20\n"
     ]
    },
    {
     "name": "stderr",
     "output_type": "stream",
     "text": [
      "100%|██████████| 771/771 [01:05<00:00, 11.74it/s]\n"
     ]
    },
    {
     "name": "stdout",
     "output_type": "stream",
     "text": [
      "{'val_loss': 1.4388650149669286, 'val_accuracy': 0.6560283687943262, 'precision': 0.6970450328948935, 'recall': 0.6560283687943262, 'f1-score': 0.6582801217977449, 'macro_f1-score': 0.4273854808063454, 'balanced_accuracy': 0.4559672714022223, 'mcc': 0.5679272181193997, 'train_loss': 0.43316868170805944}\n",
      "Epoch 4/20\n"
     ]
    },
    {
     "name": "stderr",
     "output_type": "stream",
     "text": [
      "100%|██████████| 771/771 [01:05<00:00, 11.75it/s]\n"
     ]
    },
    {
     "name": "stdout",
     "output_type": "stream",
     "text": [
      "{'val_loss': 1.5280353089548506, 'val_accuracy': 0.648936170212766, 'precision': 0.6784324506049295, 'recall': 0.648936170212766, 'f1-score': 0.6533679193769798, 'macro_f1-score': 0.4069605557042663, 'balanced_accuracy': 0.43132241973501395, 'mcc': 0.5524112383968627, 'train_loss': 0.34140764983870986}\n",
      "Epoch 5/20\n"
     ]
    },
    {
     "name": "stderr",
     "output_type": "stream",
     "text": [
      "100%|██████████| 771/771 [01:05<00:00, 11.74it/s]\n"
     ]
    },
    {
     "name": "stdout",
     "output_type": "stream",
     "text": [
      "{'val_loss': 1.608683668779877, 'val_accuracy': 0.6702127659574468, 'precision': 0.6820841320237981, 'recall': 0.6702127659574468, 'f1-score': 0.6621833257909288, 'macro_f1-score': 0.4015886359494969, 'balanced_accuracy': 0.429075862359911, 'mcc': 0.5678540792401334, 'train_loss': 0.29116852316780717}\n",
      "Epoch 6/20\n"
     ]
    },
    {
     "name": "stderr",
     "output_type": "stream",
     "text": [
      "100%|██████████| 771/771 [01:05<00:00, 11.74it/s]\n"
     ]
    },
    {
     "name": "stdout",
     "output_type": "stream",
     "text": [
      "{'val_loss': 1.6862686220205054, 'val_accuracy': 0.6643026004728132, 'precision': 0.6684818840214601, 'recall': 0.6643026004728132, 'f1-score': 0.6550107214181381, 'macro_f1-score': 0.4293333004496416, 'balanced_accuracy': 0.44855553140770565, 'mcc': 0.5624940090667131, 'train_loss': 0.2582249323838667}\n",
      "Epoch 7/20\n"
     ]
    },
    {
     "name": "stderr",
     "output_type": "stream",
     "text": [
      "100%|██████████| 771/771 [01:05<00:00, 11.73it/s]\n"
     ]
    },
    {
     "name": "stdout",
     "output_type": "stream",
     "text": [
      "{'val_loss': 1.9483620839298896, 'val_accuracy': 0.6347517730496454, 'precision': 0.6618468399511733, 'recall': 0.6347517730496454, 'f1-score': 0.6225044817405584, 'macro_f1-score': 0.3624055421249696, 'balanced_accuracy': 0.39331221903210983, 'mcc': 0.5223508627175238, 'train_loss': 0.2380896031360677}\n",
      "Epoch 8/20\n"
     ]
    },
    {
     "name": "stderr",
     "output_type": "stream",
     "text": [
      "100%|██████████| 771/771 [01:05<00:00, 11.75it/s]\n"
     ]
    },
    {
     "name": "stdout",
     "output_type": "stream",
     "text": [
      "{'val_loss': 1.7381768845162302, 'val_accuracy': 0.6382978723404256, 'precision': 0.6649691102039231, 'recall': 0.6382978723404256, 'f1-score': 0.640739185326632, 'macro_f1-score': 0.38676711545548087, 'balanced_accuracy': 0.4195686492857251, 'mcc': 0.5321273811071888, 'train_loss': 0.244611079789802}\n",
      "Epoch 9/20\n"
     ]
    },
    {
     "name": "stderr",
     "output_type": "stream",
     "text": [
      "100%|██████████| 771/771 [01:05<00:00, 11.74it/s]\n"
     ]
    },
    {
     "name": "stdout",
     "output_type": "stream",
     "text": [
      "{'val_loss': 1.9914967249024589, 'val_accuracy': 0.6182033096926713, 'precision': 0.6895129944513904, 'recall': 0.6182033096926713, 'f1-score': 0.6339012874084945, 'macro_f1-score': 0.42498583220374264, 'balanced_accuracy': 0.46721025914079495, 'mcc': 0.5387682090366465, 'train_loss': 0.23114682344391208}\n",
      "Early stopping.\n",
      "\n",
      "[Fold 2]\n",
      "Label distribution after resampling:\n",
      "  label 0: 2000\n",
      "  label 1: 200\n",
      "  label 2: 200\n",
      "  label 3: 200\n",
      "  label 4: 231\n",
      "  label 5: 200\n",
      "  label 6: 200\n",
      "  label 7: 200\n",
      "  label 8: 200\n",
      "  label 9: 200\n",
      "  label 10: 200\n",
      "  label 11: 200\n",
      "  label 12: 217\n",
      "  label 13: 200\n",
      "  label 14: 200\n",
      "  label 15: 200\n",
      "  label 16: 200\n",
      "  label 17: 260\n",
      "  label 18: 200\n",
      "  label 19: 200\n",
      "  label 20: 200\n",
      "  label 21: 200\n",
      "  label 22: 200\n",
      "  label 23: 200\n",
      "  label 24: 200\n",
      "  label 25: 200\n",
      "  label 26: 200\n",
      "  label 27: 200\n",
      "  label 28: 200\n",
      "  label 29: 200\n",
      "  label 30: 200\n",
      "  label 31: 200\n",
      "  label 32: 200\n",
      "  label 33: 200\n",
      "  label 34: 200\n",
      "  label 35: 200\n",
      "  label 36: 200\n",
      "  label 37: 200\n",
      "  label 38: 200\n",
      "  label 39: 200\n",
      "  label 40: 200\n",
      "  label 41: 200\n",
      "  label 42: 200\n",
      "  label 43: 200\n",
      "  label 44: 200\n",
      "  label 45: 200\n",
      "  label 46: 200\n",
      "  label 47: 595\n",
      "  label 48: 227\n",
      "  label 49: 200\n",
      "model is bert-base-uncased cnn\n",
      "Epoch 1/20\n"
     ]
    },
    {
     "name": "stderr",
     "output_type": "stream",
     "text": [
      "100%|██████████| 771/771 [01:05<00:00, 11.73it/s]\n"
     ]
    },
    {
     "name": "stdout",
     "output_type": "stream",
     "text": [
      "{'val_loss': 1.432494321521723, 'val_accuracy': 0.6063829787234043, 'precision': 0.6331208486272554, 'recall': 0.6063829787234043, 'f1-score': 0.602743651188557, 'macro_f1-score': 0.32263322639869985, 'balanced_accuracy': 0.3575989621268429, 'mcc': 0.48792056535648126, 'train_loss': 1.94144265371074}\n",
      "Epoch 2/20\n"
     ]
    },
    {
     "name": "stderr",
     "output_type": "stream",
     "text": [
      "100%|██████████| 771/771 [01:05<00:00, 11.73it/s]\n"
     ]
    },
    {
     "name": "stdout",
     "output_type": "stream",
     "text": [
      "{'val_loss': 1.324293722521584, 'val_accuracy': 0.6193853427895981, 'precision': 0.6512646631999323, 'recall': 0.6193853427895981, 'f1-score': 0.6226425174542707, 'macro_f1-score': 0.3754248667521093, 'balanced_accuracy': 0.4205541084726321, 'mcc': 0.518466915104774, 'train_loss': 0.6953997772414088}\n",
      "Epoch 3/20\n"
     ]
    },
    {
     "name": "stderr",
     "output_type": "stream",
     "text": [
      "100%|██████████| 771/771 [01:05<00:00, 11.72it/s]\n"
     ]
    },
    {
     "name": "stdout",
     "output_type": "stream",
     "text": [
      "{'val_loss': 1.3937699058145847, 'val_accuracy': 0.6548463356973995, 'precision': 0.6848854920833367, 'recall': 0.6548463356973995, 'f1-score': 0.6492975029725144, 'macro_f1-score': 0.3715155921052526, 'balanced_accuracy': 0.39537684641164106, 'mcc': 0.5566496889476465, 'train_loss': 0.41699805771195164}\n",
      "Epoch 4/20\n"
     ]
    },
    {
     "name": "stderr",
     "output_type": "stream",
     "text": [
      "100%|██████████| 771/771 [01:05<00:00, 11.73it/s]\n"
     ]
    },
    {
     "name": "stdout",
     "output_type": "stream",
     "text": [
      "{'val_loss': 1.415329804397979, 'val_accuracy': 0.6666666666666666, 'precision': 0.6789072909312571, 'recall': 0.6666666666666666, 'f1-score': 0.6595865712349467, 'macro_f1-score': 0.3890018668093541, 'balanced_accuracy': 0.40782613648505184, 'mcc': 0.5698028379935872, 'train_loss': 0.32731961238592977}\n",
      "Epoch 5/20\n"
     ]
    },
    {
     "name": "stderr",
     "output_type": "stream",
     "text": [
      "100%|██████████| 771/771 [01:05<00:00, 11.72it/s]\n"
     ]
    },
    {
     "name": "stdout",
     "output_type": "stream",
     "text": [
      "{'val_loss': 1.4280043486154304, 'val_accuracy': 0.6666666666666666, 'precision': 0.653224274253207, 'recall': 0.6666666666666666, 'f1-score': 0.6474656095087775, 'macro_f1-score': 0.36874986452602054, 'balanced_accuracy': 0.38374816774322923, 'mcc': 0.5569148231196819, 'train_loss': 0.2699908091011427}\n",
      "Epoch 6/20\n"
     ]
    },
    {
     "name": "stderr",
     "output_type": "stream",
     "text": [
      "100%|██████████| 771/771 [01:05<00:00, 11.71it/s]\n"
     ]
    },
    {
     "name": "stdout",
     "output_type": "stream",
     "text": [
      "{'val_loss': 1.588029463336153, 'val_accuracy': 0.6595744680851063, 'precision': 0.6904323359428081, 'recall': 0.6595744680851063, 'f1-score': 0.6508879904022065, 'macro_f1-score': 0.38830616859111394, 'balanced_accuracy': 0.40371447359317747, 'mcc': 0.5573177956080168, 'train_loss': 0.2569205732303448}\n",
      "Epoch 7/20\n"
     ]
    },
    {
     "name": "stderr",
     "output_type": "stream",
     "text": [
      "100%|██████████| 771/771 [01:05<00:00, 11.70it/s]\n"
     ]
    },
    {
     "name": "stdout",
     "output_type": "stream",
     "text": [
      "{'val_loss': 1.6248948270419858, 'val_accuracy': 0.6784869976359338, 'precision': 0.7168804927045715, 'recall': 0.6784869976359338, 'f1-score': 0.6813934166000085, 'macro_f1-score': 0.4440567832940678, 'balanced_accuracy': 0.4538002204057134, 'mcc': 0.5899188838103457, 'train_loss': 0.2268624332635005}\n",
      "Epoch 8/20\n"
     ]
    },
    {
     "name": "stderr",
     "output_type": "stream",
     "text": [
      "100%|██████████| 771/771 [01:05<00:00, 11.70it/s]\n"
     ]
    },
    {
     "name": "stdout",
     "output_type": "stream",
     "text": [
      "{'val_loss': 1.6814789760787532, 'val_accuracy': 0.6477541371158393, 'precision': 0.6439579701527405, 'recall': 0.6477541371158393, 'f1-score': 0.6370889746015784, 'macro_f1-score': 0.3443925703172346, 'balanced_accuracy': 0.3608387869278528, 'mcc': 0.5382252633984472, 'train_loss': 0.22942921879427114}\n",
      "Epoch 9/20\n"
     ]
    },
    {
     "name": "stderr",
     "output_type": "stream",
     "text": [
      "100%|██████████| 771/771 [01:05<00:00, 11.71it/s]\n"
     ]
    },
    {
     "name": "stdout",
     "output_type": "stream",
     "text": [
      "{'val_loss': 1.7092570302621373, 'val_accuracy': 0.6371158392434988, 'precision': 0.6808030940500903, 'recall': 0.6371158392434988, 'f1-score': 0.6421536537541096, 'macro_f1-score': 0.3947217871127343, 'balanced_accuracy': 0.3999972969347601, 'mcc': 0.5413341252483904, 'train_loss': 0.22648987812189392}\n",
      "Epoch 10/20\n"
     ]
    },
    {
     "name": "stderr",
     "output_type": "stream",
     "text": [
      "100%|██████████| 771/771 [01:05<00:00, 11.70it/s]\n"
     ]
    },
    {
     "name": "stdout",
     "output_type": "stream",
     "text": [
      "{'val_loss': 1.8183281162999712, 'val_accuracy': 0.648936170212766, 'precision': 0.6429530055997604, 'recall': 0.648936170212766, 'f1-score': 0.6298929591740512, 'macro_f1-score': 0.36074275058043836, 'balanced_accuracy': 0.3526518629236529, 'mcc': 0.5292201055933817, 'train_loss': 0.21481331209736682}\n",
      "Early stopping.\n",
      "\n",
      "[Fold 3]\n",
      "Label distribution after resampling:\n",
      "  label 0: 2000\n",
      "  label 1: 200\n",
      "  label 2: 200\n",
      "  label 3: 200\n",
      "  label 4: 231\n",
      "  label 5: 200\n",
      "  label 6: 200\n",
      "  label 7: 200\n",
      "  label 8: 200\n",
      "  label 9: 200\n",
      "  label 10: 200\n",
      "  label 11: 200\n",
      "  label 12: 217\n",
      "  label 13: 200\n",
      "  label 14: 200\n",
      "  label 15: 200\n",
      "  label 16: 200\n",
      "  label 17: 260\n",
      "  label 18: 200\n",
      "  label 19: 200\n",
      "  label 20: 200\n",
      "  label 21: 200\n",
      "  label 22: 200\n",
      "  label 23: 200\n",
      "  label 24: 200\n",
      "  label 25: 200\n",
      "  label 26: 200\n",
      "  label 27: 200\n",
      "  label 28: 200\n",
      "  label 29: 200\n",
      "  label 30: 200\n",
      "  label 31: 200\n",
      "  label 32: 200\n",
      "  label 33: 200\n",
      "  label 34: 200\n",
      "  label 35: 200\n",
      "  label 36: 200\n",
      "  label 37: 200\n",
      "  label 38: 200\n",
      "  label 39: 200\n",
      "  label 40: 200\n",
      "  label 41: 200\n",
      "  label 42: 200\n",
      "  label 43: 200\n",
      "  label 44: 200\n",
      "  label 45: 200\n",
      "  label 46: 200\n",
      "  label 47: 595\n",
      "  label 48: 227\n",
      "  label 49: 200\n",
      "model is bert-base-uncased cnn\n",
      "Epoch 1/20\n"
     ]
    },
    {
     "name": "stderr",
     "output_type": "stream",
     "text": [
      "100%|██████████| 771/771 [01:05<00:00, 11.71it/s]\n"
     ]
    },
    {
     "name": "stdout",
     "output_type": "stream",
     "text": [
      "{'val_loss': 1.3742651613253467, 'val_accuracy': 0.6548463356973995, 'precision': 0.6549189594189277, 'recall': 0.6548463356973995, 'f1-score': 0.6300021120875295, 'macro_f1-score': 0.4008175914725826, 'balanced_accuracy': 0.42265556882902233, 'mcc': 0.5338867659876929, 'train_loss': 2.058451104218239}\n",
      "Epoch 2/20\n"
     ]
    },
    {
     "name": "stderr",
     "output_type": "stream",
     "text": [
      "100%|██████████| 771/771 [01:05<00:00, 11.70it/s]\n"
     ]
    },
    {
     "name": "stdout",
     "output_type": "stream",
     "text": [
      "{'val_loss': 1.244473841955077, 'val_accuracy': 0.6678486997635934, 'precision': 0.6655322236415928, 'recall': 0.6678486997635934, 'f1-score': 0.6534931820968968, 'macro_f1-score': 0.40718339135489245, 'balanced_accuracy': 0.42971891885622604, 'mcc': 0.5594822801173694, 'train_loss': 0.72018599269571}\n",
      "Epoch 3/20\n"
     ]
    },
    {
     "name": "stderr",
     "output_type": "stream",
     "text": [
      "100%|██████████| 771/771 [01:05<00:00, 11.70it/s]\n"
     ]
    },
    {
     "name": "stdout",
     "output_type": "stream",
     "text": [
      "{'val_loss': 1.5085035101422724, 'val_accuracy': 0.6477541371158393, 'precision': 0.6805007284351936, 'recall': 0.6477541371158393, 'f1-score': 0.6539531114686796, 'macro_f1-score': 0.41692823078523206, 'balanced_accuracy': 0.44193144789902716, 'mcc': 0.5497194195560087, 'train_loss': 0.42049466908441907}\n",
      "Epoch 4/20\n"
     ]
    },
    {
     "name": "stderr",
     "output_type": "stream",
     "text": [
      "100%|██████████| 771/771 [01:05<00:00, 11.70it/s]\n"
     ]
    },
    {
     "name": "stdout",
     "output_type": "stream",
     "text": [
      "{'val_loss': 1.5410248344799258, 'val_accuracy': 0.6619385342789598, 'precision': 0.677120213483107, 'recall': 0.6619385342789598, 'f1-score': 0.6588103095945337, 'macro_f1-score': 0.4228225456450327, 'balanced_accuracy': 0.4347728724076324, 'mcc': 0.5599166878947669, 'train_loss': 0.3228892466094437}\n",
      "Epoch 5/20\n"
     ]
    },
    {
     "name": "stderr",
     "output_type": "stream",
     "text": [
      "100%|██████████| 771/771 [01:05<00:00, 11.70it/s]\n"
     ]
    },
    {
     "name": "stdout",
     "output_type": "stream",
     "text": [
      "{'val_loss': 1.5623769034754555, 'val_accuracy': 0.6690307328605201, 'precision': 0.6938206400581826, 'recall': 0.6690307328605201, 'f1-score': 0.6642025273363418, 'macro_f1-score': 0.4177556975612929, 'balanced_accuracy': 0.41909510741862155, 'mcc': 0.5610798713936055, 'train_loss': 0.28907459522881357}\n",
      "Epoch 6/20\n"
     ]
    },
    {
     "name": "stderr",
     "output_type": "stream",
     "text": [
      "100%|██████████| 771/771 [01:05<00:00, 11.70it/s]\n"
     ]
    },
    {
     "name": "stdout",
     "output_type": "stream",
     "text": [
      "{'val_loss': 1.6644673876042635, 'val_accuracy': 0.6678486997635934, 'precision': 0.679458820129838, 'recall': 0.6678486997635934, 'f1-score': 0.6614790294083654, 'macro_f1-score': 0.41827780936519454, 'balanced_accuracy': 0.42953533347608897, 'mcc': 0.5625296044527299, 'train_loss': 0.24758922128941763}\n",
      "Epoch 7/20\n"
     ]
    },
    {
     "name": "stderr",
     "output_type": "stream",
     "text": [
      "100%|██████████| 771/771 [01:05<00:00, 11.70it/s]\n"
     ]
    },
    {
     "name": "stdout",
     "output_type": "stream",
     "text": [
      "{'val_loss': 1.734565313694612, 'val_accuracy': 0.6536643026004728, 'precision': 0.6753316579819637, 'recall': 0.6536643026004728, 'f1-score': 0.6515805064906189, 'macro_f1-score': 0.38194758685263186, 'balanced_accuracy': 0.3863950346117042, 'mcc': 0.5483068637004498, 'train_loss': 0.237382828646331}\n",
      "Early stopping.\n",
      "\n",
      "[Fold 4]\n",
      "Label distribution after resampling:\n",
      "  label 0: 2000\n",
      "  label 1: 200\n",
      "  label 2: 200\n",
      "  label 3: 200\n",
      "  label 4: 231\n",
      "  label 5: 200\n",
      "  label 6: 200\n",
      "  label 7: 200\n",
      "  label 8: 200\n",
      "  label 9: 200\n",
      "  label 10: 200\n",
      "  label 11: 200\n",
      "  label 12: 217\n",
      "  label 13: 200\n",
      "  label 14: 200\n",
      "  label 15: 200\n",
      "  label 16: 200\n",
      "  label 17: 260\n",
      "  label 18: 200\n",
      "  label 19: 200\n",
      "  label 20: 200\n",
      "  label 21: 200\n",
      "  label 22: 200\n",
      "  label 23: 200\n",
      "  label 24: 200\n",
      "  label 25: 200\n",
      "  label 26: 200\n",
      "  label 27: 200\n",
      "  label 28: 200\n",
      "  label 29: 200\n",
      "  label 30: 200\n",
      "  label 31: 200\n",
      "  label 32: 200\n",
      "  label 33: 200\n",
      "  label 34: 200\n",
      "  label 35: 200\n",
      "  label 36: 200\n",
      "  label 37: 200\n",
      "  label 38: 200\n",
      "  label 39: 200\n",
      "  label 40: 200\n",
      "  label 41: 200\n",
      "  label 42: 200\n",
      "  label 43: 200\n",
      "  label 44: 200\n",
      "  label 45: 200\n",
      "  label 46: 200\n",
      "  label 47: 595\n",
      "  label 48: 227\n",
      "  label 49: 200\n",
      "model is bert-base-uncased cnn\n",
      "Epoch 1/20\n"
     ]
    },
    {
     "name": "stderr",
     "output_type": "stream",
     "text": [
      "100%|██████████| 771/771 [01:05<00:00, 11.71it/s]\n"
     ]
    },
    {
     "name": "stdout",
     "output_type": "stream",
     "text": [
      "{'val_loss': 1.3954240657248587, 'val_accuracy': 0.6347517730496454, 'precision': 0.602274623298008, 'recall': 0.6347517730496454, 'f1-score': 0.5994130378901396, 'macro_f1-score': 0.3535762709458956, 'balanced_accuracy': 0.39652267801510566, 'mcc': 0.5038117160191644, 'train_loss': 2.02517751756036}\n",
      "Epoch 2/20\n"
     ]
    },
    {
     "name": "stderr",
     "output_type": "stream",
     "text": [
      "100%|██████████| 771/771 [01:05<00:00, 11.71it/s]\n"
     ]
    },
    {
     "name": "stdout",
     "output_type": "stream",
     "text": [
      "{'val_loss': 1.438679889687952, 'val_accuracy': 0.6028368794326241, 'precision': 0.6647809352432076, 'recall': 0.6028368794326241, 'f1-score': 0.6031798628187655, 'macro_f1-score': 0.3920663367910548, 'balanced_accuracy': 0.46448056545776173, 'mcc': 0.5065608807186441, 'train_loss': 0.7154892950612284}\n",
      "Epoch 3/20\n"
     ]
    },
    {
     "name": "stderr",
     "output_type": "stream",
     "text": [
      "100%|██████████| 771/771 [01:05<00:00, 11.71it/s]\n"
     ]
    },
    {
     "name": "stdout",
     "output_type": "stream",
     "text": [
      "{'val_loss': 1.4493914932574865, 'val_accuracy': 0.6524822695035462, 'precision': 0.6530201507305388, 'recall': 0.6524822695035462, 'f1-score': 0.6445156251391646, 'macro_f1-score': 0.4054871615991992, 'balanced_accuracy': 0.42380617641854856, 'mcc': 0.5438628094735347, 'train_loss': 0.42356041369986286}\n",
      "Epoch 4/20\n"
     ]
    },
    {
     "name": "stderr",
     "output_type": "stream",
     "text": [
      "100%|██████████| 771/771 [01:05<00:00, 11.71it/s]\n"
     ]
    },
    {
     "name": "stdout",
     "output_type": "stream",
     "text": [
      "{'val_loss': 1.4715894067062523, 'val_accuracy': 0.6773049645390071, 'precision': 0.668139081526242, 'recall': 0.6773049645390071, 'f1-score': 0.6628846141676538, 'macro_f1-score': 0.42021953124502415, 'balanced_accuracy': 0.4124935671963916, 'mcc': 0.5680659411455465, 'train_loss': 0.3170922934385705}\n",
      "Epoch 5/20\n"
     ]
    },
    {
     "name": "stderr",
     "output_type": "stream",
     "text": [
      "100%|██████████| 771/771 [01:05<00:00, 11.70it/s]\n"
     ]
    },
    {
     "name": "stdout",
     "output_type": "stream",
     "text": [
      "{'val_loss': 1.6095234043193314, 'val_accuracy': 0.6359338061465721, 'precision': 0.6562711718189013, 'recall': 0.6359338061465721, 'f1-score': 0.6311641805081997, 'macro_f1-score': 0.4155792379515782, 'balanced_accuracy': 0.4586457498065192, 'mcc': 0.5387153449587035, 'train_loss': 0.2737187187443457}\n",
      "Epoch 6/20\n"
     ]
    },
    {
     "name": "stderr",
     "output_type": "stream",
     "text": [
      "100%|██████████| 771/771 [01:05<00:00, 11.71it/s]\n"
     ]
    },
    {
     "name": "stdout",
     "output_type": "stream",
     "text": [
      "{'val_loss': 1.5608418676650748, 'val_accuracy': 0.6713947990543735, 'precision': 0.6793539225620101, 'recall': 0.6713947990543735, 'f1-score': 0.6668441232177921, 'macro_f1-score': 0.41842040949180115, 'balanced_accuracy': 0.4385310483563299, 'mcc': 0.5705808326349647, 'train_loss': 0.2591557149864714}\n",
      "Epoch 7/20\n"
     ]
    },
    {
     "name": "stderr",
     "output_type": "stream",
     "text": [
      "100%|██████████| 771/771 [01:05<00:00, 11.74it/s]\n"
     ]
    },
    {
     "name": "stdout",
     "output_type": "stream",
     "text": [
      "{'val_loss': 1.7094766137734898, 'val_accuracy': 0.6702127659574468, 'precision': 0.6794202757850548, 'recall': 0.6702127659574468, 'f1-score': 0.6632077241275091, 'macro_f1-score': 0.4218036985986327, 'balanced_accuracy': 0.4317144578000409, 'mcc': 0.5646886327846411, 'train_loss': 0.22606898405095116}\n",
      "Epoch 8/20\n"
     ]
    },
    {
     "name": "stderr",
     "output_type": "stream",
     "text": [
      "100%|██████████| 771/771 [01:05<00:00, 11.75it/s]\n"
     ]
    },
    {
     "name": "stdout",
     "output_type": "stream",
     "text": [
      "{'val_loss': 1.761851892156421, 'val_accuracy': 0.6548463356973995, 'precision': 0.6676466791142189, 'recall': 0.6548463356973995, 'f1-score': 0.6488507921229058, 'macro_f1-score': 0.4313972071098092, 'balanced_accuracy': 0.4240371221262228, 'mcc': 0.5508534619267671, 'train_loss': 0.22329284011473308}\n",
      "Epoch 9/20\n"
     ]
    },
    {
     "name": "stderr",
     "output_type": "stream",
     "text": [
      "100%|██████████| 771/771 [01:05<00:00, 11.74it/s]\n"
     ]
    },
    {
     "name": "stdout",
     "output_type": "stream",
     "text": [
      "{'val_loss': 1.7664302087055062, 'val_accuracy': 0.6560283687943262, 'precision': 0.6834961870660863, 'recall': 0.6560283687943262, 'f1-score': 0.6554439744914882, 'macro_f1-score': 0.40158019436557946, 'balanced_accuracy': 0.4296268536677132, 'mcc': 0.56036951113713, 'train_loss': 0.23424155726073365}\n",
      "Epoch 10/20\n"
     ]
    },
    {
     "name": "stderr",
     "output_type": "stream",
     "text": [
      "100%|██████████| 771/771 [01:05<00:00, 11.75it/s]\n"
     ]
    },
    {
     "name": "stdout",
     "output_type": "stream",
     "text": [
      "{'val_loss': 1.6985704966311186, 'val_accuracy': 0.6796690307328606, 'precision': 0.6776682795540779, 'recall': 0.6796690307328606, 'f1-score': 0.6670110284916827, 'macro_f1-score': 0.41349436687636626, 'balanced_accuracy': 0.43677932626490934, 'mcc': 0.5778605551432868, 'train_loss': 0.22119976906317265}\n",
      "Epoch 11/20\n"
     ]
    },
    {
     "name": "stderr",
     "output_type": "stream",
     "text": [
      "100%|██████████| 771/771 [01:05<00:00, 11.72it/s]\n"
     ]
    },
    {
     "name": "stdout",
     "output_type": "stream",
     "text": [
      "{'val_loss': 1.9490100218440003, 'val_accuracy': 0.6513002364066194, 'precision': 0.6712495417364326, 'recall': 0.6513002364066194, 'f1-score': 0.653535030826391, 'macro_f1-score': 0.3996761541282588, 'balanced_accuracy': 0.3924827856830975, 'mcc': 0.5458116426545201, 'train_loss': 0.1977664951377593}\n",
      "Early stopping.\n",
      "\n",
      "[Fold 5]\n",
      "Label distribution after resampling:\n",
      "  label 0: 2000\n",
      "  label 1: 200\n",
      "  label 2: 200\n",
      "  label 3: 200\n",
      "  label 4: 231\n",
      "  label 5: 200\n",
      "  label 6: 200\n",
      "  label 7: 200\n",
      "  label 8: 200\n",
      "  label 9: 200\n",
      "  label 10: 200\n",
      "  label 11: 200\n",
      "  label 12: 217\n",
      "  label 13: 200\n",
      "  label 14: 200\n",
      "  label 15: 200\n",
      "  label 16: 200\n",
      "  label 17: 260\n",
      "  label 18: 200\n",
      "  label 19: 200\n",
      "  label 20: 200\n",
      "  label 21: 200\n",
      "  label 22: 200\n",
      "  label 23: 200\n",
      "  label 24: 200\n",
      "  label 25: 200\n",
      "  label 26: 200\n",
      "  label 27: 200\n",
      "  label 28: 200\n",
      "  label 29: 200\n",
      "  label 30: 200\n",
      "  label 31: 200\n",
      "  label 32: 200\n",
      "  label 33: 200\n",
      "  label 34: 200\n",
      "  label 35: 200\n",
      "  label 36: 200\n",
      "  label 37: 200\n",
      "  label 38: 200\n",
      "  label 39: 200\n",
      "  label 40: 200\n",
      "  label 41: 200\n",
      "  label 42: 200\n",
      "  label 43: 200\n",
      "  label 44: 200\n",
      "  label 45: 200\n",
      "  label 46: 200\n",
      "  label 47: 595\n",
      "  label 48: 227\n",
      "  label 49: 200\n",
      "model is bert-base-uncased cnn\n",
      "Epoch 1/20\n"
     ]
    },
    {
     "name": "stderr",
     "output_type": "stream",
     "text": [
      "100%|██████████| 771/771 [01:05<00:00, 11.72it/s]\n"
     ]
    },
    {
     "name": "stdout",
     "output_type": "stream",
     "text": [
      "{'val_loss': 1.3617619006138928, 'val_accuracy': 0.6331360946745562, 'precision': 0.6149521618291416, 'recall': 0.6331360946745562, 'f1-score': 0.6050771434459562, 'macro_f1-score': 0.34599649285542705, 'balanced_accuracy': 0.3995534932786644, 'mcc': 0.5096637230541204, 'train_loss': 2.108618222747177}\n",
      "Epoch 2/20\n"
     ]
    },
    {
     "name": "stderr",
     "output_type": "stream",
     "text": [
      "100%|██████████| 771/771 [01:05<00:00, 11.72it/s]\n"
     ]
    },
    {
     "name": "stdout",
     "output_type": "stream",
     "text": [
      "{'val_loss': 1.3436341336313284, 'val_accuracy': 0.621301775147929, 'precision': 0.6858043727853691, 'recall': 0.621301775147929, 'f1-score': 0.628482001246723, 'macro_f1-score': 0.40395361945823505, 'balanced_accuracy': 0.44648619325301747, 'mcc': 0.5263742508264938, 'train_loss': 0.7510277538254722}\n",
      "Epoch 3/20\n"
     ]
    },
    {
     "name": "stderr",
     "output_type": "stream",
     "text": [
      "100%|██████████| 771/771 [01:05<00:00, 11.72it/s]\n"
     ]
    },
    {
     "name": "stdout",
     "output_type": "stream",
     "text": [
      "{'val_loss': 1.4217828129822354, 'val_accuracy': 0.6319526627218935, 'precision': 0.6577836685436234, 'recall': 0.6319526627218935, 'f1-score': 0.6332126597684758, 'macro_f1-score': 0.37586014226467057, 'balanced_accuracy': 0.39664690490000093, 'mcc': 0.5286567085516342, 'train_loss': 0.4422357326105295}\n",
      "Epoch 4/20\n"
     ]
    },
    {
     "name": "stderr",
     "output_type": "stream",
     "text": [
      "100%|██████████| 771/771 [01:05<00:00, 11.73it/s]\n"
     ]
    },
    {
     "name": "stdout",
     "output_type": "stream",
     "text": [
      "{'val_loss': 1.5246889709301714, 'val_accuracy': 0.6568047337278107, 'precision': 0.6723479451219457, 'recall': 0.6568047337278107, 'f1-score': 0.641658278811739, 'macro_f1-score': 0.3979265743215564, 'balanced_accuracy': 0.4243315823769764, 'mcc': 0.548100219840001, 'train_loss': 0.3196448918091358}\n",
      "Epoch 5/20\n"
     ]
    },
    {
     "name": "stderr",
     "output_type": "stream",
     "text": [
      "100%|██████████| 771/771 [01:05<00:00, 11.72it/s]\n"
     ]
    },
    {
     "name": "stdout",
     "output_type": "stream",
     "text": [
      "{'val_loss': 1.4880880668478191, 'val_accuracy': 0.6627218934911243, 'precision': 0.6908192487260096, 'recall': 0.6627218934911243, 'f1-score': 0.6544239500460446, 'macro_f1-score': 0.40961318275204556, 'balanced_accuracy': 0.4269452557559151, 'mcc': 0.5608603495688372, 'train_loss': 0.2870611737611499}\n",
      "Epoch 6/20\n"
     ]
    },
    {
     "name": "stderr",
     "output_type": "stream",
     "text": [
      "100%|██████████| 771/771 [01:05<00:00, 11.73it/s]\n"
     ]
    },
    {
     "name": "stdout",
     "output_type": "stream",
     "text": [
      "{'val_loss': 1.643937327670601, 'val_accuracy': 0.6556213017751479, 'precision': 0.659112290408134, 'recall': 0.6556213017751479, 'f1-score': 0.6404179133603705, 'macro_f1-score': 0.4060814210957243, 'balanced_accuracy': 0.42110356036746793, 'mcc': 0.5462652674291294, 'train_loss': 0.24638681895650402}\n",
      "Epoch 7/20\n"
     ]
    },
    {
     "name": "stderr",
     "output_type": "stream",
     "text": [
      "100%|██████████| 771/771 [01:05<00:00, 11.72it/s]\n"
     ]
    },
    {
     "name": "stdout",
     "output_type": "stream",
     "text": [
      "{'val_loss': 1.7647452534369703, 'val_accuracy': 0.6366863905325444, 'precision': 0.6436666384166881, 'recall': 0.6366863905325444, 'f1-score': 0.6264866244751854, 'macro_f1-score': 0.3356511774548674, 'balanced_accuracy': 0.36908701955724404, 'mcc': 0.5255763133299337, 'train_loss': 0.24392456074164343}\n",
      "Epoch 8/20\n"
     ]
    },
    {
     "name": "stderr",
     "output_type": "stream",
     "text": [
      "100%|██████████| 771/771 [01:05<00:00, 11.73it/s]\n"
     ]
    },
    {
     "name": "stdout",
     "output_type": "stream",
     "text": [
      "{'val_loss': 1.7495660157698505, 'val_accuracy': 0.663905325443787, 'precision': 0.6429939841126893, 'recall': 0.663905325443787, 'f1-score': 0.6333270392282985, 'macro_f1-score': 0.36909182502945304, 'balanced_accuracy': 0.37009001072548775, 'mcc': 0.5449371355981628, 'train_loss': 0.23878954982399533}\n",
      "Early stopping.\n",
      "\n",
      "[Fold 6]\n",
      "Label distribution after resampling:\n",
      "  label 0: 2000\n",
      "  label 1: 200\n",
      "  label 2: 200\n",
      "  label 3: 200\n",
      "  label 4: 231\n",
      "  label 5: 200\n",
      "  label 6: 200\n",
      "  label 7: 200\n",
      "  label 8: 200\n",
      "  label 9: 200\n",
      "  label 10: 200\n",
      "  label 11: 200\n",
      "  label 12: 217\n",
      "  label 13: 200\n",
      "  label 14: 200\n",
      "  label 15: 200\n",
      "  label 16: 200\n",
      "  label 17: 260\n",
      "  label 18: 200\n",
      "  label 19: 200\n",
      "  label 20: 200\n",
      "  label 21: 200\n",
      "  label 22: 200\n",
      "  label 23: 200\n",
      "  label 24: 200\n",
      "  label 25: 200\n",
      "  label 26: 200\n",
      "  label 27: 200\n",
      "  label 28: 200\n",
      "  label 29: 200\n",
      "  label 30: 200\n",
      "  label 31: 200\n",
      "  label 32: 200\n",
      "  label 33: 200\n",
      "  label 34: 200\n",
      "  label 35: 200\n",
      "  label 36: 200\n",
      "  label 37: 200\n",
      "  label 38: 200\n",
      "  label 39: 200\n",
      "  label 40: 200\n",
      "  label 41: 200\n",
      "  label 42: 200\n",
      "  label 43: 200\n",
      "  label 44: 200\n",
      "  label 45: 200\n",
      "  label 46: 200\n",
      "  label 47: 595\n",
      "  label 48: 227\n",
      "  label 49: 200\n",
      "model is bert-base-uncased cnn\n",
      "Epoch 1/20\n"
     ]
    },
    {
     "name": "stderr",
     "output_type": "stream",
     "text": [
      "100%|██████████| 771/771 [01:05<00:00, 11.73it/s]\n"
     ]
    },
    {
     "name": "stdout",
     "output_type": "stream",
     "text": [
      "{'val_loss': 1.5794850902737312, 'val_accuracy': 0.5443786982248521, 'precision': 0.612018593238438, 'recall': 0.5443786982248521, 'f1-score': 0.5535825903644386, 'macro_f1-score': 0.29631388521516894, 'balanced_accuracy': 0.3812575726686096, 'mcc': 0.4292801903942692, 'train_loss': 2.1129479139231524}\n",
      "Epoch 2/20\n"
     ]
    },
    {
     "name": "stderr",
     "output_type": "stream",
     "text": [
      "100%|██████████| 771/771 [01:05<00:00, 11.72it/s]\n"
     ]
    },
    {
     "name": "stdout",
     "output_type": "stream",
     "text": [
      "{'val_loss': 1.2818323913610206, 'val_accuracy': 0.6461538461538462, 'precision': 0.6639981696684633, 'recall': 0.6461538461538462, 'f1-score': 0.6373642826105642, 'macro_f1-score': 0.3550725654519393, 'balanced_accuracy': 0.37757839803587584, 'mcc': 0.532274361078161, 'train_loss': 0.758648543709215}\n",
      "Epoch 3/20\n"
     ]
    },
    {
     "name": "stderr",
     "output_type": "stream",
     "text": [
      "100%|██████████| 771/771 [01:05<00:00, 11.72it/s]\n"
     ]
    },
    {
     "name": "stdout",
     "output_type": "stream",
     "text": [
      "{'val_loss': 1.483448620112437, 'val_accuracy': 0.6177514792899408, 'precision': 0.6858968004337573, 'recall': 0.6177514792899408, 'f1-score': 0.6256793275366865, 'macro_f1-score': 0.35086312013063364, 'balanced_accuracy': 0.3825968371803528, 'mcc': 0.5188698171771609, 'train_loss': 0.4429464733177354}\n",
      "Epoch 4/20\n"
     ]
    },
    {
     "name": "stderr",
     "output_type": "stream",
     "text": [
      "100%|██████████| 771/771 [01:05<00:00, 11.72it/s]\n"
     ]
    },
    {
     "name": "stdout",
     "output_type": "stream",
     "text": [
      "{'val_loss': 1.416209579638715, 'val_accuracy': 0.6733727810650888, 'precision': 0.6649117503589186, 'recall': 0.6733727810650888, 'f1-score': 0.6564573012369596, 'macro_f1-score': 0.38143265583823616, 'balanced_accuracy': 0.40484468402027174, 'mcc': 0.5631389848505778, 'train_loss': 0.3343887273874496}\n",
      "Epoch 5/20\n"
     ]
    },
    {
     "name": "stderr",
     "output_type": "stream",
     "text": [
      "100%|██████████| 771/771 [01:05<00:00, 11.72it/s]\n"
     ]
    },
    {
     "name": "stdout",
     "output_type": "stream",
     "text": [
      "{'val_loss': 1.5179217733302206, 'val_accuracy': 0.6615384615384615, 'precision': 0.6904697341924081, 'recall': 0.6615384615384615, 'f1-score': 0.6572803153760127, 'macro_f1-score': 0.3864083212747822, 'balanced_accuracy': 0.42460387543678735, 'mcc': 0.5638435116931918, 'train_loss': 0.28670018085129995}\n",
      "Epoch 6/20\n"
     ]
    },
    {
     "name": "stderr",
     "output_type": "stream",
     "text": [
      "100%|██████████| 771/771 [01:05<00:00, 11.72it/s]\n"
     ]
    },
    {
     "name": "stdout",
     "output_type": "stream",
     "text": [
      "{'val_loss': 1.6046436631454613, 'val_accuracy': 0.6615384615384615, 'precision': 0.6891198774074487, 'recall': 0.6615384615384615, 'f1-score': 0.6566148251845124, 'macro_f1-score': 0.3876437401193793, 'balanced_accuracy': 0.41944450951509876, 'mcc': 0.5653762151345452, 'train_loss': 0.2431337341863116}\n",
      "Epoch 7/20\n"
     ]
    },
    {
     "name": "stderr",
     "output_type": "stream",
     "text": [
      "100%|██████████| 771/771 [01:05<00:00, 11.73it/s]\n"
     ]
    },
    {
     "name": "stdout",
     "output_type": "stream",
     "text": [
      "{'val_loss': 1.5616829001678612, 'val_accuracy': 0.6875739644970414, 'precision': 0.6702510453007456, 'recall': 0.6875739644970414, 'f1-score': 0.6704844016035701, 'macro_f1-score': 0.3730641432164301, 'balanced_accuracy': 0.3674660875212394, 'mcc': 0.5827440192854701, 'train_loss': 0.2419995114735138}\n",
      "Epoch 8/20\n"
     ]
    },
    {
     "name": "stderr",
     "output_type": "stream",
     "text": [
      "100%|██████████| 771/771 [01:05<00:00, 11.72it/s]\n"
     ]
    },
    {
     "name": "stdout",
     "output_type": "stream",
     "text": [
      "{'val_loss': 1.6585977881584528, 'val_accuracy': 0.650887573964497, 'precision': 0.6868908989916601, 'recall': 0.650887573964497, 'f1-score': 0.6520116790787772, 'macro_f1-score': 0.36187839682971384, 'balanced_accuracy': 0.3921910101839911, 'mcc': 0.5442637582065121, 'train_loss': 0.26056157096999366}\n",
      "Epoch 9/20\n"
     ]
    },
    {
     "name": "stderr",
     "output_type": "stream",
     "text": [
      "100%|██████████| 771/771 [01:05<00:00, 11.72it/s]\n"
     ]
    },
    {
     "name": "stdout",
     "output_type": "stream",
     "text": [
      "{'val_loss': 1.7473916163984335, 'val_accuracy': 0.6402366863905326, 'precision': 0.6699038690388862, 'recall': 0.6402366863905326, 'f1-score': 0.642639658569008, 'macro_f1-score': 0.3546397385527444, 'balanced_accuracy': 0.3916359049284949, 'mcc': 0.5409876665476623, 'train_loss': 0.21913289554684692}\n",
      "Early stopping.\n",
      "\n",
      "[Fold 7]\n",
      "Label distribution after resampling:\n",
      "  label 0: 2000\n",
      "  label 1: 200\n",
      "  label 2: 200\n",
      "  label 3: 200\n",
      "  label 4: 232\n",
      "  label 5: 200\n",
      "  label 6: 200\n",
      "  label 7: 200\n",
      "  label 8: 200\n",
      "  label 9: 200\n",
      "  label 10: 200\n",
      "  label 11: 200\n",
      "  label 12: 217\n",
      "  label 13: 200\n",
      "  label 14: 200\n",
      "  label 15: 200\n",
      "  label 16: 200\n",
      "  label 17: 260\n",
      "  label 18: 200\n",
      "  label 19: 200\n",
      "  label 20: 200\n",
      "  label 21: 200\n",
      "  label 22: 200\n",
      "  label 23: 200\n",
      "  label 24: 200\n",
      "  label 25: 200\n",
      "  label 26: 200\n",
      "  label 27: 200\n",
      "  label 28: 200\n",
      "  label 29: 200\n",
      "  label 30: 200\n",
      "  label 31: 200\n",
      "  label 32: 200\n",
      "  label 33: 200\n",
      "  label 34: 200\n",
      "  label 35: 200\n",
      "  label 36: 200\n",
      "  label 37: 200\n",
      "  label 38: 200\n",
      "  label 39: 200\n",
      "  label 40: 200\n",
      "  label 41: 200\n",
      "  label 42: 200\n",
      "  label 43: 200\n",
      "  label 44: 200\n",
      "  label 45: 200\n",
      "  label 46: 200\n",
      "  label 47: 594\n",
      "  label 48: 227\n",
      "  label 49: 200\n",
      "model is bert-base-uncased cnn\n",
      "Epoch 1/20\n"
     ]
    },
    {
     "name": "stderr",
     "output_type": "stream",
     "text": [
      "100%|██████████| 771/771 [01:05<00:00, 11.73it/s]\n"
     ]
    },
    {
     "name": "stdout",
     "output_type": "stream",
     "text": [
      "{'val_loss': 1.384280320608391, 'val_accuracy': 0.5881656804733728, 'precision': 0.6754653021257462, 'recall': 0.5881656804733728, 'f1-score': 0.6088215752913538, 'macro_f1-score': 0.4126285491502091, 'balanced_accuracy': 0.46936028960558707, 'mcc': 0.4837506620676996, 'train_loss': 1.9822125951681}\n",
      "Epoch 2/20\n"
     ]
    },
    {
     "name": "stderr",
     "output_type": "stream",
     "text": [
      "100%|██████████| 771/771 [01:05<00:00, 11.73it/s]\n"
     ]
    },
    {
     "name": "stdout",
     "output_type": "stream",
     "text": [
      "{'val_loss': 1.2779638772865511, 'val_accuracy': 0.650887573964497, 'precision': 0.6957638169018937, 'recall': 0.650887573964497, 'f1-score': 0.6479333636865245, 'macro_f1-score': 0.43623278827082806, 'balanced_accuracy': 0.49709467891463477, 'mcc': 0.5543176347140939, 'train_loss': 0.7164535139688567}\n",
      "Epoch 3/20\n"
     ]
    },
    {
     "name": "stderr",
     "output_type": "stream",
     "text": [
      "100%|██████████| 771/771 [01:05<00:00, 11.73it/s]\n"
     ]
    },
    {
     "name": "stdout",
     "output_type": "stream",
     "text": [
      "{'val_loss': 1.306028147913375, 'val_accuracy': 0.659171597633136, 'precision': 0.6938479902577583, 'recall': 0.659171597633136, 'f1-score': 0.6610270573262012, 'macro_f1-score': 0.46760476074702223, 'balanced_accuracy': 0.4900945007416436, 'mcc': 0.5561145924787959, 'train_loss': 0.4222674309753181}\n",
      "Epoch 4/20\n"
     ]
    },
    {
     "name": "stderr",
     "output_type": "stream",
     "text": [
      "100%|██████████| 771/771 [01:05<00:00, 11.72it/s]\n"
     ]
    },
    {
     "name": "stdout",
     "output_type": "stream",
     "text": [
      "{'val_loss': 1.3989406632927228, 'val_accuracy': 0.6686390532544378, 'precision': 0.6877970188301894, 'recall': 0.6686390532544378, 'f1-score': 0.6578599829381965, 'macro_f1-score': 0.425886131412764, 'balanced_accuracy': 0.45714007664682726, 'mcc': 0.570558839465385, 'train_loss': 0.32074965270364175}\n",
      "Epoch 5/20\n"
     ]
    },
    {
     "name": "stderr",
     "output_type": "stream",
     "text": [
      "100%|██████████| 771/771 [01:05<00:00, 11.73it/s]\n"
     ]
    },
    {
     "name": "stdout",
     "output_type": "stream",
     "text": [
      "{'val_loss': 1.554296130841633, 'val_accuracy': 0.650887573964497, 'precision': 0.6896430378320755, 'recall': 0.650887573964497, 'f1-score': 0.6572711174979197, 'macro_f1-score': 0.4570274825956253, 'balanced_accuracy': 0.5025754287046642, 'mcc': 0.5666314278307245, 'train_loss': 0.2597777121277567}\n",
      "Epoch 6/20\n"
     ]
    },
    {
     "name": "stderr",
     "output_type": "stream",
     "text": [
      "100%|██████████| 771/771 [01:05<00:00, 11.72it/s]\n"
     ]
    },
    {
     "name": "stdout",
     "output_type": "stream",
     "text": [
      "{'val_loss': 1.6205705421150856, 'val_accuracy': 0.6662721893491125, 'precision': 0.702262227519797, 'recall': 0.6662721893491125, 'f1-score': 0.6661816923718679, 'macro_f1-score': 0.43310701686916053, 'balanced_accuracy': 0.46943094774481786, 'mcc': 0.5748119431319824, 'train_loss': 0.24866062675538714}\n",
      "Early stopping.\n",
      "\n",
      "[Fold 8]\n",
      "Label distribution after resampling:\n",
      "  label 0: 2000\n",
      "  label 1: 200\n",
      "  label 2: 200\n",
      "  label 3: 200\n",
      "  label 4: 232\n",
      "  label 5: 200\n",
      "  label 6: 200\n",
      "  label 7: 200\n",
      "  label 8: 200\n",
      "  label 9: 200\n",
      "  label 10: 200\n",
      "  label 11: 200\n",
      "  label 12: 216\n",
      "  label 13: 200\n",
      "  label 14: 200\n",
      "  label 15: 200\n",
      "  label 16: 200\n",
      "  label 17: 260\n",
      "  label 18: 200\n",
      "  label 19: 200\n",
      "  label 20: 200\n",
      "  label 21: 200\n",
      "  label 22: 200\n",
      "  label 23: 200\n",
      "  label 24: 200\n",
      "  label 25: 200\n",
      "  label 26: 200\n",
      "  label 27: 200\n",
      "  label 28: 200\n",
      "  label 29: 200\n",
      "  label 30: 200\n",
      "  label 31: 200\n",
      "  label 32: 200\n",
      "  label 33: 200\n",
      "  label 34: 200\n",
      "  label 35: 200\n",
      "  label 36: 200\n",
      "  label 37: 200\n",
      "  label 38: 200\n",
      "  label 39: 200\n",
      "  label 40: 200\n",
      "  label 41: 200\n",
      "  label 42: 200\n",
      "  label 43: 200\n",
      "  label 44: 200\n",
      "  label 45: 200\n",
      "  label 46: 200\n",
      "  label 47: 595\n",
      "  label 48: 226\n",
      "  label 49: 200\n",
      "model is bert-base-uncased cnn\n",
      "Epoch 1/20\n"
     ]
    },
    {
     "name": "stderr",
     "output_type": "stream",
     "text": [
      "100%|██████████| 771/771 [01:05<00:00, 11.74it/s]\n"
     ]
    },
    {
     "name": "stdout",
     "output_type": "stream",
     "text": [
      "{'val_loss': 1.2816310288771144, 'val_accuracy': 0.6402366863905326, 'precision': 0.6614123612446869, 'recall': 0.6402366863905326, 'f1-score': 0.6306012340049079, 'macro_f1-score': 0.38008660457165966, 'balanced_accuracy': 0.42669819014031546, 'mcc': 0.5246632636955485, 'train_loss': 1.9795467897611834}\n",
      "Epoch 2/20\n"
     ]
    },
    {
     "name": "stderr",
     "output_type": "stream",
     "text": [
      "100%|██████████| 771/771 [01:05<00:00, 11.72it/s]\n"
     ]
    },
    {
     "name": "stdout",
     "output_type": "stream",
     "text": [
      "{'val_loss': 1.2840276681027323, 'val_accuracy': 0.6627218934911243, 'precision': 0.6880361162023871, 'recall': 0.6627218934911243, 'f1-score': 0.6586587423090176, 'macro_f1-score': 0.3933119145345943, 'balanced_accuracy': 0.4021181192155948, 'mcc': 0.5532526361876818, 'train_loss': 0.7093309211108626}\n",
      "Epoch 3/20\n"
     ]
    },
    {
     "name": "stderr",
     "output_type": "stream",
     "text": [
      "100%|██████████| 771/771 [01:05<00:00, 11.72it/s]\n"
     ]
    },
    {
     "name": "stdout",
     "output_type": "stream",
     "text": [
      "{'val_loss': 1.3528404438270714, 'val_accuracy': 0.6579881656804734, 'precision': 0.6735833615521923, 'recall': 0.6579881656804734, 'f1-score': 0.6485313799172191, 'macro_f1-score': 0.4051631704243681, 'balanced_accuracy': 0.4064733877366064, 'mcc': 0.5557289003787543, 'train_loss': 0.4229264024611268}\n",
      "Epoch 4/20\n"
     ]
    },
    {
     "name": "stderr",
     "output_type": "stream",
     "text": [
      "100%|██████████| 771/771 [01:05<00:00, 11.72it/s]\n"
     ]
    },
    {
     "name": "stdout",
     "output_type": "stream",
     "text": [
      "{'val_loss': 1.4513938747486979, 'val_accuracy': 0.6568047337278107, 'precision': 0.6788662606815931, 'recall': 0.6568047337278107, 'f1-score': 0.6573721519284605, 'macro_f1-score': 0.40523010771258255, 'balanced_accuracy': 0.4407703488116797, 'mcc': 0.5599151920803654, 'train_loss': 0.32043173027390326}\n",
      "Epoch 5/20\n"
     ]
    },
    {
     "name": "stderr",
     "output_type": "stream",
     "text": [
      "100%|██████████| 771/771 [01:05<00:00, 11.72it/s]\n"
     ]
    },
    {
     "name": "stdout",
     "output_type": "stream",
     "text": [
      "{'val_loss': 1.398146632707344, 'val_accuracy': 0.685207100591716, 'precision': 0.6816623165958059, 'recall': 0.685207100591716, 'f1-score': 0.6681454789373201, 'macro_f1-score': 0.41753933861581766, 'balanced_accuracy': 0.43452874468306674, 'mcc': 0.5877242635121557, 'train_loss': 0.27882248320859576}\n",
      "Epoch 6/20\n"
     ]
    },
    {
     "name": "stderr",
     "output_type": "stream",
     "text": [
      "100%|██████████| 771/771 [01:05<00:00, 11.74it/s]\n"
     ]
    },
    {
     "name": "stdout",
     "output_type": "stream",
     "text": [
      "{'val_loss': 1.6202205200240296, 'val_accuracy': 0.6544378698224852, 'precision': 0.662491961130575, 'recall': 0.6544378698224852, 'f1-score': 0.6452877439853244, 'macro_f1-score': 0.3792605055727332, 'balanced_accuracy': 0.3976947677926082, 'mcc': 0.5453605419069927, 'train_loss': 0.2527272717480037}\n",
      "Epoch 7/20\n"
     ]
    },
    {
     "name": "stderr",
     "output_type": "stream",
     "text": [
      "100%|██████████| 771/771 [01:05<00:00, 11.72it/s]\n"
     ]
    },
    {
     "name": "stdout",
     "output_type": "stream",
     "text": [
      "{'val_loss': 1.6357955820155594, 'val_accuracy': 0.6710059171597633, 'precision': 0.6775194030576663, 'recall': 0.6710059171597633, 'f1-score': 0.6573946354179678, 'macro_f1-score': 0.39832957369512967, 'balanced_accuracy': 0.4247304336985841, 'mcc': 0.5669816361559589, 'train_loss': 0.24147221859092746}\n",
      "Epoch 8/20\n"
     ]
    },
    {
     "name": "stderr",
     "output_type": "stream",
     "text": [
      "100%|██████████| 771/771 [01:05<00:00, 11.73it/s]\n"
     ]
    },
    {
     "name": "stdout",
     "output_type": "stream",
     "text": [
      "{'val_loss': 1.7332341777828504, 'val_accuracy': 0.6674556213017752, 'precision': 0.6843310730311427, 'recall': 0.6674556213017752, 'f1-score': 0.6581221663945824, 'macro_f1-score': 0.40850749157107896, 'balanced_accuracy': 0.4481674305167821, 'mcc': 0.5648480692195184, 'train_loss': 0.21618811920890404}\n",
      "Early stopping.\n",
      "\n",
      "[Fold 9]\n",
      "Label distribution after resampling:\n",
      "  label 0: 2000\n",
      "  label 1: 200\n",
      "  label 2: 200\n",
      "  label 3: 200\n",
      "  label 4: 232\n",
      "  label 5: 200\n",
      "  label 6: 200\n",
      "  label 7: 200\n",
      "  label 8: 200\n",
      "  label 9: 200\n",
      "  label 10: 200\n",
      "  label 11: 200\n",
      "  label 12: 217\n",
      "  label 13: 200\n",
      "  label 14: 200\n",
      "  label 15: 200\n",
      "  label 16: 200\n",
      "  label 17: 261\n",
      "  label 18: 200\n",
      "  label 19: 200\n",
      "  label 20: 200\n",
      "  label 21: 200\n",
      "  label 22: 200\n",
      "  label 23: 200\n",
      "  label 24: 200\n",
      "  label 25: 200\n",
      "  label 26: 200\n",
      "  label 27: 200\n",
      "  label 28: 200\n",
      "  label 29: 200\n",
      "  label 30: 200\n",
      "  label 31: 200\n",
      "  label 32: 200\n",
      "  label 33: 200\n",
      "  label 34: 200\n",
      "  label 35: 200\n",
      "  label 36: 200\n",
      "  label 37: 200\n",
      "  label 38: 200\n",
      "  label 39: 200\n",
      "  label 40: 200\n",
      "  label 41: 200\n",
      "  label 42: 200\n",
      "  label 43: 200\n",
      "  label 44: 200\n",
      "  label 45: 200\n",
      "  label 46: 200\n",
      "  label 47: 595\n",
      "  label 48: 226\n",
      "  label 49: 200\n",
      "model is bert-base-uncased cnn\n",
      "Epoch 1/20\n"
     ]
    },
    {
     "name": "stderr",
     "output_type": "stream",
     "text": [
      "100%|██████████| 771/771 [01:05<00:00, 11.72it/s]\n"
     ]
    },
    {
     "name": "stdout",
     "output_type": "stream",
     "text": [
      "{'val_loss': 1.372956097126007, 'val_accuracy': 0.6153846153846154, 'precision': 0.654907151729286, 'recall': 0.6153846153846154, 'f1-score': 0.6139707155142, 'macro_f1-score': 0.3688217103524759, 'balanced_accuracy': 0.4285833165903078, 'mcc': 0.5009227630185723, 'train_loss': 1.9484536764918599}\n",
      "Epoch 2/20\n"
     ]
    },
    {
     "name": "stderr",
     "output_type": "stream",
     "text": [
      "100%|██████████| 771/771 [01:05<00:00, 11.72it/s]\n"
     ]
    },
    {
     "name": "stdout",
     "output_type": "stream",
     "text": [
      "{'val_loss': 1.2676691874018255, 'val_accuracy': 0.6615384615384615, 'precision': 0.7114792173534833, 'recall': 0.6615384615384615, 'f1-score': 0.6674219345987135, 'macro_f1-score': 0.41296545945819046, 'balanced_accuracy': 0.4311820426242367, 'mcc': 0.5686533106871559, 'train_loss': 0.6846120026054394}\n",
      "Epoch 3/20\n"
     ]
    },
    {
     "name": "stderr",
     "output_type": "stream",
     "text": [
      "100%|██████████| 771/771 [01:05<00:00, 11.73it/s]\n"
     ]
    },
    {
     "name": "stdout",
     "output_type": "stream",
     "text": [
      "{'val_loss': 1.4009225323515118, 'val_accuracy': 0.6366863905325444, 'precision': 0.6942880069102825, 'recall': 0.6366863905325444, 'f1-score': 0.6487109033267112, 'macro_f1-score': 0.4013551854133264, 'balanced_accuracy': 0.42977716968798035, 'mcc': 0.5469767535154615, 'train_loss': 0.42331572255329863}\n",
      "Epoch 4/20\n"
     ]
    },
    {
     "name": "stderr",
     "output_type": "stream",
     "text": [
      "100%|██████████| 771/771 [01:05<00:00, 11.73it/s]\n"
     ]
    },
    {
     "name": "stdout",
     "output_type": "stream",
     "text": [
      "{'val_loss': 1.5045949788588397, 'val_accuracy': 0.6497041420118344, 'precision': 0.6877214517408031, 'recall': 0.6497041420118344, 'f1-score': 0.6576172794363521, 'macro_f1-score': 0.4055144893583962, 'balanced_accuracy': 0.439711621306491, 'mcc': 0.5593200714888823, 'train_loss': 0.30696677361360125}\n",
      "Epoch 5/20\n"
     ]
    },
    {
     "name": "stderr",
     "output_type": "stream",
     "text": [
      "100%|██████████| 771/771 [01:05<00:00, 11.74it/s]\n"
     ]
    },
    {
     "name": "stdout",
     "output_type": "stream",
     "text": [
      "{'val_loss': 1.5484187872904651, 'val_accuracy': 0.6544378698224852, 'precision': 0.6726100205835883, 'recall': 0.6544378698224852, 'f1-score': 0.652531342389348, 'macro_f1-score': 0.3912899207649966, 'balanced_accuracy': 0.42206268382770723, 'mcc': 0.5592840355999378, 'train_loss': 0.26070866107834373}\n",
      "Early stopping.\n",
      "\n",
      "[Fold 10]\n",
      "Label distribution after resampling:\n",
      "  label 0: 2000\n",
      "  label 1: 200\n",
      "  label 2: 200\n",
      "  label 3: 200\n",
      "  label 4: 231\n",
      "  label 5: 200\n",
      "  label 6: 200\n",
      "  label 7: 200\n",
      "  label 8: 200\n",
      "  label 9: 200\n",
      "  label 10: 200\n",
      "  label 11: 200\n",
      "  label 12: 217\n",
      "  label 13: 200\n",
      "  label 14: 200\n",
      "  label 15: 200\n",
      "  label 16: 200\n",
      "  label 17: 260\n",
      "  label 18: 200\n",
      "  label 19: 200\n",
      "  label 20: 200\n",
      "  label 21: 200\n",
      "  label 22: 200\n",
      "  label 23: 200\n",
      "  label 24: 200\n",
      "  label 25: 200\n",
      "  label 26: 200\n",
      "  label 27: 200\n",
      "  label 28: 200\n",
      "  label 29: 200\n",
      "  label 30: 200\n",
      "  label 31: 200\n",
      "  label 32: 200\n",
      "  label 33: 200\n",
      "  label 34: 200\n",
      "  label 35: 200\n",
      "  label 36: 200\n",
      "  label 37: 200\n",
      "  label 38: 200\n",
      "  label 39: 200\n",
      "  label 40: 200\n",
      "  label 41: 200\n",
      "  label 42: 200\n",
      "  label 43: 200\n",
      "  label 44: 200\n",
      "  label 45: 200\n",
      "  label 46: 200\n",
      "  label 47: 595\n",
      "  label 48: 227\n",
      "  label 49: 200\n",
      "model is bert-base-uncased cnn\n",
      "Epoch 1/20\n"
     ]
    },
    {
     "name": "stderr",
     "output_type": "stream",
     "text": [
      "100%|██████████| 771/771 [01:05<00:00, 11.72it/s]\n"
     ]
    },
    {
     "name": "stdout",
     "output_type": "stream",
     "text": [
      "{'val_loss': 1.36348465253722, 'val_accuracy': 0.6272189349112426, 'precision': 0.6735886170264376, 'recall': 0.6272189349112426, 'f1-score': 0.6234213051617064, 'macro_f1-score': 0.36346859726264064, 'balanced_accuracy': 0.381839255070323, 'mcc': 0.509851132888315, 'train_loss': 2.0052228981650755}\n",
      "Epoch 2/20\n"
     ]
    },
    {
     "name": "stderr",
     "output_type": "stream",
     "text": [
      "100%|██████████| 771/771 [01:05<00:00, 11.72it/s]\n"
     ]
    },
    {
     "name": "stdout",
     "output_type": "stream",
     "text": [
      "{'val_loss': 1.2821725179564278, 'val_accuracy': 0.6698224852071006, 'precision': 0.6526748109165168, 'recall': 0.6698224852071006, 'f1-score': 0.6410968585780689, 'macro_f1-score': 0.3812312962208566, 'balanced_accuracy': 0.38261916360862186, 'mcc': 0.5549011656164139, 'train_loss': 0.7156373529505328}\n",
      "Epoch 3/20\n"
     ]
    },
    {
     "name": "stderr",
     "output_type": "stream",
     "text": [
      "100%|██████████| 771/771 [01:05<00:00, 11.72it/s]\n"
     ]
    },
    {
     "name": "stdout",
     "output_type": "stream",
     "text": [
      "{'val_loss': 1.4364038210994792, 'val_accuracy': 0.6331360946745562, 'precision': 0.6724187858127466, 'recall': 0.6331360946745562, 'f1-score': 0.6348217744371712, 'macro_f1-score': 0.3700671741744255, 'balanced_accuracy': 0.3929673073698018, 'mcc': 0.5391289658520934, 'train_loss': 0.4300027362490133}\n",
      "Epoch 4/20\n"
     ]
    },
    {
     "name": "stderr",
     "output_type": "stream",
     "text": [
      "100%|██████████| 771/771 [01:05<00:00, 11.73it/s]\n"
     ]
    },
    {
     "name": "stdout",
     "output_type": "stream",
     "text": [
      "{'val_loss': 1.4580136998644415, 'val_accuracy': 0.6615384615384615, 'precision': 0.6826150154319861, 'recall': 0.6615384615384615, 'f1-score': 0.6594383619008652, 'macro_f1-score': 0.4138937925001452, 'balanced_accuracy': 0.43372891970012883, 'mcc': 0.5628499114225872, 'train_loss': 0.319474407889664}\n",
      "Epoch 5/20\n"
     ]
    },
    {
     "name": "stderr",
     "output_type": "stream",
     "text": [
      "100%|██████████| 771/771 [01:05<00:00, 11.73it/s]\n"
     ]
    },
    {
     "name": "stdout",
     "output_type": "stream",
     "text": [
      "{'val_loss': 1.5094372989996425, 'val_accuracy': 0.6674556213017752, 'precision': 0.6930775586099484, 'recall': 0.6674556213017752, 'f1-score': 0.6634192684649752, 'macro_f1-score': 0.44047187538495813, 'balanced_accuracy': 0.46514971540600947, 'mcc': 0.5703163226959335, 'train_loss': 0.2699590180789141}\n",
      "Epoch 6/20\n"
     ]
    },
    {
     "name": "stderr",
     "output_type": "stream",
     "text": [
      "100%|██████████| 771/771 [01:05<00:00, 11.72it/s]\n"
     ]
    },
    {
     "name": "stdout",
     "output_type": "stream",
     "text": [
      "{'val_loss': 1.7133414509161464, 'val_accuracy': 0.6437869822485207, 'precision': 0.6794067881936088, 'recall': 0.6437869822485207, 'f1-score': 0.6494968577587732, 'macro_f1-score': 0.38923700970763286, 'balanced_accuracy': 0.4166797205559332, 'mcc': 0.5496274047248578, 'train_loss': 0.2667066253245785}\n",
      "Epoch 7/20\n"
     ]
    },
    {
     "name": "stderr",
     "output_type": "stream",
     "text": [
      "100%|██████████| 771/771 [01:05<00:00, 11.73it/s]\n"
     ]
    },
    {
     "name": "stdout",
     "output_type": "stream",
     "text": [
      "{'val_loss': 1.716286912279309, 'val_accuracy': 0.6532544378698225, 'precision': 0.6849364400950003, 'recall': 0.6532544378698225, 'f1-score': 0.6581564732027998, 'macro_f1-score': 0.41719056079548106, 'balanced_accuracy': 0.44835527954576154, 'mcc': 0.5631880568389246, 'train_loss': 0.22624342050584548}\n",
      "Epoch 8/20\n"
     ]
    },
    {
     "name": "stderr",
     "output_type": "stream",
     "text": [
      "100%|██████████| 771/771 [01:05<00:00, 11.72it/s]\n"
     ]
    },
    {
     "name": "stdout",
     "output_type": "stream",
     "text": [
      "{'val_loss': 1.7367355249962717, 'val_accuracy': 0.6686390532544378, 'precision': 0.6921185300798204, 'recall': 0.6686390532544378, 'f1-score': 0.6678545370742509, 'macro_f1-score': 0.42274088417055766, 'balanced_accuracy': 0.4446668113520491, 'mcc': 0.5765211921678183, 'train_loss': 0.22664545448382184}\n",
      "Early stopping.\n",
      "\n",
      " === bert-base-uncased + cnn + ros Final 10-fold Cross-Validation Results ===\n",
      "Total time: 5495 seconds\n",
      "Total time: 1 hrs 31 mins 35 secs\n",
      "val_loss: 1.5188\n",
      "val_accuracy: 0.6657\n",
      "precision: 0.6890\n",
      "recall: 0.6657\n",
      "f1-score: 0.6615\n",
      "macro_f1-score: 0.4263\n",
      "balanced_accuracy: 0.4429\n",
      "mcc: 0.5672\n",
      "train_loss: 0.3217\n",
      "▶ Running: bert-base-uncased + bilstm + ros\n",
      "tokenizer is bert-base-uncased\n",
      "Using device: cuda\n",
      "CUDA Available: True\n",
      "CUDA Device: NVIDIA GeForce RTX 5070 Ti\n",
      "Current GPU Memory Allocated: 0.02 GB\n",
      "Current GPU Memory Cached: 3.16 GB\n",
      "\n",
      "[Fold 1]\n",
      "Label distribution after resampling:\n",
      "  label 0: 2000\n",
      "  label 1: 200\n",
      "  label 2: 200\n",
      "  label 3: 200\n",
      "  label 4: 231\n",
      "  label 5: 200\n",
      "  label 6: 200\n",
      "  label 7: 200\n",
      "  label 8: 200\n",
      "  label 9: 200\n",
      "  label 10: 200\n",
      "  label 11: 200\n",
      "  label 12: 217\n",
      "  label 13: 200\n",
      "  label 14: 200\n",
      "  label 15: 200\n",
      "  label 16: 200\n",
      "  label 17: 260\n",
      "  label 18: 200\n",
      "  label 19: 200\n",
      "  label 20: 200\n",
      "  label 21: 200\n",
      "  label 22: 200\n",
      "  label 23: 200\n",
      "  label 24: 200\n",
      "  label 25: 200\n",
      "  label 26: 200\n",
      "  label 27: 200\n",
      "  label 28: 200\n",
      "  label 29: 200\n",
      "  label 30: 200\n",
      "  label 31: 200\n",
      "  label 32: 200\n",
      "  label 33: 200\n",
      "  label 34: 200\n",
      "  label 35: 200\n",
      "  label 36: 200\n",
      "  label 37: 200\n",
      "  label 38: 200\n",
      "  label 39: 200\n",
      "  label 40: 200\n",
      "  label 41: 200\n",
      "  label 42: 200\n",
      "  label 43: 200\n",
      "  label 44: 200\n",
      "  label 45: 200\n",
      "  label 46: 200\n",
      "  label 47: 595\n",
      "  label 48: 227\n",
      "  label 49: 200\n",
      "model is bert-base-uncased bilstm\n"
     ]
    },
    {
     "name": "stderr",
     "output_type": "stream",
     "text": [
      "c:\\Users\\user\\AppData\\Local\\Programs\\Python\\Python310\\lib\\site-packages\\sklearn\\model_selection\\_split.py:805: UserWarning: The least populated class in y has only 7 members, which is less than n_splits=10.\n",
      "  warnings.warn(\n"
     ]
    },
    {
     "name": "stdout",
     "output_type": "stream",
     "text": [
      "Epoch 1/20\n"
     ]
    },
    {
     "name": "stderr",
     "output_type": "stream",
     "text": [
      "100%|██████████| 771/771 [01:11<00:00, 10.79it/s]\n"
     ]
    },
    {
     "name": "stdout",
     "output_type": "stream",
     "text": [
      "{'val_loss': 1.573304831981659, 'val_accuracy': 0.5957446808510638, 'precision': 0.5579502513607095, 'recall': 0.5957446808510638, 'f1-score': 0.5550173183358401, 'macro_f1-score': 0.31314626231319115, 'balanced_accuracy': 0.3708776592822084, 'mcc': 0.45437110647702733, 'train_loss': 2.254778916424505}\n",
      "Epoch 2/20\n"
     ]
    },
    {
     "name": "stderr",
     "output_type": "stream",
     "text": [
      "100%|██████████| 771/771 [01:11<00:00, 10.80it/s]\n",
      "c:\\Users\\user\\AppData\\Local\\Programs\\Python\\Python310\\lib\\site-packages\\sklearn\\metrics\\_classification.py:2524: UserWarning: y_pred contains classes not in y_true\n",
      "  warnings.warn(\"y_pred contains classes not in y_true\")\n"
     ]
    },
    {
     "name": "stdout",
     "output_type": "stream",
     "text": [
      "{'val_loss': 1.3699360815983899, 'val_accuracy': 0.6335697399527187, 'precision': 0.6981320600904789, 'recall': 0.6335697399527187, 'f1-score': 0.6439075036247988, 'macro_f1-score': 0.3948288180197288, 'balanced_accuracy': 0.41943275937849434, 'mcc': 0.5225283786455528, 'train_loss': 0.9647511660704817}\n",
      "Epoch 3/20\n"
     ]
    },
    {
     "name": "stderr",
     "output_type": "stream",
     "text": [
      "100%|██████████| 771/771 [01:11<00:00, 10.78it/s]\n"
     ]
    },
    {
     "name": "stdout",
     "output_type": "stream",
     "text": [
      "{'val_loss': 1.3351305891882699, 'val_accuracy': 0.6773049645390071, 'precision': 0.6835211219591225, 'recall': 0.6773049645390071, 'f1-score': 0.6539810264126236, 'macro_f1-score': 0.3956955092821826, 'balanced_accuracy': 0.39408083456658494, 'mcc': 0.5632928046933781, 'train_loss': 0.60668369018788}\n",
      "Epoch 4/20\n"
     ]
    },
    {
     "name": "stderr",
     "output_type": "stream",
     "text": [
      "100%|██████████| 771/771 [01:11<00:00, 10.81it/s]\n"
     ]
    },
    {
     "name": "stdout",
     "output_type": "stream",
     "text": [
      "{'val_loss': 1.4076958028775342, 'val_accuracy': 0.6477541371158393, 'precision': 0.6790047608901038, 'recall': 0.6477541371158393, 'f1-score': 0.6455394273987894, 'macro_f1-score': 0.3897340064736224, 'balanced_accuracy': 0.4132399251868696, 'mcc': 0.5407891052000976, 'train_loss': 0.44250868790421816}\n",
      "Epoch 5/20\n"
     ]
    },
    {
     "name": "stderr",
     "output_type": "stream",
     "text": [
      "100%|██████████| 771/771 [01:11<00:00, 10.79it/s]\n"
     ]
    },
    {
     "name": "stdout",
     "output_type": "stream",
     "text": [
      "{'val_loss': 1.5092016188603528, 'val_accuracy': 0.6737588652482269, 'precision': 0.6869893411842338, 'recall': 0.6737588652482269, 'f1-score': 0.6530442969358116, 'macro_f1-score': 0.38877043462630384, 'balanced_accuracy': 0.37368167051067835, 'mcc': 0.5588369890504312, 'train_loss': 0.3463020366042775}\n",
      "Epoch 6/20\n"
     ]
    },
    {
     "name": "stderr",
     "output_type": "stream",
     "text": [
      "100%|██████████| 771/771 [01:11<00:00, 10.80it/s]\n"
     ]
    },
    {
     "name": "stdout",
     "output_type": "stream",
     "text": [
      "{'val_loss': 1.5692877876308728, 'val_accuracy': 0.6524822695035462, 'precision': 0.6939889153178115, 'recall': 0.6524822695035462, 'f1-score': 0.6619295585902092, 'macro_f1-score': 0.4019095040074032, 'balanced_accuracy': 0.4289980541884148, 'mcc': 0.5577944717213994, 'train_loss': 0.2995858399364155}\n",
      "Epoch 7/20\n"
     ]
    },
    {
     "name": "stderr",
     "output_type": "stream",
     "text": [
      "100%|██████████| 771/771 [01:11<00:00, 10.79it/s]\n"
     ]
    },
    {
     "name": "stdout",
     "output_type": "stream",
     "text": [
      "{'val_loss': 1.5743981549200021, 'val_accuracy': 0.6808510638297872, 'precision': 0.6791504894660654, 'recall': 0.6808510638297872, 'f1-score': 0.6689969854175369, 'macro_f1-score': 0.4119573877017746, 'balanced_accuracy': 0.4208484972913908, 'mcc': 0.5761551598192952, 'train_loss': 0.26288102412579434}\n",
      "Epoch 8/20\n"
     ]
    },
    {
     "name": "stderr",
     "output_type": "stream",
     "text": [
      "100%|██████████| 771/771 [01:11<00:00, 10.78it/s]\n"
     ]
    },
    {
     "name": "stdout",
     "output_type": "stream",
     "text": [
      "{'val_loss': 1.7000630655378666, 'val_accuracy': 0.6394799054373522, 'precision': 0.6630526994962788, 'recall': 0.6394799054373522, 'f1-score': 0.6376081785404965, 'macro_f1-score': 0.37635675267494406, 'balanced_accuracy': 0.3812009178392113, 'mcc': 0.5383512507945282, 'train_loss': 0.25042882905644875}\n",
      "Epoch 9/20\n"
     ]
    },
    {
     "name": "stderr",
     "output_type": "stream",
     "text": [
      "100%|██████████| 771/771 [01:11<00:00, 10.79it/s]\n"
     ]
    },
    {
     "name": "stdout",
     "output_type": "stream",
     "text": [
      "{'val_loss': 1.6624893816012256, 'val_accuracy': 0.6583924349881797, 'precision': 0.6946358096265408, 'recall': 0.6583924349881797, 'f1-score': 0.6642000438214873, 'macro_f1-score': 0.4330441929983147, 'balanced_accuracy': 0.466554683943316, 'mcc': 0.5639841120723308, 'train_loss': 0.26155278671064186}\n",
      "Epoch 10/20\n"
     ]
    },
    {
     "name": "stderr",
     "output_type": "stream",
     "text": [
      "100%|██████████| 771/771 [01:11<00:00, 10.77it/s]\n"
     ]
    },
    {
     "name": "stdout",
     "output_type": "stream",
     "text": [
      "{'val_loss': 1.6574613980527193, 'val_accuracy': 0.6631205673758865, 'precision': 0.6649097117921726, 'recall': 0.6631205673758865, 'f1-score': 0.6499166064248579, 'macro_f1-score': 0.3859635544196638, 'balanced_accuracy': 0.37984507261536316, 'mcc': 0.5525928952764515, 'train_loss': 0.23544544748292726}\n",
      "Epoch 11/20\n"
     ]
    },
    {
     "name": "stderr",
     "output_type": "stream",
     "text": [
      "100%|██████████| 771/771 [01:11<00:00, 10.78it/s]\n"
     ]
    },
    {
     "name": "stdout",
     "output_type": "stream",
     "text": [
      "{'val_loss': 1.7240863048805382, 'val_accuracy': 0.6737588652482269, 'precision': 0.6827385045280044, 'recall': 0.6737588652482269, 'f1-score': 0.6700681708060183, 'macro_f1-score': 0.4206218309568494, 'balanced_accuracy': 0.449006142518921, 'mcc': 0.577160376154068, 'train_loss': 0.20780286515353855}\n",
      "Epoch 12/20\n"
     ]
    },
    {
     "name": "stderr",
     "output_type": "stream",
     "text": [
      "100%|██████████| 771/771 [01:11<00:00, 10.80it/s]\n"
     ]
    },
    {
     "name": "stdout",
     "output_type": "stream",
     "text": [
      "{'val_loss': 1.7947538382602188, 'val_accuracy': 0.6548463356973995, 'precision': 0.691277410941296, 'recall': 0.6548463356973995, 'f1-score': 0.6588408715313502, 'macro_f1-score': 0.41753092983566825, 'balanced_accuracy': 0.4384826107322828, 'mcc': 0.5608576781077439, 'train_loss': 0.2272929148053951}\n",
      "Early stopping.\n",
      "\n",
      "[Fold 2]\n",
      "Label distribution after resampling:\n",
      "  label 0: 2000\n",
      "  label 1: 200\n",
      "  label 2: 200\n",
      "  label 3: 200\n",
      "  label 4: 231\n",
      "  label 5: 200\n",
      "  label 6: 200\n",
      "  label 7: 200\n",
      "  label 8: 200\n",
      "  label 9: 200\n",
      "  label 10: 200\n",
      "  label 11: 200\n",
      "  label 12: 217\n",
      "  label 13: 200\n",
      "  label 14: 200\n",
      "  label 15: 200\n",
      "  label 16: 200\n",
      "  label 17: 260\n",
      "  label 18: 200\n",
      "  label 19: 200\n",
      "  label 20: 200\n",
      "  label 21: 200\n",
      "  label 22: 200\n",
      "  label 23: 200\n",
      "  label 24: 200\n",
      "  label 25: 200\n",
      "  label 26: 200\n",
      "  label 27: 200\n",
      "  label 28: 200\n",
      "  label 29: 200\n",
      "  label 30: 200\n",
      "  label 31: 200\n",
      "  label 32: 200\n",
      "  label 33: 200\n",
      "  label 34: 200\n",
      "  label 35: 200\n",
      "  label 36: 200\n",
      "  label 37: 200\n",
      "  label 38: 200\n",
      "  label 39: 200\n",
      "  label 40: 200\n",
      "  label 41: 200\n",
      "  label 42: 200\n",
      "  label 43: 200\n",
      "  label 44: 200\n",
      "  label 45: 200\n",
      "  label 46: 200\n",
      "  label 47: 595\n",
      "  label 48: 227\n",
      "  label 49: 200\n",
      "model is bert-base-uncased bilstm\n",
      "Epoch 1/20\n"
     ]
    },
    {
     "name": "stderr",
     "output_type": "stream",
     "text": [
      "100%|██████████| 771/771 [01:11<00:00, 10.77it/s]\n"
     ]
    },
    {
     "name": "stdout",
     "output_type": "stream",
     "text": [
      "{'val_loss': 1.5436130413469278, 'val_accuracy': 0.58274231678487, 'precision': 0.5824884435827056, 'recall': 0.58274231678487, 'f1-score': 0.5687318003341149, 'macro_f1-score': 0.3220429625386956, 'balanced_accuracy': 0.4213099537594425, 'mcc': 0.46247651402002987, 'train_loss': 2.260090253619059}\n",
      "Epoch 2/20\n"
     ]
    },
    {
     "name": "stderr",
     "output_type": "stream",
     "text": [
      "100%|██████████| 771/771 [01:11<00:00, 10.79it/s]\n"
     ]
    },
    {
     "name": "stdout",
     "output_type": "stream",
     "text": [
      "{'val_loss': 1.3194208994226635, 'val_accuracy': 0.6418439716312057, 'precision': 0.6698437371453956, 'recall': 0.6418439716312057, 'f1-score': 0.6291864729139206, 'macro_f1-score': 0.40487148755435454, 'balanced_accuracy': 0.4331354463649906, 'mcc': 0.5252818237822595, 'train_loss': 0.9897533156335276}\n",
      "Epoch 3/20\n"
     ]
    },
    {
     "name": "stderr",
     "output_type": "stream",
     "text": [
      "100%|██████████| 771/771 [01:11<00:00, 10.77it/s]\n"
     ]
    },
    {
     "name": "stdout",
     "output_type": "stream",
     "text": [
      "{'val_loss': 1.3572465996697265, 'val_accuracy': 0.6536643026004728, 'precision': 0.6832351695650833, 'recall': 0.6536643026004728, 'f1-score': 0.6426867807135704, 'macro_f1-score': 0.37356622986065346, 'balanced_accuracy': 0.3781428860017319, 'mcc': 0.5423091833130478, 'train_loss': 0.6331771990059647}\n",
      "Epoch 4/20\n"
     ]
    },
    {
     "name": "stderr",
     "output_type": "stream",
     "text": [
      "100%|██████████| 771/771 [01:11<00:00, 10.79it/s]\n"
     ]
    },
    {
     "name": "stdout",
     "output_type": "stream",
     "text": [
      "{'val_loss': 1.4079820187586658, 'val_accuracy': 0.6583924349881797, 'precision': 0.6531226227148214, 'recall': 0.6583924349881797, 'f1-score': 0.6444924460232628, 'macro_f1-score': 0.38237575444408817, 'balanced_accuracy': 0.37056623425093355, 'mcc': 0.543311069258494, 'train_loss': 0.4404912181633456}\n",
      "Epoch 5/20\n"
     ]
    },
    {
     "name": "stderr",
     "output_type": "stream",
     "text": [
      "100%|██████████| 771/771 [01:11<00:00, 10.80it/s]\n"
     ]
    },
    {
     "name": "stdout",
     "output_type": "stream",
     "text": [
      "{'val_loss': 1.4022189963538692, 'val_accuracy': 0.6643026004728132, 'precision': 0.6655072107028182, 'recall': 0.6643026004728132, 'f1-score': 0.6572918639296708, 'macro_f1-score': 0.3861908064462532, 'balanced_accuracy': 0.39039393893039703, 'mcc': 0.5594474435270835, 'train_loss': 0.35897345250006163}\n",
      "Early stopping.\n",
      "\n",
      "[Fold 3]\n",
      "Label distribution after resampling:\n",
      "  label 0: 2000\n",
      "  label 1: 200\n",
      "  label 2: 200\n",
      "  label 3: 200\n",
      "  label 4: 231\n",
      "  label 5: 200\n",
      "  label 6: 200\n",
      "  label 7: 200\n",
      "  label 8: 200\n",
      "  label 9: 200\n",
      "  label 10: 200\n",
      "  label 11: 200\n",
      "  label 12: 217\n",
      "  label 13: 200\n",
      "  label 14: 200\n",
      "  label 15: 200\n",
      "  label 16: 200\n",
      "  label 17: 260\n",
      "  label 18: 200\n",
      "  label 19: 200\n",
      "  label 20: 200\n",
      "  label 21: 200\n",
      "  label 22: 200\n",
      "  label 23: 200\n",
      "  label 24: 200\n",
      "  label 25: 200\n",
      "  label 26: 200\n",
      "  label 27: 200\n",
      "  label 28: 200\n",
      "  label 29: 200\n",
      "  label 30: 200\n",
      "  label 31: 200\n",
      "  label 32: 200\n",
      "  label 33: 200\n",
      "  label 34: 200\n",
      "  label 35: 200\n",
      "  label 36: 200\n",
      "  label 37: 200\n",
      "  label 38: 200\n",
      "  label 39: 200\n",
      "  label 40: 200\n",
      "  label 41: 200\n",
      "  label 42: 200\n",
      "  label 43: 200\n",
      "  label 44: 200\n",
      "  label 45: 200\n",
      "  label 46: 200\n",
      "  label 47: 595\n",
      "  label 48: 227\n",
      "  label 49: 200\n",
      "model is bert-base-uncased bilstm\n",
      "Epoch 1/20\n"
     ]
    },
    {
     "name": "stderr",
     "output_type": "stream",
     "text": [
      "100%|██████████| 771/771 [01:11<00:00, 10.79it/s]\n"
     ]
    },
    {
     "name": "stdout",
     "output_type": "stream",
     "text": [
      "{'val_loss': 1.6052173679729678, 'val_accuracy': 0.5791962174940898, 'precision': 0.602300127959944, 'recall': 0.5791962174940898, 'f1-score': 0.5752772627714375, 'macro_f1-score': 0.3342873401937473, 'balanced_accuracy': 0.4056389119746423, 'mcc': 0.4617413989015, 'train_loss': 2.283732370643764}\n",
      "Epoch 2/20\n"
     ]
    },
    {
     "name": "stderr",
     "output_type": "stream",
     "text": [
      "100%|██████████| 771/771 [01:11<00:00, 10.79it/s]\n"
     ]
    },
    {
     "name": "stdout",
     "output_type": "stream",
     "text": [
      "{'val_loss': 1.4139886745866739, 'val_accuracy': 0.6111111111111112, 'precision': 0.6368707604217608, 'recall': 0.6111111111111112, 'f1-score': 0.6081178406876566, 'macro_f1-score': 0.3870887603193054, 'balanced_accuracy': 0.45656225984877863, 'mcc': 0.4958496268146943, 'train_loss': 1.0122219610152388}\n",
      "Epoch 3/20\n"
     ]
    },
    {
     "name": "stderr",
     "output_type": "stream",
     "text": [
      "100%|██████████| 771/771 [01:11<00:00, 10.79it/s]\n"
     ]
    },
    {
     "name": "stdout",
     "output_type": "stream",
     "text": [
      "{'val_loss': 1.3770092877576936, 'val_accuracy': 0.6501182033096927, 'precision': 0.6601267687888921, 'recall': 0.6501182033096927, 'f1-score': 0.6409774599281926, 'macro_f1-score': 0.42519783773387965, 'balanced_accuracy': 0.46526531404058696, 'mcc': 0.539477492085368, 'train_loss': 0.6390822982529103}\n",
      "Epoch 4/20\n"
     ]
    },
    {
     "name": "stderr",
     "output_type": "stream",
     "text": [
      "100%|██████████| 771/771 [01:11<00:00, 10.78it/s]\n"
     ]
    },
    {
     "name": "stdout",
     "output_type": "stream",
     "text": [
      "{'val_loss': 1.4839482841626652, 'val_accuracy': 0.6229314420803782, 'precision': 0.6690636744116687, 'recall': 0.6229314420803782, 'f1-score': 0.6333714671752947, 'macro_f1-score': 0.41362929231024476, 'balanced_accuracy': 0.46774937083940726, 'mcc': 0.5227896322395307, 'train_loss': 0.44447763161745824}\n",
      "Epoch 5/20\n"
     ]
    },
    {
     "name": "stderr",
     "output_type": "stream",
     "text": [
      "100%|██████████| 771/771 [01:11<00:00, 10.81it/s]\n"
     ]
    },
    {
     "name": "stdout",
     "output_type": "stream",
     "text": [
      "{'val_loss': 1.6189441096107915, 'val_accuracy': 0.6063829787234043, 'precision': 0.6746671392393782, 'recall': 0.6063829787234043, 'f1-score': 0.624248744542251, 'macro_f1-score': 0.3981069378493438, 'balanced_accuracy': 0.4228988132605183, 'mcc': 0.5136516103087801, 'train_loss': 0.3705344852760685}\n",
      "Epoch 6/20\n"
     ]
    },
    {
     "name": "stderr",
     "output_type": "stream",
     "text": [
      "100%|██████████| 771/771 [01:11<00:00, 10.78it/s]\n"
     ]
    },
    {
     "name": "stdout",
     "output_type": "stream",
     "text": [
      "{'val_loss': 1.5374175686881226, 'val_accuracy': 0.6548463356973995, 'precision': 0.6711800502699774, 'recall': 0.6548463356973995, 'f1-score': 0.6517852243322187, 'macro_f1-score': 0.42153130092012275, 'balanced_accuracy': 0.4561161524914947, 'mcc': 0.5556307523503121, 'train_loss': 0.32447303032041097}\n",
      "Early stopping.\n",
      "\n",
      "[Fold 4]\n",
      "Label distribution after resampling:\n",
      "  label 0: 2000\n",
      "  label 1: 200\n",
      "  label 2: 200\n",
      "  label 3: 200\n",
      "  label 4: 231\n",
      "  label 5: 200\n",
      "  label 6: 200\n",
      "  label 7: 200\n",
      "  label 8: 200\n",
      "  label 9: 200\n",
      "  label 10: 200\n",
      "  label 11: 200\n",
      "  label 12: 217\n",
      "  label 13: 200\n",
      "  label 14: 200\n",
      "  label 15: 200\n",
      "  label 16: 200\n",
      "  label 17: 260\n",
      "  label 18: 200\n",
      "  label 19: 200\n",
      "  label 20: 200\n",
      "  label 21: 200\n",
      "  label 22: 200\n",
      "  label 23: 200\n",
      "  label 24: 200\n",
      "  label 25: 200\n",
      "  label 26: 200\n",
      "  label 27: 200\n",
      "  label 28: 200\n",
      "  label 29: 200\n",
      "  label 30: 200\n",
      "  label 31: 200\n",
      "  label 32: 200\n",
      "  label 33: 200\n",
      "  label 34: 200\n",
      "  label 35: 200\n",
      "  label 36: 200\n",
      "  label 37: 200\n",
      "  label 38: 200\n",
      "  label 39: 200\n",
      "  label 40: 200\n",
      "  label 41: 200\n",
      "  label 42: 200\n",
      "  label 43: 200\n",
      "  label 44: 200\n",
      "  label 45: 200\n",
      "  label 46: 200\n",
      "  label 47: 595\n",
      "  label 48: 227\n",
      "  label 49: 200\n",
      "model is bert-base-uncased bilstm\n",
      "Epoch 1/20\n"
     ]
    },
    {
     "name": "stderr",
     "output_type": "stream",
     "text": [
      "100%|██████████| 771/771 [01:11<00:00, 10.79it/s]\n"
     ]
    },
    {
     "name": "stdout",
     "output_type": "stream",
     "text": [
      "{'val_loss': 1.5867730131689108, 'val_accuracy': 0.5780141843971631, 'precision': 0.6113618831732309, 'recall': 0.5780141843971631, 'f1-score': 0.5655986365106495, 'macro_f1-score': 0.3249865421533727, 'balanced_accuracy': 0.42759344637918545, 'mcc': 0.4606978789198089, 'train_loss': 2.242116842520376}\n",
      "Epoch 2/20\n"
     ]
    },
    {
     "name": "stderr",
     "output_type": "stream",
     "text": [
      "100%|██████████| 771/771 [01:11<00:00, 10.78it/s]\n"
     ]
    },
    {
     "name": "stdout",
     "output_type": "stream",
     "text": [
      "{'val_loss': 1.3939681559238795, 'val_accuracy': 0.6252955082742316, 'precision': 0.6317408139059689, 'recall': 0.6252955082742316, 'f1-score': 0.6124571281065639, 'macro_f1-score': 0.3576969049725467, 'balanced_accuracy': 0.38118324905422457, 'mcc': 0.5025780735356903, 'train_loss': 1.0038880765747313}\n",
      "Epoch 3/20\n"
     ]
    },
    {
     "name": "stderr",
     "output_type": "stream",
     "text": [
      "100%|██████████| 771/771 [01:11<00:00, 10.77it/s]\n"
     ]
    },
    {
     "name": "stdout",
     "output_type": "stream",
     "text": [
      "{'val_loss': 1.345506929001718, 'val_accuracy': 0.6536643026004728, 'precision': 0.6665408966247185, 'recall': 0.6536643026004728, 'f1-score': 0.6470716952295548, 'macro_f1-score': 0.40920743779941304, 'balanced_accuracy': 0.42261470217531555, 'mcc': 0.5459613476851141, 'train_loss': 0.6462609074410685}\n",
      "Epoch 4/20\n"
     ]
    },
    {
     "name": "stderr",
     "output_type": "stream",
     "text": [
      "100%|██████████| 771/771 [01:11<00:00, 10.79it/s]\n"
     ]
    },
    {
     "name": "stdout",
     "output_type": "stream",
     "text": [
      "{'val_loss': 1.4349664753338076, 'val_accuracy': 0.648936170212766, 'precision': 0.6351390995419982, 'recall': 0.648936170212766, 'f1-score': 0.6284625619214598, 'macro_f1-score': 0.36672918835501556, 'balanced_accuracy': 0.3504294789270876, 'mcc': 0.5249358527075431, 'train_loss': 0.47346846927464703}\n",
      "Epoch 5/20\n"
     ]
    },
    {
     "name": "stderr",
     "output_type": "stream",
     "text": [
      "100%|██████████| 771/771 [01:11<00:00, 10.79it/s]\n"
     ]
    },
    {
     "name": "stdout",
     "output_type": "stream",
     "text": [
      "{'val_loss': 1.4896228515876915, 'val_accuracy': 0.6619385342789598, 'precision': 0.6683963275311898, 'recall': 0.6619385342789598, 'f1-score': 0.6449427625800863, 'macro_f1-score': 0.3955661961794739, 'balanced_accuracy': 0.41062118645327794, 'mcc': 0.5478378729191802, 'train_loss': 0.38980634466789654}\n",
      "Epoch 6/20\n"
     ]
    },
    {
     "name": "stderr",
     "output_type": "stream",
     "text": [
      "100%|██████████| 771/771 [01:11<00:00, 10.79it/s]\n"
     ]
    },
    {
     "name": "stdout",
     "output_type": "stream",
     "text": [
      "{'val_loss': 1.5773021753104228, 'val_accuracy': 0.648936170212766, 'precision': 0.6785159315906519, 'recall': 0.648936170212766, 'f1-score': 0.6536705348833167, 'macro_f1-score': 0.4088152672086904, 'balanced_accuracy': 0.4324049998096784, 'mcc': 0.5533068476018628, 'train_loss': 0.34335600556479584}\n",
      "Early stopping.\n",
      "\n",
      "[Fold 5]\n",
      "Label distribution after resampling:\n",
      "  label 0: 2000\n",
      "  label 1: 200\n",
      "  label 2: 200\n",
      "  label 3: 200\n",
      "  label 4: 231\n",
      "  label 5: 200\n",
      "  label 6: 200\n",
      "  label 7: 200\n",
      "  label 8: 200\n",
      "  label 9: 200\n",
      "  label 10: 200\n",
      "  label 11: 200\n",
      "  label 12: 217\n",
      "  label 13: 200\n",
      "  label 14: 200\n",
      "  label 15: 200\n",
      "  label 16: 200\n",
      "  label 17: 260\n",
      "  label 18: 200\n",
      "  label 19: 200\n",
      "  label 20: 200\n",
      "  label 21: 200\n",
      "  label 22: 200\n",
      "  label 23: 200\n",
      "  label 24: 200\n",
      "  label 25: 200\n",
      "  label 26: 200\n",
      "  label 27: 200\n",
      "  label 28: 200\n",
      "  label 29: 200\n",
      "  label 30: 200\n",
      "  label 31: 200\n",
      "  label 32: 200\n",
      "  label 33: 200\n",
      "  label 34: 200\n",
      "  label 35: 200\n",
      "  label 36: 200\n",
      "  label 37: 200\n",
      "  label 38: 200\n",
      "  label 39: 200\n",
      "  label 40: 200\n",
      "  label 41: 200\n",
      "  label 42: 200\n",
      "  label 43: 200\n",
      "  label 44: 200\n",
      "  label 45: 200\n",
      "  label 46: 200\n",
      "  label 47: 595\n",
      "  label 48: 227\n",
      "  label 49: 200\n",
      "model is bert-base-uncased bilstm\n",
      "Epoch 1/20\n"
     ]
    },
    {
     "name": "stderr",
     "output_type": "stream",
     "text": [
      "100%|██████████| 771/771 [01:11<00:00, 10.79it/s]\n"
     ]
    },
    {
     "name": "stdout",
     "output_type": "stream",
     "text": [
      "{'val_loss': 1.7015453599533945, 'val_accuracy': 0.5443786982248521, 'precision': 0.610424817088103, 'recall': 0.5443786982248521, 'f1-score': 0.5411989864166795, 'macro_f1-score': 0.2904524909932363, 'balanced_accuracy': 0.4081044642696254, 'mcc': 0.4400323732836879, 'train_loss': 2.2767133412039544}\n",
      "Epoch 2/20\n"
     ]
    },
    {
     "name": "stderr",
     "output_type": "stream",
     "text": [
      "100%|██████████| 771/771 [01:11<00:00, 10.78it/s]\n"
     ]
    },
    {
     "name": "stdout",
     "output_type": "stream",
     "text": [
      "{'val_loss': 1.330496463010896, 'val_accuracy': 0.6544378698224852, 'precision': 0.6189797888314371, 'recall': 0.6544378698224852, 'f1-score': 0.6206247774985606, 'macro_f1-score': 0.36692741081177954, 'balanced_accuracy': 0.40391459154847226, 'mcc': 0.5344448923095985, 'train_loss': 0.9995055047145304}\n",
      "Epoch 3/20\n"
     ]
    },
    {
     "name": "stderr",
     "output_type": "stream",
     "text": [
      "100%|██████████| 771/771 [01:11<00:00, 10.78it/s]\n"
     ]
    },
    {
     "name": "stdout",
     "output_type": "stream",
     "text": [
      "{'val_loss': 1.3518544666047365, 'val_accuracy': 0.6485207100591716, 'precision': 0.6369424088928506, 'recall': 0.6485207100591716, 'f1-score': 0.6340254701491173, 'macro_f1-score': 0.37553653211790405, 'balanced_accuracy': 0.42325916277926134, 'mcc': 0.5444117980608325, 'train_loss': 0.6109160485782512}\n",
      "Epoch 4/20\n"
     ]
    },
    {
     "name": "stderr",
     "output_type": "stream",
     "text": [
      "100%|██████████| 771/771 [01:11<00:00, 10.77it/s]\n"
     ]
    },
    {
     "name": "stdout",
     "output_type": "stream",
     "text": [
      "{'val_loss': 1.4423044464498196, 'val_accuracy': 0.6485207100591716, 'precision': 0.6603483697529553, 'recall': 0.6485207100591716, 'f1-score': 0.6330770541875821, 'macro_f1-score': 0.34575711861219427, 'balanced_accuracy': 0.36443050414486367, 'mcc': 0.5361913128305865, 'train_loss': 0.4597985697511569}\n",
      "Epoch 5/20\n"
     ]
    },
    {
     "name": "stderr",
     "output_type": "stream",
     "text": [
      "100%|██████████| 771/771 [01:11<00:00, 10.78it/s]\n"
     ]
    },
    {
     "name": "stdout",
     "output_type": "stream",
     "text": [
      "{'val_loss': 1.4893591648565148, 'val_accuracy': 0.6579881656804734, 'precision': 0.6390926385341184, 'recall': 0.6579881656804734, 'f1-score': 0.6282322432293422, 'macro_f1-score': 0.36599882975370795, 'balanced_accuracy': 0.3582336782293371, 'mcc': 0.5350115961059192, 'train_loss': 0.3719433134593234}\n",
      "Epoch 6/20\n"
     ]
    },
    {
     "name": "stderr",
     "output_type": "stream",
     "text": [
      "100%|██████████| 771/771 [01:11<00:00, 10.78it/s]\n"
     ]
    },
    {
     "name": "stdout",
     "output_type": "stream",
     "text": [
      "{'val_loss': 1.5500266911848537, 'val_accuracy': 0.6532544378698225, 'precision': 0.6478203242408732, 'recall': 0.6532544378698225, 'f1-score': 0.632714549829698, 'macro_f1-score': 0.36224632012358865, 'balanced_accuracy': 0.3687596632714431, 'mcc': 0.5389257297651864, 'train_loss': 0.31225610490110445}\n",
      "Early stopping.\n",
      "\n",
      "[Fold 6]\n",
      "Label distribution after resampling:\n",
      "  label 0: 2000\n",
      "  label 1: 200\n",
      "  label 2: 200\n",
      "  label 3: 200\n",
      "  label 4: 231\n",
      "  label 5: 200\n",
      "  label 6: 200\n",
      "  label 7: 200\n",
      "  label 8: 200\n",
      "  label 9: 200\n",
      "  label 10: 200\n",
      "  label 11: 200\n",
      "  label 12: 217\n",
      "  label 13: 200\n",
      "  label 14: 200\n",
      "  label 15: 200\n",
      "  label 16: 200\n",
      "  label 17: 260\n",
      "  label 18: 200\n",
      "  label 19: 200\n",
      "  label 20: 200\n",
      "  label 21: 200\n",
      "  label 22: 200\n",
      "  label 23: 200\n",
      "  label 24: 200\n",
      "  label 25: 200\n",
      "  label 26: 200\n",
      "  label 27: 200\n",
      "  label 28: 200\n",
      "  label 29: 200\n",
      "  label 30: 200\n",
      "  label 31: 200\n",
      "  label 32: 200\n",
      "  label 33: 200\n",
      "  label 34: 200\n",
      "  label 35: 200\n",
      "  label 36: 200\n",
      "  label 37: 200\n",
      "  label 38: 200\n",
      "  label 39: 200\n",
      "  label 40: 200\n",
      "  label 41: 200\n",
      "  label 42: 200\n",
      "  label 43: 200\n",
      "  label 44: 200\n",
      "  label 45: 200\n",
      "  label 46: 200\n",
      "  label 47: 595\n",
      "  label 48: 227\n",
      "  label 49: 200\n",
      "model is bert-base-uncased bilstm\n",
      "Epoch 1/20\n"
     ]
    },
    {
     "name": "stderr",
     "output_type": "stream",
     "text": [
      "100%|██████████| 771/771 [01:11<00:00, 10.77it/s]\n"
     ]
    },
    {
     "name": "stdout",
     "output_type": "stream",
     "text": [
      "{'val_loss': 1.5328563238089938, 'val_accuracy': 0.6130177514792899, 'precision': 0.568550457897234, 'recall': 0.6130177514792899, 'f1-score': 0.5635208993656378, 'macro_f1-score': 0.29545378418736556, 'balanced_accuracy': 0.33532204787212166, 'mcc': 0.4728004136685943, 'train_loss': 2.3130842889483954}\n",
      "Epoch 2/20\n"
     ]
    },
    {
     "name": "stderr",
     "output_type": "stream",
     "text": [
      "100%|██████████| 771/771 [01:11<00:00, 10.78it/s]\n"
     ]
    },
    {
     "name": "stdout",
     "output_type": "stream",
     "text": [
      "{'val_loss': 1.3887029436399352, 'val_accuracy': 0.6366863905325444, 'precision': 0.6473476819445986, 'recall': 0.6366863905325444, 'f1-score': 0.6261973968474123, 'macro_f1-score': 0.3798931638702621, 'balanced_accuracy': 0.4171265088844644, 'mcc': 0.529342515828599, 'train_loss': 1.0063593613150519}\n",
      "Epoch 3/20\n"
     ]
    },
    {
     "name": "stderr",
     "output_type": "stream",
     "text": [
      "100%|██████████| 771/771 [01:11<00:00, 10.79it/s]\n"
     ]
    },
    {
     "name": "stdout",
     "output_type": "stream",
     "text": [
      "{'val_loss': 1.40361365732157, 'val_accuracy': 0.6485207100591716, 'precision': 0.6869650404767841, 'recall': 0.6485207100591716, 'f1-score': 0.6399633701058666, 'macro_f1-score': 0.3399978756563919, 'balanced_accuracy': 0.3846830432368949, 'mcc': 0.5449432320270627, 'train_loss': 0.6248798980081669}\n",
      "Epoch 4/20\n"
     ]
    },
    {
     "name": "stderr",
     "output_type": "stream",
     "text": [
      "100%|██████████| 771/771 [01:11<00:00, 10.77it/s]\n"
     ]
    },
    {
     "name": "stdout",
     "output_type": "stream",
     "text": [
      "{'val_loss': 1.444331945113416, 'val_accuracy': 0.6414201183431952, 'precision': 0.654031507628659, 'recall': 0.6414201183431952, 'f1-score': 0.6306061118308275, 'macro_f1-score': 0.35105630347562417, 'balanced_accuracy': 0.39664931985021584, 'mcc': 0.5317724888894392, 'train_loss': 0.4715741507989269}\n",
      "Epoch 5/20\n"
     ]
    },
    {
     "name": "stderr",
     "output_type": "stream",
     "text": [
      "100%|██████████| 771/771 [01:11<00:00, 10.80it/s]\n"
     ]
    },
    {
     "name": "stdout",
     "output_type": "stream",
     "text": [
      "{'val_loss': 1.5274568616219286, 'val_accuracy': 0.6603550295857988, 'precision': 0.6722256182553521, 'recall': 0.6603550295857988, 'f1-score': 0.6477897710307053, 'macro_f1-score': 0.4010714593313141, 'balanced_accuracy': 0.4255958968301812, 'mcc': 0.5491670640334284, 'train_loss': 0.3944819753363864}\n",
      "Epoch 6/20\n"
     ]
    },
    {
     "name": "stderr",
     "output_type": "stream",
     "text": [
      "100%|██████████| 771/771 [01:11<00:00, 10.78it/s]\n"
     ]
    },
    {
     "name": "stdout",
     "output_type": "stream",
     "text": [
      "{'val_loss': 1.5112585391638413, 'val_accuracy': 0.6686390532544378, 'precision': 0.663265273044253, 'recall': 0.6686390532544378, 'f1-score': 0.6537800901590265, 'macro_f1-score': 0.39420516098499325, 'balanced_accuracy': 0.4101571364581714, 'mcc': 0.5613041137992038, 'train_loss': 0.3071000931371395}\n",
      "Epoch 7/20\n"
     ]
    },
    {
     "name": "stderr",
     "output_type": "stream",
     "text": [
      "100%|██████████| 771/771 [01:11<00:00, 10.77it/s]\n"
     ]
    },
    {
     "name": "stdout",
     "output_type": "stream",
     "text": [
      "{'val_loss': 1.647060142935447, 'val_accuracy': 0.659171597633136, 'precision': 0.674712591764131, 'recall': 0.659171597633136, 'f1-score': 0.652482753553917, 'macro_f1-score': 0.4051260887049827, 'balanced_accuracy': 0.451756783671182, 'mcc': 0.558639033990089, 'train_loss': 0.29880489957495926}\n",
      "Epoch 8/20\n"
     ]
    },
    {
     "name": "stderr",
     "output_type": "stream",
     "text": [
      "100%|██████████| 771/771 [01:11<00:00, 10.80it/s]\n"
     ]
    },
    {
     "name": "stdout",
     "output_type": "stream",
     "text": [
      "{'val_loss': 1.6921027122803454, 'val_accuracy': 0.6461538461538462, 'precision': 0.674174476467504, 'recall': 0.6461538461538462, 'f1-score': 0.6442190511384679, 'macro_f1-score': 0.3566969538107188, 'balanced_accuracy': 0.4012183672335341, 'mcc': 0.5542585208531967, 'train_loss': 0.2661409999271698}\n",
      "Epoch 9/20\n"
     ]
    },
    {
     "name": "stderr",
     "output_type": "stream",
     "text": [
      "100%|██████████| 771/771 [01:11<00:00, 10.79it/s]\n"
     ]
    },
    {
     "name": "stdout",
     "output_type": "stream",
     "text": [
      "{'val_loss': 1.6306090894735084, 'val_accuracy': 0.6650887573964497, 'precision': 0.6666598780055255, 'recall': 0.6650887573964497, 'f1-score': 0.6541492455852056, 'macro_f1-score': 0.38620795073887515, 'balanced_accuracy': 0.39947405920017653, 'mcc': 0.5578976376670126, 'train_loss': 0.24082834251471413}\n",
      "Epoch 10/20\n"
     ]
    },
    {
     "name": "stderr",
     "output_type": "stream",
     "text": [
      "100%|██████████| 771/771 [01:11<00:00, 10.79it/s]\n"
     ]
    },
    {
     "name": "stdout",
     "output_type": "stream",
     "text": [
      "{'val_loss': 1.592980001332625, 'val_accuracy': 0.6662721893491125, 'precision': 0.6879057147104484, 'recall': 0.6662721893491125, 'f1-score': 0.6604059398617234, 'macro_f1-score': 0.3828953433816685, 'balanced_accuracy': 0.4043400615140251, 'mcc': 0.5697642475809025, 'train_loss': 0.24920847826551565}\n",
      "Early stopping.\n",
      "\n",
      "[Fold 7]\n",
      "Label distribution after resampling:\n",
      "  label 0: 2000\n",
      "  label 1: 200\n",
      "  label 2: 200\n",
      "  label 3: 200\n",
      "  label 4: 232\n",
      "  label 5: 200\n",
      "  label 6: 200\n",
      "  label 7: 200\n",
      "  label 8: 200\n",
      "  label 9: 200\n",
      "  label 10: 200\n",
      "  label 11: 200\n",
      "  label 12: 217\n",
      "  label 13: 200\n",
      "  label 14: 200\n",
      "  label 15: 200\n",
      "  label 16: 200\n",
      "  label 17: 260\n",
      "  label 18: 200\n",
      "  label 19: 200\n",
      "  label 20: 200\n",
      "  label 21: 200\n",
      "  label 22: 200\n",
      "  label 23: 200\n",
      "  label 24: 200\n",
      "  label 25: 200\n",
      "  label 26: 200\n",
      "  label 27: 200\n",
      "  label 28: 200\n",
      "  label 29: 200\n",
      "  label 30: 200\n",
      "  label 31: 200\n",
      "  label 32: 200\n",
      "  label 33: 200\n",
      "  label 34: 200\n",
      "  label 35: 200\n",
      "  label 36: 200\n",
      "  label 37: 200\n",
      "  label 38: 200\n",
      "  label 39: 200\n",
      "  label 40: 200\n",
      "  label 41: 200\n",
      "  label 42: 200\n",
      "  label 43: 200\n",
      "  label 44: 200\n",
      "  label 45: 200\n",
      "  label 46: 200\n",
      "  label 47: 594\n",
      "  label 48: 227\n",
      "  label 49: 200\n",
      "model is bert-base-uncased bilstm\n",
      "Epoch 1/20\n"
     ]
    },
    {
     "name": "stderr",
     "output_type": "stream",
     "text": [
      "100%|██████████| 771/771 [01:11<00:00, 10.79it/s]\n"
     ]
    },
    {
     "name": "stdout",
     "output_type": "stream",
     "text": [
      "{'val_loss': 1.5449747634383868, 'val_accuracy': 0.6047337278106509, 'precision': 0.6400379957052935, 'recall': 0.6047337278106509, 'f1-score': 0.5891539871393019, 'macro_f1-score': 0.3630077186676186, 'balanced_accuracy': 0.44119290395556116, 'mcc': 0.48906894430174425, 'train_loss': 2.2706494902667678}\n",
      "Epoch 2/20\n"
     ]
    },
    {
     "name": "stderr",
     "output_type": "stream",
     "text": [
      "100%|██████████| 771/771 [01:11<00:00, 10.77it/s]\n"
     ]
    },
    {
     "name": "stdout",
     "output_type": "stream",
     "text": [
      "{'val_loss': 1.3332866222228643, 'val_accuracy': 0.6473372781065089, 'precision': 0.6284732635589934, 'recall': 0.6473372781065089, 'f1-score': 0.6241508655928272, 'macro_f1-score': 0.4080789679378245, 'balanced_accuracy': 0.4356879561594772, 'mcc': 0.5346712404666588, 'train_loss': 0.9908629206870471}\n",
      "Epoch 3/20\n"
     ]
    },
    {
     "name": "stderr",
     "output_type": "stream",
     "text": [
      "100%|██████████| 771/771 [01:11<00:00, 10.80it/s]\n"
     ]
    },
    {
     "name": "stdout",
     "output_type": "stream",
     "text": [
      "{'val_loss': 1.4153925281650614, 'val_accuracy': 0.6071005917159763, 'precision': 0.6969501048339651, 'recall': 0.6071005917159763, 'f1-score': 0.630307304263748, 'macro_f1-score': 0.44931729355046435, 'balanced_accuracy': 0.4884879494054558, 'mcc': 0.5217241587513582, 'train_loss': 0.6498773971091758}\n",
      "Epoch 4/20\n"
     ]
    },
    {
     "name": "stderr",
     "output_type": "stream",
     "text": [
      "100%|██████████| 771/771 [01:11<00:00, 10.78it/s]\n"
     ]
    },
    {
     "name": "stdout",
     "output_type": "stream",
     "text": [
      "{'val_loss': 1.3212276719651133, 'val_accuracy': 0.6686390532544378, 'precision': 0.6844385770606006, 'recall': 0.6686390532544378, 'f1-score': 0.6640448754292197, 'macro_f1-score': 0.4248208789913429, 'balanced_accuracy': 0.4522047992333284, 'mcc': 0.5727077738556199, 'train_loss': 0.4673240089018367}\n",
      "Epoch 5/20\n"
     ]
    },
    {
     "name": "stderr",
     "output_type": "stream",
     "text": [
      "100%|██████████| 771/771 [01:11<00:00, 10.78it/s]\n"
     ]
    },
    {
     "name": "stdout",
     "output_type": "stream",
     "text": [
      "{'val_loss': 1.4363556746041999, 'val_accuracy': 0.663905325443787, 'precision': 0.6706829448860256, 'recall': 0.663905325443787, 'f1-score': 0.6587958880552193, 'macro_f1-score': 0.4489964254977594, 'balanced_accuracy': 0.47762782154324646, 'mcc': 0.5619560449093164, 'train_loss': 0.35735322887273613}\n",
      "Epoch 6/20\n"
     ]
    },
    {
     "name": "stderr",
     "output_type": "stream",
     "text": [
      "100%|██████████| 771/771 [01:11<00:00, 10.80it/s]\n"
     ]
    },
    {
     "name": "stdout",
     "output_type": "stream",
     "text": [
      "{'val_loss': 1.3785688584705569, 'val_accuracy': 0.693491124260355, 'precision': 0.701966003324313, 'recall': 0.693491124260355, 'f1-score': 0.6868116310092045, 'macro_f1-score': 0.4708735072619784, 'balanced_accuracy': 0.47296609434490283, 'mcc': 0.5998767075336112, 'train_loss': 0.32444176631321314}\n",
      "Epoch 7/20\n"
     ]
    },
    {
     "name": "stderr",
     "output_type": "stream",
     "text": [
      "100%|██████████| 771/771 [01:11<00:00, 10.78it/s]\n"
     ]
    },
    {
     "name": "stdout",
     "output_type": "stream",
     "text": [
      "{'val_loss': 1.54214501774536, 'val_accuracy': 0.6473372781065089, 'precision': 0.6659436251350672, 'recall': 0.6473372781065089, 'f1-score': 0.6462651385079685, 'macro_f1-score': 0.40854890210634354, 'balanced_accuracy': 0.4385784489761505, 'mcc': 0.5473684159838387, 'train_loss': 0.26670005422776466}\n",
      "Epoch 8/20\n"
     ]
    },
    {
     "name": "stderr",
     "output_type": "stream",
     "text": [
      "100%|██████████| 771/771 [01:11<00:00, 10.80it/s]\n"
     ]
    },
    {
     "name": "stdout",
     "output_type": "stream",
     "text": [
      "{'val_loss': 1.6606854712063412, 'val_accuracy': 0.6544378698224852, 'precision': 0.6985868600819704, 'recall': 0.6544378698224852, 'f1-score': 0.6603500301502216, 'macro_f1-score': 0.4597098876023919, 'balanced_accuracy': 0.47874626875771287, 'mcc': 0.5637542355269608, 'train_loss': 0.2610970141593217}\n",
      "Epoch 9/20\n"
     ]
    },
    {
     "name": "stderr",
     "output_type": "stream",
     "text": [
      "100%|██████████| 771/771 [01:11<00:00, 10.78it/s]\n"
     ]
    },
    {
     "name": "stdout",
     "output_type": "stream",
     "text": [
      "{'val_loss': 1.646362840004687, 'val_accuracy': 0.663905325443787, 'precision': 0.6869545664470169, 'recall': 0.663905325443787, 'f1-score': 0.6671075684870403, 'macro_f1-score': 0.4397374736032571, 'balanced_accuracy': 0.49211874888577256, 'mcc': 0.572940742312943, 'train_loss': 0.27008727166122826}\n",
      "Early stopping.\n",
      "\n",
      "[Fold 8]\n",
      "Label distribution after resampling:\n",
      "  label 0: 2000\n",
      "  label 1: 200\n",
      "  label 2: 200\n",
      "  label 3: 200\n",
      "  label 4: 232\n",
      "  label 5: 200\n",
      "  label 6: 200\n",
      "  label 7: 200\n",
      "  label 8: 200\n",
      "  label 9: 200\n",
      "  label 10: 200\n",
      "  label 11: 200\n",
      "  label 12: 216\n",
      "  label 13: 200\n",
      "  label 14: 200\n",
      "  label 15: 200\n",
      "  label 16: 200\n",
      "  label 17: 260\n",
      "  label 18: 200\n",
      "  label 19: 200\n",
      "  label 20: 200\n",
      "  label 21: 200\n",
      "  label 22: 200\n",
      "  label 23: 200\n",
      "  label 24: 200\n",
      "  label 25: 200\n",
      "  label 26: 200\n",
      "  label 27: 200\n",
      "  label 28: 200\n",
      "  label 29: 200\n",
      "  label 30: 200\n",
      "  label 31: 200\n",
      "  label 32: 200\n",
      "  label 33: 200\n",
      "  label 34: 200\n",
      "  label 35: 200\n",
      "  label 36: 200\n",
      "  label 37: 200\n",
      "  label 38: 200\n",
      "  label 39: 200\n",
      "  label 40: 200\n",
      "  label 41: 200\n",
      "  label 42: 200\n",
      "  label 43: 200\n",
      "  label 44: 200\n",
      "  label 45: 200\n",
      "  label 46: 200\n",
      "  label 47: 595\n",
      "  label 48: 226\n",
      "  label 49: 200\n",
      "model is bert-base-uncased bilstm\n",
      "Epoch 1/20\n"
     ]
    },
    {
     "name": "stderr",
     "output_type": "stream",
     "text": [
      "100%|██████████| 771/771 [01:11<00:00, 10.80it/s]\n"
     ]
    },
    {
     "name": "stdout",
     "output_type": "stream",
     "text": [
      "{'val_loss': 1.4867659087451, 'val_accuracy': 0.6047337278106509, 'precision': 0.5787167232621184, 'recall': 0.6047337278106509, 'f1-score': 0.5602718381223887, 'macro_f1-score': 0.3059702996397273, 'balanced_accuracy': 0.34414729770070696, 'mcc': 0.45745771190017587, 'train_loss': 2.232390331077823}\n",
      "Epoch 2/20\n"
     ]
    },
    {
     "name": "stderr",
     "output_type": "stream",
     "text": [
      "100%|██████████| 771/771 [01:11<00:00, 10.80it/s]\n"
     ]
    },
    {
     "name": "stdout",
     "output_type": "stream",
     "text": [
      "{'val_loss': 1.3369297728223621, 'val_accuracy': 0.6366863905325444, 'precision': 0.6591933951681825, 'recall': 0.6366863905325444, 'f1-score': 0.6315651110849124, 'macro_f1-score': 0.38569097935761404, 'balanced_accuracy': 0.4171319353187845, 'mcc': 0.5283498497563507, 'train_loss': 0.9596013997895244}\n",
      "Epoch 3/20\n"
     ]
    },
    {
     "name": "stderr",
     "output_type": "stream",
     "text": [
      "100%|██████████| 771/771 [01:11<00:00, 10.79it/s]\n"
     ]
    },
    {
     "name": "stdout",
     "output_type": "stream",
     "text": [
      "{'val_loss': 1.5117279977168676, 'val_accuracy': 0.5822485207100592, 'precision': 0.6986263643098645, 'recall': 0.5822485207100592, 'f1-score': 0.6134420505842169, 'macro_f1-score': 0.36111392329193764, 'balanced_accuracy': 0.4460147118137056, 'mcc': 0.5020687364940668, 'train_loss': 0.6057277224020581}\n",
      "Epoch 4/20\n"
     ]
    },
    {
     "name": "stderr",
     "output_type": "stream",
     "text": [
      "100%|██████████| 771/771 [01:11<00:00, 10.79it/s]\n"
     ]
    },
    {
     "name": "stdout",
     "output_type": "stream",
     "text": [
      "{'val_loss': 1.4697087890696976, 'val_accuracy': 0.6343195266272189, 'precision': 0.6872924975967176, 'recall': 0.6343195266272189, 'f1-score': 0.6429924915303318, 'macro_f1-score': 0.39976136180454164, 'balanced_accuracy': 0.41364088506480223, 'mcc': 0.541698099745127, 'train_loss': 0.43920553857810923}\n",
      "Epoch 5/20\n"
     ]
    },
    {
     "name": "stderr",
     "output_type": "stream",
     "text": [
      "100%|██████████| 771/771 [01:11<00:00, 10.77it/s]\n"
     ]
    },
    {
     "name": "stdout",
     "output_type": "stream",
     "text": [
      "{'val_loss': 1.396600508464957, 'val_accuracy': 0.6473372781065089, 'precision': 0.6678016252497976, 'recall': 0.6473372781065089, 'f1-score': 0.6484712439992101, 'macro_f1-score': 0.38399685043648085, 'balanced_accuracy': 0.4147758164215418, 'mcc': 0.5476249701061896, 'train_loss': 0.3772107564473353}\n",
      "Epoch 6/20\n"
     ]
    },
    {
     "name": "stderr",
     "output_type": "stream",
     "text": [
      "100%|██████████| 771/771 [01:11<00:00, 10.77it/s]\n"
     ]
    },
    {
     "name": "stdout",
     "output_type": "stream",
     "text": [
      "{'val_loss': 1.4563010166276176, 'val_accuracy': 0.6603550295857988, 'precision': 0.6824651350131925, 'recall': 0.6603550295857988, 'f1-score': 0.6599013619085895, 'macro_f1-score': 0.4098752678451736, 'balanced_accuracy': 0.4407213294674197, 'mcc': 0.567738870054817, 'train_loss': 0.3022226182400852}\n",
      "Epoch 7/20\n"
     ]
    },
    {
     "name": "stderr",
     "output_type": "stream",
     "text": [
      "100%|██████████| 771/771 [01:11<00:00, 10.79it/s]\n"
     ]
    },
    {
     "name": "stdout",
     "output_type": "stream",
     "text": [
      "{'val_loss': 1.5239310219602764, 'val_accuracy': 0.6603550295857988, 'precision': 0.6734058559584944, 'recall': 0.6603550295857988, 'f1-score': 0.6537857581399458, 'macro_f1-score': 0.39573693483772554, 'balanced_accuracy': 0.40742077116761705, 'mcc': 0.5552800677287265, 'train_loss': 0.2814073144142962}\n",
      "Epoch 8/20\n"
     ]
    },
    {
     "name": "stderr",
     "output_type": "stream",
     "text": [
      "100%|██████████| 771/771 [01:11<00:00, 10.77it/s]\n"
     ]
    },
    {
     "name": "stdout",
     "output_type": "stream",
     "text": [
      "{'val_loss': 1.500532307714786, 'val_accuracy': 0.6615384615384615, 'precision': 0.6640902423502096, 'recall': 0.6615384615384615, 'f1-score': 0.654756696538227, 'macro_f1-score': 0.40040242668656745, 'balanced_accuracy': 0.41490378593313865, 'mcc': 0.5604333487150114, 'train_loss': 0.261377845543537}\n",
      "Epoch 9/20\n"
     ]
    },
    {
     "name": "stderr",
     "output_type": "stream",
     "text": [
      "100%|██████████| 771/771 [01:11<00:00, 10.78it/s]\n"
     ]
    },
    {
     "name": "stdout",
     "output_type": "stream",
     "text": [
      "{'val_loss': 1.6529872501796146, 'val_accuracy': 0.6497041420118344, 'precision': 0.6545458620431251, 'recall': 0.6497041420118344, 'f1-score': 0.6423447814889012, 'macro_f1-score': 0.4006703497233318, 'balanced_accuracy': 0.42201193622128996, 'mcc': 0.546766456864801, 'train_loss': 0.24860184136947228}\n",
      "Early stopping.\n",
      "\n",
      "[Fold 9]\n",
      "Label distribution after resampling:\n",
      "  label 0: 2000\n",
      "  label 1: 200\n",
      "  label 2: 200\n",
      "  label 3: 200\n",
      "  label 4: 232\n",
      "  label 5: 200\n",
      "  label 6: 200\n",
      "  label 7: 200\n",
      "  label 8: 200\n",
      "  label 9: 200\n",
      "  label 10: 200\n",
      "  label 11: 200\n",
      "  label 12: 217\n",
      "  label 13: 200\n",
      "  label 14: 200\n",
      "  label 15: 200\n",
      "  label 16: 200\n",
      "  label 17: 261\n",
      "  label 18: 200\n",
      "  label 19: 200\n",
      "  label 20: 200\n",
      "  label 21: 200\n",
      "  label 22: 200\n",
      "  label 23: 200\n",
      "  label 24: 200\n",
      "  label 25: 200\n",
      "  label 26: 200\n",
      "  label 27: 200\n",
      "  label 28: 200\n",
      "  label 29: 200\n",
      "  label 30: 200\n",
      "  label 31: 200\n",
      "  label 32: 200\n",
      "  label 33: 200\n",
      "  label 34: 200\n",
      "  label 35: 200\n",
      "  label 36: 200\n",
      "  label 37: 200\n",
      "  label 38: 200\n",
      "  label 39: 200\n",
      "  label 40: 200\n",
      "  label 41: 200\n",
      "  label 42: 200\n",
      "  label 43: 200\n",
      "  label 44: 200\n",
      "  label 45: 200\n",
      "  label 46: 200\n",
      "  label 47: 595\n",
      "  label 48: 226\n",
      "  label 49: 200\n",
      "model is bert-base-uncased bilstm\n",
      "Epoch 1/20\n"
     ]
    },
    {
     "name": "stderr",
     "output_type": "stream",
     "text": [
      "100%|██████████| 771/771 [01:11<00:00, 10.78it/s]\n",
      "c:\\Users\\user\\AppData\\Local\\Programs\\Python\\Python310\\lib\\site-packages\\sklearn\\metrics\\_classification.py:2524: UserWarning: y_pred contains classes not in y_true\n",
      "  warnings.warn(\"y_pred contains classes not in y_true\")\n"
     ]
    },
    {
     "name": "stdout",
     "output_type": "stream",
     "text": [
      "{'val_loss': 1.5970443352213446, 'val_accuracy': 0.5834319526627219, 'precision': 0.6317909116143174, 'recall': 0.5834319526627219, 'f1-score': 0.5828431324378719, 'macro_f1-score': 0.32939573194762445, 'balanced_accuracy': 0.3816922118418032, 'mcc': 0.46485318212041665, 'train_loss': 2.217820559648843}\n",
      "Epoch 2/20\n"
     ]
    },
    {
     "name": "stderr",
     "output_type": "stream",
     "text": [
      "100%|██████████| 771/771 [01:11<00:00, 10.77it/s]\n"
     ]
    },
    {
     "name": "stdout",
     "output_type": "stream",
     "text": [
      "{'val_loss': 1.4115500888734493, 'val_accuracy': 0.6236686390532544, 'precision': 0.6722585082439275, 'recall': 0.6236686390532544, 'f1-score': 0.6237916340524929, 'macro_f1-score': 0.3650681313990683, 'balanced_accuracy': 0.4117754810403759, 'mcc': 0.5239234635855111, 'train_loss': 0.9847255692021237}\n",
      "Epoch 3/20\n"
     ]
    },
    {
     "name": "stderr",
     "output_type": "stream",
     "text": [
      "100%|██████████| 771/771 [01:11<00:00, 10.79it/s]\n",
      "c:\\Users\\user\\AppData\\Local\\Programs\\Python\\Python310\\lib\\site-packages\\sklearn\\metrics\\_classification.py:2524: UserWarning: y_pred contains classes not in y_true\n",
      "  warnings.warn(\"y_pred contains classes not in y_true\")\n"
     ]
    },
    {
     "name": "stdout",
     "output_type": "stream",
     "text": [
      "{'val_loss': 1.3313030724255543, 'val_accuracy': 0.6615384615384615, 'precision': 0.6505296133400688, 'recall': 0.6615384615384615, 'f1-score': 0.648602856346201, 'macro_f1-score': 0.3667083767079151, 'balanced_accuracy': 0.39595792796224605, 'mcc': 0.5547569926462058, 'train_loss': 0.6300160507109842}\n",
      "Epoch 4/20\n"
     ]
    },
    {
     "name": "stderr",
     "output_type": "stream",
     "text": [
      "100%|██████████| 771/771 [01:11<00:00, 10.78it/s]\n"
     ]
    },
    {
     "name": "stdout",
     "output_type": "stream",
     "text": [
      "{'val_loss': 1.325129025949622, 'val_accuracy': 0.6757396449704142, 'precision': 0.7014044349172814, 'recall': 0.6757396449704142, 'f1-score': 0.6749808334106874, 'macro_f1-score': 0.40997028736762287, 'balanced_accuracy': 0.42680477076457135, 'mcc': 0.5796426529990913, 'train_loss': 0.46844646563190584}\n",
      "Epoch 5/20\n"
     ]
    },
    {
     "name": "stderr",
     "output_type": "stream",
     "text": [
      "100%|██████████| 771/771 [01:11<00:00, 10.78it/s]\n"
     ]
    },
    {
     "name": "stdout",
     "output_type": "stream",
     "text": [
      "{'val_loss': 1.4283008575439453, 'val_accuracy': 0.6662721893491125, 'precision': 0.6899312443389914, 'recall': 0.6662721893491125, 'f1-score': 0.6681928714607855, 'macro_f1-score': 0.38398495562863366, 'balanced_accuracy': 0.39629779120963, 'mcc': 0.5723158994278398, 'train_loss': 0.3694200621780139}\n",
      "Epoch 6/20\n"
     ]
    },
    {
     "name": "stderr",
     "output_type": "stream",
     "text": [
      "100%|██████████| 771/771 [01:11<00:00, 10.78it/s]\n"
     ]
    },
    {
     "name": "stdout",
     "output_type": "stream",
     "text": [
      "{'val_loss': 1.522682120215218, 'val_accuracy': 0.6698224852071006, 'precision': 0.6901869604131122, 'recall': 0.6698224852071006, 'f1-score': 0.6685305479435569, 'macro_f1-score': 0.4195487205731326, 'balanced_accuracy': 0.4422746705021932, 'mcc': 0.5832216063105093, 'train_loss': 0.30454891443677756}\n",
      "Epoch 7/20\n"
     ]
    },
    {
     "name": "stderr",
     "output_type": "stream",
     "text": [
      "100%|██████████| 771/771 [01:11<00:00, 10.79it/s]\n"
     ]
    },
    {
     "name": "stdout",
     "output_type": "stream",
     "text": [
      "{'val_loss': 1.5943889314273618, 'val_accuracy': 0.659171597633136, 'precision': 0.6940053878676061, 'recall': 0.659171597633136, 'f1-score': 0.6664555818964268, 'macro_f1-score': 0.3877745850897137, 'balanced_accuracy': 0.41528194755717507, 'mcc': 0.571501687017312, 'train_loss': 0.2659385420669513}\n",
      "Epoch 8/20\n"
     ]
    },
    {
     "name": "stderr",
     "output_type": "stream",
     "text": [
      "100%|██████████| 771/771 [01:11<00:00, 10.80it/s]\n"
     ]
    },
    {
     "name": "stdout",
     "output_type": "stream",
     "text": [
      "{'val_loss': 1.5044649771924288, 'val_accuracy': 0.685207100591716, 'precision': 0.6897507212249022, 'recall': 0.685207100591716, 'f1-score': 0.6746093990026775, 'macro_f1-score': 0.40391372360331007, 'balanced_accuracy': 0.4016874025692717, 'mcc': 0.5844156360310718, 'train_loss': 0.25507138188126294}\n",
      "Epoch 9/20\n"
     ]
    },
    {
     "name": "stderr",
     "output_type": "stream",
     "text": [
      "100%|██████████| 771/771 [01:11<00:00, 10.78it/s]\n"
     ]
    },
    {
     "name": "stdout",
     "output_type": "stream",
     "text": [
      "{'val_loss': 1.6725031969682225, 'val_accuracy': 0.6402366863905326, 'precision': 0.6902578851017401, 'recall': 0.6402366863905326, 'f1-score': 0.6482861641895873, 'macro_f1-score': 0.36105216387949124, 'balanced_accuracy': 0.38490157175141493, 'mcc': 0.5456431441291557, 'train_loss': 0.22702569417756935}\n",
      "Early stopping.\n",
      "\n",
      "[Fold 10]\n",
      "Label distribution after resampling:\n",
      "  label 0: 2000\n",
      "  label 1: 200\n",
      "  label 2: 200\n",
      "  label 3: 200\n",
      "  label 4: 231\n",
      "  label 5: 200\n",
      "  label 6: 200\n",
      "  label 7: 200\n",
      "  label 8: 200\n",
      "  label 9: 200\n",
      "  label 10: 200\n",
      "  label 11: 200\n",
      "  label 12: 217\n",
      "  label 13: 200\n",
      "  label 14: 200\n",
      "  label 15: 200\n",
      "  label 16: 200\n",
      "  label 17: 260\n",
      "  label 18: 200\n",
      "  label 19: 200\n",
      "  label 20: 200\n",
      "  label 21: 200\n",
      "  label 22: 200\n",
      "  label 23: 200\n",
      "  label 24: 200\n",
      "  label 25: 200\n",
      "  label 26: 200\n",
      "  label 27: 200\n",
      "  label 28: 200\n",
      "  label 29: 200\n",
      "  label 30: 200\n",
      "  label 31: 200\n",
      "  label 32: 200\n",
      "  label 33: 200\n",
      "  label 34: 200\n",
      "  label 35: 200\n",
      "  label 36: 200\n",
      "  label 37: 200\n",
      "  label 38: 200\n",
      "  label 39: 200\n",
      "  label 40: 200\n",
      "  label 41: 200\n",
      "  label 42: 200\n",
      "  label 43: 200\n",
      "  label 44: 200\n",
      "  label 45: 200\n",
      "  label 46: 200\n",
      "  label 47: 595\n",
      "  label 48: 227\n",
      "  label 49: 200\n",
      "model is bert-base-uncased bilstm\n",
      "Epoch 1/20\n"
     ]
    },
    {
     "name": "stderr",
     "output_type": "stream",
     "text": [
      "100%|██████████| 771/771 [01:11<00:00, 10.79it/s]\n"
     ]
    },
    {
     "name": "stdout",
     "output_type": "stream",
     "text": [
      "{'val_loss': 1.5406016313804771, 'val_accuracy': 0.5775147928994083, 'precision': 0.6204212089044099, 'recall': 0.5775147928994083, 'f1-score': 0.5739358454996211, 'macro_f1-score': 0.32381724600549816, 'balanced_accuracy': 0.3683831308345477, 'mcc': 0.4545060091317675, 'train_loss': 2.233331468086762}\n",
      "Epoch 2/20\n"
     ]
    },
    {
     "name": "stderr",
     "output_type": "stream",
     "text": [
      "100%|██████████| 771/771 [01:11<00:00, 10.79it/s]\n"
     ]
    },
    {
     "name": "stdout",
     "output_type": "stream",
     "text": [
      "{'val_loss': 1.42683193593655, 'val_accuracy': 0.6177514792899408, 'precision': 0.6884120603150775, 'recall': 0.6177514792899408, 'f1-score': 0.6340188484468903, 'macro_f1-score': 0.3975681211202529, 'balanced_accuracy': 0.4558823535881148, 'mcc': 0.5169702984537825, 'train_loss': 0.9641486528859837}\n",
      "Epoch 3/20\n"
     ]
    },
    {
     "name": "stderr",
     "output_type": "stream",
     "text": [
      "100%|██████████| 771/771 [01:11<00:00, 10.78it/s]\n"
     ]
    },
    {
     "name": "stdout",
     "output_type": "stream",
     "text": [
      "{'val_loss': 1.316586988152198, 'val_accuracy': 0.663905325443787, 'precision': 0.671117339988924, 'recall': 0.663905325443787, 'f1-score': 0.6562719632013254, 'macro_f1-score': 0.4095560292076792, 'balanced_accuracy': 0.42306717997334814, 'mcc': 0.563499363744969, 'train_loss': 0.6179470018654019}\n",
      "Epoch 4/20\n"
     ]
    },
    {
     "name": "stderr",
     "output_type": "stream",
     "text": [
      "100%|██████████| 771/771 [01:11<00:00, 10.79it/s]\n"
     ]
    },
    {
     "name": "stdout",
     "output_type": "stream",
     "text": [
      "{'val_loss': 1.4519427789832062, 'val_accuracy': 0.6449704142011834, 'precision': 0.6763754525872904, 'recall': 0.6449704142011834, 'f1-score': 0.647302945643159, 'macro_f1-score': 0.39444219937239, 'balanced_accuracy': 0.43808752926141964, 'mcc': 0.5509518083032199, 'train_loss': 0.45451694351032706}\n",
      "Epoch 5/20\n"
     ]
    },
    {
     "name": "stderr",
     "output_type": "stream",
     "text": [
      "100%|██████████| 771/771 [01:11<00:00, 10.79it/s]\n"
     ]
    },
    {
     "name": "stdout",
     "output_type": "stream",
     "text": [
      "{'val_loss': 1.5323506728658136, 'val_accuracy': 0.6449704142011834, 'precision': 0.6872011107924049, 'recall': 0.6449704142011834, 'f1-score': 0.6532250801530071, 'macro_f1-score': 0.3885175449012982, 'balanced_accuracy': 0.42652018976819517, 'mcc': 0.5526548703851957, 'train_loss': 0.37191277182867555}\n",
      "Epoch 6/20\n"
     ]
    },
    {
     "name": "stderr",
     "output_type": "stream",
     "text": [
      "100%|██████████| 771/771 [01:11<00:00, 10.79it/s]\n"
     ]
    },
    {
     "name": "stdout",
     "output_type": "stream",
     "text": [
      "{'val_loss': 1.4265700201943237, 'val_accuracy': 0.6603550295857988, 'precision': 0.6965798972753298, 'recall': 0.6603550295857988, 'f1-score': 0.6650429034506753, 'macro_f1-score': 0.4365715248647812, 'balanced_accuracy': 0.45507908212044795, 'mcc': 0.5688913348732014, 'train_loss': 0.3097977754351926}\n",
      "Epoch 7/20\n"
     ]
    },
    {
     "name": "stderr",
     "output_type": "stream",
     "text": [
      "100%|██████████| 771/771 [01:11<00:00, 10.80it/s]\n"
     ]
    },
    {
     "name": "stdout",
     "output_type": "stream",
     "text": [
      "{'val_loss': 1.4319102803491197, 'val_accuracy': 0.6792899408284023, 'precision': 0.709286802096124, 'recall': 0.6792899408284023, 'f1-score': 0.6805375196170398, 'macro_f1-score': 0.4164076797480744, 'balanced_accuracy': 0.4367354941012315, 'mcc': 0.5834642591639092, 'train_loss': 0.28043161178111603}\n",
      "Epoch 8/20\n"
     ]
    },
    {
     "name": "stderr",
     "output_type": "stream",
     "text": [
      "100%|██████████| 771/771 [01:11<00:00, 10.78it/s]\n"
     ]
    },
    {
     "name": "stdout",
     "output_type": "stream",
     "text": [
      "{'val_loss': 1.5533668128949292, 'val_accuracy': 0.659171597633136, 'precision': 0.6803242673369477, 'recall': 0.659171597633136, 'f1-score': 0.6568211205175141, 'macro_f1-score': 0.38920709776484497, 'balanced_accuracy': 0.4229301879307374, 'mcc': 0.5656659747956977, 'train_loss': 0.25364701192579614}\n",
      "Epoch 9/20\n"
     ]
    },
    {
     "name": "stderr",
     "output_type": "stream",
     "text": [
      "100%|██████████| 771/771 [01:11<00:00, 10.77it/s]\n"
     ]
    },
    {
     "name": "stdout",
     "output_type": "stream",
     "text": [
      "{'val_loss': 1.5419081286439356, 'val_accuracy': 0.6733727810650888, 'precision': 0.691627718984381, 'recall': 0.6733727810650888, 'f1-score': 0.6709206787253273, 'macro_f1-score': 0.4181395031081413, 'balanced_accuracy': 0.42896040091557314, 'mcc': 0.5792624688677096, 'train_loss': 0.2353713710172689}\n",
      "Early stopping.\n",
      "\n",
      " === bert-base-uncased + bilstm + ros Final 10-fold Cross-Validation Results ===\n",
      "Total time: 5970 seconds\n",
      "Total time: 1 hrs 39 mins 30 secs\n",
      "val_loss: 1.4487\n",
      "val_accuracy: 0.6596\n",
      "precision: 0.6774\n",
      "recall: 0.6596\n",
      "f1-score: 0.6548\n",
      "macro_f1-score: 0.4190\n",
      "balanced_accuracy: 0.4474\n",
      "mcc: 0.5597\n",
      "train_loss: 0.4687\n",
      "▶ Running: roberta-base + cnn + ros\n",
      "tokenizer is roberta-base\n"
     ]
    },
    {
     "name": "stderr",
     "output_type": "stream",
     "text": [
      "c:\\Users\\user\\AppData\\Local\\Programs\\Python\\Python310\\lib\\site-packages\\huggingface_hub\\file_download.py:142: UserWarning: `huggingface_hub` cache-system uses symlinks by default to efficiently store duplicated files but your machine does not support them in C:\\Users\\user\\.cache\\huggingface\\hub\\models--roberta-base. Caching files will still work but in a degraded version that might require more space on your disk. This warning can be disabled by setting the `HF_HUB_DISABLE_SYMLINKS_WARNING` environment variable. For more details, see https://huggingface.co/docs/huggingface_hub/how-to-cache#limitations.\n",
      "To support symlinks on Windows, you either need to activate Developer Mode or to run Python as an administrator. In order to activate developer mode, see this article: https://docs.microsoft.com/en-us/windows/apps/get-started/enable-your-device-for-development\n",
      "  warnings.warn(message)\n"
     ]
    },
    {
     "name": "stdout",
     "output_type": "stream",
     "text": [
      "Using device: cuda\n",
      "CUDA Available: True\n",
      "CUDA Device: NVIDIA GeForce RTX 5070 Ti\n",
      "Current GPU Memory Allocated: 0.02 GB\n",
      "Current GPU Memory Cached: 3.16 GB\n",
      "\n",
      "[Fold 1]\n",
      "Label distribution after resampling:\n",
      "  label 0: 2000\n",
      "  label 1: 200\n",
      "  label 2: 200\n",
      "  label 3: 200\n",
      "  label 4: 231\n",
      "  label 5: 200\n",
      "  label 6: 200\n",
      "  label 7: 200\n",
      "  label 8: 200\n",
      "  label 9: 200\n",
      "  label 10: 200\n",
      "  label 11: 200\n",
      "  label 12: 217\n",
      "  label 13: 200\n",
      "  label 14: 200\n",
      "  label 15: 200\n",
      "  label 16: 200\n",
      "  label 17: 260\n",
      "  label 18: 200\n",
      "  label 19: 200\n",
      "  label 20: 200\n",
      "  label 21: 200\n",
      "  label 22: 200\n",
      "  label 23: 200\n",
      "  label 24: 200\n",
      "  label 25: 200\n",
      "  label 26: 200\n",
      "  label 27: 200\n",
      "  label 28: 200\n",
      "  label 29: 200\n",
      "  label 30: 200\n",
      "  label 31: 200\n",
      "  label 32: 200\n",
      "  label 33: 200\n",
      "  label 34: 200\n",
      "  label 35: 200\n",
      "  label 36: 200\n",
      "  label 37: 200\n",
      "  label 38: 200\n",
      "  label 39: 200\n",
      "  label 40: 200\n",
      "  label 41: 200\n",
      "  label 42: 200\n",
      "  label 43: 200\n",
      "  label 44: 200\n",
      "  label 45: 200\n",
      "  label 46: 200\n",
      "  label 47: 595\n",
      "  label 48: 227\n",
      "  label 49: 200\n",
      "model is roberta-base cnn\n"
     ]
    },
    {
     "name": "stderr",
     "output_type": "stream",
     "text": [
      "c:\\Users\\user\\AppData\\Local\\Programs\\Python\\Python310\\lib\\site-packages\\sklearn\\model_selection\\_split.py:805: UserWarning: The least populated class in y has only 7 members, which is less than n_splits=10.\n",
      "  warnings.warn(\n",
      "Some weights of RobertaModel were not initialized from the model checkpoint at roberta-base and are newly initialized: ['pooler.dense.bias', 'pooler.dense.weight']\n",
      "You should probably TRAIN this model on a down-stream task to be able to use it for predictions and inference.\n"
     ]
    },
    {
     "name": "stdout",
     "output_type": "stream",
     "text": [
      "Epoch 1/20\n"
     ]
    },
    {
     "name": "stderr",
     "output_type": "stream",
     "text": [
      "100%|██████████| 771/771 [01:07<00:00, 11.48it/s]\n"
     ]
    },
    {
     "name": "stdout",
     "output_type": "stream",
     "text": [
      "{'val_loss': 1.456240973382626, 'val_accuracy': 0.6158392434988179, 'precision': 0.6096196585324751, 'recall': 0.6158392434988179, 'f1-score': 0.5911428788028873, 'macro_f1-score': 0.30291734977540824, 'balanced_accuracy': 0.3776051592688613, 'mcc': 0.48856338255107395, 'train_loss': 2.2625568987639806}\n",
      "Epoch 2/20\n"
     ]
    },
    {
     "name": "stderr",
     "output_type": "stream",
     "text": [
      "100%|██████████| 771/771 [01:07<00:00, 11.48it/s]\n"
     ]
    },
    {
     "name": "stdout",
     "output_type": "stream",
     "text": [
      "{'val_loss': 1.4481557236527496, 'val_accuracy': 0.6111111111111112, 'precision': 0.6400066343732904, 'recall': 0.6111111111111112, 'f1-score': 0.6169822199379461, 'macro_f1-score': 0.36259413673493585, 'balanced_accuracy': 0.40628664304370427, 'mcc': 0.502071991148127, 'train_loss': 1.0046758964445186}\n",
      "Epoch 3/20\n"
     ]
    },
    {
     "name": "stderr",
     "output_type": "stream",
     "text": [
      "100%|██████████| 771/771 [01:07<00:00, 11.48it/s]\n"
     ]
    },
    {
     "name": "stdout",
     "output_type": "stream",
     "text": [
      "{'val_loss': 1.4167624869436588, 'val_accuracy': 0.6347517730496454, 'precision': 0.6674255132392909, 'recall': 0.6347517730496454, 'f1-score': 0.634297394619654, 'macro_f1-score': 0.4110999771532655, 'balanced_accuracy': 0.460317293394732, 'mcc': 0.5302479665124256, 'train_loss': 0.6428811330488374}\n",
      "Epoch 4/20\n"
     ]
    },
    {
     "name": "stderr",
     "output_type": "stream",
     "text": [
      "100%|██████████| 771/771 [01:07<00:00, 11.49it/s]\n"
     ]
    },
    {
     "name": "stdout",
     "output_type": "stream",
     "text": [
      "{'val_loss': 1.4522007596942614, 'val_accuracy': 0.6217494089834515, 'precision': 0.6646646238888946, 'recall': 0.6217494089834515, 'f1-score': 0.6314347667933041, 'macro_f1-score': 0.40415413287337587, 'balanced_accuracy': 0.4414584810594768, 'mcc': 0.5164337267382877, 'train_loss': 0.5165349109830327}\n",
      "Epoch 5/20\n"
     ]
    },
    {
     "name": "stderr",
     "output_type": "stream",
     "text": [
      "100%|██████████| 771/771 [01:07<00:00, 11.49it/s]\n"
     ]
    },
    {
     "name": "stdout",
     "output_type": "stream",
     "text": [
      "{'val_loss': 1.565448744117089, 'val_accuracy': 0.624113475177305, 'precision': 0.6824385379559161, 'recall': 0.624113475177305, 'f1-score': 0.6390171310076646, 'macro_f1-score': 0.39620408572258703, 'balanced_accuracy': 0.42684190639371183, 'mcc': 0.5274569264483098, 'train_loss': 0.4359963977064372}\n",
      "Epoch 6/20\n"
     ]
    },
    {
     "name": "stderr",
     "output_type": "stream",
     "text": [
      "100%|██████████| 771/771 [01:07<00:00, 11.48it/s]\n",
      "c:\\Users\\user\\AppData\\Local\\Programs\\Python\\Python310\\lib\\site-packages\\sklearn\\metrics\\_classification.py:2524: UserWarning: y_pred contains classes not in y_true\n",
      "  warnings.warn(\"y_pred contains classes not in y_true\")\n"
     ]
    },
    {
     "name": "stdout",
     "output_type": "stream",
     "text": [
      "{'val_loss': 1.7334807166513406, 'val_accuracy': 0.6111111111111112, 'precision': 0.67246000345788, 'recall': 0.6111111111111112, 'f1-score': 0.6232129558013488, 'macro_f1-score': 0.3882747347499922, 'balanced_accuracy': 0.4576357027091876, 'mcc': 0.5171122089668321, 'train_loss': 0.36309919688468933}\n",
      "Early stopping.\n",
      "\n",
      "[Fold 2]\n",
      "Label distribution after resampling:\n",
      "  label 0: 2000\n",
      "  label 1: 200\n",
      "  label 2: 200\n",
      "  label 3: 200\n",
      "  label 4: 231\n",
      "  label 5: 200\n",
      "  label 6: 200\n",
      "  label 7: 200\n",
      "  label 8: 200\n",
      "  label 9: 200\n",
      "  label 10: 200\n",
      "  label 11: 200\n",
      "  label 12: 217\n",
      "  label 13: 200\n",
      "  label 14: 200\n",
      "  label 15: 200\n",
      "  label 16: 200\n",
      "  label 17: 260\n",
      "  label 18: 200\n",
      "  label 19: 200\n",
      "  label 20: 200\n",
      "  label 21: 200\n",
      "  label 22: 200\n",
      "  label 23: 200\n",
      "  label 24: 200\n",
      "  label 25: 200\n",
      "  label 26: 200\n",
      "  label 27: 200\n",
      "  label 28: 200\n",
      "  label 29: 200\n",
      "  label 30: 200\n",
      "  label 31: 200\n",
      "  label 32: 200\n",
      "  label 33: 200\n",
      "  label 34: 200\n",
      "  label 35: 200\n",
      "  label 36: 200\n",
      "  label 37: 200\n",
      "  label 38: 200\n",
      "  label 39: 200\n",
      "  label 40: 200\n",
      "  label 41: 200\n",
      "  label 42: 200\n",
      "  label 43: 200\n",
      "  label 44: 200\n",
      "  label 45: 200\n",
      "  label 46: 200\n",
      "  label 47: 595\n",
      "  label 48: 227\n",
      "  label 49: 200\n",
      "model is roberta-base cnn\n"
     ]
    },
    {
     "name": "stderr",
     "output_type": "stream",
     "text": [
      "Some weights of RobertaModel were not initialized from the model checkpoint at roberta-base and are newly initialized: ['pooler.dense.bias', 'pooler.dense.weight']\n",
      "You should probably TRAIN this model on a down-stream task to be able to use it for predictions and inference.\n"
     ]
    },
    {
     "name": "stdout",
     "output_type": "stream",
     "text": [
      "Epoch 1/20\n"
     ]
    },
    {
     "name": "stderr",
     "output_type": "stream",
     "text": [
      "100%|██████████| 771/771 [01:07<00:00, 11.48it/s]\n"
     ]
    },
    {
     "name": "stdout",
     "output_type": "stream",
     "text": [
      "{'val_loss': 1.620121052804983, 'val_accuracy': 0.5177304964539007, 'precision': 0.5914768162503469, 'recall': 0.5177304964539007, 'f1-score': 0.5262724198818545, 'macro_f1-score': 0.26564059034057175, 'balanced_accuracy': 0.3497323856855134, 'mcc': 0.40216253559602777, 'train_loss': 2.528300887802386}\n",
      "Epoch 2/20\n"
     ]
    },
    {
     "name": "stderr",
     "output_type": "stream",
     "text": [
      "100%|██████████| 771/771 [01:07<00:00, 11.49it/s]\n"
     ]
    },
    {
     "name": "stdout",
     "output_type": "stream",
     "text": [
      "{'val_loss': 1.3171143222529933, 'val_accuracy': 0.6099290780141844, 'precision': 0.6537988027648727, 'recall': 0.6099290780141844, 'f1-score': 0.6066813175741496, 'macro_f1-score': 0.3610235824647345, 'balanced_accuracy': 0.4419484888703395, 'mcc': 0.4954185697016331, 'train_loss': 1.142520587074772}\n",
      "Epoch 3/20\n"
     ]
    },
    {
     "name": "stderr",
     "output_type": "stream",
     "text": [
      "100%|██████████| 771/771 [01:07<00:00, 11.49it/s]\n"
     ]
    },
    {
     "name": "stdout",
     "output_type": "stream",
     "text": [
      "{'val_loss': 1.4673487521567434, 'val_accuracy': 0.5969267139479906, 'precision': 0.674353810999847, 'recall': 0.5969267139479906, 'f1-score': 0.6048522038937421, 'macro_f1-score': 0.34614446326645754, 'balanced_accuracy': 0.40484391789692425, 'mcc': 0.4970259694797803, 'train_loss': 0.688444061125067}\n",
      "Epoch 4/20\n"
     ]
    },
    {
     "name": "stderr",
     "output_type": "stream",
     "text": [
      "100%|██████████| 771/771 [01:07<00:00, 11.49it/s]\n"
     ]
    },
    {
     "name": "stdout",
     "output_type": "stream",
     "text": [
      "{'val_loss': 1.4121840989814614, 'val_accuracy': 0.624113475177305, 'precision': 0.6748029035353652, 'recall': 0.624113475177305, 'f1-score': 0.6328954217051477, 'macro_f1-score': 0.37589036189161346, 'balanced_accuracy': 0.40005155473725906, 'mcc': 0.523946281887279, 'train_loss': 0.5056297334464298}\n",
      "Epoch 5/20\n"
     ]
    },
    {
     "name": "stderr",
     "output_type": "stream",
     "text": [
      "100%|██████████| 771/771 [01:07<00:00, 11.48it/s]\n"
     ]
    },
    {
     "name": "stdout",
     "output_type": "stream",
     "text": [
      "{'val_loss': 1.5326141726295903, 'val_accuracy': 0.6087470449172577, 'precision': 0.6465422973815708, 'recall': 0.6087470449172577, 'f1-score': 0.6096772786738764, 'macro_f1-score': 0.35447866936559597, 'balanced_accuracy': 0.3937425503490137, 'mcc': 0.5050484203443311, 'train_loss': 0.4096811278427235}\n",
      "Epoch 6/20\n"
     ]
    },
    {
     "name": "stderr",
     "output_type": "stream",
     "text": [
      "100%|██████████| 771/771 [01:07<00:00, 11.48it/s]\n"
     ]
    },
    {
     "name": "stdout",
     "output_type": "stream",
     "text": [
      "{'val_loss': 1.6124475092258093, 'val_accuracy': 0.6170212765957447, 'precision': 0.6687592562580075, 'recall': 0.6170212765957447, 'f1-score': 0.6234581061223929, 'macro_f1-score': 0.3650148049857952, 'balanced_accuracy': 0.4008372614851215, 'mcc': 0.5239079282477563, 'train_loss': 0.3623379732840894}\n",
      "Epoch 7/20\n"
     ]
    },
    {
     "name": "stderr",
     "output_type": "stream",
     "text": [
      "100%|██████████| 771/771 [01:07<00:00, 11.50it/s]\n"
     ]
    },
    {
     "name": "stdout",
     "output_type": "stream",
     "text": [
      "{'val_loss': 1.5774838508300062, 'val_accuracy': 0.6501182033096927, 'precision': 0.6758776634842918, 'recall': 0.6501182033096927, 'f1-score': 0.6476489675211395, 'macro_f1-score': 0.3805509252505343, 'balanced_accuracy': 0.3946680967485507, 'mcc': 0.5418278792329502, 'train_loss': 0.3326935585649822}\n",
      "Epoch 8/20\n"
     ]
    },
    {
     "name": "stderr",
     "output_type": "stream",
     "text": [
      "100%|██████████| 771/771 [01:07<00:00, 11.49it/s]\n"
     ]
    },
    {
     "name": "stdout",
     "output_type": "stream",
     "text": [
      "{'val_loss': 1.7761134190379448, 'val_accuracy': 0.6205673758865248, 'precision': 0.678008072900075, 'recall': 0.6205673758865248, 'f1-score': 0.631357129368487, 'macro_f1-score': 0.35929663167117115, 'balanced_accuracy': 0.4221177028327955, 'mcc': 0.5302367780612889, 'train_loss': 0.27881139064335714}\n",
      "Epoch 9/20\n"
     ]
    },
    {
     "name": "stderr",
     "output_type": "stream",
     "text": [
      "100%|██████████| 771/771 [01:07<00:00, 11.49it/s]\n"
     ]
    },
    {
     "name": "stdout",
     "output_type": "stream",
     "text": [
      "{'val_loss': 1.6794855701473523, 'val_accuracy': 0.640661938534279, 'precision': 0.6522607750743584, 'recall': 0.640661938534279, 'f1-score': 0.6345867013056592, 'macro_f1-score': 0.3529566588470508, 'balanced_accuracy': 0.36777512795643097, 'mcc': 0.5263632885116521, 'train_loss': 0.291261847546486}\n",
      "Epoch 10/20\n"
     ]
    },
    {
     "name": "stderr",
     "output_type": "stream",
     "text": [
      "100%|██████████| 771/771 [01:07<00:00, 11.49it/s]\n"
     ]
    },
    {
     "name": "stdout",
     "output_type": "stream",
     "text": [
      "{'val_loss': 1.6033911997417234, 'val_accuracy': 0.6335697399527187, 'precision': 0.663366856193229, 'recall': 0.6335697399527187, 'f1-score': 0.6340588740795865, 'macro_f1-score': 0.3818910473187316, 'balanced_accuracy': 0.40869078028769595, 'mcc': 0.5331929764641796, 'train_loss': 0.28633649448408766}\n",
      "Epoch 11/20\n"
     ]
    },
    {
     "name": "stderr",
     "output_type": "stream",
     "text": [
      "100%|██████████| 771/771 [01:07<00:00, 11.48it/s]\n"
     ]
    },
    {
     "name": "stdout",
     "output_type": "stream",
     "text": [
      "{'val_loss': 1.7389985963983356, 'val_accuracy': 0.6418439716312057, 'precision': 0.6658114298942567, 'recall': 0.6418439716312057, 'f1-score': 0.6429959192942174, 'macro_f1-score': 0.3903994240269791, 'balanced_accuracy': 0.41817962906959616, 'mcc': 0.5369152521026821, 'train_loss': 0.24839496995647342}\n",
      "Epoch 12/20\n"
     ]
    },
    {
     "name": "stderr",
     "output_type": "stream",
     "text": [
      "100%|██████████| 771/771 [01:07<00:00, 11.50it/s]\n"
     ]
    },
    {
     "name": "stdout",
     "output_type": "stream",
     "text": [
      "{'val_loss': 1.7311762402642448, 'val_accuracy': 0.6371158392434988, 'precision': 0.6681667251320108, 'recall': 0.6371158392434988, 'f1-score': 0.6419732383809286, 'macro_f1-score': 0.36007541358015416, 'balanced_accuracy': 0.3798446038837652, 'mcc': 0.5369624686642512, 'train_loss': 0.24477396171084628}\n",
      "Epoch 13/20\n"
     ]
    },
    {
     "name": "stderr",
     "output_type": "stream",
     "text": [
      "100%|██████████| 771/771 [01:07<00:00, 11.49it/s]\n"
     ]
    },
    {
     "name": "stdout",
     "output_type": "stream",
     "text": [
      "{'val_loss': 1.7060438068407886, 'val_accuracy': 0.6631205673758865, 'precision': 0.6794821411282512, 'recall': 0.6631205673758865, 'f1-score': 0.6517096525338903, 'macro_f1-score': 0.3724385903202634, 'balanced_accuracy': 0.3820432184615861, 'mcc': 0.5595957758314063, 'train_loss': 0.23014105864843998}\n",
      "Epoch 14/20\n"
     ]
    },
    {
     "name": "stderr",
     "output_type": "stream",
     "text": [
      "100%|██████████| 771/771 [01:07<00:00, 11.49it/s]\n"
     ]
    },
    {
     "name": "stdout",
     "output_type": "stream",
     "text": [
      "{'val_loss': 1.817686656735978, 'val_accuracy': 0.6229314420803782, 'precision': 0.6640198421623347, 'recall': 0.6229314420803782, 'f1-score': 0.6317264802793314, 'macro_f1-score': 0.3594810205121338, 'balanced_accuracy': 0.3952651484655816, 'mcc': 0.527002439383676, 'train_loss': 0.24345453194887334}\n",
      "Early stopping.\n",
      "\n",
      "[Fold 3]\n",
      "Label distribution after resampling:\n",
      "  label 0: 2000\n",
      "  label 1: 200\n",
      "  label 2: 200\n",
      "  label 3: 200\n",
      "  label 4: 231\n",
      "  label 5: 200\n",
      "  label 6: 200\n",
      "  label 7: 200\n",
      "  label 8: 200\n",
      "  label 9: 200\n",
      "  label 10: 200\n",
      "  label 11: 200\n",
      "  label 12: 217\n",
      "  label 13: 200\n",
      "  label 14: 200\n",
      "  label 15: 200\n",
      "  label 16: 200\n",
      "  label 17: 260\n",
      "  label 18: 200\n",
      "  label 19: 200\n",
      "  label 20: 200\n",
      "  label 21: 200\n",
      "  label 22: 200\n",
      "  label 23: 200\n",
      "  label 24: 200\n",
      "  label 25: 200\n",
      "  label 26: 200\n",
      "  label 27: 200\n",
      "  label 28: 200\n",
      "  label 29: 200\n",
      "  label 30: 200\n",
      "  label 31: 200\n",
      "  label 32: 200\n",
      "  label 33: 200\n",
      "  label 34: 200\n",
      "  label 35: 200\n",
      "  label 36: 200\n",
      "  label 37: 200\n",
      "  label 38: 200\n",
      "  label 39: 200\n",
      "  label 40: 200\n",
      "  label 41: 200\n",
      "  label 42: 200\n",
      "  label 43: 200\n",
      "  label 44: 200\n",
      "  label 45: 200\n",
      "  label 46: 200\n",
      "  label 47: 595\n",
      "  label 48: 227\n",
      "  label 49: 200\n",
      "model is roberta-base cnn\n"
     ]
    },
    {
     "name": "stderr",
     "output_type": "stream",
     "text": [
      "Some weights of RobertaModel were not initialized from the model checkpoint at roberta-base and are newly initialized: ['pooler.dense.bias', 'pooler.dense.weight']\n",
      "You should probably TRAIN this model on a down-stream task to be able to use it for predictions and inference.\n"
     ]
    },
    {
     "name": "stdout",
     "output_type": "stream",
     "text": [
      "Epoch 1/20\n"
     ]
    },
    {
     "name": "stderr",
     "output_type": "stream",
     "text": [
      "100%|██████████| 771/771 [01:07<00:00, 11.49it/s]\n"
     ]
    },
    {
     "name": "stdout",
     "output_type": "stream",
     "text": [
      "{'val_loss': 1.4329868487592012, 'val_accuracy': 0.5981087470449172, 'precision': 0.6656625350418149, 'recall': 0.5981087470449172, 'f1-score': 0.5952333600398741, 'macro_f1-score': 0.31681451739944405, 'balanced_accuracy': 0.4059127969010139, 'mcc': 0.4789833614273248, 'train_loss': 2.252324803252783}\n",
      "Epoch 2/20\n"
     ]
    },
    {
     "name": "stderr",
     "output_type": "stream",
     "text": [
      "100%|██████████| 771/771 [01:07<00:00, 11.48it/s]\n"
     ]
    },
    {
     "name": "stdout",
     "output_type": "stream",
     "text": [
      "{'val_loss': 1.5022901892662048, 'val_accuracy': 0.5756501182033097, 'precision': 0.6541412870860938, 'recall': 0.5756501182033097, 'f1-score': 0.5922643002991476, 'macro_f1-score': 0.37278969075748386, 'balanced_accuracy': 0.4467855237428968, 'mcc': 0.4743836314830186, 'train_loss': 0.9712996844265093}\n",
      "Epoch 3/20\n"
     ]
    },
    {
     "name": "stderr",
     "output_type": "stream",
     "text": [
      "100%|██████████| 771/771 [01:07<00:00, 11.50it/s]\n"
     ]
    },
    {
     "name": "stdout",
     "output_type": "stream",
     "text": [
      "{'val_loss': 1.4266707076216645, 'val_accuracy': 0.6312056737588653, 'precision': 0.6729436478652957, 'recall': 0.6312056737588653, 'f1-score': 0.6305006477008436, 'macro_f1-score': 0.3842602955114758, 'balanced_accuracy': 0.44675584046481637, 'mcc': 0.5292926214007698, 'train_loss': 0.626639526525824}\n",
      "Epoch 4/20\n"
     ]
    },
    {
     "name": "stderr",
     "output_type": "stream",
     "text": [
      "100%|██████████| 771/771 [01:07<00:00, 11.48it/s]\n"
     ]
    },
    {
     "name": "stdout",
     "output_type": "stream",
     "text": [
      "{'val_loss': 1.3980365103145815, 'val_accuracy': 0.648936170212766, 'precision': 0.6781281930248545, 'recall': 0.648936170212766, 'f1-score': 0.6400085355757738, 'macro_f1-score': 0.39217895517383483, 'balanced_accuracy': 0.41048482224373745, 'mcc': 0.5428099432413954, 'train_loss': 0.47152099021059374}\n",
      "Epoch 5/20\n"
     ]
    },
    {
     "name": "stderr",
     "output_type": "stream",
     "text": [
      "100%|██████████| 771/771 [01:07<00:00, 11.49it/s]\n"
     ]
    },
    {
     "name": "stdout",
     "output_type": "stream",
     "text": [
      "{'val_loss': 1.4807850549805839, 'val_accuracy': 0.6430260047281324, 'precision': 0.6691754629214596, 'recall': 0.6430260047281324, 'f1-score': 0.6395916161362505, 'macro_f1-score': 0.3819926351316505, 'balanced_accuracy': 0.42076235073769297, 'mcc': 0.5416804770670933, 'train_loss': 0.394625916615631}\n",
      "Epoch 6/20\n"
     ]
    },
    {
     "name": "stderr",
     "output_type": "stream",
     "text": [
      "100%|██████████| 771/771 [01:07<00:00, 11.48it/s]\n"
     ]
    },
    {
     "name": "stdout",
     "output_type": "stream",
     "text": [
      "{'val_loss': 1.574331451137111, 'val_accuracy': 0.6323877068557919, 'precision': 0.6586246850029013, 'recall': 0.6323877068557919, 'f1-score': 0.6314476405721322, 'macro_f1-score': 0.3963364353387017, 'balanced_accuracy': 0.4284772779733792, 'mcc': 0.5317595124464607, 'train_loss': 0.341907638916323}\n",
      "Epoch 7/20\n"
     ]
    },
    {
     "name": "stderr",
     "output_type": "stream",
     "text": [
      "100%|██████████| 771/771 [01:07<00:00, 11.48it/s]\n"
     ]
    },
    {
     "name": "stdout",
     "output_type": "stream",
     "text": [
      "{'val_loss': 1.7168382293773148, 'val_accuracy': 0.5957446808510638, 'precision': 0.639361033488799, 'recall': 0.5957446808510638, 'f1-score': 0.6052759961125647, 'macro_f1-score': 0.34086788651439626, 'balanced_accuracy': 0.3849865376464926, 'mcc': 0.49576514179654274, 'train_loss': 0.30458419475385534}\n",
      "Epoch 8/20\n"
     ]
    },
    {
     "name": "stderr",
     "output_type": "stream",
     "text": [
      "100%|██████████| 771/771 [01:07<00:00, 11.48it/s]\n"
     ]
    },
    {
     "name": "stdout",
     "output_type": "stream",
     "text": [
      "{'val_loss': 1.6892086745433088, 'val_accuracy': 0.6548463356973995, 'precision': 0.6723080922982688, 'recall': 0.6548463356973995, 'f1-score': 0.6505804948827443, 'macro_f1-score': 0.3965206215481471, 'balanced_accuracy': 0.39345553250923204, 'mcc': 0.5454706522220177, 'train_loss': 0.28291019792855754}\n",
      "Epoch 9/20\n"
     ]
    },
    {
     "name": "stderr",
     "output_type": "stream",
     "text": [
      "100%|██████████| 771/771 [01:07<00:00, 11.49it/s]\n"
     ]
    },
    {
     "name": "stdout",
     "output_type": "stream",
     "text": [
      "{'val_loss': 1.8238819798208632, 'val_accuracy': 0.6288416075650118, 'precision': 0.6765085617360385, 'recall': 0.6288416075650118, 'f1-score': 0.6385011161323664, 'macro_f1-score': 0.38026730363940847, 'balanced_accuracy': 0.4382317536407642, 'mcc': 0.5301860221204936, 'train_loss': 0.2662647611566671}\n",
      "Epoch 10/20\n"
     ]
    },
    {
     "name": "stderr",
     "output_type": "stream",
     "text": [
      "100%|██████████| 771/771 [01:07<00:00, 11.50it/s]\n"
     ]
    },
    {
     "name": "stdout",
     "output_type": "stream",
     "text": [
      "{'val_loss': 1.6001029149541315, 'val_accuracy': 0.6607565011820331, 'precision': 0.6711839843236316, 'recall': 0.6607565011820331, 'f1-score': 0.6538109437589573, 'macro_f1-score': 0.38643707566459023, 'balanced_accuracy': 0.39634814610099656, 'mcc': 0.5523554085526248, 'train_loss': 0.28854148629020016}\n",
      "Epoch 11/20\n"
     ]
    },
    {
     "name": "stderr",
     "output_type": "stream",
     "text": [
      "100%|██████████| 771/771 [01:07<00:00, 11.49it/s]\n"
     ]
    },
    {
     "name": "stdout",
     "output_type": "stream",
     "text": [
      "{'val_loss': 1.7773264320391529, 'val_accuracy': 0.6170212765957447, 'precision': 0.676476516203674, 'recall': 0.6170212765957447, 'f1-score': 0.6305562662773349, 'macro_f1-score': 0.36807884531235074, 'balanced_accuracy': 0.43101452171502425, 'mcc': 0.5326088550039221, 'train_loss': 0.2578083461726715}\n",
      "Early stopping.\n",
      "\n",
      "[Fold 4]\n",
      "Label distribution after resampling:\n",
      "  label 0: 2000\n",
      "  label 1: 200\n",
      "  label 2: 200\n",
      "  label 3: 200\n",
      "  label 4: 231\n",
      "  label 5: 200\n",
      "  label 6: 200\n",
      "  label 7: 200\n",
      "  label 8: 200\n",
      "  label 9: 200\n",
      "  label 10: 200\n",
      "  label 11: 200\n",
      "  label 12: 217\n",
      "  label 13: 200\n",
      "  label 14: 200\n",
      "  label 15: 200\n",
      "  label 16: 200\n",
      "  label 17: 260\n",
      "  label 18: 200\n",
      "  label 19: 200\n",
      "  label 20: 200\n",
      "  label 21: 200\n",
      "  label 22: 200\n",
      "  label 23: 200\n",
      "  label 24: 200\n",
      "  label 25: 200\n",
      "  label 26: 200\n",
      "  label 27: 200\n",
      "  label 28: 200\n",
      "  label 29: 200\n",
      "  label 30: 200\n",
      "  label 31: 200\n",
      "  label 32: 200\n",
      "  label 33: 200\n",
      "  label 34: 200\n",
      "  label 35: 200\n",
      "  label 36: 200\n",
      "  label 37: 200\n",
      "  label 38: 200\n",
      "  label 39: 200\n",
      "  label 40: 200\n",
      "  label 41: 200\n",
      "  label 42: 200\n",
      "  label 43: 200\n",
      "  label 44: 200\n",
      "  label 45: 200\n",
      "  label 46: 200\n",
      "  label 47: 595\n",
      "  label 48: 227\n",
      "  label 49: 200\n",
      "model is roberta-base cnn\n"
     ]
    },
    {
     "name": "stderr",
     "output_type": "stream",
     "text": [
      "Some weights of RobertaModel were not initialized from the model checkpoint at roberta-base and are newly initialized: ['pooler.dense.bias', 'pooler.dense.weight']\n",
      "You should probably TRAIN this model on a down-stream task to be able to use it for predictions and inference.\n"
     ]
    },
    {
     "name": "stdout",
     "output_type": "stream",
     "text": [
      "Epoch 1/20\n"
     ]
    },
    {
     "name": "stderr",
     "output_type": "stream",
     "text": [
      "100%|██████████| 771/771 [01:07<00:00, 11.48it/s]\n"
     ]
    },
    {
     "name": "stdout",
     "output_type": "stream",
     "text": [
      "{'val_loss': 1.6372800739306324, 'val_accuracy': 0.5460992907801419, 'precision': 0.6204722844973076, 'recall': 0.5460992907801419, 'f1-score': 0.5606379407650378, 'macro_f1-score': 0.30175982310007154, 'balanced_accuracy': 0.3694667935310805, 'mcc': 0.4391572751743852, 'train_loss': 2.2162207244435175}\n",
      "Epoch 2/20\n"
     ]
    },
    {
     "name": "stderr",
     "output_type": "stream",
     "text": [
      "100%|██████████| 771/771 [01:07<00:00, 11.48it/s]\n"
     ]
    },
    {
     "name": "stdout",
     "output_type": "stream",
     "text": [
      "{'val_loss': 1.3744765092741769, 'val_accuracy': 0.6513002364066194, 'precision': 0.6500271729981326, 'recall': 0.6513002364066194, 'f1-score': 0.6250020183774138, 'macro_f1-score': 0.36949565900346015, 'balanced_accuracy': 0.3602165679331161, 'mcc': 0.5261581848052466, 'train_loss': 0.9755775017033291}\n",
      "Epoch 3/20\n"
     ]
    },
    {
     "name": "stderr",
     "output_type": "stream",
     "text": [
      "100%|██████████| 771/771 [01:07<00:00, 11.49it/s]\n"
     ]
    },
    {
     "name": "stdout",
     "output_type": "stream",
     "text": [
      "{'val_loss': 1.3939133320214614, 'val_accuracy': 0.6252955082742316, 'precision': 0.6574764328914542, 'recall': 0.6252955082742316, 'f1-score': 0.6287190174558959, 'macro_f1-score': 0.4093019647997589, 'balanced_accuracy': 0.4509136927994318, 'mcc': 0.5245456216498677, 'train_loss': 0.6588426802872683}\n",
      "Epoch 4/20\n"
     ]
    },
    {
     "name": "stderr",
     "output_type": "stream",
     "text": [
      "100%|██████████| 771/771 [01:07<00:00, 11.49it/s]\n"
     ]
    },
    {
     "name": "stdout",
     "output_type": "stream",
     "text": [
      "{'val_loss': 1.629400930314694, 'val_accuracy': 0.6134751773049646, 'precision': 0.6548657609884667, 'recall': 0.6134751773049646, 'f1-score': 0.6212473598914269, 'macro_f1-score': 0.3825252736073942, 'balanced_accuracy': 0.43240000666077605, 'mcc': 0.5146407555246515, 'train_loss': 0.48972321686790304}\n",
      "Epoch 5/20\n"
     ]
    },
    {
     "name": "stderr",
     "output_type": "stream",
     "text": [
      "100%|██████████| 771/771 [01:07<00:00, 11.49it/s]\n"
     ]
    },
    {
     "name": "stdout",
     "output_type": "stream",
     "text": [
      "{'val_loss': 1.4863213328820355, 'val_accuracy': 0.6394799054373522, 'precision': 0.660775705320682, 'recall': 0.6394799054373522, 'f1-score': 0.6321165703168498, 'macro_f1-score': 0.37860625580703555, 'balanced_accuracy': 0.4350859956501267, 'mcc': 0.5348609522289817, 'train_loss': 0.4111711331081472}\n",
      "Epoch 6/20\n"
     ]
    },
    {
     "name": "stderr",
     "output_type": "stream",
     "text": [
      "100%|██████████| 771/771 [01:07<00:00, 11.49it/s]\n"
     ]
    },
    {
     "name": "stdout",
     "output_type": "stream",
     "text": [
      "{'val_loss': 1.718611072819188, 'val_accuracy': 0.6170212765957447, 'precision': 0.6554706829947199, 'recall': 0.6170212765957447, 'f1-score': 0.6191472924383817, 'macro_f1-score': 0.3817937236757754, 'balanced_accuracy': 0.4200443500568436, 'mcc': 0.5186386385915082, 'train_loss': 0.35838879300849136}\n",
      "Early stopping.\n",
      "\n",
      "[Fold 5]\n",
      "Label distribution after resampling:\n",
      "  label 0: 2000\n",
      "  label 1: 200\n",
      "  label 2: 200\n",
      "  label 3: 200\n",
      "  label 4: 231\n",
      "  label 5: 200\n",
      "  label 6: 200\n",
      "  label 7: 200\n",
      "  label 8: 200\n",
      "  label 9: 200\n",
      "  label 10: 200\n",
      "  label 11: 200\n",
      "  label 12: 217\n",
      "  label 13: 200\n",
      "  label 14: 200\n",
      "  label 15: 200\n",
      "  label 16: 200\n",
      "  label 17: 260\n",
      "  label 18: 200\n",
      "  label 19: 200\n",
      "  label 20: 200\n",
      "  label 21: 200\n",
      "  label 22: 200\n",
      "  label 23: 200\n",
      "  label 24: 200\n",
      "  label 25: 200\n",
      "  label 26: 200\n",
      "  label 27: 200\n",
      "  label 28: 200\n",
      "  label 29: 200\n",
      "  label 30: 200\n",
      "  label 31: 200\n",
      "  label 32: 200\n",
      "  label 33: 200\n",
      "  label 34: 200\n",
      "  label 35: 200\n",
      "  label 36: 200\n",
      "  label 37: 200\n",
      "  label 38: 200\n",
      "  label 39: 200\n",
      "  label 40: 200\n",
      "  label 41: 200\n",
      "  label 42: 200\n",
      "  label 43: 200\n",
      "  label 44: 200\n",
      "  label 45: 200\n",
      "  label 46: 200\n",
      "  label 47: 595\n",
      "  label 48: 227\n",
      "  label 49: 200\n",
      "model is roberta-base cnn\n"
     ]
    },
    {
     "name": "stderr",
     "output_type": "stream",
     "text": [
      "Some weights of RobertaModel were not initialized from the model checkpoint at roberta-base and are newly initialized: ['pooler.dense.bias', 'pooler.dense.weight']\n",
      "You should probably TRAIN this model on a down-stream task to be able to use it for predictions and inference.\n"
     ]
    },
    {
     "name": "stdout",
     "output_type": "stream",
     "text": [
      "Epoch 1/20\n"
     ]
    },
    {
     "name": "stderr",
     "output_type": "stream",
     "text": [
      "100%|██████████| 771/771 [01:07<00:00, 11.48it/s]\n"
     ]
    },
    {
     "name": "stdout",
     "output_type": "stream",
     "text": [
      "{'val_loss': 1.6866069987135113, 'val_accuracy': 0.5455621301775148, 'precision': 0.6035021957129123, 'recall': 0.5455621301775148, 'f1-score': 0.5527855562820733, 'macro_f1-score': 0.3003688259227469, 'balanced_accuracy': 0.4031381187551169, 'mcc': 0.4501939329443637, 'train_loss': 2.252504164374756}\n",
      "Epoch 2/20\n"
     ]
    },
    {
     "name": "stderr",
     "output_type": "stream",
     "text": [
      "100%|██████████| 771/771 [01:07<00:00, 11.49it/s]\n"
     ]
    },
    {
     "name": "stdout",
     "output_type": "stream",
     "text": [
      "{'val_loss': 1.5408923063638076, 'val_accuracy': 0.5846153846153846, 'precision': 0.6644139288457112, 'recall': 0.5846153846153846, 'f1-score': 0.5968120555326357, 'macro_f1-score': 0.3383815538188459, 'balanced_accuracy': 0.410262975030164, 'mcc': 0.48438647024588827, 'train_loss': 0.9794510536852514}\n",
      "Epoch 3/20\n"
     ]
    },
    {
     "name": "stderr",
     "output_type": "stream",
     "text": [
      "100%|██████████| 771/771 [01:07<00:00, 11.48it/s]\n"
     ]
    },
    {
     "name": "stdout",
     "output_type": "stream",
     "text": [
      "{'val_loss': 1.5606189628817, 'val_accuracy': 0.58698224852071, 'precision': 0.6601315889558181, 'recall': 0.58698224852071, 'f1-score': 0.6046640171360342, 'macro_f1-score': 0.3314958915219405, 'balanced_accuracy': 0.39661136771278754, 'mcc': 0.49448203015343795, 'train_loss': 0.6380850844636038}\n",
      "Epoch 4/20\n"
     ]
    },
    {
     "name": "stderr",
     "output_type": "stream",
     "text": [
      "100%|██████████| 771/771 [01:07<00:00, 11.48it/s]\n"
     ]
    },
    {
     "name": "stdout",
     "output_type": "stream",
     "text": [
      "{'val_loss': 1.4473424587609633, 'val_accuracy': 0.650887573964497, 'precision': 0.6381288672524315, 'recall': 0.650887573964497, 'f1-score': 0.6333510375320308, 'macro_f1-score': 0.3517209837434927, 'balanced_accuracy': 0.3731697016498303, 'mcc': 0.5355120484169499, 'train_loss': 0.4976582962961628}\n",
      "Epoch 5/20\n"
     ]
    },
    {
     "name": "stderr",
     "output_type": "stream",
     "text": [
      "100%|██████████| 771/771 [01:07<00:00, 11.49it/s]\n"
     ]
    },
    {
     "name": "stdout",
     "output_type": "stream",
     "text": [
      "{'val_loss': 1.5129051759557903, 'val_accuracy': 0.6224852071005917, 'precision': 0.6681595272774833, 'recall': 0.6224852071005917, 'f1-score': 0.6308165719096981, 'macro_f1-score': 0.368717187990684, 'balanced_accuracy': 0.4005770330854533, 'mcc': 0.5260989734162764, 'train_loss': 0.4021910143926759}\n",
      "Epoch 6/20\n"
     ]
    },
    {
     "name": "stderr",
     "output_type": "stream",
     "text": [
      "100%|██████████| 771/771 [01:07<00:00, 11.48it/s]\n"
     ]
    },
    {
     "name": "stdout",
     "output_type": "stream",
     "text": [
      "{'val_loss': 1.5231568849873993, 'val_accuracy': 0.6284023668639053, 'precision': 0.6521430200167665, 'recall': 0.6284023668639053, 'f1-score': 0.6279226243060313, 'macro_f1-score': 0.3494444613097226, 'balanced_accuracy': 0.3692220508460013, 'mcc': 0.5217004826822156, 'train_loss': 0.37247631894895655}\n",
      "Epoch 7/20\n"
     ]
    },
    {
     "name": "stderr",
     "output_type": "stream",
     "text": [
      "100%|██████████| 771/771 [01:07<00:00, 11.49it/s]\n"
     ]
    },
    {
     "name": "stdout",
     "output_type": "stream",
     "text": [
      "{'val_loss': 1.7297108544493622, 'val_accuracy': 0.5834319526627219, 'precision': 0.674514536642342, 'recall': 0.5834319526627219, 'f1-score': 0.6028110697459472, 'macro_f1-score': 0.3549168528114063, 'balanced_accuracy': 0.40018047206726914, 'mcc': 0.49190167045556016, 'train_loss': 0.33318295157435995}\n",
      "Epoch 8/20\n"
     ]
    },
    {
     "name": "stderr",
     "output_type": "stream",
     "text": [
      "100%|██████████| 771/771 [01:07<00:00, 11.49it/s]\n"
     ]
    },
    {
     "name": "stdout",
     "output_type": "stream",
     "text": [
      "{'val_loss': 1.595184863738294, 'val_accuracy': 0.642603550295858, 'precision': 0.6487888325743211, 'recall': 0.642603550295858, 'f1-score': 0.6311167029890647, 'macro_f1-score': 0.37028849105738026, 'balanced_accuracy': 0.3788488668040648, 'mcc': 0.5307288074358832, 'train_loss': 0.29756532230652416}\n",
      "Epoch 9/20\n"
     ]
    },
    {
     "name": "stderr",
     "output_type": "stream",
     "text": [
      "100%|██████████| 771/771 [01:07<00:00, 11.49it/s]\n"
     ]
    },
    {
     "name": "stdout",
     "output_type": "stream",
     "text": [
      "{'val_loss': 1.7117562333367906, 'val_accuracy': 0.6331360946745562, 'precision': 0.6658696830980009, 'recall': 0.6331360946745562, 'f1-score': 0.6293171223052558, 'macro_f1-score': 0.3593382053641561, 'balanced_accuracy': 0.38071791785685605, 'mcc': 0.522917894238704, 'train_loss': 0.2813005717495401}\n",
      "Epoch 10/20\n"
     ]
    },
    {
     "name": "stderr",
     "output_type": "stream",
     "text": [
      "100%|██████████| 771/771 [01:07<00:00, 11.48it/s]\n"
     ]
    },
    {
     "name": "stdout",
     "output_type": "stream",
     "text": [
      "{'val_loss': 1.7839471191730139, 'val_accuracy': 0.6485207100591716, 'precision': 0.6395475935630713, 'recall': 0.6485207100591716, 'f1-score': 0.6298044163913408, 'macro_f1-score': 0.3591959795687453, 'balanced_accuracy': 0.35880226098275436, 'mcc': 0.5309844603896415, 'train_loss': 0.2708864469212829}\n",
      "Epoch 11/20\n"
     ]
    },
    {
     "name": "stderr",
     "output_type": "stream",
     "text": [
      "100%|██████████| 771/771 [01:07<00:00, 11.48it/s]\n"
     ]
    },
    {
     "name": "stdout",
     "output_type": "stream",
     "text": [
      "{'val_loss': 1.7737956896143139, 'val_accuracy': 0.6094674556213018, 'precision': 0.6461013395492654, 'recall': 0.6094674556213018, 'f1-score': 0.6150769717310974, 'macro_f1-score': 0.3590582174912621, 'balanced_accuracy': 0.3964565893212005, 'mcc': 0.5115491554530511, 'train_loss': 0.2863349393740944}\n",
      "Early stopping.\n",
      "\n",
      "[Fold 6]\n",
      "Label distribution after resampling:\n",
      "  label 0: 2000\n",
      "  label 1: 200\n",
      "  label 2: 200\n",
      "  label 3: 200\n",
      "  label 4: 231\n",
      "  label 5: 200\n",
      "  label 6: 200\n",
      "  label 7: 200\n",
      "  label 8: 200\n",
      "  label 9: 200\n",
      "  label 10: 200\n",
      "  label 11: 200\n",
      "  label 12: 217\n",
      "  label 13: 200\n",
      "  label 14: 200\n",
      "  label 15: 200\n",
      "  label 16: 200\n",
      "  label 17: 260\n",
      "  label 18: 200\n",
      "  label 19: 200\n",
      "  label 20: 200\n",
      "  label 21: 200\n",
      "  label 22: 200\n",
      "  label 23: 200\n",
      "  label 24: 200\n",
      "  label 25: 200\n",
      "  label 26: 200\n",
      "  label 27: 200\n",
      "  label 28: 200\n",
      "  label 29: 200\n",
      "  label 30: 200\n",
      "  label 31: 200\n",
      "  label 32: 200\n",
      "  label 33: 200\n",
      "  label 34: 200\n",
      "  label 35: 200\n",
      "  label 36: 200\n",
      "  label 37: 200\n",
      "  label 38: 200\n",
      "  label 39: 200\n",
      "  label 40: 200\n",
      "  label 41: 200\n",
      "  label 42: 200\n",
      "  label 43: 200\n",
      "  label 44: 200\n",
      "  label 45: 200\n",
      "  label 46: 200\n",
      "  label 47: 595\n",
      "  label 48: 227\n",
      "  label 49: 200\n",
      "model is roberta-base cnn\n"
     ]
    },
    {
     "name": "stderr",
     "output_type": "stream",
     "text": [
      "Some weights of RobertaModel were not initialized from the model checkpoint at roberta-base and are newly initialized: ['pooler.dense.bias', 'pooler.dense.weight']\n",
      "You should probably TRAIN this model on a down-stream task to be able to use it for predictions and inference.\n"
     ]
    },
    {
     "name": "stdout",
     "output_type": "stream",
     "text": [
      "Epoch 1/20\n"
     ]
    },
    {
     "name": "stderr",
     "output_type": "stream",
     "text": [
      "100%|██████████| 771/771 [01:07<00:00, 11.49it/s]\n"
     ]
    },
    {
     "name": "stdout",
     "output_type": "stream",
     "text": [
      "{'val_loss': 1.4877328737726752, 'val_accuracy': 0.5739644970414202, 'precision': 0.6106323392643315, 'recall': 0.5739644970414202, 'f1-score': 0.5559899923945087, 'macro_f1-score': 0.31570453422101435, 'balanced_accuracy': 0.3896023548548693, 'mcc': 0.43720982434470207, 'train_loss': 2.2250730781858223}\n",
      "Epoch 2/20\n"
     ]
    },
    {
     "name": "stderr",
     "output_type": "stream",
     "text": [
      "100%|██████████| 771/771 [01:07<00:00, 11.48it/s]\n"
     ]
    },
    {
     "name": "stdout",
     "output_type": "stream",
     "text": [
      "{'val_loss': 1.3992904064790257, 'val_accuracy': 0.6142011834319526, 'precision': 0.6647291292615894, 'recall': 0.6142011834319526, 'f1-score': 0.6074349474613013, 'macro_f1-score': 0.3456437334932279, 'balanced_accuracy': 0.41051291475399365, 'mcc': 0.5020111532965881, 'train_loss': 0.9441856529114311}\n",
      "Epoch 3/20\n"
     ]
    },
    {
     "name": "stderr",
     "output_type": "stream",
     "text": [
      "100%|██████████| 771/771 [01:07<00:00, 11.49it/s]\n"
     ]
    },
    {
     "name": "stdout",
     "output_type": "stream",
     "text": [
      "{'val_loss': 1.4181466631169588, 'val_accuracy': 0.6023668639053255, 'precision': 0.6483602588589163, 'recall': 0.6023668639053255, 'f1-score': 0.6093579946634606, 'macro_f1-score': 0.337165685469385, 'balanced_accuracy': 0.41585959909651476, 'mcc': 0.5013914013390126, 'train_loss': 0.6153382429256359}\n",
      "Epoch 4/20\n"
     ]
    },
    {
     "name": "stderr",
     "output_type": "stream",
     "text": [
      "100%|██████████| 771/771 [01:07<00:00, 11.48it/s]\n"
     ]
    },
    {
     "name": "stdout",
     "output_type": "stream",
     "text": [
      "{'val_loss': 1.4407256909136503, 'val_accuracy': 0.642603550295858, 'precision': 0.6763474667192059, 'recall': 0.642603550295858, 'f1-score': 0.6456136846686177, 'macro_f1-score': 0.43412270743642467, 'balanced_accuracy': 0.4785265853322407, 'mcc': 0.5439240290147669, 'train_loss': 0.45879961856569607}\n",
      "Epoch 5/20\n"
     ]
    },
    {
     "name": "stderr",
     "output_type": "stream",
     "text": [
      "100%|██████████| 771/771 [01:07<00:00, 11.48it/s]\n"
     ]
    },
    {
     "name": "stdout",
     "output_type": "stream",
     "text": [
      "{'val_loss': 1.5424611135473791, 'val_accuracy': 0.6355029585798817, 'precision': 0.6619006259637978, 'recall': 0.6355029585798817, 'f1-score': 0.6320482831074815, 'macro_f1-score': 0.38867589069175906, 'balanced_accuracy': 0.44800449707846046, 'mcc': 0.527552535971033, 'train_loss': 0.3754412696978268}\n",
      "Epoch 6/20\n"
     ]
    },
    {
     "name": "stderr",
     "output_type": "stream",
     "text": [
      "100%|██████████| 771/771 [01:07<00:00, 11.48it/s]\n"
     ]
    },
    {
     "name": "stdout",
     "output_type": "stream",
     "text": [
      "{'val_loss': 1.61535330201095, 'val_accuracy': 0.6201183431952663, 'precision': 0.6724212296965517, 'recall': 0.6201183431952663, 'f1-score': 0.6293045942537286, 'macro_f1-score': 0.39369199070140243, 'balanced_accuracy': 0.4541516797759951, 'mcc': 0.5195640409617232, 'train_loss': 0.3501079135994764}\n",
      "Epoch 7/20\n"
     ]
    },
    {
     "name": "stderr",
     "output_type": "stream",
     "text": [
      "100%|██████████| 771/771 [01:07<00:00, 11.49it/s]\n"
     ]
    },
    {
     "name": "stdout",
     "output_type": "stream",
     "text": [
      "{'val_loss': 1.5283196135511938, 'val_accuracy': 0.6650887573964497, 'precision': 0.6756953784030291, 'recall': 0.6650887573964497, 'f1-score': 0.6557263069789409, 'macro_f1-score': 0.4234619580951404, 'balanced_accuracy': 0.4837730658171542, 'mcc': 0.5633043889002669, 'train_loss': 0.30731977057497073}\n",
      "Early stopping.\n",
      "\n",
      "[Fold 7]\n",
      "Label distribution after resampling:\n",
      "  label 0: 2000\n",
      "  label 1: 200\n",
      "  label 2: 200\n",
      "  label 3: 200\n",
      "  label 4: 232\n",
      "  label 5: 200\n",
      "  label 6: 200\n",
      "  label 7: 200\n",
      "  label 8: 200\n",
      "  label 9: 200\n",
      "  label 10: 200\n",
      "  label 11: 200\n",
      "  label 12: 217\n",
      "  label 13: 200\n",
      "  label 14: 200\n",
      "  label 15: 200\n",
      "  label 16: 200\n",
      "  label 17: 260\n",
      "  label 18: 200\n",
      "  label 19: 200\n",
      "  label 20: 200\n",
      "  label 21: 200\n",
      "  label 22: 200\n",
      "  label 23: 200\n",
      "  label 24: 200\n",
      "  label 25: 200\n",
      "  label 26: 200\n",
      "  label 27: 200\n",
      "  label 28: 200\n",
      "  label 29: 200\n",
      "  label 30: 200\n",
      "  label 31: 200\n",
      "  label 32: 200\n",
      "  label 33: 200\n",
      "  label 34: 200\n",
      "  label 35: 200\n",
      "  label 36: 200\n",
      "  label 37: 200\n",
      "  label 38: 200\n",
      "  label 39: 200\n",
      "  label 40: 200\n",
      "  label 41: 200\n",
      "  label 42: 200\n",
      "  label 43: 200\n",
      "  label 44: 200\n",
      "  label 45: 200\n",
      "  label 46: 200\n",
      "  label 47: 594\n",
      "  label 48: 227\n",
      "  label 49: 200\n",
      "model is roberta-base cnn\n"
     ]
    },
    {
     "name": "stderr",
     "output_type": "stream",
     "text": [
      "Some weights of RobertaModel were not initialized from the model checkpoint at roberta-base and are newly initialized: ['pooler.dense.bias', 'pooler.dense.weight']\n",
      "You should probably TRAIN this model on a down-stream task to be able to use it for predictions and inference.\n"
     ]
    },
    {
     "name": "stdout",
     "output_type": "stream",
     "text": [
      "Epoch 1/20\n"
     ]
    },
    {
     "name": "stderr",
     "output_type": "stream",
     "text": [
      "100%|██████████| 771/771 [01:07<00:00, 11.49it/s]\n"
     ]
    },
    {
     "name": "stdout",
     "output_type": "stream",
     "text": [
      "{'val_loss': 1.4886132602421742, 'val_accuracy': 0.6094674556213018, 'precision': 0.603530887982312, 'recall': 0.6094674556213018, 'f1-score': 0.5898119283641478, 'macro_f1-score': 0.339903506382159, 'balanced_accuracy': 0.41321569139633924, 'mcc': 0.48492463840590766, 'train_loss': 2.253514964834107}\n",
      "Epoch 2/20\n"
     ]
    },
    {
     "name": "stderr",
     "output_type": "stream",
     "text": [
      "100%|██████████| 771/771 [01:07<00:00, 11.48it/s]\n"
     ]
    },
    {
     "name": "stdout",
     "output_type": "stream",
     "text": [
      "{'val_loss': 1.4995071134477291, 'val_accuracy': 0.5751479289940828, 'precision': 0.6581201300584705, 'recall': 0.5751479289940828, 'f1-score': 0.6013232468065658, 'macro_f1-score': 0.40587908522121047, 'balanced_accuracy': 0.48334417647485933, 'mcc': 0.486462211651143, 'train_loss': 1.0102608026079012}\n",
      "Epoch 3/20\n"
     ]
    },
    {
     "name": "stderr",
     "output_type": "stream",
     "text": [
      "100%|██████████| 771/771 [01:07<00:00, 11.49it/s]\n"
     ]
    },
    {
     "name": "stdout",
     "output_type": "stream",
     "text": [
      "{'val_loss': 1.3428379572787374, 'val_accuracy': 0.6402366863905326, 'precision': 0.6896797160555972, 'recall': 0.6402366863905326, 'f1-score': 0.6379816088496214, 'macro_f1-score': 0.3930974791545501, 'balanced_accuracy': 0.45314111503864757, 'mcc': 0.535295490316724, 'train_loss': 0.6332695098683219}\n",
      "Epoch 4/20\n"
     ]
    },
    {
     "name": "stderr",
     "output_type": "stream",
     "text": [
      "100%|██████████| 771/771 [01:07<00:00, 11.48it/s]\n"
     ]
    },
    {
     "name": "stdout",
     "output_type": "stream",
     "text": [
      "{'val_loss': 1.410730023429079, 'val_accuracy': 0.6568047337278107, 'precision': 0.6946191284981039, 'recall': 0.6568047337278107, 'f1-score': 0.658120109724563, 'macro_f1-score': 0.4434413735507764, 'balanced_accuracy': 0.4917910552082924, 'mcc': 0.5619117490449308, 'train_loss': 0.48665499930715744}\n",
      "Epoch 5/20\n"
     ]
    },
    {
     "name": "stderr",
     "output_type": "stream",
     "text": [
      "100%|██████████| 771/771 [01:07<00:00, 11.49it/s]\n"
     ]
    },
    {
     "name": "stdout",
     "output_type": "stream",
     "text": [
      "{'val_loss': 1.5921684683493849, 'val_accuracy': 0.6473372781065089, 'precision': 0.6914676422294714, 'recall': 0.6473372781065089, 'f1-score': 0.6472908739555537, 'macro_f1-score': 0.4092557503328356, 'balanced_accuracy': 0.49562871143948456, 'mcc': 0.5506693256154921, 'train_loss': 0.3968979302146285}\n",
      "Epoch 6/20\n"
     ]
    },
    {
     "name": "stderr",
     "output_type": "stream",
     "text": [
      "100%|██████████| 771/771 [01:07<00:00, 11.49it/s]\n"
     ]
    },
    {
     "name": "stdout",
     "output_type": "stream",
     "text": [
      "{'val_loss': 1.453759565668286, 'val_accuracy': 0.6627218934911243, 'precision': 0.6708761905023953, 'recall': 0.6627218934911243, 'f1-score': 0.658123085070225, 'macro_f1-score': 0.4284264793841006, 'balanced_accuracy': 0.46454938872778107, 'mcc': 0.5626838406117015, 'train_loss': 0.338335481028999}\n",
      "Epoch 7/20\n"
     ]
    },
    {
     "name": "stderr",
     "output_type": "stream",
     "text": [
      "100%|██████████| 771/771 [01:07<00:00, 11.49it/s]\n"
     ]
    },
    {
     "name": "stdout",
     "output_type": "stream",
     "text": [
      "{'val_loss': 1.6004555259110793, 'val_accuracy': 0.6532544378698225, 'precision': 0.6792903486668266, 'recall': 0.6532544378698225, 'f1-score': 0.6512294553695308, 'macro_f1-score': 0.4388159235778565, 'balanced_accuracy': 0.46259430449198063, 'mcc': 0.5499344769388691, 'train_loss': 0.3130304200439466}\n",
      "Early stopping.\n",
      "\n",
      "[Fold 8]\n",
      "Label distribution after resampling:\n",
      "  label 0: 2000\n",
      "  label 1: 200\n",
      "  label 2: 200\n",
      "  label 3: 200\n",
      "  label 4: 232\n",
      "  label 5: 200\n",
      "  label 6: 200\n",
      "  label 7: 200\n",
      "  label 8: 200\n",
      "  label 9: 200\n",
      "  label 10: 200\n",
      "  label 11: 200\n",
      "  label 12: 216\n",
      "  label 13: 200\n",
      "  label 14: 200\n",
      "  label 15: 200\n",
      "  label 16: 200\n",
      "  label 17: 260\n",
      "  label 18: 200\n",
      "  label 19: 200\n",
      "  label 20: 200\n",
      "  label 21: 200\n",
      "  label 22: 200\n",
      "  label 23: 200\n",
      "  label 24: 200\n",
      "  label 25: 200\n",
      "  label 26: 200\n",
      "  label 27: 200\n",
      "  label 28: 200\n",
      "  label 29: 200\n",
      "  label 30: 200\n",
      "  label 31: 200\n",
      "  label 32: 200\n",
      "  label 33: 200\n",
      "  label 34: 200\n",
      "  label 35: 200\n",
      "  label 36: 200\n",
      "  label 37: 200\n",
      "  label 38: 200\n",
      "  label 39: 200\n",
      "  label 40: 200\n",
      "  label 41: 200\n",
      "  label 42: 200\n",
      "  label 43: 200\n",
      "  label 44: 200\n",
      "  label 45: 200\n",
      "  label 46: 200\n",
      "  label 47: 595\n",
      "  label 48: 226\n",
      "  label 49: 200\n",
      "model is roberta-base cnn\n"
     ]
    },
    {
     "name": "stderr",
     "output_type": "stream",
     "text": [
      "Some weights of RobertaModel were not initialized from the model checkpoint at roberta-base and are newly initialized: ['pooler.dense.bias', 'pooler.dense.weight']\n",
      "You should probably TRAIN this model on a down-stream task to be able to use it for predictions and inference.\n"
     ]
    },
    {
     "name": "stdout",
     "output_type": "stream",
     "text": [
      "Epoch 1/20\n"
     ]
    },
    {
     "name": "stderr",
     "output_type": "stream",
     "text": [
      "100%|██████████| 771/771 [01:07<00:00, 11.49it/s]\n"
     ]
    },
    {
     "name": "stdout",
     "output_type": "stream",
     "text": [
      "{'val_loss': 1.7127958423686478, 'val_accuracy': 0.49230769230769234, 'precision': 0.6157134459850089, 'recall': 0.49230769230769234, 'f1-score': 0.5189548794029228, 'macro_f1-score': 0.2680160816142352, 'balanced_accuracy': 0.35401167957597396, 'mcc': 0.3808106569187656, 'train_loss': 2.527437123149904}\n",
      "Epoch 2/20\n"
     ]
    },
    {
     "name": "stderr",
     "output_type": "stream",
     "text": [
      "100%|██████████| 771/771 [01:07<00:00, 11.48it/s]\n"
     ]
    },
    {
     "name": "stdout",
     "output_type": "stream",
     "text": [
      "{'val_loss': 1.3931459154722825, 'val_accuracy': 0.5905325443786982, 'precision': 0.6715521222756562, 'recall': 0.5905325443786982, 'f1-score': 0.6071176792022097, 'macro_f1-score': 0.35010665870135615, 'balanced_accuracy': 0.41233167990638586, 'mcc': 0.49606385130049724, 'train_loss': 1.1625313057084647}\n",
      "Epoch 3/20\n"
     ]
    },
    {
     "name": "stderr",
     "output_type": "stream",
     "text": [
      "100%|██████████| 771/771 [01:07<00:00, 11.50it/s]\n"
     ]
    },
    {
     "name": "stdout",
     "output_type": "stream",
     "text": [
      "{'val_loss': 1.4197671885760326, 'val_accuracy': 0.6071005917159763, 'precision': 0.6580100314818889, 'recall': 0.6071005917159763, 'f1-score': 0.6180269253483638, 'macro_f1-score': 0.3746342894304381, 'balanced_accuracy': 0.45191157184395403, 'mcc': 0.5109422510567477, 'train_loss': 0.6998657664011115}\n",
      "Epoch 4/20\n"
     ]
    },
    {
     "name": "stderr",
     "output_type": "stream",
     "text": [
      "100%|██████████| 771/771 [01:07<00:00, 11.49it/s]\n"
     ]
    },
    {
     "name": "stdout",
     "output_type": "stream",
     "text": [
      "{'val_loss': 1.451943671928262, 'val_accuracy': 0.6366863905325444, 'precision': 0.6566949696269534, 'recall': 0.6366863905325444, 'f1-score': 0.6264310877139818, 'macro_f1-score': 0.3723860096600514, 'balanced_accuracy': 0.4011225521419618, 'mcc': 0.5302580910580718, 'train_loss': 0.5059231260958117}\n",
      "Epoch 5/20\n"
     ]
    },
    {
     "name": "stderr",
     "output_type": "stream",
     "text": [
      "100%|██████████| 771/771 [01:07<00:00, 11.49it/s]\n"
     ]
    },
    {
     "name": "stdout",
     "output_type": "stream",
     "text": [
      "{'val_loss': 1.5191745510641135, 'val_accuracy': 0.6189349112426036, 'precision': 0.6625317083460964, 'recall': 0.6189349112426036, 'f1-score': 0.627823955697645, 'macro_f1-score': 0.36900752900795025, 'balanced_accuracy': 0.42645013078983746, 'mcc': 0.5191257799463119, 'train_loss': 0.42306227245441747}\n",
      "Epoch 6/20\n"
     ]
    },
    {
     "name": "stderr",
     "output_type": "stream",
     "text": [
      "100%|██████████| 771/771 [01:07<00:00, 11.48it/s]\n"
     ]
    },
    {
     "name": "stdout",
     "output_type": "stream",
     "text": [
      "{'val_loss': 1.6500866413116455, 'val_accuracy': 0.6248520710059171, 'precision': 0.6685068428385149, 'recall': 0.6248520710059171, 'f1-score': 0.6338894333202396, 'macro_f1-score': 0.3670455306397994, 'balanced_accuracy': 0.4038332349424496, 'mcc': 0.522803857299052, 'train_loss': 0.3640300481738438}\n",
      "Early stopping.\n",
      "\n",
      "[Fold 9]\n",
      "Label distribution after resampling:\n",
      "  label 0: 2000\n",
      "  label 1: 200\n",
      "  label 2: 200\n",
      "  label 3: 200\n",
      "  label 4: 232\n",
      "  label 5: 200\n",
      "  label 6: 200\n",
      "  label 7: 200\n",
      "  label 8: 200\n",
      "  label 9: 200\n",
      "  label 10: 200\n",
      "  label 11: 200\n",
      "  label 12: 217\n",
      "  label 13: 200\n",
      "  label 14: 200\n",
      "  label 15: 200\n",
      "  label 16: 200\n",
      "  label 17: 261\n",
      "  label 18: 200\n",
      "  label 19: 200\n",
      "  label 20: 200\n",
      "  label 21: 200\n",
      "  label 22: 200\n",
      "  label 23: 200\n",
      "  label 24: 200\n",
      "  label 25: 200\n",
      "  label 26: 200\n",
      "  label 27: 200\n",
      "  label 28: 200\n",
      "  label 29: 200\n",
      "  label 30: 200\n",
      "  label 31: 200\n",
      "  label 32: 200\n",
      "  label 33: 200\n",
      "  label 34: 200\n",
      "  label 35: 200\n",
      "  label 36: 200\n",
      "  label 37: 200\n",
      "  label 38: 200\n",
      "  label 39: 200\n",
      "  label 40: 200\n",
      "  label 41: 200\n",
      "  label 42: 200\n",
      "  label 43: 200\n",
      "  label 44: 200\n",
      "  label 45: 200\n",
      "  label 46: 200\n",
      "  label 47: 595\n",
      "  label 48: 226\n",
      "  label 49: 200\n",
      "model is roberta-base cnn\n"
     ]
    },
    {
     "name": "stderr",
     "output_type": "stream",
     "text": [
      "Some weights of RobertaModel were not initialized from the model checkpoint at roberta-base and are newly initialized: ['pooler.dense.bias', 'pooler.dense.weight']\n",
      "You should probably TRAIN this model on a down-stream task to be able to use it for predictions and inference.\n"
     ]
    },
    {
     "name": "stdout",
     "output_type": "stream",
     "text": [
      "Epoch 1/20\n"
     ]
    },
    {
     "name": "stderr",
     "output_type": "stream",
     "text": [
      "100%|██████████| 771/771 [01:07<00:00, 11.48it/s]\n",
      "c:\\Users\\user\\AppData\\Local\\Programs\\Python\\Python310\\lib\\site-packages\\sklearn\\metrics\\_classification.py:2524: UserWarning: y_pred contains classes not in y_true\n",
      "  warnings.warn(\"y_pred contains classes not in y_true\")\n"
     ]
    },
    {
     "name": "stdout",
     "output_type": "stream",
     "text": [
      "{'val_loss': 1.532112184560524, 'val_accuracy': 0.5680473372781065, 'precision': 0.6434782056473555, 'recall': 0.5680473372781065, 'f1-score': 0.5760309765665823, 'macro_f1-score': 0.2863535274768203, 'balanced_accuracy': 0.35599765085808366, 'mcc': 0.4502831995308627, 'train_loss': 2.2089458378527107}\n",
      "Epoch 2/20\n"
     ]
    },
    {
     "name": "stderr",
     "output_type": "stream",
     "text": [
      "100%|██████████| 771/771 [01:07<00:00, 11.49it/s]\n"
     ]
    },
    {
     "name": "stdout",
     "output_type": "stream",
     "text": [
      "{'val_loss': 1.3444970486299046, 'val_accuracy': 0.6390532544378699, 'precision': 0.6696287637314863, 'recall': 0.6390532544378699, 'f1-score': 0.6321871014389756, 'macro_f1-score': 0.39200250968473593, 'balanced_accuracy': 0.43894686018471557, 'mcc': 0.5409324171659419, 'train_loss': 0.9447479748231118}\n",
      "Epoch 3/20\n"
     ]
    },
    {
     "name": "stderr",
     "output_type": "stream",
     "text": [
      "100%|██████████| 771/771 [01:07<00:00, 11.49it/s]\n",
      "c:\\Users\\user\\AppData\\Local\\Programs\\Python\\Python310\\lib\\site-packages\\sklearn\\metrics\\_classification.py:2524: UserWarning: y_pred contains classes not in y_true\n",
      "  warnings.warn(\"y_pred contains classes not in y_true\")\n"
     ]
    },
    {
     "name": "stdout",
     "output_type": "stream",
     "text": [
      "{'val_loss': 1.4094500103086796, 'val_accuracy': 0.6248520710059171, 'precision': 0.6821288578396009, 'recall': 0.6248520710059171, 'f1-score': 0.6332385231860121, 'macro_f1-score': 0.3587177731257626, 'balanced_accuracy': 0.39963816965204924, 'mcc': 0.5170418823110075, 'train_loss': 0.6200221441058024}\n",
      "Epoch 4/20\n"
     ]
    },
    {
     "name": "stderr",
     "output_type": "stream",
     "text": [
      "100%|██████████| 771/771 [01:07<00:00, 11.49it/s]\n"
     ]
    },
    {
     "name": "stdout",
     "output_type": "stream",
     "text": [
      "{'val_loss': 1.4046409298788827, 'val_accuracy': 0.6615384615384615, 'precision': 0.6642524384631001, 'recall': 0.6615384615384615, 'f1-score': 0.6527138984785078, 'macro_f1-score': 0.38279288896929387, 'balanced_accuracy': 0.39581248994270124, 'mcc': 0.5542416890732879, 'train_loss': 0.4650155381817762}\n",
      "Epoch 5/20\n"
     ]
    },
    {
     "name": "stderr",
     "output_type": "stream",
     "text": [
      "100%|██████████| 771/771 [01:07<00:00, 11.48it/s]\n"
     ]
    },
    {
     "name": "stdout",
     "output_type": "stream",
     "text": [
      "{'val_loss': 1.4395728178744047, 'val_accuracy': 0.6627218934911243, 'precision': 0.7029590017571828, 'recall': 0.6627218934911243, 'f1-score': 0.6703251781959191, 'macro_f1-score': 0.4190750755987833, 'balanced_accuracy': 0.4468567237579729, 'mcc': 0.5700136101891049, 'train_loss': 0.3928314184180513}\n",
      "Epoch 6/20\n"
     ]
    },
    {
     "name": "stderr",
     "output_type": "stream",
     "text": [
      "100%|██████████| 771/771 [01:07<00:00, 11.49it/s]\n"
     ]
    },
    {
     "name": "stdout",
     "output_type": "stream",
     "text": [
      "{'val_loss': 1.461353212032678, 'val_accuracy': 0.6497041420118344, 'precision': 0.6806815647729897, 'recall': 0.6497041420118344, 'f1-score': 0.6560511350418002, 'macro_f1-score': 0.41278684425686807, 'balanced_accuracy': 0.47147878050540876, 'mcc': 0.5594607185967604, 'train_loss': 0.35672077099308275}\n",
      "Epoch 7/20\n"
     ]
    },
    {
     "name": "stderr",
     "output_type": "stream",
     "text": [
      "100%|██████████| 771/771 [01:07<00:00, 11.49it/s]\n"
     ]
    },
    {
     "name": "stdout",
     "output_type": "stream",
     "text": [
      "{'val_loss': 1.6126856432770782, 'val_accuracy': 0.6473372781065089, 'precision': 0.7007077866548919, 'recall': 0.6473372781065089, 'f1-score': 0.6577483192339068, 'macro_f1-score': 0.4146038657856977, 'balanced_accuracy': 0.4645097639270775, 'mcc': 0.5628784698593942, 'train_loss': 0.2999514606702788}\n",
      "Epoch 8/20\n"
     ]
    },
    {
     "name": "stderr",
     "output_type": "stream",
     "text": [
      "100%|██████████| 771/771 [01:07<00:00, 11.49it/s]\n"
     ]
    },
    {
     "name": "stdout",
     "output_type": "stream",
     "text": [
      "{'val_loss': 1.5446056723594666, 'val_accuracy': 0.6627218934911243, 'precision': 0.6747736423378611, 'recall': 0.6627218934911243, 'f1-score': 0.6615769404028579, 'macro_f1-score': 0.3971762976741773, 'balanced_accuracy': 0.4333523187573976, 'mcc': 0.566493100088293, 'train_loss': 0.2989874484715681}\n",
      "Early stopping.\n",
      "\n",
      "[Fold 10]\n",
      "Label distribution after resampling:\n",
      "  label 0: 2000\n",
      "  label 1: 200\n",
      "  label 2: 200\n",
      "  label 3: 200\n",
      "  label 4: 231\n",
      "  label 5: 200\n",
      "  label 6: 200\n",
      "  label 7: 200\n",
      "  label 8: 200\n",
      "  label 9: 200\n",
      "  label 10: 200\n",
      "  label 11: 200\n",
      "  label 12: 217\n",
      "  label 13: 200\n",
      "  label 14: 200\n",
      "  label 15: 200\n",
      "  label 16: 200\n",
      "  label 17: 260\n",
      "  label 18: 200\n",
      "  label 19: 200\n",
      "  label 20: 200\n",
      "  label 21: 200\n",
      "  label 22: 200\n",
      "  label 23: 200\n",
      "  label 24: 200\n",
      "  label 25: 200\n",
      "  label 26: 200\n",
      "  label 27: 200\n",
      "  label 28: 200\n",
      "  label 29: 200\n",
      "  label 30: 200\n",
      "  label 31: 200\n",
      "  label 32: 200\n",
      "  label 33: 200\n",
      "  label 34: 200\n",
      "  label 35: 200\n",
      "  label 36: 200\n",
      "  label 37: 200\n",
      "  label 38: 200\n",
      "  label 39: 200\n",
      "  label 40: 200\n",
      "  label 41: 200\n",
      "  label 42: 200\n",
      "  label 43: 200\n",
      "  label 44: 200\n",
      "  label 45: 200\n",
      "  label 46: 200\n",
      "  label 47: 595\n",
      "  label 48: 227\n",
      "  label 49: 200\n",
      "model is roberta-base cnn\n"
     ]
    },
    {
     "name": "stderr",
     "output_type": "stream",
     "text": [
      "Some weights of RobertaModel were not initialized from the model checkpoint at roberta-base and are newly initialized: ['pooler.dense.bias', 'pooler.dense.weight']\n",
      "You should probably TRAIN this model on a down-stream task to be able to use it for predictions and inference.\n"
     ]
    },
    {
     "name": "stdout",
     "output_type": "stream",
     "text": [
      "Epoch 1/20\n"
     ]
    },
    {
     "name": "stderr",
     "output_type": "stream",
     "text": [
      "100%|██████████| 771/771 [01:07<00:00, 11.49it/s]\n"
     ]
    },
    {
     "name": "stdout",
     "output_type": "stream",
     "text": [
      "{'val_loss': 1.5055008024539587, 'val_accuracy': 0.5857988165680473, 'precision': 0.592236350904109, 'recall': 0.5857988165680473, 'f1-score': 0.568013266351371, 'macro_f1-score': 0.2498063948265771, 'balanced_accuracy': 0.28712848000201957, 'mcc': 0.46157289296335907, 'train_loss': 2.1787525715376463}\n",
      "Epoch 2/20\n"
     ]
    },
    {
     "name": "stderr",
     "output_type": "stream",
     "text": [
      "100%|██████████| 771/771 [01:07<00:00, 11.48it/s]\n"
     ]
    },
    {
     "name": "stdout",
     "output_type": "stream",
     "text": [
      "{'val_loss': 1.3098829838464845, 'val_accuracy': 0.650887573964497, 'precision': 0.6467500863407996, 'recall': 0.650887573964497, 'f1-score': 0.6364998348658161, 'macro_f1-score': 0.35210003158359493, 'balanced_accuracy': 0.38269038195882205, 'mcc': 0.5432491912810554, 'train_loss': 0.9613138041163078}\n",
      "Epoch 3/20\n"
     ]
    },
    {
     "name": "stderr",
     "output_type": "stream",
     "text": [
      "100%|██████████| 771/771 [01:07<00:00, 11.49it/s]\n"
     ]
    },
    {
     "name": "stdout",
     "output_type": "stream",
     "text": [
      "{'val_loss': 1.427274706228724, 'val_accuracy': 0.6142011834319526, 'precision': 0.6482356673574426, 'recall': 0.6142011834319526, 'f1-score': 0.6188439634396954, 'macro_f1-score': 0.37926549778209995, 'balanced_accuracy': 0.40568369510629987, 'mcc': 0.5107607151807778, 'train_loss': 0.614719765253568}\n",
      "Epoch 4/20\n"
     ]
    },
    {
     "name": "stderr",
     "output_type": "stream",
     "text": [
      "100%|██████████| 771/771 [01:07<00:00, 11.48it/s]\n"
     ]
    },
    {
     "name": "stdout",
     "output_type": "stream",
     "text": [
      "{'val_loss': 1.4961160590063851, 'val_accuracy': 0.6390532544378699, 'precision': 0.6413843414157837, 'recall': 0.6390532544378699, 'f1-score': 0.6288392570479969, 'macro_f1-score': 0.36782608472417944, 'balanced_accuracy': 0.3842741420956464, 'mcc': 0.5349402872042577, 'train_loss': 0.492935228628987}\n",
      "Epoch 5/20\n"
     ]
    },
    {
     "name": "stderr",
     "output_type": "stream",
     "text": [
      "100%|██████████| 771/771 [01:07<00:00, 11.49it/s]\n"
     ]
    },
    {
     "name": "stdout",
     "output_type": "stream",
     "text": [
      "{'val_loss': 1.4848331370443668, 'val_accuracy': 0.6662721893491125, 'precision': 0.6633648576448451, 'recall': 0.6662721893491125, 'f1-score': 0.6508175249719834, 'macro_f1-score': 0.37904626196214963, 'balanced_accuracy': 0.38959712216568265, 'mcc': 0.5588618372662293, 'train_loss': 0.4072337970306708}\n",
      "Epoch 6/20\n"
     ]
    },
    {
     "name": "stderr",
     "output_type": "stream",
     "text": [
      "100%|██████████| 771/771 [01:07<00:00, 11.49it/s]\n"
     ]
    },
    {
     "name": "stdout",
     "output_type": "stream",
     "text": [
      "{'val_loss': 1.6400807010677625, 'val_accuracy': 0.6248520710059171, 'precision': 0.6802423465216467, 'recall': 0.6248520710059171, 'f1-score': 0.6373902154922163, 'macro_f1-score': 0.39201387301074186, 'balanced_accuracy': 0.4380237145541052, 'mcc': 0.5355506792181198, 'train_loss': 0.3441440820894488}\n",
      "Epoch 7/20\n"
     ]
    },
    {
     "name": "stderr",
     "output_type": "stream",
     "text": [
      "100%|██████████| 771/771 [01:07<00:00, 11.49it/s]\n"
     ]
    },
    {
     "name": "stdout",
     "output_type": "stream",
     "text": [
      "{'val_loss': 1.581049012687971, 'val_accuracy': 0.6698224852071006, 'precision': 0.6567271249918887, 'recall': 0.6698224852071006, 'f1-score': 0.6517454965101886, 'macro_f1-score': 0.376779775834296, 'balanced_accuracy': 0.3735057519421601, 'mcc': 0.5651283476371682, 'train_loss': 0.29802198161403665}\n",
      "Epoch 8/20\n"
     ]
    },
    {
     "name": "stderr",
     "output_type": "stream",
     "text": [
      "100%|██████████| 771/771 [01:07<00:00, 11.49it/s]\n"
     ]
    },
    {
     "name": "stdout",
     "output_type": "stream",
     "text": [
      "{'val_loss': 1.6554674927918416, 'val_accuracy': 0.6414201183431952, 'precision': 0.6768836125733801, 'recall': 0.6414201183431952, 'f1-score': 0.642377401127263, 'macro_f1-score': 0.3672298614785503, 'balanced_accuracy': 0.41999877033874095, 'mcc': 0.547977498222556, 'train_loss': 0.2789521822506555}\n",
      "Epoch 9/20\n"
     ]
    },
    {
     "name": "stderr",
     "output_type": "stream",
     "text": [
      "100%|██████████| 771/771 [01:07<00:00, 11.48it/s]\n"
     ]
    },
    {
     "name": "stdout",
     "output_type": "stream",
     "text": [
      "{'val_loss': 1.6397221139017142, 'val_accuracy': 0.663905325443787, 'precision': 0.6662748091365424, 'recall': 0.663905325443787, 'f1-score': 0.6524562007257246, 'macro_f1-score': 0.3987117784566055, 'balanced_accuracy': 0.4136796988677649, 'mcc': 0.5600210705497075, 'train_loss': 0.29805286689003113}\n",
      "Epoch 10/20\n"
     ]
    },
    {
     "name": "stderr",
     "output_type": "stream",
     "text": [
      "100%|██████████| 771/771 [01:07<00:00, 11.50it/s]\n"
     ]
    },
    {
     "name": "stdout",
     "output_type": "stream",
     "text": [
      "{'val_loss': 1.6316532565737671, 'val_accuracy': 0.6461538461538462, 'precision': 0.6608647562690274, 'recall': 0.6461538461538462, 'f1-score': 0.639774493849472, 'macro_f1-score': 0.4149621887596025, 'balanced_accuracy': 0.4485445365038975, 'mcc': 0.5434058695079685, 'train_loss': 0.2817340960566694}\n",
      "Epoch 11/20\n"
     ]
    },
    {
     "name": "stderr",
     "output_type": "stream",
     "text": [
      "100%|██████████| 771/771 [01:07<00:00, 11.49it/s]\n"
     ]
    },
    {
     "name": "stdout",
     "output_type": "stream",
     "text": [
      "{'val_loss': 1.7076118256685868, 'val_accuracy': 0.6272189349112426, 'precision': 0.6692531471808116, 'recall': 0.6272189349112426, 'f1-score': 0.6369188659906566, 'macro_f1-score': 0.397976318878797, 'balanced_accuracy': 0.4253969051922297, 'mcc': 0.5317922596883046, 'train_loss': 0.27150154678723576}\n",
      "Epoch 12/20\n"
     ]
    },
    {
     "name": "stderr",
     "output_type": "stream",
     "text": [
      "100%|██████████| 771/771 [01:07<00:00, 11.49it/s]\n"
     ]
    },
    {
     "name": "stdout",
     "output_type": "stream",
     "text": [
      "{'val_loss': 1.7032871696184266, 'val_accuracy': 0.6757396449704142, 'precision': 0.6731877452520306, 'recall': 0.6757396449704142, 'f1-score': 0.6591611395220377, 'macro_f1-score': 0.3875694332823729, 'balanced_accuracy': 0.3797727921039723, 'mcc': 0.56982965108643, 'train_loss': 0.24316598708866993}\n",
      "Epoch 13/20\n"
     ]
    },
    {
     "name": "stderr",
     "output_type": "stream",
     "text": [
      "100%|██████████| 771/771 [01:07<00:00, 11.49it/s]\n"
     ]
    },
    {
     "name": "stdout",
     "output_type": "stream",
     "text": [
      "{'val_loss': 1.8277050161136772, 'val_accuracy': 0.6568047337278107, 'precision': 0.6825597215184266, 'recall': 0.6568047337278107, 'f1-score': 0.654505482977899, 'macro_f1-score': 0.40855352249408705, 'balanced_accuracy': 0.44433811195779477, 'mcc': 0.5629017471965984, 'train_loss': 0.23174363431030337}\n",
      "Early stopping.\n",
      "\n",
      " === roberta-base + cnn + ros Final 10-fold Cross-Validation Results ===\n",
      "Total time: 6191 seconds\n",
      "Total time: 1 hrs 43 mins 11 secs\n",
      "val_loss: 1.5177\n",
      "val_accuracy: 0.6415\n",
      "precision: 0.6705\n",
      "recall: 0.6415\n",
      "f1-score: 0.6420\n",
      "macro_f1-score: 0.4064\n",
      "balanced_accuracy: 0.4419\n",
      "mcc: 0.5398\n",
      "train_loss: 0.4450\n",
      "▶ Running: roberta-base + bilstm + ros\n",
      "tokenizer is roberta-base\n",
      "Using device: cuda\n",
      "CUDA Available: True\n",
      "CUDA Device: NVIDIA GeForce RTX 5070 Ti\n",
      "Current GPU Memory Allocated: 0.02 GB\n",
      "Current GPU Memory Cached: 3.94 GB\n",
      "\n",
      "[Fold 1]\n",
      "Label distribution after resampling:\n",
      "  label 0: 2000\n",
      "  label 1: 200\n",
      "  label 2: 200\n",
      "  label 3: 200\n",
      "  label 4: 231\n",
      "  label 5: 200\n",
      "  label 6: 200\n",
      "  label 7: 200\n",
      "  label 8: 200\n",
      "  label 9: 200\n",
      "  label 10: 200\n",
      "  label 11: 200\n",
      "  label 12: 217\n",
      "  label 13: 200\n",
      "  label 14: 200\n",
      "  label 15: 200\n",
      "  label 16: 200\n",
      "  label 17: 260\n",
      "  label 18: 200\n",
      "  label 19: 200\n",
      "  label 20: 200\n",
      "  label 21: 200\n",
      "  label 22: 200\n",
      "  label 23: 200\n",
      "  label 24: 200\n",
      "  label 25: 200\n",
      "  label 26: 200\n",
      "  label 27: 200\n",
      "  label 28: 200\n",
      "  label 29: 200\n",
      "  label 30: 200\n",
      "  label 31: 200\n",
      "  label 32: 200\n",
      "  label 33: 200\n",
      "  label 34: 200\n",
      "  label 35: 200\n",
      "  label 36: 200\n",
      "  label 37: 200\n",
      "  label 38: 200\n",
      "  label 39: 200\n",
      "  label 40: 200\n",
      "  label 41: 200\n",
      "  label 42: 200\n",
      "  label 43: 200\n",
      "  label 44: 200\n",
      "  label 45: 200\n",
      "  label 46: 200\n",
      "  label 47: 595\n",
      "  label 48: 227\n",
      "  label 49: 200\n",
      "model is roberta-base bilstm\n"
     ]
    },
    {
     "name": "stderr",
     "output_type": "stream",
     "text": [
      "c:\\Users\\user\\AppData\\Local\\Programs\\Python\\Python310\\lib\\site-packages\\sklearn\\model_selection\\_split.py:805: UserWarning: The least populated class in y has only 7 members, which is less than n_splits=10.\n",
      "  warnings.warn(\n",
      "Some weights of RobertaModel were not initialized from the model checkpoint at roberta-base and are newly initialized: ['pooler.dense.bias', 'pooler.dense.weight']\n",
      "You should probably TRAIN this model on a down-stream task to be able to use it for predictions and inference.\n"
     ]
    },
    {
     "name": "stdout",
     "output_type": "stream",
     "text": [
      "Epoch 1/20\n"
     ]
    },
    {
     "name": "stderr",
     "output_type": "stream",
     "text": [
      "100%|██████████| 771/771 [01:12<00:00, 10.58it/s]\n",
      "c:\\Users\\user\\AppData\\Local\\Programs\\Python\\Python310\\lib\\site-packages\\sklearn\\metrics\\_classification.py:2524: UserWarning: y_pred contains classes not in y_true\n",
      "  warnings.warn(\"y_pred contains classes not in y_true\")\n"
     ]
    },
    {
     "name": "stdout",
     "output_type": "stream",
     "text": [
      "{'val_loss': 1.820060426334165, 'val_accuracy': 0.49763593380614657, 'precision': 0.4969912780122664, 'recall': 0.49763593380614657, 'f1-score': 0.4825047004840459, 'macro_f1-score': 0.17374626449083777, 'balanced_accuracy': 0.3282872462327973, 'mcc': 0.35922183452069506, 'train_loss': 2.7239689428054867}\n",
      "Epoch 2/20\n"
     ]
    },
    {
     "name": "stderr",
     "output_type": "stream",
     "text": [
      "100%|██████████| 771/771 [01:12<00:00, 10.59it/s]\n",
      "c:\\Users\\user\\AppData\\Local\\Programs\\Python\\Python310\\lib\\site-packages\\sklearn\\metrics\\_classification.py:2524: UserWarning: y_pred contains classes not in y_true\n",
      "  warnings.warn(\"y_pred contains classes not in y_true\")\n"
     ]
    },
    {
     "name": "stdout",
     "output_type": "stream",
     "text": [
      "{'val_loss': 1.5932590252948258, 'val_accuracy': 0.574468085106383, 'precision': 0.5665456794736676, 'recall': 0.574468085106383, 'f1-score': 0.5391942596885773, 'macro_f1-score': 0.24286389894738247, 'balanced_accuracy': 0.3192522774624876, 'mcc': 0.44023514365291283, 'train_loss': 1.5812673453536323}\n",
      "Epoch 3/20\n"
     ]
    },
    {
     "name": "stderr",
     "output_type": "stream",
     "text": [
      "100%|██████████| 771/771 [01:12<00:00, 10.59it/s]\n"
     ]
    },
    {
     "name": "stdout",
     "output_type": "stream",
     "text": [
      "{'val_loss': 1.5745202364786617, 'val_accuracy': 0.5673758865248227, 'precision': 0.6540457909821278, 'recall': 0.5673758865248227, 'f1-score': 0.5790344725487317, 'macro_f1-score': 0.3203051776503622, 'balanced_accuracy': 0.42310582941879815, 'mcc': 0.4642425862639714, 'train_loss': 1.0586773108029026}\n",
      "Epoch 4/20\n"
     ]
    },
    {
     "name": "stderr",
     "output_type": "stream",
     "text": [
      "100%|██████████| 771/771 [01:12<00:00, 10.58it/s]\n",
      "c:\\Users\\user\\AppData\\Local\\Programs\\Python\\Python310\\lib\\site-packages\\sklearn\\metrics\\_classification.py:2524: UserWarning: y_pred contains classes not in y_true\n",
      "  warnings.warn(\"y_pred contains classes not in y_true\")\n"
     ]
    },
    {
     "name": "stdout",
     "output_type": "stream",
     "text": [
      "{'val_loss': 1.5440933423222236, 'val_accuracy': 0.6099290780141844, 'precision': 0.6380111744929255, 'recall': 0.6099290780141844, 'f1-score': 0.6026138823865007, 'macro_f1-score': 0.3547878747957222, 'balanced_accuracy': 0.4203310280662559, 'mcc': 0.49687184951283453, 'train_loss': 0.7905966951457443}\n",
      "Epoch 5/20\n"
     ]
    },
    {
     "name": "stderr",
     "output_type": "stream",
     "text": [
      "100%|██████████| 771/771 [01:12<00:00, 10.60it/s]\n"
     ]
    },
    {
     "name": "stdout",
     "output_type": "stream",
     "text": [
      "{'val_loss': 1.4799380369906157, 'val_accuracy': 0.6288416075650118, 'precision': 0.6774151840405972, 'recall': 0.6288416075650118, 'f1-score': 0.635032348861316, 'macro_f1-score': 0.37498619905253916, 'balanced_accuracy': 0.41836094061054185, 'mcc': 0.5198050669374547, 'train_loss': 0.6550826306337667}\n",
      "Epoch 6/20\n"
     ]
    },
    {
     "name": "stderr",
     "output_type": "stream",
     "text": [
      "100%|██████████| 771/771 [01:12<00:00, 10.58it/s]\n",
      "c:\\Users\\user\\AppData\\Local\\Programs\\Python\\Python310\\lib\\site-packages\\sklearn\\metrics\\_classification.py:2524: UserWarning: y_pred contains classes not in y_true\n",
      "  warnings.warn(\"y_pred contains classes not in y_true\")\n"
     ]
    },
    {
     "name": "stdout",
     "output_type": "stream",
     "text": [
      "{'val_loss': 1.6102343235375747, 'val_accuracy': 0.6146572104018913, 'precision': 0.6712815890323471, 'recall': 0.6146572104018913, 'f1-score': 0.6279554861726174, 'macro_f1-score': 0.3797460096311634, 'balanced_accuracy': 0.4490392925829963, 'mcc': 0.5179335367009031, 'train_loss': 0.5451983635382661}\n",
      "Epoch 7/20\n"
     ]
    },
    {
     "name": "stderr",
     "output_type": "stream",
     "text": [
      "100%|██████████| 771/771 [01:12<00:00, 10.58it/s]\n"
     ]
    },
    {
     "name": "stdout",
     "output_type": "stream",
     "text": [
      "{'val_loss': 1.5501327255986772, 'val_accuracy': 0.6300236406619385, 'precision': 0.6681032496846029, 'recall': 0.6300236406619385, 'f1-score': 0.635075412478662, 'macro_f1-score': 0.38739207741191184, 'balanced_accuracy': 0.44377105320492205, 'mcc': 0.5293092762002646, 'train_loss': 0.4686476958748895}\n",
      "Epoch 8/20\n"
     ]
    },
    {
     "name": "stderr",
     "output_type": "stream",
     "text": [
      "100%|██████████| 771/771 [01:12<00:00, 10.61it/s]\n"
     ]
    },
    {
     "name": "stdout",
     "output_type": "stream",
     "text": [
      "{'val_loss': 1.744559425228047, 'val_accuracy': 0.6087470449172577, 'precision': 0.6641635991998421, 'recall': 0.6087470449172577, 'f1-score': 0.622130701376421, 'macro_f1-score': 0.3671504091616663, 'balanced_accuracy': 0.41551621854802073, 'mcc': 0.5151950502457432, 'train_loss': 0.42084272989783383}\n",
      "Epoch 9/20\n"
     ]
    },
    {
     "name": "stderr",
     "output_type": "stream",
     "text": [
      "100%|██████████| 771/771 [01:12<00:00, 10.58it/s]\n"
     ]
    },
    {
     "name": "stdout",
     "output_type": "stream",
     "text": [
      "{'val_loss': 1.672253577214367, 'val_accuracy': 0.6182033096926713, 'precision': 0.6673998052460384, 'recall': 0.6182033096926713, 'f1-score': 0.6282950918201938, 'macro_f1-score': 0.35429654140097805, 'balanced_accuracy': 0.40054978466968044, 'mcc': 0.5231991505161238, 'train_loss': 0.3866751906782118}\n",
      "Epoch 10/20\n"
     ]
    },
    {
     "name": "stderr",
     "output_type": "stream",
     "text": [
      "100%|██████████| 771/771 [01:12<00:00, 10.60it/s]\n"
     ]
    },
    {
     "name": "stdout",
     "output_type": "stream",
     "text": [
      "{'val_loss': 1.7435287352440492, 'val_accuracy': 0.6217494089834515, 'precision': 0.6655237031500694, 'recall': 0.6217494089834515, 'f1-score': 0.629459912766629, 'macro_f1-score': 0.39034995374410064, 'balanced_accuracy': 0.456107524312642, 'mcc': 0.5328896577804506, 'train_loss': 0.37130720670855616}\n",
      "Epoch 11/20\n"
     ]
    },
    {
     "name": "stderr",
     "output_type": "stream",
     "text": [
      "100%|██████████| 771/771 [01:12<00:00, 10.58it/s]\n"
     ]
    },
    {
     "name": "stdout",
     "output_type": "stream",
     "text": [
      "{'val_loss': 1.7857827240566038, 'val_accuracy': 0.6170212765957447, 'precision': 0.6550510456163026, 'recall': 0.6170212765957447, 'f1-score': 0.6222914786583594, 'macro_f1-score': 0.38027863885106816, 'balanced_accuracy': 0.43222939450024916, 'mcc': 0.5216480882634721, 'train_loss': 0.33455528304386695}\n",
      "Epoch 12/20\n"
     ]
    },
    {
     "name": "stderr",
     "output_type": "stream",
     "text": [
      "100%|██████████| 771/771 [01:12<00:00, 10.58it/s]\n"
     ]
    },
    {
     "name": "stdout",
     "output_type": "stream",
     "text": [
      "{'val_loss': 1.831386000480292, 'val_accuracy': 0.6182033096926713, 'precision': 0.6658452337950929, 'recall': 0.6182033096926713, 'f1-score': 0.626601950688432, 'macro_f1-score': 0.38309151358685495, 'balanced_accuracy': 0.4457295063492128, 'mcc': 0.519724648393081, 'train_loss': 0.33002147816445304}\n",
      "Epoch 13/20\n"
     ]
    },
    {
     "name": "stderr",
     "output_type": "stream",
     "text": [
      "100%|██████████| 771/771 [01:12<00:00, 10.59it/s]\n"
     ]
    },
    {
     "name": "stdout",
     "output_type": "stream",
     "text": [
      "{'val_loss': 1.7891885739452433, 'val_accuracy': 0.6158392434988179, 'precision': 0.6634673781108504, 'recall': 0.6158392434988179, 'f1-score': 0.6244738475723298, 'macro_f1-score': 0.3896305515789158, 'balanced_accuracy': 0.4475155618668751, 'mcc': 0.523186033022103, 'train_loss': 0.30193790586981756}\n",
      "Early stopping.\n",
      "\n",
      "[Fold 2]\n",
      "Label distribution after resampling:\n",
      "  label 0: 2000\n",
      "  label 1: 200\n",
      "  label 2: 200\n",
      "  label 3: 200\n",
      "  label 4: 231\n",
      "  label 5: 200\n",
      "  label 6: 200\n",
      "  label 7: 200\n",
      "  label 8: 200\n",
      "  label 9: 200\n",
      "  label 10: 200\n",
      "  label 11: 200\n",
      "  label 12: 217\n",
      "  label 13: 200\n",
      "  label 14: 200\n",
      "  label 15: 200\n",
      "  label 16: 200\n",
      "  label 17: 260\n",
      "  label 18: 200\n",
      "  label 19: 200\n",
      "  label 20: 200\n",
      "  label 21: 200\n",
      "  label 22: 200\n",
      "  label 23: 200\n",
      "  label 24: 200\n",
      "  label 25: 200\n",
      "  label 26: 200\n",
      "  label 27: 200\n",
      "  label 28: 200\n",
      "  label 29: 200\n",
      "  label 30: 200\n",
      "  label 31: 200\n",
      "  label 32: 200\n",
      "  label 33: 200\n",
      "  label 34: 200\n",
      "  label 35: 200\n",
      "  label 36: 200\n",
      "  label 37: 200\n",
      "  label 38: 200\n",
      "  label 39: 200\n",
      "  label 40: 200\n",
      "  label 41: 200\n",
      "  label 42: 200\n",
      "  label 43: 200\n",
      "  label 44: 200\n",
      "  label 45: 200\n",
      "  label 46: 200\n",
      "  label 47: 595\n",
      "  label 48: 227\n",
      "  label 49: 200\n",
      "model is roberta-base bilstm\n"
     ]
    },
    {
     "name": "stderr",
     "output_type": "stream",
     "text": [
      "Some weights of RobertaModel were not initialized from the model checkpoint at roberta-base and are newly initialized: ['pooler.dense.bias', 'pooler.dense.weight']\n",
      "You should probably TRAIN this model on a down-stream task to be able to use it for predictions and inference.\n"
     ]
    },
    {
     "name": "stdout",
     "output_type": "stream",
     "text": [
      "Epoch 1/20\n"
     ]
    },
    {
     "name": "stderr",
     "output_type": "stream",
     "text": [
      "100%|██████████| 771/771 [01:12<00:00, 10.57it/s]\n"
     ]
    },
    {
     "name": "stdout",
     "output_type": "stream",
     "text": [
      "{'val_loss': 1.8210831644400112, 'val_accuracy': 0.5354609929078015, 'precision': 0.5424521203655178, 'recall': 0.5354609929078015, 'f1-score': 0.5160960266201058, 'macro_f1-score': 0.20259317873867488, 'balanced_accuracy': 0.3156368014915061, 'mcc': 0.4052987569994984, 'train_loss': 2.7224914472545323}\n",
      "Epoch 2/20\n"
     ]
    },
    {
     "name": "stderr",
     "output_type": "stream",
     "text": [
      "100%|██████████| 771/771 [01:12<00:00, 10.58it/s]\n"
     ]
    },
    {
     "name": "stdout",
     "output_type": "stream",
     "text": [
      "{'val_loss': 1.7436045588187452, 'val_accuracy': 0.508274231678487, 'precision': 0.6075590233092518, 'recall': 0.508274231678487, 'f1-score': 0.5286552258928362, 'macro_f1-score': 0.24461918500862942, 'balanced_accuracy': 0.3521574340424972, 'mcc': 0.4065490662468538, 'train_loss': 1.4660469371675673}\n",
      "Epoch 3/20\n"
     ]
    },
    {
     "name": "stderr",
     "output_type": "stream",
     "text": [
      "100%|██████████| 771/771 [01:12<00:00, 10.57it/s]\n"
     ]
    },
    {
     "name": "stdout",
     "output_type": "stream",
     "text": [
      "{'val_loss': 1.4146546350335174, 'val_accuracy': 0.5969267139479906, 'precision': 0.6401365967947837, 'recall': 0.5969267139479906, 'f1-score': 0.6077589596262349, 'macro_f1-score': 0.3507438854389065, 'balanced_accuracy': 0.4111178394854534, 'mcc': 0.48880359888815433, 'train_loss': 1.0004153980664552}\n",
      "Epoch 4/20\n"
     ]
    },
    {
     "name": "stderr",
     "output_type": "stream",
     "text": [
      "100%|██████████| 771/771 [01:12<00:00, 10.57it/s]\n"
     ]
    },
    {
     "name": "stdout",
     "output_type": "stream",
     "text": [
      "{'val_loss': 1.443101537677477, 'val_accuracy': 0.6099290780141844, 'precision': 0.6541024054727904, 'recall': 0.6099290780141844, 'f1-score': 0.6188128613518526, 'macro_f1-score': 0.3556434556560682, 'balanced_accuracy': 0.39290966196436644, 'mcc': 0.5124612864976188, 'train_loss': 0.7418374249134236}\n",
      "Epoch 5/20\n"
     ]
    },
    {
     "name": "stderr",
     "output_type": "stream",
     "text": [
      "100%|██████████| 771/771 [01:12<00:00, 10.59it/s]\n"
     ]
    },
    {
     "name": "stdout",
     "output_type": "stream",
     "text": [
      "{'val_loss': 1.44822832379701, 'val_accuracy': 0.6182033096926713, 'precision': 0.6515366093899606, 'recall': 0.6182033096926713, 'f1-score': 0.6233168803593366, 'macro_f1-score': 0.34191716700543834, 'balanced_accuracy': 0.38615515336239636, 'mcc': 0.5133835302860754, 'train_loss': 0.6090039861148124}\n",
      "Epoch 6/20\n"
     ]
    },
    {
     "name": "stderr",
     "output_type": "stream",
     "text": [
      "100%|██████████| 771/771 [01:12<00:00, 10.58it/s]\n"
     ]
    },
    {
     "name": "stdout",
     "output_type": "stream",
     "text": [
      "{'val_loss': 1.4371738906176585, 'val_accuracy': 0.6205673758865248, 'precision': 0.6492499916182828, 'recall': 0.6205673758865248, 'f1-score': 0.6274113729192496, 'macro_f1-score': 0.3567195674277941, 'balanced_accuracy': 0.3782539907155745, 'mcc': 0.5188747327960793, 'train_loss': 0.5086216664789716}\n",
      "Epoch 7/20\n"
     ]
    },
    {
     "name": "stderr",
     "output_type": "stream",
     "text": [
      "100%|██████████| 771/771 [01:12<00:00, 10.59it/s]\n"
     ]
    },
    {
     "name": "stdout",
     "output_type": "stream",
     "text": [
      "{'val_loss': 1.469789815398882, 'val_accuracy': 0.624113475177305, 'precision': 0.6593130618681926, 'recall': 0.624113475177305, 'f1-score': 0.6290143553339448, 'macro_f1-score': 0.3350212368639911, 'balanced_accuracy': 0.38516238834809274, 'mcc': 0.5228108356337471, 'train_loss': 0.436500232152148}\n",
      "Epoch 8/20\n"
     ]
    },
    {
     "name": "stderr",
     "output_type": "stream",
     "text": [
      "100%|██████████| 771/771 [01:12<00:00, 10.59it/s]\n"
     ]
    },
    {
     "name": "stdout",
     "output_type": "stream",
     "text": [
      "{'val_loss': 1.5388628086953793, 'val_accuracy': 0.6347517730496454, 'precision': 0.6520231953026305, 'recall': 0.6347517730496454, 'f1-score': 0.6322010905791156, 'macro_f1-score': 0.3347588258134405, 'balanced_accuracy': 0.3500971868905849, 'mcc': 0.5267354809541988, 'train_loss': 0.39673675255591456}\n",
      "Epoch 9/20\n"
     ]
    },
    {
     "name": "stderr",
     "output_type": "stream",
     "text": [
      "100%|██████████| 771/771 [01:12<00:00, 10.59it/s]\n"
     ]
    },
    {
     "name": "stdout",
     "output_type": "stream",
     "text": [
      "{'val_loss': 1.6157537350114786, 'val_accuracy': 0.6134751773049646, 'precision': 0.6414373709856109, 'recall': 0.6134751773049646, 'f1-score': 0.6173719468536321, 'macro_f1-score': 0.35870382607917056, 'balanced_accuracy': 0.38468509838031584, 'mcc': 0.5105150143861806, 'train_loss': 0.3510595281522639}\n",
      "Epoch 10/20\n"
     ]
    },
    {
     "name": "stderr",
     "output_type": "stream",
     "text": [
      "100%|██████████| 771/771 [01:12<00:00, 10.58it/s]\n"
     ]
    },
    {
     "name": "stdout",
     "output_type": "stream",
     "text": [
      "{'val_loss': 1.7168127017201118, 'val_accuracy': 0.5862884160756501, 'precision': 0.6215449814069622, 'recall': 0.5862884160756501, 'f1-score': 0.5925314541704128, 'macro_f1-score': 0.30912604966151475, 'balanced_accuracy': 0.3348615432335238, 'mcc': 0.47883549247646934, 'train_loss': 0.3444471392374674}\n",
      "Epoch 11/20\n"
     ]
    },
    {
     "name": "stderr",
     "output_type": "stream",
     "text": [
      "100%|██████████| 771/771 [01:12<00:00, 10.60it/s]\n"
     ]
    },
    {
     "name": "stdout",
     "output_type": "stream",
     "text": [
      "{'val_loss': 1.6034569447895266, 'val_accuracy': 0.6382978723404256, 'precision': 0.6614149483413511, 'recall': 0.6382978723404256, 'f1-score': 0.6364800880974494, 'macro_f1-score': 0.3829864566731002, 'balanced_accuracy': 0.3991092691363008, 'mcc': 0.5330217106121329, 'train_loss': 0.3179655101502993}\n",
      "Epoch 12/20\n"
     ]
    },
    {
     "name": "stderr",
     "output_type": "stream",
     "text": [
      "100%|██████████| 771/771 [01:12<00:00, 10.58it/s]\n"
     ]
    },
    {
     "name": "stdout",
     "output_type": "stream",
     "text": [
      "{'val_loss': 1.6573429147027574, 'val_accuracy': 0.6347517730496454, 'precision': 0.6630355757454063, 'recall': 0.6347517730496454, 'f1-score': 0.6362886375212671, 'macro_f1-score': 0.3888936352157109, 'balanced_accuracy': 0.41849281497685586, 'mcc': 0.5399788362713769, 'train_loss': 0.29278171717415136}\n",
      "Epoch 13/20\n"
     ]
    },
    {
     "name": "stderr",
     "output_type": "stream",
     "text": [
      "100%|██████████| 771/771 [01:12<00:00, 10.60it/s]\n"
     ]
    },
    {
     "name": "stdout",
     "output_type": "stream",
     "text": [
      "{'val_loss': 1.669233279970457, 'val_accuracy': 0.624113475177305, 'precision': 0.6487445055729089, 'recall': 0.624113475177305, 'f1-score': 0.6261214262345333, 'macro_f1-score': 0.3335449335548814, 'balanced_accuracy': 0.3564729818940181, 'mcc': 0.5182918246182361, 'train_loss': 0.3532324574667907}\n",
      "Epoch 14/20\n"
     ]
    },
    {
     "name": "stderr",
     "output_type": "stream",
     "text": [
      "100%|██████████| 771/771 [01:12<00:00, 10.59it/s]\n"
     ]
    },
    {
     "name": "stdout",
     "output_type": "stream",
     "text": [
      "{'val_loss': 1.7758840333740666, 'val_accuracy': 0.6182033096926713, 'precision': 0.6585586916047884, 'recall': 0.6182033096926713, 'f1-score': 0.6261117121397423, 'macro_f1-score': 0.35222097848865713, 'balanced_accuracy': 0.37708505625182104, 'mcc': 0.5191710804078161, 'train_loss': 0.25112708195398925}\n",
      "Epoch 15/20\n"
     ]
    },
    {
     "name": "stderr",
     "output_type": "stream",
     "text": [
      "100%|██████████| 771/771 [01:12<00:00, 10.57it/s]\n"
     ]
    },
    {
     "name": "stdout",
     "output_type": "stream",
     "text": [
      "{'val_loss': 1.9774595544023335, 'val_accuracy': 0.5791962174940898, 'precision': 0.6496495479652569, 'recall': 0.5791962174940898, 'f1-score': 0.5946153306022658, 'macro_f1-score': 0.35207809205326723, 'balanced_accuracy': 0.4047374785517915, 'mcc': 0.4848419940105894, 'train_loss': 0.2500492391555815}\n",
      "Early stopping.\n",
      "\n",
      "[Fold 3]\n",
      "Label distribution after resampling:\n",
      "  label 0: 2000\n",
      "  label 1: 200\n",
      "  label 2: 200\n",
      "  label 3: 200\n",
      "  label 4: 231\n",
      "  label 5: 200\n",
      "  label 6: 200\n",
      "  label 7: 200\n",
      "  label 8: 200\n",
      "  label 9: 200\n",
      "  label 10: 200\n",
      "  label 11: 200\n",
      "  label 12: 217\n",
      "  label 13: 200\n",
      "  label 14: 200\n",
      "  label 15: 200\n",
      "  label 16: 200\n",
      "  label 17: 260\n",
      "  label 18: 200\n",
      "  label 19: 200\n",
      "  label 20: 200\n",
      "  label 21: 200\n",
      "  label 22: 200\n",
      "  label 23: 200\n",
      "  label 24: 200\n",
      "  label 25: 200\n",
      "  label 26: 200\n",
      "  label 27: 200\n",
      "  label 28: 200\n",
      "  label 29: 200\n",
      "  label 30: 200\n",
      "  label 31: 200\n",
      "  label 32: 200\n",
      "  label 33: 200\n",
      "  label 34: 200\n",
      "  label 35: 200\n",
      "  label 36: 200\n",
      "  label 37: 200\n",
      "  label 38: 200\n",
      "  label 39: 200\n",
      "  label 40: 200\n",
      "  label 41: 200\n",
      "  label 42: 200\n",
      "  label 43: 200\n",
      "  label 44: 200\n",
      "  label 45: 200\n",
      "  label 46: 200\n",
      "  label 47: 595\n",
      "  label 48: 227\n",
      "  label 49: 200\n",
      "model is roberta-base bilstm\n"
     ]
    },
    {
     "name": "stderr",
     "output_type": "stream",
     "text": [
      "Some weights of RobertaModel were not initialized from the model checkpoint at roberta-base and are newly initialized: ['pooler.dense.bias', 'pooler.dense.weight']\n",
      "You should probably TRAIN this model on a down-stream task to be able to use it for predictions and inference.\n"
     ]
    },
    {
     "name": "stdout",
     "output_type": "stream",
     "text": [
      "Epoch 1/20\n"
     ]
    },
    {
     "name": "stderr",
     "output_type": "stream",
     "text": [
      "100%|██████████| 771/771 [01:12<00:00, 10.58it/s]\n"
     ]
    },
    {
     "name": "stdout",
     "output_type": "stream",
     "text": [
      "{'val_loss': 1.6856100424280707, 'val_accuracy': 0.5555555555555556, 'precision': 0.6121221820509318, 'recall': 0.5555555555555556, 'f1-score': 0.5392216235284768, 'macro_f1-score': 0.24041794889274726, 'balanced_accuracy': 0.31186974163901904, 'mcc': 0.4209943190167808, 'train_loss': 2.56732573243276}\n",
      "Epoch 2/20\n"
     ]
    },
    {
     "name": "stderr",
     "output_type": "stream",
     "text": [
      "100%|██████████| 771/771 [01:12<00:00, 10.59it/s]\n"
     ]
    },
    {
     "name": "stdout",
     "output_type": "stream",
     "text": [
      "{'val_loss': 1.407224123208028, 'val_accuracy': 0.5981087470449172, 'precision': 0.6433342863508229, 'recall': 0.5981087470449172, 'f1-score': 0.5871429723362301, 'macro_f1-score': 0.3533661444066169, 'balanced_accuracy': 0.40711933516530635, 'mcc': 0.46882706676658964, 'train_loss': 1.380849185466148}\n",
      "Epoch 3/20\n"
     ]
    },
    {
     "name": "stderr",
     "output_type": "stream",
     "text": [
      "100%|██████████| 771/771 [01:12<00:00, 10.59it/s]\n"
     ]
    },
    {
     "name": "stdout",
     "output_type": "stream",
     "text": [
      "{'val_loss': 1.403374823196879, 'val_accuracy': 0.6312056737588653, 'precision': 0.6255245503758685, 'recall': 0.6312056737588653, 'f1-score': 0.6141589209353325, 'macro_f1-score': 0.3566230735066112, 'balanced_accuracy': 0.3985279767980339, 'mcc': 0.5122938892078986, 'train_loss': 0.933976162287821}\n",
      "Epoch 4/20\n"
     ]
    },
    {
     "name": "stderr",
     "output_type": "stream",
     "text": [
      "100%|██████████| 771/771 [01:12<00:00, 10.61it/s]\n"
     ]
    },
    {
     "name": "stdout",
     "output_type": "stream",
     "text": [
      "{'val_loss': 1.4818341428378843, 'val_accuracy': 0.6276595744680851, 'precision': 0.6677822663015566, 'recall': 0.6276595744680851, 'f1-score': 0.6360187512684075, 'macro_f1-score': 0.36801288873640153, 'balanced_accuracy': 0.395070058255728, 'mcc': 0.5218725110481668, 'train_loss': 0.73420405581149}\n",
      "Epoch 5/20\n"
     ]
    },
    {
     "name": "stderr",
     "output_type": "stream",
     "text": [
      "100%|██████████| 771/771 [01:12<00:00, 10.59it/s]\n"
     ]
    },
    {
     "name": "stdout",
     "output_type": "stream",
     "text": [
      "{'val_loss': 1.4152422474240356, 'val_accuracy': 0.6536643026004728, 'precision': 0.6407413578304796, 'recall': 0.6536643026004728, 'f1-score': 0.6333595049119625, 'macro_f1-score': 0.3491533401256153, 'balanced_accuracy': 0.35920210476867903, 'mcc': 0.5354567558622504, 'train_loss': 0.6111548868927201}\n",
      "Epoch 6/20\n"
     ]
    },
    {
     "name": "stderr",
     "output_type": "stream",
     "text": [
      "100%|██████████| 771/771 [01:12<00:00, 10.60it/s]\n"
     ]
    },
    {
     "name": "stdout",
     "output_type": "stream",
     "text": [
      "{'val_loss': 1.6560360480029628, 'val_accuracy': 0.599290780141844, 'precision': 0.6497590148435395, 'recall': 0.599290780141844, 'f1-score': 0.606753846159091, 'macro_f1-score': 0.35110881340968697, 'balanced_accuracy': 0.40703236109661334, 'mcc': 0.49518762045612696, 'train_loss': 0.49824155918316465}\n",
      "Epoch 7/20\n"
     ]
    },
    {
     "name": "stderr",
     "output_type": "stream",
     "text": [
      "100%|██████████| 771/771 [01:12<00:00, 10.60it/s]\n"
     ]
    },
    {
     "name": "stdout",
     "output_type": "stream",
     "text": [
      "{'val_loss': 1.6069233979818955, 'val_accuracy': 0.6418439716312057, 'precision': 0.6824304595490676, 'recall': 0.6418439716312057, 'f1-score': 0.6418959884971027, 'macro_f1-score': 0.36198601594372026, 'balanced_accuracy': 0.4046535975547585, 'mcc': 0.5348461582086806, 'train_loss': 0.44234839697330997}\n",
      "Early stopping.\n",
      "\n",
      "[Fold 4]\n",
      "Label distribution after resampling:\n",
      "  label 0: 2000\n",
      "  label 1: 200\n",
      "  label 2: 200\n",
      "  label 3: 200\n",
      "  label 4: 231\n",
      "  label 5: 200\n",
      "  label 6: 200\n",
      "  label 7: 200\n",
      "  label 8: 200\n",
      "  label 9: 200\n",
      "  label 10: 200\n",
      "  label 11: 200\n",
      "  label 12: 217\n",
      "  label 13: 200\n",
      "  label 14: 200\n",
      "  label 15: 200\n",
      "  label 16: 200\n",
      "  label 17: 260\n",
      "  label 18: 200\n",
      "  label 19: 200\n",
      "  label 20: 200\n",
      "  label 21: 200\n",
      "  label 22: 200\n",
      "  label 23: 200\n",
      "  label 24: 200\n",
      "  label 25: 200\n",
      "  label 26: 200\n",
      "  label 27: 200\n",
      "  label 28: 200\n",
      "  label 29: 200\n",
      "  label 30: 200\n",
      "  label 31: 200\n",
      "  label 32: 200\n",
      "  label 33: 200\n",
      "  label 34: 200\n",
      "  label 35: 200\n",
      "  label 36: 200\n",
      "  label 37: 200\n",
      "  label 38: 200\n",
      "  label 39: 200\n",
      "  label 40: 200\n",
      "  label 41: 200\n",
      "  label 42: 200\n",
      "  label 43: 200\n",
      "  label 44: 200\n",
      "  label 45: 200\n",
      "  label 46: 200\n",
      "  label 47: 595\n",
      "  label 48: 227\n",
      "  label 49: 200\n",
      "model is roberta-base bilstm\n"
     ]
    },
    {
     "name": "stderr",
     "output_type": "stream",
     "text": [
      "Some weights of RobertaModel were not initialized from the model checkpoint at roberta-base and are newly initialized: ['pooler.dense.bias', 'pooler.dense.weight']\n",
      "You should probably TRAIN this model on a down-stream task to be able to use it for predictions and inference.\n"
     ]
    },
    {
     "name": "stdout",
     "output_type": "stream",
     "text": [
      "Epoch 1/20\n"
     ]
    },
    {
     "name": "stderr",
     "output_type": "stream",
     "text": [
      "100%|██████████| 771/771 [01:12<00:00, 10.58it/s]\n"
     ]
    },
    {
     "name": "stdout",
     "output_type": "stream",
     "text": [
      "{'val_loss': 1.701685348771653, 'val_accuracy': 0.541371158392435, 'precision': 0.5567051527968898, 'recall': 0.541371158392435, 'f1-score': 0.5257676650686615, 'macro_f1-score': 0.2601508451252846, 'balanced_accuracy': 0.3280485567687093, 'mcc': 0.4025745323017626, 'train_loss': 2.5272756653382467}\n",
      "Epoch 2/20\n"
     ]
    },
    {
     "name": "stderr",
     "output_type": "stream",
     "text": [
      "100%|██████████| 771/771 [01:12<00:00, 10.59it/s]\n"
     ]
    },
    {
     "name": "stdout",
     "output_type": "stream",
     "text": [
      "{'val_loss': 1.5212039239001724, 'val_accuracy': 0.5673758865248227, 'precision': 0.6061104798392174, 'recall': 0.5673758865248227, 'f1-score': 0.5639228885055223, 'macro_f1-score': 0.3350386404882839, 'balanced_accuracy': 0.41455081782616005, 'mcc': 0.4459685963787224, 'train_loss': 1.3366895618180512}\n",
      "Epoch 3/20\n"
     ]
    },
    {
     "name": "stderr",
     "output_type": "stream",
     "text": [
      "100%|██████████| 771/771 [01:12<00:00, 10.57it/s]\n"
     ]
    },
    {
     "name": "stdout",
     "output_type": "stream",
     "text": [
      "{'val_loss': 1.416468378507866, 'val_accuracy': 0.5969267139479906, 'precision': 0.6411514588925382, 'recall': 0.5969267139479906, 'f1-score': 0.5910659261738183, 'macro_f1-score': 0.34285489775524847, 'balanced_accuracy': 0.42260566463706306, 'mcc': 0.480221516596628, 'train_loss': 0.9234466823119907}\n",
      "Epoch 4/20\n"
     ]
    },
    {
     "name": "stderr",
     "output_type": "stream",
     "text": [
      "100%|██████████| 771/771 [01:13<00:00, 10.56it/s]\n"
     ]
    },
    {
     "name": "stdout",
     "output_type": "stream",
     "text": [
      "{'val_loss': 1.4409125947727348, 'val_accuracy': 0.6347517730496454, 'precision': 0.6628489916302704, 'recall': 0.6347517730496454, 'f1-score': 0.6331141144168297, 'macro_f1-score': 0.38513351658392936, 'balanced_accuracy': 0.4258775617132054, 'mcc': 0.5267662536070318, 'train_loss': 0.7082176851893832}\n",
      "Epoch 5/20\n"
     ]
    },
    {
     "name": "stderr",
     "output_type": "stream",
     "text": [
      "100%|██████████| 771/771 [01:12<00:00, 10.57it/s]\n"
     ]
    },
    {
     "name": "stdout",
     "output_type": "stream",
     "text": [
      "{'val_loss': 1.6121414483718153, 'val_accuracy': 0.5910165484633569, 'precision': 0.6349881253700437, 'recall': 0.5910165484633569, 'f1-score': 0.5988165502618779, 'macro_f1-score': 0.37408563112785054, 'balanced_accuracy': 0.4484624571793173, 'mcc': 0.4937532177813885, 'train_loss': 0.5767935776645765}\n",
      "Epoch 6/20\n"
     ]
    },
    {
     "name": "stderr",
     "output_type": "stream",
     "text": [
      "100%|██████████| 771/771 [01:12<00:00, 10.58it/s]\n"
     ]
    },
    {
     "name": "stdout",
     "output_type": "stream",
     "text": [
      "{'val_loss': 1.516332634215085, 'val_accuracy': 0.6335697399527187, 'precision': 0.6351967539666176, 'recall': 0.6335697399527187, 'f1-score': 0.6278536713177802, 'macro_f1-score': 0.35462374660041385, 'balanced_accuracy': 0.3841971389379984, 'mcc': 0.5253315957181688, 'train_loss': 0.5124890453794587}\n",
      "Epoch 7/20\n"
     ]
    },
    {
     "name": "stderr",
     "output_type": "stream",
     "text": [
      "100%|██████████| 771/771 [01:12<00:00, 10.59it/s]\n"
     ]
    },
    {
     "name": "stdout",
     "output_type": "stream",
     "text": [
      "{'val_loss': 1.5669011091286282, 'val_accuracy': 0.6418439716312057, 'precision': 0.6643940815603404, 'recall': 0.6418439716312057, 'f1-score': 0.6437417242575045, 'macro_f1-score': 0.4221728439545685, 'balanced_accuracy': 0.4335426585774879, 'mcc': 0.5400784208237779, 'train_loss': 0.439410767453963}\n",
      "Epoch 8/20\n"
     ]
    },
    {
     "name": "stderr",
     "output_type": "stream",
     "text": [
      "100%|██████████| 771/771 [01:12<00:00, 10.57it/s]\n"
     ]
    },
    {
     "name": "stdout",
     "output_type": "stream",
     "text": [
      "{'val_loss': 1.497364082426395, 'val_accuracy': 0.6359338061465721, 'precision': 0.6564705310748751, 'recall': 0.6359338061465721, 'f1-score': 0.6359771910750884, 'macro_f1-score': 0.41982825905292886, 'balanced_accuracy': 0.44139466342779454, 'mcc': 0.5328553966794343, 'train_loss': 0.4210319414362795}\n",
      "Epoch 9/20\n"
     ]
    },
    {
     "name": "stderr",
     "output_type": "stream",
     "text": [
      "100%|██████████| 771/771 [01:12<00:00, 10.57it/s]\n"
     ]
    },
    {
     "name": "stdout",
     "output_type": "stream",
     "text": [
      "{'val_loss': 1.5647361880203463, 'val_accuracy': 0.6560283687943262, 'precision': 0.6526362427331932, 'recall': 0.6560283687943262, 'f1-score': 0.6444692665486216, 'macro_f1-score': 0.41818104531298667, 'balanced_accuracy': 0.42305434330201264, 'mcc': 0.5433688670390252, 'train_loss': 0.3782697734888039}\n",
      "Epoch 10/20\n"
     ]
    },
    {
     "name": "stderr",
     "output_type": "stream",
     "text": [
      "100%|██████████| 771/771 [01:12<00:00, 10.58it/s]\n"
     ]
    },
    {
     "name": "stdout",
     "output_type": "stream",
     "text": [
      "{'val_loss': 1.702289272029445, 'val_accuracy': 0.6205673758865248, 'precision': 0.670547844164045, 'recall': 0.6205673758865248, 'f1-score': 0.6252054051308638, 'macro_f1-score': 0.392738810378284, 'balanced_accuracy': 0.4269094540935297, 'mcc': 0.5254745764869048, 'train_loss': 0.3357337388100076}\n",
      "Early stopping.\n",
      "\n",
      "[Fold 5]\n",
      "Label distribution after resampling:\n",
      "  label 0: 2000\n",
      "  label 1: 200\n",
      "  label 2: 200\n",
      "  label 3: 200\n",
      "  label 4: 231\n",
      "  label 5: 200\n",
      "  label 6: 200\n",
      "  label 7: 200\n",
      "  label 8: 200\n",
      "  label 9: 200\n",
      "  label 10: 200\n",
      "  label 11: 200\n",
      "  label 12: 217\n",
      "  label 13: 200\n",
      "  label 14: 200\n",
      "  label 15: 200\n",
      "  label 16: 200\n",
      "  label 17: 260\n",
      "  label 18: 200\n",
      "  label 19: 200\n",
      "  label 20: 200\n",
      "  label 21: 200\n",
      "  label 22: 200\n",
      "  label 23: 200\n",
      "  label 24: 200\n",
      "  label 25: 200\n",
      "  label 26: 200\n",
      "  label 27: 200\n",
      "  label 28: 200\n",
      "  label 29: 200\n",
      "  label 30: 200\n",
      "  label 31: 200\n",
      "  label 32: 200\n",
      "  label 33: 200\n",
      "  label 34: 200\n",
      "  label 35: 200\n",
      "  label 36: 200\n",
      "  label 37: 200\n",
      "  label 38: 200\n",
      "  label 39: 200\n",
      "  label 40: 200\n",
      "  label 41: 200\n",
      "  label 42: 200\n",
      "  label 43: 200\n",
      "  label 44: 200\n",
      "  label 45: 200\n",
      "  label 46: 200\n",
      "  label 47: 595\n",
      "  label 48: 227\n",
      "  label 49: 200\n",
      "model is roberta-base bilstm\n"
     ]
    },
    {
     "name": "stderr",
     "output_type": "stream",
     "text": [
      "Some weights of RobertaModel were not initialized from the model checkpoint at roberta-base and are newly initialized: ['pooler.dense.bias', 'pooler.dense.weight']\n",
      "You should probably TRAIN this model on a down-stream task to be able to use it for predictions and inference.\n"
     ]
    },
    {
     "name": "stdout",
     "output_type": "stream",
     "text": [
      "Epoch 1/20\n"
     ]
    },
    {
     "name": "stderr",
     "output_type": "stream",
     "text": [
      "100%|██████████| 771/771 [01:12<00:00, 10.58it/s]\n"
     ]
    },
    {
     "name": "stdout",
     "output_type": "stream",
     "text": [
      "{'val_loss': 1.7031981540176104, 'val_accuracy': 0.5408284023668639, 'precision': 0.6414118047995678, 'recall': 0.5408284023668639, 'f1-score': 0.5475379528296925, 'macro_f1-score': 0.2298034461842985, 'balanced_accuracy': 0.2854973289649829, 'mcc': 0.4141107244794769, 'train_loss': 2.5788088443214328}\n",
      "Epoch 2/20\n"
     ]
    },
    {
     "name": "stderr",
     "output_type": "stream",
     "text": [
      "100%|██████████| 771/771 [01:12<00:00, 10.58it/s]\n"
     ]
    },
    {
     "name": "stdout",
     "output_type": "stream",
     "text": [
      "{'val_loss': 1.5635428867250118, 'val_accuracy': 0.5727810650887574, 'precision': 0.6369322988484546, 'recall': 0.5727810650887574, 'f1-score': 0.5814768278913757, 'macro_f1-score': 0.3131608665552461, 'balanced_accuracy': 0.37713513088627304, 'mcc': 0.46118429202312206, 'train_loss': 1.4376142224449129}\n",
      "Epoch 3/20\n"
     ]
    },
    {
     "name": "stderr",
     "output_type": "stream",
     "text": [
      "100%|██████████| 771/771 [01:12<00:00, 10.58it/s]\n"
     ]
    },
    {
     "name": "stdout",
     "output_type": "stream",
     "text": [
      "{'val_loss': 1.487282375119767, 'val_accuracy': 0.5988165680473373, 'precision': 0.6247929370943134, 'recall': 0.5988165680473373, 'f1-score': 0.5959411502535231, 'macro_f1-score': 0.328485167428128, 'balanced_accuracy': 0.3754631804738138, 'mcc': 0.4921723223830715, 'train_loss': 0.9954888084673851}\n",
      "Epoch 4/20\n"
     ]
    },
    {
     "name": "stderr",
     "output_type": "stream",
     "text": [
      "100%|██████████| 771/771 [01:12<00:00, 10.57it/s]\n"
     ]
    },
    {
     "name": "stdout",
     "output_type": "stream",
     "text": [
      "{'val_loss': 1.6101278527727667, 'val_accuracy': 0.5668639053254438, 'precision': 0.6262444019579889, 'recall': 0.5668639053254438, 'f1-score': 0.5804100697312419, 'macro_f1-score': 0.35040083578881237, 'balanced_accuracy': 0.40158836783981355, 'mcc': 0.4714334078358771, 'train_loss': 0.7563020346538876}\n",
      "Epoch 5/20\n"
     ]
    },
    {
     "name": "stderr",
     "output_type": "stream",
     "text": [
      "100%|██████████| 771/771 [01:12<00:00, 10.59it/s]\n"
     ]
    },
    {
     "name": "stdout",
     "output_type": "stream",
     "text": [
      "{'val_loss': 1.4864397257004145, 'val_accuracy': 0.6272189349112426, 'precision': 0.6634344634333397, 'recall': 0.6272189349112426, 'f1-score': 0.6253209448061529, 'macro_f1-score': 0.35828055434804507, 'balanced_accuracy': 0.3872175494402277, 'mcc': 0.5206134784044886, 'train_loss': 0.6251822798168613}\n",
      "Epoch 6/20\n"
     ]
    },
    {
     "name": "stderr",
     "output_type": "stream",
     "text": [
      "100%|██████████| 771/771 [01:12<00:00, 10.59it/s]\n"
     ]
    },
    {
     "name": "stdout",
     "output_type": "stream",
     "text": [
      "{'val_loss': 1.5042642782319267, 'val_accuracy': 0.6390532544378699, 'precision': 0.6518735833757064, 'recall': 0.6390532544378699, 'f1-score': 0.6313850707525681, 'macro_f1-score': 0.36643587970514124, 'balanced_accuracy': 0.3894016608528679, 'mcc': 0.5321042417571269, 'train_loss': 0.5260795883728063}\n",
      "Epoch 7/20\n"
     ]
    },
    {
     "name": "stderr",
     "output_type": "stream",
     "text": [
      "100%|██████████| 771/771 [01:12<00:00, 10.57it/s]\n"
     ]
    },
    {
     "name": "stdout",
     "output_type": "stream",
     "text": [
      "{'val_loss': 1.5172605000014574, 'val_accuracy': 0.6437869822485207, 'precision': 0.6355196889234216, 'recall': 0.6437869822485207, 'f1-score': 0.6267513013650019, 'macro_f1-score': 0.328999418094293, 'balanced_accuracy': 0.35530289108490865, 'mcc': 0.531430559774828, 'train_loss': 0.4305620803008516}\n",
      "Epoch 8/20\n"
     ]
    },
    {
     "name": "stderr",
     "output_type": "stream",
     "text": [
      "100%|██████████| 771/771 [01:12<00:00, 10.60it/s]\n"
     ]
    },
    {
     "name": "stdout",
     "output_type": "stream",
     "text": [
      "{'val_loss': 1.5339668887966085, 'val_accuracy': 0.642603550295858, 'precision': 0.6676720058952414, 'recall': 0.642603550295858, 'f1-score': 0.6331370090810953, 'macro_f1-score': 0.3453775198064208, 'balanced_accuracy': 0.363146047502479, 'mcc': 0.5324195889868073, 'train_loss': 0.38558396689796726}\n",
      "Epoch 9/20\n"
     ]
    },
    {
     "name": "stderr",
     "output_type": "stream",
     "text": [
      "100%|██████████| 771/771 [01:12<00:00, 10.59it/s]\n"
     ]
    },
    {
     "name": "stdout",
     "output_type": "stream",
     "text": [
      "{'val_loss': 1.5719532668590546, 'val_accuracy': 0.6650887573964497, 'precision': 0.6818042576499997, 'recall': 0.6650887573964497, 'f1-score': 0.6544320541229423, 'macro_f1-score': 0.35624059938839964, 'balanced_accuracy': 0.36638332251172706, 'mcc': 0.5596997023635002, 'train_loss': 0.3663867056277978}\n",
      "Early stopping.\n",
      "\n",
      "[Fold 6]\n",
      "Label distribution after resampling:\n",
      "  label 0: 2000\n",
      "  label 1: 200\n",
      "  label 2: 200\n",
      "  label 3: 200\n",
      "  label 4: 231\n",
      "  label 5: 200\n",
      "  label 6: 200\n",
      "  label 7: 200\n",
      "  label 8: 200\n",
      "  label 9: 200\n",
      "  label 10: 200\n",
      "  label 11: 200\n",
      "  label 12: 217\n",
      "  label 13: 200\n",
      "  label 14: 200\n",
      "  label 15: 200\n",
      "  label 16: 200\n",
      "  label 17: 260\n",
      "  label 18: 200\n",
      "  label 19: 200\n",
      "  label 20: 200\n",
      "  label 21: 200\n",
      "  label 22: 200\n",
      "  label 23: 200\n",
      "  label 24: 200\n",
      "  label 25: 200\n",
      "  label 26: 200\n",
      "  label 27: 200\n",
      "  label 28: 200\n",
      "  label 29: 200\n",
      "  label 30: 200\n",
      "  label 31: 200\n",
      "  label 32: 200\n",
      "  label 33: 200\n",
      "  label 34: 200\n",
      "  label 35: 200\n",
      "  label 36: 200\n",
      "  label 37: 200\n",
      "  label 38: 200\n",
      "  label 39: 200\n",
      "  label 40: 200\n",
      "  label 41: 200\n",
      "  label 42: 200\n",
      "  label 43: 200\n",
      "  label 44: 200\n",
      "  label 45: 200\n",
      "  label 46: 200\n",
      "  label 47: 595\n",
      "  label 48: 227\n",
      "  label 49: 200\n",
      "model is roberta-base bilstm\n"
     ]
    },
    {
     "name": "stderr",
     "output_type": "stream",
     "text": [
      "Some weights of RobertaModel were not initialized from the model checkpoint at roberta-base and are newly initialized: ['pooler.dense.bias', 'pooler.dense.weight']\n",
      "You should probably TRAIN this model on a down-stream task to be able to use it for predictions and inference.\n"
     ]
    },
    {
     "name": "stdout",
     "output_type": "stream",
     "text": [
      "Epoch 1/20\n"
     ]
    },
    {
     "name": "stderr",
     "output_type": "stream",
     "text": [
      "100%|██████████| 771/771 [01:12<00:00, 10.59it/s]\n"
     ]
    },
    {
     "name": "stdout",
     "output_type": "stream",
     "text": [
      "{'val_loss': 1.7951246072661202, 'val_accuracy': 0.5136094674556213, 'precision': 0.5247760001354383, 'recall': 0.5136094674556213, 'f1-score': 0.5058275995997944, 'macro_f1-score': 0.18901244583409713, 'balanced_accuracy': 0.2707985934994968, 'mcc': 0.3809970795195982, 'train_loss': 2.640701040528937}\n",
      "Epoch 2/20\n"
     ]
    },
    {
     "name": "stderr",
     "output_type": "stream",
     "text": [
      "100%|██████████| 771/771 [01:12<00:00, 10.60it/s]\n"
     ]
    },
    {
     "name": "stdout",
     "output_type": "stream",
     "text": [
      "{'val_loss': 1.5261444381947786, 'val_accuracy': 0.5692307692307692, 'precision': 0.5931647818022779, 'recall': 0.5692307692307692, 'f1-score': 0.5711877255179572, 'macro_f1-score': 0.31208242558693366, 'balanced_accuracy': 0.36863817144346933, 'mcc': 0.45251534959131196, 'train_loss': 1.4211860840654558}\n",
      "Epoch 3/20\n"
     ]
    },
    {
     "name": "stderr",
     "output_type": "stream",
     "text": [
      "100%|██████████| 771/771 [01:12<00:00, 10.57it/s]\n"
     ]
    },
    {
     "name": "stdout",
     "output_type": "stream",
     "text": [
      "{'val_loss': 1.5852144163734507, 'val_accuracy': 0.5692307692307692, 'precision': 0.64053111058523, 'recall': 0.5692307692307692, 'f1-score': 0.5750066451326098, 'macro_f1-score': 0.2837943189227955, 'balanced_accuracy': 0.3652003202250726, 'mcc': 0.45733351991403737, 'train_loss': 0.9413005906977387}\n",
      "Epoch 4/20\n"
     ]
    },
    {
     "name": "stderr",
     "output_type": "stream",
     "text": [
      "100%|██████████| 771/771 [01:12<00:00, 10.59it/s]\n"
     ]
    },
    {
     "name": "stdout",
     "output_type": "stream",
     "text": [
      "{'val_loss': 1.4800801389622238, 'val_accuracy': 0.6082840236686391, 'precision': 0.6358738003223967, 'recall': 0.6082840236686391, 'f1-score': 0.6030419390536352, 'macro_f1-score': 0.33503095179302306, 'balanced_accuracy': 0.4140832131977244, 'mcc': 0.5019211278139808, 'train_loss': 0.7321871894420199}\n",
      "Epoch 5/20\n"
     ]
    },
    {
     "name": "stderr",
     "output_type": "stream",
     "text": [
      "100%|██████████| 771/771 [01:12<00:00, 10.59it/s]\n"
     ]
    },
    {
     "name": "stdout",
     "output_type": "stream",
     "text": [
      "{'val_loss': 1.511325457186069, 'val_accuracy': 0.6023668639053255, 'precision': 0.6548480741399135, 'recall': 0.6023668639053255, 'f1-score': 0.6039635745681199, 'macro_f1-score': 0.31268933463911586, 'balanced_accuracy': 0.36065527894303734, 'mcc': 0.4886206088717868, 'train_loss': 0.6044327548756983}\n",
      "Epoch 6/20\n"
     ]
    },
    {
     "name": "stderr",
     "output_type": "stream",
     "text": [
      "100%|██████████| 771/771 [01:12<00:00, 10.57it/s]\n"
     ]
    },
    {
     "name": "stdout",
     "output_type": "stream",
     "text": [
      "{'val_loss': 1.4440891253498365, 'val_accuracy': 0.6295857988165681, 'precision': 0.6576243643967267, 'recall': 0.6295857988165681, 'f1-score': 0.623872906508558, 'macro_f1-score': 0.3482890809939507, 'balanced_accuracy': 0.39565611229149106, 'mcc': 0.5162245289915831, 'train_loss': 0.5159487210542698}\n",
      "Epoch 7/20\n"
     ]
    },
    {
     "name": "stderr",
     "output_type": "stream",
     "text": [
      "100%|██████████| 771/771 [01:12<00:00, 10.59it/s]\n"
     ]
    },
    {
     "name": "stdout",
     "output_type": "stream",
     "text": [
      "{'val_loss': 1.571231668850161, 'val_accuracy': 0.6177514792899408, 'precision': 0.685714634220095, 'recall': 0.6177514792899408, 'f1-score': 0.6337000740128755, 'macro_f1-score': 0.37366003250209673, 'balanced_accuracy': 0.4274819989992417, 'mcc': 0.5298978492189717, 'train_loss': 0.4264683319610844}\n",
      "Epoch 8/20\n"
     ]
    },
    {
     "name": "stderr",
     "output_type": "stream",
     "text": [
      "100%|██████████| 771/771 [01:12<00:00, 10.57it/s]\n"
     ]
    },
    {
     "name": "stdout",
     "output_type": "stream",
     "text": [
      "{'val_loss': 1.5281643704423364, 'val_accuracy': 0.6402366863905326, 'precision': 0.6821863564293819, 'recall': 0.6402366863905326, 'f1-score': 0.64393126683863, 'macro_f1-score': 0.37992293788960113, 'balanced_accuracy': 0.4078043788663642, 'mcc': 0.5397977661103743, 'train_loss': 0.4134804625112452}\n",
      "Epoch 9/20\n"
     ]
    },
    {
     "name": "stderr",
     "output_type": "stream",
     "text": [
      "100%|██████████| 771/771 [01:12<00:00, 10.58it/s]\n"
     ]
    },
    {
     "name": "stdout",
     "output_type": "stream",
     "text": [
      "{'val_loss': 1.6285979607195225, 'val_accuracy': 0.6130177514792899, 'precision': 0.6710236793912394, 'recall': 0.6130177514792899, 'f1-score': 0.626917472696062, 'macro_f1-score': 0.36244132902778375, 'balanced_accuracy': 0.41254328582517724, 'mcc': 0.525332496605139, 'train_loss': 0.38250033101779635}\n",
      "Epoch 10/20\n"
     ]
    },
    {
     "name": "stderr",
     "output_type": "stream",
     "text": [
      "100%|██████████| 771/771 [01:12<00:00, 10.58it/s]\n"
     ]
    },
    {
     "name": "stdout",
     "output_type": "stream",
     "text": [
      "{'val_loss': 1.7060632520126846, 'val_accuracy': 0.6130177514792899, 'precision': 0.6652103549267047, 'recall': 0.6130177514792899, 'f1-score': 0.6239080862770273, 'macro_f1-score': 0.3292213506586558, 'balanced_accuracy': 0.3919321231048272, 'mcc': 0.5170217222982062, 'train_loss': 0.3457553755810868}\n",
      "Epoch 11/20\n"
     ]
    },
    {
     "name": "stderr",
     "output_type": "stream",
     "text": [
      "100%|██████████| 771/771 [01:12<00:00, 10.58it/s]\n"
     ]
    },
    {
     "name": "stdout",
     "output_type": "stream",
     "text": [
      "{'val_loss': 1.6886687919778645, 'val_accuracy': 0.6236686390532544, 'precision': 0.6601698758604916, 'recall': 0.6236686390532544, 'f1-score': 0.6303207561788112, 'macro_f1-score': 0.343469686190678, 'balanced_accuracy': 0.3867949544283441, 'mcc': 0.5229116095270574, 'train_loss': 0.3369600576458525}\n",
      "Early stopping.\n",
      "\n",
      "[Fold 7]\n",
      "Label distribution after resampling:\n",
      "  label 0: 2000\n",
      "  label 1: 200\n",
      "  label 2: 200\n",
      "  label 3: 200\n",
      "  label 4: 232\n",
      "  label 5: 200\n",
      "  label 6: 200\n",
      "  label 7: 200\n",
      "  label 8: 200\n",
      "  label 9: 200\n",
      "  label 10: 200\n",
      "  label 11: 200\n",
      "  label 12: 217\n",
      "  label 13: 200\n",
      "  label 14: 200\n",
      "  label 15: 200\n",
      "  label 16: 200\n",
      "  label 17: 260\n",
      "  label 18: 200\n",
      "  label 19: 200\n",
      "  label 20: 200\n",
      "  label 21: 200\n",
      "  label 22: 200\n",
      "  label 23: 200\n",
      "  label 24: 200\n",
      "  label 25: 200\n",
      "  label 26: 200\n",
      "  label 27: 200\n",
      "  label 28: 200\n",
      "  label 29: 200\n",
      "  label 30: 200\n",
      "  label 31: 200\n",
      "  label 32: 200\n",
      "  label 33: 200\n",
      "  label 34: 200\n",
      "  label 35: 200\n",
      "  label 36: 200\n",
      "  label 37: 200\n",
      "  label 38: 200\n",
      "  label 39: 200\n",
      "  label 40: 200\n",
      "  label 41: 200\n",
      "  label 42: 200\n",
      "  label 43: 200\n",
      "  label 44: 200\n",
      "  label 45: 200\n",
      "  label 46: 200\n",
      "  label 47: 594\n",
      "  label 48: 227\n",
      "  label 49: 200\n",
      "model is roberta-base bilstm\n"
     ]
    },
    {
     "name": "stderr",
     "output_type": "stream",
     "text": [
      "Some weights of RobertaModel were not initialized from the model checkpoint at roberta-base and are newly initialized: ['pooler.dense.bias', 'pooler.dense.weight']\n",
      "You should probably TRAIN this model on a down-stream task to be able to use it for predictions and inference.\n"
     ]
    },
    {
     "name": "stdout",
     "output_type": "stream",
     "text": [
      "Epoch 1/20\n"
     ]
    },
    {
     "name": "stderr",
     "output_type": "stream",
     "text": [
      "100%|██████████| 771/771 [01:12<00:00, 10.58it/s]\n"
     ]
    },
    {
     "name": "stdout",
     "output_type": "stream",
     "text": [
      "{'val_loss': 1.6817962482290447, 'val_accuracy': 0.578698224852071, 'precision': 0.5188889800847046, 'recall': 0.578698224852071, 'f1-score': 0.525082028992571, 'macro_f1-score': 0.2085719760557766, 'balanced_accuracy': 0.3105716853446131, 'mcc': 0.4381631107692916, 'train_loss': 2.67359928475589}\n",
      "Epoch 2/20\n"
     ]
    },
    {
     "name": "stderr",
     "output_type": "stream",
     "text": [
      "100%|██████████| 771/771 [01:12<00:00, 10.57it/s]\n"
     ]
    },
    {
     "name": "stdout",
     "output_type": "stream",
     "text": [
      "{'val_loss': 1.52955595389852, 'val_accuracy': 0.5976331360946746, 'precision': 0.5876256148017127, 'recall': 0.5976331360946746, 'f1-score': 0.5775528319841383, 'macro_f1-score': 0.31545088978870495, 'balanced_accuracy': 0.405878678927896, 'mcc': 0.4791208922441621, 'train_loss': 1.5590577604860338}\n",
      "Epoch 3/20\n"
     ]
    },
    {
     "name": "stderr",
     "output_type": "stream",
     "text": [
      "100%|██████████| 771/771 [01:12<00:00, 10.58it/s]\n"
     ]
    },
    {
     "name": "stdout",
     "output_type": "stream",
     "text": [
      "{'val_loss': 1.5171765100281194, 'val_accuracy': 0.5834319526627219, 'precision': 0.6266218602388844, 'recall': 0.5834319526627219, 'f1-score': 0.5909785883817741, 'macro_f1-score': 0.36919598519051633, 'balanced_accuracy': 0.44038756685972474, 'mcc': 0.48975173512673714, 'train_loss': 1.0789509834057316}\n",
      "Epoch 4/20\n"
     ]
    },
    {
     "name": "stderr",
     "output_type": "stream",
     "text": [
      "100%|██████████| 771/771 [01:12<00:00, 10.58it/s]\n"
     ]
    },
    {
     "name": "stdout",
     "output_type": "stream",
     "text": [
      "{'val_loss': 1.3740384224450812, 'val_accuracy': 0.642603550295858, 'precision': 0.6466799615064838, 'recall': 0.642603550295858, 'f1-score': 0.6292337628902369, 'macro_f1-score': 0.39971192865896865, 'balanced_accuracy': 0.4303631355868178, 'mcc': 0.5347218164978271, 'train_loss': 0.8016551815736773}\n",
      "Epoch 5/20\n"
     ]
    },
    {
     "name": "stderr",
     "output_type": "stream",
     "text": [
      "100%|██████████| 771/771 [01:12<00:00, 10.58it/s]\n"
     ]
    },
    {
     "name": "stdout",
     "output_type": "stream",
     "text": [
      "{'val_loss': 1.4246331599523436, 'val_accuracy': 0.6082840236686391, 'precision': 0.6768358608440911, 'recall': 0.6082840236686391, 'f1-score': 0.622082382585202, 'macro_f1-score': 0.3900419816793088, 'balanced_accuracy': 0.4324394970234869, 'mcc': 0.5191071923040383, 'train_loss': 0.6676106494591703}\n",
      "Epoch 6/20\n"
     ]
    },
    {
     "name": "stderr",
     "output_type": "stream",
     "text": [
      "100%|██████████| 771/771 [01:12<00:00, 10.58it/s]\n"
     ]
    },
    {
     "name": "stdout",
     "output_type": "stream",
     "text": [
      "{'val_loss': 1.4711144892674572, 'val_accuracy': 0.6118343195266273, 'precision': 0.6994056996299649, 'recall': 0.6118343195266273, 'f1-score': 0.6348650085846443, 'macro_f1-score': 0.44074731833900055, 'balanced_accuracy': 0.480327798470017, 'mcc': 0.5184455968308203, 'train_loss': 0.5561843928138106}\n",
      "Epoch 7/20\n"
     ]
    },
    {
     "name": "stderr",
     "output_type": "stream",
     "text": [
      "100%|██████████| 771/771 [01:12<00:00, 10.59it/s]\n"
     ]
    },
    {
     "name": "stdout",
     "output_type": "stream",
     "text": [
      "{'val_loss': 1.3883880612985142, 'val_accuracy': 0.650887573964497, 'precision': 0.6730113393907, 'recall': 0.650887573964497, 'f1-score': 0.6515821372183229, 'macro_f1-score': 0.4515852070129156, 'balanced_accuracy': 0.4680674198823374, 'mcc': 0.5499968292662484, 'train_loss': 0.48657686803514083}\n",
      "Epoch 8/20\n"
     ]
    },
    {
     "name": "stderr",
     "output_type": "stream",
     "text": [
      "100%|██████████| 771/771 [01:12<00:00, 10.58it/s]\n"
     ]
    },
    {
     "name": "stdout",
     "output_type": "stream",
     "text": [
      "{'val_loss': 1.5765504747066859, 'val_accuracy': 0.6461538461538462, 'precision': 0.6697425682246831, 'recall': 0.6461538461538462, 'f1-score': 0.6412291748500802, 'macro_f1-score': 0.41878965572351995, 'balanced_accuracy': 0.41800887838983863, 'mcc': 0.5389052466098113, 'train_loss': 0.41620568172515754}\n",
      "Epoch 9/20\n"
     ]
    },
    {
     "name": "stderr",
     "output_type": "stream",
     "text": [
      "100%|██████████| 771/771 [01:12<00:00, 10.59it/s]\n"
     ]
    },
    {
     "name": "stdout",
     "output_type": "stream",
     "text": [
      "{'val_loss': 1.6397731439122614, 'val_accuracy': 0.6035502958579881, 'precision': 0.6906534208768544, 'recall': 0.6035502958579881, 'f1-score': 0.6208423809871803, 'macro_f1-score': 0.39552016100156406, 'balanced_accuracy': 0.46227559988469274, 'mcc': 0.5135290376477887, 'train_loss': 0.38246205624255764}\n",
      "Epoch 10/20\n"
     ]
    },
    {
     "name": "stderr",
     "output_type": "stream",
     "text": [
      "100%|██████████| 771/771 [01:12<00:00, 10.59it/s]\n"
     ]
    },
    {
     "name": "stdout",
     "output_type": "stream",
     "text": [
      "{'val_loss': 1.497790830877592, 'val_accuracy': 0.6698224852071006, 'precision': 0.6710963710329803, 'recall': 0.6698224852071006, 'f1-score': 0.6638878330089207, 'macro_f1-score': 0.45101420943465564, 'balanced_accuracy': 0.4718690341170005, 'mcc': 0.570660642660721, 'train_loss': 0.3516118514959141}\n",
      "Early stopping.\n",
      "\n",
      "[Fold 8]\n",
      "Label distribution after resampling:\n",
      "  label 0: 2000\n",
      "  label 1: 200\n",
      "  label 2: 200\n",
      "  label 3: 200\n",
      "  label 4: 232\n",
      "  label 5: 200\n",
      "  label 6: 200\n",
      "  label 7: 200\n",
      "  label 8: 200\n",
      "  label 9: 200\n",
      "  label 10: 200\n",
      "  label 11: 200\n",
      "  label 12: 216\n",
      "  label 13: 200\n",
      "  label 14: 200\n",
      "  label 15: 200\n",
      "  label 16: 200\n",
      "  label 17: 260\n",
      "  label 18: 200\n",
      "  label 19: 200\n",
      "  label 20: 200\n",
      "  label 21: 200\n",
      "  label 22: 200\n",
      "  label 23: 200\n",
      "  label 24: 200\n",
      "  label 25: 200\n",
      "  label 26: 200\n",
      "  label 27: 200\n",
      "  label 28: 200\n",
      "  label 29: 200\n",
      "  label 30: 200\n",
      "  label 31: 200\n",
      "  label 32: 200\n",
      "  label 33: 200\n",
      "  label 34: 200\n",
      "  label 35: 200\n",
      "  label 36: 200\n",
      "  label 37: 200\n",
      "  label 38: 200\n",
      "  label 39: 200\n",
      "  label 40: 200\n",
      "  label 41: 200\n",
      "  label 42: 200\n",
      "  label 43: 200\n",
      "  label 44: 200\n",
      "  label 45: 200\n",
      "  label 46: 200\n",
      "  label 47: 595\n",
      "  label 48: 226\n",
      "  label 49: 200\n",
      "model is roberta-base bilstm\n"
     ]
    },
    {
     "name": "stderr",
     "output_type": "stream",
     "text": [
      "Some weights of RobertaModel were not initialized from the model checkpoint at roberta-base and are newly initialized: ['pooler.dense.bias', 'pooler.dense.weight']\n",
      "You should probably TRAIN this model on a down-stream task to be able to use it for predictions and inference.\n"
     ]
    },
    {
     "name": "stdout",
     "output_type": "stream",
     "text": [
      "Epoch 1/20\n"
     ]
    },
    {
     "name": "stderr",
     "output_type": "stream",
     "text": [
      "100%|██████████| 771/771 [01:12<00:00, 10.57it/s]\n"
     ]
    },
    {
     "name": "stdout",
     "output_type": "stream",
     "text": [
      "{'val_loss': 1.7926857628912296, 'val_accuracy': 0.5112426035502958, 'precision': 0.5423904087368822, 'recall': 0.5112426035502958, 'f1-score': 0.5020772655047077, 'macro_f1-score': 0.226235326719699, 'balanced_accuracy': 0.3389400902725058, 'mcc': 0.38334247683140227, 'train_loss': 2.6342522811951494}\n",
      "Epoch 2/20\n"
     ]
    },
    {
     "name": "stderr",
     "output_type": "stream",
     "text": [
      "100%|██████████| 771/771 [01:12<00:00, 10.60it/s]\n"
     ]
    },
    {
     "name": "stdout",
     "output_type": "stream",
     "text": [
      "{'val_loss': 1.5732299573016617, 'val_accuracy': 0.5680473372781065, 'precision': 0.6102891463703684, 'recall': 0.5680473372781065, 'f1-score': 0.5742994048665415, 'macro_f1-score': 0.30974996543806776, 'balanced_accuracy': 0.4169988696490303, 'mcc': 0.4565091288440149, 'train_loss': 1.4753608106793752}\n",
      "Epoch 3/20\n"
     ]
    },
    {
     "name": "stderr",
     "output_type": "stream",
     "text": [
      "100%|██████████| 771/771 [01:12<00:00, 10.58it/s]\n"
     ]
    },
    {
     "name": "stdout",
     "output_type": "stream",
     "text": [
      "{'val_loss': 1.3761824071407318, 'val_accuracy': 0.6059171597633136, 'precision': 0.6018349357790951, 'recall': 0.6059171597633136, 'f1-score': 0.593989592230661, 'macro_f1-score': 0.3384694939600714, 'balanced_accuracy': 0.3800467216010122, 'mcc': 0.4867818307820978, 'train_loss': 1.035352780197381}\n",
      "Epoch 4/20\n"
     ]
    },
    {
     "name": "stderr",
     "output_type": "stream",
     "text": [
      "100%|██████████| 771/771 [01:12<00:00, 10.59it/s]\n"
     ]
    },
    {
     "name": "stdout",
     "output_type": "stream",
     "text": [
      "{'val_loss': 1.4508107894996427, 'val_accuracy': 0.6059171597633136, 'precision': 0.6220236747954265, 'recall': 0.6059171597633136, 'f1-score': 0.6000471273580622, 'macro_f1-score': 0.35016018592109477, 'balanced_accuracy': 0.4192777120035126, 'mcc': 0.4977647763650805, 'train_loss': 0.8244939267770635}\n",
      "Epoch 5/20\n"
     ]
    },
    {
     "name": "stderr",
     "output_type": "stream",
     "text": [
      "100%|██████████| 771/771 [01:12<00:00, 10.60it/s]\n"
     ]
    },
    {
     "name": "stdout",
     "output_type": "stream",
     "text": [
      "{'val_loss': 1.4210422218970533, 'val_accuracy': 0.621301775147929, 'precision': 0.6394244642176741, 'recall': 0.621301775147929, 'f1-score': 0.6199212796786613, 'macro_f1-score': 0.36276248013538437, 'balanced_accuracy': 0.40370684215924924, 'mcc': 0.5175344421984963, 'train_loss': 0.6570650507465257}\n",
      "Epoch 6/20\n"
     ]
    },
    {
     "name": "stderr",
     "output_type": "stream",
     "text": [
      "100%|██████████| 771/771 [01:12<00:00, 10.59it/s]\n"
     ]
    },
    {
     "name": "stdout",
     "output_type": "stream",
     "text": [
      "{'val_loss': 1.3859265935870837, 'val_accuracy': 0.6378698224852071, 'precision': 0.6380533686425415, 'recall': 0.6378698224852071, 'f1-score': 0.6265514442003635, 'macro_f1-score': 0.3636133818006253, 'balanced_accuracy': 0.37061117697301055, 'mcc': 0.5165854538892654, 'train_loss': 0.5750590898241514}\n",
      "Epoch 7/20\n"
     ]
    },
    {
     "name": "stderr",
     "output_type": "stream",
     "text": [
      "100%|██████████| 771/771 [01:12<00:00, 10.59it/s]\n"
     ]
    },
    {
     "name": "stdout",
     "output_type": "stream",
     "text": [
      "{'val_loss': 1.508223538128835, 'val_accuracy': 0.6331360946745562, 'precision': 0.6636821428337062, 'recall': 0.6331360946745562, 'f1-score': 0.6340305480738767, 'macro_f1-score': 0.37393591816222904, 'balanced_accuracy': 0.39407060445186637, 'mcc': 0.5306477459182847, 'train_loss': 0.48707016016297455}\n",
      "Epoch 8/20\n"
     ]
    },
    {
     "name": "stderr",
     "output_type": "stream",
     "text": [
      "100%|██████████| 771/771 [01:12<00:00, 10.58it/s]\n"
     ]
    },
    {
     "name": "stdout",
     "output_type": "stream",
     "text": [
      "{'val_loss': 1.465679112470375, 'val_accuracy': 0.6532544378698225, 'precision': 0.6548644532596788, 'recall': 0.6532544378698225, 'f1-score': 0.6420607900188678, 'macro_f1-score': 0.3777582075231953, 'balanced_accuracy': 0.39769297035455203, 'mcc': 0.5441735610584707, 'train_loss': 0.45998701884202303}\n",
      "Epoch 9/20\n"
     ]
    },
    {
     "name": "stderr",
     "output_type": "stream",
     "text": [
      "100%|██████████| 771/771 [01:12<00:00, 10.59it/s]\n"
     ]
    },
    {
     "name": "stdout",
     "output_type": "stream",
     "text": [
      "{'val_loss': 1.5387721567783716, 'val_accuracy': 0.6331360946745562, 'precision': 0.665891950907348, 'recall': 0.6331360946745562, 'f1-score': 0.6331035996850589, 'macro_f1-score': 0.39731089263474273, 'balanced_accuracy': 0.431354496197577, 'mcc': 0.5353129484014436, 'train_loss': 0.42317027447868416}\n",
      "Epoch 10/20\n"
     ]
    },
    {
     "name": "stderr",
     "output_type": "stream",
     "text": [
      "100%|██████████| 771/771 [01:12<00:00, 10.60it/s]\n"
     ]
    },
    {
     "name": "stdout",
     "output_type": "stream",
     "text": [
      "{'val_loss': 1.5151926824506723, 'val_accuracy': 0.6662721893491125, 'precision': 0.6886213743737719, 'recall': 0.6662721893491125, 'f1-score': 0.6608724127085508, 'macro_f1-score': 0.40020937327776684, 'balanced_accuracy': 0.42029789743065765, 'mcc': 0.5615340426067739, 'train_loss': 0.3827303886394247}\n",
      "Epoch 11/20\n"
     ]
    },
    {
     "name": "stderr",
     "output_type": "stream",
     "text": [
      "100%|██████████| 771/771 [01:12<00:00, 10.57it/s]\n"
     ]
    },
    {
     "name": "stdout",
     "output_type": "stream",
     "text": [
      "{'val_loss': 1.521273375682111, 'val_accuracy': 0.6544378698224852, 'precision': 0.6624657019653127, 'recall': 0.6544378698224852, 'f1-score': 0.6467283756017679, 'macro_f1-score': 0.39204232233464686, 'balanced_accuracy': 0.4032222110055008, 'mcc': 0.5508686742827293, 'train_loss': 0.3640935265503814}\n",
      "Epoch 12/20\n"
     ]
    },
    {
     "name": "stderr",
     "output_type": "stream",
     "text": [
      "100%|██████████| 771/771 [01:12<00:00, 10.59it/s]\n"
     ]
    },
    {
     "name": "stdout",
     "output_type": "stream",
     "text": [
      "{'val_loss': 1.6438108356493824, 'val_accuracy': 0.6366863905325444, 'precision': 0.6446003749519343, 'recall': 0.6366863905325444, 'f1-score': 0.6275442658399977, 'macro_f1-score': 0.35534845312391505, 'balanced_accuracy': 0.3809773162136025, 'mcc': 0.5283687970002211, 'train_loss': 0.3413823998585131}\n",
      "Epoch 13/20\n"
     ]
    },
    {
     "name": "stderr",
     "output_type": "stream",
     "text": [
      "100%|██████████| 771/771 [01:12<00:00, 10.58it/s]\n"
     ]
    },
    {
     "name": "stdout",
     "output_type": "stream",
     "text": [
      "{'val_loss': 1.5814419771140475, 'val_accuracy': 0.6485207100591716, 'precision': 0.6606389078213998, 'recall': 0.6485207100591716, 'f1-score': 0.6457707774307933, 'macro_f1-score': 0.35328818196294526, 'balanced_accuracy': 0.388424446920915, 'mcc': 0.5458006440710306, 'train_loss': 0.34470593986667974}\n",
      "Early stopping.\n",
      "\n",
      "[Fold 9]\n",
      "Label distribution after resampling:\n",
      "  label 0: 2000\n",
      "  label 1: 200\n",
      "  label 2: 200\n",
      "  label 3: 200\n",
      "  label 4: 232\n",
      "  label 5: 200\n",
      "  label 6: 200\n",
      "  label 7: 200\n",
      "  label 8: 200\n",
      "  label 9: 200\n",
      "  label 10: 200\n",
      "  label 11: 200\n",
      "  label 12: 217\n",
      "  label 13: 200\n",
      "  label 14: 200\n",
      "  label 15: 200\n",
      "  label 16: 200\n",
      "  label 17: 261\n",
      "  label 18: 200\n",
      "  label 19: 200\n",
      "  label 20: 200\n",
      "  label 21: 200\n",
      "  label 22: 200\n",
      "  label 23: 200\n",
      "  label 24: 200\n",
      "  label 25: 200\n",
      "  label 26: 200\n",
      "  label 27: 200\n",
      "  label 28: 200\n",
      "  label 29: 200\n",
      "  label 30: 200\n",
      "  label 31: 200\n",
      "  label 32: 200\n",
      "  label 33: 200\n",
      "  label 34: 200\n",
      "  label 35: 200\n",
      "  label 36: 200\n",
      "  label 37: 200\n",
      "  label 38: 200\n",
      "  label 39: 200\n",
      "  label 40: 200\n",
      "  label 41: 200\n",
      "  label 42: 200\n",
      "  label 43: 200\n",
      "  label 44: 200\n",
      "  label 45: 200\n",
      "  label 46: 200\n",
      "  label 47: 595\n",
      "  label 48: 226\n",
      "  label 49: 200\n",
      "model is roberta-base bilstm\n"
     ]
    },
    {
     "name": "stderr",
     "output_type": "stream",
     "text": [
      "Some weights of RobertaModel were not initialized from the model checkpoint at roberta-base and are newly initialized: ['pooler.dense.bias', 'pooler.dense.weight']\n",
      "You should probably TRAIN this model on a down-stream task to be able to use it for predictions and inference.\n"
     ]
    },
    {
     "name": "stdout",
     "output_type": "stream",
     "text": [
      "Epoch 1/20\n"
     ]
    },
    {
     "name": "stderr",
     "output_type": "stream",
     "text": [
      "100%|██████████| 771/771 [01:12<00:00, 10.57it/s]\n",
      "c:\\Users\\user\\AppData\\Local\\Programs\\Python\\Python310\\lib\\site-packages\\sklearn\\metrics\\_classification.py:2524: UserWarning: y_pred contains classes not in y_true\n",
      "  warnings.warn(\"y_pred contains classes not in y_true\")\n"
     ]
    },
    {
     "name": "stdout",
     "output_type": "stream",
     "text": [
      "{'val_loss': 1.623733620598631, 'val_accuracy': 0.5881656804733728, 'precision': 0.6080704027171232, 'recall': 0.5881656804733728, 'f1-score': 0.5811341878652277, 'macro_f1-score': 0.2695690503513276, 'balanced_accuracy': 0.3538202033405858, 'mcc': 0.47623397689065305, 'train_loss': 2.504901190985347}\n",
      "Epoch 2/20\n"
     ]
    },
    {
     "name": "stderr",
     "output_type": "stream",
     "text": [
      "100%|██████████| 771/771 [01:12<00:00, 10.59it/s]\n",
      "c:\\Users\\user\\AppData\\Local\\Programs\\Python\\Python310\\lib\\site-packages\\sklearn\\metrics\\_classification.py:2524: UserWarning: y_pred contains classes not in y_true\n",
      "  warnings.warn(\"y_pred contains classes not in y_true\")\n"
     ]
    },
    {
     "name": "stdout",
     "output_type": "stream",
     "text": [
      "{'val_loss': 1.5551827043857214, 'val_accuracy': 0.5715976331360947, 'precision': 0.6393733966211456, 'recall': 0.5715976331360947, 'f1-score': 0.5878168233977129, 'macro_f1-score': 0.3043353660299185, 'balanced_accuracy': 0.3601933922300961, 'mcc': 0.46365976291447447, 'train_loss': 1.349337926016089}\n",
      "Epoch 3/20\n"
     ]
    },
    {
     "name": "stderr",
     "output_type": "stream",
     "text": [
      "100%|██████████| 771/771 [01:12<00:00, 10.58it/s]\n"
     ]
    },
    {
     "name": "stdout",
     "output_type": "stream",
     "text": [
      "{'val_loss': 1.382098249669345, 'val_accuracy': 0.6272189349112426, 'precision': 0.6808839520170158, 'recall': 0.6272189349112426, 'f1-score': 0.6343459093324406, 'macro_f1-score': 0.3832847626690676, 'balanced_accuracy': 0.42091553086129757, 'mcc': 0.5200744077700856, 'train_loss': 0.9180100452536584}\n",
      "Epoch 4/20\n"
     ]
    },
    {
     "name": "stderr",
     "output_type": "stream",
     "text": [
      "100%|██████████| 771/771 [01:12<00:00, 10.57it/s]\n"
     ]
    },
    {
     "name": "stdout",
     "output_type": "stream",
     "text": [
      "{'val_loss': 1.3574348958033435, 'val_accuracy': 0.650887573964497, 'precision': 0.6369730205659626, 'recall': 0.650887573964497, 'f1-score': 0.6311054935262159, 'macro_f1-score': 0.3557502554541782, 'balanced_accuracy': 0.38377548809307405, 'mcc': 0.5344401319308055, 'train_loss': 0.6902957360529559}\n",
      "Epoch 5/20\n"
     ]
    },
    {
     "name": "stderr",
     "output_type": "stream",
     "text": [
      "100%|██████████| 771/771 [01:12<00:00, 10.58it/s]\n",
      "c:\\Users\\user\\AppData\\Local\\Programs\\Python\\Python310\\lib\\site-packages\\sklearn\\metrics\\_classification.py:2524: UserWarning: y_pred contains classes not in y_true\n",
      "  warnings.warn(\"y_pred contains classes not in y_true\")\n"
     ]
    },
    {
     "name": "stdout",
     "output_type": "stream",
     "text": [
      "{'val_loss': 1.372033435781047, 'val_accuracy': 0.6307692307692307, 'precision': 0.6579457322173958, 'recall': 0.6307692307692307, 'f1-score': 0.6263549523113683, 'macro_f1-score': 0.37077310838978783, 'balanced_accuracy': 0.4023418474235829, 'mcc': 0.5227191887258485, 'train_loss': 0.6090253880090442}\n",
      "Epoch 6/20\n"
     ]
    },
    {
     "name": "stderr",
     "output_type": "stream",
     "text": [
      "100%|██████████| 771/771 [01:12<00:00, 10.58it/s]\n",
      "c:\\Users\\user\\AppData\\Local\\Programs\\Python\\Python310\\lib\\site-packages\\sklearn\\metrics\\_classification.py:2524: UserWarning: y_pred contains classes not in y_true\n",
      "  warnings.warn(\"y_pred contains classes not in y_true\")\n"
     ]
    },
    {
     "name": "stdout",
     "output_type": "stream",
     "text": [
      "{'val_loss': 1.4531061525614757, 'val_accuracy': 0.6272189349112426, 'precision': 0.6575431587673245, 'recall': 0.6272189349112426, 'f1-score': 0.628249066399788, 'macro_f1-score': 0.3510852787737171, 'balanced_accuracy': 0.36850481666474055, 'mcc': 0.5193983404597514, 'train_loss': 0.4827999173676844}\n",
      "Early stopping.\n",
      "\n",
      "[Fold 10]\n",
      "Label distribution after resampling:\n",
      "  label 0: 2000\n",
      "  label 1: 200\n",
      "  label 2: 200\n",
      "  label 3: 200\n",
      "  label 4: 231\n",
      "  label 5: 200\n",
      "  label 6: 200\n",
      "  label 7: 200\n",
      "  label 8: 200\n",
      "  label 9: 200\n",
      "  label 10: 200\n",
      "  label 11: 200\n",
      "  label 12: 217\n",
      "  label 13: 200\n",
      "  label 14: 200\n",
      "  label 15: 200\n",
      "  label 16: 200\n",
      "  label 17: 260\n",
      "  label 18: 200\n",
      "  label 19: 200\n",
      "  label 20: 200\n",
      "  label 21: 200\n",
      "  label 22: 200\n",
      "  label 23: 200\n",
      "  label 24: 200\n",
      "  label 25: 200\n",
      "  label 26: 200\n",
      "  label 27: 200\n",
      "  label 28: 200\n",
      "  label 29: 200\n",
      "  label 30: 200\n",
      "  label 31: 200\n",
      "  label 32: 200\n",
      "  label 33: 200\n",
      "  label 34: 200\n",
      "  label 35: 200\n",
      "  label 36: 200\n",
      "  label 37: 200\n",
      "  label 38: 200\n",
      "  label 39: 200\n",
      "  label 40: 200\n",
      "  label 41: 200\n",
      "  label 42: 200\n",
      "  label 43: 200\n",
      "  label 44: 200\n",
      "  label 45: 200\n",
      "  label 46: 200\n",
      "  label 47: 595\n",
      "  label 48: 227\n",
      "  label 49: 200\n",
      "model is roberta-base bilstm\n"
     ]
    },
    {
     "name": "stderr",
     "output_type": "stream",
     "text": [
      "Some weights of RobertaModel were not initialized from the model checkpoint at roberta-base and are newly initialized: ['pooler.dense.bias', 'pooler.dense.weight']\n",
      "You should probably TRAIN this model on a down-stream task to be able to use it for predictions and inference.\n"
     ]
    },
    {
     "name": "stdout",
     "output_type": "stream",
     "text": [
      "Epoch 1/20\n"
     ]
    },
    {
     "name": "stderr",
     "output_type": "stream",
     "text": [
      "100%|██████████| 771/771 [01:12<00:00, 10.59it/s]\n",
      "c:\\Users\\user\\AppData\\Local\\Programs\\Python\\Python310\\lib\\site-packages\\sklearn\\metrics\\_classification.py:2524: UserWarning: y_pred contains classes not in y_true\n",
      "  warnings.warn(\"y_pred contains classes not in y_true\")\n"
     ]
    },
    {
     "name": "stdout",
     "output_type": "stream",
     "text": [
      "{'val_loss': 1.824958765281821, 'val_accuracy': 0.5313609467455621, 'precision': 0.5538949086363155, 'recall': 0.5313609467455621, 'f1-score': 0.5211333824683136, 'macro_f1-score': 0.2072744042855377, 'balanced_accuracy': 0.32039796390760783, 'mcc': 0.4094894023234376, 'train_loss': 2.6707769972495687}\n",
      "Epoch 2/20\n"
     ]
    },
    {
     "name": "stderr",
     "output_type": "stream",
     "text": [
      "100%|██████████| 771/771 [01:12<00:00, 10.59it/s]\n",
      "c:\\Users\\user\\AppData\\Local\\Programs\\Python\\Python310\\lib\\site-packages\\sklearn\\metrics\\_classification.py:2524: UserWarning: y_pred contains classes not in y_true\n",
      "  warnings.warn(\"y_pred contains classes not in y_true\")\n"
     ]
    },
    {
     "name": "stdout",
     "output_type": "stream",
     "text": [
      "{'val_loss': 1.4214809773103245, 'val_accuracy': 0.6071005917159763, 'precision': 0.6268094262627003, 'recall': 0.6071005917159763, 'f1-score': 0.5941349233656054, 'macro_f1-score': 0.3241265676108139, 'balanced_accuracy': 0.39599152480643146, 'mcc': 0.49175903408589283, 'train_loss': 1.4630394039334953}\n",
      "Epoch 3/20\n"
     ]
    },
    {
     "name": "stderr",
     "output_type": "stream",
     "text": [
      "100%|██████████| 771/771 [01:12<00:00, 10.58it/s]\n",
      "c:\\Users\\user\\AppData\\Local\\Programs\\Python\\Python310\\lib\\site-packages\\sklearn\\metrics\\_classification.py:2524: UserWarning: y_pred contains classes not in y_true\n",
      "  warnings.warn(\"y_pred contains classes not in y_true\")\n"
     ]
    },
    {
     "name": "stdout",
     "output_type": "stream",
     "text": [
      "{'val_loss': 1.4351303813592442, 'val_accuracy': 0.6295857988165681, 'precision': 0.6593959322029106, 'recall': 0.6295857988165681, 'f1-score': 0.6252279338443929, 'macro_f1-score': 0.3797150995620205, 'balanced_accuracy': 0.4183653295245426, 'mcc': 0.5178129814624055, 'train_loss': 0.9602005759836325}\n",
      "Epoch 4/20\n"
     ]
    },
    {
     "name": "stderr",
     "output_type": "stream",
     "text": [
      "100%|██████████| 771/771 [01:12<00:00, 10.59it/s]\n",
      "c:\\Users\\user\\AppData\\Local\\Programs\\Python\\Python310\\lib\\site-packages\\sklearn\\metrics\\_classification.py:2524: UserWarning: y_pred contains classes not in y_true\n",
      "  warnings.warn(\"y_pred contains classes not in y_true\")\n"
     ]
    },
    {
     "name": "stdout",
     "output_type": "stream",
     "text": [
      "{'val_loss': 1.4135264878003102, 'val_accuracy': 0.6177514792899408, 'precision': 0.6525008924448232, 'recall': 0.6177514792899408, 'f1-score': 0.6202741592971177, 'macro_f1-score': 0.37307999049916496, 'balanced_accuracy': 0.44157252272856284, 'mcc': 0.5201057292829278, 'train_loss': 0.7105358248013621}\n",
      "Epoch 5/20\n"
     ]
    },
    {
     "name": "stderr",
     "output_type": "stream",
     "text": [
      "100%|██████████| 771/771 [01:12<00:00, 10.59it/s]\n"
     ]
    },
    {
     "name": "stdout",
     "output_type": "stream",
     "text": [
      "{'val_loss': 1.4288910908519097, 'val_accuracy': 0.6236686390532544, 'precision': 0.6589097849195781, 'recall': 0.6236686390532544, 'f1-score': 0.627885999222167, 'macro_f1-score': 0.3709322209105299, 'balanced_accuracy': 0.4253093676562266, 'mcc': 0.5230584816788852, 'train_loss': 0.5972391950152572}\n",
      "Epoch 6/20\n"
     ]
    },
    {
     "name": "stderr",
     "output_type": "stream",
     "text": [
      "100%|██████████| 771/771 [01:12<00:00, 10.58it/s]\n"
     ]
    },
    {
     "name": "stdout",
     "output_type": "stream",
     "text": [
      "{'val_loss': 1.4743275766102772, 'val_accuracy': 0.6402366863905326, 'precision': 0.6790845356801212, 'recall': 0.6402366863905326, 'f1-score': 0.6428975431706871, 'macro_f1-score': 0.4144273084753644, 'balanced_accuracy': 0.43940208574827466, 'mcc': 0.5413367357324004, 'train_loss': 0.5059256297324805}\n",
      "Epoch 7/20\n"
     ]
    },
    {
     "name": "stderr",
     "output_type": "stream",
     "text": [
      "100%|██████████| 771/771 [01:12<00:00, 10.58it/s]\n"
     ]
    },
    {
     "name": "stdout",
     "output_type": "stream",
     "text": [
      "{'val_loss': 1.443142516433068, 'val_accuracy': 0.6378698224852071, 'precision': 0.6718812268735591, 'recall': 0.6378698224852071, 'f1-score': 0.641322183519156, 'macro_f1-score': 0.4013444299559306, 'balanced_accuracy': 0.4200455804721435, 'mcc': 0.5356323231748387, 'train_loss': 0.4334441906012759}\n",
      "Epoch 8/20\n"
     ]
    },
    {
     "name": "stderr",
     "output_type": "stream",
     "text": [
      "100%|██████████| 771/771 [01:13<00:00, 10.56it/s]\n"
     ]
    },
    {
     "name": "stdout",
     "output_type": "stream",
     "text": [
      "{'val_loss': 1.5038383434403617, 'val_accuracy': 0.6662721893491125, 'precision': 0.6751328833613709, 'recall': 0.6662721893491125, 'f1-score': 0.6622106772339719, 'macro_f1-score': 0.37373982104204795, 'balanced_accuracy': 0.3957277921585705, 'mcc': 0.5645780835857712, 'train_loss': 0.3736908747180427}\n",
      "Epoch 9/20\n"
     ]
    },
    {
     "name": "stderr",
     "output_type": "stream",
     "text": [
      "100%|██████████| 771/771 [01:12<00:00, 10.60it/s]\n"
     ]
    },
    {
     "name": "stdout",
     "output_type": "stream",
     "text": [
      "{'val_loss': 1.5388998479213354, 'val_accuracy': 0.6556213017751479, 'precision': 0.6763668893335429, 'recall': 0.6556213017751479, 'f1-score': 0.6575291004097634, 'macro_f1-score': 0.42254152005980117, 'balanced_accuracy': 0.4517530074172077, 'mcc': 0.5566546749526303, 'train_loss': 0.3564865115145765}\n",
      "Epoch 10/20\n"
     ]
    },
    {
     "name": "stderr",
     "output_type": "stream",
     "text": [
      "100%|██████████| 771/771 [01:12<00:00, 10.60it/s]\n"
     ]
    },
    {
     "name": "stdout",
     "output_type": "stream",
     "text": [
      "{'val_loss': 1.748570922410713, 'val_accuracy': 0.6284023668639053, 'precision': 0.6830466687633062, 'recall': 0.6284023668639053, 'f1-score': 0.6425448375759828, 'macro_f1-score': 0.4185021538746206, 'balanced_accuracy': 0.46154407450455226, 'mcc': 0.53533568742555, 'train_loss': 0.30241720576018055}\n",
      "Epoch 11/20\n"
     ]
    },
    {
     "name": "stderr",
     "output_type": "stream",
     "text": [
      "100%|██████████| 771/771 [01:12<00:00, 10.58it/s]\n"
     ]
    },
    {
     "name": "stdout",
     "output_type": "stream",
     "text": [
      "{'val_loss': 1.6690150802990176, 'val_accuracy': 0.6568047337278107, 'precision': 0.6676805893323327, 'recall': 0.6568047337278107, 'f1-score': 0.6513625782070265, 'macro_f1-score': 0.38076221112762165, 'balanced_accuracy': 0.4174303337407069, 'mcc': 0.5612123266123838, 'train_loss': 0.31303110783835136}\n",
      "Epoch 12/20\n"
     ]
    },
    {
     "name": "stderr",
     "output_type": "stream",
     "text": [
      "100%|██████████| 771/771 [01:12<00:00, 10.61it/s]\n"
     ]
    },
    {
     "name": "stdout",
     "output_type": "stream",
     "text": [
      "{'val_loss': 1.571757196817758, 'val_accuracy': 0.6579881656804734, 'precision': 0.6770571063872826, 'recall': 0.6579881656804734, 'f1-score': 0.6577985922441987, 'macro_f1-score': 0.401482098277045, 'balanced_accuracy': 0.44335845944904556, 'mcc': 0.5574979901472292, 'train_loss': 0.30969598250470853}\n",
      "Early stopping.\n",
      "\n",
      " === roberta-base + bilstm + ros Final 10-fold Cross-Validation Results ===\n",
      "Total time: 7941 seconds\n",
      "Total time: 2 hrs 12 mins 21 secs\n",
      "val_loss: 1.5307\n",
      "val_accuracy: 0.6405\n",
      "precision: 0.6714\n",
      "recall: 0.6405\n",
      "f1-score: 0.6425\n",
      "macro_f1-score: 0.3973\n",
      "balanced_accuracy: 0.4261\n",
      "mcc: 0.5395\n",
      "train_loss: 0.4921\n",
      "▶ Running: microsoft/deberta-base + cnn + ros\n",
      "tokenizer is microsoft/deberta-base\n",
      "Using device: cuda\n",
      "CUDA Available: True\n",
      "CUDA Device: NVIDIA GeForce RTX 5070 Ti\n",
      "Current GPU Memory Allocated: 0.02 GB\n",
      "Current GPU Memory Cached: 3.94 GB\n",
      "\n",
      "[Fold 1]\n",
      "Label distribution after resampling:\n",
      "  label 0: 2000\n",
      "  label 1: 200\n",
      "  label 2: 200\n",
      "  label 3: 200\n",
      "  label 4: 231\n",
      "  label 5: 200\n",
      "  label 6: 200\n",
      "  label 7: 200\n",
      "  label 8: 200\n",
      "  label 9: 200\n",
      "  label 10: 200\n",
      "  label 11: 200\n",
      "  label 12: 217\n",
      "  label 13: 200\n",
      "  label 14: 200\n",
      "  label 15: 200\n",
      "  label 16: 200\n",
      "  label 17: 260\n",
      "  label 18: 200\n",
      "  label 19: 200\n",
      "  label 20: 200\n",
      "  label 21: 200\n",
      "  label 22: 200\n",
      "  label 23: 200\n",
      "  label 24: 200\n",
      "  label 25: 200\n",
      "  label 26: 200\n",
      "  label 27: 200\n",
      "  label 28: 200\n",
      "  label 29: 200\n",
      "  label 30: 200\n",
      "  label 31: 200\n",
      "  label 32: 200\n",
      "  label 33: 200\n",
      "  label 34: 200\n",
      "  label 35: 200\n",
      "  label 36: 200\n",
      "  label 37: 200\n",
      "  label 38: 200\n",
      "  label 39: 200\n",
      "  label 40: 200\n",
      "  label 41: 200\n",
      "  label 42: 200\n",
      "  label 43: 200\n",
      "  label 44: 200\n",
      "  label 45: 200\n",
      "  label 46: 200\n",
      "  label 47: 595\n",
      "  label 48: 227\n",
      "  label 49: 200\n",
      "model is microsoft/deberta-base cnn\n"
     ]
    },
    {
     "name": "stderr",
     "output_type": "stream",
     "text": [
      "c:\\Users\\user\\AppData\\Local\\Programs\\Python\\Python310\\lib\\site-packages\\sklearn\\model_selection\\_split.py:805: UserWarning: The least populated class in y has only 7 members, which is less than n_splits=10.\n",
      "  warnings.warn(\n"
     ]
    },
    {
     "name": "stdout",
     "output_type": "stream",
     "text": [
      "Epoch 1/20\n"
     ]
    },
    {
     "name": "stderr",
     "output_type": "stream",
     "text": [
      "100%|██████████| 771/771 [01:21<00:00,  9.46it/s]\n",
      "c:\\Users\\user\\AppData\\Local\\Programs\\Python\\Python310\\lib\\site-packages\\sklearn\\metrics\\_classification.py:2524: UserWarning: y_pred contains classes not in y_true\n",
      "  warnings.warn(\"y_pred contains classes not in y_true\")\n"
     ]
    },
    {
     "name": "stdout",
     "output_type": "stream",
     "text": [
      "{'val_loss': 1.5642582954100843, 'val_accuracy': 0.574468085106383, 'precision': 0.6301699896920481, 'recall': 0.574468085106383, 'f1-score': 0.5833601949619958, 'macro_f1-score': 0.34291720133738735, 'balanced_accuracy': 0.42422129088960786, 'mcc': 0.4706870409574736, 'train_loss': 2.2091598455080264}\n",
      "Epoch 2/20\n"
     ]
    },
    {
     "name": "stderr",
     "output_type": "stream",
     "text": [
      "100%|██████████| 771/771 [01:21<00:00,  9.49it/s]\n"
     ]
    },
    {
     "name": "stdout",
     "output_type": "stream",
     "text": [
      "{'val_loss': 1.3282614215364996, 'val_accuracy': 0.640661938534279, 'precision': 0.6643536771231411, 'recall': 0.640661938534279, 'f1-score': 0.641040807503986, 'macro_f1-score': 0.4015236087511488, 'balanced_accuracy': 0.4430412720079739, 'mcc': 0.5350175293148222, 'train_loss': 0.9447172335922795}\n",
      "Epoch 3/20\n"
     ]
    },
    {
     "name": "stderr",
     "output_type": "stream",
     "text": [
      "100%|██████████| 771/771 [01:21<00:00,  9.50it/s]\n"
     ]
    },
    {
     "name": "stdout",
     "output_type": "stream",
     "text": [
      "{'val_loss': 1.4530635273681496, 'val_accuracy': 0.6430260047281324, 'precision': 0.6639471679282912, 'recall': 0.6430260047281324, 'f1-score': 0.6398124650068409, 'macro_f1-score': 0.3806433485692068, 'balanced_accuracy': 0.41690728263246024, 'mcc': 0.536087781331201, 'train_loss': 0.5708431363511642}\n",
      "Epoch 4/20\n"
     ]
    },
    {
     "name": "stderr",
     "output_type": "stream",
     "text": [
      "100%|██████████| 771/771 [01:21<00:00,  9.50it/s]\n"
     ]
    },
    {
     "name": "stdout",
     "output_type": "stream",
     "text": [
      "{'val_loss': 1.5469165478112563, 'val_accuracy': 0.6536643026004728, 'precision': 0.6916557942589386, 'recall': 0.6536643026004728, 'f1-score': 0.6563955815007043, 'macro_f1-score': 0.41892399349443893, 'balanced_accuracy': 0.46384656553680775, 'mcc': 0.5644653862363997, 'train_loss': 0.4487308162094206}\n",
      "Epoch 5/20\n"
     ]
    },
    {
     "name": "stderr",
     "output_type": "stream",
     "text": [
      "100%|██████████| 771/771 [01:21<00:00,  9.50it/s]\n"
     ]
    },
    {
     "name": "stdout",
     "output_type": "stream",
     "text": [
      "{'val_loss': 1.6887199113953788, 'val_accuracy': 0.6312056737588653, 'precision': 0.6742568759631904, 'recall': 0.6312056737588653, 'f1-score': 0.6405801295325175, 'macro_f1-score': 0.42233526587487796, 'balanced_accuracy': 0.4864440761867904, 'mcc': 0.5376532424169037, 'train_loss': 0.36927850284866126}\n",
      "Epoch 6/20\n"
     ]
    },
    {
     "name": "stderr",
     "output_type": "stream",
     "text": [
      "100%|██████████| 771/771 [01:21<00:00,  9.50it/s]\n",
      "c:\\Users\\user\\AppData\\Local\\Programs\\Python\\Python310\\lib\\site-packages\\sklearn\\metrics\\_classification.py:2524: UserWarning: y_pred contains classes not in y_true\n",
      "  warnings.warn(\"y_pred contains classes not in y_true\")\n"
     ]
    },
    {
     "name": "stdout",
     "output_type": "stream",
     "text": [
      "{'val_loss': 1.6635452958772767, 'val_accuracy': 0.6323877068557919, 'precision': 0.6288673031705511, 'recall': 0.6323877068557919, 'f1-score': 0.6152567229306843, 'macro_f1-score': 0.3582558325704698, 'balanced_accuracy': 0.380317241380174, 'mcc': 0.5146669858302919, 'train_loss': 0.31573112195553366}\n",
      "Epoch 7/20\n"
     ]
    },
    {
     "name": "stderr",
     "output_type": "stream",
     "text": [
      "100%|██████████| 771/771 [01:21<00:00,  9.50it/s]\n"
     ]
    },
    {
     "name": "stdout",
     "output_type": "stream",
     "text": [
      "{'val_loss': 1.777151440112096, 'val_accuracy': 0.6442080378250591, 'precision': 0.6783007206308925, 'recall': 0.6442080378250591, 'f1-score': 0.6463804565850007, 'macro_f1-score': 0.40867137109256274, 'balanced_accuracy': 0.44477225423602273, 'mcc': 0.5457264594295136, 'train_loss': 0.4777402130961805}\n",
      "Epoch 8/20\n"
     ]
    },
    {
     "name": "stderr",
     "output_type": "stream",
     "text": [
      "100%|██████████| 771/771 [01:21<00:00,  9.50it/s]\n",
      "c:\\Users\\user\\AppData\\Local\\Programs\\Python\\Python310\\lib\\site-packages\\sklearn\\metrics\\_classification.py:2524: UserWarning: y_pred contains classes not in y_true\n",
      "  warnings.warn(\"y_pred contains classes not in y_true\")\n"
     ]
    },
    {
     "name": "stdout",
     "output_type": "stream",
     "text": [
      "{'val_loss': 1.8393784289090138, 'val_accuracy': 0.648936170212766, 'precision': 0.675946553815573, 'recall': 0.648936170212766, 'f1-score': 0.649458988287519, 'macro_f1-score': 0.40589354209005984, 'balanced_accuracy': 0.45433250241696066, 'mcc': 0.5493569955214492, 'train_loss': 0.25994934046087753}\n",
      "Early stopping.\n",
      "\n",
      "[Fold 2]\n",
      "Label distribution after resampling:\n",
      "  label 0: 2000\n",
      "  label 1: 200\n",
      "  label 2: 200\n",
      "  label 3: 200\n",
      "  label 4: 231\n",
      "  label 5: 200\n",
      "  label 6: 200\n",
      "  label 7: 200\n",
      "  label 8: 200\n",
      "  label 9: 200\n",
      "  label 10: 200\n",
      "  label 11: 200\n",
      "  label 12: 217\n",
      "  label 13: 200\n",
      "  label 14: 200\n",
      "  label 15: 200\n",
      "  label 16: 200\n",
      "  label 17: 260\n",
      "  label 18: 200\n",
      "  label 19: 200\n",
      "  label 20: 200\n",
      "  label 21: 200\n",
      "  label 22: 200\n",
      "  label 23: 200\n",
      "  label 24: 200\n",
      "  label 25: 200\n",
      "  label 26: 200\n",
      "  label 27: 200\n",
      "  label 28: 200\n",
      "  label 29: 200\n",
      "  label 30: 200\n",
      "  label 31: 200\n",
      "  label 32: 200\n",
      "  label 33: 200\n",
      "  label 34: 200\n",
      "  label 35: 200\n",
      "  label 36: 200\n",
      "  label 37: 200\n",
      "  label 38: 200\n",
      "  label 39: 200\n",
      "  label 40: 200\n",
      "  label 41: 200\n",
      "  label 42: 200\n",
      "  label 43: 200\n",
      "  label 44: 200\n",
      "  label 45: 200\n",
      "  label 46: 200\n",
      "  label 47: 595\n",
      "  label 48: 227\n",
      "  label 49: 200\n",
      "model is microsoft/deberta-base cnn\n",
      "Epoch 1/20\n"
     ]
    },
    {
     "name": "stderr",
     "output_type": "stream",
     "text": [
      "100%|██████████| 771/771 [01:21<00:00,  9.50it/s]\n"
     ]
    },
    {
     "name": "stdout",
     "output_type": "stream",
     "text": [
      "{'val_loss': 3.471484755570034, 'val_accuracy': 0.47044917257683216, 'precision': 0.221322423978226, 'recall': 0.47044917257683216, 'f1-score': 0.3010269625170084, 'macro_f1-score': 0.01279742765273312, 'balanced_accuracy': 0.02, 'mcc': 0.0, 'train_loss': 2.4956451666803523}\n",
      "Epoch 2/20\n"
     ]
    },
    {
     "name": "stderr",
     "output_type": "stream",
     "text": [
      "100%|██████████| 771/771 [01:21<00:00,  9.49it/s]\n"
     ]
    },
    {
     "name": "stdout",
     "output_type": "stream",
     "text": [
      "{'val_loss': 3.3550033794259124, 'val_accuracy': 0.47044917257683216, 'precision': 0.221322423978226, 'recall': 0.47044917257683216, 'f1-score': 0.3010269625170084, 'macro_f1-score': 0.01279742765273312, 'balanced_accuracy': 0.02, 'mcc': 0.0, 'train_loss': 3.7075209531029527}\n",
      "Epoch 3/20\n"
     ]
    },
    {
     "name": "stderr",
     "output_type": "stream",
     "text": [
      "100%|██████████| 771/771 [01:21<00:00,  9.50it/s]\n"
     ]
    },
    {
     "name": "stdout",
     "output_type": "stream",
     "text": [
      "{'val_loss': 3.3302435335123315, 'val_accuracy': 0.47044917257683216, 'precision': 0.221322423978226, 'recall': 0.47044917257683216, 'f1-score': 0.3010269625170084, 'macro_f1-score': 0.01279742765273312, 'balanced_accuracy': 0.02, 'mcc': 0.0, 'train_loss': 3.701500019983868}\n",
      "Epoch 4/20\n"
     ]
    },
    {
     "name": "stderr",
     "output_type": "stream",
     "text": [
      "100%|██████████| 771/771 [01:21<00:00,  9.49it/s]\n"
     ]
    },
    {
     "name": "stdout",
     "output_type": "stream",
     "text": [
      "{'val_loss': 3.3068443919127843, 'val_accuracy': 0.47044917257683216, 'precision': 0.221322423978226, 'recall': 0.47044917257683216, 'f1-score': 0.3010269625170084, 'macro_f1-score': 0.01279742765273312, 'balanced_accuracy': 0.02, 'mcc': 0.0, 'train_loss': 3.698352777231219}\n",
      "Early stopping.\n",
      "\n",
      "[Fold 3]\n",
      "Label distribution after resampling:\n",
      "  label 0: 2000\n",
      "  label 1: 200\n",
      "  label 2: 200\n",
      "  label 3: 200\n",
      "  label 4: 231\n",
      "  label 5: 200\n",
      "  label 6: 200\n",
      "  label 7: 200\n",
      "  label 8: 200\n",
      "  label 9: 200\n",
      "  label 10: 200\n",
      "  label 11: 200\n",
      "  label 12: 217\n",
      "  label 13: 200\n",
      "  label 14: 200\n",
      "  label 15: 200\n",
      "  label 16: 200\n",
      "  label 17: 260\n",
      "  label 18: 200\n",
      "  label 19: 200\n",
      "  label 20: 200\n",
      "  label 21: 200\n",
      "  label 22: 200\n",
      "  label 23: 200\n",
      "  label 24: 200\n",
      "  label 25: 200\n",
      "  label 26: 200\n",
      "  label 27: 200\n",
      "  label 28: 200\n",
      "  label 29: 200\n",
      "  label 30: 200\n",
      "  label 31: 200\n",
      "  label 32: 200\n",
      "  label 33: 200\n",
      "  label 34: 200\n",
      "  label 35: 200\n",
      "  label 36: 200\n",
      "  label 37: 200\n",
      "  label 38: 200\n",
      "  label 39: 200\n",
      "  label 40: 200\n",
      "  label 41: 200\n",
      "  label 42: 200\n",
      "  label 43: 200\n",
      "  label 44: 200\n",
      "  label 45: 200\n",
      "  label 46: 200\n",
      "  label 47: 595\n",
      "  label 48: 227\n",
      "  label 49: 200\n",
      "model is microsoft/deberta-base cnn\n",
      "Epoch 1/20\n"
     ]
    },
    {
     "name": "stderr",
     "output_type": "stream",
     "text": [
      "100%|██████████| 771/771 [01:21<00:00,  9.49it/s]\n"
     ]
    },
    {
     "name": "stdout",
     "output_type": "stream",
     "text": [
      "{'val_loss': 3.342586233930768, 'val_accuracy': 0.47044917257683216, 'precision': 0.221322423978226, 'recall': 0.47044917257683216, 'f1-score': 0.3010269625170084, 'macro_f1-score': 0.01279742765273312, 'balanced_accuracy': 0.02, 'mcc': 0.0, 'train_loss': 3.6762435195047103}\n",
      "Epoch 2/20\n"
     ]
    },
    {
     "name": "stderr",
     "output_type": "stream",
     "text": [
      "100%|██████████| 771/771 [01:21<00:00,  9.49it/s]\n"
     ]
    },
    {
     "name": "stdout",
     "output_type": "stream",
     "text": [
      "{'val_loss': 3.285734568002089, 'val_accuracy': 0.47044917257683216, 'precision': 0.221322423978226, 'recall': 0.47044917257683216, 'f1-score': 0.3010269625170084, 'macro_f1-score': 0.01279742765273312, 'balanced_accuracy': 0.02, 'mcc': 0.0, 'train_loss': 3.697469685018913}\n",
      "Epoch 3/20\n"
     ]
    },
    {
     "name": "stderr",
     "output_type": "stream",
     "text": [
      "100%|██████████| 771/771 [01:21<00:00,  9.49it/s]\n"
     ]
    },
    {
     "name": "stdout",
     "output_type": "stream",
     "text": [
      "{'val_loss': 3.195713520050049, 'val_accuracy': 0.47044917257683216, 'precision': 0.221322423978226, 'recall': 0.47044917257683216, 'f1-score': 0.3010269625170084, 'macro_f1-score': 0.01279742765273312, 'balanced_accuracy': 0.02, 'mcc': 0.0, 'train_loss': 3.675924555336919}\n",
      "Epoch 4/20\n"
     ]
    },
    {
     "name": "stderr",
     "output_type": "stream",
     "text": [
      "100%|██████████| 771/771 [01:21<00:00,  9.50it/s]\n"
     ]
    },
    {
     "name": "stdout",
     "output_type": "stream",
     "text": [
      "{'val_loss': 2.855047639810814, 'val_accuracy': 0.47044917257683216, 'precision': 0.221322423978226, 'recall': 0.47044917257683216, 'f1-score': 0.3010269625170084, 'macro_f1-score': 0.01279742765273312, 'balanced_accuracy': 0.02, 'mcc': 0.0, 'train_loss': 3.519910072692792}\n",
      "Early stopping.\n",
      "\n",
      "[Fold 4]\n",
      "Label distribution after resampling:\n",
      "  label 0: 2000\n",
      "  label 1: 200\n",
      "  label 2: 200\n",
      "  label 3: 200\n",
      "  label 4: 231\n",
      "  label 5: 200\n",
      "  label 6: 200\n",
      "  label 7: 200\n",
      "  label 8: 200\n",
      "  label 9: 200\n",
      "  label 10: 200\n",
      "  label 11: 200\n",
      "  label 12: 217\n",
      "  label 13: 200\n",
      "  label 14: 200\n",
      "  label 15: 200\n",
      "  label 16: 200\n",
      "  label 17: 260\n",
      "  label 18: 200\n",
      "  label 19: 200\n",
      "  label 20: 200\n",
      "  label 21: 200\n",
      "  label 22: 200\n",
      "  label 23: 200\n",
      "  label 24: 200\n",
      "  label 25: 200\n",
      "  label 26: 200\n",
      "  label 27: 200\n",
      "  label 28: 200\n",
      "  label 29: 200\n",
      "  label 30: 200\n",
      "  label 31: 200\n",
      "  label 32: 200\n",
      "  label 33: 200\n",
      "  label 34: 200\n",
      "  label 35: 200\n",
      "  label 36: 200\n",
      "  label 37: 200\n",
      "  label 38: 200\n",
      "  label 39: 200\n",
      "  label 40: 200\n",
      "  label 41: 200\n",
      "  label 42: 200\n",
      "  label 43: 200\n",
      "  label 44: 200\n",
      "  label 45: 200\n",
      "  label 46: 200\n",
      "  label 47: 595\n",
      "  label 48: 227\n",
      "  label 49: 200\n",
      "model is microsoft/deberta-base cnn\n",
      "Epoch 1/20\n"
     ]
    },
    {
     "name": "stderr",
     "output_type": "stream",
     "text": [
      "100%|██████████| 771/771 [01:21<00:00,  9.50it/s]\n"
     ]
    },
    {
     "name": "stdout",
     "output_type": "stream",
     "text": [
      "{'val_loss': 2.9657337530603947, 'val_accuracy': 0.47044917257683216, 'precision': 0.221322423978226, 'recall': 0.47044917257683216, 'f1-score': 0.3010269625170084, 'macro_f1-score': 0.01279742765273312, 'balanced_accuracy': 0.02, 'mcc': 0.0, 'train_loss': 3.65508056460033}\n",
      "Epoch 2/20\n"
     ]
    },
    {
     "name": "stderr",
     "output_type": "stream",
     "text": [
      "100%|██████████| 771/771 [01:21<00:00,  9.49it/s]\n"
     ]
    },
    {
     "name": "stdout",
     "output_type": "stream",
     "text": [
      "{'val_loss': 3.053746758766894, 'val_accuracy': 0.47044917257683216, 'precision': 0.221322423978226, 'recall': 0.47044917257683216, 'f1-score': 0.3010269625170084, 'macro_f1-score': 0.01279742765273312, 'balanced_accuracy': 0.02, 'mcc': 0.0, 'train_loss': 3.679412210961724}\n",
      "Epoch 3/20\n"
     ]
    },
    {
     "name": "stderr",
     "output_type": "stream",
     "text": [
      "100%|██████████| 771/771 [01:21<00:00,  9.49it/s]\n"
     ]
    },
    {
     "name": "stdout",
     "output_type": "stream",
     "text": [
      "{'val_loss': 3.0431281710570715, 'val_accuracy': 0.47044917257683216, 'precision': 0.221322423978226, 'recall': 0.47044917257683216, 'f1-score': 0.3010269625170084, 'macro_f1-score': 0.01279742765273312, 'balanced_accuracy': 0.02, 'mcc': 0.0, 'train_loss': 3.708227510736765}\n",
      "Epoch 4/20\n"
     ]
    },
    {
     "name": "stderr",
     "output_type": "stream",
     "text": [
      "100%|██████████| 771/771 [01:21<00:00,  9.50it/s]\n"
     ]
    },
    {
     "name": "stdout",
     "output_type": "stream",
     "text": [
      "{'val_loss': 3.017722147815632, 'val_accuracy': 0.47044917257683216, 'precision': 0.221322423978226, 'recall': 0.47044917257683216, 'f1-score': 0.3010269625170084, 'macro_f1-score': 0.01279742765273312, 'balanced_accuracy': 0.02, 'mcc': 0.0, 'train_loss': 3.705792815459532}\n",
      "Early stopping.\n",
      "\n",
      "[Fold 5]\n",
      "Label distribution after resampling:\n",
      "  label 0: 2000\n",
      "  label 1: 200\n",
      "  label 2: 200\n",
      "  label 3: 200\n",
      "  label 4: 231\n",
      "  label 5: 200\n",
      "  label 6: 200\n",
      "  label 7: 200\n",
      "  label 8: 200\n",
      "  label 9: 200\n",
      "  label 10: 200\n",
      "  label 11: 200\n",
      "  label 12: 217\n",
      "  label 13: 200\n",
      "  label 14: 200\n",
      "  label 15: 200\n",
      "  label 16: 200\n",
      "  label 17: 260\n",
      "  label 18: 200\n",
      "  label 19: 200\n",
      "  label 20: 200\n",
      "  label 21: 200\n",
      "  label 22: 200\n",
      "  label 23: 200\n",
      "  label 24: 200\n",
      "  label 25: 200\n",
      "  label 26: 200\n",
      "  label 27: 200\n",
      "  label 28: 200\n",
      "  label 29: 200\n",
      "  label 30: 200\n",
      "  label 31: 200\n",
      "  label 32: 200\n",
      "  label 33: 200\n",
      "  label 34: 200\n",
      "  label 35: 200\n",
      "  label 36: 200\n",
      "  label 37: 200\n",
      "  label 38: 200\n",
      "  label 39: 200\n",
      "  label 40: 200\n",
      "  label 41: 200\n",
      "  label 42: 200\n",
      "  label 43: 200\n",
      "  label 44: 200\n",
      "  label 45: 200\n",
      "  label 46: 200\n",
      "  label 47: 595\n",
      "  label 48: 227\n",
      "  label 49: 200\n",
      "model is microsoft/deberta-base cnn\n",
      "Epoch 1/20\n"
     ]
    },
    {
     "name": "stderr",
     "output_type": "stream",
     "text": [
      "100%|██████████| 771/771 [01:21<00:00,  9.50it/s]\n"
     ]
    },
    {
     "name": "stdout",
     "output_type": "stream",
     "text": [
      "{'val_loss': 1.995316648258353, 'val_accuracy': 0.4686390532544379, 'precision': 0.490363192689054, 'recall': 0.4686390532544379, 'f1-score': 0.4487738970562729, 'macro_f1-score': 0.22114085952045784, 'balanced_accuracy': 0.3311464621975783, 'mcc': 0.30356767815402047, 'train_loss': 2.6410514099279423}\n",
      "Epoch 2/20\n"
     ]
    },
    {
     "name": "stderr",
     "output_type": "stream",
     "text": [
      "100%|██████████| 771/771 [01:21<00:00,  9.50it/s]\n"
     ]
    },
    {
     "name": "stdout",
     "output_type": "stream",
     "text": [
      "{'val_loss': 1.3818391808923685, 'val_accuracy': 0.6201183431952663, 'precision': 0.6205392863361964, 'recall': 0.6201183431952663, 'f1-score': 0.6037907928770542, 'macro_f1-score': 0.32513178316636737, 'balanced_accuracy': 0.3662037597229509, 'mcc': 0.5089286605260165, 'train_loss': 1.220964532495318}\n",
      "Epoch 3/20\n"
     ]
    },
    {
     "name": "stderr",
     "output_type": "stream",
     "text": [
      "100%|██████████| 771/771 [01:21<00:00,  9.50it/s]\n"
     ]
    },
    {
     "name": "stdout",
     "output_type": "stream",
     "text": [
      "{'val_loss': 1.3874370242064853, 'val_accuracy': 0.6355029585798817, 'precision': 0.6642628420480787, 'recall': 0.6355029585798817, 'f1-score': 0.6336355170067456, 'macro_f1-score': 0.34045883738499616, 'balanced_accuracy': 0.3721209097669204, 'mcc': 0.5249706270820418, 'train_loss': 0.7438775824114738}\n",
      "Epoch 4/20\n"
     ]
    },
    {
     "name": "stderr",
     "output_type": "stream",
     "text": [
      "100%|██████████| 771/771 [01:21<00:00,  9.50it/s]\n"
     ]
    },
    {
     "name": "stdout",
     "output_type": "stream",
     "text": [
      "{'val_loss': 1.553204061850062, 'val_accuracy': 0.6272189349112426, 'precision': 0.6618531163877753, 'recall': 0.6272189349112426, 'f1-score': 0.6243714184130627, 'macro_f1-score': 0.3449255813613407, 'balanced_accuracy': 0.38646033045509476, 'mcc': 0.5228747280535028, 'train_loss': 0.5468671740637912}\n",
      "Epoch 5/20\n"
     ]
    },
    {
     "name": "stderr",
     "output_type": "stream",
     "text": [
      "100%|██████████| 771/771 [01:21<00:00,  9.50it/s]\n"
     ]
    },
    {
     "name": "stdout",
     "output_type": "stream",
     "text": [
      "{'val_loss': 1.6638572002356906, 'val_accuracy': 0.591715976331361, 'precision': 0.6073706833823854, 'recall': 0.591715976331361, 'f1-score': 0.5853996673651284, 'macro_f1-score': 0.3396599600034994, 'balanced_accuracy': 0.35523965727743606, 'mcc': 0.4538600483029844, 'train_loss': 0.4441872390733619}\n",
      "Epoch 6/20\n"
     ]
    },
    {
     "name": "stderr",
     "output_type": "stream",
     "text": [
      "100%|██████████| 771/771 [01:21<00:00,  9.50it/s]\n"
     ]
    },
    {
     "name": "stdout",
     "output_type": "stream",
     "text": [
      "{'val_loss': 1.8112649119125221, 'val_accuracy': 0.6366863905325444, 'precision': 0.6627977094549083, 'recall': 0.6366863905325444, 'f1-score': 0.627111539624975, 'macro_f1-score': 0.34388417985803765, 'balanced_accuracy': 0.37310427592408374, 'mcc': 0.5298414826360229, 'train_loss': 0.4029170308786356}\n",
      "Epoch 7/20\n"
     ]
    },
    {
     "name": "stderr",
     "output_type": "stream",
     "text": [
      "100%|██████████| 771/771 [01:21<00:00,  9.50it/s]\n"
     ]
    },
    {
     "name": "stdout",
     "output_type": "stream",
     "text": [
      "{'val_loss': 1.7120506111181006, 'val_accuracy': 0.6343195266272189, 'precision': 0.6493211464631978, 'recall': 0.6343195266272189, 'f1-score': 0.6232070938136327, 'macro_f1-score': 0.35297607723750923, 'balanced_accuracy': 0.37526627595345113, 'mcc': 0.5230148801993069, 'train_loss': 0.3740190247776791}\n",
      "Epoch 8/20\n"
     ]
    },
    {
     "name": "stderr",
     "output_type": "stream",
     "text": [
      "100%|██████████| 771/771 [01:21<00:00,  9.50it/s]\n"
     ]
    },
    {
     "name": "stdout",
     "output_type": "stream",
     "text": [
      "{'val_loss': 1.6462847348654046, 'val_accuracy': 0.642603550295858, 'precision': 0.6930900291721482, 'recall': 0.642603550295858, 'f1-score': 0.6530806914778482, 'macro_f1-score': 0.39322533478957467, 'balanced_accuracy': 0.42517978309284243, 'mcc': 0.5445982542346088, 'train_loss': 0.5555693274847052}\n",
      "Epoch 9/20\n"
     ]
    },
    {
     "name": "stderr",
     "output_type": "stream",
     "text": [
      "100%|██████████| 771/771 [01:21<00:00,  9.50it/s]\n"
     ]
    },
    {
     "name": "stdout",
     "output_type": "stream",
     "text": [
      "{'val_loss': 1.7837372905803177, 'val_accuracy': 0.6272189349112426, 'precision': 0.6557802907053212, 'recall': 0.6272189349112426, 'f1-score': 0.6289106630860241, 'macro_f1-score': 0.35424039191896617, 'balanced_accuracy': 0.40979087899355826, 'mcc': 0.5253792073364826, 'train_loss': 0.4397144561401543}\n",
      "Epoch 10/20\n"
     ]
    },
    {
     "name": "stderr",
     "output_type": "stream",
     "text": [
      "100%|██████████| 771/771 [01:21<00:00,  9.50it/s]\n"
     ]
    },
    {
     "name": "stdout",
     "output_type": "stream",
     "text": [
      "{'val_loss': 1.7599612755595513, 'val_accuracy': 0.6402366863905326, 'precision': 0.6526387331712775, 'recall': 0.6402366863905326, 'f1-score': 0.6322539245250653, 'macro_f1-score': 0.3472335733216436, 'balanced_accuracy': 0.3641655352357208, 'mcc': 0.5273300332321735, 'train_loss': 0.5458227192418923}\n",
      "Epoch 11/20\n"
     ]
    },
    {
     "name": "stderr",
     "output_type": "stream",
     "text": [
      "100%|██████████| 771/771 [01:21<00:00,  9.50it/s]\n"
     ]
    },
    {
     "name": "stdout",
     "output_type": "stream",
     "text": [
      "{'val_loss': 1.876305123545089, 'val_accuracy': 0.6461538461538462, 'precision': 0.6428351168514186, 'recall': 0.6461538461538462, 'f1-score': 0.6310975647901914, 'macro_f1-score': 0.34627744298694224, 'balanced_accuracy': 0.3586787804480975, 'mcc': 0.5341567615309827, 'train_loss': 0.28364988325022394}\n",
      "Early stopping.\n",
      "\n",
      "[Fold 6]\n",
      "Label distribution after resampling:\n",
      "  label 0: 2000\n",
      "  label 1: 200\n",
      "  label 2: 200\n",
      "  label 3: 200\n",
      "  label 4: 231\n",
      "  label 5: 200\n",
      "  label 6: 200\n",
      "  label 7: 200\n",
      "  label 8: 200\n",
      "  label 9: 200\n",
      "  label 10: 200\n",
      "  label 11: 200\n",
      "  label 12: 217\n",
      "  label 13: 200\n",
      "  label 14: 200\n",
      "  label 15: 200\n",
      "  label 16: 200\n",
      "  label 17: 260\n",
      "  label 18: 200\n",
      "  label 19: 200\n",
      "  label 20: 200\n",
      "  label 21: 200\n",
      "  label 22: 200\n",
      "  label 23: 200\n",
      "  label 24: 200\n",
      "  label 25: 200\n",
      "  label 26: 200\n",
      "  label 27: 200\n",
      "  label 28: 200\n",
      "  label 29: 200\n",
      "  label 30: 200\n",
      "  label 31: 200\n",
      "  label 32: 200\n",
      "  label 33: 200\n",
      "  label 34: 200\n",
      "  label 35: 200\n",
      "  label 36: 200\n",
      "  label 37: 200\n",
      "  label 38: 200\n",
      "  label 39: 200\n",
      "  label 40: 200\n",
      "  label 41: 200\n",
      "  label 42: 200\n",
      "  label 43: 200\n",
      "  label 44: 200\n",
      "  label 45: 200\n",
      "  label 46: 200\n",
      "  label 47: 595\n",
      "  label 48: 227\n",
      "  label 49: 200\n",
      "model is microsoft/deberta-base cnn\n",
      "Epoch 1/20\n"
     ]
    },
    {
     "name": "stderr",
     "output_type": "stream",
     "text": [
      "100%|██████████| 771/771 [01:21<00:00,  9.49it/s]\n"
     ]
    },
    {
     "name": "stdout",
     "output_type": "stream",
     "text": [
      "{'val_loss': 3.3304318571990392, 'val_accuracy': 0.46982248520710057, 'precision': 0.22073316760617626, 'recall': 0.46982248520710057, 'f1-score': 0.3003535050357793, 'macro_f1-score': 0.012785829307568436, 'balanced_accuracy': 0.02, 'mcc': 0.0, 'train_loss': 3.374857761052796}\n",
      "Epoch 2/20\n"
     ]
    },
    {
     "name": "stderr",
     "output_type": "stream",
     "text": [
      "100%|██████████| 771/771 [01:21<00:00,  9.50it/s]\n"
     ]
    },
    {
     "name": "stdout",
     "output_type": "stream",
     "text": [
      "{'val_loss': 3.291445750110554, 'val_accuracy': 0.46982248520710057, 'precision': 0.22073316760617626, 'recall': 0.46982248520710057, 'f1-score': 0.3003535050357793, 'macro_f1-score': 0.012785829307568436, 'balanced_accuracy': 0.02, 'mcc': 0.0, 'train_loss': 3.7024353100941183}\n",
      "Epoch 3/20\n"
     ]
    },
    {
     "name": "stderr",
     "output_type": "stream",
     "text": [
      "100%|██████████| 771/771 [01:21<00:00,  9.49it/s]\n"
     ]
    },
    {
     "name": "stdout",
     "output_type": "stream",
     "text": [
      "{'val_loss': 3.280448171327699, 'val_accuracy': 0.46982248520710057, 'precision': 0.22073316760617626, 'recall': 0.46982248520710057, 'f1-score': 0.3003535050357793, 'macro_f1-score': 0.012785829307568436, 'balanced_accuracy': 0.02, 'mcc': 0.0, 'train_loss': 3.698900680133805}\n",
      "Epoch 4/20\n"
     ]
    },
    {
     "name": "stderr",
     "output_type": "stream",
     "text": [
      "100%|██████████| 771/771 [01:21<00:00,  9.49it/s]\n"
     ]
    },
    {
     "name": "stdout",
     "output_type": "stream",
     "text": [
      "{'val_loss': 3.2510181462989665, 'val_accuracy': 0.46982248520710057, 'precision': 0.22073316760617626, 'recall': 0.46982248520710057, 'f1-score': 0.3003535050357793, 'macro_f1-score': 0.012785829307568436, 'balanced_accuracy': 0.02, 'mcc': 0.0, 'train_loss': 3.6974278866239714}\n",
      "Early stopping.\n",
      "\n",
      "[Fold 7]\n",
      "Label distribution after resampling:\n",
      "  label 0: 2000\n",
      "  label 1: 200\n",
      "  label 2: 200\n",
      "  label 3: 200\n",
      "  label 4: 232\n",
      "  label 5: 200\n",
      "  label 6: 200\n",
      "  label 7: 200\n",
      "  label 8: 200\n",
      "  label 9: 200\n",
      "  label 10: 200\n",
      "  label 11: 200\n",
      "  label 12: 217\n",
      "  label 13: 200\n",
      "  label 14: 200\n",
      "  label 15: 200\n",
      "  label 16: 200\n",
      "  label 17: 260\n",
      "  label 18: 200\n",
      "  label 19: 200\n",
      "  label 20: 200\n",
      "  label 21: 200\n",
      "  label 22: 200\n",
      "  label 23: 200\n",
      "  label 24: 200\n",
      "  label 25: 200\n",
      "  label 26: 200\n",
      "  label 27: 200\n",
      "  label 28: 200\n",
      "  label 29: 200\n",
      "  label 30: 200\n",
      "  label 31: 200\n",
      "  label 32: 200\n",
      "  label 33: 200\n",
      "  label 34: 200\n",
      "  label 35: 200\n",
      "  label 36: 200\n",
      "  label 37: 200\n",
      "  label 38: 200\n",
      "  label 39: 200\n",
      "  label 40: 200\n",
      "  label 41: 200\n",
      "  label 42: 200\n",
      "  label 43: 200\n",
      "  label 44: 200\n",
      "  label 45: 200\n",
      "  label 46: 200\n",
      "  label 47: 594\n",
      "  label 48: 227\n",
      "  label 49: 200\n",
      "model is microsoft/deberta-base cnn\n",
      "Epoch 1/20\n"
     ]
    },
    {
     "name": "stderr",
     "output_type": "stream",
     "text": [
      "100%|██████████| 771/771 [01:21<00:00,  9.49it/s]\n"
     ]
    },
    {
     "name": "stdout",
     "output_type": "stream",
     "text": [
      "{'val_loss': 3.3540313873650893, 'val_accuracy': 0.46982248520710057, 'precision': 0.22073316760617626, 'recall': 0.46982248520710057, 'f1-score': 0.3003535050357793, 'macro_f1-score': 0.012785829307568436, 'balanced_accuracy': 0.02, 'mcc': 0.0, 'train_loss': 3.7157696057231817}\n",
      "Epoch 2/20\n"
     ]
    },
    {
     "name": "stderr",
     "output_type": "stream",
     "text": [
      "100%|██████████| 771/771 [01:21<00:00,  9.50it/s]\n"
     ]
    },
    {
     "name": "stdout",
     "output_type": "stream",
     "text": [
      "{'val_loss': 3.3153009864519225, 'val_accuracy': 0.46982248520710057, 'precision': 0.22073316760617626, 'recall': 0.46982248520710057, 'f1-score': 0.3003535050357793, 'macro_f1-score': 0.012785829307568436, 'balanced_accuracy': 0.02, 'mcc': 0.0, 'train_loss': 3.7032217367149975}\n",
      "Epoch 3/20\n"
     ]
    },
    {
     "name": "stderr",
     "output_type": "stream",
     "text": [
      "100%|██████████| 771/771 [01:21<00:00,  9.49it/s]\n"
     ]
    },
    {
     "name": "stdout",
     "output_type": "stream",
     "text": [
      "{'val_loss': 3.050628851044853, 'val_accuracy': 0.46982248520710057, 'precision': 0.22073316760617626, 'recall': 0.46982248520710057, 'f1-score': 0.3003535050357793, 'macro_f1-score': 0.012785829307568436, 'balanced_accuracy': 0.02, 'mcc': 0.0, 'train_loss': 3.689478795042916}\n",
      "Epoch 4/20\n"
     ]
    },
    {
     "name": "stderr",
     "output_type": "stream",
     "text": [
      "100%|██████████| 771/771 [01:21<00:00,  9.49it/s]\n"
     ]
    },
    {
     "name": "stdout",
     "output_type": "stream",
     "text": [
      "{'val_loss': 3.0707072087053984, 'val_accuracy': 0.46982248520710057, 'precision': 0.22073316760617626, 'recall': 0.46982248520710057, 'f1-score': 0.3003535050357793, 'macro_f1-score': 0.012785829307568436, 'balanced_accuracy': 0.02, 'mcc': 0.0, 'train_loss': 3.623149259544996}\n",
      "Early stopping.\n",
      "\n",
      "[Fold 8]\n",
      "Label distribution after resampling:\n",
      "  label 0: 2000\n",
      "  label 1: 200\n",
      "  label 2: 200\n",
      "  label 3: 200\n",
      "  label 4: 232\n",
      "  label 5: 200\n",
      "  label 6: 200\n",
      "  label 7: 200\n",
      "  label 8: 200\n",
      "  label 9: 200\n",
      "  label 10: 200\n",
      "  label 11: 200\n",
      "  label 12: 216\n",
      "  label 13: 200\n",
      "  label 14: 200\n",
      "  label 15: 200\n",
      "  label 16: 200\n",
      "  label 17: 260\n",
      "  label 18: 200\n",
      "  label 19: 200\n",
      "  label 20: 200\n",
      "  label 21: 200\n",
      "  label 22: 200\n",
      "  label 23: 200\n",
      "  label 24: 200\n",
      "  label 25: 200\n",
      "  label 26: 200\n",
      "  label 27: 200\n",
      "  label 28: 200\n",
      "  label 29: 200\n",
      "  label 30: 200\n",
      "  label 31: 200\n",
      "  label 32: 200\n",
      "  label 33: 200\n",
      "  label 34: 200\n",
      "  label 35: 200\n",
      "  label 36: 200\n",
      "  label 37: 200\n",
      "  label 38: 200\n",
      "  label 39: 200\n",
      "  label 40: 200\n",
      "  label 41: 200\n",
      "  label 42: 200\n",
      "  label 43: 200\n",
      "  label 44: 200\n",
      "  label 45: 200\n",
      "  label 46: 200\n",
      "  label 47: 595\n",
      "  label 48: 226\n",
      "  label 49: 200\n",
      "model is microsoft/deberta-base cnn\n",
      "Epoch 1/20\n"
     ]
    },
    {
     "name": "stderr",
     "output_type": "stream",
     "text": [
      "100%|██████████| 771/771 [01:21<00:00,  9.49it/s]\n"
     ]
    },
    {
     "name": "stdout",
     "output_type": "stream",
     "text": [
      "{'val_loss': 1.6455945833674017, 'val_accuracy': 0.527810650887574, 'precision': 0.5627738944037118, 'recall': 0.527810650887574, 'f1-score': 0.5289959260258257, 'macro_f1-score': 0.2301036440428555, 'balanced_accuracy': 0.2951176253984297, 'mcc': 0.4149242744084493, 'train_loss': 2.8688482792924814}\n",
      "Epoch 2/20\n"
     ]
    },
    {
     "name": "stderr",
     "output_type": "stream",
     "text": [
      "100%|██████████| 771/771 [01:21<00:00,  9.50it/s]\n"
     ]
    },
    {
     "name": "stdout",
     "output_type": "stream",
     "text": [
      "{'val_loss': 1.3737092872835555, 'val_accuracy': 0.5846153846153846, 'precision': 0.6682905547809318, 'recall': 0.5846153846153846, 'f1-score': 0.596257940033441, 'macro_f1-score': 0.31429847554719254, 'balanced_accuracy': 0.3731420376368018, 'mcc': 0.4728808513788052, 'train_loss': 1.4253769335270547}\n",
      "Epoch 3/20\n"
     ]
    },
    {
     "name": "stderr",
     "output_type": "stream",
     "text": [
      "100%|██████████| 771/771 [01:21<00:00,  9.50it/s]\n"
     ]
    },
    {
     "name": "stdout",
     "output_type": "stream",
     "text": [
      "{'val_loss': 1.405305175286419, 'val_accuracy': 0.6047337278106509, 'precision': 0.6663253495231833, 'recall': 0.6047337278106509, 'f1-score': 0.6139763393293857, 'macro_f1-score': 0.33068378040475777, 'balanced_accuracy': 0.3640415046768834, 'mcc': 0.49296084209538354, 'train_loss': 0.8462749870467433}\n",
      "Epoch 4/20\n"
     ]
    },
    {
     "name": "stderr",
     "output_type": "stream",
     "text": [
      "100%|██████████| 771/771 [01:21<00:00,  9.50it/s]\n"
     ]
    },
    {
     "name": "stdout",
     "output_type": "stream",
     "text": [
      "{'val_loss': 1.4724642971776567, 'val_accuracy': 0.6094674556213018, 'precision': 0.6771826567331087, 'recall': 0.6094674556213018, 'f1-score': 0.6210933822912875, 'macro_f1-score': 0.332831857125009, 'balanced_accuracy': 0.37123471430447574, 'mcc': 0.5098800799047807, 'train_loss': 0.6074525340425211}\n",
      "Epoch 5/20\n"
     ]
    },
    {
     "name": "stderr",
     "output_type": "stream",
     "text": [
      "100%|██████████| 771/771 [01:21<00:00,  9.50it/s]\n"
     ]
    },
    {
     "name": "stdout",
     "output_type": "stream",
     "text": [
      "{'val_loss': 1.5485163027385496, 'val_accuracy': 0.6272189349112426, 'precision': 0.6721663956737126, 'recall': 0.6272189349112426, 'f1-score': 0.6336693580651407, 'macro_f1-score': 0.3782215061410396, 'balanced_accuracy': 0.4107749663515484, 'mcc': 0.5295231999706423, 'train_loss': 0.4785177013782444}\n",
      "Epoch 6/20\n"
     ]
    },
    {
     "name": "stderr",
     "output_type": "stream",
     "text": [
      "100%|██████████| 771/771 [01:21<00:00,  9.50it/s]\n"
     ]
    },
    {
     "name": "stdout",
     "output_type": "stream",
     "text": [
      "{'val_loss': 1.5626030721754398, 'val_accuracy': 0.6248520710059171, 'precision': 0.6665785434108201, 'recall': 0.6248520710059171, 'f1-score': 0.632042819407918, 'macro_f1-score': 0.3679999572633854, 'balanced_accuracy': 0.4114202912605423, 'mcc': 0.5279206370026719, 'train_loss': 0.4106888282734867}\n",
      "Epoch 7/20\n"
     ]
    },
    {
     "name": "stderr",
     "output_type": "stream",
     "text": [
      "100%|██████████| 771/771 [01:21<00:00,  9.50it/s]\n"
     ]
    },
    {
     "name": "stdout",
     "output_type": "stream",
     "text": [
      "{'val_loss': 1.5700770087961882, 'val_accuracy': 0.6556213017751479, 'precision': 0.6814801423738167, 'recall': 0.6556213017751479, 'f1-score': 0.6548129168110094, 'macro_f1-score': 0.38887640826983305, 'balanced_accuracy': 0.413892161804599, 'mcc': 0.5549859323603246, 'train_loss': 0.32818693436087915}\n",
      "Epoch 8/20\n"
     ]
    },
    {
     "name": "stderr",
     "output_type": "stream",
     "text": [
      "100%|██████████| 771/771 [01:21<00:00,  9.50it/s]\n"
     ]
    },
    {
     "name": "stdout",
     "output_type": "stream",
     "text": [
      "{'val_loss': 1.6359030081416077, 'val_accuracy': 0.6556213017751479, 'precision': 0.6615889216496507, 'recall': 0.6556213017751479, 'f1-score': 0.6490861184834371, 'macro_f1-score': 0.37424185507307506, 'balanced_accuracy': 0.3893443118158364, 'mcc': 0.5441354478913324, 'train_loss': 0.3067542470686002}\n",
      "Epoch 9/20\n"
     ]
    },
    {
     "name": "stderr",
     "output_type": "stream",
     "text": [
      "100%|██████████| 771/771 [01:21<00:00,  9.51it/s]\n"
     ]
    },
    {
     "name": "stdout",
     "output_type": "stream",
     "text": [
      "{'val_loss': 1.6652624179732125, 'val_accuracy': 0.659171597633136, 'precision': 0.68130597466644, 'recall': 0.659171597633136, 'f1-score': 0.6504544316163438, 'macro_f1-score': 0.36981657373896476, 'balanced_accuracy': 0.38666828735581993, 'mcc': 0.5492409365153934, 'train_loss': 0.2844981690198328}\n",
      "Epoch 10/20\n"
     ]
    },
    {
     "name": "stderr",
     "output_type": "stream",
     "text": [
      "100%|██████████| 771/771 [01:21<00:00,  9.51it/s]\n"
     ]
    },
    {
     "name": "stdout",
     "output_type": "stream",
     "text": [
      "{'val_loss': 1.8440927581967048, 'val_accuracy': 0.6343195266272189, 'precision': 0.6762269556032179, 'recall': 0.6343195266272189, 'f1-score': 0.6359515426132637, 'macro_f1-score': 0.37848722867188983, 'balanced_accuracy': 0.4073762191645943, 'mcc': 0.5295595732430253, 'train_loss': 0.2954212682691298}\n",
      "Early stopping.\n",
      "\n",
      "[Fold 9]\n",
      "Label distribution after resampling:\n",
      "  label 0: 2000\n",
      "  label 1: 200\n",
      "  label 2: 200\n",
      "  label 3: 200\n",
      "  label 4: 232\n",
      "  label 5: 200\n",
      "  label 6: 200\n",
      "  label 7: 200\n",
      "  label 8: 200\n",
      "  label 9: 200\n",
      "  label 10: 200\n",
      "  label 11: 200\n",
      "  label 12: 217\n",
      "  label 13: 200\n",
      "  label 14: 200\n",
      "  label 15: 200\n",
      "  label 16: 200\n",
      "  label 17: 261\n",
      "  label 18: 200\n",
      "  label 19: 200\n",
      "  label 20: 200\n",
      "  label 21: 200\n",
      "  label 22: 200\n",
      "  label 23: 200\n",
      "  label 24: 200\n",
      "  label 25: 200\n",
      "  label 26: 200\n",
      "  label 27: 200\n",
      "  label 28: 200\n",
      "  label 29: 200\n",
      "  label 30: 200\n",
      "  label 31: 200\n",
      "  label 32: 200\n",
      "  label 33: 200\n",
      "  label 34: 200\n",
      "  label 35: 200\n",
      "  label 36: 200\n",
      "  label 37: 200\n",
      "  label 38: 200\n",
      "  label 39: 200\n",
      "  label 40: 200\n",
      "  label 41: 200\n",
      "  label 42: 200\n",
      "  label 43: 200\n",
      "  label 44: 200\n",
      "  label 45: 200\n",
      "  label 46: 200\n",
      "  label 47: 595\n",
      "  label 48: 226\n",
      "  label 49: 200\n",
      "model is microsoft/deberta-base cnn\n",
      "Epoch 1/20\n"
     ]
    },
    {
     "name": "stderr",
     "output_type": "stream",
     "text": [
      "100%|██████████| 771/771 [01:21<00:00,  9.50it/s]\n"
     ]
    },
    {
     "name": "stdout",
     "output_type": "stream",
     "text": [
      "{'val_loss': 1.5166872458637886, 'val_accuracy': 0.5751479289940828, 'precision': 0.6066984595243327, 'recall': 0.5751479289940828, 'f1-score': 0.5700402748477406, 'macro_f1-score': 0.31253739547106935, 'balanced_accuracy': 0.36848857095143017, 'mcc': 0.44252247682958223, 'train_loss': 2.371622800749718}\n",
      "Epoch 2/20\n"
     ]
    },
    {
     "name": "stderr",
     "output_type": "stream",
     "text": [
      "100%|██████████| 771/771 [01:21<00:00,  9.49it/s]\n"
     ]
    },
    {
     "name": "stdout",
     "output_type": "stream",
     "text": [
      "{'val_loss': 1.3187429972414701, 'val_accuracy': 0.6378698224852071, 'precision': 0.6743931066323904, 'recall': 0.6378698224852071, 'f1-score': 0.6412441649713584, 'macro_f1-score': 0.38309047708497707, 'balanced_accuracy': 0.40131483853968813, 'mcc': 0.5300811467526507, 'train_loss': 1.009779375776088}\n",
      "Epoch 3/20\n"
     ]
    },
    {
     "name": "stderr",
     "output_type": "stream",
     "text": [
      "100%|██████████| 771/771 [01:21<00:00,  9.49it/s]\n"
     ]
    },
    {
     "name": "stdout",
     "output_type": "stream",
     "text": [
      "{'val_loss': 1.3482176324106612, 'val_accuracy': 0.6603550295857988, 'precision': 0.6804819736932355, 'recall': 0.6603550295857988, 'f1-score': 0.6576544971477245, 'macro_f1-score': 0.4193233982567634, 'balanced_accuracy': 0.4508872145920416, 'mcc': 0.5585594307474976, 'train_loss': 0.6297794598433758}\n",
      "Epoch 4/20\n"
     ]
    },
    {
     "name": "stderr",
     "output_type": "stream",
     "text": [
      "100%|██████████| 771/771 [01:21<00:00,  9.50it/s]\n"
     ]
    },
    {
     "name": "stdout",
     "output_type": "stream",
     "text": [
      "{'val_loss': 1.404999924718209, 'val_accuracy': 0.650887573964497, 'precision': 0.6735580458782741, 'recall': 0.650887573964497, 'f1-score': 0.6507998839393397, 'macro_f1-score': 0.42427605563589005, 'balanced_accuracy': 0.4441744871303294, 'mcc': 0.5488543801146453, 'train_loss': 0.503777570273587}\n",
      "Epoch 5/20\n"
     ]
    },
    {
     "name": "stderr",
     "output_type": "stream",
     "text": [
      "100%|██████████| 771/771 [01:21<00:00,  9.49it/s]\n"
     ]
    },
    {
     "name": "stdout",
     "output_type": "stream",
     "text": [
      "{'val_loss': 1.464695156182883, 'val_accuracy': 0.6473372781065089, 'precision': 0.6965179749785504, 'recall': 0.6473372781065089, 'f1-score': 0.6580268489653175, 'macro_f1-score': 0.3992584924350275, 'balanced_accuracy': 0.4180199621828163, 'mcc': 0.5564626957973765, 'train_loss': 0.39750255034794374}\n",
      "Epoch 6/20\n"
     ]
    },
    {
     "name": "stderr",
     "output_type": "stream",
     "text": [
      "100%|██████████| 771/771 [01:21<00:00,  9.50it/s]\n"
     ]
    },
    {
     "name": "stdout",
     "output_type": "stream",
     "text": [
      "{'val_loss': 1.5445020738637671, 'val_accuracy': 0.6461538461538462, 'precision': 0.6877320738212928, 'recall': 0.6461538461538462, 'f1-score': 0.6481681557917552, 'macro_f1-score': 0.4008164658375547, 'balanced_accuracy': 0.41552815428258805, 'mcc': 0.5515308569458433, 'train_loss': 0.34893471029032647}\n",
      "Epoch 7/20\n"
     ]
    },
    {
     "name": "stderr",
     "output_type": "stream",
     "text": [
      "100%|██████████| 771/771 [01:21<00:00,  9.50it/s]\n"
     ]
    },
    {
     "name": "stdout",
     "output_type": "stream",
     "text": [
      "{'val_loss': 1.6910544572011479, 'val_accuracy': 0.6650887573964497, 'precision': 0.6723055125630206, 'recall': 0.6650887573964497, 'f1-score': 0.6595222050419639, 'macro_f1-score': 0.3852871187729995, 'balanced_accuracy': 0.39664043918863223, 'mcc': 0.563006870165025, 'train_loss': 0.33206362974976134}\n",
      "Early stopping.\n",
      "\n",
      "[Fold 10]\n",
      "Label distribution after resampling:\n",
      "  label 0: 2000\n",
      "  label 1: 200\n",
      "  label 2: 200\n",
      "  label 3: 200\n",
      "  label 4: 231\n",
      "  label 5: 200\n",
      "  label 6: 200\n",
      "  label 7: 200\n",
      "  label 8: 200\n",
      "  label 9: 200\n",
      "  label 10: 200\n",
      "  label 11: 200\n",
      "  label 12: 217\n",
      "  label 13: 200\n",
      "  label 14: 200\n",
      "  label 15: 200\n",
      "  label 16: 200\n",
      "  label 17: 260\n",
      "  label 18: 200\n",
      "  label 19: 200\n",
      "  label 20: 200\n",
      "  label 21: 200\n",
      "  label 22: 200\n",
      "  label 23: 200\n",
      "  label 24: 200\n",
      "  label 25: 200\n",
      "  label 26: 200\n",
      "  label 27: 200\n",
      "  label 28: 200\n",
      "  label 29: 200\n",
      "  label 30: 200\n",
      "  label 31: 200\n",
      "  label 32: 200\n",
      "  label 33: 200\n",
      "  label 34: 200\n",
      "  label 35: 200\n",
      "  label 36: 200\n",
      "  label 37: 200\n",
      "  label 38: 200\n",
      "  label 39: 200\n",
      "  label 40: 200\n",
      "  label 41: 200\n",
      "  label 42: 200\n",
      "  label 43: 200\n",
      "  label 44: 200\n",
      "  label 45: 200\n",
      "  label 46: 200\n",
      "  label 47: 595\n",
      "  label 48: 227\n",
      "  label 49: 200\n",
      "model is microsoft/deberta-base cnn\n",
      "Epoch 1/20\n"
     ]
    },
    {
     "name": "stderr",
     "output_type": "stream",
     "text": [
      "100%|██████████| 771/771 [01:21<00:00,  9.49it/s]\n",
      "c:\\Users\\user\\AppData\\Local\\Programs\\Python\\Python310\\lib\\site-packages\\sklearn\\metrics\\_classification.py:2524: UserWarning: y_pred contains classes not in y_true\n",
      "  warnings.warn(\"y_pred contains classes not in y_true\")\n"
     ]
    },
    {
     "name": "stdout",
     "output_type": "stream",
     "text": [
      "{'val_loss': 1.427594263598604, 'val_accuracy': 0.5952662721893491, 'precision': 0.6748472268467524, 'recall': 0.5952662721893491, 'f1-score': 0.6056253787412047, 'macro_f1-score': 0.3318711481179469, 'balanced_accuracy': 0.3838239926547199, 'mcc': 0.48298170395579904, 'train_loss': 2.3101347325376964}\n",
      "Epoch 2/20\n"
     ]
    },
    {
     "name": "stderr",
     "output_type": "stream",
     "text": [
      "100%|██████████| 771/771 [01:21<00:00,  9.50it/s]\n"
     ]
    },
    {
     "name": "stdout",
     "output_type": "stream",
     "text": [
      "{'val_loss': 1.3538371869977914, 'val_accuracy': 0.6402366863905326, 'precision': 0.6821873447007437, 'recall': 0.6402366863905326, 'f1-score': 0.6396448145679984, 'macro_f1-score': 0.3489931112997134, 'balanced_accuracy': 0.37934885472781416, 'mcc': 0.5270690742604309, 'train_loss': 0.9006989619533994}\n",
      "Epoch 3/20\n"
     ]
    },
    {
     "name": "stderr",
     "output_type": "stream",
     "text": [
      "100%|██████████| 771/771 [01:21<00:00,  9.51it/s]\n",
      "c:\\Users\\user\\AppData\\Local\\Programs\\Python\\Python310\\lib\\site-packages\\sklearn\\metrics\\_classification.py:2524: UserWarning: y_pred contains classes not in y_true\n",
      "  warnings.warn(\"y_pred contains classes not in y_true\")\n"
     ]
    },
    {
     "name": "stdout",
     "output_type": "stream",
     "text": [
      "{'val_loss': 1.492942086930545, 'val_accuracy': 0.6118343195266273, 'precision': 0.6777130656774658, 'recall': 0.6118343195266273, 'f1-score': 0.6198392337622151, 'macro_f1-score': 0.3631293680283371, 'balanced_accuracy': 0.417734638946233, 'mcc': 0.5029563715738888, 'train_loss': 0.8539158845689974}\n",
      "Epoch 4/20\n"
     ]
    },
    {
     "name": "stderr",
     "output_type": "stream",
     "text": [
      "100%|██████████| 771/771 [01:20<00:00,  9.54it/s]\n"
     ]
    },
    {
     "name": "stdout",
     "output_type": "stream",
     "text": [
      "{'val_loss': 1.4790698143671144, 'val_accuracy': 0.6544378698224852, 'precision': 0.7097775162609777, 'recall': 0.6544378698224852, 'f1-score': 0.6647126765718325, 'macro_f1-score': 0.4287895661393293, 'balanced_accuracy': 0.4595452579655619, 'mcc': 0.5644372717337743, 'train_loss': 0.4488113319740453}\n",
      "Epoch 5/20\n"
     ]
    },
    {
     "name": "stderr",
     "output_type": "stream",
     "text": [
      "100%|██████████| 771/771 [01:20<00:00,  9.52it/s]\n"
     ]
    },
    {
     "name": "stdout",
     "output_type": "stream",
     "text": [
      "{'val_loss': 1.5905030375381686, 'val_accuracy': 0.650887573964497, 'precision': 0.6874457172038302, 'recall': 0.650887573964497, 'f1-score': 0.653736920492039, 'macro_f1-score': 0.4328089577255007, 'balanced_accuracy': 0.4517655536879147, 'mcc': 0.554053719728477, 'train_loss': 0.3784334660156228}\n",
      "Epoch 6/20\n"
     ]
    },
    {
     "name": "stderr",
     "output_type": "stream",
     "text": [
      "100%|██████████| 771/771 [01:20<00:00,  9.53it/s]\n"
     ]
    },
    {
     "name": "stdout",
     "output_type": "stream",
     "text": [
      "{'val_loss': 1.5956084396479264, 'val_accuracy': 0.6461538461538462, 'precision': 0.6832970258390142, 'recall': 0.6461538461538462, 'f1-score': 0.6498001290294738, 'macro_f1-score': 0.38605190588504856, 'balanced_accuracy': 0.40675320245547864, 'mcc': 0.5511524529609798, 'train_loss': 0.352458131654205}\n",
      "Epoch 7/20\n"
     ]
    },
    {
     "name": "stderr",
     "output_type": "stream",
     "text": [
      "100%|██████████| 771/771 [01:20<00:00,  9.55it/s]\n"
     ]
    },
    {
     "name": "stdout",
     "output_type": "stream",
     "text": [
      "{'val_loss': 1.6350495421661522, 'val_accuracy': 0.6331360946745562, 'precision': 0.6784295271627558, 'recall': 0.6331360946745562, 'f1-score': 0.639637919566019, 'macro_f1-score': 0.37071337440189467, 'balanced_accuracy': 0.39611325420932836, 'mcc': 0.5368861686275455, 'train_loss': 0.2770577474955068}\n",
      "Epoch 8/20\n"
     ]
    },
    {
     "name": "stderr",
     "output_type": "stream",
     "text": [
      "100%|██████████| 771/771 [01:20<00:00,  9.54it/s]\n"
     ]
    },
    {
     "name": "stdout",
     "output_type": "stream",
     "text": [
      "{'val_loss': 1.681770288719321, 'val_accuracy': 0.6520710059171597, 'precision': 0.6887076330179187, 'recall': 0.6520710059171597, 'f1-score': 0.65604671686863, 'macro_f1-score': 0.43760250344549123, 'balanced_accuracy': 0.4674921318651033, 'mcc': 0.5592942671812285, 'train_loss': 0.29656799567558945}\n",
      "Epoch 9/20\n"
     ]
    },
    {
     "name": "stderr",
     "output_type": "stream",
     "text": [
      "100%|██████████| 771/771 [01:20<00:00,  9.53it/s]\n"
     ]
    },
    {
     "name": "stdout",
     "output_type": "stream",
     "text": [
      "{'val_loss': 1.6933256753210753, 'val_accuracy': 0.659171597633136, 'precision': 0.6726299597671753, 'recall': 0.659171597633136, 'f1-score': 0.652288383262269, 'macro_f1-score': 0.37977785706685513, 'balanced_accuracy': 0.4037354829889622, 'mcc': 0.5579436270451589, 'train_loss': 0.26174790130103137}\n",
      "Epoch 10/20\n"
     ]
    },
    {
     "name": "stderr",
     "output_type": "stream",
     "text": [
      "100%|██████████| 771/771 [01:20<00:00,  9.54it/s]\n"
     ]
    },
    {
     "name": "stdout",
     "output_type": "stream",
     "text": [
      "{'val_loss': 1.7935332352260374, 'val_accuracy': 0.6710059171597633, 'precision': 0.6792452213481396, 'recall': 0.6710059171597633, 'f1-score': 0.6597383268723346, 'macro_f1-score': 0.38297021085041383, 'balanced_accuracy': 0.3792651120723114, 'mcc': 0.565457084408825, 'train_loss': 0.2526238618618489}\n",
      "Epoch 11/20\n"
     ]
    },
    {
     "name": "stderr",
     "output_type": "stream",
     "text": [
      "100%|██████████| 771/771 [01:20<00:00,  9.55it/s]\n"
     ]
    },
    {
     "name": "stdout",
     "output_type": "stream",
     "text": [
      "{'val_loss': 1.790149084801944, 'val_accuracy': 0.6674556213017752, 'precision': 0.7010993052255187, 'recall': 0.6674556213017752, 'f1-score': 0.6635733660142381, 'macro_f1-score': 0.4092584244680869, 'balanced_accuracy': 0.41078162328407386, 'mcc': 0.569143430469061, 'train_loss': 0.25157790294281857}\n",
      "Early stopping.\n",
      "\n",
      " === microsoft/deberta-base + cnn + ros Final 10-fold Cross-Validation Results ===\n",
      "Total time: 5600 seconds\n",
      "Total time: 1 hrs 33 mins 20 secs\n",
      "val_loss: 2.4456\n",
      "val_accuracy: 0.5583\n",
      "precision: 0.4517\n",
      "recall: 0.5583\n",
      "f1-score: 0.4759\n",
      "macro_f1-score: 0.2130\n",
      "balanced_accuracy: 0.2337\n",
      "mcc: 0.2745\n",
      "train_loss: 1.8971\n",
      "▶ Running: microsoft/deberta-base + bilstm + ros\n",
      "tokenizer is microsoft/deberta-base\n",
      "Using device: cuda\n",
      "CUDA Available: True\n",
      "CUDA Device: NVIDIA GeForce RTX 5070 Ti\n",
      "Current GPU Memory Allocated: 0.02 GB\n",
      "Current GPU Memory Cached: 5.13 GB\n",
      "\n",
      "[Fold 1]\n",
      "Label distribution after resampling:\n",
      "  label 0: 2000\n",
      "  label 1: 200\n",
      "  label 2: 200\n",
      "  label 3: 200\n",
      "  label 4: 231\n",
      "  label 5: 200\n",
      "  label 6: 200\n",
      "  label 7: 200\n",
      "  label 8: 200\n",
      "  label 9: 200\n",
      "  label 10: 200\n",
      "  label 11: 200\n",
      "  label 12: 217\n",
      "  label 13: 200\n",
      "  label 14: 200\n",
      "  label 15: 200\n",
      "  label 16: 200\n",
      "  label 17: 260\n",
      "  label 18: 200\n",
      "  label 19: 200\n",
      "  label 20: 200\n",
      "  label 21: 200\n",
      "  label 22: 200\n",
      "  label 23: 200\n",
      "  label 24: 200\n",
      "  label 25: 200\n",
      "  label 26: 200\n",
      "  label 27: 200\n",
      "  label 28: 200\n",
      "  label 29: 200\n",
      "  label 30: 200\n",
      "  label 31: 200\n",
      "  label 32: 200\n",
      "  label 33: 200\n",
      "  label 34: 200\n",
      "  label 35: 200\n",
      "  label 36: 200\n",
      "  label 37: 200\n",
      "  label 38: 200\n",
      "  label 39: 200\n",
      "  label 40: 200\n",
      "  label 41: 200\n",
      "  label 42: 200\n",
      "  label 43: 200\n",
      "  label 44: 200\n",
      "  label 45: 200\n",
      "  label 46: 200\n",
      "  label 47: 595\n",
      "  label 48: 227\n",
      "  label 49: 200\n",
      "model is microsoft/deberta-base bilstm\n"
     ]
    },
    {
     "name": "stderr",
     "output_type": "stream",
     "text": [
      "c:\\Users\\user\\AppData\\Local\\Programs\\Python\\Python310\\lib\\site-packages\\sklearn\\model_selection\\_split.py:805: UserWarning: The least populated class in y has only 7 members, which is less than n_splits=10.\n",
      "  warnings.warn(\n"
     ]
    },
    {
     "name": "stdout",
     "output_type": "stream",
     "text": [
      "Epoch 1/20\n"
     ]
    },
    {
     "name": "stderr",
     "output_type": "stream",
     "text": [
      "100%|██████████| 771/771 [01:24<00:00,  9.10it/s]\n"
     ]
    },
    {
     "name": "stdout",
     "output_type": "stream",
     "text": [
      "{'val_loss': 2.2275224384271874, 'val_accuracy': 0.5295508274231678, 'precision': 0.36528603304420865, 'recall': 0.5295508274231678, 'f1-score': 0.42603786524584103, 'macro_f1-score': 0.04528018225320892, 'balanced_accuracy': 0.07984171392964126, 'mcc': 0.3239750763105405, 'train_loss': 3.2557116122251974}\n",
      "Epoch 2/20\n"
     ]
    },
    {
     "name": "stderr",
     "output_type": "stream",
     "text": [
      "100%|██████████| 771/771 [01:24<00:00,  9.12it/s]\n",
      "c:\\Users\\user\\AppData\\Local\\Programs\\Python\\Python310\\lib\\site-packages\\sklearn\\metrics\\_classification.py:2524: UserWarning: y_pred contains classes not in y_true\n",
      "  warnings.warn(\"y_pred contains classes not in y_true\")\n"
     ]
    },
    {
     "name": "stdout",
     "output_type": "stream",
     "text": [
      "{'val_loss': 2.1432504698915302, 'val_accuracy': 0.5295508274231678, 'precision': 0.40114189495197206, 'recall': 0.5295508274231678, 'f1-score': 0.4417041289961325, 'macro_f1-score': 0.05488977143139567, 'balanced_accuracy': 0.08814226593269592, 'mcc': 0.33698663889164654, 'train_loss': 2.946342625352041}\n",
      "Epoch 3/20\n"
     ]
    },
    {
     "name": "stderr",
     "output_type": "stream",
     "text": [
      "100%|██████████| 771/771 [01:24<00:00,  9.11it/s]\n",
      "c:\\Users\\user\\AppData\\Local\\Programs\\Python\\Python310\\lib\\site-packages\\sklearn\\metrics\\_classification.py:2524: UserWarning: y_pred contains classes not in y_true\n",
      "  warnings.warn(\"y_pred contains classes not in y_true\")\n"
     ]
    },
    {
     "name": "stdout",
     "output_type": "stream",
     "text": [
      "{'val_loss': 2.294754385948181, 'val_accuracy': 0.4373522458628842, 'precision': 0.4271459629204506, 'recall': 0.4373522458628842, 'f1-score': 0.42045575212182335, 'macro_f1-score': 0.042383567320644744, 'balanced_accuracy': 0.07100907407684078, 'mcc': 0.2631172034942187, 'train_loss': 2.72797841181551}\n",
      "Epoch 4/20\n"
     ]
    },
    {
     "name": "stderr",
     "output_type": "stream",
     "text": [
      "100%|██████████| 771/771 [01:24<00:00,  9.11it/s]\n",
      "c:\\Users\\user\\AppData\\Local\\Programs\\Python\\Python310\\lib\\site-packages\\sklearn\\metrics\\_classification.py:2524: UserWarning: y_pred contains classes not in y_true\n",
      "  warnings.warn(\"y_pred contains classes not in y_true\")\n"
     ]
    },
    {
     "name": "stdout",
     "output_type": "stream",
     "text": [
      "{'val_loss': 2.1204419698355332, 'val_accuracy': 0.49645390070921985, 'precision': 0.41392103874840863, 'recall': 0.49645390070921985, 'f1-score': 0.44692840791577254, 'macro_f1-score': 0.056156615568555834, 'balanced_accuracy': 0.10681883818255329, 'mcc': 0.32039355121913005, 'train_loss': 2.5804345317078625}\n",
      "Epoch 5/20\n"
     ]
    },
    {
     "name": "stderr",
     "output_type": "stream",
     "text": [
      "100%|██████████| 771/771 [01:24<00:00,  9.10it/s]\n",
      "c:\\Users\\user\\AppData\\Local\\Programs\\Python\\Python310\\lib\\site-packages\\sklearn\\metrics\\_classification.py:2524: UserWarning: y_pred contains classes not in y_true\n",
      "  warnings.warn(\"y_pred contains classes not in y_true\")\n"
     ]
    },
    {
     "name": "stdout",
     "output_type": "stream",
     "text": [
      "{'val_loss': 2.287495442156522, 'val_accuracy': 0.4728132387706856, 'precision': 0.4319542780859559, 'recall': 0.4728132387706856, 'f1-score': 0.43875999047835995, 'macro_f1-score': 0.04980488480415258, 'balanced_accuracy': 0.07689731019813877, 'mcc': 0.30377640579793885, 'train_loss': 2.663702648592057}\n",
      "Epoch 6/20\n"
     ]
    },
    {
     "name": "stderr",
     "output_type": "stream",
     "text": [
      "100%|██████████| 771/771 [01:24<00:00,  9.13it/s]\n",
      "c:\\Users\\user\\AppData\\Local\\Programs\\Python\\Python310\\lib\\site-packages\\sklearn\\metrics\\_classification.py:2524: UserWarning: y_pred contains classes not in y_true\n",
      "  warnings.warn(\"y_pred contains classes not in y_true\")\n"
     ]
    },
    {
     "name": "stdout",
     "output_type": "stream",
     "text": [
      "{'val_loss': 2.261115422788656, 'val_accuracy': 0.49645390070921985, 'precision': 0.41896579120527055, 'recall': 0.49645390070921985, 'f1-score': 0.44238528361883755, 'macro_f1-score': 0.05785507040522239, 'balanced_accuracy': 0.09802192674930751, 'mcc': 0.3167047963061038, 'train_loss': 2.7967017672559784}\n",
      "Epoch 7/20\n"
     ]
    },
    {
     "name": "stderr",
     "output_type": "stream",
     "text": [
      "100%|██████████| 771/771 [01:24<00:00,  9.10it/s]\n",
      "c:\\Users\\user\\AppData\\Local\\Programs\\Python\\Python310\\lib\\site-packages\\sklearn\\metrics\\_classification.py:2524: UserWarning: y_pred contains classes not in y_true\n",
      "  warnings.warn(\"y_pred contains classes not in y_true\")\n"
     ]
    },
    {
     "name": "stdout",
     "output_type": "stream",
     "text": [
      "{'val_loss': 2.176317772775326, 'val_accuracy': 0.5023640661938534, 'precision': 0.4151928548205144, 'recall': 0.5023640661938534, 'f1-score': 0.4490913410629297, 'macro_f1-score': 0.05010353286094615, 'balanced_accuracy': 0.08893063187689028, 'mcc': 0.33254779166711596, 'train_loss': 2.6640590498883436}\n",
      "Epoch 8/20\n"
     ]
    },
    {
     "name": "stderr",
     "output_type": "stream",
     "text": [
      "100%|██████████| 771/771 [01:24<00:00,  9.11it/s]\n",
      "c:\\Users\\user\\AppData\\Local\\Programs\\Python\\Python310\\lib\\site-packages\\sklearn\\metrics\\_classification.py:2524: UserWarning: y_pred contains classes not in y_true\n",
      "  warnings.warn(\"y_pred contains classes not in y_true\")\n"
     ]
    },
    {
     "name": "stdout",
     "output_type": "stream",
     "text": [
      "{'val_loss': 2.1599047746298448, 'val_accuracy': 0.4728132387706856, 'precision': 0.4359390199082591, 'recall': 0.4728132387706856, 'f1-score': 0.4472225615975393, 'macro_f1-score': 0.049536236529403775, 'balanced_accuracy': 0.08790528892516664, 'mcc': 0.31563480214273215, 'train_loss': 2.465324481482945}\n",
      "Epoch 9/20\n"
     ]
    },
    {
     "name": "stderr",
     "output_type": "stream",
     "text": [
      "100%|██████████| 771/771 [01:24<00:00,  9.11it/s]\n",
      "c:\\Users\\user\\AppData\\Local\\Programs\\Python\\Python310\\lib\\site-packages\\sklearn\\metrics\\_classification.py:2524: UserWarning: y_pred contains classes not in y_true\n",
      "  warnings.warn(\"y_pred contains classes not in y_true\")\n"
     ]
    },
    {
     "name": "stdout",
     "output_type": "stream",
     "text": [
      "{'val_loss': 2.1335781362821473, 'val_accuracy': 0.4929078014184397, 'precision': 0.4194558723716248, 'recall': 0.4929078014184397, 'f1-score': 0.4476239409336121, 'macro_f1-score': 0.04939079674621501, 'balanced_accuracy': 0.07956239946239205, 'mcc': 0.32349410836964965, 'train_loss': 2.3941231806763725}\n",
      "Early stopping.\n",
      "\n",
      "[Fold 2]\n",
      "Label distribution after resampling:\n",
      "  label 0: 2000\n",
      "  label 1: 200\n",
      "  label 2: 200\n",
      "  label 3: 200\n",
      "  label 4: 231\n",
      "  label 5: 200\n",
      "  label 6: 200\n",
      "  label 7: 200\n",
      "  label 8: 200\n",
      "  label 9: 200\n",
      "  label 10: 200\n",
      "  label 11: 200\n",
      "  label 12: 217\n",
      "  label 13: 200\n",
      "  label 14: 200\n",
      "  label 15: 200\n",
      "  label 16: 200\n",
      "  label 17: 260\n",
      "  label 18: 200\n",
      "  label 19: 200\n",
      "  label 20: 200\n",
      "  label 21: 200\n",
      "  label 22: 200\n",
      "  label 23: 200\n",
      "  label 24: 200\n",
      "  label 25: 200\n",
      "  label 26: 200\n",
      "  label 27: 200\n",
      "  label 28: 200\n",
      "  label 29: 200\n",
      "  label 30: 200\n",
      "  label 31: 200\n",
      "  label 32: 200\n",
      "  label 33: 200\n",
      "  label 34: 200\n",
      "  label 35: 200\n",
      "  label 36: 200\n",
      "  label 37: 200\n",
      "  label 38: 200\n",
      "  label 39: 200\n",
      "  label 40: 200\n",
      "  label 41: 200\n",
      "  label 42: 200\n",
      "  label 43: 200\n",
      "  label 44: 200\n",
      "  label 45: 200\n",
      "  label 46: 200\n",
      "  label 47: 595\n",
      "  label 48: 227\n",
      "  label 49: 200\n",
      "model is microsoft/deberta-base bilstm\n",
      "Epoch 1/20\n"
     ]
    },
    {
     "name": "stderr",
     "output_type": "stream",
     "text": [
      "100%|██████████| 771/771 [01:24<00:00,  9.13it/s]\n"
     ]
    },
    {
     "name": "stdout",
     "output_type": "stream",
     "text": [
      "{'val_loss': 2.250810297030323, 'val_accuracy': 0.5342789598108747, 'precision': 0.3480876557150219, 'recall': 0.5342789598108747, 'f1-score': 0.4200107118993121, 'macro_f1-score': 0.03983360603404458, 'balanced_accuracy': 0.07561984425786193, 'mcc': 0.3150238815004451, 'train_loss': 3.268627505667324}\n",
      "Epoch 2/20\n"
     ]
    },
    {
     "name": "stderr",
     "output_type": "stream",
     "text": [
      "100%|██████████| 771/771 [01:24<00:00,  9.12it/s]\n"
     ]
    },
    {
     "name": "stdout",
     "output_type": "stream",
     "text": [
      "{'val_loss': 2.1975124714509495, 'val_accuracy': 0.4929078014184397, 'precision': 0.43097436971500075, 'recall': 0.4929078014184397, 'f1-score': 0.43574338541963475, 'macro_f1-score': 0.04994311056866087, 'balanced_accuracy': 0.08654867523165911, 'mcc': 0.3038632513198087, 'train_loss': 2.778088313287025}\n",
      "Epoch 3/20\n"
     ]
    },
    {
     "name": "stderr",
     "output_type": "stream",
     "text": [
      "100%|██████████| 771/771 [01:24<00:00,  9.10it/s]\n"
     ]
    },
    {
     "name": "stdout",
     "output_type": "stream",
     "text": [
      "{'val_loss': 2.2973098529959626, 'val_accuracy': 0.5543735224586288, 'precision': 0.3485584326709747, 'recall': 0.5543735224586288, 'f1-score': 0.42237913180930015, 'macro_f1-score': 0.06264620213706369, 'balanced_accuracy': 0.08779861690899639, 'mcc': 0.3367538915578081, 'train_loss': 2.786698435840285}\n",
      "Epoch 4/20\n"
     ]
    },
    {
     "name": "stderr",
     "output_type": "stream",
     "text": [
      "100%|██████████| 771/771 [01:24<00:00,  9.12it/s]\n"
     ]
    },
    {
     "name": "stdout",
     "output_type": "stream",
     "text": [
      "{'val_loss': 2.1568681159109437, 'val_accuracy': 0.5023640661938534, 'precision': 0.4336742991644342, 'recall': 0.5023640661938534, 'f1-score': 0.4564577566917796, 'macro_f1-score': 0.07459803110262138, 'balanced_accuracy': 0.11099391593985253, 'mcc': 0.33112116743349945, 'train_loss': 2.5998853363106376}\n",
      "Epoch 5/20\n"
     ]
    },
    {
     "name": "stderr",
     "output_type": "stream",
     "text": [
      "100%|██████████| 771/771 [01:24<00:00,  9.13it/s]\n"
     ]
    },
    {
     "name": "stdout",
     "output_type": "stream",
     "text": [
      "{'val_loss': 2.367442531405755, 'val_accuracy': 0.3640661938534279, 'precision': 0.2809593235592389, 'recall': 0.3640661938534279, 'f1-score': 0.3121728261826112, 'macro_f1-score': 0.036931181092585065, 'balanced_accuracy': 0.06048907123027727, 'mcc': 0.11491378585844746, 'train_loss': 2.6325115798821552}\n",
      "Epoch 6/20\n"
     ]
    },
    {
     "name": "stderr",
     "output_type": "stream",
     "text": [
      "100%|██████████| 771/771 [01:24<00:00,  9.10it/s]\n"
     ]
    },
    {
     "name": "stdout",
     "output_type": "stream",
     "text": [
      "{'val_loss': 2.120425633664401, 'val_accuracy': 0.4787234042553192, 'precision': 0.45207904008248617, 'recall': 0.4787234042553192, 'f1-score': 0.4569985775412097, 'macro_f1-score': 0.0669350027208881, 'balanced_accuracy': 0.09628448244606622, 'mcc': 0.3307765440049121, 'train_loss': 2.3341947775406595}\n",
      "Epoch 7/20\n"
     ]
    },
    {
     "name": "stderr",
     "output_type": "stream",
     "text": [
      "100%|██████████| 771/771 [01:24<00:00,  9.11it/s]\n"
     ]
    },
    {
     "name": "stdout",
     "output_type": "stream",
     "text": [
      "{'val_loss': 2.231239042192135, 'val_accuracy': 0.4231678486997636, 'precision': 0.42300845071038223, 'recall': 0.4231678486997636, 'f1-score': 0.41466088461271094, 'macro_f1-score': 0.044254035091999426, 'balanced_accuracy': 0.08533094766763108, 'mcc': 0.27367468194908506, 'train_loss': 2.1987869436484213}\n",
      "Early stopping.\n",
      "\n",
      "[Fold 3]\n",
      "Label distribution after resampling:\n",
      "  label 0: 2000\n",
      "  label 1: 200\n",
      "  label 2: 200\n",
      "  label 3: 200\n",
      "  label 4: 231\n",
      "  label 5: 200\n",
      "  label 6: 200\n",
      "  label 7: 200\n",
      "  label 8: 200\n",
      "  label 9: 200\n",
      "  label 10: 200\n",
      "  label 11: 200\n",
      "  label 12: 217\n",
      "  label 13: 200\n",
      "  label 14: 200\n",
      "  label 15: 200\n",
      "  label 16: 200\n",
      "  label 17: 260\n",
      "  label 18: 200\n",
      "  label 19: 200\n",
      "  label 20: 200\n",
      "  label 21: 200\n",
      "  label 22: 200\n",
      "  label 23: 200\n",
      "  label 24: 200\n",
      "  label 25: 200\n",
      "  label 26: 200\n",
      "  label 27: 200\n",
      "  label 28: 200\n",
      "  label 29: 200\n",
      "  label 30: 200\n",
      "  label 31: 200\n",
      "  label 32: 200\n",
      "  label 33: 200\n",
      "  label 34: 200\n",
      "  label 35: 200\n",
      "  label 36: 200\n",
      "  label 37: 200\n",
      "  label 38: 200\n",
      "  label 39: 200\n",
      "  label 40: 200\n",
      "  label 41: 200\n",
      "  label 42: 200\n",
      "  label 43: 200\n",
      "  label 44: 200\n",
      "  label 45: 200\n",
      "  label 46: 200\n",
      "  label 47: 595\n",
      "  label 48: 227\n",
      "  label 49: 200\n",
      "model is microsoft/deberta-base bilstm\n",
      "Epoch 1/20\n"
     ]
    },
    {
     "name": "stderr",
     "output_type": "stream",
     "text": [
      "100%|██████████| 771/771 [01:24<00:00,  9.12it/s]\n"
     ]
    },
    {
     "name": "stdout",
     "output_type": "stream",
     "text": [
      "{'val_loss': 2.357120048325017, 'val_accuracy': 0.46926713947990545, 'precision': 0.39648628802410457, 'recall': 0.46926713947990545, 'f1-score': 0.4240881519642768, 'macro_f1-score': 0.05820539671132557, 'balanced_accuracy': 0.10486842519809077, 'mcc': 0.2857571917449635, 'train_loss': 3.1692085816547872}\n",
      "Epoch 2/20\n"
     ]
    },
    {
     "name": "stderr",
     "output_type": "stream",
     "text": [
      "100%|██████████| 771/771 [01:24<00:00,  9.09it/s]\n"
     ]
    },
    {
     "name": "stdout",
     "output_type": "stream",
     "text": [
      "{'val_loss': 2.119989530095514, 'val_accuracy': 0.5200945626477541, 'precision': 0.41754302405770005, 'recall': 0.5200945626477541, 'f1-score': 0.4571337999143871, 'macro_f1-score': 0.08517231791221849, 'balanced_accuracy': 0.14920532114259372, 'mcc': 0.33161193032356034, 'train_loss': 2.6418751999252654}\n",
      "Epoch 3/20\n"
     ]
    },
    {
     "name": "stderr",
     "output_type": "stream",
     "text": [
      "100%|██████████| 771/771 [01:24<00:00,  9.11it/s]\n"
     ]
    },
    {
     "name": "stdout",
     "output_type": "stream",
     "text": [
      "{'val_loss': 1.9537636379026018, 'val_accuracy': 0.5059101654846335, 'precision': 0.45182902834868155, 'recall': 0.5059101654846335, 'f1-score': 0.46765934415536614, 'macro_f1-score': 0.1020908280593352, 'balanced_accuracy': 0.16822754636149195, 'mcc': 0.3522706082962137, 'train_loss': 2.2485543583772216}\n",
      "Epoch 4/20\n"
     ]
    },
    {
     "name": "stderr",
     "output_type": "stream",
     "text": [
      "100%|██████████| 771/771 [01:24<00:00,  9.10it/s]\n"
     ]
    },
    {
     "name": "stdout",
     "output_type": "stream",
     "text": [
      "{'val_loss': 1.8359956426440545, 'val_accuracy': 0.5200945626477541, 'precision': 0.5169607423874151, 'recall': 0.5200945626477541, 'f1-score': 0.5073633469722705, 'macro_f1-score': 0.17575713833005185, 'balanced_accuracy': 0.22509952860247437, 'mcc': 0.3832817836337289, 'train_loss': 1.8231952643425393}\n",
      "Epoch 5/20\n"
     ]
    },
    {
     "name": "stderr",
     "output_type": "stream",
     "text": [
      "100%|██████████| 771/771 [01:24<00:00,  9.09it/s]\n"
     ]
    },
    {
     "name": "stdout",
     "output_type": "stream",
     "text": [
      "{'val_loss': 1.7550382917782046, 'val_accuracy': 0.5425531914893617, 'precision': 0.5551540643298428, 'recall': 0.5425531914893617, 'f1-score': 0.5336563173413529, 'macro_f1-score': 0.21963715381434462, 'balanced_accuracy': 0.27497733760877063, 'mcc': 0.4151997269977649, 'train_loss': 1.5371875167666087}\n",
      "Epoch 6/20\n"
     ]
    },
    {
     "name": "stderr",
     "output_type": "stream",
     "text": [
      "100%|██████████| 771/771 [01:24<00:00,  9.08it/s]\n"
     ]
    },
    {
     "name": "stdout",
     "output_type": "stream",
     "text": [
      "{'val_loss': 1.6591384050981053, 'val_accuracy': 0.5839243498817966, 'precision': 0.577737858724963, 'recall': 0.5839243498817966, 'f1-score': 0.5642188204243858, 'macro_f1-score': 0.2434287345368541, 'balanced_accuracy': 0.2844295936643883, 'mcc': 0.460129831168798, 'train_loss': 1.31778183552387}\n",
      "Epoch 7/20\n"
     ]
    },
    {
     "name": "stderr",
     "output_type": "stream",
     "text": [
      "100%|██████████| 771/771 [01:24<00:00,  9.08it/s]\n"
     ]
    },
    {
     "name": "stdout",
     "output_type": "stream",
     "text": [
      "{'val_loss': 1.6304432693517432, 'val_accuracy': 0.5910165484633569, 'precision': 0.6384262481421747, 'recall': 0.5910165484633569, 'f1-score': 0.5775545319601744, 'macro_f1-score': 0.28127288719401844, 'balanced_accuracy': 0.31795618627892064, 'mcc': 0.472163537646945, 'train_loss': 1.2002817107468418}\n",
      "Epoch 8/20\n"
     ]
    },
    {
     "name": "stderr",
     "output_type": "stream",
     "text": [
      "100%|██████████| 771/771 [01:24<00:00,  9.08it/s]\n"
     ]
    },
    {
     "name": "stdout",
     "output_type": "stream",
     "text": [
      "{'val_loss': 1.6375824820320561, 'val_accuracy': 0.5874704491725768, 'precision': 0.6147450852505306, 'recall': 0.5874704491725768, 'f1-score': 0.5739639921197951, 'macro_f1-score': 0.30000139890301625, 'balanced_accuracy': 0.33503092599847056, 'mcc': 0.4634311071975756, 'train_loss': 1.027655326090898}\n",
      "Epoch 9/20\n"
     ]
    },
    {
     "name": "stderr",
     "output_type": "stream",
     "text": [
      "100%|██████████| 771/771 [01:24<00:00,  9.10it/s]\n"
     ]
    },
    {
     "name": "stdout",
     "output_type": "stream",
     "text": [
      "{'val_loss': 1.8021857153694585, 'val_accuracy': 0.5709219858156028, 'precision': 0.6077023636024164, 'recall': 0.5709219858156028, 'f1-score': 0.56830958263296, 'macro_f1-score': 0.28853285948475665, 'balanced_accuracy': 0.36382152047109595, 'mcc': 0.46383566602734994, 'train_loss': 0.9252260294676445}\n",
      "Epoch 10/20\n"
     ]
    },
    {
     "name": "stderr",
     "output_type": "stream",
     "text": [
      "100%|██████████| 771/771 [01:24<00:00,  9.08it/s]\n"
     ]
    },
    {
     "name": "stdout",
     "output_type": "stream",
     "text": [
      "{'val_loss': 1.7355809414161827, 'val_accuracy': 0.574468085106383, 'precision': 0.6209902310225668, 'recall': 0.574468085106383, 'f1-score': 0.5732642484985976, 'macro_f1-score': 0.28209586723667057, 'balanced_accuracy': 0.3003957261418186, 'mcc': 0.4609221399908077, 'train_loss': 0.8467072301415}\n",
      "Epoch 11/20\n"
     ]
    },
    {
     "name": "stderr",
     "output_type": "stream",
     "text": [
      "100%|██████████| 771/771 [01:24<00:00,  9.09it/s]\n"
     ]
    },
    {
     "name": "stdout",
     "output_type": "stream",
     "text": [
      "{'val_loss': 1.6890919332234364, 'val_accuracy': 0.6028368794326241, 'precision': 0.6323139629526746, 'recall': 0.6028368794326241, 'f1-score': 0.6051753185595788, 'macro_f1-score': 0.3263400501675815, 'balanced_accuracy': 0.3621146308417319, 'mcc': 0.49477989276357737, 'train_loss': 0.7474348061511489}\n",
      "Epoch 12/20\n"
     ]
    },
    {
     "name": "stderr",
     "output_type": "stream",
     "text": [
      "100%|██████████| 771/771 [01:24<00:00,  9.09it/s]\n"
     ]
    },
    {
     "name": "stdout",
     "output_type": "stream",
     "text": [
      "{'val_loss': 1.7908544619128388, 'val_accuracy': 0.58274231678487, 'precision': 0.6192347018554222, 'recall': 0.58274231678487, 'f1-score': 0.589467015957271, 'macro_f1-score': 0.30736760367337174, 'balanced_accuracy': 0.34643196510645824, 'mcc': 0.4702797554628113, 'train_loss': 0.7236818203898255}\n",
      "Epoch 13/20\n"
     ]
    },
    {
     "name": "stderr",
     "output_type": "stream",
     "text": [
      "100%|██████████| 771/771 [01:24<00:00,  9.08it/s]\n"
     ]
    },
    {
     "name": "stdout",
     "output_type": "stream",
     "text": [
      "{'val_loss': 1.8918195153182407, 'val_accuracy': 0.5591016548463357, 'precision': 0.6060291927520808, 'recall': 0.5591016548463357, 'f1-score': 0.5609525417175789, 'macro_f1-score': 0.28086859179261003, 'balanced_accuracy': 0.3220729722769577, 'mcc': 0.4603918053970552, 'train_loss': 0.6092883076823176}\n",
      "Epoch 14/20\n"
     ]
    },
    {
     "name": "stderr",
     "output_type": "stream",
     "text": [
      "100%|██████████| 771/771 [01:24<00:00,  9.10it/s]\n"
     ]
    },
    {
     "name": "stdout",
     "output_type": "stream",
     "text": [
      "{'val_loss': 1.8455834231286679, 'val_accuracy': 0.5791962174940898, 'precision': 0.6181016263581262, 'recall': 0.5791962174940898, 'f1-score': 0.5873074434076716, 'macro_f1-score': 0.30590478328616677, 'balanced_accuracy': 0.3408517468245765, 'mcc': 0.4679933176466443, 'train_loss': 0.5756151548087907}\n",
      "Early stopping.\n",
      "\n",
      "[Fold 4]\n",
      "Label distribution after resampling:\n",
      "  label 0: 2000\n",
      "  label 1: 200\n",
      "  label 2: 200\n",
      "  label 3: 200\n",
      "  label 4: 231\n",
      "  label 5: 200\n",
      "  label 6: 200\n",
      "  label 7: 200\n",
      "  label 8: 200\n",
      "  label 9: 200\n",
      "  label 10: 200\n",
      "  label 11: 200\n",
      "  label 12: 217\n",
      "  label 13: 200\n",
      "  label 14: 200\n",
      "  label 15: 200\n",
      "  label 16: 200\n",
      "  label 17: 260\n",
      "  label 18: 200\n",
      "  label 19: 200\n",
      "  label 20: 200\n",
      "  label 21: 200\n",
      "  label 22: 200\n",
      "  label 23: 200\n",
      "  label 24: 200\n",
      "  label 25: 200\n",
      "  label 26: 200\n",
      "  label 27: 200\n",
      "  label 28: 200\n",
      "  label 29: 200\n",
      "  label 30: 200\n",
      "  label 31: 200\n",
      "  label 32: 200\n",
      "  label 33: 200\n",
      "  label 34: 200\n",
      "  label 35: 200\n",
      "  label 36: 200\n",
      "  label 37: 200\n",
      "  label 38: 200\n",
      "  label 39: 200\n",
      "  label 40: 200\n",
      "  label 41: 200\n",
      "  label 42: 200\n",
      "  label 43: 200\n",
      "  label 44: 200\n",
      "  label 45: 200\n",
      "  label 46: 200\n",
      "  label 47: 595\n",
      "  label 48: 227\n",
      "  label 49: 200\n",
      "model is microsoft/deberta-base bilstm\n",
      "Epoch 1/20\n"
     ]
    },
    {
     "name": "stderr",
     "output_type": "stream",
     "text": [
      "100%|██████████| 771/771 [01:24<00:00,  9.09it/s]\n"
     ]
    },
    {
     "name": "stdout",
     "output_type": "stream",
     "text": [
      "{'val_loss': 2.261483370133166, 'val_accuracy': 0.5200945626477541, 'precision': 0.362832099935076, 'recall': 0.5200945626477541, 'f1-score': 0.42312225968538386, 'macro_f1-score': 0.04791943878279507, 'balanced_accuracy': 0.07680921588086725, 'mcc': 0.29859531033657005, 'train_loss': 3.271074078580903}\n",
      "Epoch 2/20\n"
     ]
    },
    {
     "name": "stderr",
     "output_type": "stream",
     "text": [
      "100%|██████████| 771/771 [01:24<00:00,  9.09it/s]\n"
     ]
    },
    {
     "name": "stdout",
     "output_type": "stream",
     "text": [
      "{'val_loss': 2.2145392264959947, 'val_accuracy': 0.48936170212765956, 'precision': 0.4336211183056017, 'recall': 0.48936170212765956, 'f1-score': 0.4466630555707755, 'macro_f1-score': 0.08770352647990055, 'balanced_accuracy': 0.1356102718398681, 'mcc': 0.3117233756879033, 'train_loss': 2.7343167117597527}\n",
      "Epoch 3/20\n"
     ]
    },
    {
     "name": "stderr",
     "output_type": "stream",
     "text": [
      "100%|██████████| 771/771 [01:24<00:00,  9.08it/s]\n"
     ]
    },
    {
     "name": "stdout",
     "output_type": "stream",
     "text": [
      "{'val_loss': 1.9718361463186875, 'val_accuracy': 0.5189125295508275, 'precision': 0.4520252371039482, 'recall': 0.5189125295508275, 'f1-score': 0.47409219533882946, 'macro_f1-score': 0.12299025359351373, 'balanced_accuracy': 0.17241902413995638, 'mcc': 0.35812965240737016, 'train_loss': 2.3230046776018254}\n",
      "Epoch 4/20\n"
     ]
    },
    {
     "name": "stderr",
     "output_type": "stream",
     "text": [
      "100%|██████████| 771/771 [01:24<00:00,  9.08it/s]\n"
     ]
    },
    {
     "name": "stdout",
     "output_type": "stream",
     "text": [
      "{'val_loss': 2.0951686265333644, 'val_accuracy': 0.42789598108747046, 'precision': 0.5297153239483603, 'recall': 0.42789598108747046, 'f1-score': 0.4517080701646115, 'macro_f1-score': 0.13463442029367637, 'balanced_accuracy': 0.19644581333682012, 'mcc': 0.2933045791052947, 'train_loss': 2.044294651998775}\n",
      "Epoch 5/20\n"
     ]
    },
    {
     "name": "stderr",
     "output_type": "stream",
     "text": [
      "100%|██████████| 771/771 [01:24<00:00,  9.09it/s]\n"
     ]
    },
    {
     "name": "stdout",
     "output_type": "stream",
     "text": [
      "{'val_loss': 1.8232342398391579, 'val_accuracy': 0.5260047281323877, 'precision': 0.552114266351903, 'recall': 0.5260047281323877, 'f1-score': 0.5145142688524661, 'macro_f1-score': 0.1978716818373908, 'balanced_accuracy': 0.2654347780773877, 'mcc': 0.3944609650501865, 'train_loss': 1.7902716633256153}\n",
      "Epoch 6/20\n"
     ]
    },
    {
     "name": "stderr",
     "output_type": "stream",
     "text": [
      "100%|██████████| 771/771 [01:24<00:00,  9.07it/s]\n"
     ]
    },
    {
     "name": "stdout",
     "output_type": "stream",
     "text": [
      "{'val_loss': 1.892479605269882, 'val_accuracy': 0.5094562647754137, 'precision': 0.527397038990538, 'recall': 0.5094562647754137, 'f1-score': 0.5056531625960223, 'macro_f1-score': 0.18982501449387507, 'balanced_accuracy': 0.21577322513832647, 'mcc': 0.3822759193717676, 'train_loss': 1.4720738166423777}\n",
      "Epoch 7/20\n"
     ]
    },
    {
     "name": "stderr",
     "output_type": "stream",
     "text": [
      "100%|██████████| 771/771 [01:24<00:00,  9.08it/s]\n"
     ]
    },
    {
     "name": "stdout",
     "output_type": "stream",
     "text": [
      "{'val_loss': 1.7212786145930021, 'val_accuracy': 0.5650118203309693, 'precision': 0.5315059227935008, 'recall': 0.5650118203309693, 'f1-score': 0.5412078814495628, 'macro_f1-score': 0.24123756574730204, 'balanced_accuracy': 0.27717659335793104, 'mcc': 0.4299699719520811, 'train_loss': 1.3278859680574073}\n",
      "Epoch 8/20\n"
     ]
    },
    {
     "name": "stderr",
     "output_type": "stream",
     "text": [
      "100%|██████████| 771/771 [01:24<00:00,  9.08it/s]\n"
     ]
    },
    {
     "name": "stdout",
     "output_type": "stream",
     "text": [
      "{'val_loss': 1.8209654002819422, 'val_accuracy': 0.5531914893617021, 'precision': 0.5584454196251772, 'recall': 0.5531914893617021, 'f1-score': 0.5486097795454151, 'macro_f1-score': 0.28014245224495, 'balanced_accuracy': 0.3189467465186578, 'mcc': 0.4285266434619085, 'train_loss': 1.134027204431603}\n",
      "Epoch 9/20\n"
     ]
    },
    {
     "name": "stderr",
     "output_type": "stream",
     "text": [
      "100%|██████████| 771/771 [01:24<00:00,  9.10it/s]\n"
     ]
    },
    {
     "name": "stdout",
     "output_type": "stream",
     "text": [
      "{'val_loss': 1.8647352861908246, 'val_accuracy': 0.5295508274231678, 'precision': 0.555131939434999, 'recall': 0.5295508274231678, 'f1-score': 0.5331953151082091, 'macro_f1-score': 0.2683157084955511, 'balanced_accuracy': 0.30389024574070495, 'mcc': 0.4088281413480084, 'train_loss': 1.0052777399271533}\n",
      "Epoch 10/20\n"
     ]
    },
    {
     "name": "stderr",
     "output_type": "stream",
     "text": [
      "100%|██████████| 771/771 [01:24<00:00,  9.08it/s]\n"
     ]
    },
    {
     "name": "stdout",
     "output_type": "stream",
     "text": [
      "{'val_loss': 1.9613457378351464, 'val_accuracy': 0.4940898345153664, 'precision': 0.5511838875599447, 'recall': 0.4940898345153664, 'f1-score': 0.5109166997957069, 'macro_f1-score': 0.2192498109331818, 'balanced_accuracy': 0.25327705366121583, 'mcc': 0.38047122530556676, 'train_loss': 0.9346337812999806}\n",
      "Epoch 11/20\n"
     ]
    },
    {
     "name": "stderr",
     "output_type": "stream",
     "text": [
      "100%|██████████| 771/771 [01:25<00:00,  9.07it/s]\n"
     ]
    },
    {
     "name": "stdout",
     "output_type": "stream",
     "text": [
      "{'val_loss': 1.9393181992026995, 'val_accuracy': 0.5484633569739953, 'precision': 0.5362011569126711, 'recall': 0.5484633569739953, 'f1-score': 0.5333008852385611, 'macro_f1-score': 0.23021778705628482, 'balanced_accuracy': 0.272375030137463, 'mcc': 0.41550197303856634, 'train_loss': 0.8624029651419507}\n",
      "Early stopping.\n",
      "\n",
      "[Fold 5]\n",
      "Label distribution after resampling:\n",
      "  label 0: 2000\n",
      "  label 1: 200\n",
      "  label 2: 200\n",
      "  label 3: 200\n",
      "  label 4: 231\n",
      "  label 5: 200\n",
      "  label 6: 200\n",
      "  label 7: 200\n",
      "  label 8: 200\n",
      "  label 9: 200\n",
      "  label 10: 200\n",
      "  label 11: 200\n",
      "  label 12: 217\n",
      "  label 13: 200\n",
      "  label 14: 200\n",
      "  label 15: 200\n",
      "  label 16: 200\n",
      "  label 17: 260\n",
      "  label 18: 200\n",
      "  label 19: 200\n",
      "  label 20: 200\n",
      "  label 21: 200\n",
      "  label 22: 200\n",
      "  label 23: 200\n",
      "  label 24: 200\n",
      "  label 25: 200\n",
      "  label 26: 200\n",
      "  label 27: 200\n",
      "  label 28: 200\n",
      "  label 29: 200\n",
      "  label 30: 200\n",
      "  label 31: 200\n",
      "  label 32: 200\n",
      "  label 33: 200\n",
      "  label 34: 200\n",
      "  label 35: 200\n",
      "  label 36: 200\n",
      "  label 37: 200\n",
      "  label 38: 200\n",
      "  label 39: 200\n",
      "  label 40: 200\n",
      "  label 41: 200\n",
      "  label 42: 200\n",
      "  label 43: 200\n",
      "  label 44: 200\n",
      "  label 45: 200\n",
      "  label 46: 200\n",
      "  label 47: 595\n",
      "  label 48: 227\n",
      "  label 49: 200\n",
      "model is microsoft/deberta-base bilstm\n",
      "Epoch 1/20\n"
     ]
    },
    {
     "name": "stderr",
     "output_type": "stream",
     "text": [
      "100%|██████████| 771/771 [01:25<00:00,  9.07it/s]\n"
     ]
    },
    {
     "name": "stdout",
     "output_type": "stream",
     "text": [
      "{'val_loss': 2.143354550847467, 'val_accuracy': 0.5301775147928994, 'precision': 0.3917172802955406, 'recall': 0.5301775147928994, 'f1-score': 0.445371731208819, 'macro_f1-score': 0.06638403713114222, 'balanced_accuracy': 0.11443138761891475, 'mcc': 0.33709936412863434, 'train_loss': 3.2416450213520136}\n",
      "Epoch 2/20\n"
     ]
    },
    {
     "name": "stderr",
     "output_type": "stream",
     "text": [
      "100%|██████████| 771/771 [01:24<00:00,  9.11it/s]\n"
     ]
    },
    {
     "name": "stdout",
     "output_type": "stream",
     "text": [
      "{'val_loss': 1.9868646590214856, 'val_accuracy': 0.4863905325443787, 'precision': 0.46064984060448083, 'recall': 0.4863905325443787, 'f1-score': 0.4567888359721814, 'macro_f1-score': 0.07409952096833726, 'balanced_accuracy': 0.14547156179180848, 'mcc': 0.33139819507234275, 'train_loss': 2.580225575758789}\n",
      "Epoch 3/20\n"
     ]
    },
    {
     "name": "stderr",
     "output_type": "stream",
     "text": [
      "100%|██████████| 771/771 [01:24<00:00,  9.08it/s]\n"
     ]
    },
    {
     "name": "stdout",
     "output_type": "stream",
     "text": [
      "{'val_loss': 1.888916071855797, 'val_accuracy': 0.5372781065088758, 'precision': 0.5110410415513821, 'recall': 0.5372781065088758, 'f1-score': 0.4976776099057454, 'macro_f1-score': 0.14849651785769125, 'balanced_accuracy': 0.19794141740884552, 'mcc': 0.38833431609840546, 'train_loss': 2.218733193345571}\n",
      "Epoch 4/20\n"
     ]
    },
    {
     "name": "stderr",
     "output_type": "stream",
     "text": [
      "100%|██████████| 771/771 [01:24<00:00,  9.08it/s]\n"
     ]
    },
    {
     "name": "stdout",
     "output_type": "stream",
     "text": [
      "{'val_loss': 1.8416712351565092, 'val_accuracy': 0.5183431952662721, 'precision': 0.5353798214567534, 'recall': 0.5183431952662721, 'f1-score': 0.5014776623058493, 'macro_f1-score': 0.17942526142675821, 'balanced_accuracy': 0.2345207695881716, 'mcc': 0.38345201640645304, 'train_loss': 1.9368310137790774}\n",
      "Epoch 5/20\n"
     ]
    },
    {
     "name": "stderr",
     "output_type": "stream",
     "text": [
      "100%|██████████| 771/771 [01:24<00:00,  9.09it/s]\n"
     ]
    },
    {
     "name": "stdout",
     "output_type": "stream",
     "text": [
      "{'val_loss': 1.795303614634388, 'val_accuracy': 0.5325443786982249, 'precision': 0.5617449963944036, 'recall': 0.5325443786982249, 'f1-score': 0.5262855380518897, 'macro_f1-score': 0.23462721037314874, 'balanced_accuracy': 0.3404395685719841, 'mcc': 0.41970876792109485, 'train_loss': 1.587970615979453}\n",
      "Epoch 6/20\n"
     ]
    },
    {
     "name": "stderr",
     "output_type": "stream",
     "text": [
      "100%|██████████| 771/771 [01:24<00:00,  9.10it/s]\n"
     ]
    },
    {
     "name": "stdout",
     "output_type": "stream",
     "text": [
      "{'val_loss': 1.6867231108107656, 'val_accuracy': 0.5538461538461539, 'precision': 0.5453123174123847, 'recall': 0.5538461538461539, 'f1-score': 0.5326488487880308, 'macro_f1-score': 0.23542526752561824, 'balanced_accuracy': 0.29457976352955945, 'mcc': 0.4287553767272517, 'train_loss': 1.331950635684294}\n",
      "Epoch 7/20\n"
     ]
    },
    {
     "name": "stderr",
     "output_type": "stream",
     "text": [
      "100%|██████████| 771/771 [01:25<00:00,  9.07it/s]\n"
     ]
    },
    {
     "name": "stdout",
     "output_type": "stream",
     "text": [
      "{'val_loss': 1.6572974166780148, 'val_accuracy': 0.5763313609467455, 'precision': 0.5690719684975108, 'recall': 0.5763313609467455, 'f1-score': 0.5592966918780025, 'macro_f1-score': 0.2623140826261413, 'balanced_accuracy': 0.3015120602107486, 'mcc': 0.4586380281908363, 'train_loss': 1.115604403843057}\n",
      "Epoch 8/20\n"
     ]
    },
    {
     "name": "stderr",
     "output_type": "stream",
     "text": [
      "100%|██████████| 771/771 [01:25<00:00,  9.06it/s]\n"
     ]
    },
    {
     "name": "stdout",
     "output_type": "stream",
     "text": [
      "{'val_loss': 1.661238650106034, 'val_accuracy': 0.5834319526627219, 'precision': 0.5765538839482978, 'recall': 0.5834319526627219, 'f1-score': 0.5669633381563914, 'macro_f1-score': 0.2710795374037655, 'balanced_accuracy': 0.31624442263007363, 'mcc': 0.4579631856927103, 'train_loss': 0.9853166102899188}\n",
      "Epoch 9/20\n"
     ]
    },
    {
     "name": "stderr",
     "output_type": "stream",
     "text": [
      "100%|██████████| 771/771 [01:24<00:00,  9.10it/s]\n"
     ]
    },
    {
     "name": "stdout",
     "output_type": "stream",
     "text": [
      "{'val_loss': 1.7113686012771894, 'val_accuracy': 0.5715976331360947, 'precision': 0.5970609603689407, 'recall': 0.5715976331360947, 'f1-score': 0.5688257004417205, 'macro_f1-score': 0.2842516500554838, 'balanced_accuracy': 0.3131154768188469, 'mcc': 0.4543892809613767, 'train_loss': 0.8597494428530432}\n",
      "Epoch 10/20\n"
     ]
    },
    {
     "name": "stderr",
     "output_type": "stream",
     "text": [
      "100%|██████████| 771/771 [01:24<00:00,  9.08it/s]\n"
     ]
    },
    {
     "name": "stdout",
     "output_type": "stream",
     "text": [
      "{'val_loss': 1.7906528756303608, 'val_accuracy': 0.5644970414201184, 'precision': 0.5554599991531094, 'recall': 0.5644970414201184, 'f1-score': 0.5447349277875068, 'macro_f1-score': 0.25643770669481003, 'balanced_accuracy': 0.2927034968669729, 'mcc': 0.43570531697269144, 'train_loss': 0.8037133532855297}\n",
      "Epoch 11/20\n"
     ]
    },
    {
     "name": "stderr",
     "output_type": "stream",
     "text": [
      "100%|██████████| 771/771 [01:24<00:00,  9.09it/s]\n"
     ]
    },
    {
     "name": "stdout",
     "output_type": "stream",
     "text": [
      "{'val_loss': 1.7117027629096553, 'val_accuracy': 0.58698224852071, 'precision': 0.5902591039312237, 'recall': 0.58698224852071, 'f1-score': 0.5813620626782025, 'macro_f1-score': 0.2990602209014458, 'balanced_accuracy': 0.3225633603972873, 'mcc': 0.46385102648671894, 'train_loss': 0.7864355585222578}\n",
      "Epoch 12/20\n"
     ]
    },
    {
     "name": "stderr",
     "output_type": "stream",
     "text": [
      "100%|██████████| 771/771 [01:25<00:00,  9.07it/s]\n"
     ]
    },
    {
     "name": "stdout",
     "output_type": "stream",
     "text": [
      "{'val_loss': 1.8388213717712547, 'val_accuracy': 0.5846153846153846, 'precision': 0.6146472112855382, 'recall': 0.5846153846153846, 'f1-score': 0.5797645235764843, 'macro_f1-score': 0.32477561945132843, 'balanced_accuracy': 0.3534026223195336, 'mcc': 0.46947372869916154, 'train_loss': 0.6742726281797453}\n",
      "Epoch 13/20\n"
     ]
    },
    {
     "name": "stderr",
     "output_type": "stream",
     "text": [
      "100%|██████████| 771/771 [01:24<00:00,  9.10it/s]\n"
     ]
    },
    {
     "name": "stdout",
     "output_type": "stream",
     "text": [
      "{'val_loss': 1.727713943652387, 'val_accuracy': 0.6082840236686391, 'precision': 0.6153953696709343, 'recall': 0.6082840236686391, 'f1-score': 0.6015026294375109, 'macro_f1-score': 0.32763251576794333, 'balanced_accuracy': 0.3594681546514519, 'mcc': 0.503106042397281, 'train_loss': 0.5871046796566705}\n",
      "Epoch 14/20\n"
     ]
    },
    {
     "name": "stderr",
     "output_type": "stream",
     "text": [
      "100%|██████████| 771/771 [01:24<00:00,  9.08it/s]\n"
     ]
    },
    {
     "name": "stdout",
     "output_type": "stream",
     "text": [
      "{'val_loss': 1.8122765815482949, 'val_accuracy': 0.5881656804733728, 'precision': 0.6047812857087361, 'recall': 0.5881656804733728, 'f1-score': 0.5795903124565919, 'macro_f1-score': 0.30522175815047065, 'balanced_accuracy': 0.33949776041343827, 'mcc': 0.47574741305558177, 'train_loss': 0.5322947137386341}\n",
      "Epoch 15/20\n"
     ]
    },
    {
     "name": "stderr",
     "output_type": "stream",
     "text": [
      "100%|██████████| 771/771 [01:24<00:00,  9.08it/s]\n"
     ]
    },
    {
     "name": "stdout",
     "output_type": "stream",
     "text": [
      "{'val_loss': 1.811551755329348, 'val_accuracy': 0.6047337278106509, 'precision': 0.6054082305610251, 'recall': 0.6047337278106509, 'f1-score': 0.5968432563098138, 'macro_f1-score': 0.32088973706625185, 'balanced_accuracy': 0.33197420202388495, 'mcc': 0.49073727458448063, 'train_loss': 0.48043503056143816}\n",
      "Epoch 16/20\n"
     ]
    },
    {
     "name": "stderr",
     "output_type": "stream",
     "text": [
      "100%|██████████| 771/771 [01:24<00:00,  9.07it/s]\n"
     ]
    },
    {
     "name": "stdout",
     "output_type": "stream",
     "text": [
      "{'val_loss': 1.872598464758891, 'val_accuracy': 0.5822485207100592, 'precision': 0.6327358874899025, 'recall': 0.5822485207100592, 'f1-score': 0.5896654853813096, 'macro_f1-score': 0.3246467298456544, 'balanced_accuracy': 0.37344632424622, 'mcc': 0.4841636546742536, 'train_loss': 0.45730237541514923}\n",
      "Early stopping.\n",
      "\n",
      "[Fold 6]\n",
      "Label distribution after resampling:\n",
      "  label 0: 2000\n",
      "  label 1: 200\n",
      "  label 2: 200\n",
      "  label 3: 200\n",
      "  label 4: 231\n",
      "  label 5: 200\n",
      "  label 6: 200\n",
      "  label 7: 200\n",
      "  label 8: 200\n",
      "  label 9: 200\n",
      "  label 10: 200\n",
      "  label 11: 200\n",
      "  label 12: 217\n",
      "  label 13: 200\n",
      "  label 14: 200\n",
      "  label 15: 200\n",
      "  label 16: 200\n",
      "  label 17: 260\n",
      "  label 18: 200\n",
      "  label 19: 200\n",
      "  label 20: 200\n",
      "  label 21: 200\n",
      "  label 22: 200\n",
      "  label 23: 200\n",
      "  label 24: 200\n",
      "  label 25: 200\n",
      "  label 26: 200\n",
      "  label 27: 200\n",
      "  label 28: 200\n",
      "  label 29: 200\n",
      "  label 30: 200\n",
      "  label 31: 200\n",
      "  label 32: 200\n",
      "  label 33: 200\n",
      "  label 34: 200\n",
      "  label 35: 200\n",
      "  label 36: 200\n",
      "  label 37: 200\n",
      "  label 38: 200\n",
      "  label 39: 200\n",
      "  label 40: 200\n",
      "  label 41: 200\n",
      "  label 42: 200\n",
      "  label 43: 200\n",
      "  label 44: 200\n",
      "  label 45: 200\n",
      "  label 46: 200\n",
      "  label 47: 595\n",
      "  label 48: 227\n",
      "  label 49: 200\n",
      "model is microsoft/deberta-base bilstm\n",
      "Epoch 1/20\n"
     ]
    },
    {
     "name": "stderr",
     "output_type": "stream",
     "text": [
      "100%|██████████| 771/771 [01:24<00:00,  9.10it/s]\n"
     ]
    },
    {
     "name": "stdout",
     "output_type": "stream",
     "text": [
      "{'val_loss': 2.204197775642827, 'val_accuracy': 0.527810650887574, 'precision': 0.4074609381679237, 'recall': 0.527810650887574, 'f1-score': 0.45555383291229334, 'macro_f1-score': 0.054135355434214286, 'balanced_accuracy': 0.08160071355437463, 'mcc': 0.34177523935295273, 'train_loss': 3.364520423916373}\n",
      "Epoch 2/20\n"
     ]
    },
    {
     "name": "stderr",
     "output_type": "stream",
     "text": [
      "100%|██████████| 771/771 [01:24<00:00,  9.08it/s]\n"
     ]
    },
    {
     "name": "stdout",
     "output_type": "stream",
     "text": [
      "{'val_loss': 2.1723663716946007, 'val_accuracy': 0.48284023668639053, 'precision': 0.4278718827801092, 'recall': 0.48284023668639053, 'f1-score': 0.44544817521880414, 'macro_f1-score': 0.0651436064496214, 'balanced_accuracy': 0.13823131615192763, 'mcc': 0.3215531192602981, 'train_loss': 2.793172248606552}\n",
      "Epoch 3/20\n"
     ]
    },
    {
     "name": "stderr",
     "output_type": "stream",
     "text": [
      "100%|██████████| 771/771 [01:24<00:00,  9.09it/s]\n"
     ]
    },
    {
     "name": "stdout",
     "output_type": "stream",
     "text": [
      "{'val_loss': 2.026787835472035, 'val_accuracy': 0.4804733727810651, 'precision': 0.46392417788678647, 'recall': 0.4804733727810651, 'f1-score': 0.4620724044419783, 'macro_f1-score': 0.0760751495720017, 'balanced_accuracy': 0.13085932879188328, 'mcc': 0.33571835658512406, 'train_loss': 2.599686346165401}\n",
      "Epoch 4/20\n"
     ]
    },
    {
     "name": "stderr",
     "output_type": "stream",
     "text": [
      "100%|██████████| 771/771 [01:24<00:00,  9.09it/s]\n"
     ]
    },
    {
     "name": "stdout",
     "output_type": "stream",
     "text": [
      "{'val_loss': 1.9944797495626054, 'val_accuracy': 0.4591715976331361, 'precision': 0.4742505552243895, 'recall': 0.4591715976331361, 'f1-score': 0.4525541277055963, 'macro_f1-score': 0.07430381381585476, 'balanced_accuracy': 0.12541914716916888, 'mcc': 0.3274744797585082, 'train_loss': 2.137735783203412}\n",
      "Epoch 5/20\n"
     ]
    },
    {
     "name": "stderr",
     "output_type": "stream",
     "text": [
      "100%|██████████| 771/771 [01:24<00:00,  9.09it/s]\n"
     ]
    },
    {
     "name": "stdout",
     "output_type": "stream",
     "text": [
      "{'val_loss': 1.8401650044153322, 'val_accuracy': 0.5242603550295858, 'precision': 0.5070137462307409, 'recall': 0.5242603550295858, 'f1-score': 0.49912820779446915, 'macro_f1-score': 0.14370881798148305, 'balanced_accuracy': 0.20982083240499816, 'mcc': 0.3856835853304337, 'train_loss': 1.9224594308863046}\n",
      "Epoch 6/20\n"
     ]
    },
    {
     "name": "stderr",
     "output_type": "stream",
     "text": [
      "100%|██████████| 771/771 [01:24<00:00,  9.08it/s]\n"
     ]
    },
    {
     "name": "stdout",
     "output_type": "stream",
     "text": [
      "{'val_loss': 1.7343770355548498, 'val_accuracy': 0.5455621301775148, 'precision': 0.5367448119408287, 'recall': 0.5455621301775148, 'f1-score': 0.5292017306381763, 'macro_f1-score': 0.17689655295396256, 'balanced_accuracy': 0.23715390183708607, 'mcc': 0.4158757931339234, 'train_loss': 1.6666623537178633}\n",
      "Epoch 7/20\n"
     ]
    },
    {
     "name": "stderr",
     "output_type": "stream",
     "text": [
      "100%|██████████| 771/771 [01:24<00:00,  9.10it/s]\n"
     ]
    },
    {
     "name": "stdout",
     "output_type": "stream",
     "text": [
      "{'val_loss': 1.742453468295763, 'val_accuracy': 0.5301775147928994, 'precision': 0.5350271526897526, 'recall': 0.5301775147928994, 'f1-score': 0.5180877600724779, 'macro_f1-score': 0.16838201175165188, 'balanced_accuracy': 0.23511034667774872, 'mcc': 0.40705448044090287, 'train_loss': 1.5048029472237276}\n",
      "Epoch 8/20\n"
     ]
    },
    {
     "name": "stderr",
     "output_type": "stream",
     "text": [
      "100%|██████████| 771/771 [01:24<00:00,  9.09it/s]\n"
     ]
    },
    {
     "name": "stdout",
     "output_type": "stream",
     "text": [
      "{'val_loss': 1.6762709763814818, 'val_accuracy': 0.5479289940828402, 'precision': 0.5640586427413179, 'recall': 0.5479289940828402, 'f1-score': 0.5444080604055973, 'macro_f1-score': 0.2324271323430992, 'balanced_accuracy': 0.3055043923379283, 'mcc': 0.43250105749437945, 'train_loss': 1.2605628249478247}\n",
      "Epoch 9/20\n"
     ]
    },
    {
     "name": "stderr",
     "output_type": "stream",
     "text": [
      "100%|██████████| 771/771 [01:24<00:00,  9.08it/s]\n"
     ]
    },
    {
     "name": "stdout",
     "output_type": "stream",
     "text": [
      "{'val_loss': 1.6158465473157055, 'val_accuracy': 0.5585798816568047, 'precision': 0.549407162387906, 'recall': 0.5585798816568047, 'f1-score': 0.5449086655703314, 'macro_f1-score': 0.2169070040678305, 'balanced_accuracy': 0.2568914495273394, 'mcc': 0.43255896481112466, 'train_loss': 1.067302876216119}\n",
      "Epoch 10/20\n"
     ]
    },
    {
     "name": "stderr",
     "output_type": "stream",
     "text": [
      "100%|██████████| 771/771 [01:24<00:00,  9.07it/s]\n"
     ]
    },
    {
     "name": "stdout",
     "output_type": "stream",
     "text": [
      "{'val_loss': 1.7707434071684784, 'val_accuracy': 0.5396449704142012, 'precision': 0.5793054512330191, 'recall': 0.5396449704142012, 'f1-score': 0.5470018284132663, 'macro_f1-score': 0.26143634963505896, 'balanced_accuracy': 0.3213952889954366, 'mcc': 0.42834141357071537, 'train_loss': 0.9743268236266655}\n",
      "Epoch 11/20\n"
     ]
    },
    {
     "name": "stderr",
     "output_type": "stream",
     "text": [
      "100%|██████████| 771/771 [01:24<00:00,  9.08it/s]\n"
     ]
    },
    {
     "name": "stdout",
     "output_type": "stream",
     "text": [
      "{'val_loss': 1.6268162232524943, 'val_accuracy': 0.5727810650887574, 'precision': 0.585253382544419, 'recall': 0.5727810650887574, 'f1-score': 0.5669951954139888, 'macro_f1-score': 0.27535290372273064, 'balanced_accuracy': 0.3097544500048625, 'mcc': 0.4583314123666941, 'train_loss': 0.8870880175695963}\n",
      "Epoch 12/20\n"
     ]
    },
    {
     "name": "stderr",
     "output_type": "stream",
     "text": [
      "100%|██████████| 771/771 [01:24<00:00,  9.08it/s]\n"
     ]
    },
    {
     "name": "stdout",
     "output_type": "stream",
     "text": [
      "{'val_loss': 1.6813484756451733, 'val_accuracy': 0.5692307692307692, 'precision': 0.5715540006248622, 'recall': 0.5692307692307692, 'f1-score': 0.5594497893053141, 'macro_f1-score': 0.25625461930600196, 'balanced_accuracy': 0.2966501053691186, 'mcc': 0.4482220171716731, 'train_loss': 0.7817555458010712}\n",
      "Epoch 13/20\n"
     ]
    },
    {
     "name": "stderr",
     "output_type": "stream",
     "text": [
      "100%|██████████| 771/771 [01:24<00:00,  9.09it/s]\n"
     ]
    },
    {
     "name": "stdout",
     "output_type": "stream",
     "text": [
      "{'val_loss': 1.762332744193527, 'val_accuracy': 0.5550295857988166, 'precision': 0.6060248599840835, 'recall': 0.5550295857988166, 'f1-score': 0.5602907391425684, 'macro_f1-score': 0.27061825421345215, 'balanced_accuracy': 0.30343354378233206, 'mcc': 0.44677428068888003, 'train_loss': 0.7525311295431103}\n",
      "Epoch 14/20\n"
     ]
    },
    {
     "name": "stderr",
     "output_type": "stream",
     "text": [
      "100%|██████████| 771/771 [01:24<00:00,  9.09it/s]\n"
     ]
    },
    {
     "name": "stdout",
     "output_type": "stream",
     "text": [
      "{'val_loss': 1.770251529396705, 'val_accuracy': 0.5644970414201184, 'precision': 0.6057072785985745, 'recall': 0.5644970414201184, 'f1-score': 0.5700177323984376, 'macro_f1-score': 0.30161246080381665, 'balanced_accuracy': 0.3386222481625047, 'mcc': 0.4579196771768643, 'train_loss': 0.6956350006810577}\n",
      "Epoch 15/20\n"
     ]
    },
    {
     "name": "stderr",
     "output_type": "stream",
     "text": [
      "100%|██████████| 771/771 [01:24<00:00,  9.09it/s]\n"
     ]
    },
    {
     "name": "stdout",
     "output_type": "stream",
     "text": [
      "{'val_loss': 1.764947289565824, 'val_accuracy': 0.5964497041420118, 'precision': 0.6081637956106191, 'recall': 0.5964497041420118, 'f1-score': 0.5876104629851584, 'macro_f1-score': 0.29683606546940206, 'balanced_accuracy': 0.33133198015821774, 'mcc': 0.4879548310578724, 'train_loss': 0.5954557303749943}\n",
      "Epoch 16/20\n"
     ]
    },
    {
     "name": "stderr",
     "output_type": "stream",
     "text": [
      "100%|██████████| 771/771 [01:24<00:00,  9.08it/s]\n"
     ]
    },
    {
     "name": "stdout",
     "output_type": "stream",
     "text": [
      "{'val_loss': 1.885410818288911, 'val_accuracy': 0.5739644970414202, 'precision': 0.6194618131914786, 'recall': 0.5739644970414202, 'f1-score': 0.5745855279040678, 'macro_f1-score': 0.2792605718673432, 'balanced_accuracy': 0.3140494796341619, 'mcc': 0.4711461114962407, 'train_loss': 0.585084470484198}\n",
      "Epoch 17/20\n"
     ]
    },
    {
     "name": "stderr",
     "output_type": "stream",
     "text": [
      "100%|██████████| 771/771 [01:24<00:00,  9.07it/s]\n"
     ]
    },
    {
     "name": "stdout",
     "output_type": "stream",
     "text": [
      "{'val_loss': 1.7730681783748123, 'val_accuracy': 0.6130177514792899, 'precision': 0.6049047541996397, 'recall': 0.6130177514792899, 'f1-score': 0.5978334453179991, 'macro_f1-score': 0.2909353233634534, 'balanced_accuracy': 0.33022715767959815, 'mcc': 0.5026293407615283, 'train_loss': 0.5602944755900153}\n",
      "Early stopping.\n",
      "\n",
      "[Fold 7]\n",
      "Label distribution after resampling:\n",
      "  label 0: 2000\n",
      "  label 1: 200\n",
      "  label 2: 200\n",
      "  label 3: 200\n",
      "  label 4: 232\n",
      "  label 5: 200\n",
      "  label 6: 200\n",
      "  label 7: 200\n",
      "  label 8: 200\n",
      "  label 9: 200\n",
      "  label 10: 200\n",
      "  label 11: 200\n",
      "  label 12: 217\n",
      "  label 13: 200\n",
      "  label 14: 200\n",
      "  label 15: 200\n",
      "  label 16: 200\n",
      "  label 17: 260\n",
      "  label 18: 200\n",
      "  label 19: 200\n",
      "  label 20: 200\n",
      "  label 21: 200\n",
      "  label 22: 200\n",
      "  label 23: 200\n",
      "  label 24: 200\n",
      "  label 25: 200\n",
      "  label 26: 200\n",
      "  label 27: 200\n",
      "  label 28: 200\n",
      "  label 29: 200\n",
      "  label 30: 200\n",
      "  label 31: 200\n",
      "  label 32: 200\n",
      "  label 33: 200\n",
      "  label 34: 200\n",
      "  label 35: 200\n",
      "  label 36: 200\n",
      "  label 37: 200\n",
      "  label 38: 200\n",
      "  label 39: 200\n",
      "  label 40: 200\n",
      "  label 41: 200\n",
      "  label 42: 200\n",
      "  label 43: 200\n",
      "  label 44: 200\n",
      "  label 45: 200\n",
      "  label 46: 200\n",
      "  label 47: 594\n",
      "  label 48: 227\n",
      "  label 49: 200\n",
      "model is microsoft/deberta-base bilstm\n",
      "Epoch 1/20\n"
     ]
    },
    {
     "name": "stderr",
     "output_type": "stream",
     "text": [
      "100%|██████████| 771/771 [01:24<00:00,  9.08it/s]\n"
     ]
    },
    {
     "name": "stdout",
     "output_type": "stream",
     "text": [
      "{'val_loss': 2.296031796707297, 'val_accuracy': 0.5171597633136095, 'precision': 0.3550416385353119, 'recall': 0.5171597633136095, 'f1-score': 0.41860587306166724, 'macro_f1-score': 0.03517321375579323, 'balanced_accuracy': 0.072096883341479, 'mcc': 0.30915959299773754, 'train_loss': 3.358200265275829}\n",
      "Epoch 2/20\n"
     ]
    },
    {
     "name": "stderr",
     "output_type": "stream",
     "text": [
      "100%|██████████| 771/771 [01:24<00:00,  9.09it/s]\n"
     ]
    },
    {
     "name": "stdout",
     "output_type": "stream",
     "text": [
      "{'val_loss': 2.185790352101596, 'val_accuracy': 0.5195266272189349, 'precision': 0.4034807571720717, 'recall': 0.5195266272189349, 'f1-score': 0.44991316860964314, 'macro_f1-score': 0.04923213966930229, 'balanced_accuracy': 0.08925727815680251, 'mcc': 0.3356410272122897, 'train_loss': 2.8826867674420624}\n",
      "Epoch 3/20\n"
     ]
    },
    {
     "name": "stderr",
     "output_type": "stream",
     "text": [
      "100%|██████████| 771/771 [01:25<00:00,  9.07it/s]\n"
     ]
    },
    {
     "name": "stdout",
     "output_type": "stream",
     "text": [
      "{'val_loss': 2.0363948963723093, 'val_accuracy': 0.5076923076923077, 'precision': 0.414822403946226, 'recall': 0.5076923076923077, 'f1-score': 0.44987123985339617, 'macro_f1-score': 0.062441357029214856, 'balanced_accuracy': 0.12198522644889569, 'mcc': 0.33396110026605474, 'train_loss': 2.617654098147084}\n",
      "Epoch 4/20\n"
     ]
    },
    {
     "name": "stderr",
     "output_type": "stream",
     "text": [
      "100%|██████████| 771/771 [01:24<00:00,  9.07it/s]\n"
     ]
    },
    {
     "name": "stdout",
     "output_type": "stream",
     "text": [
      "{'val_loss': 2.161901737159153, 'val_accuracy': 0.493491124260355, 'precision': 0.42533549684705785, 'recall': 0.493491124260355, 'f1-score': 0.44638939311793147, 'macro_f1-score': 0.05722906590305277, 'balanced_accuracy': 0.11472814076062837, 'mcc': 0.3226738204068913, 'train_loss': 2.542525858266808}\n",
      "Epoch 5/20\n"
     ]
    },
    {
     "name": "stderr",
     "output_type": "stream",
     "text": [
      "100%|██████████| 771/771 [01:24<00:00,  9.10it/s]\n"
     ]
    },
    {
     "name": "stdout",
     "output_type": "stream",
     "text": [
      "{'val_loss': 1.9881152836781628, 'val_accuracy': 0.5005917159763313, 'precision': 0.4383600283951266, 'recall': 0.5005917159763313, 'f1-score': 0.4583246375319224, 'macro_f1-score': 0.0753906254306182, 'balanced_accuracy': 0.15372412158862517, 'mcc': 0.33994436422007657, 'train_loss': 2.4101394195346364}\n",
      "Epoch 6/20\n"
     ]
    },
    {
     "name": "stderr",
     "output_type": "stream",
     "text": [
      "100%|██████████| 771/771 [01:24<00:00,  9.11it/s]\n"
     ]
    },
    {
     "name": "stdout",
     "output_type": "stream",
     "text": [
      "{'val_loss': 2.061440851328508, 'val_accuracy': 0.493491124260355, 'precision': 0.4723555170085918, 'recall': 0.493491124260355, 'f1-score': 0.4698019039372376, 'macro_f1-score': 0.10626371926500905, 'balanced_accuracy': 0.18322211421827717, 'mcc': 0.35100767034346064, 'train_loss': 2.3100633703162545}\n",
      "Epoch 7/20\n"
     ]
    },
    {
     "name": "stderr",
     "output_type": "stream",
     "text": [
      "100%|██████████| 771/771 [01:24<00:00,  9.08it/s]\n"
     ]
    },
    {
     "name": "stdout",
     "output_type": "stream",
     "text": [
      "{'val_loss': 2.0349226492755816, 'val_accuracy': 0.4887573964497041, 'precision': 0.450395183177454, 'recall': 0.4887573964497041, 'f1-score': 0.45967419348552263, 'macro_f1-score': 0.0696229081470951, 'balanced_accuracy': 0.1293835925471228, 'mcc': 0.3349216547835044, 'train_loss': 2.2836839460058744}\n",
      "Epoch 8/20\n"
     ]
    },
    {
     "name": "stderr",
     "output_type": "stream",
     "text": [
      "100%|██████████| 771/771 [01:24<00:00,  9.08it/s]\n"
     ]
    },
    {
     "name": "stdout",
     "output_type": "stream",
     "text": [
      "{'val_loss': 2.1547460173660853, 'val_accuracy': 0.46153846153846156, 'precision': 0.47359627554090133, 'recall': 0.46153846153846156, 'f1-score': 0.4543790892573362, 'macro_f1-score': 0.10354955211716206, 'balanced_accuracy': 0.18495823813847173, 'mcc': 0.32689748950079034, 'train_loss': 2.179858630578651}\n",
      "Epoch 9/20\n"
     ]
    },
    {
     "name": "stderr",
     "output_type": "stream",
     "text": [
      "100%|██████████| 771/771 [01:24<00:00,  9.08it/s]\n"
     ]
    },
    {
     "name": "stdout",
     "output_type": "stream",
     "text": [
      "{'val_loss': 1.9584490915514388, 'val_accuracy': 0.5017751479289941, 'precision': 0.47702333380567014, 'recall': 0.5017751479289941, 'f1-score': 0.4794108053992961, 'macro_f1-score': 0.10464497631844882, 'balanced_accuracy': 0.17851880006802529, 'mcc': 0.3571282989509711, 'train_loss': 2.099135681349016}\n",
      "Early stopping.\n",
      "\n",
      "[Fold 8]\n",
      "Label distribution after resampling:\n",
      "  label 0: 2000\n",
      "  label 1: 200\n",
      "  label 2: 200\n",
      "  label 3: 200\n",
      "  label 4: 232\n",
      "  label 5: 200\n",
      "  label 6: 200\n",
      "  label 7: 200\n",
      "  label 8: 200\n",
      "  label 9: 200\n",
      "  label 10: 200\n",
      "  label 11: 200\n",
      "  label 12: 216\n",
      "  label 13: 200\n",
      "  label 14: 200\n",
      "  label 15: 200\n",
      "  label 16: 200\n",
      "  label 17: 260\n",
      "  label 18: 200\n",
      "  label 19: 200\n",
      "  label 20: 200\n",
      "  label 21: 200\n",
      "  label 22: 200\n",
      "  label 23: 200\n",
      "  label 24: 200\n",
      "  label 25: 200\n",
      "  label 26: 200\n",
      "  label 27: 200\n",
      "  label 28: 200\n",
      "  label 29: 200\n",
      "  label 30: 200\n",
      "  label 31: 200\n",
      "  label 32: 200\n",
      "  label 33: 200\n",
      "  label 34: 200\n",
      "  label 35: 200\n",
      "  label 36: 200\n",
      "  label 37: 200\n",
      "  label 38: 200\n",
      "  label 39: 200\n",
      "  label 40: 200\n",
      "  label 41: 200\n",
      "  label 42: 200\n",
      "  label 43: 200\n",
      "  label 44: 200\n",
      "  label 45: 200\n",
      "  label 46: 200\n",
      "  label 47: 595\n",
      "  label 48: 226\n",
      "  label 49: 200\n",
      "model is microsoft/deberta-base bilstm\n",
      "Epoch 1/20\n"
     ]
    },
    {
     "name": "stderr",
     "output_type": "stream",
     "text": [
      "100%|██████████| 771/771 [01:24<00:00,  9.10it/s]\n"
     ]
    },
    {
     "name": "stdout",
     "output_type": "stream",
     "text": [
      "{'val_loss': 2.209985631816792, 'val_accuracy': 0.5467455621301776, 'precision': 0.36596616583739455, 'recall': 0.5467455621301776, 'f1-score': 0.4368491340992808, 'macro_f1-score': 0.051205415741393825, 'balanced_accuracy': 0.08946678195136461, 'mcc': 0.344723262287626, 'train_loss': 3.2709348968649343}\n",
      "Epoch 2/20\n"
     ]
    },
    {
     "name": "stderr",
     "output_type": "stream",
     "text": [
      "100%|██████████| 771/771 [01:24<00:00,  9.09it/s]\n"
     ]
    },
    {
     "name": "stdout",
     "output_type": "stream",
     "text": [
      "{'val_loss': 2.0208484519202754, 'val_accuracy': 0.5254437869822485, 'precision': 0.3993790288318145, 'recall': 0.5254437869822485, 'f1-score': 0.4487401566526215, 'macro_f1-score': 0.061814645214843436, 'balanced_accuracy': 0.09073350020661755, 'mcc': 0.3365543471482437, 'train_loss': 2.8421277644260075}\n",
      "Epoch 3/20\n"
     ]
    },
    {
     "name": "stderr",
     "output_type": "stream",
     "text": [
      "100%|██████████| 771/771 [01:25<00:00,  9.07it/s]\n"
     ]
    },
    {
     "name": "stdout",
     "output_type": "stream",
     "text": [
      "{'val_loss': 1.8885130454909127, 'val_accuracy': 0.5372781065088758, 'precision': 0.4487141630875622, 'recall': 0.5372781065088758, 'f1-score': 0.4828242199943889, 'macro_f1-score': 0.09765776956506862, 'balanced_accuracy': 0.1437336805034625, 'mcc': 0.3787356510428302, 'train_loss': 2.510094505958211}\n",
      "Epoch 4/20\n"
     ]
    },
    {
     "name": "stderr",
     "output_type": "stream",
     "text": [
      "100%|██████████| 771/771 [01:24<00:00,  9.10it/s]\n"
     ]
    },
    {
     "name": "stdout",
     "output_type": "stream",
     "text": [
      "{'val_loss': 1.8813017089411896, 'val_accuracy': 0.5053254437869823, 'precision': 0.47145443703454043, 'recall': 0.5053254437869823, 'f1-score': 0.4768548084053011, 'macro_f1-score': 0.12157902286973787, 'balanced_accuracy': 0.18488172184802948, 'mcc': 0.3561249440852367, 'train_loss': 2.2498338115818304}\n",
      "Epoch 5/20\n"
     ]
    },
    {
     "name": "stderr",
     "output_type": "stream",
     "text": [
      "100%|██████████| 771/771 [01:24<00:00,  9.09it/s]\n"
     ]
    },
    {
     "name": "stdout",
     "output_type": "stream",
     "text": [
      "{'val_loss': 1.9126709294769, 'val_accuracy': 0.48284023668639053, 'precision': 0.5313745398163142, 'recall': 0.48284023668639053, 'f1-score': 0.480457719447496, 'macro_f1-score': 0.1337734981157359, 'balanced_accuracy': 0.19055482298760332, 'mcc': 0.35793713866338434, 'train_loss': 2.0499040779745843}\n",
      "Epoch 6/20\n"
     ]
    },
    {
     "name": "stderr",
     "output_type": "stream",
     "text": [
      "100%|██████████| 771/771 [01:25<00:00,  9.07it/s]\n"
     ]
    },
    {
     "name": "stdout",
     "output_type": "stream",
     "text": [
      "{'val_loss': 1.7591099525397678, 'val_accuracy': 0.5076923076923077, 'precision': 0.5126448113833642, 'recall': 0.5076923076923077, 'f1-score': 0.49566279859035967, 'macro_f1-score': 0.16784374073707667, 'balanced_accuracy': 0.21476171803528704, 'mcc': 0.36983899911007595, 'train_loss': 1.8059852185107081}\n",
      "Epoch 7/20\n"
     ]
    },
    {
     "name": "stderr",
     "output_type": "stream",
     "text": [
      "100%|██████████| 771/771 [01:25<00:00,  9.06it/s]\n"
     ]
    },
    {
     "name": "stdout",
     "output_type": "stream",
     "text": [
      "{'val_loss': 1.710277205368258, 'val_accuracy': 0.5301775147928994, 'precision': 0.5325640219922216, 'recall': 0.5301775147928994, 'f1-score': 0.5189730761860591, 'macro_f1-score': 0.1832414165310171, 'balanced_accuracy': 0.23809427829184623, 'mcc': 0.4108329215673228, 'train_loss': 1.6190931917628426}\n",
      "Epoch 8/20\n"
     ]
    },
    {
     "name": "stderr",
     "output_type": "stream",
     "text": [
      "100%|██████████| 771/771 [01:24<00:00,  9.09it/s]\n"
     ]
    },
    {
     "name": "stdout",
     "output_type": "stream",
     "text": [
      "{'val_loss': 1.7845313267887764, 'val_accuracy': 0.5254437869822485, 'precision': 0.5346119635239369, 'recall': 0.5254437869822485, 'f1-score': 0.5185948287227453, 'macro_f1-score': 0.18375336180381596, 'balanced_accuracy': 0.2404346504841945, 'mcc': 0.4032109578304843, 'train_loss': 1.5387919510384942}\n",
      "Epoch 9/20\n"
     ]
    },
    {
     "name": "stderr",
     "output_type": "stream",
     "text": [
      "100%|██████████| 771/771 [01:24<00:00,  9.07it/s]\n"
     ]
    },
    {
     "name": "stdout",
     "output_type": "stream",
     "text": [
      "{'val_loss': 1.6950628296384271, 'val_accuracy': 0.5739644970414202, 'precision': 0.5648155604600821, 'recall': 0.5739644970414202, 'f1-score': 0.5563954791424428, 'macro_f1-score': 0.24918247447934022, 'balanced_accuracy': 0.29709347965891875, 'mcc': 0.4601790917899852, 'train_loss': 1.3814249071552287}\n",
      "Epoch 10/20\n"
     ]
    },
    {
     "name": "stderr",
     "output_type": "stream",
     "text": [
      "100%|██████████| 771/771 [01:24<00:00,  9.08it/s]\n"
     ]
    },
    {
     "name": "stdout",
     "output_type": "stream",
     "text": [
      "{'val_loss': 1.7882970425317872, 'val_accuracy': 0.5491124260355029, 'precision': 0.5837379568559107, 'recall': 0.5491124260355029, 'f1-score': 0.5490740721103181, 'macro_f1-score': 0.2436924390112771, 'balanced_accuracy': 0.3157600478109381, 'mcc': 0.4394076171304091, 'train_loss': 1.2692807075191874}\n",
      "Epoch 11/20\n"
     ]
    },
    {
     "name": "stderr",
     "output_type": "stream",
     "text": [
      "100%|██████████| 771/771 [01:24<00:00,  9.07it/s]\n"
     ]
    },
    {
     "name": "stdout",
     "output_type": "stream",
     "text": [
      "{'val_loss': 1.7171597548250883, 'val_accuracy': 0.5609467455621302, 'precision': 0.5573528913359104, 'recall': 0.5609467455621302, 'f1-score': 0.5490693322602959, 'macro_f1-score': 0.272664334528762, 'balanced_accuracy': 0.312536677817873, 'mcc': 0.4412272795809468, 'train_loss': 1.0714391238030756}\n",
      "Epoch 12/20\n"
     ]
    },
    {
     "name": "stderr",
     "output_type": "stream",
     "text": [
      "100%|██████████| 771/771 [01:24<00:00,  9.09it/s]\n"
     ]
    },
    {
     "name": "stdout",
     "output_type": "stream",
     "text": [
      "{'val_loss': 1.709415522386443, 'val_accuracy': 0.5822485207100592, 'precision': 0.569284924563654, 'recall': 0.5822485207100592, 'f1-score': 0.5677390198917585, 'macro_f1-score': 0.27407723484953445, 'balanced_accuracy': 0.3192045028588675, 'mcc': 0.4631496357963151, 'train_loss': 0.9738256993151515}\n",
      "Epoch 13/20\n"
     ]
    },
    {
     "name": "stderr",
     "output_type": "stream",
     "text": [
      "100%|██████████| 771/771 [01:24<00:00,  9.09it/s]\n"
     ]
    },
    {
     "name": "stdout",
     "output_type": "stream",
     "text": [
      "{'val_loss': 1.7115870950356968, 'val_accuracy': 0.5798816568047337, 'precision': 0.5730334924463005, 'recall': 0.5798816568047337, 'f1-score': 0.5653350044686528, 'macro_f1-score': 0.27027485390467787, 'balanced_accuracy': 0.30930514027119604, 'mcc': 0.4661216501984383, 'train_loss': 0.8594207144432958}\n",
      "Epoch 14/20\n"
     ]
    },
    {
     "name": "stderr",
     "output_type": "stream",
     "text": [
      "100%|██████████| 771/771 [01:24<00:00,  9.08it/s]\n"
     ]
    },
    {
     "name": "stdout",
     "output_type": "stream",
     "text": [
      "{'val_loss': 1.9600273550681349, 'val_accuracy': 0.5443786982248521, 'precision': 0.5780898250314902, 'recall': 0.5443786982248521, 'f1-score': 0.5453415213447145, 'macro_f1-score': 0.2483189866448922, 'balanced_accuracy': 0.28365724125898706, 'mcc': 0.43680776546293226, 'train_loss': 0.8702792274329604}\n",
      "Epoch 15/20\n"
     ]
    },
    {
     "name": "stderr",
     "output_type": "stream",
     "text": [
      "100%|██████████| 771/771 [01:24<00:00,  9.08it/s]\n"
     ]
    },
    {
     "name": "stdout",
     "output_type": "stream",
     "text": [
      "{'val_loss': 1.8046844657861962, 'val_accuracy': 0.5633136094674556, 'precision': 0.589972980042587, 'recall': 0.5633136094674556, 'f1-score': 0.5667116489372687, 'macro_f1-score': 0.2815175776753899, 'balanced_accuracy': 0.30728445325098674, 'mcc': 0.4535656217269834, 'train_loss': 0.8578952565093448}\n",
      "Epoch 16/20\n"
     ]
    },
    {
     "name": "stderr",
     "output_type": "stream",
     "text": [
      "100%|██████████| 771/771 [01:24<00:00,  9.09it/s]\n"
     ]
    },
    {
     "name": "stdout",
     "output_type": "stream",
     "text": [
      "{'val_loss': 1.7637468374000405, 'val_accuracy': 0.578698224852071, 'precision': 0.5713178430113406, 'recall': 0.578698224852071, 'f1-score': 0.5669887650588709, 'macro_f1-score': 0.2616535108775835, 'balanced_accuracy': 0.286083439850729, 'mcc': 0.45871202188939414, 'train_loss': 0.7503235941189891}\n",
      "Epoch 17/20\n"
     ]
    },
    {
     "name": "stderr",
     "output_type": "stream",
     "text": [
      "100%|██████████| 771/771 [01:24<00:00,  9.08it/s]\n"
     ]
    },
    {
     "name": "stdout",
     "output_type": "stream",
     "text": [
      "{'val_loss': 1.9004233895607714, 'val_accuracy': 0.5644970414201184, 'precision': 0.5967117323828096, 'recall': 0.5644970414201184, 'f1-score': 0.564275671596027, 'macro_f1-score': 0.29405012599008606, 'balanced_accuracy': 0.31525022329689867, 'mcc': 0.4513670503478317, 'train_loss': 0.8204562938572831}\n",
      "Epoch 18/20\n"
     ]
    },
    {
     "name": "stderr",
     "output_type": "stream",
     "text": [
      "100%|██████████| 771/771 [01:24<00:00,  9.08it/s]\n"
     ]
    },
    {
     "name": "stdout",
     "output_type": "stream",
     "text": [
      "{'val_loss': 1.8945337016627473, 'val_accuracy': 0.565680473372781, 'precision': 0.5809235963641066, 'recall': 0.565680473372781, 'f1-score': 0.5622066173475516, 'macro_f1-score': 0.28565349615953195, 'balanced_accuracy': 0.29818510863563413, 'mcc': 0.45133834176619064, 'train_loss': 0.6405054774188501}\n",
      "Epoch 19/20\n"
     ]
    },
    {
     "name": "stderr",
     "output_type": "stream",
     "text": [
      "100%|██████████| 771/771 [01:24<00:00,  9.09it/s]\n"
     ]
    },
    {
     "name": "stdout",
     "output_type": "stream",
     "text": [
      "{'val_loss': 2.159219521396565, 'val_accuracy': 0.514792899408284, 'precision': 0.5811690158812729, 'recall': 0.514792899408284, 'f1-score': 0.5245966202716363, 'macro_f1-score': 0.26673641204399057, 'balanced_accuracy': 0.32036547769957835, 'mcc': 0.4169398290152311, 'train_loss': 0.6534505319212661}\n",
      "Epoch 20/20\n"
     ]
    },
    {
     "name": "stderr",
     "output_type": "stream",
     "text": [
      "100%|██████████| 771/771 [01:25<00:00,  9.07it/s]\n"
     ]
    },
    {
     "name": "stdout",
     "output_type": "stream",
     "text": [
      "{'val_loss': 1.8316645880915083, 'val_accuracy': 0.5881656804733728, 'precision': 0.5909412633982208, 'recall': 0.5881656804733728, 'f1-score': 0.5778243405100081, 'macro_f1-score': 0.2828855965641887, 'balanced_accuracy': 0.2961684679681379, 'mcc': 0.4793920687910709, 'train_loss': 0.6321690642261629}\n",
      "Early stopping.\n",
      "\n",
      "[Fold 9]\n",
      "Label distribution after resampling:\n",
      "  label 0: 2000\n",
      "  label 1: 200\n",
      "  label 2: 200\n",
      "  label 3: 200\n",
      "  label 4: 232\n",
      "  label 5: 200\n",
      "  label 6: 200\n",
      "  label 7: 200\n",
      "  label 8: 200\n",
      "  label 9: 200\n",
      "  label 10: 200\n",
      "  label 11: 200\n",
      "  label 12: 217\n",
      "  label 13: 200\n",
      "  label 14: 200\n",
      "  label 15: 200\n",
      "  label 16: 200\n",
      "  label 17: 261\n",
      "  label 18: 200\n",
      "  label 19: 200\n",
      "  label 20: 200\n",
      "  label 21: 200\n",
      "  label 22: 200\n",
      "  label 23: 200\n",
      "  label 24: 200\n",
      "  label 25: 200\n",
      "  label 26: 200\n",
      "  label 27: 200\n",
      "  label 28: 200\n",
      "  label 29: 200\n",
      "  label 30: 200\n",
      "  label 31: 200\n",
      "  label 32: 200\n",
      "  label 33: 200\n",
      "  label 34: 200\n",
      "  label 35: 200\n",
      "  label 36: 200\n",
      "  label 37: 200\n",
      "  label 38: 200\n",
      "  label 39: 200\n",
      "  label 40: 200\n",
      "  label 41: 200\n",
      "  label 42: 200\n",
      "  label 43: 200\n",
      "  label 44: 200\n",
      "  label 45: 200\n",
      "  label 46: 200\n",
      "  label 47: 595\n",
      "  label 48: 226\n",
      "  label 49: 200\n",
      "model is microsoft/deberta-base bilstm\n",
      "Epoch 1/20\n"
     ]
    },
    {
     "name": "stderr",
     "output_type": "stream",
     "text": [
      "100%|██████████| 771/771 [01:25<00:00,  9.07it/s]\n"
     ]
    },
    {
     "name": "stdout",
     "output_type": "stream",
     "text": [
      "{'val_loss': 3.005597024593713, 'val_accuracy': 0.46982248520710057, 'precision': 0.22073316760617626, 'recall': 0.46982248520710057, 'f1-score': 0.3003535050357793, 'macro_f1-score': 0.01304676459955963, 'balanced_accuracy': 0.02040816326530612, 'mcc': 0.0, 'train_loss': 3.7102315834060255}\n",
      "Epoch 2/20\n"
     ]
    },
    {
     "name": "stderr",
     "output_type": "stream",
     "text": [
      "100%|██████████| 771/771 [01:24<00:00,  9.09it/s]\n"
     ]
    },
    {
     "name": "stdout",
     "output_type": "stream",
     "text": [
      "{'val_loss': 2.9882325046467333, 'val_accuracy': 0.46982248520710057, 'precision': 0.22073316760617626, 'recall': 0.46982248520710057, 'f1-score': 0.3003535050357793, 'macro_f1-score': 0.01304676459955963, 'balanced_accuracy': 0.02040816326530612, 'mcc': 0.0, 'train_loss': 3.695653972922596}\n",
      "Epoch 3/20\n"
     ]
    },
    {
     "name": "stderr",
     "output_type": "stream",
     "text": [
      "100%|██████████| 771/771 [01:24<00:00,  9.08it/s]\n"
     ]
    },
    {
     "name": "stdout",
     "output_type": "stream",
     "text": [
      "{'val_loss': 2.918355500923013, 'val_accuracy': 0.46982248520710057, 'precision': 0.22073316760617626, 'recall': 0.46982248520710057, 'f1-score': 0.3003535050357793, 'macro_f1-score': 0.01304676459955963, 'balanced_accuracy': 0.02040816326530612, 'mcc': 0.0, 'train_loss': 3.6931515636765693}\n",
      "Epoch 4/20\n"
     ]
    },
    {
     "name": "stderr",
     "output_type": "stream",
     "text": [
      "100%|██████████| 771/771 [01:25<00:00,  9.07it/s]\n"
     ]
    },
    {
     "name": "stdout",
     "output_type": "stream",
     "text": [
      "{'val_loss': 2.875716897676576, 'val_accuracy': 0.46982248520710057, 'precision': 0.22073316760617626, 'recall': 0.46982248520710057, 'f1-score': 0.3003535050357793, 'macro_f1-score': 0.01304676459955963, 'balanced_accuracy': 0.02040816326530612, 'mcc': 0.0, 'train_loss': 3.6168598531903613}\n",
      "Early stopping.\n",
      "\n",
      "[Fold 10]\n",
      "Label distribution after resampling:\n",
      "  label 0: 2000\n",
      "  label 1: 200\n",
      "  label 2: 200\n",
      "  label 3: 200\n",
      "  label 4: 231\n",
      "  label 5: 200\n",
      "  label 6: 200\n",
      "  label 7: 200\n",
      "  label 8: 200\n",
      "  label 9: 200\n",
      "  label 10: 200\n",
      "  label 11: 200\n",
      "  label 12: 217\n",
      "  label 13: 200\n",
      "  label 14: 200\n",
      "  label 15: 200\n",
      "  label 16: 200\n",
      "  label 17: 260\n",
      "  label 18: 200\n",
      "  label 19: 200\n",
      "  label 20: 200\n",
      "  label 21: 200\n",
      "  label 22: 200\n",
      "  label 23: 200\n",
      "  label 24: 200\n",
      "  label 25: 200\n",
      "  label 26: 200\n",
      "  label 27: 200\n",
      "  label 28: 200\n",
      "  label 29: 200\n",
      "  label 30: 200\n",
      "  label 31: 200\n",
      "  label 32: 200\n",
      "  label 33: 200\n",
      "  label 34: 200\n",
      "  label 35: 200\n",
      "  label 36: 200\n",
      "  label 37: 200\n",
      "  label 38: 200\n",
      "  label 39: 200\n",
      "  label 40: 200\n",
      "  label 41: 200\n",
      "  label 42: 200\n",
      "  label 43: 200\n",
      "  label 44: 200\n",
      "  label 45: 200\n",
      "  label 46: 200\n",
      "  label 47: 595\n",
      "  label 48: 227\n",
      "  label 49: 200\n",
      "model is microsoft/deberta-base bilstm\n",
      "Epoch 1/20\n"
     ]
    },
    {
     "name": "stderr",
     "output_type": "stream",
     "text": [
      "100%|██████████| 771/771 [01:24<00:00,  9.08it/s]\n",
      "c:\\Users\\user\\AppData\\Local\\Programs\\Python\\Python310\\lib\\site-packages\\sklearn\\metrics\\_classification.py:2524: UserWarning: y_pred contains classes not in y_true\n",
      "  warnings.warn(\"y_pred contains classes not in y_true\")\n"
     ]
    },
    {
     "name": "stdout",
     "output_type": "stream",
     "text": [
      "{'val_loss': 2.2619525104198814, 'val_accuracy': 0.4840236686390533, 'precision': 0.428404364237896, 'recall': 0.4840236686390533, 'f1-score': 0.4292608896373697, 'macro_f1-score': 0.04870906614077966, 'balanced_accuracy': 0.07746457031364774, 'mcc': 0.2753116753886947, 'train_loss': 3.210354605846677}\n",
      "Epoch 2/20\n"
     ]
    },
    {
     "name": "stderr",
     "output_type": "stream",
     "text": [
      "100%|██████████| 771/771 [01:24<00:00,  9.09it/s]\n"
     ]
    },
    {
     "name": "stdout",
     "output_type": "stream",
     "text": [
      "{'val_loss': 2.1266477782771274, 'val_accuracy': 0.4816568047337278, 'precision': 0.48111314717955184, 'recall': 0.4816568047337278, 'f1-score': 0.46660003367239744, 'macro_f1-score': 0.08895619496968223, 'balanced_accuracy': 0.16272241960066902, 'mcc': 0.340602508584342, 'train_loss': 2.5753120219506487}\n",
      "Epoch 3/20\n"
     ]
    },
    {
     "name": "stderr",
     "output_type": "stream",
     "text": [
      "100%|██████████| 771/771 [01:24<00:00,  9.09it/s]\n",
      "c:\\Users\\user\\AppData\\Local\\Programs\\Python\\Python310\\lib\\site-packages\\sklearn\\metrics\\_classification.py:2524: UserWarning: y_pred contains classes not in y_true\n",
      "  warnings.warn(\"y_pred contains classes not in y_true\")\n"
     ]
    },
    {
     "name": "stdout",
     "output_type": "stream",
     "text": [
      "{'val_loss': 1.8837543928398277, 'val_accuracy': 0.5183431952662721, 'precision': 0.5036302401504823, 'recall': 0.5183431952662721, 'f1-score': 0.49178721773205525, 'macro_f1-score': 0.11934758456998422, 'balanced_accuracy': 0.208278928601563, 'mcc': 0.3865359556931726, 'train_loss': 2.1558495648640137}\n",
      "Epoch 4/20\n"
     ]
    },
    {
     "name": "stderr",
     "output_type": "stream",
     "text": [
      "100%|██████████| 771/771 [01:24<00:00,  9.08it/s]\n",
      "c:\\Users\\user\\AppData\\Local\\Programs\\Python\\Python310\\lib\\site-packages\\sklearn\\metrics\\_classification.py:2524: UserWarning: y_pred contains classes not in y_true\n",
      "  warnings.warn(\"y_pred contains classes not in y_true\")\n"
     ]
    },
    {
     "name": "stdout",
     "output_type": "stream",
     "text": [
      "{'val_loss': 1.796498955420728, 'val_accuracy': 0.5384615384615384, 'precision': 0.5351522440639317, 'recall': 0.5384615384615384, 'f1-score': 0.5225509981498209, 'macro_f1-score': 0.17308944148758448, 'balanced_accuracy': 0.21579119607927325, 'mcc': 0.4115451326856272, 'train_loss': 1.843150955384498}\n",
      "Epoch 5/20\n"
     ]
    },
    {
     "name": "stderr",
     "output_type": "stream",
     "text": [
      "100%|██████████| 771/771 [01:24<00:00,  9.08it/s]\n",
      "c:\\Users\\user\\AppData\\Local\\Programs\\Python\\Python310\\lib\\site-packages\\sklearn\\metrics\\_classification.py:2524: UserWarning: y_pred contains classes not in y_true\n",
      "  warnings.warn(\"y_pred contains classes not in y_true\")\n"
     ]
    },
    {
     "name": "stdout",
     "output_type": "stream",
     "text": [
      "{'val_loss': 1.6637148328547209, 'val_accuracy': 0.5846153846153846, 'precision': 0.558542122198494, 'recall': 0.5846153846153846, 'f1-score': 0.5489902005019026, 'macro_f1-score': 0.23447138051326427, 'balanced_accuracy': 0.2863689715407029, 'mcc': 0.45068408617241706, 'train_loss': 1.6779003209022543}\n",
      "Epoch 6/20\n"
     ]
    },
    {
     "name": "stderr",
     "output_type": "stream",
     "text": [
      "100%|██████████| 771/771 [01:24<00:00,  9.10it/s]\n",
      "c:\\Users\\user\\AppData\\Local\\Programs\\Python\\Python310\\lib\\site-packages\\sklearn\\metrics\\_classification.py:2524: UserWarning: y_pred contains classes not in y_true\n",
      "  warnings.warn(\"y_pred contains classes not in y_true\")\n"
     ]
    },
    {
     "name": "stdout",
     "output_type": "stream",
     "text": [
      "{'val_loss': 1.8615229624622274, 'val_accuracy': 0.5171597633136095, 'precision': 0.5500342704863432, 'recall': 0.5171597633136095, 'f1-score': 0.5187934373271212, 'macro_f1-score': 0.20080732510812893, 'balanced_accuracy': 0.2560481297757881, 'mcc': 0.3967686945762114, 'train_loss': 1.346033411421819}\n",
      "Epoch 7/20\n"
     ]
    },
    {
     "name": "stderr",
     "output_type": "stream",
     "text": [
      "100%|██████████| 771/771 [01:24<00:00,  9.08it/s]\n",
      "c:\\Users\\user\\AppData\\Local\\Programs\\Python\\Python310\\lib\\site-packages\\sklearn\\metrics\\_classification.py:2524: UserWarning: y_pred contains classes not in y_true\n",
      "  warnings.warn(\"y_pred contains classes not in y_true\")\n"
     ]
    },
    {
     "name": "stdout",
     "output_type": "stream",
     "text": [
      "{'val_loss': 1.9119105721419711, 'val_accuracy': 0.5005917159763313, 'precision': 0.5935578404950875, 'recall': 0.5005917159763313, 'f1-score': 0.5196754251482398, 'macro_f1-score': 0.20943110344067592, 'balanced_accuracy': 0.2734074553787673, 'mcc': 0.4059415588671252, 'train_loss': 1.1490040061229552}\n",
      "Epoch 8/20\n"
     ]
    },
    {
     "name": "stderr",
     "output_type": "stream",
     "text": [
      "100%|██████████| 771/771 [01:24<00:00,  9.09it/s]\n"
     ]
    },
    {
     "name": "stdout",
     "output_type": "stream",
     "text": [
      "{'val_loss': 1.660088099398703, 'val_accuracy': 0.5988165680473373, 'precision': 0.6034310897564966, 'recall': 0.5988165680473373, 'f1-score': 0.5841428744811654, 'macro_f1-score': 0.28359710439169844, 'balanced_accuracy': 0.3174176986442535, 'mcc': 0.48625958190483354, 'train_loss': 0.992680907326759}\n",
      "Epoch 9/20\n"
     ]
    },
    {
     "name": "stderr",
     "output_type": "stream",
     "text": [
      "100%|██████████| 771/771 [01:24<00:00,  9.09it/s]\n"
     ]
    },
    {
     "name": "stdout",
     "output_type": "stream",
     "text": [
      "{'val_loss': 1.7789157595274583, 'val_accuracy': 0.5597633136094674, 'precision': 0.6092111462850864, 'recall': 0.5597633136094674, 'f1-score': 0.5709966776997527, 'macro_f1-score': 0.29566327848144547, 'balanced_accuracy': 0.32726044560019285, 'mcc': 0.44615459905642785, 'train_loss': 0.9376443619471425}\n",
      "Epoch 10/20\n"
     ]
    },
    {
     "name": "stderr",
     "output_type": "stream",
     "text": [
      "100%|██████████| 771/771 [01:24<00:00,  9.08it/s]\n"
     ]
    },
    {
     "name": "stdout",
     "output_type": "stream",
     "text": [
      "{'val_loss': 1.7804128195879594, 'val_accuracy': 0.5680473372781065, 'precision': 0.579843658292655, 'recall': 0.5680473372781065, 'f1-score': 0.5579079824318117, 'macro_f1-score': 0.2639042118326696, 'balanced_accuracy': 0.3191858140402111, 'mcc': 0.45429783181543515, 'train_loss': 0.778597488400228}\n",
      "Epoch 11/20\n"
     ]
    },
    {
     "name": "stderr",
     "output_type": "stream",
     "text": [
      "100%|██████████| 771/771 [01:24<00:00,  9.08it/s]\n"
     ]
    },
    {
     "name": "stdout",
     "output_type": "stream",
     "text": [
      "{'val_loss': 1.8003368253977794, 'val_accuracy': 0.6082840236686391, 'precision': 0.6135371800872802, 'recall': 0.6082840236686391, 'f1-score': 0.5965173962142928, 'macro_f1-score': 0.28921742163016984, 'balanced_accuracy': 0.3317169086645561, 'mcc': 0.4890620915577337, 'train_loss': 0.7328590778428602}\n",
      "Epoch 12/20\n"
     ]
    },
    {
     "name": "stderr",
     "output_type": "stream",
     "text": [
      "100%|██████████| 771/771 [01:24<00:00,  9.08it/s]\n"
     ]
    },
    {
     "name": "stdout",
     "output_type": "stream",
     "text": [
      "{'val_loss': 1.799058565553629, 'val_accuracy': 0.5893491124260355, 'precision': 0.6039350358620948, 'recall': 0.5893491124260355, 'f1-score': 0.5835055705222519, 'macro_f1-score': 0.3015476491051546, 'balanced_accuracy': 0.34048198279969105, 'mcc': 0.47746632575522635, 'train_loss': 0.6675234675484718}\n",
      "Epoch 13/20\n"
     ]
    },
    {
     "name": "stderr",
     "output_type": "stream",
     "text": [
      "100%|██████████| 771/771 [01:24<00:00,  9.09it/s]\n"
     ]
    },
    {
     "name": "stdout",
     "output_type": "stream",
     "text": [
      "{'val_loss': 1.7173889740458075, 'val_accuracy': 0.5940828402366863, 'precision': 0.6044768594008536, 'recall': 0.5940828402366863, 'f1-score': 0.5861055036855135, 'macro_f1-score': 0.27846691440550037, 'balanced_accuracy': 0.2898971861444807, 'mcc': 0.4756012742903005, 'train_loss': 0.6277413246754543}\n",
      "Epoch 14/20\n"
     ]
    },
    {
     "name": "stderr",
     "output_type": "stream",
     "text": [
      "100%|██████████| 771/771 [01:25<00:00,  9.06it/s]\n"
     ]
    },
    {
     "name": "stdout",
     "output_type": "stream",
     "text": [
      "{'val_loss': 1.9893218784962061, 'val_accuracy': 0.5727810650887574, 'precision': 0.6539329751236802, 'recall': 0.5727810650887574, 'f1-score': 0.5736722540654576, 'macro_f1-score': 0.2941243567876663, 'balanced_accuracy': 0.3219786015648369, 'mcc': 0.4570061204839418, 'train_loss': 0.5702884528597505}\n",
      "Epoch 15/20\n"
     ]
    },
    {
     "name": "stderr",
     "output_type": "stream",
     "text": [
      "100%|██████████| 771/771 [01:25<00:00,  9.05it/s]\n"
     ]
    },
    {
     "name": "stdout",
     "output_type": "stream",
     "text": [
      "{'val_loss': 1.7694192135109093, 'val_accuracy': 0.5976331360946746, 'precision': 0.6449957744477588, 'recall': 0.5976331360946746, 'f1-score': 0.6002823793157791, 'macro_f1-score': 0.30694110486112497, 'balanced_accuracy': 0.33174853248573816, 'mcc': 0.49032203669201285, 'train_loss': 0.6172664882820559}\n",
      "Epoch 16/20\n"
     ]
    },
    {
     "name": "stderr",
     "output_type": "stream",
     "text": [
      "100%|██████████| 771/771 [01:24<00:00,  9.09it/s]\n"
     ]
    },
    {
     "name": "stdout",
     "output_type": "stream",
     "text": [
      "{'val_loss': 1.8895953949892297, 'val_accuracy': 0.5952662721893491, 'precision': 0.6427361946925981, 'recall': 0.5952662721893491, 'f1-score': 0.5976476021592587, 'macro_f1-score': 0.34573891178184063, 'balanced_accuracy': 0.3832968108855703, 'mcc': 0.4913891501552097, 'train_loss': 0.5427446932219037}\n",
      "Epoch 17/20\n"
     ]
    },
    {
     "name": "stderr",
     "output_type": "stream",
     "text": [
      "100%|██████████| 771/771 [01:24<00:00,  9.12it/s]\n"
     ]
    },
    {
     "name": "stdout",
     "output_type": "stream",
     "text": [
      "{'val_loss': 1.8549107965433373, 'val_accuracy': 0.5988165680473373, 'precision': 0.6228999604192003, 'recall': 0.5988165680473373, 'f1-score': 0.5997172411085301, 'macro_f1-score': 0.339488105511825, 'balanced_accuracy': 0.3735355070098492, 'mcc': 0.4862235737794485, 'train_loss': 0.4656800416270428}\n",
      "Epoch 18/20\n"
     ]
    },
    {
     "name": "stderr",
     "output_type": "stream",
     "text": [
      "100%|██████████| 771/771 [01:24<00:00,  9.09it/s]\n"
     ]
    },
    {
     "name": "stdout",
     "output_type": "stream",
     "text": [
      "{'val_loss': 1.9944296692902188, 'val_accuracy': 0.5964497041420118, 'precision': 0.645037657243152, 'recall': 0.5964497041420118, 'f1-score': 0.6051610470209126, 'macro_f1-score': 0.3560885039788761, 'balanced_accuracy': 0.39389654400402674, 'mcc': 0.4930213315560392, 'train_loss': 0.46104344591768953}\n",
      "Epoch 19/20\n"
     ]
    },
    {
     "name": "stderr",
     "output_type": "stream",
     "text": [
      "100%|██████████| 771/771 [01:24<00:00,  9.10it/s]\n",
      "c:\\Users\\user\\AppData\\Local\\Programs\\Python\\Python310\\lib\\site-packages\\sklearn\\metrics\\_classification.py:2524: UserWarning: y_pred contains classes not in y_true\n",
      "  warnings.warn(\"y_pred contains classes not in y_true\")\n"
     ]
    },
    {
     "name": "stdout",
     "output_type": "stream",
     "text": [
      "{'val_loss': 1.981672857167586, 'val_accuracy': 0.6, 'precision': 0.6525329718387324, 'recall': 0.6, 'f1-score': 0.6040761599804846, 'macro_f1-score': 0.33492790405053474, 'balanced_accuracy': 0.36374037016897703, 'mcc': 0.5014451211513473, 'train_loss': 0.41252232223130697}\n",
      "Epoch 20/20\n"
     ]
    },
    {
     "name": "stderr",
     "output_type": "stream",
     "text": [
      "100%|██████████| 771/771 [01:24<00:00,  9.10it/s]\n"
     ]
    },
    {
     "name": "stdout",
     "output_type": "stream",
     "text": [
      "{'val_loss': 1.8801030809024595, 'val_accuracy': 0.5964497041420118, 'precision': 0.6247099749347055, 'recall': 0.5964497041420118, 'f1-score': 0.5972240296953868, 'macro_f1-score': 0.34591713218535275, 'balanced_accuracy': 0.35533396193801375, 'mcc': 0.483102020405112, 'train_loss': 0.4588153091381303}\n",
      "\n",
      " === microsoft/deberta-base + bilstm + ros Final 10-fold Cross-Validation Results ===\n",
      "Total time: 11096 seconds\n",
      "Total time: 3 hrs 4 mins 56 secs\n",
      "val_loss: 2.0388\n",
      "val_accuracy: 0.5452\n",
      "precision: 0.5199\n",
      "recall: 0.5452\n",
      "f1-score: 0.5164\n",
      "macro_f1-score: 0.2138\n",
      "balanced_accuracy: 0.2501\n",
      "mcc: 0.3828\n",
      "train_loss: 1.5863\n"
     ]
    }
   ],
   "source": [
    "model_list = [\"bert-base-uncased\",\"roberta-base\",\"microsoft/deberta-base\"]\n",
    "hybrid_list = [\"cnn\",\"bilstm\"]\n",
    "resample_list = [\"ros\"]\n",
    "\n",
    "for model_name in model_list:\n",
    "    for hybrid_type in hybrid_list:\n",
    "        for resample_method in resample_list:\n",
    "            results = run_kfold_experiment(\n",
    "                X=messages, y=labels, model_name=model_name, hybrid_type=hybrid_type, resample_method=resample_method,\n",
    "                kfold=KFOLD_SPLIT, seed=SEED, epochs=EPOCHS, patience=PATIENCE, max_length=MAX_LENGTH, \n",
    "                batch_size=BATCH_SIZE, lr=LR, weight_decay=WEIGHT_DECAY\n",
    "            )"
   ]
  },
  {
   "cell_type": "code",
   "execution_count": 5,
   "id": "ec792735-5337-4675-a201-30ec3a0415ca",
   "metadata": {},
   "outputs": [
    {
     "data": {
      "text/plain": [
       "[{'val_loss': 2.261115422788656,\n",
       "  'val_accuracy': 0.49645390070921985,\n",
       "  'precision': 0.41896579120527055,\n",
       "  'recall': 0.49645390070921985,\n",
       "  'f1-score': 0.44238528361883755,\n",
       "  'macro_f1-score': 0.05785507040522239,\n",
       "  'balanced_accuracy': 0.09802192674930751,\n",
       "  'mcc': 0.3167047963061038,\n",
       "  'train_loss': 2.7967017672559784},\n",
       " {'val_loss': 2.1568681159109437,\n",
       "  'val_accuracy': 0.5023640661938534,\n",
       "  'precision': 0.4336742991644342,\n",
       "  'recall': 0.5023640661938534,\n",
       "  'f1-score': 0.4564577566917796,\n",
       "  'macro_f1-score': 0.07459803110262138,\n",
       "  'balanced_accuracy': 0.11099391593985253,\n",
       "  'mcc': 0.33112116743349945,\n",
       "  'train_loss': 2.5998853363106376},\n",
       " {'val_loss': 1.6890919332234364,\n",
       "  'val_accuracy': 0.6028368794326241,\n",
       "  'precision': 0.6323139629526746,\n",
       "  'recall': 0.6028368794326241,\n",
       "  'f1-score': 0.6051753185595788,\n",
       "  'macro_f1-score': 0.3263400501675815,\n",
       "  'balanced_accuracy': 0.3621146308417319,\n",
       "  'mcc': 0.49477989276357737,\n",
       "  'train_loss': 0.7474348061511489},\n",
       " {'val_loss': 1.8209654002819422,\n",
       "  'val_accuracy': 0.5531914893617021,\n",
       "  'precision': 0.5584454196251772,\n",
       "  'recall': 0.5531914893617021,\n",
       "  'f1-score': 0.5486097795454151,\n",
       "  'macro_f1-score': 0.28014245224495,\n",
       "  'balanced_accuracy': 0.3189467465186578,\n",
       "  'mcc': 0.4285266434619085,\n",
       "  'train_loss': 1.134027204431603},\n",
       " {'val_loss': 1.727713943652387,\n",
       "  'val_accuracy': 0.6082840236686391,\n",
       "  'precision': 0.6153953696709343,\n",
       "  'recall': 0.6082840236686391,\n",
       "  'f1-score': 0.6015026294375109,\n",
       "  'macro_f1-score': 0.32763251576794333,\n",
       "  'balanced_accuracy': 0.3594681546514519,\n",
       "  'mcc': 0.503106042397281,\n",
       "  'train_loss': 0.5871046796566705},\n",
       " {'val_loss': 1.770251529396705,\n",
       "  'val_accuracy': 0.5644970414201184,\n",
       "  'precision': 0.6057072785985745,\n",
       "  'recall': 0.5644970414201184,\n",
       "  'f1-score': 0.5700177323984376,\n",
       "  'macro_f1-score': 0.30161246080381665,\n",
       "  'balanced_accuracy': 0.3386222481625047,\n",
       "  'mcc': 0.4579196771768643,\n",
       "  'train_loss': 0.6956350006810577},\n",
       " {'val_loss': 2.061440851328508,\n",
       "  'val_accuracy': 0.493491124260355,\n",
       "  'precision': 0.4723555170085918,\n",
       "  'recall': 0.493491124260355,\n",
       "  'f1-score': 0.4698019039372376,\n",
       "  'macro_f1-score': 0.10626371926500905,\n",
       "  'balanced_accuracy': 0.18322211421827717,\n",
       "  'mcc': 0.35100767034346064,\n",
       "  'train_loss': 2.3100633703162545},\n",
       " {'val_loss': 1.9004233895607714,\n",
       "  'val_accuracy': 0.5644970414201184,\n",
       "  'precision': 0.5967117323828096,\n",
       "  'recall': 0.5644970414201184,\n",
       "  'f1-score': 0.564275671596027,\n",
       "  'macro_f1-score': 0.29405012599008606,\n",
       "  'balanced_accuracy': 0.31525022329689867,\n",
       "  'mcc': 0.4513670503478317,\n",
       "  'train_loss': 0.8204562938572831},\n",
       " {'val_loss': 3.005597024593713,\n",
       "  'val_accuracy': 0.46982248520710057,\n",
       "  'precision': 0.22073316760617626,\n",
       "  'recall': 0.46982248520710057,\n",
       "  'f1-score': 0.3003535050357793,\n",
       "  'macro_f1-score': 0.01304676459955963,\n",
       "  'balanced_accuracy': 0.02040816326530612,\n",
       "  'mcc': 0.0,\n",
       "  'train_loss': 3.7102315834060255},\n",
       " {'val_loss': 1.9944296692902188,\n",
       "  'val_accuracy': 0.5964497041420118,\n",
       "  'precision': 0.645037657243152,\n",
       "  'recall': 0.5964497041420118,\n",
       "  'f1-score': 0.6051610470209126,\n",
       "  'macro_f1-score': 0.3560885039788761,\n",
       "  'balanced_accuracy': 0.39389654400402674,\n",
       "  'mcc': 0.4930213315560392,\n",
       "  'train_loss': 0.46104344591768953}]"
      ]
     },
     "execution_count": 5,
     "metadata": {},
     "output_type": "execute_result"
    }
   ],
   "source": [
    "results"
   ]
  },
  {
   "cell_type": "code",
   "execution_count": null,
   "id": "3c633d6f-3117-4e62-a92c-c50fb863c194",
   "metadata": {},
   "outputs": [],
   "source": []
  },
  {
   "cell_type": "code",
   "execution_count": null,
   "id": "a979ee3d-a4b6-4ea5-8247-fe041653243b",
   "metadata": {},
   "outputs": [],
   "source": []
  }
 ],
 "metadata": {
  "kernelspec": {
   "display_name": "Python 3 (ipykernel)",
   "language": "python",
   "name": "python3"
  },
  "language_info": {
   "codemirror_mode": {
    "name": "ipython",
    "version": 3
   },
   "file_extension": ".py",
   "mimetype": "text/x-python",
   "name": "python",
   "nbconvert_exporter": "python",
   "pygments_lexer": "ipython3",
   "version": "3.12.7"
  }
 },
 "nbformat": 4,
 "nbformat_minor": 5
}
