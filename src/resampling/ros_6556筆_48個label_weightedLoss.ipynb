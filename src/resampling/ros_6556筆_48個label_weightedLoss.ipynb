{
 "cells": [
  {
   "cell_type": "code",
   "execution_count": 1,
   "id": "f22f4841-9a9d-4a63-b896-560594d666d8",
   "metadata": {},
   "outputs": [
    {
     "data": {
      "text/html": [
       "<div>\n",
       "<style scoped>\n",
       "    .dataframe tbody tr th:only-of-type {\n",
       "        vertical-align: middle;\n",
       "    }\n",
       "\n",
       "    .dataframe tbody tr th {\n",
       "        vertical-align: top;\n",
       "    }\n",
       "\n",
       "    .dataframe thead th {\n",
       "        text-align: right;\n",
       "    }\n",
       "</style>\n",
       "<table border=\"1\" class=\"dataframe\">\n",
       "  <thead>\n",
       "    <tr style=\"text-align: right;\">\n",
       "      <th></th>\n",
       "      <th>Inbound Message</th>\n",
       "      <th>Label</th>\n",
       "    </tr>\n",
       "  </thead>\n",
       "  <tbody>\n",
       "    <tr>\n",
       "      <th>0</th>\n",
       "      <td>login issue verified user details employee man...</td>\n",
       "      <td>0</td>\n",
       "    </tr>\n",
       "    <tr>\n",
       "      <th>1</th>\n",
       "      <td>outlook hello team meetings skype meetings etc...</td>\n",
       "      <td>0</td>\n",
       "    </tr>\n",
       "    <tr>\n",
       "      <th>2</th>\n",
       "      <td>cant log vpn cannot log vpn best</td>\n",
       "      <td>0</td>\n",
       "    </tr>\n",
       "    <tr>\n",
       "      <th>3</th>\n",
       "      <td>unable access tool page unable access tool page</td>\n",
       "      <td>0</td>\n",
       "    </tr>\n",
       "    <tr>\n",
       "      <th>4</th>\n",
       "      <td>skype error skype error</td>\n",
       "      <td>0</td>\n",
       "    </tr>\n",
       "    <tr>\n",
       "      <th>...</th>\n",
       "      <td>...</td>\n",
       "      <td>...</td>\n",
       "    </tr>\n",
       "    <tr>\n",
       "      <th>6551</th>\n",
       "      <td>emails coming mail good afternoon receiving em...</td>\n",
       "      <td>22</td>\n",
       "    </tr>\n",
       "    <tr>\n",
       "      <th>6552</th>\n",
       "      <td>telephony software issue telephony software issue</td>\n",
       "      <td>0</td>\n",
       "    </tr>\n",
       "    <tr>\n",
       "      <th>6553</th>\n",
       "      <td>vip windows password reset tifpdchb pedxruyf v...</td>\n",
       "      <td>0</td>\n",
       "    </tr>\n",
       "    <tr>\n",
       "      <th>6554</th>\n",
       "      <td>machine est funcionando unable access machine ...</td>\n",
       "      <td>42</td>\n",
       "    </tr>\n",
       "    <tr>\n",
       "      <th>6555</th>\n",
       "      <td>mehreren lassen sich verschiedene prgramdntyme...</td>\n",
       "      <td>47</td>\n",
       "    </tr>\n",
       "  </tbody>\n",
       "</table>\n",
       "<p>6556 rows × 2 columns</p>\n",
       "</div>"
      ],
      "text/plain": [
       "                                        Inbound Message  Label\n",
       "0     login issue verified user details employee man...      0\n",
       "1     outlook hello team meetings skype meetings etc...      0\n",
       "2                      cant log vpn cannot log vpn best      0\n",
       "3       unable access tool page unable access tool page      0\n",
       "4                               skype error skype error      0\n",
       "...                                                 ...    ...\n",
       "6551  emails coming mail good afternoon receiving em...     22\n",
       "6552  telephony software issue telephony software issue      0\n",
       "6553  vip windows password reset tifpdchb pedxruyf v...      0\n",
       "6554  machine est funcionando unable access machine ...     42\n",
       "6555  mehreren lassen sich verschiedene prgramdntyme...     47\n",
       "\n",
       "[6556 rows x 2 columns]"
      ]
     },
     "execution_count": 1,
     "metadata": {},
     "output_type": "execute_result"
    }
   ],
   "source": [
    "import pandas as pd\n",
    "data_path = \"../../data/6556_48_label.csv\"\n",
    "df = pd.read_csv(data_path)\n",
    "# df_label_0 = df[df[\"Label\"] == 0]\n",
    "# df_label_0_to_drop = df_label_0.sample(n=3000, random_state=42)\n",
    "# df = df.drop(df_label_0_to_drop.index)\n",
    "df"
   ]
  },
  {
   "cell_type": "code",
   "execution_count": 2,
   "id": "bf737873-4f1c-4588-913d-8f06b2777b20",
   "metadata": {},
   "outputs": [
    {
     "name": "stderr",
     "output_type": "stream",
     "text": [
      "c:\\Users\\user\\AppData\\Local\\Programs\\Python\\Python310\\lib\\site-packages\\tqdm\\auto.py:21: TqdmWarning: IProgress not found. Please update jupyter and ipywidgets. See https://ipywidgets.readthedocs.io/en/stable/user_install.html\n",
      "  from .autonotebook import tqdm as notebook_tqdm\n"
     ]
    }
   ],
   "source": [
    "import sys\n",
    "import os\n",
    "sys.path.append(os.path.abspath('../ml_lib'))\n",
    "\n",
    "from config import *\n",
    "from experiment import run_kfold_experiment"
   ]
  },
  {
   "cell_type": "code",
   "execution_count": 3,
   "id": "a12b2613-aa9d-41c0-8f62-72210eaf8d7f",
   "metadata": {},
   "outputs": [],
   "source": [
    "messages, labels = df['Inbound Message'].tolist(), df['Label'].tolist()"
   ]
  },
  {
   "cell_type": "code",
   "execution_count": 4,
   "id": "38d4729f-f867-4cea-89f9-31f67e5ecced",
   "metadata": {},
   "outputs": [
    {
     "name": "stdout",
     "output_type": "stream",
     "text": [
      "▶ Running: bert-base-uncased + plain + ros\n",
      "tokenizer is bert-base-uncased\n",
      "Using device: cuda\n",
      "CUDA Available: True\n",
      "CUDA Device: NVIDIA GeForce RTX 5070 Ti\n",
      "Current GPU Memory Allocated: 0.00 GB\n",
      "Current GPU Memory Cached: 0.00 GB\n",
      "\n",
      "[Fold 1]\n",
      "Label distribution after resampling:\n",
      "  label 0: 2000\n",
      "  label 1: 200\n",
      "  label 2: 200\n",
      "  label 3: 200\n",
      "  label 4: 200\n",
      "  label 5: 200\n",
      "  label 6: 200\n",
      "  label 7: 200\n",
      "  label 8: 200\n",
      "  label 9: 200\n",
      "  label 10: 200\n",
      "  label 11: 200\n",
      "  label 12: 200\n",
      "  label 13: 200\n",
      "  label 14: 200\n",
      "  label 15: 200\n",
      "  label 16: 200\n",
      "  label 17: 200\n",
      "  label 18: 200\n",
      "  label 19: 200\n",
      "  label 20: 200\n",
      "  label 21: 200\n",
      "  label 22: 200\n",
      "  label 23: 200\n",
      "  label 24: 200\n",
      "  label 25: 200\n",
      "  label 26: 200\n",
      "  label 27: 200\n",
      "  label 28: 200\n",
      "  label 29: 200\n",
      "  label 30: 200\n",
      "  label 31: 200\n",
      "  label 32: 200\n",
      "  label 33: 200\n",
      "  label 34: 200\n",
      "  label 35: 200\n",
      "  label 36: 200\n",
      "  label 37: 200\n",
      "  label 38: 200\n",
      "  label 39: 200\n",
      "  label 40: 200\n",
      "  label 41: 200\n",
      "  label 42: 200\n",
      "  label 43: 200\n",
      "  label 44: 200\n",
      "  label 45: 242\n",
      "  label 46: 200\n",
      "  label 47: 200\n",
      "model is bert-base-uncased\n"
     ]
    },
    {
     "name": "stderr",
     "output_type": "stream",
     "text": [
      "Some weights of BertForSequenceClassification were not initialized from the model checkpoint at bert-base-uncased and are newly initialized: ['classifier.bias', 'classifier.weight']\n",
      "You should probably TRAIN this model on a down-stream task to be able to use it for predictions and inference.\n"
     ]
    },
    {
     "name": "stdout",
     "output_type": "stream",
     "text": [
      "Epoch 1/20\n"
     ]
    },
    {
     "name": "stderr",
     "output_type": "stream",
     "text": [
      "100%|██████████| 716/716 [00:59<00:00, 11.94it/s]\n"
     ]
    },
    {
     "name": "stdout",
     "output_type": "stream",
     "text": [
      "{'val_loss': 1.575255102864126, 'val_accuracy': 0.5922256097560976, 'precision': 0.5696608422037818, 'recall': 0.5922256097560976, 'f1-score': 0.5383086225713927, 'macro_f1-score': 0.3488701136808201, 'balanced_accuracy': 0.37156372254996156, 'mcc': 0.4259215248384586, 'train_loss': 2.1297371465733597}\n",
      "Epoch 2/20\n"
     ]
    },
    {
     "name": "stderr",
     "output_type": "stream",
     "text": [
      "100%|██████████| 716/716 [00:59<00:00, 11.96it/s]\n"
     ]
    },
    {
     "name": "stdout",
     "output_type": "stream",
     "text": [
      "{'val_loss': 1.469123108357918, 'val_accuracy': 0.6135670731707317, 'precision': 0.6174471049405448, 'recall': 0.6135670731707317, 'f1-score': 0.60580863067197, 'macro_f1-score': 0.3918012424127337, 'balanced_accuracy': 0.3905956184761788, 'mcc': 0.48651605493706457, 'train_loss': 0.6221968117456197}\n",
      "Epoch 3/20\n"
     ]
    },
    {
     "name": "stderr",
     "output_type": "stream",
     "text": [
      "100%|██████████| 716/716 [00:59<00:00, 11.94it/s]\n"
     ]
    },
    {
     "name": "stdout",
     "output_type": "stream",
     "text": [
      "{'val_loss': 1.571760898137965, 'val_accuracy': 0.6432926829268293, 'precision': 0.6257513447304768, 'recall': 0.6432926829268293, 'f1-score': 0.6192148740160294, 'macro_f1-score': 0.38599846057148035, 'balanced_accuracy': 0.3626375447621762, 'mcc': 0.5102826059695864, 'train_loss': 0.2679146536880865}\n",
      "Epoch 4/20\n"
     ]
    },
    {
     "name": "stderr",
     "output_type": "stream",
     "text": [
      "100%|██████████| 716/716 [00:59<00:00, 11.94it/s]\n"
     ]
    },
    {
     "name": "stdout",
     "output_type": "stream",
     "text": [
      "{'val_loss': 1.6903811425152349, 'val_accuracy': 0.6570121951219512, 'precision': 0.6426577098456472, 'recall': 0.6570121951219512, 'f1-score': 0.6338355186004834, 'macro_f1-score': 0.40289156776164, 'balanced_accuracy': 0.40724495144581185, 'mcc': 0.5327312246620585, 'train_loss': 0.1730238479710387}\n",
      "Epoch 5/20\n"
     ]
    },
    {
     "name": "stderr",
     "output_type": "stream",
     "text": [
      "100%|██████████| 716/716 [01:00<00:00, 11.92it/s]\n"
     ]
    },
    {
     "name": "stdout",
     "output_type": "stream",
     "text": [
      "{'val_loss': 2.0537614019178765, 'val_accuracy': 0.586890243902439, 'precision': 0.6456410059272621, 'recall': 0.586890243902439, 'f1-score': 0.5986801056592229, 'macro_f1-score': 0.396659208142831, 'balanced_accuracy': 0.4232061010973343, 'mcc': 0.48900858623670485, 'train_loss': 0.11913408592275693}\n",
      "Epoch 6/20\n"
     ]
    },
    {
     "name": "stderr",
     "output_type": "stream",
     "text": [
      "100%|██████████| 716/716 [01:00<00:00, 11.93it/s]\n"
     ]
    },
    {
     "name": "stdout",
     "output_type": "stream",
     "text": [
      "{'val_loss': 1.90649343118435, 'val_accuracy': 0.6272865853658537, 'precision': 0.6263426726945176, 'recall': 0.6272865853658537, 'f1-score': 0.6152596446724359, 'macro_f1-score': 0.39602146278012124, 'balanced_accuracy': 0.3879604554122487, 'mcc': 0.5010992789664757, 'train_loss': 0.10942396912372583}\n",
      "Epoch 7/20\n"
     ]
    },
    {
     "name": "stderr",
     "output_type": "stream",
     "text": [
      "100%|██████████| 716/716 [01:00<00:00, 11.92it/s]\n"
     ]
    },
    {
     "name": "stdout",
     "output_type": "stream",
     "text": [
      "{'val_loss': 1.971897598037996, 'val_accuracy': 0.6478658536585366, 'precision': 0.6327039168451715, 'recall': 0.6478658536585366, 'f1-score': 0.631824911344288, 'macro_f1-score': 0.41593916886192667, 'balanced_accuracy': 0.40193701107634744, 'mcc': 0.5249362577409787, 'train_loss': 0.07176325375808652}\n",
      "Epoch 8/20\n"
     ]
    },
    {
     "name": "stderr",
     "output_type": "stream",
     "text": [
      "100%|██████████| 716/716 [01:00<00:00, 11.92it/s]\n"
     ]
    },
    {
     "name": "stdout",
     "output_type": "stream",
     "text": [
      "{'val_loss': 2.040398147593184, 'val_accuracy': 0.6516768292682927, 'precision': 0.6414505437091041, 'recall': 0.6516768292682927, 'f1-score': 0.6356700732593649, 'macro_f1-score': 0.4237486022055872, 'balanced_accuracy': 0.4213169525882791, 'mcc': 0.5359089317281596, 'train_loss': 0.07334928550463503}\n",
      "Epoch 9/20\n"
     ]
    },
    {
     "name": "stderr",
     "output_type": "stream",
     "text": [
      "100%|██████████| 716/716 [01:00<00:00, 11.92it/s]\n"
     ]
    },
    {
     "name": "stdout",
     "output_type": "stream",
     "text": [
      "{'val_loss': 2.077939959969826, 'val_accuracy': 0.6310975609756098, 'precision': 0.6293961491082716, 'recall': 0.6310975609756098, 'f1-score': 0.621553975247671, 'macro_f1-score': 0.3943284137045617, 'balanced_accuracy': 0.3976645648232033, 'mcc': 0.5094854619031841, 'train_loss': 0.07034131013963882}\n",
      "Epoch 10/20\n"
     ]
    },
    {
     "name": "stderr",
     "output_type": "stream",
     "text": [
      "100%|██████████| 716/716 [01:00<00:00, 11.93it/s]\n"
     ]
    },
    {
     "name": "stdout",
     "output_type": "stream",
     "text": [
      "{'val_loss': 2.1386721650729092, 'val_accuracy': 0.6714939024390244, 'precision': 0.6555322106523066, 'recall': 0.6714939024390244, 'f1-score': 0.6516580928661732, 'macro_f1-score': 0.4417242064045827, 'balanced_accuracy': 0.4238394053310621, 'mcc': 0.5523306899786163, 'train_loss': 0.05087498277955813}\n",
      "Epoch 11/20\n"
     ]
    },
    {
     "name": "stderr",
     "output_type": "stream",
     "text": [
      "100%|██████████| 716/716 [01:00<00:00, 11.93it/s]\n"
     ]
    },
    {
     "name": "stdout",
     "output_type": "stream",
     "text": [
      "{'val_loss': 2.2622074466652986, 'val_accuracy': 0.6242378048780488, 'precision': 0.6300682966085458, 'recall': 0.6242378048780488, 'f1-score': 0.6196763857045777, 'macro_f1-score': 0.3810017561557819, 'balanced_accuracy': 0.38582759298395475, 'mcc': 0.5077633539952092, 'train_loss': 0.05064436287067014}\n",
      "Epoch 12/20\n"
     ]
    },
    {
     "name": "stderr",
     "output_type": "stream",
     "text": [
      "100%|██████████| 716/716 [01:00<00:00, 11.92it/s]\n"
     ]
    },
    {
     "name": "stdout",
     "output_type": "stream",
     "text": [
      "{'val_loss': 2.1722498970424255, 'val_accuracy': 0.6379573170731707, 'precision': 0.6366014028340483, 'recall': 0.6379573170731707, 'f1-score': 0.6303671928308172, 'macro_f1-score': 0.4012775831036623, 'balanced_accuracy': 0.40615340063870525, 'mcc': 0.527234876482807, 'train_loss': 0.07619846580152051}\n",
      "Epoch 13/20\n"
     ]
    },
    {
     "name": "stderr",
     "output_type": "stream",
     "text": [
      "100%|██████████| 716/716 [01:00<00:00, 11.92it/s]\n"
     ]
    },
    {
     "name": "stdout",
     "output_type": "stream",
     "text": [
      "{'val_loss': 2.4558278096885218, 'val_accuracy': 0.6112804878048781, 'precision': 0.6366898691295282, 'recall': 0.6112804878048781, 'f1-score': 0.6135922032730969, 'macro_f1-score': 0.38376594460611063, 'balanced_accuracy': 0.41525417894120187, 'mcc': 0.5010713727682125, 'train_loss': 0.04692715157571967}\n",
      "Early stopping.\n",
      "\n",
      "[Fold 2]\n",
      "Label distribution after resampling:\n",
      "  label 0: 2000\n",
      "  label 1: 200\n",
      "  label 2: 200\n",
      "  label 3: 200\n",
      "  label 4: 200\n",
      "  label 5: 200\n",
      "  label 6: 200\n",
      "  label 7: 200\n",
      "  label 8: 200\n",
      "  label 9: 200\n",
      "  label 10: 200\n",
      "  label 11: 200\n",
      "  label 12: 200\n",
      "  label 13: 200\n",
      "  label 14: 200\n",
      "  label 15: 200\n",
      "  label 16: 200\n",
      "  label 17: 200\n",
      "  label 18: 200\n",
      "  label 19: 200\n",
      "  label 20: 200\n",
      "  label 21: 200\n",
      "  label 22: 200\n",
      "  label 23: 200\n",
      "  label 24: 200\n",
      "  label 25: 200\n",
      "  label 26: 200\n",
      "  label 27: 200\n",
      "  label 28: 200\n",
      "  label 29: 200\n",
      "  label 30: 200\n",
      "  label 31: 200\n",
      "  label 32: 200\n",
      "  label 33: 200\n",
      "  label 34: 200\n",
      "  label 35: 200\n",
      "  label 36: 200\n",
      "  label 37: 200\n",
      "  label 38: 200\n",
      "  label 39: 200\n",
      "  label 40: 200\n",
      "  label 41: 200\n",
      "  label 42: 200\n",
      "  label 43: 200\n",
      "  label 44: 200\n",
      "  label 45: 242\n",
      "  label 46: 200\n",
      "  label 47: 200\n",
      "model is bert-base-uncased\n"
     ]
    },
    {
     "name": "stderr",
     "output_type": "stream",
     "text": [
      "Some weights of BertForSequenceClassification were not initialized from the model checkpoint at bert-base-uncased and are newly initialized: ['classifier.bias', 'classifier.weight']\n",
      "You should probably TRAIN this model on a down-stream task to be able to use it for predictions and inference.\n"
     ]
    },
    {
     "name": "stdout",
     "output_type": "stream",
     "text": [
      "Epoch 1/20\n"
     ]
    },
    {
     "name": "stderr",
     "output_type": "stream",
     "text": [
      "100%|██████████| 716/716 [01:00<00:00, 11.91it/s]\n"
     ]
    },
    {
     "name": "stdout",
     "output_type": "stream",
     "text": [
      "{'val_loss': 1.5663405089843563, 'val_accuracy': 0.5842868039664378, 'precision': 0.6110350637394283, 'recall': 0.5842868039664378, 'f1-score': 0.5821083270761869, 'macro_f1-score': 0.3643528652980292, 'balanced_accuracy': 0.4038308299897205, 'mcc': 0.45940674356341066, 'train_loss': 2.1353260262884906}\n",
      "Epoch 2/20\n"
     ]
    },
    {
     "name": "stderr",
     "output_type": "stream",
     "text": [
      "100%|██████████| 716/716 [01:00<00:00, 11.92it/s]\n"
     ]
    },
    {
     "name": "stdout",
     "output_type": "stream",
     "text": [
      "{'val_loss': 1.4976895229845513, 'val_accuracy': 0.623951182303585, 'precision': 0.6296597097656187, 'recall': 0.623951182303585, 'f1-score': 0.6142443545148162, 'macro_f1-score': 0.38076031788500936, 'balanced_accuracy': 0.3953122003424567, 'mcc': 0.504563333293885, 'train_loss': 0.5860195054605021}\n",
      "Epoch 3/20\n"
     ]
    },
    {
     "name": "stderr",
     "output_type": "stream",
     "text": [
      "100%|██████████| 716/716 [01:00<00:00, 11.92it/s]\n"
     ]
    },
    {
     "name": "stdout",
     "output_type": "stream",
     "text": [
      "{'val_loss': 1.8350910689772628, 'val_accuracy': 0.585812356979405, 'precision': 0.6560786765799645, 'recall': 0.585812356979405, 'f1-score': 0.6019327744603356, 'macro_f1-score': 0.3916609398955992, 'balanced_accuracy': 0.41452043821318113, 'mcc': 0.48461168908342395, 'train_loss': 0.25840643421595905}\n",
      "Epoch 4/20\n"
     ]
    },
    {
     "name": "stderr",
     "output_type": "stream",
     "text": [
      "100%|██████████| 716/716 [01:00<00:00, 11.93it/s]\n"
     ]
    },
    {
     "name": "stdout",
     "output_type": "stream",
     "text": [
      "{'val_loss': 2.059505457558283, 'val_accuracy': 0.566742944317315, 'precision': 0.6124568392018401, 'recall': 0.566742944317315, 'f1-score': 0.5717716487455443, 'macro_f1-score': 0.3455068931615582, 'balanced_accuracy': 0.36535722107212304, 'mcc': 0.46490524399561994, 'train_loss': 0.1645517357958054}\n",
      "Epoch 5/20\n"
     ]
    },
    {
     "name": "stderr",
     "output_type": "stream",
     "text": [
      "100%|██████████| 716/716 [01:00<00:00, 11.92it/s]\n"
     ]
    },
    {
     "name": "stdout",
     "output_type": "stream",
     "text": [
      "{'val_loss': 1.8720996510691759, 'val_accuracy': 0.6399694889397407, 'precision': 0.6415000396938115, 'recall': 0.6399694889397407, 'f1-score': 0.6323185971938957, 'macro_f1-score': 0.3986887892129327, 'balanced_accuracy': 0.4007216102196051, 'mcc': 0.5257967653044016, 'train_loss': 0.10465768435657774}\n",
      "Epoch 6/20\n"
     ]
    },
    {
     "name": "stderr",
     "output_type": "stream",
     "text": [
      "100%|██████████| 716/716 [01:00<00:00, 11.92it/s]\n"
     ]
    },
    {
     "name": "stdout",
     "output_type": "stream",
     "text": [
      "{'val_loss': 1.930474126847779, 'val_accuracy': 0.6407322654462243, 'precision': 0.6183960358531209, 'recall': 0.6407322654462243, 'f1-score': 0.6220088998256526, 'macro_f1-score': 0.37503700892068353, 'balanced_accuracy': 0.3955956469602541, 'mcc': 0.5228977895324267, 'train_loss': 0.08662912842990601}\n",
      "Epoch 7/20\n"
     ]
    },
    {
     "name": "stderr",
     "output_type": "stream",
     "text": [
      "100%|██████████| 716/716 [01:00<00:00, 11.92it/s]\n"
     ]
    },
    {
     "name": "stdout",
     "output_type": "stream",
     "text": [
      "{'val_loss': 2.0426862672334765, 'val_accuracy': 0.6292906178489702, 'precision': 0.6392799899003438, 'recall': 0.6292906178489702, 'f1-score': 0.6230842180988422, 'macro_f1-score': 0.37456589563806625, 'balanced_accuracy': 0.38838885987420424, 'mcc': 0.519701527885127, 'train_loss': 0.07440005791895143}\n",
      "Epoch 8/20\n"
     ]
    },
    {
     "name": "stderr",
     "output_type": "stream",
     "text": [
      "100%|██████████| 716/716 [01:00<00:00, 11.93it/s]\n"
     ]
    },
    {
     "name": "stdout",
     "output_type": "stream",
     "text": [
      "{'val_loss': 2.21697122003974, 'val_accuracy': 0.6392067124332571, 'precision': 0.6218243557522641, 'recall': 0.6392067124332571, 'f1-score': 0.607497687749276, 'macro_f1-score': 0.3507916041542438, 'balanced_accuracy': 0.32726674162878033, 'mcc': 0.5056888511892957, 'train_loss': 0.0775190531337951}\n",
      "Early stopping.\n",
      "\n",
      "[Fold 3]\n",
      "Label distribution after resampling:\n",
      "  label 0: 2000\n",
      "  label 1: 200\n",
      "  label 2: 200\n",
      "  label 3: 200\n",
      "  label 4: 200\n",
      "  label 5: 200\n",
      "  label 6: 200\n",
      "  label 7: 200\n",
      "  label 8: 200\n",
      "  label 9: 200\n",
      "  label 10: 200\n",
      "  label 11: 200\n",
      "  label 12: 200\n",
      "  label 13: 200\n",
      "  label 14: 200\n",
      "  label 15: 200\n",
      "  label 16: 200\n",
      "  label 17: 200\n",
      "  label 18: 200\n",
      "  label 19: 200\n",
      "  label 20: 200\n",
      "  label 21: 200\n",
      "  label 22: 200\n",
      "  label 23: 200\n",
      "  label 24: 200\n",
      "  label 25: 200\n",
      "  label 26: 200\n",
      "  label 27: 200\n",
      "  label 28: 200\n",
      "  label 29: 200\n",
      "  label 30: 200\n",
      "  label 31: 200\n",
      "  label 32: 200\n",
      "  label 33: 200\n",
      "  label 34: 200\n",
      "  label 35: 200\n",
      "  label 36: 200\n",
      "  label 37: 200\n",
      "  label 38: 200\n",
      "  label 39: 200\n",
      "  label 40: 200\n",
      "  label 41: 200\n",
      "  label 42: 200\n",
      "  label 43: 200\n",
      "  label 44: 200\n",
      "  label 45: 241\n",
      "  label 46: 200\n",
      "  label 47: 200\n",
      "model is bert-base-uncased\n"
     ]
    },
    {
     "name": "stderr",
     "output_type": "stream",
     "text": [
      "Some weights of BertForSequenceClassification were not initialized from the model checkpoint at bert-base-uncased and are newly initialized: ['classifier.bias', 'classifier.weight']\n",
      "You should probably TRAIN this model on a down-stream task to be able to use it for predictions and inference.\n"
     ]
    },
    {
     "name": "stdout",
     "output_type": "stream",
     "text": [
      "Epoch 1/20\n"
     ]
    },
    {
     "name": "stderr",
     "output_type": "stream",
     "text": [
      "100%|██████████| 716/716 [01:00<00:00, 11.91it/s]\n"
     ]
    },
    {
     "name": "stdout",
     "output_type": "stream",
     "text": [
      "{'val_loss': 1.6560406604918039, 'val_accuracy': 0.555301296720061, 'precision': 0.5953374842714083, 'recall': 0.555301296720061, 'f1-score': 0.538058306235003, 'macro_f1-score': 0.3141373133690659, 'balanced_accuracy': 0.34343916217740206, 'mcc': 0.40381247828779826, 'train_loss': 1.9872876570960663}\n",
      "Epoch 2/20\n"
     ]
    },
    {
     "name": "stderr",
     "output_type": "stream",
     "text": [
      "100%|██████████| 716/716 [01:00<00:00, 11.93it/s]\n"
     ]
    },
    {
     "name": "stdout",
     "output_type": "stream",
     "text": [
      "{'val_loss': 1.5554900972581491, 'val_accuracy': 0.6186117467581999, 'precision': 0.6157539104557788, 'recall': 0.6186117467581999, 'f1-score': 0.6025675827460492, 'macro_f1-score': 0.38249711400308506, 'balanced_accuracy': 0.35573331266129465, 'mcc': 0.4816703078701327, 'train_loss': 0.5363026290648102}\n",
      "Epoch 3/20\n"
     ]
    },
    {
     "name": "stderr",
     "output_type": "stream",
     "text": [
      "100%|██████████| 716/716 [01:00<00:00, 11.92it/s]\n"
     ]
    },
    {
     "name": "stdout",
     "output_type": "stream",
     "text": [
      "{'val_loss': 1.7022477929911963, 'val_accuracy': 0.601067887109077, 'precision': 0.6259926213992217, 'recall': 0.601067887109077, 'f1-score': 0.5990365270749751, 'macro_f1-score': 0.3909928410958019, 'balanced_accuracy': 0.37693585385845746, 'mcc': 0.4753085821459868, 'train_loss': 0.23520042967082486}\n",
      "Epoch 4/20\n"
     ]
    },
    {
     "name": "stderr",
     "output_type": "stream",
     "text": [
      "100%|██████████| 716/716 [01:00<00:00, 11.92it/s]\n"
     ]
    },
    {
     "name": "stdout",
     "output_type": "stream",
     "text": [
      "{'val_loss': 1.754668264490802, 'val_accuracy': 0.631578947368421, 'precision': 0.6383082033035988, 'recall': 0.631578947368421, 'f1-score': 0.6252397511146832, 'macro_f1-score': 0.4325857120714412, 'balanced_accuracy': 0.39747443346896255, 'mcc': 0.508929084321435, 'train_loss': 0.13950814814605964}\n",
      "Epoch 5/20\n"
     ]
    },
    {
     "name": "stderr",
     "output_type": "stream",
     "text": [
      "100%|██████████| 716/716 [01:00<00:00, 11.92it/s]\n"
     ]
    },
    {
     "name": "stdout",
     "output_type": "stream",
     "text": [
      "{'val_loss': 1.952568488513551, 'val_accuracy': 0.6369183829138062, 'precision': 0.6120588890058577, 'recall': 0.6369183829138062, 'f1-score': 0.6080550302523869, 'macro_f1-score': 0.3693667338261106, 'balanced_accuracy': 0.3422919508844742, 'mcc': 0.5039342257455545, 'train_loss': 0.09599565244188751}\n",
      "Epoch 6/20\n"
     ]
    },
    {
     "name": "stderr",
     "output_type": "stream",
     "text": [
      "100%|██████████| 716/716 [01:00<00:00, 11.93it/s]\n"
     ]
    },
    {
     "name": "stdout",
     "output_type": "stream",
     "text": [
      "{'val_loss': 2.0163611623844724, 'val_accuracy': 0.6376811594202898, 'precision': 0.6251603628850184, 'recall': 0.6376811594202898, 'f1-score': 0.6208377191574442, 'macro_f1-score': 0.40152410185433934, 'balanced_accuracy': 0.3856708294962196, 'mcc': 0.5134369294689978, 'train_loss': 0.08476728409354435}\n",
      "Epoch 7/20\n"
     ]
    },
    {
     "name": "stderr",
     "output_type": "stream",
     "text": [
      "100%|██████████| 716/716 [01:00<00:00, 11.93it/s]\n"
     ]
    },
    {
     "name": "stdout",
     "output_type": "stream",
     "text": [
      "{'val_loss': 2.152978842033119, 'val_accuracy': 0.6338672768878718, 'precision': 0.62296972316322, 'recall': 0.6338672768878718, 'f1-score': 0.6068473617757533, 'macro_f1-score': 0.36417268737799374, 'balanced_accuracy': 0.3428049737041052, 'mcc': 0.49839439993851303, 'train_loss': 0.09872074310788781}\n",
      "Early stopping.\n",
      "\n",
      "[Fold 4]\n",
      "Label distribution after resampling:\n",
      "  label 0: 2000\n",
      "  label 1: 200\n",
      "  label 2: 200\n",
      "  label 3: 200\n",
      "  label 4: 200\n",
      "  label 5: 200\n",
      "  label 6: 200\n",
      "  label 7: 200\n",
      "  label 8: 200\n",
      "  label 9: 200\n",
      "  label 10: 200\n",
      "  label 11: 200\n",
      "  label 12: 200\n",
      "  label 13: 200\n",
      "  label 14: 200\n",
      "  label 15: 200\n",
      "  label 16: 200\n",
      "  label 17: 200\n",
      "  label 18: 200\n",
      "  label 19: 200\n",
      "  label 20: 200\n",
      "  label 21: 200\n",
      "  label 22: 200\n",
      "  label 23: 200\n",
      "  label 24: 200\n",
      "  label 25: 200\n",
      "  label 26: 200\n",
      "  label 27: 200\n",
      "  label 28: 200\n",
      "  label 29: 200\n",
      "  label 30: 200\n",
      "  label 31: 200\n",
      "  label 32: 200\n",
      "  label 33: 200\n",
      "  label 34: 200\n",
      "  label 35: 200\n",
      "  label 36: 200\n",
      "  label 37: 200\n",
      "  label 38: 200\n",
      "  label 39: 200\n",
      "  label 40: 200\n",
      "  label 41: 200\n",
      "  label 42: 200\n",
      "  label 43: 200\n",
      "  label 44: 200\n",
      "  label 45: 241\n",
      "  label 46: 200\n",
      "  label 47: 200\n",
      "model is bert-base-uncased\n"
     ]
    },
    {
     "name": "stderr",
     "output_type": "stream",
     "text": [
      "Some weights of BertForSequenceClassification were not initialized from the model checkpoint at bert-base-uncased and are newly initialized: ['classifier.bias', 'classifier.weight']\n",
      "You should probably TRAIN this model on a down-stream task to be able to use it for predictions and inference.\n"
     ]
    },
    {
     "name": "stdout",
     "output_type": "stream",
     "text": [
      "Epoch 1/20\n"
     ]
    },
    {
     "name": "stderr",
     "output_type": "stream",
     "text": [
      "100%|██████████| 716/716 [01:00<00:00, 11.92it/s]\n"
     ]
    },
    {
     "name": "stdout",
     "output_type": "stream",
     "text": [
      "{'val_loss': 1.6268216066244172, 'val_accuracy': 0.5964912280701754, 'precision': 0.6240483226623748, 'recall': 0.5964912280701754, 'f1-score': 0.5841374806913847, 'macro_f1-score': 0.36110702304989023, 'balanced_accuracy': 0.41197135774863103, 'mcc': 0.47245780193871223, 'train_loss': 2.159769429591115}\n",
      "Epoch 2/20\n"
     ]
    },
    {
     "name": "stderr",
     "output_type": "stream",
     "text": [
      "100%|██████████| 716/716 [01:00<00:00, 11.92it/s]\n"
     ]
    },
    {
     "name": "stdout",
     "output_type": "stream",
     "text": [
      "{'val_loss': 1.5114817241343057, 'val_accuracy': 0.6270022883295194, 'precision': 0.6351813461873801, 'recall': 0.6270022883295194, 'f1-score': 0.622814149808175, 'macro_f1-score': 0.38829374234817465, 'balanced_accuracy': 0.40334458701254955, 'mcc': 0.5164040923490635, 'train_loss': 0.6028516176546919}\n",
      "Epoch 3/20\n"
     ]
    },
    {
     "name": "stderr",
     "output_type": "stream",
     "text": [
      "100%|██████████| 716/716 [01:00<00:00, 11.92it/s]\n"
     ]
    },
    {
     "name": "stdout",
     "output_type": "stream",
     "text": [
      "{'val_loss': 1.650874162592539, 'val_accuracy': 0.6338672768878718, 'precision': 0.6381447525949245, 'recall': 0.6338672768878718, 'f1-score': 0.6242194813452122, 'macro_f1-score': 0.401045835605543, 'balanced_accuracy': 0.3979292101195499, 'mcc': 0.5129672585273727, 'train_loss': 0.26911207556454}\n",
      "Epoch 4/20\n"
     ]
    },
    {
     "name": "stderr",
     "output_type": "stream",
     "text": [
      "100%|██████████| 716/716 [01:00<00:00, 11.93it/s]\n"
     ]
    },
    {
     "name": "stdout",
     "output_type": "stream",
     "text": [
      "{'val_loss': 1.7590364890127648, 'val_accuracy': 0.6430205949656751, 'precision': 0.6572691945439689, 'recall': 0.6430205949656751, 'f1-score': 0.639570628937097, 'macro_f1-score': 0.41813986525684116, 'balanced_accuracy': 0.42330016692160205, 'mcc': 0.5372933429694408, 'train_loss': 0.14496293102323426}\n",
      "Epoch 5/20\n"
     ]
    },
    {
     "name": "stderr",
     "output_type": "stream",
     "text": [
      "100%|██████████| 716/716 [01:00<00:00, 11.92it/s]\n"
     ]
    },
    {
     "name": "stdout",
     "output_type": "stream",
     "text": [
      "{'val_loss': 1.825150126727616, 'val_accuracy': 0.6308161708619374, 'precision': 0.6408683901424737, 'recall': 0.6308161708619374, 'f1-score': 0.62441387791844, 'macro_f1-score': 0.39800619802517784, 'balanced_accuracy': 0.3978752887979082, 'mcc': 0.5231404441662986, 'train_loss': 0.12464858691517638}\n",
      "Epoch 6/20\n"
     ]
    },
    {
     "name": "stderr",
     "output_type": "stream",
     "text": [
      "100%|██████████| 716/716 [01:00<00:00, 11.92it/s]\n"
     ]
    },
    {
     "name": "stdout",
     "output_type": "stream",
     "text": [
      "{'val_loss': 2.1407966395703757, 'val_accuracy': 0.6033562166285278, 'precision': 0.6470195782784601, 'recall': 0.6033562166285278, 'f1-score': 0.6113112465384397, 'macro_f1-score': 0.40151268831184844, 'balanced_accuracy': 0.4171185846709293, 'mcc': 0.503325335201842, 'train_loss': 0.08905586952671367}\n",
      "Epoch 7/20\n"
     ]
    },
    {
     "name": "stderr",
     "output_type": "stream",
     "text": [
      "100%|██████████| 716/716 [01:00<00:00, 11.91it/s]\n"
     ]
    },
    {
     "name": "stdout",
     "output_type": "stream",
     "text": [
      "{'val_loss': 2.0844097884326445, 'val_accuracy': 0.6422578184591915, 'precision': 0.6424097904324978, 'recall': 0.6422578184591915, 'f1-score': 0.6212987440989984, 'macro_f1-score': 0.379207974495793, 'balanced_accuracy': 0.358555087234204, 'mcc': 0.5154700106160042, 'train_loss': 0.0926336528334699}\n",
      "Early stopping.\n",
      "\n",
      "[Fold 5]\n",
      "Label distribution after resampling:\n",
      "  label 0: 2000\n",
      "  label 1: 200\n",
      "  label 2: 200\n",
      "  label 3: 200\n",
      "  label 4: 200\n",
      "  label 5: 200\n",
      "  label 6: 200\n",
      "  label 7: 200\n",
      "  label 8: 200\n",
      "  label 9: 200\n",
      "  label 10: 200\n",
      "  label 11: 200\n",
      "  label 12: 200\n",
      "  label 13: 200\n",
      "  label 14: 200\n",
      "  label 15: 200\n",
      "  label 16: 200\n",
      "  label 17: 200\n",
      "  label 18: 200\n",
      "  label 19: 200\n",
      "  label 20: 200\n",
      "  label 21: 200\n",
      "  label 22: 200\n",
      "  label 23: 200\n",
      "  label 24: 200\n",
      "  label 25: 200\n",
      "  label 26: 200\n",
      "  label 27: 200\n",
      "  label 28: 200\n",
      "  label 29: 200\n",
      "  label 30: 200\n",
      "  label 31: 200\n",
      "  label 32: 200\n",
      "  label 33: 200\n",
      "  label 34: 200\n",
      "  label 35: 200\n",
      "  label 36: 200\n",
      "  label 37: 200\n",
      "  label 38: 200\n",
      "  label 39: 200\n",
      "  label 40: 200\n",
      "  label 41: 200\n",
      "  label 42: 200\n",
      "  label 43: 200\n",
      "  label 44: 200\n",
      "  label 45: 242\n",
      "  label 46: 200\n",
      "  label 47: 200\n",
      "model is bert-base-uncased\n"
     ]
    },
    {
     "name": "stderr",
     "output_type": "stream",
     "text": [
      "Some weights of BertForSequenceClassification were not initialized from the model checkpoint at bert-base-uncased and are newly initialized: ['classifier.bias', 'classifier.weight']\n",
      "You should probably TRAIN this model on a down-stream task to be able to use it for predictions and inference.\n"
     ]
    },
    {
     "name": "stdout",
     "output_type": "stream",
     "text": [
      "Epoch 1/20\n"
     ]
    },
    {
     "name": "stderr",
     "output_type": "stream",
     "text": [
      "100%|██████████| 716/716 [01:00<00:00, 11.92it/s]\n"
     ]
    },
    {
     "name": "stdout",
     "output_type": "stream",
     "text": [
      "{'val_loss': 1.6868401380573832, 'val_accuracy': 0.5507246376811594, 'precision': 0.6432030412515963, 'recall': 0.5507246376811594, 'f1-score': 0.568238745873972, 'macro_f1-score': 0.38923826021825025, 'balanced_accuracy': 0.46341222062349957, 'mcc': 0.44892103252781207, 'train_loss': 2.1128136217594147}\n",
      "Epoch 2/20\n"
     ]
    },
    {
     "name": "stderr",
     "output_type": "stream",
     "text": [
      "100%|██████████| 716/716 [01:00<00:00, 11.91it/s]\n"
     ]
    },
    {
     "name": "stdout",
     "output_type": "stream",
     "text": [
      "{'val_loss': 1.4110671419922898, 'val_accuracy': 0.665903890160183, 'precision': 0.6589020931638713, 'recall': 0.665903890160183, 'f1-score': 0.6480702874337201, 'macro_f1-score': 0.40489876799309615, 'balanced_accuracy': 0.3960238517297839, 'mcc': 0.5512044091834422, 'train_loss': 0.5848183850003355}\n",
      "Epoch 3/20\n"
     ]
    },
    {
     "name": "stderr",
     "output_type": "stream",
     "text": [
      "100%|██████████| 716/716 [01:00<00:00, 11.92it/s]\n"
     ]
    },
    {
     "name": "stdout",
     "output_type": "stream",
     "text": [
      "{'val_loss': 1.5889905062390537, 'val_accuracy': 0.6506483600305111, 'precision': 0.6435980123190214, 'recall': 0.6506483600305111, 'f1-score': 0.6395680841878688, 'macro_f1-score': 0.41515761123791733, 'balanced_accuracy': 0.40195422082769067, 'mcc': 0.5386578607617408, 'train_loss': 0.2446956015660235}\n",
      "Epoch 4/20\n"
     ]
    },
    {
     "name": "stderr",
     "output_type": "stream",
     "text": [
      "100%|██████████| 716/716 [01:00<00:00, 11.91it/s]\n"
     ]
    },
    {
     "name": "stdout",
     "output_type": "stream",
     "text": [
      "{'val_loss': 1.7024980845247828, 'val_accuracy': 0.6529366895499619, 'precision': 0.6470317598817665, 'recall': 0.6529366895499619, 'f1-score': 0.6322500772338461, 'macro_f1-score': 0.403373594504887, 'balanced_accuracy': 0.3857480759112657, 'mcc': 0.5330815147493511, 'train_loss': 0.15484901127670814}\n",
      "Epoch 5/20\n"
     ]
    },
    {
     "name": "stderr",
     "output_type": "stream",
     "text": [
      "100%|██████████| 716/716 [01:00<00:00, 11.92it/s]\n"
     ]
    },
    {
     "name": "stdout",
     "output_type": "stream",
     "text": [
      "{'val_loss': 1.7820683554178331, 'val_accuracy': 0.6689549961861174, 'precision': 0.6664616644198009, 'recall': 0.6689549961861174, 'f1-score': 0.6529069666990155, 'macro_f1-score': 0.4224963271919426, 'balanced_accuracy': 0.3821357951060698, 'mcc': 0.55485165420208, 'train_loss': 0.09395020490566883}\n",
      "Epoch 6/20\n"
     ]
    },
    {
     "name": "stderr",
     "output_type": "stream",
     "text": [
      "100%|██████████| 716/716 [01:00<00:00, 11.92it/s]\n"
     ]
    },
    {
     "name": "stdout",
     "output_type": "stream",
     "text": [
      "{'val_loss': 1.8967136940578135, 'val_accuracy': 0.6590389016018307, 'precision': 0.6560064905925935, 'recall': 0.6590389016018307, 'f1-score': 0.6394814348863402, 'macro_f1-score': 0.41359715779741846, 'balanced_accuracy': 0.37953938632796946, 'mcc': 0.5351634587723623, 'train_loss': 0.082374694996823}\n",
      "Epoch 7/20\n"
     ]
    },
    {
     "name": "stderr",
     "output_type": "stream",
     "text": [
      "100%|██████████| 716/716 [01:00<00:00, 11.92it/s]\n"
     ]
    },
    {
     "name": "stdout",
     "output_type": "stream",
     "text": [
      "{'val_loss': 2.0396152949187814, 'val_accuracy': 0.6376811594202898, 'precision': 0.6277840508053133, 'recall': 0.6376811594202898, 'f1-score': 0.6197052692813482, 'macro_f1-score': 0.37627520582232526, 'balanced_accuracy': 0.3586947669527933, 'mcc': 0.5196651830094997, 'train_loss': 0.059464955468943044}\n",
      "Epoch 8/20\n"
     ]
    },
    {
     "name": "stderr",
     "output_type": "stream",
     "text": [
      "100%|██████████| 716/716 [01:00<00:00, 11.91it/s]\n"
     ]
    },
    {
     "name": "stdout",
     "output_type": "stream",
     "text": [
      "{'val_loss': 1.9737344849400404, 'val_accuracy': 0.6384439359267735, 'precision': 0.6433951636231697, 'recall': 0.6384439359267735, 'f1-score': 0.6316952031958233, 'macro_f1-score': 0.398877034016843, 'balanced_accuracy': 0.3881821136727552, 'mcc': 0.5189844748873003, 'train_loss': 0.07973020870691197}\n",
      "Early stopping.\n",
      "\n",
      " === bert-base-uncased + plain + ros Final 5-fold Cross-Validation Results ===\n",
      "val_loss: 1.8613\n",
      "val_accuracy: 0.6510\n",
      "precision: 0.6518\n",
      "recall: 0.6510\n",
      "f1-score: 0.6403\n",
      "macro_f1-score: 0.4227\n",
      "balanced_accuracy: 0.4055\n",
      "mcc: 0.5358\n",
      "train_loss: 0.1068\n",
      "total_seconds: 2715.0000\n",
      "total_time: 0 hrs 45 mins 15 secs\n",
      "▶ Running: bert-base-uncased + cnn + ros\n",
      "tokenizer is bert-base-uncased\n",
      "Using device: cuda\n",
      "CUDA Available: True\n",
      "CUDA Device: NVIDIA GeForce RTX 5070 Ti\n",
      "Current GPU Memory Allocated: 0.02 GB\n",
      "Current GPU Memory Cached: 3.14 GB\n",
      "\n",
      "[Fold 1]\n",
      "Label distribution after resampling:\n",
      "  label 0: 2000\n",
      "  label 1: 200\n",
      "  label 2: 200\n",
      "  label 3: 200\n",
      "  label 4: 200\n",
      "  label 5: 200\n",
      "  label 6: 200\n",
      "  label 7: 200\n",
      "  label 8: 200\n",
      "  label 9: 200\n",
      "  label 10: 200\n",
      "  label 11: 200\n",
      "  label 12: 200\n",
      "  label 13: 200\n",
      "  label 14: 200\n",
      "  label 15: 200\n",
      "  label 16: 200\n",
      "  label 17: 200\n",
      "  label 18: 200\n",
      "  label 19: 200\n",
      "  label 20: 200\n",
      "  label 21: 200\n",
      "  label 22: 200\n",
      "  label 23: 200\n",
      "  label 24: 200\n",
      "  label 25: 200\n",
      "  label 26: 200\n",
      "  label 27: 200\n",
      "  label 28: 200\n",
      "  label 29: 200\n",
      "  label 30: 200\n",
      "  label 31: 200\n",
      "  label 32: 200\n",
      "  label 33: 200\n",
      "  label 34: 200\n",
      "  label 35: 200\n",
      "  label 36: 200\n",
      "  label 37: 200\n",
      "  label 38: 200\n",
      "  label 39: 200\n",
      "  label 40: 200\n",
      "  label 41: 200\n",
      "  label 42: 200\n",
      "  label 43: 200\n",
      "  label 44: 200\n",
      "  label 45: 242\n",
      "  label 46: 200\n",
      "  label 47: 200\n",
      "model is bert-base-uncased cnn\n",
      "Epoch 1/20\n"
     ]
    },
    {
     "name": "stderr",
     "output_type": "stream",
     "text": [
      "100%|██████████| 716/716 [01:01<00:00, 11.68it/s]\n"
     ]
    },
    {
     "name": "stdout",
     "output_type": "stream",
     "text": [
      "{'val_loss': 1.6275870116745554, 'val_accuracy': 0.5495426829268293, 'precision': 0.5867175545417773, 'recall': 0.5495426829268293, 'f1-score': 0.5444275914723288, 'macro_f1-score': 0.3573333173545919, 'balanced_accuracy': 0.41791041995869804, 'mcc': 0.40683729476724345, 'train_loss': 2.1712045269138986}\n",
      "Epoch 2/20\n"
     ]
    },
    {
     "name": "stderr",
     "output_type": "stream",
     "text": [
      "100%|██████████| 716/716 [01:01<00:00, 11.68it/s]\n"
     ]
    },
    {
     "name": "stdout",
     "output_type": "stream",
     "text": [
      "{'val_loss': 1.518897097285201, 'val_accuracy': 0.6288109756097561, 'precision': 0.627820870309899, 'recall': 0.6288109756097561, 'f1-score': 0.6131894205758813, 'macro_f1-score': 0.40253083910450754, 'balanced_accuracy': 0.39850909120933364, 'mcc': 0.4989390995566097, 'train_loss': 0.6799674909874047}\n",
      "Epoch 3/20\n"
     ]
    },
    {
     "name": "stderr",
     "output_type": "stream",
     "text": [
      "100%|██████████| 716/716 [01:01<00:00, 11.68it/s]\n"
     ]
    },
    {
     "name": "stdout",
     "output_type": "stream",
     "text": [
      "{'val_loss': 1.6342787702636021, 'val_accuracy': 0.6364329268292683, 'precision': 0.6326670589730972, 'recall': 0.6364329268292683, 'f1-score': 0.6222619459151727, 'macro_f1-score': 0.40105656287749153, 'balanced_accuracy': 0.400696940590048, 'mcc': 0.5088915328232125, 'train_loss': 0.34248159079963353}\n",
      "Epoch 4/20\n"
     ]
    },
    {
     "name": "stderr",
     "output_type": "stream",
     "text": [
      "100%|██████████| 716/716 [01:01<00:00, 11.68it/s]\n"
     ]
    },
    {
     "name": "stdout",
     "output_type": "stream",
     "text": [
      "{'val_loss': 1.7888969157527133, 'val_accuracy': 0.6265243902439024, 'precision': 0.6404840680091786, 'recall': 0.6265243902439024, 'f1-score': 0.6248031495633276, 'macro_f1-score': 0.39802905117151727, 'balanced_accuracy': 0.41844723383877586, 'mcc': 0.5149330838135503, 'train_loss': 0.20729574098579545}\n",
      "Epoch 5/20\n"
     ]
    },
    {
     "name": "stderr",
     "output_type": "stream",
     "text": [
      "100%|██████████| 716/716 [01:01<00:00, 11.68it/s]\n"
     ]
    },
    {
     "name": "stdout",
     "output_type": "stream",
     "text": [
      "{'val_loss': 1.763983329394605, 'val_accuracy': 0.6646341463414634, 'precision': 0.6549006855920236, 'recall': 0.6646341463414634, 'f1-score': 0.6467007664724729, 'macro_f1-score': 0.40873159781324353, 'balanced_accuracy': 0.3978856962523066, 'mcc': 0.5463779669313289, 'train_loss': 0.16086155390392926}\n",
      "Epoch 6/20\n"
     ]
    },
    {
     "name": "stderr",
     "output_type": "stream",
     "text": [
      "100%|██████████| 716/716 [01:01<00:00, 11.68it/s]\n"
     ]
    },
    {
     "name": "stdout",
     "output_type": "stream",
     "text": [
      "{'val_loss': 2.018209985116633, 'val_accuracy': 0.6394817073170732, 'precision': 0.6372102261759177, 'recall': 0.6394817073170732, 'f1-score': 0.6299439642834377, 'macro_f1-score': 0.39127262582117767, 'balanced_accuracy': 0.3891021686872949, 'mcc': 0.5237204755271205, 'train_loss': 0.12322902479683773}\n",
      "Epoch 7/20\n"
     ]
    },
    {
     "name": "stderr",
     "output_type": "stream",
     "text": [
      "100%|██████████| 716/716 [01:01<00:00, 11.68it/s]\n"
     ]
    },
    {
     "name": "stdout",
     "output_type": "stream",
     "text": [
      "{'val_loss': 2.0418438136395887, 'val_accuracy': 0.6349085365853658, 'precision': 0.6179180388314386, 'recall': 0.6349085365853658, 'f1-score': 0.6149467133058726, 'macro_f1-score': 0.3724886010874484, 'balanced_accuracy': 0.374930097003575, 'mcc': 0.5060303035656049, 'train_loss': 0.11633714595380339}\n",
      "Epoch 8/20\n"
     ]
    },
    {
     "name": "stderr",
     "output_type": "stream",
     "text": [
      "100%|██████████| 716/716 [01:01<00:00, 11.68it/s]\n"
     ]
    },
    {
     "name": "stdout",
     "output_type": "stream",
     "text": [
      "{'val_loss': 2.0955804081224816, 'val_accuracy': 0.6387195121951219, 'precision': 0.6657899431959223, 'recall': 0.6387195121951219, 'f1-score': 0.6374679906450422, 'macro_f1-score': 0.43050892954703796, 'balanced_accuracy': 0.4300445620813898, 'mcc': 0.5243329456754688, 'train_loss': 0.11459412498044516}\n",
      "Epoch 9/20\n"
     ]
    },
    {
     "name": "stderr",
     "output_type": "stream",
     "text": [
      "100%|██████████| 716/716 [01:01<00:00, 11.67it/s]\n"
     ]
    },
    {
     "name": "stdout",
     "output_type": "stream",
     "text": [
      "{'val_loss': 2.2633722363630446, 'val_accuracy': 0.6501524390243902, 'precision': 0.6294860191558254, 'recall': 0.6501524390243902, 'f1-score': 0.6242172638000592, 'macro_f1-score': 0.39405367147316644, 'balanced_accuracy': 0.37306625043378877, 'mcc': 0.5204864761690433, 'train_loss': 0.07745379325657349}\n",
      "Epoch 10/20\n"
     ]
    },
    {
     "name": "stderr",
     "output_type": "stream",
     "text": [
      "100%|██████████| 716/716 [01:01<00:00, 11.68it/s]\n"
     ]
    },
    {
     "name": "stdout",
     "output_type": "stream",
     "text": [
      "{'val_loss': 2.135183819183489, 'val_accuracy': 0.6432926829268293, 'precision': 0.6520413671185165, 'recall': 0.6432926829268293, 'f1-score': 0.6354665950135547, 'macro_f1-score': 0.41297423844215136, 'balanced_accuracy': 0.42378606816460757, 'mcc': 0.5281606448341847, 'train_loss': 0.08719731215533914}\n",
      "Epoch 11/20\n"
     ]
    },
    {
     "name": "stderr",
     "output_type": "stream",
     "text": [
      "100%|██████████| 716/716 [01:01<00:00, 11.67it/s]\n"
     ]
    },
    {
     "name": "stdout",
     "output_type": "stream",
     "text": [
      "{'val_loss': 2.1715305480288296, 'val_accuracy': 0.6272865853658537, 'precision': 0.6365312218946516, 'recall': 0.6272865853658537, 'f1-score': 0.6227081417090887, 'macro_f1-score': 0.4004630490806587, 'balanced_accuracy': 0.414263088392216, 'mcc': 0.516614613107725, 'train_loss': 0.08286179068619282}\n",
      "Early stopping.\n",
      "\n",
      "[Fold 2]\n",
      "Label distribution after resampling:\n",
      "  label 0: 2000\n",
      "  label 1: 200\n",
      "  label 2: 200\n",
      "  label 3: 200\n",
      "  label 4: 200\n",
      "  label 5: 200\n",
      "  label 6: 200\n",
      "  label 7: 200\n",
      "  label 8: 200\n",
      "  label 9: 200\n",
      "  label 10: 200\n",
      "  label 11: 200\n",
      "  label 12: 200\n",
      "  label 13: 200\n",
      "  label 14: 200\n",
      "  label 15: 200\n",
      "  label 16: 200\n",
      "  label 17: 200\n",
      "  label 18: 200\n",
      "  label 19: 200\n",
      "  label 20: 200\n",
      "  label 21: 200\n",
      "  label 22: 200\n",
      "  label 23: 200\n",
      "  label 24: 200\n",
      "  label 25: 200\n",
      "  label 26: 200\n",
      "  label 27: 200\n",
      "  label 28: 200\n",
      "  label 29: 200\n",
      "  label 30: 200\n",
      "  label 31: 200\n",
      "  label 32: 200\n",
      "  label 33: 200\n",
      "  label 34: 200\n",
      "  label 35: 200\n",
      "  label 36: 200\n",
      "  label 37: 200\n",
      "  label 38: 200\n",
      "  label 39: 200\n",
      "  label 40: 200\n",
      "  label 41: 200\n",
      "  label 42: 200\n",
      "  label 43: 200\n",
      "  label 44: 200\n",
      "  label 45: 242\n",
      "  label 46: 200\n",
      "  label 47: 200\n",
      "model is bert-base-uncased cnn\n",
      "Epoch 1/20\n"
     ]
    },
    {
     "name": "stderr",
     "output_type": "stream",
     "text": [
      "100%|██████████| 716/716 [01:01<00:00, 11.69it/s]\n"
     ]
    },
    {
     "name": "stdout",
     "output_type": "stream",
     "text": [
      "{'val_loss': 1.536411603049534, 'val_accuracy': 0.5751334858886347, 'precision': 0.5865140769219308, 'recall': 0.5751334858886347, 'f1-score': 0.5647002130948656, 'macro_f1-score': 0.3450807058517535, 'balanced_accuracy': 0.42860382071312086, 'mcc': 0.4469884969236203, 'train_loss': 2.1522100326818463}\n",
      "Epoch 2/20\n"
     ]
    },
    {
     "name": "stderr",
     "output_type": "stream",
     "text": [
      "100%|██████████| 716/716 [01:01<00:00, 11.68it/s]\n"
     ]
    },
    {
     "name": "stdout",
     "output_type": "stream",
     "text": [
      "{'val_loss': 1.5055297489573316, 'val_accuracy': 0.6216628527841342, 'precision': 0.6617798421610881, 'recall': 0.6216628527841342, 'f1-score': 0.6319794518614864, 'macro_f1-score': 0.4096794793844407, 'balanced_accuracy': 0.46665145939907166, 'mcc': 0.5190692719198373, 'train_loss': 0.6543085221409298}\n",
      "Epoch 3/20\n"
     ]
    },
    {
     "name": "stderr",
     "output_type": "stream",
     "text": [
      "100%|██████████| 716/716 [01:01<00:00, 11.68it/s]\n"
     ]
    },
    {
     "name": "stdout",
     "output_type": "stream",
     "text": [
      "{'val_loss': 1.5242525993323908, 'val_accuracy': 0.6361556064073226, 'precision': 0.6466871358619578, 'recall': 0.6361556064073226, 'f1-score': 0.6293449907415467, 'macro_f1-score': 0.393962955264076, 'balanced_accuracy': 0.4055466523032223, 'mcc': 0.5217658705281967, 'train_loss': 0.3198439929811232}\n",
      "Epoch 4/20\n"
     ]
    },
    {
     "name": "stderr",
     "output_type": "stream",
     "text": [
      "100%|██████████| 716/716 [01:01<00:00, 11.67it/s]\n"
     ]
    },
    {
     "name": "stdout",
     "output_type": "stream",
     "text": [
      "{'val_loss': 1.7897016558705308, 'val_accuracy': 0.6384439359267735, 'precision': 0.6338363905548625, 'recall': 0.6384439359267735, 'f1-score': 0.6235460831693029, 'macro_f1-score': 0.38472194365682877, 'balanced_accuracy': 0.3983437832142973, 'mcc': 0.5184774471220639, 'train_loss': 0.19642771066390186}\n",
      "Epoch 5/20\n"
     ]
    },
    {
     "name": "stderr",
     "output_type": "stream",
     "text": [
      "100%|██████████| 716/716 [01:01<00:00, 11.68it/s]\n"
     ]
    },
    {
     "name": "stdout",
     "output_type": "stream",
     "text": [
      "{'val_loss': 1.8321971980536855, 'val_accuracy': 0.6521739130434783, 'precision': 0.6201078903827726, 'recall': 0.6521739130434783, 'f1-score': 0.6229175699501114, 'macro_f1-score': 0.3653981908118435, 'balanced_accuracy': 0.3630204958671552, 'mcc': 0.5237143972740339, 'train_loss': 0.1574722987569754}\n",
      "Early stopping.\n",
      "\n",
      "[Fold 3]\n",
      "Label distribution after resampling:\n",
      "  label 0: 2000\n",
      "  label 1: 200\n",
      "  label 2: 200\n",
      "  label 3: 200\n",
      "  label 4: 200\n",
      "  label 5: 200\n",
      "  label 6: 200\n",
      "  label 7: 200\n",
      "  label 8: 200\n",
      "  label 9: 200\n",
      "  label 10: 200\n",
      "  label 11: 200\n",
      "  label 12: 200\n",
      "  label 13: 200\n",
      "  label 14: 200\n",
      "  label 15: 200\n",
      "  label 16: 200\n",
      "  label 17: 200\n",
      "  label 18: 200\n",
      "  label 19: 200\n",
      "  label 20: 200\n",
      "  label 21: 200\n",
      "  label 22: 200\n",
      "  label 23: 200\n",
      "  label 24: 200\n",
      "  label 25: 200\n",
      "  label 26: 200\n",
      "  label 27: 200\n",
      "  label 28: 200\n",
      "  label 29: 200\n",
      "  label 30: 200\n",
      "  label 31: 200\n",
      "  label 32: 200\n",
      "  label 33: 200\n",
      "  label 34: 200\n",
      "  label 35: 200\n",
      "  label 36: 200\n",
      "  label 37: 200\n",
      "  label 38: 200\n",
      "  label 39: 200\n",
      "  label 40: 200\n",
      "  label 41: 200\n",
      "  label 42: 200\n",
      "  label 43: 200\n",
      "  label 44: 200\n",
      "  label 45: 241\n",
      "  label 46: 200\n",
      "  label 47: 200\n",
      "model is bert-base-uncased cnn\n",
      "Epoch 1/20\n"
     ]
    },
    {
     "name": "stderr",
     "output_type": "stream",
     "text": [
      "100%|██████████| 716/716 [01:01<00:00, 11.67it/s]\n"
     ]
    },
    {
     "name": "stdout",
     "output_type": "stream",
     "text": [
      "{'val_loss': 1.5321971674154444, 'val_accuracy': 0.5881006864988558, 'precision': 0.5982256695390805, 'recall': 0.5881006864988558, 'f1-score': 0.5758748915174193, 'macro_f1-score': 0.3694773563248004, 'balanced_accuracy': 0.39409259510911826, 'mcc': 0.4501497874993129, 'train_loss': 2.148136143328091}\n",
      "Epoch 2/20\n"
     ]
    },
    {
     "name": "stderr",
     "output_type": "stream",
     "text": [
      "100%|██████████| 716/716 [01:01<00:00, 11.67it/s]\n"
     ]
    },
    {
     "name": "stdout",
     "output_type": "stream",
     "text": [
      "{'val_loss': 1.5797951365026033, 'val_accuracy': 0.5957284515636918, 'precision': 0.6444019434943544, 'recall': 0.5957284515636918, 'f1-score': 0.6075870590095546, 'macro_f1-score': 0.42381952518012617, 'balanced_accuracy': 0.44402925393681764, 'mcc': 0.4913541067677553, 'train_loss': 0.6424866258140716}\n",
      "Epoch 3/20\n"
     ]
    },
    {
     "name": "stderr",
     "output_type": "stream",
     "text": [
      "100%|██████████| 716/716 [01:01<00:00, 11.68it/s]\n"
     ]
    },
    {
     "name": "stdout",
     "output_type": "stream",
     "text": [
      "{'val_loss': 1.677923890875607, 'val_accuracy': 0.6331045003813882, 'precision': 0.6355922955336453, 'recall': 0.6331045003813882, 'f1-score': 0.617375143776411, 'macro_f1-score': 0.42883167379851833, 'balanced_accuracy': 0.405171029247503, 'mcc': 0.5044103274767564, 'train_loss': 0.3115201445671017}\n",
      "Epoch 4/20\n"
     ]
    },
    {
     "name": "stderr",
     "output_type": "stream",
     "text": [
      "100%|██████████| 716/716 [01:01<00:00, 11.67it/s]\n"
     ]
    },
    {
     "name": "stdout",
     "output_type": "stream",
     "text": [
      "{'val_loss': 1.9334121468227083, 'val_accuracy': 0.6048817696414951, 'precision': 0.6369333150823144, 'recall': 0.6048817696414951, 'f1-score': 0.6152479749446853, 'macro_f1-score': 0.43334340547096134, 'balanced_accuracy': 0.43467597987004175, 'mcc': 0.4968757507931744, 'train_loss': 0.18849827199114236}\n",
      "Epoch 5/20\n"
     ]
    },
    {
     "name": "stderr",
     "output_type": "stream",
     "text": [
      "100%|██████████| 716/716 [01:01<00:00, 11.67it/s]\n"
     ]
    },
    {
     "name": "stdout",
     "output_type": "stream",
     "text": [
      "{'val_loss': 2.022628750197771, 'val_accuracy': 0.5980167810831426, 'precision': 0.6223882896528636, 'recall': 0.5980167810831426, 'f1-score': 0.6015427304537745, 'macro_f1-score': 0.3948868419292846, 'balanced_accuracy': 0.39453830770180615, 'mcc': 0.4801047176654335, 'train_loss': 0.14537263468009362}\n",
      "Epoch 6/20\n"
     ]
    },
    {
     "name": "stderr",
     "output_type": "stream",
     "text": [
      "100%|██████████| 716/716 [01:01<00:00, 11.67it/s]\n"
     ]
    },
    {
     "name": "stdout",
     "output_type": "stream",
     "text": [
      "{'val_loss': 2.0628769379563447, 'val_accuracy': 0.6308161708619374, 'precision': 0.6197471802592476, 'recall': 0.6308161708619374, 'f1-score': 0.6165331940419146, 'macro_f1-score': 0.409336006555949, 'balanced_accuracy': 0.39561034814989177, 'mcc': 0.5065348336159072, 'train_loss': 0.11974552116914804}\n",
      "Epoch 7/20\n"
     ]
    },
    {
     "name": "stderr",
     "output_type": "stream",
     "text": [
      "100%|██████████| 716/716 [01:01<00:00, 11.68it/s]\n"
     ]
    },
    {
     "name": "stdout",
     "output_type": "stream",
     "text": [
      "{'val_loss': 2.301439524491931, 'val_accuracy': 0.6483600305110603, 'precision': 0.6335955762744032, 'recall': 0.6483600305110603, 'f1-score': 0.6315485534025532, 'macro_f1-score': 0.41026520299841146, 'balanced_accuracy': 0.39472853553005094, 'mcc': 0.5262331388648467, 'train_loss': 0.09002101936412704}\n",
      "Early stopping.\n",
      "\n",
      "[Fold 4]\n",
      "Label distribution after resampling:\n",
      "  label 0: 2000\n",
      "  label 1: 200\n",
      "  label 2: 200\n",
      "  label 3: 200\n",
      "  label 4: 200\n",
      "  label 5: 200\n",
      "  label 6: 200\n",
      "  label 7: 200\n",
      "  label 8: 200\n",
      "  label 9: 200\n",
      "  label 10: 200\n",
      "  label 11: 200\n",
      "  label 12: 200\n",
      "  label 13: 200\n",
      "  label 14: 200\n",
      "  label 15: 200\n",
      "  label 16: 200\n",
      "  label 17: 200\n",
      "  label 18: 200\n",
      "  label 19: 200\n",
      "  label 20: 200\n",
      "  label 21: 200\n",
      "  label 22: 200\n",
      "  label 23: 200\n",
      "  label 24: 200\n",
      "  label 25: 200\n",
      "  label 26: 200\n",
      "  label 27: 200\n",
      "  label 28: 200\n",
      "  label 29: 200\n",
      "  label 30: 200\n",
      "  label 31: 200\n",
      "  label 32: 200\n",
      "  label 33: 200\n",
      "  label 34: 200\n",
      "  label 35: 200\n",
      "  label 36: 200\n",
      "  label 37: 200\n",
      "  label 38: 200\n",
      "  label 39: 200\n",
      "  label 40: 200\n",
      "  label 41: 200\n",
      "  label 42: 200\n",
      "  label 43: 200\n",
      "  label 44: 200\n",
      "  label 45: 241\n",
      "  label 46: 200\n",
      "  label 47: 200\n",
      "model is bert-base-uncased cnn\n",
      "Epoch 1/20\n"
     ]
    },
    {
     "name": "stderr",
     "output_type": "stream",
     "text": [
      "100%|██████████| 716/716 [01:01<00:00, 11.68it/s]\n"
     ]
    },
    {
     "name": "stdout",
     "output_type": "stream",
     "text": [
      "{'val_loss': 1.5079420681406812, 'val_accuracy': 0.6033562166285278, 'precision': 0.6383228820950406, 'recall': 0.6033562166285278, 'f1-score': 0.5970125457100592, 'macro_f1-score': 0.37701741489861407, 'balanced_accuracy': 0.42116826415359565, 'mcc': 0.4778099686149707, 'train_loss': 2.1163272577957066}\n",
      "Epoch 2/20\n"
     ]
    },
    {
     "name": "stderr",
     "output_type": "stream",
     "text": [
      "100%|██████████| 716/716 [01:01<00:00, 11.69it/s]\n"
     ]
    },
    {
     "name": "stdout",
     "output_type": "stream",
     "text": [
      "{'val_loss': 1.4560728320261327, 'val_accuracy': 0.6407322654462243, 'precision': 0.6378901599354988, 'recall': 0.6407322654462243, 'f1-score': 0.6252600443900945, 'macro_f1-score': 0.4071492271716453, 'balanced_accuracy': 0.41938233303992295, 'mcc': 0.5193318457430905, 'train_loss': 0.6267200035339627}\n",
      "Epoch 3/20\n"
     ]
    },
    {
     "name": "stderr",
     "output_type": "stream",
     "text": [
      "100%|██████████| 716/716 [01:01<00:00, 11.67it/s]\n"
     ]
    },
    {
     "name": "stdout",
     "output_type": "stream",
     "text": [
      "{'val_loss': 1.6293377446510442, 'val_accuracy': 0.6422578184591915, 'precision': 0.6438629045114531, 'recall': 0.6422578184591915, 'f1-score': 0.6227001893983074, 'macro_f1-score': 0.39724956969126596, 'balanced_accuracy': 0.37623434429136227, 'mcc': 0.517375785104611, 'train_loss': 0.296640134390506}\n",
      "Epoch 4/20\n"
     ]
    },
    {
     "name": "stderr",
     "output_type": "stream",
     "text": [
      "100%|██████████| 716/716 [01:01<00:00, 11.68it/s]\n"
     ]
    },
    {
     "name": "stdout",
     "output_type": "stream",
     "text": [
      "{'val_loss': 1.7852970294472648, 'val_accuracy': 0.6422578184591915, 'precision': 0.6303225453647876, 'recall': 0.6422578184591915, 'f1-score': 0.6223844739606685, 'macro_f1-score': 0.37719697847474976, 'balanced_accuracy': 0.3661997662910174, 'mcc': 0.518448060732003, 'train_loss': 0.17320652192396074}\n",
      "Epoch 5/20\n"
     ]
    },
    {
     "name": "stderr",
     "output_type": "stream",
     "text": [
      "100%|██████████| 716/716 [01:01<00:00, 11.67it/s]\n"
     ]
    },
    {
     "name": "stdout",
     "output_type": "stream",
     "text": [
      "{'val_loss': 1.8772405534982681, 'val_accuracy': 0.6521739130434783, 'precision': 0.6500956976303591, 'recall': 0.6521739130434783, 'f1-score': 0.6408770163677248, 'macro_f1-score': 0.4260198898868617, 'balanced_accuracy': 0.42379658570587014, 'mcc': 0.5370421720714608, 'train_loss': 0.13867937458656968}\n",
      "Epoch 6/20\n"
     ]
    },
    {
     "name": "stderr",
     "output_type": "stream",
     "text": [
      "100%|██████████| 716/716 [01:01<00:00, 11.68it/s]\n"
     ]
    },
    {
     "name": "stdout",
     "output_type": "stream",
     "text": [
      "{'val_loss': 1.9835865272254478, 'val_accuracy': 0.6575133485888635, 'precision': 0.6581927305090343, 'recall': 0.6575133485888635, 'f1-score': 0.6473973309134978, 'macro_f1-score': 0.4126197993802146, 'balanced_accuracy': 0.40257955979570376, 'mcc': 0.5473657644083226, 'train_loss': 0.1127307462883533}\n",
      "Epoch 7/20\n"
     ]
    },
    {
     "name": "stderr",
     "output_type": "stream",
     "text": [
      "100%|██████████| 716/716 [01:01<00:00, 11.68it/s]\n"
     ]
    },
    {
     "name": "stdout",
     "output_type": "stream",
     "text": [
      "{'val_loss': 1.9819362808654948, 'val_accuracy': 0.6521739130434783, 'precision': 0.6504203717738268, 'recall': 0.6521739130434783, 'f1-score': 0.6393272253390103, 'macro_f1-score': 0.4049271252814333, 'balanced_accuracy': 0.4047952949551226, 'mcc': 0.5387508513162527, 'train_loss': 0.10221842706545553}\n",
      "Epoch 8/20\n"
     ]
    },
    {
     "name": "stderr",
     "output_type": "stream",
     "text": [
      "100%|██████████| 716/716 [01:01<00:00, 11.67it/s]\n"
     ]
    },
    {
     "name": "stdout",
     "output_type": "stream",
     "text": [
      "{'val_loss': 2.1501349477869707, 'val_accuracy': 0.6483600305110603, 'precision': 0.6387945167079497, 'recall': 0.6483600305110603, 'f1-score': 0.6308243356880409, 'macro_f1-score': 0.3823704633035548, 'balanced_accuracy': 0.38042005131039214, 'mcc': 0.5280288916181926, 'train_loss': 0.08757041164416321}\n",
      "Early stopping.\n",
      "\n",
      "[Fold 5]\n",
      "Label distribution after resampling:\n",
      "  label 0: 2000\n",
      "  label 1: 200\n",
      "  label 2: 200\n",
      "  label 3: 200\n",
      "  label 4: 200\n",
      "  label 5: 200\n",
      "  label 6: 200\n",
      "  label 7: 200\n",
      "  label 8: 200\n",
      "  label 9: 200\n",
      "  label 10: 200\n",
      "  label 11: 200\n",
      "  label 12: 200\n",
      "  label 13: 200\n",
      "  label 14: 200\n",
      "  label 15: 200\n",
      "  label 16: 200\n",
      "  label 17: 200\n",
      "  label 18: 200\n",
      "  label 19: 200\n",
      "  label 20: 200\n",
      "  label 21: 200\n",
      "  label 22: 200\n",
      "  label 23: 200\n",
      "  label 24: 200\n",
      "  label 25: 200\n",
      "  label 26: 200\n",
      "  label 27: 200\n",
      "  label 28: 200\n",
      "  label 29: 200\n",
      "  label 30: 200\n",
      "  label 31: 200\n",
      "  label 32: 200\n",
      "  label 33: 200\n",
      "  label 34: 200\n",
      "  label 35: 200\n",
      "  label 36: 200\n",
      "  label 37: 200\n",
      "  label 38: 200\n",
      "  label 39: 200\n",
      "  label 40: 200\n",
      "  label 41: 200\n",
      "  label 42: 200\n",
      "  label 43: 200\n",
      "  label 44: 200\n",
      "  label 45: 242\n",
      "  label 46: 200\n",
      "  label 47: 200\n",
      "model is bert-base-uncased cnn\n",
      "Epoch 1/20\n"
     ]
    },
    {
     "name": "stderr",
     "output_type": "stream",
     "text": [
      "100%|██████████| 716/716 [01:01<00:00, 11.68it/s]\n"
     ]
    },
    {
     "name": "stdout",
     "output_type": "stream",
     "text": [
      "{'val_loss': 1.476730819882416, 'val_accuracy': 0.581998474446987, 'precision': 0.6565970409213591, 'recall': 0.581998474446987, 'f1-score': 0.5753077919166225, 'macro_f1-score': 0.3561156465569124, 'balanced_accuracy': 0.40723064316931906, 'mcc': 0.45476929513972464, 'train_loss': 2.172046539628639}\n",
      "Epoch 2/20\n"
     ]
    },
    {
     "name": "stderr",
     "output_type": "stream",
     "text": [
      "100%|██████████| 716/716 [01:01<00:00, 11.67it/s]\n"
     ]
    },
    {
     "name": "stdout",
     "output_type": "stream",
     "text": [
      "{'val_loss': 1.4904853258191086, 'val_accuracy': 0.601067887109077, 'precision': 0.6280401989150346, 'recall': 0.601067887109077, 'f1-score': 0.6037613421296537, 'macro_f1-score': 0.3905132863684588, 'balanced_accuracy': 0.4300146697077803, 'mcc': 0.4874691364960759, 'train_loss': 0.7022103531567078}\n",
      "Epoch 3/20\n"
     ]
    },
    {
     "name": "stderr",
     "output_type": "stream",
     "text": [
      "100%|██████████| 716/716 [01:01<00:00, 11.67it/s]\n"
     ]
    },
    {
     "name": "stdout",
     "output_type": "stream",
     "text": [
      "{'val_loss': 1.5227607101565455, 'val_accuracy': 0.665903890160183, 'precision': 0.6709849429795759, 'recall': 0.665903890160183, 'f1-score': 0.6575238106324612, 'macro_f1-score': 0.43528958366672194, 'balanced_accuracy': 0.42090898135729665, 'mcc': 0.5589287131617121, 'train_loss': 0.33682255746078726}\n",
      "Epoch 4/20\n"
     ]
    },
    {
     "name": "stderr",
     "output_type": "stream",
     "text": [
      "100%|██████████| 716/716 [01:01<00:00, 11.68it/s]\n"
     ]
    },
    {
     "name": "stdout",
     "output_type": "stream",
     "text": [
      "{'val_loss': 1.7490557101441593, 'val_accuracy': 0.6285278413424866, 'precision': 0.6422184565612002, 'recall': 0.6285278413424866, 'f1-score': 0.6284772942563038, 'macro_f1-score': 0.43800085753788726, 'balanced_accuracy': 0.4419271214605948, 'mcc': 0.5252494793978261, 'train_loss': 0.19806542883980915}\n",
      "Epoch 5/20\n"
     ]
    },
    {
     "name": "stderr",
     "output_type": "stream",
     "text": [
      "100%|██████████| 716/716 [01:01<00:00, 11.68it/s]\n"
     ]
    },
    {
     "name": "stdout",
     "output_type": "stream",
     "text": [
      "{'val_loss': 1.6929947275940964, 'val_accuracy': 0.6475972540045767, 'precision': 0.6636245008692359, 'recall': 0.6475972540045767, 'f1-score': 0.6382326988519749, 'macro_f1-score': 0.4204340726040363, 'balanced_accuracy': 0.40946976237445076, 'mcc': 0.5362070645458733, 'train_loss': 0.1499288690974936}\n",
      "Epoch 6/20\n"
     ]
    },
    {
     "name": "stderr",
     "output_type": "stream",
     "text": [
      "100%|██████████| 716/716 [01:01<00:00, 11.67it/s]\n"
     ]
    },
    {
     "name": "stdout",
     "output_type": "stream",
     "text": [
      "{'val_loss': 1.9288543808024103, 'val_accuracy': 0.6102212051868803, 'precision': 0.6503731192765873, 'recall': 0.6102212051868803, 'f1-score': 0.6190455701342159, 'macro_f1-score': 0.4233147143954006, 'balanced_accuracy': 0.440344458660046, 'mcc': 0.5098677528602883, 'train_loss': 0.12081769112381803}\n",
      "Epoch 7/20\n"
     ]
    },
    {
     "name": "stderr",
     "output_type": "stream",
     "text": [
      "100%|██████████| 716/716 [01:01<00:00, 11.68it/s]\n"
     ]
    },
    {
     "name": "stdout",
     "output_type": "stream",
     "text": [
      "{'val_loss': 1.8518766869858998, 'val_accuracy': 0.6521739130434783, 'precision': 0.6656278371148445, 'recall': 0.6521739130434783, 'f1-score': 0.647803059514336, 'macro_f1-score': 0.4404037723044683, 'balanced_accuracy': 0.4175950799886918, 'mcc': 0.5449011041963578, 'train_loss': 0.09502009517941155}\n",
      "Epoch 8/20\n"
     ]
    },
    {
     "name": "stderr",
     "output_type": "stream",
     "text": [
      "100%|██████████| 716/716 [01:01<00:00, 11.67it/s]\n"
     ]
    },
    {
     "name": "stdout",
     "output_type": "stream",
     "text": [
      "{'val_loss': 1.9442948778954947, 'val_accuracy': 0.6514111365369947, 'precision': 0.662189935283114, 'recall': 0.6514111365369947, 'f1-score': 0.6412106692865019, 'macro_f1-score': 0.41721630246148855, 'balanced_accuracy': 0.3995074178770026, 'mcc': 0.5390811037777428, 'train_loss': 0.10293893151371558}\n",
      "Epoch 9/20\n"
     ]
    },
    {
     "name": "stderr",
     "output_type": "stream",
     "text": [
      "100%|██████████| 716/716 [01:01<00:00, 11.69it/s]\n"
     ]
    },
    {
     "name": "stdout",
     "output_type": "stream",
     "text": [
      "{'val_loss': 2.0297221396027543, 'val_accuracy': 0.6300533943554538, 'precision': 0.6518983760749837, 'recall': 0.6300533943554538, 'f1-score': 0.6302335241432727, 'macro_f1-score': 0.4346731693377726, 'balanced_accuracy': 0.42589472448898125, 'mcc': 0.5261919224876062, 'train_loss': 0.08998970919211952}\n",
      "Epoch 10/20\n"
     ]
    },
    {
     "name": "stderr",
     "output_type": "stream",
     "text": [
      "100%|██████████| 716/716 [01:01<00:00, 11.68it/s]\n"
     ]
    },
    {
     "name": "stdout",
     "output_type": "stream",
     "text": [
      "{'val_loss': 2.1263266670994643, 'val_accuracy': 0.6414950419527079, 'precision': 0.6574844151942701, 'recall': 0.6414950419527079, 'f1-score': 0.6391544584027612, 'macro_f1-score': 0.4336838443008219, 'balanced_accuracy': 0.422479901930797, 'mcc': 0.5358797376796958, 'train_loss': 0.05983727669571224}\n",
      "Early stopping.\n",
      "\n",
      " === bert-base-uncased + cnn + ros Final 5-fold Cross-Validation Results ===\n",
      "val_loss: 1.8527\n",
      "val_accuracy: 0.6339\n",
      "precision: 0.6560\n",
      "recall: 0.6339\n",
      "f1-score: 0.6347\n",
      "macro_f1-score: 0.4280\n",
      "balanced_accuracy: 0.4346\n",
      "mcc: 0.5244\n",
      "train_loss: 0.2382\n",
      "total_seconds: 2644.0000\n",
      "total_time: 0 hrs 44 mins 4 secs\n",
      "▶ Running: bert-base-uncased + lstm + ros\n",
      "tokenizer is bert-base-uncased\n",
      "Using device: cuda\n",
      "CUDA Available: True\n",
      "CUDA Device: NVIDIA GeForce RTX 5070 Ti\n",
      "Current GPU Memory Allocated: 0.02 GB\n",
      "Current GPU Memory Cached: 3.14 GB\n",
      "\n",
      "[Fold 1]\n",
      "Label distribution after resampling:\n",
      "  label 0: 2000\n",
      "  label 1: 200\n",
      "  label 2: 200\n",
      "  label 3: 200\n",
      "  label 4: 200\n",
      "  label 5: 200\n",
      "  label 6: 200\n",
      "  label 7: 200\n",
      "  label 8: 200\n",
      "  label 9: 200\n",
      "  label 10: 200\n",
      "  label 11: 200\n",
      "  label 12: 200\n",
      "  label 13: 200\n",
      "  label 14: 200\n",
      "  label 15: 200\n",
      "  label 16: 200\n",
      "  label 17: 200\n",
      "  label 18: 200\n",
      "  label 19: 200\n",
      "  label 20: 200\n",
      "  label 21: 200\n",
      "  label 22: 200\n",
      "  label 23: 200\n",
      "  label 24: 200\n",
      "  label 25: 200\n",
      "  label 26: 200\n",
      "  label 27: 200\n",
      "  label 28: 200\n",
      "  label 29: 200\n",
      "  label 30: 200\n",
      "  label 31: 200\n",
      "  label 32: 200\n",
      "  label 33: 200\n",
      "  label 34: 200\n",
      "  label 35: 200\n",
      "  label 36: 200\n",
      "  label 37: 200\n",
      "  label 38: 200\n",
      "  label 39: 200\n",
      "  label 40: 200\n",
      "  label 41: 200\n",
      "  label 42: 200\n",
      "  label 43: 200\n",
      "  label 44: 200\n",
      "  label 45: 242\n",
      "  label 46: 200\n",
      "  label 47: 200\n",
      "model is bert-base-uncased lstm\n",
      "Epoch 1/20\n"
     ]
    },
    {
     "name": "stderr",
     "output_type": "stream",
     "text": [
      "100%|██████████| 716/716 [01:04<00:00, 11.12it/s]\n"
     ]
    },
    {
     "name": "stdout",
     "output_type": "stream",
     "text": [
      "{'val_loss': 1.6106623131327513, 'val_accuracy': 0.5967987804878049, 'precision': 0.5731919294471624, 'recall': 0.5967987804878049, 'f1-score': 0.5433535261735497, 'macro_f1-score': 0.3374140000706522, 'balanced_accuracy': 0.3645681793835572, 'mcc': 0.43208347118287016, 'train_loss': 2.190872839625987}\n",
      "Epoch 2/20\n"
     ]
    },
    {
     "name": "stderr",
     "output_type": "stream",
     "text": [
      "100%|██████████| 716/716 [01:04<00:00, 11.12it/s]\n"
     ]
    },
    {
     "name": "stdout",
     "output_type": "stream",
     "text": [
      "{'val_loss': 1.5808814120728796, 'val_accuracy': 0.6089939024390244, 'precision': 0.6248797100725046, 'recall': 0.6089939024390244, 'f1-score': 0.5934675609243114, 'macro_f1-score': 0.3798388768029546, 'balanced_accuracy': 0.38784089551550044, 'mcc': 0.4750806914493, 'train_loss': 0.8217466642778346}\n",
      "Epoch 3/20\n"
     ]
    },
    {
     "name": "stderr",
     "output_type": "stream",
     "text": [
      "100%|██████████| 716/716 [01:04<00:00, 11.12it/s]\n"
     ]
    },
    {
     "name": "stdout",
     "output_type": "stream",
     "text": [
      "{'val_loss': 1.6077810998370008, 'val_accuracy': 0.6059451219512195, 'precision': 0.6313983562092151, 'recall': 0.6059451219512195, 'f1-score': 0.6071234254321285, 'macro_f1-score': 0.4090296392305491, 'balanced_accuracy': 0.433753518870623, 'mcc': 0.4881959261384787, 'train_loss': 0.4719448774824096}\n",
      "Epoch 4/20\n"
     ]
    },
    {
     "name": "stderr",
     "output_type": "stream",
     "text": [
      "100%|██████████| 716/716 [01:04<00:00, 11.11it/s]\n"
     ]
    },
    {
     "name": "stdout",
     "output_type": "stream",
     "text": [
      "{'val_loss': 1.7336777103383367, 'val_accuracy': 0.6158536585365854, 'precision': 0.629965482647048, 'recall': 0.6158536585365854, 'f1-score': 0.6063406848630589, 'macro_f1-score': 0.3829648702333294, 'balanced_accuracy': 0.38096407775996594, 'mcc': 0.4871564060442838, 'train_loss': 0.32695523429370627}\n",
      "Epoch 5/20\n"
     ]
    },
    {
     "name": "stderr",
     "output_type": "stream",
     "text": [
      "100%|██████████| 716/716 [01:04<00:00, 11.11it/s]\n"
     ]
    },
    {
     "name": "stdout",
     "output_type": "stream",
     "text": [
      "{'val_loss': 1.7486943364506815, 'val_accuracy': 0.6288109756097561, 'precision': 0.6280169542018376, 'recall': 0.6288109756097561, 'f1-score': 0.6149558937217937, 'macro_f1-score': 0.3960461144616449, 'balanced_accuracy': 0.3946479064933279, 'mcc': 0.4997838105426385, 'train_loss': 0.2550949418641544}\n",
      "Epoch 6/20\n"
     ]
    },
    {
     "name": "stderr",
     "output_type": "stream",
     "text": [
      "100%|██████████| 716/716 [01:04<00:00, 11.14it/s]\n"
     ]
    },
    {
     "name": "stdout",
     "output_type": "stream",
     "text": [
      "{'val_loss': 1.7411226488468123, 'val_accuracy': 0.645579268292683, 'precision': 0.6364564796913547, 'recall': 0.645579268292683, 'f1-score': 0.6354813029602083, 'macro_f1-score': 0.4251435473716052, 'balanced_accuracy': 0.4236242946663469, 'mcc': 0.526454571267558, 'train_loss': 0.19207252355099932}\n",
      "Epoch 7/20\n"
     ]
    },
    {
     "name": "stderr",
     "output_type": "stream",
     "text": [
      "100%|██████████| 716/716 [01:04<00:00, 11.10it/s]\n"
     ]
    },
    {
     "name": "stdout",
     "output_type": "stream",
     "text": [
      "{'val_loss': 1.8206745586017283, 'val_accuracy': 0.6463414634146342, 'precision': 0.6424390529843548, 'recall': 0.6463414634146342, 'f1-score': 0.6360762368082231, 'macro_f1-score': 0.42915504493446693, 'balanced_accuracy': 0.43357264942789336, 'mcc': 0.5292039485118905, 'train_loss': 0.15242537610394122}\n",
      "Epoch 8/20\n"
     ]
    },
    {
     "name": "stderr",
     "output_type": "stream",
     "text": [
      "100%|██████████| 716/716 [01:04<00:00, 11.12it/s]\n"
     ]
    },
    {
     "name": "stdout",
     "output_type": "stream",
     "text": [
      "{'val_loss': 1.8909640450303147, 'val_accuracy': 0.6394817073170732, 'precision': 0.6312997900503645, 'recall': 0.6394817073170732, 'f1-score': 0.6244017402026987, 'macro_f1-score': 0.405435355952366, 'balanced_accuracy': 0.40659295993707856, 'mcc': 0.5134304228858709, 'train_loss': 0.12356521101933826}\n",
      "Epoch 9/20\n"
     ]
    },
    {
     "name": "stderr",
     "output_type": "stream",
     "text": [
      "100%|██████████| 716/716 [01:04<00:00, 11.10it/s]\n"
     ]
    },
    {
     "name": "stdout",
     "output_type": "stream",
     "text": [
      "{'val_loss': 1.9491488849971352, 'val_accuracy': 0.649390243902439, 'precision': 0.6400404257632005, 'recall': 0.649390243902439, 'f1-score': 0.6378821174884768, 'macro_f1-score': 0.43151643044029625, 'balanced_accuracy': 0.4200428010288609, 'mcc': 0.5338504642409069, 'train_loss': 0.11185107107583808}\n",
      "Epoch 10/20\n"
     ]
    },
    {
     "name": "stderr",
     "output_type": "stream",
     "text": [
      "100%|██████████| 716/716 [01:04<00:00, 11.10it/s]\n"
     ]
    },
    {
     "name": "stdout",
     "output_type": "stream",
     "text": [
      "{'val_loss': 2.11636955927058, 'val_accuracy': 0.6135670731707317, 'precision': 0.628205273452078, 'recall': 0.6135670731707317, 'f1-score': 0.6138324057081704, 'macro_f1-score': 0.39760511387831604, 'balanced_accuracy': 0.43422561675335364, 'mcc': 0.5030765208409008, 'train_loss': 0.09077026132642495}\n",
      "Epoch 11/20\n"
     ]
    },
    {
     "name": "stderr",
     "output_type": "stream",
     "text": [
      "100%|██████████| 716/716 [01:04<00:00, 11.12it/s]\n"
     ]
    },
    {
     "name": "stdout",
     "output_type": "stream",
     "text": [
      "{'val_loss': 2.0779710444735318, 'val_accuracy': 0.6128048780487805, 'precision': 0.626971836713665, 'recall': 0.6128048780487805, 'f1-score': 0.6143412026577888, 'macro_f1-score': 0.4091901025544448, 'balanced_accuracy': 0.410486344540071, 'mcc': 0.4966121309043851, 'train_loss': 0.10204518349339155}\n",
      "Epoch 12/20\n"
     ]
    },
    {
     "name": "stderr",
     "output_type": "stream",
     "text": [
      "100%|██████████| 716/716 [01:04<00:00, 11.09it/s]\n"
     ]
    },
    {
     "name": "stdout",
     "output_type": "stream",
     "text": [
      "{'val_loss': 2.0439394000099926, 'val_accuracy': 0.649390243902439, 'precision': 0.6292308849117303, 'recall': 0.649390243902439, 'f1-score': 0.6225510231154541, 'macro_f1-score': 0.38629207294443096, 'balanced_accuracy': 0.3735590146916268, 'mcc': 0.5219071346458045, 'train_loss': 0.09041935499717206}\n",
      "Early stopping.\n",
      "\n",
      "[Fold 2]\n",
      "Label distribution after resampling:\n",
      "  label 0: 2000\n",
      "  label 1: 200\n",
      "  label 2: 200\n",
      "  label 3: 200\n",
      "  label 4: 200\n",
      "  label 5: 200\n",
      "  label 6: 200\n",
      "  label 7: 200\n",
      "  label 8: 200\n",
      "  label 9: 200\n",
      "  label 10: 200\n",
      "  label 11: 200\n",
      "  label 12: 200\n",
      "  label 13: 200\n",
      "  label 14: 200\n",
      "  label 15: 200\n",
      "  label 16: 200\n",
      "  label 17: 200\n",
      "  label 18: 200\n",
      "  label 19: 200\n",
      "  label 20: 200\n",
      "  label 21: 200\n",
      "  label 22: 200\n",
      "  label 23: 200\n",
      "  label 24: 200\n",
      "  label 25: 200\n",
      "  label 26: 200\n",
      "  label 27: 200\n",
      "  label 28: 200\n",
      "  label 29: 200\n",
      "  label 30: 200\n",
      "  label 31: 200\n",
      "  label 32: 200\n",
      "  label 33: 200\n",
      "  label 34: 200\n",
      "  label 35: 200\n",
      "  label 36: 200\n",
      "  label 37: 200\n",
      "  label 38: 200\n",
      "  label 39: 200\n",
      "  label 40: 200\n",
      "  label 41: 200\n",
      "  label 42: 200\n",
      "  label 43: 200\n",
      "  label 44: 200\n",
      "  label 45: 242\n",
      "  label 46: 200\n",
      "  label 47: 200\n",
      "model is bert-base-uncased lstm\n",
      "Epoch 1/20\n"
     ]
    },
    {
     "name": "stderr",
     "output_type": "stream",
     "text": [
      "100%|██████████| 716/716 [01:04<00:00, 11.11it/s]\n"
     ]
    },
    {
     "name": "stdout",
     "output_type": "stream",
     "text": [
      "{'val_loss': 1.5905895676554702, 'val_accuracy': 0.5911517925247902, 'precision': 0.5871791148637079, 'recall': 0.5911517925247902, 'f1-score': 0.564108266453573, 'macro_f1-score': 0.3198189698488478, 'balanced_accuracy': 0.39942011681402473, 'mcc': 0.4528884597730116, 'train_loss': 2.2389462548178}\n",
      "Epoch 2/20\n"
     ]
    },
    {
     "name": "stderr",
     "output_type": "stream",
     "text": [
      "100%|██████████| 716/716 [01:04<00:00, 11.10it/s]\n"
     ]
    },
    {
     "name": "stdout",
     "output_type": "stream",
     "text": [
      "{'val_loss': 1.4588696833063917, 'val_accuracy': 0.6231884057971014, 'precision': 0.6292409523468393, 'recall': 0.6231884057971014, 'f1-score': 0.6145044379499903, 'macro_f1-score': 0.3670543125248951, 'balanced_accuracy': 0.38768006705728847, 'mcc': 0.5040200346571053, 'train_loss': 0.8134874363414235}\n",
      "Epoch 3/20\n"
     ]
    },
    {
     "name": "stderr",
     "output_type": "stream",
     "text": [
      "100%|██████████| 716/716 [01:04<00:00, 11.12it/s]\n"
     ]
    },
    {
     "name": "stdout",
     "output_type": "stream",
     "text": [
      "{'val_loss': 1.5408964527816307, 'val_accuracy': 0.623951182303585, 'precision': 0.6358299568303595, 'recall': 0.623951182303585, 'f1-score': 0.6205733447861991, 'macro_f1-score': 0.3891544144279731, 'balanced_accuracy': 0.4222393724017357, 'mcc': 0.5122088506951737, 'train_loss': 0.44635725187335434}\n",
      "Epoch 4/20\n"
     ]
    },
    {
     "name": "stderr",
     "output_type": "stream",
     "text": [
      "100%|██████████| 716/716 [01:04<00:00, 11.11it/s]\n"
     ]
    },
    {
     "name": "stdout",
     "output_type": "stream",
     "text": [
      "{'val_loss': 1.8877826463885423, 'val_accuracy': 0.5522501906941266, 'precision': 0.6486766037769528, 'recall': 0.5522501906941266, 'f1-score': 0.5769781512288956, 'macro_f1-score': 0.3909356624502505, 'balanced_accuracy': 0.44332523654878536, 'mcc': 0.4669385183005333, 'train_loss': 0.3106631019527311}\n",
      "Epoch 5/20\n"
     ]
    },
    {
     "name": "stderr",
     "output_type": "stream",
     "text": [
      "100%|██████████| 716/716 [01:04<00:00, 11.10it/s]\n"
     ]
    },
    {
     "name": "stdout",
     "output_type": "stream",
     "text": [
      "{'val_loss': 1.6515599925343583, 'val_accuracy': 0.6346300533943554, 'precision': 0.6265417725923126, 'recall': 0.6346300533943554, 'f1-score': 0.6227557336052716, 'macro_f1-score': 0.3895281938054167, 'balanced_accuracy': 0.38627143983785567, 'mcc': 0.5163028392332338, 'train_loss': 0.23229584623877397}\n",
      "Epoch 6/20\n"
     ]
    },
    {
     "name": "stderr",
     "output_type": "stream",
     "text": [
      "100%|██████████| 716/716 [01:04<00:00, 11.11it/s]\n"
     ]
    },
    {
     "name": "stdout",
     "output_type": "stream",
     "text": [
      "{'val_loss': 1.762990851954716, 'val_accuracy': 0.6376811594202898, 'precision': 0.6140360815439855, 'recall': 0.6376811594202898, 'f1-score': 0.6162074822475474, 'macro_f1-score': 0.36460921992477274, 'balanced_accuracy': 0.36588601879623467, 'mcc': 0.5131470969168244, 'train_loss': 0.15215237749813323}\n",
      "Epoch 7/20\n"
     ]
    },
    {
     "name": "stderr",
     "output_type": "stream",
     "text": [
      "100%|██████████| 716/716 [01:04<00:00, 11.11it/s]\n"
     ]
    },
    {
     "name": "stdout",
     "output_type": "stream",
     "text": [
      "{'val_loss': 2.0491860203626677, 'val_accuracy': 0.6254767353165522, 'precision': 0.610719969938796, 'recall': 0.6254767353165522, 'f1-score': 0.5950680595770694, 'macro_f1-score': 0.3536815190672488, 'balanced_accuracy': 0.34179735734075556, 'mcc': 0.4827627076060387, 'train_loss': 0.13288812577599587}\n",
      "Early stopping.\n",
      "\n",
      "[Fold 3]\n",
      "Label distribution after resampling:\n",
      "  label 0: 2000\n",
      "  label 1: 200\n",
      "  label 2: 200\n",
      "  label 3: 200\n",
      "  label 4: 200\n",
      "  label 5: 200\n",
      "  label 6: 200\n",
      "  label 7: 200\n",
      "  label 8: 200\n",
      "  label 9: 200\n",
      "  label 10: 200\n",
      "  label 11: 200\n",
      "  label 12: 200\n",
      "  label 13: 200\n",
      "  label 14: 200\n",
      "  label 15: 200\n",
      "  label 16: 200\n",
      "  label 17: 200\n",
      "  label 18: 200\n",
      "  label 19: 200\n",
      "  label 20: 200\n",
      "  label 21: 200\n",
      "  label 22: 200\n",
      "  label 23: 200\n",
      "  label 24: 200\n",
      "  label 25: 200\n",
      "  label 26: 200\n",
      "  label 27: 200\n",
      "  label 28: 200\n",
      "  label 29: 200\n",
      "  label 30: 200\n",
      "  label 31: 200\n",
      "  label 32: 200\n",
      "  label 33: 200\n",
      "  label 34: 200\n",
      "  label 35: 200\n",
      "  label 36: 200\n",
      "  label 37: 200\n",
      "  label 38: 200\n",
      "  label 39: 200\n",
      "  label 40: 200\n",
      "  label 41: 200\n",
      "  label 42: 200\n",
      "  label 43: 200\n",
      "  label 44: 200\n",
      "  label 45: 241\n",
      "  label 46: 200\n",
      "  label 47: 200\n",
      "model is bert-base-uncased lstm\n",
      "Epoch 1/20\n"
     ]
    },
    {
     "name": "stderr",
     "output_type": "stream",
     "text": [
      "100%|██████████| 716/716 [01:04<00:00, 11.12it/s]\n"
     ]
    },
    {
     "name": "stdout",
     "output_type": "stream",
     "text": [
      "{'val_loss': 1.6859584269000263, 'val_accuracy': 0.5705568268497331, 'precision': 0.588307152513179, 'recall': 0.5705568268497331, 'f1-score': 0.5447835388323765, 'macro_f1-score': 0.3150407098873476, 'balanced_accuracy': 0.331819670668426, 'mcc': 0.4115824655611191, 'train_loss': 2.2604685134394873}\n",
      "Epoch 2/20\n"
     ]
    },
    {
     "name": "stderr",
     "output_type": "stream",
     "text": [
      "100%|██████████| 716/716 [01:04<00:00, 11.11it/s]\n"
     ]
    },
    {
     "name": "stdout",
     "output_type": "stream",
     "text": [
      "{'val_loss': 1.680183033390743, 'val_accuracy': 0.5659801678108314, 'precision': 0.6215201181572363, 'recall': 0.5659801678108314, 'f1-score': 0.5792460630032401, 'macro_f1-score': 0.3547378986321958, 'balanced_accuracy': 0.39175911817097253, 'mcc': 0.45605037485572664, 'train_loss': 0.8343965215348331}\n",
      "Epoch 3/20\n"
     ]
    },
    {
     "name": "stderr",
     "output_type": "stream",
     "text": [
      "100%|██████████| 716/716 [01:04<00:00, 11.14it/s]\n"
     ]
    },
    {
     "name": "stdout",
     "output_type": "stream",
     "text": [
      "{'val_loss': 1.5753808255966117, 'val_accuracy': 0.631578947368421, 'precision': 0.6101592632001822, 'recall': 0.631578947368421, 'f1-score': 0.6065698230495208, 'macro_f1-score': 0.3592477245877796, 'balanced_accuracy': 0.3364707415511677, 'mcc': 0.4951344387431127, 'train_loss': 0.48485188557136827}\n",
      "Epoch 4/20\n"
     ]
    },
    {
     "name": "stderr",
     "output_type": "stream",
     "text": [
      "100%|██████████| 716/716 [01:04<00:00, 11.11it/s]\n"
     ]
    },
    {
     "name": "stdout",
     "output_type": "stream",
     "text": [
      "{'val_loss': 1.6202431917190552, 'val_accuracy': 0.6369183829138062, 'precision': 0.6274038601661166, 'recall': 0.6369183829138062, 'f1-score': 0.6140758481824415, 'macro_f1-score': 0.4021119346431366, 'balanced_accuracy': 0.3861562527255759, 'mcc': 0.505770662461542, 'train_loss': 0.33151799527272663}\n",
      "Epoch 5/20\n"
     ]
    },
    {
     "name": "stderr",
     "output_type": "stream",
     "text": [
      "100%|██████████| 716/716 [01:04<00:00, 11.13it/s]\n"
     ]
    },
    {
     "name": "stdout",
     "output_type": "stream",
     "text": [
      "{'val_loss': 1.8252099912341049, 'val_accuracy': 0.6224256292906178, 'precision': 0.600987237042295, 'recall': 0.6224256292906178, 'f1-score': 0.594911903024526, 'macro_f1-score': 0.3611549441176624, 'balanced_accuracy': 0.33534901485104524, 'mcc': 0.4764463309922874, 'train_loss': 0.24801021512576987}\n",
      "Epoch 6/20\n"
     ]
    },
    {
     "name": "stderr",
     "output_type": "stream",
     "text": [
      "100%|██████████| 716/716 [01:04<00:00, 11.11it/s]\n"
     ]
    },
    {
     "name": "stdout",
     "output_type": "stream",
     "text": [
      "{'val_loss': 1.9066605244240746, 'val_accuracy': 0.6254767353165522, 'precision': 0.6126726235226154, 'recall': 0.6254767353165522, 'f1-score': 0.6084640376207472, 'macro_f1-score': 0.3736292596612402, 'balanced_accuracy': 0.3547453687913589, 'mcc': 0.4975559127755441, 'train_loss': 0.1968656769035353}\n",
      "Epoch 7/20\n"
     ]
    },
    {
     "name": "stderr",
     "output_type": "stream",
     "text": [
      "100%|██████████| 716/716 [01:04<00:00, 11.12it/s]\n"
     ]
    },
    {
     "name": "stdout",
     "output_type": "stream",
     "text": [
      "{'val_loss': 1.8850994259119034, 'val_accuracy': 0.620137299771167, 'precision': 0.6244466448210304, 'recall': 0.620137299771167, 'f1-score': 0.6146023108972201, 'macro_f1-score': 0.4030289671713149, 'balanced_accuracy': 0.39049017835431304, 'mcc': 0.5053053812330948, 'train_loss': 0.16507333248213724}\n",
      "Epoch 8/20\n"
     ]
    },
    {
     "name": "stderr",
     "output_type": "stream",
     "text": [
      "100%|██████████| 716/716 [01:04<00:00, 11.14it/s]\n"
     ]
    },
    {
     "name": "stdout",
     "output_type": "stream",
     "text": [
      "{'val_loss': 1.8960843507836505, 'val_accuracy': 0.6407322654462243, 'precision': 0.6153639686731519, 'recall': 0.6407322654462243, 'f1-score': 0.6148956709165918, 'macro_f1-score': 0.386026738685567, 'balanced_accuracy': 0.351320656680421, 'mcc': 0.5061869700304829, 'train_loss': 0.14019062316471803}\n",
      "Epoch 9/20\n"
     ]
    },
    {
     "name": "stderr",
     "output_type": "stream",
     "text": [
      "100%|██████████| 716/716 [01:04<00:00, 11.11it/s]\n"
     ]
    },
    {
     "name": "stdout",
     "output_type": "stream",
     "text": [
      "{'val_loss': 1.9086991197815755, 'val_accuracy': 0.6430205949656751, 'precision': 0.6405763262947499, 'recall': 0.6430205949656751, 'f1-score': 0.633976818621174, 'macro_f1-score': 0.4220570077581409, 'balanced_accuracy': 0.40783534609525757, 'mcc': 0.524489259938177, 'train_loss': 0.12414562834463182}\n",
      "Epoch 10/20\n"
     ]
    },
    {
     "name": "stderr",
     "output_type": "stream",
     "text": [
      "100%|██████████| 716/716 [01:04<00:00, 11.13it/s]\n"
     ]
    },
    {
     "name": "stdout",
     "output_type": "stream",
     "text": [
      "{'val_loss': 2.1093790218597506, 'val_accuracy': 0.6041189931350115, 'precision': 0.6173965433316505, 'recall': 0.6041189931350115, 'f1-score': 0.5976243511817559, 'macro_f1-score': 0.3741375170600432, 'balanced_accuracy': 0.35834796575844674, 'mcc': 0.47908186119072443, 'train_loss': 0.12998803700749664}\n",
      "Epoch 11/20\n"
     ]
    },
    {
     "name": "stderr",
     "output_type": "stream",
     "text": [
      "100%|██████████| 716/716 [01:04<00:00, 11.12it/s]\n"
     ]
    },
    {
     "name": "stdout",
     "output_type": "stream",
     "text": [
      "{'val_loss': 2.033867515896152, 'val_accuracy': 0.631578947368421, 'precision': 0.6336122017195529, 'recall': 0.631578947368421, 'f1-score': 0.6214679057220922, 'macro_f1-score': 0.40406526523370506, 'balanced_accuracy': 0.38822008991646495, 'mcc': 0.5174807908324345, 'train_loss': 0.12369327353997749}\n",
      "Epoch 12/20\n"
     ]
    },
    {
     "name": "stderr",
     "output_type": "stream",
     "text": [
      "100%|██████████| 716/716 [01:04<00:00, 11.13it/s]\n"
     ]
    },
    {
     "name": "stdout",
     "output_type": "stream",
     "text": [
      "{'val_loss': 2.2039098119953784, 'val_accuracy': 0.6178489702517163, 'precision': 0.6192304705467394, 'recall': 0.6178489702517163, 'f1-score': 0.6078603002130667, 'macro_f1-score': 0.3603157395635849, 'balanced_accuracy': 0.33585957737287625, 'mcc': 0.4892523943133187, 'train_loss': 0.07067686744722376}\n",
      "Early stopping.\n",
      "\n",
      "[Fold 4]\n",
      "Label distribution after resampling:\n",
      "  label 0: 2000\n",
      "  label 1: 200\n",
      "  label 2: 200\n",
      "  label 3: 200\n",
      "  label 4: 200\n",
      "  label 5: 200\n",
      "  label 6: 200\n",
      "  label 7: 200\n",
      "  label 8: 200\n",
      "  label 9: 200\n",
      "  label 10: 200\n",
      "  label 11: 200\n",
      "  label 12: 200\n",
      "  label 13: 200\n",
      "  label 14: 200\n",
      "  label 15: 200\n",
      "  label 16: 200\n",
      "  label 17: 200\n",
      "  label 18: 200\n",
      "  label 19: 200\n",
      "  label 20: 200\n",
      "  label 21: 200\n",
      "  label 22: 200\n",
      "  label 23: 200\n",
      "  label 24: 200\n",
      "  label 25: 200\n",
      "  label 26: 200\n",
      "  label 27: 200\n",
      "  label 28: 200\n",
      "  label 29: 200\n",
      "  label 30: 200\n",
      "  label 31: 200\n",
      "  label 32: 200\n",
      "  label 33: 200\n",
      "  label 34: 200\n",
      "  label 35: 200\n",
      "  label 36: 200\n",
      "  label 37: 200\n",
      "  label 38: 200\n",
      "  label 39: 200\n",
      "  label 40: 200\n",
      "  label 41: 200\n",
      "  label 42: 200\n",
      "  label 43: 200\n",
      "  label 44: 200\n",
      "  label 45: 241\n",
      "  label 46: 200\n",
      "  label 47: 200\n",
      "model is bert-base-uncased lstm\n",
      "Epoch 1/20\n"
     ]
    },
    {
     "name": "stderr",
     "output_type": "stream",
     "text": [
      "100%|██████████| 716/716 [01:04<00:00, 11.12it/s]\n"
     ]
    },
    {
     "name": "stdout",
     "output_type": "stream",
     "text": [
      "{'val_loss': 1.7544542936290182, 'val_accuracy': 0.524790236460717, 'precision': 0.6127928190657111, 'recall': 0.524790236460717, 'f1-score': 0.5412818754116117, 'macro_f1-score': 0.3274354661822604, 'balanced_accuracy': 0.41460142024417973, 'mcc': 0.41032117170380333, 'train_loss': 2.2139395907854236}\n",
      "Epoch 2/20\n"
     ]
    },
    {
     "name": "stderr",
     "output_type": "stream",
     "text": [
      "100%|██████████| 716/716 [01:04<00:00, 11.11it/s]\n"
     ]
    },
    {
     "name": "stdout",
     "output_type": "stream",
     "text": [
      "{'val_loss': 1.4695215748577584, 'val_accuracy': 0.6209000762776506, 'precision': 0.6325603630427761, 'recall': 0.6209000762776506, 'f1-score': 0.6109446910455978, 'macro_f1-score': 0.39406070789845166, 'balanced_accuracy': 0.41291972851803016, 'mcc': 0.49996987742833787, 'train_loss': 0.8479402257472942}\n",
      "Epoch 3/20\n"
     ]
    },
    {
     "name": "stderr",
     "output_type": "stream",
     "text": [
      "100%|██████████| 716/716 [01:04<00:00, 11.13it/s]\n"
     ]
    },
    {
     "name": "stdout",
     "output_type": "stream",
     "text": [
      "{'val_loss': 1.4809675829076185, 'val_accuracy': 0.6430205949656751, 'precision': 0.6530591357954565, 'recall': 0.6430205949656751, 'f1-score': 0.6184579249331585, 'macro_f1-score': 0.41678914874441614, 'balanced_accuracy': 0.3891962220290576, 'mcc': 0.5102040505299217, 'train_loss': 0.4582147426258086}\n",
      "Epoch 4/20\n"
     ]
    },
    {
     "name": "stderr",
     "output_type": "stream",
     "text": [
      "100%|██████████| 716/716 [01:04<00:00, 11.12it/s]\n"
     ]
    },
    {
     "name": "stdout",
     "output_type": "stream",
     "text": [
      "{'val_loss': 1.5313763952836759, 'val_accuracy': 0.6392067124332571, 'precision': 0.6413770919657342, 'recall': 0.6392067124332571, 'f1-score': 0.6316623759306662, 'macro_f1-score': 0.4234669951303314, 'balanced_accuracy': 0.41860633379814477, 'mcc': 0.5245769045929903, 'train_loss': 0.3278374772664555}\n",
      "Epoch 5/20\n"
     ]
    },
    {
     "name": "stderr",
     "output_type": "stream",
     "text": [
      "100%|██████████| 716/716 [01:04<00:00, 11.12it/s]\n"
     ]
    },
    {
     "name": "stdout",
     "output_type": "stream",
     "text": [
      "{'val_loss': 1.6393939560142958, 'val_accuracy': 0.6468344774980931, 'precision': 0.6450402194772955, 'recall': 0.6468344774980931, 'f1-score': 0.6282244594869338, 'macro_f1-score': 0.4025500976149283, 'balanced_accuracy': 0.3850067552578816, 'mcc': 0.5262750576157437, 'train_loss': 0.2242703439418081}\n",
      "Epoch 6/20\n"
     ]
    },
    {
     "name": "stderr",
     "output_type": "stream",
     "text": [
      "100%|██████████| 716/716 [01:04<00:00, 11.12it/s]\n"
     ]
    },
    {
     "name": "stdout",
     "output_type": "stream",
     "text": [
      "{'val_loss': 1.692380635476694, 'val_accuracy': 0.6491228070175439, 'precision': 0.6600165740878586, 'recall': 0.6491228070175439, 'f1-score': 0.6449301120663565, 'macro_f1-score': 0.42883233498465945, 'balanced_accuracy': 0.4136917630483669, 'mcc': 0.5390651402311071, 'train_loss': 0.18454946586914237}\n",
      "Epoch 7/20\n"
     ]
    },
    {
     "name": "stderr",
     "output_type": "stream",
     "text": [
      "100%|██████████| 716/716 [01:04<00:00, 11.14it/s]\n"
     ]
    },
    {
     "name": "stdout",
     "output_type": "stream",
     "text": [
      "{'val_loss': 1.7858603265954227, 'val_accuracy': 0.6559877955758963, 'precision': 0.6586520761586161, 'recall': 0.6559877955758963, 'f1-score': 0.6467189417245782, 'macro_f1-score': 0.42288388000845095, 'balanced_accuracy': 0.41194476533916974, 'mcc': 0.542437465026222, 'train_loss': 0.1496104222407575}\n",
      "Epoch 8/20\n"
     ]
    },
    {
     "name": "stderr",
     "output_type": "stream",
     "text": [
      "100%|██████████| 716/716 [01:04<00:00, 11.11it/s]\n"
     ]
    },
    {
     "name": "stdout",
     "output_type": "stream",
     "text": [
      "{'val_loss': 1.8938117210821408, 'val_accuracy': 0.6506483600305111, 'precision': 0.6700697272668661, 'recall': 0.6506483600305111, 'f1-score': 0.650284717680019, 'macro_f1-score': 0.44188624376981966, 'balanced_accuracy': 0.44682436154620514, 'mcc': 0.5498864666162506, 'train_loss': 0.09908548381645232}\n",
      "Epoch 9/20\n"
     ]
    },
    {
     "name": "stderr",
     "output_type": "stream",
     "text": [
      "100%|██████████| 716/716 [01:04<00:00, 11.14it/s]\n"
     ]
    },
    {
     "name": "stdout",
     "output_type": "stream",
     "text": [
      "{'val_loss': 1.9411955337698867, 'val_accuracy': 0.6209000762776506, 'precision': 0.641311198355257, 'recall': 0.6209000762776506, 'f1-score': 0.6174263774463694, 'macro_f1-score': 0.3969701137096873, 'balanced_accuracy': 0.4033378864199606, 'mcc': 0.5052122326971616, 'train_loss': 0.13910518108552333}\n",
      "Epoch 10/20\n"
     ]
    },
    {
     "name": "stderr",
     "output_type": "stream",
     "text": [
      "100%|██████████| 716/716 [01:04<00:00, 11.12it/s]\n"
     ]
    },
    {
     "name": "stdout",
     "output_type": "stream",
     "text": [
      "{'val_loss': 2.073551480363055, 'val_accuracy': 0.6270022883295194, 'precision': 0.6248758822746543, 'recall': 0.6270022883295194, 'f1-score': 0.6130502889305435, 'macro_f1-score': 0.40596404227992816, 'balanced_accuracy': 0.41512521428466514, 'mcc': 0.5070116802123372, 'train_loss': 0.11364632062926139}\n",
      "Epoch 11/20\n"
     ]
    },
    {
     "name": "stderr",
     "output_type": "stream",
     "text": [
      "100%|██████████| 716/716 [01:04<00:00, 11.11it/s]\n"
     ]
    },
    {
     "name": "stdout",
     "output_type": "stream",
     "text": [
      "{'val_loss': 2.071875312570028, 'val_accuracy': 0.6414950419527079, 'precision': 0.6606860541199211, 'recall': 0.6414950419527079, 'f1-score': 0.6420111995860825, 'macro_f1-score': 0.42299096936949104, 'balanced_accuracy': 0.43369766884678396, 'mcc': 0.5444088123070925, 'train_loss': 0.08722805104273054}\n",
      "Early stopping.\n",
      "\n",
      "[Fold 5]\n",
      "Label distribution after resampling:\n",
      "  label 0: 2000\n",
      "  label 1: 200\n",
      "  label 2: 200\n",
      "  label 3: 200\n",
      "  label 4: 200\n",
      "  label 5: 200\n",
      "  label 6: 200\n",
      "  label 7: 200\n",
      "  label 8: 200\n",
      "  label 9: 200\n",
      "  label 10: 200\n",
      "  label 11: 200\n",
      "  label 12: 200\n",
      "  label 13: 200\n",
      "  label 14: 200\n",
      "  label 15: 200\n",
      "  label 16: 200\n",
      "  label 17: 200\n",
      "  label 18: 200\n",
      "  label 19: 200\n",
      "  label 20: 200\n",
      "  label 21: 200\n",
      "  label 22: 200\n",
      "  label 23: 200\n",
      "  label 24: 200\n",
      "  label 25: 200\n",
      "  label 26: 200\n",
      "  label 27: 200\n",
      "  label 28: 200\n",
      "  label 29: 200\n",
      "  label 30: 200\n",
      "  label 31: 200\n",
      "  label 32: 200\n",
      "  label 33: 200\n",
      "  label 34: 200\n",
      "  label 35: 200\n",
      "  label 36: 200\n",
      "  label 37: 200\n",
      "  label 38: 200\n",
      "  label 39: 200\n",
      "  label 40: 200\n",
      "  label 41: 200\n",
      "  label 42: 200\n",
      "  label 43: 200\n",
      "  label 44: 200\n",
      "  label 45: 242\n",
      "  label 46: 200\n",
      "  label 47: 200\n",
      "model is bert-base-uncased lstm\n",
      "Epoch 1/20\n"
     ]
    },
    {
     "name": "stderr",
     "output_type": "stream",
     "text": [
      "100%|██████████| 716/716 [01:04<00:00, 11.14it/s]\n"
     ]
    },
    {
     "name": "stdout",
     "output_type": "stream",
     "text": [
      "{'val_loss': 1.6619335507474295, 'val_accuracy': 0.551487414187643, 'precision': 0.6205561634307782, 'recall': 0.551487414187643, 'f1-score': 0.5588366125398028, 'macro_f1-score': 0.3477848931869243, 'balanced_accuracy': 0.45195490375846936, 'mcc': 0.4410218899155057, 'train_loss': 2.2630104967835227}\n",
      "Epoch 2/20\n"
     ]
    },
    {
     "name": "stderr",
     "output_type": "stream",
     "text": [
      "100%|██████████| 716/716 [01:04<00:00, 11.11it/s]\n"
     ]
    },
    {
     "name": "stdout",
     "output_type": "stream",
     "text": [
      "{'val_loss': 1.5083730151740515, 'val_accuracy': 0.6254767353165522, 'precision': 0.6328050577609384, 'recall': 0.6254767353165522, 'f1-score': 0.6141482020150386, 'macro_f1-score': 0.38937735405254487, 'balanced_accuracy': 0.4025135781156745, 'mcc': 0.5024666415415618, 'train_loss': 0.8357214255664269}\n",
      "Epoch 3/20\n"
     ]
    },
    {
     "name": "stderr",
     "output_type": "stream",
     "text": [
      "100%|██████████| 716/716 [01:04<00:00, 11.13it/s]\n"
     ]
    },
    {
     "name": "stdout",
     "output_type": "stream",
     "text": [
      "{'val_loss': 1.5889515644166528, 'val_accuracy': 0.6155606407322655, 'precision': 0.6379000439761503, 'recall': 0.6155606407322655, 'f1-score': 0.6122581359150557, 'macro_f1-score': 0.3977043471186903, 'balanced_accuracy': 0.40635924599887724, 'mcc': 0.49532999993074533, 'train_loss': 0.4797934839429136}\n",
      "Epoch 4/20\n"
     ]
    },
    {
     "name": "stderr",
     "output_type": "stream",
     "text": [
      "100%|██████████| 716/716 [01:04<00:00, 11.12it/s]\n"
     ]
    },
    {
     "name": "stdout",
     "output_type": "stream",
     "text": [
      "{'val_loss': 1.6804873976038723, 'val_accuracy': 0.6300533943554538, 'precision': 0.6502458501632319, 'recall': 0.6300533943554538, 'f1-score': 0.6252563348043565, 'macro_f1-score': 0.42086869087783657, 'balanced_accuracy': 0.43374832206127084, 'mcc': 0.5122697020811354, 'train_loss': 0.3231045548965395}\n",
      "Epoch 5/20\n"
     ]
    },
    {
     "name": "stderr",
     "output_type": "stream",
     "text": [
      "100%|██████████| 716/716 [01:04<00:00, 11.13it/s]\n"
     ]
    },
    {
     "name": "stdout",
     "output_type": "stream",
     "text": [
      "{'val_loss': 1.702414074867237, 'val_accuracy': 0.6323417238749046, 'precision': 0.6561716801545839, 'recall': 0.6323417238749046, 'f1-score': 0.6345666701082195, 'macro_f1-score': 0.42851313949191927, 'balanced_accuracy': 0.4305247320289228, 'mcc': 0.5239002383762444, 'train_loss': 0.2247545974401955}\n",
      "Epoch 6/20\n"
     ]
    },
    {
     "name": "stderr",
     "output_type": "stream",
     "text": [
      "100%|██████████| 716/716 [01:04<00:00, 11.13it/s]\n"
     ]
    },
    {
     "name": "stdout",
     "output_type": "stream",
     "text": [
      "{'val_loss': 1.7556233100774812, 'val_accuracy': 0.6216628527841342, 'precision': 0.6654267604450891, 'recall': 0.6216628527841342, 'f1-score': 0.6323436953897863, 'macro_f1-score': 0.4351868917353061, 'balanced_accuracy': 0.45808209195948785, 'mcc': 0.5210919588848524, 'train_loss': 0.18254526448045863}\n",
      "Epoch 7/20\n"
     ]
    },
    {
     "name": "stderr",
     "output_type": "stream",
     "text": [
      "100%|██████████| 716/716 [01:04<00:00, 11.12it/s]\n"
     ]
    },
    {
     "name": "stdout",
     "output_type": "stream",
     "text": [
      "{'val_loss': 1.7389555279074647, 'val_accuracy': 0.6529366895499619, 'precision': 0.6595253391841848, 'recall': 0.6529366895499619, 'f1-score': 0.64620191989717, 'macro_f1-score': 0.45008168511928215, 'balanced_accuracy': 0.43458645793577527, 'mcc': 0.5431263797618628, 'train_loss': 0.16341335348805736}\n",
      "Epoch 8/20\n"
     ]
    },
    {
     "name": "stderr",
     "output_type": "stream",
     "text": [
      "100%|██████████| 716/716 [01:04<00:00, 11.14it/s]\n"
     ]
    },
    {
     "name": "stdout",
     "output_type": "stream",
     "text": [
      "{'val_loss': 1.7962427989738743, 'val_accuracy': 0.6628527841342486, 'precision': 0.6628797018153919, 'recall': 0.6628527841342486, 'f1-score': 0.6467226191105256, 'macro_f1-score': 0.4414664596845624, 'balanced_accuracy': 0.42155240769169655, 'mcc': 0.5475483616934651, 'train_loss': 0.1271154859640464}\n",
      "Epoch 9/20\n"
     ]
    },
    {
     "name": "stderr",
     "output_type": "stream",
     "text": [
      "100%|██████████| 716/716 [01:04<00:00, 11.12it/s]\n"
     ]
    },
    {
     "name": "stdout",
     "output_type": "stream",
     "text": [
      "{'val_loss': 1.845122935931857, 'val_accuracy': 0.6384439359267735, 'precision': 0.6584894369648048, 'recall': 0.6384439359267735, 'f1-score': 0.6409699587451686, 'macro_f1-score': 0.4423105709564832, 'balanced_accuracy': 0.4370727551375901, 'mcc': 0.5292460318447355, 'train_loss': 0.12604864048329312}\n",
      "Epoch 10/20\n"
     ]
    },
    {
     "name": "stderr",
     "output_type": "stream",
     "text": [
      "100%|██████████| 716/716 [01:04<00:00, 11.13it/s]\n"
     ]
    },
    {
     "name": "stdout",
     "output_type": "stream",
     "text": [
      "{'val_loss': 1.8664777655063607, 'val_accuracy': 0.6445461479786423, 'precision': 0.6277440773843774, 'recall': 0.6445461479786423, 'f1-score': 0.6206554558075417, 'macro_f1-score': 0.3790982088635222, 'balanced_accuracy': 0.3672511463267331, 'mcc': 0.5220664252053823, 'train_loss': 0.1166874961004015}\n",
      "Early stopping.\n",
      "\n",
      " === bert-base-uncased + lstm + ros Final 5-fold Cross-Validation Results ===\n",
      "val_loss: 1.8757\n",
      "val_accuracy: 0.6296\n",
      "precision: 0.6518\n",
      "recall: 0.6296\n",
      "f1-score: 0.6291\n",
      "macro_f1-score: 0.4273\n",
      "balanced_accuracy: 0.4305\n",
      "mcc: 0.5237\n",
      "train_loss: 0.1618\n",
      "total_seconds: 3520.0000\n",
      "total_time: 0 hrs 58 mins 40 secs\n",
      "▶ Running: bert-base-uncased + bilstm + ros\n",
      "tokenizer is bert-base-uncased\n",
      "Using device: cuda\n",
      "CUDA Available: True\n",
      "CUDA Device: NVIDIA GeForce RTX 5070 Ti\n",
      "Current GPU Memory Allocated: 0.02 GB\n",
      "Current GPU Memory Cached: 3.23 GB\n",
      "\n",
      "[Fold 1]\n",
      "Label distribution after resampling:\n",
      "  label 0: 2000\n",
      "  label 1: 200\n",
      "  label 2: 200\n",
      "  label 3: 200\n",
      "  label 4: 200\n",
      "  label 5: 200\n",
      "  label 6: 200\n",
      "  label 7: 200\n",
      "  label 8: 200\n",
      "  label 9: 200\n",
      "  label 10: 200\n",
      "  label 11: 200\n",
      "  label 12: 200\n",
      "  label 13: 200\n",
      "  label 14: 200\n",
      "  label 15: 200\n",
      "  label 16: 200\n",
      "  label 17: 200\n",
      "  label 18: 200\n",
      "  label 19: 200\n",
      "  label 20: 200\n",
      "  label 21: 200\n",
      "  label 22: 200\n",
      "  label 23: 200\n",
      "  label 24: 200\n",
      "  label 25: 200\n",
      "  label 26: 200\n",
      "  label 27: 200\n",
      "  label 28: 200\n",
      "  label 29: 200\n",
      "  label 30: 200\n",
      "  label 31: 200\n",
      "  label 32: 200\n",
      "  label 33: 200\n",
      "  label 34: 200\n",
      "  label 35: 200\n",
      "  label 36: 200\n",
      "  label 37: 200\n",
      "  label 38: 200\n",
      "  label 39: 200\n",
      "  label 40: 200\n",
      "  label 41: 200\n",
      "  label 42: 200\n",
      "  label 43: 200\n",
      "  label 44: 200\n",
      "  label 45: 242\n",
      "  label 46: 200\n",
      "  label 47: 200\n",
      "model is bert-base-uncased bilstm\n",
      "Epoch 1/20\n"
     ]
    },
    {
     "name": "stderr",
     "output_type": "stream",
     "text": [
      "100%|██████████| 716/716 [01:06<00:00, 10.80it/s]\n"
     ]
    },
    {
     "name": "stdout",
     "output_type": "stream",
     "text": [
      "{'val_loss': 1.6619927788653024, 'val_accuracy': 0.5564024390243902, 'precision': 0.6218113608066157, 'recall': 0.5564024390243902, 'f1-score': 0.5507156883949609, 'macro_f1-score': 0.33342162333622144, 'balanced_accuracy': 0.40266293221363975, 'mcc': 0.4270116383303157, 'train_loss': 2.1559397932870428}\n",
      "Epoch 2/20\n"
     ]
    },
    {
     "name": "stderr",
     "output_type": "stream",
     "text": [
      "100%|██████████| 716/716 [01:06<00:00, 10.82it/s]\n"
     ]
    },
    {
     "name": "stdout",
     "output_type": "stream",
     "text": [
      "{'val_loss': 1.5024610150878022, 'val_accuracy': 0.6150914634146342, 'precision': 0.6125311042107029, 'recall': 0.6150914634146342, 'f1-score': 0.6041094389852948, 'macro_f1-score': 0.3777414728851904, 'balanced_accuracy': 0.40001595597292355, 'mcc': 0.494743826593438, 'train_loss': 0.7768878257058186}\n",
      "Epoch 3/20\n"
     ]
    },
    {
     "name": "stderr",
     "output_type": "stream",
     "text": [
      "100%|██████████| 716/716 [01:06<00:00, 10.74it/s]\n"
     ]
    },
    {
     "name": "stdout",
     "output_type": "stream",
     "text": [
      "{'val_loss': 1.5657318983136155, 'val_accuracy': 0.6371951219512195, 'precision': 0.6301785568972229, 'recall': 0.6371951219512195, 'f1-score': 0.6206476904198215, 'macro_f1-score': 0.3863135023980739, 'balanced_accuracy': 0.37921788494292463, 'mcc': 0.510967719564502, 'train_loss': 0.41478215843210176}\n",
      "Epoch 4/20\n"
     ]
    },
    {
     "name": "stderr",
     "output_type": "stream",
     "text": [
      "100%|██████████| 716/716 [01:06<00:00, 10.77it/s]\n"
     ]
    },
    {
     "name": "stdout",
     "output_type": "stream",
     "text": [
      "{'val_loss': 1.6879706775269858, 'val_accuracy': 0.6448170731707317, 'precision': 0.6421141360117237, 'recall': 0.6448170731707317, 'f1-score': 0.627892833789805, 'macro_f1-score': 0.4028734331634016, 'balanced_accuracy': 0.3764302736522484, 'mcc': 0.5155655361587106, 'train_loss': 0.26197531171059807}\n",
      "Epoch 5/20\n"
     ]
    },
    {
     "name": "stderr",
     "output_type": "stream",
     "text": [
      "100%|██████████| 716/716 [01:06<00:00, 10.76it/s]\n"
     ]
    },
    {
     "name": "stdout",
     "output_type": "stream",
     "text": [
      "{'val_loss': 1.75580718386464, 'val_accuracy': 0.6204268292682927, 'precision': 0.6274304384623819, 'recall': 0.6204268292682927, 'f1-score': 0.6137717469822473, 'macro_f1-score': 0.38060994140415366, 'balanced_accuracy': 0.3670521905587414, 'mcc': 0.49929340716876147, 'train_loss': 0.18984482839818023}\n",
      "Epoch 6/20\n"
     ]
    },
    {
     "name": "stderr",
     "output_type": "stream",
     "text": [
      "100%|██████████| 716/716 [01:06<00:00, 10.77it/s]\n"
     ]
    },
    {
     "name": "stdout",
     "output_type": "stream",
     "text": [
      "{'val_loss': 1.8562170089018055, 'val_accuracy': 0.6219512195121951, 'precision': 0.6225075786112666, 'recall': 0.6219512195121951, 'f1-score': 0.6103609343633811, 'macro_f1-score': 0.37596833278006353, 'balanced_accuracy': 0.3791509490554823, 'mcc': 0.4950924537402863, 'train_loss': 0.1459759747981505}\n",
      "Epoch 7/20\n"
     ]
    },
    {
     "name": "stderr",
     "output_type": "stream",
     "text": [
      "100%|██████████| 716/716 [01:06<00:00, 10.79it/s]\n"
     ]
    },
    {
     "name": "stdout",
     "output_type": "stream",
     "text": [
      "{'val_loss': 1.8035022100297415, 'val_accuracy': 0.6417682926829268, 'precision': 0.6331692537028576, 'recall': 0.6417682926829268, 'f1-score': 0.6297501795670377, 'macro_f1-score': 0.37266483601576467, 'balanced_accuracy': 0.3741978394105308, 'mcc': 0.528629871681662, 'train_loss': 0.10261029009343067}\n",
      "Early stopping.\n",
      "\n",
      "[Fold 2]\n",
      "Label distribution after resampling:\n",
      "  label 0: 2000\n",
      "  label 1: 200\n",
      "  label 2: 200\n",
      "  label 3: 200\n",
      "  label 4: 200\n",
      "  label 5: 200\n",
      "  label 6: 200\n",
      "  label 7: 200\n",
      "  label 8: 200\n",
      "  label 9: 200\n",
      "  label 10: 200\n",
      "  label 11: 200\n",
      "  label 12: 200\n",
      "  label 13: 200\n",
      "  label 14: 200\n",
      "  label 15: 200\n",
      "  label 16: 200\n",
      "  label 17: 200\n",
      "  label 18: 200\n",
      "  label 19: 200\n",
      "  label 20: 200\n",
      "  label 21: 200\n",
      "  label 22: 200\n",
      "  label 23: 200\n",
      "  label 24: 200\n",
      "  label 25: 200\n",
      "  label 26: 200\n",
      "  label 27: 200\n",
      "  label 28: 200\n",
      "  label 29: 200\n",
      "  label 30: 200\n",
      "  label 31: 200\n",
      "  label 32: 200\n",
      "  label 33: 200\n",
      "  label 34: 200\n",
      "  label 35: 200\n",
      "  label 36: 200\n",
      "  label 37: 200\n",
      "  label 38: 200\n",
      "  label 39: 200\n",
      "  label 40: 200\n",
      "  label 41: 200\n",
      "  label 42: 200\n",
      "  label 43: 200\n",
      "  label 44: 200\n",
      "  label 45: 242\n",
      "  label 46: 200\n",
      "  label 47: 200\n",
      "model is bert-base-uncased bilstm\n",
      "Epoch 1/20\n"
     ]
    },
    {
     "name": "stderr",
     "output_type": "stream",
     "text": [
      "100%|██████████| 716/716 [01:06<00:00, 10.73it/s]\n"
     ]
    },
    {
     "name": "stdout",
     "output_type": "stream",
     "text": [
      "{'val_loss': 1.5824551647756158, 'val_accuracy': 0.5873379099923722, 'precision': 0.5854101045268055, 'recall': 0.5873379099923722, 'f1-score': 0.5581452365525885, 'macro_f1-score': 0.3216366651937306, 'balanced_accuracy': 0.39200865061078094, 'mcc': 0.4504153523164915, 'train_loss': 2.2193325666200847}\n",
      "Epoch 2/20\n"
     ]
    },
    {
     "name": "stderr",
     "output_type": "stream",
     "text": [
      "100%|██████████| 716/716 [01:06<00:00, 10.76it/s]\n"
     ]
    },
    {
     "name": "stdout",
     "output_type": "stream",
     "text": [
      "{'val_loss': 1.4923065064883814, 'val_accuracy': 0.6147978642257819, 'precision': 0.6201688831809691, 'recall': 0.6147978642257819, 'f1-score': 0.6076886602219361, 'macro_f1-score': 0.3647122241734766, 'balanced_accuracy': 0.3970009669250028, 'mcc': 0.4953427959270458, 'train_loss': 0.7779615457331002}\n",
      "Epoch 3/20\n"
     ]
    },
    {
     "name": "stderr",
     "output_type": "stream",
     "text": [
      "100%|██████████| 716/716 [01:06<00:00, 10.75it/s]\n"
     ]
    },
    {
     "name": "stdout",
     "output_type": "stream",
     "text": [
      "{'val_loss': 1.547712173403763, 'val_accuracy': 0.6270022883295194, 'precision': 0.5975395431511432, 'recall': 0.6270022883295194, 'f1-score': 0.5932274296072033, 'macro_f1-score': 0.3286598798362118, 'balanced_accuracy': 0.32933117818946894, 'mcc': 0.4916999448611193, 'train_loss': 0.4026980006588654}\n",
      "Epoch 4/20\n"
     ]
    },
    {
     "name": "stderr",
     "output_type": "stream",
     "text": [
      "100%|██████████| 716/716 [01:06<00:00, 10.76it/s]\n"
     ]
    },
    {
     "name": "stdout",
     "output_type": "stream",
     "text": [
      "{'val_loss': 1.6842193196459514, 'val_accuracy': 0.6475972540045767, 'precision': 0.6173921296601359, 'recall': 0.6475972540045767, 'f1-score': 0.6126464971429466, 'macro_f1-score': 0.36103199910082767, 'balanced_accuracy': 0.33104786138360265, 'mcc': 0.5125487225076082, 'train_loss': 0.24857883794004274}\n",
      "Epoch 5/20\n"
     ]
    },
    {
     "name": "stderr",
     "output_type": "stream",
     "text": [
      "100%|██████████| 716/716 [01:06<00:00, 10.78it/s]\n"
     ]
    },
    {
     "name": "stdout",
     "output_type": "stream",
     "text": [
      "{'val_loss': 1.6639693612005653, 'val_accuracy': 0.6437833714721587, 'precision': 0.6308101858955442, 'recall': 0.6437833714721587, 'f1-score': 0.6239531317319952, 'macro_f1-score': 0.36654446717578865, 'balanced_accuracy': 0.3650482985873367, 'mcc': 0.5294485564924499, 'train_loss': 0.16615182876602522}\n",
      "Epoch 6/20\n"
     ]
    },
    {
     "name": "stderr",
     "output_type": "stream",
     "text": [
      "100%|██████████| 716/716 [01:06<00:00, 10.74it/s]\n"
     ]
    },
    {
     "name": "stdout",
     "output_type": "stream",
     "text": [
      "{'val_loss': 1.7370716369733579, 'val_accuracy': 0.662090007627765, 'precision': 0.6525643106189442, 'recall': 0.662090007627765, 'f1-score': 0.6441377815996023, 'macro_f1-score': 0.40563994509454987, 'balanced_accuracy': 0.397743473515604, 'mcc': 0.5482986328074033, 'train_loss': 0.13411337711364446}\n",
      "Epoch 7/20\n"
     ]
    },
    {
     "name": "stderr",
     "output_type": "stream",
     "text": [
      "100%|██████████| 716/716 [01:06<00:00, 10.77it/s]\n"
     ]
    },
    {
     "name": "stdout",
     "output_type": "stream",
     "text": [
      "{'val_loss': 1.7773158593875606, 'val_accuracy': 0.635392829900839, 'precision': 0.6330705538351947, 'recall': 0.635392829900839, 'f1-score': 0.6255287449129237, 'macro_f1-score': 0.389383604165747, 'balanced_accuracy': 0.3884617169925757, 'mcc': 0.5193137704610244, 'train_loss': 0.12222575571897892}\n",
      "Epoch 8/20\n"
     ]
    },
    {
     "name": "stderr",
     "output_type": "stream",
     "text": [
      "100%|██████████| 716/716 [01:06<00:00, 10.76it/s]\n"
     ]
    },
    {
     "name": "stdout",
     "output_type": "stream",
     "text": [
      "{'val_loss': 1.9034467186869644, 'val_accuracy': 0.6300533943554538, 'precision': 0.609719871353249, 'recall': 0.6300533943554538, 'f1-score': 0.6079300226057033, 'macro_f1-score': 0.3451064148063832, 'balanced_accuracy': 0.3449626606848826, 'mcc': 0.5000034096671078, 'train_loss': 0.08383482870614603}\n",
      "Epoch 9/20\n"
     ]
    },
    {
     "name": "stderr",
     "output_type": "stream",
     "text": [
      "100%|██████████| 716/716 [01:06<00:00, 10.76it/s]\n"
     ]
    },
    {
     "name": "stdout",
     "output_type": "stream",
     "text": [
      "{'val_loss': 1.9811671521605514, 'val_accuracy': 0.6552250190694127, 'precision': 0.627905045267959, 'recall': 0.6552250190694127, 'f1-score': 0.626810678473503, 'macro_f1-score': 0.3458932642832366, 'balanced_accuracy': 0.3397543084545984, 'mcc': 0.5333343141308273, 'train_loss': 0.06749144627051896}\n",
      "Early stopping.\n",
      "\n",
      "[Fold 3]\n",
      "Label distribution after resampling:\n",
      "  label 0: 2000\n",
      "  label 1: 200\n",
      "  label 2: 200\n",
      "  label 3: 200\n",
      "  label 4: 200\n",
      "  label 5: 200\n",
      "  label 6: 200\n",
      "  label 7: 200\n",
      "  label 8: 200\n",
      "  label 9: 200\n",
      "  label 10: 200\n",
      "  label 11: 200\n",
      "  label 12: 200\n",
      "  label 13: 200\n",
      "  label 14: 200\n",
      "  label 15: 200\n",
      "  label 16: 200\n",
      "  label 17: 200\n",
      "  label 18: 200\n",
      "  label 19: 200\n",
      "  label 20: 200\n",
      "  label 21: 200\n",
      "  label 22: 200\n",
      "  label 23: 200\n",
      "  label 24: 200\n",
      "  label 25: 200\n",
      "  label 26: 200\n",
      "  label 27: 200\n",
      "  label 28: 200\n",
      "  label 29: 200\n",
      "  label 30: 200\n",
      "  label 31: 200\n",
      "  label 32: 200\n",
      "  label 33: 200\n",
      "  label 34: 200\n",
      "  label 35: 200\n",
      "  label 36: 200\n",
      "  label 37: 200\n",
      "  label 38: 200\n",
      "  label 39: 200\n",
      "  label 40: 200\n",
      "  label 41: 200\n",
      "  label 42: 200\n",
      "  label 43: 200\n",
      "  label 44: 200\n",
      "  label 45: 241\n",
      "  label 46: 200\n",
      "  label 47: 200\n",
      "model is bert-base-uncased bilstm\n",
      "Epoch 1/20\n"
     ]
    },
    {
     "name": "stderr",
     "output_type": "stream",
     "text": [
      "100%|██████████| 716/716 [01:06<00:00, 10.79it/s]\n"
     ]
    },
    {
     "name": "stdout",
     "output_type": "stream",
     "text": [
      "{'val_loss': 1.6858271454892508, 'val_accuracy': 0.551487414187643, 'precision': 0.5698338504581462, 'recall': 0.551487414187643, 'f1-score': 0.5314760715018911, 'macro_f1-score': 0.29117659975660576, 'balanced_accuracy': 0.32824401145827675, 'mcc': 0.39698309523338016, 'train_loss': 2.2449150765574846}\n",
      "Epoch 2/20\n"
     ]
    },
    {
     "name": "stderr",
     "output_type": "stream",
     "text": [
      "100%|██████████| 716/716 [01:06<00:00, 10.75it/s]\n"
     ]
    },
    {
     "name": "stdout",
     "output_type": "stream",
     "text": [
      "{'val_loss': 1.5641770526403334, 'val_accuracy': 0.6003051106025934, 'precision': 0.5963235599644554, 'recall': 0.6003051106025934, 'f1-score': 0.591100189654881, 'macro_f1-score': 0.34573716456966846, 'balanced_accuracy': 0.3624788561733685, 'mcc': 0.47501340935656955, 'train_loss': 0.7628202577584615}\n",
      "Epoch 3/20\n"
     ]
    },
    {
     "name": "stderr",
     "output_type": "stream",
     "text": [
      "100%|██████████| 716/716 [01:06<00:00, 10.77it/s]\n"
     ]
    },
    {
     "name": "stdout",
     "output_type": "stream",
     "text": [
      "{'val_loss': 1.6481639461182966, 'val_accuracy': 0.6178489702517163, 'precision': 0.6189729253814723, 'recall': 0.6178489702517163, 'f1-score': 0.6053480343085138, 'macro_f1-score': 0.3622065628568541, 'balanced_accuracy': 0.361673899759216, 'mcc': 0.49116693963100416, 'train_loss': 0.4096226148702745}\n",
      "Epoch 4/20\n"
     ]
    },
    {
     "name": "stderr",
     "output_type": "stream",
     "text": [
      "100%|██████████| 716/716 [01:06<00:00, 10.75it/s]\n"
     ]
    },
    {
     "name": "stdout",
     "output_type": "stream",
     "text": [
      "{'val_loss': 1.7021820396184921, 'val_accuracy': 0.6109839816933639, 'precision': 0.6230712480767536, 'recall': 0.6109839816933639, 'f1-score': 0.6090506861172009, 'macro_f1-score': 0.3776480756496559, 'balanced_accuracy': 0.3779227235522953, 'mcc': 0.49603735944797117, 'train_loss': 0.25505095967950103}\n",
      "Epoch 5/20\n"
     ]
    },
    {
     "name": "stderr",
     "output_type": "stream",
     "text": [
      "100%|██████████| 716/716 [01:06<00:00, 10.77it/s]\n"
     ]
    },
    {
     "name": "stdout",
     "output_type": "stream",
     "text": [
      "{'val_loss': 1.7884748643491326, 'val_accuracy': 0.6041189931350115, 'precision': 0.6214414921525634, 'recall': 0.6041189931350115, 'f1-score': 0.6031277744226079, 'macro_f1-score': 0.3709816300252735, 'balanced_accuracy': 0.36083958196152316, 'mcc': 0.4879758160963521, 'train_loss': 0.17384021525536586}\n",
      "Epoch 6/20\n"
     ]
    },
    {
     "name": "stderr",
     "output_type": "stream",
     "text": [
      "100%|██████████| 716/716 [01:06<00:00, 10.78it/s]\n"
     ]
    },
    {
     "name": "stdout",
     "output_type": "stream",
     "text": [
      "{'val_loss': 1.99694814260413, 'val_accuracy': 0.6163234172387491, 'precision': 0.6263602823622928, 'recall': 0.6163234172387491, 'f1-score': 0.6093454063465908, 'macro_f1-score': 0.35861662611266304, 'balanced_accuracy': 0.36400770366088914, 'mcc': 0.5011295222749765, 'train_loss': 0.1357153973921967}\n",
      "Epoch 7/20\n"
     ]
    },
    {
     "name": "stderr",
     "output_type": "stream",
     "text": [
      "100%|██████████| 716/716 [01:06<00:00, 10.74it/s]\n"
     ]
    },
    {
     "name": "stdout",
     "output_type": "stream",
     "text": [
      "{'val_loss': 2.04556932027747, 'val_accuracy': 0.623951182303585, 'precision': 0.6201734578204635, 'recall': 0.623951182303585, 'f1-score': 0.6097247144591906, 'macro_f1-score': 0.3787965018705591, 'balanced_accuracy': 0.35691597970703715, 'mcc': 0.4960719491160558, 'train_loss': 0.1057741621823971}\n",
      "Epoch 8/20\n"
     ]
    },
    {
     "name": "stderr",
     "output_type": "stream",
     "text": [
      "100%|██████████| 716/716 [01:06<00:00, 10.77it/s]\n"
     ]
    },
    {
     "name": "stdout",
     "output_type": "stream",
     "text": [
      "{'val_loss': 2.0347004939870135, 'val_accuracy': 0.635392829900839, 'precision': 0.6242859197363152, 'recall': 0.635392829900839, 'f1-score': 0.6193391558039448, 'macro_f1-score': 0.4020458059428691, 'balanced_accuracy': 0.36883892293717446, 'mcc': 0.5084819591724473, 'train_loss': 0.09050527694680618}\n",
      "Epoch 9/20\n"
     ]
    },
    {
     "name": "stderr",
     "output_type": "stream",
     "text": [
      "100%|██████████| 716/716 [01:06<00:00, 10.74it/s]\n"
     ]
    },
    {
     "name": "stdout",
     "output_type": "stream",
     "text": [
      "{'val_loss': 2.129808922729841, 'val_accuracy': 0.5873379099923722, 'precision': 0.6325726821839633, 'recall': 0.5873379099923722, 'f1-score': 0.5954368961404466, 'macro_f1-score': 0.3353586897514281, 'balanced_accuracy': 0.3288249678469719, 'mcc': 0.47309712709502083, 'train_loss': 0.1003600680360352}\n",
      "Epoch 10/20\n"
     ]
    },
    {
     "name": "stderr",
     "output_type": "stream",
     "text": [
      "100%|██████████| 716/716 [01:06<00:00, 10.77it/s]\n"
     ]
    },
    {
     "name": "stdout",
     "output_type": "stream",
     "text": [
      "{'val_loss': 2.1258683753449743, 'val_accuracy': 0.6361556064073226, 'precision': 0.6298670340438666, 'recall': 0.6361556064073226, 'f1-score': 0.6205388890871565, 'macro_f1-score': 0.3765632978495228, 'balanced_accuracy': 0.367021866318642, 'mcc': 0.5168108488150739, 'train_loss': 0.07152965671464791}\n",
      "Epoch 11/20\n"
     ]
    },
    {
     "name": "stderr",
     "output_type": "stream",
     "text": [
      "100%|██████████| 716/716 [01:06<00:00, 10.77it/s]\n"
     ]
    },
    {
     "name": "stdout",
     "output_type": "stream",
     "text": [
      "{'val_loss': 2.0986696666152014, 'val_accuracy': 0.6338672768878718, 'precision': 0.6332988690675524, 'recall': 0.6338672768878718, 'f1-score': 0.6226381121736254, 'macro_f1-score': 0.39937340064193094, 'balanced_accuracy': 0.3755821731193317, 'mcc': 0.5152461801214441, 'train_loss': 0.07104393780457803}\n",
      "Early stopping.\n",
      "\n",
      "[Fold 4]\n",
      "Label distribution after resampling:\n",
      "  label 0: 2000\n",
      "  label 1: 200\n",
      "  label 2: 200\n",
      "  label 3: 200\n",
      "  label 4: 200\n",
      "  label 5: 200\n",
      "  label 6: 200\n",
      "  label 7: 200\n",
      "  label 8: 200\n",
      "  label 9: 200\n",
      "  label 10: 200\n",
      "  label 11: 200\n",
      "  label 12: 200\n",
      "  label 13: 200\n",
      "  label 14: 200\n",
      "  label 15: 200\n",
      "  label 16: 200\n",
      "  label 17: 200\n",
      "  label 18: 200\n",
      "  label 19: 200\n",
      "  label 20: 200\n",
      "  label 21: 200\n",
      "  label 22: 200\n",
      "  label 23: 200\n",
      "  label 24: 200\n",
      "  label 25: 200\n",
      "  label 26: 200\n",
      "  label 27: 200\n",
      "  label 28: 200\n",
      "  label 29: 200\n",
      "  label 30: 200\n",
      "  label 31: 200\n",
      "  label 32: 200\n",
      "  label 33: 200\n",
      "  label 34: 200\n",
      "  label 35: 200\n",
      "  label 36: 200\n",
      "  label 37: 200\n",
      "  label 38: 200\n",
      "  label 39: 200\n",
      "  label 40: 200\n",
      "  label 41: 200\n",
      "  label 42: 200\n",
      "  label 43: 200\n",
      "  label 44: 200\n",
      "  label 45: 241\n",
      "  label 46: 200\n",
      "  label 47: 200\n",
      "model is bert-base-uncased bilstm\n",
      "Epoch 1/20\n"
     ]
    },
    {
     "name": "stderr",
     "output_type": "stream",
     "text": [
      "100%|██████████| 716/716 [01:06<00:00, 10.74it/s]\n"
     ]
    },
    {
     "name": "stdout",
     "output_type": "stream",
     "text": [
      "{'val_loss': 1.7146716088783451, 'val_accuracy': 0.5636918382913806, 'precision': 0.6200259862555549, 'recall': 0.5636918382913806, 'f1-score': 0.5635632028311018, 'macro_f1-score': 0.3322351932846001, 'balanced_accuracy': 0.4078915968962515, 'mcc': 0.44535712127437477, 'train_loss': 2.298923639778318}\n",
      "Epoch 2/20\n"
     ]
    },
    {
     "name": "stderr",
     "output_type": "stream",
     "text": [
      "100%|██████████| 716/716 [01:06<00:00, 10.77it/s]\n"
     ]
    },
    {
     "name": "stdout",
     "output_type": "stream",
     "text": [
      "{'val_loss': 1.4364381944987832, 'val_accuracy': 0.6270022883295194, 'precision': 0.6409631610675606, 'recall': 0.6270022883295194, 'f1-score': 0.6206433092654209, 'macro_f1-score': 0.40251169290186545, 'balanced_accuracy': 0.41003163817919264, 'mcc': 0.5079973843733551, 'train_loss': 0.8423727253170986}\n",
      "Epoch 3/20\n"
     ]
    },
    {
     "name": "stderr",
     "output_type": "stream",
     "text": [
      "100%|██████████| 716/716 [01:06<00:00, 10.75it/s]\n"
     ]
    },
    {
     "name": "stdout",
     "output_type": "stream",
     "text": [
      "{'val_loss': 1.4915984153020672, 'val_accuracy': 0.6536994660564455, 'precision': 0.6530286450282575, 'recall': 0.6536994660564455, 'f1-score': 0.644752364346997, 'macro_f1-score': 0.4174153336794299, 'balanced_accuracy': 0.4135478102515582, 'mcc': 0.5415179122092104, 'train_loss': 0.4304807393254931}\n",
      "Epoch 4/20\n"
     ]
    },
    {
     "name": "stderr",
     "output_type": "stream",
     "text": [
      "100%|██████████| 716/716 [01:06<00:00, 10.76it/s]\n"
     ]
    },
    {
     "name": "stdout",
     "output_type": "stream",
     "text": [
      "{'val_loss': 1.6174137352443323, 'val_accuracy': 0.623951182303585, 'precision': 0.6599044122219655, 'recall': 0.623951182303585, 'f1-score': 0.6287163887283773, 'macro_f1-score': 0.4117508370296394, 'balanced_accuracy': 0.43773263593817496, 'mcc': 0.5230747548556133, 'train_loss': 0.27714065131185023}\n",
      "Epoch 5/20\n"
     ]
    },
    {
     "name": "stderr",
     "output_type": "stream",
     "text": [
      "100%|██████████| 716/716 [01:06<00:00, 10.75it/s]\n"
     ]
    },
    {
     "name": "stdout",
     "output_type": "stream",
     "text": [
      "{'val_loss': 1.6818900513576298, 'val_accuracy': 0.6361556064073226, 'precision': 0.6604621025232607, 'recall': 0.6361556064073226, 'f1-score': 0.6382096447137129, 'macro_f1-score': 0.41671373679911583, 'balanced_accuracy': 0.4309055882869916, 'mcc': 0.5288741217900788, 'train_loss': 0.2026754928227285}\n",
      "Epoch 6/20\n"
     ]
    },
    {
     "name": "stderr",
     "output_type": "stream",
     "text": [
      "100%|██████████| 716/716 [01:06<00:00, 10.76it/s]\n"
     ]
    },
    {
     "name": "stdout",
     "output_type": "stream",
     "text": [
      "{'val_loss': 1.7371678301473943, 'val_accuracy': 0.6460717009916095, 'precision': 0.6537399657637342, 'recall': 0.6460717009916095, 'f1-score': 0.6397489658990478, 'macro_f1-score': 0.42425255425287894, 'balanced_accuracy': 0.4218550363776152, 'mcc': 0.5355720478421021, 'train_loss': 0.15395318680734232}\n",
      "Epoch 7/20\n"
     ]
    },
    {
     "name": "stderr",
     "output_type": "stream",
     "text": [
      "100%|██████████| 716/716 [01:06<00:00, 10.74it/s]\n"
     ]
    },
    {
     "name": "stdout",
     "output_type": "stream",
     "text": [
      "{'val_loss': 1.9140664993262873, 'val_accuracy': 0.6323417238749046, 'precision': 0.6556423867614171, 'recall': 0.6323417238749046, 'f1-score': 0.6368925378991073, 'macro_f1-score': 0.4023146659048448, 'balanced_accuracy': 0.43001843709368304, 'mcc': 0.5335148092590369, 'train_loss': 0.12944124839997034}\n",
      "Epoch 8/20\n"
     ]
    },
    {
     "name": "stderr",
     "output_type": "stream",
     "text": [
      "100%|██████████| 716/716 [01:06<00:00, 10.74it/s]\n"
     ]
    },
    {
     "name": "stdout",
     "output_type": "stream",
     "text": [
      "{'val_loss': 1.8942631119635047, 'val_accuracy': 0.6437833714721587, 'precision': 0.645467567387712, 'recall': 0.6437833714721587, 'f1-score': 0.6332502452498008, 'macro_f1-score': 0.4076221738627737, 'balanced_accuracy': 0.38887064944039434, 'mcc': 0.520541773996706, 'train_loss': 0.10016043967497144}\n",
      "Epoch 9/20\n"
     ]
    },
    {
     "name": "stderr",
     "output_type": "stream",
     "text": [
      "100%|██████████| 716/716 [01:06<00:00, 10.77it/s]\n"
     ]
    },
    {
     "name": "stdout",
     "output_type": "stream",
     "text": [
      "{'val_loss': 2.0829277314790864, 'val_accuracy': 0.6155606407322655, 'precision': 0.6502791926745509, 'recall': 0.6155606407322655, 'f1-score': 0.6211839601889857, 'macro_f1-score': 0.4139092654946433, 'balanced_accuracy': 0.4341995963843115, 'mcc': 0.5142437364263996, 'train_loss': 0.10237430428758305}\n",
      "Early stopping.\n",
      "\n",
      "[Fold 5]\n",
      "Label distribution after resampling:\n",
      "  label 0: 2000\n",
      "  label 1: 200\n",
      "  label 2: 200\n",
      "  label 3: 200\n",
      "  label 4: 200\n",
      "  label 5: 200\n",
      "  label 6: 200\n",
      "  label 7: 200\n",
      "  label 8: 200\n",
      "  label 9: 200\n",
      "  label 10: 200\n",
      "  label 11: 200\n",
      "  label 12: 200\n",
      "  label 13: 200\n",
      "  label 14: 200\n",
      "  label 15: 200\n",
      "  label 16: 200\n",
      "  label 17: 200\n",
      "  label 18: 200\n",
      "  label 19: 200\n",
      "  label 20: 200\n",
      "  label 21: 200\n",
      "  label 22: 200\n",
      "  label 23: 200\n",
      "  label 24: 200\n",
      "  label 25: 200\n",
      "  label 26: 200\n",
      "  label 27: 200\n",
      "  label 28: 200\n",
      "  label 29: 200\n",
      "  label 30: 200\n",
      "  label 31: 200\n",
      "  label 32: 200\n",
      "  label 33: 200\n",
      "  label 34: 200\n",
      "  label 35: 200\n",
      "  label 36: 200\n",
      "  label 37: 200\n",
      "  label 38: 200\n",
      "  label 39: 200\n",
      "  label 40: 200\n",
      "  label 41: 200\n",
      "  label 42: 200\n",
      "  label 43: 200\n",
      "  label 44: 200\n",
      "  label 45: 242\n",
      "  label 46: 200\n",
      "  label 47: 200\n",
      "model is bert-base-uncased bilstm\n",
      "Epoch 1/20\n"
     ]
    },
    {
     "name": "stderr",
     "output_type": "stream",
     "text": [
      "100%|██████████| 716/716 [01:06<00:00, 10.76it/s]\n"
     ]
    },
    {
     "name": "stdout",
     "output_type": "stream",
     "text": [
      "{'val_loss': 1.5406425108269948, 'val_accuracy': 0.593440122044241, 'precision': 0.615838968639006, 'recall': 0.593440122044241, 'f1-score': 0.568381269875511, 'macro_f1-score': 0.35359961852008254, 'balanced_accuracy': 0.401328799893462, 'mcc': 0.4516315707694398, 'train_loss': 2.220350388291828}\n",
      "Epoch 2/20\n"
     ]
    },
    {
     "name": "stderr",
     "output_type": "stream",
     "text": [
      "100%|██████████| 716/716 [01:06<00:00, 10.77it/s]\n"
     ]
    },
    {
     "name": "stdout",
     "output_type": "stream",
     "text": [
      "{'val_loss': 1.4243220963129184, 'val_accuracy': 0.6369183829138062, 'precision': 0.6573688100747013, 'recall': 0.6369183829138062, 'f1-score': 0.639861924886614, 'macro_f1-score': 0.42420001489298925, 'balanced_accuracy': 0.45022303441453654, 'mcc': 0.5297261533521023, 'train_loss': 0.8112743605948027}\n",
      "Epoch 3/20\n"
     ]
    },
    {
     "name": "stderr",
     "output_type": "stream",
     "text": [
      "100%|██████████| 716/716 [01:06<00:00, 10.74it/s]\n"
     ]
    },
    {
     "name": "stdout",
     "output_type": "stream",
     "text": [
      "{'val_loss': 1.4774026180185922, 'val_accuracy': 0.6460717009916095, 'precision': 0.6424529571437102, 'recall': 0.6460717009916095, 'f1-score': 0.6287823703583145, 'macro_f1-score': 0.40409099504292295, 'balanced_accuracy': 0.38598656870725456, 'mcc': 0.5219201330663378, 'train_loss': 0.4363688360639541}\n",
      "Epoch 4/20\n"
     ]
    },
    {
     "name": "stderr",
     "output_type": "stream",
     "text": [
      "100%|██████████| 716/716 [01:06<00:00, 10.77it/s]\n"
     ]
    },
    {
     "name": "stdout",
     "output_type": "stream",
     "text": [
      "{'val_loss': 1.613090595821055, 'val_accuracy': 0.6331045003813882, 'precision': 0.6433049058906367, 'recall': 0.6331045003813882, 'f1-score': 0.628072831677851, 'macro_f1-score': 0.4185220008880739, 'balanced_accuracy': 0.4101162917932439, 'mcc': 0.5202637598982229, 'train_loss': 0.2707105151471271}\n",
      "Epoch 5/20\n"
     ]
    },
    {
     "name": "stderr",
     "output_type": "stream",
     "text": [
      "100%|██████████| 716/716 [01:06<00:00, 10.77it/s]\n"
     ]
    },
    {
     "name": "stdout",
     "output_type": "stream",
     "text": [
      "{'val_loss': 1.6124061109816157, 'val_accuracy': 0.6567505720823799, 'precision': 0.6521964938898733, 'recall': 0.6567505720823799, 'f1-score': 0.6385717179152385, 'macro_f1-score': 0.40292322910485784, 'balanced_accuracy': 0.3842341337979522, 'mcc': 0.5364602426391688, 'train_loss': 0.1864676466614903}\n",
      "Early stopping.\n",
      "\n",
      " === bert-base-uncased + bilstm + ros Final 5-fold Cross-Validation Results ===\n",
      "val_loss: 1.7242\n",
      "val_accuracy: 0.6451\n",
      "precision: 0.6460\n",
      "recall: 0.6451\n",
      "f1-score: 0.6342\n",
      "macro_f1-score: 0.4118\n",
      "balanced_accuracy: 0.4030\n",
      "mcc: 0.5275\n",
      "train_loss: 0.2904\n",
      "total_seconds: 2867.0000\n",
      "total_time: 0 hrs 47 mins 47 secs\n",
      "▶ Running: roberta-base + plain + ros\n",
      "tokenizer is roberta-base\n",
      "Using device: cuda\n",
      "CUDA Available: True\n",
      "CUDA Device: NVIDIA GeForce RTX 5070 Ti\n",
      "Current GPU Memory Allocated: 0.02 GB\n",
      "Current GPU Memory Cached: 3.23 GB\n",
      "\n",
      "[Fold 1]\n",
      "Label distribution after resampling:\n",
      "  label 0: 2000\n",
      "  label 1: 200\n",
      "  label 2: 200\n",
      "  label 3: 200\n",
      "  label 4: 200\n",
      "  label 5: 200\n",
      "  label 6: 200\n",
      "  label 7: 200\n",
      "  label 8: 200\n",
      "  label 9: 200\n",
      "  label 10: 200\n",
      "  label 11: 200\n",
      "  label 12: 200\n",
      "  label 13: 200\n",
      "  label 14: 200\n",
      "  label 15: 200\n",
      "  label 16: 200\n",
      "  label 17: 200\n",
      "  label 18: 200\n",
      "  label 19: 200\n",
      "  label 20: 200\n",
      "  label 21: 200\n",
      "  label 22: 200\n",
      "  label 23: 200\n",
      "  label 24: 200\n",
      "  label 25: 200\n",
      "  label 26: 200\n",
      "  label 27: 200\n",
      "  label 28: 200\n",
      "  label 29: 200\n",
      "  label 30: 200\n",
      "  label 31: 200\n",
      "  label 32: 200\n",
      "  label 33: 200\n",
      "  label 34: 200\n",
      "  label 35: 200\n",
      "  label 36: 200\n",
      "  label 37: 200\n",
      "  label 38: 200\n",
      "  label 39: 200\n",
      "  label 40: 200\n",
      "  label 41: 200\n",
      "  label 42: 200\n",
      "  label 43: 200\n",
      "  label 44: 200\n",
      "  label 45: 242\n",
      "  label 46: 200\n",
      "  label 47: 200\n",
      "model is roberta-base\n"
     ]
    },
    {
     "name": "stderr",
     "output_type": "stream",
     "text": [
      "Some weights of RobertaForSequenceClassification were not initialized from the model checkpoint at roberta-base and are newly initialized: ['classifier.dense.bias', 'classifier.dense.weight', 'classifier.out_proj.bias', 'classifier.out_proj.weight']\n",
      "You should probably TRAIN this model on a down-stream task to be able to use it for predictions and inference.\n"
     ]
    },
    {
     "name": "stdout",
     "output_type": "stream",
     "text": [
      "Epoch 1/20\n"
     ]
    },
    {
     "name": "stderr",
     "output_type": "stream",
     "text": [
      "100%|██████████| 716/716 [01:01<00:00, 11.66it/s]\n"
     ]
    },
    {
     "name": "stdout",
     "output_type": "stream",
     "text": [
      "{'val_loss': 1.6531646269850615, 'val_accuracy': 0.5579268292682927, 'precision': 0.5810181069232249, 'recall': 0.5579268292682927, 'f1-score': 0.5328140282472645, 'macro_f1-score': 0.28986845610050693, 'balanced_accuracy': 0.34350809566777357, 'mcc': 0.41089483850165126, 'train_loss': 2.2240283900049813}\n",
      "Epoch 2/20\n"
     ]
    },
    {
     "name": "stderr",
     "output_type": "stream",
     "text": [
      "100%|██████████| 716/716 [01:01<00:00, 11.66it/s]\n"
     ]
    },
    {
     "name": "stdout",
     "output_type": "stream",
     "text": [
      "{'val_loss': 1.557347297305014, 'val_accuracy': 0.5899390243902439, 'precision': 0.6039332673173889, 'recall': 0.5899390243902439, 'f1-score': 0.5822954304044349, 'macro_f1-score': 0.3610883660404531, 'balanced_accuracy': 0.3910586144824661, 'mcc': 0.4638994946200434, 'train_loss': 0.8961570660203861}\n",
      "Epoch 3/20\n"
     ]
    },
    {
     "name": "stderr",
     "output_type": "stream",
     "text": [
      "100%|██████████| 716/716 [01:01<00:00, 11.64it/s]\n"
     ]
    },
    {
     "name": "stdout",
     "output_type": "stream",
     "text": [
      "{'val_loss': 1.6931476636630733, 'val_accuracy': 0.5853658536585366, 'precision': 0.6418414749467065, 'recall': 0.5853658536585366, 'f1-score': 0.5948521464933321, 'macro_f1-score': 0.4120563747672503, 'balanced_accuracy': 0.46070930271089877, 'mcc': 0.4750874083352954, 'train_loss': 0.4994569032104405}\n",
      "Epoch 4/20\n"
     ]
    },
    {
     "name": "stderr",
     "output_type": "stream",
     "text": [
      "100%|██████████| 716/716 [01:01<00:00, 11.65it/s]\n"
     ]
    },
    {
     "name": "stdout",
     "output_type": "stream",
     "text": [
      "{'val_loss': 1.6980131951774038, 'val_accuracy': 0.6265243902439024, 'precision': 0.6152025437304723, 'recall': 0.6265243902439024, 'f1-score': 0.6115663556246194, 'macro_f1-score': 0.37472353469555914, 'balanced_accuracy': 0.3719492443402672, 'mcc': 0.4986848496680801, 'train_loss': 0.3446008074305452}\n",
      "Epoch 5/20\n"
     ]
    },
    {
     "name": "stderr",
     "output_type": "stream",
     "text": [
      "100%|██████████| 716/716 [01:01<00:00, 11.65it/s]\n"
     ]
    },
    {
     "name": "stdout",
     "output_type": "stream",
     "text": [
      "{'val_loss': 1.8489803926246922, 'val_accuracy': 0.6166158536585366, 'precision': 0.6228249906664294, 'recall': 0.6166158536585366, 'f1-score': 0.6073119704283373, 'macro_f1-score': 0.3739566273652668, 'balanced_accuracy': 0.4057478488561128, 'mcc': 0.49740738126779105, 'train_loss': 0.29838983715100825}\n",
      "Epoch 6/20\n"
     ]
    },
    {
     "name": "stderr",
     "output_type": "stream",
     "text": [
      "100%|██████████| 716/716 [01:01<00:00, 11.66it/s]\n"
     ]
    },
    {
     "name": "stdout",
     "output_type": "stream",
     "text": [
      "{'val_loss': 1.8629922268957626, 'val_accuracy': 0.6196646341463414, 'precision': 0.631000304143957, 'recall': 0.6196646341463414, 'f1-score': 0.615493266931122, 'macro_f1-score': 0.3847326225058107, 'balanced_accuracy': 0.39729559600147973, 'mcc': 0.5071001385130758, 'train_loss': 0.21320376775419994}\n",
      "Early stopping.\n",
      "\n",
      "[Fold 2]\n",
      "Label distribution after resampling:\n",
      "  label 0: 2000\n",
      "  label 1: 200\n",
      "  label 2: 200\n",
      "  label 3: 200\n",
      "  label 4: 200\n",
      "  label 5: 200\n",
      "  label 6: 200\n",
      "  label 7: 200\n",
      "  label 8: 200\n",
      "  label 9: 200\n",
      "  label 10: 200\n",
      "  label 11: 200\n",
      "  label 12: 200\n",
      "  label 13: 200\n",
      "  label 14: 200\n",
      "  label 15: 200\n",
      "  label 16: 200\n",
      "  label 17: 200\n",
      "  label 18: 200\n",
      "  label 19: 200\n",
      "  label 20: 200\n",
      "  label 21: 200\n",
      "  label 22: 200\n",
      "  label 23: 200\n",
      "  label 24: 200\n",
      "  label 25: 200\n",
      "  label 26: 200\n",
      "  label 27: 200\n",
      "  label 28: 200\n",
      "  label 29: 200\n",
      "  label 30: 200\n",
      "  label 31: 200\n",
      "  label 32: 200\n",
      "  label 33: 200\n",
      "  label 34: 200\n",
      "  label 35: 200\n",
      "  label 36: 200\n",
      "  label 37: 200\n",
      "  label 38: 200\n",
      "  label 39: 200\n",
      "  label 40: 200\n",
      "  label 41: 200\n",
      "  label 42: 200\n",
      "  label 43: 200\n",
      "  label 44: 200\n",
      "  label 45: 242\n",
      "  label 46: 200\n",
      "  label 47: 200\n",
      "model is roberta-base\n"
     ]
    },
    {
     "name": "stderr",
     "output_type": "stream",
     "text": [
      "Some weights of RobertaForSequenceClassification were not initialized from the model checkpoint at roberta-base and are newly initialized: ['classifier.dense.bias', 'classifier.dense.weight', 'classifier.out_proj.bias', 'classifier.out_proj.weight']\n",
      "You should probably TRAIN this model on a down-stream task to be able to use it for predictions and inference.\n"
     ]
    },
    {
     "name": "stdout",
     "output_type": "stream",
     "text": [
      "Epoch 1/20\n"
     ]
    },
    {
     "name": "stderr",
     "output_type": "stream",
     "text": [
      "100%|██████████| 716/716 [01:01<00:00, 11.66it/s]\n"
     ]
    },
    {
     "name": "stdout",
     "output_type": "stream",
     "text": [
      "{'val_loss': 1.5156568972075857, 'val_accuracy': 0.6109839816933639, 'precision': 0.5792774064363746, 'recall': 0.6109839816933639, 'f1-score': 0.5622209982242014, 'macro_f1-score': 0.3285217800782656, 'balanced_accuracy': 0.3747794013918371, 'mcc': 0.45690023608574565, 'train_loss': 2.0058136869003405}\n",
      "Epoch 2/20\n"
     ]
    },
    {
     "name": "stderr",
     "output_type": "stream",
     "text": [
      "100%|██████████| 716/716 [01:01<00:00, 11.65it/s]\n"
     ]
    },
    {
     "name": "stdout",
     "output_type": "stream",
     "text": [
      "{'val_loss': 1.6150061771637056, 'val_accuracy': 0.5827612509534706, 'precision': 0.6062080690434009, 'recall': 0.5827612509534706, 'f1-score': 0.5812304496077075, 'macro_f1-score': 0.3683113419283222, 'balanced_accuracy': 0.4221655157623955, 'mcc': 0.4657336972631477, 'train_loss': 0.7506749681587326}\n",
      "Epoch 3/20\n"
     ]
    },
    {
     "name": "stderr",
     "output_type": "stream",
     "text": [
      "100%|██████████| 716/716 [01:01<00:00, 11.65it/s]\n"
     ]
    },
    {
     "name": "stdout",
     "output_type": "stream",
     "text": [
      "{'val_loss': 1.6082451503451278, 'val_accuracy': 0.6399694889397407, 'precision': 0.6400460902253787, 'recall': 0.6399694889397407, 'f1-score': 0.6297644329364456, 'macro_f1-score': 0.371756247350306, 'balanced_accuracy': 0.392650071648406, 'mcc': 0.5246278889439419, 'train_loss': 0.4075614343496175}\n",
      "Epoch 4/20\n"
     ]
    },
    {
     "name": "stderr",
     "output_type": "stream",
     "text": [
      "100%|██████████| 716/716 [01:01<00:00, 11.65it/s]\n"
     ]
    },
    {
     "name": "stdout",
     "output_type": "stream",
     "text": [
      "{'val_loss': 1.7651598548016898, 'val_accuracy': 0.6323417238749046, 'precision': 0.6171966326603625, 'recall': 0.6323417238749046, 'f1-score': 0.6131505401303268, 'macro_f1-score': 0.3691630671405964, 'balanced_accuracy': 0.3661915557021365, 'mcc': 0.5045283324262785, 'train_loss': 0.26901075037263916}\n",
      "Epoch 5/20\n"
     ]
    },
    {
     "name": "stderr",
     "output_type": "stream",
     "text": [
      "100%|██████████| 716/716 [01:01<00:00, 11.66it/s]\n"
     ]
    },
    {
     "name": "stdout",
     "output_type": "stream",
     "text": [
      "{'val_loss': 1.8501806440876751, 'val_accuracy': 0.627765064836003, 'precision': 0.6241520223593706, 'recall': 0.627765064836003, 'f1-score': 0.6118989262341453, 'macro_f1-score': 0.384713008669131, 'balanced_accuracy': 0.38509451666197386, 'mcc': 0.5025370656832561, 'train_loss': 0.2029453548004424}\n",
      "Epoch 6/20\n"
     ]
    },
    {
     "name": "stderr",
     "output_type": "stream",
     "text": [
      "100%|██████████| 716/716 [01:01<00:00, 11.66it/s]\n"
     ]
    },
    {
     "name": "stdout",
     "output_type": "stream",
     "text": [
      "{'val_loss': 2.0243506322546705, 'val_accuracy': 0.5926773455377574, 'precision': 0.6368561974228593, 'recall': 0.5926773455377574, 'f1-score': 0.6025556648268642, 'macro_f1-score': 0.3712680612578332, 'balanced_accuracy': 0.40201782019996884, 'mcc': 0.49450413244392716, 'train_loss': 0.167994873056464}\n",
      "Epoch 7/20\n"
     ]
    },
    {
     "name": "stderr",
     "output_type": "stream",
     "text": [
      "100%|██████████| 716/716 [01:01<00:00, 11.66it/s]\n"
     ]
    },
    {
     "name": "stdout",
     "output_type": "stream",
     "text": [
      "{'val_loss': 2.171164203707765, 'val_accuracy': 0.5911517925247902, 'precision': 0.6308710875785752, 'recall': 0.5911517925247902, 'f1-score': 0.5986285189514529, 'macro_f1-score': 0.36467845679314453, 'balanced_accuracy': 0.403408310787031, 'mcc': 0.48582930579225986, 'train_loss': 0.15683150670930807}\n",
      "Epoch 8/20\n"
     ]
    },
    {
     "name": "stderr",
     "output_type": "stream",
     "text": [
      "100%|██████████| 716/716 [01:01<00:00, 11.65it/s]\n"
     ]
    },
    {
     "name": "stdout",
     "output_type": "stream",
     "text": [
      "{'val_loss': 2.1493899466061013, 'val_accuracy': 0.6102212051868803, 'precision': 0.6284923230021976, 'recall': 0.6102212051868803, 'f1-score': 0.6058855513375763, 'macro_f1-score': 0.36116211002966425, 'balanced_accuracy': 0.402243379514345, 'mcc': 0.49245670298873945, 'train_loss': 0.12655804178699612}\n",
      "Early stopping.\n",
      "\n",
      "[Fold 3]\n",
      "Label distribution after resampling:\n",
      "  label 0: 2000\n",
      "  label 1: 200\n",
      "  label 2: 200\n",
      "  label 3: 200\n",
      "  label 4: 200\n",
      "  label 5: 200\n",
      "  label 6: 200\n",
      "  label 7: 200\n",
      "  label 8: 200\n",
      "  label 9: 200\n",
      "  label 10: 200\n",
      "  label 11: 200\n",
      "  label 12: 200\n",
      "  label 13: 200\n",
      "  label 14: 200\n",
      "  label 15: 200\n",
      "  label 16: 200\n",
      "  label 17: 200\n",
      "  label 18: 200\n",
      "  label 19: 200\n",
      "  label 20: 200\n",
      "  label 21: 200\n",
      "  label 22: 200\n",
      "  label 23: 200\n",
      "  label 24: 200\n",
      "  label 25: 200\n",
      "  label 26: 200\n",
      "  label 27: 200\n",
      "  label 28: 200\n",
      "  label 29: 200\n",
      "  label 30: 200\n",
      "  label 31: 200\n",
      "  label 32: 200\n",
      "  label 33: 200\n",
      "  label 34: 200\n",
      "  label 35: 200\n",
      "  label 36: 200\n",
      "  label 37: 200\n",
      "  label 38: 200\n",
      "  label 39: 200\n",
      "  label 40: 200\n",
      "  label 41: 200\n",
      "  label 42: 200\n",
      "  label 43: 200\n",
      "  label 44: 200\n",
      "  label 45: 241\n",
      "  label 46: 200\n",
      "  label 47: 200\n",
      "model is roberta-base\n"
     ]
    },
    {
     "name": "stderr",
     "output_type": "stream",
     "text": [
      "Some weights of RobertaForSequenceClassification were not initialized from the model checkpoint at roberta-base and are newly initialized: ['classifier.dense.bias', 'classifier.dense.weight', 'classifier.out_proj.bias', 'classifier.out_proj.weight']\n",
      "You should probably TRAIN this model on a down-stream task to be able to use it for predictions and inference.\n"
     ]
    },
    {
     "name": "stdout",
     "output_type": "stream",
     "text": [
      "Epoch 1/20\n"
     ]
    },
    {
     "name": "stderr",
     "output_type": "stream",
     "text": [
      "100%|██████████| 716/716 [01:01<00:00, 11.65it/s]\n"
     ]
    },
    {
     "name": "stdout",
     "output_type": "stream",
     "text": [
      "{'val_loss': 1.7475983493211793, 'val_accuracy': 0.5255530129672006, 'precision': 0.5969127891932074, 'recall': 0.5255530129672006, 'f1-score': 0.5391233682707964, 'macro_f1-score': 0.3209092359531549, 'balanced_accuracy': 0.3878500505332059, 'mcc': 0.39497175668027523, 'train_loss': 2.1549332392032587}\n",
      "Epoch 2/20\n"
     ]
    },
    {
     "name": "stderr",
     "output_type": "stream",
     "text": [
      "100%|██████████| 716/716 [01:01<00:00, 11.66it/s]\n"
     ]
    },
    {
     "name": "stdout",
     "output_type": "stream",
     "text": [
      "{'val_loss': 1.7038668663036534, 'val_accuracy': 0.5720823798627003, 'precision': 0.6190688087420055, 'recall': 0.5720823798627003, 'f1-score': 0.5802453801416416, 'macro_f1-score': 0.38558923029201503, 'balanced_accuracy': 0.4203836257182827, 'mcc': 0.4491766434853759, 'train_loss': 0.7925578254800518}\n",
      "Epoch 3/20\n"
     ]
    },
    {
     "name": "stderr",
     "output_type": "stream",
     "text": [
      "100%|██████████| 716/716 [01:01<00:00, 11.66it/s]\n"
     ]
    },
    {
     "name": "stdout",
     "output_type": "stream",
     "text": [
      "{'val_loss': 1.7145810474346324, 'val_accuracy': 0.597254004576659, 'precision': 0.6059375620180023, 'recall': 0.597254004576659, 'f1-score': 0.5902024029126269, 'macro_f1-score': 0.34718959250564674, 'balanced_accuracy': 0.35966381970853806, 'mcc': 0.46748040542484626, 'train_loss': 0.42474622190435674}\n",
      "Epoch 4/20\n"
     ]
    },
    {
     "name": "stderr",
     "output_type": "stream",
     "text": [
      "100%|██████████| 716/716 [01:01<00:00, 11.65it/s]\n"
     ]
    },
    {
     "name": "stdout",
     "output_type": "stream",
     "text": [
      "{'val_loss': 1.8177775009194526, 'val_accuracy': 0.6209000762776506, 'precision': 0.6221930449651929, 'recall': 0.6209000762776506, 'f1-score': 0.6001882995489546, 'macro_f1-score': 0.3924873934955668, 'balanced_accuracy': 0.36754077592429285, 'mcc': 0.47728496433951506, 'train_loss': 0.29224327457392346}\n",
      "Epoch 5/20\n"
     ]
    },
    {
     "name": "stderr",
     "output_type": "stream",
     "text": [
      "100%|██████████| 716/716 [01:01<00:00, 11.66it/s]\n"
     ]
    },
    {
     "name": "stdout",
     "output_type": "stream",
     "text": [
      "{'val_loss': 1.8657263088517073, 'val_accuracy': 0.589626239511823, 'precision': 0.6141329847656334, 'recall': 0.589626239511823, 'f1-score': 0.59607690228123, 'macro_f1-score': 0.37400989825526537, 'balanced_accuracy': 0.3788571615427399, 'mcc': 0.47498340828950264, 'train_loss': 0.22503583627888235}\n",
      "Epoch 6/20\n"
     ]
    },
    {
     "name": "stderr",
     "output_type": "stream",
     "text": [
      "100%|██████████| 716/716 [01:01<00:00, 11.64it/s]\n"
     ]
    },
    {
     "name": "stdout",
     "output_type": "stream",
     "text": [
      "{'val_loss': 1.9353876747418104, 'val_accuracy': 0.6445461479786423, 'precision': 0.6070500066751878, 'recall': 0.6445461479786423, 'f1-score': 0.6124725480701436, 'macro_f1-score': 0.4009723319315212, 'balanced_accuracy': 0.36747930260445355, 'mcc': 0.513591073620745, 'train_loss': 0.19444884361007236}\n",
      "Epoch 7/20\n"
     ]
    },
    {
     "name": "stderr",
     "output_type": "stream",
     "text": [
      "100%|██████████| 716/716 [01:01<00:00, 11.65it/s]\n"
     ]
    },
    {
     "name": "stdout",
     "output_type": "stream",
     "text": [
      "{'val_loss': 1.9845749793983087, 'val_accuracy': 0.6247139588100686, 'precision': 0.6113978002431195, 'recall': 0.6247139588100686, 'f1-score': 0.6082287061748534, 'macro_f1-score': 0.37945647902448937, 'balanced_accuracy': 0.36275006591479125, 'mcc': 0.4962147106554949, 'train_loss': 0.1492981058571425}\n",
      "Epoch 8/20\n"
     ]
    },
    {
     "name": "stderr",
     "output_type": "stream",
     "text": [
      "100%|██████████| 716/716 [01:01<00:00, 11.65it/s]\n"
     ]
    },
    {
     "name": "stdout",
     "output_type": "stream",
     "text": [
      "{'val_loss': 2.196346981678067, 'val_accuracy': 0.6125095347063311, 'precision': 0.6220349538850042, 'recall': 0.6125095347063311, 'f1-score': 0.6051302301691475, 'macro_f1-score': 0.3833616451786909, 'balanced_accuracy': 0.3719819775461895, 'mcc': 0.48765413126673235, 'train_loss': 0.14820688490088582}\n",
      "Epoch 9/20\n"
     ]
    },
    {
     "name": "stderr",
     "output_type": "stream",
     "text": [
      "100%|██████████| 716/716 [01:01<00:00, 11.66it/s]\n"
     ]
    },
    {
     "name": "stdout",
     "output_type": "stream",
     "text": [
      "{'val_loss': 2.287671949078397, 'val_accuracy': 0.6064073226544623, 'precision': 0.6346950501240365, 'recall': 0.6064073226544623, 'f1-score': 0.6038815827614445, 'macro_f1-score': 0.348427261931495, 'balanced_accuracy': 0.32975516510339004, 'mcc': 0.4889573092175955, 'train_loss': 0.12531687095293037}\n",
      "Early stopping.\n",
      "\n",
      "[Fold 4]\n",
      "Label distribution after resampling:\n",
      "  label 0: 2000\n",
      "  label 1: 200\n",
      "  label 2: 200\n",
      "  label 3: 200\n",
      "  label 4: 200\n",
      "  label 5: 200\n",
      "  label 6: 200\n",
      "  label 7: 200\n",
      "  label 8: 200\n",
      "  label 9: 200\n",
      "  label 10: 200\n",
      "  label 11: 200\n",
      "  label 12: 200\n",
      "  label 13: 200\n",
      "  label 14: 200\n",
      "  label 15: 200\n",
      "  label 16: 200\n",
      "  label 17: 200\n",
      "  label 18: 200\n",
      "  label 19: 200\n",
      "  label 20: 200\n",
      "  label 21: 200\n",
      "  label 22: 200\n",
      "  label 23: 200\n",
      "  label 24: 200\n",
      "  label 25: 200\n",
      "  label 26: 200\n",
      "  label 27: 200\n",
      "  label 28: 200\n",
      "  label 29: 200\n",
      "  label 30: 200\n",
      "  label 31: 200\n",
      "  label 32: 200\n",
      "  label 33: 200\n",
      "  label 34: 200\n",
      "  label 35: 200\n",
      "  label 36: 200\n",
      "  label 37: 200\n",
      "  label 38: 200\n",
      "  label 39: 200\n",
      "  label 40: 200\n",
      "  label 41: 200\n",
      "  label 42: 200\n",
      "  label 43: 200\n",
      "  label 44: 200\n",
      "  label 45: 241\n",
      "  label 46: 200\n",
      "  label 47: 200\n",
      "model is roberta-base\n"
     ]
    },
    {
     "name": "stderr",
     "output_type": "stream",
     "text": [
      "Some weights of RobertaForSequenceClassification were not initialized from the model checkpoint at roberta-base and are newly initialized: ['classifier.dense.bias', 'classifier.dense.weight', 'classifier.out_proj.bias', 'classifier.out_proj.weight']\n",
      "You should probably TRAIN this model on a down-stream task to be able to use it for predictions and inference.\n"
     ]
    },
    {
     "name": "stdout",
     "output_type": "stream",
     "text": [
      "Epoch 1/20\n"
     ]
    },
    {
     "name": "stderr",
     "output_type": "stream",
     "text": [
      "100%|██████████| 716/716 [01:01<00:00, 11.66it/s]\n"
     ]
    },
    {
     "name": "stdout",
     "output_type": "stream",
     "text": [
      "{'val_loss': 1.674354944287277, 'val_accuracy': 0.5415713196033562, 'precision': 0.6252749306981832, 'recall': 0.5415713196033562, 'f1-score': 0.5397356473057981, 'macro_f1-score': 0.3264165459127631, 'balanced_accuracy': 0.39651486817232734, 'mcc': 0.41197620071455465, 'train_loss': 2.428891623153367}\n",
      "Epoch 2/20\n"
     ]
    },
    {
     "name": "stderr",
     "output_type": "stream",
     "text": [
      "100%|██████████| 716/716 [01:01<00:00, 11.65it/s]\n"
     ]
    },
    {
     "name": "stdout",
     "output_type": "stream",
     "text": [
      "{'val_loss': 1.5033528059720993, 'val_accuracy': 0.6102212051868803, 'precision': 0.6441928091083234, 'recall': 0.6102212051868803, 'f1-score': 0.6153662979701983, 'macro_f1-score': 0.40603537360420977, 'balanced_accuracy': 0.4393893782663436, 'mcc': 0.49603821473869336, 'train_loss': 0.9475669805688898}\n",
      "Epoch 3/20\n"
     ]
    },
    {
     "name": "stderr",
     "output_type": "stream",
     "text": [
      "100%|██████████| 716/716 [01:01<00:00, 11.65it/s]\n"
     ]
    },
    {
     "name": "stdout",
     "output_type": "stream",
     "text": [
      "{'val_loss': 1.5584833885474902, 'val_accuracy': 0.6300533943554538, 'precision': 0.6348119858797363, 'recall': 0.6300533943554538, 'f1-score': 0.6182867394259248, 'macro_f1-score': 0.39795531426979575, 'balanced_accuracy': 0.4002365300390361, 'mcc': 0.5063804586919266, 'train_loss': 0.5023603106084067}\n",
      "Epoch 4/20\n"
     ]
    },
    {
     "name": "stderr",
     "output_type": "stream",
     "text": [
      "100%|██████████| 716/716 [01:01<00:00, 11.66it/s]\n"
     ]
    },
    {
     "name": "stdout",
     "output_type": "stream",
     "text": [
      "{'val_loss': 1.8058253349054878, 'val_accuracy': 0.6018306636155606, 'precision': 0.6694260718804691, 'recall': 0.6018306636155606, 'f1-score': 0.617047768840641, 'macro_f1-score': 0.40325226762094707, 'balanced_accuracy': 0.4319910743307522, 'mcc': 0.5095222814059487, 'train_loss': 0.3271969369295256}\n",
      "Epoch 5/20\n"
     ]
    },
    {
     "name": "stderr",
     "output_type": "stream",
     "text": [
      "100%|██████████| 716/716 [01:01<00:00, 11.66it/s]\n"
     ]
    },
    {
     "name": "stdout",
     "output_type": "stream",
     "text": [
      "{'val_loss': 1.7744606504353082, 'val_accuracy': 0.6224256292906178, 'precision': 0.6497220307000824, 'recall': 0.6224256292906178, 'f1-score': 0.6239600319352321, 'macro_f1-score': 0.3887971858728457, 'balanced_accuracy': 0.4194744114636955, 'mcc': 0.5160238066633466, 'train_loss': 0.24072326844045633}\n",
      "Early stopping.\n",
      "\n",
      "[Fold 5]\n",
      "Label distribution after resampling:\n",
      "  label 0: 2000\n",
      "  label 1: 200\n",
      "  label 2: 200\n",
      "  label 3: 200\n",
      "  label 4: 200\n",
      "  label 5: 200\n",
      "  label 6: 200\n",
      "  label 7: 200\n",
      "  label 8: 200\n",
      "  label 9: 200\n",
      "  label 10: 200\n",
      "  label 11: 200\n",
      "  label 12: 200\n",
      "  label 13: 200\n",
      "  label 14: 200\n",
      "  label 15: 200\n",
      "  label 16: 200\n",
      "  label 17: 200\n",
      "  label 18: 200\n",
      "  label 19: 200\n",
      "  label 20: 200\n",
      "  label 21: 200\n",
      "  label 22: 200\n",
      "  label 23: 200\n",
      "  label 24: 200\n",
      "  label 25: 200\n",
      "  label 26: 200\n",
      "  label 27: 200\n",
      "  label 28: 200\n",
      "  label 29: 200\n",
      "  label 30: 200\n",
      "  label 31: 200\n",
      "  label 32: 200\n",
      "  label 33: 200\n",
      "  label 34: 200\n",
      "  label 35: 200\n",
      "  label 36: 200\n",
      "  label 37: 200\n",
      "  label 38: 200\n",
      "  label 39: 200\n",
      "  label 40: 200\n",
      "  label 41: 200\n",
      "  label 42: 200\n",
      "  label 43: 200\n",
      "  label 44: 200\n",
      "  label 45: 242\n",
      "  label 46: 200\n",
      "  label 47: 200\n",
      "model is roberta-base\n"
     ]
    },
    {
     "name": "stderr",
     "output_type": "stream",
     "text": [
      "Some weights of RobertaForSequenceClassification were not initialized from the model checkpoint at roberta-base and are newly initialized: ['classifier.dense.bias', 'classifier.dense.weight', 'classifier.out_proj.bias', 'classifier.out_proj.weight']\n",
      "You should probably TRAIN this model on a down-stream task to be able to use it for predictions and inference.\n"
     ]
    },
    {
     "name": "stdout",
     "output_type": "stream",
     "text": [
      "Epoch 1/20\n"
     ]
    },
    {
     "name": "stderr",
     "output_type": "stream",
     "text": [
      "100%|██████████| 716/716 [01:01<00:00, 11.65it/s]\n"
     ]
    },
    {
     "name": "stdout",
     "output_type": "stream",
     "text": [
      "{'val_loss': 1.8268254195771567, 'val_accuracy': 0.5141113653699466, 'precision': 0.6225141323235367, 'recall': 0.5141113653699466, 'f1-score': 0.5316982272085685, 'macro_f1-score': 0.3054847228469504, 'balanced_accuracy': 0.41081010268002127, 'mcc': 0.40313301288364295, 'train_loss': 2.322039192781768}\n",
      "Epoch 2/20\n"
     ]
    },
    {
     "name": "stderr",
     "output_type": "stream",
     "text": [
      "100%|██████████| 716/716 [01:01<00:00, 11.66it/s]\n"
     ]
    },
    {
     "name": "stdout",
     "output_type": "stream",
     "text": [
      "{'val_loss': 1.6168623239528843, 'val_accuracy': 0.5842868039664378, 'precision': 0.6491073045288668, 'recall': 0.5842868039664378, 'f1-score': 0.5918213963184279, 'macro_f1-score': 0.3877763556018256, 'balanced_accuracy': 0.42457185994899493, 'mcc': 0.4721935376590818, 'train_loss': 0.8773726077344497}\n",
      "Epoch 3/20\n"
     ]
    },
    {
     "name": "stderr",
     "output_type": "stream",
     "text": [
      "100%|██████████| 716/716 [01:01<00:00, 11.64it/s]\n"
     ]
    },
    {
     "name": "stdout",
     "output_type": "stream",
     "text": [
      "{'val_loss': 1.6140149221187685, 'val_accuracy': 0.5987795575896262, 'precision': 0.6343400010572339, 'recall': 0.5987795575896262, 'f1-score': 0.5979922393211438, 'macro_f1-score': 0.4166137553086724, 'balanced_accuracy': 0.42471930844225625, 'mcc': 0.4863965605474545, 'train_loss': 0.460806123360825}\n",
      "Epoch 4/20\n"
     ]
    },
    {
     "name": "stderr",
     "output_type": "stream",
     "text": [
      "100%|██████████| 716/716 [01:01<00:00, 11.65it/s]\n"
     ]
    },
    {
     "name": "stdout",
     "output_type": "stream",
     "text": [
      "{'val_loss': 1.8132923721540264, 'val_accuracy': 0.5774218154080855, 'precision': 0.6434393389624232, 'recall': 0.5774218154080855, 'f1-score': 0.5958143549471654, 'macro_f1-score': 0.41945064796379117, 'balanced_accuracy': 0.4438786925282061, 'mcc': 0.4812832571982765, 'train_loss': 0.30077182311908074}\n",
      "Epoch 5/20\n"
     ]
    },
    {
     "name": "stderr",
     "output_type": "stream",
     "text": [
      "100%|██████████| 716/716 [01:01<00:00, 11.65it/s]\n"
     ]
    },
    {
     "name": "stdout",
     "output_type": "stream",
     "text": [
      "{'val_loss': 1.7292364355994434, 'val_accuracy': 0.6025934401220442, 'precision': 0.643800288027858, 'recall': 0.6025934401220442, 'f1-score': 0.6118700775544651, 'macro_f1-score': 0.41221573591731, 'balanced_accuracy': 0.41964176307186546, 'mcc': 0.4974660146709502, 'train_loss': 0.2435274005375865}\n",
      "Epoch 6/20\n"
     ]
    },
    {
     "name": "stderr",
     "output_type": "stream",
     "text": [
      "100%|██████████| 716/716 [01:01<00:00, 11.66it/s]\n"
     ]
    },
    {
     "name": "stdout",
     "output_type": "stream",
     "text": [
      "{'val_loss': 1.8632043759997299, 'val_accuracy': 0.6003051106025934, 'precision': 0.671941524991236, 'recall': 0.6003051106025934, 'f1-score': 0.6224077548540348, 'macro_f1-score': 0.43781787216263224, 'balanced_accuracy': 0.4569022491240844, 'mcc': 0.5054388623846042, 'train_loss': 0.18519096197976664}\n",
      "Epoch 7/20\n"
     ]
    },
    {
     "name": "stderr",
     "output_type": "stream",
     "text": [
      "100%|██████████| 716/716 [01:01<00:00, 11.66it/s]\n"
     ]
    },
    {
     "name": "stdout",
     "output_type": "stream",
     "text": [
      "{'val_loss': 1.9665363103878208, 'val_accuracy': 0.623951182303585, 'precision': 0.6435353883215307, 'recall': 0.623951182303585, 'f1-score': 0.6121298550238233, 'macro_f1-score': 0.41509544764834044, 'balanced_accuracy': 0.40369324832836756, 'mcc': 0.5091869088832984, 'train_loss': 0.12873455112040375}\n",
      "Epoch 8/20\n"
     ]
    },
    {
     "name": "stderr",
     "output_type": "stream",
     "text": [
      "100%|██████████| 716/716 [01:01<00:00, 11.66it/s]\n"
     ]
    },
    {
     "name": "stdout",
     "output_type": "stream",
     "text": [
      "{'val_loss': 1.9432018917144798, 'val_accuracy': 0.6422578184591915, 'precision': 0.6341600183361535, 'recall': 0.6422578184591915, 'f1-score': 0.627364027044848, 'macro_f1-score': 0.41101401161466944, 'balanced_accuracy': 0.4012658102671451, 'mcc': 0.5191791934751891, 'train_loss': 0.13981374607788263}\n",
      "Epoch 9/20\n"
     ]
    },
    {
     "name": "stderr",
     "output_type": "stream",
     "text": [
      "100%|██████████| 716/716 [01:01<00:00, 11.65it/s]\n"
     ]
    },
    {
     "name": "stdout",
     "output_type": "stream",
     "text": [
      "{'val_loss': 2.1597651766567694, 'val_accuracy': 0.5995423340961098, 'precision': 0.6493068772189953, 'recall': 0.5995423340961098, 'f1-score': 0.6090468880236587, 'macro_f1-score': 0.4186948070377335, 'balanced_accuracy': 0.4639993205631745, 'mcc': 0.5006524924489447, 'train_loss': 0.12813174129462432}\n",
      "Early stopping.\n",
      "\n",
      " === roberta-base + plain + ros Final 5-fold Cross-Validation Results ===\n",
      "val_loss: 1.7691\n",
      "val_accuracy: 0.6136\n",
      "precision: 0.6378\n",
      "recall: 0.6136\n",
      "f1-score: 0.6114\n",
      "macro_f1-score: 0.4083\n",
      "balanced_accuracy: 0.4219\n",
      "mcc: 0.4985\n",
      "train_loss: 0.4059\n",
      "total_seconds: 2380.0000\n",
      "total_time: 0 hrs 39 mins 40 secs\n",
      "▶ Running: roberta-base + cnn + ros\n",
      "tokenizer is roberta-base\n",
      "Using device: cuda\n",
      "CUDA Available: True\n",
      "CUDA Device: NVIDIA GeForce RTX 5070 Ti\n",
      "Current GPU Memory Allocated: 0.02 GB\n",
      "Current GPU Memory Cached: 4.01 GB\n",
      "\n",
      "[Fold 1]\n",
      "Label distribution after resampling:\n",
      "  label 0: 2000\n",
      "  label 1: 200\n",
      "  label 2: 200\n",
      "  label 3: 200\n",
      "  label 4: 200\n",
      "  label 5: 200\n",
      "  label 6: 200\n",
      "  label 7: 200\n",
      "  label 8: 200\n",
      "  label 9: 200\n",
      "  label 10: 200\n",
      "  label 11: 200\n",
      "  label 12: 200\n",
      "  label 13: 200\n",
      "  label 14: 200\n",
      "  label 15: 200\n",
      "  label 16: 200\n",
      "  label 17: 200\n",
      "  label 18: 200\n",
      "  label 19: 200\n",
      "  label 20: 200\n",
      "  label 21: 200\n",
      "  label 22: 200\n",
      "  label 23: 200\n",
      "  label 24: 200\n",
      "  label 25: 200\n",
      "  label 26: 200\n",
      "  label 27: 200\n",
      "  label 28: 200\n",
      "  label 29: 200\n",
      "  label 30: 200\n",
      "  label 31: 200\n",
      "  label 32: 200\n",
      "  label 33: 200\n",
      "  label 34: 200\n",
      "  label 35: 200\n",
      "  label 36: 200\n",
      "  label 37: 200\n",
      "  label 38: 200\n",
      "  label 39: 200\n",
      "  label 40: 200\n",
      "  label 41: 200\n",
      "  label 42: 200\n",
      "  label 43: 200\n",
      "  label 44: 200\n",
      "  label 45: 242\n",
      "  label 46: 200\n",
      "  label 47: 200\n",
      "model is roberta-base cnn\n"
     ]
    },
    {
     "name": "stderr",
     "output_type": "stream",
     "text": [
      "Some weights of RobertaModel were not initialized from the model checkpoint at roberta-base and are newly initialized: ['pooler.dense.bias', 'pooler.dense.weight']\n",
      "You should probably TRAIN this model on a down-stream task to be able to use it for predictions and inference.\n"
     ]
    },
    {
     "name": "stdout",
     "output_type": "stream",
     "text": [
      "Epoch 1/20\n"
     ]
    },
    {
     "name": "stderr",
     "output_type": "stream",
     "text": [
      "100%|██████████| 716/716 [01:02<00:00, 11.44it/s]\n"
     ]
    },
    {
     "name": "stdout",
     "output_type": "stream",
     "text": [
      "{'val_loss': 2.2151764471356463, 'val_accuracy': 0.4481707317073171, 'precision': 0.4436107122358945, 'recall': 0.4481707317073171, 'f1-score': 0.41135186175807986, 'macro_f1-score': 0.1238018407237927, 'balanced_accuracy': 0.20839146131419828, 'mcc': 0.2582375007474811, 'train_loss': 3.1752877954664176}\n",
      "Epoch 2/20\n"
     ]
    },
    {
     "name": "stderr",
     "output_type": "stream",
     "text": [
      "100%|██████████| 716/716 [01:02<00:00, 11.43it/s]\n"
     ]
    },
    {
     "name": "stdout",
     "output_type": "stream",
     "text": [
      "{'val_loss': 1.789483015130206, 'val_accuracy': 0.524390243902439, 'precision': 0.5858436743730603, 'recall': 0.524390243902439, 'f1-score': 0.5369766061261926, 'macro_f1-score': 0.28705472002280025, 'balanced_accuracy': 0.3702931179192419, 'mcc': 0.40364643783735754, 'train_loss': 1.7287704901322307}\n",
      "Epoch 3/20\n"
     ]
    },
    {
     "name": "stderr",
     "output_type": "stream",
     "text": [
      "100%|██████████| 716/716 [01:02<00:00, 11.43it/s]\n"
     ]
    },
    {
     "name": "stdout",
     "output_type": "stream",
     "text": [
      "{'val_loss': 1.5620541939648187, 'val_accuracy': 0.614329268292683, 'precision': 0.6048192969059181, 'recall': 0.614329268292683, 'f1-score': 0.5918488324622364, 'macro_f1-score': 0.38086139252315016, 'balanced_accuracy': 0.39114794205703696, 'mcc': 0.4772941162649398, 'train_loss': 0.8991733388819175}\n",
      "Epoch 4/20\n"
     ]
    },
    {
     "name": "stderr",
     "output_type": "stream",
     "text": [
      "100%|██████████| 716/716 [01:02<00:00, 11.43it/s]\n"
     ]
    },
    {
     "name": "stdout",
     "output_type": "stream",
     "text": [
      "{'val_loss': 1.601701053177438, 'val_accuracy': 0.6227134146341463, 'precision': 0.6282934772333062, 'recall': 0.6227134146341463, 'f1-score': 0.6101574307468554, 'macro_f1-score': 0.3731229730048186, 'balanced_accuracy': 0.4152732689998439, 'mcc': 0.5006273696418734, 'train_loss': 0.5492038249829003}\n",
      "Epoch 5/20\n"
     ]
    },
    {
     "name": "stderr",
     "output_type": "stream",
     "text": [
      "100%|██████████| 716/716 [01:02<00:00, 11.42it/s]\n"
     ]
    },
    {
     "name": "stdout",
     "output_type": "stream",
     "text": [
      "{'val_loss': 1.6606351275269577, 'val_accuracy': 0.6280487804878049, 'precision': 0.6466373288077, 'recall': 0.6280487804878049, 'f1-score': 0.6228760529622319, 'macro_f1-score': 0.41546690872689096, 'balanced_accuracy': 0.42035903690337273, 'mcc': 0.5100165239303001, 'train_loss': 0.3903045871102527}\n",
      "Epoch 6/20\n"
     ]
    },
    {
     "name": "stderr",
     "output_type": "stream",
     "text": [
      "100%|██████████| 716/716 [01:02<00:00, 11.42it/s]\n"
     ]
    },
    {
     "name": "stdout",
     "output_type": "stream",
     "text": [
      "{'val_loss': 1.8759613062550382, 'val_accuracy': 0.6280487804878049, 'precision': 0.6202370462693625, 'recall': 0.6280487804878049, 'f1-score': 0.608978882734855, 'macro_f1-score': 0.3994070360765272, 'balanced_accuracy': 0.4011391846066498, 'mcc': 0.49547972324472367, 'train_loss': 0.2833721427618937}\n",
      "Epoch 7/20\n"
     ]
    },
    {
     "name": "stderr",
     "output_type": "stream",
     "text": [
      "100%|██████████| 716/716 [01:02<00:00, 11.43it/s]\n"
     ]
    },
    {
     "name": "stdout",
     "output_type": "stream",
     "text": [
      "{'val_loss': 1.9578335652264154, 'val_accuracy': 0.6402439024390244, 'precision': 0.6287010611759873, 'recall': 0.6402439024390244, 'f1-score': 0.6221000725287147, 'macro_f1-score': 0.411680470484222, 'balanced_accuracy': 0.405574622395444, 'mcc': 0.5109480011639281, 'train_loss': 0.24537313851403}\n",
      "Epoch 8/20\n"
     ]
    },
    {
     "name": "stderr",
     "output_type": "stream",
     "text": [
      "100%|██████████| 716/716 [01:02<00:00, 11.43it/s]\n"
     ]
    },
    {
     "name": "stdout",
     "output_type": "stream",
     "text": [
      "{'val_loss': 2.0180851511838958, 'val_accuracy': 0.6021341463414634, 'precision': 0.6279230412198059, 'recall': 0.6021341463414634, 'f1-score': 0.6003284206921888, 'macro_f1-score': 0.38238035066440457, 'balanced_accuracy': 0.39915779335734397, 'mcc': 0.4809110971243331, 'train_loss': 0.2013605024116686}\n",
      "Early stopping.\n",
      "\n",
      "[Fold 2]\n",
      "Label distribution after resampling:\n",
      "  label 0: 2000\n",
      "  label 1: 200\n",
      "  label 2: 200\n",
      "  label 3: 200\n",
      "  label 4: 200\n",
      "  label 5: 200\n",
      "  label 6: 200\n",
      "  label 7: 200\n",
      "  label 8: 200\n",
      "  label 9: 200\n",
      "  label 10: 200\n",
      "  label 11: 200\n",
      "  label 12: 200\n",
      "  label 13: 200\n",
      "  label 14: 200\n",
      "  label 15: 200\n",
      "  label 16: 200\n",
      "  label 17: 200\n",
      "  label 18: 200\n",
      "  label 19: 200\n",
      "  label 20: 200\n",
      "  label 21: 200\n",
      "  label 22: 200\n",
      "  label 23: 200\n",
      "  label 24: 200\n",
      "  label 25: 200\n",
      "  label 26: 200\n",
      "  label 27: 200\n",
      "  label 28: 200\n",
      "  label 29: 200\n",
      "  label 30: 200\n",
      "  label 31: 200\n",
      "  label 32: 200\n",
      "  label 33: 200\n",
      "  label 34: 200\n",
      "  label 35: 200\n",
      "  label 36: 200\n",
      "  label 37: 200\n",
      "  label 38: 200\n",
      "  label 39: 200\n",
      "  label 40: 200\n",
      "  label 41: 200\n",
      "  label 42: 200\n",
      "  label 43: 200\n",
      "  label 44: 200\n",
      "  label 45: 242\n",
      "  label 46: 200\n",
      "  label 47: 200\n",
      "model is roberta-base cnn\n"
     ]
    },
    {
     "name": "stderr",
     "output_type": "stream",
     "text": [
      "Some weights of RobertaModel were not initialized from the model checkpoint at roberta-base and are newly initialized: ['pooler.dense.bias', 'pooler.dense.weight']\n",
      "You should probably TRAIN this model on a down-stream task to be able to use it for predictions and inference.\n"
     ]
    },
    {
     "name": "stdout",
     "output_type": "stream",
     "text": [
      "Epoch 1/20\n"
     ]
    },
    {
     "name": "stderr",
     "output_type": "stream",
     "text": [
      "100%|██████████| 716/716 [01:02<00:00, 11.43it/s]\n"
     ]
    },
    {
     "name": "stdout",
     "output_type": "stream",
     "text": [
      "{'val_loss': 1.756439554982069, 'val_accuracy': 0.5179252479023646, 'precision': 0.5593684620814477, 'recall': 0.5179252479023646, 'f1-score': 0.5207647735239509, 'macro_f1-score': 0.26341621738118787, 'balanced_accuracy': 0.35481880819564315, 'mcc': 0.38479068519537857, 'train_loss': 2.5654353293376926}\n",
      "Epoch 2/20\n"
     ]
    },
    {
     "name": "stderr",
     "output_type": "stream",
     "text": [
      "100%|██████████| 716/716 [01:02<00:00, 11.42it/s]\n"
     ]
    },
    {
     "name": "stdout",
     "output_type": "stream",
     "text": [
      "{'val_loss': 1.578273132806871, 'val_accuracy': 0.5781845919145691, 'precision': 0.6225317106006053, 'recall': 0.5781845919145691, 'f1-score': 0.5631427059355087, 'macro_f1-score': 0.3205895410731301, 'balanced_accuracy': 0.35315820717441904, 'mcc': 0.4342442083597979, 'train_loss': 1.0508772711940735}\n",
      "Epoch 3/20\n"
     ]
    },
    {
     "name": "stderr",
     "output_type": "stream",
     "text": [
      "100%|██████████| 716/716 [01:02<00:00, 11.42it/s]\n"
     ]
    },
    {
     "name": "stdout",
     "output_type": "stream",
     "text": [
      "{'val_loss': 1.5981368139022734, 'val_accuracy': 0.6056445461479787, 'precision': 0.6248880437384575, 'recall': 0.6056445461479787, 'f1-score': 0.6077226300198096, 'macro_f1-score': 0.35863889445455005, 'balanced_accuracy': 0.39796090656994076, 'mcc': 0.49254213911836, 'train_loss': 0.574587802350646}\n",
      "Epoch 4/20\n"
     ]
    },
    {
     "name": "stderr",
     "output_type": "stream",
     "text": [
      "100%|██████████| 716/716 [01:02<00:00, 11.43it/s]\n"
     ]
    },
    {
     "name": "stdout",
     "output_type": "stream",
     "text": [
      "{'val_loss': 1.7122805056775487, 'val_accuracy': 0.6064073226544623, 'precision': 0.6447294766016439, 'recall': 0.6064073226544623, 'f1-score': 0.6095856286484143, 'macro_f1-score': 0.3637981645309114, 'balanced_accuracy': 0.40121078751965095, 'mcc': 0.4918030730391231, 'train_loss': 0.39198688839792467}\n",
      "Epoch 5/20\n"
     ]
    },
    {
     "name": "stderr",
     "output_type": "stream",
     "text": [
      "100%|██████████| 716/716 [01:02<00:00, 11.43it/s]\n"
     ]
    },
    {
     "name": "stdout",
     "output_type": "stream",
     "text": [
      "{'val_loss': 1.7916154185446298, 'val_accuracy': 0.601067887109077, 'precision': 0.6301421861630293, 'recall': 0.601067887109077, 'f1-score': 0.6051067053121338, 'macro_f1-score': 0.3670459886841357, 'balanced_accuracy': 0.38903410166914115, 'mcc': 0.49474474166607424, 'train_loss': 0.28780433787787385}\n",
      "Epoch 6/20\n"
     ]
    },
    {
     "name": "stderr",
     "output_type": "stream",
     "text": [
      "100%|██████████| 716/716 [01:02<00:00, 11.43it/s]\n"
     ]
    },
    {
     "name": "stdout",
     "output_type": "stream",
     "text": [
      "{'val_loss': 1.8750375334809466, 'val_accuracy': 0.6300533943554538, 'precision': 0.6239640751998405, 'recall': 0.6300533943554538, 'f1-score': 0.6161823321148815, 'macro_f1-score': 0.3601777599780611, 'balanced_accuracy': 0.38375247578167393, 'mcc': 0.508420206150567, 'train_loss': 0.22993281139672198}\n",
      "Epoch 7/20\n"
     ]
    },
    {
     "name": "stderr",
     "output_type": "stream",
     "text": [
      "100%|██████████| 716/716 [01:02<00:00, 11.43it/s]\n"
     ]
    },
    {
     "name": "stdout",
     "output_type": "stream",
     "text": [
      "{'val_loss': 2.002958423480755, 'val_accuracy': 0.6193745232646835, 'precision': 0.6294279114612057, 'recall': 0.6193745232646835, 'f1-score': 0.6158104028426769, 'macro_f1-score': 0.3549450132424817, 'balanced_accuracy': 0.3803928399193317, 'mcc': 0.5061993250639546, 'train_loss': 0.19045269243320315}\n",
      "Epoch 8/20\n"
     ]
    },
    {
     "name": "stderr",
     "output_type": "stream",
     "text": [
      "100%|██████████| 716/716 [01:02<00:00, 11.42it/s]\n"
     ]
    },
    {
     "name": "stdout",
     "output_type": "stream",
     "text": [
      "{'val_loss': 1.9659146404847867, 'val_accuracy': 0.6178489702517163, 'precision': 0.6146839297433558, 'recall': 0.6178489702517163, 'f1-score': 0.6039133134527447, 'macro_f1-score': 0.3618702769673807, 'balanced_accuracy': 0.3879535023323455, 'mcc': 0.4924044594898998, 'train_loss': 0.15611805387463046}\n",
      "Early stopping.\n",
      "\n",
      "[Fold 3]\n",
      "Label distribution after resampling:\n",
      "  label 0: 2000\n",
      "  label 1: 200\n",
      "  label 2: 200\n",
      "  label 3: 200\n",
      "  label 4: 200\n",
      "  label 5: 200\n",
      "  label 6: 200\n",
      "  label 7: 200\n",
      "  label 8: 200\n",
      "  label 9: 200\n",
      "  label 10: 200\n",
      "  label 11: 200\n",
      "  label 12: 200\n",
      "  label 13: 200\n",
      "  label 14: 200\n",
      "  label 15: 200\n",
      "  label 16: 200\n",
      "  label 17: 200\n",
      "  label 18: 200\n",
      "  label 19: 200\n",
      "  label 20: 200\n",
      "  label 21: 200\n",
      "  label 22: 200\n",
      "  label 23: 200\n",
      "  label 24: 200\n",
      "  label 25: 200\n",
      "  label 26: 200\n",
      "  label 27: 200\n",
      "  label 28: 200\n",
      "  label 29: 200\n",
      "  label 30: 200\n",
      "  label 31: 200\n",
      "  label 32: 200\n",
      "  label 33: 200\n",
      "  label 34: 200\n",
      "  label 35: 200\n",
      "  label 36: 200\n",
      "  label 37: 200\n",
      "  label 38: 200\n",
      "  label 39: 200\n",
      "  label 40: 200\n",
      "  label 41: 200\n",
      "  label 42: 200\n",
      "  label 43: 200\n",
      "  label 44: 200\n",
      "  label 45: 241\n",
      "  label 46: 200\n",
      "  label 47: 200\n",
      "model is roberta-base cnn\n"
     ]
    },
    {
     "name": "stderr",
     "output_type": "stream",
     "text": [
      "Some weights of RobertaModel were not initialized from the model checkpoint at roberta-base and are newly initialized: ['pooler.dense.bias', 'pooler.dense.weight']\n",
      "You should probably TRAIN this model on a down-stream task to be able to use it for predictions and inference.\n"
     ]
    },
    {
     "name": "stdout",
     "output_type": "stream",
     "text": [
      "Epoch 1/20\n"
     ]
    },
    {
     "name": "stderr",
     "output_type": "stream",
     "text": [
      "100%|██████████| 716/716 [01:02<00:00, 11.43it/s]\n"
     ]
    },
    {
     "name": "stdout",
     "output_type": "stream",
     "text": [
      "{'val_loss': 1.8470752377335617, 'val_accuracy': 0.4988558352402746, 'precision': 0.5511139952040774, 'recall': 0.4988558352402746, 'f1-score': 0.5049940574705718, 'macro_f1-score': 0.2733662038387294, 'balanced_accuracy': 0.3543751494419099, 'mcc': 0.3713451625366238, 'train_loss': 2.4812275022268295}\n",
      "Epoch 2/20\n"
     ]
    },
    {
     "name": "stderr",
     "output_type": "stream",
     "text": [
      "100%|██████████| 716/716 [01:02<00:00, 11.43it/s]\n"
     ]
    },
    {
     "name": "stdout",
     "output_type": "stream",
     "text": [
      "{'val_loss': 1.693395603357292, 'val_accuracy': 0.5758962623951183, 'precision': 0.6047411469270668, 'recall': 0.5758962623951183, 'f1-score': 0.5744470053685405, 'macro_f1-score': 0.33633352530426447, 'balanced_accuracy': 0.3742423513822997, 'mcc': 0.4441541452245783, 'train_loss': 0.9965020749905256}\n",
      "Epoch 3/20\n"
     ]
    },
    {
     "name": "stderr",
     "output_type": "stream",
     "text": [
      "100%|██████████| 716/716 [01:02<00:00, 11.43it/s]\n"
     ]
    },
    {
     "name": "stdout",
     "output_type": "stream",
     "text": [
      "{'val_loss': 1.6444632163861903, 'val_accuracy': 0.5911517925247902, 'precision': 0.6161587298014083, 'recall': 0.5911517925247902, 'f1-score': 0.5882028308974899, 'macro_f1-score': 0.377916023443738, 'balanced_accuracy': 0.38941755516950494, 'mcc': 0.46378781557639337, 'train_loss': 0.5460761159804114}\n",
      "Epoch 4/20\n"
     ]
    },
    {
     "name": "stderr",
     "output_type": "stream",
     "text": [
      "100%|██████████| 716/716 [01:02<00:00, 11.43it/s]\n"
     ]
    },
    {
     "name": "stdout",
     "output_type": "stream",
     "text": [
      "{'val_loss': 1.7780854156831416, 'val_accuracy': 0.6003051106025934, 'precision': 0.6203300064438932, 'recall': 0.6003051106025934, 'f1-score': 0.6000593084625795, 'macro_f1-score': 0.378762660690288, 'balanced_accuracy': 0.35775955187695935, 'mcc': 0.4734094017334355, 'train_loss': 0.37763322586214493}\n",
      "Epoch 5/20\n"
     ]
    },
    {
     "name": "stderr",
     "output_type": "stream",
     "text": [
      "100%|██████████| 716/716 [01:02<00:00, 11.43it/s]\n"
     ]
    },
    {
     "name": "stdout",
     "output_type": "stream",
     "text": [
      "{'val_loss': 1.8015664292544853, 'val_accuracy': 0.6308161708619374, 'precision': 0.6160388880386866, 'recall': 0.6308161708619374, 'f1-score': 0.6132515784940082, 'macro_f1-score': 0.38397565279224355, 'balanced_accuracy': 0.3725346664729184, 'mcc': 0.5061023161586811, 'train_loss': 0.3023933737523146}\n",
      "Epoch 6/20\n"
     ]
    },
    {
     "name": "stderr",
     "output_type": "stream",
     "text": [
      "100%|██████████| 716/716 [01:02<00:00, 11.42it/s]\n"
     ]
    },
    {
     "name": "stdout",
     "output_type": "stream",
     "text": [
      "{'val_loss': 1.94438297319703, 'val_accuracy': 0.6193745232646835, 'precision': 0.6157344450362522, 'recall': 0.6193745232646835, 'f1-score': 0.611853873901813, 'macro_f1-score': 0.37941965531276284, 'balanced_accuracy': 0.37744868606815346, 'mcc': 0.4968266797313085, 'train_loss': 0.2361602432649926}\n",
      "Epoch 7/20\n"
     ]
    },
    {
     "name": "stderr",
     "output_type": "stream",
     "text": [
      "100%|██████████| 716/716 [01:02<00:00, 11.43it/s]\n"
     ]
    },
    {
     "name": "stdout",
     "output_type": "stream",
     "text": [
      "{'val_loss': 2.086339785921864, 'val_accuracy': 0.5842868039664378, 'precision': 0.6145615613025114, 'recall': 0.5842868039664378, 'f1-score': 0.5921027158368343, 'macro_f1-score': 0.3905787452601044, 'balanced_accuracy': 0.39436632331026605, 'mcc': 0.4731200773651373, 'train_loss': 0.20510401089764174}\n",
      "Epoch 8/20\n"
     ]
    },
    {
     "name": "stderr",
     "output_type": "stream",
     "text": [
      "100%|██████████| 716/716 [01:02<00:00, 11.43it/s]\n"
     ]
    },
    {
     "name": "stdout",
     "output_type": "stream",
     "text": [
      "{'val_loss': 2.0220577680483096, 'val_accuracy': 0.6117467581998475, 'precision': 0.6184565865072118, 'recall': 0.6117467581998475, 'f1-score': 0.6041187681975486, 'macro_f1-score': 0.3722687929219292, 'balanced_accuracy': 0.3626762612614045, 'mcc': 0.4840770939474066, 'train_loss': 0.1754179477389881}\n",
      "Epoch 9/20\n"
     ]
    },
    {
     "name": "stderr",
     "output_type": "stream",
     "text": [
      "100%|██████████| 716/716 [01:02<00:00, 11.43it/s]\n"
     ]
    },
    {
     "name": "stdout",
     "output_type": "stream",
     "text": [
      "{'val_loss': 2.042516666759805, 'val_accuracy': 0.5957284515636918, 'precision': 0.6185824613483754, 'recall': 0.5957284515636918, 'f1-score': 0.5997445782549693, 'macro_f1-score': 0.36879823247630666, 'balanced_accuracy': 0.37453737162742434, 'mcc': 0.4806692241025964, 'train_loss': 0.15126488174607083}\n",
      "Epoch 10/20\n"
     ]
    },
    {
     "name": "stderr",
     "output_type": "stream",
     "text": [
      "100%|██████████| 716/716 [01:02<00:00, 11.43it/s]\n"
     ]
    },
    {
     "name": "stdout",
     "output_type": "stream",
     "text": [
      "{'val_loss': 2.039361686604779, 'val_accuracy': 0.6125095347063311, 'precision': 0.6055006071195506, 'recall': 0.6125095347063311, 'f1-score': 0.5984302746523332, 'macro_f1-score': 0.3730349597230283, 'balanced_accuracy': 0.34908415093039613, 'mcc': 0.4828155612436035, 'train_loss': 0.13976119869169468}\n",
      "Early stopping.\n",
      "\n",
      "[Fold 4]\n",
      "Label distribution after resampling:\n",
      "  label 0: 2000\n",
      "  label 1: 200\n",
      "  label 2: 200\n",
      "  label 3: 200\n",
      "  label 4: 200\n",
      "  label 5: 200\n",
      "  label 6: 200\n",
      "  label 7: 200\n",
      "  label 8: 200\n",
      "  label 9: 200\n",
      "  label 10: 200\n",
      "  label 11: 200\n",
      "  label 12: 200\n",
      "  label 13: 200\n",
      "  label 14: 200\n",
      "  label 15: 200\n",
      "  label 16: 200\n",
      "  label 17: 200\n",
      "  label 18: 200\n",
      "  label 19: 200\n",
      "  label 20: 200\n",
      "  label 21: 200\n",
      "  label 22: 200\n",
      "  label 23: 200\n",
      "  label 24: 200\n",
      "  label 25: 200\n",
      "  label 26: 200\n",
      "  label 27: 200\n",
      "  label 28: 200\n",
      "  label 29: 200\n",
      "  label 30: 200\n",
      "  label 31: 200\n",
      "  label 32: 200\n",
      "  label 33: 200\n",
      "  label 34: 200\n",
      "  label 35: 200\n",
      "  label 36: 200\n",
      "  label 37: 200\n",
      "  label 38: 200\n",
      "  label 39: 200\n",
      "  label 40: 200\n",
      "  label 41: 200\n",
      "  label 42: 200\n",
      "  label 43: 200\n",
      "  label 44: 200\n",
      "  label 45: 241\n",
      "  label 46: 200\n",
      "  label 47: 200\n",
      "model is roberta-base cnn\n"
     ]
    },
    {
     "name": "stderr",
     "output_type": "stream",
     "text": [
      "Some weights of RobertaModel were not initialized from the model checkpoint at roberta-base and are newly initialized: ['pooler.dense.bias', 'pooler.dense.weight']\n",
      "You should probably TRAIN this model on a down-stream task to be able to use it for predictions and inference.\n"
     ]
    },
    {
     "name": "stdout",
     "output_type": "stream",
     "text": [
      "Epoch 1/20\n"
     ]
    },
    {
     "name": "stderr",
     "output_type": "stream",
     "text": [
      "100%|██████████| 716/716 [01:02<00:00, 11.42it/s]\n"
     ]
    },
    {
     "name": "stdout",
     "output_type": "stream",
     "text": [
      "{'val_loss': 1.6772655583009488, 'val_accuracy': 0.5499618611746758, 'precision': 0.6250263425788982, 'recall': 0.5499618611746758, 'f1-score': 0.5617162583257431, 'macro_f1-score': 0.301311593141009, 'balanced_accuracy': 0.3637071428662953, 'mcc': 0.425358867439014, 'train_loss': 2.698134620013184}\n",
      "Epoch 2/20\n"
     ]
    },
    {
     "name": "stderr",
     "output_type": "stream",
     "text": [
      "100%|██████████| 716/716 [01:02<00:00, 11.42it/s]\n"
     ]
    },
    {
     "name": "stdout",
     "output_type": "stream",
     "text": [
      "{'val_loss': 1.4893190479133187, 'val_accuracy': 0.5881006864988558, 'precision': 0.66071534197467, 'recall': 0.5881006864988558, 'f1-score': 0.6016786772216506, 'macro_f1-score': 0.36820065916722994, 'balanced_accuracy': 0.41214946267973523, 'mcc': 0.48289499973351574, 'train_loss': 1.1325459428568625}\n",
      "Epoch 3/20\n"
     ]
    },
    {
     "name": "stderr",
     "output_type": "stream",
     "text": [
      "100%|██████████| 716/716 [01:02<00:00, 11.43it/s]\n"
     ]
    },
    {
     "name": "stdout",
     "output_type": "stream",
     "text": [
      "{'val_loss': 1.6250397730164412, 'val_accuracy': 0.5987795575896262, 'precision': 0.6602117866631524, 'recall': 0.5987795575896262, 'f1-score': 0.6137976957068674, 'macro_f1-score': 0.3967045536077975, 'balanced_accuracy': 0.46059663481973817, 'mcc': 0.4932861900058148, 'train_loss': 0.5943630509879753}\n",
      "Epoch 4/20\n"
     ]
    },
    {
     "name": "stderr",
     "output_type": "stream",
     "text": [
      "100%|██████████| 716/716 [01:02<00:00, 11.43it/s]\n"
     ]
    },
    {
     "name": "stdout",
     "output_type": "stream",
     "text": [
      "{'val_loss': 1.7144812598097614, 'val_accuracy': 0.5881006864988558, 'precision': 0.6350395122862946, 'recall': 0.5881006864988558, 'f1-score': 0.6000728113987482, 'macro_f1-score': 0.3694902566626972, 'balanced_accuracy': 0.3975745000633466, 'mcc': 0.4774705043145915, 'train_loss': 0.42647961141052526}\n",
      "Epoch 5/20\n"
     ]
    },
    {
     "name": "stderr",
     "output_type": "stream",
     "text": [
      "100%|██████████| 716/716 [01:02<00:00, 11.43it/s]\n"
     ]
    },
    {
     "name": "stdout",
     "output_type": "stream",
     "text": [
      "{'val_loss': 1.7121043548714825, 'val_accuracy': 0.6102212051868803, 'precision': 0.642221047662587, 'recall': 0.6102212051868803, 'f1-score': 0.6168993831770971, 'macro_f1-score': 0.3756209796419721, 'balanced_accuracy': 0.4026147071800728, 'mcc': 0.5027129537729189, 'train_loss': 0.3204785256149695}\n",
      "Epoch 6/20\n"
     ]
    },
    {
     "name": "stderr",
     "output_type": "stream",
     "text": [
      "100%|██████████| 716/716 [01:02<00:00, 11.43it/s]\n"
     ]
    },
    {
     "name": "stdout",
     "output_type": "stream",
     "text": [
      "{'val_loss': 1.6385989723409093, 'val_accuracy': 0.6567505720823799, 'precision': 0.6655992303599024, 'recall': 0.6567505720823799, 'f1-score': 0.6466938115028826, 'macro_f1-score': 0.38496627708845454, 'balanced_accuracy': 0.38410499067797854, 'mcc': 0.5451902701844965, 'train_loss': 0.2374934777032126}\n",
      "Early stopping.\n",
      "\n",
      "[Fold 5]\n",
      "Label distribution after resampling:\n",
      "  label 0: 2000\n",
      "  label 1: 200\n",
      "  label 2: 200\n",
      "  label 3: 200\n",
      "  label 4: 200\n",
      "  label 5: 200\n",
      "  label 6: 200\n",
      "  label 7: 200\n",
      "  label 8: 200\n",
      "  label 9: 200\n",
      "  label 10: 200\n",
      "  label 11: 200\n",
      "  label 12: 200\n",
      "  label 13: 200\n",
      "  label 14: 200\n",
      "  label 15: 200\n",
      "  label 16: 200\n",
      "  label 17: 200\n",
      "  label 18: 200\n",
      "  label 19: 200\n",
      "  label 20: 200\n",
      "  label 21: 200\n",
      "  label 22: 200\n",
      "  label 23: 200\n",
      "  label 24: 200\n",
      "  label 25: 200\n",
      "  label 26: 200\n",
      "  label 27: 200\n",
      "  label 28: 200\n",
      "  label 29: 200\n",
      "  label 30: 200\n",
      "  label 31: 200\n",
      "  label 32: 200\n",
      "  label 33: 200\n",
      "  label 34: 200\n",
      "  label 35: 200\n",
      "  label 36: 200\n",
      "  label 37: 200\n",
      "  label 38: 200\n",
      "  label 39: 200\n",
      "  label 40: 200\n",
      "  label 41: 200\n",
      "  label 42: 200\n",
      "  label 43: 200\n",
      "  label 44: 200\n",
      "  label 45: 242\n",
      "  label 46: 200\n",
      "  label 47: 200\n",
      "model is roberta-base cnn\n"
     ]
    },
    {
     "name": "stderr",
     "output_type": "stream",
     "text": [
      "Some weights of RobertaModel were not initialized from the model checkpoint at roberta-base and are newly initialized: ['pooler.dense.bias', 'pooler.dense.weight']\n",
      "You should probably TRAIN this model on a down-stream task to be able to use it for predictions and inference.\n"
     ]
    },
    {
     "name": "stdout",
     "output_type": "stream",
     "text": [
      "Epoch 1/20\n"
     ]
    },
    {
     "name": "stderr",
     "output_type": "stream",
     "text": [
      "100%|██████████| 716/716 [01:02<00:00, 11.43it/s]\n"
     ]
    },
    {
     "name": "stdout",
     "output_type": "stream",
     "text": [
      "{'val_loss': 2.359180972343538, 'val_accuracy': 0.4225781845919146, 'precision': 0.3342722683488285, 'recall': 0.4225781845919146, 'f1-score': 0.36680834517398797, 'macro_f1-score': 0.07253855994633483, 'balanced_accuracy': 0.150310746391616, 'mcc': 0.22032794134982028, 'train_loss': 3.3430621472483906}\n",
      "Epoch 2/20\n"
     ]
    },
    {
     "name": "stderr",
     "output_type": "stream",
     "text": [
      "100%|██████████| 716/716 [01:02<00:00, 11.42it/s]\n"
     ]
    },
    {
     "name": "stdout",
     "output_type": "stream",
     "text": [
      "{'val_loss': 1.5910250875281124, 'val_accuracy': 0.5453852021357742, 'precision': 0.6163211164428255, 'recall': 0.5453852021357742, 'f1-score': 0.5526203847673758, 'macro_f1-score': 0.3224576958758054, 'balanced_accuracy': 0.40116661874748627, 'mcc': 0.41739723344309987, 'train_loss': 1.8854019444581516}\n",
      "Epoch 3/20\n"
     ]
    },
    {
     "name": "stderr",
     "output_type": "stream",
     "text": [
      "100%|██████████| 716/716 [01:02<00:00, 11.43it/s]\n"
     ]
    },
    {
     "name": "stdout",
     "output_type": "stream",
     "text": [
      "{'val_loss': 1.6251017931031018, 'val_accuracy': 0.5743707093821511, 'precision': 0.6169324505608225, 'recall': 0.5743707093821511, 'f1-score': 0.5836704099723312, 'macro_f1-score': 0.36191843040220495, 'balanced_accuracy': 0.4221702404559255, 'mcc': 0.4596605757238814, 'train_loss': 0.9129362794357305}\n",
      "Epoch 4/20\n"
     ]
    },
    {
     "name": "stderr",
     "output_type": "stream",
     "text": [
      "100%|██████████| 716/716 [01:02<00:00, 11.42it/s]\n"
     ]
    },
    {
     "name": "stdout",
     "output_type": "stream",
     "text": [
      "{'val_loss': 1.5247506095868786, 'val_accuracy': 0.6254767353165522, 'precision': 0.6464916172702927, 'recall': 0.6254767353165522, 'f1-score': 0.6170386073777825, 'macro_f1-score': 0.387356908842106, 'balanced_accuracy': 0.38500026300449014, 'mcc': 0.5021524052248924, 'train_loss': 0.529809631724639}\n",
      "Epoch 5/20\n"
     ]
    },
    {
     "name": "stderr",
     "output_type": "stream",
     "text": [
      "100%|██████████| 716/716 [01:02<00:00, 11.43it/s]\n"
     ]
    },
    {
     "name": "stdout",
     "output_type": "stream",
     "text": [
      "{'val_loss': 1.637885092598636, 'val_accuracy': 0.6369183829138062, 'precision': 0.6416903778390441, 'recall': 0.6369183829138062, 'f1-score': 0.6166608087060443, 'macro_f1-score': 0.3992542382951014, 'balanced_accuracy': 0.39765801266251194, 'mcc': 0.5071548013282107, 'train_loss': 0.385632498651566}\n",
      "Epoch 6/20\n"
     ]
    },
    {
     "name": "stderr",
     "output_type": "stream",
     "text": [
      "100%|██████████| 716/716 [01:02<00:00, 11.41it/s]\n"
     ]
    },
    {
     "name": "stdout",
     "output_type": "stream",
     "text": [
      "{'val_loss': 1.9313044382668123, 'val_accuracy': 0.5850495804729214, 'precision': 0.6350454563446583, 'recall': 0.5850495804729214, 'f1-score': 0.599924791602385, 'macro_f1-score': 0.3697275244576861, 'balanced_accuracy': 0.40724169681794126, 'mcc': 0.4826754245398744, 'train_loss': 0.28012041081726424}\n",
      "Epoch 7/20\n"
     ]
    },
    {
     "name": "stderr",
     "output_type": "stream",
     "text": [
      "100%|██████████| 716/716 [01:02<00:00, 11.42it/s]\n"
     ]
    },
    {
     "name": "stdout",
     "output_type": "stream",
     "text": [
      "{'val_loss': 1.9051383919105298, 'val_accuracy': 0.5781845919145691, 'precision': 0.6430190377282731, 'recall': 0.5781845919145691, 'f1-score': 0.5975431491756931, 'macro_f1-score': 0.3958309163443369, 'balanced_accuracy': 0.42345132244882394, 'mcc': 0.4838363723018657, 'train_loss': 0.24498337532482084}\n",
      "Epoch 8/20\n"
     ]
    },
    {
     "name": "stderr",
     "output_type": "stream",
     "text": [
      "100%|██████████| 716/716 [01:02<00:00, 11.42it/s]\n"
     ]
    },
    {
     "name": "stdout",
     "output_type": "stream",
     "text": [
      "{'val_loss': 1.8748444653138883, 'val_accuracy': 0.6132723112128147, 'precision': 0.6421864281688193, 'recall': 0.6132723112128147, 'f1-score': 0.6138433578272607, 'macro_f1-score': 0.4062975880784789, 'balanced_accuracy': 0.42526544105402003, 'mcc': 0.5075880473788612, 'train_loss': 0.18180309149258453}\n",
      "Epoch 9/20\n"
     ]
    },
    {
     "name": "stderr",
     "output_type": "stream",
     "text": [
      "100%|██████████| 716/716 [01:02<00:00, 11.43it/s]\n"
     ]
    },
    {
     "name": "stdout",
     "output_type": "stream",
     "text": [
      "{'val_loss': 2.288876053763599, 'val_accuracy': 0.5636918382913806, 'precision': 0.6527238202378275, 'recall': 0.5636918382913806, 'f1-score': 0.5876979899380487, 'macro_f1-score': 0.39795317410740755, 'balanced_accuracy': 0.44097985750834495, 'mcc': 0.4803875154798598, 'train_loss': 0.14810624417742224}\n",
      "Epoch 10/20\n"
     ]
    },
    {
     "name": "stderr",
     "output_type": "stream",
     "text": [
      "100%|██████████| 716/716 [01:02<00:00, 11.43it/s]\n"
     ]
    },
    {
     "name": "stdout",
     "output_type": "stream",
     "text": [
      "{'val_loss': 2.0465809666528934, 'val_accuracy': 0.5926773455377574, 'precision': 0.6316357348389204, 'recall': 0.5926773455377574, 'f1-score': 0.5988004047082949, 'macro_f1-score': 0.3899037791832994, 'balanced_accuracy': 0.4079250320732688, 'mcc': 0.48464714267487663, 'train_loss': 0.15082713522507377}\n",
      "Epoch 11/20\n"
     ]
    },
    {
     "name": "stderr",
     "output_type": "stream",
     "text": [
      "100%|██████████| 716/716 [01:02<00:00, 11.42it/s]\n"
     ]
    },
    {
     "name": "stdout",
     "output_type": "stream",
     "text": [
      "{'val_loss': 2.0012351772407206, 'val_accuracy': 0.6079328756674295, 'precision': 0.633245371916039, 'recall': 0.6079328756674295, 'f1-score': 0.6113848685753699, 'macro_f1-score': 0.4021377636762066, 'balanced_accuracy': 0.4251158383617746, 'mcc': 0.4963411650585118, 'train_loss': 0.14383820185353902}\n",
      "Early stopping.\n",
      "\n",
      " === roberta-base + cnn + ros Final 5-fold Cross-Validation Results ===\n",
      "val_loss: 1.8077\n",
      "val_accuracy: 0.6051\n",
      "precision: 0.6387\n",
      "recall: 0.6051\n",
      "f1-score: 0.6095\n",
      "macro_f1-score: 0.3952\n",
      "balanced_accuracy: 0.4179\n",
      "mcc: 0.4958\n",
      "train_loss: 0.3319\n",
      "total_seconds: 2820.0000\n",
      "total_time: 0 hrs 47 mins 0 secs\n",
      "▶ Running: roberta-base + lstm + ros\n",
      "tokenizer is roberta-base\n",
      "Using device: cuda\n",
      "CUDA Available: True\n",
      "CUDA Device: NVIDIA GeForce RTX 5070 Ti\n",
      "Current GPU Memory Allocated: 0.02 GB\n",
      "Current GPU Memory Cached: 4.01 GB\n",
      "\n",
      "[Fold 1]\n",
      "Label distribution after resampling:\n",
      "  label 0: 2000\n",
      "  label 1: 200\n",
      "  label 2: 200\n",
      "  label 3: 200\n",
      "  label 4: 200\n",
      "  label 5: 200\n",
      "  label 6: 200\n",
      "  label 7: 200\n",
      "  label 8: 200\n",
      "  label 9: 200\n",
      "  label 10: 200\n",
      "  label 11: 200\n",
      "  label 12: 200\n",
      "  label 13: 200\n",
      "  label 14: 200\n",
      "  label 15: 200\n",
      "  label 16: 200\n",
      "  label 17: 200\n",
      "  label 18: 200\n",
      "  label 19: 200\n",
      "  label 20: 200\n",
      "  label 21: 200\n",
      "  label 22: 200\n",
      "  label 23: 200\n",
      "  label 24: 200\n",
      "  label 25: 200\n",
      "  label 26: 200\n",
      "  label 27: 200\n",
      "  label 28: 200\n",
      "  label 29: 200\n",
      "  label 30: 200\n",
      "  label 31: 200\n",
      "  label 32: 200\n",
      "  label 33: 200\n",
      "  label 34: 200\n",
      "  label 35: 200\n",
      "  label 36: 200\n",
      "  label 37: 200\n",
      "  label 38: 200\n",
      "  label 39: 200\n",
      "  label 40: 200\n",
      "  label 41: 200\n",
      "  label 42: 200\n",
      "  label 43: 200\n",
      "  label 44: 200\n",
      "  label 45: 242\n",
      "  label 46: 200\n",
      "  label 47: 200\n",
      "model is roberta-base lstm\n"
     ]
    },
    {
     "name": "stderr",
     "output_type": "stream",
     "text": [
      "Some weights of RobertaModel were not initialized from the model checkpoint at roberta-base and are newly initialized: ['pooler.dense.bias', 'pooler.dense.weight']\n",
      "You should probably TRAIN this model on a down-stream task to be able to use it for predictions and inference.\n"
     ]
    },
    {
     "name": "stdout",
     "output_type": "stream",
     "text": [
      "Epoch 1/20\n"
     ]
    },
    {
     "name": "stderr",
     "output_type": "stream",
     "text": [
      "100%|██████████| 716/716 [01:05<00:00, 10.88it/s]\n"
     ]
    },
    {
     "name": "stdout",
     "output_type": "stream",
     "text": [
      "{'val_loss': 2.010299585941361, 'val_accuracy': 0.47027439024390244, 'precision': 0.5258288883386475, 'recall': 0.47027439024390244, 'f1-score': 0.4417351045897647, 'macro_f1-score': 0.20669787504889783, 'balanced_accuracy': 0.27244207704170226, 'mcc': 0.2891291555966617, 'train_loss': 2.7567800809551217}\n",
      "Epoch 2/20\n"
     ]
    },
    {
     "name": "stderr",
     "output_type": "stream",
     "text": [
      "100%|██████████| 716/716 [01:05<00:00, 10.89it/s]\n"
     ]
    },
    {
     "name": "stdout",
     "output_type": "stream",
     "text": [
      "{'val_loss': 1.7457338113610337, 'val_accuracy': 0.5259146341463414, 'precision': 0.5633079589410337, 'recall': 0.5259146341463414, 'f1-score': 0.5145134429880863, 'macro_f1-score': 0.28500967371075286, 'balanced_accuracy': 0.3428857426106209, 'mcc': 0.37300290991231017, 'train_loss': 1.4279620706119351}\n",
      "Epoch 3/20\n"
     ]
    },
    {
     "name": "stderr",
     "output_type": "stream",
     "text": [
      "100%|██████████| 716/716 [01:05<00:00, 10.90it/s]\n"
     ]
    },
    {
     "name": "stdout",
     "output_type": "stream",
     "text": [
      "{'val_loss': 1.6967573264023152, 'val_accuracy': 0.5777439024390244, 'precision': 0.566600506686607, 'recall': 0.5777439024390244, 'f1-score': 0.5494131473696301, 'macro_f1-score': 0.32991855891648886, 'balanced_accuracy': 0.3565551747139897, 'mcc': 0.4200874545263111, 'train_loss': 0.9425075044803446}\n",
      "Epoch 4/20\n"
     ]
    },
    {
     "name": "stderr",
     "output_type": "stream",
     "text": [
      "100%|██████████| 716/716 [01:05<00:00, 10.88it/s]\n"
     ]
    },
    {
     "name": "stdout",
     "output_type": "stream",
     "text": [
      "{'val_loss': 1.6259109119816524, 'val_accuracy': 0.6135670731707317, 'precision': 0.6062298621766072, 'recall': 0.6135670731707317, 'f1-score': 0.5951229179000728, 'macro_f1-score': 0.3912410569195693, 'balanced_accuracy': 0.41571156005940363, 'mcc': 0.48055488702041416, 'train_loss': 0.7361696991424321}\n",
      "Epoch 5/20\n"
     ]
    },
    {
     "name": "stderr",
     "output_type": "stream",
     "text": [
      "100%|██████████| 716/716 [01:05<00:00, 10.89it/s]\n"
     ]
    },
    {
     "name": "stdout",
     "output_type": "stream",
     "text": [
      "{'val_loss': 1.8804009694878647, 'val_accuracy': 0.5594512195121951, 'precision': 0.6093613263446568, 'recall': 0.5594512195121951, 'f1-score': 0.5703902637177745, 'macro_f1-score': 0.3700947285629703, 'balanced_accuracy': 0.4237544452266622, 'mcc': 0.4493957586412556, 'train_loss': 0.5481871553493778}\n",
      "Epoch 6/20\n"
     ]
    },
    {
     "name": "stderr",
     "output_type": "stream",
     "text": [
      "100%|██████████| 716/716 [01:05<00:00, 10.88it/s]\n"
     ]
    },
    {
     "name": "stdout",
     "output_type": "stream",
     "text": [
      "{'val_loss': 1.8032498592283668, 'val_accuracy': 0.6158536585365854, 'precision': 0.6329384926778282, 'recall': 0.6158536585365854, 'f1-score': 0.605691867596392, 'macro_f1-score': 0.3971552556220443, 'balanced_accuracy': 0.39505852553287896, 'mcc': 0.48621962103856164, 'train_loss': 0.49278338201989175}\n",
      "Epoch 7/20\n"
     ]
    },
    {
     "name": "stderr",
     "output_type": "stream",
     "text": [
      "100%|██████████| 716/716 [01:05<00:00, 10.88it/s]\n"
     ]
    },
    {
     "name": "stdout",
     "output_type": "stream",
     "text": [
      "{'val_loss': 1.8072697687439803, 'val_accuracy': 0.5785060975609756, 'precision': 0.6035046207976991, 'recall': 0.5785060975609756, 'f1-score': 0.5799904226030497, 'macro_f1-score': 0.35796912927112184, 'balanced_accuracy': 0.39989355099932, 'mcc': 0.45199264914281884, 'train_loss': 0.36857810222632226}\n",
      "Epoch 8/20\n"
     ]
    },
    {
     "name": "stderr",
     "output_type": "stream",
     "text": [
      "100%|██████████| 716/716 [01:05<00:00, 10.88it/s]\n"
     ]
    },
    {
     "name": "stdout",
     "output_type": "stream",
     "text": [
      "{'val_loss': 1.8416409419804085, 'val_accuracy': 0.5975609756097561, 'precision': 0.6290580014642864, 'recall': 0.5975609756097561, 'f1-score': 0.6001444845829951, 'macro_f1-score': 0.38779491383191855, 'balanced_accuracy': 0.41020937629967485, 'mcc': 0.4884765770546328, 'train_loss': 0.312993886594416}\n",
      "Epoch 9/20\n"
     ]
    },
    {
     "name": "stderr",
     "output_type": "stream",
     "text": [
      "100%|██████████| 716/716 [01:05<00:00, 10.89it/s]\n"
     ]
    },
    {
     "name": "stdout",
     "output_type": "stream",
     "text": [
      "{'val_loss': 1.858743379392275, 'val_accuracy': 0.6097560975609756, 'precision': 0.6093225148841722, 'recall': 0.6097560975609756, 'f1-score': 0.5983746618439768, 'macro_f1-score': 0.4020945453573748, 'balanced_accuracy': 0.4236473334093535, 'mcc': 0.4817493893037697, 'train_loss': 0.27645049425227014}\n",
      "Epoch 10/20\n"
     ]
    },
    {
     "name": "stderr",
     "output_type": "stream",
     "text": [
      "100%|██████████| 716/716 [01:05<00:00, 10.90it/s]\n"
     ]
    },
    {
     "name": "stdout",
     "output_type": "stream",
     "text": [
      "{'val_loss': 1.9482009810645406, 'val_accuracy': 0.5967987804878049, 'precision': 0.6022744852298083, 'recall': 0.5967987804878049, 'f1-score': 0.5843505477192659, 'macro_f1-score': 0.36108487040653586, 'balanced_accuracy': 0.38702145960490403, 'mcc': 0.46558902080220627, 'train_loss': 0.24937426653825912}\n",
      "Epoch 11/20\n"
     ]
    },
    {
     "name": "stderr",
     "output_type": "stream",
     "text": [
      "100%|██████████| 716/716 [01:05<00:00, 10.87it/s]\n"
     ]
    },
    {
     "name": "stdout",
     "output_type": "stream",
     "text": [
      "{'val_loss': 1.9799718440669338, 'val_accuracy': 0.604420731707317, 'precision': 0.604709689390114, 'recall': 0.604420731707317, 'f1-score': 0.5978413233562504, 'macro_f1-score': 0.3782680306778185, 'balanced_accuracy': 0.4003220605844085, 'mcc': 0.4811085528344674, 'train_loss': 0.25400247257437}\n",
      "Epoch 12/20\n"
     ]
    },
    {
     "name": "stderr",
     "output_type": "stream",
     "text": [
      "100%|██████████| 716/716 [01:05<00:00, 10.88it/s]\n"
     ]
    },
    {
     "name": "stdout",
     "output_type": "stream",
     "text": [
      "{'val_loss': 2.1083975427034423, 'val_accuracy': 0.600609756097561, 'precision': 0.6122500502212933, 'recall': 0.600609756097561, 'f1-score': 0.5979479382968219, 'macro_f1-score': 0.391405992349174, 'balanced_accuracy': 0.4255549264404846, 'mcc': 0.4773641671774101, 'train_loss': 0.20829648193617106}\n",
      "Early stopping.\n",
      "\n",
      "[Fold 2]\n",
      "Label distribution after resampling:\n",
      "  label 0: 2000\n",
      "  label 1: 200\n",
      "  label 2: 200\n",
      "  label 3: 200\n",
      "  label 4: 200\n",
      "  label 5: 200\n",
      "  label 6: 200\n",
      "  label 7: 200\n",
      "  label 8: 200\n",
      "  label 9: 200\n",
      "  label 10: 200\n",
      "  label 11: 200\n",
      "  label 12: 200\n",
      "  label 13: 200\n",
      "  label 14: 200\n",
      "  label 15: 200\n",
      "  label 16: 200\n",
      "  label 17: 200\n",
      "  label 18: 200\n",
      "  label 19: 200\n",
      "  label 20: 200\n",
      "  label 21: 200\n",
      "  label 22: 200\n",
      "  label 23: 200\n",
      "  label 24: 200\n",
      "  label 25: 200\n",
      "  label 26: 200\n",
      "  label 27: 200\n",
      "  label 28: 200\n",
      "  label 29: 200\n",
      "  label 30: 200\n",
      "  label 31: 200\n",
      "  label 32: 200\n",
      "  label 33: 200\n",
      "  label 34: 200\n",
      "  label 35: 200\n",
      "  label 36: 200\n",
      "  label 37: 200\n",
      "  label 38: 200\n",
      "  label 39: 200\n",
      "  label 40: 200\n",
      "  label 41: 200\n",
      "  label 42: 200\n",
      "  label 43: 200\n",
      "  label 44: 200\n",
      "  label 45: 242\n",
      "  label 46: 200\n",
      "  label 47: 200\n",
      "model is roberta-base lstm\n"
     ]
    },
    {
     "name": "stderr",
     "output_type": "stream",
     "text": [
      "Some weights of RobertaModel were not initialized from the model checkpoint at roberta-base and are newly initialized: ['pooler.dense.bias', 'pooler.dense.weight']\n",
      "You should probably TRAIN this model on a down-stream task to be able to use it for predictions and inference.\n"
     ]
    },
    {
     "name": "stdout",
     "output_type": "stream",
     "text": [
      "Epoch 1/20\n"
     ]
    },
    {
     "name": "stderr",
     "output_type": "stream",
     "text": [
      "100%|██████████| 716/716 [01:05<00:00, 10.88it/s]\n"
     ]
    },
    {
     "name": "stdout",
     "output_type": "stream",
     "text": [
      "{'val_loss': 1.984583293519369, 'val_accuracy': 0.4797864225781846, 'precision': 0.5666995240995986, 'recall': 0.4797864225781846, 'f1-score': 0.48077403209837305, 'macro_f1-score': 0.2102795851028053, 'balanced_accuracy': 0.3131040009608908, 'mcc': 0.342928290662753, 'train_loss': 2.715458098237075}\n",
      "Epoch 2/20\n"
     ]
    },
    {
     "name": "stderr",
     "output_type": "stream",
     "text": [
      "100%|██████████| 716/716 [01:05<00:00, 10.89it/s]\n"
     ]
    },
    {
     "name": "stdout",
     "output_type": "stream",
     "text": [
      "{'val_loss': 1.616859329909813, 'val_accuracy': 0.5736079328756675, 'precision': 0.6219293849093998, 'recall': 0.5736079328756675, 'f1-score': 0.5610878536419744, 'macro_f1-score': 0.31101661341884346, 'balanced_accuracy': 0.3881955916036433, 'mcc': 0.4389436783814379, 'train_loss': 1.4014706351071096}\n",
      "Epoch 3/20\n"
     ]
    },
    {
     "name": "stderr",
     "output_type": "stream",
     "text": [
      "100%|██████████| 716/716 [01:05<00:00, 10.91it/s]\n"
     ]
    },
    {
     "name": "stdout",
     "output_type": "stream",
     "text": [
      "{'val_loss': 1.6557845124384252, 'val_accuracy': 0.543859649122807, 'precision': 0.6216314697180956, 'recall': 0.543859649122807, 'f1-score': 0.5627368337797348, 'macro_f1-score': 0.347362068789889, 'balanced_accuracy': 0.4321080453752435, 'mcc': 0.44279599243437806, 'train_loss': 0.8922630849830265}\n",
      "Epoch 4/20\n"
     ]
    },
    {
     "name": "stderr",
     "output_type": "stream",
     "text": [
      "100%|██████████| 716/716 [01:05<00:00, 10.85it/s]\n"
     ]
    },
    {
     "name": "stdout",
     "output_type": "stream",
     "text": [
      "{'val_loss': 1.6139447063934513, 'val_accuracy': 0.5964912280701754, 'precision': 0.6065231073959944, 'recall': 0.5964912280701754, 'f1-score': 0.5850801818928564, 'macro_f1-score': 0.3407811644591688, 'balanced_accuracy': 0.3794428887216654, 'mcc': 0.46364465305958924, 'train_loss': 0.6682964000621987}\n",
      "Epoch 5/20\n"
     ]
    },
    {
     "name": "stderr",
     "output_type": "stream",
     "text": [
      "100%|██████████| 716/716 [01:05<00:00, 10.88it/s]\n"
     ]
    },
    {
     "name": "stdout",
     "output_type": "stream",
     "text": [
      "{'val_loss': 1.5789576972403176, 'val_accuracy': 0.5964912280701754, 'precision': 0.6188921065378221, 'recall': 0.5964912280701754, 'f1-score': 0.5982203270393677, 'macro_f1-score': 0.3632314114679602, 'balanced_accuracy': 0.3898431924959948, 'mcc': 0.4758233339077857, 'train_loss': 0.5194544294073803}\n",
      "Epoch 6/20\n"
     ]
    },
    {
     "name": "stderr",
     "output_type": "stream",
     "text": [
      "100%|██████████| 716/716 [01:05<00:00, 10.89it/s]\n"
     ]
    },
    {
     "name": "stdout",
     "output_type": "stream",
     "text": [
      "{'val_loss': 1.6141258841607629, 'val_accuracy': 0.6170861937452327, 'precision': 0.6234069382534189, 'recall': 0.6170861937452327, 'f1-score': 0.6089365751149176, 'macro_f1-score': 0.37433536749860835, 'balanced_accuracy': 0.4040465635845252, 'mcc': 0.49395576005520864, 'train_loss': 0.441910460799433}\n",
      "Epoch 7/20\n"
     ]
    },
    {
     "name": "stderr",
     "output_type": "stream",
     "text": [
      "100%|██████████| 716/716 [01:05<00:00, 10.89it/s]\n"
     ]
    },
    {
     "name": "stdout",
     "output_type": "stream",
     "text": [
      "{'val_loss': 1.6186901091075525, 'val_accuracy': 0.6292906178489702, 'precision': 0.6316220613300454, 'recall': 0.6292906178489702, 'f1-score': 0.6224390352695458, 'macro_f1-score': 0.391029128127441, 'balanced_accuracy': 0.4040783723212251, 'mcc': 0.5106005442115037, 'train_loss': 0.3407425825021037}\n",
      "Epoch 8/20\n"
     ]
    },
    {
     "name": "stderr",
     "output_type": "stream",
     "text": [
      "100%|██████████| 716/716 [01:05<00:00, 10.89it/s]\n"
     ]
    },
    {
     "name": "stdout",
     "output_type": "stream",
     "text": [
      "{'val_loss': 1.7971816615360539, 'val_accuracy': 0.5995423340961098, 'precision': 0.6237164360354018, 'recall': 0.5995423340961098, 'f1-score': 0.6019589504422387, 'macro_f1-score': 0.3744257741832185, 'balanced_accuracy': 0.39634751038059357, 'mcc': 0.491507823370353, 'train_loss': 0.2739571551141959}\n",
      "Epoch 9/20\n"
     ]
    },
    {
     "name": "stderr",
     "output_type": "stream",
     "text": [
      "100%|██████████| 716/716 [01:05<00:00, 10.87it/s]\n"
     ]
    },
    {
     "name": "stdout",
     "output_type": "stream",
     "text": [
      "{'val_loss': 1.7879211422873706, 'val_accuracy': 0.597254004576659, 'precision': 0.6281672881747823, 'recall': 0.597254004576659, 'f1-score': 0.6031419174425494, 'macro_f1-score': 0.36685602045546545, 'balanced_accuracy': 0.3954449862134612, 'mcc': 0.49217682875084107, 'train_loss': 0.2709378714792888}\n",
      "Epoch 10/20\n"
     ]
    },
    {
     "name": "stderr",
     "output_type": "stream",
     "text": [
      "100%|██████████| 716/716 [01:05<00:00, 10.88it/s]\n"
     ]
    },
    {
     "name": "stdout",
     "output_type": "stream",
     "text": [
      "{'val_loss': 1.7857284287853938, 'val_accuracy': 0.6376811594202898, 'precision': 0.637844986519627, 'recall': 0.6376811594202898, 'f1-score': 0.6299810418734646, 'macro_f1-score': 0.3914760310365324, 'balanced_accuracy': 0.4030719678428006, 'mcc': 0.5241721156938899, 'train_loss': 0.21669805878070938}\n",
      "Epoch 11/20\n"
     ]
    },
    {
     "name": "stderr",
     "output_type": "stream",
     "text": [
      "100%|██████████| 716/716 [01:05<00:00, 10.88it/s]\n"
     ]
    },
    {
     "name": "stdout",
     "output_type": "stream",
     "text": [
      "{'val_loss': 1.983544607351466, 'val_accuracy': 0.5614035087719298, 'precision': 0.634149864971978, 'recall': 0.5614035087719298, 'f1-score': 0.5807147814016506, 'macro_f1-score': 0.33913609364458813, 'balanced_accuracy': 0.37535259056659115, 'mcc': 0.45846435597247465, 'train_loss': 0.20727970940190987}\n",
      "Epoch 12/20\n"
     ]
    },
    {
     "name": "stderr",
     "output_type": "stream",
     "text": [
      "100%|██████████| 716/716 [01:05<00:00, 10.89it/s]\n"
     ]
    },
    {
     "name": "stdout",
     "output_type": "stream",
     "text": [
      "{'val_loss': 2.100511050805813, 'val_accuracy': 0.5804729214340199, 'precision': 0.6226362159503759, 'recall': 0.5804729214340199, 'f1-score': 0.5865163069236057, 'macro_f1-score': 0.35056274287851014, 'balanced_accuracy': 0.3794835137107649, 'mcc': 0.4694467268801193, 'train_loss': 0.19413031031138278}\n",
      "Epoch 13/20\n"
     ]
    },
    {
     "name": "stderr",
     "output_type": "stream",
     "text": [
      "100%|██████████| 716/716 [01:05<00:00, 10.89it/s]\n"
     ]
    },
    {
     "name": "stdout",
     "output_type": "stream",
     "text": [
      "{'val_loss': 1.9029046304342223, 'val_accuracy': 0.6399694889397407, 'precision': 0.6359469999370448, 'recall': 0.6399694889397407, 'f1-score': 0.6286859888155274, 'macro_f1-score': 0.38554013790123615, 'balanced_accuracy': 0.3802163812004187, 'mcc': 0.5196626804512107, 'train_loss': 0.16455444175029413}\n",
      "Early stopping.\n",
      "\n",
      "[Fold 3]\n",
      "Label distribution after resampling:\n",
      "  label 0: 2000\n",
      "  label 1: 200\n",
      "  label 2: 200\n",
      "  label 3: 200\n",
      "  label 4: 200\n",
      "  label 5: 200\n",
      "  label 6: 200\n",
      "  label 7: 200\n",
      "  label 8: 200\n",
      "  label 9: 200\n",
      "  label 10: 200\n",
      "  label 11: 200\n",
      "  label 12: 200\n",
      "  label 13: 200\n",
      "  label 14: 200\n",
      "  label 15: 200\n",
      "  label 16: 200\n",
      "  label 17: 200\n",
      "  label 18: 200\n",
      "  label 19: 200\n",
      "  label 20: 200\n",
      "  label 21: 200\n",
      "  label 22: 200\n",
      "  label 23: 200\n",
      "  label 24: 200\n",
      "  label 25: 200\n",
      "  label 26: 200\n",
      "  label 27: 200\n",
      "  label 28: 200\n",
      "  label 29: 200\n",
      "  label 30: 200\n",
      "  label 31: 200\n",
      "  label 32: 200\n",
      "  label 33: 200\n",
      "  label 34: 200\n",
      "  label 35: 200\n",
      "  label 36: 200\n",
      "  label 37: 200\n",
      "  label 38: 200\n",
      "  label 39: 200\n",
      "  label 40: 200\n",
      "  label 41: 200\n",
      "  label 42: 200\n",
      "  label 43: 200\n",
      "  label 44: 200\n",
      "  label 45: 241\n",
      "  label 46: 200\n",
      "  label 47: 200\n",
      "model is roberta-base lstm\n"
     ]
    },
    {
     "name": "stderr",
     "output_type": "stream",
     "text": [
      "Some weights of RobertaModel were not initialized from the model checkpoint at roberta-base and are newly initialized: ['pooler.dense.bias', 'pooler.dense.weight']\n",
      "You should probably TRAIN this model on a down-stream task to be able to use it for predictions and inference.\n"
     ]
    },
    {
     "name": "stdout",
     "output_type": "stream",
     "text": [
      "Epoch 1/20\n"
     ]
    },
    {
     "name": "stderr",
     "output_type": "stream",
     "text": [
      "100%|██████████| 716/716 [01:05<00:00, 10.87it/s]\n"
     ]
    },
    {
     "name": "stdout",
     "output_type": "stream",
     "text": [
      "{'val_loss': 2.028738490691999, 'val_accuracy': 0.4774980930587338, 'precision': 0.5394456228903476, 'recall': 0.4774980930587338, 'f1-score': 0.4552154217066863, 'macro_f1-score': 0.18684554870504053, 'balanced_accuracy': 0.26621501511220147, 'mcc': 0.3092635085027742, 'train_loss': 2.83436366272622}\n",
      "Epoch 2/20\n"
     ]
    },
    {
     "name": "stderr",
     "output_type": "stream",
     "text": [
      "100%|██████████| 716/716 [01:05<00:00, 10.86it/s]\n"
     ]
    },
    {
     "name": "stdout",
     "output_type": "stream",
     "text": [
      "{'val_loss': 1.7957415417200182, 'val_accuracy': 0.5217391304347826, 'precision': 0.5196580501964856, 'recall': 0.5217391304347826, 'f1-score': 0.504200104291968, 'macro_f1-score': 0.2702371092656349, 'balanced_accuracy': 0.3434802818006419, 'mcc': 0.3659234036683003, 'train_loss': 1.5134533646219936}\n",
      "Epoch 3/20\n"
     ]
    },
    {
     "name": "stderr",
     "output_type": "stream",
     "text": [
      "100%|██████████| 716/716 [01:05<00:00, 10.88it/s]\n"
     ]
    },
    {
     "name": "stdout",
     "output_type": "stream",
     "text": [
      "{'val_loss': 1.688591018682573, 'val_accuracy': 0.5789473684210527, 'precision': 0.6042148281052626, 'recall': 0.5789473684210527, 'f1-score': 0.5705743889636248, 'macro_f1-score': 0.3596175816405098, 'balanced_accuracy': 0.38911223418087854, 'mcc': 0.4456681477451597, 'train_loss': 0.9838654992467198}\n",
      "Epoch 4/20\n"
     ]
    },
    {
     "name": "stderr",
     "output_type": "stream",
     "text": [
      "100%|██████████| 716/716 [01:05<00:00, 10.89it/s]\n"
     ]
    },
    {
     "name": "stdout",
     "output_type": "stream",
     "text": [
      "{'val_loss': 1.6812443809538353, 'val_accuracy': 0.566742944317315, 'precision': 0.5960935923813825, 'recall': 0.566742944317315, 'f1-score': 0.5697596773097384, 'macro_f1-score': 0.33589616672020517, 'balanced_accuracy': 0.3739031853066268, 'mcc': 0.44207322815138855, 'train_loss': 0.690215425035141}\n",
      "Epoch 5/20\n"
     ]
    },
    {
     "name": "stderr",
     "output_type": "stream",
     "text": [
      "100%|██████████| 716/716 [01:05<00:00, 10.88it/s]\n"
     ]
    },
    {
     "name": "stdout",
     "output_type": "stream",
     "text": [
      "{'val_loss': 1.7852294913879254, 'val_accuracy': 0.5614035087719298, 'precision': 0.6147619254449216, 'recall': 0.5614035087719298, 'f1-score': 0.5758968212900976, 'macro_f1-score': 0.3500368438312642, 'balanced_accuracy': 0.3662871956858169, 'mcc': 0.44805908582885, 'train_loss': 0.5448660676123044}\n",
      "Epoch 6/20\n"
     ]
    },
    {
     "name": "stderr",
     "output_type": "stream",
     "text": [
      "100%|██████████| 716/716 [01:05<00:00, 10.89it/s]\n"
     ]
    },
    {
     "name": "stdout",
     "output_type": "stream",
     "text": [
      "{'val_loss': 1.8422945418008945, 'val_accuracy': 0.5408085430968727, 'precision': 0.5973417359542205, 'recall': 0.5408085430968727, 'f1-score': 0.558453734163785, 'macro_f1-score': 0.34579778744588613, 'balanced_accuracy': 0.371656635215948, 'mcc': 0.4263369098491653, 'train_loss': 0.49250049403655294}\n",
      "Early stopping.\n",
      "\n",
      "[Fold 4]\n",
      "Label distribution after resampling:\n",
      "  label 0: 2000\n",
      "  label 1: 200\n",
      "  label 2: 200\n",
      "  label 3: 200\n",
      "  label 4: 200\n",
      "  label 5: 200\n",
      "  label 6: 200\n",
      "  label 7: 200\n",
      "  label 8: 200\n",
      "  label 9: 200\n",
      "  label 10: 200\n",
      "  label 11: 200\n",
      "  label 12: 200\n",
      "  label 13: 200\n",
      "  label 14: 200\n",
      "  label 15: 200\n",
      "  label 16: 200\n",
      "  label 17: 200\n",
      "  label 18: 200\n",
      "  label 19: 200\n",
      "  label 20: 200\n",
      "  label 21: 200\n",
      "  label 22: 200\n",
      "  label 23: 200\n",
      "  label 24: 200\n",
      "  label 25: 200\n",
      "  label 26: 200\n",
      "  label 27: 200\n",
      "  label 28: 200\n",
      "  label 29: 200\n",
      "  label 30: 200\n",
      "  label 31: 200\n",
      "  label 32: 200\n",
      "  label 33: 200\n",
      "  label 34: 200\n",
      "  label 35: 200\n",
      "  label 36: 200\n",
      "  label 37: 200\n",
      "  label 38: 200\n",
      "  label 39: 200\n",
      "  label 40: 200\n",
      "  label 41: 200\n",
      "  label 42: 200\n",
      "  label 43: 200\n",
      "  label 44: 200\n",
      "  label 45: 241\n",
      "  label 46: 200\n",
      "  label 47: 200\n",
      "model is roberta-base lstm\n"
     ]
    },
    {
     "name": "stderr",
     "output_type": "stream",
     "text": [
      "Some weights of RobertaModel were not initialized from the model checkpoint at roberta-base and are newly initialized: ['pooler.dense.bias', 'pooler.dense.weight']\n",
      "You should probably TRAIN this model on a down-stream task to be able to use it for predictions and inference.\n"
     ]
    },
    {
     "name": "stdout",
     "output_type": "stream",
     "text": [
      "Epoch 1/20\n"
     ]
    },
    {
     "name": "stderr",
     "output_type": "stream",
     "text": [
      "100%|██████████| 716/716 [01:05<00:00, 10.87it/s]\n"
     ]
    },
    {
     "name": "stdout",
     "output_type": "stream",
     "text": [
      "{'val_loss': 2.9530399339955027, 'val_accuracy': 0.47139588100686497, 'precision': 0.2222140766302384, 'recall': 0.47139588100686497, 'f1-score': 0.302045261236125, 'macro_f1-score': 0.01334888543286677, 'balanced_accuracy': 0.020833333333333332, 'mcc': 0.0, 'train_loss': 3.613500661357155}\n",
      "Epoch 2/20\n"
     ]
    },
    {
     "name": "stderr",
     "output_type": "stream",
     "text": [
      "100%|██████████| 716/716 [01:05<00:00, 10.88it/s]\n"
     ]
    },
    {
     "name": "stdout",
     "output_type": "stream",
     "text": [
      "{'val_loss': 2.954140610811187, 'val_accuracy': 0.47139588100686497, 'precision': 0.2222140766302384, 'recall': 0.47139588100686497, 'f1-score': 0.302045261236125, 'macro_f1-score': 0.01334888543286677, 'balanced_accuracy': 0.020833333333333332, 'mcc': 0.0, 'train_loss': 3.656480146519965}\n",
      "Epoch 3/20\n"
     ]
    },
    {
     "name": "stderr",
     "output_type": "stream",
     "text": [
      "100%|██████████| 716/716 [01:05<00:00, 10.90it/s]\n"
     ]
    },
    {
     "name": "stdout",
     "output_type": "stream",
     "text": [
      "{'val_loss': 2.963380150678681, 'val_accuracy': 0.4652936689549962, 'precision': 0.251182191180613, 'recall': 0.4652936689549962, 'f1-score': 0.3250251352132082, 'macro_f1-score': 0.01611457813786196, 'balanced_accuracy': 0.04112729234088457, 'mcc': 0.1356145144163695, 'train_loss': 3.6357106133546244}\n",
      "Epoch 4/20\n"
     ]
    },
    {
     "name": "stderr",
     "output_type": "stream",
     "text": [
      "100%|██████████| 716/716 [01:05<00:00, 10.89it/s]\n"
     ]
    },
    {
     "name": "stdout",
     "output_type": "stream",
     "text": [
      "{'val_loss': 2.93354310931229, 'val_accuracy': 0.47139588100686497, 'precision': 0.2222140766302384, 'recall': 0.47139588100686497, 'f1-score': 0.302045261236125, 'macro_f1-score': 0.01334888543286677, 'balanced_accuracy': 0.020833333333333332, 'mcc': 0.0, 'train_loss': 3.653085062290703}\n",
      "Epoch 5/20\n"
     ]
    },
    {
     "name": "stderr",
     "output_type": "stream",
     "text": [
      "100%|██████████| 716/716 [01:05<00:00, 10.90it/s]\n"
     ]
    },
    {
     "name": "stdout",
     "output_type": "stream",
     "text": [
      "{'val_loss': 3.0053156498001843, 'val_accuracy': 0.47139588100686497, 'precision': 0.2222140766302384, 'recall': 0.47139588100686497, 'f1-score': 0.302045261236125, 'macro_f1-score': 0.01334888543286677, 'balanced_accuracy': 0.020833333333333332, 'mcc': 0.0, 'train_loss': 3.648833470637572}\n",
      "Epoch 6/20\n"
     ]
    },
    {
     "name": "stderr",
     "output_type": "stream",
     "text": [
      "100%|██████████| 716/716 [01:05<00:00, 10.86it/s]\n"
     ]
    },
    {
     "name": "stdout",
     "output_type": "stream",
     "text": [
      "{'val_loss': 2.994906155074515, 'val_accuracy': 0.47139588100686497, 'precision': 0.2222140766302384, 'recall': 0.47139588100686497, 'f1-score': 0.302045261236125, 'macro_f1-score': 0.01334888543286677, 'balanced_accuracy': 0.020833333333333332, 'mcc': 0.0, 'train_loss': 3.651929933265601}\n",
      "Early stopping.\n",
      "\n",
      "[Fold 5]\n",
      "Label distribution after resampling:\n",
      "  label 0: 2000\n",
      "  label 1: 200\n",
      "  label 2: 200\n",
      "  label 3: 200\n",
      "  label 4: 200\n",
      "  label 5: 200\n",
      "  label 6: 200\n",
      "  label 7: 200\n",
      "  label 8: 200\n",
      "  label 9: 200\n",
      "  label 10: 200\n",
      "  label 11: 200\n",
      "  label 12: 200\n",
      "  label 13: 200\n",
      "  label 14: 200\n",
      "  label 15: 200\n",
      "  label 16: 200\n",
      "  label 17: 200\n",
      "  label 18: 200\n",
      "  label 19: 200\n",
      "  label 20: 200\n",
      "  label 21: 200\n",
      "  label 22: 200\n",
      "  label 23: 200\n",
      "  label 24: 200\n",
      "  label 25: 200\n",
      "  label 26: 200\n",
      "  label 27: 200\n",
      "  label 28: 200\n",
      "  label 29: 200\n",
      "  label 30: 200\n",
      "  label 31: 200\n",
      "  label 32: 200\n",
      "  label 33: 200\n",
      "  label 34: 200\n",
      "  label 35: 200\n",
      "  label 36: 200\n",
      "  label 37: 200\n",
      "  label 38: 200\n",
      "  label 39: 200\n",
      "  label 40: 200\n",
      "  label 41: 200\n",
      "  label 42: 200\n",
      "  label 43: 200\n",
      "  label 44: 200\n",
      "  label 45: 242\n",
      "  label 46: 200\n",
      "  label 47: 200\n",
      "model is roberta-base lstm\n"
     ]
    },
    {
     "name": "stderr",
     "output_type": "stream",
     "text": [
      "Some weights of RobertaModel were not initialized from the model checkpoint at roberta-base and are newly initialized: ['pooler.dense.bias', 'pooler.dense.weight']\n",
      "You should probably TRAIN this model on a down-stream task to be able to use it for predictions and inference.\n"
     ]
    },
    {
     "name": "stdout",
     "output_type": "stream",
     "text": [
      "Epoch 1/20\n"
     ]
    },
    {
     "name": "stderr",
     "output_type": "stream",
     "text": [
      "100%|██████████| 716/716 [01:05<00:00, 10.87it/s]\n"
     ]
    },
    {
     "name": "stdout",
     "output_type": "stream",
     "text": [
      "{'val_loss': 1.9482075164957744, 'val_accuracy': 0.4431731502669718, 'precision': 0.4641614808782072, 'recall': 0.4431731502669718, 'f1-score': 0.4139194866218945, 'macro_f1-score': 0.15824986945098896, 'balanced_accuracy': 0.277922766793443, 'mcc': 0.2801492638919375, 'train_loss': 2.8769784646327268}\n",
      "Epoch 2/20\n"
     ]
    },
    {
     "name": "stderr",
     "output_type": "stream",
     "text": [
      "100%|██████████| 716/716 [01:05<00:00, 10.88it/s]\n"
     ]
    },
    {
     "name": "stdout",
     "output_type": "stream",
     "text": [
      "{'val_loss': 1.812338642230848, 'val_accuracy': 0.5049580472921434, 'precision': 0.5871194949549365, 'recall': 0.5049580472921434, 'f1-score': 0.5080546269386723, 'macro_f1-score': 0.2871158193231007, 'balanced_accuracy': 0.3880867224062257, 'mcc': 0.37945565743127474, 'train_loss': 1.5770206542987397}\n",
      "Epoch 3/20\n"
     ]
    },
    {
     "name": "stderr",
     "output_type": "stream",
     "text": [
      "100%|██████████| 716/716 [01:05<00:00, 10.90it/s]\n"
     ]
    },
    {
     "name": "stdout",
     "output_type": "stream",
     "text": [
      "{'val_loss': 1.8233832775092707, 'val_accuracy': 0.5354691075514875, 'precision': 0.609224231019678, 'recall': 0.5354691075514875, 'f1-score': 0.5516762581469232, 'macro_f1-score': 0.33484643266415665, 'balanced_accuracy': 0.388775024105586, 'mcc': 0.42960352149475883, 'train_loss': 1.002258519636852}\n",
      "Epoch 4/20\n"
     ]
    },
    {
     "name": "stderr",
     "output_type": "stream",
     "text": [
      "100%|██████████| 716/716 [01:05<00:00, 10.90it/s]\n"
     ]
    },
    {
     "name": "stdout",
     "output_type": "stream",
     "text": [
      "{'val_loss': 1.5676036586121815, 'val_accuracy': 0.597254004576659, 'precision': 0.6000463985033521, 'recall': 0.597254004576659, 'f1-score': 0.5855805756126052, 'macro_f1-score': 0.3676960239729798, 'balanced_accuracy': 0.3947201529542848, 'mcc': 0.46582935478061577, 'train_loss': 0.7296190534785972}\n",
      "Epoch 5/20\n"
     ]
    },
    {
     "name": "stderr",
     "output_type": "stream",
     "text": [
      "100%|██████████| 716/716 [01:05<00:00, 10.86it/s]\n"
     ]
    },
    {
     "name": "stdout",
     "output_type": "stream",
     "text": [
      "{'val_loss': 1.6665297855691212, 'val_accuracy': 0.6033562166285278, 'precision': 0.6155828324610074, 'recall': 0.6033562166285278, 'f1-score': 0.5953161736336229, 'macro_f1-score': 0.3627723074519152, 'balanced_accuracy': 0.3736843745722955, 'mcc': 0.4754078232829076, 'train_loss': 0.556317297341146}\n",
      "Epoch 6/20\n"
     ]
    },
    {
     "name": "stderr",
     "output_type": "stream",
     "text": [
      "100%|██████████| 716/716 [01:05<00:00, 10.88it/s]\n"
     ]
    },
    {
     "name": "stdout",
     "output_type": "stream",
     "text": [
      "{'val_loss': 1.7175647994367087, 'val_accuracy': 0.5881006864988558, 'precision': 0.6337033172434017, 'recall': 0.5881006864988558, 'f1-score': 0.5959960017988958, 'macro_f1-score': 0.39374108604850716, 'balanced_accuracy': 0.39849879377044467, 'mcc': 0.4805268069492453, 'train_loss': 0.4489126392021026}\n",
      "Epoch 7/20\n"
     ]
    },
    {
     "name": "stderr",
     "output_type": "stream",
     "text": [
      "100%|██████████| 716/716 [01:05<00:00, 10.89it/s]\n"
     ]
    },
    {
     "name": "stdout",
     "output_type": "stream",
     "text": [
      "{'val_loss': 2.018927225979363, 'val_accuracy': 0.5728451563691839, 'precision': 0.6407735893837604, 'recall': 0.5728451563691839, 'f1-score': 0.5924044397445399, 'macro_f1-score': 0.37680457252367533, 'balanced_accuracy': 0.4157636773007403, 'mcc': 0.47724087307072094, 'train_loss': 0.37331162191479983}\n",
      "Epoch 8/20\n"
     ]
    },
    {
     "name": "stderr",
     "output_type": "stream",
     "text": [
      "100%|██████████| 716/716 [01:05<00:00, 10.90it/s]\n"
     ]
    },
    {
     "name": "stdout",
     "output_type": "stream",
     "text": [
      "{'val_loss': 1.789689979175242, 'val_accuracy': 0.6094584286803967, 'precision': 0.6396301827402774, 'recall': 0.6094584286803967, 'f1-score': 0.6142076844257651, 'macro_f1-score': 0.3904755007073497, 'balanced_accuracy': 0.41619512139343856, 'mcc': 0.5048755852045997, 'train_loss': 0.3131910862853782}\n",
      "Epoch 9/20\n"
     ]
    },
    {
     "name": "stderr",
     "output_type": "stream",
     "text": [
      "100%|██████████| 716/716 [01:05<00:00, 10.89it/s]\n"
     ]
    },
    {
     "name": "stdout",
     "output_type": "stream",
     "text": [
      "{'val_loss': 1.813415699979154, 'val_accuracy': 0.6071700991609459, 'precision': 0.6228832262712439, 'recall': 0.6071700991609459, 'f1-score': 0.6060408700985305, 'macro_f1-score': 0.38139051419414166, 'balanced_accuracy': 0.3769002101593621, 'mcc': 0.49767363354237, 'train_loss': 0.2671705371942163}\n",
      "Early stopping.\n",
      "\n",
      " === roberta-base + lstm + ros Final 5-fold Cross-Validation Results ===\n",
      "val_loss: 2.0028\n",
      "val_accuracy: 0.5760\n",
      "precision: 0.5473\n",
      "recall: 0.5760\n",
      "f1-score: 0.5440\n",
      "macro_f1-score: 0.3126\n",
      "balanced_accuracy: 0.3311\n",
      "mcc: 0.4135\n",
      "train_loss: 1.1123\n",
      "total_seconds: 3168.0000\n",
      "total_time: 0 hrs 52 mins 48 secs\n",
      "▶ Running: roberta-base + bilstm + ros\n",
      "tokenizer is roberta-base\n",
      "Using device: cuda\n",
      "CUDA Available: True\n",
      "CUDA Device: NVIDIA GeForce RTX 5070 Ti\n",
      "Current GPU Memory Allocated: 0.02 GB\n",
      "Current GPU Memory Cached: 4.01 GB\n",
      "\n",
      "[Fold 1]\n",
      "Label distribution after resampling:\n",
      "  label 0: 2000\n",
      "  label 1: 200\n",
      "  label 2: 200\n",
      "  label 3: 200\n",
      "  label 4: 200\n",
      "  label 5: 200\n",
      "  label 6: 200\n",
      "  label 7: 200\n",
      "  label 8: 200\n",
      "  label 9: 200\n",
      "  label 10: 200\n",
      "  label 11: 200\n",
      "  label 12: 200\n",
      "  label 13: 200\n",
      "  label 14: 200\n",
      "  label 15: 200\n",
      "  label 16: 200\n",
      "  label 17: 200\n",
      "  label 18: 200\n",
      "  label 19: 200\n",
      "  label 20: 200\n",
      "  label 21: 200\n",
      "  label 22: 200\n",
      "  label 23: 200\n",
      "  label 24: 200\n",
      "  label 25: 200\n",
      "  label 26: 200\n",
      "  label 27: 200\n",
      "  label 28: 200\n",
      "  label 29: 200\n",
      "  label 30: 200\n",
      "  label 31: 200\n",
      "  label 32: 200\n",
      "  label 33: 200\n",
      "  label 34: 200\n",
      "  label 35: 200\n",
      "  label 36: 200\n",
      "  label 37: 200\n",
      "  label 38: 200\n",
      "  label 39: 200\n",
      "  label 40: 200\n",
      "  label 41: 200\n",
      "  label 42: 200\n",
      "  label 43: 200\n",
      "  label 44: 200\n",
      "  label 45: 242\n",
      "  label 46: 200\n",
      "  label 47: 200\n",
      "model is roberta-base bilstm\n"
     ]
    },
    {
     "name": "stderr",
     "output_type": "stream",
     "text": [
      "Some weights of RobertaModel were not initialized from the model checkpoint at roberta-base and are newly initialized: ['pooler.dense.bias', 'pooler.dense.weight']\n",
      "You should probably TRAIN this model on a down-stream task to be able to use it for predictions and inference.\n"
     ]
    },
    {
     "name": "stdout",
     "output_type": "stream",
     "text": [
      "Epoch 1/20\n"
     ]
    },
    {
     "name": "stderr",
     "output_type": "stream",
     "text": [
      "100%|██████████| 716/716 [01:07<00:00, 10.53it/s]\n"
     ]
    },
    {
     "name": "stdout",
     "output_type": "stream",
     "text": [
      "{'val_loss': 1.9930324532636783, 'val_accuracy': 0.47560975609756095, 'precision': 0.5341807837174092, 'recall': 0.47560975609756095, 'f1-score': 0.47244108524956746, 'macro_f1-score': 0.22289595794140493, 'balanced_accuracy': 0.29906020043431875, 'mcc': 0.32732158899438146, 'train_loss': 2.8166483340566386}\n",
      "Epoch 2/20\n"
     ]
    },
    {
     "name": "stderr",
     "output_type": "stream",
     "text": [
      "100%|██████████| 716/716 [01:07<00:00, 10.55it/s]\n"
     ]
    },
    {
     "name": "stdout",
     "output_type": "stream",
     "text": [
      "{'val_loss': 1.5983158375431852, 'val_accuracy': 0.5792682926829268, 'precision': 0.5953057492318827, 'recall': 0.5792682926829268, 'f1-score': 0.5618202771238064, 'macro_f1-score': 0.34936564455578356, 'balanced_accuracy': 0.39410229462055973, 'mcc': 0.4391041600693824, 'train_loss': 1.401000763700661}\n",
      "Epoch 3/20\n"
     ]
    },
    {
     "name": "stderr",
     "output_type": "stream",
     "text": [
      "100%|██████████| 716/716 [01:07<00:00, 10.56it/s]\n"
     ]
    },
    {
     "name": "stdout",
     "output_type": "stream",
     "text": [
      "{'val_loss': 1.5736208205542914, 'val_accuracy': 0.5983231707317073, 'precision': 0.6062935767227547, 'recall': 0.5983231707317073, 'f1-score': 0.5883542249732354, 'macro_f1-score': 0.3884647330822735, 'balanced_accuracy': 0.42254863671274984, 'mcc': 0.4690669348613488, 'train_loss': 0.8220776256028167}\n",
      "Epoch 4/20\n"
     ]
    },
    {
     "name": "stderr",
     "output_type": "stream",
     "text": [
      "100%|██████████| 716/716 [01:07<00:00, 10.57it/s]\n"
     ]
    },
    {
     "name": "stdout",
     "output_type": "stream",
     "text": [
      "{'val_loss': 1.689933114662403, 'val_accuracy': 0.5891768292682927, 'precision': 0.6292066501829481, 'recall': 0.5891768292682927, 'f1-score': 0.593656641474133, 'macro_f1-score': 0.3840443760640937, 'balanced_accuracy': 0.4157072032671399, 'mcc': 0.47551250939163037, 'train_loss': 0.5395516900595423}\n",
      "Epoch 5/20\n"
     ]
    },
    {
     "name": "stderr",
     "output_type": "stream",
     "text": [
      "100%|██████████| 716/716 [01:07<00:00, 10.56it/s]\n"
     ]
    },
    {
     "name": "stdout",
     "output_type": "stream",
     "text": [
      "{'val_loss': 1.7114985617922573, 'val_accuracy': 0.600609756097561, 'precision': 0.6145904791585656, 'recall': 0.600609756097561, 'f1-score': 0.5949126321094559, 'macro_f1-score': 0.3844425563279527, 'balanced_accuracy': 0.3983533999519104, 'mcc': 0.471384461942106, 'train_loss': 0.4089566891877678}\n",
      "Epoch 6/20\n"
     ]
    },
    {
     "name": "stderr",
     "output_type": "stream",
     "text": [
      "100%|██████████| 716/716 [01:07<00:00, 10.55it/s]\n"
     ]
    },
    {
     "name": "stdout",
     "output_type": "stream",
     "text": [
      "{'val_loss': 1.783216143526682, 'val_accuracy': 0.6097560975609756, 'precision': 0.6230256667703603, 'recall': 0.6097560975609756, 'f1-score': 0.6057737894348262, 'macro_f1-score': 0.3854440038963338, 'balanced_accuracy': 0.40304537153890924, 'mcc': 0.48943235620681363, 'train_loss': 0.3127928740402174}\n",
      "Early stopping.\n",
      "\n",
      "[Fold 2]\n",
      "Label distribution after resampling:\n",
      "  label 0: 2000\n",
      "  label 1: 200\n",
      "  label 2: 200\n",
      "  label 3: 200\n",
      "  label 4: 200\n",
      "  label 5: 200\n",
      "  label 6: 200\n",
      "  label 7: 200\n",
      "  label 8: 200\n",
      "  label 9: 200\n",
      "  label 10: 200\n",
      "  label 11: 200\n",
      "  label 12: 200\n",
      "  label 13: 200\n",
      "  label 14: 200\n",
      "  label 15: 200\n",
      "  label 16: 200\n",
      "  label 17: 200\n",
      "  label 18: 200\n",
      "  label 19: 200\n",
      "  label 20: 200\n",
      "  label 21: 200\n",
      "  label 22: 200\n",
      "  label 23: 200\n",
      "  label 24: 200\n",
      "  label 25: 200\n",
      "  label 26: 200\n",
      "  label 27: 200\n",
      "  label 28: 200\n",
      "  label 29: 200\n",
      "  label 30: 200\n",
      "  label 31: 200\n",
      "  label 32: 200\n",
      "  label 33: 200\n",
      "  label 34: 200\n",
      "  label 35: 200\n",
      "  label 36: 200\n",
      "  label 37: 200\n",
      "  label 38: 200\n",
      "  label 39: 200\n",
      "  label 40: 200\n",
      "  label 41: 200\n",
      "  label 42: 200\n",
      "  label 43: 200\n",
      "  label 44: 200\n",
      "  label 45: 242\n",
      "  label 46: 200\n",
      "  label 47: 200\n",
      "model is roberta-base bilstm\n"
     ]
    },
    {
     "name": "stderr",
     "output_type": "stream",
     "text": [
      "Some weights of RobertaModel were not initialized from the model checkpoint at roberta-base and are newly initialized: ['pooler.dense.bias', 'pooler.dense.weight']\n",
      "You should probably TRAIN this model on a down-stream task to be able to use it for predictions and inference.\n"
     ]
    },
    {
     "name": "stdout",
     "output_type": "stream",
     "text": [
      "Epoch 1/20\n"
     ]
    },
    {
     "name": "stderr",
     "output_type": "stream",
     "text": [
      "100%|██████████| 716/716 [01:07<00:00, 10.55it/s]\n"
     ]
    },
    {
     "name": "stdout",
     "output_type": "stream",
     "text": [
      "{'val_loss': 1.9242601292889292, 'val_accuracy': 0.4935163996948894, 'precision': 0.5396274082074533, 'recall': 0.4935163996948894, 'f1-score': 0.4685514771294392, 'macro_f1-score': 0.19448664351351666, 'balanced_accuracy': 0.3065988957169244, 'mcc': 0.3347704639680509, 'train_loss': 2.680450836373441}\n",
      "Epoch 2/20\n"
     ]
    },
    {
     "name": "stderr",
     "output_type": "stream",
     "text": [
      "100%|██████████| 716/716 [01:07<00:00, 10.57it/s]\n"
     ]
    },
    {
     "name": "stdout",
     "output_type": "stream",
     "text": [
      "{'val_loss': 1.843611486801287, 'val_accuracy': 0.4950419527078566, 'precision': 0.6332408286495825, 'recall': 0.4950419527078566, 'f1-score': 0.519641169359297, 'macro_f1-score': 0.29143850120422976, 'balanced_accuracy': 0.3858106324974595, 'mcc': 0.38054888127955333, 'train_loss': 1.4349716261611971}\n",
      "Epoch 3/20\n"
     ]
    },
    {
     "name": "stderr",
     "output_type": "stream",
     "text": [
      "100%|██████████| 716/716 [01:07<00:00, 10.57it/s]\n"
     ]
    },
    {
     "name": "stdout",
     "output_type": "stream",
     "text": [
      "{'val_loss': 1.586247502303705, 'val_accuracy': 0.5995423340961098, 'precision': 0.6118800844777315, 'recall': 0.5995423340961098, 'f1-score': 0.5893897327989998, 'macro_f1-score': 0.3486098633425352, 'balanced_accuracy': 0.39084762910834997, 'mcc': 0.4720550945429563, 'train_loss': 0.9214960494437697}\n",
      "Epoch 4/20\n"
     ]
    },
    {
     "name": "stderr",
     "output_type": "stream",
     "text": [
      "100%|██████████| 716/716 [01:07<00:00, 10.57it/s]\n"
     ]
    },
    {
     "name": "stdout",
     "output_type": "stream",
     "text": [
      "{'val_loss': 1.6694918681935567, 'val_accuracy': 0.5621662852784134, 'precision': 0.5991868354533708, 'recall': 0.5621662852784134, 'f1-score': 0.5706052030707223, 'macro_f1-score': 0.33741240337452605, 'balanced_accuracy': 0.3712960418654194, 'mcc': 0.44680653164789197, 'train_loss': 0.6537543764993465}\n",
      "Epoch 5/20\n"
     ]
    },
    {
     "name": "stderr",
     "output_type": "stream",
     "text": [
      "100%|██████████| 716/716 [01:07<00:00, 10.57it/s]\n"
     ]
    },
    {
     "name": "stdout",
     "output_type": "stream",
     "text": [
      "{'val_loss': 1.6336330066366893, 'val_accuracy': 0.5987795575896262, 'precision': 0.6253441984337961, 'recall': 0.5987795575896262, 'f1-score': 0.6031481458731744, 'macro_f1-score': 0.35039282168145586, 'balanced_accuracy': 0.3597740013002568, 'mcc': 0.4759071783770069, 'train_loss': 0.47910570797598895}\n",
      "Epoch 6/20\n"
     ]
    },
    {
     "name": "stderr",
     "output_type": "stream",
     "text": [
      "100%|██████████| 716/716 [01:07<00:00, 10.53it/s]\n"
     ]
    },
    {
     "name": "stdout",
     "output_type": "stream",
     "text": [
      "{'val_loss': 1.8254975473008506, 'val_accuracy': 0.5781845919145691, 'precision': 0.5895407879744389, 'recall': 0.5781845919145691, 'f1-score': 0.5626071680748899, 'macro_f1-score': 0.32115806535764385, 'balanced_accuracy': 0.3527914494283326, 'mcc': 0.4421880945703402, 'train_loss': 0.4017709127507646}\n",
      "Epoch 7/20\n"
     ]
    },
    {
     "name": "stderr",
     "output_type": "stream",
     "text": [
      "100%|██████████| 716/716 [01:07<00:00, 10.56it/s]\n"
     ]
    },
    {
     "name": "stdout",
     "output_type": "stream",
     "text": [
      "{'val_loss': 1.7192146076661785, 'val_accuracy': 0.6186117467581999, 'precision': 0.6271564096904989, 'recall': 0.6186117467581999, 'f1-score': 0.6152285359441749, 'macro_f1-score': 0.37647016031271213, 'balanced_accuracy': 0.391478765597199, 'mcc': 0.5055188655871095, 'train_loss': 0.35607862929350503}\n",
      "Epoch 8/20\n"
     ]
    },
    {
     "name": "stderr",
     "output_type": "stream",
     "text": [
      "100%|██████████| 716/716 [01:07<00:00, 10.57it/s]\n"
     ]
    },
    {
     "name": "stdout",
     "output_type": "stream",
     "text": [
      "{'val_loss': 1.8067332117295847, 'val_accuracy': 0.6155606407322655, 'precision': 0.6351792423710434, 'recall': 0.6155606407322655, 'f1-score': 0.6162170170976938, 'macro_f1-score': 0.37429352339247196, 'balanced_accuracy': 0.39209410469622535, 'mcc': 0.5038505771471481, 'train_loss': 0.26487318106781294}\n",
      "Epoch 9/20\n"
     ]
    },
    {
     "name": "stderr",
     "output_type": "stream",
     "text": [
      "100%|██████████| 716/716 [01:07<00:00, 10.58it/s]\n"
     ]
    },
    {
     "name": "stdout",
     "output_type": "stream",
     "text": [
      "{'val_loss': 1.8650045387628602, 'val_accuracy': 0.5903890160183066, 'precision': 0.6220581676728001, 'recall': 0.5903890160183066, 'f1-score': 0.5928920683677406, 'macro_f1-score': 0.3606626105998066, 'balanced_accuracy': 0.3872929405358662, 'mcc': 0.47593838819074596, 'train_loss': 0.23511456398751232}\n",
      "Epoch 10/20\n"
     ]
    },
    {
     "name": "stderr",
     "output_type": "stream",
     "text": [
      "100%|██████████| 716/716 [01:07<00:00, 10.57it/s]\n"
     ]
    },
    {
     "name": "stdout",
     "output_type": "stream",
     "text": [
      "{'val_loss': 1.9790446031384352, 'val_accuracy': 0.5751334858886347, 'precision': 0.6415790593065679, 'recall': 0.5751334858886347, 'f1-score': 0.5986448908812048, 'macro_f1-score': 0.3611863845085445, 'balanced_accuracy': 0.3894795093995737, 'mcc': 0.4793243644522576, 'train_loss': 0.22943853866048783}\n",
      "Early stopping.\n",
      "\n",
      "[Fold 3]\n",
      "Label distribution after resampling:\n",
      "  label 0: 2000\n",
      "  label 1: 200\n",
      "  label 2: 200\n",
      "  label 3: 200\n",
      "  label 4: 200\n",
      "  label 5: 200\n",
      "  label 6: 200\n",
      "  label 7: 200\n",
      "  label 8: 200\n",
      "  label 9: 200\n",
      "  label 10: 200\n",
      "  label 11: 200\n",
      "  label 12: 200\n",
      "  label 13: 200\n",
      "  label 14: 200\n",
      "  label 15: 200\n",
      "  label 16: 200\n",
      "  label 17: 200\n",
      "  label 18: 200\n",
      "  label 19: 200\n",
      "  label 20: 200\n",
      "  label 21: 200\n",
      "  label 22: 200\n",
      "  label 23: 200\n",
      "  label 24: 200\n",
      "  label 25: 200\n",
      "  label 26: 200\n",
      "  label 27: 200\n",
      "  label 28: 200\n",
      "  label 29: 200\n",
      "  label 30: 200\n",
      "  label 31: 200\n",
      "  label 32: 200\n",
      "  label 33: 200\n",
      "  label 34: 200\n",
      "  label 35: 200\n",
      "  label 36: 200\n",
      "  label 37: 200\n",
      "  label 38: 200\n",
      "  label 39: 200\n",
      "  label 40: 200\n",
      "  label 41: 200\n",
      "  label 42: 200\n",
      "  label 43: 200\n",
      "  label 44: 200\n",
      "  label 45: 241\n",
      "  label 46: 200\n",
      "  label 47: 200\n",
      "model is roberta-base bilstm\n"
     ]
    },
    {
     "name": "stderr",
     "output_type": "stream",
     "text": [
      "Some weights of RobertaModel were not initialized from the model checkpoint at roberta-base and are newly initialized: ['pooler.dense.bias', 'pooler.dense.weight']\n",
      "You should probably TRAIN this model on a down-stream task to be able to use it for predictions and inference.\n"
     ]
    },
    {
     "name": "stdout",
     "output_type": "stream",
     "text": [
      "Epoch 1/20\n"
     ]
    },
    {
     "name": "stderr",
     "output_type": "stream",
     "text": [
      "100%|██████████| 716/716 [01:07<00:00, 10.56it/s]\n"
     ]
    },
    {
     "name": "stdout",
     "output_type": "stream",
     "text": [
      "{'val_loss': 1.967906661149932, 'val_accuracy': 0.4851258581235698, 'precision': 0.49732505214320166, 'recall': 0.4851258581235698, 'f1-score': 0.46382713749041804, 'macro_f1-score': 0.22234659875551596, 'balanced_accuracy': 0.29795298322351293, 'mcc': 0.31140370565785325, 'train_loss': 2.6740281297174913}\n",
      "Epoch 2/20\n"
     ]
    },
    {
     "name": "stderr",
     "output_type": "stream",
     "text": [
      "100%|██████████| 716/716 [01:07<00:00, 10.57it/s]\n"
     ]
    },
    {
     "name": "stdout",
     "output_type": "stream",
     "text": [
      "{'val_loss': 1.698890694757787, 'val_accuracy': 0.5415713196033562, 'precision': 0.5897866948301554, 'recall': 0.5415713196033562, 'f1-score': 0.5542802557971291, 'macro_f1-score': 0.30283294767869834, 'balanced_accuracy': 0.3400037703792818, 'mcc': 0.41528243217723104, 'train_loss': 1.3130360070470326}\n",
      "Epoch 3/20\n"
     ]
    },
    {
     "name": "stderr",
     "output_type": "stream",
     "text": [
      "100%|██████████| 716/716 [01:07<00:00, 10.57it/s]\n"
     ]
    },
    {
     "name": "stdout",
     "output_type": "stream",
     "text": [
      "{'val_loss': 1.7653304781855605, 'val_accuracy': 0.5446224256292906, 'precision': 0.5774326863210182, 'recall': 0.5446224256292906, 'f1-score': 0.5471458847753992, 'macro_f1-score': 0.31509247161613524, 'balanced_accuracy': 0.35198633595664086, 'mcc': 0.4063928469008597, 'train_loss': 0.8243106665953411}\n",
      "Epoch 4/20\n"
     ]
    },
    {
     "name": "stderr",
     "output_type": "stream",
     "text": [
      "100%|██████████| 716/716 [01:07<00:00, 10.57it/s]\n"
     ]
    },
    {
     "name": "stdout",
     "output_type": "stream",
     "text": [
      "{'val_loss': 1.6853163951053851, 'val_accuracy': 0.5865751334858886, 'precision': 0.6162942491335709, 'recall': 0.5865751334858886, 'f1-score': 0.5906307789691428, 'macro_f1-score': 0.37613650500364476, 'balanced_accuracy': 0.3934696945859355, 'mcc': 0.46492640407071584, 'train_loss': 0.563125916402891}\n",
      "Epoch 5/20\n"
     ]
    },
    {
     "name": "stderr",
     "output_type": "stream",
     "text": [
      "100%|██████████| 716/716 [01:07<00:00, 10.58it/s]\n"
     ]
    },
    {
     "name": "stdout",
     "output_type": "stream",
     "text": [
      "{'val_loss': 1.6637992099290941, 'val_accuracy': 0.6056445461479787, 'precision': 0.5753666055261175, 'recall': 0.6056445461479787, 'f1-score': 0.5780974513355186, 'macro_f1-score': 0.31445416964047473, 'balanced_accuracy': 0.32328660301868056, 'mcc': 0.4629432935032966, 'train_loss': 0.4486367226930793}\n",
      "Epoch 6/20\n"
     ]
    },
    {
     "name": "stderr",
     "output_type": "stream",
     "text": [
      "100%|██████████| 716/716 [01:07<00:00, 10.56it/s]\n"
     ]
    },
    {
     "name": "stdout",
     "output_type": "stream",
     "text": [
      "{'val_loss': 1.8945719795983011, 'val_accuracy': 0.5430968726163234, 'precision': 0.6136684918182806, 'recall': 0.5430968726163234, 'f1-score': 0.5634503460214061, 'macro_f1-score': 0.3204750197484733, 'balanced_accuracy': 0.35592870043264885, 'mcc': 0.4410247370774126, 'train_loss': 0.36857933044829017}\n",
      "Epoch 7/20\n"
     ]
    },
    {
     "name": "stderr",
     "output_type": "stream",
     "text": [
      "100%|██████████| 716/716 [01:07<00:00, 10.56it/s]\n"
     ]
    },
    {
     "name": "stdout",
     "output_type": "stream",
     "text": [
      "{'val_loss': 1.8908146616162322, 'val_accuracy': 0.5873379099923722, 'precision': 0.6164789165696205, 'recall': 0.5873379099923722, 'f1-score': 0.5935238551619639, 'macro_f1-score': 0.3511353304794868, 'balanced_accuracy': 0.3688620806448098, 'mcc': 0.47326167297598043, 'train_loss': 0.2958437154198315}\n",
      "Early stopping.\n",
      "\n",
      "[Fold 4]\n",
      "Label distribution after resampling:\n",
      "  label 0: 2000\n",
      "  label 1: 200\n",
      "  label 2: 200\n",
      "  label 3: 200\n",
      "  label 4: 200\n",
      "  label 5: 200\n",
      "  label 6: 200\n",
      "  label 7: 200\n",
      "  label 8: 200\n",
      "  label 9: 200\n",
      "  label 10: 200\n",
      "  label 11: 200\n",
      "  label 12: 200\n",
      "  label 13: 200\n",
      "  label 14: 200\n",
      "  label 15: 200\n",
      "  label 16: 200\n",
      "  label 17: 200\n",
      "  label 18: 200\n",
      "  label 19: 200\n",
      "  label 20: 200\n",
      "  label 21: 200\n",
      "  label 22: 200\n",
      "  label 23: 200\n",
      "  label 24: 200\n",
      "  label 25: 200\n",
      "  label 26: 200\n",
      "  label 27: 200\n",
      "  label 28: 200\n",
      "  label 29: 200\n",
      "  label 30: 200\n",
      "  label 31: 200\n",
      "  label 32: 200\n",
      "  label 33: 200\n",
      "  label 34: 200\n",
      "  label 35: 200\n",
      "  label 36: 200\n",
      "  label 37: 200\n",
      "  label 38: 200\n",
      "  label 39: 200\n",
      "  label 40: 200\n",
      "  label 41: 200\n",
      "  label 42: 200\n",
      "  label 43: 200\n",
      "  label 44: 200\n",
      "  label 45: 241\n",
      "  label 46: 200\n",
      "  label 47: 200\n",
      "model is roberta-base bilstm\n"
     ]
    },
    {
     "name": "stderr",
     "output_type": "stream",
     "text": [
      "Some weights of RobertaModel were not initialized from the model checkpoint at roberta-base and are newly initialized: ['pooler.dense.bias', 'pooler.dense.weight']\n",
      "You should probably TRAIN this model on a down-stream task to be able to use it for predictions and inference.\n"
     ]
    },
    {
     "name": "stdout",
     "output_type": "stream",
     "text": [
      "Epoch 1/20\n"
     ]
    },
    {
     "name": "stderr",
     "output_type": "stream",
     "text": [
      "100%|██████████| 716/716 [01:07<00:00, 10.57it/s]\n"
     ]
    },
    {
     "name": "stdout",
     "output_type": "stream",
     "text": [
      "{'val_loss': 2.6093192071449467, 'val_accuracy': 0.4424103737604882, 'precision': 0.23984053880906772, 'recall': 0.4424103737604882, 'f1-score': 0.31010573839535943, 'macro_f1-score': 0.015012886793081411, 'balanced_accuracy': 0.03720719679457543, 'mcc': 0.08343427960379604, 'train_loss': 3.5616740064914}\n",
      "Epoch 2/20\n"
     ]
    },
    {
     "name": "stderr",
     "output_type": "stream",
     "text": [
      "100%|██████████| 716/716 [01:07<00:00, 10.56it/s]\n"
     ]
    },
    {
     "name": "stdout",
     "output_type": "stream",
     "text": [
      "{'val_loss': 2.885282512118177, 'val_accuracy': 0.47139588100686497, 'precision': 0.2222140766302384, 'recall': 0.47139588100686497, 'f1-score': 0.302045261236125, 'macro_f1-score': 0.01334888543286677, 'balanced_accuracy': 0.020833333333333332, 'mcc': 0.0, 'train_loss': 3.4338786159147765}\n",
      "Epoch 3/20\n"
     ]
    },
    {
     "name": "stderr",
     "output_type": "stream",
     "text": [
      "100%|██████████| 716/716 [01:07<00:00, 10.56it/s]\n"
     ]
    },
    {
     "name": "stdout",
     "output_type": "stream",
     "text": [
      "{'val_loss': 2.9688851891494377, 'val_accuracy': 0.47139588100686497, 'precision': 0.2222140766302384, 'recall': 0.47139588100686497, 'f1-score': 0.302045261236125, 'macro_f1-score': 0.01334888543286677, 'balanced_accuracy': 0.020833333333333332, 'mcc': 0.0, 'train_loss': 3.65130444611917}\n",
      "Epoch 4/20\n"
     ]
    },
    {
     "name": "stderr",
     "output_type": "stream",
     "text": [
      "100%|██████████| 716/716 [01:07<00:00, 10.55it/s]\n"
     ]
    },
    {
     "name": "stdout",
     "output_type": "stream",
     "text": [
      "{'val_loss': 2.940657383058129, 'val_accuracy': 0.47139588100686497, 'precision': 0.2222140766302384, 'recall': 0.47139588100686497, 'f1-score': 0.302045261236125, 'macro_f1-score': 0.01334888543286677, 'balanced_accuracy': 0.020833333333333332, 'mcc': 0.0, 'train_loss': 3.6501872442954078}\n",
      "Early stopping.\n",
      "\n",
      "[Fold 5]\n",
      "Label distribution after resampling:\n",
      "  label 0: 2000\n",
      "  label 1: 200\n",
      "  label 2: 200\n",
      "  label 3: 200\n",
      "  label 4: 200\n",
      "  label 5: 200\n",
      "  label 6: 200\n",
      "  label 7: 200\n",
      "  label 8: 200\n",
      "  label 9: 200\n",
      "  label 10: 200\n",
      "  label 11: 200\n",
      "  label 12: 200\n",
      "  label 13: 200\n",
      "  label 14: 200\n",
      "  label 15: 200\n",
      "  label 16: 200\n",
      "  label 17: 200\n",
      "  label 18: 200\n",
      "  label 19: 200\n",
      "  label 20: 200\n",
      "  label 21: 200\n",
      "  label 22: 200\n",
      "  label 23: 200\n",
      "  label 24: 200\n",
      "  label 25: 200\n",
      "  label 26: 200\n",
      "  label 27: 200\n",
      "  label 28: 200\n",
      "  label 29: 200\n",
      "  label 30: 200\n",
      "  label 31: 200\n",
      "  label 32: 200\n",
      "  label 33: 200\n",
      "  label 34: 200\n",
      "  label 35: 200\n",
      "  label 36: 200\n",
      "  label 37: 200\n",
      "  label 38: 200\n",
      "  label 39: 200\n",
      "  label 40: 200\n",
      "  label 41: 200\n",
      "  label 42: 200\n",
      "  label 43: 200\n",
      "  label 44: 200\n",
      "  label 45: 242\n",
      "  label 46: 200\n",
      "  label 47: 200\n",
      "model is roberta-base bilstm\n"
     ]
    },
    {
     "name": "stderr",
     "output_type": "stream",
     "text": [
      "Some weights of RobertaModel were not initialized from the model checkpoint at roberta-base and are newly initialized: ['pooler.dense.bias', 'pooler.dense.weight']\n",
      "You should probably TRAIN this model on a down-stream task to be able to use it for predictions and inference.\n"
     ]
    },
    {
     "name": "stdout",
     "output_type": "stream",
     "text": [
      "Epoch 1/20\n"
     ]
    },
    {
     "name": "stderr",
     "output_type": "stream",
     "text": [
      "100%|██████████| 716/716 [01:07<00:00, 10.56it/s]\n"
     ]
    },
    {
     "name": "stdout",
     "output_type": "stream",
     "text": [
      "{'val_loss': 2.058484990422319, 'val_accuracy': 0.4439359267734554, 'precision': 0.4566094738045666, 'recall': 0.4439359267734554, 'f1-score': 0.43314709184797934, 'macro_f1-score': 0.1594429266756412, 'balanced_accuracy': 0.25665853715294284, 'mcc': 0.2937175287108425, 'train_loss': 2.8237638450201663}\n",
      "Epoch 2/20\n"
     ]
    },
    {
     "name": "stderr",
     "output_type": "stream",
     "text": [
      "100%|██████████| 716/716 [01:07<00:00, 10.57it/s]\n"
     ]
    },
    {
     "name": "stdout",
     "output_type": "stream",
     "text": [
      "{'val_loss': 1.8174062516631149, 'val_accuracy': 0.5102974828375286, 'precision': 0.5790054872951351, 'recall': 0.5102974828375286, 'f1-score': 0.5156240217717158, 'macro_f1-score': 0.2709648834565338, 'balanced_accuracy': 0.3517793848230461, 'mcc': 0.38802530683938297, 'train_loss': 1.5403431492477822}\n",
      "Epoch 3/20\n"
     ]
    },
    {
     "name": "stderr",
     "output_type": "stream",
     "text": [
      "100%|██████████| 716/716 [01:07<00:00, 10.57it/s]\n"
     ]
    },
    {
     "name": "stdout",
     "output_type": "stream",
     "text": [
      "{'val_loss': 1.6023588842008172, 'val_accuracy': 0.5812356979405034, 'precision': 0.6013324718269946, 'recall': 0.5812356979405034, 'f1-score': 0.5760840698694482, 'macro_f1-score': 0.3094712551482632, 'balanced_accuracy': 0.33863925376385556, 'mcc': 0.44543006103905947, 'train_loss': 0.9535012221036676}\n",
      "Epoch 4/20\n"
     ]
    },
    {
     "name": "stderr",
     "output_type": "stream",
     "text": [
      "100%|██████████| 716/716 [01:07<00:00, 10.58it/s]\n"
     ]
    },
    {
     "name": "stdout",
     "output_type": "stream",
     "text": [
      "{'val_loss': 1.6614101223829316, 'val_accuracy': 0.5705568268497331, 'precision': 0.592991406221146, 'recall': 0.5705568268497331, 'f1-score': 0.5712094946834213, 'macro_f1-score': 0.34766441861556024, 'balanced_accuracy': 0.37039697783121434, 'mcc': 0.44496604408716545, 'train_loss': 0.6438163457303073}\n",
      "Epoch 5/20\n"
     ]
    },
    {
     "name": "stderr",
     "output_type": "stream",
     "text": [
      "100%|██████████| 716/716 [01:07<00:00, 10.54it/s]\n"
     ]
    },
    {
     "name": "stdout",
     "output_type": "stream",
     "text": [
      "{'val_loss': 1.6958073682901336, 'val_accuracy': 0.5774218154080855, 'precision': 0.6201888506945233, 'recall': 0.5774218154080855, 'f1-score': 0.5877191792784533, 'macro_f1-score': 0.3877831725862359, 'balanced_accuracy': 0.42595902079382303, 'mcc': 0.46425700580007434, 'train_loss': 0.5155814486769075}\n",
      "Epoch 6/20\n"
     ]
    },
    {
     "name": "stderr",
     "output_type": "stream",
     "text": [
      "100%|██████████| 716/716 [01:07<00:00, 10.54it/s]\n"
     ]
    },
    {
     "name": "stdout",
     "output_type": "stream",
     "text": [
      "{'val_loss': 1.79335421541842, 'val_accuracy': 0.585812356979405, 'precision': 0.6410199042959553, 'recall': 0.585812356979405, 'f1-score': 0.5935763669358456, 'macro_f1-score': 0.36866997582437966, 'balanced_accuracy': 0.36112520586809954, 'mcc': 0.47804907677863673, 'train_loss': 0.3940951625228594}\n",
      "Epoch 7/20\n"
     ]
    },
    {
     "name": "stderr",
     "output_type": "stream",
     "text": [
      "100%|██████████| 716/716 [01:07<00:00, 10.56it/s]\n"
     ]
    },
    {
     "name": "stdout",
     "output_type": "stream",
     "text": [
      "{'val_loss': 1.7850759788984205, 'val_accuracy': 0.5949656750572082, 'precision': 0.6325418967279091, 'recall': 0.5949656750572082, 'f1-score': 0.6044321580371963, 'macro_f1-score': 0.3791786233304175, 'balanced_accuracy': 0.3800415340966343, 'mcc': 0.4814256089524032, 'train_loss': 0.35691543214033516}\n",
      "Epoch 8/20\n"
     ]
    },
    {
     "name": "stderr",
     "output_type": "stream",
     "text": [
      "100%|██████████| 716/716 [01:07<00:00, 10.57it/s]\n"
     ]
    },
    {
     "name": "stdout",
     "output_type": "stream",
     "text": [
      "{'val_loss': 1.901650714438136, 'val_accuracy': 0.5987795575896262, 'precision': 0.6127086934672012, 'recall': 0.5987795575896262, 'f1-score': 0.5964059386721146, 'macro_f1-score': 0.36563039055403035, 'balanced_accuracy': 0.3739980098341939, 'mcc': 0.4878975719503708, 'train_loss': 0.2802758309573934}\n",
      "Early stopping.\n",
      "\n",
      " === roberta-base + bilstm + ros Final 5-fold Cross-Validation Results ===\n",
      "val_loss: 1.8567\n",
      "val_accuracy: 0.5647\n",
      "precision: 0.5420\n",
      "recall: 0.5647\n",
      "f1-score: 0.5384\n",
      "macro_f1-score: 0.3088\n",
      "balanced_accuracy: 0.3341\n",
      "mcc: 0.3974\n",
      "train_loss: 1.1637\n",
      "total_seconds: 2484.0000\n",
      "total_time: 0 hrs 41 mins 24 secs\n",
      "▶ Running: microsoft/deberta-base + plain + ros\n",
      "tokenizer is microsoft/deberta-base\n",
      "Using device: cuda\n",
      "CUDA Available: True\n",
      "CUDA Device: NVIDIA GeForce RTX 5070 Ti\n",
      "Current GPU Memory Allocated: 0.02 GB\n",
      "Current GPU Memory Cached: 4.01 GB\n",
      "\n",
      "[Fold 1]\n",
      "Label distribution after resampling:\n",
      "  label 0: 2000\n",
      "  label 1: 200\n",
      "  label 2: 200\n",
      "  label 3: 200\n",
      "  label 4: 200\n",
      "  label 5: 200\n",
      "  label 6: 200\n",
      "  label 7: 200\n",
      "  label 8: 200\n",
      "  label 9: 200\n",
      "  label 10: 200\n",
      "  label 11: 200\n",
      "  label 12: 200\n",
      "  label 13: 200\n",
      "  label 14: 200\n",
      "  label 15: 200\n",
      "  label 16: 200\n",
      "  label 17: 200\n",
      "  label 18: 200\n",
      "  label 19: 200\n",
      "  label 20: 200\n",
      "  label 21: 200\n",
      "  label 22: 200\n",
      "  label 23: 200\n",
      "  label 24: 200\n",
      "  label 25: 200\n",
      "  label 26: 200\n",
      "  label 27: 200\n",
      "  label 28: 200\n",
      "  label 29: 200\n",
      "  label 30: 200\n",
      "  label 31: 200\n",
      "  label 32: 200\n",
      "  label 33: 200\n",
      "  label 34: 200\n",
      "  label 35: 200\n",
      "  label 36: 200\n",
      "  label 37: 200\n",
      "  label 38: 200\n",
      "  label 39: 200\n",
      "  label 40: 200\n",
      "  label 41: 200\n",
      "  label 42: 200\n",
      "  label 43: 200\n",
      "  label 44: 200\n",
      "  label 45: 242\n",
      "  label 46: 200\n",
      "  label 47: 200\n",
      "model is microsoft/deberta-base\n"
     ]
    },
    {
     "name": "stderr",
     "output_type": "stream",
     "text": [
      "Some weights of DebertaForSequenceClassification were not initialized from the model checkpoint at microsoft/deberta-base and are newly initialized: ['classifier.bias', 'classifier.weight', 'pooler.dense.bias', 'pooler.dense.weight']\n",
      "You should probably TRAIN this model on a down-stream task to be able to use it for predictions and inference.\n"
     ]
    },
    {
     "name": "stdout",
     "output_type": "stream",
     "text": [
      "Epoch 1/20\n"
     ]
    },
    {
     "name": "stderr",
     "output_type": "stream",
     "text": [
      "100%|██████████| 716/716 [01:12<00:00,  9.83it/s]\n"
     ]
    },
    {
     "name": "stdout",
     "output_type": "stream",
     "text": [
      "{'val_loss': 1.5275107742082783, 'val_accuracy': 0.5838414634146342, 'precision': 0.5796123600044917, 'recall': 0.5838414634146342, 'f1-score': 0.5523675140724565, 'macro_f1-score': 0.3352836635526253, 'balanced_accuracy': 0.3479790937733627, 'mcc': 0.4257178466138985, 'train_loss': 2.097665081726772}\n",
      "Epoch 2/20\n"
     ]
    },
    {
     "name": "stderr",
     "output_type": "stream",
     "text": [
      "100%|██████████| 716/716 [01:12<00:00,  9.84it/s]\n"
     ]
    },
    {
     "name": "stdout",
     "output_type": "stream",
     "text": [
      "{'val_loss': 1.644380155133038, 'val_accuracy': 0.6028963414634146, 'precision': 0.6187860275880042, 'recall': 0.6028963414634146, 'f1-score': 0.5980433617988674, 'macro_f1-score': 0.3748961047560841, 'balanced_accuracy': 0.39633072184780455, 'mcc': 0.4775144989436943, 'train_loss': 0.6396000986845967}\n",
      "Epoch 3/20\n"
     ]
    },
    {
     "name": "stderr",
     "output_type": "stream",
     "text": [
      "100%|██████████| 716/716 [01:12<00:00,  9.84it/s]\n"
     ]
    },
    {
     "name": "stdout",
     "output_type": "stream",
     "text": [
      "{'val_loss': 1.7868409854609792, 'val_accuracy': 0.6150914634146342, 'precision': 0.6339606312236207, 'recall': 0.6150914634146342, 'f1-score': 0.5968006543108617, 'macro_f1-score': 0.38906348011311637, 'balanced_accuracy': 0.3878671660604403, 'mcc': 0.47827191548422476, 'train_loss': 0.30688601342555366}\n",
      "Epoch 4/20\n"
     ]
    },
    {
     "name": "stderr",
     "output_type": "stream",
     "text": [
      "100%|██████████| 716/716 [01:12<00:00,  9.84it/s]\n"
     ]
    },
    {
     "name": "stdout",
     "output_type": "stream",
     "text": [
      "{'val_loss': 1.7768737571995432, 'val_accuracy': 0.6463414634146342, 'precision': 0.6342083683608816, 'recall': 0.6463414634146342, 'f1-score': 0.6260843014041562, 'macro_f1-score': 0.40984275342355964, 'balanced_accuracy': 0.4231199190126762, 'mcc': 0.5232788198914498, 'train_loss': 0.19226533245794766}\n",
      "Epoch 5/20\n"
     ]
    },
    {
     "name": "stderr",
     "output_type": "stream",
     "text": [
      "100%|██████████| 716/716 [01:12<00:00,  9.84it/s]\n"
     ]
    },
    {
     "name": "stdout",
     "output_type": "stream",
     "text": [
      "{'val_loss': 2.0319612302431245, 'val_accuracy': 0.6303353658536586, 'precision': 0.6265222175246448, 'recall': 0.6303353658536586, 'f1-score': 0.6156826057118954, 'macro_f1-score': 0.39280624818381105, 'balanced_accuracy': 0.40405167195397196, 'mcc': 0.5077702299819975, 'train_loss': 0.13305806991899147}\n",
      "Epoch 6/20\n"
     ]
    },
    {
     "name": "stderr",
     "output_type": "stream",
     "text": [
      "100%|██████████| 716/716 [01:12<00:00,  9.85it/s]\n"
     ]
    },
    {
     "name": "stdout",
     "output_type": "stream",
     "text": [
      "{'val_loss': 2.1577777241061376, 'val_accuracy': 0.5769817073170732, 'precision': 0.633325482149156, 'recall': 0.5769817073170732, 'f1-score': 0.586133234469325, 'macro_f1-score': 0.3966994468715817, 'balanced_accuracy': 0.41748138351908337, 'mcc': 0.4791320698326975, 'train_loss': 0.1005195710842508}\n",
      "Epoch 7/20\n"
     ]
    },
    {
     "name": "stderr",
     "output_type": "stream",
     "text": [
      "100%|██████████| 716/716 [01:12<00:00,  9.84it/s]\n"
     ]
    },
    {
     "name": "stdout",
     "output_type": "stream",
     "text": [
      "{'val_loss': 2.0817631357690183, 'val_accuracy': 0.6371951219512195, 'precision': 0.6425937828016656, 'recall': 0.6371951219512195, 'f1-score': 0.6307732430510554, 'macro_f1-score': 0.40891623828865115, 'balanced_accuracy': 0.4328604299594159, 'mcc': 0.5265703371925338, 'train_loss': 0.1250405782829143}\n",
      "Early stopping.\n",
      "\n",
      "[Fold 2]\n",
      "Label distribution after resampling:\n",
      "  label 0: 2000\n",
      "  label 1: 200\n",
      "  label 2: 200\n",
      "  label 3: 200\n",
      "  label 4: 200\n",
      "  label 5: 200\n",
      "  label 6: 200\n",
      "  label 7: 200\n",
      "  label 8: 200\n",
      "  label 9: 200\n",
      "  label 10: 200\n",
      "  label 11: 200\n",
      "  label 12: 200\n",
      "  label 13: 200\n",
      "  label 14: 200\n",
      "  label 15: 200\n",
      "  label 16: 200\n",
      "  label 17: 200\n",
      "  label 18: 200\n",
      "  label 19: 200\n",
      "  label 20: 200\n",
      "  label 21: 200\n",
      "  label 22: 200\n",
      "  label 23: 200\n",
      "  label 24: 200\n",
      "  label 25: 200\n",
      "  label 26: 200\n",
      "  label 27: 200\n",
      "  label 28: 200\n",
      "  label 29: 200\n",
      "  label 30: 200\n",
      "  label 31: 200\n",
      "  label 32: 200\n",
      "  label 33: 200\n",
      "  label 34: 200\n",
      "  label 35: 200\n",
      "  label 36: 200\n",
      "  label 37: 200\n",
      "  label 38: 200\n",
      "  label 39: 200\n",
      "  label 40: 200\n",
      "  label 41: 200\n",
      "  label 42: 200\n",
      "  label 43: 200\n",
      "  label 44: 200\n",
      "  label 45: 242\n",
      "  label 46: 200\n",
      "  label 47: 200\n",
      "model is microsoft/deberta-base\n"
     ]
    },
    {
     "name": "stderr",
     "output_type": "stream",
     "text": [
      "Some weights of DebertaForSequenceClassification were not initialized from the model checkpoint at microsoft/deberta-base and are newly initialized: ['classifier.bias', 'classifier.weight', 'pooler.dense.bias', 'pooler.dense.weight']\n",
      "You should probably TRAIN this model on a down-stream task to be able to use it for predictions and inference.\n"
     ]
    },
    {
     "name": "stdout",
     "output_type": "stream",
     "text": [
      "Epoch 1/20\n"
     ]
    },
    {
     "name": "stderr",
     "output_type": "stream",
     "text": [
      "100%|██████████| 716/716 [01:12<00:00,  9.84it/s]\n"
     ]
    },
    {
     "name": "stdout",
     "output_type": "stream",
     "text": [
      "{'val_loss': 1.5813942289933927, 'val_accuracy': 0.5705568268497331, 'precision': 0.6050492333688055, 'recall': 0.5705568268497331, 'f1-score': 0.5591306037337952, 'macro_f1-score': 0.32575354535523243, 'balanced_accuracy': 0.3911999781957857, 'mcc': 0.4298644772732401, 'train_loss': 2.0841166916090015}\n",
      "Epoch 2/20\n"
     ]
    },
    {
     "name": "stderr",
     "output_type": "stream",
     "text": [
      "100%|██████████| 716/716 [01:12<00:00,  9.84it/s]\n"
     ]
    },
    {
     "name": "stdout",
     "output_type": "stream",
     "text": [
      "{'val_loss': 1.5437630523995656, 'val_accuracy': 0.5873379099923722, 'precision': 0.6064358102387276, 'recall': 0.5873379099923722, 'f1-score': 0.5810077341714306, 'macro_f1-score': 0.3447420785735263, 'balanced_accuracy': 0.3790009068263834, 'mcc': 0.4696379708403019, 'train_loss': 0.6171508781695166}\n",
      "Epoch 3/20\n"
     ]
    },
    {
     "name": "stderr",
     "output_type": "stream",
     "text": [
      "100%|██████████| 716/716 [01:12<00:00,  9.85it/s]\n"
     ]
    },
    {
     "name": "stdout",
     "output_type": "stream",
     "text": [
      "{'val_loss': 1.7557974559504812, 'val_accuracy': 0.5926773455377574, 'precision': 0.6327780426781522, 'recall': 0.5926773455377574, 'f1-score': 0.5953122309953368, 'macro_f1-score': 0.37293131920772504, 'balanced_accuracy': 0.4013469379485914, 'mcc': 0.48847733898842277, 'train_loss': 0.28875216991801916}\n",
      "Epoch 4/20\n"
     ]
    },
    {
     "name": "stderr",
     "output_type": "stream",
     "text": [
      "100%|██████████| 716/716 [01:12<00:00,  9.84it/s]\n"
     ]
    },
    {
     "name": "stdout",
     "output_type": "stream",
     "text": [
      "{'val_loss': 1.8594215599502004, 'val_accuracy': 0.5987795575896262, 'precision': 0.6040108198408318, 'recall': 0.5987795575896262, 'f1-score': 0.5935675641766891, 'macro_f1-score': 0.36137729084658066, 'balanced_accuracy': 0.377814795177426, 'mcc': 0.47137460194265113, 'train_loss': 0.19152233904154772}\n",
      "Epoch 5/20\n"
     ]
    },
    {
     "name": "stderr",
     "output_type": "stream",
     "text": [
      "100%|██████████| 716/716 [01:12<00:00,  9.84it/s]\n"
     ]
    },
    {
     "name": "stdout",
     "output_type": "stream",
     "text": [
      "{'val_loss': 2.0359827512648048, 'val_accuracy': 0.5919145690312738, 'precision': 0.6175578629150968, 'recall': 0.5919145690312738, 'f1-score': 0.5944263152060876, 'macro_f1-score': 0.37158531564180725, 'balanced_accuracy': 0.399332641736537, 'mcc': 0.4793895175580683, 'train_loss': 0.12060835014888237}\n",
      "Epoch 6/20\n"
     ]
    },
    {
     "name": "stderr",
     "output_type": "stream",
     "text": [
      "100%|██████████| 716/716 [01:12<00:00,  9.84it/s]\n"
     ]
    },
    {
     "name": "stdout",
     "output_type": "stream",
     "text": [
      "{'val_loss': 2.1286440273610556, 'val_accuracy': 0.601067887109077, 'precision': 0.6179257798312682, 'recall': 0.601067887109077, 'f1-score': 0.6011165064344725, 'macro_f1-score': 0.35920145244972385, 'balanced_accuracy': 0.3746537187721704, 'mcc': 0.484360266165615, 'train_loss': 0.09499619355524094}\n",
      "Early stopping.\n",
      "\n",
      "[Fold 3]\n",
      "Label distribution after resampling:\n",
      "  label 0: 2000\n",
      "  label 1: 200\n",
      "  label 2: 200\n",
      "  label 3: 200\n",
      "  label 4: 200\n",
      "  label 5: 200\n",
      "  label 6: 200\n",
      "  label 7: 200\n",
      "  label 8: 200\n",
      "  label 9: 200\n",
      "  label 10: 200\n",
      "  label 11: 200\n",
      "  label 12: 200\n",
      "  label 13: 200\n",
      "  label 14: 200\n",
      "  label 15: 200\n",
      "  label 16: 200\n",
      "  label 17: 200\n",
      "  label 18: 200\n",
      "  label 19: 200\n",
      "  label 20: 200\n",
      "  label 21: 200\n",
      "  label 22: 200\n",
      "  label 23: 200\n",
      "  label 24: 200\n",
      "  label 25: 200\n",
      "  label 26: 200\n",
      "  label 27: 200\n",
      "  label 28: 200\n",
      "  label 29: 200\n",
      "  label 30: 200\n",
      "  label 31: 200\n",
      "  label 32: 200\n",
      "  label 33: 200\n",
      "  label 34: 200\n",
      "  label 35: 200\n",
      "  label 36: 200\n",
      "  label 37: 200\n",
      "  label 38: 200\n",
      "  label 39: 200\n",
      "  label 40: 200\n",
      "  label 41: 200\n",
      "  label 42: 200\n",
      "  label 43: 200\n",
      "  label 44: 200\n",
      "  label 45: 241\n",
      "  label 46: 200\n",
      "  label 47: 200\n",
      "model is microsoft/deberta-base\n"
     ]
    },
    {
     "name": "stderr",
     "output_type": "stream",
     "text": [
      "Some weights of DebertaForSequenceClassification were not initialized from the model checkpoint at microsoft/deberta-base and are newly initialized: ['classifier.bias', 'classifier.weight', 'pooler.dense.bias', 'pooler.dense.weight']\n",
      "You should probably TRAIN this model on a down-stream task to be able to use it for predictions and inference.\n"
     ]
    },
    {
     "name": "stdout",
     "output_type": "stream",
     "text": [
      "Epoch 1/20\n"
     ]
    },
    {
     "name": "stderr",
     "output_type": "stream",
     "text": [
      "100%|██████████| 716/716 [01:12<00:00,  9.84it/s]\n"
     ]
    },
    {
     "name": "stdout",
     "output_type": "stream",
     "text": [
      "{'val_loss': 1.6052093607623403, 'val_accuracy': 0.5644546147978642, 'precision': 0.6008632891649335, 'recall': 0.5644546147978642, 'f1-score': 0.5649685844668009, 'macro_f1-score': 0.3347732118441445, 'balanced_accuracy': 0.3380953266476108, 'mcc': 0.42251140769493456, 'train_loss': 1.870062453079157}\n",
      "Epoch 2/20\n"
     ]
    },
    {
     "name": "stderr",
     "output_type": "stream",
     "text": [
      "100%|██████████| 716/716 [01:12<00:00,  9.85it/s]\n"
     ]
    },
    {
     "name": "stdout",
     "output_type": "stream",
     "text": [
      "{'val_loss': 1.7047148034339998, 'val_accuracy': 0.6033562166285278, 'precision': 0.6154568280238943, 'recall': 0.6033562166285278, 'f1-score': 0.5996972584203458, 'macro_f1-score': 0.37980477898552234, 'balanced_accuracy': 0.38686607711720034, 'mcc': 0.4853109215867018, 'train_loss': 0.5487897513309421}\n",
      "Epoch 3/20\n"
     ]
    },
    {
     "name": "stderr",
     "output_type": "stream",
     "text": [
      "100%|██████████| 716/716 [01:12<00:00,  9.84it/s]\n"
     ]
    },
    {
     "name": "stdout",
     "output_type": "stream",
     "text": [
      "{'val_loss': 1.8919741923852664, 'val_accuracy': 0.5980167810831426, 'precision': 0.6165066750912049, 'recall': 0.5980167810831426, 'f1-score': 0.5978714706325753, 'macro_f1-score': 0.37563802081776476, 'balanced_accuracy': 0.3907461561907532, 'mcc': 0.484154553806508, 'train_loss': 0.2486979574324074}\n",
      "Epoch 4/20\n"
     ]
    },
    {
     "name": "stderr",
     "output_type": "stream",
     "text": [
      "100%|██████████| 716/716 [01:12<00:00,  9.83it/s]\n"
     ]
    },
    {
     "name": "stdout",
     "output_type": "stream",
     "text": [
      "{'val_loss': 2.0245745589093462, 'val_accuracy': 0.6323417238749046, 'precision': 0.6320451670428204, 'recall': 0.6323417238749046, 'f1-score': 0.608964425254771, 'macro_f1-score': 0.3589200626788051, 'balanced_accuracy': 0.3326171154760625, 'mcc': 0.5020688593180189, 'train_loss': 0.16223813182096825}\n",
      "Epoch 5/20\n"
     ]
    },
    {
     "name": "stderr",
     "output_type": "stream",
     "text": [
      "100%|██████████| 716/716 [01:12<00:00,  9.84it/s]\n"
     ]
    },
    {
     "name": "stdout",
     "output_type": "stream",
     "text": [
      "{'val_loss': 2.1082328819647067, 'val_accuracy': 0.6140350877192983, 'precision': 0.607406427539106, 'recall': 0.6140350877192983, 'f1-score': 0.600592750048516, 'macro_f1-score': 0.35294238627603264, 'balanced_accuracy': 0.33564402949150257, 'mcc': 0.48181568898214155, 'train_loss': 0.12334285606597628}\n",
      "Early stopping.\n",
      "\n",
      "[Fold 4]\n",
      "Label distribution after resampling:\n",
      "  label 0: 2000\n",
      "  label 1: 200\n",
      "  label 2: 200\n",
      "  label 3: 200\n",
      "  label 4: 200\n",
      "  label 5: 200\n",
      "  label 6: 200\n",
      "  label 7: 200\n",
      "  label 8: 200\n",
      "  label 9: 200\n",
      "  label 10: 200\n",
      "  label 11: 200\n",
      "  label 12: 200\n",
      "  label 13: 200\n",
      "  label 14: 200\n",
      "  label 15: 200\n",
      "  label 16: 200\n",
      "  label 17: 200\n",
      "  label 18: 200\n",
      "  label 19: 200\n",
      "  label 20: 200\n",
      "  label 21: 200\n",
      "  label 22: 200\n",
      "  label 23: 200\n",
      "  label 24: 200\n",
      "  label 25: 200\n",
      "  label 26: 200\n",
      "  label 27: 200\n",
      "  label 28: 200\n",
      "  label 29: 200\n",
      "  label 30: 200\n",
      "  label 31: 200\n",
      "  label 32: 200\n",
      "  label 33: 200\n",
      "  label 34: 200\n",
      "  label 35: 200\n",
      "  label 36: 200\n",
      "  label 37: 200\n",
      "  label 38: 200\n",
      "  label 39: 200\n",
      "  label 40: 200\n",
      "  label 41: 200\n",
      "  label 42: 200\n",
      "  label 43: 200\n",
      "  label 44: 200\n",
      "  label 45: 241\n",
      "  label 46: 200\n",
      "  label 47: 200\n",
      "model is microsoft/deberta-base\n"
     ]
    },
    {
     "name": "stderr",
     "output_type": "stream",
     "text": [
      "Some weights of DebertaForSequenceClassification were not initialized from the model checkpoint at microsoft/deberta-base and are newly initialized: ['classifier.bias', 'classifier.weight', 'pooler.dense.bias', 'pooler.dense.weight']\n",
      "You should probably TRAIN this model on a down-stream task to be able to use it for predictions and inference.\n"
     ]
    },
    {
     "name": "stdout",
     "output_type": "stream",
     "text": [
      "Epoch 1/20\n"
     ]
    },
    {
     "name": "stderr",
     "output_type": "stream",
     "text": [
      "100%|██████████| 716/716 [01:12<00:00,  9.84it/s]\n"
     ]
    },
    {
     "name": "stdout",
     "output_type": "stream",
     "text": [
      "{'val_loss': 2.9719359264141176, 'val_accuracy': 0.47139588100686497, 'precision': 0.2222140766302384, 'recall': 0.47139588100686497, 'f1-score': 0.302045261236125, 'macro_f1-score': 0.01334888543286677, 'balanced_accuracy': 0.020833333333333332, 'mcc': 0.0, 'train_loss': 3.6609021548452323}\n",
      "Epoch 2/20\n"
     ]
    },
    {
     "name": "stderr",
     "output_type": "stream",
     "text": [
      "100%|██████████| 716/716 [01:12<00:00,  9.85it/s]\n"
     ]
    },
    {
     "name": "stdout",
     "output_type": "stream",
     "text": [
      "{'val_loss': 2.93469447915147, 'val_accuracy': 0.47139588100686497, 'precision': 0.2222140766302384, 'recall': 0.47139588100686497, 'f1-score': 0.302045261236125, 'macro_f1-score': 0.01334888543286677, 'balanced_accuracy': 0.020833333333333332, 'mcc': 0.0, 'train_loss': 3.6485646939810428}\n",
      "Epoch 3/20\n"
     ]
    },
    {
     "name": "stderr",
     "output_type": "stream",
     "text": [
      "100%|██████████| 716/716 [01:12<00:00,  9.83it/s]\n"
     ]
    },
    {
     "name": "stdout",
     "output_type": "stream",
     "text": [
      "{'val_loss': 2.7619020386439996, 'val_accuracy': 0.47139588100686497, 'precision': 0.2222140766302384, 'recall': 0.47139588100686497, 'f1-score': 0.302045261236125, 'macro_f1-score': 0.01334888543286677, 'balanced_accuracy': 0.020833333333333332, 'mcc': 0.0, 'train_loss': 3.6313660740852356}\n",
      "Epoch 4/20\n"
     ]
    },
    {
     "name": "stderr",
     "output_type": "stream",
     "text": [
      "100%|██████████| 716/716 [01:12<00:00,  9.84it/s]\n"
     ]
    },
    {
     "name": "stdout",
     "output_type": "stream",
     "text": [
      "{'val_loss': 2.850664856957226, 'val_accuracy': 0.47139588100686497, 'precision': 0.2222140766302384, 'recall': 0.47139588100686497, 'f1-score': 0.302045261236125, 'macro_f1-score': 0.01334888543286677, 'balanced_accuracy': 0.020833333333333332, 'mcc': 0.0, 'train_loss': 3.569094554672028}\n",
      "Early stopping.\n",
      "\n",
      "[Fold 5]\n",
      "Label distribution after resampling:\n",
      "  label 0: 2000\n",
      "  label 1: 200\n",
      "  label 2: 200\n",
      "  label 3: 200\n",
      "  label 4: 200\n",
      "  label 5: 200\n",
      "  label 6: 200\n",
      "  label 7: 200\n",
      "  label 8: 200\n",
      "  label 9: 200\n",
      "  label 10: 200\n",
      "  label 11: 200\n",
      "  label 12: 200\n",
      "  label 13: 200\n",
      "  label 14: 200\n",
      "  label 15: 200\n",
      "  label 16: 200\n",
      "  label 17: 200\n",
      "  label 18: 200\n",
      "  label 19: 200\n",
      "  label 20: 200\n",
      "  label 21: 200\n",
      "  label 22: 200\n",
      "  label 23: 200\n",
      "  label 24: 200\n",
      "  label 25: 200\n",
      "  label 26: 200\n",
      "  label 27: 200\n",
      "  label 28: 200\n",
      "  label 29: 200\n",
      "  label 30: 200\n",
      "  label 31: 200\n",
      "  label 32: 200\n",
      "  label 33: 200\n",
      "  label 34: 200\n",
      "  label 35: 200\n",
      "  label 36: 200\n",
      "  label 37: 200\n",
      "  label 38: 200\n",
      "  label 39: 200\n",
      "  label 40: 200\n",
      "  label 41: 200\n",
      "  label 42: 200\n",
      "  label 43: 200\n",
      "  label 44: 200\n",
      "  label 45: 242\n",
      "  label 46: 200\n",
      "  label 47: 200\n",
      "model is microsoft/deberta-base\n"
     ]
    },
    {
     "name": "stderr",
     "output_type": "stream",
     "text": [
      "Some weights of DebertaForSequenceClassification were not initialized from the model checkpoint at microsoft/deberta-base and are newly initialized: ['classifier.bias', 'classifier.weight', 'pooler.dense.bias', 'pooler.dense.weight']\n",
      "You should probably TRAIN this model on a down-stream task to be able to use it for predictions and inference.\n"
     ]
    },
    {
     "name": "stdout",
     "output_type": "stream",
     "text": [
      "Epoch 1/20\n"
     ]
    },
    {
     "name": "stderr",
     "output_type": "stream",
     "text": [
      "100%|██████████| 716/716 [01:12<00:00,  9.84it/s]\n"
     ]
    },
    {
     "name": "stdout",
     "output_type": "stream",
     "text": [
      "{'val_loss': 1.5342402705332128, 'val_accuracy': 0.5980167810831426, 'precision': 0.6334241109309737, 'recall': 0.5980167810831426, 'f1-score': 0.5790651549060865, 'macro_f1-score': 0.3042302596660609, 'balanced_accuracy': 0.3489906223199608, 'mcc': 0.46368905331279525, 'train_loss': 1.9838291081032773}\n",
      "Epoch 2/20\n"
     ]
    },
    {
     "name": "stderr",
     "output_type": "stream",
     "text": [
      "100%|██████████| 716/716 [01:12<00:00,  9.84it/s]\n"
     ]
    },
    {
     "name": "stdout",
     "output_type": "stream",
     "text": [
      "{'val_loss': 1.7078307256466005, 'val_accuracy': 0.5614035087719298, 'precision': 0.6465154768193749, 'recall': 0.5614035087719298, 'f1-score': 0.5852292179053558, 'macro_f1-score': 0.37645455076919737, 'balanced_accuracy': 0.3900557742852461, 'mcc': 0.4607441373678774, 'train_loss': 0.5700899957934155}\n",
      "Epoch 3/20\n"
     ]
    },
    {
     "name": "stderr",
     "output_type": "stream",
     "text": [
      "100%|██████████| 716/716 [01:12<00:00,  9.84it/s]\n"
     ]
    },
    {
     "name": "stdout",
     "output_type": "stream",
     "text": [
      "{'val_loss': 1.6957236926366643, 'val_accuracy': 0.631578947368421, 'precision': 0.6386964542568047, 'recall': 0.631578947368421, 'f1-score': 0.6226165936826857, 'macro_f1-score': 0.39302144373363584, 'balanced_accuracy': 0.39045024796069366, 'mcc': 0.5142897925038773, 'train_loss': 0.2752892733889752}\n",
      "Epoch 4/20\n"
     ]
    },
    {
     "name": "stderr",
     "output_type": "stream",
     "text": [
      "100%|██████████| 716/716 [01:12<00:00,  9.84it/s]\n"
     ]
    },
    {
     "name": "stdout",
     "output_type": "stream",
     "text": [
      "{'val_loss': 3.003427959069973, 'val_accuracy': 0.47063310450038137, 'precision': 0.2214955190516669, 'recall': 0.47063310450038137, 'f1-score': 0.3012247152248292, 'macro_f1-score': 0.013334197786998616, 'balanced_accuracy': 0.020833333333333332, 'mcc': 0.0, 'train_loss': 0.5681780003207637}\n",
      "Epoch 5/20\n"
     ]
    },
    {
     "name": "stderr",
     "output_type": "stream",
     "text": [
      "100%|██████████| 716/716 [01:12<00:00,  9.84it/s]\n"
     ]
    },
    {
     "name": "stdout",
     "output_type": "stream",
     "text": [
      "{'val_loss': 2.8672236582128012, 'val_accuracy': 0.47063310450038137, 'precision': 0.2214955190516669, 'recall': 0.47063310450038137, 'f1-score': 0.3012247152248292, 'macro_f1-score': 0.013334197786998616, 'balanced_accuracy': 0.020833333333333332, 'mcc': 0.0, 'train_loss': 3.6551203601187168}\n",
      "Epoch 6/20\n"
     ]
    },
    {
     "name": "stderr",
     "output_type": "stream",
     "text": [
      "100%|██████████| 716/716 [01:12<00:00,  9.84it/s]\n"
     ]
    },
    {
     "name": "stdout",
     "output_type": "stream",
     "text": [
      "{'val_loss': 2.932907316742874, 'val_accuracy': 0.47063310450038137, 'precision': 0.2214955190516669, 'recall': 0.47063310450038137, 'f1-score': 0.3012247152248292, 'macro_f1-score': 0.013334197786998616, 'balanced_accuracy': 0.020833333333333332, 'mcc': 0.0, 'train_loss': 3.6478755397503604}\n",
      "Early stopping.\n",
      "\n",
      " === microsoft/deberta-base + plain + ros Final 5-fold Cross-Validation Results ===\n",
      "val_loss: 1.9810\n",
      "val_accuracy: 0.5891\n",
      "precision: 0.5487\n",
      "recall: 0.5891\n",
      "f1-score: 0.5492\n",
      "macro_f1-score: 0.3138\n",
      "balanced_accuracy: 0.3245\n",
      "mcc: 0.4023\n",
      "train_loss: 0.9932\n",
      "total_seconds: 2139.0000\n",
      "total_time: 0 hrs 35 mins 39 secs\n",
      "▶ Running: microsoft/deberta-base + cnn + ros\n",
      "tokenizer is microsoft/deberta-base\n",
      "Using device: cuda\n",
      "CUDA Available: True\n",
      "CUDA Device: NVIDIA GeForce RTX 5070 Ti\n",
      "Current GPU Memory Allocated: 0.02 GB\n",
      "Current GPU Memory Cached: 5.29 GB\n",
      "\n",
      "[Fold 1]\n",
      "Label distribution after resampling:\n",
      "  label 0: 2000\n",
      "  label 1: 200\n",
      "  label 2: 200\n",
      "  label 3: 200\n",
      "  label 4: 200\n",
      "  label 5: 200\n",
      "  label 6: 200\n",
      "  label 7: 200\n",
      "  label 8: 200\n",
      "  label 9: 200\n",
      "  label 10: 200\n",
      "  label 11: 200\n",
      "  label 12: 200\n",
      "  label 13: 200\n",
      "  label 14: 200\n",
      "  label 15: 200\n",
      "  label 16: 200\n",
      "  label 17: 200\n",
      "  label 18: 200\n",
      "  label 19: 200\n",
      "  label 20: 200\n",
      "  label 21: 200\n",
      "  label 22: 200\n",
      "  label 23: 200\n",
      "  label 24: 200\n",
      "  label 25: 200\n",
      "  label 26: 200\n",
      "  label 27: 200\n",
      "  label 28: 200\n",
      "  label 29: 200\n",
      "  label 30: 200\n",
      "  label 31: 200\n",
      "  label 32: 200\n",
      "  label 33: 200\n",
      "  label 34: 200\n",
      "  label 35: 200\n",
      "  label 36: 200\n",
      "  label 37: 200\n",
      "  label 38: 200\n",
      "  label 39: 200\n",
      "  label 40: 200\n",
      "  label 41: 200\n",
      "  label 42: 200\n",
      "  label 43: 200\n",
      "  label 44: 200\n",
      "  label 45: 242\n",
      "  label 46: 200\n",
      "  label 47: 200\n",
      "model is microsoft/deberta-base cnn\n",
      "Epoch 1/20\n"
     ]
    },
    {
     "name": "stderr",
     "output_type": "stream",
     "text": [
      "100%|██████████| 716/716 [01:15<00:00,  9.46it/s]\n"
     ]
    },
    {
     "name": "stdout",
     "output_type": "stream",
     "text": [
      "{'val_loss': 3.334333960602923, 'val_accuracy': 0.47103658536585363, 'precision': 0.22187546475312311, 'recall': 0.47103658536585363, 'f1-score': 0.3016586629596866, 'macro_f1-score': 0.013341968911917098, 'balanced_accuracy': 0.020833333333333332, 'mcc': 0.0, 'train_loss': 3.6866982785683104}\n",
      "Epoch 2/20\n"
     ]
    },
    {
     "name": "stderr",
     "output_type": "stream",
     "text": [
      "100%|██████████| 716/716 [01:15<00:00,  9.45it/s]\n"
     ]
    },
    {
     "name": "stdout",
     "output_type": "stream",
     "text": [
      "{'val_loss': 3.3682408507277324, 'val_accuracy': 0.47103658536585363, 'precision': 0.22187546475312311, 'recall': 0.47103658536585363, 'f1-score': 0.3016586629596866, 'macro_f1-score': 0.013341968911917098, 'balanced_accuracy': 0.020833333333333332, 'mcc': 0.0, 'train_loss': 3.6638053708902283}\n",
      "Epoch 3/20\n"
     ]
    },
    {
     "name": "stderr",
     "output_type": "stream",
     "text": [
      "100%|██████████| 716/716 [01:15<00:00,  9.45it/s]\n"
     ]
    },
    {
     "name": "stdout",
     "output_type": "stream",
     "text": [
      "{'val_loss': 3.2199523826924765, 'val_accuracy': 0.47103658536585363, 'precision': 0.22187546475312311, 'recall': 0.47103658536585363, 'f1-score': 0.3016586629596866, 'macro_f1-score': 0.013341968911917098, 'balanced_accuracy': 0.020833333333333332, 'mcc': 0.0, 'train_loss': 3.661302004113544}\n",
      "Epoch 4/20\n"
     ]
    },
    {
     "name": "stderr",
     "output_type": "stream",
     "text": [
      "100%|██████████| 716/716 [01:15<00:00,  9.45it/s]\n"
     ]
    },
    {
     "name": "stdout",
     "output_type": "stream",
     "text": [
      "{'val_loss': 3.0125111850296578, 'val_accuracy': 0.47103658536585363, 'precision': 0.22187546475312311, 'recall': 0.47103658536585363, 'f1-score': 0.3016586629596866, 'macro_f1-score': 0.013341968911917098, 'balanced_accuracy': 0.020833333333333332, 'mcc': 0.0, 'train_loss': 3.6194215293703134}\n",
      "Early stopping.\n",
      "\n",
      "[Fold 2]\n",
      "Label distribution after resampling:\n",
      "  label 0: 2000\n",
      "  label 1: 200\n",
      "  label 2: 200\n",
      "  label 3: 200\n",
      "  label 4: 200\n",
      "  label 5: 200\n",
      "  label 6: 200\n",
      "  label 7: 200\n",
      "  label 8: 200\n",
      "  label 9: 200\n",
      "  label 10: 200\n",
      "  label 11: 200\n",
      "  label 12: 200\n",
      "  label 13: 200\n",
      "  label 14: 200\n",
      "  label 15: 200\n",
      "  label 16: 200\n",
      "  label 17: 200\n",
      "  label 18: 200\n",
      "  label 19: 200\n",
      "  label 20: 200\n",
      "  label 21: 200\n",
      "  label 22: 200\n",
      "  label 23: 200\n",
      "  label 24: 200\n",
      "  label 25: 200\n",
      "  label 26: 200\n",
      "  label 27: 200\n",
      "  label 28: 200\n",
      "  label 29: 200\n",
      "  label 30: 200\n",
      "  label 31: 200\n",
      "  label 32: 200\n",
      "  label 33: 200\n",
      "  label 34: 200\n",
      "  label 35: 200\n",
      "  label 36: 200\n",
      "  label 37: 200\n",
      "  label 38: 200\n",
      "  label 39: 200\n",
      "  label 40: 200\n",
      "  label 41: 200\n",
      "  label 42: 200\n",
      "  label 43: 200\n",
      "  label 44: 200\n",
      "  label 45: 242\n",
      "  label 46: 200\n",
      "  label 47: 200\n",
      "model is microsoft/deberta-base cnn\n",
      "Epoch 1/20\n"
     ]
    },
    {
     "name": "stderr",
     "output_type": "stream",
     "text": [
      "100%|██████████| 716/716 [01:15<00:00,  9.47it/s]\n"
     ]
    },
    {
     "name": "stdout",
     "output_type": "stream",
     "text": [
      "{'val_loss': 2.2015481707526416, 'val_accuracy': 0.4652936689549962, 'precision': 0.4529554933638543, 'recall': 0.4652936689549962, 'f1-score': 0.43387241410866373, 'macro_f1-score': 0.13262118745068752, 'balanced_accuracy': 0.19357001515247738, 'mcc': 0.28245769934475345, 'train_loss': 3.045065787084942}\n",
      "Epoch 2/20\n"
     ]
    },
    {
     "name": "stderr",
     "output_type": "stream",
     "text": [
      "100%|██████████| 716/716 [01:15<00:00,  9.47it/s]\n"
     ]
    },
    {
     "name": "stdout",
     "output_type": "stream",
     "text": [
      "{'val_loss': 1.7095556411801316, 'val_accuracy': 0.5301296720061022, 'precision': 0.571871439457905, 'recall': 0.5301296720061022, 'f1-score': 0.5146037700095228, 'macro_f1-score': 0.29536776969699896, 'balanced_accuracy': 0.35164660294633326, 'mcc': 0.37387478395729745, 'train_loss': 1.8055246506697973}\n",
      "Epoch 3/20\n"
     ]
    },
    {
     "name": "stderr",
     "output_type": "stream",
     "text": [
      "100%|██████████| 716/716 [01:15<00:00,  9.46it/s]\n"
     ]
    },
    {
     "name": "stdout",
     "output_type": "stream",
     "text": [
      "{'val_loss': 1.7129759628598282, 'val_accuracy': 0.559115179252479, 'precision': 0.6142959554930649, 'recall': 0.559115179252479, 'f1-score': 0.5694960441046376, 'macro_f1-score': 0.3460772082806778, 'balanced_accuracy': 0.39567369751705206, 'mcc': 0.44194974637694734, 'train_loss': 1.0163754149647066}\n",
      "Epoch 4/20\n"
     ]
    },
    {
     "name": "stderr",
     "output_type": "stream",
     "text": [
      "100%|██████████| 716/716 [01:15<00:00,  9.47it/s]\n"
     ]
    },
    {
     "name": "stdout",
     "output_type": "stream",
     "text": [
      "{'val_loss': 1.7046044352577954, 'val_accuracy': 0.5995423340961098, 'precision': 0.6293826992353763, 'recall': 0.5995423340961098, 'f1-score': 0.5880003112998097, 'macro_f1-score': 0.35803144096032136, 'balanced_accuracy': 0.3716659132837996, 'mcc': 0.46734127356204314, 'train_loss': 0.7057186409456437}\n",
      "Epoch 5/20\n"
     ]
    },
    {
     "name": "stderr",
     "output_type": "stream",
     "text": [
      "100%|██████████| 716/716 [01:15<00:00,  9.47it/s]\n"
     ]
    },
    {
     "name": "stdout",
     "output_type": "stream",
     "text": [
      "{'val_loss': 1.7701959304693269, 'val_accuracy': 0.6048817696414951, 'precision': 0.5928768576262142, 'recall': 0.6048817696414951, 'f1-score': 0.5854295292827049, 'macro_f1-score': 0.36361140437764083, 'balanced_accuracy': 0.3668509447821982, 'mcc': 0.46304357442425365, 'train_loss': 0.42254692849744757}\n",
      "Epoch 6/20\n"
     ]
    },
    {
     "name": "stderr",
     "output_type": "stream",
     "text": [
      "100%|██████████| 716/716 [01:15<00:00,  9.46it/s]\n"
     ]
    },
    {
     "name": "stdout",
     "output_type": "stream",
     "text": [
      "{'val_loss': 1.9002484039562504, 'val_accuracy': 0.6155606407322655, 'precision': 0.620532354187808, 'recall': 0.6155606407322655, 'f1-score': 0.6068446019783817, 'macro_f1-score': 0.38239401104099535, 'balanced_accuracy': 0.40174426147815767, 'mcc': 0.4895830352864622, 'train_loss': 0.3008758223136918}\n",
      "Epoch 7/20\n"
     ]
    },
    {
     "name": "stderr",
     "output_type": "stream",
     "text": [
      "100%|██████████| 716/716 [01:15<00:00,  9.45it/s]\n"
     ]
    },
    {
     "name": "stdout",
     "output_type": "stream",
     "text": [
      "{'val_loss': 2.0237887240037686, 'val_accuracy': 0.6094584286803967, 'precision': 0.6101283304595361, 'recall': 0.6094584286803967, 'f1-score': 0.5985465711961909, 'macro_f1-score': 0.36872042674641015, 'balanced_accuracy': 0.3923960261079662, 'mcc': 0.48398359041253153, 'train_loss': 0.2620036601812147}\n",
      "Epoch 8/20\n"
     ]
    },
    {
     "name": "stderr",
     "output_type": "stream",
     "text": [
      "100%|██████████| 716/716 [01:15<00:00,  9.44it/s]\n"
     ]
    },
    {
     "name": "stdout",
     "output_type": "stream",
     "text": [
      "{'val_loss': 2.149748156710369, 'val_accuracy': 0.5499618611746758, 'precision': 0.5861989207708344, 'recall': 0.5499618611746758, 'f1-score': 0.5507494698771168, 'macro_f1-score': 0.31769745422629875, 'balanced_accuracy': 0.36184936284491503, 'mcc': 0.42532958597518045, 'train_loss': 0.21497845530572385}\n",
      "Epoch 9/20\n"
     ]
    },
    {
     "name": "stderr",
     "output_type": "stream",
     "text": [
      "100%|██████████| 716/716 [01:15<00:00,  9.44it/s]\n"
     ]
    },
    {
     "name": "stdout",
     "output_type": "stream",
     "text": [
      "{'val_loss': 2.254302390101479, 'val_accuracy': 0.6209000762776506, 'precision': 0.6250085616770032, 'recall': 0.6209000762776506, 'f1-score': 0.6083861570648562, 'macro_f1-score': 0.375717872509778, 'balanced_accuracy': 0.36727019012043166, 'mcc': 0.49230327647433764, 'train_loss': 0.19299872208018554}\n",
      "Early stopping.\n",
      "\n",
      "[Fold 3]\n",
      "Label distribution after resampling:\n",
      "  label 0: 2000\n",
      "  label 1: 200\n",
      "  label 2: 200\n",
      "  label 3: 200\n",
      "  label 4: 200\n",
      "  label 5: 200\n",
      "  label 6: 200\n",
      "  label 7: 200\n",
      "  label 8: 200\n",
      "  label 9: 200\n",
      "  label 10: 200\n",
      "  label 11: 200\n",
      "  label 12: 200\n",
      "  label 13: 200\n",
      "  label 14: 200\n",
      "  label 15: 200\n",
      "  label 16: 200\n",
      "  label 17: 200\n",
      "  label 18: 200\n",
      "  label 19: 200\n",
      "  label 20: 200\n",
      "  label 21: 200\n",
      "  label 22: 200\n",
      "  label 23: 200\n",
      "  label 24: 200\n",
      "  label 25: 200\n",
      "  label 26: 200\n",
      "  label 27: 200\n",
      "  label 28: 200\n",
      "  label 29: 200\n",
      "  label 30: 200\n",
      "  label 31: 200\n",
      "  label 32: 200\n",
      "  label 33: 200\n",
      "  label 34: 200\n",
      "  label 35: 200\n",
      "  label 36: 200\n",
      "  label 37: 200\n",
      "  label 38: 200\n",
      "  label 39: 200\n",
      "  label 40: 200\n",
      "  label 41: 200\n",
      "  label 42: 200\n",
      "  label 43: 200\n",
      "  label 44: 200\n",
      "  label 45: 241\n",
      "  label 46: 200\n",
      "  label 47: 200\n",
      "model is microsoft/deberta-base cnn\n",
      "Epoch 1/20\n"
     ]
    },
    {
     "name": "stderr",
     "output_type": "stream",
     "text": [
      "100%|██████████| 716/716 [01:15<00:00,  9.44it/s]\n"
     ]
    },
    {
     "name": "stdout",
     "output_type": "stream",
     "text": [
      "{'val_loss': 3.189888936717336, 'val_accuracy': 0.47139588100686497, 'precision': 0.2222140766302384, 'recall': 0.47139588100686497, 'f1-score': 0.302045261236125, 'macro_f1-score': 0.01334888543286677, 'balanced_accuracy': 0.020833333333333332, 'mcc': 0.0, 'train_loss': 3.672086905334249}\n",
      "Epoch 2/20\n"
     ]
    },
    {
     "name": "stderr",
     "output_type": "stream",
     "text": [
      "100%|██████████| 716/716 [01:15<00:00,  9.44it/s]\n"
     ]
    },
    {
     "name": "stdout",
     "output_type": "stream",
     "text": [
      "{'val_loss': 2.8330082195561106, 'val_accuracy': 0.494279176201373, 'precision': 0.2772867858911652, 'recall': 0.494279176201373, 'f1-score': 0.35274724982648253, 'macro_f1-score': 0.021265012886721776, 'balanced_accuracy': 0.03631216068049587, 'mcc': 0.21545071149644107, 'train_loss': 3.5207926154802633}\n",
      "Epoch 3/20\n"
     ]
    },
    {
     "name": "stderr",
     "output_type": "stream",
     "text": [
      "100%|██████████| 716/716 [01:15<00:00,  9.44it/s]\n"
     ]
    },
    {
     "name": "stdout",
     "output_type": "stream",
     "text": [
      "{'val_loss': 2.5882777368150105, 'val_accuracy': 0.41952707856598015, 'precision': 0.27592898289634415, 'recall': 0.41952707856598015, 'f1-score': 0.31979663623064536, 'macro_f1-score': 0.021185406841146236, 'balanced_accuracy': 0.04787952186643618, 'mcc': 0.11198694171176196, 'train_loss': 3.3208339588935147}\n",
      "Epoch 4/20\n"
     ]
    },
    {
     "name": "stderr",
     "output_type": "stream",
     "text": [
      "100%|██████████| 716/716 [01:15<00:00,  9.44it/s]\n"
     ]
    },
    {
     "name": "stdout",
     "output_type": "stream",
     "text": [
      "{'val_loss': 2.8656974507541193, 'val_accuracy': 0.47139588100686497, 'precision': 0.2222140766302384, 'recall': 0.47139588100686497, 'f1-score': 0.302045261236125, 'macro_f1-score': 0.01334888543286677, 'balanced_accuracy': 0.020833333333333332, 'mcc': 0.0, 'train_loss': 3.47628004724087}\n",
      "Epoch 5/20\n"
     ]
    },
    {
     "name": "stderr",
     "output_type": "stream",
     "text": [
      "100%|██████████| 716/716 [01:15<00:00,  9.45it/s]\n"
     ]
    },
    {
     "name": "stdout",
     "output_type": "stream",
     "text": [
      "{'val_loss': 2.8116170226073844, 'val_accuracy': 0.4431731502669718, 'precision': 0.26765241851213645, 'recall': 0.4431731502669718, 'f1-score': 0.3328182509536368, 'macro_f1-score': 0.016072937097227357, 'balanced_accuracy': 0.03886192017259978, 'mcc': 0.1438386365013233, 'train_loss': 3.3776485224009893}\n",
      "Early stopping.\n",
      "\n",
      "[Fold 4]\n",
      "Label distribution after resampling:\n",
      "  label 0: 2000\n",
      "  label 1: 200\n",
      "  label 2: 200\n",
      "  label 3: 200\n",
      "  label 4: 200\n",
      "  label 5: 200\n",
      "  label 6: 200\n",
      "  label 7: 200\n",
      "  label 8: 200\n",
      "  label 9: 200\n",
      "  label 10: 200\n",
      "  label 11: 200\n",
      "  label 12: 200\n",
      "  label 13: 200\n",
      "  label 14: 200\n",
      "  label 15: 200\n",
      "  label 16: 200\n",
      "  label 17: 200\n",
      "  label 18: 200\n",
      "  label 19: 200\n",
      "  label 20: 200\n",
      "  label 21: 200\n",
      "  label 22: 200\n",
      "  label 23: 200\n",
      "  label 24: 200\n",
      "  label 25: 200\n",
      "  label 26: 200\n",
      "  label 27: 200\n",
      "  label 28: 200\n",
      "  label 29: 200\n",
      "  label 30: 200\n",
      "  label 31: 200\n",
      "  label 32: 200\n",
      "  label 33: 200\n",
      "  label 34: 200\n",
      "  label 35: 200\n",
      "  label 36: 200\n",
      "  label 37: 200\n",
      "  label 38: 200\n",
      "  label 39: 200\n",
      "  label 40: 200\n",
      "  label 41: 200\n",
      "  label 42: 200\n",
      "  label 43: 200\n",
      "  label 44: 200\n",
      "  label 45: 241\n",
      "  label 46: 200\n",
      "  label 47: 200\n",
      "model is microsoft/deberta-base cnn\n",
      "Epoch 1/20\n"
     ]
    },
    {
     "name": "stderr",
     "output_type": "stream",
     "text": [
      "100%|██████████| 716/716 [01:15<00:00,  9.45it/s]\n"
     ]
    },
    {
     "name": "stdout",
     "output_type": "stream",
     "text": [
      "{'val_loss': 3.115032021592303, 'val_accuracy': 0.45385202135774216, 'precision': 0.33168844877916226, 'recall': 0.45385202135774216, 'f1-score': 0.34029619671312894, 'macro_f1-score': 0.09010089685831567, 'balanced_accuracy': 0.14179919321472914, 'mcc': 0.15050819240433388, 'train_loss': 3.217809712920109}\n",
      "Epoch 2/20\n"
     ]
    },
    {
     "name": "stderr",
     "output_type": "stream",
     "text": [
      "100%|██████████| 716/716 [01:15<00:00,  9.45it/s]\n"
     ]
    },
    {
     "name": "stdout",
     "output_type": "stream",
     "text": [
      "{'val_loss': 1.8673563919416287, 'val_accuracy': 0.5293668954996186, 'precision': 0.606091161748464, 'recall': 0.5293668954996186, 'f1-score': 0.532064656726841, 'macro_f1-score': 0.29250985114145867, 'balanced_accuracy': 0.35390867805301135, 'mcc': 0.39416026014844907, 'train_loss': 1.89307759743829}\n",
      "Epoch 3/20\n"
     ]
    },
    {
     "name": "stderr",
     "output_type": "stream",
     "text": [
      "100%|██████████| 716/716 [01:15<00:00,  9.44it/s]\n"
     ]
    },
    {
     "name": "stdout",
     "output_type": "stream",
     "text": [
      "{'val_loss': 1.8325297970597336, 'val_accuracy': 0.5430968726163234, 'precision': 0.5893062456203316, 'recall': 0.5430968726163234, 'f1-score': 0.5285990479357664, 'macro_f1-score': 0.2950520482752552, 'balanced_accuracy': 0.3402086987509379, 'mcc': 0.3864108746821396, 'train_loss': 1.1917386262276985}\n",
      "Epoch 4/20\n"
     ]
    },
    {
     "name": "stderr",
     "output_type": "stream",
     "text": [
      "100%|██████████| 716/716 [01:15<00:00,  9.44it/s]\n"
     ]
    },
    {
     "name": "stdout",
     "output_type": "stream",
     "text": [
      "{'val_loss': 1.6342354940205086, 'val_accuracy': 0.5995423340961098, 'precision': 0.629579759996174, 'recall': 0.5995423340961098, 'f1-score': 0.6073622187363676, 'macro_f1-score': 0.3776301866671714, 'balanced_accuracy': 0.4017517216517759, 'mcc': 0.4886838514660568, 'train_loss': 0.6757725583566301}\n",
      "Epoch 5/20\n"
     ]
    },
    {
     "name": "stderr",
     "output_type": "stream",
     "text": [
      "100%|██████████| 716/716 [01:15<00:00,  9.46it/s]\n"
     ]
    },
    {
     "name": "stdout",
     "output_type": "stream",
     "text": [
      "{'val_loss': 1.6563074992197315, 'val_accuracy': 0.6262395118230358, 'precision': 0.6353650453768995, 'recall': 0.6262395118230358, 'f1-score': 0.6193989257387786, 'macro_f1-score': 0.38079596610872607, 'balanced_accuracy': 0.3913834230260478, 'mcc': 0.5045820293448442, 'train_loss': 0.41111847375618427}\n",
      "Epoch 6/20\n"
     ]
    },
    {
     "name": "stderr",
     "output_type": "stream",
     "text": [
      "100%|██████████| 716/716 [01:15<00:00,  9.46it/s]\n"
     ]
    },
    {
     "name": "stdout",
     "output_type": "stream",
     "text": [
      "{'val_loss': 1.8628400175309763, 'val_accuracy': 0.5804729214340199, 'precision': 0.6500142006758463, 'recall': 0.5804729214340199, 'f1-score': 0.5960618295614359, 'macro_f1-score': 0.36674048571128326, 'balanced_accuracy': 0.3935572615303047, 'mcc': 0.48126656690741926, 'train_loss': 0.3445686296710755}\n",
      "Epoch 7/20\n"
     ]
    },
    {
     "name": "stderr",
     "output_type": "stream",
     "text": [
      "100%|██████████| 716/716 [01:15<00:00,  9.44it/s]\n"
     ]
    },
    {
     "name": "stdout",
     "output_type": "stream",
     "text": [
      "{'val_loss': 2.062148253001818, 'val_accuracy': 0.601067887109077, 'precision': 0.6156805676266743, 'recall': 0.601067887109077, 'f1-score': 0.5924811261695605, 'macro_f1-score': 0.34020439245898043, 'balanced_accuracy': 0.34729274926462456, 'mcc': 0.4741056189607327, 'train_loss': 0.23209398083373198}\n",
      "Epoch 8/20\n"
     ]
    },
    {
     "name": "stderr",
     "output_type": "stream",
     "text": [
      "100%|██████████| 716/716 [01:15<00:00,  9.46it/s]\n"
     ]
    },
    {
     "name": "stdout",
     "output_type": "stream",
     "text": [
      "{'val_loss': 2.1083237241681028, 'val_accuracy': 0.6178489702517163, 'precision': 0.6229907081056049, 'recall': 0.6178489702517163, 'f1-score': 0.6123692748217187, 'macro_f1-score': 0.3853346531238477, 'balanced_accuracy': 0.3916823798879603, 'mcc': 0.49843911339695185, 'train_loss': 0.16703276379897608}\n",
      "Epoch 9/20\n"
     ]
    },
    {
     "name": "stderr",
     "output_type": "stream",
     "text": [
      "100%|██████████| 716/716 [01:15<00:00,  9.46it/s]\n"
     ]
    },
    {
     "name": "stdout",
     "output_type": "stream",
     "text": [
      "{'val_loss': 1.9802628592020128, 'val_accuracy': 0.6361556064073226, 'precision': 0.6392864697318008, 'recall': 0.6361556064073226, 'f1-score': 0.630311234921127, 'macro_f1-score': 0.4151240610790075, 'balanced_accuracy': 0.4160895500700958, 'mcc': 0.5165886743191834, 'train_loss': 0.20815147111561752}\n",
      "Epoch 10/20\n"
     ]
    },
    {
     "name": "stderr",
     "output_type": "stream",
     "text": [
      "100%|██████████| 716/716 [01:15<00:00,  9.46it/s]\n"
     ]
    },
    {
     "name": "stdout",
     "output_type": "stream",
     "text": [
      "{'val_loss': 2.2820437412436414, 'val_accuracy': 0.5980167810831426, 'precision': 0.6360141781357418, 'recall': 0.5980167810831426, 'f1-score': 0.6069921657064148, 'macro_f1-score': 0.37389795790976316, 'balanced_accuracy': 0.3971759155554497, 'mcc': 0.49440333471705955, 'train_loss': 0.13903096396532613}\n",
      "Epoch 11/20\n"
     ]
    },
    {
     "name": "stderr",
     "output_type": "stream",
     "text": [
      "100%|██████████| 716/716 [01:15<00:00,  9.45it/s]\n"
     ]
    },
    {
     "name": "stdout",
     "output_type": "stream",
     "text": [
      "{'val_loss': 2.1719330134915142, 'val_accuracy': 0.6102212051868803, 'precision': 0.6457904786598773, 'recall': 0.6102212051868803, 'f1-score': 0.617713926807262, 'macro_f1-score': 0.37529291657356384, 'balanced_accuracy': 0.40743505911034933, 'mcc': 0.5085133894142272, 'train_loss': 0.16844067998671405}\n",
      "Epoch 12/20\n"
     ]
    },
    {
     "name": "stderr",
     "output_type": "stream",
     "text": [
      "100%|██████████| 716/716 [01:15<00:00,  9.44it/s]\n"
     ]
    },
    {
     "name": "stdout",
     "output_type": "stream",
     "text": [
      "{'val_loss': 2.252395684035813, 'val_accuracy': 0.6209000762776506, 'precision': 0.6505789562521088, 'recall': 0.6209000762776506, 'f1-score': 0.6243594038786824, 'macro_f1-score': 0.40243684281981507, 'balanced_accuracy': 0.4159764750658211, 'mcc': 0.51960995081662, 'train_loss': 0.12124952829365525}\n",
      "Early stopping.\n",
      "\n",
      "[Fold 5]\n",
      "Label distribution after resampling:\n",
      "  label 0: 2000\n",
      "  label 1: 200\n",
      "  label 2: 200\n",
      "  label 3: 200\n",
      "  label 4: 200\n",
      "  label 5: 200\n",
      "  label 6: 200\n",
      "  label 7: 200\n",
      "  label 8: 200\n",
      "  label 9: 200\n",
      "  label 10: 200\n",
      "  label 11: 200\n",
      "  label 12: 200\n",
      "  label 13: 200\n",
      "  label 14: 200\n",
      "  label 15: 200\n",
      "  label 16: 200\n",
      "  label 17: 200\n",
      "  label 18: 200\n",
      "  label 19: 200\n",
      "  label 20: 200\n",
      "  label 21: 200\n",
      "  label 22: 200\n",
      "  label 23: 200\n",
      "  label 24: 200\n",
      "  label 25: 200\n",
      "  label 26: 200\n",
      "  label 27: 200\n",
      "  label 28: 200\n",
      "  label 29: 200\n",
      "  label 30: 200\n",
      "  label 31: 200\n",
      "  label 32: 200\n",
      "  label 33: 200\n",
      "  label 34: 200\n",
      "  label 35: 200\n",
      "  label 36: 200\n",
      "  label 37: 200\n",
      "  label 38: 200\n",
      "  label 39: 200\n",
      "  label 40: 200\n",
      "  label 41: 200\n",
      "  label 42: 200\n",
      "  label 43: 200\n",
      "  label 44: 200\n",
      "  label 45: 242\n",
      "  label 46: 200\n",
      "  label 47: 200\n",
      "model is microsoft/deberta-base cnn\n",
      "Epoch 1/20\n"
     ]
    },
    {
     "name": "stderr",
     "output_type": "stream",
     "text": [
      "100%|██████████| 716/716 [01:15<00:00,  9.45it/s]\n"
     ]
    },
    {
     "name": "stdout",
     "output_type": "stream",
     "text": [
      "{'val_loss': 1.7141892328494932, 'val_accuracy': 0.5446224256292906, 'precision': 0.6016097901135901, 'recall': 0.5446224256292906, 'f1-score': 0.5422357937635792, 'macro_f1-score': 0.3067943850718846, 'balanced_accuracy': 0.3814929889951411, 'mcc': 0.4131067168907644, 'train_loss': 2.8103315955933246}\n",
      "Epoch 2/20\n"
     ]
    },
    {
     "name": "stderr",
     "output_type": "stream",
     "text": [
      "100%|██████████| 716/716 [01:15<00:00,  9.45it/s]\n"
     ]
    },
    {
     "name": "stdout",
     "output_type": "stream",
     "text": [
      "{'val_loss': 1.4527957555724353, 'val_accuracy': 0.6086956521739131, 'precision': 0.6297361301338573, 'recall': 0.6086956521739131, 'f1-score': 0.6113296229028495, 'macro_f1-score': 0.40341130469656944, 'balanced_accuracy': 0.4173694301232587, 'mcc': 0.4968379260405896, 'train_loss': 1.1182429995075618}\n",
      "Epoch 3/20\n"
     ]
    },
    {
     "name": "stderr",
     "output_type": "stream",
     "text": [
      "100%|██████████| 716/716 [01:15<00:00,  9.46it/s]\n"
     ]
    },
    {
     "name": "stdout",
     "output_type": "stream",
     "text": [
      "{'val_loss': 1.7545391179439498, 'val_accuracy': 0.585812356979405, 'precision': 0.6252505494038809, 'recall': 0.585812356979405, 'f1-score': 0.5837553920737536, 'macro_f1-score': 0.3422877090698764, 'balanced_accuracy': 0.3784700078457104, 'mcc': 0.4549489617897742, 'train_loss': 0.6771049347378355}\n",
      "Epoch 4/20\n"
     ]
    },
    {
     "name": "stderr",
     "output_type": "stream",
     "text": [
      "100%|██████████| 716/716 [01:15<00:00,  9.44it/s]\n"
     ]
    },
    {
     "name": "stdout",
     "output_type": "stream",
     "text": [
      "{'val_loss': 1.6829831113175648, 'val_accuracy': 0.6292906178489702, 'precision': 0.6330713468287391, 'recall': 0.6292906178489702, 'f1-score': 0.6199125286854656, 'macro_f1-score': 0.3922341462117315, 'balanced_accuracy': 0.40526893478457376, 'mcc': 0.5124759575893986, 'train_loss': 0.40406192723315665}\n",
      "Epoch 5/20\n"
     ]
    },
    {
     "name": "stderr",
     "output_type": "stream",
     "text": [
      "100%|██████████| 716/716 [01:15<00:00,  9.45it/s]\n"
     ]
    },
    {
     "name": "stdout",
     "output_type": "stream",
     "text": [
      "{'val_loss': 1.676618973111234, 'val_accuracy': 0.6308161708619374, 'precision': 0.651887055644771, 'recall': 0.6308161708619374, 'f1-score': 0.6303877702815706, 'macro_f1-score': 0.42201092412452895, 'balanced_accuracy': 0.4261937552977031, 'mcc': 0.5280773879327763, 'train_loss': 0.27731689207409327}\n",
      "Epoch 6/20\n"
     ]
    },
    {
     "name": "stderr",
     "output_type": "stream",
     "text": [
      "100%|██████████| 716/716 [01:15<00:00,  9.45it/s]\n"
     ]
    },
    {
     "name": "stdout",
     "output_type": "stream",
     "text": [
      "{'val_loss': 1.8650242310108207, 'val_accuracy': 0.6331045003813882, 'precision': 0.643564501151346, 'recall': 0.6331045003813882, 'f1-score': 0.6259295954682456, 'macro_f1-score': 0.40480204902427125, 'balanced_accuracy': 0.401671763292139, 'mcc': 0.5180078232495289, 'train_loss': 0.21423688505362595}\n",
      "Epoch 7/20\n"
     ]
    },
    {
     "name": "stderr",
     "output_type": "stream",
     "text": [
      "100%|██████████| 716/716 [01:15<00:00,  9.46it/s]\n"
     ]
    },
    {
     "name": "stdout",
     "output_type": "stream",
     "text": [
      "{'val_loss': 2.0601077937498324, 'val_accuracy': 0.597254004576659, 'precision': 0.6497764831902795, 'recall': 0.597254004576659, 'f1-score': 0.6086048670455761, 'macro_f1-score': 0.39900716327619995, 'balanced_accuracy': 0.4091898040036413, 'mcc': 0.494197933026354, 'train_loss': 0.17563486853861587}\n",
      "Epoch 8/20\n"
     ]
    },
    {
     "name": "stderr",
     "output_type": "stream",
     "text": [
      "100%|██████████| 716/716 [01:15<00:00,  9.45it/s]\n"
     ]
    },
    {
     "name": "stdout",
     "output_type": "stream",
     "text": [
      "{'val_loss': 2.077773992971676, 'val_accuracy': 0.6308161708619374, 'precision': 0.6390916934192047, 'recall': 0.6308161708619374, 'f1-score': 0.626851095678903, 'macro_f1-score': 0.40167269258756494, 'balanced_accuracy': 0.3938892958385048, 'mcc': 0.5220368671100278, 'train_loss': 0.16450530179748937}\n",
      "Early stopping.\n",
      "\n",
      " === microsoft/deberta-base + cnn + ros Final 5-fold Cross-Validation Results ===\n",
      "val_loss: 2.3449\n",
      "val_accuracy: 0.5696\n",
      "precision: 0.4822\n",
      "recall: 0.5696\n",
      "f1-score: 0.5044\n",
      "macro_f1-score: 0.2508\n",
      "balanced_accuracy: 0.2602\n",
      "mcc: 0.3499\n",
      "train_loss: 1.5988\n",
      "total_seconds: 3018.0000\n",
      "total_time: 0 hrs 50 mins 18 secs\n",
      "▶ Running: microsoft/deberta-base + lstm + ros\n",
      "tokenizer is microsoft/deberta-base\n",
      "Using device: cuda\n",
      "CUDA Available: True\n",
      "CUDA Device: NVIDIA GeForce RTX 5070 Ti\n",
      "Current GPU Memory Allocated: 0.02 GB\n",
      "Current GPU Memory Cached: 5.30 GB\n",
      "\n",
      "[Fold 1]\n",
      "Label distribution after resampling:\n",
      "  label 0: 2000\n",
      "  label 1: 200\n",
      "  label 2: 200\n",
      "  label 3: 200\n",
      "  label 4: 200\n",
      "  label 5: 200\n",
      "  label 6: 200\n",
      "  label 7: 200\n",
      "  label 8: 200\n",
      "  label 9: 200\n",
      "  label 10: 200\n",
      "  label 11: 200\n",
      "  label 12: 200\n",
      "  label 13: 200\n",
      "  label 14: 200\n",
      "  label 15: 200\n",
      "  label 16: 200\n",
      "  label 17: 200\n",
      "  label 18: 200\n",
      "  label 19: 200\n",
      "  label 20: 200\n",
      "  label 21: 200\n",
      "  label 22: 200\n",
      "  label 23: 200\n",
      "  label 24: 200\n",
      "  label 25: 200\n",
      "  label 26: 200\n",
      "  label 27: 200\n",
      "  label 28: 200\n",
      "  label 29: 200\n",
      "  label 30: 200\n",
      "  label 31: 200\n",
      "  label 32: 200\n",
      "  label 33: 200\n",
      "  label 34: 200\n",
      "  label 35: 200\n",
      "  label 36: 200\n",
      "  label 37: 200\n",
      "  label 38: 200\n",
      "  label 39: 200\n",
      "  label 40: 200\n",
      "  label 41: 200\n",
      "  label 42: 200\n",
      "  label 43: 200\n",
      "  label 44: 200\n",
      "  label 45: 242\n",
      "  label 46: 200\n",
      "  label 47: 200\n",
      "model is microsoft/deberta-base lstm\n",
      "Epoch 1/20\n"
     ]
    },
    {
     "name": "stderr",
     "output_type": "stream",
     "text": [
      "100%|██████████| 716/716 [01:16<00:00,  9.31it/s]\n"
     ]
    },
    {
     "name": "stdout",
     "output_type": "stream",
     "text": [
      "{'val_loss': 2.621070073872078, 'val_accuracy': 0.45121951219512196, 'precision': 0.3912161058549268, 'recall': 0.45121951219512196, 'f1-score': 0.40417978543359745, 'macro_f1-score': 0.052704131085689145, 'balanced_accuracy': 0.09195259334733208, 'mcc': 0.2559949377352462, 'train_loss': 3.3199801191937324}\n",
      "Epoch 2/20\n"
     ]
    },
    {
     "name": "stderr",
     "output_type": "stream",
     "text": [
      "100%|██████████| 716/716 [01:16<00:00,  9.31it/s]\n"
     ]
    },
    {
     "name": "stdout",
     "output_type": "stream",
     "text": [
      "{'val_loss': 2.4236825224829883, 'val_accuracy': 0.43597560975609756, 'precision': 0.40441262489881735, 'recall': 0.43597560975609756, 'f1-score': 0.3998523565600369, 'macro_f1-score': 0.06674196061530079, 'balanced_accuracy': 0.12957170025215958, 'mcc': 0.2310687834584281, 'train_loss': 2.8226126454062967}\n",
      "Epoch 3/20\n"
     ]
    },
    {
     "name": "stderr",
     "output_type": "stream",
     "text": [
      "100%|██████████| 716/716 [01:16<00:00,  9.32it/s]\n"
     ]
    },
    {
     "name": "stdout",
     "output_type": "stream",
     "text": [
      "{'val_loss': 2.2400075080918103, 'val_accuracy': 0.4367378048780488, 'precision': 0.4509766187927101, 'recall': 0.4367378048780488, 'f1-score': 0.40855798631634804, 'macro_f1-score': 0.07395385363060132, 'balanced_accuracy': 0.13291746812305003, 'mcc': 0.24706199899542333, 'train_loss': 2.565351732616318}\n",
      "Epoch 4/20\n"
     ]
    },
    {
     "name": "stderr",
     "output_type": "stream",
     "text": [
      "100%|██████████| 716/716 [01:16<00:00,  9.33it/s]\n"
     ]
    },
    {
     "name": "stdout",
     "output_type": "stream",
     "text": [
      "{'val_loss': 2.3335621015327734, 'val_accuracy': 0.41996951219512196, 'precision': 0.4448824148751247, 'recall': 0.41996951219512196, 'f1-score': 0.4042256639013145, 'macro_f1-score': 0.069115270089169, 'balanced_accuracy': 0.11730348382482464, 'mcc': 0.23876367982627866, 'train_loss': 2.4999843626048976}\n",
      "Epoch 5/20\n"
     ]
    },
    {
     "name": "stderr",
     "output_type": "stream",
     "text": [
      "100%|██████████| 716/716 [01:16<00:00,  9.31it/s]\n"
     ]
    },
    {
     "name": "stdout",
     "output_type": "stream",
     "text": [
      "{'val_loss': 2.084396537484192, 'val_accuracy': 0.4740853658536585, 'precision': 0.4365518595366443, 'recall': 0.4740853658536585, 'f1-score': 0.4334051289989543, 'macro_f1-score': 0.13358481458555738, 'balanced_accuracy': 0.17865266761976636, 'mcc': 0.2751226503251645, 'train_loss': 2.1836248010230466}\n",
      "Epoch 6/20\n"
     ]
    },
    {
     "name": "stderr",
     "output_type": "stream",
     "text": [
      "100%|██████████| 716/716 [01:16<00:00,  9.32it/s]\n"
     ]
    },
    {
     "name": "stdout",
     "output_type": "stream",
     "text": [
      "{'val_loss': 2.3163746391854634, 'val_accuracy': 0.41996951219512196, 'precision': 0.42255808449044724, 'recall': 0.41996951219512196, 'f1-score': 0.41247024824510714, 'macro_f1-score': 0.11151011832620601, 'balanced_accuracy': 0.15397589954922256, 'mcc': 0.2512203479742062, 'train_loss': 2.0098063289786183}\n",
      "Epoch 7/20\n"
     ]
    },
    {
     "name": "stderr",
     "output_type": "stream",
     "text": [
      "100%|██████████| 716/716 [01:16<00:00,  9.33it/s]\n"
     ]
    },
    {
     "name": "stdout",
     "output_type": "stream",
     "text": [
      "{'val_loss': 2.107194523258907, 'val_accuracy': 0.4794207317073171, 'precision': 0.516390156629016, 'recall': 0.4794207317073171, 'f1-score': 0.4644993342609876, 'macro_f1-score': 0.17446705919307648, 'balanced_accuracy': 0.2273388824292184, 'mcc': 0.3094514309991953, 'train_loss': 1.7807667306182104}\n",
      "Epoch 8/20\n"
     ]
    },
    {
     "name": "stderr",
     "output_type": "stream",
     "text": [
      "100%|██████████| 716/716 [01:16<00:00,  9.33it/s]\n"
     ]
    },
    {
     "name": "stdout",
     "output_type": "stream",
     "text": [
      "{'val_loss': 2.1009415126428372, 'val_accuracy': 0.4481707317073171, 'precision': 0.4935308968688632, 'recall': 0.4481707317073171, 'f1-score': 0.44976093430915814, 'macro_f1-score': 0.18120156368736606, 'balanced_accuracy': 0.2114422738854603, 'mcc': 0.28494263783095625, 'train_loss': 1.760021970758225}\n",
      "Epoch 9/20\n"
     ]
    },
    {
     "name": "stderr",
     "output_type": "stream",
     "text": [
      "100%|██████████| 716/716 [01:16<00:00,  9.32it/s]\n"
     ]
    },
    {
     "name": "stdout",
     "output_type": "stream",
     "text": [
      "{'val_loss': 2.1804969020006135, 'val_accuracy': 0.4413109756097561, 'precision': 0.5064958065752141, 'recall': 0.4413109756097561, 'f1-score': 0.44716459494074784, 'macro_f1-score': 0.17894289194388144, 'balanced_accuracy': 0.24140846462606488, 'mcc': 0.2861176442792211, 'train_loss': 1.5665216254455416}\n",
      "Epoch 10/20\n"
     ]
    },
    {
     "name": "stderr",
     "output_type": "stream",
     "text": [
      "100%|██████████| 716/716 [01:16<00:00,  9.32it/s]\n"
     ]
    },
    {
     "name": "stdout",
     "output_type": "stream",
     "text": [
      "{'val_loss': 2.1902453506865154, 'val_accuracy': 0.4489329268292683, 'precision': 0.5237583855842115, 'recall': 0.4489329268292683, 'f1-score': 0.4612197585940114, 'macro_f1-score': 0.2034108648465609, 'balanced_accuracy': 0.24906710306475646, 'mcc': 0.3026943969064987, 'train_loss': 1.3887060701680582}\n",
      "Epoch 11/20\n"
     ]
    },
    {
     "name": "stderr",
     "output_type": "stream",
     "text": [
      "100%|██████████| 716/716 [01:16<00:00,  9.33it/s]\n"
     ]
    },
    {
     "name": "stdout",
     "output_type": "stream",
     "text": [
      "{'val_loss': 2.1711199160029246, 'val_accuracy': 0.4573170731707317, 'precision': 0.4917520855585777, 'recall': 0.4573170731707317, 'f1-score': 0.4509979428063964, 'macro_f1-score': 0.1632206690982585, 'balanced_accuracy': 0.2011684217041513, 'mcc': 0.2881324856535697, 'train_loss': 1.8695314536131293}\n",
      "Epoch 12/20\n"
     ]
    },
    {
     "name": "stderr",
     "output_type": "stream",
     "text": [
      "100%|██████████| 716/716 [01:16<00:00,  9.32it/s]\n"
     ]
    },
    {
     "name": "stdout",
     "output_type": "stream",
     "text": [
      "{'val_loss': 2.2491250328901335, 'val_accuracy': 0.4169207317073171, 'precision': 0.5387812414214034, 'recall': 0.4169207317073171, 'f1-score': 0.4467826808985358, 'macro_f1-score': 0.1950592679365443, 'balanced_accuracy': 0.2475210689231275, 'mcc': 0.29431033301572834, 'train_loss': 1.3965457575863967}\n",
      "Epoch 13/20\n"
     ]
    },
    {
     "name": "stderr",
     "output_type": "stream",
     "text": [
      "100%|██████████| 716/716 [01:16<00:00,  9.33it/s]\n"
     ]
    },
    {
     "name": "stdout",
     "output_type": "stream",
     "text": [
      "{'val_loss': 2.1715901719360815, 'val_accuracy': 0.4527439024390244, 'precision': 0.5160139045481177, 'recall': 0.4527439024390244, 'f1-score': 0.46975009070383644, 'macro_f1-score': 0.22426341129953042, 'balanced_accuracy': 0.2571414900008245, 'mcc': 0.3114149224570704, 'train_loss': 1.2473976365264567}\n",
      "Epoch 14/20\n"
     ]
    },
    {
     "name": "stderr",
     "output_type": "stream",
     "text": [
      "100%|██████████| 716/716 [01:17<00:00,  9.30it/s]\n"
     ]
    },
    {
     "name": "stdout",
     "output_type": "stream",
     "text": [
      "{'val_loss': 2.230722295801814, 'val_accuracy': 0.4679878048780488, 'precision': 0.5177827436102989, 'recall': 0.4679878048780488, 'f1-score': 0.4818113561698023, 'macro_f1-score': 0.22327210275838016, 'balanced_accuracy': 0.25968566479958816, 'mcc': 0.3298544302967219, 'train_loss': 1.0493605550191256}\n",
      "Epoch 15/20\n"
     ]
    },
    {
     "name": "stderr",
     "output_type": "stream",
     "text": [
      "100%|██████████| 716/716 [01:16<00:00,  9.31it/s]\n"
     ]
    },
    {
     "name": "stdout",
     "output_type": "stream",
     "text": [
      "{'val_loss': 2.237144112586975, 'val_accuracy': 0.4603658536585366, 'precision': 0.5473515616791139, 'recall': 0.4603658536585366, 'f1-score': 0.48282686489727805, 'macro_f1-score': 0.22436059405650777, 'balanced_accuracy': 0.2637552977242629, 'mcc': 0.33112411081844334, 'train_loss': 0.9724694467748011}\n",
      "Epoch 16/20\n"
     ]
    },
    {
     "name": "stderr",
     "output_type": "stream",
     "text": [
      "100%|██████████| 716/716 [01:17<00:00,  9.30it/s]\n"
     ]
    },
    {
     "name": "stdout",
     "output_type": "stream",
     "text": [
      "{'val_loss': 2.2077784174826087, 'val_accuracy': 0.4893292682926829, 'precision': 0.5685378028124771, 'recall': 0.4893292682926829, 'f1-score': 0.5060417369273941, 'macro_f1-score': 0.24008366948698548, 'balanced_accuracy': 0.2812210582858396, 'mcc': 0.36089452655250676, 'train_loss': 0.9406286087407413}\n",
      "Epoch 17/20\n"
     ]
    },
    {
     "name": "stderr",
     "output_type": "stream",
     "text": [
      "100%|██████████| 716/716 [01:16<00:00,  9.32it/s]\n"
     ]
    },
    {
     "name": "stdout",
     "output_type": "stream",
     "text": [
      "{'val_loss': 2.184178720887114, 'val_accuracy': 0.49314024390243905, 'precision': 0.5672741343225257, 'recall': 0.49314024390243905, 'f1-score': 0.514081696012877, 'macro_f1-score': 0.2636048043965489, 'balanced_accuracy': 0.2993140449878403, 'mcc': 0.3668704788902794, 'train_loss': 0.840165697204667}\n",
      "Epoch 18/20\n"
     ]
    },
    {
     "name": "stderr",
     "output_type": "stream",
     "text": [
      "100%|██████████| 716/716 [01:16<00:00,  9.31it/s]\n"
     ]
    },
    {
     "name": "stdout",
     "output_type": "stream",
     "text": [
      "{'val_loss': 2.298081974430782, 'val_accuracy': 0.4794207317073171, 'precision': 0.5329412650502974, 'recall': 0.4794207317073171, 'f1-score': 0.4877804699228695, 'macro_f1-score': 0.2399980170497702, 'balanced_accuracy': 0.2807956033928077, 'mcc': 0.33317606652774434, 'train_loss': 0.8097679067465513}\n",
      "Epoch 19/20\n"
     ]
    },
    {
     "name": "stderr",
     "output_type": "stream",
     "text": [
      "100%|██████████| 716/716 [01:16<00:00,  9.33it/s]\n"
     ]
    },
    {
     "name": "stdout",
     "output_type": "stream",
     "text": [
      "{'val_loss': 2.1980961056017296, 'val_accuracy': 0.5015243902439024, 'precision': 0.5504532804433523, 'recall': 0.5015243902439024, 'f1-score': 0.5145283409525246, 'macro_f1-score': 0.24365412152560453, 'balanced_accuracy': 0.2669558343464478, 'mcc': 0.3609162924629276, 'train_loss': 0.7263631491854204}\n",
      "Epoch 20/20\n"
     ]
    },
    {
     "name": "stderr",
     "output_type": "stream",
     "text": [
      "100%|██████████| 716/716 [01:16<00:00,  9.31it/s]\n"
     ]
    },
    {
     "name": "stdout",
     "output_type": "stream",
     "text": [
      "{'val_loss': 2.167924412866918, 'val_accuracy': 0.5289634146341463, 'precision': 0.5799679388168119, 'recall': 0.5289634146341463, 'f1-score': 0.5403573157754973, 'macro_f1-score': 0.29813458694669676, 'balanced_accuracy': 0.3130892839742812, 'mcc': 0.3895420986334586, 'train_loss': 0.6708828990019899}\n",
      "\n",
      "[Fold 2]\n",
      "Label distribution after resampling:\n",
      "  label 0: 2000\n",
      "  label 1: 200\n",
      "  label 2: 200\n",
      "  label 3: 200\n",
      "  label 4: 200\n",
      "  label 5: 200\n",
      "  label 6: 200\n",
      "  label 7: 200\n",
      "  label 8: 200\n",
      "  label 9: 200\n",
      "  label 10: 200\n",
      "  label 11: 200\n",
      "  label 12: 200\n",
      "  label 13: 200\n",
      "  label 14: 200\n",
      "  label 15: 200\n",
      "  label 16: 200\n",
      "  label 17: 200\n",
      "  label 18: 200\n",
      "  label 19: 200\n",
      "  label 20: 200\n",
      "  label 21: 200\n",
      "  label 22: 200\n",
      "  label 23: 200\n",
      "  label 24: 200\n",
      "  label 25: 200\n",
      "  label 26: 200\n",
      "  label 27: 200\n",
      "  label 28: 200\n",
      "  label 29: 200\n",
      "  label 30: 200\n",
      "  label 31: 200\n",
      "  label 32: 200\n",
      "  label 33: 200\n",
      "  label 34: 200\n",
      "  label 35: 200\n",
      "  label 36: 200\n",
      "  label 37: 200\n",
      "  label 38: 200\n",
      "  label 39: 200\n",
      "  label 40: 200\n",
      "  label 41: 200\n",
      "  label 42: 200\n",
      "  label 43: 200\n",
      "  label 44: 200\n",
      "  label 45: 242\n",
      "  label 46: 200\n",
      "  label 47: 200\n",
      "model is microsoft/deberta-base lstm\n",
      "Epoch 1/20\n"
     ]
    },
    {
     "name": "stderr",
     "output_type": "stream",
     "text": [
      "100%|██████████| 716/716 [01:16<00:00,  9.31it/s]\n"
     ]
    },
    {
     "name": "stdout",
     "output_type": "stream",
     "text": [
      "{'val_loss': 2.3605454724009443, 'val_accuracy': 0.4469870327993898, 'precision': 0.37644955713580663, 'recall': 0.4469870327993898, 'f1-score': 0.4041796242154124, 'macro_f1-score': 0.05950430561172534, 'balanced_accuracy': 0.09944440361447802, 'mcc': 0.24966698467477486, 'train_loss': 3.262504917283298}\n",
      "Epoch 2/20\n"
     ]
    },
    {
     "name": "stderr",
     "output_type": "stream",
     "text": [
      "100%|██████████| 716/716 [01:16<00:00,  9.32it/s]\n"
     ]
    },
    {
     "name": "stdout",
     "output_type": "stream",
     "text": [
      "{'val_loss': 2.343277822180492, 'val_accuracy': 0.39282990083905417, 'precision': 0.4590249120950803, 'recall': 0.39282990083905417, 'f1-score': 0.40496540778247025, 'macro_f1-score': 0.08450688169782561, 'balanced_accuracy': 0.15636131525693592, 'mcc': 0.2501900613851042, 'train_loss': 2.739481360885684}\n",
      "Epoch 3/20\n"
     ]
    },
    {
     "name": "stderr",
     "output_type": "stream",
     "text": [
      "100%|██████████| 716/716 [01:16<00:00,  9.31it/s]\n"
     ]
    },
    {
     "name": "stdout",
     "output_type": "stream",
     "text": [
      "{'val_loss': 2.1085341761751875, 'val_accuracy': 0.45080091533180777, 'precision': 0.4771909673064269, 'recall': 0.45080091533180777, 'f1-score': 0.438718688900784, 'macro_f1-score': 0.12280830993741602, 'balanced_accuracy': 0.17730003834849262, 'mcc': 0.2793800573648512, 'train_loss': 2.2819326681464744}\n",
      "Epoch 4/20\n"
     ]
    },
    {
     "name": "stderr",
     "output_type": "stream",
     "text": [
      "100%|██████████| 716/716 [01:16<00:00,  9.31it/s]\n"
     ]
    },
    {
     "name": "stdout",
     "output_type": "stream",
     "text": [
      "{'val_loss': 2.0436960400604622, 'val_accuracy': 0.41876430205949655, 'precision': 0.5120051732893705, 'recall': 0.41876430205949655, 'f1-score': 0.43114532287668617, 'macro_f1-score': 0.12481662107039106, 'balanced_accuracy': 0.16296019143602683, 'mcc': 0.26973003625769587, 'train_loss': 1.923399297218749}\n",
      "Epoch 5/20\n"
     ]
    },
    {
     "name": "stderr",
     "output_type": "stream",
     "text": [
      "100%|██████████| 716/716 [01:16<00:00,  9.33it/s]\n"
     ]
    },
    {
     "name": "stdout",
     "output_type": "stream",
     "text": [
      "{'val_loss': 1.926571811117777, 'val_accuracy': 0.4950419527078566, 'precision': 0.5030109612206536, 'recall': 0.4950419527078566, 'f1-score': 0.48476113254918096, 'macro_f1-score': 0.16440507791611106, 'balanced_accuracy': 0.20941731268733135, 'mcc': 0.32870515825827507, 'train_loss': 1.6569550879840744}\n",
      "Epoch 6/20\n"
     ]
    },
    {
     "name": "stderr",
     "output_type": "stream",
     "text": [
      "100%|██████████| 716/716 [01:16<00:00,  9.33it/s]\n"
     ]
    },
    {
     "name": "stdout",
     "output_type": "stream",
     "text": [
      "{'val_loss': 1.9492517535279437, 'val_accuracy': 0.4935163996948894, 'precision': 0.5500534845564631, 'recall': 0.4935163996948894, 'f1-score': 0.49943988497960995, 'macro_f1-score': 0.20192659251008724, 'balanced_accuracy': 0.23891403560202043, 'mcc': 0.34921205499107866, 'train_loss': 1.4284763167190817}\n",
      "Epoch 7/20\n"
     ]
    },
    {
     "name": "stderr",
     "output_type": "stream",
     "text": [
      "100%|██████████| 716/716 [01:16<00:00,  9.31it/s]\n"
     ]
    },
    {
     "name": "stdout",
     "output_type": "stream",
     "text": [
      "{'val_loss': 1.8805130313082439, 'val_accuracy': 0.5484363081617086, 'precision': 0.5551907933515781, 'recall': 0.5484363081617086, 'f1-score': 0.5249068909237121, 'macro_f1-score': 0.2223271958967464, 'balanced_accuracy': 0.2624837321336071, 'mcc': 0.39400668300405745, 'train_loss': 1.2222047523496538}\n",
      "Epoch 8/20\n"
     ]
    },
    {
     "name": "stderr",
     "output_type": "stream",
     "text": [
      "100%|██████████| 716/716 [01:16<00:00,  9.32it/s]\n"
     ]
    },
    {
     "name": "stdout",
     "output_type": "stream",
     "text": [
      "{'val_loss': 2.0248121895441193, 'val_accuracy': 0.5049580472921434, 'precision': 0.5391324440388676, 'recall': 0.5049580472921434, 'f1-score': 0.5044040574465044, 'macro_f1-score': 0.24308613828956172, 'balanced_accuracy': 0.2909698362856075, 'mcc': 0.36779293968263277, 'train_loss': 1.0649252260863449}\n",
      "Epoch 9/20\n"
     ]
    },
    {
     "name": "stderr",
     "output_type": "stream",
     "text": [
      "100%|██████████| 716/716 [01:16<00:00,  9.32it/s]\n"
     ]
    },
    {
     "name": "stdout",
     "output_type": "stream",
     "text": [
      "{'val_loss': 1.9965686042134354, 'val_accuracy': 0.4958047292143402, 'precision': 0.5643641252520768, 'recall': 0.4958047292143402, 'f1-score': 0.5060155604040742, 'macro_f1-score': 0.2411847593475481, 'balanced_accuracy': 0.2859113651461082, 'mcc': 0.3610178249551846, 'train_loss': 1.0787242840371984}\n",
      "Epoch 10/20\n"
     ]
    },
    {
     "name": "stderr",
     "output_type": "stream",
     "text": [
      "100%|██████████| 716/716 [01:16<00:00,  9.31it/s]\n"
     ]
    },
    {
     "name": "stdout",
     "output_type": "stream",
     "text": [
      "{'val_loss': 1.9895585811719663, 'val_accuracy': 0.5202135774218154, 'precision': 0.5501036451981218, 'recall': 0.5202135774218154, 'f1-score': 0.5203713416099089, 'macro_f1-score': 0.2567145862591615, 'balanced_accuracy': 0.2855853347147428, 'mcc': 0.3750017528595454, 'train_loss': 1.0523888734715612}\n",
      "Epoch 11/20\n"
     ]
    },
    {
     "name": "stderr",
     "output_type": "stream",
     "text": [
      "100%|██████████| 716/716 [01:16<00:00,  9.32it/s]\n"
     ]
    },
    {
     "name": "stdout",
     "output_type": "stream",
     "text": [
      "{'val_loss': 2.053153493782369, 'val_accuracy': 0.517162471395881, 'precision': 0.5489420004175554, 'recall': 0.517162471395881, 'f1-score': 0.5232471763821712, 'macro_f1-score': 0.255739814387904, 'balanced_accuracy': 0.2848994023460731, 'mcc': 0.37724832771618955, 'train_loss': 0.8286735591317356}\n",
      "Epoch 12/20\n"
     ]
    },
    {
     "name": "stderr",
     "output_type": "stream",
     "text": [
      "100%|██████████| 716/716 [01:16<00:00,  9.31it/s]\n"
     ]
    },
    {
     "name": "stdout",
     "output_type": "stream",
     "text": [
      "{'val_loss': 2.084017154647083, 'val_accuracy': 0.5331807780320366, 'precision': 0.582988617255783, 'recall': 0.5331807780320366, 'f1-score': 0.5447757842955713, 'macro_f1-score': 0.3054852291763714, 'balanced_accuracy': 0.34216678834118647, 'mcc': 0.4005367095018581, 'train_loss': 0.6509657902382938}\n",
      "Epoch 13/20\n"
     ]
    },
    {
     "name": "stderr",
     "output_type": "stream",
     "text": [
      "100%|██████████| 716/716 [01:16<00:00,  9.31it/s]\n"
     ]
    },
    {
     "name": "stdout",
     "output_type": "stream",
     "text": [
      "{'val_loss': 2.0173493609195803, 'val_accuracy': 0.5453852021357742, 'precision': 0.585216614517208, 'recall': 0.5453852021357742, 'f1-score': 0.5548484531465764, 'macro_f1-score': 0.3103552748251584, 'balanced_accuracy': 0.3320701540690862, 'mcc': 0.4146769682942523, 'train_loss': 0.5850561573040053}\n",
      "Epoch 14/20\n"
     ]
    },
    {
     "name": "stderr",
     "output_type": "stream",
     "text": [
      "100%|██████████| 716/716 [01:16<00:00,  9.33it/s]\n"
     ]
    },
    {
     "name": "stdout",
     "output_type": "stream",
     "text": [
      "{'val_loss': 2.154706821209047, 'val_accuracy': 0.543859649122807, 'precision': 0.581144342901495, 'recall': 0.543859649122807, 'f1-score': 0.5511559537453694, 'macro_f1-score': 0.2859238803459878, 'balanced_accuracy': 0.3153174339842088, 'mcc': 0.4072864707772699, 'train_loss': 0.4655083456914352}\n",
      "Epoch 15/20\n"
     ]
    },
    {
     "name": "stderr",
     "output_type": "stream",
     "text": [
      "100%|██████████| 716/716 [01:16<00:00,  9.34it/s]\n"
     ]
    },
    {
     "name": "stdout",
     "output_type": "stream",
     "text": [
      "{'val_loss': 2.2185763455018765, 'val_accuracy': 0.5507246376811594, 'precision': 0.5883144097128399, 'recall': 0.5507246376811594, 'f1-score': 0.5585171937547306, 'macro_f1-score': 0.2862438074681999, 'balanced_accuracy': 0.30980915019028005, 'mcc': 0.42153574850295866, 'train_loss': 0.5065748178655042}\n",
      "Epoch 16/20\n"
     ]
    },
    {
     "name": "stderr",
     "output_type": "stream",
     "text": [
      "100%|██████████| 716/716 [01:16<00:00,  9.31it/s]\n"
     ]
    },
    {
     "name": "stdout",
     "output_type": "stream",
     "text": [
      "{'val_loss': 2.189423765351133, 'val_accuracy': 0.5545385202135774, 'precision': 0.5952979704825098, 'recall': 0.5545385202135774, 'f1-score': 0.5666000095993448, 'macro_f1-score': 0.3188104784810264, 'balanced_accuracy': 0.33441280418001157, 'mcc': 0.4263558505510258, 'train_loss': 0.439379668690514}\n",
      "Epoch 17/20\n"
     ]
    },
    {
     "name": "stderr",
     "output_type": "stream",
     "text": [
      "100%|██████████| 716/716 [01:16<00:00,  9.32it/s]\n"
     ]
    },
    {
     "name": "stdout",
     "output_type": "stream",
     "text": [
      "{'val_loss': 2.2567005470031645, 'val_accuracy': 0.551487414187643, 'precision': 0.599173806830961, 'recall': 0.551487414187643, 'f1-score': 0.5662698245738657, 'macro_f1-score': 0.31761710660651293, 'balanced_accuracy': 0.33216870997108866, 'mcc': 0.42970195962677066, 'train_loss': 0.3651842081544702}\n",
      "Epoch 18/20\n"
     ]
    },
    {
     "name": "stderr",
     "output_type": "stream",
     "text": [
      "100%|██████████| 716/716 [01:16<00:00,  9.32it/s]\n"
     ]
    },
    {
     "name": "stdout",
     "output_type": "stream",
     "text": [
      "{'val_loss': 2.305387388642241, 'val_accuracy': 0.543859649122807, 'precision': 0.5851720648882273, 'recall': 0.543859649122807, 'f1-score': 0.5514478810791467, 'macro_f1-score': 0.2918987850459991, 'balanced_accuracy': 0.31010661939611334, 'mcc': 0.40719503661128653, 'train_loss': 0.3530791103735816}\n",
      "Epoch 19/20\n"
     ]
    },
    {
     "name": "stderr",
     "output_type": "stream",
     "text": [
      "100%|██████████| 716/716 [01:16<00:00,  9.32it/s]\n"
     ]
    },
    {
     "name": "stdout",
     "output_type": "stream",
     "text": [
      "{'val_loss': 2.413848233659093, 'val_accuracy': 0.5232646834477498, 'precision': 0.5916615145458227, 'recall': 0.5232646834477498, 'f1-score': 0.546533223713672, 'macro_f1-score': 0.2919219201351764, 'balanced_accuracy': 0.32102265561026805, 'mcc': 0.4055227837048835, 'train_loss': 0.34645152081834285}\n",
      "Early stopping.\n",
      "\n",
      "[Fold 3]\n",
      "Label distribution after resampling:\n",
      "  label 0: 2000\n",
      "  label 1: 200\n",
      "  label 2: 200\n",
      "  label 3: 200\n",
      "  label 4: 200\n",
      "  label 5: 200\n",
      "  label 6: 200\n",
      "  label 7: 200\n",
      "  label 8: 200\n",
      "  label 9: 200\n",
      "  label 10: 200\n",
      "  label 11: 200\n",
      "  label 12: 200\n",
      "  label 13: 200\n",
      "  label 14: 200\n",
      "  label 15: 200\n",
      "  label 16: 200\n",
      "  label 17: 200\n",
      "  label 18: 200\n",
      "  label 19: 200\n",
      "  label 20: 200\n",
      "  label 21: 200\n",
      "  label 22: 200\n",
      "  label 23: 200\n",
      "  label 24: 200\n",
      "  label 25: 200\n",
      "  label 26: 200\n",
      "  label 27: 200\n",
      "  label 28: 200\n",
      "  label 29: 200\n",
      "  label 30: 200\n",
      "  label 31: 200\n",
      "  label 32: 200\n",
      "  label 33: 200\n",
      "  label 34: 200\n",
      "  label 35: 200\n",
      "  label 36: 200\n",
      "  label 37: 200\n",
      "  label 38: 200\n",
      "  label 39: 200\n",
      "  label 40: 200\n",
      "  label 41: 200\n",
      "  label 42: 200\n",
      "  label 43: 200\n",
      "  label 44: 200\n",
      "  label 45: 241\n",
      "  label 46: 200\n",
      "  label 47: 200\n",
      "model is microsoft/deberta-base lstm\n",
      "Epoch 1/20\n"
     ]
    },
    {
     "name": "stderr",
     "output_type": "stream",
     "text": [
      "100%|██████████| 716/716 [01:16<00:00,  9.32it/s]\n"
     ]
    },
    {
     "name": "stdout",
     "output_type": "stream",
     "text": [
      "{'val_loss': 2.8115665258430855, 'val_accuracy': 0.47139588100686497, 'precision': 0.2222140766302384, 'recall': 0.47139588100686497, 'f1-score': 0.302045261236125, 'macro_f1-score': 0.01334888543286677, 'balanced_accuracy': 0.020833333333333332, 'mcc': 0.0, 'train_loss': 3.615131831701907}\n",
      "Epoch 2/20\n"
     ]
    },
    {
     "name": "stderr",
     "output_type": "stream",
     "text": [
      "100%|██████████| 716/716 [01:16<00:00,  9.31it/s]\n"
     ]
    },
    {
     "name": "stdout",
     "output_type": "stream",
     "text": [
      "{'val_loss': 2.6207298956266265, 'val_accuracy': 0.467581998474447, 'precision': 0.32832474598796896, 'recall': 0.467581998474447, 'f1-score': 0.3771701059376671, 'macro_f1-score': 0.029082570525005416, 'balanced_accuracy': 0.04542322094894513, 'mcc': 0.21489016019738086, 'train_loss': 3.4043565106125517}\n",
      "Epoch 3/20\n"
     ]
    },
    {
     "name": "stderr",
     "output_type": "stream",
     "text": [
      "100%|██████████| 716/716 [01:17<00:00,  9.29it/s]\n"
     ]
    },
    {
     "name": "stdout",
     "output_type": "stream",
     "text": [
      "{'val_loss': 2.809394222934072, 'val_accuracy': 0.47139588100686497, 'precision': 0.2222140766302384, 'recall': 0.47139588100686497, 'f1-score': 0.302045261236125, 'macro_f1-score': 0.01334888543286677, 'balanced_accuracy': 0.020833333333333332, 'mcc': 0.0, 'train_loss': 3.4123158944385676}\n",
      "Epoch 4/20\n"
     ]
    },
    {
     "name": "stderr",
     "output_type": "stream",
     "text": [
      "100%|██████████| 716/716 [01:16<00:00,  9.30it/s]\n"
     ]
    },
    {
     "name": "stdout",
     "output_type": "stream",
     "text": [
      "{'val_loss': 2.7346125288707452, 'val_accuracy': 0.4759725400457666, 'precision': 0.2669332247681163, 'recall': 0.4759725400457666, 'f1-score': 0.34015554506464507, 'macro_f1-score': 0.020125228122888916, 'balanced_accuracy': 0.033348365076838735, 'mcc': 0.17509420768695869, 'train_loss': 3.474419053706377}\n",
      "Epoch 5/20\n"
     ]
    },
    {
     "name": "stderr",
     "output_type": "stream",
     "text": [
      "100%|██████████| 716/716 [01:16<00:00,  9.32it/s]\n"
     ]
    },
    {
     "name": "stdout",
     "output_type": "stream",
     "text": [
      "{'val_loss': 2.7050181510971814, 'val_accuracy': 0.4401220442410374, 'precision': 0.2819442611119214, 'recall': 0.4401220442410374, 'f1-score': 0.3424181274371012, 'macro_f1-score': 0.015843417293260553, 'balanced_accuracy': 0.03710606410849129, 'mcc': 0.17184195335911204, 'train_loss': 3.269803140416492}\n",
      "Early stopping.\n",
      "\n",
      "[Fold 4]\n",
      "Label distribution after resampling:\n",
      "  label 0: 2000\n",
      "  label 1: 200\n",
      "  label 2: 200\n",
      "  label 3: 200\n",
      "  label 4: 200\n",
      "  label 5: 200\n",
      "  label 6: 200\n",
      "  label 7: 200\n",
      "  label 8: 200\n",
      "  label 9: 200\n",
      "  label 10: 200\n",
      "  label 11: 200\n",
      "  label 12: 200\n",
      "  label 13: 200\n",
      "  label 14: 200\n",
      "  label 15: 200\n",
      "  label 16: 200\n",
      "  label 17: 200\n",
      "  label 18: 200\n",
      "  label 19: 200\n",
      "  label 20: 200\n",
      "  label 21: 200\n",
      "  label 22: 200\n",
      "  label 23: 200\n",
      "  label 24: 200\n",
      "  label 25: 200\n",
      "  label 26: 200\n",
      "  label 27: 200\n",
      "  label 28: 200\n",
      "  label 29: 200\n",
      "  label 30: 200\n",
      "  label 31: 200\n",
      "  label 32: 200\n",
      "  label 33: 200\n",
      "  label 34: 200\n",
      "  label 35: 200\n",
      "  label 36: 200\n",
      "  label 37: 200\n",
      "  label 38: 200\n",
      "  label 39: 200\n",
      "  label 40: 200\n",
      "  label 41: 200\n",
      "  label 42: 200\n",
      "  label 43: 200\n",
      "  label 44: 200\n",
      "  label 45: 241\n",
      "  label 46: 200\n",
      "  label 47: 200\n",
      "model is microsoft/deberta-base lstm\n",
      "Epoch 1/20\n"
     ]
    },
    {
     "name": "stderr",
     "output_type": "stream",
     "text": [
      "100%|██████████| 716/716 [01:16<00:00,  9.32it/s]\n"
     ]
    },
    {
     "name": "stdout",
     "output_type": "stream",
     "text": [
      "{'val_loss': 2.4153382051281813, 'val_accuracy': 0.4630053394355454, 'precision': 0.30565551153136616, 'recall': 0.4630053394355454, 'f1-score': 0.36493134658347026, 'macro_f1-score': 0.0434106075040141, 'balanced_accuracy': 0.06737114834010592, 'mcc': 0.19901014156154787, 'train_loss': 3.280727568701659}\n",
      "Epoch 2/20\n"
     ]
    },
    {
     "name": "stderr",
     "output_type": "stream",
     "text": [
      "100%|██████████| 716/716 [01:16<00:00,  9.31it/s]\n"
     ]
    },
    {
     "name": "stdout",
     "output_type": "stream",
     "text": [
      "{'val_loss': 2.3634716272354126, 'val_accuracy': 0.42181540808543094, 'precision': 0.39091186964307717, 'recall': 0.42181540808543094, 'f1-score': 0.3783243244215368, 'macro_f1-score': 0.054385444245957405, 'balanced_accuracy': 0.09885388697915946, 'mcc': 0.20553969209069872, 'train_loss': 2.8489052929691763}\n",
      "Epoch 3/20\n"
     ]
    },
    {
     "name": "stderr",
     "output_type": "stream",
     "text": [
      "100%|██████████| 716/716 [01:16<00:00,  9.32it/s]\n"
     ]
    },
    {
     "name": "stdout",
     "output_type": "stream",
     "text": [
      "{'val_loss': 2.3474691146757545, 'val_accuracy': 0.42105263157894735, 'precision': 0.4373589667977066, 'recall': 0.42105263157894735, 'f1-score': 0.4153047106131919, 'macro_f1-score': 0.0880497512094272, 'balanced_accuracy': 0.1468076870449997, 'mcc': 0.2504836091113068, 'train_loss': 2.626309821751572}\n",
      "Epoch 4/20\n"
     ]
    },
    {
     "name": "stderr",
     "output_type": "stream",
     "text": [
      "100%|██████████| 716/716 [01:16<00:00,  9.32it/s]\n"
     ]
    },
    {
     "name": "stdout",
     "output_type": "stream",
     "text": [
      "{'val_loss': 2.250768886833656, 'val_accuracy': 0.4576659038901602, 'precision': 0.42388117956440635, 'recall': 0.4576659038901602, 'f1-score': 0.4254456862634965, 'macro_f1-score': 0.09891803829094666, 'balanced_accuracy': 0.1593539818374263, 'mcc': 0.2842077627086774, 'train_loss': 2.387758892008712}\n",
      "Epoch 5/20\n"
     ]
    },
    {
     "name": "stderr",
     "output_type": "stream",
     "text": [
      "100%|██████████| 716/716 [01:16<00:00,  9.31it/s]\n"
     ]
    },
    {
     "name": "stdout",
     "output_type": "stream",
     "text": [
      "{'val_loss': 2.2055439120385705, 'val_accuracy': 0.41495041952707856, 'precision': 0.43541918478595304, 'recall': 0.41495041952707856, 'f1-score': 0.41337232282852443, 'macro_f1-score': 0.12835326018216456, 'balanced_accuracy': 0.19812384722881535, 'mcc': 0.25378256610215366, 'train_loss': 2.2301699750583266}\n",
      "Epoch 6/20\n"
     ]
    },
    {
     "name": "stderr",
     "output_type": "stream",
     "text": [
      "100%|██████████| 716/716 [01:16<00:00,  9.32it/s]\n"
     ]
    },
    {
     "name": "stdout",
     "output_type": "stream",
     "text": [
      "{'val_loss': 2.149496530614248, 'val_accuracy': 0.440884820747521, 'precision': 0.46404756127484015, 'recall': 0.440884820747521, 'f1-score': 0.4382500508161752, 'macro_f1-score': 0.1534538872959836, 'balanced_accuracy': 0.21334895250534702, 'mcc': 0.28293606440002345, 'train_loss': 1.907504826784134}\n",
      "Epoch 7/20\n"
     ]
    },
    {
     "name": "stderr",
     "output_type": "stream",
     "text": [
      "100%|██████████| 716/716 [01:16<00:00,  9.32it/s]\n"
     ]
    },
    {
     "name": "stdout",
     "output_type": "stream",
     "text": [
      "{'val_loss': 2.120431141155522, 'val_accuracy': 0.4660564454614798, 'precision': 0.4634662661364738, 'recall': 0.4660564454614798, 'f1-score': 0.4455454664076218, 'macro_f1-score': 0.15442525009738062, 'balanced_accuracy': 0.1827017742475544, 'mcc': 0.27933631391016217, 'train_loss': 1.8979348338016584}\n",
      "Epoch 8/20\n"
     ]
    },
    {
     "name": "stderr",
     "output_type": "stream",
     "text": [
      "100%|██████████| 716/716 [01:16<00:00,  9.32it/s]\n"
     ]
    },
    {
     "name": "stdout",
     "output_type": "stream",
     "text": [
      "{'val_loss': 2.1201698591069476, 'val_accuracy': 0.43478260869565216, 'precision': 0.5118244700357258, 'recall': 0.43478260869565216, 'f1-score': 0.45141826004695823, 'macro_f1-score': 0.15840708154536712, 'balanced_accuracy': 0.20893990179993294, 'mcc': 0.2905130777016881, 'train_loss': 1.7461173207233738}\n",
      "Epoch 9/20\n"
     ]
    },
    {
     "name": "stderr",
     "output_type": "stream",
     "text": [
      "100%|██████████| 716/716 [01:16<00:00,  9.33it/s]\n"
     ]
    },
    {
     "name": "stdout",
     "output_type": "stream",
     "text": [
      "{'val_loss': 2.0198973831607074, 'val_accuracy': 0.4843630816170862, 'precision': 0.5186406592371084, 'recall': 0.4843630816170862, 'f1-score': 0.48533612694656336, 'macro_f1-score': 0.2355191485436858, 'balanced_accuracy': 0.2686198762439176, 'mcc': 0.33753808713110806, 'train_loss': 1.432619805525801}\n",
      "Epoch 10/20\n"
     ]
    },
    {
     "name": "stderr",
     "output_type": "stream",
     "text": [
      "100%|██████████| 716/716 [01:16<00:00,  9.32it/s]\n"
     ]
    },
    {
     "name": "stdout",
     "output_type": "stream",
     "text": [
      "{'val_loss': 2.189022635541311, 'val_accuracy': 0.4576659038901602, 'precision': 0.4910697636896318, 'recall': 0.4576659038901602, 'f1-score': 0.46123683214080746, 'macro_f1-score': 0.1898453590735889, 'balanced_accuracy': 0.2278216219468148, 'mcc': 0.31008201475302727, 'train_loss': 1.3356816094347885}\n",
      "Epoch 11/20\n"
     ]
    },
    {
     "name": "stderr",
     "output_type": "stream",
     "text": [
      "100%|██████████| 716/716 [01:16<00:00,  9.32it/s]\n"
     ]
    },
    {
     "name": "stdout",
     "output_type": "stream",
     "text": [
      "{'val_loss': 2.2007978827488133, 'val_accuracy': 0.45232646834477497, 'precision': 0.5203655639262238, 'recall': 0.45232646834477497, 'f1-score': 0.47027986719224185, 'macro_f1-score': 0.20239957998065616, 'balanced_accuracy': 0.23089295681663677, 'mcc': 0.3151654693503207, 'train_loss': 1.3160205727349445}\n",
      "Epoch 12/20\n"
     ]
    },
    {
     "name": "stderr",
     "output_type": "stream",
     "text": [
      "100%|██████████| 716/716 [01:16<00:00,  9.32it/s]\n"
     ]
    },
    {
     "name": "stdout",
     "output_type": "stream",
     "text": [
      "{'val_loss': 2.0111866629705197, 'val_accuracy': 0.509534706331045, 'precision': 0.5480662317783652, 'recall': 0.509534706331045, 'f1-score': 0.519649257366014, 'macro_f1-score': 0.24270734802848368, 'balanced_accuracy': 0.2594479456912906, 'mcc': 0.3715661834479324, 'train_loss': 1.2098110184156694}\n",
      "Epoch 13/20\n"
     ]
    },
    {
     "name": "stderr",
     "output_type": "stream",
     "text": [
      "100%|██████████| 716/716 [01:16<00:00,  9.32it/s]\n"
     ]
    },
    {
     "name": "stdout",
     "output_type": "stream",
     "text": [
      "{'val_loss': 2.1632191262594085, 'val_accuracy': 0.4897025171624714, 'precision': 0.5676243856099676, 'recall': 0.4897025171624714, 'f1-score': 0.511829433501359, 'macro_f1-score': 0.2363916226592159, 'balanced_accuracy': 0.27757645029840955, 'mcc': 0.361815475051196, 'train_loss': 1.0864459529685575}\n",
      "Epoch 14/20\n"
     ]
    },
    {
     "name": "stderr",
     "output_type": "stream",
     "text": [
      "100%|██████████| 716/716 [01:16<00:00,  9.32it/s]\n"
     ]
    },
    {
     "name": "stdout",
     "output_type": "stream",
     "text": [
      "{'val_loss': 2.1764296289624236, 'val_accuracy': 0.45080091533180777, 'precision': 0.5584415392647067, 'recall': 0.45080091533180777, 'f1-score': 0.48679116093653296, 'macro_f1-score': 0.23493960347754725, 'balanced_accuracy': 0.27343088752808803, 'mcc': 0.33210941000172645, 'train_loss': 0.9355282304423481}\n",
      "Epoch 15/20\n"
     ]
    },
    {
     "name": "stderr",
     "output_type": "stream",
     "text": [
      "100%|██████████| 716/716 [01:16<00:00,  9.32it/s]\n"
     ]
    },
    {
     "name": "stdout",
     "output_type": "stream",
     "text": [
      "{'val_loss': 2.1793858845059466, 'val_accuracy': 0.4744469870327994, 'precision': 0.5746536797718917, 'recall': 0.4744469870327994, 'f1-score': 0.5100296111384726, 'macro_f1-score': 0.24332775228361656, 'balanced_accuracy': 0.2724169605432527, 'mcc': 0.3622478358889442, 'train_loss': 0.9175980978179723}\n",
      "Epoch 16/20\n"
     ]
    },
    {
     "name": "stderr",
     "output_type": "stream",
     "text": [
      "100%|██████████| 716/716 [01:16<00:00,  9.31it/s]\n"
     ]
    },
    {
     "name": "stdout",
     "output_type": "stream",
     "text": [
      "{'val_loss': 2.294443749799961, 'val_accuracy': 0.4607170099160946, 'precision': 0.56970397906573, 'recall': 0.4607170099160946, 'f1-score': 0.4977977975509283, 'macro_f1-score': 0.28175054995224696, 'balanced_accuracy': 0.3124668344406568, 'mcc': 0.3484999997044229, 'train_loss': 0.755094630217086}\n",
      "Epoch 17/20\n"
     ]
    },
    {
     "name": "stderr",
     "output_type": "stream",
     "text": [
      "100%|██████████| 716/716 [01:16<00:00,  9.31it/s]\n"
     ]
    },
    {
     "name": "stdout",
     "output_type": "stream",
     "text": [
      "{'val_loss': 2.107786129887511, 'val_accuracy': 0.5232646834477498, 'precision': 0.5840765599616412, 'recall': 0.5232646834477498, 'f1-score': 0.5398876423180066, 'macro_f1-score': 0.28463784400062814, 'balanced_accuracy': 0.2874834338872334, 'mcc': 0.3914738132406812, 'train_loss': 0.6455067306153435}\n",
      "Epoch 18/20\n"
     ]
    },
    {
     "name": "stderr",
     "output_type": "stream",
     "text": [
      "100%|██████████| 716/716 [01:16<00:00,  9.33it/s]\n"
     ]
    },
    {
     "name": "stdout",
     "output_type": "stream",
     "text": [
      "{'val_loss': 2.217945626596125, 'val_accuracy': 0.5118230358504958, 'precision': 0.5791780608626032, 'recall': 0.5118230358504958, 'f1-score': 0.535399856216979, 'macro_f1-score': 0.29161531566701926, 'balanced_accuracy': 0.3065645811824385, 'mcc': 0.38673463356725946, 'train_loss': 0.6141603838902112}\n",
      "Epoch 19/20\n"
     ]
    },
    {
     "name": "stderr",
     "output_type": "stream",
     "text": [
      "100%|██████████| 716/716 [01:16<00:00,  9.32it/s]\n"
     ]
    },
    {
     "name": "stdout",
     "output_type": "stream",
     "text": [
      "{'val_loss': 2.26087574406368, 'val_accuracy': 0.5072463768115942, 'precision': 0.5752404021464819, 'recall': 0.5072463768115942, 'f1-score': 0.5270110940379502, 'macro_f1-score': 0.2823042987747211, 'balanced_accuracy': 0.29773608555243003, 'mcc': 0.37610512495068965, 'train_loss': 0.5813252751158768}\n",
      "Epoch 20/20\n"
     ]
    },
    {
     "name": "stderr",
     "output_type": "stream",
     "text": [
      "100%|██████████| 716/716 [01:16<00:00,  9.32it/s]\n"
     ]
    },
    {
     "name": "stdout",
     "output_type": "stream",
     "text": [
      "{'val_loss': 2.3178302267702615, 'val_accuracy': 0.5156369183829138, 'precision': 0.5971143419549757, 'recall': 0.5156369183829138, 'f1-score': 0.544542670206697, 'macro_f1-score': 0.2866231856343278, 'balanced_accuracy': 0.30324292070702746, 'mcc': 0.39614415898806893, 'train_loss': 0.4983479163489778}\n",
      "\n",
      "[Fold 5]\n",
      "Label distribution after resampling:\n",
      "  label 0: 2000\n",
      "  label 1: 200\n",
      "  label 2: 200\n",
      "  label 3: 200\n",
      "  label 4: 200\n",
      "  label 5: 200\n",
      "  label 6: 200\n",
      "  label 7: 200\n",
      "  label 8: 200\n",
      "  label 9: 200\n",
      "  label 10: 200\n",
      "  label 11: 200\n",
      "  label 12: 200\n",
      "  label 13: 200\n",
      "  label 14: 200\n",
      "  label 15: 200\n",
      "  label 16: 200\n",
      "  label 17: 200\n",
      "  label 18: 200\n",
      "  label 19: 200\n",
      "  label 20: 200\n",
      "  label 21: 200\n",
      "  label 22: 200\n",
      "  label 23: 200\n",
      "  label 24: 200\n",
      "  label 25: 200\n",
      "  label 26: 200\n",
      "  label 27: 200\n",
      "  label 28: 200\n",
      "  label 29: 200\n",
      "  label 30: 200\n",
      "  label 31: 200\n",
      "  label 32: 200\n",
      "  label 33: 200\n",
      "  label 34: 200\n",
      "  label 35: 200\n",
      "  label 36: 200\n",
      "  label 37: 200\n",
      "  label 38: 200\n",
      "  label 39: 200\n",
      "  label 40: 200\n",
      "  label 41: 200\n",
      "  label 42: 200\n",
      "  label 43: 200\n",
      "  label 44: 200\n",
      "  label 45: 242\n",
      "  label 46: 200\n",
      "  label 47: 200\n",
      "model is microsoft/deberta-base lstm\n",
      "Epoch 1/20\n"
     ]
    },
    {
     "name": "stderr",
     "output_type": "stream",
     "text": [
      "100%|██████████| 716/716 [01:16<00:00,  9.31it/s]\n"
     ]
    },
    {
     "name": "stdout",
     "output_type": "stream",
     "text": [
      "{'val_loss': 2.6220004035205378, 'val_accuracy': 0.4279176201372998, 'precision': 0.3304495323798286, 'recall': 0.4279176201372998, 'f1-score': 0.3680080038466599, 'macro_f1-score': 0.035518486643865865, 'balanced_accuracy': 0.05735277960004459, 'mcc': 0.20356668145189444, 'train_loss': 3.421523515405602}\n",
      "Epoch 2/20\n"
     ]
    },
    {
     "name": "stderr",
     "output_type": "stream",
     "text": [
      "100%|██████████| 716/716 [01:16<00:00,  9.32it/s]\n"
     ]
    },
    {
     "name": "stdout",
     "output_type": "stream",
     "text": [
      "{'val_loss': 2.38267914260306, 'val_accuracy': 0.4607170099160946, 'precision': 0.3874582789880853, 'recall': 0.4607170099160946, 'f1-score': 0.4138964300723465, 'macro_f1-score': 0.06578161168657763, 'balanced_accuracy': 0.12969222985430442, 'mcc': 0.26951393663271933, 'train_loss': 2.9763647454410957}\n",
      "Epoch 3/20\n"
     ]
    },
    {
     "name": "stderr",
     "output_type": "stream",
     "text": [
      "100%|██████████| 716/716 [01:16<00:00,  9.31it/s]\n"
     ]
    },
    {
     "name": "stdout",
     "output_type": "stream",
     "text": [
      "{'val_loss': 2.382823968805918, 'val_accuracy': 0.36613272311212813, 'precision': 0.39756185947624395, 'recall': 0.36613272311212813, 'f1-score': 0.37158779266139325, 'macro_f1-score': 0.06668489585722447, 'balanced_accuracy': 0.14425827039003639, 'mcc': 0.21355112551197886, 'train_loss': 2.6396684120487235}\n",
      "Epoch 4/20\n"
     ]
    },
    {
     "name": "stderr",
     "output_type": "stream",
     "text": [
      "100%|██████████| 716/716 [01:16<00:00,  9.31it/s]\n"
     ]
    },
    {
     "name": "stdout",
     "output_type": "stream",
     "text": [
      "{'val_loss': 2.1678969838270326, 'val_accuracy': 0.4454614797864226, 'precision': 0.42109469103273744, 'recall': 0.4454614797864226, 'f1-score': 0.4211375905343513, 'macro_f1-score': 0.10755148978519606, 'balanced_accuracy': 0.17284372655009217, 'mcc': 0.2661790121444784, 'train_loss': 2.4479586288915667}\n",
      "Epoch 5/20\n"
     ]
    },
    {
     "name": "stderr",
     "output_type": "stream",
     "text": [
      "100%|██████████| 716/716 [01:16<00:00,  9.31it/s]\n"
     ]
    },
    {
     "name": "stdout",
     "output_type": "stream",
     "text": [
      "{'val_loss': 2.106737231335989, 'val_accuracy': 0.43401983218916856, 'precision': 0.45938324341058545, 'recall': 0.43401983218916856, 'f1-score': 0.4322774382974272, 'macro_f1-score': 0.12277363126062091, 'balanced_accuracy': 0.19974366332387397, 'mcc': 0.27715181381451837, 'train_loss': 2.149999657156747}\n",
      "Epoch 6/20\n"
     ]
    },
    {
     "name": "stderr",
     "output_type": "stream",
     "text": [
      "100%|██████████| 716/716 [01:16<00:00,  9.31it/s]\n"
     ]
    },
    {
     "name": "stdout",
     "output_type": "stream",
     "text": [
      "{'val_loss': 2.1310056389831917, 'val_accuracy': 0.448512585812357, 'precision': 0.5159308303596566, 'recall': 0.448512585812357, 'f1-score': 0.4378203629618791, 'macro_f1-score': 0.13073570279900856, 'balanced_accuracy': 0.2095045175601041, 'mcc': 0.28383086555836995, 'train_loss': 1.9229404028068042}\n",
      "Epoch 7/20\n"
     ]
    },
    {
     "name": "stderr",
     "output_type": "stream",
     "text": [
      "100%|██████████| 716/716 [01:16<00:00,  9.34it/s]\n"
     ]
    },
    {
     "name": "stdout",
     "output_type": "stream",
     "text": [
      "{'val_loss': 2.053151992762961, 'val_accuracy': 0.4759725400457666, 'precision': 0.516813946734825, 'recall': 0.4759725400457666, 'f1-score': 0.4785728778936286, 'macro_f1-score': 0.18629540501932942, 'balanced_accuracy': 0.25122889672205856, 'mcc': 0.3292536203568385, 'train_loss': 1.680244284218916}\n",
      "Epoch 8/20\n"
     ]
    },
    {
     "name": "stderr",
     "output_type": "stream",
     "text": [
      "100%|██████████| 716/716 [01:16<00:00,  9.30it/s]\n"
     ]
    },
    {
     "name": "stdout",
     "output_type": "stream",
     "text": [
      "{'val_loss': 2.059049367177777, 'val_accuracy': 0.4759725400457666, 'precision': 0.549391886135179, 'recall': 0.4759725400457666, 'f1-score': 0.4934276503302768, 'macro_f1-score': 0.2047226771023675, 'balanced_accuracy': 0.2673332279568494, 'mcc': 0.34206767014322115, 'train_loss': 1.4675240186173157}\n",
      "Epoch 9/20\n"
     ]
    },
    {
     "name": "stderr",
     "output_type": "stream",
     "text": [
      "100%|██████████| 716/716 [01:16<00:00,  9.31it/s]\n"
     ]
    },
    {
     "name": "stdout",
     "output_type": "stream",
     "text": [
      "{'val_loss': 2.1961092469168872, 'val_accuracy': 0.41418764302059496, 'precision': 0.5669134101512286, 'recall': 0.41418764302059496, 'f1-score': 0.4607406001619632, 'macro_f1-score': 0.20996813579702747, 'balanced_accuracy': 0.27815184179288377, 'mcc': 0.31566903182310846, 'train_loss': 1.3784946492930363}\n",
      "Epoch 10/20\n"
     ]
    },
    {
     "name": "stderr",
     "output_type": "stream",
     "text": [
      "100%|██████████| 716/716 [01:16<00:00,  9.31it/s]\n"
     ]
    },
    {
     "name": "stdout",
     "output_type": "stream",
     "text": [
      "{'val_loss': 1.9800359795733196, 'val_accuracy': 0.5118230358504958, 'precision': 0.5722874471426822, 'recall': 0.5118230358504958, 'f1-score': 0.5282922244653575, 'macro_f1-score': 0.24392362386056954, 'balanced_accuracy': 0.2959613724223553, 'mcc': 0.38068361368020714, 'train_loss': 1.2370612851900762}\n",
      "Epoch 11/20\n"
     ]
    },
    {
     "name": "stderr",
     "output_type": "stream",
     "text": [
      "100%|██████████| 716/716 [01:16<00:00,  9.33it/s]\n"
     ]
    },
    {
     "name": "stdout",
     "output_type": "stream",
     "text": [
      "{'val_loss': 1.9823832373793533, 'val_accuracy': 0.501906941266209, 'precision': 0.5236746357408273, 'recall': 0.501906941266209, 'f1-score': 0.49423963803141263, 'macro_f1-score': 0.18285949170526594, 'balanced_accuracy': 0.19568047022074583, 'mcc': 0.33766555684894484, 'train_loss': 1.6796542320338042}\n",
      "Epoch 12/20\n"
     ]
    },
    {
     "name": "stderr",
     "output_type": "stream",
     "text": [
      "100%|██████████| 716/716 [01:16<00:00,  9.32it/s]\n"
     ]
    },
    {
     "name": "stdout",
     "output_type": "stream",
     "text": [
      "{'val_loss': 1.9863758167115653, 'val_accuracy': 0.5080091533180778, 'precision': 0.5410931518162707, 'recall': 0.5080091533180778, 'f1-score': 0.5156103376822192, 'macro_f1-score': 0.21703516864977843, 'balanced_accuracy': 0.2517736097978553, 'mcc': 0.37016763718447737, 'train_loss': 1.2493730622796373}\n",
      "Epoch 13/20\n"
     ]
    },
    {
     "name": "stderr",
     "output_type": "stream",
     "text": [
      "100%|██████████| 716/716 [01:16<00:00,  9.31it/s]\n"
     ]
    },
    {
     "name": "stdout",
     "output_type": "stream",
     "text": [
      "{'val_loss': 2.852063493030827, 'val_accuracy': 0.47063310450038137, 'precision': 0.2214955190516669, 'recall': 0.47063310450038137, 'f1-score': 0.3012247152248292, 'macro_f1-score': 0.013334197786998616, 'balanced_accuracy': 0.020833333333333332, 'mcc': 0.0, 'train_loss': 2.9716268176389806}\n",
      "Early stopping.\n",
      "\n",
      " === microsoft/deberta-base + lstm + ros Final 5-fold Cross-Validation Results ===\n",
      "val_loss: 2.2352\n",
      "val_accuracy: 0.5149\n",
      "precision: 0.5310\n",
      "recall: 0.5149\n",
      "f1-score: 0.5096\n",
      "macro_f1-score: 0.2363\n",
      "balanced_accuracy: 0.2591\n",
      "mcc: 0.3596\n",
      "train_loss: 1.2732\n",
      "total_seconds: 6206.0000\n",
      "total_time: 1 hrs 43 mins 26 secs\n",
      "▶ Running: microsoft/deberta-base + bilstm + ros\n",
      "tokenizer is microsoft/deberta-base\n",
      "Using device: cuda\n",
      "CUDA Available: True\n",
      "CUDA Device: NVIDIA GeForce RTX 5070 Ti\n",
      "Current GPU Memory Allocated: 0.02 GB\n",
      "Current GPU Memory Cached: 5.45 GB\n",
      "\n",
      "[Fold 1]\n",
      "Label distribution after resampling:\n",
      "  label 0: 2000\n",
      "  label 1: 200\n",
      "  label 2: 200\n",
      "  label 3: 200\n",
      "  label 4: 200\n",
      "  label 5: 200\n",
      "  label 6: 200\n",
      "  label 7: 200\n",
      "  label 8: 200\n",
      "  label 9: 200\n",
      "  label 10: 200\n",
      "  label 11: 200\n",
      "  label 12: 200\n",
      "  label 13: 200\n",
      "  label 14: 200\n",
      "  label 15: 200\n",
      "  label 16: 200\n",
      "  label 17: 200\n",
      "  label 18: 200\n",
      "  label 19: 200\n",
      "  label 20: 200\n",
      "  label 21: 200\n",
      "  label 22: 200\n",
      "  label 23: 200\n",
      "  label 24: 200\n",
      "  label 25: 200\n",
      "  label 26: 200\n",
      "  label 27: 200\n",
      "  label 28: 200\n",
      "  label 29: 200\n",
      "  label 30: 200\n",
      "  label 31: 200\n",
      "  label 32: 200\n",
      "  label 33: 200\n",
      "  label 34: 200\n",
      "  label 35: 200\n",
      "  label 36: 200\n",
      "  label 37: 200\n",
      "  label 38: 200\n",
      "  label 39: 200\n",
      "  label 40: 200\n",
      "  label 41: 200\n",
      "  label 42: 200\n",
      "  label 43: 200\n",
      "  label 44: 200\n",
      "  label 45: 242\n",
      "  label 46: 200\n",
      "  label 47: 200\n",
      "model is microsoft/deberta-base bilstm\n",
      "Epoch 1/20\n"
     ]
    },
    {
     "name": "stderr",
     "output_type": "stream",
     "text": [
      "100%|██████████| 716/716 [01:18<00:00,  9.07it/s]\n"
     ]
    },
    {
     "name": "stdout",
     "output_type": "stream",
     "text": [
      "{'val_loss': 2.4305743211653175, 'val_accuracy': 0.4611280487804878, 'precision': 0.3449949176453226, 'recall': 0.4611280487804878, 'f1-score': 0.3873341497882609, 'macro_f1-score': 0.0432891764022518, 'balanced_accuracy': 0.062115455000770536, 'mcc': 0.2240830877771848, 'train_loss': 3.3059251368378795}\n",
      "Epoch 2/20\n"
     ]
    },
    {
     "name": "stderr",
     "output_type": "stream",
     "text": [
      "100%|██████████| 716/716 [01:18<00:00,  9.06it/s]\n"
     ]
    },
    {
     "name": "stdout",
     "output_type": "stream",
     "text": [
      "{'val_loss': 2.300161999900167, 'val_accuracy': 0.4573170731707317, 'precision': 0.4504149955064218, 'recall': 0.4573170731707317, 'f1-score': 0.4205275629428615, 'macro_f1-score': 0.08960999200365637, 'balanced_accuracy': 0.13287287295694616, 'mcc': 0.26217333283643934, 'train_loss': 2.753099770352827}\n",
      "Epoch 3/20\n"
     ]
    },
    {
     "name": "stderr",
     "output_type": "stream",
     "text": [
      "100%|██████████| 716/716 [01:18<00:00,  9.07it/s]\n"
     ]
    },
    {
     "name": "stdout",
     "output_type": "stream",
     "text": [
      "{'val_loss': 2.2274494832608758, 'val_accuracy': 0.4580792682926829, 'precision': 0.43599699825179816, 'recall': 0.4580792682926829, 'f1-score': 0.4217994358980542, 'macro_f1-score': 0.1081775396493086, 'balanced_accuracy': 0.16808687155962557, 'mcc': 0.264756094697464, 'train_loss': 2.377181406127674}\n",
      "Epoch 4/20\n"
     ]
    },
    {
     "name": "stderr",
     "output_type": "stream",
     "text": [
      "100%|██████████| 716/716 [01:18<00:00,  9.07it/s]\n"
     ]
    },
    {
     "name": "stdout",
     "output_type": "stream",
     "text": [
      "{'val_loss': 2.039902774299063, 'val_accuracy': 0.4839939024390244, 'precision': 0.4744435889294241, 'recall': 0.4839939024390244, 'f1-score': 0.4585191877066332, 'macro_f1-score': 0.16109685979818367, 'balanced_accuracy': 0.21529587309015827, 'mcc': 0.302665710150911, 'train_loss': 1.9058548238690338}\n",
      "Epoch 5/20\n"
     ]
    },
    {
     "name": "stderr",
     "output_type": "stream",
     "text": [
      "100%|██████████| 716/716 [01:18<00:00,  9.07it/s]\n"
     ]
    },
    {
     "name": "stdout",
     "output_type": "stream",
     "text": [
      "{'val_loss': 2.046074060405173, 'val_accuracy': 0.4740853658536585, 'precision': 0.49552136994767526, 'recall': 0.4740853658536585, 'f1-score': 0.4548141226446119, 'macro_f1-score': 0.17951651246005187, 'balanced_accuracy': 0.21696117978443033, 'mcc': 0.3003094111869812, 'train_loss': 1.606427729462778}\n",
      "Epoch 6/20\n"
     ]
    },
    {
     "name": "stderr",
     "output_type": "stream",
     "text": [
      "100%|██████████| 716/716 [01:18<00:00,  9.07it/s]\n"
     ]
    },
    {
     "name": "stdout",
     "output_type": "stream",
     "text": [
      "{'val_loss': 2.1056890007926197, 'val_accuracy': 0.4405487804878049, 'precision': 0.5224205497005276, 'recall': 0.4405487804878049, 'f1-score': 0.4604009404019925, 'macro_f1-score': 0.22665860641100852, 'balanced_accuracy': 0.2657031855142664, 'mcc': 0.3056423989909995, 'train_loss': 1.3206665481768507}\n",
      "Epoch 7/20\n"
     ]
    },
    {
     "name": "stderr",
     "output_type": "stream",
     "text": [
      "100%|██████████| 716/716 [01:18<00:00,  9.08it/s]\n"
     ]
    },
    {
     "name": "stdout",
     "output_type": "stream",
     "text": [
      "{'val_loss': 2.0028879686099725, 'val_accuracy': 0.5038109756097561, 'precision': 0.5272776223978826, 'recall': 0.5038109756097561, 'f1-score': 0.49396559147600744, 'macro_f1-score': 0.22052156802909909, 'balanced_accuracy': 0.2621186240518485, 'mcc': 0.3437930088127561, 'train_loss': 1.1950913949468949}\n",
      "Epoch 8/20\n"
     ]
    },
    {
     "name": "stderr",
     "output_type": "stream",
     "text": [
      "100%|██████████| 716/716 [01:19<00:00,  9.03it/s]\n"
     ]
    },
    {
     "name": "stdout",
     "output_type": "stream",
     "text": [
      "{'val_loss': 1.9786919188208696, 'val_accuracy': 0.5198170731707317, 'precision': 0.5672868333228964, 'recall': 0.5198170731707317, 'f1-score': 0.5200634036468841, 'macro_f1-score': 0.2413480065710385, 'balanced_accuracy': 0.25665553368638966, 'mcc': 0.370902253673163, 'train_loss': 0.965501808733081}\n",
      "Epoch 9/20\n"
     ]
    },
    {
     "name": "stderr",
     "output_type": "stream",
     "text": [
      "100%|██████████| 716/716 [01:19<00:00,  9.06it/s]\n"
     ]
    },
    {
     "name": "stdout",
     "output_type": "stream",
     "text": [
      "{'val_loss': 2.0287537055044638, 'val_accuracy': 0.5442073170731707, 'precision': 0.551413186930014, 'recall': 0.5442073170731707, 'f1-score': 0.5284496016856328, 'macro_f1-score': 0.2549712300074162, 'balanced_accuracy': 0.2697213740739281, 'mcc': 0.3878827397000242, 'train_loss': 0.7797425566449262}\n",
      "Epoch 10/20\n"
     ]
    },
    {
     "name": "stderr",
     "output_type": "stream",
     "text": [
      "100%|██████████| 716/716 [01:18<00:00,  9.07it/s]\n"
     ]
    },
    {
     "name": "stdout",
     "output_type": "stream",
     "text": [
      "{'val_loss': 2.16009790141408, 'val_accuracy': 0.5007621951219512, 'precision': 0.5634791332200622, 'recall': 0.5007621951219512, 'f1-score': 0.5208789401301185, 'macro_f1-score': 0.2646938488101977, 'balanced_accuracy': 0.2821717533651743, 'mcc': 0.36812846367910335, 'train_loss': 0.679704016605236}\n",
      "Epoch 11/20\n"
     ]
    },
    {
     "name": "stderr",
     "output_type": "stream",
     "text": [
      "100%|██████████| 716/716 [01:18<00:00,  9.06it/s]\n"
     ]
    },
    {
     "name": "stdout",
     "output_type": "stream",
     "text": [
      "{'val_loss': 2.133470629773489, 'val_accuracy': 0.5403963414634146, 'precision': 0.5693890292614517, 'recall': 0.5403963414634146, 'f1-score': 0.5413798387906456, 'macro_f1-score': 0.282742793565849, 'balanced_accuracy': 0.2996596457214354, 'mcc': 0.39571589426544956, 'train_loss': 0.6160478901076417}\n",
      "Epoch 12/20\n"
     ]
    },
    {
     "name": "stderr",
     "output_type": "stream",
     "text": [
      "100%|██████████| 716/716 [01:19<00:00,  9.06it/s]\n"
     ]
    },
    {
     "name": "stdout",
     "output_type": "stream",
     "text": [
      "{'val_loss': 2.1840903410097448, 'val_accuracy': 0.5396341463414634, 'precision': 0.5693971303960278, 'recall': 0.5396341463414634, 'f1-score': 0.5435411076747348, 'macro_f1-score': 0.27233109183977056, 'balanced_accuracy': 0.29353010262646695, 'mcc': 0.40778774231717063, 'train_loss': 0.5479474572423201}\n",
      "Epoch 13/20\n"
     ]
    },
    {
     "name": "stderr",
     "output_type": "stream",
     "text": [
      "100%|██████████| 716/716 [01:18<00:00,  9.08it/s]\n"
     ]
    },
    {
     "name": "stdout",
     "output_type": "stream",
     "text": [
      "{'val_loss': 2.2501235902309418, 'val_accuracy': 0.5472560975609756, 'precision': 0.5782255678377123, 'recall': 0.5472560975609756, 'f1-score': 0.5528072088217975, 'macro_f1-score': 0.3083401158377811, 'balanced_accuracy': 0.3338692772338878, 'mcc': 0.41574535865767454, 'train_loss': 0.600887359879578}\n",
      "Epoch 14/20\n"
     ]
    },
    {
     "name": "stderr",
     "output_type": "stream",
     "text": [
      "100%|██████████| 716/716 [01:18<00:00,  9.07it/s]\n"
     ]
    },
    {
     "name": "stdout",
     "output_type": "stream",
     "text": [
      "{'val_loss': 2.3300352794368093, 'val_accuracy': 0.5144817073170732, 'precision': 0.585624836410201, 'recall': 0.5144817073170732, 'f1-score': 0.5370110882788441, 'macro_f1-score': 0.28361316681679033, 'balanced_accuracy': 0.3150233405759542, 'mcc': 0.39504482370098953, 'train_loss': 0.46452202438767065}\n",
      "Epoch 15/20\n"
     ]
    },
    {
     "name": "stderr",
     "output_type": "stream",
     "text": [
      "100%|██████████| 716/716 [01:19<00:00,  9.06it/s]\n"
     ]
    },
    {
     "name": "stdout",
     "output_type": "stream",
     "text": [
      "{'val_loss': 2.2116026540354983, 'val_accuracy': 0.5358231707317073, 'precision': 0.5863151370229756, 'recall': 0.5358231707317073, 'f1-score': 0.546404862687294, 'macro_f1-score': 0.29913985664840603, 'balanced_accuracy': 0.3151277647088996, 'mcc': 0.40769430803338735, 'train_loss': 0.7550594070249929}\n",
      "Epoch 16/20\n"
     ]
    },
    {
     "name": "stderr",
     "output_type": "stream",
     "text": [
      "100%|██████████| 716/716 [01:18<00:00,  9.07it/s]\n"
     ]
    },
    {
     "name": "stdout",
     "output_type": "stream",
     "text": [
      "{'val_loss': 2.2429974275391276, 'val_accuracy': 0.5632621951219512, 'precision': 0.5850802666373907, 'recall': 0.5632621951219512, 'f1-score': 0.5666156006260987, 'macro_f1-score': 0.2937429067023111, 'balanced_accuracy': 0.2973540699083819, 'mcc': 0.42723599167777176, 'train_loss': 0.4372692873581786}\n",
      "Early stopping.\n",
      "\n",
      "[Fold 2]\n",
      "Label distribution after resampling:\n",
      "  label 0: 2000\n",
      "  label 1: 200\n",
      "  label 2: 200\n",
      "  label 3: 200\n",
      "  label 4: 200\n",
      "  label 5: 200\n",
      "  label 6: 200\n",
      "  label 7: 200\n",
      "  label 8: 200\n",
      "  label 9: 200\n",
      "  label 10: 200\n",
      "  label 11: 200\n",
      "  label 12: 200\n",
      "  label 13: 200\n",
      "  label 14: 200\n",
      "  label 15: 200\n",
      "  label 16: 200\n",
      "  label 17: 200\n",
      "  label 18: 200\n",
      "  label 19: 200\n",
      "  label 20: 200\n",
      "  label 21: 200\n",
      "  label 22: 200\n",
      "  label 23: 200\n",
      "  label 24: 200\n",
      "  label 25: 200\n",
      "  label 26: 200\n",
      "  label 27: 200\n",
      "  label 28: 200\n",
      "  label 29: 200\n",
      "  label 30: 200\n",
      "  label 31: 200\n",
      "  label 32: 200\n",
      "  label 33: 200\n",
      "  label 34: 200\n",
      "  label 35: 200\n",
      "  label 36: 200\n",
      "  label 37: 200\n",
      "  label 38: 200\n",
      "  label 39: 200\n",
      "  label 40: 200\n",
      "  label 41: 200\n",
      "  label 42: 200\n",
      "  label 43: 200\n",
      "  label 44: 200\n",
      "  label 45: 242\n",
      "  label 46: 200\n",
      "  label 47: 200\n",
      "model is microsoft/deberta-base bilstm\n",
      "Epoch 1/20\n"
     ]
    },
    {
     "name": "stderr",
     "output_type": "stream",
     "text": [
      "100%|██████████| 716/716 [01:19<00:00,  9.05it/s]\n"
     ]
    },
    {
     "name": "stdout",
     "output_type": "stream",
     "text": [
      "{'val_loss': 2.559165845556957, 'val_accuracy': 0.4744469870327994, 'precision': 0.30257829117412244, 'recall': 0.4744469870327994, 'f1-score': 0.36285242442167764, 'macro_f1-score': 0.034379678838666626, 'balanced_accuracy': 0.05432078408611229, 'mcc': 0.18927590958602747, 'train_loss': 3.450066962055654}\n",
      "Epoch 2/20\n"
     ]
    },
    {
     "name": "stderr",
     "output_type": "stream",
     "text": [
      "100%|██████████| 716/716 [01:19<00:00,  9.06it/s]\n"
     ]
    },
    {
     "name": "stdout",
     "output_type": "stream",
     "text": [
      "{'val_loss': 3.0139353100846455, 'val_accuracy': 0.47139588100686497, 'precision': 0.2222140766302384, 'recall': 0.47139588100686497, 'f1-score': 0.302045261236125, 'macro_f1-score': 0.01334888543286677, 'balanced_accuracy': 0.020833333333333332, 'mcc': 0.0, 'train_loss': 3.543118740260268}\n",
      "Epoch 3/20\n"
     ]
    },
    {
     "name": "stderr",
     "output_type": "stream",
     "text": [
      "100%|██████████| 716/716 [01:18<00:00,  9.08it/s]\n"
     ]
    },
    {
     "name": "stdout",
     "output_type": "stream",
     "text": [
      "{'val_loss': 2.9098363416950876, 'val_accuracy': 0.47139588100686497, 'precision': 0.2222140766302384, 'recall': 0.47139588100686497, 'f1-score': 0.302045261236125, 'macro_f1-score': 0.01334888543286677, 'balanced_accuracy': 0.020833333333333332, 'mcc': 0.0, 'train_loss': 3.625853974725947}\n",
      "Epoch 4/20\n"
     ]
    },
    {
     "name": "stderr",
     "output_type": "stream",
     "text": [
      "100%|██████████| 716/716 [01:19<00:00,  9.06it/s]\n"
     ]
    },
    {
     "name": "stdout",
     "output_type": "stream",
     "text": [
      "{'val_loss': 3.0508565204899485, 'val_accuracy': 0.47139588100686497, 'precision': 0.2222140766302384, 'recall': 0.47139588100686497, 'f1-score': 0.302045261236125, 'macro_f1-score': 0.01334888543286677, 'balanced_accuracy': 0.020833333333333332, 'mcc': 0.0, 'train_loss': 3.6322016982392893}\n",
      "Early stopping.\n",
      "\n",
      "[Fold 3]\n",
      "Label distribution after resampling:\n",
      "  label 0: 2000\n",
      "  label 1: 200\n",
      "  label 2: 200\n",
      "  label 3: 200\n",
      "  label 4: 200\n",
      "  label 5: 200\n",
      "  label 6: 200\n",
      "  label 7: 200\n",
      "  label 8: 200\n",
      "  label 9: 200\n",
      "  label 10: 200\n",
      "  label 11: 200\n",
      "  label 12: 200\n",
      "  label 13: 200\n",
      "  label 14: 200\n",
      "  label 15: 200\n",
      "  label 16: 200\n",
      "  label 17: 200\n",
      "  label 18: 200\n",
      "  label 19: 200\n",
      "  label 20: 200\n",
      "  label 21: 200\n",
      "  label 22: 200\n",
      "  label 23: 200\n",
      "  label 24: 200\n",
      "  label 25: 200\n",
      "  label 26: 200\n",
      "  label 27: 200\n",
      "  label 28: 200\n",
      "  label 29: 200\n",
      "  label 30: 200\n",
      "  label 31: 200\n",
      "  label 32: 200\n",
      "  label 33: 200\n",
      "  label 34: 200\n",
      "  label 35: 200\n",
      "  label 36: 200\n",
      "  label 37: 200\n",
      "  label 38: 200\n",
      "  label 39: 200\n",
      "  label 40: 200\n",
      "  label 41: 200\n",
      "  label 42: 200\n",
      "  label 43: 200\n",
      "  label 44: 200\n",
      "  label 45: 241\n",
      "  label 46: 200\n",
      "  label 47: 200\n",
      "model is microsoft/deberta-base bilstm\n",
      "Epoch 1/20\n"
     ]
    },
    {
     "name": "stderr",
     "output_type": "stream",
     "text": [
      "100%|██████████| 716/716 [01:19<00:00,  9.06it/s]\n"
     ]
    },
    {
     "name": "stdout",
     "output_type": "stream",
     "text": [
      "{'val_loss': 2.7336189194423395, 'val_accuracy': 0.463768115942029, 'precision': 0.23218254441737174, 'recall': 0.463768115942029, 'f1-score': 0.30890579552204617, 'macro_f1-score': 0.015992695392098865, 'balanced_accuracy': 0.035208622283865, 'mcc': 0.07369071180737537, 'train_loss': 3.3850764832017144}\n",
      "Epoch 2/20\n"
     ]
    },
    {
     "name": "stderr",
     "output_type": "stream",
     "text": [
      "100%|██████████| 716/716 [01:18<00:00,  9.07it/s]\n"
     ]
    },
    {
     "name": "stdout",
     "output_type": "stream",
     "text": [
      "{'val_loss': 2.809053650716456, 'val_accuracy': 0.41571319603356216, 'precision': 0.2934193916958868, 'recall': 0.41571319603356216, 'f1-score': 0.3433316474697145, 'macro_f1-score': 0.01583554816042738, 'balanced_accuracy': 0.034764360841423946, 'mcc': 0.16701426232774716, 'train_loss': 3.321306696817196}\n",
      "Epoch 3/20\n"
     ]
    },
    {
     "name": "stderr",
     "output_type": "stream",
     "text": [
      "100%|██████████| 716/716 [01:18<00:00,  9.07it/s]\n"
     ]
    },
    {
     "name": "stdout",
     "output_type": "stream",
     "text": [
      "{'val_loss': 2.6309842292855428, 'val_accuracy': 0.4462242562929062, 'precision': 0.29062489557226395, 'recall': 0.4462242562929062, 'f1-score': 0.34264512991881846, 'macro_f1-score': 0.02024373197927117, 'balanced_accuracy': 0.04254038675791819, 'mcc': 0.15401527916621452, 'train_loss': 3.280768046498965}\n",
      "Epoch 4/20\n"
     ]
    },
    {
     "name": "stderr",
     "output_type": "stream",
     "text": [
      "100%|██████████| 716/716 [01:18<00:00,  9.07it/s]\n"
     ]
    },
    {
     "name": "stdout",
     "output_type": "stream",
     "text": [
      "{'val_loss': 2.6154565651242327, 'val_accuracy': 0.43173150266971777, 'precision': 0.27780022688085604, 'recall': 0.43173150266971777, 'f1-score': 0.3373814601157365, 'macro_f1-score': 0.025440700249919023, 'balanced_accuracy': 0.04781328658755843, 'mcc': 0.14754455667585356, 'train_loss': 3.1252408656994057}\n",
      "Epoch 5/20\n"
     ]
    },
    {
     "name": "stderr",
     "output_type": "stream",
     "text": [
      "100%|██████████| 716/716 [01:19<00:00,  9.06it/s]\n"
     ]
    },
    {
     "name": "stdout",
     "output_type": "stream",
     "text": [
      "{'val_loss': 2.8522212592566887, 'val_accuracy': 0.38367658276125094, 'precision': 0.297423408443864, 'recall': 0.38367658276125094, 'f1-score': 0.3330633805586161, 'macro_f1-score': 0.01761952871343996, 'balanced_accuracy': 0.03478453630152659, 'mcc': 0.1551431098114814, 'train_loss': 3.0323326367905685}\n",
      "Epoch 6/20\n"
     ]
    },
    {
     "name": "stderr",
     "output_type": "stream",
     "text": [
      "100%|██████████| 716/716 [01:19<00:00,  9.06it/s]\n"
     ]
    },
    {
     "name": "stdout",
     "output_type": "stream",
     "text": [
      "{'val_loss': 2.654173237521474, 'val_accuracy': 0.4660564454614798, 'precision': 0.22795411084540057, 'recall': 0.4660564454614798, 'f1-score': 0.30499583563536353, 'macro_f1-score': 0.017084957764782326, 'balanced_accuracy': 0.02744066882416397, 'mcc': 0.040160730391584604, 'train_loss': 3.154496530913774}\n",
      "Epoch 7/20\n"
     ]
    },
    {
     "name": "stderr",
     "output_type": "stream",
     "text": [
      "100%|██████████| 716/716 [01:18<00:00,  9.07it/s]\n"
     ]
    },
    {
     "name": "stdout",
     "output_type": "stream",
     "text": [
      "{'val_loss': 2.7994650122595996, 'val_accuracy': 0.45614035087719296, 'precision': 0.2399522388802878, 'recall': 0.45614035087719296, 'f1-score': 0.3081042348933173, 'macro_f1-score': 0.02093974370296084, 'balanced_accuracy': 0.037738740142180406, 'mcc': 0.05294916784744877, 'train_loss': 3.243953314906392}\n",
      "Early stopping.\n",
      "\n",
      "[Fold 4]\n",
      "Label distribution after resampling:\n",
      "  label 0: 2000\n",
      "  label 1: 200\n",
      "  label 2: 200\n",
      "  label 3: 200\n",
      "  label 4: 200\n",
      "  label 5: 200\n",
      "  label 6: 200\n",
      "  label 7: 200\n",
      "  label 8: 200\n",
      "  label 9: 200\n",
      "  label 10: 200\n",
      "  label 11: 200\n",
      "  label 12: 200\n",
      "  label 13: 200\n",
      "  label 14: 200\n",
      "  label 15: 200\n",
      "  label 16: 200\n",
      "  label 17: 200\n",
      "  label 18: 200\n",
      "  label 19: 200\n",
      "  label 20: 200\n",
      "  label 21: 200\n",
      "  label 22: 200\n",
      "  label 23: 200\n",
      "  label 24: 200\n",
      "  label 25: 200\n",
      "  label 26: 200\n",
      "  label 27: 200\n",
      "  label 28: 200\n",
      "  label 29: 200\n",
      "  label 30: 200\n",
      "  label 31: 200\n",
      "  label 32: 200\n",
      "  label 33: 200\n",
      "  label 34: 200\n",
      "  label 35: 200\n",
      "  label 36: 200\n",
      "  label 37: 200\n",
      "  label 38: 200\n",
      "  label 39: 200\n",
      "  label 40: 200\n",
      "  label 41: 200\n",
      "  label 42: 200\n",
      "  label 43: 200\n",
      "  label 44: 200\n",
      "  label 45: 241\n",
      "  label 46: 200\n",
      "  label 47: 200\n",
      "model is microsoft/deberta-base bilstm\n",
      "Epoch 1/20\n"
     ]
    },
    {
     "name": "stderr",
     "output_type": "stream",
     "text": [
      "100%|██████████| 716/716 [01:18<00:00,  9.07it/s]\n"
     ]
    },
    {
     "name": "stdout",
     "output_type": "stream",
     "text": [
      "{'val_loss': 3.0357257244063587, 'val_accuracy': 0.47139588100686497, 'precision': 0.2222140766302384, 'recall': 0.47139588100686497, 'f1-score': 0.302045261236125, 'macro_f1-score': 0.01334888543286677, 'balanced_accuracy': 0.020833333333333332, 'mcc': 0.0, 'train_loss': 3.6442454517220653}\n",
      "Epoch 2/20\n"
     ]
    },
    {
     "name": "stderr",
     "output_type": "stream",
     "text": [
      "100%|██████████| 716/716 [01:18<00:00,  9.09it/s]\n"
     ]
    },
    {
     "name": "stdout",
     "output_type": "stream",
     "text": [
      "{'val_loss': 2.991971088618767, 'val_accuracy': 0.47139588100686497, 'precision': 0.2222140766302384, 'recall': 0.47139588100686497, 'f1-score': 0.302045261236125, 'macro_f1-score': 0.01334888543286677, 'balanced_accuracy': 0.020833333333333332, 'mcc': 0.0, 'train_loss': 3.6507330533512476}\n",
      "Epoch 3/20\n"
     ]
    },
    {
     "name": "stderr",
     "output_type": "stream",
     "text": [
      "100%|██████████| 716/716 [01:18<00:00,  9.06it/s]\n"
     ]
    },
    {
     "name": "stdout",
     "output_type": "stream",
     "text": [
      "{'val_loss': 3.0567605321000264, 'val_accuracy': 0.47139588100686497, 'precision': 0.2222140766302384, 'recall': 0.47139588100686497, 'f1-score': 0.302045261236125, 'macro_f1-score': 0.01334888543286677, 'balanced_accuracy': 0.020833333333333332, 'mcc': 0.0, 'train_loss': 3.6514656783482216}\n",
      "Epoch 4/20\n"
     ]
    },
    {
     "name": "stderr",
     "output_type": "stream",
     "text": [
      "100%|██████████| 716/716 [01:19<00:00,  9.06it/s]\n"
     ]
    },
    {
     "name": "stdout",
     "output_type": "stream",
     "text": [
      "{'val_loss': 2.9455676136947258, 'val_accuracy': 0.47139588100686497, 'precision': 0.2222140766302384, 'recall': 0.47139588100686497, 'f1-score': 0.302045261236125, 'macro_f1-score': 0.01334888543286677, 'balanced_accuracy': 0.020833333333333332, 'mcc': 0.0, 'train_loss': 3.646842124075863}\n",
      "Early stopping.\n",
      "\n",
      "[Fold 5]\n",
      "Label distribution after resampling:\n",
      "  label 0: 2000\n",
      "  label 1: 200\n",
      "  label 2: 200\n",
      "  label 3: 200\n",
      "  label 4: 200\n",
      "  label 5: 200\n",
      "  label 6: 200\n",
      "  label 7: 200\n",
      "  label 8: 200\n",
      "  label 9: 200\n",
      "  label 10: 200\n",
      "  label 11: 200\n",
      "  label 12: 200\n",
      "  label 13: 200\n",
      "  label 14: 200\n",
      "  label 15: 200\n",
      "  label 16: 200\n",
      "  label 17: 200\n",
      "  label 18: 200\n",
      "  label 19: 200\n",
      "  label 20: 200\n",
      "  label 21: 200\n",
      "  label 22: 200\n",
      "  label 23: 200\n",
      "  label 24: 200\n",
      "  label 25: 200\n",
      "  label 26: 200\n",
      "  label 27: 200\n",
      "  label 28: 200\n",
      "  label 29: 200\n",
      "  label 30: 200\n",
      "  label 31: 200\n",
      "  label 32: 200\n",
      "  label 33: 200\n",
      "  label 34: 200\n",
      "  label 35: 200\n",
      "  label 36: 200\n",
      "  label 37: 200\n",
      "  label 38: 200\n",
      "  label 39: 200\n",
      "  label 40: 200\n",
      "  label 41: 200\n",
      "  label 42: 200\n",
      "  label 43: 200\n",
      "  label 44: 200\n",
      "  label 45: 242\n",
      "  label 46: 200\n",
      "  label 47: 200\n",
      "model is microsoft/deberta-base bilstm\n",
      "Epoch 1/20\n"
     ]
    },
    {
     "name": "stderr",
     "output_type": "stream",
     "text": [
      "100%|██████████| 716/716 [01:18<00:00,  9.07it/s]\n"
     ]
    },
    {
     "name": "stdout",
     "output_type": "stream",
     "text": [
      "{'val_loss': 2.5662418662047966, 'val_accuracy': 0.4248665141113654, 'precision': 0.3632803059534537, 'recall': 0.4248665141113654, 'f1-score': 0.38268448451692694, 'macro_f1-score': 0.03626297693211424, 'balanced_accuracy': 0.06585015714371469, 'mcc': 0.21394051424714694, 'train_loss': 3.35799826856432}\n",
      "Epoch 2/20\n"
     ]
    },
    {
     "name": "stderr",
     "output_type": "stream",
     "text": [
      "100%|██████████| 716/716 [01:18<00:00,  9.08it/s]\n"
     ]
    },
    {
     "name": "stdout",
     "output_type": "stream",
     "text": [
      "{'val_loss': 2.328069037053643, 'val_accuracy': 0.40350877192982454, 'precision': 0.44195602937470285, 'recall': 0.40350877192982454, 'f1-score': 0.39826825509740676, 'macro_f1-score': 0.07586810196546113, 'balanced_accuracy': 0.12311513555554736, 'mcc': 0.2191517862950461, 'train_loss': 2.8198921595538793}\n",
      "Epoch 3/20\n"
     ]
    },
    {
     "name": "stderr",
     "output_type": "stream",
     "text": [
      "100%|██████████| 716/716 [01:18<00:00,  9.06it/s]\n"
     ]
    },
    {
     "name": "stdout",
     "output_type": "stream",
     "text": [
      "{'val_loss': 1.9629073157543089, 'val_accuracy': 0.463768115942029, 'precision': 0.46602859325983986, 'recall': 0.463768115942029, 'f1-score': 0.4437610443112705, 'macro_f1-score': 0.13970368225798344, 'balanced_accuracy': 0.1969817965327465, 'mcc': 0.28908555663893, 'train_loss': 2.3248515144073765}\n",
      "Epoch 4/20\n"
     ]
    },
    {
     "name": "stderr",
     "output_type": "stream",
     "text": [
      "100%|██████████| 716/716 [01:19<00:00,  9.05it/s]\n"
     ]
    },
    {
     "name": "stdout",
     "output_type": "stream",
     "text": [
      "{'val_loss': 1.9072460146938883, 'val_accuracy': 0.479023646071701, 'precision': 0.52534810050069, 'recall': 0.479023646071701, 'f1-score': 0.4758874772925262, 'macro_f1-score': 0.18399902293059844, 'balanced_accuracy': 0.230598926409185, 'mcc': 0.31966295591386273, 'train_loss': 1.7863617006626875}\n",
      "Epoch 5/20\n"
     ]
    },
    {
     "name": "stderr",
     "output_type": "stream",
     "text": [
      "100%|██████████| 716/716 [01:19<00:00,  9.06it/s]\n"
     ]
    },
    {
     "name": "stdout",
     "output_type": "stream",
     "text": [
      "{'val_loss': 1.951591051933242, 'val_accuracy': 0.4897025171624714, 'precision': 0.5796924105258252, 'recall': 0.4897025171624714, 'f1-score': 0.5154735904130797, 'macro_f1-score': 0.2486270339923864, 'balanced_accuracy': 0.30343499239052957, 'mcc': 0.3644336006500453, 'train_loss': 1.4163829830771717}\n",
      "Epoch 6/20\n"
     ]
    },
    {
     "name": "stderr",
     "output_type": "stream",
     "text": [
      "100%|██████████| 716/716 [01:18<00:00,  9.07it/s]\n"
     ]
    },
    {
     "name": "stdout",
     "output_type": "stream",
     "text": [
      "{'val_loss': 1.8679979668884743, 'val_accuracy': 0.5186880244088482, 'precision': 0.5485125354833592, 'recall': 0.5186880244088482, 'f1-score': 0.5194511296321351, 'macro_f1-score': 0.25411447321647773, 'balanced_accuracy': 0.2922107691257964, 'mcc': 0.38227819884310715, 'train_loss': 1.1638818828170525}\n",
      "Epoch 7/20\n"
     ]
    },
    {
     "name": "stderr",
     "output_type": "stream",
     "text": [
      "100%|██████████| 716/716 [01:19<00:00,  9.06it/s]\n"
     ]
    },
    {
     "name": "stdout",
     "output_type": "stream",
     "text": [
      "{'val_loss': 1.8951103680017518, 'val_accuracy': 0.5308924485125858, 'precision': 0.6102748547663661, 'recall': 0.5308924485125858, 'f1-score': 0.5531296423828298, 'macro_f1-score': 0.27796785590643214, 'balanced_accuracy': 0.3013885536452163, 'mcc': 0.40924915905256776, 'train_loss': 0.9406015182840092}\n",
      "Epoch 8/20\n"
     ]
    },
    {
     "name": "stderr",
     "output_type": "stream",
     "text": [
      "100%|██████████| 716/716 [01:18<00:00,  9.07it/s]\n"
     ]
    },
    {
     "name": "stdout",
     "output_type": "stream",
     "text": [
      "{'val_loss': 1.9309366737923972, 'val_accuracy': 0.5377574370709383, 'precision': 0.601589058615107, 'recall': 0.5377574370709383, 'f1-score': 0.5535234656410903, 'macro_f1-score': 0.28427615471457995, 'balanced_accuracy': 0.30893326860650205, 'mcc': 0.4145094213504, 'train_loss': 0.8550963390764245}\n",
      "Epoch 9/20\n"
     ]
    },
    {
     "name": "stderr",
     "output_type": "stream",
     "text": [
      "100%|██████████| 716/716 [01:19<00:00,  9.04it/s]\n"
     ]
    },
    {
     "name": "stdout",
     "output_type": "stream",
     "text": [
      "{'val_loss': 1.8818358270133413, 'val_accuracy': 0.5575896262395118, 'precision': 0.5925708076544379, 'recall': 0.5575896262395118, 'f1-score': 0.564898984421052, 'macro_f1-score': 0.3145070541840613, 'balanced_accuracy': 0.3447082630170066, 'mcc': 0.43101658204630383, 'train_loss': 0.7251257008180938}\n",
      "Epoch 10/20\n"
     ]
    },
    {
     "name": "stderr",
     "output_type": "stream",
     "text": [
      "100%|██████████| 716/716 [01:18<00:00,  9.07it/s]\n"
     ]
    },
    {
     "name": "stdout",
     "output_type": "stream",
     "text": [
      "{'val_loss': 1.911311117614188, 'val_accuracy': 0.5415713196033562, 'precision': 0.5654544389222269, 'recall': 0.5415713196033562, 'f1-score': 0.5380003578908574, 'macro_f1-score': 0.31095981106792, 'balanced_accuracy': 0.34125226541809495, 'mcc': 0.40085814649907203, 'train_loss': 0.5831843245691261}\n",
      "Epoch 11/20\n"
     ]
    },
    {
     "name": "stderr",
     "output_type": "stream",
     "text": [
      "100%|██████████| 716/716 [01:18<00:00,  9.08it/s]\n"
     ]
    },
    {
     "name": "stdout",
     "output_type": "stream",
     "text": [
      "{'val_loss': 1.9165138006210327, 'val_accuracy': 0.5812356979405034, 'precision': 0.5944783464107268, 'recall': 0.5812356979405034, 'f1-score': 0.5818710061138107, 'macro_f1-score': 0.33410289021061246, 'balanced_accuracy': 0.35983959680826855, 'mcc': 0.4560925085027185, 'train_loss': 0.5443613687894364}\n",
      "Epoch 12/20\n"
     ]
    },
    {
     "name": "stderr",
     "output_type": "stream",
     "text": [
      "100%|██████████| 716/716 [01:18<00:00,  9.06it/s]\n"
     ]
    },
    {
     "name": "stdout",
     "output_type": "stream",
     "text": [
      "{'val_loss': 1.897901581191435, 'val_accuracy': 0.6109839816933639, 'precision': 0.6269264847817305, 'recall': 0.6109839816933639, 'f1-score': 0.6063001119032947, 'macro_f1-score': 0.3633191514984601, 'balanced_accuracy': 0.3695064288265168, 'mcc': 0.4860519424914125, 'train_loss': 0.4259561189299439}\n",
      "Epoch 13/20\n"
     ]
    },
    {
     "name": "stderr",
     "output_type": "stream",
     "text": [
      "100%|██████████| 716/716 [01:19<00:00,  9.05it/s]\n"
     ]
    },
    {
     "name": "stdout",
     "output_type": "stream",
     "text": [
      "{'val_loss': 2.0195174191783116, 'val_accuracy': 0.5842868039664378, 'precision': 0.6142620174035776, 'recall': 0.5842868039664378, 'f1-score': 0.5899229076033885, 'macro_f1-score': 0.34220620563897247, 'balanced_accuracy': 0.36195409646017346, 'mcc': 0.46609629824833343, 'train_loss': 0.39025046898041693}\n",
      "Epoch 14/20\n"
     ]
    },
    {
     "name": "stderr",
     "output_type": "stream",
     "text": [
      "100%|██████████| 716/716 [01:18<00:00,  9.07it/s]\n"
     ]
    },
    {
     "name": "stdout",
     "output_type": "stream",
     "text": [
      "{'val_loss': 2.040321062250835, 'val_accuracy': 0.5682684973302822, 'precision': 0.6096241539079581, 'recall': 0.5682684973302822, 'f1-score': 0.5802540055952654, 'macro_f1-score': 0.3681108530842581, 'balanced_accuracy': 0.37564055094274346, 'mcc': 0.44624659809745526, 'train_loss': 0.36900839063874835}\n",
      "Epoch 15/20\n"
     ]
    },
    {
     "name": "stderr",
     "output_type": "stream",
     "text": [
      "100%|██████████| 716/716 [01:18<00:00,  9.08it/s]\n"
     ]
    },
    {
     "name": "stdout",
     "output_type": "stream",
     "text": [
      "{'val_loss': 2.1293867957301256, 'val_accuracy': 0.5957284515636918, 'precision': 0.6313507484450706, 'recall': 0.5957284515636918, 'f1-score': 0.6002986136934546, 'macro_f1-score': 0.359504094515336, 'balanced_accuracy': 0.37396828934899845, 'mcc': 0.4843256128651228, 'train_loss': 0.32514208573431774}\n",
      "Epoch 16/20\n"
     ]
    },
    {
     "name": "stderr",
     "output_type": "stream",
     "text": [
      "100%|██████████| 716/716 [01:19<00:00,  9.06it/s]\n"
     ]
    },
    {
     "name": "stdout",
     "output_type": "stream",
     "text": [
      "{'val_loss': 2.0680437429649072, 'val_accuracy': 0.6048817696414951, 'precision': 0.6241550847055967, 'recall': 0.6048817696414951, 'f1-score': 0.6068291930749297, 'macro_f1-score': 0.3950915270494651, 'balanced_accuracy': 0.39631082444967136, 'mcc': 0.4883214307703152, 'train_loss': 0.28621802130953394}\n",
      "Epoch 17/20\n"
     ]
    },
    {
     "name": "stderr",
     "output_type": "stream",
     "text": [
      "100%|██████████| 716/716 [01:18<00:00,  9.07it/s]\n"
     ]
    },
    {
     "name": "stdout",
     "output_type": "stream",
     "text": [
      "{'val_loss': 2.1582865587821822, 'val_accuracy': 0.5873379099923722, 'precision': 0.6341439051065142, 'recall': 0.5873379099923722, 'f1-score': 0.5991914923136624, 'macro_f1-score': 0.344597030444923, 'balanced_accuracy': 0.3648569661902404, 'mcc': 0.47473103326854027, 'train_loss': 0.2948927300092478}\n",
      "Epoch 18/20\n"
     ]
    },
    {
     "name": "stderr",
     "output_type": "stream",
     "text": [
      "100%|██████████| 716/716 [01:18<00:00,  9.08it/s]\n"
     ]
    },
    {
     "name": "stdout",
     "output_type": "stream",
     "text": [
      "{'val_loss': 2.082823460058468, 'val_accuracy': 0.6117467581998475, 'precision': 0.634618783958875, 'recall': 0.6117467581998475, 'f1-score': 0.6166806083895203, 'macro_f1-score': 0.3764588932554988, 'balanced_accuracy': 0.37454922808026253, 'mcc': 0.5007673754126276, 'train_loss': 0.2480017109292783}\n",
      "Epoch 19/20\n"
     ]
    },
    {
     "name": "stderr",
     "output_type": "stream",
     "text": [
      "100%|██████████| 716/716 [01:18<00:00,  9.08it/s]\n"
     ]
    },
    {
     "name": "stdout",
     "output_type": "stream",
     "text": [
      "{'val_loss': 2.194548843837366, 'val_accuracy': 0.5888634630053394, 'precision': 0.6274846037360696, 'recall': 0.5888634630053394, 'f1-score': 0.5985644007601899, 'macro_f1-score': 0.3484173162358819, 'balanced_accuracy': 0.355448232407237, 'mcc': 0.47296169532661164, 'train_loss': 0.2644596156877512}\n",
      "Early stopping.\n",
      "\n",
      " === microsoft/deberta-base + bilstm + ros Final 5-fold Cross-Validation Results ===\n",
      "val_loss: 2.5057\n",
      "val_accuracy: 0.5059\n",
      "precision: 0.4010\n",
      "recall: 0.5059\n",
      "f1-score: 0.4324\n",
      "macro_f1-score: 0.1553\n",
      "balanced_accuracy: 0.1706\n",
      "mcc: 0.2482\n",
      "train_loss: 2.2213\n",
      "total_seconds: 4142.0000\n",
      "total_time: 1 hrs 9 mins 2 secs\n"
     ]
    }
   ],
   "source": [
    "model_list = [\"bert-base-uncased\", \"roberta-base\", \"microsoft/deberta-base\"]\n",
    "hybrid_list = [None, \"cnn\", \"lstm\", \"bilstm\"]\n",
    "resample_list = [\"ros\"]\n",
    "\n",
    "all_experiment_result = {}\n",
    "\n",
    "for model_name in model_list:\n",
    "    for hybrid_type in hybrid_list:\n",
    "        for resample_method in resample_list:\n",
    "            results = run_kfold_experiment(\n",
    "                X=messages, y=labels, model_name=model_name, hybrid_type=hybrid_type, resample_method=resample_method,\n",
    "                kfold=KFOLD_SPLIT, seed=SEED, epochs=EPOCHS, patience=PATIENCE, max_length=MAX_LENGTH, \n",
    "                batch_size=BATCH_SIZE, lr=LR, weight_decay=WEIGHT_DECAY, upper_cap=UPPER_CAP, lower_cap=LOWER_CAP\n",
    "            )\n",
    "\n",
    "            key = f\"{model_name} {hybrid_type if hybrid_type else 'None'} {resample_method}\"\n",
    "            all_experiment_result[key] = results"
   ]
  },
  {
   "cell_type": "code",
   "execution_count": 5,
   "id": "d799ebb4-be3b-4b29-9238-6c2a2f8256ae",
   "metadata": {},
   "outputs": [
    {
     "data": {
      "text/plain": [
       "{'bert-base-uncased None ros': {'val_loss': 1.8613089850126971,\n",
       "  'val_accuracy': 0.6510035859797958,\n",
       "  'precision': 0.6518142625226974,\n",
       "  'recall': 0.6510035859797958,\n",
       "  'f1-score': 0.6403388073621729,\n",
       "  'macro_f1-score': 0.42272698002754805,\n",
       "  'balanced_accuracy': 0.4054942822094604,\n",
       "  'mcc': 0.5358403073551947,\n",
       "  'train_loss': 0.10679079024221971,\n",
       "  'total_seconds': 2715,\n",
       "  'total_time': '0 hrs 45 mins 15 secs'},\n",
       " 'bert-base-uncased cnn ros': {'val_loss': 1.852727908877338,\n",
       "  'val_accuracy': 0.6339223921415416,\n",
       "  'precision': 0.6560453270369058,\n",
       "  'recall': 0.6339223921415416,\n",
       "  'f1-score': 0.634675098666655,\n",
       "  'macro_f1-score': 0.42799109531875396,\n",
       "  'balanced_accuracy': 0.434552733409013,\n",
       "  'mcc': 0.5244442489312598,\n",
       "  'train_loss': 0.2382200777756997,\n",
       "  'total_seconds': 2644,\n",
       "  'total_time': '0 hrs 44 mins 4 secs'},\n",
       " 'bert-base-uncased lstm ros': {'val_loss': 1.8756795800313717,\n",
       "  'val_accuracy': 0.6296492158285427,\n",
       "  'precision': 0.6517776844571908,\n",
       "  'recall': 0.6296492158285427,\n",
       "  'f1-score': 0.629064744983147,\n",
       "  'macro_f1-score': 0.4272954059075579,\n",
       "  'balanced_accuracy': 0.43052284063097684,\n",
       "  'mcc': 0.5236582177715461,\n",
       "  'train_loss': 0.16183172773554216,\n",
       "  'total_seconds': 3520,\n",
       "  'total_time': '0 hrs 58 mins 40 secs'},\n",
       " 'bert-base-uncased bilstm ros': {'val_loss': 1.724246546989534,\n",
       "  'val_accuracy': 0.6450579989209503,\n",
       "  'precision': 0.6460146284410836,\n",
       "  'recall': 0.6450579989209503,\n",
       "  'f1-score': 0.6341961323958027,\n",
       "  'macro_f1-score': 0.4118023506693378,\n",
       "  'balanced_accuracy': 0.4030181481794357,\n",
       "  'mcc': 0.5275288658665531,\n",
       "  'train_loss': 0.29036430263463875,\n",
       "  'total_seconds': 2867,\n",
       "  'total_time': '0 hrs 47 mins 47 secs'},\n",
       " 'roberta-base None ros': {'val_loss': 1.7690546328928776,\n",
       "  'val_accuracy': 0.6136406764525312,\n",
       "  'precision': 0.6378355676161649,\n",
       "  'recall': 0.6136406764525312,\n",
       "  'f1-score': 0.6113995347243708,\n",
       "  'macro_f1-score': 0.4083189922269489,\n",
       "  'balanced_accuracy': 0.42191494987355077,\n",
       "  'mcc': 0.4985385249525189,\n",
       "  'train_loss': 0.40592180883392237,\n",
       "  'total_seconds': 2380,\n",
       "  'total_time': '0 hrs 39 mins 40 secs'},\n",
       " 'roberta-base cnn ros': {'val_loss': 1.8076949140647565,\n",
       "  'val_accuracy': 0.605091068073152,\n",
       "  'precision': 0.6387478582210424,\n",
       "  'recall': 0.605091068073152,\n",
       "  'f1-score': 0.6095453055290657,\n",
       "  'macro_f1-score': 0.3952187568714815,\n",
       "  'balanced_accuracy': 0.4179243075513076,\n",
       "  'mcc': 0.4957511160692375,\n",
       "  'train_loss': 0.33187581567326563,\n",
       "  'total_seconds': 2820,\n",
       "  'total_time': '0 hrs 47 mins 0 secs'},\n",
       " 'roberta-base lstm ros': {'val_loss': 2.002801555395126,\n",
       "  'val_accuracy': 0.575955796171234,\n",
       "  'precision': 0.5472535675866153,\n",
       "  'recall': 0.575955796171234,\n",
       "  'f1-score': 0.543990245938634,\n",
       "  'macro_f1-score': 0.3126087644441572,\n",
       "  'balanced_accuracy': 0.3310915243088724,\n",
       "  'mcc': 0.4135461948216868,\n",
       "  'train_loss': 1.1123274609672853,\n",
       "  'total_seconds': 3168,\n",
       "  'total_time': '0 hrs 52 mins 48 secs'},\n",
       " 'roberta-base bilstm ros': {'val_loss': 1.856655679752187,\n",
       "  'val_accuracy': 0.564668448028874,\n",
       "  'precision': 0.5419547250100831,\n",
       "  'recall': 0.564668448028874,\n",
       "  'f1-score': 0.5384076915120732,\n",
       "  'macro_f1-score': 0.30877349155558953,\n",
       "  'balanced_accuracy': 0.33413266289685656,\n",
       "  'mcc': 0.3974406979846089,\n",
       "  'train_loss': 1.1637075252935039,\n",
       "  'total_seconds': 2484,\n",
       "  'total_time': '0 hrs 41 mins 24 secs'},\n",
       " 'microsoft/deberta-base None ros': {'val_loss': 1.981009127126961,\n",
       "  'val_accuracy': 0.5890699707912411,\n",
       "  'precision': 0.5486707539899942,\n",
       "  'recall': 0.5890699707912411,\n",
       "  'f1-score': 0.5491511291477298,\n",
       "  'macro_f1-score': 0.3137898361566619,\n",
       "  'balanced_accuracy': 0.324523303074499,\n",
       "  'mcc': 0.40227137459409035,\n",
       "  'train_loss': 0.9931997363882233,\n",
       "  'total_seconds': 2139,\n",
       "  'total_time': '0 hrs 35 mins 39 secs'},\n",
       " 'microsoft/deberta-base cnn ros': {'val_loss': 2.3448944832857057,\n",
       "  'val_accuracy': 0.5695696359137503,\n",
       "  'precision': 0.48217362604173364,\n",
       "  'recall': 0.5695696359137503,\n",
       "  'f1-score': 0.5043899039934496,\n",
       "  'macro_f1-score': 0.25082719560863415,\n",
       "  'balanced_accuracy': 0.26023461217195715,\n",
       "  'mcc': 0.3499399618069726,\n",
       "  'train_loss': 1.5987670159103955,\n",
       "  'total_seconds': 3018,\n",
       "  'total_time': '0 hrs 50 mins 18 secs'},\n",
       " 'microsoft/deberta-base lstm ros': {'val_loss': 2.235211936002824,\n",
       "  'val_accuracy': 0.5149460010046324,\n",
       "  'precision': 0.5310112326585152,\n",
       "  'recall': 0.5149460010046324,\n",
       "  'f1-score': 0.5095639023989691,\n",
       "  'macro_f1-score': 0.23631331509606346,\n",
       "  'balanced_accuracy': 0.25909025254160634,\n",
       "  'mcc': 0.35964127132586643,\n",
       "  'train_loss': 1.2731681494770686,\n",
       "  'total_seconds': 6206,\n",
       "  'total_time': '1 hrs 43 mins 26 secs'},\n",
       " 'microsoft/deberta-base bilstm ros': {'val_loss': 2.5057030936566793,\n",
       "  'val_accuracy': 0.5059424475823706,\n",
       "  'precision': 0.4009946494457052,\n",
       "  'recall': 0.5059424475823706,\n",
       "  'f1-score': 0.43238310953405323,\n",
       "  'macro_f1-score': 0.1553201814817397,\n",
       "  'balanced_accuracy': 0.17062950113811265,\n",
       "  'mcc': 0.24817745113797413,\n",
       "  'train_loss': 2.2213317321332475,\n",
       "  'total_seconds': 4142,\n",
       "  'total_time': '1 hrs 9 mins 2 secs'}}"
      ]
     },
     "execution_count": 5,
     "metadata": {},
     "output_type": "execute_result"
    }
   ],
   "source": [
    "all_experiment_result"
   ]
  }
 ],
 "metadata": {
  "kernelspec": {
   "display_name": "Python 3 (ipykernel)",
   "language": "python",
   "name": "python3"
  },
  "language_info": {
   "codemirror_mode": {
    "name": "ipython",
    "version": 3
   },
   "file_extension": ".py",
   "mimetype": "text/x-python",
   "name": "python",
   "nbconvert_exporter": "python",
   "pygments_lexer": "ipython3",
   "version": "3.11.9"
  }
 },
 "nbformat": 4,
 "nbformat_minor": 5
}
