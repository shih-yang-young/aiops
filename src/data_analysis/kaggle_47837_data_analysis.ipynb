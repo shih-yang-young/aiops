{
 "cells": [
  {
   "cell_type": "code",
   "execution_count": 3,
   "id": "31d5c9d1-74f1-4626-b4f8-1a9a0391f902",
   "metadata": {},
   "outputs": [
    {
     "data": {
      "text/html": [
       "<div>\n",
       "<style scoped>\n",
       "    .dataframe tbody tr th:only-of-type {\n",
       "        vertical-align: middle;\n",
       "    }\n",
       "\n",
       "    .dataframe tbody tr th {\n",
       "        vertical-align: top;\n",
       "    }\n",
       "\n",
       "    .dataframe thead th {\n",
       "        text-align: right;\n",
       "    }\n",
       "</style>\n",
       "<table border=\"1\" class=\"dataframe\">\n",
       "  <thead>\n",
       "    <tr style=\"text-align: right;\">\n",
       "      <th></th>\n",
       "      <th>Document</th>\n",
       "      <th>Topic_group</th>\n",
       "    </tr>\n",
       "  </thead>\n",
       "  <tbody>\n",
       "    <tr>\n",
       "      <th>0</th>\n",
       "      <td>connection with icon icon dear please setup ic...</td>\n",
       "      <td>Hardware</td>\n",
       "    </tr>\n",
       "    <tr>\n",
       "      <th>1</th>\n",
       "      <td>work experience user work experience user hi w...</td>\n",
       "      <td>Access</td>\n",
       "    </tr>\n",
       "    <tr>\n",
       "      <th>2</th>\n",
       "      <td>requesting for meeting requesting meeting hi p...</td>\n",
       "      <td>Hardware</td>\n",
       "    </tr>\n",
       "    <tr>\n",
       "      <th>3</th>\n",
       "      <td>reset passwords for external accounts re expir...</td>\n",
       "      <td>Access</td>\n",
       "    </tr>\n",
       "    <tr>\n",
       "      <th>4</th>\n",
       "      <td>mail verification warning hi has got attached ...</td>\n",
       "      <td>Miscellaneous</td>\n",
       "    </tr>\n",
       "    <tr>\n",
       "      <th>...</th>\n",
       "      <td>...</td>\n",
       "      <td>...</td>\n",
       "    </tr>\n",
       "    <tr>\n",
       "      <th>47832</th>\n",
       "      <td>git space for a project issues with adding use...</td>\n",
       "      <td>Access</td>\n",
       "    </tr>\n",
       "    <tr>\n",
       "      <th>47833</th>\n",
       "      <td>error sent july error hi guys can you help out...</td>\n",
       "      <td>Miscellaneous</td>\n",
       "    </tr>\n",
       "    <tr>\n",
       "      <th>47834</th>\n",
       "      <td>connection issues sent tuesday july connection...</td>\n",
       "      <td>Hardware</td>\n",
       "    </tr>\n",
       "    <tr>\n",
       "      <th>47835</th>\n",
       "      <td>error cube reports sent tuesday july error hel...</td>\n",
       "      <td>HR Support</td>\n",
       "    </tr>\n",
       "    <tr>\n",
       "      <th>47836</th>\n",
       "      <td>running out on extensions hello please be advi...</td>\n",
       "      <td>Hardware</td>\n",
       "    </tr>\n",
       "  </tbody>\n",
       "</table>\n",
       "<p>47837 rows × 2 columns</p>\n",
       "</div>"
      ],
      "text/plain": [
       "                                                Document    Topic_group\n",
       "0      connection with icon icon dear please setup ic...       Hardware\n",
       "1      work experience user work experience user hi w...         Access\n",
       "2      requesting for meeting requesting meeting hi p...       Hardware\n",
       "3      reset passwords for external accounts re expir...         Access\n",
       "4      mail verification warning hi has got attached ...  Miscellaneous\n",
       "...                                                  ...            ...\n",
       "47832  git space for a project issues with adding use...         Access\n",
       "47833  error sent july error hi guys can you help out...  Miscellaneous\n",
       "47834  connection issues sent tuesday july connection...       Hardware\n",
       "47835  error cube reports sent tuesday july error hel...     HR Support\n",
       "47836  running out on extensions hello please be advi...       Hardware\n",
       "\n",
       "[47837 rows x 2 columns]"
      ]
     },
     "execution_count": 3,
     "metadata": {},
     "output_type": "execute_result"
    }
   ],
   "source": [
    "import pandas as pd\n",
    "kaggle_47837 = pd.read_csv(\"../../data/kaggle_47837.csv\") ## 舊名 IT-Service-Ticket-Classification-Dataset\n",
    "kaggle_47837 "
   ]
  },
  {
   "cell_type": "code",
   "execution_count": 5,
   "id": "8ab37eb1-8c9b-4d7f-a19d-b6c088cc230b",
   "metadata": {},
   "outputs": [
    {
     "data": {
      "text/plain": [
       "count        8.000000\n",
       "mean      5979.625000\n",
       "std       4479.996873\n",
       "min       1760.000000\n",
       "25%       2377.750000\n",
       "50%       4918.500000\n",
       "75%       8072.500000\n",
       "max      13617.000000\n",
       "Name: count, dtype: float64"
      ]
     },
     "execution_count": 5,
     "metadata": {},
     "output_type": "execute_result"
    }
   ],
   "source": [
    "targetClassCnt=kaggle_47837['Topic_group'].value_counts()\n",
    "targetClassCnt.describe()"
   ]
  },
  {
   "cell_type": "code",
   "execution_count": 7,
   "id": "74a35073-03bc-4581-a4bf-73dd69193555",
   "metadata": {},
   "outputs": [
    {
     "data": {
      "text/html": [
       "<div>\n",
       "<style scoped>\n",
       "    .dataframe tbody tr th:only-of-type {\n",
       "        vertical-align: middle;\n",
       "    }\n",
       "\n",
       "    .dataframe tbody tr th {\n",
       "        vertical-align: top;\n",
       "    }\n",
       "\n",
       "    .dataframe thead th {\n",
       "        text-align: right;\n",
       "    }\n",
       "</style>\n",
       "<table border=\"1\" class=\"dataframe\">\n",
       "  <thead>\n",
       "    <tr style=\"text-align: right;\">\n",
       "      <th></th>\n",
       "      <th>Topic_group</th>\n",
       "      <th>Count</th>\n",
       "    </tr>\n",
       "  </thead>\n",
       "  <tbody>\n",
       "    <tr>\n",
       "      <th>0</th>\n",
       "      <td>Hardware</td>\n",
       "      <td>13617</td>\n",
       "    </tr>\n",
       "    <tr>\n",
       "      <th>1</th>\n",
       "      <td>HR Support</td>\n",
       "      <td>10915</td>\n",
       "    </tr>\n",
       "    <tr>\n",
       "      <th>2</th>\n",
       "      <td>Access</td>\n",
       "      <td>7125</td>\n",
       "    </tr>\n",
       "    <tr>\n",
       "      <th>3</th>\n",
       "      <td>Miscellaneous</td>\n",
       "      <td>7060</td>\n",
       "    </tr>\n",
       "    <tr>\n",
       "      <th>4</th>\n",
       "      <td>Storage</td>\n",
       "      <td>2777</td>\n",
       "    </tr>\n",
       "    <tr>\n",
       "      <th>5</th>\n",
       "      <td>Purchase</td>\n",
       "      <td>2464</td>\n",
       "    </tr>\n",
       "    <tr>\n",
       "      <th>6</th>\n",
       "      <td>Internal Project</td>\n",
       "      <td>2119</td>\n",
       "    </tr>\n",
       "    <tr>\n",
       "      <th>7</th>\n",
       "      <td>Administrative rights</td>\n",
       "      <td>1760</td>\n",
       "    </tr>\n",
       "  </tbody>\n",
       "</table>\n",
       "</div>"
      ],
      "text/plain": [
       "             Topic_group  Count\n",
       "0               Hardware  13617\n",
       "1             HR Support  10915\n",
       "2                 Access   7125\n",
       "3          Miscellaneous   7060\n",
       "4                Storage   2777\n",
       "5               Purchase   2464\n",
       "6       Internal Project   2119\n",
       "7  Administrative rights   1760"
      ]
     },
     "execution_count": 7,
     "metadata": {},
     "output_type": "execute_result"
    }
   ],
   "source": [
    "# Count occurrences of each label in the Assignment group column\n",
    "kaggle_47837_counts = kaggle_47837[\"Topic_group\"].value_counts()\n",
    "\n",
    "\n",
    "# 將結果轉換為 DataFrame\n",
    "kaggle_47837_counts_df = kaggle_47837_counts.reset_index()\n",
    "kaggle_47837_counts_df.columns = [\"Topic_group\", \"Count\"]\n",
    "\n",
    "kaggle_47837_counts_df"
   ]
  },
  {
   "cell_type": "code",
   "execution_count": null,
   "id": "22dc9b9a-d425-4f69-a4a3-da61e4002a84",
   "metadata": {},
   "outputs": [],
   "source": [
    "targetClassCnt=kaggle_47837_counts['Label'].value_counts()\n",
    "targetClassCnt.describe()"
   ]
  },
  {
   "cell_type": "code",
   "execution_count": 8,
   "id": "78e48f6b-7ede-44ba-9434-6317042636b1",
   "metadata": {},
   "outputs": [
    {
     "data": {
      "image/png": "[encoded data removed]",
      "text/plain": [
       "<Figure size 1000x800 with 1 Axes>"
      ]
     },
     "metadata": {},
     "output_type": "display_data"
    }
   ],
   "source": [
    "import matplotlib.pyplot as plt\n",
    "plt.figure(figsize=(10, 8))\n",
    "plt.pie(\n",
    "    kaggle_47837_counts_df[\"Count\"],\n",
    "    labels=kaggle_47837_counts_df[\"Topic_group\"],\n",
    "    autopct='%1.1f%%',\n",
    "    startangle=140\n",
    ")\n",
    "plt.title(\"Topic Group Distribution\")\n",
    "plt.axis('equal')  # 保證圓餅圖為圓形\n",
    "plt.show()"
   ]
  },
  {
   "cell_type": "code",
   "execution_count": null,
   "id": "169ece35-566b-4a67-a8ec-df487acfcd33",
   "metadata": {},
   "outputs": [],
   "source": []
  },
  {
   "cell_type": "markdown",
   "id": "9f6cbe83-60a0-4999-a502-ee9869b54d60",
   "metadata": {},
   "source": [
    "# 前處理後"
   ]
  },
  {
   "cell_type": "code",
   "execution_count": 1,
   "id": "c349222b-d242-44f2-86e9-cc65ffc4bd44",
   "metadata": {},
   "outputs": [
    {
     "data": {
      "text/html": [
       "<div>\n",
       "<style scoped>\n",
       "    .dataframe tbody tr th:only-of-type {\n",
       "        vertical-align: middle;\n",
       "    }\n",
       "\n",
       "    .dataframe tbody tr th {\n",
       "        vertical-align: top;\n",
       "    }\n",
       "\n",
       "    .dataframe thead th {\n",
       "        text-align: right;\n",
       "    }\n",
       "</style>\n",
       "<table border=\"1\" class=\"dataframe\">\n",
       "  <thead>\n",
       "    <tr style=\"text-align: right;\">\n",
       "      <th></th>\n",
       "      <th>Inbound Message</th>\n",
       "      <th>Label</th>\n",
       "    </tr>\n",
       "  </thead>\n",
       "  <tbody>\n",
       "    <tr>\n",
       "      <th>0</th>\n",
       "      <td>connection icon icon dear please setup icon pe...</td>\n",
       "      <td>3</td>\n",
       "    </tr>\n",
       "    <tr>\n",
       "      <th>1</th>\n",
       "      <td>work experience user work experience user work...</td>\n",
       "      <td>0</td>\n",
       "    </tr>\n",
       "    <tr>\n",
       "      <th>2</th>\n",
       "      <td>requesting meeting requesting meeting please h...</td>\n",
       "      <td>3</td>\n",
       "    </tr>\n",
       "    <tr>\n",
       "      <th>3</th>\n",
       "      <td>reset passwords external accounts expire days ...</td>\n",
       "      <td>0</td>\n",
       "    </tr>\n",
       "    <tr>\n",
       "      <th>4</th>\n",
       "      <td>mail verification warning got attached please ...</td>\n",
       "      <td>5</td>\n",
       "    </tr>\n",
       "    <tr>\n",
       "      <th>...</th>\n",
       "      <td>...</td>\n",
       "      <td>...</td>\n",
       "    </tr>\n",
       "    <tr>\n",
       "      <th>46767</th>\n",
       "      <td>git space project issues adding users sent git...</td>\n",
       "      <td>0</td>\n",
       "    </tr>\n",
       "    <tr>\n",
       "      <th>46768</th>\n",
       "      <td>error sent error guys help error appearing wan...</td>\n",
       "      <td>5</td>\n",
       "    </tr>\n",
       "    <tr>\n",
       "      <th>46769</th>\n",
       "      <td>connection issues sent connection issues hello...</td>\n",
       "      <td>3</td>\n",
       "    </tr>\n",
       "    <tr>\n",
       "      <th>46770</th>\n",
       "      <td>error cube reports sent error hello guys recei...</td>\n",
       "      <td>2</td>\n",
       "    </tr>\n",
       "    <tr>\n",
       "      <th>46771</th>\n",
       "      <td>running extensions hello please advised runnin...</td>\n",
       "      <td>3</td>\n",
       "    </tr>\n",
       "  </tbody>\n",
       "</table>\n",
       "<p>46772 rows × 2 columns</p>\n",
       "</div>"
      ],
      "text/plain": [
       "                                         Inbound Message  Label\n",
       "0      connection icon icon dear please setup icon pe...      3\n",
       "1      work experience user work experience user work...      0\n",
       "2      requesting meeting requesting meeting please h...      3\n",
       "3      reset passwords external accounts expire days ...      0\n",
       "4      mail verification warning got attached please ...      5\n",
       "...                                                  ...    ...\n",
       "46767  git space project issues adding users sent git...      0\n",
       "46768  error sent error guys help error appearing wan...      5\n",
       "46769  connection issues sent connection issues hello...      3\n",
       "46770  error cube reports sent error hello guys recei...      2\n",
       "46771  running extensions hello please advised runnin...      3\n",
       "\n",
       "[46772 rows x 2 columns]"
      ]
     },
     "execution_count": 1,
     "metadata": {},
     "output_type": "execute_result"
    }
   ],
   "source": [
    "import pandas as pd\n",
    "data_46772_8_label = pd.read_csv(\"../../data/46772_8_label.csv\")\n",
    "data_46772_8_label"
   ]
  },
  {
   "cell_type": "code",
   "execution_count": 2,
   "id": "61c9367d-7b9f-4a5d-b9ea-72d088d3d53a",
   "metadata": {},
   "outputs": [
    {
     "name": "stdout",
     "output_type": "stream",
     "text": [
      "   Label  Count  Percentage\n",
      "0      3  13463        28.8\n",
      "1      2  10552        22.6\n",
      "2      0   7032        15.0\n",
      "3      5   6973        14.9\n",
      "4      7   2733         5.8\n",
      "5      6   2172         4.6\n",
      "6      4   2098         4.5\n",
      "7      1   1749         3.7\n"
     ]
    }
   ],
   "source": [
    "# 計算每個 label 的出現次數與比例\n",
    "label_counts = data_46772_8_label[\"Label\"].value_counts()\n",
    "label_percentages = data_46772_8_label[\"Label\"].value_counts(normalize=True) * 100\n",
    "\n",
    "# 合併成一個 DataFrame\n",
    "label_stats = pd.DataFrame({\n",
    "    \"Label\": label_counts.index,\n",
    "    \"Count\": label_counts.values,\n",
    "    \"Percentage\": label_percentages.values\n",
    "})\n",
    "\n",
    "# 小數點後一位\n",
    "label_stats[\"Percentage\"] = label_stats[\"Percentage\"].round(1)\n",
    "\n",
    "# 顯示結果\n",
    "print(label_stats)"
   ]
  }
 ],
 "metadata": {
  "kernelspec": {
   "display_name": "Python 3 (ipykernel)",
   "language": "python",
   "name": "python3"
  },
  "language_info": {
   "codemirror_mode": {
    "name": "ipython",
    "version": 3
   },
   "file_extension": ".py",
   "mimetype": "text/x-python",
   "name": "python",
   "nbconvert_exporter": "python",
   "pygments_lexer": "ipython3",
   "version": "3.11.9"
  }
 },
 "nbformat": 4,
 "nbformat_minor": 5
}
