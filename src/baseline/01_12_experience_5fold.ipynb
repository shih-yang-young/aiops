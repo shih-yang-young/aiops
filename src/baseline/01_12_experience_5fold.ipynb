{
 "cells": [
  {
   "cell_type": "code",
   "execution_count": 1,
   "id": "f22f4841-9a9d-4a63-b896-560594d666d8",
   "metadata": {},
   "outputs": [
    {
     "data": {
      "text/html": [
       "<div>\n",
       "<style scoped>\n",
       "    .dataframe tbody tr th:only-of-type {\n",
       "        vertical-align: middle;\n",
       "    }\n",
       "\n",
       "    .dataframe tbody tr th {\n",
       "        vertical-align: top;\n",
       "    }\n",
       "\n",
       "    .dataframe thead th {\n",
       "        text-align: right;\n",
       "    }\n",
       "</style>\n",
       "<table border=\"1\" class=\"dataframe\">\n",
       "  <thead>\n",
       "    <tr style=\"text-align: right;\">\n",
       "      <th></th>\n",
       "      <th>Inbound Message</th>\n",
       "      <th>Label</th>\n",
       "    </tr>\n",
       "  </thead>\n",
       "  <tbody>\n",
       "    <tr>\n",
       "      <th>0</th>\n",
       "      <td>login issue verified user details employee man...</td>\n",
       "      <td>0</td>\n",
       "    </tr>\n",
       "    <tr>\n",
       "      <th>1</th>\n",
       "      <td>outlook hello team meetings skype meetings etc...</td>\n",
       "      <td>0</td>\n",
       "    </tr>\n",
       "    <tr>\n",
       "      <th>2</th>\n",
       "      <td>cant log vpn cannot log vpn best</td>\n",
       "      <td>0</td>\n",
       "    </tr>\n",
       "    <tr>\n",
       "      <th>3</th>\n",
       "      <td>unable access tool page unable access tool page</td>\n",
       "      <td>0</td>\n",
       "    </tr>\n",
       "    <tr>\n",
       "      <th>4</th>\n",
       "      <td>skype error skype error</td>\n",
       "      <td>0</td>\n",
       "    </tr>\n",
       "    <tr>\n",
       "      <th>...</th>\n",
       "      <td>...</td>\n",
       "      <td>...</td>\n",
       "    </tr>\n",
       "    <tr>\n",
       "      <th>8449</th>\n",
       "      <td>emails coming mail good afternoon receiving em...</td>\n",
       "      <td>22</td>\n",
       "    </tr>\n",
       "    <tr>\n",
       "      <th>8450</th>\n",
       "      <td>telephony software issue telephony software issue</td>\n",
       "      <td>0</td>\n",
       "    </tr>\n",
       "    <tr>\n",
       "      <th>8451</th>\n",
       "      <td>vip windows password reset tifpdchb pedxruyf v...</td>\n",
       "      <td>0</td>\n",
       "    </tr>\n",
       "    <tr>\n",
       "      <th>8452</th>\n",
       "      <td>machine est funcionando unable access machine ...</td>\n",
       "      <td>44</td>\n",
       "    </tr>\n",
       "    <tr>\n",
       "      <th>8453</th>\n",
       "      <td>mehreren lassen sich verschiedene prgramdntyme...</td>\n",
       "      <td>49</td>\n",
       "    </tr>\n",
       "  </tbody>\n",
       "</table>\n",
       "<p>8454 rows × 2 columns</p>\n",
       "</div>"
      ],
      "text/plain": [
       "                                        Inbound Message  Label\n",
       "0     login issue verified user details employee man...      0\n",
       "1     outlook hello team meetings skype meetings etc...      0\n",
       "2                      cant log vpn cannot log vpn best      0\n",
       "3       unable access tool page unable access tool page      0\n",
       "4                               skype error skype error      0\n",
       "...                                                 ...    ...\n",
       "8449  emails coming mail good afternoon receiving em...     22\n",
       "8450  telephony software issue telephony software issue      0\n",
       "8451  vip windows password reset tifpdchb pedxruyf v...      0\n",
       "8452  machine est funcionando unable access machine ...     44\n",
       "8453  mehreren lassen sich verschiedene prgramdntyme...     49\n",
       "\n",
       "[8454 rows x 2 columns]"
      ]
     },
     "execution_count": 1,
     "metadata": {},
     "output_type": "execute_result"
    }
   ],
   "source": [
    "import pandas as pd\n",
    "data_path = \"../../data/open_source_8454_combine_short_description.csv\"\n",
    "df = pd.read_csv(data_path)\n",
    "# df_label_0 = df[df[\"Label\"] == 0]\n",
    "# df_label_0_to_drop = df_label_0.sample(n=3000, random_state=42)\n",
    "# df = df.drop(df_label_0_to_drop.index)\n",
    "df"
   ]
  },
  {
   "cell_type": "code",
   "execution_count": 2,
   "id": "bf737873-4f1c-4588-913d-8f06b2777b20",
   "metadata": {},
   "outputs": [
    {
     "name": "stderr",
     "output_type": "stream",
     "text": [
      "c:\\Users\\user\\AppData\\Local\\Programs\\Python\\Python310\\lib\\site-packages\\tqdm\\auto.py:21: TqdmWarning: IProgress not found. Please update jupyter and ipywidgets. See https://ipywidgets.readthedocs.io/en/stable/user_install.html\n",
      "  from .autonotebook import tqdm as notebook_tqdm\n"
     ]
    }
   ],
   "source": [
    "import sys\n",
    "import os\n",
    "sys.path.append(os.path.abspath('../ml_lib'))\n",
    "\n",
    "from config import *\n",
    "from experiment import run_kfold_experiment"
   ]
  },
  {
   "cell_type": "code",
   "execution_count": 3,
   "id": "a12b2613-aa9d-41c0-8f62-72210eaf8d7f",
   "metadata": {},
   "outputs": [],
   "source": [
    "messages, labels = df['Inbound Message'].tolist(), df['Label'].tolist()"
   ]
  },
  {
   "cell_type": "code",
   "execution_count": 4,
   "id": "38d4729f-f867-4cea-89f9-31f67e5ecced",
   "metadata": {},
   "outputs": [
    {
     "name": "stdout",
     "output_type": "stream",
     "text": [
      "▶ Running: bert-base-uncased + plain + none\n",
      "tokenizer is bert-base-uncased\n",
      "Using device: cuda\n",
      "CUDA Available: True\n",
      "CUDA Device: NVIDIA GeForce RTX 5070 Ti\n",
      "Current GPU Memory Allocated: 0.00 GB\n",
      "Current GPU Memory Cached: 0.00 GB\n",
      "\n",
      "[Fold 1]\n",
      "Label distribution after resampling:\n",
      "  label 0: 3179\n",
      "  label 1: 25\n",
      "  label 2: 112\n",
      "  label 3: 24\n",
      "  label 4: 205\n",
      "  label 5: 116\n",
      "  label 6: 95\n",
      "  label 7: 31\n",
      "  label 8: 68\n",
      "  label 9: 65\n",
      "  label 10: 70\n",
      "  label 11: 172\n",
      "  label 12: 193\n",
      "  label 13: 29\n",
      "  label 14: 23\n",
      "  label 15: 25\n",
      "  label 16: 20\n",
      "  label 17: 231\n",
      "  label 18: 93\n",
      "  label 19: 45\n",
      "  label 20: 14\n",
      "  label 21: 35\n",
      "  label 22: 78\n",
      "  label 23: 160\n",
      "  label 24: 16\n",
      "  label 25: 50\n",
      "  label 26: 86\n",
      "  label 27: 49\n",
      "  label 28: 12\n",
      "  label 29: 13\n",
      "  label 30: 15\n",
      "  label 31: 80\n",
      "  label 32: 36\n",
      "  label 33: 32\n",
      "  label 34: 30\n",
      "  label 35: 12\n",
      "  label 36: 28\n",
      "  label 37: 21\n",
      "  label 38: 6\n",
      "  label 39: 103\n",
      "  label 40: 12\n",
      "  label 41: 8\n",
      "  label 42: 147\n",
      "  label 43: 16\n",
      "  label 44: 20\n",
      "  label 45: 9\n",
      "  label 46: 54\n",
      "  label 47: 529\n",
      "  label 48: 202\n",
      "  label 49: 69\n",
      "model is bert-base-uncased\n"
     ]
    },
    {
     "name": "stderr",
     "output_type": "stream",
     "text": [
      "Some weights of BertForSequenceClassification were not initialized from the model checkpoint at bert-base-uncased and are newly initialized: ['classifier.bias', 'classifier.weight']\n",
      "You should probably TRAIN this model on a down-stream task to be able to use it for predictions and inference.\n"
     ]
    },
    {
     "name": "stdout",
     "output_type": "stream",
     "text": [
      "Epoch 1/20\n"
     ]
    },
    {
     "name": "stderr",
     "output_type": "stream",
     "text": [
      "100%|██████████| 423/423 [00:35<00:00, 11.93it/s]\n"
     ]
    },
    {
     "name": "stdout",
     "output_type": "stream",
     "text": [
      "{'val_loss': 1.6072484853695024, 'val_accuracy': 0.6014192785334121, 'precision': 0.45130381401401, 'recall': 0.6014192785334121, 'f1-score': 0.5076978913514644, 'macro_f1-score': 0.0956984571640102, 'balanced_accuracy': 0.11316203430777275, 'mcc': 0.4383046868994034, 'train_loss': 2.0119668756816402}\n",
      "Epoch 2/20\n"
     ]
    },
    {
     "name": "stderr",
     "output_type": "stream",
     "text": [
      "100%|██████████| 423/423 [00:35<00:00, 12.01it/s]\n"
     ]
    },
    {
     "name": "stdout",
     "output_type": "stream",
     "text": [
      "{'val_loss': 1.3694591198889714, 'val_accuracy': 0.6351271437019516, 'precision': 0.5309522078289565, 'recall': 0.6351271437019516, 'f1-score': 0.5592579096485292, 'macro_f1-score': 0.1513357601733504, 'balanced_accuracy': 0.16023267430119312, 'mcc': 0.49109850836982955, 'train_loss': 1.4475853681282513}\n",
      "Epoch 3/20\n"
     ]
    },
    {
     "name": "stderr",
     "output_type": "stream",
     "text": [
      "100%|██████████| 423/423 [00:35<00:00, 11.96it/s]\n"
     ]
    },
    {
     "name": "stdout",
     "output_type": "stream",
     "text": [
      "{'val_loss': 1.3767752877946169, 'val_accuracy': 0.6499112950916618, 'precision': 0.5933213861714518, 'recall': 0.6499112950916618, 'f1-score': 0.5959116707977601, 'macro_f1-score': 0.21212057296624015, 'balanced_accuracy': 0.20989622846209982, 'mcc': 0.5123219436765455, 'train_loss': 1.1265043514840147}\n",
      "Epoch 4/20\n"
     ]
    },
    {
     "name": "stderr",
     "output_type": "stream",
     "text": [
      "100%|██████████| 423/423 [00:35<00:00, 11.97it/s]\n"
     ]
    },
    {
     "name": "stdout",
     "output_type": "stream",
     "text": [
      "{'val_loss': 1.322325956427826, 'val_accuracy': 0.6664695446481372, 'precision': 0.629870701695127, 'recall': 0.6664695446481372, 'f1-score': 0.633489791332505, 'macro_f1-score': 0.2951050537027169, 'balanced_accuracy': 0.28326783528223937, 'mcc': 0.5475121572952786, 'train_loss': 0.8581869797362786}\n",
      "Epoch 5/20\n"
     ]
    },
    {
     "name": "stderr",
     "output_type": "stream",
     "text": [
      "100%|██████████| 423/423 [00:35<00:00, 11.96it/s]\n"
     ]
    },
    {
     "name": "stdout",
     "output_type": "stream",
     "text": [
      "{'val_loss': 1.3475649891034611, 'val_accuracy': 0.6741573033707865, 'precision': 0.6440324298436528, 'recall': 0.6741573033707865, 'f1-score': 0.642544919479634, 'macro_f1-score': 0.31098244167864075, 'balanced_accuracy': 0.2914965201480601, 'mcc': 0.5570325370510272, 'train_loss': 0.6588145363943797}\n",
      "Epoch 6/20\n"
     ]
    },
    {
     "name": "stderr",
     "output_type": "stream",
     "text": [
      "100%|██████████| 423/423 [00:35<00:00, 11.95it/s]\n"
     ]
    },
    {
     "name": "stdout",
     "output_type": "stream",
     "text": [
      "{'val_loss': 1.4506702243157152, 'val_accuracy': 0.6641040804257835, 'precision': 0.6648081529357625, 'recall': 0.6641040804257835, 'f1-score': 0.6535586957499379, 'macro_f1-score': 0.3582549813788758, 'balanced_accuracy': 0.36070469386760723, 'mcc': 0.5565877938909536, 'train_loss': 0.5034194070114876}\n",
      "Epoch 7/20\n"
     ]
    },
    {
     "name": "stderr",
     "output_type": "stream",
     "text": [
      "100%|██████████| 423/423 [00:35<00:00, 11.96it/s]\n"
     ]
    },
    {
     "name": "stdout",
     "output_type": "stream",
     "text": [
      "{'val_loss': 1.5317505893279921, 'val_accuracy': 0.6611472501478415, 'precision': 0.660936304668449, 'recall': 0.6611472501478415, 'f1-score': 0.6498415500558211, 'macro_f1-score': 0.38992182949091403, 'balanced_accuracy': 0.3737354519258742, 'mcc': 0.5494780742525824, 'train_loss': 0.3957599982614882}\n",
      "Epoch 8/20\n"
     ]
    },
    {
     "name": "stderr",
     "output_type": "stream",
     "text": [
      "100%|██████████| 423/423 [00:35<00:00, 11.97it/s]\n"
     ]
    },
    {
     "name": "stdout",
     "output_type": "stream",
     "text": [
      "{'val_loss': 1.49598491332441, 'val_accuracy': 0.6706091070372561, 'precision': 0.658096259549438, 'recall': 0.6706091070372561, 'f1-score': 0.6485813709060494, 'macro_f1-score': 0.3923879019379277, 'balanced_accuracy': 0.36356000476949774, 'mcc': 0.5529021094418347, 'train_loss': 0.3414389057366737}\n",
      "Epoch 9/20\n"
     ]
    },
    {
     "name": "stderr",
     "output_type": "stream",
     "text": [
      "100%|██████████| 423/423 [00:35<00:00, 11.94it/s]\n"
     ]
    },
    {
     "name": "stdout",
     "output_type": "stream",
     "text": [
      "{'val_loss': 1.5449183310540218, 'val_accuracy': 0.6806623299822591, 'precision': 0.6690796419489992, 'recall': 0.6806623299822591, 'f1-score': 0.6567216639882868, 'macro_f1-score': 0.3943354273554305, 'balanced_accuracy': 0.37165765611146356, 'mcc': 0.5699509348797777, 'train_loss': 0.27802209364113795}\n",
      "Epoch 10/20\n"
     ]
    },
    {
     "name": "stderr",
     "output_type": "stream",
     "text": [
      "100%|██████████| 423/423 [00:35<00:00, 11.97it/s]\n"
     ]
    },
    {
     "name": "stdout",
     "output_type": "stream",
     "text": [
      "{'val_loss': 1.6315961710686953, 'val_accuracy': 0.6534594914251922, 'precision': 0.6858270234542485, 'recall': 0.6534594914251922, 'f1-score': 0.6552994548100419, 'macro_f1-score': 0.413024307272418, 'balanced_accuracy': 0.4176697099072983, 'mcc': 0.558204900955058, 'train_loss': 0.25748228032062664}\n",
      "Epoch 11/20\n"
     ]
    },
    {
     "name": "stderr",
     "output_type": "stream",
     "text": [
      "100%|██████████| 423/423 [00:35<00:00, 11.97it/s]\n"
     ]
    },
    {
     "name": "stdout",
     "output_type": "stream",
     "text": [
      "{'val_loss': 1.6837614814065538, 'val_accuracy': 0.6658781785925488, 'precision': 0.6717195208276474, 'recall': 0.6658781785925488, 'f1-score': 0.6520682698971402, 'macro_f1-score': 0.41167658667239876, 'balanced_accuracy': 0.4046824598274494, 'mcc': 0.5602659324691095, 'train_loss': 0.24372075731485165}\n",
      "Epoch 12/20\n"
     ]
    },
    {
     "name": "stderr",
     "output_type": "stream",
     "text": [
      "100%|██████████| 423/423 [00:35<00:00, 11.93it/s]\n"
     ]
    },
    {
     "name": "stdout",
     "output_type": "stream",
     "text": [
      "{'val_loss': 1.7100159514625117, 'val_accuracy': 0.6670609107037256, 'precision': 0.6787706323278677, 'recall': 0.6670609107037256, 'f1-score': 0.6619395816172445, 'macro_f1-score': 0.4048735763026137, 'balanced_accuracy': 0.38629314481032856, 'mcc': 0.5614289363909514, 'train_loss': 0.2284018725330719}\n",
      "Epoch 13/20\n"
     ]
    },
    {
     "name": "stderr",
     "output_type": "stream",
     "text": [
      "100%|██████████| 423/423 [00:35<00:00, 11.96it/s]\n"
     ]
    },
    {
     "name": "stdout",
     "output_type": "stream",
     "text": [
      "{'val_loss': 1.764148973209678, 'val_accuracy': 0.6782968657599053, 'precision': 0.6616766769323724, 'recall': 0.6782968657599053, 'f1-score': 0.6566900549728601, 'macro_f1-score': 0.4125848804795694, 'balanced_accuracy': 0.3767007653585919, 'mcc': 0.5637726090629399, 'train_loss': 0.225112167836539}\n",
      "Early stopping.\n",
      "\n",
      "[Fold 2]\n",
      "Label distribution after resampling:\n",
      "  label 0: 3179\n",
      "  label 1: 25\n",
      "  label 2: 112\n",
      "  label 3: 24\n",
      "  label 4: 206\n",
      "  label 5: 116\n",
      "  label 6: 94\n",
      "  label 7: 31\n",
      "  label 8: 68\n",
      "  label 9: 65\n",
      "  label 10: 70\n",
      "  label 11: 172\n",
      "  label 12: 193\n",
      "  label 13: 29\n",
      "  label 14: 23\n",
      "  label 15: 25\n",
      "  label 16: 20\n",
      "  label 17: 231\n",
      "  label 18: 93\n",
      "  label 19: 45\n",
      "  label 20: 14\n",
      "  label 21: 35\n",
      "  label 22: 78\n",
      "  label 23: 160\n",
      "  label 24: 16\n",
      "  label 25: 50\n",
      "  label 26: 86\n",
      "  label 27: 49\n",
      "  label 28: 12\n",
      "  label 29: 13\n",
      "  label 30: 15\n",
      "  label 31: 80\n",
      "  label 32: 36\n",
      "  label 33: 32\n",
      "  label 34: 30\n",
      "  label 35: 12\n",
      "  label 36: 28\n",
      "  label 37: 22\n",
      "  label 38: 5\n",
      "  label 39: 103\n",
      "  label 40: 11\n",
      "  label 41: 9\n",
      "  label 42: 147\n",
      "  label 43: 16\n",
      "  label 44: 20\n",
      "  label 45: 9\n",
      "  label 46: 55\n",
      "  label 47: 528\n",
      "  label 48: 202\n",
      "  label 49: 69\n",
      "model is bert-base-uncased\n"
     ]
    },
    {
     "name": "stderr",
     "output_type": "stream",
     "text": [
      "Some weights of BertForSequenceClassification were not initialized from the model checkpoint at bert-base-uncased and are newly initialized: ['classifier.bias', 'classifier.weight']\n",
      "You should probably TRAIN this model on a down-stream task to be able to use it for predictions and inference.\n"
     ]
    },
    {
     "name": "stdout",
     "output_type": "stream",
     "text": [
      "Epoch 1/20\n"
     ]
    },
    {
     "name": "stderr",
     "output_type": "stream",
     "text": [
      "100%|██████████| 423/423 [00:35<00:00, 11.95it/s]\n"
     ]
    },
    {
     "name": "stdout",
     "output_type": "stream",
     "text": [
      "{'val_loss': 1.6656224738876775, 'val_accuracy': 0.5996451803666469, 'precision': 0.43150017774883953, 'recall': 0.5996451803666469, 'f1-score': 0.48986438813716443, 'macro_f1-score': 0.08562032074040651, 'balanced_accuracy': 0.10536247038039712, 'mcc': 0.42660535622060997, 'train_loss': 1.9993248211294765}\n",
      "Epoch 2/20\n"
     ]
    },
    {
     "name": "stderr",
     "output_type": "stream",
     "text": [
      "100%|██████████| 423/423 [00:35<00:00, 11.94it/s]\n"
     ]
    },
    {
     "name": "stdout",
     "output_type": "stream",
     "text": [
      "{'val_loss': 1.471213106276854, 'val_accuracy': 0.622708456534595, 'precision': 0.5294109017296788, 'recall': 0.622708456534595, 'f1-score': 0.5354969273693202, 'macro_f1-score': 0.14242514489111513, 'balanced_accuracy': 0.14540816795761483, 'mcc': 0.4656471708671549, 'train_loss': 1.4548591633215018}\n",
      "Epoch 3/20\n"
     ]
    },
    {
     "name": "stderr",
     "output_type": "stream",
     "text": [
      "100%|██████████| 423/423 [00:35<00:00, 11.95it/s]\n"
     ]
    },
    {
     "name": "stdout",
     "output_type": "stream",
     "text": [
      "{'val_loss': 1.364798050725235, 'val_accuracy': 0.657599053814311, 'precision': 0.6003818293500096, 'recall': 0.657599053814311, 'f1-score': 0.6130016428994838, 'macro_f1-score': 0.23912211317152102, 'balanced_accuracy': 0.22658812083603447, 'mcc': 0.5285490807929958, 'train_loss': 1.107603563202752}\n",
      "Epoch 4/20\n"
     ]
    },
    {
     "name": "stderr",
     "output_type": "stream",
     "text": [
      "100%|██████████| 423/423 [00:35<00:00, 11.96it/s]\n"
     ]
    },
    {
     "name": "stdout",
     "output_type": "stream",
     "text": [
      "{'val_loss': 1.3971485818894405, 'val_accuracy': 0.6581904198698995, 'precision': 0.6120907003744946, 'recall': 0.6581904198698995, 'f1-score': 0.618567505273436, 'macro_f1-score': 0.26290363113981224, 'balanced_accuracy': 0.2539745663305272, 'mcc': 0.5337886026469276, 'train_loss': 0.8286582500306146}\n",
      "Epoch 5/20\n"
     ]
    },
    {
     "name": "stderr",
     "output_type": "stream",
     "text": [
      "100%|██████████| 423/423 [00:35<00:00, 11.94it/s]\n"
     ]
    },
    {
     "name": "stdout",
     "output_type": "stream",
     "text": [
      "{'val_loss': 1.5115917126806278, 'val_accuracy': 0.6398580721466588, 'precision': 0.6450855451117862, 'recall': 0.6398580721466588, 'f1-score': 0.6297662634173243, 'macro_f1-score': 0.32178555271440035, 'balanced_accuracy': 0.3237212151421046, 'mcc': 0.5339635531542248, 'train_loss': 0.6141743019276055}\n",
      "Epoch 6/20\n"
     ]
    },
    {
     "name": "stderr",
     "output_type": "stream",
     "text": [
      "100%|██████████| 423/423 [00:35<00:00, 11.96it/s]\n"
     ]
    },
    {
     "name": "stdout",
     "output_type": "stream",
     "text": [
      "{'val_loss': 1.5284686614319962, 'val_accuracy': 0.6422235363690124, 'precision': 0.6421416651459385, 'recall': 0.6422235363690124, 'f1-score': 0.6279132102958624, 'macro_f1-score': 0.3372333708597921, 'balanced_accuracy': 0.3345112560472866, 'mcc': 0.5299590541340033, 'train_loss': 0.4780819263423729}\n",
      "Epoch 7/20\n"
     ]
    },
    {
     "name": "stderr",
     "output_type": "stream",
     "text": [
      "100%|██████████| 423/423 [00:35<00:00, 11.98it/s]\n"
     ]
    },
    {
     "name": "stdout",
     "output_type": "stream",
     "text": [
      "{'val_loss': 1.5477867730945911, 'val_accuracy': 0.6706091070372561, 'precision': 0.6452069900175632, 'recall': 0.6706091070372561, 'f1-score': 0.6411185084326204, 'macro_f1-score': 0.35201376359348735, 'balanced_accuracy': 0.3285466428992786, 'mcc': 0.5530162390000717, 'train_loss': 0.4017274038729656}\n",
      "Epoch 8/20\n"
     ]
    },
    {
     "name": "stderr",
     "output_type": "stream",
     "text": [
      "100%|██████████| 423/423 [00:35<00:00, 11.96it/s]\n"
     ]
    },
    {
     "name": "stdout",
     "output_type": "stream",
     "text": [
      "{'val_loss': 1.6106798169466685, 'val_accuracy': 0.6629213483146067, 'precision': 0.6663537912535281, 'recall': 0.6629213483146067, 'f1-score': 0.6455853714181343, 'macro_f1-score': 0.3542914441185173, 'balanced_accuracy': 0.33161687906488097, 'mcc': 0.5502239271789209, 'train_loss': 0.32885055839310867}\n",
      "Epoch 9/20\n"
     ]
    },
    {
     "name": "stderr",
     "output_type": "stream",
     "text": [
      "100%|██████████| 423/423 [00:35<00:00, 11.97it/s]\n"
     ]
    },
    {
     "name": "stdout",
     "output_type": "stream",
     "text": [
      "{'val_loss': 1.563860443121982, 'val_accuracy': 0.6658781785925488, 'precision': 0.6634254077057048, 'recall': 0.6658781785925488, 'f1-score': 0.6491233667868045, 'macro_f1-score': 0.37475016169401015, 'balanced_accuracy': 0.37743412280144084, 'mcc': 0.5537818237381793, 'train_loss': 0.2810761854713056}\n",
      "Epoch 10/20\n"
     ]
    },
    {
     "name": "stderr",
     "output_type": "stream",
     "text": [
      "100%|██████████| 423/423 [00:35<00:00, 11.95it/s]\n"
     ]
    },
    {
     "name": "stdout",
     "output_type": "stream",
     "text": [
      "{'val_loss': 1.7244128824545528, 'val_accuracy': 0.6463630987581312, 'precision': 0.6692145601900682, 'recall': 0.6463630987581312, 'f1-score': 0.6471106625009713, 'macro_f1-score': 0.38531004263425345, 'balanced_accuracy': 0.3874362535822988, 'mcc': 0.5423245632599223, 'train_loss': 0.2433867458073559}\n",
      "Epoch 11/20\n"
     ]
    },
    {
     "name": "stderr",
     "output_type": "stream",
     "text": [
      "100%|██████████| 423/423 [00:35<00:00, 11.97it/s]\n"
     ]
    },
    {
     "name": "stdout",
     "output_type": "stream",
     "text": [
      "{'val_loss': 1.771487868619415, 'val_accuracy': 0.6771141336487285, 'precision': 0.6577006209658185, 'recall': 0.6771141336487285, 'f1-score': 0.6529395199256489, 'macro_f1-score': 0.3756470988392738, 'balanced_accuracy': 0.36279288576451796, 'mcc': 0.562824699274264, 'train_loss': 0.2356506515774286}\n",
      "Epoch 12/20\n"
     ]
    },
    {
     "name": "stderr",
     "output_type": "stream",
     "text": [
      "100%|██████████| 423/423 [00:35<00:00, 11.95it/s]\n"
     ]
    },
    {
     "name": "stdout",
     "output_type": "stream",
     "text": [
      "{'val_loss': 1.816219307552531, 'val_accuracy': 0.6664695446481372, 'precision': 0.6548466201855323, 'recall': 0.6664695446481372, 'f1-score': 0.6492352098700028, 'macro_f1-score': 0.3741325393639549, 'balanced_accuracy': 0.363191176071351, 'mcc': 0.5513137592947263, 'train_loss': 0.22849898051193102}\n",
      "Epoch 13/20\n"
     ]
    },
    {
     "name": "stderr",
     "output_type": "stream",
     "text": [
      "100%|██████████| 423/423 [00:35<00:00, 11.97it/s]\n"
     ]
    },
    {
     "name": "stdout",
     "output_type": "stream",
     "text": [
      "{'val_loss': 1.7799044597261358, 'val_accuracy': 0.6599645180366647, 'precision': 0.6696720751161876, 'recall': 0.6599645180366647, 'f1-score': 0.6541073908625927, 'macro_f1-score': 0.4020660573504333, 'balanced_accuracy': 0.39663871149994856, 'mcc': 0.5526522507450703, 'train_loss': 0.23857329134558533}\n",
      "Epoch 14/20\n"
     ]
    },
    {
     "name": "stderr",
     "output_type": "stream",
     "text": [
      "100%|██████████| 423/423 [00:35<00:00, 11.97it/s]\n"
     ]
    },
    {
     "name": "stdout",
     "output_type": "stream",
     "text": [
      "{'val_loss': 1.8427520173619378, 'val_accuracy': 0.6782968657599053, 'precision': 0.6717143018520156, 'recall': 0.6782968657599053, 'f1-score': 0.6629861736025487, 'macro_f1-score': 0.42473297107620334, 'balanced_accuracy': 0.4237974866532553, 'mcc': 0.57025499657162, 'train_loss': 0.22378119114284398}\n",
      "Epoch 15/20\n"
     ]
    },
    {
     "name": "stderr",
     "output_type": "stream",
     "text": [
      "100%|██████████| 423/423 [00:35<00:00, 11.97it/s]\n"
     ]
    },
    {
     "name": "stdout",
     "output_type": "stream",
     "text": [
      "{'val_loss': 1.7382656397684566, 'val_accuracy': 0.6753400354819633, 'precision': 0.659051659636867, 'recall': 0.6753400354819633, 'f1-score': 0.6511312457907636, 'macro_f1-score': 0.3768242517307789, 'balanced_accuracy': 0.36499937214821254, 'mcc': 0.5603176292498303, 'train_loss': 0.20923547356677888}\n",
      "Epoch 16/20\n"
     ]
    },
    {
     "name": "stderr",
     "output_type": "stream",
     "text": [
      "100%|██████████| 423/423 [00:35<00:00, 11.97it/s]\n"
     ]
    },
    {
     "name": "stdout",
     "output_type": "stream",
     "text": [
      "{'val_loss': 1.7547221094510466, 'val_accuracy': 0.6842105263157895, 'precision': 0.6852384778349615, 'recall': 0.6842105263157895, 'f1-score': 0.6757492031716283, 'macro_f1-score': 0.4197191558005675, 'balanced_accuracy': 0.41649816672144463, 'mcc': 0.5815979209526696, 'train_loss': 0.19118547139730058}\n",
      "Epoch 17/20\n"
     ]
    },
    {
     "name": "stderr",
     "output_type": "stream",
     "text": [
      "100%|██████████| 423/423 [00:35<00:00, 11.96it/s]\n"
     ]
    },
    {
     "name": "stdout",
     "output_type": "stream",
     "text": [
      "{'val_loss': 1.7517315332057342, 'val_accuracy': 0.6794795978710823, 'precision': 0.6813194452226241, 'recall': 0.6794795978710823, 'f1-score': 0.6667023883588833, 'macro_f1-score': 0.4103545920715355, 'balanced_accuracy': 0.3953151458020255, 'mcc': 0.5723156235486146, 'train_loss': 0.19827095357355515}\n",
      "Early stopping.\n",
      "\n",
      "[Fold 3]\n",
      "Label distribution after resampling:\n",
      "  label 0: 3179\n",
      "  label 1: 25\n",
      "  label 2: 112\n",
      "  label 3: 24\n",
      "  label 4: 206\n",
      "  label 5: 116\n",
      "  label 6: 94\n",
      "  label 7: 31\n",
      "  label 8: 68\n",
      "  label 9: 65\n",
      "  label 10: 71\n",
      "  label 11: 172\n",
      "  label 12: 192\n",
      "  label 13: 29\n",
      "  label 14: 23\n",
      "  label 15: 25\n",
      "  label 16: 20\n",
      "  label 17: 231\n",
      "  label 18: 93\n",
      "  label 19: 45\n",
      "  label 20: 14\n",
      "  label 21: 36\n",
      "  label 22: 77\n",
      "  label 23: 160\n",
      "  label 24: 16\n",
      "  label 25: 51\n",
      "  label 26: 85\n",
      "  label 27: 49\n",
      "  label 28: 12\n",
      "  label 29: 12\n",
      "  label 30: 16\n",
      "  label 31: 80\n",
      "  label 32: 36\n",
      "  label 33: 32\n",
      "  label 34: 29\n",
      "  label 35: 12\n",
      "  label 36: 28\n",
      "  label 37: 22\n",
      "  label 38: 5\n",
      "  label 39: 103\n",
      "  label 40: 11\n",
      "  label 41: 9\n",
      "  label 42: 147\n",
      "  label 43: 16\n",
      "  label 44: 20\n",
      "  label 45: 9\n",
      "  label 46: 55\n",
      "  label 47: 529\n",
      "  label 48: 201\n",
      "  label 49: 70\n",
      "model is bert-base-uncased\n"
     ]
    },
    {
     "name": "stderr",
     "output_type": "stream",
     "text": [
      "Some weights of BertForSequenceClassification were not initialized from the model checkpoint at bert-base-uncased and are newly initialized: ['classifier.bias', 'classifier.weight']\n",
      "You should probably TRAIN this model on a down-stream task to be able to use it for predictions and inference.\n"
     ]
    },
    {
     "name": "stdout",
     "output_type": "stream",
     "text": [
      "Epoch 1/20\n"
     ]
    },
    {
     "name": "stderr",
     "output_type": "stream",
     "text": [
      "100%|██████████| 423/423 [00:35<00:00, 11.96it/s]\n"
     ]
    },
    {
     "name": "stdout",
     "output_type": "stream",
     "text": [
      "{'val_loss': 1.6705628588514507, 'val_accuracy': 0.6020106445890006, 'precision': 0.44144322183894114, 'recall': 0.6020106445890006, 'f1-score': 0.48452692246258616, 'macro_f1-score': 0.08560407657078752, 'balanced_accuracy': 0.10054388267706393, 'mcc': 0.42456438956662546, 'train_loss': 2.05796980463303}\n",
      "Epoch 2/20\n"
     ]
    },
    {
     "name": "stderr",
     "output_type": "stream",
     "text": [
      "100%|██████████| 423/423 [00:35<00:00, 11.95it/s]\n"
     ]
    },
    {
     "name": "stdout",
     "output_type": "stream",
     "text": [
      "{'val_loss': 1.486678698152866, 'val_accuracy': 0.6108811354228267, 'precision': 0.5062745530306839, 'recall': 0.6108811354228267, 'f1-score': 0.5380708145690372, 'macro_f1-score': 0.12393487163805748, 'balanced_accuracy': 0.13753692526334282, 'mcc': 0.46294035457296345, 'train_loss': 1.4941723395323923}\n",
      "Epoch 3/20\n"
     ]
    },
    {
     "name": "stderr",
     "output_type": "stream",
     "text": [
      "100%|██████████| 423/423 [00:35<00:00, 11.97it/s]\n"
     ]
    },
    {
     "name": "stdout",
     "output_type": "stream",
     "text": [
      "{'val_loss': 1.3585871787003752, 'val_accuracy': 0.6380839739798936, 'precision': 0.5799495281994631, 'recall': 0.6380839739798936, 'f1-score': 0.5931986302851747, 'macro_f1-score': 0.20015010584366139, 'balanced_accuracy': 0.2091929243438768, 'mcc': 0.5162433534939328, 'train_loss': 1.163916908856261}\n",
      "Epoch 4/20\n"
     ]
    },
    {
     "name": "stderr",
     "output_type": "stream",
     "text": [
      "100%|██████████| 423/423 [00:35<00:00, 11.95it/s]\n"
     ]
    },
    {
     "name": "stdout",
     "output_type": "stream",
     "text": [
      "{'val_loss': 1.3156527103680484, 'val_accuracy': 0.667652276759314, 'precision': 0.6522291157637163, 'recall': 0.667652276759314, 'f1-score': 0.6419991271443393, 'macro_f1-score': 0.3041783632631863, 'balanced_accuracy': 0.30857790687901265, 'mcc': 0.5591905694535398, 'train_loss': 0.8968445579774554}\n",
      "Epoch 5/20\n"
     ]
    },
    {
     "name": "stderr",
     "output_type": "stream",
     "text": [
      "100%|██████████| 423/423 [00:35<00:00, 11.97it/s]\n"
     ]
    },
    {
     "name": "stdout",
     "output_type": "stream",
     "text": [
      "{'val_loss': 1.40100182536638, 'val_accuracy': 0.6534594914251922, 'precision': 0.6352665600602964, 'recall': 0.6534594914251922, 'f1-score': 0.627504292446624, 'macro_f1-score': 0.26483146303068883, 'balanced_accuracy': 0.2657738686140206, 'mcc': 0.5385662596005563, 'train_loss': 0.6740006353204132}\n",
      "Epoch 6/20\n"
     ]
    },
    {
     "name": "stderr",
     "output_type": "stream",
     "text": [
      "100%|██████████| 423/423 [00:35<00:00, 11.97it/s]\n"
     ]
    },
    {
     "name": "stdout",
     "output_type": "stream",
     "text": [
      "{'val_loss': 1.4720169977759414, 'val_accuracy': 0.6611472501478415, 'precision': 0.6705301757886687, 'recall': 0.6611472501478415, 'f1-score': 0.6534175468630792, 'macro_f1-score': 0.34949101056525067, 'balanced_accuracy': 0.359572178020621, 'mcc': 0.5595679625781063, 'train_loss': 0.5070338198919527}\n",
      "Epoch 7/20\n"
     ]
    },
    {
     "name": "stderr",
     "output_type": "stream",
     "text": [
      "100%|██████████| 423/423 [00:35<00:00, 11.96it/s]\n"
     ]
    },
    {
     "name": "stdout",
     "output_type": "stream",
     "text": [
      "{'val_loss': 1.4666566677250952, 'val_accuracy': 0.6700177409816677, 'precision': 0.6671732900546702, 'recall': 0.6700177409816677, 'f1-score': 0.6571228138608979, 'macro_f1-score': 0.34059071994394796, 'balanced_accuracy': 0.3410982053620817, 'mcc': 0.5640764555274994, 'train_loss': 0.41450687809616116}\n",
      "Epoch 8/20\n"
     ]
    },
    {
     "name": "stderr",
     "output_type": "stream",
     "text": [
      "100%|██████████| 423/423 [00:35<00:00, 11.97it/s]\n"
     ]
    },
    {
     "name": "stdout",
     "output_type": "stream",
     "text": [
      "{'val_loss': 1.525488831805733, 'val_accuracy': 0.6599645180366647, 'precision': 0.6671749066245442, 'recall': 0.6599645180366647, 'f1-score': 0.6505017406711251, 'macro_f1-score': 0.35132480077836165, 'balanced_accuracy': 0.3479051482245666, 'mcc': 0.556128923761787, 'train_loss': 0.34758499543453364}\n",
      "Epoch 9/20\n"
     ]
    },
    {
     "name": "stderr",
     "output_type": "stream",
     "text": [
      "100%|██████████| 423/423 [00:35<00:00, 11.97it/s]\n"
     ]
    },
    {
     "name": "stdout",
     "output_type": "stream",
     "text": [
      "{'val_loss': 1.4985255393779502, 'val_accuracy': 0.6688350088704909, 'precision': 0.6785730160335838, 'recall': 0.6688350088704909, 'f1-score': 0.6625288986186443, 'macro_f1-score': 0.3677479902377517, 'balanced_accuracy': 0.36329234138058353, 'mcc': 0.5663379951750546, 'train_loss': 0.2841229320814212}\n",
      "Epoch 10/20\n"
     ]
    },
    {
     "name": "stderr",
     "output_type": "stream",
     "text": [
      "100%|██████████| 423/423 [00:35<00:00, 11.96it/s]\n"
     ]
    },
    {
     "name": "stdout",
     "output_type": "stream",
     "text": [
      "{'val_loss': 1.694952186407908, 'val_accuracy': 0.6700177409816677, 'precision': 0.6737996881123839, 'recall': 0.6700177409816677, 'f1-score': 0.656203151684925, 'macro_f1-score': 0.3740299998631916, 'balanced_accuracy': 0.3979557681333584, 'mcc': 0.56479805241545, 'train_loss': 0.24297224565785616}\n",
      "Epoch 11/20\n"
     ]
    },
    {
     "name": "stderr",
     "output_type": "stream",
     "text": [
      "100%|██████████| 423/423 [00:35<00:00, 11.95it/s]\n"
     ]
    },
    {
     "name": "stdout",
     "output_type": "stream",
     "text": [
      "{'val_loss': 1.6984914212294344, 'val_accuracy': 0.6623299822590183, 'precision': 0.6697281729444441, 'recall': 0.6623299822590183, 'f1-score': 0.6469417863448387, 'macro_f1-score': 0.367321849172158, 'balanced_accuracy': 0.3593495217405735, 'mcc': 0.550743534931468, 'train_loss': 0.24709929756811394}\n",
      "Epoch 12/20\n"
     ]
    },
    {
     "name": "stderr",
     "output_type": "stream",
     "text": [
      "100%|██████████| 423/423 [00:35<00:00, 11.98it/s]\n"
     ]
    },
    {
     "name": "stdout",
     "output_type": "stream",
     "text": [
      "{'val_loss': 1.6615647133791223, 'val_accuracy': 0.6581904198698995, 'precision': 0.6585749232966114, 'recall': 0.6581904198698995, 'f1-score': 0.6478502347532189, 'macro_f1-score': 0.34936555812552866, 'balanced_accuracy': 0.34995645885681936, 'mcc': 0.5503590623560405, 'train_loss': 0.24711984208065038}\n",
      "Epoch 13/20\n"
     ]
    },
    {
     "name": "stderr",
     "output_type": "stream",
     "text": [
      "100%|██████████| 423/423 [00:35<00:00, 11.94it/s]\n"
     ]
    },
    {
     "name": "stdout",
     "output_type": "stream",
     "text": [
      "{'val_loss': 1.786355732746844, 'val_accuracy': 0.6788882318154937, 'precision': 0.6700400779370828, 'recall': 0.6788882318154937, 'f1-score': 0.6616100296924882, 'macro_f1-score': 0.3713986304462979, 'balanced_accuracy': 0.3488686333326235, 'mcc': 0.5730306416933638, 'train_loss': 0.22091478503685683}\n",
      "Early stopping.\n",
      "\n",
      "[Fold 4]\n",
      "Label distribution after resampling:\n",
      "  label 0: 3179\n",
      "  label 1: 25\n",
      "  label 2: 112\n",
      "  label 3: 24\n",
      "  label 4: 206\n",
      "  label 5: 116\n",
      "  label 6: 94\n",
      "  label 7: 32\n",
      "  label 8: 68\n",
      "  label 9: 64\n",
      "  label 10: 71\n",
      "  label 11: 172\n",
      "  label 12: 193\n",
      "  label 13: 28\n",
      "  label 14: 24\n",
      "  label 15: 24\n",
      "  label 16: 20\n",
      "  label 17: 232\n",
      "  label 18: 92\n",
      "  label 19: 45\n",
      "  label 20: 15\n",
      "  label 21: 35\n",
      "  label 22: 77\n",
      "  label 23: 160\n",
      "  label 24: 16\n",
      "  label 25: 51\n",
      "  label 26: 85\n",
      "  label 27: 49\n",
      "  label 28: 12\n",
      "  label 29: 13\n",
      "  label 30: 15\n",
      "  label 31: 80\n",
      "  label 32: 36\n",
      "  label 33: 32\n",
      "  label 34: 29\n",
      "  label 35: 12\n",
      "  label 36: 28\n",
      "  label 37: 22\n",
      "  label 38: 6\n",
      "  label 39: 103\n",
      "  label 40: 11\n",
      "  label 41: 9\n",
      "  label 42: 148\n",
      "  label 43: 16\n",
      "  label 44: 20\n",
      "  label 45: 8\n",
      "  label 46: 54\n",
      "  label 47: 529\n",
      "  label 48: 201\n",
      "  label 49: 70\n",
      "model is bert-base-uncased\n"
     ]
    },
    {
     "name": "stderr",
     "output_type": "stream",
     "text": [
      "Some weights of BertForSequenceClassification were not initialized from the model checkpoint at bert-base-uncased and are newly initialized: ['classifier.bias', 'classifier.weight']\n",
      "You should probably TRAIN this model on a down-stream task to be able to use it for predictions and inference.\n"
     ]
    },
    {
     "name": "stdout",
     "output_type": "stream",
     "text": [
      "Epoch 1/20\n"
     ]
    },
    {
     "name": "stderr",
     "output_type": "stream",
     "text": [
      "100%|██████████| 423/423 [00:35<00:00, 11.95it/s]\n"
     ]
    },
    {
     "name": "stdout",
     "output_type": "stream",
     "text": [
      "{'val_loss': 1.5846587664113854, 'val_accuracy': 0.6120638675340035, 'precision': 0.4635079297888681, 'recall': 0.6120638675340035, 'f1-score': 0.49018087284997597, 'macro_f1-score': 0.08561759429614725, 'balanced_accuracy': 0.10627848296489667, 'mcc': 0.4439167610448073, 'train_loss': 1.967220348669282}\n",
      "Epoch 2/20\n"
     ]
    },
    {
     "name": "stderr",
     "output_type": "stream",
     "text": [
      "100%|██████████| 423/423 [00:35<00:00, 11.98it/s]\n"
     ]
    },
    {
     "name": "stdout",
     "output_type": "stream",
     "text": [
      "{'val_loss': 1.3181920962513618, 'val_accuracy': 0.6528681253696038, 'precision': 0.6107418245594521, 'recall': 0.6528681253696038, 'f1-score': 0.6058727729284574, 'macro_f1-score': 0.20079215983945914, 'balanced_accuracy': 0.20447221369190605, 'mcc': 0.5250481599862697, 'train_loss': 1.4007422354768073}\n",
      "Epoch 3/20\n"
     ]
    },
    {
     "name": "stderr",
     "output_type": "stream",
     "text": [
      "100%|██████████| 423/423 [00:35<00:00, 11.95it/s]\n"
     ]
    },
    {
     "name": "stdout",
     "output_type": "stream",
     "text": [
      "{'val_loss': 1.2768227816471514, 'val_accuracy': 0.6510940272028386, 'precision': 0.6366929108127048, 'recall': 0.6510940272028386, 'f1-score': 0.6310514564188788, 'macro_f1-score': 0.2591075694202383, 'balanced_accuracy': 0.2780297845614222, 'mcc': 0.5416895505527449, 'train_loss': 1.0559469078872221}\n",
      "Epoch 4/20\n"
     ]
    },
    {
     "name": "stderr",
     "output_type": "stream",
     "text": [
      "100%|██████████| 423/423 [00:35<00:00, 11.96it/s]\n"
     ]
    },
    {
     "name": "stdout",
     "output_type": "stream",
     "text": [
      "{'val_loss': 1.2762795097704203, 'val_accuracy': 0.6587817859254879, 'precision': 0.642891207044318, 'recall': 0.6587817859254879, 'f1-score': 0.6353935460406864, 'macro_f1-score': 0.3006599443798315, 'balanced_accuracy': 0.29263962570525864, 'mcc': 0.5478451810672169, 'train_loss': 0.7857640800957985}\n",
      "Epoch 5/20\n"
     ]
    },
    {
     "name": "stderr",
     "output_type": "stream",
     "text": [
      "100%|██████████| 423/423 [00:35<00:00, 11.98it/s]\n"
     ]
    },
    {
     "name": "stdout",
     "output_type": "stream",
     "text": [
      "{'val_loss': 1.3183476975503958, 'val_accuracy': 0.6635127143701951, 'precision': 0.6699903460208737, 'recall': 0.6635127143701951, 'f1-score': 0.6523855235821612, 'macro_f1-score': 0.3377186917145879, 'balanced_accuracy': 0.3610175657455632, 'mcc': 0.5676037652291395, 'train_loss': 0.5941537318676358}\n",
      "Epoch 6/20\n"
     ]
    },
    {
     "name": "stderr",
     "output_type": "stream",
     "text": [
      "100%|██████████| 423/423 [00:35<00:00, 11.95it/s]\n"
     ]
    },
    {
     "name": "stdout",
     "output_type": "stream",
     "text": [
      "{'val_loss': 1.3615786323569856, 'val_accuracy': 0.6706091070372561, 'precision': 0.6615009466736129, 'recall': 0.6706091070372561, 'f1-score': 0.6477266427463619, 'macro_f1-score': 0.3314127130972663, 'balanced_accuracy': 0.30825263953036414, 'mcc': 0.5633322291600732, 'train_loss': 0.4664841800813627}\n",
      "Epoch 7/20\n"
     ]
    },
    {
     "name": "stderr",
     "output_type": "stream",
     "text": [
      "100%|██████████| 423/423 [00:35<00:00, 11.95it/s]\n"
     ]
    },
    {
     "name": "stdout",
     "output_type": "stream",
     "text": [
      "{'val_loss': 1.332862221196575, 'val_accuracy': 0.6901241868716735, 'precision': 0.6881823565993861, 'recall': 0.6901241868716735, 'f1-score': 0.6742170521482627, 'macro_f1-score': 0.4065009467822685, 'balanced_accuracy': 0.39600042383728257, 'mcc': 0.5915214418949671, 'train_loss': 0.3759581773997621}\n",
      "Epoch 8/20\n"
     ]
    },
    {
     "name": "stderr",
     "output_type": "stream",
     "text": [
      "100%|██████████| 423/423 [00:35<00:00, 11.97it/s]\n"
     ]
    },
    {
     "name": "stdout",
     "output_type": "stream",
     "text": [
      "{'val_loss': 1.4644287831659586, 'val_accuracy': 0.6954464813719693, 'precision': 0.6910227315599647, 'recall': 0.6954464813719693, 'f1-score': 0.6713934482765621, 'macro_f1-score': 0.42359708712378963, 'balanced_accuracy': 0.3998396797440719, 'mcc': 0.5898221284621532, 'train_loss': 0.3076118414089894}\n",
      "Epoch 9/20\n"
     ]
    },
    {
     "name": "stderr",
     "output_type": "stream",
     "text": [
      "100%|██████████| 423/423 [00:35<00:00, 11.94it/s]\n"
     ]
    },
    {
     "name": "stdout",
     "output_type": "stream",
     "text": [
      "{'val_loss': 1.386299306069905, 'val_accuracy': 0.6942637492607925, 'precision': 0.702845634145988, 'recall': 0.6942637492607925, 'f1-score': 0.6873873043119688, 'macro_f1-score': 0.4460436517223335, 'balanced_accuracy': 0.436159055937138, 'mcc': 0.6001298348217085, 'train_loss': 0.2758315968421898}\n",
      "Epoch 10/20\n"
     ]
    },
    {
     "name": "stderr",
     "output_type": "stream",
     "text": [
      "100%|██████████| 423/423 [00:35<00:00, 11.95it/s]\n"
     ]
    },
    {
     "name": "stdout",
     "output_type": "stream",
     "text": [
      "{'val_loss': 1.5560379819065895, 'val_accuracy': 0.6883500887049083, 'precision': 0.6956321191328803, 'recall': 0.6883500887049083, 'f1-score': 0.6783656138602088, 'macro_f1-score': 0.4289510214745929, 'balanced_accuracy': 0.445820984271596, 'mcc': 0.5908091798803417, 'train_loss': 0.24504201232739692}\n",
      "Epoch 11/20\n"
     ]
    },
    {
     "name": "stderr",
     "output_type": "stream",
     "text": [
      "100%|██████████| 423/423 [00:35<00:00, 11.97it/s]\n"
     ]
    },
    {
     "name": "stdout",
     "output_type": "stream",
     "text": [
      "{'val_loss': 1.5015380471101347, 'val_accuracy': 0.6729745712596097, 'precision': 0.6819089292427534, 'recall': 0.6729745712596097, 'f1-score': 0.6635888713520706, 'macro_f1-score': 0.42263730561415386, 'balanced_accuracy': 0.41309704662169283, 'mcc': 0.5694676357606361, 'train_loss': 0.2461142853787499}\n",
      "Epoch 12/20\n"
     ]
    },
    {
     "name": "stderr",
     "output_type": "stream",
     "text": [
      "100%|██████████| 423/423 [00:35<00:00, 11.94it/s]\n"
     ]
    },
    {
     "name": "stdout",
     "output_type": "stream",
     "text": [
      "{'val_loss': 1.4982977083550308, 'val_accuracy': 0.6907155529272619, 'precision': 0.6992461634189648, 'recall': 0.6907155529272619, 'f1-score': 0.6840059902625173, 'macro_f1-score': 0.46288171130081024, 'balanced_accuracy': 0.4488339684172144, 'mcc': 0.5924529186439953, 'train_loss': 0.2186679482574511}\n",
      "Epoch 13/20\n"
     ]
    },
    {
     "name": "stderr",
     "output_type": "stream",
     "text": [
      "100%|██████████| 423/423 [00:35<00:00, 11.96it/s]\n"
     ]
    },
    {
     "name": "stdout",
     "output_type": "stream",
     "text": [
      "{'val_loss': 1.6067258110797067, 'val_accuracy': 0.6895328208160851, 'precision': 0.6944278314158504, 'recall': 0.6895328208160851, 'f1-score': 0.6777392928977127, 'macro_f1-score': 0.4503164953091591, 'balanced_accuracy': 0.4483403610509083, 'mcc': 0.592659186516725, 'train_loss': 0.21872407089628226}\n",
      "Epoch 14/20\n"
     ]
    },
    {
     "name": "stderr",
     "output_type": "stream",
     "text": [
      "100%|██████████| 423/423 [00:35<00:00, 11.97it/s]\n"
     ]
    },
    {
     "name": "stdout",
     "output_type": "stream",
     "text": [
      "{'val_loss': 1.6133139297225565, 'val_accuracy': 0.6895328208160851, 'precision': 0.7078487064817347, 'recall': 0.6895328208160851, 'f1-score': 0.6828111719835306, 'macro_f1-score': 0.42824523246223833, 'balanced_accuracy': 0.3983778298539146, 'mcc': 0.5928260446971181, 'train_loss': 0.2021775327135212}\n",
      "Epoch 15/20\n"
     ]
    },
    {
     "name": "stderr",
     "output_type": "stream",
     "text": [
      "100%|██████████| 423/423 [00:35<00:00, 11.93it/s]\n"
     ]
    },
    {
     "name": "stdout",
     "output_type": "stream",
     "text": [
      "{'val_loss': 1.5718311458685488, 'val_accuracy': 0.6806623299822591, 'precision': 0.691895512301161, 'recall': 0.6806623299822591, 'f1-score': 0.6745000284635553, 'macro_f1-score': 0.4375552385321842, 'balanced_accuracy': 0.4251317965239766, 'mcc': 0.5780503964236591, 'train_loss': 0.20504994273800006}\n",
      "Early stopping.\n",
      "\n",
      "[Fold 5]\n",
      "Label distribution after resampling:\n",
      "  label 0: 3180\n",
      "  label 1: 24\n",
      "  label 2: 112\n",
      "  label 3: 24\n",
      "  label 4: 205\n",
      "  label 5: 116\n",
      "  label 6: 95\n",
      "  label 7: 31\n",
      "  label 8: 68\n",
      "  label 9: 65\n",
      "  label 10: 70\n",
      "  label 11: 172\n",
      "  label 12: 193\n",
      "  label 13: 29\n",
      "  label 14: 23\n",
      "  label 15: 25\n",
      "  label 16: 20\n",
      "  label 17: 231\n",
      "  label 18: 93\n",
      "  label 19: 44\n",
      "  label 20: 15\n",
      "  label 21: 35\n",
      "  label 22: 78\n",
      "  label 23: 160\n",
      "  label 24: 16\n",
      "  label 25: 50\n",
      "  label 26: 86\n",
      "  label 27: 48\n",
      "  label 28: 12\n",
      "  label 29: 13\n",
      "  label 30: 15\n",
      "  label 31: 80\n",
      "  label 32: 36\n",
      "  label 33: 32\n",
      "  label 34: 30\n",
      "  label 35: 12\n",
      "  label 36: 28\n",
      "  label 37: 21\n",
      "  label 38: 6\n",
      "  label 39: 104\n",
      "  label 40: 11\n",
      "  label 41: 9\n",
      "  label 42: 147\n",
      "  label 43: 16\n",
      "  label 44: 20\n",
      "  label 45: 9\n",
      "  label 46: 54\n",
      "  label 47: 529\n",
      "  label 48: 202\n",
      "  label 49: 70\n",
      "model is bert-base-uncased\n"
     ]
    },
    {
     "name": "stderr",
     "output_type": "stream",
     "text": [
      "Some weights of BertForSequenceClassification were not initialized from the model checkpoint at bert-base-uncased and are newly initialized: ['classifier.bias', 'classifier.weight']\n",
      "You should probably TRAIN this model on a down-stream task to be able to use it for predictions and inference.\n"
     ]
    },
    {
     "name": "stdout",
     "output_type": "stream",
     "text": [
      "Epoch 1/20\n"
     ]
    },
    {
     "name": "stderr",
     "output_type": "stream",
     "text": [
      "100%|██████████| 423/423 [00:35<00:00, 11.95it/s]\n"
     ]
    },
    {
     "name": "stdout",
     "output_type": "stream",
     "text": [
      "{'val_loss': 1.65066633415672, 'val_accuracy': 0.5946745562130178, 'precision': 0.4270905560556603, 'recall': 0.5946745562130178, 'f1-score': 0.4868703513901728, 'macro_f1-score': 0.08700339997759855, 'balanced_accuracy': 0.10975934745073208, 'mcc': 0.42379871825545445, 'train_loss': 1.954025814296506}\n",
      "Epoch 2/20\n"
     ]
    },
    {
     "name": "stderr",
     "output_type": "stream",
     "text": [
      "100%|██████████| 423/423 [00:35<00:00, 11.96it/s]\n"
     ]
    },
    {
     "name": "stdout",
     "output_type": "stream",
     "text": [
      "{'val_loss': 1.4292055621462048, 'val_accuracy': 0.6355029585798817, 'precision': 0.5748811959088006, 'recall': 0.6355029585798817, 'f1-score': 0.5945821732650416, 'macro_f1-score': 0.19635257675516837, 'balanced_accuracy': 0.21195554149158904, 'mcc': 0.5179898591899488, 'train_loss': 1.4434677824624604}\n",
      "Epoch 3/20\n"
     ]
    },
    {
     "name": "stderr",
     "output_type": "stream",
     "text": [
      "100%|██████████| 423/423 [00:35<00:00, 11.94it/s]\n"
     ]
    },
    {
     "name": "stdout",
     "output_type": "stream",
     "text": [
      "{'val_loss': 1.34368391967607, 'val_accuracy': 0.6562130177514793, 'precision': 0.5895861884695099, 'recall': 0.6562130177514793, 'f1-score': 0.5963266932413489, 'macro_f1-score': 0.21078109112750018, 'balanced_accuracy': 0.20477032376480309, 'mcc': 0.5235655299739865, 'train_loss': 1.1163073333583544}\n",
      "Epoch 4/20\n"
     ]
    },
    {
     "name": "stderr",
     "output_type": "stream",
     "text": [
      "100%|██████████| 423/423 [00:35<00:00, 11.95it/s]\n"
     ]
    },
    {
     "name": "stdout",
     "output_type": "stream",
     "text": [
      "{'val_loss': 1.3302120116521727, 'val_accuracy': 0.672189349112426, 'precision': 0.6620967373282644, 'recall': 0.672189349112426, 'f1-score': 0.650348960852204, 'macro_f1-score': 0.3090055821447977, 'balanced_accuracy': 0.32048604315051543, 'mcc': 0.5716764579504546, 'train_loss': 0.8446359409296766}\n",
      "Epoch 5/20\n"
     ]
    },
    {
     "name": "stderr",
     "output_type": "stream",
     "text": [
      "100%|██████████| 423/423 [00:35<00:00, 11.97it/s]\n"
     ]
    },
    {
     "name": "stdout",
     "output_type": "stream",
     "text": [
      "{'val_loss': 1.3382929400453027, 'val_accuracy': 0.6633136094674557, 'precision': 0.6661281554262062, 'recall': 0.6633136094674557, 'f1-score': 0.6519911439119409, 'macro_f1-score': 0.29807635727448756, 'balanced_accuracy': 0.2959170962501256, 'mcc': 0.564232967892721, 'train_loss': 0.6396327111385675}\n",
      "Epoch 6/20\n"
     ]
    },
    {
     "name": "stderr",
     "output_type": "stream",
     "text": [
      "100%|██████████| 423/423 [00:35<00:00, 11.96it/s]\n"
     ]
    },
    {
     "name": "stdout",
     "output_type": "stream",
     "text": [
      "{'val_loss': 1.394742007525462, 'val_accuracy': 0.6680473372781065, 'precision': 0.6469910383086304, 'recall': 0.6680473372781065, 'f1-score': 0.6452716608114577, 'macro_f1-score': 0.30978568195266243, 'balanced_accuracy': 0.2912291934281803, 'mcc': 0.5531195159777772, 'train_loss': 0.4956756247026982}\n",
      "Epoch 7/20\n"
     ]
    },
    {
     "name": "stderr",
     "output_type": "stream",
     "text": [
      "100%|██████████| 423/423 [00:35<00:00, 11.97it/s]\n"
     ]
    },
    {
     "name": "stdout",
     "output_type": "stream",
     "text": [
      "{'val_loss': 1.4647051649835874, 'val_accuracy': 0.6751479289940828, 'precision': 0.664354532033201, 'recall': 0.6751479289940828, 'f1-score': 0.6602882827284492, 'macro_f1-score': 0.34436716311075644, 'balanced_accuracy': 0.3357432057169454, 'mcc': 0.5656916842218652, 'train_loss': 0.4092197331861894}\n",
      "Epoch 8/20\n"
     ]
    },
    {
     "name": "stderr",
     "output_type": "stream",
     "text": [
      "100%|██████████| 423/423 [00:35<00:00, 11.95it/s]\n"
     ]
    },
    {
     "name": "stdout",
     "output_type": "stream",
     "text": [
      "{'val_loss': 1.5206862189016253, 'val_accuracy': 0.693491124260355, 'precision': 0.6780107281360912, 'recall': 0.693491124260355, 'f1-score': 0.6693795290093904, 'macro_f1-score': 0.3483404651672406, 'balanced_accuracy': 0.3188752726981621, 'mcc': 0.584503539858874, 'train_loss': 0.3313127802200527}\n",
      "Epoch 9/20\n"
     ]
    },
    {
     "name": "stderr",
     "output_type": "stream",
     "text": [
      "100%|██████████| 423/423 [00:35<00:00, 11.92it/s]\n"
     ]
    },
    {
     "name": "stdout",
     "output_type": "stream",
     "text": [
      "{'val_loss': 1.551110992313556, 'val_accuracy': 0.670414201183432, 'precision': 0.684767111825985, 'recall': 0.670414201183432, 'f1-score': 0.6648906785237905, 'macro_f1-score': 0.35533109195497276, 'balanced_accuracy': 0.35387710268757233, 'mcc': 0.5712541461125289, 'train_loss': 0.29596891558462707}\n",
      "Epoch 10/20\n"
     ]
    },
    {
     "name": "stderr",
     "output_type": "stream",
     "text": [
      "100%|██████████| 423/423 [00:35<00:00, 11.95it/s]\n"
     ]
    },
    {
     "name": "stdout",
     "output_type": "stream",
     "text": [
      "{'val_loss': 1.6396792015095927, 'val_accuracy': 0.6727810650887573, 'precision': 0.6660965143111388, 'recall': 0.6727810650887573, 'f1-score': 0.6536206470576421, 'macro_f1-score': 0.34157140002485425, 'balanced_accuracy': 0.325393026829653, 'mcc': 0.5681772833790892, 'train_loss': 0.28844396428295344}\n",
      "Epoch 11/20\n"
     ]
    },
    {
     "name": "stderr",
     "output_type": "stream",
     "text": [
      "100%|██████████| 423/423 [00:35<00:00, 11.94it/s]\n"
     ]
    },
    {
     "name": "stdout",
     "output_type": "stream",
     "text": [
      "{'val_loss': 1.650056587286153, 'val_accuracy': 0.7041420118343196, 'precision': 0.690339530426508, 'recall': 0.7041420118343196, 'f1-score': 0.6843663189655669, 'macro_f1-score': 0.3825383666382248, 'balanced_accuracy': 0.36051729943798727, 'mcc': 0.6041324087614667, 'train_loss': 0.23302297248564502}\n",
      "Epoch 12/20\n"
     ]
    },
    {
     "name": "stderr",
     "output_type": "stream",
     "text": [
      "100%|██████████| 423/423 [00:35<00:00, 11.93it/s]\n"
     ]
    },
    {
     "name": "stdout",
     "output_type": "stream",
     "text": [
      "{'val_loss': 1.6032245665226343, 'val_accuracy': 0.665680473372781, 'precision': 0.6826212422764467, 'recall': 0.665680473372781, 'f1-score': 0.6661712268990811, 'macro_f1-score': 0.38476286440953056, 'balanced_accuracy': 0.3926386602365203, 'mcc': 0.5685965992992235, 'train_loss': 0.23631487751762706}\n",
      "Epoch 13/20\n"
     ]
    },
    {
     "name": "stderr",
     "output_type": "stream",
     "text": [
      "100%|██████████| 423/423 [00:35<00:00, 11.93it/s]\n"
     ]
    },
    {
     "name": "stdout",
     "output_type": "stream",
     "text": [
      "{'val_loss': 1.735334130390635, 'val_accuracy': 0.6840236686390533, 'precision': 0.6797687646252275, 'recall': 0.6840236686390533, 'f1-score': 0.6607670416888374, 'macro_f1-score': 0.360538895488589, 'balanced_accuracy': 0.3418377630908628, 'mcc': 0.5738899298385243, 'train_loss': 0.22394838874794137}\n",
      "Epoch 14/20\n"
     ]
    },
    {
     "name": "stderr",
     "output_type": "stream",
     "text": [
      "100%|██████████| 423/423 [00:35<00:00, 11.95it/s]\n"
     ]
    },
    {
     "name": "stdout",
     "output_type": "stream",
     "text": [
      "{'val_loss': 1.7182060015510838, 'val_accuracy': 0.6763313609467455, 'precision': 0.6758687736345127, 'recall': 0.6763313609467455, 'f1-score': 0.665604814194375, 'macro_f1-score': 0.3617615253091564, 'balanced_accuracy': 0.34828154995987676, 'mcc': 0.5719897360451716, 'train_loss': 0.21964879551171446}\n",
      "Epoch 15/20\n"
     ]
    },
    {
     "name": "stderr",
     "output_type": "stream",
     "text": [
      "100%|██████████| 423/423 [00:35<00:00, 11.93it/s]\n"
     ]
    },
    {
     "name": "stdout",
     "output_type": "stream",
     "text": [
      "{'val_loss': 1.791242891184564, 'val_accuracy': 0.6668639053254438, 'precision': 0.7023554454471044, 'recall': 0.6668639053254438, 'f1-score': 0.6657855871560471, 'macro_f1-score': 0.342660704344864, 'balanced_accuracy': 0.34521837186818016, 'mcc': 0.5653499072755451, 'train_loss': 0.21805734880902666}\n",
      "Early stopping.\n",
      "\n",
      " === bert-base-uncased + plain + none Final 10-fold Cross-Validation Results ===\n",
      "Total time: 2869 seconds\n",
      "Total time: 0 hrs 47 mins 49 secs\n",
      "val_loss: 1.6542\n",
      "val_accuracy: 0.6716\n",
      "precision: 0.6826\n",
      "recall: 0.6716\n",
      "f1-score: 0.6649\n",
      "macro_f1-score: 0.4119\n",
      "balanced_accuracy: 0.4162\n",
      "mcc: 0.5709\n",
      "train_loss: 0.2358\n",
      "▶ Running: bert-base-uncased + cnn + none\n",
      "tokenizer is bert-base-uncased\n",
      "Using device: cuda\n",
      "CUDA Available: True\n",
      "CUDA Device: NVIDIA GeForce RTX 5070 Ti\n",
      "Current GPU Memory Allocated: 0.02 GB\n",
      "Current GPU Memory Cached: 3.13 GB\n",
      "\n",
      "[Fold 1]\n",
      "Label distribution after resampling:\n",
      "  label 0: 3179\n",
      "  label 1: 25\n",
      "  label 2: 112\n",
      "  label 3: 24\n",
      "  label 4: 205\n",
      "  label 5: 116\n",
      "  label 6: 95\n",
      "  label 7: 31\n",
      "  label 8: 68\n",
      "  label 9: 65\n",
      "  label 10: 70\n",
      "  label 11: 172\n",
      "  label 12: 193\n",
      "  label 13: 29\n",
      "  label 14: 23\n",
      "  label 15: 25\n",
      "  label 16: 20\n",
      "  label 17: 231\n",
      "  label 18: 93\n",
      "  label 19: 45\n",
      "  label 20: 14\n",
      "  label 21: 35\n",
      "  label 22: 78\n",
      "  label 23: 160\n",
      "  label 24: 16\n",
      "  label 25: 50\n",
      "  label 26: 86\n",
      "  label 27: 49\n",
      "  label 28: 12\n",
      "  label 29: 13\n",
      "  label 30: 15\n",
      "  label 31: 80\n",
      "  label 32: 36\n",
      "  label 33: 32\n",
      "  label 34: 30\n",
      "  label 35: 12\n",
      "  label 36: 28\n",
      "  label 37: 21\n",
      "  label 38: 6\n",
      "  label 39: 103\n",
      "  label 40: 12\n",
      "  label 41: 8\n",
      "  label 42: 147\n",
      "  label 43: 16\n",
      "  label 44: 20\n",
      "  label 45: 9\n",
      "  label 46: 54\n",
      "  label 47: 529\n",
      "  label 48: 202\n",
      "  label 49: 69\n",
      "model is bert-base-uncased cnn\n",
      "Epoch 1/20\n"
     ]
    },
    {
     "name": "stderr",
     "output_type": "stream",
     "text": [
      "100%|██████████| 423/423 [00:36<00:00, 11.72it/s]\n"
     ]
    },
    {
     "name": "stdout",
     "output_type": "stream",
     "text": [
      "{'val_loss': 1.5863323523750845, 'val_accuracy': 0.6014192785334121, 'precision': 0.466274596261032, 'recall': 0.6014192785334121, 'f1-score': 0.5055882170018614, 'macro_f1-score': 0.09912838897912936, 'balanced_accuracy': 0.11826196374651156, 'mcc': 0.43858887261496854, 'train_loss': 1.9556044565588588}\n",
      "Epoch 2/20\n"
     ]
    },
    {
     "name": "stderr",
     "output_type": "stream",
     "text": [
      "100%|██████████| 423/423 [00:36<00:00, 11.75it/s]\n"
     ]
    },
    {
     "name": "stdout",
     "output_type": "stream",
     "text": [
      "{'val_loss': 1.3431002539846133, 'val_accuracy': 0.644589000591366, 'precision': 0.5384841239416998, 'recall': 0.644589000591366, 'f1-score': 0.5730809668432971, 'macro_f1-score': 0.18063945538588994, 'balanced_accuracy': 0.18682472499152158, 'mcc': 0.5035098898190534, 'train_loss': 1.4269591085876978}\n",
      "Epoch 3/20\n"
     ]
    },
    {
     "name": "stderr",
     "output_type": "stream",
     "text": [
      "100%|██████████| 423/423 [00:36<00:00, 11.71it/s]\n"
     ]
    },
    {
     "name": "stdout",
     "output_type": "stream",
     "text": [
      "{'val_loss': 1.3902408072970949, 'val_accuracy': 0.6552335895919574, 'precision': 0.613272720462898, 'recall': 0.6552335895919574, 'f1-score': 0.6034821606704781, 'macro_f1-score': 0.23301881746843564, 'balanced_accuracy': 0.2173712927864749, 'mcc': 0.5178139231214635, 'train_loss': 1.0972176453816411}\n",
      "Epoch 4/20\n"
     ]
    },
    {
     "name": "stderr",
     "output_type": "stream",
     "text": [
      "100%|██████████| 423/423 [00:36<00:00, 11.74it/s]\n"
     ]
    },
    {
     "name": "stdout",
     "output_type": "stream",
     "text": [
      "{'val_loss': 1.2746238208042, 'val_accuracy': 0.6611472501478415, 'precision': 0.6534743696767457, 'recall': 0.6611472501478415, 'f1-score': 0.6377319996871724, 'macro_f1-score': 0.3116373759986489, 'balanced_accuracy': 0.3083421209541898, 'mcc': 0.5473116897365967, 'train_loss': 0.8415465093884907}\n",
      "Epoch 5/20\n"
     ]
    },
    {
     "name": "stderr",
     "output_type": "stream",
     "text": [
      "100%|██████████| 423/423 [00:36<00:00, 11.73it/s]\n"
     ]
    },
    {
     "name": "stdout",
     "output_type": "stream",
     "text": [
      "{'val_loss': 1.2812426520406075, 'val_accuracy': 0.6694263749260793, 'precision': 0.6693903203966415, 'recall': 0.6694263749260793, 'f1-score': 0.6558545543115039, 'macro_f1-score': 0.3504692470596376, 'balanced_accuracy': 0.35710333815446965, 'mcc': 0.5638734854260193, 'train_loss': 0.6419696708079912}\n",
      "Epoch 6/20\n"
     ]
    },
    {
     "name": "stderr",
     "output_type": "stream",
     "text": [
      "100%|██████████| 423/423 [00:36<00:00, 11.72it/s]\n"
     ]
    },
    {
     "name": "stdout",
     "output_type": "stream",
     "text": [
      "{'val_loss': 1.3630736442107074, 'val_accuracy': 0.664695446481372, 'precision': 0.679633210054842, 'recall': 0.664695446481372, 'f1-score': 0.6522581219629239, 'macro_f1-score': 0.3558974380951009, 'balanced_accuracy': 0.36396935865398083, 'mcc': 0.5627121523163583, 'train_loss': 0.4994478873274428}\n",
      "Epoch 7/20\n"
     ]
    },
    {
     "name": "stderr",
     "output_type": "stream",
     "text": [
      "100%|██████████| 423/423 [00:36<00:00, 11.72it/s]\n"
     ]
    },
    {
     "name": "stdout",
     "output_type": "stream",
     "text": [
      "{'val_loss': 1.5204479109566167, 'val_accuracy': 0.6830277942046127, 'precision': 0.6637354057911234, 'recall': 0.6830277942046127, 'f1-score': 0.6510847141379947, 'macro_f1-score': 0.388916241757795, 'balanced_accuracy': 0.3660802855514235, 'mcc': 0.5670369661346853, 'train_loss': 0.3884534006343877}\n",
      "Epoch 8/20\n"
     ]
    },
    {
     "name": "stderr",
     "output_type": "stream",
     "text": [
      "100%|██████████| 423/423 [00:36<00:00, 11.75it/s]\n"
     ]
    },
    {
     "name": "stdout",
     "output_type": "stream",
     "text": [
      "{'val_loss': 1.5675252258496464, 'val_accuracy': 0.6581904198698995, 'precision': 0.6633565898749382, 'recall': 0.6581904198698995, 'f1-score': 0.6485394935329352, 'macro_f1-score': 0.3709783985579119, 'balanced_accuracy': 0.3657312115883937, 'mcc': 0.5485118709642359, 'train_loss': 0.3135768777292319}\n",
      "Epoch 9/20\n"
     ]
    },
    {
     "name": "stderr",
     "output_type": "stream",
     "text": [
      "100%|██████████| 423/423 [00:36<00:00, 11.71it/s]\n"
     ]
    },
    {
     "name": "stdout",
     "output_type": "stream",
     "text": [
      "{'val_loss': 1.487058863043785, 'val_accuracy': 0.6771141336487285, 'precision': 0.6746471715086753, 'recall': 0.6771141336487285, 'f1-score': 0.6659602471796996, 'macro_f1-score': 0.42401828402642244, 'balanced_accuracy': 0.4120140452546634, 'mcc': 0.5700907544438695, 'train_loss': 0.2776845103442387}\n",
      "Epoch 10/20\n"
     ]
    },
    {
     "name": "stderr",
     "output_type": "stream",
     "text": [
      "100%|██████████| 423/423 [00:36<00:00, 11.74it/s]\n"
     ]
    },
    {
     "name": "stdout",
     "output_type": "stream",
     "text": [
      "{'val_loss': 1.6114627730171636, 'val_accuracy': 0.6528681253696038, 'precision': 0.6671527525939248, 'recall': 0.6528681253696038, 'f1-score': 0.6482486482375985, 'macro_f1-score': 0.3855520175227442, 'balanced_accuracy': 0.3886545517771804, 'mcc': 0.5514713199165896, 'train_loss': 0.25810737324654}\n",
      "Epoch 11/20\n"
     ]
    },
    {
     "name": "stderr",
     "output_type": "stream",
     "text": [
      "100%|██████████| 423/423 [00:36<00:00, 11.75it/s]\n"
     ]
    },
    {
     "name": "stdout",
     "output_type": "stream",
     "text": [
      "{'val_loss': 1.5910295717558771, 'val_accuracy': 0.6812536960378475, 'precision': 0.6798026006810883, 'recall': 0.6812536960378475, 'f1-score': 0.6661568265860695, 'macro_f1-score': 0.4123404139903684, 'balanced_accuracy': 0.4031846114560843, 'mcc': 0.5733981263477509, 'train_loss': 0.23443887494042093}\n",
      "Epoch 12/20\n"
     ]
    },
    {
     "name": "stderr",
     "output_type": "stream",
     "text": [
      "100%|██████████| 423/423 [00:36<00:00, 11.71it/s]\n"
     ]
    },
    {
     "name": "stdout",
     "output_type": "stream",
     "text": [
      "{'val_loss': 1.6637765186012916, 'val_accuracy': 0.6759314015375517, 'precision': 0.6711720696361614, 'recall': 0.6759314015375517, 'f1-score': 0.6590097782090948, 'macro_f1-score': 0.4318513848898863, 'balanced_accuracy': 0.408170230385633, 'mcc': 0.5661665217000039, 'train_loss': 0.22589407119367175}\n",
      "Epoch 13/20\n"
     ]
    },
    {
     "name": "stderr",
     "output_type": "stream",
     "text": [
      "100%|██████████| 423/423 [00:36<00:00, 11.74it/s]\n"
     ]
    },
    {
     "name": "stdout",
     "output_type": "stream",
     "text": [
      "{'val_loss': 1.7724606681544826, 'val_accuracy': 0.6747486694263749, 'precision': 0.6707992978273032, 'recall': 0.6747486694263749, 'f1-score': 0.6628585243343229, 'macro_f1-score': 0.4063681623226653, 'balanced_accuracy': 0.3911137401176734, 'mcc': 0.5648192497905057, 'train_loss': 0.22821792430656104}\n",
      "Epoch 14/20\n"
     ]
    },
    {
     "name": "stderr",
     "output_type": "stream",
     "text": [
      "100%|██████████| 423/423 [00:36<00:00, 11.72it/s]\n"
     ]
    },
    {
     "name": "stdout",
     "output_type": "stream",
     "text": [
      "{'val_loss': 1.6993746504468739, 'val_accuracy': 0.6552335895919574, 'precision': 0.6771098171767232, 'recall': 0.6552335895919574, 'f1-score': 0.6521024329031888, 'macro_f1-score': 0.3963223553552932, 'balanced_accuracy': 0.40705869368084835, 'mcc': 0.5540944004073224, 'train_loss': 0.24047680132434512}\n",
      "Epoch 15/20\n"
     ]
    },
    {
     "name": "stderr",
     "output_type": "stream",
     "text": [
      "100%|██████████| 423/423 [00:36<00:00, 11.72it/s]\n"
     ]
    },
    {
     "name": "stdout",
     "output_type": "stream",
     "text": [
      "{'val_loss': 1.795348437186682, 'val_accuracy': 0.6712004730928445, 'precision': 0.6854155618153681, 'recall': 0.6712004730928445, 'f1-score': 0.6656631903889112, 'macro_f1-score': 0.40764766346539794, 'balanced_accuracy': 0.4028076552310234, 'mcc': 0.5662148912361469, 'train_loss': 0.21313072004862985}\n",
      "Early stopping.\n",
      "\n",
      "[Fold 2]\n",
      "Label distribution after resampling:\n",
      "  label 0: 3179\n",
      "  label 1: 25\n",
      "  label 2: 112\n",
      "  label 3: 24\n",
      "  label 4: 206\n",
      "  label 5: 116\n",
      "  label 6: 94\n",
      "  label 7: 31\n",
      "  label 8: 68\n",
      "  label 9: 65\n",
      "  label 10: 70\n",
      "  label 11: 172\n",
      "  label 12: 193\n",
      "  label 13: 29\n",
      "  label 14: 23\n",
      "  label 15: 25\n",
      "  label 16: 20\n",
      "  label 17: 231\n",
      "  label 18: 93\n",
      "  label 19: 45\n",
      "  label 20: 14\n",
      "  label 21: 35\n",
      "  label 22: 78\n",
      "  label 23: 160\n",
      "  label 24: 16\n",
      "  label 25: 50\n",
      "  label 26: 86\n",
      "  label 27: 49\n",
      "  label 28: 12\n",
      "  label 29: 13\n",
      "  label 30: 15\n",
      "  label 31: 80\n",
      "  label 32: 36\n",
      "  label 33: 32\n",
      "  label 34: 30\n",
      "  label 35: 12\n",
      "  label 36: 28\n",
      "  label 37: 22\n",
      "  label 38: 5\n",
      "  label 39: 103\n",
      "  label 40: 11\n",
      "  label 41: 9\n",
      "  label 42: 147\n",
      "  label 43: 16\n",
      "  label 44: 20\n",
      "  label 45: 9\n",
      "  label 46: 55\n",
      "  label 47: 528\n",
      "  label 48: 202\n",
      "  label 49: 69\n",
      "model is bert-base-uncased cnn\n",
      "Epoch 1/20\n"
     ]
    },
    {
     "name": "stderr",
     "output_type": "stream",
     "text": [
      "100%|██████████| 423/423 [00:36<00:00, 11.71it/s]\n"
     ]
    },
    {
     "name": "stdout",
     "output_type": "stream",
     "text": [
      "{'val_loss': 1.5532757968835111, 'val_accuracy': 0.6091070372560615, 'precision': 0.48817637134954117, 'recall': 0.6091070372560615, 'f1-score': 0.5271725479624952, 'macro_f1-score': 0.12163083474807096, 'balanced_accuracy': 0.13656237330111823, 'mcc': 0.4569403075575627, 'train_loss': 1.9008504904753774}\n",
      "Epoch 2/20\n"
     ]
    },
    {
     "name": "stderr",
     "output_type": "stream",
     "text": [
      "100%|██████████| 423/423 [00:36<00:00, 11.75it/s]\n"
     ]
    },
    {
     "name": "stdout",
     "output_type": "stream",
     "text": [
      "{'val_loss': 1.4157813874618062, 'val_accuracy': 0.622708456534595, 'precision': 0.6109937564907799, 'recall': 0.622708456534595, 'f1-score': 0.5876636634821186, 'macro_f1-score': 0.20369874495514761, 'balanced_accuracy': 0.21019361345744894, 'mcc': 0.49408321721704995, 'train_loss': 1.3425663612413068}\n",
      "Epoch 3/20\n"
     ]
    },
    {
     "name": "stderr",
     "output_type": "stream",
     "text": [
      "100%|██████████| 423/423 [00:36<00:00, 11.71it/s]\n"
     ]
    },
    {
     "name": "stdout",
     "output_type": "stream",
     "text": [
      "{'val_loss': 1.2824810043258488, 'val_accuracy': 0.6652868125369604, 'precision': 0.6306648997708375, 'recall': 0.6652868125369604, 'f1-score': 0.6311538315297379, 'macro_f1-score': 0.265964797106269, 'balanced_accuracy': 0.2729333618971646, 'mcc': 0.5550203052201343, 'train_loss': 1.024062089921453}\n",
      "Epoch 4/20\n"
     ]
    },
    {
     "name": "stderr",
     "output_type": "stream",
     "text": [
      "100%|██████████| 423/423 [00:36<00:00, 11.74it/s]\n"
     ]
    },
    {
     "name": "stdout",
     "output_type": "stream",
     "text": [
      "{'val_loss': 1.3214077483511195, 'val_accuracy': 0.6830277942046127, 'precision': 0.6478006058724735, 'recall': 0.6830277942046127, 'f1-score': 0.6555112557287358, 'macro_f1-score': 0.33365864132435497, 'balanced_accuracy': 0.32283407716840046, 'mcc': 0.5715273347639789, 'train_loss': 0.777000447255218}\n",
      "Epoch 5/20\n"
     ]
    },
    {
     "name": "stderr",
     "output_type": "stream",
     "text": [
      "100%|██████████| 423/423 [00:36<00:00, 11.75it/s]\n"
     ]
    },
    {
     "name": "stdout",
     "output_type": "stream",
     "text": [
      "{'val_loss': 1.3974910257559903, 'val_accuracy': 0.6652868125369604, 'precision': 0.6568202893684892, 'recall': 0.6652868125369604, 'f1-score': 0.6504178378127397, 'macro_f1-score': 0.3443828581549163, 'balanced_accuracy': 0.33072082765168803, 'mcc': 0.556231595581178, 'train_loss': 0.5994213524827157}\n",
      "Epoch 6/20\n"
     ]
    },
    {
     "name": "stderr",
     "output_type": "stream",
     "text": [
      "100%|██████████| 423/423 [00:36<00:00, 11.71it/s]\n"
     ]
    },
    {
     "name": "stdout",
     "output_type": "stream",
     "text": [
      "{'val_loss': 1.4307365610070948, 'val_accuracy': 0.6842105263157895, 'precision': 0.6645467702240694, 'recall': 0.6842105263157895, 'f1-score': 0.6642519652354454, 'macro_f1-score': 0.35899941140467834, 'balanced_accuracy': 0.3421419667931023, 'mcc': 0.5734800398255393, 'train_loss': 0.4532272856766204}\n",
      "Epoch 7/20\n"
     ]
    },
    {
     "name": "stderr",
     "output_type": "stream",
     "text": [
      "100%|██████████| 423/423 [00:36<00:00, 11.74it/s]\n"
     ]
    },
    {
     "name": "stdout",
     "output_type": "stream",
     "text": [
      "{'val_loss': 1.567813882569097, 'val_accuracy': 0.6812536960378475, 'precision': 0.6581639977764105, 'recall': 0.6812536960378475, 'f1-score': 0.6525610035702473, 'macro_f1-score': 0.37787861788331173, 'balanced_accuracy': 0.3537940777689239, 'mcc': 0.5655373123628981, 'train_loss': 0.3627117299926126}\n",
      "Epoch 8/20\n"
     ]
    },
    {
     "name": "stderr",
     "output_type": "stream",
     "text": [
      "100%|██████████| 423/423 [00:36<00:00, 11.72it/s]\n"
     ]
    },
    {
     "name": "stdout",
     "output_type": "stream",
     "text": [
      "{'val_loss': 1.592395861193819, 'val_accuracy': 0.6788882318154937, 'precision': 0.6822329736096444, 'recall': 0.6788882318154937, 'f1-score': 0.6644335217717402, 'macro_f1-score': 0.3943918867585872, 'balanced_accuracy': 0.3957730546553846, 'mcc': 0.5719506548162389, 'train_loss': 0.30207447138181215}\n",
      "Epoch 9/20\n"
     ]
    },
    {
     "name": "stderr",
     "output_type": "stream",
     "text": [
      "100%|██████████| 423/423 [00:36<00:00, 11.72it/s]\n"
     ]
    },
    {
     "name": "stdout",
     "output_type": "stream",
     "text": [
      "{'val_loss': 1.6802127000717622, 'val_accuracy': 0.6830277942046127, 'precision': 0.6765850948044649, 'recall': 0.6830277942046127, 'f1-score': 0.6646354354815546, 'macro_f1-score': 0.3928836096085388, 'balanced_accuracy': 0.3674364368250505, 'mcc': 0.5725070632125275, 'train_loss': 0.2887906914480013}\n",
      "Epoch 10/20\n"
     ]
    },
    {
     "name": "stderr",
     "output_type": "stream",
     "text": [
      "100%|██████████| 423/423 [00:36<00:00, 11.72it/s]\n"
     ]
    },
    {
     "name": "stdout",
     "output_type": "stream",
     "text": [
      "{'val_loss': 1.6579186367398162, 'val_accuracy': 0.6788882318154937, 'precision': 0.667581676134381, 'recall': 0.6788882318154937, 'f1-score': 0.6624011007623469, 'macro_f1-score': 0.4122199630592121, 'balanced_accuracy': 0.3975780662157325, 'mcc': 0.5683657760948101, 'train_loss': 0.2676252290809056}\n",
      "Epoch 11/20\n"
     ]
    },
    {
     "name": "stderr",
     "output_type": "stream",
     "text": [
      "100%|██████████| 423/423 [00:35<00:00, 11.76it/s]\n"
     ]
    },
    {
     "name": "stdout",
     "output_type": "stream",
     "text": [
      "{'val_loss': 1.7438998437433872, 'val_accuracy': 0.6741573033707865, 'precision': 0.67008262061654, 'recall': 0.6741573033707865, 'f1-score': 0.6503403448537175, 'macro_f1-score': 0.42068986917609363, 'balanced_accuracy': 0.4147856560460954, 'mcc': 0.5623532419397478, 'train_loss': 0.23524329302850097}\n",
      "Epoch 12/20\n"
     ]
    },
    {
     "name": "stderr",
     "output_type": "stream",
     "text": [
      "100%|██████████| 423/423 [00:36<00:00, 11.71it/s]\n"
     ]
    },
    {
     "name": "stdout",
     "output_type": "stream",
     "text": [
      "{'val_loss': 1.5693656447220523, 'val_accuracy': 0.6848018923713779, 'precision': 0.6765954130934928, 'recall': 0.6848018923713779, 'f1-score': 0.6670872351557873, 'macro_f1-score': 0.42216627128100936, 'balanced_accuracy': 0.40173786211667417, 'mcc': 0.5762483885851712, 'train_loss': 0.2244236053399143}\n",
      "Epoch 13/20\n"
     ]
    },
    {
     "name": "stderr",
     "output_type": "stream",
     "text": [
      "100%|██████████| 423/423 [00:36<00:00, 11.74it/s]\n"
     ]
    },
    {
     "name": "stdout",
     "output_type": "stream",
     "text": [
      "{'val_loss': 1.6657195631766095, 'val_accuracy': 0.6806623299822591, 'precision': 0.6772464530132561, 'recall': 0.6806623299822591, 'f1-score': 0.669232110484702, 'macro_f1-score': 0.42058212558499647, 'balanced_accuracy': 0.41379283536487355, 'mcc': 0.5767611766691607, 'train_loss': 0.22684007573731896}\n",
      "Epoch 14/20\n"
     ]
    },
    {
     "name": "stderr",
     "output_type": "stream",
     "text": [
      "100%|██████████| 423/423 [00:36<00:00, 11.74it/s]\n"
     ]
    },
    {
     "name": "stdout",
     "output_type": "stream",
     "text": [
      "{'val_loss': 1.7650667069093235, 'val_accuracy': 0.6782968657599053, 'precision': 0.6716546580462631, 'recall': 0.6782968657599053, 'f1-score': 0.6567197496800312, 'macro_f1-score': 0.4073751004940929, 'balanced_accuracy': 0.40017512987650583, 'mcc': 0.5673897026908585, 'train_loss': 0.23596715357266895}\n",
      "Epoch 15/20\n"
     ]
    },
    {
     "name": "stderr",
     "output_type": "stream",
     "text": [
      "100%|██████████| 423/423 [00:36<00:00, 11.70it/s]\n"
     ]
    },
    {
     "name": "stdout",
     "output_type": "stream",
     "text": [
      "{'val_loss': 1.8922848375338428, 'val_accuracy': 0.6599645180366647, 'precision': 0.6598504161529413, 'recall': 0.6599645180366647, 'f1-score': 0.6469690782001876, 'macro_f1-score': 0.4397546178328448, 'balanced_accuracy': 0.41746867138586, 'mcc': 0.548777537642542, 'train_loss': 0.21104528237493098}\n",
      "Epoch 16/20\n"
     ]
    },
    {
     "name": "stderr",
     "output_type": "stream",
     "text": [
      "100%|██████████| 423/423 [00:36<00:00, 11.74it/s]\n"
     ]
    },
    {
     "name": "stdout",
     "output_type": "stream",
     "text": [
      "{'val_loss': 1.8326988706611238, 'val_accuracy': 0.6706091070372561, 'precision': 0.6625449384053305, 'recall': 0.6706091070372561, 'f1-score': 0.6544713003686454, 'macro_f1-score': 0.44072166797443835, 'balanced_accuracy': 0.4272358255643065, 'mcc': 0.5604220880298297, 'train_loss': 0.20446138139940737}\n",
      "Epoch 17/20\n"
     ]
    },
    {
     "name": "stderr",
     "output_type": "stream",
     "text": [
      "100%|██████████| 423/423 [00:36<00:00, 11.72it/s]\n"
     ]
    },
    {
     "name": "stdout",
     "output_type": "stream",
     "text": [
      "{'val_loss': 1.8462820746145159, 'val_accuracy': 0.6747486694263749, 'precision': 0.6766086329606551, 'recall': 0.6747486694263749, 'f1-score': 0.665999312117138, 'macro_f1-score': 0.4438018621581942, 'balanced_accuracy': 0.4403510092277938, 'mcc': 0.5744534863937307, 'train_loss': 0.18845580620473762}\n",
      "Epoch 18/20\n"
     ]
    },
    {
     "name": "stderr",
     "output_type": "stream",
     "text": [
      "100%|██████████| 423/423 [00:36<00:00, 11.72it/s]\n"
     ]
    },
    {
     "name": "stdout",
     "output_type": "stream",
     "text": [
      "{'val_loss': 1.9059528455770802, 'val_accuracy': 0.6871673565937315, 'precision': 0.6801118738736553, 'recall': 0.6871673565937315, 'f1-score': 0.6720666327109313, 'macro_f1-score': 0.4570012435129842, 'balanced_accuracy': 0.42207760093857444, 'mcc': 0.5807819169350121, 'train_loss': 0.2017090391223462}\n",
      "Epoch 19/20\n"
     ]
    },
    {
     "name": "stderr",
     "output_type": "stream",
     "text": [
      "100%|██████████| 423/423 [00:36<00:00, 11.72it/s]\n"
     ]
    },
    {
     "name": "stdout",
     "output_type": "stream",
     "text": [
      "{'val_loss': 1.8161692605968915, 'val_accuracy': 0.6848018923713779, 'precision': 0.6740646717023397, 'recall': 0.6848018923713779, 'f1-score': 0.6714862071246758, 'macro_f1-score': 0.45486655140566973, 'balanced_accuracy': 0.42735412556404506, 'mcc': 0.5767373416680863, 'train_loss': 0.1988086983427762}\n",
      "Epoch 20/20\n"
     ]
    },
    {
     "name": "stderr",
     "output_type": "stream",
     "text": [
      "100%|██████████| 423/423 [00:36<00:00, 11.74it/s]\n"
     ]
    },
    {
     "name": "stdout",
     "output_type": "stream",
     "text": [
      "{'val_loss': 1.975715938322949, 'val_accuracy': 0.6782968657599053, 'precision': 0.6756957301930807, 'recall': 0.6782968657599053, 'f1-score': 0.6611304247264357, 'macro_f1-score': 0.4451086242272136, 'balanced_accuracy': 0.43685224191698596, 'mcc': 0.568246680625736, 'train_loss': 0.18841740219654562}\n",
      "\n",
      "[Fold 3]\n",
      "Label distribution after resampling:\n",
      "  label 0: 3179\n",
      "  label 1: 25\n",
      "  label 2: 112\n",
      "  label 3: 24\n",
      "  label 4: 206\n",
      "  label 5: 116\n",
      "  label 6: 94\n",
      "  label 7: 31\n",
      "  label 8: 68\n",
      "  label 9: 65\n",
      "  label 10: 71\n",
      "  label 11: 172\n",
      "  label 12: 192\n",
      "  label 13: 29\n",
      "  label 14: 23\n",
      "  label 15: 25\n",
      "  label 16: 20\n",
      "  label 17: 231\n",
      "  label 18: 93\n",
      "  label 19: 45\n",
      "  label 20: 14\n",
      "  label 21: 36\n",
      "  label 22: 77\n",
      "  label 23: 160\n",
      "  label 24: 16\n",
      "  label 25: 51\n",
      "  label 26: 85\n",
      "  label 27: 49\n",
      "  label 28: 12\n",
      "  label 29: 12\n",
      "  label 30: 16\n",
      "  label 31: 80\n",
      "  label 32: 36\n",
      "  label 33: 32\n",
      "  label 34: 29\n",
      "  label 35: 12\n",
      "  label 36: 28\n",
      "  label 37: 22\n",
      "  label 38: 5\n",
      "  label 39: 103\n",
      "  label 40: 11\n",
      "  label 41: 9\n",
      "  label 42: 147\n",
      "  label 43: 16\n",
      "  label 44: 20\n",
      "  label 45: 9\n",
      "  label 46: 55\n",
      "  label 47: 529\n",
      "  label 48: 201\n",
      "  label 49: 70\n",
      "model is bert-base-uncased cnn\n",
      "Epoch 1/20\n"
     ]
    },
    {
     "name": "stderr",
     "output_type": "stream",
     "text": [
      "100%|██████████| 423/423 [00:36<00:00, 11.71it/s]\n"
     ]
    },
    {
     "name": "stdout",
     "output_type": "stream",
     "text": [
      "{'val_loss': 1.5720276239345659, 'val_accuracy': 0.6037847427557658, 'precision': 0.48699969073986, 'recall': 0.6037847427557658, 'f1-score': 0.5166341936253521, 'macro_f1-score': 0.13076458344631142, 'balanced_accuracy': 0.14204023481264896, 'mcc': 0.4338191869132038, 'train_loss': 1.9203042709235605}\n",
      "Epoch 2/20\n"
     ]
    },
    {
     "name": "stderr",
     "output_type": "stream",
     "text": [
      "100%|██████████| 423/423 [00:36<00:00, 11.74it/s]\n"
     ]
    },
    {
     "name": "stdout",
     "output_type": "stream",
     "text": [
      "{'val_loss': 1.310012162575182, 'val_accuracy': 0.6505026611472502, 'precision': 0.6015858495495239, 'recall': 0.6505026611472502, 'f1-score': 0.6048539385503392, 'macro_f1-score': 0.22530522638340744, 'balanced_accuracy': 0.22623486788197844, 'mcc': 0.5272936822380858, 'train_loss': 1.347595971949557}\n",
      "Epoch 3/20\n"
     ]
    },
    {
     "name": "stderr",
     "output_type": "stream",
     "text": [
      "100%|██████████| 423/423 [00:36<00:00, 11.74it/s]\n"
     ]
    },
    {
     "name": "stdout",
     "output_type": "stream",
     "text": [
      "{'val_loss': 1.2881120426474877, 'val_accuracy': 0.6481371969248965, 'precision': 0.6378064935865557, 'recall': 0.6481371969248965, 'f1-score': 0.6230537060625347, 'macro_f1-score': 0.27611369058792606, 'balanced_accuracy': 0.28391200257466154, 'mcc': 0.5303926418537482, 'train_loss': 1.014215941653184}\n",
      "Epoch 4/20\n"
     ]
    },
    {
     "name": "stderr",
     "output_type": "stream",
     "text": [
      "100%|██████████| 423/423 [00:36<00:00, 11.70it/s]\n"
     ]
    },
    {
     "name": "stdout",
     "output_type": "stream",
     "text": [
      "{'val_loss': 1.3399192912960953, 'val_accuracy': 0.6729745712596097, 'precision': 0.642633307284248, 'recall': 0.6729745712596097, 'f1-score': 0.6389551725012763, 'macro_f1-score': 0.3100870322011398, 'balanced_accuracy': 0.29882857064704677, 'mcc': 0.5557070859371362, 'train_loss': 0.7525861554429041}\n",
      "Epoch 5/20\n"
     ]
    },
    {
     "name": "stderr",
     "output_type": "stream",
     "text": [
      "100%|██████████| 423/423 [00:36<00:00, 11.74it/s]\n"
     ]
    },
    {
     "name": "stdout",
     "output_type": "stream",
     "text": [
      "{'val_loss': 1.380629392446212, 'val_accuracy': 0.6741573033707865, 'precision': 0.640738632647155, 'recall': 0.6741573033707865, 'f1-score': 0.6427322380728273, 'macro_f1-score': 0.31879199895759597, 'balanced_accuracy': 0.30841696700119015, 'mcc': 0.5566051961326616, 'train_loss': 0.5528621576092345}\n",
      "Epoch 6/20\n"
     ]
    },
    {
     "name": "stderr",
     "output_type": "stream",
     "text": [
      "100%|██████████| 423/423 [00:36<00:00, 11.72it/s]\n"
     ]
    },
    {
     "name": "stdout",
     "output_type": "stream",
     "text": [
      "{'val_loss': 1.3879514943878606, 'val_accuracy': 0.6859846244825547, 'precision': 0.6640140159491396, 'recall': 0.6859846244825547, 'f1-score': 0.6603545634307713, 'macro_f1-score': 0.37179446426616214, 'balanced_accuracy': 0.3541028375395834, 'mcc': 0.5773387454742749, 'train_loss': 0.4493538357722562}\n",
      "Epoch 7/20\n"
     ]
    },
    {
     "name": "stderr",
     "output_type": "stream",
     "text": [
      "100%|██████████| 423/423 [00:36<00:00, 11.72it/s]\n"
     ]
    },
    {
     "name": "stdout",
     "output_type": "stream",
     "text": [
      "{'val_loss': 1.5222706552946343, 'val_accuracy': 0.664695446481372, 'precision': 0.6627942639319448, 'recall': 0.664695446481372, 'f1-score': 0.6496938366665215, 'macro_f1-score': 0.3676880327048695, 'balanced_accuracy': 0.360567092181864, 'mcc': 0.5522413197666669, 'train_loss': 0.335666452193232}\n",
      "Epoch 8/20\n"
     ]
    },
    {
     "name": "stderr",
     "output_type": "stream",
     "text": [
      "100%|██████████| 423/423 [00:36<00:00, 11.72it/s]\n"
     ]
    },
    {
     "name": "stdout",
     "output_type": "stream",
     "text": [
      "{'val_loss': 1.6059090362967186, 'val_accuracy': 0.6794795978710823, 'precision': 0.668293771155709, 'recall': 0.6794795978710823, 'f1-score': 0.6575185658680464, 'macro_f1-score': 0.36087894966765227, 'balanced_accuracy': 0.34523210387834097, 'mcc': 0.5696231938613511, 'train_loss': 0.2854190162585577}\n",
      "Epoch 9/20\n"
     ]
    },
    {
     "name": "stderr",
     "output_type": "stream",
     "text": [
      "100%|██████████| 423/423 [00:36<00:00, 11.75it/s]\n"
     ]
    },
    {
     "name": "stdout",
     "output_type": "stream",
     "text": [
      "{'val_loss': 1.572029561085521, 'val_accuracy': 0.6759314015375517, 'precision': 0.649564866850013, 'recall': 0.6759314015375517, 'f1-score': 0.6479757107108802, 'macro_f1-score': 0.3319830478496067, 'balanced_accuracy': 0.3256290639327276, 'mcc': 0.5614337959973554, 'train_loss': 0.28113410501888386}\n",
      "Early stopping.\n",
      "\n",
      "[Fold 4]\n",
      "Label distribution after resampling:\n",
      "  label 0: 3179\n",
      "  label 1: 25\n",
      "  label 2: 112\n",
      "  label 3: 24\n",
      "  label 4: 206\n",
      "  label 5: 116\n",
      "  label 6: 94\n",
      "  label 7: 32\n",
      "  label 8: 68\n",
      "  label 9: 64\n",
      "  label 10: 71\n",
      "  label 11: 172\n",
      "  label 12: 193\n",
      "  label 13: 28\n",
      "  label 14: 24\n",
      "  label 15: 24\n",
      "  label 16: 20\n",
      "  label 17: 232\n",
      "  label 18: 92\n",
      "  label 19: 45\n",
      "  label 20: 15\n",
      "  label 21: 35\n",
      "  label 22: 77\n",
      "  label 23: 160\n",
      "  label 24: 16\n",
      "  label 25: 51\n",
      "  label 26: 85\n",
      "  label 27: 49\n",
      "  label 28: 12\n",
      "  label 29: 13\n",
      "  label 30: 15\n",
      "  label 31: 80\n",
      "  label 32: 36\n",
      "  label 33: 32\n",
      "  label 34: 29\n",
      "  label 35: 12\n",
      "  label 36: 28\n",
      "  label 37: 22\n",
      "  label 38: 6\n",
      "  label 39: 103\n",
      "  label 40: 11\n",
      "  label 41: 9\n",
      "  label 42: 148\n",
      "  label 43: 16\n",
      "  label 44: 20\n",
      "  label 45: 8\n",
      "  label 46: 54\n",
      "  label 47: 529\n",
      "  label 48: 201\n",
      "  label 49: 70\n",
      "model is bert-base-uncased cnn\n",
      "Epoch 1/20\n"
     ]
    },
    {
     "name": "stderr",
     "output_type": "stream",
     "text": [
      "100%|██████████| 423/423 [00:36<00:00, 11.71it/s]\n"
     ]
    },
    {
     "name": "stdout",
     "output_type": "stream",
     "text": [
      "{'val_loss': 1.471586747833018, 'val_accuracy': 0.6203429923122413, 'precision': 0.4765686005897692, 'recall': 0.6203429923122413, 'f1-score': 0.5078727975866342, 'macro_f1-score': 0.10860948049009668, 'balanced_accuracy': 0.11350478508286103, 'mcc': 0.45220706467081273, 'train_loss': 1.8987676436455818}\n",
      "Epoch 2/20\n"
     ]
    },
    {
     "name": "stderr",
     "output_type": "stream",
     "text": [
      "100%|██████████| 423/423 [00:36<00:00, 11.74it/s]\n"
     ]
    },
    {
     "name": "stdout",
     "output_type": "stream",
     "text": [
      "{'val_loss': 1.3371733483278527, 'val_accuracy': 0.6434062684801892, 'precision': 0.6160001697148131, 'recall': 0.6434062684801892, 'f1-score': 0.6124145312730608, 'macro_f1-score': 0.22593036692815704, 'balanced_accuracy': 0.23325772263832426, 'mcc': 0.5254547497451852, 'train_loss': 1.3367001319185217}\n",
      "Epoch 3/20\n"
     ]
    },
    {
     "name": "stderr",
     "output_type": "stream",
     "text": [
      "100%|██████████| 423/423 [00:36<00:00, 11.74it/s]\n"
     ]
    },
    {
     "name": "stdout",
     "output_type": "stream",
     "text": [
      "{'val_loss': 1.2285970213278286, 'val_accuracy': 0.6670609107037256, 'precision': 0.6263229609175378, 'recall': 0.6670609107037256, 'f1-score': 0.6234247482818392, 'macro_f1-score': 0.252619893583595, 'balanced_accuracy': 0.2486579790998387, 'mcc': 0.5459098391386472, 'train_loss': 1.0308468352395592}\n",
      "Epoch 4/20\n"
     ]
    },
    {
     "name": "stderr",
     "output_type": "stream",
     "text": [
      "100%|██████████| 423/423 [00:36<00:00, 11.70it/s]\n"
     ]
    },
    {
     "name": "stdout",
     "output_type": "stream",
     "text": [
      "{'val_loss': 1.2758044625790614, 'val_accuracy': 0.6700177409816677, 'precision': 0.6565127214326688, 'recall': 0.6700177409816677, 'f1-score': 0.6349493783855669, 'macro_f1-score': 0.2973734931391226, 'balanced_accuracy': 0.2877098350634478, 'mcc': 0.5596927637496402, 'train_loss': 0.7759912342326297}\n",
      "Epoch 5/20\n"
     ]
    },
    {
     "name": "stderr",
     "output_type": "stream",
     "text": [
      "100%|██████████| 423/423 [00:36<00:00, 11.73it/s]\n"
     ]
    },
    {
     "name": "stdout",
     "output_type": "stream",
     "text": [
      "{'val_loss': 1.2913526614319604, 'val_accuracy': 0.6800709639266707, 'precision': 0.6561728672504129, 'recall': 0.6800709639266707, 'f1-score': 0.6590948967167765, 'macro_f1-score': 0.36245818427799054, 'balanced_accuracy': 0.3467577886022303, 'mcc': 0.5742873978067426, 'train_loss': 0.5649515510609386}\n",
      "Epoch 6/20\n"
     ]
    },
    {
     "name": "stderr",
     "output_type": "stream",
     "text": [
      "100%|██████████| 423/423 [00:36<00:00, 11.72it/s]\n"
     ]
    },
    {
     "name": "stdout",
     "output_type": "stream",
     "text": [
      "{'val_loss': 1.4693874185377698, 'val_accuracy': 0.6717918391484329, 'precision': 0.6757907449395679, 'recall': 0.6717918391484329, 'f1-score': 0.6529303577745437, 'macro_f1-score': 0.41485844927303456, 'balanced_accuracy': 0.3988198014236806, 'mcc': 0.5572069272295319, 'train_loss': 0.43049815990224516}\n",
      "Epoch 7/20\n"
     ]
    },
    {
     "name": "stderr",
     "output_type": "stream",
     "text": [
      "100%|██████████| 423/423 [00:36<00:00, 11.71it/s]\n"
     ]
    },
    {
     "name": "stdout",
     "output_type": "stream",
     "text": [
      "{'val_loss': 1.4396582380780634, 'val_accuracy': 0.6954464813719693, 'precision': 0.6912910328889166, 'recall': 0.6954464813719693, 'f1-score': 0.6693845817713121, 'macro_f1-score': 0.4199085194677856, 'balanced_accuracy': 0.3846513073118467, 'mcc': 0.5849786721559677, 'train_loss': 0.3523498903739819}\n",
      "Epoch 8/20\n"
     ]
    },
    {
     "name": "stderr",
     "output_type": "stream",
     "text": [
      "100%|██████████| 423/423 [00:36<00:00, 11.71it/s]\n"
     ]
    },
    {
     "name": "stdout",
     "output_type": "stream",
     "text": [
      "{'val_loss': 1.4073649629388216, 'val_accuracy': 0.6989946777054997, 'precision': 0.6981671612846049, 'recall': 0.6989946777054997, 'f1-score': 0.6816064478799151, 'macro_f1-score': 0.42492534037022167, 'balanced_accuracy': 0.4098854850012866, 'mcc': 0.5997849255571467, 'train_loss': 0.28763877489575435}\n",
      "Epoch 9/20\n"
     ]
    },
    {
     "name": "stderr",
     "output_type": "stream",
     "text": [
      "100%|██████████| 423/423 [00:36<00:00, 11.75it/s]\n"
     ]
    },
    {
     "name": "stdout",
     "output_type": "stream",
     "text": [
      "{'val_loss': 1.494800262223437, 'val_accuracy': 0.7049083382613838, 'precision': 0.7024306280310968, 'recall': 0.7049083382613838, 'f1-score': 0.6867809572433554, 'macro_f1-score': 0.4678976463000706, 'balanced_accuracy': 0.457031038922649, 'mcc': 0.6069056845706149, 'train_loss': 0.2777724829645515}\n",
      "Epoch 10/20\n"
     ]
    },
    {
     "name": "stderr",
     "output_type": "stream",
     "text": [
      "100%|██████████| 423/423 [00:36<00:00, 11.74it/s]\n"
     ]
    },
    {
     "name": "stdout",
     "output_type": "stream",
     "text": [
      "{'val_loss': 1.5407635106371258, 'val_accuracy': 0.6877587226493199, 'precision': 0.6776284662028689, 'recall': 0.6877587226493199, 'f1-score': 0.6695960112972381, 'macro_f1-score': 0.4306910909406934, 'balanced_accuracy': 0.3979482395150765, 'mcc': 0.5808279615072097, 'train_loss': 0.2473792472081457}\n",
      "Epoch 11/20\n"
     ]
    },
    {
     "name": "stderr",
     "output_type": "stream",
     "text": [
      "100%|██████████| 423/423 [00:36<00:00, 11.75it/s]\n"
     ]
    },
    {
     "name": "stdout",
     "output_type": "stream",
     "text": [
      "{'val_loss': 1.5665514643286478, 'val_accuracy': 0.6989946777054997, 'precision': 0.6883194328963769, 'recall': 0.6989946777054997, 'f1-score': 0.6871734946178737, 'macro_f1-score': 0.4760201217007747, 'balanced_accuracy': 0.4654232925173215, 'mcc': 0.6010532580556008, 'train_loss': 0.23067820883503548}\n",
      "Epoch 12/20\n"
     ]
    },
    {
     "name": "stderr",
     "output_type": "stream",
     "text": [
      "100%|██████████| 423/423 [00:35<00:00, 11.75it/s]\n"
     ]
    },
    {
     "name": "stdout",
     "output_type": "stream",
     "text": [
      "{'val_loss': 1.55310577786756, 'val_accuracy': 0.7096392667060911, 'precision': 0.7054953386974276, 'recall': 0.7096392667060911, 'f1-score': 0.6935183568831966, 'macro_f1-score': 0.4708913984001779, 'balanced_accuracy': 0.45633274659946316, 'mcc': 0.6128794407820074, 'train_loss': 0.22436078545476704}\n",
      "Epoch 13/20\n"
     ]
    },
    {
     "name": "stderr",
     "output_type": "stream",
     "text": [
      "100%|██████████| 423/423 [00:36<00:00, 11.73it/s]\n"
     ]
    },
    {
     "name": "stdout",
     "output_type": "stream",
     "text": [
      "{'val_loss': 1.6445207330837566, 'val_accuracy': 0.6972205795387345, 'precision': 0.6812750235305426, 'recall': 0.6972205795387345, 'f1-score': 0.6703145352094857, 'macro_f1-score': 0.4204573707494139, 'balanced_accuracy': 0.39136795914434297, 'mcc': 0.58965711053286, 'train_loss': 0.21966203346454383}\n",
      "Epoch 14/20\n"
     ]
    },
    {
     "name": "stderr",
     "output_type": "stream",
     "text": [
      "100%|██████████| 423/423 [00:36<00:00, 11.74it/s]\n"
     ]
    },
    {
     "name": "stdout",
     "output_type": "stream",
     "text": [
      "{'val_loss': 1.677787238696836, 'val_accuracy': 0.6877587226493199, 'precision': 0.6922293149874938, 'recall': 0.6877587226493199, 'f1-score': 0.6757931821309906, 'macro_f1-score': 0.44667179918414407, 'balanced_accuracy': 0.43181427856169485, 'mcc': 0.5891211324871051, 'train_loss': 0.2181545998174565}\n",
      "Early stopping.\n",
      "\n",
      "[Fold 5]\n",
      "Label distribution after resampling:\n",
      "  label 0: 3180\n",
      "  label 1: 24\n",
      "  label 2: 112\n",
      "  label 3: 24\n",
      "  label 4: 205\n",
      "  label 5: 116\n",
      "  label 6: 95\n",
      "  label 7: 31\n",
      "  label 8: 68\n",
      "  label 9: 65\n",
      "  label 10: 70\n",
      "  label 11: 172\n",
      "  label 12: 193\n",
      "  label 13: 29\n",
      "  label 14: 23\n",
      "  label 15: 25\n",
      "  label 16: 20\n",
      "  label 17: 231\n",
      "  label 18: 93\n",
      "  label 19: 44\n",
      "  label 20: 15\n",
      "  label 21: 35\n",
      "  label 22: 78\n",
      "  label 23: 160\n",
      "  label 24: 16\n",
      "  label 25: 50\n",
      "  label 26: 86\n",
      "  label 27: 48\n",
      "  label 28: 12\n",
      "  label 29: 13\n",
      "  label 30: 15\n",
      "  label 31: 80\n",
      "  label 32: 36\n",
      "  label 33: 32\n",
      "  label 34: 30\n",
      "  label 35: 12\n",
      "  label 36: 28\n",
      "  label 37: 21\n",
      "  label 38: 6\n",
      "  label 39: 104\n",
      "  label 40: 11\n",
      "  label 41: 9\n",
      "  label 42: 147\n",
      "  label 43: 16\n",
      "  label 44: 20\n",
      "  label 45: 9\n",
      "  label 46: 54\n",
      "  label 47: 529\n",
      "  label 48: 202\n",
      "  label 49: 70\n",
      "model is bert-base-uncased cnn\n",
      "Epoch 1/20\n"
     ]
    },
    {
     "name": "stderr",
     "output_type": "stream",
     "text": [
      "100%|██████████| 423/423 [00:36<00:00, 11.74it/s]\n"
     ]
    },
    {
     "name": "stdout",
     "output_type": "stream",
     "text": [
      "{'val_loss': 1.5834900241977763, 'val_accuracy': 0.6142011834319526, 'precision': 0.4915005615000772, 'recall': 0.6142011834319526, 'f1-score': 0.5048355121601741, 'macro_f1-score': 0.11164556055465408, 'balanced_accuracy': 0.114928771529862, 'mcc': 0.4428188211219008, 'train_loss': 1.8893402807819646}\n",
      "Epoch 2/20\n"
     ]
    },
    {
     "name": "stderr",
     "output_type": "stream",
     "text": [
      "100%|██████████| 423/423 [00:36<00:00, 11.73it/s]\n"
     ]
    },
    {
     "name": "stdout",
     "output_type": "stream",
     "text": [
      "{'val_loss': 1.3762715756893158, 'val_accuracy': 0.6355029585798817, 'precision': 0.6030944824541599, 'recall': 0.6355029585798817, 'f1-score': 0.6041784553480508, 'macro_f1-score': 0.22387290575103078, 'balanced_accuracy': 0.23975931378676996, 'mcc': 0.5267703024473106, 'train_loss': 1.3305218103506886}\n",
      "Epoch 3/20\n"
     ]
    },
    {
     "name": "stderr",
     "output_type": "stream",
     "text": [
      "100%|██████████| 423/423 [00:36<00:00, 11.72it/s]\n"
     ]
    },
    {
     "name": "stdout",
     "output_type": "stream",
     "text": [
      "{'val_loss': 1.2529403409867916, 'val_accuracy': 0.6804733727810651, 'precision': 0.648665348709725, 'recall': 0.6804733727810651, 'f1-score': 0.6394153982512021, 'macro_f1-score': 0.26704744701148203, 'balanced_accuracy': 0.2520736267933356, 'mcc': 0.562890775782211, 'train_loss': 1.0047212333966655}\n",
      "Epoch 4/20\n"
     ]
    },
    {
     "name": "stderr",
     "output_type": "stream",
     "text": [
      "100%|██████████| 423/423 [00:35<00:00, 11.76it/s]\n"
     ]
    },
    {
     "name": "stdout",
     "output_type": "stream",
     "text": [
      "{'val_loss': 1.283671553967134, 'val_accuracy': 0.6597633136094675, 'precision': 0.6564026780961258, 'recall': 0.6597633136094675, 'f1-score': 0.6443501407946639, 'macro_f1-score': 0.29976679554167673, 'balanced_accuracy': 0.3152309581189495, 'mcc': 0.5582164379361023, 'train_loss': 0.7401100332643968}\n",
      "Epoch 5/20\n"
     ]
    },
    {
     "name": "stderr",
     "output_type": "stream",
     "text": [
      "100%|██████████| 423/423 [00:36<00:00, 11.72it/s]\n"
     ]
    },
    {
     "name": "stdout",
     "output_type": "stream",
     "text": [
      "{'val_loss': 1.3475574370262757, 'val_accuracy': 0.6792899408284023, 'precision': 0.6459470300192691, 'recall': 0.6792899408284023, 'f1-score': 0.6552444188781991, 'macro_f1-score': 0.32649955326547286, 'balanced_accuracy': 0.31909440587105314, 'mcc': 0.5690158799956893, 'train_loss': 0.5501238656082756}\n",
      "Epoch 6/20\n"
     ]
    },
    {
     "name": "stderr",
     "output_type": "stream",
     "text": [
      "100%|██████████| 423/423 [00:36<00:00, 11.75it/s]\n"
     ]
    },
    {
     "name": "stdout",
     "output_type": "stream",
     "text": [
      "{'val_loss': 1.4379393284050923, 'val_accuracy': 0.6763313609467455, 'precision': 0.6694699234646158, 'recall': 0.6763313609467455, 'f1-score': 0.6663236959919097, 'macro_f1-score': 0.35552876962070684, 'balanced_accuracy': 0.3553754051066083, 'mcc': 0.5754410154976375, 'train_loss': 0.416426266673468}\n",
      "Epoch 7/20\n"
     ]
    },
    {
     "name": "stderr",
     "output_type": "stream",
     "text": [
      "100%|██████████| 423/423 [00:35<00:00, 11.76it/s]\n"
     ]
    },
    {
     "name": "stdout",
     "output_type": "stream",
     "text": [
      "{'val_loss': 1.5026599487887238, 'val_accuracy': 0.6857988165680473, 'precision': 0.6777883652131755, 'recall': 0.6857988165680473, 'f1-score': 0.6683667422131853, 'macro_f1-score': 0.3633656914123516, 'balanced_accuracy': 0.35651690172639255, 'mcc': 0.5797698375633731, 'train_loss': 0.32861148510744737}\n",
      "Epoch 8/20\n"
     ]
    },
    {
     "name": "stderr",
     "output_type": "stream",
     "text": [
      "100%|██████████| 423/423 [00:36<00:00, 11.72it/s]\n"
     ]
    },
    {
     "name": "stdout",
     "output_type": "stream",
     "text": [
      "{'val_loss': 1.6192847526860688, 'val_accuracy': 0.6869822485207101, 'precision': 0.6669261747044654, 'recall': 0.6869822485207101, 'f1-score': 0.661765001549769, 'macro_f1-score': 0.3558484685419841, 'balanced_accuracy': 0.32280694598951676, 'mcc': 0.5759665254858489, 'train_loss': 0.301672652063244}\n",
      "Epoch 9/20\n"
     ]
    },
    {
     "name": "stderr",
     "output_type": "stream",
     "text": [
      "100%|██████████| 423/423 [00:36<00:00, 11.74it/s]\n"
     ]
    },
    {
     "name": "stdout",
     "output_type": "stream",
     "text": [
      "{'val_loss': 1.6404506897307791, 'val_accuracy': 0.678698224852071, 'precision': 0.6776006126626247, 'recall': 0.678698224852071, 'f1-score': 0.6683490885417729, 'macro_f1-score': 0.3825636285515986, 'balanced_accuracy': 0.3701931748215109, 'mcc': 0.5754593310981384, 'train_loss': 0.2510792632965948}\n",
      "Epoch 10/20\n"
     ]
    },
    {
     "name": "stderr",
     "output_type": "stream",
     "text": [
      "100%|██████████| 423/423 [00:36<00:00, 11.74it/s]\n"
     ]
    },
    {
     "name": "stdout",
     "output_type": "stream",
     "text": [
      "{'val_loss': 1.6840931134966184, 'val_accuracy': 0.6674556213017752, 'precision': 0.6758916426972246, 'recall': 0.6674556213017752, 'f1-score': 0.6572892652309756, 'macro_f1-score': 0.353304819341001, 'balanced_accuracy': 0.3571751866558668, 'mcc': 0.5627917947342058, 'train_loss': 0.21918770754996061}\n",
      "Epoch 11/20\n"
     ]
    },
    {
     "name": "stderr",
     "output_type": "stream",
     "text": [
      "100%|██████████| 423/423 [00:36<00:00, 11.73it/s]\n"
     ]
    },
    {
     "name": "stdout",
     "output_type": "stream",
     "text": [
      "{'val_loss': 1.7213285919630303, 'val_accuracy': 0.6875739644970414, 'precision': 0.6615235459597354, 'recall': 0.6875739644970414, 'f1-score': 0.6643056905146731, 'macro_f1-score': 0.35559161526438826, 'balanced_accuracy': 0.33628788401281084, 'mcc': 0.5781868425831848, 'train_loss': 0.23258882276845952}\n",
      "Epoch 12/20\n"
     ]
    },
    {
     "name": "stderr",
     "output_type": "stream",
     "text": [
      "100%|██████████| 423/423 [00:36<00:00, 11.72it/s]\n"
     ]
    },
    {
     "name": "stdout",
     "output_type": "stream",
     "text": [
      "{'val_loss': 1.629290049017038, 'val_accuracy': 0.6739644970414201, 'precision': 0.6843450683733561, 'recall': 0.6739644970414201, 'f1-score': 0.6642989751289138, 'macro_f1-score': 0.3578492437786081, 'balanced_accuracy': 0.3562846222999078, 'mcc': 0.5722872737553337, 'train_loss': 0.2580422352984037}\n",
      "Early stopping.\n",
      "\n",
      " === bert-base-uncased + cnn + none Final 10-fold Cross-Validation Results ===\n",
      "Total time: 2802 seconds\n",
      "Total time: 0 hrs 46 mins 42 secs\n",
      "val_loss: 1.6329\n",
      "val_accuracy: 0.6854\n",
      "precision: 0.6762\n",
      "recall: 0.6854\n",
      "f1-score: 0.6694\n",
      "macro_f1-score: 0.4238\n",
      "balanced_accuracy: 0.4040\n",
      "mcc: 0.5802\n",
      "train_loss: 0.2717\n",
      "▶ Running: bert-base-uncased + lstm + none\n",
      "tokenizer is bert-base-uncased\n",
      "Using device: cuda\n",
      "CUDA Available: True\n",
      "CUDA Device: NVIDIA GeForce RTX 5070 Ti\n",
      "Current GPU Memory Allocated: 0.02 GB\n",
      "Current GPU Memory Cached: 3.14 GB\n",
      "\n",
      "[Fold 1]\n",
      "Label distribution after resampling:\n",
      "  label 0: 3179\n",
      "  label 1: 25\n",
      "  label 2: 112\n",
      "  label 3: 24\n",
      "  label 4: 205\n",
      "  label 5: 116\n",
      "  label 6: 95\n",
      "  label 7: 31\n",
      "  label 8: 68\n",
      "  label 9: 65\n",
      "  label 10: 70\n",
      "  label 11: 172\n",
      "  label 12: 193\n",
      "  label 13: 29\n",
      "  label 14: 23\n",
      "  label 15: 25\n",
      "  label 16: 20\n",
      "  label 17: 231\n",
      "  label 18: 93\n",
      "  label 19: 45\n",
      "  label 20: 14\n",
      "  label 21: 35\n",
      "  label 22: 78\n",
      "  label 23: 160\n",
      "  label 24: 16\n",
      "  label 25: 50\n",
      "  label 26: 86\n",
      "  label 27: 49\n",
      "  label 28: 12\n",
      "  label 29: 13\n",
      "  label 30: 15\n",
      "  label 31: 80\n",
      "  label 32: 36\n",
      "  label 33: 32\n",
      "  label 34: 30\n",
      "  label 35: 12\n",
      "  label 36: 28\n",
      "  label 37: 21\n",
      "  label 38: 6\n",
      "  label 39: 103\n",
      "  label 40: 12\n",
      "  label 41: 8\n",
      "  label 42: 147\n",
      "  label 43: 16\n",
      "  label 44: 20\n",
      "  label 45: 9\n",
      "  label 46: 54\n",
      "  label 47: 529\n",
      "  label 48: 202\n",
      "  label 49: 69\n",
      "model is bert-base-uncased lstm\n",
      "Epoch 1/20\n"
     ]
    },
    {
     "name": "stderr",
     "output_type": "stream",
     "text": [
      "100%|██████████| 423/423 [00:37<00:00, 11.26it/s]\n"
     ]
    },
    {
     "name": "stdout",
     "output_type": "stream",
     "text": [
      "{'val_loss': 1.760687344760265, 'val_accuracy': 0.5688941454760497, 'precision': 0.39647079541410324, 'recall': 0.5688941454760497, 'f1-score': 0.45734804092383474, 'macro_f1-score': 0.07750423862263082, 'balanced_accuracy': 0.09506532448250078, 'mcc': 0.36915156584538494, 'train_loss': 2.029777412437096}\n",
      "Epoch 2/20\n"
     ]
    },
    {
     "name": "stderr",
     "output_type": "stream",
     "text": [
      "100%|██████████| 423/423 [00:37<00:00, 11.17it/s]\n"
     ]
    },
    {
     "name": "stdout",
     "output_type": "stream",
     "text": [
      "{'val_loss': 1.480203923189415, 'val_accuracy': 0.6238911886457718, 'precision': 0.5119720916865781, 'recall': 0.6238911886457718, 'f1-score': 0.5475643150008181, 'macro_f1-score': 0.14832188620247794, 'balanced_accuracy': 0.15059315550421426, 'mcc': 0.4711780968802379, 'train_loss': 1.5672215904608968}\n",
      "Epoch 3/20\n"
     ]
    },
    {
     "name": "stderr",
     "output_type": "stream",
     "text": [
      "100%|██████████| 423/423 [00:37<00:00, 11.23it/s]\n"
     ]
    },
    {
     "name": "stdout",
     "output_type": "stream",
     "text": [
      "{'val_loss': 1.399458089808248, 'val_accuracy': 0.6439976345357776, 'precision': 0.6104250431923255, 'recall': 0.6439976345357776, 'f1-score': 0.5917900528541088, 'macro_f1-score': 0.2203355538617624, 'balanced_accuracy': 0.21622625116407604, 'mcc': 0.5139065292227705, 'train_loss': 1.2899911168337432}\n",
      "Epoch 4/20\n"
     ]
    },
    {
     "name": "stderr",
     "output_type": "stream",
     "text": [
      "100%|██████████| 423/423 [00:37<00:00, 11.20it/s]\n"
     ]
    },
    {
     "name": "stdout",
     "output_type": "stream",
     "text": [
      "{'val_loss': 1.3714580808608037, 'val_accuracy': 0.6528681253696038, 'precision': 0.593947396247628, 'recall': 0.6528681253696038, 'f1-score': 0.6071454515873672, 'macro_f1-score': 0.26358908805535, 'balanced_accuracy': 0.26964447817056425, 'mcc': 0.5264822123819028, 'train_loss': 1.0964871572757726}\n",
      "Epoch 5/20\n"
     ]
    },
    {
     "name": "stderr",
     "output_type": "stream",
     "text": [
      "100%|██████████| 423/423 [00:37<00:00, 11.15it/s]\n"
     ]
    },
    {
     "name": "stdout",
     "output_type": "stream",
     "text": [
      "{'val_loss': 1.408556453461917, 'val_accuracy': 0.6510940272028386, 'precision': 0.6027234067448037, 'recall': 0.6510940272028386, 'f1-score': 0.6035348612044114, 'macro_f1-score': 0.2625043588326281, 'balanced_accuracy': 0.26653957670037537, 'mcc': 0.5286761379255385, 'train_loss': 0.9416593708820095}\n",
      "Epoch 6/20\n"
     ]
    },
    {
     "name": "stderr",
     "output_type": "stream",
     "text": [
      "100%|██████████| 423/423 [00:37<00:00, 11.20it/s]\n"
     ]
    },
    {
     "name": "stdout",
     "output_type": "stream",
     "text": [
      "{'val_loss': 1.3728724133293584, 'val_accuracy': 0.6700177409816677, 'precision': 0.6268698410954912, 'recall': 0.6700177409816677, 'f1-score': 0.6368074241877937, 'macro_f1-score': 0.31320379491867806, 'balanced_accuracy': 0.3151500087213491, 'mcc': 0.5547461231106959, 'train_loss': 0.8040208485919815}\n",
      "Epoch 7/20\n"
     ]
    },
    {
     "name": "stderr",
     "output_type": "stream",
     "text": [
      "100%|██████████| 423/423 [00:37<00:00, 11.22it/s]\n"
     ]
    },
    {
     "name": "stdout",
     "output_type": "stream",
     "text": [
      "{'val_loss': 1.4041536211405161, 'val_accuracy': 0.6558249556475458, 'precision': 0.6421055562390429, 'recall': 0.6558249556475458, 'f1-score': 0.6356449632162169, 'macro_f1-score': 0.30264455431102044, 'balanced_accuracy': 0.30934239815881504, 'mcc': 0.5457314580120319, 'train_loss': 0.7073786623124253}\n",
      "Epoch 8/20\n"
     ]
    },
    {
     "name": "stderr",
     "output_type": "stream",
     "text": [
      "100%|██████████| 423/423 [00:37<00:00, 11.15it/s]\n"
     ]
    },
    {
     "name": "stdout",
     "output_type": "stream",
     "text": [
      "{'val_loss': 1.478864629313631, 'val_accuracy': 0.6528681253696038, 'precision': 0.628045588804901, 'recall': 0.6528681253696038, 'f1-score': 0.6301822023995137, 'macro_f1-score': 0.3082235041275024, 'balanced_accuracy': 0.3107975568443527, 'mcc': 0.5370371113309549, 'train_loss': 0.6124370737446045}\n",
      "Epoch 9/20\n"
     ]
    },
    {
     "name": "stderr",
     "output_type": "stream",
     "text": [
      "100%|██████████| 423/423 [00:37<00:00, 11.20it/s]\n"
     ]
    },
    {
     "name": "stdout",
     "output_type": "stream",
     "text": [
      "{'val_loss': 1.5391029650872607, 'val_accuracy': 0.664695446481372, 'precision': 0.6518740891077497, 'recall': 0.664695446481372, 'f1-score': 0.6433737652345104, 'macro_f1-score': 0.31801077211556694, 'balanced_accuracy': 0.30825268792831584, 'mcc': 0.5488122841791824, 'train_loss': 0.5701180633782776}\n",
      "Epoch 10/20\n"
     ]
    },
    {
     "name": "stderr",
     "output_type": "stream",
     "text": [
      "100%|██████████| 423/423 [00:37<00:00, 11.23it/s]\n"
     ]
    },
    {
     "name": "stdout",
     "output_type": "stream",
     "text": [
      "{'val_loss': 1.6022329161751945, 'val_accuracy': 0.6534594914251922, 'precision': 0.6259613575987009, 'recall': 0.6534594914251922, 'f1-score': 0.6270980646271468, 'macro_f1-score': 0.30500922507931627, 'balanced_accuracy': 0.283932436199565, 'mcc': 0.5304596096043426, 'train_loss': 0.5093042388487933}\n",
      "Epoch 11/20\n"
     ]
    },
    {
     "name": "stderr",
     "output_type": "stream",
     "text": [
      "100%|██████████| 423/423 [00:37<00:00, 11.19it/s]\n"
     ]
    },
    {
     "name": "stdout",
     "output_type": "stream",
     "text": [
      "{'val_loss': 1.4942637091537692, 'val_accuracy': 0.6688350088704909, 'precision': 0.6514831808930276, 'recall': 0.6688350088704909, 'f1-score': 0.6486802001580205, 'macro_f1-score': 0.3520091411136245, 'balanced_accuracy': 0.3426004477516965, 'mcc': 0.5555902236332553, 'train_loss': 0.47323909529592695}\n",
      "Epoch 12/20\n"
     ]
    },
    {
     "name": "stderr",
     "output_type": "stream",
     "text": [
      "100%|██████████| 423/423 [00:37<00:00, 11.23it/s]\n"
     ]
    },
    {
     "name": "stdout",
     "output_type": "stream",
     "text": [
      "{'val_loss': 1.608205329978241, 'val_accuracy': 0.6617386162034299, 'precision': 0.6384271439814604, 'recall': 0.6617386162034299, 'f1-score': 0.6378641627351536, 'macro_f1-score': 0.3246279771906386, 'balanced_accuracy': 0.3074156780457515, 'mcc': 0.5454518872365335, 'train_loss': 0.43981089300297677}\n",
      "Epoch 13/20\n"
     ]
    },
    {
     "name": "stderr",
     "output_type": "stream",
     "text": [
      "100%|██████████| 423/423 [00:37<00:00, 11.18it/s]\n"
     ]
    },
    {
     "name": "stdout",
     "output_type": "stream",
     "text": [
      "{'val_loss': 1.5836423090044058, 'val_accuracy': 0.654642223536369, 'precision': 0.6659702885366005, 'recall': 0.654642223536369, 'f1-score': 0.6498671671509209, 'macro_f1-score': 0.3775912444686756, 'balanced_accuracy': 0.38410784111002605, 'mcc': 0.5538758649923313, 'train_loss': 0.40191587063331974}\n",
      "Epoch 14/20\n"
     ]
    },
    {
     "name": "stderr",
     "output_type": "stream",
     "text": [
      "100%|██████████| 423/423 [00:37<00:00, 11.20it/s]\n"
     ]
    },
    {
     "name": "stdout",
     "output_type": "stream",
     "text": [
      "{'val_loss': 1.6251861602067947, 'val_accuracy': 0.6700177409816677, 'precision': 0.6631745175874629, 'recall': 0.6700177409816677, 'f1-score': 0.6555450237177876, 'macro_f1-score': 0.3764348951826379, 'balanced_accuracy': 0.361208919928788, 'mcc': 0.5584426203963156, 'train_loss': 0.3521589222617324}\n",
      "Epoch 15/20\n"
     ]
    },
    {
     "name": "stderr",
     "output_type": "stream",
     "text": [
      "100%|██████████| 423/423 [00:37<00:00, 11.18it/s]\n"
     ]
    },
    {
     "name": "stdout",
     "output_type": "stream",
     "text": [
      "{'val_loss': 1.6037985252321891, 'val_accuracy': 0.6694263749260793, 'precision': 0.6766450141534125, 'recall': 0.6694263749260793, 'f1-score': 0.6631374102976013, 'macro_f1-score': 0.4069578922830564, 'balanced_accuracy': 0.39947584930228935, 'mcc': 0.5666787810343876, 'train_loss': 0.3530493932677076}\n",
      "Epoch 16/20\n"
     ]
    },
    {
     "name": "stderr",
     "output_type": "stream",
     "text": [
      "100%|██████████| 423/423 [00:37<00:00, 11.21it/s]\n"
     ]
    },
    {
     "name": "stdout",
     "output_type": "stream",
     "text": [
      "{'val_loss': 1.7043947743357353, 'val_accuracy': 0.6735659373151981, 'precision': 0.6606481426721191, 'recall': 0.6735659373151981, 'f1-score': 0.6510493980173232, 'macro_f1-score': 0.37314724448540376, 'balanced_accuracy': 0.35699231235598816, 'mcc': 0.5597955172201468, 'train_loss': 0.3215294111361529}\n",
      "Epoch 17/20\n"
     ]
    },
    {
     "name": "stderr",
     "output_type": "stream",
     "text": [
      "100%|██████████| 423/423 [00:37<00:00, 11.17it/s]\n"
     ]
    },
    {
     "name": "stdout",
     "output_type": "stream",
     "text": [
      "{'val_loss': 1.6017351870266896, 'val_accuracy': 0.667652276759314, 'precision': 0.671478065188722, 'recall': 0.667652276759314, 'f1-score': 0.6614510345650757, 'macro_f1-score': 0.3855607797616019, 'balanced_accuracy': 0.3871137671689852, 'mcc': 0.5648490067252261, 'train_loss': 0.29743627769031494}\n",
      "Epoch 18/20\n"
     ]
    },
    {
     "name": "stderr",
     "output_type": "stream",
     "text": [
      "100%|██████████| 423/423 [00:37<00:00, 11.24it/s]\n"
     ]
    },
    {
     "name": "stdout",
     "output_type": "stream",
     "text": [
      "{'val_loss': 1.7229877679415468, 'val_accuracy': 0.6599645180366647, 'precision': 0.6682857932202028, 'recall': 0.6599645180366647, 'f1-score': 0.6517899786278998, 'macro_f1-score': 0.3817255376979572, 'balanced_accuracy': 0.37694847080223665, 'mcc': 0.5509129929682648, 'train_loss': 0.27976622347484387}\n",
      "Early stopping.\n",
      "\n",
      "[Fold 2]\n",
      "Label distribution after resampling:\n",
      "  label 0: 3179\n",
      "  label 1: 25\n",
      "  label 2: 112\n",
      "  label 3: 24\n",
      "  label 4: 206\n",
      "  label 5: 116\n",
      "  label 6: 94\n",
      "  label 7: 31\n",
      "  label 8: 68\n",
      "  label 9: 65\n",
      "  label 10: 70\n",
      "  label 11: 172\n",
      "  label 12: 193\n",
      "  label 13: 29\n",
      "  label 14: 23\n",
      "  label 15: 25\n",
      "  label 16: 20\n",
      "  label 17: 231\n",
      "  label 18: 93\n",
      "  label 19: 45\n",
      "  label 20: 14\n",
      "  label 21: 35\n",
      "  label 22: 78\n",
      "  label 23: 160\n",
      "  label 24: 16\n",
      "  label 25: 50\n",
      "  label 26: 86\n",
      "  label 27: 49\n",
      "  label 28: 12\n",
      "  label 29: 13\n",
      "  label 30: 15\n",
      "  label 31: 80\n",
      "  label 32: 36\n",
      "  label 33: 32\n",
      "  label 34: 30\n",
      "  label 35: 12\n",
      "  label 36: 28\n",
      "  label 37: 22\n",
      "  label 38: 5\n",
      "  label 39: 103\n",
      "  label 40: 11\n",
      "  label 41: 9\n",
      "  label 42: 147\n",
      "  label 43: 16\n",
      "  label 44: 20\n",
      "  label 45: 9\n",
      "  label 46: 55\n",
      "  label 47: 528\n",
      "  label 48: 202\n",
      "  label 49: 69\n",
      "model is bert-base-uncased lstm\n",
      "Epoch 1/20\n"
     ]
    },
    {
     "name": "stderr",
     "output_type": "stream",
     "text": [
      "100%|██████████| 423/423 [00:37<00:00, 11.18it/s]\n"
     ]
    },
    {
     "name": "stdout",
     "output_type": "stream",
     "text": [
      "{'val_loss': 1.829150308415575, 'val_accuracy': 0.5813128326434063, 'precision': 0.3646211243459023, 'recall': 0.5813128326434063, 'f1-score': 0.4453963189512344, 'macro_f1-score': 0.054309815863097556, 'balanced_accuracy': 0.0666660188302284, 'mcc': 0.37938834564349116, 'train_loss': 2.0849953878574055}\n",
      "Epoch 2/20\n"
     ]
    },
    {
     "name": "stderr",
     "output_type": "stream",
     "text": [
      "100%|██████████| 423/423 [00:37<00:00, 11.23it/s]\n"
     ]
    },
    {
     "name": "stdout",
     "output_type": "stream",
     "text": [
      "{'val_loss': 1.619424581246556, 'val_accuracy': 0.5996451803666469, 'precision': 0.42848713128540344, 'recall': 0.5996451803666469, 'f1-score': 0.4850782237286578, 'macro_f1-score': 0.08282352069374793, 'balanced_accuracy': 0.10434432350826164, 'mcc': 0.42644214453270923, 'train_loss': 1.6412116612525696}\n",
      "Epoch 3/20\n"
     ]
    },
    {
     "name": "stderr",
     "output_type": "stream",
     "text": [
      "100%|██████████| 423/423 [00:37<00:00, 11.21it/s]\n"
     ]
    },
    {
     "name": "stdout",
     "output_type": "stream",
     "text": [
      "{'val_loss': 1.5078969136723932, 'val_accuracy': 0.6363098758131284, 'precision': 0.5349887883108708, 'recall': 0.6363098758131284, 'f1-score': 0.5682416223476119, 'macro_f1-score': 0.15500010374869527, 'balanced_accuracy': 0.160939895280581, 'mcc': 0.4927056312741925, 'train_loss': 1.38416969057516}\n",
      "Epoch 4/20\n"
     ]
    },
    {
     "name": "stderr",
     "output_type": "stream",
     "text": [
      "100%|██████████| 423/423 [00:37<00:00, 11.16it/s]\n"
     ]
    },
    {
     "name": "stdout",
     "output_type": "stream",
     "text": [
      "{'val_loss': 1.468791848927174, 'val_accuracy': 0.615612063867534, 'precision': 0.5550308886543944, 'recall': 0.615612063867534, 'f1-score': 0.5694883793118583, 'macro_f1-score': 0.16867093399433394, 'balanced_accuracy': 0.17622607243169258, 'mcc': 0.47299884234196016, 'train_loss': 1.1933184630341}\n",
      "Epoch 5/20\n"
     ]
    },
    {
     "name": "stderr",
     "output_type": "stream",
     "text": [
      "100%|██████████| 423/423 [00:37<00:00, 11.22it/s]\n"
     ]
    },
    {
     "name": "stdout",
     "output_type": "stream",
     "text": [
      "{'val_loss': 1.4533181848391048, 'val_accuracy': 0.6422235363690124, 'precision': 0.6071620786127088, 'recall': 0.6422235363690124, 'f1-score': 0.6133727737542634, 'macro_f1-score': 0.231781075692985, 'balanced_accuracy': 0.22836518835685637, 'mcc': 0.5184241654634522, 'train_loss': 1.025141312439109}\n",
      "Epoch 6/20\n"
     ]
    },
    {
     "name": "stderr",
     "output_type": "stream",
     "text": [
      "100%|██████████| 423/423 [00:37<00:00, 11.21it/s]\n"
     ]
    },
    {
     "name": "stdout",
     "output_type": "stream",
     "text": [
      "{'val_loss': 1.4538752104876176, 'val_accuracy': 0.6487285629804849, 'precision': 0.6253631825139245, 'recall': 0.6487285629804849, 'f1-score': 0.6220749233677615, 'macro_f1-score': 0.2527417162117094, 'balanced_accuracy': 0.2668010290924675, 'mcc': 0.5313928740988587, 'train_loss': 0.8819477264868453}\n",
      "Epoch 7/20\n"
     ]
    },
    {
     "name": "stderr",
     "output_type": "stream",
     "text": [
      "100%|██████████| 423/423 [00:37<00:00, 11.18it/s]\n"
     ]
    },
    {
     "name": "stdout",
     "output_type": "stream",
     "text": [
      "{'val_loss': 1.4005998269004643, 'val_accuracy': 0.6670609107037256, 'precision': 0.6305666154707501, 'recall': 0.6670609107037256, 'f1-score': 0.6399788558554392, 'macro_f1-score': 0.273029223885038, 'balanced_accuracy': 0.2805395692720727, 'mcc': 0.5508218345545909, 'train_loss': 0.7723096465740361}\n",
      "Epoch 8/20\n"
     ]
    },
    {
     "name": "stderr",
     "output_type": "stream",
     "text": [
      "100%|██████████| 423/423 [00:37<00:00, 11.20it/s]\n"
     ]
    },
    {
     "name": "stdout",
     "output_type": "stream",
     "text": [
      "{'val_loss': 1.475305919658463, 'val_accuracy': 0.6706091070372561, 'precision': 0.6575426833210661, 'recall': 0.6706091070372561, 'f1-score': 0.64483240354692, 'macro_f1-score': 0.3165472063509357, 'balanced_accuracy': 0.30311154975643606, 'mcc': 0.5589607701690992, 'train_loss': 0.6809116615506492}\n",
      "Epoch 9/20\n"
     ]
    },
    {
     "name": "stderr",
     "output_type": "stream",
     "text": [
      "100%|██████████| 423/423 [00:37<00:00, 11.26it/s]\n"
     ]
    },
    {
     "name": "stdout",
     "output_type": "stream",
     "text": [
      "{'val_loss': 1.479005958814666, 'val_accuracy': 0.6670609107037256, 'precision': 0.6396355346520606, 'recall': 0.6670609107037256, 'f1-score': 0.6417982888392759, 'macro_f1-score': 0.32405764093469225, 'balanced_accuracy': 0.31866047200795705, 'mcc': 0.5533753078502959, 'train_loss': 0.6235368017538783}\n",
      "Epoch 10/20\n"
     ]
    },
    {
     "name": "stderr",
     "output_type": "stream",
     "text": [
      "100%|██████████| 423/423 [00:37<00:00, 11.18it/s]\n"
     ]
    },
    {
     "name": "stdout",
     "output_type": "stream",
     "text": [
      "{'val_loss': 1.4967905851608176, 'val_accuracy': 0.6806623299822591, 'precision': 0.6478262768210903, 'recall': 0.6806623299822591, 'f1-score': 0.6496981866703271, 'macro_f1-score': 0.3041748096151894, 'balanced_accuracy': 0.2882024448297898, 'mcc': 0.5657557681605129, 'train_loss': 0.5616964797619246}\n",
      "Epoch 11/20\n"
     ]
    },
    {
     "name": "stderr",
     "output_type": "stream",
     "text": [
      "100%|██████████| 423/423 [00:37<00:00, 11.24it/s]\n"
     ]
    },
    {
     "name": "stdout",
     "output_type": "stream",
     "text": [
      "{'val_loss': 1.4896501445404764, 'val_accuracy': 0.6723832052040213, 'precision': 0.66241070304026, 'recall': 0.6723832052040213, 'f1-score': 0.6574110390718938, 'macro_f1-score': 0.35310859559851393, 'balanced_accuracy': 0.3635135625805759, 'mcc': 0.5683161420833347, 'train_loss': 0.536863941302959}\n",
      "Epoch 12/20\n"
     ]
    },
    {
     "name": "stderr",
     "output_type": "stream",
     "text": [
      "100%|██████████| 423/423 [00:37<00:00, 11.17it/s]\n"
     ]
    },
    {
     "name": "stdout",
     "output_type": "stream",
     "text": [
      "{'val_loss': 1.4974311009611723, 'val_accuracy': 0.6729745712596097, 'precision': 0.6635771454658564, 'recall': 0.6729745712596097, 'f1-score': 0.6598393887564957, 'macro_f1-score': 0.3329805704652071, 'balanced_accuracy': 0.33169832482951267, 'mcc': 0.5670377076429888, 'train_loss': 0.4834546772168672}\n",
      "Epoch 13/20\n"
     ]
    },
    {
     "name": "stderr",
     "output_type": "stream",
     "text": [
      "100%|██████████| 423/423 [00:37<00:00, 11.18it/s]\n"
     ]
    },
    {
     "name": "stdout",
     "output_type": "stream",
     "text": [
      "{'val_loss': 1.5413235622756887, 'val_accuracy': 0.6605558840922531, 'precision': 0.6481887345447614, 'recall': 0.6605558840922531, 'f1-score': 0.6387876563451498, 'macro_f1-score': 0.30301606835544137, 'balanced_accuracy': 0.29091506597880423, 'mcc': 0.5470480037808034, 'train_loss': 0.431171960756623}\n",
      "Epoch 14/20\n"
     ]
    },
    {
     "name": "stderr",
     "output_type": "stream",
     "text": [
      "100%|██████████| 423/423 [00:37<00:00, 11.19it/s]\n"
     ]
    },
    {
     "name": "stdout",
     "output_type": "stream",
     "text": [
      "{'val_loss': 1.5249967478075117, 'val_accuracy': 0.6853932584269663, 'precision': 0.6666222629996489, 'recall': 0.6853932584269663, 'f1-score': 0.6697185860016587, 'macro_f1-score': 0.3757570543362784, 'balanced_accuracy': 0.3685274213280283, 'mcc': 0.5815382957666626, 'train_loss': 0.39824441191575205}\n",
      "Epoch 15/20\n"
     ]
    },
    {
     "name": "stderr",
     "output_type": "stream",
     "text": [
      "100%|██████████| 423/423 [00:37<00:00, 11.23it/s]\n"
     ]
    },
    {
     "name": "stdout",
     "output_type": "stream",
     "text": [
      "{'val_loss': 1.633780262520853, 'val_accuracy': 0.6853932584269663, 'precision': 0.6792364581041075, 'recall': 0.6853932584269663, 'f1-score': 0.6614131550224325, 'macro_f1-score': 0.3764233669631909, 'balanced_accuracy': 0.3703551073409085, 'mcc': 0.5752790851541466, 'train_loss': 0.3646865190572632}\n",
      "Epoch 16/20\n"
     ]
    },
    {
     "name": "stderr",
     "output_type": "stream",
     "text": [
      "100%|██████████| 423/423 [00:37<00:00, 11.17it/s]\n"
     ]
    },
    {
     "name": "stdout",
     "output_type": "stream",
     "text": [
      "{'val_loss': 1.5716410065596957, 'val_accuracy': 0.6747486694263749, 'precision': 0.6705693897880498, 'recall': 0.6747486694263749, 'f1-score': 0.661410910346277, 'macro_f1-score': 0.38021821368309233, 'balanced_accuracy': 0.38062984228459634, 'mcc': 0.569571718345752, 'train_loss': 0.336542968074604}\n",
      "Epoch 17/20\n"
     ]
    },
    {
     "name": "stderr",
     "output_type": "stream",
     "text": [
      "100%|██████████| 423/423 [00:37<00:00, 11.23it/s]\n"
     ]
    },
    {
     "name": "stdout",
     "output_type": "stream",
     "text": [
      "{'val_loss': 1.5857669769452427, 'val_accuracy': 0.6782968657599053, 'precision': 0.6785969264172279, 'recall': 0.6782968657599053, 'f1-score': 0.6673804976691315, 'macro_f1-score': 0.38166051274294505, 'balanced_accuracy': 0.377854665311381, 'mcc': 0.5744895664437497, 'train_loss': 0.31701008945122255}\n",
      "Epoch 18/20\n"
     ]
    },
    {
     "name": "stderr",
     "output_type": "stream",
     "text": [
      "100%|██████████| 423/423 [00:37<00:00, 11.21it/s]\n"
     ]
    },
    {
     "name": "stdout",
     "output_type": "stream",
     "text": [
      "{'val_loss': 1.637294329808287, 'val_accuracy': 0.6706091070372561, 'precision': 0.6619313507713301, 'recall': 0.6706091070372561, 'f1-score': 0.6540564560728852, 'macro_f1-score': 0.3509503510124671, 'balanced_accuracy': 0.3374806630871266, 'mcc': 0.5612288111954272, 'train_loss': 0.3050510352653568}\n",
      "Epoch 19/20\n"
     ]
    },
    {
     "name": "stderr",
     "output_type": "stream",
     "text": [
      "100%|██████████| 423/423 [00:37<00:00, 11.21it/s]\n"
     ]
    },
    {
     "name": "stdout",
     "output_type": "stream",
     "text": [
      "{'val_loss': 1.6608690608925414, 'val_accuracy': 0.6747486694263749, 'precision': 0.6708180916164732, 'recall': 0.6747486694263749, 'f1-score': 0.6588828353401289, 'macro_f1-score': 0.38596827887641455, 'balanced_accuracy': 0.3631578680616455, 'mcc': 0.5658881364583822, 'train_loss': 0.2948407354956189}\n",
      "Epoch 20/20\n"
     ]
    },
    {
     "name": "stderr",
     "output_type": "stream",
     "text": [
      "100%|██████████| 423/423 [00:37<00:00, 11.23it/s]\n"
     ]
    },
    {
     "name": "stdout",
     "output_type": "stream",
     "text": [
      "{'val_loss': 1.6002708088676885, 'val_accuracy': 0.6605558840922531, 'precision': 0.6848326558153024, 'recall': 0.6605558840922531, 'f1-score': 0.6590337415572497, 'macro_f1-score': 0.3814083473581936, 'balanced_accuracy': 0.36819266010381907, 'mcc': 0.5560280646245783, 'train_loss': 0.34494087289375897}\n",
      "\n",
      "[Fold 3]\n",
      "Label distribution after resampling:\n",
      "  label 0: 3179\n",
      "  label 1: 25\n",
      "  label 2: 112\n",
      "  label 3: 24\n",
      "  label 4: 206\n",
      "  label 5: 116\n",
      "  label 6: 94\n",
      "  label 7: 31\n",
      "  label 8: 68\n",
      "  label 9: 65\n",
      "  label 10: 71\n",
      "  label 11: 172\n",
      "  label 12: 192\n",
      "  label 13: 29\n",
      "  label 14: 23\n",
      "  label 15: 25\n",
      "  label 16: 20\n",
      "  label 17: 231\n",
      "  label 18: 93\n",
      "  label 19: 45\n",
      "  label 20: 14\n",
      "  label 21: 36\n",
      "  label 22: 77\n",
      "  label 23: 160\n",
      "  label 24: 16\n",
      "  label 25: 51\n",
      "  label 26: 85\n",
      "  label 27: 49\n",
      "  label 28: 12\n",
      "  label 29: 12\n",
      "  label 30: 16\n",
      "  label 31: 80\n",
      "  label 32: 36\n",
      "  label 33: 32\n",
      "  label 34: 29\n",
      "  label 35: 12\n",
      "  label 36: 28\n",
      "  label 37: 22\n",
      "  label 38: 5\n",
      "  label 39: 103\n",
      "  label 40: 11\n",
      "  label 41: 9\n",
      "  label 42: 147\n",
      "  label 43: 16\n",
      "  label 44: 20\n",
      "  label 45: 9\n",
      "  label 46: 55\n",
      "  label 47: 529\n",
      "  label 48: 201\n",
      "  label 49: 70\n",
      "model is bert-base-uncased lstm\n",
      "Epoch 1/20\n"
     ]
    },
    {
     "name": "stderr",
     "output_type": "stream",
     "text": [
      "100%|██████████| 423/423 [00:37<00:00, 11.16it/s]\n"
     ]
    },
    {
     "name": "stdout",
     "output_type": "stream",
     "text": [
      "{'val_loss': 1.7245688174130782, 'val_accuracy': 0.5771732702542874, 'precision': 0.44970430395512334, 'recall': 0.5771732702542874, 'f1-score': 0.48527697192306024, 'macro_f1-score': 0.06787992625630968, 'balanced_accuracy': 0.09576340468168104, 'mcc': 0.4049808614878791, 'train_loss': 2.0565340025768775}\n",
      "Epoch 2/20\n"
     ]
    },
    {
     "name": "stderr",
     "output_type": "stream",
     "text": [
      "100%|██████████| 423/423 [00:37<00:00, 11.23it/s]\n"
     ]
    },
    {
     "name": "stdout",
     "output_type": "stream",
     "text": [
      "{'val_loss': 1.5194669478344467, 'val_accuracy': 0.6203429923122413, 'precision': 0.5104906780180749, 'recall': 0.6203429923122413, 'f1-score': 0.5450151785088805, 'macro_f1-score': 0.1365818934989161, 'balanced_accuracy': 0.15124407166962642, 'mcc': 0.47637687140362606, 'train_loss': 1.5585046707879284}\n",
      "Epoch 3/20\n"
     ]
    },
    {
     "name": "stderr",
     "output_type": "stream",
     "text": [
      "100%|██████████| 423/423 [00:37<00:00, 11.21it/s]\n"
     ]
    },
    {
     "name": "stdout",
     "output_type": "stream",
     "text": [
      "{'val_loss': 1.4369208194174856, 'val_accuracy': 0.6244825547013602, 'precision': 0.5520749325968729, 'recall': 0.6244825547013602, 'f1-score': 0.5691346559093398, 'macro_f1-score': 0.17468771506577127, 'balanced_accuracy': 0.19314921179514755, 'mcc': 0.49722665552486295, 'train_loss': 1.318546897976111}\n",
      "Epoch 4/20\n"
     ]
    },
    {
     "name": "stderr",
     "output_type": "stream",
     "text": [
      "100%|██████████| 423/423 [00:37<00:00, 11.19it/s]\n"
     ]
    },
    {
     "name": "stdout",
     "output_type": "stream",
     "text": [
      "{'val_loss': 1.4074073118983574, 'val_accuracy': 0.6309875813128326, 'precision': 0.5992776560229567, 'recall': 0.6309875813128326, 'f1-score': 0.5952588015001382, 'macro_f1-score': 0.20984277334568355, 'balanced_accuracy': 0.21256618157490004, 'mcc': 0.5037999797629309, 'train_loss': 1.1252209787954957}\n",
      "Epoch 5/20\n"
     ]
    },
    {
     "name": "stderr",
     "output_type": "stream",
     "text": [
      "100%|██████████| 423/423 [00:37<00:00, 11.19it/s]\n"
     ]
    },
    {
     "name": "stdout",
     "output_type": "stream",
     "text": [
      "{'val_loss': 1.4160341710414526, 'val_accuracy': 0.6534594914251922, 'precision': 0.5910951688264581, 'recall': 0.6534594914251922, 'f1-score': 0.5995374356114674, 'macro_f1-score': 0.2241266140808694, 'balanced_accuracy': 0.21627566358107975, 'mcc': 0.5202074989904237, 'train_loss': 0.9535998553389917}\n",
      "Epoch 6/20\n"
     ]
    },
    {
     "name": "stderr",
     "output_type": "stream",
     "text": [
      "100%|██████████| 423/423 [00:37<00:00, 11.25it/s]\n"
     ]
    },
    {
     "name": "stdout",
     "output_type": "stream",
     "text": [
      "{'val_loss': 1.4304783434238073, 'val_accuracy': 0.6369012418687168, 'precision': 0.6404609390789623, 'recall': 0.6369012418687168, 'f1-score': 0.6265647281949337, 'macro_f1-score': 0.27386578469179834, 'balanced_accuracy': 0.2885902423305512, 'mcc': 0.5249659702999568, 'train_loss': 0.840424544633703}\n",
      "Epoch 7/20\n"
     ]
    },
    {
     "name": "stderr",
     "output_type": "stream",
     "text": [
      "100%|██████████| 423/423 [00:37<00:00, 11.16it/s]\n"
     ]
    },
    {
     "name": "stdout",
     "output_type": "stream",
     "text": [
      "{'val_loss': 1.4759340651755064, 'val_accuracy': 0.6451803666469544, 'precision': 0.6494765010746429, 'recall': 0.6451803666469544, 'f1-score': 0.6292002405163094, 'macro_f1-score': 0.29171626463576644, 'balanced_accuracy': 0.2840866895239427, 'mcc': 0.5292516142326871, 'train_loss': 0.7382173331599708}\n",
      "Epoch 8/20\n"
     ]
    },
    {
     "name": "stderr",
     "output_type": "stream",
     "text": [
      "100%|██████████| 423/423 [00:37<00:00, 11.23it/s]\n"
     ]
    },
    {
     "name": "stdout",
     "output_type": "stream",
     "text": [
      "{'val_loss': 1.446363071225724, 'val_accuracy': 0.6581904198698995, 'precision': 0.6625245695766699, 'recall': 0.6581904198698995, 'f1-score': 0.646036735231921, 'macro_f1-score': 0.33501351905750903, 'balanced_accuracy': 0.34772157245994245, 'mcc': 0.5558547091146497, 'train_loss': 0.6404277146496671}\n",
      "Epoch 9/20\n"
     ]
    },
    {
     "name": "stderr",
     "output_type": "stream",
     "text": [
      "100%|██████████| 423/423 [00:37<00:00, 11.19it/s]\n"
     ]
    },
    {
     "name": "stdout",
     "output_type": "stream",
     "text": [
      "{'val_loss': 1.5238505247628913, 'val_accuracy': 0.6558249556475458, 'precision': 0.621174485702362, 'recall': 0.6558249556475458, 'f1-score': 0.6225427086079338, 'macro_f1-score': 0.3164985382106027, 'balanced_accuracy': 0.3010327051636527, 'mcc': 0.5308697062917659, 'train_loss': 0.5623118439623227}\n",
      "Epoch 10/20\n"
     ]
    },
    {
     "name": "stderr",
     "output_type": "stream",
     "text": [
      "100%|██████████| 423/423 [00:37<00:00, 11.15it/s]\n"
     ]
    },
    {
     "name": "stdout",
     "output_type": "stream",
     "text": [
      "{'val_loss': 1.5528539188627928, 'val_accuracy': 0.6581904198698995, 'precision': 0.6576543128573007, 'recall': 0.6581904198698995, 'f1-score': 0.6429937430485044, 'macro_f1-score': 0.3450832155084806, 'balanced_accuracy': 0.3570335344306498, 'mcc': 0.5500998914964249, 'train_loss': 0.5232230083836379}\n",
      "Epoch 11/20\n"
     ]
    },
    {
     "name": "stderr",
     "output_type": "stream",
     "text": [
      "100%|██████████| 423/423 [00:37<00:00, 11.20it/s]\n"
     ]
    },
    {
     "name": "stdout",
     "output_type": "stream",
     "text": [
      "{'val_loss': 1.4824346056524313, 'val_accuracy': 0.6635127143701951, 'precision': 0.6531667728269561, 'recall': 0.6635127143701951, 'f1-score': 0.643056962867769, 'macro_f1-score': 0.34482430956383814, 'balanced_accuracy': 0.3482449278513352, 'mcc': 0.5512631670864075, 'train_loss': 0.4705785512395784}\n",
      "Epoch 12/20\n"
     ]
    },
    {
     "name": "stderr",
     "output_type": "stream",
     "text": [
      "100%|██████████| 423/423 [00:37<00:00, 11.22it/s]\n"
     ]
    },
    {
     "name": "stdout",
     "output_type": "stream",
     "text": [
      "{'val_loss': 1.5015946314582285, 'val_accuracy': 0.6564163217031342, 'precision': 0.6511163407367991, 'recall': 0.6564163217031342, 'f1-score': 0.6446124639578167, 'macro_f1-score': 0.3350203754383253, 'balanced_accuracy': 0.33832051137895935, 'mcc': 0.5488332532859082, 'train_loss': 0.43099559049163866}\n",
      "Epoch 13/20\n"
     ]
    },
    {
     "name": "stderr",
     "output_type": "stream",
     "text": [
      "100%|██████████| 423/423 [00:37<00:00, 11.16it/s]\n"
     ]
    },
    {
     "name": "stdout",
     "output_type": "stream",
     "text": [
      "{'val_loss': 1.5832144570238185, 'val_accuracy': 0.6629213483146067, 'precision': 0.6712875921783035, 'recall': 0.6629213483146067, 'f1-score': 0.648026759129426, 'macro_f1-score': 0.34848634322466604, 'balanced_accuracy': 0.3367089671871259, 'mcc': 0.5585754183959543, 'train_loss': 0.3895794644502672}\n",
      "Epoch 14/20\n"
     ]
    },
    {
     "name": "stderr",
     "output_type": "stream",
     "text": [
      "100%|██████████| 423/423 [00:37<00:00, 11.20it/s]\n"
     ]
    },
    {
     "name": "stdout",
     "output_type": "stream",
     "text": [
      "{'val_loss': 1.615764208278566, 'val_accuracy': 0.6505026611472502, 'precision': 0.6529361509945875, 'recall': 0.6505026611472502, 'f1-score': 0.6377392295304846, 'macro_f1-score': 0.33917892052269877, 'balanced_accuracy': 0.33569228832667036, 'mcc': 0.5334014227712192, 'train_loss': 0.36313048444565027}\n",
      "Epoch 15/20\n"
     ]
    },
    {
     "name": "stderr",
     "output_type": "stream",
     "text": [
      "100%|██████████| 423/423 [00:37<00:00, 11.22it/s]\n"
     ]
    },
    {
     "name": "stdout",
     "output_type": "stream",
     "text": [
      "{'val_loss': 1.6398235143355604, 'val_accuracy': 0.6564163217031342, 'precision': 0.6415861962541526, 'recall': 0.6564163217031342, 'f1-score': 0.6348928729458818, 'macro_f1-score': 0.3523369824730386, 'balanced_accuracy': 0.33788738036859295, 'mcc': 0.539788072732893, 'train_loss': 0.3397732569965981}\n",
      "Epoch 16/20\n"
     ]
    },
    {
     "name": "stderr",
     "output_type": "stream",
     "text": [
      "100%|██████████| 423/423 [00:37<00:00, 11.18it/s]\n"
     ]
    },
    {
     "name": "stdout",
     "output_type": "stream",
     "text": [
      "{'val_loss': 1.5883165288646266, 'val_accuracy': 0.6629213483146067, 'precision': 0.6804356364543676, 'recall': 0.6629213483146067, 'f1-score': 0.6571771451472638, 'macro_f1-score': 0.3874662971487199, 'balanced_accuracy': 0.3844424837488882, 'mcc': 0.5540032900468592, 'train_loss': 0.3337652665732459}\n",
      "Epoch 17/20\n"
     ]
    },
    {
     "name": "stderr",
     "output_type": "stream",
     "text": [
      "100%|██████████| 423/423 [00:37<00:00, 11.23it/s]\n"
     ]
    },
    {
     "name": "stdout",
     "output_type": "stream",
     "text": [
      "{'val_loss': 1.606818144051534, 'val_accuracy': 0.6558249556475458, 'precision': 0.6589538382953567, 'recall': 0.6558249556475458, 'f1-score': 0.6431258233366732, 'macro_f1-score': 0.33428279223306306, 'balanced_accuracy': 0.32682481493616633, 'mcc': 0.5424981833090564, 'train_loss': 0.34115725781231343}\n",
      "Epoch 18/20\n"
     ]
    },
    {
     "name": "stderr",
     "output_type": "stream",
     "text": [
      "100%|██████████| 423/423 [00:37<00:00, 11.15it/s]\n"
     ]
    },
    {
     "name": "stdout",
     "output_type": "stream",
     "text": [
      "{'val_loss': 1.5908135035127964, 'val_accuracy': 0.6741573033707865, 'precision': 0.6739348041731557, 'recall': 0.6741573033707865, 'f1-score': 0.6629907629269962, 'macro_f1-score': 0.39023671358988876, 'balanced_accuracy': 0.37960063312541414, 'mcc': 0.5666578253720478, 'train_loss': 0.3102739892688626}\n",
      "Epoch 19/20\n"
     ]
    },
    {
     "name": "stderr",
     "output_type": "stream",
     "text": [
      "100%|██████████| 423/423 [00:37<00:00, 11.20it/s]\n"
     ]
    },
    {
     "name": "stdout",
     "output_type": "stream",
     "text": [
      "{'val_loss': 1.6163934578873076, 'val_accuracy': 0.6682436428149024, 'precision': 0.6757059884980566, 'recall': 0.6682436428149024, 'f1-score': 0.6579831960317717, 'macro_f1-score': 0.3785015226022627, 'balanced_accuracy': 0.3581029026304375, 'mcc': 0.5620676951589815, 'train_loss': 0.29020398700869604}\n",
      "Epoch 20/20\n"
     ]
    },
    {
     "name": "stderr",
     "output_type": "stream",
     "text": [
      "100%|██████████| 423/423 [00:37<00:00, 11.18it/s]\n"
     ]
    },
    {
     "name": "stdout",
     "output_type": "stream",
     "text": [
      "{'val_loss': 1.6708740338964283, 'val_accuracy': 0.6765227675931401, 'precision': 0.6681377151684608, 'recall': 0.6765227675931401, 'f1-score': 0.6633027335076985, 'macro_f1-score': 0.37284527961070446, 'balanced_accuracy': 0.3744502721859129, 'mcc': 0.5693753320306746, 'train_loss': 0.2898994580100579}\n",
      "\n",
      "[Fold 4]\n",
      "Label distribution after resampling:\n",
      "  label 0: 3179\n",
      "  label 1: 25\n",
      "  label 2: 112\n",
      "  label 3: 24\n",
      "  label 4: 206\n",
      "  label 5: 116\n",
      "  label 6: 94\n",
      "  label 7: 32\n",
      "  label 8: 68\n",
      "  label 9: 64\n",
      "  label 10: 71\n",
      "  label 11: 172\n",
      "  label 12: 193\n",
      "  label 13: 28\n",
      "  label 14: 24\n",
      "  label 15: 24\n",
      "  label 16: 20\n",
      "  label 17: 232\n",
      "  label 18: 92\n",
      "  label 19: 45\n",
      "  label 20: 15\n",
      "  label 21: 35\n",
      "  label 22: 77\n",
      "  label 23: 160\n",
      "  label 24: 16\n",
      "  label 25: 51\n",
      "  label 26: 85\n",
      "  label 27: 49\n",
      "  label 28: 12\n",
      "  label 29: 13\n",
      "  label 30: 15\n",
      "  label 31: 80\n",
      "  label 32: 36\n",
      "  label 33: 32\n",
      "  label 34: 29\n",
      "  label 35: 12\n",
      "  label 36: 28\n",
      "  label 37: 22\n",
      "  label 38: 6\n",
      "  label 39: 103\n",
      "  label 40: 11\n",
      "  label 41: 9\n",
      "  label 42: 148\n",
      "  label 43: 16\n",
      "  label 44: 20\n",
      "  label 45: 8\n",
      "  label 46: 54\n",
      "  label 47: 529\n",
      "  label 48: 201\n",
      "  label 49: 70\n",
      "model is bert-base-uncased lstm\n",
      "Epoch 1/20\n"
     ]
    },
    {
     "name": "stderr",
     "output_type": "stream",
     "text": [
      "100%|██████████| 423/423 [00:37<00:00, 11.19it/s]\n"
     ]
    },
    {
     "name": "stdout",
     "output_type": "stream",
     "text": [
      "{'val_loss': 1.7514608912872818, 'val_accuracy': 0.5931401537551745, 'precision': 0.3877032341662357, 'recall': 0.5931401537551745, 'f1-score': 0.46414106220681806, 'macro_f1-score': 0.06180210383742187, 'balanced_accuracy': 0.07779950596912644, 'mcc': 0.40775575758224086, 'train_loss': 2.0793300342897996}\n",
      "Epoch 2/20\n"
     ]
    },
    {
     "name": "stderr",
     "output_type": "stream",
     "text": [
      "100%|██████████| 423/423 [00:37<00:00, 11.18it/s]\n"
     ]
    },
    {
     "name": "stdout",
     "output_type": "stream",
     "text": [
      "{'val_loss': 1.5630087599439442, 'val_accuracy': 0.5925487876995861, 'precision': 0.4600670877966123, 'recall': 0.5925487876995861, 'f1-score': 0.4961549382261773, 'macro_f1-score': 0.08816509985894933, 'balanced_accuracy': 0.09727985237953593, 'mcc': 0.4138263351816208, 'train_loss': 1.6487293585113318}\n",
      "Epoch 3/20\n"
     ]
    },
    {
     "name": "stderr",
     "output_type": "stream",
     "text": [
      "100%|██████████| 423/423 [00:37<00:00, 11.24it/s]\n"
     ]
    },
    {
     "name": "stdout",
     "output_type": "stream",
     "text": [
      "{'val_loss': 1.4336044473468132, 'val_accuracy': 0.6221170904790065, 'precision': 0.5660398866714202, 'recall': 0.6221170904790065, 'f1-score': 0.5811606776365685, 'macro_f1-score': 0.17508896343284192, 'balanced_accuracy': 0.1909109978111552, 'mcc': 0.49316555387858113, 'train_loss': 1.3938812631805455}\n",
      "Epoch 4/20\n"
     ]
    },
    {
     "name": "stderr",
     "output_type": "stream",
     "text": [
      "100%|██████████| 423/423 [00:37<00:00, 11.18it/s]\n"
     ]
    },
    {
     "name": "stdout",
     "output_type": "stream",
     "text": [
      "{'val_loss': 1.3586824794985213, 'val_accuracy': 0.6439976345357776, 'precision': 0.6336722931881665, 'recall': 0.6439976345357776, 'f1-score': 0.6227830038205636, 'macro_f1-score': 0.24190231142622548, 'balanced_accuracy': 0.25635502445825475, 'mcc': 0.5394895352694707, 'train_loss': 1.2219121726692146}\n",
      "Epoch 5/20\n"
     ]
    },
    {
     "name": "stderr",
     "output_type": "stream",
     "text": [
      "100%|██████████| 423/423 [00:37<00:00, 11.23it/s]\n"
     ]
    },
    {
     "name": "stdout",
     "output_type": "stream",
     "text": [
      "{'val_loss': 1.3468960360536035, 'val_accuracy': 0.6439976345357776, 'precision': 0.6188325715693918, 'recall': 0.6439976345357776, 'f1-score': 0.6215233573752337, 'macro_f1-score': 0.2527289190035184, 'balanced_accuracy': 0.26324322793573157, 'mcc': 0.5343465773433326, 'train_loss': 1.0255592909265072}\n",
      "Epoch 6/20\n"
     ]
    },
    {
     "name": "stderr",
     "output_type": "stream",
     "text": [
      "100%|██████████| 423/423 [00:37<00:00, 11.22it/s]\n"
     ]
    },
    {
     "name": "stdout",
     "output_type": "stream",
     "text": [
      "{'val_loss': 1.3146278624827008, 'val_accuracy': 0.6487285629804849, 'precision': 0.6492415202078717, 'recall': 0.6487285629804849, 'f1-score': 0.6371451668628896, 'macro_f1-score': 0.28713051285565333, 'balanced_accuracy': 0.29671703410482037, 'mcc': 0.5401584902327085, 'train_loss': 0.8864941582189384}\n",
      "Epoch 7/20\n"
     ]
    },
    {
     "name": "stderr",
     "output_type": "stream",
     "text": [
      "100%|██████████| 423/423 [00:37<00:00, 11.14it/s]\n"
     ]
    },
    {
     "name": "stdout",
     "output_type": "stream",
     "text": [
      "{'val_loss': 1.2885534697264995, 'val_accuracy': 0.6782968657599053, 'precision': 0.654726206472484, 'recall': 0.6782968657599053, 'f1-score': 0.6592817340520247, 'macro_f1-score': 0.3059897313671754, 'balanced_accuracy': 0.31721551569476525, 'mcc': 0.5763927853476851, 'train_loss': 0.7956143439731981}\n",
      "Epoch 8/20\n"
     ]
    },
    {
     "name": "stderr",
     "output_type": "stream",
     "text": [
      "100%|██████████| 423/423 [00:37<00:00, 11.22it/s]\n"
     ]
    },
    {
     "name": "stdout",
     "output_type": "stream",
     "text": [
      "{'val_loss': 1.3128148528202526, 'val_accuracy': 0.6759314015375517, 'precision': 0.6645972495547853, 'recall': 0.6759314015375517, 'f1-score': 0.6588929852013029, 'macro_f1-score': 0.3396909689429768, 'balanced_accuracy': 0.3554711208749135, 'mcc': 0.5794872152094774, 'train_loss': 0.6680966279079729}\n",
      "Epoch 9/20\n"
     ]
    },
    {
     "name": "stderr",
     "output_type": "stream",
     "text": [
      "100%|██████████| 423/423 [00:37<00:00, 11.20it/s]\n"
     ]
    },
    {
     "name": "stdout",
     "output_type": "stream",
     "text": [
      "{'val_loss': 1.3323825467026458, 'val_accuracy': 0.6824364281490243, 'precision': 0.6634349496451626, 'recall': 0.6824364281490243, 'f1-score': 0.6595861981922136, 'macro_f1-score': 0.3437344217224894, 'balanced_accuracy': 0.3394210436323185, 'mcc': 0.5776533434967616, 'train_loss': 0.6110374625006043}\n",
      "Epoch 10/20\n"
     ]
    },
    {
     "name": "stderr",
     "output_type": "stream",
     "text": [
      "100%|██████████| 423/423 [00:37<00:00, 11.20it/s]\n"
     ]
    },
    {
     "name": "stdout",
     "output_type": "stream",
     "text": [
      "{'val_loss': 1.344033977895413, 'val_accuracy': 0.6966292134831461, 'precision': 0.6793955631700266, 'recall': 0.6966292134831461, 'f1-score': 0.6707036400080134, 'macro_f1-score': 0.360665167176911, 'balanced_accuracy': 0.3378326586531105, 'mcc': 0.5899795785924965, 'train_loss': 0.5371781654356501}\n",
      "Epoch 11/20\n"
     ]
    },
    {
     "name": "stderr",
     "output_type": "stream",
     "text": [
      "100%|██████████| 423/423 [00:37<00:00, 11.20it/s]\n"
     ]
    },
    {
     "name": "stdout",
     "output_type": "stream",
     "text": [
      "{'val_loss': 1.3495402376887933, 'val_accuracy': 0.6865759905381431, 'precision': 0.681830710579986, 'recall': 0.6865759905381431, 'f1-score': 0.6712360796358704, 'macro_f1-score': 0.3729207361925419, 'balanced_accuracy': 0.37014263622710736, 'mcc': 0.585075012050466, 'train_loss': 0.4851575019872851}\n",
      "Epoch 12/20\n"
     ]
    },
    {
     "name": "stderr",
     "output_type": "stream",
     "text": [
      "100%|██████████| 423/423 [00:37<00:00, 11.23it/s]\n"
     ]
    },
    {
     "name": "stdout",
     "output_type": "stream",
     "text": [
      "{'val_loss': 1.385687067964167, 'val_accuracy': 0.6865759905381431, 'precision': 0.6749971175784425, 'recall': 0.6865759905381431, 'f1-score': 0.6687372827217516, 'macro_f1-score': 0.37689665311247944, 'balanced_accuracy': 0.3657164968991802, 'mcc': 0.5824301662026337, 'train_loss': 0.44680986987167076}\n",
      "Epoch 13/20\n"
     ]
    },
    {
     "name": "stderr",
     "output_type": "stream",
     "text": [
      "100%|██████████| 423/423 [00:37<00:00, 11.18it/s]\n"
     ]
    },
    {
     "name": "stdout",
     "output_type": "stream",
     "text": [
      "{'val_loss': 1.3906789247719746, 'val_accuracy': 0.6812536960378475, 'precision': 0.6859785063295493, 'recall': 0.6812536960378475, 'f1-score': 0.6745003415632203, 'macro_f1-score': 0.3787116222409662, 'balanced_accuracy': 0.3751146270321484, 'mcc': 0.5803080549066848, 'train_loss': 0.4163723174861278}\n",
      "Epoch 14/20\n"
     ]
    },
    {
     "name": "stderr",
     "output_type": "stream",
     "text": [
      "100%|██████████| 423/423 [00:37<00:00, 11.24it/s]\n"
     ]
    },
    {
     "name": "stdout",
     "output_type": "stream",
     "text": [
      "{'val_loss': 1.418924479833189, 'val_accuracy': 0.6913069189828503, 'precision': 0.6846874001340059, 'recall': 0.6913069189828503, 'f1-score': 0.674658639795198, 'macro_f1-score': 0.3900970851590974, 'balanced_accuracy': 0.3842138208191379, 'mcc': 0.5886349685821446, 'train_loss': 0.38500915204414804}\n",
      "Epoch 15/20\n"
     ]
    },
    {
     "name": "stderr",
     "output_type": "stream",
     "text": [
      "100%|██████████| 423/423 [00:37<00:00, 11.21it/s]\n"
     ]
    },
    {
     "name": "stdout",
     "output_type": "stream",
     "text": [
      "{'val_loss': 1.4790253792450112, 'val_accuracy': 0.6794795978710823, 'precision': 0.6948075736085194, 'recall': 0.6794795978710823, 'f1-score': 0.6735566709281827, 'macro_f1-score': 0.4272891753021164, 'balanced_accuracy': 0.42949998992092225, 'mcc': 0.5834498668477369, 'train_loss': 0.3409301758596308}\n",
      "Epoch 16/20\n"
     ]
    },
    {
     "name": "stderr",
     "output_type": "stream",
     "text": [
      "100%|██████████| 423/423 [00:37<00:00, 11.16it/s]\n"
     ]
    },
    {
     "name": "stdout",
     "output_type": "stream",
     "text": [
      "{'val_loss': 1.4694822222556707, 'val_accuracy': 0.6747486694263749, 'precision': 0.7040191163359167, 'recall': 0.6747486694263749, 'f1-score': 0.6705064207669936, 'macro_f1-score': 0.39724352831731685, 'balanced_accuracy': 0.39011447497950585, 'mcc': 0.5717162303553711, 'train_loss': 0.35613263302854753}\n",
      "Epoch 17/20\n"
     ]
    },
    {
     "name": "stderr",
     "output_type": "stream",
     "text": [
      "100%|██████████| 423/423 [00:37<00:00, 11.18it/s]\n"
     ]
    },
    {
     "name": "stdout",
     "output_type": "stream",
     "text": [
      "{'val_loss': 1.546896608651809, 'val_accuracy': 0.6984033116499113, 'precision': 0.6854965651891373, 'recall': 0.6984033116499113, 'f1-score': 0.676035361651035, 'macro_f1-score': 0.42248632052790414, 'balanced_accuracy': 0.4008517421924757, 'mcc': 0.5938754068217688, 'train_loss': 0.31762526278773734}\n",
      "Epoch 18/20\n"
     ]
    },
    {
     "name": "stderr",
     "output_type": "stream",
     "text": [
      "100%|██████████| 423/423 [00:37<00:00, 11.22it/s]\n"
     ]
    },
    {
     "name": "stdout",
     "output_type": "stream",
     "text": [
      "{'val_loss': 1.511128308075779, 'val_accuracy': 0.6788882318154937, 'precision': 0.7035417824233369, 'recall': 0.6788882318154937, 'f1-score': 0.6765281066432756, 'macro_f1-score': 0.4419347802529561, 'balanced_accuracy': 0.4538501678540967, 'mcc': 0.586332351770484, 'train_loss': 0.2850645070710609}\n",
      "Epoch 19/20\n"
     ]
    },
    {
     "name": "stderr",
     "output_type": "stream",
     "text": [
      "100%|██████████| 423/423 [00:37<00:00, 11.18it/s]\n"
     ]
    },
    {
     "name": "stdout",
     "output_type": "stream",
     "text": [
      "{'val_loss': 1.502434086124852, 'val_accuracy': 0.6853932584269663, 'precision': 0.6896406276432965, 'recall': 0.6853932584269663, 'f1-score': 0.6698287251534062, 'macro_f1-score': 0.4437743950607814, 'balanced_accuracy': 0.4292238650349525, 'mcc': 0.5789731984838765, 'train_loss': 0.2819343251473409}\n",
      "Epoch 20/20\n"
     ]
    },
    {
     "name": "stderr",
     "output_type": "stream",
     "text": [
      "100%|██████████| 423/423 [00:37<00:00, 11.22it/s]\n"
     ]
    },
    {
     "name": "stdout",
     "output_type": "stream",
     "text": [
      "{'val_loss': 1.6385927928506203, 'val_accuracy': 0.6913069189828503, 'precision': 0.6925896942041239, 'recall': 0.6913069189828503, 'f1-score': 0.6709036525340153, 'macro_f1-score': 0.4204122146966365, 'balanced_accuracy': 0.3910697566973338, 'mcc': 0.5842701723341317, 'train_loss': 0.2767085258608979}\n",
      "\n",
      "[Fold 5]\n",
      "Label distribution after resampling:\n",
      "  label 0: 3180\n",
      "  label 1: 24\n",
      "  label 2: 112\n",
      "  label 3: 24\n",
      "  label 4: 205\n",
      "  label 5: 116\n",
      "  label 6: 95\n",
      "  label 7: 31\n",
      "  label 8: 68\n",
      "  label 9: 65\n",
      "  label 10: 70\n",
      "  label 11: 172\n",
      "  label 12: 193\n",
      "  label 13: 29\n",
      "  label 14: 23\n",
      "  label 15: 25\n",
      "  label 16: 20\n",
      "  label 17: 231\n",
      "  label 18: 93\n",
      "  label 19: 44\n",
      "  label 20: 15\n",
      "  label 21: 35\n",
      "  label 22: 78\n",
      "  label 23: 160\n",
      "  label 24: 16\n",
      "  label 25: 50\n",
      "  label 26: 86\n",
      "  label 27: 48\n",
      "  label 28: 12\n",
      "  label 29: 13\n",
      "  label 30: 15\n",
      "  label 31: 80\n",
      "  label 32: 36\n",
      "  label 33: 32\n",
      "  label 34: 30\n",
      "  label 35: 12\n",
      "  label 36: 28\n",
      "  label 37: 21\n",
      "  label 38: 6\n",
      "  label 39: 104\n",
      "  label 40: 11\n",
      "  label 41: 9\n",
      "  label 42: 147\n",
      "  label 43: 16\n",
      "  label 44: 20\n",
      "  label 45: 9\n",
      "  label 46: 54\n",
      "  label 47: 529\n",
      "  label 48: 202\n",
      "  label 49: 70\n",
      "model is bert-base-uncased lstm\n",
      "Epoch 1/20\n"
     ]
    },
    {
     "name": "stderr",
     "output_type": "stream",
     "text": [
      "100%|██████████| 423/423 [00:37<00:00, 11.19it/s]\n"
     ]
    },
    {
     "name": "stdout",
     "output_type": "stream",
     "text": [
      "{'val_loss': 1.7290527820587158, 'val_accuracy': 0.578698224852071, 'precision': 0.42265300461439376, 'recall': 0.578698224852071, 'f1-score': 0.4695155536106321, 'macro_f1-score': 0.0810526016258747, 'balanced_accuracy': 0.10511292954183599, 'mcc': 0.4018423607657179, 'train_loss': 2.02445270180984}\n",
      "Epoch 2/20\n"
     ]
    },
    {
     "name": "stderr",
     "output_type": "stream",
     "text": [
      "100%|██████████| 423/423 [00:37<00:00, 11.22it/s]\n"
     ]
    },
    {
     "name": "stdout",
     "output_type": "stream",
     "text": [
      "{'val_loss': 1.4743988041607838, 'val_accuracy': 0.6307692307692307, 'precision': 0.5261702788148354, 'recall': 0.6307692307692307, 'f1-score': 0.5557899260772585, 'macro_f1-score': 0.14040692397394727, 'balanced_accuracy': 0.1465256366486816, 'mcc': 0.48574295726655925, 'train_loss': 1.5207475275858073}\n",
      "Epoch 3/20\n"
     ]
    },
    {
     "name": "stderr",
     "output_type": "stream",
     "text": [
      "100%|██████████| 423/423 [00:37<00:00, 11.24it/s]\n"
     ]
    },
    {
     "name": "stdout",
     "output_type": "stream",
     "text": [
      "{'val_loss': 1.4154015818856798, 'val_accuracy': 0.6420118343195266, 'precision': 0.6091032919803576, 'recall': 0.6420118343195266, 'f1-score': 0.6099050922994054, 'macro_f1-score': 0.20393321798914169, 'balanced_accuracy': 0.22441689239205106, 'mcc': 0.5243276863229952, 'train_loss': 1.2524165377267427}\n",
      "Epoch 4/20\n"
     ]
    },
    {
     "name": "stderr",
     "output_type": "stream",
     "text": [
      "100%|██████████| 423/423 [00:37<00:00, 11.17it/s]\n"
     ]
    },
    {
     "name": "stdout",
     "output_type": "stream",
     "text": [
      "{'val_loss': 1.40374230776193, 'val_accuracy': 0.636094674556213, 'precision': 0.63574018038267, 'recall': 0.636094674556213, 'f1-score': 0.6094807918275149, 'macro_f1-score': 0.23937957747269017, 'balanced_accuracy': 0.24135206503150428, 'mcc': 0.512214333828555, 'train_loss': 1.0536651209032}\n",
      "Epoch 5/20\n"
     ]
    },
    {
     "name": "stderr",
     "output_type": "stream",
     "text": [
      "100%|██████████| 423/423 [00:37<00:00, 11.22it/s]\n"
     ]
    },
    {
     "name": "stdout",
     "output_type": "stream",
     "text": [
      "{'val_loss': 1.3190603585175749, 'val_accuracy': 0.672189349112426, 'precision': 0.6365988022408609, 'recall': 0.672189349112426, 'f1-score': 0.6412383416473405, 'macro_f1-score': 0.27659033099174535, 'balanced_accuracy': 0.2844354378496141, 'mcc': 0.5613297440874636, 'train_loss': 0.8884623513929105}\n",
      "Epoch 6/20\n"
     ]
    },
    {
     "name": "stderr",
     "output_type": "stream",
     "text": [
      "100%|██████████| 423/423 [00:37<00:00, 11.20it/s]\n"
     ]
    },
    {
     "name": "stdout",
     "output_type": "stream",
     "text": [
      "{'val_loss': 1.3144680388131231, 'val_accuracy': 0.6698224852071006, 'precision': 0.6704611210612308, 'recall': 0.6698224852071006, 'f1-score': 0.6557637817531591, 'macro_f1-score': 0.3050234504058216, 'balanced_accuracy': 0.3150458103475332, 'mcc': 0.5661430852809587, 'train_loss': 0.7522633424993103}\n",
      "Epoch 7/20\n"
     ]
    },
    {
     "name": "stderr",
     "output_type": "stream",
     "text": [
      "100%|██████████| 423/423 [00:37<00:00, 11.19it/s]\n"
     ]
    },
    {
     "name": "stdout",
     "output_type": "stream",
     "text": [
      "{'val_loss': 1.3650314999076556, 'val_accuracy': 0.6763313609467455, 'precision': 0.6848408380678485, 'recall': 0.6763313609467455, 'f1-score': 0.6667404084906041, 'macro_f1-score': 0.31910028920059946, 'balanced_accuracy': 0.3247481586752645, 'mcc': 0.577102166544158, 'train_loss': 0.6518414862647688}\n",
      "Epoch 8/20\n"
     ]
    },
    {
     "name": "stderr",
     "output_type": "stream",
     "text": [
      "100%|██████████| 423/423 [00:37<00:00, 11.20it/s]\n"
     ]
    },
    {
     "name": "stdout",
     "output_type": "stream",
     "text": [
      "{'val_loss': 1.3646252321184806, 'val_accuracy': 0.6781065088757396, 'precision': 0.6696806036197815, 'recall': 0.6781065088757396, 'f1-score': 0.6611522256120916, 'macro_f1-score': 0.3225409841237278, 'balanced_accuracy': 0.321992673281693, 'mcc': 0.5758755231644324, 'train_loss': 0.5762933904908368}\n",
      "Epoch 9/20\n"
     ]
    },
    {
     "name": "stderr",
     "output_type": "stream",
     "text": [
      "100%|██████████| 423/423 [00:37<00:00, 11.24it/s]\n"
     ]
    },
    {
     "name": "stdout",
     "output_type": "stream",
     "text": [
      "{'val_loss': 1.4661424618284657, 'val_accuracy': 0.6568047337278107, 'precision': 0.6631140531092502, 'recall': 0.6568047337278107, 'f1-score': 0.6498407448032089, 'macro_f1-score': 0.31379361792442695, 'balanced_accuracy': 0.32125624776968886, 'mcc': 0.558494463203175, 'train_loss': 0.5042890826808223}\n",
      "Epoch 10/20\n"
     ]
    },
    {
     "name": "stderr",
     "output_type": "stream",
     "text": [
      "100%|██████████| 423/423 [00:37<00:00, 11.17it/s]\n"
     ]
    },
    {
     "name": "stdout",
     "output_type": "stream",
     "text": [
      "{'val_loss': 1.465571495440771, 'val_accuracy': 0.6650887573964497, 'precision': 0.6578277521808767, 'recall': 0.6650887573964497, 'f1-score': 0.6493226282439729, 'macro_f1-score': 0.3158829251240971, 'balanced_accuracy': 0.31326249582833277, 'mcc': 0.5581293016875106, 'train_loss': 0.4424635230323595}\n",
      "Epoch 11/20\n"
     ]
    },
    {
     "name": "stderr",
     "output_type": "stream",
     "text": [
      "100%|██████████| 423/423 [00:37<00:00, 11.23it/s]\n"
     ]
    },
    {
     "name": "stdout",
     "output_type": "stream",
     "text": [
      "{'val_loss': 1.4626287567727971, 'val_accuracy': 0.6739644970414201, 'precision': 0.6778326366511307, 'recall': 0.6739644970414201, 'f1-score': 0.665321473062, 'macro_f1-score': 0.3565183494483665, 'balanced_accuracy': 0.3387320406838768, 'mcc': 0.5695239950224715, 'train_loss': 0.4027353716578255}\n",
      "Epoch 12/20\n"
     ]
    },
    {
     "name": "stderr",
     "output_type": "stream",
     "text": [
      "100%|██████████| 423/423 [00:37<00:00, 11.22it/s]\n"
     ]
    },
    {
     "name": "stdout",
     "output_type": "stream",
     "text": [
      "{'val_loss': 1.4726848387212124, 'val_accuracy': 0.6798816568047338, 'precision': 0.670593174879196, 'recall': 0.6798816568047338, 'f1-score': 0.6605872148857997, 'macro_f1-score': 0.3513897424924417, 'balanced_accuracy': 0.3377333913527345, 'mcc': 0.574921960491926, 'train_loss': 0.38079467703352726}\n",
      "Epoch 13/20\n"
     ]
    },
    {
     "name": "stderr",
     "output_type": "stream",
     "text": [
      "100%|██████████| 423/423 [00:37<00:00, 11.14it/s]\n"
     ]
    },
    {
     "name": "stdout",
     "output_type": "stream",
     "text": [
      "{'val_loss': 1.5708375522550546, 'val_accuracy': 0.663905325443787, 'precision': 0.6649754377752124, 'recall': 0.663905325443787, 'f1-score': 0.6519581715312289, 'macro_f1-score': 0.33234543376122433, 'balanced_accuracy': 0.3273151118062462, 'mcc': 0.5508056035108997, 'train_loss': 0.3583939833077767}\n",
      "Epoch 14/20\n"
     ]
    },
    {
     "name": "stderr",
     "output_type": "stream",
     "text": [
      "100%|██████████| 423/423 [00:37<00:00, 11.19it/s]\n"
     ]
    },
    {
     "name": "stdout",
     "output_type": "stream",
     "text": [
      "{'val_loss': 1.5442560361522548, 'val_accuracy': 0.6804733727810651, 'precision': 0.6640555310204574, 'recall': 0.6804733727810651, 'f1-score': 0.6559533330308487, 'macro_f1-score': 0.36542727076486164, 'balanced_accuracy': 0.35146754333903035, 'mcc': 0.5695977549172271, 'train_loss': 0.3037924289782631}\n",
      "Epoch 15/20\n"
     ]
    },
    {
     "name": "stderr",
     "output_type": "stream",
     "text": [
      "100%|██████████| 423/423 [00:37<00:00, 11.20it/s]\n"
     ]
    },
    {
     "name": "stdout",
     "output_type": "stream",
     "text": [
      "{'val_loss': 1.6417892441715833, 'val_accuracy': 0.6798816568047338, 'precision': 0.6781599859865602, 'recall': 0.6798816568047338, 'f1-score': 0.6535452431811829, 'macro_f1-score': 0.34327832592663143, 'balanced_accuracy': 0.3128278648622208, 'mcc': 0.5657960816056012, 'train_loss': 0.2777830075371315}\n",
      "Epoch 16/20\n"
     ]
    },
    {
     "name": "stderr",
     "output_type": "stream",
     "text": [
      "100%|██████████| 423/423 [00:37<00:00, 11.16it/s]\n"
     ]
    },
    {
     "name": "stdout",
     "output_type": "stream",
     "text": [
      "{'val_loss': 1.6579321441504191, 'val_accuracy': 0.6881656804733728, 'precision': 0.6761204767685256, 'recall': 0.6881656804733728, 'f1-score': 0.6623277892793306, 'macro_f1-score': 0.3490391497976086, 'balanced_accuracy': 0.3157460385545314, 'mcc': 0.5772331300717771, 'train_loss': 0.2637276145680224}\n",
      "Epoch 17/20\n"
     ]
    },
    {
     "name": "stderr",
     "output_type": "stream",
     "text": [
      "100%|██████████| 423/423 [00:37<00:00, 11.21it/s]\n"
     ]
    },
    {
     "name": "stdout",
     "output_type": "stream",
     "text": [
      "{'val_loss': 1.5951591443340734, 'val_accuracy': 0.6715976331360947, 'precision': 0.6669319739351106, 'recall': 0.6715976331360947, 'f1-score': 0.6584518210056024, 'macro_f1-score': 0.3689493338397233, 'balanced_accuracy': 0.3505249314096578, 'mcc': 0.5639319668998064, 'train_loss': 0.24429818649884164}\n",
      "Epoch 18/20\n"
     ]
    },
    {
     "name": "stderr",
     "output_type": "stream",
     "text": [
      "100%|██████████| 423/423 [00:37<00:00, 11.20it/s]\n"
     ]
    },
    {
     "name": "stdout",
     "output_type": "stream",
     "text": [
      "{'val_loss': 1.6962895110811826, 'val_accuracy': 0.6633136094674557, 'precision': 0.6712202793636517, 'recall': 0.6633136094674557, 'f1-score': 0.6532988308592609, 'macro_f1-score': 0.35615931210316687, 'balanced_accuracy': 0.34583143744967537, 'mcc': 0.5549887268779707, 'train_loss': 0.2674232834298384}\n",
      "Epoch 19/20\n"
     ]
    },
    {
     "name": "stderr",
     "output_type": "stream",
     "text": [
      "100%|██████████| 423/423 [00:37<00:00, 11.18it/s]\n"
     ]
    },
    {
     "name": "stdout",
     "output_type": "stream",
     "text": [
      "{'val_loss': 1.6748541116995632, 'val_accuracy': 0.6556213017751479, 'precision': 0.6502850514316603, 'recall': 0.6556213017751479, 'f1-score': 0.6335240328642888, 'macro_f1-score': 0.3213681395447949, 'balanced_accuracy': 0.3209830395520662, 'mcc': 0.5362184756924744, 'train_loss': 0.29402209446714844}\n",
      "Epoch 20/20\n"
     ]
    },
    {
     "name": "stderr",
     "output_type": "stream",
     "text": [
      "100%|██████████| 423/423 [00:37<00:00, 11.23it/s]\n"
     ]
    },
    {
     "name": "stdout",
     "output_type": "stream",
     "text": [
      "{'val_loss': 1.5695794986666374, 'val_accuracy': 0.6810650887573965, 'precision': 0.680715469208485, 'recall': 0.6810650887573965, 'f1-score': 0.6664905176684048, 'macro_f1-score': 0.3675477356910965, 'balanced_accuracy': 0.38071153181433864, 'mcc': 0.5818402608009319, 'train_loss': 0.2803429326892392}\n",
      "Early stopping.\n",
      "\n",
      " === bert-base-uncased + lstm + none Final 10-fold Cross-Validation Results ===\n",
      "Total time: 4105 seconds\n",
      "Total time: 1 hrs 8 mins 25 secs\n",
      "val_loss: 1.5906\n",
      "val_accuracy: 0.6751\n",
      "precision: 0.6756\n",
      "recall: 0.6751\n",
      "f1-score: 0.6627\n",
      "macro_f1-score: 0.3992\n",
      "balanced_accuracy: 0.3844\n",
      "mcc: 0.5684\n",
      "train_loss: 0.2969\n",
      "▶ Running: bert-base-uncased + bilstm + none\n",
      "tokenizer is bert-base-uncased\n",
      "Using device: cuda\n",
      "CUDA Available: True\n",
      "CUDA Device: NVIDIA GeForce RTX 5070 Ti\n",
      "Current GPU Memory Allocated: 0.02 GB\n",
      "Current GPU Memory Cached: 3.14 GB\n",
      "\n",
      "[Fold 1]\n",
      "Label distribution after resampling:\n",
      "  label 0: 3179\n",
      "  label 1: 25\n",
      "  label 2: 112\n",
      "  label 3: 24\n",
      "  label 4: 205\n",
      "  label 5: 116\n",
      "  label 6: 95\n",
      "  label 7: 31\n",
      "  label 8: 68\n",
      "  label 9: 65\n",
      "  label 10: 70\n",
      "  label 11: 172\n",
      "  label 12: 193\n",
      "  label 13: 29\n",
      "  label 14: 23\n",
      "  label 15: 25\n",
      "  label 16: 20\n",
      "  label 17: 231\n",
      "  label 18: 93\n",
      "  label 19: 45\n",
      "  label 20: 14\n",
      "  label 21: 35\n",
      "  label 22: 78\n",
      "  label 23: 160\n",
      "  label 24: 16\n",
      "  label 25: 50\n",
      "  label 26: 86\n",
      "  label 27: 49\n",
      "  label 28: 12\n",
      "  label 29: 13\n",
      "  label 30: 15\n",
      "  label 31: 80\n",
      "  label 32: 36\n",
      "  label 33: 32\n",
      "  label 34: 30\n",
      "  label 35: 12\n",
      "  label 36: 28\n",
      "  label 37: 21\n",
      "  label 38: 6\n",
      "  label 39: 103\n",
      "  label 40: 12\n",
      "  label 41: 8\n",
      "  label 42: 147\n",
      "  label 43: 16\n",
      "  label 44: 20\n",
      "  label 45: 9\n",
      "  label 46: 54\n",
      "  label 47: 529\n",
      "  label 48: 202\n",
      "  label 49: 69\n",
      "model is bert-base-uncased bilstm\n",
      "Epoch 1/20\n"
     ]
    },
    {
     "name": "stderr",
     "output_type": "stream",
     "text": [
      "100%|██████████| 423/423 [00:39<00:00, 10.71it/s]\n"
     ]
    },
    {
     "name": "stdout",
     "output_type": "stream",
     "text": [
      "{'val_loss': 1.7200630414036084, 'val_accuracy': 0.5854523950325251, 'precision': 0.3641279375494089, 'recall': 0.5854523950325251, 'f1-score': 0.446543022651834, 'macro_f1-score': 0.05366204166204166, 'balanced_accuracy': 0.06667479711786804, 'mcc': 0.38867582658670313, 'train_loss': 2.0306962201499488}\n",
      "Epoch 2/20\n"
     ]
    },
    {
     "name": "stderr",
     "output_type": "stream",
     "text": [
      "100%|██████████| 423/423 [00:39<00:00, 10.77it/s]\n"
     ]
    },
    {
     "name": "stdout",
     "output_type": "stream",
     "text": [
      "{'val_loss': 1.4664036325126324, 'val_accuracy': 0.6339444115907746, 'precision': 0.5203696286792548, 'recall': 0.6339444115907746, 'f1-score': 0.5521017298103191, 'macro_f1-score': 0.15602526861141405, 'balanced_accuracy': 0.16369875177716672, 'mcc': 0.48672391304376317, 'train_loss': 1.5018339691150837}\n",
      "Epoch 3/20\n"
     ]
    },
    {
     "name": "stderr",
     "output_type": "stream",
     "text": [
      "100%|██████████| 423/423 [00:39<00:00, 10.75it/s]\n"
     ]
    },
    {
     "name": "stdout",
     "output_type": "stream",
     "text": [
      "{'val_loss': 1.3879453745090737, 'val_accuracy': 0.6499112950916618, 'precision': 0.5592691343499091, 'recall': 0.6499112950916618, 'f1-score': 0.5855951003959854, 'macro_f1-score': 0.1989119267332201, 'balanced_accuracy': 0.19088652367177816, 'mcc': 0.5119758847236273, 'train_loss': 1.197518854135599}\n",
      "Epoch 4/20\n"
     ]
    },
    {
     "name": "stderr",
     "output_type": "stream",
     "text": [
      "100%|██████████| 423/423 [00:39<00:00, 10.74it/s]\n"
     ]
    },
    {
     "name": "stdout",
     "output_type": "stream",
     "text": [
      "{'val_loss': 1.3404350761535033, 'val_accuracy': 0.6570076877587226, 'precision': 0.6267811192183486, 'recall': 0.6570076877587226, 'f1-score': 0.6220243800369036, 'macro_f1-score': 0.2686230604307109, 'balanced_accuracy': 0.2683023388254593, 'mcc': 0.5396729002769809, 'train_loss': 0.9530145047545151}\n",
      "Epoch 5/20\n"
     ]
    },
    {
     "name": "stderr",
     "output_type": "stream",
     "text": [
      "100%|██████████| 423/423 [00:39<00:00, 10.73it/s]\n"
     ]
    },
    {
     "name": "stdout",
     "output_type": "stream",
     "text": [
      "{'val_loss': 1.3481210771034349, 'val_accuracy': 0.6487285629804849, 'precision': 0.6722779019382364, 'recall': 0.6487285629804849, 'f1-score': 0.6461315026708344, 'macro_f1-score': 0.30185872538670666, 'balanced_accuracy': 0.3154598416886929, 'mcc': 0.5480358203843668, 'train_loss': 0.7732721649233613}\n",
      "Epoch 6/20\n"
     ]
    },
    {
     "name": "stderr",
     "output_type": "stream",
     "text": [
      "100%|██████████| 423/423 [00:39<00:00, 10.80it/s]\n"
     ]
    },
    {
     "name": "stdout",
     "output_type": "stream",
     "text": [
      "{'val_loss': 1.366270829765302, 'val_accuracy': 0.6658781785925488, 'precision': 0.6530907154431758, 'recall': 0.6658781785925488, 'f1-score': 0.6487018358069038, 'macro_f1-score': 0.3234004191567505, 'balanced_accuracy': 0.3281598276148801, 'mcc': 0.5585436054104984, 'train_loss': 0.6402105125235328}\n",
      "Epoch 7/20\n"
     ]
    },
    {
     "name": "stderr",
     "output_type": "stream",
     "text": [
      "100%|██████████| 423/423 [00:41<00:00, 10.18it/s]\n"
     ]
    },
    {
     "name": "stdout",
     "output_type": "stream",
     "text": [
      "{'val_loss': 1.4293330412990641, 'val_accuracy': 0.6700177409816677, 'precision': 0.6541401240466557, 'recall': 0.6700177409816677, 'f1-score': 0.6452866315246799, 'macro_f1-score': 0.32079665664651347, 'balanced_accuracy': 0.3123467914882024, 'mcc': 0.5519185185207638, 'train_loss': 0.5222456471523353}\n",
      "Epoch 8/20\n"
     ]
    },
    {
     "name": "stderr",
     "output_type": "stream",
     "text": [
      "100%|██████████| 423/423 [00:42<00:00,  9.97it/s]\n"
     ]
    },
    {
     "name": "stdout",
     "output_type": "stream",
     "text": [
      "{'val_loss': 1.447871500872216, 'val_accuracy': 0.6641040804257835, 'precision': 0.6604535076207779, 'recall': 0.6641040804257835, 'f1-score': 0.6533888450300969, 'macro_f1-score': 0.3452811470756949, 'balanced_accuracy': 0.33926795770424, 'mcc': 0.5556964224212847, 'train_loss': 0.42967526647691606}\n",
      "Epoch 9/20\n"
     ]
    },
    {
     "name": "stderr",
     "output_type": "stream",
     "text": [
      "100%|██████████| 423/423 [00:42<00:00,  9.94it/s]\n"
     ]
    },
    {
     "name": "stdout",
     "output_type": "stream",
     "text": [
      "{'val_loss': 1.5038164131483942, 'val_accuracy': 0.6664695446481372, 'precision': 0.6737162685544643, 'recall': 0.6664695446481372, 'f1-score': 0.6531129507201682, 'macro_f1-score': 0.3799898891798441, 'balanced_accuracy': 0.3804017420882183, 'mcc': 0.5656705677943404, 'train_loss': 0.3796061840740607}\n",
      "Epoch 10/20\n"
     ]
    },
    {
     "name": "stderr",
     "output_type": "stream",
     "text": [
      "100%|██████████| 423/423 [00:43<00:00,  9.81it/s]\n"
     ]
    },
    {
     "name": "stdout",
     "output_type": "stream",
     "text": [
      "{'val_loss': 1.472003215045299, 'val_accuracy': 0.6682436428149024, 'precision': 0.6709329331200781, 'recall': 0.6682436428149024, 'f1-score': 0.6575862657961561, 'macro_f1-score': 0.39853823095422636, 'balanced_accuracy': 0.3872844370095156, 'mcc': 0.5645203122297285, 'train_loss': 0.33898643621333807}\n",
      "Epoch 11/20\n"
     ]
    },
    {
     "name": "stderr",
     "output_type": "stream",
     "text": [
      "100%|██████████| 423/423 [00:42<00:00,  9.96it/s]\n"
     ]
    },
    {
     "name": "stdout",
     "output_type": "stream",
     "text": [
      "{'val_loss': 1.5198377629496016, 'val_accuracy': 0.657599053814311, 'precision': 0.6860874593543121, 'recall': 0.657599053814311, 'f1-score': 0.6594006870009244, 'macro_f1-score': 0.4011189801048755, 'balanced_accuracy': 0.4026334931567338, 'mcc': 0.5553216310295828, 'train_loss': 0.2954717068701771}\n",
      "Epoch 12/20\n"
     ]
    },
    {
     "name": "stderr",
     "output_type": "stream",
     "text": [
      "100%|██████████| 423/423 [00:42<00:00, 10.01it/s]\n"
     ]
    },
    {
     "name": "stdout",
     "output_type": "stream",
     "text": [
      "{'val_loss': 1.538801761730662, 'val_accuracy': 0.6765227675931401, 'precision': 0.687240941385148, 'recall': 0.6765227675931401, 'f1-score': 0.672369422289021, 'macro_f1-score': 0.4033671275247998, 'balanced_accuracy': 0.4164176424410965, 'mcc': 0.5761005418505785, 'train_loss': 0.2773027864018407}\n",
      "Epoch 13/20\n"
     ]
    },
    {
     "name": "stderr",
     "output_type": "stream",
     "text": [
      "100%|██████████| 423/423 [00:42<00:00,  9.97it/s]\n"
     ]
    },
    {
     "name": "stdout",
     "output_type": "stream",
     "text": [
      "{'val_loss': 1.5207765968340747, 'val_accuracy': 0.6700177409816677, 'precision': 0.675812984906747, 'recall': 0.6700177409816677, 'f1-score': 0.6621779984333703, 'macro_f1-score': 0.3973758007722289, 'balanced_accuracy': 0.3901521549170291, 'mcc': 0.5679874515586014, 'train_loss': 0.27271215933381665}\n",
      "Epoch 14/20\n"
     ]
    },
    {
     "name": "stderr",
     "output_type": "stream",
     "text": [
      "100%|██████████| 423/423 [00:42<00:00,  9.99it/s]\n"
     ]
    },
    {
     "name": "stdout",
     "output_type": "stream",
     "text": [
      "{'val_loss': 1.6679589645761363, 'val_accuracy': 0.6635127143701951, 'precision': 0.6703761272959579, 'recall': 0.6635127143701951, 'f1-score': 0.6573238242944589, 'macro_f1-score': 0.4084898005276775, 'balanced_accuracy': 0.40788356133705966, 'mcc': 0.5595554164172293, 'train_loss': 0.23249565247098428}\n",
      "Epoch 15/20\n"
     ]
    },
    {
     "name": "stderr",
     "output_type": "stream",
     "text": [
      "100%|██████████| 423/423 [00:42<00:00,  9.98it/s]\n"
     ]
    },
    {
     "name": "stdout",
     "output_type": "stream",
     "text": [
      "{'val_loss': 1.6562410342805791, 'val_accuracy': 0.6587817859254879, 'precision': 0.678150911383228, 'recall': 0.6587817859254879, 'f1-score': 0.652344359692294, 'macro_f1-score': 0.3887383137291917, 'balanced_accuracy': 0.39296960188325736, 'mcc': 0.5491653767733338, 'train_loss': 0.2654882184192362}\n",
      "Epoch 16/20\n"
     ]
    },
    {
     "name": "stderr",
     "output_type": "stream",
     "text": [
      "100%|██████████| 423/423 [00:39<00:00, 10.61it/s]\n"
     ]
    },
    {
     "name": "stdout",
     "output_type": "stream",
     "text": [
      "{'val_loss': 1.693120464120271, 'val_accuracy': 0.6735659373151981, 'precision': 0.6678735399228403, 'recall': 0.6735659373151981, 'f1-score': 0.6605770731412841, 'macro_f1-score': 0.4015661362429374, 'balanced_accuracy': 0.3895026587481004, 'mcc': 0.5661533568174946, 'train_loss': 0.2295908742555666}\n",
      "Epoch 17/20\n"
     ]
    },
    {
     "name": "stderr",
     "output_type": "stream",
     "text": [
      "100%|██████████| 423/423 [00:42<00:00,  9.97it/s]\n"
     ]
    },
    {
     "name": "stdout",
     "output_type": "stream",
     "text": [
      "{'val_loss': 1.7438396957685363, 'val_accuracy': 0.6735659373151981, 'precision': 0.6626466416856417, 'recall': 0.6735659373151981, 'f1-score': 0.6554891639133683, 'macro_f1-score': 0.4071407725509386, 'balanced_accuracy': 0.38678876984056, 'mcc': 0.5612138324196294, 'train_loss': 0.20212874063301664}\n",
      "Early stopping.\n",
      "\n",
      "[Fold 2]\n",
      "Label distribution after resampling:\n",
      "  label 0: 3179\n",
      "  label 1: 25\n",
      "  label 2: 112\n",
      "  label 3: 24\n",
      "  label 4: 206\n",
      "  label 5: 116\n",
      "  label 6: 94\n",
      "  label 7: 31\n",
      "  label 8: 68\n",
      "  label 9: 65\n",
      "  label 10: 70\n",
      "  label 11: 172\n",
      "  label 12: 193\n",
      "  label 13: 29\n",
      "  label 14: 23\n",
      "  label 15: 25\n",
      "  label 16: 20\n",
      "  label 17: 231\n",
      "  label 18: 93\n",
      "  label 19: 45\n",
      "  label 20: 14\n",
      "  label 21: 35\n",
      "  label 22: 78\n",
      "  label 23: 160\n",
      "  label 24: 16\n",
      "  label 25: 50\n",
      "  label 26: 86\n",
      "  label 27: 49\n",
      "  label 28: 12\n",
      "  label 29: 13\n",
      "  label 30: 15\n",
      "  label 31: 80\n",
      "  label 32: 36\n",
      "  label 33: 32\n",
      "  label 34: 30\n",
      "  label 35: 12\n",
      "  label 36: 28\n",
      "  label 37: 22\n",
      "  label 38: 5\n",
      "  label 39: 103\n",
      "  label 40: 11\n",
      "  label 41: 9\n",
      "  label 42: 147\n",
      "  label 43: 16\n",
      "  label 44: 20\n",
      "  label 45: 9\n",
      "  label 46: 55\n",
      "  label 47: 528\n",
      "  label 48: 202\n",
      "  label 49: 69\n",
      "model is bert-base-uncased bilstm\n",
      "Epoch 1/20\n"
     ]
    },
    {
     "name": "stderr",
     "output_type": "stream",
     "text": [
      "100%|██████████| 423/423 [00:42<00:00,  9.99it/s]\n"
     ]
    },
    {
     "name": "stdout",
     "output_type": "stream",
     "text": [
      "{'val_loss': 1.8656234831180212, 'val_accuracy': 0.5824955647545831, 'precision': 0.3663313410806554, 'recall': 0.5824955647545831, 'f1-score': 0.44865772631072515, 'macro_f1-score': 0.06749704228611916, 'balanced_accuracy': 0.08633897703518624, 'mcc': 0.38617210228689064, 'train_loss': 2.068787825586666}\n",
      "Epoch 2/20\n"
     ]
    },
    {
     "name": "stderr",
     "output_type": "stream",
     "text": [
      "100%|██████████| 423/423 [00:41<00:00, 10.07it/s]\n"
     ]
    },
    {
     "name": "stdout",
     "output_type": "stream",
     "text": [
      "{'val_loss': 1.590450088370521, 'val_accuracy': 0.6043761088113542, 'precision': 0.5177213488939083, 'recall': 0.6043761088113542, 'f1-score': 0.5428030157385958, 'macro_f1-score': 0.12527173124479862, 'balanced_accuracy': 0.1446859968949571, 'mcc': 0.4639683129854471, 'train_loss': 1.569227749574269}\n",
      "Epoch 3/20\n"
     ]
    },
    {
     "name": "stderr",
     "output_type": "stream",
     "text": [
      "100%|██████████| 423/423 [00:42<00:00,  9.99it/s]\n"
     ]
    },
    {
     "name": "stdout",
     "output_type": "stream",
     "text": [
      "{'val_loss': 1.4707651498182766, 'val_accuracy': 0.6309875813128326, 'precision': 0.5647406500577006, 'recall': 0.6309875813128326, 'f1-score': 0.5829695048879147, 'macro_f1-score': 0.19337179721288045, 'balanced_accuracy': 0.20493861288369397, 'mcc': 0.5010358006426225, 'train_loss': 1.2928292375788903}\n",
      "Epoch 4/20\n"
     ]
    },
    {
     "name": "stderr",
     "output_type": "stream",
     "text": [
      "100%|██████████| 423/423 [00:42<00:00,  9.94it/s]\n"
     ]
    },
    {
     "name": "stdout",
     "output_type": "stream",
     "text": [
      "{'val_loss': 1.3739881270898964, 'val_accuracy': 0.654642223536369, 'precision': 0.6099873025282447, 'recall': 0.654642223536369, 'f1-score': 0.622314952034205, 'macro_f1-score': 0.2505187240647471, 'balanced_accuracy': 0.25161935909651245, 'mcc': 0.5361080762605314, 'train_loss': 1.0592927307101851}\n",
      "Epoch 5/20\n"
     ]
    },
    {
     "name": "stderr",
     "output_type": "stream",
     "text": [
      "100%|██████████| 423/423 [00:42<00:00,  9.99it/s]\n"
     ]
    },
    {
     "name": "stdout",
     "output_type": "stream",
     "text": [
      "{'val_loss': 1.4122953569551684, 'val_accuracy': 0.6510940272028386, 'precision': 0.6274161689591392, 'recall': 0.6510940272028386, 'f1-score': 0.6255014418606005, 'macro_f1-score': 0.27286131150468, 'balanced_accuracy': 0.275200201153185, 'mcc': 0.5396951778867353, 'train_loss': 0.8763123700663835}\n",
      "Epoch 6/20\n"
     ]
    },
    {
     "name": "stderr",
     "output_type": "stream",
     "text": [
      "100%|██████████| 423/423 [00:42<00:00, 10.00it/s]\n"
     ]
    },
    {
     "name": "stdout",
     "output_type": "stream",
     "text": [
      "{'val_loss': 1.4266294328109272, 'val_accuracy': 0.6741573033707865, 'precision': 0.643688863320272, 'recall': 0.6741573033707865, 'f1-score': 0.6418401930896446, 'macro_f1-score': 0.2971853505177317, 'balanced_accuracy': 0.2814525078642489, 'mcc': 0.5583577926405872, 'train_loss': 0.7215439200436533}\n",
      "Epoch 7/20\n"
     ]
    },
    {
     "name": "stderr",
     "output_type": "stream",
     "text": [
      "100%|██████████| 423/423 [00:42<00:00,  9.99it/s]\n"
     ]
    },
    {
     "name": "stdout",
     "output_type": "stream",
     "text": [
      "{'val_loss': 1.453102761000957, 'val_accuracy': 0.6700177409816677, 'precision': 0.6445640513617235, 'recall': 0.6700177409816677, 'f1-score': 0.6424151786402591, 'macro_f1-score': 0.33022814721976196, 'balanced_accuracy': 0.3157330802962081, 'mcc': 0.5548989573784354, 'train_loss': 0.6026449548190649}\n",
      "Epoch 8/20\n"
     ]
    },
    {
     "name": "stderr",
     "output_type": "stream",
     "text": [
      "100%|██████████| 423/423 [00:42<00:00,  9.98it/s]\n"
     ]
    },
    {
     "name": "stdout",
     "output_type": "stream",
     "text": [
      "{'val_loss': 1.4979388467124048, 'val_accuracy': 0.6635127143701951, 'precision': 0.6559766281041666, 'recall': 0.6635127143701951, 'f1-score': 0.6465500285887605, 'macro_f1-score': 0.3415848923275206, 'balanced_accuracy': 0.3391485906303188, 'mcc': 0.5531929690178256, 'train_loss': 0.5130864945075191}\n",
      "Epoch 9/20\n"
     ]
    },
    {
     "name": "stderr",
     "output_type": "stream",
     "text": [
      "100%|██████████| 423/423 [00:42<00:00, 10.01it/s]\n"
     ]
    },
    {
     "name": "stdout",
     "output_type": "stream",
     "text": [
      "{'val_loss': 1.4731814920339945, 'val_accuracy': 0.6717918391484329, 'precision': 0.6593828333097334, 'recall': 0.6717918391484329, 'f1-score': 0.6522964927636766, 'macro_f1-score': 0.35943633844826517, 'balanced_accuracy': 0.3461740898214385, 'mcc': 0.5589490749849374, 'train_loss': 0.44586327377856483}\n",
      "Epoch 10/20\n"
     ]
    },
    {
     "name": "stderr",
     "output_type": "stream",
     "text": [
      "100%|██████████| 423/423 [00:42<00:00, 10.00it/s]\n"
     ]
    },
    {
     "name": "stdout",
     "output_type": "stream",
     "text": [
      "{'val_loss': 1.5114625134276893, 'val_accuracy': 0.6717918391484329, 'precision': 0.6493657885675254, 'recall': 0.6717918391484329, 'f1-score': 0.6447258368714864, 'macro_f1-score': 0.3690179074528042, 'balanced_accuracy': 0.34922091004655087, 'mcc': 0.5585689301660534, 'train_loss': 0.3925375356988422}\n",
      "Epoch 11/20\n"
     ]
    },
    {
     "name": "stderr",
     "output_type": "stream",
     "text": [
      "100%|██████████| 423/423 [00:42<00:00, 10.01it/s]\n"
     ]
    },
    {
     "name": "stdout",
     "output_type": "stream",
     "text": [
      "{'val_loss': 1.5865269680068177, 'val_accuracy': 0.664695446481372, 'precision': 0.6603338569743294, 'recall': 0.664695446481372, 'f1-score': 0.6485116809838285, 'macro_f1-score': 0.3783281753033655, 'balanced_accuracy': 0.3797412287235156, 'mcc': 0.5517307543932058, 'train_loss': 0.3451390533353561}\n",
      "Epoch 12/20\n"
     ]
    },
    {
     "name": "stderr",
     "output_type": "stream",
     "text": [
      "100%|██████████| 423/423 [00:42<00:00,  9.97it/s]\n"
     ]
    },
    {
     "name": "stdout",
     "output_type": "stream",
     "text": [
      "{'val_loss': 1.5579485853887953, 'val_accuracy': 0.6747486694263749, 'precision': 0.6831292262412302, 'recall': 0.6747486694263749, 'f1-score': 0.668776567061807, 'macro_f1-score': 0.4010881612677878, 'balanced_accuracy': 0.3978988012587144, 'mcc': 0.5732365398458922, 'train_loss': 0.2959762470660198}\n",
      "Epoch 13/20\n"
     ]
    },
    {
     "name": "stderr",
     "output_type": "stream",
     "text": [
      "100%|██████████| 423/423 [00:42<00:00,  9.98it/s]\n"
     ]
    },
    {
     "name": "stdout",
     "output_type": "stream",
     "text": [
      "{'val_loss': 1.6606955239725, 'val_accuracy': 0.6688350088704909, 'precision': 0.6761446494318218, 'recall': 0.6688350088704909, 'f1-score': 0.6550246962755192, 'macro_f1-score': 0.411185385483858, 'balanced_accuracy': 0.40237803415346624, 'mcc': 0.5625704320565884, 'train_loss': 0.25498556079734863}\n",
      "Epoch 14/20\n"
     ]
    },
    {
     "name": "stderr",
     "output_type": "stream",
     "text": [
      "100%|██████████| 423/423 [00:42<00:00, 10.00it/s]\n"
     ]
    },
    {
     "name": "stdout",
     "output_type": "stream",
     "text": [
      "{'val_loss': 1.6272756999955986, 'val_accuracy': 0.6706091070372561, 'precision': 0.6831174155928635, 'recall': 0.6706091070372561, 'f1-score': 0.6647459945546349, 'macro_f1-score': 0.42114652746355524, 'balanced_accuracy': 0.43663665385064154, 'mcc': 0.5713870315741298, 'train_loss': 0.26971650083745274}\n",
      "Epoch 15/20\n"
     ]
    },
    {
     "name": "stderr",
     "output_type": "stream",
     "text": [
      "100%|██████████| 423/423 [00:42<00:00,  9.94it/s]\n"
     ]
    },
    {
     "name": "stdout",
     "output_type": "stream",
     "text": [
      "{'val_loss': 1.689884970210633, 'val_accuracy': 0.6694263749260793, 'precision': 0.6745735371154773, 'recall': 0.6694263749260793, 'f1-score': 0.6600783311843214, 'macro_f1-score': 0.40563999069207696, 'balanced_accuracy': 0.40903539309447656, 'mcc': 0.56136840584252, 'train_loss': 0.2877329870921958}\n",
      "Epoch 16/20\n"
     ]
    },
    {
     "name": "stderr",
     "output_type": "stream",
     "text": [
      "100%|██████████| 423/423 [00:42<00:00,  9.96it/s]\n"
     ]
    },
    {
     "name": "stdout",
     "output_type": "stream",
     "text": [
      "{'val_loss': 1.7000678195705954, 'val_accuracy': 0.6800709639266707, 'precision': 0.6923991565384847, 'recall': 0.6800709639266707, 'f1-score': 0.6707416640953658, 'macro_f1-score': 0.43346783068057526, 'balanced_accuracy': 0.4244839281766849, 'mcc': 0.5753688989757952, 'train_loss': 0.2663271897637569}\n",
      "Epoch 17/20\n"
     ]
    },
    {
     "name": "stderr",
     "output_type": "stream",
     "text": [
      "100%|██████████| 423/423 [00:42<00:00,  9.98it/s]\n"
     ]
    },
    {
     "name": "stdout",
     "output_type": "stream",
     "text": [
      "{'val_loss': 1.7250047461041864, 'val_accuracy': 0.6806623299822591, 'precision': 0.667617507054901, 'recall': 0.6806623299822591, 'f1-score': 0.6609489659571782, 'macro_f1-score': 0.42263027884197596, 'balanced_accuracy': 0.399943852499593, 'mcc': 0.5689882878867915, 'train_loss': 0.25987933654708006}\n",
      "Epoch 18/20\n"
     ]
    },
    {
     "name": "stderr",
     "output_type": "stream",
     "text": [
      "100%|██████████| 423/423 [00:42<00:00, 10.01it/s]\n"
     ]
    },
    {
     "name": "stdout",
     "output_type": "stream",
     "text": [
      "{'val_loss': 1.699471171312737, 'val_accuracy': 0.6735659373151981, 'precision': 0.684893179622392, 'recall': 0.6735659373151981, 'f1-score': 0.6707679594514822, 'macro_f1-score': 0.4317954146016143, 'balanced_accuracy': 0.41909384011381035, 'mcc': 0.5720507019733819, 'train_loss': 0.23096448728422816}\n",
      "Epoch 19/20\n"
     ]
    },
    {
     "name": "stderr",
     "output_type": "stream",
     "text": [
      "100%|██████████| 423/423 [00:42<00:00,  9.95it/s]\n"
     ]
    },
    {
     "name": "stdout",
     "output_type": "stream",
     "text": [
      "{'val_loss': 1.7934928748686358, 'val_accuracy': 0.6712004730928445, 'precision': 0.6655770933770765, 'recall': 0.6712004730928445, 'f1-score': 0.6541921582056025, 'macro_f1-score': 0.43181735648096436, 'balanced_accuracy': 0.40545773423635745, 'mcc': 0.5629642999619201, 'train_loss': 0.20975224908560197}\n",
      "Early stopping.\n",
      "\n",
      "[Fold 3]\n",
      "Label distribution after resampling:\n",
      "  label 0: 3179\n",
      "  label 1: 25\n",
      "  label 2: 112\n",
      "  label 3: 24\n",
      "  label 4: 206\n",
      "  label 5: 116\n",
      "  label 6: 94\n",
      "  label 7: 31\n",
      "  label 8: 68\n",
      "  label 9: 65\n",
      "  label 10: 71\n",
      "  label 11: 172\n",
      "  label 12: 192\n",
      "  label 13: 29\n",
      "  label 14: 23\n",
      "  label 15: 25\n",
      "  label 16: 20\n",
      "  label 17: 231\n",
      "  label 18: 93\n",
      "  label 19: 45\n",
      "  label 20: 14\n",
      "  label 21: 36\n",
      "  label 22: 77\n",
      "  label 23: 160\n",
      "  label 24: 16\n",
      "  label 25: 51\n",
      "  label 26: 85\n",
      "  label 27: 49\n",
      "  label 28: 12\n",
      "  label 29: 12\n",
      "  label 30: 16\n",
      "  label 31: 80\n",
      "  label 32: 36\n",
      "  label 33: 32\n",
      "  label 34: 29\n",
      "  label 35: 12\n",
      "  label 36: 28\n",
      "  label 37: 22\n",
      "  label 38: 5\n",
      "  label 39: 103\n",
      "  label 40: 11\n",
      "  label 41: 9\n",
      "  label 42: 147\n",
      "  label 43: 16\n",
      "  label 44: 20\n",
      "  label 45: 9\n",
      "  label 46: 55\n",
      "  label 47: 529\n",
      "  label 48: 201\n",
      "  label 49: 70\n",
      "model is bert-base-uncased bilstm\n",
      "Epoch 1/20\n"
     ]
    },
    {
     "name": "stderr",
     "output_type": "stream",
     "text": [
      "100%|██████████| 423/423 [00:42<00:00,  9.98it/s]\n"
     ]
    },
    {
     "name": "stdout",
     "output_type": "stream",
     "text": [
      "{'val_loss': 1.7182981979172185, 'val_accuracy': 0.5996451803666469, 'precision': 0.4463053367863084, 'recall': 0.5996451803666469, 'f1-score': 0.5060688362711633, 'macro_f1-score': 0.08518034401342472, 'balanced_accuracy': 0.11445574075137832, 'mcc': 0.44739454062034995, 'train_loss': 2.050516366394981}\n",
      "Epoch 2/20\n"
     ]
    },
    {
     "name": "stderr",
     "output_type": "stream",
     "text": [
      "100%|██████████| 423/423 [00:42<00:00,  9.97it/s]\n"
     ]
    },
    {
     "name": "stdout",
     "output_type": "stream",
     "text": [
      "{'val_loss': 1.4562502160387218, 'val_accuracy': 0.6179775280898876, 'precision': 0.5256588579431885, 'recall': 0.6179775280898876, 'f1-score': 0.5544769656249607, 'macro_f1-score': 0.1553347759540477, 'balanced_accuracy': 0.1637833310555042, 'mcc': 0.4663118029724635, 'train_loss': 1.505445531074037}\n",
      "Epoch 3/20\n"
     ]
    },
    {
     "name": "stderr",
     "output_type": "stream",
     "text": [
      "100%|██████████| 423/423 [00:42<00:00,  9.97it/s]\n"
     ]
    },
    {
     "name": "stdout",
     "output_type": "stream",
     "text": [
      "{'val_loss': 1.3825786591700788, 'val_accuracy': 0.6374926079243052, 'precision': 0.6019943957510745, 'recall': 0.6374926079243052, 'f1-score': 0.584455333385498, 'macro_f1-score': 0.19906599842480877, 'balanced_accuracy': 0.20731894530480757, 'mcc': 0.5085105913427157, 'train_loss': 1.2013685759641317}\n",
      "Epoch 4/20\n"
     ]
    },
    {
     "name": "stderr",
     "output_type": "stream",
     "text": [
      "100%|██████████| 423/423 [00:42<00:00,  9.95it/s]\n"
     ]
    },
    {
     "name": "stdout",
     "output_type": "stream",
     "text": [
      "{'val_loss': 1.3776750955379233, 'val_accuracy': 0.6232998225901834, 'precision': 0.6354685679078006, 'recall': 0.6232998225901834, 'f1-score': 0.6077627654723667, 'macro_f1-score': 0.2564394670281326, 'balanced_accuracy': 0.2755907609152936, 'mcc': 0.5110259046686871, 'train_loss': 0.9748927785114475}\n",
      "Epoch 5/20\n"
     ]
    },
    {
     "name": "stderr",
     "output_type": "stream",
     "text": [
      "100%|██████████| 423/423 [00:42<00:00,  9.98it/s]\n"
     ]
    },
    {
     "name": "stdout",
     "output_type": "stream",
     "text": [
      "{'val_loss': 1.4007974893979307, 'val_accuracy': 0.6558249556475458, 'precision': 0.6186664537411816, 'recall': 0.6558249556475458, 'f1-score': 0.6167114182698089, 'macro_f1-score': 0.25445861766817224, 'balanced_accuracy': 0.24512695371611953, 'mcc': 0.5254086226626622, 'train_loss': 0.7901524774043273}\n",
      "Epoch 6/20\n"
     ]
    },
    {
     "name": "stderr",
     "output_type": "stream",
     "text": [
      "100%|██████████| 423/423 [00:42<00:00, 10.02it/s]\n"
     ]
    },
    {
     "name": "stdout",
     "output_type": "stream",
     "text": [
      "{'val_loss': 1.3595890385924645, 'val_accuracy': 0.6688350088704909, 'precision': 0.6333815610313333, 'recall': 0.6688350088704909, 'f1-score': 0.6383219472897184, 'macro_f1-score': 0.3023924347640986, 'balanced_accuracy': 0.30116090399004514, 'mcc': 0.552685237161531, 'train_loss': 0.6498913994635814}\n",
      "Epoch 7/20\n"
     ]
    },
    {
     "name": "stderr",
     "output_type": "stream",
     "text": [
      "100%|██████████| 423/423 [00:42<00:00,  9.99it/s]\n"
     ]
    },
    {
     "name": "stdout",
     "output_type": "stream",
     "text": [
      "{'val_loss': 1.3702662019234784, 'val_accuracy': 0.6688350088704909, 'precision': 0.6537782163328582, 'recall': 0.6688350088704909, 'f1-score': 0.6520366925569959, 'macro_f1-score': 0.34494897332984015, 'balanced_accuracy': 0.3441522140114162, 'mcc': 0.5651862749719747, 'train_loss': 0.5453352844848982}\n",
      "Epoch 8/20\n"
     ]
    },
    {
     "name": "stderr",
     "output_type": "stream",
     "text": [
      "100%|██████████| 423/423 [00:42<00:00,  9.96it/s]\n"
     ]
    },
    {
     "name": "stdout",
     "output_type": "stream",
     "text": [
      "{'val_loss': 1.4326415272816173, 'val_accuracy': 0.6694263749260793, 'precision': 0.6567104884067195, 'recall': 0.6694263749260793, 'f1-score': 0.6532515600397054, 'macro_f1-score': 0.3721057307449157, 'balanced_accuracy': 0.3633266698242154, 'mcc': 0.5624783518449928, 'train_loss': 0.4631235842234136}\n",
      "Epoch 9/20\n"
     ]
    },
    {
     "name": "stderr",
     "output_type": "stream",
     "text": [
      "100%|██████████| 423/423 [00:42<00:00, 10.02it/s]\n"
     ]
    },
    {
     "name": "stdout",
     "output_type": "stream",
     "text": [
      "{'val_loss': 1.4627042587073344, 'val_accuracy': 0.6670609107037256, 'precision': 0.6699476155621231, 'recall': 0.6670609107037256, 'f1-score': 0.6499204304145099, 'macro_f1-score': 0.36069191250740557, 'balanced_accuracy': 0.35257312435005034, 'mcc': 0.5592141694101644, 'train_loss': 0.38445719020181374}\n",
      "Epoch 10/20\n"
     ]
    },
    {
     "name": "stderr",
     "output_type": "stream",
     "text": [
      "100%|██████████| 423/423 [00:42<00:00,  9.98it/s]\n"
     ]
    },
    {
     "name": "stdout",
     "output_type": "stream",
     "text": [
      "{'val_loss': 1.533986486635118, 'val_accuracy': 0.6510940272028386, 'precision': 0.6789675808346696, 'recall': 0.6510940272028386, 'f1-score': 0.6515743961435935, 'macro_f1-score': 0.35194232538338516, 'balanced_accuracy': 0.3656977473129159, 'mcc': 0.5497523399585624, 'train_loss': 0.3382934029907622}\n",
      "Epoch 11/20\n"
     ]
    },
    {
     "name": "stderr",
     "output_type": "stream",
     "text": [
      "100%|██████████| 423/423 [00:42<00:00,  9.99it/s]\n"
     ]
    },
    {
     "name": "stdout",
     "output_type": "stream",
     "text": [
      "{'val_loss': 1.5713110071308207, 'val_accuracy': 0.664695446481372, 'precision': 0.6527478682685448, 'recall': 0.664695446481372, 'f1-score': 0.6463015146635325, 'macro_f1-score': 0.34778396104350107, 'balanced_accuracy': 0.3397480146196273, 'mcc': 0.5523284501247778, 'train_loss': 0.31454277932467756}\n",
      "Early stopping.\n",
      "\n",
      "[Fold 4]\n",
      "Label distribution after resampling:\n",
      "  label 0: 3179\n",
      "  label 1: 25\n",
      "  label 2: 112\n",
      "  label 3: 24\n",
      "  label 4: 206\n",
      "  label 5: 116\n",
      "  label 6: 94\n",
      "  label 7: 32\n",
      "  label 8: 68\n",
      "  label 9: 64\n",
      "  label 10: 71\n",
      "  label 11: 172\n",
      "  label 12: 193\n",
      "  label 13: 28\n",
      "  label 14: 24\n",
      "  label 15: 24\n",
      "  label 16: 20\n",
      "  label 17: 232\n",
      "  label 18: 92\n",
      "  label 19: 45\n",
      "  label 20: 15\n",
      "  label 21: 35\n",
      "  label 22: 77\n",
      "  label 23: 160\n",
      "  label 24: 16\n",
      "  label 25: 51\n",
      "  label 26: 85\n",
      "  label 27: 49\n",
      "  label 28: 12\n",
      "  label 29: 13\n",
      "  label 30: 15\n",
      "  label 31: 80\n",
      "  label 32: 36\n",
      "  label 33: 32\n",
      "  label 34: 29\n",
      "  label 35: 12\n",
      "  label 36: 28\n",
      "  label 37: 22\n",
      "  label 38: 6\n",
      "  label 39: 103\n",
      "  label 40: 11\n",
      "  label 41: 9\n",
      "  label 42: 148\n",
      "  label 43: 16\n",
      "  label 44: 20\n",
      "  label 45: 8\n",
      "  label 46: 54\n",
      "  label 47: 529\n",
      "  label 48: 201\n",
      "  label 49: 70\n",
      "model is bert-base-uncased bilstm\n",
      "Epoch 1/20\n"
     ]
    },
    {
     "name": "stderr",
     "output_type": "stream",
     "text": [
      "100%|██████████| 423/423 [00:42<00:00,  9.91it/s]\n"
     ]
    },
    {
     "name": "stdout",
     "output_type": "stream",
     "text": [
      "{'val_loss': 1.6403972287223023, 'val_accuracy': 0.6085156712004731, 'precision': 0.42193181292034315, 'recall': 0.6085156712004731, 'f1-score': 0.49078367630856395, 'macro_f1-score': 0.09533168207832034, 'balanced_accuracy': 0.11546872767841203, 'mcc': 0.43614845794763885, 'train_loss': 2.0389464566611792}\n",
      "Epoch 2/20\n"
     ]
    },
    {
     "name": "stderr",
     "output_type": "stream",
     "text": [
      "100%|██████████| 423/423 [00:42<00:00, 10.04it/s]\n"
     ]
    },
    {
     "name": "stdout",
     "output_type": "stream",
     "text": [
      "{'val_loss': 1.470676892770911, 'val_accuracy': 0.618568894145476, 'precision': 0.5358133571883055, 'recall': 0.618568894145476, 'f1-score': 0.5581368958566171, 'macro_f1-score': 0.14205623156055738, 'balanced_accuracy': 0.16956984555913068, 'mcc': 0.4900273885223917, 'train_loss': 1.5206136399127068}\n",
      "Epoch 3/20\n"
     ]
    },
    {
     "name": "stderr",
     "output_type": "stream",
     "text": [
      "100%|██████████| 423/423 [00:42<00:00, 10.01it/s]\n"
     ]
    },
    {
     "name": "stdout",
     "output_type": "stream",
     "text": [
      "{'val_loss': 1.2890802762418423, 'val_accuracy': 0.6635127143701951, 'precision': 0.6273602440094735, 'recall': 0.6635127143701951, 'f1-score': 0.6201046167931877, 'macro_f1-score': 0.2215979175262101, 'balanced_accuracy': 0.23098676423500877, 'mcc': 0.5510861474317774, 'train_loss': 1.2366038731367595}\n",
      "Epoch 4/20\n"
     ]
    },
    {
     "name": "stderr",
     "output_type": "stream",
     "text": [
      "100%|██████████| 423/423 [00:42<00:00,  9.99it/s]\n"
     ]
    },
    {
     "name": "stdout",
     "output_type": "stream",
     "text": [
      "{'val_loss': 1.277357984263942, 'val_accuracy': 0.6877587226493199, 'precision': 0.6681454161912177, 'recall': 0.6877587226493199, 'f1-score': 0.651878032440332, 'macro_f1-score': 0.3037479014184331, 'balanced_accuracy': 0.30290535884121955, 'mcc': 0.5765508070610423, 'train_loss': 0.9847586468460994}\n",
      "Epoch 5/20\n"
     ]
    },
    {
     "name": "stderr",
     "output_type": "stream",
     "text": [
      "100%|██████████| 423/423 [00:42<00:00,  9.96it/s]\n"
     ]
    },
    {
     "name": "stdout",
     "output_type": "stream",
     "text": [
      "{'val_loss': 1.279309242120329, 'val_accuracy': 0.6741573033707865, 'precision': 0.6593295046513157, 'recall': 0.6741573033707865, 'f1-score': 0.6558861808992286, 'macro_f1-score': 0.312586245463099, 'balanced_accuracy': 0.3265825882479404, 'mcc': 0.5759432539707966, 'train_loss': 0.8083428504830557}\n",
      "Epoch 6/20\n"
     ]
    },
    {
     "name": "stderr",
     "output_type": "stream",
     "text": [
      "100%|██████████| 423/423 [00:42<00:00,  9.99it/s]\n"
     ]
    },
    {
     "name": "stdout",
     "output_type": "stream",
     "text": [
      "{'val_loss': 1.3188731512933407, 'val_accuracy': 0.6812536960378475, 'precision': 0.6709352619121598, 'recall': 0.6812536960378475, 'f1-score': 0.6652341142565971, 'macro_f1-score': 0.3585154366546145, 'balanced_accuracy': 0.3520130273281785, 'mcc': 0.5823893022337706, 'train_loss': 0.6397496398415056}\n",
      "Epoch 7/20\n"
     ]
    },
    {
     "name": "stderr",
     "output_type": "stream",
     "text": [
      "100%|██████████| 423/423 [00:42<00:00,  9.98it/s]\n"
     ]
    },
    {
     "name": "stdout",
     "output_type": "stream",
     "text": [
      "{'val_loss': 1.336064305367335, 'val_accuracy': 0.6924896510940272, 'precision': 0.6850305614176461, 'recall': 0.6924896510940272, 'f1-score': 0.6698484159876995, 'macro_f1-score': 0.3734002253621388, 'balanced_accuracy': 0.3469685076357171, 'mcc': 0.5869551152891346, 'train_loss': 0.5293669548616623}\n",
      "Epoch 8/20\n"
     ]
    },
    {
     "name": "stderr",
     "output_type": "stream",
     "text": [
      "100%|██████████| 423/423 [00:42<00:00,  9.98it/s]\n"
     ]
    },
    {
     "name": "stdout",
     "output_type": "stream",
     "text": [
      "{'val_loss': 1.32142196398861, 'val_accuracy': 0.6978119455943229, 'precision': 0.696414939651898, 'recall': 0.6978119455943229, 'f1-score': 0.6814723026671962, 'macro_f1-score': 0.3834226285914476, 'balanced_accuracy': 0.36064241439837935, 'mcc': 0.5985643540053515, 'train_loss': 0.45755715403115776}\n",
      "Epoch 9/20\n"
     ]
    },
    {
     "name": "stderr",
     "output_type": "stream",
     "text": [
      "100%|██████████| 423/423 [00:42<00:00,  9.97it/s]\n"
     ]
    },
    {
     "name": "stdout",
     "output_type": "stream",
     "text": [
      "{'val_loss': 1.3635431290516313, 'val_accuracy': 0.6729745712596097, 'precision': 0.7013397547445993, 'recall': 0.6729745712596097, 'f1-score': 0.6732730854239785, 'macro_f1-score': 0.3784627993454688, 'balanced_accuracy': 0.3885804193261398, 'mcc': 0.5740333172515325, 'train_loss': 0.3929468584742318}\n",
      "Epoch 10/20\n"
     ]
    },
    {
     "name": "stderr",
     "output_type": "stream",
     "text": [
      "100%|██████████| 423/423 [00:42<00:00, 10.00it/s]\n"
     ]
    },
    {
     "name": "stdout",
     "output_type": "stream",
     "text": [
      "{'val_loss': 1.3452839235652168, 'val_accuracy': 0.7090479006505027, 'precision': 0.7108877196075913, 'recall': 0.7090479006505027, 'f1-score': 0.6935447607194082, 'macro_f1-score': 0.4239992317355113, 'balanced_accuracy': 0.4162893637739898, 'mcc': 0.6120929668163524, 'train_loss': 0.35247165087531224}\n",
      "Epoch 11/20\n"
     ]
    },
    {
     "name": "stderr",
     "output_type": "stream",
     "text": [
      "100%|██████████| 423/423 [00:42<00:00, 10.00it/s]\n"
     ]
    },
    {
     "name": "stdout",
     "output_type": "stream",
     "text": [
      "{'val_loss': 1.43539143431018, 'val_accuracy': 0.6984033116499113, 'precision': 0.7016239644927523, 'recall': 0.6984033116499113, 'f1-score': 0.6876485468797612, 'macro_f1-score': 0.4289332112638572, 'balanced_accuracy': 0.43922848323000535, 'mcc': 0.6048113182784272, 'train_loss': 0.3043757517300282}\n",
      "Epoch 12/20\n"
     ]
    },
    {
     "name": "stderr",
     "output_type": "stream",
     "text": [
      "100%|██████████| 423/423 [00:42<00:00,  9.99it/s]\n"
     ]
    },
    {
     "name": "stdout",
     "output_type": "stream",
     "text": [
      "{'val_loss': 1.4390262895667891, 'val_accuracy': 0.6794795978710823, 'precision': 0.6957710528833433, 'recall': 0.6794795978710823, 'f1-score': 0.6736001028888916, 'macro_f1-score': 0.41513709730414233, 'balanced_accuracy': 0.40970016206554677, 'mcc': 0.5767435908772416, 'train_loss': 0.31398954007545615}\n",
      "Epoch 13/20\n"
     ]
    },
    {
     "name": "stderr",
     "output_type": "stream",
     "text": [
      "100%|██████████| 423/423 [00:42<00:00, 10.00it/s]\n"
     ]
    },
    {
     "name": "stdout",
     "output_type": "stream",
     "text": [
      "{'val_loss': 1.4498677652961802, 'val_accuracy': 0.6930810171496156, 'precision': 0.7090078617207533, 'recall': 0.6930810171496156, 'f1-score': 0.6901836637676985, 'macro_f1-score': 0.46050826446052, 'balanced_accuracy': 0.45680561659128416, 'mcc': 0.5961767092107815, 'train_loss': 0.26769807057820666}\n",
      "Epoch 14/20\n"
     ]
    },
    {
     "name": "stderr",
     "output_type": "stream",
     "text": [
      "100%|██████████| 423/423 [00:42<00:00,  9.98it/s]\n"
     ]
    },
    {
     "name": "stdout",
     "output_type": "stream",
     "text": [
      "{'val_loss': 1.4885926885565497, 'val_accuracy': 0.6918982850384388, 'precision': 0.7112158200012411, 'recall': 0.6918982850384388, 'f1-score': 0.6910238232473461, 'macro_f1-score': 0.44538556452813494, 'balanced_accuracy': 0.45190166928283654, 'mcc': 0.5959538523629946, 'train_loss': 0.231776139673603}\n",
      "Epoch 15/20\n"
     ]
    },
    {
     "name": "stderr",
     "output_type": "stream",
     "text": [
      "100%|██████████| 423/423 [00:42<00:00, 10.00it/s]\n"
     ]
    },
    {
     "name": "stdout",
     "output_type": "stream",
     "text": [
      "{'val_loss': 1.4806194543697924, 'val_accuracy': 0.6895328208160851, 'precision': 0.6846191346102437, 'recall': 0.6895328208160851, 'f1-score': 0.6737688435306504, 'macro_f1-score': 0.4210747723860127, 'balanced_accuracy': 0.40432959717814276, 'mcc': 0.5878338269027861, 'train_loss': 0.2503267453342729}\n",
      "Epoch 16/20\n"
     ]
    },
    {
     "name": "stderr",
     "output_type": "stream",
     "text": [
      "100%|██████████| 423/423 [00:42<00:00,  9.96it/s]\n"
     ]
    },
    {
     "name": "stdout",
     "output_type": "stream",
     "text": [
      "{'val_loss': 1.4870513731016304, 'val_accuracy': 0.6853932584269663, 'precision': 0.6915426253183686, 'recall': 0.6853932584269663, 'f1-score': 0.6775698423502042, 'macro_f1-score': 0.42096878153795275, 'balanced_accuracy': 0.4258101934634845, 'mcc': 0.5861363614149547, 'train_loss': 0.25070385122341465}\n",
      "Early stopping.\n",
      "\n",
      "[Fold 5]\n",
      "Label distribution after resampling:\n",
      "  label 0: 3180\n",
      "  label 1: 24\n",
      "  label 2: 112\n",
      "  label 3: 24\n",
      "  label 4: 205\n",
      "  label 5: 116\n",
      "  label 6: 95\n",
      "  label 7: 31\n",
      "  label 8: 68\n",
      "  label 9: 65\n",
      "  label 10: 70\n",
      "  label 11: 172\n",
      "  label 12: 193\n",
      "  label 13: 29\n",
      "  label 14: 23\n",
      "  label 15: 25\n",
      "  label 16: 20\n",
      "  label 17: 231\n",
      "  label 18: 93\n",
      "  label 19: 44\n",
      "  label 20: 15\n",
      "  label 21: 35\n",
      "  label 22: 78\n",
      "  label 23: 160\n",
      "  label 24: 16\n",
      "  label 25: 50\n",
      "  label 26: 86\n",
      "  label 27: 48\n",
      "  label 28: 12\n",
      "  label 29: 13\n",
      "  label 30: 15\n",
      "  label 31: 80\n",
      "  label 32: 36\n",
      "  label 33: 32\n",
      "  label 34: 30\n",
      "  label 35: 12\n",
      "  label 36: 28\n",
      "  label 37: 21\n",
      "  label 38: 6\n",
      "  label 39: 104\n",
      "  label 40: 11\n",
      "  label 41: 9\n",
      "  label 42: 147\n",
      "  label 43: 16\n",
      "  label 44: 20\n",
      "  label 45: 9\n",
      "  label 46: 54\n",
      "  label 47: 529\n",
      "  label 48: 202\n",
      "  label 49: 70\n",
      "model is bert-base-uncased bilstm\n",
      "Epoch 1/20\n"
     ]
    },
    {
     "name": "stderr",
     "output_type": "stream",
     "text": [
      "100%|██████████| 423/423 [00:42<00:00, 10.05it/s]\n"
     ]
    },
    {
     "name": "stdout",
     "output_type": "stream",
     "text": [
      "{'val_loss': 1.695151668112233, 'val_accuracy': 0.6017751479289941, 'precision': 0.4221906959296715, 'recall': 0.6017751479289941, 'f1-score': 0.48282989942530097, 'macro_f1-score': 0.08995057470926027, 'balanced_accuracy': 0.10123799586819902, 'mcc': 0.42196380213668455, 'train_loss': 2.026445874931119}\n",
      "Epoch 2/20\n"
     ]
    },
    {
     "name": "stderr",
     "output_type": "stream",
     "text": [
      "100%|██████████| 423/423 [00:42<00:00, 10.00it/s]\n"
     ]
    },
    {
     "name": "stdout",
     "output_type": "stream",
     "text": [
      "{'val_loss': 1.434064747589939, 'val_accuracy': 0.6384615384615384, 'precision': 0.5094546567253385, 'recall': 0.6384615384615384, 'f1-score': 0.5466156203659303, 'macro_f1-score': 0.14232810674539093, 'balanced_accuracy': 0.1519324964297394, 'mcc': 0.4931409995316823, 'train_loss': 1.5132865574624803}\n",
      "Epoch 3/20\n"
     ]
    },
    {
     "name": "stderr",
     "output_type": "stream",
     "text": [
      "100%|██████████| 423/423 [00:42<00:00,  9.99it/s]\n"
     ]
    },
    {
     "name": "stdout",
     "output_type": "stream",
     "text": [
      "{'val_loss': 1.3263912037858423, 'val_accuracy': 0.6579881656804734, 'precision': 0.5862100901608167, 'recall': 0.6579881656804734, 'f1-score': 0.5994236981125184, 'macro_f1-score': 0.19624765863782045, 'balanced_accuracy': 0.20388301462323669, 'mcc': 0.5311241316465394, 'train_loss': 1.2184607091384012}\n",
      "Epoch 4/20\n"
     ]
    },
    {
     "name": "stderr",
     "output_type": "stream",
     "text": [
      "100%|██████████| 423/423 [00:42<00:00,  9.99it/s]\n"
     ]
    },
    {
     "name": "stdout",
     "output_type": "stream",
     "text": [
      "{'val_loss': 1.3521324927514453, 'val_accuracy': 0.6603550295857988, 'precision': 0.6141682138278357, 'recall': 0.6603550295857988, 'f1-score': 0.6275078994352058, 'macro_f1-score': 0.24824694196889222, 'balanced_accuracy': 0.24865471701043465, 'mcc': 0.5458045066920886, 'train_loss': 0.9788489304571005}\n",
      "Epoch 5/20\n"
     ]
    },
    {
     "name": "stderr",
     "output_type": "stream",
     "text": [
      "100%|██████████| 423/423 [00:42<00:00,  9.97it/s]\n"
     ]
    },
    {
     "name": "stdout",
     "output_type": "stream",
     "text": [
      "{'val_loss': 1.3094050735235214, 'val_accuracy': 0.678698224852071, 'precision': 0.6590948688415597, 'recall': 0.678698224852071, 'f1-score': 0.6567043542296577, 'macro_f1-score': 0.29907392924473164, 'balanced_accuracy': 0.3087084300000244, 'mcc': 0.5780825615255817, 'train_loss': 0.7747414064181893}\n",
      "Epoch 6/20\n"
     ]
    },
    {
     "name": "stderr",
     "output_type": "stream",
     "text": [
      "100%|██████████| 423/423 [00:42<00:00,  9.98it/s]\n"
     ]
    },
    {
     "name": "stdout",
     "output_type": "stream",
     "text": [
      "{'val_loss': 1.3765951968588919, 'val_accuracy': 0.670414201183432, 'precision': 0.6701656678227819, 'recall': 0.670414201183432, 'f1-score': 0.6526198147970721, 'macro_f1-score': 0.31811998120021256, 'balanced_accuracy': 0.3330610117682638, 'mcc': 0.5674852215923872, 'train_loss': 0.6466834348743126}\n",
      "Epoch 7/20\n"
     ]
    },
    {
     "name": "stderr",
     "output_type": "stream",
     "text": [
      "100%|██████████| 423/423 [00:42<00:00,  9.97it/s]\n"
     ]
    },
    {
     "name": "stdout",
     "output_type": "stream",
     "text": [
      "{'val_loss': 1.3203280500645906, 'val_accuracy': 0.6757396449704142, 'precision': 0.6793885122168835, 'recall': 0.6757396449704142, 'f1-score': 0.6614919659050145, 'macro_f1-score': 0.3268910813955093, 'balanced_accuracy': 0.3381972905201646, 'mcc': 0.5750819508900711, 'train_loss': 0.521974227899778}\n",
      "Epoch 8/20\n"
     ]
    },
    {
     "name": "stderr",
     "output_type": "stream",
     "text": [
      "100%|██████████| 423/423 [00:42<00:00,  9.98it/s]\n"
     ]
    },
    {
     "name": "stdout",
     "output_type": "stream",
     "text": [
      "{'val_loss': 1.428120047838058, 'val_accuracy': 0.6686390532544378, 'precision': 0.6526812440289638, 'recall': 0.6686390532544378, 'f1-score': 0.6495783498296784, 'macro_f1-score': 0.31522819562774085, 'balanced_accuracy': 0.31697375556614044, 'mcc': 0.5598867564044232, 'train_loss': 0.4409490233379687}\n",
      "Epoch 9/20\n"
     ]
    },
    {
     "name": "stderr",
     "output_type": "stream",
     "text": [
      "100%|██████████| 423/423 [00:42<00:00, 10.00it/s]\n"
     ]
    },
    {
     "name": "stdout",
     "output_type": "stream",
     "text": [
      "{'val_loss': 1.4891369668942578, 'val_accuracy': 0.6692307692307692, 'precision': 0.6904697181163225, 'recall': 0.6692307692307692, 'f1-score': 0.6602919365968333, 'macro_f1-score': 0.3279794471040988, 'balanced_accuracy': 0.32264916137553556, 'mcc': 0.5627786011650302, 'train_loss': 0.3896273426517809}\n",
      "Epoch 10/20\n"
     ]
    },
    {
     "name": "stderr",
     "output_type": "stream",
     "text": [
      "100%|██████████| 423/423 [00:42<00:00, 10.02it/s]\n"
     ]
    },
    {
     "name": "stdout",
     "output_type": "stream",
     "text": [
      "{'val_loss': 1.4908088978450253, 'val_accuracy': 0.6727810650887573, 'precision': 0.6713451195718849, 'recall': 0.6727810650887573, 'f1-score': 0.6527864586405195, 'macro_f1-score': 0.3184595535096903, 'balanced_accuracy': 0.31137117873637477, 'mcc': 0.5633750974027105, 'train_loss': 0.33824479436814503}\n",
      "Epoch 11/20\n"
     ]
    },
    {
     "name": "stderr",
     "output_type": "stream",
     "text": [
      "100%|██████████| 423/423 [00:42<00:00,  9.94it/s]\n"
     ]
    },
    {
     "name": "stdout",
     "output_type": "stream",
     "text": [
      "{'val_loss': 1.5280754020753897, 'val_accuracy': 0.6650887573964497, 'precision': 0.7015499222106957, 'recall': 0.6650887573964497, 'f1-score': 0.6656738213585894, 'macro_f1-score': 0.3468345562555388, 'balanced_accuracy': 0.3436273167192748, 'mcc': 0.565196808935052, 'train_loss': 0.31868708496318854}\n",
      "Epoch 12/20\n"
     ]
    },
    {
     "name": "stderr",
     "output_type": "stream",
     "text": [
      "100%|██████████| 423/423 [00:42<00:00,  9.97it/s]\n"
     ]
    },
    {
     "name": "stdout",
     "output_type": "stream",
     "text": [
      "{'val_loss': 1.554100965764725, 'val_accuracy': 0.6745562130177515, 'precision': 0.6861920077701682, 'recall': 0.6745562130177515, 'f1-score': 0.6699411731827241, 'macro_f1-score': 0.36329519828850865, 'balanced_accuracy': 0.38127077547893, 'mcc': 0.5780534920867808, 'train_loss': 0.26833500930638743}\n",
      "Epoch 13/20\n"
     ]
    },
    {
     "name": "stderr",
     "output_type": "stream",
     "text": [
      "100%|██████████| 423/423 [00:42<00:00,  9.98it/s]\n"
     ]
    },
    {
     "name": "stdout",
     "output_type": "stream",
     "text": [
      "{'val_loss': 1.5858669147457716, 'val_accuracy': 0.6875739644970414, 'precision': 0.6631981326231073, 'recall': 0.6875739644970414, 'f1-score': 0.6663943778231389, 'macro_f1-score': 0.34814713756304366, 'balanced_accuracy': 0.34256913512671894, 'mcc': 0.579422625904231, 'train_loss': 0.25369723155284324}\n",
      "Epoch 14/20\n"
     ]
    },
    {
     "name": "stderr",
     "output_type": "stream",
     "text": [
      "100%|██████████| 423/423 [00:42<00:00,  9.95it/s]\n"
     ]
    },
    {
     "name": "stdout",
     "output_type": "stream",
     "text": [
      "{'val_loss': 1.6902412551472772, 'val_accuracy': 0.672189349112426, 'precision': 0.6744880952561928, 'recall': 0.672189349112426, 'f1-score': 0.6576987218424157, 'macro_f1-score': 0.3403970631289805, 'balanced_accuracy': 0.3276128930535598, 'mcc': 0.5598044669916725, 'train_loss': 0.2262972442952841}\n",
      "Epoch 15/20\n"
     ]
    },
    {
     "name": "stderr",
     "output_type": "stream",
     "text": [
      "100%|██████████| 423/423 [00:42<00:00,  9.97it/s]\n"
     ]
    },
    {
     "name": "stdout",
     "output_type": "stream",
     "text": [
      "{'val_loss': 1.6922189590503585, 'val_accuracy': 0.6911242603550296, 'precision': 0.673526482103039, 'recall': 0.6911242603550296, 'f1-score': 0.6656836015839195, 'macro_f1-score': 0.3479396170521511, 'balanced_accuracy': 0.32814020620298173, 'mcc': 0.5818298023915034, 'train_loss': 0.22361314853204164}\n",
      "Early stopping.\n",
      "\n",
      " === bert-base-uncased + bilstm + none Final 10-fold Cross-Validation Results ===\n",
      "Total time: 3669 seconds\n",
      "Total time: 1 hrs 1 mins 9 secs\n",
      "val_loss: 1.5609\n",
      "val_accuracy: 0.6761\n",
      "precision: 0.6829\n",
      "recall: 0.6761\n",
      "f1-score: 0.6683\n",
      "macro_f1-score: 0.4076\n",
      "balanced_accuracy: 0.4068\n",
      "mcc: 0.5743\n",
      "train_loss: 0.2996\n",
      "▶ Running: roberta-base + plain + none\n",
      "tokenizer is roberta-base\n",
      "Using device: cuda\n",
      "CUDA Available: True\n",
      "CUDA Device: NVIDIA GeForce RTX 5070 Ti\n",
      "Current GPU Memory Allocated: 0.02 GB\n",
      "Current GPU Memory Cached: 3.14 GB\n",
      "\n",
      "[Fold 1]\n",
      "Label distribution after resampling:\n",
      "  label 0: 3179\n",
      "  label 1: 25\n",
      "  label 2: 112\n",
      "  label 3: 24\n",
      "  label 4: 205\n",
      "  label 5: 116\n",
      "  label 6: 95\n",
      "  label 7: 31\n",
      "  label 8: 68\n",
      "  label 9: 65\n",
      "  label 10: 70\n",
      "  label 11: 172\n",
      "  label 12: 193\n",
      "  label 13: 29\n",
      "  label 14: 23\n",
      "  label 15: 25\n",
      "  label 16: 20\n",
      "  label 17: 231\n",
      "  label 18: 93\n",
      "  label 19: 45\n",
      "  label 20: 14\n",
      "  label 21: 35\n",
      "  label 22: 78\n",
      "  label 23: 160\n",
      "  label 24: 16\n",
      "  label 25: 50\n",
      "  label 26: 86\n",
      "  label 27: 49\n",
      "  label 28: 12\n",
      "  label 29: 13\n",
      "  label 30: 15\n",
      "  label 31: 80\n",
      "  label 32: 36\n",
      "  label 33: 32\n",
      "  label 34: 30\n",
      "  label 35: 12\n",
      "  label 36: 28\n",
      "  label 37: 21\n",
      "  label 38: 6\n",
      "  label 39: 103\n",
      "  label 40: 12\n",
      "  label 41: 8\n",
      "  label 42: 147\n",
      "  label 43: 16\n",
      "  label 44: 20\n",
      "  label 45: 9\n",
      "  label 46: 54\n",
      "  label 47: 529\n",
      "  label 48: 202\n",
      "  label 49: 69\n",
      "model is roberta-base\n"
     ]
    },
    {
     "name": "stderr",
     "output_type": "stream",
     "text": [
      "Some weights of RobertaForSequenceClassification were not initialized from the model checkpoint at roberta-base and are newly initialized: ['classifier.dense.bias', 'classifier.dense.weight', 'classifier.out_proj.bias', 'classifier.out_proj.weight']\n",
      "You should probably TRAIN this model on a down-stream task to be able to use it for predictions and inference.\n"
     ]
    },
    {
     "name": "stdout",
     "output_type": "stream",
     "text": [
      "Epoch 1/20\n"
     ]
    },
    {
     "name": "stderr",
     "output_type": "stream",
     "text": [
      "100%|██████████| 423/423 [00:36<00:00, 11.52it/s]\n"
     ]
    },
    {
     "name": "stdout",
     "output_type": "stream",
     "text": [
      "{'val_loss': 1.6230191146990038, 'val_accuracy': 0.589591957421644, 'precision': 0.38374913932548116, 'recall': 0.589591957421644, 'f1-score': 0.4606906881229932, 'macro_f1-score': 0.06273663348482322, 'balanced_accuracy': 0.07817218327107722, 'mcc': 0.3972048152103665, 'train_loss': 1.9321789780970724}\n",
      "Epoch 2/20\n"
     ]
    },
    {
     "name": "stderr",
     "output_type": "stream",
     "text": [
      "100%|██████████| 423/423 [00:36<00:00, 11.51it/s]\n"
     ]
    },
    {
     "name": "stdout",
     "output_type": "stream",
     "text": [
      "{'val_loss': 1.3554322837658648, 'val_accuracy': 0.6339444115907746, 'precision': 0.5646741779219946, 'recall': 0.6339444115907746, 'f1-score': 0.5633372934966093, 'macro_f1-score': 0.16527890040679033, 'balanced_accuracy': 0.17733128433053083, 'mcc': 0.49306291356335985, 'train_loss': 1.4371274993986103}\n",
      "Epoch 3/20\n"
     ]
    },
    {
     "name": "stderr",
     "output_type": "stream",
     "text": [
      "100%|██████████| 423/423 [00:36<00:00, 11.53it/s]\n"
     ]
    },
    {
     "name": "stdout",
     "output_type": "stream",
     "text": [
      "{'val_loss': 1.3007082885728691, 'val_accuracy': 0.6475458308693081, 'precision': 0.6120528659294864, 'recall': 0.6475458308693081, 'f1-score': 0.613630880194457, 'macro_f1-score': 0.24763390719683076, 'balanced_accuracy': 0.25189098522490616, 'mcc': 0.5301631771438026, 'train_loss': 1.1648752873952788}\n",
      "Epoch 4/20\n"
     ]
    },
    {
     "name": "stderr",
     "output_type": "stream",
     "text": [
      "100%|██████████| 423/423 [00:36<00:00, 11.53it/s]\n"
     ]
    },
    {
     "name": "stdout",
     "output_type": "stream",
     "text": [
      "{'val_loss': 1.2925374884650391, 'val_accuracy': 0.654642223536369, 'precision': 0.6287851869787467, 'recall': 0.654642223536369, 'f1-score': 0.6224069312317226, 'macro_f1-score': 0.2488495336527886, 'balanced_accuracy': 0.2491638471388391, 'mcc': 0.5318506201671471, 'train_loss': 0.975693011026715}\n",
      "Epoch 5/20\n"
     ]
    },
    {
     "name": "stderr",
     "output_type": "stream",
     "text": [
      "100%|██████████| 423/423 [00:36<00:00, 11.52it/s]\n"
     ]
    },
    {
     "name": "stdout",
     "output_type": "stream",
     "text": [
      "{'val_loss': 1.3273796146770693, 'val_accuracy': 0.6493199290360734, 'precision': 0.6567649279479375, 'recall': 0.6493199290360734, 'f1-score': 0.6402252408566909, 'macro_f1-score': 0.3300442448724245, 'balanced_accuracy': 0.33854110433899676, 'mcc': 0.5479703673242852, 'train_loss': 0.8257699351467139}\n",
      "Epoch 6/20\n"
     ]
    },
    {
     "name": "stderr",
     "output_type": "stream",
     "text": [
      "100%|██████████| 423/423 [00:36<00:00, 11.51it/s]\n"
     ]
    },
    {
     "name": "stdout",
     "output_type": "stream",
     "text": [
      "{'val_loss': 1.3754752723957009, 'val_accuracy': 0.6439976345357776, 'precision': 0.6702327703465895, 'recall': 0.6439976345357776, 'f1-score': 0.6393640568247387, 'macro_f1-score': 0.3320126565470054, 'balanced_accuracy': 0.3464206626052258, 'mcc': 0.541395773795564, 'train_loss': 0.6881257013966006}\n",
      "Epoch 7/20\n"
     ]
    },
    {
     "name": "stderr",
     "output_type": "stream",
     "text": [
      "100%|██████████| 423/423 [00:36<00:00, 11.50it/s]\n"
     ]
    },
    {
     "name": "stdout",
     "output_type": "stream",
     "text": [
      "{'val_loss': 1.469206579451291, 'val_accuracy': 0.6593731519810763, 'precision': 0.669036162077593, 'recall': 0.6593731519810763, 'f1-score': 0.6438330093721989, 'macro_f1-score': 0.3600526353344932, 'balanced_accuracy': 0.35828561570181355, 'mcc': 0.5524106264842178, 'train_loss': 0.5837905720387085}\n",
      "Epoch 8/20\n"
     ]
    },
    {
     "name": "stderr",
     "output_type": "stream",
     "text": [
      "100%|██████████| 423/423 [00:36<00:00, 11.50it/s]\n"
     ]
    },
    {
     "name": "stdout",
     "output_type": "stream",
     "text": [
      "{'val_loss': 1.426302819038337, 'val_accuracy': 0.6717918391484329, 'precision': 0.6487235900440557, 'recall': 0.6717918391484329, 'f1-score': 0.6500139545021807, 'macro_f1-score': 0.34216201933927776, 'balanced_accuracy': 0.32151381939353046, 'mcc': 0.5581896737900689, 'train_loss': 0.49839696564643376}\n",
      "Epoch 9/20\n"
     ]
    },
    {
     "name": "stderr",
     "output_type": "stream",
     "text": [
      "100%|██████████| 423/423 [00:36<00:00, 11.50it/s]\n"
     ]
    },
    {
     "name": "stdout",
     "output_type": "stream",
     "text": [
      "{'val_loss': 1.5574960635518127, 'val_accuracy': 0.6439976345357776, 'precision': 0.6695741702959647, 'recall': 0.6439976345357776, 'f1-score': 0.6439262138537125, 'macro_f1-score': 0.35329615433462697, 'balanced_accuracy': 0.3549197745959397, 'mcc': 0.5386569940241417, 'train_loss': 0.44258363190025585}\n",
      "Epoch 10/20\n"
     ]
    },
    {
     "name": "stderr",
     "output_type": "stream",
     "text": [
      "100%|██████████| 423/423 [00:36<00:00, 11.51it/s]\n"
     ]
    },
    {
     "name": "stdout",
     "output_type": "stream",
     "text": [
      "{'val_loss': 1.499476081638966, 'val_accuracy': 0.6599645180366647, 'precision': 0.6627716919872357, 'recall': 0.6599645180366647, 'f1-score': 0.6504388384382687, 'macro_f1-score': 0.38772923763319567, 'balanced_accuracy': 0.40106848984377763, 'mcc': 0.5564309663833606, 'train_loss': 0.3873591995787043}\n",
      "Epoch 11/20\n"
     ]
    },
    {
     "name": "stderr",
     "output_type": "stream",
     "text": [
      "100%|██████████| 423/423 [00:36<00:00, 11.51it/s]\n"
     ]
    },
    {
     "name": "stdout",
     "output_type": "stream",
     "text": [
      "{'val_loss': 1.5442221604709356, 'val_accuracy': 0.6694263749260793, 'precision': 0.664013645890613, 'recall': 0.6694263749260793, 'f1-score': 0.6520097304890279, 'macro_f1-score': 0.36720415033545584, 'balanced_accuracy': 0.35265609246882945, 'mcc': 0.5577422879859871, 'train_loss': 0.3435409908176314}\n",
      "Epoch 12/20\n"
     ]
    },
    {
     "name": "stderr",
     "output_type": "stream",
     "text": [
      "100%|██████████| 423/423 [00:36<00:00, 11.52it/s]\n"
     ]
    },
    {
     "name": "stdout",
     "output_type": "stream",
     "text": [
      "{'val_loss': 1.612682043943765, 'val_accuracy': 0.6729745712596097, 'precision': 0.6768765459737133, 'recall': 0.6729745712596097, 'f1-score': 0.6532287711014549, 'macro_f1-score': 0.38088933841430794, 'balanced_accuracy': 0.37671824095183276, 'mcc': 0.5683563953413656, 'train_loss': 0.31214902141124856}\n",
      "Epoch 13/20\n"
     ]
    },
    {
     "name": "stderr",
     "output_type": "stream",
     "text": [
      "100%|██████████| 423/423 [00:36<00:00, 11.51it/s]\n"
     ]
    },
    {
     "name": "stdout",
     "output_type": "stream",
     "text": [
      "{'val_loss': 1.6878569719364058, 'val_accuracy': 0.6842105263157895, 'precision': 0.6598425254748204, 'recall': 0.6842105263157895, 'f1-score': 0.6534483296304868, 'macro_f1-score': 0.3739294203935333, 'balanced_accuracy': 0.34612584522973444, 'mcc': 0.5684682139630775, 'train_loss': 0.29631689221248136}\n",
      "Early stopping.\n",
      "\n",
      "[Fold 2]\n",
      "Label distribution after resampling:\n",
      "  label 0: 3179\n",
      "  label 1: 25\n",
      "  label 2: 112\n",
      "  label 3: 24\n",
      "  label 4: 206\n",
      "  label 5: 116\n",
      "  label 6: 94\n",
      "  label 7: 31\n",
      "  label 8: 68\n",
      "  label 9: 65\n",
      "  label 10: 70\n",
      "  label 11: 172\n",
      "  label 12: 193\n",
      "  label 13: 29\n",
      "  label 14: 23\n",
      "  label 15: 25\n",
      "  label 16: 20\n",
      "  label 17: 231\n",
      "  label 18: 93\n",
      "  label 19: 45\n",
      "  label 20: 14\n",
      "  label 21: 35\n",
      "  label 22: 78\n",
      "  label 23: 160\n",
      "  label 24: 16\n",
      "  label 25: 50\n",
      "  label 26: 86\n",
      "  label 27: 49\n",
      "  label 28: 12\n",
      "  label 29: 13\n",
      "  label 30: 15\n",
      "  label 31: 80\n",
      "  label 32: 36\n",
      "  label 33: 32\n",
      "  label 34: 30\n",
      "  label 35: 12\n",
      "  label 36: 28\n",
      "  label 37: 22\n",
      "  label 38: 5\n",
      "  label 39: 103\n",
      "  label 40: 11\n",
      "  label 41: 9\n",
      "  label 42: 147\n",
      "  label 43: 16\n",
      "  label 44: 20\n",
      "  label 45: 9\n",
      "  label 46: 55\n",
      "  label 47: 528\n",
      "  label 48: 202\n",
      "  label 49: 69\n",
      "model is roberta-base\n"
     ]
    },
    {
     "name": "stderr",
     "output_type": "stream",
     "text": [
      "Some weights of RobertaForSequenceClassification were not initialized from the model checkpoint at roberta-base and are newly initialized: ['classifier.dense.bias', 'classifier.dense.weight', 'classifier.out_proj.bias', 'classifier.out_proj.weight']\n",
      "You should probably TRAIN this model on a down-stream task to be able to use it for predictions and inference.\n"
     ]
    },
    {
     "name": "stdout",
     "output_type": "stream",
     "text": [
      "Epoch 1/20\n"
     ]
    },
    {
     "name": "stderr",
     "output_type": "stream",
     "text": [
      "100%|██████████| 423/423 [00:36<00:00, 11.49it/s]\n"
     ]
    },
    {
     "name": "stdout",
     "output_type": "stream",
     "text": [
      "{'val_loss': 1.598767896868148, 'val_accuracy': 0.5990538143110585, 'precision': 0.4470910740210632, 'recall': 0.5990538143110585, 'f1-score': 0.49933125877096424, 'macro_f1-score': 0.09962803696306059, 'balanced_accuracy': 0.11261850168836247, 'mcc': 0.42625135147294063, 'train_loss': 1.9366877040964492}\n",
      "Epoch 2/20\n"
     ]
    },
    {
     "name": "stderr",
     "output_type": "stream",
     "text": [
      "100%|██████████| 423/423 [00:36<00:00, 11.51it/s]\n"
     ]
    },
    {
     "name": "stdout",
     "output_type": "stream",
     "text": [
      "{'val_loss': 1.4403462916050318, 'val_accuracy': 0.6067415730337079, 'precision': 0.5144099416661794, 'recall': 0.6067415730337079, 'f1-score': 0.5327318328780689, 'macro_f1-score': 0.14693314480672875, 'balanced_accuracy': 0.15728980188074504, 'mcc': 0.44620263161359586, 'train_loss': 1.4652124147324979}\n",
      "Epoch 3/20\n"
     ]
    },
    {
     "name": "stderr",
     "output_type": "stream",
     "text": [
      "100%|██████████| 423/423 [00:36<00:00, 11.51it/s]\n"
     ]
    },
    {
     "name": "stdout",
     "output_type": "stream",
     "text": [
      "{'val_loss': 1.4435766699179164, 'val_accuracy': 0.6079243051448847, 'precision': 0.5798418764535747, 'recall': 0.6079243051448847, 'f1-score': 0.5693607608864741, 'macro_f1-score': 0.1915314711544295, 'balanced_accuracy': 0.20309180183467554, 'mcc': 0.4834660075155457, 'train_loss': 1.257753923641029}\n",
      "Epoch 4/20\n"
     ]
    },
    {
     "name": "stderr",
     "output_type": "stream",
     "text": [
      "100%|██████████| 423/423 [00:36<00:00, 11.50it/s]\n"
     ]
    },
    {
     "name": "stdout",
     "output_type": "stream",
     "text": [
      "{'val_loss': 1.3985561573842786, 'val_accuracy': 0.6238911886457718, 'precision': 0.6404452575621373, 'recall': 0.6238911886457718, 'f1-score': 0.6106009925768336, 'macro_f1-score': 0.24642148956792354, 'balanced_accuracy': 0.262785657263827, 'mcc': 0.5153553721078526, 'train_loss': 1.0747472250362942}\n",
      "Epoch 5/20\n"
     ]
    },
    {
     "name": "stderr",
     "output_type": "stream",
     "text": [
      "100%|██████████| 423/423 [00:36<00:00, 11.51it/s]\n"
     ]
    },
    {
     "name": "stdout",
     "output_type": "stream",
     "text": [
      "{'val_loss': 1.2698678998452313, 'val_accuracy': 0.6723832052040213, 'precision': 0.6448360602951055, 'recall': 0.6723832052040213, 'f1-score': 0.6389963461813875, 'macro_f1-score': 0.28617832592323333, 'balanced_accuracy': 0.2834923953477579, 'mcc': 0.5533580231798599, 'train_loss': 0.9209352286431243}\n",
      "Epoch 6/20\n"
     ]
    },
    {
     "name": "stderr",
     "output_type": "stream",
     "text": [
      "100%|██████████| 423/423 [00:36<00:00, 11.51it/s]\n"
     ]
    },
    {
     "name": "stdout",
     "output_type": "stream",
     "text": [
      "{'val_loss': 1.358532895738224, 'val_accuracy': 0.6611472501478415, 'precision': 0.6269065557385803, 'recall': 0.6611472501478415, 'f1-score': 0.6176915202433986, 'macro_f1-score': 0.2885003227273136, 'balanced_accuracy': 0.28535362053062824, 'mcc': 0.5393816674361525, 'train_loss': 0.7861225319141192}\n",
      "Epoch 7/20\n"
     ]
    },
    {
     "name": "stderr",
     "output_type": "stream",
     "text": [
      "100%|██████████| 423/423 [00:36<00:00, 11.51it/s]\n"
     ]
    },
    {
     "name": "stdout",
     "output_type": "stream",
     "text": [
      "{'val_loss': 1.3821569391578998, 'val_accuracy': 0.6765227675931401, 'precision': 0.6375149108559994, 'recall': 0.6765227675931401, 'f1-score': 0.6417549703606623, 'macro_f1-score': 0.32399945611528347, 'balanced_accuracy': 0.32209667129959013, 'mcc': 0.5610196622934457, 'train_loss': 0.6803885866352852}\n",
      "Epoch 8/20\n"
     ]
    },
    {
     "name": "stderr",
     "output_type": "stream",
     "text": [
      "100%|██████████| 423/423 [00:36<00:00, 11.52it/s]\n"
     ]
    },
    {
     "name": "stdout",
     "output_type": "stream",
     "text": [
      "{'val_loss': 1.4385951912065722, 'val_accuracy': 0.6723832052040213, 'precision': 0.6893302256003537, 'recall': 0.6723832052040213, 'f1-score': 0.6611211609206401, 'macro_f1-score': 0.35533621419251804, 'balanced_accuracy': 0.3672893462093654, 'mcc': 0.5691576005348536, 'train_loss': 0.5841990795215464}\n",
      "Epoch 9/20\n"
     ]
    },
    {
     "name": "stderr",
     "output_type": "stream",
     "text": [
      "100%|██████████| 423/423 [00:36<00:00, 11.51it/s]\n"
     ]
    },
    {
     "name": "stdout",
     "output_type": "stream",
     "text": [
      "{'val_loss': 1.4817026060707164, 'val_accuracy': 0.6652868125369604, 'precision': 0.6535252283485626, 'recall': 0.6652868125369604, 'f1-score': 0.6471185379932693, 'macro_f1-score': 0.34990975714467837, 'balanced_accuracy': 0.3472379501420928, 'mcc': 0.5508086932640557, 'train_loss': 0.5030606901251115}\n",
      "Epoch 10/20\n"
     ]
    },
    {
     "name": "stderr",
     "output_type": "stream",
     "text": [
      "100%|██████████| 423/423 [00:36<00:00, 11.50it/s]\n"
     ]
    },
    {
     "name": "stdout",
     "output_type": "stream",
     "text": [
      "{'val_loss': 1.5283487264840108, 'val_accuracy': 0.6694263749260793, 'precision': 0.6409764635828874, 'recall': 0.6694263749260793, 'f1-score': 0.6335538333303331, 'macro_f1-score': 0.32034611625475196, 'balanced_accuracy': 0.31595622624076986, 'mcc': 0.5485951560673048, 'train_loss': 0.441519443170293}\n",
      "Epoch 11/20\n"
     ]
    },
    {
     "name": "stderr",
     "output_type": "stream",
     "text": [
      "100%|██████████| 423/423 [00:36<00:00, 11.50it/s]\n"
     ]
    },
    {
     "name": "stdout",
     "output_type": "stream",
     "text": [
      "{'val_loss': 1.5801247667591527, 'val_accuracy': 0.664695446481372, 'precision': 0.6599307395750552, 'recall': 0.664695446481372, 'f1-score': 0.6502731676385402, 'macro_f1-score': 0.38053553030092874, 'balanced_accuracy': 0.3766965014071827, 'mcc': 0.5533731263276275, 'train_loss': 0.3990439575068635}\n",
      "Epoch 12/20\n"
     ]
    },
    {
     "name": "stderr",
     "output_type": "stream",
     "text": [
      "100%|██████████| 423/423 [00:36<00:00, 11.51it/s]\n"
     ]
    },
    {
     "name": "stdout",
     "output_type": "stream",
     "text": [
      "{'val_loss': 1.6131566360873997, 'val_accuracy': 0.664695446481372, 'precision': 0.6586368174514303, 'recall': 0.664695446481372, 'f1-score': 0.6412911043011377, 'macro_f1-score': 0.3422902960560965, 'balanced_accuracy': 0.34311934374707237, 'mcc': 0.5491066776300139, 'train_loss': 0.37813178831425187}\n",
      "Epoch 13/20\n"
     ]
    },
    {
     "name": "stderr",
     "output_type": "stream",
     "text": [
      "100%|██████████| 423/423 [00:36<00:00, 11.49it/s]\n"
     ]
    },
    {
     "name": "stdout",
     "output_type": "stream",
     "text": [
      "{'val_loss': 1.5811656248175874, 'val_accuracy': 0.6717918391484329, 'precision': 0.6912867662412855, 'recall': 0.6717918391484329, 'f1-score': 0.6596584902851318, 'macro_f1-score': 0.38490551509306803, 'balanced_accuracy': 0.38093432966562624, 'mcc': 0.5623846604145993, 'train_loss': 0.3298302535033712}\n",
      "Epoch 14/20\n"
     ]
    },
    {
     "name": "stderr",
     "output_type": "stream",
     "text": [
      "100%|██████████| 423/423 [00:36<00:00, 11.51it/s]\n"
     ]
    },
    {
     "name": "stdout",
     "output_type": "stream",
     "text": [
      "{'val_loss': 1.680622806807734, 'val_accuracy': 0.657599053814311, 'precision': 0.6534555688033598, 'recall': 0.657599053814311, 'f1-score': 0.6463637994398226, 'macro_f1-score': 0.3925275413357268, 'balanced_accuracy': 0.4005073296158457, 'mcc': 0.5475568205038842, 'train_loss': 0.3113401251785616}\n",
      "Epoch 15/20\n"
     ]
    },
    {
     "name": "stderr",
     "output_type": "stream",
     "text": [
      "100%|██████████| 423/423 [00:36<00:00, 11.51it/s]\n"
     ]
    },
    {
     "name": "stdout",
     "output_type": "stream",
     "text": [
      "{'val_loss': 1.7088019617323607, 'val_accuracy': 0.6635127143701951, 'precision': 0.6661987567878097, 'recall': 0.6635127143701951, 'f1-score': 0.6524892576585691, 'macro_f1-score': 0.3791350727574464, 'balanced_accuracy': 0.38673414309155896, 'mcc': 0.5541222729336507, 'train_loss': 0.31452887881124486}\n",
      "Epoch 16/20\n"
     ]
    },
    {
     "name": "stderr",
     "output_type": "stream",
     "text": [
      "100%|██████████| 423/423 [00:36<00:00, 11.50it/s]\n"
     ]
    },
    {
     "name": "stdout",
     "output_type": "stream",
     "text": [
      "{'val_loss': 1.6796764368718524, 'val_accuracy': 0.6694263749260793, 'precision': 0.6580241507905225, 'recall': 0.6694263749260793, 'f1-score': 0.6425606718565552, 'macro_f1-score': 0.3624139802706654, 'balanced_accuracy': 0.3442081232213313, 'mcc': 0.5535852459852624, 'train_loss': 0.2979316306289453}\n",
      "Epoch 17/20\n"
     ]
    },
    {
     "name": "stderr",
     "output_type": "stream",
     "text": [
      "100%|██████████| 423/423 [00:36<00:00, 11.51it/s]\n"
     ]
    },
    {
     "name": "stdout",
     "output_type": "stream",
     "text": [
      "{'val_loss': 1.6579473446000297, 'val_accuracy': 0.667652276759314, 'precision': 0.6560616501810435, 'recall': 0.667652276759314, 'f1-score': 0.649352867795233, 'macro_f1-score': 0.3942398448844306, 'balanced_accuracy': 0.39057275935990626, 'mcc': 0.5518104881843258, 'train_loss': 0.2878020599013278}\n",
      "Epoch 18/20\n"
     ]
    },
    {
     "name": "stderr",
     "output_type": "stream",
     "text": [
      "100%|██████████| 423/423 [00:36<00:00, 11.50it/s]\n"
     ]
    },
    {
     "name": "stdout",
     "output_type": "stream",
     "text": [
      "{'val_loss': 1.7872369497452143, 'val_accuracy': 0.644589000591366, 'precision': 0.6559912812794412, 'recall': 0.644589000591366, 'f1-score': 0.63610093527016, 'macro_f1-score': 0.396973932335149, 'balanced_accuracy': 0.4012506358127591, 'mcc': 0.5296293467403412, 'train_loss': 0.259159546151722}\n",
      "Epoch 19/20\n"
     ]
    },
    {
     "name": "stderr",
     "output_type": "stream",
     "text": [
      "100%|██████████| 423/423 [00:36<00:00, 11.50it/s]\n"
     ]
    },
    {
     "name": "stdout",
     "output_type": "stream",
     "text": [
      "{'val_loss': 1.7712965041117847, 'val_accuracy': 0.6859846244825547, 'precision': 0.6774762450058531, 'recall': 0.6859846244825547, 'f1-score': 0.665125605468239, 'macro_f1-score': 0.4128975126800688, 'balanced_accuracy': 0.4111896111481193, 'mcc': 0.5767501571625786, 'train_loss': 0.24406171183764547}\n",
      "Epoch 20/20\n"
     ]
    },
    {
     "name": "stderr",
     "output_type": "stream",
     "text": [
      "100%|██████████| 423/423 [00:36<00:00, 11.50it/s]\n"
     ]
    },
    {
     "name": "stdout",
     "output_type": "stream",
     "text": [
      "{'val_loss': 1.684797980313031, 'val_accuracy': 0.6753400354819633, 'precision': 0.6684501419827641, 'recall': 0.6753400354819633, 'f1-score': 0.6599925750254518, 'macro_f1-score': 0.40014124175693394, 'balanced_accuracy': 0.3898770780063893, 'mcc': 0.5679461454137629, 'train_loss': 0.25597884116064645}\n",
      "\n",
      "[Fold 3]\n",
      "Label distribution after resampling:\n",
      "  label 0: 3179\n",
      "  label 1: 25\n",
      "  label 2: 112\n",
      "  label 3: 24\n",
      "  label 4: 206\n",
      "  label 5: 116\n",
      "  label 6: 94\n",
      "  label 7: 31\n",
      "  label 8: 68\n",
      "  label 9: 65\n",
      "  label 10: 71\n",
      "  label 11: 172\n",
      "  label 12: 192\n",
      "  label 13: 29\n",
      "  label 14: 23\n",
      "  label 15: 25\n",
      "  label 16: 20\n",
      "  label 17: 231\n",
      "  label 18: 93\n",
      "  label 19: 45\n",
      "  label 20: 14\n",
      "  label 21: 36\n",
      "  label 22: 77\n",
      "  label 23: 160\n",
      "  label 24: 16\n",
      "  label 25: 51\n",
      "  label 26: 85\n",
      "  label 27: 49\n",
      "  label 28: 12\n",
      "  label 29: 12\n",
      "  label 30: 16\n",
      "  label 31: 80\n",
      "  label 32: 36\n",
      "  label 33: 32\n",
      "  label 34: 29\n",
      "  label 35: 12\n",
      "  label 36: 28\n",
      "  label 37: 22\n",
      "  label 38: 5\n",
      "  label 39: 103\n",
      "  label 40: 11\n",
      "  label 41: 9\n",
      "  label 42: 147\n",
      "  label 43: 16\n",
      "  label 44: 20\n",
      "  label 45: 9\n",
      "  label 46: 55\n",
      "  label 47: 529\n",
      "  label 48: 201\n",
      "  label 49: 70\n",
      "model is roberta-base\n"
     ]
    },
    {
     "name": "stderr",
     "output_type": "stream",
     "text": [
      "Some weights of RobertaForSequenceClassification were not initialized from the model checkpoint at roberta-base and are newly initialized: ['classifier.dense.bias', 'classifier.dense.weight', 'classifier.out_proj.bias', 'classifier.out_proj.weight']\n",
      "You should probably TRAIN this model on a down-stream task to be able to use it for predictions and inference.\n"
     ]
    },
    {
     "name": "stdout",
     "output_type": "stream",
     "text": [
      "Epoch 1/20\n"
     ]
    },
    {
     "name": "stderr",
     "output_type": "stream",
     "text": [
      "100%|██████████| 423/423 [00:36<00:00, 11.51it/s]\n"
     ]
    },
    {
     "name": "stdout",
     "output_type": "stream",
     "text": [
      "{'val_loss': 1.6540782721537464, 'val_accuracy': 0.5848610289769367, 'precision': 0.42009807186326176, 'recall': 0.5848610289769367, 'f1-score': 0.48150746936962857, 'macro_f1-score': 0.07704121199124155, 'balanced_accuracy': 0.09472127151276619, 'mcc': 0.4085340018943447, 'train_loss': 2.0435552760500717}\n",
      "Epoch 2/20\n"
     ]
    },
    {
     "name": "stderr",
     "output_type": "stream",
     "text": [
      "100%|██████████| 423/423 [00:36<00:00, 11.51it/s]\n"
     ]
    },
    {
     "name": "stdout",
     "output_type": "stream",
     "text": [
      "{'val_loss': 1.5230072090085947, 'val_accuracy': 0.6067415730337079, 'precision': 0.4560726496746446, 'recall': 0.6067415730337079, 'f1-score': 0.50027433622061, 'macro_f1-score': 0.11569208118396182, 'balanced_accuracy': 0.12372182240369202, 'mcc': 0.43284674910913457, 'train_loss': 1.5240892793974414}\n",
      "Epoch 3/20\n"
     ]
    },
    {
     "name": "stderr",
     "output_type": "stream",
     "text": [
      "100%|██████████| 423/423 [00:36<00:00, 11.50it/s]\n"
     ]
    },
    {
     "name": "stdout",
     "output_type": "stream",
     "text": [
      "{'val_loss': 1.3535901010036469, 'val_accuracy': 0.6363098758131284, 'precision': 0.5728375880808634, 'recall': 0.6363098758131284, 'f1-score': 0.585891587446057, 'macro_f1-score': 0.19926487588587055, 'balanced_accuracy': 0.1975554733308431, 'mcc': 0.4958806505829615, 'train_loss': 1.27269791760625}\n",
      "Epoch 4/20\n"
     ]
    },
    {
     "name": "stderr",
     "output_type": "stream",
     "text": [
      "100%|██████████| 423/423 [00:36<00:00, 11.50it/s]\n"
     ]
    },
    {
     "name": "stdout",
     "output_type": "stream",
     "text": [
      "{'val_loss': 1.3197499721680048, 'val_accuracy': 0.6398580721466588, 'precision': 0.5995948894786617, 'recall': 0.6398580721466588, 'f1-score': 0.6065988136732435, 'macro_f1-score': 0.24165679648988628, 'balanced_accuracy': 0.2506988183185938, 'mcc': 0.5214759060420544, 'train_loss': 1.0654969116756539}\n",
      "Epoch 5/20\n"
     ]
    },
    {
     "name": "stderr",
     "output_type": "stream",
     "text": [
      "100%|██████████| 423/423 [00:36<00:00, 11.52it/s]\n"
     ]
    },
    {
     "name": "stdout",
     "output_type": "stream",
     "text": [
      "{'val_loss': 1.3646367934514891, 'val_accuracy': 0.6327616794795978, 'precision': 0.6595132846892288, 'recall': 0.6327616794795978, 'f1-score': 0.6300092527381016, 'macro_f1-score': 0.2905275902293807, 'balanced_accuracy': 0.3110012180624617, 'mcc': 0.5336378500545235, 'train_loss': 0.8928136955550376}\n",
      "Epoch 6/20\n"
     ]
    },
    {
     "name": "stderr",
     "output_type": "stream",
     "text": [
      "100%|██████████| 423/423 [00:36<00:00, 11.50it/s]\n"
     ]
    },
    {
     "name": "stdout",
     "output_type": "stream",
     "text": [
      "{'val_loss': 1.3181449065230928, 'val_accuracy': 0.6605558840922531, 'precision': 0.6342852617837582, 'recall': 0.6605558840922531, 'f1-score': 0.6231613034133131, 'macro_f1-score': 0.2730160053283415, 'balanced_accuracy': 0.25664035452824946, 'mcc': 0.539090490126809, 'train_loss': 0.7401935235546554}\n",
      "Epoch 7/20\n"
     ]
    },
    {
     "name": "stderr",
     "output_type": "stream",
     "text": [
      "100%|██████████| 423/423 [00:36<00:00, 11.50it/s]\n"
     ]
    },
    {
     "name": "stdout",
     "output_type": "stream",
     "text": [
      "{'val_loss': 1.429273100956431, 'val_accuracy': 0.6487285629804849, 'precision': 0.6198183631611556, 'recall': 0.6487285629804849, 'f1-score': 0.610187369459956, 'macro_f1-score': 0.2673371869236761, 'balanced_accuracy': 0.2695497769200557, 'mcc': 0.5245875124947822, 'train_loss': 0.6403195097443624}\n",
      "Epoch 8/20\n"
     ]
    },
    {
     "name": "stderr",
     "output_type": "stream",
     "text": [
      "100%|██████████| 423/423 [00:36<00:00, 11.50it/s]\n"
     ]
    },
    {
     "name": "stdout",
     "output_type": "stream",
     "text": [
      "{'val_loss': 1.4782722283084437, 'val_accuracy': 0.638675340035482, 'precision': 0.6249323940297252, 'recall': 0.638675340035482, 'f1-score': 0.6201870895314148, 'macro_f1-score': 0.27633695420502574, 'balanced_accuracy': 0.29275446241394204, 'mcc': 0.5227731764150333, 'train_loss': 0.5244218696516456}\n",
      "Early stopping.\n",
      "\n",
      "[Fold 4]\n",
      "Label distribution after resampling:\n",
      "  label 0: 3179\n",
      "  label 1: 25\n",
      "  label 2: 112\n",
      "  label 3: 24\n",
      "  label 4: 206\n",
      "  label 5: 116\n",
      "  label 6: 94\n",
      "  label 7: 32\n",
      "  label 8: 68\n",
      "  label 9: 64\n",
      "  label 10: 71\n",
      "  label 11: 172\n",
      "  label 12: 193\n",
      "  label 13: 28\n",
      "  label 14: 24\n",
      "  label 15: 24\n",
      "  label 16: 20\n",
      "  label 17: 232\n",
      "  label 18: 92\n",
      "  label 19: 45\n",
      "  label 20: 15\n",
      "  label 21: 35\n",
      "  label 22: 77\n",
      "  label 23: 160\n",
      "  label 24: 16\n",
      "  label 25: 51\n",
      "  label 26: 85\n",
      "  label 27: 49\n",
      "  label 28: 12\n",
      "  label 29: 13\n",
      "  label 30: 15\n",
      "  label 31: 80\n",
      "  label 32: 36\n",
      "  label 33: 32\n",
      "  label 34: 29\n",
      "  label 35: 12\n",
      "  label 36: 28\n",
      "  label 37: 22\n",
      "  label 38: 6\n",
      "  label 39: 103\n",
      "  label 40: 11\n",
      "  label 41: 9\n",
      "  label 42: 148\n",
      "  label 43: 16\n",
      "  label 44: 20\n",
      "  label 45: 8\n",
      "  label 46: 54\n",
      "  label 47: 529\n",
      "  label 48: 201\n",
      "  label 49: 70\n",
      "model is roberta-base\n"
     ]
    },
    {
     "name": "stderr",
     "output_type": "stream",
     "text": [
      "Some weights of RobertaForSequenceClassification were not initialized from the model checkpoint at roberta-base and are newly initialized: ['classifier.dense.bias', 'classifier.dense.weight', 'classifier.out_proj.bias', 'classifier.out_proj.weight']\n",
      "You should probably TRAIN this model on a down-stream task to be able to use it for predictions and inference.\n"
     ]
    },
    {
     "name": "stdout",
     "output_type": "stream",
     "text": [
      "Epoch 1/20\n"
     ]
    },
    {
     "name": "stderr",
     "output_type": "stream",
     "text": [
      "100%|██████████| 423/423 [00:36<00:00, 11.50it/s]\n"
     ]
    },
    {
     "name": "stdout",
     "output_type": "stream",
     "text": [
      "{'val_loss': 1.5839165044280719, 'val_accuracy': 0.5990538143110585, 'precision': 0.44685030718238633, 'recall': 0.5990538143110585, 'f1-score': 0.4979303406816436, 'macro_f1-score': 0.08969892380498751, 'balanced_accuracy': 0.10958421098183944, 'mcc': 0.4298503844124338, 'train_loss': 1.9599756123608167}\n",
      "Epoch 2/20\n"
     ]
    },
    {
     "name": "stderr",
     "output_type": "stream",
     "text": [
      "100%|██████████| 423/423 [00:36<00:00, 11.52it/s]\n"
     ]
    },
    {
     "name": "stdout",
     "output_type": "stream",
     "text": [
      "{'val_loss': 1.3808920661795814, 'val_accuracy': 0.6179775280898876, 'precision': 0.5245630703882905, 'recall': 0.6179775280898876, 'f1-score': 0.5543982053652607, 'macro_f1-score': 0.1538581335157679, 'balanced_accuracy': 0.17057746803589285, 'mcc': 0.4719414500017684, 'train_loss': 1.5144766643819516}\n",
      "Epoch 3/20\n"
     ]
    },
    {
     "name": "stderr",
     "output_type": "stream",
     "text": [
      "100%|██████████| 423/423 [00:36<00:00, 11.51it/s]\n"
     ]
    },
    {
     "name": "stdout",
     "output_type": "stream",
     "text": [
      "{'val_loss': 1.340130275291092, 'val_accuracy': 0.6392667060910704, 'precision': 0.5983879823484768, 'recall': 0.6392667060910704, 'f1-score': 0.597577844049827, 'macro_f1-score': 0.19801819278102875, 'balanced_accuracy': 0.2090697369054898, 'mcc': 0.5117976168571167, 'train_loss': 1.2354059367315144}\n",
      "Epoch 4/20\n"
     ]
    },
    {
     "name": "stderr",
     "output_type": "stream",
     "text": [
      "100%|██████████| 423/423 [00:36<00:00, 11.49it/s]\n"
     ]
    },
    {
     "name": "stdout",
     "output_type": "stream",
     "text": [
      "{'val_loss': 1.2132413603787153, 'val_accuracy': 0.6688350088704909, 'precision': 0.632970362660871, 'recall': 0.6688350088704909, 'f1-score': 0.633292642392892, 'macro_f1-score': 0.27534848192372613, 'balanced_accuracy': 0.28156370965209854, 'mcc': 0.55604239048672, 'train_loss': 1.0459624334430018}\n",
      "Epoch 5/20\n"
     ]
    },
    {
     "name": "stderr",
     "output_type": "stream",
     "text": [
      "100%|██████████| 423/423 [00:36<00:00, 11.51it/s]\n"
     ]
    },
    {
     "name": "stdout",
     "output_type": "stream",
     "text": [
      "{'val_loss': 1.2591187452089112, 'val_accuracy': 0.6611472501478415, 'precision': 0.651790258359672, 'recall': 0.6611472501478415, 'f1-score': 0.6374739133589752, 'macro_f1-score': 0.30637570799339175, 'balanced_accuracy': 0.3025825566078988, 'mcc': 0.5544895791802884, 'train_loss': 0.8590960997568519}\n",
      "Epoch 6/20\n"
     ]
    },
    {
     "name": "stderr",
     "output_type": "stream",
     "text": [
      "100%|██████████| 423/423 [00:36<00:00, 11.51it/s]\n"
     ]
    },
    {
     "name": "stdout",
     "output_type": "stream",
     "text": [
      "{'val_loss': 1.2833068713826954, 'val_accuracy': 0.6510940272028386, 'precision': 0.6358602525158287, 'recall': 0.6510940272028386, 'f1-score': 0.6311836584255062, 'macro_f1-score': 0.31218111079140076, 'balanced_accuracy': 0.30419820934070535, 'mcc': 0.5342177761348873, 'train_loss': 0.7295729232066912}\n",
      "Epoch 7/20\n"
     ]
    },
    {
     "name": "stderr",
     "output_type": "stream",
     "text": [
      "100%|██████████| 423/423 [00:36<00:00, 11.50it/s]\n"
     ]
    },
    {
     "name": "stdout",
     "output_type": "stream",
     "text": [
      "{'val_loss': 1.2909284190468069, 'val_accuracy': 0.6729745712596097, 'precision': 0.6700881113834227, 'recall': 0.6729745712596097, 'f1-score': 0.6525145047014665, 'macro_f1-score': 0.3430300127654848, 'balanced_accuracy': 0.3400385546851688, 'mcc': 0.5668847813972745, 'train_loss': 0.6166905494798723}\n",
      "Epoch 8/20\n"
     ]
    },
    {
     "name": "stderr",
     "output_type": "stream",
     "text": [
      "100%|██████████| 423/423 [00:36<00:00, 11.53it/s]\n"
     ]
    },
    {
     "name": "stdout",
     "output_type": "stream",
     "text": [
      "{'val_loss': 1.347951792602269, 'val_accuracy': 0.6901241868716735, 'precision': 0.6790065207764631, 'recall': 0.6901241868716735, 'f1-score': 0.6555880389592057, 'macro_f1-score': 0.3624526302887447, 'balanced_accuracy': 0.354040161623179, 'mcc': 0.5808586021824386, 'train_loss': 0.5434415891731321}\n",
      "Epoch 9/20\n"
     ]
    },
    {
     "name": "stderr",
     "output_type": "stream",
     "text": [
      "100%|██████████| 423/423 [00:36<00:00, 11.52it/s]\n"
     ]
    },
    {
     "name": "stdout",
     "output_type": "stream",
     "text": [
      "{'val_loss': 1.3924244245830573, 'val_accuracy': 0.6635127143701951, 'precision': 0.6703323010036054, 'recall': 0.6635127143701951, 'f1-score': 0.6562588212407232, 'macro_f1-score': 0.387935780284969, 'balanced_accuracy': 0.37877036260584895, 'mcc': 0.5606561090247885, 'train_loss': 0.4450881170641728}\n",
      "Epoch 10/20\n"
     ]
    },
    {
     "name": "stderr",
     "output_type": "stream",
     "text": [
      "100%|██████████| 423/423 [00:36<00:00, 11.51it/s]\n"
     ]
    },
    {
     "name": "stdout",
     "output_type": "stream",
     "text": [
      "{'val_loss': 1.4291583320723389, 'val_accuracy': 0.6688350088704909, 'precision': 0.6847024857243365, 'recall': 0.6688350088704909, 'f1-score': 0.6596279318058264, 'macro_f1-score': 0.3964727828427431, 'balanced_accuracy': 0.3874062375914882, 'mcc': 0.5712810554130947, 'train_loss': 0.4040679063198837}\n",
      "Epoch 11/20\n"
     ]
    },
    {
     "name": "stderr",
     "output_type": "stream",
     "text": [
      "100%|██████████| 423/423 [00:36<00:00, 11.51it/s]\n"
     ]
    },
    {
     "name": "stdout",
     "output_type": "stream",
     "text": [
      "{'val_loss': 1.5309709573410593, 'val_accuracy': 0.6652868125369604, 'precision': 0.6723715127871535, 'recall': 0.6652868125369604, 'f1-score': 0.6559547091132292, 'macro_f1-score': 0.375723444888018, 'balanced_accuracy': 0.3739320801032255, 'mcc': 0.5589381764719006, 'train_loss': 0.41671801836672406}\n",
      "Epoch 12/20\n"
     ]
    },
    {
     "name": "stderr",
     "output_type": "stream",
     "text": [
      "100%|██████████| 423/423 [00:36<00:00, 11.50it/s]\n"
     ]
    },
    {
     "name": "stdout",
     "output_type": "stream",
     "text": [
      "{'val_loss': 1.4695347778077394, 'val_accuracy': 0.6824364281490243, 'precision': 0.6830759667981021, 'recall': 0.6824364281490243, 'f1-score': 0.6727214769690107, 'macro_f1-score': 0.4193514028992795, 'balanced_accuracy': 0.4037370045666134, 'mcc': 0.5782991096470905, 'train_loss': 0.34252436671969666}\n",
      "Epoch 13/20\n"
     ]
    },
    {
     "name": "stderr",
     "output_type": "stream",
     "text": [
      "100%|██████████| 423/423 [00:36<00:00, 11.51it/s]\n"
     ]
    },
    {
     "name": "stdout",
     "output_type": "stream",
     "text": [
      "{'val_loss': 1.6026707398441602, 'val_accuracy': 0.6688350088704909, 'precision': 0.6727305591529432, 'recall': 0.6688350088704909, 'f1-score': 0.6578031459067623, 'macro_f1-score': 0.3826076448894122, 'balanced_accuracy': 0.39888661588017144, 'mcc': 0.5685842131081418, 'train_loss': 0.3005809651811037}\n",
      "Epoch 14/20\n"
     ]
    },
    {
     "name": "stderr",
     "output_type": "stream",
     "text": [
      "100%|██████████| 423/423 [00:36<00:00, 11.50it/s]\n"
     ]
    },
    {
     "name": "stdout",
     "output_type": "stream",
     "text": [
      "{'val_loss': 1.4424290287325967, 'val_accuracy': 0.6759314015375517, 'precision': 0.6656342333233645, 'recall': 0.6759314015375517, 'f1-score': 0.658002771678827, 'macro_f1-score': 0.3750609993641326, 'balanced_accuracy': 0.3658301866148655, 'mcc': 0.5710395910955426, 'train_loss': 0.28870898158450214}\n",
      "Epoch 15/20\n"
     ]
    },
    {
     "name": "stderr",
     "output_type": "stream",
     "text": [
      "100%|██████████| 423/423 [00:36<00:00, 11.52it/s]\n"
     ]
    },
    {
     "name": "stdout",
     "output_type": "stream",
     "text": [
      "{'val_loss': 1.6096536452477832, 'val_accuracy': 0.657599053814311, 'precision': 0.6955451061265528, 'recall': 0.657599053814311, 'f1-score': 0.6648624886615984, 'macro_f1-score': 0.40479723983753146, 'balanced_accuracy': 0.41320094232524296, 'mcc': 0.5604294821513204, 'train_loss': 0.2917104592595258}\n",
      "Early stopping.\n",
      "\n",
      "[Fold 5]\n",
      "Label distribution after resampling:\n",
      "  label 0: 3180\n",
      "  label 1: 24\n",
      "  label 2: 112\n",
      "  label 3: 24\n",
      "  label 4: 205\n",
      "  label 5: 116\n",
      "  label 6: 95\n",
      "  label 7: 31\n",
      "  label 8: 68\n",
      "  label 9: 65\n",
      "  label 10: 70\n",
      "  label 11: 172\n",
      "  label 12: 193\n",
      "  label 13: 29\n",
      "  label 14: 23\n",
      "  label 15: 25\n",
      "  label 16: 20\n",
      "  label 17: 231\n",
      "  label 18: 93\n",
      "  label 19: 44\n",
      "  label 20: 15\n",
      "  label 21: 35\n",
      "  label 22: 78\n",
      "  label 23: 160\n",
      "  label 24: 16\n",
      "  label 25: 50\n",
      "  label 26: 86\n",
      "  label 27: 48\n",
      "  label 28: 12\n",
      "  label 29: 13\n",
      "  label 30: 15\n",
      "  label 31: 80\n",
      "  label 32: 36\n",
      "  label 33: 32\n",
      "  label 34: 30\n",
      "  label 35: 12\n",
      "  label 36: 28\n",
      "  label 37: 21\n",
      "  label 38: 6\n",
      "  label 39: 104\n",
      "  label 40: 11\n",
      "  label 41: 9\n",
      "  label 42: 147\n",
      "  label 43: 16\n",
      "  label 44: 20\n",
      "  label 45: 9\n",
      "  label 46: 54\n",
      "  label 47: 529\n",
      "  label 48: 202\n",
      "  label 49: 70\n",
      "model is roberta-base\n"
     ]
    },
    {
     "name": "stderr",
     "output_type": "stream",
     "text": [
      "Some weights of RobertaForSequenceClassification were not initialized from the model checkpoint at roberta-base and are newly initialized: ['classifier.dense.bias', 'classifier.dense.weight', 'classifier.out_proj.bias', 'classifier.out_proj.weight']\n",
      "You should probably TRAIN this model on a down-stream task to be able to use it for predictions and inference.\n"
     ]
    },
    {
     "name": "stdout",
     "output_type": "stream",
     "text": [
      "Epoch 1/20\n"
     ]
    },
    {
     "name": "stderr",
     "output_type": "stream",
     "text": [
      "100%|██████████| 423/423 [00:36<00:00, 11.51it/s]\n"
     ]
    },
    {
     "name": "stdout",
     "output_type": "stream",
     "text": [
      "{'val_loss': 1.5804227320653088, 'val_accuracy': 0.6153846153846154, 'precision': 0.4734688882729798, 'recall': 0.6153846153846154, 'f1-score': 0.5244457489639015, 'macro_f1-score': 0.12184943451639257, 'balanced_accuracy': 0.13912756294046472, 'mcc': 0.4623251354033145, 'train_loss': 1.9395825989702915}\n",
      "Epoch 2/20\n"
     ]
    },
    {
     "name": "stderr",
     "output_type": "stream",
     "text": [
      "100%|██████████| 423/423 [00:36<00:00, 11.51it/s]\n"
     ]
    },
    {
     "name": "stdout",
     "output_type": "stream",
     "text": [
      "{'val_loss': 1.4719193217889317, 'val_accuracy': 0.6071005917159763, 'precision': 0.5098285813201208, 'recall': 0.6071005917159763, 'f1-score': 0.5327932689486188, 'macro_f1-score': 0.13574886794245747, 'balanced_accuracy': 0.151126718506176, 'mcc': 0.458237081447095, 'train_loss': 1.4553027053674061}\n",
      "Epoch 3/20\n"
     ]
    },
    {
     "name": "stderr",
     "output_type": "stream",
     "text": [
      "100%|██████████| 423/423 [00:36<00:00, 11.52it/s]\n"
     ]
    },
    {
     "name": "stdout",
     "output_type": "stream",
     "text": [
      "{'val_loss': 1.3705371947221037, 'val_accuracy': 0.6402366863905326, 'precision': 0.5674403579387768, 'recall': 0.6402366863905326, 'f1-score': 0.5741049625451665, 'macro_f1-score': 0.18900416682610893, 'balanced_accuracy': 0.19779150953151625, 'mcc': 0.5033342113218768, 'train_loss': 1.21863330453282}\n",
      "Epoch 4/20\n"
     ]
    },
    {
     "name": "stderr",
     "output_type": "stream",
     "text": [
      "100%|██████████| 423/423 [00:36<00:00, 11.52it/s]\n"
     ]
    },
    {
     "name": "stdout",
     "output_type": "stream",
     "text": [
      "{'val_loss': 1.3884735160841133, 'val_accuracy': 0.6272189349112426, 'precision': 0.6141815596637005, 'recall': 0.6272189349112426, 'f1-score': 0.6064843864080329, 'macro_f1-score': 0.2418983015963484, 'balanced_accuracy': 0.26547016897528286, 'mcc': 0.5191751144917407, 'train_loss': 1.0158582371670586}\n",
      "Epoch 5/20\n"
     ]
    },
    {
     "name": "stderr",
     "output_type": "stream",
     "text": [
      "100%|██████████| 423/423 [00:36<00:00, 11.50it/s]\n"
     ]
    },
    {
     "name": "stdout",
     "output_type": "stream",
     "text": [
      "{'val_loss': 1.4111988898718133, 'val_accuracy': 0.6319526627218935, 'precision': 0.6462232761507143, 'recall': 0.6319526627218935, 'f1-score': 0.6257236761711995, 'macro_f1-score': 0.2655943492883873, 'balanced_accuracy': 0.294694641619903, 'mcc': 0.5276082675687399, 'train_loss': 0.8636845662027386}\n",
      "Epoch 6/20\n"
     ]
    },
    {
     "name": "stderr",
     "output_type": "stream",
     "text": [
      "100%|██████████| 423/423 [00:36<00:00, 11.51it/s]\n"
     ]
    },
    {
     "name": "stdout",
     "output_type": "stream",
     "text": [
      "{'val_loss': 1.4263235145020035, 'val_accuracy': 0.6556213017751479, 'precision': 0.6533436440432008, 'recall': 0.6556213017751479, 'f1-score': 0.6441263099995078, 'macro_f1-score': 0.27915155071318215, 'balanced_accuracy': 0.2969279736961586, 'mcc': 0.5490358236397763, 'train_loss': 0.7369644916473269}\n",
      "Epoch 7/20\n"
     ]
    },
    {
     "name": "stderr",
     "output_type": "stream",
     "text": [
      "100%|██████████| 423/423 [00:36<00:00, 11.50it/s]\n"
     ]
    },
    {
     "name": "stdout",
     "output_type": "stream",
     "text": [
      "{'val_loss': 1.436455136340744, 'val_accuracy': 0.6674556213017752, 'precision': 0.6541098758166815, 'recall': 0.6674556213017752, 'f1-score': 0.6462221320175515, 'macro_f1-score': 0.31147487024212767, 'balanced_accuracy': 0.3020753104207843, 'mcc': 0.5507834131532059, 'train_loss': 0.6124602199463839}\n",
      "Epoch 8/20\n"
     ]
    },
    {
     "name": "stderr",
     "output_type": "stream",
     "text": [
      "100%|██████████| 423/423 [00:36<00:00, 11.51it/s]\n"
     ]
    },
    {
     "name": "stdout",
     "output_type": "stream",
     "text": [
      "{'val_loss': 1.4007480628788471, 'val_accuracy': 0.6745562130177515, 'precision': 0.6484339273105427, 'recall': 0.6745562130177515, 'f1-score': 0.6503233792811837, 'macro_f1-score': 0.30725541523554434, 'balanced_accuracy': 0.3089757624502622, 'mcc': 0.5671580024871452, 'train_loss': 0.5365694026698317}\n",
      "Epoch 9/20\n"
     ]
    },
    {
     "name": "stderr",
     "output_type": "stream",
     "text": [
      "100%|██████████| 423/423 [00:36<00:00, 11.53it/s]\n"
     ]
    },
    {
     "name": "stdout",
     "output_type": "stream",
     "text": [
      "{'val_loss': 1.5325759448251635, 'val_accuracy': 0.6745562130177515, 'precision': 0.6615091126569762, 'recall': 0.6745562130177515, 'f1-score': 0.6527939210830525, 'macro_f1-score': 0.31031624227976606, 'balanced_accuracy': 0.31718973158105174, 'mcc': 0.5677167853253484, 'train_loss': 0.46673500312417393}\n",
      "Epoch 10/20\n"
     ]
    },
    {
     "name": "stderr",
     "output_type": "stream",
     "text": [
      "100%|██████████| 423/423 [00:36<00:00, 11.51it/s]\n"
     ]
    },
    {
     "name": "stdout",
     "output_type": "stream",
     "text": [
      "{'val_loss': 1.5616343277242948, 'val_accuracy': 0.6745562130177515, 'precision': 0.6593514027204456, 'recall': 0.6745562130177515, 'f1-score': 0.6545516978362462, 'macro_f1-score': 0.31994256490097506, 'balanced_accuracy': 0.32107981422897597, 'mcc': 0.5672643077371305, 'train_loss': 0.40573045477958014}\n",
      "Epoch 11/20\n"
     ]
    },
    {
     "name": "stderr",
     "output_type": "stream",
     "text": [
      "100%|██████████| 423/423 [00:36<00:00, 11.49it/s]\n"
     ]
    },
    {
     "name": "stdout",
     "output_type": "stream",
     "text": [
      "{'val_loss': 1.7219170736816694, 'val_accuracy': 0.6644970414201183, 'precision': 0.6656544951857672, 'recall': 0.6644970414201183, 'f1-score': 0.6530941523541558, 'macro_f1-score': 0.32863026317354327, 'balanced_accuracy': 0.339424562960462, 'mcc': 0.5624353340501784, 'train_loss': 0.3675940104894534}\n",
      "Epoch 12/20\n"
     ]
    },
    {
     "name": "stderr",
     "output_type": "stream",
     "text": [
      "100%|██████████| 423/423 [00:36<00:00, 11.51it/s]\n"
     ]
    },
    {
     "name": "stdout",
     "output_type": "stream",
     "text": [
      "{'val_loss': 1.602807400502124, 'val_accuracy': 0.6609467455621302, 'precision': 0.6655999042803964, 'recall': 0.6609467455621302, 'f1-score': 0.6512420440168277, 'macro_f1-score': 0.35981732809803224, 'balanced_accuracy': 0.3670452900052673, 'mcc': 0.5523273974606785, 'train_loss': 0.34126399433235893}\n",
      "Epoch 13/20\n"
     ]
    },
    {
     "name": "stderr",
     "output_type": "stream",
     "text": [
      "100%|██████████| 423/423 [00:36<00:00, 11.50it/s]\n"
     ]
    },
    {
     "name": "stdout",
     "output_type": "stream",
     "text": [
      "{'val_loss': 1.7532692883374557, 'val_accuracy': 0.663905325443787, 'precision': 0.6711179913776237, 'recall': 0.663905325443787, 'f1-score': 0.6609004452512538, 'macro_f1-score': 0.35868222548720985, 'balanced_accuracy': 0.36833343790829465, 'mcc': 0.5643812264140408, 'train_loss': 0.31274650740188414}\n",
      "Epoch 14/20\n"
     ]
    },
    {
     "name": "stderr",
     "output_type": "stream",
     "text": [
      "100%|██████████| 423/423 [00:36<00:00, 11.51it/s]\n"
     ]
    },
    {
     "name": "stdout",
     "output_type": "stream",
     "text": [
      "{'val_loss': 1.7946692062717564, 'val_accuracy': 0.6526627218934912, 'precision': 0.6905952412674743, 'recall': 0.6526627218934912, 'f1-score': 0.6588430818240026, 'macro_f1-score': 0.3668113813492816, 'balanced_accuracy': 0.37102750317450167, 'mcc': 0.5537732487293762, 'train_loss': 0.29718602297224334}\n",
      "Epoch 15/20\n"
     ]
    },
    {
     "name": "stderr",
     "output_type": "stream",
     "text": [
      "100%|██████████| 423/423 [00:36<00:00, 11.51it/s]\n"
     ]
    },
    {
     "name": "stdout",
     "output_type": "stream",
     "text": [
      "{'val_loss': 1.8017761868266564, 'val_accuracy': 0.6692307692307692, 'precision': 0.6650615819482895, 'recall': 0.6692307692307692, 'f1-score': 0.6606763987538475, 'macro_f1-score': 0.34549769729017316, 'balanced_accuracy': 0.3454189169966068, 'mcc': 0.5678165280541774, 'train_loss': 0.3060527609410227}\n",
      "Epoch 16/20\n"
     ]
    },
    {
     "name": "stderr",
     "output_type": "stream",
     "text": [
      "100%|██████████| 423/423 [00:36<00:00, 11.52it/s]\n"
     ]
    },
    {
     "name": "stdout",
     "output_type": "stream",
     "text": [
      "{'val_loss': 1.8325984930654742, 'val_accuracy': 0.6627218934911243, 'precision': 0.6745879054543458, 'recall': 0.6627218934911243, 'f1-score': 0.6543746153774317, 'macro_f1-score': 0.3530251177416581, 'balanced_accuracy': 0.3407619450975027, 'mcc': 0.5538030922322738, 'train_loss': 0.2867884087710956}\n",
      "Epoch 17/20\n"
     ]
    },
    {
     "name": "stderr",
     "output_type": "stream",
     "text": [
      "100%|██████████| 423/423 [00:36<00:00, 11.51it/s]\n"
     ]
    },
    {
     "name": "stdout",
     "output_type": "stream",
     "text": [
      "{'val_loss': 1.7628830099513508, 'val_accuracy': 0.6757396449704142, 'precision': 0.6964557045042381, 'recall': 0.6757396449704142, 'f1-score': 0.6744515039435093, 'macro_f1-score': 0.3859210057668496, 'balanced_accuracy': 0.3774021864415399, 'mcc': 0.5727419880952175, 'train_loss': 0.25253843818736166}\n",
      "Epoch 18/20\n"
     ]
    },
    {
     "name": "stderr",
     "output_type": "stream",
     "text": [
      "100%|██████████| 423/423 [00:36<00:00, 11.51it/s]\n"
     ]
    },
    {
     "name": "stdout",
     "output_type": "stream",
     "text": [
      "{'val_loss': 1.82745383880189, 'val_accuracy': 0.6585798816568047, 'precision': 0.6694846123458401, 'recall': 0.6585798816568047, 'f1-score': 0.6553279406186971, 'macro_f1-score': 0.3535829902613618, 'balanced_accuracy': 0.3608997567051327, 'mcc': 0.558037602689402, 'train_loss': 0.24715847956362327}\n",
      "Epoch 19/20\n"
     ]
    },
    {
     "name": "stderr",
     "output_type": "stream",
     "text": [
      "100%|██████████| 423/423 [00:36<00:00, 11.51it/s]\n"
     ]
    },
    {
     "name": "stdout",
     "output_type": "stream",
     "text": [
      "{'val_loss': 1.7746932190263047, 'val_accuracy': 0.6674556213017752, 'precision': 0.6668270023672012, 'recall': 0.6674556213017752, 'f1-score': 0.6561346286568058, 'macro_f1-score': 0.33918523639657816, 'balanced_accuracy': 0.33597651644181653, 'mcc': 0.5613918869466565, 'train_loss': 0.2551307644294333}\n",
      "Epoch 20/20\n"
     ]
    },
    {
     "name": "stderr",
     "output_type": "stream",
     "text": [
      "100%|██████████| 423/423 [00:36<00:00, 11.51it/s]\n"
     ]
    },
    {
     "name": "stdout",
     "output_type": "stream",
     "text": [
      "{'val_loss': 1.8793291626673825, 'val_accuracy': 0.6698224852071006, 'precision': 0.6676117464088862, 'recall': 0.6698224852071006, 'f1-score': 0.656004399063876, 'macro_f1-score': 0.36830527202839136, 'balanced_accuracy': 0.3492098968460428, 'mcc': 0.559708581518544, 'train_loss': 0.24293463021444145}\n",
      "Early stopping.\n",
      "\n",
      " === roberta-base + plain + none Final 10-fold Cross-Validation Results ===\n",
      "Total time: 3099 seconds\n",
      "Total time: 0 hrs 51 mins 39 secs\n",
      "val_loss: 1.5736\n",
      "val_accuracy: 0.6674\n",
      "precision: 0.6759\n",
      "recall: 0.6674\n",
      "f1-score: 0.6585\n",
      "macro_f1-score: 0.3793\n",
      "balanced_accuracy: 0.3809\n",
      "mcc: 0.5636\n",
      "train_loss: 0.4239\n",
      "▶ Running: roberta-base + cnn + none\n",
      "tokenizer is roberta-base\n",
      "Using device: cuda\n",
      "CUDA Available: True\n",
      "CUDA Device: NVIDIA GeForce RTX 5070 Ti\n",
      "Current GPU Memory Allocated: 0.02 GB\n",
      "Current GPU Memory Cached: 3.92 GB\n",
      "\n",
      "[Fold 1]\n",
      "Label distribution after resampling:\n",
      "  label 0: 3179\n",
      "  label 1: 25\n",
      "  label 2: 112\n",
      "  label 3: 24\n",
      "  label 4: 205\n",
      "  label 5: 116\n",
      "  label 6: 95\n",
      "  label 7: 31\n",
      "  label 8: 68\n",
      "  label 9: 65\n",
      "  label 10: 70\n",
      "  label 11: 172\n",
      "  label 12: 193\n",
      "  label 13: 29\n",
      "  label 14: 23\n",
      "  label 15: 25\n",
      "  label 16: 20\n",
      "  label 17: 231\n",
      "  label 18: 93\n",
      "  label 19: 45\n",
      "  label 20: 14\n",
      "  label 21: 35\n",
      "  label 22: 78\n",
      "  label 23: 160\n",
      "  label 24: 16\n",
      "  label 25: 50\n",
      "  label 26: 86\n",
      "  label 27: 49\n",
      "  label 28: 12\n",
      "  label 29: 13\n",
      "  label 30: 15\n",
      "  label 31: 80\n",
      "  label 32: 36\n",
      "  label 33: 32\n",
      "  label 34: 30\n",
      "  label 35: 12\n",
      "  label 36: 28\n",
      "  label 37: 21\n",
      "  label 38: 6\n",
      "  label 39: 103\n",
      "  label 40: 12\n",
      "  label 41: 8\n",
      "  label 42: 147\n",
      "  label 43: 16\n",
      "  label 44: 20\n",
      "  label 45: 9\n",
      "  label 46: 54\n",
      "  label 47: 529\n",
      "  label 48: 202\n",
      "  label 49: 69\n",
      "model is roberta-base cnn\n"
     ]
    },
    {
     "name": "stderr",
     "output_type": "stream",
     "text": [
      "Some weights of RobertaModel were not initialized from the model checkpoint at roberta-base and are newly initialized: ['pooler.dense.bias', 'pooler.dense.weight']\n",
      "You should probably TRAIN this model on a down-stream task to be able to use it for predictions and inference.\n"
     ]
    },
    {
     "name": "stdout",
     "output_type": "stream",
     "text": [
      "Epoch 1/20\n"
     ]
    },
    {
     "name": "stderr",
     "output_type": "stream",
     "text": [
      "100%|██████████| 423/423 [00:37<00:00, 11.28it/s]\n"
     ]
    },
    {
     "name": "stdout",
     "output_type": "stream",
     "text": [
      "{'val_loss': 1.7153440663274728, 'val_accuracy': 0.5890005913660555, 'precision': 0.433830572032223, 'recall': 0.5890005913660555, 'f1-score': 0.49386639962147894, 'macro_f1-score': 0.09660099854828022, 'balanced_accuracy': 0.11273982600722149, 'mcc': 0.41761069821391605, 'train_loss': 1.9901267773434343}\n",
      "Epoch 2/20\n"
     ]
    },
    {
     "name": "stderr",
     "output_type": "stream",
     "text": [
      "100%|██████████| 423/423 [00:37<00:00, 11.28it/s]\n"
     ]
    },
    {
     "name": "stdout",
     "output_type": "stream",
     "text": [
      "{'val_loss': 1.4075881051567365, 'val_accuracy': 0.628622117090479, 'precision': 0.564612516899613, 'recall': 0.628622117090479, 'f1-score': 0.5593731768715694, 'macro_f1-score': 0.1551368534643982, 'balanced_accuracy': 0.1623045561019859, 'mcc': 0.48713846864680427, 'train_loss': 1.5127632096585935}\n",
      "Epoch 3/20\n"
     ]
    },
    {
     "name": "stderr",
     "output_type": "stream",
     "text": [
      "100%|██████████| 423/423 [00:37<00:00, 11.27it/s]\n"
     ]
    },
    {
     "name": "stdout",
     "output_type": "stream",
     "text": [
      "{'val_loss': 1.3476788156999733, 'val_accuracy': 0.6469544648137197, 'precision': 0.6031845739084853, 'recall': 0.6469544648137197, 'f1-score': 0.6019661565008001, 'macro_f1-score': 0.22588291179129066, 'balanced_accuracy': 0.22732255412658403, 'mcc': 0.5183774694689638, 'train_loss': 1.2730082410165322}\n",
      "Epoch 4/20\n"
     ]
    },
    {
     "name": "stderr",
     "output_type": "stream",
     "text": [
      "100%|██████████| 423/423 [00:37<00:00, 11.28it/s]\n"
     ]
    },
    {
     "name": "stdout",
     "output_type": "stream",
     "text": [
      "{'val_loss': 1.2647442339726214, 'val_accuracy': 0.6712004730928445, 'precision': 0.6255177101396727, 'recall': 0.6712004730928445, 'f1-score': 0.6217540479177501, 'macro_f1-score': 0.2518022311155008, 'balanced_accuracy': 0.24427954176116345, 'mcc': 0.5493217626412867, 'train_loss': 1.0847458109153922}\n",
      "Epoch 5/20\n"
     ]
    },
    {
     "name": "stderr",
     "output_type": "stream",
     "text": [
      "100%|██████████| 423/423 [00:37<00:00, 11.27it/s]\n"
     ]
    },
    {
     "name": "stdout",
     "output_type": "stream",
     "text": [
      "{'val_loss': 1.3112097703061014, 'val_accuracy': 0.6333530455351862, 'precision': 0.6342829918837748, 'recall': 0.6333530455351862, 'f1-score': 0.6148946169211641, 'macro_f1-score': 0.2673021631143582, 'balanced_accuracy': 0.2950954179918388, 'mcc': 0.5283616722422314, 'train_loss': 0.9259001717112306}\n",
      "Epoch 6/20\n"
     ]
    },
    {
     "name": "stderr",
     "output_type": "stream",
     "text": [
      "100%|██████████| 423/423 [00:37<00:00, 11.29it/s]\n"
     ]
    },
    {
     "name": "stdout",
     "output_type": "stream",
     "text": [
      "{'val_loss': 1.3146462783498585, 'val_accuracy': 0.6706091070372561, 'precision': 0.609862764573603, 'recall': 0.6706091070372561, 'f1-score': 0.6200371013080007, 'macro_f1-score': 0.2907536515125115, 'balanced_accuracy': 0.26190398871246756, 'mcc': 0.542317147913201, 'train_loss': 0.7617171619078651}\n",
      "Epoch 7/20\n"
     ]
    },
    {
     "name": "stderr",
     "output_type": "stream",
     "text": [
      "100%|██████████| 423/423 [00:37<00:00, 11.29it/s]\n"
     ]
    },
    {
     "name": "stdout",
     "output_type": "stream",
     "text": [
      "{'val_loss': 1.3594506242365207, 'val_accuracy': 0.6369012418687168, 'precision': 0.6467497099844816, 'recall': 0.6369012418687168, 'f1-score': 0.6288280428530767, 'macro_f1-score': 0.30502016972259055, 'balanced_accuracy': 0.32310222623023754, 'mcc': 0.5292571208399488, 'train_loss': 0.6541014227390853}\n",
      "Epoch 8/20\n"
     ]
    },
    {
     "name": "stderr",
     "output_type": "stream",
     "text": [
      "100%|██████████| 423/423 [00:37<00:00, 11.28it/s]\n"
     ]
    },
    {
     "name": "stdout",
     "output_type": "stream",
     "text": [
      "{'val_loss': 1.3490378474289517, 'val_accuracy': 0.6487285629804849, 'precision': 0.6800091024036387, 'recall': 0.6487285629804849, 'f1-score': 0.6519041270105532, 'macro_f1-score': 0.37159785025344966, 'balanced_accuracy': 0.3803455616053803, 'mcc': 0.5470058334563648, 'train_loss': 0.5680962676186793}\n",
      "Epoch 9/20\n"
     ]
    },
    {
     "name": "stderr",
     "output_type": "stream",
     "text": [
      "100%|██████████| 423/423 [00:37<00:00, 11.29it/s]\n"
     ]
    },
    {
     "name": "stdout",
     "output_type": "stream",
     "text": [
      "{'val_loss': 1.3665950208340052, 'val_accuracy': 0.6694263749260793, 'precision': 0.6743718489865725, 'recall': 0.6694263749260793, 'f1-score': 0.6576359435461194, 'macro_f1-score': 0.3820200880096358, 'balanced_accuracy': 0.3717970572878017, 'mcc': 0.5614362942576993, 'train_loss': 0.4934617324906179}\n",
      "Epoch 10/20\n"
     ]
    },
    {
     "name": "stderr",
     "output_type": "stream",
     "text": [
      "100%|██████████| 423/423 [00:37<00:00, 11.27it/s]\n"
     ]
    },
    {
     "name": "stdout",
     "output_type": "stream",
     "text": [
      "{'val_loss': 1.4208335910203322, 'val_accuracy': 0.6747486694263749, 'precision': 0.6827415776816196, 'recall': 0.6747486694263749, 'f1-score': 0.6614353325242055, 'macro_f1-score': 0.387331734526499, 'balanced_accuracy': 0.3736991093543094, 'mcc': 0.567283865916781, 'train_loss': 0.40867382596218277}\n",
      "Epoch 11/20\n"
     ]
    },
    {
     "name": "stderr",
     "output_type": "stream",
     "text": [
      "100%|██████████| 423/423 [00:37<00:00, 11.29it/s]\n"
     ]
    },
    {
     "name": "stdout",
     "output_type": "stream",
     "text": [
      "{'val_loss': 1.468565801404557, 'val_accuracy': 0.6605558840922531, 'precision': 0.664284007252264, 'recall': 0.6605558840922531, 'f1-score': 0.6491030328624677, 'macro_f1-score': 0.3686460178199074, 'balanced_accuracy': 0.3552049676014719, 'mcc': 0.5476971566722036, 'train_loss': 0.40580732525099533}\n",
      "Epoch 12/20\n"
     ]
    },
    {
     "name": "stderr",
     "output_type": "stream",
     "text": [
      "100%|██████████| 423/423 [00:37<00:00, 11.29it/s]\n"
     ]
    },
    {
     "name": "stdout",
     "output_type": "stream",
     "text": [
      "{'val_loss': 1.5028143780973722, 'val_accuracy': 0.6581904198698995, 'precision': 0.6702684732830637, 'recall': 0.6581904198698995, 'f1-score': 0.6539842916715312, 'macro_f1-score': 0.40633685079251447, 'balanced_accuracy': 0.40202737153268897, 'mcc': 0.5556142470542896, 'train_loss': 0.32143195127588353}\n",
      "Epoch 13/20\n"
     ]
    },
    {
     "name": "stderr",
     "output_type": "stream",
     "text": [
      "100%|██████████| 423/423 [00:37<00:00, 11.27it/s]\n"
     ]
    },
    {
     "name": "stdout",
     "output_type": "stream",
     "text": [
      "{'val_loss': 1.5598763652005285, 'val_accuracy': 0.657599053814311, 'precision': 0.6748464602482374, 'recall': 0.657599053814311, 'f1-score': 0.6563865084193355, 'macro_f1-score': 0.3958007175586934, 'balanced_accuracy': 0.40640703063430883, 'mcc': 0.5580791391486791, 'train_loss': 0.29791877341476525}\n",
      "Epoch 14/20\n"
     ]
    },
    {
     "name": "stderr",
     "output_type": "stream",
     "text": [
      "100%|██████████| 423/423 [00:37<00:00, 11.28it/s]\n"
     ]
    },
    {
     "name": "stdout",
     "output_type": "stream",
     "text": [
      "{'val_loss': 1.5533237766544774, 'val_accuracy': 0.6706091070372561, 'precision': 0.6559644729107326, 'recall': 0.6706091070372561, 'f1-score': 0.6464617587615115, 'macro_f1-score': 0.3670622296549293, 'balanced_accuracy': 0.3482123352871051, 'mcc': 0.5543137575343443, 'train_loss': 0.29997663321656043}\n",
      "Epoch 15/20\n"
     ]
    },
    {
     "name": "stderr",
     "output_type": "stream",
     "text": [
      "100%|██████████| 423/423 [00:37<00:00, 11.30it/s]\n"
     ]
    },
    {
     "name": "stdout",
     "output_type": "stream",
     "text": [
      "{'val_loss': 1.5986663921261735, 'val_accuracy': 0.6570076877587226, 'precision': 0.6584271521947302, 'recall': 0.6570076877587226, 'f1-score': 0.6483306488412889, 'macro_f1-score': 0.3707808818022307, 'balanced_accuracy': 0.38129146894390514, 'mcc': 0.549644450514247, 'train_loss': 0.2899691797011305}\n",
      "Early stopping.\n",
      "\n",
      "[Fold 2]\n",
      "Label distribution after resampling:\n",
      "  label 0: 3179\n",
      "  label 1: 25\n",
      "  label 2: 112\n",
      "  label 3: 24\n",
      "  label 4: 206\n",
      "  label 5: 116\n",
      "  label 6: 94\n",
      "  label 7: 31\n",
      "  label 8: 68\n",
      "  label 9: 65\n",
      "  label 10: 70\n",
      "  label 11: 172\n",
      "  label 12: 193\n",
      "  label 13: 29\n",
      "  label 14: 23\n",
      "  label 15: 25\n",
      "  label 16: 20\n",
      "  label 17: 231\n",
      "  label 18: 93\n",
      "  label 19: 45\n",
      "  label 20: 14\n",
      "  label 21: 35\n",
      "  label 22: 78\n",
      "  label 23: 160\n",
      "  label 24: 16\n",
      "  label 25: 50\n",
      "  label 26: 86\n",
      "  label 27: 49\n",
      "  label 28: 12\n",
      "  label 29: 13\n",
      "  label 30: 15\n",
      "  label 31: 80\n",
      "  label 32: 36\n",
      "  label 33: 32\n",
      "  label 34: 30\n",
      "  label 35: 12\n",
      "  label 36: 28\n",
      "  label 37: 22\n",
      "  label 38: 5\n",
      "  label 39: 103\n",
      "  label 40: 11\n",
      "  label 41: 9\n",
      "  label 42: 147\n",
      "  label 43: 16\n",
      "  label 44: 20\n",
      "  label 45: 9\n",
      "  label 46: 55\n",
      "  label 47: 528\n",
      "  label 48: 202\n",
      "  label 49: 69\n",
      "model is roberta-base cnn\n"
     ]
    },
    {
     "name": "stderr",
     "output_type": "stream",
     "text": [
      "Some weights of RobertaModel were not initialized from the model checkpoint at roberta-base and are newly initialized: ['pooler.dense.bias', 'pooler.dense.weight']\n",
      "You should probably TRAIN this model on a down-stream task to be able to use it for predictions and inference.\n"
     ]
    },
    {
     "name": "stdout",
     "output_type": "stream",
     "text": [
      "Epoch 1/20\n"
     ]
    },
    {
     "name": "stderr",
     "output_type": "stream",
     "text": [
      "100%|██████████| 423/423 [00:37<00:00, 11.28it/s]\n"
     ]
    },
    {
     "name": "stdout",
     "output_type": "stream",
     "text": [
      "{'val_loss': 1.8865613802424017, 'val_accuracy': 0.5730337078651685, 'precision': 0.3589378119131066, 'recall': 0.5730337078651685, 'f1-score': 0.44027272056164396, 'macro_f1-score': 0.048085921142327195, 'balanced_accuracy': 0.06915703702978983, 'mcc': 0.3727298327781626, 'train_loss': 2.1352122554260506}\n",
      "Epoch 2/20\n"
     ]
    },
    {
     "name": "stderr",
     "output_type": "stream",
     "text": [
      "100%|██████████| 423/423 [00:37<00:00, 11.29it/s]\n"
     ]
    },
    {
     "name": "stdout",
     "output_type": "stream",
     "text": [
      "{'val_loss': 1.748687815553737, 'val_accuracy': 0.5558840922531046, 'precision': 0.39706289678745327, 'recall': 0.5558840922531046, 'f1-score': 0.4409031578216401, 'macro_f1-score': 0.06286762657714384, 'balanced_accuracy': 0.08059036623973598, 'mcc': 0.3419331975142166, 'train_loss': 1.7862467590375994}\n",
      "Epoch 3/20\n"
     ]
    },
    {
     "name": "stderr",
     "output_type": "stream",
     "text": [
      "100%|██████████| 423/423 [00:37<00:00, 11.32it/s]\n"
     ]
    },
    {
     "name": "stdout",
     "output_type": "stream",
     "text": [
      "{'val_loss': 1.6319342070030716, 'val_accuracy': 0.5978710821998817, 'precision': 0.41790065026792966, 'recall': 0.5978710821998817, 'f1-score': 0.4869339580163893, 'macro_f1-score': 0.07987865730631044, 'balanced_accuracy': 0.0928890449594371, 'mcc': 0.4176225422149591, 'train_loss': 1.630463921431954}\n",
      "Epoch 4/20\n"
     ]
    },
    {
     "name": "stderr",
     "output_type": "stream",
     "text": [
      "100%|██████████| 423/423 [00:37<00:00, 11.29it/s]\n"
     ]
    },
    {
     "name": "stdout",
     "output_type": "stream",
     "text": [
      "{'val_loss': 1.5700641336306087, 'val_accuracy': 0.5801301005322295, 'precision': 0.5072875184015789, 'recall': 0.5801301005322295, 'f1-score': 0.5146082265654462, 'macro_f1-score': 0.13200778120113937, 'balanced_accuracy': 0.14482791883992635, 'mcc': 0.40687935304198153, 'train_loss': 1.4810549189858402}\n",
      "Epoch 5/20\n"
     ]
    },
    {
     "name": "stderr",
     "output_type": "stream",
     "text": [
      "100%|██████████| 423/423 [00:37<00:00, 11.29it/s]\n"
     ]
    },
    {
     "name": "stdout",
     "output_type": "stream",
     "text": [
      "{'val_loss': 1.456086757329275, 'val_accuracy': 0.6085156712004731, 'precision': 0.5670033636252527, 'recall': 0.6085156712004731, 'f1-score': 0.5701213691605038, 'macro_f1-score': 0.18288415878885164, 'balanced_accuracy': 0.20017265535733084, 'mcc': 0.47304113717222174, 'train_loss': 1.338340082348943}\n",
      "Epoch 6/20\n"
     ]
    },
    {
     "name": "stderr",
     "output_type": "stream",
     "text": [
      "100%|██████████| 423/423 [00:37<00:00, 11.28it/s]\n"
     ]
    },
    {
     "name": "stdout",
     "output_type": "stream",
     "text": [
      "{'val_loss': 1.4480368708664517, 'val_accuracy': 0.6043761088113542, 'precision': 0.586508133605389, 'recall': 0.6043761088113542, 'f1-score': 0.5752995617102632, 'macro_f1-score': 0.2269311696507047, 'balanced_accuracy': 0.2520850186869706, 'mcc': 0.4828536610837866, 'train_loss': 1.1508951108929113}\n",
      "Epoch 7/20\n"
     ]
    },
    {
     "name": "stderr",
     "output_type": "stream",
     "text": [
      "100%|██████████| 423/423 [00:37<00:00, 11.30it/s]\n"
     ]
    },
    {
     "name": "stdout",
     "output_type": "stream",
     "text": [
      "{'val_loss': 1.6815831694962844, 'val_accuracy': 0.5369603784742756, 'precision': 0.5854903403805968, 'recall': 0.5369603784742756, 'f1-score': 0.5415544802958226, 'macro_f1-score': 0.23243245529800294, 'balanced_accuracy': 0.2810361633485465, 'mcc': 0.4358152204320707, 'train_loss': 1.0491893451405474}\n",
      "Epoch 8/20\n"
     ]
    },
    {
     "name": "stderr",
     "output_type": "stream",
     "text": [
      "100%|██████████| 423/423 [00:37<00:00, 11.29it/s]\n"
     ]
    },
    {
     "name": "stdout",
     "output_type": "stream",
     "text": [
      "{'val_loss': 1.4107947644760024, 'val_accuracy': 0.6422235363690124, 'precision': 0.5870179094353578, 'recall': 0.6422235363690124, 'f1-score': 0.592690883872929, 'macro_f1-score': 0.26318634764489934, 'balanced_accuracy': 0.24603877354116135, 'mcc': 0.5042004522627631, 'train_loss': 0.9616916841226266}\n",
      "Epoch 9/20\n"
     ]
    },
    {
     "name": "stderr",
     "output_type": "stream",
     "text": [
      "100%|██████████| 423/423 [00:37<00:00, 11.29it/s]\n"
     ]
    },
    {
     "name": "stdout",
     "output_type": "stream",
     "text": [
      "{'val_loss': 1.3765746287579805, 'val_accuracy': 0.6333530455351862, 'precision': 0.6447467789019494, 'recall': 0.6333530455351862, 'f1-score': 0.6194380366240126, 'macro_f1-score': 0.2936070332065149, 'balanced_accuracy': 0.29652976573649165, 'mcc': 0.5204048266877198, 'train_loss': 0.8243416061814232}\n",
      "Epoch 10/20\n"
     ]
    },
    {
     "name": "stderr",
     "output_type": "stream",
     "text": [
      "100%|██████████| 423/423 [00:37<00:00, 11.29it/s]\n"
     ]
    },
    {
     "name": "stdout",
     "output_type": "stream",
     "text": [
      "{'val_loss': 1.4771442705730222, 'val_accuracy': 0.6274393849793022, 'precision': 0.6371594703836817, 'recall': 0.6274393849793022, 'f1-score': 0.6096666918189612, 'macro_f1-score': 0.27388829980982293, 'balanced_accuracy': 0.2830627676306701, 'mcc': 0.5092183899774854, 'train_loss': 0.7399557328322819}\n",
      "Epoch 11/20\n"
     ]
    },
    {
     "name": "stderr",
     "output_type": "stream",
     "text": [
      "100%|██████████| 423/423 [00:37<00:00, 11.28it/s]\n"
     ]
    },
    {
     "name": "stdout",
     "output_type": "stream",
     "text": [
      "{'val_loss': 1.4376140219985314, 'val_accuracy': 0.6351271437019516, 'precision': 0.634445938394498, 'recall': 0.6351271437019516, 'f1-score': 0.6142014392290862, 'macro_f1-score': 0.3087761609431896, 'balanced_accuracy': 0.30851933250687164, 'mcc': 0.5105988919719417, 'train_loss': 0.7051943001771086}\n",
      "Epoch 12/20\n"
     ]
    },
    {
     "name": "stderr",
     "output_type": "stream",
     "text": [
      "100%|██████████| 423/423 [00:37<00:00, 11.29it/s]\n"
     ]
    },
    {
     "name": "stdout",
     "output_type": "stream",
     "text": [
      "{'val_loss': 1.4713669534561769, 'val_accuracy': 0.6505026611472502, 'precision': 0.6236712781504834, 'recall': 0.6505026611472502, 'f1-score': 0.625101131911106, 'macro_f1-score': 0.33612334389328025, 'balanced_accuracy': 0.32927224541549244, 'mcc': 0.5286536874972488, 'train_loss': 0.616798316694391}\n",
      "Epoch 13/20\n"
     ]
    },
    {
     "name": "stderr",
     "output_type": "stream",
     "text": [
      "100%|██████████| 423/423 [00:37<00:00, 11.28it/s]\n"
     ]
    },
    {
     "name": "stdout",
     "output_type": "stream",
     "text": [
      "{'val_loss': 1.541009969025288, 'val_accuracy': 0.6451803666469544, 'precision': 0.6609648324116402, 'recall': 0.6451803666469544, 'f1-score': 0.6392923220836626, 'macro_f1-score': 0.3369503426767321, 'balanced_accuracy': 0.3381917477667121, 'mcc': 0.5373381248517771, 'train_loss': 0.5388566189782417}\n",
      "Epoch 14/20\n"
     ]
    },
    {
     "name": "stderr",
     "output_type": "stream",
     "text": [
      "100%|██████████| 423/423 [00:37<00:00, 11.28it/s]\n"
     ]
    },
    {
     "name": "stdout",
     "output_type": "stream",
     "text": [
      "{'val_loss': 1.5977963739127483, 'val_accuracy': 0.6510940272028386, 'precision': 0.6545304894293812, 'recall': 0.6510940272028386, 'f1-score': 0.6240819668672418, 'macro_f1-score': 0.3628986591335501, 'balanced_accuracy': 0.3670508497009402, 'mcc': 0.5366919088668913, 'train_loss': 0.4954133327636454}\n",
      "Epoch 15/20\n"
     ]
    },
    {
     "name": "stderr",
     "output_type": "stream",
     "text": [
      "100%|██████████| 423/423 [00:37<00:00, 11.28it/s]\n"
     ]
    },
    {
     "name": "stdout",
     "output_type": "stream",
     "text": [
      "{'val_loss': 1.5912001383192134, 'val_accuracy': 0.6463630987581312, 'precision': 0.6648279495149145, 'recall': 0.6463630987581312, 'f1-score': 0.6381475142899331, 'macro_f1-score': 0.3391238456035818, 'balanced_accuracy': 0.34636584754112887, 'mcc': 0.5382415264701288, 'train_loss': 0.4532488454859836}\n",
      "Epoch 16/20\n"
     ]
    },
    {
     "name": "stderr",
     "output_type": "stream",
     "text": [
      "100%|██████████| 423/423 [00:37<00:00, 11.29it/s]\n"
     ]
    },
    {
     "name": "stdout",
     "output_type": "stream",
     "text": [
      "{'val_loss': 1.6337925533078752, 'val_accuracy': 0.6552335895919574, 'precision': 0.6502730345957181, 'recall': 0.6552335895919574, 'f1-score': 0.6379754531639987, 'macro_f1-score': 0.36079525219591374, 'balanced_accuracy': 0.36310527354104266, 'mcc': 0.5468014360612385, 'train_loss': 0.4246660621471298}\n",
      "Epoch 17/20\n"
     ]
    },
    {
     "name": "stderr",
     "output_type": "stream",
     "text": [
      "100%|██████████| 423/423 [00:37<00:00, 11.28it/s]\n"
     ]
    },
    {
     "name": "stdout",
     "output_type": "stream",
     "text": [
      "{'val_loss': 1.6392198154386484, 'val_accuracy': 0.6428149024246008, 'precision': 0.6540692288140553, 'recall': 0.6428149024246008, 'f1-score': 0.6363247770978031, 'macro_f1-score': 0.37243611795191334, 'balanced_accuracy': 0.3779387707689936, 'mcc': 0.5378818922627212, 'train_loss': 0.3952651522859896}\n",
      "Epoch 18/20\n"
     ]
    },
    {
     "name": "stderr",
     "output_type": "stream",
     "text": [
      "100%|██████████| 423/423 [00:37<00:00, 11.29it/s]\n"
     ]
    },
    {
     "name": "stdout",
     "output_type": "stream",
     "text": [
      "{'val_loss': 1.6003981018966098, 'val_accuracy': 0.6457717327025428, 'precision': 0.6503322308673554, 'recall': 0.6457717327025428, 'f1-score': 0.6331283771950279, 'macro_f1-score': 0.3473945872938441, 'balanced_accuracy': 0.3443516792600027, 'mcc': 0.5350290815894444, 'train_loss': 0.3943483790924363}\n",
      "Epoch 19/20\n"
     ]
    },
    {
     "name": "stderr",
     "output_type": "stream",
     "text": [
      "100%|██████████| 423/423 [00:37<00:00, 11.27it/s]\n"
     ]
    },
    {
     "name": "stdout",
     "output_type": "stream",
     "text": [
      "{'val_loss': 1.6926871254196707, 'val_accuracy': 0.6481371969248965, 'precision': 0.6431355190352741, 'recall': 0.6481371969248965, 'f1-score': 0.6293993985018657, 'macro_f1-score': 0.33698262526763495, 'balanced_accuracy': 0.3326611592742195, 'mcc': 0.5327061677746375, 'train_loss': 0.33860638603374327}\n",
      "Epoch 20/20\n"
     ]
    },
    {
     "name": "stderr",
     "output_type": "stream",
     "text": [
      "100%|██████████| 423/423 [00:37<00:00, 11.29it/s]\n"
     ]
    },
    {
     "name": "stdout",
     "output_type": "stream",
     "text": [
      "{'val_loss': 1.7395392214914538, 'val_accuracy': 0.6487285629804849, 'precision': 0.6562847406270974, 'recall': 0.6487285629804849, 'f1-score': 0.6304440156814626, 'macro_f1-score': 0.3331411092944034, 'balanced_accuracy': 0.3476544968810507, 'mcc': 0.5374158838527912, 'train_loss': 0.3456060228666762}\n",
      "Early stopping.\n",
      "\n",
      "[Fold 3]\n",
      "Label distribution after resampling:\n",
      "  label 0: 3179\n",
      "  label 1: 25\n",
      "  label 2: 112\n",
      "  label 3: 24\n",
      "  label 4: 206\n",
      "  label 5: 116\n",
      "  label 6: 94\n",
      "  label 7: 31\n",
      "  label 8: 68\n",
      "  label 9: 65\n",
      "  label 10: 71\n",
      "  label 11: 172\n",
      "  label 12: 192\n",
      "  label 13: 29\n",
      "  label 14: 23\n",
      "  label 15: 25\n",
      "  label 16: 20\n",
      "  label 17: 231\n",
      "  label 18: 93\n",
      "  label 19: 45\n",
      "  label 20: 14\n",
      "  label 21: 36\n",
      "  label 22: 77\n",
      "  label 23: 160\n",
      "  label 24: 16\n",
      "  label 25: 51\n",
      "  label 26: 85\n",
      "  label 27: 49\n",
      "  label 28: 12\n",
      "  label 29: 12\n",
      "  label 30: 16\n",
      "  label 31: 80\n",
      "  label 32: 36\n",
      "  label 33: 32\n",
      "  label 34: 29\n",
      "  label 35: 12\n",
      "  label 36: 28\n",
      "  label 37: 22\n",
      "  label 38: 5\n",
      "  label 39: 103\n",
      "  label 40: 11\n",
      "  label 41: 9\n",
      "  label 42: 147\n",
      "  label 43: 16\n",
      "  label 44: 20\n",
      "  label 45: 9\n",
      "  label 46: 55\n",
      "  label 47: 529\n",
      "  label 48: 201\n",
      "  label 49: 70\n",
      "model is roberta-base cnn\n"
     ]
    },
    {
     "name": "stderr",
     "output_type": "stream",
     "text": [
      "Some weights of RobertaModel were not initialized from the model checkpoint at roberta-base and are newly initialized: ['pooler.dense.bias', 'pooler.dense.weight']\n",
      "You should probably TRAIN this model on a down-stream task to be able to use it for predictions and inference.\n"
     ]
    },
    {
     "name": "stdout",
     "output_type": "stream",
     "text": [
      "Epoch 1/20\n"
     ]
    },
    {
     "name": "stderr",
     "output_type": "stream",
     "text": [
      "100%|██████████| 423/423 [00:37<00:00, 11.24it/s]\n"
     ]
    },
    {
     "name": "stdout",
     "output_type": "stream",
     "text": [
      "{'val_loss': 1.6766348245008937, 'val_accuracy': 0.5943228858663513, 'precision': 0.40650991930693203, 'recall': 0.5943228858663513, 'f1-score': 0.4721333480695305, 'macro_f1-score': 0.08229417121098372, 'balanced_accuracy': 0.09514116360519581, 'mcc': 0.40916364291374924, 'train_loss': 2.045131496222025}\n",
      "Epoch 2/20\n"
     ]
    },
    {
     "name": "stderr",
     "output_type": "stream",
     "text": [
      "100%|██████████| 423/423 [00:37<00:00, 11.30it/s]\n"
     ]
    },
    {
     "name": "stdout",
     "output_type": "stream",
     "text": [
      "{'val_loss': 1.4208724380664106, 'val_accuracy': 0.6215257244234181, 'precision': 0.5256225861456075, 'recall': 0.6215257244234181, 'f1-score': 0.5509603410789, 'macro_f1-score': 0.1437424244618482, 'balanced_accuracy': 0.15491457578574308, 'mcc': 0.4769234510107797, 'train_loss': 1.5666031172371362}\n",
      "Epoch 3/20\n"
     ]
    },
    {
     "name": "stderr",
     "output_type": "stream",
     "text": [
      "100%|██████████| 423/423 [00:37<00:00, 11.28it/s]\n"
     ]
    },
    {
     "name": "stdout",
     "output_type": "stream",
     "text": [
      "{'val_loss': 1.4018726916808002, 'val_accuracy': 0.6238911886457718, 'precision': 0.5629544357333927, 'recall': 0.6238911886457718, 'f1-score': 0.5665524823197357, 'macro_f1-score': 0.1779806088664328, 'balanced_accuracy': 0.18290549077187024, 'mcc': 0.47651408219838337, 'train_loss': 1.3069701930309863}\n",
      "Epoch 4/20\n"
     ]
    },
    {
     "name": "stderr",
     "output_type": "stream",
     "text": [
      "100%|██████████| 423/423 [00:37<00:00, 11.28it/s]\n"
     ]
    },
    {
     "name": "stdout",
     "output_type": "stream",
     "text": [
      "{'val_loss': 1.3277217593957793, 'val_accuracy': 0.63571850975754, 'precision': 0.6133134607420726, 'recall': 0.63571850975754, 'f1-score': 0.6076911724285209, 'macro_f1-score': 0.25225122141938167, 'balanced_accuracy': 0.2509976351217082, 'mcc': 0.5087067838820692, 'train_loss': 1.0943196959811181}\n",
      "Epoch 5/20\n"
     ]
    },
    {
     "name": "stderr",
     "output_type": "stream",
     "text": [
      "100%|██████████| 423/423 [00:37<00:00, 11.29it/s]\n"
     ]
    },
    {
     "name": "stdout",
     "output_type": "stream",
     "text": [
      "{'val_loss': 1.3765259775912986, 'val_accuracy': 0.6179775280898876, 'precision': 0.6221161871087716, 'recall': 0.6179775280898876, 'f1-score': 0.608360733814296, 'macro_f1-score': 0.28491087098711915, 'balanced_accuracy': 0.29256074100456936, 'mcc': 0.5015064690230832, 'train_loss': 0.9148948468778714}\n",
      "Epoch 6/20\n"
     ]
    },
    {
     "name": "stderr",
     "output_type": "stream",
     "text": [
      "100%|██████████| 423/423 [00:37<00:00, 11.28it/s]\n"
     ]
    },
    {
     "name": "stdout",
     "output_type": "stream",
     "text": [
      "{'val_loss': 1.2901448902656447, 'val_accuracy': 0.644589000591366, 'precision': 0.6409692776890474, 'recall': 0.644589000591366, 'f1-score': 0.6289900115461081, 'macro_f1-score': 0.30855261857940364, 'balanced_accuracy': 0.30343539195843605, 'mcc': 0.5264110633570227, 'train_loss': 0.7796657753505042}\n",
      "Epoch 7/20\n"
     ]
    },
    {
     "name": "stderr",
     "output_type": "stream",
     "text": [
      "100%|██████████| 423/423 [00:37<00:00, 11.27it/s]\n"
     ]
    },
    {
     "name": "stdout",
     "output_type": "stream",
     "text": [
      "{'val_loss': 1.3651834571698926, 'val_accuracy': 0.651685393258427, 'precision': 0.6337270848500597, 'recall': 0.651685393258427, 'f1-score': 0.6189797410382406, 'macro_f1-score': 0.3075059343297272, 'balanced_accuracy': 0.31484482911638617, 'mcc': 0.5366173862673932, 'train_loss': 0.6684783689202146}\n",
      "Epoch 8/20\n"
     ]
    },
    {
     "name": "stderr",
     "output_type": "stream",
     "text": [
      "100%|██████████| 423/423 [00:37<00:00, 11.28it/s]\n"
     ]
    },
    {
     "name": "stdout",
     "output_type": "stream",
     "text": [
      "{'val_loss': 1.4320399865226925, 'val_accuracy': 0.6587817859254879, 'precision': 0.6423398954217806, 'recall': 0.6587817859254879, 'f1-score': 0.6319136817651106, 'macro_f1-score': 0.32888275836483616, 'balanced_accuracy': 0.3093288975400472, 'mcc': 0.5413845831440309, 'train_loss': 0.550412965432056}\n",
      "Epoch 9/20\n"
     ]
    },
    {
     "name": "stderr",
     "output_type": "stream",
     "text": [
      "100%|██████████| 423/423 [00:37<00:00, 11.28it/s]\n"
     ]
    },
    {
     "name": "stdout",
     "output_type": "stream",
     "text": [
      "{'val_loss': 1.4224895365395636, 'val_accuracy': 0.6469544648137197, 'precision': 0.6710190256743109, 'recall': 0.6469544648137197, 'f1-score': 0.6400881847223197, 'macro_f1-score': 0.3631461441160234, 'balanced_accuracy': 0.3791067268523232, 'mcc': 0.5444600735434466, 'train_loss': 0.4741633348739387}\n",
      "Epoch 10/20\n"
     ]
    },
    {
     "name": "stderr",
     "output_type": "stream",
     "text": [
      "100%|██████████| 423/423 [00:37<00:00, 11.26it/s]\n"
     ]
    },
    {
     "name": "stdout",
     "output_type": "stream",
     "text": [
      "{'val_loss': 1.531911216816812, 'val_accuracy': 0.6534594914251922, 'precision': 0.6418143938563232, 'recall': 0.6534594914251922, 'f1-score': 0.632165569835072, 'macro_f1-score': 0.3322437169863427, 'balanced_accuracy': 0.3145858614513374, 'mcc': 0.5356131029075926, 'train_loss': 0.42079255659018705}\n",
      "Epoch 11/20\n"
     ]
    },
    {
     "name": "stderr",
     "output_type": "stream",
     "text": [
      "100%|██████████| 423/423 [00:37<00:00, 11.29it/s]\n"
     ]
    },
    {
     "name": "stdout",
     "output_type": "stream",
     "text": [
      "{'val_loss': 1.5660753834922359, 'val_accuracy': 0.6463630987581312, 'precision': 0.6519505391984021, 'recall': 0.6463630987581312, 'f1-score': 0.6377763281375457, 'macro_f1-score': 0.34537436718658365, 'balanced_accuracy': 0.35464256294982727, 'mcc': 0.5403490955323806, 'train_loss': 0.37344916538284745}\n",
      "Epoch 12/20\n"
     ]
    },
    {
     "name": "stderr",
     "output_type": "stream",
     "text": [
      "100%|██████████| 423/423 [00:37<00:00, 11.28it/s]\n"
     ]
    },
    {
     "name": "stdout",
     "output_type": "stream",
     "text": [
      "{'val_loss': 1.611657273656917, 'val_accuracy': 0.6422235363690124, 'precision': 0.6574611297921655, 'recall': 0.6422235363690124, 'f1-score': 0.6358209923016156, 'macro_f1-score': 0.3437569681985016, 'balanced_accuracy': 0.37038293087398233, 'mcc': 0.5370395296225912, 'train_loss': 0.3438550013890292}\n",
      "Early stopping.\n",
      "\n",
      "[Fold 4]\n",
      "Label distribution after resampling:\n",
      "  label 0: 3179\n",
      "  label 1: 25\n",
      "  label 2: 112\n",
      "  label 3: 24\n",
      "  label 4: 206\n",
      "  label 5: 116\n",
      "  label 6: 94\n",
      "  label 7: 32\n",
      "  label 8: 68\n",
      "  label 9: 64\n",
      "  label 10: 71\n",
      "  label 11: 172\n",
      "  label 12: 193\n",
      "  label 13: 28\n",
      "  label 14: 24\n",
      "  label 15: 24\n",
      "  label 16: 20\n",
      "  label 17: 232\n",
      "  label 18: 92\n",
      "  label 19: 45\n",
      "  label 20: 15\n",
      "  label 21: 35\n",
      "  label 22: 77\n",
      "  label 23: 160\n",
      "  label 24: 16\n",
      "  label 25: 51\n",
      "  label 26: 85\n",
      "  label 27: 49\n",
      "  label 28: 12\n",
      "  label 29: 13\n",
      "  label 30: 15\n",
      "  label 31: 80\n",
      "  label 32: 36\n",
      "  label 33: 32\n",
      "  label 34: 29\n",
      "  label 35: 12\n",
      "  label 36: 28\n",
      "  label 37: 22\n",
      "  label 38: 6\n",
      "  label 39: 103\n",
      "  label 40: 11\n",
      "  label 41: 9\n",
      "  label 42: 148\n",
      "  label 43: 16\n",
      "  label 44: 20\n",
      "  label 45: 8\n",
      "  label 46: 54\n",
      "  label 47: 529\n",
      "  label 48: 201\n",
      "  label 49: 70\n",
      "model is roberta-base cnn\n"
     ]
    },
    {
     "name": "stderr",
     "output_type": "stream",
     "text": [
      "Some weights of RobertaModel were not initialized from the model checkpoint at roberta-base and are newly initialized: ['pooler.dense.bias', 'pooler.dense.weight']\n",
      "You should probably TRAIN this model on a down-stream task to be able to use it for predictions and inference.\n"
     ]
    },
    {
     "name": "stdout",
     "output_type": "stream",
     "text": [
      "Epoch 1/20\n"
     ]
    },
    {
     "name": "stderr",
     "output_type": "stream",
     "text": [
      "100%|██████████| 423/423 [00:37<00:00, 11.27it/s]\n"
     ]
    },
    {
     "name": "stdout",
     "output_type": "stream",
     "text": [
      "{'val_loss': 1.6478701745564084, 'val_accuracy': 0.5949142519219397, 'precision': 0.477407855319701, 'recall': 0.5949142519219397, 'f1-score': 0.5199442037822143, 'macro_f1-score': 0.1156677305891965, 'balanced_accuracy': 0.12814750512728731, 'mcc': 0.4265738333777076, 'train_loss': 2.047296686939032}\n",
      "Epoch 2/20\n"
     ]
    },
    {
     "name": "stderr",
     "output_type": "stream",
     "text": [
      "100%|██████████| 423/423 [00:37<00:00, 11.28it/s]\n"
     ]
    },
    {
     "name": "stdout",
     "output_type": "stream",
     "text": [
      "{'val_loss': 1.4087384568070465, 'val_accuracy': 0.625665286812537, 'precision': 0.5425580805358162, 'recall': 0.625665286812537, 'f1-score': 0.5655165988710913, 'macro_f1-score': 0.16060094707624079, 'balanced_accuracy': 0.1797238715563998, 'mcc': 0.49605317336043486, 'train_loss': 1.5586883482076315}\n",
      "Epoch 3/20\n"
     ]
    },
    {
     "name": "stderr",
     "output_type": "stream",
     "text": [
      "100%|██████████| 423/423 [00:37<00:00, 11.29it/s]\n"
     ]
    },
    {
     "name": "stdout",
     "output_type": "stream",
     "text": [
      "{'val_loss': 1.320518694677443, 'val_accuracy': 0.6475458308693081, 'precision': 0.5533781199596307, 'recall': 0.6475458308693081, 'f1-score': 0.586742809558701, 'macro_f1-score': 0.20578258078286693, 'balanced_accuracy': 0.21067762686165362, 'mcc': 0.5147132339604845, 'train_loss': 1.3016200597545498}\n",
      "Epoch 4/20\n"
     ]
    },
    {
     "name": "stderr",
     "output_type": "stream",
     "text": [
      "100%|██████████| 423/423 [00:37<00:00, 11.28it/s]\n"
     ]
    },
    {
     "name": "stdout",
     "output_type": "stream",
     "text": [
      "{'val_loss': 1.2846144252228286, 'val_accuracy': 0.6363098758131284, 'precision': 0.6245867402597642, 'recall': 0.6363098758131284, 'f1-score': 0.6127813633398007, 'macro_f1-score': 0.273784077868286, 'balanced_accuracy': 0.29343906690861027, 'mcc': 0.5184723033648901, 'train_loss': 1.0930498334673844}\n",
      "Epoch 5/20\n"
     ]
    },
    {
     "name": "stderr",
     "output_type": "stream",
     "text": [
      "100%|██████████| 423/423 [00:37<00:00, 11.29it/s]\n"
     ]
    },
    {
     "name": "stdout",
     "output_type": "stream",
     "text": [
      "{'val_loss': 1.2437056775362987, 'val_accuracy': 0.6641040804257835, 'precision': 0.6435752171172966, 'recall': 0.6641040804257835, 'f1-score': 0.6411194832769651, 'macro_f1-score': 0.31772501612837994, 'balanced_accuracy': 0.31445450981646633, 'mcc': 0.5534896398160392, 'train_loss': 0.9073896470433431}\n",
      "Epoch 6/20\n"
     ]
    },
    {
     "name": "stderr",
     "output_type": "stream",
     "text": [
      "100%|██████████| 423/423 [00:37<00:00, 11.27it/s]\n"
     ]
    },
    {
     "name": "stdout",
     "output_type": "stream",
     "text": [
      "{'val_loss': 1.2900256677618567, 'val_accuracy': 0.6540508574807806, 'precision': 0.6546441382597727, 'recall': 0.6540508574807806, 'f1-score': 0.637219474770927, 'macro_f1-score': 0.32816880083239547, 'balanced_accuracy': 0.32078985169398566, 'mcc': 0.544933961103466, 'train_loss': 0.7397587749199946}\n",
      "Epoch 7/20\n"
     ]
    },
    {
     "name": "stderr",
     "output_type": "stream",
     "text": [
      "100%|██████████| 423/423 [00:37<00:00, 11.29it/s]\n"
     ]
    },
    {
     "name": "stdout",
     "output_type": "stream",
     "text": [
      "{'val_loss': 1.3171475321616766, 'val_accuracy': 0.6670609107037256, 'precision': 0.6578232121234987, 'recall': 0.6670609107037256, 'f1-score': 0.6458165026342377, 'macro_f1-score': 0.35347972658330923, 'balanced_accuracy': 0.3380481732985497, 'mcc': 0.560289311537935, 'train_loss': 0.6392964861283066}\n",
      "Epoch 8/20\n"
     ]
    },
    {
     "name": "stderr",
     "output_type": "stream",
     "text": [
      "100%|██████████| 423/423 [00:37<00:00, 11.28it/s]\n"
     ]
    },
    {
     "name": "stdout",
     "output_type": "stream",
     "text": [
      "{'val_loss': 1.3824123967930955, 'val_accuracy': 0.6723832052040213, 'precision': 0.6608977925657631, 'recall': 0.6723832052040213, 'f1-score': 0.6560312212300625, 'macro_f1-score': 0.3703015391387944, 'balanced_accuracy': 0.3676688422938733, 'mcc': 0.5648074433000961, 'train_loss': 0.5351247615742345}\n",
      "Epoch 9/20\n"
     ]
    },
    {
     "name": "stderr",
     "output_type": "stream",
     "text": [
      "100%|██████████| 423/423 [00:37<00:00, 11.28it/s]\n"
     ]
    },
    {
     "name": "stdout",
     "output_type": "stream",
     "text": [
      "{'val_loss': 1.4161620339695014, 'val_accuracy': 0.6629213483146067, 'precision': 0.6802390776344358, 'recall': 0.6629213483146067, 'f1-score': 0.6503312785144754, 'macro_f1-score': 0.38343154688653447, 'balanced_accuracy': 0.38356782146510043, 'mcc': 0.5603495139546838, 'train_loss': 0.47021484597812874}\n",
      "Epoch 10/20\n"
     ]
    },
    {
     "name": "stderr",
     "output_type": "stream",
     "text": [
      "100%|██████████| 423/423 [00:37<00:00, 11.28it/s]\n"
     ]
    },
    {
     "name": "stdout",
     "output_type": "stream",
     "text": [
      "{'val_loss': 1.4117556170753713, 'val_accuracy': 0.6723832052040213, 'precision': 0.6787293545925939, 'recall': 0.6723832052040213, 'f1-score': 0.6667486298594958, 'macro_f1-score': 0.38680338214116283, 'balanced_accuracy': 0.3859527567192796, 'mcc': 0.5719202324406772, 'train_loss': 0.40646100658086737}\n",
      "Epoch 11/20\n"
     ]
    },
    {
     "name": "stderr",
     "output_type": "stream",
     "text": [
      "100%|██████████| 423/423 [00:37<00:00, 11.30it/s]\n"
     ]
    },
    {
     "name": "stdout",
     "output_type": "stream",
     "text": [
      "{'val_loss': 1.4120224376894392, 'val_accuracy': 0.6883500887049083, 'precision': 0.6812423251707581, 'recall': 0.6883500887049083, 'f1-score': 0.6786368843138177, 'macro_f1-score': 0.42551688952899963, 'balanced_accuracy': 0.4132977483085812, 'mcc': 0.5891818203389438, 'train_loss': 0.37909705895956947}\n",
      "Epoch 12/20\n"
     ]
    },
    {
     "name": "stderr",
     "output_type": "stream",
     "text": [
      "100%|██████████| 423/423 [00:37<00:00, 11.29it/s]\n"
     ]
    },
    {
     "name": "stdout",
     "output_type": "stream",
     "text": [
      "{'val_loss': 1.5227017267695013, 'val_accuracy': 0.6717918391484329, 'precision': 0.6915036951246704, 'recall': 0.6717918391484329, 'f1-score': 0.6666731164133209, 'macro_f1-score': 0.42184242851785797, 'balanced_accuracy': 0.41687076907141946, 'mcc': 0.5739034820050111, 'train_loss': 0.3352224169360654}\n",
      "Epoch 13/20\n"
     ]
    },
    {
     "name": "stderr",
     "output_type": "stream",
     "text": [
      "100%|██████████| 423/423 [00:37<00:00, 11.27it/s]\n"
     ]
    },
    {
     "name": "stdout",
     "output_type": "stream",
     "text": [
      "{'val_loss': 1.5882266242549103, 'val_accuracy': 0.657599053814311, 'precision': 0.68652248131876, 'recall': 0.657599053814311, 'f1-score': 0.6552725559549715, 'macro_f1-score': 0.3764999404914399, 'balanced_accuracy': 0.390765121122797, 'mcc': 0.5592363531988228, 'train_loss': 0.3217091163329727}\n",
      "Epoch 14/20\n"
     ]
    },
    {
     "name": "stderr",
     "output_type": "stream",
     "text": [
      "100%|██████████| 423/423 [00:37<00:00, 11.28it/s]\n"
     ]
    },
    {
     "name": "stdout",
     "output_type": "stream",
     "text": [
      "{'val_loss': 1.5539649748858415, 'val_accuracy': 0.6830277942046127, 'precision': 0.6714739094475948, 'recall': 0.6830277942046127, 'f1-score': 0.6662879434876317, 'macro_f1-score': 0.40430150034229406, 'balanced_accuracy': 0.39382781688662183, 'mcc': 0.5749824927525065, 'train_loss': 0.30345297067802635}\n",
      "Early stopping.\n",
      "\n",
      "[Fold 5]\n",
      "Label distribution after resampling:\n",
      "  label 0: 3180\n",
      "  label 1: 24\n",
      "  label 2: 112\n",
      "  label 3: 24\n",
      "  label 4: 205\n",
      "  label 5: 116\n",
      "  label 6: 95\n",
      "  label 7: 31\n",
      "  label 8: 68\n",
      "  label 9: 65\n",
      "  label 10: 70\n",
      "  label 11: 172\n",
      "  label 12: 193\n",
      "  label 13: 29\n",
      "  label 14: 23\n",
      "  label 15: 25\n",
      "  label 16: 20\n",
      "  label 17: 231\n",
      "  label 18: 93\n",
      "  label 19: 44\n",
      "  label 20: 15\n",
      "  label 21: 35\n",
      "  label 22: 78\n",
      "  label 23: 160\n",
      "  label 24: 16\n",
      "  label 25: 50\n",
      "  label 26: 86\n",
      "  label 27: 48\n",
      "  label 28: 12\n",
      "  label 29: 13\n",
      "  label 30: 15\n",
      "  label 31: 80\n",
      "  label 32: 36\n",
      "  label 33: 32\n",
      "  label 34: 30\n",
      "  label 35: 12\n",
      "  label 36: 28\n",
      "  label 37: 21\n",
      "  label 38: 6\n",
      "  label 39: 104\n",
      "  label 40: 11\n",
      "  label 41: 9\n",
      "  label 42: 147\n",
      "  label 43: 16\n",
      "  label 44: 20\n",
      "  label 45: 9\n",
      "  label 46: 54\n",
      "  label 47: 529\n",
      "  label 48: 202\n",
      "  label 49: 70\n",
      "model is roberta-base cnn\n"
     ]
    },
    {
     "name": "stderr",
     "output_type": "stream",
     "text": [
      "Some weights of RobertaModel were not initialized from the model checkpoint at roberta-base and are newly initialized: ['pooler.dense.bias', 'pooler.dense.weight']\n",
      "You should probably TRAIN this model on a down-stream task to be able to use it for predictions and inference.\n"
     ]
    },
    {
     "name": "stdout",
     "output_type": "stream",
     "text": [
      "Epoch 1/20\n"
     ]
    },
    {
     "name": "stderr",
     "output_type": "stream",
     "text": [
      "100%|██████████| 423/423 [00:37<00:00, 11.30it/s]\n"
     ]
    },
    {
     "name": "stdout",
     "output_type": "stream",
     "text": [
      "{'val_loss': 1.8639519771315016, 'val_accuracy': 0.5662721893491124, 'precision': 0.35202887231162006, 'recall': 0.5662721893491124, 'f1-score': 0.4228496130188396, 'macro_f1-score': 0.04556750393386933, 'balanced_accuracy': 0.056145114765370124, 'mcc': 0.3488076239643733, 'train_loss': 2.15403109507076}\n",
      "Epoch 2/20\n"
     ]
    },
    {
     "name": "stderr",
     "output_type": "stream",
     "text": [
      "100%|██████████| 423/423 [00:37<00:00, 11.31it/s]\n"
     ]
    },
    {
     "name": "stdout",
     "output_type": "stream",
     "text": [
      "{'val_loss': 1.5789790147880338, 'val_accuracy': 0.6035502958579881, 'precision': 0.4361389130025796, 'recall': 0.6035502958579881, 'f1-score': 0.49805383985932516, 'macro_f1-score': 0.09152159622110315, 'balanced_accuracy': 0.10437107890365734, 'mcc': 0.4327908503026959, 'train_loss': 1.744178493465374}\n",
      "Epoch 3/20\n"
     ]
    },
    {
     "name": "stderr",
     "output_type": "stream",
     "text": [
      "100%|██████████| 423/423 [00:37<00:00, 11.28it/s]\n"
     ]
    },
    {
     "name": "stdout",
     "output_type": "stream",
     "text": [
      "{'val_loss': 1.6504298364216428, 'val_accuracy': 0.5828402366863905, 'precision': 0.5385023504281682, 'recall': 0.5828402366863905, 'f1-score': 0.5350561092003968, 'macro_f1-score': 0.1440058391011637, 'balanced_accuracy': 0.15746335365616082, 'mcc': 0.43253236861501987, 'train_loss': 1.5131193610088762}\n",
      "Epoch 4/20\n"
     ]
    },
    {
     "name": "stderr",
     "output_type": "stream",
     "text": [
      "100%|██████████| 423/423 [00:37<00:00, 11.27it/s]\n"
     ]
    },
    {
     "name": "stdout",
     "output_type": "stream",
     "text": [
      "{'val_loss': 1.485665481045561, 'val_accuracy': 0.6218934911242604, 'precision': 0.5294673451797992, 'recall': 0.6218934911242604, 'f1-score': 0.5614198682421024, 'macro_f1-score': 0.1684786264931193, 'balanced_accuracy': 0.18454647990304685, 'mcc': 0.48617262772946573, 'train_loss': 1.3550952689162947}\n",
      "Epoch 5/20\n"
     ]
    },
    {
     "name": "stderr",
     "output_type": "stream",
     "text": [
      "100%|██████████| 423/423 [00:37<00:00, 11.29it/s]\n"
     ]
    },
    {
     "name": "stdout",
     "output_type": "stream",
     "text": [
      "{'val_loss': 1.4111838602232483, 'val_accuracy': 0.6130177514792899, 'precision': 0.5817880598830197, 'recall': 0.6130177514792899, 'f1-score': 0.5740752055884396, 'macro_f1-score': 0.18296017095322623, 'balanced_accuracy': 0.20481493788093158, 'mcc': 0.49128127179215064, 'train_loss': 1.2159029569468036}\n",
      "Epoch 6/20\n"
     ]
    },
    {
     "name": "stderr",
     "output_type": "stream",
     "text": [
      "100%|██████████| 423/423 [00:37<00:00, 11.31it/s]\n"
     ]
    },
    {
     "name": "stdout",
     "output_type": "stream",
     "text": [
      "{'val_loss': 1.3912071703739886, 'val_accuracy': 0.6366863905325444, 'precision': 0.5961385547378796, 'recall': 0.6366863905325444, 'f1-score': 0.591687511399058, 'macro_f1-score': 0.20683406437538607, 'balanced_accuracy': 0.20807104904884954, 'mcc': 0.5063468443603768, 'train_loss': 1.0647934020692857}\n",
      "Epoch 7/20\n"
     ]
    },
    {
     "name": "stderr",
     "output_type": "stream",
     "text": [
      "100%|██████████| 423/423 [00:37<00:00, 11.28it/s]\n"
     ]
    },
    {
     "name": "stdout",
     "output_type": "stream",
     "text": [
      "{'val_loss': 1.3520452515134271, 'val_accuracy': 0.6355029585798817, 'precision': 0.6228728913919429, 'recall': 0.6355029585798817, 'f1-score': 0.6078168620289705, 'macro_f1-score': 0.2442111137272464, 'balanced_accuracy': 0.26079482197876414, 'mcc': 0.5179857277032935, 'train_loss': 0.9449827298874269}\n",
      "Epoch 8/20\n"
     ]
    },
    {
     "name": "stderr",
     "output_type": "stream",
     "text": [
      "100%|██████████| 423/423 [00:37<00:00, 11.28it/s]\n"
     ]
    },
    {
     "name": "stdout",
     "output_type": "stream",
     "text": [
      "{'val_loss': 1.4450239381700192, 'val_accuracy': 0.6526627218934912, 'precision': 0.6435442550270245, 'recall': 0.6526627218934912, 'f1-score': 0.6299923459736312, 'macro_f1-score': 0.2756496501246925, 'balanced_accuracy': 0.26882098917703245, 'mcc': 0.534263127342865, 'train_loss': 0.8500626391729}\n",
      "Epoch 9/20\n"
     ]
    },
    {
     "name": "stderr",
     "output_type": "stream",
     "text": [
      "100%|██████████| 423/423 [00:37<00:00, 11.30it/s]\n"
     ]
    },
    {
     "name": "stdout",
     "output_type": "stream",
     "text": [
      "{'val_loss': 1.4108313940606028, 'val_accuracy': 0.6579881656804734, 'precision': 0.6441805137422381, 'recall': 0.6579881656804734, 'f1-score': 0.6373553048561859, 'macro_f1-score': 0.28071126371748495, 'balanced_accuracy': 0.2824702584788411, 'mcc': 0.5465388301271575, 'train_loss': 0.7516961652195482}\n",
      "Epoch 10/20\n"
     ]
    },
    {
     "name": "stderr",
     "output_type": "stream",
     "text": [
      "100%|██████████| 423/423 [00:37<00:00, 11.28it/s]\n"
     ]
    },
    {
     "name": "stdout",
     "output_type": "stream",
     "text": [
      "{'val_loss': 1.4061368100766867, 'val_accuracy': 0.6650887573964497, 'precision': 0.638396402432685, 'recall': 0.6650887573964497, 'f1-score': 0.6393952281403078, 'macro_f1-score': 0.3048393199416802, 'balanced_accuracy': 0.3104533066292447, 'mcc': 0.5566568569057022, 'train_loss': 0.6687171989897746}\n",
      "Epoch 11/20\n"
     ]
    },
    {
     "name": "stderr",
     "output_type": "stream",
     "text": [
      "100%|██████████| 423/423 [00:37<00:00, 11.29it/s]\n"
     ]
    },
    {
     "name": "stdout",
     "output_type": "stream",
     "text": [
      "{'val_loss': 1.4846939048114813, 'val_accuracy': 0.6585798816568047, 'precision': 0.6457674711798719, 'recall': 0.6585798816568047, 'f1-score': 0.6406892698771728, 'macro_f1-score': 0.31888522089423543, 'balanced_accuracy': 0.31665564981846456, 'mcc': 0.5496597836020319, 'train_loss': 0.6100168708562146}\n",
      "Epoch 12/20\n"
     ]
    },
    {
     "name": "stderr",
     "output_type": "stream",
     "text": [
      "100%|██████████| 423/423 [00:37<00:00, 11.27it/s]\n"
     ]
    },
    {
     "name": "stdout",
     "output_type": "stream",
     "text": [
      "{'val_loss': 1.5128507243012481, 'val_accuracy': 0.6420118343195266, 'precision': 0.6383560302271045, 'recall': 0.6420118343195266, 'f1-score': 0.6269067728900185, 'macro_f1-score': 0.2946139028049254, 'balanced_accuracy': 0.2918700451770465, 'mcc': 0.5309572881902408, 'train_loss': 0.5252812696405055}\n",
      "Epoch 13/20\n"
     ]
    },
    {
     "name": "stderr",
     "output_type": "stream",
     "text": [
      "100%|██████████| 423/423 [00:37<00:00, 11.28it/s]\n"
     ]
    },
    {
     "name": "stdout",
     "output_type": "stream",
     "text": [
      "{'val_loss': 1.6296487810476772, 'val_accuracy': 0.6662721893491125, 'precision': 0.6425247896064579, 'recall': 0.6662721893491125, 'f1-score': 0.6376041011588952, 'macro_f1-score': 0.30041626510069436, 'balanced_accuracy': 0.3009410748426522, 'mcc': 0.5520182125463312, 'train_loss': 0.48086591479291446}\n",
      "Epoch 14/20\n"
     ]
    },
    {
     "name": "stderr",
     "output_type": "stream",
     "text": [
      "100%|██████████| 423/423 [00:37<00:00, 11.29it/s]\n"
     ]
    },
    {
     "name": "stdout",
     "output_type": "stream",
     "text": [
      "{'val_loss': 1.673534039618834, 'val_accuracy': 0.6597633136094675, 'precision': 0.6456416416933931, 'recall': 0.6597633136094675, 'f1-score': 0.6386217801450736, 'macro_f1-score': 0.32918979581240615, 'balanced_accuracy': 0.32378252493143994, 'mcc': 0.5462429319281298, 'train_loss': 0.43483888565278644}\n",
      "Epoch 15/20\n"
     ]
    },
    {
     "name": "stderr",
     "output_type": "stream",
     "text": [
      "100%|██████████| 423/423 [00:37<00:00, 11.29it/s]\n"
     ]
    },
    {
     "name": "stdout",
     "output_type": "stream",
     "text": [
      "{'val_loss': 1.631174921708287, 'val_accuracy': 0.6556213017751479, 'precision': 0.6757426991508456, 'recall': 0.6556213017751479, 'f1-score': 0.6467469044024567, 'macro_f1-score': 0.3466132185122915, 'balanced_accuracy': 0.3440974586019471, 'mcc': 0.5477196288597564, 'train_loss': 0.41622954054821465}\n",
      "Epoch 16/20\n"
     ]
    },
    {
     "name": "stderr",
     "output_type": "stream",
     "text": [
      "100%|██████████| 423/423 [00:37<00:00, 11.29it/s]\n"
     ]
    },
    {
     "name": "stdout",
     "output_type": "stream",
     "text": [
      "{'val_loss': 1.6133275012362678, 'val_accuracy': 0.6609467455621302, 'precision': 0.6724468841345435, 'recall': 0.6609467455621302, 'f1-score': 0.6526265307789084, 'macro_f1-score': 0.3366690346802295, 'balanced_accuracy': 0.3445516457111666, 'mcc': 0.5606499322076998, 'train_loss': 0.3657818682146111}\n",
      "Epoch 17/20\n"
     ]
    },
    {
     "name": "stderr",
     "output_type": "stream",
     "text": [
      "100%|██████████| 423/423 [00:37<00:00, 11.29it/s]\n"
     ]
    },
    {
     "name": "stdout",
     "output_type": "stream",
     "text": [
      "{'val_loss': 1.6509089340578835, 'val_accuracy': 0.6680473372781065, 'precision': 0.6653699082094178, 'recall': 0.6680473372781065, 'f1-score': 0.6557316840920645, 'macro_f1-score': 0.33640535898880863, 'balanced_accuracy': 0.3470736683253008, 'mcc': 0.5638876471681471, 'train_loss': 0.32808740934176506}\n",
      "Epoch 18/20\n"
     ]
    },
    {
     "name": "stderr",
     "output_type": "stream",
     "text": [
      "100%|██████████| 423/423 [00:37<00:00, 11.29it/s]\n"
     ]
    },
    {
     "name": "stdout",
     "output_type": "stream",
     "text": [
      "{'val_loss': 1.860219879813914, 'val_accuracy': 0.6603550295857988, 'precision': 0.6457235027721395, 'recall': 0.6603550295857988, 'f1-score': 0.6355455892906431, 'macro_f1-score': 0.3075251691103666, 'balanced_accuracy': 0.3046256846388713, 'mcc': 0.5436462154866412, 'train_loss': 0.3158706166956521}\n",
      "Early stopping.\n",
      "\n",
      " === roberta-base + cnn + none Final 10-fold Cross-Validation Results ===\n",
      "Total time: 3285 seconds\n",
      "Total time: 0 hrs 54 mins 45 secs\n",
      "val_loss: 1.5215\n",
      "val_accuracy: 0.6584\n",
      "precision: 0.6705\n",
      "recall: 0.6584\n",
      "f1-score: 0.6512\n",
      "macro_f1-score: 0.3828\n",
      "balanced_accuracy: 0.3833\n",
      "mcc: 0.5550\n",
      "train_loss: 0.3972\n",
      "▶ Running: roberta-base + lstm + none\n",
      "tokenizer is roberta-base\n",
      "Using device: cuda\n",
      "CUDA Available: True\n",
      "CUDA Device: NVIDIA GeForce RTX 5070 Ti\n",
      "Current GPU Memory Allocated: 0.02 GB\n",
      "Current GPU Memory Cached: 3.92 GB\n",
      "\n",
      "[Fold 1]\n",
      "Label distribution after resampling:\n",
      "  label 0: 3179\n",
      "  label 1: 25\n",
      "  label 2: 112\n",
      "  label 3: 24\n",
      "  label 4: 205\n",
      "  label 5: 116\n",
      "  label 6: 95\n",
      "  label 7: 31\n",
      "  label 8: 68\n",
      "  label 9: 65\n",
      "  label 10: 70\n",
      "  label 11: 172\n",
      "  label 12: 193\n",
      "  label 13: 29\n",
      "  label 14: 23\n",
      "  label 15: 25\n",
      "  label 16: 20\n",
      "  label 17: 231\n",
      "  label 18: 93\n",
      "  label 19: 45\n",
      "  label 20: 14\n",
      "  label 21: 35\n",
      "  label 22: 78\n",
      "  label 23: 160\n",
      "  label 24: 16\n",
      "  label 25: 50\n",
      "  label 26: 86\n",
      "  label 27: 49\n",
      "  label 28: 12\n",
      "  label 29: 13\n",
      "  label 30: 15\n",
      "  label 31: 80\n",
      "  label 32: 36\n",
      "  label 33: 32\n",
      "  label 34: 30\n",
      "  label 35: 12\n",
      "  label 36: 28\n",
      "  label 37: 21\n",
      "  label 38: 6\n",
      "  label 39: 103\n",
      "  label 40: 12\n",
      "  label 41: 8\n",
      "  label 42: 147\n",
      "  label 43: 16\n",
      "  label 44: 20\n",
      "  label 45: 9\n",
      "  label 46: 54\n",
      "  label 47: 529\n",
      "  label 48: 202\n",
      "  label 49: 69\n",
      "model is roberta-base lstm\n"
     ]
    },
    {
     "name": "stderr",
     "output_type": "stream",
     "text": [
      "Some weights of RobertaModel were not initialized from the model checkpoint at roberta-base and are newly initialized: ['pooler.dense.bias', 'pooler.dense.weight']\n",
      "You should probably TRAIN this model on a down-stream task to be able to use it for predictions and inference.\n"
     ]
    },
    {
     "name": "stdout",
     "output_type": "stream",
     "text": [
      "Epoch 1/20\n"
     ]
    },
    {
     "name": "stderr",
     "output_type": "stream",
     "text": [
      "100%|██████████| 423/423 [00:40<00:00, 10.52it/s]\n"
     ]
    },
    {
     "name": "stdout",
     "output_type": "stream",
     "text": [
      "{'val_loss': 1.8628227792258532, 'val_accuracy': 0.5813128326434063, 'precision': 0.3681273564617873, 'recall': 0.5813128326434063, 'f1-score': 0.44907848204319134, 'macro_f1-score': 0.04904714298048253, 'balanced_accuracy': 0.06707163926942716, 'mcc': 0.38706301612384775, 'train_loss': 2.157002635740501}\n",
      "Epoch 2/20\n"
     ]
    },
    {
     "name": "stderr",
     "output_type": "stream",
     "text": [
      "100%|██████████| 423/423 [00:40<00:00, 10.53it/s]\n"
     ]
    },
    {
     "name": "stdout",
     "output_type": "stream",
     "text": [
      "{'val_loss': 1.6894367820811722, 'val_accuracy': 0.5937315198107629, 'precision': 0.4033065316170959, 'recall': 0.5937315198107629, 'f1-score': 0.4750914392488016, 'macro_f1-score': 0.08570196487842051, 'balanced_accuracy': 0.10081774709783818, 'mcc': 0.4087700970874624, 'train_loss': 1.7876531969289127}\n",
      "Epoch 3/20\n"
     ]
    },
    {
     "name": "stderr",
     "output_type": "stream",
     "text": [
      "100%|██████████| 423/423 [00:40<00:00, 10.54it/s]\n"
     ]
    },
    {
     "name": "stdout",
     "output_type": "stream",
     "text": [
      "{'val_loss': 1.6002092268669381, 'val_accuracy': 0.6031933767001774, 'precision': 0.4342033815836102, 'recall': 0.6031933767001774, 'f1-score': 0.49586245153750536, 'macro_f1-score': 0.10316644296860168, 'balanced_accuracy': 0.11717976621929128, 'mcc': 0.43070722735938244, 'train_loss': 1.6011761902494634}\n",
      "Epoch 4/20\n"
     ]
    },
    {
     "name": "stderr",
     "output_type": "stream",
     "text": [
      "100%|██████████| 423/423 [00:40<00:00, 10.51it/s]\n"
     ]
    },
    {
     "name": "stdout",
     "output_type": "stream",
     "text": [
      "{'val_loss': 1.5894149539043319, 'val_accuracy': 0.6102897693672383, 'precision': 0.46139206005913624, 'recall': 0.6102897693672383, 'f1-score': 0.5045252227508458, 'macro_f1-score': 0.11649448641319222, 'balanced_accuracy': 0.12146367245747626, 'mcc': 0.4380505977487574, 'train_loss': 1.4803082766121443}\n",
      "Epoch 5/20\n"
     ]
    },
    {
     "name": "stderr",
     "output_type": "stream",
     "text": [
      "100%|██████████| 423/423 [00:40<00:00, 10.55it/s]\n"
     ]
    },
    {
     "name": "stdout",
     "output_type": "stream",
     "text": [
      "{'val_loss': 1.5445621187956828, 'val_accuracy': 0.6179775280898876, 'precision': 0.4856201266789923, 'recall': 0.6179775280898876, 'f1-score': 0.5277031107322296, 'macro_f1-score': 0.12513700349406626, 'balanced_accuracy': 0.14646963763492657, 'mcc': 0.46888695048105383, 'train_loss': 1.367984493291688}\n",
      "Epoch 6/20\n"
     ]
    },
    {
     "name": "stderr",
     "output_type": "stream",
     "text": [
      "100%|██████████| 423/423 [00:40<00:00, 10.53it/s]\n"
     ]
    },
    {
     "name": "stdout",
     "output_type": "stream",
     "text": [
      "{'val_loss': 1.48827703634523, 'val_accuracy': 0.6232998225901834, 'precision': 0.5415994761508689, 'recall': 0.6232998225901834, 'f1-score': 0.5587933649427874, 'macro_f1-score': 0.15564959887804047, 'balanced_accuracy': 0.1741020912777835, 'mcc': 0.48800041760685514, 'train_loss': 1.2802891173965825}\n",
      "Epoch 7/20\n"
     ]
    },
    {
     "name": "stderr",
     "output_type": "stream",
     "text": [
      "100%|██████████| 423/423 [00:40<00:00, 10.53it/s]\n"
     ]
    },
    {
     "name": "stdout",
     "output_type": "stream",
     "text": [
      "{'val_loss': 1.5188202655540322, 'val_accuracy': 0.6008279124778237, 'precision': 0.5642932048445402, 'recall': 0.6008279124778237, 'f1-score': 0.5643801544301015, 'macro_f1-score': 0.17162750996943366, 'balanced_accuracy': 0.19996570708969227, 'mcc': 0.4775598390855278, 'train_loss': 1.2753193577835182}\n",
      "Epoch 8/20\n"
     ]
    },
    {
     "name": "stderr",
     "output_type": "stream",
     "text": [
      "100%|██████████| 423/423 [00:40<00:00, 10.53it/s]\n"
     ]
    },
    {
     "name": "stdout",
     "output_type": "stream",
     "text": [
      "{'val_loss': 1.5119628965292338, 'val_accuracy': 0.6262566528681254, 'precision': 0.5424683361406428, 'recall': 0.6262566528681254, 'f1-score': 0.5685660358980595, 'macro_f1-score': 0.1795596927023936, 'balanced_accuracy': 0.19109127615055257, 'mcc': 0.49626852116337994, 'train_loss': 1.1925028695000544}\n",
      "Epoch 9/20\n"
     ]
    },
    {
     "name": "stderr",
     "output_type": "stream",
     "text": [
      "100%|██████████| 423/423 [00:40<00:00, 10.50it/s]\n"
     ]
    },
    {
     "name": "stdout",
     "output_type": "stream",
     "text": [
      "{'val_loss': 1.4969140566744894, 'val_accuracy': 0.6102897693672383, 'precision': 0.5788540408618827, 'recall': 0.6102897693672383, 'f1-score': 0.5819950932309671, 'macro_f1-score': 0.21056452876232737, 'balanced_accuracy': 0.23767641916042642, 'mcc': 0.4982457355492174, 'train_loss': 1.1310132157154398}\n",
      "Epoch 10/20\n"
     ]
    },
    {
     "name": "stderr",
     "output_type": "stream",
     "text": [
      "100%|██████████| 423/423 [00:40<00:00, 10.54it/s]\n"
     ]
    },
    {
     "name": "stdout",
     "output_type": "stream",
     "text": [
      "{'val_loss': 1.5537174124762696, 'val_accuracy': 0.5966883500887049, 'precision': 0.5953767582926371, 'recall': 0.5966883500887049, 'f1-score': 0.5803034175377794, 'macro_f1-score': 0.2284205319273929, 'balanced_accuracy': 0.2605703669238063, 'mcc': 0.48965156790590875, 'train_loss': 1.059505230991553}\n",
      "Epoch 11/20\n"
     ]
    },
    {
     "name": "stderr",
     "output_type": "stream",
     "text": [
      "100%|██████████| 423/423 [00:40<00:00, 10.53it/s]\n"
     ]
    },
    {
     "name": "stdout",
     "output_type": "stream",
     "text": [
      "{'val_loss': 1.5539160491722934, 'val_accuracy': 0.6209343583678297, 'precision': 0.5538687868173051, 'recall': 0.6209343583678297, 'f1-score': 0.5738535681908202, 'macro_f1-score': 0.19889066640402095, 'balanced_accuracy': 0.21281485849885665, 'mcc': 0.48960652496940393, 'train_loss': 1.011952809478656}\n",
      "Epoch 12/20\n"
     ]
    },
    {
     "name": "stderr",
     "output_type": "stream",
     "text": [
      "100%|██████████| 423/423 [00:40<00:00, 10.52it/s]\n"
     ]
    },
    {
     "name": "stdout",
     "output_type": "stream",
     "text": [
      "{'val_loss': 1.5327690508005754, 'val_accuracy': 0.6037847427557658, 'precision': 0.5929478368033596, 'recall': 0.6037847427557658, 'f1-score': 0.583375166259813, 'macro_f1-score': 0.22223678765508748, 'balanced_accuracy': 0.2534510935726335, 'mcc': 0.48874111108745644, 'train_loss': 0.9551647622534569}\n",
      "Epoch 13/20\n"
     ]
    },
    {
     "name": "stderr",
     "output_type": "stream",
     "text": [
      "100%|██████████| 423/423 [00:40<00:00, 10.55it/s]\n"
     ]
    },
    {
     "name": "stdout",
     "output_type": "stream",
     "text": [
      "{'val_loss': 1.5110667207331028, 'val_accuracy': 0.6298048492016558, 'precision': 0.5780704131341248, 'recall': 0.6298048492016558, 'f1-score': 0.5862272984798316, 'macro_f1-score': 0.23539950654155573, 'balanced_accuracy': 0.2490960393969265, 'mcc': 0.50363059242742, 'train_loss': 1.0175551688628839}\n",
      "Epoch 14/20\n"
     ]
    },
    {
     "name": "stderr",
     "output_type": "stream",
     "text": [
      "100%|██████████| 423/423 [00:40<00:00, 10.53it/s]\n"
     ]
    },
    {
     "name": "stdout",
     "output_type": "stream",
     "text": [
      "{'val_loss': 1.555754840655147, 'val_accuracy': 0.6096984033116499, 'precision': 0.5739605178537573, 'recall': 0.6096984033116499, 'f1-score': 0.5743049612983097, 'macro_f1-score': 0.19988598330089943, 'balanced_accuracy': 0.20713236149119363, 'mcc': 0.48182368263172015, 'train_loss': 0.9595294184718571}\n",
      "Epoch 15/20\n"
     ]
    },
    {
     "name": "stderr",
     "output_type": "stream",
     "text": [
      "100%|██████████| 423/423 [00:40<00:00, 10.53it/s]\n"
     ]
    },
    {
     "name": "stdout",
     "output_type": "stream",
     "text": [
      "{'val_loss': 1.4773158909014936, 'val_accuracy': 0.6179775280898876, 'precision': 0.6131427317768543, 'recall': 0.6179775280898876, 'f1-score': 0.6041693569674105, 'macro_f1-score': 0.2546920011609923, 'balanced_accuracy': 0.27669612487278317, 'mcc': 0.5029265376127128, 'train_loss': 0.8993322289863659}\n",
      "Epoch 16/20\n"
     ]
    },
    {
     "name": "stderr",
     "output_type": "stream",
     "text": [
      "100%|██████████| 423/423 [00:40<00:00, 10.52it/s]\n"
     ]
    },
    {
     "name": "stdout",
     "output_type": "stream",
     "text": [
      "{'val_loss': 1.5343691540776558, 'val_accuracy': 0.6439976345357776, 'precision': 0.6056676644291779, 'recall': 0.6439976345357776, 'f1-score': 0.6103938777560693, 'macro_f1-score': 0.2665187787307896, 'balanced_accuracy': 0.27282727026795267, 'mcc': 0.5243836716381073, 'train_loss': 0.8162667172086859}\n",
      "Epoch 17/20\n"
     ]
    },
    {
     "name": "stderr",
     "output_type": "stream",
     "text": [
      "100%|██████████| 423/423 [00:40<00:00, 10.54it/s]\n"
     ]
    },
    {
     "name": "stdout",
     "output_type": "stream",
     "text": [
      "{'val_loss': 1.5254033517162755, 'val_accuracy': 0.6274393849793022, 'precision': 0.5939134307644338, 'recall': 0.6274393849793022, 'f1-score': 0.5988540133879057, 'macro_f1-score': 0.24773731092437842, 'balanced_accuracy': 0.25774275985915623, 'mcc': 0.5067329233464032, 'train_loss': 0.8157744155073843}\n",
      "Epoch 18/20\n"
     ]
    },
    {
     "name": "stderr",
     "output_type": "stream",
     "text": [
      "100%|██████████| 423/423 [00:40<00:00, 10.54it/s]\n"
     ]
    },
    {
     "name": "stdout",
     "output_type": "stream",
     "text": [
      "{'val_loss': 1.5308352604789555, 'val_accuracy': 0.6091070372560615, 'precision': 0.5859312099892675, 'recall': 0.6091070372560615, 'f1-score': 0.582788533404152, 'macro_f1-score': 0.24028810575033166, 'balanced_accuracy': 0.2578618303634632, 'mcc': 0.48719109209518346, 'train_loss': 0.82479870153798}\n",
      "Epoch 19/20\n"
     ]
    },
    {
     "name": "stderr",
     "output_type": "stream",
     "text": [
      "100%|██████████| 423/423 [00:40<00:00, 10.52it/s]\n"
     ]
    },
    {
     "name": "stdout",
     "output_type": "stream",
     "text": [
      "{'val_loss': 1.516279807349421, 'val_accuracy': 0.6380839739798936, 'precision': 0.6048444381052327, 'recall': 0.6380839739798936, 'f1-score': 0.6089561818335776, 'macro_f1-score': 0.2527906946497845, 'balanced_accuracy': 0.2558526750610285, 'mcc': 0.5166419277635975, 'train_loss': 0.7694868913919931}\n",
      "Early stopping.\n",
      "\n",
      "[Fold 2]\n",
      "Label distribution after resampling:\n",
      "  label 0: 3179\n",
      "  label 1: 25\n",
      "  label 2: 112\n",
      "  label 3: 24\n",
      "  label 4: 206\n",
      "  label 5: 116\n",
      "  label 6: 94\n",
      "  label 7: 31\n",
      "  label 8: 68\n",
      "  label 9: 65\n",
      "  label 10: 70\n",
      "  label 11: 172\n",
      "  label 12: 193\n",
      "  label 13: 29\n",
      "  label 14: 23\n",
      "  label 15: 25\n",
      "  label 16: 20\n",
      "  label 17: 231\n",
      "  label 18: 93\n",
      "  label 19: 45\n",
      "  label 20: 14\n",
      "  label 21: 35\n",
      "  label 22: 78\n",
      "  label 23: 160\n",
      "  label 24: 16\n",
      "  label 25: 50\n",
      "  label 26: 86\n",
      "  label 27: 49\n",
      "  label 28: 12\n",
      "  label 29: 13\n",
      "  label 30: 15\n",
      "  label 31: 80\n",
      "  label 32: 36\n",
      "  label 33: 32\n",
      "  label 34: 30\n",
      "  label 35: 12\n",
      "  label 36: 28\n",
      "  label 37: 22\n",
      "  label 38: 5\n",
      "  label 39: 103\n",
      "  label 40: 11\n",
      "  label 41: 9\n",
      "  label 42: 147\n",
      "  label 43: 16\n",
      "  label 44: 20\n",
      "  label 45: 9\n",
      "  label 46: 55\n",
      "  label 47: 528\n",
      "  label 48: 202\n",
      "  label 49: 69\n",
      "model is roberta-base lstm\n"
     ]
    },
    {
     "name": "stderr",
     "output_type": "stream",
     "text": [
      "Some weights of RobertaModel were not initialized from the model checkpoint at roberta-base and are newly initialized: ['pooler.dense.bias', 'pooler.dense.weight']\n",
      "You should probably TRAIN this model on a down-stream task to be able to use it for predictions and inference.\n"
     ]
    },
    {
     "name": "stdout",
     "output_type": "stream",
     "text": [
      "Epoch 1/20\n"
     ]
    },
    {
     "name": "stderr",
     "output_type": "stream",
     "text": [
      "100%|██████████| 423/423 [00:40<00:00, 10.54it/s]\n"
     ]
    },
    {
     "name": "stdout",
     "output_type": "stream",
     "text": [
      "{'val_loss': 1.8493570595417383, 'val_accuracy': 0.5659373151981076, 'precision': 0.36861090810004826, 'recall': 0.5659373151981076, 'f1-score': 0.4374883638297554, 'macro_f1-score': 0.04566878563192899, 'balanced_accuracy': 0.06166692037223067, 'mcc': 0.3695924285591041, 'train_loss': 2.135561922622347}\n",
      "Epoch 2/20\n"
     ]
    },
    {
     "name": "stderr",
     "output_type": "stream",
     "text": [
      "100%|██████████| 423/423 [00:40<00:00, 10.54it/s]\n"
     ]
    },
    {
     "name": "stdout",
     "output_type": "stream",
     "text": [
      "{'val_loss': 1.7179663299389605, 'val_accuracy': 0.5872264931992903, 'precision': 0.43111335552580926, 'recall': 0.5872264931992903, 'f1-score': 0.4753328522681574, 'macro_f1-score': 0.06808660592576446, 'balanced_accuracy': 0.08709660319786394, 'mcc': 0.4056122977482186, 'train_loss': 1.7454019078971645}\n",
      "Epoch 3/20\n"
     ]
    },
    {
     "name": "stderr",
     "output_type": "stream",
     "text": [
      "100%|██████████| 423/423 [00:40<00:00, 10.52it/s]\n"
     ]
    },
    {
     "name": "stdout",
     "output_type": "stream",
     "text": [
      "{'val_loss': 1.5756557465724226, 'val_accuracy': 0.6008279124778237, 'precision': 0.4907280646050566, 'recall': 0.6008279124778237, 'f1-score': 0.5281489136296585, 'macro_f1-score': 0.1174936616551491, 'balanced_accuracy': 0.14511018361583705, 'mcc': 0.4577235792017922, 'train_loss': 1.5779481441416638}\n",
      "Epoch 4/20\n"
     ]
    },
    {
     "name": "stderr",
     "output_type": "stream",
     "text": [
      "100%|██████████| 423/423 [00:40<00:00, 10.53it/s]\n"
     ]
    },
    {
     "name": "stdout",
     "output_type": "stream",
     "text": [
      "{'val_loss': 1.5404341316448067, 'val_accuracy': 0.6079243051448847, 'precision': 0.49449970280984085, 'recall': 0.6079243051448847, 'f1-score': 0.5321551753388827, 'macro_f1-score': 0.14348959759501687, 'balanced_accuracy': 0.16737261666658462, 'mcc': 0.4627529471075278, 'train_loss': 1.4371621584427272}\n",
      "Epoch 5/20\n"
     ]
    },
    {
     "name": "stderr",
     "output_type": "stream",
     "text": [
      "100%|██████████| 423/423 [00:40<00:00, 10.54it/s]\n"
     ]
    },
    {
     "name": "stdout",
     "output_type": "stream",
     "text": [
      "{'val_loss': 1.5369902888558946, 'val_accuracy': 0.618568894145476, 'precision': 0.5176961222725571, 'recall': 0.618568894145476, 'f1-score': 0.5517965215053309, 'macro_f1-score': 0.15916312802936708, 'balanced_accuracy': 0.1792604535135383, 'mcc': 0.4772488368923966, 'train_loss': 1.3751874007372709}\n",
      "Epoch 6/20\n"
     ]
    },
    {
     "name": "stderr",
     "output_type": "stream",
     "text": [
      "100%|██████████| 423/423 [00:40<00:00, 10.53it/s]\n"
     ]
    },
    {
     "name": "stdout",
     "output_type": "stream",
     "text": [
      "{'val_loss': 1.533935788667427, 'val_accuracy': 0.5842696629213483, 'precision': 0.5568081820100038, 'recall': 0.5842696629213483, 'f1-score': 0.5559276057070367, 'macro_f1-score': 0.19306814706949404, 'balanced_accuracy': 0.21291768561490446, 'mcc': 0.4634925689679876, 'train_loss': 1.2849813932222678}\n",
      "Epoch 7/20\n"
     ]
    },
    {
     "name": "stderr",
     "output_type": "stream",
     "text": [
      "100%|██████████| 423/423 [00:39<00:00, 10.58it/s]\n"
     ]
    },
    {
     "name": "stdout",
     "output_type": "stream",
     "text": [
      "{'val_loss': 1.4825623960427519, 'val_accuracy': 0.638675340035482, 'precision': 0.5698631555229896, 'recall': 0.638675340035482, 'f1-score': 0.5870996898719382, 'macro_f1-score': 0.1933129625466215, 'balanced_accuracy': 0.19742882966637143, 'mcc': 0.508401861574271, 'train_loss': 1.2027127155879993}\n",
      "Epoch 8/20\n"
     ]
    },
    {
     "name": "stderr",
     "output_type": "stream",
     "text": [
      "100%|██████████| 423/423 [00:40<00:00, 10.53it/s]\n"
     ]
    },
    {
     "name": "stdout",
     "output_type": "stream",
     "text": [
      "{'val_loss': 1.4709636152915235, 'val_accuracy': 0.6262566528681254, 'precision': 0.5723114375393263, 'recall': 0.6262566528681254, 'f1-score': 0.5795524119081646, 'macro_f1-score': 0.20422475298516343, 'balanced_accuracy': 0.21439528164827756, 'mcc': 0.4980298348395779, 'train_loss': 1.1135950226592115}\n",
      "Epoch 9/20\n"
     ]
    },
    {
     "name": "stderr",
     "output_type": "stream",
     "text": [
      "100%|██████████| 423/423 [00:40<00:00, 10.54it/s]\n"
     ]
    },
    {
     "name": "stdout",
     "output_type": "stream",
     "text": [
      "{'val_loss': 1.4021474676874448, 'val_accuracy': 0.6434062684801892, 'precision': 0.5821528688036811, 'recall': 0.6434062684801892, 'f1-score': 0.6004702099488803, 'macro_f1-score': 0.23722258871988594, 'balanced_accuracy': 0.24609919096262234, 'mcc': 0.5241318841655367, 'train_loss': 1.0371160073905972}\n",
      "Epoch 10/20\n"
     ]
    },
    {
     "name": "stderr",
     "output_type": "stream",
     "text": [
      "100%|██████████| 423/423 [00:40<00:00, 10.55it/s]\n"
     ]
    },
    {
     "name": "stdout",
     "output_type": "stream",
     "text": [
      "{'val_loss': 1.532729836567393, 'val_accuracy': 0.6422235363690124, 'precision': 0.5797657344360595, 'recall': 0.6422235363690124, 'f1-score': 0.597377497071418, 'macro_f1-score': 0.2513631829886437, 'balanced_accuracy': 0.2592264343728717, 'mcc': 0.5130427081488181, 'train_loss': 0.9576027615977799}\n",
      "Epoch 11/20\n"
     ]
    },
    {
     "name": "stderr",
     "output_type": "stream",
     "text": [
      "100%|██████████| 423/423 [00:40<00:00, 10.53it/s]\n"
     ]
    },
    {
     "name": "stdout",
     "output_type": "stream",
     "text": [
      "{'val_loss': 1.469717022945296, 'val_accuracy': 0.6398580721466588, 'precision': 0.608006636742631, 'recall': 0.6398580721466588, 'f1-score': 0.6055071427317997, 'macro_f1-score': 0.26290378180184915, 'balanced_accuracy': 0.2639593584784532, 'mcc': 0.5195855737677235, 'train_loss': 0.9206797772265495}\n",
      "Epoch 12/20\n"
     ]
    },
    {
     "name": "stderr",
     "output_type": "stream",
     "text": [
      "100%|██████████| 423/423 [00:40<00:00, 10.51it/s]\n"
     ]
    },
    {
     "name": "stdout",
     "output_type": "stream",
     "text": [
      "{'val_loss': 1.4501998910926424, 'val_accuracy': 0.6268480189237138, 'precision': 0.5984579160669655, 'recall': 0.6268480189237138, 'f1-score': 0.6008383437914899, 'macro_f1-score': 0.25445172192747156, 'balanced_accuracy': 0.271579285847424, 'mcc': 0.5112305868887159, 'train_loss': 0.8747069721878561}\n",
      "Epoch 13/20\n"
     ]
    },
    {
     "name": "stderr",
     "output_type": "stream",
     "text": [
      "100%|██████████| 423/423 [00:40<00:00, 10.54it/s]\n"
     ]
    },
    {
     "name": "stdout",
     "output_type": "stream",
     "text": [
      "{'val_loss': 1.4290596108953908, 'val_accuracy': 0.641632170313424, 'precision': 0.6453538311420001, 'recall': 0.641632170313424, 'f1-score': 0.6276534274568966, 'macro_f1-score': 0.2989480999084376, 'balanced_accuracy': 0.31866972798145105, 'mcc': 0.5356527032429141, 'train_loss': 0.8326476307907285}\n",
      "Epoch 14/20\n"
     ]
    },
    {
     "name": "stderr",
     "output_type": "stream",
     "text": [
      "100%|██████████| 423/423 [00:40<00:00, 10.50it/s]\n"
     ]
    },
    {
     "name": "stdout",
     "output_type": "stream",
     "text": [
      "{'val_loss': 1.47941270667427, 'val_accuracy': 0.6499112950916618, 'precision': 0.6301285032108727, 'recall': 0.6499112950916618, 'f1-score': 0.6246523366039862, 'macro_f1-score': 0.30564292876532234, 'balanced_accuracy': 0.2994391419421969, 'mcc': 0.5315220006150573, 'train_loss': 0.7664183370469592}\n",
      "Epoch 15/20\n"
     ]
    },
    {
     "name": "stderr",
     "output_type": "stream",
     "text": [
      "100%|██████████| 423/423 [00:40<00:00, 10.54it/s]\n"
     ]
    },
    {
     "name": "stdout",
     "output_type": "stream",
     "text": [
      "{'val_loss': 1.561528521326353, 'val_accuracy': 0.6463630987581312, 'precision': 0.601373025041352, 'recall': 0.6463630987581312, 'f1-score': 0.6097266726012927, 'macro_f1-score': 0.2587538513420754, 'balanced_accuracy': 0.251735995217768, 'mcc': 0.5174789348800808, 'train_loss': 0.7102835932416274}\n",
      "Epoch 16/20\n"
     ]
    },
    {
     "name": "stderr",
     "output_type": "stream",
     "text": [
      "100%|██████████| 423/423 [00:40<00:00, 10.55it/s]\n"
     ]
    },
    {
     "name": "stdout",
     "output_type": "stream",
     "text": [
      "{'val_loss': 1.535617654897132, 'val_accuracy': 0.6428149024246008, 'precision': 0.6449190161640208, 'recall': 0.6428149024246008, 'f1-score': 0.6292382356425151, 'macro_f1-score': 0.32057854657910956, 'balanced_accuracy': 0.32341886060789043, 'mcc': 0.5313390112455713, 'train_loss': 0.7292938617544675}\n",
      "Epoch 17/20\n"
     ]
    },
    {
     "name": "stderr",
     "output_type": "stream",
     "text": [
      "100%|██████████| 423/423 [00:40<00:00, 10.55it/s]\n"
     ]
    },
    {
     "name": "stdout",
     "output_type": "stream",
     "text": [
      "{'val_loss': 1.474277990325442, 'val_accuracy': 0.6439976345357776, 'precision': 0.6318805289039348, 'recall': 0.6439976345357776, 'f1-score': 0.6265189290608651, 'macro_f1-score': 0.30129611246129384, 'balanced_accuracy': 0.3161465931629749, 'mcc': 0.5342978821443077, 'train_loss': 0.6854877965811015}\n",
      "Epoch 18/20\n"
     ]
    },
    {
     "name": "stderr",
     "output_type": "stream",
     "text": [
      "100%|██████████| 423/423 [00:40<00:00, 10.55it/s]\n"
     ]
    },
    {
     "name": "stdout",
     "output_type": "stream",
     "text": [
      "{'val_loss': 1.5067641386445962, 'val_accuracy': 0.6552335895919574, 'precision': 0.6519343988415427, 'recall': 0.6552335895919574, 'f1-score': 0.6370694299681686, 'macro_f1-score': 0.3450194585932563, 'balanced_accuracy': 0.35938383805783436, 'mcc': 0.5487979974744436, 'train_loss': 0.6240177191353578}\n",
      "Epoch 19/20\n"
     ]
    },
    {
     "name": "stderr",
     "output_type": "stream",
     "text": [
      "100%|██████████| 423/423 [00:40<00:00, 10.52it/s]\n"
     ]
    },
    {
     "name": "stdout",
     "output_type": "stream",
     "text": [
      "{'val_loss': 1.549155737712698, 'val_accuracy': 0.664695446481372, 'precision': 0.6444674605265455, 'recall': 0.664695446481372, 'f1-score': 0.6448951531022953, 'macro_f1-score': 0.3598324385421235, 'balanced_accuracy': 0.3466605719320006, 'mcc': 0.5560711471234855, 'train_loss': 0.5852992964807202}\n",
      "Epoch 20/20\n"
     ]
    },
    {
     "name": "stderr",
     "output_type": "stream",
     "text": [
      "100%|██████████| 423/423 [00:40<00:00, 10.53it/s]\n"
     ]
    },
    {
     "name": "stdout",
     "output_type": "stream",
     "text": [
      "{'val_loss': 1.5232876786645853, 'val_accuracy': 0.6475458308693081, 'precision': 0.6401146957134809, 'recall': 0.6475458308693081, 'f1-score': 0.6290159351158635, 'macro_f1-score': 0.32299966916979206, 'balanced_accuracy': 0.3368345311024236, 'mcc': 0.5365839037489918, 'train_loss': 0.5627095543605498}\n",
      "\n",
      "[Fold 3]\n",
      "Label distribution after resampling:\n",
      "  label 0: 3179\n",
      "  label 1: 25\n",
      "  label 2: 112\n",
      "  label 3: 24\n",
      "  label 4: 206\n",
      "  label 5: 116\n",
      "  label 6: 94\n",
      "  label 7: 31\n",
      "  label 8: 68\n",
      "  label 9: 65\n",
      "  label 10: 71\n",
      "  label 11: 172\n",
      "  label 12: 192\n",
      "  label 13: 29\n",
      "  label 14: 23\n",
      "  label 15: 25\n",
      "  label 16: 20\n",
      "  label 17: 231\n",
      "  label 18: 93\n",
      "  label 19: 45\n",
      "  label 20: 14\n",
      "  label 21: 36\n",
      "  label 22: 77\n",
      "  label 23: 160\n",
      "  label 24: 16\n",
      "  label 25: 51\n",
      "  label 26: 85\n",
      "  label 27: 49\n",
      "  label 28: 12\n",
      "  label 29: 12\n",
      "  label 30: 16\n",
      "  label 31: 80\n",
      "  label 32: 36\n",
      "  label 33: 32\n",
      "  label 34: 29\n",
      "  label 35: 12\n",
      "  label 36: 28\n",
      "  label 37: 22\n",
      "  label 38: 5\n",
      "  label 39: 103\n",
      "  label 40: 11\n",
      "  label 41: 9\n",
      "  label 42: 147\n",
      "  label 43: 16\n",
      "  label 44: 20\n",
      "  label 45: 9\n",
      "  label 46: 55\n",
      "  label 47: 529\n",
      "  label 48: 201\n",
      "  label 49: 70\n",
      "model is roberta-base lstm\n"
     ]
    },
    {
     "name": "stderr",
     "output_type": "stream",
     "text": [
      "Some weights of RobertaModel were not initialized from the model checkpoint at roberta-base and are newly initialized: ['pooler.dense.bias', 'pooler.dense.weight']\n",
      "You should probably TRAIN this model on a down-stream task to be able to use it for predictions and inference.\n"
     ]
    },
    {
     "name": "stdout",
     "output_type": "stream",
     "text": [
      "Epoch 1/20\n"
     ]
    },
    {
     "name": "stderr",
     "output_type": "stream",
     "text": [
      "100%|██████████| 423/423 [00:40<00:00, 10.55it/s]\n"
     ]
    },
    {
     "name": "stdout",
     "output_type": "stream",
     "text": [
      "{'val_loss': 1.8389804880574065, 'val_accuracy': 0.5801301005322295, 'precision': 0.3745075645560658, 'recall': 0.5801301005322295, 'f1-score': 0.4537549663880037, 'macro_f1-score': 0.056281636222672606, 'balanced_accuracy': 0.0752605252774823, 'mcc': 0.3869129953786215, 'train_loss': 2.1436457889018046}\n",
      "Epoch 2/20\n"
     ]
    },
    {
     "name": "stderr",
     "output_type": "stream",
     "text": [
      "100%|██████████| 423/423 [00:40<00:00, 10.51it/s]\n"
     ]
    },
    {
     "name": "stdout",
     "output_type": "stream",
     "text": [
      "{'val_loss': 1.6643906100740973, 'val_accuracy': 0.5901833234772325, 'precision': 0.433795362456519, 'recall': 0.5901833234772325, 'f1-score': 0.47965986252688547, 'macro_f1-score': 0.06815888727887927, 'balanced_accuracy': 0.09216993023032835, 'mcc': 0.41562631847195963, 'train_loss': 1.7554635161767334}\n",
      "Epoch 3/20\n"
     ]
    },
    {
     "name": "stderr",
     "output_type": "stream",
     "text": [
      "100%|██████████| 423/423 [00:40<00:00, 10.54it/s]\n"
     ]
    },
    {
     "name": "stdout",
     "output_type": "stream",
     "text": [
      "{'val_loss': 1.6839029822709426, 'val_accuracy': 0.5913660555884093, 'precision': 0.4490351712414931, 'recall': 0.5913660555884093, 'f1-score': 0.49918042816430586, 'macro_f1-score': 0.08173197699534349, 'balanced_accuracy': 0.10041462531125316, 'mcc': 0.4291217596792393, 'train_loss': 1.6060893385545583}\n",
      "Epoch 4/20\n"
     ]
    },
    {
     "name": "stderr",
     "output_type": "stream",
     "text": [
      "100%|██████████| 423/423 [00:40<00:00, 10.52it/s]\n"
     ]
    },
    {
     "name": "stdout",
     "output_type": "stream",
     "text": [
      "{'val_loss': 1.572778585384477, 'val_accuracy': 0.6049674748669427, 'precision': 0.480624149411497, 'recall': 0.6049674748669427, 'f1-score': 0.5066240120530378, 'macro_f1-score': 0.11550592401598203, 'balanced_accuracy': 0.12807497977773827, 'mcc': 0.44053566382436576, 'train_loss': 1.5025925031790497}\n",
      "Epoch 5/20\n"
     ]
    },
    {
     "name": "stderr",
     "output_type": "stream",
     "text": [
      "100%|██████████| 423/423 [00:40<00:00, 10.55it/s]\n"
     ]
    },
    {
     "name": "stdout",
     "output_type": "stream",
     "text": [
      "{'val_loss': 1.5387380674200237, 'val_accuracy': 0.5996451803666469, 'precision': 0.5213131121051822, 'recall': 0.5996451803666469, 'f1-score': 0.5480840667312807, 'macro_f1-score': 0.1385949544333048, 'balanced_accuracy': 0.1561830180516728, 'mcc': 0.46380727918313164, 'train_loss': 1.3774935544664415}\n",
      "Epoch 6/20\n"
     ]
    },
    {
     "name": "stderr",
     "output_type": "stream",
     "text": [
      "100%|██████████| 423/423 [00:40<00:00, 10.54it/s]\n"
     ]
    },
    {
     "name": "stdout",
     "output_type": "stream",
     "text": [
      "{'val_loss': 1.5284053109726816, 'val_accuracy': 0.5907746895328209, 'precision': 0.5435079027489731, 'recall': 0.5907746895328209, 'f1-score': 0.5518487015564818, 'macro_f1-score': 0.14695300217911417, 'balanced_accuracy': 0.17921781772621895, 'mcc': 0.4727885336021097, 'train_loss': 1.2949718694878527}\n",
      "Epoch 7/20\n"
     ]
    },
    {
     "name": "stderr",
     "output_type": "stream",
     "text": [
      "100%|██████████| 423/423 [00:40<00:00, 10.55it/s]\n"
     ]
    },
    {
     "name": "stdout",
     "output_type": "stream",
     "text": [
      "{'val_loss': 1.5145549031923402, 'val_accuracy': 0.6073329390892963, 'precision': 0.5347635890594815, 'recall': 0.6073329390892963, 'f1-score': 0.5516224627053107, 'macro_f1-score': 0.16688752525670147, 'balanced_accuracy': 0.18847108488453762, 'mcc': 0.47523964039594135, 'train_loss': 1.2591515282789867}\n",
      "Epoch 8/20\n"
     ]
    },
    {
     "name": "stderr",
     "output_type": "stream",
     "text": [
      "100%|██████████| 423/423 [00:40<00:00, 10.51it/s]\n"
     ]
    },
    {
     "name": "stdout",
     "output_type": "stream",
     "text": [
      "{'val_loss': 1.5343188575978548, 'val_accuracy': 0.6150206978119456, 'precision': 0.5332458255834146, 'recall': 0.6150206978119456, 'f1-score': 0.5558322533621441, 'macro_f1-score': 0.16649239469498225, 'balanced_accuracy': 0.18197275415408604, 'mcc': 0.4803870210088731, 'train_loss': 1.178269451567749}\n",
      "Epoch 9/20\n"
     ]
    },
    {
     "name": "stderr",
     "output_type": "stream",
     "text": [
      "100%|██████████| 423/423 [00:40<00:00, 10.53it/s]\n"
     ]
    },
    {
     "name": "stdout",
     "output_type": "stream",
     "text": [
      "{'val_loss': 1.4916138671479136, 'val_accuracy': 0.6073329390892963, 'precision': 0.5572044803923706, 'recall': 0.6073329390892963, 'f1-score': 0.5683437701814766, 'macro_f1-score': 0.18958105623814903, 'balanced_accuracy': 0.20353096640846713, 'mcc': 0.4790661540279109, 'train_loss': 1.096384277298659}\n",
      "Epoch 10/20\n"
     ]
    },
    {
     "name": "stderr",
     "output_type": "stream",
     "text": [
      "100%|██████████| 423/423 [00:40<00:00, 10.51it/s]\n"
     ]
    },
    {
     "name": "stdout",
     "output_type": "stream",
     "text": [
      "{'val_loss': 1.4636149046556004, 'val_accuracy': 0.6197516262566529, 'precision': 0.5549185467042043, 'recall': 0.6197516262566529, 'f1-score': 0.5720523331170282, 'macro_f1-score': 0.19336802210455303, 'balanced_accuracy': 0.19466962916045383, 'mcc': 0.4833834634967863, 'train_loss': 1.052903116066405}\n",
      "Epoch 11/20\n"
     ]
    },
    {
     "name": "stderr",
     "output_type": "stream",
     "text": [
      "100%|██████████| 423/423 [00:40<00:00, 10.52it/s]\n"
     ]
    },
    {
     "name": "stdout",
     "output_type": "stream",
     "text": [
      "{'val_loss': 1.4783813332049351, 'val_accuracy': 0.6215257244234181, 'precision': 0.5813985888760423, 'recall': 0.6215257244234181, 'f1-score': 0.5877988847739058, 'macro_f1-score': 0.2150458743447504, 'balanced_accuracy': 0.21994557269536538, 'mcc': 0.4996486422009919, 'train_loss': 1.0026925066684156}\n",
      "Epoch 12/20\n"
     ]
    },
    {
     "name": "stderr",
     "output_type": "stream",
     "text": [
      "100%|██████████| 423/423 [00:40<00:00, 10.52it/s]\n"
     ]
    },
    {
     "name": "stdout",
     "output_type": "stream",
     "text": [
      "{'val_loss': 1.4929818139885955, 'val_accuracy': 0.6150206978119456, 'precision': 0.5791342024923726, 'recall': 0.6150206978119456, 'f1-score': 0.584901017897807, 'macro_f1-score': 0.2122310039919021, 'balanced_accuracy': 0.21510059712242943, 'mcc': 0.484100922305197, 'train_loss': 0.9533204286586027}\n",
      "Epoch 13/20\n"
     ]
    },
    {
     "name": "stderr",
     "output_type": "stream",
     "text": [
      "100%|██████████| 423/423 [00:40<00:00, 10.55it/s]\n"
     ]
    },
    {
     "name": "stdout",
     "output_type": "stream",
     "text": [
      "{'val_loss': 1.47425443693152, 'val_accuracy': 0.6303962152572442, 'precision': 0.5784724270528354, 'recall': 0.6303962152572442, 'f1-score': 0.5897079784853483, 'macro_f1-score': 0.21162904225907758, 'balanced_accuracy': 0.22294058172787082, 'mcc': 0.5029258002512521, 'train_loss': 0.8911583604682985}\n",
      "Epoch 14/20\n"
     ]
    },
    {
     "name": "stderr",
     "output_type": "stream",
     "text": [
      "100%|██████████| 423/423 [00:40<00:00, 10.52it/s]\n"
     ]
    },
    {
     "name": "stdout",
     "output_type": "stream",
     "text": [
      "{'val_loss': 1.493428443400365, 'val_accuracy': 0.6120638675340035, 'precision': 0.5853211775756861, 'recall': 0.6120638675340035, 'f1-score': 0.5827138694086249, 'macro_f1-score': 0.20458395133828738, 'balanced_accuracy': 0.2185872548273906, 'mcc': 0.49327570632745366, 'train_loss': 0.8448158302839767}\n",
      "Early stopping.\n",
      "\n",
      "[Fold 4]\n",
      "Label distribution after resampling:\n",
      "  label 0: 3179\n",
      "  label 1: 25\n",
      "  label 2: 112\n",
      "  label 3: 24\n",
      "  label 4: 206\n",
      "  label 5: 116\n",
      "  label 6: 94\n",
      "  label 7: 32\n",
      "  label 8: 68\n",
      "  label 9: 64\n",
      "  label 10: 71\n",
      "  label 11: 172\n",
      "  label 12: 193\n",
      "  label 13: 28\n",
      "  label 14: 24\n",
      "  label 15: 24\n",
      "  label 16: 20\n",
      "  label 17: 232\n",
      "  label 18: 92\n",
      "  label 19: 45\n",
      "  label 20: 15\n",
      "  label 21: 35\n",
      "  label 22: 77\n",
      "  label 23: 160\n",
      "  label 24: 16\n",
      "  label 25: 51\n",
      "  label 26: 85\n",
      "  label 27: 49\n",
      "  label 28: 12\n",
      "  label 29: 13\n",
      "  label 30: 15\n",
      "  label 31: 80\n",
      "  label 32: 36\n",
      "  label 33: 32\n",
      "  label 34: 29\n",
      "  label 35: 12\n",
      "  label 36: 28\n",
      "  label 37: 22\n",
      "  label 38: 6\n",
      "  label 39: 103\n",
      "  label 40: 11\n",
      "  label 41: 9\n",
      "  label 42: 148\n",
      "  label 43: 16\n",
      "  label 44: 20\n",
      "  label 45: 8\n",
      "  label 46: 54\n",
      "  label 47: 529\n",
      "  label 48: 201\n",
      "  label 49: 70\n",
      "model is roberta-base lstm\n"
     ]
    },
    {
     "name": "stderr",
     "output_type": "stream",
     "text": [
      "Some weights of RobertaModel were not initialized from the model checkpoint at roberta-base and are newly initialized: ['pooler.dense.bias', 'pooler.dense.weight']\n",
      "You should probably TRAIN this model on a down-stream task to be able to use it for predictions and inference.\n"
     ]
    },
    {
     "name": "stdout",
     "output_type": "stream",
     "text": [
      "Epoch 1/20\n"
     ]
    },
    {
     "name": "stderr",
     "output_type": "stream",
     "text": [
      "100%|██████████| 423/423 [00:40<00:00, 10.54it/s]\n"
     ]
    },
    {
     "name": "stdout",
     "output_type": "stream",
     "text": [
      "{'val_loss': 2.050053464354209, 'val_accuracy': 0.5440567711413364, 'precision': 0.3004885791458181, 'recall': 0.5440567711413364, 'f1-score': 0.3866658101097701, 'macro_f1-score': 0.026543399040150337, 'balanced_accuracy': 0.039318467695826184, 'mcc': 0.3028944118074845, 'train_loss': 2.2747477304287274}\n",
      "Epoch 2/20\n"
     ]
    },
    {
     "name": "stderr",
     "output_type": "stream",
     "text": [
      "100%|██████████| 423/423 [00:40<00:00, 10.52it/s]\n"
     ]
    },
    {
     "name": "stdout",
     "output_type": "stream",
     "text": [
      "{'val_loss': 1.9299246809392605, 'val_accuracy': 0.5547013601419278, 'precision': 0.40880393176280205, 'recall': 0.5547013601419278, 'f1-score': 0.4622454594660998, 'macro_f1-score': 0.050446747494464816, 'balanced_accuracy': 0.08061598114324565, 'mcc': 0.38863207325423, 'train_loss': 1.9583715420242742}\n",
      "Epoch 3/20\n"
     ]
    },
    {
     "name": "stderr",
     "output_type": "stream",
     "text": [
      "100%|██████████| 423/423 [00:40<00:00, 10.54it/s]\n"
     ]
    },
    {
     "name": "stdout",
     "output_type": "stream",
     "text": [
      "{'val_loss': 2.553393491034238, 'val_accuracy': 0.43701951507983444, 'precision': 0.40527154844803254, 'recall': 0.43701951507983444, 'f1-score': 0.3948489702622112, 'macro_f1-score': 0.022397883624729827, 'balanced_accuracy': 0.036121242213595736, 'mcc': 0.3030903320331153, 'train_loss': 1.855229331387414}\n",
      "Epoch 4/20\n"
     ]
    },
    {
     "name": "stderr",
     "output_type": "stream",
     "text": [
      "100%|██████████| 423/423 [00:40<00:00, 10.53it/s]\n"
     ]
    },
    {
     "name": "stdout",
     "output_type": "stream",
     "text": [
      "{'val_loss': 2.311609532473222, 'val_accuracy': 0.47013601419278533, 'precision': 0.22102787184107886, 'recall': 0.47013601419278533, 'f1-score': 0.30069037110479835, 'macro_f1-score': 0.012791633145615447, 'balanced_accuracy': 0.02, 'mcc': 0.0, 'train_loss': 2.385389425794002}\n",
      "Epoch 5/20\n"
     ]
    },
    {
     "name": "stderr",
     "output_type": "stream",
     "text": [
      "100%|██████████| 423/423 [00:40<00:00, 10.54it/s]\n"
     ]
    },
    {
     "name": "stdout",
     "output_type": "stream",
     "text": [
      "{'val_loss': 2.363828735531501, 'val_accuracy': 0.47013601419278533, 'precision': 0.22102787184107886, 'recall': 0.47013601419278533, 'f1-score': 0.30069037110479835, 'macro_f1-score': 0.012791633145615447, 'balanced_accuracy': 0.02, 'mcc': 0.0, 'train_loss': 2.360015460221762}\n",
      "Early stopping.\n",
      "\n",
      "[Fold 5]\n",
      "Label distribution after resampling:\n",
      "  label 0: 3180\n",
      "  label 1: 24\n",
      "  label 2: 112\n",
      "  label 3: 24\n",
      "  label 4: 205\n",
      "  label 5: 116\n",
      "  label 6: 95\n",
      "  label 7: 31\n",
      "  label 8: 68\n",
      "  label 9: 65\n",
      "  label 10: 70\n",
      "  label 11: 172\n",
      "  label 12: 193\n",
      "  label 13: 29\n",
      "  label 14: 23\n",
      "  label 15: 25\n",
      "  label 16: 20\n",
      "  label 17: 231\n",
      "  label 18: 93\n",
      "  label 19: 44\n",
      "  label 20: 15\n",
      "  label 21: 35\n",
      "  label 22: 78\n",
      "  label 23: 160\n",
      "  label 24: 16\n",
      "  label 25: 50\n",
      "  label 26: 86\n",
      "  label 27: 48\n",
      "  label 28: 12\n",
      "  label 29: 13\n",
      "  label 30: 15\n",
      "  label 31: 80\n",
      "  label 32: 36\n",
      "  label 33: 32\n",
      "  label 34: 30\n",
      "  label 35: 12\n",
      "  label 36: 28\n",
      "  label 37: 21\n",
      "  label 38: 6\n",
      "  label 39: 104\n",
      "  label 40: 11\n",
      "  label 41: 9\n",
      "  label 42: 147\n",
      "  label 43: 16\n",
      "  label 44: 20\n",
      "  label 45: 9\n",
      "  label 46: 54\n",
      "  label 47: 529\n",
      "  label 48: 202\n",
      "  label 49: 70\n",
      "model is roberta-base lstm\n"
     ]
    },
    {
     "name": "stderr",
     "output_type": "stream",
     "text": [
      "Some weights of RobertaModel were not initialized from the model checkpoint at roberta-base and are newly initialized: ['pooler.dense.bias', 'pooler.dense.weight']\n",
      "You should probably TRAIN this model on a down-stream task to be able to use it for predictions and inference.\n"
     ]
    },
    {
     "name": "stdout",
     "output_type": "stream",
     "text": [
      "Epoch 1/20\n"
     ]
    },
    {
     "name": "stderr",
     "output_type": "stream",
     "text": [
      "100%|██████████| 423/423 [00:40<00:00, 10.53it/s]\n"
     ]
    },
    {
     "name": "stdout",
     "output_type": "stream",
     "text": [
      "{'val_loss': 1.8607734975949772, 'val_accuracy': 0.578698224852071, 'precision': 0.3602628529007084, 'recall': 0.578698224852071, 'f1-score': 0.44283124814836766, 'macro_f1-score': 0.04996076453467745, 'balanced_accuracy': 0.06918767514659116, 'mcc': 0.3825894824188092, 'train_loss': 2.1677165819116238}\n",
      "Epoch 2/20\n"
     ]
    },
    {
     "name": "stderr",
     "output_type": "stream",
     "text": [
      "100%|██████████| 423/423 [00:40<00:00, 10.55it/s]\n"
     ]
    },
    {
     "name": "stdout",
     "output_type": "stream",
     "text": [
      "{'val_loss': 1.715141548862997, 'val_accuracy': 0.58698224852071, 'precision': 0.39467001306688165, 'recall': 0.58698224852071, 'f1-score': 0.4545668789494042, 'macro_f1-score': 0.060819264648673224, 'balanced_accuracy': 0.07404905032890788, 'mcc': 0.3940221153932078, 'train_loss': 1.8103745648765113}\n",
      "Epoch 3/20\n"
     ]
    },
    {
     "name": "stderr",
     "output_type": "stream",
     "text": [
      "100%|██████████| 423/423 [00:40<00:00, 10.54it/s]\n"
     ]
    },
    {
     "name": "stdout",
     "output_type": "stream",
     "text": [
      "{'val_loss': 1.5672652943516678, 'val_accuracy': 0.6218934911242604, 'precision': 0.4627141033611598, 'recall': 0.6218934911242604, 'f1-score': 0.5194846715532245, 'macro_f1-score': 0.12097982692739988, 'balanced_accuracy': 0.1317146183587792, 'mcc': 0.46048632899956715, 'train_loss': 1.6040383232118953}\n",
      "Epoch 4/20\n"
     ]
    },
    {
     "name": "stderr",
     "output_type": "stream",
     "text": [
      "100%|██████████| 423/423 [00:40<00:00, 10.54it/s]\n"
     ]
    },
    {
     "name": "stdout",
     "output_type": "stream",
     "text": [
      "{'val_loss': 1.505504382106493, 'val_accuracy': 0.6207100591715976, 'precision': 0.5651916875313816, 'recall': 0.6207100591715976, 'f1-score': 0.5789880468659695, 'macro_f1-score': 0.1670681203482017, 'balanced_accuracy': 0.18107584942730182, 'mcc': 0.4927210625814866, 'train_loss': 1.440274327147937}\n",
      "Epoch 5/20\n"
     ]
    },
    {
     "name": "stderr",
     "output_type": "stream",
     "text": [
      "100%|██████████| 423/423 [00:40<00:00, 10.53it/s]\n"
     ]
    },
    {
     "name": "stdout",
     "output_type": "stream",
     "text": [
      "{'val_loss': 1.4854409843683243, 'val_accuracy': 0.6230769230769231, 'precision': 0.5824282511656057, 'recall': 0.6230769230769231, 'f1-score': 0.5820424233894628, 'macro_f1-score': 0.17676363479656224, 'balanced_accuracy': 0.1903097098040649, 'mcc': 0.49567505959460556, 'train_loss': 1.3111222059450534}\n",
      "Epoch 6/20\n"
     ]
    },
    {
     "name": "stderr",
     "output_type": "stream",
     "text": [
      "100%|██████████| 423/423 [00:40<00:00, 10.54it/s]\n"
     ]
    },
    {
     "name": "stdout",
     "output_type": "stream",
     "text": [
      "{'val_loss': 1.4509543472865842, 'val_accuracy': 0.6189349112426036, 'precision': 0.5943688875260098, 'recall': 0.6189349112426036, 'f1-score': 0.5950240318655848, 'macro_f1-score': 0.1895173375932348, 'balanced_accuracy': 0.20379325602766635, 'mcc': 0.49377289791658363, 'train_loss': 1.2274256209814238}\n",
      "Epoch 7/20\n"
     ]
    },
    {
     "name": "stderr",
     "output_type": "stream",
     "text": [
      "100%|██████████| 423/423 [00:40<00:00, 10.52it/s]\n"
     ]
    },
    {
     "name": "stdout",
     "output_type": "stream",
     "text": [
      "{'val_loss': 1.5141461902069595, 'val_accuracy': 0.6337278106508876, 'precision': 0.5919226261526088, 'recall': 0.6337278106508876, 'f1-score': 0.584354228166807, 'macro_f1-score': 0.19420559927005318, 'balanced_accuracy': 0.1956922605962002, 'mcc': 0.4921820141700375, 'train_loss': 1.1444997947407671}\n",
      "Epoch 8/20\n"
     ]
    },
    {
     "name": "stderr",
     "output_type": "stream",
     "text": [
      "100%|██████████| 423/423 [00:40<00:00, 10.53it/s]\n"
     ]
    },
    {
     "name": "stdout",
     "output_type": "stream",
     "text": [
      "{'val_loss': 1.394113280863132, 'val_accuracy': 0.6455621301775148, 'precision': 0.6191307982486141, 'recall': 0.6455621301775148, 'f1-score': 0.6222177796572702, 'macro_f1-score': 0.2521810691925463, 'balanced_accuracy': 0.26137178988507115, 'mcc': 0.5341189360830105, 'train_loss': 1.066936198630795}\n",
      "Epoch 9/20\n"
     ]
    },
    {
     "name": "stderr",
     "output_type": "stream",
     "text": [
      "100%|██████████| 423/423 [00:40<00:00, 10.52it/s]\n"
     ]
    },
    {
     "name": "stdout",
     "output_type": "stream",
     "text": [
      "{'val_loss': 1.4061053105682697, 'val_accuracy': 0.6325443786982249, 'precision': 0.5973591437344085, 'recall': 0.6325443786982249, 'f1-score': 0.6041395477934002, 'macro_f1-score': 0.22981771378231336, 'balanced_accuracy': 0.2354381259115787, 'mcc': 0.5129369252285975, 'train_loss': 0.9892840272357278}\n",
      "Epoch 10/20\n"
     ]
    },
    {
     "name": "stderr",
     "output_type": "stream",
     "text": [
      "100%|██████████| 423/423 [00:39<00:00, 10.59it/s]\n"
     ]
    },
    {
     "name": "stdout",
     "output_type": "stream",
     "text": [
      "{'val_loss': 1.417390281018221, 'val_accuracy': 0.657396449704142, 'precision': 0.6118053413906093, 'recall': 0.657396449704142, 'f1-score': 0.6238380869664621, 'macro_f1-score': 0.24117561577155067, 'balanced_accuracy': 0.2406030948971015, 'mcc': 0.5384878610756124, 'train_loss': 0.9254871807270298}\n",
      "Epoch 11/20\n"
     ]
    },
    {
     "name": "stderr",
     "output_type": "stream",
     "text": [
      "100%|██████████| 423/423 [00:40<00:00, 10.52it/s]\n"
     ]
    },
    {
     "name": "stdout",
     "output_type": "stream",
     "text": [
      "{'val_loss': 1.4548071111148257, 'val_accuracy': 0.6461538461538462, 'precision': 0.630382748148873, 'recall': 0.6461538461538462, 'f1-score': 0.6207704609721169, 'macro_f1-score': 0.2553472673164369, 'balanced_accuracy': 0.2637878401756154, 'mcc': 0.5342023813165316, 'train_loss': 0.8501321405137121}\n",
      "Epoch 12/20\n"
     ]
    },
    {
     "name": "stderr",
     "output_type": "stream",
     "text": [
      "100%|██████████| 423/423 [00:40<00:00, 10.55it/s]\n"
     ]
    },
    {
     "name": "stdout",
     "output_type": "stream",
     "text": [
      "{'val_loss': 1.4235818180835471, 'val_accuracy': 0.657396449704142, 'precision': 0.6333993023655282, 'recall': 0.657396449704142, 'f1-score': 0.637332363697945, 'macro_f1-score': 0.284405835092599, 'balanced_accuracy': 0.2827428431611858, 'mcc': 0.5458912192040088, 'train_loss': 0.7821073263672227}\n",
      "Epoch 13/20\n"
     ]
    },
    {
     "name": "stderr",
     "output_type": "stream",
     "text": [
      "100%|██████████| 423/423 [00:40<00:00, 10.52it/s]\n"
     ]
    },
    {
     "name": "stdout",
     "output_type": "stream",
     "text": [
      "{'val_loss': 1.4774934317705766, 'val_accuracy': 0.6668639053254438, 'precision': 0.6306645137031304, 'recall': 0.6668639053254438, 'f1-score': 0.6374240327041245, 'macro_f1-score': 0.2908884788669626, 'balanced_accuracy': 0.29321049019963474, 'mcc': 0.5530744038879531, 'train_loss': 0.7356326326058548}\n",
      "Epoch 14/20\n"
     ]
    },
    {
     "name": "stderr",
     "output_type": "stream",
     "text": [
      "100%|██████████| 423/423 [00:40<00:00, 10.54it/s]\n"
     ]
    },
    {
     "name": "stdout",
     "output_type": "stream",
     "text": [
      "{'val_loss': 1.5404909925078445, 'val_accuracy': 0.657396449704142, 'precision': 0.6327931101577868, 'recall': 0.657396449704142, 'f1-score': 0.6335941623296483, 'macro_f1-score': 0.27255160894227154, 'balanced_accuracy': 0.2815732050547411, 'mcc': 0.5483009086964195, 'train_loss': 0.7360233661518311}\n",
      "Epoch 15/20\n"
     ]
    },
    {
     "name": "stderr",
     "output_type": "stream",
     "text": [
      "100%|██████████| 423/423 [00:40<00:00, 10.52it/s]\n"
     ]
    },
    {
     "name": "stdout",
     "output_type": "stream",
     "text": [
      "{'val_loss': 1.5097709367016576, 'val_accuracy': 0.657396449704142, 'precision': 0.6344063178983976, 'recall': 0.657396449704142, 'f1-score': 0.6325695753405715, 'macro_f1-score': 0.28952546912354843, 'balanced_accuracy': 0.2921116563348032, 'mcc': 0.5460025946590525, 'train_loss': 0.7021127552780417}\n",
      "Epoch 16/20\n"
     ]
    },
    {
     "name": "stderr",
     "output_type": "stream",
     "text": [
      "100%|██████████| 423/423 [00:40<00:00, 10.53it/s]\n"
     ]
    },
    {
     "name": "stdout",
     "output_type": "stream",
     "text": [
      "{'val_loss': 1.4877367115245674, 'val_accuracy': 0.6562130177514793, 'precision': 0.6617571326496681, 'recall': 0.6562130177514793, 'f1-score': 0.6476143844820164, 'macro_f1-score': 0.28768947431845215, 'balanced_accuracy': 0.2980044803925173, 'mcc': 0.5526122193860208, 'train_loss': 0.6404969216749319}\n",
      "Early stopping.\n",
      "\n",
      " === roberta-base + lstm + none Final 10-fold Cross-Validation Results ===\n",
      "Total time: 3290 seconds\n",
      "Total time: 0 hrs 54 mins 50 secs\n",
      "val_loss: 1.5939\n",
      "val_accuracy: 0.6304\n",
      "precision: 0.5742\n",
      "recall: 0.6304\n",
      "f1-score: 0.5886\n",
      "macro_f1-score: 0.2365\n",
      "balanced_accuracy: 0.2427\n",
      "mcc: 0.5044\n",
      "train_loss: 1.0197\n",
      "▶ Running: roberta-base + bilstm + none\n",
      "tokenizer is roberta-base\n",
      "Using device: cuda\n",
      "CUDA Available: True\n",
      "CUDA Device: NVIDIA GeForce RTX 5070 Ti\n",
      "Current GPU Memory Allocated: 0.02 GB\n",
      "Current GPU Memory Cached: 3.92 GB\n",
      "\n",
      "[Fold 1]\n",
      "Label distribution after resampling:\n",
      "  label 0: 3179\n",
      "  label 1: 25\n",
      "  label 2: 112\n",
      "  label 3: 24\n",
      "  label 4: 205\n",
      "  label 5: 116\n",
      "  label 6: 95\n",
      "  label 7: 31\n",
      "  label 8: 68\n",
      "  label 9: 65\n",
      "  label 10: 70\n",
      "  label 11: 172\n",
      "  label 12: 193\n",
      "  label 13: 29\n",
      "  label 14: 23\n",
      "  label 15: 25\n",
      "  label 16: 20\n",
      "  label 17: 231\n",
      "  label 18: 93\n",
      "  label 19: 45\n",
      "  label 20: 14\n",
      "  label 21: 35\n",
      "  label 22: 78\n",
      "  label 23: 160\n",
      "  label 24: 16\n",
      "  label 25: 50\n",
      "  label 26: 86\n",
      "  label 27: 49\n",
      "  label 28: 12\n",
      "  label 29: 13\n",
      "  label 30: 15\n",
      "  label 31: 80\n",
      "  label 32: 36\n",
      "  label 33: 32\n",
      "  label 34: 30\n",
      "  label 35: 12\n",
      "  label 36: 28\n",
      "  label 37: 21\n",
      "  label 38: 6\n",
      "  label 39: 103\n",
      "  label 40: 12\n",
      "  label 41: 8\n",
      "  label 42: 147\n",
      "  label 43: 16\n",
      "  label 44: 20\n",
      "  label 45: 9\n",
      "  label 46: 54\n",
      "  label 47: 529\n",
      "  label 48: 202\n",
      "  label 49: 69\n",
      "model is roberta-base bilstm\n"
     ]
    },
    {
     "name": "stderr",
     "output_type": "stream",
     "text": [
      "Some weights of RobertaModel were not initialized from the model checkpoint at roberta-base and are newly initialized: ['pooler.dense.bias', 'pooler.dense.weight']\n",
      "You should probably TRAIN this model on a down-stream task to be able to use it for predictions and inference.\n"
     ]
    },
    {
     "name": "stdout",
     "output_type": "stream",
     "text": [
      "Epoch 1/20\n"
     ]
    },
    {
     "name": "stderr",
     "output_type": "stream",
     "text": [
      "100%|██████████| 423/423 [00:43<00:00,  9.76it/s]\n"
     ]
    },
    {
     "name": "stdout",
     "output_type": "stream",
     "text": [
      "{'val_loss': 1.8975127724544056, 'val_accuracy': 0.5700768775872265, 'precision': 0.3483783036555525, 'recall': 0.5700768775872265, 'f1-score': 0.43118592723565974, 'macro_f1-score': 0.044247315864844684, 'balanced_accuracy': 0.06126255093854313, 'mcc': 0.36273966772757454, 'train_loss': 2.1716074158677534}\n",
      "Epoch 2/20\n"
     ]
    },
    {
     "name": "stderr",
     "output_type": "stream",
     "text": [
      "100%|██████████| 423/423 [00:43<00:00,  9.78it/s]\n"
     ]
    },
    {
     "name": "stdout",
     "output_type": "stream",
     "text": [
      "{'val_loss': 1.801560343998783, 'val_accuracy': 0.5570668243642815, 'precision': 0.4137357087785185, 'recall': 0.5570668243642815, 'f1-score': 0.4671730022212509, 'macro_f1-score': 0.05438888751694385, 'balanced_accuracy': 0.08125667566005887, 'mcc': 0.38599605246404833, 'train_loss': 1.8405019349240241}\n",
      "Epoch 3/20\n"
     ]
    },
    {
     "name": "stderr",
     "output_type": "stream",
     "text": [
      "100%|██████████| 423/423 [00:43<00:00,  9.78it/s]\n"
     ]
    },
    {
     "name": "stdout",
     "output_type": "stream",
     "text": [
      "{'val_loss': 1.705834872880072, 'val_accuracy': 0.5884092253104671, 'precision': 0.39639278007092965, 'recall': 0.5884092253104671, 'f1-score': 0.46979137878919486, 'macro_f1-score': 0.058591189938415035, 'balanced_accuracy': 0.08866318912057362, 'mcc': 0.41369773452727215, 'train_loss': 1.7064994783548035}\n",
      "Epoch 4/20\n"
     ]
    },
    {
     "name": "stderr",
     "output_type": "stream",
     "text": [
      "100%|██████████| 423/423 [00:43<00:00,  9.78it/s]\n"
     ]
    },
    {
     "name": "stdout",
     "output_type": "stream",
     "text": [
      "{'val_loss': 1.6597139531711362, 'val_accuracy': 0.5842696629213483, 'precision': 0.4151243941782572, 'recall': 0.5842696629213483, 'f1-score': 0.46759669162082446, 'macro_f1-score': 0.06434902689256843, 'balanced_accuracy': 0.08168803211006764, 'mcc': 0.39493293366552235, 'train_loss': 1.5815376114478912}\n",
      "Epoch 5/20\n"
     ]
    },
    {
     "name": "stderr",
     "output_type": "stream",
     "text": [
      "100%|██████████| 423/423 [00:43<00:00,  9.79it/s]\n"
     ]
    },
    {
     "name": "stdout",
     "output_type": "stream",
     "text": [
      "{'val_loss': 1.6894265191172653, 'val_accuracy': 0.5807214665878179, 'precision': 0.4055410842957954, 'recall': 0.5807214665878179, 'f1-score': 0.4670921680753238, 'macro_f1-score': 0.06656449849265064, 'balanced_accuracy': 0.08536142202619106, 'mcc': 0.39070128174682944, 'train_loss': 1.5537235939051806}\n",
      "Epoch 6/20\n"
     ]
    },
    {
     "name": "stderr",
     "output_type": "stream",
     "text": [
      "100%|██████████| 423/423 [00:43<00:00,  9.80it/s]\n"
     ]
    },
    {
     "name": "stdout",
     "output_type": "stream",
     "text": [
      "{'val_loss': 1.5806633869432054, 'val_accuracy': 0.6020106445890006, 'precision': 0.4445323447321605, 'recall': 0.6020106445890006, 'f1-score': 0.5055251277144722, 'macro_f1-score': 0.10436653999274871, 'balanced_accuracy': 0.11003128869586082, 'mcc': 0.4325773960089563, 'train_loss': 1.4318322006692277}\n",
      "Epoch 7/20\n"
     ]
    },
    {
     "name": "stderr",
     "output_type": "stream",
     "text": [
      "100%|██████████| 423/423 [00:43<00:00,  9.76it/s]\n"
     ]
    },
    {
     "name": "stdout",
     "output_type": "stream",
     "text": [
      "{'val_loss': 1.495304985991064, 'val_accuracy': 0.5966883500887049, 'precision': 0.5437919027990197, 'recall': 0.5966883500887049, 'f1-score': 0.5501974337427509, 'macro_f1-score': 0.14433102910414117, 'balanced_accuracy': 0.17476874969634978, 'mcc': 0.45667178681801407, 'train_loss': 1.3144803300112415}\n",
      "Epoch 8/20\n"
     ]
    },
    {
     "name": "stderr",
     "output_type": "stream",
     "text": [
      "100%|██████████| 423/423 [00:43<00:00,  9.79it/s]\n"
     ]
    },
    {
     "name": "stdout",
     "output_type": "stream",
     "text": [
      "{'val_loss': 1.4752014554896444, 'val_accuracy': 0.6037847427557658, 'precision': 0.5385884713287791, 'recall': 0.6037847427557658, 'f1-score': 0.5571795437867164, 'macro_f1-score': 0.15366569130851482, 'balanced_accuracy': 0.1782722676505746, 'mcc': 0.4733353005338497, 'train_loss': 1.238329309309628}\n",
      "Epoch 9/20\n"
     ]
    },
    {
     "name": "stderr",
     "output_type": "stream",
     "text": [
      "100%|██████████| 423/423 [00:43<00:00,  9.80it/s]\n"
     ]
    },
    {
     "name": "stdout",
     "output_type": "stream",
     "text": [
      "{'val_loss': 1.4615961931786448, 'val_accuracy': 0.6037847427557658, 'precision': 0.5757023261817356, 'recall': 0.6037847427557658, 'f1-score': 0.5679823450224153, 'macro_f1-score': 0.1707286115425556, 'balanced_accuracy': 0.20279778317689887, 'mcc': 0.4841636464869642, 'train_loss': 1.1733212710906429}\n",
      "Epoch 10/20\n"
     ]
    },
    {
     "name": "stderr",
     "output_type": "stream",
     "text": [
      "100%|██████████| 423/423 [00:43<00:00,  9.79it/s]\n"
     ]
    },
    {
     "name": "stdout",
     "output_type": "stream",
     "text": [
      "{'val_loss': 1.5046370749203664, 'val_accuracy': 0.6191602602010644, 'precision': 0.548801686532979, 'recall': 0.6191602602010644, 'f1-score': 0.5742429525892576, 'macro_f1-score': 0.1810440647705994, 'balanced_accuracy': 0.20081526455327844, 'mcc': 0.487004485854869, 'train_loss': 1.0660067799877613}\n",
      "Epoch 11/20\n"
     ]
    },
    {
     "name": "stderr",
     "output_type": "stream",
     "text": [
      "100%|██████████| 423/423 [00:43<00:00,  9.79it/s]\n"
     ]
    },
    {
     "name": "stdout",
     "output_type": "stream",
     "text": [
      "{'val_loss': 1.584144191359574, 'val_accuracy': 0.5748078060319338, 'precision': 0.6012086391946855, 'recall': 0.5748078060319338, 'f1-score': 0.5677132597736934, 'macro_f1-score': 0.18545239609904204, 'balanced_accuracy': 0.22612405022019527, 'mcc': 0.47038485181001966, 'train_loss': 1.0394929915173396}\n",
      "Epoch 12/20\n"
     ]
    },
    {
     "name": "stderr",
     "output_type": "stream",
     "text": [
      "100%|██████████| 423/423 [00:43<00:00,  9.78it/s]\n"
     ]
    },
    {
     "name": "stdout",
     "output_type": "stream",
     "text": [
      "{'val_loss': 1.5049804763973884, 'val_accuracy': 0.6162034299231224, 'precision': 0.5696537079119519, 'recall': 0.6162034299231224, 'f1-score': 0.5830614286091597, 'macro_f1-score': 0.1876910593211548, 'balanced_accuracy': 0.21428149688006862, 'mcc': 0.49610083245616116, 'train_loss': 0.9729831128185241}\n",
      "Epoch 13/20\n"
     ]
    },
    {
     "name": "stderr",
     "output_type": "stream",
     "text": [
      "100%|██████████| 423/423 [00:43<00:00,  9.78it/s]\n"
     ]
    },
    {
     "name": "stdout",
     "output_type": "stream",
     "text": [
      "{'val_loss': 1.4691284208927515, 'val_accuracy': 0.6398580721466588, 'precision': 0.5967019894436422, 'recall': 0.6398580721466588, 'f1-score': 0.6114535158406833, 'macro_f1-score': 0.2264501957891478, 'balanced_accuracy': 0.24382099562289916, 'mcc': 0.5264778545602725, 'train_loss': 0.9077734011566667}\n",
      "Epoch 14/20\n"
     ]
    },
    {
     "name": "stderr",
     "output_type": "stream",
     "text": [
      "100%|██████████| 423/423 [00:43<00:00,  9.80it/s]\n"
     ]
    },
    {
     "name": "stdout",
     "output_type": "stream",
     "text": [
      "{'val_loss': 1.5343313287451583, 'val_accuracy': 0.6215257244234181, 'precision': 0.5818872257063707, 'recall': 0.6215257244234181, 'f1-score': 0.5808670281707274, 'macro_f1-score': 0.20135139144734698, 'balanced_accuracy': 0.2183540698835156, 'mcc': 0.4949785247439304, 'train_loss': 0.9165225668543902}\n",
      "Epoch 15/20\n"
     ]
    },
    {
     "name": "stderr",
     "output_type": "stream",
     "text": [
      "100%|██████████| 423/423 [00:43<00:00,  9.82it/s]\n"
     ]
    },
    {
     "name": "stdout",
     "output_type": "stream",
     "text": [
      "{'val_loss': 1.5664167955236614, 'val_accuracy': 0.6179775280898876, 'precision': 0.5852754799396339, 'recall': 0.6179775280898876, 'f1-score': 0.5885067570805311, 'macro_f1-score': 0.21224415355055942, 'balanced_accuracy': 0.2194858203771994, 'mcc': 0.4893309700393272, 'train_loss': 0.8139106698210922}\n",
      "Epoch 16/20\n"
     ]
    },
    {
     "name": "stderr",
     "output_type": "stream",
     "text": [
      "100%|██████████| 423/423 [00:43<00:00,  9.80it/s]\n"
     ]
    },
    {
     "name": "stdout",
     "output_type": "stream",
     "text": [
      "{'val_loss': 1.5733556699640345, 'val_accuracy': 0.6309875813128326, 'precision': 0.6007440668461426, 'recall': 0.6309875813128326, 'f1-score': 0.6007834943761113, 'macro_f1-score': 0.23369164172810297, 'balanced_accuracy': 0.23872658419007858, 'mcc': 0.5065105465325807, 'train_loss': 0.765381641879713}\n",
      "Epoch 17/20\n"
     ]
    },
    {
     "name": "stderr",
     "output_type": "stream",
     "text": [
      "100%|██████████| 423/423 [00:42<00:00,  9.84it/s]\n"
     ]
    },
    {
     "name": "stdout",
     "output_type": "stream",
     "text": [
      "{'val_loss': 1.6186047376326795, 'val_accuracy': 0.6162034299231224, 'precision': 0.6137412527544618, 'recall': 0.6162034299231224, 'f1-score': 0.5998484455544207, 'macro_f1-score': 0.2282966230516384, 'balanced_accuracy': 0.23937570806836678, 'mcc': 0.4977976692510943, 'train_loss': 0.7352854732432828}\n",
      "Epoch 18/20\n"
     ]
    },
    {
     "name": "stderr",
     "output_type": "stream",
     "text": [
      "100%|██████████| 423/423 [00:43<00:00,  9.77it/s]\n"
     ]
    },
    {
     "name": "stdout",
     "output_type": "stream",
     "text": [
      "{'val_loss': 1.6219666313450292, 'val_accuracy': 0.6392667060910704, 'precision': 0.6131170981412621, 'recall': 0.6392667060910704, 'f1-score': 0.6062715001612525, 'macro_f1-score': 0.24619146156492977, 'balanced_accuracy': 0.25023993708864145, 'mcc': 0.5173716772274772, 'train_loss': 0.7043874696883468}\n",
      "Epoch 19/20\n"
     ]
    },
    {
     "name": "stderr",
     "output_type": "stream",
     "text": [
      "100%|██████████| 423/423 [00:43<00:00,  9.78it/s]\n"
     ]
    },
    {
     "name": "stdout",
     "output_type": "stream",
     "text": [
      "{'val_loss': 1.598906640174254, 'val_accuracy': 0.6303962152572442, 'precision': 0.6159048602715366, 'recall': 0.6303962152572442, 'f1-score': 0.6134574612906399, 'macro_f1-score': 0.24569487052830088, 'balanced_accuracy': 0.25971140917963526, 'mcc': 0.5168840093181146, 'train_loss': 0.6565564570521351}\n",
      "Epoch 20/20\n"
     ]
    },
    {
     "name": "stderr",
     "output_type": "stream",
     "text": [
      "100%|██████████| 423/423 [00:43<00:00,  9.77it/s]\n"
     ]
    },
    {
     "name": "stdout",
     "output_type": "stream",
     "text": [
      "{'val_loss': 1.6103324631475053, 'val_accuracy': 0.625665286812537, 'precision': 0.6313211986481836, 'recall': 0.625665286812537, 'f1-score': 0.6178458226208645, 'macro_f1-score': 0.27452485892982204, 'balanced_accuracy': 0.28206124553407647, 'mcc': 0.5113453331345333, 'train_loss': 0.6308400155954398}\n",
      "\n",
      "[Fold 2]\n",
      "Label distribution after resampling:\n",
      "  label 0: 3179\n",
      "  label 1: 25\n",
      "  label 2: 112\n",
      "  label 3: 24\n",
      "  label 4: 206\n",
      "  label 5: 116\n",
      "  label 6: 94\n",
      "  label 7: 31\n",
      "  label 8: 68\n",
      "  label 9: 65\n",
      "  label 10: 70\n",
      "  label 11: 172\n",
      "  label 12: 193\n",
      "  label 13: 29\n",
      "  label 14: 23\n",
      "  label 15: 25\n",
      "  label 16: 20\n",
      "  label 17: 231\n",
      "  label 18: 93\n",
      "  label 19: 45\n",
      "  label 20: 14\n",
      "  label 21: 35\n",
      "  label 22: 78\n",
      "  label 23: 160\n",
      "  label 24: 16\n",
      "  label 25: 50\n",
      "  label 26: 86\n",
      "  label 27: 49\n",
      "  label 28: 12\n",
      "  label 29: 13\n",
      "  label 30: 15\n",
      "  label 31: 80\n",
      "  label 32: 36\n",
      "  label 33: 32\n",
      "  label 34: 30\n",
      "  label 35: 12\n",
      "  label 36: 28\n",
      "  label 37: 22\n",
      "  label 38: 5\n",
      "  label 39: 103\n",
      "  label 40: 11\n",
      "  label 41: 9\n",
      "  label 42: 147\n",
      "  label 43: 16\n",
      "  label 44: 20\n",
      "  label 45: 9\n",
      "  label 46: 55\n",
      "  label 47: 528\n",
      "  label 48: 202\n",
      "  label 49: 69\n",
      "model is roberta-base bilstm\n"
     ]
    },
    {
     "name": "stderr",
     "output_type": "stream",
     "text": [
      "Some weights of RobertaModel were not initialized from the model checkpoint at roberta-base and are newly initialized: ['pooler.dense.bias', 'pooler.dense.weight']\n",
      "You should probably TRAIN this model on a down-stream task to be able to use it for predictions and inference.\n"
     ]
    },
    {
     "name": "stdout",
     "output_type": "stream",
     "text": [
      "Epoch 1/20\n"
     ]
    },
    {
     "name": "stderr",
     "output_type": "stream",
     "text": [
      "100%|██████████| 423/423 [00:43<00:00,  9.78it/s]\n"
     ]
    },
    {
     "name": "stdout",
     "output_type": "stream",
     "text": [
      "{'val_loss': 1.8378589715597764, 'val_accuracy': 0.5712596096984033, 'precision': 0.3578085196150441, 'recall': 0.5712596096984033, 'f1-score': 0.43912039926855206, 'macro_f1-score': 0.04738738013123978, 'balanced_accuracy': 0.06714270827668121, 'mcc': 0.3682178988947118, 'train_loss': 2.1336611667141563}\n",
      "Epoch 2/20\n"
     ]
    },
    {
     "name": "stderr",
     "output_type": "stream",
     "text": [
      "100%|██████████| 423/423 [00:43<00:00,  9.78it/s]\n"
     ]
    },
    {
     "name": "stdout",
     "output_type": "stream",
     "text": [
      "{'val_loss': 1.6137490511502859, 'val_accuracy': 0.5937315198107629, 'precision': 0.442223604163865, 'recall': 0.5937315198107629, 'f1-score': 0.49223372004253757, 'macro_f1-score': 0.08948868896829869, 'balanced_accuracy': 0.10511366023143402, 'mcc': 0.41498120687698975, 'train_loss': 1.7205681857206014}\n",
      "Epoch 3/20\n"
     ]
    },
    {
     "name": "stderr",
     "output_type": "stream",
     "text": [
      "100%|██████████| 423/423 [00:43<00:00,  9.81it/s]\n"
     ]
    },
    {
     "name": "stdout",
     "output_type": "stream",
     "text": [
      "{'val_loss': 1.4825176964953262, 'val_accuracy': 0.6221170904790065, 'precision': 0.49655284624996426, 'recall': 0.6221170904790065, 'f1-score': 0.5413807884745305, 'macro_f1-score': 0.1436077340502476, 'balanced_accuracy': 0.15091691249705952, 'mcc': 0.47148930051351334, 'train_loss': 1.4878338325249105}\n",
      "Epoch 4/20\n"
     ]
    },
    {
     "name": "stderr",
     "output_type": "stream",
     "text": [
      "100%|██████████| 423/423 [00:43<00:00,  9.79it/s]\n"
     ]
    },
    {
     "name": "stdout",
     "output_type": "stream",
     "text": [
      "{'val_loss': 1.4766131760376804, 'val_accuracy': 0.6079243051448847, 'precision': 0.5612368504366053, 'recall': 0.6079243051448847, 'f1-score': 0.5639436220219258, 'macro_f1-score': 0.17568425482230451, 'balanced_accuracy': 0.18798758632625692, 'mcc': 0.4722675360105001, 'train_loss': 1.348578271643208}\n",
      "Epoch 5/20\n"
     ]
    },
    {
     "name": "stderr",
     "output_type": "stream",
     "text": [
      "100%|██████████| 423/423 [00:43<00:00,  9.77it/s]\n"
     ]
    },
    {
     "name": "stdout",
     "output_type": "stream",
     "text": [
      "{'val_loss': 1.4623889014968332, 'val_accuracy': 0.628622117090479, 'precision': 0.563891695600925, 'recall': 0.628622117090479, 'f1-score': 0.5689539706489516, 'macro_f1-score': 0.18682160313018567, 'balanced_accuracy': 0.19278204606834837, 'mcc': 0.4865167144478602, 'train_loss': 1.1899963425688147}\n",
      "Epoch 6/20\n"
     ]
    },
    {
     "name": "stderr",
     "output_type": "stream",
     "text": [
      "100%|██████████| 423/423 [00:43<00:00,  9.79it/s]\n"
     ]
    },
    {
     "name": "stdout",
     "output_type": "stream",
     "text": [
      "{'val_loss': 1.3977136859353982, 'val_accuracy': 0.6469544648137197, 'precision': 0.6077343792691846, 'recall': 0.6469544648137197, 'f1-score': 0.6093859781204259, 'macro_f1-score': 0.22949336240979526, 'balanced_accuracy': 0.23251462233641046, 'mcc': 0.5244715503038708, 'train_loss': 1.0874692816331313}\n",
      "Epoch 7/20\n"
     ]
    },
    {
     "name": "stderr",
     "output_type": "stream",
     "text": [
      "100%|██████████| 423/423 [00:43<00:00,  9.78it/s]\n"
     ]
    },
    {
     "name": "stdout",
     "output_type": "stream",
     "text": [
      "{'val_loss': 1.4130628155368679, 'val_accuracy': 0.6641040804257835, 'precision': 0.606167031485569, 'recall': 0.6641040804257835, 'f1-score': 0.6193967018389734, 'macro_f1-score': 0.24330119508289358, 'balanced_accuracy': 0.2384623398542562, 'mcc': 0.539607517296909, 'train_loss': 0.968382507633092}\n",
      "Epoch 8/20\n"
     ]
    },
    {
     "name": "stderr",
     "output_type": "stream",
     "text": [
      "100%|██████████| 423/423 [00:43<00:00,  9.78it/s]\n"
     ]
    },
    {
     "name": "stdout",
     "output_type": "stream",
     "text": [
      "{'val_loss': 1.4047997709152833, 'val_accuracy': 0.6528681253696038, 'precision': 0.6128047308073664, 'recall': 0.6528681253696038, 'f1-score': 0.6238227799679921, 'macro_f1-score': 0.2772452464293047, 'balanced_accuracy': 0.2736573584070196, 'mcc': 0.5328878045565745, 'train_loss': 0.839546689539091}\n",
      "Epoch 9/20\n"
     ]
    },
    {
     "name": "stderr",
     "output_type": "stream",
     "text": [
      "100%|██████████| 423/423 [00:43<00:00,  9.79it/s]\n"
     ]
    },
    {
     "name": "stdout",
     "output_type": "stream",
     "text": [
      "{'val_loss': 1.3878096583879218, 'val_accuracy': 0.6481371969248965, 'precision': 0.6303129018641346, 'recall': 0.6481371969248965, 'f1-score': 0.6308890538053431, 'macro_f1-score': 0.3016277477978925, 'balanced_accuracy': 0.3069155757926857, 'mcc': 0.5354931233337701, 'train_loss': 0.776320231369483}\n",
      "Epoch 10/20\n"
     ]
    },
    {
     "name": "stderr",
     "output_type": "stream",
     "text": [
      "100%|██████████| 423/423 [00:43<00:00,  9.78it/s]\n"
     ]
    },
    {
     "name": "stdout",
     "output_type": "stream",
     "text": [
      "{'val_loss': 1.5046260039199073, 'val_accuracy': 0.6428149024246008, 'precision': 0.6410815051837647, 'recall': 0.6428149024246008, 'f1-score': 0.6261558394101456, 'macro_f1-score': 0.2893725496832665, 'balanced_accuracy': 0.2905445773962448, 'mcc': 0.5267941873794456, 'train_loss': 0.7053463055485811}\n",
      "Epoch 11/20\n"
     ]
    },
    {
     "name": "stderr",
     "output_type": "stream",
     "text": [
      "100%|██████████| 423/423 [00:43<00:00,  9.82it/s]\n"
     ]
    },
    {
     "name": "stdout",
     "output_type": "stream",
     "text": [
      "{'val_loss': 1.3994457395571582, 'val_accuracy': 0.6688350088704909, 'precision': 0.640001662928462, 'recall': 0.6688350088704909, 'f1-score': 0.6422040325181138, 'macro_f1-score': 0.3384960513300673, 'balanced_accuracy': 0.32409016050748163, 'mcc': 0.5540081404679192, 'train_loss': 0.6438508699372869}\n",
      "Epoch 12/20\n"
     ]
    },
    {
     "name": "stderr",
     "output_type": "stream",
     "text": [
      "100%|██████████| 423/423 [00:43<00:00,  9.80it/s]\n"
     ]
    },
    {
     "name": "stdout",
     "output_type": "stream",
     "text": [
      "{'val_loss': 1.4699442799923554, 'val_accuracy': 0.664695446481372, 'precision': 0.6339493866609747, 'recall': 0.664695446481372, 'f1-score': 0.6380728150982788, 'macro_f1-score': 0.3206264702661581, 'balanced_accuracy': 0.3082112145167931, 'mcc': 0.5502062521677129, 'train_loss': 0.5857074045296539}\n",
      "Epoch 13/20\n"
     ]
    },
    {
     "name": "stderr",
     "output_type": "stream",
     "text": [
      "100%|██████████| 423/423 [00:43<00:00,  9.81it/s]\n"
     ]
    },
    {
     "name": "stdout",
     "output_type": "stream",
     "text": [
      "{'val_loss': 1.6042384409679558, 'val_accuracy': 0.6629213483146067, 'precision': 0.6422416070961432, 'recall': 0.6629213483146067, 'f1-score': 0.634761320742733, 'macro_f1-score': 0.3316786179873652, 'balanced_accuracy': 0.306807633925193, 'mcc': 0.542550221027605, 'train_loss': 0.5396601586353835}\n",
      "Epoch 14/20\n"
     ]
    },
    {
     "name": "stderr",
     "output_type": "stream",
     "text": [
      "100%|██████████| 423/423 [00:43<00:00,  9.83it/s]\n"
     ]
    },
    {
     "name": "stdout",
     "output_type": "stream",
     "text": [
      "{'val_loss': 1.5986550545917366, 'val_accuracy': 0.667652276759314, 'precision': 0.6482026992466404, 'recall': 0.667652276759314, 'f1-score': 0.6489009753511215, 'macro_f1-score': 0.3445731191844387, 'balanced_accuracy': 0.3331773290468613, 'mcc': 0.5534348128888453, 'train_loss': 0.4906040061018639}\n",
      "Epoch 15/20\n"
     ]
    },
    {
     "name": "stderr",
     "output_type": "stream",
     "text": [
      "100%|██████████| 423/423 [00:43<00:00,  9.79it/s]\n"
     ]
    },
    {
     "name": "stdout",
     "output_type": "stream",
     "text": [
      "{'val_loss': 1.4973485163360272, 'val_accuracy': 0.6587817859254879, 'precision': 0.6453076522832768, 'recall': 0.6587817859254879, 'f1-score': 0.641927781026165, 'macro_f1-score': 0.3527433157934977, 'balanced_accuracy': 0.35303167797425317, 'mcc': 0.5464480013910143, 'train_loss': 0.4674937310001106}\n",
      "Epoch 16/20\n"
     ]
    },
    {
     "name": "stderr",
     "output_type": "stream",
     "text": [
      "100%|██████████| 423/423 [00:43<00:00,  9.79it/s]\n"
     ]
    },
    {
     "name": "stdout",
     "output_type": "stream",
     "text": [
      "{'val_loss': 1.5824035023743253, 'val_accuracy': 0.6641040804257835, 'precision': 0.6586823971513285, 'recall': 0.6641040804257835, 'f1-score': 0.6516386596600502, 'macro_f1-score': 0.38289348614357394, 'balanced_accuracy': 0.36873821555581104, 'mcc': 0.5565048672221835, 'train_loss': 0.4271920550191867}\n",
      "Epoch 17/20\n"
     ]
    },
    {
     "name": "stderr",
     "output_type": "stream",
     "text": [
      "100%|██████████| 423/423 [00:43<00:00,  9.78it/s]\n"
     ]
    },
    {
     "name": "stdout",
     "output_type": "stream",
     "text": [
      "{'val_loss': 1.5434923132635512, 'val_accuracy': 0.651685393258427, 'precision': 0.6679421806446922, 'recall': 0.651685393258427, 'f1-score': 0.645240994688441, 'macro_f1-score': 0.382380364522342, 'balanced_accuracy': 0.389717831595667, 'mcc': 0.5463630255042357, 'train_loss': 0.4182231606999258}\n",
      "Epoch 18/20\n"
     ]
    },
    {
     "name": "stderr",
     "output_type": "stream",
     "text": [
      "100%|██████████| 423/423 [00:43<00:00,  9.79it/s]\n"
     ]
    },
    {
     "name": "stdout",
     "output_type": "stream",
     "text": [
      "{'val_loss': 1.5234098212336593, 'val_accuracy': 0.6682436428149024, 'precision': 0.6622227030034774, 'recall': 0.6682436428149024, 'f1-score': 0.656244604430497, 'macro_f1-score': 0.35970149476107643, 'balanced_accuracy': 0.3484505452097024, 'mcc': 0.5602160767586613, 'train_loss': 0.3750895445783299}\n",
      "Epoch 19/20\n"
     ]
    },
    {
     "name": "stderr",
     "output_type": "stream",
     "text": [
      "100%|██████████| 423/423 [00:43<00:00,  9.78it/s]\n"
     ]
    },
    {
     "name": "stdout",
     "output_type": "stream",
     "text": [
      "{'val_loss': 1.5679295841815337, 'val_accuracy': 0.6729745712596097, 'precision': 0.6664393122691936, 'recall': 0.6729745712596097, 'f1-score': 0.6620836785390202, 'macro_f1-score': 0.3907941319554378, 'balanced_accuracy': 0.3865922890604914, 'mcc': 0.5670005865017317, 'train_loss': 0.35414559976913335}\n",
      "Epoch 20/20\n"
     ]
    },
    {
     "name": "stderr",
     "output_type": "stream",
     "text": [
      "100%|██████████| 423/423 [00:43<00:00,  9.79it/s]\n"
     ]
    },
    {
     "name": "stdout",
     "output_type": "stream",
     "text": [
      "{'val_loss': 1.7246563701697115, 'val_accuracy': 0.6587817859254879, 'precision': 0.6494906332743745, 'recall': 0.6587817859254879, 'f1-score': 0.6389013763275059, 'macro_f1-score': 0.36303576797705694, 'balanced_accuracy': 0.334988999008978, 'mcc': 0.540398642460198, 'train_loss': 0.33550000477837616}\n",
      "\n",
      "[Fold 3]\n",
      "Label distribution after resampling:\n",
      "  label 0: 3179\n",
      "  label 1: 25\n",
      "  label 2: 112\n",
      "  label 3: 24\n",
      "  label 4: 206\n",
      "  label 5: 116\n",
      "  label 6: 94\n",
      "  label 7: 31\n",
      "  label 8: 68\n",
      "  label 9: 65\n",
      "  label 10: 71\n",
      "  label 11: 172\n",
      "  label 12: 192\n",
      "  label 13: 29\n",
      "  label 14: 23\n",
      "  label 15: 25\n",
      "  label 16: 20\n",
      "  label 17: 231\n",
      "  label 18: 93\n",
      "  label 19: 45\n",
      "  label 20: 14\n",
      "  label 21: 36\n",
      "  label 22: 77\n",
      "  label 23: 160\n",
      "  label 24: 16\n",
      "  label 25: 51\n",
      "  label 26: 85\n",
      "  label 27: 49\n",
      "  label 28: 12\n",
      "  label 29: 12\n",
      "  label 30: 16\n",
      "  label 31: 80\n",
      "  label 32: 36\n",
      "  label 33: 32\n",
      "  label 34: 29\n",
      "  label 35: 12\n",
      "  label 36: 28\n",
      "  label 37: 22\n",
      "  label 38: 5\n",
      "  label 39: 103\n",
      "  label 40: 11\n",
      "  label 41: 9\n",
      "  label 42: 147\n",
      "  label 43: 16\n",
      "  label 44: 20\n",
      "  label 45: 9\n",
      "  label 46: 55\n",
      "  label 47: 529\n",
      "  label 48: 201\n",
      "  label 49: 70\n",
      "model is roberta-base bilstm\n"
     ]
    },
    {
     "name": "stderr",
     "output_type": "stream",
     "text": [
      "Some weights of RobertaModel were not initialized from the model checkpoint at roberta-base and are newly initialized: ['pooler.dense.bias', 'pooler.dense.weight']\n",
      "You should probably TRAIN this model on a down-stream task to be able to use it for predictions and inference.\n"
     ]
    },
    {
     "name": "stdout",
     "output_type": "stream",
     "text": [
      "Epoch 1/20\n"
     ]
    },
    {
     "name": "stderr",
     "output_type": "stream",
     "text": [
      "100%|██████████| 423/423 [00:43<00:00,  9.80it/s]\n"
     ]
    },
    {
     "name": "stdout",
     "output_type": "stream",
     "text": [
      "{'val_loss': 1.8031167511670094, 'val_accuracy': 0.5694855115316381, 'precision': 0.3852527569500049, 'recall': 0.5694855115316381, 'f1-score': 0.45574216764692177, 'macro_f1-score': 0.060766667892251255, 'balanced_accuracy': 0.07991583947709326, 'mcc': 0.36986840600608345, 'train_loss': 2.1110849631311766}\n",
      "Epoch 2/20\n"
     ]
    },
    {
     "name": "stderr",
     "output_type": "stream",
     "text": [
      "100%|██████████| 423/423 [00:43<00:00,  9.78it/s]\n"
     ]
    },
    {
     "name": "stdout",
     "output_type": "stream",
     "text": [
      "{'val_loss': 1.600368617840533, 'val_accuracy': 0.5830869308101715, 'precision': 0.4833834814594268, 'recall': 0.5830869308101715, 'f1-score': 0.5073697417368754, 'macro_f1-score': 0.10270435684021391, 'balanced_accuracy': 0.1218718015066731, 'mcc': 0.41497943616517036, 'train_loss': 1.6704105987052826}\n",
      "Epoch 3/20\n"
     ]
    },
    {
     "name": "stderr",
     "output_type": "stream",
     "text": [
      "100%|██████████| 423/423 [00:43<00:00,  9.79it/s]\n"
     ]
    },
    {
     "name": "stdout",
     "output_type": "stream",
     "text": [
      "{'val_loss': 1.592591962162054, 'val_accuracy': 0.6061502069781195, 'precision': 0.5192228389026587, 'recall': 0.6061502069781195, 'f1-score': 0.5272671455660746, 'macro_f1-score': 0.1181252468140769, 'balanced_accuracy': 0.12934929669963796, 'mcc': 0.4489030618673241, 'train_loss': 1.4379784488790706}\n",
      "Epoch 4/20\n"
     ]
    },
    {
     "name": "stderr",
     "output_type": "stream",
     "text": [
      "100%|██████████| 423/423 [00:43<00:00,  9.81it/s]\n"
     ]
    },
    {
     "name": "stdout",
     "output_type": "stream",
     "text": [
      "{'val_loss': 1.4243728647816856, 'val_accuracy': 0.6232998225901834, 'precision': 0.5477032408856899, 'recall': 0.6232998225901834, 'f1-score': 0.5746116433854538, 'macro_f1-score': 0.17522528749171218, 'balanced_accuracy': 0.1873496991376161, 'mcc': 0.49244217348854297, 'train_loss': 1.2814300514000245}\n",
      "Epoch 5/20\n"
     ]
    },
    {
     "name": "stderr",
     "output_type": "stream",
     "text": [
      "100%|██████████| 423/423 [00:43<00:00,  9.79it/s]\n"
     ]
    },
    {
     "name": "stdout",
     "output_type": "stream",
     "text": [
      "{'val_loss': 1.4327494347432874, 'val_accuracy': 0.63571850975754, 'precision': 0.5445491141859027, 'recall': 0.63571850975754, 'f1-score': 0.5697246441079797, 'macro_f1-score': 0.17662417212781656, 'balanced_accuracy': 0.1892116345999343, 'mcc': 0.49497583756852487, 'train_loss': 1.1494254855258528}\n",
      "Epoch 6/20\n"
     ]
    },
    {
     "name": "stderr",
     "output_type": "stream",
     "text": [
      "100%|██████████| 423/423 [00:43<00:00,  9.82it/s]\n"
     ]
    },
    {
     "name": "stdout",
     "output_type": "stream",
     "text": [
      "{'val_loss': 1.3713144094876524, 'val_accuracy': 0.6262566528681254, 'precision': 0.5797739503697174, 'recall': 0.6262566528681254, 'f1-score': 0.5902858755101903, 'macro_f1-score': 0.20601009924989713, 'balanced_accuracy': 0.21850372540844124, 'mcc': 0.5030633970161245, 'train_loss': 1.0429637271109484}\n",
      "Epoch 7/20\n"
     ]
    },
    {
     "name": "stderr",
     "output_type": "stream",
     "text": [
      "100%|██████████| 423/423 [00:43<00:00,  9.80it/s]\n"
     ]
    },
    {
     "name": "stdout",
     "output_type": "stream",
     "text": [
      "{'val_loss': 1.3405540599575583, 'val_accuracy': 0.6493199290360734, 'precision': 0.625194765333967, 'recall': 0.6493199290360734, 'f1-score': 0.6237298447447797, 'macro_f1-score': 0.2764399551470886, 'balanced_accuracy': 0.2890535300583979, 'mcc': 0.5356028677154221, 'train_loss': 0.9393180590783451}\n",
      "Epoch 8/20\n"
     ]
    },
    {
     "name": "stderr",
     "output_type": "stream",
     "text": [
      "100%|██████████| 423/423 [00:43<00:00,  9.80it/s]\n"
     ]
    },
    {
     "name": "stdout",
     "output_type": "stream",
     "text": [
      "{'val_loss': 1.3667475693630722, 'val_accuracy': 0.6410408042578356, 'precision': 0.6049555068993658, 'recall': 0.6410408042578356, 'f1-score': 0.614529843467613, 'macro_f1-score': 0.250938302144565, 'balanced_accuracy': 0.25744677442616587, 'mcc': 0.5259644456461208, 'train_loss': 0.8041930806340901}\n",
      "Epoch 9/20\n"
     ]
    },
    {
     "name": "stderr",
     "output_type": "stream",
     "text": [
      "100%|██████████| 423/423 [00:43<00:00,  9.81it/s]\n"
     ]
    },
    {
     "name": "stdout",
     "output_type": "stream",
     "text": [
      "{'val_loss': 1.4743665681695037, 'val_accuracy': 0.6215257244234181, 'precision': 0.6241991581064191, 'recall': 0.6215257244234181, 'f1-score': 0.6076367603955625, 'macro_f1-score': 0.2689530662081034, 'balanced_accuracy': 0.2914944505656188, 'mcc': 0.5100515798437162, 'train_loss': 0.7674316924162227}\n",
      "Epoch 10/20\n"
     ]
    },
    {
     "name": "stderr",
     "output_type": "stream",
     "text": [
      "100%|██████████| 423/423 [00:43<00:00,  9.81it/s]\n"
     ]
    },
    {
     "name": "stdout",
     "output_type": "stream",
     "text": [
      "{'val_loss': 1.3775241623087875, 'val_accuracy': 0.6510940272028386, 'precision': 0.6455388180826311, 'recall': 0.6510940272028386, 'f1-score': 0.6332561325619667, 'macro_f1-score': 0.2973798614520391, 'balanced_accuracy': 0.312511834849223, 'mcc': 0.5396389788074302, 'train_loss': 0.6907510196627172}\n",
      "Epoch 11/20\n"
     ]
    },
    {
     "name": "stderr",
     "output_type": "stream",
     "text": [
      "100%|██████████| 423/423 [00:43<00:00,  9.77it/s]\n"
     ]
    },
    {
     "name": "stdout",
     "output_type": "stream",
     "text": [
      "{'val_loss': 1.4798822312984827, 'val_accuracy': 0.6404494382022472, 'precision': 0.6029460944890794, 'recall': 0.6404494382022472, 'f1-score': 0.6071714396267137, 'macro_f1-score': 0.2646167607267452, 'balanced_accuracy': 0.2712522783762151, 'mcc': 0.5198247068834142, 'train_loss': 0.5992317028326064}\n",
      "Epoch 12/20\n"
     ]
    },
    {
     "name": "stderr",
     "output_type": "stream",
     "text": [
      "100%|██████████| 423/423 [00:43<00:00,  9.78it/s]\n"
     ]
    },
    {
     "name": "stdout",
     "output_type": "stream",
     "text": [
      "{'val_loss': 1.5319618217225344, 'val_accuracy': 0.6428149024246008, 'precision': 0.6466864611876383, 'recall': 0.6428149024246008, 'f1-score': 0.6265333347811852, 'macro_f1-score': 0.3027016745283413, 'balanced_accuracy': 0.30259151467693385, 'mcc': 0.5235903943813607, 'train_loss': 0.548816481402615}\n",
      "Epoch 13/20\n"
     ]
    },
    {
     "name": "stderr",
     "output_type": "stream",
     "text": [
      "100%|██████████| 423/423 [00:43<00:00,  9.79it/s]\n"
     ]
    },
    {
     "name": "stdout",
     "output_type": "stream",
     "text": [
      "{'val_loss': 1.4945127398900266, 'val_accuracy': 0.644589000591366, 'precision': 0.6512663594780853, 'recall': 0.644589000591366, 'f1-score': 0.6340917007365066, 'macro_f1-score': 0.30115940064519103, 'balanced_accuracy': 0.3141369262364287, 'mcc': 0.5334790326671497, 'train_loss': 0.5128746715596664}\n",
      "Epoch 14/20\n"
     ]
    },
    {
     "name": "stderr",
     "output_type": "stream",
     "text": [
      "100%|██████████| 423/423 [00:43<00:00,  9.79it/s]\n"
     ]
    },
    {
     "name": "stdout",
     "output_type": "stream",
     "text": [
      "{'val_loss': 1.4730214150446765, 'val_accuracy': 0.6475458308693081, 'precision': 0.6281062327100156, 'recall': 0.6475458308693081, 'f1-score': 0.6290742310659397, 'macro_f1-score': 0.31405780313981524, 'balanced_accuracy': 0.31965059681367886, 'mcc': 0.5331445548713942, 'train_loss': 0.4934807896292625}\n",
      "Epoch 15/20\n"
     ]
    },
    {
     "name": "stderr",
     "output_type": "stream",
     "text": [
      "100%|██████████| 423/423 [00:43<00:00,  9.81it/s]\n"
     ]
    },
    {
     "name": "stdout",
     "output_type": "stream",
     "text": [
      "{'val_loss': 1.5788928843894094, 'val_accuracy': 0.6587817859254879, 'precision': 0.6380819969140166, 'recall': 0.6587817859254879, 'f1-score': 0.6343178717773875, 'macro_f1-score': 0.33311734681550786, 'balanced_accuracy': 0.3327452828635213, 'mcc': 0.5447694648180842, 'train_loss': 0.4377047524085141}\n",
      "Epoch 16/20\n"
     ]
    },
    {
     "name": "stderr",
     "output_type": "stream",
     "text": [
      "100%|██████████| 423/423 [00:43<00:00,  9.80it/s]\n"
     ]
    },
    {
     "name": "stdout",
     "output_type": "stream",
     "text": [
      "{'val_loss': 1.5701784851416103, 'val_accuracy': 0.6611472501478415, 'precision': 0.6743434942412275, 'recall': 0.6611472501478415, 'f1-score': 0.6566003829394454, 'macro_f1-score': 0.37919587489641854, 'balanced_accuracy': 0.37066460154189096, 'mcc': 0.5554584203142163, 'train_loss': 0.3990520773142858}\n",
      "Epoch 17/20\n"
     ]
    },
    {
     "name": "stderr",
     "output_type": "stream",
     "text": [
      "100%|██████████| 423/423 [00:43<00:00,  9.80it/s]\n"
     ]
    },
    {
     "name": "stdout",
     "output_type": "stream",
     "text": [
      "{'val_loss': 1.567082921570202, 'val_accuracy': 0.6558249556475458, 'precision': 0.6663299923643624, 'recall': 0.6558249556475458, 'f1-score': 0.6424415579592956, 'macro_f1-score': 0.34999848067764233, 'balanced_accuracy': 0.3447308026316118, 'mcc': 0.5421682357357036, 'train_loss': 0.39526561431886176}\n",
      "Epoch 18/20\n"
     ]
    },
    {
     "name": "stderr",
     "output_type": "stream",
     "text": [
      "100%|██████████| 423/423 [00:43<00:00,  9.78it/s]\n"
     ]
    },
    {
     "name": "stdout",
     "output_type": "stream",
     "text": [
      "{'val_loss': 1.6346496076516386, 'val_accuracy': 0.6422235363690124, 'precision': 0.6344751707566573, 'recall': 0.6422235363690124, 'f1-score': 0.6265760147182361, 'macro_f1-score': 0.32077375103023614, 'balanced_accuracy': 0.3291947379134183, 'mcc': 0.5304996761445155, 'train_loss': 0.37152041419988263}\n",
      "Epoch 19/20\n"
     ]
    },
    {
     "name": "stderr",
     "output_type": "stream",
     "text": [
      "100%|██████████| 423/423 [00:43<00:00,  9.80it/s]\n"
     ]
    },
    {
     "name": "stdout",
     "output_type": "stream",
     "text": [
      "{'val_loss': 1.6543390787435028, 'val_accuracy': 0.6298048492016558, 'precision': 0.6686319060461773, 'recall': 0.6298048492016558, 'f1-score': 0.6348140304710438, 'macro_f1-score': 0.34095967384379955, 'balanced_accuracy': 0.3640587213741922, 'mcc': 0.5281349540391995, 'train_loss': 0.38080841445102054}\n",
      "Early stopping.\n",
      "\n",
      "[Fold 4]\n",
      "Label distribution after resampling:\n",
      "  label 0: 3179\n",
      "  label 1: 25\n",
      "  label 2: 112\n",
      "  label 3: 24\n",
      "  label 4: 206\n",
      "  label 5: 116\n",
      "  label 6: 94\n",
      "  label 7: 32\n",
      "  label 8: 68\n",
      "  label 9: 64\n",
      "  label 10: 71\n",
      "  label 11: 172\n",
      "  label 12: 193\n",
      "  label 13: 28\n",
      "  label 14: 24\n",
      "  label 15: 24\n",
      "  label 16: 20\n",
      "  label 17: 232\n",
      "  label 18: 92\n",
      "  label 19: 45\n",
      "  label 20: 15\n",
      "  label 21: 35\n",
      "  label 22: 77\n",
      "  label 23: 160\n",
      "  label 24: 16\n",
      "  label 25: 51\n",
      "  label 26: 85\n",
      "  label 27: 49\n",
      "  label 28: 12\n",
      "  label 29: 13\n",
      "  label 30: 15\n",
      "  label 31: 80\n",
      "  label 32: 36\n",
      "  label 33: 32\n",
      "  label 34: 29\n",
      "  label 35: 12\n",
      "  label 36: 28\n",
      "  label 37: 22\n",
      "  label 38: 6\n",
      "  label 39: 103\n",
      "  label 40: 11\n",
      "  label 41: 9\n",
      "  label 42: 148\n",
      "  label 43: 16\n",
      "  label 44: 20\n",
      "  label 45: 8\n",
      "  label 46: 54\n",
      "  label 47: 529\n",
      "  label 48: 201\n",
      "  label 49: 70\n",
      "model is roberta-base bilstm\n"
     ]
    },
    {
     "name": "stderr",
     "output_type": "stream",
     "text": [
      "Some weights of RobertaModel were not initialized from the model checkpoint at roberta-base and are newly initialized: ['pooler.dense.bias', 'pooler.dense.weight']\n",
      "You should probably TRAIN this model on a down-stream task to be able to use it for predictions and inference.\n"
     ]
    },
    {
     "name": "stdout",
     "output_type": "stream",
     "text": [
      "Epoch 1/20\n"
     ]
    },
    {
     "name": "stderr",
     "output_type": "stream",
     "text": [
      "100%|██████████| 423/423 [00:43<00:00,  9.80it/s]\n"
     ]
    },
    {
     "name": "stdout",
     "output_type": "stream",
     "text": [
      "{'val_loss': 1.8671174977185592, 'val_accuracy': 0.5872264931992903, 'precision': 0.3689327365230699, 'recall': 0.5872264931992903, 'f1-score': 0.45214358279415534, 'macro_f1-score': 0.055215792282721415, 'balanced_accuracy': 0.07270930250798958, 'mcc': 0.3945844012697318, 'train_loss': 2.116309162150038}\n",
      "Epoch 2/20\n"
     ]
    },
    {
     "name": "stderr",
     "output_type": "stream",
     "text": [
      "100%|██████████| 423/423 [00:43<00:00,  9.80it/s]\n"
     ]
    },
    {
     "name": "stdout",
     "output_type": "stream",
     "text": [
      "{'val_loss': 1.5739805670279376, 'val_accuracy': 0.6055588409225311, 'precision': 0.4391054205923919, 'recall': 0.6055588409225311, 'f1-score': 0.4973765552162565, 'macro_f1-score': 0.08364896905439684, 'balanced_accuracy': 0.10883950808596995, 'mcc': 0.4412908098091712, 'train_loss': 1.7159942612580374}\n",
      "Epoch 3/20\n"
     ]
    },
    {
     "name": "stderr",
     "output_type": "stream",
     "text": [
      "100%|██████████| 423/423 [00:43<00:00,  9.79it/s]\n"
     ]
    },
    {
     "name": "stdout",
     "output_type": "stream",
     "text": [
      "{'val_loss': 1.5183346749476667, 'val_accuracy': 0.6209343583678297, 'precision': 0.46690238748771246, 'recall': 0.6209343583678297, 'f1-score': 0.5171024221116571, 'macro_f1-score': 0.10146304055376323, 'balanced_accuracy': 0.12202291559936874, 'mcc': 0.4652999710581013, 'train_loss': 1.5245452287208385}\n",
      "Epoch 4/20\n"
     ]
    },
    {
     "name": "stderr",
     "output_type": "stream",
     "text": [
      "100%|██████████| 423/423 [00:43<00:00,  9.79it/s]\n"
     ]
    },
    {
     "name": "stdout",
     "output_type": "stream",
     "text": [
      "{'val_loss': 1.501802604434625, 'val_accuracy': 0.6037847427557658, 'precision': 0.47849322448524473, 'recall': 0.6037847427557658, 'f1-score': 0.5178144568261076, 'macro_f1-score': 0.1225396662454957, 'balanced_accuracy': 0.13192497930070385, 'mcc': 0.4392689550302651, 'train_loss': 1.3742575180446002}\n",
      "Epoch 5/20\n"
     ]
    },
    {
     "name": "stderr",
     "output_type": "stream",
     "text": [
      "100%|██████████| 423/423 [00:43<00:00,  9.81it/s]\n"
     ]
    },
    {
     "name": "stdout",
     "output_type": "stream",
     "text": [
      "{'val_loss': 1.4008083000497997, 'val_accuracy': 0.6197516262566529, 'precision': 0.5541667905008879, 'recall': 0.6197516262566529, 'f1-score': 0.5760505280995394, 'macro_f1-score': 0.19303923958409952, 'balanced_accuracy': 0.20756219600999848, 'mcc': 0.49348878543421437, 'train_loss': 1.2639460931433009}\n",
      "Epoch 6/20\n"
     ]
    },
    {
     "name": "stderr",
     "output_type": "stream",
     "text": [
      "100%|██████████| 423/423 [00:43<00:00,  9.78it/s]\n"
     ]
    },
    {
     "name": "stdout",
     "output_type": "stream",
     "text": [
      "{'val_loss': 1.3573746155455428, 'val_accuracy': 0.6203429923122413, 'precision': 0.5895203235907508, 'recall': 0.6203429923122413, 'f1-score': 0.5861318158258004, 'macro_f1-score': 0.194968924222573, 'balanced_accuracy': 0.22428722281117494, 'mcc': 0.5019346125315192, 'train_loss': 1.1621486951837021}\n",
      "Epoch 7/20\n"
     ]
    },
    {
     "name": "stderr",
     "output_type": "stream",
     "text": [
      "100%|██████████| 423/423 [00:43<00:00,  9.79it/s]\n"
     ]
    },
    {
     "name": "stdout",
     "output_type": "stream",
     "text": [
      "{'val_loss': 1.3053086003604926, 'val_accuracy': 0.6345357776463632, 'precision': 0.5950822975191252, 'recall': 0.6345357776463632, 'f1-score': 0.5993647986403015, 'macro_f1-score': 0.22935474364047245, 'balanced_accuracy': 0.23952269425089184, 'mcc': 0.5155956012865075, 'train_loss': 1.0330195179997326}\n",
      "Epoch 8/20\n"
     ]
    },
    {
     "name": "stderr",
     "output_type": "stream",
     "text": [
      "100%|██████████| 423/423 [00:43<00:00,  9.73it/s]\n"
     ]
    },
    {
     "name": "stdout",
     "output_type": "stream",
     "text": [
      "{'val_loss': 1.4128571357929482, 'val_accuracy': 0.6398580721466588, 'precision': 0.6157758346375825, 'recall': 0.6398580721466588, 'f1-score': 0.610920565696268, 'macro_f1-score': 0.24587726482255529, 'balanced_accuracy': 0.2521113614381146, 'mcc': 0.5170823861320127, 'train_loss': 0.9497624806901241}\n",
      "Epoch 9/20\n"
     ]
    },
    {
     "name": "stderr",
     "output_type": "stream",
     "text": [
      "100%|██████████| 423/423 [00:43<00:00,  9.79it/s]\n"
     ]
    },
    {
     "name": "stdout",
     "output_type": "stream",
     "text": [
      "{'val_loss': 1.3581931028725966, 'val_accuracy': 0.6481371969248965, 'precision': 0.6153350745561349, 'recall': 0.6481371969248965, 'f1-score': 0.6183529163121111, 'macro_f1-score': 0.27346982505697914, 'balanced_accuracy': 0.2786477012863681, 'mcc': 0.5358278324053737, 'train_loss': 0.8484995248188082}\n",
      "Epoch 10/20\n"
     ]
    },
    {
     "name": "stderr",
     "output_type": "stream",
     "text": [
      "100%|██████████| 423/423 [00:43<00:00,  9.80it/s]\n"
     ]
    },
    {
     "name": "stdout",
     "output_type": "stream",
     "text": [
      "{'val_loss': 1.3705981992325693, 'val_accuracy': 0.638675340035482, 'precision': 0.6580289174363668, 'recall': 0.638675340035482, 'f1-score': 0.6340249810235251, 'macro_f1-score': 0.3139454096805533, 'balanced_accuracy': 0.32212927331859015, 'mcc': 0.5360131105644776, 'train_loss': 0.7906087876845759}\n",
      "Epoch 11/20\n"
     ]
    },
    {
     "name": "stderr",
     "output_type": "stream",
     "text": [
      "100%|██████████| 423/423 [00:43<00:00,  9.80it/s]\n"
     ]
    },
    {
     "name": "stdout",
     "output_type": "stream",
     "text": [
      "{'val_loss': 1.4092894719456726, 'val_accuracy': 0.6629213483146067, 'precision': 0.6307416594550067, 'recall': 0.6629213483146067, 'f1-score': 0.6341468848603556, 'macro_f1-score': 0.3047793867260538, 'balanced_accuracy': 0.2945134609059653, 'mcc': 0.5492976659500991, 'train_loss': 0.6911216936389042}\n",
      "Epoch 12/20\n"
     ]
    },
    {
     "name": "stderr",
     "output_type": "stream",
     "text": [
      "100%|██████████| 423/423 [00:43<00:00,  9.80it/s]\n"
     ]
    },
    {
     "name": "stdout",
     "output_type": "stream",
     "text": [
      "{'val_loss': 1.3683560482173596, 'val_accuracy': 0.6617386162034299, 'precision': 0.6501999290598998, 'recall': 0.6617386162034299, 'f1-score': 0.641407091055475, 'macro_f1-score': 0.3459371209604285, 'balanced_accuracy': 0.3356446336110933, 'mcc': 0.5531586248190808, 'train_loss': 0.644241884808732}\n",
      "Epoch 13/20\n"
     ]
    },
    {
     "name": "stderr",
     "output_type": "stream",
     "text": [
      "100%|██████████| 423/423 [00:42<00:00,  9.84it/s]\n"
     ]
    },
    {
     "name": "stdout",
     "output_type": "stream",
     "text": [
      "{'val_loss': 1.4158938220649395, 'val_accuracy': 0.6658781785925488, 'precision': 0.6500530647629108, 'recall': 0.6658781785925488, 'f1-score': 0.6334869933642413, 'macro_f1-score': 0.321939040725885, 'balanced_accuracy': 0.3084184060971429, 'mcc': 0.5501313835841499, 'train_loss': 0.5812281292662834}\n",
      "Epoch 14/20\n"
     ]
    },
    {
     "name": "stderr",
     "output_type": "stream",
     "text": [
      "100%|██████████| 423/423 [00:43<00:00,  9.79it/s]\n"
     ]
    },
    {
     "name": "stdout",
     "output_type": "stream",
     "text": [
      "{'val_loss': 1.462708607737748, 'val_accuracy': 0.6434062684801892, 'precision': 0.6712692992748586, 'recall': 0.6434062684801892, 'f1-score': 0.6414097936163978, 'macro_f1-score': 0.3357006433608784, 'balanced_accuracy': 0.33996365515831406, 'mcc': 0.5433788139593196, 'train_loss': 0.5265514663911599}\n",
      "Epoch 15/20\n"
     ]
    },
    {
     "name": "stderr",
     "output_type": "stream",
     "text": [
      "100%|██████████| 423/423 [00:43<00:00,  9.80it/s]\n"
     ]
    },
    {
     "name": "stdout",
     "output_type": "stream",
     "text": [
      "{'val_loss': 1.4163692277276292, 'val_accuracy': 0.6487285629804849, 'precision': 0.6358433628665043, 'recall': 0.6487285629804849, 'f1-score': 0.6307150069143721, 'macro_f1-score': 0.3355684258692944, 'balanced_accuracy': 0.3312437909515877, 'mcc': 0.5434827293909951, 'train_loss': 0.5195523934443228}\n",
      "Early stopping.\n",
      "\n",
      "[Fold 5]\n",
      "Label distribution after resampling:\n",
      "  label 0: 3180\n",
      "  label 1: 24\n",
      "  label 2: 112\n",
      "  label 3: 24\n",
      "  label 4: 205\n",
      "  label 5: 116\n",
      "  label 6: 95\n",
      "  label 7: 31\n",
      "  label 8: 68\n",
      "  label 9: 65\n",
      "  label 10: 70\n",
      "  label 11: 172\n",
      "  label 12: 193\n",
      "  label 13: 29\n",
      "  label 14: 23\n",
      "  label 15: 25\n",
      "  label 16: 20\n",
      "  label 17: 231\n",
      "  label 18: 93\n",
      "  label 19: 44\n",
      "  label 20: 15\n",
      "  label 21: 35\n",
      "  label 22: 78\n",
      "  label 23: 160\n",
      "  label 24: 16\n",
      "  label 25: 50\n",
      "  label 26: 86\n",
      "  label 27: 48\n",
      "  label 28: 12\n",
      "  label 29: 13\n",
      "  label 30: 15\n",
      "  label 31: 80\n",
      "  label 32: 36\n",
      "  label 33: 32\n",
      "  label 34: 30\n",
      "  label 35: 12\n",
      "  label 36: 28\n",
      "  label 37: 21\n",
      "  label 38: 6\n",
      "  label 39: 104\n",
      "  label 40: 11\n",
      "  label 41: 9\n",
      "  label 42: 147\n",
      "  label 43: 16\n",
      "  label 44: 20\n",
      "  label 45: 9\n",
      "  label 46: 54\n",
      "  label 47: 529\n",
      "  label 48: 202\n",
      "  label 49: 70\n",
      "model is roberta-base bilstm\n"
     ]
    },
    {
     "name": "stderr",
     "output_type": "stream",
     "text": [
      "Some weights of RobertaModel were not initialized from the model checkpoint at roberta-base and are newly initialized: ['pooler.dense.bias', 'pooler.dense.weight']\n",
      "You should probably TRAIN this model on a down-stream task to be able to use it for predictions and inference.\n"
     ]
    },
    {
     "name": "stdout",
     "output_type": "stream",
     "text": [
      "Epoch 1/20\n"
     ]
    },
    {
     "name": "stderr",
     "output_type": "stream",
     "text": [
      "100%|██████████| 423/423 [00:43<00:00,  9.76it/s]\n"
     ]
    },
    {
     "name": "stdout",
     "output_type": "stream",
     "text": [
      "{'val_loss': 1.7889165777080465, 'val_accuracy': 0.58698224852071, 'precision': 0.3841955063640352, 'recall': 0.58698224852071, 'f1-score': 0.4625081327600979, 'macro_f1-score': 0.0612320749118377, 'balanced_accuracy': 0.0762625787672474, 'mcc': 0.39767286586788414, 'train_loss': 2.1289062223817723}\n",
      "Epoch 2/20\n"
     ]
    },
    {
     "name": "stderr",
     "output_type": "stream",
     "text": [
      "100%|██████████| 423/423 [00:43<00:00,  9.77it/s]\n"
     ]
    },
    {
     "name": "stdout",
     "output_type": "stream",
     "text": [
      "{'val_loss': 1.6007610975571398, 'val_accuracy': 0.591715976331361, 'precision': 0.40564933373831036, 'recall': 0.591715976331361, 'f1-score': 0.47213931428761857, 'macro_f1-score': 0.06334169882969791, 'balanced_accuracy': 0.08587380473442288, 'mcc': 0.41012450644715465, 'train_loss': 1.7306234150349953}\n",
      "Epoch 3/20\n"
     ]
    },
    {
     "name": "stderr",
     "output_type": "stream",
     "text": [
      "100%|██████████| 423/423 [00:43<00:00,  9.79it/s]\n"
     ]
    },
    {
     "name": "stdout",
     "output_type": "stream",
     "text": [
      "{'val_loss': 1.4644615335284539, 'val_accuracy': 0.6248520710059171, 'precision': 0.5070607891290917, 'recall': 0.6248520710059171, 'f1-score': 0.5474248304330274, 'macro_f1-score': 0.14327799834804958, 'balanced_accuracy': 0.1606905728479186, 'mcc': 0.4786719797447356, 'train_loss': 1.4904456767066432}\n",
      "Epoch 4/20\n"
     ]
    },
    {
     "name": "stderr",
     "output_type": "stream",
     "text": [
      "100%|██████████| 423/423 [00:43<00:00,  9.78it/s]\n"
     ]
    },
    {
     "name": "stdout",
     "output_type": "stream",
     "text": [
      "{'val_loss': 1.4306050398439731, 'val_accuracy': 0.6313609467455621, 'precision': 0.5670704689271601, 'recall': 0.6313609467455621, 'f1-score': 0.5817903222332862, 'macro_f1-score': 0.17647374649303793, 'balanced_accuracy': 0.17903425565568776, 'mcc': 0.4895050026135261, 'train_loss': 1.3059253237489832}\n",
      "Epoch 5/20\n"
     ]
    },
    {
     "name": "stderr",
     "output_type": "stream",
     "text": [
      "100%|██████████| 423/423 [00:43<00:00,  9.82it/s]\n"
     ]
    },
    {
     "name": "stdout",
     "output_type": "stream",
     "text": [
      "{'val_loss': 1.467623455906814, 'val_accuracy': 0.6230769230769231, 'precision': 0.5958922792674219, 'recall': 0.6230769230769231, 'f1-score': 0.5876155239842589, 'macro_f1-score': 0.1931710052375633, 'balanced_accuracy': 0.20875845284245567, 'mcc': 0.5072520426490874, 'train_loss': 1.1429293008772194}\n",
      "Epoch 6/20\n"
     ]
    },
    {
     "name": "stderr",
     "output_type": "stream",
     "text": [
      "100%|██████████| 423/423 [00:43<00:00,  9.79it/s]\n"
     ]
    },
    {
     "name": "stdout",
     "output_type": "stream",
     "text": [
      "{'val_loss': 1.4202650234384357, 'val_accuracy': 0.6355029585798817, 'precision': 0.6133295388988865, 'recall': 0.6355029585798817, 'f1-score': 0.617059470068536, 'macro_f1-score': 0.26944030206776687, 'balanced_accuracy': 0.28765127781037336, 'mcc': 0.528189717361251, 'train_loss': 1.0628446435674708}\n",
      "Epoch 7/20\n"
     ]
    },
    {
     "name": "stderr",
     "output_type": "stream",
     "text": [
      "100%|██████████| 423/423 [00:43<00:00,  9.79it/s]\n"
     ]
    },
    {
     "name": "stdout",
     "output_type": "stream",
     "text": [
      "{'val_loss': 1.382409982523828, 'val_accuracy': 0.6467455621301775, 'precision': 0.6402046897294356, 'recall': 0.6467455621301775, 'f1-score': 0.6270484420056665, 'macro_f1-score': 0.2700808159605946, 'balanced_accuracy': 0.28219756332594936, 'mcc': 0.5447625488973628, 'train_loss': 0.9360764115414721}\n",
      "Epoch 8/20\n"
     ]
    },
    {
     "name": "stderr",
     "output_type": "stream",
     "text": [
      "100%|██████████| 423/423 [00:43<00:00,  9.80it/s]\n"
     ]
    },
    {
     "name": "stdout",
     "output_type": "stream",
     "text": [
      "{'val_loss': 1.354088454032844, 'val_accuracy': 0.6692307692307692, 'precision': 0.6313133937831178, 'recall': 0.6692307692307692, 'f1-score': 0.6363652558798335, 'macro_f1-score': 0.2873066002127567, 'balanced_accuracy': 0.28058447518213825, 'mcc': 0.5546205945946562, 'train_loss': 0.8306415596752302}\n",
      "Epoch 9/20\n"
     ]
    },
    {
     "name": "stderr",
     "output_type": "stream",
     "text": [
      "100%|██████████| 423/423 [00:43<00:00,  9.78it/s]\n"
     ]
    },
    {
     "name": "stdout",
     "output_type": "stream",
     "text": [
      "{'val_loss': 1.4054475974924159, 'val_accuracy': 0.650887573964497, 'precision': 0.6173884576394348, 'recall': 0.650887573964497, 'f1-score': 0.6250806051788623, 'macro_f1-score': 0.2687256666229077, 'balanced_accuracy': 0.2610302225847493, 'mcc': 0.5303636402858792, 'train_loss': 0.7359993527896579}\n",
      "Epoch 10/20\n"
     ]
    },
    {
     "name": "stderr",
     "output_type": "stream",
     "text": [
      "100%|██████████| 423/423 [00:43<00:00,  9.79it/s]\n"
     ]
    },
    {
     "name": "stdout",
     "output_type": "stream",
     "text": [
      "{'val_loss': 1.433864192861431, 'val_accuracy': 0.6627218934911243, 'precision': 0.6459431455970708, 'recall': 0.6627218934911243, 'f1-score': 0.6412204572791064, 'macro_f1-score': 0.3185948131474079, 'balanced_accuracy': 0.32765167559950575, 'mcc': 0.5546018112848342, 'train_loss': 0.6763843806993313}\n",
      "Epoch 11/20\n"
     ]
    },
    {
     "name": "stderr",
     "output_type": "stream",
     "text": [
      "100%|██████████| 423/423 [00:43<00:00,  9.80it/s]\n"
     ]
    },
    {
     "name": "stdout",
     "output_type": "stream",
     "text": [
      "{'val_loss': 1.446174240337228, 'val_accuracy': 0.6668639053254438, 'precision': 0.6657990041556971, 'recall': 0.6668639053254438, 'f1-score': 0.655437638661401, 'macro_f1-score': 0.30708061222050914, 'balanced_accuracy': 0.3081044394322692, 'mcc': 0.5566753513177799, 'train_loss': 0.6225924013495163}\n",
      "Epoch 12/20\n"
     ]
    },
    {
     "name": "stderr",
     "output_type": "stream",
     "text": [
      "100%|██████████| 423/423 [00:43<00:00,  9.79it/s]\n"
     ]
    },
    {
     "name": "stdout",
     "output_type": "stream",
     "text": [
      "{'val_loss': 1.4637540210530442, 'val_accuracy': 0.663905325443787, 'precision': 0.6476559129876264, 'recall': 0.663905325443787, 'f1-score': 0.6435494836070124, 'macro_f1-score': 0.3172175092971106, 'balanced_accuracy': 0.3365308880058877, 'mcc': 0.5580748190843683, 'train_loss': 0.5740738061408625}\n",
      "Epoch 13/20\n"
     ]
    },
    {
     "name": "stderr",
     "output_type": "stream",
     "text": [
      "100%|██████████| 423/423 [00:43<00:00,  9.81it/s]\n"
     ]
    },
    {
     "name": "stdout",
     "output_type": "stream",
     "text": [
      "{'val_loss': 1.5026799052391413, 'val_accuracy': 0.6609467455621302, 'precision': 0.6470470827096864, 'recall': 0.6609467455621302, 'f1-score': 0.6430960716572334, 'macro_f1-score': 0.305556178558673, 'balanced_accuracy': 0.2989290738824649, 'mcc': 0.5495745530825796, 'train_loss': 0.49858660950164707}\n",
      "Early stopping.\n",
      "\n",
      " === roberta-base + bilstm + none Final 10-fold Cross-Validation Results ===\n",
      "Total time: 4148 seconds\n",
      "Total time: 1 hrs 9 mins 8 secs\n",
      "val_loss: 1.5101\n",
      "val_accuracy: 0.6568\n",
      "precision: 0.6536\n",
      "recall: 0.6568\n",
      "f1-score: 0.6438\n",
      "macro_f1-score: 0.3418\n",
      "balanced_accuracy: 0.3405\n",
      "mcc: 0.5483\n",
      "train_loss: 0.5409\n",
      "▶ Running: microsoft/deberta-base + plain + none\n",
      "tokenizer is microsoft/deberta-base\n",
      "Using device: cuda\n",
      "CUDA Available: True\n",
      "CUDA Device: NVIDIA GeForce RTX 5070 Ti\n",
      "Current GPU Memory Allocated: 0.02 GB\n",
      "Current GPU Memory Cached: 3.92 GB\n",
      "\n",
      "[Fold 1]\n",
      "Label distribution after resampling:\n",
      "  label 0: 3179\n",
      "  label 1: 25\n",
      "  label 2: 112\n",
      "  label 3: 24\n",
      "  label 4: 205\n",
      "  label 5: 116\n",
      "  label 6: 95\n",
      "  label 7: 31\n",
      "  label 8: 68\n",
      "  label 9: 65\n",
      "  label 10: 70\n",
      "  label 11: 172\n",
      "  label 12: 193\n",
      "  label 13: 29\n",
      "  label 14: 23\n",
      "  label 15: 25\n",
      "  label 16: 20\n",
      "  label 17: 231\n",
      "  label 18: 93\n",
      "  label 19: 45\n",
      "  label 20: 14\n",
      "  label 21: 35\n",
      "  label 22: 78\n",
      "  label 23: 160\n",
      "  label 24: 16\n",
      "  label 25: 50\n",
      "  label 26: 86\n",
      "  label 27: 49\n",
      "  label 28: 12\n",
      "  label 29: 13\n",
      "  label 30: 15\n",
      "  label 31: 80\n",
      "  label 32: 36\n",
      "  label 33: 32\n",
      "  label 34: 30\n",
      "  label 35: 12\n",
      "  label 36: 28\n",
      "  label 37: 21\n",
      "  label 38: 6\n",
      "  label 39: 103\n",
      "  label 40: 12\n",
      "  label 41: 8\n",
      "  label 42: 147\n",
      "  label 43: 16\n",
      "  label 44: 20\n",
      "  label 45: 9\n",
      "  label 46: 54\n",
      "  label 47: 529\n",
      "  label 48: 202\n",
      "  label 49: 69\n",
      "model is microsoft/deberta-base\n"
     ]
    },
    {
     "name": "stderr",
     "output_type": "stream",
     "text": [
      "Some weights of DebertaForSequenceClassification were not initialized from the model checkpoint at microsoft/deberta-base and are newly initialized: ['classifier.bias', 'classifier.weight', 'pooler.dense.bias', 'pooler.dense.weight']\n",
      "You should probably TRAIN this model on a down-stream task to be able to use it for predictions and inference.\n"
     ]
    },
    {
     "name": "stdout",
     "output_type": "stream",
     "text": [
      "Epoch 1/20\n"
     ]
    },
    {
     "name": "stderr",
     "output_type": "stream",
     "text": [
      "100%|██████████| 423/423 [00:47<00:00,  8.95it/s]\n"
     ]
    },
    {
     "name": "stdout",
     "output_type": "stream",
     "text": [
      "{'val_loss': 1.692388486187413, 'val_accuracy': 0.5949142519219397, 'precision': 0.3939891228895941, 'recall': 0.5949142519219397, 'f1-score': 0.46428068720819693, 'macro_f1-score': 0.07131218281529693, 'balanced_accuracy': 0.08326504914517276, 'mcc': 0.4075252343853395, 'train_loss': 2.031579250844094}\n",
      "Epoch 2/20\n"
     ]
    },
    {
     "name": "stderr",
     "output_type": "stream",
     "text": [
      "100%|██████████| 423/423 [00:46<00:00,  9.15it/s]\n"
     ]
    },
    {
     "name": "stdout",
     "output_type": "stream",
     "text": [
      "{'val_loss': 1.4077877444478701, 'val_accuracy': 0.628622117090479, 'precision': 0.5741638373131445, 'recall': 0.628622117090479, 'f1-score': 0.5694287161829585, 'macro_f1-score': 0.18330653923750925, 'balanced_accuracy': 0.19029423879883361, 'mcc': 0.4825149966506233, 'train_loss': 1.4979693069525644}\n",
      "Epoch 3/20\n"
     ]
    },
    {
     "name": "stderr",
     "output_type": "stream",
     "text": [
      "100%|██████████| 423/423 [00:46<00:00,  9.13it/s]\n"
     ]
    },
    {
     "name": "stdout",
     "output_type": "stream",
     "text": [
      "{'val_loss': 1.3221116468029201, 'val_accuracy': 0.6363098758131284, 'precision': 0.5872295104159536, 'recall': 0.6363098758131284, 'f1-score': 0.5734528839343774, 'macro_f1-score': 0.2029082563371969, 'balanced_accuracy': 0.20534657628204842, 'mcc': 0.49344253305093966, 'train_loss': 1.2199391639542636}\n",
      "Epoch 4/20\n"
     ]
    },
    {
     "name": "stderr",
     "output_type": "stream",
     "text": [
      "100%|██████████| 423/423 [00:46<00:00,  9.07it/s]\n"
     ]
    },
    {
     "name": "stdout",
     "output_type": "stream",
     "text": [
      "{'val_loss': 1.3218231788783703, 'val_accuracy': 0.6457717327025428, 'precision': 0.6091312971616372, 'recall': 0.6457717327025428, 'f1-score': 0.6101641143111229, 'macro_f1-score': 0.24914004713989066, 'balanced_accuracy': 0.24554986380283192, 'mcc': 0.5228608843685225, 'train_loss': 0.9736017823994301}\n",
      "Epoch 5/20\n"
     ]
    },
    {
     "name": "stderr",
     "output_type": "stream",
     "text": [
      "100%|██████████| 423/423 [00:46<00:00,  9.08it/s]\n"
     ]
    },
    {
     "name": "stdout",
     "output_type": "stream",
     "text": [
      "{'val_loss': 1.2939362658082314, 'val_accuracy': 0.6605558840922531, 'precision': 0.6472976157385086, 'recall': 0.6605558840922531, 'f1-score': 0.635227494328311, 'macro_f1-score': 0.3244173897883554, 'balanced_accuracy': 0.3184608223769596, 'mcc': 0.5422288449860264, 'train_loss': 0.7655774368673351}\n",
      "Epoch 6/20\n"
     ]
    },
    {
     "name": "stderr",
     "output_type": "stream",
     "text": [
      "100%|██████████| 423/423 [00:46<00:00,  9.07it/s]\n"
     ]
    },
    {
     "name": "stdout",
     "output_type": "stream",
     "text": [
      "{'val_loss': 1.4710870323316105, 'val_accuracy': 0.6570076877587226, 'precision': 0.6296934981694186, 'recall': 0.6570076877587226, 'f1-score': 0.6263733925351853, 'macro_f1-score': 0.306890666805742, 'balanced_accuracy': 0.2845623825358769, 'mcc': 0.5356306156565129, 'train_loss': 0.6111942261950626}\n",
      "Epoch 7/20\n"
     ]
    },
    {
     "name": "stderr",
     "output_type": "stream",
     "text": [
      "100%|██████████| 423/423 [00:46<00:00,  9.13it/s]\n"
     ]
    },
    {
     "name": "stdout",
     "output_type": "stream",
     "text": [
      "{'val_loss': 1.4933518331568196, 'val_accuracy': 0.6327616794795978, 'precision': 0.6572590336144551, 'recall': 0.6327616794795978, 'f1-score': 0.6335436044187494, 'macro_f1-score': 0.35556136935193167, 'balanced_accuracy': 0.3607869846200121, 'mcc': 0.5313346364876576, 'train_loss': 0.48829188815430336}\n",
      "Epoch 8/20\n"
     ]
    },
    {
     "name": "stderr",
     "output_type": "stream",
     "text": [
      "100%|██████████| 423/423 [00:46<00:00,  9.05it/s]\n"
     ]
    },
    {
     "name": "stdout",
     "output_type": "stream",
     "text": [
      "{'val_loss': 1.4265855469231337, 'val_accuracy': 0.6682436428149024, 'precision': 0.6669041599848006, 'recall': 0.6682436428149024, 'f1-score': 0.6548644154027574, 'macro_f1-score': 0.3702424732655698, 'balanced_accuracy': 0.365775435350174, 'mcc': 0.5660626684342491, 'train_loss': 0.3974410507246746}\n",
      "Epoch 9/20\n"
     ]
    },
    {
     "name": "stderr",
     "output_type": "stream",
     "text": [
      "100%|██████████| 423/423 [00:46<00:00,  9.14it/s]\n"
     ]
    },
    {
     "name": "stdout",
     "output_type": "stream",
     "text": [
      "{'val_loss': 1.5086263564397704, 'val_accuracy': 0.6664695446481372, 'precision': 0.6740889861031047, 'recall': 0.6664695446481372, 'f1-score': 0.6548777764513675, 'macro_f1-score': 0.3742270161364329, 'balanced_accuracy': 0.361747738129568, 'mcc': 0.5568075881936898, 'train_loss': 0.34140415402045626}\n",
      "Epoch 10/20\n"
     ]
    },
    {
     "name": "stderr",
     "output_type": "stream",
     "text": [
      "100%|██████████| 423/423 [00:46<00:00,  9.07it/s]\n"
     ]
    },
    {
     "name": "stdout",
     "output_type": "stream",
     "text": [
      "{'val_loss': 1.6138911548088182, 'val_accuracy': 0.6694263749260793, 'precision': 0.6705882505250843, 'recall': 0.6694263749260793, 'f1-score': 0.6553132945021792, 'macro_f1-score': 0.3881225976136612, 'balanced_accuracy': 0.3738863505260936, 'mcc': 0.5613659444158065, 'train_loss': 0.29088993787316353}\n",
      "Epoch 11/20\n"
     ]
    },
    {
     "name": "stderr",
     "output_type": "stream",
     "text": [
      "100%|██████████| 423/423 [00:46<00:00,  9.05it/s]\n"
     ]
    },
    {
     "name": "stdout",
     "output_type": "stream",
     "text": [
      "{'val_loss': 1.8194930938617238, 'val_accuracy': 0.6652868125369604, 'precision': 0.6439943033953578, 'recall': 0.6652868125369604, 'f1-score': 0.6324086601877514, 'macro_f1-score': 0.331844011148685, 'balanced_accuracy': 0.30220906881570725, 'mcc': 0.5397116963513848, 'train_loss': 0.25453482434179975}\n",
      "Epoch 12/20\n"
     ]
    },
    {
     "name": "stderr",
     "output_type": "stream",
     "text": [
      "100%|██████████| 423/423 [00:46<00:00,  9.09it/s]\n"
     ]
    },
    {
     "name": "stdout",
     "output_type": "stream",
     "text": [
      "{'val_loss': 1.6540840577404454, 'val_accuracy': 0.6599645180366647, 'precision': 0.6717395880072511, 'recall': 0.6599645180366647, 'f1-score': 0.6559686202162439, 'macro_f1-score': 0.3924932063812366, 'balanced_accuracy': 0.40091991791397363, 'mcc': 0.56065339752029, 'train_loss': 0.2824490389392555}\n",
      "Epoch 13/20\n"
     ]
    },
    {
     "name": "stderr",
     "output_type": "stream",
     "text": [
      "100%|██████████| 423/423 [00:46<00:00,  9.07it/s]\n"
     ]
    },
    {
     "name": "stdout",
     "output_type": "stream",
     "text": [
      "{'val_loss': 1.790150470609935, 'val_accuracy': 0.6824364281490243, 'precision': 0.669758793456494, 'recall': 0.6824364281490243, 'f1-score': 0.6577492816346593, 'macro_f1-score': 0.3945004819803494, 'balanced_accuracy': 0.34892656883100126, 'mcc': 0.5651932080840562, 'train_loss': 0.24860984760823154}\n",
      "Epoch 14/20\n"
     ]
    },
    {
     "name": "stderr",
     "output_type": "stream",
     "text": [
      "100%|██████████| 423/423 [00:46<00:00,  9.13it/s]\n"
     ]
    },
    {
     "name": "stdout",
     "output_type": "stream",
     "text": [
      "{'val_loss': 1.7279116407317936, 'val_accuracy': 0.6587817859254879, 'precision': 0.6554345481619368, 'recall': 0.6587817859254879, 'f1-score': 0.6472611791725695, 'macro_f1-score': 0.3855301463722051, 'balanced_accuracy': 0.3699941614860225, 'mcc': 0.5512490195741607, 'train_loss': 0.24129314799671972}\n",
      "Epoch 15/20\n"
     ]
    },
    {
     "name": "stderr",
     "output_type": "stream",
     "text": [
      "100%|██████████| 423/423 [00:46<00:00,  9.04it/s]\n"
     ]
    },
    {
     "name": "stdout",
     "output_type": "stream",
     "text": [
      "{'val_loss': 1.7702276951299523, 'val_accuracy': 0.654642223536369, 'precision': 0.6709217874276213, 'recall': 0.654642223536369, 'f1-score': 0.6535612601779494, 'macro_f1-score': 0.39135568111294, 'balanced_accuracy': 0.4007436777654306, 'mcc': 0.5525379583985365, 'train_loss': 0.2317551219627816}\n",
      "Epoch 16/20\n"
     ]
    },
    {
     "name": "stderr",
     "output_type": "stream",
     "text": [
      "100%|██████████| 423/423 [00:46<00:00,  9.15it/s]\n"
     ]
    },
    {
     "name": "stdout",
     "output_type": "stream",
     "text": [
      "{'val_loss': 1.779887079911412, 'val_accuracy': 0.6605558840922531, 'precision': 0.6663880765366743, 'recall': 0.6605558840922531, 'f1-score': 0.6563202383291198, 'macro_f1-score': 0.3999405020773574, 'balanced_accuracy': 0.38919842922736847, 'mcc': 0.5537382940030697, 'train_loss': 0.1955833594396217}\n",
      "Epoch 17/20\n"
     ]
    },
    {
     "name": "stderr",
     "output_type": "stream",
     "text": [
      "100%|██████████| 423/423 [00:46<00:00,  9.06it/s]\n"
     ]
    },
    {
     "name": "stdout",
     "output_type": "stream",
     "text": [
      "{'val_loss': 1.901863030667575, 'val_accuracy': 0.6712004730928445, 'precision': 0.6657228810239453, 'recall': 0.6712004730928445, 'f1-score': 0.6528564303649046, 'macro_f1-score': 0.38586718966720895, 'balanced_accuracy': 0.3694807251374339, 'mcc': 0.5603938370706336, 'train_loss': 0.2006907364916074}\n",
      "Epoch 18/20\n"
     ]
    },
    {
     "name": "stderr",
     "output_type": "stream",
     "text": [
      "100%|██████████| 423/423 [00:46<00:00,  9.08it/s]\n"
     ]
    },
    {
     "name": "stdout",
     "output_type": "stream",
     "text": [
      "{'val_loss': 1.7739378652482662, 'val_accuracy': 0.6818450620934359, 'precision': 0.661180152244294, 'recall': 0.6818450620934359, 'f1-score': 0.6561737086846052, 'macro_f1-score': 0.38474826167254045, 'balanced_accuracy': 0.3552853179281095, 'mcc': 0.5683137112946891, 'train_loss': 0.21936380614506754}\n",
      "Epoch 19/20\n"
     ]
    },
    {
     "name": "stderr",
     "output_type": "stream",
     "text": [
      "100%|██████████| 423/423 [00:46<00:00,  9.06it/s]\n"
     ]
    },
    {
     "name": "stdout",
     "output_type": "stream",
     "text": [
      "{'val_loss': 1.8745415674627952, 'val_accuracy': 0.6635127143701951, 'precision': 0.6560045868004906, 'recall': 0.6635127143701951, 'f1-score': 0.6488545737117299, 'macro_f1-score': 0.40150807700193103, 'balanced_accuracy': 0.3947507665066324, 'mcc': 0.5508280750622095, 'train_loss': 0.21649549032801468}\n",
      "Epoch 20/20\n"
     ]
    },
    {
     "name": "stderr",
     "output_type": "stream",
     "text": [
      "100%|██████████| 423/423 [00:46<00:00,  9.06it/s]\n"
     ]
    },
    {
     "name": "stdout",
     "output_type": "stream",
     "text": [
      "{'val_loss': 1.854131726161489, 'val_accuracy': 0.667652276759314, 'precision': 0.6587484543260423, 'recall': 0.667652276759314, 'f1-score': 0.6512129674271806, 'macro_f1-score': 0.3844288538071479, 'balanced_accuracy': 0.3712551056434779, 'mcc': 0.553498132612622, 'train_loss': 0.25602328808027064}\n",
      "\n",
      "[Fold 2]\n",
      "Label distribution after resampling:\n",
      "  label 0: 3179\n",
      "  label 1: 25\n",
      "  label 2: 112\n",
      "  label 3: 24\n",
      "  label 4: 206\n",
      "  label 5: 116\n",
      "  label 6: 94\n",
      "  label 7: 31\n",
      "  label 8: 68\n",
      "  label 9: 65\n",
      "  label 10: 70\n",
      "  label 11: 172\n",
      "  label 12: 193\n",
      "  label 13: 29\n",
      "  label 14: 23\n",
      "  label 15: 25\n",
      "  label 16: 20\n",
      "  label 17: 231\n",
      "  label 18: 93\n",
      "  label 19: 45\n",
      "  label 20: 14\n",
      "  label 21: 35\n",
      "  label 22: 78\n",
      "  label 23: 160\n",
      "  label 24: 16\n",
      "  label 25: 50\n",
      "  label 26: 86\n",
      "  label 27: 49\n",
      "  label 28: 12\n",
      "  label 29: 13\n",
      "  label 30: 15\n",
      "  label 31: 80\n",
      "  label 32: 36\n",
      "  label 33: 32\n",
      "  label 34: 30\n",
      "  label 35: 12\n",
      "  label 36: 28\n",
      "  label 37: 22\n",
      "  label 38: 5\n",
      "  label 39: 103\n",
      "  label 40: 11\n",
      "  label 41: 9\n",
      "  label 42: 147\n",
      "  label 43: 16\n",
      "  label 44: 20\n",
      "  label 45: 9\n",
      "  label 46: 55\n",
      "  label 47: 528\n",
      "  label 48: 202\n",
      "  label 49: 69\n",
      "model is microsoft/deberta-base\n"
     ]
    },
    {
     "name": "stderr",
     "output_type": "stream",
     "text": [
      "Some weights of DebertaForSequenceClassification were not initialized from the model checkpoint at microsoft/deberta-base and are newly initialized: ['classifier.bias', 'classifier.weight', 'pooler.dense.bias', 'pooler.dense.weight']\n",
      "You should probably TRAIN this model on a down-stream task to be able to use it for predictions and inference.\n"
     ]
    },
    {
     "name": "stdout",
     "output_type": "stream",
     "text": [
      "Epoch 1/20\n"
     ]
    },
    {
     "name": "stderr",
     "output_type": "stream",
     "text": [
      "100%|██████████| 423/423 [00:46<00:00,  9.09it/s]\n"
     ]
    },
    {
     "name": "stdout",
     "output_type": "stream",
     "text": [
      "{'val_loss': 1.527864469109841, 'val_accuracy': 0.615612063867534, 'precision': 0.5323440468460882, 'recall': 0.615612063867534, 'f1-score': 0.5445640889108193, 'macro_f1-score': 0.14025399414529374, 'balanced_accuracy': 0.14900909973737153, 'mcc': 0.46065921588207026, 'train_loss': 1.895898077223036}\n",
      "Epoch 2/20\n"
     ]
    },
    {
     "name": "stderr",
     "output_type": "stream",
     "text": [
      "100%|██████████| 423/423 [00:46<00:00,  9.09it/s]\n"
     ]
    },
    {
     "name": "stdout",
     "output_type": "stream",
     "text": [
      "{'val_loss': 2.0945672966399282, 'val_accuracy': 0.5464222353636902, 'precision': 0.3928829446395517, 'recall': 0.5464222353636902, 'f1-score': 0.45479712585950055, 'macro_f1-score': 0.052458333878104654, 'balanced_accuracy': 0.07570372336175507, 'mcc': 0.35838381230915056, 'train_loss': 1.528819600036522}\n",
      "Epoch 3/20\n"
     ]
    },
    {
     "name": "stderr",
     "output_type": "stream",
     "text": [
      "100%|██████████| 423/423 [00:45<00:00,  9.23it/s]\n"
     ]
    },
    {
     "name": "stdout",
     "output_type": "stream",
     "text": [
      "{'val_loss': 2.439297268975456, 'val_accuracy': 0.47072738024837374, 'precision': 0.23843921376674965, 'recall': 0.47072738024837374, 'f1-score': 0.30207578056034073, 'macro_f1-score': 0.014135265700483091, 'balanced_accuracy': 0.020689655172413793, 'mcc': 0.02633003246467499, 'train_loss': 2.1753527392450516}\n",
      "Epoch 4/20\n"
     ]
    },
    {
     "name": "stderr",
     "output_type": "stream",
     "text": [
      "100%|██████████| 423/423 [00:46<00:00,  9.07it/s]\n"
     ]
    },
    {
     "name": "stdout",
     "output_type": "stream",
     "text": [
      "{'val_loss': 2.48066675775456, 'val_accuracy': 0.47013601419278533, 'precision': 0.22102787184107886, 'recall': 0.47013601419278533, 'f1-score': 0.30069037110479835, 'macro_f1-score': 0.012791633145615447, 'balanced_accuracy': 0.02, 'mcc': 0.0, 'train_loss': 2.16559036826411}\n",
      "Early stopping.\n",
      "\n",
      "[Fold 3]\n",
      "Label distribution after resampling:\n",
      "  label 0: 3179\n",
      "  label 1: 25\n",
      "  label 2: 112\n",
      "  label 3: 24\n",
      "  label 4: 206\n",
      "  label 5: 116\n",
      "  label 6: 94\n",
      "  label 7: 31\n",
      "  label 8: 68\n",
      "  label 9: 65\n",
      "  label 10: 71\n",
      "  label 11: 172\n",
      "  label 12: 192\n",
      "  label 13: 29\n",
      "  label 14: 23\n",
      "  label 15: 25\n",
      "  label 16: 20\n",
      "  label 17: 231\n",
      "  label 18: 93\n",
      "  label 19: 45\n",
      "  label 20: 14\n",
      "  label 21: 36\n",
      "  label 22: 77\n",
      "  label 23: 160\n",
      "  label 24: 16\n",
      "  label 25: 51\n",
      "  label 26: 85\n",
      "  label 27: 49\n",
      "  label 28: 12\n",
      "  label 29: 12\n",
      "  label 30: 16\n",
      "  label 31: 80\n",
      "  label 32: 36\n",
      "  label 33: 32\n",
      "  label 34: 29\n",
      "  label 35: 12\n",
      "  label 36: 28\n",
      "  label 37: 22\n",
      "  label 38: 5\n",
      "  label 39: 103\n",
      "  label 40: 11\n",
      "  label 41: 9\n",
      "  label 42: 147\n",
      "  label 43: 16\n",
      "  label 44: 20\n",
      "  label 45: 9\n",
      "  label 46: 55\n",
      "  label 47: 529\n",
      "  label 48: 201\n",
      "  label 49: 70\n",
      "model is microsoft/deberta-base\n"
     ]
    },
    {
     "name": "stderr",
     "output_type": "stream",
     "text": [
      "Some weights of DebertaForSequenceClassification were not initialized from the model checkpoint at microsoft/deberta-base and are newly initialized: ['classifier.bias', 'classifier.weight', 'pooler.dense.bias', 'pooler.dense.weight']\n",
      "You should probably TRAIN this model on a down-stream task to be able to use it for predictions and inference.\n"
     ]
    },
    {
     "name": "stdout",
     "output_type": "stream",
     "text": [
      "Epoch 1/20\n"
     ]
    },
    {
     "name": "stderr",
     "output_type": "stream",
     "text": [
      "100%|██████████| 423/423 [00:46<00:00,  9.03it/s]\n"
     ]
    },
    {
     "name": "stdout",
     "output_type": "stream",
     "text": [
      "{'val_loss': 1.513534368771427, 'val_accuracy': 0.5960969840331165, 'precision': 0.48681845330621615, 'recall': 0.5960969840331165, 'f1-score': 0.5097604266392309, 'macro_f1-score': 0.11746779352647269, 'balanced_accuracy': 0.12741957589775285, 'mcc': 0.4228578656449905, 'train_loss': 1.9116804398261626}\n",
      "Epoch 2/20\n"
     ]
    },
    {
     "name": "stderr",
     "output_type": "stream",
     "text": [
      "100%|██████████| 423/423 [00:46<00:00,  9.01it/s]\n"
     ]
    },
    {
     "name": "stdout",
     "output_type": "stream",
     "text": [
      "{'val_loss': 1.3455445800187453, 'val_accuracy': 0.6363098758131284, 'precision': 0.5753670327078801, 'recall': 0.6363098758131284, 'f1-score': 0.5881443925005742, 'macro_f1-score': 0.20047907634833634, 'balanced_accuracy': 0.20838097769800934, 'mcc': 0.5084395662524508, 'train_loss': 1.3411212225332327}\n",
      "Epoch 3/20\n"
     ]
    },
    {
     "name": "stderr",
     "output_type": "stream",
     "text": [
      "100%|██████████| 423/423 [00:46<00:00,  9.05it/s]\n"
     ]
    },
    {
     "name": "stdout",
     "output_type": "stream",
     "text": [
      "{'val_loss': 1.2902782002709947, 'val_accuracy': 0.6439976345357776, 'precision': 0.5892912083100795, 'recall': 0.6439976345357776, 'f1-score': 0.5937012253259093, 'macro_f1-score': 0.2291337396412044, 'balanced_accuracy': 0.2182624999042605, 'mcc': 0.5091988030893365, 'train_loss': 1.037530189181896}\n",
      "Epoch 4/20\n"
     ]
    },
    {
     "name": "stderr",
     "output_type": "stream",
     "text": [
      "100%|██████████| 423/423 [00:46<00:00,  9.08it/s]\n"
     ]
    },
    {
     "name": "stdout",
     "output_type": "stream",
     "text": [
      "{'val_loss': 1.3002739374367696, 'val_accuracy': 0.6617386162034299, 'precision': 0.6225760546095981, 'recall': 0.6617386162034299, 'f1-score': 0.619245690343299, 'macro_f1-score': 0.2937418543159713, 'balanced_accuracy': 0.272248049948454, 'mcc': 0.5340980819667337, 'train_loss': 0.7954746871024159}\n",
      "Epoch 5/20\n"
     ]
    },
    {
     "name": "stderr",
     "output_type": "stream",
     "text": [
      "100%|██████████| 423/423 [00:46<00:00,  9.02it/s]\n"
     ]
    },
    {
     "name": "stdout",
     "output_type": "stream",
     "text": [
      "{'val_loss': 1.312349168197164, 'val_accuracy': 0.6599645180366647, 'precision': 0.6439302687824959, 'recall': 0.6599645180366647, 'f1-score': 0.6356047568481806, 'macro_f1-score': 0.3230289326403849, 'balanced_accuracy': 0.30162684836448456, 'mcc': 0.5372425849512126, 'train_loss': 0.6097890757746448}\n",
      "Epoch 6/20\n"
     ]
    },
    {
     "name": "stderr",
     "output_type": "stream",
     "text": [
      "100%|██████████| 423/423 [00:46<00:00,  9.07it/s]\n"
     ]
    },
    {
     "name": "stdout",
     "output_type": "stream",
     "text": [
      "{'val_loss': 1.3934437174279735, 'val_accuracy': 0.6712004730928445, 'precision': 0.6706367490234049, 'recall': 0.6712004730928445, 'f1-score': 0.6596326054104032, 'macro_f1-score': 0.35495913343619123, 'balanced_accuracy': 0.339370906981365, 'mcc': 0.5698673765504919, 'train_loss': 0.45957421338797744}\n",
      "Epoch 7/20\n"
     ]
    },
    {
     "name": "stderr",
     "output_type": "stream",
     "text": [
      "100%|██████████| 423/423 [00:46<00:00,  9.08it/s]\n"
     ]
    },
    {
     "name": "stdout",
     "output_type": "stream",
     "text": [
      "{'val_loss': 1.4932113028359864, 'val_accuracy': 0.6611472501478415, 'precision': 0.6466094361135138, 'recall': 0.6611472501478415, 'f1-score': 0.6437961712379536, 'macro_f1-score': 0.33979378822857453, 'balanced_accuracy': 0.3202225162721151, 'mcc': 0.5500043486578389, 'train_loss': 0.3630772211388564}\n",
      "Epoch 8/20\n"
     ]
    },
    {
     "name": "stderr",
     "output_type": "stream",
     "text": [
      "100%|██████████| 423/423 [00:46<00:00,  9.00it/s]\n"
     ]
    },
    {
     "name": "stdout",
     "output_type": "stream",
     "text": [
      "{'val_loss': 2.516521254800401, 'val_accuracy': 0.47013601419278533, 'precision': 0.22102787184107886, 'recall': 0.47013601419278533, 'f1-score': 0.30069037110479835, 'macro_f1-score': 0.012791633145615447, 'balanced_accuracy': 0.02, 'mcc': 0.0, 'train_loss': 0.8706776717431121}\n",
      "Epoch 9/20\n"
     ]
    },
    {
     "name": "stderr",
     "output_type": "stream",
     "text": [
      "100%|██████████| 423/423 [00:46<00:00,  9.02it/s]\n"
     ]
    },
    {
     "name": "stdout",
     "output_type": "stream",
     "text": [
      "{'val_loss': 2.4950716191867612, 'val_accuracy': 0.47013601419278533, 'precision': 0.22102787184107886, 'recall': 0.47013601419278533, 'f1-score': 0.30069037110479835, 'macro_f1-score': 0.012791633145615447, 'balanced_accuracy': 0.02, 'mcc': 0.0, 'train_loss': 2.525641371736008}\n",
      "Early stopping.\n",
      "\n",
      "[Fold 4]\n",
      "Label distribution after resampling:\n",
      "  label 0: 3179\n",
      "  label 1: 25\n",
      "  label 2: 112\n",
      "  label 3: 24\n",
      "  label 4: 206\n",
      "  label 5: 116\n",
      "  label 6: 94\n",
      "  label 7: 32\n",
      "  label 8: 68\n",
      "  label 9: 64\n",
      "  label 10: 71\n",
      "  label 11: 172\n",
      "  label 12: 193\n",
      "  label 13: 28\n",
      "  label 14: 24\n",
      "  label 15: 24\n",
      "  label 16: 20\n",
      "  label 17: 232\n",
      "  label 18: 92\n",
      "  label 19: 45\n",
      "  label 20: 15\n",
      "  label 21: 35\n",
      "  label 22: 77\n",
      "  label 23: 160\n",
      "  label 24: 16\n",
      "  label 25: 51\n",
      "  label 26: 85\n",
      "  label 27: 49\n",
      "  label 28: 12\n",
      "  label 29: 13\n",
      "  label 30: 15\n",
      "  label 31: 80\n",
      "  label 32: 36\n",
      "  label 33: 32\n",
      "  label 34: 29\n",
      "  label 35: 12\n",
      "  label 36: 28\n",
      "  label 37: 22\n",
      "  label 38: 6\n",
      "  label 39: 103\n",
      "  label 40: 11\n",
      "  label 41: 9\n",
      "  label 42: 148\n",
      "  label 43: 16\n",
      "  label 44: 20\n",
      "  label 45: 8\n",
      "  label 46: 54\n",
      "  label 47: 529\n",
      "  label 48: 201\n",
      "  label 49: 70\n",
      "model is microsoft/deberta-base\n"
     ]
    },
    {
     "name": "stderr",
     "output_type": "stream",
     "text": [
      "Some weights of DebertaForSequenceClassification were not initialized from the model checkpoint at microsoft/deberta-base and are newly initialized: ['classifier.bias', 'classifier.weight', 'pooler.dense.bias', 'pooler.dense.weight']\n",
      "You should probably TRAIN this model on a down-stream task to be able to use it for predictions and inference.\n"
     ]
    },
    {
     "name": "stdout",
     "output_type": "stream",
     "text": [
      "Epoch 1/20\n"
     ]
    },
    {
     "name": "stderr",
     "output_type": "stream",
     "text": [
      "100%|██████████| 423/423 [00:46<00:00,  9.02it/s]\n"
     ]
    },
    {
     "name": "stdout",
     "output_type": "stream",
     "text": [
      "{'val_loss': 1.5698670311918799, 'val_accuracy': 0.5919574216439977, 'precision': 0.4406187683945376, 'recall': 0.5919574216439977, 'f1-score': 0.4896029039845651, 'macro_f1-score': 0.09384725194341978, 'balanced_accuracy': 0.10841626508156135, 'mcc': 0.4102418999520158, 'train_loss': 1.9251350491323087}\n",
      "Epoch 2/20\n"
     ]
    },
    {
     "name": "stderr",
     "output_type": "stream",
     "text": [
      "100%|██████████| 423/423 [00:46<00:00,  9.05it/s]\n"
     ]
    },
    {
     "name": "stdout",
     "output_type": "stream",
     "text": [
      "{'val_loss': 1.3100125390403676, 'val_accuracy': 0.6345357776463632, 'precision': 0.5781351695774948, 'recall': 0.6345357776463632, 'f1-score': 0.5901606815341408, 'macro_f1-score': 0.1828280532984486, 'balanced_accuracy': 0.18953285181954943, 'mcc': 0.49844651123129585, 'train_loss': 1.379779764101015}\n",
      "Epoch 3/20\n"
     ]
    },
    {
     "name": "stderr",
     "output_type": "stream",
     "text": [
      "100%|██████████| 423/423 [00:46<00:00,  9.00it/s]\n"
     ]
    },
    {
     "name": "stdout",
     "output_type": "stream",
     "text": [
      "{'val_loss': 1.2643281401328321, 'val_accuracy': 0.657599053814311, 'precision': 0.5922629360022, 'recall': 0.657599053814311, 'f1-score': 0.6047327149042354, 'macro_f1-score': 0.22564254784911267, 'balanced_accuracy': 0.2187026154986656, 'mcc': 0.5308459186695331, 'train_loss': 1.0643336671463988}\n",
      "Epoch 4/20\n"
     ]
    },
    {
     "name": "stderr",
     "output_type": "stream",
     "text": [
      "100%|██████████| 423/423 [00:46<00:00,  9.08it/s]\n"
     ]
    },
    {
     "name": "stdout",
     "output_type": "stream",
     "text": [
      "{'val_loss': 1.2743306736338813, 'val_accuracy': 0.6475458308693081, 'precision': 0.6697966036596168, 'recall': 0.6475458308693081, 'f1-score': 0.6411499754981059, 'macro_f1-score': 0.3108297233724844, 'balanced_accuracy': 0.31924589607720866, 'mcc': 0.5473774593519006, 'train_loss': 0.8099460510039442}\n",
      "Epoch 5/20\n"
     ]
    },
    {
     "name": "stderr",
     "output_type": "stream",
     "text": [
      "100%|██████████| 423/423 [00:46<00:00,  9.04it/s]\n"
     ]
    },
    {
     "name": "stdout",
     "output_type": "stream",
     "text": [
      "{'val_loss': 1.2946076214594662, 'val_accuracy': 0.6806623299822591, 'precision': 0.666161897504263, 'recall': 0.6806623299822591, 'f1-score': 0.6510955457868765, 'macro_f1-score': 0.34834128192972263, 'balanced_accuracy': 0.3261814134030005, 'mcc': 0.569918042148416, 'train_loss': 0.6249689918284439}\n",
      "Epoch 6/20\n"
     ]
    },
    {
     "name": "stderr",
     "output_type": "stream",
     "text": [
      "100%|██████████| 423/423 [00:46<00:00,  9.06it/s]\n"
     ]
    },
    {
     "name": "stdout",
     "output_type": "stream",
     "text": [
      "{'val_loss': 1.3994679096734748, 'val_accuracy': 0.6723832052040213, 'precision': 0.656782147247638, 'recall': 0.6723832052040213, 'f1-score': 0.6408417087735939, 'macro_f1-score': 0.35360944743583905, 'balanced_accuracy': 0.32898084330843014, 'mcc': 0.5526229945743182, 'train_loss': 0.47421144561987394}\n",
      "Epoch 7/20\n"
     ]
    },
    {
     "name": "stderr",
     "output_type": "stream",
     "text": [
      "100%|██████████| 423/423 [00:46<00:00,  9.09it/s]\n"
     ]
    },
    {
     "name": "stdout",
     "output_type": "stream",
     "text": [
      "{'val_loss': 1.4231860508333962, 'val_accuracy': 0.6741573033707865, 'precision': 0.6736530742648744, 'recall': 0.6741573033707865, 'f1-score': 0.6596079949753115, 'macro_f1-score': 0.3666694672961336, 'balanced_accuracy': 0.3629333961862792, 'mcc': 0.5699449058268987, 'train_loss': 0.3775571774180547}\n",
      "Epoch 8/20\n"
     ]
    },
    {
     "name": "stderr",
     "output_type": "stream",
     "text": [
      "100%|██████████| 423/423 [00:46<00:00,  9.10it/s]\n"
     ]
    },
    {
     "name": "stdout",
     "output_type": "stream",
     "text": [
      "{'val_loss': 1.4770299182185587, 'val_accuracy': 0.6729745712596097, 'precision': 0.6717693970281331, 'recall': 0.6729745712596097, 'f1-score': 0.659555404116455, 'macro_f1-score': 0.3853457235613022, 'balanced_accuracy': 0.37200884385994043, 'mcc': 0.5694132762462707, 'train_loss': 0.3013211378109934}\n",
      "Epoch 9/20\n"
     ]
    },
    {
     "name": "stderr",
     "output_type": "stream",
     "text": [
      "100%|██████████| 423/423 [00:46<00:00,  9.08it/s]\n"
     ]
    },
    {
     "name": "stdout",
     "output_type": "stream",
     "text": [
      "{'val_loss': 1.541692485224526, 'val_accuracy': 0.6753400354819633, 'precision': 0.6912555064519859, 'recall': 0.6753400354819633, 'f1-score': 0.6704359717962353, 'macro_f1-score': 0.39951421780882446, 'balanced_accuracy': 0.4168822952808418, 'mcc': 0.5818633886784286, 'train_loss': 0.2725929537189169}\n",
      "Epoch 10/20\n"
     ]
    },
    {
     "name": "stderr",
     "output_type": "stream",
     "text": [
      "100%|██████████| 423/423 [00:46<00:00,  9.05it/s]\n"
     ]
    },
    {
     "name": "stdout",
     "output_type": "stream",
     "text": [
      "{'val_loss': 1.723666677356891, 'val_accuracy': 0.6759314015375517, 'precision': 0.6836685435777753, 'recall': 0.6759314015375517, 'f1-score': 0.661121380528655, 'macro_f1-score': 0.39962149035747857, 'balanced_accuracy': 0.36971188421794887, 'mcc': 0.5621202884525058, 'train_loss': 0.251108866651712}\n",
      "Epoch 11/20\n"
     ]
    },
    {
     "name": "stderr",
     "output_type": "stream",
     "text": [
      "100%|██████████| 423/423 [00:46<00:00,  9.09it/s]\n"
     ]
    },
    {
     "name": "stdout",
     "output_type": "stream",
     "text": [
      "{'val_loss': 1.6572698620411586, 'val_accuracy': 0.6836191602602011, 'precision': 0.6724093020038827, 'recall': 0.6836191602602011, 'f1-score': 0.6657459860973592, 'macro_f1-score': 0.3913271789930994, 'balanced_accuracy': 0.37762982780265214, 'mcc': 0.5790430129842865, 'train_loss': 0.22829571919214095}\n",
      "Epoch 12/20\n"
     ]
    },
    {
     "name": "stderr",
     "output_type": "stream",
     "text": [
      "100%|██████████| 423/423 [00:46<00:00,  9.04it/s]\n"
     ]
    },
    {
     "name": "stdout",
     "output_type": "stream",
     "text": [
      "{'val_loss': 1.6477931676045903, 'val_accuracy': 0.6782968657599053, 'precision': 0.6798373301927274, 'recall': 0.6782968657599053, 'f1-score': 0.6608332923725329, 'macro_f1-score': 0.41765163994664867, 'balanced_accuracy': 0.4094124123064568, 'mcc': 0.5756470335675551, 'train_loss': 0.22987538893502338}\n",
      "Epoch 13/20\n"
     ]
    },
    {
     "name": "stderr",
     "output_type": "stream",
     "text": [
      "100%|██████████| 423/423 [00:46<00:00,  9.05it/s]\n"
     ]
    },
    {
     "name": "stdout",
     "output_type": "stream",
     "text": [
      "{'val_loss': 1.568043808610934, 'val_accuracy': 0.6658781785925488, 'precision': 0.687461994652386, 'recall': 0.6658781785925488, 'f1-score': 0.6614459458627434, 'macro_f1-score': 0.40965805944355926, 'balanced_accuracy': 0.4187410687844374, 'mcc': 0.568895666590848, 'train_loss': 0.2277285555547134}\n",
      "Epoch 14/20\n"
     ]
    },
    {
     "name": "stderr",
     "output_type": "stream",
     "text": [
      "100%|██████████| 423/423 [00:46<00:00,  9.02it/s]\n"
     ]
    },
    {
     "name": "stdout",
     "output_type": "stream",
     "text": [
      "{'val_loss': 1.7451187498726934, 'val_accuracy': 0.6771141336487285, 'precision': 0.6895377745720088, 'recall': 0.6771141336487285, 'f1-score': 0.6694888019229975, 'macro_f1-score': 0.4111173295180048, 'balanced_accuracy': 0.407435691064793, 'mcc': 0.5713081718563802, 'train_loss': 0.21718028926892738}\n",
      "Epoch 15/20\n"
     ]
    },
    {
     "name": "stderr",
     "output_type": "stream",
     "text": [
      "100%|██████████| 423/423 [00:46<00:00,  9.04it/s]\n"
     ]
    },
    {
     "name": "stdout",
     "output_type": "stream",
     "text": [
      "{'val_loss': 1.6017686392901078, 'val_accuracy': 0.6859846244825547, 'precision': 0.6871745984920058, 'recall': 0.6859846244825547, 'f1-score': 0.6728934724229069, 'macro_f1-score': 0.4165844603086752, 'balanced_accuracy': 0.4092643473297742, 'mcc': 0.5844403327755554, 'train_loss': 0.2195287069710892}\n",
      "Early stopping.\n",
      "\n",
      "[Fold 5]\n",
      "Label distribution after resampling:\n",
      "  label 0: 3180\n",
      "  label 1: 24\n",
      "  label 2: 112\n",
      "  label 3: 24\n",
      "  label 4: 205\n",
      "  label 5: 116\n",
      "  label 6: 95\n",
      "  label 7: 31\n",
      "  label 8: 68\n",
      "  label 9: 65\n",
      "  label 10: 70\n",
      "  label 11: 172\n",
      "  label 12: 193\n",
      "  label 13: 29\n",
      "  label 14: 23\n",
      "  label 15: 25\n",
      "  label 16: 20\n",
      "  label 17: 231\n",
      "  label 18: 93\n",
      "  label 19: 44\n",
      "  label 20: 15\n",
      "  label 21: 35\n",
      "  label 22: 78\n",
      "  label 23: 160\n",
      "  label 24: 16\n",
      "  label 25: 50\n",
      "  label 26: 86\n",
      "  label 27: 48\n",
      "  label 28: 12\n",
      "  label 29: 13\n",
      "  label 30: 15\n",
      "  label 31: 80\n",
      "  label 32: 36\n",
      "  label 33: 32\n",
      "  label 34: 30\n",
      "  label 35: 12\n",
      "  label 36: 28\n",
      "  label 37: 21\n",
      "  label 38: 6\n",
      "  label 39: 104\n",
      "  label 40: 11\n",
      "  label 41: 9\n",
      "  label 42: 147\n",
      "  label 43: 16\n",
      "  label 44: 20\n",
      "  label 45: 9\n",
      "  label 46: 54\n",
      "  label 47: 529\n",
      "  label 48: 202\n",
      "  label 49: 70\n",
      "model is microsoft/deberta-base\n"
     ]
    },
    {
     "name": "stderr",
     "output_type": "stream",
     "text": [
      "Some weights of DebertaForSequenceClassification were not initialized from the model checkpoint at microsoft/deberta-base and are newly initialized: ['classifier.bias', 'classifier.weight', 'pooler.dense.bias', 'pooler.dense.weight']\n",
      "You should probably TRAIN this model on a down-stream task to be able to use it for predictions and inference.\n"
     ]
    },
    {
     "name": "stdout",
     "output_type": "stream",
     "text": [
      "Epoch 1/20\n"
     ]
    },
    {
     "name": "stderr",
     "output_type": "stream",
     "text": [
      "100%|██████████| 423/423 [00:46<00:00,  9.05it/s]\n"
     ]
    },
    {
     "name": "stdout",
     "output_type": "stream",
     "text": [
      "{'val_loss': 2.253809534153848, 'val_accuracy': 0.4911242603550296, 'precision': 0.34703991982428556, 'recall': 0.4911242603550296, 'f1-score': 0.3380444101461222, 'macro_f1-score': 0.04271114330581371, 'balanced_accuracy': 0.04397314316014915, 'mcc': 0.15939649557511704, 'train_loss': 1.9985521534374138}\n",
      "Epoch 2/20\n"
     ]
    },
    {
     "name": "stderr",
     "output_type": "stream",
     "text": [
      "100%|██████████| 423/423 [00:46<00:00,  9.06it/s]\n"
     ]
    },
    {
     "name": "stdout",
     "output_type": "stream",
     "text": [
      "{'val_loss': 1.5919427677707851, 'val_accuracy': 0.6094674556213018, 'precision': 0.46626517290173497, 'recall': 0.6094674556213018, 'f1-score': 0.5199639471250334, 'macro_f1-score': 0.11295739670868903, 'balanced_accuracy': 0.13043663576210698, 'mcc': 0.45466554295453926, 'train_loss': 1.678540036962951}\n",
      "Epoch 3/20\n"
     ]
    },
    {
     "name": "stderr",
     "output_type": "stream",
     "text": [
      "100%|██████████| 423/423 [00:46<00:00,  9.12it/s]\n"
     ]
    },
    {
     "name": "stdout",
     "output_type": "stream",
     "text": [
      "{'val_loss': 1.3352473243227545, 'val_accuracy': 0.6455621301775148, 'precision': 0.5545048845112461, 'recall': 0.6455621301775148, 'f1-score': 0.5839360552459979, 'macro_f1-score': 0.2089245783789679, 'balanced_accuracy': 0.21217948128414627, 'mcc': 0.5149142977627678, 'train_loss': 1.3389847298322277}\n",
      "Epoch 4/20\n"
     ]
    },
    {
     "name": "stderr",
     "output_type": "stream",
     "text": [
      "100%|██████████| 423/423 [00:46<00:00,  9.10it/s]\n"
     ]
    },
    {
     "name": "stdout",
     "output_type": "stream",
     "text": [
      "{'val_loss': 1.3252032562246863, 'val_accuracy': 0.6662721893491125, 'precision': 0.6368103465710713, 'recall': 0.6662721893491125, 'f1-score': 0.6362966474939258, 'macro_f1-score': 0.28474227186579787, 'balanced_accuracy': 0.288842298228419, 'mcc': 0.5483798807603144, 'train_loss': 1.051871180463908}\n",
      "Epoch 5/20\n"
     ]
    },
    {
     "name": "stderr",
     "output_type": "stream",
     "text": [
      "100%|██████████| 423/423 [00:47<00:00,  8.95it/s]\n"
     ]
    },
    {
     "name": "stdout",
     "output_type": "stream",
     "text": [
      "{'val_loss': 1.3124004686778445, 'val_accuracy': 0.6449704142011834, 'precision': 0.6704432299247018, 'recall': 0.6449704142011834, 'f1-score': 0.639748745069172, 'macro_f1-score': 0.2982954759789429, 'balanced_accuracy': 0.3157508030251947, 'mcc': 0.5389425396472659, 'train_loss': 0.8476224791778176}\n",
      "Epoch 6/20\n"
     ]
    },
    {
     "name": "stderr",
     "output_type": "stream",
     "text": [
      "100%|██████████| 423/423 [00:47<00:00,  9.00it/s]\n"
     ]
    },
    {
     "name": "stdout",
     "output_type": "stream",
     "text": [
      "{'val_loss': 1.371455504365687, 'val_accuracy': 0.6579881656804734, 'precision': 0.647906139380868, 'recall': 0.6579881656804734, 'f1-score': 0.6409118280524971, 'macro_f1-score': 0.29722211415185684, 'balanced_accuracy': 0.31473121557586115, 'mcc': 0.5550023284282262, 'train_loss': 0.6591163449711551}\n",
      "Epoch 7/20\n"
     ]
    },
    {
     "name": "stderr",
     "output_type": "stream",
     "text": [
      "100%|██████████| 423/423 [00:46<00:00,  9.11it/s]\n"
     ]
    },
    {
     "name": "stdout",
     "output_type": "stream",
     "text": [
      "{'val_loss': 1.3646774761519342, 'val_accuracy': 0.6798816568047338, 'precision': 0.6558493909524131, 'recall': 0.6798816568047338, 'f1-score': 0.6559784007298586, 'macro_f1-score': 0.3314629712742034, 'balanced_accuracy': 0.32157469677277994, 'mcc': 0.571645548646724, 'train_loss': 0.5448842698677353}\n",
      "Epoch 8/20\n"
     ]
    },
    {
     "name": "stderr",
     "output_type": "stream",
     "text": [
      "100%|██████████| 423/423 [00:46<00:00,  9.10it/s]\n"
     ]
    },
    {
     "name": "stdout",
     "output_type": "stream",
     "text": [
      "{'val_loss': 1.452719065378297, 'val_accuracy': 0.6751479289940828, 'precision': 0.6839922341561229, 'recall': 0.6751479289940828, 'f1-score': 0.6649557816188117, 'macro_f1-score': 0.35923424098642187, 'balanced_accuracy': 0.36024887296604374, 'mcc': 0.5747323297152048, 'train_loss': 0.4387828753710709}\n",
      "Epoch 9/20\n"
     ]
    },
    {
     "name": "stderr",
     "output_type": "stream",
     "text": [
      "100%|██████████| 423/423 [00:46<00:00,  9.02it/s]\n"
     ]
    },
    {
     "name": "stdout",
     "output_type": "stream",
     "text": [
      "{'val_loss': 1.4911120756054825, 'val_accuracy': 0.670414201183432, 'precision': 0.6827157687839007, 'recall': 0.670414201183432, 'f1-score': 0.66459362795024, 'macro_f1-score': 0.3732931355812862, 'balanced_accuracy': 0.3856758135495583, 'mcc': 0.5758395993765941, 'train_loss': 0.342730008816483}\n",
      "Epoch 10/20\n"
     ]
    },
    {
     "name": "stderr",
     "output_type": "stream",
     "text": [
      "100%|██████████| 423/423 [00:45<00:00,  9.21it/s]\n"
     ]
    },
    {
     "name": "stdout",
     "output_type": "stream",
     "text": [
      "{'val_loss': 1.5826629405876376, 'val_accuracy': 0.678698224852071, 'precision': 0.6804269860862521, 'recall': 0.678698224852071, 'f1-score': 0.66795292056603, 'macro_f1-score': 0.3777174936746437, 'balanced_accuracy': 0.36842642414827736, 'mcc': 0.5765903047517954, 'train_loss': 0.29691838072370696}\n",
      "Epoch 11/20\n"
     ]
    },
    {
     "name": "stderr",
     "output_type": "stream",
     "text": [
      "100%|██████████| 423/423 [00:45<00:00,  9.30it/s]\n"
     ]
    },
    {
     "name": "stdout",
     "output_type": "stream",
     "text": [
      "{'val_loss': 1.6724856740461205, 'val_accuracy': 0.6644970414201183, 'precision': 0.6507576852488505, 'recall': 0.6644970414201183, 'f1-score': 0.6455282530542504, 'macro_f1-score': 0.33186475336692145, 'balanced_accuracy': 0.32421950633036883, 'mcc': 0.5538136765949407, 'train_loss': 0.2849616723126307}\n",
      "Epoch 12/20\n"
     ]
    },
    {
     "name": "stderr",
     "output_type": "stream",
     "text": [
      "100%|██████████| 423/423 [00:46<00:00,  9.06it/s]\n"
     ]
    },
    {
     "name": "stdout",
     "output_type": "stream",
     "text": [
      "{'val_loss': 1.6871385849871725, 'val_accuracy': 0.6887573964497041, 'precision': 0.685707090604843, 'recall': 0.6887573964497041, 'f1-score': 0.6772668179132754, 'macro_f1-score': 0.36089269944740965, 'balanced_accuracy': 0.35822574916766187, 'mcc': 0.5894882932891955, 'train_loss': 0.25144067555489835}\n",
      "Epoch 13/20\n"
     ]
    },
    {
     "name": "stderr",
     "output_type": "stream",
     "text": [
      "100%|██████████| 423/423 [00:46<00:00,  9.07it/s]\n"
     ]
    },
    {
     "name": "stdout",
     "output_type": "stream",
     "text": [
      "{'val_loss': 1.7443079381900013, 'val_accuracy': 0.663905325443787, 'precision': 0.6576563903107517, 'recall': 0.663905325443787, 'f1-score': 0.6458773869267458, 'macro_f1-score': 0.3319903269150098, 'balanced_accuracy': 0.33128613077196567, 'mcc': 0.5536548167835995, 'train_loss': 0.2950189740619409}\n",
      "Early stopping.\n",
      "\n",
      " === microsoft/deberta-base + plain + none Final 10-fold Cross-Validation Results ===\n",
      "Total time: 3154 seconds\n",
      "Total time: 0 hrs 52 mins 34 secs\n",
      "val_loss: 1.6053\n",
      "val_accuracy: 0.6615\n",
      "precision: 0.6438\n",
      "recall: 0.6615\n",
      "f1-score: 0.6364\n",
      "macro_f1-score: 0.3384\n",
      "balanced_accuracy: 0.3322\n",
      "mcc: 0.5467\n",
      "train_loss: 0.6198\n",
      "▶ Running: microsoft/deberta-base + cnn + none\n",
      "tokenizer is microsoft/deberta-base\n",
      "Using device: cuda\n",
      "CUDA Available: True\n",
      "CUDA Device: NVIDIA GeForce RTX 5070 Ti\n",
      "Current GPU Memory Allocated: 0.02 GB\n",
      "Current GPU Memory Cached: 5.12 GB\n",
      "\n",
      "[Fold 1]\n",
      "Label distribution after resampling:\n",
      "  label 0: 3179\n",
      "  label 1: 25\n",
      "  label 2: 112\n",
      "  label 3: 24\n",
      "  label 4: 205\n",
      "  label 5: 116\n",
      "  label 6: 95\n",
      "  label 7: 31\n",
      "  label 8: 68\n",
      "  label 9: 65\n",
      "  label 10: 70\n",
      "  label 11: 172\n",
      "  label 12: 193\n",
      "  label 13: 29\n",
      "  label 14: 23\n",
      "  label 15: 25\n",
      "  label 16: 20\n",
      "  label 17: 231\n",
      "  label 18: 93\n",
      "  label 19: 45\n",
      "  label 20: 14\n",
      "  label 21: 35\n",
      "  label 22: 78\n",
      "  label 23: 160\n",
      "  label 24: 16\n",
      "  label 25: 50\n",
      "  label 26: 86\n",
      "  label 27: 49\n",
      "  label 28: 12\n",
      "  label 29: 13\n",
      "  label 30: 15\n",
      "  label 31: 80\n",
      "  label 32: 36\n",
      "  label 33: 32\n",
      "  label 34: 30\n",
      "  label 35: 12\n",
      "  label 36: 28\n",
      "  label 37: 21\n",
      "  label 38: 6\n",
      "  label 39: 103\n",
      "  label 40: 12\n",
      "  label 41: 8\n",
      "  label 42: 147\n",
      "  label 43: 16\n",
      "  label 44: 20\n",
      "  label 45: 9\n",
      "  label 46: 54\n",
      "  label 47: 529\n",
      "  label 48: 202\n",
      "  label 49: 69\n",
      "model is microsoft/deberta-base cnn\n",
      "Epoch 1/20\n"
     ]
    },
    {
     "name": "stderr",
     "output_type": "stream",
     "text": [
      "100%|██████████| 423/423 [00:46<00:00,  9.00it/s]\n"
     ]
    },
    {
     "name": "stdout",
     "output_type": "stream",
     "text": [
      "{'val_loss': 1.650314158144987, 'val_accuracy': 0.6031933767001774, 'precision': 0.4213276480126171, 'recall': 0.6031933767001774, 'f1-score': 0.4813481083529521, 'macro_f1-score': 0.08494019992571239, 'balanced_accuracy': 0.1020551167602029, 'mcc': 0.4256799272532599, 'train_loss': 1.996636750991181}\n",
      "Epoch 2/20\n"
     ]
    },
    {
     "name": "stderr",
     "output_type": "stream",
     "text": [
      "100%|██████████| 423/423 [00:46<00:00,  9.00it/s]\n"
     ]
    },
    {
     "name": "stdout",
     "output_type": "stream",
     "text": [
      "{'val_loss': 1.461515967576009, 'val_accuracy': 0.6061502069781195, 'precision': 0.5503551956287408, 'recall': 0.6061502069781195, 'f1-score': 0.5574288759426392, 'macro_f1-score': 0.15666480129487131, 'balanced_accuracy': 0.1740190633443397, 'mcc': 0.46108052223548607, 'train_loss': 1.5146653827623273}\n",
      "Epoch 3/20\n"
     ]
    },
    {
     "name": "stderr",
     "output_type": "stream",
     "text": [
      "100%|██████████| 423/423 [00:47<00:00,  9.00it/s]\n"
     ]
    },
    {
     "name": "stdout",
     "output_type": "stream",
     "text": [
      "{'val_loss': 1.4695613114339001, 'val_accuracy': 0.6108811354228267, 'precision': 0.5294859609191369, 'recall': 0.6108811354228267, 'f1-score': 0.5527380578353046, 'macro_f1-score': 0.1704145020213529, 'balanced_accuracy': 0.18123580004014384, 'mcc': 0.4631463208849749, 'train_loss': 1.4705472464538918}\n",
      "Epoch 4/20\n"
     ]
    },
    {
     "name": "stderr",
     "output_type": "stream",
     "text": [
      "100%|██████████| 423/423 [00:47<00:00,  8.99it/s]\n"
     ]
    },
    {
     "name": "stdout",
     "output_type": "stream",
     "text": [
      "{'val_loss': 1.3187965525771088, 'val_accuracy': 0.6303962152572442, 'precision': 0.6065383134438311, 'recall': 0.6303962152572442, 'f1-score': 0.60027042270032, 'macro_f1-score': 0.24143160386197182, 'balanced_accuracy': 0.2531624549327757, 'mcc': 0.5035617503694985, 'train_loss': 1.1486601764358246}\n",
      "Epoch 5/20\n"
     ]
    },
    {
     "name": "stderr",
     "output_type": "stream",
     "text": [
      "100%|██████████| 423/423 [00:46<00:00,  9.01it/s]\n"
     ]
    },
    {
     "name": "stdout",
     "output_type": "stream",
     "text": [
      "{'val_loss': 1.4443086501000062, 'val_accuracy': 0.6363098758131284, 'precision': 0.6062666697241711, 'recall': 0.6363098758131284, 'f1-score': 0.5839967618840513, 'macro_f1-score': 0.22982103985037936, 'balanced_accuracy': 0.22745798497949563, 'mcc': 0.5019492255300297, 'train_loss': 0.9876089206683156}\n",
      "Epoch 6/20\n"
     ]
    },
    {
     "name": "stderr",
     "output_type": "stream",
     "text": [
      "100%|██████████| 423/423 [00:46<00:00,  9.01it/s]\n"
     ]
    },
    {
     "name": "stdout",
     "output_type": "stream",
     "text": [
      "{'val_loss': 1.3812290865857646, 'val_accuracy': 0.6363098758131284, 'precision': 0.6536822536229184, 'recall': 0.6363098758131284, 'f1-score': 0.6258154528429637, 'macro_f1-score': 0.30599810263072036, 'balanced_accuracy': 0.31988377215822594, 'mcc': 0.5235013283790635, 'train_loss': 0.8562884394863255}\n",
      "Epoch 7/20\n"
     ]
    },
    {
     "name": "stderr",
     "output_type": "stream",
     "text": [
      "100%|██████████| 423/423 [00:46<00:00,  9.01it/s]\n"
     ]
    },
    {
     "name": "stdout",
     "output_type": "stream",
     "text": [
      "{'val_loss': 1.3746864542646229, 'val_accuracy': 0.6510940272028386, 'precision': 0.640020342865, 'recall': 0.6510940272028386, 'f1-score': 0.6323253210930679, 'macro_f1-score': 0.3264085171286367, 'balanced_accuracy': 0.3255058777218419, 'mcc': 0.5393615834525847, 'train_loss': 0.7209185796919726}\n",
      "Epoch 8/20\n"
     ]
    },
    {
     "name": "stderr",
     "output_type": "stream",
     "text": [
      "100%|██████████| 423/423 [00:46<00:00,  9.04it/s]\n"
     ]
    },
    {
     "name": "stdout",
     "output_type": "stream",
     "text": [
      "{'val_loss': 1.4650295649497014, 'val_accuracy': 0.6617386162034299, 'precision': 0.635409782628644, 'recall': 0.6617386162034299, 'f1-score': 0.638163980485775, 'macro_f1-score': 0.319763586011066, 'balanced_accuracy': 0.31720892354336255, 'mcc': 0.5478828063459793, 'train_loss': 0.60877414893174}\n",
      "Epoch 9/20\n"
     ]
    },
    {
     "name": "stderr",
     "output_type": "stream",
     "text": [
      "100%|██████████| 423/423 [00:47<00:00,  8.98it/s]\n"
     ]
    },
    {
     "name": "stdout",
     "output_type": "stream",
     "text": [
      "{'val_loss': 1.4784713767047197, 'val_accuracy': 0.6611472501478415, 'precision': 0.6392317999575081, 'recall': 0.6611472501478415, 'f1-score': 0.6353848813423706, 'macro_f1-score': 0.3094927785363312, 'balanced_accuracy': 0.2974941116325666, 'mcc': 0.5403613499081814, 'train_loss': 0.5505352330264188}\n",
      "Epoch 10/20\n"
     ]
    },
    {
     "name": "stderr",
     "output_type": "stream",
     "text": [
      "100%|██████████| 423/423 [00:47<00:00,  8.99it/s]\n"
     ]
    },
    {
     "name": "stdout",
     "output_type": "stream",
     "text": [
      "{'val_loss': 1.673827975988388, 'val_accuracy': 0.6540508574807806, 'precision': 0.6483166117762155, 'recall': 0.6540508574807806, 'f1-score': 0.6299617738931556, 'macro_f1-score': 0.3541376308516176, 'balanced_accuracy': 0.3303332462450795, 'mcc': 0.5284949373322219, 'train_loss': 0.4736021276201225}\n",
      "Epoch 11/20\n"
     ]
    },
    {
     "name": "stderr",
     "output_type": "stream",
     "text": [
      "100%|██████████| 423/423 [00:47<00:00,  8.95it/s]\n"
     ]
    },
    {
     "name": "stdout",
     "output_type": "stream",
     "text": [
      "{'val_loss': 1.5311836993919228, 'val_accuracy': 0.6605558840922531, 'precision': 0.6404734980913719, 'recall': 0.6605558840922531, 'f1-score': 0.6282263088717133, 'macro_f1-score': 0.3047986853839019, 'balanced_accuracy': 0.2854850488063931, 'mcc': 0.5355344886133565, 'train_loss': 0.44613312292254}\n",
      "Epoch 12/20\n"
     ]
    },
    {
     "name": "stderr",
     "output_type": "stream",
     "text": [
      "100%|██████████| 423/423 [00:46<00:00,  9.00it/s]\n"
     ]
    },
    {
     "name": "stdout",
     "output_type": "stream",
     "text": [
      "{'val_loss': 1.6509837536316998, 'val_accuracy': 0.6700177409816677, 'precision': 0.664173734305733, 'recall': 0.6700177409816677, 'f1-score': 0.6513955009685117, 'macro_f1-score': 0.3814207233000507, 'balanced_accuracy': 0.3738212861473723, 'mcc': 0.5608080688896628, 'train_loss': 0.41325277642261055}\n",
      "Epoch 13/20\n"
     ]
    },
    {
     "name": "stderr",
     "output_type": "stream",
     "text": [
      "100%|██████████| 423/423 [00:47<00:00,  8.97it/s]\n"
     ]
    },
    {
     "name": "stdout",
     "output_type": "stream",
     "text": [
      "{'val_loss': 1.698068065463372, 'val_accuracy': 0.654642223536369, 'precision': 0.6694411301065224, 'recall': 0.654642223536369, 'f1-score': 0.6500370079793226, 'macro_f1-score': 0.3751805972363274, 'balanced_accuracy': 0.3753517884139764, 'mcc': 0.5487526994852714, 'train_loss': 0.4410559825189676}\n",
      "Epoch 14/20\n"
     ]
    },
    {
     "name": "stderr",
     "output_type": "stream",
     "text": [
      "100%|██████████| 423/423 [00:46<00:00,  9.02it/s]\n"
     ]
    },
    {
     "name": "stdout",
     "output_type": "stream",
     "text": [
      "{'val_loss': 1.7043850445803606, 'val_accuracy': 0.6564163217031342, 'precision': 0.670832567253527, 'recall': 0.6564163217031342, 'f1-score': 0.6449590602466255, 'macro_f1-score': 0.38426849463461976, 'balanced_accuracy': 0.37202038211888566, 'mcc': 0.5429966074193039, 'train_loss': 0.37563894358166355}\n",
      "Epoch 15/20\n"
     ]
    },
    {
     "name": "stderr",
     "output_type": "stream",
     "text": [
      "100%|██████████| 423/423 [00:46<00:00,  9.03it/s]\n"
     ]
    },
    {
     "name": "stdout",
     "output_type": "stream",
     "text": [
      "{'val_loss': 1.7319574640044626, 'val_accuracy': 0.6505026611472502, 'precision': 0.6689374904436897, 'recall': 0.6505026611472502, 'f1-score': 0.6471100661816958, 'macro_f1-score': 0.375848317527217, 'balanced_accuracy': 0.38108920157129644, 'mcc': 0.5462228046320604, 'train_loss': 0.28845284270985716}\n",
      "Epoch 16/20\n"
     ]
    },
    {
     "name": "stderr",
     "output_type": "stream",
     "text": [
      "100%|██████████| 423/423 [00:46<00:00,  9.02it/s]\n"
     ]
    },
    {
     "name": "stdout",
     "output_type": "stream",
     "text": [
      "{'val_loss': 1.8492064965572559, 'val_accuracy': 0.6564163217031342, 'precision': 0.6567669086037631, 'recall': 0.6564163217031342, 'f1-score': 0.6434634865317475, 'macro_f1-score': 0.38126005700147836, 'balanced_accuracy': 0.3732629282634094, 'mcc': 0.5440902783210223, 'train_loss': 0.25353749358052846}\n",
      "Epoch 17/20\n"
     ]
    },
    {
     "name": "stderr",
     "output_type": "stream",
     "text": [
      "100%|██████████| 423/423 [00:46<00:00,  9.01it/s]\n"
     ]
    },
    {
     "name": "stdout",
     "output_type": "stream",
     "text": [
      "{'val_loss': 1.8154992647820487, 'val_accuracy': 0.6682436428149024, 'precision': 0.6747296875747778, 'recall': 0.6682436428149024, 'f1-score': 0.6570811213019823, 'macro_f1-score': 0.40998756059029695, 'balanced_accuracy': 0.38586426575313015, 'mcc': 0.5600121607591344, 'train_loss': 0.26427677709908703}\n",
      "Epoch 18/20\n"
     ]
    },
    {
     "name": "stderr",
     "output_type": "stream",
     "text": [
      "100%|██████████| 423/423 [00:47<00:00,  8.98it/s]\n"
     ]
    },
    {
     "name": "stdout",
     "output_type": "stream",
     "text": [
      "{'val_loss': 1.879409723827299, 'val_accuracy': 0.6629213483146067, 'precision': 0.6727637080089686, 'recall': 0.6629213483146067, 'f1-score': 0.6541221352889319, 'macro_f1-score': 0.3787390729608455, 'balanced_accuracy': 0.37731314474669225, 'mcc': 0.5587246981230233, 'train_loss': 0.25852908583161976}\n",
      "Epoch 19/20\n"
     ]
    },
    {
     "name": "stderr",
     "output_type": "stream",
     "text": [
      "100%|██████████| 423/423 [00:46<00:00,  9.03it/s]\n"
     ]
    },
    {
     "name": "stdout",
     "output_type": "stream",
     "text": [
      "{'val_loss': 1.8873353011484415, 'val_accuracy': 0.6570076877587226, 'precision': 0.6762033179430121, 'recall': 0.6570076877587226, 'f1-score': 0.6540054355103653, 'macro_f1-score': 0.40262192434233585, 'balanced_accuracy': 0.43061416315598267, 'mcc': 0.5565281216786735, 'train_loss': 0.2367455244095155}\n",
      "Epoch 20/20\n"
     ]
    },
    {
     "name": "stderr",
     "output_type": "stream",
     "text": [
      "100%|██████████| 423/423 [00:47<00:00,  8.97it/s]\n"
     ]
    },
    {
     "name": "stdout",
     "output_type": "stream",
     "text": [
      "{'val_loss': 1.7976841528741818, 'val_accuracy': 0.6463630987581312, 'precision': 0.6762623407647551, 'recall': 0.6463630987581312, 'f1-score': 0.6450916011971661, 'macro_f1-score': 0.37881912420917957, 'balanced_accuracy': 0.3860565878104721, 'mcc': 0.5418204842298612, 'train_loss': 0.2479547739654216}\n",
      "Early stopping.\n",
      "\n",
      "[Fold 2]\n",
      "Label distribution after resampling:\n",
      "  label 0: 3179\n",
      "  label 1: 25\n",
      "  label 2: 112\n",
      "  label 3: 24\n",
      "  label 4: 206\n",
      "  label 5: 116\n",
      "  label 6: 94\n",
      "  label 7: 31\n",
      "  label 8: 68\n",
      "  label 9: 65\n",
      "  label 10: 70\n",
      "  label 11: 172\n",
      "  label 12: 193\n",
      "  label 13: 29\n",
      "  label 14: 23\n",
      "  label 15: 25\n",
      "  label 16: 20\n",
      "  label 17: 231\n",
      "  label 18: 93\n",
      "  label 19: 45\n",
      "  label 20: 14\n",
      "  label 21: 35\n",
      "  label 22: 78\n",
      "  label 23: 160\n",
      "  label 24: 16\n",
      "  label 25: 50\n",
      "  label 26: 86\n",
      "  label 27: 49\n",
      "  label 28: 12\n",
      "  label 29: 13\n",
      "  label 30: 15\n",
      "  label 31: 80\n",
      "  label 32: 36\n",
      "  label 33: 32\n",
      "  label 34: 30\n",
      "  label 35: 12\n",
      "  label 36: 28\n",
      "  label 37: 22\n",
      "  label 38: 5\n",
      "  label 39: 103\n",
      "  label 40: 11\n",
      "  label 41: 9\n",
      "  label 42: 147\n",
      "  label 43: 16\n",
      "  label 44: 20\n",
      "  label 45: 9\n",
      "  label 46: 55\n",
      "  label 47: 528\n",
      "  label 48: 202\n",
      "  label 49: 69\n",
      "model is microsoft/deberta-base cnn\n",
      "Epoch 1/20\n"
     ]
    },
    {
     "name": "stderr",
     "output_type": "stream",
     "text": [
      "100%|██████████| 423/423 [00:47<00:00,  8.96it/s]\n"
     ]
    },
    {
     "name": "stdout",
     "output_type": "stream",
     "text": [
      "{'val_loss': 1.644307164088735, 'val_accuracy': 0.5819041986989947, 'precision': 0.49094132892636166, 'recall': 0.5819041986989947, 'f1-score': 0.5066324535893555, 'macro_f1-score': 0.09955595981678361, 'balanced_accuracy': 0.12125495534251927, 'mcc': 0.4158628338562205, 'train_loss': 2.013793756212185}\n",
      "Epoch 2/20\n"
     ]
    },
    {
     "name": "stderr",
     "output_type": "stream",
     "text": [
      "100%|██████████| 423/423 [00:46<00:00,  9.05it/s]\n"
     ]
    },
    {
     "name": "stdout",
     "output_type": "stream",
     "text": [
      "{'val_loss': 1.539706069905803, 'val_accuracy': 0.6191602602010644, 'precision': 0.5077431812890981, 'recall': 0.6191602602010644, 'f1-score': 0.536409933886057, 'macro_f1-score': 0.12997169285123392, 'balanced_accuracy': 0.14433453279929082, 'mcc': 0.4705568045271737, 'train_loss': 1.5882942836476275}\n",
      "Epoch 3/20\n"
     ]
    },
    {
     "name": "stderr",
     "output_type": "stream",
     "text": [
      "100%|██████████| 423/423 [00:47<00:00,  8.99it/s]\n"
     ]
    },
    {
     "name": "stdout",
     "output_type": "stream",
     "text": [
      "{'val_loss': 1.4231186388236172, 'val_accuracy': 0.6167947959787108, 'precision': 0.542777059950325, 'recall': 0.6167947959787108, 'f1-score': 0.5695217267701748, 'macro_f1-score': 0.18291851084827238, 'balanced_accuracy': 0.20088115570349857, 'mcc': 0.4816077231070373, 'train_loss': 1.3358057066622073}\n",
      "Epoch 4/20\n"
     ]
    },
    {
     "name": "stderr",
     "output_type": "stream",
     "text": [
      "100%|██████████| 423/423 [00:47<00:00,  8.99it/s]\n"
     ]
    },
    {
     "name": "stdout",
     "output_type": "stream",
     "text": [
      "{'val_loss': 1.4321766217362206, 'val_accuracy': 0.6345357776463632, 'precision': 0.5715369394796408, 'recall': 0.6345357776463632, 'f1-score': 0.5808270747545123, 'macro_f1-score': 0.21053577639288248, 'balanced_accuracy': 0.20564327734107965, 'mcc': 0.494810036208884, 'train_loss': 1.1344661873635389}\n",
      "Epoch 5/20\n"
     ]
    },
    {
     "name": "stderr",
     "output_type": "stream",
     "text": [
      "100%|██████████| 423/423 [00:46<00:00,  9.02it/s]\n"
     ]
    },
    {
     "name": "stdout",
     "output_type": "stream",
     "text": [
      "{'val_loss': 1.436422756820355, 'val_accuracy': 0.6404494382022472, 'precision': 0.5991167864583826, 'recall': 0.6404494382022472, 'f1-score': 0.6041414483571032, 'macro_f1-score': 0.23864979523072105, 'balanced_accuracy': 0.23712740866950205, 'mcc': 0.5121467044536938, 'train_loss': 0.9296492918726964}\n",
      "Epoch 6/20\n"
     ]
    },
    {
     "name": "stderr",
     "output_type": "stream",
     "text": [
      "100%|██████████| 423/423 [00:46<00:00,  9.02it/s]\n"
     ]
    },
    {
     "name": "stdout",
     "output_type": "stream",
     "text": [
      "{'val_loss': 1.4330369042900373, 'val_accuracy': 0.6534594914251922, 'precision': 0.658443981267769, 'recall': 0.6534594914251922, 'f1-score': 0.6350990539244787, 'macro_f1-score': 0.30353509832152, 'balanced_accuracy': 0.2969281956980428, 'mcc': 0.5343765049703757, 'train_loss': 0.76247945449031}\n",
      "Epoch 7/20\n"
     ]
    },
    {
     "name": "stderr",
     "output_type": "stream",
     "text": [
      "100%|██████████| 423/423 [00:47<00:00,  8.96it/s]\n"
     ]
    },
    {
     "name": "stdout",
     "output_type": "stream",
     "text": [
      "{'val_loss': 1.6025923178443369, 'val_accuracy': 0.6729745712596097, 'precision': 0.6430741166148264, 'recall': 0.6729745712596097, 'f1-score': 0.6420578996589764, 'macro_f1-score': 0.3034223526975515, 'balanced_accuracy': 0.29347508164351416, 'mcc': 0.5538318077653375, 'train_loss': 0.6360821032689677}\n",
      "Epoch 8/20\n"
     ]
    },
    {
     "name": "stderr",
     "output_type": "stream",
     "text": [
      "100%|██████████| 423/423 [00:47<00:00,  8.98it/s]\n"
     ]
    },
    {
     "name": "stdout",
     "output_type": "stream",
     "text": [
      "{'val_loss': 1.4587233665416826, 'val_accuracy': 0.6735659373151981, 'precision': 0.668180248589482, 'recall': 0.6735659373151981, 'f1-score': 0.6553324778555712, 'macro_f1-score': 0.3378782663096425, 'balanced_accuracy': 0.3341025037510835, 'mcc': 0.5663347404891464, 'train_loss': 0.5738212688964732}\n",
      "Epoch 9/20\n"
     ]
    },
    {
     "name": "stderr",
     "output_type": "stream",
     "text": [
      "100%|██████████| 423/423 [00:46<00:00,  9.03it/s]\n"
     ]
    },
    {
     "name": "stdout",
     "output_type": "stream",
     "text": [
      "{'val_loss': 1.99769759628008, 'val_accuracy': 0.576581904198699, 'precision': 0.4658556875592714, 'recall': 0.576581904198699, 'f1-score': 0.47427463947653703, 'macro_f1-score': 0.121570859760036, 'balanced_accuracy': 0.11368428376271052, 'mcc': 0.37716949401418287, 'train_loss': 0.7499275953810548}\n",
      "Epoch 10/20\n"
     ]
    },
    {
     "name": "stderr",
     "output_type": "stream",
     "text": [
      "100%|██████████| 423/423 [00:47<00:00,  9.00it/s]\n"
     ]
    },
    {
     "name": "stdout",
     "output_type": "stream",
     "text": [
      "{'val_loss': 1.6920808105957958, 'val_accuracy': 0.6499112950916618, 'precision': 0.6293936780661797, 'recall': 0.6499112950916618, 'f1-score': 0.6278671670106556, 'macro_f1-score': 0.30152341954578143, 'balanced_accuracy': 0.31722983739990007, 'mcc': 0.5377346440917657, 'train_loss': 0.8178996371708581}\n",
      "Epoch 11/20\n"
     ]
    },
    {
     "name": "stderr",
     "output_type": "stream",
     "text": [
      "100%|██████████| 423/423 [00:46<00:00,  9.08it/s]\n"
     ]
    },
    {
     "name": "stdout",
     "output_type": "stream",
     "text": [
      "{'val_loss': 1.6637276259233367, 'val_accuracy': 0.6700177409816677, 'precision': 0.6559166967083649, 'recall': 0.6700177409816677, 'f1-score': 0.6496086575010982, 'macro_f1-score': 0.34952173296038747, 'balanced_accuracy': 0.3489943174042009, 'mcc': 0.5563291466997442, 'train_loss': 0.4677191624444322}\n",
      "Epoch 12/20\n"
     ]
    },
    {
     "name": "stderr",
     "output_type": "stream",
     "text": [
      "100%|██████████| 423/423 [00:47<00:00,  8.93it/s]\n"
     ]
    },
    {
     "name": "stdout",
     "output_type": "stream",
     "text": [
      "{'val_loss': 1.710877922908315, 'val_accuracy': 0.6540508574807806, 'precision': 0.6512389419635652, 'recall': 0.6540508574807806, 'f1-score': 0.6394188828817495, 'macro_f1-score': 0.3616892834016614, 'balanced_accuracy': 0.3631533203204716, 'mcc': 0.5417861873027421, 'train_loss': 0.5518544320475055}\n",
      "Epoch 13/20\n"
     ]
    },
    {
     "name": "stderr",
     "output_type": "stream",
     "text": [
      "100%|██████████| 423/423 [00:46<00:00,  9.18it/s]\n"
     ]
    },
    {
     "name": "stdout",
     "output_type": "stream",
     "text": [
      "{'val_loss': 1.6581391623981718, 'val_accuracy': 0.6771141336487285, 'precision': 0.6765860950561176, 'recall': 0.6771141336487285, 'f1-score': 0.6669863146041783, 'macro_f1-score': 0.3843368643008238, 'balanced_accuracy': 0.3617647678142403, 'mcc': 0.5678609643128211, 'train_loss': 0.36189581071583654}\n",
      "Epoch 14/20\n"
     ]
    },
    {
     "name": "stderr",
     "output_type": "stream",
     "text": [
      "100%|██████████| 423/423 [00:47<00:00,  8.96it/s]\n"
     ]
    },
    {
     "name": "stdout",
     "output_type": "stream",
     "text": [
      "{'val_loss': 1.8524917099132854, 'val_accuracy': 0.667652276759314, 'precision': 0.6775635420505923, 'recall': 0.667652276759314, 'f1-score': 0.6595481057663302, 'macro_f1-score': 0.38777844209401363, 'balanced_accuracy': 0.38289881793732733, 'mcc': 0.5584388584422527, 'train_loss': 0.29407476551993694}\n",
      "Epoch 15/20\n"
     ]
    },
    {
     "name": "stderr",
     "output_type": "stream",
     "text": [
      "100%|██████████| 423/423 [00:47<00:00,  8.98it/s]\n"
     ]
    },
    {
     "name": "stdout",
     "output_type": "stream",
     "text": [
      "{'val_loss': 1.9621437431646969, 'val_accuracy': 0.6759314015375517, 'precision': 0.6746743033177373, 'recall': 0.6759314015375517, 'f1-score': 0.6596677318111943, 'macro_f1-score': 0.3737465704730383, 'balanced_accuracy': 0.37756769107059207, 'mcc': 0.564381038073186, 'train_loss': 0.2673298701771643}\n",
      "Epoch 16/20\n"
     ]
    },
    {
     "name": "stderr",
     "output_type": "stream",
     "text": [
      "100%|██████████| 423/423 [00:46<00:00,  9.04it/s]\n"
     ]
    },
    {
     "name": "stdout",
     "output_type": "stream",
     "text": [
      "{'val_loss': 1.9420564198550188, 'val_accuracy': 0.6782968657599053, 'precision': 0.6676703360910301, 'recall': 0.6782968657599053, 'f1-score': 0.6592684761218395, 'macro_f1-score': 0.38948634091007395, 'balanced_accuracy': 0.38010633297818025, 'mcc': 0.5682969039199166, 'train_loss': 0.27070904495998177}\n",
      "Epoch 17/20\n"
     ]
    },
    {
     "name": "stderr",
     "output_type": "stream",
     "text": [
      "100%|██████████| 423/423 [00:47<00:00,  8.96it/s]\n"
     ]
    },
    {
     "name": "stdout",
     "output_type": "stream",
     "text": [
      "{'val_loss': 1.8325476936011944, 'val_accuracy': 0.6481371969248965, 'precision': 0.6463524266446422, 'recall': 0.6481371969248965, 'f1-score': 0.6368828734433657, 'macro_f1-score': 0.3707745467868396, 'balanced_accuracy': 0.3752439527760329, 'mcc': 0.5384098469470974, 'train_loss': 0.2694061972265821}\n",
      "Epoch 18/20\n"
     ]
    },
    {
     "name": "stderr",
     "output_type": "stream",
     "text": [
      "100%|██████████| 423/423 [00:46<00:00,  9.02it/s]\n"
     ]
    },
    {
     "name": "stdout",
     "output_type": "stream",
     "text": [
      "{'val_loss': 1.9564145446385977, 'val_accuracy': 0.6729745712596097, 'precision': 0.6689324748286116, 'recall': 0.6729745712596097, 'f1-score': 0.6559370280781036, 'macro_f1-score': 0.3703354914463248, 'balanced_accuracy': 0.3557918138696564, 'mcc': 0.5588457281632971, 'train_loss': 0.26373891749014156}\n",
      "Epoch 19/20\n"
     ]
    },
    {
     "name": "stderr",
     "output_type": "stream",
     "text": [
      "100%|██████████| 423/423 [00:47<00:00,  8.91it/s]\n"
     ]
    },
    {
     "name": "stdout",
     "output_type": "stream",
     "text": [
      "{'val_loss': 2.0044981284805066, 'val_accuracy': 0.6735659373151981, 'precision': 0.6684715690137476, 'recall': 0.6735659373151981, 'f1-score': 0.657698721278106, 'macro_f1-score': 0.39438194888189676, 'balanced_accuracy': 0.37641930546497193, 'mcc': 0.5622237720214442, 'train_loss': 0.253931724945255}\n",
      "Epoch 20/20\n"
     ]
    },
    {
     "name": "stderr",
     "output_type": "stream",
     "text": [
      "100%|██████████| 423/423 [00:47<00:00,  8.97it/s]\n"
     ]
    },
    {
     "name": "stdout",
     "output_type": "stream",
     "text": [
      "{'val_loss': 1.9377593281415273, 'val_accuracy': 0.6564163217031342, 'precision': 0.6620434473854312, 'recall': 0.6564163217031342, 'f1-score': 0.6498249096018337, 'macro_f1-score': 0.36351802018935003, 'balanced_accuracy': 0.36570957616705047, 'mcc': 0.5482049626263471, 'train_loss': 0.26938899988132414}\n",
      "\n",
      "[Fold 3]\n",
      "Label distribution after resampling:\n",
      "  label 0: 3179\n",
      "  label 1: 25\n",
      "  label 2: 112\n",
      "  label 3: 24\n",
      "  label 4: 206\n",
      "  label 5: 116\n",
      "  label 6: 94\n",
      "  label 7: 31\n",
      "  label 8: 68\n",
      "  label 9: 65\n",
      "  label 10: 71\n",
      "  label 11: 172\n",
      "  label 12: 192\n",
      "  label 13: 29\n",
      "  label 14: 23\n",
      "  label 15: 25\n",
      "  label 16: 20\n",
      "  label 17: 231\n",
      "  label 18: 93\n",
      "  label 19: 45\n",
      "  label 20: 14\n",
      "  label 21: 36\n",
      "  label 22: 77\n",
      "  label 23: 160\n",
      "  label 24: 16\n",
      "  label 25: 51\n",
      "  label 26: 85\n",
      "  label 27: 49\n",
      "  label 28: 12\n",
      "  label 29: 12\n",
      "  label 30: 16\n",
      "  label 31: 80\n",
      "  label 32: 36\n",
      "  label 33: 32\n",
      "  label 34: 29\n",
      "  label 35: 12\n",
      "  label 36: 28\n",
      "  label 37: 22\n",
      "  label 38: 5\n",
      "  label 39: 103\n",
      "  label 40: 11\n",
      "  label 41: 9\n",
      "  label 42: 147\n",
      "  label 43: 16\n",
      "  label 44: 20\n",
      "  label 45: 9\n",
      "  label 46: 55\n",
      "  label 47: 529\n",
      "  label 48: 201\n",
      "  label 49: 70\n",
      "model is microsoft/deberta-base cnn\n",
      "Epoch 1/20\n"
     ]
    },
    {
     "name": "stderr",
     "output_type": "stream",
     "text": [
      "100%|██████████| 423/423 [00:47<00:00,  8.92it/s]\n"
     ]
    },
    {
     "name": "stdout",
     "output_type": "stream",
     "text": [
      "{'val_loss': 1.7476519891675912, 'val_accuracy': 0.5789473684210527, 'precision': 0.36495473760855873, 'recall': 0.5789473684210527, 'f1-score': 0.4458613562389144, 'macro_f1-score': 0.06709468517590737, 'balanced_accuracy': 0.0814482106262982, 'mcc': 0.37778042128107314, 'train_loss': 2.084892668199877}\n",
      "Epoch 2/20\n"
     ]
    },
    {
     "name": "stderr",
     "output_type": "stream",
     "text": [
      "100%|██████████| 423/423 [00:47<00:00,  8.98it/s]\n"
     ]
    },
    {
     "name": "stdout",
     "output_type": "stream",
     "text": [
      "{'val_loss': 1.5647707885166384, 'val_accuracy': 0.6096984033116499, 'precision': 0.46260586533518927, 'recall': 0.6096984033116499, 'f1-score': 0.5098798081334749, 'macro_f1-score': 0.10932182326674354, 'balanced_accuracy': 0.1201636575765459, 'mcc': 0.44271866448933433, 'train_loss': 1.6308401597588902}\n",
      "Epoch 3/20\n"
     ]
    },
    {
     "name": "stderr",
     "output_type": "stream",
     "text": [
      "100%|██████████| 423/423 [00:46<00:00,  9.01it/s]\n"
     ]
    },
    {
     "name": "stdout",
     "output_type": "stream",
     "text": [
      "{'val_loss': 1.420286291331615, 'val_accuracy': 0.6114725014784151, 'precision': 0.5536168040577044, 'recall': 0.6114725014784151, 'f1-score': 0.5571860417876926, 'macro_f1-score': 0.1563384148609585, 'balanced_accuracy': 0.1623112653547137, 'mcc': 0.4731371873351997, 'train_loss': 1.3610460136094555}\n",
      "Epoch 4/20\n"
     ]
    },
    {
     "name": "stderr",
     "output_type": "stream",
     "text": [
      "100%|██████████| 423/423 [00:47<00:00,  8.97it/s]\n"
     ]
    },
    {
     "name": "stdout",
     "output_type": "stream",
     "text": [
      "{'val_loss': 1.4014319659404035, 'val_accuracy': 0.6244825547013602, 'precision': 0.6015588914700705, 'recall': 0.6244825547013602, 'f1-score': 0.5922083716518436, 'macro_f1-score': 0.22886384622471834, 'balanced_accuracy': 0.23604442341228327, 'mcc': 0.4934808996684213, 'train_loss': 1.1404991563823488}\n",
      "Epoch 5/20\n"
     ]
    },
    {
     "name": "stderr",
     "output_type": "stream",
     "text": [
      "100%|██████████| 423/423 [00:46<00:00,  9.04it/s]\n"
     ]
    },
    {
     "name": "stdout",
     "output_type": "stream",
     "text": [
      "{'val_loss': 1.3443658812990729, 'val_accuracy': 0.6404494382022472, 'precision': 0.6222861435555154, 'recall': 0.6404494382022472, 'f1-score': 0.6163872564564586, 'macro_f1-score': 0.270829404713596, 'balanced_accuracy': 0.28511740684077774, 'mcc': 0.5296714357901002, 'train_loss': 0.9388066325909139}\n",
      "Epoch 6/20\n"
     ]
    },
    {
     "name": "stderr",
     "output_type": "stream",
     "text": [
      "100%|██████████| 423/423 [00:46<00:00,  9.00it/s]\n"
     ]
    },
    {
     "name": "stdout",
     "output_type": "stream",
     "text": [
      "{'val_loss': 1.3779040400711995, 'val_accuracy': 0.6528681253696038, 'precision': 0.6289617734305378, 'recall': 0.6528681253696038, 'f1-score': 0.6226323824867684, 'macro_f1-score': 0.2987985913566475, 'balanced_accuracy': 0.30162241711484883, 'mcc': 0.5327622113173422, 'train_loss': 0.7520503070619371}\n",
      "Epoch 7/20\n"
     ]
    },
    {
     "name": "stderr",
     "output_type": "stream",
     "text": [
      "100%|██████████| 423/423 [00:46<00:00,  9.02it/s]\n"
     ]
    },
    {
     "name": "stdout",
     "output_type": "stream",
     "text": [
      "{'val_loss': 1.4709983439940326, 'val_accuracy': 0.6262566528681254, 'precision': 0.639099265475911, 'recall': 0.6262566528681254, 'f1-score': 0.612851843773431, 'macro_f1-score': 0.2895541693795267, 'balanced_accuracy': 0.3013734077677805, 'mcc': 0.507807197819014, 'train_loss': 0.6173433413196259}\n",
      "Epoch 8/20\n"
     ]
    },
    {
     "name": "stderr",
     "output_type": "stream",
     "text": [
      "100%|██████████| 423/423 [00:47<00:00,  8.98it/s]\n"
     ]
    },
    {
     "name": "stdout",
     "output_type": "stream",
     "text": [
      "{'val_loss': 1.5028055343987807, 'val_accuracy': 0.6475458308693081, 'precision': 0.6362258409085371, 'recall': 0.6475458308693081, 'f1-score': 0.6303771652365563, 'macro_f1-score': 0.30629184330524856, 'balanced_accuracy': 0.31176816269261903, 'mcc': 0.5323679025135826, 'train_loss': 0.503150830199462}\n",
      "Epoch 9/20\n"
     ]
    },
    {
     "name": "stderr",
     "output_type": "stream",
     "text": [
      "100%|██████████| 423/423 [00:47<00:00,  8.99it/s]\n"
     ]
    },
    {
     "name": "stdout",
     "output_type": "stream",
     "text": [
      "{'val_loss': 1.5955321119641357, 'val_accuracy': 0.6398580721466588, 'precision': 0.6498486153760712, 'recall': 0.6398580721466588, 'f1-score': 0.63078676879621, 'macro_f1-score': 0.30486016763154833, 'balanced_accuracy': 0.30081658830032876, 'mcc': 0.5219829665343811, 'train_loss': 0.4414549639699518}\n",
      "Epoch 10/20\n"
     ]
    },
    {
     "name": "stderr",
     "output_type": "stream",
     "text": [
      "100%|██████████| 423/423 [00:46<00:00,  9.06it/s]\n"
     ]
    },
    {
     "name": "stdout",
     "output_type": "stream",
     "text": [
      "{'val_loss': 1.6592550213044543, 'val_accuracy': 0.6428149024246008, 'precision': 0.6366526664431609, 'recall': 0.6428149024246008, 'f1-score': 0.6274129957669342, 'macro_f1-score': 0.31252475035028837, 'balanced_accuracy': 0.31934795479443756, 'mcc': 0.5264991643691606, 'train_loss': 0.3688475699174982}\n",
      "Epoch 11/20\n"
     ]
    },
    {
     "name": "stderr",
     "output_type": "stream",
     "text": [
      "100%|██████████| 423/423 [00:47<00:00,  8.98it/s]\n"
     ]
    },
    {
     "name": "stdout",
     "output_type": "stream",
     "text": [
      "{'val_loss': 2.9811222935622594, 'val_accuracy': 0.4861028976936724, 'precision': 0.29527423399226205, 'recall': 0.4861028976936724, 'f1-score': 0.33038340553649614, 'macro_f1-score': 0.019614549402823016, 'balanced_accuracy': 0.024090909090909093, 'mcc': 0.14039739525163047, 'train_loss': 1.230475865788846}\n",
      "Epoch 12/20\n"
     ]
    },
    {
     "name": "stderr",
     "output_type": "stream",
     "text": [
      "100%|██████████| 423/423 [00:46<00:00,  9.04it/s]\n"
     ]
    },
    {
     "name": "stdout",
     "output_type": "stream",
     "text": [
      "{'val_loss': 3.044578842397006, 'val_accuracy': 0.47013601419278533, 'precision': 0.22102787184107886, 'recall': 0.47013601419278533, 'f1-score': 0.30069037110479835, 'macro_f1-score': 0.012791633145615447, 'balanced_accuracy': 0.02, 'mcc': 0.0, 'train_loss': 2.540569767038873}\n",
      "Epoch 13/20\n"
     ]
    },
    {
     "name": "stderr",
     "output_type": "stream",
     "text": [
      "100%|██████████| 423/423 [00:46<00:00,  9.03it/s]\n"
     ]
    },
    {
     "name": "stdout",
     "output_type": "stream",
     "text": [
      "{'val_loss': 3.122097332522554, 'val_accuracy': 0.47013601419278533, 'precision': 0.22102787184107886, 'recall': 0.47013601419278533, 'f1-score': 0.30069037110479835, 'macro_f1-score': 0.012791633145615447, 'balanced_accuracy': 0.02, 'mcc': 0.0, 'train_loss': 2.5352532973526216}\n",
      "Early stopping.\n",
      "\n",
      "[Fold 4]\n",
      "Label distribution after resampling:\n",
      "  label 0: 3179\n",
      "  label 1: 25\n",
      "  label 2: 112\n",
      "  label 3: 24\n",
      "  label 4: 206\n",
      "  label 5: 116\n",
      "  label 6: 94\n",
      "  label 7: 32\n",
      "  label 8: 68\n",
      "  label 9: 64\n",
      "  label 10: 71\n",
      "  label 11: 172\n",
      "  label 12: 193\n",
      "  label 13: 28\n",
      "  label 14: 24\n",
      "  label 15: 24\n",
      "  label 16: 20\n",
      "  label 17: 232\n",
      "  label 18: 92\n",
      "  label 19: 45\n",
      "  label 20: 15\n",
      "  label 21: 35\n",
      "  label 22: 77\n",
      "  label 23: 160\n",
      "  label 24: 16\n",
      "  label 25: 51\n",
      "  label 26: 85\n",
      "  label 27: 49\n",
      "  label 28: 12\n",
      "  label 29: 13\n",
      "  label 30: 15\n",
      "  label 31: 80\n",
      "  label 32: 36\n",
      "  label 33: 32\n",
      "  label 34: 29\n",
      "  label 35: 12\n",
      "  label 36: 28\n",
      "  label 37: 22\n",
      "  label 38: 6\n",
      "  label 39: 103\n",
      "  label 40: 11\n",
      "  label 41: 9\n",
      "  label 42: 148\n",
      "  label 43: 16\n",
      "  label 44: 20\n",
      "  label 45: 8\n",
      "  label 46: 54\n",
      "  label 47: 529\n",
      "  label 48: 201\n",
      "  label 49: 70\n",
      "model is microsoft/deberta-base cnn\n",
      "Epoch 1/20\n"
     ]
    },
    {
     "name": "stderr",
     "output_type": "stream",
     "text": [
      "100%|██████████| 423/423 [00:47<00:00,  8.96it/s]\n"
     ]
    },
    {
     "name": "stdout",
     "output_type": "stream",
     "text": [
      "{'val_loss': 2.5514022325569727, 'val_accuracy': 0.47664104080425784, 'precision': 0.2535064590627817, 'recall': 0.47664104080425784, 'f1-score': 0.3128962883699679, 'macro_f1-score': 0.019230489848042834, 'balanced_accuracy': 0.023859649122807015, 'mcc': 0.09248525643583594, 'train_loss': 2.2477569891487734}\n",
      "Epoch 2/20\n"
     ]
    },
    {
     "name": "stderr",
     "output_type": "stream",
     "text": [
      "100%|██████████| 423/423 [00:47<00:00,  8.94it/s]\n"
     ]
    },
    {
     "name": "stdout",
     "output_type": "stream",
     "text": [
      "{'val_loss': 2.315008131962902, 'val_accuracy': 0.5517445298639858, 'precision': 0.32559700681637427, 'recall': 0.5517445298639858, 'f1-score': 0.4057281487578275, 'macro_f1-score': 0.040333580712791445, 'balanced_accuracy': 0.04851855195450032, 'mcc': 0.31668052073731773, 'train_loss': 2.029568820980424}\n",
      "Epoch 3/20\n"
     ]
    },
    {
     "name": "stderr",
     "output_type": "stream",
     "text": [
      "100%|██████████| 423/423 [00:47<00:00,  8.98it/s]\n"
     ]
    },
    {
     "name": "stdout",
     "output_type": "stream",
     "text": [
      "{'val_loss': 1.804260124575417, 'val_accuracy': 0.5629804849201656, 'precision': 0.36033598222147806, 'recall': 0.5629804849201656, 'f1-score': 0.4299437622406487, 'macro_f1-score': 0.04099804412577569, 'balanced_accuracy': 0.05923056784327887, 'mcc': 0.3635018280822353, 'train_loss': 1.8368316976172987}\n",
      "Epoch 4/20\n"
     ]
    },
    {
     "name": "stderr",
     "output_type": "stream",
     "text": [
      "100%|██████████| 423/423 [00:46<00:00,  9.04it/s]\n"
     ]
    },
    {
     "name": "stdout",
     "output_type": "stream",
     "text": [
      "{'val_loss': 1.8324910908375147, 'val_accuracy': 0.5789473684210527, 'precision': 0.3839967465043329, 'recall': 0.5789473684210527, 'f1-score': 0.4424075397063759, 'macro_f1-score': 0.0503938071053371, 'balanced_accuracy': 0.06606285295858286, 'mcc': 0.38000632531073486, 'train_loss': 1.830785259287408}\n",
      "Epoch 5/20\n"
     ]
    },
    {
     "name": "stderr",
     "output_type": "stream",
     "text": [
      "100%|██████████| 423/423 [00:47<00:00,  9.00it/s]\n"
     ]
    },
    {
     "name": "stdout",
     "output_type": "stream",
     "text": [
      "{'val_loss': 1.786366733177653, 'val_accuracy': 0.5369603784742756, 'precision': 0.4356965126437132, 'recall': 0.5369603784742756, 'f1-score': 0.46562326943934584, 'macro_f1-score': 0.0770593146272736, 'balanced_accuracy': 0.09169408643691161, 'mcc': 0.345925556324381, 'train_loss': 1.7640223669385797}\n",
      "Epoch 6/20\n"
     ]
    },
    {
     "name": "stderr",
     "output_type": "stream",
     "text": [
      "100%|██████████| 423/423 [00:46<00:00,  9.01it/s]\n"
     ]
    },
    {
     "name": "stdout",
     "output_type": "stream",
     "text": [
      "{'val_loss': 1.509346458428311, 'val_accuracy': 0.6037847427557658, 'precision': 0.5518101534311596, 'recall': 0.6037847427557658, 'f1-score': 0.5591802826554455, 'macro_f1-score': 0.1435458712660128, 'balanced_accuracy': 0.16481129985892515, 'mcc': 0.47494646712737226, 'train_loss': 1.5161575086714247}\n",
      "Epoch 7/20\n"
     ]
    },
    {
     "name": "stderr",
     "output_type": "stream",
     "text": [
      "100%|██████████| 423/423 [00:47<00:00,  8.96it/s]\n"
     ]
    },
    {
     "name": "stdout",
     "output_type": "stream",
     "text": [
      "{'val_loss': 1.4661461803710685, 'val_accuracy': 0.6191602602010644, 'precision': 0.5138019797200885, 'recall': 0.6191602602010644, 'f1-score': 0.5529439265486011, 'macro_f1-score': 0.13287104488674215, 'balanced_accuracy': 0.1588243773409503, 'mcc': 0.48737164601177657, 'train_loss': 1.5088657156936385}\n",
      "Epoch 8/20\n"
     ]
    },
    {
     "name": "stderr",
     "output_type": "stream",
     "text": [
      "100%|██████████| 423/423 [00:47<00:00,  8.97it/s]\n"
     ]
    },
    {
     "name": "stdout",
     "output_type": "stream",
     "text": [
      "{'val_loss': 1.406178446592025, 'val_accuracy': 0.6422235363690124, 'precision': 0.5657558350991113, 'recall': 0.6422235363690124, 'f1-score': 0.584844535627468, 'macro_f1-score': 0.17149971855768376, 'balanced_accuracy': 0.1874577306637822, 'mcc': 0.5157267791306082, 'train_loss': 1.3216312405769988}\n",
      "Epoch 9/20\n"
     ]
    },
    {
     "name": "stderr",
     "output_type": "stream",
     "text": [
      "100%|██████████| 423/423 [00:47<00:00,  8.94it/s]\n"
     ]
    },
    {
     "name": "stdout",
     "output_type": "stream",
     "text": [
      "{'val_loss': 1.4830034678837039, 'val_accuracy': 0.6422235363690124, 'precision': 0.5590710684950172, 'recall': 0.6422235363690124, 'f1-score': 0.5907313860778778, 'macro_f1-score': 0.18582177724752622, 'balanced_accuracy': 0.19691638833786843, 'mcc': 0.5156288606946521, 'train_loss': 1.2081055512594556}\n",
      "Epoch 10/20\n"
     ]
    },
    {
     "name": "stderr",
     "output_type": "stream",
     "text": [
      "100%|██████████| 423/423 [00:47<00:00,  8.98it/s]\n"
     ]
    },
    {
     "name": "stdout",
     "output_type": "stream",
     "text": [
      "{'val_loss': 1.4077293456725355, 'val_accuracy': 0.631578947368421, 'precision': 0.5836270622358998, 'recall': 0.631578947368421, 'f1-score': 0.5931252051243934, 'macro_f1-score': 0.19783324155287732, 'balanced_accuracy': 0.21021391840339945, 'mcc': 0.5099692309644347, 'train_loss': 1.106008462273201}\n",
      "Epoch 11/20\n"
     ]
    },
    {
     "name": "stderr",
     "output_type": "stream",
     "text": [
      "100%|██████████| 423/423 [00:46<00:00,  9.00it/s]\n"
     ]
    },
    {
     "name": "stdout",
     "output_type": "stream",
     "text": [
      "{'val_loss': 1.349973144958604, 'val_accuracy': 0.644589000591366, 'precision': 0.6489451664825047, 'recall': 0.644589000591366, 'f1-score': 0.6328964813879397, 'macro_f1-score': 0.2544834621377296, 'balanced_accuracy': 0.2693189657902622, 'mcc': 0.5395517307095508, 'train_loss': 0.9180083701092019}\n",
      "Epoch 12/20\n"
     ]
    },
    {
     "name": "stderr",
     "output_type": "stream",
     "text": [
      "100%|██████████| 423/423 [00:46<00:00,  9.01it/s]\n"
     ]
    },
    {
     "name": "stdout",
     "output_type": "stream",
     "text": [
      "{'val_loss': 1.3642726222861488, 'val_accuracy': 0.6303962152572442, 'precision': 0.6308800217218445, 'recall': 0.6303962152572442, 'f1-score': 0.617245423395674, 'macro_f1-score': 0.2574834224290339, 'balanced_accuracy': 0.27364529672295235, 'mcc': 0.5162382866935529, 'train_loss': 1.1650922504687422}\n",
      "Epoch 13/20\n"
     ]
    },
    {
     "name": "stderr",
     "output_type": "stream",
     "text": [
      "100%|██████████| 423/423 [00:46<00:00,  9.01it/s]\n"
     ]
    },
    {
     "name": "stdout",
     "output_type": "stream",
     "text": [
      "{'val_loss': 1.4327645731984444, 'val_accuracy': 0.6380839739798936, 'precision': 0.6373229842226709, 'recall': 0.6380839739798936, 'f1-score': 0.6262176648552642, 'macro_f1-score': 0.27208221757054435, 'balanced_accuracy': 0.2784530736457449, 'mcc': 0.5249273296777812, 'train_loss': 0.8328239904016468}\n",
      "Epoch 14/20\n"
     ]
    },
    {
     "name": "stderr",
     "output_type": "stream",
     "text": [
      "100%|██████████| 423/423 [00:47<00:00,  8.98it/s]\n"
     ]
    },
    {
     "name": "stdout",
     "output_type": "stream",
     "text": [
      "{'val_loss': 1.5133061527081255, 'val_accuracy': 0.631578947368421, 'precision': 0.6138018287676309, 'recall': 0.631578947368421, 'f1-score': 0.593665301362653, 'macro_f1-score': 0.2542387869529214, 'balanced_accuracy': 0.25846373146691165, 'mcc': 0.5000135594641602, 'train_loss': 0.7241124827458785}\n",
      "Epoch 15/20\n"
     ]
    },
    {
     "name": "stderr",
     "output_type": "stream",
     "text": [
      "100%|██████████| 423/423 [00:47<00:00,  8.97it/s]\n"
     ]
    },
    {
     "name": "stdout",
     "output_type": "stream",
     "text": [
      "{'val_loss': 1.4844385402382545, 'val_accuracy': 0.6493199290360734, 'precision': 0.6561983848808406, 'recall': 0.6493199290360734, 'f1-score': 0.6425102293846384, 'macro_f1-score': 0.3224592779575955, 'balanced_accuracy': 0.3211434751233593, 'mcc': 0.5383473133101557, 'train_loss': 0.6617588203391567}\n",
      "Epoch 16/20\n"
     ]
    },
    {
     "name": "stderr",
     "output_type": "stream",
     "text": [
      "100%|██████████| 423/423 [00:45<00:00,  9.20it/s]\n"
     ]
    },
    {
     "name": "stdout",
     "output_type": "stream",
     "text": [
      "{'val_loss': 1.5750517313772778, 'val_accuracy': 0.6505026611472502, 'precision': 0.6408915266298696, 'recall': 0.6505026611472502, 'f1-score': 0.6348650140455808, 'macro_f1-score': 0.29514372537335065, 'balanced_accuracy': 0.29700543919924105, 'mcc': 0.5369740197520831, 'train_loss': 0.5522906549327763}\n",
      "Epoch 17/20\n"
     ]
    },
    {
     "name": "stderr",
     "output_type": "stream",
     "text": [
      "100%|██████████| 423/423 [00:46<00:00,  9.03it/s]\n"
     ]
    },
    {
     "name": "stdout",
     "output_type": "stream",
     "text": [
      "{'val_loss': 2.179229107667815, 'val_accuracy': 0.6020106445890006, 'precision': 0.5952629059540119, 'recall': 0.6020106445890006, 'f1-score': 0.5839334924994998, 'macro_f1-score': 0.27508626929377183, 'balanced_accuracy': 0.26331845723454167, 'mcc': 0.4623185500279747, 'train_loss': 0.7827006743221278}\n",
      "Epoch 18/20\n"
     ]
    },
    {
     "name": "stderr",
     "output_type": "stream",
     "text": [
      "100%|██████████| 423/423 [00:46<00:00,  9.03it/s]\n"
     ]
    },
    {
     "name": "stdout",
     "output_type": "stream",
     "text": [
      "{'val_loss': 2.1566112727489113, 'val_accuracy': 0.589591957421644, 'precision': 0.5881916017843254, 'recall': 0.589591957421644, 'f1-score': 0.5746816487091001, 'macro_f1-score': 0.2946069631321164, 'balanced_accuracy': 0.2896582620030265, 'mcc': 0.45293317672420597, 'train_loss': 0.6123760690027518}\n",
      "Early stopping.\n",
      "\n",
      "[Fold 5]\n",
      "Label distribution after resampling:\n",
      "  label 0: 3180\n",
      "  label 1: 24\n",
      "  label 2: 112\n",
      "  label 3: 24\n",
      "  label 4: 205\n",
      "  label 5: 116\n",
      "  label 6: 95\n",
      "  label 7: 31\n",
      "  label 8: 68\n",
      "  label 9: 65\n",
      "  label 10: 70\n",
      "  label 11: 172\n",
      "  label 12: 193\n",
      "  label 13: 29\n",
      "  label 14: 23\n",
      "  label 15: 25\n",
      "  label 16: 20\n",
      "  label 17: 231\n",
      "  label 18: 93\n",
      "  label 19: 44\n",
      "  label 20: 15\n",
      "  label 21: 35\n",
      "  label 22: 78\n",
      "  label 23: 160\n",
      "  label 24: 16\n",
      "  label 25: 50\n",
      "  label 26: 86\n",
      "  label 27: 48\n",
      "  label 28: 12\n",
      "  label 29: 13\n",
      "  label 30: 15\n",
      "  label 31: 80\n",
      "  label 32: 36\n",
      "  label 33: 32\n",
      "  label 34: 30\n",
      "  label 35: 12\n",
      "  label 36: 28\n",
      "  label 37: 21\n",
      "  label 38: 6\n",
      "  label 39: 104\n",
      "  label 40: 11\n",
      "  label 41: 9\n",
      "  label 42: 147\n",
      "  label 43: 16\n",
      "  label 44: 20\n",
      "  label 45: 9\n",
      "  label 46: 54\n",
      "  label 47: 529\n",
      "  label 48: 202\n",
      "  label 49: 70\n",
      "model is microsoft/deberta-base cnn\n",
      "Epoch 1/20\n"
     ]
    },
    {
     "name": "stderr",
     "output_type": "stream",
     "text": [
      "100%|██████████| 423/423 [00:46<00:00,  9.01it/s]\n"
     ]
    },
    {
     "name": "stdout",
     "output_type": "stream",
     "text": [
      "{'val_loss': 1.8214750526086338, 'val_accuracy': 0.5686390532544379, 'precision': 0.38051503655764773, 'recall': 0.5686390532544379, 'f1-score': 0.4492501009410246, 'macro_f1-score': 0.05615082833728331, 'balanced_accuracy': 0.07323133048967077, 'mcc': 0.36858817049805326, 'train_loss': 2.077533181959292}\n",
      "Epoch 2/20\n"
     ]
    },
    {
     "name": "stderr",
     "output_type": "stream",
     "text": [
      "100%|██████████| 423/423 [00:46<00:00,  9.03it/s]\n"
     ]
    },
    {
     "name": "stdout",
     "output_type": "stream",
     "text": [
      "{'val_loss': 1.6153374972208492, 'val_accuracy': 0.6005917159763313, 'precision': 0.44825098975546385, 'recall': 0.6005917159763313, 'f1-score': 0.5069547511938568, 'macro_f1-score': 0.09527593254480347, 'balanced_accuracy': 0.11811495047623723, 'mcc': 0.44024794755989954, 'train_loss': 1.6894672800463142}\n",
      "Epoch 3/20\n"
     ]
    },
    {
     "name": "stderr",
     "output_type": "stream",
     "text": [
      "100%|██████████| 423/423 [00:46<00:00,  9.01it/s]\n"
     ]
    },
    {
     "name": "stdout",
     "output_type": "stream",
     "text": [
      "{'val_loss': 1.5508058844309933, 'val_accuracy': 0.5905325443786982, 'precision': 0.49237941255763584, 'recall': 0.5905325443786982, 'f1-score': 0.5237156958349342, 'macro_f1-score': 0.11575780236975125, 'balanced_accuracy': 0.135608200544187, 'mcc': 0.44609181615097976, 'train_loss': 1.4938992690250947}\n",
      "Epoch 4/20\n"
     ]
    },
    {
     "name": "stderr",
     "output_type": "stream",
     "text": [
      "100%|██████████| 423/423 [00:47<00:00,  8.95it/s]\n"
     ]
    },
    {
     "name": "stdout",
     "output_type": "stream",
     "text": [
      "{'val_loss': 1.373255432214377, 'val_accuracy': 0.6331360946745562, 'precision': 0.5488748334043018, 'recall': 0.6331360946745562, 'f1-score': 0.5713084351623249, 'macro_f1-score': 0.1631932664697585, 'balanced_accuracy': 0.17461143334631504, 'mcc': 0.4980566516768099, 'train_loss': 1.2607502583634487}\n",
      "Epoch 5/20\n"
     ]
    },
    {
     "name": "stderr",
     "output_type": "stream",
     "text": [
      "100%|██████████| 423/423 [00:47<00:00,  8.97it/s]\n"
     ]
    },
    {
     "name": "stdout",
     "output_type": "stream",
     "text": [
      "{'val_loss': 1.422365982577486, 'val_accuracy': 0.6272189349112426, 'precision': 0.6280670589422621, 'recall': 0.6272189349112426, 'f1-score': 0.5911859534080515, 'macro_f1-score': 0.20258310614879307, 'balanced_accuracy': 0.20389148962810907, 'mcc': 0.4963577333767766, 'train_loss': 1.081430200496182}\n",
      "Epoch 6/20\n"
     ]
    },
    {
     "name": "stderr",
     "output_type": "stream",
     "text": [
      "100%|██████████| 423/423 [00:46<00:00,  9.02it/s]\n"
     ]
    },
    {
     "name": "stdout",
     "output_type": "stream",
     "text": [
      "{'val_loss': 1.3884787553886198, 'val_accuracy': 0.6337278106508876, 'precision': 0.6218388942823666, 'recall': 0.6337278106508876, 'f1-score': 0.6073152341902348, 'macro_f1-score': 0.23417915767070563, 'balanced_accuracy': 0.24252357849776654, 'mcc': 0.5110635165326674, 'train_loss': 0.9271475440573749}\n",
      "Epoch 7/20\n"
     ]
    },
    {
     "name": "stderr",
     "output_type": "stream",
     "text": [
      "100%|██████████| 423/423 [00:47<00:00,  8.98it/s]\n"
     ]
    },
    {
     "name": "stdout",
     "output_type": "stream",
     "text": [
      "{'val_loss': 1.4392623608967043, 'val_accuracy': 0.6455621301775148, 'precision': 0.6124230384420366, 'recall': 0.6455621301775148, 'f1-score': 0.6146686948862303, 'macro_f1-score': 0.2720684994880324, 'balanced_accuracy': 0.25897452833985124, 'mcc': 0.5244491579148033, 'train_loss': 0.7835356558961507}\n",
      "Epoch 8/20\n"
     ]
    },
    {
     "name": "stderr",
     "output_type": "stream",
     "text": [
      "100%|██████████| 423/423 [00:47<00:00,  8.99it/s]\n"
     ]
    },
    {
     "name": "stdout",
     "output_type": "stream",
     "text": [
      "{'val_loss': 1.4739223535893098, 'val_accuracy': 0.649112426035503, 'precision': 0.6330460449989033, 'recall': 0.649112426035503, 'f1-score': 0.6277768896043163, 'macro_f1-score': 0.2851823036338489, 'balanced_accuracy': 0.2873051820473373, 'mcc': 0.5323899606040587, 'train_loss': 0.6646770908371776}\n",
      "Epoch 9/20\n"
     ]
    },
    {
     "name": "stderr",
     "output_type": "stream",
     "text": [
      "100%|██████████| 423/423 [00:46<00:00,  9.01it/s]\n"
     ]
    },
    {
     "name": "stdout",
     "output_type": "stream",
     "text": [
      "{'val_loss': 1.587256984609478, 'val_accuracy': 0.6449704142011834, 'precision': 0.6485186386965843, 'recall': 0.6449704142011834, 'f1-score': 0.6278918743421495, 'macro_f1-score': 0.3171974529514575, 'balanced_accuracy': 0.33146490596460554, 'mcc': 0.5367396210493632, 'train_loss': 0.5644721379657728}\n",
      "Epoch 10/20\n"
     ]
    },
    {
     "name": "stderr",
     "output_type": "stream",
     "text": [
      "100%|██████████| 423/423 [00:46<00:00,  9.04it/s]\n"
     ]
    },
    {
     "name": "stdout",
     "output_type": "stream",
     "text": [
      "{'val_loss': 1.552002711678451, 'val_accuracy': 0.663905325443787, 'precision': 0.6565833795242559, 'recall': 0.663905325443787, 'f1-score': 0.6449081864686129, 'macro_f1-score': 0.30979619417808174, 'balanced_accuracy': 0.29317825913481876, 'mcc': 0.5520794677180759, 'train_loss': 0.49502850763376444}\n",
      "Epoch 11/20\n"
     ]
    },
    {
     "name": "stderr",
     "output_type": "stream",
     "text": [
      "100%|██████████| 423/423 [00:46<00:00,  9.00it/s]\n"
     ]
    },
    {
     "name": "stdout",
     "output_type": "stream",
     "text": [
      "{'val_loss': 1.6844806485580948, 'val_accuracy': 0.6609467455621302, 'precision': 0.6746963964856927, 'recall': 0.6609467455621302, 'f1-score': 0.6547537867836886, 'macro_f1-score': 0.33077529724777327, 'balanced_accuracy': 0.323597997104601, 'mcc': 0.5515624814961133, 'train_loss': 0.4319847259851036}\n",
      "Epoch 12/20\n"
     ]
    },
    {
     "name": "stderr",
     "output_type": "stream",
     "text": [
      "100%|██████████| 423/423 [00:47<00:00,  8.97it/s]\n"
     ]
    },
    {
     "name": "stdout",
     "output_type": "stream",
     "text": [
      "{'val_loss': 1.6216038604671101, 'val_accuracy': 0.6532544378698225, 'precision': 0.6558813752357091, 'recall': 0.6532544378698225, 'f1-score': 0.6421137099341052, 'macro_f1-score': 0.33792058198442526, 'balanced_accuracy': 0.3487476448637544, 'mcc': 0.5500955030741326, 'train_loss': 0.3909285262746662}\n",
      "Epoch 13/20\n"
     ]
    },
    {
     "name": "stderr",
     "output_type": "stream",
     "text": [
      "100%|██████████| 423/423 [00:46<00:00,  9.06it/s]\n"
     ]
    },
    {
     "name": "stdout",
     "output_type": "stream",
     "text": [
      "{'val_loss': 1.8277556941194355, 'val_accuracy': 0.6615384615384615, 'precision': 0.6604357683425509, 'recall': 0.6615384615384615, 'f1-score': 0.6393441785672825, 'macro_f1-score': 0.31333745171972743, 'balanced_accuracy': 0.3014975925687452, 'mcc': 0.5434319035708209, 'train_loss': 0.3422370197198598}\n",
      "Epoch 14/20\n"
     ]
    },
    {
     "name": "stderr",
     "output_type": "stream",
     "text": [
      "100%|██████████| 423/423 [00:46<00:00,  9.01it/s]\n"
     ]
    },
    {
     "name": "stdout",
     "output_type": "stream",
     "text": [
      "{'val_loss': 1.7065887248741005, 'val_accuracy': 0.659171597633136, 'precision': 0.6645423796021347, 'recall': 0.659171597633136, 'f1-score': 0.6467929671358872, 'macro_f1-score': 0.3333046119310468, 'balanced_accuracy': 0.33214959561882085, 'mcc': 0.5545444832403649, 'train_loss': 0.33451123371385655}\n",
      "Epoch 15/20\n"
     ]
    },
    {
     "name": "stderr",
     "output_type": "stream",
     "text": [
      "100%|██████████| 423/423 [00:46<00:00,  9.02it/s]\n"
     ]
    },
    {
     "name": "stdout",
     "output_type": "stream",
     "text": [
      "{'val_loss': 1.7244384914355457, 'val_accuracy': 0.665680473372781, 'precision': 0.6637037549908544, 'recall': 0.665680473372781, 'f1-score': 0.6510864936659371, 'macro_f1-score': 0.36196921703668106, 'balanced_accuracy': 0.36287772854482464, 'mcc': 0.5606216953385319, 'train_loss': 0.3201677011993073}\n",
      "Epoch 16/20\n"
     ]
    },
    {
     "name": "stderr",
     "output_type": "stream",
     "text": [
      "100%|██████████| 423/423 [00:46<00:00,  9.03it/s]\n"
     ]
    },
    {
     "name": "stdout",
     "output_type": "stream",
     "text": [
      "{'val_loss': 1.912031909204879, 'val_accuracy': 0.6532544378698225, 'precision': 0.6660815144962924, 'recall': 0.6532544378698225, 'f1-score': 0.6412597650291947, 'macro_f1-score': 0.3257480404984831, 'balanced_accuracy': 0.30865659980526483, 'mcc': 0.534588068470521, 'train_loss': 0.33520518904926155}\n",
      "Epoch 17/20\n"
     ]
    },
    {
     "name": "stderr",
     "output_type": "stream",
     "text": [
      "100%|██████████| 423/423 [00:46<00:00,  9.03it/s]\n"
     ]
    },
    {
     "name": "stdout",
     "output_type": "stream",
     "text": [
      "{'val_loss': 1.9091068180102222, 'val_accuracy': 0.6633136094674557, 'precision': 0.6415284343315756, 'recall': 0.6633136094674557, 'f1-score': 0.6354271542207658, 'macro_f1-score': 0.3081376486826345, 'balanced_accuracy': 0.29069997857253194, 'mcc': 0.5439368508668313, 'train_loss': 0.33683463010549475}\n",
      "Epoch 18/20\n"
     ]
    },
    {
     "name": "stderr",
     "output_type": "stream",
     "text": [
      "100%|██████████| 423/423 [00:47<00:00,  8.94it/s]\n"
     ]
    },
    {
     "name": "stdout",
     "output_type": "stream",
     "text": [
      "{'val_loss': 1.9048446892005093, 'val_accuracy': 0.6597633136094675, 'precision': 0.6566558602349792, 'recall': 0.6597633136094675, 'f1-score': 0.6453343432550755, 'macro_f1-score': 0.3528592322994132, 'balanced_accuracy': 0.3510132400198027, 'mcc': 0.5559346925838946, 'train_loss': 0.37275644625376375}\n",
      "Early stopping.\n",
      "\n",
      " === microsoft/deberta-base + cnn + none Final 10-fold Cross-Validation Results ===\n",
      "Total time: 4635 seconds\n",
      "Total time: 1 hrs 17 mins 15 secs\n",
      "val_loss: 1.7376\n",
      "val_accuracy: 0.6599\n",
      "precision: 0.6600\n",
      "recall: 0.6599\n",
      "f1-score: 0.6472\n",
      "macro_f1-score: 0.3603\n",
      "balanced_accuracy: 0.3531\n",
      "mcc: 0.5495\n",
      "train_loss: 0.3738\n",
      "▶ Running: microsoft/deberta-base + lstm + none\n",
      "tokenizer is microsoft/deberta-base\n",
      "Using device: cuda\n",
      "CUDA Available: True\n",
      "CUDA Device: NVIDIA GeForce RTX 5070 Ti\n",
      "Current GPU Memory Allocated: 0.02 GB\n",
      "Current GPU Memory Cached: 5.13 GB\n",
      "\n",
      "[Fold 1]\n",
      "Label distribution after resampling:\n",
      "  label 0: 3179\n",
      "  label 1: 25\n",
      "  label 2: 112\n",
      "  label 3: 24\n",
      "  label 4: 205\n",
      "  label 5: 116\n",
      "  label 6: 95\n",
      "  label 7: 31\n",
      "  label 8: 68\n",
      "  label 9: 65\n",
      "  label 10: 70\n",
      "  label 11: 172\n",
      "  label 12: 193\n",
      "  label 13: 29\n",
      "  label 14: 23\n",
      "  label 15: 25\n",
      "  label 16: 20\n",
      "  label 17: 231\n",
      "  label 18: 93\n",
      "  label 19: 45\n",
      "  label 20: 14\n",
      "  label 21: 35\n",
      "  label 22: 78\n",
      "  label 23: 160\n",
      "  label 24: 16\n",
      "  label 25: 50\n",
      "  label 26: 86\n",
      "  label 27: 49\n",
      "  label 28: 12\n",
      "  label 29: 13\n",
      "  label 30: 15\n",
      "  label 31: 80\n",
      "  label 32: 36\n",
      "  label 33: 32\n",
      "  label 34: 30\n",
      "  label 35: 12\n",
      "  label 36: 28\n",
      "  label 37: 21\n",
      "  label 38: 6\n",
      "  label 39: 103\n",
      "  label 40: 12\n",
      "  label 41: 8\n",
      "  label 42: 147\n",
      "  label 43: 16\n",
      "  label 44: 20\n",
      "  label 45: 9\n",
      "  label 46: 54\n",
      "  label 47: 529\n",
      "  label 48: 202\n",
      "  label 49: 69\n",
      "model is microsoft/deberta-base lstm\n",
      "Epoch 1/20\n"
     ]
    },
    {
     "name": "stderr",
     "output_type": "stream",
     "text": [
      "100%|██████████| 423/423 [00:49<00:00,  8.52it/s]\n"
     ]
    },
    {
     "name": "stdout",
     "output_type": "stream",
     "text": [
      "{'val_loss': 2.054067335882277, 'val_accuracy': 0.5422826729745712, 'precision': 0.3086508665124636, 'recall': 0.5422826729745712, 'f1-score': 0.39093414462607096, 'macro_f1-score': 0.03081847854562656, 'balanced_accuracy': 0.040602366187271845, 'mcc': 0.2963926456537959, 'train_loss': 2.2701547135979854}\n",
      "Epoch 2/20\n"
     ]
    },
    {
     "name": "stderr",
     "output_type": "stream",
     "text": [
      "100%|██████████| 423/423 [00:49<00:00,  8.61it/s]\n"
     ]
    },
    {
     "name": "stdout",
     "output_type": "stream",
     "text": [
      "{'val_loss': 1.9444772662981502, 'val_accuracy': 0.5558840922531046, 'precision': 0.3852707200796896, 'recall': 0.5558840922531046, 'f1-score': 0.44991115014194977, 'macro_f1-score': 0.042547123185135094, 'balanced_accuracy': 0.06359618038651871, 'mcc': 0.3677436213573616, 'train_loss': 1.9855905907937539}\n",
      "Epoch 3/20\n"
     ]
    },
    {
     "name": "stderr",
     "output_type": "stream",
     "text": [
      "100%|██████████| 423/423 [00:49<00:00,  8.52it/s]\n"
     ]
    },
    {
     "name": "stdout",
     "output_type": "stream",
     "text": [
      "{'val_loss': 2.49168983045614, 'val_accuracy': 0.47013601419278533, 'precision': 0.22102787184107886, 'recall': 0.47013601419278533, 'f1-score': 0.30069037110479835, 'macro_f1-score': 0.012791633145615447, 'balanced_accuracy': 0.02, 'mcc': 0.0, 'train_loss': 2.3951353997203477}\n",
      "Epoch 4/20\n"
     ]
    },
    {
     "name": "stderr",
     "output_type": "stream",
     "text": [
      "100%|██████████| 423/423 [00:49<00:00,  8.59it/s]\n"
     ]
    },
    {
     "name": "stdout",
     "output_type": "stream",
     "text": [
      "{'val_loss': 2.488783112112081, 'val_accuracy': 0.47013601419278533, 'precision': 0.22102787184107886, 'recall': 0.47013601419278533, 'f1-score': 0.30069037110479835, 'macro_f1-score': 0.012791633145615447, 'balanced_accuracy': 0.02, 'mcc': 0.0, 'train_loss': 2.516868064025897}\n",
      "Epoch 5/20\n"
     ]
    },
    {
     "name": "stderr",
     "output_type": "stream",
     "text": [
      "100%|██████████| 423/423 [00:49<00:00,  8.56it/s]\n"
     ]
    },
    {
     "name": "stdout",
     "output_type": "stream",
     "text": [
      "{'val_loss': 2.369162420056901, 'val_accuracy': 0.47250147841513895, 'precision': 0.23482635097141777, 'recall': 0.47250147841513895, 'f1-score': 0.3057668475210821, 'macro_f1-score': 0.01564512816154233, 'balanced_accuracy': 0.021666666666666664, 'mcc': 0.052411145006515863, 'train_loss': 2.4891400049764214}\n",
      "Early stopping.\n",
      "\n",
      "[Fold 2]\n",
      "Label distribution after resampling:\n",
      "  label 0: 3179\n",
      "  label 1: 25\n",
      "  label 2: 112\n",
      "  label 3: 24\n",
      "  label 4: 206\n",
      "  label 5: 116\n",
      "  label 6: 94\n",
      "  label 7: 31\n",
      "  label 8: 68\n",
      "  label 9: 65\n",
      "  label 10: 70\n",
      "  label 11: 172\n",
      "  label 12: 193\n",
      "  label 13: 29\n",
      "  label 14: 23\n",
      "  label 15: 25\n",
      "  label 16: 20\n",
      "  label 17: 231\n",
      "  label 18: 93\n",
      "  label 19: 45\n",
      "  label 20: 14\n",
      "  label 21: 35\n",
      "  label 22: 78\n",
      "  label 23: 160\n",
      "  label 24: 16\n",
      "  label 25: 50\n",
      "  label 26: 86\n",
      "  label 27: 49\n",
      "  label 28: 12\n",
      "  label 29: 13\n",
      "  label 30: 15\n",
      "  label 31: 80\n",
      "  label 32: 36\n",
      "  label 33: 32\n",
      "  label 34: 30\n",
      "  label 35: 12\n",
      "  label 36: 28\n",
      "  label 37: 22\n",
      "  label 38: 5\n",
      "  label 39: 103\n",
      "  label 40: 11\n",
      "  label 41: 9\n",
      "  label 42: 147\n",
      "  label 43: 16\n",
      "  label 44: 20\n",
      "  label 45: 9\n",
      "  label 46: 55\n",
      "  label 47: 528\n",
      "  label 48: 202\n",
      "  label 49: 69\n",
      "model is microsoft/deberta-base lstm\n",
      "Epoch 1/20\n"
     ]
    },
    {
     "name": "stderr",
     "output_type": "stream",
     "text": [
      "100%|██████████| 423/423 [00:49<00:00,  8.55it/s]\n"
     ]
    },
    {
     "name": "stdout",
     "output_type": "stream",
     "text": [
      "{'val_loss': 2.1220887983745, 'val_accuracy': 0.5292726197516262, 'precision': 0.28984171978168993, 'recall': 0.5292726197516262, 'f1-score': 0.37427587789921546, 'macro_f1-score': 0.025689818974817133, 'balanced_accuracy': 0.0350375939849624, 'mcc': 0.2641236354311162, 'train_loss': 2.317503170834647}\n",
      "Epoch 2/20\n"
     ]
    },
    {
     "name": "stderr",
     "output_type": "stream",
     "text": [
      "100%|██████████| 423/423 [00:49<00:00,  8.60it/s]\n"
     ]
    },
    {
     "name": "stdout",
     "output_type": "stream",
     "text": [
      "{'val_loss': 2.0729677373508237, 'val_accuracy': 0.5221762270845653, 'precision': 0.285490420570588, 'recall': 0.5221762270845653, 'f1-score': 0.3684135970026602, 'macro_f1-score': 0.02480385219166606, 'balanced_accuracy': 0.03323308270676692, 'mcc': 0.24580110028244717, 'train_loss': 2.0661868300843746}\n",
      "Epoch 3/20\n"
     ]
    },
    {
     "name": "stderr",
     "output_type": "stream",
     "text": [
      "100%|██████████| 423/423 [00:49<00:00,  8.57it/s]\n"
     ]
    },
    {
     "name": "stdout",
     "output_type": "stream",
     "text": [
      "{'val_loss': 2.2369004960330026, 'val_accuracy': 0.5292726197516262, 'precision': 0.29162374499394716, 'recall': 0.5292726197516262, 'f1-score': 0.3760221619707619, 'macro_f1-score': 0.025263878008143087, 'balanced_accuracy': 0.03516281269210763, 'mcc': 0.265481413440475, 'train_loss': 2.160883373402535}\n",
      "Epoch 4/20\n"
     ]
    },
    {
     "name": "stderr",
     "output_type": "stream",
     "text": [
      "100%|██████████| 423/423 [00:48<00:00,  8.65it/s]\n"
     ]
    },
    {
     "name": "stdout",
     "output_type": "stream",
     "text": [
      "{'val_loss': 2.288284510936377, 'val_accuracy': 0.5156712004730929, 'precision': 0.28099937234642214, 'recall': 0.5156712004730929, 'f1-score': 0.3633389402604731, 'macro_f1-score': 0.02332960006354502, 'balanced_accuracy': 0.031704166075566274, 'mcc': 0.22969990276152125, 'train_loss': 2.2285837221089264}\n",
      "Early stopping.\n",
      "\n",
      "[Fold 3]\n",
      "Label distribution after resampling:\n",
      "  label 0: 3179\n",
      "  label 1: 25\n",
      "  label 2: 112\n",
      "  label 3: 24\n",
      "  label 4: 206\n",
      "  label 5: 116\n",
      "  label 6: 94\n",
      "  label 7: 31\n",
      "  label 8: 68\n",
      "  label 9: 65\n",
      "  label 10: 71\n",
      "  label 11: 172\n",
      "  label 12: 192\n",
      "  label 13: 29\n",
      "  label 14: 23\n",
      "  label 15: 25\n",
      "  label 16: 20\n",
      "  label 17: 231\n",
      "  label 18: 93\n",
      "  label 19: 45\n",
      "  label 20: 14\n",
      "  label 21: 36\n",
      "  label 22: 77\n",
      "  label 23: 160\n",
      "  label 24: 16\n",
      "  label 25: 51\n",
      "  label 26: 85\n",
      "  label 27: 49\n",
      "  label 28: 12\n",
      "  label 29: 12\n",
      "  label 30: 16\n",
      "  label 31: 80\n",
      "  label 32: 36\n",
      "  label 33: 32\n",
      "  label 34: 29\n",
      "  label 35: 12\n",
      "  label 36: 28\n",
      "  label 37: 22\n",
      "  label 38: 5\n",
      "  label 39: 103\n",
      "  label 40: 11\n",
      "  label 41: 9\n",
      "  label 42: 147\n",
      "  label 43: 16\n",
      "  label 44: 20\n",
      "  label 45: 9\n",
      "  label 46: 55\n",
      "  label 47: 529\n",
      "  label 48: 201\n",
      "  label 49: 70\n",
      "model is microsoft/deberta-base lstm\n",
      "Epoch 1/20\n"
     ]
    },
    {
     "name": "stderr",
     "output_type": "stream",
     "text": [
      "100%|██████████| 423/423 [00:50<00:00,  8.45it/s]\n"
     ]
    },
    {
     "name": "stdout",
     "output_type": "stream",
     "text": [
      "{'val_loss': 2.095757631198415, 'val_accuracy': 0.5351862803075104, 'precision': 0.29436679198010374, 'recall': 0.5351862803075104, 'f1-score': 0.37977584486296395, 'macro_f1-score': 0.026498994512592765, 'balanced_accuracy': 0.03679302458547742, 'mcc': 0.27913337700042834, 'train_loss': 2.29360720649115}\n",
      "Epoch 2/20\n"
     ]
    },
    {
     "name": "stderr",
     "output_type": "stream",
     "text": [
      "100%|██████████| 423/423 [00:49<00:00,  8.60it/s]\n"
     ]
    },
    {
     "name": "stdout",
     "output_type": "stream",
     "text": [
      "{'val_loss': 2.1615053527760058, 'val_accuracy': 0.5340035481963336, 'precision': 0.3078380622633068, 'recall': 0.5340035481963336, 'f1-score': 0.38722755850413737, 'macro_f1-score': 0.02528054090136589, 'balanced_accuracy': 0.038626004775838295, 'mcc': 0.29369573808862093, 'train_loss': 2.1596887762664903}\n",
      "Epoch 3/20\n"
     ]
    },
    {
     "name": "stderr",
     "output_type": "stream",
     "text": [
      "100%|██████████| 423/423 [00:49<00:00,  8.62it/s]\n"
     ]
    },
    {
     "name": "stdout",
     "output_type": "stream",
     "text": [
      "{'val_loss': 2.1329006052242137, 'val_accuracy': 0.5410999408633944, 'precision': 0.3105115870509453, 'recall': 0.5410999408633944, 'f1-score': 0.39448860967235966, 'macro_f1-score': 0.03125024820195682, 'balanced_accuracy': 0.04206830794067198, 'mcc': 0.2958652016908683, 'train_loss': 2.0464356255587677}\n",
      "Epoch 4/20\n"
     ]
    },
    {
     "name": "stderr",
     "output_type": "stream",
     "text": [
      "100%|██████████| 423/423 [00:49<00:00,  8.55it/s]\n"
     ]
    },
    {
     "name": "stdout",
     "output_type": "stream",
     "text": [
      "{'val_loss': 2.0841826875254794, 'val_accuracy': 0.543465405085748, 'precision': 0.3228230078950298, 'recall': 0.543465405085748, 'f1-score': 0.404536411673605, 'macro_f1-score': 0.03163173320052103, 'balanced_accuracy': 0.04547193354185586, 'mcc': 0.3102552653334846, 'train_loss': 2.02420077059004}\n",
      "Epoch 5/20\n"
     ]
    },
    {
     "name": "stderr",
     "output_type": "stream",
     "text": [
      "100%|██████████| 423/423 [00:49<00:00,  8.58it/s]\n"
     ]
    },
    {
     "name": "stdout",
     "output_type": "stream",
     "text": [
      "{'val_loss': 2.056906223297119, 'val_accuracy': 0.543465405085748, 'precision': 0.3336887888441655, 'recall': 0.543465405085748, 'f1-score': 0.4118247039068968, 'macro_f1-score': 0.03179287949114452, 'balanced_accuracy': 0.047824437493693875, 'mcc': 0.32131045274673026, 'train_loss': 2.0268199581908277}\n",
      "Epoch 6/20\n"
     ]
    },
    {
     "name": "stderr",
     "output_type": "stream",
     "text": [
      "100%|██████████| 423/423 [00:47<00:00,  8.92it/s]\n"
     ]
    },
    {
     "name": "stdout",
     "output_type": "stream",
     "text": [
      "{'val_loss': 1.9950363045593478, 'val_accuracy': 0.5428740390301596, 'precision': 0.32849942922396475, 'recall': 0.5428740390301596, 'f1-score': 0.4084182609001014, 'macro_f1-score': 0.03174881037836697, 'balanced_accuracy': 0.04618077556923284, 'mcc': 0.31352987771257684, 'train_loss': 1.9686124472753377}\n",
      "Epoch 7/20\n"
     ]
    },
    {
     "name": "stderr",
     "output_type": "stream",
     "text": [
      "100%|██████████| 423/423 [00:49<00:00,  8.55it/s]\n"
     ]
    },
    {
     "name": "stdout",
     "output_type": "stream",
     "text": [
      "{'val_loss': 2.1102021285947763, 'val_accuracy': 0.5221762270845653, 'precision': 0.32732742990322317, 'recall': 0.5221762270845653, 'f1-score': 0.3947180713817077, 'macro_f1-score': 0.02316683250414594, 'balanced_accuracy': 0.038514008004574045, 'mcc': 0.3081359917420609, 'train_loss': 2.0133987886404032}\n",
      "Epoch 8/20\n"
     ]
    },
    {
     "name": "stderr",
     "output_type": "stream",
     "text": [
      "100%|██████████| 423/423 [00:49<00:00,  8.54it/s]\n"
     ]
    },
    {
     "name": "stdout",
     "output_type": "stream",
     "text": [
      "{'val_loss': 2.0051786674643464, 'val_accuracy': 0.5399172087522176, 'precision': 0.33189390819212017, 'recall': 0.5399172087522176, 'f1-score': 0.39633378749256676, 'macro_f1-score': 0.030351471668647986, 'balanced_accuracy': 0.04086280412679652, 'mcc': 0.2977645118328586, 'train_loss': 2.0242325276065944}\n",
      "Early stopping.\n",
      "\n",
      "[Fold 4]\n",
      "Label distribution after resampling:\n",
      "  label 0: 3179\n",
      "  label 1: 25\n",
      "  label 2: 112\n",
      "  label 3: 24\n",
      "  label 4: 206\n",
      "  label 5: 116\n",
      "  label 6: 94\n",
      "  label 7: 32\n",
      "  label 8: 68\n",
      "  label 9: 64\n",
      "  label 10: 71\n",
      "  label 11: 172\n",
      "  label 12: 193\n",
      "  label 13: 28\n",
      "  label 14: 24\n",
      "  label 15: 24\n",
      "  label 16: 20\n",
      "  label 17: 232\n",
      "  label 18: 92\n",
      "  label 19: 45\n",
      "  label 20: 15\n",
      "  label 21: 35\n",
      "  label 22: 77\n",
      "  label 23: 160\n",
      "  label 24: 16\n",
      "  label 25: 51\n",
      "  label 26: 85\n",
      "  label 27: 49\n",
      "  label 28: 12\n",
      "  label 29: 13\n",
      "  label 30: 15\n",
      "  label 31: 80\n",
      "  label 32: 36\n",
      "  label 33: 32\n",
      "  label 34: 29\n",
      "  label 35: 12\n",
      "  label 36: 28\n",
      "  label 37: 22\n",
      "  label 38: 6\n",
      "  label 39: 103\n",
      "  label 40: 11\n",
      "  label 41: 9\n",
      "  label 42: 148\n",
      "  label 43: 16\n",
      "  label 44: 20\n",
      "  label 45: 8\n",
      "  label 46: 54\n",
      "  label 47: 529\n",
      "  label 48: 201\n",
      "  label 49: 70\n",
      "model is microsoft/deberta-base lstm\n",
      "Epoch 1/20\n"
     ]
    },
    {
     "name": "stderr",
     "output_type": "stream",
     "text": [
      "100%|██████████| 423/423 [00:49<00:00,  8.61it/s]\n"
     ]
    },
    {
     "name": "stdout",
     "output_type": "stream",
     "text": [
      "{'val_loss': 2.046661557172829, 'val_accuracy': 0.5381431105854524, 'precision': 0.2952138375146506, 'recall': 0.5381431105854524, 'f1-score': 0.38118411621030257, 'macro_f1-score': 0.027052705720151657, 'balanced_accuracy': 0.03742424242424242, 'mcc': 0.28600472387090564, 'train_loss': 2.2790481596128314}\n",
      "Epoch 2/20\n"
     ]
    },
    {
     "name": "stderr",
     "output_type": "stream",
     "text": [
      "100%|██████████| 423/423 [00:49<00:00,  8.61it/s]\n"
     ]
    },
    {
     "name": "stdout",
     "output_type": "stream",
     "text": [
      "{'val_loss': 1.9358926679728166, 'val_accuracy': 0.5594322885866351, 'precision': 0.3701750181229707, 'recall': 0.5594322885866351, 'f1-score': 0.44313542087951946, 'macro_f1-score': 0.03872006764430475, 'balanced_accuracy': 0.05569367015561303, 'mcc': 0.3627528046287703, 'train_loss': 2.054347405619655}\n",
      "Epoch 3/20\n"
     ]
    },
    {
     "name": "stderr",
     "output_type": "stream",
     "text": [
      "100%|██████████| 423/423 [00:49<00:00,  8.57it/s]\n"
     ]
    },
    {
     "name": "stdout",
     "output_type": "stream",
     "text": [
      "{'val_loss': 1.927358682425517, 'val_accuracy': 0.5481963335304554, 'precision': 0.4057767196421103, 'recall': 0.5481963335304554, 'f1-score': 0.45799937207520913, 'macro_f1-score': 0.04261336896662759, 'balanced_accuracy': 0.06260844277225198, 'mcc': 0.37540196306329104, 'train_loss': 1.921477955706576}\n",
      "Epoch 4/20\n"
     ]
    },
    {
     "name": "stderr",
     "output_type": "stream",
     "text": [
      "100%|██████████| 423/423 [00:49<00:00,  8.53it/s]\n"
     ]
    },
    {
     "name": "stdout",
     "output_type": "stream",
     "text": [
      "{'val_loss': 1.9482501846439433, 'val_accuracy': 0.5410999408633944, 'precision': 0.39724935162288433, 'recall': 0.5410999408633944, 'f1-score': 0.4464012469416149, 'macro_f1-score': 0.042158552067712594, 'balanced_accuracy': 0.05792226223247764, 'mcc': 0.3441287612459805, 'train_loss': 1.954080452733006}\n",
      "Epoch 5/20\n"
     ]
    },
    {
     "name": "stderr",
     "output_type": "stream",
     "text": [
      "100%|██████████| 423/423 [00:49<00:00,  8.63it/s]\n"
     ]
    },
    {
     "name": "stdout",
     "output_type": "stream",
     "text": [
      "{'val_loss': 2.553835169324335, 'val_accuracy': 0.47013601419278533, 'precision': 0.22102787184107886, 'recall': 0.47013601419278533, 'f1-score': 0.30069037110479835, 'macro_f1-score': 0.012791633145615447, 'balanced_accuracy': 0.02, 'mcc': 0.0, 'train_loss': 2.040747831617405}\n",
      "Epoch 6/20\n"
     ]
    },
    {
     "name": "stderr",
     "output_type": "stream",
     "text": [
      "100%|██████████| 423/423 [00:46<00:00,  9.19it/s]\n"
     ]
    },
    {
     "name": "stdout",
     "output_type": "stream",
     "text": [
      "{'val_loss': 2.1754768367083566, 'val_accuracy': 0.5192193968066233, 'precision': 0.33787188037542043, 'recall': 0.5192193968066233, 'f1-score': 0.40053886766319075, 'macro_f1-score': 0.022745944172359218, 'balanced_accuracy': 0.03763007432818753, 'mcc': 0.31450362489690764, 'train_loss': 2.2241403802912285}\n",
      "Early stopping.\n",
      "\n",
      "[Fold 5]\n",
      "Label distribution after resampling:\n",
      "  label 0: 3180\n",
      "  label 1: 24\n",
      "  label 2: 112\n",
      "  label 3: 24\n",
      "  label 4: 205\n",
      "  label 5: 116\n",
      "  label 6: 95\n",
      "  label 7: 31\n",
      "  label 8: 68\n",
      "  label 9: 65\n",
      "  label 10: 70\n",
      "  label 11: 172\n",
      "  label 12: 193\n",
      "  label 13: 29\n",
      "  label 14: 23\n",
      "  label 15: 25\n",
      "  label 16: 20\n",
      "  label 17: 231\n",
      "  label 18: 93\n",
      "  label 19: 44\n",
      "  label 20: 15\n",
      "  label 21: 35\n",
      "  label 22: 78\n",
      "  label 23: 160\n",
      "  label 24: 16\n",
      "  label 25: 50\n",
      "  label 26: 86\n",
      "  label 27: 48\n",
      "  label 28: 12\n",
      "  label 29: 13\n",
      "  label 30: 15\n",
      "  label 31: 80\n",
      "  label 32: 36\n",
      "  label 33: 32\n",
      "  label 34: 30\n",
      "  label 35: 12\n",
      "  label 36: 28\n",
      "  label 37: 21\n",
      "  label 38: 6\n",
      "  label 39: 104\n",
      "  label 40: 11\n",
      "  label 41: 9\n",
      "  label 42: 147\n",
      "  label 43: 16\n",
      "  label 44: 20\n",
      "  label 45: 9\n",
      "  label 46: 54\n",
      "  label 47: 529\n",
      "  label 48: 202\n",
      "  label 49: 70\n",
      "model is microsoft/deberta-base lstm\n",
      "Epoch 1/20\n"
     ]
    },
    {
     "name": "stderr",
     "output_type": "stream",
     "text": [
      "100%|██████████| 423/423 [00:45<00:00,  9.26it/s]\n"
     ]
    },
    {
     "name": "stdout",
     "output_type": "stream",
     "text": [
      "{'val_loss': 2.064148447985919, 'val_accuracy': 0.5390532544378698, 'precision': 0.30273412596856336, 'recall': 0.5390532544378698, 'f1-score': 0.3834953682859499, 'macro_f1-score': 0.026875068364905486, 'balanced_accuracy': 0.03796037296037296, 'mcc': 0.2902017258340037, 'train_loss': 2.3065670928774713}\n",
      "Epoch 2/20\n"
     ]
    },
    {
     "name": "stderr",
     "output_type": "stream",
     "text": [
      "100%|██████████| 423/423 [00:48<00:00,  8.66it/s]\n"
     ]
    },
    {
     "name": "stdout",
     "output_type": "stream",
     "text": [
      "{'val_loss': 2.000109113612265, 'val_accuracy': 0.5378698224852071, 'precision': 0.33529213559734417, 'recall': 0.5378698224852071, 'f1-score': 0.410928476394728, 'macro_f1-score': 0.03312731750048015, 'balanced_accuracy': 0.04631402183039463, 'mcc': 0.30801536988857153, 'train_loss': 2.0557200805797082}\n",
      "Epoch 3/20\n"
     ]
    },
    {
     "name": "stderr",
     "output_type": "stream",
     "text": [
      "100%|██████████| 423/423 [00:48<00:00,  8.76it/s]\n"
     ]
    },
    {
     "name": "stdout",
     "output_type": "stream",
     "text": [
      "{'val_loss': 1.9853988289833069, 'val_accuracy': 0.5207100591715976, 'precision': 0.29062647811329595, 'recall': 0.5207100591715976, 'f1-score': 0.370402284891783, 'macro_f1-score': 0.025433127878650597, 'balanced_accuracy': 0.03356060606060606, 'mcc': 0.24437676358498264, 'train_loss': 1.9715215579274135}\n",
      "Epoch 4/20\n"
     ]
    },
    {
     "name": "stderr",
     "output_type": "stream",
     "text": [
      "100%|██████████| 423/423 [00:48<00:00,  8.70it/s]\n"
     ]
    },
    {
     "name": "stdout",
     "output_type": "stream",
     "text": [
      "{'val_loss': 2.010181058690233, 'val_accuracy': 0.5366863905325444, 'precision': 0.40998686534256, 'recall': 0.5366863905325444, 'f1-score': 0.4570007079558455, 'macro_f1-score': 0.043257412591116706, 'balanced_accuracy': 0.06700610826967988, 'mcc': 0.3643918702636608, 'train_loss': 1.8872213730011709}\n",
      "Epoch 5/20\n"
     ]
    },
    {
     "name": "stderr",
     "output_type": "stream",
     "text": [
      "100%|██████████| 423/423 [00:48<00:00,  8.75it/s]\n"
     ]
    },
    {
     "name": "stdout",
     "output_type": "stream",
     "text": [
      "{'val_loss': 1.894887409120236, 'val_accuracy': 0.5674556213017752, 'precision': 0.3890618565196813, 'recall': 0.5674556213017752, 'f1-score': 0.45804357376574595, 'macro_f1-score': 0.049746469406323185, 'balanced_accuracy': 0.06588275154591493, 'mcc': 0.3776489287718505, 'train_loss': 1.8559778084709853}\n",
      "Epoch 6/20\n"
     ]
    },
    {
     "name": "stderr",
     "output_type": "stream",
     "text": [
      "100%|██████████| 423/423 [00:48<00:00,  8.81it/s]\n"
     ]
    },
    {
     "name": "stdout",
     "output_type": "stream",
     "text": [
      "{'val_loss': 1.9232198466669839, 'val_accuracy': 0.5538461538461539, 'precision': 0.3525842588307266, 'recall': 0.5538461538461539, 'f1-score': 0.4241131043292351, 'macro_f1-score': 0.03889485741711641, 'balanced_accuracy': 0.05473731934124533, 'mcc': 0.34790413133584047, 'train_loss': 1.8525720392276772}\n",
      "Epoch 7/20\n"
     ]
    },
    {
     "name": "stderr",
     "output_type": "stream",
     "text": [
      "100%|██████████| 423/423 [00:48<00:00,  8.76it/s]\n"
     ]
    },
    {
     "name": "stdout",
     "output_type": "stream",
     "text": [
      "{'val_loss': 1.877270737908921, 'val_accuracy': 0.5763313609467455, 'precision': 0.3816867598522429, 'recall': 0.5763313609467455, 'f1-score': 0.45381960957027845, 'macro_f1-score': 0.05255786855658994, 'balanced_accuracy': 0.06566682702051416, 'mcc': 0.37914061757706563, 'train_loss': 1.8511198630851493}\n",
      "Epoch 8/20\n"
     ]
    },
    {
     "name": "stderr",
     "output_type": "stream",
     "text": [
      "100%|██████████| 423/423 [00:48<00:00,  8.69it/s]\n"
     ]
    },
    {
     "name": "stdout",
     "output_type": "stream",
     "text": [
      "{'val_loss': 1.8691314346385453, 'val_accuracy': 0.5585798816568047, 'precision': 0.3863420988394081, 'recall': 0.5585798816568047, 'f1-score': 0.45398973500436496, 'macro_f1-score': 0.052301439948705154, 'balanced_accuracy': 0.06906290845001432, 'mcc': 0.36746277138109684, 'train_loss': 1.856769939827299}\n",
      "Epoch 9/20\n"
     ]
    },
    {
     "name": "stderr",
     "output_type": "stream",
     "text": [
      "100%|██████████| 423/423 [00:48<00:00,  8.74it/s]\n"
     ]
    },
    {
     "name": "stdout",
     "output_type": "stream",
     "text": [
      "{'val_loss': 1.869674656188713, 'val_accuracy': 0.572189349112426, 'precision': 0.3846105967213995, 'recall': 0.572189349112426, 'f1-score': 0.4588656755406459, 'macro_f1-score': 0.05457604191990992, 'balanced_accuracy': 0.07037847582655626, 'mcc': 0.37832684419777385, 'train_loss': 1.785080600855762}\n",
      "Epoch 10/20\n"
     ]
    },
    {
     "name": "stderr",
     "output_type": "stream",
     "text": [
      "100%|██████████| 423/423 [00:48<00:00,  8.73it/s]\n"
     ]
    },
    {
     "name": "stdout",
     "output_type": "stream",
     "text": [
      "{'val_loss': 1.9161827041293091, 'val_accuracy': 0.5467455621301776, 'precision': 0.37497846989841743, 'recall': 0.5467455621301776, 'f1-score': 0.44192010838189333, 'macro_f1-score': 0.043119915773397174, 'balanced_accuracy': 0.06114601776809716, 'mcc': 0.35027005656367294, 'train_loss': 1.8308036307634754}\n",
      "Epoch 11/20\n"
     ]
    },
    {
     "name": "stderr",
     "output_type": "stream",
     "text": [
      "100%|██████████| 423/423 [00:48<00:00,  8.74it/s]\n"
     ]
    },
    {
     "name": "stdout",
     "output_type": "stream",
     "text": [
      "{'val_loss': 1.981096810327386, 'val_accuracy': 0.5532544378698225, 'precision': 0.38449782885182043, 'recall': 0.5532544378698225, 'f1-score': 0.45112532302381486, 'macro_f1-score': 0.050630638236275886, 'balanced_accuracy': 0.0679480319472068, 'mcc': 0.36026297127135554, 'train_loss': 1.8806993599197261}\n",
      "Epoch 12/20\n"
     ]
    },
    {
     "name": "stderr",
     "output_type": "stream",
     "text": [
      "100%|██████████| 423/423 [00:48<00:00,  8.77it/s]\n"
     ]
    },
    {
     "name": "stdout",
     "output_type": "stream",
     "text": [
      "{'val_loss': 1.9656668884574242, 'val_accuracy': 0.5473372781065089, 'precision': 0.34217877857154466, 'recall': 0.5473372781065089, 'f1-score': 0.4197230405492298, 'macro_f1-score': 0.036216794691365115, 'balanced_accuracy': 0.05066003475953098, 'mcc': 0.3283282144667275, 'train_loss': 1.9714745583263695}\n",
      "Early stopping.\n",
      "\n",
      " === microsoft/deberta-base + lstm + none Final 10-fold Cross-Validation Results ===\n",
      "Total time: 1893 seconds\n",
      "Total time: 0 hrs 31 mins 33 secs\n",
      "val_loss: 1.9841\n",
      "val_accuracy: 0.5498\n",
      "precision: 0.3598\n",
      "recall: 0.5498\n",
      "f1-score: 0.4306\n",
      "macro_f1-score: 0.0394\n",
      "balanced_accuracy: 0.0559\n",
      "mcc: 0.3414\n",
      "train_loss: 2.0073\n",
      "▶ Running: microsoft/deberta-base + bilstm + none\n",
      "tokenizer is microsoft/deberta-base\n",
      "Using device: cuda\n",
      "CUDA Available: True\n",
      "CUDA Device: NVIDIA GeForce RTX 5070 Ti\n",
      "Current GPU Memory Allocated: 0.02 GB\n",
      "Current GPU Memory Cached: 5.28 GB\n",
      "\n",
      "[Fold 1]\n",
      "Label distribution after resampling:\n",
      "  label 0: 3179\n",
      "  label 1: 25\n",
      "  label 2: 112\n",
      "  label 3: 24\n",
      "  label 4: 205\n",
      "  label 5: 116\n",
      "  label 6: 95\n",
      "  label 7: 31\n",
      "  label 8: 68\n",
      "  label 9: 65\n",
      "  label 10: 70\n",
      "  label 11: 172\n",
      "  label 12: 193\n",
      "  label 13: 29\n",
      "  label 14: 23\n",
      "  label 15: 25\n",
      "  label 16: 20\n",
      "  label 17: 231\n",
      "  label 18: 93\n",
      "  label 19: 45\n",
      "  label 20: 14\n",
      "  label 21: 35\n",
      "  label 22: 78\n",
      "  label 23: 160\n",
      "  label 24: 16\n",
      "  label 25: 50\n",
      "  label 26: 86\n",
      "  label 27: 49\n",
      "  label 28: 12\n",
      "  label 29: 13\n",
      "  label 30: 15\n",
      "  label 31: 80\n",
      "  label 32: 36\n",
      "  label 33: 32\n",
      "  label 34: 30\n",
      "  label 35: 12\n",
      "  label 36: 28\n",
      "  label 37: 21\n",
      "  label 38: 6\n",
      "  label 39: 103\n",
      "  label 40: 12\n",
      "  label 41: 8\n",
      "  label 42: 147\n",
      "  label 43: 16\n",
      "  label 44: 20\n",
      "  label 45: 9\n",
      "  label 46: 54\n",
      "  label 47: 529\n",
      "  label 48: 202\n",
      "  label 49: 69\n",
      "model is microsoft/deberta-base bilstm\n",
      "Epoch 1/20\n"
     ]
    },
    {
     "name": "stderr",
     "output_type": "stream",
     "text": [
      "100%|██████████| 423/423 [00:51<00:00,  8.17it/s]\n"
     ]
    },
    {
     "name": "stdout",
     "output_type": "stream",
     "text": [
      "{'val_loss': 1.940182869726757, 'val_accuracy': 0.5558840922531046, 'precision': 0.3404879404902321, 'recall': 0.5558840922531046, 'f1-score': 0.41905644558921123, 'macro_f1-score': 0.03924822515423765, 'balanced_accuracy': 0.052714906054691354, 'mcc': 0.33701513623939083, 'train_loss': 2.20914702607103}\n",
      "Epoch 2/20\n"
     ]
    },
    {
     "name": "stderr",
     "output_type": "stream",
     "text": [
      "100%|██████████| 423/423 [00:51<00:00,  8.22it/s]\n"
     ]
    },
    {
     "name": "stdout",
     "output_type": "stream",
     "text": [
      "{'val_loss': 1.8906925435898438, 'val_accuracy': 0.5576581904198699, 'precision': 0.38768191387437795, 'recall': 0.5576581904198699, 'f1-score': 0.45359315247812876, 'macro_f1-score': 0.04766893464032419, 'balanced_accuracy': 0.06871990246795061, 'mcc': 0.3711935772830604, 'train_loss': 1.8942188458521598}\n",
      "Epoch 3/20\n"
     ]
    },
    {
     "name": "stderr",
     "output_type": "stream",
     "text": [
      "100%|██████████| 423/423 [00:51<00:00,  8.23it/s]\n"
     ]
    },
    {
     "name": "stdout",
     "output_type": "stream",
     "text": [
      "{'val_loss': 1.7866545730042007, 'val_accuracy': 0.5683027794204613, 'precision': 0.3921360759430406, 'recall': 0.5683027794204613, 'f1-score': 0.459615026516588, 'macro_f1-score': 0.04923887500944396, 'balanced_accuracy': 0.07147756505043427, 'mcc': 0.3868000672710294, 'train_loss': 1.7960792715104195}\n",
      "Epoch 4/20\n"
     ]
    },
    {
     "name": "stderr",
     "output_type": "stream",
     "text": [
      "100%|██████████| 423/423 [00:51<00:00,  8.28it/s]\n"
     ]
    },
    {
     "name": "stdout",
     "output_type": "stream",
     "text": [
      "{'val_loss': 1.7970908677802895, 'val_accuracy': 0.5742164399763453, 'precision': 0.38921419158787074, 'recall': 0.5742164399763453, 'f1-score': 0.45955266653776855, 'macro_f1-score': 0.0492693186989257, 'balanced_accuracy': 0.07089888007243245, 'mcc': 0.39152955612577095, 'train_loss': 1.7550846527090591}\n",
      "Epoch 5/20\n"
     ]
    },
    {
     "name": "stderr",
     "output_type": "stream",
     "text": [
      "100%|██████████| 423/423 [00:51<00:00,  8.25it/s]\n"
     ]
    },
    {
     "name": "stdout",
     "output_type": "stream",
     "text": [
      "{'val_loss': 1.7712383388348345, 'val_accuracy': 0.5706682436428149, 'precision': 0.4201045686715634, 'recall': 0.5706682436428149, 'f1-score': 0.4786871543490303, 'macro_f1-score': 0.06091676590267401, 'balanced_accuracy': 0.08338890539085725, 'mcc': 0.3966529111283067, 'train_loss': 1.6646609993268413}\n",
      "Epoch 6/20\n"
     ]
    },
    {
     "name": "stderr",
     "output_type": "stream",
     "text": [
      "100%|██████████| 423/423 [00:51<00:00,  8.21it/s]\n"
     ]
    },
    {
     "name": "stdout",
     "output_type": "stream",
     "text": [
      "{'val_loss': 1.8123276084661484, 'val_accuracy': 0.5813128326434063, 'precision': 0.40236168442341813, 'recall': 0.5813128326434063, 'f1-score': 0.4715817392208942, 'macro_f1-score': 0.05691894570989273, 'balanced_accuracy': 0.07992650593821707, 'mcc': 0.40330164329908896, 'train_loss': 1.6251575504352578}\n",
      "Epoch 7/20\n"
     ]
    },
    {
     "name": "stderr",
     "output_type": "stream",
     "text": [
      "100%|██████████| 423/423 [00:51<00:00,  8.27it/s]\n"
     ]
    },
    {
     "name": "stdout",
     "output_type": "stream",
     "text": [
      "{'val_loss': 1.8408990716034512, 'val_accuracy': 0.5233589591957422, 'precision': 0.4579564802492374, 'recall': 0.5233589591957422, 'f1-score': 0.4764366788129865, 'macro_f1-score': 0.058380546858800404, 'balanced_accuracy': 0.08186365970832464, 'mcc': 0.37790032964567455, 'train_loss': 1.6580365700361013}\n",
      "Epoch 8/20\n"
     ]
    },
    {
     "name": "stderr",
     "output_type": "stream",
     "text": [
      "100%|██████████| 423/423 [00:51<00:00,  8.19it/s]\n"
     ]
    },
    {
     "name": "stdout",
     "output_type": "stream",
     "text": [
      "{'val_loss': 1.7715412771926735, 'val_accuracy': 0.5623891188645772, 'precision': 0.4217241534009216, 'recall': 0.5623891188645772, 'f1-score': 0.47483326645557816, 'macro_f1-score': 0.057096634044902145, 'balanced_accuracy': 0.07920184804681707, 'mcc': 0.3916970105628826, 'train_loss': 1.5484237816035042}\n",
      "Early stopping.\n",
      "\n",
      "[Fold 2]\n",
      "Label distribution after resampling:\n",
      "  label 0: 3179\n",
      "  label 1: 25\n",
      "  label 2: 112\n",
      "  label 3: 24\n",
      "  label 4: 206\n",
      "  label 5: 116\n",
      "  label 6: 94\n",
      "  label 7: 31\n",
      "  label 8: 68\n",
      "  label 9: 65\n",
      "  label 10: 70\n",
      "  label 11: 172\n",
      "  label 12: 193\n",
      "  label 13: 29\n",
      "  label 14: 23\n",
      "  label 15: 25\n",
      "  label 16: 20\n",
      "  label 17: 231\n",
      "  label 18: 93\n",
      "  label 19: 45\n",
      "  label 20: 14\n",
      "  label 21: 35\n",
      "  label 22: 78\n",
      "  label 23: 160\n",
      "  label 24: 16\n",
      "  label 25: 50\n",
      "  label 26: 86\n",
      "  label 27: 49\n",
      "  label 28: 12\n",
      "  label 29: 13\n",
      "  label 30: 15\n",
      "  label 31: 80\n",
      "  label 32: 36\n",
      "  label 33: 32\n",
      "  label 34: 30\n",
      "  label 35: 12\n",
      "  label 36: 28\n",
      "  label 37: 22\n",
      "  label 38: 5\n",
      "  label 39: 103\n",
      "  label 40: 11\n",
      "  label 41: 9\n",
      "  label 42: 147\n",
      "  label 43: 16\n",
      "  label 44: 20\n",
      "  label 45: 9\n",
      "  label 46: 55\n",
      "  label 47: 528\n",
      "  label 48: 202\n",
      "  label 49: 69\n",
      "model is microsoft/deberta-base bilstm\n",
      "Epoch 1/20\n"
     ]
    },
    {
     "name": "stderr",
     "output_type": "stream",
     "text": [
      "100%|██████████| 423/423 [00:51<00:00,  8.20it/s]\n"
     ]
    },
    {
     "name": "stdout",
     "output_type": "stream",
     "text": [
      "{'val_loss': 2.038367084737094, 'val_accuracy': 0.534594914251922, 'precision': 0.2933956393922457, 'recall': 0.534594914251922, 'f1-score': 0.3787561477943494, 'macro_f1-score': 0.026368527353570457, 'balanced_accuracy': 0.03639097744360902, 'mcc': 0.27735245349606963, 'train_loss': 2.2589984812353237}\n",
      "Epoch 2/20\n"
     ]
    },
    {
     "name": "stderr",
     "output_type": "stream",
     "text": [
      "100%|██████████| 423/423 [00:51<00:00,  8.24it/s]\n"
     ]
    },
    {
     "name": "stdout",
     "output_type": "stream",
     "text": [
      "{'val_loss': 2.09065816874774, 'val_accuracy': 0.5068007096392667, 'precision': 0.3659889801388301, 'recall': 0.5068007096392667, 'f1-score': 0.41650804252524226, 'macro_f1-score': 0.030929829074318658, 'balanced_accuracy': 0.04957657948978996, 'mcc': 0.3119656944597842, 'train_loss': 2.024276162152031}\n",
      "Epoch 3/20\n"
     ]
    },
    {
     "name": "stderr",
     "output_type": "stream",
     "text": [
      "100%|██████████| 423/423 [00:51<00:00,  8.28it/s]\n"
     ]
    },
    {
     "name": "stdout",
     "output_type": "stream",
     "text": [
      "{'val_loss': 1.9941578850431263, 'val_accuracy': 0.550561797752809, 'precision': 0.36882717917183744, 'recall': 0.550561797752809, 'f1-score': 0.4345014790904366, 'macro_f1-score': 0.040102709748711475, 'balanced_accuracy': 0.05545116695447141, 'mcc': 0.34222291938938876, 'train_loss': 1.8882733698995964}\n",
      "Epoch 4/20\n"
     ]
    },
    {
     "name": "stderr",
     "output_type": "stream",
     "text": [
      "100%|██████████| 423/423 [00:51<00:00,  8.20it/s]\n"
     ]
    },
    {
     "name": "stdout",
     "output_type": "stream",
     "text": [
      "{'val_loss': 1.8541548240859553, 'val_accuracy': 0.5718509757539917, 'precision': 0.3913348315400078, 'recall': 0.5718509757539917, 'f1-score': 0.4614762595995318, 'macro_f1-score': 0.04964738452136022, 'balanced_accuracy': 0.07099442938837008, 'mcc': 0.38826174751202897, 'train_loss': 1.8330247943282973}\n",
      "Epoch 5/20\n"
     ]
    },
    {
     "name": "stderr",
     "output_type": "stream",
     "text": [
      "100%|██████████| 423/423 [00:51<00:00,  8.25it/s]\n"
     ]
    },
    {
     "name": "stdout",
     "output_type": "stream",
     "text": [
      "{'val_loss': 1.8538541315861468, 'val_accuracy': 0.5694855115316381, 'precision': 0.38855619662124874, 'recall': 0.5694855115316381, 'f1-score': 0.4550872276778177, 'macro_f1-score': 0.050151397114138865, 'balanced_accuracy': 0.07035244251794476, 'mcc': 0.38096218871357485, 'train_loss': 1.73374845288324}\n",
      "Epoch 6/20\n"
     ]
    },
    {
     "name": "stderr",
     "output_type": "stream",
     "text": [
      "100%|██████████| 423/423 [00:50<00:00,  8.43it/s]\n"
     ]
    },
    {
     "name": "stdout",
     "output_type": "stream",
     "text": [
      "{'val_loss': 1.9598531464360796, 'val_accuracy': 0.5410999408633944, 'precision': 0.39720752576565554, 'recall': 0.5410999408633944, 'f1-score': 0.44996201573943156, 'macro_f1-score': 0.03899147468911552, 'balanced_accuracy': 0.06358791482897991, 'mcc': 0.36516925432555797, 'train_loss': 1.7284658732989155}\n",
      "Epoch 7/20\n"
     ]
    },
    {
     "name": "stderr",
     "output_type": "stream",
     "text": [
      "100%|██████████| 423/423 [00:51<00:00,  8.18it/s]\n"
     ]
    },
    {
     "name": "stdout",
     "output_type": "stream",
     "text": [
      "{'val_loss': 1.8912970626129295, 'val_accuracy': 0.5511531638083974, 'precision': 0.40330747762554253, 'recall': 0.5511531638083974, 'f1-score': 0.46168490997657385, 'macro_f1-score': 0.048404116954477806, 'balanced_accuracy': 0.06898950047436707, 'mcc': 0.37142304830567735, 'train_loss': 1.6620872756972662}\n",
      "Epoch 8/20\n"
     ]
    },
    {
     "name": "stderr",
     "output_type": "stream",
     "text": [
      "100%|██████████| 423/423 [00:51<00:00,  8.21it/s]\n"
     ]
    },
    {
     "name": "stdout",
     "output_type": "stream",
     "text": [
      "{'val_loss': 1.8954245487474046, 'val_accuracy': 0.5470136014192786, 'precision': 0.4131707436938846, 'recall': 0.5470136014192786, 'f1-score': 0.4631920296765762, 'macro_f1-score': 0.04853708899751246, 'balanced_accuracy': 0.07418729714945253, 'mcc': 0.3794714040272021, 'train_loss': 1.5817013951480812}\n",
      "Early stopping.\n",
      "\n",
      "[Fold 3]\n",
      "Label distribution after resampling:\n",
      "  label 0: 3179\n",
      "  label 1: 25\n",
      "  label 2: 112\n",
      "  label 3: 24\n",
      "  label 4: 206\n",
      "  label 5: 116\n",
      "  label 6: 94\n",
      "  label 7: 31\n",
      "  label 8: 68\n",
      "  label 9: 65\n",
      "  label 10: 71\n",
      "  label 11: 172\n",
      "  label 12: 192\n",
      "  label 13: 29\n",
      "  label 14: 23\n",
      "  label 15: 25\n",
      "  label 16: 20\n",
      "  label 17: 231\n",
      "  label 18: 93\n",
      "  label 19: 45\n",
      "  label 20: 14\n",
      "  label 21: 36\n",
      "  label 22: 77\n",
      "  label 23: 160\n",
      "  label 24: 16\n",
      "  label 25: 51\n",
      "  label 26: 85\n",
      "  label 27: 49\n",
      "  label 28: 12\n",
      "  label 29: 12\n",
      "  label 30: 16\n",
      "  label 31: 80\n",
      "  label 32: 36\n",
      "  label 33: 32\n",
      "  label 34: 29\n",
      "  label 35: 12\n",
      "  label 36: 28\n",
      "  label 37: 22\n",
      "  label 38: 5\n",
      "  label 39: 103\n",
      "  label 40: 11\n",
      "  label 41: 9\n",
      "  label 42: 147\n",
      "  label 43: 16\n",
      "  label 44: 20\n",
      "  label 45: 9\n",
      "  label 46: 55\n",
      "  label 47: 529\n",
      "  label 48: 201\n",
      "  label 49: 70\n",
      "model is microsoft/deberta-base bilstm\n",
      "Epoch 1/20\n"
     ]
    },
    {
     "name": "stderr",
     "output_type": "stream",
     "text": [
      "100%|██████████| 423/423 [00:51<00:00,  8.20it/s]\n"
     ]
    },
    {
     "name": "stdout",
     "output_type": "stream",
     "text": [
      "{'val_loss': 2.303943491206979, 'val_accuracy': 0.4967474866942638, 'precision': 0.2903647143383468, 'recall': 0.4967474866942638, 'f1-score': 0.3449180864280638, 'macro_f1-score': 0.022615616851928092, 'balanced_accuracy': 0.026818181818181817, 'mcc': 0.178426172920392, 'train_loss': 2.30786550340923}\n",
      "Epoch 2/20\n"
     ]
    },
    {
     "name": "stderr",
     "output_type": "stream",
     "text": [
      "100%|██████████| 423/423 [00:51<00:00,  8.22it/s]\n"
     ]
    },
    {
     "name": "stdout",
     "output_type": "stream",
     "text": [
      "{'val_loss': 1.8781538510097648, 'val_accuracy': 0.5641632170313424, 'precision': 0.3796271417799703, 'recall': 0.5641632170313424, 'f1-score': 0.446076146753945, 'macro_f1-score': 0.0449490438148151, 'balanced_accuracy': 0.060814606507416366, 'mcc': 0.3674592238275857, 'train_loss': 1.9532398096776742}\n",
      "Epoch 3/20\n"
     ]
    },
    {
     "name": "stderr",
     "output_type": "stream",
     "text": [
      "100%|██████████| 423/423 [00:51<00:00,  8.25it/s]\n"
     ]
    },
    {
     "name": "stdout",
     "output_type": "stream",
     "text": [
      "{'val_loss': 1.9354655051006462, 'val_accuracy': 0.563571850975754, 'precision': 0.37737536641745745, 'recall': 0.563571850975754, 'f1-score': 0.4487734288710999, 'macro_f1-score': 0.04840678369195808, 'balanced_accuracy': 0.06288197280450004, 'mcc': 0.3647791680934676, 'train_loss': 1.820723320293652}\n",
      "Epoch 4/20\n"
     ]
    },
    {
     "name": "stderr",
     "output_type": "stream",
     "text": [
      "100%|██████████| 423/423 [00:51<00:00,  8.22it/s]\n"
     ]
    },
    {
     "name": "stdout",
     "output_type": "stream",
     "text": [
      "{'val_loss': 1.7902611674002882, 'val_accuracy': 0.5736250739207569, 'precision': 0.38187262370997954, 'recall': 0.5736250739207569, 'f1-score': 0.4572260352622717, 'macro_f1-score': 0.05503553932280402, 'balanced_accuracy': 0.07152264421472143, 'mcc': 0.3790125119829545, 'train_loss': 1.7520371242899704}\n",
      "Epoch 5/20\n"
     ]
    },
    {
     "name": "stderr",
     "output_type": "stream",
     "text": [
      "100%|██████████| 423/423 [00:51<00:00,  8.22it/s]\n"
     ]
    },
    {
     "name": "stdout",
     "output_type": "stream",
     "text": [
      "{'val_loss': 1.7941880799689383, 'val_accuracy': 0.5653459491425192, 'precision': 0.4066769700971776, 'recall': 0.5653459491425192, 'f1-score': 0.46855405237017805, 'macro_f1-score': 0.0517010846128189, 'balanced_accuracy': 0.06965001265189344, 'mcc': 0.38896874790768443, 'train_loss': 1.674333751553903}\n",
      "Epoch 6/20\n"
     ]
    },
    {
     "name": "stderr",
     "output_type": "stream",
     "text": [
      "100%|██████████| 423/423 [00:51<00:00,  8.24it/s]\n"
     ]
    },
    {
     "name": "stdout",
     "output_type": "stream",
     "text": [
      "{'val_loss': 1.818225621614816, 'val_accuracy': 0.5712596096984033, 'precision': 0.40059466234063945, 'recall': 0.5712596096984033, 'f1-score': 0.4667809695368227, 'macro_f1-score': 0.05391587601359853, 'balanced_accuracy': 0.0737885084379042, 'mcc': 0.3900369737966487, 'train_loss': 1.6532251458641485}\n",
      "Epoch 7/20\n"
     ]
    },
    {
     "name": "stderr",
     "output_type": "stream",
     "text": [
      "100%|██████████| 423/423 [00:51<00:00,  8.26it/s]\n"
     ]
    },
    {
     "name": "stdout",
     "output_type": "stream",
     "text": [
      "{'val_loss': 1.8028666270229052, 'val_accuracy': 0.5600236546422236, 'precision': 0.42248492339318466, 'recall': 0.5600236546422236, 'f1-score': 0.4766759711763025, 'macro_f1-score': 0.06345818984303482, 'balanced_accuracy': 0.08257639985694094, 'mcc': 0.3874514059285473, 'train_loss': 1.5576967651962388}\n",
      "Epoch 8/20\n"
     ]
    },
    {
     "name": "stderr",
     "output_type": "stream",
     "text": [
      "100%|██████████| 423/423 [00:51<00:00,  8.21it/s]\n"
     ]
    },
    {
     "name": "stdout",
     "output_type": "stream",
     "text": [
      "{'val_loss': 1.7347544364209444, 'val_accuracy': 0.5683027794204613, 'precision': 0.4580277586118411, 'recall': 0.5683027794204613, 'f1-score': 0.49170833432179845, 'macro_f1-score': 0.07077326484078851, 'balanced_accuracy': 0.09629653785884651, 'mcc': 0.41146152098923017, 'train_loss': 1.5227988987949723}\n",
      "Epoch 9/20\n"
     ]
    },
    {
     "name": "stderr",
     "output_type": "stream",
     "text": [
      "100%|██████████| 423/423 [00:51<00:00,  8.23it/s]\n"
     ]
    },
    {
     "name": "stdout",
     "output_type": "stream",
     "text": [
      "{'val_loss': 1.7407235857450738, 'val_accuracy': 0.5647545830869308, 'precision': 0.47151377241218706, 'recall': 0.5647545830869308, 'f1-score': 0.4950884783902426, 'macro_f1-score': 0.07169870665005612, 'balanced_accuracy': 0.09608844859207859, 'mcc': 0.40872627912136983, 'train_loss': 1.501885724899053}\n",
      "Epoch 10/20\n"
     ]
    },
    {
     "name": "stderr",
     "output_type": "stream",
     "text": [
      "100%|██████████| 423/423 [00:51<00:00,  8.28it/s]\n"
     ]
    },
    {
     "name": "stdout",
     "output_type": "stream",
     "text": [
      "{'val_loss': 1.6926681922291809, 'val_accuracy': 0.5901833234772325, 'precision': 0.4190691582185898, 'recall': 0.5901833234772325, 'f1-score': 0.48753516642213396, 'macro_f1-score': 0.06663603514628638, 'balanced_accuracy': 0.09005378563974033, 'mcc': 0.41987399120142255, 'train_loss': 1.5444438389852537}\n",
      "Epoch 11/20\n"
     ]
    },
    {
     "name": "stderr",
     "output_type": "stream",
     "text": [
      "100%|██████████| 423/423 [00:51<00:00,  8.22it/s]\n"
     ]
    },
    {
     "name": "stdout",
     "output_type": "stream",
     "text": [
      "{'val_loss': 1.7293118283433735, 'val_accuracy': 0.5671200473092844, 'precision': 0.4530488977287256, 'recall': 0.5671200473092844, 'f1-score': 0.49564906121682883, 'macro_f1-score': 0.07099876880552478, 'balanced_accuracy': 0.09930895513162948, 'mcc': 0.41480671250320666, 'train_loss': 1.4782474093121558}\n",
      "Epoch 12/20\n"
     ]
    },
    {
     "name": "stderr",
     "output_type": "stream",
     "text": [
      "100%|██████████| 423/423 [00:51<00:00,  8.20it/s]\n"
     ]
    },
    {
     "name": "stdout",
     "output_type": "stream",
     "text": [
      "{'val_loss': 1.7102119658353194, 'val_accuracy': 0.576581904198699, 'precision': 0.44571154424915804, 'recall': 0.576581904198699, 'f1-score': 0.49450980417810975, 'macro_f1-score': 0.06765008940139544, 'balanced_accuracy': 0.09441760808554366, 'mcc': 0.4189593278227511, 'train_loss': 1.4731575515535142}\n",
      "Early stopping.\n",
      "\n",
      "[Fold 4]\n",
      "Label distribution after resampling:\n",
      "  label 0: 3179\n",
      "  label 1: 25\n",
      "  label 2: 112\n",
      "  label 3: 24\n",
      "  label 4: 206\n",
      "  label 5: 116\n",
      "  label 6: 94\n",
      "  label 7: 32\n",
      "  label 8: 68\n",
      "  label 9: 64\n",
      "  label 10: 71\n",
      "  label 11: 172\n",
      "  label 12: 193\n",
      "  label 13: 28\n",
      "  label 14: 24\n",
      "  label 15: 24\n",
      "  label 16: 20\n",
      "  label 17: 232\n",
      "  label 18: 92\n",
      "  label 19: 45\n",
      "  label 20: 15\n",
      "  label 21: 35\n",
      "  label 22: 77\n",
      "  label 23: 160\n",
      "  label 24: 16\n",
      "  label 25: 51\n",
      "  label 26: 85\n",
      "  label 27: 49\n",
      "  label 28: 12\n",
      "  label 29: 13\n",
      "  label 30: 15\n",
      "  label 31: 80\n",
      "  label 32: 36\n",
      "  label 33: 32\n",
      "  label 34: 29\n",
      "  label 35: 12\n",
      "  label 36: 28\n",
      "  label 37: 22\n",
      "  label 38: 6\n",
      "  label 39: 103\n",
      "  label 40: 11\n",
      "  label 41: 9\n",
      "  label 42: 148\n",
      "  label 43: 16\n",
      "  label 44: 20\n",
      "  label 45: 8\n",
      "  label 46: 54\n",
      "  label 47: 529\n",
      "  label 48: 201\n",
      "  label 49: 70\n",
      "model is microsoft/deberta-base bilstm\n",
      "Epoch 1/20\n"
     ]
    },
    {
     "name": "stderr",
     "output_type": "stream",
     "text": [
      "100%|██████████| 423/423 [00:51<00:00,  8.25it/s]\n"
     ]
    },
    {
     "name": "stdout",
     "output_type": "stream",
     "text": [
      "{'val_loss': 2.0110907953865125, 'val_accuracy': 0.5399172087522176, 'precision': 0.30090702548050113, 'recall': 0.5399172087522176, 'f1-score': 0.38542732434744353, 'macro_f1-score': 0.02547406009200925, 'balanced_accuracy': 0.038510577472841624, 'mcc': 0.2971805848990296, 'train_loss': 2.3141725071778536}\n",
      "Epoch 2/20\n"
     ]
    },
    {
     "name": "stderr",
     "output_type": "stream",
     "text": [
      "100%|██████████| 423/423 [00:50<00:00,  8.34it/s]\n"
     ]
    },
    {
     "name": "stdout",
     "output_type": "stream",
     "text": [
      "{'val_loss': 2.069105329940904, 'val_accuracy': 0.563571850975754, 'precision': 0.3651478049445325, 'recall': 0.563571850975754, 'f1-score': 0.43506964182387153, 'macro_f1-score': 0.04373415679230872, 'balanced_accuracy': 0.05981897395592705, 'mcc': 0.35287924105979157, 'train_loss': 1.9815836678441816}\n",
      "Epoch 3/20\n"
     ]
    },
    {
     "name": "stderr",
     "output_type": "stream",
     "text": [
      "100%|██████████| 423/423 [00:52<00:00,  8.04it/s]\n"
     ]
    },
    {
     "name": "stdout",
     "output_type": "stream",
     "text": [
      "{'val_loss': 1.8560811061904114, 'val_accuracy': 0.5629804849201656, 'precision': 0.37538385252861683, 'recall': 0.5629804849201656, 'f1-score': 0.4441622311796067, 'macro_f1-score': 0.04565137341922747, 'balanced_accuracy': 0.06809813790100314, 'mcc': 0.3713443235396491, 'train_loss': 1.8349537571834897}\n",
      "Epoch 4/20\n"
     ]
    },
    {
     "name": "stderr",
     "output_type": "stream",
     "text": [
      "100%|██████████| 423/423 [00:50<00:00,  8.33it/s]\n"
     ]
    },
    {
     "name": "stdout",
     "output_type": "stream",
     "text": [
      "{'val_loss': 2.2136771442755214, 'val_accuracy': 0.5079834417504435, 'precision': 0.3128960594635446, 'recall': 0.5079834417504435, 'f1-score': 0.3838441527075267, 'macro_f1-score': 0.03526278407387985, 'balanced_accuracy': 0.03998610879416034, 'mcc': 0.23138255278436948, 'train_loss': 1.8030468107115292}\n",
      "Epoch 5/20\n"
     ]
    },
    {
     "name": "stderr",
     "output_type": "stream",
     "text": [
      "100%|██████████| 423/423 [00:51<00:00,  8.23it/s]\n"
     ]
    },
    {
     "name": "stdout",
     "output_type": "stream",
     "text": [
      "{'val_loss': 1.8186920133401763, 'val_accuracy': 0.5659373151981076, 'precision': 0.4006526443317073, 'recall': 0.5659373151981076, 'f1-score': 0.46394998995332376, 'macro_f1-score': 0.04968258849716111, 'balanced_accuracy': 0.07331971077679063, 'mcc': 0.391017816213543, 'train_loss': 1.7665090090980484}\n",
      "Epoch 6/20\n"
     ]
    },
    {
     "name": "stderr",
     "output_type": "stream",
     "text": [
      "100%|██████████| 423/423 [00:51<00:00,  8.27it/s]\n"
     ]
    },
    {
     "name": "stdout",
     "output_type": "stream",
     "text": [
      "{'val_loss': 1.7221978914062932, 'val_accuracy': 0.5789473684210527, 'precision': 0.409516880950694, 'recall': 0.5789473684210527, 'f1-score': 0.4746201226836475, 'macro_f1-score': 0.05420110287633859, 'balanced_accuracy': 0.07923961016202093, 'mcc': 0.4092697011746326, 'train_loss': 1.6390803584533944}\n",
      "Epoch 7/20\n"
     ]
    },
    {
     "name": "stderr",
     "output_type": "stream",
     "text": [
      "100%|██████████| 423/423 [00:51<00:00,  8.27it/s]\n"
     ]
    },
    {
     "name": "stdout",
     "output_type": "stream",
     "text": [
      "{'val_loss': 1.7613910729030393, 'val_accuracy': 0.5748078060319338, 'precision': 0.40994407599794436, 'recall': 0.5748078060319338, 'f1-score': 0.4751516505272217, 'macro_f1-score': 0.0544678364476813, 'balanced_accuracy': 0.07391357038623787, 'mcc': 0.3992685988933122, 'train_loss': 1.6179780998128526}\n",
      "Epoch 8/20\n"
     ]
    },
    {
     "name": "stderr",
     "output_type": "stream",
     "text": [
      "100%|██████████| 423/423 [00:51<00:00,  8.25it/s]\n"
     ]
    },
    {
     "name": "stdout",
     "output_type": "stream",
     "text": [
      "{'val_loss': 1.803731492667828, 'val_accuracy': 0.5683027794204613, 'precision': 0.4272496127436361, 'recall': 0.5683027794204613, 'f1-score': 0.47406865758787164, 'macro_f1-score': 0.05316727681921232, 'balanced_accuracy': 0.07610315669104149, 'mcc': 0.40029257123269235, 'train_loss': 1.596421439878766}\n",
      "Epoch 9/20\n"
     ]
    },
    {
     "name": "stderr",
     "output_type": "stream",
     "text": [
      "100%|██████████| 423/423 [00:50<00:00,  8.40it/s]\n"
     ]
    },
    {
     "name": "stdout",
     "output_type": "stream",
     "text": [
      "{'val_loss': 1.7510055714058426, 'val_accuracy': 0.5777646363098758, 'precision': 0.4092957101776847, 'recall': 0.5777646363098758, 'f1-score': 0.47390050536576867, 'macro_f1-score': 0.05328143107921868, 'balanced_accuracy': 0.07929026183914027, 'mcc': 0.4090941816763707, 'train_loss': 1.6761173996237717}\n",
      "Epoch 10/20\n"
     ]
    },
    {
     "name": "stderr",
     "output_type": "stream",
     "text": [
      "100%|██████████| 423/423 [00:51<00:00,  8.28it/s]\n"
     ]
    },
    {
     "name": "stdout",
     "output_type": "stream",
     "text": [
      "{'val_loss': 1.9714210494509283, 'val_accuracy': 0.5292726197516262, 'precision': 0.3984339734514431, 'recall': 0.5292726197516262, 'f1-score': 0.44024349187561806, 'macro_f1-score': 0.042647918322778845, 'balanced_accuracy': 0.06388470692246292, 'mcc': 0.3602397533707575, 'train_loss': 1.7236548200003081}\n",
      "Early stopping.\n",
      "\n",
      "[Fold 5]\n",
      "Label distribution after resampling:\n",
      "  label 0: 3180\n",
      "  label 1: 24\n",
      "  label 2: 112\n",
      "  label 3: 24\n",
      "  label 4: 205\n",
      "  label 5: 116\n",
      "  label 6: 95\n",
      "  label 7: 31\n",
      "  label 8: 68\n",
      "  label 9: 65\n",
      "  label 10: 70\n",
      "  label 11: 172\n",
      "  label 12: 193\n",
      "  label 13: 29\n",
      "  label 14: 23\n",
      "  label 15: 25\n",
      "  label 16: 20\n",
      "  label 17: 231\n",
      "  label 18: 93\n",
      "  label 19: 44\n",
      "  label 20: 15\n",
      "  label 21: 35\n",
      "  label 22: 78\n",
      "  label 23: 160\n",
      "  label 24: 16\n",
      "  label 25: 50\n",
      "  label 26: 86\n",
      "  label 27: 48\n",
      "  label 28: 12\n",
      "  label 29: 13\n",
      "  label 30: 15\n",
      "  label 31: 80\n",
      "  label 32: 36\n",
      "  label 33: 32\n",
      "  label 34: 30\n",
      "  label 35: 12\n",
      "  label 36: 28\n",
      "  label 37: 21\n",
      "  label 38: 6\n",
      "  label 39: 104\n",
      "  label 40: 11\n",
      "  label 41: 9\n",
      "  label 42: 147\n",
      "  label 43: 16\n",
      "  label 44: 20\n",
      "  label 45: 9\n",
      "  label 46: 54\n",
      "  label 47: 529\n",
      "  label 48: 202\n",
      "  label 49: 70\n",
      "model is microsoft/deberta-base bilstm\n",
      "Epoch 1/20\n"
     ]
    },
    {
     "name": "stderr",
     "output_type": "stream",
     "text": [
      "100%|██████████| 423/423 [00:51<00:00,  8.28it/s]\n"
     ]
    },
    {
     "name": "stdout",
     "output_type": "stream",
     "text": [
      "{'val_loss': 1.952530692208488, 'val_accuracy': 0.5485207100591716, 'precision': 0.3263916219179471, 'recall': 0.5485207100591716, 'f1-score': 0.40618111276927327, 'macro_f1-score': 0.038161179400589836, 'balanced_accuracy': 0.04737330173228723, 'mcc': 0.3115972746154482, 'train_loss': 2.2003321956235466}\n",
      "Epoch 2/20\n"
     ]
    },
    {
     "name": "stderr",
     "output_type": "stream",
     "text": [
      "100%|██████████| 423/423 [00:51<00:00,  8.28it/s]\n"
     ]
    },
    {
     "name": "stdout",
     "output_type": "stream",
     "text": [
      "{'val_loss': 2.0381786232849337, 'val_accuracy': 0.5502958579881657, 'precision': 0.3603660404731288, 'recall': 0.5502958579881657, 'f1-score': 0.43203851918632874, 'macro_f1-score': 0.04409585972312915, 'balanced_accuracy': 0.0564480443410783, 'mcc': 0.3339110319387202, 'train_loss': 1.8954247239070017}\n",
      "Epoch 3/20\n"
     ]
    },
    {
     "name": "stderr",
     "output_type": "stream",
     "text": [
      "100%|██████████| 423/423 [00:51<00:00,  8.28it/s]\n"
     ]
    },
    {
     "name": "stdout",
     "output_type": "stream",
     "text": [
      "{'val_loss': 1.9769776441016287, 'val_accuracy': 0.5355029585798816, 'precision': 0.35383785189800615, 'recall': 0.5355029585798816, 'f1-score': 0.42395912186586393, 'macro_f1-score': 0.04030436951702019, 'balanced_accuracy': 0.05757607747358464, 'mcc': 0.32347170396422215, 'train_loss': 2.004754645604614}\n",
      "Epoch 4/20\n"
     ]
    },
    {
     "name": "stderr",
     "output_type": "stream",
     "text": [
      "100%|██████████| 423/423 [00:46<00:00,  9.07it/s]\n"
     ]
    },
    {
     "name": "stdout",
     "output_type": "stream",
     "text": [
      "{'val_loss': 1.9278970827471535, 'val_accuracy': 0.5579881656804734, 'precision': 0.34118500162757276, 'recall': 0.5579881656804734, 'f1-score': 0.42249484833978146, 'macro_f1-score': 0.04290949864349899, 'balanced_accuracy': 0.054014920196627826, 'mcc': 0.33547051563147223, 'train_loss': 1.9290486328990748}\n",
      "Epoch 5/20\n"
     ]
    },
    {
     "name": "stderr",
     "output_type": "stream",
     "text": [
      "100%|██████████| 423/423 [00:46<00:00,  9.07it/s]\n"
     ]
    },
    {
     "name": "stdout",
     "output_type": "stream",
     "text": [
      "{'val_loss': 1.8046047367014975, 'val_accuracy': 0.572189349112426, 'precision': 0.36059494724111385, 'recall': 0.572189349112426, 'f1-score': 0.44192257887940495, 'macro_f1-score': 0.0459861720235434, 'balanced_accuracy': 0.06217502581960152, 'mcc': 0.3694777175986433, 'train_loss': 1.8365501785391047}\n",
      "Epoch 6/20\n"
     ]
    },
    {
     "name": "stderr",
     "output_type": "stream",
     "text": [
      "100%|██████████| 423/423 [00:46<00:00,  9.07it/s]\n"
     ]
    },
    {
     "name": "stdout",
     "output_type": "stream",
     "text": [
      "{'val_loss': 1.785066326271813, 'val_accuracy': 0.5710059171597633, 'precision': 0.3704003298118345, 'recall': 0.5710059171597633, 'f1-score': 0.44717161330044813, 'macro_f1-score': 0.04968815745278588, 'balanced_accuracy': 0.06430914900699058, 'mcc': 0.36849948891728895, 'train_loss': 1.7511087947703423}\n",
      "Epoch 7/20\n"
     ]
    },
    {
     "name": "stderr",
     "output_type": "stream",
     "text": [
      "100%|██████████| 423/423 [00:46<00:00,  9.06it/s]\n"
     ]
    },
    {
     "name": "stdout",
     "output_type": "stream",
     "text": [
      "{'val_loss': 2.2428375100189784, 'val_accuracy': 0.5005917159763313, 'precision': 0.3195340617651318, 'recall': 0.5005917159763313, 'f1-score': 0.38165458586316514, 'macro_f1-score': 0.022224162148777662, 'balanced_accuracy': 0.03722692924204259, 'mcc': 0.27877908006578106, 'train_loss': 2.0491452794830285}\n",
      "Epoch 8/20\n"
     ]
    },
    {
     "name": "stderr",
     "output_type": "stream",
     "text": [
      "100%|██████████| 423/423 [00:46<00:00,  9.08it/s]\n"
     ]
    },
    {
     "name": "stdout",
     "output_type": "stream",
     "text": [
      "{'val_loss': 2.239373263323082, 'val_accuracy': 0.4863905325443787, 'precision': 0.3216843343450018, 'recall': 0.4863905325443787, 'f1-score': 0.37703851638801233, 'macro_f1-score': 0.021667583129859513, 'balanced_accuracy': 0.03674872147164339, 'mcc': 0.26941928865118037, 'train_loss': 2.262674330819583}\n",
      "Epoch 9/20\n"
     ]
    },
    {
     "name": "stderr",
     "output_type": "stream",
     "text": [
      "100%|██████████| 423/423 [00:46<00:00,  9.07it/s]\n"
     ]
    },
    {
     "name": "stdout",
     "output_type": "stream",
     "text": [
      "{'val_loss': 2.4943892303502784, 'val_accuracy': 0.46982248520710057, 'precision': 0.22073316760617626, 'recall': 0.46982248520710057, 'f1-score': 0.3003535050357793, 'macro_f1-score': 0.012785829307568436, 'balanced_accuracy': 0.02, 'mcc': 0.0, 'train_loss': 2.497152681609981}\n",
      "Early stopping.\n",
      "\n",
      " === microsoft/deberta-base + bilstm + none Final 10-fold Cross-Validation Results ===\n",
      "Total time: 2635 seconds\n",
      "Total time: 0 hrs 43 mins 55 secs\n",
      "val_loss: 1.7825\n",
      "val_accuracy: 0.5701\n",
      "precision: 0.4121\n",
      "recall: 0.5701\n",
      "f1-score: 0.4702\n",
      "macro_f1-score: 0.0574\n",
      "balanced_accuracy: 0.0776\n",
      "mcc: 0.3908\n",
      "train_loss: 1.6539\n"
     ]
    }
   ],
   "source": [
    "model_list = [\"bert-base-uncased\", \"roberta-base\", \"microsoft/deberta-base\"]\n",
    "hybrid_list = [None, \"cnn\", \"lstm\", \"bilstm\"]\n",
    "resample_list = [\"none\"]\n",
    "\n",
    "all_experiment_result = {}\n",
    "\n",
    "for model_name in model_list:\n",
    "    for hybrid_type in hybrid_list:\n",
    "        for resample_method in resample_list:\n",
    "            results = run_kfold_experiment(\n",
    "                X=messages, y=labels, model_name=model_name, hybrid_type=hybrid_type, resample_method=resample_method,\n",
    "                kfold=KFOLD_SPLIT, seed=SEED, epochs=EPOCHS, patience=PATIENCE, max_length=MAX_LENGTH, \n",
    "                batch_size=BATCH_SIZE, lr=LR, weight_decay=WEIGHT_DECAY\n",
    "            )\n",
    "\n",
    "            key = f\"{model_name} {hybrid_type if hybrid_type else 'None'} {resample_method}\"\n",
    "            all_experiment_result[key] = results"
   ]
  },
  {
   "cell_type": "code",
   "execution_count": 5,
   "id": "d799ebb4-be3b-4b29-9238-6c2a2f8256ae",
   "metadata": {},
   "outputs": [
    {
     "data": {
      "text/plain": [
       "{'bert-base-uncased None none': {'val_loss': 1.654164529943241,\n",
       "  'val_accuracy': 0.6716340248933615,\n",
       "  'precision': 0.6826416838228119,\n",
       "  'recall': 0.6716340248933615,\n",
       "  'f1-score': 0.6649331994518228,\n",
       "  'macro_f1-score': 0.4118863707844307,\n",
       "  'balanced_accuracy': 0.4161791186695294,\n",
       "  'mcc': 0.5708614935770694,\n",
       "  'train_loss': 0.23584370857928097},\n",
       " 'bert-base-uncased cnn none': {'val_loss': 1.6329366025251317,\n",
       "  'val_accuracy': 0.6853552570342817,\n",
       "  'precision': 0.6762436010035915,\n",
       "  'recall': 0.6853552570342817,\n",
       "  'f1-score': 0.6693907115020888,\n",
       "  'macro_f1-score': 0.4238461685842812,\n",
       "  'balanced_accuracy': 0.40399342724052467,\n",
       "  'mcc': 0.580159954652606,\n",
       "  'train_loss': 0.2717428836439809},\n",
       " 'bert-base-uncased lstm none': {'val_loss': 1.5906148640192905,\n",
       "  'val_accuracy': 0.6750646478572604,\n",
       "  'precision': 0.6755941023042896,\n",
       "  'recall': 0.6750646478572604,\n",
       "  'f1-score': 0.662658310944747,\n",
       "  'macro_f1-score': 0.39917732272997286,\n",
       "  'balanced_accuracy': 0.38439662938679187,\n",
       "  'mcc': 0.5684259816497,\n",
       "  'train_loss': 0.29687932593567434},\n",
       " 'bert-base-uncased bilstm none': {'val_loss': 1.560927408497851,\n",
       "  'val_accuracy': 0.6761294566780625,\n",
       "  'precision': 0.6829371283464167,\n",
       "  'recall': 0.6761294566780625,\n",
       "  'f1-score': 0.6682883770759904,\n",
       "  'macro_f1-score': 0.4075733649404395,\n",
       "  'balanced_accuracy': 0.4067541102816349,\n",
       "  'mcc': 0.5743265737071159,\n",
       "  'train_loss': 0.29959590126854974},\n",
       " 'roberta-base None none': {'val_loss': 1.573565433392266,\n",
       "  'val_accuracy': 0.6673773790236511,\n",
       "  'precision': 0.6758585785969317,\n",
       "  'recall': 0.6673773790236511,\n",
       "  'f1-score': 0.6585493355114259,\n",
       "  'macro_f1-score': 0.3792853498417549,\n",
       "  'balanced_accuracy': 0.3808797020125024,\n",
       "  'mcc': 0.5635720142685541,\n",
       "  'train_loss': 0.4238594823756891},\n",
       " 'roberta-base cnn none': {'val_loss': 1.5215442178946623,\n",
       "  'val_accuracy': 0.6583862355176553,\n",
       "  'precision': 0.6704683504186068,\n",
       "  'recall': 0.6583862355176553,\n",
       "  'f1-score': 0.6511562084415857,\n",
       "  'macro_f1-score': 0.38280984418034847,\n",
       "  'balanced_accuracy': 0.38329361521290684,\n",
       "  'mcc': 0.5549715324118316,\n",
       "  'train_loss': 0.39723740758871917},\n",
       " 'roberta-base lstm none': {'val_loss': 1.5938648675410252,\n",
       "  'val_accuracy': 0.630356814181588,\n",
       "  'precision': 0.5742004318595395,\n",
       "  'recall': 0.630356814181588,\n",
       "  'f1-score': 0.588551481560499,\n",
       "  'macro_f1-score': 0.23654646359581818,\n",
       "  'balanced_accuracy': 0.24265197724763982,\n",
       "  'mcc': 0.5043619876209536,\n",
       "  'train_loss': 1.0196525389975901},\n",
       " 'roberta-base bilstm none': {'val_loss': 1.510132154709888,\n",
       "  'val_accuracy': 0.6568495235829085,\n",
       "  'precision': 0.653649415963115,\n",
       "  'recall': 0.6568495235829085,\n",
       "  'f1-score': 0.6438314864867822,\n",
       "  'macro_f1-score': 0.34180935997790296,\n",
       "  'balanced_accuracy': 0.3405228890694115,\n",
       "  'mcc': 0.5483129552108793,\n",
       "  'train_loss': 0.5409327916373845},\n",
       " 'microsoft/deberta-base None none': {'val_loss': 1.6052611724385675,\n",
       "  'val_accuracy': 0.6614640683885099,\n",
       "  'precision': 0.6438499397897925,\n",
       "  'recall': 0.6614640683885099,\n",
       "  'f1-score': 0.6363674961943031,\n",
       "  'macro_f1-score': 0.3384180676409417,\n",
       "  'balanced_accuracy': 0.33219392193602065,\n",
       "  'mcc': 0.5467184011628243,\n",
       "  'train_loss': 0.6197523101195517},\n",
       " 'microsoft/deberta-base cnn none': {'val_loss': 1.737625889248162,\n",
       "  'val_accuracy': 0.6599249769927111,\n",
       "  'precision': 0.6599512125806763,\n",
       "  'recall': 0.6599249769927111,\n",
       "  'f1-score': 0.6471579122795197,\n",
       "  'macro_f1-score': 0.3602645509633517,\n",
       "  'balanced_accuracy': 0.3531305459361447,\n",
       "  'mcc': 0.5495408211596853,\n",
       "  'train_loss': 0.37379651870006086},\n",
       " 'microsoft/deberta-base lstm none': {'val_loss': 1.9841011253168,\n",
       "  'val_accuracy': 0.549801559946672,\n",
       "  'precision': 0.35983770901381096,\n",
       "  'recall': 0.549801559946672,\n",
       "  'f1-score': 0.4305753559127834,\n",
       "  'macro_f1-score': 0.03944384650752685,\n",
       "  'balanced_accuracy': 0.05588902609279665,\n",
       "  'mcc': 0.3413813033592546,\n",
       "  'train_loss': 2.0072944552763134},\n",
       " 'microsoft/deberta-base bilstm none': {'val_loss': 1.7824546910681818,\n",
       "  'val_accuracy': 0.5701444122906162,\n",
       "  'precision': 0.4121037887029556,\n",
       "  'recall': 0.5701444122906162,\n",
       "  'f1-score': 0.4702372248489521,\n",
       "  'macro_f1-score': 0.05738457271346724,\n",
       "  'balanced_accuracy': 0.07761050317882182,\n",
       "  'mcc': 0.3908218933547706,\n",
       "  'train_loss': 1.6538764143384657}}"
      ]
     },
     "execution_count": 5,
     "metadata": {},
     "output_type": "execute_result"
    }
   ],
   "source": [
    "all_experiment_result"
   ]
  }
 ],
 "metadata": {
  "kernelspec": {
   "display_name": "Python 3 (ipykernel)",
   "language": "python",
   "name": "python3"
  },
  "language_info": {
   "codemirror_mode": {
    "name": "ipython",
    "version": 3
   },
   "file_extension": ".py",
   "mimetype": "text/x-python",
   "name": "python",
   "nbconvert_exporter": "python",
   "pygments_lexer": "ipython3",
   "version": "3.12.7"
  }
 },
 "nbformat": 4,
 "nbformat_minor": 5
}
