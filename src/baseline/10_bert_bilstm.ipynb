{
 "cells": [
  {
   "cell_type": "code",
   "execution_count": 1,
   "id": "f22f4841-9a9d-4a63-b896-560594d666d8",
   "metadata": {},
   "outputs": [
    {
     "data": {
      "text/html": [
       "<div>\n",
       "<style scoped>\n",
       "    .dataframe tbody tr th:only-of-type {\n",
       "        vertical-align: middle;\n",
       "    }\n",
       "\n",
       "    .dataframe tbody tr th {\n",
       "        vertical-align: top;\n",
       "    }\n",
       "\n",
       "    .dataframe thead th {\n",
       "        text-align: right;\n",
       "    }\n",
       "</style>\n",
       "<table border=\"1\" class=\"dataframe\">\n",
       "  <thead>\n",
       "    <tr style=\"text-align: right;\">\n",
       "      <th></th>\n",
       "      <th>Inbound Message</th>\n",
       "      <th>Label</th>\n",
       "    </tr>\n",
       "  </thead>\n",
       "  <tbody>\n",
       "    <tr>\n",
       "      <th>0</th>\n",
       "      <td>login issue verified user details employee man...</td>\n",
       "      <td>0</td>\n",
       "    </tr>\n",
       "    <tr>\n",
       "      <th>1</th>\n",
       "      <td>outlook hello team meetings skype meetings etc...</td>\n",
       "      <td>0</td>\n",
       "    </tr>\n",
       "    <tr>\n",
       "      <th>2</th>\n",
       "      <td>cant log vpn cannot log vpn best</td>\n",
       "      <td>0</td>\n",
       "    </tr>\n",
       "    <tr>\n",
       "      <th>3</th>\n",
       "      <td>unable access tool page unable access tool page</td>\n",
       "      <td>0</td>\n",
       "    </tr>\n",
       "    <tr>\n",
       "      <th>4</th>\n",
       "      <td>skype error skype error</td>\n",
       "      <td>0</td>\n",
       "    </tr>\n",
       "    <tr>\n",
       "      <th>...</th>\n",
       "      <td>...</td>\n",
       "      <td>...</td>\n",
       "    </tr>\n",
       "    <tr>\n",
       "      <th>8449</th>\n",
       "      <td>emails coming mail good afternoon receiving em...</td>\n",
       "      <td>22</td>\n",
       "    </tr>\n",
       "    <tr>\n",
       "      <th>8450</th>\n",
       "      <td>telephony software issue telephony software issue</td>\n",
       "      <td>0</td>\n",
       "    </tr>\n",
       "    <tr>\n",
       "      <th>8451</th>\n",
       "      <td>vip windows password reset tifpdchb pedxruyf v...</td>\n",
       "      <td>0</td>\n",
       "    </tr>\n",
       "    <tr>\n",
       "      <th>8452</th>\n",
       "      <td>machine est funcionando unable access machine ...</td>\n",
       "      <td>44</td>\n",
       "    </tr>\n",
       "    <tr>\n",
       "      <th>8453</th>\n",
       "      <td>mehreren lassen sich verschiedene prgramdntyme...</td>\n",
       "      <td>49</td>\n",
       "    </tr>\n",
       "  </tbody>\n",
       "</table>\n",
       "<p>8454 rows × 2 columns</p>\n",
       "</div>"
      ],
      "text/plain": [
       "                                        Inbound Message  Label\n",
       "0     login issue verified user details employee man...      0\n",
       "1     outlook hello team meetings skype meetings etc...      0\n",
       "2                      cant log vpn cannot log vpn best      0\n",
       "3       unable access tool page unable access tool page      0\n",
       "4                               skype error skype error      0\n",
       "...                                                 ...    ...\n",
       "8449  emails coming mail good afternoon receiving em...     22\n",
       "8450  telephony software issue telephony software issue      0\n",
       "8451  vip windows password reset tifpdchb pedxruyf v...      0\n",
       "8452  machine est funcionando unable access machine ...     44\n",
       "8453  mehreren lassen sich verschiedene prgramdntyme...     49\n",
       "\n",
       "[8454 rows x 2 columns]"
      ]
     },
     "execution_count": 1,
     "metadata": {},
     "output_type": "execute_result"
    }
   ],
   "source": [
    "import pandas as pd\n",
    "data_path = \"../../data/open_source_8454_combine_short_description.csv\"\n",
    "df = pd.read_csv(data_path)\n",
    "# df_label_0 = df[df[\"Label\"] == 0]\n",
    "# df_label_0_to_drop = df_label_0.sample(n=3000, random_state=42)\n",
    "# df = df.drop(df_label_0_to_drop.index)\n",
    "df"
   ]
  },
  {
   "cell_type": "code",
   "execution_count": 2,
   "id": "bf737873-4f1c-4588-913d-8f06b2777b20",
   "metadata": {},
   "outputs": [],
   "source": [
    "import sys\n",
    "import os\n",
    "sys.path.append(os.path.abspath('../ml_lib'))\n",
    "\n",
    "from config import *\n",
    "from experiment import run_kfold_experiment"
   ]
  },
  {
   "cell_type": "code",
   "execution_count": 3,
   "id": "a12b2613-aa9d-41c0-8f62-72210eaf8d7f",
   "metadata": {},
   "outputs": [],
   "source": [
    "messages, labels = df['Inbound Message'].tolist(), df['Label'].tolist()"
   ]
  },
  {
   "cell_type": "code",
   "execution_count": 4,
   "id": "38d4729f-f867-4cea-89f9-31f67e5ecced",
   "metadata": {},
   "outputs": [
    {
     "name": "stdout",
     "output_type": "stream",
     "text": [
      "▶ Running: bert-base-uncased + bilstm + none\n",
      "tokenizer is bert-base-uncased\n",
      "Using device: cuda\n",
      "CUDA Available: True\n",
      "CUDA Device: NVIDIA GeForce RTX 3050 6GB Laptop GPU\n",
      "Current GPU Memory Allocated: 0.00 GB\n",
      "Current GPU Memory Cached: 0.00 GB\n",
      "\n",
      "[Fold 1]\n",
      "model is bert-base-uncased bilstm\n"
     ]
    },
    {
     "name": "stderr",
     "output_type": "stream",
     "text": [
      "D:\\Anaconda3\\envs\\cuda\\Lib\\site-packages\\sklearn\\model_selection\\_split.py:737: UserWarning: The least populated class in y has only 7 members, which is less than n_splits=10.\n",
      "  warnings.warn(\n"
     ]
    },
    {
     "name": "stdout",
     "output_type": "stream",
     "text": [
      "Epoch 1/20\n"
     ]
    },
    {
     "name": "stderr",
     "output_type": "stream",
     "text": [
      "100%|██████████| 476/476 [03:36<00:00,  2.20it/s]\n"
     ]
    },
    {
     "name": "stdout",
     "output_type": "stream",
     "text": [
      "{'val_loss': 1.7003350021704189, 'val_accuracy': 0.6040189125295509, 'precision': 0.43743167652435344, 'recall': 0.6040189125295509, 'f1-score': 0.48932050862582877, 'macro_f1-score': 0.080084090760374, 'balanced_accuracy': 0.09395110456513531, 'mcc': 0.42765996412796037, 'train_loss': 2.0072612567108217}\n",
      "Epoch 2/20\n"
     ]
    },
    {
     "name": "stderr",
     "output_type": "stream",
     "text": [
      "100%|██████████| 476/476 [03:34<00:00,  2.22it/s]\n"
     ]
    },
    {
     "name": "stdout",
     "output_type": "stream",
     "text": [
      "{'val_loss': 1.463384895954492, 'val_accuracy': 0.6323877068557919, 'precision': 0.5471059710992618, 'recall': 0.6323877068557919, 'f1-score': 0.5660365163431589, 'macro_f1-score': 0.15744111407299163, 'balanced_accuracy': 0.17769279276505767, 'mcc': 0.4969671172864765, 'train_loss': 1.495238550195173}\n",
      "Epoch 3/20\n"
     ]
    },
    {
     "name": "stderr",
     "output_type": "stream",
     "text": [
      "100%|██████████| 476/476 [03:34<00:00,  2.22it/s]\n"
     ]
    },
    {
     "name": "stdout",
     "output_type": "stream",
     "text": [
      "{'val_loss': 1.336244838417701, 'val_accuracy': 0.6666666666666666, 'precision': 0.6123255543572607, 'recall': 0.6666666666666666, 'f1-score': 0.6284619015072539, 'macro_f1-score': 0.25406124995517115, 'balanced_accuracy': 0.259688810690883, 'mcc': 0.5467573934323877, 'train_loss': 1.1928726191155048}\n",
      "Epoch 4/20\n"
     ]
    },
    {
     "name": "stderr",
     "output_type": "stream",
     "text": [
      "100%|██████████| 476/476 [03:34<00:00,  2.22it/s]\n"
     ]
    },
    {
     "name": "stdout",
     "output_type": "stream",
     "text": [
      "{'val_loss': 1.2813729508867804, 'val_accuracy': 0.6749408983451537, 'precision': 0.6283230372055818, 'recall': 0.6749408983451537, 'f1-score': 0.6337682310574172, 'macro_f1-score': 0.2872774113298581, 'balanced_accuracy': 0.2907437538710901, 'mcc': 0.5579323221272458, 'train_loss': 0.9670850073276949}\n",
      "Epoch 5/20\n"
     ]
    },
    {
     "name": "stderr",
     "output_type": "stream",
     "text": [
      "100%|██████████| 476/476 [03:34<00:00,  2.22it/s]\n"
     ]
    },
    {
     "name": "stdout",
     "output_type": "stream",
     "text": [
      "{'val_loss': 1.3460370122261767, 'val_accuracy': 0.6678486997635934, 'precision': 0.6452557526998691, 'recall': 0.6678486997635934, 'f1-score': 0.6424090876079787, 'macro_f1-score': 0.3361237390299143, 'balanced_accuracy': 0.3365513359129045, 'mcc': 0.5537395504500112, 'train_loss': 0.7586671149655551}\n",
      "Epoch 6/20\n"
     ]
    },
    {
     "name": "stderr",
     "output_type": "stream",
     "text": [
      "100%|██████████| 476/476 [03:34<00:00,  2.22it/s]\n"
     ]
    },
    {
     "name": "stdout",
     "output_type": "stream",
     "text": [
      "{'val_loss': 1.345698687827812, 'val_accuracy': 0.682033096926714, 'precision': 0.671652890380936, 'recall': 0.682033096926714, 'f1-score': 0.6544323612943981, 'macro_f1-score': 0.3547959238573505, 'balanced_accuracy': 0.3364262031724962, 'mcc': 0.5711492130837356, 'train_loss': 0.6198613521556894}\n",
      "Epoch 7/20\n"
     ]
    },
    {
     "name": "stderr",
     "output_type": "stream",
     "text": [
      "100%|██████████| 476/476 [03:34<00:00,  2.22it/s]\n"
     ]
    },
    {
     "name": "stdout",
     "output_type": "stream",
     "text": [
      "{'val_loss': 1.4166585791785762, 'val_accuracy': 0.6761229314420804, 'precision': 0.6363889841740218, 'recall': 0.6761229314420804, 'f1-score': 0.6431079432011386, 'macro_f1-score': 0.33266021008386093, 'balanced_accuracy': 0.3165681082369733, 'mcc': 0.5579571364185368, 'train_loss': 0.5333581361215279}\n",
      "Epoch 8/20\n"
     ]
    },
    {
     "name": "stderr",
     "output_type": "stream",
     "text": [
      "100%|██████████| 476/476 [03:34<00:00,  2.22it/s]\n"
     ]
    },
    {
     "name": "stdout",
     "output_type": "stream",
     "text": [
      "{'val_loss': 1.424237753985063, 'val_accuracy': 0.6832151300236406, 'precision': 0.672509468643245, 'recall': 0.6832151300236406, 'f1-score': 0.6652131578182007, 'macro_f1-score': 0.386786531723673, 'balanced_accuracy': 0.36595372222416667, 'mcc': 0.5769902910840732, 'train_loss': 0.446832938378035}\n",
      "Epoch 9/20\n"
     ]
    },
    {
     "name": "stderr",
     "output_type": "stream",
     "text": [
      "100%|██████████| 476/476 [03:34<00:00,  2.22it/s]\n"
     ]
    },
    {
     "name": "stdout",
     "output_type": "stream",
     "text": [
      "{'val_loss': 1.4489416643133703, 'val_accuracy': 0.6903073286052009, 'precision': 0.6860396483625434, 'recall': 0.6903073286052009, 'f1-score': 0.6801080823877799, 'macro_f1-score': 0.4438581403854869, 'balanced_accuracy': 0.4433755230828564, 'mcc': 0.594179984904344, 'train_loss': 0.37234644774746684}\n",
      "Epoch 10/20\n"
     ]
    },
    {
     "name": "stderr",
     "output_type": "stream",
     "text": [
      "100%|██████████| 476/476 [03:34<00:00,  2.22it/s]\n"
     ]
    },
    {
     "name": "stdout",
     "output_type": "stream",
     "text": [
      "{'val_loss': 1.6146839947070715, 'val_accuracy': 0.6867612293144209, 'precision': 0.6688539206534897, 'recall': 0.6867612293144209, 'f1-score': 0.6627231896244024, 'macro_f1-score': 0.3975894714577206, 'balanced_accuracy': 0.36567508890975264, 'mcc': 0.57350715334111, 'train_loss': 0.33349576904321043}\n",
      "Epoch 11/20\n"
     ]
    },
    {
     "name": "stderr",
     "output_type": "stream",
     "text": [
      "100%|██████████| 476/476 [03:34<00:00,  2.22it/s]\n"
     ]
    },
    {
     "name": "stdout",
     "output_type": "stream",
     "text": [
      "{'val_loss': 1.5862817067020345, 'val_accuracy': 0.6808510638297872, 'precision': 0.6861950205351443, 'recall': 0.6808510638297872, 'f1-score': 0.6760774059420054, 'macro_f1-score': 0.4163271691396438, 'balanced_accuracy': 0.41790121570755917, 'mcc': 0.5785046630939582, 'train_loss': 0.29476460493208856}\n",
      "Epoch 12/20\n"
     ]
    },
    {
     "name": "stderr",
     "output_type": "stream",
     "text": [
      "100%|██████████| 476/476 [03:34<00:00,  2.22it/s]\n"
     ]
    },
    {
     "name": "stdout",
     "output_type": "stream",
     "text": [
      "{'val_loss': 1.608093557492742, 'val_accuracy': 0.6749408983451537, 'precision': 0.6745227798024742, 'recall': 0.6749408983451537, 'f1-score': 0.6594935184350977, 'macro_f1-score': 0.4061478610419573, 'balanced_accuracy': 0.39794751439127435, 'mcc': 0.5690518610314882, 'train_loss': 0.2743755374338572}\n",
      "Early stopping.\n",
      "\n",
      "[Fold 2]\n",
      "model is bert-base-uncased bilstm\n",
      "Epoch 1/20\n"
     ]
    },
    {
     "name": "stderr",
     "output_type": "stream",
     "text": [
      "100%|██████████| 476/476 [03:34<00:00,  2.22it/s]\n"
     ]
    },
    {
     "name": "stdout",
     "output_type": "stream",
     "text": [
      "{'val_loss': 1.6472116326386075, 'val_accuracy': 0.5921985815602837, 'precision': 0.4403804319567806, 'recall': 0.5921985815602837, 'f1-score': 0.4938590253105129, 'macro_f1-score': 0.0961709086272592, 'balanced_accuracy': 0.11091065842453818, 'mcc': 0.41591093104360544, 'train_loss': 2.0004946022224024}\n",
      "Epoch 2/20\n"
     ]
    },
    {
     "name": "stderr",
     "output_type": "stream",
     "text": [
      "100%|██████████| 476/476 [03:34<00:00,  2.22it/s]\n"
     ]
    },
    {
     "name": "stdout",
     "output_type": "stream",
     "text": [
      "{'val_loss': 1.4653425913936686, 'val_accuracy': 0.6182033096926713, 'precision': 0.5322150077904526, 'recall': 0.6182033096926713, 'f1-score': 0.5463729828501784, 'macro_f1-score': 0.1354081858012047, 'balanced_accuracy': 0.153187704692158, 'mcc': 0.475079538413549, 'train_loss': 1.473463499495963}\n",
      "Epoch 3/20\n"
     ]
    },
    {
     "name": "stderr",
     "output_type": "stream",
     "text": [
      "100%|██████████| 476/476 [03:34<00:00,  2.22it/s]\n"
     ]
    },
    {
     "name": "stdout",
     "output_type": "stream",
     "text": [
      "{'val_loss': 1.3900904036917776, 'val_accuracy': 0.6347517730496454, 'precision': 0.580013445125519, 'recall': 0.6347517730496454, 'f1-score': 0.594208192931387, 'macro_f1-score': 0.20434853827186558, 'balanced_accuracy': 0.21325103007275942, 'mcc': 0.5074797108033509, 'train_loss': 1.1942483068389051}\n",
      "Epoch 4/20\n"
     ]
    },
    {
     "name": "stderr",
     "output_type": "stream",
     "text": [
      "100%|██████████| 476/476 [03:34<00:00,  2.22it/s]\n"
     ]
    },
    {
     "name": "stdout",
     "output_type": "stream",
     "text": [
      "{'val_loss': 1.3697662955185153, 'val_accuracy': 0.6418439716312057, 'precision': 0.6258627707192015, 'recall': 0.6418439716312057, 'f1-score': 0.6264745719363657, 'macro_f1-score': 0.2732022316567826, 'balanced_accuracy': 0.2909343796656567, 'mcc': 0.5320091626263992, 'train_loss': 0.9620737056052234}\n",
      "Epoch 5/20\n"
     ]
    },
    {
     "name": "stderr",
     "output_type": "stream",
     "text": [
      "100%|██████████| 476/476 [03:34<00:00,  2.22it/s]\n"
     ]
    },
    {
     "name": "stdout",
     "output_type": "stream",
     "text": [
      "{'val_loss': 1.381351447330331, 'val_accuracy': 0.6607565011820331, 'precision': 0.6141821244294134, 'recall': 0.6607565011820331, 'f1-score': 0.6270824599638637, 'macro_f1-score': 0.26158620362146784, 'balanced_accuracy': 0.2721185625402919, 'mcc': 0.5436586178056358, 'train_loss': 0.7851706822128857}\n",
      "Epoch 6/20\n"
     ]
    },
    {
     "name": "stderr",
     "output_type": "stream",
     "text": [
      "100%|██████████| 476/476 [03:34<00:00,  2.21it/s]\n"
     ]
    },
    {
     "name": "stdout",
     "output_type": "stream",
     "text": [
      "{'val_loss': 1.410689502392175, 'val_accuracy': 0.6501182033096927, 'precision': 0.6460758215207542, 'recall': 0.6501182033096927, 'f1-score': 0.6292207132510871, 'macro_f1-score': 0.3011194060310306, 'balanced_accuracy': 0.3185505910904975, 'mcc': 0.5371940218467248, 'train_loss': 0.6350312961437622}\n",
      "Epoch 7/20\n"
     ]
    },
    {
     "name": "stderr",
     "output_type": "stream",
     "text": [
      "100%|██████████| 476/476 [03:34<00:00,  2.22it/s]\n"
     ]
    },
    {
     "name": "stdout",
     "output_type": "stream",
     "text": [
      "{'val_loss': 1.4454287172488447, 'val_accuracy': 0.6643026004728132, 'precision': 0.6550911034142408, 'recall': 0.6643026004728132, 'f1-score': 0.6452413412288611, 'macro_f1-score': 0.3005625059203255, 'balanced_accuracy': 0.31897950008750564, 'mcc': 0.560340241092568, 'train_loss': 0.5303770149940578}\n",
      "Epoch 8/20\n"
     ]
    },
    {
     "name": "stderr",
     "output_type": "stream",
     "text": [
      "100%|██████████| 476/476 [03:34<00:00,  2.22it/s]\n"
     ]
    },
    {
     "name": "stdout",
     "output_type": "stream",
     "text": [
      "{'val_loss': 1.5961435603083305, 'val_accuracy': 0.6513002364066194, 'precision': 0.6495048682176183, 'recall': 0.6513002364066194, 'f1-score': 0.6354607353688669, 'macro_f1-score': 0.30758503427618583, 'balanced_accuracy': 0.31680447322369, 'mcc': 0.5395711118238947, 'train_loss': 0.45587804898259643}\n",
      "Epoch 9/20\n"
     ]
    },
    {
     "name": "stderr",
     "output_type": "stream",
     "text": [
      "100%|██████████| 476/476 [03:34<00:00,  2.22it/s]\n"
     ]
    },
    {
     "name": "stdout",
     "output_type": "stream",
     "text": [
      "{'val_loss': 1.5415908413113288, 'val_accuracy': 0.6595744680851063, 'precision': 0.6253615834627805, 'recall': 0.6595744680851063, 'f1-score': 0.632091700970704, 'macro_f1-score': 0.288461007771269, 'balanced_accuracy': 0.28338946094049194, 'mcc': 0.5382096262533256, 'train_loss': 0.42886058871923877}\n",
      "Epoch 10/20\n"
     ]
    },
    {
     "name": "stderr",
     "output_type": "stream",
     "text": [
      "100%|██████████| 476/476 [03:34<00:00,  2.22it/s]\n"
     ]
    },
    {
     "name": "stdout",
     "output_type": "stream",
     "text": [
      "{'val_loss': 1.4959115284793782, 'val_accuracy': 0.6678486997635934, 'precision': 0.6663141706213496, 'recall': 0.6678486997635934, 'f1-score': 0.6580159549578224, 'macro_f1-score': 0.361037795915523, 'balanced_accuracy': 0.3804563198445021, 'mcc': 0.5640479239224987, 'train_loss': 0.3619139261226788}\n",
      "Epoch 11/20\n"
     ]
    },
    {
     "name": "stderr",
     "output_type": "stream",
     "text": [
      "100%|██████████| 476/476 [03:35<00:00,  2.21it/s]\n"
     ]
    },
    {
     "name": "stdout",
     "output_type": "stream",
     "text": [
      "{'val_loss': 1.5562264373842276, 'val_accuracy': 0.6643026004728132, 'precision': 0.6527472643645041, 'recall': 0.6643026004728132, 'f1-score': 0.6498222430054253, 'macro_f1-score': 0.35545039584077165, 'balanced_accuracy': 0.36377258853316724, 'mcc': 0.556917694373012, 'train_loss': 0.2934819693909958}\n",
      "Epoch 12/20\n"
     ]
    },
    {
     "name": "stderr",
     "output_type": "stream",
     "text": [
      "100%|██████████| 476/476 [03:34<00:00,  2.22it/s]\n"
     ]
    },
    {
     "name": "stdout",
     "output_type": "stream",
     "text": [
      "{'val_loss': 1.6182483462792523, 'val_accuracy': 0.648936170212766, 'precision': 0.6693069209431346, 'recall': 0.648936170212766, 'f1-score': 0.6294980454239806, 'macro_f1-score': 0.31582711822343124, 'balanced_accuracy': 0.3394269480918588, 'mcc': 0.5405839025719142, 'train_loss': 0.2957477292276825}\n",
      "Epoch 13/20\n"
     ]
    },
    {
     "name": "stderr",
     "output_type": "stream",
     "text": [
      "100%|██████████| 476/476 [03:34<00:00,  2.22it/s]\n"
     ]
    },
    {
     "name": "stdout",
     "output_type": "stream",
     "text": [
      "{'val_loss': 1.6784429105947603, 'val_accuracy': 0.648936170212766, 'precision': 0.6464711089142047, 'recall': 0.648936170212766, 'f1-score': 0.6376112678742573, 'macro_f1-score': 0.3112710218479862, 'balanced_accuracy': 0.32318471933926796, 'mcc': 0.5350925822653578, 'train_loss': 0.29930870926414593}\n",
      "Early stopping.\n",
      "\n",
      "[Fold 3]\n",
      "model is bert-base-uncased bilstm\n",
      "Epoch 1/20\n"
     ]
    },
    {
     "name": "stderr",
     "output_type": "stream",
     "text": [
      "100%|██████████| 476/476 [03:34<00:00,  2.22it/s]\n"
     ]
    },
    {
     "name": "stdout",
     "output_type": "stream",
     "text": [
      "{'val_loss': 1.67367174715366, 'val_accuracy': 0.5874704491725768, 'precision': 0.4278016133713105, 'recall': 0.5874704491725768, 'f1-score': 0.4839946140683519, 'macro_f1-score': 0.082931997452235, 'balanced_accuracy': 0.1017350500247745, 'mcc': 0.40908831101299425, 'train_loss': 1.9919611950631904}\n",
      "Epoch 2/20\n"
     ]
    },
    {
     "name": "stderr",
     "output_type": "stream",
     "text": [
      "100%|██████████| 476/476 [03:34<00:00,  2.22it/s]\n"
     ]
    },
    {
     "name": "stdout",
     "output_type": "stream",
     "text": [
      "{'val_loss': 1.4195264544127122, 'val_accuracy': 0.6359338061465721, 'precision': 0.5224377144639363, 'recall': 0.6359338061465721, 'f1-score': 0.5599392052448467, 'macro_f1-score': 0.16176433215924554, 'balanced_accuracy': 0.17082382153167114, 'mcc': 0.491903034385766, 'train_loss': 1.4634254830224174}\n",
      "Epoch 3/20\n"
     ]
    },
    {
     "name": "stderr",
     "output_type": "stream",
     "text": [
      "100%|██████████| 476/476 [03:34<00:00,  2.22it/s]\n"
     ]
    },
    {
     "name": "stdout",
     "output_type": "stream",
     "text": [
      "{'val_loss': 1.3519918300070852, 'val_accuracy': 0.6666666666666666, 'precision': 0.5859466676295806, 'recall': 0.6666666666666666, 'f1-score': 0.6093378888923969, 'macro_f1-score': 0.2548467152294532, 'balanced_accuracy': 0.2522997595119411, 'mcc': 0.5371507233731249, 'train_loss': 1.1684341919021446}\n",
      "Epoch 4/20\n"
     ]
    },
    {
     "name": "stderr",
     "output_type": "stream",
     "text": [
      "100%|██████████| 476/476 [03:34<00:00,  2.21it/s]\n"
     ]
    },
    {
     "name": "stdout",
     "output_type": "stream",
     "text": [
      "{'val_loss': 1.3101335696454317, 'val_accuracy': 0.6761229314420804, 'precision': 0.6284559638863356, 'recall': 0.6761229314420804, 'f1-score': 0.6420562679921932, 'macro_f1-score': 0.2892384984220879, 'balanced_accuracy': 0.29819673050721396, 'mcc': 0.5618830843984007, 'train_loss': 0.9506429882422716}\n",
      "Epoch 5/20\n"
     ]
    },
    {
     "name": "stderr",
     "output_type": "stream",
     "text": [
      "100%|██████████| 476/476 [03:34<00:00,  2.22it/s]\n"
     ]
    },
    {
     "name": "stdout",
     "output_type": "stream",
     "text": [
      "{'val_loss': 1.351792482272634, 'val_accuracy': 0.6725768321513003, 'precision': 0.6396276863176168, 'recall': 0.6725768321513003, 'f1-score': 0.6429291779206253, 'macro_f1-score': 0.32384097035418224, 'balanced_accuracy': 0.3254960464591724, 'mcc': 0.5622557407533013, 'train_loss': 0.7626684440158996}\n",
      "Epoch 6/20\n"
     ]
    },
    {
     "name": "stderr",
     "output_type": "stream",
     "text": [
      "100%|██████████| 476/476 [03:34<00:00,  2.22it/s]\n"
     ]
    },
    {
     "name": "stdout",
     "output_type": "stream",
     "text": [
      "{'val_loss': 1.4106314148543015, 'val_accuracy': 0.66548463356974, 'precision': 0.6483174503723216, 'recall': 0.66548463356974, 'f1-score': 0.6443980612099593, 'macro_f1-score': 0.3464993204683387, 'balanced_accuracy': 0.3596113145831045, 'mcc': 0.5564627178932351, 'train_loss': 0.6283713415765962}\n",
      "Epoch 7/20\n"
     ]
    },
    {
     "name": "stderr",
     "output_type": "stream",
     "text": [
      "100%|██████████| 476/476 [03:34<00:00,  2.22it/s]\n"
     ]
    },
    {
     "name": "stdout",
     "output_type": "stream",
     "text": [
      "{'val_loss': 1.440725140414148, 'val_accuracy': 0.6773049645390071, 'precision': 0.6504317369566839, 'recall': 0.6773049645390071, 'f1-score': 0.6520766874569234, 'macro_f1-score': 0.34694112302995866, 'balanced_accuracy': 0.337303771684139, 'mcc': 0.5673856499631178, 'train_loss': 0.5313306950979686}\n",
      "Epoch 8/20\n"
     ]
    },
    {
     "name": "stderr",
     "output_type": "stream",
     "text": [
      "100%|██████████| 476/476 [03:34<00:00,  2.22it/s]\n"
     ]
    },
    {
     "name": "stdout",
     "output_type": "stream",
     "text": [
      "{'val_loss': 1.43398945792666, 'val_accuracy': 0.6808510638297872, 'precision': 0.6700283362754182, 'recall': 0.6808510638297872, 'f1-score': 0.6643761839296778, 'macro_f1-score': 0.4044715825826834, 'balanced_accuracy': 0.4093254753929334, 'mcc': 0.5782786871308648, 'train_loss': 0.4412517009670807}\n",
      "Epoch 9/20\n"
     ]
    },
    {
     "name": "stderr",
     "output_type": "stream",
     "text": [
      "100%|██████████| 476/476 [03:34<00:00,  2.22it/s]\n"
     ]
    },
    {
     "name": "stdout",
     "output_type": "stream",
     "text": [
      "{'val_loss': 1.623344192527375, 'val_accuracy': 0.6749408983451537, 'precision': 0.6728694709088078, 'recall': 0.6749408983451537, 'f1-score': 0.6667475006782174, 'macro_f1-score': 0.3826997750433844, 'balanced_accuracy': 0.3989391522876707, 'mcc': 0.5697549044344391, 'train_loss': 0.3799972581802359}\n",
      "Epoch 10/20\n"
     ]
    },
    {
     "name": "stderr",
     "output_type": "stream",
     "text": [
      "100%|██████████| 476/476 [03:34<00:00,  2.22it/s]\n"
     ]
    },
    {
     "name": "stdout",
     "output_type": "stream",
     "text": [
      "{'val_loss': 1.5933306048501212, 'val_accuracy': 0.6855791962174941, 'precision': 0.687902362860644, 'recall': 0.6855791962174941, 'f1-score': 0.6797947077025839, 'macro_f1-score': 0.4279985658915102, 'balanced_accuracy': 0.4302679835345924, 'mcc': 0.5859492889324948, 'train_loss': 0.35065758603765873}\n",
      "Epoch 11/20\n"
     ]
    },
    {
     "name": "stderr",
     "output_type": "stream",
     "text": [
      "100%|██████████| 476/476 [03:34<00:00,  2.22it/s]\n"
     ]
    },
    {
     "name": "stdout",
     "output_type": "stream",
     "text": [
      "{'val_loss': 1.6021001783182036, 'val_accuracy': 0.6926713947990544, 'precision': 0.6782105796400342, 'recall': 0.6926713947990544, 'f1-score': 0.6708675269852299, 'macro_f1-score': 0.4150290697487949, 'balanced_accuracy': 0.4006763877817247, 'mcc': 0.5869525868050799, 'train_loss': 0.3102089534141906}\n",
      "Epoch 12/20\n"
     ]
    },
    {
     "name": "stderr",
     "output_type": "stream",
     "text": [
      "100%|██████████| 476/476 [03:34<00:00,  2.22it/s]\n"
     ]
    },
    {
     "name": "stdout",
     "output_type": "stream",
     "text": [
      "{'val_loss': 1.6089149367696833, 'val_accuracy': 0.6867612293144209, 'precision': 0.6768410690939118, 'recall': 0.6867612293144209, 'f1-score': 0.6699553755798329, 'macro_f1-score': 0.38772716334171853, 'balanced_accuracy': 0.3903882909212315, 'mcc': 0.5815657340200101, 'train_loss': 0.2741071833160651}\n",
      "Epoch 13/20\n"
     ]
    },
    {
     "name": "stderr",
     "output_type": "stream",
     "text": [
      "100%|██████████| 476/476 [03:34<00:00,  2.22it/s]\n"
     ]
    },
    {
     "name": "stdout",
     "output_type": "stream",
     "text": [
      "{'val_loss': 1.804287648425912, 'val_accuracy': 0.6855791962174941, 'precision': 0.6656901100262587, 'recall': 0.6855791962174941, 'f1-score': 0.6573054600074162, 'macro_f1-score': 0.38621148290698604, 'balanced_accuracy': 0.35773494636440406, 'mcc': 0.5707389146293743, 'train_loss': 0.2664236769475387}\n",
      "Early stopping.\n",
      "\n",
      "[Fold 4]\n",
      "model is bert-base-uncased bilstm\n",
      "Epoch 1/20\n"
     ]
    },
    {
     "name": "stderr",
     "output_type": "stream",
     "text": [
      "100%|██████████| 476/476 [03:34<00:00,  2.22it/s]\n"
     ]
    },
    {
     "name": "stdout",
     "output_type": "stream",
     "text": [
      "{'val_loss': 1.7353694056564908, 'val_accuracy': 0.5839243498817966, 'precision': 0.3805110432095661, 'recall': 0.5839243498817966, 'f1-score': 0.4558097114951327, 'macro_f1-score': 0.05799093606052485, 'balanced_accuracy': 0.07447020585644741, 'mcc': 0.38941462577711944, 'train_loss': 2.0221053308048167}\n",
      "Epoch 2/20\n"
     ]
    },
    {
     "name": "stderr",
     "output_type": "stream",
     "text": [
      "100%|██████████| 476/476 [03:34<00:00,  2.22it/s]\n"
     ]
    },
    {
     "name": "stdout",
     "output_type": "stream",
     "text": [
      "{'val_loss': 1.529552310142877, 'val_accuracy': 0.6028368794326241, 'precision': 0.5272388901163623, 'recall': 0.6028368794326241, 'f1-score': 0.5424102479537829, 'macro_f1-score': 0.14456688195671247, 'balanced_accuracy': 0.15957108029535685, 'mcc': 0.4518355241837066, 'train_loss': 1.503124887577626}\n",
      "Epoch 3/20\n"
     ]
    },
    {
     "name": "stderr",
     "output_type": "stream",
     "text": [
      "100%|██████████| 476/476 [03:34<00:00,  2.22it/s]\n"
     ]
    },
    {
     "name": "stdout",
     "output_type": "stream",
     "text": [
      "{'val_loss': 1.3460506538175188, 'val_accuracy': 0.6536643026004728, 'precision': 0.6009586093449655, 'recall': 0.6536643026004728, 'f1-score': 0.6149622426010436, 'macro_f1-score': 0.24634383185335332, 'balanced_accuracy': 0.24905521253039878, 'mcc': 0.5310991687043471, 'train_loss': 1.2172582006754995}\n",
      "Epoch 4/20\n"
     ]
    },
    {
     "name": "stderr",
     "output_type": "stream",
     "text": [
      "100%|██████████| 476/476 [03:34<00:00,  2.22it/s]\n"
     ]
    },
    {
     "name": "stdout",
     "output_type": "stream",
     "text": [
      "{'val_loss': 1.3557604000253498, 'val_accuracy': 0.6572104018912529, 'precision': 0.6059173070716327, 'recall': 0.6572104018912529, 'f1-score': 0.6127158700907049, 'macro_f1-score': 0.2469399023562895, 'balanced_accuracy': 0.24238826911166192, 'mcc': 0.530582685010146, 'train_loss': 0.9938425435175916}\n",
      "Epoch 5/20\n"
     ]
    },
    {
     "name": "stderr",
     "output_type": "stream",
     "text": [
      "100%|██████████| 476/476 [03:34<00:00,  2.22it/s]\n"
     ]
    },
    {
     "name": "stdout",
     "output_type": "stream",
     "text": [
      "{'val_loss': 1.372292644572708, 'val_accuracy': 0.6678486997635934, 'precision': 0.6366170614304142, 'recall': 0.6678486997635934, 'f1-score': 0.6378825368291771, 'macro_f1-score': 0.2905269234125353, 'balanced_accuracy': 0.2922983802985363, 'mcc': 0.5508103973670082, 'train_loss': 0.7880033142238605}\n",
      "Epoch 6/20\n"
     ]
    },
    {
     "name": "stderr",
     "output_type": "stream",
     "text": [
      "100%|██████████| 476/476 [03:34<00:00,  2.22it/s]\n"
     ]
    },
    {
     "name": "stdout",
     "output_type": "stream",
     "text": [
      "{'val_loss': 1.369520199748705, 'val_accuracy': 0.6773049645390071, 'precision': 0.6597116469863349, 'recall': 0.6773049645390071, 'f1-score': 0.656446526202014, 'macro_f1-score': 0.32915570501374797, 'balanced_accuracy': 0.32942714943078827, 'mcc': 0.5679671477067813, 'train_loss': 0.6656991751754985}\n",
      "Epoch 7/20\n"
     ]
    },
    {
     "name": "stderr",
     "output_type": "stream",
     "text": [
      "100%|██████████| 476/476 [03:34<00:00,  2.22it/s]\n"
     ]
    },
    {
     "name": "stdout",
     "output_type": "stream",
     "text": [
      "{'val_loss': 1.4752777961065184, 'val_accuracy': 0.6583924349881797, 'precision': 0.6533039938693553, 'recall': 0.6583924349881797, 'f1-score': 0.643782151598742, 'macro_f1-score': 0.3274719254444889, 'balanced_accuracy': 0.343423419819365, 'mcc': 0.5494711186915375, 'train_loss': 0.5502765058312847}\n",
      "Epoch 8/20\n"
     ]
    },
    {
     "name": "stderr",
     "output_type": "stream",
     "text": [
      "100%|██████████| 476/476 [03:34<00:00,  2.22it/s]\n"
     ]
    },
    {
     "name": "stdout",
     "output_type": "stream",
     "text": [
      "{'val_loss': 1.5399826185883216, 'val_accuracy': 0.6453900709219859, 'precision': 0.647971505295752, 'recall': 0.6453900709219859, 'f1-score': 0.6361772006106582, 'macro_f1-score': 0.3392783088804425, 'balanced_accuracy': 0.3456338458918774, 'mcc': 0.5319753658316854, 'train_loss': 0.45545091370058033}\n",
      "Epoch 9/20\n"
     ]
    },
    {
     "name": "stderr",
     "output_type": "stream",
     "text": [
      "100%|██████████| 476/476 [03:34<00:00,  2.22it/s]\n"
     ]
    },
    {
     "name": "stdout",
     "output_type": "stream",
     "text": [
      "{'val_loss': 1.4989744329227592, 'val_accuracy': 0.6808510638297872, 'precision': 0.654747814498251, 'recall': 0.6808510638297872, 'f1-score': 0.6597847807339247, 'macro_f1-score': 0.35872122193349704, 'balanced_accuracy': 0.358261022354299, 'mcc': 0.5712567358987061, 'train_loss': 0.4037761440492791}\n",
      "Epoch 10/20\n"
     ]
    },
    {
     "name": "stderr",
     "output_type": "stream",
     "text": [
      "100%|██████████| 476/476 [03:34<00:00,  2.22it/s]\n"
     ]
    },
    {
     "name": "stdout",
     "output_type": "stream",
     "text": [
      "{'val_loss': 1.574802354821619, 'val_accuracy': 0.6631205673758865, 'precision': 0.6587595929140596, 'recall': 0.6631205673758865, 'f1-score': 0.6506299143115637, 'macro_f1-score': 0.36015197514853303, 'balanced_accuracy': 0.37886675952130816, 'mcc': 0.555396290045652, 'train_loss': 0.3576350330156}\n",
      "Epoch 11/20\n"
     ]
    },
    {
     "name": "stderr",
     "output_type": "stream",
     "text": [
      "100%|██████████| 476/476 [03:34<00:00,  2.22it/s]\n"
     ]
    },
    {
     "name": "stdout",
     "output_type": "stream",
     "text": [
      "{'val_loss': 1.4995325162725628, 'val_accuracy': 0.6536643026004728, 'precision': 0.6393611755859842, 'recall': 0.6536643026004728, 'f1-score': 0.6310489422097029, 'macro_f1-score': 0.35230242465420303, 'balanced_accuracy': 0.35355456175738614, 'mcc': 0.5361581468945036, 'train_loss': 0.3326266873001802}\n",
      "Epoch 12/20\n"
     ]
    },
    {
     "name": "stderr",
     "output_type": "stream",
     "text": [
      "100%|██████████| 476/476 [03:34<00:00,  2.22it/s]\n"
     ]
    },
    {
     "name": "stdout",
     "output_type": "stream",
     "text": [
      "{'val_loss': 1.509661098696151, 'val_accuracy': 0.6855791962174941, 'precision': 0.6923378606402641, 'recall': 0.6855791962174941, 'f1-score': 0.6738439126106189, 'macro_f1-score': 0.42073652703454684, 'balanced_accuracy': 0.43797542187303057, 'mcc': 0.5812416858712397, 'train_loss': 0.31596840725147296}\n",
      "Epoch 13/20\n"
     ]
    },
    {
     "name": "stderr",
     "output_type": "stream",
     "text": [
      "100%|██████████| 476/476 [03:34<00:00,  2.22it/s]\n"
     ]
    },
    {
     "name": "stdout",
     "output_type": "stream",
     "text": [
      "{'val_loss': 1.55094342973997, 'val_accuracy': 0.6832151300236406, 'precision': 0.682755969146288, 'recall': 0.6832151300236406, 'f1-score': 0.6734328144284842, 'macro_f1-score': 0.3919341858940154, 'balanced_accuracy': 0.40408442530534017, 'mcc': 0.5818544980307221, 'train_loss': 0.2699440167003757}\n",
      "Epoch 14/20\n"
     ]
    },
    {
     "name": "stderr",
     "output_type": "stream",
     "text": [
      "100%|██████████| 476/476 [03:34<00:00,  2.22it/s]\n"
     ]
    },
    {
     "name": "stdout",
     "output_type": "stream",
     "text": [
      "{'val_loss': 1.6177574581695053, 'val_accuracy': 0.6643026004728132, 'precision': 0.6878962353240041, 'recall': 0.6643026004728132, 'f1-score': 0.6585860675443447, 'macro_f1-score': 0.41808100164984047, 'balanced_accuracy': 0.4209593917432421, 'mcc': 0.5585696155409778, 'train_loss': 0.24264336585560264}\n",
      "Epoch 15/20\n"
     ]
    },
    {
     "name": "stderr",
     "output_type": "stream",
     "text": [
      "100%|██████████| 476/476 [03:34<00:00,  2.22it/s]\n"
     ]
    },
    {
     "name": "stdout",
     "output_type": "stream",
     "text": [
      "{'val_loss': 1.6396445800673287, 'val_accuracy': 0.6926713947990544, 'precision': 0.6820152271981621, 'recall': 0.6926713947990544, 'f1-score': 0.6769066214229512, 'macro_f1-score': 0.4219430245293729, 'balanced_accuracy': 0.4297268783373964, 'mcc': 0.5893045890066194, 'train_loss': 0.24932273207506275}\n",
      "Epoch 16/20\n"
     ]
    },
    {
     "name": "stderr",
     "output_type": "stream",
     "text": [
      "100%|██████████| 476/476 [03:34<00:00,  2.22it/s]\n"
     ]
    },
    {
     "name": "stdout",
     "output_type": "stream",
     "text": [
      "{'val_loss': 1.6803985423636887, 'val_accuracy': 0.6713947990543735, 'precision': 0.6612630543097998, 'recall': 0.6713947990543735, 'f1-score': 0.6471450780381065, 'macro_f1-score': 0.3843184639070573, 'balanced_accuracy': 0.3796486441281624, 'mcc': 0.5586306596642967, 'train_loss': 0.25193160369272244}\n",
      "Epoch 17/20\n"
     ]
    },
    {
     "name": "stderr",
     "output_type": "stream",
     "text": [
      "100%|██████████| 476/476 [03:34<00:00,  2.22it/s]\n"
     ]
    },
    {
     "name": "stdout",
     "output_type": "stream",
     "text": [
      "{'val_loss': 1.699913297059401, 'val_accuracy': 0.6666666666666666, 'precision': 0.6698657956920484, 'recall': 0.6666666666666666, 'f1-score': 0.6569066702358642, 'macro_f1-score': 0.3877349938892683, 'balanced_accuracy': 0.4119695303887471, 'mcc': 0.5623235356475624, 'train_loss': 0.2299448414206771}\n",
      "Epoch 18/20\n"
     ]
    },
    {
     "name": "stderr",
     "output_type": "stream",
     "text": [
      "100%|██████████| 476/476 [03:34<00:00,  2.22it/s]\n"
     ]
    },
    {
     "name": "stdout",
     "output_type": "stream",
     "text": [
      "{'val_loss': 1.824291543578202, 'val_accuracy': 0.6737588652482269, 'precision': 0.679821473197968, 'recall': 0.6737588652482269, 'f1-score': 0.6628444057836942, 'macro_f1-score': 0.39415201544440054, 'balanced_accuracy': 0.4157100913353382, 'mcc': 0.5712368383940488, 'train_loss': 0.21440968517421455}\n",
      "Early stopping.\n",
      "\n",
      "[Fold 5]\n",
      "model is bert-base-uncased bilstm\n",
      "Epoch 1/20\n"
     ]
    },
    {
     "name": "stderr",
     "output_type": "stream",
     "text": [
      "100%|██████████| 476/476 [03:34<00:00,  2.22it/s]\n"
     ]
    },
    {
     "name": "stdout",
     "output_type": "stream",
     "text": [
      "{'val_loss': 1.7133212224492487, 'val_accuracy': 0.5976331360946746, 'precision': 0.3873080426456703, 'recall': 0.5976331360946746, 'f1-score': 0.4687544336598735, 'macro_f1-score': 0.07718792252560276, 'balanced_accuracy': 0.09571606221740853, 'mcc': 0.4143310906915977, 'train_loss': 2.0283730408223737}\n",
      "Epoch 2/20\n"
     ]
    },
    {
     "name": "stderr",
     "output_type": "stream",
     "text": [
      "100%|██████████| 476/476 [03:34<00:00,  2.22it/s]\n"
     ]
    },
    {
     "name": "stdout",
     "output_type": "stream",
     "text": [
      "{'val_loss': 1.5209320536199606, 'val_accuracy': 0.6236686390532544, 'precision': 0.51501221001221, 'recall': 0.6236686390532544, 'f1-score': 0.5479361262271534, 'macro_f1-score': 0.16010863204615988, 'balanced_accuracy': 0.16824864366647568, 'mcc': 0.47540045732623226, 'train_loss': 1.5207005720429059}\n",
      "Epoch 3/20\n"
     ]
    },
    {
     "name": "stderr",
     "output_type": "stream",
     "text": [
      "100%|██████████| 476/476 [03:35<00:00,  2.21it/s]\n"
     ]
    },
    {
     "name": "stdout",
     "output_type": "stream",
     "text": [
      "{'val_loss': 1.343419131243004, 'val_accuracy': 0.6331360946745562, 'precision': 0.5433506483062863, 'recall': 0.6331360946745562, 'f1-score': 0.572242678602203, 'macro_f1-score': 0.18658243717431183, 'balanced_accuracy': 0.19275723851837578, 'mcc': 0.49379467701541563, 'train_loss': 1.268538397462929}\n",
      "Epoch 4/20\n"
     ]
    },
    {
     "name": "stderr",
     "output_type": "stream",
     "text": [
      "100%|██████████| 476/476 [03:34<00:00,  2.22it/s]\n"
     ]
    },
    {
     "name": "stdout",
     "output_type": "stream",
     "text": [
      "{'val_loss': 1.3438369609274954, 'val_accuracy': 0.6674556213017752, 'precision': 0.6344198738771392, 'recall': 0.6674556213017752, 'f1-score': 0.6279571793366759, 'macro_f1-score': 0.26980089511766214, 'balanced_accuracy': 0.274045115914459, 'mcc': 0.5557944574722231, 'train_loss': 1.037946228532731}\n",
      "Epoch 5/20\n"
     ]
    },
    {
     "name": "stderr",
     "output_type": "stream",
     "text": [
      "100%|██████████| 476/476 [03:34<00:00,  2.21it/s]\n"
     ]
    },
    {
     "name": "stdout",
     "output_type": "stream",
     "text": [
      "{'val_loss': 1.3214581333241373, 'val_accuracy': 0.6686390532544378, 'precision': 0.6162244851562309, 'recall': 0.6686390532544378, 'f1-score': 0.6281903238078276, 'macro_f1-score': 0.2814042662535777, 'balanced_accuracy': 0.2751709978793573, 'mcc': 0.5476685096587431, 'train_loss': 0.845015149923558}\n",
      "Epoch 6/20\n"
     ]
    },
    {
     "name": "stderr",
     "output_type": "stream",
     "text": [
      "100%|██████████| 476/476 [03:34<00:00,  2.22it/s]\n"
     ]
    },
    {
     "name": "stdout",
     "output_type": "stream",
     "text": [
      "{'val_loss': 1.3883274551832452, 'val_accuracy': 0.6461538461538462, 'precision': 0.6506314129595421, 'recall': 0.6461538461538462, 'f1-score': 0.6322984722392831, 'macro_f1-score': 0.3188740118356976, 'balanced_accuracy': 0.3279518236979473, 'mcc': 0.5407033000540145, 'train_loss': 0.6686740456415075}\n",
      "Epoch 7/20\n"
     ]
    },
    {
     "name": "stderr",
     "output_type": "stream",
     "text": [
      "100%|██████████| 476/476 [03:34<00:00,  2.22it/s]\n"
     ]
    },
    {
     "name": "stdout",
     "output_type": "stream",
     "text": [
      "{'val_loss': 1.3991855135503806, 'val_accuracy': 0.6698224852071006, 'precision': 0.6205462077908461, 'recall': 0.6698224852071006, 'f1-score': 0.6299456554278619, 'macro_f1-score': 0.2876315226678998, 'balanced_accuracy': 0.2876940030648315, 'mcc': 0.5494587065358183, 'train_loss': 0.5755417706100505}\n",
      "Epoch 8/20\n"
     ]
    },
    {
     "name": "stderr",
     "output_type": "stream",
     "text": [
      "100%|██████████| 476/476 [03:34<00:00,  2.22it/s]\n"
     ]
    },
    {
     "name": "stdout",
     "output_type": "stream",
     "text": [
      "{'val_loss': 1.6955604221460954, 'val_accuracy': 0.6662721893491125, 'precision': 0.6426718769918602, 'recall': 0.6662721893491125, 'f1-score': 0.6195598504901012, 'macro_f1-score': 0.30451243245858073, 'balanced_accuracy': 0.28256767426408885, 'mcc': 0.5374627318646303, 'train_loss': 0.5053633152068976}\n",
      "Epoch 9/20\n"
     ]
    },
    {
     "name": "stderr",
     "output_type": "stream",
     "text": [
      "100%|██████████| 476/476 [03:35<00:00,  2.21it/s]\n"
     ]
    },
    {
     "name": "stdout",
     "output_type": "stream",
     "text": [
      "{'val_loss': 1.4319489170920174, 'val_accuracy': 0.6757396449704142, 'precision': 0.6508459467284762, 'recall': 0.6757396449704142, 'f1-score': 0.6493224625488118, 'macro_f1-score': 0.32532192754965394, 'balanced_accuracy': 0.3283716351096178, 'mcc': 0.565539206167354, 'train_loss': 0.4175877368249813}\n",
      "Epoch 10/20\n"
     ]
    },
    {
     "name": "stderr",
     "output_type": "stream",
     "text": [
      "100%|██████████| 476/476 [03:34<00:00,  2.22it/s]\n"
     ]
    },
    {
     "name": "stdout",
     "output_type": "stream",
     "text": [
      "{'val_loss': 1.5350008989280124, 'val_accuracy': 0.659171597633136, 'precision': 0.6811549128996298, 'recall': 0.659171597633136, 'f1-score': 0.6488694883974249, 'macro_f1-score': 0.3571024486929724, 'balanced_accuracy': 0.38001324906681005, 'mcc': 0.5562582197776156, 'train_loss': 0.34891421597513583}\n",
      "Epoch 11/20\n"
     ]
    },
    {
     "name": "stderr",
     "output_type": "stream",
     "text": [
      "100%|██████████| 476/476 [03:34<00:00,  2.21it/s]\n"
     ]
    },
    {
     "name": "stdout",
     "output_type": "stream",
     "text": [
      "{'val_loss': 1.5855991756016354, 'val_accuracy': 0.663905325443787, 'precision': 0.6644190469175532, 'recall': 0.663905325443787, 'f1-score': 0.6445097951780525, 'macro_f1-score': 0.3640361037352726, 'balanced_accuracy': 0.36155045123021506, 'mcc': 0.5548134485754983, 'train_loss': 0.30613541405475814}\n",
      "Epoch 12/20\n"
     ]
    },
    {
     "name": "stderr",
     "output_type": "stream",
     "text": [
      "100%|██████████| 476/476 [03:34<00:00,  2.22it/s]\n"
     ]
    },
    {
     "name": "stdout",
     "output_type": "stream",
     "text": [
      "{'val_loss': 1.5416764099642914, 'val_accuracy': 0.6733727810650888, 'precision': 0.6758725467992062, 'recall': 0.6733727810650888, 'f1-score': 0.656020659183335, 'macro_f1-score': 0.3582054132805124, 'balanced_accuracy': 0.3727626617473239, 'mcc': 0.5645380146727104, 'train_loss': 0.32745382052987126}\n",
      "Epoch 13/20\n"
     ]
    },
    {
     "name": "stderr",
     "output_type": "stream",
     "text": [
      "100%|██████████| 476/476 [03:34<00:00,  2.22it/s]\n"
     ]
    },
    {
     "name": "stdout",
     "output_type": "stream",
     "text": [
      "{'val_loss': 1.6306543249004293, 'val_accuracy': 0.6615384615384615, 'precision': 0.662293522073305, 'recall': 0.6615384615384615, 'f1-score': 0.643656407019053, 'macro_f1-score': 0.3638354117269683, 'balanced_accuracy': 0.3840575811430451, 'mcc': 0.551161671682023, 'train_loss': 0.2614732841127591}\n",
      "Epoch 14/20\n"
     ]
    },
    {
     "name": "stderr",
     "output_type": "stream",
     "text": [
      "100%|██████████| 476/476 [03:34<00:00,  2.22it/s]\n"
     ]
    },
    {
     "name": "stdout",
     "output_type": "stream",
     "text": [
      "{'val_loss': 1.60214124423153, 'val_accuracy': 0.663905325443787, 'precision': 0.6725304062789882, 'recall': 0.663905325443787, 'f1-score': 0.6513430061712341, 'macro_f1-score': 0.3620453498399836, 'balanced_accuracy': 0.3736843603121481, 'mcc': 0.5589800754662214, 'train_loss': 0.23717720974080203}\n",
      "Early stopping.\n",
      "\n",
      "[Fold 6]\n",
      "model is bert-base-uncased bilstm\n",
      "Epoch 1/20\n"
     ]
    },
    {
     "name": "stderr",
     "output_type": "stream",
     "text": [
      "100%|██████████| 476/476 [03:35<00:00,  2.21it/s]\n"
     ]
    },
    {
     "name": "stdout",
     "output_type": "stream",
     "text": [
      "{'val_loss': 1.6615765471503419, 'val_accuracy': 0.578698224852071, 'precision': 0.3992192509988367, 'recall': 0.578698224852071, 'f1-score': 0.47033917835353245, 'macro_f1-score': 0.07795894177091077, 'balanced_accuracy': 0.09816073498716368, 'mcc': 0.3904180273257137, 'train_loss': 2.0121684147655463}\n",
      "Epoch 2/20\n"
     ]
    },
    {
     "name": "stderr",
     "output_type": "stream",
     "text": [
      "100%|██████████| 476/476 [03:36<00:00,  2.20it/s]\n"
     ]
    },
    {
     "name": "stdout",
     "output_type": "stream",
     "text": [
      "{'val_loss': 1.4157493058240638, 'val_accuracy': 0.6295857988165681, 'precision': 0.5221901354746583, 'recall': 0.6295857988165681, 'f1-score': 0.552575857636303, 'macro_f1-score': 0.1481676142991816, 'balanced_accuracy': 0.15958919077841988, 'mcc': 0.4851466001695615, 'train_loss': 1.5033770684434586}\n",
      "Epoch 3/20\n"
     ]
    },
    {
     "name": "stderr",
     "output_type": "stream",
     "text": [
      "100%|██████████| 476/476 [03:36<00:00,  2.20it/s]\n"
     ]
    },
    {
     "name": "stdout",
     "output_type": "stream",
     "text": [
      "{'val_loss': 1.2960804937020787, 'val_accuracy': 0.6473372781065089, 'precision': 0.6165403640542584, 'recall': 0.6473372781065089, 'f1-score': 0.6168399629444812, 'macro_f1-score': 0.22372587662446275, 'balanced_accuracy': 0.23831825743391527, 'mcc': 0.5317707826642658, 'train_loss': 1.1976567144904817}\n",
      "Epoch 4/20\n"
     ]
    },
    {
     "name": "stderr",
     "output_type": "stream",
     "text": [
      "100%|██████████| 476/476 [03:38<00:00,  2.17it/s]\n"
     ]
    },
    {
     "name": "stdout",
     "output_type": "stream",
     "text": [
      "{'val_loss': 1.2353184701136823, 'val_accuracy': 0.6686390532544378, 'precision': 0.6333312492725449, 'recall': 0.6686390532544378, 'f1-score': 0.6441823032886026, 'macro_f1-score': 0.2787654537890244, 'balanced_accuracy': 0.28298052301592785, 'mcc': 0.559317599173053, 'train_loss': 0.9696249223055959}\n",
      "Epoch 5/20\n"
     ]
    },
    {
     "name": "stderr",
     "output_type": "stream",
     "text": [
      "100%|██████████| 476/476 [03:38<00:00,  2.18it/s]\n"
     ]
    },
    {
     "name": "stdout",
     "output_type": "stream",
     "text": [
      "{'val_loss': 1.2726570277843836, 'val_accuracy': 0.676923076923077, 'precision': 0.6317184234605734, 'recall': 0.676923076923077, 'f1-score': 0.6414085910796079, 'macro_f1-score': 0.2667001288536227, 'balanced_accuracy': 0.26165387408764185, 'mcc': 0.5600488586063159, 'train_loss': 0.7861362310016856}\n",
      "Epoch 6/20\n"
     ]
    },
    {
     "name": "stderr",
     "output_type": "stream",
     "text": [
      "100%|██████████| 476/476 [03:39<00:00,  2.17it/s]\n"
     ]
    },
    {
     "name": "stdout",
     "output_type": "stream",
     "text": [
      "{'val_loss': 1.3472689575744126, 'val_accuracy': 0.6745562130177515, 'precision': 0.6295634402225031, 'recall': 0.6745562130177515, 'f1-score': 0.6404732383579347, 'macro_f1-score': 0.291006768077028, 'balanced_accuracy': 0.2831428849343678, 'mcc': 0.5595395064233049, 'train_loss': 0.6359656206449541}\n",
      "Epoch 7/20\n"
     ]
    },
    {
     "name": "stderr",
     "output_type": "stream",
     "text": [
      "100%|██████████| 476/476 [03:38<00:00,  2.18it/s]\n"
     ]
    },
    {
     "name": "stdout",
     "output_type": "stream",
     "text": [
      "{'val_loss': 1.3293992820775733, 'val_accuracy': 0.6816568047337278, 'precision': 0.672322758647703, 'recall': 0.6816568047337278, 'f1-score': 0.6627282650200655, 'macro_f1-score': 0.3100375338069602, 'balanced_accuracy': 0.3245614893358437, 'mcc': 0.5817634017412384, 'train_loss': 0.5278461658622787}\n",
      "Epoch 8/20\n"
     ]
    },
    {
     "name": "stderr",
     "output_type": "stream",
     "text": [
      "100%|██████████| 476/476 [03:35<00:00,  2.21it/s]\n"
     ]
    },
    {
     "name": "stdout",
     "output_type": "stream",
     "text": [
      "{'val_loss': 1.4629306647012819, 'val_accuracy': 0.6710059171597633, 'precision': 0.6624485960064653, 'recall': 0.6710059171597633, 'f1-score': 0.6462894547572541, 'macro_f1-score': 0.2977217470991216, 'balanced_accuracy': 0.30380684494918336, 'mcc': 0.5622044508772334, 'train_loss': 0.43358812987131357}\n",
      "Epoch 9/20\n"
     ]
    },
    {
     "name": "stderr",
     "output_type": "stream",
     "text": [
      "100%|██████████| 476/476 [03:34<00:00,  2.22it/s]\n"
     ]
    },
    {
     "name": "stdout",
     "output_type": "stream",
     "text": [
      "{'val_loss': 1.4061891695238509, 'val_accuracy': 0.6792899408284023, 'precision': 0.6608093052201631, 'recall': 0.6792899408284023, 'f1-score': 0.6602014788646957, 'macro_f1-score': 0.3086100001748085, 'balanced_accuracy': 0.31078333762469457, 'mcc': 0.5717728394533187, 'train_loss': 0.38662729283575625}\n",
      "Epoch 10/20\n"
     ]
    },
    {
     "name": "stderr",
     "output_type": "stream",
     "text": [
      "100%|██████████| 476/476 [03:35<00:00,  2.21it/s]\n"
     ]
    },
    {
     "name": "stdout",
     "output_type": "stream",
     "text": [
      "{'val_loss': 1.4805411089141414, 'val_accuracy': 0.6686390532544378, 'precision': 0.6583648411261465, 'recall': 0.6686390532544378, 'f1-score': 0.6492073545061053, 'macro_f1-score': 0.3146429928459443, 'balanced_accuracy': 0.3152634151782044, 'mcc': 0.5600657903645954, 'train_loss': 0.3349379440182585}\n",
      "Epoch 11/20\n"
     ]
    },
    {
     "name": "stderr",
     "output_type": "stream",
     "text": [
      "100%|██████████| 476/476 [03:35<00:00,  2.21it/s]\n"
     ]
    },
    {
     "name": "stdout",
     "output_type": "stream",
     "text": [
      "{'val_loss': 1.4774851281687897, 'val_accuracy': 0.6698224852071006, 'precision': 0.6766422211399543, 'recall': 0.6698224852071006, 'f1-score': 0.6549502389957689, 'macro_f1-score': 0.3302499449881747, 'balanced_accuracy': 0.33962438683561674, 'mcc': 0.5611383518933634, 'train_loss': 0.3185142881643935}\n",
      "Epoch 12/20\n"
     ]
    },
    {
     "name": "stderr",
     "output_type": "stream",
     "text": [
      "100%|██████████| 476/476 [03:35<00:00,  2.21it/s]\n"
     ]
    },
    {
     "name": "stdout",
     "output_type": "stream",
     "text": [
      "{'val_loss': 1.5001257815450992, 'val_accuracy': 0.6710059171597633, 'precision': 0.6883150906322403, 'recall': 0.6710059171597633, 'f1-score': 0.6611220972985984, 'macro_f1-score': 0.3683647257890729, 'balanced_accuracy': 0.40271471473212245, 'mcc': 0.569394397412606, 'train_loss': 0.28742836656424553}\n",
      "Epoch 13/20\n"
     ]
    },
    {
     "name": "stderr",
     "output_type": "stream",
     "text": [
      "100%|██████████| 476/476 [03:34<00:00,  2.22it/s]\n"
     ]
    },
    {
     "name": "stdout",
     "output_type": "stream",
     "text": [
      "{'val_loss': 1.571319673421248, 'val_accuracy': 0.6603550295857988, 'precision': 0.667566901651283, 'recall': 0.6603550295857988, 'f1-score': 0.6491716374700779, 'macro_f1-score': 0.3248614524638304, 'balanced_accuracy': 0.33260528061313627, 'mcc': 0.5493749916009271, 'train_loss': 0.2626992661785726}\n",
      "Epoch 14/20\n"
     ]
    },
    {
     "name": "stderr",
     "output_type": "stream",
     "text": [
      "100%|██████████| 476/476 [03:35<00:00,  2.21it/s]\n"
     ]
    },
    {
     "name": "stdout",
     "output_type": "stream",
     "text": [
      "{'val_loss': 1.5968240600711894, 'val_accuracy': 0.6437869822485207, 'precision': 0.6794829156838268, 'recall': 0.6437869822485207, 'f1-score': 0.6500234776512631, 'macro_f1-score': 0.34535421119403104, 'balanced_accuracy': 0.3783612334011919, 'mcc': 0.5508710338154693, 'train_loss': 0.24419197290274902}\n",
      "Epoch 15/20\n"
     ]
    },
    {
     "name": "stderr",
     "output_type": "stream",
     "text": [
      "100%|██████████| 476/476 [03:34<00:00,  2.22it/s]\n"
     ]
    },
    {
     "name": "stdout",
     "output_type": "stream",
     "text": [
      "{'val_loss': 1.5093302653645568, 'val_accuracy': 0.6792899408284023, 'precision': 0.6779389125626027, 'recall': 0.6792899408284023, 'f1-score': 0.6597220990353593, 'macro_f1-score': 0.36418860988105484, 'balanced_accuracy': 0.3583037552379267, 'mcc': 0.5731656915294483, 'train_loss': 0.24327578101436287}\n",
      "Early stopping.\n",
      "\n",
      "[Fold 7]\n",
      "model is bert-base-uncased bilstm\n",
      "Epoch 1/20\n"
     ]
    },
    {
     "name": "stderr",
     "output_type": "stream",
     "text": [
      "100%|██████████| 476/476 [03:34<00:00,  2.22it/s]\n"
     ]
    },
    {
     "name": "stdout",
     "output_type": "stream",
     "text": [
      "{'val_loss': 1.6920299232006073, 'val_accuracy': 0.5621301775147929, 'precision': 0.40182642153004994, 'recall': 0.5621301775147929, 'f1-score': 0.4585971914703774, 'macro_f1-score': 0.06669301767015653, 'balanced_accuracy': 0.08417930166791672, 'mcc': 0.36277788011698425, 'train_loss': 2.0209908883611694}\n",
      "Epoch 2/20\n"
     ]
    },
    {
     "name": "stderr",
     "output_type": "stream",
     "text": [
      "100%|██████████| 476/476 [03:34<00:00,  2.22it/s]\n"
     ]
    },
    {
     "name": "stdout",
     "output_type": "stream",
     "text": [
      "{'val_loss': 1.4079103025625337, 'val_accuracy': 0.6284023668639053, 'precision': 0.5743478918935659, 'recall': 0.6284023668639053, 'f1-score': 0.5724105270810533, 'macro_f1-score': 0.1781976658036351, 'balanced_accuracy': 0.19809173183255147, 'mcc': 0.49054458670751633, 'train_loss': 1.506109585844669}\n",
      "Epoch 3/20\n"
     ]
    },
    {
     "name": "stderr",
     "output_type": "stream",
     "text": [
      "100%|██████████| 476/476 [03:34<00:00,  2.22it/s]\n"
     ]
    },
    {
     "name": "stdout",
     "output_type": "stream",
     "text": [
      "{'val_loss': 1.3067417251613904, 'val_accuracy': 0.6568047337278107, 'precision': 0.597264859883803, 'recall': 0.6568047337278107, 'f1-score': 0.6178505384691595, 'macro_f1-score': 0.26222778791743445, 'balanced_accuracy': 0.29270385306529656, 'mcc': 0.5453882437487613, 'train_loss': 1.2154436627355945}\n",
      "Epoch 4/20\n"
     ]
    },
    {
     "name": "stderr",
     "output_type": "stream",
     "text": [
      "100%|██████████| 476/476 [03:34<00:00,  2.22it/s]\n"
     ]
    },
    {
     "name": "stdout",
     "output_type": "stream",
     "text": [
      "{'val_loss': 1.3000316543961472, 'val_accuracy': 0.6698224852071006, 'precision': 0.6228719720791288, 'recall': 0.6698224852071006, 'f1-score': 0.6272035527534338, 'macro_f1-score': 0.26065401064354154, 'balanced_accuracy': 0.2697806371893045, 'mcc': 0.5478550567965015, 'train_loss': 0.9844635301778296}\n",
      "Epoch 5/20\n"
     ]
    },
    {
     "name": "stderr",
     "output_type": "stream",
     "text": [
      "100%|██████████| 476/476 [03:34<00:00,  2.22it/s]\n"
     ]
    },
    {
     "name": "stdout",
     "output_type": "stream",
     "text": [
      "{'val_loss': 1.381773610722344, 'val_accuracy': 0.6473372781065089, 'precision': 0.6266368372423483, 'recall': 0.6473372781065089, 'f1-score': 0.6191536951481711, 'macro_f1-score': 0.28879374734947655, 'balanced_accuracy': 0.3063097142836551, 'mcc': 0.5331445537599728, 'train_loss': 0.8016721416389992}\n",
      "Epoch 6/20\n"
     ]
    },
    {
     "name": "stderr",
     "output_type": "stream",
     "text": [
      "100%|██████████| 476/476 [03:34<00:00,  2.22it/s]\n"
     ]
    },
    {
     "name": "stdout",
     "output_type": "stream",
     "text": [
      "{'val_loss': 1.3261290889865947, 'val_accuracy': 0.6792899408284023, 'precision': 0.6571515399442388, 'recall': 0.6792899408284023, 'f1-score': 0.6586422644049736, 'macro_f1-score': 0.3205078167661584, 'balanced_accuracy': 0.32072074579391646, 'mcc': 0.574828513466865, 'train_loss': 0.6583927876683844}\n",
      "Epoch 7/20\n"
     ]
    },
    {
     "name": "stderr",
     "output_type": "stream",
     "text": [
      "100%|██████████| 476/476 [03:34<00:00,  2.22it/s]\n"
     ]
    },
    {
     "name": "stdout",
     "output_type": "stream",
     "text": [
      "{'val_loss': 1.2816119373969312, 'val_accuracy': 0.6911242603550296, 'precision': 0.6756327030298963, 'recall': 0.6911242603550296, 'f1-score': 0.6694767019361527, 'macro_f1-score': 0.3749364162467063, 'balanced_accuracy': 0.3721055743832082, 'mcc': 0.590555727341923, 'train_loss': 0.5462436425820494}\n",
      "Epoch 8/20\n"
     ]
    },
    {
     "name": "stderr",
     "output_type": "stream",
     "text": [
      "100%|██████████| 476/476 [03:34<00:00,  2.22it/s]\n"
     ]
    },
    {
     "name": "stdout",
     "output_type": "stream",
     "text": [
      "{'val_loss': 1.4173669235886268, 'val_accuracy': 0.6792899408284023, 'precision': 0.6501740570548659, 'recall': 0.6792899408284023, 'f1-score': 0.6554070349076225, 'macro_f1-score': 0.3457661511339496, 'balanced_accuracy': 0.3348136392896333, 'mcc': 0.568399588848962, 'train_loss': 0.4542257937508784}\n",
      "Epoch 9/20\n"
     ]
    },
    {
     "name": "stderr",
     "output_type": "stream",
     "text": [
      "100%|██████████| 476/476 [03:34<00:00,  2.22it/s]\n"
     ]
    },
    {
     "name": "stdout",
     "output_type": "stream",
     "text": [
      "{'val_loss': 1.4406843944540564, 'val_accuracy': 0.6863905325443787, 'precision': 0.6650058748227025, 'recall': 0.6863905325443787, 'f1-score': 0.6691831779142456, 'macro_f1-score': 0.3827391403670547, 'balanced_accuracy': 0.38663068666999123, 'mcc': 0.584098474667696, 'train_loss': 0.39270862312830923}\n",
      "Epoch 10/20\n"
     ]
    },
    {
     "name": "stderr",
     "output_type": "stream",
     "text": [
      "100%|██████████| 476/476 [03:34<00:00,  2.21it/s]\n"
     ]
    },
    {
     "name": "stdout",
     "output_type": "stream",
     "text": [
      "{'val_loss': 1.4311022007802747, 'val_accuracy': 0.6603550295857988, 'precision': 0.6755947620879709, 'recall': 0.6603550295857988, 'f1-score': 0.6554956890410814, 'macro_f1-score': 0.3704201772389033, 'balanced_accuracy': 0.3882954683349346, 'mcc': 0.5573005631126776, 'train_loss': 0.345062411456768}\n",
      "Epoch 11/20\n"
     ]
    },
    {
     "name": "stderr",
     "output_type": "stream",
     "text": [
      "100%|██████████| 476/476 [03:34<00:00,  2.22it/s]\n"
     ]
    },
    {
     "name": "stdout",
     "output_type": "stream",
     "text": [
      "{'val_loss': 1.513705796790573, 'val_accuracy': 0.6650887573964497, 'precision': 0.676876765489264, 'recall': 0.6650887573964497, 'f1-score': 0.6586352597001891, 'macro_f1-score': 0.3853013723310357, 'balanced_accuracy': 0.4119899939644839, 'mcc': 0.5668956623447258, 'train_loss': 0.310326697308758}\n",
      "Epoch 12/20\n"
     ]
    },
    {
     "name": "stderr",
     "output_type": "stream",
     "text": [
      "100%|██████████| 476/476 [03:34<00:00,  2.22it/s]\n"
     ]
    },
    {
     "name": "stdout",
     "output_type": "stream",
     "text": [
      "{'val_loss': 1.4489005342969354, 'val_accuracy': 0.6875739644970414, 'precision': 0.678586645203632, 'recall': 0.6875739644970414, 'f1-score': 0.6716209572792323, 'macro_f1-score': 0.4132771279195179, 'balanced_accuracy': 0.4209666270592079, 'mcc': 0.5900927728176787, 'train_loss': 0.28196535303899156}\n",
      "Epoch 13/20\n"
     ]
    },
    {
     "name": "stderr",
     "output_type": "stream",
     "text": [
      "100%|██████████| 476/476 [03:34<00:00,  2.22it/s]\n"
     ]
    },
    {
     "name": "stdout",
     "output_type": "stream",
     "text": [
      "{'val_loss': 1.6278701545494907, 'val_accuracy': 0.6603550295857988, 'precision': 0.617644321649924, 'recall': 0.6603550295857988, 'f1-score': 0.6295888107925002, 'macro_f1-score': 0.34235160696716954, 'balanced_accuracy': 0.34626780554745734, 'mcc': 0.5427417732954909, 'train_loss': 0.26982017135357156}\n",
      "Epoch 14/20\n"
     ]
    },
    {
     "name": "stderr",
     "output_type": "stream",
     "text": [
      "100%|██████████| 476/476 [03:34<00:00,  2.21it/s]\n"
     ]
    },
    {
     "name": "stdout",
     "output_type": "stream",
     "text": [
      "{'val_loss': 1.6544611892610226, 'val_accuracy': 0.6733727810650888, 'precision': 0.6625281445564137, 'recall': 0.6733727810650888, 'f1-score': 0.6531158849898456, 'macro_f1-score': 0.37297643036028844, 'balanced_accuracy': 0.3643833612817019, 'mcc': 0.5647302423575931, 'train_loss': 0.2485432941760054}\n",
      "Epoch 15/20\n"
     ]
    },
    {
     "name": "stderr",
     "output_type": "stream",
     "text": [
      "100%|██████████| 476/476 [03:34<00:00,  2.22it/s]\n"
     ]
    },
    {
     "name": "stdout",
     "output_type": "stream",
     "text": [
      "{'val_loss': 1.5409402217505113, 'val_accuracy': 0.6792899408284023, 'precision': 0.6852315193263276, 'recall': 0.6792899408284023, 'f1-score': 0.6762018524238476, 'macro_f1-score': 0.42573911969825073, 'balanced_accuracy': 0.4368371531587125, 'mcc': 0.5812392866358451, 'train_loss': 0.244693287677609}\n",
      "Epoch 16/20\n"
     ]
    },
    {
     "name": "stderr",
     "output_type": "stream",
     "text": [
      "100%|██████████| 476/476 [03:34<00:00,  2.22it/s]\n"
     ]
    },
    {
     "name": "stdout",
     "output_type": "stream",
     "text": [
      "{'val_loss': 1.6280837700052082, 'val_accuracy': 0.6627218934911243, 'precision': 0.6816991726026433, 'recall': 0.6627218934911243, 'f1-score': 0.6600131184637084, 'macro_f1-score': 0.40682678967923563, 'balanced_accuracy': 0.4051392159637569, 'mcc': 0.5593063282613345, 'train_loss': 0.2317260552917709}\n",
      "Epoch 17/20\n"
     ]
    },
    {
     "name": "stderr",
     "output_type": "stream",
     "text": [
      "100%|██████████| 476/476 [03:34<00:00,  2.22it/s]\n"
     ]
    },
    {
     "name": "stdout",
     "output_type": "stream",
     "text": [
      "{'val_loss': 1.6825952766076573, 'val_accuracy': 0.6899408284023668, 'precision': 0.6663379823095283, 'recall': 0.6899408284023668, 'f1-score': 0.6719092172076218, 'macro_f1-score': 0.3925361167226884, 'balanced_accuracy': 0.3880696494424552, 'mcc': 0.5857638037953123, 'train_loss': 0.22385338170673041}\n",
      "Epoch 18/20\n"
     ]
    },
    {
     "name": "stderr",
     "output_type": "stream",
     "text": [
      "100%|██████████| 476/476 [03:34<00:00,  2.22it/s]\n"
     ]
    },
    {
     "name": "stdout",
     "output_type": "stream",
     "text": [
      "{'val_loss': 1.6820098724005357, 'val_accuracy': 0.693491124260355, 'precision': 0.6724409080895613, 'recall': 0.693491124260355, 'f1-score': 0.675490665404382, 'macro_f1-score': 0.40093028640423983, 'balanced_accuracy': 0.3878027547729891, 'mcc': 0.5913960704765887, 'train_loss': 0.2098797288695898}\n",
      "Early stopping.\n",
      "\n",
      "[Fold 8]\n",
      "model is bert-base-uncased bilstm\n",
      "Epoch 1/20\n"
     ]
    },
    {
     "name": "stderr",
     "output_type": "stream",
     "text": [
      "100%|██████████| 476/476 [03:35<00:00,  2.21it/s]\n"
     ]
    },
    {
     "name": "stdout",
     "output_type": "stream",
     "text": [
      "{'val_loss': 1.646775560558967, 'val_accuracy': 0.6, 'precision': 0.4133270287668492, 'recall': 0.6, 'f1-score': 0.48506073649704995, 'macro_f1-score': 0.07671281531275062, 'balanced_accuracy': 0.10787210347196449, 'mcc': 0.43614282560577694, 'train_loss': 2.00093479717479}\n",
      "Epoch 2/20\n"
     ]
    },
    {
     "name": "stderr",
     "output_type": "stream",
     "text": [
      "100%|██████████| 476/476 [03:34<00:00,  2.22it/s]\n"
     ]
    },
    {
     "name": "stdout",
     "output_type": "stream",
     "text": [
      "{'val_loss': 1.4223081357074234, 'val_accuracy': 0.6414201183431952, 'precision': 0.5175115094688043, 'recall': 0.6414201183431952, 'f1-score': 0.5545363561107353, 'macro_f1-score': 0.15761308022397177, 'balanced_accuracy': 0.16081448925870379, 'mcc': 0.4951076530977458, 'train_loss': 1.4930590288478787}\n",
      "Epoch 3/20\n"
     ]
    },
    {
     "name": "stderr",
     "output_type": "stream",
     "text": [
      "100%|██████████| 476/476 [03:34<00:00,  2.22it/s]\n"
     ]
    },
    {
     "name": "stdout",
     "output_type": "stream",
     "text": [
      "{'val_loss': 1.3043644057129913, 'val_accuracy': 0.6532544378698225, 'precision': 0.6184284440527348, 'recall': 0.6532544378698225, 'f1-score': 0.6130591310858634, 'macro_f1-score': 0.24621330474793168, 'balanced_accuracy': 0.2456750720072416, 'mcc': 0.5279521207070103, 'train_loss': 1.2053351315881025}\n",
      "Epoch 4/20\n"
     ]
    },
    {
     "name": "stderr",
     "output_type": "stream",
     "text": [
      "100%|██████████| 476/476 [03:34<00:00,  2.22it/s]\n"
     ]
    },
    {
     "name": "stdout",
     "output_type": "stream",
     "text": [
      "{'val_loss': 1.264416662027251, 'val_accuracy': 0.663905325443787, 'precision': 0.618543906607567, 'recall': 0.663905325443787, 'f1-score': 0.619050748696526, 'macro_f1-score': 0.25909263553165335, 'balanced_accuracy': 0.2517536815001887, 'mcc': 0.5418232224578126, 'train_loss': 0.9590436182916164}\n",
      "Epoch 5/20\n"
     ]
    },
    {
     "name": "stderr",
     "output_type": "stream",
     "text": [
      "100%|██████████| 476/476 [03:34<00:00,  2.21it/s]\n"
     ]
    },
    {
     "name": "stdout",
     "output_type": "stream",
     "text": [
      "{'val_loss': 1.3001229566223216, 'val_accuracy': 0.6686390532544378, 'precision': 0.6515357437083676, 'recall': 0.6686390532544378, 'f1-score': 0.6446534550446753, 'macro_f1-score': 0.29461950115300656, 'balanced_accuracy': 0.3033110821102281, 'mcc': 0.5612761985132818, 'train_loss': 0.7674799700181524}\n",
      "Epoch 6/20\n"
     ]
    },
    {
     "name": "stderr",
     "output_type": "stream",
     "text": [
      "100%|██████████| 476/476 [03:34<00:00,  2.21it/s]\n"
     ]
    },
    {
     "name": "stdout",
     "output_type": "stream",
     "text": [
      "{'val_loss': 1.3018386504560147, 'val_accuracy': 0.6863905325443787, 'precision': 0.6795324168870607, 'recall': 0.6863905325443787, 'f1-score': 0.6581828192739527, 'macro_f1-score': 0.32252634159862437, 'balanced_accuracy': 0.32543283823499375, 'mcc': 0.5817375100737144, 'train_loss': 0.6466527774209986}\n",
      "Epoch 7/20\n"
     ]
    },
    {
     "name": "stderr",
     "output_type": "stream",
     "text": [
      "100%|██████████| 476/476 [03:34<00:00,  2.22it/s]\n"
     ]
    },
    {
     "name": "stdout",
     "output_type": "stream",
     "text": [
      "{'val_loss': 1.3982389687367205, 'val_accuracy': 0.672189349112426, 'precision': 0.6614127810801878, 'recall': 0.672189349112426, 'f1-score': 0.6534084479793643, 'macro_f1-score': 0.34661695076068805, 'balanced_accuracy': 0.3296865840840597, 'mcc': 0.5631399770207146, 'train_loss': 0.5174362554074022}\n",
      "Epoch 8/20\n"
     ]
    },
    {
     "name": "stderr",
     "output_type": "stream",
     "text": [
      "100%|██████████| 476/476 [03:34<00:00,  2.22it/s]\n"
     ]
    },
    {
     "name": "stdout",
     "output_type": "stream",
     "text": [
      "{'val_loss': 1.4216132585732442, 'val_accuracy': 0.6757396449704142, 'precision': 0.6849751609196443, 'recall': 0.6757396449704142, 'f1-score': 0.6639283663123585, 'macro_f1-score': 0.3908295128007097, 'balanced_accuracy': 0.3884580790102603, 'mcc': 0.577944924434772, 'train_loss': 0.4471074723474243}\n",
      "Epoch 9/20\n"
     ]
    },
    {
     "name": "stderr",
     "output_type": "stream",
     "text": [
      "100%|██████████| 476/476 [03:35<00:00,  2.21it/s]\n"
     ]
    },
    {
     "name": "stdout",
     "output_type": "stream",
     "text": [
      "{'val_loss': 1.3996770269465897, 'val_accuracy': 0.6863905325443787, 'precision': 0.6924411635742294, 'recall': 0.6863905325443787, 'f1-score': 0.6761660791839023, 'macro_f1-score': 0.41605858930430256, 'balanced_accuracy': 0.4191122412042018, 'mcc': 0.5902882719798647, 'train_loss': 0.3759654892193733}\n",
      "Epoch 10/20\n"
     ]
    },
    {
     "name": "stderr",
     "output_type": "stream",
     "text": [
      "100%|██████████| 476/476 [03:34<00:00,  2.22it/s]\n"
     ]
    },
    {
     "name": "stdout",
     "output_type": "stream",
     "text": [
      "{'val_loss': 1.419251339615516, 'val_accuracy': 0.6863905325443787, 'precision': 0.695296083325902, 'recall': 0.6863905325443787, 'f1-score': 0.6707138136142309, 'macro_f1-score': 0.395478692365738, 'balanced_accuracy': 0.4014655060297323, 'mcc': 0.5863887955899697, 'train_loss': 0.34485308187544156}\n",
      "Epoch 11/20\n"
     ]
    },
    {
     "name": "stderr",
     "output_type": "stream",
     "text": [
      "100%|██████████| 476/476 [03:34<00:00,  2.22it/s]\n"
     ]
    },
    {
     "name": "stdout",
     "output_type": "stream",
     "text": [
      "{'val_loss': 1.5151637843194998, 'val_accuracy': 0.6804733727810651, 'precision': 0.6912409694564985, 'recall': 0.6804733727810651, 'f1-score': 0.669236243896798, 'macro_f1-score': 0.3917534958891034, 'balanced_accuracy': 0.38479415076444196, 'mcc': 0.5818185555169832, 'train_loss': 0.31423846694852126}\n",
      "Epoch 12/20\n"
     ]
    },
    {
     "name": "stderr",
     "output_type": "stream",
     "text": [
      "100%|██████████| 476/476 [03:35<00:00,  2.21it/s]\n"
     ]
    },
    {
     "name": "stdout",
     "output_type": "stream",
     "text": [
      "{'val_loss': 1.569518098853669, 'val_accuracy': 0.6828402366863905, 'precision': 0.6646100138074685, 'recall': 0.6828402366863905, 'f1-score': 0.6426330071334907, 'macro_f1-score': 0.34910231497315175, 'balanced_accuracy': 0.328033585062812, 'mcc': 0.5662573931882801, 'train_loss': 0.29221000317914586}\n",
      "Early stopping.\n",
      "\n",
      "[Fold 9]\n",
      "model is bert-base-uncased bilstm\n",
      "Epoch 1/20\n"
     ]
    },
    {
     "name": "stderr",
     "output_type": "stream",
     "text": [
      "100%|██████████| 476/476 [03:34<00:00,  2.22it/s]\n"
     ]
    },
    {
     "name": "stdout",
     "output_type": "stream",
     "text": [
      "{'val_loss': 1.6660466295368266, 'val_accuracy': 0.5988165680473373, 'precision': 0.42782550662443586, 'recall': 0.5988165680473373, 'f1-score': 0.4931416785012416, 'macro_f1-score': 0.08991885266760297, 'balanced_accuracy': 0.10922087319969395, 'mcc': 0.42813993810999057, 'train_loss': 2.0010235240729917}\n",
      "Epoch 2/20\n"
     ]
    },
    {
     "name": "stderr",
     "output_type": "stream",
     "text": [
      "100%|██████████| 476/476 [03:34<00:00,  2.22it/s]\n"
     ]
    },
    {
     "name": "stdout",
     "output_type": "stream",
     "text": [
      "{'val_loss': 1.4385815678902392, 'val_accuracy': 0.6307692307692307, 'precision': 0.5612262633165748, 'recall': 0.6307692307692307, 'f1-score': 0.5702867677250899, 'macro_f1-score': 0.16255154034577177, 'balanced_accuracy': 0.18808590910451808, 'mcc': 0.505093062762832, 'train_loss': 1.4873988580177813}\n",
      "Epoch 3/20\n"
     ]
    },
    {
     "name": "stderr",
     "output_type": "stream",
     "text": [
      "100%|██████████| 476/476 [03:34<00:00,  2.22it/s]\n"
     ]
    },
    {
     "name": "stdout",
     "output_type": "stream",
     "text": [
      "{'val_loss': 1.4187072824757054, 'val_accuracy': 0.6568047337278107, 'precision': 0.5928508788691189, 'recall': 0.6568047337278107, 'f1-score': 0.6066759058687687, 'macro_f1-score': 0.22217982851360274, 'balanced_accuracy': 0.2237691915913784, 'mcc': 0.5234598107260401, 'train_loss': 1.1893889982910717}\n",
      "Epoch 4/20\n"
     ]
    },
    {
     "name": "stderr",
     "output_type": "stream",
     "text": [
      "100%|██████████| 476/476 [03:34<00:00,  2.22it/s]\n"
     ]
    },
    {
     "name": "stdout",
     "output_type": "stream",
     "text": [
      "{'val_loss': 1.3284116876575183, 'val_accuracy': 0.659171597633136, 'precision': 0.6371782961336709, 'recall': 0.659171597633136, 'f1-score': 0.6349595081537566, 'macro_f1-score': 0.2567060812612573, 'balanced_accuracy': 0.26800051830484156, 'mcc': 0.5422305102064443, 'train_loss': 0.9541961218880004}\n",
      "Epoch 5/20\n"
     ]
    },
    {
     "name": "stderr",
     "output_type": "stream",
     "text": [
      "100%|██████████| 476/476 [03:34<00:00,  2.22it/s]\n"
     ]
    },
    {
     "name": "stdout",
     "output_type": "stream",
     "text": [
      "{'val_loss': 1.3110057908409047, 'val_accuracy': 0.672189349112426, 'precision': 0.6657900155888999, 'recall': 0.672189349112426, 'f1-score': 0.6514821728547133, 'macro_f1-score': 0.31273233441868725, 'balanced_accuracy': 0.32578104480895825, 'mcc': 0.5720290134943513, 'train_loss': 0.791918894604725}\n",
      "Epoch 6/20\n"
     ]
    },
    {
     "name": "stderr",
     "output_type": "stream",
     "text": [
      "100%|██████████| 476/476 [03:33<00:00,  2.23it/s]\n"
     ]
    },
    {
     "name": "stdout",
     "output_type": "stream",
     "text": [
      "{'val_loss': 1.3284622003447335, 'val_accuracy': 0.6662721893491125, 'precision': 0.6940467186622263, 'recall': 0.6662721893491125, 'f1-score': 0.6549836681507751, 'macro_f1-score': 0.3281255776164969, 'balanced_accuracy': 0.33603849896169846, 'mcc': 0.5617440212028589, 'train_loss': 0.6298532767002197}\n",
      "Epoch 7/20\n"
     ]
    },
    {
     "name": "stderr",
     "output_type": "stream",
     "text": [
      "100%|██████████| 476/476 [03:34<00:00,  2.22it/s]\n"
     ]
    },
    {
     "name": "stdout",
     "output_type": "stream",
     "text": [
      "{'val_loss': 1.333770585509966, 'val_accuracy': 0.6923076923076923, 'precision': 0.6714226356134478, 'recall': 0.6923076923076923, 'f1-score': 0.6652347748721938, 'macro_f1-score': 0.33475915615168744, 'balanced_accuracy': 0.3339654821608762, 'mcc': 0.5905844370459941, 'train_loss': 0.5304988848217645}\n",
      "Epoch 8/20\n"
     ]
    },
    {
     "name": "stderr",
     "output_type": "stream",
     "text": [
      "100%|██████████| 476/476 [03:34<00:00,  2.22it/s]\n"
     ]
    },
    {
     "name": "stdout",
     "output_type": "stream",
     "text": [
      "{'val_loss': 1.3566191477595635, 'val_accuracy': 0.7017751479289941, 'precision': 0.6894469571520935, 'recall': 0.7017751479289941, 'f1-score': 0.6844770193927096, 'macro_f1-score': 0.39497156905412706, 'balanced_accuracy': 0.39663096683299226, 'mcc': 0.606513391461477, 'train_loss': 0.4387860385301922}\n",
      "Epoch 9/20\n"
     ]
    },
    {
     "name": "stderr",
     "output_type": "stream",
     "text": [
      "100%|██████████| 476/476 [03:34<00:00,  2.22it/s]\n"
     ]
    },
    {
     "name": "stdout",
     "output_type": "stream",
     "text": [
      "{'val_loss': 1.430509697153883, 'val_accuracy': 0.6899408284023668, 'precision': 0.6746467627579256, 'recall': 0.6899408284023668, 'f1-score': 0.6753204297366856, 'macro_f1-score': 0.33681808624521226, 'balanced_accuracy': 0.34461621111058216, 'mcc': 0.5911207453473889, 'train_loss': 0.3563410492081727}\n",
      "Epoch 10/20\n"
     ]
    },
    {
     "name": "stderr",
     "output_type": "stream",
     "text": [
      "100%|██████████| 476/476 [03:34<00:00,  2.22it/s]\n"
     ]
    },
    {
     "name": "stdout",
     "output_type": "stream",
     "text": [
      "{'val_loss': 1.3931827736350726, 'val_accuracy': 0.6994082840236686, 'precision': 0.6867955904985082, 'recall': 0.6994082840236686, 'f1-score': 0.6861480859586461, 'macro_f1-score': 0.39569893083253627, 'balanced_accuracy': 0.3961691515074027, 'mcc': 0.6007681024044044, 'train_loss': 0.31934667972479985}\n",
      "Epoch 11/20\n"
     ]
    },
    {
     "name": "stderr",
     "output_type": "stream",
     "text": [
      "100%|██████████| 476/476 [03:34<00:00,  2.22it/s]\n"
     ]
    },
    {
     "name": "stdout",
     "output_type": "stream",
     "text": [
      "{'val_loss': 1.4816056121632737, 'val_accuracy': 0.6781065088757396, 'precision': 0.6829852726775978, 'recall': 0.6781065088757396, 'f1-score': 0.6672972006340997, 'macro_f1-score': 0.338301615188959, 'balanced_accuracy': 0.34153217930193197, 'mcc': 0.577318850120549, 'train_loss': 0.2944978396760441}\n",
      "Epoch 12/20\n"
     ]
    },
    {
     "name": "stderr",
     "output_type": "stream",
     "text": [
      "100%|██████████| 476/476 [03:34<00:00,  2.22it/s]\n"
     ]
    },
    {
     "name": "stdout",
     "output_type": "stream",
     "text": [
      "{'val_loss': 1.5145564900254302, 'val_accuracy': 0.6804733727810651, 'precision': 0.6796291332155429, 'recall': 0.6804733727810651, 'f1-score': 0.6695042330279654, 'macro_f1-score': 0.35638696485887617, 'balanced_accuracy': 0.3634200751013068, 'mcc': 0.5821559194693477, 'train_loss': 0.29736564041138824}\n",
      "Epoch 13/20\n"
     ]
    },
    {
     "name": "stderr",
     "output_type": "stream",
     "text": [
      "100%|██████████| 476/476 [03:34<00:00,  2.22it/s]\n"
     ]
    },
    {
     "name": "stdout",
     "output_type": "stream",
     "text": [
      "{'val_loss': 1.6554203055939585, 'val_accuracy': 0.6863905325443787, 'precision': 0.6802681277625923, 'recall': 0.6863905325443787, 'f1-score': 0.6623002820897859, 'macro_f1-score': 0.3411888086215502, 'balanced_accuracy': 0.33774475622905176, 'mcc': 0.5820779343744802, 'train_loss': 0.25678878823420453}\n",
      "Early stopping.\n",
      "\n",
      "[Fold 10]\n",
      "model is bert-base-uncased bilstm\n",
      "Epoch 1/20\n"
     ]
    },
    {
     "name": "stderr",
     "output_type": "stream",
     "text": [
      "100%|██████████| 476/476 [03:34<00:00,  2.22it/s]\n"
     ]
    },
    {
     "name": "stdout",
     "output_type": "stream",
     "text": [
      "{'val_loss': 1.7065382436761316, 'val_accuracy': 0.5988165680473373, 'precision': 0.4059800988547167, 'recall': 0.5988165680473373, 'f1-score': 0.47377964030052516, 'macro_f1-score': 0.062030711915696285, 'balanced_accuracy': 0.08662082944415961, 'mcc': 0.42268053402858435, 'train_loss': 2.0400540123717126}\n",
      "Epoch 2/20\n"
     ]
    },
    {
     "name": "stderr",
     "output_type": "stream",
     "text": [
      "100%|██████████| 476/476 [03:34<00:00,  2.22it/s]\n"
     ]
    },
    {
     "name": "stdout",
     "output_type": "stream",
     "text": [
      "{'val_loss': 1.4519412225147463, 'val_accuracy': 0.6390532544378699, 'precision': 0.48823596671989467, 'recall': 0.6390532544378699, 'f1-score': 0.5378877864489406, 'macro_f1-score': 0.1254463041473808, 'balanced_accuracy': 0.1387207967347632, 'mcc': 0.4895453137060422, 'train_loss': 1.5515600882407998}\n",
      "Epoch 3/20\n"
     ]
    },
    {
     "name": "stderr",
     "output_type": "stream",
     "text": [
      "100%|██████████| 476/476 [03:34<00:00,  2.22it/s]\n"
     ]
    },
    {
     "name": "stdout",
     "output_type": "stream",
     "text": [
      "{'val_loss': 1.3502306426471133, 'val_accuracy': 0.6662721893491125, 'precision': 0.5932806297072007, 'recall': 0.6662721893491125, 'f1-score': 0.6159678809712915, 'macro_f1-score': 0.22800507213828405, 'balanced_accuracy': 0.22752568247539326, 'mcc': 0.5431844344609992, 'train_loss': 1.2392404168969442}\n",
      "Epoch 4/20\n"
     ]
    },
    {
     "name": "stderr",
     "output_type": "stream",
     "text": [
      "100%|██████████| 476/476 [03:34<00:00,  2.22it/s]\n"
     ]
    },
    {
     "name": "stdout",
     "output_type": "stream",
     "text": [
      "{'val_loss': 1.3172776322319824, 'val_accuracy': 0.6674556213017752, 'precision': 0.619687626705668, 'recall': 0.6674556213017752, 'f1-score': 0.6271369432505634, 'macro_f1-score': 0.23275204849467293, 'balanced_accuracy': 0.23654408782133074, 'mcc': 0.5509428667383638, 'train_loss': 1.0271291751571063}\n",
      "Epoch 5/20\n"
     ]
    },
    {
     "name": "stderr",
     "output_type": "stream",
     "text": [
      "100%|██████████| 476/476 [03:34<00:00,  2.22it/s]\n"
     ]
    },
    {
     "name": "stdout",
     "output_type": "stream",
     "text": [
      "{'val_loss': 1.3483589263457172, 'val_accuracy': 0.6650887573964497, 'precision': 0.6491001828109834, 'recall': 0.6650887573964497, 'f1-score': 0.6463933256841008, 'macro_f1-score': 0.27873025731493534, 'balanced_accuracy': 0.2842847041171562, 'mcc': 0.5520553208234827, 'train_loss': 0.8415104644138272}\n",
      "Epoch 6/20\n"
     ]
    },
    {
     "name": "stderr",
     "output_type": "stream",
     "text": [
      "100%|██████████| 476/476 [03:34<00:00,  2.22it/s]\n"
     ]
    },
    {
     "name": "stdout",
     "output_type": "stream",
     "text": [
      "{'val_loss': 1.4124836134460736, 'val_accuracy': 0.6698224852071006, 'precision': 0.6342625602036668, 'recall': 0.6698224852071006, 'f1-score': 0.6314479022773444, 'macro_f1-score': 0.2744432622997378, 'balanced_accuracy': 0.2761474202149517, 'mcc': 0.5491494945574118, 'train_loss': 0.6847086738826347}\n",
      "Epoch 7/20\n"
     ]
    },
    {
     "name": "stderr",
     "output_type": "stream",
     "text": [
      "100%|██████████| 476/476 [03:34<00:00,  2.22it/s]\n"
     ]
    },
    {
     "name": "stdout",
     "output_type": "stream",
     "text": [
      "{'val_loss': 1.3964431451739006, 'val_accuracy': 0.6781065088757396, 'precision': 0.6538156201849687, 'recall': 0.6781065088757396, 'f1-score': 0.6515803907233948, 'macro_f1-score': 0.3091386611110857, 'balanced_accuracy': 0.31747828535499795, 'mcc': 0.5667826326013273, 'train_loss': 0.5564349818927776}\n",
      "Epoch 8/20\n"
     ]
    },
    {
     "name": "stderr",
     "output_type": "stream",
     "text": [
      "100%|██████████| 476/476 [03:34<00:00,  2.22it/s]\n"
     ]
    },
    {
     "name": "stdout",
     "output_type": "stream",
     "text": [
      "{'val_loss': 1.5071102164263994, 'val_accuracy': 0.6650887573964497, 'precision': 0.6713930861989912, 'recall': 0.6650887573964497, 'f1-score': 0.6487442011859251, 'macro_f1-score': 0.33554447932102077, 'balanced_accuracy': 0.33703690430048566, 'mcc': 0.5522351082644104, 'train_loss': 0.4851628101798667}\n",
      "Epoch 9/20\n"
     ]
    },
    {
     "name": "stderr",
     "output_type": "stream",
     "text": [
      "100%|██████████| 476/476 [03:34<00:00,  2.22it/s]\n"
     ]
    },
    {
     "name": "stdout",
     "output_type": "stream",
     "text": [
      "{'val_loss': 1.422630691303397, 'val_accuracy': 0.6840236686390533, 'precision': 0.6771301655147078, 'recall': 0.6840236686390533, 'f1-score': 0.6674447546460056, 'macro_f1-score': 0.33286258541054103, 'balanced_accuracy': 0.3485209309722592, 'mcc': 0.5809518978967138, 'train_loss': 0.4337798398097648}\n",
      "Epoch 10/20\n"
     ]
    },
    {
     "name": "stderr",
     "output_type": "stream",
     "text": [
      "100%|██████████| 476/476 [03:34<00:00,  2.22it/s]\n"
     ]
    },
    {
     "name": "stdout",
     "output_type": "stream",
     "text": [
      "{'val_loss': 1.490441451657493, 'val_accuracy': 0.6781065088757396, 'precision': 0.6598461040544625, 'recall': 0.6781065088757396, 'f1-score': 0.6514150168966435, 'macro_f1-score': 0.3156711100201445, 'balanced_accuracy': 0.3221617995107147, 'mcc': 0.5680933133004482, 'train_loss': 0.3802314720844396}\n",
      "Epoch 11/20\n"
     ]
    },
    {
     "name": "stderr",
     "output_type": "stream",
     "text": [
      "100%|██████████| 476/476 [03:34<00:00,  2.22it/s]\n"
     ]
    },
    {
     "name": "stdout",
     "output_type": "stream",
     "text": [
      "{'val_loss': 1.4921794848622016, 'val_accuracy': 0.6911242603550296, 'precision': 0.6820808652035131, 'recall': 0.6911242603550296, 'f1-score': 0.6721398248474356, 'macro_f1-score': 0.35121106443044636, 'balanced_accuracy': 0.3463901164935045, 'mcc': 0.5887040420635995, 'train_loss': 0.32897235761482674}\n",
      "Epoch 12/20\n"
     ]
    },
    {
     "name": "stderr",
     "output_type": "stream",
     "text": [
      "100%|██████████| 476/476 [03:34<00:00,  2.22it/s]\n"
     ]
    },
    {
     "name": "stdout",
     "output_type": "stream",
     "text": [
      "{'val_loss': 1.6123087411781527, 'val_accuracy': 0.6899408284023668, 'precision': 0.6923119729837128, 'recall': 0.6899408284023668, 'f1-score': 0.6671262401662564, 'macro_f1-score': 0.36627801308025076, 'balanced_accuracy': 0.356784422774138, 'mcc': 0.5827897772026497, 'train_loss': 0.3013809122528662}\n",
      "Epoch 13/20\n"
     ]
    },
    {
     "name": "stderr",
     "output_type": "stream",
     "text": [
      "100%|██████████| 476/476 [03:34<00:00,  2.22it/s]\n"
     ]
    },
    {
     "name": "stdout",
     "output_type": "stream",
     "text": [
      "{'val_loss': 1.6406640283903986, 'val_accuracy': 0.6544378698224852, 'precision': 0.6585291660380049, 'recall': 0.6544378698224852, 'f1-score': 0.6431243979844274, 'macro_f1-score': 0.3202559702040959, 'balanced_accuracy': 0.32240113104287943, 'mcc': 0.5462368689637297, 'train_loss': 0.2934680180252381}\n",
      "Epoch 14/20\n"
     ]
    },
    {
     "name": "stderr",
     "output_type": "stream",
     "text": [
      "100%|██████████| 476/476 [03:34<00:00,  2.22it/s]\n"
     ]
    },
    {
     "name": "stdout",
     "output_type": "stream",
     "text": [
      "{'val_loss': 1.5606344972016677, 'val_accuracy': 0.676923076923077, 'precision': 0.6707838202017519, 'recall': 0.676923076923077, 'f1-score': 0.656673362054067, 'macro_f1-score': 0.35064013631790397, 'balanced_accuracy': 0.34411605486598795, 'mcc': 0.5725878084236606, 'train_loss': 0.2747937337174511}\n",
      "Epoch 15/20\n"
     ]
    },
    {
     "name": "stderr",
     "output_type": "stream",
     "text": [
      "100%|██████████| 476/476 [03:34<00:00,  2.22it/s]\n"
     ]
    },
    {
     "name": "stdout",
     "output_type": "stream",
     "text": [
      "{'val_loss': 1.587701529826758, 'val_accuracy': 0.6887573964497041, 'precision': 0.7123874879681019, 'recall': 0.6887573964497041, 'f1-score': 0.6806983388635927, 'macro_f1-score': 0.4108022598270038, 'balanced_accuracy': 0.4092631927689724, 'mcc': 0.5917233202642879, 'train_loss': 0.25317251843697697}\n",
      "Epoch 16/20\n"
     ]
    },
    {
     "name": "stderr",
     "output_type": "stream",
     "text": [
      "100%|██████████| 476/476 [03:34<00:00,  2.22it/s]\n"
     ]
    },
    {
     "name": "stdout",
     "output_type": "stream",
     "text": [
      "{'val_loss': 1.6287153458820198, 'val_accuracy': 0.685207100591716, 'precision': 0.7058990416529157, 'recall': 0.685207100591716, 'f1-score': 0.6806863593430118, 'macro_f1-score': 0.4161731213007911, 'balanced_accuracy': 0.4388021819328399, 'mcc': 0.5928184949137612, 'train_loss': 0.2420358667825153}\n",
      "Epoch 17/20\n"
     ]
    },
    {
     "name": "stderr",
     "output_type": "stream",
     "text": [
      "100%|██████████| 476/476 [03:34<00:00,  2.22it/s]\n"
     ]
    },
    {
     "name": "stdout",
     "output_type": "stream",
     "text": [
      "{'val_loss': 1.6637087408101783, 'val_accuracy': 0.6816568047337278, 'precision': 0.6823762472825724, 'recall': 0.6816568047337278, 'f1-score': 0.6666277647197963, 'macro_f1-score': 0.38780188491177753, 'balanced_accuracy': 0.3880308737648444, 'mcc': 0.5787011685188416, 'train_loss': 0.24311999065367146}\n",
      "Epoch 18/20\n"
     ]
    },
    {
     "name": "stderr",
     "output_type": "stream",
     "text": [
      "100%|██████████| 476/476 [03:34<00:00,  2.22it/s]\n"
     ]
    },
    {
     "name": "stdout",
     "output_type": "stream",
     "text": [
      "{'val_loss': 1.618603159796517, 'val_accuracy': 0.6994082840236686, 'precision': 0.6784981773446976, 'recall': 0.6994082840236686, 'f1-score': 0.6743517822215614, 'macro_f1-score': 0.39183598237794903, 'balanced_accuracy': 0.38066694131597695, 'mcc': 0.5934830772849821, 'train_loss': 0.23877498345496526}\n",
      "Epoch 19/20\n"
     ]
    },
    {
     "name": "stderr",
     "output_type": "stream",
     "text": [
      "100%|██████████| 476/476 [03:34<00:00,  2.22it/s]\n"
     ]
    },
    {
     "name": "stdout",
     "output_type": "stream",
     "text": [
      "{'val_loss': 1.8016318886909846, 'val_accuracy': 0.6994082840236686, 'precision': 0.6691310438071302, 'recall': 0.6994082840236686, 'f1-score': 0.668974311974364, 'macro_f1-score': 0.40393621240230543, 'balanced_accuracy': 0.3802922270978966, 'mcc': 0.5911649044469249, 'train_loss': 0.20752014023371182}\n",
      "Early stopping.\n",
      "\n",
      " === bert-base-uncased + bilstm + none Final 10-fold Cross-Validation Results ===\n",
      "Total time: 32720.59seconds\n",
      "val_loss: 1.5226\n",
      "val_accuracy: 0.6822\n",
      "precision: 0.6845\n",
      "recall: 0.6822\n",
      "f1-score: 0.6720\n",
      "macro_f1-score: 0.4041\n",
      "balanced_accuracy: 0.4139\n",
      "mcc: 0.5823\n",
      "train_loss: 0.3110\n"
     ]
    }
   ],
   "source": [
    "model_list = [\"bert-base-uncased\"]\n",
    "hybrid_list = [\"bilstm\"]\n",
    "resample_list = [\"none\"]\n",
    "\n",
    "for model_name in model_list:\n",
    "    for hybrid_type in hybrid_list:\n",
    "        for resample_method in resample_list:\n",
    "            results = run_kfold_experiment(\n",
    "                X=messages, y=labels, model_name=model_name, hybrid_type=hybrid_type, resample_method=resample_method,\n",
    "                kfold=KFOLD_SPLIT, seed=SEED, epochs=EPOCHS, patience=PATIENCE, max_length=MAX_LENGTH, \n",
    "                batch_size=BATCH_SIZE, lr=LR, weight_decay=WEIGHT_DECAY\n",
    "            )"
   ]
  },
  {
   "cell_type": "code",
   "execution_count": 5,
   "id": "d799ebb4-be3b-4b29-9238-6c2a2f8256ae",
   "metadata": {},
   "outputs": [
    {
     "data": {
      "text/plain": [
       "[{'val_loss': 1.4489416643133703,\n",
       "  'val_accuracy': 0.6903073286052009,\n",
       "  'precision': 0.6860396483625434,\n",
       "  'recall': 0.6903073286052009,\n",
       "  'f1-score': 0.6801080823877799,\n",
       "  'macro_f1-score': 0.4438581403854869,\n",
       "  'balanced_accuracy': 0.4433755230828564,\n",
       "  'mcc': 0.594179984904344,\n",
       "  'train_loss': 0.37234644774746684},\n",
       " {'val_loss': 1.4959115284793782,\n",
       "  'val_accuracy': 0.6678486997635934,\n",
       "  'precision': 0.6663141706213496,\n",
       "  'recall': 0.6678486997635934,\n",
       "  'f1-score': 0.6580159549578224,\n",
       "  'macro_f1-score': 0.361037795915523,\n",
       "  'balanced_accuracy': 0.3804563198445021,\n",
       "  'mcc': 0.5640479239224987,\n",
       "  'train_loss': 0.3619139261226788},\n",
       " {'val_loss': 1.5933306048501212,\n",
       "  'val_accuracy': 0.6855791962174941,\n",
       "  'precision': 0.687902362860644,\n",
       "  'recall': 0.6855791962174941,\n",
       "  'f1-score': 0.6797947077025839,\n",
       "  'macro_f1-score': 0.4279985658915102,\n",
       "  'balanced_accuracy': 0.4302679835345924,\n",
       "  'mcc': 0.5859492889324948,\n",
       "  'train_loss': 0.35065758603765873},\n",
       " {'val_loss': 1.6396445800673287,\n",
       "  'val_accuracy': 0.6926713947990544,\n",
       "  'precision': 0.6820152271981621,\n",
       "  'recall': 0.6926713947990544,\n",
       "  'f1-score': 0.6769066214229512,\n",
       "  'macro_f1-score': 0.4219430245293729,\n",
       "  'balanced_accuracy': 0.4297268783373964,\n",
       "  'mcc': 0.5893045890066194,\n",
       "  'train_loss': 0.24932273207506275},\n",
       " {'val_loss': 1.5855991756016354,\n",
       "  'val_accuracy': 0.663905325443787,\n",
       "  'precision': 0.6644190469175532,\n",
       "  'recall': 0.663905325443787,\n",
       "  'f1-score': 0.6445097951780525,\n",
       "  'macro_f1-score': 0.3640361037352726,\n",
       "  'balanced_accuracy': 0.36155045123021506,\n",
       "  'mcc': 0.5548134485754983,\n",
       "  'train_loss': 0.30613541405475814},\n",
       " {'val_loss': 1.5001257815450992,\n",
       "  'val_accuracy': 0.6710059171597633,\n",
       "  'precision': 0.6883150906322403,\n",
       "  'recall': 0.6710059171597633,\n",
       "  'f1-score': 0.6611220972985984,\n",
       "  'macro_f1-score': 0.3683647257890729,\n",
       "  'balanced_accuracy': 0.40271471473212245,\n",
       "  'mcc': 0.569394397412606,\n",
       "  'train_loss': 0.28742836656424553},\n",
       " {'val_loss': 1.5409402217505113,\n",
       "  'val_accuracy': 0.6792899408284023,\n",
       "  'precision': 0.6852315193263276,\n",
       "  'recall': 0.6792899408284023,\n",
       "  'f1-score': 0.6762018524238476,\n",
       "  'macro_f1-score': 0.42573911969825073,\n",
       "  'balanced_accuracy': 0.4368371531587125,\n",
       "  'mcc': 0.5812392866358451,\n",
       "  'train_loss': 0.244693287677609},\n",
       " {'val_loss': 1.3996770269465897,\n",
       "  'val_accuracy': 0.6863905325443787,\n",
       "  'precision': 0.6924411635742294,\n",
       "  'recall': 0.6863905325443787,\n",
       "  'f1-score': 0.6761660791839023,\n",
       "  'macro_f1-score': 0.41605858930430256,\n",
       "  'balanced_accuracy': 0.4191122412042018,\n",
       "  'mcc': 0.5902882719798647,\n",
       "  'train_loss': 0.3759654892193733},\n",
       " {'val_loss': 1.3931827736350726,\n",
       "  'val_accuracy': 0.6994082840236686,\n",
       "  'precision': 0.6867955904985082,\n",
       "  'recall': 0.6994082840236686,\n",
       "  'f1-score': 0.6861480859586461,\n",
       "  'macro_f1-score': 0.39569893083253627,\n",
       "  'balanced_accuracy': 0.3961691515074027,\n",
       "  'mcc': 0.6007681024044044,\n",
       "  'train_loss': 0.31934667972479985},\n",
       " {'val_loss': 1.6287153458820198,\n",
       "  'val_accuracy': 0.685207100591716,\n",
       "  'precision': 0.7058990416529157,\n",
       "  'recall': 0.685207100591716,\n",
       "  'f1-score': 0.6806863593430118,\n",
       "  'macro_f1-score': 0.4161731213007911,\n",
       "  'balanced_accuracy': 0.4388021819328399,\n",
       "  'mcc': 0.5928184949137612,\n",
       "  'train_loss': 0.2420358667825153}]"
      ]
     },
     "execution_count": 5,
     "metadata": {},
     "output_type": "execute_result"
    }
   ],
   "source": [
    "results"
   ]
  }
 ],
 "metadata": {
  "kernelspec": {
   "display_name": "Python 3 (ipykernel)",
   "language": "python",
   "name": "python3"
  },
  "language_info": {
   "codemirror_mode": {
    "name": "ipython",
    "version": 3
   },
   "file_extension": ".py",
   "mimetype": "text/x-python",
   "name": "python",
   "nbconvert_exporter": "python",
   "pygments_lexer": "ipython3",
   "version": "3.11.9"
  }
 },
 "nbformat": 4,
 "nbformat_minor": 5
}
