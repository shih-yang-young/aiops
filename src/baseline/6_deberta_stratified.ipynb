{
 "cells": [
  {
   "cell_type": "code",
   "execution_count": 1,
   "id": "2e76aa66-729a-4bf9-98b9-61d8114e9f3a",
   "metadata": {},
   "outputs": [
    {
     "data": {
      "text/html": [
       "<div>\n",
       "<style scoped>\n",
       "    .dataframe tbody tr th:only-of-type {\n",
       "        vertical-align: middle;\n",
       "    }\n",
       "\n",
       "    .dataframe tbody tr th {\n",
       "        vertical-align: top;\n",
       "    }\n",
       "\n",
       "    .dataframe thead th {\n",
       "        text-align: right;\n",
       "    }\n",
       "</style>\n",
       "<table border=\"1\" class=\"dataframe\">\n",
       "  <thead>\n",
       "    <tr style=\"text-align: right;\">\n",
       "      <th></th>\n",
       "      <th>Inbound Message</th>\n",
       "      <th>Label</th>\n",
       "    </tr>\n",
       "  </thead>\n",
       "  <tbody>\n",
       "    <tr>\n",
       "      <th>0</th>\n",
       "      <td>login issue verified user details employee man...</td>\n",
       "      <td>0</td>\n",
       "    </tr>\n",
       "    <tr>\n",
       "      <th>1</th>\n",
       "      <td>outlook hello team meetings skype meetings etc...</td>\n",
       "      <td>0</td>\n",
       "    </tr>\n",
       "    <tr>\n",
       "      <th>2</th>\n",
       "      <td>cant log vpn cannot log vpn best</td>\n",
       "      <td>0</td>\n",
       "    </tr>\n",
       "    <tr>\n",
       "      <th>3</th>\n",
       "      <td>unable access tool page unable access tool page</td>\n",
       "      <td>0</td>\n",
       "    </tr>\n",
       "    <tr>\n",
       "      <th>4</th>\n",
       "      <td>skype error skype error</td>\n",
       "      <td>0</td>\n",
       "    </tr>\n",
       "    <tr>\n",
       "      <th>...</th>\n",
       "      <td>...</td>\n",
       "      <td>...</td>\n",
       "    </tr>\n",
       "    <tr>\n",
       "      <th>8449</th>\n",
       "      <td>emails coming mail good afternoon receiving em...</td>\n",
       "      <td>22</td>\n",
       "    </tr>\n",
       "    <tr>\n",
       "      <th>8450</th>\n",
       "      <td>telephony software issue telephony software issue</td>\n",
       "      <td>0</td>\n",
       "    </tr>\n",
       "    <tr>\n",
       "      <th>8451</th>\n",
       "      <td>vip windows password reset tifpdchb pedxruyf v...</td>\n",
       "      <td>0</td>\n",
       "    </tr>\n",
       "    <tr>\n",
       "      <th>8452</th>\n",
       "      <td>machine est funcionando unable access machine ...</td>\n",
       "      <td>44</td>\n",
       "    </tr>\n",
       "    <tr>\n",
       "      <th>8453</th>\n",
       "      <td>mehreren lassen sich verschiedene prgramdntyme...</td>\n",
       "      <td>49</td>\n",
       "    </tr>\n",
       "  </tbody>\n",
       "</table>\n",
       "<p>8454 rows × 2 columns</p>\n",
       "</div>"
      ],
      "text/plain": [
       "                                        Inbound Message  Label\n",
       "0     login issue verified user details employee man...      0\n",
       "1     outlook hello team meetings skype meetings etc...      0\n",
       "2                      cant log vpn cannot log vpn best      0\n",
       "3       unable access tool page unable access tool page      0\n",
       "4                               skype error skype error      0\n",
       "...                                                 ...    ...\n",
       "8449  emails coming mail good afternoon receiving em...     22\n",
       "8450  telephony software issue telephony software issue      0\n",
       "8451  vip windows password reset tifpdchb pedxruyf v...      0\n",
       "8452  machine est funcionando unable access machine ...     44\n",
       "8453  mehreren lassen sich verschiedene prgramdntyme...     49\n",
       "\n",
       "[8454 rows x 2 columns]"
      ]
     },
     "execution_count": 1,
     "metadata": {},
     "output_type": "execute_result"
    }
   ],
   "source": [
    "import pandas as pd\n",
    "data_path = \"../../data/open_source_8454_combine_short_description.csv\"  # 替換為你的檔案路徑\n",
    "df = pd.read_csv(data_path)\n",
    "# df_label_0 = df[df[\"Label\"] == 0]\n",
    "# df_label_0_to_drop = df_label_0.sample(n=3000, random_state=42)\n",
    "# df = df.drop(df_label_0_to_drop.index)\n",
    "df"
   ]
  },
  {
   "cell_type": "markdown",
   "id": "e79be804-d1e3-463a-824f-d4765544e493",
   "metadata": {},
   "source": [
    "# 十折驗證法"
   ]
  },
  {
   "cell_type": "code",
   "execution_count": 2,
   "id": "7e6a5029-3898-4bab-8d6c-bfd1a3694153",
   "metadata": {},
   "outputs": [
    {
     "name": "stdout",
     "output_type": "stream",
     "text": [
      "Using device: cuda\n",
      "CUDA Available: True\n",
      "CUDA Device: NVIDIA GeForce RTX 3050 6GB Laptop GPU\n",
      "Current GPU Memory Allocated: 0.0 GB\n",
      "Current GPU Memory Cached: 0.0 GB\n"
     ]
    }
   ],
   "source": [
    "import torch\n",
    "device = torch.device('cuda') if torch.cuda.is_available() else torch.device('cpu')\n",
    "print(f\"Using device: {device}\") \n",
    "print(f\"CUDA Available: {torch.cuda.is_available()}\")\n",
    "print(f\"CUDA Device: {torch.cuda.get_device_name(0)}\")\n",
    "print(f\"Current GPU Memory Allocated: {torch.cuda.memory_allocated() / 1e9} GB\")\n",
    "print(f\"Current GPU Memory Cached: {torch.cuda.memory_reserved() / 1e9} GB\")"
   ]
  },
  {
   "cell_type": "code",
   "execution_count": 3,
   "id": "833a0227-7775-4659-a98c-48c3fbdc9db9",
   "metadata": {},
   "outputs": [],
   "source": [
    "from torch.utils.data import Dataset\n",
    "class CustomDataset(Dataset):\n",
    "    def __init__(self, messages, labels, tokenizer, max_length):\n",
    "        self.messages = messages\n",
    "        self.labels = labels\n",
    "        self.tokenizer = tokenizer\n",
    "        self.max_length = max_length\n",
    "\n",
    "    def __len__(self):\n",
    "        return len(self.messages)\n",
    "\n",
    "    def __getitem__(self, idx):\n",
    "        message = str(self.messages[idx])\n",
    "        label = self.labels[idx]\n",
    "        \n",
    "        encoding = self.tokenizer.encode_plus(\n",
    "            message,\n",
    "            max_length=self.max_length,\n",
    "            add_special_tokens=True,\n",
    "            padding='max_length',\n",
    "            truncation=True,\n",
    "            return_attention_mask=True,\n",
    "            return_tensors='pt'\n",
    "        )\n",
    "        \n",
    "        return {\n",
    "            'input_ids': encoding['input_ids'].flatten(),\n",
    "            'attention_mask': encoding['attention_mask'].flatten(),\n",
    "            'labels': torch.tensor(label, dtype=torch.long)\n",
    "        }"
   ]
  },
  {
   "cell_type": "code",
   "execution_count": 4,
   "id": "985bf187-a1b5-4882-9e52-2cbc0188e8a6",
   "metadata": {},
   "outputs": [],
   "source": [
    "# 定義訓練與評估函數\n",
    "def train_epoch(model, dataloader, optimizer, criterion):\n",
    "    model.train()\n",
    "    total_loss = 0\n",
    "\n",
    "    for batch in tqdm(dataloader):\n",
    "        optimizer.zero_grad()\n",
    "\n",
    "        input_ids = batch['input_ids'].to(device)\n",
    "        attention_mask = batch['attention_mask'].to(device)\n",
    "        labels = batch['labels'].to(device)\n",
    "\n",
    "        outputs = model(input_ids=input_ids, attention_mask=attention_mask, labels=labels)\n",
    "        loss = outputs.loss\n",
    "        total_loss += loss.item()\n",
    "\n",
    "        loss.backward()\n",
    "        optimizer.step()\n",
    "    \n",
    "    return total_loss / len(dataloader)"
   ]
  },
  {
   "cell_type": "code",
   "execution_count": 5,
   "id": "7dceb8a1-edf1-42fe-ac48-dc84ed4709cf",
   "metadata": {},
   "outputs": [],
   "source": [
    "from sklearn.metrics import precision_score, recall_score, f1_score, balanced_accuracy_score, matthews_corrcoef\n",
    "from sklearn.preprocessing import label_binarize\n",
    "import numpy as np\n",
    "import torch\n",
    "\n",
    "def eval_model(model, dataloader, criterion, num_labels):\n",
    "    model.eval()\n",
    "    total_loss = 0\n",
    "    all_labels = []\n",
    "    all_preds = []\n",
    "    all_probs = []\n",
    "    \n",
    "    with torch.no_grad():\n",
    "        for batch in dataloader:\n",
    "            input_ids = batch['input_ids'].to(device)\n",
    "            attention_mask = batch['attention_mask'].to(device)\n",
    "            labels = batch['labels'].to(device)\n",
    "\n",
    "            outputs = model(input_ids=input_ids, attention_mask=attention_mask)\n",
    "            logits = outputs.logits\n",
    "            loss = criterion(logits, labels)\n",
    "            total_loss += loss.item()\n",
    "\n",
    "            probs = torch.softmax(logits, dim=1)\n",
    "            _, preds = torch.max(logits, dim=1)\n",
    "\n",
    "            all_labels.extend(labels.cpu().numpy())\n",
    "            all_preds.extend(preds.cpu().numpy())\n",
    "            all_probs.extend(probs.cpu().numpy())\n",
    "\n",
    "    val_loss = total_loss / len(dataloader)\n",
    "    val_accuracy = np.mean(np.array(all_preds) == np.array(all_labels))\n",
    "    precision = precision_score(all_labels, all_preds, average='weighted', zero_division=0)\n",
    "    recall = recall_score(all_labels, all_preds, average='weighted', zero_division=0)\n",
    "    f1 = f1_score(all_labels, all_preds, average='weighted', zero_division=0)\n",
    "    macro_f1 = f1_score(all_labels, all_preds, average='macro', zero_division=0)\n",
    "    balanced_acc = balanced_accuracy_score(all_labels, all_preds)\n",
    "    mcc = matthews_corrcoef(all_labels, all_preds)\n",
    "\n",
    "    return {\n",
    "        \"val_loss\": val_loss,\n",
    "        \"val_accuracy\": val_accuracy,\n",
    "        \"precision\": precision,\n",
    "        \"recall\": recall,\n",
    "        \"f1-score\": f1,\n",
    "        \"macro_f1-score\": macro_f1,\n",
    "        \"balanced_accuracy\": balanced_acc,\n",
    "        \"mcc\": mcc\n",
    "    }"
   ]
  },
  {
   "cell_type": "code",
   "execution_count": 6,
   "id": "0217a72c-db4d-4875-8a00-33f2dae9de5e",
   "metadata": {},
   "outputs": [],
   "source": [
    "from transformers import DebertaTokenizer, DebertaForSequenceClassification\n",
    "from sklearn.model_selection import StratifiedKFold\n",
    "# 設定參數\n",
    "MAX_LENGTH = 128\n",
    "BATCH_SIZE = 16\n",
    "EPOCHS = 20\n",
    "\n",
    "# 初始化 RoBERTa 的 tokenizer\n",
    "tokenizer = DebertaTokenizer.from_pretrained('microsoft/deberta-base')\n",
    "\n",
    "# 初始化數據\n",
    "messages = df['Inbound Message'].tolist()\n",
    "labels = df['Label'].tolist()\n",
    "\n",
    "# KFold 初始化\n",
    "skf = StratifiedKFold(n_splits=10, shuffle=True, random_state=42)"
   ]
  },
  {
   "cell_type": "code",
   "execution_count": 7,
   "id": "ee99c1b8-2fc7-483a-8cb6-d375039c6cb1",
   "metadata": {
    "scrolled": true
   },
   "outputs": [
    {
     "name": "stderr",
     "output_type": "stream",
     "text": [
      "D:\\Anaconda3\\envs\\cuda\\Lib\\site-packages\\sklearn\\model_selection\\_split.py:737: UserWarning: The least populated class in y has only 7 members, which is less than n_splits=10.\n",
      "  warnings.warn(\n"
     ]
    },
    {
     "name": "stdout",
     "output_type": "stream",
     "text": [
      "Fold 1\n",
      "Training set label distribution: {0: 3576, 1: 28, 2: 126, 3: 27, 4: 231, 5: 130, 6: 107, 7: 35, 8: 76, 9: 73, 10: 79, 11: 194, 12: 217, 13: 32, 14: 26, 15: 28, 16: 23, 17: 260, 18: 104, 19: 51, 20: 16, 21: 39, 22: 88, 23: 180, 24: 18, 25: 56, 26: 97, 27: 55, 28: 13, 29: 15, 30: 17, 31: 90, 32: 40, 33: 36, 34: 34, 35: 13, 36: 32, 37: 24, 38: 7, 39: 116, 40: 13, 41: 9, 42: 166, 43: 18, 44: 22, 45: 10, 46: 61, 47: 595, 48: 227, 49: 78}\n",
      "Validation set label distribution: {0: 398, 1: 3, 2: 14, 3: 3, 4: 26, 5: 15, 6: 11, 7: 4, 8: 9, 9: 8, 10: 9, 11: 21, 12: 24, 13: 4, 14: 3, 15: 3, 16: 2, 17: 29, 18: 12, 19: 5, 20: 2, 21: 5, 22: 9, 23: 20, 24: 2, 25: 7, 26: 10, 27: 6, 28: 2, 29: 1, 30: 2, 31: 10, 32: 5, 33: 4, 34: 3, 35: 2, 36: 3, 37: 3, 39: 13, 40: 1, 41: 2, 42: 18, 43: 2, 44: 3, 45: 1, 46: 7, 47: 66, 48: 25, 49: 9}\n"
     ]
    },
    {
     "name": "stderr",
     "output_type": "stream",
     "text": [
      "Some weights of DebertaForSequenceClassification were not initialized from the model checkpoint at microsoft/deberta-base and are newly initialized: ['classifier.bias', 'classifier.weight', 'pooler.dense.bias', 'pooler.dense.weight']\n",
      "You should probably TRAIN this model on a down-stream task to be able to use it for predictions and inference.\n"
     ]
    },
    {
     "name": "stdout",
     "output_type": "stream",
     "text": [
      "Epoch 1/20\n"
     ]
    },
    {
     "name": "stderr",
     "output_type": "stream",
     "text": [
      "100%|██████████| 476/476 [04:56<00:00,  1.60it/s]\n"
     ]
    },
    {
     "name": "stdout",
     "output_type": "stream",
     "text": [
      "{'val_loss': 1.5956006320017688, 'val_accuracy': 0.5969267139479906, 'precision': 0.4465434789225327, 'recall': 0.5969267139479906, 'f1-score': 0.5032229477136315, 'macro_f1-score': 0.10046921617273465, 'balanced_accuracy': 0.11338345418227588, 'mcc': 0.42997565092053763}\n",
      "Epoch 2/20\n"
     ]
    },
    {
     "name": "stderr",
     "output_type": "stream",
     "text": [
      "100%|██████████| 476/476 [04:56<00:00,  1.60it/s]\n"
     ]
    },
    {
     "name": "stdout",
     "output_type": "stream",
     "text": [
      "{'val_loss': 1.3358540518103905, 'val_accuracy': 0.6501182033096927, 'precision': 0.5910983364912052, 'recall': 0.6501182033096927, 'f1-score': 0.5781665364007957, 'macro_f1-score': 0.19003656705992383, 'balanced_accuracy': 0.19589260788778787, 'mcc': 0.5143170999481175}\n",
      "Epoch 3/20\n"
     ]
    },
    {
     "name": "stderr",
     "output_type": "stream",
     "text": [
      "100%|██████████| 476/476 [04:47<00:00,  1.66it/s]\n"
     ]
    },
    {
     "name": "stdout",
     "output_type": "stream",
     "text": [
      "{'val_loss': 1.2338723888937033, 'val_accuracy': 0.66548463356974, 'precision': 0.633954937427774, 'recall': 0.66548463356974, 'f1-score': 0.6400210858744906, 'macro_f1-score': 0.27365415274368066, 'balanced_accuracy': 0.278538071652235, 'mcc': 0.5515231973503251}\n",
      "Epoch 4/20\n"
     ]
    },
    {
     "name": "stderr",
     "output_type": "stream",
     "text": [
      "100%|██████████| 476/476 [04:46<00:00,  1.66it/s]\n"
     ]
    },
    {
     "name": "stdout",
     "output_type": "stream",
     "text": [
      "{'val_loss': 1.2944902406548553, 'val_accuracy': 0.6631205673758865, 'precision': 0.6309523015414197, 'recall': 0.6631205673758865, 'f1-score': 0.6309628018623115, 'macro_f1-score': 0.33039320428361735, 'balanced_accuracy': 0.3255760058497886, 'mcc': 0.5478096792047794}\n",
      "Epoch 5/20\n"
     ]
    },
    {
     "name": "stderr",
     "output_type": "stream",
     "text": [
      "100%|██████████| 476/476 [04:46<00:00,  1.66it/s]\n"
     ]
    },
    {
     "name": "stdout",
     "output_type": "stream",
     "text": [
      "{'val_loss': 1.341413458563247, 'val_accuracy': 0.6536643026004728, 'precision': 0.6747587236964423, 'recall': 0.6536643026004728, 'f1-score': 0.6506518274697306, 'macro_f1-score': 0.37048933602808704, 'balanced_accuracy': 0.36835853037501676, 'mcc': 0.547600684035784}\n",
      "Epoch 6/20\n"
     ]
    },
    {
     "name": "stderr",
     "output_type": "stream",
     "text": [
      "100%|██████████| 476/476 [04:44<00:00,  1.67it/s]\n"
     ]
    },
    {
     "name": "stdout",
     "output_type": "stream",
     "text": [
      "{'val_loss': 1.4772180234486203, 'val_accuracy': 0.6666666666666666, 'precision': 0.6832100105947141, 'recall': 0.6666666666666666, 'f1-score': 0.6602286182506597, 'macro_f1-score': 0.3987449267049335, 'balanced_accuracy': 0.3866904503949687, 'mcc': 0.5605427987860461}\n",
      "Epoch 7/20\n"
     ]
    },
    {
     "name": "stderr",
     "output_type": "stream",
     "text": [
      "100%|██████████| 476/476 [04:44<00:00,  1.67it/s]\n"
     ]
    },
    {
     "name": "stdout",
     "output_type": "stream",
     "text": [
      "{'val_loss': 1.5276286928158886, 'val_accuracy': 0.6631205673758865, 'precision': 0.678251803675832, 'recall': 0.6631205673758865, 'f1-score': 0.6594273759185431, 'macro_f1-score': 0.39021268562596234, 'balanced_accuracy': 0.3903480733735279, 'mcc': 0.5608782340665521}\n",
      "Epoch 8/20\n"
     ]
    },
    {
     "name": "stderr",
     "output_type": "stream",
     "text": [
      "100%|██████████| 476/476 [04:43<00:00,  1.68it/s]\n"
     ]
    },
    {
     "name": "stdout",
     "output_type": "stream",
     "text": [
      "{'val_loss': 1.6158915038378734, 'val_accuracy': 0.6572104018912529, 'precision': 0.6585979042489991, 'recall': 0.6572104018912529, 'f1-score': 0.6450545775296167, 'macro_f1-score': 0.3863702016641248, 'balanced_accuracy': 0.3905016864318121, 'mcc': 0.5490330594502708}\n",
      "Epoch 9/20\n"
     ]
    },
    {
     "name": "stderr",
     "output_type": "stream",
     "text": [
      "100%|██████████| 476/476 [04:44<00:00,  1.68it/s]\n"
     ]
    },
    {
     "name": "stdout",
     "output_type": "stream",
     "text": [
      "{'val_loss': 1.8463812189282112, 'val_accuracy': 0.6690307328605201, 'precision': 0.6571798878594116, 'recall': 0.6690307328605201, 'f1-score': 0.6490313869610227, 'macro_f1-score': 0.3862701937465124, 'balanced_accuracy': 0.3886958565206596, 'mcc': 0.5539420407608123}\n",
      "Early stopping triggered at epoch 9\n",
      "Fold 2\n",
      "Training set label distribution: {0: 3576, 1: 28, 2: 126, 3: 27, 4: 231, 5: 131, 6: 106, 7: 35, 8: 76, 9: 73, 10: 79, 11: 194, 12: 217, 13: 32, 14: 26, 15: 28, 16: 23, 17: 260, 18: 104, 19: 51, 20: 16, 21: 39, 22: 88, 23: 180, 24: 18, 25: 56, 26: 97, 27: 55, 28: 13, 29: 15, 30: 17, 31: 90, 32: 40, 33: 36, 34: 34, 35: 13, 36: 32, 37: 24, 38: 6, 39: 116, 40: 13, 41: 10, 42: 166, 43: 18, 44: 22, 45: 10, 46: 61, 47: 595, 48: 227, 49: 78}\n",
      "Validation set label distribution: {0: 398, 1: 3, 2: 14, 3: 3, 4: 26, 5: 14, 6: 12, 7: 4, 8: 9, 9: 8, 10: 9, 11: 21, 12: 24, 13: 4, 14: 3, 15: 3, 16: 2, 17: 29, 18: 12, 19: 5, 20: 2, 21: 5, 22: 9, 23: 20, 24: 2, 25: 7, 26: 10, 27: 6, 28: 2, 29: 1, 30: 2, 31: 10, 32: 5, 33: 4, 34: 3, 35: 2, 36: 3, 37: 3, 38: 1, 39: 13, 40: 1, 41: 1, 42: 18, 43: 2, 44: 3, 45: 1, 46: 7, 47: 66, 48: 25, 49: 9}\n"
     ]
    },
    {
     "name": "stderr",
     "output_type": "stream",
     "text": [
      "Some weights of DebertaForSequenceClassification were not initialized from the model checkpoint at microsoft/deberta-base and are newly initialized: ['classifier.bias', 'classifier.weight', 'pooler.dense.bias', 'pooler.dense.weight']\n",
      "You should probably TRAIN this model on a down-stream task to be able to use it for predictions and inference.\n"
     ]
    },
    {
     "name": "stdout",
     "output_type": "stream",
     "text": [
      "Epoch 1/20\n"
     ]
    },
    {
     "name": "stderr",
     "output_type": "stream",
     "text": [
      "100%|██████████| 476/476 [04:44<00:00,  1.68it/s]\n"
     ]
    },
    {
     "name": "stdout",
     "output_type": "stream",
     "text": [
      "{'val_loss': 1.518066722829387, 'val_accuracy': 0.6028368794326241, 'precision': 0.441988918866071, 'recall': 0.6028368794326241, 'f1-score': 0.4970651872717188, 'macro_f1-score': 0.1114660804911122, 'balanced_accuracy': 0.12411920992617578, 'mcc': 0.42828595615417453}\n",
      "Epoch 2/20\n"
     ]
    },
    {
     "name": "stderr",
     "output_type": "stream",
     "text": [
      "100%|██████████| 476/476 [04:44<00:00,  1.67it/s]\n"
     ]
    },
    {
     "name": "stdout",
     "output_type": "stream",
     "text": [
      "{'val_loss': 1.3661138420959689, 'val_accuracy': 0.648936170212766, 'precision': 0.5796926002298843, 'recall': 0.648936170212766, 'f1-score': 0.5919537684507338, 'macro_f1-score': 0.19702020219148264, 'balanced_accuracy': 0.20403857040166173, 'mcc': 0.5200327956613388}\n",
      "Epoch 3/20\n"
     ]
    },
    {
     "name": "stderr",
     "output_type": "stream",
     "text": [
      "100%|██████████| 476/476 [04:46<00:00,  1.66it/s]\n"
     ]
    },
    {
     "name": "stdout",
     "output_type": "stream",
     "text": [
      "{'val_loss': 1.2917570955348465, 'val_accuracy': 0.6607565011820331, 'precision': 0.5928389166091184, 'recall': 0.6607565011820331, 'f1-score': 0.6090046896650916, 'macro_f1-score': 0.23996186103757214, 'balanced_accuracy': 0.24523153621441612, 'mcc': 0.5382939046050355}\n",
      "Epoch 4/20\n"
     ]
    },
    {
     "name": "stderr",
     "output_type": "stream",
     "text": [
      "100%|██████████| 476/476 [04:46<00:00,  1.66it/s]\n"
     ]
    },
    {
     "name": "stdout",
     "output_type": "stream",
     "text": [
      "{'val_loss': 1.3851446261945761, 'val_accuracy': 0.6442080378250591, 'precision': 0.6158002607929827, 'recall': 0.6442080378250591, 'f1-score': 0.6180316664739574, 'macro_f1-score': 0.28672077532666945, 'balanced_accuracy': 0.29900132533863255, 'mcc': 0.5298871128884187}\n",
      "Epoch 5/20\n"
     ]
    },
    {
     "name": "stderr",
     "output_type": "stream",
     "text": [
      "100%|██████████| 476/476 [04:45<00:00,  1.67it/s]\n"
     ]
    },
    {
     "name": "stdout",
     "output_type": "stream",
     "text": [
      "{'val_loss': 1.3963316650885456, 'val_accuracy': 0.6513002364066194, 'precision': 0.6402445646830262, 'recall': 0.6513002364066194, 'f1-score': 0.6311636845093285, 'macro_f1-score': 0.2938997806549663, 'balanced_accuracy': 0.32180462278244293, 'mcc': 0.5394478312604969}\n",
      "Epoch 6/20\n"
     ]
    },
    {
     "name": "stderr",
     "output_type": "stream",
     "text": [
      "100%|██████████| 476/476 [04:45<00:00,  1.67it/s]\n"
     ]
    },
    {
     "name": "stdout",
     "output_type": "stream",
     "text": [
      "{'val_loss': 1.4645463104517955, 'val_accuracy': 0.6371158392434988, 'precision': 0.6312052516147426, 'recall': 0.6371158392434988, 'f1-score': 0.6233576071054786, 'macro_f1-score': 0.292990179870851, 'balanced_accuracy': 0.3148233535693594, 'mcc': 0.5288109937407683}\n",
      "Epoch 7/20\n"
     ]
    },
    {
     "name": "stderr",
     "output_type": "stream",
     "text": [
      "100%|██████████| 476/476 [04:46<00:00,  1.66it/s]\n"
     ]
    },
    {
     "name": "stdout",
     "output_type": "stream",
     "text": [
      "{'val_loss': 1.5747644951883353, 'val_accuracy': 0.6713947990543735, 'precision': 0.6397513880474602, 'recall': 0.6713947990543735, 'f1-score': 0.6376039368898273, 'macro_f1-score': 0.3385656240916577, 'balanced_accuracy': 0.32621747905726417, 'mcc': 0.5507452664834607}\n",
      "Epoch 8/20\n"
     ]
    },
    {
     "name": "stderr",
     "output_type": "stream",
     "text": [
      "100%|██████████| 476/476 [04:46<00:00,  1.66it/s]\n"
     ]
    },
    {
     "name": "stdout",
     "output_type": "stream",
     "text": [
      "{'val_loss': 1.6037617022136472, 'val_accuracy': 0.6595744680851063, 'precision': 0.640614869228969, 'recall': 0.6595744680851063, 'f1-score': 0.6341615834464206, 'macro_f1-score': 0.3241138250936173, 'balanced_accuracy': 0.31832197378854804, 'mcc': 0.543989279741624}\n",
      "Epoch 9/20\n"
     ]
    },
    {
     "name": "stderr",
     "output_type": "stream",
     "text": [
      "100%|██████████| 476/476 [04:46<00:00,  1.66it/s]\n"
     ]
    },
    {
     "name": "stdout",
     "output_type": "stream",
     "text": [
      "{'val_loss': 1.6271694791766833, 'val_accuracy': 0.6702127659574468, 'precision': 0.6629210519893876, 'recall': 0.6702127659574468, 'f1-score': 0.6557233881874318, 'macro_f1-score': 0.32823220017206256, 'balanced_accuracy': 0.32992971784371883, 'mcc': 0.5640059599184478}\n",
      "Epoch 10/20\n"
     ]
    },
    {
     "name": "stderr",
     "output_type": "stream",
     "text": [
      "100%|██████████| 476/476 [04:46<00:00,  1.66it/s]\n"
     ]
    },
    {
     "name": "stdout",
     "output_type": "stream",
     "text": [
      "{'val_loss': 1.6375810360571124, 'val_accuracy': 0.6643026004728132, 'precision': 0.6558990758619109, 'recall': 0.6643026004728132, 'f1-score': 0.6418541449468715, 'macro_f1-score': 0.333424661762208, 'balanced_accuracy': 0.33188484332818063, 'mcc': 0.5556643244480343}\n",
      "Early stopping triggered at epoch 10\n",
      "Fold 3\n",
      "Training set label distribution: {0: 3576, 1: 28, 2: 126, 3: 27, 4: 231, 5: 131, 6: 106, 7: 35, 8: 76, 9: 73, 10: 80, 11: 193, 12: 217, 13: 32, 14: 26, 15: 28, 16: 23, 17: 260, 18: 104, 19: 51, 20: 16, 21: 40, 22: 87, 23: 180, 24: 18, 25: 57, 26: 96, 27: 55, 28: 14, 29: 14, 30: 17, 31: 90, 32: 41, 33: 36, 34: 33, 35: 13, 36: 32, 37: 24, 38: 6, 39: 116, 40: 13, 41: 10, 42: 166, 43: 18, 44: 22, 45: 10, 46: 61, 47: 595, 48: 227, 49: 78}\n",
      "Validation set label distribution: {0: 398, 1: 3, 2: 14, 3: 3, 4: 26, 5: 14, 6: 12, 7: 4, 8: 9, 9: 8, 10: 8, 11: 22, 12: 24, 13: 4, 14: 3, 15: 3, 16: 2, 17: 29, 18: 12, 19: 5, 20: 2, 21: 4, 22: 10, 23: 20, 24: 2, 25: 6, 26: 11, 27: 6, 28: 1, 29: 2, 30: 2, 31: 10, 32: 4, 33: 4, 34: 4, 35: 2, 36: 3, 37: 3, 38: 1, 39: 13, 40: 1, 41: 1, 42: 18, 43: 2, 44: 3, 45: 1, 46: 7, 47: 66, 48: 25, 49: 9}\n"
     ]
    },
    {
     "name": "stderr",
     "output_type": "stream",
     "text": [
      "Some weights of DebertaForSequenceClassification were not initialized from the model checkpoint at microsoft/deberta-base and are newly initialized: ['classifier.bias', 'classifier.weight', 'pooler.dense.bias', 'pooler.dense.weight']\n",
      "You should probably TRAIN this model on a down-stream task to be able to use it for predictions and inference.\n"
     ]
    },
    {
     "name": "stdout",
     "output_type": "stream",
     "text": [
      "Epoch 1/20\n"
     ]
    },
    {
     "name": "stderr",
     "output_type": "stream",
     "text": [
      "100%|██████████| 476/476 [04:46<00:00,  1.66it/s]\n"
     ]
    },
    {
     "name": "stdout",
     "output_type": "stream",
     "text": [
      "{'val_loss': 1.6056429361397366, 'val_accuracy': 0.5780141843971631, 'precision': 0.4725657036303454, 'recall': 0.5780141843971631, 'f1-score': 0.49257965969235773, 'macro_f1-score': 0.1065205021130199, 'balanced_accuracy': 0.11459958395827397, 'mcc': 0.39931357474349755}\n",
      "Epoch 2/20\n"
     ]
    },
    {
     "name": "stderr",
     "output_type": "stream",
     "text": [
      "100%|██████████| 476/476 [04:47<00:00,  1.65it/s]\n"
     ]
    },
    {
     "name": "stdout",
     "output_type": "stream",
     "text": [
      "{'val_loss': 1.303412838926855, 'val_accuracy': 0.6536643026004728, 'precision': 0.6006020696513827, 'recall': 0.6536643026004728, 'f1-score': 0.6056804489816938, 'macro_f1-score': 0.1935265726913621, 'balanced_accuracy': 0.20753968997174685, 'mcc': 0.5314424187123528}\n",
      "Epoch 3/20\n"
     ]
    },
    {
     "name": "stderr",
     "output_type": "stream",
     "text": [
      "100%|██████████| 476/476 [04:48<00:00,  1.65it/s]\n"
     ]
    },
    {
     "name": "stdout",
     "output_type": "stream",
     "text": [
      "{'val_loss': 1.2524037265552665, 'val_accuracy': 0.6631205673758865, 'precision': 0.6330554341605114, 'recall': 0.6631205673758865, 'f1-score': 0.6278040697162738, 'macro_f1-score': 0.24440549520908486, 'balanced_accuracy': 0.25035093714502826, 'mcc': 0.539121660313165}\n",
      "Epoch 4/20\n"
     ]
    },
    {
     "name": "stderr",
     "output_type": "stream",
     "text": [
      "100%|██████████| 476/476 [04:47<00:00,  1.66it/s]\n"
     ]
    },
    {
     "name": "stdout",
     "output_type": "stream",
     "text": [
      "{'val_loss': 1.229307841017561, 'val_accuracy': 0.6737588652482269, 'precision': 0.6492525631225805, 'recall': 0.6737588652482269, 'f1-score': 0.6501889471524146, 'macro_f1-score': 0.3314044307579521, 'balanced_accuracy': 0.3344300649561262, 'mcc': 0.5665443946906299}\n",
      "Epoch 5/20\n"
     ]
    },
    {
     "name": "stderr",
     "output_type": "stream",
     "text": [
      "100%|██████████| 476/476 [04:48<00:00,  1.65it/s]\n"
     ]
    },
    {
     "name": "stdout",
     "output_type": "stream",
     "text": [
      "{'val_loss': 1.399021348863278, 'val_accuracy': 0.6725768321513003, 'precision': 0.6526983840184845, 'recall': 0.6725768321513003, 'f1-score': 0.6509155170719086, 'macro_f1-score': 0.3340339774457772, 'balanced_accuracy': 0.3287355414219389, 'mcc': 0.5610343426508546}\n",
      "Epoch 6/20\n"
     ]
    },
    {
     "name": "stderr",
     "output_type": "stream",
     "text": [
      "100%|██████████| 476/476 [04:47<00:00,  1.65it/s]\n"
     ]
    },
    {
     "name": "stdout",
     "output_type": "stream",
     "text": [
      "{'val_loss': 1.4443081802916977, 'val_accuracy': 0.6773049645390071, 'precision': 0.657622544394994, 'recall': 0.6773049645390071, 'f1-score': 0.6517592830954325, 'macro_f1-score': 0.3593264867513277, 'balanced_accuracy': 0.34301345069378336, 'mcc': 0.56379751230056}\n",
      "Epoch 7/20\n"
     ]
    },
    {
     "name": "stderr",
     "output_type": "stream",
     "text": [
      "100%|██████████| 476/476 [04:47<00:00,  1.66it/s]\n"
     ]
    },
    {
     "name": "stdout",
     "output_type": "stream",
     "text": [
      "{'val_loss': 1.5221424423298746, 'val_accuracy': 0.6773049645390071, 'precision': 0.6627001341038729, 'recall': 0.6773049645390071, 'f1-score': 0.6533371708664776, 'macro_f1-score': 0.3713276454830776, 'balanced_accuracy': 0.3489976568840196, 'mcc': 0.56588337492672}\n",
      "Epoch 8/20\n"
     ]
    },
    {
     "name": "stderr",
     "output_type": "stream",
     "text": [
      "100%|██████████| 476/476 [04:48<00:00,  1.65it/s]\n"
     ]
    },
    {
     "name": "stdout",
     "output_type": "stream",
     "text": [
      "{'val_loss': 1.5902326073286668, 'val_accuracy': 0.6784869976359338, 'precision': 0.6762518676538725, 'recall': 0.6784869976359338, 'f1-score': 0.6648756705959837, 'macro_f1-score': 0.3752417891005087, 'balanced_accuracy': 0.3725243883323591, 'mcc': 0.5746474834614714}\n",
      "Epoch 9/20\n"
     ]
    },
    {
     "name": "stderr",
     "output_type": "stream",
     "text": [
      "100%|██████████| 476/476 [04:47<00:00,  1.65it/s]\n"
     ]
    },
    {
     "name": "stdout",
     "output_type": "stream",
     "text": [
      "{'val_loss': 1.7736181914806366, 'val_accuracy': 0.6430260047281324, 'precision': 0.6856388689558408, 'recall': 0.6430260047281324, 'f1-score': 0.6488922925560754, 'macro_f1-score': 0.399304387136072, 'balanced_accuracy': 0.41437282761713534, 'mcc': 0.5440981947087695}\n",
      "Epoch 10/20\n"
     ]
    },
    {
     "name": "stderr",
     "output_type": "stream",
     "text": [
      "100%|██████████| 476/476 [04:48<00:00,  1.65it/s]\n"
     ]
    },
    {
     "name": "stdout",
     "output_type": "stream",
     "text": [
      "{'val_loss': 1.8323542307007987, 'val_accuracy': 0.6607565011820331, 'precision': 0.6907836088944601, 'recall': 0.6607565011820331, 'f1-score': 0.6468319956147889, 'macro_f1-score': 0.38314065754307164, 'balanced_accuracy': 0.3776613620865743, 'mcc': 0.549388720809598}\n",
      "Epoch 11/20\n"
     ]
    },
    {
     "name": "stderr",
     "output_type": "stream",
     "text": [
      "100%|██████████| 476/476 [04:48<00:00,  1.65it/s]\n"
     ]
    },
    {
     "name": "stdout",
     "output_type": "stream",
     "text": [
      "{'val_loss': 1.8066914863181565, 'val_accuracy': 0.682033096926714, 'precision': 0.6809455675219142, 'recall': 0.682033096926714, 'f1-score': 0.6625906773564229, 'macro_f1-score': 0.4040361308748036, 'balanced_accuracy': 0.3876340859971773, 'mcc': 0.5691977563841917}\n",
      "Epoch 12/20\n"
     ]
    },
    {
     "name": "stderr",
     "output_type": "stream",
     "text": [
      "100%|██████████| 476/476 [04:47<00:00,  1.65it/s]\n"
     ]
    },
    {
     "name": "stdout",
     "output_type": "stream",
     "text": [
      "{'val_loss': 1.7454975264252357, 'val_accuracy': 0.6690307328605201, 'precision': 0.6592797008736847, 'recall': 0.6690307328605201, 'f1-score': 0.6519717015658661, 'macro_f1-score': 0.3795986048922109, 'balanced_accuracy': 0.36823124194006196, 'mcc': 0.5569863606759524}\n",
      "Epoch 13/20\n"
     ]
    },
    {
     "name": "stderr",
     "output_type": "stream",
     "text": [
      "100%|██████████| 476/476 [04:48<00:00,  1.65it/s]\n"
     ]
    },
    {
     "name": "stdout",
     "output_type": "stream",
     "text": [
      "{'val_loss': 1.8998872755833391, 'val_accuracy': 0.6855791962174941, 'precision': 0.6634440874840152, 'recall': 0.6855791962174941, 'f1-score': 0.6614244215858657, 'macro_f1-score': 0.36626949678030896, 'balanced_accuracy': 0.34345176135018446, 'mcc': 0.5716259964117232}\n",
      "Epoch 14/20\n"
     ]
    },
    {
     "name": "stderr",
     "output_type": "stream",
     "text": [
      "100%|██████████| 476/476 [04:48<00:00,  1.65it/s]\n"
     ]
    },
    {
     "name": "stdout",
     "output_type": "stream",
     "text": [
      "{'val_loss': 1.9193685830764051, 'val_accuracy': 0.6607565011820331, 'precision': 0.6736510997820965, 'recall': 0.6607565011820331, 'f1-score': 0.6535858236369412, 'macro_f1-score': 0.4022937105664588, 'balanced_accuracy': 0.4009944852775211, 'mcc': 0.5545337727088502}\n",
      "Early stopping triggered at epoch 14\n",
      "Fold 4\n",
      "Training set label distribution: {0: 3576, 1: 28, 2: 126, 3: 27, 4: 231, 5: 131, 6: 106, 7: 35, 8: 77, 9: 72, 10: 80, 11: 193, 12: 217, 13: 32, 14: 27, 15: 27, 16: 23, 17: 260, 18: 104, 19: 51, 20: 16, 21: 40, 22: 87, 23: 180, 24: 18, 25: 57, 26: 96, 27: 55, 28: 14, 29: 14, 30: 17, 31: 90, 32: 41, 33: 36, 34: 33, 35: 13, 36: 32, 37: 24, 38: 6, 39: 116, 40: 13, 41: 10, 42: 166, 43: 18, 44: 23, 45: 9, 46: 61, 47: 595, 48: 227, 49: 78}\n",
      "Validation set label distribution: {0: 398, 1: 3, 2: 14, 3: 3, 4: 26, 5: 14, 6: 12, 7: 4, 8: 8, 9: 9, 10: 8, 11: 22, 12: 24, 13: 4, 14: 2, 15: 4, 16: 2, 17: 29, 18: 12, 19: 5, 20: 2, 21: 4, 22: 10, 23: 20, 24: 2, 25: 6, 26: 11, 27: 6, 28: 1, 29: 2, 30: 2, 31: 10, 32: 4, 33: 4, 34: 4, 35: 2, 36: 3, 37: 3, 38: 1, 39: 13, 40: 1, 41: 1, 42: 18, 43: 2, 44: 2, 45: 2, 46: 7, 47: 66, 48: 25, 49: 9}\n"
     ]
    },
    {
     "name": "stderr",
     "output_type": "stream",
     "text": [
      "Some weights of DebertaForSequenceClassification were not initialized from the model checkpoint at microsoft/deberta-base and are newly initialized: ['classifier.bias', 'classifier.weight', 'pooler.dense.bias', 'pooler.dense.weight']\n",
      "You should probably TRAIN this model on a down-stream task to be able to use it for predictions and inference.\n"
     ]
    },
    {
     "name": "stdout",
     "output_type": "stream",
     "text": [
      "Epoch 1/20\n"
     ]
    },
    {
     "name": "stderr",
     "output_type": "stream",
     "text": [
      "100%|██████████| 476/476 [04:47<00:00,  1.65it/s]\n"
     ]
    },
    {
     "name": "stdout",
     "output_type": "stream",
     "text": [
      "{'val_loss': 1.8289823487119854, 'val_accuracy': 0.5685579196217494, 'precision': 0.38707680540573575, 'recall': 0.5685579196217494, 'f1-score': 0.4420859496463657, 'macro_f1-score': 0.058933410928809965, 'balanced_accuracy': 0.07261296348196365, 'mcc': 0.3563291575161043}\n",
      "Epoch 2/20\n"
     ]
    },
    {
     "name": "stderr",
     "output_type": "stream",
     "text": [
      "100%|██████████| 476/476 [04:47<00:00,  1.65it/s]\n"
     ]
    },
    {
     "name": "stdout",
     "output_type": "stream",
     "text": [
      "{'val_loss': 1.4089674977761395, 'val_accuracy': 0.6264775413711584, 'precision': 0.5583909656288233, 'recall': 0.6264775413711584, 'f1-score': 0.5748263764982191, 'macro_f1-score': 0.16957688595117468, 'balanced_accuracy': 0.1852296582410254, 'mcc': 0.48789790269388705}\n",
      "Epoch 3/20\n"
     ]
    },
    {
     "name": "stderr",
     "output_type": "stream",
     "text": [
      "100%|██████████| 476/476 [04:47<00:00,  1.65it/s]\n"
     ]
    },
    {
     "name": "stdout",
     "output_type": "stream",
     "text": [
      "{'val_loss': 1.3564120126220416, 'val_accuracy': 0.6371158392434988, 'precision': 0.5820484419902547, 'recall': 0.6371158392434988, 'f1-score': 0.5933229869930243, 'macro_f1-score': 0.2249937668389924, 'balanced_accuracy': 0.2415082544075613, 'mcc': 0.5085654353183862}\n",
      "Epoch 4/20\n"
     ]
    },
    {
     "name": "stderr",
     "output_type": "stream",
     "text": [
      "100%|██████████| 476/476 [04:47<00:00,  1.66it/s]\n"
     ]
    },
    {
     "name": "stdout",
     "output_type": "stream",
     "text": [
      "{'val_loss': 1.3640191285115368, 'val_accuracy': 0.6288416075650118, 'precision': 0.6088170239565801, 'recall': 0.6288416075650118, 'f1-score': 0.597045021635472, 'macro_f1-score': 0.26112128192868495, 'balanced_accuracy': 0.2598864127651166, 'mcc': 0.5037877692995677}\n",
      "Epoch 5/20\n"
     ]
    },
    {
     "name": "stderr",
     "output_type": "stream",
     "text": [
      "100%|██████████| 476/476 [04:48<00:00,  1.65it/s]\n"
     ]
    },
    {
     "name": "stdout",
     "output_type": "stream",
     "text": [
      "{'val_loss': 1.3741229682598475, 'val_accuracy': 0.6619385342789598, 'precision': 0.6375533475636282, 'recall': 0.6619385342789598, 'f1-score': 0.6319017868807385, 'macro_f1-score': 0.3175934124946062, 'balanced_accuracy': 0.3179280895619138, 'mcc': 0.5447676664771618}\n",
      "Epoch 6/20\n"
     ]
    },
    {
     "name": "stderr",
     "output_type": "stream",
     "text": [
      "100%|██████████| 476/476 [04:47<00:00,  1.66it/s]\n"
     ]
    },
    {
     "name": "stdout",
     "output_type": "stream",
     "text": [
      "{'val_loss': 1.3800711777974974, 'val_accuracy': 0.6631205673758865, 'precision': 0.6640117136540453, 'recall': 0.6631205673758865, 'f1-score': 0.6468382641540832, 'macro_f1-score': 0.3802677159865947, 'balanced_accuracy': 0.3900059755027698, 'mcc': 0.5549916080200834}\n",
      "Epoch 7/20\n"
     ]
    },
    {
     "name": "stderr",
     "output_type": "stream",
     "text": [
      "100%|██████████| 476/476 [04:47<00:00,  1.66it/s]\n"
     ]
    },
    {
     "name": "stdout",
     "output_type": "stream",
     "text": [
      "{'val_loss': 1.5193686873283025, 'val_accuracy': 0.6678486997635934, 'precision': 0.668504397033388, 'recall': 0.6678486997635934, 'f1-score': 0.6496297202473292, 'macro_f1-score': 0.3682528029118341, 'balanced_accuracy': 0.3622767960278616, 'mcc': 0.5577538874148606}\n",
      "Epoch 8/20\n"
     ]
    },
    {
     "name": "stderr",
     "output_type": "stream",
     "text": [
      "100%|██████████| 476/476 [04:47<00:00,  1.66it/s]\n"
     ]
    },
    {
     "name": "stdout",
     "output_type": "stream",
     "text": [
      "{'val_loss': 1.6038935803017527, 'val_accuracy': 0.6843971631205674, 'precision': 0.6697078063969422, 'recall': 0.6843971631205674, 'f1-score': 0.6664572458743652, 'macro_f1-score': 0.4032456327686086, 'balanced_accuracy': 0.39363297657886115, 'mcc': 0.5799223696994952}\n",
      "Epoch 9/20\n"
     ]
    },
    {
     "name": "stderr",
     "output_type": "stream",
     "text": [
      "100%|██████████| 476/476 [04:46<00:00,  1.66it/s]\n"
     ]
    },
    {
     "name": "stdout",
     "output_type": "stream",
     "text": [
      "{'val_loss': 1.4942348352018393, 'val_accuracy': 0.6702127659574468, 'precision': 0.6924036969308193, 'recall': 0.6702127659574468, 'f1-score': 0.6634711467407207, 'macro_f1-score': 0.42536803978816834, 'balanced_accuracy': 0.440956099575351, 'mcc': 0.5704572543533654}\n",
      "Epoch 10/20\n"
     ]
    },
    {
     "name": "stderr",
     "output_type": "stream",
     "text": [
      "100%|██████████| 476/476 [04:47<00:00,  1.66it/s]\n"
     ]
    },
    {
     "name": "stdout",
     "output_type": "stream",
     "text": [
      "{'val_loss': 1.5881604990869198, 'val_accuracy': 0.6572104018912529, 'precision': 0.665398292773603, 'recall': 0.6572104018912529, 'f1-score': 0.6372965907767661, 'macro_f1-score': 0.37750562687923106, 'balanced_accuracy': 0.40341865114996284, 'mcc': 0.5501803152470324}\n",
      "Epoch 11/20\n"
     ]
    },
    {
     "name": "stderr",
     "output_type": "stream",
     "text": [
      "100%|██████████| 476/476 [04:47<00:00,  1.66it/s]\n"
     ]
    },
    {
     "name": "stdout",
     "output_type": "stream",
     "text": [
      "{'val_loss': 2.1941182973249904, 'val_accuracy': 0.5425531914893617, 'precision': 0.472926731078905, 'recall': 0.5425531914893617, 'f1-score': 0.4535090324984485, 'macro_f1-score': 0.14982936112727666, 'balanced_accuracy': 0.15002637733855892, 'mcc': 0.3168542365480245}\n",
      "Epoch 12/20\n"
     ]
    },
    {
     "name": "stderr",
     "output_type": "stream",
     "text": [
      "100%|██████████| 476/476 [04:48<00:00,  1.65it/s]\n"
     ]
    },
    {
     "name": "stdout",
     "output_type": "stream",
     "text": [
      "{'val_loss': 1.7272633567171276, 'val_accuracy': 0.6229314420803782, 'precision': 0.5944142152042611, 'recall': 0.6229314420803782, 'f1-score': 0.5943963115134917, 'macro_f1-score': 0.29412666567233064, 'balanced_accuracy': 0.2810388381002313, 'mcc': 0.4888668030307212}\n",
      "Early stopping triggered at epoch 12\n",
      "Fold 5\n",
      "Training set label distribution: {0: 3577, 1: 27, 2: 126, 3: 27, 4: 231, 5: 131, 6: 106, 7: 35, 8: 77, 9: 73, 10: 79, 11: 193, 12: 217, 13: 33, 14: 26, 15: 28, 16: 22, 17: 260, 18: 105, 19: 50, 20: 16, 21: 40, 22: 87, 23: 180, 24: 18, 25: 57, 26: 96, 27: 55, 28: 14, 29: 14, 30: 17, 31: 90, 32: 41, 33: 36, 34: 33, 35: 14, 36: 31, 37: 24, 38: 6, 39: 117, 40: 13, 41: 10, 42: 165, 43: 18, 44: 23, 45: 10, 46: 61, 47: 595, 48: 227, 49: 78}\n",
      "Validation set label distribution: {0: 397, 1: 4, 2: 14, 3: 3, 4: 26, 5: 14, 6: 12, 7: 4, 8: 8, 9: 8, 10: 9, 11: 22, 12: 24, 13: 3, 14: 3, 15: 3, 16: 3, 17: 29, 18: 11, 19: 6, 20: 2, 21: 4, 22: 10, 23: 20, 24: 2, 25: 6, 26: 11, 27: 6, 28: 1, 29: 2, 30: 2, 31: 10, 32: 4, 33: 4, 34: 4, 35: 1, 36: 4, 37: 3, 38: 1, 39: 12, 40: 1, 41: 1, 42: 19, 43: 2, 44: 2, 45: 1, 46: 7, 47: 66, 48: 25, 49: 9}\n"
     ]
    },
    {
     "name": "stderr",
     "output_type": "stream",
     "text": [
      "Some weights of DebertaForSequenceClassification were not initialized from the model checkpoint at microsoft/deberta-base and are newly initialized: ['classifier.bias', 'classifier.weight', 'pooler.dense.bias', 'pooler.dense.weight']\n",
      "You should probably TRAIN this model on a down-stream task to be able to use it for predictions and inference.\n"
     ]
    },
    {
     "name": "stdout",
     "output_type": "stream",
     "text": [
      "Epoch 1/20\n"
     ]
    },
    {
     "name": "stderr",
     "output_type": "stream",
     "text": [
      "100%|██████████| 476/476 [04:48<00:00,  1.65it/s]\n"
     ]
    },
    {
     "name": "stdout",
     "output_type": "stream",
     "text": [
      "{'val_loss': 1.998148819185653, 'val_accuracy': 0.5360946745562131, 'precision': 0.3024770898299046, 'recall': 0.5360946745562131, 'f1-score': 0.3840252361213081, 'macro_f1-score': 0.028524592064458166, 'balanced_accuracy': 0.038407402840652215, 'mcc': 0.28284499882305875}\n",
      "Epoch 2/20\n"
     ]
    },
    {
     "name": "stderr",
     "output_type": "stream",
     "text": [
      "100%|██████████| 476/476 [04:48<00:00,  1.65it/s]\n"
     ]
    },
    {
     "name": "stdout",
     "output_type": "stream",
     "text": [
      "{'val_loss': 2.0548148470104866, 'val_accuracy': 0.5349112426035503, 'precision': 0.2932472578016278, 'recall': 0.5349112426035503, 'f1-score': 0.37881385359215836, 'macro_f1-score': 0.02600734783040413, 'balanced_accuracy': 0.036919319135943825, 'mcc': 0.2798931331646801}\n",
      "Epoch 3/20\n"
     ]
    },
    {
     "name": "stderr",
     "output_type": "stream",
     "text": [
      "100%|██████████| 476/476 [04:47<00:00,  1.66it/s]\n"
     ]
    },
    {
     "name": "stdout",
     "output_type": "stream",
     "text": [
      "{'val_loss': 2.4684049385898517, 'val_accuracy': 0.4863905325443787, 'precision': 0.29005816990190536, 'recall': 0.4863905325443787, 'f1-score': 0.33189796628710655, 'macro_f1-score': 0.02008403361344538, 'balanced_accuracy': 0.024495076711701397, 'mcc': 0.1394744945253906}\n",
      "Epoch 4/20\n"
     ]
    },
    {
     "name": "stderr",
     "output_type": "stream",
     "text": [
      "100%|██████████| 476/476 [04:47<00:00,  1.66it/s]\n"
     ]
    },
    {
     "name": "stdout",
     "output_type": "stream",
     "text": [
      "{'val_loss': 2.2325681616675177, 'val_accuracy': 0.5349112426035503, 'precision': 0.2933940828402367, 'recall': 0.5349112426035503, 'f1-score': 0.3789245860904491, 'macro_f1-score': 0.025908590230938326, 'balanced_accuracy': 0.036919319135943825, 'mcc': 0.2801413349204593}\n",
      "Early stopping triggered at epoch 4\n",
      "Fold 6\n",
      "Training set label distribution: {0: 3577, 1: 28, 2: 126, 3: 27, 4: 231, 5: 131, 6: 106, 7: 35, 8: 77, 9: 73, 10: 79, 11: 193, 12: 217, 13: 33, 14: 26, 15: 28, 16: 22, 17: 260, 18: 105, 19: 50, 20: 16, 21: 40, 22: 87, 23: 180, 24: 18, 25: 57, 26: 96, 27: 55, 28: 14, 29: 14, 30: 17, 31: 90, 32: 41, 33: 36, 34: 33, 35: 14, 36: 31, 37: 24, 38: 6, 39: 116, 40: 13, 41: 10, 42: 165, 43: 18, 44: 23, 45: 10, 46: 61, 47: 595, 48: 227, 49: 78}\n",
      "Validation set label distribution: {0: 397, 1: 3, 2: 14, 3: 3, 4: 26, 5: 14, 6: 12, 7: 4, 8: 8, 9: 8, 10: 9, 11: 22, 12: 24, 13: 3, 14: 3, 15: 3, 16: 3, 17: 29, 18: 11, 19: 6, 20: 2, 21: 4, 22: 10, 23: 20, 24: 2, 25: 6, 26: 11, 27: 6, 28: 1, 29: 2, 30: 2, 31: 10, 32: 4, 33: 4, 34: 4, 35: 1, 36: 4, 37: 3, 38: 1, 39: 13, 40: 1, 41: 1, 42: 19, 43: 2, 44: 2, 45: 1, 46: 7, 47: 66, 48: 25, 49: 9}\n"
     ]
    },
    {
     "name": "stderr",
     "output_type": "stream",
     "text": [
      "Some weights of DebertaForSequenceClassification were not initialized from the model checkpoint at microsoft/deberta-base and are newly initialized: ['classifier.bias', 'classifier.weight', 'pooler.dense.bias', 'pooler.dense.weight']\n",
      "You should probably TRAIN this model on a down-stream task to be able to use it for predictions and inference.\n"
     ]
    },
    {
     "name": "stdout",
     "output_type": "stream",
     "text": [
      "Epoch 1/20\n"
     ]
    },
    {
     "name": "stderr",
     "output_type": "stream",
     "text": [
      "100%|██████████| 476/476 [04:47<00:00,  1.66it/s]\n"
     ]
    },
    {
     "name": "stdout",
     "output_type": "stream",
     "text": [
      "{'val_loss': 1.5223477359087962, 'val_accuracy': 0.6165680473372781, 'precision': 0.46710204147920686, 'recall': 0.6165680473372781, 'f1-score': 0.5195386189210565, 'macro_f1-score': 0.11582552422901102, 'balanced_accuracy': 0.13643462183608104, 'mcc': 0.4609383840184844}\n",
      "Epoch 2/20\n"
     ]
    },
    {
     "name": "stderr",
     "output_type": "stream",
     "text": [
      "100%|██████████| 476/476 [04:47<00:00,  1.65it/s]\n"
     ]
    },
    {
     "name": "stdout",
     "output_type": "stream",
     "text": [
      "{'val_loss': 1.3777062381213565, 'val_accuracy': 0.6449704142011834, 'precision': 0.5523994275817727, 'recall': 0.6449704142011834, 'f1-score': 0.5747392085850802, 'macro_f1-score': 0.1750175493354741, 'balanced_accuracy': 0.16960071587665568, 'mcc': 0.5020190523107784}\n",
      "Epoch 3/20\n"
     ]
    },
    {
     "name": "stderr",
     "output_type": "stream",
     "text": [
      "100%|██████████| 476/476 [04:47<00:00,  1.66it/s]\n"
     ]
    },
    {
     "name": "stdout",
     "output_type": "stream",
     "text": [
      "{'val_loss': 1.220757081261221, 'val_accuracy': 0.6544378698224852, 'precision': 0.6282121523958784, 'recall': 0.6544378698224852, 'f1-score': 0.6291206888702631, 'macro_f1-score': 0.28746409778746346, 'balanced_accuracy': 0.3069143673307547, 'mcc': 0.5397085696094857}\n",
      "Epoch 4/20\n"
     ]
    },
    {
     "name": "stderr",
     "output_type": "stream",
     "text": [
      "100%|██████████| 476/476 [04:47<00:00,  1.66it/s]\n"
     ]
    },
    {
     "name": "stdout",
     "output_type": "stream",
     "text": [
      "{'val_loss': 1.3032599226483759, 'val_accuracy': 0.6485207100591716, 'precision': 0.6223835646818767, 'recall': 0.6485207100591716, 'f1-score': 0.6189549472290724, 'macro_f1-score': 0.2930879794825906, 'balanced_accuracy': 0.28684818610703633, 'mcc': 0.5234732857189125}\n",
      "Epoch 5/20\n"
     ]
    },
    {
     "name": "stderr",
     "output_type": "stream",
     "text": [
      "100%|██████████| 476/476 [04:46<00:00,  1.66it/s]\n"
     ]
    },
    {
     "name": "stdout",
     "output_type": "stream",
     "text": [
      "{'val_loss': 1.311269926574995, 'val_accuracy': 0.6568047337278107, 'precision': 0.6421671981503235, 'recall': 0.6568047337278107, 'f1-score': 0.6386372241434367, 'macro_f1-score': 0.3070902544543192, 'balanced_accuracy': 0.3088467152192936, 'mcc': 0.5478483888210197}\n",
      "Epoch 6/20\n"
     ]
    },
    {
     "name": "stderr",
     "output_type": "stream",
     "text": [
      "100%|██████████| 476/476 [04:48<00:00,  1.65it/s]\n"
     ]
    },
    {
     "name": "stdout",
     "output_type": "stream",
     "text": [
      "{'val_loss': 1.4047722664644133, 'val_accuracy': 0.6710059171597633, 'precision': 0.6322436213853043, 'recall': 0.6710059171597633, 'f1-score': 0.6355892217952183, 'macro_f1-score': 0.28030946499936893, 'balanced_accuracy': 0.2726252754026004, 'mcc': 0.5502903047160177}\n",
      "Epoch 7/20\n"
     ]
    },
    {
     "name": "stderr",
     "output_type": "stream",
     "text": [
      "100%|██████████| 476/476 [04:48<00:00,  1.65it/s]\n"
     ]
    },
    {
     "name": "stdout",
     "output_type": "stream",
     "text": [
      "{'val_loss': 1.384551964840799, 'val_accuracy': 0.676923076923077, 'precision': 0.6596406471902405, 'recall': 0.676923076923077, 'f1-score': 0.6578489111804823, 'macro_f1-score': 0.34913808638606203, 'balanced_accuracy': 0.3408710076870303, 'mcc': 0.5686161147920078}\n",
      "Epoch 8/20\n"
     ]
    },
    {
     "name": "stderr",
     "output_type": "stream",
     "text": [
      "100%|██████████| 476/476 [04:46<00:00,  1.66it/s]\n"
     ]
    },
    {
     "name": "stdout",
     "output_type": "stream",
     "text": [
      "{'val_loss': 1.4161377121817391, 'val_accuracy': 0.6828402366863905, 'precision': 0.672826556313538, 'recall': 0.6828402366863905, 'f1-score': 0.6636755717492314, 'macro_f1-score': 0.3488306194409663, 'balanced_accuracy': 0.3443931257784047, 'mcc': 0.577984724572701}\n",
      "Epoch 9/20\n"
     ]
    },
    {
     "name": "stderr",
     "output_type": "stream",
     "text": [
      "100%|██████████| 476/476 [04:46<00:00,  1.66it/s]\n"
     ]
    },
    {
     "name": "stdout",
     "output_type": "stream",
     "text": [
      "{'val_loss': 1.5610963106155396, 'val_accuracy': 0.6710059171597633, 'precision': 0.6702131428518965, 'recall': 0.6710059171597633, 'f1-score': 0.6574738526301857, 'macro_f1-score': 0.3509767288893142, 'balanced_accuracy': 0.3667165032037839, 'mcc': 0.5701948924095721}\n",
      "Epoch 10/20\n"
     ]
    },
    {
     "name": "stderr",
     "output_type": "stream",
     "text": [
      "100%|██████████| 476/476 [04:47<00:00,  1.66it/s]\n"
     ]
    },
    {
     "name": "stdout",
     "output_type": "stream",
     "text": [
      "{'val_loss': 1.6223800615319666, 'val_accuracy': 0.6781065088757396, 'precision': 0.6715525437737351, 'recall': 0.6781065088757396, 'f1-score': 0.6629565905182749, 'macro_f1-score': 0.36063744818671656, 'balanced_accuracy': 0.3581310604997147, 'mcc': 0.5706813132605568}\n",
      "Epoch 11/20\n"
     ]
    },
    {
     "name": "stderr",
     "output_type": "stream",
     "text": [
      "100%|██████████| 476/476 [04:47<00:00,  1.65it/s]\n"
     ]
    },
    {
     "name": "stdout",
     "output_type": "stream",
     "text": [
      "{'val_loss': 1.6189231270889066, 'val_accuracy': 0.6568047337278107, 'precision': 0.667067955580585, 'recall': 0.6568047337278107, 'f1-score': 0.6532777179473949, 'macro_f1-score': 0.3423936749446075, 'balanced_accuracy': 0.36961390743168004, 'mcc': 0.5560791371358024}\n",
      "Epoch 12/20\n"
     ]
    },
    {
     "name": "stderr",
     "output_type": "stream",
     "text": [
      "100%|██████████| 476/476 [04:48<00:00,  1.65it/s]\n"
     ]
    },
    {
     "name": "stdout",
     "output_type": "stream",
     "text": [
      "{'val_loss': 1.6029692623975142, 'val_accuracy': 0.6875739644970414, 'precision': 0.6542423766286586, 'recall': 0.6875739644970414, 'f1-score': 0.6580795214042896, 'macro_f1-score': 0.35989770371521557, 'balanced_accuracy': 0.3579172943523343, 'mcc': 0.578038817712878}\n",
      "Epoch 13/20\n"
     ]
    },
    {
     "name": "stderr",
     "output_type": "stream",
     "text": [
      "100%|██████████| 476/476 [04:47<00:00,  1.65it/s]\n"
     ]
    },
    {
     "name": "stdout",
     "output_type": "stream",
     "text": [
      "{'val_loss': 1.6605369645469594, 'val_accuracy': 0.6899408284023668, 'precision': 0.6698218630855565, 'recall': 0.6899408284023668, 'f1-score': 0.6660816533441634, 'macro_f1-score': 0.3892786999353726, 'balanced_accuracy': 0.3785484013173074, 'mcc': 0.5814815825796124}\n",
      "Epoch 14/20\n"
     ]
    },
    {
     "name": "stderr",
     "output_type": "stream",
     "text": [
      "100%|██████████| 476/476 [04:46<00:00,  1.66it/s]\n"
     ]
    },
    {
     "name": "stdout",
     "output_type": "stream",
     "text": [
      "{'val_loss': 1.8986367650751799, 'val_accuracy': 0.6710059171597633, 'precision': 0.6832515949304154, 'recall': 0.6710059171597633, 'f1-score': 0.6566318173631174, 'macro_f1-score': 0.36349498634260935, 'balanced_accuracy': 0.37280111945971767, 'mcc': 0.56161409792341}\n",
      "Epoch 15/20\n"
     ]
    },
    {
     "name": "stderr",
     "output_type": "stream",
     "text": [
      "100%|██████████| 476/476 [04:48<00:00,  1.65it/s]\n"
     ]
    },
    {
     "name": "stdout",
     "output_type": "stream",
     "text": [
      "{'val_loss': 1.7358238235959467, 'val_accuracy': 0.6828402366863905, 'precision': 0.6814462856129971, 'recall': 0.6828402366863905, 'f1-score': 0.6691886024222138, 'macro_f1-score': 0.37849998024844206, 'balanced_accuracy': 0.3782068047579657, 'mcc': 0.5822721057261114}\n",
      "Epoch 16/20\n"
     ]
    },
    {
     "name": "stderr",
     "output_type": "stream",
     "text": [
      "100%|██████████| 476/476 [04:46<00:00,  1.66it/s]\n"
     ]
    },
    {
     "name": "stdout",
     "output_type": "stream",
     "text": [
      "{'val_loss': 1.746452826373982, 'val_accuracy': 0.6840236686390533, 'precision': 0.6876223362136318, 'recall': 0.6840236686390533, 'f1-score': 0.6766958102260147, 'macro_f1-score': 0.4151720863727054, 'balanced_accuracy': 0.424011273386974, 'mcc': 0.5873884097090727}\n",
      "Epoch 17/20\n"
     ]
    },
    {
     "name": "stderr",
     "output_type": "stream",
     "text": [
      "100%|██████████| 476/476 [04:47<00:00,  1.66it/s]\n"
     ]
    },
    {
     "name": "stdout",
     "output_type": "stream",
     "text": [
      "{'val_loss': 1.8132251456098736, 'val_accuracy': 0.6674556213017752, 'precision': 0.6446896636259096, 'recall': 0.6674556213017752, 'f1-score': 0.6372209569193557, 'macro_f1-score': 0.33900513692530276, 'balanced_accuracy': 0.3307539162291392, 'mcc': 0.5472563454420345}\n",
      "Epoch 18/20\n"
     ]
    },
    {
     "name": "stderr",
     "output_type": "stream",
     "text": [
      "100%|██████████| 476/476 [04:46<00:00,  1.66it/s]\n"
     ]
    },
    {
     "name": "stdout",
     "output_type": "stream",
     "text": [
      "{'val_loss': 1.899144671997934, 'val_accuracy': 0.650887573964497, 'precision': 0.6914874266109908, 'recall': 0.650887573964497, 'f1-score': 0.6575927991794976, 'macro_f1-score': 0.3958106359801933, 'balanced_accuracy': 0.4449490464557556, 'mcc': 0.5633577856453186}\n",
      "Epoch 19/20\n"
     ]
    },
    {
     "name": "stderr",
     "output_type": "stream",
     "text": [
      "100%|██████████| 476/476 [04:47<00:00,  1.66it/s]\n"
     ]
    },
    {
     "name": "stdout",
     "output_type": "stream",
     "text": [
      "{'val_loss': 1.877782385866597, 'val_accuracy': 0.6911242603550296, 'precision': 0.6654634905747894, 'recall': 0.6911242603550296, 'f1-score': 0.6624781230152156, 'macro_f1-score': 0.4016308703818463, 'balanced_accuracy': 0.3774853277723438, 'mcc': 0.5797313685043457}\n",
      "Early stopping triggered at epoch 19\n",
      "Fold 7\n",
      "Training set label distribution: {0: 3577, 1: 28, 2: 126, 3: 27, 4: 232, 5: 130, 6: 106, 7: 35, 8: 77, 9: 73, 10: 79, 11: 193, 12: 217, 13: 33, 14: 26, 15: 28, 16: 22, 17: 260, 18: 105, 19: 50, 20: 16, 21: 40, 22: 87, 23: 180, 24: 18, 25: 57, 26: 96, 27: 55, 28: 14, 29: 14, 30: 17, 31: 90, 32: 41, 33: 36, 34: 33, 35: 14, 36: 31, 37: 25, 38: 6, 39: 116, 40: 12, 41: 10, 42: 165, 43: 18, 44: 23, 45: 10, 46: 62, 47: 594, 48: 227, 49: 78}\n",
      "Validation set label distribution: {0: 397, 1: 3, 2: 14, 3: 3, 4: 25, 5: 15, 6: 12, 7: 4, 8: 8, 9: 8, 10: 9, 11: 22, 12: 24, 13: 3, 14: 3, 15: 3, 16: 3, 17: 29, 18: 11, 19: 6, 20: 2, 21: 4, 22: 10, 23: 20, 24: 2, 25: 6, 26: 11, 27: 6, 28: 1, 29: 2, 30: 2, 31: 10, 32: 4, 33: 4, 34: 4, 35: 1, 36: 4, 37: 2, 38: 1, 39: 13, 40: 2, 41: 1, 42: 19, 43: 2, 44: 2, 45: 1, 46: 6, 47: 67, 48: 25, 49: 9}\n"
     ]
    },
    {
     "name": "stderr",
     "output_type": "stream",
     "text": [
      "Some weights of DebertaForSequenceClassification were not initialized from the model checkpoint at microsoft/deberta-base and are newly initialized: ['classifier.bias', 'classifier.weight', 'pooler.dense.bias', 'pooler.dense.weight']\n",
      "You should probably TRAIN this model on a down-stream task to be able to use it for predictions and inference.\n"
     ]
    },
    {
     "name": "stdout",
     "output_type": "stream",
     "text": [
      "Epoch 1/20\n"
     ]
    },
    {
     "name": "stderr",
     "output_type": "stream",
     "text": [
      "100%|██████████| 476/476 [04:48<00:00,  1.65it/s]\n"
     ]
    },
    {
     "name": "stdout",
     "output_type": "stream",
     "text": [
      "{'val_loss': 1.5303108028645784, 'val_accuracy': 0.621301775147929, 'precision': 0.4930994954211496, 'recall': 0.621301775147929, 'f1-score': 0.5338626729050228, 'macro_f1-score': 0.13665502362981902, 'balanced_accuracy': 0.14658019751736565, 'mcc': 0.46166469037111996}\n",
      "Epoch 2/20\n"
     ]
    },
    {
     "name": "stderr",
     "output_type": "stream",
     "text": [
      "100%|██████████| 476/476 [04:46<00:00,  1.66it/s]\n"
     ]
    },
    {
     "name": "stdout",
     "output_type": "stream",
     "text": [
      "{'val_loss': 1.3166111454648792, 'val_accuracy': 0.6414201183431952, 'precision': 0.609978022551433, 'recall': 0.6414201183431952, 'f1-score': 0.5879201905423492, 'macro_f1-score': 0.1949839277356831, 'balanced_accuracy': 0.19917963287446105, 'mcc': 0.5074340121285714}\n",
      "Epoch 3/20\n"
     ]
    },
    {
     "name": "stderr",
     "output_type": "stream",
     "text": [
      "100%|██████████| 476/476 [04:47<00:00,  1.66it/s]\n"
     ]
    },
    {
     "name": "stdout",
     "output_type": "stream",
     "text": [
      "{'val_loss': 1.1978557241975136, 'val_accuracy': 0.6461538461538462, 'precision': 0.6425970075392412, 'recall': 0.6461538461538462, 'f1-score': 0.6176350232958049, 'macro_f1-score': 0.2840929555370185, 'balanced_accuracy': 0.29339018440632264, 'mcc': 0.5256757036304186}\n",
      "Epoch 4/20\n"
     ]
    },
    {
     "name": "stderr",
     "output_type": "stream",
     "text": [
      "100%|██████████| 476/476 [04:47<00:00,  1.66it/s]\n"
     ]
    },
    {
     "name": "stdout",
     "output_type": "stream",
     "text": [
      "{'val_loss': 1.2821514274714128, 'val_accuracy': 0.6662721893491125, 'precision': 0.621484473794237, 'recall': 0.6662721893491125, 'f1-score': 0.6317510832518083, 'macro_f1-score': 0.23979816372840318, 'balanced_accuracy': 0.2396468457095297, 'mcc': 0.5488995224562677}\n",
      "Epoch 5/20\n"
     ]
    },
    {
     "name": "stderr",
     "output_type": "stream",
     "text": [
      "100%|██████████| 476/476 [04:47<00:00,  1.66it/s]\n"
     ]
    },
    {
     "name": "stdout",
     "output_type": "stream",
     "text": [
      "{'val_loss': 1.3136553885239475, 'val_accuracy': 0.6544378698224852, 'precision': 0.6499235348231948, 'recall': 0.6544378698224852, 'f1-score': 0.6361742773773522, 'macro_f1-score': 0.3245874374948564, 'balanced_accuracy': 0.3103662423929024, 'mcc': 0.5413094788486255}\n",
      "Epoch 6/20\n"
     ]
    },
    {
     "name": "stderr",
     "output_type": "stream",
     "text": [
      "100%|██████████| 476/476 [04:46<00:00,  1.66it/s]\n"
     ]
    },
    {
     "name": "stdout",
     "output_type": "stream",
     "text": [
      "{'val_loss': 1.3722845869806577, 'val_accuracy': 0.6828402366863905, 'precision': 0.6574268484522446, 'recall': 0.6828402366863905, 'f1-score': 0.661066350434228, 'macro_f1-score': 0.3568551509328797, 'balanced_accuracy': 0.34538932974034614, 'mcc': 0.5750454527943131}\n",
      "Epoch 7/20\n"
     ]
    },
    {
     "name": "stderr",
     "output_type": "stream",
     "text": [
      "100%|██████████| 476/476 [04:47<00:00,  1.66it/s]\n"
     ]
    },
    {
     "name": "stdout",
     "output_type": "stream",
     "text": [
      "{'val_loss': 1.4187953086956493, 'val_accuracy': 0.6911242603550296, 'precision': 0.6795197386909613, 'recall': 0.6911242603550296, 'f1-score': 0.6747604834263138, 'macro_f1-score': 0.4041639692019528, 'balanced_accuracy': 0.40238054016198255, 'mcc': 0.590700073829375}\n",
      "Epoch 8/20\n"
     ]
    },
    {
     "name": "stderr",
     "output_type": "stream",
     "text": [
      "100%|██████████| 476/476 [04:46<00:00,  1.66it/s]\n"
     ]
    },
    {
     "name": "stdout",
     "output_type": "stream",
     "text": [
      "{'val_loss': 1.5263048013988532, 'val_accuracy': 0.6662721893491125, 'precision': 0.663678195193915, 'recall': 0.6662721893491125, 'f1-score': 0.6497304312329144, 'macro_f1-score': 0.33965530135304967, 'balanced_accuracy': 0.3317868239132067, 'mcc': 0.55792217205404}\n",
      "Epoch 9/20\n"
     ]
    },
    {
     "name": "stderr",
     "output_type": "stream",
     "text": [
      "100%|██████████| 476/476 [04:48<00:00,  1.65it/s]\n"
     ]
    },
    {
     "name": "stdout",
     "output_type": "stream",
     "text": [
      "{'val_loss': 1.4878732957086473, 'val_accuracy': 0.6958579881656805, 'precision': 0.6897767951917932, 'recall': 0.6958579881656805, 'f1-score': 0.6842985073112265, 'macro_f1-score': 0.43805836345773635, 'balanced_accuracy': 0.445936856482478, 'mcc': 0.5974914157197606}\n",
      "Epoch 10/20\n"
     ]
    },
    {
     "name": "stderr",
     "output_type": "stream",
     "text": [
      "100%|██████████| 476/476 [04:47<00:00,  1.66it/s]\n"
     ]
    },
    {
     "name": "stdout",
     "output_type": "stream",
     "text": [
      "{'val_loss': 1.6478693518998488, 'val_accuracy': 0.6781065088757396, 'precision': 0.6928313586908177, 'recall': 0.6781065088757396, 'f1-score': 0.6662295557442156, 'macro_f1-score': 0.41825273018094433, 'balanced_accuracy': 0.4083134088225502, 'mcc': 0.5737256918155805}\n",
      "Epoch 11/20\n"
     ]
    },
    {
     "name": "stderr",
     "output_type": "stream",
     "text": [
      "100%|██████████| 476/476 [04:47<00:00,  1.66it/s]\n"
     ]
    },
    {
     "name": "stdout",
     "output_type": "stream",
     "text": [
      "{'val_loss': 1.558173120865282, 'val_accuracy': 0.6828402366863905, 'precision': 0.6699563407221873, 'recall': 0.6828402366863905, 'f1-score': 0.666277600058579, 'macro_f1-score': 0.38542923587865063, 'balanced_accuracy': 0.3830136463566087, 'mcc': 0.5789624810325835}\n",
      "Epoch 12/20\n"
     ]
    },
    {
     "name": "stderr",
     "output_type": "stream",
     "text": [
      "100%|██████████| 476/476 [04:48<00:00,  1.65it/s]\n"
     ]
    },
    {
     "name": "stdout",
     "output_type": "stream",
     "text": [
      "{'val_loss': 1.6946769511362292, 'val_accuracy': 0.7100591715976331, 'precision': 0.6951330572375227, 'recall': 0.7100591715976331, 'f1-score': 0.6903693425982793, 'macro_f1-score': 0.443220126102179, 'balanced_accuracy': 0.42673485092869484, 'mcc': 0.6082436223098052}\n",
      "Epoch 13/20\n"
     ]
    },
    {
     "name": "stderr",
     "output_type": "stream",
     "text": [
      "100%|██████████| 476/476 [04:47<00:00,  1.66it/s]\n"
     ]
    },
    {
     "name": "stdout",
     "output_type": "stream",
     "text": [
      "{'val_loss': 1.7944386747648131, 'val_accuracy': 0.6627218934911243, 'precision': 0.6809523182916849, 'recall': 0.6627218934911243, 'f1-score': 0.6589410657320677, 'macro_f1-score': 0.376202886593209, 'balanced_accuracy': 0.4094350845601627, 'mcc': 0.5697748676281623}\n",
      "Epoch 14/20\n"
     ]
    },
    {
     "name": "stderr",
     "output_type": "stream",
     "text": [
      "100%|██████████| 476/476 [04:48<00:00,  1.65it/s]\n"
     ]
    },
    {
     "name": "stdout",
     "output_type": "stream",
     "text": [
      "{'val_loss': 1.7452869763914145, 'val_accuracy': 0.6556213017751479, 'precision': 0.6864419799353044, 'recall': 0.6556213017751479, 'f1-score': 0.6502529220690285, 'macro_f1-score': 0.379999709572651, 'balanced_accuracy': 0.4049352419355266, 'mcc': 0.551744232393555}\n",
      "Epoch 15/20\n"
     ]
    },
    {
     "name": "stderr",
     "output_type": "stream",
     "text": [
      "100%|██████████| 476/476 [04:46<00:00,  1.66it/s]\n"
     ]
    },
    {
     "name": "stdout",
     "output_type": "stream",
     "text": [
      "{'val_loss': 1.6440679135749925, 'val_accuracy': 0.6958579881656805, 'precision': 0.7006101785482437, 'recall': 0.6958579881656805, 'f1-score': 0.6860560849537486, 'macro_f1-score': 0.42645745322734013, 'balanced_accuracy': 0.42155803861443375, 'mcc': 0.5997706015377022}\n",
      "Early stopping triggered at epoch 15\n",
      "Fold 8\n",
      "Training set label distribution: {0: 3577, 1: 28, 2: 126, 3: 27, 4: 232, 5: 130, 6: 106, 7: 35, 8: 77, 9: 73, 10: 79, 11: 194, 12: 216, 13: 33, 14: 26, 15: 28, 16: 22, 17: 260, 18: 105, 19: 50, 20: 16, 21: 40, 22: 87, 23: 180, 24: 18, 25: 57, 26: 96, 27: 55, 28: 13, 29: 14, 30: 18, 31: 90, 32: 40, 33: 36, 34: 33, 35: 14, 36: 31, 37: 25, 38: 6, 39: 116, 40: 12, 41: 10, 42: 165, 43: 18, 44: 23, 45: 10, 46: 62, 47: 595, 48: 226, 49: 79}\n",
      "Validation set label distribution: {0: 397, 1: 3, 2: 14, 3: 3, 4: 25, 5: 15, 6: 12, 7: 4, 8: 8, 9: 8, 10: 9, 11: 21, 12: 25, 13: 3, 14: 3, 15: 3, 16: 3, 17: 29, 18: 11, 19: 6, 20: 2, 21: 4, 22: 10, 23: 20, 24: 2, 25: 6, 26: 11, 27: 6, 28: 2, 29: 2, 30: 1, 31: 10, 32: 5, 33: 4, 34: 4, 35: 1, 36: 4, 37: 2, 38: 1, 39: 13, 40: 2, 41: 1, 42: 19, 43: 2, 44: 2, 45: 1, 46: 6, 47: 66, 48: 26, 49: 8}\n"
     ]
    },
    {
     "name": "stderr",
     "output_type": "stream",
     "text": [
      "Some weights of DebertaForSequenceClassification were not initialized from the model checkpoint at microsoft/deberta-base and are newly initialized: ['classifier.bias', 'classifier.weight', 'pooler.dense.bias', 'pooler.dense.weight']\n",
      "You should probably TRAIN this model on a down-stream task to be able to use it for predictions and inference.\n"
     ]
    },
    {
     "name": "stdout",
     "output_type": "stream",
     "text": [
      "Epoch 1/20\n"
     ]
    },
    {
     "name": "stderr",
     "output_type": "stream",
     "text": [
      "100%|██████████| 476/476 [04:47<00:00,  1.65it/s]\n"
     ]
    },
    {
     "name": "stdout",
     "output_type": "stream",
     "text": [
      "{'val_loss': 1.5848133845149346, 'val_accuracy': 0.6130177514792899, 'precision': 0.45961900710452563, 'recall': 0.6130177514792899, 'f1-score': 0.5012280632758488, 'macro_f1-score': 0.10349596549808524, 'balanced_accuracy': 0.1126039744465908, 'mcc': 0.4426583693364697}\n",
      "Epoch 2/20\n"
     ]
    },
    {
     "name": "stderr",
     "output_type": "stream",
     "text": [
      "100%|██████████| 476/476 [04:47<00:00,  1.65it/s]\n"
     ]
    },
    {
     "name": "stdout",
     "output_type": "stream",
     "text": [
      "{'val_loss': 1.3204621903176577, 'val_accuracy': 0.6319526627218935, 'precision': 0.5442084706877607, 'recall': 0.6319526627218935, 'f1-score': 0.5625734556895784, 'macro_f1-score': 0.17812203733927595, 'balanced_accuracy': 0.18283847305594025, 'mcc': 0.4897217331036026}\n",
      "Epoch 3/20\n"
     ]
    },
    {
     "name": "stderr",
     "output_type": "stream",
     "text": [
      "100%|██████████| 476/476 [04:47<00:00,  1.65it/s]\n"
     ]
    },
    {
     "name": "stdout",
     "output_type": "stream",
     "text": [
      "{'val_loss': 1.1966298104457136, 'val_accuracy': 0.6745562130177515, 'precision': 0.6279829112734423, 'recall': 0.6745562130177515, 'f1-score': 0.6270136634991104, 'macro_f1-score': 0.2691220596587571, 'balanced_accuracy': 0.26999030768705373, 'mcc': 0.5629444554912897}\n",
      "Epoch 4/20\n"
     ]
    },
    {
     "name": "stderr",
     "output_type": "stream",
     "text": [
      "100%|██████████| 476/476 [04:47<00:00,  1.65it/s]\n"
     ]
    },
    {
     "name": "stdout",
     "output_type": "stream",
     "text": [
      "{'val_loss': 1.2014476853721547, 'val_accuracy': 0.6698224852071006, 'precision': 0.673248635592005, 'recall': 0.6698224852071006, 'f1-score': 0.655608851912741, 'macro_f1-score': 0.35337131210303907, 'balanced_accuracy': 0.34029847352654663, 'mcc': 0.5639256564678268}\n",
      "Epoch 5/20\n"
     ]
    },
    {
     "name": "stderr",
     "output_type": "stream",
     "text": [
      "100%|██████████| 476/476 [04:46<00:00,  1.66it/s]\n"
     ]
    },
    {
     "name": "stdout",
     "output_type": "stream",
     "text": [
      "{'val_loss': 1.2406694163691323, 'val_accuracy': 0.7005917159763314, 'precision': 0.6792977404217204, 'recall': 0.7005917159763314, 'f1-score': 0.6736388456660877, 'macro_f1-score': 0.3757700029954548, 'balanced_accuracy': 0.3536046711424687, 'mcc': 0.5989908565439099}\n",
      "Epoch 6/20\n"
     ]
    },
    {
     "name": "stderr",
     "output_type": "stream",
     "text": [
      "100%|██████████| 476/476 [04:47<00:00,  1.66it/s]\n"
     ]
    },
    {
     "name": "stdout",
     "output_type": "stream",
     "text": [
      "{'val_loss': 1.36072971517185, 'val_accuracy': 0.6544378698224852, 'precision': 0.6659013248962627, 'recall': 0.6544378698224852, 'f1-score': 0.6483715025146508, 'macro_f1-score': 0.36363948927875867, 'balanced_accuracy': 0.38560200817872925, 'mcc': 0.5546000551567895}\n",
      "Epoch 7/20\n"
     ]
    },
    {
     "name": "stderr",
     "output_type": "stream",
     "text": [
      "100%|██████████| 476/476 [04:47<00:00,  1.65it/s]\n"
     ]
    },
    {
     "name": "stdout",
     "output_type": "stream",
     "text": [
      "{'val_loss': 1.4092366909081082, 'val_accuracy': 0.6840236686390533, 'precision': 0.663281973157912, 'recall': 0.6840236686390533, 'f1-score': 0.6624787269156283, 'macro_f1-score': 0.3524555782487606, 'balanced_accuracy': 0.32928977009069216, 'mcc': 0.5779899803182881}\n",
      "Epoch 8/20\n"
     ]
    },
    {
     "name": "stderr",
     "output_type": "stream",
     "text": [
      "100%|██████████| 476/476 [04:47<00:00,  1.66it/s]\n"
     ]
    },
    {
     "name": "stdout",
     "output_type": "stream",
     "text": [
      "{'val_loss': 1.4823033005561468, 'val_accuracy': 0.6994082840236686, 'precision': 0.681595790939758, 'recall': 0.6994082840236686, 'f1-score': 0.6771452026716227, 'macro_f1-score': 0.3903513540706851, 'balanced_accuracy': 0.3874419343226723, 'mcc': 0.5959421682868284}\n",
      "Epoch 9/20\n"
     ]
    },
    {
     "name": "stderr",
     "output_type": "stream",
     "text": [
      "100%|██████████| 476/476 [04:47<00:00,  1.65it/s]\n"
     ]
    },
    {
     "name": "stdout",
     "output_type": "stream",
     "text": [
      "{'val_loss': 1.4976681841994233, 'val_accuracy': 0.6828402366863905, 'precision': 0.6693351469652346, 'recall': 0.6828402366863905, 'f1-score': 0.6556840734029744, 'macro_f1-score': 0.39789846034192655, 'balanced_accuracy': 0.37944597081676584, 'mcc': 0.5754128197820412}\n",
      "Epoch 10/20\n"
     ]
    },
    {
     "name": "stderr",
     "output_type": "stream",
     "text": [
      "100%|██████████| 476/476 [04:44<00:00,  1.67it/s]\n"
     ]
    },
    {
     "name": "stdout",
     "output_type": "stream",
     "text": [
      "{'val_loss': 1.6029424127542748, 'val_accuracy': 0.6828402366863905, 'precision': 0.676585867754986, 'recall': 0.6828402366863905, 'f1-score': 0.6645490723074097, 'macro_f1-score': 0.38752928653019536, 'balanced_accuracy': 0.38650170659010785, 'mcc': 0.5791619133418461}\n",
      "Epoch 11/20\n"
     ]
    },
    {
     "name": "stderr",
     "output_type": "stream",
     "text": [
      "100%|██████████| 476/476 [04:46<00:00,  1.66it/s]\n"
     ]
    },
    {
     "name": "stdout",
     "output_type": "stream",
     "text": [
      "{'val_loss': 1.6221092641353607, 'val_accuracy': 0.672189349112426, 'precision': 0.6769911476155819, 'recall': 0.672189349112426, 'f1-score': 0.6612628161021288, 'macro_f1-score': 0.4049458642639641, 'balanced_accuracy': 0.394245045242269, 'mcc': 0.5650201475386224}\n",
      "Epoch 12/20\n"
     ]
    },
    {
     "name": "stderr",
     "output_type": "stream",
     "text": [
      "100%|██████████| 476/476 [04:46<00:00,  1.66it/s]\n"
     ]
    },
    {
     "name": "stdout",
     "output_type": "stream",
     "text": [
      "{'val_loss': 1.688916099521349, 'val_accuracy': 0.6792899408284023, 'precision': 0.6514083519596773, 'recall': 0.6792899408284023, 'f1-score': 0.6568888252445395, 'macro_f1-score': 0.3714180701835912, 'balanced_accuracy': 0.35834852986288207, 'mcc': 0.572782400695423}\n",
      "Epoch 13/20\n"
     ]
    },
    {
     "name": "stderr",
     "output_type": "stream",
     "text": [
      "100%|██████████| 476/476 [04:46<00:00,  1.66it/s]\n"
     ]
    },
    {
     "name": "stdout",
     "output_type": "stream",
     "text": [
      "{'val_loss': 1.8044967330851645, 'val_accuracy': 0.6733727810650888, 'precision': 0.6388370824404676, 'recall': 0.6733727810650888, 'f1-score': 0.6445182335610163, 'macro_f1-score': 0.3387939329624688, 'balanced_accuracy': 0.33759889919687863, 'mcc': 0.5578240092625804}\n",
      "Epoch 14/20\n"
     ]
    },
    {
     "name": "stderr",
     "output_type": "stream",
     "text": [
      "100%|██████████| 476/476 [04:46<00:00,  1.66it/s]\n"
     ]
    },
    {
     "name": "stdout",
     "output_type": "stream",
     "text": [
      "{'val_loss': 1.6442139339896868, 'val_accuracy': 0.6520710059171597, 'precision': 0.6743299991066612, 'recall': 0.6520710059171597, 'f1-score': 0.6498803010390831, 'macro_f1-score': 0.38365903772113297, 'balanced_accuracy': 0.412550139878372, 'mcc': 0.5574096658843218}\n",
      "Early stopping triggered at epoch 14\n",
      "Fold 9\n",
      "Training set label distribution: {0: 3577, 1: 28, 2: 126, 3: 27, 4: 232, 5: 130, 6: 106, 7: 36, 8: 76, 9: 73, 10: 79, 11: 194, 12: 217, 13: 32, 14: 26, 15: 28, 16: 22, 17: 261, 18: 104, 19: 50, 20: 17, 21: 39, 22: 87, 23: 180, 24: 18, 25: 57, 26: 96, 27: 55, 28: 13, 29: 15, 30: 17, 31: 90, 32: 40, 33: 36, 34: 33, 35: 14, 36: 31, 37: 25, 38: 7, 39: 116, 40: 12, 41: 10, 42: 166, 43: 18, 44: 22, 45: 10, 46: 61, 47: 595, 48: 226, 49: 79}\n",
      "Validation set label distribution: {0: 397, 1: 3, 2: 14, 3: 3, 4: 25, 5: 15, 6: 12, 7: 3, 8: 9, 9: 8, 10: 9, 11: 21, 12: 24, 13: 4, 14: 3, 15: 3, 16: 3, 17: 28, 18: 12, 19: 6, 20: 1, 21: 5, 22: 10, 23: 20, 24: 2, 25: 6, 26: 11, 27: 6, 28: 2, 29: 1, 30: 2, 31: 10, 32: 5, 33: 4, 34: 4, 35: 1, 36: 4, 37: 2, 39: 13, 40: 2, 41: 1, 42: 18, 43: 2, 44: 3, 45: 1, 46: 7, 47: 66, 48: 26, 49: 8}\n"
     ]
    },
    {
     "name": "stderr",
     "output_type": "stream",
     "text": [
      "Some weights of DebertaForSequenceClassification were not initialized from the model checkpoint at microsoft/deberta-base and are newly initialized: ['classifier.bias', 'classifier.weight', 'pooler.dense.bias', 'pooler.dense.weight']\n",
      "You should probably TRAIN this model on a down-stream task to be able to use it for predictions and inference.\n"
     ]
    },
    {
     "name": "stdout",
     "output_type": "stream",
     "text": [
      "Epoch 1/20\n"
     ]
    },
    {
     "name": "stderr",
     "output_type": "stream",
     "text": [
      "100%|██████████| 476/476 [04:47<00:00,  1.66it/s]\n"
     ]
    },
    {
     "name": "stdout",
     "output_type": "stream",
     "text": [
      "{'val_loss': 1.5771746511729259, 'val_accuracy': 0.5976331360946746, 'precision': 0.441990084911718, 'recall': 0.5976331360946746, 'f1-score': 0.4887072624227071, 'macro_f1-score': 0.10412628769095775, 'balanced_accuracy': 0.11601370276484654, 'mcc': 0.419502113166166}\n",
      "Epoch 2/20\n"
     ]
    },
    {
     "name": "stderr",
     "output_type": "stream",
     "text": [
      "100%|██████████| 476/476 [04:47<00:00,  1.66it/s]\n"
     ]
    },
    {
     "name": "stdout",
     "output_type": "stream",
     "text": [
      "{'val_loss': 1.3275656947549783, 'val_accuracy': 0.6556213017751479, 'precision': 0.6044353786074274, 'recall': 0.6556213017751479, 'f1-score': 0.6052278100617349, 'macro_f1-score': 0.23060185778075992, 'balanced_accuracy': 0.24045626506326653, 'mcc': 0.535790007088504}\n",
      "Epoch 3/20\n"
     ]
    },
    {
     "name": "stderr",
     "output_type": "stream",
     "text": [
      "100%|██████████| 476/476 [04:47<00:00,  1.66it/s]\n"
     ]
    },
    {
     "name": "stdout",
     "output_type": "stream",
     "text": [
      "{'val_loss': 1.2995121540888301, 'val_accuracy': 0.6520710059171597, 'precision': 0.6358325054938821, 'recall': 0.6520710059171597, 'f1-score': 0.6196234405304006, 'macro_f1-score': 0.2872287394353926, 'balanced_accuracy': 0.2803421632486558, 'mcc': 0.5304041458002309}\n",
      "Epoch 4/20\n"
     ]
    },
    {
     "name": "stderr",
     "output_type": "stream",
     "text": [
      "100%|██████████| 476/476 [04:46<00:00,  1.66it/s]\n"
     ]
    },
    {
     "name": "stdout",
     "output_type": "stream",
     "text": [
      "{'val_loss': 1.3062214918856352, 'val_accuracy': 0.6662721893491125, 'precision': 0.6554219603796885, 'recall': 0.6662721893491125, 'f1-score': 0.6406569446050108, 'macro_f1-score': 0.305315292149265, 'balanced_accuracy': 0.29019672691240056, 'mcc': 0.5549299255406592}\n",
      "Epoch 5/20\n"
     ]
    },
    {
     "name": "stderr",
     "output_type": "stream",
     "text": [
      "100%|██████████| 476/476 [04:47<00:00,  1.66it/s]\n"
     ]
    },
    {
     "name": "stdout",
     "output_type": "stream",
     "text": [
      "{'val_loss': 1.2756607971101437, 'val_accuracy': 0.6757396449704142, 'precision': 0.6514448005403652, 'recall': 0.6757396449704142, 'f1-score': 0.649148783352422, 'macro_f1-score': 0.3194372522879382, 'balanced_accuracy': 0.32970635728899234, 'mcc': 0.5715533192493776}\n",
      "Epoch 6/20\n"
     ]
    },
    {
     "name": "stderr",
     "output_type": "stream",
     "text": [
      "100%|██████████| 476/476 [04:47<00:00,  1.65it/s]\n"
     ]
    },
    {
     "name": "stdout",
     "output_type": "stream",
     "text": [
      "{'val_loss': 1.2949089329197723, 'val_accuracy': 0.6982248520710059, 'precision': 0.6923921878815275, 'recall': 0.6982248520710059, 'f1-score': 0.6813975905993475, 'macro_f1-score': 0.38682470684424375, 'balanced_accuracy': 0.3849284751130225, 'mcc': 0.605697293003911}\n",
      "Epoch 7/20\n"
     ]
    },
    {
     "name": "stderr",
     "output_type": "stream",
     "text": [
      "100%|██████████| 476/476 [04:48<00:00,  1.65it/s]\n"
     ]
    },
    {
     "name": "stdout",
     "output_type": "stream",
     "text": [
      "{'val_loss': 1.3860049736949633, 'val_accuracy': 0.6899408284023668, 'precision': 0.6926355226474957, 'recall': 0.6899408284023668, 'f1-score': 0.6707363298841054, 'macro_f1-score': 0.3686195575446588, 'balanced_accuracy': 0.3592390172642576, 'mcc': 0.5869517971119689}\n",
      "Epoch 8/20\n"
     ]
    },
    {
     "name": "stderr",
     "output_type": "stream",
     "text": [
      "100%|██████████| 476/476 [04:48<00:00,  1.65it/s]\n"
     ]
    },
    {
     "name": "stdout",
     "output_type": "stream",
     "text": [
      "{'val_loss': 1.46553347301933, 'val_accuracy': 0.6899408284023668, 'precision': 0.6619292213089724, 'recall': 0.6899408284023668, 'f1-score': 0.6653320411426363, 'macro_f1-score': 0.36464645819095287, 'balanced_accuracy': 0.3431946195707569, 'mcc': 0.5791417465018894}\n",
      "Epoch 9/20\n"
     ]
    },
    {
     "name": "stderr",
     "output_type": "stream",
     "text": [
      "100%|██████████| 476/476 [04:47<00:00,  1.65it/s]\n"
     ]
    },
    {
     "name": "stdout",
     "output_type": "stream",
     "text": [
      "{'val_loss': 1.4550898395619303, 'val_accuracy': 0.6923076923076923, 'precision': 0.6865740659636351, 'recall': 0.6923076923076923, 'f1-score': 0.6705314301849383, 'macro_f1-score': 0.3644751556944856, 'balanced_accuracy': 0.35988770486868465, 'mcc': 0.5898608813454116}\n",
      "Early stopping triggered at epoch 9\n",
      "Fold 10\n",
      "Training set label distribution: {0: 3577, 1: 28, 2: 126, 3: 27, 4: 231, 5: 130, 6: 107, 7: 35, 8: 76, 9: 73, 10: 79, 11: 194, 12: 217, 13: 32, 14: 26, 15: 28, 16: 23, 17: 260, 18: 104, 19: 50, 20: 17, 21: 39, 22: 88, 23: 180, 24: 18, 25: 56, 26: 97, 27: 54, 28: 13, 29: 15, 30: 17, 31: 90, 32: 40, 33: 36, 34: 34, 35: 13, 36: 32, 37: 24, 38: 7, 39: 116, 40: 12, 41: 10, 42: 166, 43: 18, 44: 22, 45: 10, 46: 61, 47: 595, 48: 227, 49: 79}\n",
      "Validation set label distribution: {0: 397, 1: 3, 2: 14, 3: 3, 4: 26, 5: 15, 6: 11, 7: 4, 8: 9, 9: 8, 10: 9, 11: 21, 12: 24, 13: 4, 14: 3, 15: 3, 16: 2, 17: 29, 18: 12, 19: 6, 20: 1, 21: 5, 22: 9, 23: 20, 24: 2, 25: 7, 26: 10, 27: 7, 28: 2, 29: 1, 30: 2, 31: 10, 32: 5, 33: 4, 34: 3, 35: 2, 36: 3, 37: 3, 39: 13, 40: 2, 41: 1, 42: 18, 43: 2, 44: 3, 45: 1, 46: 7, 47: 66, 48: 25, 49: 8}\n"
     ]
    },
    {
     "name": "stderr",
     "output_type": "stream",
     "text": [
      "Some weights of DebertaForSequenceClassification were not initialized from the model checkpoint at microsoft/deberta-base and are newly initialized: ['classifier.bias', 'classifier.weight', 'pooler.dense.bias', 'pooler.dense.weight']\n",
      "You should probably TRAIN this model on a down-stream task to be able to use it for predictions and inference.\n"
     ]
    },
    {
     "name": "stdout",
     "output_type": "stream",
     "text": [
      "Epoch 1/20\n"
     ]
    },
    {
     "name": "stderr",
     "output_type": "stream",
     "text": [
      "100%|██████████| 476/476 [04:47<00:00,  1.66it/s]\n"
     ]
    },
    {
     "name": "stdout",
     "output_type": "stream",
     "text": [
      "{'val_loss': 1.4583233639879047, 'val_accuracy': 0.6295857988165681, 'precision': 0.4902866823769546, 'recall': 0.6295857988165681, 'f1-score': 0.5254456463097088, 'macro_f1-score': 0.12786390384348917, 'balanced_accuracy': 0.14123204443312856, 'mcc': 0.47214945780317913}\n",
      "Epoch 2/20\n"
     ]
    },
    {
     "name": "stderr",
     "output_type": "stream",
     "text": [
      "100%|██████████| 476/476 [04:47<00:00,  1.66it/s]\n"
     ]
    },
    {
     "name": "stdout",
     "output_type": "stream",
     "text": [
      "{'val_loss': 1.3673025808244381, 'val_accuracy': 0.6189349112426036, 'precision': 0.581460567156612, 'recall': 0.6189349112426036, 'f1-score': 0.5771962919240727, 'macro_f1-score': 0.20440106816254192, 'balanced_accuracy': 0.22222335031844956, 'mcc': 0.4982946109004238}\n",
      "Epoch 3/20\n"
     ]
    },
    {
     "name": "stderr",
     "output_type": "stream",
     "text": [
      "100%|██████████| 476/476 [04:47<00:00,  1.65it/s]\n"
     ]
    },
    {
     "name": "stdout",
     "output_type": "stream",
     "text": [
      "{'val_loss': 1.3498911430250924, 'val_accuracy': 0.6402366863905326, 'precision': 0.5805758294450464, 'recall': 0.6402366863905326, 'f1-score': 0.5833203882293377, 'macro_f1-score': 0.2246131304269691, 'balanced_accuracy': 0.2205340135136532, 'mcc': 0.49968362868861743}\n",
      "Epoch 4/20\n"
     ]
    },
    {
     "name": "stderr",
     "output_type": "stream",
     "text": [
      "100%|██████████| 476/476 [04:47<00:00,  1.65it/s]\n"
     ]
    },
    {
     "name": "stdout",
     "output_type": "stream",
     "text": [
      "{'val_loss': 1.2497992453710087, 'val_accuracy': 0.6792899408284023, 'precision': 0.6732132871516611, 'recall': 0.6792899408284023, 'f1-score': 0.6564795532480057, 'macro_f1-score': 0.2918070390139842, 'balanced_accuracy': 0.29554345462857934, 'mcc': 0.5674914931605328}\n",
      "Epoch 5/20\n"
     ]
    },
    {
     "name": "stderr",
     "output_type": "stream",
     "text": [
      "100%|██████████| 476/476 [04:46<00:00,  1.66it/s]\n"
     ]
    },
    {
     "name": "stdout",
     "output_type": "stream",
     "text": [
      "{'val_loss': 1.3462457769321945, 'val_accuracy': 0.6828402366863905, 'precision': 0.6548400041595308, 'recall': 0.6828402366863905, 'f1-score': 0.6506091916902959, 'macro_f1-score': 0.3225028624351471, 'balanced_accuracy': 0.3151715971634981, 'mcc': 0.5713216908463078}\n",
      "Epoch 6/20\n"
     ]
    },
    {
     "name": "stderr",
     "output_type": "stream",
     "text": [
      "100%|██████████| 476/476 [04:46<00:00,  1.66it/s]\n"
     ]
    },
    {
     "name": "stdout",
     "output_type": "stream",
     "text": [
      "{'val_loss': 1.3403849579253286, 'val_accuracy': 0.6840236686390533, 'precision': 0.6672535727199794, 'recall': 0.6840236686390533, 'f1-score': 0.6602105447757494, 'macro_f1-score': 0.3492208193350938, 'balanced_accuracy': 0.34002271205017165, 'mcc': 0.5757291548932942}\n",
      "Epoch 7/20\n"
     ]
    },
    {
     "name": "stderr",
     "output_type": "stream",
     "text": [
      "100%|██████████| 476/476 [04:47<00:00,  1.66it/s]\n"
     ]
    },
    {
     "name": "stdout",
     "output_type": "stream",
     "text": [
      "{'val_loss': 1.5025325805511114, 'val_accuracy': 0.6674556213017752, 'precision': 0.6692378100125151, 'recall': 0.6674556213017752, 'f1-score': 0.657378831352656, 'macro_f1-score': 0.32811635069410705, 'balanced_accuracy': 0.33054056806138304, 'mcc': 0.5591044948536315}\n",
      "Epoch 8/20\n"
     ]
    },
    {
     "name": "stderr",
     "output_type": "stream",
     "text": [
      "100%|██████████| 476/476 [04:46<00:00,  1.66it/s]\n"
     ]
    },
    {
     "name": "stdout",
     "output_type": "stream",
     "text": [
      "{'val_loss': 2.1599215077904037, 'val_accuracy': 0.5396449704142012, 'precision': 0.39738014019756374, 'recall': 0.5396449704142012, 'f1-score': 0.42185892324424035, 'macro_f1-score': 0.08920185089519693, 'balanced_accuracy': 0.08091549404142799, 'mcc': 0.29524594649457203}\n",
      "Epoch 9/20\n"
     ]
    },
    {
     "name": "stderr",
     "output_type": "stream",
     "text": [
      "100%|██████████| 476/476 [04:47<00:00,  1.65it/s]\n"
     ]
    },
    {
     "name": "stdout",
     "output_type": "stream",
     "text": [
      "{'val_loss': 2.4595046403273098, 'val_accuracy': 0.46982248520710057, 'precision': 0.22924566754276238, 'recall': 0.46982248520710057, 'f1-score': 0.30239336934252187, 'macro_f1-score': 0.018147452685674755, 'balanced_accuracy': 0.02327220920754052, 'mcc': 0.021590595262697077}\n",
      "Early stopping triggered at epoch 9\n",
      "Final 10-fold Cross-Validation Results:\n",
      "val_loss: 1.5827028982858125\n",
      "val_accuracy: 0.6425599665204856\n",
      "precision: 0.5908081676414731\n",
      "recall: 0.6425599665204856\n",
      "f1-score: 0.5958383843257071\n",
      "macro_f1-score: 0.2758685656635033\n",
      "balanced_accuracy: 0.2778151293673404\n",
      "mcc: 0.5033532229854264\n"
     ]
    }
   ],
   "source": [
    "from torch.utils.data import DataLoader\n",
    "import torch\n",
    "from torch.nn import CrossEntropyLoss\n",
    "from torch.optim import AdamW\n",
    "from tqdm import tqdm\n",
    "import numpy as np\n",
    "\n",
    "all_fold_results = []\n",
    "\n",
    "# 進行 10 折交叉驗證\n",
    "for fold, (train_idx, val_idx) in enumerate(skf.split(messages, labels)):\n",
    "    print(f\"Fold {fold + 1}\")\n",
    "    \n",
    "    train_messages = [messages[i] for i in train_idx]\n",
    "    train_labels = [labels[i] for i in train_idx]\n",
    "    val_messages = [messages[i] for i in val_idx]\n",
    "    val_labels = [labels[i] for i in val_idx]\n",
    "\n",
    "    print(\"Training set label distribution:\", {label: train_labels.count(label) for label in set(train_labels)})\n",
    "    print(\"Validation set label distribution:\", {label: val_labels.count(label) for label in set(val_labels)})\n",
    "    \n",
    "    train_dataset = CustomDataset(train_messages, train_labels, tokenizer, MAX_LENGTH)\n",
    "    val_dataset = CustomDataset(val_messages, val_labels, tokenizer, MAX_LENGTH)\n",
    "    train_dataloader = DataLoader(train_dataset, batch_size=BATCH_SIZE, shuffle=True)\n",
    "    val_dataloader = DataLoader(val_dataset, batch_size=BATCH_SIZE)\n",
    "\n",
    "    NUM_LABELS = len(set(train_labels) | set(val_labels))\n",
    "    model = DebertaForSequenceClassification.from_pretrained('microsoft/deberta-base', num_labels=NUM_LABELS)\n",
    "    model.to(device)\n",
    "    optimizer = AdamW(model.parameters(), lr=5e-5, weight_decay=1e-2)\n",
    "    criterion = CrossEntropyLoss()\n",
    "\n",
    "    epoch_results = []\n",
    "    patience = 3\n",
    "    best_macro_f1 = 0\n",
    "    epochs_without_improvement = 0\n",
    "    \n",
    "    for epoch in range(EPOCHS):\n",
    "        print(f\"Epoch {epoch + 1}/{EPOCHS}\")\n",
    "        train_loss = train_epoch(model, train_dataloader, optimizer, criterion)\n",
    "        metrics = eval_model(model, val_dataloader, criterion, num_labels=NUM_LABELS)\n",
    "        epoch_results.append(metrics)\n",
    "        print(metrics)\n",
    "\n",
    "        current_macro_f1 = metrics[\"macro_f1-score\"]\n",
    "        \n",
    "        if current_macro_f1 > best_macro_f1:\n",
    "            best_macro_f1 = current_macro_f1  # 更新最佳 macro_f1-score\n",
    "            epochs_without_improvement = 0   # 重置計數\n",
    "        else:\n",
    "            epochs_without_improvement += 1  # 增加計數\n",
    "        \n",
    "        # 若連續 patience 3 次沒有提升，則停止訓練\n",
    "        if epochs_without_improvement >= patience:\n",
    "            print(f\"Early stopping triggered at epoch {epoch + 1}\")\n",
    "            break\n",
    "    \n",
    "    avg_metrics = {metric: np.mean([epoch[metric] for epoch in epoch_results]) for metric in epoch_results[0].keys()}\n",
    "    all_fold_results.append(avg_metrics)\n",
    "\n",
    "final_metrics = {metric: np.mean([result[metric] for result in all_fold_results]) for metric in all_fold_results[0].keys()}\n",
    "print(\"Final 10-fold Cross-Validation Results:\")\n",
    "for metric, value in final_metrics.items():\n",
    "    print(f\"{metric}: {value}\")"
   ]
  },
  {
   "cell_type": "code",
   "execution_count": 8,
   "id": "f8016681-94ee-4d35-81ac-9831d7172f0d",
   "metadata": {},
   "outputs": [
    {
     "data": {
      "text/plain": [
       "[{'val_loss': 1.4742611345505066,\n",
       "  'val_accuracy': 0.6539269766220122,\n",
       "  'precision': 0.6282830427175923,\n",
       "  'recall': 0.6539269766220122,\n",
       "  'f1-score': 0.6240852397756446,\n",
       "  'macro_f1-score': 0.3140711648921751,\n",
       "  'balanced_accuracy': 0.3153316374075636,\n",
       "  'mcc': 0.5350691605025806},\n",
       " {'val_loss': 1.4865236974830898,\n",
       "  'val_accuracy': 0.651063829787234,\n",
       "  'precision': 0.6100956897923553,\n",
       "  'recall': 0.651063829787234,\n",
       "  'f1-score': 0.613991965694686,\n",
       "  'macro_f1-score': 0.2746395190692199,\n",
       "  'balanced_accuracy': 0.28153726322504,\n",
       "  'mcc': 0.5299163424901799},\n",
       " {'val_loss': 1.594563515359822,\n",
       "  'val_accuracy': 0.6625295508274233,\n",
       "  'precision': 0.6470351167320041,\n",
       "  'recall': 0.6625295508274233,\n",
       "  'f1-score': 0.6373169771063216,\n",
       "  'macro_f1-score': 0.3321735633817883,\n",
       "  'balanced_accuracy': 0.328038362687995,\n",
       "  'mcc': 0.5462582545355954},\n",
       " {'val_loss': 1.5699678658033316,\n",
       "  'val_accuracy': 0.6359338061465721,\n",
       "  'precision': 0.6001044531347489,\n",
       "  'recall': 0.6359338061465721,\n",
       "  'f1-score': 0.5958983694549188,\n",
       "  'macro_f1-score': 0.28590121693969267,\n",
       "  'balanced_accuracy': 0.2915434243942647,\n",
       "  'mcc': 0.5016978671348907},\n",
       " {'val_loss': 2.188484191613377,\n",
       "  'val_accuracy': 0.523076923076923,\n",
       "  'precision': 0.2947941500934186,\n",
       "  'recall': 0.523076923076923,\n",
       "  'f1-score': 0.3684154105227555,\n",
       "  'macro_f1-score': 0.025131140934811502,\n",
       "  'balanced_accuracy': 0.034185279456060313,\n",
       "  'mcc': 0.2455884903583972},\n",
       " {'val_loss': 1.5777775890895838,\n",
       "  'val_accuracy': 0.6675179071940205,\n",
       "  'precision': 0.6454649415088055,\n",
       "  'recall': 0.6675179071940205,\n",
       "  'f1-score': 0.6418832546022928,\n",
       "  'macro_f1-score': 0.3291348172651358,\n",
       "  'balanced_accuracy': 0.33292993000550386,\n",
       "  'mcc': 0.555209193716217},\n",
       " {'val_loss': 1.5020236979959145,\n",
       "  'val_accuracy': 0.670059171597633,\n",
       "  'precision': 0.6555606230055954,\n",
       "  'recall': 0.670059171597633,\n",
       "  'f1-score': 0.6463550393955292,\n",
       "  'macro_f1-score': 0.3432274956417582,\n",
       "  'balanced_accuracy': 0.34457646162777145,\n",
       "  'mcc': 0.5592242679033254},\n",
       " {'val_loss': 1.4754742015243543,\n",
       "  'val_accuracy': 0.6693153000845308,\n",
       "  'precision': 0.6416159607082854,\n",
       "  'recall': 0.6693153000845308,\n",
       "  'f1-score': 0.6386315452716014,\n",
       "  'macro_f1-score': 0.3336123179425782,\n",
       "  'balanced_accuracy': 0.33073999314556923,\n",
       "  'mcc': 0.5567417308007028},\n",
       " {'val_loss': 1.3764080009120567,\n",
       "  'val_accuracy': 0.6686390532544378,\n",
       "  'precision': 0.635850636414968,\n",
       "  'recall': 0.6686390532544378,\n",
       "  'f1-score': 0.6323735147537004,\n",
       "  'macro_f1-score': 0.30347503417985044,\n",
       "  'balanced_accuracy': 0.30044055912165374,\n",
       "  'mcc': 0.5526479143120132},\n",
       " {'val_loss': 1.581545088526088,\n",
       "  'val_accuracy': 0.6235371466140697,\n",
       "  'precision': 0.5492770623069583,\n",
       "  'recall': 0.6235371466140697,\n",
       "  'f1-score': 0.559432526679621,\n",
       "  'macro_f1-score': 0.2173193863880227,\n",
       "  'balanced_accuracy': 0.21882838260198134,\n",
       "  'mcc': 0.4511790081003617}]"
      ]
     },
     "execution_count": 8,
     "metadata": {},
     "output_type": "execute_result"
    }
   ],
   "source": [
    "all_fold_results"
   ]
  }
 ],
 "metadata": {
  "kernelspec": {
   "display_name": "Python 3 (ipykernel)",
   "language": "python",
   "name": "python3"
  },
  "language_info": {
   "codemirror_mode": {
    "name": "ipython",
    "version": 3
   },
   "file_extension": ".py",
   "mimetype": "text/x-python",
   "name": "python",
   "nbconvert_exporter": "python",
   "pygments_lexer": "ipython3",
   "version": "3.11.9"
  }
 },
 "nbformat": 4,
 "nbformat_minor": 5
}
