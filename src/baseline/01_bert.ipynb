{
 "cells": [
  {
   "cell_type": "code",
   "execution_count": 1,
   "id": "f22f4841-9a9d-4a63-b896-560594d666d8",
   "metadata": {},
   "outputs": [
    {
     "data": {
      "text/html": [
       "<div>\n",
       "<style scoped>\n",
       "    .dataframe tbody tr th:only-of-type {\n",
       "        vertical-align: middle;\n",
       "    }\n",
       "\n",
       "    .dataframe tbody tr th {\n",
       "        vertical-align: top;\n",
       "    }\n",
       "\n",
       "    .dataframe thead th {\n",
       "        text-align: right;\n",
       "    }\n",
       "</style>\n",
       "<table border=\"1\" class=\"dataframe\">\n",
       "  <thead>\n",
       "    <tr style=\"text-align: right;\">\n",
       "      <th></th>\n",
       "      <th>Inbound Message</th>\n",
       "      <th>Label</th>\n",
       "    </tr>\n",
       "  </thead>\n",
       "  <tbody>\n",
       "    <tr>\n",
       "      <th>0</th>\n",
       "      <td>login issue verified user details employee man...</td>\n",
       "      <td>0</td>\n",
       "    </tr>\n",
       "    <tr>\n",
       "      <th>1</th>\n",
       "      <td>outlook hello team meetings skype meetings etc...</td>\n",
       "      <td>0</td>\n",
       "    </tr>\n",
       "    <tr>\n",
       "      <th>2</th>\n",
       "      <td>cant log vpn cannot log vpn best</td>\n",
       "      <td>0</td>\n",
       "    </tr>\n",
       "    <tr>\n",
       "      <th>3</th>\n",
       "      <td>unable access tool page unable access tool page</td>\n",
       "      <td>0</td>\n",
       "    </tr>\n",
       "    <tr>\n",
       "      <th>4</th>\n",
       "      <td>skype error skype error</td>\n",
       "      <td>0</td>\n",
       "    </tr>\n",
       "    <tr>\n",
       "      <th>...</th>\n",
       "      <td>...</td>\n",
       "      <td>...</td>\n",
       "    </tr>\n",
       "    <tr>\n",
       "      <th>8449</th>\n",
       "      <td>emails coming mail good afternoon receiving em...</td>\n",
       "      <td>22</td>\n",
       "    </tr>\n",
       "    <tr>\n",
       "      <th>8450</th>\n",
       "      <td>telephony software issue telephony software issue</td>\n",
       "      <td>0</td>\n",
       "    </tr>\n",
       "    <tr>\n",
       "      <th>8451</th>\n",
       "      <td>vip windows password reset tifpdchb pedxruyf v...</td>\n",
       "      <td>0</td>\n",
       "    </tr>\n",
       "    <tr>\n",
       "      <th>8452</th>\n",
       "      <td>machine est funcionando unable access machine ...</td>\n",
       "      <td>44</td>\n",
       "    </tr>\n",
       "    <tr>\n",
       "      <th>8453</th>\n",
       "      <td>mehreren lassen sich verschiedene prgramdntyme...</td>\n",
       "      <td>49</td>\n",
       "    </tr>\n",
       "  </tbody>\n",
       "</table>\n",
       "<p>8454 rows × 2 columns</p>\n",
       "</div>"
      ],
      "text/plain": [
       "                                        Inbound Message  Label\n",
       "0     login issue verified user details employee man...      0\n",
       "1     outlook hello team meetings skype meetings etc...      0\n",
       "2                      cant log vpn cannot log vpn best      0\n",
       "3       unable access tool page unable access tool page      0\n",
       "4                               skype error skype error      0\n",
       "...                                                 ...    ...\n",
       "8449  emails coming mail good afternoon receiving em...     22\n",
       "8450  telephony software issue telephony software issue      0\n",
       "8451  vip windows password reset tifpdchb pedxruyf v...      0\n",
       "8452  machine est funcionando unable access machine ...     44\n",
       "8453  mehreren lassen sich verschiedene prgramdntyme...     49\n",
       "\n",
       "[8454 rows x 2 columns]"
      ]
     },
     "execution_count": 1,
     "metadata": {},
     "output_type": "execute_result"
    }
   ],
   "source": [
    "import pandas as pd\n",
    "data_path = \"../../data/open_source_8454_combine_short_description.csv\"\n",
    "df = pd.read_csv(data_path)\n",
    "# df_label_0 = df[df[\"Label\"] == 0]\n",
    "# df_label_0_to_drop = df_label_0.sample(n=3000, random_state=42)\n",
    "# df = df.drop(df_label_0_to_drop.index)\n",
    "df"
   ]
  },
  {
   "cell_type": "code",
   "execution_count": 2,
   "id": "bf737873-4f1c-4588-913d-8f06b2777b20",
   "metadata": {},
   "outputs": [],
   "source": [
    "import sys\n",
    "import os\n",
    "sys.path.append(os.path.abspath('../ml_lib'))\n",
    "\n",
    "from config import *\n",
    "from experiment import run_kfold_experiment"
   ]
  },
  {
   "cell_type": "code",
   "execution_count": 3,
   "id": "a12b2613-aa9d-41c0-8f62-72210eaf8d7f",
   "metadata": {},
   "outputs": [],
   "source": [
    "messages, labels = df['Inbound Message'].tolist(), df['Label'].tolist()"
   ]
  },
  {
   "cell_type": "code",
   "execution_count": 4,
   "id": "38d4729f-f867-4cea-89f9-31f67e5ecced",
   "metadata": {},
   "outputs": [
    {
     "name": "stdout",
     "output_type": "stream",
     "text": [
      "▶ Running: bert-base-uncased + plain + none\n",
      "tokenizer is bert-base-uncased\n",
      "Using device: cuda\n",
      "CUDA Available: True\n",
      "CUDA Device: NVIDIA GeForce RTX 3050 6GB Laptop GPU\n",
      "Current GPU Memory Allocated: 0.00 GB\n",
      "Current GPU Memory Cached: 0.00 GB\n",
      "\n",
      "[Fold 1]\n",
      "model is bert-base-uncased\n"
     ]
    },
    {
     "name": "stderr",
     "output_type": "stream",
     "text": [
      "D:\\Anaconda3\\envs\\cuda\\Lib\\site-packages\\sklearn\\model_selection\\_split.py:737: UserWarning: The least populated class in y has only 7 members, which is less than n_splits=10.\n",
      "  warnings.warn(\n",
      "Some weights of BertForSequenceClassification were not initialized from the model checkpoint at bert-base-uncased and are newly initialized: ['classifier.bias', 'classifier.weight']\n",
      "You should probably TRAIN this model on a down-stream task to be able to use it for predictions and inference.\n"
     ]
    },
    {
     "name": "stdout",
     "output_type": "stream",
     "text": [
      "Epoch 1/20\n"
     ]
    },
    {
     "name": "stderr",
     "output_type": "stream",
     "text": [
      "100%|██████████| 476/476 [03:23<00:00,  2.34it/s]\n"
     ]
    },
    {
     "name": "stdout",
     "output_type": "stream",
     "text": [
      "{'val_loss': 1.5952869282578521, 'val_accuracy': 0.6040189125295509, 'precision': 0.4610350848702902, 'recall': 0.6040189125295509, 'f1-score': 0.5014166117404075, 'macro_f1-score': 0.08886480765695816, 'balanced_accuracy': 0.1189591569984916, 'mcc': 0.4462983330844037, 'train_loss': 1.9742943069138448}\n",
      "Epoch 2/20\n"
     ]
    },
    {
     "name": "stderr",
     "output_type": "stream",
     "text": [
      "100%|██████████| 476/476 [03:21<00:00,  2.36it/s]\n"
     ]
    },
    {
     "name": "stdout",
     "output_type": "stream",
     "text": [
      "{'val_loss': 1.4081198280712344, 'val_accuracy': 0.6158392434988179, 'precision': 0.586920511380815, 'recall': 0.6158392434988179, 'f1-score': 0.5790695367780478, 'macro_f1-score': 0.17387650638391142, 'balanced_accuracy': 0.18847555010047626, 'mcc': 0.4840867459986203, 'train_loss': 1.4205379826681954}\n",
      "Epoch 3/20\n"
     ]
    },
    {
     "name": "stderr",
     "output_type": "stream",
     "text": [
      "100%|██████████| 476/476 [03:22<00:00,  2.36it/s]\n"
     ]
    },
    {
     "name": "stdout",
     "output_type": "stream",
     "text": [
      "{'val_loss': 1.2851841191075883, 'val_accuracy': 0.6643026004728132, 'precision': 0.6076065048074389, 'recall': 0.6643026004728132, 'f1-score': 0.6206927427971163, 'macro_f1-score': 0.23756200404290123, 'balanced_accuracy': 0.2512565436564213, 'mcc': 0.544898326326967, 'train_loss': 1.1036944306698167}\n",
      "Epoch 4/20\n"
     ]
    },
    {
     "name": "stderr",
     "output_type": "stream",
     "text": [
      "100%|██████████| 476/476 [03:22<00:00,  2.35it/s]\n"
     ]
    },
    {
     "name": "stdout",
     "output_type": "stream",
     "text": [
      "{'val_loss': 1.4063115322364952, 'val_accuracy': 0.6595744680851063, 'precision': 0.6298312098519383, 'recall': 0.6595744680851063, 'f1-score': 0.632700727456494, 'macro_f1-score': 0.30133864184521736, 'balanced_accuracy': 0.29404697799596285, 'mcc': 0.5426564905399677, 'train_loss': 0.8232579884048896}\n",
      "Epoch 5/20\n"
     ]
    },
    {
     "name": "stderr",
     "output_type": "stream",
     "text": [
      "100%|██████████| 476/476 [03:22<00:00,  2.35it/s]\n"
     ]
    },
    {
     "name": "stdout",
     "output_type": "stream",
     "text": [
      "{'val_loss': 1.3708385403426189, 'val_accuracy': 0.6737588652482269, 'precision': 0.6345397737161224, 'recall': 0.6737588652482269, 'f1-score': 0.6385404939848117, 'macro_f1-score': 0.28674242374300585, 'balanced_accuracy': 0.2812764200221543, 'mcc': 0.5541055649952824, 'train_loss': 0.6363750865229038}\n",
      "Epoch 6/20\n"
     ]
    },
    {
     "name": "stderr",
     "output_type": "stream",
     "text": [
      "100%|██████████| 476/476 [03:22<00:00,  2.35it/s]\n"
     ]
    },
    {
     "name": "stdout",
     "output_type": "stream",
     "text": [
      "{'val_loss': 1.4133243735106487, 'val_accuracy': 0.6867612293144209, 'precision': 0.6697243175065668, 'recall': 0.6867612293144209, 'f1-score': 0.6605336425297211, 'macro_f1-score': 0.3386295167981952, 'balanced_accuracy': 0.3379655449212417, 'mcc': 0.581177677740708, 'train_loss': 0.4833551928432298}\n",
      "Epoch 7/20\n"
     ]
    },
    {
     "name": "stderr",
     "output_type": "stream",
     "text": [
      "100%|██████████| 476/476 [03:22<00:00,  2.35it/s]\n"
     ]
    },
    {
     "name": "stdout",
     "output_type": "stream",
     "text": [
      "{'val_loss': 1.5383404768862814, 'val_accuracy': 0.6725768321513003, 'precision': 0.6517017249085294, 'recall': 0.6725768321513003, 'f1-score': 0.650671807299518, 'macro_f1-score': 0.3539287393258737, 'balanced_accuracy': 0.3517319971439089, 'mcc': 0.563658649641369, 'train_loss': 0.38500829123962327}\n",
      "Epoch 8/20\n"
     ]
    },
    {
     "name": "stderr",
     "output_type": "stream",
     "text": [
      "100%|██████████| 476/476 [03:22<00:00,  2.35it/s]\n"
     ]
    },
    {
     "name": "stdout",
     "output_type": "stream",
     "text": [
      "{'val_loss': 1.5069278011906821, 'val_accuracy': 0.6773049645390071, 'precision': 0.663987999322884, 'recall': 0.6773049645390071, 'f1-score': 0.6550315098920518, 'macro_f1-score': 0.37076975349911406, 'balanced_accuracy': 0.3508674892271093, 'mcc': 0.5634466453591892, 'train_loss': 0.3332614047988905}\n",
      "Epoch 9/20\n"
     ]
    },
    {
     "name": "stderr",
     "output_type": "stream",
     "text": [
      "100%|██████████| 476/476 [03:22<00:00,  2.35it/s]\n"
     ]
    },
    {
     "name": "stdout",
     "output_type": "stream",
     "text": [
      "{'val_loss': 1.582093156733603, 'val_accuracy': 0.66548463356974, 'precision': 0.6599411603760281, 'recall': 0.66548463356974, 'f1-score': 0.6497228790321399, 'macro_f1-score': 0.3982296268986194, 'balanced_accuracy': 0.39435027856586746, 'mcc': 0.5560836375711181, 'train_loss': 0.27911306583095624}\n",
      "Epoch 10/20\n"
     ]
    },
    {
     "name": "stderr",
     "output_type": "stream",
     "text": [
      "100%|██████████| 476/476 [03:22<00:00,  2.35it/s]\n"
     ]
    },
    {
     "name": "stdout",
     "output_type": "stream",
     "text": [
      "{'val_loss': 1.7687124992316623, 'val_accuracy': 0.6619385342789598, 'precision': 0.6423179570483574, 'recall': 0.6619385342789598, 'f1-score': 0.6320611480330378, 'macro_f1-score': 0.36088441632559715, 'balanced_accuracy': 0.3390302912912088, 'mcc': 0.5369684637713099, 'train_loss': 0.2526416582282351}\n",
      "Epoch 11/20\n"
     ]
    },
    {
     "name": "stderr",
     "output_type": "stream",
     "text": [
      "100%|██████████| 476/476 [03:22<00:00,  2.35it/s]\n"
     ]
    },
    {
     "name": "stdout",
     "output_type": "stream",
     "text": [
      "{'val_loss': 1.6595825575432688, 'val_accuracy': 0.6773049645390071, 'precision': 0.6783638184464591, 'recall': 0.6773049645390071, 'f1-score': 0.6627599069, 'macro_f1-score': 0.4194179927473229, 'balanced_accuracy': 0.41090475929873477, 'mcc': 0.5711421854342683, 'train_loss': 0.24054770660390998}\n",
      "Epoch 12/20\n"
     ]
    },
    {
     "name": "stderr",
     "output_type": "stream",
     "text": [
      "100%|██████████| 476/476 [03:22<00:00,  2.35it/s]\n"
     ]
    },
    {
     "name": "stdout",
     "output_type": "stream",
     "text": [
      "{'val_loss': 1.76157697529163, 'val_accuracy': 0.682033096926714, 'precision': 0.672843045942409, 'recall': 0.682033096926714, 'f1-score': 0.6629269514872047, 'macro_f1-score': 0.41127634345900527, 'balanced_accuracy': 0.39936766499419674, 'mcc': 0.5709666715270902, 'train_loss': 0.2395759567974464}\n",
      "Epoch 13/20\n"
     ]
    },
    {
     "name": "stderr",
     "output_type": "stream",
     "text": [
      "100%|██████████| 476/476 [03:22<00:00,  2.35it/s]\n"
     ]
    },
    {
     "name": "stdout",
     "output_type": "stream",
     "text": [
      "{'val_loss': 1.829694556740095, 'val_accuracy': 0.6382978723404256, 'precision': 0.6489829595488218, 'recall': 0.6382978723404256, 'f1-score': 0.6334488652003046, 'macro_f1-score': 0.34773817498483744, 'balanced_accuracy': 0.3687103655932141, 'mcc': 0.5356759680539286, 'train_loss': 0.21205398119583005}\n",
      "Epoch 14/20\n"
     ]
    },
    {
     "name": "stderr",
     "output_type": "stream",
     "text": [
      "100%|██████████| 476/476 [03:22<00:00,  2.35it/s]\n"
     ]
    },
    {
     "name": "stdout",
     "output_type": "stream",
     "text": [
      "{'val_loss': 1.8949807252524034, 'val_accuracy': 0.6867612293144209, 'precision': 0.6621547811020104, 'recall': 0.6867612293144209, 'f1-score': 0.6458504521612968, 'macro_f1-score': 0.37555344725380446, 'balanced_accuracy': 0.342387971883143, 'mcc': 0.5662293767993632, 'train_loss': 0.223747410661807}\n",
      "Early stopping.\n",
      "\n",
      "[Fold 2]\n",
      "model is bert-base-uncased\n"
     ]
    },
    {
     "name": "stderr",
     "output_type": "stream",
     "text": [
      "Some weights of BertForSequenceClassification were not initialized from the model checkpoint at bert-base-uncased and are newly initialized: ['classifier.bias', 'classifier.weight']\n",
      "You should probably TRAIN this model on a down-stream task to be able to use it for predictions and inference.\n"
     ]
    },
    {
     "name": "stdout",
     "output_type": "stream",
     "text": [
      "Epoch 1/20\n"
     ]
    },
    {
     "name": "stderr",
     "output_type": "stream",
     "text": [
      "100%|██████████| 476/476 [03:21<00:00,  2.36it/s]\n"
     ]
    },
    {
     "name": "stdout",
     "output_type": "stream",
     "text": [
      "{'val_loss': 1.5108733441469804, 'val_accuracy': 0.6063829787234043, 'precision': 0.47763232570803005, 'recall': 0.6063829787234043, 'f1-score': 0.5132541112813332, 'macro_f1-score': 0.11432634993226187, 'balanced_accuracy': 0.11555747881183681, 'mcc': 0.4329317184716045, 'train_loss': 1.8732298319580174}\n",
      "Epoch 2/20\n"
     ]
    },
    {
     "name": "stderr",
     "output_type": "stream",
     "text": [
      "100%|██████████| 476/476 [03:22<00:00,  2.35it/s]\n"
     ]
    },
    {
     "name": "stdout",
     "output_type": "stream",
     "text": [
      "{'val_loss': 1.2935103723463022, 'val_accuracy': 0.6560283687943262, 'precision': 0.5998330578616252, 'recall': 0.6560283687943262, 'f1-score': 0.605948400909102, 'macro_f1-score': 0.22341572316349215, 'balanced_accuracy': 0.23235181120887238, 'mcc': 0.5314773499538655, 'train_loss': 1.3234606231836712}\n",
      "Epoch 3/20\n"
     ]
    },
    {
     "name": "stderr",
     "output_type": "stream",
     "text": [
      "100%|██████████| 476/476 [03:22<00:00,  2.35it/s]\n"
     ]
    },
    {
     "name": "stdout",
     "output_type": "stream",
     "text": [
      "{'val_loss': 1.3191399771087575, 'val_accuracy': 0.6619385342789598, 'precision': 0.6438177613283723, 'recall': 0.6619385342789598, 'f1-score': 0.6308872920568223, 'macro_f1-score': 0.2735349388823293, 'balanced_accuracy': 0.2758591569696404, 'mcc': 0.5428644074732686, 'train_loss': 1.0115192587009998}\n",
      "Epoch 4/20\n"
     ]
    },
    {
     "name": "stderr",
     "output_type": "stream",
     "text": [
      "100%|██████████| 476/476 [03:22<00:00,  2.35it/s]\n"
     ]
    },
    {
     "name": "stdout",
     "output_type": "stream",
     "text": [
      "{'val_loss': 1.31521460217125, 'val_accuracy': 0.6725768321513003, 'precision': 0.6526305971890294, 'recall': 0.6725768321513003, 'f1-score': 0.6415930446461535, 'macro_f1-score': 0.3033533936616082, 'balanced_accuracy': 0.31468329573351234, 'mcc': 0.5642879151429546, 'train_loss': 0.7565886447628757}\n",
      "Epoch 5/20\n"
     ]
    },
    {
     "name": "stderr",
     "output_type": "stream",
     "text": [
      "100%|██████████| 476/476 [03:22<00:00,  2.35it/s]\n"
     ]
    },
    {
     "name": "stdout",
     "output_type": "stream",
     "text": [
      "{'val_loss': 1.3023398203669854, 'val_accuracy': 0.6631205673758865, 'precision': 0.6670562522141412, 'recall': 0.6631205673758865, 'f1-score': 0.6537021026435248, 'macro_f1-score': 0.2978543707490886, 'balanced_accuracy': 0.3185402782896458, 'mcc': 0.5583566671199003, 'train_loss': 0.5635719583721972}\n",
      "Epoch 6/20\n"
     ]
    },
    {
     "name": "stderr",
     "output_type": "stream",
     "text": [
      "100%|██████████| 476/476 [03:22<00:00,  2.35it/s]\n"
     ]
    },
    {
     "name": "stdout",
     "output_type": "stream",
     "text": [
      "{'val_loss': 1.3583730442344017, 'val_accuracy': 0.6843971631205674, 'precision': 0.6659228178918449, 'recall': 0.6843971631205674, 'f1-score': 0.6588275473918052, 'macro_f1-score': 0.34015598464649166, 'balanced_accuracy': 0.3402312348003562, 'mcc': 0.574214412374788, 'train_loss': 0.4436512099140707}\n",
      "Epoch 7/20\n"
     ]
    },
    {
     "name": "stderr",
     "output_type": "stream",
     "text": [
      "100%|██████████| 476/476 [03:22<00:00,  2.35it/s]\n"
     ]
    },
    {
     "name": "stdout",
     "output_type": "stream",
     "text": [
      "{'val_loss': 1.433563601858211, 'val_accuracy': 0.6867612293144209, 'precision': 0.6747623802090053, 'recall': 0.6867612293144209, 'f1-score': 0.6669220006373296, 'macro_f1-score': 0.35742433733283596, 'balanced_accuracy': 0.35196912420643145, 'mcc': 0.585213214981655, 'train_loss': 0.3666809337143199}\n",
      "Epoch 8/20\n"
     ]
    },
    {
     "name": "stderr",
     "output_type": "stream",
     "text": [
      "100%|██████████| 476/476 [03:22<00:00,  2.35it/s]\n"
     ]
    },
    {
     "name": "stdout",
     "output_type": "stream",
     "text": [
      "{'val_loss': 1.5213795942517947, 'val_accuracy': 0.6773049645390071, 'precision': 0.6747366929612686, 'recall': 0.6773049645390071, 'f1-score': 0.6608885764022222, 'macro_f1-score': 0.3794322805237113, 'balanced_accuracy': 0.37763047001516936, 'mcc': 0.5730186123886593, 'train_loss': 0.2979333688849348}\n",
      "Epoch 9/20\n"
     ]
    },
    {
     "name": "stderr",
     "output_type": "stream",
     "text": [
      "100%|██████████| 476/476 [03:22<00:00,  2.35it/s]\n"
     ]
    },
    {
     "name": "stdout",
     "output_type": "stream",
     "text": [
      "{'val_loss': 1.5622720099845022, 'val_accuracy': 0.6737588652482269, 'precision': 0.6644878150892615, 'recall': 0.6737588652482269, 'f1-score': 0.6588910407670246, 'macro_f1-score': 0.3763657058352984, 'balanced_accuracy': 0.3814796774876483, 'mcc': 0.5668248425259179, 'train_loss': 0.26823653495369654}\n",
      "Epoch 10/20\n"
     ]
    },
    {
     "name": "stderr",
     "output_type": "stream",
     "text": [
      "100%|██████████| 476/476 [03:22<00:00,  2.35it/s]\n"
     ]
    },
    {
     "name": "stdout",
     "output_type": "stream",
     "text": [
      "{'val_loss': 1.4754024878987726, 'val_accuracy': 0.6796690307328606, 'precision': 0.6723505876112225, 'recall': 0.6796690307328606, 'f1-score': 0.6646847114850422, 'macro_f1-score': 0.368410665620446, 'balanced_accuracy': 0.3709268211235808, 'mcc': 0.576764011555741, 'train_loss': 0.24810587122699856}\n",
      "Epoch 11/20\n"
     ]
    },
    {
     "name": "stderr",
     "output_type": "stream",
     "text": [
      "100%|██████████| 476/476 [03:22<00:00,  2.35it/s]\n"
     ]
    },
    {
     "name": "stdout",
     "output_type": "stream",
     "text": [
      "{'val_loss': 1.689242183037524, 'val_accuracy': 0.6513002364066194, 'precision': 0.7018871383695622, 'recall': 0.6513002364066194, 'f1-score': 0.6614149350591558, 'macro_f1-score': 0.39513122060163214, 'balanced_accuracy': 0.4334578907797761, 'mcc': 0.5560717996170403, 'train_loss': 0.22042312819369825}\n",
      "Epoch 12/20\n"
     ]
    },
    {
     "name": "stderr",
     "output_type": "stream",
     "text": [
      "100%|██████████| 476/476 [03:22<00:00,  2.35it/s]\n"
     ]
    },
    {
     "name": "stdout",
     "output_type": "stream",
     "text": [
      "{'val_loss': 1.642913024380522, 'val_accuracy': 0.6737588652482269, 'precision': 0.6570884501876005, 'recall': 0.6737588652482269, 'f1-score': 0.6544955738320668, 'macro_f1-score': 0.3616906706076734, 'balanced_accuracy': 0.3761878994087796, 'mcc': 0.5644161155766991, 'train_loss': 0.2107645745747214}\n",
      "Epoch 13/20\n"
     ]
    },
    {
     "name": "stderr",
     "output_type": "stream",
     "text": [
      "100%|██████████| 476/476 [03:22<00:00,  2.35it/s]\n"
     ]
    },
    {
     "name": "stdout",
     "output_type": "stream",
     "text": [
      "{'val_loss': 1.6756010499765288, 'val_accuracy': 0.6725768321513003, 'precision': 0.6912775234086058, 'recall': 0.6725768321513003, 'f1-score': 0.6613906647249853, 'macro_f1-score': 0.38500535613368647, 'balanced_accuracy': 0.3829201400324775, 'mcc': 0.574548819120371, 'train_loss': 0.2001146307555536}\n",
      "Epoch 14/20\n"
     ]
    },
    {
     "name": "stderr",
     "output_type": "stream",
     "text": [
      "100%|██████████| 476/476 [03:22<00:00,  2.35it/s]\n"
     ]
    },
    {
     "name": "stdout",
     "output_type": "stream",
     "text": [
      "{'val_loss': 1.7009451605801313, 'val_accuracy': 0.66548463356974, 'precision': 0.6554252479770886, 'recall': 0.66548463356974, 'f1-score': 0.6403405768246875, 'macro_f1-score': 0.3610340121598601, 'balanced_accuracy': 0.36919489090974095, 'mcc': 0.548855899853907, 'train_loss': 0.24132960491046748}\n",
      "Early stopping.\n",
      "\n",
      "[Fold 3]\n",
      "model is bert-base-uncased\n"
     ]
    },
    {
     "name": "stderr",
     "output_type": "stream",
     "text": [
      "Some weights of BertForSequenceClassification were not initialized from the model checkpoint at bert-base-uncased and are newly initialized: ['classifier.bias', 'classifier.weight']\n",
      "You should probably TRAIN this model on a down-stream task to be able to use it for predictions and inference.\n"
     ]
    },
    {
     "name": "stdout",
     "output_type": "stream",
     "text": [
      "Epoch 1/20\n"
     ]
    },
    {
     "name": "stderr",
     "output_type": "stream",
     "text": [
      "100%|██████████| 476/476 [03:23<00:00,  2.34it/s]\n"
     ]
    },
    {
     "name": "stdout",
     "output_type": "stream",
     "text": [
      "{'val_loss': 1.6896229307606536, 'val_accuracy': 0.5886524822695035, 'precision': 0.40279024784699297, 'recall': 0.5886524822695035, 'f1-score': 0.47117418212950685, 'macro_f1-score': 0.08469942782876334, 'balanced_accuracy': 0.09890712750542935, 'mcc': 0.39580954872065865, 'train_loss': 1.9568025146712775}\n",
      "Epoch 2/20\n"
     ]
    },
    {
     "name": "stderr",
     "output_type": "stream",
     "text": [
      "100%|██████████| 476/476 [03:22<00:00,  2.35it/s]\n"
     ]
    },
    {
     "name": "stdout",
     "output_type": "stream",
     "text": [
      "{'val_loss': 1.4159321160811298, 'val_accuracy': 0.640661938534279, 'precision': 0.5592870061627423, 'recall': 0.640661938534279, 'f1-score': 0.565918586239106, 'macro_f1-score': 0.1851756971666484, 'balanced_accuracy': 0.18501163445999694, 'mcc': 0.4939639140031987, 'train_loss': 1.3826220601546664}\n",
      "Epoch 3/20\n"
     ]
    },
    {
     "name": "stderr",
     "output_type": "stream",
     "text": [
      "100%|██████████| 476/476 [03:22<00:00,  2.35it/s]\n"
     ]
    },
    {
     "name": "stdout",
     "output_type": "stream",
     "text": [
      "{'val_loss': 1.4317804878612734, 'val_accuracy': 0.6572104018912529, 'precision': 0.6200536821807474, 'recall': 0.6572104018912529, 'f1-score': 0.607961597343392, 'macro_f1-score': 0.22944194382728963, 'balanced_accuracy': 0.2154471915231229, 'mcc': 0.5197147765040593, 'train_loss': 1.0622240862801295}\n",
      "Epoch 4/20\n"
     ]
    },
    {
     "name": "stderr",
     "output_type": "stream",
     "text": [
      "100%|██████████| 476/476 [03:22<00:00,  2.35it/s]\n"
     ]
    },
    {
     "name": "stdout",
     "output_type": "stream",
     "text": [
      "{'val_loss': 1.384117141084851, 'val_accuracy': 0.6631205673758865, 'precision': 0.6146055066177851, 'recall': 0.6631205673758865, 'f1-score': 0.6266950806389884, 'macro_f1-score': 0.2627357874128256, 'balanced_accuracy': 0.2585308256059772, 'mcc': 0.5399412624182802, 'train_loss': 0.8153832171644483}\n",
      "Epoch 5/20\n"
     ]
    },
    {
     "name": "stderr",
     "output_type": "stream",
     "text": [
      "100%|██████████| 476/476 [03:22<00:00,  2.35it/s]\n"
     ]
    },
    {
     "name": "stdout",
     "output_type": "stream",
     "text": [
      "{'val_loss': 1.428148773481261, 'val_accuracy': 0.6784869976359338, 'precision': 0.6503254193501189, 'recall': 0.6784869976359338, 'f1-score': 0.6520336200988098, 'macro_f1-score': 0.31932210918868253, 'balanced_accuracy': 0.3103139027821752, 'mcc': 0.5694055262247593, 'train_loss': 0.6261228897741863}\n",
      "Epoch 6/20\n"
     ]
    },
    {
     "name": "stderr",
     "output_type": "stream",
     "text": [
      "100%|██████████| 476/476 [03:22<00:00,  2.35it/s]\n"
     ]
    },
    {
     "name": "stdout",
     "output_type": "stream",
     "text": [
      "{'val_loss': 1.5224438275931016, 'val_accuracy': 0.6619385342789598, 'precision': 0.6514694335065585, 'recall': 0.6619385342789598, 'f1-score': 0.6469702590499077, 'macro_f1-score': 0.34802946020696773, 'balanced_accuracy': 0.3475069927261748, 'mcc': 0.5501034414094531, 'train_loss': 0.4759330410870309}\n",
      "Epoch 7/20\n"
     ]
    },
    {
     "name": "stderr",
     "output_type": "stream",
     "text": [
      "100%|██████████| 476/476 [03:22<00:00,  2.35it/s]\n"
     ]
    },
    {
     "name": "stdout",
     "output_type": "stream",
     "text": [
      "{'val_loss': 1.5322541858790055, 'val_accuracy': 0.6595744680851063, 'precision': 0.6761703903712241, 'recall': 0.6595744680851063, 'f1-score': 0.6567873311638613, 'macro_f1-score': 0.3761120432461931, 'balanced_accuracy': 0.3874861104105083, 'mcc': 0.5554588458042528, 'train_loss': 0.38620155388411104}\n",
      "Epoch 8/20\n"
     ]
    },
    {
     "name": "stderr",
     "output_type": "stream",
     "text": [
      "100%|██████████| 476/476 [03:23<00:00,  2.34it/s]\n"
     ]
    },
    {
     "name": "stdout",
     "output_type": "stream",
     "text": [
      "{'val_loss': 1.6194561213817236, 'val_accuracy': 0.6761229314420804, 'precision': 0.6699179809552149, 'recall': 0.6761229314420804, 'f1-score': 0.6616607860701211, 'macro_f1-score': 0.3795294520612598, 'balanced_accuracy': 0.3721442276220477, 'mcc': 0.5708113985913431, 'train_loss': 0.33669137266002785}\n",
      "Epoch 9/20\n"
     ]
    },
    {
     "name": "stderr",
     "output_type": "stream",
     "text": [
      "100%|██████████| 476/476 [03:23<00:00,  2.34it/s]\n"
     ]
    },
    {
     "name": "stdout",
     "output_type": "stream",
     "text": [
      "{'val_loss': 1.7337586025022111, 'val_accuracy': 0.6749408983451537, 'precision': 0.6483164285702547, 'recall': 0.6749408983451537, 'f1-score': 0.6482458542226813, 'macro_f1-score': 0.3353997322219591, 'balanced_accuracy': 0.31644405605369047, 'mcc': 0.5590172295632136, 'train_loss': 0.28369110592586155}\n",
      "Epoch 10/20\n"
     ]
    },
    {
     "name": "stderr",
     "output_type": "stream",
     "text": [
      "100%|██████████| 476/476 [03:22<00:00,  2.35it/s]\n"
     ]
    },
    {
     "name": "stdout",
     "output_type": "stream",
     "text": [
      "{'val_loss': 1.7164454825644224, 'val_accuracy': 0.6678486997635934, 'precision': 0.6720223907672924, 'recall': 0.6678486997635934, 'f1-score': 0.6549385572208194, 'macro_f1-score': 0.3657327882357748, 'balanced_accuracy': 0.34171632031304533, 'mcc': 0.5521252735588217, 'train_loss': 0.25113777160652356}\n",
      "Epoch 11/20\n"
     ]
    },
    {
     "name": "stderr",
     "output_type": "stream",
     "text": [
      "100%|██████████| 476/476 [03:22<00:00,  2.35it/s]\n",
      "Some weights of BertForSequenceClassification were not initialized from the model checkpoint at bert-base-uncased and are newly initialized: ['classifier.bias', 'classifier.weight']\n",
      "You should probably TRAIN this model on a down-stream task to be able to use it for predictions and inference.\n"
     ]
    },
    {
     "name": "stdout",
     "output_type": "stream",
     "text": [
      "{'val_loss': 1.7936561321312527, 'val_accuracy': 0.66548463356974, 'precision': 0.6508076959684193, 'recall': 0.66548463356974, 'f1-score': 0.6338298863873028, 'macro_f1-score': 0.3341917683391641, 'balanced_accuracy': 0.32492514125201694, 'mcc': 0.5447770772388919, 'train_loss': 0.24862771519232824}\n",
      "Early stopping.\n",
      "\n",
      "[Fold 4]\n",
      "model is bert-base-uncased\n",
      "Epoch 1/20\n"
     ]
    },
    {
     "name": "stderr",
     "output_type": "stream",
     "text": [
      "100%|██████████| 476/476 [03:22<00:00,  2.35it/s]\n"
     ]
    },
    {
     "name": "stdout",
     "output_type": "stream",
     "text": [
      "{'val_loss': 1.5818134703726139, 'val_accuracy': 0.6004728132387707, 'precision': 0.5231173915697175, 'recall': 0.6004728132387707, 'f1-score': 0.5285907623518112, 'macro_f1-score': 0.11965468934865427, 'balanced_accuracy': 0.1369456689751266, 'mcc': 0.4426439800207127, 'train_loss': 1.9078117770557643}\n",
      "Epoch 2/20\n"
     ]
    },
    {
     "name": "stderr",
     "output_type": "stream",
     "text": [
      "100%|██████████| 476/476 [03:22<00:00,  2.35it/s]\n"
     ]
    },
    {
     "name": "stdout",
     "output_type": "stream",
     "text": [
      "{'val_loss': 1.3465122456820506, 'val_accuracy': 0.648936170212766, 'precision': 0.5963588822224895, 'recall': 0.648936170212766, 'f1-score': 0.5893589408930555, 'macro_f1-score': 0.19810669923359142, 'balanced_accuracy': 0.19283148505742514, 'mcc': 0.5094033725215635, 'train_loss': 1.330894030286234}\n",
      "Epoch 3/20\n"
     ]
    },
    {
     "name": "stderr",
     "output_type": "stream",
     "text": [
      "100%|██████████| 476/476 [03:22<00:00,  2.35it/s]\n"
     ]
    },
    {
     "name": "stdout",
     "output_type": "stream",
     "text": [
      "{'val_loss': 1.3098697527399603, 'val_accuracy': 0.6796690307328606, 'precision': 0.6146640074331365, 'recall': 0.6796690307328606, 'f1-score': 0.6261579945398755, 'macro_f1-score': 0.29481319076310997, 'balanced_accuracy': 0.2926584449128722, 'mcc': 0.5591576892462257, 'train_loss': 0.9985553117922875}\n",
      "Epoch 4/20\n"
     ]
    },
    {
     "name": "stderr",
     "output_type": "stream",
     "text": [
      "100%|██████████| 476/476 [03:22<00:00,  2.35it/s]\n"
     ]
    },
    {
     "name": "stdout",
     "output_type": "stream",
     "text": [
      "{'val_loss': 1.326729031103962, 'val_accuracy': 0.6643026004728132, 'precision': 0.6376689698106603, 'recall': 0.6643026004728132, 'f1-score': 0.6319252381730489, 'macro_f1-score': 0.2979077369933324, 'balanced_accuracy': 0.2921253734290123, 'mcc': 0.5447272133048666, 'train_loss': 0.7426646146610254}\n",
      "Epoch 5/20\n"
     ]
    },
    {
     "name": "stderr",
     "output_type": "stream",
     "text": [
      "100%|██████████| 476/476 [03:22<00:00,  2.35it/s]\n"
     ]
    },
    {
     "name": "stdout",
     "output_type": "stream",
     "text": [
      "{'val_loss': 1.36644650124154, 'val_accuracy': 0.6725768321513003, 'precision': 0.6494012102723428, 'recall': 0.6725768321513003, 'f1-score': 0.6494849549372039, 'macro_f1-score': 0.33822218124568154, 'balanced_accuracy': 0.35388212459097923, 'mcc': 0.5649099550981738, 'train_loss': 0.563060570516068}\n",
      "Epoch 6/20\n"
     ]
    },
    {
     "name": "stderr",
     "output_type": "stream",
     "text": [
      "100%|██████████| 476/476 [03:22<00:00,  2.35it/s]\n"
     ]
    },
    {
     "name": "stdout",
     "output_type": "stream",
     "text": [
      "{'val_loss': 1.4548743209748898, 'val_accuracy': 0.6843971631205674, 'precision': 0.6750514078001302, 'recall': 0.6843971631205674, 'f1-score': 0.6671086183883236, 'macro_f1-score': 0.3831366820265199, 'balanced_accuracy': 0.3843257062466212, 'mcc': 0.5808848753356509, 'train_loss': 0.4243698723755088}\n",
      "Epoch 7/20\n"
     ]
    },
    {
     "name": "stderr",
     "output_type": "stream",
     "text": [
      "100%|██████████| 476/476 [03:22<00:00,  2.35it/s]\n"
     ]
    },
    {
     "name": "stdout",
     "output_type": "stream",
     "text": [
      "{'val_loss': 1.4486238281681854, 'val_accuracy': 0.6796690307328606, 'precision': 0.6937699897753771, 'recall': 0.6796690307328606, 'f1-score': 0.6603292928409947, 'macro_f1-score': 0.35432306121017176, 'balanced_accuracy': 0.3580795132917296, 'mcc': 0.570615293275602, 'train_loss': 0.3499504546987034}\n",
      "Epoch 8/20\n"
     ]
    },
    {
     "name": "stderr",
     "output_type": "stream",
     "text": [
      "100%|██████████| 476/476 [03:22<00:00,  2.35it/s]\n"
     ]
    },
    {
     "name": "stdout",
     "output_type": "stream",
     "text": [
      "{'val_loss': 1.433406336689895, 'val_accuracy': 0.6832151300236406, 'precision': 0.6881782214858346, 'recall': 0.6832151300236406, 'f1-score': 0.6664832333444827, 'macro_f1-score': 0.3980214619121439, 'balanced_accuracy': 0.4005456555958722, 'mcc': 0.5780390476531718, 'train_loss': 0.3192741784400174}\n",
      "Epoch 9/20\n"
     ]
    },
    {
     "name": "stderr",
     "output_type": "stream",
     "text": [
      "100%|██████████| 476/476 [03:22<00:00,  2.35it/s]\n"
     ]
    },
    {
     "name": "stdout",
     "output_type": "stream",
     "text": [
      "{'val_loss': 1.5169923634461637, 'val_accuracy': 0.7044917257683215, 'precision': 0.6921011695549341, 'recall': 0.7044917257683215, 'f1-score': 0.6756025440767449, 'macro_f1-score': 0.3990055995890806, 'balanced_accuracy': 0.3676033570388102, 'mcc': 0.5963126827616382, 'train_loss': 0.2797397785563758}\n",
      "Epoch 10/20\n"
     ]
    },
    {
     "name": "stderr",
     "output_type": "stream",
     "text": [
      "100%|██████████| 476/476 [03:22<00:00,  2.35it/s]\n"
     ]
    },
    {
     "name": "stdout",
     "output_type": "stream",
     "text": [
      "{'val_loss': 1.4784974259025645, 'val_accuracy': 0.6855791962174941, 'precision': 0.6874883208938137, 'recall': 0.6855791962174941, 'f1-score': 0.6711719931560336, 'macro_f1-score': 0.4180366769206185, 'balanced_accuracy': 0.4298414883985842, 'mcc': 0.5818472901877961, 'train_loss': 0.2602036008024353}\n",
      "Epoch 11/20\n"
     ]
    },
    {
     "name": "stderr",
     "output_type": "stream",
     "text": [
      "100%|██████████| 476/476 [03:22<00:00,  2.35it/s]\n"
     ]
    },
    {
     "name": "stdout",
     "output_type": "stream",
     "text": [
      "{'val_loss': 1.5290331570607312, 'val_accuracy': 0.6690307328605201, 'precision': 0.6854755986022619, 'recall': 0.6690307328605201, 'f1-score': 0.6622254550804353, 'macro_f1-score': 0.4217529439583931, 'balanced_accuracy': 0.4122499138647986, 'mcc': 0.5613259241514125, 'train_loss': 0.23521371190866627}\n",
      "Epoch 12/20\n"
     ]
    },
    {
     "name": "stderr",
     "output_type": "stream",
     "text": [
      "100%|██████████| 476/476 [03:23<00:00,  2.34it/s]\n"
     ]
    },
    {
     "name": "stdout",
     "output_type": "stream",
     "text": [
      "{'val_loss': 1.605951524568054, 'val_accuracy': 0.6891252955082743, 'precision': 0.6814966993215357, 'recall': 0.6891252955082743, 'f1-score': 0.6724001780037685, 'macro_f1-score': 0.40406544351488116, 'balanced_accuracy': 0.40462541295320703, 'mcc': 0.5847445126003016, 'train_loss': 0.21040342566792017}\n",
      "Epoch 13/20\n"
     ]
    },
    {
     "name": "stderr",
     "output_type": "stream",
     "text": [
      "100%|██████████| 476/476 [03:22<00:00,  2.35it/s]\n"
     ]
    },
    {
     "name": "stdout",
     "output_type": "stream",
     "text": [
      "{'val_loss': 1.6051982596235455, 'val_accuracy': 0.6855791962174941, 'precision': 0.6907531395703352, 'recall': 0.6855791962174941, 'f1-score': 0.6734906614577579, 'macro_f1-score': 0.42058450917451856, 'balanced_accuracy': 0.4210919101076439, 'mcc': 0.5830119627980315, 'train_loss': 0.22325528009810305}\n",
      "Epoch 14/20\n"
     ]
    },
    {
     "name": "stderr",
     "output_type": "stream",
     "text": [
      "100%|██████████| 476/476 [03:22<00:00,  2.35it/s]\n"
     ]
    },
    {
     "name": "stdout",
     "output_type": "stream",
     "text": [
      "{'val_loss': 1.610181306892971, 'val_accuracy': 0.6867612293144209, 'precision': 0.6694900981857215, 'recall': 0.6867612293144209, 'f1-score': 0.6611357829256251, 'macro_f1-score': 0.4161961172559816, 'balanced_accuracy': 0.41734750555284256, 'mcc': 0.5764224789150661, 'train_loss': 0.22201844967193432}\n",
      "Early stopping.\n",
      "\n",
      "[Fold 5]\n",
      "model is bert-base-uncased\n"
     ]
    },
    {
     "name": "stderr",
     "output_type": "stream",
     "text": [
      "Some weights of BertForSequenceClassification were not initialized from the model checkpoint at bert-base-uncased and are newly initialized: ['classifier.bias', 'classifier.weight']\n",
      "You should probably TRAIN this model on a down-stream task to be able to use it for predictions and inference.\n"
     ]
    },
    {
     "name": "stdout",
     "output_type": "stream",
     "text": [
      "Epoch 1/20\n"
     ]
    },
    {
     "name": "stderr",
     "output_type": "stream",
     "text": [
      "100%|██████████| 476/476 [03:22<00:00,  2.35it/s]\n"
     ]
    },
    {
     "name": "stdout",
     "output_type": "stream",
     "text": [
      "{'val_loss': 1.6474725559072674, 'val_accuracy': 0.5881656804733728, 'precision': 0.4762143587809709, 'recall': 0.5881656804733728, 'f1-score': 0.4943471970960742, 'macro_f1-score': 0.0926984403001778, 'balanced_accuracy': 0.11676090142080532, 'mcc': 0.4305714414004702, 'train_loss': 1.917656361493243}\n",
      "Epoch 2/20\n"
     ]
    },
    {
     "name": "stderr",
     "output_type": "stream",
     "text": [
      "100%|██████████| 476/476 [03:22<00:00,  2.35it/s]\n"
     ]
    },
    {
     "name": "stdout",
     "output_type": "stream",
     "text": [
      "{'val_loss': 1.3387059816774332, 'val_accuracy': 0.6366863905325444, 'precision': 0.5737342464602037, 'recall': 0.6366863905325444, 'f1-score': 0.5857591572860052, 'macro_f1-score': 0.2131468079280568, 'balanced_accuracy': 0.22067815176498815, 'mcc': 0.5031908398346039, 'train_loss': 1.3655140868255071}\n",
      "Epoch 3/20\n"
     ]
    },
    {
     "name": "stderr",
     "output_type": "stream",
     "text": [
      "100%|██████████| 476/476 [03:22<00:00,  2.35it/s]\n"
     ]
    },
    {
     "name": "stdout",
     "output_type": "stream",
     "text": [
      "{'val_loss': 1.3262487380009778, 'val_accuracy': 0.6378698224852071, 'precision': 0.6108364836397124, 'recall': 0.6378698224852071, 'f1-score': 0.6113437146580596, 'macro_f1-score': 0.2343817172206725, 'balanced_accuracy': 0.24709086512111975, 'mcc': 0.5198038241337364, 'train_loss': 1.0401943133783942}\n",
      "Epoch 4/20\n"
     ]
    },
    {
     "name": "stderr",
     "output_type": "stream",
     "text": [
      "100%|██████████| 476/476 [03:22<00:00,  2.35it/s]\n"
     ]
    },
    {
     "name": "stdout",
     "output_type": "stream",
     "text": [
      "{'val_loss': 1.3260233222313647, 'val_accuracy': 0.6615384615384615, 'precision': 0.6227024191088358, 'recall': 0.6615384615384615, 'f1-score': 0.6243298653946417, 'macro_f1-score': 0.3019745728460986, 'balanced_accuracy': 0.3005976626616704, 'mcc': 0.5420163391085542, 'train_loss': 0.793242123760596}\n",
      "Epoch 5/20\n"
     ]
    },
    {
     "name": "stderr",
     "output_type": "stream",
     "text": [
      "100%|██████████| 476/476 [03:22<00:00,  2.35it/s]\n"
     ]
    },
    {
     "name": "stdout",
     "output_type": "stream",
     "text": [
      "{'val_loss': 1.4107949418841668, 'val_accuracy': 0.6579881656804734, 'precision': 0.6440883961404369, 'recall': 0.6579881656804734, 'f1-score': 0.6344444518272472, 'macro_f1-score': 0.33342759354713114, 'balanced_accuracy': 0.3397342663858643, 'mcc': 0.5456618648498592, 'train_loss': 0.5865635354650998}\n",
      "Epoch 6/20\n"
     ]
    },
    {
     "name": "stderr",
     "output_type": "stream",
     "text": [
      "100%|██████████| 476/476 [03:23<00:00,  2.34it/s]\n"
     ]
    },
    {
     "name": "stdout",
     "output_type": "stream",
     "text": [
      "{'val_loss': 1.4365251699708543, 'val_accuracy': 0.6520710059171597, 'precision': 0.6627507747089542, 'recall': 0.6520710059171597, 'f1-score': 0.6463229394300523, 'macro_f1-score': 0.35531307499411247, 'balanced_accuracy': 0.3750194315468285, 'mcc': 0.5549789748498714, 'train_loss': 0.4594262188394405}\n",
      "Epoch 7/20\n"
     ]
    },
    {
     "name": "stderr",
     "output_type": "stream",
     "text": [
      "100%|██████████| 476/476 [03:22<00:00,  2.35it/s]\n"
     ]
    },
    {
     "name": "stdout",
     "output_type": "stream",
     "text": [
      "{'val_loss': 1.4987607468973916, 'val_accuracy': 0.6603550295857988, 'precision': 0.663444821514631, 'recall': 0.6603550295857988, 'f1-score': 0.64319866616745, 'macro_f1-score': 0.3622571228725803, 'balanced_accuracy': 0.3775432873892981, 'mcc': 0.5513135831961707, 'train_loss': 0.36568389960932507}\n",
      "Epoch 8/20\n"
     ]
    },
    {
     "name": "stderr",
     "output_type": "stream",
     "text": [
      "100%|██████████| 476/476 [03:23<00:00,  2.34it/s]\n"
     ]
    },
    {
     "name": "stdout",
     "output_type": "stream",
     "text": [
      "{'val_loss': 1.4616527253726743, 'val_accuracy': 0.6757396449704142, 'precision': 0.6752673403156119, 'recall': 0.6757396449704142, 'f1-score': 0.6554626906460718, 'macro_f1-score': 0.39713601739839915, 'balanced_accuracy': 0.40352581726238873, 'mcc': 0.5730193840990809, 'train_loss': 0.3089252069216816}\n",
      "Epoch 9/20\n"
     ]
    },
    {
     "name": "stderr",
     "output_type": "stream",
     "text": [
      "100%|██████████| 476/476 [03:23<00:00,  2.33it/s]\n"
     ]
    },
    {
     "name": "stdout",
     "output_type": "stream",
     "text": [
      "{'val_loss': 1.6938879087848484, 'val_accuracy': 0.6733727810650888, 'precision': 0.6613084485701886, 'recall': 0.6733727810650888, 'f1-score': 0.6396729240201208, 'macro_f1-score': 0.3643023142885813, 'balanced_accuracy': 0.34652508907929275, 'mcc': 0.5540765680959738, 'train_loss': 0.2699760099591202}\n",
      "Epoch 10/20\n"
     ]
    },
    {
     "name": "stderr",
     "output_type": "stream",
     "text": [
      "100%|██████████| 476/476 [03:23<00:00,  2.34it/s]\n"
     ]
    },
    {
     "name": "stdout",
     "output_type": "stream",
     "text": [
      "{'val_loss': 1.6072442885839715, 'val_accuracy': 0.6781065088757396, 'precision': 0.6692455604159664, 'recall': 0.6781065088757396, 'f1-score': 0.6546142945992505, 'macro_f1-score': 0.37412448304054435, 'balanced_accuracy': 0.3699353083999328, 'mcc': 0.5669025465152029, 'train_loss': 0.2668632910109493}\n",
      "Epoch 11/20\n"
     ]
    },
    {
     "name": "stderr",
     "output_type": "stream",
     "text": [
      "100%|██████████| 476/476 [03:23<00:00,  2.34it/s]\n"
     ]
    },
    {
     "name": "stdout",
     "output_type": "stream",
     "text": [
      "{'val_loss': 1.6518079762188893, 'val_accuracy': 0.6378698224852071, 'precision': 0.6605729753980589, 'recall': 0.6378698224852071, 'f1-score': 0.6366206793962875, 'macro_f1-score': 0.33598367165588255, 'balanced_accuracy': 0.34538717332335395, 'mcc': 0.5342981653060834, 'train_loss': 0.2241316061357365}\n",
      "Early stopping.\n",
      "\n",
      "[Fold 6]\n",
      "model is bert-base-uncased\n"
     ]
    },
    {
     "name": "stderr",
     "output_type": "stream",
     "text": [
      "Some weights of BertForSequenceClassification were not initialized from the model checkpoint at bert-base-uncased and are newly initialized: ['classifier.bias', 'classifier.weight']\n",
      "You should probably TRAIN this model on a down-stream task to be able to use it for predictions and inference.\n"
     ]
    },
    {
     "name": "stdout",
     "output_type": "stream",
     "text": [
      "Epoch 1/20\n"
     ]
    },
    {
     "name": "stderr",
     "output_type": "stream",
     "text": [
      "100%|██████████| 476/476 [03:24<00:00,  2.33it/s]\n"
     ]
    },
    {
     "name": "stdout",
     "output_type": "stream",
     "text": [
      "{'val_loss': 1.5223004969785798, 'val_accuracy': 0.6130177514792899, 'precision': 0.4693768186281048, 'recall': 0.6130177514792899, 'f1-score': 0.5128019823848294, 'macro_f1-score': 0.10394183798232852, 'balanced_accuracy': 0.12670879624154183, 'mcc': 0.4523376772349847, 'train_loss': 1.9026273639262223}\n",
      "Epoch 2/20\n"
     ]
    },
    {
     "name": "stderr",
     "output_type": "stream",
     "text": [
      "100%|██████████| 476/476 [03:23<00:00,  2.34it/s]\n"
     ]
    },
    {
     "name": "stdout",
     "output_type": "stream",
     "text": [
      "{'val_loss': 1.3476099079509951, 'val_accuracy': 0.6295857988165681, 'precision': 0.5709022712101218, 'recall': 0.6295857988165681, 'f1-score': 0.5765828221386574, 'macro_f1-score': 0.18658523815045644, 'balanced_accuracy': 0.1911060159390541, 'mcc': 0.48938205409146174, 'train_loss': 1.338763011603796}\n",
      "Epoch 3/20\n"
     ]
    },
    {
     "name": "stderr",
     "output_type": "stream",
     "text": [
      "100%|██████████| 476/476 [03:23<00:00,  2.34it/s]\n"
     ]
    },
    {
     "name": "stdout",
     "output_type": "stream",
     "text": [
      "{'val_loss': 1.343875470588792, 'val_accuracy': 0.6390532544378699, 'precision': 0.5847516382785466, 'recall': 0.6390532544378699, 'f1-score': 0.5862765614295166, 'macro_f1-score': 0.22591167636025727, 'balanced_accuracy': 0.21150364738681152, 'mcc': 0.49587601630491596, 'train_loss': 1.0126241265850908}\n",
      "Epoch 4/20\n"
     ]
    },
    {
     "name": "stderr",
     "output_type": "stream",
     "text": [
      "100%|██████████| 476/476 [03:23<00:00,  2.34it/s]\n"
     ]
    },
    {
     "name": "stdout",
     "output_type": "stream",
     "text": [
      "{'val_loss': 1.2443471365379837, 'val_accuracy': 0.6733727810650888, 'precision': 0.6389253667345172, 'recall': 0.6733727810650888, 'f1-score': 0.6425918623102538, 'macro_f1-score': 0.30466745668434403, 'balanced_accuracy': 0.2989534765405314, 'mcc': 0.5605911641230276, 'train_loss': 0.7684139542970336}\n",
      "Epoch 5/20\n"
     ]
    },
    {
     "name": "stderr",
     "output_type": "stream",
     "text": [
      "100%|██████████| 476/476 [03:25<00:00,  2.32it/s]\n"
     ]
    },
    {
     "name": "stdout",
     "output_type": "stream",
     "text": [
      "{'val_loss': 1.2217729530244503, 'val_accuracy': 0.6911242603550296, 'precision': 0.6794898919454112, 'recall': 0.6911242603550296, 'f1-score': 0.6730281117483703, 'macro_f1-score': 0.3404926589292455, 'balanced_accuracy': 0.34854734846587676, 'mcc': 0.5928960825478468, 'train_loss': 0.5859888941675675}\n",
      "Epoch 6/20\n"
     ]
    },
    {
     "name": "stderr",
     "output_type": "stream",
     "text": [
      "100%|██████████| 476/476 [03:23<00:00,  2.33it/s]\n"
     ]
    },
    {
     "name": "stdout",
     "output_type": "stream",
     "text": [
      "{'val_loss': 1.3700960925165213, 'val_accuracy': 0.6958579881656805, 'precision': 0.6674313028636596, 'recall': 0.6958579881656805, 'f1-score': 0.6695368604610157, 'macro_f1-score': 0.34821644097896964, 'balanced_accuracy': 0.34443191141732926, 'mcc': 0.5872697157861648, 'train_loss': 0.44883505520293443}\n",
      "Epoch 7/20\n"
     ]
    },
    {
     "name": "stderr",
     "output_type": "stream",
     "text": [
      "100%|██████████| 476/476 [03:24<00:00,  2.32it/s]\n"
     ]
    },
    {
     "name": "stdout",
     "output_type": "stream",
     "text": [
      "{'val_loss': 1.4200472927318428, 'val_accuracy': 0.672189349112426, 'precision': 0.6745787524737141, 'recall': 0.672189349112426, 'f1-score': 0.6635627179112724, 'macro_f1-score': 0.36670655318695994, 'balanced_accuracy': 0.3783327318438227, 'mcc': 0.5741471757792166, 'train_loss': 0.3707513072950562}\n",
      "Epoch 8/20\n"
     ]
    },
    {
     "name": "stderr",
     "output_type": "stream",
     "text": [
      "100%|██████████| 476/476 [03:23<00:00,  2.34it/s]\n"
     ]
    },
    {
     "name": "stdout",
     "output_type": "stream",
     "text": [
      "{'val_loss': 1.3773892375658143, 'val_accuracy': 0.6982248520710059, 'precision': 0.7084462915485564, 'recall': 0.6982248520710059, 'f1-score': 0.6907491540944511, 'macro_f1-score': 0.405203161430174, 'balanced_accuracy': 0.43603374140065837, 'mcc': 0.6093091583461516, 'train_loss': 0.3159616569413201}\n",
      "Epoch 9/20\n"
     ]
    },
    {
     "name": "stderr",
     "output_type": "stream",
     "text": [
      "100%|██████████| 476/476 [03:23<00:00,  2.34it/s]\n"
     ]
    },
    {
     "name": "stdout",
     "output_type": "stream",
     "text": [
      "{'val_loss': 1.5257774169714946, 'val_accuracy': 0.7029585798816568, 'precision': 0.6926650855008593, 'recall': 0.7029585798816568, 'f1-score': 0.6798868483671258, 'macro_f1-score': 0.4184657277305506, 'balanced_accuracy': 0.40364999502786253, 'mcc': 0.5971142510220571, 'train_loss': 0.2715761071039724}\n",
      "Epoch 10/20\n"
     ]
    },
    {
     "name": "stderr",
     "output_type": "stream",
     "text": [
      "100%|██████████| 476/476 [03:23<00:00,  2.34it/s]\n"
     ]
    },
    {
     "name": "stdout",
     "output_type": "stream",
     "text": [
      "{'val_loss': 1.4403904850752849, 'val_accuracy': 0.6923076923076923, 'precision': 0.706834886538327, 'recall': 0.6923076923076923, 'f1-score': 0.6877249928275817, 'macro_f1-score': 0.4059610509143798, 'balanced_accuracy': 0.41456375599386425, 'mcc': 0.598172918084863, 'train_loss': 0.2673489261485104}\n",
      "Epoch 11/20\n"
     ]
    },
    {
     "name": "stderr",
     "output_type": "stream",
     "text": [
      "100%|██████████| 476/476 [03:23<00:00,  2.34it/s]\n"
     ]
    },
    {
     "name": "stdout",
     "output_type": "stream",
     "text": [
      "{'val_loss': 1.565624989990918, 'val_accuracy': 0.6887573964497041, 'precision': 0.6701336301333187, 'recall': 0.6887573964497041, 'f1-score': 0.6693379499714093, 'macro_f1-score': 0.3854651592369313, 'balanced_accuracy': 0.3624100422792002, 'mcc': 0.5791013415667694, 'train_loss': 0.24567369605559355}\n",
      "Epoch 12/20\n"
     ]
    },
    {
     "name": "stderr",
     "output_type": "stream",
     "text": [
      "100%|██████████| 476/476 [03:23<00:00,  2.33it/s]\n"
     ]
    },
    {
     "name": "stdout",
     "output_type": "stream",
     "text": [
      "{'val_loss': 1.6596752756609108, 'val_accuracy': 0.6757396449704142, 'precision': 0.6610046488849134, 'recall': 0.6757396449704142, 'f1-score': 0.6506589431609328, 'macro_f1-score': 0.37878080645987333, 'balanced_accuracy': 0.37242967038071834, 'mcc': 0.5634522830156946, 'train_loss': 0.2223649083317782}\n",
      "Early stopping.\n",
      "\n",
      "[Fold 7]\n",
      "model is bert-base-uncased\n"
     ]
    },
    {
     "name": "stderr",
     "output_type": "stream",
     "text": [
      "Some weights of BertForSequenceClassification were not initialized from the model checkpoint at bert-base-uncased and are newly initialized: ['classifier.bias', 'classifier.weight']\n",
      "You should probably TRAIN this model on a down-stream task to be able to use it for predictions and inference.\n"
     ]
    },
    {
     "name": "stdout",
     "output_type": "stream",
     "text": [
      "Epoch 1/20\n"
     ]
    },
    {
     "name": "stderr",
     "output_type": "stream",
     "text": [
      "100%|██████████| 476/476 [03:27<00:00,  2.29it/s]\n"
     ]
    },
    {
     "name": "stdout",
     "output_type": "stream",
     "text": [
      "{'val_loss': 1.523875815688439, 'val_accuracy': 0.6035502958579881, 'precision': 0.46226310722421277, 'recall': 0.6035502958579881, 'f1-score': 0.5157475219354125, 'macro_f1-score': 0.1195570818578347, 'balanced_accuracy': 0.1462888994621079, 'mcc': 0.44176960436534474, 'train_loss': 1.9251611004857456}\n",
      "Epoch 2/20\n"
     ]
    },
    {
     "name": "stderr",
     "output_type": "stream",
     "text": [
      "100%|██████████| 476/476 [03:31<00:00,  2.25it/s]\n"
     ]
    },
    {
     "name": "stdout",
     "output_type": "stream",
     "text": [
      "{'val_loss': 1.4152543972123344, 'val_accuracy': 0.6378698224852071, 'precision': 0.5595585031695531, 'recall': 0.6378698224852071, 'f1-score': 0.5806112604831757, 'macro_f1-score': 0.18613912670856067, 'balanced_accuracy': 0.19875121157052716, 'mcc': 0.5117400464896682, 'train_loss': 1.3582000994131345}\n",
      "Epoch 3/20\n"
     ]
    },
    {
     "name": "stderr",
     "output_type": "stream",
     "text": [
      "100%|██████████| 476/476 [03:21<00:00,  2.36it/s]\n"
     ]
    },
    {
     "name": "stdout",
     "output_type": "stream",
     "text": [
      "{'val_loss': 1.250443641307219, 'val_accuracy': 0.6662721893491125, 'precision': 0.6473016497735294, 'recall': 0.6662721893491125, 'f1-score': 0.6122110979064022, 'macro_f1-score': 0.23608360971090384, 'balanced_accuracy': 0.28339963459120865, 'mcc': 0.5547098942631853, 'train_loss': 1.0462079013721282}\n",
      "Epoch 4/20\n"
     ]
    },
    {
     "name": "stderr",
     "output_type": "stream",
     "text": [
      "100%|██████████| 476/476 [03:26<00:00,  2.31it/s]\n"
     ]
    },
    {
     "name": "stdout",
     "output_type": "stream",
     "text": [
      "{'val_loss': 1.263135755399488, 'val_accuracy': 0.6662721893491125, 'precision': 0.6676955433916245, 'recall': 0.6662721893491125, 'f1-score': 0.6513668016139836, 'macro_f1-score': 0.32679915293644013, 'balanced_accuracy': 0.33895788372364044, 'mcc': 0.5583165706926405, 'train_loss': 0.7790465742474845}\n",
      "Epoch 5/20\n"
     ]
    },
    {
     "name": "stderr",
     "output_type": "stream",
     "text": [
      "100%|██████████| 476/476 [03:30<00:00,  2.27it/s]\n"
     ]
    },
    {
     "name": "stdout",
     "output_type": "stream",
     "text": [
      "{'val_loss': 1.2827114935191173, 'val_accuracy': 0.676923076923077, 'precision': 0.6766794035444238, 'recall': 0.676923076923077, 'f1-score': 0.655897396544415, 'macro_f1-score': 0.35228514090065177, 'balanced_accuracy': 0.3568455835432433, 'mcc': 0.570858324462976, 'train_loss': 0.6196440859783848}\n",
      "Epoch 6/20\n"
     ]
    },
    {
     "name": "stderr",
     "output_type": "stream",
     "text": [
      "100%|██████████| 476/476 [03:30<00:00,  2.26it/s]\n"
     ]
    },
    {
     "name": "stdout",
     "output_type": "stream",
     "text": [
      "{'val_loss': 1.3176226599036522, 'val_accuracy': 0.6710059171597633, 'precision': 0.6802480671709632, 'recall': 0.6710059171597633, 'f1-score': 0.6616305759237087, 'macro_f1-score': 0.3713168631016313, 'balanced_accuracy': 0.36765267351096753, 'mcc': 0.5650245747517652, 'train_loss': 0.46717516929224256}\n",
      "Epoch 7/20\n"
     ]
    },
    {
     "name": "stderr",
     "output_type": "stream",
     "text": [
      "100%|██████████| 476/476 [03:32<00:00,  2.24it/s]\n"
     ]
    },
    {
     "name": "stdout",
     "output_type": "stream",
     "text": [
      "{'val_loss': 1.3738365966194082, 'val_accuracy': 0.6650887573964497, 'precision': 0.6746017315464544, 'recall': 0.6650887573964497, 'f1-score': 0.6538644152805867, 'macro_f1-score': 0.3605008454880638, 'balanced_accuracy': 0.3669245646133893, 'mcc': 0.5625896812470962, 'train_loss': 0.38576684192903027}\n",
      "Epoch 8/20\n"
     ]
    },
    {
     "name": "stderr",
     "output_type": "stream",
     "text": [
      "100%|██████████| 476/476 [03:33<00:00,  2.23it/s]\n"
     ]
    },
    {
     "name": "stdout",
     "output_type": "stream",
     "text": [
      "{'val_loss': 1.429084671555825, 'val_accuracy': 0.6899408284023668, 'precision': 0.6770502143281187, 'recall': 0.6899408284023668, 'f1-score': 0.6698069861512295, 'macro_f1-score': 0.42064308162689684, 'balanced_accuracy': 0.43132621675314575, 'mcc': 0.5843620450206316, 'train_loss': 0.31569633171150163}\n",
      "Epoch 9/20\n"
     ]
    },
    {
     "name": "stderr",
     "output_type": "stream",
     "text": [
      "100%|██████████| 476/476 [03:33<00:00,  2.23it/s]\n"
     ]
    },
    {
     "name": "stdout",
     "output_type": "stream",
     "text": [
      "{'val_loss': 1.4072835982408163, 'val_accuracy': 0.6911242603550296, 'precision': 0.6979614862778005, 'recall': 0.6911242603550296, 'f1-score': 0.684833226562844, 'macro_f1-score': 0.42449142958609615, 'balanced_accuracy': 0.4252655795216217, 'mcc': 0.5965708962797089, 'train_loss': 0.27346354841544224}\n",
      "Epoch 10/20\n"
     ]
    },
    {
     "name": "stderr",
     "output_type": "stream",
     "text": [
      "100%|██████████| 476/476 [03:33<00:00,  2.23it/s]\n"
     ]
    },
    {
     "name": "stdout",
     "output_type": "stream",
     "text": [
      "{'val_loss': 1.5166014626903355, 'val_accuracy': 0.6899408284023668, 'precision': 0.6804132689781884, 'recall': 0.6899408284023668, 'f1-score': 0.6762356876984412, 'macro_f1-score': 0.41379785634405997, 'balanced_accuracy': 0.421767091540115, 'mcc': 0.5937356736603087, 'train_loss': 0.245368186931298}\n",
      "Epoch 11/20\n"
     ]
    },
    {
     "name": "stderr",
     "output_type": "stream",
     "text": [
      "100%|██████████| 476/476 [03:32<00:00,  2.24it/s]\n"
     ]
    },
    {
     "name": "stdout",
     "output_type": "stream",
     "text": [
      "{'val_loss': 1.4380539585396928, 'val_accuracy': 0.6994082840236686, 'precision': 0.6964058221499209, 'recall': 0.6994082840236686, 'f1-score': 0.6903618078931922, 'macro_f1-score': 0.45614363018087273, 'balanced_accuracy': 0.469686998131751, 'mcc': 0.6071959913078246, 'train_loss': 0.25442547314142916}\n",
      "Epoch 12/20\n"
     ]
    },
    {
     "name": "stderr",
     "output_type": "stream",
     "text": [
      "100%|██████████| 476/476 [03:32<00:00,  2.24it/s]\n"
     ]
    },
    {
     "name": "stdout",
     "output_type": "stream",
     "text": [
      "{'val_loss': 1.482940158191717, 'val_accuracy': 0.7088757396449704, 'precision': 0.7055469034936284, 'recall': 0.7088757396449704, 'f1-score': 0.6957013137936494, 'macro_f1-score': 0.4225649389514412, 'balanced_accuracy': 0.4152111386715906, 'mcc': 0.6146041516484416, 'train_loss': 0.22291336392205083}\n",
      "Epoch 13/20\n"
     ]
    },
    {
     "name": "stderr",
     "output_type": "stream",
     "text": [
      "100%|██████████| 476/476 [03:33<00:00,  2.23it/s]\n"
     ]
    },
    {
     "name": "stdout",
     "output_type": "stream",
     "text": [
      "{'val_loss': 1.511167383700047, 'val_accuracy': 0.6816568047337278, 'precision': 0.6920039350271789, 'recall': 0.6816568047337278, 'f1-score': 0.6736649748133814, 'macro_f1-score': 0.40005502543006266, 'balanced_accuracy': 0.4120055935863768, 'mcc': 0.5818259953927418, 'train_loss': 0.2020447147113052}\n",
      "Epoch 14/20\n"
     ]
    },
    {
     "name": "stderr",
     "output_type": "stream",
     "text": [
      "100%|██████████| 476/476 [03:35<00:00,  2.21it/s]\n"
     ]
    },
    {
     "name": "stdout",
     "output_type": "stream",
     "text": [
      "{'val_loss': 1.5430494191230468, 'val_accuracy': 0.6994082840236686, 'precision': 0.6746075826026225, 'recall': 0.6994082840236686, 'f1-score': 0.6769111121963156, 'macro_f1-score': 0.3715953201248229, 'balanced_accuracy': 0.3769647163996372, 'mcc': 0.5975492122745453, 'train_loss': 0.219193685918209}\n",
      "Early stopping.\n",
      "\n",
      "[Fold 8]\n",
      "model is bert-base-uncased\n"
     ]
    },
    {
     "name": "stderr",
     "output_type": "stream",
     "text": [
      "Some weights of BertForSequenceClassification were not initialized from the model checkpoint at bert-base-uncased and are newly initialized: ['classifier.bias', 'classifier.weight']\n",
      "You should probably TRAIN this model on a down-stream task to be able to use it for predictions and inference.\n"
     ]
    },
    {
     "name": "stdout",
     "output_type": "stream",
     "text": [
      "Epoch 1/20\n"
     ]
    },
    {
     "name": "stderr",
     "output_type": "stream",
     "text": [
      "100%|██████████| 476/476 [03:32<00:00,  2.24it/s]\n"
     ]
    },
    {
     "name": "stdout",
     "output_type": "stream",
     "text": [
      "{'val_loss': 1.5355273867553134, 'val_accuracy': 0.6153846153846154, 'precision': 0.46000363526169047, 'recall': 0.6153846153846154, 'f1-score': 0.5011629511915784, 'macro_f1-score': 0.09082738299967649, 'balanced_accuracy': 0.11256382594793088, 'mcc': 0.4542105247814715, 'train_loss': 1.9356542123215539}\n",
      "Epoch 2/20\n"
     ]
    },
    {
     "name": "stderr",
     "output_type": "stream",
     "text": [
      "100%|██████████| 476/476 [03:33<00:00,  2.23it/s]\n"
     ]
    },
    {
     "name": "stdout",
     "output_type": "stream",
     "text": [
      "{'val_loss': 1.3157513956978637, 'val_accuracy': 0.6449704142011834, 'precision': 0.5655545371052789, 'recall': 0.6449704142011834, 'f1-score': 0.5764092462538708, 'macro_f1-score': 0.18409685285931435, 'balanced_accuracy': 0.18946711295757546, 'mcc': 0.5105897260129015, 'train_loss': 1.4015024706971746}\n",
      "Epoch 3/20\n"
     ]
    },
    {
     "name": "stderr",
     "output_type": "stream",
     "text": [
      "100%|██████████| 476/476 [03:30<00:00,  2.26it/s]\n"
     ]
    },
    {
     "name": "stdout",
     "output_type": "stream",
     "text": [
      "{'val_loss': 1.2659316827666085, 'val_accuracy': 0.672189349112426, 'precision': 0.6353372994021056, 'recall': 0.672189349112426, 'f1-score': 0.6367264872774876, 'macro_f1-score': 0.27715916409067237, 'balanced_accuracy': 0.2730639939118474, 'mcc': 0.5595853863824128, 'train_loss': 1.0606765156032658}\n",
      "Epoch 4/20\n"
     ]
    },
    {
     "name": "stderr",
     "output_type": "stream",
     "text": [
      "100%|██████████| 476/476 [03:29<00:00,  2.27it/s]\n"
     ]
    },
    {
     "name": "stdout",
     "output_type": "stream",
     "text": [
      "{'val_loss': 1.244825466623846, 'val_accuracy': 0.6757396449704142, 'precision': 0.662287180664563, 'recall': 0.6757396449704142, 'f1-score': 0.6563061346816425, 'macro_f1-score': 0.3205203279915618, 'balanced_accuracy': 0.3360707856220595, 'mcc': 0.5788827500515863, 'train_loss': 0.7967151687989215}\n",
      "Epoch 5/20\n"
     ]
    },
    {
     "name": "stderr",
     "output_type": "stream",
     "text": [
      "100%|██████████| 476/476 [03:29<00:00,  2.27it/s]\n"
     ]
    },
    {
     "name": "stdout",
     "output_type": "stream",
     "text": [
      "{'val_loss': 1.2940209187426657, 'val_accuracy': 0.6863905325443787, 'precision': 0.6787923829033456, 'recall': 0.6863905325443787, 'f1-score': 0.6653275487593698, 'macro_f1-score': 0.3650203929025364, 'balanced_accuracy': 0.3440172119357402, 'mcc': 0.5832984201860502, 'train_loss': 0.5980240212002096}\n",
      "Epoch 6/20\n"
     ]
    },
    {
     "name": "stderr",
     "output_type": "stream",
     "text": [
      "100%|██████████| 476/476 [03:32<00:00,  2.24it/s]\n"
     ]
    },
    {
     "name": "stdout",
     "output_type": "stream",
     "text": [
      "{'val_loss': 1.3115439696132012, 'val_accuracy': 0.6840236686390533, 'precision': 0.6862896413701084, 'recall': 0.6840236686390533, 'f1-score': 0.6647194565034797, 'macro_f1-score': 0.34605434427239795, 'balanced_accuracy': 0.33277741285550627, 'mcc': 0.5837103285424824, 'train_loss': 0.4566571618813802}\n",
      "Epoch 7/20\n"
     ]
    },
    {
     "name": "stderr",
     "output_type": "stream",
     "text": [
      "100%|██████████| 476/476 [03:33<00:00,  2.23it/s]\n"
     ]
    },
    {
     "name": "stdout",
     "output_type": "stream",
     "text": [
      "{'val_loss': 1.3409189165763136, 'val_accuracy': 0.6958579881656805, 'precision': 0.6772826595517509, 'recall': 0.6958579881656805, 'f1-score': 0.6791087384238905, 'macro_f1-score': 0.37448059119339533, 'balanced_accuracy': 0.3538438127409236, 'mcc': 0.5942787965733526, 'train_loss': 0.3764911338632159}\n",
      "Epoch 8/20\n"
     ]
    },
    {
     "name": "stderr",
     "output_type": "stream",
     "text": [
      "100%|██████████| 476/476 [03:32<00:00,  2.24it/s]\n"
     ]
    },
    {
     "name": "stdout",
     "output_type": "stream",
     "text": [
      "{'val_loss': 1.465215855049637, 'val_accuracy': 0.6733727810650888, 'precision': 0.6954988618337214, 'recall': 0.6733727810650888, 'f1-score': 0.670344346010233, 'macro_f1-score': 0.36637753309040916, 'balanced_accuracy': 0.3726386545350096, 'mcc': 0.5771395049973016, 'train_loss': 0.29541786289930405}\n",
      "Epoch 9/20\n"
     ]
    },
    {
     "name": "stderr",
     "output_type": "stream",
     "text": [
      "100%|██████████| 476/476 [03:31<00:00,  2.25it/s]\n"
     ]
    },
    {
     "name": "stdout",
     "output_type": "stream",
     "text": [
      "{'val_loss': 1.591751939845535, 'val_accuracy': 0.6650887573964497, 'precision': 0.6942364973407322, 'recall': 0.6650887573964497, 'f1-score': 0.6690700858522499, 'macro_f1-score': 0.4170327894887145, 'balanced_accuracy': 0.471329371697422, 'mcc': 0.5761675016293828, 'train_loss': 0.27021323740599723}\n",
      "Epoch 10/20\n"
     ]
    },
    {
     "name": "stderr",
     "output_type": "stream",
     "text": [
      "100%|██████████| 476/476 [03:30<00:00,  2.26it/s]\n"
     ]
    },
    {
     "name": "stdout",
     "output_type": "stream",
     "text": [
      "{'val_loss': 1.5270704357129223, 'val_accuracy': 0.6899408284023668, 'precision': 0.6985538303936307, 'recall': 0.6899408284023668, 'f1-score': 0.6801171228320181, 'macro_f1-score': 0.41802494249636246, 'balanced_accuracy': 0.4122685827651898, 'mcc': 0.5931755048078866, 'train_loss': 0.2582902268168102}\n",
      "Epoch 11/20\n"
     ]
    },
    {
     "name": "stderr",
     "output_type": "stream",
     "text": [
      "100%|██████████| 476/476 [03:30<00:00,  2.26it/s]\n"
     ]
    },
    {
     "name": "stdout",
     "output_type": "stream",
     "text": [
      "{'val_loss': 1.6831790495593593, 'val_accuracy': 0.6497041420118344, 'precision': 0.6760918899396284, 'recall': 0.6497041420118344, 'f1-score': 0.650228633878453, 'macro_f1-score': 0.3823944164190496, 'balanced_accuracy': 0.38962895477493215, 'mcc': 0.5486106420163801, 'train_loss': 0.22563568567915843}\n",
      "Epoch 12/20\n"
     ]
    },
    {
     "name": "stderr",
     "output_type": "stream",
     "text": [
      "100%|██████████| 476/476 [03:31<00:00,  2.25it/s]\n"
     ]
    },
    {
     "name": "stdout",
     "output_type": "stream",
     "text": [
      "{'val_loss': 1.6835552853233409, 'val_accuracy': 0.6816568047337278, 'precision': 0.6736798335839236, 'recall': 0.6816568047337278, 'f1-score': 0.6606870074383396, 'macro_f1-score': 0.3710299144597402, 'balanced_accuracy': 0.3563747296768851, 'mcc': 0.5738626994262895, 'train_loss': 0.21577707954345882}\n",
      "Epoch 13/20\n"
     ]
    },
    {
     "name": "stderr",
     "output_type": "stream",
     "text": [
      "100%|██████████| 476/476 [03:32<00:00,  2.24it/s]\n"
     ]
    },
    {
     "name": "stdout",
     "output_type": "stream",
     "text": [
      "{'val_loss': 1.6170269599500693, 'val_accuracy': 0.6923076923076923, 'precision': 0.6927819225289021, 'recall': 0.6923076923076923, 'f1-score': 0.6813631977553187, 'macro_f1-score': 0.4412299554617944, 'balanced_accuracy': 0.4308198989641263, 'mcc': 0.5941960244755659, 'train_loss': 0.21851855282135652}\n",
      "Epoch 14/20\n"
     ]
    },
    {
     "name": "stderr",
     "output_type": "stream",
     "text": [
      "100%|██████████| 476/476 [03:32<00:00,  2.24it/s]\n"
     ]
    },
    {
     "name": "stdout",
     "output_type": "stream",
     "text": [
      "{'val_loss': 1.7303581305269926, 'val_accuracy': 0.6781065088757396, 'precision': 0.6960392990424897, 'recall': 0.6781065088757396, 'f1-score': 0.6689874212529514, 'macro_f1-score': 0.41303031326662754, 'balanced_accuracy': 0.4302152800689467, 'mcc': 0.577970215816123, 'train_loss': 0.2020446479236394}\n",
      "Epoch 15/20\n"
     ]
    },
    {
     "name": "stderr",
     "output_type": "stream",
     "text": [
      "100%|██████████| 476/476 [03:30<00:00,  2.26it/s]\n"
     ]
    },
    {
     "name": "stdout",
     "output_type": "stream",
     "text": [
      "{'val_loss': 1.5948290869874775, 'val_accuracy': 0.685207100591716, 'precision': 0.688210972171468, 'recall': 0.685207100591716, 'f1-score': 0.6699538677264366, 'macro_f1-score': 0.4260617113143138, 'balanced_accuracy': 0.41913920891588374, 'mcc': 0.5804457341484799, 'train_loss': 0.23940547313854224}\n",
      "Epoch 16/20\n"
     ]
    },
    {
     "name": "stderr",
     "output_type": "stream",
     "text": [
      "100%|██████████| 476/476 [03:31<00:00,  2.25it/s]\n"
     ]
    },
    {
     "name": "stdout",
     "output_type": "stream",
     "text": [
      "{'val_loss': 1.7672707483453571, 'val_accuracy': 0.6733727810650888, 'precision': 0.6896202235870079, 'recall': 0.6733727810650888, 'f1-score': 0.6599272090694527, 'macro_f1-score': 0.41896030329828876, 'balanced_accuracy': 0.42385017795789465, 'mcc': 0.5747122984210985, 'train_loss': 0.21152091318273822}\n",
      "Early stopping.\n",
      "\n",
      "[Fold 9]\n",
      "model is bert-base-uncased\n"
     ]
    },
    {
     "name": "stderr",
     "output_type": "stream",
     "text": [
      "Some weights of BertForSequenceClassification were not initialized from the model checkpoint at bert-base-uncased and are newly initialized: ['classifier.bias', 'classifier.weight']\n",
      "You should probably TRAIN this model on a down-stream task to be able to use it for predictions and inference.\n"
     ]
    },
    {
     "name": "stdout",
     "output_type": "stream",
     "text": [
      "Epoch 1/20\n"
     ]
    },
    {
     "name": "stderr",
     "output_type": "stream",
     "text": [
      "100%|██████████| 476/476 [03:32<00:00,  2.24it/s]\n"
     ]
    },
    {
     "name": "stdout",
     "output_type": "stream",
     "text": [
      "{'val_loss': 1.6598646674516067, 'val_accuracy': 0.5952662721893491, 'precision': 0.3992384533956865, 'recall': 0.5952662721893491, 'f1-score': 0.47615410936390107, 'macro_f1-score': 0.07840869970652678, 'balanced_accuracy': 0.10113830693715543, 'mcc': 0.4175050381208704, 'train_loss': 1.9930662486483068}\n",
      "Epoch 2/20\n"
     ]
    },
    {
     "name": "stderr",
     "output_type": "stream",
     "text": [
      "100%|██████████| 476/476 [03:32<00:00,  2.24it/s]\n"
     ]
    },
    {
     "name": "stdout",
     "output_type": "stream",
     "text": [
      "{'val_loss': 1.363771841211139, 'val_accuracy': 0.6343195266272189, 'precision': 0.550312629584206, 'recall': 0.6343195266272189, 'f1-score': 0.5656830194723508, 'macro_f1-score': 0.16819137099573553, 'balanced_accuracy': 0.1817165415962517, 'mcc': 0.49432860203366497, 'train_loss': 1.4463151392190396}\n",
      "Epoch 3/20\n"
     ]
    },
    {
     "name": "stderr",
     "output_type": "stream",
     "text": [
      "100%|██████████| 476/476 [03:33<00:00,  2.23it/s]\n"
     ]
    },
    {
     "name": "stdout",
     "output_type": "stream",
     "text": [
      "{'val_loss': 1.2091441283810813, 'val_accuracy': 0.676923076923077, 'precision': 0.6226544873615665, 'recall': 0.676923076923077, 'f1-score': 0.6374142870441472, 'macro_f1-score': 0.29635058646787926, 'balanced_accuracy': 0.3023279264758728, 'mcc': 0.5647954586933621, 'train_loss': 1.1051272492574042}\n",
      "Epoch 4/20\n"
     ]
    },
    {
     "name": "stderr",
     "output_type": "stream",
     "text": [
      "100%|██████████| 476/476 [03:32<00:00,  2.24it/s]\n"
     ]
    },
    {
     "name": "stdout",
     "output_type": "stream",
     "text": [
      "{'val_loss': 1.2214205849845454, 'val_accuracy': 0.6911242603550296, 'precision': 0.691524891861144, 'recall': 0.6911242603550296, 'f1-score': 0.6782543146226206, 'macro_f1-score': 0.37986315929486497, 'balanced_accuracy': 0.39079600194980857, 'mcc': 0.5994163509314494, 'train_loss': 0.8236593196184194}\n",
      "Epoch 5/20\n"
     ]
    },
    {
     "name": "stderr",
     "output_type": "stream",
     "text": [
      "100%|██████████| 476/476 [03:32<00:00,  2.24it/s]\n"
     ]
    },
    {
     "name": "stdout",
     "output_type": "stream",
     "text": [
      "{'val_loss': 1.2129710586565845, 'val_accuracy': 0.693491124260355, 'precision': 0.6652359624827104, 'recall': 0.693491124260355, 'f1-score': 0.6635713347834573, 'macro_f1-score': 0.331182257781493, 'balanced_accuracy': 0.331444250643603, 'mcc': 0.5858253341773684, 'train_loss': 0.6201018278463548}\n",
      "Epoch 6/20\n"
     ]
    },
    {
     "name": "stderr",
     "output_type": "stream",
     "text": [
      "100%|██████████| 476/476 [03:32<00:00,  2.24it/s]\n"
     ]
    },
    {
     "name": "stdout",
     "output_type": "stream",
     "text": [
      "{'val_loss': 1.2770476228785965, 'val_accuracy': 0.7053254437869823, 'precision': 0.6838995636067845, 'recall': 0.7053254437869823, 'f1-score': 0.6834191038489142, 'macro_f1-score': 0.3527447330212993, 'balanced_accuracy': 0.3660666463028567, 'mcc': 0.608269567886334, 'train_loss': 0.46717204277583657}\n",
      "Epoch 7/20\n"
     ]
    },
    {
     "name": "stderr",
     "output_type": "stream",
     "text": [
      "100%|██████████| 476/476 [03:31<00:00,  2.25it/s]\n"
     ]
    },
    {
     "name": "stdout",
     "output_type": "stream",
     "text": [
      "{'val_loss': 1.4059192484842156, 'val_accuracy': 0.7053254437869823, 'precision': 0.6896411594928431, 'recall': 0.7053254437869823, 'f1-score': 0.6778009843181293, 'macro_f1-score': 0.34909876749279356, 'balanced_accuracy': 0.3321756002355396, 'mcc': 0.6005964956843938, 'train_loss': 0.37202424006223556}\n",
      "Early stopping.\n",
      "\n",
      "[Fold 10]\n",
      "model is bert-base-uncased\n"
     ]
    },
    {
     "name": "stderr",
     "output_type": "stream",
     "text": [
      "Some weights of BertForSequenceClassification were not initialized from the model checkpoint at bert-base-uncased and are newly initialized: ['classifier.bias', 'classifier.weight']\n",
      "You should probably TRAIN this model on a down-stream task to be able to use it for predictions and inference.\n"
     ]
    },
    {
     "name": "stdout",
     "output_type": "stream",
     "text": [
      "Epoch 1/20\n"
     ]
    },
    {
     "name": "stderr",
     "output_type": "stream",
     "text": [
      "100%|██████████| 476/476 [03:31<00:00,  2.25it/s]\n"
     ]
    },
    {
     "name": "stdout",
     "output_type": "stream",
     "text": [
      "{'val_loss': 1.530400296427169, 'val_accuracy': 0.6118343195266273, 'precision': 0.47829623874680877, 'recall': 0.6118343195266273, 'f1-score': 0.5050018308752326, 'macro_f1-score': 0.10115078752069254, 'balanced_accuracy': 0.10819128856689768, 'mcc': 0.4420552594285399, 'train_loss': 1.9472784198382322}\n",
      "Epoch 2/20\n"
     ]
    },
    {
     "name": "stderr",
     "output_type": "stream",
     "text": [
      "100%|██████████| 476/476 [03:31<00:00,  2.25it/s]\n"
     ]
    },
    {
     "name": "stdout",
     "output_type": "stream",
     "text": [
      "{'val_loss': 1.3645635292215168, 'val_accuracy': 0.6319526627218935, 'precision': 0.5909005792188695, 'recall': 0.6319526627218935, 'f1-score': 0.5975721355974114, 'macro_f1-score': 0.20266006181960117, 'balanced_accuracy': 0.22656423746495838, 'mcc': 0.5205493549886424, 'train_loss': 1.3849686341626304}\n",
      "Epoch 3/20\n"
     ]
    },
    {
     "name": "stderr",
     "output_type": "stream",
     "text": [
      "100%|██████████| 476/476 [03:28<00:00,  2.28it/s]\n"
     ]
    },
    {
     "name": "stdout",
     "output_type": "stream",
     "text": [
      "{'val_loss': 1.2555783334768043, 'val_accuracy': 0.6733727810650888, 'precision': 0.6401043248033067, 'recall': 0.6733727810650888, 'f1-score': 0.6444820913621263, 'macro_f1-score': 0.26736670746475966, 'balanced_accuracy': 0.2674491961242697, 'mcc': 0.559508845480438, 'train_loss': 1.0361450293547465}\n",
      "Epoch 4/20\n"
     ]
    },
    {
     "name": "stderr",
     "output_type": "stream",
     "text": [
      "100%|██████████| 476/476 [03:31<00:00,  2.25it/s]\n"
     ]
    },
    {
     "name": "stdout",
     "output_type": "stream",
     "text": [
      "{'val_loss': 1.3063620722518776, 'val_accuracy': 0.6828402366863905, 'precision': 0.6427894422497349, 'recall': 0.6828402366863905, 'f1-score': 0.6465980109062538, 'macro_f1-score': 0.2819276167080644, 'balanced_accuracy': 0.27681248776790285, 'mcc': 0.5672071320157486, 'train_loss': 0.7841637597395843}\n",
      "Epoch 5/20\n"
     ]
    },
    {
     "name": "stderr",
     "output_type": "stream",
     "text": [
      "100%|██████████| 476/476 [03:25<00:00,  2.32it/s]\n"
     ]
    },
    {
     "name": "stdout",
     "output_type": "stream",
     "text": [
      "{'val_loss': 1.3065444118571732, 'val_accuracy': 0.6781065088757396, 'precision': 0.6803745792220955, 'recall': 0.6781065088757396, 'f1-score': 0.6625234217148536, 'macro_f1-score': 0.3343484244490019, 'balanced_accuracy': 0.3312988869308167, 'mcc': 0.5748934514759322, 'train_loss': 0.5954998749456987}\n",
      "Epoch 6/20\n"
     ]
    },
    {
     "name": "stderr",
     "output_type": "stream",
     "text": [
      "100%|██████████| 476/476 [03:28<00:00,  2.29it/s]\n"
     ]
    },
    {
     "name": "stdout",
     "output_type": "stream",
     "text": [
      "{'val_loss': 1.3904113426523388, 'val_accuracy': 0.6804733727810651, 'precision': 0.6972901245381015, 'recall': 0.6804733727810651, 'f1-score': 0.6727322560785561, 'macro_f1-score': 0.35984282313708293, 'balanced_accuracy': 0.36875408006699695, 'mcc': 0.5786430657542044, 'train_loss': 0.46380798108562704}\n",
      "Epoch 7/20\n"
     ]
    },
    {
     "name": "stderr",
     "output_type": "stream",
     "text": [
      "100%|██████████| 476/476 [03:32<00:00,  2.24it/s]\n"
     ]
    },
    {
     "name": "stdout",
     "output_type": "stream",
     "text": [
      "{'val_loss': 1.4969652463805, 'val_accuracy': 0.6698224852071006, 'precision': 0.6743201448738295, 'recall': 0.6698224852071006, 'f1-score': 0.654634070240303, 'macro_f1-score': 0.3405485594735036, 'balanced_accuracy': 0.3365318176563583, 'mcc': 0.5623589392162759, 'train_loss': 0.3602865878883906}\n",
      "Epoch 8/20\n"
     ]
    },
    {
     "name": "stderr",
     "output_type": "stream",
     "text": [
      "100%|██████████| 476/476 [03:31<00:00,  2.25it/s]\n"
     ]
    },
    {
     "name": "stdout",
     "output_type": "stream",
     "text": [
      "{'val_loss': 1.4504188130486686, 'val_accuracy': 0.6627218934911243, 'precision': 0.6834340701480193, 'recall': 0.6627218934911243, 'f1-score': 0.6602046781966695, 'macro_f1-score': 0.38795856899719544, 'balanced_accuracy': 0.3873503779978714, 'mcc': 0.5627759568839842, 'train_loss': 0.3156145179679445}\n",
      "Epoch 9/20\n"
     ]
    },
    {
     "name": "stderr",
     "output_type": "stream",
     "text": [
      "100%|██████████| 476/476 [03:32<00:00,  2.24it/s]\n"
     ]
    },
    {
     "name": "stdout",
     "output_type": "stream",
     "text": [
      "{'val_loss': 1.539415235227009, 'val_accuracy': 0.6757396449704142, 'precision': 0.7044575681771363, 'recall': 0.6757396449704142, 'f1-score': 0.6770850677411009, 'macro_f1-score': 0.40884709094462274, 'balanced_accuracy': 0.4016735966233961, 'mcc': 0.5817149888313182, 'train_loss': 0.270580324508688}\n",
      "Epoch 10/20\n"
     ]
    },
    {
     "name": "stderr",
     "output_type": "stream",
     "text": [
      "100%|██████████| 476/476 [03:32<00:00,  2.24it/s]\n"
     ]
    },
    {
     "name": "stdout",
     "output_type": "stream",
     "text": [
      "{'val_loss': 1.5375515874826684, 'val_accuracy': 0.7017751479289941, 'precision': 0.6919349079828736, 'recall': 0.7017751479289941, 'f1-score': 0.6844362666578458, 'macro_f1-score': 0.39936415626746674, 'balanced_accuracy': 0.3983241844988725, 'mcc': 0.6041969417764308, 'train_loss': 0.2460596075285414}\n",
      "Epoch 11/20\n"
     ]
    },
    {
     "name": "stderr",
     "output_type": "stream",
     "text": [
      "100%|██████████| 476/476 [03:27<00:00,  2.29it/s]\n"
     ]
    },
    {
     "name": "stdout",
     "output_type": "stream",
     "text": [
      "{'val_loss': 1.5385659157105211, 'val_accuracy': 0.7017751479289941, 'precision': 0.7001364579389965, 'recall': 0.7017751479289941, 'f1-score': 0.6865361885855784, 'macro_f1-score': 0.4031975211031518, 'balanced_accuracy': 0.38954406961327265, 'mcc': 0.6041606306014629, 'train_loss': 0.23351619965709872}\n",
      "Epoch 12/20\n"
     ]
    },
    {
     "name": "stderr",
     "output_type": "stream",
     "text": [
      "100%|██████████| 476/476 [03:30<00:00,  2.26it/s]\n"
     ]
    },
    {
     "name": "stdout",
     "output_type": "stream",
     "text": [
      "{'val_loss': 1.5018930086549722, 'val_accuracy': 0.7029585798816568, 'precision': 0.7031107307636766, 'recall': 0.7029585798816568, 'f1-score': 0.6868262843773556, 'macro_f1-score': 0.43412508378696946, 'balanced_accuracy': 0.42965395372097115, 'mcc': 0.6037602844842096, 'train_loss': 0.21124919651256202}\n",
      "Epoch 13/20\n"
     ]
    },
    {
     "name": "stderr",
     "output_type": "stream",
     "text": [
      "100%|██████████| 476/476 [03:31<00:00,  2.25it/s]\n"
     ]
    },
    {
     "name": "stdout",
     "output_type": "stream",
     "text": [
      "{'val_loss': 1.6452895976462454, 'val_accuracy': 0.676923076923077, 'precision': 0.7031090238185165, 'recall': 0.676923076923077, 'f1-score': 0.6777362571297955, 'macro_f1-score': 0.44159195727986045, 'balanced_accuracy': 0.4524230599236227, 'mcc': 0.5841914416015989, 'train_loss': 0.21879536438314637}\n",
      "Epoch 14/20\n"
     ]
    },
    {
     "name": "stderr",
     "output_type": "stream",
     "text": [
      "100%|██████████| 476/476 [03:32<00:00,  2.24it/s]\n"
     ]
    },
    {
     "name": "stdout",
     "output_type": "stream",
     "text": [
      "{'val_loss': 1.6684733842903714, 'val_accuracy': 0.6923076923076923, 'precision': 0.6757177703112834, 'recall': 0.6923076923076923, 'f1-score': 0.6758102625921707, 'macro_f1-score': 0.3682233643282394, 'balanced_accuracy': 0.3632306247124367, 'mcc': 0.5920219988813785, 'train_loss': 0.23424392245013362}\n",
      "Epoch 15/20\n"
     ]
    },
    {
     "name": "stderr",
     "output_type": "stream",
     "text": [
      "100%|██████████| 476/476 [03:31<00:00,  2.25it/s]\n"
     ]
    },
    {
     "name": "stdout",
     "output_type": "stream",
     "text": [
      "{'val_loss': 1.5542257855523307, 'val_accuracy': 0.7041420118343196, 'precision': 0.7011043902976994, 'recall': 0.7041420118343196, 'f1-score': 0.685961136445173, 'macro_f1-score': 0.40454337467851037, 'balanced_accuracy': 0.3946384106438313, 'mcc': 0.6056555709357927, 'train_loss': 0.22207919660194567}\n",
      "Epoch 16/20\n"
     ]
    },
    {
     "name": "stderr",
     "output_type": "stream",
     "text": [
      "100%|██████████| 476/476 [03:31<00:00,  2.25it/s]\n"
     ]
    },
    {
     "name": "stdout",
     "output_type": "stream",
     "text": [
      "{'val_loss': 1.6876806147255987, 'val_accuracy': 0.6923076923076923, 'precision': 0.7071769997512961, 'recall': 0.6923076923076923, 'f1-score': 0.6824475727959878, 'macro_f1-score': 0.40232806420188777, 'balanced_accuracy': 0.398878544392471, 'mcc': 0.5947871466119419, 'train_loss': 0.20257692963242954}\n",
      "Early stopping.\n",
      "\n",
      " === bert-base-uncased + plain + none Final 10-fold Cross-Validation Results ===\n",
      "Total time: 27701 seconds\n",
      "Total time: 7 hrs 41 mins 41 secs\n",
      "val_loss: 1.5407\n",
      "val_accuracy: 0.6812\n",
      "precision: 0.6887\n",
      "recall: 0.6812\n",
      "f1-score: 0.6711\n",
      "macro_f1-score: 0.4150\n",
      "balanced_accuracy: 0.4180\n",
      "mcc: 0.5814\n",
      "train_loss: 0.3129\n"
     ]
    }
   ],
   "source": [
    "model_list = [\"bert-base-uncased\"]\n",
    "hybrid_list = [None]\n",
    "resample_list = [\"none\"]\n",
    "\n",
    "for model_name in model_list:\n",
    "    for hybrid_type in hybrid_list:\n",
    "        for resample_method in resample_list:\n",
    "            results = run_kfold_experiment(\n",
    "                X=messages, y=labels, model_name=model_name, hybrid_type=hybrid_type, resample_method=resample_method,\n",
    "                kfold=KFOLD_SPLIT, seed=SEED, epochs=EPOCHS, patience=PATIENCE, max_length=MAX_LENGTH, \n",
    "                batch_size=BATCH_SIZE, lr=LR, weight_decay=WEIGHT_DECAY\n",
    "            )"
   ]
  },
  {
   "cell_type": "code",
   "execution_count": 5,
   "id": "d799ebb4-be3b-4b29-9238-6c2a2f8256ae",
   "metadata": {},
   "outputs": [
    {
     "data": {
      "text/plain": [
       "[{'val_loss': 1.6595825575432688,\n",
       "  'val_accuracy': 0.6773049645390071,\n",
       "  'precision': 0.6783638184464591,\n",
       "  'recall': 0.6773049645390071,\n",
       "  'f1-score': 0.6627599069,\n",
       "  'macro_f1-score': 0.4194179927473229,\n",
       "  'balanced_accuracy': 0.41090475929873477,\n",
       "  'mcc': 0.5711421854342683,\n",
       "  'train_loss': 0.24054770660390998},\n",
       " {'val_loss': 1.689242183037524,\n",
       "  'val_accuracy': 0.6513002364066194,\n",
       "  'precision': 0.7018871383695622,\n",
       "  'recall': 0.6513002364066194,\n",
       "  'f1-score': 0.6614149350591558,\n",
       "  'macro_f1-score': 0.39513122060163214,\n",
       "  'balanced_accuracy': 0.4334578907797761,\n",
       "  'mcc': 0.5560717996170403,\n",
       "  'train_loss': 0.22042312819369825},\n",
       " {'val_loss': 1.6194561213817236,\n",
       "  'val_accuracy': 0.6761229314420804,\n",
       "  'precision': 0.6699179809552149,\n",
       "  'recall': 0.6761229314420804,\n",
       "  'f1-score': 0.6616607860701211,\n",
       "  'macro_f1-score': 0.3795294520612598,\n",
       "  'balanced_accuracy': 0.3721442276220477,\n",
       "  'mcc': 0.5708113985913431,\n",
       "  'train_loss': 0.33669137266002785},\n",
       " {'val_loss': 1.5290331570607312,\n",
       "  'val_accuracy': 0.6690307328605201,\n",
       "  'precision': 0.6854755986022619,\n",
       "  'recall': 0.6690307328605201,\n",
       "  'f1-score': 0.6622254550804353,\n",
       "  'macro_f1-score': 0.4217529439583931,\n",
       "  'balanced_accuracy': 0.4122499138647986,\n",
       "  'mcc': 0.5613259241514125,\n",
       "  'train_loss': 0.23521371190866627},\n",
       " {'val_loss': 1.4616527253726743,\n",
       "  'val_accuracy': 0.6757396449704142,\n",
       "  'precision': 0.6752673403156119,\n",
       "  'recall': 0.6757396449704142,\n",
       "  'f1-score': 0.6554626906460718,\n",
       "  'macro_f1-score': 0.39713601739839915,\n",
       "  'balanced_accuracy': 0.40352581726238873,\n",
       "  'mcc': 0.5730193840990809,\n",
       "  'train_loss': 0.3089252069216816},\n",
       " {'val_loss': 1.5257774169714946,\n",
       "  'val_accuracy': 0.7029585798816568,\n",
       "  'precision': 0.6926650855008593,\n",
       "  'recall': 0.7029585798816568,\n",
       "  'f1-score': 0.6798868483671258,\n",
       "  'macro_f1-score': 0.4184657277305506,\n",
       "  'balanced_accuracy': 0.40364999502786253,\n",
       "  'mcc': 0.5971142510220571,\n",
       "  'train_loss': 0.2715761071039724},\n",
       " {'val_loss': 1.4380539585396928,\n",
       "  'val_accuracy': 0.6994082840236686,\n",
       "  'precision': 0.6964058221499209,\n",
       "  'recall': 0.6994082840236686,\n",
       "  'f1-score': 0.6903618078931922,\n",
       "  'macro_f1-score': 0.45614363018087273,\n",
       "  'balanced_accuracy': 0.469686998131751,\n",
       "  'mcc': 0.6071959913078246,\n",
       "  'train_loss': 0.25442547314142916},\n",
       " {'val_loss': 1.6170269599500693,\n",
       "  'val_accuracy': 0.6923076923076923,\n",
       "  'precision': 0.6927819225289021,\n",
       "  'recall': 0.6923076923076923,\n",
       "  'f1-score': 0.6813631977553187,\n",
       "  'macro_f1-score': 0.4412299554617944,\n",
       "  'balanced_accuracy': 0.4308198989641263,\n",
       "  'mcc': 0.5941960244755659,\n",
       "  'train_loss': 0.21851855282135652},\n",
       " {'val_loss': 1.2214205849845454,\n",
       "  'val_accuracy': 0.6911242603550296,\n",
       "  'precision': 0.691524891861144,\n",
       "  'recall': 0.6911242603550296,\n",
       "  'f1-score': 0.6782543146226206,\n",
       "  'macro_f1-score': 0.37986315929486497,\n",
       "  'balanced_accuracy': 0.39079600194980857,\n",
       "  'mcc': 0.5994163509314494,\n",
       "  'train_loss': 0.8236593196184194},\n",
       " {'val_loss': 1.6452895976462454,\n",
       "  'val_accuracy': 0.676923076923077,\n",
       "  'precision': 0.7031090238185165,\n",
       "  'recall': 0.676923076923077,\n",
       "  'f1-score': 0.6777362571297955,\n",
       "  'macro_f1-score': 0.44159195727986045,\n",
       "  'balanced_accuracy': 0.4524230599236227,\n",
       "  'mcc': 0.5841914416015989,\n",
       "  'train_loss': 0.21879536438314637}]"
      ]
     },
     "execution_count": 5,
     "metadata": {},
     "output_type": "execute_result"
    }
   ],
   "source": [
    "results"
   ]
  }
 ],
 "metadata": {
  "kernelspec": {
   "display_name": "Python 3 (ipykernel)",
   "language": "python",
   "name": "python3"
  },
  "language_info": {
   "codemirror_mode": {
    "name": "ipython",
    "version": 3
   },
   "file_extension": ".py",
   "mimetype": "text/x-python",
   "name": "python",
   "nbconvert_exporter": "python",
   "pygments_lexer": "ipython3",
   "version": "3.11.9"
  }
 },
 "nbformat": 4,
 "nbformat_minor": 5
}
