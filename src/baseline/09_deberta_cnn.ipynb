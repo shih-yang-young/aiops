{
 "cells": [
  {
   "cell_type": "code",
   "execution_count": 1,
   "id": "f22f4841-9a9d-4a63-b896-560594d666d8",
   "metadata": {},
   "outputs": [
    {
     "data": {
      "text/html": [
       "<div>\n",
       "<style scoped>\n",
       "    .dataframe tbody tr th:only-of-type {\n",
       "        vertical-align: middle;\n",
       "    }\n",
       "\n",
       "    .dataframe tbody tr th {\n",
       "        vertical-align: top;\n",
       "    }\n",
       "\n",
       "    .dataframe thead th {\n",
       "        text-align: right;\n",
       "    }\n",
       "</style>\n",
       "<table border=\"1\" class=\"dataframe\">\n",
       "  <thead>\n",
       "    <tr style=\"text-align: right;\">\n",
       "      <th></th>\n",
       "      <th>Inbound Message</th>\n",
       "      <th>Label</th>\n",
       "    </tr>\n",
       "  </thead>\n",
       "  <tbody>\n",
       "    <tr>\n",
       "      <th>0</th>\n",
       "      <td>login issue verified user details employee man...</td>\n",
       "      <td>0</td>\n",
       "    </tr>\n",
       "    <tr>\n",
       "      <th>1</th>\n",
       "      <td>outlook hello team meetings skype meetings etc...</td>\n",
       "      <td>0</td>\n",
       "    </tr>\n",
       "    <tr>\n",
       "      <th>2</th>\n",
       "      <td>cant log vpn cannot log vpn best</td>\n",
       "      <td>0</td>\n",
       "    </tr>\n",
       "    <tr>\n",
       "      <th>3</th>\n",
       "      <td>unable access tool page unable access tool page</td>\n",
       "      <td>0</td>\n",
       "    </tr>\n",
       "    <tr>\n",
       "      <th>4</th>\n",
       "      <td>skype error skype error</td>\n",
       "      <td>0</td>\n",
       "    </tr>\n",
       "    <tr>\n",
       "      <th>...</th>\n",
       "      <td>...</td>\n",
       "      <td>...</td>\n",
       "    </tr>\n",
       "    <tr>\n",
       "      <th>8449</th>\n",
       "      <td>emails coming mail good afternoon receiving em...</td>\n",
       "      <td>22</td>\n",
       "    </tr>\n",
       "    <tr>\n",
       "      <th>8450</th>\n",
       "      <td>telephony software issue telephony software issue</td>\n",
       "      <td>0</td>\n",
       "    </tr>\n",
       "    <tr>\n",
       "      <th>8451</th>\n",
       "      <td>vip windows password reset tifpdchb pedxruyf v...</td>\n",
       "      <td>0</td>\n",
       "    </tr>\n",
       "    <tr>\n",
       "      <th>8452</th>\n",
       "      <td>machine est funcionando unable access machine ...</td>\n",
       "      <td>44</td>\n",
       "    </tr>\n",
       "    <tr>\n",
       "      <th>8453</th>\n",
       "      <td>mehreren lassen sich verschiedene prgramdntyme...</td>\n",
       "      <td>49</td>\n",
       "    </tr>\n",
       "  </tbody>\n",
       "</table>\n",
       "<p>8454 rows × 2 columns</p>\n",
       "</div>"
      ],
      "text/plain": [
       "                                        Inbound Message  Label\n",
       "0     login issue verified user details employee man...      0\n",
       "1     outlook hello team meetings skype meetings etc...      0\n",
       "2                      cant log vpn cannot log vpn best      0\n",
       "3       unable access tool page unable access tool page      0\n",
       "4                               skype error skype error      0\n",
       "...                                                 ...    ...\n",
       "8449  emails coming mail good afternoon receiving em...     22\n",
       "8450  telephony software issue telephony software issue      0\n",
       "8451  vip windows password reset tifpdchb pedxruyf v...      0\n",
       "8452  machine est funcionando unable access machine ...     44\n",
       "8453  mehreren lassen sich verschiedene prgramdntyme...     49\n",
       "\n",
       "[8454 rows x 2 columns]"
      ]
     },
     "execution_count": 1,
     "metadata": {},
     "output_type": "execute_result"
    }
   ],
   "source": [
    "import pandas as pd\n",
    "data_path = \"../../data/open_source_8454_combine_short_description.csv\"\n",
    "df = pd.read_csv(data_path)\n",
    "# df_label_0 = df[df[\"Label\"] == 0]\n",
    "# df_label_0_to_drop = df_label_0.sample(n=3000, random_state=42)\n",
    "# df = df.drop(df_label_0_to_drop.index)\n",
    "df"
   ]
  },
  {
   "cell_type": "code",
   "execution_count": 2,
   "id": "bf737873-4f1c-4588-913d-8f06b2777b20",
   "metadata": {},
   "outputs": [],
   "source": [
    "import sys\n",
    "import os\n",
    "sys.path.append(os.path.abspath('../ml_lib'))\n",
    "\n",
    "from config import *\n",
    "from experiment import run_kfold_experiment"
   ]
  },
  {
   "cell_type": "code",
   "execution_count": 3,
   "id": "a12b2613-aa9d-41c0-8f62-72210eaf8d7f",
   "metadata": {},
   "outputs": [],
   "source": [
    "messages, labels = df['Inbound Message'].tolist(), df['Label'].tolist()"
   ]
  },
  {
   "cell_type": "code",
   "execution_count": 4,
   "id": "38d4729f-f867-4cea-89f9-31f67e5ecced",
   "metadata": {},
   "outputs": [
    {
     "name": "stdout",
     "output_type": "stream",
     "text": [
      "▶ Running: microsoft/deberta-base + cnn + none\n",
      "tokenizer is microsoft/deberta-base\n",
      "Using device: cuda\n",
      "CUDA Available: True\n",
      "CUDA Device: NVIDIA GeForce RTX 3050 6GB Laptop GPU\n",
      "Current GPU Memory Allocated: 0.00 GB\n",
      "Current GPU Memory Cached: 0.00 GB\n",
      "\n",
      "[Fold 1]\n",
      "model is microsoft/deberta-base cnn\n"
     ]
    },
    {
     "name": "stderr",
     "output_type": "stream",
     "text": [
      "D:\\Anaconda3\\envs\\cuda\\Lib\\site-packages\\sklearn\\model_selection\\_split.py:737: UserWarning: The least populated class in y has only 7 members, which is less than n_splits=10.\n",
      "  warnings.warn(\n"
     ]
    },
    {
     "name": "stdout",
     "output_type": "stream",
     "text": [
      "Epoch 1/20\n"
     ]
    },
    {
     "name": "stderr",
     "output_type": "stream",
     "text": [
      "100%|██████████| 476/476 [04:59<00:00,  1.59it/s]\n"
     ]
    },
    {
     "name": "stdout",
     "output_type": "stream",
     "text": [
      "{'val_loss': 1.6806002664116193, 'val_accuracy': 0.5874704491725768, 'precision': 0.4311576346808522, 'recall': 0.5874704491725768, 'f1-score': 0.47363128509162195, 'macro_f1-score': 0.08752104471320382, 'balanced_accuracy': 0.10404661594504193, 'mcc': 0.40487670288131555, 'train_loss': 1.9814944467624696}\n",
      "Epoch 2/20\n"
     ]
    },
    {
     "name": "stderr",
     "output_type": "stream",
     "text": [
      "100%|██████████| 476/476 [04:53<00:00,  1.62it/s]\n"
     ]
    },
    {
     "name": "stdout",
     "output_type": "stream",
     "text": [
      "{'val_loss': 1.5116182734381478, 'val_accuracy': 0.6099290780141844, 'precision': 0.5248718979058867, 'recall': 0.6099290780141844, 'f1-score': 0.5324146355305615, 'macro_f1-score': 0.1654641384849558, 'balanced_accuracy': 0.16858686661472586, 'mcc': 0.4441692822326398, 'train_loss': 1.485212576239049}\n",
      "Epoch 3/20\n"
     ]
    },
    {
     "name": "stderr",
     "output_type": "stream",
     "text": [
      "100%|██████████| 476/476 [04:52<00:00,  1.63it/s]\n"
     ]
    },
    {
     "name": "stdout",
     "output_type": "stream",
     "text": [
      "{'val_loss': 1.3850093202770881, 'val_accuracy': 0.6323877068557919, 'precision': 0.6125626352652807, 'recall': 0.6323877068557919, 'f1-score': 0.605308199298398, 'macro_f1-score': 0.25287828793164957, 'balanced_accuracy': 0.2763453546988569, 'mcc': 0.5145800155936702, 'train_loss': 1.1816843798180587}\n",
      "Epoch 4/20\n"
     ]
    },
    {
     "name": "stderr",
     "output_type": "stream",
     "text": [
      "100%|██████████| 476/476 [04:52<00:00,  1.63it/s]\n"
     ]
    },
    {
     "name": "stdout",
     "output_type": "stream",
     "text": [
      "{'val_loss': 1.3627825829218019, 'val_accuracy': 0.6666666666666666, 'precision': 0.6135271354323731, 'recall': 0.6666666666666666, 'f1-score': 0.6212588885022274, 'macro_f1-score': 0.2883025742790498, 'balanced_accuracy': 0.27697041682629364, 'mcc': 0.546156052896627, 'train_loss': 0.9694872411171428}\n",
      "Epoch 5/20\n"
     ]
    },
    {
     "name": "stderr",
     "output_type": "stream",
     "text": [
      "100%|██████████| 476/476 [04:51<00:00,  1.63it/s]\n"
     ]
    },
    {
     "name": "stdout",
     "output_type": "stream",
     "text": [
      "{'val_loss': 1.3502170679704197, 'val_accuracy': 0.6560283687943262, 'precision': 0.6377650974399542, 'recall': 0.6560283687943262, 'f1-score': 0.6254821307811517, 'macro_f1-score': 0.33560150524163257, 'balanced_accuracy': 0.31939276731961125, 'mcc': 0.5390805919925192, 'train_loss': 0.8485312794937807}\n",
      "Epoch 6/20\n"
     ]
    },
    {
     "name": "stderr",
     "output_type": "stream",
     "text": [
      "100%|██████████| 476/476 [04:50<00:00,  1.64it/s]\n"
     ]
    },
    {
     "name": "stdout",
     "output_type": "stream",
     "text": [
      "{'val_loss': 1.4916191877059217, 'val_accuracy': 0.6583924349881797, 'precision': 0.637627145127916, 'recall': 0.6583924349881797, 'f1-score': 0.630981160565956, 'macro_f1-score': 0.3424575391814576, 'balanced_accuracy': 0.3342939547463399, 'mcc': 0.5465346288374536, 'train_loss': 0.6877123186787387}\n",
      "Epoch 7/20\n"
     ]
    },
    {
     "name": "stderr",
     "output_type": "stream",
     "text": [
      "100%|██████████| 476/476 [04:50<00:00,  1.64it/s]\n"
     ]
    },
    {
     "name": "stdout",
     "output_type": "stream",
     "text": [
      "{'val_loss': 1.528005694443325, 'val_accuracy': 0.6442080378250591, 'precision': 0.6351034981601423, 'recall': 0.6442080378250591, 'f1-score': 0.6237046517127062, 'macro_f1-score': 0.33582009899043164, 'balanced_accuracy': 0.34672183548705493, 'mcc': 0.5284468762905805, 'train_loss': 0.5949387884417063}\n",
      "Epoch 8/20\n"
     ]
    },
    {
     "name": "stderr",
     "output_type": "stream",
     "text": [
      "100%|██████████| 476/476 [04:50<00:00,  1.64it/s]\n"
     ]
    },
    {
     "name": "stdout",
     "output_type": "stream",
     "text": [
      "{'val_loss': 1.523474470624384, 'val_accuracy': 0.6619385342789598, 'precision': 0.6619157460322953, 'recall': 0.6619385342789598, 'f1-score': 0.6462470064003448, 'macro_f1-score': 0.3864311057992511, 'balanced_accuracy': 0.3749102522539199, 'mcc': 0.5515568482933092, 'train_loss': 0.4974456289587464}\n",
      "Epoch 9/20\n"
     ]
    },
    {
     "name": "stderr",
     "output_type": "stream",
     "text": [
      "100%|██████████| 476/476 [04:49<00:00,  1.64it/s]\n"
     ]
    },
    {
     "name": "stdout",
     "output_type": "stream",
     "text": [
      "{'val_loss': 1.6853611727930464, 'val_accuracy': 0.6690307328605201, 'precision': 0.6637267312646498, 'recall': 0.6690307328605201, 'f1-score': 0.6446041465872628, 'macro_f1-score': 0.4044448932293113, 'balanced_accuracy': 0.3814358332296545, 'mcc': 0.5547511184884683, 'train_loss': 0.407807785387644}\n",
      "Epoch 10/20\n"
     ]
    },
    {
     "name": "stderr",
     "output_type": "stream",
     "text": [
      "100%|██████████| 476/476 [04:50<00:00,  1.64it/s]\n"
     ]
    },
    {
     "name": "stdout",
     "output_type": "stream",
     "text": [
      "{'val_loss': 1.8633161960345395, 'val_accuracy': 0.6737588652482269, 'precision': 0.6446081724059403, 'recall': 0.6737588652482269, 'f1-score': 0.6442826097460648, 'macro_f1-score': 0.391121385474515, 'balanced_accuracy': 0.3725355386994865, 'mcc': 0.5530542191503107, 'train_loss': 0.3378869066691856}\n",
      "Epoch 11/20\n"
     ]
    },
    {
     "name": "stderr",
     "output_type": "stream",
     "text": [
      "100%|██████████| 476/476 [04:50<00:00,  1.64it/s]\n"
     ]
    },
    {
     "name": "stdout",
     "output_type": "stream",
     "text": [
      "{'val_loss': 1.7884062989702765, 'val_accuracy': 0.6595744680851063, 'precision': 0.6907655829028247, 'recall': 0.6595744680851063, 'f1-score': 0.6621420527285622, 'macro_f1-score': 0.42833167279287865, 'balanced_accuracy': 0.4307727424761221, 'mcc': 0.561826151541706, 'train_loss': 0.30037414461389933}\n",
      "Epoch 12/20\n"
     ]
    },
    {
     "name": "stderr",
     "output_type": "stream",
     "text": [
      "100%|██████████| 476/476 [04:50<00:00,  1.64it/s]\n"
     ]
    },
    {
     "name": "stdout",
     "output_type": "stream",
     "text": [
      "{'val_loss': 1.8246847104351476, 'val_accuracy': 0.6524822695035462, 'precision': 0.6623642216654512, 'recall': 0.6524822695035462, 'f1-score': 0.6355208604062589, 'macro_f1-score': 0.39107732088435543, 'balanced_accuracy': 0.39081336831891145, 'mcc': 0.5375894364789288, 'train_loss': 0.2832351481520469}\n",
      "Epoch 13/20\n"
     ]
    },
    {
     "name": "stderr",
     "output_type": "stream",
     "text": [
      "100%|██████████| 476/476 [04:50<00:00,  1.64it/s]\n"
     ]
    },
    {
     "name": "stdout",
     "output_type": "stream",
     "text": [
      "{'val_loss': 1.7266744476444316, 'val_accuracy': 0.6477541371158393, 'precision': 0.672328831380794, 'recall': 0.6477541371158393, 'f1-score': 0.6430659124514859, 'macro_f1-score': 0.4027292389291074, 'balanced_accuracy': 0.4031378206231714, 'mcc': 0.5412722243975148, 'train_loss': 0.315657021186291}\n",
      "Epoch 14/20\n"
     ]
    },
    {
     "name": "stderr",
     "output_type": "stream",
     "text": [
      "100%|██████████| 476/476 [04:50<00:00,  1.64it/s]\n"
     ]
    },
    {
     "name": "stdout",
     "output_type": "stream",
     "text": [
      "{'val_loss': 1.8785578996505377, 'val_accuracy': 0.6702127659574468, 'precision': 0.6807690183756027, 'recall': 0.6702127659574468, 'f1-score': 0.6614498719822054, 'macro_f1-score': 0.4248321560026911, 'balanced_accuracy': 0.4192027876143917, 'mcc': 0.5664969135688476, 'train_loss': 0.3147907174464331}\n",
      "Early stopping.\n",
      "\n",
      "[Fold 2]\n",
      "model is microsoft/deberta-base cnn\n",
      "Epoch 1/20\n"
     ]
    },
    {
     "name": "stderr",
     "output_type": "stream",
     "text": [
      "100%|██████████| 476/476 [04:52<00:00,  1.63it/s]\n"
     ]
    },
    {
     "name": "stdout",
     "output_type": "stream",
     "text": [
      "{'val_loss': 1.6056085909312625, 'val_accuracy': 0.6004728132387707, 'precision': 0.427123645452443, 'recall': 0.6004728132387707, 'f1-score': 0.4896211536454201, 'macro_f1-score': 0.08758848929420988, 'balanced_accuracy': 0.1080878036844074, 'mcc': 0.429496028824303, 'train_loss': 2.007761354205989}\n",
      "Epoch 2/20\n"
     ]
    },
    {
     "name": "stderr",
     "output_type": "stream",
     "text": [
      "100%|██████████| 476/476 [04:51<00:00,  1.63it/s]\n"
     ]
    },
    {
     "name": "stdout",
     "output_type": "stream",
     "text": [
      "{'val_loss': 1.4220028114768695, 'val_accuracy': 0.6323877068557919, 'precision': 0.5759577733235282, 'recall': 0.6323877068557919, 'f1-score': 0.5695889373291197, 'macro_f1-score': 0.16576973098969502, 'balanced_accuracy': 0.16450250195519645, 'mcc': 0.4916989566738324, 'train_loss': 1.5122986736417818}\n",
      "Epoch 3/20\n"
     ]
    },
    {
     "name": "stderr",
     "output_type": "stream",
     "text": [
      "100%|██████████| 476/476 [04:51<00:00,  1.63it/s]\n"
     ]
    },
    {
     "name": "stdout",
     "output_type": "stream",
     "text": [
      "{'val_loss': 1.3072583276145864, 'val_accuracy': 0.648936170212766, 'precision': 0.5866497037516737, 'recall': 0.648936170212766, 'f1-score': 0.6027975237274796, 'macro_f1-score': 0.21997953148959065, 'balanced_accuracy': 0.23016278667327014, 'mcc': 0.5212466973197681, 'train_loss': 1.219786300597822}\n",
      "Epoch 4/20\n"
     ]
    },
    {
     "name": "stderr",
     "output_type": "stream",
     "text": [
      "100%|██████████| 476/476 [04:50<00:00,  1.64it/s]\n"
     ]
    },
    {
     "name": "stdout",
     "output_type": "stream",
     "text": [
      "{'val_loss': 1.2937088260110818, 'val_accuracy': 0.6382978723404256, 'precision': 0.6067906053162683, 'recall': 0.6382978723404256, 'f1-score': 0.6120504875352214, 'macro_f1-score': 0.23971863219767134, 'balanced_accuracy': 0.2508590796446281, 'mcc': 0.5184994971065947, 'train_loss': 1.0196963401840013}\n",
      "Epoch 5/20\n"
     ]
    },
    {
     "name": "stderr",
     "output_type": "stream",
     "text": [
      "100%|██████████| 476/476 [04:50<00:00,  1.64it/s]\n"
     ]
    },
    {
     "name": "stdout",
     "output_type": "stream",
     "text": [
      "{'val_loss': 1.2929340049905598, 'val_accuracy': 0.6643026004728132, 'precision': 0.6340510794241553, 'recall': 0.6643026004728132, 'f1-score': 0.6384082970286694, 'macro_f1-score': 0.30085238157792504, 'balanced_accuracy': 0.3136310786269892, 'mcc': 0.5552031085777068, 'train_loss': 0.8012700649056615}\n",
      "Epoch 6/20\n"
     ]
    },
    {
     "name": "stderr",
     "output_type": "stream",
     "text": [
      "100%|██████████| 476/476 [04:50<00:00,  1.64it/s]\n"
     ]
    },
    {
     "name": "stdout",
     "output_type": "stream",
     "text": [
      "{'val_loss': 1.334957385962864, 'val_accuracy': 0.6737588652482269, 'precision': 0.6521329855514477, 'recall': 0.6737588652482269, 'f1-score': 0.6426356127633791, 'macro_f1-score': 0.32632847041959595, 'balanced_accuracy': 0.3300579863848967, 'mcc': 0.5621663990948615, 'train_loss': 0.6312931559572951}\n",
      "Epoch 7/20\n"
     ]
    },
    {
     "name": "stderr",
     "output_type": "stream",
     "text": [
      "100%|██████████| 476/476 [04:50<00:00,  1.64it/s]\n"
     ]
    },
    {
     "name": "stdout",
     "output_type": "stream",
     "text": [
      "{'val_loss': 1.4004250140684955, 'val_accuracy': 0.6524822695035462, 'precision': 0.6510251919074236, 'recall': 0.6524822695035462, 'f1-score': 0.6351405699725888, 'macro_f1-score': 0.32712803739476115, 'balanced_accuracy': 0.34308720874612403, 'mcc': 0.5499507530381499, 'train_loss': 0.5356671193911999}\n",
      "Epoch 8/20\n"
     ]
    },
    {
     "name": "stderr",
     "output_type": "stream",
     "text": [
      "100%|██████████| 476/476 [04:50<00:00,  1.64it/s]\n"
     ]
    },
    {
     "name": "stdout",
     "output_type": "stream",
     "text": [
      "{'val_loss': 1.5407220001490611, 'val_accuracy': 0.6536643026004728, 'precision': 0.6236018072353622, 'recall': 0.6536643026004728, 'f1-score': 0.6296039486184898, 'macro_f1-score': 0.31196720935959343, 'balanced_accuracy': 0.3156732846467728, 'mcc': 0.537530969822746, 'train_loss': 0.4502416145948677}\n",
      "Epoch 9/20\n"
     ]
    },
    {
     "name": "stderr",
     "output_type": "stream",
     "text": [
      "100%|██████████| 476/476 [04:50<00:00,  1.64it/s]\n"
     ]
    },
    {
     "name": "stdout",
     "output_type": "stream",
     "text": [
      "{'val_loss': 1.572586197335765, 'val_accuracy': 0.6666666666666666, 'precision': 0.6239163106890945, 'recall': 0.6666666666666666, 'f1-score': 0.634217427205683, 'macro_f1-score': 0.3143607152801902, 'balanced_accuracy': 0.31221606917313033, 'mcc': 0.5470440712129697, 'train_loss': 0.3833027200757706}\n",
      "Epoch 10/20\n"
     ]
    },
    {
     "name": "stderr",
     "output_type": "stream",
     "text": [
      "100%|██████████| 476/476 [04:50<00:00,  1.64it/s]\n"
     ]
    },
    {
     "name": "stdout",
     "output_type": "stream",
     "text": [
      "{'val_loss': 1.6080390345656648, 'val_accuracy': 0.6643026004728132, 'precision': 0.6366640419304299, 'recall': 0.6643026004728132, 'f1-score': 0.6379238094555955, 'macro_f1-score': 0.3345306896588507, 'balanced_accuracy': 0.35298928428086285, 'mcc': 0.5471124221944352, 'train_loss': 0.3219489332194589}\n",
      "Epoch 11/20\n"
     ]
    },
    {
     "name": "stderr",
     "output_type": "stream",
     "text": [
      "100%|██████████| 476/476 [04:50<00:00,  1.64it/s]\n"
     ]
    },
    {
     "name": "stdout",
     "output_type": "stream",
     "text": [
      "{'val_loss': 1.6258577912483576, 'val_accuracy': 0.6702127659574468, 'precision': 0.6626815643991839, 'recall': 0.6702127659574468, 'f1-score': 0.651368465929232, 'macro_f1-score': 0.3661223550416225, 'balanced_accuracy': 0.37453137399191805, 'mcc': 0.5599165698821261, 'train_loss': 0.29701417195855273}\n",
      "Epoch 12/20\n"
     ]
    },
    {
     "name": "stderr",
     "output_type": "stream",
     "text": [
      "100%|██████████| 476/476 [04:50<00:00,  1.64it/s]\n"
     ]
    },
    {
     "name": "stdout",
     "output_type": "stream",
     "text": [
      "{'val_loss': 1.6026572916867599, 'val_accuracy': 0.6643026004728132, 'precision': 0.6781590521112553, 'recall': 0.6643026004728132, 'f1-score': 0.6582978472301735, 'macro_f1-score': 0.4090286738446675, 'balanced_accuracy': 0.4356593057647987, 'mcc': 0.5677372115872401, 'train_loss': 0.30802852540676084}\n",
      "Epoch 13/20\n"
     ]
    },
    {
     "name": "stderr",
     "output_type": "stream",
     "text": [
      "100%|██████████| 476/476 [04:50<00:00,  1.64it/s]\n"
     ]
    },
    {
     "name": "stdout",
     "output_type": "stream",
     "text": [
      "{'val_loss': 1.7109226668780704, 'val_accuracy': 0.6501182033096927, 'precision': 0.625513984970327, 'recall': 0.6501182033096927, 'f1-score': 0.621498680637861, 'macro_f1-score': 0.3242160362696953, 'balanced_accuracy': 0.34360328608798546, 'mcc': 0.5276926068174049, 'train_loss': 0.2902531236519708}\n",
      "Epoch 14/20\n"
     ]
    },
    {
     "name": "stderr",
     "output_type": "stream",
     "text": [
      "100%|██████████| 476/476 [04:51<00:00,  1.64it/s]\n"
     ]
    },
    {
     "name": "stdout",
     "output_type": "stream",
     "text": [
      "{'val_loss': 2.521119531595482, 'val_accuracy': 0.47044917257683216, 'precision': 0.221322423978226, 'recall': 0.47044917257683216, 'f1-score': 0.3010269625170084, 'macro_f1-score': 0.01279742765273312, 'balanced_accuracy': 0.02, 'mcc': 0.0, 'train_loss': 1.7429767008499093}\n",
      "Epoch 15/20\n"
     ]
    },
    {
     "name": "stderr",
     "output_type": "stream",
     "text": [
      "100%|██████████| 476/476 [04:51<00:00,  1.63it/s]\n"
     ]
    },
    {
     "name": "stdout",
     "output_type": "stream",
     "text": [
      "{'val_loss': 2.506078205018673, 'val_accuracy': 0.47044917257683216, 'precision': 0.221322423978226, 'recall': 0.47044917257683216, 'f1-score': 0.3010269625170084, 'macro_f1-score': 0.01279742765273312, 'balanced_accuracy': 0.02, 'mcc': 0.0, 'train_loss': 2.542405195596839}\n",
      "Early stopping.\n",
      "\n",
      "[Fold 3]\n",
      "model is microsoft/deberta-base cnn\n",
      "Epoch 1/20\n"
     ]
    },
    {
     "name": "stderr",
     "output_type": "stream",
     "text": [
      "100%|██████████| 476/476 [04:53<00:00,  1.62it/s]\n"
     ]
    },
    {
     "name": "stdout",
     "output_type": "stream",
     "text": [
      "{'val_loss': 2.5678651805193917, 'val_accuracy': 0.47044917257683216, 'precision': 0.221322423978226, 'recall': 0.47044917257683216, 'f1-score': 0.3010269625170084, 'macro_f1-score': 0.01279742765273312, 'balanced_accuracy': 0.02, 'mcc': 0.0, 'train_loss': 2.0005660860979257}\n",
      "Epoch 2/20\n"
     ]
    },
    {
     "name": "stderr",
     "output_type": "stream",
     "text": [
      "100%|██████████| 476/476 [04:52<00:00,  1.63it/s]\n"
     ]
    },
    {
     "name": "stdout",
     "output_type": "stream",
     "text": [
      "{'val_loss': 2.5038332714224762, 'val_accuracy': 0.47044917257683216, 'precision': 0.221322423978226, 'recall': 0.47044917257683216, 'f1-score': 0.3010269625170084, 'macro_f1-score': 0.01279742765273312, 'balanced_accuracy': 0.02, 'mcc': 0.0, 'train_loss': 2.0506889743714773}\n",
      "Epoch 3/20\n"
     ]
    },
    {
     "name": "stderr",
     "output_type": "stream",
     "text": [
      "100%|██████████| 476/476 [04:51<00:00,  1.63it/s]\n"
     ]
    },
    {
     "name": "stdout",
     "output_type": "stream",
     "text": [
      "{'val_loss': 1.8706271400991477, 'val_accuracy': 0.5638297872340425, 'precision': 0.4087309797765331, 'recall': 0.5638297872340425, 'f1-score': 0.43549642233066477, 'macro_f1-score': 0.05115809461236747, 'balanced_accuracy': 0.06264115368256765, 'mcc': 0.35534965230072574, 'train_loss': 2.0541170820468615}\n",
      "Epoch 4/20\n"
     ]
    },
    {
     "name": "stderr",
     "output_type": "stream",
     "text": [
      "100%|██████████| 476/476 [04:51<00:00,  1.63it/s]\n"
     ]
    },
    {
     "name": "stdout",
     "output_type": "stream",
     "text": [
      "{'val_loss': 1.6292468658033408, 'val_accuracy': 0.607565011820331, 'precision': 0.4684967759125141, 'recall': 0.607565011820331, 'f1-score': 0.5198187334731864, 'macro_f1-score': 0.11372247143554554, 'balanced_accuracy': 0.1335660801394643, 'mcc': 0.4512490708280455, 'train_loss': 1.715155012592548}\n",
      "Epoch 5/20\n"
     ]
    },
    {
     "name": "stderr",
     "output_type": "stream",
     "text": [
      "100%|██████████| 476/476 [04:51<00:00,  1.63it/s]\n"
     ]
    },
    {
     "name": "stdout",
     "output_type": "stream",
     "text": [
      "{'val_loss': 1.871092897541118, 'val_accuracy': 0.5555555555555556, 'precision': 0.4574040061779995, 'recall': 0.5555555555555556, 'f1-score': 0.47365687180091604, 'macro_f1-score': 0.07664213772713628, 'balanced_accuracy': 0.08889688504183393, 'mcc': 0.38173647364210533, 'train_loss': 1.6488104176496257}\n",
      "Epoch 6/20\n"
     ]
    },
    {
     "name": "stderr",
     "output_type": "stream",
     "text": [
      "100%|██████████| 476/476 [04:51<00:00,  1.63it/s]\n"
     ]
    },
    {
     "name": "stdout",
     "output_type": "stream",
     "text": [
      "{'val_loss': 1.6399117044682772, 'val_accuracy': 0.5898345153664303, 'precision': 0.48944057757791964, 'recall': 0.5898345153664303, 'f1-score': 0.5191578709067524, 'macro_f1-score': 0.11542574591364554, 'balanced_accuracy': 0.12608051145219748, 'mcc': 0.43243292093337704, 'train_loss': 1.4894060361660828}\n",
      "Epoch 7/20\n"
     ]
    },
    {
     "name": "stderr",
     "output_type": "stream",
     "text": [
      "100%|██████████| 476/476 [04:51<00:00,  1.63it/s]\n"
     ]
    },
    {
     "name": "stdout",
     "output_type": "stream",
     "text": [
      "{'val_loss': 1.6098232190563995, 'val_accuracy': 0.6028368794326241, 'precision': 0.4961365371375861, 'recall': 0.6028368794326241, 'f1-score': 0.5312037253448393, 'macro_f1-score': 0.12724416814400352, 'balanced_accuracy': 0.1433483310139869, 'mcc': 0.4524035882901795, 'train_loss': 1.3664365676896912}\n",
      "Epoch 8/20\n"
     ]
    },
    {
     "name": "stderr",
     "output_type": "stream",
     "text": [
      "100%|██████████| 476/476 [04:51<00:00,  1.64it/s]\n"
     ]
    },
    {
     "name": "stdout",
     "output_type": "stream",
     "text": [
      "{'val_loss': 1.7775428576289483, 'val_accuracy': 0.5614657210401891, 'precision': 0.4781978934777812, 'recall': 0.5614657210401891, 'f1-score': 0.4867891845528747, 'macro_f1-score': 0.09873079244685509, 'balanced_accuracy': 0.1087337472304549, 'mcc': 0.39134771799233015, 'train_loss': 1.3029046064915777}\n",
      "Epoch 9/20\n"
     ]
    },
    {
     "name": "stderr",
     "output_type": "stream",
     "text": [
      "100%|██████████| 476/476 [04:51<00:00,  1.64it/s]\n"
     ]
    },
    {
     "name": "stdout",
     "output_type": "stream",
     "text": [
      "{'val_loss': 1.6843562609744522, 'val_accuracy': 0.5780141843971631, 'precision': 0.5450491409065981, 'recall': 0.5780141843971631, 'f1-score': 0.5296033109027698, 'macro_f1-score': 0.132979902097777, 'balanced_accuracy': 0.14408591352235434, 'mcc': 0.43896513422428185, 'train_loss': 1.2349535879843376}\n",
      "Epoch 10/20\n"
     ]
    },
    {
     "name": "stderr",
     "output_type": "stream",
     "text": [
      "100%|██████████| 476/476 [04:50<00:00,  1.64it/s]\n"
     ]
    },
    {
     "name": "stdout",
     "output_type": "stream",
     "text": [
      "{'val_loss': 1.5091377800365664, 'val_accuracy': 0.6063829787234043, 'precision': 0.600274572872558, 'recall': 0.6063829787234043, 'f1-score': 0.5789020325895441, 'macro_f1-score': 0.19156174359533057, 'balanced_accuracy': 0.2013261505798155, 'mcc': 0.4766217076041273, 'train_loss': 1.1594260346238352}\n",
      "Epoch 11/20\n"
     ]
    },
    {
     "name": "stderr",
     "output_type": "stream",
     "text": [
      "100%|██████████| 476/476 [04:50<00:00,  1.64it/s]\n"
     ]
    },
    {
     "name": "stdout",
     "output_type": "stream",
     "text": [
      "{'val_loss': 1.5583444094320513, 'val_accuracy': 0.6158392434988179, 'precision': 0.584473277943285, 'recall': 0.6158392434988179, 'f1-score': 0.5727289696601727, 'macro_f1-score': 0.1990153308507874, 'balanced_accuracy': 0.19988065279028716, 'mcc': 0.4737570303678302, 'train_loss': 1.071563085666349}\n",
      "Epoch 12/20\n"
     ]
    },
    {
     "name": "stderr",
     "output_type": "stream",
     "text": [
      "100%|██████████| 476/476 [04:50<00:00,  1.64it/s]\n"
     ]
    },
    {
     "name": "stdout",
     "output_type": "stream",
     "text": [
      "{'val_loss': 1.5645986829163894, 'val_accuracy': 0.5957446808510638, 'precision': 0.5780746132441013, 'recall': 0.5957446808510638, 'f1-score': 0.5710307481985148, 'macro_f1-score': 0.22221431522731105, 'balanced_accuracy': 0.22891800065969187, 'mcc': 0.4651713308138377, 'train_loss': 1.0097570940226066}\n",
      "Epoch 13/20\n"
     ]
    },
    {
     "name": "stderr",
     "output_type": "stream",
     "text": [
      "100%|██████████| 476/476 [04:50<00:00,  1.64it/s]\n"
     ]
    },
    {
     "name": "stdout",
     "output_type": "stream",
     "text": [
      "{'val_loss': 1.5838873813737113, 'val_accuracy': 0.6052009456264775, 'precision': 0.5285870389933449, 'recall': 0.6052009456264775, 'f1-score': 0.5489016234898692, 'macro_f1-score': 0.18718736452917412, 'balanced_accuracy': 0.18840376803927314, 'mcc': 0.45268305548692966, 'train_loss': 0.9176220382336809}\n",
      "Epoch 14/20\n"
     ]
    },
    {
     "name": "stderr",
     "output_type": "stream",
     "text": [
      "100%|██████████| 476/476 [04:50<00:00,  1.64it/s]\n"
     ]
    },
    {
     "name": "stdout",
     "output_type": "stream",
     "text": [
      "{'val_loss': 1.5342245557398166, 'val_accuracy': 0.6264775413711584, 'precision': 0.584294363597354, 'recall': 0.6264775413711584, 'f1-score': 0.5911919935057993, 'macro_f1-score': 0.23434768223554528, 'balanced_accuracy': 0.2332644004525481, 'mcc': 0.4946820653135803, 'train_loss': 0.8102560141476012}\n",
      "Epoch 15/20\n"
     ]
    },
    {
     "name": "stderr",
     "output_type": "stream",
     "text": [
      "100%|██████████| 476/476 [04:50<00:00,  1.64it/s]\n"
     ]
    },
    {
     "name": "stdout",
     "output_type": "stream",
     "text": [
      "{'val_loss': 1.6119545810627487, 'val_accuracy': 0.640661938534279, 'precision': 0.6123207013206027, 'recall': 0.640661938534279, 'f1-score': 0.6144585870302545, 'macro_f1-score': 0.26431419478744933, 'balanced_accuracy': 0.27812160467615327, 'mcc': 0.5223631585233174, 'train_loss': 0.728332444665437}\n",
      "Epoch 16/20\n"
     ]
    },
    {
     "name": "stderr",
     "output_type": "stream",
     "text": [
      "100%|██████████| 476/476 [04:50<00:00,  1.64it/s]\n"
     ]
    },
    {
     "name": "stdout",
     "output_type": "stream",
     "text": [
      "{'val_loss': 1.6385281693260625, 'val_accuracy': 0.6288416075650118, 'precision': 0.6080948139545521, 'recall': 0.6288416075650118, 'f1-score': 0.6047017778716443, 'macro_f1-score': 0.24825065133566804, 'balanced_accuracy': 0.25768983623665653, 'mcc': 0.5094972109003191, 'train_loss': 0.6850045862521569}\n",
      "Epoch 17/20\n"
     ]
    },
    {
     "name": "stderr",
     "output_type": "stream",
     "text": [
      "100%|██████████| 476/476 [04:50<00:00,  1.64it/s]\n"
     ]
    },
    {
     "name": "stdout",
     "output_type": "stream",
     "text": [
      "{'val_loss': 1.6480709303100154, 'val_accuracy': 0.6359338061465721, 'precision': 0.6142354248169226, 'recall': 0.6359338061465721, 'f1-score': 0.61179130735803, 'macro_f1-score': 0.26156397225978845, 'balanced_accuracy': 0.2650857309463097, 'mcc': 0.5141159169385993, 'train_loss': 0.6252457582540497}\n",
      "Epoch 18/20\n"
     ]
    },
    {
     "name": "stderr",
     "output_type": "stream",
     "text": [
      "100%|██████████| 476/476 [04:50<00:00,  1.64it/s]\n"
     ]
    },
    {
     "name": "stdout",
     "output_type": "stream",
     "text": [
      "{'val_loss': 1.6323320067153786, 'val_accuracy': 0.6182033096926713, 'precision': 0.6226747093545743, 'recall': 0.6182033096926713, 'f1-score': 0.6057837240125072, 'macro_f1-score': 0.25692267151875736, 'balanced_accuracy': 0.271075152578029, 'mcc': 0.4991472035508636, 'train_loss': 0.6033125386002058}\n",
      "Early stopping.\n",
      "\n",
      "[Fold 4]\n",
      "model is microsoft/deberta-base cnn\n",
      "Epoch 1/20\n"
     ]
    },
    {
     "name": "stderr",
     "output_type": "stream",
     "text": [
      "100%|██████████| 476/476 [04:54<00:00,  1.62it/s]\n"
     ]
    },
    {
     "name": "stdout",
     "output_type": "stream",
     "text": [
      "{'val_loss': 2.331256825968904, 'val_accuracy': 0.5106382978723404, 'precision': 0.27738071581949275, 'recall': 0.5106382978723404, 'f1-score': 0.35875272911859835, 'macro_f1-score': 0.02268996414780606, 'balanced_accuracy': 0.0305558093497792, 'mcc': 0.21507028027929825, 'train_loss': 2.382161343548478}\n",
      "Epoch 2/20\n"
     ]
    },
    {
     "name": "stderr",
     "output_type": "stream",
     "text": [
      "100%|██████████| 476/476 [04:52<00:00,  1.63it/s]\n"
     ]
    },
    {
     "name": "stdout",
     "output_type": "stream",
     "text": [
      "{'val_loss': 2.5307760373601376, 'val_accuracy': 0.47044917257683216, 'precision': 0.221322423978226, 'recall': 0.47044917257683216, 'f1-score': 0.3010269625170084, 'macro_f1-score': 0.01279742765273312, 'balanced_accuracy': 0.02, 'mcc': 0.0, 'train_loss': 2.468401636646575}\n",
      "Epoch 3/20\n"
     ]
    },
    {
     "name": "stderr",
     "output_type": "stream",
     "text": [
      "100%|██████████| 476/476 [04:52<00:00,  1.63it/s]\n"
     ]
    },
    {
     "name": "stdout",
     "output_type": "stream",
     "text": [
      "{'val_loss': 2.5128784786980107, 'val_accuracy': 0.47044917257683216, 'precision': 0.221322423978226, 'recall': 0.47044917257683216, 'f1-score': 0.3010269625170084, 'macro_f1-score': 0.01279742765273312, 'balanced_accuracy': 0.02, 'mcc': 0.0, 'train_loss': 2.526897054259517}\n",
      "Epoch 4/20\n"
     ]
    },
    {
     "name": "stderr",
     "output_type": "stream",
     "text": [
      "100%|██████████| 476/476 [04:52<00:00,  1.63it/s]\n"
     ]
    },
    {
     "name": "stdout",
     "output_type": "stream",
     "text": [
      "{'val_loss': 2.5469361026332065, 'val_accuracy': 0.47044917257683216, 'precision': 0.221322423978226, 'recall': 0.47044917257683216, 'f1-score': 0.3010269625170084, 'macro_f1-score': 0.01279742765273312, 'balanced_accuracy': 0.02, 'mcc': 0.0, 'train_loss': 2.5113338294650327}\n",
      "Early stopping.\n",
      "\n",
      "[Fold 5]\n",
      "model is microsoft/deberta-base cnn\n",
      "Epoch 1/20\n"
     ]
    },
    {
     "name": "stderr",
     "output_type": "stream",
     "text": [
      "100%|██████████| 476/476 [04:53<00:00,  1.62it/s]\n"
     ]
    },
    {
     "name": "stdout",
     "output_type": "stream",
     "text": [
      "{'val_loss': 1.6249482496729437, 'val_accuracy': 0.5751479289940828, 'precision': 0.48131225720851734, 'recall': 0.5751479289940828, 'f1-score': 0.49009096783798434, 'macro_f1-score': 0.09235569212026512, 'balanced_accuracy': 0.11059088470810002, 'mcc': 0.39987893104915867, 'train_loss': 2.0050025483389864}\n",
      "Epoch 2/20\n"
     ]
    },
    {
     "name": "stderr",
     "output_type": "stream",
     "text": [
      "100%|██████████| 476/476 [04:51<00:00,  1.63it/s]\n"
     ]
    },
    {
     "name": "stdout",
     "output_type": "stream",
     "text": [
      "{'val_loss': 1.4303987599768728, 'val_accuracy': 0.6189349112426036, 'precision': 0.5311917618020631, 'recall': 0.6189349112426036, 'f1-score': 0.5458670717305463, 'macro_f1-score': 0.14383801562688706, 'balanced_accuracy': 0.15766948557915061, 'mcc': 0.46808025927543273, 'train_loss': 1.508334217953081}\n",
      "Epoch 3/20\n"
     ]
    },
    {
     "name": "stderr",
     "output_type": "stream",
     "text": [
      "100%|██████████| 476/476 [04:51<00:00,  1.64it/s]\n"
     ]
    },
    {
     "name": "stdout",
     "output_type": "stream",
     "text": [
      "{'val_loss': 1.3118484981779783, 'val_accuracy': 0.642603550295858, 'precision': 0.5923102082090057, 'recall': 0.642603550295858, 'f1-score': 0.5946604645340423, 'macro_f1-score': 0.22305734099329735, 'balanced_accuracy': 0.22215262397608393, 'mcc': 0.5059809233531918, 'train_loss': 1.2292298866169793}\n",
      "Epoch 4/20\n"
     ]
    },
    {
     "name": "stderr",
     "output_type": "stream",
     "text": [
      "100%|██████████| 476/476 [04:50<00:00,  1.64it/s]\n"
     ]
    },
    {
     "name": "stdout",
     "output_type": "stream",
     "text": [
      "{'val_loss': 1.3452921858373679, 'val_accuracy': 0.6414201183431952, 'precision': 0.584484136340261, 'recall': 0.6414201183431952, 'f1-score': 0.5936578088807078, 'macro_f1-score': 0.22865268863344546, 'balanced_accuracy': 0.22003088610693883, 'mcc': 0.5039379630772289, 'train_loss': 1.0129627502452927}\n",
      "Epoch 5/20\n"
     ]
    },
    {
     "name": "stderr",
     "output_type": "stream",
     "text": [
      "100%|██████████| 476/476 [04:50<00:00,  1.64it/s]\n"
     ]
    },
    {
     "name": "stdout",
     "output_type": "stream",
     "text": [
      "{'val_loss': 1.3325288531915196, 'val_accuracy': 0.6603550295857988, 'precision': 0.6328395959771568, 'recall': 0.6603550295857988, 'f1-score': 0.6268147762834861, 'macro_f1-score': 0.30956895405609214, 'balanced_accuracy': 0.3056022320593062, 'mcc': 0.5398101332657499, 'train_loss': 0.853948911980671}\n",
      "Epoch 6/20\n"
     ]
    },
    {
     "name": "stderr",
     "output_type": "stream",
     "text": [
      "100%|██████████| 476/476 [04:50<00:00,  1.64it/s]\n"
     ]
    },
    {
     "name": "stdout",
     "output_type": "stream",
     "text": [
      "{'val_loss': 1.3203025274681595, 'val_accuracy': 0.6556213017751479, 'precision': 0.6692900312979202, 'recall': 0.6556213017751479, 'f1-score': 0.6493675131442954, 'macro_f1-score': 0.34495632853907177, 'balanced_accuracy': 0.35910019110264463, 'mcc': 0.5521498820466332, 'train_loss': 0.6984740599379444}\n",
      "Epoch 7/20\n"
     ]
    },
    {
     "name": "stderr",
     "output_type": "stream",
     "text": [
      "100%|██████████| 476/476 [04:50<00:00,  1.64it/s]\n"
     ]
    },
    {
     "name": "stdout",
     "output_type": "stream",
     "text": [
      "{'val_loss': 1.4888367264900568, 'val_accuracy': 0.6520710059171597, 'precision': 0.6495245824564325, 'recall': 0.6520710059171597, 'f1-score': 0.6317087475823381, 'macro_f1-score': 0.348131004130174, 'balanced_accuracy': 0.33941359462090764, 'mcc': 0.5328684028041213, 'train_loss': 0.5680375726924849}\n",
      "Epoch 8/20\n"
     ]
    },
    {
     "name": "stderr",
     "output_type": "stream",
     "text": [
      "100%|██████████| 476/476 [04:50<00:00,  1.64it/s]\n"
     ]
    },
    {
     "name": "stdout",
     "output_type": "stream",
     "text": [
      "{'val_loss': 1.6152404999395586, 'val_accuracy': 0.6497041420118344, 'precision': 0.645326937118734, 'recall': 0.6497041420118344, 'f1-score': 0.6092951904503685, 'macro_f1-score': 0.32912041217371474, 'balanced_accuracy': 0.30094076104545553, 'mcc': 0.51650368342661, 'train_loss': 0.4812629253470472}\n",
      "Epoch 9/20\n"
     ]
    },
    {
     "name": "stderr",
     "output_type": "stream",
     "text": [
      "100%|██████████| 476/476 [04:50<00:00,  1.64it/s]\n"
     ]
    },
    {
     "name": "stdout",
     "output_type": "stream",
     "text": [
      "{'val_loss': 1.4859778802349883, 'val_accuracy': 0.6627218934911243, 'precision': 0.6535594629160031, 'recall': 0.6627218934911243, 'f1-score': 0.6462216546221995, 'macro_f1-score': 0.3387724741242297, 'balanced_accuracy': 0.3497014813661446, 'mcc': 0.5504709707616241, 'train_loss': 0.41699118132726487}\n",
      "Epoch 10/20\n"
     ]
    },
    {
     "name": "stderr",
     "output_type": "stream",
     "text": [
      "100%|██████████| 476/476 [04:50<00:00,  1.64it/s]\n"
     ]
    },
    {
     "name": "stdout",
     "output_type": "stream",
     "text": [
      "{'val_loss': 1.7324219166107897, 'val_accuracy': 0.6544378698224852, 'precision': 0.6339548042089534, 'recall': 0.6544378698224852, 'f1-score': 0.6259970900350752, 'macro_f1-score': 0.3388419045854603, 'balanced_accuracy': 0.335085573297605, 'mcc': 0.5345301413507765, 'train_loss': 0.3647630798098232}\n",
      "Early stopping.\n",
      "\n",
      "[Fold 6]\n",
      "model is microsoft/deberta-base cnn\n",
      "Epoch 1/20\n"
     ]
    },
    {
     "name": "stderr",
     "output_type": "stream",
     "text": [
      "100%|██████████| 476/476 [04:52<00:00,  1.63it/s]\n"
     ]
    },
    {
     "name": "stdout",
     "output_type": "stream",
     "text": [
      "{'val_loss': 1.578226993668754, 'val_accuracy': 0.6035502958579881, 'precision': 0.4826291921347049, 'recall': 0.6035502958579881, 'f1-score': 0.5030859980812622, 'macro_f1-score': 0.08741042837660334, 'balanced_accuracy': 0.10053488183093162, 'mcc': 0.43861969404756757, 'train_loss': 1.9900291180159866}\n",
      "Epoch 2/20\n"
     ]
    },
    {
     "name": "stderr",
     "output_type": "stream",
     "text": [
      "100%|██████████| 476/476 [04:51<00:00,  1.63it/s]\n"
     ]
    },
    {
     "name": "stdout",
     "output_type": "stream",
     "text": [
      "{'val_loss': 1.380199264242964, 'val_accuracy': 0.6295857988165681, 'precision': 0.5118196808980635, 'recall': 0.6295857988165681, 'f1-score': 0.5580182547409964, 'macro_f1-score': 0.17166177366588112, 'balanced_accuracy': 0.18856763842398297, 'mcc': 0.48825457163740743, 'train_loss': 1.4942844578949344}\n",
      "Epoch 3/20\n"
     ]
    },
    {
     "name": "stderr",
     "output_type": "stream",
     "text": [
      "100%|██████████| 476/476 [04:51<00:00,  1.64it/s]\n"
     ]
    },
    {
     "name": "stdout",
     "output_type": "stream",
     "text": [
      "{'val_loss': 1.2794890128216654, 'val_accuracy': 0.6627218934911243, 'precision': 0.5952794934712261, 'recall': 0.6627218934911243, 'f1-score': 0.6150977560503709, 'macro_f1-score': 0.2515764055241823, 'balanced_accuracy': 0.26103041378080627, 'mcc': 0.538485648167569, 'train_loss': 1.2211586095142264}\n",
      "Epoch 4/20\n"
     ]
    },
    {
     "name": "stderr",
     "output_type": "stream",
     "text": [
      "100%|██████████| 476/476 [04:50<00:00,  1.64it/s]\n"
     ]
    },
    {
     "name": "stdout",
     "output_type": "stream",
     "text": [
      "{'val_loss': 1.2301537782516119, 'val_accuracy': 0.6686390532544378, 'precision': 0.653442150385954, 'recall': 0.6686390532544378, 'f1-score': 0.6339418878347981, 'macro_f1-score': 0.2940295811595206, 'balanced_accuracy': 0.31130662578791374, 'mcc': 0.5604426000600293, 'train_loss': 1.006543273841884}\n",
      "Epoch 5/20\n"
     ]
    },
    {
     "name": "stderr",
     "output_type": "stream",
     "text": [
      "100%|██████████| 476/476 [04:50<00:00,  1.64it/s]\n"
     ]
    },
    {
     "name": "stdout",
     "output_type": "stream",
     "text": [
      "{'val_loss': 1.2039576594559651, 'val_accuracy': 0.6686390532544378, 'precision': 0.6309853042859519, 'recall': 0.6686390532544378, 'f1-score': 0.6373671480874651, 'macro_f1-score': 0.26082772963957657, 'balanced_accuracy': 0.2666025806137716, 'mcc': 0.5517065004322143, 'train_loss': 0.8251479604289311}\n",
      "Epoch 6/20\n"
     ]
    },
    {
     "name": "stderr",
     "output_type": "stream",
     "text": [
      "100%|██████████| 476/476 [04:50<00:00,  1.64it/s]\n"
     ]
    },
    {
     "name": "stdout",
     "output_type": "stream",
     "text": [
      "{'val_loss': 1.287352111542, 'val_accuracy': 0.6781065088757396, 'precision': 0.6615738803044464, 'recall': 0.6781065088757396, 'f1-score': 0.6510111644939954, 'macro_f1-score': 0.34962288100958966, 'balanced_accuracy': 0.33817736756958, 'mcc': 0.5704289990151017, 'train_loss': 0.6797822022481876}\n",
      "Epoch 7/20\n"
     ]
    },
    {
     "name": "stderr",
     "output_type": "stream",
     "text": [
      "100%|██████████| 476/476 [04:50<00:00,  1.64it/s]\n"
     ]
    },
    {
     "name": "stdout",
     "output_type": "stream",
     "text": [
      "{'val_loss': 1.319386436691824, 'val_accuracy': 0.6863905325443787, 'precision': 0.6649052199542745, 'recall': 0.6863905325443787, 'f1-score': 0.665003388241761, 'macro_f1-score': 0.3545097353804833, 'balanced_accuracy': 0.35994758410618233, 'mcc': 0.5798895078603558, 'train_loss': 0.5581304833230352}\n",
      "Epoch 8/20\n"
     ]
    },
    {
     "name": "stderr",
     "output_type": "stream",
     "text": [
      "100%|██████████| 476/476 [04:50<00:00,  1.64it/s]\n"
     ]
    },
    {
     "name": "stdout",
     "output_type": "stream",
     "text": [
      "{'val_loss': 1.4003351471334133, 'val_accuracy': 0.6792899408284023, 'precision': 0.6787325273199, 'recall': 0.6792899408284023, 'f1-score': 0.6614154841930823, 'macro_f1-score': 0.3099383793216042, 'balanced_accuracy': 0.29940929128538285, 'mcc': 0.5685612282329967, 'train_loss': 0.47730216640243384}\n",
      "Epoch 9/20\n"
     ]
    },
    {
     "name": "stderr",
     "output_type": "stream",
     "text": [
      "100%|██████████| 476/476 [04:50<00:00,  1.64it/s]\n"
     ]
    },
    {
     "name": "stdout",
     "output_type": "stream",
     "text": [
      "{'val_loss': 1.452452447616829, 'val_accuracy': 0.6686390532544378, 'precision': 0.6620776919317474, 'recall': 0.6686390532544378, 'f1-score': 0.6570075602804001, 'macro_f1-score': 0.3304515541498327, 'balanced_accuracy': 0.33251638271680095, 'mcc': 0.567155916965721, 'train_loss': 0.414317172157633}\n",
      "Epoch 10/20\n"
     ]
    },
    {
     "name": "stderr",
     "output_type": "stream",
     "text": [
      "100%|██████████| 476/476 [04:50<00:00,  1.64it/s]\n"
     ]
    },
    {
     "name": "stdout",
     "output_type": "stream",
     "text": [
      "{'val_loss': 1.5136823316790022, 'val_accuracy': 0.6863905325443787, 'precision': 0.6774051323858373, 'recall': 0.6863905325443787, 'f1-score': 0.6722909944555434, 'macro_f1-score': 0.3921908242385815, 'balanced_accuracy': 0.38397606848552235, 'mcc': 0.5844169689968396, 'train_loss': 0.3608401185625522}\n",
      "Epoch 11/20\n"
     ]
    },
    {
     "name": "stderr",
     "output_type": "stream",
     "text": [
      "100%|██████████| 476/476 [04:50<00:00,  1.64it/s]\n"
     ]
    },
    {
     "name": "stdout",
     "output_type": "stream",
     "text": [
      "{'val_loss': 1.5021081982918505, 'val_accuracy': 0.6792899408284023, 'precision': 0.6780194942596153, 'recall': 0.6792899408284023, 'f1-score': 0.6719189966267495, 'macro_f1-score': 0.3955242424593742, 'balanced_accuracy': 0.4158641853479789, 'mcc': 0.5783812268395878, 'train_loss': 0.3283493282398632}\n",
      "Epoch 12/20\n"
     ]
    },
    {
     "name": "stderr",
     "output_type": "stream",
     "text": [
      "100%|██████████| 476/476 [04:50<00:00,  1.64it/s]\n"
     ]
    },
    {
     "name": "stdout",
     "output_type": "stream",
     "text": [
      "{'val_loss': 1.5259437167419578, 'val_accuracy': 0.6863905325443787, 'precision': 0.6718938014963559, 'recall': 0.6863905325443787, 'f1-score': 0.663054122494727, 'macro_f1-score': 0.36129639971868277, 'balanced_accuracy': 0.3582082883935673, 'mcc': 0.5812643663461327, 'train_loss': 0.28922966264771344}\n",
      "Epoch 13/20\n"
     ]
    },
    {
     "name": "stderr",
     "output_type": "stream",
     "text": [
      "100%|██████████| 476/476 [04:50<00:00,  1.64it/s]\n"
     ]
    },
    {
     "name": "stdout",
     "output_type": "stream",
     "text": [
      "{'val_loss': 1.6048312603302721, 'val_accuracy': 0.6828402366863905, 'precision': 0.7080115318828777, 'recall': 0.6828402366863905, 'f1-score': 0.6791230245640014, 'macro_f1-score': 0.4105920424004792, 'balanced_accuracy': 0.4366767828497648, 'mcc': 0.594903200553605, 'train_loss': 0.2747782299294089}\n",
      "Epoch 14/20\n"
     ]
    },
    {
     "name": "stderr",
     "output_type": "stream",
     "text": [
      "100%|██████████| 476/476 [04:50<00:00,  1.64it/s]\n"
     ]
    },
    {
     "name": "stdout",
     "output_type": "stream",
     "text": [
      "{'val_loss': 1.78171879840347, 'val_accuracy': 0.6875739644970414, 'precision': 0.6673430153795443, 'recall': 0.6875739644970414, 'f1-score': 0.6590651298183083, 'macro_f1-score': 0.35279912237544325, 'balanced_accuracy': 0.3517621986721563, 'mcc': 0.5757670347002122, 'train_loss': 0.37891745721694364}\n",
      "Epoch 15/20\n"
     ]
    },
    {
     "name": "stderr",
     "output_type": "stream",
     "text": [
      "100%|██████████| 476/476 [04:50<00:00,  1.64it/s]\n"
     ]
    },
    {
     "name": "stdout",
     "output_type": "stream",
     "text": [
      "{'val_loss': 1.6703000580364804, 'val_accuracy': 0.6875739644970414, 'precision': 0.674457732340791, 'recall': 0.6875739644970414, 'f1-score': 0.6717391444029287, 'macro_f1-score': 0.38179694810991216, 'balanced_accuracy': 0.3714837944760068, 'mcc': 0.5853217959733824, 'train_loss': 0.2630727888131906}\n",
      "Epoch 16/20\n"
     ]
    },
    {
     "name": "stderr",
     "output_type": "stream",
     "text": [
      "100%|██████████| 476/476 [04:50<00:00,  1.64it/s]\n"
     ]
    },
    {
     "name": "stdout",
     "output_type": "stream",
     "text": [
      "{'val_loss': 1.6100660056438085, 'val_accuracy': 0.6840236686390533, 'precision': 0.6898417635059436, 'recall': 0.6840236686390533, 'f1-score': 0.6730011867299612, 'macro_f1-score': 0.44054498511367357, 'balanced_accuracy': 0.4557888043468988, 'mcc': 0.5821857123656098, 'train_loss': 0.21991145592906802}\n",
      "Epoch 17/20\n"
     ]
    },
    {
     "name": "stderr",
     "output_type": "stream",
     "text": [
      "100%|██████████| 476/476 [04:50<00:00,  1.64it/s]\n"
     ]
    },
    {
     "name": "stdout",
     "output_type": "stream",
     "text": [
      "{'val_loss': 1.563444660519654, 'val_accuracy': 0.6923076923076923, 'precision': 0.6867369789066088, 'recall': 0.6923076923076923, 'f1-score': 0.6812072023551303, 'macro_f1-score': 0.38663296752818865, 'balanced_accuracy': 0.3740542137721253, 'mcc': 0.5929034313420933, 'train_loss': 0.6099326454656699}\n",
      "Epoch 18/20\n"
     ]
    },
    {
     "name": "stderr",
     "output_type": "stream",
     "text": [
      "100%|██████████| 476/476 [04:50<00:00,  1.64it/s]\n"
     ]
    },
    {
     "name": "stdout",
     "output_type": "stream",
     "text": [
      "{'val_loss': 1.6472665993672497, 'val_accuracy': 0.7065088757396449, 'precision': 0.698360662240148, 'recall': 0.7065088757396449, 'f1-score': 0.6902703306993371, 'macro_f1-score': 0.42147678911531905, 'balanced_accuracy': 0.4313958772304134, 'mcc': 0.6112028772010134, 'train_loss': 0.2476403927068547}\n",
      "Epoch 19/20\n"
     ]
    },
    {
     "name": "stderr",
     "output_type": "stream",
     "text": [
      "100%|██████████| 476/476 [04:50<00:00,  1.64it/s]\n"
     ]
    },
    {
     "name": "stdout",
     "output_type": "stream",
     "text": [
      "{'val_loss': 1.7121828142202125, 'val_accuracy': 0.6781065088757396, 'precision': 0.6976406766890951, 'recall': 0.6781065088757396, 'f1-score': 0.6736282061769135, 'macro_f1-score': 0.38384461307986234, 'balanced_accuracy': 0.41461903533792827, 'mcc': 0.5795019870692335, 'train_loss': 0.22369975089379235}\n",
      "Early stopping.\n",
      "\n",
      "[Fold 7]\n",
      "model is microsoft/deberta-base cnn\n",
      "Epoch 1/20\n"
     ]
    },
    {
     "name": "stderr",
     "output_type": "stream",
     "text": [
      "100%|██████████| 476/476 [04:53<00:00,  1.62it/s]\n"
     ]
    },
    {
     "name": "stdout",
     "output_type": "stream",
     "text": [
      "{'val_loss': 2.537990113474288, 'val_accuracy': 0.46982248520710057, 'precision': 0.22073316760617626, 'recall': 0.46982248520710057, 'f1-score': 0.3003535050357793, 'macro_f1-score': 0.012785829307568436, 'balanced_accuracy': 0.02, 'mcc': 0.0, 'train_loss': 2.4238907841323805}\n",
      "Epoch 2/20\n"
     ]
    },
    {
     "name": "stderr",
     "output_type": "stream",
     "text": [
      "100%|██████████| 476/476 [04:52<00:00,  1.62it/s]\n"
     ]
    },
    {
     "name": "stdout",
     "output_type": "stream",
     "text": [
      "{'val_loss': 2.542621432610278, 'val_accuracy': 0.46982248520710057, 'precision': 0.22073316760617626, 'recall': 0.46982248520710057, 'f1-score': 0.3003535050357793, 'macro_f1-score': 0.012785829307568436, 'balanced_accuracy': 0.02, 'mcc': 0.0, 'train_loss': 2.5255265784363785}\n",
      "Epoch 3/20\n"
     ]
    },
    {
     "name": "stderr",
     "output_type": "stream",
     "text": [
      "100%|██████████| 476/476 [04:52<00:00,  1.63it/s]\n"
     ]
    },
    {
     "name": "stdout",
     "output_type": "stream",
     "text": [
      "{'val_loss': 2.5350657948907815, 'val_accuracy': 0.46982248520710057, 'precision': 0.22073316760617626, 'recall': 0.46982248520710057, 'f1-score': 0.3003535050357793, 'macro_f1-score': 0.012785829307568436, 'balanced_accuracy': 0.02, 'mcc': 0.0, 'train_loss': 2.5221999513001}\n",
      "Epoch 4/20\n"
     ]
    },
    {
     "name": "stderr",
     "output_type": "stream",
     "text": [
      "100%|██████████| 476/476 [04:52<00:00,  1.63it/s]\n"
     ]
    },
    {
     "name": "stdout",
     "output_type": "stream",
     "text": [
      "{'val_loss': 2.5211468485166444, 'val_accuracy': 0.46982248520710057, 'precision': 0.22073316760617626, 'recall': 0.46982248520710057, 'f1-score': 0.3003535050357793, 'macro_f1-score': 0.012785829307568436, 'balanced_accuracy': 0.02, 'mcc': 0.0, 'train_loss': 2.509770646816542}\n",
      "Early stopping.\n",
      "\n",
      "[Fold 8]\n",
      "model is microsoft/deberta-base cnn\n",
      "Epoch 1/20\n"
     ]
    },
    {
     "name": "stderr",
     "output_type": "stream",
     "text": [
      "100%|██████████| 476/476 [04:53<00:00,  1.62it/s]\n"
     ]
    },
    {
     "name": "stdout",
     "output_type": "stream",
     "text": [
      "{'val_loss': 1.5943237037028906, 'val_accuracy': 0.6, 'precision': 0.42059761041665916, 'recall': 0.6, 'f1-score': 0.476558069740595, 'macro_f1-score': 0.08402325505898542, 'balanced_accuracy': 0.09389377436310468, 'mcc': 0.41694254186893964, 'train_loss': 2.004529585983573}\n",
      "Epoch 2/20\n"
     ]
    },
    {
     "name": "stderr",
     "output_type": "stream",
     "text": [
      "100%|██████████| 476/476 [04:51<00:00,  1.63it/s]\n"
     ]
    },
    {
     "name": "stdout",
     "output_type": "stream",
     "text": [
      "{'val_loss': 1.3294052144266524, 'val_accuracy': 0.6248520710059171, 'precision': 0.5310396042440743, 'recall': 0.6248520710059171, 'f1-score': 0.5567877801793991, 'macro_f1-score': 0.1517045561955156, 'balanced_accuracy': 0.1714109388599183, 'mcc': 0.4894172909194847, 'train_loss': 1.4963378647044927}\n",
      "Epoch 3/20\n"
     ]
    },
    {
     "name": "stderr",
     "output_type": "stream",
     "text": [
      "100%|██████████| 476/476 [04:51<00:00,  1.64it/s]\n"
     ]
    },
    {
     "name": "stdout",
     "output_type": "stream",
     "text": [
      "{'val_loss': 1.227138245443128, 'val_accuracy': 0.6650887573964497, 'precision': 0.6254794591620675, 'recall': 0.6650887573964497, 'f1-score': 0.6320015617150017, 'macro_f1-score': 0.2628817869384667, 'balanced_accuracy': 0.2761207147671163, 'mcc': 0.5512950487276661, 'train_loss': 1.1998183243915814}\n",
      "Epoch 4/20\n"
     ]
    },
    {
     "name": "stderr",
     "output_type": "stream",
     "text": [
      "100%|██████████| 476/476 [04:50<00:00,  1.64it/s]\n"
     ]
    },
    {
     "name": "stdout",
     "output_type": "stream",
     "text": [
      "{'val_loss': 1.1991469404607449, 'val_accuracy': 0.6804733727810651, 'precision': 0.6111450502128868, 'recall': 0.6804733727810651, 'f1-score': 0.628953299154723, 'macro_f1-score': 0.25930981481918347, 'balanced_accuracy': 0.2562736927467676, 'mcc': 0.5627737471941742, 'train_loss': 0.9679756250639423}\n",
      "Epoch 5/20\n"
     ]
    },
    {
     "name": "stderr",
     "output_type": "stream",
     "text": [
      "100%|██████████| 476/476 [04:50<00:00,  1.64it/s]\n"
     ]
    },
    {
     "name": "stdout",
     "output_type": "stream",
     "text": [
      "{'val_loss': 1.309600660823426, 'val_accuracy': 0.6745562130177515, 'precision': 0.6260149235514456, 'recall': 0.6745562130177515, 'f1-score': 0.6344287161569467, 'macro_f1-score': 0.29112632360793406, 'balanced_accuracy': 0.28437577970849376, 'mcc': 0.5526476229270845, 'train_loss': 0.7642123261544885}\n",
      "Epoch 6/20\n"
     ]
    },
    {
     "name": "stderr",
     "output_type": "stream",
     "text": [
      "100%|██████████| 476/476 [04:50<00:00,  1.64it/s]\n"
     ]
    },
    {
     "name": "stdout",
     "output_type": "stream",
     "text": [
      "{'val_loss': 1.4840998444354758, 'val_accuracy': 0.6733727810650888, 'precision': 0.6185514781217728, 'recall': 0.6733727810650888, 'f1-score': 0.6251321527828829, 'macro_f1-score': 0.284548210256682, 'balanced_accuracy': 0.26516326737837526, 'mcc': 0.5497170291660506, 'train_loss': 0.6218952146992713}\n",
      "Epoch 7/20\n"
     ]
    },
    {
     "name": "stderr",
     "output_type": "stream",
     "text": [
      "100%|██████████| 476/476 [04:50<00:00,  1.64it/s]\n"
     ]
    },
    {
     "name": "stdout",
     "output_type": "stream",
     "text": [
      "{'val_loss': 1.3347391311852437, 'val_accuracy': 0.6745562130177515, 'precision': 0.6703052568886471, 'recall': 0.6745562130177515, 'f1-score': 0.6627635608614119, 'macro_f1-score': 0.3686836431761617, 'balanced_accuracy': 0.3651956581895077, 'mcc': 0.5757174828319188, 'train_loss': 0.5024661495264212}\n",
      "Epoch 8/20\n"
     ]
    },
    {
     "name": "stderr",
     "output_type": "stream",
     "text": [
      "100%|██████████| 476/476 [04:50<00:00,  1.64it/s]\n"
     ]
    },
    {
     "name": "stdout",
     "output_type": "stream",
     "text": [
      "{'val_loss': 1.4195650619155955, 'val_accuracy': 0.6899408284023668, 'precision': 0.6628126413535943, 'recall': 0.6899408284023668, 'f1-score': 0.6607337965957489, 'macro_f1-score': 0.36583923104030674, 'balanced_accuracy': 0.3327162057875046, 'mcc': 0.5798154427243423, 'train_loss': 0.4250047583751255}\n",
      "Epoch 9/20\n"
     ]
    },
    {
     "name": "stderr",
     "output_type": "stream",
     "text": [
      "100%|██████████| 476/476 [04:50<00:00,  1.64it/s]\n"
     ]
    },
    {
     "name": "stdout",
     "output_type": "stream",
     "text": [
      "{'val_loss': 1.5135541046565433, 'val_accuracy': 0.6923076923076923, 'precision': 0.6803673330372948, 'recall': 0.6923076923076923, 'f1-score': 0.672447524241301, 'macro_f1-score': 0.39271437676278614, 'balanced_accuracy': 0.3840756559932028, 'mcc': 0.590290703560905, 'train_loss': 0.3721472075514245}\n",
      "Epoch 10/20\n"
     ]
    },
    {
     "name": "stderr",
     "output_type": "stream",
     "text": [
      "100%|██████████| 476/476 [04:50<00:00,  1.64it/s]\n"
     ]
    },
    {
     "name": "stdout",
     "output_type": "stream",
     "text": [
      "{'val_loss': 1.5076830460215516, 'val_accuracy': 0.6662721893491125, 'precision': 0.6584105458557613, 'recall': 0.6662721893491125, 'f1-score': 0.6509640861752689, 'macro_f1-score': 0.34575156112808203, 'balanced_accuracy': 0.3614853808697911, 'mcc': 0.5617595269581227, 'train_loss': 0.32257839892951756}\n",
      "Epoch 11/20\n"
     ]
    },
    {
     "name": "stderr",
     "output_type": "stream",
     "text": [
      "100%|██████████| 476/476 [04:50<00:00,  1.64it/s]\n"
     ]
    },
    {
     "name": "stdout",
     "output_type": "stream",
     "text": [
      "{'val_loss': 1.6171502454100914, 'val_accuracy': 0.6781065088757396, 'precision': 0.6719967259716791, 'recall': 0.6781065088757396, 'f1-score': 0.6612553820162693, 'macro_f1-score': 0.39717325650101193, 'balanced_accuracy': 0.37825739838899197, 'mcc': 0.5714186173062514, 'train_loss': 0.2978071480678363}\n",
      "Epoch 12/20\n"
     ]
    },
    {
     "name": "stderr",
     "output_type": "stream",
     "text": [
      "100%|██████████| 476/476 [04:50<00:00,  1.64it/s]\n"
     ]
    },
    {
     "name": "stdout",
     "output_type": "stream",
     "text": [
      "{'val_loss': 1.7041912618673072, 'val_accuracy': 0.6745562130177515, 'precision': 0.6733456427084962, 'recall': 0.6745562130177515, 'f1-score': 0.6588127145676899, 'macro_f1-score': 0.3730674704878519, 'balanced_accuracy': 0.3695017253659516, 'mcc': 0.5665947333936657, 'train_loss': 0.26622975674778726}\n",
      "Epoch 13/20\n"
     ]
    },
    {
     "name": "stderr",
     "output_type": "stream",
     "text": [
      "100%|██████████| 476/476 [04:50<00:00,  1.64it/s]\n"
     ]
    },
    {
     "name": "stdout",
     "output_type": "stream",
     "text": [
      "{'val_loss': 1.7224456566684652, 'val_accuracy': 0.6662721893491125, 'precision': 0.6715094374217709, 'recall': 0.6662721893491125, 'f1-score': 0.6569229392164052, 'macro_f1-score': 0.3851550834245884, 'balanced_accuracy': 0.3953724588865592, 'mcc': 0.5604873153200501, 'train_loss': 0.2512977413291174}\n",
      "Epoch 14/20\n"
     ]
    },
    {
     "name": "stderr",
     "output_type": "stream",
     "text": [
      "100%|██████████| 476/476 [04:51<00:00,  1.64it/s]\n"
     ]
    },
    {
     "name": "stdout",
     "output_type": "stream",
     "text": [
      "{'val_loss': 1.6921999207082785, 'val_accuracy': 0.6804733727810651, 'precision': 0.6669245633190306, 'recall': 0.6804733727810651, 'f1-score': 0.6633978893200113, 'macro_f1-score': 0.37308846457621864, 'balanced_accuracy': 0.38023203395582533, 'mcc': 0.5771378136536484, 'train_loss': 0.2600849330392979}\n",
      "Early stopping.\n",
      "\n",
      "[Fold 9]\n",
      "model is microsoft/deberta-base cnn\n",
      "Epoch 1/20\n"
     ]
    },
    {
     "name": "stderr",
     "output_type": "stream",
     "text": [
      "100%|██████████| 476/476 [04:52<00:00,  1.62it/s]\n"
     ]
    },
    {
     "name": "stdout",
     "output_type": "stream",
     "text": [
      "{'val_loss': 1.7458382462555508, 'val_accuracy': 0.5680473372781065, 'precision': 0.3960646477624684, 'recall': 0.5680473372781065, 'f1-score': 0.46244216289807005, 'macro_f1-score': 0.06619362652585131, 'balanced_accuracy': 0.08331550695402028, 'mcc': 0.37462275233617043, 'train_loss': 2.0950468781114626}\n",
      "Epoch 2/20\n"
     ]
    },
    {
     "name": "stderr",
     "output_type": "stream",
     "text": [
      "100%|██████████| 476/476 [04:51<00:00,  1.63it/s]\n"
     ]
    },
    {
     "name": "stdout",
     "output_type": "stream",
     "text": [
      "{'val_loss': 1.5269571553986028, 'val_accuracy': 0.6118343195266273, 'precision': 0.46696780759564355, 'recall': 0.6118343195266273, 'f1-score': 0.5219134702967709, 'macro_f1-score': 0.12141694674159517, 'balanced_accuracy': 0.14138216030957512, 'mcc': 0.45597016980503463, 'train_loss': 1.6811512498294605}\n",
      "Epoch 3/20\n"
     ]
    },
    {
     "name": "stderr",
     "output_type": "stream",
     "text": [
      "100%|██████████| 476/476 [04:51<00:00,  1.63it/s]\n"
     ]
    },
    {
     "name": "stdout",
     "output_type": "stream",
     "text": [
      "{'val_loss': 1.4178699356205058, 'val_accuracy': 0.6272189349112426, 'precision': 0.5522981950765606, 'recall': 0.6272189349112426, 'f1-score': 0.5726645302437762, 'macro_f1-score': 0.1849179750479834, 'balanced_accuracy': 0.1926402724174276, 'mcc': 0.494816893662465, 'train_loss': 1.419657000661397}\n",
      "Epoch 4/20\n"
     ]
    },
    {
     "name": "stderr",
     "output_type": "stream",
     "text": [
      "100%|██████████| 476/476 [04:51<00:00,  1.63it/s]\n"
     ]
    },
    {
     "name": "stdout",
     "output_type": "stream",
     "text": [
      "{'val_loss': 1.2891553887781106, 'val_accuracy': 0.6603550295857988, 'precision': 0.6231066935415726, 'recall': 0.6603550295857988, 'f1-score': 0.6185916650475046, 'macro_f1-score': 0.25898886172810176, 'balanced_accuracy': 0.2613108387582762, 'mcc': 0.5416852651095012, 'train_loss': 1.197740223102209}\n",
      "Epoch 5/20\n"
     ]
    },
    {
     "name": "stderr",
     "output_type": "stream",
     "text": [
      "100%|██████████| 476/476 [04:50<00:00,  1.64it/s]\n"
     ]
    },
    {
     "name": "stdout",
     "output_type": "stream",
     "text": [
      "{'val_loss': 1.3067541639759856, 'val_accuracy': 0.650887573964497, 'precision': 0.6235826505245639, 'recall': 0.650887573964497, 'f1-score': 0.6239305546243591, 'macro_f1-score': 0.2735675541736163, 'balanced_accuracy': 0.28663430727842387, 'mcc': 0.5366276832544505, 'train_loss': 0.9925533025642904}\n",
      "Epoch 6/20\n"
     ]
    },
    {
     "name": "stderr",
     "output_type": "stream",
     "text": [
      "100%|██████████| 476/476 [04:50<00:00,  1.64it/s]\n"
     ]
    },
    {
     "name": "stdout",
     "output_type": "stream",
     "text": [
      "{'val_loss': 1.361947461119238, 'val_accuracy': 0.6875739644970414, 'precision': 0.6638872090117097, 'recall': 0.6875739644970414, 'f1-score': 0.658556058009632, 'macro_f1-score': 0.32134873434407546, 'balanced_accuracy': 0.3158354873306295, 'mcc': 0.5779390715299045, 'train_loss': 0.8364071796468201}\n",
      "Epoch 7/20\n"
     ]
    },
    {
     "name": "stderr",
     "output_type": "stream",
     "text": [
      "100%|██████████| 476/476 [04:50<00:00,  1.64it/s]\n"
     ]
    },
    {
     "name": "stdout",
     "output_type": "stream",
     "text": [
      "{'val_loss': 1.2886288987015777, 'val_accuracy': 0.6875739644970414, 'precision': 0.6745026770871505, 'recall': 0.6875739644970414, 'f1-score': 0.6646055940032691, 'macro_f1-score': 0.3431254771917515, 'balanced_accuracy': 0.33207274116928154, 'mcc': 0.5866079417854616, 'train_loss': 0.6876881770132219}\n",
      "Epoch 8/20\n"
     ]
    },
    {
     "name": "stderr",
     "output_type": "stream",
     "text": [
      "100%|██████████| 476/476 [04:50<00:00,  1.64it/s]\n"
     ]
    },
    {
     "name": "stdout",
     "output_type": "stream",
     "text": [
      "{'val_loss': 1.4907750099335078, 'val_accuracy': 0.6603550295857988, 'precision': 0.658514143077183, 'recall': 0.6603550295857988, 'f1-score': 0.6358237698067994, 'macro_f1-score': 0.3174317183699663, 'balanced_accuracy': 0.32118987731027004, 'mcc': 0.5501661080588719, 'train_loss': 0.5463004644193193}\n",
      "Epoch 9/20\n"
     ]
    },
    {
     "name": "stderr",
     "output_type": "stream",
     "text": [
      "100%|██████████| 476/476 [04:50<00:00,  1.64it/s]\n"
     ]
    },
    {
     "name": "stdout",
     "output_type": "stream",
     "text": [
      "{'val_loss': 1.5084469520820762, 'val_accuracy': 0.6698224852071006, 'precision': 0.6798916336373971, 'recall': 0.6698224852071006, 'f1-score': 0.6623689883513814, 'macro_f1-score': 0.3399907719446338, 'balanced_accuracy': 0.33532962025893703, 'mcc': 0.5732355426559985, 'train_loss': 0.4812565849029592}\n",
      "Epoch 10/20\n"
     ]
    },
    {
     "name": "stderr",
     "output_type": "stream",
     "text": [
      "100%|██████████| 476/476 [04:51<00:00,  1.63it/s]\n"
     ]
    },
    {
     "name": "stdout",
     "output_type": "stream",
     "text": [
      "{'val_loss': 1.5504105912064605, 'val_accuracy': 0.6733727810650888, 'precision': 0.681481075550375, 'recall': 0.6733727810650888, 'f1-score': 0.6657817492576155, 'macro_f1-score': 0.38913683469416943, 'balanced_accuracy': 0.4059503757265028, 'mcc': 0.5775516824612262, 'train_loss': 0.43289633538914424}\n",
      "Epoch 11/20\n"
     ]
    },
    {
     "name": "stderr",
     "output_type": "stream",
     "text": [
      "100%|██████████| 476/476 [04:51<00:00,  1.63it/s]\n"
     ]
    },
    {
     "name": "stdout",
     "output_type": "stream",
     "text": [
      "{'val_loss': 1.503165752820249, 'val_accuracy': 0.6674556213017752, 'precision': 0.6708354466621025, 'recall': 0.6674556213017752, 'f1-score': 0.6599508020217749, 'macro_f1-score': 0.36427016341253193, 'balanced_accuracy': 0.381671354628225, 'mcc': 0.5646495794163133, 'train_loss': 0.3835334573723689}\n",
      "Epoch 12/20\n"
     ]
    },
    {
     "name": "stderr",
     "output_type": "stream",
     "text": [
      "100%|██████████| 476/476 [04:51<00:00,  1.64it/s]\n"
     ]
    },
    {
     "name": "stdout",
     "output_type": "stream",
     "text": [
      "{'val_loss': 1.6326561086582687, 'val_accuracy': 0.6792899408284023, 'precision': 0.6807434111804852, 'recall': 0.6792899408284023, 'f1-score': 0.6680707169028385, 'macro_f1-score': 0.41012049611214635, 'balanced_accuracy': 0.41766609596301674, 'mcc': 0.579488944829925, 'train_loss': 0.348448994833616}\n",
      "Epoch 13/20\n"
     ]
    },
    {
     "name": "stderr",
     "output_type": "stream",
     "text": [
      "100%|██████████| 476/476 [04:52<00:00,  1.63it/s]\n"
     ]
    },
    {
     "name": "stdout",
     "output_type": "stream",
     "text": [
      "{'val_loss': 1.7492866949090418, 'val_accuracy': 0.6887573964497041, 'precision': 0.6897696067576389, 'recall': 0.6887573964497041, 'f1-score': 0.6641334697657331, 'macro_f1-score': 0.38133314799868, 'balanced_accuracy': 0.3436908466996371, 'mcc': 0.577182733221141, 'train_loss': 0.3129430122393723}\n",
      "Epoch 14/20\n"
     ]
    },
    {
     "name": "stderr",
     "output_type": "stream",
     "text": [
      "100%|██████████| 476/476 [04:51<00:00,  1.64it/s]\n"
     ]
    },
    {
     "name": "stdout",
     "output_type": "stream",
     "text": [
      "{'val_loss': 1.620853474679983, 'val_accuracy': 0.6710059171597633, 'precision': 0.6836234572359509, 'recall': 0.6710059171597633, 'f1-score': 0.6677675141923949, 'macro_f1-score': 0.4114129343946345, 'balanced_accuracy': 0.40700812838298056, 'mcc': 0.5709645996798577, 'train_loss': 0.2928638402607386}\n",
      "Epoch 15/20\n"
     ]
    },
    {
     "name": "stderr",
     "output_type": "stream",
     "text": [
      "100%|██████████| 476/476 [04:51<00:00,  1.63it/s]\n"
     ]
    },
    {
     "name": "stdout",
     "output_type": "stream",
     "text": [
      "{'val_loss': 1.7727837461345601, 'val_accuracy': 0.6923076923076923, 'precision': 0.6908217945530665, 'recall': 0.6923076923076923, 'f1-score': 0.6791392904724972, 'macro_f1-score': 0.3785965462460428, 'balanced_accuracy': 0.3839010741367704, 'mcc': 0.5988820636100735, 'train_loss': 0.32801317599379}\n",
      "Epoch 16/20\n"
     ]
    },
    {
     "name": "stderr",
     "output_type": "stream",
     "text": [
      "100%|██████████| 476/476 [04:51<00:00,  1.63it/s]\n"
     ]
    },
    {
     "name": "stdout",
     "output_type": "stream",
     "text": [
      "{'val_loss': 1.7569162362026718, 'val_accuracy': 0.6875739644970414, 'precision': 0.6755634732134189, 'recall': 0.6875739644970414, 'f1-score': 0.6766449850372656, 'macro_f1-score': 0.4005205884966181, 'balanced_accuracy': 0.3988428975652026, 'mcc': 0.5874025544480683, 'train_loss': 0.2568531377923855}\n",
      "Epoch 17/20\n"
     ]
    },
    {
     "name": "stderr",
     "output_type": "stream",
     "text": [
      "100%|██████████| 476/476 [04:48<00:00,  1.65it/s]\n",
      "D:\\Anaconda3\\envs\\cuda\\Lib\\site-packages\\sklearn\\metrics\\_classification.py:2458: UserWarning: y_pred contains classes not in y_true\n",
      "  warnings.warn(\"y_pred contains classes not in y_true\")\n"
     ]
    },
    {
     "name": "stdout",
     "output_type": "stream",
     "text": [
      "{'val_loss': 1.753652032816185, 'val_accuracy': 0.6792899408284023, 'precision': 0.670561754132504, 'recall': 0.6792899408284023, 'f1-score': 0.6656175530159939, 'macro_f1-score': 0.37551188995585905, 'balanced_accuracy': 0.39253143559034676, 'mcc': 0.5759675342601187, 'train_loss': 0.25461013280559613}\n",
      "Early stopping.\n",
      "\n",
      "[Fold 10]\n",
      "model is microsoft/deberta-base cnn\n",
      "Epoch 1/20\n"
     ]
    },
    {
     "name": "stderr",
     "output_type": "stream",
     "text": [
      "100%|██████████| 476/476 [04:49<00:00,  1.64it/s]\n"
     ]
    },
    {
     "name": "stdout",
     "output_type": "stream",
     "text": [
      "{'val_loss': 1.6066858768463135, 'val_accuracy': 0.5988165680473373, 'precision': 0.3986797638234182, 'recall': 0.5988165680473373, 'f1-score': 0.471670402156249, 'macro_f1-score': 0.08562919795679372, 'balanced_accuracy': 0.09406127523876405, 'mcc': 0.4130121510392132, 'train_loss': 1.986559386764254}\n",
      "Epoch 2/20\n"
     ]
    },
    {
     "name": "stderr",
     "output_type": "stream",
     "text": [
      "100%|██████████| 476/476 [04:48<00:00,  1.65it/s]\n"
     ]
    },
    {
     "name": "stdout",
     "output_type": "stream",
     "text": [
      "{'val_loss': 1.3810357007215608, 'val_accuracy': 0.6390532544378699, 'precision': 0.5726928839299719, 'recall': 0.6390532544378699, 'f1-score': 0.5875252446196612, 'macro_f1-score': 0.19027652172387688, 'balanced_accuracy': 0.198300655715796, 'mcc': 0.5116214000485642, 'train_loss': 1.4728248423638464}\n",
      "Epoch 3/20\n"
     ]
    },
    {
     "name": "stderr",
     "output_type": "stream",
     "text": [
      "100%|██████████| 476/476 [04:48<00:00,  1.65it/s]\n"
     ]
    },
    {
     "name": "stdout",
     "output_type": "stream",
     "text": [
      "{'val_loss': 1.3627869110062438, 'val_accuracy': 0.6402366863905326, 'precision': 0.5983144717813009, 'recall': 0.6402366863905326, 'f1-score': 0.600302430220949, 'macro_f1-score': 0.22864967523321159, 'balanced_accuracy': 0.24487779887658817, 'mcc': 0.5085429506282851, 'train_loss': 1.176518407752033}\n",
      "Epoch 4/20\n"
     ]
    },
    {
     "name": "stderr",
     "output_type": "stream",
     "text": [
      "100%|██████████| 476/476 [04:46<00:00,  1.66it/s]\n"
     ]
    },
    {
     "name": "stdout",
     "output_type": "stream",
     "text": [
      "{'val_loss': 1.2764706347348556, 'val_accuracy': 0.6674556213017752, 'precision': 0.6687079663204203, 'recall': 0.6674556213017752, 'f1-score': 0.652735943815749, 'macro_f1-score': 0.296798369384309, 'balanced_accuracy': 0.3069740738129002, 'mcc': 0.5605917774004572, 'train_loss': 0.9430406196277683}\n",
      "Epoch 5/20\n"
     ]
    },
    {
     "name": "stderr",
     "output_type": "stream",
     "text": [
      "100%|██████████| 476/476 [04:46<00:00,  1.66it/s]\n"
     ]
    },
    {
     "name": "stdout",
     "output_type": "stream",
     "text": [
      "{'val_loss': 1.2779380510438163, 'val_accuracy': 0.6840236686390533, 'precision': 0.6886830748288832, 'recall': 0.6840236686390533, 'f1-score': 0.6747962814468776, 'macro_f1-score': 0.32808202848136625, 'balanced_accuracy': 0.3449030761981428, 'mcc': 0.5864812971584046, 'train_loss': 0.7597146199687439}\n",
      "Epoch 6/20\n"
     ]
    },
    {
     "name": "stderr",
     "output_type": "stream",
     "text": [
      "100%|██████████| 476/476 [04:46<00:00,  1.66it/s]\n"
     ]
    },
    {
     "name": "stdout",
     "output_type": "stream",
     "text": [
      "{'val_loss': 1.3748270813024268, 'val_accuracy': 0.650887573964497, 'precision': 0.6787830738189191, 'recall': 0.650887573964497, 'f1-score': 0.650687464309064, 'macro_f1-score': 0.3419238317411433, 'balanced_accuracy': 0.34245417788036864, 'mcc': 0.550360469906159, 'train_loss': 0.6117254290886286}\n",
      "Epoch 7/20\n"
     ]
    },
    {
     "name": "stderr",
     "output_type": "stream",
     "text": [
      "100%|██████████| 476/476 [04:46<00:00,  1.66it/s]\n"
     ]
    },
    {
     "name": "stdout",
     "output_type": "stream",
     "text": [
      "{'val_loss': 1.3854793186457652, 'val_accuracy': 0.6710059171597633, 'precision': 0.6668599807961744, 'recall': 0.6710059171597633, 'f1-score': 0.6542346170999432, 'macro_f1-score': 0.326924246871807, 'balanced_accuracy': 0.3284372051919563, 'mcc': 0.5668162204432766, 'train_loss': 0.48509348624878945}\n",
      "Epoch 8/20\n"
     ]
    },
    {
     "name": "stderr",
     "output_type": "stream",
     "text": [
      "100%|██████████| 476/476 [04:46<00:00,  1.66it/s]\n"
     ]
    },
    {
     "name": "stdout",
     "output_type": "stream",
     "text": [
      "{'val_loss': 1.4555139221110434, 'val_accuracy': 0.6781065088757396, 'precision': 0.6906591405502052, 'recall': 0.6781065088757396, 'f1-score': 0.6717374750701868, 'macro_f1-score': 0.34228329600239515, 'balanced_accuracy': 0.34404288324561233, 'mcc': 0.5784240199705297, 'train_loss': 0.4372895377406365}\n",
      "Epoch 9/20\n"
     ]
    },
    {
     "name": "stderr",
     "output_type": "stream",
     "text": [
      "100%|██████████| 476/476 [04:46<00:00,  1.66it/s]\n"
     ]
    },
    {
     "name": "stdout",
     "output_type": "stream",
     "text": [
      "{'val_loss': 1.519105797528096, 'val_accuracy': 0.6887573964497041, 'precision': 0.6955031777565603, 'recall': 0.6887573964497041, 'f1-score': 0.6728720694315269, 'macro_f1-score': 0.34038327727019946, 'balanced_accuracy': 0.33940530923901985, 'mcc': 0.5851227319099473, 'train_loss': 0.35037511347659994}\n",
      "Epoch 10/20\n"
     ]
    },
    {
     "name": "stderr",
     "output_type": "stream",
     "text": [
      "100%|██████████| 476/476 [04:46<00:00,  1.66it/s]\n"
     ]
    },
    {
     "name": "stdout",
     "output_type": "stream",
     "text": [
      "{'val_loss': 1.6805813048245772, 'val_accuracy': 0.663905325443787, 'precision': 0.6734508068029355, 'recall': 0.663905325443787, 'f1-score': 0.6514802971242961, 'macro_f1-score': 0.3563120096830997, 'balanced_accuracy': 0.3571706751151017, 'mcc': 0.5586412504769556, 'train_loss': 0.3150914187245697}\n",
      "Epoch 11/20\n"
     ]
    },
    {
     "name": "stderr",
     "output_type": "stream",
     "text": [
      "100%|██████████| 476/476 [04:47<00:00,  1.66it/s]\n"
     ]
    },
    {
     "name": "stdout",
     "output_type": "stream",
     "text": [
      "{'val_loss': 1.6536069761188525, 'val_accuracy': 0.6899408284023668, 'precision': 0.6913194688731186, 'recall': 0.6899408284023668, 'f1-score': 0.6710815722080019, 'macro_f1-score': 0.3899626471614885, 'balanced_accuracy': 0.3915864315705577, 'mcc': 0.5865590853478554, 'train_loss': 0.29315542558329416}\n",
      "Epoch 12/20\n"
     ]
    },
    {
     "name": "stderr",
     "output_type": "stream",
     "text": [
      "100%|██████████| 476/476 [04:47<00:00,  1.66it/s]\n"
     ]
    },
    {
     "name": "stdout",
     "output_type": "stream",
     "text": [
      "{'val_loss': 1.6697360035383477, 'val_accuracy': 0.6816568047337278, 'precision': 0.6744650916683911, 'recall': 0.6816568047337278, 'f1-score': 0.6631175863751576, 'macro_f1-score': 0.3821637389038486, 'balanced_accuracy': 0.37399009644242626, 'mcc': 0.5752552949206042, 'train_loss': 0.27977349004706276}\n",
      "Epoch 13/20\n"
     ]
    },
    {
     "name": "stderr",
     "output_type": "stream",
     "text": [
      "100%|██████████| 476/476 [04:46<00:00,  1.66it/s]\n"
     ]
    },
    {
     "name": "stdout",
     "output_type": "stream",
     "text": [
      "{'val_loss': 1.7030619748358458, 'val_accuracy': 0.6840236686390533, 'precision': 0.6893744329781881, 'recall': 0.6840236686390533, 'f1-score': 0.671453310657828, 'macro_f1-score': 0.3859024994590191, 'balanced_accuracy': 0.3841680128787604, 'mcc': 0.581627392035512, 'train_loss': 0.28019767535650836}\n",
      "Epoch 14/20\n"
     ]
    },
    {
     "name": "stderr",
     "output_type": "stream",
     "text": [
      "100%|██████████| 476/476 [04:46<00:00,  1.66it/s]\n"
     ]
    },
    {
     "name": "stdout",
     "output_type": "stream",
     "text": [
      "{'val_loss': 1.8261252666981715, 'val_accuracy': 0.685207100591716, 'precision': 0.686164331805114, 'recall': 0.685207100591716, 'f1-score': 0.6688677819352075, 'macro_f1-score': 0.3776366491256153, 'balanced_accuracy': 0.3847590492691594, 'mcc': 0.5830007934912328, 'train_loss': 0.24713047718978487}\n",
      "Early stopping.\n",
      "\n",
      " === microsoft/deberta-base + cnn + none Final 10-fold Cross-Validation Results ===\n",
      "Total time: 38779.72seconds\n",
      "val_loss: 1.7863\n",
      "val_accuracy: 0.6320\n",
      "precision: 0.5866\n",
      "recall: 0.6320\n",
      "f1-score: 0.5899\n",
      "macro_f1-score: 0.3124\n",
      "balanced_accuracy: 0.3167\n",
      "mcc: 0.4711\n",
      "train_loss: 0.7815\n"
     ]
    }
   ],
   "source": [
    "model_list = [\"microsoft/deberta-base\"]\n",
    "hybrid_list = [\"cnn\"]\n",
    "resample_list = [\"none\"]\n",
    "\n",
    "for model_name in model_list:\n",
    "    for hybrid_type in hybrid_list:\n",
    "        for resample_method in resample_list:\n",
    "            results = run_kfold_experiment(\n",
    "                X=messages, y=labels, model_name=model_name, hybrid_type=hybrid_type, resample_method=resample_method,\n",
    "                kfold=KFOLD_SPLIT, seed=SEED, epochs=EPOCHS, patience=PATIENCE, max_length=MAX_LENGTH, \n",
    "                batch_size=BATCH_SIZE, lr=LR, weight_decay=WEIGHT_DECAY\n",
    "            )"
   ]
  },
  {
   "cell_type": "code",
   "execution_count": 5,
   "id": "d799ebb4-be3b-4b29-9238-6c2a2f8256ae",
   "metadata": {},
   "outputs": [
    {
     "data": {
      "text/plain": [
       "[{'val_loss': 1.7884062989702765,\n",
       "  'val_accuracy': 0.6595744680851063,\n",
       "  'precision': 0.6907655829028247,\n",
       "  'recall': 0.6595744680851063,\n",
       "  'f1-score': 0.6621420527285622,\n",
       "  'macro_f1-score': 0.42833167279287865,\n",
       "  'balanced_accuracy': 0.4307727424761221,\n",
       "  'mcc': 0.561826151541706,\n",
       "  'train_loss': 0.30037414461389933},\n",
       " {'val_loss': 1.6026572916867599,\n",
       "  'val_accuracy': 0.6643026004728132,\n",
       "  'precision': 0.6781590521112553,\n",
       "  'recall': 0.6643026004728132,\n",
       "  'f1-score': 0.6582978472301735,\n",
       "  'macro_f1-score': 0.4090286738446675,\n",
       "  'balanced_accuracy': 0.4356593057647987,\n",
       "  'mcc': 0.5677372115872401,\n",
       "  'train_loss': 0.30802852540676084},\n",
       " {'val_loss': 1.6119545810627487,\n",
       "  'val_accuracy': 0.640661938534279,\n",
       "  'precision': 0.6123207013206027,\n",
       "  'recall': 0.640661938534279,\n",
       "  'f1-score': 0.6144585870302545,\n",
       "  'macro_f1-score': 0.26431419478744933,\n",
       "  'balanced_accuracy': 0.27812160467615327,\n",
       "  'mcc': 0.5223631585233174,\n",
       "  'train_loss': 0.728332444665437},\n",
       " {'val_loss': 2.331256825968904,\n",
       "  'val_accuracy': 0.5106382978723404,\n",
       "  'precision': 0.27738071581949275,\n",
       "  'recall': 0.5106382978723404,\n",
       "  'f1-score': 0.35875272911859835,\n",
       "  'macro_f1-score': 0.02268996414780606,\n",
       "  'balanced_accuracy': 0.0305558093497792,\n",
       "  'mcc': 0.21507028027929825,\n",
       "  'train_loss': 2.382161343548478},\n",
       " {'val_loss': 1.4888367264900568,\n",
       "  'val_accuracy': 0.6520710059171597,\n",
       "  'precision': 0.6495245824564325,\n",
       "  'recall': 0.6520710059171597,\n",
       "  'f1-score': 0.6317087475823381,\n",
       "  'macro_f1-score': 0.348131004130174,\n",
       "  'balanced_accuracy': 0.33941359462090764,\n",
       "  'mcc': 0.5328684028041213,\n",
       "  'train_loss': 0.5680375726924849},\n",
       " {'val_loss': 1.6100660056438085,\n",
       "  'val_accuracy': 0.6840236686390533,\n",
       "  'precision': 0.6898417635059436,\n",
       "  'recall': 0.6840236686390533,\n",
       "  'f1-score': 0.6730011867299612,\n",
       "  'macro_f1-score': 0.44054498511367357,\n",
       "  'balanced_accuracy': 0.4557888043468988,\n",
       "  'mcc': 0.5821857123656098,\n",
       "  'train_loss': 0.21991145592906802},\n",
       " {'val_loss': 2.537990113474288,\n",
       "  'val_accuracy': 0.46982248520710057,\n",
       "  'precision': 0.22073316760617626,\n",
       "  'recall': 0.46982248520710057,\n",
       "  'f1-score': 0.3003535050357793,\n",
       "  'macro_f1-score': 0.012785829307568436,\n",
       "  'balanced_accuracy': 0.02,\n",
       "  'mcc': 0.0,\n",
       "  'train_loss': 2.4238907841323805},\n",
       " {'val_loss': 1.6171502454100914,\n",
       "  'val_accuracy': 0.6781065088757396,\n",
       "  'precision': 0.6719967259716791,\n",
       "  'recall': 0.6781065088757396,\n",
       "  'f1-score': 0.6612553820162693,\n",
       "  'macro_f1-score': 0.39717325650101193,\n",
       "  'balanced_accuracy': 0.37825739838899197,\n",
       "  'mcc': 0.5714186173062514,\n",
       "  'train_loss': 0.2978071480678363},\n",
       " {'val_loss': 1.620853474679983,\n",
       "  'val_accuracy': 0.6710059171597633,\n",
       "  'precision': 0.6836234572359509,\n",
       "  'recall': 0.6710059171597633,\n",
       "  'f1-score': 0.6677675141923949,\n",
       "  'macro_f1-score': 0.4114129343946345,\n",
       "  'balanced_accuracy': 0.40700812838298056,\n",
       "  'mcc': 0.5709645996798577,\n",
       "  'train_loss': 0.2928638402607386},\n",
       " {'val_loss': 1.6536069761188525,\n",
       "  'val_accuracy': 0.6899408284023668,\n",
       "  'precision': 0.6913194688731186,\n",
       "  'recall': 0.6899408284023668,\n",
       "  'f1-score': 0.6710815722080019,\n",
       "  'macro_f1-score': 0.3899626471614885,\n",
       "  'balanced_accuracy': 0.3915864315705577,\n",
       "  'mcc': 0.5865590853478554,\n",
       "  'train_loss': 0.29315542558329416}]"
      ]
     },
     "execution_count": 5,
     "metadata": {},
     "output_type": "execute_result"
    }
   ],
   "source": [
    "results"
   ]
  }
 ],
 "metadata": {
  "kernelspec": {
   "display_name": "Python 3 (ipykernel)",
   "language": "python",
   "name": "python3"
  },
  "language_info": {
   "codemirror_mode": {
    "name": "ipython",
    "version": 3
   },
   "file_extension": ".py",
   "mimetype": "text/x-python",
   "name": "python",
   "nbconvert_exporter": "python",
   "pygments_lexer": "ipython3",
   "version": "3.11.9"
  }
 },
 "nbformat": 4,
 "nbformat_minor": 5
}
