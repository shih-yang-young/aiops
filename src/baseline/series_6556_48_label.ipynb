{
 "cells": [
  {
   "cell_type": "code",
   "execution_count": 2,
   "id": "f22f4841-9a9d-4a63-b896-560594d666d8",
   "metadata": {},
   "outputs": [
    {
     "data": {
      "text/html": [
       "<div>\n",
       "<style scoped>\n",
       "    .dataframe tbody tr th:only-of-type {\n",
       "        vertical-align: middle;\n",
       "    }\n",
       "\n",
       "    .dataframe tbody tr th {\n",
       "        vertical-align: top;\n",
       "    }\n",
       "\n",
       "    .dataframe thead th {\n",
       "        text-align: right;\n",
       "    }\n",
       "</style>\n",
       "<table border=\"1\" class=\"dataframe\">\n",
       "  <thead>\n",
       "    <tr style=\"text-align: right;\">\n",
       "      <th></th>\n",
       "      <th>Inbound Message</th>\n",
       "      <th>Label</th>\n",
       "    </tr>\n",
       "  </thead>\n",
       "  <tbody>\n",
       "    <tr>\n",
       "      <th>0</th>\n",
       "      <td>login issue verified user details employee man...</td>\n",
       "      <td>0</td>\n",
       "    </tr>\n",
       "    <tr>\n",
       "      <th>1</th>\n",
       "      <td>outlook hello team meetings skype meetings etc...</td>\n",
       "      <td>0</td>\n",
       "    </tr>\n",
       "    <tr>\n",
       "      <th>2</th>\n",
       "      <td>cant log vpn cannot log vpn best</td>\n",
       "      <td>0</td>\n",
       "    </tr>\n",
       "    <tr>\n",
       "      <th>3</th>\n",
       "      <td>unable access tool page unable access tool page</td>\n",
       "      <td>0</td>\n",
       "    </tr>\n",
       "    <tr>\n",
       "      <th>4</th>\n",
       "      <td>skype error skype error</td>\n",
       "      <td>0</td>\n",
       "    </tr>\n",
       "    <tr>\n",
       "      <th>...</th>\n",
       "      <td>...</td>\n",
       "      <td>...</td>\n",
       "    </tr>\n",
       "    <tr>\n",
       "      <th>6551</th>\n",
       "      <td>emails coming mail good afternoon receiving em...</td>\n",
       "      <td>22</td>\n",
       "    </tr>\n",
       "    <tr>\n",
       "      <th>6552</th>\n",
       "      <td>telephony software issue telephony software issue</td>\n",
       "      <td>0</td>\n",
       "    </tr>\n",
       "    <tr>\n",
       "      <th>6553</th>\n",
       "      <td>vip windows password reset tifpdchb pedxruyf v...</td>\n",
       "      <td>0</td>\n",
       "    </tr>\n",
       "    <tr>\n",
       "      <th>6554</th>\n",
       "      <td>machine est funcionando unable access machine ...</td>\n",
       "      <td>42</td>\n",
       "    </tr>\n",
       "    <tr>\n",
       "      <th>6555</th>\n",
       "      <td>mehreren lassen sich verschiedene prgramdntyme...</td>\n",
       "      <td>47</td>\n",
       "    </tr>\n",
       "  </tbody>\n",
       "</table>\n",
       "<p>6556 rows × 2 columns</p>\n",
       "</div>"
      ],
      "text/plain": [
       "                                        Inbound Message  Label\n",
       "0     login issue verified user details employee man...      0\n",
       "1     outlook hello team meetings skype meetings etc...      0\n",
       "2                      cant log vpn cannot log vpn best      0\n",
       "3       unable access tool page unable access tool page      0\n",
       "4                               skype error skype error      0\n",
       "...                                                 ...    ...\n",
       "6551  emails coming mail good afternoon receiving em...     22\n",
       "6552  telephony software issue telephony software issue      0\n",
       "6553  vip windows password reset tifpdchb pedxruyf v...      0\n",
       "6554  machine est funcionando unable access machine ...     42\n",
       "6555  mehreren lassen sich verschiedene prgramdntyme...     47\n",
       "\n",
       "[6556 rows x 2 columns]"
      ]
     },
     "execution_count": 2,
     "metadata": {},
     "output_type": "execute_result"
    }
   ],
   "source": [
    "import pandas as pd\n",
    "data_path = \"../../data/6556_48_label.csv\"\n",
    "df = pd.read_csv(data_path)\n",
    "# df_label_0 = df[df[\"Label\"] == 0]\n",
    "# df_label_0_to_drop = df_label_0.sample(n=3000, random_state=42)\n",
    "# df = df.drop(df_label_0_to_drop.index)\n",
    "df"
   ]
  },
  {
   "cell_type": "code",
   "execution_count": 3,
   "id": "bf737873-4f1c-4588-913d-8f06b2777b20",
   "metadata": {},
   "outputs": [
    {
     "name": "stderr",
     "output_type": "stream",
     "text": [
      "c:\\Users\\user\\AppData\\Local\\Programs\\Python\\Python310\\lib\\site-packages\\tqdm\\auto.py:21: TqdmWarning: IProgress not found. Please update jupyter and ipywidgets. See https://ipywidgets.readthedocs.io/en/stable/user_install.html\n",
      "  from .autonotebook import tqdm as notebook_tqdm\n"
     ]
    }
   ],
   "source": [
    "import sys\n",
    "import os\n",
    "sys.path.append(os.path.abspath('../ml_lib'))\n",
    "\n",
    "from config import *\n",
    "from experiment import run_kfold_experiment"
   ]
  },
  {
   "cell_type": "code",
   "execution_count": 4,
   "id": "a12b2613-aa9d-41c0-8f62-72210eaf8d7f",
   "metadata": {},
   "outputs": [],
   "source": [
    "messages, labels = df['Inbound Message'].tolist(), df['Label'].tolist()"
   ]
  },
  {
   "cell_type": "code",
   "execution_count": 5,
   "id": "38d4729f-f867-4cea-89f9-31f67e5ecced",
   "metadata": {},
   "outputs": [
    {
     "name": "stdout",
     "output_type": "stream",
     "text": [
      "▶ Running: bert-base-uncased + plain + none\n",
      "tokenizer is bert-base-uncased\n",
      "Using device: cuda\n",
      "CUDA Available: True\n",
      "CUDA Device: NVIDIA GeForce RTX 5070 Ti\n",
      "Current GPU Memory Allocated: 0.00 GB\n",
      "Current GPU Memory Cached: 0.00 GB\n",
      "\n",
      "[Fold 1]\n",
      "Label distribution after resampling:\n",
      "  label 0: 2471\n",
      "  label 1: 21\n",
      "  label 2: 64\n",
      "  label 3: 24\n",
      "  label 4: 191\n",
      "  label 5: 113\n",
      "  label 6: 93\n",
      "  label 7: 30\n",
      "  label 8: 68\n",
      "  label 9: 30\n",
      "  label 10: 67\n",
      "  label 11: 169\n",
      "  label 12: 189\n",
      "  label 13: 29\n",
      "  label 14: 22\n",
      "  label 15: 25\n",
      "  label 16: 19\n",
      "  label 17: 183\n",
      "  label 18: 92\n",
      "  label 19: 44\n",
      "  label 20: 13\n",
      "  label 21: 35\n",
      "  label 22: 76\n",
      "  label 23: 158\n",
      "  label 24: 13\n",
      "  label 25: 44\n",
      "  label 26: 84\n",
      "  label 27: 48\n",
      "  label 28: 11\n",
      "  label 29: 13\n",
      "  label 30: 11\n",
      "  label 31: 75\n",
      "  label 32: 36\n",
      "  label 33: 32\n",
      "  label 34: 29\n",
      "  label 35: 11\n",
      "  label 36: 22\n",
      "  label 37: 16\n",
      "  label 38: 33\n",
      "  label 39: 10\n",
      "  label 40: 9\n",
      "  label 41: 57\n",
      "  label 42: 19\n",
      "  label 43: 8\n",
      "  label 44: 54\n",
      "  label 45: 242\n",
      "  label 46: 61\n",
      "  label 47: 80\n",
      "model is bert-base-uncased\n"
     ]
    },
    {
     "name": "stderr",
     "output_type": "stream",
     "text": [
      "Some weights of BertForSequenceClassification were not initialized from the model checkpoint at bert-base-uncased and are newly initialized: ['classifier.bias', 'classifier.weight']\n",
      "You should probably TRAIN this model on a down-stream task to be able to use it for predictions and inference.\n"
     ]
    },
    {
     "name": "stdout",
     "output_type": "stream",
     "text": [
      "Epoch 1/20\n"
     ]
    },
    {
     "name": "stderr",
     "output_type": "stream",
     "text": [
      "100%|██████████| 328/328 [00:27<00:00, 11.81it/s]\n"
     ]
    },
    {
     "name": "stdout",
     "output_type": "stream",
     "text": [
      "{'val_loss': 1.8170239245746194, 'val_accuracy': 0.5670731707317073, 'precision': 0.4409228747368857, 'recall': 0.5670731707317073, 'f1-score': 0.464727790222568, 'macro_f1-score': 0.08031533119226254, 'balanced_accuracy': 0.09773455844813046, 'mcc': 0.3758841106117048, 'train_loss': 2.195184690378061}\n",
      "Epoch 2/20\n"
     ]
    },
    {
     "name": "stderr",
     "output_type": "stream",
     "text": [
      "100%|██████████| 328/328 [00:27<00:00, 11.89it/s]\n"
     ]
    },
    {
     "name": "stdout",
     "output_type": "stream",
     "text": [
      "{'val_loss': 1.558589640187054, 'val_accuracy': 0.6120426829268293, 'precision': 0.512866767880639, 'recall': 0.6120426829268293, 'f1-score': 0.5342515346380738, 'macro_f1-score': 0.15659537358840148, 'balanced_accuracy': 0.16078825896066054, 'mcc': 0.44689229638884026, 'train_loss': 1.577693925034709}\n",
      "Epoch 3/20\n"
     ]
    },
    {
     "name": "stderr",
     "output_type": "stream",
     "text": [
      "100%|██████████| 328/328 [00:27<00:00, 11.89it/s]\n"
     ]
    },
    {
     "name": "stdout",
     "output_type": "stream",
     "text": [
      "{'val_loss': 1.5110547044655172, 'val_accuracy': 0.631859756097561, 'precision': 0.5505750197533937, 'recall': 0.631859756097561, 'f1-score': 0.5754961658165557, 'macro_f1-score': 0.22232871829668585, 'balanced_accuracy': 0.21807046813455688, 'mcc': 0.4848158823083398, 'train_loss': 1.1701419567007845}\n",
      "Epoch 4/20\n"
     ]
    },
    {
     "name": "stderr",
     "output_type": "stream",
     "text": [
      "100%|██████████| 328/328 [00:27<00:00, 11.87it/s]\n"
     ]
    },
    {
     "name": "stdout",
     "output_type": "stream",
     "text": [
      "{'val_loss': 1.4922486899829492, 'val_accuracy': 0.6371951219512195, 'precision': 0.5883914355115412, 'recall': 0.6371951219512195, 'f1-score': 0.6036575552755868, 'macro_f1-score': 0.2667703277634699, 'balanced_accuracy': 0.2672145715091495, 'mcc': 0.5112406412179111, 'train_loss': 0.8369159650330137}\n",
      "Epoch 5/20\n"
     ]
    },
    {
     "name": "stderr",
     "output_type": "stream",
     "text": [
      "100%|██████████| 328/328 [00:27<00:00, 11.86it/s]\n"
     ]
    },
    {
     "name": "stdout",
     "output_type": "stream",
     "text": [
      "{'val_loss': 1.646193365134844, 'val_accuracy': 0.6234756097560976, 'precision': 0.6244765798549203, 'recall': 0.6234756097560976, 'f1-score': 0.6088402978996517, 'macro_f1-score': 0.3091360359707917, 'balanced_accuracy': 0.30003791334793833, 'mcc': 0.49941945447947894, 'train_loss': 0.5784814457590806}\n",
      "Epoch 6/20\n"
     ]
    },
    {
     "name": "stderr",
     "output_type": "stream",
     "text": [
      "100%|██████████| 328/328 [00:27<00:00, 11.86it/s]\n"
     ]
    },
    {
     "name": "stdout",
     "output_type": "stream",
     "text": [
      "{'val_loss': 1.8177628146439064, 'val_accuracy': 0.635670731707317, 'precision': 0.6124835651016644, 'recall': 0.635670731707317, 'f1-score': 0.6098393281380191, 'macro_f1-score': 0.33976793667987026, 'balanced_accuracy': 0.31275713896703766, 'mcc': 0.49877831603891576, 'train_loss': 0.3894822026330342}\n",
      "Epoch 7/20\n"
     ]
    },
    {
     "name": "stderr",
     "output_type": "stream",
     "text": [
      "100%|██████████| 328/328 [00:27<00:00, 11.86it/s]\n"
     ]
    },
    {
     "name": "stdout",
     "output_type": "stream",
     "text": [
      "{'val_loss': 1.8022295056683262, 'val_accuracy': 0.6486280487804879, 'precision': 0.6219463880376986, 'recall': 0.6486280487804879, 'f1-score': 0.6229417559053532, 'macro_f1-score': 0.35607156114632527, 'balanced_accuracy': 0.34921008979146856, 'mcc': 0.5201399362909563, 'train_loss': 0.2869027357934633}\n",
      "Epoch 8/20\n"
     ]
    },
    {
     "name": "stderr",
     "output_type": "stream",
     "text": [
      "100%|██████████| 328/328 [00:27<00:00, 11.85it/s]\n"
     ]
    },
    {
     "name": "stdout",
     "output_type": "stream",
     "text": [
      "{'val_loss': 1.8365027830004692, 'val_accuracy': 0.6646341463414634, 'precision': 0.6489620238428121, 'recall': 0.6646341463414634, 'f1-score': 0.6463817083312672, 'macro_f1-score': 0.39820981856372883, 'balanced_accuracy': 0.3733442591630758, 'mcc': 0.5450088661494913, 'train_loss': 0.21430364987108766}\n",
      "Epoch 9/20\n"
     ]
    },
    {
     "name": "stderr",
     "output_type": "stream",
     "text": [
      "100%|██████████| 328/328 [00:27<00:00, 11.86it/s]\n"
     ]
    },
    {
     "name": "stdout",
     "output_type": "stream",
     "text": [
      "{'val_loss': 1.9396038407959588, 'val_accuracy': 0.6463414634146342, 'precision': 0.6311099371548416, 'recall': 0.6463414634146342, 'f1-score': 0.6284246647492809, 'macro_f1-score': 0.39387157615103635, 'balanced_accuracy': 0.37665192310764956, 'mcc': 0.5188387028018114, 'train_loss': 0.1439586435657608}\n",
      "Epoch 10/20\n"
     ]
    },
    {
     "name": "stderr",
     "output_type": "stream",
     "text": [
      "100%|██████████| 328/328 [00:27<00:00, 11.83it/s]\n"
     ]
    },
    {
     "name": "stdout",
     "output_type": "stream",
     "text": [
      "{'val_loss': 1.9699634640682033, 'val_accuracy': 0.6577743902439024, 'precision': 0.640742832169748, 'recall': 0.6577743902439024, 'f1-score': 0.6331894558589111, 'macro_f1-score': 0.3812124974452445, 'balanced_accuracy': 0.3601723635908655, 'mcc': 0.5348589702803096, 'train_loss': 0.12872421263898837}\n",
      "Epoch 11/20\n"
     ]
    },
    {
     "name": "stderr",
     "output_type": "stream",
     "text": [
      "100%|██████████| 328/328 [00:27<00:00, 11.83it/s]\n"
     ]
    },
    {
     "name": "stdout",
     "output_type": "stream",
     "text": [
      "{'val_loss': 1.9707594661087524, 'val_accuracy': 0.6410060975609756, 'precision': 0.6489654112810306, 'recall': 0.6410060975609756, 'f1-score': 0.6371900757774899, 'macro_f1-score': 0.4111180034175024, 'balanced_accuracy': 0.4230512306420721, 'mcc': 0.5307359564881016, 'train_loss': 0.14533837488000623}\n",
      "Epoch 12/20\n"
     ]
    },
    {
     "name": "stderr",
     "output_type": "stream",
     "text": [
      "100%|██████████| 328/328 [00:27<00:00, 11.83it/s]\n"
     ]
    },
    {
     "name": "stdout",
     "output_type": "stream",
     "text": [
      "{'val_loss': 2.0676000797893943, 'val_accuracy': 0.6554878048780488, 'precision': 0.6403109444525589, 'recall': 0.6554878048780488, 'f1-score': 0.6409611447086688, 'macro_f1-score': 0.41369451259746787, 'balanced_accuracy': 0.40219253242565484, 'mcc': 0.5362801416648314, 'train_loss': 0.09484189347415117}\n",
      "Epoch 13/20\n"
     ]
    },
    {
     "name": "stderr",
     "output_type": "stream",
     "text": [
      "100%|██████████| 328/328 [00:27<00:00, 11.84it/s]\n"
     ]
    },
    {
     "name": "stdout",
     "output_type": "stream",
     "text": [
      "{'val_loss': 2.143797581515661, 'val_accuracy': 0.6410060975609756, 'precision': 0.6469586461683414, 'recall': 0.6410060975609756, 'f1-score': 0.6361052187662141, 'macro_f1-score': 0.4140148610885954, 'balanced_accuracy': 0.4130209117071635, 'mcc': 0.5236137857718329, 'train_loss': 0.08059424261218959}\n",
      "Epoch 14/20\n"
     ]
    },
    {
     "name": "stderr",
     "output_type": "stream",
     "text": [
      "100%|██████████| 328/328 [00:27<00:00, 11.82it/s]\n"
     ]
    },
    {
     "name": "stdout",
     "output_type": "stream",
     "text": [
      "{'val_loss': 2.1726908500238165, 'val_accuracy': 0.6432926829268293, 'precision': 0.650192676265158, 'recall': 0.6432926829268293, 'f1-score': 0.6335666077088142, 'macro_f1-score': 0.39482033057170396, 'balanced_accuracy': 0.3920037776232778, 'mcc': 0.5249885648489171, 'train_loss': 0.0666774021179086}\n",
      "Epoch 15/20\n"
     ]
    },
    {
     "name": "stderr",
     "output_type": "stream",
     "text": [
      "100%|██████████| 328/328 [00:27<00:00, 11.84it/s]\n"
     ]
    },
    {
     "name": "stdout",
     "output_type": "stream",
     "text": [
      "{'val_loss': 2.295220202789074, 'val_accuracy': 0.65625, 'precision': 0.6390397513930685, 'recall': 0.65625, 'f1-score': 0.6332743271573211, 'macro_f1-score': 0.3892412680807828, 'balanced_accuracy': 0.37466090700641236, 'mcc': 0.5326482643163423, 'train_loss': 0.054689836117620697}\n",
      "Epoch 16/20\n"
     ]
    },
    {
     "name": "stderr",
     "output_type": "stream",
     "text": [
      "100%|██████████| 328/328 [00:27<00:00, 11.84it/s]\n"
     ]
    },
    {
     "name": "stdout",
     "output_type": "stream",
     "text": [
      "{'val_loss': 2.4005071280933006, 'val_accuracy': 0.5960365853658537, 'precision': 0.6609472122767028, 'recall': 0.5960365853658537, 'f1-score': 0.6112961009784809, 'macro_f1-score': 0.38100761578649966, 'balanced_accuracy': 0.4022406910546203, 'mcc': 0.5040415236090612, 'train_loss': 0.07307761584312042}\n",
      "Early stopping.\n",
      "\n",
      "[Fold 2]\n",
      "Label distribution after resampling:\n",
      "  label 0: 2471\n",
      "  label 1: 22\n",
      "  label 2: 64\n",
      "  label 3: 24\n",
      "  label 4: 190\n",
      "  label 5: 113\n",
      "  label 6: 93\n",
      "  label 7: 30\n",
      "  label 8: 68\n",
      "  label 9: 30\n",
      "  label 10: 67\n",
      "  label 11: 169\n",
      "  label 12: 189\n",
      "  label 13: 29\n",
      "  label 14: 23\n",
      "  label 15: 24\n",
      "  label 16: 20\n",
      "  label 17: 182\n",
      "  label 18: 92\n",
      "  label 19: 44\n",
      "  label 20: 13\n",
      "  label 21: 36\n",
      "  label 22: 76\n",
      "  label 23: 157\n",
      "  label 24: 12\n",
      "  label 25: 44\n",
      "  label 26: 84\n",
      "  label 27: 48\n",
      "  label 28: 12\n",
      "  label 29: 12\n",
      "  label 30: 12\n",
      "  label 31: 75\n",
      "  label 32: 36\n",
      "  label 33: 31\n",
      "  label 34: 29\n",
      "  label 35: 12\n",
      "  label 36: 21\n",
      "  label 37: 16\n",
      "  label 38: 33\n",
      "  label 39: 11\n",
      "  label 40: 8\n",
      "  label 41: 57\n",
      "  label 42: 19\n",
      "  label 43: 9\n",
      "  label 44: 54\n",
      "  label 45: 242\n",
      "  label 46: 62\n",
      "  label 47: 80\n",
      "model is bert-base-uncased\n"
     ]
    },
    {
     "name": "stderr",
     "output_type": "stream",
     "text": [
      "Some weights of BertForSequenceClassification were not initialized from the model checkpoint at bert-base-uncased and are newly initialized: ['classifier.bias', 'classifier.weight']\n",
      "You should probably TRAIN this model on a down-stream task to be able to use it for predictions and inference.\n"
     ]
    },
    {
     "name": "stdout",
     "output_type": "stream",
     "text": [
      "Epoch 1/20\n"
     ]
    },
    {
     "name": "stderr",
     "output_type": "stream",
     "text": [
      "100%|██████████| 328/328 [00:27<00:00, 11.84it/s]\n"
     ]
    },
    {
     "name": "stdout",
     "output_type": "stream",
     "text": [
      "{'val_loss': 1.8459567165956265, 'val_accuracy': 0.5789473684210527, 'precision': 0.4029037556526773, 'recall': 0.5789473684210527, 'f1-score': 0.46459345605979535, 'macro_f1-score': 0.0688815810646926, 'balanced_accuracy': 0.09416350810234042, 'mcc': 0.39449495197114987, 'train_loss': 2.290420798448528}\n",
      "Epoch 2/20\n"
     ]
    },
    {
     "name": "stderr",
     "output_type": "stream",
     "text": [
      "100%|██████████| 328/328 [00:27<00:00, 11.86it/s]\n"
     ]
    },
    {
     "name": "stdout",
     "output_type": "stream",
     "text": [
      "{'val_loss': 1.547562235012287, 'val_accuracy': 0.5949656750572082, 'precision': 0.4712535107375296, 'recall': 0.5949656750572082, 'f1-score': 0.5047123680175748, 'macro_f1-score': 0.13995454256457632, 'balanced_accuracy': 0.16171434284641928, 'mcc': 0.4219817381039375, 'train_loss': 1.6733040246294766}\n",
      "Epoch 3/20\n"
     ]
    },
    {
     "name": "stderr",
     "output_type": "stream",
     "text": [
      "100%|██████████| 328/328 [00:27<00:00, 11.85it/s]\n"
     ]
    },
    {
     "name": "stdout",
     "output_type": "stream",
     "text": [
      "{'val_loss': 1.4480536521934881, 'val_accuracy': 0.6193745232646835, 'precision': 0.5522773403390919, 'recall': 0.6193745232646835, 'f1-score': 0.5659655247158438, 'macro_f1-score': 0.2219534858302847, 'balanced_accuracy': 0.22834427338968286, 'mcc': 0.473425022250703, 'train_loss': 1.2601635793178547}\n",
      "Epoch 4/20\n"
     ]
    },
    {
     "name": "stderr",
     "output_type": "stream",
     "text": [
      "100%|██████████| 328/328 [00:27<00:00, 11.84it/s]\n"
     ]
    },
    {
     "name": "stdout",
     "output_type": "stream",
     "text": [
      "{'val_loss': 1.405048948235628, 'val_accuracy': 0.6475972540045767, 'precision': 0.6129267650238056, 'recall': 0.6475972540045767, 'f1-score': 0.6170489155464772, 'macro_f1-score': 0.29222066709126, 'balanced_accuracy': 0.3079701821296778, 'mcc': 0.5296101395239644, 'train_loss': 0.9234691131405715}\n",
      "Epoch 5/20\n"
     ]
    },
    {
     "name": "stderr",
     "output_type": "stream",
     "text": [
      "100%|██████████| 328/328 [00:27<00:00, 11.85it/s]\n"
     ]
    },
    {
     "name": "stdout",
     "output_type": "stream",
     "text": [
      "{'val_loss': 1.6034425722389687, 'val_accuracy': 0.6163234172387491, 'precision': 0.6333633546333911, 'recall': 0.6163234172387491, 'f1-score': 0.6116009481535897, 'macro_f1-score': 0.3086996419539994, 'balanced_accuracy': 0.32873052835842775, 'mcc': 0.5131196035438125, 'train_loss': 0.6304966211546121}\n",
      "Epoch 6/20\n"
     ]
    },
    {
     "name": "stderr",
     "output_type": "stream",
     "text": [
      "100%|██████████| 328/328 [00:27<00:00, 11.84it/s]\n"
     ]
    },
    {
     "name": "stdout",
     "output_type": "stream",
     "text": [
      "{'val_loss': 1.519802229433525, 'val_accuracy': 0.6613272311212814, 'precision': 0.6444846287169389, 'recall': 0.6613272311212814, 'f1-score': 0.6465741164118802, 'macro_f1-score': 0.3818664362896243, 'balanced_accuracy': 0.37697188458030967, 'mcc': 0.554892351092105, 'train_loss': 0.44578020564257737}\n",
      "Epoch 7/20\n"
     ]
    },
    {
     "name": "stderr",
     "output_type": "stream",
     "text": [
      "100%|██████████| 328/328 [00:27<00:00, 11.84it/s]\n"
     ]
    },
    {
     "name": "stdout",
     "output_type": "stream",
     "text": [
      "{'val_loss': 1.6399672790998365, 'val_accuracy': 0.6681922196796338, 'precision': 0.6467733801315408, 'recall': 0.6681922196796338, 'f1-score': 0.6457090075824203, 'macro_f1-score': 0.3637094859263563, 'balanced_accuracy': 0.3648155902847056, 'mcc': 0.5538022389022901, 'train_loss': 0.3084070265645207}\n",
      "Epoch 8/20\n"
     ]
    },
    {
     "name": "stderr",
     "output_type": "stream",
     "text": [
      "100%|██████████| 328/328 [00:27<00:00, 11.83it/s]\n"
     ]
    },
    {
     "name": "stdout",
     "output_type": "stream",
     "text": [
      "{'val_loss': 1.724984949681817, 'val_accuracy': 0.6536994660564455, 'precision': 0.6428186911596427, 'recall': 0.6536994660564455, 'f1-score': 0.6365115496832848, 'macro_f1-score': 0.3518514632080348, 'balanced_accuracy': 0.3585859393449217, 'mcc': 0.5391651304532132, 'train_loss': 0.22391166661229983}\n",
      "Epoch 9/20\n"
     ]
    },
    {
     "name": "stderr",
     "output_type": "stream",
     "text": [
      "100%|██████████| 328/328 [00:27<00:00, 11.84it/s]\n"
     ]
    },
    {
     "name": "stdout",
     "output_type": "stream",
     "text": [
      "{'val_loss': 1.7334137900573452, 'val_accuracy': 0.6521739130434783, 'precision': 0.6576722954964574, 'recall': 0.6521739130434783, 'f1-score': 0.6475485720728158, 'macro_f1-score': 0.37479197752144283, 'balanced_accuracy': 0.382833218171261, 'mcc': 0.5445467522349107, 'train_loss': 0.17911261677026477}\n",
      "Early stopping.\n",
      "\n",
      "[Fold 3]\n",
      "Label distribution after resampling:\n",
      "  label 0: 2471\n",
      "  label 1: 22\n",
      "  label 2: 64\n",
      "  label 3: 24\n",
      "  label 4: 190\n",
      "  label 5: 113\n",
      "  label 6: 93\n",
      "  label 7: 30\n",
      "  label 8: 68\n",
      "  label 9: 30\n",
      "  label 10: 67\n",
      "  label 11: 169\n",
      "  label 12: 190\n",
      "  label 13: 28\n",
      "  label 14: 23\n",
      "  label 15: 25\n",
      "  label 16: 19\n",
      "  label 17: 182\n",
      "  label 18: 92\n",
      "  label 19: 44\n",
      "  label 20: 14\n",
      "  label 21: 35\n",
      "  label 22: 76\n",
      "  label 23: 157\n",
      "  label 24: 13\n",
      "  label 25: 44\n",
      "  label 26: 84\n",
      "  label 27: 48\n",
      "  label 28: 11\n",
      "  label 29: 13\n",
      "  label 30: 11\n",
      "  label 31: 76\n",
      "  label 32: 36\n",
      "  label 33: 31\n",
      "  label 34: 30\n",
      "  label 35: 11\n",
      "  label 36: 21\n",
      "  label 37: 16\n",
      "  label 38: 32\n",
      "  label 39: 11\n",
      "  label 40: 9\n",
      "  label 41: 57\n",
      "  label 42: 18\n",
      "  label 43: 9\n",
      "  label 44: 55\n",
      "  label 45: 241\n",
      "  label 46: 62\n",
      "  label 47: 80\n",
      "model is bert-base-uncased\n"
     ]
    },
    {
     "name": "stderr",
     "output_type": "stream",
     "text": [
      "Some weights of BertForSequenceClassification were not initialized from the model checkpoint at bert-base-uncased and are newly initialized: ['classifier.bias', 'classifier.weight']\n",
      "You should probably TRAIN this model on a down-stream task to be able to use it for predictions and inference.\n"
     ]
    },
    {
     "name": "stdout",
     "output_type": "stream",
     "text": [
      "Epoch 1/20\n"
     ]
    },
    {
     "name": "stderr",
     "output_type": "stream",
     "text": [
      "100%|██████████| 328/328 [00:27<00:00, 11.82it/s]\n"
     ]
    },
    {
     "name": "stdout",
     "output_type": "stream",
     "text": [
      "{'val_loss': 1.8242339233799678, 'val_accuracy': 0.5720823798627003, 'precision': 0.38296336368982586, 'recall': 0.5720823798627003, 'f1-score': 0.44931235845888495, 'macro_f1-score': 0.07153993241646382, 'balanced_accuracy': 0.08923767116773418, 'mcc': 0.3695979177041388, 'train_loss': 2.204085899017206}\n",
      "Epoch 2/20\n"
     ]
    },
    {
     "name": "stderr",
     "output_type": "stream",
     "text": [
      "100%|██████████| 328/328 [00:27<00:00, 11.81it/s]\n"
     ]
    },
    {
     "name": "stdout",
     "output_type": "stream",
     "text": [
      "{'val_loss': 1.5982079542264707, 'val_accuracy': 0.5942028985507246, 'precision': 0.4821097418661157, 'recall': 0.5942028985507246, 'f1-score': 0.5170878497623222, 'macro_f1-score': 0.15918850402761106, 'balanced_accuracy': 0.16347126062811365, 'mcc': 0.42367018814502344, 'train_loss': 1.5500523686045553}\n",
      "Epoch 3/20\n"
     ]
    },
    {
     "name": "stderr",
     "output_type": "stream",
     "text": [
      "100%|██████████| 328/328 [00:27<00:00, 11.84it/s]\n"
     ]
    },
    {
     "name": "stdout",
     "output_type": "stream",
     "text": [
      "{'val_loss': 1.5736385807394981, 'val_accuracy': 0.631578947368421, 'precision': 0.5630582575711095, 'recall': 0.631578947368421, 'f1-score': 0.5810235179142513, 'macro_f1-score': 0.2265401007828196, 'balanced_accuracy': 0.22744420440165194, 'mcc': 0.4879730666789186, 'train_loss': 1.1349974016590816}\n",
      "Epoch 4/20\n"
     ]
    },
    {
     "name": "stderr",
     "output_type": "stream",
     "text": [
      "100%|██████████| 328/328 [00:27<00:00, 11.84it/s]\n"
     ]
    },
    {
     "name": "stdout",
     "output_type": "stream",
     "text": [
      "{'val_loss': 1.5824812756078999, 'val_accuracy': 0.6338672768878718, 'precision': 0.5941441972125859, 'recall': 0.6338672768878718, 'f1-score': 0.6052655162169372, 'macro_f1-score': 0.29019473211636665, 'balanced_accuracy': 0.2918202299087774, 'mcc': 0.5094158433740354, 'train_loss': 0.8024069926724201}\n",
      "Epoch 5/20\n"
     ]
    },
    {
     "name": "stderr",
     "output_type": "stream",
     "text": [
      "100%|██████████| 328/328 [00:27<00:00, 11.83it/s]\n"
     ]
    },
    {
     "name": "stdout",
     "output_type": "stream",
     "text": [
      "{'val_loss': 1.6791990995407104, 'val_accuracy': 0.6285278413424866, 'precision': 0.5953246685967091, 'recall': 0.6285278413424866, 'f1-score': 0.6002129532672439, 'macro_f1-score': 0.3012504003783418, 'balanced_accuracy': 0.29975200250792783, 'mcc': 0.49643312455853006, 'train_loss': 0.5370716020328606}\n",
      "Epoch 6/20\n"
     ]
    },
    {
     "name": "stderr",
     "output_type": "stream",
     "text": [
      "100%|██████████| 328/328 [00:27<00:00, 11.85it/s]\n"
     ]
    },
    {
     "name": "stdout",
     "output_type": "stream",
     "text": [
      "{'val_loss': 1.7698617672047965, 'val_accuracy': 0.6247139588100686, 'precision': 0.6057709990199039, 'recall': 0.6247139588100686, 'f1-score': 0.6085309608195366, 'macro_f1-score': 0.31963105941557707, 'balanced_accuracy': 0.3195121976182259, 'mcc': 0.5023682671433427, 'train_loss': 0.37624212207908675}\n",
      "Epoch 7/20\n"
     ]
    },
    {
     "name": "stderr",
     "output_type": "stream",
     "text": [
      "100%|██████████| 328/328 [00:27<00:00, 11.86it/s]\n"
     ]
    },
    {
     "name": "stdout",
     "output_type": "stream",
     "text": [
      "{'val_loss': 1.7766735037652457, 'val_accuracy': 0.631578947368421, 'precision': 0.6299635231399621, 'recall': 0.631578947368421, 'f1-score': 0.6235983019587439, 'macro_f1-score': 0.36715655187951396, 'balanced_accuracy': 0.36006160839609597, 'mcc': 0.5143115317219124, 'train_loss': 0.2995500909562064}\n",
      "Epoch 8/20\n"
     ]
    },
    {
     "name": "stderr",
     "output_type": "stream",
     "text": [
      "100%|██████████| 328/328 [00:27<00:00, 11.83it/s]\n"
     ]
    },
    {
     "name": "stdout",
     "output_type": "stream",
     "text": [
      "{'val_loss': 1.9073525605405248, 'val_accuracy': 0.6399694889397407, 'precision': 0.6291504781273137, 'recall': 0.6399694889397407, 'f1-score': 0.6236090588034098, 'macro_f1-score': 0.36636149825432646, 'balanced_accuracy': 0.3672479451645542, 'mcc': 0.5218317427516239, 'train_loss': 0.21584427630437947}\n",
      "Epoch 9/20\n"
     ]
    },
    {
     "name": "stderr",
     "output_type": "stream",
     "text": [
      "100%|██████████| 328/328 [00:27<00:00, 11.85it/s]\n"
     ]
    },
    {
     "name": "stdout",
     "output_type": "stream",
     "text": [
      "{'val_loss': 1.98434907779461, 'val_accuracy': 0.6399694889397407, 'precision': 0.6279192108625358, 'recall': 0.6399694889397407, 'f1-score': 0.61717381692295, 'macro_f1-score': 0.3391385341292004, 'balanced_accuracy': 0.32726641650344884, 'mcc': 0.5091218582696033, 'train_loss': 0.15240755635484055}\n",
      "Epoch 10/20\n"
     ]
    },
    {
     "name": "stderr",
     "output_type": "stream",
     "text": [
      "100%|██████████| 328/328 [00:27<00:00, 11.84it/s]\n"
     ]
    },
    {
     "name": "stdout",
     "output_type": "stream",
     "text": [
      "{'val_loss': 1.9513005109094992, 'val_accuracy': 0.623951182303585, 'precision': 0.6157535267532678, 'recall': 0.623951182303585, 'f1-score': 0.6118500311494657, 'macro_f1-score': 0.34689066913316946, 'balanced_accuracy': 0.3389216753694925, 'mcc': 0.4965732965556869, 'train_loss': 0.12186634173494673}\n",
      "Early stopping.\n",
      "\n",
      "[Fold 4]\n",
      "Label distribution after resampling:\n",
      "  label 0: 2471\n",
      "  label 1: 22\n",
      "  label 2: 64\n",
      "  label 3: 24\n",
      "  label 4: 190\n",
      "  label 5: 113\n",
      "  label 6: 93\n",
      "  label 7: 31\n",
      "  label 8: 68\n",
      "  label 9: 29\n",
      "  label 10: 67\n",
      "  label 11: 169\n",
      "  label 12: 190\n",
      "  label 13: 29\n",
      "  label 14: 22\n",
      "  label 15: 25\n",
      "  label 16: 19\n",
      "  label 17: 182\n",
      "  label 18: 92\n",
      "  label 19: 44\n",
      "  label 20: 14\n",
      "  label 21: 35\n",
      "  label 22: 76\n",
      "  label 23: 158\n",
      "  label 24: 13\n",
      "  label 25: 44\n",
      "  label 26: 84\n",
      "  label 27: 48\n",
      "  label 28: 11\n",
      "  label 29: 13\n",
      "  label 30: 11\n",
      "  label 31: 75\n",
      "  label 32: 36\n",
      "  label 33: 31\n",
      "  label 34: 30\n",
      "  label 35: 11\n",
      "  label 36: 22\n",
      "  label 37: 16\n",
      "  label 38: 33\n",
      "  label 39: 10\n",
      "  label 40: 9\n",
      "  label 41: 56\n",
      "  label 42: 18\n",
      "  label 43: 9\n",
      "  label 44: 55\n",
      "  label 45: 241\n",
      "  label 46: 62\n",
      "  label 47: 80\n",
      "model is bert-base-uncased\n"
     ]
    },
    {
     "name": "stderr",
     "output_type": "stream",
     "text": [
      "Some weights of BertForSequenceClassification were not initialized from the model checkpoint at bert-base-uncased and are newly initialized: ['classifier.bias', 'classifier.weight']\n",
      "You should probably TRAIN this model on a down-stream task to be able to use it for predictions and inference.\n"
     ]
    },
    {
     "name": "stdout",
     "output_type": "stream",
     "text": [
      "Epoch 1/20\n"
     ]
    },
    {
     "name": "stderr",
     "output_type": "stream",
     "text": [
      "100%|██████████| 328/328 [00:27<00:00, 11.86it/s]\n"
     ]
    },
    {
     "name": "stdout",
     "output_type": "stream",
     "text": [
      "{'val_loss': 1.8640719670348052, 'val_accuracy': 0.566742944317315, 'precision': 0.41170651787338625, 'recall': 0.566742944317315, 'f1-score': 0.4615204192956837, 'macro_f1-score': 0.0780906428254165, 'balanced_accuracy': 0.0995207832906087, 'mcc': 0.37328764124161473, 'train_loss': 2.224162100110112}\n",
      "Epoch 2/20\n"
     ]
    },
    {
     "name": "stderr",
     "output_type": "stream",
     "text": [
      "100%|██████████| 328/328 [00:27<00:00, 11.85it/s]\n"
     ]
    },
    {
     "name": "stdout",
     "output_type": "stream",
     "text": [
      "{'val_loss': 1.5625470411486742, 'val_accuracy': 0.6033562166285278, 'precision': 0.5209831299430004, 'recall': 0.6033562166285278, 'f1-score': 0.5288214829020249, 'macro_f1-score': 0.15005756498682646, 'balanced_accuracy': 0.15969780390748958, 'mcc': 0.4428355374972583, 'train_loss': 1.6187490083095504}\n",
      "Epoch 3/20\n"
     ]
    },
    {
     "name": "stderr",
     "output_type": "stream",
     "text": [
      "100%|██████████| 328/328 [00:27<00:00, 11.83it/s]\n"
     ]
    },
    {
     "name": "stdout",
     "output_type": "stream",
     "text": [
      "{'val_loss': 1.5194817461618564, 'val_accuracy': 0.6140350877192983, 'precision': 0.5943098365999765, 'recall': 0.6140350877192983, 'f1-score': 0.5817145919003388, 'macro_f1-score': 0.23978227324496285, 'balanced_accuracy': 0.2625463250243781, 'mcc': 0.49586522050384485, 'train_loss': 1.2085391098587979}\n",
      "Epoch 4/20\n"
     ]
    },
    {
     "name": "stderr",
     "output_type": "stream",
     "text": [
      "100%|██████████| 328/328 [00:27<00:00, 11.83it/s]\n"
     ]
    },
    {
     "name": "stdout",
     "output_type": "stream",
     "text": [
      "{'val_loss': 1.4410523038084915, 'val_accuracy': 0.6430205949656751, 'precision': 0.6178130992265906, 'recall': 0.6430205949656751, 'f1-score': 0.616809417269388, 'macro_f1-score': 0.30600274463892024, 'balanced_accuracy': 0.30815505863926235, 'mcc': 0.5207898307788771, 'train_loss': 0.8834049037952976}\n",
      "Epoch 5/20\n"
     ]
    },
    {
     "name": "stderr",
     "output_type": "stream",
     "text": [
      "100%|██████████| 328/328 [00:27<00:00, 11.85it/s]\n"
     ]
    },
    {
     "name": "stdout",
     "output_type": "stream",
     "text": [
      "{'val_loss': 1.5471805981019648, 'val_accuracy': 0.635392829900839, 'precision': 0.6273410213693504, 'recall': 0.635392829900839, 'f1-score': 0.6247741183539168, 'macro_f1-score': 0.3452210887580736, 'balanced_accuracy': 0.3534059875160045, 'mcc': 0.5245737658970793, 'train_loss': 0.6045429475105754}\n",
      "Epoch 6/20\n"
     ]
    },
    {
     "name": "stderr",
     "output_type": "stream",
     "text": [
      "100%|██████████| 328/328 [00:27<00:00, 11.84it/s]\n"
     ]
    },
    {
     "name": "stdout",
     "output_type": "stream",
     "text": [
      "{'val_loss': 1.72689530580509, 'val_accuracy': 0.6071700991609459, 'precision': 0.6366400542066606, 'recall': 0.6071700991609459, 'f1-score': 0.6119450984925685, 'macro_f1-score': 0.35887318465903784, 'balanced_accuracy': 0.3836964119383682, 'mcc': 0.5080555604435444, 'train_loss': 0.38480765400908706}\n",
      "Epoch 7/20\n"
     ]
    },
    {
     "name": "stderr",
     "output_type": "stream",
     "text": [
      "100%|██████████| 328/328 [00:27<00:00, 11.84it/s]\n"
     ]
    },
    {
     "name": "stdout",
     "output_type": "stream",
     "text": [
      "{'val_loss': 1.7620987005350066, 'val_accuracy': 0.6491228070175439, 'precision': 0.6302272412369929, 'recall': 0.6491228070175439, 'f1-score': 0.6315971369527458, 'macro_f1-score': 0.36267184922922996, 'balanced_accuracy': 0.3731176943722052, 'mcc': 0.5325991203978186, 'train_loss': 0.27991570585702613}\n",
      "Epoch 8/20\n"
     ]
    },
    {
     "name": "stderr",
     "output_type": "stream",
     "text": [
      "100%|██████████| 328/328 [00:27<00:00, 11.85it/s]\n"
     ]
    },
    {
     "name": "stdout",
     "output_type": "stream",
     "text": [
      "{'val_loss': 1.7892104572639234, 'val_accuracy': 0.6514111365369947, 'precision': 0.6576818341943361, 'recall': 0.6514111365369947, 'f1-score': 0.6488239008204222, 'macro_f1-score': 0.4071441626305186, 'balanced_accuracy': 0.4348541834885509, 'mcc': 0.5473131692270213, 'train_loss': 0.1979719019103114}\n",
      "Epoch 9/20\n"
     ]
    },
    {
     "name": "stderr",
     "output_type": "stream",
     "text": [
      "100%|██████████| 328/328 [00:27<00:00, 11.85it/s]\n"
     ]
    },
    {
     "name": "stdout",
     "output_type": "stream",
     "text": [
      "{'val_loss': 1.8320664728923541, 'val_accuracy': 0.658276125095347, 'precision': 0.6418108325754994, 'recall': 0.658276125095347, 'f1-score': 0.6429616120965378, 'macro_f1-score': 0.3825988288648247, 'balanced_accuracy': 0.3824005878663635, 'mcc': 0.5438013036432219, 'train_loss': 0.14191163604704254}\n",
      "Epoch 10/20\n"
     ]
    },
    {
     "name": "stderr",
     "output_type": "stream",
     "text": [
      "100%|██████████| 328/328 [00:27<00:00, 11.82it/s]\n"
     ]
    },
    {
     "name": "stdout",
     "output_type": "stream",
     "text": [
      "{'val_loss': 2.0494099322979045, 'val_accuracy': 0.6231884057971014, 'precision': 0.6494283435784567, 'recall': 0.6231884057971014, 'f1-score': 0.6283044796586048, 'macro_f1-score': 0.39694158219891373, 'balanced_accuracy': 0.4127881866327052, 'mcc': 0.5176796985622586, 'train_loss': 0.09887360071439705}\n",
      "Epoch 11/20\n"
     ]
    },
    {
     "name": "stderr",
     "output_type": "stream",
     "text": [
      "100%|██████████| 328/328 [00:27<00:00, 11.84it/s]\n"
     ]
    },
    {
     "name": "stdout",
     "output_type": "stream",
     "text": [
      "{'val_loss': 2.012345011823061, 'val_accuracy': 0.627765064836003, 'precision': 0.6234579634553009, 'recall': 0.627765064836003, 'f1-score': 0.6194320193369456, 'macro_f1-score': 0.3711117998958955, 'balanced_accuracy': 0.3699936836950483, 'mcc': 0.5110744724571978, 'train_loss': 0.09461717010708526}\n",
      "Early stopping.\n",
      "\n",
      "[Fold 5]\n",
      "Label distribution after resampling:\n",
      "  label 0: 2472\n",
      "  label 1: 21\n",
      "  label 2: 64\n",
      "  label 3: 24\n",
      "  label 4: 191\n",
      "  label 5: 112\n",
      "  label 6: 92\n",
      "  label 7: 31\n",
      "  label 8: 68\n",
      "  label 9: 29\n",
      "  label 10: 68\n",
      "  label 11: 168\n",
      "  label 12: 190\n",
      "  label 13: 29\n",
      "  label 14: 22\n",
      "  label 15: 25\n",
      "  label 16: 19\n",
      "  label 17: 183\n",
      "  label 18: 92\n",
      "  label 19: 44\n",
      "  label 20: 14\n",
      "  label 21: 35\n",
      "  label 22: 76\n",
      "  label 23: 158\n",
      "  label 24: 13\n",
      "  label 25: 44\n",
      "  label 26: 84\n",
      "  label 27: 48\n",
      "  label 28: 11\n",
      "  label 29: 13\n",
      "  label 30: 11\n",
      "  label 31: 75\n",
      "  label 32: 36\n",
      "  label 33: 31\n",
      "  label 34: 30\n",
      "  label 35: 11\n",
      "  label 36: 22\n",
      "  label 37: 16\n",
      "  label 38: 33\n",
      "  label 39: 10\n",
      "  label 40: 9\n",
      "  label 41: 57\n",
      "  label 42: 18\n",
      "  label 43: 9\n",
      "  label 44: 54\n",
      "  label 45: 242\n",
      "  label 46: 61\n",
      "  label 47: 80\n",
      "model is bert-base-uncased\n"
     ]
    },
    {
     "name": "stderr",
     "output_type": "stream",
     "text": [
      "Some weights of BertForSequenceClassification were not initialized from the model checkpoint at bert-base-uncased and are newly initialized: ['classifier.bias', 'classifier.weight']\n",
      "You should probably TRAIN this model on a down-stream task to be able to use it for predictions and inference.\n"
     ]
    },
    {
     "name": "stdout",
     "output_type": "stream",
     "text": [
      "Epoch 1/20\n"
     ]
    },
    {
     "name": "stderr",
     "output_type": "stream",
     "text": [
      "100%|██████████| 328/328 [00:27<00:00, 11.81it/s]\n"
     ]
    },
    {
     "name": "stdout",
     "output_type": "stream",
     "text": [
      "{'val_loss': 1.830992060463603, 'val_accuracy': 0.5583524027459954, 'precision': 0.3655993765341402, 'recall': 0.5583524027459954, 'f1-score': 0.43327295977974367, 'macro_f1-score': 0.07103418247549197, 'balanced_accuracy': 0.08662248668228179, 'mcc': 0.3448544412777074, 'train_loss': 2.210635903041537}\n",
      "Epoch 2/20\n"
     ]
    },
    {
     "name": "stderr",
     "output_type": "stream",
     "text": [
      "100%|██████████| 328/328 [00:27<00:00, 11.78it/s]\n"
     ]
    },
    {
     "name": "stdout",
     "output_type": "stream",
     "text": [
      "{'val_loss': 1.5725575525586197, 'val_accuracy': 0.593440122044241, 'precision': 0.48882045167365734, 'recall': 0.593440122044241, 'f1-score': 0.5255043780530191, 'macro_f1-score': 0.13435519100659835, 'balanced_accuracy': 0.16606251853822193, 'mcc': 0.4488851727972061, 'train_loss': 1.6290291635001577}\n",
      "Epoch 3/20\n"
     ]
    },
    {
     "name": "stderr",
     "output_type": "stream",
     "text": [
      "100%|██████████| 328/328 [00:27<00:00, 11.79it/s]\n"
     ]
    },
    {
     "name": "stdout",
     "output_type": "stream",
     "text": [
      "{'val_loss': 1.4637145683532808, 'val_accuracy': 0.6338672768878718, 'precision': 0.567348679541472, 'recall': 0.6338672768878718, 'f1-score': 0.5739348190702248, 'macro_f1-score': 0.20370902439561522, 'balanced_accuracy': 0.20496763946485094, 'mcc': 0.49207383002209165, 'train_loss': 1.2364465828712394}\n",
      "Epoch 4/20\n"
     ]
    },
    {
     "name": "stderr",
     "output_type": "stream",
     "text": [
      "100%|██████████| 328/328 [00:27<00:00, 11.78it/s]\n"
     ]
    },
    {
     "name": "stdout",
     "output_type": "stream",
     "text": [
      "{'val_loss': 1.4359052555590142, 'val_accuracy': 0.6369183829138062, 'precision': 0.6020197206267984, 'recall': 0.6369183829138062, 'f1-score': 0.6086223867603626, 'macro_f1-score': 0.2608263505432837, 'balanced_accuracy': 0.28311972552009035, 'mcc': 0.5214409797039131, 'train_loss': 0.9071445367866899}\n",
      "Epoch 5/20\n"
     ]
    },
    {
     "name": "stderr",
     "output_type": "stream",
     "text": [
      "100%|██████████| 328/328 [00:28<00:00, 11.70it/s]\n"
     ]
    },
    {
     "name": "stdout",
     "output_type": "stream",
     "text": [
      "{'val_loss': 1.495994055779969, 'val_accuracy': 0.6575133485888635, 'precision': 0.6151285727586735, 'recall': 0.6575133485888635, 'f1-score': 0.6235521359500046, 'macro_f1-score': 0.2795710398313644, 'balanced_accuracy': 0.27064573530234814, 'mcc': 0.5330514841906868, 'train_loss': 0.6224787558042785}\n",
      "Epoch 6/20\n"
     ]
    },
    {
     "name": "stderr",
     "output_type": "stream",
     "text": [
      "100%|██████████| 328/328 [00:27<00:00, 11.76it/s]\n"
     ]
    },
    {
     "name": "stdout",
     "output_type": "stream",
     "text": [
      "{'val_loss': 1.5403464585542679, 'val_accuracy': 0.6605644546147978, 'precision': 0.6351908097811071, 'recall': 0.6605644546147978, 'f1-score': 0.6392244324162849, 'macro_f1-score': 0.34873839152785285, 'balanced_accuracy': 0.3431690496462358, 'mcc': 0.5451171946251476, 'train_loss': 0.4340365781766794}\n",
      "Epoch 7/20\n"
     ]
    },
    {
     "name": "stderr",
     "output_type": "stream",
     "text": [
      "100%|██████████| 328/328 [00:27<00:00, 11.82it/s]\n"
     ]
    },
    {
     "name": "stdout",
     "output_type": "stream",
     "text": [
      "{'val_loss': 1.6136730018912293, 'val_accuracy': 0.6475972540045767, 'precision': 0.6447405685403959, 'recall': 0.6475972540045767, 'f1-score': 0.6367855691691194, 'macro_f1-score': 0.36983822341265604, 'balanced_accuracy': 0.36266229146455364, 'mcc': 0.5346709410908286, 'train_loss': 0.3170091301747939}\n",
      "Epoch 8/20\n"
     ]
    },
    {
     "name": "stderr",
     "output_type": "stream",
     "text": [
      "100%|██████████| 328/328 [00:27<00:00, 11.84it/s]\n"
     ]
    },
    {
     "name": "stdout",
     "output_type": "stream",
     "text": [
      "{'val_loss': 1.7309391593060843, 'val_accuracy': 0.6445461479786423, 'precision': 0.6467037478589581, 'recall': 0.6445461479786423, 'f1-score': 0.6371611510090428, 'macro_f1-score': 0.3954556657780235, 'balanced_accuracy': 0.394737469445645, 'mcc': 0.532703298650826, 'train_loss': 0.2406077600118318}\n",
      "Epoch 9/20\n"
     ]
    },
    {
     "name": "stderr",
     "output_type": "stream",
     "text": [
      "100%|██████████| 328/328 [00:27<00:00, 11.81it/s]\n"
     ]
    },
    {
     "name": "stdout",
     "output_type": "stream",
     "text": [
      "{'val_loss': 1.7753137070231322, 'val_accuracy': 0.6559877955758963, 'precision': 0.6497368064297108, 'recall': 0.6559877955758963, 'f1-score': 0.6440206541583098, 'macro_f1-score': 0.4036606184086122, 'balanced_accuracy': 0.3974630722616607, 'mcc': 0.5466189107629144, 'train_loss': 0.15094796289326395}\n",
      "Epoch 10/20\n"
     ]
    },
    {
     "name": "stderr",
     "output_type": "stream",
     "text": [
      "100%|██████████| 328/328 [00:27<00:00, 11.79it/s]\n"
     ]
    },
    {
     "name": "stdout",
     "output_type": "stream",
     "text": [
      "{'val_loss': 1.8119721459906275, 'val_accuracy': 0.6598016781083142, 'precision': 0.654442888565746, 'recall': 0.6598016781083142, 'f1-score': 0.6461782984998502, 'macro_f1-score': 0.4100435860273784, 'balanced_accuracy': 0.38793305468053796, 'mcc': 0.5447091068666038, 'train_loss': 0.12392840290544327}\n",
      "Epoch 11/20\n"
     ]
    },
    {
     "name": "stderr",
     "output_type": "stream",
     "text": [
      "100%|██████████| 328/328 [00:27<00:00, 11.80it/s]\n"
     ]
    },
    {
     "name": "stdout",
     "output_type": "stream",
     "text": [
      "{'val_loss': 1.7979339877279794, 'val_accuracy': 0.6498855835240275, 'precision': 0.6544645469839773, 'recall': 0.6498855835240275, 'f1-score': 0.6424331471908087, 'macro_f1-score': 0.40716335226823713, 'balanced_accuracy': 0.4034544067039518, 'mcc': 0.54325712454847, 'train_loss': 0.10178710290276241}\n",
      "Epoch 12/20\n"
     ]
    },
    {
     "name": "stderr",
     "output_type": "stream",
     "text": [
      "100%|██████████| 328/328 [00:27<00:00, 11.80it/s]\n"
     ]
    },
    {
     "name": "stdout",
     "output_type": "stream",
     "text": [
      "{'val_loss': 2.024323970442865, 'val_accuracy': 0.6689549961861174, 'precision': 0.6431450988127684, 'recall': 0.6689549961861174, 'f1-score': 0.638355229040745, 'macro_f1-score': 0.41046745802746587, 'balanced_accuracy': 0.3808862299785963, 'mcc': 0.5460839568256904, 'train_loss': 0.13158944982427695}\n",
      "Epoch 13/20\n"
     ]
    },
    {
     "name": "stderr",
     "output_type": "stream",
     "text": [
      "100%|██████████| 328/328 [00:27<00:00, 11.81it/s]\n"
     ]
    },
    {
     "name": "stdout",
     "output_type": "stream",
     "text": [
      "{'val_loss': 2.0430612758528897, 'val_accuracy': 0.6475972540045767, 'precision': 0.6312503109502683, 'recall': 0.6475972540045767, 'f1-score': 0.6299203306906519, 'macro_f1-score': 0.387997047700944, 'balanced_accuracy': 0.3767222641644099, 'mcc': 0.5282463924110726, 'train_loss': 0.10246444124836339}\n",
      "Epoch 14/20\n"
     ]
    },
    {
     "name": "stderr",
     "output_type": "stream",
     "text": [
      "100%|██████████| 328/328 [00:27<00:00, 11.80it/s]\n"
     ]
    },
    {
     "name": "stdout",
     "output_type": "stream",
     "text": [
      "{'val_loss': 2.0039188825502627, 'val_accuracy': 0.6460717009916095, 'precision': 0.6421769219985446, 'recall': 0.6460717009916095, 'f1-score': 0.6275403467918883, 'macro_f1-score': 0.3773416431409567, 'balanced_accuracy': 0.3765322302836829, 'mcc': 0.5225244083142181, 'train_loss': 0.08545125531538095}\n",
      "Epoch 15/20\n"
     ]
    },
    {
     "name": "stderr",
     "output_type": "stream",
     "text": [
      "100%|██████████| 328/328 [00:28<00:00, 11.71it/s]\n"
     ]
    },
    {
     "name": "stdout",
     "output_type": "stream",
     "text": [
      "{'val_loss': 2.1049891157848077, 'val_accuracy': 0.6445461479786423, 'precision': 0.6579879427392776, 'recall': 0.6445461479786423, 'f1-score': 0.6450644352553915, 'macro_f1-score': 0.42019812480139446, 'balanced_accuracy': 0.4382574544165479, 'mcc': 0.5422173718262873, 'train_loss': 0.059186368729924874}\n",
      "Epoch 16/20\n"
     ]
    },
    {
     "name": "stderr",
     "output_type": "stream",
     "text": [
      "100%|██████████| 328/328 [00:27<00:00, 11.74it/s]\n"
     ]
    },
    {
     "name": "stdout",
     "output_type": "stream",
     "text": [
      "{'val_loss': 2.008770609047355, 'val_accuracy': 0.6422578184591915, 'precision': 0.6607688524924749, 'recall': 0.6422578184591915, 'f1-score': 0.6449828338955731, 'macro_f1-score': 0.4012801195860855, 'balanced_accuracy': 0.38998749121560267, 'mcc': 0.5333880237048244, 'train_loss': 0.06150856123003461}\n",
      "Epoch 17/20\n"
     ]
    },
    {
     "name": "stderr",
     "output_type": "stream",
     "text": [
      "100%|██████████| 328/328 [00:27<00:00, 11.77it/s]\n"
     ]
    },
    {
     "name": "stdout",
     "output_type": "stream",
     "text": [
      "{'val_loss': 2.122924177384958, 'val_accuracy': 0.6475972540045767, 'precision': 0.6508579597909961, 'recall': 0.6475972540045767, 'f1-score': 0.6343366613675134, 'macro_f1-score': 0.39773380624457216, 'balanced_accuracy': 0.3762085632506221, 'mcc': 0.5276053972415917, 'train_loss': 0.06500238977534492}\n",
      "Epoch 18/20\n"
     ]
    },
    {
     "name": "stderr",
     "output_type": "stream",
     "text": [
      "100%|██████████| 328/328 [00:27<00:00, 11.79it/s]\n"
     ]
    },
    {
     "name": "stdout",
     "output_type": "stream",
     "text": [
      "{'val_loss': 2.056919154597492, 'val_accuracy': 0.6742944317315027, 'precision': 0.6588495393586358, 'recall': 0.6742944317315027, 'f1-score': 0.6559966616068962, 'macro_f1-score': 0.43155910700768557, 'balanced_accuracy': 0.4100233664155057, 'mcc': 0.5603054038627981, 'train_loss': 0.07309622428998942}\n",
      "Epoch 19/20\n"
     ]
    },
    {
     "name": "stderr",
     "output_type": "stream",
     "text": [
      "100%|██████████| 328/328 [00:27<00:00, 11.82it/s]\n"
     ]
    },
    {
     "name": "stdout",
     "output_type": "stream",
     "text": [
      "{'val_loss': 2.2430054479982795, 'val_accuracy': 0.6369183829138062, 'precision': 0.6479374934292844, 'recall': 0.6369183829138062, 'f1-score': 0.6339903376681345, 'macro_f1-score': 0.37909956834531194, 'balanced_accuracy': 0.39468255219874654, 'mcc': 0.5279942093918438, 'train_loss': 0.05116335672884328}\n",
      "Epoch 20/20\n"
     ]
    },
    {
     "name": "stderr",
     "output_type": "stream",
     "text": [
      "100%|██████████| 328/328 [00:27<00:00, 11.79it/s]\n"
     ]
    },
    {
     "name": "stdout",
     "output_type": "stream",
     "text": [
      "{'val_loss': 2.1539713674929084, 'val_accuracy': 0.635392829900839, 'precision': 0.6420202006006835, 'recall': 0.635392829900839, 'f1-score': 0.6265847589901967, 'macro_f1-score': 0.40410998508911966, 'balanced_accuracy': 0.4101496126223005, 'mcc': 0.5253349911012017, 'train_loss': 0.06359961040164684}\n",
      "\n",
      " === bert-base-uncased + plain + none Final 5-fold Cross-Validation Results ===\n",
      "val_loss: 1.8573\n",
      "val_accuracy: 0.6519\n",
      "precision: 0.6476\n",
      "recall: 0.6519\n",
      "f1-score: 0.6422\n",
      "macro_f1-score: 0.4003\n",
      "balanced_accuracy: 0.3990\n",
      "mcc: 0.5401\n",
      "train_loss: 0.2194\n",
      "total_seconds: 2066.0000\n",
      "total_time: 0 hrs 34 mins 26 secs\n",
      "▶ Running: bert-base-uncased + cnn + none\n",
      "tokenizer is bert-base-uncased\n",
      "Using device: cuda\n",
      "CUDA Available: True\n",
      "CUDA Device: NVIDIA GeForce RTX 5070 Ti\n",
      "Current GPU Memory Allocated: 0.02 GB\n",
      "Current GPU Memory Cached: 3.04 GB\n",
      "\n",
      "[Fold 1]\n",
      "Label distribution after resampling:\n",
      "  label 0: 2471\n",
      "  label 1: 21\n",
      "  label 2: 64\n",
      "  label 3: 24\n",
      "  label 4: 191\n",
      "  label 5: 113\n",
      "  label 6: 93\n",
      "  label 7: 30\n",
      "  label 8: 68\n",
      "  label 9: 30\n",
      "  label 10: 67\n",
      "  label 11: 169\n",
      "  label 12: 189\n",
      "  label 13: 29\n",
      "  label 14: 22\n",
      "  label 15: 25\n",
      "  label 16: 19\n",
      "  label 17: 183\n",
      "  label 18: 92\n",
      "  label 19: 44\n",
      "  label 20: 13\n",
      "  label 21: 35\n",
      "  label 22: 76\n",
      "  label 23: 158\n",
      "  label 24: 13\n",
      "  label 25: 44\n",
      "  label 26: 84\n",
      "  label 27: 48\n",
      "  label 28: 11\n",
      "  label 29: 13\n",
      "  label 30: 11\n",
      "  label 31: 75\n",
      "  label 32: 36\n",
      "  label 33: 32\n",
      "  label 34: 29\n",
      "  label 35: 11\n",
      "  label 36: 22\n",
      "  label 37: 16\n",
      "  label 38: 33\n",
      "  label 39: 10\n",
      "  label 40: 9\n",
      "  label 41: 57\n",
      "  label 42: 19\n",
      "  label 43: 8\n",
      "  label 44: 54\n",
      "  label 45: 242\n",
      "  label 46: 61\n",
      "  label 47: 80\n",
      "model is bert-base-uncased cnn\n",
      "Epoch 1/20\n"
     ]
    },
    {
     "name": "stderr",
     "output_type": "stream",
     "text": [
      "100%|██████████| 328/328 [00:28<00:00, 11.54it/s]\n"
     ]
    },
    {
     "name": "stdout",
     "output_type": "stream",
     "text": [
      "{'val_loss': 1.8081852590165488, 'val_accuracy': 0.5670731707317073, 'precision': 0.41411006520679905, 'recall': 0.5670731707317073, 'f1-score': 0.4599037982724364, 'macro_f1-score': 0.08472090570267614, 'balanced_accuracy': 0.10615096613308501, 'mcc': 0.3730901575539132, 'train_loss': 2.167755802230137}\n",
      "Epoch 2/20\n"
     ]
    },
    {
     "name": "stderr",
     "output_type": "stream",
     "text": [
      "100%|██████████| 328/328 [00:28<00:00, 11.57it/s]\n"
     ]
    },
    {
     "name": "stdout",
     "output_type": "stream",
     "text": [
      "{'val_loss': 1.6039135459719636, 'val_accuracy': 0.6059451219512195, 'precision': 0.48493460805607524, 'recall': 0.6059451219512195, 'f1-score': 0.5282857437493541, 'macro_f1-score': 0.16636803973046002, 'balanced_accuracy': 0.17226531882235854, 'mcc': 0.43991151895015823, 'train_loss': 1.5933225538309028}\n",
      "Epoch 3/20\n"
     ]
    },
    {
     "name": "stderr",
     "output_type": "stream",
     "text": [
      "100%|██████████| 328/328 [00:28<00:00, 11.55it/s]\n"
     ]
    },
    {
     "name": "stdout",
     "output_type": "stream",
     "text": [
      "{'val_loss': 1.591059519386873, 'val_accuracy': 0.6295731707317073, 'precision': 0.583702189248306, 'recall': 0.6295731707317073, 'f1-score': 0.5809410021948991, 'macro_f1-score': 0.24950009202989362, 'balanced_accuracy': 0.23552360954475993, 'mcc': 0.48091191088917007, 'train_loss': 1.2430327482884977}\n",
      "Epoch 4/20\n"
     ]
    },
    {
     "name": "stderr",
     "output_type": "stream",
     "text": [
      "100%|██████████| 328/328 [00:28<00:00, 11.57it/s]\n"
     ]
    },
    {
     "name": "stdout",
     "output_type": "stream",
     "text": [
      "{'val_loss': 1.4701652655877717, 'val_accuracy': 0.614329268292683, 'precision': 0.5911323375289937, 'recall': 0.614329268292683, 'f1-score': 0.5951234499573738, 'macro_f1-score': 0.271906168831981, 'balanced_accuracy': 0.2804347267420135, 'mcc': 0.4860591947438542, 'train_loss': 0.9110778793238286}\n",
      "Epoch 5/20\n"
     ]
    },
    {
     "name": "stderr",
     "output_type": "stream",
     "text": [
      "100%|██████████| 328/328 [00:28<00:00, 11.58it/s]\n"
     ]
    },
    {
     "name": "stdout",
     "output_type": "stream",
     "text": [
      "{'val_loss': 1.527891594644, 'val_accuracy': 0.6341463414634146, 'precision': 0.611698371284437, 'recall': 0.6341463414634146, 'f1-score': 0.6161537421501507, 'macro_f1-score': 0.32603771434377554, 'balanced_accuracy': 0.32874477490773407, 'mcc': 0.5147648713188949, 'train_loss': 0.628342010648694}\n",
      "Epoch 6/20\n"
     ]
    },
    {
     "name": "stderr",
     "output_type": "stream",
     "text": [
      "100%|██████████| 328/328 [00:28<00:00, 11.54it/s]\n"
     ]
    },
    {
     "name": "stdout",
     "output_type": "stream",
     "text": [
      "{'val_loss': 1.727834412964379, 'val_accuracy': 0.6333841463414634, 'precision': 0.6202099218379845, 'recall': 0.6333841463414634, 'f1-score': 0.6166236889329637, 'macro_f1-score': 0.34930656390876874, 'balanced_accuracy': 0.3455887032168678, 'mcc': 0.5091475974282377, 'train_loss': 0.4533950057812035}\n",
      "Epoch 7/20\n"
     ]
    },
    {
     "name": "stderr",
     "output_type": "stream",
     "text": [
      "100%|██████████| 328/328 [00:28<00:00, 11.46it/s]\n"
     ]
    },
    {
     "name": "stdout",
     "output_type": "stream",
     "text": [
      "{'val_loss': 1.8934236546842063, 'val_accuracy': 0.6592987804878049, 'precision': 0.6298326221088507, 'recall': 0.6592987804878049, 'f1-score': 0.6316074519170318, 'macro_f1-score': 0.3800452231729885, 'balanced_accuracy': 0.3573576435072672, 'mcc': 0.5334171966475612, 'train_loss': 0.3151956518243135}\n",
      "Epoch 8/20\n"
     ]
    },
    {
     "name": "stderr",
     "output_type": "stream",
     "text": [
      "100%|██████████| 328/328 [00:28<00:00, 11.49it/s]\n"
     ]
    },
    {
     "name": "stdout",
     "output_type": "stream",
     "text": [
      "{'val_loss': 1.8033565228305213, 'val_accuracy': 0.6425304878048781, 'precision': 0.6453784289422, 'recall': 0.6425304878048781, 'f1-score': 0.6315540394907581, 'macro_f1-score': 0.3675799173214503, 'balanced_accuracy': 0.3655667444473372, 'mcc': 0.5242926267019385, 'train_loss': 0.221708728569821}\n",
      "Epoch 9/20\n"
     ]
    },
    {
     "name": "stderr",
     "output_type": "stream",
     "text": [
      "100%|██████████| 328/328 [00:28<00:00, 11.50it/s]\n"
     ]
    },
    {
     "name": "stdout",
     "output_type": "stream",
     "text": [
      "{'val_loss': 1.9054296772654464, 'val_accuracy': 0.6547256097560976, 'precision': 0.6405348791998374, 'recall': 0.6547256097560976, 'f1-score': 0.6375066255219064, 'macro_f1-score': 0.3913963645612786, 'balanced_accuracy': 0.38356567776277783, 'mcc': 0.5367794125026272, 'train_loss': 0.16375231740019489}\n",
      "Epoch 10/20\n"
     ]
    },
    {
     "name": "stderr",
     "output_type": "stream",
     "text": [
      "100%|██████████| 328/328 [00:28<00:00, 11.55it/s]\n"
     ]
    },
    {
     "name": "stdout",
     "output_type": "stream",
     "text": [
      "{'val_loss': 2.3353647631479473, 'val_accuracy': 0.6326219512195121, 'precision': 0.6189240446599481, 'recall': 0.6326219512195121, 'f1-score': 0.5983311602628097, 'macro_f1-score': 0.36316082212752865, 'balanced_accuracy': 0.326201670412647, 'mcc': 0.4847181977858305, 'train_loss': 0.15357088902468294}\n",
      "Epoch 11/20\n"
     ]
    },
    {
     "name": "stderr",
     "output_type": "stream",
     "text": [
      "100%|██████████| 328/328 [00:28<00:00, 11.53it/s]\n"
     ]
    },
    {
     "name": "stdout",
     "output_type": "stream",
     "text": [
      "{'val_loss': 2.1491498452861135, 'val_accuracy': 0.6333841463414634, 'precision': 0.6304298824546191, 'recall': 0.6333841463414634, 'f1-score': 0.6240349853927286, 'macro_f1-score': 0.3779883921691467, 'balanced_accuracy': 0.37718588013362514, 'mcc': 0.5115937774565694, 'train_loss': 0.12346854499859236}\n",
      "Epoch 12/20\n"
     ]
    },
    {
     "name": "stderr",
     "output_type": "stream",
     "text": [
      "100%|██████████| 328/328 [00:28<00:00, 11.43it/s]\n"
     ]
    },
    {
     "name": "stdout",
     "output_type": "stream",
     "text": [
      "{'val_loss': 2.3238535883223137, 'val_accuracy': 0.6486280487804879, 'precision': 0.6235423214527975, 'recall': 0.6486280487804879, 'f1-score': 0.614492057986101, 'macro_f1-score': 0.3905255044442146, 'balanced_accuracy': 0.34936466865718185, 'mcc': 0.5093072016152015, 'train_loss': 0.09635036192101813}\n",
      "Early stopping.\n",
      "\n",
      "[Fold 2]\n",
      "Label distribution after resampling:\n",
      "  label 0: 2471\n",
      "  label 1: 22\n",
      "  label 2: 64\n",
      "  label 3: 24\n",
      "  label 4: 190\n",
      "  label 5: 113\n",
      "  label 6: 93\n",
      "  label 7: 30\n",
      "  label 8: 68\n",
      "  label 9: 30\n",
      "  label 10: 67\n",
      "  label 11: 169\n",
      "  label 12: 189\n",
      "  label 13: 29\n",
      "  label 14: 23\n",
      "  label 15: 24\n",
      "  label 16: 20\n",
      "  label 17: 182\n",
      "  label 18: 92\n",
      "  label 19: 44\n",
      "  label 20: 13\n",
      "  label 21: 36\n",
      "  label 22: 76\n",
      "  label 23: 157\n",
      "  label 24: 12\n",
      "  label 25: 44\n",
      "  label 26: 84\n",
      "  label 27: 48\n",
      "  label 28: 12\n",
      "  label 29: 12\n",
      "  label 30: 12\n",
      "  label 31: 75\n",
      "  label 32: 36\n",
      "  label 33: 31\n",
      "  label 34: 29\n",
      "  label 35: 12\n",
      "  label 36: 21\n",
      "  label 37: 16\n",
      "  label 38: 33\n",
      "  label 39: 11\n",
      "  label 40: 8\n",
      "  label 41: 57\n",
      "  label 42: 19\n",
      "  label 43: 9\n",
      "  label 44: 54\n",
      "  label 45: 242\n",
      "  label 46: 62\n",
      "  label 47: 80\n",
      "model is bert-base-uncased cnn\n",
      "Epoch 1/20\n"
     ]
    },
    {
     "name": "stderr",
     "output_type": "stream",
     "text": [
      "100%|██████████| 328/328 [00:28<00:00, 11.47it/s]\n"
     ]
    },
    {
     "name": "stdout",
     "output_type": "stream",
     "text": [
      "{'val_loss': 1.7465715568240097, 'val_accuracy': 0.5751334858886347, 'precision': 0.3936789315882126, 'recall': 0.5751334858886347, 'f1-score': 0.45067173222290774, 'macro_f1-score': 0.06724346441126783, 'balanced_accuracy': 0.08754377181785898, 'mcc': 0.3765085774912333, 'train_loss': 2.1816275205190587}\n",
      "Epoch 2/20\n"
     ]
    },
    {
     "name": "stderr",
     "output_type": "stream",
     "text": [
      "100%|██████████| 328/328 [00:27<00:00, 11.75it/s]\n"
     ]
    },
    {
     "name": "stdout",
     "output_type": "stream",
     "text": [
      "{'val_loss': 1.5163542606481692, 'val_accuracy': 0.6193745232646835, 'precision': 0.5071849002691655, 'recall': 0.6193745232646835, 'f1-score': 0.5415051446246631, 'macro_f1-score': 0.1892915051264501, 'balanced_accuracy': 0.1873402527482337, 'mcc': 0.45697408563354314, 'train_loss': 1.6071793154427192}\n",
      "Epoch 3/20\n"
     ]
    },
    {
     "name": "stderr",
     "output_type": "stream",
     "text": [
      "100%|██████████| 328/328 [00:27<00:00, 11.74it/s]\n"
     ]
    },
    {
     "name": "stdout",
     "output_type": "stream",
     "text": [
      "{'val_loss': 1.4300434353148066, 'val_accuracy': 0.6308161708619374, 'precision': 0.5784029699204755, 'recall': 0.6308161708619374, 'f1-score': 0.5694414894138007, 'macro_f1-score': 0.2464925719898848, 'balanced_accuracy': 0.23543382629882992, 'mcc': 0.47909792076168367, 'train_loss': 1.2071289176621087}\n",
      "Epoch 4/20\n"
     ]
    },
    {
     "name": "stderr",
     "output_type": "stream",
     "text": [
      "100%|██████████| 328/328 [00:28<00:00, 11.59it/s]\n"
     ]
    },
    {
     "name": "stdout",
     "output_type": "stream",
     "text": [
      "{'val_loss': 1.3922137748904344, 'val_accuracy': 0.6636155606407322, 'precision': 0.6157541303899062, 'recall': 0.6636155606407322, 'f1-score': 0.6251817037663601, 'macro_f1-score': 0.314605375722519, 'balanced_accuracy': 0.308947289941076, 'mcc': 0.5370387456530139, 'train_loss': 0.839923742431693}\n",
      "Epoch 5/20\n"
     ]
    },
    {
     "name": "stderr",
     "output_type": "stream",
     "text": [
      "100%|██████████| 328/328 [00:28<00:00, 11.53it/s]\n"
     ]
    },
    {
     "name": "stdout",
     "output_type": "stream",
     "text": [
      "{'val_loss': 1.3983036694003315, 'val_accuracy': 0.6636155606407322, 'precision': 0.6590873972813951, 'recall': 0.6636155606407322, 'f1-score': 0.6550202871436804, 'macro_f1-score': 0.3771384429312549, 'balanced_accuracy': 0.37382866522694025, 'mcc': 0.5605166540694473, 'train_loss': 0.5891321397999801}\n",
      "Epoch 6/20\n"
     ]
    },
    {
     "name": "stderr",
     "output_type": "stream",
     "text": [
      "100%|██████████| 328/328 [00:28<00:00, 11.51it/s]\n"
     ]
    },
    {
     "name": "stdout",
     "output_type": "stream",
     "text": [
      "{'val_loss': 1.5410868754474127, 'val_accuracy': 0.658276125095347, 'precision': 0.6497534908969328, 'recall': 0.658276125095347, 'f1-score': 0.6450006349308508, 'macro_f1-score': 0.36846955650766966, 'balanced_accuracy': 0.3845261382126666, 'mcc': 0.550021183300793, 'train_loss': 0.3863886144330225}\n",
      "Epoch 7/20\n"
     ]
    },
    {
     "name": "stderr",
     "output_type": "stream",
     "text": [
      "100%|██████████| 328/328 [00:28<00:00, 11.56it/s]\n"
     ]
    },
    {
     "name": "stdout",
     "output_type": "stream",
     "text": [
      "{'val_loss': 1.731365429010333, 'val_accuracy': 0.6399694889397407, 'precision': 0.6307784563393062, 'recall': 0.6399694889397407, 'f1-score': 0.6254773547774196, 'macro_f1-score': 0.36258856313703386, 'balanced_accuracy': 0.35347652349168707, 'mcc': 0.5192237115861379, 'train_loss': 0.2743368440523471}\n",
      "Epoch 8/20\n"
     ]
    },
    {
     "name": "stderr",
     "output_type": "stream",
     "text": [
      "100%|██████████| 328/328 [00:27<00:00, 11.73it/s]\n"
     ]
    },
    {
     "name": "stdout",
     "output_type": "stream",
     "text": [
      "{'val_loss': 1.6993145295759526, 'val_accuracy': 0.6521739130434783, 'precision': 0.6360820646833794, 'recall': 0.6521739130434783, 'f1-score': 0.6388903068704616, 'macro_f1-score': 0.3841555630425972, 'balanced_accuracy': 0.389343150736341, 'mcc': 0.5402386774334056, 'train_loss': 0.22469071756264694}\n",
      "Epoch 9/20\n"
     ]
    },
    {
     "name": "stderr",
     "output_type": "stream",
     "text": [
      "100%|██████████| 328/328 [00:28<00:00, 11.52it/s]\n"
     ]
    },
    {
     "name": "stdout",
     "output_type": "stream",
     "text": [
      "{'val_loss': 1.7898114919662476, 'val_accuracy': 0.6460717009916095, 'precision': 0.6530116414997292, 'recall': 0.6460717009916095, 'f1-score': 0.6421908821394247, 'macro_f1-score': 0.3957995348904891, 'balanced_accuracy': 0.4029425149781738, 'mcc': 0.5357643620470575, 'train_loss': 0.15616931751222782}\n",
      "Epoch 10/20\n"
     ]
    },
    {
     "name": "stderr",
     "output_type": "stream",
     "text": [
      "100%|██████████| 328/328 [00:28<00:00, 11.44it/s]\n"
     ]
    },
    {
     "name": "stdout",
     "output_type": "stream",
     "text": [
      "{'val_loss': 1.8596908035801678, 'val_accuracy': 0.665903890160183, 'precision': 0.6643634371024468, 'recall': 0.665903890160183, 'f1-score': 0.6550634812826358, 'macro_f1-score': 0.4068093540462892, 'balanced_accuracy': 0.4116107742078685, 'mcc': 0.5570589491983695, 'train_loss': 0.10051570978603416}\n",
      "Epoch 11/20\n"
     ]
    },
    {
     "name": "stderr",
     "output_type": "stream",
     "text": [
      "100%|██████████| 328/328 [00:28<00:00, 11.65it/s]\n"
     ]
    },
    {
     "name": "stdout",
     "output_type": "stream",
     "text": [
      "{'val_loss': 1.8681907871874368, 'val_accuracy': 0.6590389016018307, 'precision': 0.6371779344775178, 'recall': 0.6590389016018307, 'f1-score': 0.6369683545398664, 'macro_f1-score': 0.37689017127170205, 'balanced_accuracy': 0.35661663442063346, 'mcc': 0.5340168202087773, 'train_loss': 0.11264760787286456}\n",
      "Epoch 12/20\n"
     ]
    },
    {
     "name": "stderr",
     "output_type": "stream",
     "text": [
      "100%|██████████| 328/328 [00:27<00:00, 11.77it/s]\n"
     ]
    },
    {
     "name": "stdout",
     "output_type": "stream",
     "text": [
      "{'val_loss': 2.10850473656887, 'val_accuracy': 0.6536994660564455, 'precision': 0.6300611705777425, 'recall': 0.6536994660564455, 'f1-score': 0.6279211404686188, 'macro_f1-score': 0.3586035587267992, 'balanced_accuracy': 0.3357351102966104, 'mcc': 0.5246368416590589, 'train_loss': 0.10055282200820086}\n",
      "Epoch 13/20\n"
     ]
    },
    {
     "name": "stderr",
     "output_type": "stream",
     "text": [
      "100%|██████████| 328/328 [00:27<00:00, 11.75it/s]\n"
     ]
    },
    {
     "name": "stdout",
     "output_type": "stream",
     "text": [
      "{'val_loss': 2.0762029362887873, 'val_accuracy': 0.6460717009916095, 'precision': 0.6484216015981931, 'recall': 0.6460717009916095, 'f1-score': 0.6353966042582743, 'macro_f1-score': 0.3911654992006049, 'balanced_accuracy': 0.3872764989942219, 'mcc': 0.5242216566605828, 'train_loss': 0.09180510953876542}\n",
      "Early stopping.\n",
      "\n",
      "[Fold 3]\n",
      "Label distribution after resampling:\n",
      "  label 0: 2471\n",
      "  label 1: 22\n",
      "  label 2: 64\n",
      "  label 3: 24\n",
      "  label 4: 190\n",
      "  label 5: 113\n",
      "  label 6: 93\n",
      "  label 7: 30\n",
      "  label 8: 68\n",
      "  label 9: 30\n",
      "  label 10: 67\n",
      "  label 11: 169\n",
      "  label 12: 190\n",
      "  label 13: 28\n",
      "  label 14: 23\n",
      "  label 15: 25\n",
      "  label 16: 19\n",
      "  label 17: 182\n",
      "  label 18: 92\n",
      "  label 19: 44\n",
      "  label 20: 14\n",
      "  label 21: 35\n",
      "  label 22: 76\n",
      "  label 23: 157\n",
      "  label 24: 13\n",
      "  label 25: 44\n",
      "  label 26: 84\n",
      "  label 27: 48\n",
      "  label 28: 11\n",
      "  label 29: 13\n",
      "  label 30: 11\n",
      "  label 31: 76\n",
      "  label 32: 36\n",
      "  label 33: 31\n",
      "  label 34: 30\n",
      "  label 35: 11\n",
      "  label 36: 21\n",
      "  label 37: 16\n",
      "  label 38: 32\n",
      "  label 39: 11\n",
      "  label 40: 9\n",
      "  label 41: 57\n",
      "  label 42: 18\n",
      "  label 43: 9\n",
      "  label 44: 55\n",
      "  label 45: 241\n",
      "  label 46: 62\n",
      "  label 47: 80\n",
      "model is bert-base-uncased cnn\n",
      "Epoch 1/20\n"
     ]
    },
    {
     "name": "stderr",
     "output_type": "stream",
     "text": [
      "100%|██████████| 328/328 [00:27<00:00, 11.74it/s]\n"
     ]
    },
    {
     "name": "stdout",
     "output_type": "stream",
     "text": [
      "{'val_loss': 1.90097886469306, 'val_accuracy': 0.5598779557589626, 'precision': 0.38833422045415555, 'recall': 0.5598779557589626, 'f1-score': 0.4432147818444556, 'macro_f1-score': 0.06352719075422682, 'balanced_accuracy': 0.08440819946272131, 'mcc': 0.3574740480210073, 'train_loss': 2.249564426882965}\n",
      "Epoch 2/20\n"
     ]
    },
    {
     "name": "stderr",
     "output_type": "stream",
     "text": [
      "100%|██████████| 328/328 [00:27<00:00, 11.76it/s]\n"
     ]
    },
    {
     "name": "stdout",
     "output_type": "stream",
     "text": [
      "{'val_loss': 1.6047576767642324, 'val_accuracy': 0.6193745232646835, 'precision': 0.5151881102326298, 'recall': 0.6193745232646835, 'f1-score': 0.5442544701851831, 'macro_f1-score': 0.18172295415017178, 'balanced_accuracy': 0.1860572395184373, 'mcc': 0.46175211996191873, 'train_loss': 1.6576618919285333}\n",
      "Epoch 3/20\n"
     ]
    },
    {
     "name": "stderr",
     "output_type": "stream",
     "text": [
      "100%|██████████| 328/328 [00:28<00:00, 11.61it/s]\n"
     ]
    },
    {
     "name": "stdout",
     "output_type": "stream",
     "text": [
      "{'val_loss': 1.549664426140669, 'val_accuracy': 0.6048817696414951, 'precision': 0.558753318167891, 'recall': 0.6048817696414951, 'f1-score': 0.5711317597067735, 'macro_f1-score': 0.2226553519852983, 'balanced_accuracy': 0.23728202719031147, 'mcc': 0.47311287684705516, 'train_loss': 1.2610125919667685}\n",
      "Epoch 4/20\n"
     ]
    },
    {
     "name": "stderr",
     "output_type": "stream",
     "text": [
      "100%|██████████| 328/328 [00:27<00:00, 11.75it/s]\n"
     ]
    },
    {
     "name": "stdout",
     "output_type": "stream",
     "text": [
      "{'val_loss': 1.4816552224319155, 'val_accuracy': 0.6178489702517163, 'precision': 0.5733703775427506, 'recall': 0.6178489702517163, 'f1-score': 0.5877355915837631, 'macro_f1-score': 0.2577570884635178, 'balanced_accuracy': 0.25947146994689313, 'mcc': 0.48374976749432624, 'train_loss': 0.9191048369265911}\n",
      "Epoch 5/20\n"
     ]
    },
    {
     "name": "stderr",
     "output_type": "stream",
     "text": [
      "100%|██████████| 328/328 [00:27<00:00, 11.71it/s]\n"
     ]
    },
    {
     "name": "stdout",
     "output_type": "stream",
     "text": [
      "{'val_loss': 1.5043994620805834, 'val_accuracy': 0.6308161708619374, 'precision': 0.6309353328412907, 'recall': 0.6308161708619374, 'f1-score': 0.6214130497021816, 'macro_f1-score': 0.33359325927884687, 'balanced_accuracy': 0.34794709139349483, 'mcc': 0.5181008356142511, 'train_loss': 0.6510373998160769}\n",
      "Epoch 6/20\n"
     ]
    },
    {
     "name": "stderr",
     "output_type": "stream",
     "text": [
      "100%|██████████| 328/328 [00:27<00:00, 11.74it/s]\n"
     ]
    },
    {
     "name": "stdout",
     "output_type": "stream",
     "text": [
      "{'val_loss': 1.6584471794890194, 'val_accuracy': 0.6468344774980931, 'precision': 0.644201856554356, 'recall': 0.6468344774980931, 'f1-score': 0.6296085641784086, 'macro_f1-score': 0.3377409107807361, 'balanced_accuracy': 0.33227578131339863, 'mcc': 0.5310905432511496, 'train_loss': 0.4598691034153467}\n",
      "Epoch 7/20\n"
     ]
    },
    {
     "name": "stderr",
     "output_type": "stream",
     "text": [
      "100%|██████████| 328/328 [00:28<00:00, 11.71it/s]\n"
     ]
    },
    {
     "name": "stdout",
     "output_type": "stream",
     "text": [
      "{'val_loss': 1.766552826821259, 'val_accuracy': 0.6422578184591915, 'precision': 0.605000569036091, 'recall': 0.6422578184591915, 'f1-score': 0.6115490734999386, 'macro_f1-score': 0.34784251642676484, 'balanced_accuracy': 0.3350173120894046, 'mcc': 0.5142588559602611, 'train_loss': 0.315279068348634}\n",
      "Epoch 8/20\n"
     ]
    },
    {
     "name": "stderr",
     "output_type": "stream",
     "text": [
      "100%|██████████| 328/328 [00:27<00:00, 11.74it/s]\n"
     ]
    },
    {
     "name": "stdout",
     "output_type": "stream",
     "text": [
      "{'val_loss': 1.7928081093038, 'val_accuracy': 0.6384439359267735, 'precision': 0.6341764818414121, 'recall': 0.6384439359267735, 'f1-score': 0.6287066158714723, 'macro_f1-score': 0.3616770096302468, 'balanced_accuracy': 0.35321415229275116, 'mcc': 0.5222434580109617, 'train_loss': 0.2149026167022473}\n",
      "Epoch 9/20\n"
     ]
    },
    {
     "name": "stderr",
     "output_type": "stream",
     "text": [
      "100%|██████████| 328/328 [00:27<00:00, 11.72it/s]\n"
     ]
    },
    {
     "name": "stdout",
     "output_type": "stream",
     "text": [
      "{'val_loss': 1.934305256096328, 'val_accuracy': 0.6086956521739131, 'precision': 0.6477753987758204, 'recall': 0.6086956521739131, 'f1-score': 0.6124146924004711, 'macro_f1-score': 0.36038850945425, 'balanced_accuracy': 0.3712557517896715, 'mcc': 0.4999980186206772, 'train_loss': 0.1617485286139815}\n",
      "Epoch 10/20\n"
     ]
    },
    {
     "name": "stderr",
     "output_type": "stream",
     "text": [
      "100%|██████████| 328/328 [00:27<00:00, 11.74it/s]\n"
     ]
    },
    {
     "name": "stdout",
     "output_type": "stream",
     "text": [
      "{'val_loss': 1.9732655295875015, 'val_accuracy': 0.6521739130434783, 'precision': 0.6359589270841004, 'recall': 0.6521739130434783, 'f1-score': 0.6312795388098781, 'macro_f1-score': 0.3646446369292588, 'balanced_accuracy': 0.3455419289516522, 'mcc': 0.5276103332480535, 'train_loss': 0.14513054125510702}\n",
      "Epoch 11/20\n"
     ]
    },
    {
     "name": "stderr",
     "output_type": "stream",
     "text": [
      "100%|██████████| 328/328 [00:27<00:00, 11.75it/s]\n"
     ]
    },
    {
     "name": "stdout",
     "output_type": "stream",
     "text": [
      "{'val_loss': 2.2686510839295098, 'val_accuracy': 0.6468344774980931, 'precision': 0.6191486394512511, 'recall': 0.6468344774980931, 'f1-score': 0.6178752595498175, 'macro_f1-score': 0.35389851220033613, 'balanced_accuracy': 0.32903326534005134, 'mcc': 0.5141620045695312, 'train_loss': 0.11198208351383872}\n",
      "Epoch 12/20\n"
     ]
    },
    {
     "name": "stderr",
     "output_type": "stream",
     "text": [
      "100%|██████████| 328/328 [00:28<00:00, 11.60it/s]\n"
     ]
    },
    {
     "name": "stdout",
     "output_type": "stream",
     "text": [
      "{'val_loss': 2.137346854024544, 'val_accuracy': 0.6605644546147978, 'precision': 0.6323665420695103, 'recall': 0.6605644546147978, 'f1-score': 0.6270968507988934, 'macro_f1-score': 0.3661164635099448, 'balanced_accuracy': 0.3367281321377719, 'mcc': 0.5314644452957717, 'train_loss': 0.13254881808931782}\n",
      "Epoch 13/20\n"
     ]
    },
    {
     "name": "stderr",
     "output_type": "stream",
     "text": [
      "100%|██████████| 328/328 [00:28<00:00, 11.48it/s]\n"
     ]
    },
    {
     "name": "stdout",
     "output_type": "stream",
     "text": [
      "{'val_loss': 2.0909020286507722, 'val_accuracy': 0.6674294431731502, 'precision': 0.6472060749742101, 'recall': 0.6674294431731502, 'f1-score': 0.6421747924223258, 'macro_f1-score': 0.38679995837457426, 'balanced_accuracy': 0.36982739474303195, 'mcc': 0.5497482511205277, 'train_loss': 0.10793119518703173}\n",
      "Epoch 14/20\n"
     ]
    },
    {
     "name": "stderr",
     "output_type": "stream",
     "text": [
      "100%|██████████| 328/328 [00:28<00:00, 11.60it/s]\n"
     ]
    },
    {
     "name": "stdout",
     "output_type": "stream",
     "text": [
      "{'val_loss': 1.9826258907957774, 'val_accuracy': 0.6437833714721587, 'precision': 0.6464778185686252, 'recall': 0.6437833714721587, 'f1-score': 0.6384776855058103, 'macro_f1-score': 0.38225755060732824, 'balanced_accuracy': 0.3778644216560723, 'mcc': 0.5338556819983322, 'train_loss': 0.10018018819178773}\n",
      "Epoch 15/20\n"
     ]
    },
    {
     "name": "stderr",
     "output_type": "stream",
     "text": [
      "100%|██████████| 328/328 [00:28<00:00, 11.51it/s]\n"
     ]
    },
    {
     "name": "stdout",
     "output_type": "stream",
     "text": [
      "{'val_loss': 2.241134985554509, 'val_accuracy': 0.6628527841342486, 'precision': 0.6453785551844999, 'recall': 0.6628527841342486, 'f1-score': 0.6388638352765218, 'macro_f1-score': 0.4027972159005615, 'balanced_accuracy': 0.3723413608657146, 'mcc': 0.5398423653829078, 'train_loss': 0.08918094432986591}\n",
      "Epoch 16/20\n"
     ]
    },
    {
     "name": "stderr",
     "output_type": "stream",
     "text": [
      "100%|██████████| 328/328 [00:28<00:00, 11.53it/s]\n"
     ]
    },
    {
     "name": "stdout",
     "output_type": "stream",
     "text": [
      "{'val_loss': 2.221532474112947, 'val_accuracy': 0.6338672768878718, 'precision': 0.6236638863745658, 'recall': 0.6338672768878718, 'f1-score': 0.6230947401565526, 'macro_f1-score': 0.3702560921018136, 'balanced_accuracy': 0.3665911984691929, 'mcc': 0.518739923587758, 'train_loss': 0.08957256791366423}\n",
      "Epoch 17/20\n"
     ]
    },
    {
     "name": "stderr",
     "output_type": "stream",
     "text": [
      "100%|██████████| 328/328 [00:27<00:00, 11.72it/s]\n"
     ]
    },
    {
     "name": "stdout",
     "output_type": "stream",
     "text": [
      "{'val_loss': 2.2511213758914934, 'val_accuracy': 0.6376811594202898, 'precision': 0.627544646382982, 'recall': 0.6376811594202898, 'f1-score': 0.6268980163150758, 'macro_f1-score': 0.37563305024833643, 'balanced_accuracy': 0.377986402897544, 'mcc': 0.5216175442057459, 'train_loss': 0.09189498994450465}\n",
      "Epoch 18/20\n"
     ]
    },
    {
     "name": "stderr",
     "output_type": "stream",
     "text": [
      "100%|██████████| 328/328 [00:27<00:00, 11.72it/s]\n"
     ]
    },
    {
     "name": "stdout",
     "output_type": "stream",
     "text": [
      "{'val_loss': 2.421028203171928, 'val_accuracy': 0.6468344774980931, 'precision': 0.620330595504022, 'recall': 0.6468344774980931, 'f1-score': 0.6242021961360911, 'macro_f1-score': 0.3405743713416682, 'balanced_accuracy': 0.3372721821790787, 'mcc': 0.5216859172127162, 'train_loss': 0.059753354035797755}\n",
      "Early stopping.\n",
      "\n",
      "[Fold 4]\n",
      "Label distribution after resampling:\n",
      "  label 0: 2471\n",
      "  label 1: 22\n",
      "  label 2: 64\n",
      "  label 3: 24\n",
      "  label 4: 190\n",
      "  label 5: 113\n",
      "  label 6: 93\n",
      "  label 7: 31\n",
      "  label 8: 68\n",
      "  label 9: 29\n",
      "  label 10: 67\n",
      "  label 11: 169\n",
      "  label 12: 190\n",
      "  label 13: 29\n",
      "  label 14: 22\n",
      "  label 15: 25\n",
      "  label 16: 19\n",
      "  label 17: 182\n",
      "  label 18: 92\n",
      "  label 19: 44\n",
      "  label 20: 14\n",
      "  label 21: 35\n",
      "  label 22: 76\n",
      "  label 23: 158\n",
      "  label 24: 13\n",
      "  label 25: 44\n",
      "  label 26: 84\n",
      "  label 27: 48\n",
      "  label 28: 11\n",
      "  label 29: 13\n",
      "  label 30: 11\n",
      "  label 31: 75\n",
      "  label 32: 36\n",
      "  label 33: 31\n",
      "  label 34: 30\n",
      "  label 35: 11\n",
      "  label 36: 22\n",
      "  label 37: 16\n",
      "  label 38: 33\n",
      "  label 39: 10\n",
      "  label 40: 9\n",
      "  label 41: 56\n",
      "  label 42: 18\n",
      "  label 43: 9\n",
      "  label 44: 55\n",
      "  label 45: 241\n",
      "  label 46: 62\n",
      "  label 47: 80\n",
      "model is bert-base-uncased cnn\n",
      "Epoch 1/20\n"
     ]
    },
    {
     "name": "stderr",
     "output_type": "stream",
     "text": [
      "100%|██████████| 328/328 [00:27<00:00, 11.76it/s]\n"
     ]
    },
    {
     "name": "stdout",
     "output_type": "stream",
     "text": [
      "{'val_loss': 1.8843664025388114, 'val_accuracy': 0.5598779557589626, 'precision': 0.38350770038550325, 'recall': 0.5598779557589626, 'f1-score': 0.4287429046284981, 'macro_f1-score': 0.06293568901990476, 'balanced_accuracy': 0.0783678548970465, 'mcc': 0.3411485315335922, 'train_loss': 2.212498407538344}\n",
      "Epoch 2/20\n"
     ]
    },
    {
     "name": "stderr",
     "output_type": "stream",
     "text": [
      "100%|██████████| 328/328 [00:27<00:00, 11.73it/s]\n"
     ]
    },
    {
     "name": "stdout",
     "output_type": "stream",
     "text": [
      "{'val_loss': 1.5978032528627208, 'val_accuracy': 0.6041189931350115, 'precision': 0.5237136275438636, 'recall': 0.6041189931350115, 'f1-score': 0.5262578393934307, 'macro_f1-score': 0.1591041404074346, 'balanced_accuracy': 0.16037262168576263, 'mcc': 0.4392961132495988, 'train_loss': 1.6699122980963894}\n",
      "Epoch 3/20\n"
     ]
    },
    {
     "name": "stderr",
     "output_type": "stream",
     "text": [
      "100%|██████████| 328/328 [00:28<00:00, 11.53it/s]\n"
     ]
    },
    {
     "name": "stdout",
     "output_type": "stream",
     "text": [
      "{'val_loss': 1.455356661866351, 'val_accuracy': 0.631578947368421, 'precision': 0.5805937799946492, 'recall': 0.631578947368421, 'f1-score': 0.5974078353323862, 'macro_f1-score': 0.2540614177799562, 'balanced_accuracy': 0.27429780509386564, 'mcc': 0.5074487537924078, 'train_loss': 1.3269319796889294}\n",
      "Epoch 4/20\n"
     ]
    },
    {
     "name": "stderr",
     "output_type": "stream",
     "text": [
      "100%|██████████| 328/328 [00:27<00:00, 11.75it/s]\n"
     ]
    },
    {
     "name": "stdout",
     "output_type": "stream",
     "text": [
      "{'val_loss': 1.4621392868277503, 'val_accuracy': 0.6468344774980931, 'precision': 0.6018816110278485, 'recall': 0.6468344774980931, 'f1-score': 0.6028091521134004, 'macro_f1-score': 0.30362567191280165, 'balanced_accuracy': 0.28415239725309194, 'mcc': 0.5093302728020241, 'train_loss': 0.9720036456497704}\n",
      "Epoch 5/20\n"
     ]
    },
    {
     "name": "stderr",
     "output_type": "stream",
     "text": [
      "100%|██████████| 328/328 [00:27<00:00, 11.74it/s]\n"
     ]
    },
    {
     "name": "stdout",
     "output_type": "stream",
     "text": [
      "{'val_loss': 1.5414551296612111, 'val_accuracy': 0.6453089244851259, 'precision': 0.625781933725344, 'recall': 0.6453089244851259, 'f1-score': 0.6275680499460962, 'macro_f1-score': 0.3594275309166539, 'balanced_accuracy': 0.3557725084608759, 'mcc': 0.529065412402867, 'train_loss': 0.7235265844615131}\n",
      "Epoch 6/20\n"
     ]
    },
    {
     "name": "stderr",
     "output_type": "stream",
     "text": [
      "100%|██████████| 328/328 [00:27<00:00, 11.72it/s]\n"
     ]
    },
    {
     "name": "stdout",
     "output_type": "stream",
     "text": [
      "{'val_loss': 1.560724674565036, 'val_accuracy': 0.6453089244851259, 'precision': 0.636415469577893, 'recall': 0.6453089244851259, 'f1-score': 0.6323976330440645, 'macro_f1-score': 0.37427573479038445, 'balanced_accuracy': 0.3717410384046287, 'mcc': 0.5314385043331428, 'train_loss': 0.487676729857013}\n",
      "Epoch 7/20\n"
     ]
    },
    {
     "name": "stderr",
     "output_type": "stream",
     "text": [
      "100%|██████████| 328/328 [00:27<00:00, 11.74it/s]\n"
     ]
    },
    {
     "name": "stdout",
     "output_type": "stream",
     "text": [
      "{'val_loss': 1.6045548697797263, 'val_accuracy': 0.6483600305110603, 'precision': 0.6553299677883375, 'recall': 0.6483600305110603, 'f1-score': 0.6458393769897874, 'macro_f1-score': 0.38756292147898946, 'balanced_accuracy': 0.4088570451578845, 'mcc': 0.549764977567955, 'train_loss': 0.36943552654986156}\n",
      "Epoch 8/20\n"
     ]
    },
    {
     "name": "stderr",
     "output_type": "stream",
     "text": [
      "100%|██████████| 328/328 [00:27<00:00, 11.75it/s]\n"
     ]
    },
    {
     "name": "stdout",
     "output_type": "stream",
     "text": [
      "{'val_loss': 1.76104360091977, 'val_accuracy': 0.6270022883295194, 'precision': 0.652150659860315, 'recall': 0.6270022883295194, 'f1-score': 0.6307202674138778, 'macro_f1-score': 0.38554421465642646, 'balanced_accuracy': 0.4114674983152913, 'mcc': 0.5242893406759137, 'train_loss': 0.251118133855393}\n",
      "Epoch 9/20\n"
     ]
    },
    {
     "name": "stderr",
     "output_type": "stream",
     "text": [
      "100%|██████████| 328/328 [00:27<00:00, 11.76it/s]\n"
     ]
    },
    {
     "name": "stdout",
     "output_type": "stream",
     "text": [
      "{'val_loss': 1.8849155008792877, 'val_accuracy': 0.6544622425629291, 'precision': 0.6541314284338584, 'recall': 0.6544622425629291, 'f1-score': 0.6460004231662388, 'macro_f1-score': 0.38897028596296024, 'balanced_accuracy': 0.39493409865747503, 'mcc': 0.5498243056652116, 'train_loss': 0.2015797175643057}\n",
      "Epoch 10/20\n"
     ]
    },
    {
     "name": "stderr",
     "output_type": "stream",
     "text": [
      "100%|██████████| 328/328 [00:27<00:00, 11.72it/s]\n"
     ]
    },
    {
     "name": "stdout",
     "output_type": "stream",
     "text": [
      "{'val_loss': 1.893104947376542, 'val_accuracy': 0.6514111365369947, 'precision': 0.6606092572399606, 'recall': 0.6514111365369947, 'f1-score': 0.6511187649304934, 'macro_f1-score': 0.39637122549014997, 'balanced_accuracy': 0.40805181165086185, 'mcc': 0.5462681856010133, 'train_loss': 0.16788491641211029}\n",
      "Epoch 11/20\n"
     ]
    },
    {
     "name": "stderr",
     "output_type": "stream",
     "text": [
      "100%|██████████| 328/328 [00:27<00:00, 11.73it/s]\n"
     ]
    },
    {
     "name": "stdout",
     "output_type": "stream",
     "text": [
      "{'val_loss': 1.933640597342718, 'val_accuracy': 0.6567505720823799, 'precision': 0.6429702787889596, 'recall': 0.6567505720823799, 'f1-score': 0.6400254108846496, 'macro_f1-score': 0.4084420428353776, 'balanced_accuracy': 0.3912891427611183, 'mcc': 0.536829766433477, 'train_loss': 0.12694433457984747}\n",
      "Epoch 12/20\n"
     ]
    },
    {
     "name": "stderr",
     "output_type": "stream",
     "text": [
      "100%|██████████| 328/328 [00:27<00:00, 11.73it/s]\n"
     ]
    },
    {
     "name": "stdout",
     "output_type": "stream",
     "text": [
      "{'val_loss': 2.1299610858465114, 'val_accuracy': 0.6407322654462243, 'precision': 0.645875514836374, 'recall': 0.6407322654462243, 'f1-score': 0.6311094102489523, 'macro_f1-score': 0.38056991576452986, 'balanced_accuracy': 0.37234229394243673, 'mcc': 0.5217888857250884, 'train_loss': 0.09595982538516315}\n",
      "Epoch 13/20\n"
     ]
    },
    {
     "name": "stderr",
     "output_type": "stream",
     "text": [
      "100%|██████████| 328/328 [00:27<00:00, 11.75it/s]\n"
     ]
    },
    {
     "name": "stdout",
     "output_type": "stream",
     "text": [
      "{'val_loss': 2.1621885623146846, 'val_accuracy': 0.6323417238749046, 'precision': 0.641205734802772, 'recall': 0.6323417238749046, 'f1-score': 0.627450157000428, 'macro_f1-score': 0.3840894358419096, 'balanced_accuracy': 0.4114047492514216, 'mcc': 0.5223516010620356, 'train_loss': 0.08890777435820982}\n",
      "Epoch 14/20\n"
     ]
    },
    {
     "name": "stderr",
     "output_type": "stream",
     "text": [
      "100%|██████████| 328/328 [00:27<00:00, 11.72it/s]\n"
     ]
    },
    {
     "name": "stdout",
     "output_type": "stream",
     "text": [
      "{'val_loss': 2.0842264787089535, 'val_accuracy': 0.6521739130434783, 'precision': 0.6430499482789405, 'recall': 0.6521739130434783, 'f1-score': 0.6390303416910107, 'macro_f1-score': 0.3899018712958365, 'balanced_accuracy': 0.3862008642804642, 'mcc': 0.5394389331451735, 'train_loss': 0.1301694035149611}\n",
      "Early stopping.\n",
      "\n",
      "[Fold 5]\n",
      "Label distribution after resampling:\n",
      "  label 0: 2472\n",
      "  label 1: 21\n",
      "  label 2: 64\n",
      "  label 3: 24\n",
      "  label 4: 191\n",
      "  label 5: 112\n",
      "  label 6: 92\n",
      "  label 7: 31\n",
      "  label 8: 68\n",
      "  label 9: 29\n",
      "  label 10: 68\n",
      "  label 11: 168\n",
      "  label 12: 190\n",
      "  label 13: 29\n",
      "  label 14: 22\n",
      "  label 15: 25\n",
      "  label 16: 19\n",
      "  label 17: 183\n",
      "  label 18: 92\n",
      "  label 19: 44\n",
      "  label 20: 14\n",
      "  label 21: 35\n",
      "  label 22: 76\n",
      "  label 23: 158\n",
      "  label 24: 13\n",
      "  label 25: 44\n",
      "  label 26: 84\n",
      "  label 27: 48\n",
      "  label 28: 11\n",
      "  label 29: 13\n",
      "  label 30: 11\n",
      "  label 31: 75\n",
      "  label 32: 36\n",
      "  label 33: 31\n",
      "  label 34: 30\n",
      "  label 35: 11\n",
      "  label 36: 22\n",
      "  label 37: 16\n",
      "  label 38: 33\n",
      "  label 39: 10\n",
      "  label 40: 9\n",
      "  label 41: 57\n",
      "  label 42: 18\n",
      "  label 43: 9\n",
      "  label 44: 54\n",
      "  label 45: 242\n",
      "  label 46: 61\n",
      "  label 47: 80\n",
      "model is bert-base-uncased cnn\n",
      "Epoch 1/20\n"
     ]
    },
    {
     "name": "stderr",
     "output_type": "stream",
     "text": [
      "100%|██████████| 328/328 [00:27<00:00, 11.74it/s]\n"
     ]
    },
    {
     "name": "stdout",
     "output_type": "stream",
     "text": [
      "{'val_loss': 1.7053851783275604, 'val_accuracy': 0.5774218154080855, 'precision': 0.44757330302705495, 'recall': 0.5774218154080855, 'f1-score': 0.4774991670669268, 'macro_f1-score': 0.09247403094772595, 'balanced_accuracy': 0.11190527497603275, 'mcc': 0.3947021806033506, 'train_loss': 2.149357300342583}\n",
      "Epoch 2/20\n"
     ]
    },
    {
     "name": "stderr",
     "output_type": "stream",
     "text": [
      "100%|██████████| 328/328 [00:27<00:00, 11.74it/s]\n"
     ]
    },
    {
     "name": "stdout",
     "output_type": "stream",
     "text": [
      "{'val_loss': 1.4305810215996533, 'val_accuracy': 0.6460717009916095, 'precision': 0.5581650723467971, 'recall': 0.6460717009916095, 'f1-score': 0.5728010998589256, 'macro_f1-score': 0.22061227000972916, 'balanced_accuracy': 0.21536336100461373, 'mcc': 0.5007049623714839, 'train_loss': 1.5294616768454634}\n",
      "Epoch 3/20\n"
     ]
    },
    {
     "name": "stderr",
     "output_type": "stream",
     "text": [
      "100%|██████████| 328/328 [00:28<00:00, 11.65it/s]\n"
     ]
    },
    {
     "name": "stdout",
     "output_type": "stream",
     "text": [
      "{'val_loss': 1.342432339016984, 'val_accuracy': 0.6590389016018307, 'precision': 0.6105843469215998, 'recall': 0.6590389016018307, 'f1-score': 0.6262926523769515, 'macro_f1-score': 0.29133570423182276, 'balanced_accuracy': 0.3049657154463545, 'mcc': 0.5404213789065017, 'train_loss': 1.1395883669213551}\n",
      "Epoch 4/20\n"
     ]
    },
    {
     "name": "stderr",
     "output_type": "stream",
     "text": [
      "100%|██████████| 328/328 [00:27<00:00, 11.74it/s]\n"
     ]
    },
    {
     "name": "stdout",
     "output_type": "stream",
     "text": [
      "{'val_loss': 1.3874165586582043, 'val_accuracy': 0.6376811594202898, 'precision': 0.6214809198415765, 'recall': 0.6376811594202898, 'f1-score': 0.6147373936347109, 'macro_f1-score': 0.28690350954953564, 'balanced_accuracy': 0.3114803853967159, 'mcc': 0.5288707740829564, 'train_loss': 0.7945389715818371}\n",
      "Epoch 5/20\n"
     ]
    },
    {
     "name": "stderr",
     "output_type": "stream",
     "text": [
      "100%|██████████| 328/328 [00:27<00:00, 11.75it/s]\n"
     ]
    },
    {
     "name": "stdout",
     "output_type": "stream",
     "text": [
      "{'val_loss': 1.4721538162812955, 'val_accuracy': 0.6247139588100686, 'precision': 0.6305900098333427, 'recall': 0.6247139588100686, 'f1-score': 0.6156998895230138, 'macro_f1-score': 0.3322841353755516, 'balanced_accuracy': 0.3531475941677214, 'mcc': 0.5171522067475353, 'train_loss': 0.5547708511897703}\n",
      "Epoch 6/20\n"
     ]
    },
    {
     "name": "stderr",
     "output_type": "stream",
     "text": [
      "100%|██████████| 328/328 [00:28<00:00, 11.62it/s]\n"
     ]
    },
    {
     "name": "stdout",
     "output_type": "stream",
     "text": [
      "{'val_loss': 1.5477699473863695, 'val_accuracy': 0.6308161708619374, 'precision': 0.6417622673252438, 'recall': 0.6308161708619374, 'f1-score': 0.6270824092295876, 'macro_f1-score': 0.3663300705843022, 'balanced_accuracy': 0.38449470313329703, 'mcc': 0.5258319599178879, 'train_loss': 0.3656523731628024}\n",
      "Epoch 7/20\n"
     ]
    },
    {
     "name": "stderr",
     "output_type": "stream",
     "text": [
      "100%|██████████| 328/328 [00:28<00:00, 11.54it/s]\n"
     ]
    },
    {
     "name": "stdout",
     "output_type": "stream",
     "text": [
      "{'val_loss': 1.7161779236502763, 'val_accuracy': 0.6216628527841342, 'precision': 0.6604473854088054, 'recall': 0.6216628527841342, 'f1-score': 0.6290199593422973, 'macro_f1-score': 0.39110329174971836, 'balanced_accuracy': 0.43155138895658435, 'mcc': 0.5278846256870902, 'train_loss': 0.24580400079352463}\n",
      "Epoch 8/20\n"
     ]
    },
    {
     "name": "stderr",
     "output_type": "stream",
     "text": [
      "100%|██████████| 328/328 [00:28<00:00, 11.52it/s]\n"
     ]
    },
    {
     "name": "stdout",
     "output_type": "stream",
     "text": [
      "{'val_loss': 1.6458925564841527, 'val_accuracy': 0.6605644546147978, 'precision': 0.6622574038038131, 'recall': 0.6605644546147978, 'f1-score': 0.6534200480140483, 'macro_f1-score': 0.4312547895558108, 'balanced_accuracy': 0.4171682976039249, 'mcc': 0.5547054789127986, 'train_loss': 0.1659029426092918}\n",
      "Epoch 9/20\n"
     ]
    },
    {
     "name": "stderr",
     "output_type": "stream",
     "text": [
      "100%|██████████| 328/328 [00:28<00:00, 11.45it/s]\n"
     ]
    },
    {
     "name": "stdout",
     "output_type": "stream",
     "text": [
      "{'val_loss': 1.7917408350764252, 'val_accuracy': 0.6506483600305111, 'precision': 0.6417467704262616, 'recall': 0.6506483600305111, 'f1-score': 0.635446093940402, 'macro_f1-score': 0.39279174622235385, 'balanced_accuracy': 0.3732974238258202, 'mcc': 0.5363898294368238, 'train_loss': 0.14318247429214465}\n",
      "Epoch 10/20\n"
     ]
    },
    {
     "name": "stderr",
     "output_type": "stream",
     "text": [
      "100%|██████████| 328/328 [00:28<00:00, 11.53it/s]\n"
     ]
    },
    {
     "name": "stdout",
     "output_type": "stream",
     "text": [
      "{'val_loss': 1.7212308814249389, 'val_accuracy': 0.6735316552250191, 'precision': 0.6681098297250458, 'recall': 0.6735316552250191, 'f1-score': 0.6591260128643122, 'macro_f1-score': 0.41825296054145583, 'balanced_accuracy': 0.4114685708754202, 'mcc': 0.565076962156832, 'train_loss': 0.12967415076322716}\n",
      "Epoch 11/20\n"
     ]
    },
    {
     "name": "stderr",
     "output_type": "stream",
     "text": [
      "100%|██████████| 328/328 [00:28<00:00, 11.56it/s]\n"
     ]
    },
    {
     "name": "stdout",
     "output_type": "stream",
     "text": [
      "{'val_loss': 1.8867964886310624, 'val_accuracy': 0.6613272311212814, 'precision': 0.6552891660640462, 'recall': 0.6613272311212814, 'f1-score': 0.6494392102524066, 'macro_f1-score': 0.41576405233430175, 'balanced_accuracy': 0.40052597982535615, 'mcc': 0.5505688786239803, 'train_loss': 0.09420902183614444}\n",
      "Early stopping.\n",
      "\n",
      " === bert-base-uncased + cnn + none Final 5-fold Cross-Validation Results ===\n",
      "val_loss: 1.9172\n",
      "val_accuracy: 0.6602\n",
      "precision: 0.6511\n",
      "recall: 0.6602\n",
      "f1-score: 0.6450\n",
      "macro_f1-score: 0.4081\n",
      "balanced_accuracy: 0.3952\n",
      "mcc: 0.5450\n",
      "train_loss: 0.1293\n",
      "total_seconds: 2145.0000\n",
      "total_time: 0 hrs 35 mins 45 secs\n",
      "▶ Running: bert-base-uncased + lstm + none\n",
      "tokenizer is bert-base-uncased\n",
      "Using device: cuda\n",
      "CUDA Available: True\n",
      "CUDA Device: NVIDIA GeForce RTX 5070 Ti\n",
      "Current GPU Memory Allocated: 0.02 GB\n",
      "Current GPU Memory Cached: 3.05 GB\n",
      "\n",
      "[Fold 1]\n",
      "Label distribution after resampling:\n",
      "  label 0: 2471\n",
      "  label 1: 21\n",
      "  label 2: 64\n",
      "  label 3: 24\n",
      "  label 4: 191\n",
      "  label 5: 113\n",
      "  label 6: 93\n",
      "  label 7: 30\n",
      "  label 8: 68\n",
      "  label 9: 30\n",
      "  label 10: 67\n",
      "  label 11: 169\n",
      "  label 12: 189\n",
      "  label 13: 29\n",
      "  label 14: 22\n",
      "  label 15: 25\n",
      "  label 16: 19\n",
      "  label 17: 183\n",
      "  label 18: 92\n",
      "  label 19: 44\n",
      "  label 20: 13\n",
      "  label 21: 35\n",
      "  label 22: 76\n",
      "  label 23: 158\n",
      "  label 24: 13\n",
      "  label 25: 44\n",
      "  label 26: 84\n",
      "  label 27: 48\n",
      "  label 28: 11\n",
      "  label 29: 13\n",
      "  label 30: 11\n",
      "  label 31: 75\n",
      "  label 32: 36\n",
      "  label 33: 32\n",
      "  label 34: 29\n",
      "  label 35: 11\n",
      "  label 36: 22\n",
      "  label 37: 16\n",
      "  label 38: 33\n",
      "  label 39: 10\n",
      "  label 40: 9\n",
      "  label 41: 57\n",
      "  label 42: 19\n",
      "  label 43: 8\n",
      "  label 44: 54\n",
      "  label 45: 242\n",
      "  label 46: 61\n",
      "  label 47: 80\n",
      "model is bert-base-uncased lstm\n",
      "Epoch 1/20\n"
     ]
    },
    {
     "name": "stderr",
     "output_type": "stream",
     "text": [
      "100%|██████████| 328/328 [00:30<00:00, 10.77it/s]\n"
     ]
    },
    {
     "name": "stdout",
     "output_type": "stream",
     "text": [
      "{'val_loss': 2.0428600634743526, 'val_accuracy': 0.5396341463414634, 'precision': 0.32800523690730177, 'recall': 0.5396341463414634, 'f1-score': 0.40173821707440543, 'macro_f1-score': 0.05573181415102887, 'balanced_accuracy': 0.06154876187088023, 'mcc': 0.29230595734204995, 'train_loss': 2.314489260679338}\n",
      "Epoch 2/20\n"
     ]
    },
    {
     "name": "stderr",
     "output_type": "stream",
     "text": [
      "100%|██████████| 328/328 [00:30<00:00, 10.72it/s]\n"
     ]
    },
    {
     "name": "stdout",
     "output_type": "stream",
     "text": [
      "{'val_loss': 1.749605153028558, 'val_accuracy': 0.59375, 'precision': 0.4262527796268002, 'recall': 0.59375, 'f1-score': 0.48787688148087277, 'macro_f1-score': 0.0970520286735178, 'balanced_accuracy': 0.11902708850886441, 'mcc': 0.4170321527468503, 'train_loss': 1.8438029142051209}\n",
      "Epoch 3/20\n"
     ]
    },
    {
     "name": "stderr",
     "output_type": "stream",
     "text": [
      "100%|██████████| 328/328 [00:30<00:00, 10.76it/s]\n"
     ]
    },
    {
     "name": "stdout",
     "output_type": "stream",
     "text": [
      "{'val_loss': 1.663463617606861, 'val_accuracy': 0.5914634146341463, 'precision': 0.4940462976721161, 'recall': 0.5914634146341463, 'f1-score': 0.5276569632811416, 'macro_f1-score': 0.1445046416141429, 'balanced_accuracy': 0.1619143822315216, 'mcc': 0.439416559076829, 'train_loss': 1.5288741897519043}\n",
      "Epoch 4/20\n"
     ]
    },
    {
     "name": "stderr",
     "output_type": "stream",
     "text": [
      "100%|██████████| 328/328 [00:30<00:00, 10.77it/s]\n"
     ]
    },
    {
     "name": "stdout",
     "output_type": "stream",
     "text": [
      "{'val_loss': 1.6477605546029603, 'val_accuracy': 0.6173780487804879, 'precision': 0.5674806040275989, 'recall': 0.6173780487804879, 'f1-score': 0.5706607469886946, 'macro_f1-score': 0.2119547284274604, 'balanced_accuracy': 0.2188093016840789, 'mcc': 0.47333584546932833, 'train_loss': 1.2806707157230959}\n",
      "Epoch 5/20\n"
     ]
    },
    {
     "name": "stderr",
     "output_type": "stream",
     "text": [
      "100%|██████████| 328/328 [00:30<00:00, 10.77it/s]\n"
     ]
    },
    {
     "name": "stdout",
     "output_type": "stream",
     "text": [
      "{'val_loss': 1.5184016823768616, 'val_accuracy': 0.6242378048780488, 'precision': 0.5863625425996875, 'recall': 0.6242378048780488, 'f1-score': 0.5933937970179389, 'macro_f1-score': 0.2505081664560554, 'balanced_accuracy': 0.26422606264583237, 'mcc': 0.49584671036454664, 'train_loss': 1.0632173371751135}\n",
      "Epoch 6/20\n"
     ]
    },
    {
     "name": "stderr",
     "output_type": "stream",
     "text": [
      "100%|██████████| 328/328 [00:30<00:00, 10.74it/s]\n"
     ]
    },
    {
     "name": "stdout",
     "output_type": "stream",
     "text": [
      "{'val_loss': 1.589825587119998, 'val_accuracy': 0.6349085365853658, 'precision': 0.5865725005711668, 'recall': 0.6349085365853658, 'f1-score': 0.6018713215283324, 'macro_f1-score': 0.2841949519030089, 'balanced_accuracy': 0.28544854232353334, 'mcc': 0.5000544988515533, 'train_loss': 0.8937275484431444}\n",
      "Epoch 7/20\n"
     ]
    },
    {
     "name": "stderr",
     "output_type": "stream",
     "text": [
      "100%|██████████| 328/328 [00:30<00:00, 10.79it/s]\n"
     ]
    },
    {
     "name": "stdout",
     "output_type": "stream",
     "text": [
      "{'val_loss': 1.6614421636956493, 'val_accuracy': 0.6150914634146342, 'precision': 0.6148129770726727, 'recall': 0.6150914634146342, 'f1-score': 0.6014501777783197, 'macro_f1-score': 0.3123188602324079, 'balanced_accuracy': 0.32320435787297946, 'mcc': 0.49258988189203534, 'train_loss': 0.7270422940051592}\n",
      "Epoch 8/20\n"
     ]
    },
    {
     "name": "stderr",
     "output_type": "stream",
     "text": [
      "100%|██████████| 328/328 [00:30<00:00, 10.70it/s]\n"
     ]
    },
    {
     "name": "stdout",
     "output_type": "stream",
     "text": [
      "{'val_loss': 1.6044693850889438, 'val_accuracy': 0.6509146341463414, 'precision': 0.6224442051217137, 'recall': 0.6509146341463414, 'f1-score': 0.6279285821642167, 'macro_f1-score': 0.34413425135897785, 'balanced_accuracy': 0.33663707515521946, 'mcc': 0.5312141245112693, 'train_loss': 0.6030130068794256}\n",
      "Epoch 9/20\n"
     ]
    },
    {
     "name": "stderr",
     "output_type": "stream",
     "text": [
      "100%|██████████| 328/328 [00:30<00:00, 10.73it/s]\n"
     ]
    },
    {
     "name": "stdout",
     "output_type": "stream",
     "text": [
      "{'val_loss': 1.6866130906997658, 'val_accuracy': 0.6341463414634146, 'precision': 0.6197658911033211, 'recall': 0.6341463414634146, 'f1-score': 0.6185445095379188, 'macro_f1-score': 0.33975169681116774, 'balanced_accuracy': 0.3432837297005646, 'mcc': 0.5095472321942925, 'train_loss': 0.5155711013642026}\n",
      "Epoch 10/20\n"
     ]
    },
    {
     "name": "stderr",
     "output_type": "stream",
     "text": [
      "100%|██████████| 328/328 [00:30<00:00, 10.81it/s]\n"
     ]
    },
    {
     "name": "stdout",
     "output_type": "stream",
     "text": [
      "{'val_loss': 1.6826771432306709, 'val_accuracy': 0.6471036585365854, 'precision': 0.6269243174037865, 'recall': 0.6471036585365854, 'f1-score': 0.6298280357383977, 'macro_f1-score': 0.3528987650271138, 'balanced_accuracy': 0.3511494462618185, 'mcc': 0.526940984709262, 'train_loss': 0.4155702065994463}\n",
      "Epoch 11/20\n"
     ]
    },
    {
     "name": "stderr",
     "output_type": "stream",
     "text": [
      "100%|██████████| 328/328 [00:30<00:00, 10.83it/s]\n"
     ]
    },
    {
     "name": "stdout",
     "output_type": "stream",
     "text": [
      "{'val_loss': 1.7235104617003987, 'val_accuracy': 0.649390243902439, 'precision': 0.6337530446142279, 'recall': 0.649390243902439, 'f1-score': 0.6315871203790168, 'macro_f1-score': 0.381549147789719, 'balanced_accuracy': 0.38573584746105966, 'mcc': 0.5298205916730278, 'train_loss': 0.3687363577120733}\n",
      "Epoch 12/20\n"
     ]
    },
    {
     "name": "stderr",
     "output_type": "stream",
     "text": [
      "100%|██████████| 328/328 [00:30<00:00, 10.75it/s]\n"
     ]
    },
    {
     "name": "stdout",
     "output_type": "stream",
     "text": [
      "{'val_loss': 1.7802925393348787, 'val_accuracy': 0.6471036585365854, 'precision': 0.6240429390884973, 'recall': 0.6471036585365854, 'f1-score': 0.6303579897827073, 'macro_f1-score': 0.35462257397653163, 'balanced_accuracy': 0.3499177893614207, 'mcc': 0.525146868573984, 'train_loss': 0.335608306709995}\n",
      "Epoch 13/20\n"
     ]
    },
    {
     "name": "stderr",
     "output_type": "stream",
     "text": [
      "100%|██████████| 328/328 [00:30<00:00, 10.71it/s]\n"
     ]
    },
    {
     "name": "stdout",
     "output_type": "stream",
     "text": [
      "{'val_loss': 1.8201983322094126, 'val_accuracy': 0.6432926829268293, 'precision': 0.6415006709855657, 'recall': 0.6432926829268293, 'f1-score': 0.631225801807424, 'macro_f1-score': 0.38513988479903355, 'balanced_accuracy': 0.4075867159949147, 'mcc': 0.5231497741943345, 'train_loss': 0.3156216459507804}\n",
      "Epoch 14/20\n"
     ]
    },
    {
     "name": "stderr",
     "output_type": "stream",
     "text": [
      "100%|██████████| 328/328 [00:30<00:00, 10.71it/s]\n"
     ]
    },
    {
     "name": "stdout",
     "output_type": "stream",
     "text": [
      "{'val_loss': 1.7285571530824755, 'val_accuracy': 0.6448170731707317, 'precision': 0.6353765294049077, 'recall': 0.6448170731707317, 'f1-score': 0.634046161146745, 'macro_f1-score': 0.394795903829543, 'balanced_accuracy': 0.4039716281506707, 'mcc': 0.527789071402306, 'train_loss': 0.27449688249517507}\n",
      "Epoch 15/20\n"
     ]
    },
    {
     "name": "stderr",
     "output_type": "stream",
     "text": [
      "100%|██████████| 328/328 [00:30<00:00, 10.74it/s]\n"
     ]
    },
    {
     "name": "stdout",
     "output_type": "stream",
     "text": [
      "{'val_loss': 1.9404383074583076, 'val_accuracy': 0.6333841463414634, 'precision': 0.622648411418098, 'recall': 0.6333841463414634, 'f1-score': 0.6149585980818251, 'macro_f1-score': 0.3897161933031142, 'balanced_accuracy': 0.3645508216383839, 'mcc': 0.5013592238085295, 'train_loss': 0.22624105223022947}\n",
      "Epoch 16/20\n"
     ]
    },
    {
     "name": "stderr",
     "output_type": "stream",
     "text": [
      "100%|██████████| 328/328 [00:30<00:00, 10.78it/s]\n"
     ]
    },
    {
     "name": "stdout",
     "output_type": "stream",
     "text": [
      "{'val_loss': 1.911540767359661, 'val_accuracy': 0.6326219512195121, 'precision': 0.6433548388515147, 'recall': 0.6326219512195121, 'f1-score': 0.6273223597022201, 'macro_f1-score': 0.392371339614985, 'balanced_accuracy': 0.3988157757747504, 'mcc': 0.5155387358248176, 'train_loss': 0.20472946850492096}\n",
      "Epoch 17/20\n"
     ]
    },
    {
     "name": "stderr",
     "output_type": "stream",
     "text": [
      "100%|██████████| 328/328 [00:30<00:00, 10.78it/s]\n"
     ]
    },
    {
     "name": "stdout",
     "output_type": "stream",
     "text": [
      "{'val_loss': 1.8902602726366462, 'val_accuracy': 0.6478658536585366, 'precision': 0.650048849135861, 'recall': 0.6478658536585366, 'f1-score': 0.6400726370947454, 'macro_f1-score': 0.4187640403346143, 'balanced_accuracy': 0.432302534029217, 'mcc': 0.5319795619937343, 'train_loss': 0.16607535156285072}\n",
      "Epoch 18/20\n"
     ]
    },
    {
     "name": "stderr",
     "output_type": "stream",
     "text": [
      "100%|██████████| 328/328 [00:30<00:00, 10.79it/s]\n"
     ]
    },
    {
     "name": "stdout",
     "output_type": "stream",
     "text": [
      "{'val_loss': 2.017316091351393, 'val_accuracy': 0.6349085365853658, 'precision': 0.6290015777921731, 'recall': 0.6349085365853658, 'f1-score': 0.6258437183515685, 'macro_f1-score': 0.404267522621462, 'balanced_accuracy': 0.41776026827295604, 'mcc': 0.5174261879788574, 'train_loss': 0.17764420787769755}\n",
      "Epoch 19/20\n"
     ]
    },
    {
     "name": "stderr",
     "output_type": "stream",
     "text": [
      "100%|██████████| 328/328 [00:30<00:00, 10.81it/s]\n"
     ]
    },
    {
     "name": "stdout",
     "output_type": "stream",
     "text": [
      "{'val_loss': 1.965489038425248, 'val_accuracy': 0.6425304878048781, 'precision': 0.6466845141735799, 'recall': 0.6425304878048781, 'f1-score': 0.6341927777872147, 'macro_f1-score': 0.4152895091320112, 'balanced_accuracy': 0.4223374524239407, 'mcc': 0.5261434857039352, 'train_loss': 0.15481125426808054}\n",
      "Epoch 20/20\n"
     ]
    },
    {
     "name": "stderr",
     "output_type": "stream",
     "text": [
      "100%|██████████| 328/328 [00:30<00:00, 10.80it/s]\n"
     ]
    },
    {
     "name": "stdout",
     "output_type": "stream",
     "text": [
      "{'val_loss': 1.9864458761564114, 'val_accuracy': 0.6341463414634146, 'precision': 0.6444293715506181, 'recall': 0.6341463414634146, 'f1-score': 0.6182966237387924, 'macro_f1-score': 0.38272784682251365, 'balanced_accuracy': 0.3863701174553568, 'mcc': 0.5081040219936939, 'train_loss': 0.1766865844923503}\n",
      "Early stopping.\n",
      "\n",
      "[Fold 2]\n",
      "Label distribution after resampling:\n",
      "  label 0: 2471\n",
      "  label 1: 22\n",
      "  label 2: 64\n",
      "  label 3: 24\n",
      "  label 4: 190\n",
      "  label 5: 113\n",
      "  label 6: 93\n",
      "  label 7: 30\n",
      "  label 8: 68\n",
      "  label 9: 30\n",
      "  label 10: 67\n",
      "  label 11: 169\n",
      "  label 12: 189\n",
      "  label 13: 29\n",
      "  label 14: 23\n",
      "  label 15: 24\n",
      "  label 16: 20\n",
      "  label 17: 182\n",
      "  label 18: 92\n",
      "  label 19: 44\n",
      "  label 20: 13\n",
      "  label 21: 36\n",
      "  label 22: 76\n",
      "  label 23: 157\n",
      "  label 24: 12\n",
      "  label 25: 44\n",
      "  label 26: 84\n",
      "  label 27: 48\n",
      "  label 28: 12\n",
      "  label 29: 12\n",
      "  label 30: 12\n",
      "  label 31: 75\n",
      "  label 32: 36\n",
      "  label 33: 31\n",
      "  label 34: 29\n",
      "  label 35: 12\n",
      "  label 36: 21\n",
      "  label 37: 16\n",
      "  label 38: 33\n",
      "  label 39: 11\n",
      "  label 40: 8\n",
      "  label 41: 57\n",
      "  label 42: 19\n",
      "  label 43: 9\n",
      "  label 44: 54\n",
      "  label 45: 242\n",
      "  label 46: 62\n",
      "  label 47: 80\n",
      "model is bert-base-uncased lstm\n",
      "Epoch 1/20\n"
     ]
    },
    {
     "name": "stderr",
     "output_type": "stream",
     "text": [
      "100%|██████████| 328/328 [00:30<00:00, 10.81it/s]\n"
     ]
    },
    {
     "name": "stdout",
     "output_type": "stream",
     "text": [
      "{'val_loss': 1.960828324643577, 'val_accuracy': 0.5568268497330282, 'precision': 0.37407288390180776, 'recall': 0.5568268497330282, 'f1-score': 0.4216865713914296, 'macro_f1-score': 0.05778180892471174, 'balanced_accuracy': 0.07299520153671431, 'mcc': 0.33434334707321967, 'train_loss': 2.2848435147869877}\n",
      "Epoch 2/20\n"
     ]
    },
    {
     "name": "stderr",
     "output_type": "stream",
     "text": [
      "100%|██████████| 328/328 [00:30<00:00, 10.75it/s]\n"
     ]
    },
    {
     "name": "stdout",
     "output_type": "stream",
     "text": [
      "{'val_loss': 1.6674165812934316, 'val_accuracy': 0.6003051106025934, 'precision': 0.4639444011179097, 'recall': 0.6003051106025934, 'f1-score': 0.5138278571239776, 'macro_f1-score': 0.12264251069481491, 'balanced_accuracy': 0.14483512871871695, 'mcc': 0.4407262484407231, 'train_loss': 1.7694082625392007}\n",
      "Epoch 3/20\n"
     ]
    },
    {
     "name": "stderr",
     "output_type": "stream",
     "text": [
      "100%|██████████| 328/328 [00:30<00:00, 10.60it/s]\n"
     ]
    },
    {
     "name": "stdout",
     "output_type": "stream",
     "text": [
      "{'val_loss': 1.5885001987945744, 'val_accuracy': 0.6125095347063311, 'precision': 0.5130688872987232, 'recall': 0.6125095347063311, 'f1-score': 0.5441886597446597, 'macro_f1-score': 0.1884428207981601, 'balanced_accuracy': 0.19232941170014026, 'mcc': 0.4550071519698521, 'train_loss': 1.4464024888669573}\n",
      "Epoch 4/20\n"
     ]
    },
    {
     "name": "stderr",
     "output_type": "stream",
     "text": [
      "100%|██████████| 328/328 [00:30<00:00, 10.63it/s]\n"
     ]
    },
    {
     "name": "stdout",
     "output_type": "stream",
     "text": [
      "{'val_loss': 1.6315399829934283, 'val_accuracy': 0.6216628527841342, 'precision': 0.5561441153570236, 'recall': 0.6216628527841342, 'f1-score': 0.5706271368091995, 'macro_f1-score': 0.2266466135001964, 'balanced_accuracy': 0.22671641506261142, 'mcc': 0.4734385296747581, 'train_loss': 1.1869847545536554}\n",
      "Epoch 5/20\n"
     ]
    },
    {
     "name": "stderr",
     "output_type": "stream",
     "text": [
      "100%|██████████| 328/328 [00:30<00:00, 10.79it/s]\n"
     ]
    },
    {
     "name": "stdout",
     "output_type": "stream",
     "text": [
      "{'val_loss': 1.6080081717270176, 'val_accuracy': 0.6300533943554538, 'precision': 0.5597465203622876, 'recall': 0.6300533943554538, 'f1-score': 0.5835814333484189, 'macro_f1-score': 0.22981342916172162, 'balanced_accuracy': 0.22728920211571102, 'mcc': 0.4904426949859197, 'train_loss': 0.9610143561007046}\n",
      "Epoch 6/20\n"
     ]
    },
    {
     "name": "stderr",
     "output_type": "stream",
     "text": [
      "100%|██████████| 328/328 [00:30<00:00, 10.76it/s]\n"
     ]
    },
    {
     "name": "stdout",
     "output_type": "stream",
     "text": [
      "{'val_loss': 1.6015823628844283, 'val_accuracy': 0.6193745232646835, 'precision': 0.6108193241581721, 'recall': 0.6193745232646835, 'f1-score': 0.5987847887803893, 'macro_f1-score': 0.27485417696296555, 'balanced_accuracy': 0.29832062861567826, 'mcc': 0.4982275795554375, 'train_loss': 0.7739033899383574}\n",
      "Epoch 7/20\n"
     ]
    },
    {
     "name": "stderr",
     "output_type": "stream",
     "text": [
      "100%|██████████| 328/328 [00:30<00:00, 10.75it/s]\n"
     ]
    },
    {
     "name": "stdout",
     "output_type": "stream",
     "text": [
      "{'val_loss': 1.6084573094437762, 'val_accuracy': 0.6285278413424866, 'precision': 0.585411594667465, 'recall': 0.6285278413424866, 'f1-score': 0.5914047634295886, 'macro_f1-score': 0.25582379872486144, 'balanced_accuracy': 0.2693582593290371, 'mcc': 0.4979693143304259, 'train_loss': 0.6545474775044656}\n",
      "Epoch 8/20\n"
     ]
    },
    {
     "name": "stderr",
     "output_type": "stream",
     "text": [
      "100%|██████████| 328/328 [00:30<00:00, 10.79it/s]\n"
     ]
    },
    {
     "name": "stdout",
     "output_type": "stream",
     "text": [
      "{'val_loss': 1.5963627209023732, 'val_accuracy': 0.631578947368421, 'precision': 0.6020154774543474, 'recall': 0.631578947368421, 'f1-score': 0.5983527444321133, 'macro_f1-score': 0.26623951682275554, 'balanced_accuracy': 0.28370706441084376, 'mcc': 0.502558413240175, 'train_loss': 0.5622625008634314}\n",
      "Epoch 9/20\n"
     ]
    },
    {
     "name": "stderr",
     "output_type": "stream",
     "text": [
      "100%|██████████| 328/328 [00:30<00:00, 10.75it/s]\n"
     ]
    },
    {
     "name": "stdout",
     "output_type": "stream",
     "text": [
      "{'val_loss': 1.6292024138497143, 'val_accuracy': 0.6437833714721587, 'precision': 0.6117644798650209, 'recall': 0.6437833714721587, 'f1-score': 0.6187463989320787, 'macro_f1-score': 0.3233944751041324, 'balanced_accuracy': 0.3241360474209091, 'mcc': 0.5221367701627314, 'train_loss': 0.4507058650913944}\n",
      "Epoch 10/20\n"
     ]
    },
    {
     "name": "stderr",
     "output_type": "stream",
     "text": [
      "100%|██████████| 328/328 [00:31<00:00, 10.56it/s]\n"
     ]
    },
    {
     "name": "stdout",
     "output_type": "stream",
     "text": [
      "{'val_loss': 1.619732282510618, 'val_accuracy': 0.623951182303585, 'precision': 0.6483918862133118, 'recall': 0.623951182303585, 'f1-score': 0.6257468126416859, 'macro_f1-score': 0.36867200819413465, 'balanced_accuracy': 0.3798138058212577, 'mcc': 0.5146255788158395, 'train_loss': 0.3906461609209456}\n",
      "Epoch 11/20\n"
     ]
    },
    {
     "name": "stderr",
     "output_type": "stream",
     "text": [
      "100%|██████████| 328/328 [00:31<00:00, 10.46it/s]\n"
     ]
    },
    {
     "name": "stdout",
     "output_type": "stream",
     "text": [
      "{'val_loss': 1.6434776721204198, 'val_accuracy': 0.6475972540045767, 'precision': 0.6454242730244611, 'recall': 0.6475972540045767, 'f1-score': 0.6398039234263289, 'macro_f1-score': 0.3810975721259835, 'balanced_accuracy': 0.39361737030201366, 'mcc': 0.5372175847923911, 'train_loss': 0.3283568492170605}\n",
      "Epoch 12/20\n"
     ]
    },
    {
     "name": "stderr",
     "output_type": "stream",
     "text": [
      "100%|██████████| 328/328 [00:30<00:00, 10.76it/s]\n"
     ]
    },
    {
     "name": "stdout",
     "output_type": "stream",
     "text": [
      "{'val_loss': 1.7214078605175018, 'val_accuracy': 0.6521739130434783, 'precision': 0.6278055406977174, 'recall': 0.6521739130434783, 'f1-score': 0.6301039655658098, 'macro_f1-score': 0.3435280303709581, 'balanced_accuracy': 0.33259395504384615, 'mcc': 0.530409988040199, 'train_loss': 0.2593795909069297}\n",
      "Epoch 13/20\n"
     ]
    },
    {
     "name": "stderr",
     "output_type": "stream",
     "text": [
      "100%|██████████| 328/328 [00:31<00:00, 10.56it/s]\n"
     ]
    },
    {
     "name": "stdout",
     "output_type": "stream",
     "text": [
      "{'val_loss': 1.6896037735590121, 'val_accuracy': 0.6422578184591915, 'precision': 0.6255283044995735, 'recall': 0.6422578184591915, 'f1-score': 0.6256539082881579, 'macro_f1-score': 0.36220395080102313, 'balanced_accuracy': 0.3627755086200865, 'mcc': 0.5222528345576064, 'train_loss': 0.26369012633293143}\n",
      "Epoch 14/20\n"
     ]
    },
    {
     "name": "stderr",
     "output_type": "stream",
     "text": [
      "100%|██████████| 328/328 [00:30<00:00, 10.76it/s]\n"
     ]
    },
    {
     "name": "stdout",
     "output_type": "stream",
     "text": [
      "{'val_loss': 1.735691348227059, 'val_accuracy': 0.6567505720823799, 'precision': 0.6477337748324759, 'recall': 0.6567505720823799, 'f1-score': 0.6447158225289602, 'macro_f1-score': 0.39038478414500527, 'balanced_accuracy': 0.3922473787672292, 'mcc': 0.5457115533760761, 'train_loss': 0.21661444208811878}\n",
      "Epoch 15/20\n"
     ]
    },
    {
     "name": "stderr",
     "output_type": "stream",
     "text": [
      "100%|██████████| 328/328 [00:30<00:00, 10.73it/s]\n"
     ]
    },
    {
     "name": "stdout",
     "output_type": "stream",
     "text": [
      "{'val_loss': 1.7874754859906872, 'val_accuracy': 0.6521739130434783, 'precision': 0.6267552175619407, 'recall': 0.6521739130434783, 'f1-score': 0.6301643508468958, 'macro_f1-score': 0.36457971915903126, 'balanced_accuracy': 0.35626120114641385, 'mcc': 0.5292483980849038, 'train_loss': 0.26329194728523586}\n",
      "Epoch 16/20\n"
     ]
    },
    {
     "name": "stderr",
     "output_type": "stream",
     "text": [
      "100%|██████████| 328/328 [00:30<00:00, 10.72it/s]\n"
     ]
    },
    {
     "name": "stdout",
     "output_type": "stream",
     "text": [
      "{'val_loss': 1.8047959063111283, 'val_accuracy': 0.6422578184591915, 'precision': 0.6437047172928475, 'recall': 0.6422578184591915, 'f1-score': 0.6349204912762579, 'macro_f1-score': 0.397571898468863, 'balanced_accuracy': 0.40736047677505693, 'mcc': 0.5300940872765304, 'train_loss': 0.18983766926656953}\n",
      "Epoch 17/20\n"
     ]
    },
    {
     "name": "stderr",
     "output_type": "stream",
     "text": [
      "100%|██████████| 328/328 [00:30<00:00, 10.62it/s]\n"
     ]
    },
    {
     "name": "stdout",
     "output_type": "stream",
     "text": [
      "{'val_loss': 1.971879170071788, 'val_accuracy': 0.6376811594202898, 'precision': 0.6321268310003507, 'recall': 0.6376811594202898, 'f1-score': 0.6139631823479365, 'macro_f1-score': 0.35679785332070457, 'balanced_accuracy': 0.34035372049483925, 'mcc': 0.5027554544696538, 'train_loss': 0.15762930511349313}\n",
      "Epoch 18/20\n"
     ]
    },
    {
     "name": "stderr",
     "output_type": "stream",
     "text": [
      "100%|██████████| 328/328 [00:31<00:00, 10.46it/s]\n"
     ]
    },
    {
     "name": "stdout",
     "output_type": "stream",
     "text": [
      "{'val_loss': 1.92605953100251, 'val_accuracy': 0.6338672768878718, 'precision': 0.6333811793315665, 'recall': 0.6338672768878718, 'f1-score': 0.6189363648947707, 'macro_f1-score': 0.35664583165799274, 'balanced_accuracy': 0.3497966622475985, 'mcc': 0.5055555990533198, 'train_loss': 0.1533992223387652}\n",
      "Epoch 19/20\n"
     ]
    },
    {
     "name": "stderr",
     "output_type": "stream",
     "text": [
      "100%|██████████| 328/328 [00:30<00:00, 10.85it/s]\n"
     ]
    },
    {
     "name": "stdout",
     "output_type": "stream",
     "text": [
      "{'val_loss': 2.0580303821621873, 'val_accuracy': 0.6407322654462243, 'precision': 0.6161605910933996, 'recall': 0.6407322654462243, 'f1-score': 0.6164706210667278, 'macro_f1-score': 0.3519518189572303, 'balanced_accuracy': 0.3499832995358987, 'mcc': 0.5122592261132702, 'train_loss': 0.1615569902606672}\n",
      "Early stopping.\n",
      "\n",
      "[Fold 3]\n",
      "Label distribution after resampling:\n",
      "  label 0: 2471\n",
      "  label 1: 22\n",
      "  label 2: 64\n",
      "  label 3: 24\n",
      "  label 4: 190\n",
      "  label 5: 113\n",
      "  label 6: 93\n",
      "  label 7: 30\n",
      "  label 8: 68\n",
      "  label 9: 30\n",
      "  label 10: 67\n",
      "  label 11: 169\n",
      "  label 12: 190\n",
      "  label 13: 28\n",
      "  label 14: 23\n",
      "  label 15: 25\n",
      "  label 16: 19\n",
      "  label 17: 182\n",
      "  label 18: 92\n",
      "  label 19: 44\n",
      "  label 20: 14\n",
      "  label 21: 35\n",
      "  label 22: 76\n",
      "  label 23: 157\n",
      "  label 24: 13\n",
      "  label 25: 44\n",
      "  label 26: 84\n",
      "  label 27: 48\n",
      "  label 28: 11\n",
      "  label 29: 13\n",
      "  label 30: 11\n",
      "  label 31: 76\n",
      "  label 32: 36\n",
      "  label 33: 31\n",
      "  label 34: 30\n",
      "  label 35: 11\n",
      "  label 36: 21\n",
      "  label 37: 16\n",
      "  label 38: 32\n",
      "  label 39: 11\n",
      "  label 40: 9\n",
      "  label 41: 57\n",
      "  label 42: 18\n",
      "  label 43: 9\n",
      "  label 44: 55\n",
      "  label 45: 241\n",
      "  label 46: 62\n",
      "  label 47: 80\n",
      "model is bert-base-uncased lstm\n",
      "Epoch 1/20\n"
     ]
    },
    {
     "name": "stderr",
     "output_type": "stream",
     "text": [
      "100%|██████████| 328/328 [00:29<00:00, 10.95it/s]\n"
     ]
    },
    {
     "name": "stdout",
     "output_type": "stream",
     "text": [
      "{'val_loss': 1.9540976947400628, 'val_accuracy': 0.5675057208237986, 'precision': 0.3717968067984362, 'recall': 0.5675057208237986, 'f1-score': 0.4463236498355646, 'macro_f1-score': 0.0652660215405292, 'balanced_accuracy': 0.0862398803216861, 'mcc': 0.3656566895258618, 'train_loss': 2.2698495395299867}\n",
      "Epoch 2/20\n"
     ]
    },
    {
     "name": "stderr",
     "output_type": "stream",
     "text": [
      "100%|██████████| 328/328 [00:29<00:00, 11.17it/s]\n"
     ]
    },
    {
     "name": "stdout",
     "output_type": "stream",
     "text": [
      "{'val_loss': 1.7920865311128338, 'val_accuracy': 0.5842868039664378, 'precision': 0.4796384616944867, 'recall': 0.5842868039664378, 'f1-score': 0.5141667766951762, 'macro_f1-score': 0.12860020719734433, 'balanced_accuracy': 0.14130157713381064, 'mcc': 0.4183875693306189, 'train_loss': 1.7890709576810278}\n",
      "Epoch 3/20\n"
     ]
    },
    {
     "name": "stderr",
     "output_type": "stream",
     "text": [
      "100%|██████████| 328/328 [00:29<00:00, 11.19it/s]\n"
     ]
    },
    {
     "name": "stdout",
     "output_type": "stream",
     "text": [
      "{'val_loss': 1.7260534701550878, 'val_accuracy': 0.5774218154080855, 'precision': 0.4791612098965822, 'recall': 0.5774218154080855, 'f1-score': 0.5085928826666318, 'macro_f1-score': 0.15609636684995573, 'balanced_accuracy': 0.1680771721372195, 'mcc': 0.4098586121972278, 'train_loss': 1.516832509509674}\n",
      "Epoch 4/20\n"
     ]
    },
    {
     "name": "stderr",
     "output_type": "stream",
     "text": [
      "100%|██████████| 328/328 [00:29<00:00, 11.09it/s]\n"
     ]
    },
    {
     "name": "stdout",
     "output_type": "stream",
     "text": [
      "{'val_loss': 1.6255229133658293, 'val_accuracy': 0.5987795575896262, 'precision': 0.5312462197376393, 'recall': 0.5987795575896262, 'f1-score': 0.553487485646144, 'macro_f1-score': 0.19581726607461203, 'balanced_accuracy': 0.2013679391203631, 'mcc': 0.4529093140036584, 'train_loss': 1.28303041154655}\n",
      "Epoch 5/20\n"
     ]
    },
    {
     "name": "stderr",
     "output_type": "stream",
     "text": [
      "100%|██████████| 328/328 [00:30<00:00, 10.78it/s]\n"
     ]
    },
    {
     "name": "stdout",
     "output_type": "stream",
     "text": [
      "{'val_loss': 1.6406935217176997, 'val_accuracy': 0.6033562166285278, 'precision': 0.5660499559512059, 'recall': 0.6033562166285278, 'f1-score': 0.5751211614714032, 'macro_f1-score': 0.22420306663141085, 'balanced_accuracy': 0.2337549475142585, 'mcc': 0.47128377253364223, 'train_loss': 1.060175421079848}\n",
      "Epoch 6/20\n"
     ]
    },
    {
     "name": "stderr",
     "output_type": "stream",
     "text": [
      "100%|██████████| 328/328 [00:30<00:00, 10.80it/s]\n"
     ]
    },
    {
     "name": "stdout",
     "output_type": "stream",
     "text": [
      "{'val_loss': 1.7426226524318136, 'val_accuracy': 0.6117467581998475, 'precision': 0.5601383930067243, 'recall': 0.6117467581998475, 'f1-score': 0.5743914576889445, 'macro_f1-score': 0.24154375144883278, 'balanced_accuracy': 0.24204921592454723, 'mcc': 0.47325966960491433, 'train_loss': 0.8965335662772016}\n",
      "Epoch 7/20\n"
     ]
    },
    {
     "name": "stderr",
     "output_type": "stream",
     "text": [
      "100%|██████████| 328/328 [00:29<00:00, 11.14it/s]\n"
     ]
    },
    {
     "name": "stdout",
     "output_type": "stream",
     "text": [
      "{'val_loss': 1.7289990710049141, 'val_accuracy': 0.5919145690312738, 'precision': 0.5738063832073659, 'recall': 0.5919145690312738, 'f1-score': 0.5698245125934432, 'macro_f1-score': 0.25807785067361483, 'balanced_accuracy': 0.25990093103046213, 'mcc': 0.4617611599440696, 'train_loss': 0.784768037588858}\n",
      "Epoch 8/20\n"
     ]
    },
    {
     "name": "stderr",
     "output_type": "stream",
     "text": [
      "100%|██████████| 328/328 [00:29<00:00, 11.23it/s]\n"
     ]
    },
    {
     "name": "stdout",
     "output_type": "stream",
     "text": [
      "{'val_loss': 1.672714191057333, 'val_accuracy': 0.6369183829138062, 'precision': 0.6101010504654911, 'recall': 0.6369183829138062, 'f1-score': 0.6093963308394634, 'macro_f1-score': 0.2900807515171446, 'balanced_accuracy': 0.2931721166896663, 'mcc': 0.512970668577328, 'train_loss': 0.6544959121270151}\n",
      "Epoch 9/20\n"
     ]
    },
    {
     "name": "stderr",
     "output_type": "stream",
     "text": [
      "100%|██████████| 328/328 [00:29<00:00, 10.94it/s]\n"
     ]
    },
    {
     "name": "stdout",
     "output_type": "stream",
     "text": [
      "{'val_loss': 1.7119981793732177, 'val_accuracy': 0.6147978642257819, 'precision': 0.6031949363384622, 'recall': 0.6147978642257819, 'f1-score': 0.601542937133228, 'macro_f1-score': 0.29631198839617007, 'balanced_accuracy': 0.2995395461342559, 'mcc': 0.4974131641045377, 'train_loss': 0.5538797190912613}\n",
      "Epoch 10/20\n"
     ]
    },
    {
     "name": "stderr",
     "output_type": "stream",
     "text": [
      "100%|██████████| 328/328 [00:30<00:00, 10.76it/s]\n"
     ]
    },
    {
     "name": "stdout",
     "output_type": "stream",
     "text": [
      "{'val_loss': 1.7717239475104867, 'val_accuracy': 0.6346300533943554, 'precision': 0.6042249402415671, 'recall': 0.6346300533943554, 'f1-score': 0.6118301049036985, 'macro_f1-score': 0.32095127538293605, 'balanced_accuracy': 0.3046951772294186, 'mcc': 0.5059606198930725, 'train_loss': 0.4821785464314971}\n",
      "Epoch 11/20\n"
     ]
    },
    {
     "name": "stderr",
     "output_type": "stream",
     "text": [
      "100%|██████████| 328/328 [00:30<00:00, 10.74it/s]\n"
     ]
    },
    {
     "name": "stdout",
     "output_type": "stream",
     "text": [
      "{'val_loss': 1.7562271658240296, 'val_accuracy': 0.6079328756674295, 'precision': 0.6015963760356439, 'recall': 0.6079328756674295, 'f1-score': 0.5986707503076958, 'macro_f1-score': 0.31362190760611586, 'balanced_accuracy': 0.31034923102612094, 'mcc': 0.48443729647133477, 'train_loss': 0.42813200414430624}\n",
      "Epoch 12/20\n"
     ]
    },
    {
     "name": "stderr",
     "output_type": "stream",
     "text": [
      "100%|██████████| 328/328 [00:30<00:00, 10.78it/s]\n"
     ]
    },
    {
     "name": "stdout",
     "output_type": "stream",
     "text": [
      "{'val_loss': 1.729263185727887, 'val_accuracy': 0.6361556064073226, 'precision': 0.6289869782088363, 'recall': 0.6361556064073226, 'f1-score': 0.6228047891544152, 'macro_f1-score': 0.3550161179202207, 'balanced_accuracy': 0.34587012762151814, 'mcc': 0.5171309181861262, 'train_loss': 0.36087849376178005}\n",
      "Epoch 13/20\n"
     ]
    },
    {
     "name": "stderr",
     "output_type": "stream",
     "text": [
      "100%|██████████| 328/328 [00:30<00:00, 10.71it/s]\n"
     ]
    },
    {
     "name": "stdout",
     "output_type": "stream",
     "text": [
      "{'val_loss': 1.8264217616581335, 'val_accuracy': 0.6064073226544623, 'precision': 0.6214228913277321, 'recall': 0.6064073226544623, 'f1-score': 0.6078943943790504, 'macro_f1-score': 0.33334700468451955, 'balanced_accuracy': 0.3421820660627653, 'mcc': 0.49296314463246527, 'train_loss': 0.3333108201111871}\n",
      "Epoch 14/20\n"
     ]
    },
    {
     "name": "stderr",
     "output_type": "stream",
     "text": [
      "100%|██████████| 328/328 [00:30<00:00, 10.87it/s]\n"
     ]
    },
    {
     "name": "stdout",
     "output_type": "stream",
     "text": [
      "{'val_loss': 1.9009117020702944, 'val_accuracy': 0.6216628527841342, 'precision': 0.6170253854628741, 'recall': 0.6216628527841342, 'f1-score': 0.6103535739054968, 'macro_f1-score': 0.34233575333952854, 'balanced_accuracy': 0.3328656813033893, 'mcc': 0.49546244251503446, 'train_loss': 0.28517355488204377}\n",
      "Epoch 15/20\n"
     ]
    },
    {
     "name": "stderr",
     "output_type": "stream",
     "text": [
      "100%|██████████| 328/328 [00:29<00:00, 11.21it/s]\n"
     ]
    },
    {
     "name": "stdout",
     "output_type": "stream",
     "text": [
      "{'val_loss': 1.9785119682186987, 'val_accuracy': 0.6445461479786423, 'precision': 0.6226870893149687, 'recall': 0.6445461479786423, 'f1-score': 0.6201163469912911, 'macro_f1-score': 0.36465853681285704, 'balanced_accuracy': 0.34071229220219584, 'mcc': 0.5154290455773076, 'train_loss': 0.27921257488906565}\n",
      "Epoch 16/20\n"
     ]
    },
    {
     "name": "stderr",
     "output_type": "stream",
     "text": [
      "100%|██████████| 328/328 [00:29<00:00, 11.20it/s]\n"
     ]
    },
    {
     "name": "stdout",
     "output_type": "stream",
     "text": [
      "{'val_loss': 1.9291032684012883, 'val_accuracy': 0.631578947368421, 'precision': 0.6290520709214984, 'recall': 0.631578947368421, 'f1-score': 0.6230945149544145, 'macro_f1-score': 0.37419093575938983, 'balanced_accuracy': 0.3787825789736409, 'mcc': 0.5114061593009764, 'train_loss': 0.24550007024734485}\n",
      "Epoch 17/20\n"
     ]
    },
    {
     "name": "stderr",
     "output_type": "stream",
     "text": [
      "100%|██████████| 328/328 [00:30<00:00, 10.75it/s]\n"
     ]
    },
    {
     "name": "stdout",
     "output_type": "stream",
     "text": [
      "{'val_loss': 1.9052152163008365, 'val_accuracy': 0.6163234172387491, 'precision': 0.6075060235117442, 'recall': 0.6163234172387491, 'f1-score': 0.6028652144188589, 'macro_f1-score': 0.33330056632885996, 'balanced_accuracy': 0.3258875402979729, 'mcc': 0.4866197959565988, 'train_loss': 0.2147129449266486}\n",
      "Epoch 18/20\n"
     ]
    },
    {
     "name": "stderr",
     "output_type": "stream",
     "text": [
      "100%|██████████| 328/328 [00:30<00:00, 10.85it/s]\n"
     ]
    },
    {
     "name": "stdout",
     "output_type": "stream",
     "text": [
      "{'val_loss': 2.062775062987717, 'val_accuracy': 0.6292906178489702, 'precision': 0.6309216417566029, 'recall': 0.6292906178489702, 'f1-score': 0.6196061628155275, 'macro_f1-score': 0.3929385347032892, 'balanced_accuracy': 0.39208020182535347, 'mcc': 0.508148829520426, 'train_loss': 0.21185268129494678}\n",
      "Epoch 19/20\n"
     ]
    },
    {
     "name": "stderr",
     "output_type": "stream",
     "text": [
      "100%|██████████| 328/328 [00:29<00:00, 11.02it/s]\n"
     ]
    },
    {
     "name": "stdout",
     "output_type": "stream",
     "text": [
      "{'val_loss': 2.091493946931711, 'val_accuracy': 0.6186117467581999, 'precision': 0.6223336967269147, 'recall': 0.6186117467581999, 'f1-score': 0.6157123815940198, 'macro_f1-score': 0.3564717460345647, 'balanced_accuracy': 0.36123416148379883, 'mcc': 0.5012497174335061, 'train_loss': 0.16093184568112853}\n",
      "Epoch 20/20\n"
     ]
    },
    {
     "name": "stderr",
     "output_type": "stream",
     "text": [
      "100%|██████████| 328/328 [00:30<00:00, 10.83it/s]\n"
     ]
    },
    {
     "name": "stdout",
     "output_type": "stream",
     "text": [
      "{'val_loss': 2.2088364393609328, 'val_accuracy': 0.620137299771167, 'precision': 0.6076439206203367, 'recall': 0.620137299771167, 'f1-score': 0.6073160598510674, 'macro_f1-score': 0.34784380557868283, 'balanced_accuracy': 0.3439171682963744, 'mcc': 0.49683051752928875, 'train_loss': 0.1579162123238259}\n",
      "\n",
      "[Fold 4]\n",
      "Label distribution after resampling:\n",
      "  label 0: 2471\n",
      "  label 1: 22\n",
      "  label 2: 64\n",
      "  label 3: 24\n",
      "  label 4: 190\n",
      "  label 5: 113\n",
      "  label 6: 93\n",
      "  label 7: 31\n",
      "  label 8: 68\n",
      "  label 9: 29\n",
      "  label 10: 67\n",
      "  label 11: 169\n",
      "  label 12: 190\n",
      "  label 13: 29\n",
      "  label 14: 22\n",
      "  label 15: 25\n",
      "  label 16: 19\n",
      "  label 17: 182\n",
      "  label 18: 92\n",
      "  label 19: 44\n",
      "  label 20: 14\n",
      "  label 21: 35\n",
      "  label 22: 76\n",
      "  label 23: 158\n",
      "  label 24: 13\n",
      "  label 25: 44\n",
      "  label 26: 84\n",
      "  label 27: 48\n",
      "  label 28: 11\n",
      "  label 29: 13\n",
      "  label 30: 11\n",
      "  label 31: 75\n",
      "  label 32: 36\n",
      "  label 33: 31\n",
      "  label 34: 30\n",
      "  label 35: 11\n",
      "  label 36: 22\n",
      "  label 37: 16\n",
      "  label 38: 33\n",
      "  label 39: 10\n",
      "  label 40: 9\n",
      "  label 41: 56\n",
      "  label 42: 18\n",
      "  label 43: 9\n",
      "  label 44: 55\n",
      "  label 45: 241\n",
      "  label 46: 62\n",
      "  label 47: 80\n",
      "model is bert-base-uncased lstm\n",
      "Epoch 1/20\n"
     ]
    },
    {
     "name": "stderr",
     "output_type": "stream",
     "text": [
      "100%|██████████| 328/328 [00:30<00:00, 10.88it/s]\n"
     ]
    },
    {
     "name": "stdout",
     "output_type": "stream",
     "text": [
      "{'val_loss': 1.9557117638064594, 'val_accuracy': 0.5545385202135774, 'precision': 0.363754360030682, 'recall': 0.5545385202135774, 'f1-score': 0.4338775088531643, 'macro_f1-score': 0.059275474627693996, 'balanced_accuracy': 0.07601148548032949, 'mcc': 0.34079002013187326, 'train_loss': 2.292801831917065}\n",
      "Epoch 2/20\n"
     ]
    },
    {
     "name": "stderr",
     "output_type": "stream",
     "text": [
      "100%|██████████| 328/328 [00:30<00:00, 10.92it/s]\n"
     ]
    },
    {
     "name": "stdout",
     "output_type": "stream",
     "text": [
      "{'val_loss': 1.7681247043173487, 'val_accuracy': 0.5797101449275363, 'precision': 0.40855200024878957, 'recall': 0.5797101449275363, 'f1-score': 0.4733392224784291, 'macro_f1-score': 0.09336616324231702, 'balanced_accuracy': 0.10641937172280662, 'mcc': 0.38843153590344576, 'train_loss': 1.794317933844357}\n",
      "Epoch 3/20\n"
     ]
    },
    {
     "name": "stderr",
     "output_type": "stream",
     "text": [
      "100%|██████████| 328/328 [00:29<00:00, 11.01it/s]\n"
     ]
    },
    {
     "name": "stdout",
     "output_type": "stream",
     "text": [
      "{'val_loss': 1.611373081076436, 'val_accuracy': 0.6125095347063311, 'precision': 0.5367743725126796, 'recall': 0.6125095347063311, 'f1-score': 0.5602920720068908, 'macro_f1-score': 0.1802980984346334, 'balanced_accuracy': 0.19569491827307264, 'mcc': 0.47428777941238837, 'train_loss': 1.5260861079867294}\n",
      "Epoch 4/20\n"
     ]
    },
    {
     "name": "stderr",
     "output_type": "stream",
     "text": [
      "100%|██████████| 328/328 [00:29<00:00, 11.20it/s]\n"
     ]
    },
    {
     "name": "stdout",
     "output_type": "stream",
     "text": [
      "{'val_loss': 1.5462461858987808, 'val_accuracy': 0.6094584286803967, 'precision': 0.5940137365193864, 'recall': 0.6094584286803967, 'f1-score': 0.5914469850947732, 'macro_f1-score': 0.25799724877643687, 'balanced_accuracy': 0.2739707373183982, 'mcc': 0.49427687939700937, 'train_loss': 1.280967680601085}\n",
      "Epoch 5/20\n"
     ]
    },
    {
     "name": "stderr",
     "output_type": "stream",
     "text": [
      "100%|██████████| 328/328 [00:29<00:00, 11.17it/s]\n"
     ]
    },
    {
     "name": "stdout",
     "output_type": "stream",
     "text": [
      "{'val_loss': 1.540230061949753, 'val_accuracy': 0.6056445461479787, 'precision': 0.5812863655144451, 'recall': 0.6056445461479787, 'f1-score': 0.5829006097519689, 'macro_f1-score': 0.253426075608559, 'balanced_accuracy': 0.25406157865056384, 'mcc': 0.475173764276378, 'train_loss': 1.0626672912025596}\n",
      "Epoch 6/20\n"
     ]
    },
    {
     "name": "stderr",
     "output_type": "stream",
     "text": [
      "100%|██████████| 328/328 [00:29<00:00, 11.17it/s]\n"
     ]
    },
    {
     "name": "stdout",
     "output_type": "stream",
     "text": [
      "{'val_loss': 1.5468752932984655, 'val_accuracy': 0.6414950419527079, 'precision': 0.584853854505322, 'recall': 0.6414950419527079, 'f1-score': 0.6042810163959502, 'macro_f1-score': 0.2874992637316233, 'balanced_accuracy': 0.28786463972089765, 'mcc': 0.5142864967287915, 'train_loss': 0.9047354692820369}\n",
      "Epoch 7/20\n"
     ]
    },
    {
     "name": "stderr",
     "output_type": "stream",
     "text": [
      "100%|██████████| 328/328 [00:29<00:00, 11.21it/s]\n"
     ]
    },
    {
     "name": "stdout",
     "output_type": "stream",
     "text": [
      "{'val_loss': 1.551000284349046, 'val_accuracy': 0.6331045003813882, 'precision': 0.6193847839871498, 'recall': 0.6331045003813882, 'f1-score': 0.6179325642466796, 'macro_f1-score': 0.3167120460909838, 'balanced_accuracy': 0.33572519899104497, 'mcc': 0.522326352651273, 'train_loss': 0.757600964206021}\n",
      "Epoch 8/20\n"
     ]
    },
    {
     "name": "stderr",
     "output_type": "stream",
     "text": [
      "100%|██████████| 328/328 [00:29<00:00, 11.18it/s]\n"
     ]
    },
    {
     "name": "stdout",
     "output_type": "stream",
     "text": [
      "{'val_loss': 1.5210952042806438, 'val_accuracy': 0.6651411136536994, 'precision': 0.6379812334433528, 'recall': 0.6651411136536994, 'f1-score': 0.6428728811174244, 'macro_f1-score': 0.33922838528139887, 'balanced_accuracy': 0.339137370645685, 'mcc': 0.5538992045343318, 'train_loss': 0.6315629435476007}\n",
      "Epoch 9/20\n"
     ]
    },
    {
     "name": "stderr",
     "output_type": "stream",
     "text": [
      "100%|██████████| 328/328 [00:29<00:00, 11.23it/s]\n"
     ]
    },
    {
     "name": "stdout",
     "output_type": "stream",
     "text": [
      "{'val_loss': 1.5707653034024123, 'val_accuracy': 0.6422578184591915, 'precision': 0.6525409851504658, 'recall': 0.6422578184591915, 'f1-score': 0.6397869339303508, 'macro_f1-score': 0.38040587658367225, 'balanced_accuracy': 0.38137635094577815, 'mcc': 0.536626665272757, 'train_loss': 0.5258900794064308}\n",
      "Epoch 10/20\n"
     ]
    },
    {
     "name": "stderr",
     "output_type": "stream",
     "text": [
      "100%|██████████| 328/328 [00:29<00:00, 11.24it/s]\n"
     ]
    },
    {
     "name": "stdout",
     "output_type": "stream",
     "text": [
      "{'val_loss': 1.6838746666908264, 'val_accuracy': 0.6384439359267735, 'precision': 0.6524938010554167, 'recall': 0.6384439359267735, 'f1-score': 0.6351321511861991, 'macro_f1-score': 0.3623884186869444, 'balanced_accuracy': 0.3868471798641142, 'mcc': 0.537343955217444, 'train_loss': 0.450523133048924}\n",
      "Epoch 11/20\n"
     ]
    },
    {
     "name": "stderr",
     "output_type": "stream",
     "text": [
      "100%|██████████| 328/328 [00:29<00:00, 11.18it/s]\n"
     ]
    },
    {
     "name": "stdout",
     "output_type": "stream",
     "text": [
      "{'val_loss': 1.6444970821825469, 'val_accuracy': 0.6422578184591915, 'precision': 0.630330777901328, 'recall': 0.6422578184591915, 'f1-score': 0.629506601139967, 'macro_f1-score': 0.3698026093109828, 'balanced_accuracy': 0.3891821414619008, 'mcc': 0.5304873137135062, 'train_loss': 0.3953956481489557}\n",
      "Epoch 12/20\n"
     ]
    },
    {
     "name": "stderr",
     "output_type": "stream",
     "text": [
      "100%|██████████| 328/328 [00:29<00:00, 11.16it/s]\n"
     ]
    },
    {
     "name": "stdout",
     "output_type": "stream",
     "text": [
      "{'val_loss': 1.7275175372274911, 'val_accuracy': 0.6064073226544623, 'precision': 0.6338094215627162, 'recall': 0.6064073226544623, 'f1-score': 0.6068191355629182, 'macro_f1-score': 0.31450691899885946, 'balanced_accuracy': 0.32579606378764736, 'mcc': 0.4930230203452774, 'train_loss': 0.3658416248097016}\n",
      "Early stopping.\n",
      "\n",
      "[Fold 5]\n",
      "Label distribution after resampling:\n",
      "  label 0: 2472\n",
      "  label 1: 21\n",
      "  label 2: 64\n",
      "  label 3: 24\n",
      "  label 4: 191\n",
      "  label 5: 112\n",
      "  label 6: 92\n",
      "  label 7: 31\n",
      "  label 8: 68\n",
      "  label 9: 29\n",
      "  label 10: 68\n",
      "  label 11: 168\n",
      "  label 12: 190\n",
      "  label 13: 29\n",
      "  label 14: 22\n",
      "  label 15: 25\n",
      "  label 16: 19\n",
      "  label 17: 183\n",
      "  label 18: 92\n",
      "  label 19: 44\n",
      "  label 20: 14\n",
      "  label 21: 35\n",
      "  label 22: 76\n",
      "  label 23: 158\n",
      "  label 24: 13\n",
      "  label 25: 44\n",
      "  label 26: 84\n",
      "  label 27: 48\n",
      "  label 28: 11\n",
      "  label 29: 13\n",
      "  label 30: 11\n",
      "  label 31: 75\n",
      "  label 32: 36\n",
      "  label 33: 31\n",
      "  label 34: 30\n",
      "  label 35: 11\n",
      "  label 36: 22\n",
      "  label 37: 16\n",
      "  label 38: 33\n",
      "  label 39: 10\n",
      "  label 40: 9\n",
      "  label 41: 57\n",
      "  label 42: 18\n",
      "  label 43: 9\n",
      "  label 44: 54\n",
      "  label 45: 242\n",
      "  label 46: 61\n",
      "  label 47: 80\n",
      "model is bert-base-uncased lstm\n",
      "Epoch 1/20\n"
     ]
    },
    {
     "name": "stderr",
     "output_type": "stream",
     "text": [
      "100%|██████████| 328/328 [00:57<00:00,  5.68it/s]\n"
     ]
    },
    {
     "name": "stdout",
     "output_type": "stream",
     "text": [
      "{'val_loss': 2.013340966003697, 'val_accuracy': 0.5499618611746758, 'precision': 0.3292200544321881, 'recall': 0.5499618611746758, 'f1-score': 0.40807326642904135, 'macro_f1-score': 0.053277579550776645, 'balanced_accuracy': 0.06990085702629373, 'mcc': 0.31987099631042787, 'train_loss': 2.333484676916425}\n",
      "Epoch 2/20\n"
     ]
    },
    {
     "name": "stderr",
     "output_type": "stream",
     "text": [
      "100%|██████████| 328/328 [01:23<00:00,  3.93it/s]\n"
     ]
    },
    {
     "name": "stdout",
     "output_type": "stream",
     "text": [
      "{'val_loss': 1.7229845618329398, 'val_accuracy': 0.5903890160183066, 'precision': 0.41880309218766937, 'recall': 0.5903890160183066, 'f1-score': 0.4799962651145184, 'macro_f1-score': 0.08053713978720912, 'balanced_accuracy': 0.10355771666164194, 'mcc': 0.4127343441752159, 'train_loss': 1.9039178566961754}\n",
      "Epoch 3/20\n"
     ]
    },
    {
     "name": "stderr",
     "output_type": "stream",
     "text": [
      "100%|██████████| 328/328 [01:23<00:00,  3.94it/s]\n"
     ]
    },
    {
     "name": "stdout",
     "output_type": "stream",
     "text": [
      "{'val_loss': 1.6320350846139395, 'val_accuracy': 0.6163234172387491, 'precision': 0.5172733124751143, 'recall': 0.6163234172387491, 'f1-score': 0.5441423847364633, 'macro_f1-score': 0.16093073669335636, 'balanced_accuracy': 0.18050552827657063, 'mcc': 0.47018647911590133, 'train_loss': 1.5892657917447206}\n",
      "Epoch 4/20\n"
     ]
    },
    {
     "name": "stderr",
     "output_type": "stream",
     "text": [
      "100%|██████████| 328/328 [01:23<00:00,  3.93it/s]\n"
     ]
    },
    {
     "name": "stdout",
     "output_type": "stream",
     "text": [
      "{'val_loss': 1.5835812288086588, 'val_accuracy': 0.6216628527841342, 'precision': 0.547682616569778, 'recall': 0.6216628527841342, 'f1-score': 0.5529261089916611, 'macro_f1-score': 0.1882675225633833, 'balanced_accuracy': 0.1862909942963827, 'mcc': 0.4670672745082681, 'train_loss': 1.310554648590524}\n",
      "Epoch 5/20\n"
     ]
    },
    {
     "name": "stderr",
     "output_type": "stream",
     "text": [
      "100%|██████████| 328/328 [01:23<00:00,  3.94it/s]\n"
     ]
    },
    {
     "name": "stdout",
     "output_type": "stream",
     "text": [
      "{'val_loss': 1.4986913480409763, 'val_accuracy': 0.6544622425629291, 'precision': 0.5979832297979562, 'recall': 0.6544622425629291, 'f1-score': 0.6119273912068195, 'macro_f1-score': 0.2724690607823412, 'balanced_accuracy': 0.275557998494024, 'mcc': 0.5293561579722257, 'train_loss': 1.102429430977237}\n",
      "Epoch 6/20\n"
     ]
    },
    {
     "name": "stderr",
     "output_type": "stream",
     "text": [
      "100%|██████████| 328/328 [01:23<00:00,  3.93it/s]\n"
     ]
    },
    {
     "name": "stdout",
     "output_type": "stream",
     "text": [
      "{'val_loss': 1.5251178683304205, 'val_accuracy': 0.6399694889397407, 'precision': 0.6148447242539471, 'recall': 0.6399694889397407, 'f1-score': 0.6186211753079359, 'macro_f1-score': 0.29501609812531887, 'balanced_accuracy': 0.2941959603156806, 'mcc': 0.5244136894349146, 'train_loss': 0.9175306848454766}\n",
      "Epoch 7/20\n"
     ]
    },
    {
     "name": "stderr",
     "output_type": "stream",
     "text": [
      "100%|██████████| 328/328 [01:23<00:00,  3.93it/s]\n"
     ]
    },
    {
     "name": "stdout",
     "output_type": "stream",
     "text": [
      "{'val_loss': 1.558005219552575, 'val_accuracy': 0.6132723112128147, 'precision': 0.6210475595780729, 'recall': 0.6132723112128147, 'f1-score': 0.6079023803014186, 'macro_f1-score': 0.2987055407449969, 'balanced_accuracy': 0.3117857840212297, 'mcc': 0.5024822765688419, 'train_loss': 0.7582415834568986}\n",
      "Epoch 8/20\n"
     ]
    },
    {
     "name": "stderr",
     "output_type": "stream",
     "text": [
      "100%|██████████| 328/328 [01:23<00:00,  3.94it/s]\n"
     ]
    },
    {
     "name": "stdout",
     "output_type": "stream",
     "text": [
      "{'val_loss': 1.5128526513169451, 'val_accuracy': 0.6475972540045767, 'precision': 0.6112549883003193, 'recall': 0.6475972540045767, 'f1-score': 0.6199320622203237, 'macro_f1-score': 0.3193948235389227, 'balanced_accuracy': 0.3109432500534034, 'mcc': 0.5261710589103579, 'train_loss': 0.653185071582656}\n",
      "Epoch 9/20\n"
     ]
    },
    {
     "name": "stderr",
     "output_type": "stream",
     "text": [
      "100%|██████████| 328/328 [01:23<00:00,  3.93it/s]\n"
     ]
    },
    {
     "name": "stdout",
     "output_type": "stream",
     "text": [
      "{'val_loss': 1.5394953133129492, 'val_accuracy': 0.6460717009916095, 'precision': 0.6254190701430637, 'recall': 0.6460717009916095, 'f1-score': 0.6276947203434254, 'macro_f1-score': 0.32702149638313394, 'balanced_accuracy': 0.32433681121635327, 'mcc': 0.5295628342442361, 'train_loss': 0.5562953279103812}\n",
      "Epoch 10/20\n"
     ]
    },
    {
     "name": "stderr",
     "output_type": "stream",
     "text": [
      "100%|██████████| 328/328 [01:23<00:00,  3.93it/s]\n"
     ]
    },
    {
     "name": "stdout",
     "output_type": "stream",
     "text": [
      "{'val_loss': 1.559021697538655, 'val_accuracy': 0.6392067124332571, 'precision': 0.6289633924789855, 'recall': 0.6392067124332571, 'f1-score': 0.6282560229111238, 'macro_f1-score': 0.32288268540153786, 'balanced_accuracy': 0.32939776561379946, 'mcc': 0.525589757399195, 'train_loss': 0.5139553385627705}\n",
      "Epoch 11/20\n"
     ]
    },
    {
     "name": "stderr",
     "output_type": "stream",
     "text": [
      "100%|██████████| 328/328 [01:17<00:00,  4.21it/s]\n"
     ]
    },
    {
     "name": "stdout",
     "output_type": "stream",
     "text": [
      "{'val_loss': 1.6270413885756236, 'val_accuracy': 0.6498855835240275, 'precision': 0.6404561002766092, 'recall': 0.6498855835240275, 'f1-score': 0.633501819827581, 'macro_f1-score': 0.3489623354551512, 'balanced_accuracy': 0.3562869127859028, 'mcc': 0.5385374221173866, 'train_loss': 0.42993359435804007}\n",
      "Epoch 12/20\n"
     ]
    },
    {
     "name": "stderr",
     "output_type": "stream",
     "text": [
      "100%|██████████| 328/328 [00:29<00:00, 11.24it/s]\n"
     ]
    },
    {
     "name": "stdout",
     "output_type": "stream",
     "text": [
      "{'val_loss': 1.655883167756767, 'val_accuracy': 0.6346300533943554, 'precision': 0.6374008153040472, 'recall': 0.6346300533943554, 'f1-score': 0.6283910347022654, 'macro_f1-score': 0.3642525056441963, 'balanced_accuracy': 0.3737599168297761, 'mcc': 0.5242353001782188, 'train_loss': 0.35026387293913924}\n",
      "Epoch 13/20\n"
     ]
    },
    {
     "name": "stderr",
     "output_type": "stream",
     "text": [
      "100%|██████████| 328/328 [00:29<00:00, 11.20it/s]\n"
     ]
    },
    {
     "name": "stdout",
     "output_type": "stream",
     "text": [
      "{'val_loss': 1.7260361978920495, 'val_accuracy': 0.6552250190694127, 'precision': 0.6460388554558836, 'recall': 0.6552250190694127, 'f1-score': 0.6429887047779331, 'macro_f1-score': 0.38015949560044016, 'balanced_accuracy': 0.3838717995794929, 'mcc': 0.5424912142893644, 'train_loss': 0.30042086769940285}\n",
      "Epoch 14/20\n"
     ]
    },
    {
     "name": "stderr",
     "output_type": "stream",
     "text": [
      "100%|██████████| 328/328 [00:29<00:00, 11.11it/s]\n"
     ]
    },
    {
     "name": "stdout",
     "output_type": "stream",
     "text": [
      "{'val_loss': 1.696181313657179, 'val_accuracy': 0.6300533943554538, 'precision': 0.6510860953054782, 'recall': 0.6300533943554538, 'f1-score': 0.6333999661989103, 'macro_f1-score': 0.3800130825435187, 'balanced_accuracy': 0.3829127127857232, 'mcc': 0.524339521825047, 'train_loss': 0.29288587118385406}\n",
      "Epoch 15/20\n"
     ]
    },
    {
     "name": "stderr",
     "output_type": "stream",
     "text": [
      "100%|██████████| 328/328 [00:29<00:00, 11.23it/s]\n"
     ]
    },
    {
     "name": "stdout",
     "output_type": "stream",
     "text": [
      "{'val_loss': 1.8252829396870078, 'val_accuracy': 0.6437833714721587, 'precision': 0.6375494111974188, 'recall': 0.6437833714721587, 'f1-score': 0.6343951782998417, 'macro_f1-score': 0.3671532872519761, 'balanced_accuracy': 0.36646901833340156, 'mcc': 0.5288689396883228, 'train_loss': 0.2945905113649532}\n",
      "Epoch 16/20\n"
     ]
    },
    {
     "name": "stderr",
     "output_type": "stream",
     "text": [
      "100%|██████████| 328/328 [00:29<00:00, 11.16it/s]\n"
     ]
    },
    {
     "name": "stdout",
     "output_type": "stream",
     "text": [
      "{'val_loss': 1.8270822247353995, 'val_accuracy': 0.6567505720823799, 'precision': 0.6385631762205565, 'recall': 0.6567505720823799, 'f1-score': 0.6357150918124503, 'macro_f1-score': 0.3613078863844648, 'balanced_accuracy': 0.3293585770024132, 'mcc': 0.5319090684513413, 'train_loss': 0.2576343020390174}\n",
      "Early stopping.\n",
      "\n",
      " === bert-base-uncased + lstm + none Final 5-fold Cross-Validation Results ===\n",
      "val_loss: 1.8109\n",
      "val_accuracy: 0.6434\n",
      "precision: 0.6447\n",
      "recall: 0.6434\n",
      "f1-score: 0.6355\n",
      "macro_f1-score: 0.3940\n",
      "balanced_accuracy: 0.3994\n",
      "mcc: 0.5299\n",
      "train_loss: 0.2788\n",
      "total_seconds: 3543.0000\n",
      "total_time: 0 hrs 59 mins 3 secs\n",
      "▶ Running: bert-base-uncased + bilstm + none\n",
      "tokenizer is bert-base-uncased\n",
      "Using device: cuda\n",
      "CUDA Available: True\n",
      "CUDA Device: NVIDIA GeForce RTX 5070 Ti\n",
      "Current GPU Memory Allocated: 0.02 GB\n",
      "Current GPU Memory Cached: 3.05 GB\n",
      "\n",
      "[Fold 1]\n",
      "Label distribution after resampling:\n",
      "  label 0: 2471\n",
      "  label 1: 21\n",
      "  label 2: 64\n",
      "  label 3: 24\n",
      "  label 4: 191\n",
      "  label 5: 113\n",
      "  label 6: 93\n",
      "  label 7: 30\n",
      "  label 8: 68\n",
      "  label 9: 30\n",
      "  label 10: 67\n",
      "  label 11: 169\n",
      "  label 12: 189\n",
      "  label 13: 29\n",
      "  label 14: 22\n",
      "  label 15: 25\n",
      "  label 16: 19\n",
      "  label 17: 183\n",
      "  label 18: 92\n",
      "  label 19: 44\n",
      "  label 20: 13\n",
      "  label 21: 35\n",
      "  label 22: 76\n",
      "  label 23: 158\n",
      "  label 24: 13\n",
      "  label 25: 44\n",
      "  label 26: 84\n",
      "  label 27: 48\n",
      "  label 28: 11\n",
      "  label 29: 13\n",
      "  label 30: 11\n",
      "  label 31: 75\n",
      "  label 32: 36\n",
      "  label 33: 32\n",
      "  label 34: 29\n",
      "  label 35: 11\n",
      "  label 36: 22\n",
      "  label 37: 16\n",
      "  label 38: 33\n",
      "  label 39: 10\n",
      "  label 40: 9\n",
      "  label 41: 57\n",
      "  label 42: 19\n",
      "  label 43: 8\n",
      "  label 44: 54\n",
      "  label 45: 242\n",
      "  label 46: 61\n",
      "  label 47: 80\n",
      "model is bert-base-uncased bilstm\n",
      "Epoch 1/20\n"
     ]
    },
    {
     "name": "stderr",
     "output_type": "stream",
     "text": [
      "100%|██████████| 328/328 [00:30<00:00, 10.73it/s]\n"
     ]
    },
    {
     "name": "stdout",
     "output_type": "stream",
     "text": [
      "{'val_loss': 1.9914559122265838, 'val_accuracy': 0.5510670731707317, 'precision': 0.3442808963492785, 'recall': 0.5510670731707317, 'f1-score': 0.42181587623776756, 'macro_f1-score': 0.059682204172980986, 'balanced_accuracy': 0.07992996399252855, 'mcc': 0.3297612511307665, 'train_loss': 2.3033060951203836}\n",
      "Epoch 2/20\n"
     ]
    },
    {
     "name": "stderr",
     "output_type": "stream",
     "text": [
      "100%|██████████| 328/328 [00:30<00:00, 10.77it/s]\n"
     ]
    },
    {
     "name": "stdout",
     "output_type": "stream",
     "text": [
      "{'val_loss': 1.7740936784482584, 'val_accuracy': 0.5640243902439024, 'precision': 0.3908114112949593, 'recall': 0.5640243902439024, 'f1-score': 0.4434081638137575, 'macro_f1-score': 0.07503977936651395, 'balanced_accuracy': 0.0878505540336128, 'mcc': 0.3514637065087404, 'train_loss': 1.8127434784319343}\n",
      "Epoch 3/20\n"
     ]
    },
    {
     "name": "stderr",
     "output_type": "stream",
     "text": [
      "100%|██████████| 328/328 [00:30<00:00, 10.64it/s]\n"
     ]
    },
    {
     "name": "stdout",
     "output_type": "stream",
     "text": [
      "{'val_loss': 1.6392543795632153, 'val_accuracy': 0.5960365853658537, 'precision': 0.5200233863088063, 'recall': 0.5960365853658537, 'f1-score': 0.5384630531007519, 'macro_f1-score': 0.17041117481396054, 'balanced_accuracy': 0.17983309813440554, 'mcc': 0.43980136052075147, 'train_loss': 1.4757811199964546}\n",
      "Epoch 4/20\n"
     ]
    },
    {
     "name": "stderr",
     "output_type": "stream",
     "text": [
      "100%|██████████| 328/328 [00:32<00:00,  9.96it/s]\n"
     ]
    },
    {
     "name": "stdout",
     "output_type": "stream",
     "text": [
      "{'val_loss': 1.5304182280854481, 'val_accuracy': 0.5922256097560976, 'precision': 0.5546196353575846, 'recall': 0.5922256097560976, 'f1-score': 0.5643971592179994, 'macro_f1-score': 0.24080319697998184, 'balanced_accuracy': 0.25142613684870285, 'mcc': 0.45815258708179674, 'train_loss': 1.1984918270169236}\n",
      "Epoch 5/20\n"
     ]
    },
    {
     "name": "stderr",
     "output_type": "stream",
     "text": [
      "100%|██████████| 328/328 [00:32<00:00,  9.96it/s]\n"
     ]
    },
    {
     "name": "stdout",
     "output_type": "stream",
     "text": [
      "{'val_loss': 1.570214750563226, 'val_accuracy': 0.6166158536585366, 'precision': 0.580441726269489, 'recall': 0.6166158536585366, 'f1-score': 0.5844346766642553, 'macro_f1-score': 0.2938291896327789, 'balanced_accuracy': 0.2845272356783481, 'mcc': 0.48353382368732734, 'train_loss': 0.9589751974293371}\n",
      "Epoch 6/20\n"
     ]
    },
    {
     "name": "stderr",
     "output_type": "stream",
     "text": [
      "100%|██████████| 328/328 [00:50<00:00,  6.45it/s]\n"
     ]
    },
    {
     "name": "stdout",
     "output_type": "stream",
     "text": [
      "{'val_loss': 1.5961105245642546, 'val_accuracy': 0.6257621951219512, 'precision': 0.6221859663211757, 'recall': 0.6257621951219512, 'f1-score': 0.6109387032199034, 'macro_f1-score': 0.32212590873186414, 'balanced_accuracy': 0.3212301853065107, 'mcc': 0.5049714608954573, 'train_loss': 0.7677182555425821}\n",
      "Epoch 7/20\n"
     ]
    },
    {
     "name": "stderr",
     "output_type": "stream",
     "text": [
      "100%|██████████| 328/328 [01:25<00:00,  3.86it/s]\n"
     ]
    },
    {
     "name": "stdout",
     "output_type": "stream",
     "text": [
      "{'val_loss': 1.6037155818648454, 'val_accuracy': 0.6371951219512195, 'precision': 0.6012957135335417, 'recall': 0.6371951219512195, 'f1-score': 0.6111061086623313, 'macro_f1-score': 0.31300489182675484, 'balanced_accuracy': 0.30698644055064495, 'mcc': 0.5092600416601394, 'train_loss': 0.5952789471598297}\n",
      "Epoch 8/20\n"
     ]
    },
    {
     "name": "stderr",
     "output_type": "stream",
     "text": [
      "100%|██████████| 328/328 [01:25<00:00,  3.85it/s]\n"
     ]
    },
    {
     "name": "stdout",
     "output_type": "stream",
     "text": [
      "{'val_loss': 1.7407764265450036, 'val_accuracy': 0.6166158536585366, 'precision': 0.6257675867556022, 'recall': 0.6166158536585366, 'f1-score': 0.6131895957808103, 'macro_f1-score': 0.33864719795062204, 'balanced_accuracy': 0.3534012696725268, 'mcc': 0.5069459079603873, 'train_loss': 0.46222278178192494}\n",
      "Epoch 9/20\n"
     ]
    },
    {
     "name": "stderr",
     "output_type": "stream",
     "text": [
      "100%|██████████| 328/328 [01:25<00:00,  3.85it/s]\n"
     ]
    },
    {
     "name": "stdout",
     "output_type": "stream",
     "text": [
      "{'val_loss': 1.7638761295777996, 'val_accuracy': 0.6326219512195121, 'precision': 0.6224290105140746, 'recall': 0.6326219512195121, 'f1-score': 0.618898501128471, 'macro_f1-score': 0.33079823380504747, 'balanced_accuracy': 0.3178732352750557, 'mcc': 0.503959937405708, 'train_loss': 0.3915978547969333}\n",
      "Epoch 10/20\n"
     ]
    },
    {
     "name": "stderr",
     "output_type": "stream",
     "text": [
      "100%|██████████| 328/328 [01:25<00:00,  3.85it/s]\n"
     ]
    },
    {
     "name": "stdout",
     "output_type": "stream",
     "text": [
      "{'val_loss': 1.8147586529574744, 'val_accuracy': 0.6440548780487805, 'precision': 0.6339801653895943, 'recall': 0.6440548780487805, 'f1-score': 0.626867138596817, 'macro_f1-score': 0.37248534156341306, 'balanced_accuracy': 0.3461672279747317, 'mcc': 0.51417273564795, 'train_loss': 0.3197247870039286}\n",
      "Epoch 11/20\n"
     ]
    },
    {
     "name": "stderr",
     "output_type": "stream",
     "text": [
      "100%|██████████| 328/328 [01:25<00:00,  3.85it/s]\n"
     ]
    },
    {
     "name": "stdout",
     "output_type": "stream",
     "text": [
      "{'val_loss': 1.7780730978744785, 'val_accuracy': 0.6295731707317073, 'precision': 0.6338493680732902, 'recall': 0.6295731707317073, 'f1-score': 0.6193420053697954, 'macro_f1-score': 0.3590970191711522, 'balanced_accuracy': 0.35044051233265455, 'mcc': 0.508446222052424, 'train_loss': 0.2557867375208156}\n",
      "Epoch 12/20\n"
     ]
    },
    {
     "name": "stderr",
     "output_type": "stream",
     "text": [
      "100%|██████████| 328/328 [01:25<00:00,  3.85it/s]\n"
     ]
    },
    {
     "name": "stdout",
     "output_type": "stream",
     "text": [
      "{'val_loss': 1.7947317922442425, 'val_accuracy': 0.649390243902439, 'precision': 0.648787395051025, 'recall': 0.649390243902439, 'f1-score': 0.642955809678295, 'macro_f1-score': 0.39171578597610085, 'balanced_accuracy': 0.3948155847063195, 'mcc': 0.5397568542111185, 'train_loss': 0.2233916515904683}\n",
      "Epoch 13/20\n"
     ]
    },
    {
     "name": "stderr",
     "output_type": "stream",
     "text": [
      "100%|██████████| 328/328 [01:25<00:00,  3.86it/s]\n"
     ]
    },
    {
     "name": "stdout",
     "output_type": "stream",
     "text": [
      "{'val_loss': 1.9139611344875358, 'val_accuracy': 0.6112804878048781, 'precision': 0.6509248982628437, 'recall': 0.6112804878048781, 'f1-score': 0.6208810301207961, 'macro_f1-score': 0.38551079444367903, 'balanced_accuracy': 0.40427687294362996, 'mcc': 0.5051983659740759, 'train_loss': 0.1709228679566167}\n",
      "Epoch 14/20\n"
     ]
    },
    {
     "name": "stderr",
     "output_type": "stream",
     "text": [
      "100%|██████████| 328/328 [01:25<00:00,  3.86it/s]\n"
     ]
    },
    {
     "name": "stdout",
     "output_type": "stream",
     "text": [
      "{'val_loss': 1.9903700733330192, 'val_accuracy': 0.631859756097561, 'precision': 0.6275842988537728, 'recall': 0.631859756097561, 'f1-score': 0.6210410848832675, 'macro_f1-score': 0.3868022545033168, 'balanced_accuracy': 0.38939064342789126, 'mcc': 0.508147900333392, 'train_loss': 0.16133778467036147}\n",
      "Epoch 15/20\n"
     ]
    },
    {
     "name": "stderr",
     "output_type": "stream",
     "text": [
      "100%|██████████| 328/328 [01:25<00:00,  3.86it/s]\n"
     ]
    },
    {
     "name": "stdout",
     "output_type": "stream",
     "text": [
      "{'val_loss': 1.9858790749638546, 'val_accuracy': 0.6280487804878049, 'precision': 0.6458776999830809, 'recall': 0.6280487804878049, 'f1-score': 0.6262514615099845, 'macro_f1-score': 0.39554454384101395, 'balanced_accuracy': 0.40646876482428934, 'mcc': 0.5104401379524564, 'train_loss': 0.14056148094255705}\n",
      "Epoch 16/20\n"
     ]
    },
    {
     "name": "stderr",
     "output_type": "stream",
     "text": [
      "100%|██████████| 328/328 [01:25<00:00,  3.83it/s]\n"
     ]
    },
    {
     "name": "stdout",
     "output_type": "stream",
     "text": [
      "{'val_loss': 2.2352384150755116, 'val_accuracy': 0.6509146341463414, 'precision': 0.6287054688913042, 'recall': 0.6509146341463414, 'f1-score': 0.623246455655146, 'macro_f1-score': 0.3923938252761728, 'balanced_accuracy': 0.37063219145276394, 'mcc': 0.5176603592832623, 'train_loss': 0.10144949506218659}\n",
      "Epoch 17/20\n"
     ]
    },
    {
     "name": "stderr",
     "output_type": "stream",
     "text": [
      "100%|██████████| 328/328 [01:25<00:00,  3.83it/s]\n"
     ]
    },
    {
     "name": "stdout",
     "output_type": "stream",
     "text": [
      "{'val_loss': 1.9719772433362357, 'val_accuracy': 0.6417682926829268, 'precision': 0.6409219307075733, 'recall': 0.6417682926829268, 'f1-score': 0.6351631124186713, 'macro_f1-score': 0.41821346656815805, 'balanced_accuracy': 0.4118750064815247, 'mcc': 0.5258013028287666, 'train_loss': 0.09372496271148188}\n",
      "Epoch 18/20\n"
     ]
    },
    {
     "name": "stderr",
     "output_type": "stream",
     "text": [
      "100%|██████████| 328/328 [01:21<00:00,  4.02it/s]\n"
     ]
    },
    {
     "name": "stdout",
     "output_type": "stream",
     "text": [
      "{'val_loss': 1.9049976682517586, 'val_accuracy': 0.6448170731707317, 'precision': 0.6406243170247313, 'recall': 0.6448170731707317, 'f1-score': 0.6361295851837145, 'macro_f1-score': 0.40470204186364106, 'balanced_accuracy': 0.38899343517816115, 'mcc': 0.5256193545938725, 'train_loss': 0.14581551139027152}\n",
      "Epoch 19/20\n"
     ]
    },
    {
     "name": "stderr",
     "output_type": "stream",
     "text": [
      "100%|██████████| 328/328 [01:25<00:00,  3.85it/s]\n"
     ]
    },
    {
     "name": "stdout",
     "output_type": "stream",
     "text": [
      "{'val_loss': 2.0873806219457127, 'val_accuracy': 0.6364329268292683, 'precision': 0.6365929677488141, 'recall': 0.6364329268292683, 'f1-score': 0.631321868675407, 'macro_f1-score': 0.4031151618707482, 'balanced_accuracy': 0.40158229901374914, 'mcc': 0.5232558957966924, 'train_loss': 0.10529497879267694}\n",
      "Epoch 20/20\n"
     ]
    },
    {
     "name": "stderr",
     "output_type": "stream",
     "text": [
      "100%|██████████| 328/328 [01:25<00:00,  3.85it/s]\n"
     ]
    },
    {
     "name": "stdout",
     "output_type": "stream",
     "text": [
      "{'val_loss': 2.190291108518112, 'val_accuracy': 0.6364329268292683, 'precision': 0.6371587820850725, 'recall': 0.6364329268292683, 'f1-score': 0.6213656118596002, 'macro_f1-score': 0.38798002959229555, 'balanced_accuracy': 0.3759218790811996, 'mcc': 0.5109899652677056, 'train_loss': 0.08744190952303342}\n",
      "Early stopping.\n",
      "\n",
      "[Fold 2]\n",
      "Label distribution after resampling:\n",
      "  label 0: 2471\n",
      "  label 1: 22\n",
      "  label 2: 64\n",
      "  label 3: 24\n",
      "  label 4: 190\n",
      "  label 5: 113\n",
      "  label 6: 93\n",
      "  label 7: 30\n",
      "  label 8: 68\n",
      "  label 9: 30\n",
      "  label 10: 67\n",
      "  label 11: 169\n",
      "  label 12: 189\n",
      "  label 13: 29\n",
      "  label 14: 23\n",
      "  label 15: 24\n",
      "  label 16: 20\n",
      "  label 17: 182\n",
      "  label 18: 92\n",
      "  label 19: 44\n",
      "  label 20: 13\n",
      "  label 21: 36\n",
      "  label 22: 76\n",
      "  label 23: 157\n",
      "  label 24: 12\n",
      "  label 25: 44\n",
      "  label 26: 84\n",
      "  label 27: 48\n",
      "  label 28: 12\n",
      "  label 29: 12\n",
      "  label 30: 12\n",
      "  label 31: 75\n",
      "  label 32: 36\n",
      "  label 33: 31\n",
      "  label 34: 29\n",
      "  label 35: 12\n",
      "  label 36: 21\n",
      "  label 37: 16\n",
      "  label 38: 33\n",
      "  label 39: 11\n",
      "  label 40: 8\n",
      "  label 41: 57\n",
      "  label 42: 19\n",
      "  label 43: 9\n",
      "  label 44: 54\n",
      "  label 45: 242\n",
      "  label 46: 62\n",
      "  label 47: 80\n",
      "model is bert-base-uncased bilstm\n",
      "Epoch 1/20\n"
     ]
    },
    {
     "name": "stderr",
     "output_type": "stream",
     "text": [
      "100%|██████████| 328/328 [01:25<00:00,  3.85it/s]\n"
     ]
    },
    {
     "name": "stdout",
     "output_type": "stream",
     "text": [
      "{'val_loss': 2.0220720484489347, 'val_accuracy': 0.5621662852784134, 'precision': 0.3573008818087222, 'recall': 0.5621662852784134, 'f1-score': 0.4348871367396527, 'macro_f1-score': 0.05654904349699105, 'balanced_accuracy': 0.0838107455677501, 'mcc': 0.3619812496428246, 'train_loss': 2.319406481959471}\n",
      "Epoch 2/20\n"
     ]
    },
    {
     "name": "stderr",
     "output_type": "stream",
     "text": [
      "100%|██████████| 328/328 [01:25<00:00,  3.85it/s]\n"
     ]
    },
    {
     "name": "stdout",
     "output_type": "stream",
     "text": [
      "{'val_loss': 1.7375357369097268, 'val_accuracy': 0.5743707093821511, 'precision': 0.39575627432692184, 'recall': 0.5743707093821511, 'f1-score': 0.4585948305004527, 'macro_f1-score': 0.07917848629743358, 'balanced_accuracy': 0.09227560897371472, 'mcc': 0.3744040280233451, 'train_loss': 1.8275842172343557}\n",
      "Epoch 3/20\n"
     ]
    },
    {
     "name": "stderr",
     "output_type": "stream",
     "text": [
      "100%|██████████| 328/328 [01:25<00:00,  3.85it/s]\n"
     ]
    },
    {
     "name": "stdout",
     "output_type": "stream",
     "text": [
      "{'val_loss': 1.6520357052000558, 'val_accuracy': 0.5797101449275363, 'precision': 0.542346756686428, 'recall': 0.5797101449275363, 'f1-score': 0.5433462191470411, 'macro_f1-score': 0.16180348271464973, 'balanced_accuracy': 0.18518952295450922, 'mcc': 0.44655496817164075, 'train_loss': 1.481976643568132}\n",
      "Epoch 4/20\n"
     ]
    },
    {
     "name": "stderr",
     "output_type": "stream",
     "text": [
      "100%|██████████| 328/328 [01:25<00:00,  3.85it/s]\n"
     ]
    },
    {
     "name": "stdout",
     "output_type": "stream",
     "text": [
      "{'val_loss': 1.57522233884509, 'val_accuracy': 0.6155606407322655, 'precision': 0.5334878095859904, 'recall': 0.6155606407322655, 'f1-score': 0.5535862517086372, 'macro_f1-score': 0.19796604216626948, 'balanced_accuracy': 0.20659717097224162, 'mcc': 0.4623422764657074, 'train_loss': 1.1593405779723713}\n",
      "Epoch 5/20\n"
     ]
    },
    {
     "name": "stderr",
     "output_type": "stream",
     "text": [
      "100%|██████████| 328/328 [01:25<00:00,  3.85it/s]\n"
     ]
    },
    {
     "name": "stdout",
     "output_type": "stream",
     "text": [
      "{'val_loss': 1.4685576674414844, 'val_accuracy': 0.6483600305110603, 'precision': 0.6168827816665755, 'recall': 0.6483600305110603, 'f1-score': 0.61843255289692, 'macro_f1-score': 0.28077060196843634, 'balanced_accuracy': 0.29094738021413685, 'mcc': 0.5269627497729671, 'train_loss': 0.9236061702050814}\n",
      "Epoch 6/20\n"
     ]
    },
    {
     "name": "stderr",
     "output_type": "stream",
     "text": [
      "100%|██████████| 328/328 [01:25<00:00,  3.85it/s]\n"
     ]
    },
    {
     "name": "stdout",
     "output_type": "stream",
     "text": [
      "{'val_loss': 1.4630594202658025, 'val_accuracy': 0.6460717009916095, 'precision': 0.6048867552110334, 'recall': 0.6460717009916095, 'f1-score': 0.6141613436112051, 'macro_f1-score': 0.2830401860189005, 'balanced_accuracy': 0.28554689423114293, 'mcc': 0.5208144251683365, 'train_loss': 0.690346999934352}\n",
      "Epoch 7/20\n"
     ]
    },
    {
     "name": "stderr",
     "output_type": "stream",
     "text": [
      "100%|██████████| 328/328 [01:25<00:00,  3.84it/s]\n"
     ]
    },
    {
     "name": "stdout",
     "output_type": "stream",
     "text": [
      "{'val_loss': 1.5653694966217366, 'val_accuracy': 0.635392829900839, 'precision': 0.6273495433319006, 'recall': 0.635392829900839, 'f1-score': 0.6193767021603117, 'macro_f1-score': 0.3106291219918969, 'balanced_accuracy': 0.32070100907016447, 'mcc': 0.5209209088015911, 'train_loss': 0.5282435082694198}\n",
      "Epoch 8/20\n"
     ]
    },
    {
     "name": "stderr",
     "output_type": "stream",
     "text": [
      "100%|██████████| 328/328 [01:25<00:00,  3.83it/s]\n"
     ]
    },
    {
     "name": "stdout",
     "output_type": "stream",
     "text": [
      "{'val_loss': 1.6838317259055813, 'val_accuracy': 0.6224256292906178, 'precision': 0.6251751622545868, 'recall': 0.6224256292906178, 'f1-score': 0.6110672602677761, 'macro_f1-score': 0.3043982309320679, 'balanced_accuracy': 0.3030525951590978, 'mcc': 0.5042484423352855, 'train_loss': 0.4090518093236336}\n",
      "Epoch 9/20\n"
     ]
    },
    {
     "name": "stderr",
     "output_type": "stream",
     "text": [
      "100%|██████████| 328/328 [01:19<00:00,  4.15it/s]\n"
     ]
    },
    {
     "name": "stdout",
     "output_type": "stream",
     "text": [
      "{'val_loss': 1.799679111416747, 'val_accuracy': 0.665903890160183, 'precision': 0.6383991079765724, 'recall': 0.665903890160183, 'f1-score': 0.6341025301128997, 'macro_f1-score': 0.3502995886212939, 'balanced_accuracy': 0.3234530121199705, 'mcc': 0.539621935167343, 'train_loss': 0.33095094827344507}\n",
      "Epoch 10/20\n"
     ]
    },
    {
     "name": "stderr",
     "output_type": "stream",
     "text": [
      "100%|██████████| 328/328 [01:25<00:00,  3.86it/s]\n"
     ]
    },
    {
     "name": "stdout",
     "output_type": "stream",
     "text": [
      "{'val_loss': 1.7500332034215695, 'val_accuracy': 0.6605644546147978, 'precision': 0.6396071616311003, 'recall': 0.6605644546147978, 'f1-score': 0.6391459455255669, 'macro_f1-score': 0.3508723107440763, 'balanced_accuracy': 0.3287389779685311, 'mcc': 0.5390081669439954, 'train_loss': 0.2657883415600603}\n",
      "Epoch 11/20\n"
     ]
    },
    {
     "name": "stderr",
     "output_type": "stream",
     "text": [
      "100%|██████████| 328/328 [01:25<00:00,  3.85it/s]\n"
     ]
    },
    {
     "name": "stdout",
     "output_type": "stream",
     "text": [
      "{'val_loss': 1.7589133738017664, 'val_accuracy': 0.6521739130434783, 'precision': 0.6395770189570945, 'recall': 0.6521739130434783, 'f1-score': 0.6286694166079332, 'macro_f1-score': 0.3308332477691432, 'balanced_accuracy': 0.3207762906483325, 'mcc': 0.5254533138238155, 'train_loss': 0.19856791732060472}\n",
      "Epoch 12/20\n"
     ]
    },
    {
     "name": "stderr",
     "output_type": "stream",
     "text": [
      "100%|██████████| 328/328 [01:25<00:00,  3.85it/s]\n"
     ]
    },
    {
     "name": "stdout",
     "output_type": "stream",
     "text": [
      "{'val_loss': 1.7859596988049948, 'val_accuracy': 0.6575133485888635, 'precision': 0.6506852829172407, 'recall': 0.6575133485888635, 'f1-score': 0.6444395920443192, 'macro_f1-score': 0.3849204273156113, 'balanced_accuracy': 0.3774586070319203, 'mcc': 0.5437403549033976, 'train_loss': 0.1927525994379255}\n",
      "Epoch 13/20\n"
     ]
    },
    {
     "name": "stderr",
     "output_type": "stream",
     "text": [
      "100%|██████████| 328/328 [01:25<00:00,  3.85it/s]\n"
     ]
    },
    {
     "name": "stdout",
     "output_type": "stream",
     "text": [
      "{'val_loss': 1.9059483020043955, 'val_accuracy': 0.6498855835240275, 'precision': 0.6723224874575238, 'recall': 0.6498855835240275, 'f1-score': 0.6422628256217994, 'macro_f1-score': 0.391202475537241, 'balanced_accuracy': 0.39880893524260275, 'mcc': 0.5376228307655374, 'train_loss': 0.1444935388749511}\n",
      "Epoch 14/20\n"
     ]
    },
    {
     "name": "stderr",
     "output_type": "stream",
     "text": [
      "100%|██████████| 328/328 [01:25<00:00,  3.85it/s]\n"
     ]
    },
    {
     "name": "stdout",
     "output_type": "stream",
     "text": [
      "{'val_loss': 1.7910077470104868, 'val_accuracy': 0.6483600305110603, 'precision': 0.6591086056870619, 'recall': 0.6483600305110603, 'f1-score': 0.6472675581430204, 'macro_f1-score': 0.3844776091360707, 'balanced_accuracy': 0.40039186663388593, 'mcc': 0.5417070432653305, 'train_loss': 0.13028398859201046}\n",
      "Epoch 15/20\n"
     ]
    },
    {
     "name": "stderr",
     "output_type": "stream",
     "text": [
      "100%|██████████| 328/328 [01:25<00:00,  3.85it/s]\n"
     ]
    },
    {
     "name": "stdout",
     "output_type": "stream",
     "text": [
      "{'val_loss': 1.8800067440038775, 'val_accuracy': 0.6651411136536994, 'precision': 0.6511345603877658, 'recall': 0.6651411136536994, 'f1-score': 0.6506019544435927, 'macro_f1-score': 0.36757781769688097, 'balanced_accuracy': 0.3677387554466529, 'mcc': 0.5525518870274865, 'train_loss': 0.10606159566384854}\n",
      "Epoch 16/20\n"
     ]
    },
    {
     "name": "stderr",
     "output_type": "stream",
     "text": [
      "100%|██████████| 328/328 [01:25<00:00,  3.85it/s]\n"
     ]
    },
    {
     "name": "stdout",
     "output_type": "stream",
     "text": [
      "{'val_loss': 1.9566229887124968, 'val_accuracy': 0.6544622425629291, 'precision': 0.6510408152687895, 'recall': 0.6544622425629291, 'f1-score': 0.6478587159330265, 'macro_f1-score': 0.3784841663997785, 'balanced_accuracy': 0.3828563964830267, 'mcc': 0.5474463753804957, 'train_loss': 0.07769461281217135}\n",
      "Early stopping.\n",
      "\n",
      "[Fold 3]\n",
      "Label distribution after resampling:\n",
      "  label 0: 2471\n",
      "  label 1: 22\n",
      "  label 2: 64\n",
      "  label 3: 24\n",
      "  label 4: 190\n",
      "  label 5: 113\n",
      "  label 6: 93\n",
      "  label 7: 30\n",
      "  label 8: 68\n",
      "  label 9: 30\n",
      "  label 10: 67\n",
      "  label 11: 169\n",
      "  label 12: 190\n",
      "  label 13: 28\n",
      "  label 14: 23\n",
      "  label 15: 25\n",
      "  label 16: 19\n",
      "  label 17: 182\n",
      "  label 18: 92\n",
      "  label 19: 44\n",
      "  label 20: 14\n",
      "  label 21: 35\n",
      "  label 22: 76\n",
      "  label 23: 157\n",
      "  label 24: 13\n",
      "  label 25: 44\n",
      "  label 26: 84\n",
      "  label 27: 48\n",
      "  label 28: 11\n",
      "  label 29: 13\n",
      "  label 30: 11\n",
      "  label 31: 76\n",
      "  label 32: 36\n",
      "  label 33: 31\n",
      "  label 34: 30\n",
      "  label 35: 11\n",
      "  label 36: 21\n",
      "  label 37: 16\n",
      "  label 38: 32\n",
      "  label 39: 11\n",
      "  label 40: 9\n",
      "  label 41: 57\n",
      "  label 42: 18\n",
      "  label 43: 9\n",
      "  label 44: 55\n",
      "  label 45: 241\n",
      "  label 46: 62\n",
      "  label 47: 80\n",
      "model is bert-base-uncased bilstm\n",
      "Epoch 1/20\n"
     ]
    },
    {
     "name": "stderr",
     "output_type": "stream",
     "text": [
      "100%|██████████| 328/328 [01:25<00:00,  3.85it/s]\n"
     ]
    },
    {
     "name": "stdout",
     "output_type": "stream",
     "text": [
      "{'val_loss': 1.9701988777009452, 'val_accuracy': 0.551487414187643, 'precision': 0.3301841725982022, 'recall': 0.551487414187643, 'f1-score': 0.4104640117487273, 'macro_f1-score': 0.055743300539796904, 'balanced_accuracy': 0.06771425702518447, 'mcc': 0.3194193714816322, 'train_loss': 2.2867237436698704}\n",
      "Epoch 2/20\n"
     ]
    },
    {
     "name": "stderr",
     "output_type": "stream",
     "text": [
      "100%|██████████| 328/328 [01:25<00:00,  3.86it/s]\n"
     ]
    },
    {
     "name": "stdout",
     "output_type": "stream",
     "text": [
      "{'val_loss': 1.728722771129957, 'val_accuracy': 0.5942028985507246, 'precision': 0.456569371060133, 'recall': 0.5942028985507246, 'f1-score': 0.4982814755860192, 'macro_f1-score': 0.11967906571885815, 'balanced_accuracy': 0.1266606334759031, 'mcc': 0.4112709702769893, 'train_loss': 1.7767815689851598}\n",
      "Epoch 3/20\n"
     ]
    },
    {
     "name": "stderr",
     "output_type": "stream",
     "text": [
      "100%|██████████| 328/328 [01:25<00:00,  3.82it/s]\n"
     ]
    },
    {
     "name": "stdout",
     "output_type": "stream",
     "text": [
      "{'val_loss': 1.6799988285070513, 'val_accuracy': 0.6102212051868803, 'precision': 0.5002544097879537, 'recall': 0.6102212051868803, 'f1-score': 0.5381396990866126, 'macro_f1-score': 0.17691493524328858, 'balanced_accuracy': 0.18233400724942303, 'mcc': 0.4495910842539112, 'train_loss': 1.427336622029543}\n",
      "Epoch 4/20\n"
     ]
    },
    {
     "name": "stderr",
     "output_type": "stream",
     "text": [
      "100%|██████████| 328/328 [01:23<00:00,  3.90it/s]\n"
     ]
    },
    {
     "name": "stdout",
     "output_type": "stream",
     "text": [
      "{'val_loss': 1.6823328726175355, 'val_accuracy': 0.5484363081617086, 'precision': 0.5565879364597596, 'recall': 0.5484363081617086, 'f1-score': 0.5438161071949755, 'macro_f1-score': 0.22234095160960432, 'balanced_accuracy': 0.24040914364094834, 'mcc': 0.42910635545447157, 'train_loss': 1.12393747851616}\n",
      "Epoch 5/20\n"
     ]
    },
    {
     "name": "stderr",
     "output_type": "stream",
     "text": [
      "100%|██████████| 328/328 [01:25<00:00,  3.85it/s]\n"
     ]
    },
    {
     "name": "stdout",
     "output_type": "stream",
     "text": [
      "{'val_loss': 1.5912317286540822, 'val_accuracy': 0.6292906178489702, 'precision': 0.5767087954467408, 'recall': 0.6292906178489702, 'f1-score': 0.5897510288464886, 'macro_f1-score': 0.27465624814563827, 'balanced_accuracy': 0.26637467461048936, 'mcc': 0.4908434007130365, 'train_loss': 0.8740646663780619}\n",
      "Epoch 6/20\n"
     ]
    },
    {
     "name": "stderr",
     "output_type": "stream",
     "text": [
      "100%|██████████| 328/328 [01:25<00:00,  3.85it/s]\n"
     ]
    },
    {
     "name": "stdout",
     "output_type": "stream",
     "text": [
      "{'val_loss': 1.6216866149589784, 'val_accuracy': 0.6247139588100686, 'precision': 0.6071124222842981, 'recall': 0.6247139588100686, 'f1-score': 0.6069506416546142, 'macro_f1-score': 0.2924860381204419, 'balanced_accuracy': 0.2879114766101436, 'mcc': 0.49941161671881307, 'train_loss': 0.6681017800597702}\n",
      "Epoch 7/20\n"
     ]
    },
    {
     "name": "stderr",
     "output_type": "stream",
     "text": [
      "100%|██████████| 328/328 [01:25<00:00,  3.85it/s]\n"
     ]
    },
    {
     "name": "stdout",
     "output_type": "stream",
     "text": [
      "{'val_loss': 1.7230002936430093, 'val_accuracy': 0.623951182303585, 'precision': 0.6187043736614486, 'recall': 0.623951182303585, 'f1-score': 0.6150440969387221, 'macro_f1-score': 0.3549611163922079, 'balanced_accuracy': 0.35023028706908393, 'mcc': 0.5057278208153653, 'train_loss': 0.5022806493429149}\n",
      "Epoch 8/20\n"
     ]
    },
    {
     "name": "stderr",
     "output_type": "stream",
     "text": [
      "100%|██████████| 328/328 [01:25<00:00,  3.85it/s]\n"
     ]
    },
    {
     "name": "stdout",
     "output_type": "stream",
     "text": [
      "{'val_loss': 1.7792585717468727, 'val_accuracy': 0.6155606407322655, 'precision': 0.6055088126909014, 'recall': 0.6155606407322655, 'f1-score': 0.6020613617603757, 'macro_f1-score': 0.3164777604927645, 'balanced_accuracy': 0.3182196889627497, 'mcc': 0.48870570936656044, 'train_loss': 0.3970176795406676}\n",
      "Epoch 9/20\n"
     ]
    },
    {
     "name": "stderr",
     "output_type": "stream",
     "text": [
      "100%|██████████| 328/328 [01:25<00:00,  3.85it/s]\n"
     ]
    },
    {
     "name": "stdout",
     "output_type": "stream",
     "text": [
      "{'val_loss': 1.8266658580339536, 'val_accuracy': 0.6292906178489702, 'precision': 0.6024221378109318, 'recall': 0.6292906178489702, 'f1-score': 0.6101669438623072, 'macro_f1-score': 0.3281119876806236, 'balanced_accuracy': 0.3276151530187417, 'mcc': 0.503976185826467, 'train_loss': 0.31329642593712975}\n",
      "Epoch 10/20\n"
     ]
    },
    {
     "name": "stderr",
     "output_type": "stream",
     "text": [
      "100%|██████████| 328/328 [01:25<00:00,  3.85it/s]\n"
     ]
    },
    {
     "name": "stdout",
     "output_type": "stream",
     "text": [
      "{'val_loss': 1.8550732215730155, 'val_accuracy': 0.6331045003813882, 'precision': 0.6113271312701309, 'recall': 0.6331045003813882, 'f1-score': 0.6175365491839693, 'macro_f1-score': 0.34521180675704793, 'balanced_accuracy': 0.3383052113609179, 'mcc': 0.5096584638297351, 'train_loss': 0.2506636850785737}\n",
      "Early stopping.\n",
      "\n",
      "[Fold 4]\n",
      "Label distribution after resampling:\n",
      "  label 0: 2471\n",
      "  label 1: 22\n",
      "  label 2: 64\n",
      "  label 3: 24\n",
      "  label 4: 190\n",
      "  label 5: 113\n",
      "  label 6: 93\n",
      "  label 7: 31\n",
      "  label 8: 68\n",
      "  label 9: 29\n",
      "  label 10: 67\n",
      "  label 11: 169\n",
      "  label 12: 190\n",
      "  label 13: 29\n",
      "  label 14: 22\n",
      "  label 15: 25\n",
      "  label 16: 19\n",
      "  label 17: 182\n",
      "  label 18: 92\n",
      "  label 19: 44\n",
      "  label 20: 14\n",
      "  label 21: 35\n",
      "  label 22: 76\n",
      "  label 23: 158\n",
      "  label 24: 13\n",
      "  label 25: 44\n",
      "  label 26: 84\n",
      "  label 27: 48\n",
      "  label 28: 11\n",
      "  label 29: 13\n",
      "  label 30: 11\n",
      "  label 31: 75\n",
      "  label 32: 36\n",
      "  label 33: 31\n",
      "  label 34: 30\n",
      "  label 35: 11\n",
      "  label 36: 22\n",
      "  label 37: 16\n",
      "  label 38: 33\n",
      "  label 39: 10\n",
      "  label 40: 9\n",
      "  label 41: 56\n",
      "  label 42: 18\n",
      "  label 43: 9\n",
      "  label 44: 55\n",
      "  label 45: 241\n",
      "  label 46: 62\n",
      "  label 47: 80\n",
      "model is bert-base-uncased bilstm\n",
      "Epoch 1/20\n"
     ]
    },
    {
     "name": "stderr",
     "output_type": "stream",
     "text": [
      "100%|██████████| 328/328 [01:25<00:00,  3.85it/s]\n"
     ]
    },
    {
     "name": "stdout",
     "output_type": "stream",
     "text": [
      "{'val_loss': 1.9957240049431964, 'val_accuracy': 0.547673531655225, 'precision': 0.3412844998161496, 'recall': 0.547673531655225, 'f1-score': 0.41656219097997843, 'macro_f1-score': 0.055024591269266156, 'balanced_accuracy': 0.06992539965243007, 'mcc': 0.3182993239259171, 'train_loss': 2.3065340291799568}\n",
      "Epoch 2/20\n"
     ]
    },
    {
     "name": "stderr",
     "output_type": "stream",
     "text": [
      "100%|██████████| 328/328 [01:25<00:00,  3.86it/s]\n"
     ]
    },
    {
     "name": "stdout",
     "output_type": "stream",
     "text": [
      "{'val_loss': 1.7185651405555447, 'val_accuracy': 0.5827612509534706, 'precision': 0.4677438790190911, 'recall': 0.5827612509534706, 'f1-score': 0.5062176738971911, 'macro_f1-score': 0.10583684096746952, 'balanced_accuracy': 0.128663770980641, 'mcc': 0.4229926306147796, 'train_loss': 1.8035968858294371}\n",
      "Epoch 3/20\n"
     ]
    },
    {
     "name": "stderr",
     "output_type": "stream",
     "text": [
      "100%|██████████| 328/328 [01:25<00:00,  3.86it/s]\n"
     ]
    },
    {
     "name": "stdout",
     "output_type": "stream",
     "text": [
      "{'val_loss': 1.5528553840590686, 'val_accuracy': 0.6247139588100686, 'precision': 0.5218594400564681, 'recall': 0.6247139588100686, 'f1-score': 0.559335824190655, 'macro_f1-score': 0.17507655960336577, 'balanced_accuracy': 0.1776697313166156, 'mcc': 0.4745426530898125, 'train_loss': 1.4646353490832376}\n",
      "Epoch 4/20\n"
     ]
    },
    {
     "name": "stderr",
     "output_type": "stream",
     "text": [
      "100%|██████████| 328/328 [01:25<00:00,  3.85it/s]\n"
     ]
    },
    {
     "name": "stdout",
     "output_type": "stream",
     "text": [
      "{'val_loss': 1.5720995348401186, 'val_accuracy': 0.6163234172387491, 'precision': 0.5422291367675105, 'recall': 0.6163234172387491, 'f1-score': 0.5652705929160152, 'macro_f1-score': 0.20218247539507841, 'balanced_accuracy': 0.19838308836471233, 'mcc': 0.4672117881784066, 'train_loss': 1.1876566235612078}\n",
      "Epoch 5/20\n"
     ]
    },
    {
     "name": "stderr",
     "output_type": "stream",
     "text": [
      "100%|██████████| 328/328 [01:25<00:00,  3.84it/s]\n"
     ]
    },
    {
     "name": "stdout",
     "output_type": "stream",
     "text": [
      "{'val_loss': 1.604835463006322, 'val_accuracy': 0.6331045003813882, 'precision': 0.60551462743285, 'recall': 0.6331045003813882, 'f1-score': 0.6108008105918291, 'macro_f1-score': 0.30756050556815867, 'balanced_accuracy': 0.31177462068234635, 'mcc': 0.5098233693662299, 'train_loss': 0.9417179964664506}\n",
      "Epoch 6/20\n"
     ]
    },
    {
     "name": "stderr",
     "output_type": "stream",
     "text": [
      "100%|██████████| 328/328 [01:18<00:00,  4.15it/s]\n"
     ]
    },
    {
     "name": "stdout",
     "output_type": "stream",
     "text": [
      "{'val_loss': 1.5801240929016254, 'val_accuracy': 0.6331045003813882, 'precision': 0.6112202093270926, 'recall': 0.6331045003813882, 'f1-score': 0.6132091378230191, 'macro_f1-score': 0.32329669103670927, 'balanced_accuracy': 0.31943332894342175, 'mcc': 0.5141386120068446, 'train_loss': 0.7473621746388878}\n",
      "Epoch 7/20\n"
     ]
    },
    {
     "name": "stderr",
     "output_type": "stream",
     "text": [
      "100%|██████████| 328/328 [01:25<00:00,  3.85it/s]\n"
     ]
    },
    {
     "name": "stdout",
     "output_type": "stream",
     "text": [
      "{'val_loss': 1.609674550047735, 'val_accuracy': 0.6361556064073226, 'precision': 0.6240572537716886, 'recall': 0.6361556064073226, 'f1-score': 0.6187990948106585, 'macro_f1-score': 0.33429975585648425, 'balanced_accuracy': 0.34095428234331715, 'mcc': 0.5210484502121512, 'train_loss': 0.5806813654376239}\n",
      "Epoch 8/20\n"
     ]
    },
    {
     "name": "stderr",
     "output_type": "stream",
     "text": [
      "100%|██████████| 328/328 [01:25<00:00,  3.85it/s]\n"
     ]
    },
    {
     "name": "stdout",
     "output_type": "stream",
     "text": [
      "{'val_loss': 1.7000640209128217, 'val_accuracy': 0.6399694889397407, 'precision': 0.6200255187156443, 'recall': 0.6399694889397407, 'f1-score': 0.6204865693223179, 'macro_f1-score': 0.34020213510372227, 'balanced_accuracy': 0.3460352631818889, 'mcc': 0.5192850504568266, 'train_loss': 0.4438228531876897}\n",
      "Epoch 9/20\n"
     ]
    },
    {
     "name": "stderr",
     "output_type": "stream",
     "text": [
      "100%|██████████| 328/328 [01:25<00:00,  3.85it/s]\n"
     ]
    },
    {
     "name": "stdout",
     "output_type": "stream",
     "text": [
      "{'val_loss': 1.653697483968444, 'val_accuracy': 0.6529366895499619, 'precision': 0.6428221974911601, 'recall': 0.6529366895499619, 'f1-score': 0.6392366182293622, 'macro_f1-score': 0.38048238370066284, 'balanced_accuracy': 0.38670391063448223, 'mcc': 0.5396468737687767, 'train_loss': 0.35519151926812964}\n",
      "Epoch 10/20\n"
     ]
    },
    {
     "name": "stderr",
     "output_type": "stream",
     "text": [
      "100%|██████████| 328/328 [01:25<00:00,  3.85it/s]\n"
     ]
    },
    {
     "name": "stdout",
     "output_type": "stream",
     "text": [
      "{'val_loss': 1.7566055055798553, 'val_accuracy': 0.6224256292906178, 'precision': 0.6269138117770103, 'recall': 0.6224256292906178, 'f1-score': 0.612136226052439, 'macro_f1-score': 0.32190400854331574, 'balanced_accuracy': 0.33380016093272363, 'mcc': 0.5021584295918144, 'train_loss': 0.29568194071819054}\n",
      "Epoch 11/20\n"
     ]
    },
    {
     "name": "stderr",
     "output_type": "stream",
     "text": [
      "100%|██████████| 328/328 [01:25<00:00,  3.85it/s]\n"
     ]
    },
    {
     "name": "stdout",
     "output_type": "stream",
     "text": [
      "{'val_loss': 1.7732273972615964, 'val_accuracy': 0.6369183829138062, 'precision': 0.6416671621657382, 'recall': 0.6369183829138062, 'f1-score': 0.6330840927728113, 'macro_f1-score': 0.36740803662789484, 'balanced_accuracy': 0.3820600652348623, 'mcc': 0.5280176141779367, 'train_loss': 0.23150221071569477}\n",
      "Epoch 12/20\n"
     ]
    },
    {
     "name": "stderr",
     "output_type": "stream",
     "text": [
      "100%|██████████| 328/328 [01:25<00:00,  3.85it/s]\n"
     ]
    },
    {
     "name": "stdout",
     "output_type": "stream",
     "text": [
      "{'val_loss': 1.8537841023104946, 'val_accuracy': 0.6498855835240275, 'precision': 0.6566541549358482, 'recall': 0.6498855835240275, 'f1-score': 0.6444625337766312, 'macro_f1-score': 0.39794982694178865, 'balanced_accuracy': 0.4151957033061815, 'mcc': 0.5364758709652678, 'train_loss': 0.20290732238918724}\n",
      "Epoch 13/20\n"
     ]
    },
    {
     "name": "stderr",
     "output_type": "stream",
     "text": [
      "100%|██████████| 328/328 [01:25<00:00,  3.85it/s]\n"
     ]
    },
    {
     "name": "stdout",
     "output_type": "stream",
     "text": [
      "{'val_loss': 1.8830699528135904, 'val_accuracy': 0.6323417238749046, 'precision': 0.6477622827017347, 'recall': 0.6323417238749046, 'f1-score': 0.6344602873441114, 'macro_f1-score': 0.37524461006780413, 'balanced_accuracy': 0.38866190499667796, 'mcc': 0.5219634842704173, 'train_loss': 0.15292741564988363}\n",
      "Epoch 14/20\n"
     ]
    },
    {
     "name": "stderr",
     "output_type": "stream",
     "text": [
      "100%|██████████| 328/328 [01:25<00:00,  3.85it/s]\n"
     ]
    },
    {
     "name": "stdout",
     "output_type": "stream",
     "text": [
      "{'val_loss': 1.9260585671517907, 'val_accuracy': 0.6308161708619374, 'precision': 0.6354551141050028, 'recall': 0.6308161708619374, 'f1-score': 0.6251260274204541, 'macro_f1-score': 0.36805926978062525, 'balanced_accuracy': 0.3719222959581101, 'mcc': 0.5168120647868287, 'train_loss': 0.13010279723391982}\n",
      "Epoch 15/20\n"
     ]
    },
    {
     "name": "stderr",
     "output_type": "stream",
     "text": [
      "100%|██████████| 328/328 [01:25<00:00,  3.85it/s]\n"
     ]
    },
    {
     "name": "stdout",
     "output_type": "stream",
     "text": [
      "{'val_loss': 1.9164449160055417, 'val_accuracy': 0.6430205949656751, 'precision': 0.6463060588045406, 'recall': 0.6430205949656751, 'f1-score': 0.6390805383507472, 'macro_f1-score': 0.3785008067408697, 'balanced_accuracy': 0.3769195624615571, 'mcc': 0.5303153226477988, 'train_loss': 0.12784254619931212}\n",
      "Early stopping.\n",
      "\n",
      "[Fold 5]\n",
      "Label distribution after resampling:\n",
      "  label 0: 2472\n",
      "  label 1: 21\n",
      "  label 2: 64\n",
      "  label 3: 24\n",
      "  label 4: 191\n",
      "  label 5: 112\n",
      "  label 6: 92\n",
      "  label 7: 31\n",
      "  label 8: 68\n",
      "  label 9: 29\n",
      "  label 10: 68\n",
      "  label 11: 168\n",
      "  label 12: 190\n",
      "  label 13: 29\n",
      "  label 14: 22\n",
      "  label 15: 25\n",
      "  label 16: 19\n",
      "  label 17: 183\n",
      "  label 18: 92\n",
      "  label 19: 44\n",
      "  label 20: 14\n",
      "  label 21: 35\n",
      "  label 22: 76\n",
      "  label 23: 158\n",
      "  label 24: 13\n",
      "  label 25: 44\n",
      "  label 26: 84\n",
      "  label 27: 48\n",
      "  label 28: 11\n",
      "  label 29: 13\n",
      "  label 30: 11\n",
      "  label 31: 75\n",
      "  label 32: 36\n",
      "  label 33: 31\n",
      "  label 34: 30\n",
      "  label 35: 11\n",
      "  label 36: 22\n",
      "  label 37: 16\n",
      "  label 38: 33\n",
      "  label 39: 10\n",
      "  label 40: 9\n",
      "  label 41: 57\n",
      "  label 42: 18\n",
      "  label 43: 9\n",
      "  label 44: 54\n",
      "  label 45: 242\n",
      "  label 46: 61\n",
      "  label 47: 80\n",
      "model is bert-base-uncased bilstm\n",
      "Epoch 1/20\n"
     ]
    },
    {
     "name": "stderr",
     "output_type": "stream",
     "text": [
      "100%|██████████| 328/328 [01:25<00:00,  3.82it/s]\n"
     ]
    },
    {
     "name": "stdout",
     "output_type": "stream",
     "text": [
      "{'val_loss': 1.8927489061181137, 'val_accuracy': 0.562929061784897, 'precision': 0.36890937514640354, 'recall': 0.562929061784897, 'f1-score': 0.44398430668703376, 'macro_f1-score': 0.07759836544477851, 'balanced_accuracy': 0.10724445697200775, 'mcc': 0.3673107516059975, 'train_loss': 2.2866370289064033}\n",
      "Epoch 2/20\n"
     ]
    },
    {
     "name": "stderr",
     "output_type": "stream",
     "text": [
      "100%|██████████| 328/328 [01:10<00:00,  4.68it/s]\n"
     ]
    },
    {
     "name": "stdout",
     "output_type": "stream",
     "text": [
      "{'val_loss': 1.652037757925871, 'val_accuracy': 0.5835240274599542, 'precision': 0.5124222173100889, 'recall': 0.5835240274599542, 'f1-score': 0.514152310842713, 'macro_f1-score': 0.1226207922117894, 'balanced_accuracy': 0.14543841778689945, 'mcc': 0.4284324444459485, 'train_loss': 1.7455460245652896}\n",
      "Epoch 3/20\n"
     ]
    },
    {
     "name": "stderr",
     "output_type": "stream",
     "text": [
      "100%|██████████| 328/328 [01:25<00:00,  3.85it/s]\n"
     ]
    },
    {
     "name": "stdout",
     "output_type": "stream",
     "text": [
      "{'val_loss': 1.5112920119995024, 'val_accuracy': 0.635392829900839, 'precision': 0.5236351670875395, 'recall': 0.635392829900839, 'f1-score': 0.5668925250488399, 'macro_f1-score': 0.1745771054178785, 'balanced_accuracy': 0.1882916879696205, 'mcc': 0.49321705252597187, 'train_loss': 1.418949307101529}\n",
      "Epoch 4/20\n"
     ]
    },
    {
     "name": "stderr",
     "output_type": "stream",
     "text": [
      "100%|██████████| 328/328 [01:25<00:00,  3.85it/s]\n"
     ]
    },
    {
     "name": "stdout",
     "output_type": "stream",
     "text": [
      "{'val_loss': 1.4488164251897393, 'val_accuracy': 0.631578947368421, 'precision': 0.5919893106199196, 'recall': 0.631578947368421, 'f1-score': 0.6022075723055181, 'macro_f1-score': 0.2559910884276611, 'balanced_accuracy': 0.27320929718518194, 'mcc': 0.5136528048708293, 'train_loss': 1.1241416074335575}\n",
      "Epoch 5/20\n"
     ]
    },
    {
     "name": "stderr",
     "output_type": "stream",
     "text": [
      "100%|██████████| 328/328 [01:25<00:00,  3.85it/s]\n"
     ]
    },
    {
     "name": "stdout",
     "output_type": "stream",
     "text": [
      "{'val_loss': 1.4745169605423765, 'val_accuracy': 0.6552250190694127, 'precision': 0.6155768003364808, 'recall': 0.6552250190694127, 'f1-score': 0.6226632192763336, 'macro_f1-score': 0.2888495244682451, 'balanced_accuracy': 0.2946465302307512, 'mcc': 0.5388717540328971, 'train_loss': 0.8656692267736283}\n",
      "Epoch 6/20\n"
     ]
    },
    {
     "name": "stderr",
     "output_type": "stream",
     "text": [
      "100%|██████████| 328/328 [01:25<00:00,  3.85it/s]\n"
     ]
    },
    {
     "name": "stdout",
     "output_type": "stream",
     "text": [
      "{'val_loss': 1.540217087036226, 'val_accuracy': 0.6369183829138062, 'precision': 0.6201254578657336, 'recall': 0.6369183829138062, 'f1-score': 0.619815002907121, 'macro_f1-score': 0.3152494495775942, 'balanced_accuracy': 0.3175276922448549, 'mcc': 0.5217300354601463, 'train_loss': 0.6999027575934078}\n",
      "Epoch 7/20\n"
     ]
    },
    {
     "name": "stderr",
     "output_type": "stream",
     "text": [
      "100%|██████████| 328/328 [01:25<00:00,  3.85it/s]\n"
     ]
    },
    {
     "name": "stdout",
     "output_type": "stream",
     "text": [
      "{'val_loss': 1.571246424462737, 'val_accuracy': 0.6590389016018307, 'precision': 0.6325940291484908, 'recall': 0.6590389016018307, 'f1-score': 0.6263088949783583, 'macro_f1-score': 0.3103696080731067, 'balanced_accuracy': 0.29454482618720695, 'mcc': 0.5340120612167604, 'train_loss': 0.5390370034658145}\n",
      "Epoch 8/20\n"
     ]
    },
    {
     "name": "stderr",
     "output_type": "stream",
     "text": [
      "100%|██████████| 328/328 [01:25<00:00,  3.85it/s]\n"
     ]
    },
    {
     "name": "stdout",
     "output_type": "stream",
     "text": [
      "{'val_loss': 1.5696237561542814, 'val_accuracy': 0.6475972540045767, 'precision': 0.637542001088978, 'recall': 0.6475972540045767, 'f1-score': 0.6331836761607323, 'macro_f1-score': 0.34339521284928703, 'balanced_accuracy': 0.3427230723275166, 'mcc': 0.5385692180107274, 'train_loss': 0.41442955147315996}\n",
      "Epoch 9/20\n"
     ]
    },
    {
     "name": "stderr",
     "output_type": "stream",
     "text": [
      "100%|██████████| 328/328 [01:25<00:00,  3.85it/s]\n"
     ]
    },
    {
     "name": "stdout",
     "output_type": "stream",
     "text": [
      "{'val_loss': 1.5904988123149406, 'val_accuracy': 0.6636155606407322, 'precision': 0.6533735989003134, 'recall': 0.6636155606407322, 'f1-score': 0.6501506446792046, 'macro_f1-score': 0.3844552207686262, 'balanced_accuracy': 0.3638965994455344, 'mcc': 0.5506883333980114, 'train_loss': 0.3247479141190103}\n",
      "Epoch 10/20\n"
     ]
    },
    {
     "name": "stderr",
     "output_type": "stream",
     "text": [
      "100%|██████████| 328/328 [01:25<00:00,  3.86it/s]\n"
     ]
    },
    {
     "name": "stdout",
     "output_type": "stream",
     "text": [
      "{'val_loss': 1.6445524492641774, 'val_accuracy': 0.6636155606407322, 'precision': 0.6542020371699292, 'recall': 0.6636155606407322, 'f1-score': 0.6424824914086453, 'macro_f1-score': 0.3820191009884848, 'balanced_accuracy': 0.3701332578890302, 'mcc': 0.548887007104696, 'train_loss': 0.25502753394610456}\n",
      "Epoch 11/20\n"
     ]
    },
    {
     "name": "stderr",
     "output_type": "stream",
     "text": [
      "100%|██████████| 328/328 [01:25<00:00,  3.85it/s]\n"
     ]
    },
    {
     "name": "stdout",
     "output_type": "stream",
     "text": [
      "{'val_loss': 1.7790702461469463, 'val_accuracy': 0.6536994660564455, 'precision': 0.6375106639515226, 'recall': 0.6536994660564455, 'f1-score': 0.6387384203441603, 'macro_f1-score': 0.3617155145825753, 'balanced_accuracy': 0.37741162078370355, 'mcc': 0.5436115330611039, 'train_loss': 0.24776989772700045}\n",
      "Epoch 12/20\n"
     ]
    },
    {
     "name": "stderr",
     "output_type": "stream",
     "text": [
      "100%|██████████| 328/328 [01:25<00:00,  3.84it/s]\n"
     ]
    },
    {
     "name": "stdout",
     "output_type": "stream",
     "text": [
      "{'val_loss': 1.7247729130634448, 'val_accuracy': 0.6567505720823799, 'precision': 0.6581267945851754, 'recall': 0.6567505720823799, 'f1-score': 0.6512705209908892, 'macro_f1-score': 0.41132006759334255, 'balanced_accuracy': 0.4139353621519863, 'mcc': 0.5528610589756369, 'train_loss': 0.1882694060204369}\n",
      "Epoch 13/20\n"
     ]
    },
    {
     "name": "stderr",
     "output_type": "stream",
     "text": [
      "100%|██████████| 328/328 [01:25<00:00,  3.82it/s]\n"
     ]
    },
    {
     "name": "stdout",
     "output_type": "stream",
     "text": [
      "{'val_loss': 1.799728287974509, 'val_accuracy': 0.6598016781083142, 'precision': 0.6611146373190868, 'recall': 0.6598016781083142, 'f1-score': 0.6551434167419968, 'macro_f1-score': 0.42665080336414557, 'balanced_accuracy': 0.42808631877833275, 'mcc': 0.5525462002868045, 'train_loss': 0.14104513939549557}\n",
      "Epoch 14/20\n"
     ]
    },
    {
     "name": "stderr",
     "output_type": "stream",
     "text": [
      "100%|██████████| 328/328 [01:10<00:00,  4.63it/s]\n"
     ]
    },
    {
     "name": "stdout",
     "output_type": "stream",
     "text": [
      "{'val_loss': 1.8568772012140693, 'val_accuracy': 0.6773455377574371, 'precision': 0.6619747227904382, 'recall': 0.6773455377574371, 'f1-score': 0.6608467565957381, 'macro_f1-score': 0.40668771054472064, 'balanced_accuracy': 0.3854544306785974, 'mcc': 0.5639198079331537, 'train_loss': 0.14247925442121015}\n",
      "Epoch 15/20\n"
     ]
    },
    {
     "name": "stderr",
     "output_type": "stream",
     "text": [
      "100%|██████████| 328/328 [01:25<00:00,  3.85it/s]\n"
     ]
    },
    {
     "name": "stdout",
     "output_type": "stream",
     "text": [
      "{'val_loss': 1.7926669774985895, 'val_accuracy': 0.6598016781083142, 'precision': 0.6856605700472261, 'recall': 0.6598016781083142, 'f1-score': 0.6623013777846626, 'macro_f1-score': 0.44704417766684923, 'balanced_accuracy': 0.4415821634655783, 'mcc': 0.5590653721559581, 'train_loss': 0.10656608829825617}\n",
      "Epoch 16/20\n"
     ]
    },
    {
     "name": "stderr",
     "output_type": "stream",
     "text": [
      "100%|██████████| 328/328 [01:25<00:00,  3.85it/s]\n"
     ]
    },
    {
     "name": "stdout",
     "output_type": "stream",
     "text": [
      "{'val_loss': 1.8787109717363264, 'val_accuracy': 0.6491228070175439, 'precision': 0.6830790773181382, 'recall': 0.6491228070175439, 'f1-score': 0.6572718851299245, 'macro_f1-score': 0.4444681262768357, 'balanced_accuracy': 0.4589229380945608, 'mcc': 0.5517747053917694, 'train_loss': 0.1009816743487424}\n",
      "Epoch 17/20\n"
     ]
    },
    {
     "name": "stderr",
     "output_type": "stream",
     "text": [
      "100%|██████████| 328/328 [01:25<00:00,  3.85it/s]\n"
     ]
    },
    {
     "name": "stdout",
     "output_type": "stream",
     "text": [
      "{'val_loss': 1.926926364622465, 'val_accuracy': 0.6605644546147978, 'precision': 0.6596899509894357, 'recall': 0.6605644546147978, 'f1-score': 0.6532958438940856, 'macro_f1-score': 0.4462260893276208, 'balanced_accuracy': 0.45471363728614245, 'mcc': 0.5548147293339216, 'train_loss': 0.09875158413182716}\n",
      "Epoch 18/20\n"
     ]
    },
    {
     "name": "stderr",
     "output_type": "stream",
     "text": [
      "100%|██████████| 328/328 [01:25<00:00,  3.85it/s]\n"
     ]
    },
    {
     "name": "stdout",
     "output_type": "stream",
     "text": [
      "{'val_loss': 2.1046586939837875, 'val_accuracy': 0.6590389016018307, 'precision': 0.6365587081189158, 'recall': 0.6590389016018307, 'f1-score': 0.6279332637506471, 'macro_f1-score': 0.3931619005556744, 'balanced_accuracy': 0.36948563230307796, 'mcc': 0.5334639382484737, 'train_loss': 0.0803401814262587}\n",
      "Early stopping.\n",
      "\n",
      " === bert-base-uncased + bilstm + none Final 5-fold Cross-Validation Results ===\n",
      "val_loss: 1.8495\n",
      "val_accuracy: 0.6451\n",
      "precision: 0.6549\n",
      "recall: 0.6451\n",
      "f1-score: 0.6398\n",
      "macro_f1-score: 0.4019\n",
      "balanced_accuracy: 0.4035\n",
      "mcc: 0.5329\n",
      "train_loss: 0.2100\n",
      "total_seconds: 7048.0000\n",
      "total_time: 1 hrs 57 mins 28 secs\n",
      "▶ Running: roberta-base + plain + none\n",
      "tokenizer is roberta-base\n",
      "Using device: cuda\n",
      "CUDA Available: True\n",
      "CUDA Device: NVIDIA GeForce RTX 5070 Ti\n",
      "Current GPU Memory Allocated: 0.02 GB\n",
      "Current GPU Memory Cached: 3.05 GB\n",
      "\n",
      "[Fold 1]\n",
      "Label distribution after resampling:\n",
      "  label 0: 2471\n",
      "  label 1: 21\n",
      "  label 2: 64\n",
      "  label 3: 24\n",
      "  label 4: 191\n",
      "  label 5: 113\n",
      "  label 6: 93\n",
      "  label 7: 30\n",
      "  label 8: 68\n",
      "  label 9: 30\n",
      "  label 10: 67\n",
      "  label 11: 169\n",
      "  label 12: 189\n",
      "  label 13: 29\n",
      "  label 14: 22\n",
      "  label 15: 25\n",
      "  label 16: 19\n",
      "  label 17: 183\n",
      "  label 18: 92\n",
      "  label 19: 44\n",
      "  label 20: 13\n",
      "  label 21: 35\n",
      "  label 22: 76\n",
      "  label 23: 158\n",
      "  label 24: 13\n",
      "  label 25: 44\n",
      "  label 26: 84\n",
      "  label 27: 48\n",
      "  label 28: 11\n",
      "  label 29: 13\n",
      "  label 30: 11\n",
      "  label 31: 75\n",
      "  label 32: 36\n",
      "  label 33: 32\n",
      "  label 34: 29\n",
      "  label 35: 11\n",
      "  label 36: 22\n",
      "  label 37: 16\n",
      "  label 38: 33\n",
      "  label 39: 10\n",
      "  label 40: 9\n",
      "  label 41: 57\n",
      "  label 42: 19\n",
      "  label 43: 8\n",
      "  label 44: 54\n",
      "  label 45: 242\n",
      "  label 46: 61\n",
      "  label 47: 80\n",
      "model is roberta-base\n"
     ]
    },
    {
     "name": "stderr",
     "output_type": "stream",
     "text": [
      "Some weights of RobertaForSequenceClassification were not initialized from the model checkpoint at roberta-base and are newly initialized: ['classifier.dense.bias', 'classifier.dense.weight', 'classifier.out_proj.bias', 'classifier.out_proj.weight']\n",
      "You should probably TRAIN this model on a down-stream task to be able to use it for predictions and inference.\n"
     ]
    },
    {
     "name": "stdout",
     "output_type": "stream",
     "text": [
      "Epoch 1/20\n"
     ]
    },
    {
     "name": "stderr",
     "output_type": "stream",
     "text": [
      "100%|██████████| 328/328 [01:14<00:00,  4.41it/s]\n"
     ]
    },
    {
     "name": "stdout",
     "output_type": "stream",
     "text": [
      "{'val_loss': 2.005492047565739, 'val_accuracy': 0.5282012195121951, 'precision': 0.3526403357909654, 'recall': 0.5282012195121951, 'f1-score': 0.41872330803373636, 'macro_f1-score': 0.055768011403748825, 'balanced_accuracy': 0.0732708584608373, 'mcc': 0.305992423436245, 'train_loss': 2.252050342901451}\n",
      "Epoch 2/20\n"
     ]
    },
    {
     "name": "stderr",
     "output_type": "stream",
     "text": [
      "100%|██████████| 328/328 [01:14<00:00,  4.41it/s]\n"
     ]
    },
    {
     "name": "stdout",
     "output_type": "stream",
     "text": [
      "{'val_loss': 1.6650427479932948, 'val_accuracy': 0.5838414634146342, 'precision': 0.4520101922007496, 'recall': 0.5838414634146342, 'f1-score': 0.4984999140410725, 'macro_f1-score': 0.12357994064207269, 'balanced_accuracy': 0.1343430785299723, 'mcc': 0.40352298992834723, 'train_loss': 1.7750437112479676}\n",
      "Epoch 3/20\n"
     ]
    },
    {
     "name": "stderr",
     "output_type": "stream",
     "text": [
      "100%|██████████| 328/328 [01:14<00:00,  4.41it/s]\n"
     ]
    },
    {
     "name": "stdout",
     "output_type": "stream",
     "text": [
      "{'val_loss': 1.5904777686043483, 'val_accuracy': 0.5998475609756098, 'precision': 0.5486263174907287, 'recall': 0.5998475609756098, 'f1-score': 0.5536693482789925, 'macro_f1-score': 0.18733849562101682, 'balanced_accuracy': 0.2087757685096198, 'mcc': 0.45959627250175195, 'train_loss': 1.470067438828509}\n",
      "Epoch 4/20\n"
     ]
    },
    {
     "name": "stderr",
     "output_type": "stream",
     "text": [
      "100%|██████████| 328/328 [01:14<00:00,  4.41it/s]\n"
     ]
    },
    {
     "name": "stdout",
     "output_type": "stream",
     "text": [
      "{'val_loss': 1.54078982407, 'val_accuracy': 0.6067073170731707, 'precision': 0.5285191768843907, 'recall': 0.6067073170731707, 'f1-score': 0.551993065738483, 'macro_f1-score': 0.2198438268841434, 'balanced_accuracy': 0.2180951719443247, 'mcc': 0.4506774137593419, 'train_loss': 1.1959865662019427}\n",
      "Epoch 5/20\n"
     ]
    },
    {
     "name": "stderr",
     "output_type": "stream",
     "text": [
      "100%|██████████| 328/328 [01:14<00:00,  4.41it/s]\n"
     ]
    },
    {
     "name": "stdout",
     "output_type": "stream",
     "text": [
      "{'val_loss': 1.6469580676497482, 'val_accuracy': 0.600609756097561, 'precision': 0.5636667824061391, 'recall': 0.600609756097561, 'f1-score': 0.5662537222908169, 'macro_f1-score': 0.2343884173414694, 'balanced_accuracy': 0.24015791860737587, 'mcc': 0.4590016796921482, 'train_loss': 0.9956709680760779}\n",
      "Epoch 6/20\n"
     ]
    },
    {
     "name": "stderr",
     "output_type": "stream",
     "text": [
      "100%|██████████| 328/328 [01:14<00:00,  4.41it/s]\n"
     ]
    },
    {
     "name": "stdout",
     "output_type": "stream",
     "text": [
      "{'val_loss': 1.5758419385770472, 'val_accuracy': 0.6051829268292683, 'precision': 0.6065607260108383, 'recall': 0.6051829268292683, 'f1-score': 0.5968196268725001, 'macro_f1-score': 0.29785709766184726, 'balanced_accuracy': 0.32837749659277904, 'mcc': 0.4851295960225586, 'train_loss': 0.8074674515916807}\n",
      "Epoch 7/20\n"
     ]
    },
    {
     "name": "stderr",
     "output_type": "stream",
     "text": [
      "100%|██████████| 328/328 [01:14<00:00,  4.39it/s]\n"
     ]
    },
    {
     "name": "stdout",
     "output_type": "stream",
     "text": [
      "{'val_loss': 1.7044487680058653, 'val_accuracy': 0.6234756097560976, 'precision': 0.5806944264987159, 'recall': 0.6234756097560976, 'f1-score': 0.5917205612321477, 'macro_f1-score': 0.28088000217950293, 'balanced_accuracy': 0.27488737885842146, 'mcc': 0.4853876648106499, 'train_loss': 0.6517972255625376}\n",
      "Epoch 8/20\n"
     ]
    },
    {
     "name": "stderr",
     "output_type": "stream",
     "text": [
      "100%|██████████| 328/328 [01:14<00:00,  4.38it/s]\n"
     ]
    },
    {
     "name": "stdout",
     "output_type": "stream",
     "text": [
      "{'val_loss': 1.7514078609827088, 'val_accuracy': 0.6211890243902439, 'precision': 0.6031723741102799, 'recall': 0.6211890243902439, 'f1-score': 0.602092989671849, 'macro_f1-score': 0.3431261353445756, 'balanced_accuracy': 0.339706357724892, 'mcc': 0.49279154065013303, 'train_loss': 0.5168220378549361}\n",
      "Epoch 9/20\n"
     ]
    },
    {
     "name": "stderr",
     "output_type": "stream",
     "text": [
      "100%|██████████| 328/328 [01:02<00:00,  5.27it/s]\n"
     ]
    },
    {
     "name": "stdout",
     "output_type": "stream",
     "text": [
      "{'val_loss': 1.6982049960643053, 'val_accuracy': 0.6471036585365854, 'precision': 0.6278470339206277, 'recall': 0.6471036585365854, 'f1-score': 0.6288712860696979, 'macro_f1-score': 0.3830100998063389, 'balanced_accuracy': 0.38578965299183504, 'mcc': 0.5273658572859076, 'train_loss': 0.42744364064731977}\n",
      "Epoch 10/20\n"
     ]
    },
    {
     "name": "stderr",
     "output_type": "stream",
     "text": [
      "100%|██████████| 328/328 [01:14<00:00,  4.41it/s]\n"
     ]
    },
    {
     "name": "stdout",
     "output_type": "stream",
     "text": [
      "{'val_loss': 1.7666898946754817, 'val_accuracy': 0.6364329268292683, 'precision': 0.6362864858748438, 'recall': 0.6364329268292683, 'f1-score': 0.6289713611914941, 'macro_f1-score': 0.377878599462994, 'balanced_accuracy': 0.37358039406029403, 'mcc': 0.521532178766419, 'train_loss': 0.35852242409955803}\n",
      "Epoch 11/20\n"
     ]
    },
    {
     "name": "stderr",
     "output_type": "stream",
     "text": [
      "100%|██████████| 328/328 [01:14<00:00,  4.41it/s]\n"
     ]
    },
    {
     "name": "stdout",
     "output_type": "stream",
     "text": [
      "{'val_loss': 1.8651645554275047, 'val_accuracy': 0.6486280487804879, 'precision': 0.6437571494099801, 'recall': 0.6486280487804879, 'f1-score': 0.6300333568469088, 'macro_f1-score': 0.37115914393332144, 'balanced_accuracy': 0.3701320272511042, 'mcc': 0.5229603296018815, 'train_loss': 0.27979350581242723}\n",
      "Epoch 12/20\n"
     ]
    },
    {
     "name": "stderr",
     "output_type": "stream",
     "text": [
      "100%|██████████| 328/328 [01:14<00:00,  4.41it/s]\n"
     ]
    },
    {
     "name": "stdout",
     "output_type": "stream",
     "text": [
      "{'val_loss': 1.8891910555227318, 'val_accuracy': 0.6516768292682927, 'precision': 0.6430309299074259, 'recall': 0.6516768292682927, 'f1-score': 0.6367152745757227, 'macro_f1-score': 0.382736012837434, 'balanced_accuracy': 0.37723119250666026, 'mcc': 0.5291407092356121, 'train_loss': 0.2581641501690284}\n",
      "Early stopping.\n",
      "\n",
      "[Fold 2]\n",
      "Label distribution after resampling:\n",
      "  label 0: 2471\n",
      "  label 1: 22\n",
      "  label 2: 64\n",
      "  label 3: 24\n",
      "  label 4: 190\n",
      "  label 5: 113\n",
      "  label 6: 93\n",
      "  label 7: 30\n",
      "  label 8: 68\n",
      "  label 9: 30\n",
      "  label 10: 67\n",
      "  label 11: 169\n",
      "  label 12: 189\n",
      "  label 13: 29\n",
      "  label 14: 23\n",
      "  label 15: 24\n",
      "  label 16: 20\n",
      "  label 17: 182\n",
      "  label 18: 92\n",
      "  label 19: 44\n",
      "  label 20: 13\n",
      "  label 21: 36\n",
      "  label 22: 76\n",
      "  label 23: 157\n",
      "  label 24: 12\n",
      "  label 25: 44\n",
      "  label 26: 84\n",
      "  label 27: 48\n",
      "  label 28: 12\n",
      "  label 29: 12\n",
      "  label 30: 12\n",
      "  label 31: 75\n",
      "  label 32: 36\n",
      "  label 33: 31\n",
      "  label 34: 29\n",
      "  label 35: 12\n",
      "  label 36: 21\n",
      "  label 37: 16\n",
      "  label 38: 33\n",
      "  label 39: 11\n",
      "  label 40: 8\n",
      "  label 41: 57\n",
      "  label 42: 19\n",
      "  label 43: 9\n",
      "  label 44: 54\n",
      "  label 45: 242\n",
      "  label 46: 62\n",
      "  label 47: 80\n",
      "model is roberta-base\n"
     ]
    },
    {
     "name": "stderr",
     "output_type": "stream",
     "text": [
      "Some weights of RobertaForSequenceClassification were not initialized from the model checkpoint at roberta-base and are newly initialized: ['classifier.dense.bias', 'classifier.dense.weight', 'classifier.out_proj.bias', 'classifier.out_proj.weight']\n",
      "You should probably TRAIN this model on a down-stream task to be able to use it for predictions and inference.\n"
     ]
    },
    {
     "name": "stdout",
     "output_type": "stream",
     "text": [
      "Epoch 1/20\n"
     ]
    },
    {
     "name": "stderr",
     "output_type": "stream",
     "text": [
      "100%|██████████| 328/328 [01:14<00:00,  4.41it/s]\n"
     ]
    },
    {
     "name": "stdout",
     "output_type": "stream",
     "text": [
      "{'val_loss': 1.8258333656846024, 'val_accuracy': 0.5598779557589626, 'precision': 0.36947522932750365, 'recall': 0.5598779557589626, 'f1-score': 0.4347955875868333, 'macro_f1-score': 0.058145099548354284, 'balanced_accuracy': 0.08073239642170361, 'mcc': 0.35390768385430904, 'train_loss': 2.238282300168421}\n",
      "Epoch 2/20\n"
     ]
    },
    {
     "name": "stderr",
     "output_type": "stream",
     "text": [
      "100%|██████████| 328/328 [01:14<00:00,  4.41it/s]\n"
     ]
    },
    {
     "name": "stdout",
     "output_type": "stream",
     "text": [
      "{'val_loss': 1.6035550353003711, 'val_accuracy': 0.5842868039664378, 'precision': 0.46381424074892463, 'recall': 0.5842868039664378, 'f1-score': 0.4811668897829307, 'macro_f1-score': 0.10500153977771313, 'balanced_accuracy': 0.11938142138006476, 'mcc': 0.39458853566616714, 'train_loss': 1.7231372191411694}\n",
      "Epoch 3/20\n"
     ]
    },
    {
     "name": "stderr",
     "output_type": "stream",
     "text": [
      "100%|██████████| 328/328 [01:14<00:00,  4.41it/s]\n"
     ]
    },
    {
     "name": "stdout",
     "output_type": "stream",
     "text": [
      "{'val_loss': 1.4826631000856074, 'val_accuracy': 0.623951182303585, 'precision': 0.5811809066445024, 'recall': 0.623951182303585, 'f1-score': 0.5802550562596138, 'macro_f1-score': 0.2194112256851426, 'balanced_accuracy': 0.23000853472608762, 'mcc': 0.4839901092264985, 'train_loss': 1.4058563024169062}\n",
      "Epoch 4/20\n"
     ]
    },
    {
     "name": "stderr",
     "output_type": "stream",
     "text": [
      "100%|██████████| 328/328 [01:14<00:00,  4.41it/s]\n"
     ]
    },
    {
     "name": "stdout",
     "output_type": "stream",
     "text": [
      "{'val_loss': 1.4294118605008939, 'val_accuracy': 0.635392829900839, 'precision': 0.5661943415276172, 'recall': 0.635392829900839, 'f1-score': 0.5907965461128638, 'macro_f1-score': 0.2262259860924798, 'balanced_accuracy': 0.22682490206836378, 'mcc': 0.4982547281274848, 'train_loss': 1.162574565537819}\n",
      "Epoch 5/20\n"
     ]
    },
    {
     "name": "stderr",
     "output_type": "stream",
     "text": [
      "100%|██████████| 328/328 [01:14<00:00,  4.41it/s]\n"
     ]
    },
    {
     "name": "stdout",
     "output_type": "stream",
     "text": [
      "{'val_loss': 1.4963217639341586, 'val_accuracy': 0.6109839816933639, 'precision': 0.6181202736081303, 'recall': 0.6109839816933639, 'f1-score': 0.6044902239332254, 'macro_f1-score': 0.2982059401073857, 'balanced_accuracy': 0.3356013905938742, 'mcc': 0.5031152781558973, 'train_loss': 0.9423320335676757}\n",
      "Epoch 6/20\n"
     ]
    },
    {
     "name": "stderr",
     "output_type": "stream",
     "text": [
      "100%|██████████| 328/328 [01:14<00:00,  4.41it/s]\n"
     ]
    },
    {
     "name": "stdout",
     "output_type": "stream",
     "text": [
      "{'val_loss': 1.584482127936875, 'val_accuracy': 0.6247139588100686, 'precision': 0.5806224715738276, 'recall': 0.6247139588100686, 'f1-score': 0.588007329687857, 'macro_f1-score': 0.2707292677169453, 'balanced_accuracy': 0.2788917485297647, 'mcc': 0.48511234475780146, 'train_loss': 0.7464071159228319}\n",
      "Epoch 7/20\n"
     ]
    },
    {
     "name": "stderr",
     "output_type": "stream",
     "text": [
      "100%|██████████| 328/328 [01:14<00:00,  4.41it/s]\n"
     ]
    },
    {
     "name": "stdout",
     "output_type": "stream",
     "text": [
      "{'val_loss': 1.6763988944088541, 'val_accuracy': 0.6048817696414951, 'precision': 0.6381041263830189, 'recall': 0.6048817696414951, 'f1-score': 0.6075606441344934, 'macro_f1-score': 0.33914554719170953, 'balanced_accuracy': 0.39164452748143114, 'mcc': 0.5074994249710043, 'train_loss': 0.6168918093530144}\n",
      "Epoch 8/20\n"
     ]
    },
    {
     "name": "stderr",
     "output_type": "stream",
     "text": [
      "100%|██████████| 328/328 [01:14<00:00,  4.41it/s]\n"
     ]
    },
    {
     "name": "stdout",
     "output_type": "stream",
     "text": [
      "{'val_loss': 1.639677651044799, 'val_accuracy': 0.6125095347063311, 'precision': 0.6188283079141748, 'recall': 0.6125095347063311, 'f1-score': 0.6045535580521225, 'macro_f1-score': 0.3342126462609792, 'balanced_accuracy': 0.3361684694040196, 'mcc': 0.4928371385104956, 'train_loss': 0.5130667225003425}\n",
      "Epoch 9/20\n"
     ]
    },
    {
     "name": "stderr",
     "output_type": "stream",
     "text": [
      "100%|██████████| 328/328 [01:14<00:00,  4.40it/s]\n"
     ]
    },
    {
     "name": "stdout",
     "output_type": "stream",
     "text": [
      "{'val_loss': 1.7376641918246338, 'val_accuracy': 0.6514111365369947, 'precision': 0.6133407528800484, 'recall': 0.6514111365369947, 'f1-score': 0.6174196154795027, 'macro_f1-score': 0.31826362019811477, 'balanced_accuracy': 0.3199133200575291, 'mcc': 0.5265384465511163, 'train_loss': 0.4016802877573887}\n",
      "Epoch 10/20\n"
     ]
    },
    {
     "name": "stderr",
     "output_type": "stream",
     "text": [
      "100%|██████████| 328/328 [01:14<00:00,  4.38it/s]\n"
     ]
    },
    {
     "name": "stdout",
     "output_type": "stream",
     "text": [
      "{'val_loss': 1.9319167420631502, 'val_accuracy': 0.5865751334858886, 'precision': 0.6262124959456207, 'recall': 0.5865751334858886, 'f1-score': 0.58858098142323, 'macro_f1-score': 0.30370290857839727, 'balanced_accuracy': 0.3309893474703719, 'mcc': 0.48476153110652237, 'train_loss': 0.34170415077540206}\n",
      "Early stopping.\n",
      "\n",
      "[Fold 3]\n",
      "Label distribution after resampling:\n",
      "  label 0: 2471\n",
      "  label 1: 22\n",
      "  label 2: 64\n",
      "  label 3: 24\n",
      "  label 4: 190\n",
      "  label 5: 113\n",
      "  label 6: 93\n",
      "  label 7: 30\n",
      "  label 8: 68\n",
      "  label 9: 30\n",
      "  label 10: 67\n",
      "  label 11: 169\n",
      "  label 12: 190\n",
      "  label 13: 28\n",
      "  label 14: 23\n",
      "  label 15: 25\n",
      "  label 16: 19\n",
      "  label 17: 182\n",
      "  label 18: 92\n",
      "  label 19: 44\n",
      "  label 20: 14\n",
      "  label 21: 35\n",
      "  label 22: 76\n",
      "  label 23: 157\n",
      "  label 24: 13\n",
      "  label 25: 44\n",
      "  label 26: 84\n",
      "  label 27: 48\n",
      "  label 28: 11\n",
      "  label 29: 13\n",
      "  label 30: 11\n",
      "  label 31: 76\n",
      "  label 32: 36\n",
      "  label 33: 31\n",
      "  label 34: 30\n",
      "  label 35: 11\n",
      "  label 36: 21\n",
      "  label 37: 16\n",
      "  label 38: 32\n",
      "  label 39: 11\n",
      "  label 40: 9\n",
      "  label 41: 57\n",
      "  label 42: 18\n",
      "  label 43: 9\n",
      "  label 44: 55\n",
      "  label 45: 241\n",
      "  label 46: 62\n",
      "  label 47: 80\n",
      "model is roberta-base\n"
     ]
    },
    {
     "name": "stderr",
     "output_type": "stream",
     "text": [
      "Some weights of RobertaForSequenceClassification were not initialized from the model checkpoint at roberta-base and are newly initialized: ['classifier.dense.bias', 'classifier.dense.weight', 'classifier.out_proj.bias', 'classifier.out_proj.weight']\n",
      "You should probably TRAIN this model on a down-stream task to be able to use it for predictions and inference.\n"
     ]
    },
    {
     "name": "stdout",
     "output_type": "stream",
     "text": [
      "Epoch 1/20\n"
     ]
    },
    {
     "name": "stderr",
     "output_type": "stream",
     "text": [
      "100%|██████████| 328/328 [01:14<00:00,  4.38it/s]\n"
     ]
    },
    {
     "name": "stdout",
     "output_type": "stream",
     "text": [
      "{'val_loss': 2.0098828491641254, 'val_accuracy': 0.5430968726163234, 'precision': 0.3815655016493037, 'recall': 0.5430968726163234, 'f1-score': 0.4409127646019571, 'macro_f1-score': 0.060733796581234255, 'balanced_accuracy': 0.08222511058969112, 'mcc': 0.34063515475423417, 'train_loss': 2.285343627013811}\n",
      "Epoch 2/20\n"
     ]
    },
    {
     "name": "stderr",
     "output_type": "stream",
     "text": [
      "100%|██████████| 328/328 [01:03<00:00,  5.14it/s]\n"
     ]
    },
    {
     "name": "stdout",
     "output_type": "stream",
     "text": [
      "{'val_loss': 1.8303815155494503, 'val_accuracy': 0.5652173913043478, 'precision': 0.40423283984879693, 'recall': 0.5652173913043478, 'f1-score': 0.4638211394710037, 'macro_f1-score': 0.07938982935614845, 'balanced_accuracy': 0.09758120796847214, 'mcc': 0.37189719068212884, 'train_loss': 1.8515852538914215}\n",
      "Epoch 3/20\n"
     ]
    },
    {
     "name": "stderr",
     "output_type": "stream",
     "text": [
      "100%|██████████| 328/328 [01:14<00:00,  4.41it/s]\n"
     ]
    },
    {
     "name": "stdout",
     "output_type": "stream",
     "text": [
      "{'val_loss': 1.6545972646009632, 'val_accuracy': 0.5942028985507246, 'precision': 0.496794276114136, 'recall': 0.5942028985507246, 'f1-score': 0.5265647558186727, 'macro_f1-score': 0.15128015702210196, 'balanced_accuracy': 0.15976505835538127, 'mcc': 0.43033871751331265, 'train_loss': 1.5680920521660549}\n",
      "Epoch 4/20\n"
     ]
    },
    {
     "name": "stderr",
     "output_type": "stream",
     "text": [
      "100%|██████████| 328/328 [01:14<00:00,  4.41it/s]\n"
     ]
    },
    {
     "name": "stdout",
     "output_type": "stream",
     "text": [
      "{'val_loss': 1.6052195974966375, 'val_accuracy': 0.5926773455377574, 'precision': 0.5355212331752041, 'recall': 0.5926773455377574, 'f1-score': 0.5392369761139596, 'macro_f1-score': 0.19613144774502178, 'balanced_accuracy': 0.20772709257681907, 'mcc': 0.43962993309925774, 'train_loss': 1.3207847943029754}\n",
      "Epoch 5/20\n"
     ]
    },
    {
     "name": "stderr",
     "output_type": "stream",
     "text": [
      "100%|██████████| 328/328 [01:14<00:00,  4.41it/s]\n"
     ]
    },
    {
     "name": "stdout",
     "output_type": "stream",
     "text": [
      "{'val_loss': 1.5335858013571761, 'val_accuracy': 0.6125095347063311, 'precision': 0.556850757265164, 'recall': 0.6125095347063311, 'f1-score': 0.568900908667902, 'macro_f1-score': 0.23054091641119723, 'balanced_accuracy': 0.23623072635788914, 'mcc': 0.46978596730868494, 'train_loss': 1.1056034229241494}\n",
      "Epoch 6/20\n"
     ]
    },
    {
     "name": "stderr",
     "output_type": "stream",
     "text": [
      "100%|██████████| 328/328 [01:14<00:00,  4.41it/s]\n"
     ]
    },
    {
     "name": "stdout",
     "output_type": "stream",
     "text": [
      "{'val_loss': 1.6548546905197747, 'val_accuracy': 0.5873379099923722, 'precision': 0.5405372445173713, 'recall': 0.5873379099923722, 'f1-score': 0.5522646142663175, 'macro_f1-score': 0.21168077134611943, 'balanced_accuracy': 0.208062673494072, 'mcc': 0.4343541388470492, 'train_loss': 0.907162527531022}\n",
      "Epoch 7/20\n"
     ]
    },
    {
     "name": "stderr",
     "output_type": "stream",
     "text": [
      "100%|██████████| 328/328 [01:14<00:00,  4.41it/s]\n"
     ]
    },
    {
     "name": "stdout",
     "output_type": "stream",
     "text": [
      "{'val_loss': 1.629825745413943, 'val_accuracy': 0.6140350877192983, 'precision': 0.5824016077452611, 'recall': 0.6140350877192983, 'f1-score': 0.5808371795369777, 'macro_f1-score': 0.2523152701919113, 'balanced_accuracy': 0.24475005092082922, 'mcc': 0.4737396541057098, 'train_loss': 0.7546156120554703}\n",
      "Epoch 8/20\n"
     ]
    },
    {
     "name": "stderr",
     "output_type": "stream",
     "text": [
      "100%|██████████| 328/328 [01:14<00:00,  4.41it/s]\n"
     ]
    },
    {
     "name": "stdout",
     "output_type": "stream",
     "text": [
      "{'val_loss': 1.6767818262664282, 'val_accuracy': 0.6140350877192983, 'precision': 0.6143312292069408, 'recall': 0.6140350877192983, 'f1-score': 0.6018307658196195, 'macro_f1-score': 0.29443278414298596, 'balanced_accuracy': 0.31625172106435484, 'mcc': 0.49371020502935237, 'train_loss': 0.6268010825463911}\n",
      "Epoch 9/20\n"
     ]
    },
    {
     "name": "stderr",
     "output_type": "stream",
     "text": [
      "100%|██████████| 328/328 [01:14<00:00,  4.41it/s]\n"
     ]
    },
    {
     "name": "stdout",
     "output_type": "stream",
     "text": [
      "{'val_loss': 1.735268573935439, 'val_accuracy': 0.6125095347063311, 'precision': 0.5915125372387429, 'recall': 0.6125095347063311, 'f1-score': 0.5972409655647255, 'macro_f1-score': 0.3077722941367869, 'balanced_accuracy': 0.30447612310951355, 'mcc': 0.4842350766235876, 'train_loss': 0.5024898504531693}\n",
      "Epoch 10/20\n"
     ]
    },
    {
     "name": "stderr",
     "output_type": "stream",
     "text": [
      "100%|██████████| 328/328 [01:14<00:00,  4.41it/s]\n"
     ]
    },
    {
     "name": "stdout",
     "output_type": "stream",
     "text": [
      "{'val_loss': 1.8508896417007215, 'val_accuracy': 0.6071700991609459, 'precision': 0.6215351277951016, 'recall': 0.6071700991609459, 'f1-score': 0.6011433961627235, 'macro_f1-score': 0.32907149066227553, 'balanced_accuracy': 0.3375531175116862, 'mcc': 0.49610098420502147, 'train_loss': 0.4272930691268568}\n",
      "Epoch 11/20\n"
     ]
    },
    {
     "name": "stderr",
     "output_type": "stream",
     "text": [
      "100%|██████████| 328/328 [01:14<00:00,  4.41it/s]\n"
     ]
    },
    {
     "name": "stdout",
     "output_type": "stream",
     "text": [
      "{'val_loss': 1.839751379155531, 'val_accuracy': 0.6323417238749046, 'precision': 0.6157274914892787, 'recall': 0.6323417238749046, 'f1-score': 0.6155583500159728, 'macro_f1-score': 0.3486072685547, 'balanced_accuracy': 0.3541611796223963, 'mcc': 0.5069011588892122, 'train_loss': 0.3503197974372065}\n",
      "Epoch 12/20\n"
     ]
    },
    {
     "name": "stderr",
     "output_type": "stream",
     "text": [
      "100%|██████████| 328/328 [01:14<00:00,  4.41it/s]\n"
     ]
    },
    {
     "name": "stdout",
     "output_type": "stream",
     "text": [
      "{'val_loss': 1.8940033024040663, 'val_accuracy': 0.6048817696414951, 'precision': 0.6043057004691434, 'recall': 0.6048817696414951, 'f1-score': 0.6014607964301149, 'macro_f1-score': 0.33129380681092513, 'balanced_accuracy': 0.34928020767200924, 'mcc': 0.48805052436819113, 'train_loss': 0.2948363789573039}\n",
      "Epoch 13/20\n"
     ]
    },
    {
     "name": "stderr",
     "output_type": "stream",
     "text": [
      "100%|██████████| 328/328 [01:14<00:00,  4.41it/s]\n"
     ]
    },
    {
     "name": "stdout",
     "output_type": "stream",
     "text": [
      "{'val_loss': 1.9429825773326361, 'val_accuracy': 0.6125095347063311, 'precision': 0.6236250222021038, 'recall': 0.6125095347063311, 'f1-score': 0.6130687793949173, 'macro_f1-score': 0.3402084059917249, 'balanced_accuracy': 0.3478222844913399, 'mcc': 0.503796809899379, 'train_loss': 0.25629768843433204}\n",
      "Epoch 14/20\n"
     ]
    },
    {
     "name": "stderr",
     "output_type": "stream",
     "text": [
      "100%|██████████| 328/328 [01:14<00:00,  4.39it/s]\n"
     ]
    },
    {
     "name": "stdout",
     "output_type": "stream",
     "text": [
      "{'val_loss': 2.014248282625908, 'val_accuracy': 0.6262395118230358, 'precision': 0.6344387302041259, 'recall': 0.6262395118230358, 'f1-score': 0.6218283627793098, 'macro_f1-score': 0.3788121295408278, 'balanced_accuracy': 0.38526109365195915, 'mcc': 0.5129750075703311, 'train_loss': 0.3131452302686961}\n",
      "Epoch 15/20\n"
     ]
    },
    {
     "name": "stderr",
     "output_type": "stream",
     "text": [
      "100%|██████████| 328/328 [01:14<00:00,  4.38it/s]\n"
     ]
    },
    {
     "name": "stdout",
     "output_type": "stream",
     "text": [
      "{'val_loss': 2.0801136039152013, 'val_accuracy': 0.623951182303585, 'precision': 0.6242740947136686, 'recall': 0.623951182303585, 'f1-score': 0.6172963471476366, 'macro_f1-score': 0.36177088514279027, 'balanced_accuracy': 0.3508935927077539, 'mcc': 0.5037940536155482, 'train_loss': 0.2112613950370493}\n",
      "Epoch 16/20\n"
     ]
    },
    {
     "name": "stderr",
     "output_type": "stream",
     "text": [
      "100%|██████████| 328/328 [01:02<00:00,  5.24it/s]\n"
     ]
    },
    {
     "name": "stdout",
     "output_type": "stream",
     "text": [
      "{'val_loss': 2.1725309120445715, 'val_accuracy': 0.6025934401220442, 'precision': 0.615979176642453, 'recall': 0.6025934401220442, 'f1-score': 0.60256076496013, 'macro_f1-score': 0.33135276173812384, 'balanced_accuracy': 0.3401905684648318, 'mcc': 0.4873413221103475, 'train_loss': 0.17157034580766156}\n",
      "Epoch 17/20\n"
     ]
    },
    {
     "name": "stderr",
     "output_type": "stream",
     "text": [
      "100%|██████████| 328/328 [01:14<00:00,  4.41it/s]\n"
     ]
    },
    {
     "name": "stdout",
     "output_type": "stream",
     "text": [
      "{'val_loss': 2.1459388423075034, 'val_accuracy': 0.620137299771167, 'precision': 0.6151757071686451, 'recall': 0.620137299771167, 'f1-score': 0.6098370029799932, 'macro_f1-score': 0.34821450652090674, 'balanced_accuracy': 0.33587699439234814, 'mcc': 0.49149022536899867, 'train_loss': 0.13615387850213886}\n",
      "Early stopping.\n",
      "\n",
      "[Fold 4]\n",
      "Label distribution after resampling:\n",
      "  label 0: 2471\n",
      "  label 1: 22\n",
      "  label 2: 64\n",
      "  label 3: 24\n",
      "  label 4: 190\n",
      "  label 5: 113\n",
      "  label 6: 93\n",
      "  label 7: 31\n",
      "  label 8: 68\n",
      "  label 9: 29\n",
      "  label 10: 67\n",
      "  label 11: 169\n",
      "  label 12: 190\n",
      "  label 13: 29\n",
      "  label 14: 22\n",
      "  label 15: 25\n",
      "  label 16: 19\n",
      "  label 17: 182\n",
      "  label 18: 92\n",
      "  label 19: 44\n",
      "  label 20: 14\n",
      "  label 21: 35\n",
      "  label 22: 76\n",
      "  label 23: 158\n",
      "  label 24: 13\n",
      "  label 25: 44\n",
      "  label 26: 84\n",
      "  label 27: 48\n",
      "  label 28: 11\n",
      "  label 29: 13\n",
      "  label 30: 11\n",
      "  label 31: 75\n",
      "  label 32: 36\n",
      "  label 33: 31\n",
      "  label 34: 30\n",
      "  label 35: 11\n",
      "  label 36: 22\n",
      "  label 37: 16\n",
      "  label 38: 33\n",
      "  label 39: 10\n",
      "  label 40: 9\n",
      "  label 41: 56\n",
      "  label 42: 18\n",
      "  label 43: 9\n",
      "  label 44: 55\n",
      "  label 45: 241\n",
      "  label 46: 62\n",
      "  label 47: 80\n",
      "model is roberta-base\n"
     ]
    },
    {
     "name": "stderr",
     "output_type": "stream",
     "text": [
      "Some weights of RobertaForSequenceClassification were not initialized from the model checkpoint at roberta-base and are newly initialized: ['classifier.dense.bias', 'classifier.dense.weight', 'classifier.out_proj.bias', 'classifier.out_proj.weight']\n",
      "You should probably TRAIN this model on a down-stream task to be able to use it for predictions and inference.\n"
     ]
    },
    {
     "name": "stdout",
     "output_type": "stream",
     "text": [
      "Epoch 1/20\n"
     ]
    },
    {
     "name": "stderr",
     "output_type": "stream",
     "text": [
      "100%|██████████| 328/328 [01:14<00:00,  4.41it/s]\n"
     ]
    },
    {
     "name": "stdout",
     "output_type": "stream",
     "text": [
      "{'val_loss': 1.844904866887302, 'val_accuracy': 0.5491990846681922, 'precision': 0.41293069381065317, 'recall': 0.5491990846681922, 'f1-score': 0.4527428172142983, 'macro_f1-score': 0.07009087526766623, 'balanced_accuracy': 0.0907789620046839, 'mcc': 0.3562684500498955, 'train_loss': 2.1804524538357084}\n",
      "Epoch 2/20\n"
     ]
    },
    {
     "name": "stderr",
     "output_type": "stream",
     "text": [
      "100%|██████████| 328/328 [01:14<00:00,  4.41it/s]\n"
     ]
    },
    {
     "name": "stdout",
     "output_type": "stream",
     "text": [
      "{'val_loss': 1.6088908223844156, 'val_accuracy': 0.5850495804729214, 'precision': 0.47398301407260934, 'recall': 0.5850495804729214, 'f1-score': 0.5151209538180008, 'macro_f1-score': 0.14401916851188576, 'balanced_accuracy': 0.17295942659412053, 'mcc': 0.42556132420323, 'train_loss': 1.6885150859995586}\n",
      "Epoch 3/20\n"
     ]
    },
    {
     "name": "stderr",
     "output_type": "stream",
     "text": [
      "100%|██████████| 328/328 [01:14<00:00,  4.41it/s]\n"
     ]
    },
    {
     "name": "stdout",
     "output_type": "stream",
     "text": [
      "{'val_loss': 1.5174724746768067, 'val_accuracy': 0.6117467581998475, 'precision': 0.5265841757648273, 'recall': 0.6117467581998475, 'f1-score': 0.5474115928631993, 'macro_f1-score': 0.1913246458926345, 'balanced_accuracy': 0.20020571652442984, 'mcc': 0.4588544892076384, 'train_loss': 1.3924542405619853}\n",
      "Epoch 4/20\n"
     ]
    },
    {
     "name": "stderr",
     "output_type": "stream",
     "text": [
      "100%|██████████| 328/328 [01:14<00:00,  4.41it/s]\n"
     ]
    },
    {
     "name": "stdout",
     "output_type": "stream",
     "text": [
      "{'val_loss': 1.4248183774875431, 'val_accuracy': 0.6460717009916095, 'precision': 0.6083810859760174, 'recall': 0.6460717009916095, 'f1-score': 0.6113304000546776, 'macro_f1-score': 0.29149953688856284, 'balanced_accuracy': 0.2794775842457044, 'mcc': 0.517223705595422, 'train_loss': 1.1367222858910881}\n",
      "Epoch 5/20\n"
     ]
    },
    {
     "name": "stderr",
     "output_type": "stream",
     "text": [
      "100%|██████████| 328/328 [01:14<00:00,  4.41it/s]\n"
     ]
    },
    {
     "name": "stdout",
     "output_type": "stream",
     "text": [
      "{'val_loss': 1.4408295234528983, 'val_accuracy': 0.6475972540045767, 'precision': 0.604988189952042, 'recall': 0.6475972540045767, 'f1-score': 0.6164920035804838, 'macro_f1-score': 0.31455227692702187, 'balanced_accuracy': 0.30879545095516114, 'mcc': 0.5217024612975277, 'train_loss': 0.9158314117116899}\n",
      "Epoch 6/20\n"
     ]
    },
    {
     "name": "stderr",
     "output_type": "stream",
     "text": [
      "100%|██████████| 328/328 [01:14<00:00,  4.41it/s]\n"
     ]
    },
    {
     "name": "stdout",
     "output_type": "stream",
     "text": [
      "{'val_loss': 1.525065750156234, 'val_accuracy': 0.6216628527841342, 'precision': 0.6161152399066486, 'recall': 0.6216628527841342, 'f1-score': 0.6054109682541889, 'macro_f1-score': 0.3137136377918623, 'balanced_accuracy': 0.31467335044273964, 'mcc': 0.5009254545908844, 'train_loss': 0.754137350087304}\n",
      "Epoch 7/20\n"
     ]
    },
    {
     "name": "stderr",
     "output_type": "stream",
     "text": [
      "100%|██████████| 328/328 [01:14<00:00,  4.41it/s]\n"
     ]
    },
    {
     "name": "stdout",
     "output_type": "stream",
     "text": [
      "{'val_loss': 1.5179843543687972, 'val_accuracy': 0.6384439359267735, 'precision': 0.6254835988977024, 'recall': 0.6384439359267735, 'f1-score': 0.6218012110873539, 'macro_f1-score': 0.32905657996015364, 'balanced_accuracy': 0.33316530005497774, 'mcc': 0.5195092517584481, 'train_loss': 0.5973220263812237}\n",
      "Epoch 8/20\n"
     ]
    },
    {
     "name": "stderr",
     "output_type": "stream",
     "text": [
      "100%|██████████| 328/328 [01:14<00:00,  4.41it/s]\n"
     ]
    },
    {
     "name": "stdout",
     "output_type": "stream",
     "text": [
      "{'val_loss': 1.6845112122231867, 'val_accuracy': 0.6384439359267735, 'precision': 0.6550075361010932, 'recall': 0.6384439359267735, 'f1-score': 0.6375063618912847, 'macro_f1-score': 0.38213970719553364, 'balanced_accuracy': 0.41111058003583095, 'mcc': 0.5376050723168132, 'train_loss': 0.46094011673249485}\n",
      "Epoch 9/20\n"
     ]
    },
    {
     "name": "stderr",
     "output_type": "stream",
     "text": [
      "100%|██████████| 328/328 [01:14<00:00,  4.41it/s]\n"
     ]
    },
    {
     "name": "stdout",
     "output_type": "stream",
     "text": [
      "{'val_loss': 1.7559524909025286, 'val_accuracy': 0.6209000762776506, 'precision': 0.6214093319995433, 'recall': 0.6209000762776506, 'f1-score': 0.6130269319021622, 'macro_f1-score': 0.34831219036481637, 'balanced_accuracy': 0.37145800102853016, 'mcc': 0.5157978438723759, 'train_loss': 0.3941637989269888}\n",
      "Epoch 10/20\n"
     ]
    },
    {
     "name": "stderr",
     "output_type": "stream",
     "text": [
      "100%|██████████| 328/328 [01:14<00:00,  4.41it/s]\n"
     ]
    },
    {
     "name": "stdout",
     "output_type": "stream",
     "text": [
      "{'val_loss': 1.8483582119934443, 'val_accuracy': 0.6117467581998475, 'precision': 0.6295875464022654, 'recall': 0.6117467581998475, 'f1-score': 0.6102530226864655, 'macro_f1-score': 0.33836610415972695, 'balanced_accuracy': 0.3645738892869039, 'mcc': 0.5053229430057723, 'train_loss': 0.3242568772445183}\n",
      "Epoch 11/20\n"
     ]
    },
    {
     "name": "stderr",
     "output_type": "stream",
     "text": [
      "100%|██████████| 328/328 [01:14<00:00,  4.40it/s]\n"
     ]
    },
    {
     "name": "stdout",
     "output_type": "stream",
     "text": [
      "{'val_loss': 1.7418532334040941, 'val_accuracy': 0.6514111365369947, 'precision': 0.6493508371592618, 'recall': 0.6514111365369947, 'f1-score': 0.6444021735050202, 'macro_f1-score': 0.38989990722583245, 'balanced_accuracy': 0.4012717941232345, 'mcc': 0.5414325660494886, 'train_loss': 0.2772493610675333}\n",
      "Epoch 12/20\n"
     ]
    },
    {
     "name": "stderr",
     "output_type": "stream",
     "text": [
      "100%|██████████| 328/328 [01:14<00:00,  4.38it/s]\n"
     ]
    },
    {
     "name": "stdout",
     "output_type": "stream",
     "text": [
      "{'val_loss': 1.8200674730398487, 'val_accuracy': 0.6414950419527079, 'precision': 0.6412992186960215, 'recall': 0.6414950419527079, 'f1-score': 0.631923432087093, 'macro_f1-score': 0.37757243112801514, 'balanced_accuracy': 0.3778339575514875, 'mcc': 0.5255073346437841, 'train_loss': 0.24127742605817662}\n",
      "Epoch 13/20\n"
     ]
    },
    {
     "name": "stderr",
     "output_type": "stream",
     "text": [
      "100%|██████████| 328/328 [01:04<00:00,  5.09it/s]\n"
     ]
    },
    {
     "name": "stdout",
     "output_type": "stream",
     "text": [
      "{'val_loss': 1.8885362691404979, 'val_accuracy': 0.6338672768878718, 'precision': 0.6489244654736724, 'recall': 0.6338672768878718, 'f1-score': 0.6321013670739057, 'macro_f1-score': 0.3729306529432364, 'balanced_accuracy': 0.38282708425997053, 'mcc': 0.523951746146258, 'train_loss': 0.2158619049800242}\n",
      "Epoch 14/20\n"
     ]
    },
    {
     "name": "stderr",
     "output_type": "stream",
     "text": [
      "100%|██████████| 328/328 [00:27<00:00, 11.73it/s]\n"
     ]
    },
    {
     "name": "stdout",
     "output_type": "stream",
     "text": [
      "{'val_loss': 1.8257605049577428, 'val_accuracy': 0.6414950419527079, 'precision': 0.6512375959127619, 'recall': 0.6414950419527079, 'f1-score': 0.6348254600964186, 'macro_f1-score': 0.3834164548884828, 'balanced_accuracy': 0.3869399568389316, 'mcc': 0.5266631241777611, 'train_loss': 0.19483169517763776}\n",
      "Early stopping.\n",
      "\n",
      "[Fold 5]\n",
      "Label distribution after resampling:\n",
      "  label 0: 2472\n",
      "  label 1: 21\n",
      "  label 2: 64\n",
      "  label 3: 24\n",
      "  label 4: 191\n",
      "  label 5: 112\n",
      "  label 6: 92\n",
      "  label 7: 31\n",
      "  label 8: 68\n",
      "  label 9: 29\n",
      "  label 10: 68\n",
      "  label 11: 168\n",
      "  label 12: 190\n",
      "  label 13: 29\n",
      "  label 14: 22\n",
      "  label 15: 25\n",
      "  label 16: 19\n",
      "  label 17: 183\n",
      "  label 18: 92\n",
      "  label 19: 44\n",
      "  label 20: 14\n",
      "  label 21: 35\n",
      "  label 22: 76\n",
      "  label 23: 158\n",
      "  label 24: 13\n",
      "  label 25: 44\n",
      "  label 26: 84\n",
      "  label 27: 48\n",
      "  label 28: 11\n",
      "  label 29: 13\n",
      "  label 30: 11\n",
      "  label 31: 75\n",
      "  label 32: 36\n",
      "  label 33: 31\n",
      "  label 34: 30\n",
      "  label 35: 11\n",
      "  label 36: 22\n",
      "  label 37: 16\n",
      "  label 38: 33\n",
      "  label 39: 10\n",
      "  label 40: 9\n",
      "  label 41: 57\n",
      "  label 42: 18\n",
      "  label 43: 9\n",
      "  label 44: 54\n",
      "  label 45: 242\n",
      "  label 46: 61\n",
      "  label 47: 80\n",
      "model is roberta-base\n"
     ]
    },
    {
     "name": "stderr",
     "output_type": "stream",
     "text": [
      "Some weights of RobertaForSequenceClassification were not initialized from the model checkpoint at roberta-base and are newly initialized: ['classifier.dense.bias', 'classifier.dense.weight', 'classifier.out_proj.bias', 'classifier.out_proj.weight']\n",
      "You should probably TRAIN this model on a down-stream task to be able to use it for predictions and inference.\n"
     ]
    },
    {
     "name": "stdout",
     "output_type": "stream",
     "text": [
      "Epoch 1/20\n"
     ]
    },
    {
     "name": "stderr",
     "output_type": "stream",
     "text": [
      "100%|██████████| 328/328 [00:27<00:00, 11.73it/s]\n"
     ]
    },
    {
     "name": "stdout",
     "output_type": "stream",
     "text": [
      "{'val_loss': 2.2799427334855245, 'val_accuracy': 0.4927536231884058, 'precision': 0.3126482944736419, 'recall': 0.4927536231884058, 'f1-score': 0.3751590112762747, 'macro_f1-score': 0.03191816937851192, 'balanced_accuracy': 0.057937338675790866, 'mcc': 0.2668291591144448, 'train_loss': 2.4460118249422167}\n",
      "Epoch 2/20\n"
     ]
    },
    {
     "name": "stderr",
     "output_type": "stream",
     "text": [
      "100%|██████████| 328/328 [00:28<00:00, 11.71it/s]\n"
     ]
    },
    {
     "name": "stdout",
     "output_type": "stream",
     "text": [
      "{'val_loss': 2.2177280899955005, 'val_accuracy': 0.4858886346300534, 'precision': 0.2455403498556947, 'recall': 0.4858886346300534, 'f1-score': 0.3262124921215976, 'macro_f1-score': 0.0247225338594991, 'balanced_accuracy': 0.037388948916501595, 'mcc': 0.14563502253694402, 'train_loss': 2.312042814565868}\n",
      "Epoch 3/20\n"
     ]
    },
    {
     "name": "stderr",
     "output_type": "stream",
     "text": [
      "100%|██████████| 328/328 [00:27<00:00, 11.73it/s]\n"
     ]
    },
    {
     "name": "stdout",
     "output_type": "stream",
     "text": [
      "{'val_loss': 2.5467117719533965, 'val_accuracy': 0.47063310450038137, 'precision': 0.2214955190516669, 'recall': 0.47063310450038137, 'f1-score': 0.3012247152248292, 'macro_f1-score': 0.013334197786998616, 'balanced_accuracy': 0.020833333333333332, 'mcc': 0.0, 'train_loss': 2.266095471818273}\n",
      "Epoch 4/20\n"
     ]
    },
    {
     "name": "stderr",
     "output_type": "stream",
     "text": [
      "100%|██████████| 328/328 [00:27<00:00, 11.74it/s]\n"
     ]
    },
    {
     "name": "stdout",
     "output_type": "stream",
     "text": [
      "{'val_loss': 2.496745087751528, 'val_accuracy': 0.47063310450038137, 'precision': 0.2214955190516669, 'recall': 0.47063310450038137, 'f1-score': 0.3012247152248292, 'macro_f1-score': 0.013334197786998616, 'balanced_accuracy': 0.020833333333333332, 'mcc': 0.0, 'train_loss': 2.506040931474872}\n",
      "Early stopping.\n",
      "\n",
      " === roberta-base + plain + none Final 5-fold Cross-Validation Results ===\n",
      "val_loss: 1.8821\n",
      "val_accuracy: 0.6045\n",
      "precision: 0.5725\n",
      "recall: 0.6045\n",
      "f1-score: 0.5756\n",
      "macro_f1-score: 0.3046\n",
      "balanced_accuracy: 0.3244\n",
      "mcc: 0.4712\n",
      "train_loss: 0.8161\n",
      "total_seconds: 4358.0000\n",
      "total_time: 1 hrs 12 mins 38 secs\n",
      "▶ Running: roberta-base + cnn + none\n",
      "tokenizer is roberta-base\n",
      "Using device: cuda\n",
      "CUDA Available: True\n",
      "CUDA Device: NVIDIA GeForce RTX 5070 Ti\n",
      "Current GPU Memory Allocated: 0.02 GB\n",
      "Current GPU Memory Cached: 3.82 GB\n",
      "\n",
      "[Fold 1]\n",
      "Label distribution after resampling:\n",
      "  label 0: 2471\n",
      "  label 1: 21\n",
      "  label 2: 64\n",
      "  label 3: 24\n",
      "  label 4: 191\n",
      "  label 5: 113\n",
      "  label 6: 93\n",
      "  label 7: 30\n",
      "  label 8: 68\n",
      "  label 9: 30\n",
      "  label 10: 67\n",
      "  label 11: 169\n",
      "  label 12: 189\n",
      "  label 13: 29\n",
      "  label 14: 22\n",
      "  label 15: 25\n",
      "  label 16: 19\n",
      "  label 17: 183\n",
      "  label 18: 92\n",
      "  label 19: 44\n",
      "  label 20: 13\n",
      "  label 21: 35\n",
      "  label 22: 76\n",
      "  label 23: 158\n",
      "  label 24: 13\n",
      "  label 25: 44\n",
      "  label 26: 84\n",
      "  label 27: 48\n",
      "  label 28: 11\n",
      "  label 29: 13\n",
      "  label 30: 11\n",
      "  label 31: 75\n",
      "  label 32: 36\n",
      "  label 33: 32\n",
      "  label 34: 29\n",
      "  label 35: 11\n",
      "  label 36: 22\n",
      "  label 37: 16\n",
      "  label 38: 33\n",
      "  label 39: 10\n",
      "  label 40: 9\n",
      "  label 41: 57\n",
      "  label 42: 19\n",
      "  label 43: 8\n",
      "  label 44: 54\n",
      "  label 45: 242\n",
      "  label 46: 61\n",
      "  label 47: 80\n",
      "model is roberta-base cnn\n"
     ]
    },
    {
     "name": "stderr",
     "output_type": "stream",
     "text": [
      "Some weights of RobertaModel were not initialized from the model checkpoint at roberta-base and are newly initialized: ['pooler.dense.bias', 'pooler.dense.weight']\n",
      "You should probably TRAIN this model on a down-stream task to be able to use it for predictions and inference.\n"
     ]
    },
    {
     "name": "stdout",
     "output_type": "stream",
     "text": [
      "Epoch 1/20\n"
     ]
    },
    {
     "name": "stderr",
     "output_type": "stream",
     "text": [
      "100%|██████████| 328/328 [00:28<00:00, 11.53it/s]\n"
     ]
    },
    {
     "name": "stdout",
     "output_type": "stream",
     "text": [
      "{'val_loss': 2.2132609900904865, 'val_accuracy': 0.5129573170731707, 'precision': 0.2894145453939124, 'recall': 0.5129573170731707, 'f1-score': 0.368184500785161, 'macro_f1-score': 0.03621349599054067, 'balanced_accuracy': 0.05203104558286855, 'mcc': 0.23991477105140832, 'train_loss': 2.426086622040446}\n",
      "Epoch 2/20\n"
     ]
    },
    {
     "name": "stderr",
     "output_type": "stream",
     "text": [
      "100%|██████████| 328/328 [00:28<00:00, 11.53it/s]\n"
     ]
    },
    {
     "name": "stdout",
     "output_type": "stream",
     "text": [
      "{'val_loss': 2.137646272778511, 'val_accuracy': 0.538109756097561, 'precision': 0.3123862200934553, 'recall': 0.538109756097561, 'f1-score': 0.39483541807586964, 'macro_f1-score': 0.04811434410048752, 'balanced_accuracy': 0.06254332208680484, 'mcc': 0.2923975631314126, 'train_loss': 2.1311912850999253}\n",
      "Epoch 3/20\n"
     ]
    },
    {
     "name": "stderr",
     "output_type": "stream",
     "text": [
      "100%|██████████| 328/328 [00:28<00:00, 11.52it/s]\n"
     ]
    },
    {
     "name": "stdout",
     "output_type": "stream",
     "text": [
      "{'val_loss': 2.035928560466301, 'val_accuracy': 0.5495426829268293, 'precision': 0.3329251641385056, 'recall': 0.5495426829268293, 'f1-score': 0.41298380898714704, 'macro_f1-score': 0.057637642836307006, 'balanced_accuracy': 0.06940267640600732, 'mcc': 0.3168237381799488, 'train_loss': 2.008718124068365}\n",
      "Epoch 4/20\n"
     ]
    },
    {
     "name": "stderr",
     "output_type": "stream",
     "text": [
      "100%|██████████| 328/328 [00:28<00:00, 11.54it/s]\n"
     ]
    },
    {
     "name": "stdout",
     "output_type": "stream",
     "text": [
      "{'val_loss': 2.093480720752623, 'val_accuracy': 0.5426829268292683, 'precision': 0.3550787255709625, 'recall': 0.5426829268292683, 'f1-score': 0.4249376040455598, 'macro_f1-score': 0.05870282259551137, 'balanced_accuracy': 0.08530100106672613, 'mcc': 0.330610921675022, 'train_loss': 1.9359250508430528}\n",
      "Epoch 5/20\n"
     ]
    },
    {
     "name": "stderr",
     "output_type": "stream",
     "text": [
      "100%|██████████| 328/328 [00:28<00:00, 11.54it/s]\n"
     ]
    },
    {
     "name": "stdout",
     "output_type": "stream",
     "text": [
      "{'val_loss': 2.7488849541036093, 'val_accuracy': 0.4740853658536585, 'precision': 0.2467805788132508, 'recall': 0.4740853658536585, 'f1-score': 0.3245120502186011, 'macro_f1-score': 0.020752253958778194, 'balanced_accuracy': 0.031314050701186626, 'mcc': 0.12396117584676895, 'train_loss': 2.090037651723478}\n",
      "Epoch 6/20\n"
     ]
    },
    {
     "name": "stderr",
     "output_type": "stream",
     "text": [
      "100%|██████████| 328/328 [00:28<00:00, 11.52it/s]\n"
     ]
    },
    {
     "name": "stdout",
     "output_type": "stream",
     "text": [
      "{'val_loss': 2.0268382797153985, 'val_accuracy': 0.538109756097561, 'precision': 0.36752429321632013, 'recall': 0.538109756097561, 'f1-score': 0.43314735805038995, 'macro_f1-score': 0.05591982134749655, 'balanced_accuracy': 0.08291697047458384, 'mcc': 0.3373327068243458, 'train_loss': 2.036935074663744}\n",
      "Epoch 7/20\n"
     ]
    },
    {
     "name": "stderr",
     "output_type": "stream",
     "text": [
      "100%|██████████| 328/328 [00:28<00:00, 11.55it/s]\n"
     ]
    },
    {
     "name": "stdout",
     "output_type": "stream",
     "text": [
      "{'val_loss': 2.052045580817432, 'val_accuracy': 0.5152439024390244, 'precision': 0.4010869582828342, 'recall': 0.5152439024390244, 'f1-score': 0.44302436291250286, 'macro_f1-score': 0.062017327029637324, 'balanced_accuracy': 0.08137972773051891, 'mcc': 0.32207126083165477, 'train_loss': 1.8707660051380717}\n",
      "Epoch 8/20\n"
     ]
    },
    {
     "name": "stderr",
     "output_type": "stream",
     "text": [
      "100%|██████████| 328/328 [00:28<00:00, 11.57it/s]\n"
     ]
    },
    {
     "name": "stdout",
     "output_type": "stream",
     "text": [
      "{'val_loss': 2.2346029834049506, 'val_accuracy': 0.5236280487804879, 'precision': 0.2911056316007364, 'recall': 0.5236280487804879, 'f1-score': 0.3724632992665418, 'macro_f1-score': 0.03866293263051724, 'balanced_accuracy': 0.04866418783997797, 'mcc': 0.25391294943324866, 'train_loss': 2.074532274792834}\n",
      "Epoch 9/20\n"
     ]
    },
    {
     "name": "stderr",
     "output_type": "stream",
     "text": [
      "100%|██████████| 328/328 [00:28<00:00, 11.53it/s]\n"
     ]
    },
    {
     "name": "stdout",
     "output_type": "stream",
     "text": [
      "{'val_loss': 2.1306975004149646, 'val_accuracy': 0.5060975609756098, 'precision': 0.3291576160266644, 'recall': 0.5060975609756098, 'f1-score': 0.3948856709387541, 'macro_f1-score': 0.035849849094933224, 'balanced_accuracy': 0.056564228579953635, 'mcc': 0.2812385438946681, 'train_loss': 2.031083656611239}\n",
      "Epoch 10/20\n"
     ]
    },
    {
     "name": "stderr",
     "output_type": "stream",
     "text": [
      "100%|██████████| 328/328 [00:28<00:00, 11.55it/s]\n"
     ]
    },
    {
     "name": "stdout",
     "output_type": "stream",
     "text": [
      "{'val_loss': 2.3978194950557334, 'val_accuracy': 0.47103658536585363, 'precision': 0.22187546475312311, 'recall': 0.47103658536585363, 'f1-score': 0.3016586629596866, 'macro_f1-score': 0.013341968911917098, 'balanced_accuracy': 0.020833333333333332, 'mcc': 0.0, 'train_loss': 2.0801518005205364}\n",
      "Early stopping.\n",
      "\n",
      "[Fold 2]\n",
      "Label distribution after resampling:\n",
      "  label 0: 2471\n",
      "  label 1: 22\n",
      "  label 2: 64\n",
      "  label 3: 24\n",
      "  label 4: 190\n",
      "  label 5: 113\n",
      "  label 6: 93\n",
      "  label 7: 30\n",
      "  label 8: 68\n",
      "  label 9: 30\n",
      "  label 10: 67\n",
      "  label 11: 169\n",
      "  label 12: 189\n",
      "  label 13: 29\n",
      "  label 14: 23\n",
      "  label 15: 24\n",
      "  label 16: 20\n",
      "  label 17: 182\n",
      "  label 18: 92\n",
      "  label 19: 44\n",
      "  label 20: 13\n",
      "  label 21: 36\n",
      "  label 22: 76\n",
      "  label 23: 157\n",
      "  label 24: 12\n",
      "  label 25: 44\n",
      "  label 26: 84\n",
      "  label 27: 48\n",
      "  label 28: 12\n",
      "  label 29: 12\n",
      "  label 30: 12\n",
      "  label 31: 75\n",
      "  label 32: 36\n",
      "  label 33: 31\n",
      "  label 34: 29\n",
      "  label 35: 12\n",
      "  label 36: 21\n",
      "  label 37: 16\n",
      "  label 38: 33\n",
      "  label 39: 11\n",
      "  label 40: 8\n",
      "  label 41: 57\n",
      "  label 42: 19\n",
      "  label 43: 9\n",
      "  label 44: 54\n",
      "  label 45: 242\n",
      "  label 46: 62\n",
      "  label 47: 80\n",
      "model is roberta-base cnn\n"
     ]
    },
    {
     "name": "stderr",
     "output_type": "stream",
     "text": [
      "Some weights of RobertaModel were not initialized from the model checkpoint at roberta-base and are newly initialized: ['pooler.dense.bias', 'pooler.dense.weight']\n",
      "You should probably TRAIN this model on a down-stream task to be able to use it for predictions and inference.\n"
     ]
    },
    {
     "name": "stdout",
     "output_type": "stream",
     "text": [
      "Epoch 1/20\n"
     ]
    },
    {
     "name": "stderr",
     "output_type": "stream",
     "text": [
      "100%|██████████| 328/328 [00:28<00:00, 11.53it/s]\n"
     ]
    },
    {
     "name": "stdout",
     "output_type": "stream",
     "text": [
      "{'val_loss': 2.114403710132692, 'val_accuracy': 0.528604118993135, 'precision': 0.3132054352196108, 'recall': 0.528604118993135, 'f1-score': 0.3906544312092105, 'macro_f1-score': 0.041505210006106526, 'balanced_accuracy': 0.057088961587167586, 'mcc': 0.2788847261325802, 'train_loss': 2.3360937257728924}\n",
      "Epoch 2/20\n"
     ]
    },
    {
     "name": "stderr",
     "output_type": "stream",
     "text": [
      "100%|██████████| 328/328 [00:28<00:00, 11.54it/s]\n"
     ]
    },
    {
     "name": "stdout",
     "output_type": "stream",
     "text": [
      "{'val_loss': 1.9071125882427866, 'val_accuracy': 0.5606407322654462, 'precision': 0.41531243244897986, 'recall': 0.5606407322654462, 'f1-score': 0.4688895743850183, 'macro_f1-score': 0.09635768668746543, 'balanced_accuracy': 0.11393028605703315, 'mcc': 0.3687481877243132, 'train_loss': 1.9304494050944723}\n",
      "Epoch 3/20\n"
     ]
    },
    {
     "name": "stderr",
     "output_type": "stream",
     "text": [
      "100%|██████████| 328/328 [00:28<00:00, 11.49it/s]\n"
     ]
    },
    {
     "name": "stdout",
     "output_type": "stream",
     "text": [
      "{'val_loss': 1.5857731329231728, 'val_accuracy': 0.6018306636155606, 'precision': 0.5189045719044428, 'recall': 0.6018306636155606, 'f1-score': 0.5419963645661614, 'macro_f1-score': 0.15942921273616362, 'balanced_accuracy': 0.1795489427018938, 'mcc': 0.4507443128366449, 'train_loss': 1.6367688909536455}\n",
      "Epoch 4/20\n"
     ]
    },
    {
     "name": "stderr",
     "output_type": "stream",
     "text": [
      "100%|██████████| 328/328 [00:28<00:00, 11.53it/s]\n"
     ]
    },
    {
     "name": "stdout",
     "output_type": "stream",
     "text": [
      "{'val_loss': 1.5407969922554203, 'val_accuracy': 0.581998474446987, 'precision': 0.5389987417548554, 'recall': 0.581998474446987, 'f1-score': 0.5499904409617877, 'macro_f1-score': 0.20924724950836182, 'balanced_accuracy': 0.23405992944362733, 'mcc': 0.4566888503942442, 'train_loss': 1.3855954198757323}\n",
      "Epoch 5/20\n"
     ]
    },
    {
     "name": "stderr",
     "output_type": "stream",
     "text": [
      "100%|██████████| 328/328 [00:28<00:00, 11.49it/s]\n"
     ]
    },
    {
     "name": "stdout",
     "output_type": "stream",
     "text": [
      "{'val_loss': 1.506622735320068, 'val_accuracy': 0.6071700991609459, 'precision': 0.6027227952122364, 'recall': 0.6071700991609459, 'f1-score': 0.5853127054697936, 'macro_f1-score': 0.24568301753298527, 'balanced_accuracy': 0.26685369799020553, 'mcc': 0.48996096842311315, 'train_loss': 1.1541341180663283}\n",
      "Epoch 6/20\n"
     ]
    },
    {
     "name": "stderr",
     "output_type": "stream",
     "text": [
      "100%|██████████| 328/328 [00:28<00:00, 11.54it/s]\n"
     ]
    },
    {
     "name": "stdout",
     "output_type": "stream",
     "text": [
      "{'val_loss': 1.451066669894428, 'val_accuracy': 0.6247139588100686, 'precision': 0.5842519500038688, 'recall': 0.6247139588100686, 'f1-score': 0.5922921106284387, 'macro_f1-score': 0.2607628106092912, 'balanced_accuracy': 0.2726896033732416, 'mcc': 0.49519367775301504, 'train_loss': 0.9653042754748973}\n",
      "Epoch 7/20\n"
     ]
    },
    {
     "name": "stderr",
     "output_type": "stream",
     "text": [
      "100%|██████████| 328/328 [00:28<00:00, 11.49it/s]\n"
     ]
    },
    {
     "name": "stdout",
     "output_type": "stream",
     "text": [
      "{'val_loss': 1.56047839871267, 'val_accuracy': 0.6117467581998475, 'precision': 0.6393681989934263, 'recall': 0.6117467581998475, 'f1-score': 0.6119634216858849, 'macro_f1-score': 0.3266821284685087, 'balanced_accuracy': 0.3368543417531759, 'mcc': 0.5069875474518458, 'train_loss': 0.7735233001592683}\n",
      "Epoch 8/20\n"
     ]
    },
    {
     "name": "stderr",
     "output_type": "stream",
     "text": [
      "100%|██████████| 328/328 [00:28<00:00, 11.48it/s]\n"
     ]
    },
    {
     "name": "stdout",
     "output_type": "stream",
     "text": [
      "{'val_loss': 1.53212371468544, 'val_accuracy': 0.6514111365369947, 'precision': 0.6376610250599906, 'recall': 0.6514111365369947, 'f1-score': 0.6301752192065954, 'macro_f1-score': 0.32790955027392604, 'balanced_accuracy': 0.3192973784100283, 'mcc': 0.5365251310194937, 'train_loss': 0.6657996816424335}\n",
      "Epoch 9/20\n"
     ]
    },
    {
     "name": "stderr",
     "output_type": "stream",
     "text": [
      "100%|██████████| 328/328 [00:28<00:00, 11.44it/s]\n"
     ]
    },
    {
     "name": "stdout",
     "output_type": "stream",
     "text": [
      "{'val_loss': 1.5272468975404414, 'val_accuracy': 0.6475972540045767, 'precision': 0.6371948818583738, 'recall': 0.6475972540045767, 'f1-score': 0.6306660237510173, 'macro_f1-score': 0.3488140064550855, 'balanced_accuracy': 0.3317070403062332, 'mcc': 0.5263615019549617, 'train_loss': 0.5470866556108998}\n",
      "Epoch 10/20\n"
     ]
    },
    {
     "name": "stderr",
     "output_type": "stream",
     "text": [
      "100%|██████████| 328/328 [00:28<00:00, 11.52it/s]\n"
     ]
    },
    {
     "name": "stdout",
     "output_type": "stream",
     "text": [
      "{'val_loss': 1.604554821805256, 'val_accuracy': 0.6483600305110603, 'precision': 0.6342718844113683, 'recall': 0.6483600305110603, 'f1-score': 0.6300007296185022, 'macro_f1-score': 0.34150641196999404, 'balanced_accuracy': 0.3398884906810676, 'mcc': 0.5272943657108459, 'train_loss': 0.4120445063950994}\n",
      "Epoch 11/20\n"
     ]
    },
    {
     "name": "stderr",
     "output_type": "stream",
     "text": [
      "100%|██████████| 328/328 [00:28<00:00, 11.48it/s]\n"
     ]
    },
    {
     "name": "stdout",
     "output_type": "stream",
     "text": [
      "{'val_loss': 1.6738326360539693, 'val_accuracy': 0.6422578184591915, 'precision': 0.6459559104980294, 'recall': 0.6422578184591915, 'f1-score': 0.6342182586972832, 'macro_f1-score': 0.38363562769680276, 'balanced_accuracy': 0.3822650321983921, 'mcc': 0.5324679615636357, 'train_loss': 0.3577935644311876}\n",
      "Epoch 12/20\n"
     ]
    },
    {
     "name": "stderr",
     "output_type": "stream",
     "text": [
      "100%|██████████| 328/328 [00:28<00:00, 11.50it/s]\n"
     ]
    },
    {
     "name": "stdout",
     "output_type": "stream",
     "text": [
      "{'val_loss': 1.7196109058653437, 'val_accuracy': 0.6346300533943554, 'precision': 0.6294132553913104, 'recall': 0.6346300533943554, 'f1-score': 0.6240480394976506, 'macro_f1-score': 0.35185381498894147, 'balanced_accuracy': 0.3611848055167956, 'mcc': 0.5188066814919514, 'train_loss': 0.3308539153758164}\n",
      "Epoch 13/20\n"
     ]
    },
    {
     "name": "stderr",
     "output_type": "stream",
     "text": [
      "100%|██████████| 328/328 [00:28<00:00, 11.52it/s]\n"
     ]
    },
    {
     "name": "stdout",
     "output_type": "stream",
     "text": [
      "{'val_loss': 1.8682879274938164, 'val_accuracy': 0.6323417238749046, 'precision': 0.6255359639433604, 'recall': 0.6323417238749046, 'f1-score': 0.6197963592316549, 'macro_f1-score': 0.33685274760157674, 'balanced_accuracy': 0.33324065364887373, 'mcc': 0.5137861976949181, 'train_loss': 0.25519053778744577}\n",
      "Epoch 14/20\n"
     ]
    },
    {
     "name": "stderr",
     "output_type": "stream",
     "text": [
      "100%|██████████| 328/328 [00:28<00:00, 11.48it/s]\n"
     ]
    },
    {
     "name": "stdout",
     "output_type": "stream",
     "text": [
      "{'val_loss': 1.8625298585833572, 'val_accuracy': 0.6430205949656751, 'precision': 0.6255723885553339, 'recall': 0.6430205949656751, 'f1-score': 0.6252117769880964, 'macro_f1-score': 0.350732233875918, 'balanced_accuracy': 0.36552733803442, 'mcc': 0.5217717477411782, 'train_loss': 0.22230309481085164}\n",
      "Early stopping.\n",
      "\n",
      "[Fold 3]\n",
      "Label distribution after resampling:\n",
      "  label 0: 2471\n",
      "  label 1: 22\n",
      "  label 2: 64\n",
      "  label 3: 24\n",
      "  label 4: 190\n",
      "  label 5: 113\n",
      "  label 6: 93\n",
      "  label 7: 30\n",
      "  label 8: 68\n",
      "  label 9: 30\n",
      "  label 10: 67\n",
      "  label 11: 169\n",
      "  label 12: 190\n",
      "  label 13: 28\n",
      "  label 14: 23\n",
      "  label 15: 25\n",
      "  label 16: 19\n",
      "  label 17: 182\n",
      "  label 18: 92\n",
      "  label 19: 44\n",
      "  label 20: 14\n",
      "  label 21: 35\n",
      "  label 22: 76\n",
      "  label 23: 157\n",
      "  label 24: 13\n",
      "  label 25: 44\n",
      "  label 26: 84\n",
      "  label 27: 48\n",
      "  label 28: 11\n",
      "  label 29: 13\n",
      "  label 30: 11\n",
      "  label 31: 76\n",
      "  label 32: 36\n",
      "  label 33: 31\n",
      "  label 34: 30\n",
      "  label 35: 11\n",
      "  label 36: 21\n",
      "  label 37: 16\n",
      "  label 38: 32\n",
      "  label 39: 11\n",
      "  label 40: 9\n",
      "  label 41: 57\n",
      "  label 42: 18\n",
      "  label 43: 9\n",
      "  label 44: 55\n",
      "  label 45: 241\n",
      "  label 46: 62\n",
      "  label 47: 80\n",
      "model is roberta-base cnn\n"
     ]
    },
    {
     "name": "stderr",
     "output_type": "stream",
     "text": [
      "Some weights of RobertaModel were not initialized from the model checkpoint at roberta-base and are newly initialized: ['pooler.dense.bias', 'pooler.dense.weight']\n",
      "You should probably TRAIN this model on a down-stream task to be able to use it for predictions and inference.\n"
     ]
    },
    {
     "name": "stdout",
     "output_type": "stream",
     "text": [
      "Epoch 1/20\n"
     ]
    },
    {
     "name": "stderr",
     "output_type": "stream",
     "text": [
      "100%|██████████| 328/328 [00:28<00:00, 11.50it/s]\n"
     ]
    },
    {
     "name": "stdout",
     "output_type": "stream",
     "text": [
      "{'val_loss': 1.9995009957290277, 'val_accuracy': 0.5606407322654462, 'precision': 0.3813296829402746, 'recall': 0.5606407322654462, 'f1-score': 0.44657667595651646, 'macro_f1-score': 0.07688418773536916, 'balanced_accuracy': 0.09042503529594836, 'mcc': 0.34824084432095653, 'train_loss': 2.2194916747692153}\n",
      "Epoch 2/20\n"
     ]
    },
    {
     "name": "stderr",
     "output_type": "stream",
     "text": [
      "100%|██████████| 328/328 [00:28<00:00, 11.50it/s]\n"
     ]
    },
    {
     "name": "stdout",
     "output_type": "stream",
     "text": [
      "{'val_loss': 1.7059741663496668, 'val_accuracy': 0.5614035087719298, 'precision': 0.4833219884235968, 'recall': 0.5614035087719298, 'f1-score': 0.5056325919017366, 'macro_f1-score': 0.12800703654888929, 'balanced_accuracy': 0.13994807731923387, 'mcc': 0.39559596731215724, 'train_loss': 1.725903836692252}\n",
      "Epoch 3/20\n"
     ]
    },
    {
     "name": "stderr",
     "output_type": "stream",
     "text": [
      "100%|██████████| 328/328 [00:28<00:00, 11.52it/s]\n"
     ]
    },
    {
     "name": "stdout",
     "output_type": "stream",
     "text": [
      "{'val_loss': 1.5822851207198165, 'val_accuracy': 0.6056445461479787, 'precision': 0.5223115914915428, 'recall': 0.6056445461479787, 'f1-score': 0.5473341723387494, 'macro_f1-score': 0.19793296267840024, 'balanced_accuracy': 0.2136838141191109, 'mcc': 0.45589139498676684, 'train_loss': 1.4165939125345974}\n",
      "Epoch 4/20\n"
     ]
    },
    {
     "name": "stderr",
     "output_type": "stream",
     "text": [
      "100%|██████████| 328/328 [00:28<00:00, 11.50it/s]\n"
     ]
    },
    {
     "name": "stdout",
     "output_type": "stream",
     "text": [
      "{'val_loss': 1.4407634771451718, 'val_accuracy': 0.6231884057971014, 'precision': 0.5567771202210865, 'recall': 0.6231884057971014, 'f1-score': 0.5666805911385897, 'macro_f1-score': 0.2330775403831765, 'balanced_accuracy': 0.2280937436863674, 'mcc': 0.4748298997560595, 'train_loss': 1.1951773704552069}\n",
      "Epoch 5/20\n"
     ]
    },
    {
     "name": "stderr",
     "output_type": "stream",
     "text": [
      "100%|██████████| 328/328 [00:28<00:00, 11.49it/s]\n"
     ]
    },
    {
     "name": "stdout",
     "output_type": "stream",
     "text": [
      "{'val_loss': 1.5067894033542493, 'val_accuracy': 0.6247139588100686, 'precision': 0.5778290732211938, 'recall': 0.6247139588100686, 'f1-score': 0.5868788086463866, 'macro_f1-score': 0.25281008142584455, 'balanced_accuracy': 0.24811408431970242, 'mcc': 0.48550443532106796, 'train_loss': 0.9800458207453896}\n",
      "Epoch 6/20\n"
     ]
    },
    {
     "name": "stderr",
     "output_type": "stream",
     "text": [
      "100%|██████████| 328/328 [00:28<00:00, 11.53it/s]\n"
     ]
    },
    {
     "name": "stdout",
     "output_type": "stream",
     "text": [
      "{'val_loss': 1.487047619209057, 'val_accuracy': 0.620137299771167, 'precision': 0.6039958135842461, 'recall': 0.620137299771167, 'f1-score': 0.6059828953526993, 'macro_f1-score': 0.2921612468580156, 'balanced_accuracy': 0.29996960873270095, 'mcc': 0.5000807979582115, 'train_loss': 0.7859132551792555}\n",
      "Epoch 7/20\n"
     ]
    },
    {
     "name": "stderr",
     "output_type": "stream",
     "text": [
      "100%|██████████| 328/328 [00:28<00:00, 11.54it/s]\n"
     ]
    },
    {
     "name": "stdout",
     "output_type": "stream",
     "text": [
      "{'val_loss': 1.5243801340097334, 'val_accuracy': 0.6270022883295194, 'precision': 0.6123527194252019, 'recall': 0.6270022883295194, 'f1-score': 0.6105369162743605, 'macro_f1-score': 0.31594950693470897, 'balanced_accuracy': 0.3102243747551164, 'mcc': 0.5042523087582007, 'train_loss': 0.6480663548700694}\n",
      "Epoch 8/20\n"
     ]
    },
    {
     "name": "stderr",
     "output_type": "stream",
     "text": [
      "100%|██████████| 328/328 [00:28<00:00, 11.49it/s]\n"
     ]
    },
    {
     "name": "stdout",
     "output_type": "stream",
     "text": [
      "{'val_loss': 1.6225964797706138, 'val_accuracy': 0.6132723112128147, 'precision': 0.6231302841936923, 'recall': 0.6132723112128147, 'f1-score': 0.6061028043321115, 'macro_f1-score': 0.32118794274625273, 'balanced_accuracy': 0.32079089370050423, 'mcc': 0.49255976592073947, 'train_loss': 0.5135844338503552}\n",
      "Epoch 9/20\n"
     ]
    },
    {
     "name": "stderr",
     "output_type": "stream",
     "text": [
      "100%|██████████| 328/328 [00:28<00:00, 11.52it/s]\n"
     ]
    },
    {
     "name": "stdout",
     "output_type": "stream",
     "text": [
      "{'val_loss': 1.6912726694490852, 'val_accuracy': 0.6125095347063311, 'precision': 0.6255579047106037, 'recall': 0.6125095347063311, 'f1-score': 0.6066385090603353, 'macro_f1-score': 0.3212976288335346, 'balanced_accuracy': 0.3221374260257351, 'mcc': 0.4948949943972239, 'train_loss': 0.4092834751837228}\n",
      "Epoch 10/20\n"
     ]
    },
    {
     "name": "stderr",
     "output_type": "stream",
     "text": [
      "100%|██████████| 328/328 [00:28<00:00, 11.43it/s]\n"
     ]
    },
    {
     "name": "stdout",
     "output_type": "stream",
     "text": [
      "{'val_loss': 1.8134902672069828, 'val_accuracy': 0.627765064836003, 'precision': 0.6163172688679884, 'recall': 0.627765064836003, 'f1-score': 0.6132832926469489, 'macro_f1-score': 0.3298556108028729, 'balanced_accuracy': 0.32956211466577323, 'mcc': 0.5013960599988712, 'train_loss': 0.32506479865803223}\n",
      "Epoch 11/20\n"
     ]
    },
    {
     "name": "stderr",
     "output_type": "stream",
     "text": [
      "100%|██████████| 328/328 [00:29<00:00, 11.21it/s]\n"
     ]
    },
    {
     "name": "stdout",
     "output_type": "stream",
     "text": [
      "{'val_loss': 1.8548373142030181, 'val_accuracy': 0.6071700991609459, 'precision': 0.6218068694945372, 'recall': 0.6071700991609459, 'f1-score': 0.60936283750612, 'macro_f1-score': 0.34856158770402396, 'balanced_accuracy': 0.35581577957195365, 'mcc': 0.49764202069062413, 'train_loss': 0.2717458348431647}\n",
      "Epoch 12/20\n"
     ]
    },
    {
     "name": "stderr",
     "output_type": "stream",
     "text": [
      "100%|██████████| 328/328 [00:28<00:00, 11.32it/s]\n"
     ]
    },
    {
     "name": "stdout",
     "output_type": "stream",
     "text": [
      "{'val_loss': 1.9507063449155995, 'val_accuracy': 0.6140350877192983, 'precision': 0.6296698616355797, 'recall': 0.6140350877192983, 'f1-score': 0.613277710728033, 'macro_f1-score': 0.35315065924550376, 'balanced_accuracy': 0.358433531683616, 'mcc': 0.5043486865865608, 'train_loss': 0.23045437810686986}\n",
      "Epoch 13/20\n"
     ]
    },
    {
     "name": "stderr",
     "output_type": "stream",
     "text": [
      "100%|██████████| 328/328 [00:28<00:00, 11.34it/s]\n"
     ]
    },
    {
     "name": "stdout",
     "output_type": "stream",
     "text": [
      "{'val_loss': 2.0606100442932873, 'val_accuracy': 0.6048817696414951, 'precision': 0.6295386470522738, 'recall': 0.6048817696414951, 'f1-score': 0.6085299037942471, 'macro_f1-score': 0.3452758387931321, 'balanced_accuracy': 0.3305221713623971, 'mcc': 0.48616694226663326, 'train_loss': 0.1888927669383631}\n",
      "Epoch 14/20\n"
     ]
    },
    {
     "name": "stderr",
     "output_type": "stream",
     "text": [
      "100%|██████████| 328/328 [00:28<00:00, 11.34it/s]\n"
     ]
    },
    {
     "name": "stdout",
     "output_type": "stream",
     "text": [
      "{'val_loss': 2.128878718469201, 'val_accuracy': 0.581998474446987, 'precision': 0.6326727802740404, 'recall': 0.581998474446987, 'f1-score': 0.5959415674140657, 'macro_f1-score': 0.33830443833422796, 'balanced_accuracy': 0.3489711668610161, 'mcc': 0.4704566900034638, 'train_loss': 0.19745348550935798}\n",
      "Epoch 15/20\n"
     ]
    },
    {
     "name": "stderr",
     "output_type": "stream",
     "text": [
      "100%|██████████| 328/328 [00:29<00:00, 11.24it/s]\n"
     ]
    },
    {
     "name": "stdout",
     "output_type": "stream",
     "text": [
      "{'val_loss': 1.9147611663835804, 'val_accuracy': 0.6170861937452327, 'precision': 0.641116073983939, 'recall': 0.6170861937452327, 'f1-score': 0.6225262317692953, 'macro_f1-score': 0.3723602276757711, 'balanced_accuracy': 0.3898707765033424, 'mcc': 0.5092883644110603, 'train_loss': 0.19690159503327934}\n",
      "Epoch 16/20\n"
     ]
    },
    {
     "name": "stderr",
     "output_type": "stream",
     "text": [
      "100%|██████████| 328/328 [00:29<00:00, 11.24it/s]\n"
     ]
    },
    {
     "name": "stdout",
     "output_type": "stream",
     "text": [
      "{'val_loss': 2.094965214046036, 'val_accuracy': 0.627765064836003, 'precision': 0.6240509835589495, 'recall': 0.627765064836003, 'f1-score': 0.6158629670326923, 'macro_f1-score': 0.3611283913725834, 'balanced_accuracy': 0.35585451451839045, 'mcc': 0.5055703308088881, 'train_loss': 0.1547574254133307}\n",
      "Epoch 17/20\n"
     ]
    },
    {
     "name": "stderr",
     "output_type": "stream",
     "text": [
      "100%|██████████| 328/328 [00:28<00:00, 11.32it/s]\n"
     ]
    },
    {
     "name": "stdout",
     "output_type": "stream",
     "text": [
      "{'val_loss': 2.2132742591656562, 'val_accuracy': 0.6437833714721587, 'precision': 0.6403531671293877, 'recall': 0.6437833714721587, 'f1-score': 0.6289040193909119, 'macro_f1-score': 0.4074873200570588, 'balanced_accuracy': 0.3787708226566216, 'mcc': 0.5194139275471397, 'train_loss': 0.1326880494939027}\n",
      "Epoch 18/20\n"
     ]
    },
    {
     "name": "stderr",
     "output_type": "stream",
     "text": [
      "100%|██████████| 328/328 [00:28<00:00, 11.32it/s]\n"
     ]
    },
    {
     "name": "stdout",
     "output_type": "stream",
     "text": [
      "{'val_loss': 2.1844222323923574, 'val_accuracy': 0.6147978642257819, 'precision': 0.6268486930544409, 'recall': 0.6147978642257819, 'f1-score': 0.6135860587456508, 'macro_f1-score': 0.392174505315994, 'balanced_accuracy': 0.37066317426680584, 'mcc': 0.49625582531002665, 'train_loss': 0.12156916191913585}\n",
      "Epoch 19/20\n"
     ]
    },
    {
     "name": "stderr",
     "output_type": "stream",
     "text": [
      "100%|██████████| 328/328 [00:28<00:00, 11.33it/s]\n"
     ]
    },
    {
     "name": "stdout",
     "output_type": "stream",
     "text": [
      "{'val_loss': 2.292695823239117, 'val_accuracy': 0.597254004576659, 'precision': 0.6220576117645342, 'recall': 0.597254004576659, 'f1-score': 0.6017590767553803, 'macro_f1-score': 0.3579022969819752, 'balanced_accuracy': 0.3458403417379705, 'mcc': 0.4808384129785084, 'train_loss': 0.11533504822390812}\n",
      "Epoch 20/20\n"
     ]
    },
    {
     "name": "stderr",
     "output_type": "stream",
     "text": [
      "100%|██████████| 328/328 [00:29<00:00, 11.29it/s]\n"
     ]
    },
    {
     "name": "stdout",
     "output_type": "stream",
     "text": [
      "{'val_loss': 2.1346727224384865, 'val_accuracy': 0.6231884057971014, 'precision': 0.6198130215014521, 'recall': 0.6231884057971014, 'f1-score': 0.6155751725352976, 'macro_f1-score': 0.3562529723639322, 'balanced_accuracy': 0.34679999450361126, 'mcc': 0.5018497170570115, 'train_loss': 0.12782231524370882}\n",
      "Early stopping.\n",
      "\n",
      "[Fold 4]\n",
      "Label distribution after resampling:\n",
      "  label 0: 2471\n",
      "  label 1: 22\n",
      "  label 2: 64\n",
      "  label 3: 24\n",
      "  label 4: 190\n",
      "  label 5: 113\n",
      "  label 6: 93\n",
      "  label 7: 31\n",
      "  label 8: 68\n",
      "  label 9: 29\n",
      "  label 10: 67\n",
      "  label 11: 169\n",
      "  label 12: 190\n",
      "  label 13: 29\n",
      "  label 14: 22\n",
      "  label 15: 25\n",
      "  label 16: 19\n",
      "  label 17: 182\n",
      "  label 18: 92\n",
      "  label 19: 44\n",
      "  label 20: 14\n",
      "  label 21: 35\n",
      "  label 22: 76\n",
      "  label 23: 158\n",
      "  label 24: 13\n",
      "  label 25: 44\n",
      "  label 26: 84\n",
      "  label 27: 48\n",
      "  label 28: 11\n",
      "  label 29: 13\n",
      "  label 30: 11\n",
      "  label 31: 75\n",
      "  label 32: 36\n",
      "  label 33: 31\n",
      "  label 34: 30\n",
      "  label 35: 11\n",
      "  label 36: 22\n",
      "  label 37: 16\n",
      "  label 38: 33\n",
      "  label 39: 10\n",
      "  label 40: 9\n",
      "  label 41: 56\n",
      "  label 42: 18\n",
      "  label 43: 9\n",
      "  label 44: 55\n",
      "  label 45: 241\n",
      "  label 46: 62\n",
      "  label 47: 80\n",
      "model is roberta-base cnn\n"
     ]
    },
    {
     "name": "stderr",
     "output_type": "stream",
     "text": [
      "Some weights of RobertaModel were not initialized from the model checkpoint at roberta-base and are newly initialized: ['pooler.dense.bias', 'pooler.dense.weight']\n",
      "You should probably TRAIN this model on a down-stream task to be able to use it for predictions and inference.\n"
     ]
    },
    {
     "name": "stdout",
     "output_type": "stream",
     "text": [
      "Epoch 1/20\n"
     ]
    },
    {
     "name": "stderr",
     "output_type": "stream",
     "text": [
      "100%|██████████| 328/328 [00:29<00:00, 11.27it/s]\n"
     ]
    },
    {
     "name": "stdout",
     "output_type": "stream",
     "text": [
      "{'val_loss': 2.21125782117611, 'val_accuracy': 0.5255530129672006, 'precision': 0.2912535878949107, 'recall': 0.5255530129672006, 'f1-score': 0.3739092414412969, 'macro_f1-score': 0.038475189710684095, 'balanced_accuracy': 0.05024365072225414, 'mcc': 0.2588305331216964, 'train_loss': 2.3809995004316655}\n",
      "Epoch 2/20\n"
     ]
    },
    {
     "name": "stderr",
     "output_type": "stream",
     "text": [
      "100%|██████████| 328/328 [00:28<00:00, 11.51it/s]\n"
     ]
    },
    {
     "name": "stdout",
     "output_type": "stream",
     "text": [
      "{'val_loss': 2.1293761839226977, 'val_accuracy': 0.5423340961098398, 'precision': 0.3408702350139615, 'recall': 0.5423340961098398, 'f1-score': 0.4172558904092467, 'macro_f1-score': 0.05498373597878504, 'balanced_accuracy': 0.0727364754778002, 'mcc': 0.3147814515654597, 'train_loss': 2.0718129275412096}\n",
      "Epoch 3/20\n"
     ]
    },
    {
     "name": "stderr",
     "output_type": "stream",
     "text": [
      "100%|██████████| 328/328 [00:28<00:00, 11.49it/s]\n"
     ]
    },
    {
     "name": "stdout",
     "output_type": "stream",
     "text": [
      "{'val_loss': 1.8030446266255729, 'val_accuracy': 0.562929061784897, 'precision': 0.42531062867858166, 'recall': 0.562929061784897, 'f1-score': 0.4704598139752119, 'macro_f1-score': 0.08834847307863251, 'balanced_accuracy': 0.10007211992738163, 'mcc': 0.3703532830328505, 'train_loss': 1.8496425228147972}\n",
      "Epoch 4/20\n"
     ]
    },
    {
     "name": "stderr",
     "output_type": "stream",
     "text": [
      "100%|██████████| 328/328 [00:28<00:00, 11.41it/s]\n"
     ]
    },
    {
     "name": "stdout",
     "output_type": "stream",
     "text": [
      "{'val_loss': 1.6564358970740947, 'val_accuracy': 0.5804729214340199, 'precision': 0.45396789873232807, 'recall': 0.5804729214340199, 'f1-score': 0.4970773650679926, 'macro_f1-score': 0.11734139737059497, 'balanced_accuracy': 0.13130341949737628, 'mcc': 0.40314335220044833, 'train_loss': 1.703096775746927}\n",
      "Epoch 5/20\n"
     ]
    },
    {
     "name": "stderr",
     "output_type": "stream",
     "text": [
      "100%|██████████| 328/328 [00:28<00:00, 11.37it/s]\n"
     ]
    },
    {
     "name": "stdout",
     "output_type": "stream",
     "text": [
      "{'val_loss': 1.6113007708293636, 'val_accuracy': 0.5842868039664378, 'precision': 0.49587195658446614, 'recall': 0.5842868039664378, 'f1-score': 0.5235153014904697, 'macro_f1-score': 0.14718474070921964, 'balanced_accuracy': 0.16152570803477864, 'mcc': 0.4314494044189783, 'train_loss': 1.5107847582094553}\n",
      "Epoch 6/20\n"
     ]
    },
    {
     "name": "stderr",
     "output_type": "stream",
     "text": [
      "100%|██████████| 328/328 [00:28<00:00, 11.55it/s]\n"
     ]
    },
    {
     "name": "stdout",
     "output_type": "stream",
     "text": [
      "{'val_loss': 1.5653258195010626, 'val_accuracy': 0.5957284515636918, 'precision': 0.574144489640774, 'recall': 0.5957284515636918, 'f1-score': 0.5665801660334177, 'macro_f1-score': 0.227788636961878, 'balanced_accuracy': 0.23777606935734008, 'mcc': 0.4671380123262711, 'train_loss': 1.3242303599126455}\n",
      "Epoch 7/20\n"
     ]
    },
    {
     "name": "stderr",
     "output_type": "stream",
     "text": [
      "100%|██████████| 328/328 [00:28<00:00, 11.40it/s]\n"
     ]
    },
    {
     "name": "stdout",
     "output_type": "stream",
     "text": [
      "{'val_loss': 1.5061276998461746, 'val_accuracy': 0.6109839816933639, 'precision': 0.5701546346650819, 'recall': 0.6109839816933639, 'f1-score': 0.5730235567136627, 'macro_f1-score': 0.24174596791381853, 'balanced_accuracy': 0.25881615686702486, 'mcc': 0.47486876256664534, 'train_loss': 1.142511372795192}\n",
      "Epoch 8/20\n"
     ]
    },
    {
     "name": "stderr",
     "output_type": "stream",
     "text": [
      "100%|██████████| 328/328 [00:28<00:00, 11.34it/s]\n"
     ]
    },
    {
     "name": "stdout",
     "output_type": "stream",
     "text": [
      "{'val_loss': 1.4579717897605606, 'val_accuracy': 0.6292906178489702, 'precision': 0.6169796408612097, 'recall': 0.6292906178489702, 'f1-score': 0.6119662934917035, 'macro_f1-score': 0.3132659055560633, 'balanced_accuracy': 0.3333901449845467, 'mcc': 0.5149329932670969, 'train_loss': 0.990852811714498}\n",
      "Epoch 9/20\n"
     ]
    },
    {
     "name": "stderr",
     "output_type": "stream",
     "text": [
      "100%|██████████| 328/328 [00:28<00:00, 11.52it/s]\n"
     ]
    },
    {
     "name": "stdout",
     "output_type": "stream",
     "text": [
      "{'val_loss': 1.5185753534116395, 'val_accuracy': 0.6491228070175439, 'precision': 0.6072680077183362, 'recall': 0.6491228070175439, 'f1-score': 0.6212687811031447, 'macro_f1-score': 0.30487171008132957, 'balanced_accuracy': 0.2987212890317289, 'mcc': 0.5245372648286007, 'train_loss': 0.8280809809703652}\n",
      "Epoch 10/20\n"
     ]
    },
    {
     "name": "stderr",
     "output_type": "stream",
     "text": [
      "100%|██████████| 328/328 [00:28<00:00, 11.48it/s]\n"
     ]
    },
    {
     "name": "stdout",
     "output_type": "stream",
     "text": [
      "{'val_loss': 1.6404227908791564, 'val_accuracy': 0.6414950419527079, 'precision': 0.5930747419314084, 'recall': 0.6414950419527079, 'f1-score': 0.6024944090542224, 'macro_f1-score': 0.29881989370670553, 'balanced_accuracy': 0.2821963818760849, 'mcc': 0.5046747369265461, 'train_loss': 0.713447797748192}\n",
      "Epoch 11/20\n"
     ]
    },
    {
     "name": "stderr",
     "output_type": "stream",
     "text": [
      "100%|██████████| 328/328 [00:28<00:00, 11.34it/s]\n"
     ]
    },
    {
     "name": "stdout",
     "output_type": "stream",
     "text": [
      "{'val_loss': 1.6712769259039948, 'val_accuracy': 0.6247139588100686, 'precision': 0.6011834677919025, 'recall': 0.6247139588100686, 'f1-score': 0.5954358861699759, 'macro_f1-score': 0.29939680738395763, 'balanced_accuracy': 0.2896005085027277, 'mcc': 0.4865359058925103, 'train_loss': 0.6547736788804575}\n",
      "Early stopping.\n",
      "\n",
      "[Fold 5]\n",
      "Label distribution after resampling:\n",
      "  label 0: 2472\n",
      "  label 1: 21\n",
      "  label 2: 64\n",
      "  label 3: 24\n",
      "  label 4: 191\n",
      "  label 5: 112\n",
      "  label 6: 92\n",
      "  label 7: 31\n",
      "  label 8: 68\n",
      "  label 9: 29\n",
      "  label 10: 68\n",
      "  label 11: 168\n",
      "  label 12: 190\n",
      "  label 13: 29\n",
      "  label 14: 22\n",
      "  label 15: 25\n",
      "  label 16: 19\n",
      "  label 17: 183\n",
      "  label 18: 92\n",
      "  label 19: 44\n",
      "  label 20: 14\n",
      "  label 21: 35\n",
      "  label 22: 76\n",
      "  label 23: 158\n",
      "  label 24: 13\n",
      "  label 25: 44\n",
      "  label 26: 84\n",
      "  label 27: 48\n",
      "  label 28: 11\n",
      "  label 29: 13\n",
      "  label 30: 11\n",
      "  label 31: 75\n",
      "  label 32: 36\n",
      "  label 33: 31\n",
      "  label 34: 30\n",
      "  label 35: 11\n",
      "  label 36: 22\n",
      "  label 37: 16\n",
      "  label 38: 33\n",
      "  label 39: 10\n",
      "  label 40: 9\n",
      "  label 41: 57\n",
      "  label 42: 18\n",
      "  label 43: 9\n",
      "  label 44: 54\n",
      "  label 45: 242\n",
      "  label 46: 61\n",
      "  label 47: 80\n",
      "model is roberta-base cnn\n"
     ]
    },
    {
     "name": "stderr",
     "output_type": "stream",
     "text": [
      "Some weights of RobertaModel were not initialized from the model checkpoint at roberta-base and are newly initialized: ['pooler.dense.bias', 'pooler.dense.weight']\n",
      "You should probably TRAIN this model on a down-stream task to be able to use it for predictions and inference.\n"
     ]
    },
    {
     "name": "stdout",
     "output_type": "stream",
     "text": [
      "Epoch 1/20\n"
     ]
    },
    {
     "name": "stderr",
     "output_type": "stream",
     "text": [
      "100%|██████████| 328/328 [00:29<00:00, 11.29it/s]\n"
     ]
    },
    {
     "name": "stdout",
     "output_type": "stream",
     "text": [
      "{'val_loss': 2.117378391870638, 'val_accuracy': 0.5369946605644547, 'precision': 0.3125675471092321, 'recall': 0.5369946605644547, 'f1-score': 0.39433325810568265, 'macro_f1-score': 0.04543161976612405, 'balanced_accuracy': 0.059837348318524386, 'mcc': 0.29260827532275807, 'train_loss': 2.3945120576678254}\n",
      "Epoch 2/20\n"
     ]
    },
    {
     "name": "stderr",
     "output_type": "stream",
     "text": [
      "100%|██████████| 328/328 [00:29<00:00, 11.12it/s]\n"
     ]
    },
    {
     "name": "stdout",
     "output_type": "stream",
     "text": [
      "{'val_loss': 1.717816941621827, 'val_accuracy': 0.5812356979405034, 'precision': 0.44228997160135, 'recall': 0.5812356979405034, 'f1-score': 0.4807390053300832, 'macro_f1-score': 0.09708932679178067, 'balanced_accuracy': 0.11922813720418017, 'mcc': 0.39647639541805196, 'train_loss': 1.8906950986966855}\n",
      "Epoch 3/20\n"
     ]
    },
    {
     "name": "stderr",
     "output_type": "stream",
     "text": [
      "100%|██████████| 328/328 [00:29<00:00, 11.28it/s]\n"
     ]
    },
    {
     "name": "stdout",
     "output_type": "stream",
     "text": [
      "{'val_loss': 1.6248825286946647, 'val_accuracy': 0.601067887109077, 'precision': 0.520098755286235, 'recall': 0.601067887109077, 'f1-score': 0.5248624253888495, 'macro_f1-score': 0.1396743668209305, 'balanced_accuracy': 0.14481498639715676, 'mcc': 0.4335172106981498, 'train_loss': 1.5878431144647482}\n",
      "Epoch 4/20\n"
     ]
    },
    {
     "name": "stderr",
     "output_type": "stream",
     "text": [
      "100%|██████████| 328/328 [00:29<00:00, 11.31it/s]\n"
     ]
    },
    {
     "name": "stdout",
     "output_type": "stream",
     "text": [
      "{'val_loss': 1.5083229519971988, 'val_accuracy': 0.5827612509534706, 'precision': 0.5795477357914732, 'recall': 0.5827612509534706, 'f1-score': 0.5560668085932181, 'macro_f1-score': 0.2108171063250656, 'balanced_accuracy': 0.23442886017279552, 'mcc': 0.4577719507419782, 'train_loss': 1.3669908533735973}\n",
      "Epoch 5/20\n"
     ]
    },
    {
     "name": "stderr",
     "output_type": "stream",
     "text": [
      "100%|██████████| 328/328 [00:28<00:00, 11.34it/s]\n"
     ]
    },
    {
     "name": "stdout",
     "output_type": "stream",
     "text": [
      "{'val_loss': 1.431745526994147, 'val_accuracy': 0.623951182303585, 'precision': 0.6044322634911449, 'recall': 0.623951182303585, 'f1-score': 0.5858584923487851, 'macro_f1-score': 0.25568804371449994, 'balanced_accuracy': 0.2530429553063568, 'mcc': 0.49119449076453653, 'train_loss': 1.1500286399954702}\n",
      "Epoch 6/20\n"
     ]
    },
    {
     "name": "stderr",
     "output_type": "stream",
     "text": [
      "100%|██████████| 328/328 [00:28<00:00, 11.33it/s]\n"
     ]
    },
    {
     "name": "stdout",
     "output_type": "stream",
     "text": [
      "{'val_loss': 1.4028861413641673, 'val_accuracy': 0.6567505720823799, 'precision': 0.631465426857003, 'recall': 0.6567505720823799, 'f1-score': 0.6273472708981482, 'macro_f1-score': 0.3205561390296519, 'balanced_accuracy': 0.3059956631532898, 'mcc': 0.5364692218317921, 'train_loss': 0.9431904498942014}\n",
      "Epoch 7/20\n"
     ]
    },
    {
     "name": "stderr",
     "output_type": "stream",
     "text": [
      "100%|██████████| 328/328 [00:28<00:00, 11.33it/s]\n"
     ]
    },
    {
     "name": "stdout",
     "output_type": "stream",
     "text": [
      "{'val_loss': 1.4061371458739769, 'val_accuracy': 0.6399694889397407, 'precision': 0.6369955796673523, 'recall': 0.6399694889397407, 'f1-score': 0.6268091518863687, 'macro_f1-score': 0.35429961555600625, 'balanced_accuracy': 0.35328292164788816, 'mcc': 0.525658924067021, 'train_loss': 0.7902967296313586}\n",
      "Epoch 8/20\n"
     ]
    },
    {
     "name": "stderr",
     "output_type": "stream",
     "text": [
      "100%|██████████| 328/328 [00:28<00:00, 11.36it/s]\n"
     ]
    },
    {
     "name": "stdout",
     "output_type": "stream",
     "text": [
      "{'val_loss': 1.481689783494647, 'val_accuracy': 0.6498855835240275, 'precision': 0.6421760874710779, 'recall': 0.6498855835240275, 'f1-score': 0.6358321833894098, 'macro_f1-score': 0.36636545909411805, 'balanced_accuracy': 0.36839918416782574, 'mcc': 0.5361491567618913, 'train_loss': 0.6230106924138055}\n",
      "Epoch 9/20\n"
     ]
    },
    {
     "name": "stderr",
     "output_type": "stream",
     "text": [
      "100%|██████████| 328/328 [00:28<00:00, 11.35it/s]\n"
     ]
    },
    {
     "name": "stdout",
     "output_type": "stream",
     "text": [
      "{'val_loss': 1.5280699915275342, 'val_accuracy': 0.6544622425629291, 'precision': 0.6320575693798272, 'recall': 0.6544622425629291, 'f1-score': 0.6303007882529008, 'macro_f1-score': 0.3518212497825714, 'balanced_accuracy': 0.3359342579626901, 'mcc': 0.5364967423571403, 'train_loss': 0.5230881272497155}\n",
      "Epoch 10/20\n"
     ]
    },
    {
     "name": "stderr",
     "output_type": "stream",
     "text": [
      "100%|██████████| 328/328 [00:28<00:00, 11.33it/s]\n"
     ]
    },
    {
     "name": "stdout",
     "output_type": "stream",
     "text": [
      "{'val_loss': 1.5959293469786644, 'val_accuracy': 0.6384439359267735, 'precision': 0.6450992696410104, 'recall': 0.6384439359267735, 'f1-score': 0.6310630262127127, 'macro_f1-score': 0.33694692916360314, 'balanced_accuracy': 0.34702237928972934, 'mcc': 0.5296540779141314, 'train_loss': 0.405034495392678}\n",
      "Epoch 11/20\n"
     ]
    },
    {
     "name": "stderr",
     "output_type": "stream",
     "text": [
      "100%|██████████| 328/328 [00:28<00:00, 11.32it/s]\n"
     ]
    },
    {
     "name": "stdout",
     "output_type": "stream",
     "text": [
      "{'val_loss': 1.6743215845852364, 'val_accuracy': 0.6460717009916095, 'precision': 0.6454075537704911, 'recall': 0.6460717009916095, 'f1-score': 0.636473701738897, 'macro_f1-score': 0.366813510811054, 'balanced_accuracy': 0.36165838708930753, 'mcc': 0.5362817112060346, 'train_loss': 0.3332091785751556}\n",
      "Epoch 12/20\n"
     ]
    },
    {
     "name": "stderr",
     "output_type": "stream",
     "text": [
      "100%|██████████| 328/328 [00:29<00:00, 11.28it/s]\n"
     ]
    },
    {
     "name": "stdout",
     "output_type": "stream",
     "text": [
      "{'val_loss': 1.7452191816779172, 'val_accuracy': 0.658276125095347, 'precision': 0.6357100723747244, 'recall': 0.658276125095347, 'f1-score': 0.6369011383492218, 'macro_f1-score': 0.3692668573884043, 'balanced_accuracy': 0.35279382466818937, 'mcc': 0.5363842757088727, 'train_loss': 0.2999874360166581}\n",
      "Epoch 13/20\n"
     ]
    },
    {
     "name": "stderr",
     "output_type": "stream",
     "text": [
      "100%|██████████| 328/328 [00:29<00:00, 11.29it/s]\n"
     ]
    },
    {
     "name": "stdout",
     "output_type": "stream",
     "text": [
      "{'val_loss': 1.753867671620555, 'val_accuracy': 0.6102212051868803, 'precision': 0.6568193170418944, 'recall': 0.6102212051868803, 'f1-score': 0.6216132988987626, 'macro_f1-score': 0.37339136546848267, 'balanced_accuracy': 0.3975890729804181, 'mcc': 0.5072127335724702, 'train_loss': 0.2802156670240504}\n",
      "Epoch 14/20\n"
     ]
    },
    {
     "name": "stderr",
     "output_type": "stream",
     "text": [
      "100%|██████████| 328/328 [00:29<00:00, 11.30it/s]\n"
     ]
    },
    {
     "name": "stdout",
     "output_type": "stream",
     "text": [
      "{'val_loss': 1.7415645198851097, 'val_accuracy': 0.6346300533943554, 'precision': 0.6685420406031112, 'recall': 0.6346300533943554, 'f1-score': 0.6427681232351441, 'macro_f1-score': 0.41163547526174127, 'balanced_accuracy': 0.41894170452051577, 'mcc': 0.5326906337774192, 'train_loss': 0.20807554506378748}\n",
      "Epoch 15/20\n"
     ]
    },
    {
     "name": "stderr",
     "output_type": "stream",
     "text": [
      "100%|██████████| 328/328 [00:28<00:00, 11.46it/s]\n"
     ]
    },
    {
     "name": "stdout",
     "output_type": "stream",
     "text": [
      "{'val_loss': 1.8770880861798438, 'val_accuracy': 0.6407322654462243, 'precision': 0.6521048420254578, 'recall': 0.6407322654462243, 'f1-score': 0.6385054750504655, 'macro_f1-score': 0.3881775425596798, 'balanced_accuracy': 0.4098357777436001, 'mcc': 0.5337596099027999, 'train_loss': 0.16663135714096403}\n",
      "Epoch 16/20\n"
     ]
    },
    {
     "name": "stderr",
     "output_type": "stream",
     "text": [
      "100%|██████████| 328/328 [00:28<00:00, 11.48it/s]\n"
     ]
    },
    {
     "name": "stdout",
     "output_type": "stream",
     "text": [
      "{'val_loss': 1.9016354295720415, 'val_accuracy': 0.631578947368421, 'precision': 0.6669132754719693, 'recall': 0.631578947368421, 'f1-score': 0.638726756168981, 'macro_f1-score': 0.4139428070228805, 'balanced_accuracy': 0.4361915208357103, 'mcc': 0.5307179843746961, 'train_loss': 0.1739494373280805}\n",
      "Epoch 17/20\n"
     ]
    },
    {
     "name": "stderr",
     "output_type": "stream",
     "text": [
      "100%|██████████| 328/328 [00:28<00:00, 11.49it/s]\n"
     ]
    },
    {
     "name": "stdout",
     "output_type": "stream",
     "text": [
      "{'val_loss': 1.9804894953239254, 'val_accuracy': 0.6414950419527079, 'precision': 0.6361802399877377, 'recall': 0.6414950419527079, 'f1-score': 0.6315661551149041, 'macro_f1-score': 0.3866731278218644, 'balanced_accuracy': 0.38671000862161103, 'mcc': 0.5220997208219474, 'train_loss': 0.15010146814449576}\n",
      "Epoch 18/20\n"
     ]
    },
    {
     "name": "stderr",
     "output_type": "stream",
     "text": [
      "100%|██████████| 328/328 [00:28<00:00, 11.49it/s]\n"
     ]
    },
    {
     "name": "stdout",
     "output_type": "stream",
     "text": [
      "{'val_loss': 1.9356182920405778, 'val_accuracy': 0.631578947368421, 'precision': 0.6547871681425915, 'recall': 0.631578947368421, 'f1-score': 0.6339046238219819, 'macro_f1-score': 0.37042025149168073, 'balanced_accuracy': 0.383851844242141, 'mcc': 0.5244445711223881, 'train_loss': 0.15491967792225228}\n",
      "Epoch 19/20\n"
     ]
    },
    {
     "name": "stderr",
     "output_type": "stream",
     "text": [
      "100%|██████████| 328/328 [00:28<00:00, 11.49it/s]\n"
     ]
    },
    {
     "name": "stdout",
     "output_type": "stream",
     "text": [
      "{'val_loss': 1.936291606324475, 'val_accuracy': 0.6376811594202898, 'precision': 0.6290795094197316, 'recall': 0.6376811594202898, 'f1-score': 0.6206480991562573, 'macro_f1-score': 0.3517725997051781, 'balanced_accuracy': 0.36005441640590985, 'mcc': 0.522095705430616, 'train_loss': 0.1689353720867075}\n",
      "Early stopping.\n",
      "\n",
      " === roberta-base + cnn + none Final 5-fold Cross-Validation Results ===\n",
      "val_loss: 1.8598\n",
      "val_accuracy: 0.6124\n",
      "precision: 0.5943\n",
      "recall: 0.6124\n",
      "f1-score: 0.5914\n",
      "macro_f1-score: 0.3161\n",
      "balanced_accuracy: 0.3224\n",
      "mcc: 0.4839\n",
      "train_loss: 0.7052\n",
      "total_seconds: 2347.0000\n",
      "total_time: 0 hrs 39 mins 7 secs\n",
      "▶ Running: roberta-base + lstm + none\n",
      "tokenizer is roberta-base\n",
      "Using device: cuda\n",
      "CUDA Available: True\n",
      "CUDA Device: NVIDIA GeForce RTX 5070 Ti\n",
      "Current GPU Memory Allocated: 0.02 GB\n",
      "Current GPU Memory Cached: 3.82 GB\n",
      "\n",
      "[Fold 1]\n",
      "Label distribution after resampling:\n",
      "  label 0: 2471\n",
      "  label 1: 21\n",
      "  label 2: 64\n",
      "  label 3: 24\n",
      "  label 4: 191\n",
      "  label 5: 113\n",
      "  label 6: 93\n",
      "  label 7: 30\n",
      "  label 8: 68\n",
      "  label 9: 30\n",
      "  label 10: 67\n",
      "  label 11: 169\n",
      "  label 12: 189\n",
      "  label 13: 29\n",
      "  label 14: 22\n",
      "  label 15: 25\n",
      "  label 16: 19\n",
      "  label 17: 183\n",
      "  label 18: 92\n",
      "  label 19: 44\n",
      "  label 20: 13\n",
      "  label 21: 35\n",
      "  label 22: 76\n",
      "  label 23: 158\n",
      "  label 24: 13\n",
      "  label 25: 44\n",
      "  label 26: 84\n",
      "  label 27: 48\n",
      "  label 28: 11\n",
      "  label 29: 13\n",
      "  label 30: 11\n",
      "  label 31: 75\n",
      "  label 32: 36\n",
      "  label 33: 32\n",
      "  label 34: 29\n",
      "  label 35: 11\n",
      "  label 36: 22\n",
      "  label 37: 16\n",
      "  label 38: 33\n",
      "  label 39: 10\n",
      "  label 40: 9\n",
      "  label 41: 57\n",
      "  label 42: 19\n",
      "  label 43: 8\n",
      "  label 44: 54\n",
      "  label 45: 242\n",
      "  label 46: 61\n",
      "  label 47: 80\n",
      "model is roberta-base lstm\n"
     ]
    },
    {
     "name": "stderr",
     "output_type": "stream",
     "text": [
      "Some weights of RobertaModel were not initialized from the model checkpoint at roberta-base and are newly initialized: ['pooler.dense.bias', 'pooler.dense.weight']\n",
      "You should probably TRAIN this model on a down-stream task to be able to use it for predictions and inference.\n"
     ]
    },
    {
     "name": "stdout",
     "output_type": "stream",
     "text": [
      "Epoch 1/20\n"
     ]
    },
    {
     "name": "stderr",
     "output_type": "stream",
     "text": [
      "100%|██████████| 328/328 [00:29<00:00, 11.00it/s]\n"
     ]
    },
    {
     "name": "stdout",
     "output_type": "stream",
     "text": [
      "{'val_loss': 2.1607845636402687, 'val_accuracy': 0.5304878048780488, 'precision': 0.30296151722713305, 'recall': 0.5304878048780488, 'f1-score': 0.382050580283965, 'macro_f1-score': 0.042416861840742226, 'balanced_accuracy': 0.05611388927142388, 'mcc': 0.27338182737650457, 'train_loss': 2.4246627724752194}\n",
      "Epoch 2/20\n"
     ]
    },
    {
     "name": "stderr",
     "output_type": "stream",
     "text": [
      "100%|██████████| 328/328 [00:29<00:00, 11.04it/s]\n"
     ]
    },
    {
     "name": "stdout",
     "output_type": "stream",
     "text": [
      "{'val_loss': 2.055451314987206, 'val_accuracy': 0.5403963414634146, 'precision': 0.3643155971622438, 'recall': 0.5403963414634146, 'f1-score': 0.4292328945642043, 'macro_f1-score': 0.058639899490785324, 'balanced_accuracy': 0.08159620696754682, 'mcc': 0.3289471255450124, 'train_loss': 2.10308764366115}\n",
      "Epoch 3/20\n"
     ]
    },
    {
     "name": "stderr",
     "output_type": "stream",
     "text": [
      "100%|██████████| 328/328 [00:29<00:00, 10.96it/s]\n"
     ]
    },
    {
     "name": "stdout",
     "output_type": "stream",
     "text": [
      "{'val_loss': 1.9312393516302109, 'val_accuracy': 0.5442073170731707, 'precision': 0.3656196261354834, 'recall': 0.5442073170731707, 'f1-score': 0.4144076878798585, 'macro_f1-score': 0.05378143392774088, 'balanced_accuracy': 0.0779508918692778, 'mcc': 0.32469363009925817, 'train_loss': 1.9487455827070446}\n",
      "Epoch 4/20\n"
     ]
    },
    {
     "name": "stderr",
     "output_type": "stream",
     "text": [
      "100%|██████████| 328/328 [00:30<00:00, 10.88it/s]\n"
     ]
    },
    {
     "name": "stdout",
     "output_type": "stream",
     "text": [
      "{'val_loss': 1.8844843434124459, 'val_accuracy': 0.5632621951219512, 'precision': 0.40514440531381857, 'recall': 0.5632621951219512, 'f1-score': 0.461881783729888, 'macro_f1-score': 0.078601550840434, 'balanced_accuracy': 0.09223903193482018, 'mcc': 0.36162365441993505, 'train_loss': 1.784122058531133}\n",
      "Epoch 5/20\n"
     ]
    },
    {
     "name": "stderr",
     "output_type": "stream",
     "text": [
      "100%|██████████| 328/328 [00:31<00:00, 10.47it/s]\n"
     ]
    },
    {
     "name": "stdout",
     "output_type": "stream",
     "text": [
      "{'val_loss': 1.8146098259745576, 'val_accuracy': 0.5594512195121951, 'precision': 0.44265891343664115, 'recall': 0.5594512195121951, 'f1-score': 0.48686952236207376, 'macro_f1-score': 0.10067778202750925, 'balanced_accuracy': 0.11561560578426848, 'mcc': 0.38012115351533843, 'train_loss': 1.6989165887963482}\n",
      "Epoch 6/20\n"
     ]
    },
    {
     "name": "stderr",
     "output_type": "stream",
     "text": [
      "100%|██████████| 328/328 [00:31<00:00, 10.52it/s]\n"
     ]
    },
    {
     "name": "stdout",
     "output_type": "stream",
     "text": [
      "{'val_loss': 1.8273743983449005, 'val_accuracy': 0.5586890243902439, 'precision': 0.45876902133710085, 'recall': 0.5586890243902439, 'f1-score': 0.4896439447249849, 'macro_f1-score': 0.10345804586502022, 'balanced_accuracy': 0.11819920260848342, 'mcc': 0.38262525704777534, 'train_loss': 1.5706374971423207}\n",
      "Epoch 7/20\n"
     ]
    },
    {
     "name": "stderr",
     "output_type": "stream",
     "text": [
      "100%|██████████| 328/328 [00:31<00:00, 10.53it/s]\n"
     ]
    },
    {
     "name": "stdout",
     "output_type": "stream",
     "text": [
      "{'val_loss': 1.764653330169073, 'val_accuracy': 0.5510670731707317, 'precision': 0.4583647741211809, 'recall': 0.5510670731707317, 'f1-score': 0.48945027998460106, 'macro_f1-score': 0.11582263653704457, 'balanced_accuracy': 0.1404471502879654, 'mcc': 0.38333057770901974, 'train_loss': 1.4748647002185262}\n",
      "Epoch 8/20\n"
     ]
    },
    {
     "name": "stderr",
     "output_type": "stream",
     "text": [
      "100%|██████████| 328/328 [00:31<00:00, 10.51it/s]\n"
     ]
    },
    {
     "name": "stdout",
     "output_type": "stream",
     "text": [
      "{'val_loss': 1.6878174383465836, 'val_accuracy': 0.5754573170731707, 'precision': 0.4979761650368977, 'recall': 0.5754573170731707, 'f1-score': 0.5147140155852239, 'macro_f1-score': 0.13079225914820805, 'balanced_accuracy': 0.149758904539834, 'mcc': 0.4173916615925434, 'train_loss': 1.3761203112762148}\n",
      "Epoch 9/20\n"
     ]
    },
    {
     "name": "stderr",
     "output_type": "stream",
     "text": [
      "100%|██████████| 328/328 [00:29<00:00, 11.01it/s]\n"
     ]
    },
    {
     "name": "stdout",
     "output_type": "stream",
     "text": [
      "{'val_loss': 1.7884565017572263, 'val_accuracy': 0.5701219512195121, 'precision': 0.5171518910989967, 'recall': 0.5701219512195121, 'f1-score': 0.5283745829175835, 'macro_f1-score': 0.1580069262749536, 'balanced_accuracy': 0.1712092448151298, 'mcc': 0.42316030335993104, 'train_loss': 1.2772222090421654}\n",
      "Epoch 10/20\n"
     ]
    },
    {
     "name": "stderr",
     "output_type": "stream",
     "text": [
      "100%|██████████| 328/328 [00:29<00:00, 10.99it/s]\n"
     ]
    },
    {
     "name": "stdout",
     "output_type": "stream",
     "text": [
      "{'val_loss': 1.8083116026913248, 'val_accuracy': 0.5625, 'precision': 0.5176379087992802, 'recall': 0.5625, 'f1-score': 0.525902969920963, 'macro_f1-score': 0.15402048927489956, 'balanced_accuracy': 0.15856759167033851, 'mcc': 0.4012992027154754, 'train_loss': 1.2219073848299138}\n",
      "Epoch 11/20\n"
     ]
    },
    {
     "name": "stderr",
     "output_type": "stream",
     "text": [
      "100%|██████████| 328/328 [00:29<00:00, 10.97it/s]\n"
     ]
    },
    {
     "name": "stdout",
     "output_type": "stream",
     "text": [
      "{'val_loss': 1.7635803231742324, 'val_accuracy': 0.573170731707317, 'precision': 0.5237483080829481, 'recall': 0.573170731707317, 'f1-score': 0.5373691974760754, 'macro_f1-score': 0.18216212790898023, 'balanced_accuracy': 0.20585775031174106, 'mcc': 0.42746274758598046, 'train_loss': 1.1771033612057202}\n",
      "Epoch 12/20\n"
     ]
    },
    {
     "name": "stderr",
     "output_type": "stream",
     "text": [
      "100%|██████████| 328/328 [00:29<00:00, 11.01it/s]\n"
     ]
    },
    {
     "name": "stdout",
     "output_type": "stream",
     "text": [
      "{'val_loss': 1.6872559033515977, 'val_accuracy': 0.5914634146341463, 'precision': 0.529874627718565, 'recall': 0.5914634146341463, 'f1-score': 0.5514122082817968, 'macro_f1-score': 0.1985892444461563, 'balanced_accuracy': 0.20859131220471352, 'mcc': 0.44600612032340636, 'train_loss': 1.062908709185516}\n",
      "Epoch 13/20\n"
     ]
    },
    {
     "name": "stderr",
     "output_type": "stream",
     "text": [
      "100%|██████████| 328/328 [00:29<00:00, 11.03it/s]\n"
     ]
    },
    {
     "name": "stdout",
     "output_type": "stream",
     "text": [
      "{'val_loss': 1.7473139183186903, 'val_accuracy': 0.5800304878048781, 'precision': 0.5421920501982638, 'recall': 0.5800304878048781, 'f1-score': 0.5538044460471, 'macro_f1-score': 0.20291526389449843, 'balanced_accuracy': 0.22973545344271207, 'mcc': 0.4442083996100713, 'train_loss': 0.9848259375771371}\n",
      "Epoch 14/20\n"
     ]
    },
    {
     "name": "stderr",
     "output_type": "stream",
     "text": [
      "100%|██████████| 328/328 [00:29<00:00, 10.98it/s]\n"
     ]
    },
    {
     "name": "stdout",
     "output_type": "stream",
     "text": [
      "{'val_loss': 1.7593690571261615, 'val_accuracy': 0.6105182926829268, 'precision': 0.5783744126270358, 'recall': 0.6105182926829268, 'f1-score': 0.5858044032965646, 'macro_f1-score': 0.2646934445726716, 'balanced_accuracy': 0.28991010797669253, 'mcc': 0.4808018284148334, 'train_loss': 0.9406442242424663}\n",
      "Epoch 15/20\n"
     ]
    },
    {
     "name": "stderr",
     "output_type": "stream",
     "text": [
      "100%|██████████| 328/328 [00:29<00:00, 11.05it/s]\n"
     ]
    },
    {
     "name": "stdout",
     "output_type": "stream",
     "text": [
      "{'val_loss': 1.8291365046326706, 'val_accuracy': 0.5655487804878049, 'precision': 0.5503100466410364, 'recall': 0.5655487804878049, 'f1-score': 0.5496585832249613, 'macro_f1-score': 0.2183363795625568, 'balanced_accuracy': 0.25140773800825184, 'mcc': 0.4377221723327836, 'train_loss': 0.932665936194542}\n",
      "Epoch 16/20\n"
     ]
    },
    {
     "name": "stderr",
     "output_type": "stream",
     "text": [
      "100%|██████████| 328/328 [00:30<00:00, 10.79it/s]\n"
     ]
    },
    {
     "name": "stdout",
     "output_type": "stream",
     "text": [
      "{'val_loss': 1.8559362310461882, 'val_accuracy': 0.586890243902439, 'precision': 0.5750164172185663, 'recall': 0.586890243902439, 'f1-score': 0.572877779114049, 'macro_f1-score': 0.23363476768204036, 'balanced_accuracy': 0.253075722215558, 'mcc': 0.457994275300139, 'train_loss': 0.8474080811095673}\n",
      "Epoch 17/20\n"
     ]
    },
    {
     "name": "stderr",
     "output_type": "stream",
     "text": [
      "100%|██████████| 328/328 [00:29<00:00, 10.95it/s]\n"
     ]
    },
    {
     "name": "stdout",
     "output_type": "stream",
     "text": [
      "{'val_loss': 1.8323755060754172, 'val_accuracy': 0.5922256097560976, 'precision': 0.5681782482539831, 'recall': 0.5922256097560976, 'f1-score': 0.574772057550791, 'macro_f1-score': 0.251692393682264, 'balanced_accuracy': 0.26456748975829525, 'mcc': 0.4610854331770951, 'train_loss': 0.7951258769849452}\n",
      "Early stopping.\n",
      "\n",
      "[Fold 2]\n",
      "Label distribution after resampling:\n",
      "  label 0: 2471\n",
      "  label 1: 22\n",
      "  label 2: 64\n",
      "  label 3: 24\n",
      "  label 4: 190\n",
      "  label 5: 113\n",
      "  label 6: 93\n",
      "  label 7: 30\n",
      "  label 8: 68\n",
      "  label 9: 30\n",
      "  label 10: 67\n",
      "  label 11: 169\n",
      "  label 12: 189\n",
      "  label 13: 29\n",
      "  label 14: 23\n",
      "  label 15: 24\n",
      "  label 16: 20\n",
      "  label 17: 182\n",
      "  label 18: 92\n",
      "  label 19: 44\n",
      "  label 20: 13\n",
      "  label 21: 36\n",
      "  label 22: 76\n",
      "  label 23: 157\n",
      "  label 24: 12\n",
      "  label 25: 44\n",
      "  label 26: 84\n",
      "  label 27: 48\n",
      "  label 28: 12\n",
      "  label 29: 12\n",
      "  label 30: 12\n",
      "  label 31: 75\n",
      "  label 32: 36\n",
      "  label 33: 31\n",
      "  label 34: 29\n",
      "  label 35: 12\n",
      "  label 36: 21\n",
      "  label 37: 16\n",
      "  label 38: 33\n",
      "  label 39: 11\n",
      "  label 40: 8\n",
      "  label 41: 57\n",
      "  label 42: 19\n",
      "  label 43: 9\n",
      "  label 44: 54\n",
      "  label 45: 242\n",
      "  label 46: 62\n",
      "  label 47: 80\n",
      "model is roberta-base lstm\n"
     ]
    },
    {
     "name": "stderr",
     "output_type": "stream",
     "text": [
      "Some weights of RobertaModel were not initialized from the model checkpoint at roberta-base and are newly initialized: ['pooler.dense.bias', 'pooler.dense.weight']\n",
      "You should probably TRAIN this model on a down-stream task to be able to use it for predictions and inference.\n"
     ]
    },
    {
     "name": "stdout",
     "output_type": "stream",
     "text": [
      "Epoch 1/20\n"
     ]
    },
    {
     "name": "stderr",
     "output_type": "stream",
     "text": [
      "100%|██████████| 328/328 [00:29<00:00, 10.98it/s]\n"
     ]
    },
    {
     "name": "stdout",
     "output_type": "stream",
     "text": [
      "{'val_loss': 2.119933789823113, 'val_accuracy': 0.5408085430968727, 'precision': 0.32215955432271964, 'recall': 0.5408085430968727, 'f1-score': 0.4009962161460901, 'macro_f1-score': 0.05083317694371056, 'balanced_accuracy': 0.06640863174804185, 'mcc': 0.2999655809789225, 'train_loss': 2.4031581298970597}\n",
      "Epoch 2/20\n"
     ]
    },
    {
     "name": "stderr",
     "output_type": "stream",
     "text": [
      "100%|██████████| 328/328 [00:29<00:00, 10.99it/s]\n"
     ]
    },
    {
     "name": "stdout",
     "output_type": "stream",
     "text": [
      "{'val_loss': 2.2348005262816826, 'val_accuracy': 0.5560640732265446, 'precision': 0.3776346244995217, 'recall': 0.5560640732265446, 'f1-score': 0.4259999752622475, 'macro_f1-score': 0.0604629842957295, 'balanced_accuracy': 0.07747637934095829, 'mcc': 0.33613376567073183, 'train_loss': 2.090397714296492}\n",
      "Epoch 3/20\n"
     ]
    },
    {
     "name": "stderr",
     "output_type": "stream",
     "text": [
      "100%|██████████| 328/328 [00:29<00:00, 11.01it/s]\n"
     ]
    },
    {
     "name": "stdout",
     "output_type": "stream",
     "text": [
      "{'val_loss': 1.8887418464916508, 'val_accuracy': 0.5598779557589626, 'precision': 0.37200214546742183, 'recall': 0.5598779557589626, 'f1-score': 0.44087624711124984, 'macro_f1-score': 0.061280774278465434, 'balanced_accuracy': 0.08736558565666312, 'mcc': 0.3614155159291786, 'train_loss': 1.9214862018096737}\n",
      "Epoch 4/20\n"
     ]
    },
    {
     "name": "stderr",
     "output_type": "stream",
     "text": [
      "100%|██████████| 328/328 [00:29<00:00, 10.98it/s]\n"
     ]
    },
    {
     "name": "stdout",
     "output_type": "stream",
     "text": [
      "{'val_loss': 1.816616737261051, 'val_accuracy': 0.5636918382913806, 'precision': 0.4285674885829565, 'recall': 0.5636918382913806, 'f1-score': 0.46458587045541666, 'macro_f1-score': 0.07908275994117961, 'balanced_accuracy': 0.09684615946457824, 'mcc': 0.3753195585361626, 'train_loss': 1.7616249357418317}\n",
      "Epoch 5/20\n"
     ]
    },
    {
     "name": "stderr",
     "output_type": "stream",
     "text": [
      "100%|██████████| 328/328 [00:29<00:00, 10.99it/s]\n"
     ]
    },
    {
     "name": "stdout",
     "output_type": "stream",
     "text": [
      "{'val_loss': 1.7200195905638904, 'val_accuracy': 0.5781845919145691, 'precision': 0.44920372572850875, 'recall': 0.5781845919145691, 'f1-score': 0.4870777938335472, 'macro_f1-score': 0.09192162455952661, 'balanced_accuracy': 0.11190026013923228, 'mcc': 0.40064641446485766, 'train_loss': 1.6972365370247422}\n",
      "Epoch 6/20\n"
     ]
    },
    {
     "name": "stderr",
     "output_type": "stream",
     "text": [
      "100%|██████████| 328/328 [00:29<00:00, 11.03it/s]\n"
     ]
    },
    {
     "name": "stdout",
     "output_type": "stream",
     "text": [
      "{'val_loss': 1.7155020702175978, 'val_accuracy': 0.5728451563691839, 'precision': 0.46521810185764884, 'recall': 0.5728451563691839, 'f1-score': 0.5081831666299538, 'macro_f1-score': 0.11841796231575648, 'balanced_accuracy': 0.14388111295677986, 'mcc': 0.41841343889259974, 'train_loss': 1.5592439994215965}\n",
      "Epoch 7/20\n"
     ]
    },
    {
     "name": "stderr",
     "output_type": "stream",
     "text": [
      "100%|██████████| 328/328 [00:29<00:00, 11.00it/s]\n"
     ]
    },
    {
     "name": "stdout",
     "output_type": "stream",
     "text": [
      "{'val_loss': 1.6904362033053142, 'val_accuracy': 0.5804729214340199, 'precision': 0.5054544317228584, 'recall': 0.5804729214340199, 'f1-score': 0.5150909486880803, 'macro_f1-score': 0.12789411111951945, 'balanced_accuracy': 0.15234028104106348, 'mcc': 0.42708899776463793, 'train_loss': 1.4964197682353055}\n",
      "Epoch 8/20\n"
     ]
    },
    {
     "name": "stderr",
     "output_type": "stream",
     "text": [
      "100%|██████████| 328/328 [00:29<00:00, 10.97it/s]\n"
     ]
    },
    {
     "name": "stdout",
     "output_type": "stream",
     "text": [
      "{'val_loss': 1.7274198568448789, 'val_accuracy': 0.5842868039664378, 'precision': 0.46748545108861256, 'recall': 0.5842868039664378, 'f1-score': 0.5026694386458596, 'macro_f1-score': 0.11703257624765695, 'balanced_accuracy': 0.13841405425475828, 'mcc': 0.4197927491351127, 'train_loss': 1.3933469449601523}\n",
      "Epoch 9/20\n"
     ]
    },
    {
     "name": "stderr",
     "output_type": "stream",
     "text": [
      "100%|██████████| 328/328 [00:29<00:00, 11.04it/s]\n"
     ]
    },
    {
     "name": "stdout",
     "output_type": "stream",
     "text": [
      "{'val_loss': 1.7966687919163122, 'val_accuracy': 0.5774218154080855, 'precision': 0.481404257739184, 'recall': 0.5774218154080855, 'f1-score': 0.5159995721598211, 'macro_f1-score': 0.1340737436444774, 'balanced_accuracy': 0.14948447409772428, 'mcc': 0.4185281185635741, 'train_loss': 1.320518854914642}\n",
      "Epoch 10/20\n"
     ]
    },
    {
     "name": "stderr",
     "output_type": "stream",
     "text": [
      "100%|██████████| 328/328 [00:29<00:00, 10.99it/s]\n"
     ]
    },
    {
     "name": "stdout",
     "output_type": "stream",
     "text": [
      "{'val_loss': 1.665791103752648, 'val_accuracy': 0.6071700991609459, 'precision': 0.5210826483130908, 'recall': 0.6071700991609459, 'f1-score': 0.5556690870895004, 'macro_f1-score': 0.175462471465362, 'balanced_accuracy': 0.18843406703135968, 'mcc': 0.4642810598536255, 'train_loss': 1.2434746870634759}\n",
      "Epoch 11/20\n"
     ]
    },
    {
     "name": "stderr",
     "output_type": "stream",
     "text": [
      "100%|██████████| 328/328 [00:29<00:00, 10.95it/s]\n"
     ]
    },
    {
     "name": "stdout",
     "output_type": "stream",
     "text": [
      "{'val_loss': 1.8040284885139, 'val_accuracy': 0.5789473684210527, 'precision': 0.49287612704920003, 'recall': 0.5789473684210527, 'f1-score': 0.5280861805335028, 'macro_f1-score': 0.13684886208028293, 'balanced_accuracy': 0.14936600464984376, 'mcc': 0.42405679073813446, 'train_loss': 1.193058854832155}\n",
      "Epoch 12/20\n"
     ]
    },
    {
     "name": "stderr",
     "output_type": "stream",
     "text": [
      "100%|██████████| 328/328 [00:29<00:00, 10.99it/s]\n"
     ]
    },
    {
     "name": "stdout",
     "output_type": "stream",
     "text": [
      "{'val_loss': 1.73185688329906, 'val_accuracy': 0.5690312738367659, 'precision': 0.532095357410787, 'recall': 0.5690312738367659, 'f1-score': 0.5426551722209183, 'macro_f1-score': 0.17384270538399996, 'balanced_accuracy': 0.1936152718820234, 'mcc': 0.43345725370599447, 'train_loss': 1.1436201663824117}\n",
      "Epoch 13/20\n"
     ]
    },
    {
     "name": "stderr",
     "output_type": "stream",
     "text": [
      "100%|██████████| 328/328 [00:29<00:00, 10.98it/s]\n"
     ]
    },
    {
     "name": "stdout",
     "output_type": "stream",
     "text": [
      "{'val_loss': 1.7346603150774793, 'val_accuracy': 0.5659801678108314, 'precision': 0.5338266551625483, 'recall': 0.5659801678108314, 'f1-score': 0.5444078452956198, 'macro_f1-score': 0.18594675725024024, 'balanced_accuracy': 0.20133131286582176, 'mcc': 0.43397746530325704, 'train_loss': 1.043164201080799}\n",
      "Epoch 14/20\n"
     ]
    },
    {
     "name": "stderr",
     "output_type": "stream",
     "text": [
      "100%|██████████| 328/328 [00:29<00:00, 11.01it/s]\n"
     ]
    },
    {
     "name": "stdout",
     "output_type": "stream",
     "text": [
      "{'val_loss': 1.8183540251196884, 'val_accuracy': 0.6125095347063311, 'precision': 0.5371009574464096, 'recall': 0.6125095347063311, 'f1-score': 0.5643296587111483, 'macro_f1-score': 0.21668738794624753, 'balanced_accuracy': 0.22079378861198817, 'mcc': 0.4704100612349752, 'train_loss': 0.9663507705327214}\n",
      "Epoch 15/20\n"
     ]
    },
    {
     "name": "stderr",
     "output_type": "stream",
     "text": [
      "100%|██████████| 328/328 [00:29<00:00, 10.98it/s]\n"
     ]
    },
    {
     "name": "stdout",
     "output_type": "stream",
     "text": [
      "{'val_loss': 1.699620642313143, 'val_accuracy': 0.601067887109077, 'precision': 0.5717864505726866, 'recall': 0.601067887109077, 'f1-score': 0.5721458864787718, 'macro_f1-score': 0.21641642744030545, 'balanced_accuracy': 0.23158151298543062, 'mcc': 0.47714037003835164, 'train_loss': 0.9105185028619882}\n",
      "Epoch 16/20\n"
     ]
    },
    {
     "name": "stderr",
     "output_type": "stream",
     "text": [
      "100%|██████████| 328/328 [00:29<00:00, 10.98it/s]\n"
     ]
    },
    {
     "name": "stdout",
     "output_type": "stream",
     "text": [
      "{'val_loss': 1.7557960421573826, 'val_accuracy': 0.5926773455377574, 'precision': 0.5728745898883406, 'recall': 0.5926773455377574, 'f1-score': 0.5671044564796911, 'macro_f1-score': 0.21688705236358888, 'balanced_accuracy': 0.24140040009694871, 'mcc': 0.4618332383242143, 'train_loss': 0.8802848789477493}\n",
      "Epoch 17/20\n"
     ]
    },
    {
     "name": "stderr",
     "output_type": "stream",
     "text": [
      "100%|██████████| 328/328 [00:29<00:00, 11.01it/s]\n"
     ]
    },
    {
     "name": "stdout",
     "output_type": "stream",
     "text": [
      "{'val_loss': 1.7291200182786801, 'val_accuracy': 0.6117467581998475, 'precision': 0.5753608434927292, 'recall': 0.6117467581998475, 'f1-score': 0.5851160312320773, 'macro_f1-score': 0.24743653214180714, 'balanced_accuracy': 0.26554272907178106, 'mcc': 0.4854185404741484, 'train_loss': 0.8218686051394154}\n",
      "Epoch 18/20\n"
     ]
    },
    {
     "name": "stderr",
     "output_type": "stream",
     "text": [
      "100%|██████████| 328/328 [00:29<00:00, 11.00it/s]\n"
     ]
    },
    {
     "name": "stdout",
     "output_type": "stream",
     "text": [
      "{'val_loss': 1.7783923338099223, 'val_accuracy': 0.5957284515636918, 'precision': 0.583132459595775, 'recall': 0.5957284515636918, 'f1-score': 0.5808058062644649, 'macro_f1-score': 0.2505668595969966, 'balanced_accuracy': 0.27612369659897035, 'mcc': 0.46834940544829895, 'train_loss': 0.7336119029489232}\n",
      "Epoch 19/20\n"
     ]
    },
    {
     "name": "stderr",
     "output_type": "stream",
     "text": [
      "100%|██████████| 328/328 [00:29<00:00, 10.96it/s]\n"
     ]
    },
    {
     "name": "stdout",
     "output_type": "stream",
     "text": [
      "{'val_loss': 1.7814340518742073, 'val_accuracy': 0.6163234172387491, 'precision': 0.5799038528423996, 'recall': 0.6163234172387491, 'f1-score': 0.5916195936033057, 'macro_f1-score': 0.245324788898842, 'balanced_accuracy': 0.2658840976011505, 'mcc': 0.492145420602187, 'train_loss': 0.7279178169215235}\n",
      "Epoch 20/20\n"
     ]
    },
    {
     "name": "stderr",
     "output_type": "stream",
     "text": [
      "100%|██████████| 328/328 [00:29<00:00, 11.02it/s]\n"
     ]
    },
    {
     "name": "stdout",
     "output_type": "stream",
     "text": [
      "{'val_loss': 1.7399638157065322, 'val_accuracy': 0.5949656750572082, 'precision': 0.5838880840297029, 'recall': 0.5949656750572082, 'f1-score': 0.5836607903845153, 'macro_f1-score': 0.24980295834371083, 'balanced_accuracy': 0.27569554015427705, 'mcc': 0.4773783251170798, 'train_loss': 0.7328144112465586}\n",
      "\n",
      "[Fold 3]\n",
      "Label distribution after resampling:\n",
      "  label 0: 2471\n",
      "  label 1: 22\n",
      "  label 2: 64\n",
      "  label 3: 24\n",
      "  label 4: 190\n",
      "  label 5: 113\n",
      "  label 6: 93\n",
      "  label 7: 30\n",
      "  label 8: 68\n",
      "  label 9: 30\n",
      "  label 10: 67\n",
      "  label 11: 169\n",
      "  label 12: 190\n",
      "  label 13: 28\n",
      "  label 14: 23\n",
      "  label 15: 25\n",
      "  label 16: 19\n",
      "  label 17: 182\n",
      "  label 18: 92\n",
      "  label 19: 44\n",
      "  label 20: 14\n",
      "  label 21: 35\n",
      "  label 22: 76\n",
      "  label 23: 157\n",
      "  label 24: 13\n",
      "  label 25: 44\n",
      "  label 26: 84\n",
      "  label 27: 48\n",
      "  label 28: 11\n",
      "  label 29: 13\n",
      "  label 30: 11\n",
      "  label 31: 76\n",
      "  label 32: 36\n",
      "  label 33: 31\n",
      "  label 34: 30\n",
      "  label 35: 11\n",
      "  label 36: 21\n",
      "  label 37: 16\n",
      "  label 38: 32\n",
      "  label 39: 11\n",
      "  label 40: 9\n",
      "  label 41: 57\n",
      "  label 42: 18\n",
      "  label 43: 9\n",
      "  label 44: 55\n",
      "  label 45: 241\n",
      "  label 46: 62\n",
      "  label 47: 80\n",
      "model is roberta-base lstm\n"
     ]
    },
    {
     "name": "stderr",
     "output_type": "stream",
     "text": [
      "Some weights of RobertaModel were not initialized from the model checkpoint at roberta-base and are newly initialized: ['pooler.dense.bias', 'pooler.dense.weight']\n",
      "You should probably TRAIN this model on a down-stream task to be able to use it for predictions and inference.\n"
     ]
    },
    {
     "name": "stdout",
     "output_type": "stream",
     "text": [
      "Epoch 1/20\n"
     ]
    },
    {
     "name": "stderr",
     "output_type": "stream",
     "text": [
      "100%|██████████| 328/328 [00:29<00:00, 10.99it/s]\n"
     ]
    },
    {
     "name": "stdout",
     "output_type": "stream",
     "text": [
      "{'val_loss': 2.1006289218984, 'val_accuracy': 0.5194508009153318, 'precision': 0.3273812549397367, 'recall': 0.5194508009153318, 'f1-score': 0.39779804256712314, 'macro_f1-score': 0.041336033813542845, 'balanced_accuracy': 0.06617164331268104, 'mcc': 0.2955117183648423, 'train_loss': 2.3564361352019194}\n",
      "Epoch 2/20\n"
     ]
    },
    {
     "name": "stderr",
     "output_type": "stream",
     "text": [
      "100%|██████████| 328/328 [00:29<00:00, 10.95it/s]\n"
     ]
    },
    {
     "name": "stdout",
     "output_type": "stream",
     "text": [
      "{'val_loss': 2.027751532996573, 'val_accuracy': 0.5186880244088482, 'precision': 0.39029492448876413, 'recall': 0.5186880244088482, 'f1-score': 0.43611425694882544, 'macro_f1-score': 0.056721139854757296, 'balanced_accuracy': 0.09070468983120401, 'mcc': 0.3450443024636655, 'train_loss': 2.0445693438736403}\n",
      "Epoch 3/20\n"
     ]
    },
    {
     "name": "stderr",
     "output_type": "stream",
     "text": [
      "100%|██████████| 328/328 [00:29<00:00, 10.99it/s]\n"
     ]
    },
    {
     "name": "stdout",
     "output_type": "stream",
     "text": [
      "{'val_loss': 1.8979409547840678, 'val_accuracy': 0.5614035087719298, 'precision': 0.4044695150571061, 'recall': 0.5614035087719298, 'f1-score': 0.46315394218067024, 'macro_f1-score': 0.07851036714465055, 'balanced_accuracy': 0.1001979069137669, 'mcc': 0.37337971785431473, 'train_loss': 1.8652719066637318}\n",
      "Epoch 4/20\n"
     ]
    },
    {
     "name": "stderr",
     "output_type": "stream",
     "text": [
      "100%|██████████| 328/328 [00:29<00:00, 10.97it/s]\n"
     ]
    },
    {
     "name": "stdout",
     "output_type": "stream",
     "text": [
      "{'val_loss': 1.7956668407451817, 'val_accuracy': 0.5720823798627003, 'precision': 0.43835010189041757, 'recall': 0.5720823798627003, 'f1-score': 0.4836740772040522, 'macro_f1-score': 0.09030664496919875, 'balanced_accuracy': 0.11169640672764225, 'mcc': 0.3932947992120734, 'train_loss': 1.7146122555543737}\n",
      "Epoch 5/20\n"
     ]
    },
    {
     "name": "stderr",
     "output_type": "stream",
     "text": [
      "100%|██████████| 328/328 [00:29<00:00, 11.02it/s]\n"
     ]
    },
    {
     "name": "stdout",
     "output_type": "stream",
     "text": [
      "{'val_loss': 1.8443672547980052, 'val_accuracy': 0.5736079328756675, 'precision': 0.46148994598792276, 'recall': 0.5736079328756675, 'f1-score': 0.4915408316631503, 'macro_f1-score': 0.1017335936727148, 'balanced_accuracy': 0.11977705082764172, 'mcc': 0.4018093941064313, 'train_loss': 1.5861112659842502}\n",
      "Epoch 6/20\n"
     ]
    },
    {
     "name": "stderr",
     "output_type": "stream",
     "text": [
      "100%|██████████| 328/328 [00:29<00:00, 10.98it/s]\n"
     ]
    },
    {
     "name": "stdout",
     "output_type": "stream",
     "text": [
      "{'val_loss': 1.8039587169158748, 'val_accuracy': 0.5720823798627003, 'precision': 0.47394302845974107, 'recall': 0.5720823798627003, 'f1-score': 0.509897450969694, 'macro_f1-score': 0.11874887914892716, 'balanced_accuracy': 0.132440839643414, 'mcc': 0.405347091132143, 'train_loss': 1.4949836705516024}\n",
      "Epoch 7/20\n"
     ]
    },
    {
     "name": "stderr",
     "output_type": "stream",
     "text": [
      "100%|██████████| 328/328 [00:29<00:00, 10.96it/s]\n"
     ]
    },
    {
     "name": "stdout",
     "output_type": "stream",
     "text": [
      "{'val_loss': 1.7463249567805268, 'val_accuracy': 0.593440122044241, 'precision': 0.5175893867752411, 'recall': 0.593440122044241, 'f1-score': 0.5392408559897436, 'macro_f1-score': 0.16177464654957946, 'balanced_accuracy': 0.1753665028883982, 'mcc': 0.4465089907812426, 'train_loss': 1.380643191679222}\n",
      "Epoch 8/20\n"
     ]
    },
    {
     "name": "stderr",
     "output_type": "stream",
     "text": [
      "100%|██████████| 328/328 [00:29<00:00, 11.01it/s]\n"
     ]
    },
    {
     "name": "stdout",
     "output_type": "stream",
     "text": [
      "{'val_loss': 1.6723764778637304, 'val_accuracy': 0.5873379099923722, 'precision': 0.5118631356821507, 'recall': 0.5873379099923722, 'f1-score': 0.536878234004482, 'macro_f1-score': 0.15217077238181334, 'balanced_accuracy': 0.15547679217742155, 'mcc': 0.42794747139715766, 'train_loss': 1.2905489370772025}\n",
      "Epoch 9/20\n"
     ]
    },
    {
     "name": "stderr",
     "output_type": "stream",
     "text": [
      "100%|██████████| 328/328 [00:29<00:00, 10.99it/s]\n"
     ]
    },
    {
     "name": "stdout",
     "output_type": "stream",
     "text": [
      "{'val_loss': 1.6543711907253034, 'val_accuracy': 0.5926773455377574, 'precision': 0.5358592631536292, 'recall': 0.5926773455377574, 'f1-score': 0.5533814871245618, 'macro_f1-score': 0.17252175564847505, 'balanced_accuracy': 0.18058091822281738, 'mcc': 0.4479115054809272, 'train_loss': 1.2309576827214985}\n",
      "Epoch 10/20\n"
     ]
    },
    {
     "name": "stderr",
     "output_type": "stream",
     "text": [
      "100%|██████████| 328/328 [00:29<00:00, 10.96it/s]\n"
     ]
    },
    {
     "name": "stdout",
     "output_type": "stream",
     "text": [
      "{'val_loss': 1.793480622513992, 'val_accuracy': 0.5713196033562167, 'precision': 0.5433653976521253, 'recall': 0.5713196033562167, 'f1-score': 0.5485941513333827, 'macro_f1-score': 0.1903368653911229, 'balanced_accuracy': 0.2065003494901377, 'mcc': 0.4389494628183123, 'train_loss': 1.1468067322744102}\n",
      "Epoch 11/20\n"
     ]
    },
    {
     "name": "stderr",
     "output_type": "stream",
     "text": [
      "100%|██████████| 328/328 [00:29<00:00, 11.02it/s]\n"
     ]
    },
    {
     "name": "stdout",
     "output_type": "stream",
     "text": [
      "{'val_loss': 1.714269914641613, 'val_accuracy': 0.5766590389016019, 'precision': 0.5347168490621419, 'recall': 0.5766590389016019, 'f1-score': 0.547160118328262, 'macro_f1-score': 0.19443138427770135, 'balanced_accuracy': 0.22343433989560513, 'mcc': 0.4396632869612341, 'train_loss': 1.0607252299513033}\n",
      "Epoch 12/20\n"
     ]
    },
    {
     "name": "stderr",
     "output_type": "stream",
     "text": [
      "100%|██████████| 328/328 [00:29<00:00, 10.96it/s]\n"
     ]
    },
    {
     "name": "stdout",
     "output_type": "stream",
     "text": [
      "{'val_loss': 1.6964459628230188, 'val_accuracy': 0.5758962623951183, 'precision': 0.5738671919363152, 'recall': 0.5758962623951183, 'f1-score': 0.5660924966962743, 'macro_f1-score': 0.23054901979076795, 'balanced_accuracy': 0.2513612377981843, 'mcc': 0.4548429238977574, 'train_loss': 0.970925489894864}\n",
      "Epoch 13/20\n"
     ]
    },
    {
     "name": "stderr",
     "output_type": "stream",
     "text": [
      "100%|██████████| 328/328 [00:30<00:00, 10.91it/s]\n"
     ]
    },
    {
     "name": "stdout",
     "output_type": "stream",
     "text": [
      "{'val_loss': 1.7034158910193093, 'val_accuracy': 0.5881006864988558, 'precision': 0.5579788367925436, 'recall': 0.5881006864988558, 'f1-score': 0.5672762271456189, 'macro_f1-score': 0.22739110780679084, 'balanced_accuracy': 0.23886796807031105, 'mcc': 0.45985040187825427, 'train_loss': 0.9206464566835543}\n",
      "Epoch 14/20\n"
     ]
    },
    {
     "name": "stderr",
     "output_type": "stream",
     "text": [
      "100%|██████████| 328/328 [00:29<00:00, 11.00it/s]\n"
     ]
    },
    {
     "name": "stdout",
     "output_type": "stream",
     "text": [
      "{'val_loss': 1.6964801738901836, 'val_accuracy': 0.6071700991609459, 'precision': 0.5741075542562784, 'recall': 0.6071700991609459, 'f1-score': 0.5789022715775645, 'macro_f1-score': 0.24659221996197367, 'balanced_accuracy': 0.25476044693366257, 'mcc': 0.4708652866352917, 'train_loss': 0.8885095099486956}\n",
      "Epoch 15/20\n"
     ]
    },
    {
     "name": "stderr",
     "output_type": "stream",
     "text": [
      "100%|██████████| 328/328 [00:29<00:00, 10.97it/s]\n"
     ]
    },
    {
     "name": "stdout",
     "output_type": "stream",
     "text": [
      "{'val_loss': 1.7563665770902865, 'val_accuracy': 0.5705568268497331, 'precision': 0.5835829933853407, 'recall': 0.5705568268497331, 'f1-score': 0.5673942738012084, 'macro_f1-score': 0.2375266193090241, 'balanced_accuracy': 0.2675575332321484, 'mcc': 0.45562080287109646, 'train_loss': 0.8345718863533764}\n",
      "Epoch 16/20\n"
     ]
    },
    {
     "name": "stderr",
     "output_type": "stream",
     "text": [
      "100%|██████████| 328/328 [00:29<00:00, 11.00it/s]\n"
     ]
    },
    {
     "name": "stdout",
     "output_type": "stream",
     "text": [
      "{'val_loss': 1.7347957811704495, 'val_accuracy': 0.6041189931350115, 'precision': 0.5785711875240549, 'recall': 0.6041189931350115, 'f1-score': 0.5812765414829836, 'macro_f1-score': 0.24626710984730518, 'balanced_accuracy': 0.2503333301272627, 'mcc': 0.46998966991610475, 'train_loss': 0.78553886227764}\n",
      "Epoch 17/20\n"
     ]
    },
    {
     "name": "stderr",
     "output_type": "stream",
     "text": [
      "100%|██████████| 328/328 [00:29<00:00, 10.96it/s]\n"
     ]
    },
    {
     "name": "stdout",
     "output_type": "stream",
     "text": [
      "{'val_loss': 1.7971410736805056, 'val_accuracy': 0.5881006864988558, 'precision': 0.5767080720540048, 'recall': 0.5881006864988558, 'f1-score': 0.5722803655310886, 'macro_f1-score': 0.2563042991581455, 'balanced_accuracy': 0.27946967211817564, 'mcc': 0.4675460157963761, 'train_loss': 0.7342107247833799}\n",
      "Epoch 18/20\n"
     ]
    },
    {
     "name": "stderr",
     "output_type": "stream",
     "text": [
      "100%|██████████| 328/328 [00:29<00:00, 10.97it/s]\n"
     ]
    },
    {
     "name": "stdout",
     "output_type": "stream",
     "text": [
      "{'val_loss': 1.8285010611502135, 'val_accuracy': 0.5911517925247902, 'precision': 0.5637116738503649, 'recall': 0.5911517925247902, 'f1-score': 0.5651208870375143, 'macro_f1-score': 0.221151532312284, 'balanced_accuracy': 0.2319455686173099, 'mcc': 0.4551962012994846, 'train_loss': 0.6744922618495255}\n",
      "Epoch 19/20\n"
     ]
    },
    {
     "name": "stderr",
     "output_type": "stream",
     "text": [
      "100%|██████████| 328/328 [00:29<00:00, 11.01it/s]\n"
     ]
    },
    {
     "name": "stdout",
     "output_type": "stream",
     "text": [
      "{'val_loss': 1.7609404310947512, 'val_accuracy': 0.6071700991609459, 'precision': 0.5769000139512827, 'recall': 0.6071700991609459, 'f1-score': 0.5826809536426922, 'macro_f1-score': 0.2541342135803289, 'balanced_accuracy': 0.26085078616848617, 'mcc': 0.47669857765266654, 'train_loss': 0.7223198979911281}\n",
      "Epoch 20/20\n"
     ]
    },
    {
     "name": "stderr",
     "output_type": "stream",
     "text": [
      "100%|██████████| 328/328 [00:29<00:00, 10.98it/s]\n"
     ]
    },
    {
     "name": "stdout",
     "output_type": "stream",
     "text": [
      "{'val_loss': 1.8226233644456398, 'val_accuracy': 0.6132723112128147, 'precision': 0.5712393882748722, 'recall': 0.6132723112128147, 'f1-score': 0.5843083261574382, 'macro_f1-score': 0.27009155474790586, 'balanced_accuracy': 0.268357469942415, 'mcc': 0.47843285498470245, 'train_loss': 0.619679293776976}\n",
      "\n",
      "[Fold 4]\n",
      "Label distribution after resampling:\n",
      "  label 0: 2471\n",
      "  label 1: 22\n",
      "  label 2: 64\n",
      "  label 3: 24\n",
      "  label 4: 190\n",
      "  label 5: 113\n",
      "  label 6: 93\n",
      "  label 7: 31\n",
      "  label 8: 68\n",
      "  label 9: 29\n",
      "  label 10: 67\n",
      "  label 11: 169\n",
      "  label 12: 190\n",
      "  label 13: 29\n",
      "  label 14: 22\n",
      "  label 15: 25\n",
      "  label 16: 19\n",
      "  label 17: 182\n",
      "  label 18: 92\n",
      "  label 19: 44\n",
      "  label 20: 14\n",
      "  label 21: 35\n",
      "  label 22: 76\n",
      "  label 23: 158\n",
      "  label 24: 13\n",
      "  label 25: 44\n",
      "  label 26: 84\n",
      "  label 27: 48\n",
      "  label 28: 11\n",
      "  label 29: 13\n",
      "  label 30: 11\n",
      "  label 31: 75\n",
      "  label 32: 36\n",
      "  label 33: 31\n",
      "  label 34: 30\n",
      "  label 35: 11\n",
      "  label 36: 22\n",
      "  label 37: 16\n",
      "  label 38: 33\n",
      "  label 39: 10\n",
      "  label 40: 9\n",
      "  label 41: 56\n",
      "  label 42: 18\n",
      "  label 43: 9\n",
      "  label 44: 55\n",
      "  label 45: 241\n",
      "  label 46: 62\n",
      "  label 47: 80\n",
      "model is roberta-base lstm\n"
     ]
    },
    {
     "name": "stderr",
     "output_type": "stream",
     "text": [
      "Some weights of RobertaModel were not initialized from the model checkpoint at roberta-base and are newly initialized: ['pooler.dense.bias', 'pooler.dense.weight']\n",
      "You should probably TRAIN this model on a down-stream task to be able to use it for predictions and inference.\n"
     ]
    },
    {
     "name": "stdout",
     "output_type": "stream",
     "text": [
      "Epoch 1/20\n"
     ]
    },
    {
     "name": "stderr",
     "output_type": "stream",
     "text": [
      "100%|██████████| 328/328 [00:29<00:00, 10.99it/s]\n"
     ]
    },
    {
     "name": "stdout",
     "output_type": "stream",
     "text": [
      "{'val_loss': 2.1173541618556513, 'val_accuracy': 0.5270785659801678, 'precision': 0.3083556304732571, 'recall': 0.5270785659801678, 'f1-score': 0.3886625035886429, 'macro_f1-score': 0.04348180546758268, 'balanced_accuracy': 0.059372963049783144, 'mcc': 0.27447593110789376, 'train_loss': 2.3785175593887886}\n",
      "Epoch 2/20\n"
     ]
    },
    {
     "name": "stderr",
     "output_type": "stream",
     "text": [
      "100%|██████████| 328/328 [00:29<00:00, 11.02it/s]\n"
     ]
    },
    {
     "name": "stdout",
     "output_type": "stream",
     "text": [
      "{'val_loss': 2.0026573924029747, 'val_accuracy': 0.524790236460717, 'precision': 0.3819706709050035, 'recall': 0.524790236460717, 'f1-score': 0.43611406773365674, 'macro_f1-score': 0.054079260837962495, 'balanced_accuracy': 0.08386226632627485, 'mcc': 0.3421700968887189, 'train_loss': 2.0379093407494264}\n",
      "Epoch 3/20\n"
     ]
    },
    {
     "name": "stderr",
     "output_type": "stream",
     "text": [
      "100%|██████████| 328/328 [00:29<00:00, 10.99it/s]\n"
     ]
    },
    {
     "name": "stdout",
     "output_type": "stream",
     "text": [
      "{'val_loss': 1.8534156858194164, 'val_accuracy': 0.5537757437070938, 'precision': 0.3983007335674396, 'recall': 0.5537757437070938, 'f1-score': 0.4560265449859187, 'macro_f1-score': 0.07411953893646152, 'balanced_accuracy': 0.0974037445998912, 'mcc': 0.3668281549426089, 'train_loss': 1.867649410374281}\n",
      "Epoch 4/20\n"
     ]
    },
    {
     "name": "stderr",
     "output_type": "stream",
     "text": [
      "100%|██████████| 328/328 [00:30<00:00, 10.91it/s]\n"
     ]
    },
    {
     "name": "stdout",
     "output_type": "stream",
     "text": [
      "{'val_loss': 1.7402082867011792, 'val_accuracy': 0.5713196033562167, 'precision': 0.38683479267901155, 'recall': 0.5713196033562167, 'f1-score': 0.4552791657980046, 'macro_f1-score': 0.09083154683980545, 'balanced_accuracy': 0.1025703485062297, 'mcc': 0.36811009057463673, 'train_loss': 1.7432047888273146}\n",
      "Epoch 5/20\n"
     ]
    },
    {
     "name": "stderr",
     "output_type": "stream",
     "text": [
      "100%|██████████| 328/328 [00:29<00:00, 10.99it/s]\n"
     ]
    },
    {
     "name": "stdout",
     "output_type": "stream",
     "text": [
      "{'val_loss': 1.7536032661432173, 'val_accuracy': 0.5697940503432495, 'precision': 0.48480488568427466, 'recall': 0.5697940503432495, 'f1-score': 0.499167120657995, 'macro_f1-score': 0.13588316117700475, 'balanced_accuracy': 0.15348824916549073, 'mcc': 0.395212437752204, 'train_loss': 1.6332531555033312}\n",
      "Epoch 6/20\n"
     ]
    },
    {
     "name": "stderr",
     "output_type": "stream",
     "text": [
      "100%|██████████| 328/328 [00:29<00:00, 10.97it/s]\n"
     ]
    },
    {
     "name": "stdout",
     "output_type": "stream",
     "text": [
      "{'val_loss': 1.6730086912469166, 'val_accuracy': 0.5835240274599542, 'precision': 0.4726131921908019, 'recall': 0.5835240274599542, 'f1-score': 0.5054673411561333, 'macro_f1-score': 0.13781708786269717, 'balanced_accuracy': 0.15798478531508808, 'mcc': 0.41810381488560244, 'train_loss': 1.5058725256381966}\n",
      "Epoch 7/20\n"
     ]
    },
    {
     "name": "stderr",
     "output_type": "stream",
     "text": [
      "100%|██████████| 328/328 [00:29<00:00, 11.01it/s]\n"
     ]
    },
    {
     "name": "stdout",
     "output_type": "stream",
     "text": [
      "{'val_loss': 1.7100831044883262, 'val_accuracy': 0.5690312738367659, 'precision': 0.4847527205924218, 'recall': 0.5690312738367659, 'f1-score': 0.5021609347953515, 'macro_f1-score': 0.13400508523109111, 'balanced_accuracy': 0.15992931586124046, 'mcc': 0.41121560444565025, 'train_loss': 1.4702965884764747}\n",
      "Epoch 8/20\n"
     ]
    },
    {
     "name": "stderr",
     "output_type": "stream",
     "text": [
      "100%|██████████| 328/328 [00:29<00:00, 10.95it/s]\n"
     ]
    },
    {
     "name": "stdout",
     "output_type": "stream",
     "text": [
      "{'val_loss': 1.597472336961002, 'val_accuracy': 0.5980167810831426, 'precision': 0.5213447336863313, 'recall': 0.5980167810831426, 'f1-score': 0.5508854823750516, 'macro_f1-score': 0.19691698160272467, 'balanced_accuracy': 0.2193661473926142, 'mcc': 0.46037146128674844, 'train_loss': 1.3926889572019985}\n",
      "Epoch 9/20\n"
     ]
    },
    {
     "name": "stderr",
     "output_type": "stream",
     "text": [
      "100%|██████████| 328/328 [00:29<00:00, 10.97it/s]\n"
     ]
    },
    {
     "name": "stdout",
     "output_type": "stream",
     "text": [
      "{'val_loss': 1.6336461908933593, 'val_accuracy': 0.5827612509534706, 'precision': 0.5270418893756987, 'recall': 0.5827612509534706, 'f1-score': 0.5442758319299321, 'macro_f1-score': 0.20961789625643626, 'balanced_accuracy': 0.22690536527753633, 'mcc': 0.4493029430525432, 'train_loss': 1.276870500750658}\n",
      "Epoch 10/20\n"
     ]
    },
    {
     "name": "stderr",
     "output_type": "stream",
     "text": [
      "100%|██████████| 328/328 [00:29<00:00, 11.01it/s]\n"
     ]
    },
    {
     "name": "stdout",
     "output_type": "stream",
     "text": [
      "{'val_loss': 1.6733185432669593, 'val_accuracy': 0.5697940503432495, 'precision': 0.5505997767463259, 'recall': 0.5697940503432495, 'f1-score': 0.5438395905766357, 'macro_f1-score': 0.2147560124231528, 'balanced_accuracy': 0.2389737402352827, 'mcc': 0.4515125569408168, 'train_loss': 1.1749591003285675}\n",
      "Epoch 11/20\n"
     ]
    },
    {
     "name": "stderr",
     "output_type": "stream",
     "text": [
      "100%|██████████| 328/328 [00:29<00:00, 10.98it/s]\n"
     ]
    },
    {
     "name": "stdout",
     "output_type": "stream",
     "text": [
      "{'val_loss': 1.7689310463099945, 'val_accuracy': 0.589626239511823, 'precision': 0.5262601186087368, 'recall': 0.589626239511823, 'f1-score': 0.5442815288873276, 'macro_f1-score': 0.19522601471768766, 'balanced_accuracy': 0.20666359668118958, 'mcc': 0.4391098542225885, 'train_loss': 1.158816464699623}\n",
      "Epoch 12/20\n"
     ]
    },
    {
     "name": "stderr",
     "output_type": "stream",
     "text": [
      "100%|██████████| 328/328 [00:29<00:00, 10.98it/s]\n"
     ]
    },
    {
     "name": "stdout",
     "output_type": "stream",
     "text": [
      "{'val_loss': 1.6417512368501685, 'val_accuracy': 0.6163234172387491, 'precision': 0.5676446653888807, 'recall': 0.6163234172387491, 'f1-score': 0.5787176937170535, 'macro_f1-score': 0.24652072713177545, 'balanced_accuracy': 0.2551478549922709, 'mcc': 0.48295105074577743, 'train_loss': 1.1213040505876628}\n",
      "Epoch 13/20\n"
     ]
    },
    {
     "name": "stderr",
     "output_type": "stream",
     "text": [
      "100%|██████████| 328/328 [00:29<00:00, 11.03it/s]\n"
     ]
    },
    {
     "name": "stdout",
     "output_type": "stream",
     "text": [
      "{'val_loss': 1.6904055650641279, 'val_accuracy': 0.6079328756674295, 'precision': 0.5564703170137504, 'recall': 0.6079328756674295, 'f1-score': 0.5678641723749424, 'macro_f1-score': 0.22704751703766815, 'balanced_accuracy': 0.22514225523998452, 'mcc': 0.4660802764557159, 'train_loss': 0.9891694316685926}\n",
      "Epoch 14/20\n"
     ]
    },
    {
     "name": "stderr",
     "output_type": "stream",
     "text": [
      "100%|██████████| 328/328 [00:29<00:00, 10.99it/s]\n"
     ]
    },
    {
     "name": "stdout",
     "output_type": "stream",
     "text": [
      "{'val_loss': 1.6160623999993975, 'val_accuracy': 0.6056445461479787, 'precision': 0.554406126501441, 'recall': 0.6056445461479787, 'f1-score': 0.570175214099952, 'macro_f1-score': 0.2277488236346212, 'balanced_accuracy': 0.24378969714805243, 'mcc': 0.4712032000929399, 'train_loss': 0.9416824542894596}\n",
      "Epoch 15/20\n"
     ]
    },
    {
     "name": "stderr",
     "output_type": "stream",
     "text": [
      "100%|██████████| 328/328 [00:29<00:00, 10.94it/s]\n"
     ]
    },
    {
     "name": "stdout",
     "output_type": "stream",
     "text": [
      "{'val_loss': 1.5772056948484443, 'val_accuracy': 0.601067887109077, 'precision': 0.5815866910045614, 'recall': 0.601067887109077, 'f1-score': 0.5857494290675079, 'macro_f1-score': 0.26056347315602973, 'balanced_accuracy': 0.28106761682693143, 'mcc': 0.48204235296986103, 'train_loss': 0.9211403716628145}\n",
      "Epoch 16/20\n"
     ]
    },
    {
     "name": "stderr",
     "output_type": "stream",
     "text": [
      "100%|██████████| 328/328 [00:29<00:00, 11.03it/s]\n"
     ]
    },
    {
     "name": "stdout",
     "output_type": "stream",
     "text": [
      "{'val_loss': 1.6282221549531308, 'val_accuracy': 0.6247139588100686, 'precision': 0.5896741736775629, 'recall': 0.6247139588100686, 'f1-score': 0.5973621396345135, 'macro_f1-score': 0.2633660682798274, 'balanced_accuracy': 0.2723945493458885, 'mcc': 0.49821747374113967, 'train_loss': 0.8349451983756409}\n",
      "Epoch 17/20\n"
     ]
    },
    {
     "name": "stderr",
     "output_type": "stream",
     "text": [
      "100%|██████████| 328/328 [00:29<00:00, 10.97it/s]\n"
     ]
    },
    {
     "name": "stdout",
     "output_type": "stream",
     "text": [
      "{'val_loss': 1.633837672268472, 'val_accuracy': 0.6224256292906178, 'precision': 0.585259272126514, 'recall': 0.6224256292906178, 'f1-score': 0.5949778426001429, 'macro_f1-score': 0.2796020155100487, 'balanced_accuracy': 0.28831946228891403, 'mcc': 0.4963854795876742, 'train_loss': 0.8477738552340647}\n",
      "Epoch 18/20\n"
     ]
    },
    {
     "name": "stderr",
     "output_type": "stream",
     "text": [
      "100%|██████████| 328/328 [00:29<00:00, 10.98it/s]\n"
     ]
    },
    {
     "name": "stdout",
     "output_type": "stream",
     "text": [
      "{'val_loss': 1.6227244151438154, 'val_accuracy': 0.6117467581998475, 'precision': 0.6042956086559907, 'recall': 0.6117467581998475, 'f1-score': 0.599217444982505, 'macro_f1-score': 0.2808783510848368, 'balanced_accuracy': 0.30470256459953987, 'mcc': 0.4967891380287568, 'train_loss': 0.7824837900243882}\n",
      "Epoch 19/20\n"
     ]
    },
    {
     "name": "stderr",
     "output_type": "stream",
     "text": [
      "100%|██████████| 328/328 [00:29<00:00, 10.96it/s]\n"
     ]
    },
    {
     "name": "stdout",
     "output_type": "stream",
     "text": [
      "{'val_loss': 1.7212998805703914, 'val_accuracy': 0.5957284515636918, 'precision': 0.5984735429257632, 'recall': 0.5957284515636918, 'f1-score': 0.589175819852416, 'macro_f1-score': 0.281644765749228, 'balanced_accuracy': 0.29337872909392565, 'mcc': 0.4842356176390518, 'train_loss': 0.7691937921250739}\n",
      "Epoch 20/20\n"
     ]
    },
    {
     "name": "stderr",
     "output_type": "stream",
     "text": [
      "100%|██████████| 328/328 [00:29<00:00, 10.97it/s]\n"
     ]
    },
    {
     "name": "stdout",
     "output_type": "stream",
     "text": [
      "{'val_loss': 1.6372070885831262, 'val_accuracy': 0.6018306636155606, 'precision': 0.6096510562464027, 'recall': 0.6018306636155606, 'f1-score': 0.5964870476080515, 'macro_f1-score': 0.30010374728636335, 'balanced_accuracy': 0.3305545822369944, 'mcc': 0.4945862109051606, 'train_loss': 0.7184051190071353}\n",
      "\n",
      "[Fold 5]\n",
      "Label distribution after resampling:\n",
      "  label 0: 2472\n",
      "  label 1: 21\n",
      "  label 2: 64\n",
      "  label 3: 24\n",
      "  label 4: 191\n",
      "  label 5: 112\n",
      "  label 6: 92\n",
      "  label 7: 31\n",
      "  label 8: 68\n",
      "  label 9: 29\n",
      "  label 10: 68\n",
      "  label 11: 168\n",
      "  label 12: 190\n",
      "  label 13: 29\n",
      "  label 14: 22\n",
      "  label 15: 25\n",
      "  label 16: 19\n",
      "  label 17: 183\n",
      "  label 18: 92\n",
      "  label 19: 44\n",
      "  label 20: 14\n",
      "  label 21: 35\n",
      "  label 22: 76\n",
      "  label 23: 158\n",
      "  label 24: 13\n",
      "  label 25: 44\n",
      "  label 26: 84\n",
      "  label 27: 48\n",
      "  label 28: 11\n",
      "  label 29: 13\n",
      "  label 30: 11\n",
      "  label 31: 75\n",
      "  label 32: 36\n",
      "  label 33: 31\n",
      "  label 34: 30\n",
      "  label 35: 11\n",
      "  label 36: 22\n",
      "  label 37: 16\n",
      "  label 38: 33\n",
      "  label 39: 10\n",
      "  label 40: 9\n",
      "  label 41: 57\n",
      "  label 42: 18\n",
      "  label 43: 9\n",
      "  label 44: 54\n",
      "  label 45: 242\n",
      "  label 46: 61\n",
      "  label 47: 80\n",
      "model is roberta-base lstm\n"
     ]
    },
    {
     "name": "stderr",
     "output_type": "stream",
     "text": [
      "Some weights of RobertaModel were not initialized from the model checkpoint at roberta-base and are newly initialized: ['pooler.dense.bias', 'pooler.dense.weight']\n",
      "You should probably TRAIN this model on a down-stream task to be able to use it for predictions and inference.\n"
     ]
    },
    {
     "name": "stdout",
     "output_type": "stream",
     "text": [
      "Epoch 1/20\n"
     ]
    },
    {
     "name": "stderr",
     "output_type": "stream",
     "text": [
      "100%|██████████| 328/328 [00:29<00:00, 11.03it/s]\n"
     ]
    },
    {
     "name": "stdout",
     "output_type": "stream",
     "text": [
      "{'val_loss': 2.0807475098749486, 'val_accuracy': 0.5163996948893974, 'precision': 0.2931961839553491, 'recall': 0.5163996948893974, 'f1-score': 0.3722813323098939, 'macro_f1-score': 0.03507182092980288, 'balanced_accuracy': 0.05672234227744762, 'mcc': 0.26228454201079116, 'train_loss': 2.4291737857388287}\n",
      "Epoch 2/20\n"
     ]
    },
    {
     "name": "stderr",
     "output_type": "stream",
     "text": [
      "100%|██████████| 328/328 [00:29<00:00, 10.99it/s]\n"
     ]
    },
    {
     "name": "stdout",
     "output_type": "stream",
     "text": [
      "{'val_loss': 1.9063871495607423, 'val_accuracy': 0.5484363081617086, 'precision': 0.37473681675087095, 'recall': 0.5484363081617086, 'f1-score': 0.4364749280980904, 'macro_f1-score': 0.06798639029333031, 'balanced_accuracy': 0.09163977437284528, 'mcc': 0.3471685143720866, 'train_loss': 2.0576485079236146}\n",
      "Epoch 3/20\n"
     ]
    },
    {
     "name": "stderr",
     "output_type": "stream",
     "text": [
      "100%|██████████| 328/328 [00:29<00:00, 11.00it/s]\n"
     ]
    },
    {
     "name": "stdout",
     "output_type": "stream",
     "text": [
      "{'val_loss': 1.797477357271241, 'val_accuracy': 0.5804729214340199, 'precision': 0.38949963980450275, 'recall': 0.5804729214340199, 'f1-score': 0.46387454084791063, 'macro_f1-score': 0.0806792684133504, 'balanced_accuracy': 0.10370890596441999, 'mcc': 0.3924820453138455, 'train_loss': 1.857295028320173}\n",
      "Epoch 4/20\n"
     ]
    },
    {
     "name": "stderr",
     "output_type": "stream",
     "text": [
      "100%|██████████| 328/328 [00:29<00:00, 11.04it/s]\n"
     ]
    },
    {
     "name": "stdout",
     "output_type": "stream",
     "text": [
      "{'val_loss': 1.7174967759993018, 'val_accuracy': 0.5659801678108314, 'precision': 0.4507292046978547, 'recall': 0.5659801678108314, 'f1-score': 0.4945410441841786, 'macro_f1-score': 0.09880571598643939, 'balanced_accuracy': 0.12575269478728973, 'mcc': 0.40722749909978934, 'train_loss': 1.7336402900698709}\n",
      "Epoch 5/20\n"
     ]
    },
    {
     "name": "stderr",
     "output_type": "stream",
     "text": [
      "100%|██████████| 328/328 [00:29<00:00, 11.01it/s]\n"
     ]
    },
    {
     "name": "stdout",
     "output_type": "stream",
     "text": [
      "{'val_loss': 1.6720499301828988, 'val_accuracy': 0.5781845919145691, 'precision': 0.46397484559094904, 'recall': 0.5781845919145691, 'f1-score': 0.5000616234327303, 'macro_f1-score': 0.1227497694276573, 'balanced_accuracy': 0.13987971209190456, 'mcc': 0.4142376843398855, 'train_loss': 1.581007804994176}\n",
      "Epoch 6/20\n"
     ]
    },
    {
     "name": "stderr",
     "output_type": "stream",
     "text": [
      "100%|██████████| 328/328 [00:29<00:00, 10.95it/s]\n"
     ]
    },
    {
     "name": "stdout",
     "output_type": "stream",
     "text": [
      "{'val_loss': 1.6739099076608333, 'val_accuracy': 0.5995423340961098, 'precision': 0.5210142856470258, 'recall': 0.5995423340961098, 'f1-score': 0.5397344795051138, 'macro_f1-score': 0.15818176782699578, 'balanced_accuracy': 0.17620075047450054, 'mcc': 0.4515138125457638, 'train_loss': 1.4769976862320087}\n",
      "Epoch 7/20\n"
     ]
    },
    {
     "name": "stderr",
     "output_type": "stream",
     "text": [
      "100%|██████████| 328/328 [00:29<00:00, 11.03it/s]\n"
     ]
    },
    {
     "name": "stdout",
     "output_type": "stream",
     "text": [
      "{'val_loss': 1.6250417007178795, 'val_accuracy': 0.6125095347063311, 'precision': 0.5423015182382787, 'recall': 0.6125095347063311, 'f1-score': 0.566506457995423, 'macro_f1-score': 0.19386584223806344, 'balanced_accuracy': 0.20882314351302525, 'mcc': 0.4780562511143301, 'train_loss': 1.3748614085701907}\n",
      "Epoch 8/20\n"
     ]
    },
    {
     "name": "stderr",
     "output_type": "stream",
     "text": [
      "100%|██████████| 328/328 [00:29<00:00, 10.95it/s]\n"
     ]
    },
    {
     "name": "stdout",
     "output_type": "stream",
     "text": [
      "{'val_loss': 1.634911068328997, 'val_accuracy': 0.5850495804729214, 'precision': 0.5448495510871344, 'recall': 0.5850495804729214, 'f1-score': 0.555384927637209, 'macro_f1-score': 0.21074242799035492, 'balanced_accuracy': 0.22649258878860778, 'mcc': 0.45491393670147795, 'train_loss': 1.2675818718242935}\n",
      "Epoch 9/20\n"
     ]
    },
    {
     "name": "stderr",
     "output_type": "stream",
     "text": [
      "100%|██████████| 328/328 [00:29<00:00, 11.00it/s]\n"
     ]
    },
    {
     "name": "stdout",
     "output_type": "stream",
     "text": [
      "{'val_loss': 1.63715048388737, 'val_accuracy': 0.6064073226544623, 'precision': 0.5526441334639632, 'recall': 0.6064073226544623, 'f1-score': 0.5668475040245051, 'macro_f1-score': 0.2053829479516419, 'balanced_accuracy': 0.2175203710652227, 'mcc': 0.4759452592349495, 'train_loss': 1.1651929089027206}\n",
      "Epoch 10/20\n"
     ]
    },
    {
     "name": "stderr",
     "output_type": "stream",
     "text": [
      "100%|██████████| 328/328 [00:29<00:00, 10.96it/s]\n"
     ]
    },
    {
     "name": "stdout",
     "output_type": "stream",
     "text": [
      "{'val_loss': 1.5580358839616544, 'val_accuracy': 0.6209000762776506, 'precision': 0.588318092723119, 'recall': 0.6209000762776506, 'f1-score': 0.5914931697797515, 'macro_f1-score': 0.24188511694272674, 'balanced_accuracy': 0.25483658130341796, 'mcc': 0.4968875301032397, 'train_loss': 1.0687383154816017}\n",
      "Epoch 11/20\n"
     ]
    },
    {
     "name": "stderr",
     "output_type": "stream",
     "text": [
      "100%|██████████| 328/328 [00:29<00:00, 10.99it/s]\n"
     ]
    },
    {
     "name": "stdout",
     "output_type": "stream",
     "text": [
      "{'val_loss': 1.5481388547071597, 'val_accuracy': 0.6254767353165522, 'precision': 0.5983044780081463, 'recall': 0.6254767353165522, 'f1-score': 0.5970837057009456, 'macro_f1-score': 0.2535617616790344, 'balanced_accuracy': 0.2647838180254298, 'mcc': 0.5088277139512376, 'train_loss': 1.0022143195496827}\n",
      "Epoch 12/20\n"
     ]
    },
    {
     "name": "stderr",
     "output_type": "stream",
     "text": [
      "100%|██████████| 328/328 [00:29<00:00, 11.02it/s]\n"
     ]
    },
    {
     "name": "stdout",
     "output_type": "stream",
     "text": [
      "{'val_loss': 1.5523843721645634, 'val_accuracy': 0.6285278413424866, 'precision': 0.6028274187962506, 'recall': 0.6285278413424866, 'f1-score': 0.6009668000213964, 'macro_f1-score': 0.2714105572621577, 'balanced_accuracy': 0.26809146567195546, 'mcc': 0.499160631245096, 'train_loss': 0.8940272191312255}\n",
      "Epoch 13/20\n"
     ]
    },
    {
     "name": "stderr",
     "output_type": "stream",
     "text": [
      "100%|██████████| 328/328 [00:29<00:00, 11.00it/s]\n"
     ]
    },
    {
     "name": "stdout",
     "output_type": "stream",
     "text": [
      "{'val_loss': 1.6410120885546615, 'val_accuracy': 0.5888634630053394, 'precision': 0.6126252950144434, 'recall': 0.5888634630053394, 'f1-score': 0.5889869658461256, 'macro_f1-score': 0.28811306656721375, 'balanced_accuracy': 0.31693079174908984, 'mcc': 0.4874417134185633, 'train_loss': 0.8357997168673248}\n",
      "Epoch 14/20\n"
     ]
    },
    {
     "name": "stderr",
     "output_type": "stream",
     "text": [
      "100%|██████████| 328/328 [00:29<00:00, 10.99it/s]\n"
     ]
    },
    {
     "name": "stdout",
     "output_type": "stream",
     "text": [
      "{'val_loss': 1.5575575526894592, 'val_accuracy': 0.6247139588100686, 'precision': 0.6158246213814416, 'recall': 0.6247139588100686, 'f1-score': 0.6107718339511672, 'macro_f1-score': 0.3082578338068618, 'balanced_accuracy': 0.3116501058009757, 'mcc': 0.5142045979638383, 'train_loss': 0.8112519758685333}\n",
      "Epoch 15/20\n"
     ]
    },
    {
     "name": "stderr",
     "output_type": "stream",
     "text": [
      "100%|██████████| 328/328 [00:29<00:00, 11.03it/s]\n"
     ]
    },
    {
     "name": "stdout",
     "output_type": "stream",
     "text": [
      "{'val_loss': 1.6639056918097705, 'val_accuracy': 0.6216628527841342, 'precision': 0.6186474731799994, 'recall': 0.6216628527841342, 'f1-score': 0.6101651095856061, 'macro_f1-score': 0.29805537652448216, 'balanced_accuracy': 0.31870138781699603, 'mcc': 0.5114264550531228, 'train_loss': 0.7192571714929328}\n",
      "Epoch 16/20\n"
     ]
    },
    {
     "name": "stderr",
     "output_type": "stream",
     "text": [
      "100%|██████████| 328/328 [00:29<00:00, 10.96it/s]\n"
     ]
    },
    {
     "name": "stdout",
     "output_type": "stream",
     "text": [
      "{'val_loss': 1.6819614535424767, 'val_accuracy': 0.623951182303585, 'precision': 0.6149107615095603, 'recall': 0.623951182303585, 'f1-score': 0.6066244660734124, 'macro_f1-score': 0.2885909869251984, 'balanced_accuracy': 0.29102433725923355, 'mcc': 0.5051987767333729, 'train_loss': 0.6820658614813555}\n",
      "Epoch 17/20\n"
     ]
    },
    {
     "name": "stderr",
     "output_type": "stream",
     "text": [
      "100%|██████████| 328/328 [00:29<00:00, 10.94it/s]\n"
     ]
    },
    {
     "name": "stdout",
     "output_type": "stream",
     "text": [
      "{'val_loss': 1.6346018212597544, 'val_accuracy': 0.631578947368421, 'precision': 0.621543596465653, 'recall': 0.631578947368421, 'f1-score': 0.6161508634693723, 'macro_f1-score': 0.31827423295653906, 'balanced_accuracy': 0.3303688202877522, 'mcc': 0.5214628872770957, 'train_loss': 0.6735504773195561}\n",
      "Epoch 18/20\n"
     ]
    },
    {
     "name": "stderr",
     "output_type": "stream",
     "text": [
      "100%|██████████| 328/328 [00:29<00:00, 11.04it/s]\n"
     ]
    },
    {
     "name": "stdout",
     "output_type": "stream",
     "text": [
      "{'val_loss': 1.7545139411600625, 'val_accuracy': 0.6064073226544623, 'precision': 0.6200704427525157, 'recall': 0.6064073226544623, 'f1-score': 0.6033289886714013, 'macro_f1-score': 0.3221904170394238, 'balanced_accuracy': 0.35088721638957227, 'mcc': 0.5022029749068758, 'train_loss': 0.6406639476488458}\n",
      "Epoch 19/20\n"
     ]
    },
    {
     "name": "stderr",
     "output_type": "stream",
     "text": [
      "100%|██████████| 328/328 [00:29<00:00, 10.97it/s]\n"
     ]
    },
    {
     "name": "stdout",
     "output_type": "stream",
     "text": [
      "{'val_loss': 1.625926558200906, 'val_accuracy': 0.6247139588100686, 'precision': 0.6141547544898729, 'recall': 0.6247139588100686, 'f1-score': 0.6136229952125816, 'macro_f1-score': 0.3153970771655177, 'balanced_accuracy': 0.32735271901780066, 'mcc': 0.5069835960356973, 'train_loss': 0.6423789957401956}\n",
      "Epoch 20/20\n"
     ]
    },
    {
     "name": "stderr",
     "output_type": "stream",
     "text": [
      "100%|██████████| 328/328 [00:29<00:00, 11.04it/s]\n"
     ]
    },
    {
     "name": "stdout",
     "output_type": "stream",
     "text": [
      "{'val_loss': 1.7066662082584894, 'val_accuracy': 0.6346300533943554, 'precision': 0.6021331178635045, 'recall': 0.6346300533943554, 'f1-score': 0.6072369453373946, 'macro_f1-score': 0.2962285957204443, 'balanced_accuracy': 0.2889466783080677, 'mcc': 0.5105558386497717, 'train_loss': 0.5083533379294705}\n",
      "\n",
      " === roberta-base + lstm + none Final 5-fold Cross-Validation Results ===\n",
      "val_loss: 1.7504\n",
      "val_accuracy: 0.6056\n",
      "precision: 0.5925\n",
      "recall: 0.6056\n",
      "f1-score: 0.5901\n",
      "macro_f1-score: 0.2815\n",
      "balanced_accuracy: 0.3032\n",
      "mcc: 0.4849\n",
      "train_loss: 0.7306\n",
      "total_seconds: 3195.0000\n",
      "total_time: 0 hrs 53 mins 15 secs\n",
      "▶ Running: roberta-base + bilstm + none\n",
      "tokenizer is roberta-base\n",
      "Using device: cuda\n",
      "CUDA Available: True\n",
      "CUDA Device: NVIDIA GeForce RTX 5070 Ti\n",
      "Current GPU Memory Allocated: 0.02 GB\n",
      "Current GPU Memory Cached: 3.82 GB\n",
      "\n",
      "[Fold 1]\n",
      "Label distribution after resampling:\n",
      "  label 0: 2471\n",
      "  label 1: 21\n",
      "  label 2: 64\n",
      "  label 3: 24\n",
      "  label 4: 191\n",
      "  label 5: 113\n",
      "  label 6: 93\n",
      "  label 7: 30\n",
      "  label 8: 68\n",
      "  label 9: 30\n",
      "  label 10: 67\n",
      "  label 11: 169\n",
      "  label 12: 189\n",
      "  label 13: 29\n",
      "  label 14: 22\n",
      "  label 15: 25\n",
      "  label 16: 19\n",
      "  label 17: 183\n",
      "  label 18: 92\n",
      "  label 19: 44\n",
      "  label 20: 13\n",
      "  label 21: 35\n",
      "  label 22: 76\n",
      "  label 23: 158\n",
      "  label 24: 13\n",
      "  label 25: 44\n",
      "  label 26: 84\n",
      "  label 27: 48\n",
      "  label 28: 11\n",
      "  label 29: 13\n",
      "  label 30: 11\n",
      "  label 31: 75\n",
      "  label 32: 36\n",
      "  label 33: 32\n",
      "  label 34: 29\n",
      "  label 35: 11\n",
      "  label 36: 22\n",
      "  label 37: 16\n",
      "  label 38: 33\n",
      "  label 39: 10\n",
      "  label 40: 9\n",
      "  label 41: 57\n",
      "  label 42: 19\n",
      "  label 43: 8\n",
      "  label 44: 54\n",
      "  label 45: 242\n",
      "  label 46: 61\n",
      "  label 47: 80\n",
      "model is roberta-base bilstm\n"
     ]
    },
    {
     "name": "stderr",
     "output_type": "stream",
     "text": [
      "Some weights of RobertaModel were not initialized from the model checkpoint at roberta-base and are newly initialized: ['pooler.dense.bias', 'pooler.dense.weight']\n",
      "You should probably TRAIN this model on a down-stream task to be able to use it for predictions and inference.\n"
     ]
    },
    {
     "name": "stdout",
     "output_type": "stream",
     "text": [
      "Epoch 1/20\n"
     ]
    },
    {
     "name": "stderr",
     "output_type": "stream",
     "text": [
      "100%|██████████| 328/328 [00:30<00:00, 10.59it/s]\n"
     ]
    },
    {
     "name": "stdout",
     "output_type": "stream",
     "text": [
      "{'val_loss': 2.1527541694117756, 'val_accuracy': 0.5289634146341463, 'precision': 0.30795543225082606, 'recall': 0.5289634146341463, 'f1-score': 0.3832948112830302, 'macro_f1-score': 0.0463060886371001, 'balanced_accuracy': 0.056836952114270846, 'mcc': 0.26769591296954715, 'train_loss': 2.3747377190284613}\n",
      "Epoch 2/20\n"
     ]
    },
    {
     "name": "stderr",
     "output_type": "stream",
     "text": [
      "100%|██████████| 328/328 [00:30<00:00, 10.62it/s]\n"
     ]
    },
    {
     "name": "stdout",
     "output_type": "stream",
     "text": [
      "{'val_loss': 2.01469408629871, 'val_accuracy': 0.5434451219512195, 'precision': 0.33775903644054645, 'recall': 0.5434451219512195, 'f1-score': 0.4133725150944739, 'macro_f1-score': 0.05558839777954086, 'balanced_accuracy': 0.07604098698397398, 'mcc': 0.3162160677645946, 'train_loss': 2.0031650109988886}\n",
      "Epoch 3/20\n"
     ]
    },
    {
     "name": "stderr",
     "output_type": "stream",
     "text": [
      "100%|██████████| 328/328 [00:30<00:00, 10.65it/s]\n"
     ]
    },
    {
     "name": "stdout",
     "output_type": "stream",
     "text": [
      "{'val_loss': 1.8023411508013563, 'val_accuracy': 0.5716463414634146, 'precision': 0.4326487329770713, 'recall': 0.5716463414634146, 'f1-score': 0.4707794457768015, 'macro_f1-score': 0.0798298556410819, 'balanced_accuracy': 0.10087358792833513, 'mcc': 0.38391522687814816, 'train_loss': 1.806178620675715}\n",
      "Epoch 4/20\n"
     ]
    },
    {
     "name": "stderr",
     "output_type": "stream",
     "text": [
      "100%|██████████| 328/328 [00:31<00:00, 10.51it/s]\n"
     ]
    },
    {
     "name": "stdout",
     "output_type": "stream",
     "text": [
      "{'val_loss': 2.4747960901841886, 'val_accuracy': 0.5022865853658537, 'precision': 0.265274396636816, 'recall': 0.5022865853658537, 'f1-score': 0.343168923649892, 'macro_f1-score': 0.02868301687041676, 'balanced_accuracy': 0.035382955771305284, 'mcc': 0.19697745014365678, 'train_loss': 1.7033379437719904}\n",
      "Epoch 5/20\n"
     ]
    },
    {
     "name": "stderr",
     "output_type": "stream",
     "text": [
      "100%|██████████| 328/328 [00:30<00:00, 10.61it/s]\n"
     ]
    },
    {
     "name": "stdout",
     "output_type": "stream",
     "text": [
      "{'val_loss': 2.389846272584869, 'val_accuracy': 0.47027439024390244, 'precision': 0.24501044489611562, 'recall': 0.47027439024390244, 'f1-score': 0.3058091214924689, 'macro_f1-score': 0.01628308951584814, 'balanced_accuracy': 0.022620612767760825, 'mcc': 0.03441850834929991, 'train_loss': 2.4847121091514097}\n",
      "Epoch 6/20\n"
     ]
    },
    {
     "name": "stderr",
     "output_type": "stream",
     "text": [
      "100%|██████████| 328/328 [00:30<00:00, 10.62it/s]\n"
     ]
    },
    {
     "name": "stdout",
     "output_type": "stream",
     "text": [
      "{'val_loss': 1.7694500637490576, 'val_accuracy': 0.5739329268292683, 'precision': 0.4461280704148819, 'recall': 0.5739329268292683, 'f1-score': 0.4978529790845123, 'macro_f1-score': 0.11274098653999982, 'balanced_accuracy': 0.13175420151799463, 'mcc': 0.40326060392364416, 'train_loss': 1.747074374520197}\n",
      "Epoch 7/20\n"
     ]
    },
    {
     "name": "stderr",
     "output_type": "stream",
     "text": [
      "100%|██████████| 328/328 [00:31<00:00, 10.58it/s]\n"
     ]
    },
    {
     "name": "stdout",
     "output_type": "stream",
     "text": [
      "{'val_loss': 1.739534710783784, 'val_accuracy': 0.5564024390243902, 'precision': 0.5164039086390688, 'recall': 0.5564024390243902, 'f1-score': 0.5223158311071965, 'macro_f1-score': 0.1437637025079027, 'balanced_accuracy': 0.1647481941544479, 'mcc': 0.4074219708290988, 'train_loss': 1.4596341812937725}\n",
      "Epoch 8/20\n"
     ]
    },
    {
     "name": "stderr",
     "output_type": "stream",
     "text": [
      "100%|██████████| 328/328 [00:31<00:00, 10.45it/s]\n"
     ]
    },
    {
     "name": "stdout",
     "output_type": "stream",
     "text": [
      "{'val_loss': 1.72103539963321, 'val_accuracy': 0.551829268292683, 'precision': 0.5160281646069681, 'recall': 0.551829268292683, 'f1-score': 0.5190633104647103, 'macro_f1-score': 0.1568315284985889, 'balanced_accuracy': 0.19073000680038046, 'mcc': 0.41393498020950764, 'train_loss': 1.3044501953735583}\n",
      "Epoch 9/20\n"
     ]
    },
    {
     "name": "stderr",
     "output_type": "stream",
     "text": [
      "100%|██████████| 328/328 [00:30<00:00, 10.59it/s]\n"
     ]
    },
    {
     "name": "stdout",
     "output_type": "stream",
     "text": [
      "{'val_loss': 1.7785447723254926, 'val_accuracy': 0.5564024390243902, 'precision': 0.5392955227193882, 'recall': 0.5564024390243902, 'f1-score': 0.5317186820302566, 'macro_f1-score': 0.172708189517372, 'balanced_accuracy': 0.20305000795415706, 'mcc': 0.41996483518215294, 'train_loss': 1.181104459777111}\n",
      "Epoch 10/20\n"
     ]
    },
    {
     "name": "stderr",
     "output_type": "stream",
     "text": [
      "100%|██████████| 328/328 [00:31<00:00, 10.56it/s]\n"
     ]
    },
    {
     "name": "stdout",
     "output_type": "stream",
     "text": [
      "{'val_loss': 1.8005282199237405, 'val_accuracy': 0.5853658536585366, 'precision': 0.5321577588287105, 'recall': 0.5853658536585366, 'f1-score': 0.5363447837750024, 'macro_f1-score': 0.19689224708297695, 'balanced_accuracy': 0.1922893332462551, 'mcc': 0.4259107543348134, 'train_loss': 1.062483394563925}\n",
      "Epoch 11/20\n"
     ]
    },
    {
     "name": "stderr",
     "output_type": "stream",
     "text": [
      "100%|██████████| 328/328 [00:31<00:00, 10.56it/s]\n"
     ]
    },
    {
     "name": "stdout",
     "output_type": "stream",
     "text": [
      "{'val_loss': 1.679742544526007, 'val_accuracy': 0.5838414634146342, 'precision': 0.5689369593796803, 'recall': 0.5838414634146342, 'f1-score': 0.5686730141057311, 'macro_f1-score': 0.2353611140583726, 'balanced_accuracy': 0.2563793256224481, 'mcc': 0.46004408998497254, 'train_loss': 1.000819986004655}\n",
      "Epoch 12/20\n"
     ]
    },
    {
     "name": "stderr",
     "output_type": "stream",
     "text": [
      "100%|██████████| 328/328 [00:31<00:00, 10.52it/s]\n"
     ]
    },
    {
     "name": "stdout",
     "output_type": "stream",
     "text": [
      "{'val_loss': 1.7051424747560082, 'val_accuracy': 0.600609756097561, 'precision': 0.5695914488057153, 'recall': 0.600609756097561, 'f1-score': 0.573065269296635, 'macro_f1-score': 0.2568878019485238, 'balanced_accuracy': 0.25112112285385874, 'mcc': 0.46175439051296246, 'train_loss': 0.865522804193017}\n",
      "Epoch 13/20\n"
     ]
    },
    {
     "name": "stderr",
     "output_type": "stream",
     "text": [
      "100%|██████████| 328/328 [00:30<00:00, 10.62it/s]\n"
     ]
    },
    {
     "name": "stdout",
     "output_type": "stream",
     "text": [
      "{'val_loss': 1.7237541584706888, 'val_accuracy': 0.5960365853658537, 'precision': 0.5853795058373833, 'recall': 0.5960365853658537, 'f1-score': 0.5752301358303566, 'macro_f1-score': 0.267080413285219, 'balanced_accuracy': 0.27862328971652045, 'mcc': 0.4626231531247039, 'train_loss': 0.7614341039301419}\n",
      "Epoch 14/20\n"
     ]
    },
    {
     "name": "stderr",
     "output_type": "stream",
     "text": [
      "100%|██████████| 328/328 [00:30<00:00, 10.59it/s]\n"
     ]
    },
    {
     "name": "stdout",
     "output_type": "stream",
     "text": [
      "{'val_loss': 1.7936754417492122, 'val_accuracy': 0.6120426829268293, 'precision': 0.5840800246481789, 'recall': 0.6120426829268293, 'f1-score': 0.5861873463585376, 'macro_f1-score': 0.27702611209290356, 'balanced_accuracy': 0.2689572344013193, 'mcc': 0.47531105525565753, 'train_loss': 0.6802858531974801}\n",
      "Epoch 15/20\n"
     ]
    },
    {
     "name": "stderr",
     "output_type": "stream",
     "text": [
      "100%|██████████| 328/328 [00:31<00:00, 10.52it/s]\n"
     ]
    },
    {
     "name": "stdout",
     "output_type": "stream",
     "text": [
      "{'val_loss': 1.7495977402460285, 'val_accuracy': 0.6051829268292683, 'precision': 0.5665154629712342, 'recall': 0.6051829268292683, 'f1-score': 0.5820161969735934, 'macro_f1-score': 0.24693495249948405, 'balanced_accuracy': 0.2510709311258618, 'mcc': 0.47512561045381313, 'train_loss': 0.6410993843611966}\n",
      "Epoch 16/20\n"
     ]
    },
    {
     "name": "stderr",
     "output_type": "stream",
     "text": [
      "100%|██████████| 328/328 [00:30<00:00, 10.61it/s]\n"
     ]
    },
    {
     "name": "stdout",
     "output_type": "stream",
     "text": [
      "{'val_loss': 1.781000019210141, 'val_accuracy': 0.6135670731707317, 'precision': 0.6129249370785264, 'recall': 0.6135670731707317, 'f1-score': 0.6054009252126118, 'macro_f1-score': 0.3317104132534965, 'balanced_accuracy': 0.32349374343699616, 'mcc': 0.49381943919214666, 'train_loss': 0.5827798542407591}\n",
      "Epoch 17/20\n"
     ]
    },
    {
     "name": "stderr",
     "output_type": "stream",
     "text": [
      "100%|██████████| 328/328 [00:31<00:00, 10.54it/s]\n"
     ]
    },
    {
     "name": "stdout",
     "output_type": "stream",
     "text": [
      "{'val_loss': 1.8279569094500892, 'val_accuracy': 0.5975609756097561, 'precision': 0.6313395059420913, 'recall': 0.5975609756097561, 'f1-score': 0.6006117509693755, 'macro_f1-score': 0.31696597881809346, 'balanced_accuracy': 0.3244609656700559, 'mcc': 0.47906322376517363, 'train_loss': 0.4928226766812547}\n",
      "Epoch 18/20\n"
     ]
    },
    {
     "name": "stderr",
     "output_type": "stream",
     "text": [
      "100%|██████████| 328/328 [00:31<00:00, 10.42it/s]\n"
     ]
    },
    {
     "name": "stdout",
     "output_type": "stream",
     "text": [
      "{'val_loss': 1.8940339862573436, 'val_accuracy': 0.6173780487804879, 'precision': 0.6073214919385267, 'recall': 0.6173780487804879, 'f1-score': 0.6016508501848667, 'macro_f1-score': 0.32447313622145035, 'balanced_accuracy': 0.3239928248009217, 'mcc': 0.49058954575881414, 'train_loss': 0.4646425322890736}\n",
      "Epoch 19/20\n"
     ]
    },
    {
     "name": "stderr",
     "output_type": "stream",
     "text": [
      "100%|██████████| 328/328 [00:31<00:00, 10.58it/s]\n"
     ]
    },
    {
     "name": "stdout",
     "output_type": "stream",
     "text": [
      "{'val_loss': 1.8906108533463828, 'val_accuracy': 0.6204268292682927, 'precision': 0.6138287124620082, 'recall': 0.6204268292682927, 'f1-score': 0.609558148770971, 'macro_f1-score': 0.3594636027125975, 'balanced_accuracy': 0.3615443155861706, 'mcc': 0.5016173099068566, 'train_loss': 0.4493841746390411}\n",
      "Epoch 20/20\n"
     ]
    },
    {
     "name": "stderr",
     "output_type": "stream",
     "text": [
      "100%|██████████| 328/328 [00:31<00:00, 10.53it/s]\n"
     ]
    },
    {
     "name": "stdout",
     "output_type": "stream",
     "text": [
      "{'val_loss': 1.85652447219302, 'val_accuracy': 0.6074695121951219, 'precision': 0.6257294088537033, 'recall': 0.6074695121951219, 'f1-score': 0.6109483730171945, 'macro_f1-score': 0.34729374253710127, 'balanced_accuracy': 0.36299758629236134, 'mcc': 0.49461588397907014, 'train_loss': 0.38929934099475605}\n",
      "\n",
      "[Fold 2]\n",
      "Label distribution after resampling:\n",
      "  label 0: 2471\n",
      "  label 1: 22\n",
      "  label 2: 64\n",
      "  label 3: 24\n",
      "  label 4: 190\n",
      "  label 5: 113\n",
      "  label 6: 93\n",
      "  label 7: 30\n",
      "  label 8: 68\n",
      "  label 9: 30\n",
      "  label 10: 67\n",
      "  label 11: 169\n",
      "  label 12: 189\n",
      "  label 13: 29\n",
      "  label 14: 23\n",
      "  label 15: 24\n",
      "  label 16: 20\n",
      "  label 17: 182\n",
      "  label 18: 92\n",
      "  label 19: 44\n",
      "  label 20: 13\n",
      "  label 21: 36\n",
      "  label 22: 76\n",
      "  label 23: 157\n",
      "  label 24: 12\n",
      "  label 25: 44\n",
      "  label 26: 84\n",
      "  label 27: 48\n",
      "  label 28: 12\n",
      "  label 29: 12\n",
      "  label 30: 12\n",
      "  label 31: 75\n",
      "  label 32: 36\n",
      "  label 33: 31\n",
      "  label 34: 29\n",
      "  label 35: 12\n",
      "  label 36: 21\n",
      "  label 37: 16\n",
      "  label 38: 33\n",
      "  label 39: 11\n",
      "  label 40: 8\n",
      "  label 41: 57\n",
      "  label 42: 19\n",
      "  label 43: 9\n",
      "  label 44: 54\n",
      "  label 45: 242\n",
      "  label 46: 62\n",
      "  label 47: 80\n",
      "model is roberta-base bilstm\n"
     ]
    },
    {
     "name": "stderr",
     "output_type": "stream",
     "text": [
      "Some weights of RobertaModel were not initialized from the model checkpoint at roberta-base and are newly initialized: ['pooler.dense.bias', 'pooler.dense.weight']\n",
      "You should probably TRAIN this model on a down-stream task to be able to use it for predictions and inference.\n"
     ]
    },
    {
     "name": "stdout",
     "output_type": "stream",
     "text": [
      "Epoch 1/20\n"
     ]
    },
    {
     "name": "stderr",
     "output_type": "stream",
     "text": [
      "100%|██████████| 328/328 [00:30<00:00, 10.60it/s]\n"
     ]
    },
    {
     "name": "stdout",
     "output_type": "stream",
     "text": [
      "{'val_loss': 2.0279232394404527, 'val_accuracy': 0.5392829900839055, 'precision': 0.37637558680690353, 'recall': 0.5392829900839055, 'f1-score': 0.4325062238163056, 'macro_f1-score': 0.05517675205999021, 'balanced_accuracy': 0.07597572627087983, 'mcc': 0.33192206959005255, 'train_loss': 2.3686258047819138}\n",
      "Epoch 2/20\n"
     ]
    },
    {
     "name": "stderr",
     "output_type": "stream",
     "text": [
      "100%|██████████| 328/328 [00:31<00:00, 10.52it/s]\n"
     ]
    },
    {
     "name": "stdout",
     "output_type": "stream",
     "text": [
      "{'val_loss': 1.8237849546641838, 'val_accuracy': 0.5682684973302822, 'precision': 0.39631987245621647, 'recall': 0.5682684973302822, 'f1-score': 0.4611483633659081, 'macro_f1-score': 0.06953708415062479, 'balanced_accuracy': 0.09431942622799788, 'mcc': 0.37979288063099503, 'train_loss': 1.952878087032132}\n",
      "Epoch 3/20\n"
     ]
    },
    {
     "name": "stderr",
     "output_type": "stream",
     "text": [
      "100%|██████████| 328/328 [00:31<00:00, 10.55it/s]\n"
     ]
    },
    {
     "name": "stdout",
     "output_type": "stream",
     "text": [
      "{'val_loss': 1.7072549840299094, 'val_accuracy': 0.5675057208237986, 'precision': 0.4198191956813015, 'recall': 0.5675057208237986, 'f1-score': 0.47668194015002546, 'macro_f1-score': 0.08576366432376685, 'balanced_accuracy': 0.1149246875565338, 'mcc': 0.39495864874597847, 'train_loss': 1.7345484464270313}\n",
      "Epoch 4/20\n"
     ]
    },
    {
     "name": "stderr",
     "output_type": "stream",
     "text": [
      "100%|██████████| 328/328 [00:30<00:00, 10.63it/s]\n"
     ]
    },
    {
     "name": "stdout",
     "output_type": "stream",
     "text": [
      "{'val_loss': 1.6133351667625149, 'val_accuracy': 0.6079328756674295, 'precision': 0.49040362036428403, 'recall': 0.6079328756674295, 'f1-score': 0.5381174577995097, 'macro_f1-score': 0.1486188945654378, 'balanced_accuracy': 0.163565129451724, 'mcc': 0.45255476210920437, 'train_loss': 1.5590174752401142}\n",
      "Epoch 5/20\n"
     ]
    },
    {
     "name": "stderr",
     "output_type": "stream",
     "text": [
      "100%|██████████| 328/328 [00:31<00:00, 10.50it/s]\n"
     ]
    },
    {
     "name": "stdout",
     "output_type": "stream",
     "text": [
      "{'val_loss': 1.5756412737253236, 'val_accuracy': 0.5827612509534706, 'precision': 0.5407829250467734, 'recall': 0.5827612509534706, 'f1-score': 0.5365764063401542, 'macro_f1-score': 0.16302389643333465, 'balanced_accuracy': 0.1871584260851964, 'mcc': 0.4413602973088179, 'train_loss': 1.3940168461966804}\n",
      "Epoch 6/20\n"
     ]
    },
    {
     "name": "stderr",
     "output_type": "stream",
     "text": [
      "100%|██████████| 328/328 [00:31<00:00, 10.56it/s]\n"
     ]
    },
    {
     "name": "stdout",
     "output_type": "stream",
     "text": [
      "{'val_loss': 1.6289744973182678, 'val_accuracy': 0.5697940503432495, 'precision': 0.5559603640204183, 'recall': 0.5697940503432495, 'f1-score': 0.5525831878750543, 'macro_f1-score': 0.18482890370069147, 'balanced_accuracy': 0.20767367134385917, 'mcc': 0.4430198881196523, 'train_loss': 1.232542466553973}\n",
      "Epoch 7/20\n"
     ]
    },
    {
     "name": "stderr",
     "output_type": "stream",
     "text": [
      "100%|██████████| 328/328 [00:30<00:00, 10.61it/s]\n"
     ]
    },
    {
     "name": "stdout",
     "output_type": "stream",
     "text": [
      "{'val_loss': 1.5672490342361172, 'val_accuracy': 0.6193745232646835, 'precision': 0.5773375373261702, 'recall': 0.6193745232646835, 'f1-score': 0.5871637636569516, 'macro_f1-score': 0.22691304978243565, 'balanced_accuracy': 0.247094548110755, 'mcc': 0.48921164944365264, 'train_loss': 1.0863691777354334}\n",
      "Epoch 8/20\n"
     ]
    },
    {
     "name": "stderr",
     "output_type": "stream",
     "text": [
      "100%|██████████| 328/328 [00:31<00:00, 10.50it/s]\n"
     ]
    },
    {
     "name": "stdout",
     "output_type": "stream",
     "text": [
      "{'val_loss': 1.5972621030196912, 'val_accuracy': 0.6346300533943554, 'precision': 0.5724753817011773, 'recall': 0.6346300533943554, 'f1-score': 0.5840638413060987, 'macro_f1-score': 0.22916748606293047, 'balanced_accuracy': 0.24002227689513853, 'mcc': 0.4975533404485114, 'train_loss': 0.9570704644954786}\n",
      "Epoch 9/20\n"
     ]
    },
    {
     "name": "stderr",
     "output_type": "stream",
     "text": [
      "100%|██████████| 328/328 [00:31<00:00, 10.46it/s]\n"
     ]
    },
    {
     "name": "stdout",
     "output_type": "stream",
     "text": [
      "{'val_loss': 1.6379185929531004, 'val_accuracy': 0.6163234172387491, 'precision': 0.5704985231242113, 'recall': 0.6163234172387491, 'f1-score': 0.5860507909237409, 'macro_f1-score': 0.242528309945118, 'balanced_accuracy': 0.25401978947309206, 'mcc': 0.4811986855743139, 'train_loss': 0.8467017454208761}\n",
      "Epoch 10/20\n"
     ]
    },
    {
     "name": "stderr",
     "output_type": "stream",
     "text": [
      "100%|██████████| 328/328 [00:30<00:00, 10.61it/s]\n"
     ]
    },
    {
     "name": "stdout",
     "output_type": "stream",
     "text": [
      "{'val_loss': 1.692481203777034, 'val_accuracy': 0.5942028985507246, 'precision': 0.5927120074854243, 'recall': 0.5942028985507246, 'f1-score': 0.5848288959712333, 'macro_f1-score': 0.2590588959787574, 'balanced_accuracy': 0.27951746878779277, 'mcc': 0.48037046468865613, 'train_loss': 0.7627664205686349}\n",
      "Epoch 11/20\n"
     ]
    },
    {
     "name": "stderr",
     "output_type": "stream",
     "text": [
      "100%|██████████| 328/328 [00:31<00:00, 10.58it/s]\n"
     ]
    },
    {
     "name": "stdout",
     "output_type": "stream",
     "text": [
      "{'val_loss': 1.8059075372975046, 'val_accuracy': 0.6163234172387491, 'precision': 0.5815800179449772, 'recall': 0.6163234172387491, 'f1-score': 0.5851604087942393, 'macro_f1-score': 0.2493019033389362, 'balanced_accuracy': 0.2573848097558887, 'mcc': 0.4770004331690561, 'train_loss': 0.6615490830934992}\n",
      "Epoch 12/20\n"
     ]
    },
    {
     "name": "stderr",
     "output_type": "stream",
     "text": [
      "100%|██████████| 328/328 [00:30<00:00, 10.64it/s]\n"
     ]
    },
    {
     "name": "stdout",
     "output_type": "stream",
     "text": [
      "{'val_loss': 1.701522558927536, 'val_accuracy': 0.6300533943554538, 'precision': 0.6186871725822134, 'recall': 0.6300533943554538, 'f1-score': 0.6119652741746313, 'macro_f1-score': 0.30575294295470706, 'balanced_accuracy': 0.3233661432363759, 'mcc': 0.5112260608759545, 'train_loss': 0.5726506463933464}\n",
      "Epoch 13/20\n"
     ]
    },
    {
     "name": "stderr",
     "output_type": "stream",
     "text": [
      "100%|██████████| 328/328 [00:31<00:00, 10.55it/s]\n"
     ]
    },
    {
     "name": "stdout",
     "output_type": "stream",
     "text": [
      "{'val_loss': 1.765909870950187, 'val_accuracy': 0.6147978642257819, 'precision': 0.6085467094324547, 'recall': 0.6147978642257819, 'f1-score': 0.602764601807752, 'macro_f1-score': 0.31262002771684994, 'balanced_accuracy': 0.3074592317027775, 'mcc': 0.4905445289617063, 'train_loss': 0.5025376924427181}\n",
      "Epoch 14/20\n"
     ]
    },
    {
     "name": "stderr",
     "output_type": "stream",
     "text": [
      "100%|██████████| 328/328 [00:30<00:00, 10.59it/s]\n"
     ]
    },
    {
     "name": "stdout",
     "output_type": "stream",
     "text": [
      "{'val_loss': 1.7288873773522493, 'val_accuracy': 0.6109839816933639, 'precision': 0.6203217280901051, 'recall': 0.6109839816933639, 'f1-score': 0.6096717376344484, 'macro_f1-score': 0.3315070435733721, 'balanced_accuracy': 0.34763538011979955, 'mcc': 0.49342748045421403, 'train_loss': 0.4560896503716344}\n",
      "Epoch 15/20\n"
     ]
    },
    {
     "name": "stderr",
     "output_type": "stream",
     "text": [
      "100%|██████████| 328/328 [00:30<00:00, 10.60it/s]\n"
     ]
    },
    {
     "name": "stdout",
     "output_type": "stream",
     "text": [
      "{'val_loss': 1.7928447592549208, 'val_accuracy': 0.6270022883295194, 'precision': 0.6252448290296846, 'recall': 0.6270022883295194, 'f1-score': 0.6195093514814077, 'macro_f1-score': 0.3432682878339535, 'balanced_accuracy': 0.34798326656599127, 'mcc': 0.5092817520543197, 'train_loss': 0.39271295610133833}\n",
      "Epoch 16/20\n"
     ]
    },
    {
     "name": "stderr",
     "output_type": "stream",
     "text": [
      "100%|██████████| 328/328 [00:31<00:00, 10.47it/s]\n"
     ]
    },
    {
     "name": "stdout",
     "output_type": "stream",
     "text": [
      "{'val_loss': 1.9485590101742163, 'val_accuracy': 0.5751334858886347, 'precision': 0.6054814182559896, 'recall': 0.5751334858886347, 'f1-score': 0.5794643576914816, 'macro_f1-score': 0.30833363203211, 'balanced_accuracy': 0.3254824370750516, 'mcc': 0.46420575964289185, 'train_loss': 0.3694896410026292}\n",
      "Epoch 17/20\n"
     ]
    },
    {
     "name": "stderr",
     "output_type": "stream",
     "text": [
      "100%|██████████| 328/328 [00:30<00:00, 10.64it/s]\n"
     ]
    },
    {
     "name": "stdout",
     "output_type": "stream",
     "text": [
      "{'val_loss': 1.8906032355820261, 'val_accuracy': 0.6140350877192983, 'precision': 0.6359834666577006, 'recall': 0.6140350877192983, 'f1-score': 0.6155519630413396, 'macro_f1-score': 0.3500086666995121, 'balanced_accuracy': 0.36820829570654223, 'mcc': 0.5040200554143581, 'train_loss': 0.3350697793634381}\n",
      "Epoch 18/20\n"
     ]
    },
    {
     "name": "stderr",
     "output_type": "stream",
     "text": [
      "100%|██████████| 328/328 [00:30<00:00, 10.60it/s]\n"
     ]
    },
    {
     "name": "stdout",
     "output_type": "stream",
     "text": [
      "{'val_loss': 1.9657035629923751, 'val_accuracy': 0.623951182303585, 'precision': 0.6181996611524949, 'recall': 0.623951182303585, 'f1-score': 0.6124558337713633, 'macro_f1-score': 0.30809953955447744, 'balanced_accuracy': 0.32097678132626434, 'mcc': 0.5011060104064105, 'train_loss': 0.2690522912747749}\n",
      "Epoch 19/20\n"
     ]
    },
    {
     "name": "stderr",
     "output_type": "stream",
     "text": [
      "100%|██████████| 328/328 [00:31<00:00, 10.47it/s]\n"
     ]
    },
    {
     "name": "stdout",
     "output_type": "stream",
     "text": [
      "{'val_loss': 1.9829769061832894, 'val_accuracy': 0.6292906178489702, 'precision': 0.6027819812118201, 'recall': 0.6292906178489702, 'f1-score': 0.5968193451009065, 'macro_f1-score': 0.29263097355831086, 'balanced_accuracy': 0.30158502693786043, 'mcc': 0.4971822131664783, 'train_loss': 0.2678663377286639}\n",
      "Epoch 20/20\n"
     ]
    },
    {
     "name": "stderr",
     "output_type": "stream",
     "text": [
      "100%|██████████| 328/328 [00:31<00:00, 10.57it/s]\n"
     ]
    },
    {
     "name": "stdout",
     "output_type": "stream",
     "text": [
      "{'val_loss': 1.932569806895605, 'val_accuracy': 0.6109839816933639, 'precision': 0.6224622941061619, 'recall': 0.6109839816933639, 'f1-score': 0.6103127634165738, 'macro_f1-score': 0.3338935978513556, 'balanced_accuracy': 0.38473335825594773, 'mcc': 0.5005285044420059, 'train_loss': 0.2830735411006594}\n",
      "Early stopping.\n",
      "\n",
      "[Fold 3]\n",
      "Label distribution after resampling:\n",
      "  label 0: 2471\n",
      "  label 1: 22\n",
      "  label 2: 64\n",
      "  label 3: 24\n",
      "  label 4: 190\n",
      "  label 5: 113\n",
      "  label 6: 93\n",
      "  label 7: 30\n",
      "  label 8: 68\n",
      "  label 9: 30\n",
      "  label 10: 67\n",
      "  label 11: 169\n",
      "  label 12: 190\n",
      "  label 13: 28\n",
      "  label 14: 23\n",
      "  label 15: 25\n",
      "  label 16: 19\n",
      "  label 17: 182\n",
      "  label 18: 92\n",
      "  label 19: 44\n",
      "  label 20: 14\n",
      "  label 21: 35\n",
      "  label 22: 76\n",
      "  label 23: 157\n",
      "  label 24: 13\n",
      "  label 25: 44\n",
      "  label 26: 84\n",
      "  label 27: 48\n",
      "  label 28: 11\n",
      "  label 29: 13\n",
      "  label 30: 11\n",
      "  label 31: 76\n",
      "  label 32: 36\n",
      "  label 33: 31\n",
      "  label 34: 30\n",
      "  label 35: 11\n",
      "  label 36: 21\n",
      "  label 37: 16\n",
      "  label 38: 32\n",
      "  label 39: 11\n",
      "  label 40: 9\n",
      "  label 41: 57\n",
      "  label 42: 18\n",
      "  label 43: 9\n",
      "  label 44: 55\n",
      "  label 45: 241\n",
      "  label 46: 62\n",
      "  label 47: 80\n",
      "model is roberta-base bilstm\n"
     ]
    },
    {
     "name": "stderr",
     "output_type": "stream",
     "text": [
      "Some weights of RobertaModel were not initialized from the model checkpoint at roberta-base and are newly initialized: ['pooler.dense.bias', 'pooler.dense.weight']\n",
      "You should probably TRAIN this model on a down-stream task to be able to use it for predictions and inference.\n"
     ]
    },
    {
     "name": "stdout",
     "output_type": "stream",
     "text": [
      "Epoch 1/20\n"
     ]
    },
    {
     "name": "stderr",
     "output_type": "stream",
     "text": [
      "100%|██████████| 328/328 [00:31<00:00, 10.54it/s]\n"
     ]
    },
    {
     "name": "stdout",
     "output_type": "stream",
     "text": [
      "{'val_loss': 2.1649097029755757, 'val_accuracy': 0.5232646834477498, 'precision': 0.3087797542398517, 'recall': 0.5232646834477498, 'f1-score': 0.381346157702173, 'macro_f1-score': 0.03910288421661397, 'balanced_accuracy': 0.05884368937805488, 'mcc': 0.2726366458096683, 'train_loss': 2.4327966196507944}\n",
      "Epoch 2/20\n"
     ]
    },
    {
     "name": "stderr",
     "output_type": "stream",
     "text": [
      "100%|██████████| 328/328 [00:30<00:00, 10.61it/s]\n"
     ]
    },
    {
     "name": "stdout",
     "output_type": "stream",
     "text": [
      "{'val_loss': 2.2682874689741834, 'val_accuracy': 0.49122807017543857, 'precision': 0.26402749816252835, 'recall': 0.49122807017543857, 'f1-score': 0.3367128182122094, 'macro_f1-score': 0.029663073070762585, 'balanced_accuracy': 0.03778318722486884, 'mcc': 0.1578401438024115, 'train_loss': 2.0926869157247427}\n",
      "Epoch 3/20\n"
     ]
    },
    {
     "name": "stderr",
     "output_type": "stream",
     "text": [
      "100%|██████████| 328/328 [00:31<00:00, 10.54it/s]\n"
     ]
    },
    {
     "name": "stdout",
     "output_type": "stream",
     "text": [
      "{'val_loss': 1.971900439480456, 'val_accuracy': 0.5415713196033562, 'precision': 0.36598585455751553, 'recall': 0.5415713196033562, 'f1-score': 0.43221798527384125, 'macro_f1-score': 0.055651554996846354, 'balanced_accuracy': 0.07446030414092535, 'mcc': 0.33164547895636876, 'train_loss': 1.9645169749855995}\n",
      "Epoch 4/20\n"
     ]
    },
    {
     "name": "stderr",
     "output_type": "stream",
     "text": [
      "100%|██████████| 328/328 [00:31<00:00, 10.56it/s]\n"
     ]
    },
    {
     "name": "stdout",
     "output_type": "stream",
     "text": [
      "{'val_loss': 1.8992942629790888, 'val_accuracy': 0.5339435545385202, 'precision': 0.4017210565332356, 'recall': 0.5339435545385202, 'f1-score': 0.44865945801941853, 'macro_f1-score': 0.06630596147583355, 'balanced_accuracy': 0.08552278138060994, 'mcc': 0.3331399501878562, 'train_loss': 1.850040717277585}\n",
      "Epoch 5/20\n"
     ]
    },
    {
     "name": "stderr",
     "output_type": "stream",
     "text": [
      "100%|██████████| 328/328 [00:30<00:00, 10.63it/s]\n"
     ]
    },
    {
     "name": "stdout",
     "output_type": "stream",
     "text": [
      "{'val_loss': 1.911671214714283, 'val_accuracy': 0.5255530129672006, 'precision': 0.3857643923704813, 'recall': 0.5255530129672006, 'f1-score': 0.43676111318548944, 'macro_f1-score': 0.05951509561482182, 'balanced_accuracy': 0.08468211901042384, 'mcc': 0.3335913804891577, 'train_loss': 1.7526039365769885}\n",
      "Epoch 6/20\n"
     ]
    },
    {
     "name": "stderr",
     "output_type": "stream",
     "text": [
      "100%|██████████| 328/328 [00:31<00:00, 10.54it/s]\n"
     ]
    },
    {
     "name": "stdout",
     "output_type": "stream",
     "text": [
      "{'val_loss': 1.8085567009885137, 'val_accuracy': 0.5598779557589626, 'precision': 0.4216962987776494, 'recall': 0.5598779557589626, 'f1-score': 0.46766454128634327, 'macro_f1-score': 0.07988941783904992, 'balanced_accuracy': 0.09800236353816821, 'mcc': 0.3669816567045331, 'train_loss': 1.653870859160656}\n",
      "Epoch 7/20\n"
     ]
    },
    {
     "name": "stderr",
     "output_type": "stream",
     "text": [
      "100%|██████████| 328/328 [00:30<00:00, 10.58it/s]\n"
     ]
    },
    {
     "name": "stdout",
     "output_type": "stream",
     "text": [
      "{'val_loss': 1.8007144579073278, 'val_accuracy': 0.5522501906941266, 'precision': 0.46248967201033575, 'recall': 0.5522501906941266, 'f1-score': 0.49122639722217576, 'macro_f1-score': 0.10332285970775366, 'balanced_accuracy': 0.11950085465906161, 'mcc': 0.37918998824944883, 'train_loss': 1.5160642722394408}\n",
      "Epoch 8/20\n"
     ]
    },
    {
     "name": "stderr",
     "output_type": "stream",
     "text": [
      "100%|██████████| 328/328 [00:30<00:00, 10.64it/s]\n"
     ]
    },
    {
     "name": "stdout",
     "output_type": "stream",
     "text": [
      "{'val_loss': 1.8546691529634522, 'val_accuracy': 0.5644546147978642, 'precision': 0.4754424084966853, 'recall': 0.5644546147978642, 'f1-score': 0.5067209852707091, 'macro_f1-score': 0.11900832662053373, 'balanced_accuracy': 0.12670946181872086, 'mcc': 0.39353748143323036, 'train_loss': 1.3891421823603352}\n",
      "Epoch 9/20\n"
     ]
    },
    {
     "name": "stderr",
     "output_type": "stream",
     "text": [
      "100%|██████████| 328/328 [00:31<00:00, 10.54it/s]\n"
     ]
    },
    {
     "name": "stdout",
     "output_type": "stream",
     "text": [
      "{'val_loss': 1.8022181264510968, 'val_accuracy': 0.5690312738367659, 'precision': 0.48539615934165997, 'recall': 0.5690312738367659, 'f1-score': 0.5137758600154638, 'macro_f1-score': 0.12375772694552849, 'balanced_accuracy': 0.13892349951553978, 'mcc': 0.40731696003798523, 'train_loss': 1.2986622808001391}\n",
      "Epoch 10/20\n"
     ]
    },
    {
     "name": "stderr",
     "output_type": "stream",
     "text": [
      "100%|██████████| 328/328 [00:31<00:00, 10.43it/s]\n"
     ]
    },
    {
     "name": "stdout",
     "output_type": "stream",
     "text": [
      "{'val_loss': 1.7778621741184375, 'val_accuracy': 0.5484363081617086, 'precision': 0.505523087418815, 'recall': 0.5484363081617086, 'f1-score': 0.5195542690765633, 'macro_f1-score': 0.13637887750697564, 'balanced_accuracy': 0.163865889781755, 'mcc': 0.4074276460782179, 'train_loss': 1.1966483062360345}\n",
      "Epoch 11/20\n"
     ]
    },
    {
     "name": "stderr",
     "output_type": "stream",
     "text": [
      "100%|██████████| 328/328 [00:30<00:00, 10.63it/s]\n"
     ]
    },
    {
     "name": "stdout",
     "output_type": "stream",
     "text": [
      "{'val_loss': 1.9030729099744703, 'val_accuracy': 0.5331807780320366, 'precision': 0.5130980162107782, 'recall': 0.5331807780320366, 'f1-score': 0.5121491498102774, 'macro_f1-score': 0.14117655411694893, 'balanced_accuracy': 0.15240224920287782, 'mcc': 0.38112484558317966, 'train_loss': 1.1210714838944558}\n",
      "Epoch 12/20\n"
     ]
    },
    {
     "name": "stderr",
     "output_type": "stream",
     "text": [
      "100%|██████████| 328/328 [00:31<00:00, 10.54it/s]\n"
     ]
    },
    {
     "name": "stdout",
     "output_type": "stream",
     "text": [
      "{'val_loss': 1.8352640870867707, 'val_accuracy': 0.5690312738367659, 'precision': 0.5090101040308984, 'recall': 0.5690312738367659, 'f1-score': 0.5275638751011299, 'macro_f1-score': 0.15192474167632883, 'balanced_accuracy': 0.16053906553980116, 'mcc': 0.414451525293987, 'train_loss': 1.0408778146999638}\n",
      "Epoch 13/20\n"
     ]
    },
    {
     "name": "stderr",
     "output_type": "stream",
     "text": [
      "100%|██████████| 328/328 [00:31<00:00, 10.54it/s]\n"
     ]
    },
    {
     "name": "stdout",
     "output_type": "stream",
     "text": [
      "{'val_loss': 2.2388341077944127, 'val_accuracy': 0.5675057208237986, 'precision': 0.4775946230405832, 'recall': 0.5675057208237986, 'f1-score': 0.4942246502927472, 'macro_f1-score': 0.13266201929746638, 'balanced_accuracy': 0.12725444245741624, 'mcc': 0.37796920990361393, 'train_loss': 0.9639085787462025}\n",
      "Epoch 14/20\n"
     ]
    },
    {
     "name": "stderr",
     "output_type": "stream",
     "text": [
      "100%|██████████| 328/328 [00:31<00:00, 10.52it/s]\n"
     ]
    },
    {
     "name": "stdout",
     "output_type": "stream",
     "text": [
      "{'val_loss': 1.813826603133504, 'val_accuracy': 0.5842868039664378, 'precision': 0.5381460903280794, 'recall': 0.5842868039664378, 'f1-score': 0.5492458614294544, 'macro_f1-score': 0.1878183786352874, 'balanced_accuracy': 0.18849373258690863, 'mcc': 0.432454699307672, 'train_loss': 0.9800068456225279}\n",
      "Epoch 15/20\n"
     ]
    },
    {
     "name": "stderr",
     "output_type": "stream",
     "text": [
      "100%|██████████| 328/328 [00:30<00:00, 10.60it/s]\n"
     ]
    },
    {
     "name": "stdout",
     "output_type": "stream",
     "text": [
      "{'val_loss': 1.8659752620066083, 'val_accuracy': 0.5675057208237986, 'precision': 0.5423849623167342, 'recall': 0.5675057208237986, 'f1-score': 0.5496724174202843, 'macro_f1-score': 0.18691175168067617, 'balanced_accuracy': 0.19237874702451638, 'mcc': 0.429978380809943, 'train_loss': 0.8349167630530712}\n",
      "Epoch 16/20\n"
     ]
    },
    {
     "name": "stderr",
     "output_type": "stream",
     "text": [
      "100%|██████████| 328/328 [00:30<00:00, 10.61it/s]\n"
     ]
    },
    {
     "name": "stdout",
     "output_type": "stream",
     "text": [
      "{'val_loss': 1.8432478252344016, 'val_accuracy': 0.5835240274599542, 'precision': 0.5492498939288842, 'recall': 0.5835240274599542, 'f1-score': 0.5584760104626357, 'macro_f1-score': 0.21618141982920155, 'balanced_accuracy': 0.2170858474550078, 'mcc': 0.4442714885527762, 'train_loss': 0.7628356689678096}\n",
      "Epoch 17/20\n"
     ]
    },
    {
     "name": "stderr",
     "output_type": "stream",
     "text": [
      "100%|██████████| 328/328 [00:31<00:00, 10.47it/s]\n"
     ]
    },
    {
     "name": "stdout",
     "output_type": "stream",
     "text": [
      "{'val_loss': 1.9783854161093875, 'val_accuracy': 0.5964912280701754, 'precision': 0.5489891980159926, 'recall': 0.5964912280701754, 'f1-score': 0.5592100361510185, 'macro_f1-score': 0.24015347744699042, 'balanced_accuracy': 0.2291380533416605, 'mcc': 0.4432487963512534, 'train_loss': 0.6898156877425385}\n",
      "Epoch 18/20\n"
     ]
    },
    {
     "name": "stderr",
     "output_type": "stream",
     "text": [
      "100%|██████████| 328/328 [00:30<00:00, 10.64it/s]\n"
     ]
    },
    {
     "name": "stdout",
     "output_type": "stream",
     "text": [
      "{'val_loss': 1.8655600518715092, 'val_accuracy': 0.5987795575896262, 'precision': 0.5688531856988641, 'recall': 0.5987795575896262, 'f1-score': 0.5697771561555802, 'macro_f1-score': 0.23567749825430115, 'balanced_accuracy': 0.24208294983894038, 'mcc': 0.46231010506684667, 'train_loss': 0.6227179980359789}\n",
      "Epoch 19/20\n"
     ]
    },
    {
     "name": "stderr",
     "output_type": "stream",
     "text": [
      "100%|██████████| 328/328 [00:31<00:00, 10.56it/s]\n"
     ]
    },
    {
     "name": "stdout",
     "output_type": "stream",
     "text": [
      "{'val_loss': 1.9399218043176139, 'val_accuracy': 0.562929061784897, 'precision': 0.5901686845517512, 'recall': 0.562929061784897, 'f1-score': 0.5657926863854873, 'macro_f1-score': 0.2684763046964303, 'balanced_accuracy': 0.28069942055409985, 'mcc': 0.44072410465928497, 'train_loss': 0.5802536018465351}\n",
      "Epoch 20/20\n"
     ]
    },
    {
     "name": "stderr",
     "output_type": "stream",
     "text": [
      "100%|██████████| 328/328 [00:31<00:00, 10.45it/s]\n"
     ]
    },
    {
     "name": "stdout",
     "output_type": "stream",
     "text": [
      "{'val_loss': 1.9416515560048382, 'val_accuracy': 0.5926773455377574, 'precision': 0.5909615616646253, 'recall': 0.5926773455377574, 'f1-score': 0.5856645987064449, 'macro_f1-score': 0.27684408959507806, 'balanced_accuracy': 0.2909965955183882, 'mcc': 0.46858434027825224, 'train_loss': 0.5331075688506045}\n",
      "\n",
      "[Fold 4]\n",
      "Label distribution after resampling:\n",
      "  label 0: 2471\n",
      "  label 1: 22\n",
      "  label 2: 64\n",
      "  label 3: 24\n",
      "  label 4: 190\n",
      "  label 5: 113\n",
      "  label 6: 93\n",
      "  label 7: 31\n",
      "  label 8: 68\n",
      "  label 9: 29\n",
      "  label 10: 67\n",
      "  label 11: 169\n",
      "  label 12: 190\n",
      "  label 13: 29\n",
      "  label 14: 22\n",
      "  label 15: 25\n",
      "  label 16: 19\n",
      "  label 17: 182\n",
      "  label 18: 92\n",
      "  label 19: 44\n",
      "  label 20: 14\n",
      "  label 21: 35\n",
      "  label 22: 76\n",
      "  label 23: 158\n",
      "  label 24: 13\n",
      "  label 25: 44\n",
      "  label 26: 84\n",
      "  label 27: 48\n",
      "  label 28: 11\n",
      "  label 29: 13\n",
      "  label 30: 11\n",
      "  label 31: 75\n",
      "  label 32: 36\n",
      "  label 33: 31\n",
      "  label 34: 30\n",
      "  label 35: 11\n",
      "  label 36: 22\n",
      "  label 37: 16\n",
      "  label 38: 33\n",
      "  label 39: 10\n",
      "  label 40: 9\n",
      "  label 41: 56\n",
      "  label 42: 18\n",
      "  label 43: 9\n",
      "  label 44: 55\n",
      "  label 45: 241\n",
      "  label 46: 62\n",
      "  label 47: 80\n",
      "model is roberta-base bilstm\n"
     ]
    },
    {
     "name": "stderr",
     "output_type": "stream",
     "text": [
      "Some weights of RobertaModel were not initialized from the model checkpoint at roberta-base and are newly initialized: ['pooler.dense.bias', 'pooler.dense.weight']\n",
      "You should probably TRAIN this model on a down-stream task to be able to use it for predictions and inference.\n"
     ]
    },
    {
     "name": "stdout",
     "output_type": "stream",
     "text": [
      "Epoch 1/20\n"
     ]
    },
    {
     "name": "stderr",
     "output_type": "stream",
     "text": [
      "100%|██████████| 328/328 [00:31<00:00, 10.55it/s]\n"
     ]
    },
    {
     "name": "stdout",
     "output_type": "stream",
     "text": [
      "{'val_loss': 2.183800201590468, 'val_accuracy': 0.5263157894736842, 'precision': 0.30185743819668875, 'recall': 0.5263157894736842, 'f1-score': 0.382912819377776, 'macro_f1-score': 0.040167064668949905, 'balanced_accuracy': 0.055317212557310924, 'mcc': 0.2688523209720869, 'train_loss': 2.3507120714681906}\n",
      "Epoch 2/20\n"
     ]
    },
    {
     "name": "stderr",
     "output_type": "stream",
     "text": [
      "100%|██████████| 328/328 [00:31<00:00, 10.56it/s]\n"
     ]
    },
    {
     "name": "stdout",
     "output_type": "stream",
     "text": [
      "{'val_loss': 1.9031748004802844, 'val_accuracy': 0.5491990846681922, 'precision': 0.3478887926240613, 'recall': 0.5491990846681922, 'f1-score': 0.4230515593896618, 'macro_f1-score': 0.05525371243602775, 'balanced_accuracy': 0.07157705717881359, 'mcc': 0.32839874876338154, 'train_loss': 1.9928390912529899}\n",
      "Epoch 3/20\n"
     ]
    },
    {
     "name": "stderr",
     "output_type": "stream",
     "text": [
      "100%|██████████| 328/328 [00:31<00:00, 10.56it/s]\n"
     ]
    },
    {
     "name": "stdout",
     "output_type": "stream",
     "text": [
      "{'val_loss': 1.7525346809771003, 'val_accuracy': 0.5690312738367659, 'precision': 0.4229587979611716, 'recall': 0.5690312738367659, 'f1-score': 0.47737830600134995, 'macro_f1-score': 0.08048856847152643, 'balanced_accuracy': 0.10379143954384439, 'mcc': 0.39159520811111975, 'train_loss': 1.7702727127002507}\n",
      "Epoch 4/20\n"
     ]
    },
    {
     "name": "stderr",
     "output_type": "stream",
     "text": [
      "100%|██████████| 328/328 [00:31<00:00, 10.53it/s]\n"
     ]
    },
    {
     "name": "stdout",
     "output_type": "stream",
     "text": [
      "{'val_loss': 1.7210032220293836, 'val_accuracy': 0.5705568268497331, 'precision': 0.47552597644803696, 'recall': 0.5705568268497331, 'f1-score': 0.5088980378533016, 'macro_f1-score': 0.12076948505177511, 'balanced_accuracy': 0.13940073698135533, 'mcc': 0.4065651440783365, 'train_loss': 1.6282502243795045}\n",
      "Epoch 5/20\n"
     ]
    },
    {
     "name": "stderr",
     "output_type": "stream",
     "text": [
      "100%|██████████| 328/328 [00:31<00:00, 10.55it/s]\n"
     ]
    },
    {
     "name": "stdout",
     "output_type": "stream",
     "text": [
      "{'val_loss': 1.6407750259812286, 'val_accuracy': 0.5804729214340199, 'precision': 0.48768093924069644, 'recall': 0.5804729214340199, 'f1-score': 0.5180746441154308, 'macro_f1-score': 0.1414569654484333, 'balanced_accuracy': 0.15428133606251057, 'mcc': 0.42076666398065343, 'train_loss': 1.5105125522468148}\n",
      "Epoch 6/20\n"
     ]
    },
    {
     "name": "stderr",
     "output_type": "stream",
     "text": [
      "100%|██████████| 328/328 [00:30<00:00, 10.61it/s]\n"
     ]
    },
    {
     "name": "stdout",
     "output_type": "stream",
     "text": [
      "{'val_loss': 1.5994550821984685, 'val_accuracy': 0.6041189931350115, 'precision': 0.5243959354361309, 'recall': 0.6041189931350115, 'f1-score': 0.5423641137983755, 'macro_f1-score': 0.17307005895878894, 'balanced_accuracy': 0.1716284061640342, 'mcc': 0.44754419070157203, 'train_loss': 1.3166429013377283}\n",
      "Epoch 7/20\n"
     ]
    },
    {
     "name": "stderr",
     "output_type": "stream",
     "text": [
      "100%|██████████| 328/328 [00:31<00:00, 10.49it/s]\n"
     ]
    },
    {
     "name": "stdout",
     "output_type": "stream",
     "text": [
      "{'val_loss': 1.6015609633631822, 'val_accuracy': 0.6102212051868803, 'precision': 0.5316714019762621, 'recall': 0.6102212051868803, 'f1-score': 0.5609028819637845, 'macro_f1-score': 0.21325329382906003, 'balanced_accuracy': 0.21830898700925694, 'mcc': 0.4671660651052398, 'train_loss': 1.2056343452777805}\n",
      "Epoch 8/20\n"
     ]
    },
    {
     "name": "stderr",
     "output_type": "stream",
     "text": [
      "100%|██████████| 328/328 [00:31<00:00, 10.57it/s]\n"
     ]
    },
    {
     "name": "stdout",
     "output_type": "stream",
     "text": [
      "{'val_loss': 1.6008173636183507, 'val_accuracy': 0.593440122044241, 'precision': 0.5799888996519438, 'recall': 0.593440122044241, 'f1-score': 0.5758139067817426, 'macro_f1-score': 0.2360298728198511, 'balanced_accuracy': 0.2526490458989266, 'mcc': 0.4771770350719755, 'train_loss': 1.0655652484970122}\n",
      "Epoch 9/20\n"
     ]
    },
    {
     "name": "stderr",
     "output_type": "stream",
     "text": [
      "100%|██████████| 328/328 [00:30<00:00, 10.63it/s]\n"
     ]
    },
    {
     "name": "stdout",
     "output_type": "stream",
     "text": [
      "{'val_loss': 1.5904645367366512, 'val_accuracy': 0.6079328756674295, 'precision': 0.5717322720887752, 'recall': 0.6079328756674295, 'f1-score': 0.5811625021460711, 'macro_f1-score': 0.25134405055597775, 'balanced_accuracy': 0.2644525325825777, 'mcc': 0.48335070932348806, 'train_loss': 0.9520186560183037}\n",
      "Epoch 10/20\n"
     ]
    },
    {
     "name": "stderr",
     "output_type": "stream",
     "text": [
      "100%|██████████| 328/328 [00:31<00:00, 10.51it/s]\n"
     ]
    },
    {
     "name": "stdout",
     "output_type": "stream",
     "text": [
      "{'val_loss': 1.591681849665758, 'val_accuracy': 0.5842868039664378, 'precision': 0.6056050080772731, 'recall': 0.5842868039664378, 'f1-score': 0.5865976486927654, 'macro_f1-score': 0.29618979368355786, 'balanced_accuracy': 0.32010498438067264, 'mcc': 0.48060051605039983, 'train_loss': 0.8605151330915893}\n",
      "Epoch 11/20\n"
     ]
    },
    {
     "name": "stderr",
     "output_type": "stream",
     "text": [
      "100%|██████████| 328/328 [00:31<00:00, 10.42it/s]\n"
     ]
    },
    {
     "name": "stdout",
     "output_type": "stream",
     "text": [
      "{'val_loss': 1.7712135861014449, 'val_accuracy': 0.6003051106025934, 'precision': 0.5868526350571529, 'recall': 0.6003051106025934, 'f1-score': 0.5803951876447269, 'macro_f1-score': 0.2888745895845425, 'balanced_accuracy': 0.28975802871123, 'mcc': 0.47879799531572104, 'train_loss': 0.780707638801598}\n",
      "Epoch 12/20\n"
     ]
    },
    {
     "name": "stderr",
     "output_type": "stream",
     "text": [
      "100%|██████████| 328/328 [00:30<00:00, 10.63it/s]\n"
     ]
    },
    {
     "name": "stdout",
     "output_type": "stream",
     "text": [
      "{'val_loss': 1.6395288693105303, 'val_accuracy': 0.6262395118230358, 'precision': 0.6197655786205329, 'recall': 0.6262395118230358, 'f1-score': 0.6148793644892586, 'macro_f1-score': 0.30974573716103165, 'balanced_accuracy': 0.32340859938986927, 'mcc': 0.5112305023650843, 'train_loss': 0.6928037448854345}\n",
      "Epoch 13/20\n"
     ]
    },
    {
     "name": "stderr",
     "output_type": "stream",
     "text": [
      "100%|██████████| 328/328 [00:31<00:00, 10.51it/s]\n"
     ]
    },
    {
     "name": "stdout",
     "output_type": "stream",
     "text": [
      "{'val_loss': 1.716035320491689, 'val_accuracy': 0.6163234172387491, 'precision': 0.6167791761013856, 'recall': 0.6163234172387491, 'f1-score': 0.6121973108098796, 'macro_f1-score': 0.3192836628369755, 'balanced_accuracy': 0.3281443077761846, 'mcc': 0.5025407699106441, 'train_loss': 0.6025298754116748}\n",
      "Epoch 14/20\n"
     ]
    },
    {
     "name": "stderr",
     "output_type": "stream",
     "text": [
      "100%|██████████| 328/328 [00:31<00:00, 10.52it/s]\n"
     ]
    },
    {
     "name": "stdout",
     "output_type": "stream",
     "text": [
      "{'val_loss': 1.7467006717513247, 'val_accuracy': 0.6117467581998475, 'precision': 0.5847205830193416, 'recall': 0.6117467581998475, 'f1-score': 0.594030503186595, 'macro_f1-score': 0.3147811903452087, 'balanced_accuracy': 0.3140092520105656, 'mcc': 0.4839824639972494, 'train_loss': 0.5319623047508663}\n",
      "Epoch 15/20\n"
     ]
    },
    {
     "name": "stderr",
     "output_type": "stream",
     "text": [
      "100%|██████████| 328/328 [00:31<00:00, 10.54it/s]\n"
     ]
    },
    {
     "name": "stdout",
     "output_type": "stream",
     "text": [
      "{'val_loss': 1.738782942476796, 'val_accuracy': 0.623951182303585, 'precision': 0.6271621611522812, 'recall': 0.623951182303585, 'f1-score': 0.6202407475661958, 'macro_f1-score': 0.34204147445029515, 'balanced_accuracy': 0.3610532163244911, 'mcc': 0.5144028033561729, 'train_loss': 0.48703446435719366}\n",
      "Epoch 16/20\n"
     ]
    },
    {
     "name": "stderr",
     "output_type": "stream",
     "text": [
      "100%|██████████| 328/328 [00:30<00:00, 10.58it/s]\n"
     ]
    },
    {
     "name": "stdout",
     "output_type": "stream",
     "text": [
      "{'val_loss': 1.812903308105178, 'val_accuracy': 0.6170861937452327, 'precision': 0.6290511873047577, 'recall': 0.6170861937452327, 'f1-score': 0.6162667809059764, 'macro_f1-score': 0.3240029047610155, 'balanced_accuracy': 0.32668318158128695, 'mcc': 0.5002841090822907, 'train_loss': 0.4160024495454641}\n",
      "Epoch 17/20\n"
     ]
    },
    {
     "name": "stderr",
     "output_type": "stream",
     "text": [
      "100%|██████████| 328/328 [00:30<00:00, 10.63it/s]\n"
     ]
    },
    {
     "name": "stdout",
     "output_type": "stream",
     "text": [
      "{'val_loss': 1.891161641424022, 'val_accuracy': 0.6346300533943554, 'precision': 0.6254989419930049, 'recall': 0.6346300533943554, 'f1-score': 0.6214921074400207, 'macro_f1-score': 0.35047082850382355, 'balanced_accuracy': 0.3409252905720737, 'mcc': 0.51250557302492, 'train_loss': 0.3937547075130591}\n",
      "Epoch 18/20\n"
     ]
    },
    {
     "name": "stderr",
     "output_type": "stream",
     "text": [
      "100%|██████████| 328/328 [00:31<00:00, 10.49it/s]\n"
     ]
    },
    {
     "name": "stdout",
     "output_type": "stream",
     "text": [
      "{'val_loss': 1.8450122333881331, 'val_accuracy': 0.6323417238749046, 'precision': 0.6391838164937678, 'recall': 0.6323417238749046, 'f1-score': 0.6293576172375746, 'macro_f1-score': 0.3583001619945232, 'balanced_accuracy': 0.37163000969221244, 'mcc': 0.5229795449809138, 'train_loss': 0.3580287096613064}\n",
      "Epoch 19/20\n"
     ]
    },
    {
     "name": "stderr",
     "output_type": "stream",
     "text": [
      "100%|██████████| 328/328 [00:30<00:00, 10.63it/s]\n"
     ]
    },
    {
     "name": "stdout",
     "output_type": "stream",
     "text": [
      "{'val_loss': 1.8274562394291889, 'val_accuracy': 0.623951182303585, 'precision': 0.6316317233242037, 'recall': 0.623951182303585, 'f1-score': 0.6190771389781464, 'macro_f1-score': 0.34549720071382534, 'balanced_accuracy': 0.3602155325562803, 'mcc': 0.5104471142070836, 'train_loss': 0.3389888082505999}\n",
      "Epoch 20/20\n"
     ]
    },
    {
     "name": "stderr",
     "output_type": "stream",
     "text": [
      "100%|██████████| 328/328 [00:30<00:00, 10.61it/s]\n"
     ]
    },
    {
     "name": "stdout",
     "output_type": "stream",
     "text": [
      "{'val_loss': 1.9200046562203548, 'val_accuracy': 0.6384439359267735, 'precision': 0.6264454056723768, 'recall': 0.6384439359267735, 'f1-score': 0.6258974092985086, 'macro_f1-score': 0.3534162733734234, 'balanced_accuracy': 0.35203125341783675, 'mcc': 0.5164539456930645, 'train_loss': 0.3046855150193839}\n",
      "\n",
      "[Fold 5]\n",
      "Label distribution after resampling:\n",
      "  label 0: 2472\n",
      "  label 1: 21\n",
      "  label 2: 64\n",
      "  label 3: 24\n",
      "  label 4: 191\n",
      "  label 5: 112\n",
      "  label 6: 92\n",
      "  label 7: 31\n",
      "  label 8: 68\n",
      "  label 9: 29\n",
      "  label 10: 68\n",
      "  label 11: 168\n",
      "  label 12: 190\n",
      "  label 13: 29\n",
      "  label 14: 22\n",
      "  label 15: 25\n",
      "  label 16: 19\n",
      "  label 17: 183\n",
      "  label 18: 92\n",
      "  label 19: 44\n",
      "  label 20: 14\n",
      "  label 21: 35\n",
      "  label 22: 76\n",
      "  label 23: 158\n",
      "  label 24: 13\n",
      "  label 25: 44\n",
      "  label 26: 84\n",
      "  label 27: 48\n",
      "  label 28: 11\n",
      "  label 29: 13\n",
      "  label 30: 11\n",
      "  label 31: 75\n",
      "  label 32: 36\n",
      "  label 33: 31\n",
      "  label 34: 30\n",
      "  label 35: 11\n",
      "  label 36: 22\n",
      "  label 37: 16\n",
      "  label 38: 33\n",
      "  label 39: 10\n",
      "  label 40: 9\n",
      "  label 41: 57\n",
      "  label 42: 18\n",
      "  label 43: 9\n",
      "  label 44: 54\n",
      "  label 45: 242\n",
      "  label 46: 61\n",
      "  label 47: 80\n",
      "model is roberta-base bilstm\n"
     ]
    },
    {
     "name": "stderr",
     "output_type": "stream",
     "text": [
      "Some weights of RobertaModel were not initialized from the model checkpoint at roberta-base and are newly initialized: ['pooler.dense.bias', 'pooler.dense.weight']\n",
      "You should probably TRAIN this model on a down-stream task to be able to use it for predictions and inference.\n"
     ]
    },
    {
     "name": "stdout",
     "output_type": "stream",
     "text": [
      "Epoch 1/20\n"
     ]
    },
    {
     "name": "stderr",
     "output_type": "stream",
     "text": [
      "100%|██████████| 328/328 [00:31<00:00, 10.51it/s]\n"
     ]
    },
    {
     "name": "stdout",
     "output_type": "stream",
     "text": [
      "{'val_loss': 2.096565414492677, 'val_accuracy': 0.528604118993135, 'precision': 0.32072392260890464, 'recall': 0.528604118993135, 'f1-score': 0.3985599384175154, 'macro_f1-score': 0.04173507440493326, 'balanced_accuracy': 0.059756510601259555, 'mcc': 0.2928726320126069, 'train_loss': 2.338761668016271}\n",
      "Epoch 2/20\n"
     ]
    },
    {
     "name": "stderr",
     "output_type": "stream",
     "text": [
      "100%|██████████| 328/328 [00:31<00:00, 10.55it/s]\n"
     ]
    },
    {
     "name": "stdout",
     "output_type": "stream",
     "text": [
      "{'val_loss': 1.8743134707939335, 'val_accuracy': 0.5575896262395118, 'precision': 0.37963350285164144, 'recall': 0.5575896262395118, 'f1-score': 0.43775265947654807, 'macro_f1-score': 0.06468475719355939, 'balanced_accuracy': 0.08118424824331048, 'mcc': 0.3465712882076027, 'train_loss': 1.9663036594667085}\n",
      "Epoch 3/20\n"
     ]
    },
    {
     "name": "stderr",
     "output_type": "stream",
     "text": [
      "100%|██████████| 328/328 [00:31<00:00, 10.57it/s]\n"
     ]
    },
    {
     "name": "stdout",
     "output_type": "stream",
     "text": [
      "{'val_loss': 1.7156735462386434, 'val_accuracy': 0.562929061784897, 'precision': 0.38860324581821415, 'recall': 0.562929061784897, 'f1-score': 0.4514273559908099, 'macro_f1-score': 0.07186147192823215, 'balanced_accuracy': 0.09438869445870098, 'mcc': 0.3717139211093153, 'train_loss': 1.7773028897439562}\n",
      "Epoch 4/20\n"
     ]
    },
    {
     "name": "stderr",
     "output_type": "stream",
     "text": [
      "100%|██████████| 328/328 [00:30<00:00, 10.64it/s]\n"
     ]
    },
    {
     "name": "stdout",
     "output_type": "stream",
     "text": [
      "{'val_loss': 1.664037016106815, 'val_accuracy': 0.585812356979405, 'precision': 0.4580889239475742, 'recall': 0.585812356979405, 'f1-score': 0.5028795150931502, 'macro_f1-score': 0.1254046646538258, 'balanced_accuracy': 0.14250820725733285, 'mcc': 0.41958506218921815, 'train_loss': 1.5761441758311376}\n",
      "Epoch 5/20\n"
     ]
    },
    {
     "name": "stderr",
     "output_type": "stream",
     "text": [
      "100%|██████████| 328/328 [00:31<00:00, 10.55it/s]\n"
     ]
    },
    {
     "name": "stdout",
     "output_type": "stream",
     "text": [
      "{'val_loss': 1.549891306859691, 'val_accuracy': 0.5980167810831426, 'precision': 0.5030678804711307, 'recall': 0.5980167810831426, 'f1-score': 0.5417789106016448, 'macro_f1-score': 0.16254407972024273, 'balanced_accuracy': 0.1709154773155037, 'mcc': 0.44416034097555807, 'train_loss': 1.4157738552951231}\n",
      "Epoch 6/20\n"
     ]
    },
    {
     "name": "stderr",
     "output_type": "stream",
     "text": [
      "100%|██████████| 328/328 [00:31<00:00, 10.53it/s]\n"
     ]
    },
    {
     "name": "stdout",
     "output_type": "stream",
     "text": [
      "{'val_loss': 1.5188214306424304, 'val_accuracy': 0.6109839816933639, 'precision': 0.528710411975402, 'recall': 0.6109839816933639, 'f1-score': 0.5573237503767986, 'macro_f1-score': 0.19073812782948205, 'balanced_accuracy': 0.20556526443961656, 'mcc': 0.4670595951546256, 'train_loss': 1.2424390670366403}\n",
      "Epoch 7/20\n"
     ]
    },
    {
     "name": "stderr",
     "output_type": "stream",
     "text": [
      "100%|██████████| 328/328 [00:30<00:00, 10.62it/s]\n"
     ]
    },
    {
     "name": "stdout",
     "output_type": "stream",
     "text": [
      "{'val_loss': 1.4955688398785707, 'val_accuracy': 0.623951182303585, 'precision': 0.5752308760420916, 'recall': 0.623951182303585, 'f1-score': 0.583972493820066, 'macro_f1-score': 0.243316539949193, 'balanced_accuracy': 0.25024866794442896, 'mcc': 0.49526281347053785, 'train_loss': 1.0857170396370859}\n",
      "Epoch 8/20\n"
     ]
    },
    {
     "name": "stderr",
     "output_type": "stream",
     "text": [
      "100%|██████████| 328/328 [00:31<00:00, 10.57it/s]\n"
     ]
    },
    {
     "name": "stdout",
     "output_type": "stream",
     "text": [
      "{'val_loss': 1.5202743043986762, 'val_accuracy': 0.6147978642257819, 'precision': 0.5873597465201104, 'recall': 0.6147978642257819, 'f1-score': 0.5903693125757348, 'macro_f1-score': 0.26229643842258543, 'balanced_accuracy': 0.27335729669209946, 'mcc': 0.49661536700554415, 'train_loss': 0.9638761595436712}\n",
      "Epoch 9/20\n"
     ]
    },
    {
     "name": "stderr",
     "output_type": "stream",
     "text": [
      "100%|██████████| 328/328 [00:31<00:00, 10.56it/s]\n"
     ]
    },
    {
     "name": "stdout",
     "output_type": "stream",
     "text": [
      "{'val_loss': 1.4702309464536063, 'val_accuracy': 0.6285278413424866, 'precision': 0.6115232462588386, 'recall': 0.6285278413424866, 'f1-score': 0.6056525766755073, 'macro_f1-score': 0.28928878258157975, 'balanced_accuracy': 0.29995814200214244, 'mcc': 0.5074127319469539, 'train_loss': 0.8455055044146209}\n",
      "Epoch 10/20\n"
     ]
    },
    {
     "name": "stderr",
     "output_type": "stream",
     "text": [
      "100%|██████████| 328/328 [00:30<00:00, 10.63it/s]\n"
     ]
    },
    {
     "name": "stdout",
     "output_type": "stream",
     "text": [
      "{'val_loss': 1.537735574492594, 'val_accuracy': 0.6346300533943554, 'precision': 0.6268678956371271, 'recall': 0.6346300533943554, 'f1-score': 0.6197356607302302, 'macro_f1-score': 0.2833556217706526, 'balanced_accuracy': 0.28387235736574834, 'mcc': 0.5172530018134527, 'train_loss': 0.760942215985823}\n",
      "Epoch 11/20\n"
     ]
    },
    {
     "name": "stderr",
     "output_type": "stream",
     "text": [
      "100%|██████████| 328/328 [00:31<00:00, 10.52it/s]\n"
     ]
    },
    {
     "name": "stdout",
     "output_type": "stream",
     "text": [
      "{'val_loss': 1.583430611505741, 'val_accuracy': 0.6163234172387491, 'precision': 0.6200719470583655, 'recall': 0.6163234172387491, 'f1-score': 0.6093739725947325, 'macro_f1-score': 0.3369440593973967, 'balanced_accuracy': 0.36196170818599, 'mcc': 0.5094742934213935, 'train_loss': 0.6330425175497445}\n",
      "Epoch 12/20\n"
     ]
    },
    {
     "name": "stderr",
     "output_type": "stream",
     "text": [
      "100%|██████████| 328/328 [00:31<00:00, 10.40it/s]\n"
     ]
    },
    {
     "name": "stdout",
     "output_type": "stream",
     "text": [
      "{'val_loss': 1.6616226518299522, 'val_accuracy': 0.6132723112128147, 'precision': 0.6240531466632242, 'recall': 0.6132723112128147, 'f1-score': 0.6091710650628323, 'macro_f1-score': 0.3082632015464966, 'balanced_accuracy': 0.3409724914903245, 'mcc': 0.5108378418417047, 'train_loss': 0.5611860238061082}\n",
      "Epoch 13/20\n"
     ]
    },
    {
     "name": "stderr",
     "output_type": "stream",
     "text": [
      "100%|██████████| 328/328 [00:30<00:00, 10.63it/s]\n"
     ]
    },
    {
     "name": "stdout",
     "output_type": "stream",
     "text": [
      "{'val_loss': 1.6853119382044164, 'val_accuracy': 0.6285278413424866, 'precision': 0.6213419669121313, 'recall': 0.6285278413424866, 'f1-score': 0.6156375472808147, 'macro_f1-score': 0.31541270987539166, 'balanced_accuracy': 0.3484371180758287, 'mcc': 0.5194018197076565, 'train_loss': 0.4647300082043086}\n",
      "Epoch 14/20\n"
     ]
    },
    {
     "name": "stderr",
     "output_type": "stream",
     "text": [
      "100%|██████████| 328/328 [00:30<00:00, 10.59it/s]\n"
     ]
    },
    {
     "name": "stdout",
     "output_type": "stream",
     "text": [
      "{'val_loss': 1.673032407717007, 'val_accuracy': 0.6376811594202898, 'precision': 0.6285140755507961, 'recall': 0.6376811594202898, 'f1-score': 0.6220575475279126, 'macro_f1-score': 0.34420230440581845, 'balanced_accuracy': 0.34255162632717306, 'mcc': 0.5210284745161445, 'train_loss': 0.452821033183349}\n",
      "Epoch 15/20\n"
     ]
    },
    {
     "name": "stderr",
     "output_type": "stream",
     "text": [
      "100%|██████████| 328/328 [00:30<00:00, 10.59it/s]\n"
     ]
    },
    {
     "name": "stdout",
     "output_type": "stream",
     "text": [
      "{'val_loss': 1.6242364128915274, 'val_accuracy': 0.6346300533943554, 'precision': 0.6440907421641383, 'recall': 0.6346300533943554, 'f1-score': 0.6309525015819046, 'macro_f1-score': 0.3508437800198207, 'balanced_accuracy': 0.37122340185314967, 'mcc': 0.5309937978739422, 'train_loss': 0.4079261197674474}\n",
      "Epoch 16/20\n"
     ]
    },
    {
     "name": "stderr",
     "output_type": "stream",
     "text": [
      "100%|██████████| 328/328 [00:31<00:00, 10.57it/s]\n"
     ]
    },
    {
     "name": "stdout",
     "output_type": "stream",
     "text": [
      "{'val_loss': 1.7470981438712376, 'val_accuracy': 0.6102212051868803, 'precision': 0.644563086822169, 'recall': 0.6102212051868803, 'f1-score': 0.6178860513523394, 'macro_f1-score': 0.3598309238172292, 'balanced_accuracy': 0.39136785288793235, 'mcc': 0.5078582449313671, 'train_loss': 0.3504747127796092}\n",
      "Epoch 17/20\n"
     ]
    },
    {
     "name": "stderr",
     "output_type": "stream",
     "text": [
      "100%|██████████| 328/328 [00:30<00:00, 10.61it/s]\n"
     ]
    },
    {
     "name": "stdout",
     "output_type": "stream",
     "text": [
      "{'val_loss': 1.8413536323279869, 'val_accuracy': 0.6224256292906178, 'precision': 0.6445698128254207, 'recall': 0.6224256292906178, 'f1-score': 0.6242408107455804, 'macro_f1-score': 0.33884103938050925, 'balanced_accuracy': 0.3396132354503676, 'mcc': 0.5138459573809361, 'train_loss': 0.30111554325217516}\n",
      "Epoch 18/20\n"
     ]
    },
    {
     "name": "stderr",
     "output_type": "stream",
     "text": [
      "100%|██████████| 328/328 [00:30<00:00, 10.65it/s]\n"
     ]
    },
    {
     "name": "stdout",
     "output_type": "stream",
     "text": [
      "{'val_loss': 1.8216224596267794, 'val_accuracy': 0.6445461479786423, 'precision': 0.6312014797941581, 'recall': 0.6445461479786423, 'f1-score': 0.6305419961510049, 'macro_f1-score': 0.34771463784042617, 'balanced_accuracy': 0.34128537119485247, 'mcc': 0.5272203133294947, 'train_loss': 0.2904310774160322}\n",
      "Epoch 19/20\n"
     ]
    },
    {
     "name": "stderr",
     "output_type": "stream",
     "text": [
      "100%|██████████| 328/328 [00:31<00:00, 10.47it/s]\n"
     ]
    },
    {
     "name": "stdout",
     "output_type": "stream",
     "text": [
      "{'val_loss': 1.8141904782231262, 'val_accuracy': 0.6407322654462243, 'precision': 0.6512123722795053, 'recall': 0.6407322654462243, 'f1-score': 0.6401906411105579, 'macro_f1-score': 0.3724828307009636, 'balanced_accuracy': 0.38068316921641543, 'mcc': 0.5348298213090393, 'train_loss': 0.23649124965276114}\n",
      "Epoch 20/20\n"
     ]
    },
    {
     "name": "stderr",
     "output_type": "stream",
     "text": [
      "100%|██████████| 328/328 [00:30<00:00, 10.61it/s]\n"
     ]
    },
    {
     "name": "stdout",
     "output_type": "stream",
     "text": [
      "{'val_loss': 1.7482130854594997, 'val_accuracy': 0.6300533943554538, 'precision': 0.6533665004329334, 'recall': 0.6300533943554538, 'f1-score': 0.6286476446218496, 'macro_f1-score': 0.3697911997233338, 'balanced_accuracy': 0.38198080829162073, 'mcc': 0.5184823772329351, 'train_loss': 0.23424732631424489}\n",
      "\n",
      " === roberta-base + bilstm + none Final 5-fold Cross-Validation Results ===\n",
      "val_loss: 1.8764\n",
      "val_accuracy: 0.6200\n",
      "precision: 0.6262\n",
      "recall: 0.6200\n",
      "f1-score: 0.6161\n",
      "macro_f1-score: 0.3434\n",
      "balanced_accuracy: 0.3546\n",
      "mcc: 0.5064\n",
      "train_loss: 0.3824\n",
      "total_seconds: 3419.0000\n",
      "total_time: 0 hrs 56 mins 59 secs\n",
      "▶ Running: microsoft/deberta-base + plain + none\n",
      "tokenizer is microsoft/deberta-base\n",
      "Using device: cuda\n",
      "CUDA Available: True\n",
      "CUDA Device: NVIDIA GeForce RTX 5070 Ti\n",
      "Current GPU Memory Allocated: 0.02 GB\n",
      "Current GPU Memory Cached: 3.82 GB\n",
      "\n",
      "[Fold 1]\n",
      "Label distribution after resampling:\n",
      "  label 0: 2471\n",
      "  label 1: 21\n",
      "  label 2: 64\n",
      "  label 3: 24\n",
      "  label 4: 191\n",
      "  label 5: 113\n",
      "  label 6: 93\n",
      "  label 7: 30\n",
      "  label 8: 68\n",
      "  label 9: 30\n",
      "  label 10: 67\n",
      "  label 11: 169\n",
      "  label 12: 189\n",
      "  label 13: 29\n",
      "  label 14: 22\n",
      "  label 15: 25\n",
      "  label 16: 19\n",
      "  label 17: 183\n",
      "  label 18: 92\n",
      "  label 19: 44\n",
      "  label 20: 13\n",
      "  label 21: 35\n",
      "  label 22: 76\n",
      "  label 23: 158\n",
      "  label 24: 13\n",
      "  label 25: 44\n",
      "  label 26: 84\n",
      "  label 27: 48\n",
      "  label 28: 11\n",
      "  label 29: 13\n",
      "  label 30: 11\n",
      "  label 31: 75\n",
      "  label 32: 36\n",
      "  label 33: 32\n",
      "  label 34: 29\n",
      "  label 35: 11\n",
      "  label 36: 22\n",
      "  label 37: 16\n",
      "  label 38: 33\n",
      "  label 39: 10\n",
      "  label 40: 9\n",
      "  label 41: 57\n",
      "  label 42: 19\n",
      "  label 43: 8\n",
      "  label 44: 54\n",
      "  label 45: 242\n",
      "  label 46: 61\n",
      "  label 47: 80\n",
      "model is microsoft/deberta-base\n"
     ]
    },
    {
     "name": "stderr",
     "output_type": "stream",
     "text": [
      "Some weights of DebertaForSequenceClassification were not initialized from the model checkpoint at microsoft/deberta-base and are newly initialized: ['classifier.bias', 'classifier.weight', 'pooler.dense.bias', 'pooler.dense.weight']\n",
      "You should probably TRAIN this model on a down-stream task to be able to use it for predictions and inference.\n"
     ]
    },
    {
     "name": "stdout",
     "output_type": "stream",
     "text": [
      "Epoch 1/20\n"
     ]
    },
    {
     "name": "stderr",
     "output_type": "stream",
     "text": [
      "100%|██████████| 328/328 [00:33<00:00,  9.84it/s]\n"
     ]
    },
    {
     "name": "stdout",
     "output_type": "stream",
     "text": [
      "{'val_loss': 1.8587939248579304, 'val_accuracy': 0.5350609756097561, 'precision': 0.39438602611583273, 'recall': 0.5350609756097561, 'f1-score': 0.4415784483426538, 'macro_f1-score': 0.06520908134327762, 'balanced_accuracy': 0.08856611675977054, 'mcc': 0.33062218260796483, 'train_loss': 2.1585929333800222}\n",
      "Epoch 2/20\n"
     ]
    },
    {
     "name": "stderr",
     "output_type": "stream",
     "text": [
      "100%|██████████| 328/328 [00:33<00:00,  9.84it/s]\n"
     ]
    },
    {
     "name": "stdout",
     "output_type": "stream",
     "text": [
      "{'val_loss': 1.6155314745336045, 'val_accuracy': 0.5853658536585366, 'precision': 0.48836249786223856, 'recall': 0.5853658536585366, 'f1-score': 0.49977143664526175, 'macro_f1-score': 0.16519865339467435, 'balanced_accuracy': 0.16072218558030327, 'mcc': 0.3967396721893236, 'train_loss': 1.558091261037966}\n",
      "Epoch 3/20\n"
     ]
    },
    {
     "name": "stderr",
     "output_type": "stream",
     "text": [
      "100%|██████████| 328/328 [00:33<00:00,  9.89it/s]\n"
     ]
    },
    {
     "name": "stdout",
     "output_type": "stream",
     "text": [
      "{'val_loss': 1.496594290544347, 'val_accuracy': 0.5922256097560976, 'precision': 0.560287466915019, 'recall': 0.5922256097560976, 'f1-score': 0.5616547119456884, 'macro_f1-score': 0.22277136927497612, 'balanced_accuracy': 0.2302157276272939, 'mcc': 0.44902895460558956, 'train_loss': 1.2146504510466645}\n",
      "Epoch 4/20\n"
     ]
    },
    {
     "name": "stderr",
     "output_type": "stream",
     "text": [
      "100%|██████████| 328/328 [00:33<00:00,  9.87it/s]\n"
     ]
    },
    {
     "name": "stdout",
     "output_type": "stream",
     "text": [
      "{'val_loss': 1.5854449337575494, 'val_accuracy': 0.6166158536585366, 'precision': 0.5620140324099017, 'recall': 0.6166158536585366, 'f1-score': 0.5604120469555337, 'macro_f1-score': 0.25533513472926866, 'balanced_accuracy': 0.22729586489607304, 'mcc': 0.4524055375933218, 'train_loss': 0.9298180604308117}\n",
      "Epoch 5/20\n"
     ]
    },
    {
     "name": "stderr",
     "output_type": "stream",
     "text": [
      "100%|██████████| 328/328 [00:33<00:00,  9.87it/s]\n"
     ]
    },
    {
     "name": "stdout",
     "output_type": "stream",
     "text": [
      "{'val_loss': 1.4326131881737127, 'val_accuracy': 0.631859756097561, 'precision': 0.621748950708857, 'recall': 0.631859756097561, 'f1-score': 0.6170849449970595, 'macro_f1-score': 0.35095276431583433, 'balanced_accuracy': 0.34918685293942725, 'mcc': 0.5141146780600901, 'train_loss': 0.6794523619933099}\n",
      "Epoch 6/20\n"
     ]
    },
    {
     "name": "stderr",
     "output_type": "stream",
     "text": [
      "100%|██████████| 328/328 [00:33<00:00,  9.86it/s]\n"
     ]
    },
    {
     "name": "stdout",
     "output_type": "stream",
     "text": [
      "{'val_loss': 1.619367104023695, 'val_accuracy': 0.6219512195121951, 'precision': 0.6429790674525092, 'recall': 0.6219512195121951, 'f1-score': 0.6178059707479142, 'macro_f1-score': 0.34016354779013386, 'balanced_accuracy': 0.34478262349343947, 'mcc': 0.5161807809713106, 'train_loss': 0.4776015611161001}\n",
      "Epoch 7/20\n"
     ]
    },
    {
     "name": "stderr",
     "output_type": "stream",
     "text": [
      "100%|██████████| 328/328 [00:33<00:00,  9.90it/s]\n"
     ]
    },
    {
     "name": "stdout",
     "output_type": "stream",
     "text": [
      "{'val_loss': 1.7388022462042367, 'val_accuracy': 0.6432926829268293, 'precision': 0.6215121008661463, 'recall': 0.6432926829268293, 'f1-score': 0.6172558094338403, 'macro_f1-score': 0.35299392520350087, 'balanced_accuracy': 0.34066093489680976, 'mcc': 0.5109936737202196, 'train_loss': 0.3464262853660507}\n",
      "Epoch 8/20\n"
     ]
    },
    {
     "name": "stderr",
     "output_type": "stream",
     "text": [
      "100%|██████████| 328/328 [00:33<00:00,  9.87it/s]\n"
     ]
    },
    {
     "name": "stdout",
     "output_type": "stream",
     "text": [
      "{'val_loss': 1.9726308046317682, 'val_accuracy': 0.6341463414634146, 'precision': 0.6096554644176807, 'recall': 0.6341463414634146, 'f1-score': 0.6013260254101215, 'macro_f1-score': 0.35174091613974684, 'balanced_accuracy': 0.32983003024105034, 'mcc': 0.49191686791231387, 'train_loss': 0.2342574467467962}\n",
      "Epoch 9/20\n"
     ]
    },
    {
     "name": "stderr",
     "output_type": "stream",
     "text": [
      "100%|██████████| 328/328 [00:33<00:00,  9.87it/s]\n"
     ]
    },
    {
     "name": "stdout",
     "output_type": "stream",
     "text": [
      "{'val_loss': 1.973823362552538, 'val_accuracy': 0.6410060975609756, 'precision': 0.6250476076807249, 'recall': 0.6410060975609756, 'f1-score': 0.6186332792278865, 'macro_f1-score': 0.3733942142580358, 'balanced_accuracy': 0.3580243639893074, 'mcc': 0.5112006036534096, 'train_loss': 0.19398919488132998}\n",
      "Epoch 10/20\n"
     ]
    },
    {
     "name": "stderr",
     "output_type": "stream",
     "text": [
      "100%|██████████| 328/328 [00:33<00:00,  9.88it/s]\n"
     ]
    },
    {
     "name": "stdout",
     "output_type": "stream",
     "text": [
      "{'val_loss': 2.03884562668277, 'val_accuracy': 0.649390243902439, 'precision': 0.6223281204106228, 'recall': 0.649390243902439, 'f1-score': 0.628489328211897, 'macro_f1-score': 0.37719425012709146, 'balanced_accuracy': 0.3667378355950406, 'mcc': 0.5247640076623287, 'train_loss': 0.15265082382091616}\n",
      "Epoch 11/20\n"
     ]
    },
    {
     "name": "stderr",
     "output_type": "stream",
     "text": [
      "100%|██████████| 328/328 [00:33<00:00,  9.86it/s]\n"
     ]
    },
    {
     "name": "stdout",
     "output_type": "stream",
     "text": [
      "{'val_loss': 2.0325549084965777, 'val_accuracy': 0.6265243902439024, 'precision': 0.6226272337462436, 'recall': 0.6265243902439024, 'f1-score': 0.6152014584826566, 'macro_f1-score': 0.3617072945227143, 'balanced_accuracy': 0.3535743200393246, 'mcc': 0.4979559854101994, 'train_loss': 0.1361467034581526}\n",
      "Epoch 12/20\n"
     ]
    },
    {
     "name": "stderr",
     "output_type": "stream",
     "text": [
      "100%|██████████| 328/328 [00:33<00:00,  9.85it/s]\n"
     ]
    },
    {
     "name": "stdout",
     "output_type": "stream",
     "text": [
      "{'val_loss': 2.099680922743751, 'val_accuracy': 0.6410060975609756, 'precision': 0.6232616916441354, 'recall': 0.6410060975609756, 'f1-score': 0.6175708528757514, 'macro_f1-score': 0.36145517442440916, 'balanced_accuracy': 0.3467146497936753, 'mcc': 0.5109565925711682, 'train_loss': 0.12116839846868704}\n",
      "Epoch 13/20\n"
     ]
    },
    {
     "name": "stderr",
     "output_type": "stream",
     "text": [
      "100%|██████████| 328/328 [00:33<00:00,  9.90it/s]\n"
     ]
    },
    {
     "name": "stdout",
     "output_type": "stream",
     "text": [
      "{'val_loss': 2.2460629000532917, 'val_accuracy': 0.645579268292683, 'precision': 0.6266138061468701, 'recall': 0.645579268292683, 'f1-score': 0.6261978308166897, 'macro_f1-score': 0.3888557470651195, 'balanced_accuracy': 0.3809464433913235, 'mcc': 0.5182295679920216, 'train_loss': 0.1036995936060188}\n",
      "Epoch 14/20\n"
     ]
    },
    {
     "name": "stderr",
     "output_type": "stream",
     "text": [
      "100%|██████████| 328/328 [00:33<00:00,  9.84it/s]\n"
     ]
    },
    {
     "name": "stdout",
     "output_type": "stream",
     "text": [
      "{'val_loss': 2.2266472330907496, 'val_accuracy': 0.6463414634146342, 'precision': 0.6315766794051696, 'recall': 0.6463414634146342, 'f1-score': 0.6299292828696981, 'macro_f1-score': 0.4016767412626121, 'balanced_accuracy': 0.3925920638162699, 'mcc': 0.5223545505857694, 'train_loss': 0.0960624271573601}\n",
      "Epoch 15/20\n"
     ]
    },
    {
     "name": "stderr",
     "output_type": "stream",
     "text": [
      "100%|██████████| 328/328 [00:33<00:00,  9.85it/s]\n"
     ]
    },
    {
     "name": "stdout",
     "output_type": "stream",
     "text": [
      "{'val_loss': 2.310299611854844, 'val_accuracy': 0.6440548780487805, 'precision': 0.6282195078744588, 'recall': 0.6440548780487805, 'f1-score': 0.6197514829128007, 'macro_f1-score': 0.37227955326523493, 'balanced_accuracy': 0.3609663438257133, 'mcc': 0.5145610849544717, 'train_loss': 0.08733268229826069}\n",
      "Epoch 16/20\n"
     ]
    },
    {
     "name": "stderr",
     "output_type": "stream",
     "text": [
      "100%|██████████| 328/328 [00:33<00:00,  9.86it/s]\n"
     ]
    },
    {
     "name": "stdout",
     "output_type": "stream",
     "text": [
      "{'val_loss': 2.127561544136303, 'val_accuracy': 0.6387195121951219, 'precision': 0.6402615525834303, 'recall': 0.6387195121951219, 'f1-score': 0.627786907990451, 'macro_f1-score': 0.415340018435894, 'balanced_accuracy': 0.40090669265723244, 'mcc': 0.5171417765435504, 'train_loss': 0.08865507492275977}\n",
      "Epoch 17/20\n"
     ]
    },
    {
     "name": "stderr",
     "output_type": "stream",
     "text": [
      "100%|██████████| 328/328 [00:33<00:00,  9.88it/s]\n"
     ]
    },
    {
     "name": "stdout",
     "output_type": "stream",
     "text": [
      "{'val_loss': 2.2028149758897175, 'val_accuracy': 0.6295731707317073, 'precision': 0.6433026939541403, 'recall': 0.6295731707317073, 'f1-score': 0.6249762719789171, 'macro_f1-score': 0.38457553084487245, 'balanced_accuracy': 0.3906101140148839, 'mcc': 0.5112781057464256, 'train_loss': 0.09311854794639923}\n",
      "Epoch 18/20\n"
     ]
    },
    {
     "name": "stderr",
     "output_type": "stream",
     "text": [
      "100%|██████████| 328/328 [00:33<00:00,  9.87it/s]\n"
     ]
    },
    {
     "name": "stdout",
     "output_type": "stream",
     "text": [
      "{'val_loss': 2.3641029040261015, 'val_accuracy': 0.6432926829268293, 'precision': 0.6218340251673478, 'recall': 0.6432926829268293, 'f1-score': 0.6159927016977549, 'macro_f1-score': 0.36490039025461085, 'balanced_accuracy': 0.34273248685246854, 'mcc': 0.5117407017512757, 'train_loss': 0.06530749588450928}\n",
      "Epoch 19/20\n"
     ]
    },
    {
     "name": "stderr",
     "output_type": "stream",
     "text": [
      "100%|██████████| 328/328 [00:33<00:00,  9.88it/s]\n"
     ]
    },
    {
     "name": "stdout",
     "output_type": "stream",
     "text": [
      "{'val_loss': 2.4936501114833645, 'val_accuracy': 0.6394817073170732, 'precision': 0.6110744104607356, 'recall': 0.6394817073170732, 'f1-score': 0.6062963112790166, 'macro_f1-score': 0.3560408479733554, 'balanced_accuracy': 0.31374994533498435, 'mcc': 0.4997341159193674, 'train_loss': 0.07337964852816119}\n",
      "Early stopping.\n",
      "\n",
      "[Fold 2]\n",
      "Label distribution after resampling:\n",
      "  label 0: 2471\n",
      "  label 1: 22\n",
      "  label 2: 64\n",
      "  label 3: 24\n",
      "  label 4: 190\n",
      "  label 5: 113\n",
      "  label 6: 93\n",
      "  label 7: 30\n",
      "  label 8: 68\n",
      "  label 9: 30\n",
      "  label 10: 67\n",
      "  label 11: 169\n",
      "  label 12: 189\n",
      "  label 13: 29\n",
      "  label 14: 23\n",
      "  label 15: 24\n",
      "  label 16: 20\n",
      "  label 17: 182\n",
      "  label 18: 92\n",
      "  label 19: 44\n",
      "  label 20: 13\n",
      "  label 21: 36\n",
      "  label 22: 76\n",
      "  label 23: 157\n",
      "  label 24: 12\n",
      "  label 25: 44\n",
      "  label 26: 84\n",
      "  label 27: 48\n",
      "  label 28: 12\n",
      "  label 29: 12\n",
      "  label 30: 12\n",
      "  label 31: 75\n",
      "  label 32: 36\n",
      "  label 33: 31\n",
      "  label 34: 29\n",
      "  label 35: 12\n",
      "  label 36: 21\n",
      "  label 37: 16\n",
      "  label 38: 33\n",
      "  label 39: 11\n",
      "  label 40: 8\n",
      "  label 41: 57\n",
      "  label 42: 19\n",
      "  label 43: 9\n",
      "  label 44: 54\n",
      "  label 45: 242\n",
      "  label 46: 62\n",
      "  label 47: 80\n",
      "model is microsoft/deberta-base\n"
     ]
    },
    {
     "name": "stderr",
     "output_type": "stream",
     "text": [
      "Some weights of DebertaForSequenceClassification were not initialized from the model checkpoint at microsoft/deberta-base and are newly initialized: ['classifier.bias', 'classifier.weight', 'pooler.dense.bias', 'pooler.dense.weight']\n",
      "You should probably TRAIN this model on a down-stream task to be able to use it for predictions and inference.\n"
     ]
    },
    {
     "name": "stdout",
     "output_type": "stream",
     "text": [
      "Epoch 1/20\n"
     ]
    },
    {
     "name": "stderr",
     "output_type": "stream",
     "text": [
      "100%|██████████| 328/328 [00:33<00:00,  9.88it/s]\n"
     ]
    },
    {
     "name": "stdout",
     "output_type": "stream",
     "text": [
      "{'val_loss': 1.7719106921335546, 'val_accuracy': 0.5675057208237986, 'precision': 0.3950025746505287, 'recall': 0.5675057208237986, 'f1-score': 0.4504255932993098, 'macro_f1-score': 0.07540261714640079, 'balanced_accuracy': 0.08832789561934244, 'mcc': 0.35944338100426726, 'train_loss': 2.208751461127909}\n",
      "Epoch 2/20\n"
     ]
    },
    {
     "name": "stderr",
     "output_type": "stream",
     "text": [
      "100%|██████████| 328/328 [00:33<00:00,  9.85it/s]\n"
     ]
    },
    {
     "name": "stdout",
     "output_type": "stream",
     "text": [
      "{'val_loss': 1.531836632548309, 'val_accuracy': 0.6048817696414951, 'precision': 0.5238439707651504, 'recall': 0.6048817696414951, 'f1-score': 0.5342980959347173, 'macro_f1-score': 0.16366631027583284, 'balanced_accuracy': 0.1814158692332927, 'mcc': 0.4462243773088471, 'train_loss': 1.6443229710183493}\n",
      "Epoch 3/20\n"
     ]
    },
    {
     "name": "stderr",
     "output_type": "stream",
     "text": [
      "100%|██████████| 328/328 [00:33<00:00,  9.87it/s]\n"
     ]
    },
    {
     "name": "stdout",
     "output_type": "stream",
     "text": [
      "{'val_loss': 1.3663991726026303, 'val_accuracy': 0.6178489702517163, 'precision': 0.579358800713087, 'recall': 0.6178489702517163, 'f1-score': 0.588054881222899, 'macro_f1-score': 0.2548681796335798, 'balanced_accuracy': 0.26701220441078516, 'mcc': 0.48999822140595767, 'train_loss': 1.2395556742643439}\n",
      "Epoch 4/20\n"
     ]
    },
    {
     "name": "stderr",
     "output_type": "stream",
     "text": [
      "100%|██████████| 328/328 [00:33<00:00,  9.90it/s]\n"
     ]
    },
    {
     "name": "stdout",
     "output_type": "stream",
     "text": [
      "{'val_loss': 1.4043685728456916, 'val_accuracy': 0.6407322654462243, 'precision': 0.5866999837278656, 'recall': 0.6407322654462243, 'f1-score': 0.5973704096532938, 'macro_f1-score': 0.27958461182385647, 'balanced_accuracy': 0.2736450769289382, 'mcc': 0.5032408464961253, 'train_loss': 0.9114130331521354}\n",
      "Epoch 5/20\n"
     ]
    },
    {
     "name": "stderr",
     "output_type": "stream",
     "text": [
      "100%|██████████| 328/328 [00:33<00:00,  9.88it/s]\n"
     ]
    },
    {
     "name": "stdout",
     "output_type": "stream",
     "text": [
      "{'val_loss': 1.4499052712103215, 'val_accuracy': 0.6559877955758963, 'precision': 0.6155721076429213, 'recall': 0.6559877955758963, 'f1-score': 0.6217381713445397, 'macro_f1-score': 0.30062244107513597, 'balanced_accuracy': 0.284714384547436, 'mcc': 0.5307783046708352, 'train_loss': 0.6834719971776372}\n",
      "Epoch 6/20\n"
     ]
    },
    {
     "name": "stderr",
     "output_type": "stream",
     "text": [
      "100%|██████████| 328/328 [00:33<00:00,  9.87it/s]\n"
     ]
    },
    {
     "name": "stdout",
     "output_type": "stream",
     "text": [
      "{'val_loss': 1.7579660735479214, 'val_accuracy': 0.6338672768878718, 'precision': 0.6170847462531197, 'recall': 0.6338672768878718, 'f1-score': 0.6008342330008437, 'macro_f1-score': 0.31646987581493763, 'balanced_accuracy': 0.3086264316119036, 'mcc': 0.4978840541615327, 'train_loss': 0.4466719995593516}\n",
      "Epoch 7/20\n"
     ]
    },
    {
     "name": "stderr",
     "output_type": "stream",
     "text": [
      "100%|██████████| 328/328 [00:33<00:00,  9.87it/s]\n"
     ]
    },
    {
     "name": "stdout",
     "output_type": "stream",
     "text": [
      "{'val_loss': 1.6731047997387445, 'val_accuracy': 0.6514111365369947, 'precision': 0.6248886765964234, 'recall': 0.6514111365369947, 'f1-score': 0.62130372736807, 'macro_f1-score': 0.32304846551976446, 'balanced_accuracy': 0.3255717053866987, 'mcc': 0.5291069460015996, 'train_loss': 0.3301002249155739}\n",
      "Epoch 8/20\n"
     ]
    },
    {
     "name": "stderr",
     "output_type": "stream",
     "text": [
      "100%|██████████| 328/328 [00:33<00:00,  9.87it/s]\n"
     ]
    },
    {
     "name": "stdout",
     "output_type": "stream",
     "text": [
      "{'val_loss': 1.7341057567334757, 'val_accuracy': 0.6361556064073226, 'precision': 0.641760396731824, 'recall': 0.6361556064073226, 'f1-score': 0.6240796876706369, 'macro_f1-score': 0.36037708105960736, 'balanced_accuracy': 0.354714114618103, 'mcc': 0.5195164717736273, 'train_loss': 0.2560611625951601}\n",
      "Epoch 9/20\n"
     ]
    },
    {
     "name": "stderr",
     "output_type": "stream",
     "text": [
      "100%|██████████| 328/328 [00:33<00:00,  9.87it/s]\n"
     ]
    },
    {
     "name": "stdout",
     "output_type": "stream",
     "text": [
      "{'val_loss': 1.8413623716773055, 'val_accuracy': 0.6727688787185355, 'precision': 0.634979218829304, 'recall': 0.6727688787185355, 'f1-score': 0.6420823431326994, 'macro_f1-score': 0.3836880256711197, 'balanced_accuracy': 0.3690840750375615, 'mcc': 0.5530648527131846, 'train_loss': 0.1826938654994592}\n",
      "Epoch 10/20\n"
     ]
    },
    {
     "name": "stderr",
     "output_type": "stream",
     "text": [
      "100%|██████████| 328/328 [00:33<00:00,  9.87it/s]\n"
     ]
    },
    {
     "name": "stdout",
     "output_type": "stream",
     "text": [
      "{'val_loss': 1.9054743276863564, 'val_accuracy': 0.6384439359267735, 'precision': 0.6348192144595836, 'recall': 0.6384439359267735, 'f1-score': 0.6271184695013146, 'macro_f1-score': 0.3415088128265011, 'balanced_accuracy': 0.3694565597939034, 'mcc': 0.5234561165257331, 'train_loss': 0.13001083493340623}\n",
      "Epoch 11/20\n"
     ]
    },
    {
     "name": "stderr",
     "output_type": "stream",
     "text": [
      "100%|██████████| 328/328 [00:33<00:00,  9.88it/s]\n"
     ]
    },
    {
     "name": "stdout",
     "output_type": "stream",
     "text": [
      "{'val_loss': 2.0027275201750965, 'val_accuracy': 0.6460717009916095, 'precision': 0.6308104357059058, 'recall': 0.6460717009916095, 'f1-score': 0.6277355965990812, 'macro_f1-score': 0.37012109144434097, 'balanced_accuracy': 0.36860615806513897, 'mcc': 0.5252061112303185, 'train_loss': 0.09758278815268834}\n",
      "Epoch 12/20\n"
     ]
    },
    {
     "name": "stderr",
     "output_type": "stream",
     "text": [
      "100%|██████████| 328/328 [00:33<00:00,  9.84it/s]\n"
     ]
    },
    {
     "name": "stdout",
     "output_type": "stream",
     "text": [
      "{'val_loss': 1.8514188680706956, 'val_accuracy': 0.6498855835240275, 'precision': 0.6413791242381597, 'recall': 0.6498855835240275, 'f1-score': 0.6359566279675424, 'macro_f1-score': 0.3825039691770253, 'balanced_accuracy': 0.39011061821113485, 'mcc': 0.5292984321637318, 'train_loss': 0.11462835466280501}\n",
      "Early stopping.\n",
      "\n",
      "[Fold 3]\n",
      "Label distribution after resampling:\n",
      "  label 0: 2471\n",
      "  label 1: 22\n",
      "  label 2: 64\n",
      "  label 3: 24\n",
      "  label 4: 190\n",
      "  label 5: 113\n",
      "  label 6: 93\n",
      "  label 7: 30\n",
      "  label 8: 68\n",
      "  label 9: 30\n",
      "  label 10: 67\n",
      "  label 11: 169\n",
      "  label 12: 190\n",
      "  label 13: 28\n",
      "  label 14: 23\n",
      "  label 15: 25\n",
      "  label 16: 19\n",
      "  label 17: 182\n",
      "  label 18: 92\n",
      "  label 19: 44\n",
      "  label 20: 14\n",
      "  label 21: 35\n",
      "  label 22: 76\n",
      "  label 23: 157\n",
      "  label 24: 13\n",
      "  label 25: 44\n",
      "  label 26: 84\n",
      "  label 27: 48\n",
      "  label 28: 11\n",
      "  label 29: 13\n",
      "  label 30: 11\n",
      "  label 31: 76\n",
      "  label 32: 36\n",
      "  label 33: 31\n",
      "  label 34: 30\n",
      "  label 35: 11\n",
      "  label 36: 21\n",
      "  label 37: 16\n",
      "  label 38: 32\n",
      "  label 39: 11\n",
      "  label 40: 9\n",
      "  label 41: 57\n",
      "  label 42: 18\n",
      "  label 43: 9\n",
      "  label 44: 55\n",
      "  label 45: 241\n",
      "  label 46: 62\n",
      "  label 47: 80\n",
      "model is microsoft/deberta-base\n"
     ]
    },
    {
     "name": "stderr",
     "output_type": "stream",
     "text": [
      "Some weights of DebertaForSequenceClassification were not initialized from the model checkpoint at microsoft/deberta-base and are newly initialized: ['classifier.bias', 'classifier.weight', 'pooler.dense.bias', 'pooler.dense.weight']\n",
      "You should probably TRAIN this model on a down-stream task to be able to use it for predictions and inference.\n"
     ]
    },
    {
     "name": "stdout",
     "output_type": "stream",
     "text": [
      "Epoch 1/20\n"
     ]
    },
    {
     "name": "stderr",
     "output_type": "stream",
     "text": [
      "100%|██████████| 328/328 [00:33<00:00,  9.87it/s]\n"
     ]
    },
    {
     "name": "stdout",
     "output_type": "stream",
     "text": [
      "{'val_loss': 1.7953858397355893, 'val_accuracy': 0.5697940503432495, 'precision': 0.4200938886961, 'recall': 0.5697940503432495, 'f1-score': 0.4574157303107734, 'macro_f1-score': 0.08962058063222879, 'balanced_accuracy': 0.11193479162515348, 'mcc': 0.37704063753567496, 'train_loss': 2.138968993886942}\n",
      "Epoch 2/20\n"
     ]
    },
    {
     "name": "stderr",
     "output_type": "stream",
     "text": [
      "100%|██████████| 328/328 [00:33<00:00,  9.86it/s]\n"
     ]
    },
    {
     "name": "stdout",
     "output_type": "stream",
     "text": [
      "{'val_loss': 1.5922611962731292, 'val_accuracy': 0.5957284515636918, 'precision': 0.5150222205340863, 'recall': 0.5957284515636918, 'f1-score': 0.5251216832590601, 'macro_f1-score': 0.17171648960955554, 'balanced_accuracy': 0.17143412574133512, 'mcc': 0.4236809826873404, 'train_loss': 1.5528497970322284}\n",
      "Epoch 3/20\n"
     ]
    },
    {
     "name": "stderr",
     "output_type": "stream",
     "text": [
      "100%|██████████| 328/328 [00:33<00:00,  9.87it/s]\n"
     ]
    },
    {
     "name": "stdout",
     "output_type": "stream",
     "text": [
      "{'val_loss': 1.5973326734653333, 'val_accuracy': 0.6125095347063311, 'precision': 0.5486089821152731, 'recall': 0.6125095347063311, 'f1-score': 0.5540972688543152, 'macro_f1-score': 0.1974970573469924, 'balanced_accuracy': 0.19256624647149043, 'mcc': 0.45224493859936976, 'train_loss': 1.2062632398816144}\n",
      "Epoch 4/20\n"
     ]
    },
    {
     "name": "stderr",
     "output_type": "stream",
     "text": [
      "100%|██████████| 328/328 [00:33<00:00,  9.87it/s]\n"
     ]
    },
    {
     "name": "stdout",
     "output_type": "stream",
     "text": [
      "{'val_loss': 1.574117128623695, 'val_accuracy': 0.6018306636155606, 'precision': 0.5865478839733919, 'recall': 0.6018306636155606, 'f1-score': 0.5813312255875257, 'macro_f1-score': 0.2697685372327445, 'balanced_accuracy': 0.2686786373278201, 'mcc': 0.4655148646779716, 'train_loss': 0.9113384056382063}\n",
      "Epoch 5/20\n"
     ]
    },
    {
     "name": "stderr",
     "output_type": "stream",
     "text": [
      "100%|██████████| 328/328 [00:33<00:00,  9.87it/s]\n"
     ]
    },
    {
     "name": "stdout",
     "output_type": "stream",
     "text": [
      "{'val_loss': 1.6430707423061859, 'val_accuracy': 0.631578947368421, 'precision': 0.6013408524956201, 'recall': 0.631578947368421, 'f1-score': 0.6051069342185676, 'macro_f1-score': 0.3011682165468235, 'balanced_accuracy': 0.2913348886281199, 'mcc': 0.5019556004677963, 'train_loss': 0.648261552494837}\n",
      "Epoch 6/20\n"
     ]
    },
    {
     "name": "stderr",
     "output_type": "stream",
     "text": [
      "100%|██████████| 328/328 [00:33<00:00,  9.90it/s]\n"
     ]
    },
    {
     "name": "stdout",
     "output_type": "stream",
     "text": [
      "{'val_loss': 1.6943706154096416, 'val_accuracy': 0.627765064836003, 'precision': 0.6099963684083634, 'recall': 0.627765064836003, 'f1-score': 0.6083030574418882, 'macro_f1-score': 0.31701623516368105, 'balanced_accuracy': 0.3074625943933617, 'mcc': 0.5010245331113328, 'train_loss': 0.4806358303261421}\n",
      "Epoch 7/20\n"
     ]
    },
    {
     "name": "stderr",
     "output_type": "stream",
     "text": [
      "100%|██████████| 328/328 [00:33<00:00,  9.87it/s]\n"
     ]
    },
    {
     "name": "stdout",
     "output_type": "stream",
     "text": [
      "{'val_loss': 1.7706680846650427, 'val_accuracy': 0.631578947368421, 'precision': 0.6191606677805571, 'recall': 0.631578947368421, 'f1-score': 0.6117734487126096, 'macro_f1-score': 0.3153348219191215, 'balanced_accuracy': 0.30362629559059257, 'mcc': 0.5042104641368605, 'train_loss': 0.35669252333776436}\n",
      "Epoch 8/20\n"
     ]
    },
    {
     "name": "stderr",
     "output_type": "stream",
     "text": [
      "100%|██████████| 328/328 [00:33<00:00,  9.90it/s]\n"
     ]
    },
    {
     "name": "stdout",
     "output_type": "stream",
     "text": [
      "{'val_loss': 1.9225477768880566, 'val_accuracy': 0.597254004576659, 'precision': 0.6191050571615032, 'recall': 0.597254004576659, 'f1-score': 0.600607296098916, 'macro_f1-score': 0.3346662354602204, 'balanced_accuracy': 0.35890571177178954, 'mcc': 0.479413219303348, 'train_loss': 0.617965749692081}\n",
      "Epoch 9/20\n"
     ]
    },
    {
     "name": "stderr",
     "output_type": "stream",
     "text": [
      "100%|██████████| 328/328 [00:33<00:00,  9.92it/s]\n"
     ]
    },
    {
     "name": "stdout",
     "output_type": "stream",
     "text": [
      "{'val_loss': 1.8268010496366314, 'val_accuracy': 0.6308161708619374, 'precision': 0.6011032744771222, 'recall': 0.6308161708619374, 'f1-score': 0.6098218836825532, 'macro_f1-score': 0.3134542946904415, 'balanced_accuracy': 0.3095282056569654, 'mcc': 0.5031200320322814, 'train_loss': 0.49787248735793116}\n",
      "Epoch 10/20\n"
     ]
    },
    {
     "name": "stderr",
     "output_type": "stream",
     "text": [
      "100%|██████████| 328/328 [00:33<00:00,  9.87it/s]\n"
     ]
    },
    {
     "name": "stdout",
     "output_type": "stream",
     "text": [
      "{'val_loss': 2.1603534843136623, 'val_accuracy': 0.5926773455377574, 'precision': 0.609350398364414, 'recall': 0.5926773455377574, 'f1-score': 0.5935379773179832, 'macro_f1-score': 0.3497055335705818, 'balanced_accuracy': 0.3561907407983516, 'mcc': 0.48057958343341506, 'train_loss': 0.24856097965569393}\n",
      "Epoch 11/20\n"
     ]
    },
    {
     "name": "stderr",
     "output_type": "stream",
     "text": [
      "100%|██████████| 328/328 [00:33<00:00,  9.88it/s]\n"
     ]
    },
    {
     "name": "stdout",
     "output_type": "stream",
     "text": [
      "{'val_loss': 1.990273549971057, 'val_accuracy': 0.6186117467581999, 'precision': 0.6201960942821715, 'recall': 0.6186117467581999, 'f1-score': 0.614448973055369, 'macro_f1-score': 0.37672100394427593, 'balanced_accuracy': 0.36980319544664325, 'mcc': 0.49792416336601, 'train_loss': 0.16664567880230252}\n",
      "Epoch 12/20\n"
     ]
    },
    {
     "name": "stderr",
     "output_type": "stream",
     "text": [
      "100%|██████████| 328/328 [00:33<00:00,  9.86it/s]\n"
     ]
    },
    {
     "name": "stdout",
     "output_type": "stream",
     "text": [
      "{'val_loss': 2.150022361518406, 'val_accuracy': 0.635392829900839, 'precision': 0.6070320610864864, 'recall': 0.635392829900839, 'f1-score': 0.6053764586391459, 'macro_f1-score': 0.333601626958004, 'balanced_accuracy': 0.31326067843621425, 'mcc': 0.4973091230756522, 'train_loss': 0.1916682034100565}\n",
      "Epoch 13/20\n"
     ]
    },
    {
     "name": "stderr",
     "output_type": "stream",
     "text": [
      "100%|██████████| 328/328 [00:35<00:00,  9.19it/s]\n"
     ]
    },
    {
     "name": "stdout",
     "output_type": "stream",
     "text": [
      "{'val_loss': 2.237625802435526, 'val_accuracy': 0.6247139588100686, 'precision': 0.6132486585980464, 'recall': 0.6247139588100686, 'f1-score': 0.6122018726827525, 'macro_f1-score': 0.36762509813401434, 'balanced_accuracy': 0.3668405944896927, 'mcc': 0.4989210638693949, 'train_loss': 0.10952203792431846}\n",
      "Epoch 14/20\n"
     ]
    },
    {
     "name": "stderr",
     "output_type": "stream",
     "text": [
      "100%|██████████| 328/328 [00:34<00:00,  9.39it/s]\n"
     ]
    },
    {
     "name": "stdout",
     "output_type": "stream",
     "text": [
      "{'val_loss': 2.2170336484545614, 'val_accuracy': 0.6117467581998475, 'precision': 0.6210991783406364, 'recall': 0.6117467581998475, 'f1-score': 0.6085259871833252, 'macro_f1-score': 0.3622312939124366, 'balanced_accuracy': 0.35767441325020116, 'mcc': 0.49753768705284535, 'train_loss': 0.10891900794714031}\n",
      "Early stopping.\n",
      "\n",
      "[Fold 4]\n",
      "Label distribution after resampling:\n",
      "  label 0: 2471\n",
      "  label 1: 22\n",
      "  label 2: 64\n",
      "  label 3: 24\n",
      "  label 4: 190\n",
      "  label 5: 113\n",
      "  label 6: 93\n",
      "  label 7: 31\n",
      "  label 8: 68\n",
      "  label 9: 29\n",
      "  label 10: 67\n",
      "  label 11: 169\n",
      "  label 12: 190\n",
      "  label 13: 29\n",
      "  label 14: 22\n",
      "  label 15: 25\n",
      "  label 16: 19\n",
      "  label 17: 182\n",
      "  label 18: 92\n",
      "  label 19: 44\n",
      "  label 20: 14\n",
      "  label 21: 35\n",
      "  label 22: 76\n",
      "  label 23: 158\n",
      "  label 24: 13\n",
      "  label 25: 44\n",
      "  label 26: 84\n",
      "  label 27: 48\n",
      "  label 28: 11\n",
      "  label 29: 13\n",
      "  label 30: 11\n",
      "  label 31: 75\n",
      "  label 32: 36\n",
      "  label 33: 31\n",
      "  label 34: 30\n",
      "  label 35: 11\n",
      "  label 36: 22\n",
      "  label 37: 16\n",
      "  label 38: 33\n",
      "  label 39: 10\n",
      "  label 40: 9\n",
      "  label 41: 56\n",
      "  label 42: 18\n",
      "  label 43: 9\n",
      "  label 44: 55\n",
      "  label 45: 241\n",
      "  label 46: 62\n",
      "  label 47: 80\n",
      "model is microsoft/deberta-base\n"
     ]
    },
    {
     "name": "stderr",
     "output_type": "stream",
     "text": [
      "Some weights of DebertaForSequenceClassification were not initialized from the model checkpoint at microsoft/deberta-base and are newly initialized: ['classifier.bias', 'classifier.weight', 'pooler.dense.bias', 'pooler.dense.weight']\n",
      "You should probably TRAIN this model on a down-stream task to be able to use it for predictions and inference.\n"
     ]
    },
    {
     "name": "stdout",
     "output_type": "stream",
     "text": [
      "Epoch 1/20\n"
     ]
    },
    {
     "name": "stderr",
     "output_type": "stream",
     "text": [
      "100%|██████████| 328/328 [00:33<00:00,  9.87it/s]\n"
     ]
    },
    {
     "name": "stdout",
     "output_type": "stream",
     "text": [
      "{'val_loss': 1.7505829632282257, 'val_accuracy': 0.5697940503432495, 'precision': 0.4729341405915271, 'recall': 0.5697940503432495, 'f1-score': 0.4604718192217768, 'macro_f1-score': 0.08308986460307012, 'balanced_accuracy': 0.09254453111614915, 'mcc': 0.36851332514010776, 'train_loss': 2.196120849833256}\n",
      "Epoch 2/20\n"
     ]
    },
    {
     "name": "stderr",
     "output_type": "stream",
     "text": [
      "100%|██████████| 328/328 [00:33<00:00,  9.87it/s]\n"
     ]
    },
    {
     "name": "stdout",
     "output_type": "stream",
     "text": [
      "{'val_loss': 1.5120074438249194, 'val_accuracy': 0.5949656750572082, 'precision': 0.5424208735621369, 'recall': 0.5949656750572082, 'f1-score': 0.5494064331621621, 'macro_f1-score': 0.1893592519860935, 'balanced_accuracy': 0.20108412120819374, 'mcc': 0.44935852732782017, 'train_loss': 1.5569137528356982}\n",
      "Epoch 3/20\n"
     ]
    },
    {
     "name": "stderr",
     "output_type": "stream",
     "text": [
      "100%|██████████| 328/328 [00:33<00:00,  9.85it/s]\n"
     ]
    },
    {
     "name": "stdout",
     "output_type": "stream",
     "text": [
      "{'val_loss': 1.429489031070616, 'val_accuracy': 0.5987795575896262, 'precision': 0.5972556935567982, 'recall': 0.5987795575896262, 'f1-score': 0.5762309662072681, 'macro_f1-score': 0.2629147188445797, 'balanced_accuracy': 0.27444328999140627, 'mcc': 0.4814781655848924, 'train_loss': 1.1904387163316332}\n",
      "Epoch 4/20\n"
     ]
    },
    {
     "name": "stderr",
     "output_type": "stream",
     "text": [
      "100%|██████████| 328/328 [00:33<00:00,  9.88it/s]\n"
     ]
    },
    {
     "name": "stdout",
     "output_type": "stream",
     "text": [
      "{'val_loss': 1.4012286345042833, 'val_accuracy': 0.6384439359267735, 'precision': 0.6198352586140524, 'recall': 0.6384439359267735, 'f1-score': 0.6203215530648999, 'macro_f1-score': 0.30945936800628765, 'balanced_accuracy': 0.3247202961841919, 'mcc': 0.5290034306158574, 'train_loss': 0.8861172742142183}\n",
      "Epoch 5/20\n"
     ]
    },
    {
     "name": "stderr",
     "output_type": "stream",
     "text": [
      "100%|██████████| 328/328 [00:33<00:00,  9.88it/s]\n"
     ]
    },
    {
     "name": "stdout",
     "output_type": "stream",
     "text": [
      "{'val_loss': 1.4823916948786595, 'val_accuracy': 0.6529366895499619, 'precision': 0.6514018641667941, 'recall': 0.6529366895499619, 'f1-score': 0.6393709114984725, 'macro_f1-score': 0.3398682602972464, 'balanced_accuracy': 0.33575453084133716, 'mcc': 0.542494238427389, 'train_loss': 0.5865549889234144}\n",
      "Epoch 6/20\n"
     ]
    },
    {
     "name": "stderr",
     "output_type": "stream",
     "text": [
      "100%|██████████| 328/328 [00:33<00:00,  9.85it/s]\n"
     ]
    },
    {
     "name": "stdout",
     "output_type": "stream",
     "text": [
      "{'val_loss': 1.5200488501932563, 'val_accuracy': 0.6590389016018307, 'precision': 0.6468461105982344, 'recall': 0.6590389016018307, 'f1-score': 0.6446962200135387, 'macro_f1-score': 0.3665649115699811, 'balanced_accuracy': 0.37050652992991334, 'mcc': 0.5512314455366326, 'train_loss': 0.42703270470360066}\n",
      "Epoch 7/20\n"
     ]
    },
    {
     "name": "stderr",
     "output_type": "stream",
     "text": [
      "100%|██████████| 328/328 [00:33<00:00,  9.89it/s]\n"
     ]
    },
    {
     "name": "stdout",
     "output_type": "stream",
     "text": [
      "{'val_loss': 1.6981603190666292, 'val_accuracy': 0.6422578184591915, 'precision': 0.6425101730621354, 'recall': 0.6422578184591915, 'f1-score': 0.6356711800102446, 'macro_f1-score': 0.36041241054489676, 'balanced_accuracy': 0.3753596219151851, 'mcc': 0.5318439632349916, 'train_loss': 0.2909856825703528}\n",
      "Epoch 8/20\n"
     ]
    },
    {
     "name": "stderr",
     "output_type": "stream",
     "text": [
      "100%|██████████| 328/328 [00:33<00:00,  9.86it/s]\n"
     ]
    },
    {
     "name": "stdout",
     "output_type": "stream",
     "text": [
      "{'val_loss': 1.7254542732020703, 'val_accuracy': 0.6491228070175439, 'precision': 0.6590701825499646, 'recall': 0.6491228070175439, 'f1-score': 0.6481015967497398, 'macro_f1-score': 0.3918697583827859, 'balanced_accuracy': 0.4014632787150314, 'mcc': 0.5489278081191676, 'train_loss': 0.19434275082880403}\n",
      "Epoch 9/20\n"
     ]
    },
    {
     "name": "stderr",
     "output_type": "stream",
     "text": [
      "100%|██████████| 328/328 [00:33<00:00,  9.86it/s]\n"
     ]
    },
    {
     "name": "stdout",
     "output_type": "stream",
     "text": [
      "{'val_loss': 1.9321842871424628, 'val_accuracy': 0.6552250190694127, 'precision': 0.6333464793740666, 'recall': 0.6552250190694127, 'f1-score': 0.6296438522997673, 'macro_f1-score': 0.35674870062790803, 'balanced_accuracy': 0.33891889406969256, 'mcc': 0.5282479737074643, 'train_loss': 0.14626115806707432}\n",
      "Epoch 10/20\n"
     ]
    },
    {
     "name": "stderr",
     "output_type": "stream",
     "text": [
      "100%|██████████| 328/328 [00:33<00:00,  9.87it/s]\n"
     ]
    },
    {
     "name": "stdout",
     "output_type": "stream",
     "text": [
      "{'val_loss': 1.8731019318830677, 'val_accuracy': 0.6399694889397407, 'precision': 0.6612248522991299, 'recall': 0.6399694889397407, 'f1-score': 0.638945941929996, 'macro_f1-score': 0.37056162160555955, 'balanced_accuracy': 0.3796749085228975, 'mcc': 0.5329760800964168, 'train_loss': 0.11983976570858121}\n",
      "Epoch 11/20\n"
     ]
    },
    {
     "name": "stderr",
     "output_type": "stream",
     "text": [
      "100%|██████████| 328/328 [00:33<00:00,  9.87it/s]\n"
     ]
    },
    {
     "name": "stdout",
     "output_type": "stream",
     "text": [
      "{'val_loss': 1.9733147537562905, 'val_accuracy': 0.6483600305110603, 'precision': 0.6401769847537646, 'recall': 0.6483600305110603, 'f1-score': 0.6393664905248346, 'macro_f1-score': 0.3810757317632676, 'balanced_accuracy': 0.3919144776947003, 'mcc': 0.5377113089226947, 'train_loss': 0.12748861584596607}\n",
      "Early stopping.\n",
      "\n",
      "[Fold 5]\n",
      "Label distribution after resampling:\n",
      "  label 0: 2472\n",
      "  label 1: 21\n",
      "  label 2: 64\n",
      "  label 3: 24\n",
      "  label 4: 191\n",
      "  label 5: 112\n",
      "  label 6: 92\n",
      "  label 7: 31\n",
      "  label 8: 68\n",
      "  label 9: 29\n",
      "  label 10: 68\n",
      "  label 11: 168\n",
      "  label 12: 190\n",
      "  label 13: 29\n",
      "  label 14: 22\n",
      "  label 15: 25\n",
      "  label 16: 19\n",
      "  label 17: 183\n",
      "  label 18: 92\n",
      "  label 19: 44\n",
      "  label 20: 14\n",
      "  label 21: 35\n",
      "  label 22: 76\n",
      "  label 23: 158\n",
      "  label 24: 13\n",
      "  label 25: 44\n",
      "  label 26: 84\n",
      "  label 27: 48\n",
      "  label 28: 11\n",
      "  label 29: 13\n",
      "  label 30: 11\n",
      "  label 31: 75\n",
      "  label 32: 36\n",
      "  label 33: 31\n",
      "  label 34: 30\n",
      "  label 35: 11\n",
      "  label 36: 22\n",
      "  label 37: 16\n",
      "  label 38: 33\n",
      "  label 39: 10\n",
      "  label 40: 9\n",
      "  label 41: 57\n",
      "  label 42: 18\n",
      "  label 43: 9\n",
      "  label 44: 54\n",
      "  label 45: 242\n",
      "  label 46: 61\n",
      "  label 47: 80\n",
      "model is microsoft/deberta-base\n"
     ]
    },
    {
     "name": "stderr",
     "output_type": "stream",
     "text": [
      "Some weights of DebertaForSequenceClassification were not initialized from the model checkpoint at microsoft/deberta-base and are newly initialized: ['classifier.bias', 'classifier.weight', 'pooler.dense.bias', 'pooler.dense.weight']\n",
      "You should probably TRAIN this model on a down-stream task to be able to use it for predictions and inference.\n"
     ]
    },
    {
     "name": "stdout",
     "output_type": "stream",
     "text": [
      "Epoch 1/20\n"
     ]
    },
    {
     "name": "stderr",
     "output_type": "stream",
     "text": [
      "100%|██████████| 328/328 [00:33<00:00,  9.86it/s]\n"
     ]
    },
    {
     "name": "stdout",
     "output_type": "stream",
     "text": [
      "{'val_loss': 1.7524874283046257, 'val_accuracy': 0.5697940503432495, 'precision': 0.4724547561028414, 'recall': 0.5697940503432495, 'f1-score': 0.4689534533153897, 'macro_f1-score': 0.09185416245146838, 'balanced_accuracy': 0.1051392210814621, 'mcc': 0.37833256932657255, 'train_loss': 2.2033709649269175}\n",
      "Epoch 2/20\n"
     ]
    },
    {
     "name": "stderr",
     "output_type": "stream",
     "text": [
      "100%|██████████| 328/328 [00:33<00:00,  9.85it/s]\n"
     ]
    },
    {
     "name": "stdout",
     "output_type": "stream",
     "text": [
      "{'val_loss': 1.5442905818543784, 'val_accuracy': 0.5903890160183066, 'precision': 0.5682287222957759, 'recall': 0.5903890160183066, 'f1-score': 0.5476172113914446, 'macro_f1-score': 0.1770512436486867, 'balanced_accuracy': 0.19826338563927803, 'mcc': 0.46222278210976037, 'train_loss': 1.5737324065369804}\n",
      "Epoch 3/20\n"
     ]
    },
    {
     "name": "stderr",
     "output_type": "stream",
     "text": [
      "100%|██████████| 328/328 [00:33<00:00,  9.87it/s]\n"
     ]
    },
    {
     "name": "stdout",
     "output_type": "stream",
     "text": [
      "{'val_loss': 1.5297422837920305, 'val_accuracy': 0.5758962623951183, 'precision': 0.5833640810324165, 'recall': 0.5758962623951183, 'f1-score': 0.5588784790731011, 'macro_f1-score': 0.21891135772762257, 'balanced_accuracy': 0.24818778326502175, 'mcc': 0.4742886726987909, 'train_loss': 1.271389558729602}\n",
      "Epoch 4/20\n"
     ]
    },
    {
     "name": "stderr",
     "output_type": "stream",
     "text": [
      "100%|██████████| 328/328 [00:33<00:00,  9.85it/s]\n"
     ]
    },
    {
     "name": "stdout",
     "output_type": "stream",
     "text": [
      "{'val_loss': 1.3784571362704765, 'val_accuracy': 0.6414950419527079, 'precision': 0.6144255261237109, 'recall': 0.6414950419527079, 'f1-score': 0.6188279279954201, 'macro_f1-score': 0.3049214765268599, 'balanced_accuracy': 0.30783735183646005, 'mcc': 0.526029734208007, 'train_loss': 0.9297991091521774}\n",
      "Epoch 5/20\n"
     ]
    },
    {
     "name": "stderr",
     "output_type": "stream",
     "text": [
      "100%|██████████| 328/328 [00:33<00:00,  9.85it/s]\n"
     ]
    },
    {
     "name": "stdout",
     "output_type": "stream",
     "text": [
      "{'val_loss': 1.4634608855334723, 'val_accuracy': 0.6285278413424866, 'precision': 0.6001377030842318, 'recall': 0.6285278413424866, 'f1-score': 0.6079024235339876, 'macro_f1-score': 0.3231928207891846, 'balanced_accuracy': 0.3297680272802529, 'mcc': 0.5089764918032983, 'train_loss': 0.653689437182393}\n",
      "Epoch 6/20\n"
     ]
    },
    {
     "name": "stderr",
     "output_type": "stream",
     "text": [
      "100%|██████████| 328/328 [00:33<00:00,  9.88it/s]\n"
     ]
    },
    {
     "name": "stdout",
     "output_type": "stream",
     "text": [
      "{'val_loss': 1.5652314322750742, 'val_accuracy': 0.627765064836003, 'precision': 0.6252951044509781, 'recall': 0.627765064836003, 'f1-score': 0.6185323722282873, 'macro_f1-score': 0.3328101786906037, 'balanced_accuracy': 0.3247256498831021, 'mcc': 0.5159245016035858, 'train_loss': 0.4483092808187371}\n",
      "Epoch 7/20\n"
     ]
    },
    {
     "name": "stderr",
     "output_type": "stream",
     "text": [
      "100%|██████████| 328/328 [00:33<00:00,  9.85it/s]\n"
     ]
    },
    {
     "name": "stdout",
     "output_type": "stream",
     "text": [
      "{'val_loss': 1.6667117523710901, 'val_accuracy': 0.6445461479786423, 'precision': 0.6170745543886599, 'recall': 0.6445461479786423, 'f1-score': 0.6186223755959814, 'macro_f1-score': 0.36009512752209033, 'balanced_accuracy': 0.3384010576216329, 'mcc': 0.5193810018847672, 'train_loss': 0.2983890745856958}\n",
      "Epoch 8/20\n"
     ]
    },
    {
     "name": "stderr",
     "output_type": "stream",
     "text": [
      "100%|██████████| 328/328 [00:33<00:00,  9.85it/s]\n"
     ]
    },
    {
     "name": "stdout",
     "output_type": "stream",
     "text": [
      "{'val_loss': 1.8328672015085452, 'val_accuracy': 0.6422578184591915, 'precision': 0.6371833162126265, 'recall': 0.6422578184591915, 'f1-score': 0.6234409880274702, 'macro_f1-score': 0.34370459589808666, 'balanced_accuracy': 0.31056497258699184, 'mcc': 0.5129705694775153, 'train_loss': 0.21987871666120865}\n",
      "Epoch 9/20\n"
     ]
    },
    {
     "name": "stderr",
     "output_type": "stream",
     "text": [
      "100%|██████████| 328/328 [00:33<00:00,  9.86it/s]\n"
     ]
    },
    {
     "name": "stdout",
     "output_type": "stream",
     "text": [
      "{'val_loss': 1.899169509003802, 'val_accuracy': 0.6064073226544623, 'precision': 0.6482310111694058, 'recall': 0.6064073226544623, 'f1-score': 0.6168611353442631, 'macro_f1-score': 0.36611189257095633, 'balanced_accuracy': 0.3924276435312543, 'mcc': 0.5077024532262188, 'train_loss': 0.17566674776806881}\n",
      "Epoch 10/20\n"
     ]
    },
    {
     "name": "stderr",
     "output_type": "stream",
     "text": [
      "100%|██████████| 328/328 [00:33<00:00,  9.86it/s]\n"
     ]
    },
    {
     "name": "stdout",
     "output_type": "stream",
     "text": [
      "{'val_loss': 2.0042923568952373, 'val_accuracy': 0.6003051106025934, 'precision': 0.6510394190653513, 'recall': 0.6003051106025934, 'f1-score': 0.6106503700450672, 'macro_f1-score': 0.3752264329532737, 'balanced_accuracy': 0.4055703900919438, 'mcc': 0.508993315583533, 'train_loss': 0.1610059022574072}\n",
      "Epoch 11/20\n"
     ]
    },
    {
     "name": "stderr",
     "output_type": "stream",
     "text": [
      "100%|██████████| 328/328 [00:33<00:00,  9.86it/s]\n"
     ]
    },
    {
     "name": "stdout",
     "output_type": "stream",
     "text": [
      "{'val_loss': 1.9543111595075304, 'val_accuracy': 0.6369183829138062, 'precision': 0.6439456690497068, 'recall': 0.6369183829138062, 'f1-score': 0.6325693748375428, 'macro_f1-score': 0.40121036754130684, 'balanced_accuracy': 0.4135739638323798, 'mcc': 0.5289915358212115, 'train_loss': 0.13583910543323927}\n",
      "Epoch 12/20\n"
     ]
    },
    {
     "name": "stderr",
     "output_type": "stream",
     "text": [
      "100%|██████████| 328/328 [00:33<00:00,  9.86it/s]\n"
     ]
    },
    {
     "name": "stdout",
     "output_type": "stream",
     "text": [
      "{'val_loss': 1.8883587890645352, 'val_accuracy': 0.6483600305110603, 'precision': 0.6581503276854406, 'recall': 0.6483600305110603, 'f1-score': 0.6401200061639354, 'macro_f1-score': 0.4148878896145738, 'balanced_accuracy': 0.39517797283987893, 'mcc': 0.5367731192551296, 'train_loss': 0.1289823290610845}\n",
      "Epoch 13/20\n"
     ]
    },
    {
     "name": "stderr",
     "output_type": "stream",
     "text": [
      "100%|██████████| 328/328 [00:33<00:00,  9.89it/s]\n"
     ]
    },
    {
     "name": "stdout",
     "output_type": "stream",
     "text": [
      "{'val_loss': 2.5436981334918882, 'val_accuracy': 0.47063310450038137, 'precision': 0.2214955190516669, 'recall': 0.47063310450038137, 'f1-score': 0.3012247152248292, 'macro_f1-score': 0.013334197786998616, 'balanced_accuracy': 0.020833333333333332, 'mcc': 0.0, 'train_loss': 2.4012178754627067}\n",
      "Epoch 14/20\n"
     ]
    },
    {
     "name": "stderr",
     "output_type": "stream",
     "text": [
      "100%|██████████| 328/328 [00:33<00:00,  9.85it/s]\n"
     ]
    },
    {
     "name": "stdout",
     "output_type": "stream",
     "text": [
      "{'val_loss': 2.543012368969801, 'val_accuracy': 0.47063310450038137, 'precision': 0.2214955190516669, 'recall': 0.47063310450038137, 'f1-score': 0.3012247152248292, 'macro_f1-score': 0.013334197786998616, 'balanced_accuracy': 0.020833333333333332, 'mcc': 0.0, 'train_loss': 2.5591631239143813}\n",
      "Epoch 15/20\n"
     ]
    },
    {
     "name": "stderr",
     "output_type": "stream",
     "text": [
      "100%|██████████| 328/328 [00:33<00:00,  9.85it/s]\n"
     ]
    },
    {
     "name": "stdout",
     "output_type": "stream",
     "text": [
      "{'val_loss': 2.543374001979828, 'val_accuracy': 0.47063310450038137, 'precision': 0.2214955190516669, 'recall': 0.47063310450038137, 'f1-score': 0.3012247152248292, 'macro_f1-score': 0.013334197786998616, 'balanced_accuracy': 0.020833333333333332, 'mcc': 0.0, 'train_loss': 2.546885486783051}\n",
      "Early stopping.\n",
      "\n",
      " === microsoft/deberta-base + plain + none Final 5-fold Cross-Validation Results ===\n",
      "val_loss: 1.9146\n",
      "val_accuracy: 0.6455\n",
      "precision: 0.6425\n",
      "recall: 0.6455\n",
      "f1-score: 0.6345\n",
      "macro_f1-score: 0.3965\n",
      "balanced_accuracy: 0.3873\n",
      "mcc: 0.5308\n",
      "train_loss: 0.1523\n",
      "total_seconds: 2615.0000\n",
      "total_time: 0 hrs 43 mins 35 secs\n",
      "▶ Running: microsoft/deberta-base + cnn + none\n",
      "tokenizer is microsoft/deberta-base\n",
      "Using device: cuda\n",
      "CUDA Available: True\n",
      "CUDA Device: NVIDIA GeForce RTX 5070 Ti\n",
      "Current GPU Memory Allocated: 0.02 GB\n",
      "Current GPU Memory Cached: 5.11 GB\n",
      "\n",
      "[Fold 1]\n",
      "Label distribution after resampling:\n",
      "  label 0: 2471\n",
      "  label 1: 21\n",
      "  label 2: 64\n",
      "  label 3: 24\n",
      "  label 4: 191\n",
      "  label 5: 113\n",
      "  label 6: 93\n",
      "  label 7: 30\n",
      "  label 8: 68\n",
      "  label 9: 30\n",
      "  label 10: 67\n",
      "  label 11: 169\n",
      "  label 12: 189\n",
      "  label 13: 29\n",
      "  label 14: 22\n",
      "  label 15: 25\n",
      "  label 16: 19\n",
      "  label 17: 183\n",
      "  label 18: 92\n",
      "  label 19: 44\n",
      "  label 20: 13\n",
      "  label 21: 35\n",
      "  label 22: 76\n",
      "  label 23: 158\n",
      "  label 24: 13\n",
      "  label 25: 44\n",
      "  label 26: 84\n",
      "  label 27: 48\n",
      "  label 28: 11\n",
      "  label 29: 13\n",
      "  label 30: 11\n",
      "  label 31: 75\n",
      "  label 32: 36\n",
      "  label 33: 32\n",
      "  label 34: 29\n",
      "  label 35: 11\n",
      "  label 36: 22\n",
      "  label 37: 16\n",
      "  label 38: 33\n",
      "  label 39: 10\n",
      "  label 40: 9\n",
      "  label 41: 57\n",
      "  label 42: 19\n",
      "  label 43: 8\n",
      "  label 44: 54\n",
      "  label 45: 242\n",
      "  label 46: 61\n",
      "  label 47: 80\n",
      "model is microsoft/deberta-base cnn\n",
      "Epoch 1/20\n"
     ]
    },
    {
     "name": "stderr",
     "output_type": "stream",
     "text": [
      "100%|██████████| 328/328 [00:34<00:00,  9.50it/s]\n"
     ]
    },
    {
     "name": "stdout",
     "output_type": "stream",
     "text": [
      "{'val_loss': 1.9675625762561473, 'val_accuracy': 0.5426829268292683, 'precision': 0.35972764729071327, 'recall': 0.5426829268292683, 'f1-score': 0.4206238253076393, 'macro_f1-score': 0.06022935401880747, 'balanced_accuracy': 0.0773613986954464, 'mcc': 0.3158386516391367, 'train_loss': 2.2555177795087418}\n",
      "Epoch 2/20\n"
     ]
    },
    {
     "name": "stderr",
     "output_type": "stream",
     "text": [
      "100%|██████████| 328/328 [00:34<00:00,  9.51it/s]\n"
     ]
    },
    {
     "name": "stdout",
     "output_type": "stream",
     "text": [
      "{'val_loss': 1.746765450733464, 'val_accuracy': 0.5777439024390244, 'precision': 0.4351238702346026, 'recall': 0.5777439024390244, 'f1-score': 0.48801938344372664, 'macro_f1-score': 0.10087842273052676, 'balanced_accuracy': 0.11938893263618718, 'mcc': 0.39986661580770455, 'train_loss': 1.8295550748887586}\n",
      "Epoch 3/20\n"
     ]
    },
    {
     "name": "stderr",
     "output_type": "stream",
     "text": [
      "100%|██████████| 328/328 [00:34<00:00,  9.49it/s]\n"
     ]
    },
    {
     "name": "stdout",
     "output_type": "stream",
     "text": [
      "{'val_loss': 1.6006839847782763, 'val_accuracy': 0.6028963414634146, 'precision': 0.5046312103642487, 'recall': 0.6028963414634146, 'f1-score': 0.5340569485893251, 'macro_f1-score': 0.1821589285930456, 'balanced_accuracy': 0.18923711948260444, 'mcc': 0.43704331857346224, 'train_loss': 1.5240163549599124}\n",
      "Epoch 4/20\n"
     ]
    },
    {
     "name": "stderr",
     "output_type": "stream",
     "text": [
      "100%|██████████| 328/328 [00:34<00:00,  9.50it/s]\n"
     ]
    },
    {
     "name": "stdout",
     "output_type": "stream",
     "text": [
      "{'val_loss': 1.5257536888849446, 'val_accuracy': 0.6219512195121951, 'precision': 0.5755097817144315, 'recall': 0.6219512195121951, 'f1-score': 0.5887472514473812, 'macro_f1-score': 0.27193046833672296, 'balanced_accuracy': 0.27415561776744285, 'mcc': 0.48551025598318903, 'train_loss': 1.2477373901482036}\n",
      "Epoch 5/20\n"
     ]
    },
    {
     "name": "stderr",
     "output_type": "stream",
     "text": [
      "100%|██████████| 328/328 [00:34<00:00,  9.51it/s]\n"
     ]
    },
    {
     "name": "stdout",
     "output_type": "stream",
     "text": [
      "{'val_loss': 1.4936056489624627, 'val_accuracy': 0.6219512195121951, 'precision': 0.5922818111875063, 'recall': 0.6219512195121951, 'f1-score': 0.588006640090748, 'macro_f1-score': 0.2818925050821288, 'balanced_accuracy': 0.27431508844074015, 'mcc': 0.48876673567742207, 'train_loss': 1.009316561380174}\n",
      "Epoch 6/20\n"
     ]
    },
    {
     "name": "stderr",
     "output_type": "stream",
     "text": [
      "100%|██████████| 328/328 [00:34<00:00,  9.50it/s]\n"
     ]
    },
    {
     "name": "stdout",
     "output_type": "stream",
     "text": [
      "{'val_loss': 1.5222375843583085, 'val_accuracy': 0.6295731707317073, 'precision': 0.5884512632126846, 'recall': 0.6295731707317073, 'f1-score': 0.5968869007262955, 'macro_f1-score': 0.29100022100329564, 'balanced_accuracy': 0.27931390968757813, 'mcc': 0.4936714829880188, 'train_loss': 0.7988219983512308}\n",
      "Epoch 7/20\n"
     ]
    },
    {
     "name": "stderr",
     "output_type": "stream",
     "text": [
      "100%|██████████| 328/328 [00:34<00:00,  9.52it/s]\n"
     ]
    },
    {
     "name": "stdout",
     "output_type": "stream",
     "text": [
      "{'val_loss': 1.5773501250802018, 'val_accuracy': 0.6387195121951219, 'precision': 0.6241253356829571, 'recall': 0.6387195121951219, 'f1-score': 0.619820368744377, 'macro_f1-score': 0.3507984077890982, 'balanced_accuracy': 0.3346622925952582, 'mcc': 0.5130139832188396, 'train_loss': 0.6255636296757474}\n",
      "Epoch 8/20\n"
     ]
    },
    {
     "name": "stderr",
     "output_type": "stream",
     "text": [
      "100%|██████████| 328/328 [00:34<00:00,  9.51it/s]\n"
     ]
    },
    {
     "name": "stdout",
     "output_type": "stream",
     "text": [
      "{'val_loss': 1.7077944055199623, 'val_accuracy': 0.6379573170731707, 'precision': 0.6226334201795469, 'recall': 0.6379573170731707, 'f1-score': 0.6095277625461739, 'macro_f1-score': 0.3358707919159021, 'balanced_accuracy': 0.3055726222984396, 'mcc': 0.5008843279395133, 'train_loss': 0.4990406908128956}\n",
      "Epoch 9/20\n"
     ]
    },
    {
     "name": "stderr",
     "output_type": "stream",
     "text": [
      "100%|██████████| 328/328 [00:34<00:00,  9.48it/s]\n"
     ]
    },
    {
     "name": "stdout",
     "output_type": "stream",
     "text": [
      "{'val_loss': 1.7582821629759742, 'val_accuracy': 0.635670731707317, 'precision': 0.6210520391613156, 'recall': 0.635670731707317, 'f1-score': 0.6153267701903364, 'macro_f1-score': 0.3669086418348752, 'balanced_accuracy': 0.35145499620292514, 'mcc': 0.5026290418767114, 'train_loss': 0.4101167140505845}\n",
      "Epoch 10/20\n"
     ]
    },
    {
     "name": "stderr",
     "output_type": "stream",
     "text": [
      "100%|██████████| 328/328 [00:34<00:00,  9.50it/s]\n"
     ]
    },
    {
     "name": "stdout",
     "output_type": "stream",
     "text": [
      "{'val_loss': 1.7764232798320492, 'val_accuracy': 0.6417682926829268, 'precision': 0.6332519797504018, 'recall': 0.6417682926829268, 'f1-score': 0.6300005067881419, 'macro_f1-score': 0.3607222976697942, 'balanced_accuracy': 0.36700419973638887, 'mcc': 0.5227443566984268, 'train_loss': 0.3242853596812205}\n",
      "Epoch 11/20\n"
     ]
    },
    {
     "name": "stderr",
     "output_type": "stream",
     "text": [
      "100%|██████████| 328/328 [00:34<00:00,  9.50it/s]\n"
     ]
    },
    {
     "name": "stdout",
     "output_type": "stream",
     "text": [
      "{'val_loss': 1.971013977396779, 'val_accuracy': 0.618140243902439, 'precision': 0.6325513546451765, 'recall': 0.618140243902439, 'f1-score': 0.6114605176157124, 'macro_f1-score': 0.3522101757814185, 'balanced_accuracy': 0.35218781698122087, 'mcc': 0.49696246805450073, 'train_loss': 0.2539166333892087}\n",
      "Epoch 12/20\n"
     ]
    },
    {
     "name": "stderr",
     "output_type": "stream",
     "text": [
      "100%|██████████| 328/328 [00:34<00:00,  9.50it/s]\n"
     ]
    },
    {
     "name": "stdout",
     "output_type": "stream",
     "text": [
      "{'val_loss': 1.9937278515681989, 'val_accuracy': 0.6257621951219512, 'precision': 0.6173804471223647, 'recall': 0.6257621951219512, 'f1-score': 0.6147086212894385, 'macro_f1-score': 0.3454472473001921, 'balanced_accuracy': 0.3423199597404873, 'mcc': 0.502453767094693, 'train_loss': 0.23935112048213075}\n",
      "Early stopping.\n",
      "\n",
      "[Fold 2]\n",
      "Label distribution after resampling:\n",
      "  label 0: 2471\n",
      "  label 1: 22\n",
      "  label 2: 64\n",
      "  label 3: 24\n",
      "  label 4: 190\n",
      "  label 5: 113\n",
      "  label 6: 93\n",
      "  label 7: 30\n",
      "  label 8: 68\n",
      "  label 9: 30\n",
      "  label 10: 67\n",
      "  label 11: 169\n",
      "  label 12: 189\n",
      "  label 13: 29\n",
      "  label 14: 23\n",
      "  label 15: 24\n",
      "  label 16: 20\n",
      "  label 17: 182\n",
      "  label 18: 92\n",
      "  label 19: 44\n",
      "  label 20: 13\n",
      "  label 21: 36\n",
      "  label 22: 76\n",
      "  label 23: 157\n",
      "  label 24: 12\n",
      "  label 25: 44\n",
      "  label 26: 84\n",
      "  label 27: 48\n",
      "  label 28: 12\n",
      "  label 29: 12\n",
      "  label 30: 12\n",
      "  label 31: 75\n",
      "  label 32: 36\n",
      "  label 33: 31\n",
      "  label 34: 29\n",
      "  label 35: 12\n",
      "  label 36: 21\n",
      "  label 37: 16\n",
      "  label 38: 33\n",
      "  label 39: 11\n",
      "  label 40: 8\n",
      "  label 41: 57\n",
      "  label 42: 19\n",
      "  label 43: 9\n",
      "  label 44: 54\n",
      "  label 45: 242\n",
      "  label 46: 62\n",
      "  label 47: 80\n",
      "model is microsoft/deberta-base cnn\n",
      "Epoch 1/20\n"
     ]
    },
    {
     "name": "stderr",
     "output_type": "stream",
     "text": [
      "100%|██████████| 328/328 [00:34<00:00,  9.48it/s]\n"
     ]
    },
    {
     "name": "stdout",
     "output_type": "stream",
     "text": [
      "{'val_loss': 2.0425742799189033, 'val_accuracy': 0.5453852021357742, 'precision': 0.35941045375695896, 'recall': 0.5453852021357742, 'f1-score': 0.4311523380401693, 'macro_f1-score': 0.060465705963111634, 'balanced_accuracy': 0.07434400900855628, 'mcc': 0.32390621495845945, 'train_loss': 2.346757375794213}\n",
      "Epoch 2/20\n"
     ]
    },
    {
     "name": "stderr",
     "output_type": "stream",
     "text": [
      "100%|██████████| 328/328 [00:34<00:00,  9.51it/s]\n"
     ]
    },
    {
     "name": "stdout",
     "output_type": "stream",
     "text": [
      "{'val_loss': 1.819422524149825, 'val_accuracy': 0.5652173913043478, 'precision': 0.43940284131226903, 'recall': 0.5652173913043478, 'f1-score': 0.4816456703563833, 'macro_f1-score': 0.1002860228823003, 'balanced_accuracy': 0.11911374155277034, 'mcc': 0.3855503028297321, 'train_loss': 1.9013561304749511}\n",
      "Epoch 3/20\n"
     ]
    },
    {
     "name": "stderr",
     "output_type": "stream",
     "text": [
      "100%|██████████| 328/328 [00:34<00:00,  9.50it/s]\n"
     ]
    },
    {
     "name": "stdout",
     "output_type": "stream",
     "text": [
      "{'val_loss': 1.565029205345526, 'val_accuracy': 0.6056445461479787, 'precision': 0.5049251737749288, 'recall': 0.6056445461479787, 'f1-score': 0.5273101854667691, 'macro_f1-score': 0.1688324389229965, 'balanced_accuracy': 0.17550534729556513, 'mcc': 0.43964886822940846, 'train_loss': 1.6175415421404489}\n",
      "Epoch 4/20\n"
     ]
    },
    {
     "name": "stderr",
     "output_type": "stream",
     "text": [
      "100%|██████████| 328/328 [00:34<00:00,  9.51it/s]\n"
     ]
    },
    {
     "name": "stdout",
     "output_type": "stream",
     "text": [
      "{'val_loss': 1.4674344477130146, 'val_accuracy': 0.6231884057971014, 'precision': 0.5502703070648911, 'recall': 0.6231884057971014, 'f1-score': 0.5746921408353586, 'macro_f1-score': 0.2511399733890743, 'balanced_accuracy': 0.24793801641322658, 'mcc': 0.478236446454025, 'train_loss': 1.345342681175325}\n",
      "Epoch 5/20\n"
     ]
    },
    {
     "name": "stderr",
     "output_type": "stream",
     "text": [
      "100%|██████████| 328/328 [00:34<00:00,  9.52it/s]\n"
     ]
    },
    {
     "name": "stdout",
     "output_type": "stream",
     "text": [
      "{'val_loss': 1.438435425845588, 'val_accuracy': 0.6140350877192983, 'precision': 0.5925207340994287, 'recall': 0.6140350877192983, 'f1-score': 0.5817059331774552, 'macro_f1-score': 0.26264258723282247, 'balanced_accuracy': 0.27968583253254065, 'mcc': 0.4849204193290221, 'train_loss': 1.0844437903383883}\n",
      "Epoch 6/20\n"
     ]
    },
    {
     "name": "stderr",
     "output_type": "stream",
     "text": [
      "100%|██████████| 328/328 [00:34<00:00,  9.50it/s]\n"
     ]
    },
    {
     "name": "stdout",
     "output_type": "stream",
     "text": [
      "{'val_loss': 1.4611406428057974, 'val_accuracy': 0.6437833714721587, 'precision': 0.6165101159387295, 'recall': 0.6437833714721587, 'f1-score': 0.6208161444573913, 'macro_f1-score': 0.314339756796804, 'balanced_accuracy': 0.3185100032810564, 'mcc': 0.5249785342193337, 'train_loss': 0.8675912216351163}\n",
      "Epoch 7/20\n"
     ]
    },
    {
     "name": "stderr",
     "output_type": "stream",
     "text": [
      "100%|██████████| 328/328 [00:34<00:00,  9.48it/s]\n"
     ]
    },
    {
     "name": "stdout",
     "output_type": "stream",
     "text": [
      "{'val_loss': 1.4517768526949533, 'val_accuracy': 0.6376811594202898, 'precision': 0.6338018456975798, 'recall': 0.6376811594202898, 'f1-score': 0.6176171528480628, 'macro_f1-score': 0.32913651019867063, 'balanced_accuracy': 0.3255443102040568, 'mcc': 0.5208598180211409, 'train_loss': 0.7203653806184487}\n",
      "Epoch 8/20\n"
     ]
    },
    {
     "name": "stderr",
     "output_type": "stream",
     "text": [
      "100%|██████████| 328/328 [00:34<00:00,  9.50it/s]\n"
     ]
    },
    {
     "name": "stdout",
     "output_type": "stream",
     "text": [
      "{'val_loss': 1.5988241557667895, 'val_accuracy': 0.6483600305110603, 'precision': 0.609784118280967, 'recall': 0.6483600305110603, 'f1-score': 0.6194204991608909, 'macro_f1-score': 0.3170066261575167, 'balanced_accuracy': 0.33071415997714976, 'mcc': 0.5271886694172345, 'train_loss': 0.5680402959583373}\n",
      "Epoch 9/20\n"
     ]
    },
    {
     "name": "stderr",
     "output_type": "stream",
     "text": [
      "100%|██████████| 328/328 [00:34<00:00,  9.50it/s]\n"
     ]
    },
    {
     "name": "stdout",
     "output_type": "stream",
     "text": [
      "{'val_loss': 1.6323468060028263, 'val_accuracy': 0.6369183829138062, 'precision': 0.6194815997793283, 'recall': 0.6369183829138062, 'f1-score': 0.6198058831251506, 'macro_f1-score': 0.34462376789715715, 'balanced_accuracy': 0.3644482702719478, 'mcc': 0.5207230274102551, 'train_loss': 0.439168873322537}\n",
      "Epoch 10/20\n"
     ]
    },
    {
     "name": "stderr",
     "output_type": "stream",
     "text": [
      "100%|██████████| 328/328 [00:34<00:00,  9.49it/s]\n"
     ]
    },
    {
     "name": "stdout",
     "output_type": "stream",
     "text": [
      "{'val_loss': 1.8204256557836764, 'val_accuracy': 0.6147978642257819, 'precision': 0.6174134979258583, 'recall': 0.6147978642257819, 'f1-score': 0.6100166835991246, 'macro_f1-score': 0.3148200533125572, 'balanced_accuracy': 0.3253371138503496, 'mcc': 0.49612183556400263, 'train_loss': 0.34041361405128023}\n",
      "Epoch 11/20\n"
     ]
    },
    {
     "name": "stderr",
     "output_type": "stream",
     "text": [
      "100%|██████████| 328/328 [00:34<00:00,  9.50it/s]\n"
     ]
    },
    {
     "name": "stdout",
     "output_type": "stream",
     "text": [
      "{'val_loss': 1.8010424869816477, 'val_accuracy': 0.6437833714721587, 'precision': 0.632907574514974, 'recall': 0.6437833714721587, 'f1-score': 0.6267316342275652, 'macro_f1-score': 0.37086382926789013, 'balanced_accuracy': 0.3731904595379992, 'mcc': 0.5231398175554456, 'train_loss': 0.2960631839317701}\n",
      "Epoch 12/20\n"
     ]
    },
    {
     "name": "stderr",
     "output_type": "stream",
     "text": [
      "100%|██████████| 328/328 [00:34<00:00,  9.50it/s]\n"
     ]
    },
    {
     "name": "stdout",
     "output_type": "stream",
     "text": [
      "{'val_loss': 1.7404890398426753, 'val_accuracy': 0.6506483600305111, 'precision': 0.6579418951481804, 'recall': 0.6506483600305111, 'f1-score': 0.6454198913562271, 'macro_f1-score': 0.39747756336509993, 'balanced_accuracy': 0.3976884726943015, 'mcc': 0.5386193237477985, 'train_loss': 0.24100947209134152}\n",
      "Epoch 13/20\n"
     ]
    },
    {
     "name": "stderr",
     "output_type": "stream",
     "text": [
      "100%|██████████| 328/328 [00:34<00:00,  9.49it/s]\n"
     ]
    },
    {
     "name": "stdout",
     "output_type": "stream",
     "text": [
      "{'val_loss': 2.0447576514831405, 'val_accuracy': 0.6361556064073226, 'precision': 0.6149909885246079, 'recall': 0.6361556064073226, 'f1-score': 0.6051607801868637, 'macro_f1-score': 0.3314212526045569, 'balanced_accuracy': 0.3260692901739194, 'mcc': 0.5033899488124691, 'train_loss': 0.2157846336542606}\n",
      "Epoch 14/20\n"
     ]
    },
    {
     "name": "stderr",
     "output_type": "stream",
     "text": [
      "100%|██████████| 328/328 [00:34<00:00,  9.51it/s]\n"
     ]
    },
    {
     "name": "stdout",
     "output_type": "stream",
     "text": [
      "{'val_loss': 2.030597144510688, 'val_accuracy': 0.6536994660564455, 'precision': 0.6331076699917855, 'recall': 0.6536994660564455, 'f1-score': 0.6315834684480973, 'macro_f1-score': 0.3735242843335029, 'balanced_accuracy': 0.37618661181631635, 'mcc': 0.5304192803262128, 'train_loss': 0.15999536244794954}\n",
      "Epoch 15/20\n"
     ]
    },
    {
     "name": "stderr",
     "output_type": "stream",
     "text": [
      "100%|██████████| 328/328 [00:34<00:00,  9.51it/s]\n"
     ]
    },
    {
     "name": "stdout",
     "output_type": "stream",
     "text": [
      "{'val_loss': 2.065085281686085, 'val_accuracy': 0.6475972540045767, 'precision': 0.6392434393059412, 'recall': 0.6475972540045767, 'f1-score': 0.6276080116948466, 'macro_f1-score': 0.385208600970446, 'balanced_accuracy': 0.38275494568296303, 'mcc': 0.5302270403733699, 'train_loss': 0.15358221436575306}\n",
      "Early stopping.\n",
      "\n",
      "[Fold 3]\n",
      "Label distribution after resampling:\n",
      "  label 0: 2471\n",
      "  label 1: 22\n",
      "  label 2: 64\n",
      "  label 3: 24\n",
      "  label 4: 190\n",
      "  label 5: 113\n",
      "  label 6: 93\n",
      "  label 7: 30\n",
      "  label 8: 68\n",
      "  label 9: 30\n",
      "  label 10: 67\n",
      "  label 11: 169\n",
      "  label 12: 190\n",
      "  label 13: 28\n",
      "  label 14: 23\n",
      "  label 15: 25\n",
      "  label 16: 19\n",
      "  label 17: 182\n",
      "  label 18: 92\n",
      "  label 19: 44\n",
      "  label 20: 14\n",
      "  label 21: 35\n",
      "  label 22: 76\n",
      "  label 23: 157\n",
      "  label 24: 13\n",
      "  label 25: 44\n",
      "  label 26: 84\n",
      "  label 27: 48\n",
      "  label 28: 11\n",
      "  label 29: 13\n",
      "  label 30: 11\n",
      "  label 31: 76\n",
      "  label 32: 36\n",
      "  label 33: 31\n",
      "  label 34: 30\n",
      "  label 35: 11\n",
      "  label 36: 21\n",
      "  label 37: 16\n",
      "  label 38: 32\n",
      "  label 39: 11\n",
      "  label 40: 9\n",
      "  label 41: 57\n",
      "  label 42: 18\n",
      "  label 43: 9\n",
      "  label 44: 55\n",
      "  label 45: 241\n",
      "  label 46: 62\n",
      "  label 47: 80\n",
      "model is microsoft/deberta-base cnn\n",
      "Epoch 1/20\n"
     ]
    },
    {
     "name": "stderr",
     "output_type": "stream",
     "text": [
      "100%|██████████| 328/328 [00:34<00:00,  9.47it/s]\n"
     ]
    },
    {
     "name": "stdout",
     "output_type": "stream",
     "text": [
      "{'val_loss': 2.5410903052585883, 'val_accuracy': 0.47139588100686497, 'precision': 0.23420819496577813, 'recall': 0.47139588100686497, 'f1-score': 0.3117462841517223, 'macro_f1-score': 0.018160038380626617, 'balanced_accuracy': 0.0250252098869659, 'mcc': 0.06411630082336549, 'train_loss': 2.3631994978683752}\n",
      "Epoch 2/20\n"
     ]
    },
    {
     "name": "stderr",
     "output_type": "stream",
     "text": [
      "100%|██████████| 328/328 [00:34<00:00,  9.51it/s]\n"
     ]
    },
    {
     "name": "stdout",
     "output_type": "stream",
     "text": [
      "{'val_loss': 2.637830606321009, 'val_accuracy': 0.47139588100686497, 'precision': 0.2222140766302384, 'recall': 0.47139588100686497, 'f1-score': 0.302045261236125, 'macro_f1-score': 0.01334888543286677, 'balanced_accuracy': 0.020833333333333332, 'mcc': 0.0, 'train_loss': 2.4474887793383946}\n",
      "Epoch 3/20\n"
     ]
    },
    {
     "name": "stderr",
     "output_type": "stream",
     "text": [
      "100%|██████████| 328/328 [00:34<00:00,  9.50it/s]\n"
     ]
    },
    {
     "name": "stdout",
     "output_type": "stream",
     "text": [
      "{'val_loss': 2.1762686975118593, 'val_accuracy': 0.5225019069412662, 'precision': 0.30901749864192857, 'recall': 0.5225019069412662, 'f1-score': 0.38792479401844343, 'macro_f1-score': 0.04008852981245998, 'balanced_accuracy': 0.057299352534559554, 'mcc': 0.272911389869722, 'train_loss': 2.369337890206314}\n",
      "Epoch 4/20\n"
     ]
    },
    {
     "name": "stderr",
     "output_type": "stream",
     "text": [
      "100%|██████████| 328/328 [00:34<00:00,  9.49it/s]\n"
     ]
    },
    {
     "name": "stdout",
     "output_type": "stream",
     "text": [
      "{'val_loss': 2.4240578601999982, 'val_accuracy': 0.5087719298245614, 'precision': 0.27835547224131046, 'recall': 0.5087719298245614, 'f1-score': 0.35327275537263425, 'macro_f1-score': 0.028693800752624284, 'balanced_accuracy': 0.04052367389074575, 'mcc': 0.21562314807841348, 'train_loss': 2.152256389943565}\n",
      "Epoch 5/20\n"
     ]
    },
    {
     "name": "stderr",
     "output_type": "stream",
     "text": [
      "100%|██████████| 328/328 [00:34<00:00,  9.49it/s]\n"
     ]
    },
    {
     "name": "stdout",
     "output_type": "stream",
     "text": [
      "{'val_loss': 2.2701451931057908, 'val_accuracy': 0.513348588863463, 'precision': 0.2923565560197928, 'recall': 0.513348588863463, 'f1-score': 0.3707595272785387, 'macro_f1-score': 0.034539615368049274, 'balanced_accuracy': 0.04398802396631837, 'mcc': 0.23256831699990205, 'train_loss': 2.18985135289954}\n",
      "Epoch 6/20\n"
     ]
    },
    {
     "name": "stderr",
     "output_type": "stream",
     "text": [
      "100%|██████████| 328/328 [00:34<00:00,  9.50it/s]\n"
     ]
    },
    {
     "name": "stdout",
     "output_type": "stream",
     "text": [
      "{'val_loss': 2.1793388571681045, 'val_accuracy': 0.517162471395881, 'precision': 0.32022430127030627, 'recall': 0.517162471395881, 'f1-score': 0.3832073941095066, 'macro_f1-score': 0.037967883083976355, 'balanced_accuracy': 0.05119426295962013, 'mcc': 0.26054992665043875, 'train_loss': 2.0994954227310854}\n",
      "Early stopping.\n",
      "\n",
      "[Fold 4]\n",
      "Label distribution after resampling:\n",
      "  label 0: 2471\n",
      "  label 1: 22\n",
      "  label 2: 64\n",
      "  label 3: 24\n",
      "  label 4: 190\n",
      "  label 5: 113\n",
      "  label 6: 93\n",
      "  label 7: 31\n",
      "  label 8: 68\n",
      "  label 9: 29\n",
      "  label 10: 67\n",
      "  label 11: 169\n",
      "  label 12: 190\n",
      "  label 13: 29\n",
      "  label 14: 22\n",
      "  label 15: 25\n",
      "  label 16: 19\n",
      "  label 17: 182\n",
      "  label 18: 92\n",
      "  label 19: 44\n",
      "  label 20: 14\n",
      "  label 21: 35\n",
      "  label 22: 76\n",
      "  label 23: 158\n",
      "  label 24: 13\n",
      "  label 25: 44\n",
      "  label 26: 84\n",
      "  label 27: 48\n",
      "  label 28: 11\n",
      "  label 29: 13\n",
      "  label 30: 11\n",
      "  label 31: 75\n",
      "  label 32: 36\n",
      "  label 33: 31\n",
      "  label 34: 30\n",
      "  label 35: 11\n",
      "  label 36: 22\n",
      "  label 37: 16\n",
      "  label 38: 33\n",
      "  label 39: 10\n",
      "  label 40: 9\n",
      "  label 41: 56\n",
      "  label 42: 18\n",
      "  label 43: 9\n",
      "  label 44: 55\n",
      "  label 45: 241\n",
      "  label 46: 62\n",
      "  label 47: 80\n",
      "model is microsoft/deberta-base cnn\n",
      "Epoch 1/20\n"
     ]
    },
    {
     "name": "stderr",
     "output_type": "stream",
     "text": [
      "100%|██████████| 328/328 [00:34<00:00,  9.50it/s]\n"
     ]
    },
    {
     "name": "stdout",
     "output_type": "stream",
     "text": [
      "{'val_loss': 1.9933027188952377, 'val_accuracy': 0.5461479786422578, 'precision': 0.3856866010800943, 'recall': 0.5461479786422578, 'f1-score': 0.41890738730539206, 'macro_f1-score': 0.06410262309054145, 'balanced_accuracy': 0.07460851683073029, 'mcc': 0.3122701664453804, 'train_loss': 2.309678823300978}\n",
      "Epoch 2/20\n"
     ]
    },
    {
     "name": "stderr",
     "output_type": "stream",
     "text": [
      "100%|██████████| 328/328 [00:34<00:00,  9.51it/s]\n"
     ]
    },
    {
     "name": "stdout",
     "output_type": "stream",
     "text": [
      "{'val_loss': 1.7111651701171224, 'val_accuracy': 0.5911517925247902, 'precision': 0.4936504158648201, 'recall': 0.5911517925247902, 'f1-score': 0.5187367219495902, 'macro_f1-score': 0.12085628563863877, 'balanced_accuracy': 0.14529881923933255, 'mcc': 0.43102606323922876, 'train_loss': 1.8741377299515212}\n",
      "Epoch 3/20\n"
     ]
    },
    {
     "name": "stderr",
     "output_type": "stream",
     "text": [
      "100%|██████████| 328/328 [00:34<00:00,  9.51it/s]\n"
     ]
    },
    {
     "name": "stdout",
     "output_type": "stream",
     "text": [
      "{'val_loss': 1.6136998766806068, 'val_accuracy': 0.5949656750572082, 'precision': 0.514878889252254, 'recall': 0.5949656750572082, 'f1-score': 0.5366664974078671, 'macro_f1-score': 0.15555218311999555, 'balanced_accuracy': 0.17182450819991468, 'mcc': 0.4387836702972095, 'train_loss': 1.5577662630778988}\n",
      "Epoch 4/20\n"
     ]
    },
    {
     "name": "stderr",
     "output_type": "stream",
     "text": [
      "100%|██████████| 328/328 [00:34<00:00,  9.49it/s]\n"
     ]
    },
    {
     "name": "stdout",
     "output_type": "stream",
     "text": [
      "{'val_loss': 1.57480133997231, 'val_accuracy': 0.5911517925247902, 'precision': 0.5574116963408319, 'recall': 0.5911517925247902, 'f1-score': 0.5539644340540544, 'macro_f1-score': 0.20458870356469416, 'balanced_accuracy': 0.2215025211541853, 'mcc': 0.455606537244625, 'train_loss': 1.3329983685256503}\n",
      "Epoch 5/20\n"
     ]
    },
    {
     "name": "stderr",
     "output_type": "stream",
     "text": [
      "100%|██████████| 328/328 [00:34<00:00,  9.50it/s]\n"
     ]
    },
    {
     "name": "stdout",
     "output_type": "stream",
     "text": [
      "{'val_loss': 1.531815210675321, 'val_accuracy': 0.6231884057971014, 'precision': 0.5702036685405967, 'recall': 0.6231884057971014, 'f1-score': 0.5835953212959437, 'macro_f1-score': 0.2383678522136717, 'balanced_accuracy': 0.23266940634042468, 'mcc': 0.4831074789500564, 'train_loss': 1.100397086815863}\n",
      "Epoch 6/20\n"
     ]
    },
    {
     "name": "stderr",
     "output_type": "stream",
     "text": [
      "100%|██████████| 328/328 [00:34<00:00,  9.49it/s]\n"
     ]
    },
    {
     "name": "stdout",
     "output_type": "stream",
     "text": [
      "{'val_loss': 1.6513476964177154, 'val_accuracy': 0.5797101449275363, 'precision': 0.5859701878141831, 'recall': 0.5797101449275363, 'f1-score': 0.5699006244540332, 'macro_f1-score': 0.2720293572872409, 'balanced_accuracy': 0.31011161350729344, 'mcc': 0.47021339094992365, 'train_loss': 0.9104981797224865}\n",
      "Epoch 7/20\n"
     ]
    },
    {
     "name": "stderr",
     "output_type": "stream",
     "text": [
      "100%|██████████| 328/328 [00:34<00:00,  9.51it/s]\n"
     ]
    },
    {
     "name": "stdout",
     "output_type": "stream",
     "text": [
      "{'val_loss': 1.5899931301430958, 'val_accuracy': 0.6285278413424866, 'precision': 0.6184155020896863, 'recall': 0.6285278413424866, 'f1-score': 0.6086278023042849, 'macro_f1-score': 0.30272562363039207, 'balanced_accuracy': 0.31581373846142263, 'mcc': 0.5067373837415928, 'train_loss': 0.7575846247647594}\n",
      "Epoch 8/20\n"
     ]
    },
    {
     "name": "stderr",
     "output_type": "stream",
     "text": [
      "100%|██████████| 328/328 [00:34<00:00,  9.49it/s]\n"
     ]
    },
    {
     "name": "stdout",
     "output_type": "stream",
     "text": [
      "{'val_loss': 1.615408372951717, 'val_accuracy': 0.6285278413424866, 'precision': 0.616663371626868, 'recall': 0.6285278413424866, 'f1-score': 0.615129852355423, 'macro_f1-score': 0.3375808281162249, 'balanced_accuracy': 0.34640634924025115, 'mcc': 0.515268650328411, 'train_loss': 0.5645684736394664}\n",
      "Epoch 9/20\n"
     ]
    },
    {
     "name": "stderr",
     "output_type": "stream",
     "text": [
      "100%|██████████| 328/328 [00:34<00:00,  9.50it/s]\n"
     ]
    },
    {
     "name": "stdout",
     "output_type": "stream",
     "text": [
      "{'val_loss': 1.6903847911190697, 'val_accuracy': 0.6636155606407322, 'precision': 0.6428650823571372, 'recall': 0.6636155606407322, 'f1-score': 0.6388827534594258, 'macro_f1-score': 0.3584383192058278, 'balanced_accuracy': 0.35685887481868933, 'mcc': 0.5471301972206517, 'train_loss': 0.45314891711331723}\n",
      "Epoch 10/20\n"
     ]
    },
    {
     "name": "stderr",
     "output_type": "stream",
     "text": [
      "100%|██████████| 328/328 [00:34<00:00,  9.51it/s]\n"
     ]
    },
    {
     "name": "stdout",
     "output_type": "stream",
     "text": [
      "{'val_loss': 1.7962478043102637, 'val_accuracy': 0.6170861937452327, 'precision': 0.6439436832084976, 'recall': 0.6170861937452327, 'f1-score': 0.6211293424190616, 'macro_f1-score': 0.3516512778235194, 'balanced_accuracy': 0.3792115006612427, 'mcc': 0.516581216311152, 'train_loss': 0.38569227479137025}\n",
      "Epoch 11/20\n"
     ]
    },
    {
     "name": "stderr",
     "output_type": "stream",
     "text": [
      "100%|██████████| 328/328 [00:34<00:00,  9.50it/s]\n"
     ]
    },
    {
     "name": "stdout",
     "output_type": "stream",
     "text": [
      "{'val_loss': 1.9374437891855472, 'val_accuracy': 0.6193745232646835, 'precision': 0.6423004828273751, 'recall': 0.6193745232646835, 'f1-score': 0.6243269331361219, 'macro_f1-score': 0.372622703138399, 'balanced_accuracy': 0.3801896949926044, 'mcc': 0.5121263500380742, 'train_loss': 0.29418027147696146}\n",
      "Epoch 12/20\n"
     ]
    },
    {
     "name": "stderr",
     "output_type": "stream",
     "text": [
      "100%|██████████| 328/328 [00:34<00:00,  9.52it/s]\n"
     ]
    },
    {
     "name": "stdout",
     "output_type": "stream",
     "text": [
      "{'val_loss': 1.893194411131667, 'val_accuracy': 0.6163234172387491, 'precision': 0.6453073522965671, 'recall': 0.6163234172387491, 'f1-score': 0.6223836208155312, 'macro_f1-score': 0.36420760437931204, 'balanced_accuracy': 0.3820316050400872, 'mcc': 0.5110209475474987, 'train_loss': 0.26017329149322993}\n",
      "Epoch 13/20\n"
     ]
    },
    {
     "name": "stderr",
     "output_type": "stream",
     "text": [
      "100%|██████████| 328/328 [00:34<00:00,  9.51it/s]\n"
     ]
    },
    {
     "name": "stdout",
     "output_type": "stream",
     "text": [
      "{'val_loss': 2.0747328587785, 'val_accuracy': 0.6300533943554538, 'precision': 0.636724153592179, 'recall': 0.6300533943554538, 'f1-score': 0.6254944582748064, 'macro_f1-score': 0.3542090495793409, 'balanced_accuracy': 0.35393404485406926, 'mcc': 0.516541657866742, 'train_loss': 0.21803358825571018}\n",
      "Epoch 14/20\n"
     ]
    },
    {
     "name": "stderr",
     "output_type": "stream",
     "text": [
      "100%|██████████| 328/328 [00:34<00:00,  9.48it/s]\n"
     ]
    },
    {
     "name": "stdout",
     "output_type": "stream",
     "text": [
      "{'val_loss': 1.986583683912347, 'val_accuracy': 0.635392829900839, 'precision': 0.6344808509407447, 'recall': 0.635392829900839, 'f1-score': 0.6287817038811916, 'macro_f1-score': 0.36870664886507004, 'balanced_accuracy': 0.3754712024737419, 'mcc': 0.5188245472138021, 'train_loss': 0.2064586672335636}\n",
      "Early stopping.\n",
      "\n",
      "[Fold 5]\n",
      "Label distribution after resampling:\n",
      "  label 0: 2472\n",
      "  label 1: 21\n",
      "  label 2: 64\n",
      "  label 3: 24\n",
      "  label 4: 191\n",
      "  label 5: 112\n",
      "  label 6: 92\n",
      "  label 7: 31\n",
      "  label 8: 68\n",
      "  label 9: 29\n",
      "  label 10: 68\n",
      "  label 11: 168\n",
      "  label 12: 190\n",
      "  label 13: 29\n",
      "  label 14: 22\n",
      "  label 15: 25\n",
      "  label 16: 19\n",
      "  label 17: 183\n",
      "  label 18: 92\n",
      "  label 19: 44\n",
      "  label 20: 14\n",
      "  label 21: 35\n",
      "  label 22: 76\n",
      "  label 23: 158\n",
      "  label 24: 13\n",
      "  label 25: 44\n",
      "  label 26: 84\n",
      "  label 27: 48\n",
      "  label 28: 11\n",
      "  label 29: 13\n",
      "  label 30: 11\n",
      "  label 31: 75\n",
      "  label 32: 36\n",
      "  label 33: 31\n",
      "  label 34: 30\n",
      "  label 35: 11\n",
      "  label 36: 22\n",
      "  label 37: 16\n",
      "  label 38: 33\n",
      "  label 39: 10\n",
      "  label 40: 9\n",
      "  label 41: 57\n",
      "  label 42: 18\n",
      "  label 43: 9\n",
      "  label 44: 54\n",
      "  label 45: 242\n",
      "  label 46: 61\n",
      "  label 47: 80\n",
      "model is microsoft/deberta-base cnn\n",
      "Epoch 1/20\n"
     ]
    },
    {
     "name": "stderr",
     "output_type": "stream",
     "text": [
      "100%|██████████| 328/328 [00:34<00:00,  9.51it/s]\n"
     ]
    },
    {
     "name": "stdout",
     "output_type": "stream",
     "text": [
      "{'val_loss': 1.8776567956296408, 'val_accuracy': 0.540045766590389, 'precision': 0.3449977117473921, 'recall': 0.540045766590389, 'f1-score': 0.4126189691142186, 'macro_f1-score': 0.055110571174226415, 'balanced_accuracy': 0.07923125643455774, 'mcc': 0.3136134372365431, 'train_loss': 2.2760803626804815}\n",
      "Epoch 2/20\n"
     ]
    },
    {
     "name": "stderr",
     "output_type": "stream",
     "text": [
      "100%|██████████| 328/328 [00:34<00:00,  9.47it/s]\n"
     ]
    },
    {
     "name": "stdout",
     "output_type": "stream",
     "text": [
      "{'val_loss': 1.6340417607528408, 'val_accuracy': 0.5835240274599542, 'precision': 0.478792930511309, 'recall': 0.5835240274599542, 'f1-score': 0.5043246029819175, 'macro_f1-score': 0.1181289978724795, 'balanced_accuracy': 0.14057113087802442, 'mcc': 0.42265655322236595, 'train_loss': 1.8054200443552761}\n",
      "Epoch 3/20\n"
     ]
    },
    {
     "name": "stderr",
     "output_type": "stream",
     "text": [
      "100%|██████████| 328/328 [00:34<00:00,  9.48it/s]\n"
     ]
    },
    {
     "name": "stdout",
     "output_type": "stream",
     "text": [
      "{'val_loss': 1.4762487658640233, 'val_accuracy': 0.6041189931350115, 'precision': 0.5533030286476466, 'recall': 0.6041189931350115, 'f1-score': 0.5587497144671064, 'macro_f1-score': 0.20206315814685272, 'balanced_accuracy': 0.2231219077645772, 'mcc': 0.46743438545362426, 'train_loss': 1.514037159248823}\n",
      "Epoch 4/20\n"
     ]
    },
    {
     "name": "stderr",
     "output_type": "stream",
     "text": [
      "100%|██████████| 328/328 [00:34<00:00,  9.49it/s]\n"
     ]
    },
    {
     "name": "stdout",
     "output_type": "stream",
     "text": [
      "{'val_loss': 1.3447284985606263, 'val_accuracy': 0.6445461479786423, 'precision': 0.5897416641662743, 'recall': 0.6445461479786423, 'f1-score': 0.6063112616601888, 'macro_f1-score': 0.25865026384937767, 'balanced_accuracy': 0.27142038641363003, 'mcc': 0.5261969518098829, 'train_loss': 1.2374654198746855}\n",
      "Epoch 5/20\n"
     ]
    },
    {
     "name": "stderr",
     "output_type": "stream",
     "text": [
      "100%|██████████| 328/328 [00:34<00:00,  9.50it/s]\n"
     ]
    },
    {
     "name": "stdout",
     "output_type": "stream",
     "text": [
      "{'val_loss': 1.4041455297208414, 'val_accuracy': 0.6384439359267735, 'precision': 0.6350147494901016, 'recall': 0.6384439359267735, 'f1-score': 0.619900713202592, 'macro_f1-score': 0.2937116393016566, 'balanced_accuracy': 0.30558039740192344, 'mcc': 0.5292320426477998, 'train_loss': 1.0130347088887923}\n",
      "Epoch 6/20\n"
     ]
    },
    {
     "name": "stderr",
     "output_type": "stream",
     "text": [
      "100%|██████████| 328/328 [00:34<00:00,  9.49it/s]\n"
     ]
    },
    {
     "name": "stdout",
     "output_type": "stream",
     "text": [
      "{'val_loss': 1.40016883357269, 'val_accuracy': 0.6361556064073226, 'precision': 0.6210027971684818, 'recall': 0.6361556064073226, 'f1-score': 0.612790766830739, 'macro_f1-score': 0.31383219117342853, 'balanced_accuracy': 0.3188196991867981, 'mcc': 0.5193076859896847, 'train_loss': 0.9627839423852359}\n",
      "Epoch 7/20\n"
     ]
    },
    {
     "name": "stderr",
     "output_type": "stream",
     "text": [
      "100%|██████████| 328/328 [00:34<00:00,  9.51it/s]\n"
     ]
    },
    {
     "name": "stdout",
     "output_type": "stream",
     "text": [
      "{'val_loss': 1.4505567572465756, 'val_accuracy': 0.6506483600305111, 'precision': 0.6367558409706918, 'recall': 0.6506483600305111, 'f1-score': 0.6349327604302928, 'macro_f1-score': 0.3396867040248232, 'balanced_accuracy': 0.3539541953052196, 'mcc': 0.5429243999371942, 'train_loss': 0.6959026665086063}\n",
      "Epoch 8/20\n"
     ]
    },
    {
     "name": "stderr",
     "output_type": "stream",
     "text": [
      "100%|██████████| 328/328 [00:34<00:00,  9.52it/s]\n"
     ]
    },
    {
     "name": "stdout",
     "output_type": "stream",
     "text": [
      "{'val_loss': 1.5076035577349547, 'val_accuracy': 0.6605644546147978, 'precision': 0.6410226927197139, 'recall': 0.6605644546147978, 'f1-score': 0.6390846654023641, 'macro_f1-score': 0.35608634405426726, 'balanced_accuracy': 0.3475614425015407, 'mcc': 0.5451440270469355, 'train_loss': 0.5177539646988962}\n",
      "Epoch 9/20\n"
     ]
    },
    {
     "name": "stderr",
     "output_type": "stream",
     "text": [
      "100%|██████████| 328/328 [00:34<00:00,  9.49it/s]\n"
     ]
    },
    {
     "name": "stdout",
     "output_type": "stream",
     "text": [
      "{'val_loss': 1.6262335933563186, 'val_accuracy': 0.631578947368421, 'precision': 0.6531299880924878, 'recall': 0.631578947368421, 'f1-score': 0.6279195184030818, 'macro_f1-score': 0.3762837528772227, 'balanced_accuracy': 0.3777452502777838, 'mcc': 0.52639393301784, 'train_loss': 0.40208908723576403}\n",
      "Epoch 10/20\n"
     ]
    },
    {
     "name": "stderr",
     "output_type": "stream",
     "text": [
      "100%|██████████| 328/328 [00:34<00:00,  9.52it/s]\n"
     ]
    },
    {
     "name": "stdout",
     "output_type": "stream",
     "text": [
      "{'val_loss': 1.685723990928836, 'val_accuracy': 0.620137299771167, 'precision': 0.6465570942008485, 'recall': 0.620137299771167, 'f1-score': 0.6175384496029311, 'macro_f1-score': 0.3440280125000909, 'balanced_accuracy': 0.3557331228023733, 'mcc': 0.5178346108743463, 'train_loss': 0.35022254639714046}\n",
      "Epoch 11/20\n"
     ]
    },
    {
     "name": "stderr",
     "output_type": "stream",
     "text": [
      "100%|██████████| 328/328 [00:34<00:00,  9.49it/s]\n"
     ]
    },
    {
     "name": "stdout",
     "output_type": "stream",
     "text": [
      "{'val_loss': 1.685862359658974, 'val_accuracy': 0.6681922196796338, 'precision': 0.6433558059838472, 'recall': 0.6681922196796338, 'f1-score': 0.6411486364928924, 'macro_f1-score': 0.3861754086801216, 'balanced_accuracy': 0.3701770066245013, 'mcc': 0.5500893549570863, 'train_loss': 0.27949581236476306}\n",
      "Epoch 12/20\n"
     ]
    },
    {
     "name": "stderr",
     "output_type": "stream",
     "text": [
      "100%|██████████| 328/328 [00:34<00:00,  9.50it/s]\n"
     ]
    },
    {
     "name": "stdout",
     "output_type": "stream",
     "text": [
      "{'val_loss': 1.7987821389262268, 'val_accuracy': 0.6407322654462243, 'precision': 0.6681187226355694, 'recall': 0.6407322654462243, 'f1-score': 0.6419769220555592, 'macro_f1-score': 0.40715009340470854, 'balanced_accuracy': 0.4056694766116596, 'mcc': 0.5372600429149689, 'train_loss': 0.25165575239012333}\n",
      "Epoch 13/20\n"
     ]
    },
    {
     "name": "stderr",
     "output_type": "stream",
     "text": [
      "100%|██████████| 328/328 [00:34<00:00,  9.49it/s]\n"
     ]
    },
    {
     "name": "stdout",
     "output_type": "stream",
     "text": [
      "{'val_loss': 1.8778029672983216, 'val_accuracy': 0.6445461479786423, 'precision': 0.6674415114064552, 'recall': 0.6445461479786423, 'f1-score': 0.6452455224125976, 'macro_f1-score': 0.4297897713522807, 'balanced_accuracy': 0.4307357422646538, 'mcc': 0.5455693785901408, 'train_loss': 0.20753650587739242}\n",
      "Epoch 14/20\n"
     ]
    },
    {
     "name": "stderr",
     "output_type": "stream",
     "text": [
      "100%|██████████| 328/328 [00:34<00:00,  9.50it/s]\n"
     ]
    },
    {
     "name": "stdout",
     "output_type": "stream",
     "text": [
      "{'val_loss': 1.8529990101005973, 'val_accuracy': 0.6521739130434783, 'precision': 0.6512253101774931, 'recall': 0.6521739130434783, 'f1-score': 0.6425843523605785, 'macro_f1-score': 0.3992528157028013, 'balanced_accuracy': 0.4020444144144492, 'mcc': 0.5396021571639623, 'train_loss': 0.15308323075069205}\n",
      "Epoch 15/20\n"
     ]
    },
    {
     "name": "stderr",
     "output_type": "stream",
     "text": [
      "100%|██████████| 328/328 [00:34<00:00,  9.51it/s]\n"
     ]
    },
    {
     "name": "stdout",
     "output_type": "stream",
     "text": [
      "{'val_loss': 1.8710049986839294, 'val_accuracy': 0.662090007627765, 'precision': 0.6697147041122462, 'recall': 0.662090007627765, 'f1-score': 0.6582321646273483, 'macro_f1-score': 0.43073805601480414, 'balanced_accuracy': 0.4182001997554942, 'mcc': 0.554252434629229, 'train_loss': 0.12690389646066738}\n",
      "Epoch 16/20\n"
     ]
    },
    {
     "name": "stderr",
     "output_type": "stream",
     "text": [
      "100%|██████████| 328/328 [00:34<00:00,  9.49it/s]\n"
     ]
    },
    {
     "name": "stdout",
     "output_type": "stream",
     "text": [
      "{'val_loss': 1.929565577972226, 'val_accuracy': 0.6346300533943554, 'precision': 0.6562786077367629, 'recall': 0.6346300533943554, 'f1-score': 0.6328015531457867, 'macro_f1-score': 0.3854931230948466, 'balanced_accuracy': 0.3882908190086288, 'mcc': 0.5338664102687112, 'train_loss': 0.13036093655292216}\n",
      "Epoch 17/20\n"
     ]
    },
    {
     "name": "stderr",
     "output_type": "stream",
     "text": [
      "100%|██████████| 328/328 [00:34<00:00,  9.51it/s]\n"
     ]
    },
    {
     "name": "stdout",
     "output_type": "stream",
     "text": [
      "{'val_loss': 2.0004330806252435, 'val_accuracy': 0.6392067124332571, 'precision': 0.6370563036075185, 'recall': 0.6392067124332571, 'f1-score': 0.6323847042329734, 'macro_f1-score': 0.39034620956053384, 'balanced_accuracy': 0.39063605505278326, 'mcc': 0.5275985915111344, 'train_loss': 0.1456435646275456}\n",
      "Epoch 18/20\n"
     ]
    },
    {
     "name": "stderr",
     "output_type": "stream",
     "text": [
      "100%|██████████| 328/328 [00:34<00:00,  9.51it/s]\n"
     ]
    },
    {
     "name": "stdout",
     "output_type": "stream",
     "text": [
      "{'val_loss': 2.0121584988948777, 'val_accuracy': 0.6514111365369947, 'precision': 0.6586369581034908, 'recall': 0.6514111365369947, 'f1-score': 0.6422774322792093, 'macro_f1-score': 0.39147529841287326, 'balanced_accuracy': 0.38068600755269705, 'mcc': 0.5369959601344091, 'train_loss': 0.14601984709144922}\n",
      "Early stopping.\n",
      "\n",
      " === microsoft/deberta-base + cnn + none Final 5-fold Cross-Validation Results ===\n",
      "val_loss: 1.8967\n",
      "val_accuracy: 0.6181\n",
      "precision: 0.5800\n",
      "recall: 0.6181\n",
      "f1-score: 0.5862\n",
      "macro_f1-score: 0.3216\n",
      "balanced_accuracy: 0.3210\n",
      "mcc: 0.4761\n",
      "train_loss: 0.6883\n",
      "total_seconds: 2479.0000\n",
      "total_time: 0 hrs 41 mins 19 secs\n",
      "▶ Running: microsoft/deberta-base + lstm + none\n",
      "tokenizer is microsoft/deberta-base\n",
      "Using device: cuda\n",
      "CUDA Available: True\n",
      "CUDA Device: NVIDIA GeForce RTX 5070 Ti\n",
      "Current GPU Memory Allocated: 0.02 GB\n",
      "Current GPU Memory Cached: 5.12 GB\n",
      "\n",
      "[Fold 1]\n",
      "Label distribution after resampling:\n",
      "  label 0: 2471\n",
      "  label 1: 21\n",
      "  label 2: 64\n",
      "  label 3: 24\n",
      "  label 4: 191\n",
      "  label 5: 113\n",
      "  label 6: 93\n",
      "  label 7: 30\n",
      "  label 8: 68\n",
      "  label 9: 30\n",
      "  label 10: 67\n",
      "  label 11: 169\n",
      "  label 12: 189\n",
      "  label 13: 29\n",
      "  label 14: 22\n",
      "  label 15: 25\n",
      "  label 16: 19\n",
      "  label 17: 183\n",
      "  label 18: 92\n",
      "  label 19: 44\n",
      "  label 20: 13\n",
      "  label 21: 35\n",
      "  label 22: 76\n",
      "  label 23: 158\n",
      "  label 24: 13\n",
      "  label 25: 44\n",
      "  label 26: 84\n",
      "  label 27: 48\n",
      "  label 28: 11\n",
      "  label 29: 13\n",
      "  label 30: 11\n",
      "  label 31: 75\n",
      "  label 32: 36\n",
      "  label 33: 32\n",
      "  label 34: 29\n",
      "  label 35: 11\n",
      "  label 36: 22\n",
      "  label 37: 16\n",
      "  label 38: 33\n",
      "  label 39: 10\n",
      "  label 40: 9\n",
      "  label 41: 57\n",
      "  label 42: 19\n",
      "  label 43: 8\n",
      "  label 44: 54\n",
      "  label 45: 242\n",
      "  label 46: 61\n",
      "  label 47: 80\n",
      "model is microsoft/deberta-base lstm\n",
      "Epoch 1/20\n"
     ]
    },
    {
     "name": "stderr",
     "output_type": "stream",
     "text": [
      "100%|██████████| 328/328 [00:35<00:00,  9.34it/s]\n"
     ]
    },
    {
     "name": "stdout",
     "output_type": "stream",
     "text": [
      "{'val_loss': 2.1636387389607545, 'val_accuracy': 0.5228658536585366, 'precision': 0.2985385607856729, 'recall': 0.5228658536585366, 'f1-score': 0.3763756076636582, 'macro_f1-score': 0.04236255593510896, 'balanced_accuracy': 0.05381368251126565, 'mcc': 0.2536472578940444, 'train_loss': 2.4087492103983714}\n",
      "Epoch 2/20\n"
     ]
    },
    {
     "name": "stderr",
     "output_type": "stream",
     "text": [
      "100%|██████████| 328/328 [00:34<00:00,  9.39it/s]\n"
     ]
    },
    {
     "name": "stdout",
     "output_type": "stream",
     "text": [
      "{'val_loss': 2.203489764797978, 'val_accuracy': 0.5213414634146342, 'precision': 0.28996881047885753, 'recall': 0.5213414634146342, 'f1-score': 0.3722044188793257, 'macro_f1-score': 0.03610493118110553, 'balanced_accuracy': 0.05435095289464222, 'mcc': 0.2603140654348522, 'train_loss': 2.173890401859109}\n",
      "Epoch 3/20\n"
     ]
    },
    {
     "name": "stderr",
     "output_type": "stream",
     "text": [
      "100%|██████████| 328/328 [00:34<00:00,  9.40it/s]\n"
     ]
    },
    {
     "name": "stdout",
     "output_type": "stream",
     "text": [
      "{'val_loss': 2.053246191362055, 'val_accuracy': 0.5342987804878049, 'precision': 0.31630255944587016, 'recall': 0.5342987804878049, 'f1-score': 0.3935293039429843, 'macro_f1-score': 0.045260231371485875, 'balanced_accuracy': 0.06115904154903717, 'mcc': 0.28829339477078364, 'train_loss': 2.080781160149632}\n",
      "Epoch 4/20\n"
     ]
    },
    {
     "name": "stderr",
     "output_type": "stream",
     "text": [
      "100%|██████████| 328/328 [00:34<00:00,  9.42it/s]\n"
     ]
    },
    {
     "name": "stdout",
     "output_type": "stream",
     "text": [
      "{'val_loss': 2.1275290988567397, 'val_accuracy': 0.5175304878048781, 'precision': 0.3427749456663577, 'recall': 0.5175304878048781, 'f1-score': 0.4069989573647819, 'macro_f1-score': 0.048219638782019514, 'balanced_accuracy': 0.06488195226591865, 'mcc': 0.2813391839601932, 'train_loss': 1.946444611360387}\n",
      "Epoch 5/20\n"
     ]
    },
    {
     "name": "stderr",
     "output_type": "stream",
     "text": [
      "100%|██████████| 328/328 [00:34<00:00,  9.41it/s]\n"
     ]
    },
    {
     "name": "stdout",
     "output_type": "stream",
     "text": [
      "{'val_loss': 2.0156671601097758, 'val_accuracy': 0.5282012195121951, 'precision': 0.3592959752944776, 'recall': 0.5282012195121951, 'f1-score': 0.41618416557320276, 'macro_f1-score': 0.04751465396528104, 'balanced_accuracy': 0.0756362974193097, 'mcc': 0.32023467260653693, 'train_loss': 1.9417933078437317}\n",
      "Epoch 6/20\n"
     ]
    },
    {
     "name": "stderr",
     "output_type": "stream",
     "text": [
      "100%|██████████| 328/328 [00:34<00:00,  9.40it/s]\n"
     ]
    },
    {
     "name": "stdout",
     "output_type": "stream",
     "text": [
      "{'val_loss': 2.123315989971161, 'val_accuracy': 0.5091463414634146, 'precision': 0.3479849082130394, 'recall': 0.5091463414634146, 'f1-score': 0.40569751100296797, 'macro_f1-score': 0.03983816967752138, 'balanced_accuracy': 0.06142213852220179, 'mcc': 0.2923580340135622, 'train_loss': 1.8623864508983565}\n",
      "Epoch 7/20\n"
     ]
    },
    {
     "name": "stderr",
     "output_type": "stream",
     "text": [
      "100%|██████████| 328/328 [00:35<00:00,  9.37it/s]\n"
     ]
    },
    {
     "name": "stdout",
     "output_type": "stream",
     "text": [
      "{'val_loss': 2.130793497329805, 'val_accuracy': 0.5045731707317073, 'precision': 0.3788297840614167, 'recall': 0.5045731707317073, 'f1-score': 0.42587884089806366, 'macro_f1-score': 0.04776700708074192, 'balanced_accuracy': 0.07247141046249572, 'mcc': 0.3144770962199238, 'train_loss': 1.8385443269479564}\n",
      "Early stopping.\n",
      "\n",
      "[Fold 2]\n",
      "Label distribution after resampling:\n",
      "  label 0: 2471\n",
      "  label 1: 22\n",
      "  label 2: 64\n",
      "  label 3: 24\n",
      "  label 4: 190\n",
      "  label 5: 113\n",
      "  label 6: 93\n",
      "  label 7: 30\n",
      "  label 8: 68\n",
      "  label 9: 30\n",
      "  label 10: 67\n",
      "  label 11: 169\n",
      "  label 12: 189\n",
      "  label 13: 29\n",
      "  label 14: 23\n",
      "  label 15: 24\n",
      "  label 16: 20\n",
      "  label 17: 182\n",
      "  label 18: 92\n",
      "  label 19: 44\n",
      "  label 20: 13\n",
      "  label 21: 36\n",
      "  label 22: 76\n",
      "  label 23: 157\n",
      "  label 24: 12\n",
      "  label 25: 44\n",
      "  label 26: 84\n",
      "  label 27: 48\n",
      "  label 28: 12\n",
      "  label 29: 12\n",
      "  label 30: 12\n",
      "  label 31: 75\n",
      "  label 32: 36\n",
      "  label 33: 31\n",
      "  label 34: 29\n",
      "  label 35: 12\n",
      "  label 36: 21\n",
      "  label 37: 16\n",
      "  label 38: 33\n",
      "  label 39: 11\n",
      "  label 40: 8\n",
      "  label 41: 57\n",
      "  label 42: 19\n",
      "  label 43: 9\n",
      "  label 44: 54\n",
      "  label 45: 242\n",
      "  label 46: 62\n",
      "  label 47: 80\n",
      "model is microsoft/deberta-base lstm\n",
      "Epoch 1/20\n"
     ]
    },
    {
     "name": "stderr",
     "output_type": "stream",
     "text": [
      "100%|██████████| 328/328 [00:34<00:00,  9.41it/s]\n"
     ]
    },
    {
     "name": "stdout",
     "output_type": "stream",
     "text": [
      "{'val_loss': 2.2174881071579167, 'val_accuracy': 0.509534706331045, 'precision': 0.2683551124882123, 'recall': 0.509534706331045, 'f1-score': 0.3507619437810398, 'macro_f1-score': 0.02404475982532751, 'balanced_accuracy': 0.03882146709816613, 'mcc': 0.2241929304502082, 'train_loss': 2.4903165418200377}\n",
      "Epoch 2/20\n"
     ]
    },
    {
     "name": "stderr",
     "output_type": "stream",
     "text": [
      "100%|██████████| 328/328 [00:34<00:00,  9.41it/s]\n"
     ]
    },
    {
     "name": "stdout",
     "output_type": "stream",
     "text": [
      "{'val_loss': 2.121697459279037, 'val_accuracy': 0.520976353928299, 'precision': 0.32186251782956715, 'recall': 0.520976353928299, 'f1-score': 0.3941835870457745, 'macro_f1-score': 0.03558148436292793, 'balanced_accuracy': 0.05444456169973266, 'mcc': 0.2891031619372611, 'train_loss': 2.256442211750077}\n",
      "Epoch 3/20\n"
     ]
    },
    {
     "name": "stderr",
     "output_type": "stream",
     "text": [
      "100%|██████████| 328/328 [00:35<00:00,  9.34it/s]\n"
     ]
    },
    {
     "name": "stdout",
     "output_type": "stream",
     "text": [
      "{'val_loss': 2.0937090574241264, 'val_accuracy': 0.520976353928299, 'precision': 0.32971650553405857, 'recall': 0.520976353928299, 'f1-score': 0.39536805841812966, 'macro_f1-score': 0.03879357463121921, 'balanced_accuracy': 0.057616903522348856, 'mcc': 0.2872920851060062, 'train_loss': 2.1437996415103355}\n",
      "Epoch 4/20\n"
     ]
    },
    {
     "name": "stderr",
     "output_type": "stream",
     "text": [
      "100%|██████████| 328/328 [00:34<00:00,  9.40it/s]\n"
     ]
    },
    {
     "name": "stdout",
     "output_type": "stream",
     "text": [
      "{'val_loss': 2.2488565125116486, 'val_accuracy': 0.509534706331045, 'precision': 0.29541123090627086, 'recall': 0.509534706331045, 'f1-score': 0.3698255283523155, 'macro_f1-score': 0.029065456584960552, 'balanced_accuracy': 0.04248719718821819, 'mcc': 0.23874417949858454, 'train_loss': 2.208701922035799}\n",
      "Epoch 5/20\n"
     ]
    },
    {
     "name": "stderr",
     "output_type": "stream",
     "text": [
      "100%|██████████| 328/328 [00:34<00:00,  9.38it/s]\n"
     ]
    },
    {
     "name": "stdout",
     "output_type": "stream",
     "text": [
      "{'val_loss': 2.2066622151107325, 'val_accuracy': 0.49046529366895497, 'precision': 0.24823324939308763, 'recall': 0.49046529366895497, 'f1-score': 0.32929262839489915, 'macro_f1-score': 0.024948936236561654, 'balanced_accuracy': 0.034670923033628814, 'mcc': 0.15212838970763662, 'train_loss': 2.1839515174307476}\n",
      "Epoch 6/20\n"
     ]
    },
    {
     "name": "stderr",
     "output_type": "stream",
     "text": [
      "100%|██████████| 328/328 [00:34<00:00,  9.40it/s]\n"
     ]
    },
    {
     "name": "stdout",
     "output_type": "stream",
     "text": [
      "{'val_loss': 2.1878261449860363, 'val_accuracy': 0.4858886346300534, 'precision': 0.3511938583830355, 'recall': 0.4858886346300534, 'f1-score': 0.3978167002300281, 'macro_f1-score': 0.03108279973345002, 'balanced_accuracy': 0.05097556399793631, 'mcc': 0.2951215922809425, 'train_loss': 2.1658472209805395}\n",
      "Early stopping.\n",
      "\n",
      "[Fold 3]\n",
      "Label distribution after resampling:\n",
      "  label 0: 2471\n",
      "  label 1: 22\n",
      "  label 2: 64\n",
      "  label 3: 24\n",
      "  label 4: 190\n",
      "  label 5: 113\n",
      "  label 6: 93\n",
      "  label 7: 30\n",
      "  label 8: 68\n",
      "  label 9: 30\n",
      "  label 10: 67\n",
      "  label 11: 169\n",
      "  label 12: 190\n",
      "  label 13: 28\n",
      "  label 14: 23\n",
      "  label 15: 25\n",
      "  label 16: 19\n",
      "  label 17: 182\n",
      "  label 18: 92\n",
      "  label 19: 44\n",
      "  label 20: 14\n",
      "  label 21: 35\n",
      "  label 22: 76\n",
      "  label 23: 157\n",
      "  label 24: 13\n",
      "  label 25: 44\n",
      "  label 26: 84\n",
      "  label 27: 48\n",
      "  label 28: 11\n",
      "  label 29: 13\n",
      "  label 30: 11\n",
      "  label 31: 76\n",
      "  label 32: 36\n",
      "  label 33: 31\n",
      "  label 34: 30\n",
      "  label 35: 11\n",
      "  label 36: 21\n",
      "  label 37: 16\n",
      "  label 38: 32\n",
      "  label 39: 11\n",
      "  label 40: 9\n",
      "  label 41: 57\n",
      "  label 42: 18\n",
      "  label 43: 9\n",
      "  label 44: 55\n",
      "  label 45: 241\n",
      "  label 46: 62\n",
      "  label 47: 80\n",
      "model is microsoft/deberta-base lstm\n",
      "Epoch 1/20\n"
     ]
    },
    {
     "name": "stderr",
     "output_type": "stream",
     "text": [
      "100%|██████████| 328/328 [00:34<00:00,  9.38it/s]\n"
     ]
    },
    {
     "name": "stdout",
     "output_type": "stream",
     "text": [
      "{'val_loss': 2.246460779411037, 'val_accuracy': 0.5102974828375286, 'precision': 0.2749512435668812, 'recall': 0.5102974828375286, 'f1-score': 0.35487276070336127, 'macro_f1-score': 0.03050865334247708, 'balanced_accuracy': 0.03994513137301713, 'mcc': 0.21648334440496927, 'train_loss': 2.4924998814012946}\n",
      "Epoch 2/20\n"
     ]
    },
    {
     "name": "stderr",
     "output_type": "stream",
     "text": [
      "100%|██████████| 328/328 [00:34<00:00,  9.40it/s]\n"
     ]
    },
    {
     "name": "stdout",
     "output_type": "stream",
     "text": [
      "{'val_loss': 2.22940823508472, 'val_accuracy': 0.4996186117467582, 'precision': 0.3523729680328761, 'recall': 0.4996186117467582, 'f1-score': 0.4043951893704281, 'macro_f1-score': 0.03669343084506804, 'balanced_accuracy': 0.05262738534190269, 'mcc': 0.28493199861380825, 'train_loss': 2.1522262049157446}\n",
      "Epoch 3/20\n"
     ]
    },
    {
     "name": "stderr",
     "output_type": "stream",
     "text": [
      "100%|██████████| 328/328 [00:34<00:00,  9.38it/s]\n"
     ]
    },
    {
     "name": "stdout",
     "output_type": "stream",
     "text": [
      "{'val_loss': 2.039302514093678, 'val_accuracy': 0.5430968726163234, 'precision': 0.35274501578476014, 'recall': 0.5430968726163234, 'f1-score': 0.42372439154969205, 'macro_f1-score': 0.057570771470977423, 'balanced_accuracy': 0.07208046263317892, 'mcc': 0.3155580951785232, 'train_loss': 2.0519288347625153}\n",
      "Epoch 4/20\n"
     ]
    },
    {
     "name": "stderr",
     "output_type": "stream",
     "text": [
      "100%|██████████| 328/328 [00:34<00:00,  9.41it/s]\n"
     ]
    },
    {
     "name": "stdout",
     "output_type": "stream",
     "text": [
      "{'val_loss': 2.197552577024553, 'val_accuracy': 0.5278413424866514, 'precision': 0.3342019031508907, 'recall': 0.5278413424866514, 'f1-score': 0.40366135373266526, 'macro_f1-score': 0.0506757082116929, 'balanced_accuracy': 0.06104209259238206, 'mcc': 0.277619090599547, 'train_loss': 1.9405703786306265}\n",
      "Epoch 5/20\n"
     ]
    },
    {
     "name": "stderr",
     "output_type": "stream",
     "text": [
      "100%|██████████| 328/328 [00:34<00:00,  9.42it/s]\n"
     ]
    },
    {
     "name": "stdout",
     "output_type": "stream",
     "text": [
      "{'val_loss': 2.06090721124556, 'val_accuracy': 0.5362318840579711, 'precision': 0.40432242321713263, 'recall': 0.5362318840579711, 'f1-score': 0.4540570025514922, 'macro_f1-score': 0.062427592938261556, 'balanced_accuracy': 0.09077763380249308, 'mcc': 0.35890415400733566, 'train_loss': 1.9752166313005657}\n",
      "Epoch 6/20\n"
     ]
    },
    {
     "name": "stderr",
     "output_type": "stream",
     "text": [
      "100%|██████████| 328/328 [00:34<00:00,  9.37it/s]\n"
     ]
    },
    {
     "name": "stdout",
     "output_type": "stream",
     "text": [
      "{'val_loss': 2.080700744579478, 'val_accuracy': 0.5362318840579711, 'precision': 0.3913082835733092, 'recall': 0.5362318840579711, 'f1-score': 0.4460253887107696, 'macro_f1-score': 0.06221850438786433, 'balanced_accuracy': 0.08216115479801032, 'mcc': 0.3384604695215552, 'train_loss': 1.8621856141381148}\n",
      "Epoch 7/20\n"
     ]
    },
    {
     "name": "stderr",
     "output_type": "stream",
     "text": [
      "100%|██████████| 328/328 [00:34<00:00,  9.40it/s]\n"
     ]
    },
    {
     "name": "stdout",
     "output_type": "stream",
     "text": [
      "{'val_loss': 1.9479085708536752, 'val_accuracy': 0.5560640732265446, 'precision': 0.4009478409397645, 'recall': 0.5560640732265446, 'f1-score': 0.46286901852224327, 'macro_f1-score': 0.06954121267014611, 'balanced_accuracy': 0.09103001498329076, 'mcc': 0.3675499522442234, 'train_loss': 1.7859123549083384}\n",
      "Epoch 8/20\n"
     ]
    },
    {
     "name": "stderr",
     "output_type": "stream",
     "text": [
      "100%|██████████| 328/328 [00:34<00:00,  9.37it/s]\n"
     ]
    },
    {
     "name": "stdout",
     "output_type": "stream",
     "text": [
      "{'val_loss': 2.017621636027243, 'val_accuracy': 0.5423340961098398, 'precision': 0.39058511874284735, 'recall': 0.5423340961098398, 'f1-score': 0.44982139826502043, 'macro_f1-score': 0.0631541260389866, 'balanced_accuracy': 0.08254046677461772, 'mcc': 0.34470488353288303, 'train_loss': 1.7941917578985052}\n",
      "Epoch 9/20\n"
     ]
    },
    {
     "name": "stderr",
     "output_type": "stream",
     "text": [
      "100%|██████████| 328/328 [00:35<00:00,  9.36it/s]\n"
     ]
    },
    {
     "name": "stdout",
     "output_type": "stream",
     "text": [
      "{'val_loss': 2.016027526157658, 'val_accuracy': 0.5339435545385202, 'precision': 0.39519483664648253, 'recall': 0.5339435545385202, 'f1-score': 0.44914169872440085, 'macro_f1-score': 0.06204634758673685, 'balanced_accuracy': 0.08595415645577538, 'mcc': 0.3477732528748642, 'train_loss': 1.6950579016673855}\n",
      "Epoch 10/20\n"
     ]
    },
    {
     "name": "stderr",
     "output_type": "stream",
     "text": [
      "100%|██████████| 328/328 [00:35<00:00,  9.37it/s]\n"
     ]
    },
    {
     "name": "stdout",
     "output_type": "stream",
     "text": [
      "{'val_loss': 2.1376098688782714, 'val_accuracy': 0.5141113653699466, 'precision': 0.3688070966581413, 'recall': 0.5141113653699466, 'f1-score': 0.4203186485806589, 'macro_f1-score': 0.05223891917345818, 'balanced_accuracy': 0.07132485113747643, 'mcc': 0.2980493998581171, 'train_loss': 1.7739145377787149}\n",
      "Early stopping.\n",
      "\n",
      "[Fold 4]\n",
      "Label distribution after resampling:\n",
      "  label 0: 2471\n",
      "  label 1: 22\n",
      "  label 2: 64\n",
      "  label 3: 24\n",
      "  label 4: 190\n",
      "  label 5: 113\n",
      "  label 6: 93\n",
      "  label 7: 31\n",
      "  label 8: 68\n",
      "  label 9: 29\n",
      "  label 10: 67\n",
      "  label 11: 169\n",
      "  label 12: 190\n",
      "  label 13: 29\n",
      "  label 14: 22\n",
      "  label 15: 25\n",
      "  label 16: 19\n",
      "  label 17: 182\n",
      "  label 18: 92\n",
      "  label 19: 44\n",
      "  label 20: 14\n",
      "  label 21: 35\n",
      "  label 22: 76\n",
      "  label 23: 158\n",
      "  label 24: 13\n",
      "  label 25: 44\n",
      "  label 26: 84\n",
      "  label 27: 48\n",
      "  label 28: 11\n",
      "  label 29: 13\n",
      "  label 30: 11\n",
      "  label 31: 75\n",
      "  label 32: 36\n",
      "  label 33: 31\n",
      "  label 34: 30\n",
      "  label 35: 11\n",
      "  label 36: 22\n",
      "  label 37: 16\n",
      "  label 38: 33\n",
      "  label 39: 10\n",
      "  label 40: 9\n",
      "  label 41: 56\n",
      "  label 42: 18\n",
      "  label 43: 9\n",
      "  label 44: 55\n",
      "  label 45: 241\n",
      "  label 46: 62\n",
      "  label 47: 80\n",
      "model is microsoft/deberta-base lstm\n",
      "Epoch 1/20\n"
     ]
    },
    {
     "name": "stderr",
     "output_type": "stream",
     "text": [
      "100%|██████████| 328/328 [00:34<00:00,  9.38it/s]\n"
     ]
    },
    {
     "name": "stdout",
     "output_type": "stream",
     "text": [
      "{'val_loss': 2.2806769616720155, 'val_accuracy': 0.5003813882532419, 'precision': 0.2623404251427233, 'recall': 0.5003813882532419, 'f1-score': 0.340966795215398, 'macro_f1-score': 0.02686282052982768, 'balanced_accuracy': 0.03381147540983607, 'mcc': 0.1871928932773585, 'train_loss': 2.5128067164886287}\n",
      "Epoch 2/20\n"
     ]
    },
    {
     "name": "stderr",
     "output_type": "stream",
     "text": [
      "100%|██████████| 328/328 [00:34<00:00,  9.40it/s]\n"
     ]
    },
    {
     "name": "stdout",
     "output_type": "stream",
     "text": [
      "{'val_loss': 2.1890991940730955, 'val_accuracy': 0.4973302822273074, 'precision': 0.3300868847827052, 'recall': 0.4973302822273074, 'f1-score': 0.3907732175181801, 'macro_f1-score': 0.03415061079514984, 'balanced_accuracy': 0.05002745227421437, 'mcc': 0.2671872740368911, 'train_loss': 2.23785980609132}\n",
      "Epoch 3/20\n"
     ]
    },
    {
     "name": "stderr",
     "output_type": "stream",
     "text": [
      "100%|██████████| 328/328 [00:34<00:00,  9.39it/s]\n"
     ]
    },
    {
     "name": "stdout",
     "output_type": "stream",
     "text": [
      "{'val_loss': 2.1097866180466442, 'val_accuracy': 0.5263157894736842, 'precision': 0.32760982167192954, 'recall': 0.5263157894736842, 'f1-score': 0.39921958499053, 'macro_f1-score': 0.044405117636894025, 'balanced_accuracy': 0.05594694660446225, 'mcc': 0.27736857728289893, 'train_loss': 2.128919622883564}\n",
      "Epoch 4/20\n"
     ]
    },
    {
     "name": "stderr",
     "output_type": "stream",
     "text": [
      "100%|██████████| 328/328 [00:34<00:00,  9.42it/s]\n"
     ]
    },
    {
     "name": "stdout",
     "output_type": "stream",
     "text": [
      "{'val_loss': 2.084167332184024, 'val_accuracy': 0.5385202135774219, 'precision': 0.3395198030364718, 'recall': 0.5385202135774219, 'f1-score': 0.4113652152522946, 'macro_f1-score': 0.047078683919418385, 'balanced_accuracy': 0.06218395332660001, 'mcc': 0.30715827719694433, 'train_loss': 2.0067583162610125}\n",
      "Epoch 5/20\n"
     ]
    },
    {
     "name": "stderr",
     "output_type": "stream",
     "text": [
      "100%|██████████| 328/328 [00:34<00:00,  9.39it/s]\n"
     ]
    },
    {
     "name": "stdout",
     "output_type": "stream",
     "text": [
      "{'val_loss': 2.0264304752756908, 'val_accuracy': 0.5278413424866514, 'precision': 0.3787002094026078, 'recall': 0.5278413424866514, 'f1-score': 0.43404354556089125, 'macro_f1-score': 0.05062056727384021, 'balanced_accuracy': 0.06645762210250812, 'mcc': 0.3275385991986715, 'train_loss': 1.956558422344487}\n",
      "Epoch 6/20\n"
     ]
    },
    {
     "name": "stderr",
     "output_type": "stream",
     "text": [
      "100%|██████████| 328/328 [00:35<00:00,  9.36it/s]\n"
     ]
    },
    {
     "name": "stdout",
     "output_type": "stream",
     "text": [
      "{'val_loss': 2.149215874875464, 'val_accuracy': 0.5003813882532419, 'precision': 0.32831076138923065, 'recall': 0.5003813882532419, 'f1-score': 0.3920806369741635, 'macro_f1-score': 0.03751758588577528, 'balanced_accuracy': 0.05201443971677012, 'mcc': 0.2566196310232441, 'train_loss': 1.9649934636020079}\n",
      "Epoch 7/20\n"
     ]
    },
    {
     "name": "stderr",
     "output_type": "stream",
     "text": [
      "100%|██████████| 328/328 [00:34<00:00,  9.39it/s]\n"
     ]
    },
    {
     "name": "stdout",
     "output_type": "stream",
     "text": [
      "{'val_loss': 2.0110453236393813, 'val_accuracy': 0.5308924485125858, 'precision': 0.3791067325213214, 'recall': 0.5308924485125858, 'f1-score': 0.43917967127526797, 'macro_f1-score': 0.05473757195751852, 'balanced_accuracy': 0.07597365802984861, 'mcc': 0.3328511416900603, 'train_loss': 1.9139071793817892}\n",
      "Epoch 8/20\n"
     ]
    },
    {
     "name": "stderr",
     "output_type": "stream",
     "text": [
      "100%|██████████| 328/328 [00:35<00:00,  9.37it/s]\n"
     ]
    },
    {
     "name": "stdout",
     "output_type": "stream",
     "text": [
      "{'val_loss': 1.972568607911831, 'val_accuracy': 0.5308924485125858, 'precision': 0.4002819289705754, 'recall': 0.5308924485125858, 'f1-score': 0.4476149180898286, 'macro_f1-score': 0.05896400573373899, 'balanced_accuracy': 0.08010415722293447, 'mcc': 0.3401218340939719, 'train_loss': 1.7963622913854878}\n",
      "Epoch 9/20\n"
     ]
    },
    {
     "name": "stderr",
     "output_type": "stream",
     "text": [
      "100%|██████████| 328/328 [00:34<00:00,  9.38it/s]\n"
     ]
    },
    {
     "name": "stdout",
     "output_type": "stream",
     "text": [
      "{'val_loss': 2.0238315012396835, 'val_accuracy': 0.5255530129672006, 'precision': 0.39268386319164916, 'recall': 0.5255530129672006, 'f1-score': 0.4429839878452977, 'macro_f1-score': 0.05492078244000665, 'balanced_accuracy': 0.07865536482094505, 'mcc': 0.3440941108211272, 'train_loss': 1.7555543219716083}\n",
      "Epoch 10/20\n"
     ]
    },
    {
     "name": "stderr",
     "output_type": "stream",
     "text": [
      "100%|██████████| 328/328 [00:34<00:00,  9.39it/s]\n"
     ]
    },
    {
     "name": "stdout",
     "output_type": "stream",
     "text": [
      "{'val_loss': 2.037047655117221, 'val_accuracy': 0.5163996948893974, 'precision': 0.40681881794832103, 'recall': 0.5163996948893974, 'f1-score': 0.44959035341334264, 'macro_f1-score': 0.060993363181253535, 'balanced_accuracy': 0.07918110146980455, 'mcc': 0.33595074079939036, 'train_loss': 1.7572056234973232}\n",
      "Epoch 11/20\n"
     ]
    },
    {
     "name": "stderr",
     "output_type": "stream",
     "text": [
      "100%|██████████| 328/328 [00:34<00:00,  9.41it/s]\n"
     ]
    },
    {
     "name": "stdout",
     "output_type": "stream",
     "text": [
      "{'val_loss': 2.4021847146313364, 'val_accuracy': 0.43554538520213576, 'precision': 0.32479066162695697, 'recall': 0.43554538520213576, 'f1-score': 0.3452377007832233, 'macro_f1-score': 0.02280436963556073, 'balanced_accuracy': 0.031103386768215835, 'mcc': 0.1608062638505025, 'train_loss': 1.9724234591533498}\n",
      "Epoch 12/20\n"
     ]
    },
    {
     "name": "stderr",
     "output_type": "stream",
     "text": [
      "100%|██████████| 328/328 [00:34<00:00,  9.38it/s]\n"
     ]
    },
    {
     "name": "stdout",
     "output_type": "stream",
     "text": [
      "{'val_loss': 2.446583100935308, 'val_accuracy': 0.47139588100686497, 'precision': 0.2222140766302384, 'recall': 0.47139588100686497, 'f1-score': 0.302045261236125, 'macro_f1-score': 0.01334888543286677, 'balanced_accuracy': 0.020833333333333332, 'mcc': 0.0, 'train_loss': 2.42266532051854}\n",
      "Epoch 13/20\n"
     ]
    },
    {
     "name": "stderr",
     "output_type": "stream",
     "text": [
      "100%|██████████| 328/328 [00:34<00:00,  9.41it/s]\n"
     ]
    },
    {
     "name": "stdout",
     "output_type": "stream",
     "text": [
      "{'val_loss': 2.4373011559974858, 'val_accuracy': 0.47215865751334857, 'precision': 0.23371898886773024, 'recall': 0.47215865751334857, 'f1-score': 0.3088506026846173, 'macro_f1-score': 0.01545947569806786, 'balanced_accuracy': 0.022098320865828427, 'mcc': 0.05151491983361562, 'train_loss': 2.300385693224465}\n",
      "Early stopping.\n",
      "\n",
      "[Fold 5]\n",
      "Label distribution after resampling:\n",
      "  label 0: 2472\n",
      "  label 1: 21\n",
      "  label 2: 64\n",
      "  label 3: 24\n",
      "  label 4: 191\n",
      "  label 5: 112\n",
      "  label 6: 92\n",
      "  label 7: 31\n",
      "  label 8: 68\n",
      "  label 9: 29\n",
      "  label 10: 68\n",
      "  label 11: 168\n",
      "  label 12: 190\n",
      "  label 13: 29\n",
      "  label 14: 22\n",
      "  label 15: 25\n",
      "  label 16: 19\n",
      "  label 17: 183\n",
      "  label 18: 92\n",
      "  label 19: 44\n",
      "  label 20: 14\n",
      "  label 21: 35\n",
      "  label 22: 76\n",
      "  label 23: 158\n",
      "  label 24: 13\n",
      "  label 25: 44\n",
      "  label 26: 84\n",
      "  label 27: 48\n",
      "  label 28: 11\n",
      "  label 29: 13\n",
      "  label 30: 11\n",
      "  label 31: 75\n",
      "  label 32: 36\n",
      "  label 33: 31\n",
      "  label 34: 30\n",
      "  label 35: 11\n",
      "  label 36: 22\n",
      "  label 37: 16\n",
      "  label 38: 33\n",
      "  label 39: 10\n",
      "  label 40: 9\n",
      "  label 41: 57\n",
      "  label 42: 18\n",
      "  label 43: 9\n",
      "  label 44: 54\n",
      "  label 45: 242\n",
      "  label 46: 61\n",
      "  label 47: 80\n",
      "model is microsoft/deberta-base lstm\n",
      "Epoch 1/20\n"
     ]
    },
    {
     "name": "stderr",
     "output_type": "stream",
     "text": [
      "100%|██████████| 328/328 [00:34<00:00,  9.42it/s]\n"
     ]
    },
    {
     "name": "stdout",
     "output_type": "stream",
     "text": [
      "{'val_loss': 2.4332115155894583, 'val_accuracy': 0.4950419527078566, 'precision': 0.2922948876330426, 'recall': 0.4950419527078566, 'f1-score': 0.36210515394621984, 'macro_f1-score': 0.02166184210246971, 'balanced_accuracy': 0.0404077750765352, 'mcc': 0.24577940507130047, 'train_loss': 2.4809028927872823}\n",
      "Epoch 2/20\n"
     ]
    },
    {
     "name": "stderr",
     "output_type": "stream",
     "text": [
      "100%|██████████| 328/328 [00:35<00:00,  9.34it/s]\n"
     ]
    },
    {
     "name": "stdout",
     "output_type": "stream",
     "text": [
      "{'val_loss': 2.2249856547611517, 'val_accuracy': 0.505720823798627, 'precision': 0.2849594829853997, 'recall': 0.505720823798627, 'f1-score': 0.3637833116750704, 'macro_f1-score': 0.03179271059554708, 'balanced_accuracy': 0.04164881403956458, 'mcc': 0.21862161836728766, 'train_loss': 2.289253484185149}\n",
      "Epoch 3/20\n"
     ]
    },
    {
     "name": "stderr",
     "output_type": "stream",
     "text": [
      "100%|██████████| 328/328 [00:34<00:00,  9.40it/s]\n"
     ]
    },
    {
     "name": "stdout",
     "output_type": "stream",
     "text": [
      "{'val_loss': 2.156873947236596, 'val_accuracy': 0.501906941266209, 'precision': 0.275064742797042, 'recall': 0.501906941266209, 'f1-score': 0.3530657731452058, 'macro_f1-score': 0.022198734526743983, 'balanced_accuracy': 0.0382040113452188, 'mcc': 0.2254485949550414, 'train_loss': 2.2260069201995685}\n",
      "Epoch 4/20\n"
     ]
    },
    {
     "name": "stderr",
     "output_type": "stream",
     "text": [
      "100%|██████████| 328/328 [00:34<00:00,  9.38it/s]\n"
     ]
    },
    {
     "name": "stdout",
     "output_type": "stream",
     "text": [
      "{'val_loss': 2.07196186810005, 'val_accuracy': 0.5102974828375286, 'precision': 0.33168937314072283, 'recall': 0.5102974828375286, 'f1-score': 0.3959689685911239, 'macro_f1-score': 0.03420726925791004, 'balanced_accuracy': 0.051173795264970824, 'mcc': 0.28139704010887207, 'train_loss': 2.1162054842201674}\n",
      "Epoch 5/20\n"
     ]
    },
    {
     "name": "stderr",
     "output_type": "stream",
     "text": [
      "100%|██████████| 328/328 [00:34<00:00,  9.38it/s]\n"
     ]
    },
    {
     "name": "stdout",
     "output_type": "stream",
     "text": [
      "{'val_loss': 2.1625000202074283, 'val_accuracy': 0.4805491990846682, 'precision': 0.3271211266171296, 'recall': 0.4805491990846682, 'f1-score': 0.378491897782202, 'macro_f1-score': 0.022866570042123936, 'balanced_accuracy': 0.039778447021800244, 'mcc': 0.2601759237482401, 'train_loss': 2.0886199705120996}\n",
      "Epoch 6/20\n"
     ]
    },
    {
     "name": "stderr",
     "output_type": "stream",
     "text": [
      "100%|██████████| 328/328 [00:34<00:00,  9.37it/s]\n"
     ]
    },
    {
     "name": "stdout",
     "output_type": "stream",
     "text": [
      "{'val_loss': 2.111014119008692, 'val_accuracy': 0.5049580472921434, 'precision': 0.36457243505088704, 'recall': 0.5049580472921434, 'f1-score': 0.4082786563085263, 'macro_f1-score': 0.03341772364902284, 'balanced_accuracy': 0.05639141212404514, 'mcc': 0.3093755859225921, 'train_loss': 2.1601839919642702}\n",
      "Epoch 7/20\n"
     ]
    },
    {
     "name": "stderr",
     "output_type": "stream",
     "text": [
      "100%|██████████| 328/328 [00:34<00:00,  9.38it/s]\n"
     ]
    },
    {
     "name": "stdout",
     "output_type": "stream",
     "text": [
      "{'val_loss': 2.010901541244693, 'val_accuracy': 0.5347063310450039, 'precision': 0.36310775868196304, 'recall': 0.5347063310450039, 'f1-score': 0.42299202769924726, 'macro_f1-score': 0.04520960871053703, 'balanced_accuracy': 0.0673863075418948, 'mcc': 0.3289383602691319, 'train_loss': 2.0044802191053948}\n",
      "Epoch 8/20\n"
     ]
    },
    {
     "name": "stderr",
     "output_type": "stream",
     "text": [
      "100%|██████████| 328/328 [00:35<00:00,  9.36it/s]\n"
     ]
    },
    {
     "name": "stdout",
     "output_type": "stream",
     "text": [
      "{'val_loss': 2.2131033190866796, 'val_accuracy': 0.5011441647597255, 'precision': 0.2842324714805188, 'recall': 0.5011441647597255, 'f1-score': 0.36078542395202184, 'macro_f1-score': 0.031441517236198514, 'balanced_accuracy': 0.03946944051710596, 'mcc': 0.20506955197461282, 'train_loss': 2.048005382643967}\n",
      "Epoch 9/20\n"
     ]
    },
    {
     "name": "stderr",
     "output_type": "stream",
     "text": [
      "100%|██████████| 328/328 [00:34<00:00,  9.40it/s]\n"
     ]
    },
    {
     "name": "stdout",
     "output_type": "stream",
     "text": [
      "{'val_loss': 2.1783082565156424, 'val_accuracy': 0.5026697177726926, 'precision': 0.33098554603842034, 'recall': 0.5026697177726926, 'f1-score': 0.39088006412774245, 'macro_f1-score': 0.02877218887227563, 'balanced_accuracy': 0.045441266014281466, 'mcc': 0.2783382997255589, 'train_loss': 2.1122930778599365}\n",
      "Epoch 10/20\n"
     ]
    },
    {
     "name": "stderr",
     "output_type": "stream",
     "text": [
      "100%|██████████| 328/328 [00:34<00:00,  9.41it/s]\n"
     ]
    },
    {
     "name": "stdout",
     "output_type": "stream",
     "text": [
      "{'val_loss': 2.2910176435621774, 'val_accuracy': 0.47063310450038137, 'precision': 0.3178829507992937, 'recall': 0.47063310450038137, 'f1-score': 0.3737259034964019, 'macro_f1-score': 0.022789303075339787, 'balanced_accuracy': 0.03852831611051722, 'mcc': 0.2387347543373661, 'train_loss': 2.1258078292012215}\n",
      "Early stopping.\n",
      "\n",
      " === microsoft/deberta-base + lstm + none Final 5-fold Cross-Validation Results ===\n",
      "val_loss: 2.0434\n",
      "val_accuracy: 0.5291\n",
      "precision: 0.3687\n",
      "recall: 0.5291\n",
      "f1-score: 0.4276\n",
      "macro_f1-score: 0.0526\n",
      "balanced_accuracy: 0.0720\n",
      "mcc: 0.3202\n",
      "train_loss: 1.9276\n",
      "total_seconds: 1780.0000\n",
      "total_time: 0 hrs 29 mins 40 secs\n",
      "▶ Running: microsoft/deberta-base + bilstm + none\n",
      "tokenizer is microsoft/deberta-base\n",
      "Using device: cuda\n",
      "CUDA Available: True\n",
      "CUDA Device: NVIDIA GeForce RTX 5070 Ti\n",
      "Current GPU Memory Allocated: 0.02 GB\n",
      "Current GPU Memory Cached: 5.28 GB\n",
      "\n",
      "[Fold 1]\n",
      "Label distribution after resampling:\n",
      "  label 0: 2471\n",
      "  label 1: 21\n",
      "  label 2: 64\n",
      "  label 3: 24\n",
      "  label 4: 191\n",
      "  label 5: 113\n",
      "  label 6: 93\n",
      "  label 7: 30\n",
      "  label 8: 68\n",
      "  label 9: 30\n",
      "  label 10: 67\n",
      "  label 11: 169\n",
      "  label 12: 189\n",
      "  label 13: 29\n",
      "  label 14: 22\n",
      "  label 15: 25\n",
      "  label 16: 19\n",
      "  label 17: 183\n",
      "  label 18: 92\n",
      "  label 19: 44\n",
      "  label 20: 13\n",
      "  label 21: 35\n",
      "  label 22: 76\n",
      "  label 23: 158\n",
      "  label 24: 13\n",
      "  label 25: 44\n",
      "  label 26: 84\n",
      "  label 27: 48\n",
      "  label 28: 11\n",
      "  label 29: 13\n",
      "  label 30: 11\n",
      "  label 31: 75\n",
      "  label 32: 36\n",
      "  label 33: 32\n",
      "  label 34: 29\n",
      "  label 35: 11\n",
      "  label 36: 22\n",
      "  label 37: 16\n",
      "  label 38: 33\n",
      "  label 39: 10\n",
      "  label 40: 9\n",
      "  label 41: 57\n",
      "  label 42: 19\n",
      "  label 43: 8\n",
      "  label 44: 54\n",
      "  label 45: 242\n",
      "  label 46: 61\n",
      "  label 47: 80\n",
      "model is microsoft/deberta-base bilstm\n",
      "Epoch 1/20\n"
     ]
    },
    {
     "name": "stderr",
     "output_type": "stream",
     "text": [
      "100%|██████████| 328/328 [00:36<00:00,  9.03it/s]\n"
     ]
    },
    {
     "name": "stdout",
     "output_type": "stream",
     "text": [
      "{'val_loss': 2.3445163231070447, 'val_accuracy': 0.47103658536585363, 'precision': 0.22187546475312311, 'recall': 0.47103658536585363, 'f1-score': 0.3016586629596866, 'macro_f1-score': 0.013341968911917098, 'balanced_accuracy': 0.020833333333333332, 'mcc': 0.0, 'train_loss': 2.4586730737511706}\n",
      "Epoch 2/20\n"
     ]
    },
    {
     "name": "stderr",
     "output_type": "stream",
     "text": [
      "100%|██████████| 328/328 [00:35<00:00,  9.12it/s]\n"
     ]
    },
    {
     "name": "stdout",
     "output_type": "stream",
     "text": [
      "{'val_loss': 2.3128638943520987, 'val_accuracy': 0.48628048780487804, 'precision': 0.2751999729779509, 'recall': 0.48628048780487804, 'f1-score': 0.3483749946563301, 'macro_f1-score': 0.02602317855312594, 'balanced_accuracy': 0.03518893880970415, 'mcc': 0.17676906427865863, 'train_loss': 2.255694048797212}\n",
      "Epoch 3/20\n"
     ]
    },
    {
     "name": "stderr",
     "output_type": "stream",
     "text": [
      "100%|██████████| 328/328 [00:36<00:00,  9.04it/s]\n"
     ]
    },
    {
     "name": "stdout",
     "output_type": "stream",
     "text": [
      "{'val_loss': 2.1046594272299513, 'val_accuracy': 0.5015243902439024, 'precision': 0.340086139214622, 'recall': 0.5015243902439024, 'f1-score': 0.3990319068913537, 'macro_f1-score': 0.03744237958207363, 'balanced_accuracy': 0.04844612496844086, 'mcc': 0.261469924565665, 'train_loss': 2.1235416782338445}\n",
      "Epoch 4/20\n"
     ]
    },
    {
     "name": "stderr",
     "output_type": "stream",
     "text": [
      "100%|██████████| 328/328 [00:36<00:00,  9.07it/s]\n"
     ]
    },
    {
     "name": "stdout",
     "output_type": "stream",
     "text": [
      "{'val_loss': 2.100398642260854, 'val_accuracy': 0.5388719512195121, 'precision': 0.3558979753169199, 'recall': 0.5388719512195121, 'f1-score': 0.42794369120230913, 'macro_f1-score': 0.05329378643041307, 'balanced_accuracy': 0.06915673458985146, 'mcc': 0.32122588446253497, 'train_loss': 1.9827058029974378}\n",
      "Epoch 5/20\n"
     ]
    },
    {
     "name": "stderr",
     "output_type": "stream",
     "text": [
      "100%|██████████| 328/328 [00:36<00:00,  9.04it/s]\n"
     ]
    },
    {
     "name": "stdout",
     "output_type": "stream",
     "text": [
      "{'val_loss': 2.2381573032315183, 'val_accuracy': 0.4527439024390244, 'precision': 0.34150794200947887, 'recall': 0.4527439024390244, 'f1-score': 0.37987125212619577, 'macro_f1-score': 0.0419624259637452, 'balanced_accuracy': 0.05627210932658542, 'mcc': 0.2214570822658979, 'train_loss': 1.96820296438002}\n",
      "Epoch 6/20\n"
     ]
    },
    {
     "name": "stderr",
     "output_type": "stream",
     "text": [
      "100%|██████████| 328/328 [00:36<00:00,  9.11it/s]\n"
     ]
    },
    {
     "name": "stdout",
     "output_type": "stream",
     "text": [
      "{'val_loss': 2.0626942751611153, 'val_accuracy': 0.520579268292683, 'precision': 0.31653297548930176, 'recall': 0.520579268292683, 'f1-score': 0.3875291063047361, 'macro_f1-score': 0.04373775125138205, 'balanced_accuracy': 0.050443085659692515, 'mcc': 0.2538093071969972, 'train_loss': 1.9768377678786837}\n",
      "Epoch 7/20\n"
     ]
    },
    {
     "name": "stderr",
     "output_type": "stream",
     "text": [
      "100%|██████████| 328/328 [00:36<00:00,  9.05it/s]\n"
     ]
    },
    {
     "name": "stdout",
     "output_type": "stream",
     "text": [
      "{'val_loss': 1.9801466632180098, 'val_accuracy': 0.5411585365853658, 'precision': 0.3912869227865305, 'recall': 0.5411585365853658, 'f1-score': 0.44984888866477246, 'macro_f1-score': 0.06292202631339089, 'balanced_accuracy': 0.08674849285890597, 'mcc': 0.3506579538912176, 'train_loss': 1.8829924513290568}\n",
      "Epoch 8/20\n"
     ]
    },
    {
     "name": "stderr",
     "output_type": "stream",
     "text": [
      "100%|██████████| 328/328 [00:36<00:00,  9.09it/s]\n"
     ]
    },
    {
     "name": "stdout",
     "output_type": "stream",
     "text": [
      "{'val_loss': 1.9631326144061438, 'val_accuracy': 0.5274390243902439, 'precision': 0.3472663925107527, 'recall': 0.5274390243902439, 'f1-score': 0.41808742225345524, 'macro_f1-score': 0.05261900038378031, 'balanced_accuracy': 0.07035366520429008, 'mcc': 0.3035059522036376, 'train_loss': 1.7940074592465307}\n",
      "Epoch 9/20\n"
     ]
    },
    {
     "name": "stderr",
     "output_type": "stream",
     "text": [
      "100%|██████████| 328/328 [00:35<00:00,  9.11it/s]\n"
     ]
    },
    {
     "name": "stdout",
     "output_type": "stream",
     "text": [
      "{'val_loss': 2.0071571480210233, 'val_accuracy': 0.5358231707317073, 'precision': 0.3853701394478537, 'recall': 0.5358231707317073, 'f1-score': 0.4388377910513459, 'macro_f1-score': 0.058227061808873354, 'balanced_accuracy': 0.08090383329583649, 'mcc': 0.33890919326572894, 'train_loss': 1.7088409693139355}\n",
      "Epoch 10/20\n"
     ]
    },
    {
     "name": "stderr",
     "output_type": "stream",
     "text": [
      "100%|██████████| 328/328 [00:36<00:00,  8.99it/s]\n"
     ]
    },
    {
     "name": "stdout",
     "output_type": "stream",
     "text": [
      "{'val_loss': 1.9463127840582917, 'val_accuracy': 0.5373475609756098, 'precision': 0.3789612579322153, 'recall': 0.5373475609756098, 'f1-score': 0.44266688654527975, 'macro_f1-score': 0.06157284992889367, 'balanced_accuracy': 0.07699287405636816, 'mcc': 0.3340463003923118, 'train_loss': 1.687087687413867}\n",
      "Early stopping.\n",
      "\n",
      "[Fold 2]\n",
      "Label distribution after resampling:\n",
      "  label 0: 2471\n",
      "  label 1: 22\n",
      "  label 2: 64\n",
      "  label 3: 24\n",
      "  label 4: 190\n",
      "  label 5: 113\n",
      "  label 6: 93\n",
      "  label 7: 30\n",
      "  label 8: 68\n",
      "  label 9: 30\n",
      "  label 10: 67\n",
      "  label 11: 169\n",
      "  label 12: 189\n",
      "  label 13: 29\n",
      "  label 14: 23\n",
      "  label 15: 24\n",
      "  label 16: 20\n",
      "  label 17: 182\n",
      "  label 18: 92\n",
      "  label 19: 44\n",
      "  label 20: 13\n",
      "  label 21: 36\n",
      "  label 22: 76\n",
      "  label 23: 157\n",
      "  label 24: 12\n",
      "  label 25: 44\n",
      "  label 26: 84\n",
      "  label 27: 48\n",
      "  label 28: 12\n",
      "  label 29: 12\n",
      "  label 30: 12\n",
      "  label 31: 75\n",
      "  label 32: 36\n",
      "  label 33: 31\n",
      "  label 34: 29\n",
      "  label 35: 12\n",
      "  label 36: 21\n",
      "  label 37: 16\n",
      "  label 38: 33\n",
      "  label 39: 11\n",
      "  label 40: 8\n",
      "  label 41: 57\n",
      "  label 42: 19\n",
      "  label 43: 9\n",
      "  label 44: 54\n",
      "  label 45: 242\n",
      "  label 46: 62\n",
      "  label 47: 80\n",
      "model is microsoft/deberta-base bilstm\n",
      "Epoch 1/20\n"
     ]
    },
    {
     "name": "stderr",
     "output_type": "stream",
     "text": [
      "100%|██████████| 328/328 [00:36<00:00,  9.10it/s]\n"
     ]
    },
    {
     "name": "stdout",
     "output_type": "stream",
     "text": [
      "{'val_loss': 2.192823812728975, 'val_accuracy': 0.5148741418764302, 'precision': 0.2793355466446321, 'recall': 0.5148741418764302, 'f1-score': 0.35586596257940617, 'macro_f1-score': 0.030601963342029567, 'balanced_accuracy': 0.04128573354908307, 'mcc': 0.23001182939267953, 'train_loss': 2.4599137844108956}\n",
      "Epoch 2/20\n"
     ]
    },
    {
     "name": "stderr",
     "output_type": "stream",
     "text": [
      "100%|██████████| 328/328 [00:36<00:00,  9.05it/s]\n"
     ]
    },
    {
     "name": "stdout",
     "output_type": "stream",
     "text": [
      "{'val_loss': 2.0906112470277924, 'val_accuracy': 0.5293668954996186, 'precision': 0.34724234089005107, 'recall': 0.5293668954996186, 'f1-score': 0.41776095427425375, 'macro_f1-score': 0.0477820213815238, 'balanced_accuracy': 0.06398210684301862, 'mcc': 0.3037119746387922, 'train_loss': 2.1615161101629092}\n",
      "Epoch 3/20\n"
     ]
    },
    {
     "name": "stderr",
     "output_type": "stream",
     "text": [
      "100%|██████████| 328/328 [00:36<00:00,  9.06it/s]\n"
     ]
    },
    {
     "name": "stdout",
     "output_type": "stream",
     "text": [
      "{'val_loss': 2.0522544311314093, 'val_accuracy': 0.5347063310450039, 'precision': 0.35497133548610227, 'recall': 0.5347063310450039, 'f1-score': 0.42514191787271743, 'macro_f1-score': 0.048852572934480476, 'balanced_accuracy': 0.06403037519179615, 'mcc': 0.3161478805435866, 'train_loss': 1.986758175783041}\n",
      "Epoch 4/20\n"
     ]
    },
    {
     "name": "stderr",
     "output_type": "stream",
     "text": [
      "100%|██████████| 328/328 [00:36<00:00,  9.04it/s]\n"
     ]
    },
    {
     "name": "stdout",
     "output_type": "stream",
     "text": [
      "{'val_loss': 1.9713637276393612, 'val_accuracy': 0.5141113653699466, 'precision': 0.4100708761063573, 'recall': 0.5141113653699466, 'f1-score': 0.4316842668649603, 'macro_f1-score': 0.05038400903902157, 'balanced_accuracy': 0.06568090564634466, 'mcc': 0.3134021720865767, 'train_loss': 1.973170116907213}\n",
      "Epoch 5/20\n"
     ]
    },
    {
     "name": "stderr",
     "output_type": "stream",
     "text": [
      "100%|██████████| 328/328 [00:36<00:00,  9.07it/s]\n"
     ]
    },
    {
     "name": "stdout",
     "output_type": "stream",
     "text": [
      "{'val_loss': 2.050949250779501, 'val_accuracy': 0.5255530129672006, 'precision': 0.36003499673765305, 'recall': 0.5255530129672006, 'f1-score': 0.4179751998372506, 'macro_f1-score': 0.04758895671228005, 'balanced_accuracy': 0.061514835725341215, 'mcc': 0.29808759410118096, 'train_loss': 1.8731245682915536}\n",
      "Epoch 6/20\n"
     ]
    },
    {
     "name": "stderr",
     "output_type": "stream",
     "text": [
      "100%|██████████| 328/328 [00:36<00:00,  9.07it/s]\n"
     ]
    },
    {
     "name": "stdout",
     "output_type": "stream",
     "text": [
      "{'val_loss': 1.950814484096155, 'val_accuracy': 0.5377574370709383, 'precision': 0.360516218941809, 'recall': 0.5377574370709383, 'f1-score': 0.42754554185200944, 'macro_f1-score': 0.05398493112161992, 'balanced_accuracy': 0.07439135083117249, 'mcc': 0.3250737287567555, 'train_loss': 1.8697187145490473}\n",
      "Epoch 7/20\n"
     ]
    },
    {
     "name": "stderr",
     "output_type": "stream",
     "text": [
      "100%|██████████| 328/328 [00:36<00:00,  9.10it/s]\n"
     ]
    },
    {
     "name": "stdout",
     "output_type": "stream",
     "text": [
      "{'val_loss': 2.0344413860542017, 'val_accuracy': 0.5064836003051106, 'precision': 0.35250152218644165, 'recall': 0.5064836003051106, 'f1-score': 0.4055887718278561, 'macro_f1-score': 0.03878169222053817, 'balanced_accuracy': 0.06740178927382125, 'mcc': 0.30676547028448886, 'train_loss': 1.8515997445437966}\n",
      "Epoch 8/20\n"
     ]
    },
    {
     "name": "stderr",
     "output_type": "stream",
     "text": [
      "100%|██████████| 328/328 [00:35<00:00,  9.11it/s]\n"
     ]
    },
    {
     "name": "stdout",
     "output_type": "stream",
     "text": [
      "{'val_loss': 1.9052311312861558, 'val_accuracy': 0.5156369183829138, 'precision': 0.41013036236313316, 'recall': 0.5156369183829138, 'f1-score': 0.44699557005077123, 'macro_f1-score': 0.05690351583688503, 'balanced_accuracy': 0.08443207819922678, 'mcc': 0.34687418160901196, 'train_loss': 1.7731108812660705}\n",
      "Epoch 9/20\n"
     ]
    },
    {
     "name": "stderr",
     "output_type": "stream",
     "text": [
      "100%|██████████| 328/328 [00:36<00:00,  9.04it/s]\n"
     ]
    },
    {
     "name": "stdout",
     "output_type": "stream",
     "text": [
      "{'val_loss': 1.886656668854923, 'val_accuracy': 0.5331807780320366, 'precision': 0.39683295884588565, 'recall': 0.5331807780320366, 'f1-score': 0.44845553578588887, 'macro_f1-score': 0.05715557669288201, 'balanced_accuracy': 0.0818193948203314, 'mcc': 0.3486691881316776, 'train_loss': 1.6555091764141874}\n",
      "Epoch 10/20\n"
     ]
    },
    {
     "name": "stderr",
     "output_type": "stream",
     "text": [
      "100%|██████████| 328/328 [00:36<00:00,  9.10it/s]\n"
     ]
    },
    {
     "name": "stdout",
     "output_type": "stream",
     "text": [
      "{'val_loss': 1.9130762059514115, 'val_accuracy': 0.5225019069412662, 'precision': 0.464184351059334, 'recall': 0.5225019069412662, 'f1-score': 0.4765145229538334, 'macro_f1-score': 0.07664677375591933, 'balanced_accuracy': 0.0952601538891904, 'mcc': 0.3560897535177146, 'train_loss': 1.626706339055445}\n",
      "Epoch 11/20\n"
     ]
    },
    {
     "name": "stderr",
     "output_type": "stream",
     "text": [
      "100%|██████████| 328/328 [00:36<00:00,  9.03it/s]\n"
     ]
    },
    {
     "name": "stdout",
     "output_type": "stream",
     "text": [
      "{'val_loss': 1.8639685635159655, 'val_accuracy': 0.5499618611746758, 'precision': 0.44005009367132397, 'recall': 0.5499618611746758, 'f1-score': 0.4829314958851348, 'macro_f1-score': 0.07364136957860785, 'balanced_accuracy': 0.09638619201726, 'mcc': 0.383432420713191, 'train_loss': 1.585921814256325}\n",
      "Epoch 12/20\n"
     ]
    },
    {
     "name": "stderr",
     "output_type": "stream",
     "text": [
      "100%|██████████| 328/328 [00:36<00:00,  9.05it/s]\n"
     ]
    },
    {
     "name": "stdout",
     "output_type": "stream",
     "text": [
      "{'val_loss': 1.9108589836737004, 'val_accuracy': 0.5369946605644547, 'precision': 0.4333067020312392, 'recall': 0.5369946605644547, 'f1-score': 0.4748727695604843, 'macro_f1-score': 0.07523647154618919, 'balanced_accuracy': 0.08881404166459488, 'mcc': 0.3584491926327283, 'train_loss': 1.5493347503971764}\n",
      "Epoch 13/20\n"
     ]
    },
    {
     "name": "stderr",
     "output_type": "stream",
     "text": [
      "100%|██████████| 328/328 [00:36<00:00,  9.07it/s]\n"
     ]
    },
    {
     "name": "stdout",
     "output_type": "stream",
     "text": [
      "{'val_loss': 2.022428801873835, 'val_accuracy': 0.5270785659801678, 'precision': 0.417743184211654, 'recall': 0.5270785659801678, 'f1-score': 0.4574006746215394, 'macro_f1-score': 0.0662026428953266, 'balanced_accuracy': 0.08605744312325064, 'mcc': 0.3488639836303918, 'train_loss': 1.5530707129254573}\n",
      "Early stopping.\n",
      "\n",
      "[Fold 3]\n",
      "Label distribution after resampling:\n",
      "  label 0: 2471\n",
      "  label 1: 22\n",
      "  label 2: 64\n",
      "  label 3: 24\n",
      "  label 4: 190\n",
      "  label 5: 113\n",
      "  label 6: 93\n",
      "  label 7: 30\n",
      "  label 8: 68\n",
      "  label 9: 30\n",
      "  label 10: 67\n",
      "  label 11: 169\n",
      "  label 12: 190\n",
      "  label 13: 28\n",
      "  label 14: 23\n",
      "  label 15: 25\n",
      "  label 16: 19\n",
      "  label 17: 182\n",
      "  label 18: 92\n",
      "  label 19: 44\n",
      "  label 20: 14\n",
      "  label 21: 35\n",
      "  label 22: 76\n",
      "  label 23: 157\n",
      "  label 24: 13\n",
      "  label 25: 44\n",
      "  label 26: 84\n",
      "  label 27: 48\n",
      "  label 28: 11\n",
      "  label 29: 13\n",
      "  label 30: 11\n",
      "  label 31: 76\n",
      "  label 32: 36\n",
      "  label 33: 31\n",
      "  label 34: 30\n",
      "  label 35: 11\n",
      "  label 36: 21\n",
      "  label 37: 16\n",
      "  label 38: 32\n",
      "  label 39: 11\n",
      "  label 40: 9\n",
      "  label 41: 57\n",
      "  label 42: 18\n",
      "  label 43: 9\n",
      "  label 44: 55\n",
      "  label 45: 241\n",
      "  label 46: 62\n",
      "  label 47: 80\n",
      "model is microsoft/deberta-base bilstm\n",
      "Epoch 1/20\n"
     ]
    },
    {
     "name": "stderr",
     "output_type": "stream",
     "text": [
      "100%|██████████| 328/328 [00:36<00:00,  9.08it/s]\n"
     ]
    },
    {
     "name": "stdout",
     "output_type": "stream",
     "text": [
      "{'val_loss': 2.1385029721550826, 'val_accuracy': 0.5163996948893974, 'precision': 0.30594382193691405, 'recall': 0.5163996948893974, 'f1-score': 0.3805335647617915, 'macro_f1-score': 0.03706145772676487, 'balanced_accuracy': 0.051778495592710305, 'mcc': 0.2574124799991127, 'train_loss': 2.391154638150843}\n",
      "Epoch 2/20\n"
     ]
    },
    {
     "name": "stderr",
     "output_type": "stream",
     "text": [
      "100%|██████████| 328/328 [00:36<00:00,  9.06it/s]\n"
     ]
    },
    {
     "name": "stdout",
     "output_type": "stream",
     "text": [
      "{'val_loss': 2.042314937201942, 'val_accuracy': 0.5308924485125858, 'precision': 0.321665316176697, 'recall': 0.5308924485125858, 'f1-score': 0.39559435385710495, 'macro_f1-score': 0.041947788283143356, 'balanced_accuracy': 0.059068225318166724, 'mcc': 0.2883108863449205, 'train_loss': 2.058843988107472}\n",
      "Epoch 3/20\n"
     ]
    },
    {
     "name": "stderr",
     "output_type": "stream",
     "text": [
      "100%|██████████| 328/328 [00:36<00:00,  9.10it/s]\n"
     ]
    },
    {
     "name": "stdout",
     "output_type": "stream",
     "text": [
      "{'val_loss': 1.9720549383541432, 'val_accuracy': 0.551487414187643, 'precision': 0.3943479515400081, 'recall': 0.551487414187643, 'f1-score': 0.4570166717211557, 'macro_f1-score': 0.06926304889130684, 'balanced_accuracy': 0.09140763459206012, 'mcc': 0.3602305915223982, 'train_loss': 1.9393018478663957}\n",
      "Epoch 4/20\n"
     ]
    },
    {
     "name": "stderr",
     "output_type": "stream",
     "text": [
      "100%|██████████| 328/328 [00:36<00:00,  9.10it/s]\n"
     ]
    },
    {
     "name": "stdout",
     "output_type": "stream",
     "text": [
      "{'val_loss': 1.9698394885877284, 'val_accuracy': 0.5583524027459954, 'precision': 0.37648831709170494, 'recall': 0.5583524027459954, 'f1-score': 0.44727718772713787, 'macro_f1-score': 0.06611108468909263, 'balanced_accuracy': 0.08541765401437118, 'mcc': 0.3534119346609237, 'train_loss': 1.8339788728370898}\n",
      "Epoch 5/20\n"
     ]
    },
    {
     "name": "stderr",
     "output_type": "stream",
     "text": [
      "100%|██████████| 328/328 [00:36<00:00,  9.02it/s]\n"
     ]
    },
    {
     "name": "stdout",
     "output_type": "stream",
     "text": [
      "{'val_loss': 1.9440893272801143, 'val_accuracy': 0.5362318840579711, 'precision': 0.4455072682490212, 'recall': 0.5362318840579711, 'f1-score': 0.4724415614611658, 'macro_f1-score': 0.07786324282200642, 'balanced_accuracy': 0.09845040502162561, 'mcc': 0.36479037013635957, 'train_loss': 1.7307637995336114}\n",
      "Epoch 6/20\n"
     ]
    },
    {
     "name": "stderr",
     "output_type": "stream",
     "text": [
      "100%|██████████| 328/328 [00:36<00:00,  9.08it/s]\n"
     ]
    },
    {
     "name": "stdout",
     "output_type": "stream",
     "text": [
      "{'val_loss': 2.0086094257308216, 'val_accuracy': 0.540045766590389, 'precision': 0.4250722931363476, 'recall': 0.540045766590389, 'f1-score': 0.4628001799855282, 'macro_f1-score': 0.06625610440309541, 'balanced_accuracy': 0.09774288991763531, 'mcc': 0.37517360154561474, 'train_loss': 1.632144077067695}\n",
      "Epoch 7/20\n"
     ]
    },
    {
     "name": "stderr",
     "output_type": "stream",
     "text": [
      "100%|██████████| 328/328 [00:36<00:00,  9.04it/s]\n"
     ]
    },
    {
     "name": "stdout",
     "output_type": "stream",
     "text": [
      "{'val_loss': 2.031855319331332, 'val_accuracy': 0.5240274599542334, 'precision': 0.44930871610756806, 'recall': 0.5240274599542334, 'f1-score': 0.466050920359164, 'macro_f1-score': 0.07295019404270348, 'balanced_accuracy': 0.09644373920268008, 'mcc': 0.3589415573868218, 'train_loss': 1.5862588926059444}\n",
      "Epoch 8/20\n"
     ]
    },
    {
     "name": "stderr",
     "output_type": "stream",
     "text": [
      "100%|██████████| 328/328 [00:36<00:00,  9.04it/s]\n"
     ]
    },
    {
     "name": "stdout",
     "output_type": "stream",
     "text": [
      "{'val_loss': 1.982415901088133, 'val_accuracy': 0.5537757437070938, 'precision': 0.4424243694667084, 'recall': 0.5537757437070938, 'f1-score': 0.48443469506744347, 'macro_f1-score': 0.0866903290445777, 'balanced_accuracy': 0.104010330422305, 'mcc': 0.3799012163483148, 'train_loss': 1.5191378930538166}\n",
      "Epoch 9/20\n"
     ]
    },
    {
     "name": "stderr",
     "output_type": "stream",
     "text": [
      "100%|██████████| 328/328 [00:36<00:00,  9.04it/s]\n"
     ]
    },
    {
     "name": "stdout",
     "output_type": "stream",
     "text": [
      "{'val_loss': 2.1136338681709477, 'val_accuracy': 0.5003813882532419, 'precision': 0.428508115210362, 'recall': 0.5003813882532419, 'f1-score': 0.4465659009408012, 'macro_f1-score': 0.07022220803554881, 'balanced_accuracy': 0.0942187161182327, 'mcc': 0.3252084512783566, 'train_loss': 1.4562762861208218}\n",
      "Epoch 10/20\n"
     ]
    },
    {
     "name": "stderr",
     "output_type": "stream",
     "text": [
      "100%|██████████| 328/328 [00:36<00:00,  9.09it/s]\n"
     ]
    },
    {
     "name": "stdout",
     "output_type": "stream",
     "text": [
      "{'val_loss': 1.965172149059249, 'val_accuracy': 0.540045766590389, 'precision': 0.45956819015816397, 'recall': 0.540045766590389, 'f1-score': 0.48860833972346546, 'macro_f1-score': 0.09217758348330433, 'balanced_accuracy': 0.11378049836626429, 'mcc': 0.37717102759304, 'train_loss': 1.419942784781863}\n",
      "Epoch 11/20\n"
     ]
    },
    {
     "name": "stderr",
     "output_type": "stream",
     "text": [
      "100%|██████████| 328/328 [00:36<00:00,  9.07it/s]\n"
     ]
    },
    {
     "name": "stdout",
     "output_type": "stream",
     "text": [
      "{'val_loss': 1.9631194014374802, 'val_accuracy': 0.5461479786422578, 'precision': 0.4654743208038835, 'recall': 0.5461479786422578, 'f1-score': 0.4923125453587261, 'macro_f1-score': 0.10603440633487272, 'balanced_accuracy': 0.12381281150771073, 'mcc': 0.38396502404883903, 'train_loss': 1.3520244491718165}\n",
      "Epoch 12/20\n"
     ]
    },
    {
     "name": "stderr",
     "output_type": "stream",
     "text": [
      "100%|██████████| 328/328 [00:36<00:00,  9.09it/s]\n"
     ]
    },
    {
     "name": "stdout",
     "output_type": "stream",
     "text": [
      "{'val_loss': 1.9616733604088061, 'val_accuracy': 0.5194508009153318, 'precision': 0.4724379756285269, 'recall': 0.5194508009153318, 'f1-score': 0.4681446703926939, 'macro_f1-score': 0.09225879932923943, 'balanced_accuracy': 0.1130555247887024, 'mcc': 0.34234563873751234, 'train_loss': 1.305338006194045}\n",
      "Epoch 13/20\n"
     ]
    },
    {
     "name": "stderr",
     "output_type": "stream",
     "text": [
      "100%|██████████| 328/328 [00:35<00:00,  9.11it/s]\n"
     ]
    },
    {
     "name": "stdout",
     "output_type": "stream",
     "text": [
      "{'val_loss': 1.9086434606735299, 'val_accuracy': 0.5415713196033562, 'precision': 0.49215155540454725, 'recall': 0.5415713196033562, 'f1-score': 0.5040881958128833, 'macro_f1-score': 0.11066458036843625, 'balanced_accuracy': 0.11857453100273414, 'mcc': 0.37801545862305347, 'train_loss': 1.26489904422949}\n",
      "Epoch 14/20\n"
     ]
    },
    {
     "name": "stderr",
     "output_type": "stream",
     "text": [
      "100%|██████████| 328/328 [00:36<00:00,  9.02it/s]\n"
     ]
    },
    {
     "name": "stdout",
     "output_type": "stream",
     "text": [
      "{'val_loss': 1.9272189601892378, 'val_accuracy': 0.5369946605644547, 'precision': 0.4972278723653657, 'recall': 0.5369946605644547, 'f1-score': 0.509912039252146, 'macro_f1-score': 0.12329192078537748, 'balanced_accuracy': 0.14032728105845874, 'mcc': 0.39100451547921833, 'train_loss': 1.269255892441767}\n",
      "Epoch 15/20\n"
     ]
    },
    {
     "name": "stderr",
     "output_type": "stream",
     "text": [
      "100%|██████████| 328/328 [00:36<00:00,  9.06it/s]\n"
     ]
    },
    {
     "name": "stdout",
     "output_type": "stream",
     "text": [
      "{'val_loss': 1.967486850008732, 'val_accuracy': 0.5522501906941266, 'precision': 0.5074994243523724, 'recall': 0.5522501906941266, 'f1-score': 0.5246045311237785, 'macro_f1-score': 0.13405704881223346, 'balanced_accuracy': 0.151476041055741, 'mcc': 0.40882668005057893, 'train_loss': 1.1830729832191293}\n",
      "Epoch 16/20\n"
     ]
    },
    {
     "name": "stderr",
     "output_type": "stream",
     "text": [
      "100%|██████████| 328/328 [00:36<00:00,  9.06it/s]\n"
     ]
    },
    {
     "name": "stdout",
     "output_type": "stream",
     "text": [
      "{'val_loss': 1.9937579410105217, 'val_accuracy': 0.524790236460717, 'precision': 0.5058292322318019, 'recall': 0.524790236460717, 'f1-score': 0.5035190833526223, 'macro_f1-score': 0.12306574176076968, 'balanced_accuracy': 0.13430854562006733, 'mcc': 0.37185691606955174, 'train_loss': 1.158358127333042}\n",
      "Epoch 17/20\n"
     ]
    },
    {
     "name": "stderr",
     "output_type": "stream",
     "text": [
      "100%|██████████| 328/328 [00:36<00:00,  9.08it/s]\n"
     ]
    },
    {
     "name": "stdout",
     "output_type": "stream",
     "text": [
      "{'val_loss': 2.124049277203839, 'val_accuracy': 0.528604118993135, 'precision': 0.5121054943664971, 'recall': 0.528604118993135, 'f1-score': 0.5091606903679928, 'macro_f1-score': 0.13321438162327096, 'balanced_accuracy': 0.15587642788655198, 'mcc': 0.3921231816860628, 'train_loss': 1.1021155991205356}\n",
      "Epoch 18/20\n"
     ]
    },
    {
     "name": "stderr",
     "output_type": "stream",
     "text": [
      "100%|██████████| 328/328 [00:36<00:00,  9.06it/s]\n"
     ]
    },
    {
     "name": "stdout",
     "output_type": "stream",
     "text": [
      "{'val_loss': 1.9934922155083679, 'val_accuracy': 0.5736079328756675, 'precision': 0.500066308355029, 'recall': 0.5736079328756675, 'f1-score': 0.5205592285919431, 'macro_f1-score': 0.13523496458983406, 'balanced_accuracy': 0.14345180430364532, 'mcc': 0.41160160049431566, 'train_loss': 1.0820241962082502}\n",
      "Epoch 19/20\n"
     ]
    },
    {
     "name": "stderr",
     "output_type": "stream",
     "text": [
      "100%|██████████| 328/328 [00:36<00:00,  9.08it/s]\n"
     ]
    },
    {
     "name": "stdout",
     "output_type": "stream",
     "text": [
      "{'val_loss': 1.986898084602705, 'val_accuracy': 0.5255530129672006, 'precision': 0.51715063952461, 'recall': 0.5255530129672006, 'f1-score': 0.5151676899679458, 'macro_f1-score': 0.1299815191939633, 'balanced_accuracy': 0.1424047565680966, 'mcc': 0.3850929495582332, 'train_loss': 1.0253572210487796}\n",
      "Epoch 20/20\n"
     ]
    },
    {
     "name": "stderr",
     "output_type": "stream",
     "text": [
      "100%|██████████| 328/328 [00:36<00:00,  9.06it/s]\n"
     ]
    },
    {
     "name": "stdout",
     "output_type": "stream",
     "text": [
      "{'val_loss': 1.9175429951126983, 'val_accuracy': 0.5491990846681922, 'precision': 0.526881816130171, 'recall': 0.5491990846681922, 'f1-score': 0.5327287290114783, 'macro_f1-score': 0.1476699347621754, 'balanced_accuracy': 0.1633894214258712, 'mcc': 0.41011841415303346, 'train_loss': 1.0004393811360366}\n",
      "\n",
      "[Fold 4]\n",
      "Label distribution after resampling:\n",
      "  label 0: 2471\n",
      "  label 1: 22\n",
      "  label 2: 64\n",
      "  label 3: 24\n",
      "  label 4: 190\n",
      "  label 5: 113\n",
      "  label 6: 93\n",
      "  label 7: 31\n",
      "  label 8: 68\n",
      "  label 9: 29\n",
      "  label 10: 67\n",
      "  label 11: 169\n",
      "  label 12: 190\n",
      "  label 13: 29\n",
      "  label 14: 22\n",
      "  label 15: 25\n",
      "  label 16: 19\n",
      "  label 17: 182\n",
      "  label 18: 92\n",
      "  label 19: 44\n",
      "  label 20: 14\n",
      "  label 21: 35\n",
      "  label 22: 76\n",
      "  label 23: 158\n",
      "  label 24: 13\n",
      "  label 25: 44\n",
      "  label 26: 84\n",
      "  label 27: 48\n",
      "  label 28: 11\n",
      "  label 29: 13\n",
      "  label 30: 11\n",
      "  label 31: 75\n",
      "  label 32: 36\n",
      "  label 33: 31\n",
      "  label 34: 30\n",
      "  label 35: 11\n",
      "  label 36: 22\n",
      "  label 37: 16\n",
      "  label 38: 33\n",
      "  label 39: 10\n",
      "  label 40: 9\n",
      "  label 41: 56\n",
      "  label 42: 18\n",
      "  label 43: 9\n",
      "  label 44: 55\n",
      "  label 45: 241\n",
      "  label 46: 62\n",
      "  label 47: 80\n",
      "model is microsoft/deberta-base bilstm\n",
      "Epoch 1/20\n"
     ]
    },
    {
     "name": "stderr",
     "output_type": "stream",
     "text": [
      "100%|██████████| 328/328 [00:36<00:00,  9.10it/s]\n"
     ]
    },
    {
     "name": "stdout",
     "output_type": "stream",
     "text": [
      "{'val_loss': 2.2041380303661997, 'val_accuracy': 0.49122807017543857, 'precision': 0.33096633146784443, 'recall': 0.49122807017543857, 'f1-score': 0.37474641118284363, 'macro_f1-score': 0.03054301523299752, 'balanced_accuracy': 0.04577405356659995, 'mcc': 0.2450694820038101, 'train_loss': 2.406131600461355}\n",
      "Epoch 2/20\n"
     ]
    },
    {
     "name": "stderr",
     "output_type": "stream",
     "text": [
      "100%|██████████| 328/328 [00:36<00:00,  9.10it/s]\n"
     ]
    },
    {
     "name": "stdout",
     "output_type": "stream",
     "text": [
      "{'val_loss': 2.0497672448797926, 'val_accuracy': 0.5377574370709383, 'precision': 0.36815622144643345, 'recall': 0.5377574370709383, 'f1-score': 0.43447316150053367, 'macro_f1-score': 0.0579713680308836, 'balanced_accuracy': 0.07672115356324244, 'mcc': 0.32599417373487793, 'train_loss': 2.074620271237885}\n",
      "Epoch 3/20\n"
     ]
    },
    {
     "name": "stderr",
     "output_type": "stream",
     "text": [
      "100%|██████████| 328/328 [00:36<00:00,  9.01it/s]\n"
     ]
    },
    {
     "name": "stdout",
     "output_type": "stream",
     "text": [
      "{'val_loss': 2.0057899108747157, 'val_accuracy': 0.5141113653699466, 'precision': 0.3560813886154502, 'recall': 0.5141113653699466, 'f1-score': 0.40066058011173167, 'macro_f1-score': 0.04254020772175143, 'balanced_accuracy': 0.06674581229185463, 'mcc': 0.29194387529511934, 'train_loss': 1.9973903936220379}\n",
      "Epoch 4/20\n"
     ]
    },
    {
     "name": "stderr",
     "output_type": "stream",
     "text": [
      "100%|██████████| 328/328 [00:36<00:00,  9.09it/s]\n"
     ]
    },
    {
     "name": "stdout",
     "output_type": "stream",
     "text": [
      "{'val_loss': 2.00450839938187, 'val_accuracy': 0.5385202135774219, 'precision': 0.3484708608241563, 'recall': 0.5385202135774219, 'f1-score': 0.4180811331688524, 'macro_f1-score': 0.056324344657677994, 'balanced_accuracy': 0.0675350946099349, 'mcc': 0.302529127096646, 'train_loss': 1.8538034038572777}\n",
      "Epoch 5/20\n"
     ]
    },
    {
     "name": "stderr",
     "output_type": "stream",
     "text": [
      "100%|██████████| 328/328 [00:36<00:00,  9.07it/s]\n"
     ]
    },
    {
     "name": "stdout",
     "output_type": "stream",
     "text": [
      "{'val_loss': 1.9289675965541746, 'val_accuracy': 0.5072463768115942, 'precision': 0.42221760858148, 'recall': 0.5072463768115942, 'f1-score': 0.449787060684872, 'macro_f1-score': 0.06267201341914629, 'balanced_accuracy': 0.09367040150700805, 'mcc': 0.34911739470266717, 'train_loss': 1.7346321037266312}\n",
      "Epoch 6/20\n"
     ]
    },
    {
     "name": "stderr",
     "output_type": "stream",
     "text": [
      "100%|██████████| 328/328 [00:36<00:00,  9.05it/s]\n"
     ]
    },
    {
     "name": "stdout",
     "output_type": "stream",
     "text": [
      "{'val_loss': 2.11468192208104, 'val_accuracy': 0.5118230358504958, 'precision': 0.3770537048407053, 'recall': 0.5118230358504958, 'f1-score': 0.42455223045168966, 'macro_f1-score': 0.05082184691850757, 'balanced_accuracy': 0.06953674137359289, 'mcc': 0.3029614229752239, 'train_loss': 1.7452408945778521}\n",
      "Epoch 7/20\n"
     ]
    },
    {
     "name": "stderr",
     "output_type": "stream",
     "text": [
      "100%|██████████| 328/328 [00:36<00:00,  9.06it/s]\n"
     ]
    },
    {
     "name": "stdout",
     "output_type": "stream",
     "text": [
      "{'val_loss': 1.948386854514843, 'val_accuracy': 0.5026697177726926, 'precision': 0.4102443223455219, 'recall': 0.5026697177726926, 'f1-score': 0.44118108901613623, 'macro_f1-score': 0.05669454064866546, 'balanced_accuracy': 0.08737736438607661, 'mcc': 0.336233582170621, 'train_loss': 1.8109112894389687}\n",
      "Epoch 8/20\n"
     ]
    },
    {
     "name": "stderr",
     "output_type": "stream",
     "text": [
      "100%|██████████| 328/328 [00:36<00:00,  9.06it/s]\n"
     ]
    },
    {
     "name": "stdout",
     "output_type": "stream",
     "text": [
      "{'val_loss': 1.9234706864851276, 'val_accuracy': 0.5362318840579711, 'precision': 0.40293181716224435, 'recall': 0.5362318840579711, 'f1-score': 0.456053171271814, 'macro_f1-score': 0.068538785765059, 'balanced_accuracy': 0.09450316013383601, 'mcc': 0.35372528157997835, 'train_loss': 1.638636944497504}\n",
      "Epoch 9/20\n"
     ]
    },
    {
     "name": "stderr",
     "output_type": "stream",
     "text": [
      "100%|██████████| 328/328 [00:36<00:00,  9.04it/s]\n"
     ]
    },
    {
     "name": "stdout",
     "output_type": "stream",
     "text": [
      "{'val_loss': 1.9738961545432485, 'val_accuracy': 0.5163996948893974, 'precision': 0.4266418065516854, 'recall': 0.5163996948893974, 'f1-score': 0.4582178894714956, 'macro_f1-score': 0.07141721987395046, 'balanced_accuracy': 0.09721583350652858, 'mcc': 0.34897034318343173, 'train_loss': 1.5530322166841204}\n",
      "Epoch 10/20\n"
     ]
    },
    {
     "name": "stderr",
     "output_type": "stream",
     "text": [
      "100%|██████████| 328/328 [00:36<00:00,  9.10it/s]\n"
     ]
    },
    {
     "name": "stdout",
     "output_type": "stream",
     "text": [
      "{'val_loss': 1.9280082136392593, 'val_accuracy': 0.5278413424866514, 'precision': 0.4629384529329496, 'recall': 0.5278413424866514, 'f1-score': 0.4789153740843354, 'macro_f1-score': 0.08096882925959731, 'balanced_accuracy': 0.10682425781976708, 'mcc': 0.3757869215734372, 'train_loss': 1.500580488954012}\n",
      "Epoch 11/20\n"
     ]
    },
    {
     "name": "stderr",
     "output_type": "stream",
     "text": [
      "100%|██████████| 328/328 [00:36<00:00,  9.10it/s]\n"
     ]
    },
    {
     "name": "stdout",
     "output_type": "stream",
     "text": [
      "{'val_loss': 1.9307457593882955, 'val_accuracy': 0.524790236460717, 'precision': 0.45325695130392024, 'recall': 0.524790236460717, 'f1-score': 0.47883910081421965, 'macro_f1-score': 0.08640502660365239, 'balanced_accuracy': 0.11093489011556885, 'mcc': 0.3678132138632731, 'train_loss': 1.4251542134982784}\n",
      "Epoch 12/20\n"
     ]
    },
    {
     "name": "stderr",
     "output_type": "stream",
     "text": [
      "100%|██████████| 328/328 [00:36<00:00,  9.01it/s]\n"
     ]
    },
    {
     "name": "stdout",
     "output_type": "stream",
     "text": [
      "{'val_loss': 1.9695862800609776, 'val_accuracy': 0.5392829900839055, 'precision': 0.4223911872926424, 'recall': 0.5392829900839055, 'f1-score': 0.46890623471631415, 'macro_f1-score': 0.07656745016068973, 'balanced_accuracy': 0.09605949277529602, 'mcc': 0.36018142835819683, 'train_loss': 1.5042351825935085}\n",
      "Epoch 13/20\n"
     ]
    },
    {
     "name": "stderr",
     "output_type": "stream",
     "text": [
      "100%|██████████| 328/328 [00:36<00:00,  9.10it/s]\n"
     ]
    },
    {
     "name": "stdout",
     "output_type": "stream",
     "text": [
      "{'val_loss': 1.9721999844399893, 'val_accuracy': 0.5316552250190694, 'precision': 0.41857814231674645, 'recall': 0.5316552250190694, 'f1-score': 0.455297440030119, 'macro_f1-score': 0.0775312604575703, 'balanced_accuracy': 0.08930441475700375, 'mcc': 0.33156099202316813, 'train_loss': 1.5172814344305818}\n",
      "Epoch 14/20\n"
     ]
    },
    {
     "name": "stderr",
     "output_type": "stream",
     "text": [
      "100%|██████████| 328/328 [00:36<00:00,  9.06it/s]\n"
     ]
    },
    {
     "name": "stdout",
     "output_type": "stream",
     "text": [
      "{'val_loss': 1.9062769972696536, 'val_accuracy': 0.5194508009153318, 'precision': 0.4766030070949871, 'recall': 0.5194508009153318, 'f1-score': 0.4869201370046652, 'macro_f1-score': 0.0892094904002822, 'balanced_accuracy': 0.11786884726068192, 'mcc': 0.3746814223034957, 'train_loss': 1.397204545576398}\n",
      "Epoch 15/20\n"
     ]
    },
    {
     "name": "stderr",
     "output_type": "stream",
     "text": [
      "100%|██████████| 328/328 [00:36<00:00,  9.07it/s]\n"
     ]
    },
    {
     "name": "stdout",
     "output_type": "stream",
     "text": [
      "{'val_loss': 1.9199350323618911, 'val_accuracy': 0.4988558352402746, 'precision': 0.4549838453829205, 'recall': 0.4988558352402746, 'f1-score': 0.4644323267133308, 'macro_f1-score': 0.08423701815003974, 'balanced_accuracy': 0.10683924171241384, 'mcc': 0.33911466094586734, 'train_loss': 1.3575660162946073}\n",
      "Epoch 16/20\n"
     ]
    },
    {
     "name": "stderr",
     "output_type": "stream",
     "text": [
      "100%|██████████| 328/328 [00:36<00:00,  9.06it/s]\n"
     ]
    },
    {
     "name": "stdout",
     "output_type": "stream",
     "text": [
      "{'val_loss': 1.8871356107112838, 'val_accuracy': 0.5339435545385202, 'precision': 0.491185052238537, 'recall': 0.5339435545385202, 'f1-score': 0.5011066309031741, 'macro_f1-score': 0.1021235274892352, 'balanced_accuracy': 0.1277674923354952, 'mcc': 0.3862927501479736, 'train_loss': 1.2821756595881975}\n",
      "Epoch 17/20\n"
     ]
    },
    {
     "name": "stderr",
     "output_type": "stream",
     "text": [
      "100%|██████████| 328/328 [00:36<00:00,  9.09it/s]\n"
     ]
    },
    {
     "name": "stdout",
     "output_type": "stream",
     "text": [
      "{'val_loss': 1.9129417938430135, 'val_accuracy': 0.5194508009153318, 'precision': 0.46693580077639113, 'recall': 0.5194508009153318, 'f1-score': 0.48130846347851475, 'macro_f1-score': 0.09155362916118466, 'balanced_accuracy': 0.11556097356925539, 'mcc': 0.3703804583236043, 'train_loss': 1.2577245213636539}\n",
      "Epoch 18/20\n"
     ]
    },
    {
     "name": "stderr",
     "output_type": "stream",
     "text": [
      "100%|██████████| 328/328 [00:36<00:00,  9.05it/s]\n"
     ]
    },
    {
     "name": "stdout",
     "output_type": "stream",
     "text": [
      "{'val_loss': 1.915867986475549, 'val_accuracy': 0.5301296720061022, 'precision': 0.4386532473007354, 'recall': 0.5301296720061022, 'f1-score': 0.46960253425337783, 'macro_f1-score': 0.08409886040110175, 'balanced_accuracy': 0.10950027700846883, 'mcc': 0.36298160062814205, 'train_loss': 1.2955687517618262}\n",
      "Epoch 19/20\n"
     ]
    },
    {
     "name": "stderr",
     "output_type": "stream",
     "text": [
      "100%|██████████| 328/328 [00:36<00:00,  9.10it/s]\n"
     ]
    },
    {
     "name": "stdout",
     "output_type": "stream",
     "text": [
      "{'val_loss': 2.001815683231121, 'val_accuracy': 0.5225019069412662, 'precision': 0.44963033178385475, 'recall': 0.5225019069412662, 'f1-score': 0.4696217065569023, 'macro_f1-score': 0.08756298855043188, 'balanced_accuracy': 0.10805569957447118, 'mcc': 0.35744165306913844, 'train_loss': 1.3563687359777892}\n",
      "Early stopping.\n",
      "\n",
      "[Fold 5]\n",
      "Label distribution after resampling:\n",
      "  label 0: 2472\n",
      "  label 1: 21\n",
      "  label 2: 64\n",
      "  label 3: 24\n",
      "  label 4: 191\n",
      "  label 5: 112\n",
      "  label 6: 92\n",
      "  label 7: 31\n",
      "  label 8: 68\n",
      "  label 9: 29\n",
      "  label 10: 68\n",
      "  label 11: 168\n",
      "  label 12: 190\n",
      "  label 13: 29\n",
      "  label 14: 22\n",
      "  label 15: 25\n",
      "  label 16: 19\n",
      "  label 17: 183\n",
      "  label 18: 92\n",
      "  label 19: 44\n",
      "  label 20: 14\n",
      "  label 21: 35\n",
      "  label 22: 76\n",
      "  label 23: 158\n",
      "  label 24: 13\n",
      "  label 25: 44\n",
      "  label 26: 84\n",
      "  label 27: 48\n",
      "  label 28: 11\n",
      "  label 29: 13\n",
      "  label 30: 11\n",
      "  label 31: 75\n",
      "  label 32: 36\n",
      "  label 33: 31\n",
      "  label 34: 30\n",
      "  label 35: 11\n",
      "  label 36: 22\n",
      "  label 37: 16\n",
      "  label 38: 33\n",
      "  label 39: 10\n",
      "  label 40: 9\n",
      "  label 41: 57\n",
      "  label 42: 18\n",
      "  label 43: 9\n",
      "  label 44: 54\n",
      "  label 45: 242\n",
      "  label 46: 61\n",
      "  label 47: 80\n",
      "model is microsoft/deberta-base bilstm\n",
      "Epoch 1/20\n"
     ]
    },
    {
     "name": "stderr",
     "output_type": "stream",
     "text": [
      "100%|██████████| 328/328 [00:36<00:00,  9.08it/s]\n"
     ]
    },
    {
     "name": "stdout",
     "output_type": "stream",
     "text": [
      "{'val_loss': 2.223314817358808, 'val_accuracy': 0.5118230358504958, 'precision': 0.2667172113048875, 'recall': 0.5118230358504958, 'f1-score': 0.35025995266269866, 'macro_f1-score': 0.02571455383955384, 'balanced_accuracy': 0.04052370340356564, 'mcc': 0.22793075461100895, 'train_loss': 2.453256377723159}\n",
      "Epoch 2/20\n"
     ]
    },
    {
     "name": "stderr",
     "output_type": "stream",
     "text": [
      "100%|██████████| 328/328 [00:36<00:00,  8.99it/s]\n"
     ]
    },
    {
     "name": "stdout",
     "output_type": "stream",
     "text": [
      "{'val_loss': 2.162855138865913, 'val_accuracy': 0.4950419527078566, 'precision': 0.27948531958074124, 'recall': 0.4950419527078566, 'f1-score': 0.3455029750566405, 'macro_f1-score': 0.028015339397056638, 'balanced_accuracy': 0.03204048463356974, 'mcc': 0.17104397479229022, 'train_loss': 2.182937539750483}\n",
      "Epoch 3/20\n"
     ]
    },
    {
     "name": "stderr",
     "output_type": "stream",
     "text": [
      "100%|██████████| 328/328 [00:36<00:00,  9.08it/s]\n"
     ]
    },
    {
     "name": "stdout",
     "output_type": "stream",
     "text": [
      "{'val_loss': 2.0282549327466546, 'val_accuracy': 0.5163996948893974, 'precision': 0.35586013804020933, 'recall': 0.5163996948893974, 'f1-score': 0.4093056901990486, 'macro_f1-score': 0.042951153471748195, 'balanced_accuracy': 0.06247119814146055, 'mcc': 0.2940875927706072, 'train_loss': 2.072263334764213}\n",
      "Epoch 4/20\n"
     ]
    },
    {
     "name": "stderr",
     "output_type": "stream",
     "text": [
      "100%|██████████| 328/328 [00:36<00:00,  9.05it/s]\n"
     ]
    },
    {
     "name": "stdout",
     "output_type": "stream",
     "text": [
      "{'val_loss': 2.135869588066892, 'val_accuracy': 0.4996186117467582, 'precision': 0.3619081117589053, 'recall': 0.4996186117467582, 'f1-score': 0.41400332270971085, 'macro_f1-score': 0.03789504199184388, 'balanced_accuracy': 0.05703736351700506, 'mcc': 0.3030086697410704, 'train_loss': 2.063628891437519}\n",
      "Epoch 5/20\n"
     ]
    },
    {
     "name": "stderr",
     "output_type": "stream",
     "text": [
      "100%|██████████| 328/328 [00:36<00:00,  9.06it/s]\n"
     ]
    },
    {
     "name": "stdout",
     "output_type": "stream",
     "text": [
      "{'val_loss': 2.0226663307445807, 'val_accuracy': 0.5125858123569794, 'precision': 0.3787498947233549, 'recall': 0.5125858123569794, 'f1-score': 0.4241587896073141, 'macro_f1-score': 0.04444316112845884, 'balanced_accuracy': 0.06530098689914544, 'mcc': 0.3180459482290206, 'train_loss': 1.949940458485266}\n",
      "Epoch 6/20\n"
     ]
    },
    {
     "name": "stderr",
     "output_type": "stream",
     "text": [
      "100%|██████████| 328/328 [00:36<00:00,  9.06it/s]\n"
     ]
    },
    {
     "name": "stdout",
     "output_type": "stream",
     "text": [
      "{'val_loss': 1.9831243353645975, 'val_accuracy': 0.5469107551487414, 'precision': 0.3688531340781297, 'recall': 0.5469107551487414, 'f1-score': 0.43913995330514977, 'macro_f1-score': 0.051450518650257855, 'balanced_accuracy': 0.07122341207256144, 'mcc': 0.34565487429154557, 'train_loss': 1.9298097229585416}\n",
      "Epoch 7/20\n"
     ]
    },
    {
     "name": "stderr",
     "output_type": "stream",
     "text": [
      "100%|██████████| 328/328 [00:36<00:00,  9.08it/s]\n"
     ]
    },
    {
     "name": "stdout",
     "output_type": "stream",
     "text": [
      "{'val_loss': 1.955403398449828, 'val_accuracy': 0.5545385202135774, 'precision': 0.3796860374395636, 'recall': 0.5545385202135774, 'f1-score': 0.44931854417691475, 'macro_f1-score': 0.059647716863134116, 'balanced_accuracy': 0.08066712586417006, 'mcc': 0.35973515648892024, 'train_loss': 1.8099397062891867}\n",
      "Epoch 8/20\n"
     ]
    },
    {
     "name": "stderr",
     "output_type": "stream",
     "text": [
      "100%|██████████| 328/328 [00:36<00:00,  9.06it/s]\n"
     ]
    },
    {
     "name": "stdout",
     "output_type": "stream",
     "text": [
      "{'val_loss': 1.9581659058245218, 'val_accuracy': 0.5339435545385202, 'precision': 0.362279051938284, 'recall': 0.5339435545385202, 'f1-score': 0.42880249457249286, 'macro_f1-score': 0.050329954148954824, 'balanced_accuracy': 0.07417495599883504, 'mcc': 0.3322870913298512, 'train_loss': 1.8311141124222337}\n",
      "Epoch 9/20\n"
     ]
    },
    {
     "name": "stderr",
     "output_type": "stream",
     "text": [
      "100%|██████████| 328/328 [00:36<00:00,  9.10it/s]\n"
     ]
    },
    {
     "name": "stdout",
     "output_type": "stream",
     "text": [
      "{'val_loss': 1.9571254275194028, 'val_accuracy': 0.5240274599542334, 'precision': 0.39922629548669053, 'recall': 0.5240274599542334, 'f1-score': 0.44187852632441776, 'macro_f1-score': 0.048872299311244684, 'balanced_accuracy': 0.08183000910059125, 'mcc': 0.3556491360652666, 'train_loss': 1.8125080077386484}\n",
      "Epoch 10/20\n"
     ]
    },
    {
     "name": "stderr",
     "output_type": "stream",
     "text": [
      "100%|██████████| 328/328 [00:36<00:00,  9.10it/s]\n"
     ]
    },
    {
     "name": "stdout",
     "output_type": "stream",
     "text": [
      "{'val_loss': 1.9649406925934116, 'val_accuracy': 0.5461479786422578, 'precision': 0.41126902020386386, 'recall': 0.5461479786422578, 'f1-score': 0.448236761187209, 'macro_f1-score': 0.05785801331736332, 'balanced_accuracy': 0.08443420096483233, 'mcc': 0.3649506810149388, 'train_loss': 1.852731882980684}\n",
      "Early stopping.\n",
      "\n",
      " === microsoft/deberta-base + bilstm + none Final 5-fold Cross-Validation Results ===\n",
      "val_loss: 1.9307\n",
      "val_accuracy: 0.5403\n",
      "precision: 0.4506\n",
      "recall: 0.5403\n",
      "f1-score: 0.4819\n",
      "macro_f1-score: 0.0898\n",
      "balanced_accuracy: 0.1108\n",
      "mcc: 0.3726\n",
      "train_loss: 1.5205\n",
      "total_seconds: 2883.0000\n",
      "total_time: 0 hrs 48 mins 3 secs\n"
     ]
    }
   ],
   "source": [
    "model_list = [\"bert-base-uncased\", \"roberta-base\", \"microsoft/deberta-base\"]\n",
    "hybrid_list = [None, \"cnn\", \"lstm\", \"bilstm\"]\n",
    "resample_list = [\"none\"]\n",
    "\n",
    "all_experiment_result = {}\n",
    "\n",
    "for model_name in model_list:\n",
    "    for hybrid_type in hybrid_list:\n",
    "        for resample_method in resample_list:\n",
    "            results = run_kfold_experiment(\n",
    "                X=messages, y=labels, model_name=model_name, hybrid_type=hybrid_type, resample_method=resample_method,\n",
    "                kfold=KFOLD_SPLIT, seed=SEED, epochs=EPOCHS, patience=PATIENCE, max_length=MAX_LENGTH, \n",
    "                batch_size=BATCH_SIZE, lr=LR, weight_decay=WEIGHT_DECAY\n",
    "            )\n",
    "\n",
    "            key = f\"{model_name} {hybrid_type if hybrid_type else 'None'} {resample_method}\"\n",
    "            all_experiment_result[key] = results"
   ]
  },
  {
   "cell_type": "code",
   "execution_count": 6,
   "id": "d799ebb4-be3b-4b29-9238-6c2a2f8256ae",
   "metadata": {},
   "outputs": [
    {
     "data": {
      "text/plain": [
       "{'bert-base-uncased None none': {'val_loss': 1.8572805853151693,\n",
       "  'val_accuracy': 0.6519235688638351,\n",
       "  'precision': 0.6475876343156429,\n",
       "  'recall': 0.6519235688638351,\n",
       "  'f1-score': 0.6422196399128314,\n",
       "  'macro_f1-score': 0.4003482237791875,\n",
       "  'balanced_accuracy': 0.39898639091752514,\n",
       "  'mcc': 0.5400872483351339,\n",
       "  'train_loss': 0.21939853308225485,\n",
       "  'total_seconds': 2066,\n",
       "  'total_time': '0 hrs 34 mins 26 secs'},\n",
       " 'bert-base-uncased cnn none': {'val_loss': 1.9171577240453987,\n",
       "  'val_accuracy': 0.6601594621495414,\n",
       "  'precision': 0.6511009108159114,\n",
       "  'recall': 0.6601594621495414,\n",
       "  'f1-score': 0.6449758801959524,\n",
       "  'macro_f1-score': 0.4081399533798636,\n",
       "  'balanced_accuracy': 0.3951950506402808,\n",
       "  'mcc': 0.545043194486036,\n",
       "  'train_loss': 0.12925924974104686,\n",
       "  'total_seconds': 2145,\n",
       "  'total_time': '0 hrs 35 mins 45 secs'},\n",
       " 'bert-base-uncased lstm none': {'val_loss': 1.8109265486459907,\n",
       "  'val_accuracy': 0.6433794254990606,\n",
       "  'precision': 0.6446510097583321,\n",
       "  'recall': 0.6433794254990606,\n",
       "  'f1-score': 0.635474985978963,\n",
       "  'macro_f1-score': 0.3939679691381758,\n",
       "  'balanced_accuracy': 0.3993982726309797,\n",
       "  'mcc': 0.5298680716705625,\n",
       "  'train_loss': 0.2788153298460402,\n",
       "  'total_seconds': 3543,\n",
       "  'total_time': '0 hrs 59 mins 3 secs'},\n",
       " 'bert-base-uncased bilstm none': {'val_loss': 1.849475383758545,\n",
       "  'val_accuracy': 0.6450584640285763,\n",
       "  'precision': 0.654852703361924,\n",
       "  'recall': 0.6450584640285763,\n",
       "  'f1-score': 0.6398467893080972,\n",
       "  'macro_f1-score': 0.401874212621249,\n",
       "  'balanced_accuracy': 0.40353841911299426,\n",
       "  'mcc': 0.532938639506179,\n",
       "  'train_loss': 0.20999451232335828,\n",
       "  'total_seconds': 7048,\n",
       "  'total_time': '1 hrs 57 mins 28 secs'},\n",
       " 'roberta-base None none': {'val_loss': 1.882129627997737,\n",
       "  'val_accuracy': 0.6044779399453033,\n",
       "  'precision': 0.5724778044281351,\n",
       "  'recall': 0.6044779399453033,\n",
       "  'f1-score': 0.5755642955529592,\n",
       "  'macro_f1-score': 0.3045571706286441,\n",
       "  'balanced_accuracy': 0.32438088138485016,\n",
       "  'mcc': 0.47122040299823525,\n",
       "  'train_loss': 0.816148373255756,\n",
       "  'total_seconds': 4358,\n",
       "  'total_time': '1 hrs 12 mins 38 secs'},\n",
       " 'roberta-base cnn none': {'val_loss': 1.8597519390739319,\n",
       "  'val_accuracy': 0.6124309315175532,\n",
       "  'precision': 0.5942577904486861,\n",
       "  'recall': 0.6124309315175532,\n",
       "  'f1-score': 0.5913679381322765,\n",
       "  'macro_f1-score': 0.31606979747248853,\n",
       "  'balanced_accuracy': 0.3223994496811579,\n",
       "  'mcc': 0.4839208255168447,\n",
       "  'train_loss': 0.705209973621148,\n",
       "  'total_seconds': 2347,\n",
       "  'total_time': '0 hrs 39 mins 7 secs'},\n",
       " 'roberta-base lstm none': {'val_loss': 1.7504211570249826,\n",
       "  'val_accuracy': 0.6055514083458913,\n",
       "  'precision': 0.5924935518993203,\n",
       "  'recall': 0.6055514083458913,\n",
       "  'f1-score': 0.590146914399584,\n",
       "  'macro_f1-score': 0.28152920464867226,\n",
       "  'balanced_accuracy': 0.3031666146289289,\n",
       "  'mcc': 0.4848746549319743,\n",
       "  'train_loss': 0.7306008975248692,\n",
       "  'total_seconds': 3195,\n",
       "  'total_time': '0 hrs 53 mins 15 secs'},\n",
       " 'roberta-base bilstm none': {'val_loss': 1.8764136713089012,\n",
       "  'val_accuracy': 0.6200426503692955,\n",
       "  'precision': 0.6262339859115214,\n",
       "  'recall': 0.6200426503692955,\n",
       "  'f1-score': 0.6160645937733776,\n",
       "  'macro_f1-score': 0.3434198703405349,\n",
       "  'balanced_accuracy': 0.3546124771439458,\n",
       "  'mcc': 0.506406214377884,\n",
       "  'train_loss': 0.3824162964334303,\n",
       "  'total_seconds': 3419,\n",
       "  'total_time': '0 hrs 56 mins 59 secs'},\n",
       " 'microsoft/deberta-base None none': {'val_loss': 1.914602105610254,\n",
       "  'val_accuracy': 0.6455165950400923,\n",
       "  'precision': 0.6425314751860622,\n",
       "  'recall': 0.6455165950400923,\n",
       "  'f1-score': 0.6345079654184389,\n",
       "  'macro_f1-score': 0.39650133920972985,\n",
       "  'balanced_accuracy': 0.3872870429392695,\n",
       "  'mcc': 0.5307663439994084,\n",
       "  'train_loss': 0.152263939822882,\n",
       "  'total_seconds': 2615,\n",
       "  'total_time': '0 hrs 43 mins 35 secs'},\n",
       " 'microsoft/deberta-base cnn none': {'val_loss': 1.8966977376399972,\n",
       "  'val_accuracy': 0.6180571059143085,\n",
       "  'precision': 0.5800053239782091,\n",
       "  'recall': 0.6180571059143085,\n",
       "  'f1-score': 0.5862461106656953,\n",
       "  'macro_f1-score': 0.3215670988331277,\n",
       "  'balanced_accuracy': 0.320966543235977,\n",
       "  'mcc': 0.476107708032307,\n",
       "  'train_loss': 0.6883096488571737,\n",
       "  'total_seconds': 2479,\n",
       "  'total_time': '0 hrs 41 mins 19 secs'},\n",
       " 'microsoft/deberta-base lstm none': {'val_loss': 2.043419184699291,\n",
       "  'val_accuracy': 0.5291353881788246,\n",
       "  'precision': 0.368673173754093,\n",
       "  'recall': 0.5291353881788246,\n",
       "  'f1-score': 0.427563683083549,\n",
       "  'macro_f1-score': 0.052551479595035075,\n",
       "  'balanced_accuracy': 0.07201925595665151,\n",
       "  'mcc': 0.320214064475789,\n",
       "  'train_loss': 1.927568490076356,\n",
       "  'total_seconds': 1780,\n",
       "  'total_time': '0 hrs 29 mins 40 secs'},\n",
       " 'microsoft/deberta-base bilstm none': {'val_loss': 1.9306609746886463,\n",
       "  'val_accuracy': 0.5402683205893843,\n",
       "  'precision': 0.45064483593082727,\n",
       "  'recall': 0.5402683205893843,\n",
       "  'f1-score': 0.4819034631420346,\n",
       "  'macro_f1-score': 0.089801995836771,\n",
       "  'balanced_accuracy': 0.11076653727472656,\n",
       "  'mcc': 0.3725788056397719,\n",
       "  'train_loss': 1.5204507074795846,\n",
       "  'total_seconds': 2883,\n",
       "  'total_time': '0 hrs 48 mins 3 secs'}}"
      ]
     },
     "execution_count": 6,
     "metadata": {},
     "output_type": "execute_result"
    }
   ],
   "source": [
    "all_experiment_result"
   ]
  }
 ],
 "metadata": {
  "kernelspec": {
   "display_name": "Python 3 (ipykernel)",
   "language": "python",
   "name": "python3"
  },
  "language_info": {
   "codemirror_mode": {
    "name": "ipython",
    "version": 3
   },
   "file_extension": ".py",
   "mimetype": "text/x-python",
   "name": "python",
   "nbconvert_exporter": "python",
   "pygments_lexer": "ipython3",
   "version": "3.11.9"
  }
 },
 "nbformat": 4,
 "nbformat_minor": 5
}
