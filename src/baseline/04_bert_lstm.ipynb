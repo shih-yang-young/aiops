{
 "cells": [
  {
   "cell_type": "code",
   "execution_count": 2,
   "id": "f22f4841-9a9d-4a63-b896-560594d666d8",
   "metadata": {},
   "outputs": [
    {
     "data": {
      "text/html": [
       "<div>\n",
       "<style scoped>\n",
       "    .dataframe tbody tr th:only-of-type {\n",
       "        vertical-align: middle;\n",
       "    }\n",
       "\n",
       "    .dataframe tbody tr th {\n",
       "        vertical-align: top;\n",
       "    }\n",
       "\n",
       "    .dataframe thead th {\n",
       "        text-align: right;\n",
       "    }\n",
       "</style>\n",
       "<table border=\"1\" class=\"dataframe\">\n",
       "  <thead>\n",
       "    <tr style=\"text-align: right;\">\n",
       "      <th></th>\n",
       "      <th>Inbound Message</th>\n",
       "      <th>Label</th>\n",
       "    </tr>\n",
       "  </thead>\n",
       "  <tbody>\n",
       "    <tr>\n",
       "      <th>0</th>\n",
       "      <td>login issue verified user details employee man...</td>\n",
       "      <td>0</td>\n",
       "    </tr>\n",
       "    <tr>\n",
       "      <th>1</th>\n",
       "      <td>outlook hello team meetings skype meetings etc...</td>\n",
       "      <td>0</td>\n",
       "    </tr>\n",
       "    <tr>\n",
       "      <th>2</th>\n",
       "      <td>cant log vpn cannot log vpn best</td>\n",
       "      <td>0</td>\n",
       "    </tr>\n",
       "    <tr>\n",
       "      <th>3</th>\n",
       "      <td>unable access tool page unable access tool page</td>\n",
       "      <td>0</td>\n",
       "    </tr>\n",
       "    <tr>\n",
       "      <th>4</th>\n",
       "      <td>skype error skype error</td>\n",
       "      <td>0</td>\n",
       "    </tr>\n",
       "    <tr>\n",
       "      <th>...</th>\n",
       "      <td>...</td>\n",
       "      <td>...</td>\n",
       "    </tr>\n",
       "    <tr>\n",
       "      <th>8449</th>\n",
       "      <td>emails coming mail good afternoon receiving em...</td>\n",
       "      <td>22</td>\n",
       "    </tr>\n",
       "    <tr>\n",
       "      <th>8450</th>\n",
       "      <td>telephony software issue telephony software issue</td>\n",
       "      <td>0</td>\n",
       "    </tr>\n",
       "    <tr>\n",
       "      <th>8451</th>\n",
       "      <td>vip windows password reset tifpdchb pedxruyf v...</td>\n",
       "      <td>0</td>\n",
       "    </tr>\n",
       "    <tr>\n",
       "      <th>8452</th>\n",
       "      <td>machine est funcionando unable access machine ...</td>\n",
       "      <td>44</td>\n",
       "    </tr>\n",
       "    <tr>\n",
       "      <th>8453</th>\n",
       "      <td>mehreren lassen sich verschiedene prgramdntyme...</td>\n",
       "      <td>49</td>\n",
       "    </tr>\n",
       "  </tbody>\n",
       "</table>\n",
       "<p>8454 rows × 2 columns</p>\n",
       "</div>"
      ],
      "text/plain": [
       "                                        Inbound Message  Label\n",
       "0     login issue verified user details employee man...      0\n",
       "1     outlook hello team meetings skype meetings etc...      0\n",
       "2                      cant log vpn cannot log vpn best      0\n",
       "3       unable access tool page unable access tool page      0\n",
       "4                               skype error skype error      0\n",
       "...                                                 ...    ...\n",
       "8449  emails coming mail good afternoon receiving em...     22\n",
       "8450  telephony software issue telephony software issue      0\n",
       "8451  vip windows password reset tifpdchb pedxruyf v...      0\n",
       "8452  machine est funcionando unable access machine ...     44\n",
       "8453  mehreren lassen sich verschiedene prgramdntyme...     49\n",
       "\n",
       "[8454 rows x 2 columns]"
      ]
     },
     "execution_count": 2,
     "metadata": {},
     "output_type": "execute_result"
    }
   ],
   "source": [
    "import pandas as pd\n",
    "data_path = \"../../data/open_source_8454_combine_short_description.csv\"\n",
    "df = pd.read_csv(data_path)\n",
    "# df_label_0 = df[df[\"Label\"] == 0]\n",
    "# df_label_0_to_drop = df_label_0.sample(n=3000, random_state=42)\n",
    "# df = df.drop(df_label_0_to_drop.index)\n",
    "df"
   ]
  },
  {
   "cell_type": "code",
   "execution_count": 3,
   "id": "bf737873-4f1c-4588-913d-8f06b2777b20",
   "metadata": {},
   "outputs": [],
   "source": [
    "import sys\n",
    "import os\n",
    "sys.path.append(os.path.abspath('../ml_lib'))\n",
    "\n",
    "from config import *\n",
    "from experiment import run_kfold_experiment"
   ]
  },
  {
   "cell_type": "code",
   "execution_count": 4,
   "id": "a12b2613-aa9d-41c0-8f62-72210eaf8d7f",
   "metadata": {},
   "outputs": [],
   "source": [
    "messages, labels = df['Inbound Message'].tolist(), df['Label'].tolist()"
   ]
  },
  {
   "cell_type": "code",
   "execution_count": 5,
   "id": "38d4729f-f867-4cea-89f9-31f67e5ecced",
   "metadata": {},
   "outputs": [
    {
     "name": "stdout",
     "output_type": "stream",
     "text": [
      "▶ Running: bert-base-uncased + lstm + none\n",
      "tokenizer is bert-base-uncased\n",
      "Using device: cuda\n",
      "CUDA Available: True\n",
      "CUDA Device: NVIDIA GeForce RTX 3050 6GB Laptop GPU\n",
      "Current GPU Memory Allocated: 0.00 GB\n",
      "Current GPU Memory Cached: 0.00 GB\n",
      "\n",
      "[Fold 1]\n",
      "model is bert-base-uncased lstm\n"
     ]
    },
    {
     "name": "stderr",
     "output_type": "stream",
     "text": [
      "D:\\Anaconda3\\envs\\cuda\\Lib\\site-packages\\sklearn\\model_selection\\_split.py:737: UserWarning: The least populated class in y has only 7 members, which is less than n_splits=10.\n",
      "  warnings.warn(\n"
     ]
    },
    {
     "name": "stdout",
     "output_type": "stream",
     "text": [
      "Epoch 1/20\n"
     ]
    },
    {
     "name": "stderr",
     "output_type": "stream",
     "text": [
      "100%|██████████| 476/476 [03:50<00:00,  2.07it/s]\n"
     ]
    },
    {
     "name": "stdout",
     "output_type": "stream",
     "text": [
      "{'val_loss': 1.7230073584700532, 'val_accuracy': 0.6004728132387707, 'precision': 0.42734994046991776, 'recall': 0.6004728132387707, 'f1-score': 0.48157159548518624, 'macro_f1-score': 0.08540705052678263, 'balanced_accuracy': 0.09908737648359403, 'mcc': 0.4189520678802164, 'train_loss': 2.037191925179057}\n",
      "Epoch 2/20\n"
     ]
    },
    {
     "name": "stderr",
     "output_type": "stream",
     "text": [
      "100%|██████████| 476/476 [03:49<00:00,  2.07it/s]\n"
     ]
    },
    {
     "name": "stdout",
     "output_type": "stream",
     "text": [
      "{'val_loss': 1.508019432706653, 'val_accuracy': 0.6300236406619385, 'precision': 0.5362397118180147, 'recall': 0.6300236406619385, 'f1-score': 0.5430343860414835, 'macro_f1-score': 0.14345855832889218, 'balanced_accuracy': 0.1587287574832442, 'mcc': 0.48195748227606394, 'train_loss': 1.5487996955879597}\n",
      "Epoch 3/20\n"
     ]
    },
    {
     "name": "stderr",
     "output_type": "stream",
     "text": [
      "100%|██████████| 476/476 [03:50<00:00,  2.06it/s]\n"
     ]
    },
    {
     "name": "stdout",
     "output_type": "stream",
     "text": [
      "{'val_loss': 1.4403078882199414, 'val_accuracy': 0.6513002364066194, 'precision': 0.5881147807939836, 'recall': 0.6513002364066194, 'f1-score': 0.60100017853156, 'macro_f1-score': 0.21218505242149704, 'balanced_accuracy': 0.20832062334978038, 'mcc': 0.5201425401322008, 'train_loss': 1.299557510606882}\n",
      "Epoch 4/20\n"
     ]
    },
    {
     "name": "stderr",
     "output_type": "stream",
     "text": [
      "100%|██████████| 476/476 [03:51<00:00,  2.06it/s]\n"
     ]
    },
    {
     "name": "stdout",
     "output_type": "stream",
     "text": [
      "{'val_loss': 1.3944738102409076, 'val_accuracy': 0.6465721040189125, 'precision': 0.6072449681502803, 'recall': 0.6465721040189125, 'f1-score': 0.6110609656816668, 'macro_f1-score': 0.22607471143919555, 'balanced_accuracy': 0.23536752720095538, 'mcc': 0.5263437751478814, 'train_loss': 1.1156712620511275}\n",
      "Epoch 5/20\n"
     ]
    },
    {
     "name": "stderr",
     "output_type": "stream",
     "text": [
      "100%|██████████| 476/476 [03:51<00:00,  2.05it/s]\n"
     ]
    },
    {
     "name": "stdout",
     "output_type": "stream",
     "text": [
      "{'val_loss': 1.3963871778182264, 'val_accuracy': 0.6536643026004728, 'precision': 0.6243721395528001, 'recall': 0.6536643026004728, 'f1-score': 0.6231116178675371, 'macro_f1-score': 0.2755055157150187, 'balanced_accuracy': 0.2799174263866656, 'mcc': 0.5340061443594224, 'train_loss': 0.9377574616839656}\n",
      "Epoch 6/20\n"
     ]
    },
    {
     "name": "stderr",
     "output_type": "stream",
     "text": [
      "100%|██████████| 476/476 [03:50<00:00,  2.06it/s]\n"
     ]
    },
    {
     "name": "stdout",
     "output_type": "stream",
     "text": [
      "{'val_loss': 1.4942285823372174, 'val_accuracy': 0.6631205673758865, 'precision': 0.6276751205642018, 'recall': 0.6631205673758865, 'f1-score': 0.6217803359128735, 'macro_f1-score': 0.2548034626104303, 'balanced_accuracy': 0.266286466266433, 'mcc': 0.5473987988663893, 'train_loss': 0.8166236406145226}\n",
      "Epoch 7/20\n"
     ]
    },
    {
     "name": "stderr",
     "output_type": "stream",
     "text": [
      "100%|██████████| 476/476 [03:50<00:00,  2.06it/s]\n"
     ]
    },
    {
     "name": "stdout",
     "output_type": "stream",
     "text": [
      "{'val_loss': 1.5111782567681007, 'val_accuracy': 0.6725768321513003, 'precision': 0.6213821797664244, 'recall': 0.6725768321513003, 'f1-score': 0.625261575320248, 'macro_f1-score': 0.2765886486115113, 'balanced_accuracy': 0.26125277156075055, 'mcc': 0.5466805915643046, 'train_loss': 0.7127360408390019}\n",
      "Epoch 8/20\n"
     ]
    },
    {
     "name": "stderr",
     "output_type": "stream",
     "text": [
      "100%|██████████| 476/476 [03:50<00:00,  2.06it/s]\n"
     ]
    },
    {
     "name": "stdout",
     "output_type": "stream",
     "text": [
      "{'val_loss': 1.488915278101867, 'val_accuracy': 0.6501182033096927, 'precision': 0.6465849129888777, 'recall': 0.6501182033096927, 'f1-score': 0.6368004178257498, 'macro_f1-score': 0.3352507247438577, 'balanced_accuracy': 0.3381374802577402, 'mcc': 0.540844852531758, 'train_loss': 0.626207043252447}\n",
      "Epoch 9/20\n"
     ]
    },
    {
     "name": "stderr",
     "output_type": "stream",
     "text": [
      "100%|██████████| 476/476 [03:50<00:00,  2.06it/s]\n"
     ]
    },
    {
     "name": "stdout",
     "output_type": "stream",
     "text": [
      "{'val_loss': 1.412010542626651, 'val_accuracy': 0.6678486997635934, 'precision': 0.6715832091073934, 'recall': 0.6678486997635934, 'f1-score': 0.6582370128232008, 'macro_f1-score': 0.38925800130625615, 'balanced_accuracy': 0.3922804785782588, 'mcc': 0.566426599125612, 'train_loss': 0.5365466522365934}\n",
      "Epoch 10/20\n"
     ]
    },
    {
     "name": "stderr",
     "output_type": "stream",
     "text": [
      "100%|██████████| 476/476 [03:50<00:00,  2.06it/s]\n"
     ]
    },
    {
     "name": "stdout",
     "output_type": "stream",
     "text": [
      "{'val_loss': 1.4830015847143136, 'val_accuracy': 0.648936170212766, 'precision': 0.6424066546207753, 'recall': 0.648936170212766, 'f1-score': 0.6346852549027062, 'macro_f1-score': 0.33631192495189044, 'balanced_accuracy': 0.3411016717995136, 'mcc': 0.5375998490811036, 'train_loss': 0.48824283488470466}\n",
      "Epoch 11/20\n"
     ]
    },
    {
     "name": "stderr",
     "output_type": "stream",
     "text": [
      "100%|██████████| 476/476 [03:50<00:00,  2.06it/s]\n"
     ]
    },
    {
     "name": "stdout",
     "output_type": "stream",
     "text": [
      "{'val_loss': 1.5070131123065948, 'val_accuracy': 0.6631205673758865, 'precision': 0.6634928373879166, 'recall': 0.6631205673758865, 'f1-score': 0.6561857366937809, 'macro_f1-score': 0.3671784750548244, 'balanced_accuracy': 0.3660232155264672, 'mcc': 0.5569760588026802, 'train_loss': 0.47025840007113057}\n",
      "Epoch 12/20\n"
     ]
    },
    {
     "name": "stderr",
     "output_type": "stream",
     "text": [
      "100%|██████████| 476/476 [03:50<00:00,  2.06it/s]\n"
     ]
    },
    {
     "name": "stdout",
     "output_type": "stream",
     "text": [
      "{'val_loss': 1.497289518140397, 'val_accuracy': 0.6725768321513003, 'precision': 0.6642455444264502, 'recall': 0.6725768321513003, 'f1-score': 0.6563579523506214, 'macro_f1-score': 0.3591387691849058, 'balanced_accuracy': 0.3464705288986088, 'mcc': 0.5634306527038387, 'train_loss': 0.4198809837210266}\n",
      "Early stopping.\n",
      "\n",
      "[Fold 2]\n",
      "model is bert-base-uncased lstm\n",
      "Epoch 1/20\n"
     ]
    },
    {
     "name": "stderr",
     "output_type": "stream",
     "text": [
      "100%|██████████| 476/476 [03:51<00:00,  2.06it/s]\n"
     ]
    },
    {
     "name": "stdout",
     "output_type": "stream",
     "text": [
      "{'val_loss': 1.713110164651331, 'val_accuracy': 0.5862884160756501, 'precision': 0.40769480602896846, 'recall': 0.5862884160756501, 'f1-score': 0.470450587459507, 'macro_f1-score': 0.06359549584712924, 'balanced_accuracy': 0.07662657112232575, 'mcc': 0.3992652901743482, 'train_loss': 2.022847056514075}\n",
      "Epoch 2/20\n"
     ]
    },
    {
     "name": "stderr",
     "output_type": "stream",
     "text": [
      "100%|██████████| 476/476 [03:50<00:00,  2.06it/s]\n"
     ]
    },
    {
     "name": "stdout",
     "output_type": "stream",
     "text": [
      "{'val_loss': 1.488532748424782, 'val_accuracy': 0.6276595744680851, 'precision': 0.5163029486738472, 'recall': 0.6276595744680851, 'f1-score': 0.5531996122154405, 'macro_f1-score': 0.14991298290268415, 'balanced_accuracy': 0.1595361996751011, 'mcc': 0.4802279162895284, 'train_loss': 1.5446523530643528}\n",
      "Epoch 3/20\n"
     ]
    },
    {
     "name": "stderr",
     "output_type": "stream",
     "text": [
      "100%|██████████| 476/476 [03:50<00:00,  2.06it/s]\n"
     ]
    },
    {
     "name": "stdout",
     "output_type": "stream",
     "text": [
      "{'val_loss': 1.4035971951934527, 'val_accuracy': 0.640661938534279, 'precision': 0.5567771351920934, 'recall': 0.640661938534279, 'f1-score': 0.577885082719711, 'macro_f1-score': 0.1803857896057498, 'balanced_accuracy': 0.188169662863754, 'mcc': 0.5041686639614534, 'train_loss': 1.2933530719841229}\n",
      "Epoch 4/20\n"
     ]
    },
    {
     "name": "stderr",
     "output_type": "stream",
     "text": [
      "100%|██████████| 476/476 [03:50<00:00,  2.06it/s]\n"
     ]
    },
    {
     "name": "stdout",
     "output_type": "stream",
     "text": [
      "{'val_loss': 1.455151913863308, 'val_accuracy': 0.6382978723404256, 'precision': 0.5962175265846089, 'recall': 0.6382978723404256, 'f1-score': 0.594880057944723, 'macro_f1-score': 0.21226618525346197, 'balanced_accuracy': 0.21783110744162554, 'mcc': 0.5115848254424475, 'train_loss': 1.100561203200276}\n",
      "Epoch 5/20\n"
     ]
    },
    {
     "name": "stderr",
     "output_type": "stream",
     "text": [
      "100%|██████████| 476/476 [03:50<00:00,  2.06it/s]\n"
     ]
    },
    {
     "name": "stdout",
     "output_type": "stream",
     "text": [
      "{'val_loss': 1.4428674556174368, 'val_accuracy': 0.6560283687943262, 'precision': 0.6011120835557306, 'recall': 0.6560283687943262, 'f1-score': 0.603343615745755, 'macro_f1-score': 0.26058099324067396, 'balanced_accuracy': 0.26097746897589214, 'mcc': 0.5271386228710673, 'train_loss': 0.9582984858826429}\n",
      "Epoch 6/20\n"
     ]
    },
    {
     "name": "stderr",
     "output_type": "stream",
     "text": [
      "100%|██████████| 476/476 [03:50<00:00,  2.06it/s]\n"
     ]
    },
    {
     "name": "stdout",
     "output_type": "stream",
     "text": [
      "{'val_loss': 1.3789506908857598, 'val_accuracy': 0.6536643026004728, 'precision': 0.6267820026266001, 'recall': 0.6536643026004728, 'f1-score': 0.6235342631204821, 'macro_f1-score': 0.25211457451592245, 'balanced_accuracy': 0.2732972314810471, 'mcc': 0.5391983393326211, 'train_loss': 0.8100427066429886}\n",
      "Epoch 7/20\n"
     ]
    },
    {
     "name": "stderr",
     "output_type": "stream",
     "text": [
      "100%|██████████| 476/476 [03:51<00:00,  2.06it/s]\n"
     ]
    },
    {
     "name": "stdout",
     "output_type": "stream",
     "text": [
      "{'val_loss': 1.4193315539719924, 'val_accuracy': 0.6536643026004728, 'precision': 0.6371499491150716, 'recall': 0.6536643026004728, 'f1-score': 0.6247659938893535, 'macro_f1-score': 0.2761606092638349, 'balanced_accuracy': 0.28569756468141494, 'mcc': 0.539321814344356, 'train_loss': 0.7296959399519598}\n",
      "Epoch 8/20\n"
     ]
    },
    {
     "name": "stderr",
     "output_type": "stream",
     "text": [
      "100%|██████████| 476/476 [03:50<00:00,  2.06it/s]\n"
     ]
    },
    {
     "name": "stdout",
     "output_type": "stream",
     "text": [
      "{'val_loss': 1.4236822505042237, 'val_accuracy': 0.66548463356974, 'precision': 0.6523969400015596, 'recall': 0.66548463356974, 'f1-score': 0.644777810114313, 'macro_f1-score': 0.3114219784534356, 'balanced_accuracy': 0.3166515733828158, 'mcc': 0.5548693694364966, 'train_loss': 0.6273156127837651}\n",
      "Epoch 9/20\n"
     ]
    },
    {
     "name": "stderr",
     "output_type": "stream",
     "text": [
      "100%|██████████| 476/476 [03:50<00:00,  2.06it/s]\n"
     ]
    },
    {
     "name": "stdout",
     "output_type": "stream",
     "text": [
      "{'val_loss': 1.3941375444520194, 'val_accuracy': 0.6690307328605201, 'precision': 0.665180865697136, 'recall': 0.6690307328605201, 'f1-score': 0.6538489843669881, 'macro_f1-score': 0.31771594853727814, 'balanced_accuracy': 0.3306730618733391, 'mcc': 0.5692147203540356, 'train_loss': 0.5462275838338527}\n",
      "Epoch 10/20\n"
     ]
    },
    {
     "name": "stderr",
     "output_type": "stream",
     "text": [
      "100%|██████████| 476/476 [03:50<00:00,  2.07it/s]\n"
     ]
    },
    {
     "name": "stdout",
     "output_type": "stream",
     "text": [
      "{'val_loss': 1.4506760346439649, 'val_accuracy': 0.6643026004728132, 'precision': 0.6520876288296947, 'recall': 0.6643026004728132, 'f1-score': 0.6428229166632897, 'macro_f1-score': 0.32155592682807993, 'balanced_accuracy': 0.32759592790389874, 'mcc': 0.5513313963424322, 'train_loss': 0.5193071951933143}\n",
      "Epoch 11/20\n"
     ]
    },
    {
     "name": "stderr",
     "output_type": "stream",
     "text": [
      "100%|██████████| 476/476 [03:50<00:00,  2.06it/s]\n"
     ]
    },
    {
     "name": "stdout",
     "output_type": "stream",
     "text": [
      "{'val_loss': 1.5704448807914302, 'val_accuracy': 0.6725768321513003, 'precision': 0.6256443162253947, 'recall': 0.6725768321513003, 'f1-score': 0.6362027989595949, 'macro_f1-score': 0.28708979690159364, 'balanced_accuracy': 0.28678254356975547, 'mcc': 0.5536988742680737, 'train_loss': 0.46151611550922406}\n",
      "Epoch 12/20\n"
     ]
    },
    {
     "name": "stderr",
     "output_type": "stream",
     "text": [
      "100%|██████████| 476/476 [03:50<00:00,  2.06it/s]\n"
     ]
    },
    {
     "name": "stdout",
     "output_type": "stream",
     "text": [
      "{'val_loss': 1.5392081591318238, 'val_accuracy': 0.6430260047281324, 'precision': 0.6402959567379352, 'recall': 0.6430260047281324, 'f1-score': 0.6334492219521647, 'macro_f1-score': 0.3000009569207406, 'balanced_accuracy': 0.3188255662241453, 'mcc': 0.5372900659526003, 'train_loss': 0.4473181605875148}\n",
      "Epoch 13/20\n"
     ]
    },
    {
     "name": "stderr",
     "output_type": "stream",
     "text": [
      "100%|██████████| 476/476 [03:50<00:00,  2.06it/s]\n"
     ]
    },
    {
     "name": "stdout",
     "output_type": "stream",
     "text": [
      "{'val_loss': 1.4851335118401725, 'val_accuracy': 0.66548463356974, 'precision': 0.6459681711355849, 'recall': 0.66548463356974, 'f1-score': 0.6490364172328454, 'macro_f1-score': 0.33442792452679365, 'balanced_accuracy': 0.34973375110036, 'mcc': 0.5584119058894892, 'train_loss': 0.3980377655664161}\n",
      "Epoch 14/20\n"
     ]
    },
    {
     "name": "stderr",
     "output_type": "stream",
     "text": [
      "100%|██████████| 476/476 [03:51<00:00,  2.06it/s]\n"
     ]
    },
    {
     "name": "stdout",
     "output_type": "stream",
     "text": [
      "{'val_loss': 1.5868955142093155, 'val_accuracy': 0.6666666666666666, 'precision': 0.6716812725841771, 'recall': 0.6666666666666666, 'f1-score': 0.6533308253223759, 'macro_f1-score': 0.34699460338584387, 'balanced_accuracy': 0.35023378476584166, 'mcc': 0.5545214739534631, 'train_loss': 0.3876601509014223}\n",
      "Epoch 15/20\n"
     ]
    },
    {
     "name": "stderr",
     "output_type": "stream",
     "text": [
      "100%|██████████| 476/476 [03:50<00:00,  2.06it/s]\n"
     ]
    },
    {
     "name": "stdout",
     "output_type": "stream",
     "text": [
      "{'val_loss': 1.5574180652510445, 'val_accuracy': 0.6666666666666666, 'precision': 0.6592803508738136, 'recall': 0.6666666666666666, 'f1-score': 0.6537569965468528, 'macro_f1-score': 0.35823722185204504, 'balanced_accuracy': 0.38548250252414173, 'mcc': 0.5640890066611635, 'train_loss': 0.3432140652121616}\n",
      "Epoch 16/20\n"
     ]
    },
    {
     "name": "stderr",
     "output_type": "stream",
     "text": [
      "100%|██████████| 476/476 [03:50<00:00,  2.06it/s]\n"
     ]
    },
    {
     "name": "stdout",
     "output_type": "stream",
     "text": [
      "{'val_loss': 1.5230550931872062, 'val_accuracy': 0.6666666666666666, 'precision': 0.6643290483357137, 'recall': 0.6666666666666666, 'f1-score': 0.6572727753780794, 'macro_f1-score': 0.3193419045057555, 'balanced_accuracy': 0.3351918776981504, 'mcc': 0.5633087451690268, 'train_loss': 0.3175877649160963}\n",
      "Epoch 17/20\n"
     ]
    },
    {
     "name": "stderr",
     "output_type": "stream",
     "text": [
      "100%|██████████| 476/476 [03:50<00:00,  2.06it/s]\n"
     ]
    },
    {
     "name": "stdout",
     "output_type": "stream",
     "text": [
      "{'val_loss': 1.6112232871775358, 'val_accuracy': 0.6737588652482269, 'precision': 0.6620235287480069, 'recall': 0.6737588652482269, 'f1-score': 0.6556836486763424, 'macro_f1-score': 0.33916606755889844, 'balanced_accuracy': 0.34378336759218747, 'mcc': 0.5651564691932879, 'train_loss': 0.31603442433391926}\n",
      "Epoch 18/20\n"
     ]
    },
    {
     "name": "stderr",
     "output_type": "stream",
     "text": [
      "100%|██████████| 476/476 [03:46<00:00,  2.10it/s]\n"
     ]
    },
    {
     "name": "stdout",
     "output_type": "stream",
     "text": [
      "{'val_loss': 1.6844643874550767, 'val_accuracy': 0.6560283687943262, 'precision': 0.6363464563659473, 'recall': 0.6560283687943262, 'f1-score': 0.638765163427624, 'macro_f1-score': 0.3437083562943715, 'balanced_accuracy': 0.34947208790939505, 'mcc': 0.5440883848512108, 'train_loss': 0.32866242003407986}\n",
      "Early stopping.\n",
      "\n",
      "[Fold 3]\n",
      "model is bert-base-uncased lstm\n",
      "Epoch 1/20\n"
     ]
    },
    {
     "name": "stderr",
     "output_type": "stream",
     "text": [
      "100%|██████████| 476/476 [03:48<00:00,  2.09it/s]\n"
     ]
    },
    {
     "name": "stdout",
     "output_type": "stream",
     "text": [
      "{'val_loss': 1.7091608193685424, 'val_accuracy': 0.6063829787234043, 'precision': 0.42441267903245333, 'recall': 0.6063829787234043, 'f1-score': 0.48570624510158567, 'macro_f1-score': 0.09345531852803174, 'balanced_accuracy': 0.10241427741860942, 'mcc': 0.4282422858076348, 'train_loss': 2.0051972798439635}\n",
      "Epoch 2/20\n"
     ]
    },
    {
     "name": "stderr",
     "output_type": "stream",
     "text": [
      "100%|██████████| 476/476 [03:47<00:00,  2.09it/s]\n"
     ]
    },
    {
     "name": "stdout",
     "output_type": "stream",
     "text": [
      "{'val_loss': 1.5116776486612715, 'val_accuracy': 0.6264775413711584, 'precision': 0.4938937792045947, 'recall': 0.6264775413711584, 'f1-score': 0.5398189324787395, 'macro_f1-score': 0.14244064821038996, 'balanced_accuracy': 0.15151432556353714, 'mcc': 0.472681273516213, 'train_loss': 1.5125739153067606}\n",
      "Epoch 3/20\n"
     ]
    },
    {
     "name": "stderr",
     "output_type": "stream",
     "text": [
      "100%|██████████| 476/476 [03:46<00:00,  2.10it/s]\n"
     ]
    },
    {
     "name": "stdout",
     "output_type": "stream",
     "text": [
      "{'val_loss': 1.4305393752062097, 'val_accuracy': 0.648936170212766, 'precision': 0.5823010744483386, 'recall': 0.648936170212766, 'f1-score': 0.5995596653601509, 'macro_f1-score': 0.2051093291323619, 'balanced_accuracy': 0.21227852350195098, 'mcc': 0.5221051220424469, 'train_loss': 1.2780848142354428}\n",
      "Epoch 4/20\n"
     ]
    },
    {
     "name": "stderr",
     "output_type": "stream",
     "text": [
      "100%|██████████| 476/476 [03:45<00:00,  2.11it/s]\n"
     ]
    },
    {
     "name": "stdout",
     "output_type": "stream",
     "text": [
      "{'val_loss': 1.4177955304676633, 'val_accuracy': 0.6560283687943262, 'precision': 0.5952341621230524, 'recall': 0.6560283687943262, 'f1-score': 0.612551088054304, 'macro_f1-score': 0.24593949151778818, 'balanced_accuracy': 0.2544624749247172, 'mcc': 0.5326106053305565, 'train_loss': 1.0847815495579183}\n",
      "Epoch 5/20\n"
     ]
    },
    {
     "name": "stderr",
     "output_type": "stream",
     "text": [
      "100%|██████████| 476/476 [03:46<00:00,  2.10it/s]\n"
     ]
    },
    {
     "name": "stdout",
     "output_type": "stream",
     "text": [
      "{'val_loss': 1.366833579427791, 'val_accuracy': 0.6631205673758865, 'precision': 0.6409867547518678, 'recall': 0.6631205673758865, 'f1-score': 0.6398927914231572, 'macro_f1-score': 0.2736255021757962, 'balanced_accuracy': 0.28461014967242654, 'mcc': 0.5544492985370518, 'train_loss': 0.9171008483013686}\n",
      "Epoch 6/20\n"
     ]
    },
    {
     "name": "stderr",
     "output_type": "stream",
     "text": [
      "100%|██████████| 476/476 [03:46<00:00,  2.10it/s]\n"
     ]
    },
    {
     "name": "stdout",
     "output_type": "stream",
     "text": [
      "{'val_loss': 1.447181632215122, 'val_accuracy': 0.6784869976359338, 'precision': 0.6449943545194828, 'recall': 0.6784869976359338, 'f1-score': 0.6452139912094537, 'macro_f1-score': 0.293514816965074, 'balanced_accuracy': 0.2944306154212756, 'mcc': 0.5624042918737334, 'train_loss': 0.8017220933679021}\n",
      "Epoch 7/20\n"
     ]
    },
    {
     "name": "stderr",
     "output_type": "stream",
     "text": [
      "100%|██████████| 476/476 [03:45<00:00,  2.11it/s]\n"
     ]
    },
    {
     "name": "stdout",
     "output_type": "stream",
     "text": [
      "{'val_loss': 1.4305286975401752, 'val_accuracy': 0.6879432624113475, 'precision': 0.652679695736898, 'recall': 0.6879432624113475, 'f1-score': 0.6607549246241109, 'macro_f1-score': 0.36603447465904604, 'balanced_accuracy': 0.3583284842691532, 'mcc': 0.5787643805139296, 'train_loss': 0.696891689438279}\n",
      "Epoch 8/20\n"
     ]
    },
    {
     "name": "stderr",
     "output_type": "stream",
     "text": [
      "100%|██████████| 476/476 [03:45<00:00,  2.11it/s]\n"
     ]
    },
    {
     "name": "stdout",
     "output_type": "stream",
     "text": [
      "{'val_loss': 1.474411812031044, 'val_accuracy': 0.6643026004728132, 'precision': 0.64231482131351, 'recall': 0.6643026004728132, 'f1-score': 0.6389854370501242, 'macro_f1-score': 0.3059941484694496, 'balanced_accuracy': 0.30440504761993237, 'mcc': 0.5533000602842475, 'train_loss': 0.5984528314384843}\n",
      "Epoch 9/20\n"
     ]
    },
    {
     "name": "stderr",
     "output_type": "stream",
     "text": [
      "100%|██████████| 476/476 [03:47<00:00,  2.09it/s]\n"
     ]
    },
    {
     "name": "stdout",
     "output_type": "stream",
     "text": [
      "{'val_loss': 1.4490100162209205, 'val_accuracy': 0.6595744680851063, 'precision': 0.6598552032160626, 'recall': 0.6595744680851063, 'f1-score': 0.6455037403048838, 'macro_f1-score': 0.336127010593398, 'balanced_accuracy': 0.3383720258274236, 'mcc': 0.5508014308869673, 'train_loss': 0.5820735003016576}\n",
      "Epoch 10/20\n"
     ]
    },
    {
     "name": "stderr",
     "output_type": "stream",
     "text": [
      "100%|██████████| 476/476 [03:47<00:00,  2.09it/s]\n"
     ]
    },
    {
     "name": "stdout",
     "output_type": "stream",
     "text": [
      "{'val_loss': 1.4710574538077947, 'val_accuracy': 0.6808510638297872, 'precision': 0.6613373065747262, 'recall': 0.6808510638297872, 'f1-score': 0.658676950006024, 'macro_f1-score': 0.3443316804863838, 'balanced_accuracy': 0.34659429564447763, 'mcc': 0.5733289214671828, 'train_loss': 0.5125580226313793}\n",
      "Early stopping.\n",
      "\n",
      "[Fold 4]\n",
      "model is bert-base-uncased lstm\n",
      "Epoch 1/20\n"
     ]
    },
    {
     "name": "stderr",
     "output_type": "stream",
     "text": [
      "100%|██████████| 476/476 [03:47<00:00,  2.09it/s]\n"
     ]
    },
    {
     "name": "stdout",
     "output_type": "stream",
     "text": [
      "{'val_loss': 1.7040855378474828, 'val_accuracy': 0.5921985815602837, 'precision': 0.42591746392060664, 'recall': 0.5921985815602837, 'f1-score': 0.4794489845595649, 'macro_f1-score': 0.07449359081788888, 'balanced_accuracy': 0.09475944486211338, 'mcc': 0.4148766317905289, 'train_loss': 2.0338369293623613}\n",
      "Epoch 2/20\n"
     ]
    },
    {
     "name": "stderr",
     "output_type": "stream",
     "text": [
      "100%|██████████| 476/476 [03:46<00:00,  2.10it/s]\n"
     ]
    },
    {
     "name": "stdout",
     "output_type": "stream",
     "text": [
      "{'val_loss': 1.5316476079652894, 'val_accuracy': 0.6182033096926713, 'precision': 0.512816733352726, 'recall': 0.6182033096926713, 'f1-score': 0.5464139697691432, 'macro_f1-score': 0.14664259841680002, 'balanced_accuracy': 0.15827907529040783, 'mcc': 0.46903854224942254, 'train_loss': 1.5638884247726752}\n",
      "Epoch 3/20\n"
     ]
    },
    {
     "name": "stderr",
     "output_type": "stream",
     "text": [
      "100%|██████████| 476/476 [03:47<00:00,  2.09it/s]\n"
     ]
    },
    {
     "name": "stdout",
     "output_type": "stream",
     "text": [
      "{'val_loss': 1.4604564129181627, 'val_accuracy': 0.6394799054373522, 'precision': 0.5788847658473494, 'recall': 0.6394799054373522, 'f1-score': 0.5869103627598162, 'macro_f1-score': 0.2167509721097178, 'balanced_accuracy': 0.22507079732874222, 'mcc': 0.51304156221954, 'train_loss': 1.3343420493878235}\n",
      "Epoch 4/20\n"
     ]
    },
    {
     "name": "stderr",
     "output_type": "stream",
     "text": [
      "100%|██████████| 476/476 [03:48<00:00,  2.09it/s]\n"
     ]
    },
    {
     "name": "stdout",
     "output_type": "stream",
     "text": [
      "{'val_loss': 1.4052061461052805, 'val_accuracy': 0.6442080378250591, 'precision': 0.5939205662014989, 'recall': 0.6442080378250591, 'f1-score': 0.5982908088797351, 'macro_f1-score': 0.22949050899294346, 'balanced_accuracy': 0.2361636152388015, 'mcc': 0.5178791657972694, 'train_loss': 1.1425490611303253}\n",
      "Epoch 5/20\n"
     ]
    },
    {
     "name": "stderr",
     "output_type": "stream",
     "text": [
      "100%|██████████| 476/476 [03:49<00:00,  2.08it/s]\n"
     ]
    },
    {
     "name": "stdout",
     "output_type": "stream",
     "text": [
      "{'val_loss': 1.4292484184481062, 'val_accuracy': 0.6442080378250591, 'precision': 0.5895544953356131, 'recall': 0.6442080378250591, 'f1-score': 0.6046869586163116, 'macro_f1-score': 0.2593454471631611, 'balanced_accuracy': 0.2734812219202273, 'mcc': 0.5243469935644334, 'train_loss': 0.9769431331641033}\n",
      "Epoch 6/20\n"
     ]
    },
    {
     "name": "stderr",
     "output_type": "stream",
     "text": [
      "100%|██████████| 476/476 [03:47<00:00,  2.09it/s]\n"
     ]
    },
    {
     "name": "stdout",
     "output_type": "stream",
     "text": [
      "{'val_loss': 1.484454116169012, 'val_accuracy': 0.6583924349881797, 'precision': 0.6170267201963076, 'recall': 0.6583924349881797, 'f1-score': 0.6116422789127095, 'macro_f1-score': 0.2747606670036434, 'balanced_accuracy': 0.26084899089050884, 'mcc': 0.5317085427513465, 'train_loss': 0.8838305092659318}\n",
      "Epoch 7/20\n"
     ]
    },
    {
     "name": "stderr",
     "output_type": "stream",
     "text": [
      "100%|██████████| 476/476 [03:49<00:00,  2.07it/s]\n"
     ]
    },
    {
     "name": "stdout",
     "output_type": "stream",
     "text": [
      "{'val_loss': 1.4913501717009634, 'val_accuracy': 0.6359338061465721, 'precision': 0.6210958318311697, 'recall': 0.6359338061465721, 'f1-score': 0.609429063245257, 'macro_f1-score': 0.27871389801433716, 'balanced_accuracy': 0.29583134635056313, 'mcc': 0.5192783563429662, 'train_loss': 0.7748563563404214}\n",
      "Epoch 8/20\n"
     ]
    },
    {
     "name": "stderr",
     "output_type": "stream",
     "text": [
      "100%|██████████| 476/476 [03:47<00:00,  2.09it/s]\n"
     ]
    },
    {
     "name": "stdout",
     "output_type": "stream",
     "text": [
      "{'val_loss': 1.417043832113158, 'val_accuracy': 0.6619385342789598, 'precision': 0.651007416844299, 'recall': 0.6619385342789598, 'f1-score': 0.6409384714850322, 'macro_f1-score': 0.3380290877108601, 'balanced_accuracy': 0.3563054865117939, 'mcc': 0.5596683741762501, 'train_loss': 0.7407394136544787}\n",
      "Epoch 9/20\n"
     ]
    },
    {
     "name": "stderr",
     "output_type": "stream",
     "text": [
      "100%|██████████| 476/476 [03:48<00:00,  2.08it/s]\n"
     ]
    },
    {
     "name": "stdout",
     "output_type": "stream",
     "text": [
      "{'val_loss': 1.5089823974753327, 'val_accuracy': 0.6572104018912529, 'precision': 0.6359322386611899, 'recall': 0.6572104018912529, 'f1-score': 0.6328280198722178, 'macro_f1-score': 0.3354976994886492, 'balanced_accuracy': 0.3403625842360723, 'mcc': 0.5425545817973474, 'train_loss': 0.6188152243829325}\n",
      "Epoch 10/20\n"
     ]
    },
    {
     "name": "stderr",
     "output_type": "stream",
     "text": [
      "100%|██████████| 476/476 [03:46<00:00,  2.10it/s]\n"
     ]
    },
    {
     "name": "stdout",
     "output_type": "stream",
     "text": [
      "{'val_loss': 1.5833144952666085, 'val_accuracy': 0.6300236406619385, 'precision': 0.6742477200862794, 'recall': 0.6300236406619385, 'f1-score': 0.6385593695495589, 'macro_f1-score': 0.34680528058804855, 'balanced_accuracy': 0.3945696690321365, 'mcc': 0.5354762901434607, 'train_loss': 0.5239618551807806}\n",
      "Epoch 11/20\n"
     ]
    },
    {
     "name": "stderr",
     "output_type": "stream",
     "text": [
      "100%|██████████| 476/476 [03:46<00:00,  2.10it/s]\n"
     ]
    },
    {
     "name": "stdout",
     "output_type": "stream",
     "text": [
      "{'val_loss': 1.5474165936685957, 'val_accuracy': 0.6749408983451537, 'precision': 0.6642201624429528, 'recall': 0.6749408983451537, 'f1-score': 0.6528314355702759, 'macro_f1-score': 0.3614846386497734, 'balanced_accuracy': 0.36438485820577304, 'mcc': 0.5661057373357804, 'train_loss': 0.5031220331991545}\n",
      "Epoch 12/20\n"
     ]
    },
    {
     "name": "stderr",
     "output_type": "stream",
     "text": [
      "100%|██████████| 476/476 [03:47<00:00,  2.10it/s]\n"
     ]
    },
    {
     "name": "stdout",
     "output_type": "stream",
     "text": [
      "{'val_loss': 1.5571874340750136, 'val_accuracy': 0.6796690307328606, 'precision': 0.6748218820814129, 'recall': 0.6796690307328606, 'f1-score': 0.6635084636210548, 'macro_f1-score': 0.3791908336206838, 'balanced_accuracy': 0.36670437598559247, 'mcc': 0.5719866543133867, 'train_loss': 0.4729102958236359}\n",
      "Epoch 13/20\n"
     ]
    },
    {
     "name": "stderr",
     "output_type": "stream",
     "text": [
      "100%|██████████| 476/476 [03:46<00:00,  2.10it/s]\n"
     ]
    },
    {
     "name": "stdout",
     "output_type": "stream",
     "text": [
      "{'val_loss': 1.5606753376294982, 'val_accuracy': 0.6773049645390071, 'precision': 0.6710374013783816, 'recall': 0.6773049645390071, 'f1-score': 0.6616706357104731, 'macro_f1-score': 0.36221572365313537, 'balanced_accuracy': 0.36251507601353383, 'mcc': 0.5701932225301278, 'train_loss': 0.441662124405075}\n",
      "Epoch 14/20\n"
     ]
    },
    {
     "name": "stderr",
     "output_type": "stream",
     "text": [
      "100%|██████████| 476/476 [03:45<00:00,  2.11it/s]\n"
     ]
    },
    {
     "name": "stdout",
     "output_type": "stream",
     "text": [
      "{'val_loss': 1.5845385070117015, 'val_accuracy': 0.6560283687943262, 'precision': 0.6448516939128515, 'recall': 0.6560283687943262, 'f1-score': 0.6373004016673253, 'macro_f1-score': 0.31594299586459984, 'balanced_accuracy': 0.3227820912909459, 'mcc': 0.5461346330779102, 'train_loss': 0.38939895816616904}\n",
      "Epoch 15/20\n"
     ]
    },
    {
     "name": "stderr",
     "output_type": "stream",
     "text": [
      "100%|██████████| 476/476 [03:47<00:00,  2.09it/s]\n"
     ]
    },
    {
     "name": "stdout",
     "output_type": "stream",
     "text": [
      "{'val_loss': 1.5260492990601737, 'val_accuracy': 0.66548463356974, 'precision': 0.6785282010600037, 'recall': 0.66548463356974, 'f1-score': 0.6606248842228367, 'macro_f1-score': 0.4053788577666985, 'balanced_accuracy': 0.40155868850724163, 'mcc': 0.5628931508164303, 'train_loss': 0.36785705368418026}\n",
      "Epoch 16/20\n"
     ]
    },
    {
     "name": "stderr",
     "output_type": "stream",
     "text": [
      "100%|██████████| 476/476 [03:46<00:00,  2.10it/s]\n"
     ]
    },
    {
     "name": "stdout",
     "output_type": "stream",
     "text": [
      "{'val_loss': 1.6512349439117144, 'val_accuracy': 0.6690307328605201, 'precision': 0.6477214586420857, 'recall': 0.6690307328605201, 'f1-score': 0.6443565573343075, 'macro_f1-score': 0.3395084864602428, 'balanced_accuracy': 0.34514739154066826, 'mcc': 0.5506905565120543, 'train_loss': 0.3493282427706075}\n",
      "Epoch 17/20\n"
     ]
    },
    {
     "name": "stderr",
     "output_type": "stream",
     "text": [
      "100%|██████████| 476/476 [03:46<00:00,  2.10it/s]\n"
     ]
    },
    {
     "name": "stdout",
     "output_type": "stream",
     "text": [
      "{'val_loss': 1.6673347899373971, 'val_accuracy': 0.6702127659574468, 'precision': 0.6642740297836679, 'recall': 0.6702127659574468, 'f1-score': 0.6469393454673381, 'macro_f1-score': 0.3460690078685424, 'balanced_accuracy': 0.3473049601508448, 'mcc': 0.5591985964438871, 'train_loss': 0.33126636403182347}\n",
      "Epoch 18/20\n"
     ]
    },
    {
     "name": "stderr",
     "output_type": "stream",
     "text": [
      "100%|██████████| 476/476 [03:46<00:00,  2.10it/s]\n"
     ]
    },
    {
     "name": "stdout",
     "output_type": "stream",
     "text": [
      "{'val_loss': 1.658314882584338, 'val_accuracy': 0.6572104018912529, 'precision': 0.6486944055063137, 'recall': 0.6572104018912529, 'f1-score': 0.6407031737028607, 'macro_f1-score': 0.36521191030842587, 'balanced_accuracy': 0.3721768819909176, 'mcc': 0.5435469255898548, 'train_loss': 0.33178984132172745}\n",
      "Early stopping.\n",
      "\n",
      "[Fold 5]\n",
      "model is bert-base-uncased lstm\n",
      "Epoch 1/20\n"
     ]
    },
    {
     "name": "stderr",
     "output_type": "stream",
     "text": [
      "100%|██████████| 476/476 [03:47<00:00,  2.09it/s]\n"
     ]
    },
    {
     "name": "stdout",
     "output_type": "stream",
     "text": [
      "{'val_loss': 1.6976088825261817, 'val_accuracy': 0.6023668639053255, 'precision': 0.43091217427970374, 'recall': 0.6023668639053255, 'f1-score': 0.49292980485883564, 'macro_f1-score': 0.09055646535522696, 'balanced_accuracy': 0.10891580480089122, 'mcc': 0.43143165433877007, 'train_loss': 2.024359271806829}\n",
      "Epoch 2/20\n"
     ]
    },
    {
     "name": "stderr",
     "output_type": "stream",
     "text": [
      "100%|██████████| 476/476 [03:47<00:00,  2.09it/s]\n"
     ]
    },
    {
     "name": "stdout",
     "output_type": "stream",
     "text": [
      "{'val_loss': 1.5133681263563767, 'val_accuracy': 0.6023668639053255, 'precision': 0.4498624475258249, 'recall': 0.6023668639053255, 'f1-score': 0.5085823441604139, 'macro_f1-score': 0.10188200876984958, 'balanced_accuracy': 0.12714932626654157, 'mcc': 0.44278706280847885, 'train_loss': 1.5321422002646101}\n",
      "Epoch 3/20\n"
     ]
    },
    {
     "name": "stderr",
     "output_type": "stream",
     "text": [
      "100%|██████████| 476/476 [03:46<00:00,  2.10it/s]\n"
     ]
    },
    {
     "name": "stdout",
     "output_type": "stream",
     "text": [
      "{'val_loss': 1.4186842745205142, 'val_accuracy': 0.6331360946745562, 'precision': 0.5307615299825041, 'recall': 0.6331360946745562, 'f1-score': 0.5557785375144325, 'macro_f1-score': 0.17561504423201527, 'balanced_accuracy': 0.17431105967607496, 'mcc': 0.4832010811326704, 'train_loss': 1.291844387014373}\n",
      "Epoch 4/20\n"
     ]
    },
    {
     "name": "stderr",
     "output_type": "stream",
     "text": [
      "100%|██████████| 476/476 [03:46<00:00,  2.10it/s]\n"
     ]
    },
    {
     "name": "stdout",
     "output_type": "stream",
     "text": [
      "{'val_loss': 1.3798793093213495, 'val_accuracy': 0.6520710059171597, 'precision': 0.5821467125208196, 'recall': 0.6520710059171597, 'f1-score': 0.6015844777266356, 'macro_f1-score': 0.23741074377835253, 'balanced_accuracy': 0.2230000877265571, 'mcc': 0.5188853854640509, 'train_loss': 1.090736161980058}\n",
      "Epoch 5/20\n"
     ]
    },
    {
     "name": "stderr",
     "output_type": "stream",
     "text": [
      "100%|██████████| 476/476 [03:45<00:00,  2.11it/s]\n"
     ]
    },
    {
     "name": "stdout",
     "output_type": "stream",
     "text": [
      "{'val_loss': 1.3582891698153514, 'val_accuracy': 0.6662721893491125, 'precision': 0.647550500071013, 'recall': 0.6662721893491125, 'f1-score': 0.6219194273258195, 'macro_f1-score': 0.275422857517712, 'balanced_accuracy': 0.28964217112962415, 'mcc': 0.5470930351419343, 'train_loss': 0.944368431955075}\n",
      "Epoch 6/20\n"
     ]
    },
    {
     "name": "stderr",
     "output_type": "stream",
     "text": [
      "100%|██████████| 476/476 [03:46<00:00,  2.10it/s]\n"
     ]
    },
    {
     "name": "stdout",
     "output_type": "stream",
     "text": [
      "{'val_loss': 1.3836911911109708, 'val_accuracy': 0.6710059171597633, 'precision': 0.6260246816355921, 'recall': 0.6710059171597633, 'f1-score': 0.6306887164331166, 'macro_f1-score': 0.285952856524997, 'balanced_accuracy': 0.27659905439558186, 'mcc': 0.5508659361145014, 'train_loss': 0.7942678768719945}\n",
      "Epoch 7/20\n"
     ]
    },
    {
     "name": "stderr",
     "output_type": "stream",
     "text": [
      "100%|██████████| 476/476 [03:46<00:00,  2.10it/s]\n"
     ]
    },
    {
     "name": "stdout",
     "output_type": "stream",
     "text": [
      "{'val_loss': 1.4377343019224562, 'val_accuracy': 0.6662721893491125, 'precision': 0.6153452646150064, 'recall': 0.6662721893491125, 'f1-score': 0.6253135787723277, 'macro_f1-score': 0.29590333957702997, 'balanced_accuracy': 0.28498304918861217, 'mcc': 0.5406918380370809, 'train_loss': 0.683471184051713}\n",
      "Epoch 8/20\n"
     ]
    },
    {
     "name": "stderr",
     "output_type": "stream",
     "text": [
      "100%|██████████| 476/476 [03:49<00:00,  2.08it/s]\n"
     ]
    },
    {
     "name": "stdout",
     "output_type": "stream",
     "text": [
      "{'val_loss': 1.408410796017017, 'val_accuracy': 0.6792899408284023, 'precision': 0.660301583794765, 'recall': 0.6792899408284023, 'f1-score': 0.650868286467153, 'macro_f1-score': 0.362448145237212, 'balanced_accuracy': 0.34403995239604507, 'mcc': 0.5657122108070033, 'train_loss': 0.6222086983865925}\n",
      "Epoch 9/20\n"
     ]
    },
    {
     "name": "stderr",
     "output_type": "stream",
     "text": [
      "100%|██████████| 476/476 [03:42<00:00,  2.13it/s]\n"
     ]
    },
    {
     "name": "stdout",
     "output_type": "stream",
     "text": [
      "{'val_loss': 1.3875703086268227, 'val_accuracy': 0.676923076923077, 'precision': 0.6560431821853542, 'recall': 0.676923076923077, 'f1-score': 0.6533050429568462, 'macro_f1-score': 0.32872579835750443, 'balanced_accuracy': 0.329760792190682, 'mcc': 0.5710637964917085, 'train_loss': 0.5501976123064005}\n",
      "Epoch 10/20\n"
     ]
    },
    {
     "name": "stderr",
     "output_type": "stream",
     "text": [
      "100%|██████████| 476/476 [03:47<00:00,  2.09it/s]\n"
     ]
    },
    {
     "name": "stdout",
     "output_type": "stream",
     "text": [
      "{'val_loss': 1.4332465878072775, 'val_accuracy': 0.685207100591716, 'precision': 0.6619751771972084, 'recall': 0.685207100591716, 'f1-score': 0.6555381620232188, 'macro_f1-score': 0.34874087974252915, 'balanced_accuracy': 0.3469582542391385, 'mcc': 0.57603948781075, 'train_loss': 0.5273524206757796}\n",
      "Epoch 11/20\n"
     ]
    },
    {
     "name": "stderr",
     "output_type": "stream",
     "text": [
      "100%|██████████| 476/476 [03:46<00:00,  2.10it/s]\n"
     ]
    },
    {
     "name": "stdout",
     "output_type": "stream",
     "text": [
      "{'val_loss': 1.4956635411055583, 'val_accuracy': 0.6816568047337278, 'precision': 0.6674106505546795, 'recall': 0.6816568047337278, 'f1-score': 0.6541511924986773, 'macro_f1-score': 0.37565412681532373, 'balanced_accuracy': 0.35510257745021234, 'mcc': 0.5673608843808896, 'train_loss': 0.4537621559692594}\n",
      "Epoch 12/20\n"
     ]
    },
    {
     "name": "stderr",
     "output_type": "stream",
     "text": [
      "100%|██████████| 476/476 [03:48<00:00,  2.09it/s]\n"
     ]
    },
    {
     "name": "stdout",
     "output_type": "stream",
     "text": [
      "{'val_loss': 1.4484924263549301, 'val_accuracy': 0.6698224852071006, 'precision': 0.661876676274733, 'recall': 0.6698224852071006, 'f1-score': 0.6512359646669373, 'macro_f1-score': 0.3420683232274554, 'balanced_accuracy': 0.3556431611231768, 'mcc': 0.5594542142190314, 'train_loss': 0.412353570185633}\n",
      "Epoch 13/20\n"
     ]
    },
    {
     "name": "stderr",
     "output_type": "stream",
     "text": [
      "100%|██████████| 476/476 [03:47<00:00,  2.09it/s]\n"
     ]
    },
    {
     "name": "stdout",
     "output_type": "stream",
     "text": [
      "{'val_loss': 1.6020275978547223, 'val_accuracy': 0.672189349112426, 'precision': 0.6331871950618251, 'recall': 0.672189349112426, 'f1-score': 0.6318593097124321, 'macro_f1-score': 0.33150347589035134, 'balanced_accuracy': 0.3202463077280606, 'mcc': 0.5490108288028132, 'train_loss': 0.4146712092573152}\n",
      "Epoch 14/20\n"
     ]
    },
    {
     "name": "stderr",
     "output_type": "stream",
     "text": [
      "100%|██████████| 476/476 [03:48<00:00,  2.09it/s]\n"
     ]
    },
    {
     "name": "stdout",
     "output_type": "stream",
     "text": [
      "{'val_loss': 1.5472106455631975, 'val_accuracy': 0.6792899408284023, 'precision': 0.6698122119235689, 'recall': 0.6792899408284023, 'f1-score': 0.6641058102468208, 'macro_f1-score': 0.38349069649305917, 'balanced_accuracy': 0.39856307006704766, 'mcc': 0.5796134483356423, 'train_loss': 0.36071604492236714}\n",
      "Epoch 15/20\n"
     ]
    },
    {
     "name": "stderr",
     "output_type": "stream",
     "text": [
      "100%|██████████| 476/476 [03:47<00:00,  2.09it/s]\n"
     ]
    },
    {
     "name": "stdout",
     "output_type": "stream",
     "text": [
      "{'val_loss': 1.5770384686173133, 'val_accuracy': 0.6686390532544378, 'precision': 0.6531708412938982, 'recall': 0.6686390532544378, 'f1-score': 0.6468954646513209, 'macro_f1-score': 0.341934497415373, 'balanced_accuracy': 0.34266082838984957, 'mcc': 0.5617749431074854, 'train_loss': 0.3485998933618309}\n",
      "Epoch 16/20\n"
     ]
    },
    {
     "name": "stderr",
     "output_type": "stream",
     "text": [
      "100%|██████████| 476/476 [03:47<00:00,  2.10it/s]\n"
     ]
    },
    {
     "name": "stdout",
     "output_type": "stream",
     "text": [
      "{'val_loss': 1.5476161207792893, 'val_accuracy': 0.6792899408284023, 'precision': 0.6710431962538849, 'recall': 0.6792899408284023, 'f1-score': 0.6596052429054892, 'macro_f1-score': 0.378552577422496, 'balanced_accuracy': 0.3771127795260446, 'mcc': 0.5714779205863267, 'train_loss': 0.33874744330454587}\n",
      "Epoch 17/20\n"
     ]
    },
    {
     "name": "stderr",
     "output_type": "stream",
     "text": [
      "100%|██████████| 476/476 [03:48<00:00,  2.09it/s]\n"
     ]
    },
    {
     "name": "stdout",
     "output_type": "stream",
     "text": [
      "{'val_loss': 1.562248633155283, 'val_accuracy': 0.6804733727810651, 'precision': 0.6806378150442962, 'recall': 0.6804733727810651, 'f1-score': 0.6688529833502124, 'macro_f1-score': 0.37651701678520794, 'balanced_accuracy': 0.38575017489556884, 'mcc': 0.5830449059047063, 'train_loss': 0.2997623760519283}\n",
      "Early stopping.\n",
      "\n",
      "[Fold 6]\n",
      "model is bert-base-uncased lstm\n",
      "Epoch 1/20\n"
     ]
    },
    {
     "name": "stderr",
     "output_type": "stream",
     "text": [
      "100%|██████████| 476/476 [03:47<00:00,  2.09it/s]\n"
     ]
    },
    {
     "name": "stdout",
     "output_type": "stream",
     "text": [
      "{'val_loss': 1.696276269993692, 'val_accuracy': 0.5680473372781065, 'precision': 0.42883331474205244, 'recall': 0.5680473372781065, 'f1-score': 0.47107893054960054, 'macro_f1-score': 0.06490694167645798, 'balanced_accuracy': 0.09344863583100357, 'mcc': 0.3871095017294186, 'train_loss': 2.0527286918974723}\n",
      "Epoch 2/20\n"
     ]
    },
    {
     "name": "stderr",
     "output_type": "stream",
     "text": [
      "100%|██████████| 476/476 [03:48<00:00,  2.09it/s]\n"
     ]
    },
    {
     "name": "stdout",
     "output_type": "stream",
     "text": [
      "{'val_loss': 1.4819864422645208, 'val_accuracy': 0.6260355029585799, 'precision': 0.5920817515093678, 'recall': 0.6260355029585799, 'f1-score': 0.5662027167764276, 'macro_f1-score': 0.15585718843474455, 'balanced_accuracy': 0.17177022359539287, 'mcc': 0.49657441397824076, 'train_loss': 1.5292714698975827}\n",
      "Epoch 3/20\n"
     ]
    },
    {
     "name": "stderr",
     "output_type": "stream",
     "text": [
      "100%|██████████| 476/476 [03:47<00:00,  2.09it/s]\n"
     ]
    },
    {
     "name": "stdout",
     "output_type": "stream",
     "text": [
      "{'val_loss': 1.321813684589458, 'val_accuracy': 0.6698224852071006, 'precision': 0.6124590785866787, 'recall': 0.6698224852071006, 'f1-score': 0.6191311243583771, 'macro_f1-score': 0.21029457345698774, 'balanced_accuracy': 0.21382183937629498, 'mcc': 0.5495628830675802, 'train_loss': 1.296080656349659}\n",
      "Epoch 4/20\n"
     ]
    },
    {
     "name": "stderr",
     "output_type": "stream",
     "text": [
      "100%|██████████| 476/476 [03:48<00:00,  2.08it/s]\n"
     ]
    },
    {
     "name": "stdout",
     "output_type": "stream",
     "text": [
      "{'val_loss': 1.338802788055168, 'val_accuracy': 0.6473372781065089, 'precision': 0.621607051114703, 'recall': 0.6473372781065089, 'f1-score': 0.6187695579042509, 'macro_f1-score': 0.23747806194212867, 'balanced_accuracy': 0.24184314631923787, 'mcc': 0.5239897915501469, 'train_loss': 1.0863729943247402}\n",
      "Epoch 5/20\n"
     ]
    },
    {
     "name": "stderr",
     "output_type": "stream",
     "text": [
      "100%|██████████| 476/476 [03:42<00:00,  2.14it/s]\n"
     ]
    },
    {
     "name": "stdout",
     "output_type": "stream",
     "text": [
      "{'val_loss': 1.295746846581405, 'val_accuracy': 0.6568047337278107, 'precision': 0.6526890936021454, 'recall': 0.6568047337278107, 'f1-score': 0.6351264394169549, 'macro_f1-score': 0.2752837734165311, 'balanced_accuracy': 0.29521644633385413, 'mcc': 0.5569888068468472, 'train_loss': 0.9266595496412586}\n",
      "Epoch 6/20\n"
     ]
    },
    {
     "name": "stderr",
     "output_type": "stream",
     "text": [
      "100%|██████████| 476/476 [03:46<00:00,  2.10it/s]\n"
     ]
    },
    {
     "name": "stdout",
     "output_type": "stream",
     "text": [
      "{'val_loss': 1.2980719939717706, 'val_accuracy': 0.6804733727810651, 'precision': 0.638367998550862, 'recall': 0.6804733727810651, 'f1-score': 0.6423344912867467, 'macro_f1-score': 0.2797745927214892, 'balanced_accuracy': 0.2735566447584354, 'mcc': 0.5676749773464996, 'train_loss': 0.7939293935675832}\n",
      "Epoch 7/20\n"
     ]
    },
    {
     "name": "stderr",
     "output_type": "stream",
     "text": [
      "100%|██████████| 476/476 [03:46<00:00,  2.10it/s]\n"
     ]
    },
    {
     "name": "stdout",
     "output_type": "stream",
     "text": [
      "{'val_loss': 1.3403075798502508, 'val_accuracy': 0.6603550295857988, 'precision': 0.6556420931604117, 'recall': 0.6603550295857988, 'f1-score': 0.6469734092046772, 'macro_f1-score': 0.3153682743470997, 'balanced_accuracy': 0.32330140396317075, 'mcc': 0.5615013146256314, 'train_loss': 0.6951854288139764}\n",
      "Epoch 8/20\n"
     ]
    },
    {
     "name": "stderr",
     "output_type": "stream",
     "text": [
      "100%|██████████| 476/476 [03:46<00:00,  2.10it/s]\n"
     ]
    },
    {
     "name": "stdout",
     "output_type": "stream",
     "text": [
      "{'val_loss': 1.4301291231839162, 'val_accuracy': 0.6520710059171597, 'precision': 0.6471467092891392, 'recall': 0.6520710059171597, 'f1-score': 0.6372860969746283, 'macro_f1-score': 0.28519932406729637, 'balanced_accuracy': 0.3088884144720691, 'mcc': 0.552756985702001, 'train_loss': 0.598406790098285}\n",
      "Epoch 9/20\n"
     ]
    },
    {
     "name": "stderr",
     "output_type": "stream",
     "text": [
      "100%|██████████| 476/476 [03:47<00:00,  2.09it/s]\n"
     ]
    },
    {
     "name": "stdout",
     "output_type": "stream",
     "text": [
      "{'val_loss': 1.4044039271912485, 'val_accuracy': 0.6792899408284023, 'precision': 0.6514538004547027, 'recall': 0.6792899408284023, 'f1-score': 0.6509030687214094, 'macro_f1-score': 0.30821310567180926, 'balanced_accuracy': 0.3042370113962264, 'mcc': 0.567298525035819, 'train_loss': 0.5433560812517124}\n",
      "Epoch 10/20\n"
     ]
    },
    {
     "name": "stderr",
     "output_type": "stream",
     "text": [
      "100%|██████████| 476/476 [03:46<00:00,  2.10it/s]\n"
     ]
    },
    {
     "name": "stdout",
     "output_type": "stream",
     "text": [
      "{'val_loss': 1.4035782352933344, 'val_accuracy': 0.6686390532544378, 'precision': 0.6694780181466572, 'recall': 0.6686390532544378, 'f1-score': 0.6549014399801518, 'macro_f1-score': 0.3324254300959293, 'balanced_accuracy': 0.3472836372000635, 'mcc': 0.5680612668035047, 'train_loss': 0.4935243852013926}\n",
      "Epoch 11/20\n"
     ]
    },
    {
     "name": "stderr",
     "output_type": "stream",
     "text": [
      "100%|██████████| 476/476 [03:46<00:00,  2.10it/s]\n"
     ]
    },
    {
     "name": "stdout",
     "output_type": "stream",
     "text": [
      "{'val_loss': 1.3865968011460215, 'val_accuracy': 0.6745562130177515, 'precision': 0.676780274309613, 'recall': 0.6745562130177515, 'f1-score': 0.6632624209040994, 'macro_f1-score': 0.32336514497076346, 'balanced_accuracy': 0.33814714378774496, 'mcc': 0.5778456110869814, 'train_loss': 0.43367695758322705}\n",
      "Epoch 12/20\n"
     ]
    },
    {
     "name": "stderr",
     "output_type": "stream",
     "text": [
      "100%|██████████| 476/476 [03:45<00:00,  2.11it/s]\n"
     ]
    },
    {
     "name": "stdout",
     "output_type": "stream",
     "text": [
      "{'val_loss': 1.4165245300194003, 'val_accuracy': 0.6781065088757396, 'precision': 0.6550311816710044, 'recall': 0.6781065088757396, 'f1-score': 0.6527690503008136, 'macro_f1-score': 0.3387705072717124, 'balanced_accuracy': 0.34653766373767836, 'mcc': 0.5688847060934223, 'train_loss': 0.3992484534636703}\n",
      "Epoch 13/20\n"
     ]
    },
    {
     "name": "stderr",
     "output_type": "stream",
     "text": [
      "100%|██████████| 476/476 [03:46<00:00,  2.10it/s]\n"
     ]
    },
    {
     "name": "stdout",
     "output_type": "stream",
     "text": [
      "{'val_loss': 1.4162753944127064, 'val_accuracy': 0.676923076923077, 'precision': 0.6698453164474282, 'recall': 0.676923076923077, 'f1-score': 0.6614868193112394, 'macro_f1-score': 0.38377234968452356, 'balanced_accuracy': 0.40269476891997885, 'mcc': 0.5748809440474418, 'train_loss': 0.3962356201412172}\n",
      "Epoch 14/20\n"
     ]
    },
    {
     "name": "stderr",
     "output_type": "stream",
     "text": [
      "100%|██████████| 476/476 [03:46<00:00,  2.10it/s]\n"
     ]
    },
    {
     "name": "stdout",
     "output_type": "stream",
     "text": [
      "{'val_loss': 1.5410102493358109, 'val_accuracy': 0.6579881656804734, 'precision': 0.672273867711427, 'recall': 0.6579881656804734, 'f1-score': 0.6495915079526752, 'macro_f1-score': 0.3359495813419357, 'balanced_accuracy': 0.3456800251650522, 'mcc': 0.5522927140624366, 'train_loss': 0.38349176834908727}\n",
      "Epoch 15/20\n"
     ]
    },
    {
     "name": "stderr",
     "output_type": "stream",
     "text": [
      "100%|██████████| 476/476 [03:46<00:00,  2.10it/s]\n"
     ]
    },
    {
     "name": "stdout",
     "output_type": "stream",
     "text": [
      "{'val_loss': 1.4979499078021858, 'val_accuracy': 0.6745562130177515, 'precision': 0.6533548781340816, 'recall': 0.6745562130177515, 'f1-score': 0.6521540778157537, 'macro_f1-score': 0.32928436550360934, 'balanced_accuracy': 0.34344086658443834, 'mcc': 0.5656151547933187, 'train_loss': 0.365769601047446}\n",
      "Epoch 16/20\n"
     ]
    },
    {
     "name": "stderr",
     "output_type": "stream",
     "text": [
      "100%|██████████| 476/476 [03:46<00:00,  2.10it/s]\n"
     ]
    },
    {
     "name": "stdout",
     "output_type": "stream",
     "text": [
      "{'val_loss': 1.4985094970127322, 'val_accuracy': 0.6828402366863905, 'precision': 0.6886338236708812, 'recall': 0.6828402366863905, 'f1-score': 0.666218524137456, 'macro_f1-score': 0.37085802608275115, 'balanced_accuracy': 0.3714540861726144, 'mcc': 0.5807240736993556, 'train_loss': 0.3271726930255712}\n",
      "Early stopping.\n",
      "\n",
      "[Fold 7]\n",
      "model is bert-base-uncased lstm\n",
      "Epoch 1/20\n"
     ]
    },
    {
     "name": "stderr",
     "output_type": "stream",
     "text": [
      "100%|██████████| 476/476 [03:46<00:00,  2.11it/s]\n"
     ]
    },
    {
     "name": "stdout",
     "output_type": "stream",
     "text": [
      "{'val_loss': 1.7194404883204766, 'val_accuracy': 0.5905325443786982, 'precision': 0.44510380284689244, 'recall': 0.5905325443786982, 'f1-score': 0.49373022974694725, 'macro_f1-score': 0.07002833746096167, 'balanced_accuracy': 0.09857659093256349, 'mcc': 0.43192786460596205, 'train_loss': 2.0285624990693663}\n",
      "Epoch 2/20\n"
     ]
    },
    {
     "name": "stderr",
     "output_type": "stream",
     "text": [
      "100%|██████████| 476/476 [03:46<00:00,  2.10it/s]\n"
     ]
    },
    {
     "name": "stdout",
     "output_type": "stream",
     "text": [
      "{'val_loss': 1.4910567144177995, 'val_accuracy': 0.6236686390532544, 'precision': 0.49165701622943164, 'recall': 0.6236686390532544, 'f1-score': 0.5418449183244372, 'macro_f1-score': 0.1347403640118015, 'balanced_accuracy': 0.16097880323880556, 'mcc': 0.48605661350453017, 'train_loss': 1.5537533542814375}\n",
      "Epoch 3/20\n"
     ]
    },
    {
     "name": "stderr",
     "output_type": "stream",
     "text": [
      "100%|██████████| 476/476 [03:46<00:00,  2.10it/s]\n"
     ]
    },
    {
     "name": "stdout",
     "output_type": "stream",
     "text": [
      "{'val_loss': 1.3411680310964584, 'val_accuracy': 0.6532544378698225, 'precision': 0.5666493131877635, 'recall': 0.6532544378698225, 'f1-score': 0.5863043088603253, 'macro_f1-score': 0.198335771746722, 'balanced_accuracy': 0.21831714608219305, 'mcc': 0.5264399940230584, 'train_loss': 1.2888952911275775}\n",
      "Epoch 4/20\n"
     ]
    },
    {
     "name": "stderr",
     "output_type": "stream",
     "text": [
      "100%|██████████| 476/476 [03:35<00:00,  2.21it/s]\n"
     ]
    },
    {
     "name": "stdout",
     "output_type": "stream",
     "text": [
      "{'val_loss': 1.2988379881629404, 'val_accuracy': 0.6710059171597633, 'precision': 0.6216093309960349, 'recall': 0.6710059171597633, 'f1-score': 0.626904494063499, 'macro_f1-score': 0.24080485385018663, 'balanced_accuracy': 0.26318235445320814, 'mcc': 0.5594880974552628, 'train_loss': 1.0924849286049354}\n",
      "Epoch 5/20\n"
     ]
    },
    {
     "name": "stderr",
     "output_type": "stream",
     "text": [
      "100%|██████████| 476/476 [03:47<00:00,  2.09it/s]\n"
     ]
    },
    {
     "name": "stdout",
     "output_type": "stream",
     "text": [
      "{'val_loss': 1.3100476546107598, 'val_accuracy': 0.6449704142011834, 'precision': 0.6606750255921164, 'recall': 0.6449704142011834, 'f1-score': 0.6353213848145558, 'macro_f1-score': 0.3326629301536564, 'balanced_accuracy': 0.3509206871555395, 'mcc': 0.538661087053678, 'train_loss': 0.9072407456193151}\n",
      "Epoch 6/20\n"
     ]
    },
    {
     "name": "stderr",
     "output_type": "stream",
     "text": [
      "100%|██████████| 476/476 [03:45<00:00,  2.11it/s]\n"
     ]
    },
    {
     "name": "stdout",
     "output_type": "stream",
     "text": [
      "{'val_loss': 1.4012448534650623, 'val_accuracy': 0.6686390532544378, 'precision': 0.6834451960614266, 'recall': 0.6686390532544378, 'f1-score': 0.649882304574051, 'macro_f1-score': 0.29736649177451313, 'balanced_accuracy': 0.3105494791123041, 'mcc': 0.5720677405684805, 'train_loss': 0.7752555919607648}\n",
      "Epoch 7/20\n"
     ]
    },
    {
     "name": "stderr",
     "output_type": "stream",
     "text": [
      "100%|██████████| 476/476 [03:46<00:00,  2.10it/s]\n"
     ]
    },
    {
     "name": "stdout",
     "output_type": "stream",
     "text": [
      "{'val_loss': 1.3229729115681828, 'val_accuracy': 0.6923076923076923, 'precision': 0.6722292379201528, 'recall': 0.6923076923076923, 'f1-score': 0.6653133485865332, 'macro_f1-score': 0.3133401046704552, 'balanced_accuracy': 0.3219685440016328, 'mcc': 0.5879543191500476, 'train_loss': 0.6423915897441261}\n",
      "Epoch 8/20\n"
     ]
    },
    {
     "name": "stderr",
     "output_type": "stream",
     "text": [
      "100%|██████████| 476/476 [03:46<00:00,  2.10it/s]\n"
     ]
    },
    {
     "name": "stdout",
     "output_type": "stream",
     "text": [
      "{'val_loss': 1.3811436413594012, 'val_accuracy': 0.6698224852071006, 'precision': 0.676979507776341, 'recall': 0.6698224852071006, 'f1-score': 0.6568956031498085, 'macro_f1-score': 0.3249501229051565, 'balanced_accuracy': 0.3488758110905498, 'mcc': 0.572271586675519, 'train_loss': 0.5874569328392253}\n",
      "Early stopping.\n",
      "\n",
      "[Fold 8]\n",
      "model is bert-base-uncased lstm\n",
      "Epoch 1/20\n"
     ]
    },
    {
     "name": "stderr",
     "output_type": "stream",
     "text": [
      "100%|██████████| 476/476 [03:44<00:00,  2.12it/s]\n"
     ]
    },
    {
     "name": "stdout",
     "output_type": "stream",
     "text": [
      "{'val_loss': 1.7293165910918757, 'val_accuracy': 0.5905325443786982, 'precision': 0.396790225438197, 'recall': 0.5905325443786982, 'f1-score': 0.4711049130978827, 'macro_f1-score': 0.07801974197034817, 'balanced_accuracy': 0.09883730753742044, 'mcc': 0.40424959972361507, 'train_loss': 2.0325531218232227}\n",
      "Epoch 2/20\n"
     ]
    },
    {
     "name": "stderr",
     "output_type": "stream",
     "text": [
      "100%|██████████| 476/476 [03:46<00:00,  2.10it/s]\n"
     ]
    },
    {
     "name": "stdout",
     "output_type": "stream",
     "text": [
      "{'val_loss': 1.4965418892086677, 'val_accuracy': 0.6307692307692307, 'precision': 0.5148498067785394, 'recall': 0.6307692307692307, 'f1-score': 0.5401559752743924, 'macro_f1-score': 0.12175951458543889, 'balanced_accuracy': 0.13165722742470767, 'mcc': 0.48122050596963145, 'train_loss': 1.5619380598684318}\n",
      "Epoch 3/20\n"
     ]
    },
    {
     "name": "stderr",
     "output_type": "stream",
     "text": [
      "100%|██████████| 476/476 [03:46<00:00,  2.10it/s]\n"
     ]
    },
    {
     "name": "stdout",
     "output_type": "stream",
     "text": [
      "{'val_loss': 1.4567827396797683, 'val_accuracy': 0.6378698224852071, 'precision': 0.5265353356404766, 'recall': 0.6378698224852071, 'f1-score': 0.5650254621627079, 'macro_f1-score': 0.14983658639098868, 'balanced_accuracy': 0.1622981417002176, 'mcc': 0.4975704020678138, 'train_loss': 1.297578222110492}\n",
      "Epoch 4/20\n"
     ]
    },
    {
     "name": "stderr",
     "output_type": "stream",
     "text": [
      "100%|██████████| 476/476 [03:47<00:00,  2.09it/s]\n"
     ]
    },
    {
     "name": "stdout",
     "output_type": "stream",
     "text": [
      "{'val_loss': 1.3494259439549356, 'val_accuracy': 0.6662721893491125, 'precision': 0.6034062458782486, 'recall': 0.6662721893491125, 'f1-score': 0.6157439692434049, 'macro_f1-score': 0.2121692943311368, 'balanced_accuracy': 0.20964127400650778, 'mcc': 0.5418846088981633, 'train_loss': 1.0819974269310968}\n",
      "Epoch 5/20\n"
     ]
    },
    {
     "name": "stderr",
     "output_type": "stream",
     "text": [
      "100%|██████████| 476/476 [03:45<00:00,  2.11it/s]\n"
     ]
    },
    {
     "name": "stdout",
     "output_type": "stream",
     "text": [
      "{'val_loss': 1.2622915871863096, 'val_accuracy': 0.6615384615384615, 'precision': 0.6423988740376149, 'recall': 0.6615384615384615, 'f1-score': 0.6399728651158031, 'macro_f1-score': 0.26650143697562145, 'balanced_accuracy': 0.27832078694588397, 'mcc': 0.5542257376491891, 'train_loss': 0.9381849870023107}\n",
      "Epoch 6/20\n"
     ]
    },
    {
     "name": "stderr",
     "output_type": "stream",
     "text": [
      "100%|██████████| 476/476 [03:46<00:00,  2.10it/s]\n"
     ]
    },
    {
     "name": "stdout",
     "output_type": "stream",
     "text": [
      "{'val_loss': 1.3214550946118697, 'val_accuracy': 0.6615384615384615, 'precision': 0.6675760185319219, 'recall': 0.6615384615384615, 'f1-score': 0.6525564478349836, 'macro_f1-score': 0.30673646742702515, 'balanced_accuracy': 0.3278901925299252, 'mcc': 0.5641377181167809, 'train_loss': 0.7781380902381003}\n",
      "Epoch 7/20\n"
     ]
    },
    {
     "name": "stderr",
     "output_type": "stream",
     "text": [
      "100%|██████████| 476/476 [03:47<00:00,  2.09it/s]\n"
     ]
    },
    {
     "name": "stdout",
     "output_type": "stream",
     "text": [
      "{'val_loss': 1.379178708454348, 'val_accuracy': 0.6520710059171597, 'precision': 0.6543847283744604, 'recall': 0.6520710059171597, 'f1-score': 0.6409240371023613, 'macro_f1-score': 0.2866557347323314, 'balanced_accuracy': 0.29402213127304033, 'mcc': 0.5467481916583874, 'train_loss': 0.6882586759522933}\n",
      "Epoch 8/20\n"
     ]
    },
    {
     "name": "stderr",
     "output_type": "stream",
     "text": [
      "100%|██████████| 476/476 [03:46<00:00,  2.10it/s]\n"
     ]
    },
    {
     "name": "stdout",
     "output_type": "stream",
     "text": [
      "{'val_loss': 1.3352548080795217, 'val_accuracy': 0.6615384615384615, 'precision': 0.649149420999478, 'recall': 0.6615384615384615, 'f1-score': 0.6433920821225734, 'macro_f1-score': 0.3049180064445962, 'balanced_accuracy': 0.31312702087854655, 'mcc': 0.5558892051508789, 'train_loss': 0.598499171208872}\n",
      "Epoch 9/20\n"
     ]
    },
    {
     "name": "stderr",
     "output_type": "stream",
     "text": [
      "100%|██████████| 476/476 [03:47<00:00,  2.10it/s]\n"
     ]
    },
    {
     "name": "stdout",
     "output_type": "stream",
     "text": [
      "{'val_loss': 1.3925713452528108, 'val_accuracy': 0.6544378698224852, 'precision': 0.6592788306200198, 'recall': 0.6544378698224852, 'f1-score': 0.6416166056232526, 'macro_f1-score': 0.31501736918409906, 'balanced_accuracy': 0.3354783793174231, 'mcc': 0.5556874008341691, 'train_loss': 0.5288284832040364}\n",
      "Epoch 10/20\n"
     ]
    },
    {
     "name": "stderr",
     "output_type": "stream",
     "text": [
      "100%|██████████| 476/476 [03:46<00:00,  2.10it/s]\n"
     ]
    },
    {
     "name": "stdout",
     "output_type": "stream",
     "text": [
      "{'val_loss': 1.425841120054137, 'val_accuracy': 0.6568047337278107, 'precision': 0.665631625410095, 'recall': 0.6568047337278107, 'f1-score': 0.6447965894122952, 'macro_f1-score': 0.34521101261297277, 'balanced_accuracy': 0.3571412340093844, 'mcc': 0.5505247206075752, 'train_loss': 0.4774242916747051}\n",
      "Epoch 11/20\n"
     ]
    },
    {
     "name": "stderr",
     "output_type": "stream",
     "text": [
      "100%|██████████| 476/476 [03:48<00:00,  2.09it/s]\n"
     ]
    },
    {
     "name": "stdout",
     "output_type": "stream",
     "text": [
      "{'val_loss': 1.447305806965198, 'val_accuracy': 0.685207100591716, 'precision': 0.6524891401378301, 'recall': 0.685207100591716, 'f1-score': 0.6566372731108626, 'macro_f1-score': 0.33129239978961245, 'balanced_accuracy': 0.32766115489013, 'mcc': 0.5742698114843526, 'train_loss': 0.4708613067270577}\n",
      "Epoch 12/20\n"
     ]
    },
    {
     "name": "stderr",
     "output_type": "stream",
     "text": [
      "100%|██████████| 476/476 [03:47<00:00,  2.10it/s]\n"
     ]
    },
    {
     "name": "stdout",
     "output_type": "stream",
     "text": [
      "{'val_loss': 1.3782356505124074, 'val_accuracy': 0.7017751479289941, 'precision': 0.7034102466434402, 'recall': 0.7017751479289941, 'f1-score': 0.6952038707926249, 'macro_f1-score': 0.41503504535329827, 'balanced_accuracy': 0.41675695815443375, 'mcc': 0.6077353576219511, 'train_loss': 0.44358719503820065}\n",
      "Epoch 13/20\n"
     ]
    },
    {
     "name": "stderr",
     "output_type": "stream",
     "text": [
      "100%|██████████| 476/476 [03:45<00:00,  2.11it/s]\n"
     ]
    },
    {
     "name": "stdout",
     "output_type": "stream",
     "text": [
      "{'val_loss': 1.5044182134124469, 'val_accuracy': 0.672189349112426, 'precision': 0.6694024137023648, 'recall': 0.672189349112426, 'f1-score': 0.660959108968522, 'macro_f1-score': 0.3788704069066076, 'balanced_accuracy': 0.3757988669184155, 'mcc': 0.5726292356425409, 'train_loss': 0.3925699582088645}\n",
      "Epoch 14/20\n"
     ]
    },
    {
     "name": "stderr",
     "output_type": "stream",
     "text": [
      "100%|██████████| 476/476 [03:46<00:00,  2.10it/s]\n"
     ]
    },
    {
     "name": "stdout",
     "output_type": "stream",
     "text": [
      "{'val_loss': 1.4473457820010636, 'val_accuracy': 0.6757396449704142, 'precision': 0.6898214031701474, 'recall': 0.6757396449704142, 'f1-score': 0.6676757935110217, 'macro_f1-score': 0.40039792198972124, 'balanced_accuracy': 0.40131924063751695, 'mcc': 0.5740018808551314, 'train_loss': 0.36716238949682656}\n",
      "Epoch 15/20\n"
     ]
    },
    {
     "name": "stderr",
     "output_type": "stream",
     "text": [
      "100%|██████████| 476/476 [03:46<00:00,  2.10it/s]\n"
     ]
    },
    {
     "name": "stdout",
     "output_type": "stream",
     "text": [
      "{'val_loss': 1.4677245105212589, 'val_accuracy': 0.6911242603550296, 'precision': 0.6872393930182166, 'recall': 0.6911242603550296, 'f1-score': 0.6754910126467586, 'macro_f1-score': 0.4169655175475302, 'balanced_accuracy': 0.40577307744576147, 'mcc': 0.5923579092179236, 'train_loss': 0.3335073677971646}\n",
      "Epoch 16/20\n"
     ]
    },
    {
     "name": "stderr",
     "output_type": "stream",
     "text": [
      "100%|██████████| 476/476 [03:45<00:00,  2.11it/s]\n"
     ]
    },
    {
     "name": "stdout",
     "output_type": "stream",
     "text": [
      "{'val_loss': 1.4770937674450424, 'val_accuracy': 0.6863905325443787, 'precision': 0.6899134996512433, 'recall': 0.6863905325443787, 'f1-score': 0.6797087946331414, 'macro_f1-score': 0.4117811267451238, 'balanced_accuracy': 0.41511948528247816, 'mcc': 0.5872803914859174, 'train_loss': 0.36936907900473837}\n",
      "Epoch 17/20\n"
     ]
    },
    {
     "name": "stderr",
     "output_type": "stream",
     "text": [
      "100%|██████████| 476/476 [03:46<00:00,  2.10it/s]\n"
     ]
    },
    {
     "name": "stdout",
     "output_type": "stream",
     "text": [
      "{'val_loss': 1.500982014075765, 'val_accuracy': 0.7041420118343196, 'precision': 0.6820703827465613, 'recall': 0.7041420118343196, 'f1-score': 0.6802881701155632, 'macro_f1-score': 0.41402111772908884, 'balanced_accuracy': 0.4040109823750957, 'mcc': 0.6039186468871274, 'train_loss': 0.3151698206030928}\n",
      "Epoch 18/20\n"
     ]
    },
    {
     "name": "stderr",
     "output_type": "stream",
     "text": [
      "100%|██████████| 476/476 [03:45<00:00,  2.11it/s]\n"
     ]
    },
    {
     "name": "stdout",
     "output_type": "stream",
     "text": [
      "{'val_loss': 1.613970437420989, 'val_accuracy': 0.693491124260355, 'precision': 0.6700453494490196, 'recall': 0.693491124260355, 'f1-score': 0.6718984518785365, 'macro_f1-score': 0.3911383655299256, 'balanced_accuracy': 0.37812012965099356, 'mcc': 0.5873031061728482, 'train_loss': 0.2945055302169894}\n",
      "Early stopping.\n",
      "\n",
      "[Fold 9]\n",
      "model is bert-base-uncased lstm\n",
      "Epoch 1/20\n"
     ]
    },
    {
     "name": "stderr",
     "output_type": "stream",
     "text": [
      "100%|██████████| 476/476 [03:45<00:00,  2.11it/s]\n"
     ]
    },
    {
     "name": "stdout",
     "output_type": "stream",
     "text": [
      "{'val_loss': 1.7141183715946269, 'val_accuracy': 0.58698224852071, 'precision': 0.3958212926736027, 'recall': 0.58698224852071, 'f1-score': 0.4670082477745816, 'macro_f1-score': 0.0738533347071201, 'balanced_accuracy': 0.09834345652291471, 'mcc': 0.4065044832289727, 'train_loss': 2.037328884381206}\n",
      "Epoch 2/20\n"
     ]
    },
    {
     "name": "stderr",
     "output_type": "stream",
     "text": [
      "100%|██████████| 476/476 [03:45<00:00,  2.11it/s]\n"
     ]
    },
    {
     "name": "stdout",
     "output_type": "stream",
     "text": [
      "{'val_loss': 1.5305642631818663, 'val_accuracy': 0.6035502958579881, 'precision': 0.5086197529923363, 'recall': 0.6035502958579881, 'f1-score': 0.5387159049063934, 'macro_f1-score': 0.13824300330043301, 'balanced_accuracy': 0.16037493880885642, 'mcc': 0.4566870417178192, 'train_loss': 1.5794429255633795}\n",
      "Epoch 3/20\n"
     ]
    },
    {
     "name": "stderr",
     "output_type": "stream",
     "text": [
      "100%|██████████| 476/476 [03:46<00:00,  2.10it/s]\n"
     ]
    },
    {
     "name": "stdout",
     "output_type": "stream",
     "text": [
      "{'val_loss': 1.420778235174575, 'val_accuracy': 0.6366863905325444, 'precision': 0.5513549422780591, 'recall': 0.6366863905325444, 'f1-score': 0.569179388663233, 'macro_f1-score': 0.17033588073580821, 'balanced_accuracy': 0.1835649313017842, 'mcc': 0.5032324903403751, 'train_loss': 1.3337258386010884}\n",
      "Epoch 4/20\n"
     ]
    },
    {
     "name": "stderr",
     "output_type": "stream",
     "text": [
      "100%|██████████| 476/476 [03:43<00:00,  2.13it/s]\n"
     ]
    },
    {
     "name": "stdout",
     "output_type": "stream",
     "text": [
      "{'val_loss': 1.347929278634629, 'val_accuracy': 0.6568047337278107, 'precision': 0.578912315341161, 'recall': 0.6568047337278107, 'f1-score': 0.6017985276536393, 'macro_f1-score': 0.21318700854545486, 'balanced_accuracy': 0.23401487375810104, 'mcc': 0.5379689839826045, 'train_loss': 1.157221589613111}\n",
      "Epoch 5/20\n"
     ]
    },
    {
     "name": "stderr",
     "output_type": "stream",
     "text": [
      "100%|██████████| 476/476 [03:45<00:00,  2.11it/s]\n"
     ]
    },
    {
     "name": "stdout",
     "output_type": "stream",
     "text": [
      "{'val_loss': 1.2931231282792002, 'val_accuracy': 0.663905325443787, 'precision': 0.6729566077251663, 'recall': 0.663905325443787, 'f1-score': 0.6479532977928694, 'macro_f1-score': 0.2915657684148133, 'balanced_accuracy': 0.3092080713828002, 'mcc': 0.5590366862357206, 'train_loss': 1.008473576523927}\n",
      "Epoch 6/20\n"
     ]
    },
    {
     "name": "stderr",
     "output_type": "stream",
     "text": [
      "100%|██████████| 476/476 [03:45<00:00,  2.11it/s]\n"
     ]
    },
    {
     "name": "stdout",
     "output_type": "stream",
     "text": [
      "{'val_loss': 1.3437242417965296, 'val_accuracy': 0.6650887573964497, 'precision': 0.6429629722897269, 'recall': 0.6650887573964497, 'f1-score': 0.645280655703621, 'macro_f1-score': 0.3028347362218115, 'balanced_accuracy': 0.32226700959441407, 'mcc': 0.5625724712738032, 'train_loss': 0.88435562850297}\n",
      "Epoch 7/20\n"
     ]
    },
    {
     "name": "stderr",
     "output_type": "stream",
     "text": [
      "100%|██████████| 476/476 [03:45<00:00,  2.11it/s]\n"
     ]
    },
    {
     "name": "stdout",
     "output_type": "stream",
     "text": [
      "{'val_loss': 1.317648466465608, 'val_accuracy': 0.6887573964497041, 'precision': 0.6744754982079113, 'recall': 0.6887573964497041, 'f1-score': 0.6650267936605626, 'macro_f1-score': 0.317860889282484, 'balanced_accuracy': 0.33509802043601455, 'mcc': 0.5899676663675703, 'train_loss': 0.7428061926596555}\n",
      "Epoch 8/20\n"
     ]
    },
    {
     "name": "stderr",
     "output_type": "stream",
     "text": [
      "100%|██████████| 476/476 [03:46<00:00,  2.11it/s]\n"
     ]
    },
    {
     "name": "stdout",
     "output_type": "stream",
     "text": [
      "{'val_loss': 1.309848942284314, 'val_accuracy': 0.6911242603550296, 'precision': 0.6805027656902224, 'recall': 0.6911242603550296, 'f1-score': 0.6715945403146387, 'macro_f1-score': 0.3274023006400633, 'balanced_accuracy': 0.3379156989677218, 'mcc': 0.5956901800729396, 'train_loss': 0.6394665385166011}\n",
      "Epoch 9/20\n"
     ]
    },
    {
     "name": "stderr",
     "output_type": "stream",
     "text": [
      "100%|██████████| 476/476 [03:46<00:00,  2.10it/s]\n"
     ]
    },
    {
     "name": "stdout",
     "output_type": "stream",
     "text": [
      "{'val_loss': 1.4357756646174304, 'val_accuracy': 0.6698224852071006, 'precision': 0.6766302142972705, 'recall': 0.6698224852071006, 'f1-score': 0.6563034389687429, 'macro_f1-score': 0.32139752226714924, 'balanced_accuracy': 0.339282411728564, 'mcc': 0.5730075192113159, 'train_loss': 0.5664688707485858}\n",
      "Epoch 10/20\n"
     ]
    },
    {
     "name": "stderr",
     "output_type": "stream",
     "text": [
      "100%|██████████| 476/476 [03:46<00:00,  2.10it/s]\n"
     ]
    },
    {
     "name": "stdout",
     "output_type": "stream",
     "text": [
      "{'val_loss': 1.438372679476468, 'val_accuracy': 0.663905325443787, 'precision': 0.6878030499599617, 'recall': 0.663905325443787, 'f1-score': 0.6566345276722118, 'macro_f1-score': 0.3371515056165336, 'balanced_accuracy': 0.3444647690537785, 'mcc': 0.5667907624024162, 'train_loss': 0.5514416248232377}\n",
      "Epoch 11/20\n"
     ]
    },
    {
     "name": "stderr",
     "output_type": "stream",
     "text": [
      "100%|██████████| 476/476 [03:45<00:00,  2.11it/s]\n"
     ]
    },
    {
     "name": "stdout",
     "output_type": "stream",
     "text": [
      "{'val_loss': 1.4231711963437639, 'val_accuracy': 0.6923076923076923, 'precision': 0.68058860908419, 'recall': 0.6923076923076923, 'f1-score': 0.6688598233559006, 'macro_f1-score': 0.3427007199954597, 'balanced_accuracy': 0.33751749358725147, 'mcc': 0.5891915167222284, 'train_loss': 0.4996219162257905}\n",
      "Epoch 12/20\n"
     ]
    },
    {
     "name": "stderr",
     "output_type": "stream",
     "text": [
      "100%|██████████| 476/476 [03:46<00:00,  2.10it/s]\n"
     ]
    },
    {
     "name": "stdout",
     "output_type": "stream",
     "text": [
      "{'val_loss': 1.3925124766691677, 'val_accuracy': 0.6887573964497041, 'precision': 0.6856140465524937, 'recall': 0.6887573964497041, 'f1-score': 0.6725555419316274, 'macro_f1-score': 0.3332480290653609, 'balanced_accuracy': 0.34460472422817556, 'mcc': 0.5937958992710537, 'train_loss': 0.44261950632447705}\n",
      "Epoch 13/20\n"
     ]
    },
    {
     "name": "stderr",
     "output_type": "stream",
     "text": [
      "100%|██████████| 476/476 [03:45<00:00,  2.11it/s]\n"
     ]
    },
    {
     "name": "stdout",
     "output_type": "stream",
     "text": [
      "{'val_loss': 1.5515651410480715, 'val_accuracy': 0.6840236686390533, 'precision': 0.6588632340239253, 'recall': 0.6840236686390533, 'f1-score': 0.6558057344818164, 'macro_f1-score': 0.3083491851844876, 'balanced_accuracy': 0.3103053424296934, 'mcc': 0.5747666968612473, 'train_loss': 0.4003876696317261}\n",
      "Epoch 14/20\n"
     ]
    },
    {
     "name": "stderr",
     "output_type": "stream",
     "text": [
      "100%|██████████| 476/476 [03:45<00:00,  2.11it/s]\n"
     ]
    },
    {
     "name": "stdout",
     "output_type": "stream",
     "text": [
      "{'val_loss': 1.4720314201318994, 'val_accuracy': 0.693491124260355, 'precision': 0.6737499504015342, 'recall': 0.693491124260355, 'f1-score': 0.6781935938591667, 'macro_f1-score': 0.3584812129410996, 'balanced_accuracy': 0.35957094856570515, 'mcc': 0.5929434073679273, 'train_loss': 0.37270359284862753}\n",
      "Epoch 15/20\n"
     ]
    },
    {
     "name": "stderr",
     "output_type": "stream",
     "text": [
      "100%|██████████| 476/476 [03:47<00:00,  2.09it/s]\n"
     ]
    },
    {
     "name": "stdout",
     "output_type": "stream",
     "text": [
      "{'val_loss': 1.4750532811542727, 'val_accuracy': 0.6923076923076923, 'precision': 0.6767278671082197, 'recall': 0.6923076923076923, 'f1-score': 0.6772997904232573, 'macro_f1-score': 0.3521235392105688, 'balanced_accuracy': 0.351054485933425, 'mcc': 0.593591757519803, 'train_loss': 0.346661574915521}\n",
      "Epoch 16/20\n"
     ]
    },
    {
     "name": "stderr",
     "output_type": "stream",
     "text": [
      "100%|██████████| 476/476 [03:45<00:00,  2.11it/s]\n"
     ]
    },
    {
     "name": "stdout",
     "output_type": "stream",
     "text": [
      "{'val_loss': 1.5015607869850014, 'val_accuracy': 0.6887573964497041, 'precision': 0.6985531715080462, 'recall': 0.6887573964497041, 'f1-score': 0.6787807898654947, 'macro_f1-score': 0.36180869133155114, 'balanced_accuracy': 0.35288350468451224, 'mcc': 0.5856320047480704, 'train_loss': 0.3398784977196082}\n",
      "Epoch 17/20\n"
     ]
    },
    {
     "name": "stderr",
     "output_type": "stream",
     "text": [
      "100%|██████████| 476/476 [03:45<00:00,  2.11it/s]\n"
     ]
    },
    {
     "name": "stdout",
     "output_type": "stream",
     "text": [
      "{'val_loss': 1.577719974067976, 'val_accuracy': 0.6982248520710059, 'precision': 0.6782304649128562, 'recall': 0.6982248520710059, 'f1-score': 0.6663114376978898, 'macro_f1-score': 0.35819510560557416, 'balanced_accuracy': 0.34440426380795475, 'mcc': 0.5907083241303924, 'train_loss': 0.3322432851497115}\n",
      "Epoch 18/20\n"
     ]
    },
    {
     "name": "stderr",
     "output_type": "stream",
     "text": [
      "100%|██████████| 476/476 [03:45<00:00,  2.11it/s]\n"
     ]
    },
    {
     "name": "stdout",
     "output_type": "stream",
     "text": [
      "{'val_loss': 1.3735434682864063, 'val_accuracy': 0.7112426035502959, 'precision': 0.6931919235416062, 'recall': 0.7112426035502959, 'f1-score': 0.6875641242969832, 'macro_f1-score': 0.3622148754390417, 'balanced_accuracy': 0.34827828962049906, 'mcc': 0.6126052187882408, 'train_loss': 0.3349664006499621}\n",
      "Epoch 19/20\n"
     ]
    },
    {
     "name": "stderr",
     "output_type": "stream",
     "text": [
      "100%|██████████| 476/476 [03:45<00:00,  2.11it/s]\n"
     ]
    },
    {
     "name": "stdout",
     "output_type": "stream",
     "text": [
      "{'val_loss': 1.4845993361383114, 'val_accuracy': 0.6875739644970414, 'precision': 0.7023957791748513, 'recall': 0.6875739644970414, 'f1-score': 0.6760337318392833, 'macro_f1-score': 0.3621525907199077, 'balanced_accuracy': 0.4000935943258464, 'mcc': 0.5942365057650555, 'train_loss': 0.2965048365392761}\n",
      "Epoch 20/20\n"
     ]
    },
    {
     "name": "stderr",
     "output_type": "stream",
     "text": [
      "100%|██████████| 476/476 [03:47<00:00,  2.10it/s]\n"
     ]
    },
    {
     "name": "stdout",
     "output_type": "stream",
     "text": [
      "{'val_loss': 1.4022110970515125, 'val_accuracy': 0.7112426035502959, 'precision': 0.7066405525679893, 'recall': 0.7112426035502959, 'f1-score': 0.6978715717878351, 'macro_f1-score': 0.3770375180316347, 'balanced_accuracy': 0.3791102597888184, 'mcc': 0.618992291274077, 'train_loss': 0.31830594601000056}\n",
      "\n",
      "[Fold 10]\n",
      "model is bert-base-uncased lstm\n",
      "Epoch 1/20\n"
     ]
    },
    {
     "name": "stderr",
     "output_type": "stream",
     "text": [
      "100%|██████████| 476/476 [03:45<00:00,  2.11it/s]\n"
     ]
    },
    {
     "name": "stdout",
     "output_type": "stream",
     "text": [
      "{'val_loss': 1.678433379474676, 'val_accuracy': 0.6059171597633136, 'precision': 0.4347513483772315, 'recall': 0.6059171597633136, 'f1-score': 0.4887614709477057, 'macro_f1-score': 0.08659124620456521, 'balanced_accuracy': 0.11006898733133673, 'mcc': 0.4396646342351696, 'train_loss': 2.029746648769419}\n",
      "Epoch 2/20\n"
     ]
    },
    {
     "name": "stderr",
     "output_type": "stream",
     "text": [
      "100%|██████████| 476/476 [03:46<00:00,  2.10it/s]\n"
     ]
    },
    {
     "name": "stdout",
     "output_type": "stream",
     "text": [
      "{'val_loss': 1.4762575390203945, 'val_accuracy': 0.6295857988165681, 'precision': 0.4746104817349802, 'recall': 0.6295857988165681, 'f1-score': 0.5241494454073231, 'macro_f1-score': 0.10804993332535044, 'balanced_accuracy': 0.1252862173958911, 'mcc': 0.475691078683634, 'train_loss': 1.551725713270051}\n",
      "Epoch 3/20\n"
     ]
    },
    {
     "name": "stderr",
     "output_type": "stream",
     "text": [
      "100%|██████████| 476/476 [03:45<00:00,  2.11it/s]\n"
     ]
    },
    {
     "name": "stdout",
     "output_type": "stream",
     "text": [
      "{'val_loss': 1.3875748458898292, 'val_accuracy': 0.6402366863905326, 'precision': 0.5259055959542738, 'recall': 0.6402366863905326, 'f1-score': 0.5617216220753285, 'macro_f1-score': 0.17721003332296947, 'balanced_accuracy': 0.19118389511445627, 'mcc': 0.49730356575549095, 'train_loss': 1.3030920604071696}\n",
      "Epoch 4/20\n"
     ]
    },
    {
     "name": "stderr",
     "output_type": "stream",
     "text": [
      "100%|██████████| 476/476 [03:46<00:00,  2.10it/s]\n"
     ]
    },
    {
     "name": "stdout",
     "output_type": "stream",
     "text": [
      "{'val_loss': 1.4164198254639249, 'val_accuracy': 0.6485207100591716, 'precision': 0.5993810149668843, 'recall': 0.6485207100591716, 'f1-score': 0.6116596650799849, 'macro_f1-score': 0.22822501905383855, 'balanced_accuracy': 0.23412191196318102, 'mcc': 0.5264005749127258, 'train_loss': 1.1321789051304345}\n",
      "Epoch 5/20\n"
     ]
    },
    {
     "name": "stderr",
     "output_type": "stream",
     "text": [
      "100%|██████████| 476/476 [03:47<00:00,  2.09it/s]\n"
     ]
    },
    {
     "name": "stdout",
     "output_type": "stream",
     "text": [
      "{'val_loss': 1.3747301365969316, 'val_accuracy': 0.6568047337278107, 'precision': 0.6092254447681748, 'recall': 0.6568047337278107, 'f1-score': 0.6183317780963281, 'macro_f1-score': 0.24189266074944785, 'balanced_accuracy': 0.2567355619621027, 'mcc': 0.53639699486007, 'train_loss': 0.963927799538404}\n",
      "Epoch 6/20\n"
     ]
    },
    {
     "name": "stderr",
     "output_type": "stream",
     "text": [
      "100%|██████████| 476/476 [03:46<00:00,  2.11it/s]\n"
     ]
    },
    {
     "name": "stdout",
     "output_type": "stream",
     "text": [
      "{'val_loss': 1.3610530703697565, 'val_accuracy': 0.6804733727810651, 'precision': 0.6416953062278506, 'recall': 0.6804733727810651, 'f1-score': 0.6442932477383897, 'macro_f1-score': 0.279958860601098, 'balanced_accuracy': 0.2689733771560969, 'mcc': 0.5650477707892904, 'train_loss': 0.8242854311858782}\n",
      "Epoch 7/20\n"
     ]
    },
    {
     "name": "stderr",
     "output_type": "stream",
     "text": [
      "100%|██████████| 476/476 [03:46<00:00,  2.10it/s]\n"
     ]
    },
    {
     "name": "stdout",
     "output_type": "stream",
     "text": [
      "{'val_loss': 1.3854313430921086, 'val_accuracy': 0.6556213017751479, 'precision': 0.6436430907057433, 'recall': 0.6556213017751479, 'f1-score': 0.6371849982267279, 'macro_f1-score': 0.2752321393155336, 'balanced_accuracy': 0.28423753882932234, 'mcc': 0.5462718532957719, 'train_loss': 0.7296311272574323}\n",
      "Epoch 8/20\n"
     ]
    },
    {
     "name": "stderr",
     "output_type": "stream",
     "text": [
      "100%|██████████| 476/476 [03:44<00:00,  2.12it/s]\n"
     ]
    },
    {
     "name": "stdout",
     "output_type": "stream",
     "text": [
      "{'val_loss': 1.3755611563628574, 'val_accuracy': 0.6804733727810651, 'precision': 0.6960223538127999, 'recall': 0.6804733727810651, 'f1-score': 0.6695466826820304, 'macro_f1-score': 0.3270707036774812, 'balanced_accuracy': 0.3352817210991378, 'mcc': 0.5801466870764294, 'train_loss': 0.6435339711684765}\n",
      "Epoch 9/20\n"
     ]
    },
    {
     "name": "stderr",
     "output_type": "stream",
     "text": [
      "100%|██████████| 476/476 [03:45<00:00,  2.11it/s]\n"
     ]
    },
    {
     "name": "stdout",
     "output_type": "stream",
     "text": [
      "{'val_loss': 1.4579230670659047, 'val_accuracy': 0.6532544378698225, 'precision': 0.6650152505924859, 'recall': 0.6532544378698225, 'f1-score': 0.648910561278628, 'macro_f1-score': 0.3068461211680976, 'balanced_accuracy': 0.3219109935619312, 'mcc': 0.5541561426714632, 'train_loss': 0.5723274251399171}\n",
      "Epoch 10/20\n"
     ]
    },
    {
     "name": "stderr",
     "output_type": "stream",
     "text": [
      "100%|██████████| 476/476 [03:46<00:00,  2.10it/s]\n"
     ]
    },
    {
     "name": "stdout",
     "output_type": "stream",
     "text": [
      "{'val_loss': 1.462810016465637, 'val_accuracy': 0.6650887573964497, 'precision': 0.6495788549481185, 'recall': 0.6650887573964497, 'f1-score': 0.6407741210109135, 'macro_f1-score': 0.30121662480002337, 'balanced_accuracy': 0.2992439607769218, 'mcc': 0.550752586346791, 'train_loss': 0.5129562963637672}\n",
      "Epoch 11/20\n"
     ]
    },
    {
     "name": "stderr",
     "output_type": "stream",
     "text": [
      "100%|██████████| 476/476 [03:46<00:00,  2.10it/s]\n"
     ]
    },
    {
     "name": "stdout",
     "output_type": "stream",
     "text": [
      "{'val_loss': 1.4691241518506464, 'val_accuracy': 0.6733727810650888, 'precision': 0.654367908123327, 'recall': 0.6733727810650888, 'f1-score': 0.6470359540865154, 'macro_f1-score': 0.28496866254933223, 'balanced_accuracy': 0.28941472110150107, 'mcc': 0.5628033312312501, 'train_loss': 0.45935168949996724}\n",
      "Early stopping.\n",
      "\n",
      " === bert-base-uncased + lstm + none Final 10-fold Cross-Validation Results ===\n",
      "Total time: 35070 seconds\n",
      "Total time: 9 hrs 44 mins 30 secs\n",
      "val_loss: 1.4445\n",
      "val_accuracy: 0.6772\n",
      "precision: 0.6752\n",
      "recall: 0.6772\n",
      "f1-score: 0.6637\n",
      "macro_f1-score: 0.3740\n",
      "balanced_accuracy: 0.3810\n",
      "mcc: 0.5757\n",
      "train_loss: 0.4904\n"
     ]
    }
   ],
   "source": [
    "model_list = [\"bert-base-uncased\"]\n",
    "hybrid_list = [\"lstm\"]\n",
    "resample_list = [\"none\"]\n",
    "\n",
    "for model_name in model_list:\n",
    "    for hybrid_type in hybrid_list:\n",
    "        for resample_method in resample_list:\n",
    "            results = run_kfold_experiment(\n",
    "                X=messages, y=labels, model_name=model_name, hybrid_type=hybrid_type, resample_method=resample_method,\n",
    "                kfold=KFOLD_SPLIT, seed=SEED, epochs=EPOCHS, patience=PATIENCE, max_length=MAX_LENGTH, \n",
    "                batch_size=BATCH_SIZE, lr=LR, weight_decay=WEIGHT_DECAY\n",
    "            )"
   ]
  },
  {
   "cell_type": "code",
   "execution_count": 6,
   "id": "d799ebb4-be3b-4b29-9238-6c2a2f8256ae",
   "metadata": {},
   "outputs": [
    {
     "data": {
      "text/plain": [
       "[{'val_loss': 1.412010542626651,\n",
       "  'val_accuracy': 0.6678486997635934,\n",
       "  'precision': 0.6715832091073934,\n",
       "  'recall': 0.6678486997635934,\n",
       "  'f1-score': 0.6582370128232008,\n",
       "  'macro_f1-score': 0.38925800130625615,\n",
       "  'balanced_accuracy': 0.3922804785782588,\n",
       "  'mcc': 0.566426599125612,\n",
       "  'train_loss': 0.5365466522365934},\n",
       " {'val_loss': 1.5574180652510445,\n",
       "  'val_accuracy': 0.6666666666666666,\n",
       "  'precision': 0.6592803508738136,\n",
       "  'recall': 0.6666666666666666,\n",
       "  'f1-score': 0.6537569965468528,\n",
       "  'macro_f1-score': 0.35823722185204504,\n",
       "  'balanced_accuracy': 0.38548250252414173,\n",
       "  'mcc': 0.5640890066611635,\n",
       "  'train_loss': 0.3432140652121616},\n",
       " {'val_loss': 1.4305286975401752,\n",
       "  'val_accuracy': 0.6879432624113475,\n",
       "  'precision': 0.652679695736898,\n",
       "  'recall': 0.6879432624113475,\n",
       "  'f1-score': 0.6607549246241109,\n",
       "  'macro_f1-score': 0.36603447465904604,\n",
       "  'balanced_accuracy': 0.3583284842691532,\n",
       "  'mcc': 0.5787643805139296,\n",
       "  'train_loss': 0.696891689438279},\n",
       " {'val_loss': 1.5260492990601737,\n",
       "  'val_accuracy': 0.66548463356974,\n",
       "  'precision': 0.6785282010600037,\n",
       "  'recall': 0.66548463356974,\n",
       "  'f1-score': 0.6606248842228367,\n",
       "  'macro_f1-score': 0.4053788577666985,\n",
       "  'balanced_accuracy': 0.40155868850724163,\n",
       "  'mcc': 0.5628931508164303,\n",
       "  'train_loss': 0.36785705368418026},\n",
       " {'val_loss': 1.5472106455631975,\n",
       "  'val_accuracy': 0.6792899408284023,\n",
       "  'precision': 0.6698122119235689,\n",
       "  'recall': 0.6792899408284023,\n",
       "  'f1-score': 0.6641058102468208,\n",
       "  'macro_f1-score': 0.38349069649305917,\n",
       "  'balanced_accuracy': 0.39856307006704766,\n",
       "  'mcc': 0.5796134483356423,\n",
       "  'train_loss': 0.36071604492236714},\n",
       " {'val_loss': 1.4162753944127064,\n",
       "  'val_accuracy': 0.676923076923077,\n",
       "  'precision': 0.6698453164474282,\n",
       "  'recall': 0.676923076923077,\n",
       "  'f1-score': 0.6614868193112394,\n",
       "  'macro_f1-score': 0.38377234968452356,\n",
       "  'balanced_accuracy': 0.40269476891997885,\n",
       "  'mcc': 0.5748809440474418,\n",
       "  'train_loss': 0.3962356201412172},\n",
       " {'val_loss': 1.3100476546107598,\n",
       "  'val_accuracy': 0.6449704142011834,\n",
       "  'precision': 0.6606750255921164,\n",
       "  'recall': 0.6449704142011834,\n",
       "  'f1-score': 0.6353213848145558,\n",
       "  'macro_f1-score': 0.3326629301536564,\n",
       "  'balanced_accuracy': 0.3509206871555395,\n",
       "  'mcc': 0.538661087053678,\n",
       "  'train_loss': 0.9072407456193151},\n",
       " {'val_loss': 1.4677245105212589,\n",
       "  'val_accuracy': 0.6911242603550296,\n",
       "  'precision': 0.6872393930182166,\n",
       "  'recall': 0.6911242603550296,\n",
       "  'f1-score': 0.6754910126467586,\n",
       "  'macro_f1-score': 0.4169655175475302,\n",
       "  'balanced_accuracy': 0.40577307744576147,\n",
       "  'mcc': 0.5923579092179236,\n",
       "  'train_loss': 0.3335073677971646},\n",
       " {'val_loss': 1.4022110970515125,\n",
       "  'val_accuracy': 0.7112426035502959,\n",
       "  'precision': 0.7066405525679893,\n",
       "  'recall': 0.7112426035502959,\n",
       "  'f1-score': 0.6978715717878351,\n",
       "  'macro_f1-score': 0.3770375180316347,\n",
       "  'balanced_accuracy': 0.3791102597888184,\n",
       "  'mcc': 0.618992291274077,\n",
       "  'train_loss': 0.31830594601000056},\n",
       " {'val_loss': 1.3755611563628574,\n",
       "  'val_accuracy': 0.6804733727810651,\n",
       "  'precision': 0.6960223538127999,\n",
       "  'recall': 0.6804733727810651,\n",
       "  'f1-score': 0.6695466826820304,\n",
       "  'macro_f1-score': 0.3270707036774812,\n",
       "  'balanced_accuracy': 0.3352817210991378,\n",
       "  'mcc': 0.5801466870764294,\n",
       "  'train_loss': 0.6435339711684765}]"
      ]
     },
     "execution_count": 6,
     "metadata": {},
     "output_type": "execute_result"
    }
   ],
   "source": [
    "results"
   ]
  }
 ],
 "metadata": {
  "kernelspec": {
   "display_name": "Python 3 (ipykernel)",
   "language": "python",
   "name": "python3"
  },
  "language_info": {
   "codemirror_mode": {
    "name": "ipython",
    "version": 3
   },
   "file_extension": ".py",
   "mimetype": "text/x-python",
   "name": "python",
   "nbconvert_exporter": "python",
   "pygments_lexer": "ipython3",
   "version": "3.11.9"
  }
 },
 "nbformat": 4,
 "nbformat_minor": 5
}
