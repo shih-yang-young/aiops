{
 "cells": [
  {
   "cell_type": "code",
   "execution_count": 1,
   "id": "2e76aa66-729a-4bf9-98b9-61d8114e9f3a",
   "metadata": {},
   "outputs": [
    {
     "data": {
      "text/html": [
       "<div>\n",
       "<style scoped>\n",
       "    .dataframe tbody tr th:only-of-type {\n",
       "        vertical-align: middle;\n",
       "    }\n",
       "\n",
       "    .dataframe tbody tr th {\n",
       "        vertical-align: top;\n",
       "    }\n",
       "\n",
       "    .dataframe thead th {\n",
       "        text-align: right;\n",
       "    }\n",
       "</style>\n",
       "<table border=\"1\" class=\"dataframe\">\n",
       "  <thead>\n",
       "    <tr style=\"text-align: right;\">\n",
       "      <th></th>\n",
       "      <th>Inbound Message</th>\n",
       "      <th>Label</th>\n",
       "    </tr>\n",
       "  </thead>\n",
       "  <tbody>\n",
       "    <tr>\n",
       "      <th>0</th>\n",
       "      <td>login issue verified user details employee man...</td>\n",
       "      <td>0</td>\n",
       "    </tr>\n",
       "    <tr>\n",
       "      <th>1</th>\n",
       "      <td>outlook hello team meetings skype meetings etc...</td>\n",
       "      <td>0</td>\n",
       "    </tr>\n",
       "    <tr>\n",
       "      <th>2</th>\n",
       "      <td>cant log vpn cannot log vpn best</td>\n",
       "      <td>0</td>\n",
       "    </tr>\n",
       "    <tr>\n",
       "      <th>3</th>\n",
       "      <td>unable access tool page unable access tool page</td>\n",
       "      <td>0</td>\n",
       "    </tr>\n",
       "    <tr>\n",
       "      <th>4</th>\n",
       "      <td>skype error skype error</td>\n",
       "      <td>0</td>\n",
       "    </tr>\n",
       "    <tr>\n",
       "      <th>...</th>\n",
       "      <td>...</td>\n",
       "      <td>...</td>\n",
       "    </tr>\n",
       "    <tr>\n",
       "      <th>8449</th>\n",
       "      <td>emails coming mail good afternoon receiving em...</td>\n",
       "      <td>22</td>\n",
       "    </tr>\n",
       "    <tr>\n",
       "      <th>8450</th>\n",
       "      <td>telephony software issue telephony software issue</td>\n",
       "      <td>0</td>\n",
       "    </tr>\n",
       "    <tr>\n",
       "      <th>8451</th>\n",
       "      <td>vip windows password reset tifpdchb pedxruyf v...</td>\n",
       "      <td>0</td>\n",
       "    </tr>\n",
       "    <tr>\n",
       "      <th>8452</th>\n",
       "      <td>machine est funcionando unable access machine ...</td>\n",
       "      <td>44</td>\n",
       "    </tr>\n",
       "    <tr>\n",
       "      <th>8453</th>\n",
       "      <td>mehreren lassen sich verschiedene prgramdntyme...</td>\n",
       "      <td>49</td>\n",
       "    </tr>\n",
       "  </tbody>\n",
       "</table>\n",
       "<p>8454 rows × 2 columns</p>\n",
       "</div>"
      ],
      "text/plain": [
       "                                        Inbound Message  Label\n",
       "0     login issue verified user details employee man...      0\n",
       "1     outlook hello team meetings skype meetings etc...      0\n",
       "2                      cant log vpn cannot log vpn best      0\n",
       "3       unable access tool page unable access tool page      0\n",
       "4                               skype error skype error      0\n",
       "...                                                 ...    ...\n",
       "8449  emails coming mail good afternoon receiving em...     22\n",
       "8450  telephony software issue telephony software issue      0\n",
       "8451  vip windows password reset tifpdchb pedxruyf v...      0\n",
       "8452  machine est funcionando unable access machine ...     44\n",
       "8453  mehreren lassen sich verschiedene prgramdntyme...     49\n",
       "\n",
       "[8454 rows x 2 columns]"
      ]
     },
     "execution_count": 1,
     "metadata": {},
     "output_type": "execute_result"
    }
   ],
   "source": [
    "import pandas as pd\n",
    "data_path = \"../../data/open_source_8454_combine_short_description.csv\"  # 替換為你的檔案路徑\n",
    "df = pd.read_csv(data_path)\n",
    "# df_label_0 = df[df[\"Label\"] == 0]\n",
    "# df_label_0_to_drop = df_label_0.sample(n=3000, random_state=42)\n",
    "# df = df.drop(df_label_0_to_drop.index)\n",
    "df"
   ]
  },
  {
   "cell_type": "markdown",
   "id": "e79be804-d1e3-463a-824f-d4765544e493",
   "metadata": {},
   "source": [
    "# 十折驗證法"
   ]
  },
  {
   "cell_type": "code",
   "execution_count": 2,
   "id": "7e6a5029-3898-4bab-8d6c-bfd1a3694153",
   "metadata": {},
   "outputs": [
    {
     "name": "stdout",
     "output_type": "stream",
     "text": [
      "Using device: cuda\n",
      "CUDA Available: True\n",
      "CUDA Device: NVIDIA GeForce RTX 3050 6GB Laptop GPU\n",
      "Current GPU Memory Allocated: 0.0 GB\n",
      "Current GPU Memory Cached: 0.0 GB\n"
     ]
    }
   ],
   "source": [
    "import torch\n",
    "device = torch.device('cuda') if torch.cuda.is_available() else torch.device('cpu')\n",
    "print(f\"Using device: {device}\") \n",
    "print(f\"CUDA Available: {torch.cuda.is_available()}\")\n",
    "print(f\"CUDA Device: {torch.cuda.get_device_name(0)}\")\n",
    "print(f\"Current GPU Memory Allocated: {torch.cuda.memory_allocated() / 1e9} GB\")\n",
    "print(f\"Current GPU Memory Cached: {torch.cuda.memory_reserved() / 1e9} GB\")"
   ]
  },
  {
   "cell_type": "code",
   "execution_count": 3,
   "id": "833a0227-7775-4659-a98c-48c3fbdc9db9",
   "metadata": {},
   "outputs": [],
   "source": [
    "from torch.utils.data import Dataset\n",
    "class CustomDataset(Dataset):\n",
    "    def __init__(self, messages, labels, tokenizer, max_length):\n",
    "        self.messages = messages\n",
    "        self.labels = labels\n",
    "        self.tokenizer = tokenizer\n",
    "        self.max_length = max_length\n",
    "\n",
    "    def __len__(self):\n",
    "        return len(self.messages)\n",
    "\n",
    "    def __getitem__(self, idx):\n",
    "        message = str(self.messages[idx])\n",
    "        label = self.labels[idx]\n",
    "        \n",
    "        encoding = self.tokenizer.encode_plus(\n",
    "            message,\n",
    "            max_length=self.max_length,\n",
    "            add_special_tokens=True,\n",
    "            padding='max_length',\n",
    "            truncation=True,\n",
    "            return_attention_mask=True,\n",
    "            return_tensors='pt'\n",
    "        )\n",
    "        \n",
    "        return {\n",
    "            'input_ids': encoding['input_ids'].flatten(),\n",
    "            'attention_mask': encoding['attention_mask'].flatten(),\n",
    "            'labels': torch.tensor(label, dtype=torch.long)\n",
    "        }"
   ]
  },
  {
   "cell_type": "code",
   "execution_count": 4,
   "id": "985bf187-a1b5-4882-9e52-2cbc0188e8a6",
   "metadata": {},
   "outputs": [],
   "source": [
    "# 定義訓練與評估函數\n",
    "def train_epoch(model, dataloader, optimizer, criterion):\n",
    "    model.train()\n",
    "    total_loss = 0\n",
    "\n",
    "    for batch in tqdm(dataloader):\n",
    "        optimizer.zero_grad()\n",
    "\n",
    "        input_ids = batch['input_ids'].to(device)\n",
    "        attention_mask = batch['attention_mask'].to(device)\n",
    "        labels = batch['labels'].to(device)\n",
    "\n",
    "        outputs = model(input_ids=input_ids, attention_mask=attention_mask, labels=labels)\n",
    "        loss = outputs.loss\n",
    "        total_loss += loss.item()\n",
    "\n",
    "        loss.backward()\n",
    "        optimizer.step()\n",
    "    \n",
    "    return total_loss / len(dataloader)"
   ]
  },
  {
   "cell_type": "code",
   "execution_count": 5,
   "id": "7dceb8a1-edf1-42fe-ac48-dc84ed4709cf",
   "metadata": {},
   "outputs": [],
   "source": [
    "from sklearn.metrics import precision_score, recall_score, f1_score, balanced_accuracy_score, matthews_corrcoef\n",
    "from sklearn.preprocessing import label_binarize\n",
    "import numpy as np\n",
    "import torch\n",
    "\n",
    "def eval_model(model, dataloader, criterion, num_labels):\n",
    "    model.eval()\n",
    "    total_loss = 0\n",
    "    all_labels = []\n",
    "    all_preds = []\n",
    "    all_probs = []\n",
    "    \n",
    "    with torch.no_grad():\n",
    "        for batch in dataloader:\n",
    "            input_ids = batch['input_ids'].to(device)\n",
    "            attention_mask = batch['attention_mask'].to(device)\n",
    "            labels = batch['labels'].to(device)\n",
    "\n",
    "            outputs = model(input_ids=input_ids, attention_mask=attention_mask)\n",
    "            logits = outputs.logits\n",
    "            loss = criterion(logits, labels)\n",
    "            total_loss += loss.item()\n",
    "\n",
    "            probs = torch.softmax(logits, dim=1)\n",
    "            _, preds = torch.max(logits, dim=1)\n",
    "\n",
    "            all_labels.extend(labels.cpu().numpy())\n",
    "            all_preds.extend(preds.cpu().numpy())\n",
    "            all_probs.extend(probs.cpu().numpy())\n",
    "\n",
    "    val_loss = total_loss / len(dataloader)\n",
    "    val_accuracy = np.mean(np.array(all_preds) == np.array(all_labels))\n",
    "    precision = precision_score(all_labels, all_preds, average='weighted', zero_division=0)\n",
    "    recall = recall_score(all_labels, all_preds, average='weighted', zero_division=0)\n",
    "    f1 = f1_score(all_labels, all_preds, average='weighted', zero_division=0)\n",
    "    macro_f1 = f1_score(all_labels, all_preds, average='macro', zero_division=0)\n",
    "    balanced_acc = balanced_accuracy_score(all_labels, all_preds)\n",
    "    mcc = matthews_corrcoef(all_labels, all_preds)\n",
    "\n",
    "    return {\n",
    "        \"val_loss\": val_loss,\n",
    "        \"val_accuracy\": val_accuracy,\n",
    "        \"precision\": precision,\n",
    "        \"recall\": recall,\n",
    "        \"f1-score\": f1,\n",
    "        \"macro_f1-score\": macro_f1,\n",
    "        \"balanced_accuracy\": balanced_acc,\n",
    "        \"mcc\": mcc\n",
    "    }"
   ]
  },
  {
   "cell_type": "code",
   "execution_count": 6,
   "id": "0217a72c-db4d-4875-8a00-33f2dae9de5e",
   "metadata": {},
   "outputs": [],
   "source": [
    "from transformers import RobertaTokenizer, RobertaForSequenceClassification\n",
    "from sklearn.model_selection import KFold\n",
    "# 設定參數\n",
    "MAX_LENGTH = 128\n",
    "BATCH_SIZE = 16\n",
    "EPOCHS = 20\n",
    "\n",
    "# 初始化 BERT 的 tokenizer\n",
    "tokenizer = RobertaTokenizer.from_pretrained('roberta-base')\n",
    "\n",
    "# 初始化數據\n",
    "messages = df['Inbound Message'].tolist()\n",
    "labels = df['Label'].tolist()\n",
    "\n",
    "# KFold 初始化\n",
    "kf = KFold(n_splits=10, shuffle=True, random_state=42)"
   ]
  },
  {
   "cell_type": "code",
   "execution_count": 7,
   "id": "ee99c1b8-2fc7-483a-8cb6-d375039c6cb1",
   "metadata": {
    "scrolled": true
   },
   "outputs": [
    {
     "name": "stdout",
     "output_type": "stream",
     "text": [
      "Fold 1\n",
      "Training set label distribution: {0: 3585, 1: 28, 2: 123, 3: 26, 4: 239, 5: 134, 6: 101, 7: 37, 8: 80, 9: 70, 10: 82, 11: 199, 12: 209, 13: 34, 14: 25, 15: 31, 16: 22, 17: 258, 18: 106, 19: 47, 20: 15, 21: 39, 22: 89, 23: 183, 24: 15, 25: 55, 26: 100, 27: 52, 28: 13, 29: 15, 30: 17, 31: 89, 32: 39, 33: 36, 34: 29, 35: 13, 36: 32, 37: 24, 38: 5, 39: 118, 40: 10, 41: 10, 42: 166, 43: 18, 44: 23, 45: 11, 46: 58, 47: 601, 48: 215, 49: 82}\n",
      "Validation set label distribution: {0: 389, 1: 3, 2: 17, 3: 4, 4: 18, 5: 11, 6: 17, 7: 2, 8: 5, 9: 11, 10: 6, 11: 16, 12: 32, 13: 2, 14: 4, 16: 3, 17: 31, 18: 10, 19: 9, 20: 3, 21: 5, 22: 8, 23: 17, 24: 5, 25: 8, 26: 7, 27: 9, 28: 2, 29: 1, 30: 2, 31: 11, 32: 6, 33: 4, 34: 8, 35: 2, 36: 3, 37: 3, 38: 2, 39: 11, 40: 4, 41: 1, 42: 18, 43: 2, 44: 2, 46: 10, 47: 60, 48: 37, 49: 5}\n"
     ]
    },
    {
     "name": "stderr",
     "output_type": "stream",
     "text": [
      "Some weights of RobertaForSequenceClassification were not initialized from the model checkpoint at roberta-base and are newly initialized: ['classifier.dense.bias', 'classifier.dense.weight', 'classifier.out_proj.bias', 'classifier.out_proj.weight']\n",
      "You should probably TRAIN this model on a down-stream task to be able to use it for predictions and inference.\n"
     ]
    },
    {
     "name": "stdout",
     "output_type": "stream",
     "text": [
      "Epoch 1/20\n"
     ]
    },
    {
     "name": "stderr",
     "output_type": "stream",
     "text": [
      "100%|██████████| 476/476 [03:23<00:00,  2.33it/s]\n"
     ]
    },
    {
     "name": "stdout",
     "output_type": "stream",
     "text": [
      "{'val_loss': 1.6637121214056916, 'val_accuracy': 0.5874704491725768, 'precision': 0.414463210178126, 'recall': 0.5874704491725768, 'f1-score': 0.47764252299850135, 'macro_f1-score': 0.09318439849625071, 'balanced_accuracy': 0.12121653536079484, 'mcc': 0.4229551457668258}\n",
      "Epoch 2/20\n"
     ]
    },
    {
     "name": "stderr",
     "output_type": "stream",
     "text": [
      "100%|██████████| 476/476 [03:25<00:00,  2.32it/s]\n"
     ]
    },
    {
     "name": "stdout",
     "output_type": "stream",
     "text": [
      "{'val_loss': 1.536550076502674, 'val_accuracy': 0.5815602836879432, 'precision': 0.46446137242887964, 'recall': 0.5815602836879432, 'f1-score': 0.4985295880742362, 'macro_f1-score': 0.1288457795993009, 'balanced_accuracy': 0.15008154474110844, 'mcc': 0.41981210308644773}\n",
      "Epoch 3/20\n"
     ]
    },
    {
     "name": "stderr",
     "output_type": "stream",
     "text": [
      "100%|██████████| 476/476 [03:26<00:00,  2.30it/s]\n"
     ]
    },
    {
     "name": "stdout",
     "output_type": "stream",
     "text": [
      "{'val_loss': 1.3794584825353802, 'val_accuracy': 0.6217494089834515, 'precision': 0.5459047785702111, 'recall': 0.6217494089834515, 'f1-score': 0.5617235092856735, 'macro_f1-score': 0.21445301731088498, 'balanced_accuracy': 0.22162956388325195, 'mcc': 0.48581748300717587}\n",
      "Epoch 4/20\n"
     ]
    },
    {
     "name": "stderr",
     "output_type": "stream",
     "text": [
      "100%|██████████| 476/476 [03:26<00:00,  2.31it/s]\n"
     ]
    },
    {
     "name": "stdout",
     "output_type": "stream",
     "text": [
      "{'val_loss': 1.386764794588089, 'val_accuracy': 0.6288416075650118, 'precision': 0.5836463580751652, 'recall': 0.6288416075650118, 'f1-score': 0.5803609665143715, 'macro_f1-score': 0.24001218816490702, 'balanced_accuracy': 0.2654823980536592, 'mcc': 0.5059906002173842}\n",
      "Epoch 5/20\n"
     ]
    },
    {
     "name": "stderr",
     "output_type": "stream",
     "text": [
      "100%|██████████| 476/476 [03:26<00:00,  2.31it/s]\n",
      "D:\\Anaconda3\\envs\\cuda\\Lib\\site-packages\\sklearn\\metrics\\_classification.py:2458: UserWarning: y_pred contains classes not in y_true\n",
      "  warnings.warn(\"y_pred contains classes not in y_true\")\n"
     ]
    },
    {
     "name": "stdout",
     "output_type": "stream",
     "text": [
      "{'val_loss': 1.3407999771945882, 'val_accuracy': 0.6560283687943262, 'precision': 0.6444141296588295, 'recall': 0.6560283687943262, 'f1-score': 0.6246551573550974, 'macro_f1-score': 0.2864614517450053, 'balanced_accuracy': 0.2895139191064815, 'mcc': 0.5429691473615315}\n",
      "Epoch 6/20\n"
     ]
    },
    {
     "name": "stderr",
     "output_type": "stream",
     "text": [
      "100%|██████████| 476/476 [03:26<00:00,  2.31it/s]\n"
     ]
    },
    {
     "name": "stdout",
     "output_type": "stream",
     "text": [
      "{'val_loss': 1.4091651259728197, 'val_accuracy': 0.6477541371158393, 'precision': 0.6624060947077078, 'recall': 0.6477541371158393, 'f1-score': 0.6319110273911832, 'macro_f1-score': 0.33325465283387407, 'balanced_accuracy': 0.3543362917783163, 'mcc': 0.5445776089672848}\n",
      "Epoch 7/20\n"
     ]
    },
    {
     "name": "stderr",
     "output_type": "stream",
     "text": [
      "100%|██████████| 476/476 [03:26<00:00,  2.31it/s]\n"
     ]
    },
    {
     "name": "stdout",
     "output_type": "stream",
     "text": [
      "{'val_loss': 1.366676761294311, 'val_accuracy': 0.6595744680851063, 'precision': 0.6428922731282215, 'recall': 0.6595744680851063, 'f1-score': 0.6334736919370643, 'macro_f1-score': 0.34819824706068, 'balanced_accuracy': 0.3443700223215587, 'mcc': 0.5494799800994151}\n",
      "Epoch 8/20\n"
     ]
    },
    {
     "name": "stderr",
     "output_type": "stream",
     "text": [
      "100%|██████████| 476/476 [03:27<00:00,  2.30it/s]\n"
     ]
    },
    {
     "name": "stdout",
     "output_type": "stream",
     "text": [
      "{'val_loss': 1.3892962651432685, 'val_accuracy': 0.66548463356974, 'precision': 0.6550586171290753, 'recall': 0.66548463356974, 'f1-score': 0.6413888941276593, 'macro_f1-score': 0.3806320353863463, 'balanced_accuracy': 0.37337129639758676, 'mcc': 0.5534849318048424}\n",
      "Epoch 9/20\n"
     ]
    },
    {
     "name": "stderr",
     "output_type": "stream",
     "text": [
      "100%|██████████| 476/476 [03:26<00:00,  2.30it/s]\n",
      "D:\\Anaconda3\\envs\\cuda\\Lib\\site-packages\\sklearn\\metrics\\_classification.py:2458: UserWarning: y_pred contains classes not in y_true\n",
      "  warnings.warn(\"y_pred contains classes not in y_true\")\n"
     ]
    },
    {
     "name": "stdout",
     "output_type": "stream",
     "text": [
      "{'val_loss': 1.511131911345248, 'val_accuracy': 0.6678486997635934, 'precision': 0.6715201506471763, 'recall': 0.6678486997635934, 'f1-score': 0.6579943823394214, 'macro_f1-score': 0.3683809611376311, 'balanced_accuracy': 0.3856268660333799, 'mcc': 0.567996982799024}\n",
      "Epoch 10/20\n"
     ]
    },
    {
     "name": "stderr",
     "output_type": "stream",
     "text": [
      "100%|██████████| 476/476 [03:26<00:00,  2.30it/s]\n",
      "D:\\Anaconda3\\envs\\cuda\\Lib\\site-packages\\sklearn\\metrics\\_classification.py:2458: UserWarning: y_pred contains classes not in y_true\n",
      "  warnings.warn(\"y_pred contains classes not in y_true\")\n"
     ]
    },
    {
     "name": "stdout",
     "output_type": "stream",
     "text": [
      "{'val_loss': 1.5312190961163, 'val_accuracy': 0.6725768321513003, 'precision': 0.6691733556480037, 'recall': 0.6725768321513003, 'f1-score': 0.6535428376148855, 'macro_f1-score': 0.3743382528759159, 'balanced_accuracy': 0.36962847690070094, 'mcc': 0.5667966986656611}\n",
      "Epoch 11/20\n"
     ]
    },
    {
     "name": "stderr",
     "output_type": "stream",
     "text": [
      "100%|██████████| 476/476 [03:26<00:00,  2.30it/s]\n",
      "D:\\Anaconda3\\envs\\cuda\\Lib\\site-packages\\sklearn\\metrics\\_classification.py:2458: UserWarning: y_pred contains classes not in y_true\n",
      "  warnings.warn(\"y_pred contains classes not in y_true\")\n"
     ]
    },
    {
     "name": "stdout",
     "output_type": "stream",
     "text": [
      "{'val_loss': 1.6506795062209076, 'val_accuracy': 0.6394799054373522, 'precision': 0.6877269912285288, 'recall': 0.6394799054373522, 'f1-score': 0.6431598668383975, 'macro_f1-score': 0.3562585170996511, 'balanced_accuracy': 0.3944651545478138, 'mcc': 0.5388076928854957}\n",
      "Early stopping triggered at epoch 11\n",
      "Fold 2\n",
      "Training set label distribution: {0: 3566, 1: 30, 2: 117, 3: 24, 4: 238, 5: 133, 6: 110, 7: 36, 8: 72, 9: 73, 10: 77, 11: 192, 12: 221, 13: 35, 14: 29, 15: 27, 16: 24, 17: 263, 18: 107, 19: 51, 20: 17, 21: 41, 22: 89, 23: 185, 24: 18, 25: 56, 26: 92, 27: 52, 28: 12, 29: 15, 30: 18, 31: 92, 32: 41, 33: 38, 34: 34, 35: 13, 36: 33, 37: 24, 38: 5, 39: 116, 40: 14, 41: 9, 42: 168, 43: 16, 44: 22, 45: 11, 46: 60, 47: 591, 48: 224, 49: 77}\n",
      "Validation set label distribution: {0: 408, 1: 1, 2: 23, 3: 6, 4: 19, 5: 12, 6: 8, 7: 3, 8: 13, 9: 8, 10: 11, 11: 23, 12: 20, 13: 1, 15: 4, 16: 1, 17: 26, 18: 9, 19: 5, 20: 1, 21: 3, 22: 8, 23: 15, 24: 2, 25: 7, 26: 15, 27: 9, 28: 3, 29: 1, 30: 1, 31: 8, 32: 4, 33: 2, 34: 3, 35: 2, 36: 2, 37: 3, 38: 2, 39: 13, 41: 2, 42: 16, 43: 4, 44: 3, 46: 8, 47: 70, 48: 28, 49: 10}\n"
     ]
    },
    {
     "name": "stderr",
     "output_type": "stream",
     "text": [
      "Some weights of RobertaForSequenceClassification were not initialized from the model checkpoint at roberta-base and are newly initialized: ['classifier.dense.bias', 'classifier.dense.weight', 'classifier.out_proj.bias', 'classifier.out_proj.weight']\n",
      "You should probably TRAIN this model on a down-stream task to be able to use it for predictions and inference.\n"
     ]
    },
    {
     "name": "stdout",
     "output_type": "stream",
     "text": [
      "Epoch 1/20\n"
     ]
    },
    {
     "name": "stderr",
     "output_type": "stream",
     "text": [
      "100%|██████████| 476/476 [03:26<00:00,  2.30it/s]\n"
     ]
    },
    {
     "name": "stdout",
     "output_type": "stream",
     "text": [
      "{'val_loss': 1.5448512952282745, 'val_accuracy': 0.599290780141844, 'precision': 0.45504327082187046, 'recall': 0.599290780141844, 'f1-score': 0.5061856060254245, 'macro_f1-score': 0.0974272297269938, 'balanced_accuracy': 0.12310278017658954, 'mcc': 0.4308192214473003}\n",
      "Epoch 2/20\n"
     ]
    },
    {
     "name": "stderr",
     "output_type": "stream",
     "text": [
      "100%|██████████| 476/476 [03:27<00:00,  2.29it/s]\n"
     ]
    },
    {
     "name": "stdout",
     "output_type": "stream",
     "text": [
      "{'val_loss': 1.3304677335721142, 'val_accuracy': 0.6347517730496454, 'precision': 0.6288195163149929, 'recall': 0.6347517730496454, 'f1-score': 0.6011731304866873, 'macro_f1-score': 0.1977254751120402, 'balanced_accuracy': 0.20512203107427254, 'mcc': 0.49717554051360313}\n",
      "Epoch 3/20\n"
     ]
    },
    {
     "name": "stderr",
     "output_type": "stream",
     "text": [
      "100%|██████████| 476/476 [03:27<00:00,  2.30it/s]\n"
     ]
    },
    {
     "name": "stdout",
     "output_type": "stream",
     "text": [
      "{'val_loss': 1.2472055768066983, 'val_accuracy': 0.648936170212766, 'precision': 0.5913424025711348, 'recall': 0.648936170212766, 'f1-score': 0.5961934252007761, 'macro_f1-score': 0.21660630514729015, 'balanced_accuracy': 0.21577117798488618, 'mcc': 0.509913928396458}\n",
      "Epoch 4/20\n"
     ]
    },
    {
     "name": "stderr",
     "output_type": "stream",
     "text": [
      "100%|██████████| 476/476 [03:27<00:00,  2.30it/s]\n"
     ]
    },
    {
     "name": "stdout",
     "output_type": "stream",
     "text": [
      "{'val_loss': 1.228520982670334, 'val_accuracy': 0.6548463356973995, 'precision': 0.6478717117748352, 'recall': 0.6548463356973995, 'f1-score': 0.6349379019553762, 'macro_f1-score': 0.2585438355669029, 'balanced_accuracy': 0.268093127408082, 'mcc': 0.5302490717235772}\n",
      "Epoch 5/20\n"
     ]
    },
    {
     "name": "stderr",
     "output_type": "stream",
     "text": [
      "100%|██████████| 476/476 [03:26<00:00,  2.30it/s]\n",
      "D:\\Anaconda3\\envs\\cuda\\Lib\\site-packages\\sklearn\\metrics\\_classification.py:2458: UserWarning: y_pred contains classes not in y_true\n",
      "  warnings.warn(\"y_pred contains classes not in y_true\")\n"
     ]
    },
    {
     "name": "stdout",
     "output_type": "stream",
     "text": [
      "{'val_loss': 1.3028496543191515, 'val_accuracy': 0.6619385342789598, 'precision': 0.6578248762753693, 'recall': 0.6619385342789598, 'f1-score': 0.6463137874104203, 'macro_f1-score': 0.2966164654027453, 'balanced_accuracy': 0.32691309355170506, 'mcc': 0.555321692017747}\n",
      "Epoch 6/20\n"
     ]
    },
    {
     "name": "stderr",
     "output_type": "stream",
     "text": [
      "100%|██████████| 476/476 [03:27<00:00,  2.30it/s]\n",
      "D:\\Anaconda3\\envs\\cuda\\Lib\\site-packages\\sklearn\\metrics\\_classification.py:2458: UserWarning: y_pred contains classes not in y_true\n",
      "  warnings.warn(\"y_pred contains classes not in y_true\")\n"
     ]
    },
    {
     "name": "stdout",
     "output_type": "stream",
     "text": [
      "{'val_loss': 1.2692595394152515, 'val_accuracy': 0.6761229314420804, 'precision': 0.6960906729407113, 'recall': 0.6761229314420804, 'f1-score': 0.6661124659715275, 'macro_f1-score': 0.31986885278746885, 'balanced_accuracy': 0.315338857034283, 'mcc': 0.5638249781102898}\n",
      "Epoch 7/20\n"
     ]
    },
    {
     "name": "stderr",
     "output_type": "stream",
     "text": [
      "100%|██████████| 476/476 [03:27<00:00,  2.30it/s]\n",
      "D:\\Anaconda3\\envs\\cuda\\Lib\\site-packages\\sklearn\\metrics\\_classification.py:2458: UserWarning: y_pred contains classes not in y_true\n",
      "  warnings.warn(\"y_pred contains classes not in y_true\")\n"
     ]
    },
    {
     "name": "stdout",
     "output_type": "stream",
     "text": [
      "{'val_loss': 1.4646651106622983, 'val_accuracy': 0.6595744680851063, 'precision': 0.6701521816770044, 'recall': 0.6595744680851063, 'f1-score': 0.645483299043243, 'macro_f1-score': 0.28280755224663695, 'balanced_accuracy': 0.2921141935616192, 'mcc': 0.5393184738219785}\n",
      "Epoch 8/20\n"
     ]
    },
    {
     "name": "stderr",
     "output_type": "stream",
     "text": [
      "100%|██████████| 476/476 [03:27<00:00,  2.30it/s]\n"
     ]
    },
    {
     "name": "stdout",
     "output_type": "stream",
     "text": [
      "{'val_loss': 1.5168720542822245, 'val_accuracy': 0.6583924349881797, 'precision': 0.6686331900486271, 'recall': 0.6583924349881797, 'f1-score': 0.6412687613641692, 'macro_f1-score': 0.31468074693752063, 'balanced_accuracy': 0.31571786363062215, 'mcc': 0.5473973704652946}\n",
      "Epoch 9/20\n"
     ]
    },
    {
     "name": "stderr",
     "output_type": "stream",
     "text": [
      "100%|██████████| 476/476 [03:26<00:00,  2.30it/s]\n"
     ]
    },
    {
     "name": "stdout",
     "output_type": "stream",
     "text": [
      "{'val_loss': 1.4498997825496602, 'val_accuracy': 0.6548463356973995, 'precision': 0.6788416813942943, 'recall': 0.6548463356973995, 'f1-score': 0.6404732523754373, 'macro_f1-score': 0.34219056174688856, 'balanced_accuracy': 0.369972914524707, 'mcc': 0.5407583500144679}\n",
      "Epoch 10/20\n"
     ]
    },
    {
     "name": "stderr",
     "output_type": "stream",
     "text": [
      "100%|██████████| 476/476 [03:26<00:00,  2.30it/s]\n",
      "D:\\Anaconda3\\envs\\cuda\\Lib\\site-packages\\sklearn\\metrics\\_classification.py:2458: UserWarning: y_pred contains classes not in y_true\n",
      "  warnings.warn(\"y_pred contains classes not in y_true\")\n"
     ]
    },
    {
     "name": "stdout",
     "output_type": "stream",
     "text": [
      "{'val_loss': 1.417371339393112, 'val_accuracy': 0.6808510638297872, 'precision': 0.682249189173201, 'recall': 0.6808510638297872, 'f1-score': 0.6635595919642342, 'macro_f1-score': 0.33318879823583086, 'balanced_accuracy': 0.3411552324344845, 'mcc': 0.5719480367380013}\n",
      "Epoch 11/20\n"
     ]
    },
    {
     "name": "stderr",
     "output_type": "stream",
     "text": [
      "100%|██████████| 476/476 [03:27<00:00,  2.30it/s]\n",
      "D:\\Anaconda3\\envs\\cuda\\Lib\\site-packages\\sklearn\\metrics\\_classification.py:2458: UserWarning: y_pred contains classes not in y_true\n",
      "  warnings.warn(\"y_pred contains classes not in y_true\")\n"
     ]
    },
    {
     "name": "stdout",
     "output_type": "stream",
     "text": [
      "{'val_loss': 1.649910349328563, 'val_accuracy': 0.6713947990543735, 'precision': 0.6726954325844217, 'recall': 0.6713947990543735, 'f1-score': 0.6494989170686666, 'macro_f1-score': 0.29503308016188384, 'balanced_accuracy': 0.2956405720119229, 'mcc': 0.5489690826571093}\n",
      "Epoch 12/20\n"
     ]
    },
    {
     "name": "stderr",
     "output_type": "stream",
     "text": [
      "100%|██████████| 476/476 [03:27<00:00,  2.29it/s]\n",
      "D:\\Anaconda3\\envs\\cuda\\Lib\\site-packages\\sklearn\\metrics\\_classification.py:2458: UserWarning: y_pred contains classes not in y_true\n",
      "  warnings.warn(\"y_pred contains classes not in y_true\")\n"
     ]
    },
    {
     "name": "stdout",
     "output_type": "stream",
     "text": [
      "{'val_loss': 1.6308306438742943, 'val_accuracy': 0.6808510638297872, 'precision': 0.6849112346378761, 'recall': 0.6808510638297872, 'f1-score': 0.6650818158033159, 'macro_f1-score': 0.35110459159066304, 'balanced_accuracy': 0.37056280511489825, 'mcc': 0.5768378569618247}\n",
      "Epoch 13/20\n"
     ]
    },
    {
     "name": "stderr",
     "output_type": "stream",
     "text": [
      "100%|██████████| 476/476 [03:27<00:00,  2.29it/s]\n",
      "D:\\Anaconda3\\envs\\cuda\\Lib\\site-packages\\sklearn\\metrics\\_classification.py:2458: UserWarning: y_pred contains classes not in y_true\n",
      "  warnings.warn(\"y_pred contains classes not in y_true\")\n"
     ]
    },
    {
     "name": "stdout",
     "output_type": "stream",
     "text": [
      "{'val_loss': 1.7582181827077326, 'val_accuracy': 0.6690307328605201, 'precision': 0.6803061469588159, 'recall': 0.6690307328605201, 'f1-score': 0.6531126571506091, 'macro_f1-score': 0.33994128090476866, 'balanced_accuracy': 0.32912697770454036, 'mcc': 0.5504657254711373}\n",
      "Epoch 14/20\n"
     ]
    },
    {
     "name": "stderr",
     "output_type": "stream",
     "text": [
      "100%|██████████| 476/476 [03:27<00:00,  2.30it/s]\n",
      "D:\\Anaconda3\\envs\\cuda\\Lib\\site-packages\\sklearn\\metrics\\_classification.py:2458: UserWarning: y_pred contains classes not in y_true\n",
      "  warnings.warn(\"y_pred contains classes not in y_true\")\n"
     ]
    },
    {
     "name": "stdout",
     "output_type": "stream",
     "text": [
      "{'val_loss': 1.6820268999293166, 'val_accuracy': 0.6867612293144209, 'precision': 0.6801723193297253, 'recall': 0.6867612293144209, 'f1-score': 0.661443166580649, 'macro_f1-score': 0.3583724463152317, 'balanced_accuracy': 0.34066418810231147, 'mcc': 0.570460412426946}\n",
      "Epoch 15/20\n"
     ]
    },
    {
     "name": "stderr",
     "output_type": "stream",
     "text": [
      "100%|██████████| 476/476 [03:27<00:00,  2.30it/s]\n",
      "D:\\Anaconda3\\envs\\cuda\\Lib\\site-packages\\sklearn\\metrics\\_classification.py:2458: UserWarning: y_pred contains classes not in y_true\n",
      "  warnings.warn(\"y_pred contains classes not in y_true\")\n"
     ]
    },
    {
     "name": "stdout",
     "output_type": "stream",
     "text": [
      "{'val_loss': 1.5674176027752318, 'val_accuracy': 0.6903073286052009, 'precision': 0.6835940071377062, 'recall': 0.6903073286052009, 'f1-score': 0.6678568131350717, 'macro_f1-score': 0.3399517599121435, 'balanced_accuracy': 0.34690862620121293, 'mcc': 0.5804085999400967}\n",
      "Epoch 16/20\n"
     ]
    },
    {
     "name": "stderr",
     "output_type": "stream",
     "text": [
      "100%|██████████| 476/476 [03:26<00:00,  2.30it/s]\n",
      "D:\\Anaconda3\\envs\\cuda\\Lib\\site-packages\\sklearn\\metrics\\_classification.py:2458: UserWarning: y_pred contains classes not in y_true\n",
      "  warnings.warn(\"y_pred contains classes not in y_true\")\n"
     ]
    },
    {
     "name": "stdout",
     "output_type": "stream",
     "text": [
      "{'val_loss': 1.7045198760504991, 'val_accuracy': 0.6973995271867612, 'precision': 0.7046975824971345, 'recall': 0.6973995271867612, 'f1-score': 0.6789893063923732, 'macro_f1-score': 0.388287616069482, 'balanced_accuracy': 0.3954942890960596, 'mcc': 0.5922284429543323}\n",
      "Epoch 17/20\n"
     ]
    },
    {
     "name": "stderr",
     "output_type": "stream",
     "text": [
      "100%|██████████| 476/476 [03:27<00:00,  2.29it/s]\n",
      "D:\\Anaconda3\\envs\\cuda\\Lib\\site-packages\\sklearn\\metrics\\_classification.py:2458: UserWarning: y_pred contains classes not in y_true\n",
      "  warnings.warn(\"y_pred contains classes not in y_true\")\n"
     ]
    },
    {
     "name": "stdout",
     "output_type": "stream",
     "text": [
      "{'val_loss': 1.706915593934509, 'val_accuracy': 0.6725768321513003, 'precision': 0.7010661705569041, 'recall': 0.6725768321513003, 'f1-score': 0.659486484287321, 'macro_f1-score': 0.3286856937086747, 'balanced_accuracy': 0.3448881472235536, 'mcc': 0.5624398394119424}\n",
      "Epoch 18/20\n"
     ]
    },
    {
     "name": "stderr",
     "output_type": "stream",
     "text": [
      "100%|██████████| 476/476 [03:26<00:00,  2.30it/s]\n",
      "D:\\Anaconda3\\envs\\cuda\\Lib\\site-packages\\sklearn\\metrics\\_classification.py:2458: UserWarning: y_pred contains classes not in y_true\n",
      "  warnings.warn(\"y_pred contains classes not in y_true\")\n"
     ]
    },
    {
     "name": "stdout",
     "output_type": "stream",
     "text": [
      "{'val_loss': 1.6857388671839013, 'val_accuracy': 0.6914893617021277, 'precision': 0.7069842683108938, 'recall': 0.6914893617021277, 'f1-score': 0.6706114110351925, 'macro_f1-score': 0.35465119577567766, 'balanced_accuracy': 0.33753593185237574, 'mcc': 0.5812050627442567}\n",
      "Epoch 19/20\n"
     ]
    },
    {
     "name": "stderr",
     "output_type": "stream",
     "text": [
      "100%|██████████| 476/476 [03:27<00:00,  2.30it/s]\n",
      "D:\\Anaconda3\\envs\\cuda\\Lib\\site-packages\\sklearn\\metrics\\_classification.py:2458: UserWarning: y_pred contains classes not in y_true\n",
      "  warnings.warn(\"y_pred contains classes not in y_true\")\n"
     ]
    },
    {
     "name": "stdout",
     "output_type": "stream",
     "text": [
      "{'val_loss': 1.8103341319650974, 'val_accuracy': 0.6867612293144209, 'precision': 0.690139699002786, 'recall': 0.6867612293144209, 'f1-score': 0.6595880775991355, 'macro_f1-score': 0.3213421214898501, 'balanced_accuracy': 0.33146682804664895, 'mcc': 0.5743874497071175}\n",
      "Early stopping triggered at epoch 19\n",
      "Fold 3\n",
      "Training set label distribution: {0: 3551, 1: 27, 2: 132, 3: 28, 4: 235, 5: 135, 6: 108, 7: 34, 8: 78, 9: 72, 10: 82, 11: 196, 12: 225, 13: 32, 14: 28, 15: 26, 16: 23, 17: 256, 18: 109, 19: 49, 20: 18, 21: 39, 22: 87, 23: 177, 24: 19, 25: 58, 26: 97, 27: 59, 28: 13, 29: 13, 30: 16, 31: 93, 32: 42, 33: 38, 34: 33, 35: 13, 36: 31, 37: 23, 38: 6, 39: 110, 40: 11, 41: 9, 42: 165, 43: 18, 44: 21, 45: 7, 46: 63, 47: 591, 48: 233, 49: 79}\n",
      "Validation set label distribution: {0: 423, 1: 4, 2: 8, 3: 2, 4: 22, 5: 10, 6: 10, 7: 5, 8: 7, 9: 9, 10: 6, 11: 19, 12: 16, 13: 4, 14: 1, 15: 5, 16: 2, 17: 33, 18: 7, 19: 7, 21: 5, 22: 10, 23: 23, 24: 1, 25: 5, 26: 10, 27: 2, 28: 2, 29: 3, 30: 3, 31: 7, 32: 3, 33: 2, 34: 4, 35: 2, 36: 4, 37: 4, 38: 1, 39: 19, 40: 3, 41: 2, 42: 19, 43: 2, 44: 4, 45: 4, 46: 5, 47: 70, 48: 19, 49: 8}\n"
     ]
    },
    {
     "name": "stderr",
     "output_type": "stream",
     "text": [
      "Some weights of RobertaForSequenceClassification were not initialized from the model checkpoint at roberta-base and are newly initialized: ['classifier.dense.bias', 'classifier.dense.weight', 'classifier.out_proj.bias', 'classifier.out_proj.weight']\n",
      "You should probably TRAIN this model on a down-stream task to be able to use it for predictions and inference.\n"
     ]
    },
    {
     "name": "stdout",
     "output_type": "stream",
     "text": [
      "Epoch 1/20\n"
     ]
    },
    {
     "name": "stderr",
     "output_type": "stream",
     "text": [
      "100%|██████████| 476/476 [03:27<00:00,  2.29it/s]\n"
     ]
    },
    {
     "name": "stdout",
     "output_type": "stream",
     "text": [
      "{'val_loss': 1.5142859293604798, 'val_accuracy': 0.6465721040189125, 'precision': 0.4761285662299022, 'recall': 0.6465721040189125, 'f1-score': 0.5455402350973759, 'macro_f1-score': 0.11175084641439592, 'balanced_accuracy': 0.13777239550144457, 'mcc': 0.47660694008509663}\n",
      "Epoch 2/20\n"
     ]
    },
    {
     "name": "stderr",
     "output_type": "stream",
     "text": [
      "100%|██████████| 476/476 [03:27<00:00,  2.29it/s]\n"
     ]
    },
    {
     "name": "stdout",
     "output_type": "stream",
     "text": [
      "{'val_loss': 1.2880655245960884, 'val_accuracy': 0.6643026004728132, 'precision': 0.566835367210598, 'recall': 0.6643026004728132, 'f1-score': 0.6073102567478035, 'macro_f1-score': 0.20220598180937097, 'balanced_accuracy': 0.21316534090279116, 'mcc': 0.517881093494257}\n",
      "Epoch 3/20\n"
     ]
    },
    {
     "name": "stderr",
     "output_type": "stream",
     "text": [
      "100%|██████████| 476/476 [03:26<00:00,  2.30it/s]\n"
     ]
    },
    {
     "name": "stdout",
     "output_type": "stream",
     "text": [
      "{'val_loss': 1.2520611207440215, 'val_accuracy': 0.6749408983451537, 'precision': 0.6573335233297869, 'recall': 0.6749408983451537, 'f1-score': 0.6430524863977217, 'macro_f1-score': 0.2656367459340667, 'balanced_accuracy': 0.28233742199896433, 'mcc': 0.54219003588718}\n",
      "Epoch 4/20\n"
     ]
    },
    {
     "name": "stderr",
     "output_type": "stream",
     "text": [
      "100%|██████████| 476/476 [03:26<00:00,  2.30it/s]\n"
     ]
    },
    {
     "name": "stdout",
     "output_type": "stream",
     "text": [
      "{'val_loss': 1.271846205558417, 'val_accuracy': 0.66548463356974, 'precision': 0.6345249174626797, 'recall': 0.66548463356974, 'f1-score': 0.6277455553978595, 'macro_f1-score': 0.2532905954030106, 'balanced_accuracy': 0.2476258110587798, 'mcc': 0.5227730582931376}\n",
      "Epoch 5/20\n"
     ]
    },
    {
     "name": "stderr",
     "output_type": "stream",
     "text": [
      "100%|██████████| 476/476 [03:27<00:00,  2.29it/s]\n"
     ]
    },
    {
     "name": "stdout",
     "output_type": "stream",
     "text": [
      "{'val_loss': 1.282196435725914, 'val_accuracy': 0.6832151300236406, 'precision': 0.6422075123059957, 'recall': 0.6832151300236406, 'f1-score': 0.6443558293829257, 'macro_f1-score': 0.24995382248944, 'balanced_accuracy': 0.2446606565230939, 'mcc': 0.5478111715774119}\n",
      "Epoch 6/20\n"
     ]
    },
    {
     "name": "stderr",
     "output_type": "stream",
     "text": [
      "100%|██████████| 476/476 [03:27<00:00,  2.29it/s]\n"
     ]
    },
    {
     "name": "stdout",
     "output_type": "stream",
     "text": [
      "{'val_loss': 1.3133762734678556, 'val_accuracy': 0.6962174940898345, 'precision': 0.6748384109676541, 'recall': 0.6962174940898345, 'f1-score': 0.6673638270286936, 'macro_f1-score': 0.3223895267848306, 'balanced_accuracy': 0.3360431650932625, 'mcc': 0.5808038775947997}\n",
      "Epoch 7/20\n"
     ]
    },
    {
     "name": "stderr",
     "output_type": "stream",
     "text": [
      "100%|██████████| 476/476 [03:28<00:00,  2.29it/s]\n"
     ]
    },
    {
     "name": "stdout",
     "output_type": "stream",
     "text": [
      "{'val_loss': 1.35546434937783, 'val_accuracy': 0.6855791962174941, 'precision': 0.6892106654726547, 'recall': 0.6855791962174941, 'f1-score': 0.6728862022717425, 'macro_f1-score': 0.33030823829843453, 'balanced_accuracy': 0.34962278282344583, 'mcc': 0.5720978751365668}\n",
      "Epoch 8/20\n"
     ]
    },
    {
     "name": "stderr",
     "output_type": "stream",
     "text": [
      "100%|██████████| 476/476 [03:26<00:00,  2.30it/s]\n"
     ]
    },
    {
     "name": "stdout",
     "output_type": "stream",
     "text": [
      "{'val_loss': 1.425898865146457, 'val_accuracy': 0.693853427895981, 'precision': 0.6832293577551505, 'recall': 0.693853427895981, 'f1-score': 0.6621172851016475, 'macro_f1-score': 0.3208032755480223, 'balanced_accuracy': 0.3165269301222704, 'mcc': 0.5726915561754429}\n",
      "Epoch 9/20\n"
     ]
    },
    {
     "name": "stderr",
     "output_type": "stream",
     "text": [
      "100%|██████████| 476/476 [03:26<00:00,  2.30it/s]\n"
     ]
    },
    {
     "name": "stdout",
     "output_type": "stream",
     "text": [
      "{'val_loss': 1.4719623985155574, 'val_accuracy': 0.66548463356974, 'precision': 0.6954723371546483, 'recall': 0.66548463356974, 'f1-score': 0.6636102022195907, 'macro_f1-score': 0.3061245888272503, 'balanced_accuracy': 0.3374011418065736, 'mcc': 0.5514467180278354}\n",
      "Epoch 10/20\n"
     ]
    },
    {
     "name": "stderr",
     "output_type": "stream",
     "text": [
      "100%|██████████| 476/476 [03:27<00:00,  2.30it/s]\n"
     ]
    },
    {
     "name": "stdout",
     "output_type": "stream",
     "text": [
      "{'val_loss': 1.450733186501377, 'val_accuracy': 0.6914893617021277, 'precision': 0.6943013664995141, 'recall': 0.6914893617021277, 'f1-score': 0.6772639333677066, 'macro_f1-score': 0.37534234958728235, 'balanced_accuracy': 0.38327752422437644, 'mcc': 0.5799530487476274}\n",
      "Epoch 11/20\n"
     ]
    },
    {
     "name": "stderr",
     "output_type": "stream",
     "text": [
      "100%|██████████| 476/476 [03:27<00:00,  2.29it/s]\n"
     ]
    },
    {
     "name": "stdout",
     "output_type": "stream",
     "text": [
      "{'val_loss': 1.4418779463981681, 'val_accuracy': 0.6950354609929078, 'precision': 0.6954535780681993, 'recall': 0.6950354609929078, 'f1-score': 0.6823182172612213, 'macro_f1-score': 0.3782220117844643, 'balanced_accuracy': 0.40817162536419127, 'mcc': 0.5839054335695875}\n",
      "Epoch 12/20\n"
     ]
    },
    {
     "name": "stderr",
     "output_type": "stream",
     "text": [
      "100%|██████████| 476/476 [03:27<00:00,  2.30it/s]\n",
      "D:\\Anaconda3\\envs\\cuda\\Lib\\site-packages\\sklearn\\metrics\\_classification.py:2458: UserWarning: y_pred contains classes not in y_true\n",
      "  warnings.warn(\"y_pred contains classes not in y_true\")\n"
     ]
    },
    {
     "name": "stdout",
     "output_type": "stream",
     "text": [
      "{'val_loss': 1.535643699034205, 'val_accuracy': 0.6702127659574468, 'precision': 0.6773914207705138, 'recall': 0.6702127659574468, 'f1-score': 0.6580794319764814, 'macro_f1-score': 0.34449184039984915, 'balanced_accuracy': 0.3853333504013991, 'mcc': 0.552071240593669}\n",
      "Epoch 13/20\n"
     ]
    },
    {
     "name": "stderr",
     "output_type": "stream",
     "text": [
      "100%|██████████| 476/476 [03:26<00:00,  2.30it/s]\n",
      "D:\\Anaconda3\\envs\\cuda\\Lib\\site-packages\\sklearn\\metrics\\_classification.py:2458: UserWarning: y_pred contains classes not in y_true\n",
      "  warnings.warn(\"y_pred contains classes not in y_true\")\n"
     ]
    },
    {
     "name": "stdout",
     "output_type": "stream",
     "text": [
      "{'val_loss': 1.5659029638429858, 'val_accuracy': 0.6737588652482269, 'precision': 0.6778336967157331, 'recall': 0.6737588652482269, 'f1-score': 0.6638323901134778, 'macro_f1-score': 0.3752792762254051, 'balanced_accuracy': 0.3725837747096582, 'mcc': 0.5575963186397936}\n",
      "Epoch 14/20\n"
     ]
    },
    {
     "name": "stderr",
     "output_type": "stream",
     "text": [
      "100%|██████████| 476/476 [03:26<00:00,  2.31it/s]\n",
      "D:\\Anaconda3\\envs\\cuda\\Lib\\site-packages\\sklearn\\metrics\\_classification.py:2458: UserWarning: y_pred contains classes not in y_true\n",
      "  warnings.warn(\"y_pred contains classes not in y_true\")\n"
     ]
    },
    {
     "name": "stdout",
     "output_type": "stream",
     "text": [
      "{'val_loss': 1.7093745301354606, 'val_accuracy': 0.66548463356974, 'precision': 0.6814977884082185, 'recall': 0.66548463356974, 'f1-score': 0.6593201200532626, 'macro_f1-score': 0.33837665891210156, 'balanced_accuracy': 0.3470370958279974, 'mcc': 0.5496506795600015}\n",
      "Early stopping triggered at epoch 14\n",
      "Fold 4\n",
      "Training set label distribution: {0: 3572, 1: 29, 2: 131, 3: 29, 4: 220, 5: 128, 6: 107, 7: 34, 8: 80, 9: 68, 10: 76, 11: 194, 12: 221, 13: 32, 14: 25, 15: 28, 16: 23, 17: 256, 18: 101, 19: 51, 20: 17, 21: 40, 22: 94, 23: 182, 24: 18, 25: 54, 26: 98, 27: 57, 28: 14, 29: 15, 30: 16, 31: 92, 32: 39, 33: 38, 34: 33, 35: 15, 36: 33, 37: 26, 38: 7, 39: 115, 40: 13, 41: 11, 42: 166, 43: 19, 44: 22, 45: 10, 46: 60, 47: 591, 48: 231, 49: 77}\n",
      "Validation set label distribution: {0: 402, 1: 2, 2: 9, 3: 1, 4: 37, 5: 17, 6: 11, 7: 5, 8: 5, 9: 13, 10: 12, 11: 21, 12: 20, 13: 4, 14: 4, 15: 3, 16: 2, 17: 33, 18: 15, 19: 5, 20: 1, 21: 4, 22: 3, 23: 18, 24: 2, 25: 9, 26: 9, 27: 4, 28: 1, 29: 1, 30: 3, 31: 8, 32: 6, 33: 2, 34: 4, 36: 2, 37: 1, 39: 14, 40: 1, 42: 18, 43: 1, 44: 3, 45: 1, 46: 8, 47: 70, 48: 21, 49: 10}\n"
     ]
    },
    {
     "name": "stderr",
     "output_type": "stream",
     "text": [
      "Some weights of RobertaForSequenceClassification were not initialized from the model checkpoint at roberta-base and are newly initialized: ['classifier.dense.bias', 'classifier.dense.weight', 'classifier.out_proj.bias', 'classifier.out_proj.weight']\n",
      "You should probably TRAIN this model on a down-stream task to be able to use it for predictions and inference.\n"
     ]
    },
    {
     "name": "stdout",
     "output_type": "stream",
     "text": [
      "Epoch 1/20\n"
     ]
    },
    {
     "name": "stderr",
     "output_type": "stream",
     "text": [
      "100%|██████████| 476/476 [03:26<00:00,  2.30it/s]\n"
     ]
    },
    {
     "name": "stdout",
     "output_type": "stream",
     "text": [
      "{'val_loss': 1.5093125262350406, 'val_accuracy': 0.6312056737588653, 'precision': 0.5066855373601105, 'recall': 0.6312056737588653, 'f1-score': 0.5487968866413184, 'macro_f1-score': 0.13130896152580673, 'balanced_accuracy': 0.13476225946898243, 'mcc': 0.4690429676137686}\n",
      "Epoch 2/20\n"
     ]
    },
    {
     "name": "stderr",
     "output_type": "stream",
     "text": [
      "100%|██████████| 476/476 [03:27<00:00,  2.30it/s]\n"
     ]
    },
    {
     "name": "stdout",
     "output_type": "stream",
     "text": [
      "{'val_loss': 1.348743163752106, 'val_accuracy': 0.6430260047281324, 'precision': 0.5895425415307828, 'recall': 0.6430260047281324, 'f1-score': 0.598090789063802, 'macro_f1-score': 0.17925719863976064, 'balanced_accuracy': 0.19120476137082715, 'mcc': 0.5108371632452119}\n",
      "Epoch 3/20\n"
     ]
    },
    {
     "name": "stderr",
     "output_type": "stream",
     "text": [
      "100%|██████████| 476/476 [03:25<00:00,  2.31it/s]\n"
     ]
    },
    {
     "name": "stdout",
     "output_type": "stream",
     "text": [
      "{'val_loss': 1.323977140885479, 'val_accuracy': 0.6288416075650118, 'precision': 0.6100370846559753, 'recall': 0.6288416075650118, 'f1-score': 0.6103558994695144, 'macro_f1-score': 0.20669031922077533, 'balanced_accuracy': 0.2362613391586175, 'mcc': 0.513336166351988}\n",
      "Epoch 4/20\n"
     ]
    },
    {
     "name": "stderr",
     "output_type": "stream",
     "text": [
      "100%|██████████| 476/476 [03:26<00:00,  2.31it/s]\n"
     ]
    },
    {
     "name": "stdout",
     "output_type": "stream",
     "text": [
      "{'val_loss': 1.203543171005429, 'val_accuracy': 0.682033096926714, 'precision': 0.6610092146405824, 'recall': 0.682033096926714, 'f1-score': 0.6525072162637175, 'macro_f1-score': 0.29351374858999346, 'balanced_accuracy': 0.29272200833761, 'mcc': 0.5631446439672564}\n",
      "Epoch 5/20\n"
     ]
    },
    {
     "name": "stderr",
     "output_type": "stream",
     "text": [
      "100%|██████████| 476/476 [03:27<00:00,  2.30it/s]\n"
     ]
    },
    {
     "name": "stdout",
     "output_type": "stream",
     "text": [
      "{'val_loss': 1.3321892869360041, 'val_accuracy': 0.6761229314420804, 'precision': 0.6626361185725479, 'recall': 0.6761229314420804, 'f1-score': 0.6461322551187432, 'macro_f1-score': 0.31173013515487485, 'balanced_accuracy': 0.31743998388264544, 'mcc': 0.5556581161320022}\n",
      "Epoch 6/20\n"
     ]
    },
    {
     "name": "stderr",
     "output_type": "stream",
     "text": [
      "100%|██████████| 476/476 [03:27<00:00,  2.29it/s]\n"
     ]
    },
    {
     "name": "stdout",
     "output_type": "stream",
     "text": [
      "{'val_loss': 1.363829514046885, 'val_accuracy': 0.6773049645390071, 'precision': 0.6720331362937184, 'recall': 0.6773049645390071, 'f1-score': 0.6587654872666131, 'macro_f1-score': 0.32514708193131725, 'balanced_accuracy': 0.32650828915329316, 'mcc': 0.5654305195963848}\n",
      "Epoch 7/20\n"
     ]
    },
    {
     "name": "stderr",
     "output_type": "stream",
     "text": [
      "100%|██████████| 476/476 [03:27<00:00,  2.30it/s]\n"
     ]
    },
    {
     "name": "stdout",
     "output_type": "stream",
     "text": [
      "{'val_loss': 1.4428255889775619, 'val_accuracy': 0.6430260047281324, 'precision': 0.6698259709591811, 'recall': 0.6430260047281324, 'f1-score': 0.6447164639391675, 'macro_f1-score': 0.35438691617360746, 'balanced_accuracy': 0.3768481090390007, 'mcc': 0.5340333298494515}\n",
      "Epoch 8/20\n"
     ]
    },
    {
     "name": "stderr",
     "output_type": "stream",
     "text": [
      "100%|██████████| 476/476 [03:27<00:00,  2.30it/s]\n"
     ]
    },
    {
     "name": "stdout",
     "output_type": "stream",
     "text": [
      "{'val_loss': 1.377001387330721, 'val_accuracy': 0.6761229314420804, 'precision': 0.6886816275483365, 'recall': 0.6761229314420804, 'f1-score': 0.6669026371313378, 'macro_f1-score': 0.37772734550450854, 'balanced_accuracy': 0.39016454555607977, 'mcc': 0.5640803381058637}\n",
      "Epoch 9/20\n"
     ]
    },
    {
     "name": "stderr",
     "output_type": "stream",
     "text": [
      "100%|██████████| 476/476 [03:27<00:00,  2.30it/s]\n",
      "D:\\Anaconda3\\envs\\cuda\\Lib\\site-packages\\sklearn\\metrics\\_classification.py:2458: UserWarning: y_pred contains classes not in y_true\n",
      "  warnings.warn(\"y_pred contains classes not in y_true\")\n"
     ]
    },
    {
     "name": "stdout",
     "output_type": "stream",
     "text": [
      "{'val_loss': 1.4958161396800347, 'val_accuracy': 0.6784869976359338, 'precision': 0.6923957445829684, 'recall': 0.6784869976359338, 'f1-score': 0.6681303274582897, 'macro_f1-score': 0.3348795593177773, 'balanced_accuracy': 0.36391337665224804, 'mcc': 0.5717839098731955}\n",
      "Epoch 10/20\n"
     ]
    },
    {
     "name": "stderr",
     "output_type": "stream",
     "text": [
      "100%|██████████| 476/476 [03:26<00:00,  2.30it/s]\n",
      "D:\\Anaconda3\\envs\\cuda\\Lib\\site-packages\\sklearn\\metrics\\_classification.py:2458: UserWarning: y_pred contains classes not in y_true\n",
      "  warnings.warn(\"y_pred contains classes not in y_true\")\n"
     ]
    },
    {
     "name": "stdout",
     "output_type": "stream",
     "text": [
      "{'val_loss': 1.488669312787506, 'val_accuracy': 0.6843971631205674, 'precision': 0.6817894559902332, 'recall': 0.6843971631205674, 'f1-score': 0.6744971033025997, 'macro_f1-score': 0.39109854424655194, 'balanced_accuracy': 0.43112832578209076, 'mcc': 0.5761971553492994}\n",
      "Epoch 11/20\n"
     ]
    },
    {
     "name": "stderr",
     "output_type": "stream",
     "text": [
      "100%|██████████| 476/476 [03:26<00:00,  2.30it/s]\n"
     ]
    },
    {
     "name": "stdout",
     "output_type": "stream",
     "text": [
      "{'val_loss': 1.561150849990125, 'val_accuracy': 0.682033096926714, 'precision': 0.6927735050022812, 'recall': 0.682033096926714, 'f1-score': 0.6771164216413822, 'macro_f1-score': 0.40257627447178895, 'balanced_accuracy': 0.4379202588139131, 'mcc': 0.5803408065813797}\n",
      "Epoch 12/20\n"
     ]
    },
    {
     "name": "stderr",
     "output_type": "stream",
     "text": [
      "100%|██████████| 476/476 [03:27<00:00,  2.30it/s]\n",
      "D:\\Anaconda3\\envs\\cuda\\Lib\\site-packages\\sklearn\\metrics\\_classification.py:2458: UserWarning: y_pred contains classes not in y_true\n",
      "  warnings.warn(\"y_pred contains classes not in y_true\")\n"
     ]
    },
    {
     "name": "stdout",
     "output_type": "stream",
     "text": [
      "{'val_loss': 1.5475331550499178, 'val_accuracy': 0.6737588652482269, 'precision': 0.679626306966592, 'recall': 0.6737588652482269, 'f1-score': 0.6639109458207634, 'macro_f1-score': 0.3675575131629804, 'balanced_accuracy': 0.3869689700345557, 'mcc': 0.5669874364659367}\n",
      "Epoch 13/20\n"
     ]
    },
    {
     "name": "stderr",
     "output_type": "stream",
     "text": [
      "100%|██████████| 476/476 [03:27<00:00,  2.29it/s]\n",
      "D:\\Anaconda3\\envs\\cuda\\Lib\\site-packages\\sklearn\\metrics\\_classification.py:2458: UserWarning: y_pred contains classes not in y_true\n",
      "  warnings.warn(\"y_pred contains classes not in y_true\")\n"
     ]
    },
    {
     "name": "stdout",
     "output_type": "stream",
     "text": [
      "{'val_loss': 1.6881513370657868, 'val_accuracy': 0.6808510638297872, 'precision': 0.6749066886519782, 'recall': 0.6808510638297872, 'f1-score': 0.6659123527238804, 'macro_f1-score': 0.38301723615651717, 'balanced_accuracy': 0.396906380934924, 'mcc': 0.5739753248541067}\n",
      "Epoch 14/20\n"
     ]
    },
    {
     "name": "stderr",
     "output_type": "stream",
     "text": [
      "100%|██████████| 476/476 [03:26<00:00,  2.31it/s]\n",
      "D:\\Anaconda3\\envs\\cuda\\Lib\\site-packages\\sklearn\\metrics\\_classification.py:2458: UserWarning: y_pred contains classes not in y_true\n",
      "  warnings.warn(\"y_pred contains classes not in y_true\")\n"
     ]
    },
    {
     "name": "stdout",
     "output_type": "stream",
     "text": [
      "{'val_loss': 1.6591612989047788, 'val_accuracy': 0.6843971631205674, 'precision': 0.7139903914427087, 'recall': 0.6843971631205674, 'f1-score': 0.6701681203500875, 'macro_f1-score': 0.36112573136961384, 'balanced_accuracy': 0.3680201676353582, 'mcc': 0.5700060802910702}\n",
      "Early stopping triggered at epoch 14\n",
      "Fold 5\n",
      "Training set label distribution: {0: 3584, 1: 29, 2: 123, 3: 28, 4: 228, 5: 132, 6: 109, 7: 39, 8: 80, 9: 72, 10: 81, 11: 187, 12: 222, 13: 34, 14: 26, 15: 28, 16: 20, 17: 263, 18: 104, 19: 48, 20: 16, 21: 39, 22: 87, 23: 184, 24: 19, 25: 55, 26: 101, 27: 49, 28: 14, 29: 13, 30: 18, 31: 91, 32: 41, 33: 32, 34: 33, 35: 12, 36: 32, 37: 23, 38: 7, 39: 114, 40: 13, 41: 9, 42: 166, 43: 18, 44: 24, 45: 11, 46: 58, 47: 589, 48: 224, 49: 80}\n",
      "Validation set label distribution: {0: 390, 1: 2, 2: 17, 3: 2, 4: 29, 5: 13, 6: 9, 8: 5, 9: 9, 10: 7, 11: 28, 12: 19, 13: 2, 14: 3, 15: 3, 16: 5, 17: 26, 18: 12, 19: 8, 20: 2, 21: 5, 22: 10, 23: 16, 24: 1, 25: 8, 26: 6, 27: 12, 28: 1, 29: 3, 30: 1, 31: 9, 32: 4, 33: 8, 34: 4, 35: 3, 36: 3, 37: 4, 39: 15, 40: 1, 41: 2, 42: 18, 43: 2, 44: 1, 46: 10, 47: 72, 48: 28, 49: 7}\n"
     ]
    },
    {
     "name": "stderr",
     "output_type": "stream",
     "text": [
      "Some weights of RobertaForSequenceClassification were not initialized from the model checkpoint at roberta-base and are newly initialized: ['classifier.dense.bias', 'classifier.dense.weight', 'classifier.out_proj.bias', 'classifier.out_proj.weight']\n",
      "You should probably TRAIN this model on a down-stream task to be able to use it for predictions and inference.\n"
     ]
    },
    {
     "name": "stdout",
     "output_type": "stream",
     "text": [
      "Epoch 1/20\n"
     ]
    },
    {
     "name": "stderr",
     "output_type": "stream",
     "text": [
      "100%|██████████| 476/476 [03:27<00:00,  2.29it/s]\n"
     ]
    },
    {
     "name": "stdout",
     "output_type": "stream",
     "text": [
      "{'val_loss': 1.8281383008327123, 'val_accuracy': 0.557396449704142, 'precision': 0.41145798908546, 'recall': 0.557396449704142, 'f1-score': 0.46601596578266175, 'macro_f1-score': 0.061026934941664314, 'balanced_accuracy': 0.075289383701555, 'mcc': 0.382134833417883}\n",
      "Epoch 2/20\n"
     ]
    },
    {
     "name": "stderr",
     "output_type": "stream",
     "text": [
      "100%|██████████| 476/476 [03:26<00:00,  2.30it/s]\n"
     ]
    },
    {
     "name": "stdout",
     "output_type": "stream",
     "text": [
      "{'val_loss': 1.5351812136623095, 'val_accuracy': 0.5893491124260355, 'precision': 0.455649314158148, 'recall': 0.5893491124260355, 'f1-score': 0.5031109752872134, 'macro_f1-score': 0.1256444235943976, 'balanced_accuracy': 0.14624696005019983, 'mcc': 0.4285683235280491}\n",
      "Epoch 3/20\n"
     ]
    },
    {
     "name": "stderr",
     "output_type": "stream",
     "text": [
      "100%|██████████| 476/476 [03:27<00:00,  2.30it/s]\n"
     ]
    },
    {
     "name": "stdout",
     "output_type": "stream",
     "text": [
      "{'val_loss': 1.4500606189358909, 'val_accuracy': 0.6106508875739645, 'precision': 0.5500922053846007, 'recall': 0.6106508875739645, 'f1-score': 0.5425478100426119, 'macro_f1-score': 0.1683726983856705, 'balanced_accuracy': 0.17522860533296103, 'mcc': 0.4614084264321246}\n",
      "Epoch 4/20\n"
     ]
    },
    {
     "name": "stderr",
     "output_type": "stream",
     "text": [
      "100%|██████████| 476/476 [03:26<00:00,  2.30it/s]\n"
     ]
    },
    {
     "name": "stdout",
     "output_type": "stream",
     "text": [
      "{'val_loss': 1.3809324356744874, 'val_accuracy': 0.621301775147929, 'precision': 0.5785288151442746, 'recall': 0.621301775147929, 'f1-score': 0.5822904840899763, 'macro_f1-score': 0.21161013827492986, 'balanced_accuracy': 0.24130290218907113, 'mcc': 0.4960035660568842}\n",
      "Epoch 5/20\n"
     ]
    },
    {
     "name": "stderr",
     "output_type": "stream",
     "text": [
      "100%|██████████| 476/476 [03:27<00:00,  2.29it/s]\n",
      "D:\\Anaconda3\\envs\\cuda\\Lib\\site-packages\\sklearn\\metrics\\_classification.py:2458: UserWarning: y_pred contains classes not in y_true\n",
      "  warnings.warn(\"y_pred contains classes not in y_true\")\n"
     ]
    },
    {
     "name": "stdout",
     "output_type": "stream",
     "text": [
      "{'val_loss': 1.3149606776687335, 'val_accuracy': 0.6449704142011834, 'precision': 0.6545763109334438, 'recall': 0.6449704142011834, 'f1-score': 0.6247311980719583, 'macro_f1-score': 0.2743479956030052, 'balanced_accuracy': 0.2939406108746357, 'mcc': 0.534729396861508}\n",
      "Epoch 6/20\n"
     ]
    },
    {
     "name": "stderr",
     "output_type": "stream",
     "text": [
      "100%|██████████| 476/476 [03:27<00:00,  2.30it/s]\n",
      "D:\\Anaconda3\\envs\\cuda\\Lib\\site-packages\\sklearn\\metrics\\_classification.py:2458: UserWarning: y_pred contains classes not in y_true\n",
      "  warnings.warn(\"y_pred contains classes not in y_true\")\n"
     ]
    },
    {
     "name": "stdout",
     "output_type": "stream",
     "text": [
      "{'val_loss': 1.3538195299652387, 'val_accuracy': 0.642603550295858, 'precision': 0.6451076915783455, 'recall': 0.642603550295858, 'f1-score': 0.6216120752441944, 'macro_f1-score': 0.276718857267872, 'balanced_accuracy': 0.3081845819736195, 'mcc': 0.5401489632588529}\n",
      "Epoch 7/20\n"
     ]
    },
    {
     "name": "stderr",
     "output_type": "stream",
     "text": [
      "100%|██████████| 476/476 [03:27<00:00,  2.29it/s]\n",
      "D:\\Anaconda3\\envs\\cuda\\Lib\\site-packages\\sklearn\\metrics\\_classification.py:2458: UserWarning: y_pred contains classes not in y_true\n",
      "  warnings.warn(\"y_pred contains classes not in y_true\")\n"
     ]
    },
    {
     "name": "stdout",
     "output_type": "stream",
     "text": [
      "{'val_loss': 1.412417783489767, 'val_accuracy': 0.6662721893491125, 'precision': 0.6439594044923436, 'recall': 0.6662721893491125, 'f1-score': 0.6299238201842777, 'macro_f1-score': 0.29423342161542165, 'balanced_accuracy': 0.2979812539818355, 'mcc': 0.5503241752789816}\n",
      "Epoch 8/20\n"
     ]
    },
    {
     "name": "stderr",
     "output_type": "stream",
     "text": [
      "100%|██████████| 476/476 [03:26<00:00,  2.30it/s]\n",
      "D:\\Anaconda3\\envs\\cuda\\Lib\\site-packages\\sklearn\\metrics\\_classification.py:2458: UserWarning: y_pred contains classes not in y_true\n",
      "  warnings.warn(\"y_pred contains classes not in y_true\")\n"
     ]
    },
    {
     "name": "stdout",
     "output_type": "stream",
     "text": [
      "{'val_loss': 1.3941029211822547, 'val_accuracy': 0.6520710059171597, 'precision': 0.6818843955858652, 'recall': 0.6520710059171597, 'f1-score': 0.6472694324957864, 'macro_f1-score': 0.3335245642208695, 'balanced_accuracy': 0.3610986589851108, 'mcc': 0.5482455557488644}\n",
      "Epoch 9/20\n"
     ]
    },
    {
     "name": "stderr",
     "output_type": "stream",
     "text": [
      "100%|██████████| 476/476 [03:26<00:00,  2.31it/s]\n",
      "D:\\Anaconda3\\envs\\cuda\\Lib\\site-packages\\sklearn\\metrics\\_classification.py:2458: UserWarning: y_pred contains classes not in y_true\n",
      "  warnings.warn(\"y_pred contains classes not in y_true\")\n"
     ]
    },
    {
     "name": "stdout",
     "output_type": "stream",
     "text": [
      "{'val_loss': 1.4378832258143515, 'val_accuracy': 0.6473372781065089, 'precision': 0.6547080526162061, 'recall': 0.6473372781065089, 'f1-score': 0.6364315014744859, 'macro_f1-score': 0.3218584965938133, 'balanced_accuracy': 0.3656803341970997, 'mcc': 0.5465058329633736}\n",
      "Epoch 10/20\n"
     ]
    },
    {
     "name": "stderr",
     "output_type": "stream",
     "text": [
      "100%|██████████| 476/476 [03:26<00:00,  2.30it/s]\n",
      "D:\\Anaconda3\\envs\\cuda\\Lib\\site-packages\\sklearn\\metrics\\_classification.py:2458: UserWarning: y_pred contains classes not in y_true\n",
      "  warnings.warn(\"y_pred contains classes not in y_true\")\n"
     ]
    },
    {
     "name": "stdout",
     "output_type": "stream",
     "text": [
      "{'val_loss': 1.5344415245191105, 'val_accuracy': 0.6674556213017752, 'precision': 0.6707174841901457, 'recall': 0.6674556213017752, 'f1-score': 0.6534886530193783, 'macro_f1-score': 0.3401850178786101, 'balanced_accuracy': 0.35874647123258707, 'mcc': 0.5658570395177626}\n",
      "Epoch 11/20\n"
     ]
    },
    {
     "name": "stderr",
     "output_type": "stream",
     "text": [
      "100%|██████████| 476/476 [03:26<00:00,  2.31it/s]\n",
      "D:\\Anaconda3\\envs\\cuda\\Lib\\site-packages\\sklearn\\metrics\\_classification.py:2458: UserWarning: y_pred contains classes not in y_true\n",
      "  warnings.warn(\"y_pred contains classes not in y_true\")\n"
     ]
    },
    {
     "name": "stdout",
     "output_type": "stream",
     "text": [
      "{'val_loss': 1.5491756262644283, 'val_accuracy': 0.6686390532544378, 'precision': 0.6582332402219301, 'recall': 0.6686390532544378, 'f1-score': 0.6513937029959396, 'macro_f1-score': 0.34313297546943683, 'balanced_accuracy': 0.35505662922922815, 'mcc': 0.5628639169746048}\n",
      "Epoch 12/20\n"
     ]
    },
    {
     "name": "stderr",
     "output_type": "stream",
     "text": [
      "100%|██████████| 476/476 [03:26<00:00,  2.30it/s]\n",
      "D:\\Anaconda3\\envs\\cuda\\Lib\\site-packages\\sklearn\\metrics\\_classification.py:2458: UserWarning: y_pred contains classes not in y_true\n",
      "  warnings.warn(\"y_pred contains classes not in y_true\")\n"
     ]
    },
    {
     "name": "stdout",
     "output_type": "stream",
     "text": [
      "{'val_loss': 1.5507889963545889, 'val_accuracy': 0.6532544378698225, 'precision': 0.6934521379107198, 'recall': 0.6532544378698225, 'f1-score': 0.6541829887957623, 'macro_f1-score': 0.36723052338939305, 'balanced_accuracy': 0.3741862374470285, 'mcc': 0.5519532033625119}\n",
      "Epoch 13/20\n"
     ]
    },
    {
     "name": "stderr",
     "output_type": "stream",
     "text": [
      "100%|██████████| 476/476 [03:26<00:00,  2.30it/s]\n",
      "D:\\Anaconda3\\envs\\cuda\\Lib\\site-packages\\sklearn\\metrics\\_classification.py:2458: UserWarning: y_pred contains classes not in y_true\n",
      "  warnings.warn(\"y_pred contains classes not in y_true\")\n"
     ]
    },
    {
     "name": "stdout",
     "output_type": "stream",
     "text": [
      "{'val_loss': 1.6342530138087723, 'val_accuracy': 0.6520710059171597, 'precision': 0.6757828152987807, 'recall': 0.6520710059171597, 'f1-score': 0.6524492302149579, 'macro_f1-score': 0.3487921902746571, 'balanced_accuracy': 0.37025741833699943, 'mcc': 0.5559650838149416}\n",
      "Epoch 14/20\n"
     ]
    },
    {
     "name": "stderr",
     "output_type": "stream",
     "text": [
      "100%|██████████| 476/476 [03:24<00:00,  2.33it/s]\n",
      "D:\\Anaconda3\\envs\\cuda\\Lib\\site-packages\\sklearn\\metrics\\_classification.py:2458: UserWarning: y_pred contains classes not in y_true\n",
      "  warnings.warn(\"y_pred contains classes not in y_true\")\n"
     ]
    },
    {
     "name": "stdout",
     "output_type": "stream",
     "text": [
      "{'val_loss': 1.7682829071890633, 'val_accuracy': 0.6402366863905326, 'precision': 0.6639140753573768, 'recall': 0.6402366863905326, 'f1-score': 0.6350484310252836, 'macro_f1-score': 0.3303042887720835, 'balanced_accuracy': 0.3614207821996483, 'mcc': 0.5332560402857127}\n",
      "Epoch 15/20\n"
     ]
    },
    {
     "name": "stderr",
     "output_type": "stream",
     "text": [
      "100%|██████████| 476/476 [03:23<00:00,  2.33it/s]\n",
      "D:\\Anaconda3\\envs\\cuda\\Lib\\site-packages\\sklearn\\metrics\\_classification.py:2458: UserWarning: y_pred contains classes not in y_true\n",
      "  warnings.warn(\"y_pred contains classes not in y_true\")\n"
     ]
    },
    {
     "name": "stdout",
     "output_type": "stream",
     "text": [
      "{'val_loss': 1.7105112654982872, 'val_accuracy': 0.6662721893491125, 'precision': 0.6756445407601316, 'recall': 0.6662721893491125, 'f1-score': 0.6558727052416492, 'macro_f1-score': 0.3741778222595851, 'balanced_accuracy': 0.3979930806639669, 'mcc': 0.5651402437046503}\n",
      "Epoch 16/20\n"
     ]
    },
    {
     "name": "stderr",
     "output_type": "stream",
     "text": [
      "100%|██████████| 476/476 [03:23<00:00,  2.34it/s]\n",
      "D:\\Anaconda3\\envs\\cuda\\Lib\\site-packages\\sklearn\\metrics\\_classification.py:2458: UserWarning: y_pred contains classes not in y_true\n",
      "  warnings.warn(\"y_pred contains classes not in y_true\")\n"
     ]
    },
    {
     "name": "stdout",
     "output_type": "stream",
     "text": [
      "{'val_loss': 1.681247963095611, 'val_accuracy': 0.6449704142011834, 'precision': 0.6646876213685619, 'recall': 0.6449704142011834, 'f1-score': 0.6364273830326159, 'macro_f1-score': 0.3252382635372082, 'balanced_accuracy': 0.34203603732759397, 'mcc': 0.5345498065689154}\n",
      "Epoch 17/20\n"
     ]
    },
    {
     "name": "stderr",
     "output_type": "stream",
     "text": [
      "100%|██████████| 476/476 [03:24<00:00,  2.33it/s]\n",
      "D:\\Anaconda3\\envs\\cuda\\Lib\\site-packages\\sklearn\\metrics\\_classification.py:2458: UserWarning: y_pred contains classes not in y_true\n",
      "  warnings.warn(\"y_pred contains classes not in y_true\")\n"
     ]
    },
    {
     "name": "stdout",
     "output_type": "stream",
     "text": [
      "{'val_loss': 1.661558339618287, 'val_accuracy': 0.672189349112426, 'precision': 0.6643322544973113, 'recall': 0.672189349112426, 'f1-score': 0.6569721167738082, 'macro_f1-score': 0.38009883413470225, 'balanced_accuracy': 0.3803040494294478, 'mcc': 0.5676805393824609}\n",
      "Epoch 18/20\n"
     ]
    },
    {
     "name": "stderr",
     "output_type": "stream",
     "text": [
      "100%|██████████| 476/476 [03:26<00:00,  2.31it/s]\n",
      "D:\\Anaconda3\\envs\\cuda\\Lib\\site-packages\\sklearn\\metrics\\_classification.py:2458: UserWarning: y_pred contains classes not in y_true\n",
      "  warnings.warn(\"y_pred contains classes not in y_true\")\n"
     ]
    },
    {
     "name": "stdout",
     "output_type": "stream",
     "text": [
      "{'val_loss': 1.6987025681531653, 'val_accuracy': 0.6745562130177515, 'precision': 0.6692181308923983, 'recall': 0.6745562130177515, 'f1-score': 0.6588284182000322, 'macro_f1-score': 0.353636845575139, 'balanced_accuracy': 0.37432437498164506, 'mcc': 0.5701168132483981}\n",
      "Epoch 19/20\n"
     ]
    },
    {
     "name": "stderr",
     "output_type": "stream",
     "text": [
      "100%|██████████| 476/476 [03:26<00:00,  2.30it/s]\n",
      "D:\\Anaconda3\\envs\\cuda\\Lib\\site-packages\\sklearn\\metrics\\_classification.py:2458: UserWarning: y_pred contains classes not in y_true\n",
      "  warnings.warn(\"y_pred contains classes not in y_true\")\n"
     ]
    },
    {
     "name": "stdout",
     "output_type": "stream",
     "text": [
      "{'val_loss': 1.8473633069474742, 'val_accuracy': 0.659171597633136, 'precision': 0.6630409332075884, 'recall': 0.659171597633136, 'f1-score': 0.6320516129005913, 'macro_f1-score': 0.35375483960772575, 'balanced_accuracy': 0.34999369071666797, 'mcc': 0.5448306827211052}\n",
      "Epoch 20/20\n"
     ]
    },
    {
     "name": "stderr",
     "output_type": "stream",
     "text": [
      "100%|██████████| 476/476 [03:27<00:00,  2.29it/s]\n",
      "D:\\Anaconda3\\envs\\cuda\\Lib\\site-packages\\sklearn\\metrics\\_classification.py:2458: UserWarning: y_pred contains classes not in y_true\n",
      "  warnings.warn(\"y_pred contains classes not in y_true\")\n"
     ]
    },
    {
     "name": "stdout",
     "output_type": "stream",
     "text": [
      "{'val_loss': 1.7920278968676082, 'val_accuracy': 0.6710059171597633, 'precision': 0.6956220612727222, 'recall': 0.6710059171597633, 'f1-score': 0.6593396357285219, 'macro_f1-score': 0.3868408505044931, 'balanced_accuracy': 0.43553761021509385, 'mcc': 0.5755067400461286}\n",
      "Fold 6\n",
      "Training set label distribution: {0: 3585, 1: 25, 2: 126, 3: 26, 4: 228, 5: 128, 6: 104, 7: 35, 8: 76, 9: 76, 10: 80, 11: 185, 12: 218, 13: 31, 14: 24, 15: 28, 16: 23, 17: 261, 18: 104, 19: 51, 20: 17, 21: 40, 22: 88, 23: 180, 24: 19, 25: 59, 26: 95, 27: 54, 28: 15, 29: 16, 30: 17, 31: 85, 32: 40, 33: 35, 34: 33, 35: 15, 36: 34, 37: 24, 38: 7, 39: 116, 40: 14, 41: 7, 42: 171, 43: 20, 44: 25, 45: 10, 46: 59, 47: 591, 48: 229, 49: 80}\n",
      "Validation set label distribution: {0: 389, 1: 6, 2: 14, 3: 4, 4: 29, 5: 17, 6: 14, 7: 4, 8: 9, 9: 5, 10: 8, 11: 30, 12: 23, 13: 5, 14: 5, 15: 3, 16: 2, 17: 28, 18: 12, 19: 5, 20: 1, 21: 4, 22: 9, 23: 20, 24: 1, 25: 4, 26: 12, 27: 7, 30: 2, 31: 15, 32: 5, 33: 5, 34: 4, 36: 1, 37: 3, 39: 13, 41: 4, 42: 13, 45: 1, 46: 9, 47: 70, 48: 23, 49: 7}\n"
     ]
    },
    {
     "name": "stderr",
     "output_type": "stream",
     "text": [
      "Some weights of RobertaForSequenceClassification were not initialized from the model checkpoint at roberta-base and are newly initialized: ['classifier.dense.bias', 'classifier.dense.weight', 'classifier.out_proj.bias', 'classifier.out_proj.weight']\n",
      "You should probably TRAIN this model on a down-stream task to be able to use it for predictions and inference.\n"
     ]
    },
    {
     "name": "stdout",
     "output_type": "stream",
     "text": [
      "Epoch 1/20\n"
     ]
    },
    {
     "name": "stderr",
     "output_type": "stream",
     "text": [
      "100%|██████████| 476/476 [03:27<00:00,  2.29it/s]\n"
     ]
    },
    {
     "name": "stdout",
     "output_type": "stream",
     "text": [
      "{'val_loss': 1.683517354839253, 'val_accuracy': 0.5739644970414202, 'precision': 0.42611341415401, 'recall': 0.5739644970414202, 'f1-score': 0.47177453390933966, 'macro_f1-score': 0.117284490605284, 'balanced_accuracy': 0.12535618398443396, 'mcc': 0.38560460464523294}\n",
      "Epoch 2/20\n"
     ]
    },
    {
     "name": "stderr",
     "output_type": "stream",
     "text": [
      "100%|██████████| 476/476 [03:26<00:00,  2.31it/s]\n"
     ]
    },
    {
     "name": "stdout",
     "output_type": "stream",
     "text": [
      "{'val_loss': 1.424703816197953, 'val_accuracy': 0.6272189349112426, 'precision': 0.5443361335408374, 'recall': 0.6272189349112426, 'f1-score': 0.569365479736785, 'macro_f1-score': 0.2148230332723455, 'balanced_accuracy': 0.2311480579068907, 'mcc': 0.49725315917576907}\n",
      "Epoch 3/20\n"
     ]
    },
    {
     "name": "stderr",
     "output_type": "stream",
     "text": [
      "100%|██████████| 476/476 [03:25<00:00,  2.31it/s]\n",
      "D:\\Anaconda3\\envs\\cuda\\Lib\\site-packages\\sklearn\\metrics\\_classification.py:2458: UserWarning: y_pred contains classes not in y_true\n",
      "  warnings.warn(\"y_pred contains classes not in y_true\")\n"
     ]
    },
    {
     "name": "stdout",
     "output_type": "stream",
     "text": [
      "{'val_loss': 1.3353612569143187, 'val_accuracy': 0.6414201183431952, 'precision': 0.6088833409399766, 'recall': 0.6414201183431952, 'f1-score': 0.6144302572615236, 'macro_f1-score': 0.2818690373388288, 'balanced_accuracy': 0.31668427282625206, 'mcc': 0.534132402638936}\n",
      "Epoch 4/20\n"
     ]
    },
    {
     "name": "stderr",
     "output_type": "stream",
     "text": [
      "100%|██████████| 476/476 [03:26<00:00,  2.31it/s]\n",
      "D:\\Anaconda3\\envs\\cuda\\Lib\\site-packages\\sklearn\\metrics\\_classification.py:2458: UserWarning: y_pred contains classes not in y_true\n",
      "  warnings.warn(\"y_pred contains classes not in y_true\")\n"
     ]
    },
    {
     "name": "stdout",
     "output_type": "stream",
     "text": [
      "{'val_loss': 1.313877693324719, 'val_accuracy': 0.6544378698224852, 'precision': 0.6136990702126284, 'recall': 0.6544378698224852, 'f1-score': 0.6199705268309108, 'macro_f1-score': 0.2993931208910287, 'balanced_accuracy': 0.33315420735905404, 'mcc': 0.5421721859382652}\n",
      "Epoch 5/20\n"
     ]
    },
    {
     "name": "stderr",
     "output_type": "stream",
     "text": [
      "100%|██████████| 476/476 [03:27<00:00,  2.30it/s]\n",
      "D:\\Anaconda3\\envs\\cuda\\Lib\\site-packages\\sklearn\\metrics\\_classification.py:2458: UserWarning: y_pred contains classes not in y_true\n",
      "  warnings.warn(\"y_pred contains classes not in y_true\")\n"
     ]
    },
    {
     "name": "stdout",
     "output_type": "stream",
     "text": [
      "{'val_loss': 1.344754471531454, 'val_accuracy': 0.6402366863905326, 'precision': 0.6332972423433305, 'recall': 0.6402366863905326, 'f1-score': 0.6252636482624417, 'macro_f1-score': 0.3124492949046876, 'balanced_accuracy': 0.3590060927363618, 'mcc': 0.542505715493616}\n",
      "Epoch 6/20\n"
     ]
    },
    {
     "name": "stderr",
     "output_type": "stream",
     "text": [
      "100%|██████████| 476/476 [03:27<00:00,  2.30it/s]\n",
      "D:\\Anaconda3\\envs\\cuda\\Lib\\site-packages\\sklearn\\metrics\\_classification.py:2458: UserWarning: y_pred contains classes not in y_true\n",
      "  warnings.warn(\"y_pred contains classes not in y_true\")\n"
     ]
    },
    {
     "name": "stdout",
     "output_type": "stream",
     "text": [
      "{'val_loss': 1.3755208332583588, 'val_accuracy': 0.650887573964497, 'precision': 0.66092089598393, 'recall': 0.650887573964497, 'f1-score': 0.6413008104409694, 'macro_f1-score': 0.35082518263314033, 'balanced_accuracy': 0.375294906928503, 'mcc': 0.5478557779568264}\n",
      "Epoch 7/20\n"
     ]
    },
    {
     "name": "stderr",
     "output_type": "stream",
     "text": [
      "100%|██████████| 476/476 [03:27<00:00,  2.30it/s]\n",
      "D:\\Anaconda3\\envs\\cuda\\Lib\\site-packages\\sklearn\\metrics\\_classification.py:2458: UserWarning: y_pred contains classes not in y_true\n",
      "  warnings.warn(\"y_pred contains classes not in y_true\")\n"
     ]
    },
    {
     "name": "stdout",
     "output_type": "stream",
     "text": [
      "{'val_loss': 1.4637535939801414, 'val_accuracy': 0.6568047337278107, 'precision': 0.6416354782626972, 'recall': 0.6568047337278107, 'f1-score': 0.6390178532900581, 'macro_f1-score': 0.3279006242124473, 'balanced_accuracy': 0.36565198854641723, 'mcc': 0.5552904811800929}\n",
      "Epoch 8/20\n"
     ]
    },
    {
     "name": "stderr",
     "output_type": "stream",
     "text": [
      "100%|██████████| 476/476 [03:26<00:00,  2.30it/s]\n",
      "D:\\Anaconda3\\envs\\cuda\\Lib\\site-packages\\sklearn\\metrics\\_classification.py:2458: UserWarning: y_pred contains classes not in y_true\n",
      "  warnings.warn(\"y_pred contains classes not in y_true\")\n"
     ]
    },
    {
     "name": "stdout",
     "output_type": "stream",
     "text": [
      "{'val_loss': 1.5004111056057912, 'val_accuracy': 0.6603550295857988, 'precision': 0.6764959816814894, 'recall': 0.6603550295857988, 'f1-score': 0.6541946497934648, 'macro_f1-score': 0.370020459342916, 'balanced_accuracy': 0.424640894923239, 'mcc': 0.568959858667591}\n",
      "Epoch 9/20\n"
     ]
    },
    {
     "name": "stderr",
     "output_type": "stream",
     "text": [
      "100%|██████████| 476/476 [03:27<00:00,  2.30it/s]\n",
      "D:\\Anaconda3\\envs\\cuda\\Lib\\site-packages\\sklearn\\metrics\\_classification.py:2458: UserWarning: y_pred contains classes not in y_true\n",
      "  warnings.warn(\"y_pred contains classes not in y_true\")\n"
     ]
    },
    {
     "name": "stdout",
     "output_type": "stream",
     "text": [
      "{'val_loss': 1.5548174010132843, 'val_accuracy': 0.6662721893491125, 'precision': 0.6741185955418818, 'recall': 0.6662721893491125, 'f1-score': 0.6489236309125308, 'macro_f1-score': 0.39195991444066763, 'balanced_accuracy': 0.39689819019349687, 'mcc': 0.5622638889355283}\n",
      "Epoch 10/20\n"
     ]
    },
    {
     "name": "stderr",
     "output_type": "stream",
     "text": [
      "100%|██████████| 476/476 [03:27<00:00,  2.29it/s]\n",
      "D:\\Anaconda3\\envs\\cuda\\Lib\\site-packages\\sklearn\\metrics\\_classification.py:2458: UserWarning: y_pred contains classes not in y_true\n",
      "  warnings.warn(\"y_pred contains classes not in y_true\")\n"
     ]
    },
    {
     "name": "stdout",
     "output_type": "stream",
     "text": [
      "{'val_loss': 1.5908513384045295, 'val_accuracy': 0.6520710059171597, 'precision': 0.6524299647639257, 'recall': 0.6520710059171597, 'f1-score': 0.6392232439012655, 'macro_f1-score': 0.34750352510534716, 'balanced_accuracy': 0.37159743927797584, 'mcc': 0.5481243287648918}\n",
      "Epoch 11/20\n"
     ]
    },
    {
     "name": "stderr",
     "output_type": "stream",
     "text": [
      "100%|██████████| 476/476 [03:27<00:00,  2.29it/s]\n",
      "D:\\Anaconda3\\envs\\cuda\\Lib\\site-packages\\sklearn\\metrics\\_classification.py:2458: UserWarning: y_pred contains classes not in y_true\n",
      "  warnings.warn(\"y_pred contains classes not in y_true\")\n"
     ]
    },
    {
     "name": "stdout",
     "output_type": "stream",
     "text": [
      "{'val_loss': 1.6800621992574547, 'val_accuracy': 0.663905325443787, 'precision': 0.6649149904489526, 'recall': 0.663905325443787, 'f1-score': 0.6534762963944849, 'macro_f1-score': 0.375947536326265, 'balanced_accuracy': 0.42168389666591827, 'mcc': 0.5676508738211427}\n",
      "Epoch 12/20\n"
     ]
    },
    {
     "name": "stderr",
     "output_type": "stream",
     "text": [
      "100%|██████████| 476/476 [03:26<00:00,  2.30it/s]\n",
      "D:\\Anaconda3\\envs\\cuda\\Lib\\site-packages\\sklearn\\metrics\\_classification.py:2458: UserWarning: y_pred contains classes not in y_true\n",
      "  warnings.warn(\"y_pred contains classes not in y_true\")\n"
     ]
    },
    {
     "name": "stdout",
     "output_type": "stream",
     "text": [
      "{'val_loss': 1.6929064668574423, 'val_accuracy': 0.6863905325443787, 'precision': 0.6591599626231028, 'recall': 0.6863905325443787, 'f1-score': 0.657024316759064, 'macro_f1-score': 0.320281828066105, 'balanced_accuracy': 0.35051316174266434, 'mcc': 0.583733863702964}\n",
      "Early stopping triggered at epoch 12\n",
      "Fold 7\n",
      "Training set label distribution: {0: 3551, 1: 28, 2: 126, 3: 27, 4: 229, 5: 129, 6: 109, 7: 35, 8: 81, 9: 74, 10: 79, 11: 198, 12: 223, 13: 34, 14: 27, 15: 28, 16: 24, 17: 264, 18: 103, 19: 51, 20: 15, 21: 35, 22: 88, 23: 184, 24: 17, 25: 61, 26: 96, 27: 57, 28: 15, 29: 14, 30: 19, 31: 86, 32: 43, 33: 35, 34: 35, 35: 13, 36: 28, 37: 26, 38: 7, 39: 118, 40: 14, 41: 11, 42: 158, 43: 19, 44: 23, 45: 9, 46: 63, 47: 596, 48: 224, 49: 80}\n",
      "Validation set label distribution: {0: 423, 1: 3, 2: 14, 3: 3, 4: 28, 5: 16, 6: 9, 7: 4, 8: 4, 9: 7, 10: 9, 11: 17, 12: 18, 13: 2, 14: 2, 15: 3, 16: 1, 17: 25, 18: 13, 19: 5, 20: 3, 21: 9, 22: 9, 23: 16, 24: 3, 25: 2, 26: 11, 27: 4, 29: 2, 31: 14, 32: 2, 33: 5, 34: 2, 35: 2, 36: 7, 37: 1, 39: 11, 42: 26, 43: 1, 44: 2, 45: 2, 46: 5, 47: 65, 48: 28, 49: 7}\n"
     ]
    },
    {
     "name": "stderr",
     "output_type": "stream",
     "text": [
      "Some weights of RobertaForSequenceClassification were not initialized from the model checkpoint at roberta-base and are newly initialized: ['classifier.dense.bias', 'classifier.dense.weight', 'classifier.out_proj.bias', 'classifier.out_proj.weight']\n",
      "You should probably TRAIN this model on a down-stream task to be able to use it for predictions and inference.\n"
     ]
    },
    {
     "name": "stdout",
     "output_type": "stream",
     "text": [
      "Epoch 1/20\n"
     ]
    },
    {
     "name": "stderr",
     "output_type": "stream",
     "text": [
      "100%|██████████| 476/476 [03:27<00:00,  2.30it/s]\n"
     ]
    },
    {
     "name": "stdout",
     "output_type": "stream",
     "text": [
      "{'val_loss': 1.4732515969366398, 'val_accuracy': 0.6118343195266273, 'precision': 0.5043093770156885, 'recall': 0.6118343195266273, 'f1-score': 0.5389422061853982, 'macro_f1-score': 0.12114037121317406, 'balanced_accuracy': 0.13596978314875688, 'mcc': 0.4335919623604232}\n",
      "Epoch 2/20\n"
     ]
    },
    {
     "name": "stderr",
     "output_type": "stream",
     "text": [
      "100%|██████████| 476/476 [03:26<00:00,  2.31it/s]\n"
     ]
    },
    {
     "name": "stdout",
     "output_type": "stream",
     "text": [
      "{'val_loss': 1.4115472998259202, 'val_accuracy': 0.6047337278106509, 'precision': 0.6071590176792947, 'recall': 0.6047337278106509, 'f1-score': 0.5803873021020622, 'macro_f1-score': 0.17559929980189568, 'balanced_accuracy': 0.21525959986952894, 'mcc': 0.4794113497308429}\n",
      "Epoch 3/20\n"
     ]
    },
    {
     "name": "stderr",
     "output_type": "stream",
     "text": [
      "100%|██████████| 476/476 [03:26<00:00,  2.31it/s]\n",
      "D:\\Anaconda3\\envs\\cuda\\Lib\\site-packages\\sklearn\\metrics\\_classification.py:2458: UserWarning: y_pred contains classes not in y_true\n",
      "  warnings.warn(\"y_pred contains classes not in y_true\")\n"
     ]
    },
    {
     "name": "stdout",
     "output_type": "stream",
     "text": [
      "{'val_loss': 1.2413956016864416, 'val_accuracy': 0.663905325443787, 'precision': 0.615361201788153, 'recall': 0.663905325443787, 'f1-score': 0.6274579670404364, 'macro_f1-score': 0.25921195930670826, 'balanced_accuracy': 0.2764596424373229, 'mcc': 0.5280040676911579}\n",
      "Epoch 4/20\n"
     ]
    },
    {
     "name": "stderr",
     "output_type": "stream",
     "text": [
      "100%|██████████| 476/476 [03:26<00:00,  2.30it/s]\n",
      "D:\\Anaconda3\\envs\\cuda\\Lib\\site-packages\\sklearn\\metrics\\_classification.py:2458: UserWarning: y_pred contains classes not in y_true\n",
      "  warnings.warn(\"y_pred contains classes not in y_true\")\n"
     ]
    },
    {
     "name": "stdout",
     "output_type": "stream",
     "text": [
      "{'val_loss': 1.1783217962058086, 'val_accuracy': 0.6544378698224852, 'precision': 0.6631893213965877, 'recall': 0.6544378698224852, 'f1-score': 0.6425875718447127, 'macro_f1-score': 0.27385237170988663, 'balanced_accuracy': 0.29958114986421197, 'mcc': 0.5295634691921165}\n",
      "Epoch 5/20\n"
     ]
    },
    {
     "name": "stderr",
     "output_type": "stream",
     "text": [
      "100%|██████████| 476/476 [03:26<00:00,  2.30it/s]\n"
     ]
    },
    {
     "name": "stdout",
     "output_type": "stream",
     "text": [
      "{'val_loss': 1.2595759354672342, 'val_accuracy': 0.6568047337278107, 'precision': 0.6318170026543166, 'recall': 0.6568047337278107, 'f1-score': 0.6301494516853738, 'macro_f1-score': 0.28426643104692195, 'balanced_accuracy': 0.3038875221643265, 'mcc': 0.526849286939695}\n",
      "Epoch 6/20\n"
     ]
    },
    {
     "name": "stderr",
     "output_type": "stream",
     "text": [
      "100%|██████████| 476/476 [03:27<00:00,  2.30it/s]\n",
      "D:\\Anaconda3\\envs\\cuda\\Lib\\site-packages\\sklearn\\metrics\\_classification.py:2458: UserWarning: y_pred contains classes not in y_true\n",
      "  warnings.warn(\"y_pred contains classes not in y_true\")\n"
     ]
    },
    {
     "name": "stdout",
     "output_type": "stream",
     "text": [
      "{'val_loss': 1.2254089645619661, 'val_accuracy': 0.6804733727810651, 'precision': 0.6550171159014683, 'recall': 0.6804733727810651, 'f1-score': 0.6496576879261498, 'macro_f1-score': 0.3085675612253729, 'balanced_accuracy': 0.31417960572007303, 'mcc': 0.5531144542956109}\n",
      "Epoch 7/20\n"
     ]
    },
    {
     "name": "stderr",
     "output_type": "stream",
     "text": [
      "100%|██████████| 476/476 [03:27<00:00,  2.29it/s]\n",
      "D:\\Anaconda3\\envs\\cuda\\Lib\\site-packages\\sklearn\\metrics\\_classification.py:2458: UserWarning: y_pred contains classes not in y_true\n",
      "  warnings.warn(\"y_pred contains classes not in y_true\")\n"
     ]
    },
    {
     "name": "stdout",
     "output_type": "stream",
     "text": [
      "{'val_loss': 1.2532254884827811, 'val_accuracy': 0.6804733727810651, 'precision': 0.668464660204855, 'recall': 0.6804733727810651, 'f1-score': 0.6600066315333434, 'macro_f1-score': 0.33915631347200936, 'balanced_accuracy': 0.361486486913479, 'mcc': 0.5603874800009789}\n",
      "Epoch 8/20\n"
     ]
    },
    {
     "name": "stderr",
     "output_type": "stream",
     "text": [
      "100%|██████████| 476/476 [03:26<00:00,  2.30it/s]\n",
      "D:\\Anaconda3\\envs\\cuda\\Lib\\site-packages\\sklearn\\metrics\\_classification.py:2458: UserWarning: y_pred contains classes not in y_true\n",
      "  warnings.warn(\"y_pred contains classes not in y_true\")\n"
     ]
    },
    {
     "name": "stdout",
     "output_type": "stream",
     "text": [
      "{'val_loss': 1.2789198013971437, 'val_accuracy': 0.6650887573964497, 'precision': 0.686976872244738, 'recall': 0.6650887573964497, 'f1-score': 0.6626445268993061, 'macro_f1-score': 0.33986806870571107, 'balanced_accuracy': 0.3634175024746572, 'mcc': 0.5488384189539297}\n",
      "Epoch 9/20\n"
     ]
    },
    {
     "name": "stderr",
     "output_type": "stream",
     "text": [
      "100%|██████████| 476/476 [03:26<00:00,  2.30it/s]\n",
      "D:\\Anaconda3\\envs\\cuda\\Lib\\site-packages\\sklearn\\metrics\\_classification.py:2458: UserWarning: y_pred contains classes not in y_true\n",
      "  warnings.warn(\"y_pred contains classes not in y_true\")\n"
     ]
    },
    {
     "name": "stdout",
     "output_type": "stream",
     "text": [
      "{'val_loss': 1.2877604545287367, 'val_accuracy': 0.672189349112426, 'precision': 0.6859491905015547, 'recall': 0.672189349112426, 'f1-score': 0.6651738209841591, 'macro_f1-score': 0.41059983479769996, 'balanced_accuracy': 0.4298854141115301, 'mcc': 0.5541606397587233}\n",
      "Epoch 10/20\n"
     ]
    },
    {
     "name": "stderr",
     "output_type": "stream",
     "text": [
      "100%|██████████| 476/476 [03:27<00:00,  2.30it/s]\n",
      "D:\\Anaconda3\\envs\\cuda\\Lib\\site-packages\\sklearn\\metrics\\_classification.py:2458: UserWarning: y_pred contains classes not in y_true\n",
      "  warnings.warn(\"y_pred contains classes not in y_true\")\n"
     ]
    },
    {
     "name": "stdout",
     "output_type": "stream",
     "text": [
      "{'val_loss': 1.2913804734652896, 'val_accuracy': 0.6804733727810651, 'precision': 0.7141597393936574, 'recall': 0.6804733727810651, 'f1-score': 0.681049107993871, 'macro_f1-score': 0.4005124621530538, 'balanced_accuracy': 0.4729409125925605, 'mcc': 0.5695207880442088}\n",
      "Epoch 11/20\n"
     ]
    },
    {
     "name": "stderr",
     "output_type": "stream",
     "text": [
      "100%|██████████| 476/476 [03:26<00:00,  2.31it/s]\n",
      "D:\\Anaconda3\\envs\\cuda\\Lib\\site-packages\\sklearn\\metrics\\_classification.py:2458: UserWarning: y_pred contains classes not in y_true\n",
      "  warnings.warn(\"y_pred contains classes not in y_true\")\n"
     ]
    },
    {
     "name": "stdout",
     "output_type": "stream",
     "text": [
      "{'val_loss': 1.442587397008572, 'val_accuracy': 0.6674556213017752, 'precision': 0.7058570934451021, 'recall': 0.6674556213017752, 'f1-score': 0.6701630568670571, 'macro_f1-score': 0.3940259473819889, 'balanced_accuracy': 0.44154972121930813, 'mcc': 0.5560163666381551}\n",
      "Epoch 12/20\n"
     ]
    },
    {
     "name": "stderr",
     "output_type": "stream",
     "text": [
      "100%|██████████| 476/476 [03:27<00:00,  2.29it/s]\n",
      "D:\\Anaconda3\\envs\\cuda\\Lib\\site-packages\\sklearn\\metrics\\_classification.py:2458: UserWarning: y_pred contains classes not in y_true\n",
      "  warnings.warn(\"y_pred contains classes not in y_true\")\n"
     ]
    },
    {
     "name": "stdout",
     "output_type": "stream",
     "text": [
      "{'val_loss': 1.5328601160139408, 'val_accuracy': 0.6402366863905326, 'precision': 0.7073573032112341, 'recall': 0.6402366863905326, 'f1-score': 0.6514732442920023, 'macro_f1-score': 0.32614016905554666, 'balanced_accuracy': 0.34340453285801636, 'mcc': 0.5209798842818298}\n",
      "Early stopping triggered at epoch 12\n",
      "Fold 8\n",
      "Training set label distribution: {0: 3585, 1: 29, 2: 127, 3: 27, 4: 229, 5: 126, 6: 103, 7: 34, 8: 68, 9: 77, 10: 82, 11: 198, 12: 207, 13: 31, 14: 26, 15: 27, 16: 21, 17: 254, 18: 107, 19: 52, 20: 14, 21: 44, 22: 80, 23: 184, 24: 19, 25: 56, 26: 98, 27: 58, 28: 13, 29: 14, 30: 18, 31: 96, 32: 40, 33: 35, 34: 35, 35: 14, 36: 33, 37: 23, 38: 6, 39: 120, 40: 14, 41: 11, 42: 166, 43: 17, 44: 24, 45: 9, 46: 63, 47: 593, 48: 224, 49: 78}\n",
      "Validation set label distribution: {0: 389, 1: 2, 2: 13, 3: 3, 4: 28, 5: 19, 6: 15, 7: 5, 8: 17, 9: 4, 10: 6, 11: 17, 12: 34, 13: 5, 14: 3, 15: 4, 16: 4, 17: 35, 18: 9, 19: 4, 20: 4, 22: 17, 23: 16, 24: 1, 25: 7, 26: 9, 27: 3, 28: 2, 29: 2, 30: 1, 31: 4, 32: 5, 33: 5, 34: 2, 35: 1, 36: 2, 37: 4, 38: 1, 39: 9, 42: 18, 43: 3, 44: 1, 45: 2, 46: 5, 47: 68, 48: 28, 49: 9}\n"
     ]
    },
    {
     "name": "stderr",
     "output_type": "stream",
     "text": [
      "Some weights of RobertaForSequenceClassification were not initialized from the model checkpoint at roberta-base and are newly initialized: ['classifier.dense.bias', 'classifier.dense.weight', 'classifier.out_proj.bias', 'classifier.out_proj.weight']\n",
      "You should probably TRAIN this model on a down-stream task to be able to use it for predictions and inference.\n"
     ]
    },
    {
     "name": "stdout",
     "output_type": "stream",
     "text": [
      "Epoch 1/20\n"
     ]
    },
    {
     "name": "stderr",
     "output_type": "stream",
     "text": [
      "100%|██████████| 476/476 [03:27<00:00,  2.30it/s]\n"
     ]
    },
    {
     "name": "stdout",
     "output_type": "stream",
     "text": [
      "{'val_loss': 1.792847235247774, 'val_accuracy': 0.5751479289940828, 'precision': 0.36306933490547694, 'recall': 0.5751479289940828, 'f1-score': 0.44059077868866225, 'macro_f1-score': 0.061004357781463486, 'balanced_accuracy': 0.07122065147231565, 'mcc': 0.379342635391025}\n",
      "Epoch 2/20\n"
     ]
    },
    {
     "name": "stderr",
     "output_type": "stream",
     "text": [
      "100%|██████████| 476/476 [03:26<00:00,  2.30it/s]\n"
     ]
    },
    {
     "name": "stdout",
     "output_type": "stream",
     "text": [
      "{'val_loss': 1.6387158919055507, 'val_accuracy': 0.5940828402366863, 'precision': 0.42472161027408345, 'recall': 0.5940828402366863, 'f1-score': 0.4777351784081345, 'macro_f1-score': 0.08524880711903496, 'balanced_accuracy': 0.10152220294180826, 'mcc': 0.4186851268519188}\n",
      "Epoch 3/20\n"
     ]
    },
    {
     "name": "stderr",
     "output_type": "stream",
     "text": [
      "100%|██████████| 476/476 [03:26<00:00,  2.30it/s]\n"
     ]
    },
    {
     "name": "stdout",
     "output_type": "stream",
     "text": [
      "{'val_loss': 1.4932536539041772, 'val_accuracy': 0.6059171597633136, 'precision': 0.5663386886636619, 'recall': 0.6059171597633136, 'f1-score': 0.5600903454796524, 'macro_f1-score': 0.18588586692458473, 'balanced_accuracy': 0.1960823263215337, 'mcc': 0.47032520699582153}\n",
      "Epoch 4/20\n"
     ]
    },
    {
     "name": "stderr",
     "output_type": "stream",
     "text": [
      "100%|██████████| 476/476 [03:26<00:00,  2.30it/s]\n"
     ]
    },
    {
     "name": "stdout",
     "output_type": "stream",
     "text": [
      "{'val_loss': 1.4377172960425324, 'val_accuracy': 0.6284023668639053, 'precision': 0.5684059868995922, 'recall': 0.6284023668639053, 'f1-score': 0.5593050461197869, 'macro_f1-score': 0.21230633474495522, 'balanced_accuracy': 0.23238314908655816, 'mcc': 0.4859154041867451}\n",
      "Epoch 5/20\n"
     ]
    },
    {
     "name": "stderr",
     "output_type": "stream",
     "text": [
      "100%|██████████| 476/476 [03:27<00:00,  2.29it/s]\n",
      "D:\\Anaconda3\\envs\\cuda\\Lib\\site-packages\\sklearn\\metrics\\_classification.py:2458: UserWarning: y_pred contains classes not in y_true\n",
      "  warnings.warn(\"y_pred contains classes not in y_true\")\n"
     ]
    },
    {
     "name": "stdout",
     "output_type": "stream",
     "text": [
      "{'val_loss': 1.4014526459406007, 'val_accuracy': 0.6260355029585799, 'precision': 0.5701116752146179, 'recall': 0.6260355029585799, 'f1-score': 0.5810590981840702, 'macro_f1-score': 0.22050287530472878, 'balanced_accuracy': 0.24532251527734822, 'mcc': 0.4971093974393398}\n",
      "Epoch 6/20\n"
     ]
    },
    {
     "name": "stderr",
     "output_type": "stream",
     "text": [
      "100%|██████████| 476/476 [03:26<00:00,  2.30it/s]\n"
     ]
    },
    {
     "name": "stdout",
     "output_type": "stream",
     "text": [
      "{'val_loss': 1.3946631106565583, 'val_accuracy': 0.6556213017751479, 'precision': 0.6546992255482471, 'recall': 0.6556213017751479, 'f1-score': 0.6356823026538656, 'macro_f1-score': 0.31209021833898826, 'balanced_accuracy': 0.3273904820050375, 'mcc': 0.5486308151461948}\n",
      "Epoch 7/20\n"
     ]
    },
    {
     "name": "stderr",
     "output_type": "stream",
     "text": [
      "100%|██████████| 476/476 [03:26<00:00,  2.30it/s]\n",
      "D:\\Anaconda3\\envs\\cuda\\Lib\\site-packages\\sklearn\\metrics\\_classification.py:2458: UserWarning: y_pred contains classes not in y_true\n",
      "  warnings.warn(\"y_pred contains classes not in y_true\")\n"
     ]
    },
    {
     "name": "stdout",
     "output_type": "stream",
     "text": [
      "{'val_loss': 1.442845662809768, 'val_accuracy': 0.650887573964497, 'precision': 0.6691793557034307, 'recall': 0.650887573964497, 'f1-score': 0.6487559092913806, 'macro_f1-score': 0.30716290319860134, 'balanced_accuracy': 0.3370076899085136, 'mcc': 0.5557739279634881}\n",
      "Epoch 8/20\n"
     ]
    },
    {
     "name": "stderr",
     "output_type": "stream",
     "text": [
      "100%|██████████| 476/476 [03:26<00:00,  2.31it/s]\n",
      "D:\\Anaconda3\\envs\\cuda\\Lib\\site-packages\\sklearn\\metrics\\_classification.py:2458: UserWarning: y_pred contains classes not in y_true\n",
      "  warnings.warn(\"y_pred contains classes not in y_true\")\n"
     ]
    },
    {
     "name": "stdout",
     "output_type": "stream",
     "text": [
      "{'val_loss': 1.4872430911603964, 'val_accuracy': 0.6461538461538462, 'precision': 0.6576478927478852, 'recall': 0.6461538461538462, 'f1-score': 0.6299662752609266, 'macro_f1-score': 0.27991861208224855, 'balanced_accuracy': 0.3149066850551519, 'mcc': 0.5399462656297975}\n",
      "Epoch 9/20\n"
     ]
    },
    {
     "name": "stderr",
     "output_type": "stream",
     "text": [
      "100%|██████████| 476/476 [03:26<00:00,  2.30it/s]\n",
      "D:\\Anaconda3\\envs\\cuda\\Lib\\site-packages\\sklearn\\metrics\\_classification.py:2458: UserWarning: y_pred contains classes not in y_true\n",
      "  warnings.warn(\"y_pred contains classes not in y_true\")\n"
     ]
    },
    {
     "name": "stdout",
     "output_type": "stream",
     "text": [
      "{'val_loss': 1.4475031877463718, 'val_accuracy': 0.6437869822485207, 'precision': 0.6624728096435397, 'recall': 0.6437869822485207, 'f1-score': 0.6393549349063932, 'macro_f1-score': 0.3363610178688096, 'balanced_accuracy': 0.37364186360326807, 'mcc': 0.5376107962400933}\n",
      "Epoch 10/20\n"
     ]
    },
    {
     "name": "stderr",
     "output_type": "stream",
     "text": [
      "100%|██████████| 476/476 [03:26<00:00,  2.30it/s]\n",
      "D:\\Anaconda3\\envs\\cuda\\Lib\\site-packages\\sklearn\\metrics\\_classification.py:2458: UserWarning: y_pred contains classes not in y_true\n",
      "  warnings.warn(\"y_pred contains classes not in y_true\")\n"
     ]
    },
    {
     "name": "stdout",
     "output_type": "stream",
     "text": [
      "{'val_loss': 1.5956438228769123, 'val_accuracy': 0.6615384615384615, 'precision': 0.6438226316349316, 'recall': 0.6615384615384615, 'f1-score': 0.6344110745022988, 'macro_f1-score': 0.33237693159993614, 'balanced_accuracy': 0.37781905941227545, 'mcc': 0.5479655579848539}\n",
      "Epoch 11/20\n"
     ]
    },
    {
     "name": "stderr",
     "output_type": "stream",
     "text": [
      "100%|██████████| 476/476 [03:26<00:00,  2.30it/s]\n",
      "D:\\Anaconda3\\envs\\cuda\\Lib\\site-packages\\sklearn\\metrics\\_classification.py:2458: UserWarning: y_pred contains classes not in y_true\n",
      "  warnings.warn(\"y_pred contains classes not in y_true\")\n"
     ]
    },
    {
     "name": "stdout",
     "output_type": "stream",
     "text": [
      "{'val_loss': 1.5725851379475504, 'val_accuracy': 0.650887573964497, 'precision': 0.6690246616597261, 'recall': 0.650887573964497, 'f1-score': 0.638850185031414, 'macro_f1-score': 0.34893694515358287, 'balanced_accuracy': 0.3917771424319784, 'mcc': 0.5431454259464985}\n",
      "Epoch 12/20\n"
     ]
    },
    {
     "name": "stderr",
     "output_type": "stream",
     "text": [
      "100%|██████████| 476/476 [03:27<00:00,  2.30it/s]\n",
      "D:\\Anaconda3\\envs\\cuda\\Lib\\site-packages\\sklearn\\metrics\\_classification.py:2458: UserWarning: y_pred contains classes not in y_true\n",
      "  warnings.warn(\"y_pred contains classes not in y_true\")\n"
     ]
    },
    {
     "name": "stdout",
     "output_type": "stream",
     "text": [
      "{'val_loss': 1.6547705429904866, 'val_accuracy': 0.6674556213017752, 'precision': 0.6584406882247602, 'recall': 0.6674556213017752, 'f1-score': 0.6477514320837552, 'macro_f1-score': 0.3601473843954099, 'balanced_accuracy': 0.39634730156105136, 'mcc': 0.5584438324622663}\n",
      "Epoch 13/20\n"
     ]
    },
    {
     "name": "stderr",
     "output_type": "stream",
     "text": [
      "100%|██████████| 476/476 [03:27<00:00,  2.30it/s]\n",
      "D:\\Anaconda3\\envs\\cuda\\Lib\\site-packages\\sklearn\\metrics\\_classification.py:2458: UserWarning: y_pred contains classes not in y_true\n",
      "  warnings.warn(\"y_pred contains classes not in y_true\")\n"
     ]
    },
    {
     "name": "stdout",
     "output_type": "stream",
     "text": [
      "{'val_loss': 1.5810690291647642, 'val_accuracy': 0.676923076923077, 'precision': 0.6937685826729264, 'recall': 0.676923076923077, 'f1-score': 0.6731270610311968, 'macro_f1-score': 0.38555786634812605, 'balanced_accuracy': 0.4252455300509084, 'mcc': 0.5761797969484316}\n",
      "Epoch 14/20\n"
     ]
    },
    {
     "name": "stderr",
     "output_type": "stream",
     "text": [
      "100%|██████████| 476/476 [03:27<00:00,  2.29it/s]\n",
      "D:\\Anaconda3\\envs\\cuda\\Lib\\site-packages\\sklearn\\metrics\\_classification.py:2458: UserWarning: y_pred contains classes not in y_true\n",
      "  warnings.warn(\"y_pred contains classes not in y_true\")\n"
     ]
    },
    {
     "name": "stdout",
     "output_type": "stream",
     "text": [
      "{'val_loss': 1.6241990057927258, 'val_accuracy': 0.693491124260355, 'precision': 0.6848140178335589, 'recall': 0.693491124260355, 'f1-score': 0.6731836144086787, 'macro_f1-score': 0.4305915656895853, 'balanced_accuracy': 0.4634108569163046, 'mcc': 0.5891295758984719}\n",
      "Epoch 15/20\n"
     ]
    },
    {
     "name": "stderr",
     "output_type": "stream",
     "text": [
      "100%|██████████| 476/476 [03:26<00:00,  2.30it/s]\n",
      "D:\\Anaconda3\\envs\\cuda\\Lib\\site-packages\\sklearn\\metrics\\_classification.py:2458: UserWarning: y_pred contains classes not in y_true\n",
      "  warnings.warn(\"y_pred contains classes not in y_true\")\n"
     ]
    },
    {
     "name": "stdout",
     "output_type": "stream",
     "text": [
      "{'val_loss': 1.7428205890475579, 'val_accuracy': 0.6579881656804734, 'precision': 0.69727404054092, 'recall': 0.6579881656804734, 'f1-score': 0.6599515566471913, 'macro_f1-score': 0.37286837819255997, 'balanced_accuracy': 0.4371334284010167, 'mcc': 0.5551874938519716}\n",
      "Epoch 16/20\n"
     ]
    },
    {
     "name": "stderr",
     "output_type": "stream",
     "text": [
      "100%|██████████| 476/476 [03:26<00:00,  2.30it/s]\n",
      "D:\\Anaconda3\\envs\\cuda\\Lib\\site-packages\\sklearn\\metrics\\_classification.py:2458: UserWarning: y_pred contains classes not in y_true\n",
      "  warnings.warn(\"y_pred contains classes not in y_true\")\n"
     ]
    },
    {
     "name": "stdout",
     "output_type": "stream",
     "text": [
      "{'val_loss': 1.7061033681878504, 'val_accuracy': 0.672189349112426, 'precision': 0.675453596339405, 'recall': 0.672189349112426, 'f1-score': 0.6567807426149119, 'macro_f1-score': 0.3933623192931601, 'balanced_accuracy': 0.4190344292994147, 'mcc': 0.5675636483529368}\n",
      "Epoch 17/20\n"
     ]
    },
    {
     "name": "stderr",
     "output_type": "stream",
     "text": [
      "100%|██████████| 476/476 [03:27<00:00,  2.30it/s]\n",
      "D:\\Anaconda3\\envs\\cuda\\Lib\\site-packages\\sklearn\\metrics\\_classification.py:2458: UserWarning: y_pred contains classes not in y_true\n",
      "  warnings.warn(\"y_pred contains classes not in y_true\")\n"
     ]
    },
    {
     "name": "stdout",
     "output_type": "stream",
     "text": [
      "{'val_loss': 1.7494716149456095, 'val_accuracy': 0.6615384615384615, 'precision': 0.6654281779617769, 'recall': 0.6615384615384615, 'f1-score': 0.6468844846566003, 'macro_f1-score': 0.3505002269269605, 'balanced_accuracy': 0.41387891333817595, 'mcc': 0.5580639077105718}\n",
      "Early stopping triggered at epoch 17\n",
      "Fold 9\n",
      "Training set label distribution: {0: 3574, 1: 29, 2: 128, 3: 26, 4: 234, 5: 130, 6: 103, 7: 34, 8: 77, 9: 74, 10: 74, 11: 193, 12: 214, 13: 30, 14: 27, 15: 26, 16: 22, 17: 266, 18: 104, 19: 51, 20: 18, 21: 40, 22: 87, 23: 170, 24: 18, 25: 55, 26: 90, 27: 58, 28: 12, 29: 14, 30: 16, 31: 88, 32: 40, 33: 36, 34: 34, 35: 13, 36: 29, 37: 24, 38: 7, 39: 121, 40: 12, 41: 11, 42: 167, 43: 16, 44: 20, 45: 11, 46: 64, 47: 614, 48: 232, 49: 76}\n",
      "Validation set label distribution: {0: 400, 1: 2, 2: 12, 3: 4, 4: 23, 5: 15, 6: 15, 7: 5, 8: 8, 9: 7, 10: 14, 11: 22, 12: 27, 13: 6, 14: 2, 15: 5, 16: 3, 17: 23, 18: 12, 19: 5, 21: 4, 22: 10, 23: 30, 24: 2, 25: 8, 26: 17, 27: 3, 28: 3, 29: 2, 30: 3, 31: 12, 32: 5, 33: 4, 34: 3, 35: 2, 36: 6, 37: 3, 39: 8, 40: 2, 42: 17, 43: 4, 44: 5, 46: 4, 47: 47, 48: 20, 49: 11}\n"
     ]
    },
    {
     "name": "stderr",
     "output_type": "stream",
     "text": [
      "Some weights of RobertaForSequenceClassification were not initialized from the model checkpoint at roberta-base and are newly initialized: ['classifier.dense.bias', 'classifier.dense.weight', 'classifier.out_proj.bias', 'classifier.out_proj.weight']\n",
      "You should probably TRAIN this model on a down-stream task to be able to use it for predictions and inference.\n"
     ]
    },
    {
     "name": "stdout",
     "output_type": "stream",
     "text": [
      "Epoch 1/20\n"
     ]
    },
    {
     "name": "stderr",
     "output_type": "stream",
     "text": [
      "100%|██████████| 476/476 [03:26<00:00,  2.30it/s]\n"
     ]
    },
    {
     "name": "stdout",
     "output_type": "stream",
     "text": [
      "{'val_loss': 1.6825909299670525, 'val_accuracy': 0.5751479289940828, 'precision': 0.3687529452670667, 'recall': 0.5751479289940828, 'f1-score': 0.4483827735303566, 'macro_f1-score': 0.08738102062874611, 'balanced_accuracy': 0.11181726010050226, 'mcc': 0.3766097438067147}\n",
      "Epoch 2/20\n"
     ]
    },
    {
     "name": "stderr",
     "output_type": "stream",
     "text": [
      "100%|██████████| 476/476 [03:26<00:00,  2.30it/s]\n"
     ]
    },
    {
     "name": "stdout",
     "output_type": "stream",
     "text": [
      "{'val_loss': 1.4290830684158038, 'val_accuracy': 0.6094674556213018, 'precision': 0.5015632464084476, 'recall': 0.6094674556213018, 'f1-score': 0.533813627365275, 'macro_f1-score': 0.16092259198888556, 'balanced_accuracy': 0.1835756992983861, 'mcc': 0.455544846704927}\n",
      "Epoch 3/20\n"
     ]
    },
    {
     "name": "stderr",
     "output_type": "stream",
     "text": [
      "100%|██████████| 476/476 [03:26<00:00,  2.31it/s]\n",
      "D:\\Anaconda3\\envs\\cuda\\Lib\\site-packages\\sklearn\\metrics\\_classification.py:2458: UserWarning: y_pred contains classes not in y_true\n",
      "  warnings.warn(\"y_pred contains classes not in y_true\")\n"
     ]
    },
    {
     "name": "stdout",
     "output_type": "stream",
     "text": [
      "{'val_loss': 1.3577953633272424, 'val_accuracy': 0.6177514792899408, 'precision': 0.5494231967746059, 'recall': 0.6177514792899408, 'f1-score': 0.566643567176057, 'macro_f1-score': 0.19692976856579725, 'balanced_accuracy': 0.22980512626901903, 'mcc': 0.48026517824726545}\n",
      "Epoch 4/20\n"
     ]
    },
    {
     "name": "stderr",
     "output_type": "stream",
     "text": [
      "100%|██████████| 476/476 [03:25<00:00,  2.31it/s]\n"
     ]
    },
    {
     "name": "stdout",
     "output_type": "stream",
     "text": [
      "{'val_loss': 1.363700272339695, 'val_accuracy': 0.6307692307692307, 'precision': 0.5524146160871938, 'recall': 0.6307692307692307, 'f1-score': 0.5698838960668411, 'macro_f1-score': 0.24741057327120106, 'balanced_accuracy': 0.2680368920296813, 'mcc': 0.4948571118609679}\n",
      "Epoch 5/20\n"
     ]
    },
    {
     "name": "stderr",
     "output_type": "stream",
     "text": [
      "100%|██████████| 476/476 [03:26<00:00,  2.31it/s]\n"
     ]
    },
    {
     "name": "stdout",
     "output_type": "stream",
     "text": [
      "{'val_loss': 1.252940463569929, 'val_accuracy': 0.6650887573964497, 'precision': 0.6546255211992246, 'recall': 0.6650887573964497, 'f1-score': 0.6368684338173701, 'macro_f1-score': 0.36114823013685715, 'balanced_accuracy': 0.3587538561058538, 'mcc': 0.5488402253058867}\n",
      "Epoch 6/20\n"
     ]
    },
    {
     "name": "stderr",
     "output_type": "stream",
     "text": [
      "100%|██████████| 476/476 [03:26<00:00,  2.31it/s]\n"
     ]
    },
    {
     "name": "stdout",
     "output_type": "stream",
     "text": [
      "{'val_loss': 1.3063069750677865, 'val_accuracy': 0.6532544378698225, 'precision': 0.6559597715786685, 'recall': 0.6532544378698225, 'f1-score': 0.6348318264984734, 'macro_f1-score': 0.3465191918050752, 'balanced_accuracy': 0.36049354642770676, 'mcc': 0.5463760928026289}\n",
      "Epoch 7/20\n"
     ]
    },
    {
     "name": "stderr",
     "output_type": "stream",
     "text": [
      "100%|██████████| 476/476 [03:26<00:00,  2.30it/s]\n"
     ]
    },
    {
     "name": "stdout",
     "output_type": "stream",
     "text": [
      "{'val_loss': 1.3610553921393629, 'val_accuracy': 0.6781065088757396, 'precision': 0.6813415578504336, 'recall': 0.6781065088757396, 'f1-score': 0.6463490091842913, 'macro_f1-score': 0.38813975225753383, 'balanced_accuracy': 0.42232927561504635, 'mcc': 0.5707930459465125}\n",
      "Epoch 8/20\n"
     ]
    },
    {
     "name": "stderr",
     "output_type": "stream",
     "text": [
      "100%|██████████| 476/476 [03:27<00:00,  2.30it/s]\n"
     ]
    },
    {
     "name": "stdout",
     "output_type": "stream",
     "text": [
      "{'val_loss': 1.4237842014375723, 'val_accuracy': 0.6674556213017752, 'precision': 0.6450084455920692, 'recall': 0.6674556213017752, 'f1-score': 0.6455759676150523, 'macro_f1-score': 0.3727696656452096, 'balanced_accuracy': 0.3801391809201399, 'mcc': 0.5565961316090933}\n",
      "Epoch 9/20\n"
     ]
    },
    {
     "name": "stderr",
     "output_type": "stream",
     "text": [
      "100%|██████████| 476/476 [03:27<00:00,  2.30it/s]\n",
      "D:\\Anaconda3\\envs\\cuda\\Lib\\site-packages\\sklearn\\metrics\\_classification.py:2458: UserWarning: y_pred contains classes not in y_true\n",
      "  warnings.warn(\"y_pred contains classes not in y_true\")\n"
     ]
    },
    {
     "name": "stdout",
     "output_type": "stream",
     "text": [
      "{'val_loss': 1.3906833979318727, 'val_accuracy': 0.6804733727810651, 'precision': 0.6765581868579983, 'recall': 0.6804733727810651, 'f1-score': 0.6645736738203138, 'macro_f1-score': 0.40307938046125613, 'balanced_accuracy': 0.415538488990858, 'mcc': 0.5765390599592696}\n",
      "Epoch 10/20\n"
     ]
    },
    {
     "name": "stderr",
     "output_type": "stream",
     "text": [
      "100%|██████████| 476/476 [03:27<00:00,  2.30it/s]\n",
      "D:\\Anaconda3\\envs\\cuda\\Lib\\site-packages\\sklearn\\metrics\\_classification.py:2458: UserWarning: y_pred contains classes not in y_true\n",
      "  warnings.warn(\"y_pred contains classes not in y_true\")\n"
     ]
    },
    {
     "name": "stdout",
     "output_type": "stream",
     "text": [
      "{'val_loss': 1.3926823178552232, 'val_accuracy': 0.6627218934911243, 'precision': 0.6477815285620686, 'recall': 0.6627218934911243, 'f1-score': 0.6449481267521583, 'macro_f1-score': 0.38526220726943516, 'balanced_accuracy': 0.39300125509453804, 'mcc': 0.5517675916735668}\n",
      "Epoch 11/20\n"
     ]
    },
    {
     "name": "stderr",
     "output_type": "stream",
     "text": [
      "100%|██████████| 476/476 [03:26<00:00,  2.30it/s]\n",
      "D:\\Anaconda3\\envs\\cuda\\Lib\\site-packages\\sklearn\\metrics\\_classification.py:2458: UserWarning: y_pred contains classes not in y_true\n",
      "  warnings.warn(\"y_pred contains classes not in y_true\")\n"
     ]
    },
    {
     "name": "stdout",
     "output_type": "stream",
     "text": [
      "{'val_loss': 1.5101654529571533, 'val_accuracy': 0.6757396449704142, 'precision': 0.6544412938171066, 'recall': 0.6757396449704142, 'f1-score': 0.6513453628389073, 'macro_f1-score': 0.4002096090748877, 'balanced_accuracy': 0.417616845442755, 'mcc': 0.5643412319949168}\n",
      "Epoch 12/20\n"
     ]
    },
    {
     "name": "stderr",
     "output_type": "stream",
     "text": [
      "100%|██████████| 476/476 [03:26<00:00,  2.30it/s]\n",
      "D:\\Anaconda3\\envs\\cuda\\Lib\\site-packages\\sklearn\\metrics\\_classification.py:2458: UserWarning: y_pred contains classes not in y_true\n",
      "  warnings.warn(\"y_pred contains classes not in y_true\")\n"
     ]
    },
    {
     "name": "stdout",
     "output_type": "stream",
     "text": [
      "{'val_loss': 1.6192794847038556, 'val_accuracy': 0.6473372781065089, 'precision': 0.6452118122716287, 'recall': 0.6473372781065089, 'f1-score': 0.6346320528839079, 'macro_f1-score': 0.3906779608788635, 'balanced_accuracy': 0.40526290001358073, 'mcc': 0.533275810063071}\n",
      "Early stopping triggered at epoch 12\n",
      "Fold 10\n",
      "Training set label distribution: {0: 3613, 1: 25, 2: 127, 3: 29, 4: 233, 5: 130, 6: 108, 7: 33, 8: 73, 9: 73, 10: 79, 11: 193, 12: 209, 13: 31, 14: 24, 15: 30, 16: 23, 17: 260, 18: 99, 19: 53, 20: 15, 21: 39, 22: 84, 23: 171, 24: 18, 25: 58, 26: 96, 27: 53, 28: 14, 29: 15, 30: 16, 31: 88, 32: 40, 33: 37, 34: 34, 35: 14, 36: 30, 37: 26, 38: 6, 39: 113, 40: 11, 41: 11, 42: 163, 43: 19, 44: 21, 45: 10, 46: 64, 47: 592, 48: 232, 49: 74}\n",
      "Validation set label distribution: {0: 361, 1: 6, 2: 13, 3: 1, 4: 24, 5: 15, 6: 10, 7: 6, 8: 12, 9: 8, 10: 9, 11: 22, 12: 32, 13: 5, 14: 5, 15: 1, 16: 2, 17: 29, 18: 17, 19: 3, 20: 3, 21: 5, 22: 13, 23: 29, 24: 2, 25: 5, 26: 11, 27: 8, 28: 1, 29: 1, 30: 3, 31: 12, 32: 5, 33: 3, 34: 3, 35: 1, 36: 5, 37: 1, 38: 1, 39: 16, 40: 3, 42: 21, 43: 1, 44: 4, 45: 1, 46: 4, 47: 69, 48: 20, 49: 13}\n"
     ]
    },
    {
     "name": "stderr",
     "output_type": "stream",
     "text": [
      "Some weights of RobertaForSequenceClassification were not initialized from the model checkpoint at roberta-base and are newly initialized: ['classifier.dense.bias', 'classifier.dense.weight', 'classifier.out_proj.bias', 'classifier.out_proj.weight']\n",
      "You should probably TRAIN this model on a down-stream task to be able to use it for predictions and inference.\n"
     ]
    },
    {
     "name": "stdout",
     "output_type": "stream",
     "text": [
      "Epoch 1/20\n"
     ]
    },
    {
     "name": "stderr",
     "output_type": "stream",
     "text": [
      "100%|██████████| 476/476 [03:26<00:00,  2.31it/s]\n"
     ]
    },
    {
     "name": "stdout",
     "output_type": "stream",
     "text": [
      "{'val_loss': 1.683972976117764, 'val_accuracy': 0.5633136094674556, 'precision': 0.41168979364325126, 'recall': 0.5633136094674556, 'f1-score': 0.4552720637148236, 'macro_f1-score': 0.09709670608299707, 'balanced_accuracy': 0.11593159741117091, 'mcc': 0.41090132264400525}\n",
      "Epoch 2/20\n"
     ]
    },
    {
     "name": "stderr",
     "output_type": "stream",
     "text": [
      "100%|██████████| 476/476 [03:26<00:00,  2.31it/s]\n"
     ]
    },
    {
     "name": "stdout",
     "output_type": "stream",
     "text": [
      "{'val_loss': 1.385050285537288, 'val_accuracy': 0.6201183431952663, 'precision': 0.5062614608125438, 'recall': 0.6201183431952663, 'f1-score': 0.534561678534372, 'macro_f1-score': 0.19753748801079415, 'balanced_accuracy': 0.21168744771483905, 'mcc': 0.4949856094894351}\n",
      "Epoch 3/20\n"
     ]
    },
    {
     "name": "stderr",
     "output_type": "stream",
     "text": [
      "100%|██████████| 476/476 [03:26<00:00,  2.31it/s]\n"
     ]
    },
    {
     "name": "stdout",
     "output_type": "stream",
     "text": [
      "{'val_loss': 1.4637879954194122, 'val_accuracy': 0.6142011834319526, 'precision': 0.5677162855521413, 'recall': 0.6142011834319526, 'f1-score': 0.5448492356221798, 'macro_f1-score': 0.21860921622710572, 'balanced_accuracy': 0.2170623904375179, 'mcc': 0.4856866769700396}\n",
      "Epoch 4/20\n"
     ]
    },
    {
     "name": "stderr",
     "output_type": "stream",
     "text": [
      "100%|██████████| 476/476 [03:26<00:00,  2.30it/s]\n"
     ]
    },
    {
     "name": "stdout",
     "output_type": "stream",
     "text": [
      "{'val_loss': 1.4340291546200805, 'val_accuracy': 0.6355029585798817, 'precision': 0.5837498810702582, 'recall': 0.6355029585798817, 'f1-score': 0.5717649507873696, 'macro_f1-score': 0.2622121921107282, 'balanced_accuracy': 0.25161517124508415, 'mcc': 0.5159081194742756}\n",
      "Epoch 5/20\n"
     ]
    },
    {
     "name": "stderr",
     "output_type": "stream",
     "text": [
      "100%|██████████| 476/476 [03:25<00:00,  2.31it/s]\n"
     ]
    },
    {
     "name": "stdout",
     "output_type": "stream",
     "text": [
      "{'val_loss': 1.3067729208829268, 'val_accuracy': 0.6579881656804734, 'precision': 0.6327061559397208, 'recall': 0.6579881656804734, 'f1-score': 0.6334186770184193, 'macro_f1-score': 0.30783230473512707, 'balanced_accuracy': 0.32811186852193025, 'mcc': 0.5688071959744556}\n",
      "Epoch 6/20\n"
     ]
    },
    {
     "name": "stderr",
     "output_type": "stream",
     "text": [
      "100%|██████████| 476/476 [03:26<00:00,  2.30it/s]\n"
     ]
    },
    {
     "name": "stdout",
     "output_type": "stream",
     "text": [
      "{'val_loss': 1.364121455628917, 'val_accuracy': 0.6355029585798817, 'precision': 0.6222639358526392, 'recall': 0.6355029585798817, 'f1-score': 0.6069402019492196, 'macro_f1-score': 0.30017636791131935, 'balanced_accuracy': 0.30708321025219637, 'mcc': 0.528801282078366}\n",
      "Epoch 7/20\n"
     ]
    },
    {
     "name": "stderr",
     "output_type": "stream",
     "text": [
      "100%|██████████| 476/476 [03:26<00:00,  2.31it/s]\n"
     ]
    },
    {
     "name": "stdout",
     "output_type": "stream",
     "text": [
      "{'val_loss': 1.4064531556840212, 'val_accuracy': 0.663905325443787, 'precision': 0.6465318694918416, 'recall': 0.663905325443787, 'f1-score': 0.6325216257914683, 'macro_f1-score': 0.340232450711098, 'balanced_accuracy': 0.33216861603064773, 'mcc': 0.5659650306344276}\n",
      "Epoch 8/20\n"
     ]
    },
    {
     "name": "stderr",
     "output_type": "stream",
     "text": [
      "100%|██████████| 476/476 [03:25<00:00,  2.31it/s]\n"
     ]
    },
    {
     "name": "stdout",
     "output_type": "stream",
     "text": [
      "{'val_loss': 1.49060675895439, 'val_accuracy': 0.6603550295857988, 'precision': 0.6546236497359685, 'recall': 0.6603550295857988, 'f1-score': 0.6403023083483335, 'macro_f1-score': 0.3765719525958943, 'balanced_accuracy': 0.3897094364525965, 'mcc': 0.5658498540815904}\n",
      "Epoch 9/20\n"
     ]
    },
    {
     "name": "stderr",
     "output_type": "stream",
     "text": [
      "100%|██████████| 476/476 [03:26<00:00,  2.31it/s]\n"
     ]
    },
    {
     "name": "stdout",
     "output_type": "stream",
     "text": [
      "{'val_loss': 1.5142895393776443, 'val_accuracy': 0.6662721893491125, 'precision': 0.6446776439687767, 'recall': 0.6662721893491125, 'f1-score': 0.6395685299185451, 'macro_f1-score': 0.35729647006128423, 'balanced_accuracy': 0.37709886429750833, 'mcc': 0.5700607516200736}\n",
      "Epoch 10/20\n"
     ]
    },
    {
     "name": "stderr",
     "output_type": "stream",
     "text": [
      "100%|██████████| 476/476 [03:26<00:00,  2.30it/s]\n",
      "D:\\Anaconda3\\envs\\cuda\\Lib\\site-packages\\sklearn\\metrics\\_classification.py:2458: UserWarning: y_pred contains classes not in y_true\n",
      "  warnings.warn(\"y_pred contains classes not in y_true\")\n"
     ]
    },
    {
     "name": "stdout",
     "output_type": "stream",
     "text": [
      "{'val_loss': 1.5008107808963307, 'val_accuracy': 0.6627218934911243, 'precision': 0.6646551791216714, 'recall': 0.6627218934911243, 'f1-score': 0.6495535444992484, 'macro_f1-score': 0.3997110018038842, 'balanced_accuracy': 0.42413893564632826, 'mcc': 0.5749898299573009}\n",
      "Epoch 11/20\n"
     ]
    },
    {
     "name": "stderr",
     "output_type": "stream",
     "text": [
      "100%|██████████| 476/476 [03:26<00:00,  2.30it/s]\n"
     ]
    },
    {
     "name": "stdout",
     "output_type": "stream",
     "text": [
      "{'val_loss': 1.560586081923179, 'val_accuracy': 0.650887573964497, 'precision': 0.6728728520391309, 'recall': 0.650887573964497, 'f1-score': 0.6399819450956962, 'macro_f1-score': 0.3731128983372612, 'balanced_accuracy': 0.3993630400389516, 'mcc': 0.5618425529744864}\n",
      "Epoch 12/20\n"
     ]
    },
    {
     "name": "stderr",
     "output_type": "stream",
     "text": [
      "100%|██████████| 476/476 [03:26<00:00,  2.31it/s]\n"
     ]
    },
    {
     "name": "stdout",
     "output_type": "stream",
     "text": [
      "{'val_loss': 1.6569148487639878, 'val_accuracy': 0.6662721893491125, 'precision': 0.6533481702562776, 'recall': 0.6662721893491125, 'f1-score': 0.6449432267720847, 'macro_f1-score': 0.39155097515816384, 'balanced_accuracy': 0.423984153846903, 'mcc': 0.5777172101201108}\n",
      "Epoch 13/20\n"
     ]
    },
    {
     "name": "stderr",
     "output_type": "stream",
     "text": [
      "100%|██████████| 476/476 [03:26<00:00,  2.31it/s]\n"
     ]
    },
    {
     "name": "stdout",
     "output_type": "stream",
     "text": [
      "{'val_loss': 1.6305924378476053, 'val_accuracy': 0.6674556213017752, 'precision': 0.6616048424468495, 'recall': 0.6674556213017752, 'f1-score': 0.6490022810431568, 'macro_f1-score': 0.4125150005864958, 'balanced_accuracy': 0.4224257978682914, 'mcc': 0.5756454074620386}\n",
      "Epoch 14/20\n"
     ]
    },
    {
     "name": "stderr",
     "output_type": "stream",
     "text": [
      "100%|██████████| 476/476 [03:26<00:00,  2.31it/s]\n",
      "D:\\Anaconda3\\envs\\cuda\\Lib\\site-packages\\sklearn\\metrics\\_classification.py:2458: UserWarning: y_pred contains classes not in y_true\n",
      "  warnings.warn(\"y_pred contains classes not in y_true\")\n"
     ]
    },
    {
     "name": "stdout",
     "output_type": "stream",
     "text": [
      "{'val_loss': 1.6907072607076392, 'val_accuracy': 0.6544378698224852, 'precision': 0.6826414781808079, 'recall': 0.6544378698224852, 'f1-score': 0.6514807542209146, 'macro_f1-score': 0.40142590920525234, 'balanced_accuracy': 0.4264194191882275, 'mcc': 0.5717697842495444}\n",
      "Epoch 15/20\n"
     ]
    },
    {
     "name": "stderr",
     "output_type": "stream",
     "text": [
      "100%|██████████| 476/476 [03:27<00:00,  2.30it/s]\n",
      "D:\\Anaconda3\\envs\\cuda\\Lib\\site-packages\\sklearn\\metrics\\_classification.py:2458: UserWarning: y_pred contains classes not in y_true\n",
      "  warnings.warn(\"y_pred contains classes not in y_true\")\n"
     ]
    },
    {
     "name": "stdout",
     "output_type": "stream",
     "text": [
      "{'val_loss': 1.6504111261862628, 'val_accuracy': 0.6650887573964497, 'precision': 0.6639495288400712, 'recall': 0.6650887573964497, 'f1-score': 0.6494476160689873, 'macro_f1-score': 0.3796787013081484, 'balanced_accuracy': 0.4138201037744245, 'mcc': 0.5801513295589595}\n",
      "Epoch 16/20\n"
     ]
    },
    {
     "name": "stderr",
     "output_type": "stream",
     "text": [
      "100%|██████████| 476/476 [03:26<00:00,  2.30it/s]\n"
     ]
    },
    {
     "name": "stdout",
     "output_type": "stream",
     "text": [
      "{'val_loss': 1.7070787177895599, 'val_accuracy': 0.663905325443787, 'precision': 0.6497880294502443, 'recall': 0.663905325443787, 'f1-score': 0.6446323437888889, 'macro_f1-score': 0.3547407282450688, 'balanced_accuracy': 0.37815949334469495, 'mcc': 0.5711236245422323}\n",
      "Early stopping triggered at epoch 16\n",
      "Final 10-fold Cross-Validation Results:\n",
      "val_loss: 1.478998220766742\n",
      "val_accuracy: 0.6538205377756131\n",
      "precision: 0.6326588839354779\n",
      "recall: 0.6538205377756131\n",
      "f1-score: 0.6245260391968246\n",
      "macro_f1-score: 0.30377756644600584\n",
      "balanced_accuracy: 0.32295648846027164\n",
      "mcc: 0.5356984160229266\n"
     ]
    }
   ],
   "source": [
    "from torch.utils.data import DataLoader\n",
    "import torch\n",
    "from torch.nn import CrossEntropyLoss\n",
    "from torch.optim import AdamW\n",
    "from tqdm import tqdm\n",
    "import numpy as np\n",
    "\n",
    "all_fold_results = []\n",
    "\n",
    "# 進行 10 折交叉驗證\n",
    "for fold, (train_idx, val_idx) in enumerate(kf.split(messages)):\n",
    "    print(f\"Fold {fold + 1}\")\n",
    "    \n",
    "    train_messages = [messages[i] for i in train_idx]\n",
    "    train_labels = [labels[i] for i in train_idx]\n",
    "    val_messages = [messages[i] for i in val_idx]\n",
    "    val_labels = [labels[i] for i in val_idx]\n",
    "\n",
    "    print(\"Training set label distribution:\", {label: train_labels.count(label) for label in set(train_labels)})\n",
    "    print(\"Validation set label distribution:\", {label: val_labels.count(label) for label in set(val_labels)})\n",
    "    \n",
    "    train_dataset = CustomDataset(train_messages, train_labels, tokenizer, MAX_LENGTH)\n",
    "    val_dataset = CustomDataset(val_messages, val_labels, tokenizer, MAX_LENGTH)\n",
    "    train_dataloader = DataLoader(train_dataset, batch_size=BATCH_SIZE, shuffle=True)\n",
    "    val_dataloader = DataLoader(val_dataset, batch_size=BATCH_SIZE)\n",
    "\n",
    "    NUM_LABELS = len(set(train_labels) | set(val_labels))\n",
    "    model = RobertaForSequenceClassification.from_pretrained('roberta-base', num_labels=NUM_LABELS)\n",
    "    model.to(device)\n",
    "    optimizer = AdamW(model.parameters(), lr=5e-5, weight_decay=1e-2)\n",
    "    criterion = CrossEntropyLoss()\n",
    "\n",
    "    epoch_results = []\n",
    "    patience = 3\n",
    "    best_macro_f1 = 0\n",
    "    epochs_without_improvement = 0\n",
    "    \n",
    "    for epoch in range(EPOCHS):\n",
    "        print(f\"Epoch {epoch + 1}/{EPOCHS}\")\n",
    "        train_loss = train_epoch(model, train_dataloader, optimizer, criterion)\n",
    "        metrics = eval_model(model, val_dataloader, criterion, num_labels=NUM_LABELS)\n",
    "        epoch_results.append(metrics)\n",
    "        print(metrics)\n",
    "\n",
    "        current_macro_f1 = metrics[\"macro_f1-score\"]\n",
    "        \n",
    "        if current_macro_f1 > best_macro_f1:\n",
    "            best_macro_f1 = current_macro_f1  # 更新最佳 macro_f1-score\n",
    "            epochs_without_improvement = 0   # 重置計數\n",
    "        else:\n",
    "            epochs_without_improvement += 1  # 增加計數\n",
    "        \n",
    "        # 若連續 patience 3 次沒有提升，則停止訓練\n",
    "        if epochs_without_improvement >= patience:\n",
    "            print(f\"Early stopping triggered at epoch {epoch + 1}\")\n",
    "            break\n",
    "    \n",
    "    avg_metrics = {metric: np.mean([epoch[metric] for epoch in epoch_results]) for metric in epoch_results[0].keys()}\n",
    "    all_fold_results.append(avg_metrics)\n",
    "\n",
    "final_metrics = {metric: np.mean([result[metric] for result in all_fold_results]) for metric in all_fold_results[0].keys()}\n",
    "print(\"Final 10-fold Cross-Validation Results:\")\n",
    "for metric, value in final_metrics.items():\n",
    "    print(f\"{metric}: {value}\")"
   ]
  },
  {
   "cell_type": "code",
   "execution_count": 8,
   "id": "f8016681-94ee-4d35-81ac-9831d7172f0d",
   "metadata": {},
   "outputs": [
    {
     "data": {
      "text/plain": [
       "[{'val_loss': 1.469586738029025,\n",
       "  'val_accuracy': 0.6389426176660219,\n",
       "  'precision': 0.603787939218175,\n",
       "  'recall': 0.6389426176660219,\n",
       "  'f1-score': 0.6003984040433173,\n",
       "  'macro_f1-score': 0.28400177288276796,\n",
       "  'balanced_accuracy': 0.29724746082951387,\n",
       "  'mcc': 0.5180625795146445},\n",
       " {'val_loss': 1.5246250114025401,\n",
       "  'val_accuracy': 0.6671643648127411,\n",
       "  'precision': 0.662180818632016,\n",
       "  'recall': 0.6671643648127411,\n",
       "  'f1-score': 0.6424931510973488,\n",
       "  'macro_f1-score': 0.30194871625466807,\n",
       "  'balanced_accuracy': 0.30871524403867234,\n",
       "  'mcc': 0.5486383755538674},\n",
       " {'val_loss': 1.4199063877432014,\n",
       "  'val_accuracy': 0.6765450861195541,\n",
       "  'precision': 0.6533041791679464,\n",
       "  'recall': 0.6765450861195541,\n",
       "  'f1-score': 0.6481997123155364,\n",
       "  'macro_f1-score': 0.298155411315566,\n",
       "  'balanced_accuracy': 0.31153992973987493,\n",
       "  'mcc': 0.550534217670172},\n",
       " {'val_loss': 1.4529931337605269,\n",
       "  'val_accuracy': 0.66725768321513,\n",
       "  'precision': 0.6568523802998568,\n",
       "  'recall': 0.66725768321513,\n",
       "  'f1-score': 0.646143064727944,\n",
       "  'macro_f1-score': 0.31571546896184816,\n",
       "  'balanced_accuracy': 0.332197769701439,\n",
       "  'mcc': 0.5510609970197796},\n",
       " {'val_loss': 1.576792505777107,\n",
       "  'val_accuracy': 0.6450887573964497,\n",
       "  'precision': 0.6335304736978177,\n",
       "  'recall': 0.6450887573964497,\n",
       "  'f1-score': 0.6199994070300854,\n",
       "  'macro_f1-score': 0.2985364990950339,\n",
       "  'balanced_accuracy': 0.31824048365329977,\n",
       "  'mcc': 0.5307894591586857},\n",
       " {'val_loss': 1.4967114609320589,\n",
       "  'val_accuracy': 0.6478303747534516,\n",
       "  'precision': 0.6213337558747302,\n",
       "  'recall': 0.6478303747534516,\n",
       "  'f1-score': 0.6194971039577365,\n",
       "  'macro_f1-score': 0.30918817059492193,\n",
       "  'balanced_accuracy': 0.33930244109093394,\n",
       "  'mcc': 0.536295595076738},\n",
       " {'val_loss': 1.3230195771317061,\n",
       "  'val_accuracy': 0.6565088757396449,\n",
       "  'precision': 0.6538014912863875,\n",
       "  'recall': 0.6565088757396449,\n",
       "  'f1-score': 0.6383077146128227,\n",
       "  'macro_f1-score': 0.3027450658224974,\n",
       "  'balanced_accuracy': 0.32983515611448094,\n",
       "  'mcc': 0.5300365139906393},\n",
       " {'val_loss': 1.5742885227274814,\n",
       "  'val_accuracy': 0.6451792551340062,\n",
       "  'precision': 0.6190984103805024,\n",
       "  'recall': 0.6451792551340062,\n",
       "  'f1-score': 0.6119694129393483,\n",
       "  'macro_f1-score': 0.29263662417427855,\n",
       "  'balanced_accuracy': 0.32494848394603887,\n",
       "  'mcc': 0.525236400882378},\n",
       " {'val_loss': 1.4241722766427125,\n",
       "  'val_accuracy': 0.6469428007889545,\n",
       "  'precision': 0.6027568435222094,\n",
       "  'recall': 0.6469428007889545,\n",
       "  'f1-score': 0.6064873597957504,\n",
       "  'macro_f1-score': 0.31170416266531237,\n",
       "  'balanced_accuracy': 0.32886419385900556,\n",
       "  'mcc': 0.5213171724979017},\n",
       " {'val_loss': 1.527886593521063,\n",
       "  'val_accuracy': 0.6467455621301775,\n",
       "  'precision': 0.6199425472751372,\n",
       "  'recall': 0.6467455621301775,\n",
       "  'f1-score': 0.6117650614483567,\n",
       "  'macro_f1-score': 0.3231437726931639,\n",
       "  'balanced_accuracy': 0.338673721629457,\n",
       "  'mcc': 0.5450128488644588}]"
      ]
     },
     "execution_count": 8,
     "metadata": {},
     "output_type": "execute_result"
    }
   ],
   "source": [
    "all_fold_results"
   ]
  }
 ],
 "metadata": {
  "kernelspec": {
   "display_name": "Python 3 (ipykernel)",
   "language": "python",
   "name": "python3"
  },
  "language_info": {
   "codemirror_mode": {
    "name": "ipython",
    "version": 3
   },
   "file_extension": ".py",
   "mimetype": "text/x-python",
   "name": "python",
   "nbconvert_exporter": "python",
   "pygments_lexer": "ipython3",
   "version": "3.11.9"
  }
 },
 "nbformat": 4,
 "nbformat_minor": 5
}
