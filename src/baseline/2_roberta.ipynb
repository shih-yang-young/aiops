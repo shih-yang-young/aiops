{
 "cells": [
  {
   "cell_type": "code",
   "execution_count": 1,
   "id": "2e76aa66-729a-4bf9-98b9-61d8114e9f3a",
   "metadata": {},
   "outputs": [
    {
     "data": {
      "text/html": [
       "<div>\n",
       "<style scoped>\n",
       "    .dataframe tbody tr th:only-of-type {\n",
       "        vertical-align: middle;\n",
       "    }\n",
       "\n",
       "    .dataframe tbody tr th {\n",
       "        vertical-align: top;\n",
       "    }\n",
       "\n",
       "    .dataframe thead th {\n",
       "        text-align: right;\n",
       "    }\n",
       "</style>\n",
       "<table border=\"1\" class=\"dataframe\">\n",
       "  <thead>\n",
       "    <tr style=\"text-align: right;\">\n",
       "      <th></th>\n",
       "      <th>Inbound Message</th>\n",
       "      <th>Label</th>\n",
       "    </tr>\n",
       "  </thead>\n",
       "  <tbody>\n",
       "    <tr>\n",
       "      <th>0</th>\n",
       "      <td>login issue verified user details employee man...</td>\n",
       "      <td>0</td>\n",
       "    </tr>\n",
       "    <tr>\n",
       "      <th>1</th>\n",
       "      <td>outlook hello team meetings skype meetings etc...</td>\n",
       "      <td>0</td>\n",
       "    </tr>\n",
       "    <tr>\n",
       "      <th>2</th>\n",
       "      <td>cant log vpn cannot log vpn best</td>\n",
       "      <td>0</td>\n",
       "    </tr>\n",
       "    <tr>\n",
       "      <th>3</th>\n",
       "      <td>unable access tool page unable access tool page</td>\n",
       "      <td>0</td>\n",
       "    </tr>\n",
       "    <tr>\n",
       "      <th>4</th>\n",
       "      <td>skype error skype error</td>\n",
       "      <td>0</td>\n",
       "    </tr>\n",
       "    <tr>\n",
       "      <th>...</th>\n",
       "      <td>...</td>\n",
       "      <td>...</td>\n",
       "    </tr>\n",
       "    <tr>\n",
       "      <th>8449</th>\n",
       "      <td>emails coming mail good afternoon receiving em...</td>\n",
       "      <td>22</td>\n",
       "    </tr>\n",
       "    <tr>\n",
       "      <th>8450</th>\n",
       "      <td>telephony software issue telephony software issue</td>\n",
       "      <td>0</td>\n",
       "    </tr>\n",
       "    <tr>\n",
       "      <th>8451</th>\n",
       "      <td>vip windows password reset tifpdchb pedxruyf v...</td>\n",
       "      <td>0</td>\n",
       "    </tr>\n",
       "    <tr>\n",
       "      <th>8452</th>\n",
       "      <td>machine est funcionando unable access machine ...</td>\n",
       "      <td>44</td>\n",
       "    </tr>\n",
       "    <tr>\n",
       "      <th>8453</th>\n",
       "      <td>mehreren lassen sich verschiedene prgramdntyme...</td>\n",
       "      <td>49</td>\n",
       "    </tr>\n",
       "  </tbody>\n",
       "</table>\n",
       "<p>8454 rows × 2 columns</p>\n",
       "</div>"
      ],
      "text/plain": [
       "                                        Inbound Message  Label\n",
       "0     login issue verified user details employee man...      0\n",
       "1     outlook hello team meetings skype meetings etc...      0\n",
       "2                      cant log vpn cannot log vpn best      0\n",
       "3       unable access tool page unable access tool page      0\n",
       "4                               skype error skype error      0\n",
       "...                                                 ...    ...\n",
       "8449  emails coming mail good afternoon receiving em...     22\n",
       "8450  telephony software issue telephony software issue      0\n",
       "8451  vip windows password reset tifpdchb pedxruyf v...      0\n",
       "8452  machine est funcionando unable access machine ...     44\n",
       "8453  mehreren lassen sich verschiedene prgramdntyme...     49\n",
       "\n",
       "[8454 rows x 2 columns]"
      ]
     },
     "execution_count": 1,
     "metadata": {},
     "output_type": "execute_result"
    }
   ],
   "source": [
    "import pandas as pd\n",
    "data_path = \"../../data/open_source_8454_combine_short_description.csv\"  # 替換為你的檔案路徑\n",
    "df = pd.read_csv(data_path)\n",
    "# df_label_0 = df[df[\"Label\"] == 0]\n",
    "# df_label_0_to_drop = df_label_0.sample(n=3000, random_state=42)\n",
    "# df = df.drop(df_label_0_to_drop.index)\n",
    "df"
   ]
  },
  {
   "cell_type": "markdown",
   "id": "e79be804-d1e3-463a-824f-d4765544e493",
   "metadata": {},
   "source": [
    "# 十折驗證法"
   ]
  },
  {
   "cell_type": "code",
   "execution_count": 2,
   "id": "7e6a5029-3898-4bab-8d6c-bfd1a3694153",
   "metadata": {},
   "outputs": [
    {
     "name": "stdout",
     "output_type": "stream",
     "text": [
      "Using device: cuda\n",
      "CUDA Available: True\n",
      "CUDA Device: NVIDIA GeForce RTX 3050 6GB Laptop GPU\n",
      "Current GPU Memory Allocated: 0.0 GB\n",
      "Current GPU Memory Cached: 0.0 GB\n"
     ]
    }
   ],
   "source": [
    "import torch\n",
    "device = torch.device('cuda') if torch.cuda.is_available() else torch.device('cpu')\n",
    "print(f\"Using device: {device}\") \n",
    "print(f\"CUDA Available: {torch.cuda.is_available()}\")\n",
    "print(f\"CUDA Device: {torch.cuda.get_device_name(0)}\")\n",
    "print(f\"Current GPU Memory Allocated: {torch.cuda.memory_allocated() / 1e9} GB\")\n",
    "print(f\"Current GPU Memory Cached: {torch.cuda.memory_reserved() / 1e9} GB\")"
   ]
  },
  {
   "cell_type": "code",
   "execution_count": 3,
   "id": "833a0227-7775-4659-a98c-48c3fbdc9db9",
   "metadata": {},
   "outputs": [],
   "source": [
    "from torch.utils.data import Dataset\n",
    "class CustomDataset(Dataset):\n",
    "    def __init__(self, messages, labels, tokenizer, max_length):\n",
    "        self.messages = messages\n",
    "        self.labels = labels\n",
    "        self.tokenizer = tokenizer\n",
    "        self.max_length = max_length\n",
    "\n",
    "    def __len__(self):\n",
    "        return len(self.messages)\n",
    "\n",
    "    def __getitem__(self, idx):\n",
    "        message = str(self.messages[idx])\n",
    "        label = self.labels[idx]\n",
    "        \n",
    "        encoding = self.tokenizer.encode_plus(\n",
    "            message,\n",
    "            max_length=self.max_length,\n",
    "            add_special_tokens=True,\n",
    "            padding='max_length',\n",
    "            truncation=True,\n",
    "            return_attention_mask=True,\n",
    "            return_tensors='pt'\n",
    "        )\n",
    "        \n",
    "        return {\n",
    "            'input_ids': encoding['input_ids'].flatten(),\n",
    "            'attention_mask': encoding['attention_mask'].flatten(),\n",
    "            'labels': torch.tensor(label, dtype=torch.long)\n",
    "        }"
   ]
  },
  {
   "cell_type": "code",
   "execution_count": 4,
   "id": "985bf187-a1b5-4882-9e52-2cbc0188e8a6",
   "metadata": {},
   "outputs": [],
   "source": [
    "# 定義訓練與評估函數\n",
    "def train_epoch(model, dataloader, optimizer, criterion):\n",
    "    model.train()\n",
    "    total_loss = 0\n",
    "\n",
    "    for batch in tqdm(dataloader):\n",
    "        optimizer.zero_grad()\n",
    "\n",
    "        input_ids = batch['input_ids'].to(device)\n",
    "        attention_mask = batch['attention_mask'].to(device)\n",
    "        labels = batch['labels'].to(device)\n",
    "\n",
    "        outputs = model(input_ids=input_ids, attention_mask=attention_mask, labels=labels)\n",
    "        loss = outputs.loss\n",
    "        total_loss += loss.item()\n",
    "\n",
    "        loss.backward()\n",
    "        optimizer.step()\n",
    "    \n",
    "    return total_loss / len(dataloader)"
   ]
  },
  {
   "cell_type": "code",
   "execution_count": 5,
   "id": "7dceb8a1-edf1-42fe-ac48-dc84ed4709cf",
   "metadata": {},
   "outputs": [],
   "source": [
    "from sklearn.metrics import precision_score, recall_score, f1_score, balanced_accuracy_score, matthews_corrcoef\n",
    "from sklearn.preprocessing import label_binarize\n",
    "import numpy as np\n",
    "import torch\n",
    "\n",
    "def eval_model(model, dataloader, criterion, num_labels):\n",
    "    model.eval()\n",
    "    total_loss = 0\n",
    "    all_labels = []\n",
    "    all_preds = []\n",
    "    all_probs = []\n",
    "    \n",
    "    with torch.no_grad():\n",
    "        for batch in dataloader:\n",
    "            input_ids = batch['input_ids'].to(device)\n",
    "            attention_mask = batch['attention_mask'].to(device)\n",
    "            labels = batch['labels'].to(device)\n",
    "\n",
    "            outputs = model(input_ids=input_ids, attention_mask=attention_mask)\n",
    "            logits = outputs.logits\n",
    "            loss = criterion(logits, labels)\n",
    "            total_loss += loss.item()\n",
    "\n",
    "            probs = torch.softmax(logits, dim=1)\n",
    "            _, preds = torch.max(logits, dim=1)\n",
    "\n",
    "            all_labels.extend(labels.cpu().numpy())\n",
    "            all_preds.extend(preds.cpu().numpy())\n",
    "            all_probs.extend(probs.cpu().numpy())\n",
    "\n",
    "    val_loss = total_loss / len(dataloader)\n",
    "    val_accuracy = np.mean(np.array(all_preds) == np.array(all_labels))\n",
    "    precision = precision_score(all_labels, all_preds, average='weighted', zero_division=0)\n",
    "    recall = recall_score(all_labels, all_preds, average='weighted', zero_division=0)\n",
    "    f1 = f1_score(all_labels, all_preds, average='weighted', zero_division=0)\n",
    "    macro_f1 = f1_score(all_labels, all_preds, average='macro', zero_division=0)\n",
    "    balanced_acc = balanced_accuracy_score(all_labels, all_preds)\n",
    "    mcc = matthews_corrcoef(all_labels, all_preds)\n",
    "\n",
    "    return {\n",
    "        \"val_loss\": val_loss,\n",
    "        \"val_accuracy\": val_accuracy,\n",
    "        \"precision\": precision,\n",
    "        \"recall\": recall,\n",
    "        \"f1-score\": f1,\n",
    "        \"macro_f1-score\": macro_f1,\n",
    "        \"balanced_accuracy\": balanced_acc,\n",
    "        \"mcc\": mcc\n",
    "    }"
   ]
  },
  {
   "cell_type": "code",
   "execution_count": 6,
   "id": "0217a72c-db4d-4875-8a00-33f2dae9de5e",
   "metadata": {},
   "outputs": [],
   "source": [
    "from transformers import RobertaTokenizer, RobertaForSequenceClassification\n",
    "from sklearn.model_selection import StratifiedKFold\n",
    "# 設定參數\n",
    "MAX_LENGTH = 128\n",
    "BATCH_SIZE = 16\n",
    "EPOCHS = 20\n",
    "\n",
    "# 初始化 RoBERTa 的 tokenizer\n",
    "tokenizer = RobertaTokenizer.from_pretrained('roberta-base')\n",
    "\n",
    "# 初始化數據\n",
    "messages = df['Inbound Message'].tolist()\n",
    "labels = df['Label'].tolist()\n",
    "\n",
    "# KFold 初始化\n",
    "skf = StratifiedKFold(n_splits=10, shuffle=True, random_state=42)"
   ]
  },
  {
   "cell_type": "code",
   "execution_count": 7,
   "id": "ee99c1b8-2fc7-483a-8cb6-d375039c6cb1",
   "metadata": {
    "scrolled": true
   },
   "outputs": [
    {
     "name": "stderr",
     "output_type": "stream",
     "text": [
      "D:\\Anaconda3\\envs\\cuda\\Lib\\site-packages\\sklearn\\model_selection\\_split.py:737: UserWarning: The least populated class in y has only 7 members, which is less than n_splits=10.\n",
      "  warnings.warn(\n"
     ]
    },
    {
     "name": "stdout",
     "output_type": "stream",
     "text": [
      "Fold 1\n",
      "Training set label distribution: {0: 3576, 1: 28, 2: 126, 3: 27, 4: 231, 5: 130, 6: 107, 7: 35, 8: 76, 9: 73, 10: 79, 11: 194, 12: 217, 13: 32, 14: 26, 15: 28, 16: 23, 17: 260, 18: 104, 19: 51, 20: 16, 21: 39, 22: 88, 23: 180, 24: 18, 25: 56, 26: 97, 27: 55, 28: 13, 29: 15, 30: 17, 31: 90, 32: 40, 33: 36, 34: 34, 35: 13, 36: 32, 37: 24, 38: 7, 39: 116, 40: 13, 41: 9, 42: 166, 43: 18, 44: 22, 45: 10, 46: 61, 47: 595, 48: 227, 49: 78}\n",
      "Validation set label distribution: {0: 398, 1: 3, 2: 14, 3: 3, 4: 26, 5: 15, 6: 11, 7: 4, 8: 9, 9: 8, 10: 9, 11: 21, 12: 24, 13: 4, 14: 3, 15: 3, 16: 2, 17: 29, 18: 12, 19: 5, 20: 2, 21: 5, 22: 9, 23: 20, 24: 2, 25: 7, 26: 10, 27: 6, 28: 2, 29: 1, 30: 2, 31: 10, 32: 5, 33: 4, 34: 3, 35: 2, 36: 3, 37: 3, 39: 13, 40: 1, 41: 2, 42: 18, 43: 2, 44: 3, 45: 1, 46: 7, 47: 66, 48: 25, 49: 9}\n"
     ]
    },
    {
     "name": "stderr",
     "output_type": "stream",
     "text": [
      "Some weights of RobertaForSequenceClassification were not initialized from the model checkpoint at roberta-base and are newly initialized: ['classifier.dense.bias', 'classifier.dense.weight', 'classifier.out_proj.bias', 'classifier.out_proj.weight']\n",
      "You should probably TRAIN this model on a down-stream task to be able to use it for predictions and inference.\n"
     ]
    },
    {
     "name": "stdout",
     "output_type": "stream",
     "text": [
      "Epoch 1/20\n"
     ]
    },
    {
     "name": "stderr",
     "output_type": "stream",
     "text": [
      "100%|██████████| 476/476 [03:30<00:00,  2.26it/s]\n"
     ]
    },
    {
     "name": "stdout",
     "output_type": "stream",
     "text": [
      "{'val_loss': 1.5861340390061431, 'val_accuracy': 0.6087470449172577, 'precision': 0.4722107799795932, 'recall': 0.6087470449172577, 'f1-score': 0.5071111752653318, 'macro_f1-score': 0.11019155763393834, 'balanced_accuracy': 0.13096004281532556, 'mcc': 0.4454130988164875}\n",
      "Epoch 2/20\n"
     ]
    },
    {
     "name": "stderr",
     "output_type": "stream",
     "text": [
      "100%|██████████| 476/476 [03:29<00:00,  2.27it/s]\n"
     ]
    },
    {
     "name": "stdout",
     "output_type": "stream",
     "text": [
      "{'val_loss': 1.4335838882428296, 'val_accuracy': 0.6394799054373522, 'precision': 0.5646904787643576, 'recall': 0.6394799054373522, 'f1-score': 0.5650154164080017, 'macro_f1-score': 0.1946770462086185, 'balanced_accuracy': 0.19781274293246542, 'mcc': 0.4919806387571687}\n",
      "Epoch 3/20\n"
     ]
    },
    {
     "name": "stderr",
     "output_type": "stream",
     "text": [
      "100%|██████████| 476/476 [03:31<00:00,  2.25it/s]\n"
     ]
    },
    {
     "name": "stdout",
     "output_type": "stream",
     "text": [
      "{'val_loss': 1.3016891783138491, 'val_accuracy': 0.6607565011820331, 'precision': 0.6038356918095303, 'recall': 0.6607565011820331, 'f1-score': 0.6127036698944945, 'macro_f1-score': 0.26479799974309814, 'balanced_accuracy': 0.28673740530370617, 'mcc': 0.542071806794123}\n",
      "Epoch 4/20\n"
     ]
    },
    {
     "name": "stderr",
     "output_type": "stream",
     "text": [
      "100%|██████████| 476/476 [03:30<00:00,  2.26it/s]\n"
     ]
    },
    {
     "name": "stdout",
     "output_type": "stream",
     "text": [
      "{'val_loss': 1.2986310844151479, 'val_accuracy': 0.6713947990543735, 'precision': 0.6325850892890558, 'recall': 0.6713947990543735, 'f1-score': 0.6368316584529178, 'macro_f1-score': 0.2883070831202034, 'balanced_accuracy': 0.2977750261346462, 'mcc': 0.5572914454901661}\n",
      "Epoch 5/20\n"
     ]
    },
    {
     "name": "stderr",
     "output_type": "stream",
     "text": [
      "100%|██████████| 476/476 [03:30<00:00,  2.26it/s]\n"
     ]
    },
    {
     "name": "stdout",
     "output_type": "stream",
     "text": [
      "{'val_loss': 1.2993147823045839, 'val_accuracy': 0.6607565011820331, 'precision': 0.6445132646937181, 'recall': 0.6607565011820331, 'f1-score': 0.6378358939891046, 'macro_f1-score': 0.304625417440223, 'balanced_accuracy': 0.31014975503123493, 'mcc': 0.5497476432603673}\n",
      "Epoch 6/20\n"
     ]
    },
    {
     "name": "stderr",
     "output_type": "stream",
     "text": [
      "100%|██████████| 476/476 [03:31<00:00,  2.25it/s]\n"
     ]
    },
    {
     "name": "stdout",
     "output_type": "stream",
     "text": [
      "{'val_loss': 1.3200214730118804, 'val_accuracy': 0.6713947990543735, 'precision': 0.6915193287437085, 'recall': 0.6713947990543735, 'f1-score': 0.6660687054455814, 'macro_f1-score': 0.3717370218192869, 'balanced_accuracy': 0.38026408285317187, 'mcc': 0.5699181199063299}\n",
      "Epoch 7/20\n"
     ]
    },
    {
     "name": "stderr",
     "output_type": "stream",
     "text": [
      "100%|██████████| 476/476 [03:30<00:00,  2.26it/s]\n"
     ]
    },
    {
     "name": "stdout",
     "output_type": "stream",
     "text": [
      "{'val_loss': 1.3611488331038997, 'val_accuracy': 0.6832151300236406, 'precision': 0.662942343870249, 'recall': 0.6832151300236406, 'f1-score': 0.6523555349157718, 'macro_f1-score': 0.36230465113313437, 'balanced_accuracy': 0.35286975021684813, 'mcc': 0.5707696048772992}\n",
      "Epoch 8/20\n"
     ]
    },
    {
     "name": "stderr",
     "output_type": "stream",
     "text": [
      "100%|██████████| 476/476 [03:30<00:00,  2.26it/s]\n"
     ]
    },
    {
     "name": "stdout",
     "output_type": "stream",
     "text": [
      "{'val_loss': 1.4300344558256977, 'val_accuracy': 0.682033096926714, 'precision': 0.6934268373015458, 'recall': 0.682033096926714, 'f1-score': 0.6675987890753693, 'macro_f1-score': 0.3913727432087358, 'balanced_accuracy': 0.3847519000908044, 'mcc': 0.5776766428122472}\n",
      "Epoch 9/20\n"
     ]
    },
    {
     "name": "stderr",
     "output_type": "stream",
     "text": [
      "100%|██████████| 476/476 [03:30<00:00,  2.26it/s]\n"
     ]
    },
    {
     "name": "stdout",
     "output_type": "stream",
     "text": [
      "{'val_loss': 1.5490301093965206, 'val_accuracy': 0.6524822695035462, 'precision': 0.666873432868469, 'recall': 0.6524822695035462, 'f1-score': 0.6425307421903628, 'macro_f1-score': 0.3802520171077243, 'balanced_accuracy': 0.4029126710454886, 'mcc': 0.5520891429896632}\n",
      "Epoch 10/20\n"
     ]
    },
    {
     "name": "stderr",
     "output_type": "stream",
     "text": [
      "100%|██████████| 476/476 [03:27<00:00,  2.29it/s]\n"
     ]
    },
    {
     "name": "stdout",
     "output_type": "stream",
     "text": [
      "{'val_loss': 1.5222306020979612, 'val_accuracy': 0.682033096926714, 'precision': 0.6973391950870865, 'recall': 0.682033096926714, 'f1-score': 0.6731408817517197, 'macro_f1-score': 0.4479225166622495, 'balanced_accuracy': 0.4411796796211834, 'mcc': 0.5836877294202527}\n",
      "Epoch 11/20\n"
     ]
    },
    {
     "name": "stderr",
     "output_type": "stream",
     "text": [
      "100%|██████████| 476/476 [03:29<00:00,  2.27it/s]\n"
     ]
    },
    {
     "name": "stdout",
     "output_type": "stream",
     "text": [
      "{'val_loss': 1.5857102882187322, 'val_accuracy': 0.66548463356974, 'precision': 0.6702123694914849, 'recall': 0.66548463356974, 'f1-score': 0.65208969753416, 'macro_f1-score': 0.3936885094605221, 'balanced_accuracy': 0.3907071652702517, 'mcc': 0.5623834912436192}\n",
      "Epoch 12/20\n"
     ]
    },
    {
     "name": "stderr",
     "output_type": "stream",
     "text": [
      "100%|██████████| 476/476 [03:30<00:00,  2.26it/s]\n"
     ]
    },
    {
     "name": "stdout",
     "output_type": "stream",
     "text": [
      "{'val_loss': 1.711360550151681, 'val_accuracy': 0.6607565011820331, 'precision': 0.6766332986028778, 'recall': 0.6607565011820331, 'f1-score': 0.6575485737384108, 'macro_f1-score': 0.37213016701524465, 'balanced_accuracy': 0.38533419588865714, 'mcc': 0.5554281118231965}\n",
      "Epoch 13/20\n"
     ]
    },
    {
     "name": "stderr",
     "output_type": "stream",
     "text": [
      "100%|██████████| 476/476 [03:31<00:00,  2.25it/s]\n"
     ]
    },
    {
     "name": "stdout",
     "output_type": "stream",
     "text": [
      "{'val_loss': 1.6153561051161784, 'val_accuracy': 0.6666666666666666, 'precision': 0.6727588713175534, 'recall': 0.6666666666666666, 'f1-score': 0.6556060610298374, 'macro_f1-score': 0.39579009915462415, 'balanced_accuracy': 0.39377487986857845, 'mcc': 0.5634054323472988}\n",
      "Early stopping triggered at epoch 13\n",
      "Fold 2\n",
      "Training set label distribution: {0: 3576, 1: 28, 2: 126, 3: 27, 4: 231, 5: 131, 6: 106, 7: 35, 8: 76, 9: 73, 10: 79, 11: 194, 12: 217, 13: 32, 14: 26, 15: 28, 16: 23, 17: 260, 18: 104, 19: 51, 20: 16, 21: 39, 22: 88, 23: 180, 24: 18, 25: 56, 26: 97, 27: 55, 28: 13, 29: 15, 30: 17, 31: 90, 32: 40, 33: 36, 34: 34, 35: 13, 36: 32, 37: 24, 38: 6, 39: 116, 40: 13, 41: 10, 42: 166, 43: 18, 44: 22, 45: 10, 46: 61, 47: 595, 48: 227, 49: 78}\n",
      "Validation set label distribution: {0: 398, 1: 3, 2: 14, 3: 3, 4: 26, 5: 14, 6: 12, 7: 4, 8: 9, 9: 8, 10: 9, 11: 21, 12: 24, 13: 4, 14: 3, 15: 3, 16: 2, 17: 29, 18: 12, 19: 5, 20: 2, 21: 5, 22: 9, 23: 20, 24: 2, 25: 7, 26: 10, 27: 6, 28: 2, 29: 1, 30: 2, 31: 10, 32: 5, 33: 4, 34: 3, 35: 2, 36: 3, 37: 3, 38: 1, 39: 13, 40: 1, 41: 1, 42: 18, 43: 2, 44: 3, 45: 1, 46: 7, 47: 66, 48: 25, 49: 9}\n"
     ]
    },
    {
     "name": "stderr",
     "output_type": "stream",
     "text": [
      "Some weights of RobertaForSequenceClassification were not initialized from the model checkpoint at roberta-base and are newly initialized: ['classifier.dense.bias', 'classifier.dense.weight', 'classifier.out_proj.bias', 'classifier.out_proj.weight']\n",
      "You should probably TRAIN this model on a down-stream task to be able to use it for predictions and inference.\n"
     ]
    },
    {
     "name": "stdout",
     "output_type": "stream",
     "text": [
      "Epoch 1/20\n"
     ]
    },
    {
     "name": "stderr",
     "output_type": "stream",
     "text": [
      "100%|██████████| 476/476 [03:31<00:00,  2.26it/s]\n"
     ]
    },
    {
     "name": "stdout",
     "output_type": "stream",
     "text": [
      "{'val_loss': 1.5467449370420203, 'val_accuracy': 0.6016548463356974, 'precision': 0.4710752776355613, 'recall': 0.6016548463356974, 'f1-score': 0.49668945518511537, 'macro_f1-score': 0.10707652299834308, 'balanced_accuracy': 0.11751245887288167, 'mcc': 0.43084168706684894}\n",
      "Epoch 2/20\n"
     ]
    },
    {
     "name": "stderr",
     "output_type": "stream",
     "text": [
      "100%|██████████| 476/476 [03:30<00:00,  2.26it/s]\n"
     ]
    },
    {
     "name": "stdout",
     "output_type": "stream",
     "text": [
      "{'val_loss': 1.3257601390469749, 'val_accuracy': 0.6453900709219859, 'precision': 0.5582719204948037, 'recall': 0.6453900709219859, 'f1-score': 0.5719052494085197, 'macro_f1-score': 0.18029887049243598, 'balanced_accuracy': 0.18798866062411373, 'mcc': 0.5068009356082862}\n",
      "Epoch 3/20\n"
     ]
    },
    {
     "name": "stderr",
     "output_type": "stream",
     "text": [
      "100%|██████████| 476/476 [03:29<00:00,  2.27it/s]\n"
     ]
    },
    {
     "name": "stdout",
     "output_type": "stream",
     "text": [
      "{'val_loss': 1.2567370393366184, 'val_accuracy': 0.6678486997635934, 'precision': 0.610139848902663, 'recall': 0.6678486997635934, 'f1-score': 0.6074228905357874, 'macro_f1-score': 0.2316946633550647, 'balanced_accuracy': 0.22990138876699265, 'mcc': 0.5421080042484672}\n",
      "Epoch 4/20\n"
     ]
    },
    {
     "name": "stderr",
     "output_type": "stream",
     "text": [
      "100%|██████████| 476/476 [03:31<00:00,  2.25it/s]\n"
     ]
    },
    {
     "name": "stdout",
     "output_type": "stream",
     "text": [
      "{'val_loss': 1.2415166249815024, 'val_accuracy': 0.6749408983451537, 'precision': 0.6271868296124609, 'recall': 0.6749408983451537, 'f1-score': 0.6359417995498619, 'macro_f1-score': 0.2669546107395704, 'balanced_accuracy': 0.27642388340591423, 'mcc': 0.5607771736000817}\n",
      "Epoch 5/20\n"
     ]
    },
    {
     "name": "stderr",
     "output_type": "stream",
     "text": [
      "100%|██████████| 476/476 [03:30<00:00,  2.26it/s]\n"
     ]
    },
    {
     "name": "stdout",
     "output_type": "stream",
     "text": [
      "{'val_loss': 1.3839121832037873, 'val_accuracy': 0.6193853427895981, 'precision': 0.6464284645406602, 'recall': 0.6193853427895981, 'f1-score': 0.616200501707405, 'macro_f1-score': 0.26422969787502326, 'balanced_accuracy': 0.30870881010054463, 'mcc': 0.5158948983766939}\n",
      "Epoch 6/20\n"
     ]
    },
    {
     "name": "stderr",
     "output_type": "stream",
     "text": [
      "100%|██████████| 476/476 [03:30<00:00,  2.26it/s]\n"
     ]
    },
    {
     "name": "stdout",
     "output_type": "stream",
     "text": [
      "{'val_loss': 1.3074401155957636, 'val_accuracy': 0.6843971631205674, 'precision': 0.6528516713593949, 'recall': 0.6843971631205674, 'f1-score': 0.6603544454011375, 'macro_f1-score': 0.3315871862650471, 'balanced_accuracy': 0.3425131602297084, 'mcc': 0.5761717157854487}\n",
      "Epoch 7/20\n"
     ]
    },
    {
     "name": "stderr",
     "output_type": "stream",
     "text": [
      "100%|██████████| 476/476 [03:29<00:00,  2.27it/s]\n"
     ]
    },
    {
     "name": "stdout",
     "output_type": "stream",
     "text": [
      "{'val_loss': 1.3349810934291695, 'val_accuracy': 0.6690307328605201, 'precision': 0.6384336481262718, 'recall': 0.6690307328605201, 'f1-score': 0.6406032507251307, 'macro_f1-score': 0.3113206141382419, 'balanced_accuracy': 0.319975714043172, 'mcc': 0.5596031359767112}\n",
      "Epoch 8/20\n"
     ]
    },
    {
     "name": "stderr",
     "output_type": "stream",
     "text": [
      "100%|██████████| 476/476 [03:29<00:00,  2.27it/s]\n"
     ]
    },
    {
     "name": "stdout",
     "output_type": "stream",
     "text": [
      "{'val_loss': 1.3857896299857013, 'val_accuracy': 0.6619385342789598, 'precision': 0.644035504775809, 'recall': 0.6619385342789598, 'f1-score': 0.6409625467307952, 'macro_f1-score': 0.33759150463114695, 'balanced_accuracy': 0.34985698720117364, 'mcc': 0.5482544498221545}\n",
      "Epoch 9/20\n"
     ]
    },
    {
     "name": "stderr",
     "output_type": "stream",
     "text": [
      "100%|██████████| 476/476 [03:29<00:00,  2.27it/s]\n"
     ]
    },
    {
     "name": "stdout",
     "output_type": "stream",
     "text": [
      "{'val_loss': 1.4541075848183542, 'val_accuracy': 0.640661938534279, 'precision': 0.6492331672054619, 'recall': 0.640661938534279, 'f1-score': 0.6345941308031677, 'macro_f1-score': 0.334057916964694, 'balanced_accuracy': 0.3513501696901454, 'mcc': 0.5363765433771978}\n",
      "Epoch 10/20\n"
     ]
    },
    {
     "name": "stderr",
     "output_type": "stream",
     "text": [
      "100%|██████████| 476/476 [03:30<00:00,  2.26it/s]\n"
     ]
    },
    {
     "name": "stdout",
     "output_type": "stream",
     "text": [
      "{'val_loss': 1.5407083428130959, 'val_accuracy': 0.6749408983451537, 'precision': 0.6458257115975465, 'recall': 0.6749408983451537, 'f1-score': 0.6467371349451836, 'macro_f1-score': 0.306302578037428, 'balanced_accuracy': 0.30602846561397934, 'mcc': 0.5600011799511422}\n",
      "Epoch 11/20\n"
     ]
    },
    {
     "name": "stderr",
     "output_type": "stream",
     "text": [
      "100%|██████████| 476/476 [03:29<00:00,  2.27it/s]\n"
     ]
    },
    {
     "name": "stdout",
     "output_type": "stream",
     "text": [
      "{'val_loss': 1.6548545433665223, 'val_accuracy': 0.6678486997635934, 'precision': 0.6371393126364638, 'recall': 0.6678486997635934, 'f1-score': 0.6411345330861479, 'macro_f1-score': 0.31792031067516796, 'balanced_accuracy': 0.3229406393140928, 'mcc': 0.5521900951137216}\n",
      "Early stopping triggered at epoch 11\n",
      "Fold 3\n",
      "Training set label distribution: {0: 3576, 1: 28, 2: 126, 3: 27, 4: 231, 5: 131, 6: 106, 7: 35, 8: 76, 9: 73, 10: 80, 11: 193, 12: 217, 13: 32, 14: 26, 15: 28, 16: 23, 17: 260, 18: 104, 19: 51, 20: 16, 21: 40, 22: 87, 23: 180, 24: 18, 25: 57, 26: 96, 27: 55, 28: 14, 29: 14, 30: 17, 31: 90, 32: 41, 33: 36, 34: 33, 35: 13, 36: 32, 37: 24, 38: 6, 39: 116, 40: 13, 41: 10, 42: 166, 43: 18, 44: 22, 45: 10, 46: 61, 47: 595, 48: 227, 49: 78}\n",
      "Validation set label distribution: {0: 398, 1: 3, 2: 14, 3: 3, 4: 26, 5: 14, 6: 12, 7: 4, 8: 9, 9: 8, 10: 8, 11: 22, 12: 24, 13: 4, 14: 3, 15: 3, 16: 2, 17: 29, 18: 12, 19: 5, 20: 2, 21: 4, 22: 10, 23: 20, 24: 2, 25: 6, 26: 11, 27: 6, 28: 1, 29: 2, 30: 2, 31: 10, 32: 4, 33: 4, 34: 4, 35: 2, 36: 3, 37: 3, 38: 1, 39: 13, 40: 1, 41: 1, 42: 18, 43: 2, 44: 3, 45: 1, 46: 7, 47: 66, 48: 25, 49: 9}\n"
     ]
    },
    {
     "name": "stderr",
     "output_type": "stream",
     "text": [
      "Some weights of RobertaForSequenceClassification were not initialized from the model checkpoint at roberta-base and are newly initialized: ['classifier.dense.bias', 'classifier.dense.weight', 'classifier.out_proj.bias', 'classifier.out_proj.weight']\n",
      "You should probably TRAIN this model on a down-stream task to be able to use it for predictions and inference.\n"
     ]
    },
    {
     "name": "stdout",
     "output_type": "stream",
     "text": [
      "Epoch 1/20\n"
     ]
    },
    {
     "name": "stderr",
     "output_type": "stream",
     "text": [
      "100%|██████████| 476/476 [03:29<00:00,  2.27it/s]\n"
     ]
    },
    {
     "name": "stdout",
     "output_type": "stream",
     "text": [
      "{'val_loss': 1.685528375067801, 'val_accuracy': 0.5874704491725768, 'precision': 0.39581388460728956, 'recall': 0.5874704491725768, 'f1-score': 0.47069534024656495, 'macro_f1-score': 0.0892523393195662, 'balanced_accuracy': 0.10422577268704457, 'mcc': 0.39967712898460983}\n",
      "Epoch 2/20\n"
     ]
    },
    {
     "name": "stderr",
     "output_type": "stream",
     "text": [
      "100%|██████████| 476/476 [03:30<00:00,  2.26it/s]\n"
     ]
    },
    {
     "name": "stdout",
     "output_type": "stream",
     "text": [
      "{'val_loss': 1.5197405280931942, 'val_accuracy': 0.6229314420803782, 'precision': 0.5377886929182772, 'recall': 0.6229314420803782, 'f1-score': 0.5444596527422383, 'macro_f1-score': 0.129383003601857, 'balanced_accuracy': 0.13311973746809996, 'mcc': 0.4681255234792044}\n",
      "Epoch 3/20\n"
     ]
    },
    {
     "name": "stderr",
     "output_type": "stream",
     "text": [
      "100%|██████████| 476/476 [03:30<00:00,  2.26it/s]\n"
     ]
    },
    {
     "name": "stdout",
     "output_type": "stream",
     "text": [
      "{'val_loss': 1.3091640742319934, 'val_accuracy': 0.6548463356973995, 'precision': 0.5956025947885905, 'recall': 0.6548463356973995, 'f1-score': 0.6054908506956768, 'macro_f1-score': 0.21294870561152807, 'balanced_accuracy': 0.21787667978452938, 'mcc': 0.524959604118268}\n",
      "Epoch 4/20\n"
     ]
    },
    {
     "name": "stderr",
     "output_type": "stream",
     "text": [
      "100%|██████████| 476/476 [03:30<00:00,  2.26it/s]\n"
     ]
    },
    {
     "name": "stdout",
     "output_type": "stream",
     "text": [
      "{'val_loss': 1.3188192979344782, 'val_accuracy': 0.6595744680851063, 'precision': 0.6492452219828861, 'recall': 0.6595744680851063, 'f1-score': 0.644415195981336, 'macro_f1-score': 0.2889691109330986, 'balanced_accuracy': 0.31496606792579757, 'mcc': 0.5547423163583555}\n",
      "Epoch 5/20\n"
     ]
    },
    {
     "name": "stderr",
     "output_type": "stream",
     "text": [
      "100%|██████████| 476/476 [03:30<00:00,  2.26it/s]\n"
     ]
    },
    {
     "name": "stdout",
     "output_type": "stream",
     "text": [
      "{'val_loss': 1.3790346153502195, 'val_accuracy': 0.6690307328605201, 'precision': 0.6711488407316227, 'recall': 0.6690307328605201, 'f1-score': 0.6460404685419247, 'macro_f1-score': 0.30960076841868633, 'balanced_accuracy': 0.3149221158671514, 'mcc': 0.56148476162852}\n",
      "Epoch 6/20\n"
     ]
    },
    {
     "name": "stderr",
     "output_type": "stream",
     "text": [
      "100%|██████████| 476/476 [03:31<00:00,  2.25it/s]\n"
     ]
    },
    {
     "name": "stdout",
     "output_type": "stream",
     "text": [
      "{'val_loss': 1.334929254257454, 'val_accuracy': 0.6784869976359338, 'precision': 0.658456253136054, 'recall': 0.6784869976359338, 'f1-score': 0.6563270842456673, 'macro_f1-score': 0.3374195562976614, 'balanced_accuracy': 0.3478904448811743, 'mcc': 0.5733772559455511}\n",
      "Epoch 7/20\n"
     ]
    },
    {
     "name": "stderr",
     "output_type": "stream",
     "text": [
      "100%|██████████| 476/476 [03:30<00:00,  2.27it/s]\n"
     ]
    },
    {
     "name": "stdout",
     "output_type": "stream",
     "text": [
      "{'val_loss': 1.4197198748588562, 'val_accuracy': 0.6914893617021277, 'precision': 0.6571758138232183, 'recall': 0.6914893617021277, 'f1-score': 0.6597783710331646, 'macro_f1-score': 0.3662952415148593, 'balanced_accuracy': 0.34157150094750155, 'mcc': 0.5804943769381041}\n",
      "Epoch 8/20\n"
     ]
    },
    {
     "name": "stderr",
     "output_type": "stream",
     "text": [
      "100%|██████████| 476/476 [03:31<00:00,  2.25it/s]\n"
     ]
    },
    {
     "name": "stdout",
     "output_type": "stream",
     "text": [
      "{'val_loss': 1.4684320041593515, 'val_accuracy': 0.6560283687943262, 'precision': 0.6579767240542498, 'recall': 0.6560283687943262, 'f1-score': 0.6430004251132702, 'macro_f1-score': 0.3545854816639246, 'balanced_accuracy': 0.356715109663628, 'mcc': 0.5446550312670847}\n",
      "Epoch 9/20\n"
     ]
    },
    {
     "name": "stderr",
     "output_type": "stream",
     "text": [
      "100%|██████████| 476/476 [03:31<00:00,  2.25it/s]\n"
     ]
    },
    {
     "name": "stdout",
     "output_type": "stream",
     "text": [
      "{'val_loss': 1.4750830604220337, 'val_accuracy': 0.6678486997635934, 'precision': 0.6549948005566381, 'recall': 0.6678486997635934, 'f1-score': 0.6476758491084715, 'macro_f1-score': 0.35415385187370424, 'balanced_accuracy': 0.33520978597636014, 'mcc': 0.5574618036851432}\n",
      "Epoch 10/20\n"
     ]
    },
    {
     "name": "stderr",
     "output_type": "stream",
     "text": [
      "100%|██████████| 476/476 [03:30<00:00,  2.26it/s]\n"
     ]
    },
    {
     "name": "stdout",
     "output_type": "stream",
     "text": [
      "{'val_loss': 1.497672623620843, 'val_accuracy': 0.6702127659574468, 'precision': 0.6536641735256234, 'recall': 0.6702127659574468, 'f1-score': 0.6551472286265388, 'macro_f1-score': 0.38269787934527655, 'balanced_accuracy': 0.3923657806565102, 'mcc': 0.5601969283541095}\n",
      "Epoch 11/20\n"
     ]
    },
    {
     "name": "stderr",
     "output_type": "stream",
     "text": [
      "100%|██████████| 476/476 [03:30<00:00,  2.26it/s]\n"
     ]
    },
    {
     "name": "stdout",
     "output_type": "stream",
     "text": [
      "{'val_loss': 1.6177482849584435, 'val_accuracy': 0.6784869976359338, 'precision': 0.6662893460779521, 'recall': 0.6784869976359338, 'f1-score': 0.656789883856415, 'macro_f1-score': 0.3759622590832138, 'balanced_accuracy': 0.3602131980228323, 'mcc': 0.5653372182869036}\n",
      "Epoch 12/20\n"
     ]
    },
    {
     "name": "stderr",
     "output_type": "stream",
     "text": [
      "100%|██████████| 476/476 [03:29<00:00,  2.27it/s]\n"
     ]
    },
    {
     "name": "stdout",
     "output_type": "stream",
     "text": [
      "{'val_loss': 1.5951610710823312, 'val_accuracy': 0.6855791962174941, 'precision': 0.6988684183962598, 'recall': 0.6855791962174941, 'f1-score': 0.6842196236411918, 'macro_f1-score': 0.41611216800201467, 'balanced_accuracy': 0.4106310338691902, 'mcc': 0.5869732669542732}\n",
      "Epoch 13/20\n"
     ]
    },
    {
     "name": "stderr",
     "output_type": "stream",
     "text": [
      "100%|██████████| 476/476 [03:30<00:00,  2.27it/s]\n"
     ]
    },
    {
     "name": "stdout",
     "output_type": "stream",
     "text": [
      "{'val_loss': 1.7303344525818556, 'val_accuracy': 0.66548463356974, 'precision': 0.6693535636285475, 'recall': 0.66548463356974, 'f1-score': 0.6574129038823912, 'macro_f1-score': 0.3294648660741746, 'balanced_accuracy': 0.3408151297921355, 'mcc': 0.565771085004019}\n",
      "Epoch 14/20\n"
     ]
    },
    {
     "name": "stderr",
     "output_type": "stream",
     "text": [
      "100%|██████████| 476/476 [03:29<00:00,  2.27it/s]\n"
     ]
    },
    {
     "name": "stdout",
     "output_type": "stream",
     "text": [
      "{'val_loss': 1.747280886150756, 'val_accuracy': 0.6678486997635934, 'precision': 0.6563413026496118, 'recall': 0.6678486997635934, 'f1-score': 0.6466814623262078, 'macro_f1-score': 0.3424747708275428, 'balanced_accuracy': 0.3502970512842632, 'mcc': 0.5519271876448139}\n",
      "Epoch 15/20\n"
     ]
    },
    {
     "name": "stderr",
     "output_type": "stream",
     "text": [
      "100%|██████████| 476/476 [03:31<00:00,  2.26it/s]\n"
     ]
    },
    {
     "name": "stdout",
     "output_type": "stream",
     "text": [
      "{'val_loss': 1.779894418311569, 'val_accuracy': 0.6832151300236406, 'precision': 0.6616834179862757, 'recall': 0.6832151300236406, 'f1-score': 0.6507890833186067, 'macro_f1-score': 0.36472026323296974, 'balanced_accuracy': 0.33538218556506544, 'mcc': 0.5658023869776926}\n",
      "Early stopping triggered at epoch 15\n",
      "Fold 4\n",
      "Training set label distribution: {0: 3576, 1: 28, 2: 126, 3: 27, 4: 231, 5: 131, 6: 106, 7: 35, 8: 77, 9: 72, 10: 80, 11: 193, 12: 217, 13: 32, 14: 27, 15: 27, 16: 23, 17: 260, 18: 104, 19: 51, 20: 16, 21: 40, 22: 87, 23: 180, 24: 18, 25: 57, 26: 96, 27: 55, 28: 14, 29: 14, 30: 17, 31: 90, 32: 41, 33: 36, 34: 33, 35: 13, 36: 32, 37: 24, 38: 6, 39: 116, 40: 13, 41: 10, 42: 166, 43: 18, 44: 23, 45: 9, 46: 61, 47: 595, 48: 227, 49: 78}\n",
      "Validation set label distribution: {0: 398, 1: 3, 2: 14, 3: 3, 4: 26, 5: 14, 6: 12, 7: 4, 8: 8, 9: 9, 10: 8, 11: 22, 12: 24, 13: 4, 14: 2, 15: 4, 16: 2, 17: 29, 18: 12, 19: 5, 20: 2, 21: 4, 22: 10, 23: 20, 24: 2, 25: 6, 26: 11, 27: 6, 28: 1, 29: 2, 30: 2, 31: 10, 32: 4, 33: 4, 34: 4, 35: 2, 36: 3, 37: 3, 38: 1, 39: 13, 40: 1, 41: 1, 42: 18, 43: 2, 44: 2, 45: 2, 46: 7, 47: 66, 48: 25, 49: 9}\n"
     ]
    },
    {
     "name": "stderr",
     "output_type": "stream",
     "text": [
      "Some weights of RobertaForSequenceClassification were not initialized from the model checkpoint at roberta-base and are newly initialized: ['classifier.dense.bias', 'classifier.dense.weight', 'classifier.out_proj.bias', 'classifier.out_proj.weight']\n",
      "You should probably TRAIN this model on a down-stream task to be able to use it for predictions and inference.\n"
     ]
    },
    {
     "name": "stdout",
     "output_type": "stream",
     "text": [
      "Epoch 1/20\n"
     ]
    },
    {
     "name": "stderr",
     "output_type": "stream",
     "text": [
      "100%|██████████| 476/476 [03:31<00:00,  2.25it/s]\n"
     ]
    },
    {
     "name": "stdout",
     "output_type": "stream",
     "text": [
      "{'val_loss': 1.5580461295145862, 'val_accuracy': 0.5981087470449172, 'precision': 0.46487125547725155, 'recall': 0.5981087470449172, 'f1-score': 0.49661347827154756, 'macro_f1-score': 0.09542048066648508, 'balanced_accuracy': 0.11147666210260215, 'mcc': 0.41849930687370845}\n",
      "Epoch 2/20\n"
     ]
    },
    {
     "name": "stderr",
     "output_type": "stream",
     "text": [
      "100%|██████████| 476/476 [03:31<00:00,  2.25it/s]\n"
     ]
    },
    {
     "name": "stdout",
     "output_type": "stream",
     "text": [
      "{'val_loss': 1.3685594521603495, 'val_accuracy': 0.648936170212766, 'precision': 0.5623246919511877, 'recall': 0.648936170212766, 'f1-score': 0.5817071768634976, 'macro_f1-score': 0.19793393441240448, 'balanced_accuracy': 0.18909604795558704, 'mcc': 0.5034043025458504}\n",
      "Epoch 3/20\n"
     ]
    },
    {
     "name": "stderr",
     "output_type": "stream",
     "text": [
      "100%|██████████| 476/476 [03:30<00:00,  2.26it/s]\n"
     ]
    },
    {
     "name": "stdout",
     "output_type": "stream",
     "text": [
      "{'val_loss': 1.303263708105627, 'val_accuracy': 0.6524822695035462, 'precision': 0.6414591733365679, 'recall': 0.6524822695035462, 'f1-score': 0.6392005695578726, 'macro_f1-score': 0.3002178840308123, 'balanced_accuracy': 0.3123212647361495, 'mcc': 0.5443957556228808}\n",
      "Epoch 4/20\n"
     ]
    },
    {
     "name": "stderr",
     "output_type": "stream",
     "text": [
      "100%|██████████| 476/476 [03:31<00:00,  2.25it/s]\n"
     ]
    },
    {
     "name": "stdout",
     "output_type": "stream",
     "text": [
      "{'val_loss': 1.3811154185601, 'val_accuracy': 0.6359338061465721, 'precision': 0.6442404540649805, 'recall': 0.6359338061465721, 'f1-score': 0.6185939598139953, 'macro_f1-score': 0.28935655305210206, 'balanced_accuracy': 0.31023850304569417, 'mcc': 0.5276599627114172}\n",
      "Epoch 5/20\n"
     ]
    },
    {
     "name": "stderr",
     "output_type": "stream",
     "text": [
      "100%|██████████| 476/476 [03:30<00:00,  2.26it/s]\n"
     ]
    },
    {
     "name": "stdout",
     "output_type": "stream",
     "text": [
      "{'val_loss': 1.2893292330346018, 'val_accuracy': 0.66548463356974, 'precision': 0.6407417808410731, 'recall': 0.66548463356974, 'f1-score': 0.6345718472865427, 'macro_f1-score': 0.31055586769685933, 'balanced_accuracy': 0.30159106951886366, 'mcc': 0.5535188740111789}\n",
      "Epoch 6/20\n"
     ]
    },
    {
     "name": "stderr",
     "output_type": "stream",
     "text": [
      "100%|██████████| 476/476 [03:31<00:00,  2.25it/s]\n"
     ]
    },
    {
     "name": "stdout",
     "output_type": "stream",
     "text": [
      "{'val_loss': 1.3418610253424015, 'val_accuracy': 0.6631205673758865, 'precision': 0.6529179066944226, 'recall': 0.6631205673758865, 'f1-score': 0.6467501295952639, 'macro_f1-score': 0.33670417562864613, 'balanced_accuracy': 0.341237188733983, 'mcc': 0.5556961456718249}\n",
      "Epoch 7/20\n"
     ]
    },
    {
     "name": "stderr",
     "output_type": "stream",
     "text": [
      "100%|██████████| 476/476 [03:30<00:00,  2.26it/s]\n"
     ]
    },
    {
     "name": "stdout",
     "output_type": "stream",
     "text": [
      "{'val_loss': 1.4866886734962463, 'val_accuracy': 0.648936170212766, 'precision': 0.6904736269070033, 'recall': 0.648936170212766, 'f1-score': 0.6361806070077587, 'macro_f1-score': 0.3317180203250677, 'balanced_accuracy': 0.3625245873920454, 'mcc': 0.5352067932784029}\n",
      "Epoch 8/20\n"
     ]
    },
    {
     "name": "stderr",
     "output_type": "stream",
     "text": [
      "100%|██████████| 476/476 [03:29<00:00,  2.27it/s]\n"
     ]
    },
    {
     "name": "stdout",
     "output_type": "stream",
     "text": [
      "{'val_loss': 1.4366917778860848, 'val_accuracy': 0.6666666666666666, 'precision': 0.6726980642877639, 'recall': 0.6666666666666666, 'f1-score': 0.6526752338545457, 'macro_f1-score': 0.35060170735042717, 'balanced_accuracy': 0.3687628581588034, 'mcc': 0.561645622930072}\n",
      "Epoch 9/20\n"
     ]
    },
    {
     "name": "stderr",
     "output_type": "stream",
     "text": [
      "100%|██████████| 476/476 [03:30<00:00,  2.26it/s]\n"
     ]
    },
    {
     "name": "stdout",
     "output_type": "stream",
     "text": [
      "{'val_loss': 1.6067967774733058, 'val_accuracy': 0.6548463356973995, 'precision': 0.6815601794005707, 'recall': 0.6548463356973995, 'f1-score': 0.6387742586353319, 'macro_f1-score': 0.3482000404014158, 'balanced_accuracy': 0.3409361005501363, 'mcc': 0.544978184283857}\n",
      "Epoch 10/20\n"
     ]
    },
    {
     "name": "stderr",
     "output_type": "stream",
     "text": [
      "100%|██████████| 476/476 [03:31<00:00,  2.26it/s]\n"
     ]
    },
    {
     "name": "stdout",
     "output_type": "stream",
     "text": [
      "{'val_loss': 1.6595932290239155, 'val_accuracy': 0.6619385342789598, 'precision': 0.6770901968182121, 'recall': 0.6619385342789598, 'f1-score': 0.6509216426008986, 'macro_f1-score': 0.3519387661105045, 'balanced_accuracy': 0.36410501565090025, 'mcc': 0.5524968704480973}\n",
      "Epoch 11/20\n"
     ]
    },
    {
     "name": "stderr",
     "output_type": "stream",
     "text": [
      "100%|██████████| 476/476 [03:30<00:00,  2.26it/s]\n"
     ]
    },
    {
     "name": "stdout",
     "output_type": "stream",
     "text": [
      "{'val_loss': 1.5689348988937881, 'val_accuracy': 0.6808510638297872, 'precision': 0.6797565135662847, 'recall': 0.6808510638297872, 'f1-score': 0.6675293422619907, 'macro_f1-score': 0.44091779879321846, 'balanced_accuracy': 0.4373423688693138, 'mcc': 0.5758789230479591}\n",
      "Epoch 12/20\n"
     ]
    },
    {
     "name": "stderr",
     "output_type": "stream",
     "text": [
      "100%|██████████| 476/476 [03:30<00:00,  2.26it/s]\n"
     ]
    },
    {
     "name": "stdout",
     "output_type": "stream",
     "text": [
      "{'val_loss': 1.6599458652847219, 'val_accuracy': 0.66548463356974, 'precision': 0.6660571259397378, 'recall': 0.66548463356974, 'f1-score': 0.6506702043808266, 'macro_f1-score': 0.38518923082046214, 'balanced_accuracy': 0.3936947639337693, 'mcc': 0.556203617833894}\n",
      "Epoch 13/20\n"
     ]
    },
    {
     "name": "stderr",
     "output_type": "stream",
     "text": [
      "100%|██████████| 476/476 [03:30<00:00,  2.26it/s]\n"
     ]
    },
    {
     "name": "stdout",
     "output_type": "stream",
     "text": [
      "{'val_loss': 1.782847764919389, 'val_accuracy': 0.6607565011820331, 'precision': 0.6697328945623139, 'recall': 0.6607565011820331, 'f1-score': 0.6476305654236407, 'macro_f1-score': 0.36075989223785326, 'balanced_accuracy': 0.3653168736498489, 'mcc': 0.5521889745528642}\n",
      "Epoch 14/20\n"
     ]
    },
    {
     "name": "stderr",
     "output_type": "stream",
     "text": [
      "100%|██████████| 476/476 [03:29<00:00,  2.27it/s]\n"
     ]
    },
    {
     "name": "stdout",
     "output_type": "stream",
     "text": [
      "{'val_loss': 1.749246228978319, 'val_accuracy': 0.66548463356974, 'precision': 0.6667834017819044, 'recall': 0.66548463356974, 'f1-score': 0.6525254386911876, 'macro_f1-score': 0.3757966489941486, 'balanced_accuracy': 0.36860037037992327, 'mcc': 0.5600280058270142}\n",
      "Early stopping triggered at epoch 14\n",
      "Fold 5\n",
      "Training set label distribution: {0: 3577, 1: 27, 2: 126, 3: 27, 4: 231, 5: 131, 6: 106, 7: 35, 8: 77, 9: 73, 10: 79, 11: 193, 12: 217, 13: 33, 14: 26, 15: 28, 16: 22, 17: 260, 18: 105, 19: 50, 20: 16, 21: 40, 22: 87, 23: 180, 24: 18, 25: 57, 26: 96, 27: 55, 28: 14, 29: 14, 30: 17, 31: 90, 32: 41, 33: 36, 34: 33, 35: 14, 36: 31, 37: 24, 38: 6, 39: 117, 40: 13, 41: 10, 42: 165, 43: 18, 44: 23, 45: 10, 46: 61, 47: 595, 48: 227, 49: 78}\n",
      "Validation set label distribution: {0: 397, 1: 4, 2: 14, 3: 3, 4: 26, 5: 14, 6: 12, 7: 4, 8: 8, 9: 8, 10: 9, 11: 22, 12: 24, 13: 3, 14: 3, 15: 3, 16: 3, 17: 29, 18: 11, 19: 6, 20: 2, 21: 4, 22: 10, 23: 20, 24: 2, 25: 6, 26: 11, 27: 6, 28: 1, 29: 2, 30: 2, 31: 10, 32: 4, 33: 4, 34: 4, 35: 1, 36: 4, 37: 3, 38: 1, 39: 12, 40: 1, 41: 1, 42: 19, 43: 2, 44: 2, 45: 1, 46: 7, 47: 66, 48: 25, 49: 9}\n"
     ]
    },
    {
     "name": "stderr",
     "output_type": "stream",
     "text": [
      "Some weights of RobertaForSequenceClassification were not initialized from the model checkpoint at roberta-base and are newly initialized: ['classifier.dense.bias', 'classifier.dense.weight', 'classifier.out_proj.bias', 'classifier.out_proj.weight']\n",
      "You should probably TRAIN this model on a down-stream task to be able to use it for predictions and inference.\n"
     ]
    },
    {
     "name": "stdout",
     "output_type": "stream",
     "text": [
      "Epoch 1/20\n"
     ]
    },
    {
     "name": "stderr",
     "output_type": "stream",
     "text": [
      "100%|██████████| 476/476 [03:31<00:00,  2.25it/s]\n"
     ]
    },
    {
     "name": "stdout",
     "output_type": "stream",
     "text": [
      "{'val_loss': 1.5980270696136187, 'val_accuracy': 0.5940828402366863, 'precision': 0.437288010773099, 'recall': 0.5940828402366863, 'f1-score': 0.487537143906232, 'macro_f1-score': 0.09098064922759867, 'balanced_accuracy': 0.11775091443488037, 'mcc': 0.42357184510076135}\n",
      "Epoch 2/20\n"
     ]
    },
    {
     "name": "stderr",
     "output_type": "stream",
     "text": [
      "100%|██████████| 476/476 [03:30<00:00,  2.26it/s]\n"
     ]
    },
    {
     "name": "stdout",
     "output_type": "stream",
     "text": [
      "{'val_loss': 1.3974293177982546, 'val_accuracy': 0.6189349112426036, 'precision': 0.5216112870996571, 'recall': 0.6189349112426036, 'f1-score': 0.5583237698460489, 'macro_f1-score': 0.1585786055582223, 'balanced_accuracy': 0.1724384730732946, 'mcc': 0.4758258925906603}\n",
      "Epoch 3/20\n"
     ]
    },
    {
     "name": "stderr",
     "output_type": "stream",
     "text": [
      "100%|██████████| 476/476 [03:30<00:00,  2.26it/s]\n"
     ]
    },
    {
     "name": "stdout",
     "output_type": "stream",
     "text": [
      "{'val_loss': 1.3558680268953431, 'val_accuracy': 0.6260355029585799, 'precision': 0.5618552968700806, 'recall': 0.6260355029585799, 'f1-score': 0.5767003738614223, 'macro_f1-score': 0.19402736751938612, 'balanced_accuracy': 0.20984953150138136, 'mcc': 0.4979756836226605}\n",
      "Epoch 4/20\n"
     ]
    },
    {
     "name": "stderr",
     "output_type": "stream",
     "text": [
      "100%|██████████| 476/476 [03:30<00:00,  2.26it/s]\n"
     ]
    },
    {
     "name": "stdout",
     "output_type": "stream",
     "text": [
      "{'val_loss': 1.2606899580865536, 'val_accuracy': 0.6568047337278107, 'precision': 0.6017813641165656, 'recall': 0.6568047337278107, 'f1-score': 0.6145576240773607, 'macro_f1-score': 0.25729190974514426, 'balanced_accuracy': 0.2890790756014151, 'mcc': 0.5404114797992864}\n",
      "Epoch 5/20\n"
     ]
    },
    {
     "name": "stderr",
     "output_type": "stream",
     "text": [
      "100%|██████████| 476/476 [03:31<00:00,  2.25it/s]\n"
     ]
    },
    {
     "name": "stdout",
     "output_type": "stream",
     "text": [
      "{'val_loss': 1.3450671468140944, 'val_accuracy': 0.6532544378698225, 'precision': 0.6236190157564838, 'recall': 0.6532544378698225, 'f1-score': 0.615670013874978, 'macro_f1-score': 0.28739257776263183, 'balanced_accuracy': 0.29104259772409874, 'mcc': 0.5266323576642619}\n",
      "Epoch 6/20\n"
     ]
    },
    {
     "name": "stderr",
     "output_type": "stream",
     "text": [
      "100%|██████████| 476/476 [03:31<00:00,  2.25it/s]\n"
     ]
    },
    {
     "name": "stdout",
     "output_type": "stream",
     "text": [
      "{'val_loss': 1.3379050965579051, 'val_accuracy': 0.6579881656804734, 'precision': 0.6440849767513871, 'recall': 0.6579881656804734, 'f1-score': 0.6353028545385035, 'macro_f1-score': 0.3121177912032116, 'balanced_accuracy': 0.3387082741884029, 'mcc': 0.5511261310836961}\n",
      "Epoch 7/20\n"
     ]
    },
    {
     "name": "stderr",
     "output_type": "stream",
     "text": [
      "100%|██████████| 476/476 [03:31<00:00,  2.25it/s]\n"
     ]
    },
    {
     "name": "stdout",
     "output_type": "stream",
     "text": [
      "{'val_loss': 1.383683883918906, 'val_accuracy': 0.6544378698224852, 'precision': 0.6401863910951626, 'recall': 0.6544378698224852, 'f1-score': 0.6296898993486674, 'macro_f1-score': 0.3188105953387053, 'balanced_accuracy': 0.3114009550740372, 'mcc': 0.5358162854950214}\n",
      "Epoch 8/20\n"
     ]
    },
    {
     "name": "stderr",
     "output_type": "stream",
     "text": [
      "100%|██████████| 476/476 [03:31<00:00,  2.25it/s]\n"
     ]
    },
    {
     "name": "stdout",
     "output_type": "stream",
     "text": [
      "{'val_loss': 1.4228053368487448, 'val_accuracy': 0.6710059171597633, 'precision': 0.6580331826601356, 'recall': 0.6710059171597633, 'f1-score': 0.638700196035153, 'macro_f1-score': 0.33772504022339483, 'balanced_accuracy': 0.3296758426811538, 'mcc': 0.5510493602500348}\n",
      "Epoch 9/20\n"
     ]
    },
    {
     "name": "stderr",
     "output_type": "stream",
     "text": [
      "100%|██████████| 476/476 [03:31<00:00,  2.25it/s]\n"
     ]
    },
    {
     "name": "stdout",
     "output_type": "stream",
     "text": [
      "{'val_loss': 1.4288317482426482, 'val_accuracy': 0.6650887573964497, 'precision': 0.6783367740091591, 'recall': 0.6650887573964497, 'f1-score': 0.6525619896232198, 'macro_f1-score': 0.36417405461064617, 'balanced_accuracy': 0.3706005955207942, 'mcc': 0.5586080024954365}\n",
      "Epoch 10/20\n"
     ]
    },
    {
     "name": "stderr",
     "output_type": "stream",
     "text": [
      "100%|██████████| 476/476 [03:30<00:00,  2.26it/s]\n"
     ]
    },
    {
     "name": "stdout",
     "output_type": "stream",
     "text": [
      "{'val_loss': 1.631267155116459, 'val_accuracy': 0.6437869822485207, 'precision': 0.6657828810953921, 'recall': 0.6437869822485207, 'f1-score': 0.6315251858407728, 'macro_f1-score': 0.31382101471663504, 'balanced_accuracy': 0.319972701571092, 'mcc': 0.5353486309525103}\n",
      "Epoch 11/20\n"
     ]
    },
    {
     "name": "stderr",
     "output_type": "stream",
     "text": [
      "100%|██████████| 476/476 [03:29<00:00,  2.27it/s]\n"
     ]
    },
    {
     "name": "stdout",
     "output_type": "stream",
     "text": [
      "{'val_loss': 1.610294465748769, 'val_accuracy': 0.663905325443787, 'precision': 0.6419074336868902, 'recall': 0.663905325443787, 'f1-score': 0.6385271175935261, 'macro_f1-score': 0.35971219040957775, 'balanced_accuracy': 0.3566891703466093, 'mcc': 0.5470444860816306}\n",
      "Epoch 12/20\n"
     ]
    },
    {
     "name": "stderr",
     "output_type": "stream",
     "text": [
      "100%|██████████| 476/476 [03:30<00:00,  2.26it/s]\n"
     ]
    },
    {
     "name": "stdout",
     "output_type": "stream",
     "text": [
      "{'val_loss': 1.6397004397410266, 'val_accuracy': 0.6686390532544378, 'precision': 0.6552170489715988, 'recall': 0.6686390532544378, 'f1-score': 0.6458971779603905, 'macro_f1-score': 0.35829020057523964, 'balanced_accuracy': 0.3613096176725049, 'mcc': 0.5629882726369623}\n",
      "Early stopping triggered at epoch 12\n",
      "Fold 6\n",
      "Training set label distribution: {0: 3577, 1: 28, 2: 126, 3: 27, 4: 231, 5: 131, 6: 106, 7: 35, 8: 77, 9: 73, 10: 79, 11: 193, 12: 217, 13: 33, 14: 26, 15: 28, 16: 22, 17: 260, 18: 105, 19: 50, 20: 16, 21: 40, 22: 87, 23: 180, 24: 18, 25: 57, 26: 96, 27: 55, 28: 14, 29: 14, 30: 17, 31: 90, 32: 41, 33: 36, 34: 33, 35: 14, 36: 31, 37: 24, 38: 6, 39: 116, 40: 13, 41: 10, 42: 165, 43: 18, 44: 23, 45: 10, 46: 61, 47: 595, 48: 227, 49: 78}\n",
      "Validation set label distribution: {0: 397, 1: 3, 2: 14, 3: 3, 4: 26, 5: 14, 6: 12, 7: 4, 8: 8, 9: 8, 10: 9, 11: 22, 12: 24, 13: 3, 14: 3, 15: 3, 16: 3, 17: 29, 18: 11, 19: 6, 20: 2, 21: 4, 22: 10, 23: 20, 24: 2, 25: 6, 26: 11, 27: 6, 28: 1, 29: 2, 30: 2, 31: 10, 32: 4, 33: 4, 34: 4, 35: 1, 36: 4, 37: 3, 38: 1, 39: 13, 40: 1, 41: 1, 42: 19, 43: 2, 44: 2, 45: 1, 46: 7, 47: 66, 48: 25, 49: 9}\n"
     ]
    },
    {
     "name": "stderr",
     "output_type": "stream",
     "text": [
      "Some weights of RobertaForSequenceClassification were not initialized from the model checkpoint at roberta-base and are newly initialized: ['classifier.dense.bias', 'classifier.dense.weight', 'classifier.out_proj.bias', 'classifier.out_proj.weight']\n",
      "You should probably TRAIN this model on a down-stream task to be able to use it for predictions and inference.\n"
     ]
    },
    {
     "name": "stdout",
     "output_type": "stream",
     "text": [
      "Epoch 1/20\n"
     ]
    },
    {
     "name": "stderr",
     "output_type": "stream",
     "text": [
      "100%|██████████| 476/476 [03:30<00:00,  2.26it/s]\n"
     ]
    },
    {
     "name": "stdout",
     "output_type": "stream",
     "text": [
      "{'val_loss': 1.6748743248435687, 'val_accuracy': 0.6011834319526628, 'precision': 0.42380917855834244, 'recall': 0.6011834319526628, 'f1-score': 0.4796025978865194, 'macro_f1-score': 0.0968657137391936, 'balanced_accuracy': 0.10716099770085653, 'mcc': 0.4185641935858934}\n",
      "Epoch 2/20\n"
     ]
    },
    {
     "name": "stderr",
     "output_type": "stream",
     "text": [
      "100%|██████████| 476/476 [03:30<00:00,  2.26it/s]\n"
     ]
    },
    {
     "name": "stdout",
     "output_type": "stream",
     "text": [
      "{'val_loss': 1.311301717780671, 'val_accuracy': 0.6497041420118344, 'precision': 0.5621624706741706, 'recall': 0.6497041420118344, 'f1-score': 0.5794178118463862, 'macro_f1-score': 0.1885463641907251, 'balanced_accuracy': 0.18470336317868624, 'mcc': 0.5116839187663212}\n",
      "Epoch 3/20\n"
     ]
    },
    {
     "name": "stderr",
     "output_type": "stream",
     "text": [
      "100%|██████████| 476/476 [03:30<00:00,  2.26it/s]\n"
     ]
    },
    {
     "name": "stdout",
     "output_type": "stream",
     "text": [
      "{'val_loss': 1.286768323970291, 'val_accuracy': 0.6402366863905326, 'precision': 0.6291030825022806, 'recall': 0.6402366863905326, 'f1-score': 0.6067199658711804, 'macro_f1-score': 0.24041281390180833, 'balanced_accuracy': 0.25320786896545966, 'mcc': 0.5285390006655639}\n",
      "Epoch 4/20\n"
     ]
    },
    {
     "name": "stderr",
     "output_type": "stream",
     "text": [
      "100%|██████████| 476/476 [03:30<00:00,  2.27it/s]\n"
     ]
    },
    {
     "name": "stdout",
     "output_type": "stream",
     "text": [
      "{'val_loss': 1.2947546884698689, 'val_accuracy': 0.6650887573964497, 'precision': 0.6213611585781846, 'recall': 0.6650887573964497, 'f1-score': 0.6285345378916463, 'macro_f1-score': 0.2843832496400754, 'balanced_accuracy': 0.2866359638054866, 'mcc': 0.5484620834834188}\n",
      "Epoch 5/20\n"
     ]
    },
    {
     "name": "stderr",
     "output_type": "stream",
     "text": [
      "100%|██████████| 476/476 [03:30<00:00,  2.26it/s]\n"
     ]
    },
    {
     "name": "stdout",
     "output_type": "stream",
     "text": [
      "{'val_loss': 1.2136568410216637, 'val_accuracy': 0.6840236686390533, 'precision': 0.638578883456189, 'recall': 0.6840236686390533, 'f1-score': 0.6504827196106909, 'macro_f1-score': 0.27533627730370236, 'balanced_accuracy': 0.27842121922485996, 'mcc': 0.5731322769873879}\n",
      "Epoch 6/20\n"
     ]
    },
    {
     "name": "stderr",
     "output_type": "stream",
     "text": [
      "100%|██████████| 476/476 [03:30<00:00,  2.26it/s]\n"
     ]
    },
    {
     "name": "stdout",
     "output_type": "stream",
     "text": [
      "{'val_loss': 1.320865568125023, 'val_accuracy': 0.642603550295858, 'precision': 0.6379703401887258, 'recall': 0.642603550295858, 'f1-score': 0.6302009057138078, 'macro_f1-score': 0.28583649670931294, 'balanced_accuracy': 0.3155264931107644, 'mcc': 0.5376957680236832}\n",
      "Epoch 7/20\n"
     ]
    },
    {
     "name": "stderr",
     "output_type": "stream",
     "text": [
      "100%|██████████| 476/476 [03:30<00:00,  2.26it/s]\n"
     ]
    },
    {
     "name": "stdout",
     "output_type": "stream",
     "text": [
      "{'val_loss': 1.4047941340590424, 'val_accuracy': 0.6437869822485207, 'precision': 0.6513663046485055, 'recall': 0.6437869822485207, 'f1-score': 0.6285258763095637, 'macro_f1-score': 0.2792341209957845, 'balanced_accuracy': 0.2876010754597867, 'mcc': 0.5284812326914002}\n",
      "Epoch 8/20\n"
     ]
    },
    {
     "name": "stderr",
     "output_type": "stream",
     "text": [
      "100%|██████████| 476/476 [03:30<00:00,  2.27it/s]\n"
     ]
    },
    {
     "name": "stdout",
     "output_type": "stream",
     "text": [
      "{'val_loss': 1.3127670198116663, 'val_accuracy': 0.676923076923077, 'precision': 0.6524353497725008, 'recall': 0.676923076923077, 'f1-score': 0.6500460529225887, 'macro_f1-score': 0.3555894683654888, 'balanced_accuracy': 0.3521437750688721, 'mcc': 0.5673082114541774}\n",
      "Epoch 9/20\n"
     ]
    },
    {
     "name": "stderr",
     "output_type": "stream",
     "text": [
      "100%|██████████| 476/476 [03:29<00:00,  2.27it/s]\n"
     ]
    },
    {
     "name": "stdout",
     "output_type": "stream",
     "text": [
      "{'val_loss': 1.3675300653250713, 'val_accuracy': 0.6781065088757396, 'precision': 0.6812936289077276, 'recall': 0.6781065088757396, 'f1-score': 0.666782367801383, 'macro_f1-score': 0.3803104722264223, 'balanced_accuracy': 0.382987947972723, 'mcc': 0.5787115489518648}\n",
      "Epoch 10/20\n"
     ]
    },
    {
     "name": "stderr",
     "output_type": "stream",
     "text": [
      "100%|██████████| 476/476 [03:30<00:00,  2.27it/s]\n"
     ]
    },
    {
     "name": "stdout",
     "output_type": "stream",
     "text": [
      "{'val_loss': 1.5115516697460751, 'val_accuracy': 0.6698224852071006, 'precision': 0.6918953045943279, 'recall': 0.6698224852071006, 'f1-score': 0.6641783257605178, 'macro_f1-score': 0.4050321969361997, 'balanced_accuracy': 0.44592907002771226, 'mcc': 0.57118545804217}\n",
      "Epoch 11/20\n"
     ]
    },
    {
     "name": "stderr",
     "output_type": "stream",
     "text": [
      "100%|██████████| 476/476 [03:29<00:00,  2.27it/s]\n"
     ]
    },
    {
     "name": "stdout",
     "output_type": "stream",
     "text": [
      "{'val_loss': 1.48827977113004, 'val_accuracy': 0.6698224852071006, 'precision': 0.6613541150622297, 'recall': 0.6698224852071006, 'f1-score': 0.6495158715253236, 'macro_f1-score': 0.3003503161685818, 'balanced_accuracy': 0.3120427329966514, 'mcc': 0.5626106358827087}\n",
      "Epoch 12/20\n"
     ]
    },
    {
     "name": "stderr",
     "output_type": "stream",
     "text": [
      "100%|██████████| 476/476 [03:30<00:00,  2.26it/s]\n"
     ]
    },
    {
     "name": "stdout",
     "output_type": "stream",
     "text": [
      "{'val_loss': 1.5631943654339269, 'val_accuracy': 0.6757396449704142, 'precision': 0.6881876203261582, 'recall': 0.6757396449704142, 'f1-score': 0.6559287041697566, 'macro_f1-score': 0.3891501776122073, 'balanced_accuracy': 0.3824202771692973, 'mcc': 0.5711240037450291}\n",
      "Epoch 13/20\n"
     ]
    },
    {
     "name": "stderr",
     "output_type": "stream",
     "text": [
      "100%|██████████| 476/476 [03:30<00:00,  2.26it/s]\n"
     ]
    },
    {
     "name": "stdout",
     "output_type": "stream",
     "text": [
      "{'val_loss': 1.5920203013240166, 'val_accuracy': 0.6686390532544378, 'precision': 0.6721186246351541, 'recall': 0.6686390532544378, 'f1-score': 0.6558389723418453, 'macro_f1-score': 0.37459356378505954, 'balanced_accuracy': 0.36506611755470386, 'mcc': 0.5644575412297894}\n",
      "Early stopping triggered at epoch 13\n",
      "Fold 7\n",
      "Training set label distribution: {0: 3577, 1: 28, 2: 126, 3: 27, 4: 232, 5: 130, 6: 106, 7: 35, 8: 77, 9: 73, 10: 79, 11: 193, 12: 217, 13: 33, 14: 26, 15: 28, 16: 22, 17: 260, 18: 105, 19: 50, 20: 16, 21: 40, 22: 87, 23: 180, 24: 18, 25: 57, 26: 96, 27: 55, 28: 14, 29: 14, 30: 17, 31: 90, 32: 41, 33: 36, 34: 33, 35: 14, 36: 31, 37: 25, 38: 6, 39: 116, 40: 12, 41: 10, 42: 165, 43: 18, 44: 23, 45: 10, 46: 62, 47: 594, 48: 227, 49: 78}\n",
      "Validation set label distribution: {0: 397, 1: 3, 2: 14, 3: 3, 4: 25, 5: 15, 6: 12, 7: 4, 8: 8, 9: 8, 10: 9, 11: 22, 12: 24, 13: 3, 14: 3, 15: 3, 16: 3, 17: 29, 18: 11, 19: 6, 20: 2, 21: 4, 22: 10, 23: 20, 24: 2, 25: 6, 26: 11, 27: 6, 28: 1, 29: 2, 30: 2, 31: 10, 32: 4, 33: 4, 34: 4, 35: 1, 36: 4, 37: 2, 38: 1, 39: 13, 40: 2, 41: 1, 42: 19, 43: 2, 44: 2, 45: 1, 46: 6, 47: 67, 48: 25, 49: 9}\n"
     ]
    },
    {
     "name": "stderr",
     "output_type": "stream",
     "text": [
      "Some weights of RobertaForSequenceClassification were not initialized from the model checkpoint at roberta-base and are newly initialized: ['classifier.dense.bias', 'classifier.dense.weight', 'classifier.out_proj.bias', 'classifier.out_proj.weight']\n",
      "You should probably TRAIN this model on a down-stream task to be able to use it for predictions and inference.\n"
     ]
    },
    {
     "name": "stdout",
     "output_type": "stream",
     "text": [
      "Epoch 1/20\n"
     ]
    },
    {
     "name": "stderr",
     "output_type": "stream",
     "text": [
      "100%|██████████| 476/476 [03:31<00:00,  2.26it/s]\n"
     ]
    },
    {
     "name": "stdout",
     "output_type": "stream",
     "text": [
      "{'val_loss': 1.538138970451535, 'val_accuracy': 0.6059171597633136, 'precision': 0.4453476952878999, 'recall': 0.6059171597633136, 'f1-score': 0.49786839413238315, 'macro_f1-score': 0.09819251315650249, 'balanced_accuracy': 0.11434841278285496, 'mcc': 0.43788452588138554}\n",
      "Epoch 2/20\n"
     ]
    },
    {
     "name": "stderr",
     "output_type": "stream",
     "text": [
      "100%|██████████| 476/476 [03:30<00:00,  2.27it/s]\n"
     ]
    },
    {
     "name": "stdout",
     "output_type": "stream",
     "text": [
      "{'val_loss': 1.342970164317005, 'val_accuracy': 0.6343195266272189, 'precision': 0.5413991680649464, 'recall': 0.6343195266272189, 'f1-score': 0.5712154029449716, 'macro_f1-score': 0.19823944491181777, 'balanced_accuracy': 0.19736234080127868, 'mcc': 0.48705537869187976}\n",
      "Epoch 3/20\n"
     ]
    },
    {
     "name": "stderr",
     "output_type": "stream",
     "text": [
      "100%|██████████| 476/476 [03:29<00:00,  2.27it/s]\n"
     ]
    },
    {
     "name": "stdout",
     "output_type": "stream",
     "text": [
      "{'val_loss': 1.269973007575521, 'val_accuracy': 0.659171597633136, 'precision': 0.6128194413992694, 'recall': 0.659171597633136, 'f1-score': 0.60844667334727, 'macro_f1-score': 0.2404597878016468, 'balanced_accuracy': 0.2511747984682885, 'mcc': 0.5361094399897426}\n",
      "Epoch 4/20\n"
     ]
    },
    {
     "name": "stderr",
     "output_type": "stream",
     "text": [
      "100%|██████████| 476/476 [03:30<00:00,  2.27it/s]\n"
     ]
    },
    {
     "name": "stdout",
     "output_type": "stream",
     "text": [
      "{'val_loss': 1.2409545514943465, 'val_accuracy': 0.6437869822485207, 'precision': 0.6353013043116325, 'recall': 0.6437869822485207, 'f1-score': 0.618616404543745, 'macro_f1-score': 0.2661822909413382, 'balanced_accuracy': 0.27522685311066025, 'mcc': 0.525349510947414}\n",
      "Epoch 5/20\n"
     ]
    },
    {
     "name": "stderr",
     "output_type": "stream",
     "text": [
      "100%|██████████| 476/476 [03:29<00:00,  2.27it/s]\n"
     ]
    },
    {
     "name": "stdout",
     "output_type": "stream",
     "text": [
      "{'val_loss': 1.2369150356301721, 'val_accuracy': 0.672189349112426, 'precision': 0.6635833110487076, 'recall': 0.672189349112426, 'f1-score': 0.655033795719021, 'macro_f1-score': 0.33278107129470996, 'balanced_accuracy': 0.3536286381457588, 'mcc': 0.5718993655594}\n",
      "Epoch 6/20\n"
     ]
    },
    {
     "name": "stderr",
     "output_type": "stream",
     "text": [
      "100%|██████████| 476/476 [03:29<00:00,  2.27it/s]\n"
     ]
    },
    {
     "name": "stdout",
     "output_type": "stream",
     "text": [
      "{'val_loss': 1.3770018218542046, 'val_accuracy': 0.6863905325443787, 'precision': 0.6729331090878383, 'recall': 0.6863905325443787, 'f1-score': 0.6509385284779219, 'macro_f1-score': 0.33694513450306773, 'balanced_accuracy': 0.327092738259945, 'mcc': 0.5757282437188371}\n",
      "Epoch 7/20\n"
     ]
    },
    {
     "name": "stderr",
     "output_type": "stream",
     "text": [
      "100%|██████████| 476/476 [03:29<00:00,  2.27it/s]\n"
     ]
    },
    {
     "name": "stdout",
     "output_type": "stream",
     "text": [
      "{'val_loss': 1.3504801136705111, 'val_accuracy': 0.6970414201183432, 'precision': 0.6671799390105314, 'recall': 0.6970414201183432, 'f1-score': 0.6709091677963068, 'macro_f1-score': 0.3629873713611294, 'balanced_accuracy': 0.369764559713289, 'mcc': 0.5932078446722994}\n",
      "Epoch 8/20\n"
     ]
    },
    {
     "name": "stderr",
     "output_type": "stream",
     "text": [
      "100%|██████████| 476/476 [03:29<00:00,  2.27it/s]\n"
     ]
    },
    {
     "name": "stdout",
     "output_type": "stream",
     "text": [
      "{'val_loss': 1.389727364733534, 'val_accuracy': 0.6603550295857988, 'precision': 0.6790151032304362, 'recall': 0.6603550295857988, 'f1-score': 0.6577573498834209, 'macro_f1-score': 0.35796809999204193, 'balanced_accuracy': 0.3762714507140673, 'mcc': 0.5640751850191866}\n",
      "Epoch 9/20\n"
     ]
    },
    {
     "name": "stderr",
     "output_type": "stream",
     "text": [
      "100%|██████████| 476/476 [03:29<00:00,  2.27it/s]\n"
     ]
    },
    {
     "name": "stdout",
     "output_type": "stream",
     "text": [
      "{'val_loss': 1.4809813150819742, 'val_accuracy': 0.6816568047337278, 'precision': 0.6906754025121447, 'recall': 0.6816568047337278, 'f1-score': 0.6723930704468413, 'macro_f1-score': 0.39577023575183595, 'balanced_accuracy': 0.4257533267660854, 'mcc': 0.5869915464163902}\n",
      "Epoch 10/20\n"
     ]
    },
    {
     "name": "stderr",
     "output_type": "stream",
     "text": [
      "100%|██████████| 476/476 [03:30<00:00,  2.26it/s]\n"
     ]
    },
    {
     "name": "stdout",
     "output_type": "stream",
     "text": [
      "{'val_loss': 1.4442917181635804, 'val_accuracy': 0.6650887573964497, 'precision': 0.6746571345448723, 'recall': 0.6650887573964497, 'f1-score': 0.6503864601318161, 'macro_f1-score': 0.35289823391877967, 'balanced_accuracy': 0.3540811346813145, 'mcc': 0.5596270968509333}\n",
      "Epoch 11/20\n"
     ]
    },
    {
     "name": "stderr",
     "output_type": "stream",
     "text": [
      "100%|██████████| 476/476 [03:30<00:00,  2.26it/s]\n"
     ]
    },
    {
     "name": "stdout",
     "output_type": "stream",
     "text": [
      "{'val_loss': 1.491258739581648, 'val_accuracy': 0.6840236686390533, 'precision': 0.698031807646587, 'recall': 0.6840236686390533, 'f1-score': 0.6786157963064609, 'macro_f1-score': 0.4078133632923569, 'balanced_accuracy': 0.4167618742149799, 'mcc': 0.5887810427149438}\n",
      "Epoch 12/20\n"
     ]
    },
    {
     "name": "stderr",
     "output_type": "stream",
     "text": [
      "100%|██████████| 476/476 [03:30<00:00,  2.26it/s]\n"
     ]
    },
    {
     "name": "stdout",
     "output_type": "stream",
     "text": [
      "{'val_loss': 1.5078531301246498, 'val_accuracy': 0.6686390532544378, 'precision': 0.6676992144733755, 'recall': 0.6686390532544378, 'f1-score': 0.6619803433466102, 'macro_f1-score': 0.3751770853314856, 'balanced_accuracy': 0.3855655308838009, 'mcc': 0.5710946490543791}\n",
      "Epoch 13/20\n"
     ]
    },
    {
     "name": "stderr",
     "output_type": "stream",
     "text": [
      "100%|██████████| 476/476 [03:29<00:00,  2.27it/s]\n"
     ]
    },
    {
     "name": "stdout",
     "output_type": "stream",
     "text": [
      "{'val_loss': 1.5477522780310433, 'val_accuracy': 0.6757396449704142, 'precision': 0.6828904177962656, 'recall': 0.6757396449704142, 'f1-score': 0.6719632630336903, 'macro_f1-score': 0.39067740534098305, 'balanced_accuracy': 0.4126175697151329, 'mcc': 0.5804301302442224}\n",
      "Epoch 14/20\n"
     ]
    },
    {
     "name": "stderr",
     "output_type": "stream",
     "text": [
      "100%|██████████| 476/476 [03:29<00:00,  2.27it/s]\n"
     ]
    },
    {
     "name": "stdout",
     "output_type": "stream",
     "text": [
      "{'val_loss': 1.573012115258091, 'val_accuracy': 0.6911242603550296, 'precision': 0.6954738816429417, 'recall': 0.6911242603550296, 'f1-score': 0.6782991029122346, 'macro_f1-score': 0.41486161085040224, 'balanced_accuracy': 0.412399667966185, 'mcc': 0.5908120957288105}\n",
      "Epoch 15/20\n"
     ]
    },
    {
     "name": "stderr",
     "output_type": "stream",
     "text": [
      "100%|██████████| 476/476 [03:30<00:00,  2.26it/s]\n"
     ]
    },
    {
     "name": "stdout",
     "output_type": "stream",
     "text": [
      "{'val_loss': 1.636639933541136, 'val_accuracy': 0.6698224852071006, 'precision': 0.692746041114638, 'recall': 0.6698224852071006, 'f1-score': 0.6634307822041513, 'macro_f1-score': 0.40922467045940714, 'balanced_accuracy': 0.40344474167146754, 'mcc': 0.5627619756000554}\n",
      "Epoch 16/20\n"
     ]
    },
    {
     "name": "stderr",
     "output_type": "stream",
     "text": [
      "100%|██████████| 476/476 [03:30<00:00,  2.26it/s]\n"
     ]
    },
    {
     "name": "stdout",
     "output_type": "stream",
     "text": [
      "{'val_loss': 1.631581869608951, 'val_accuracy': 0.6698224852071006, 'precision': 0.6598245762517693, 'recall': 0.6698224852071006, 'f1-score': 0.6497707811619894, 'macro_f1-score': 0.4110552049949144, 'balanced_accuracy': 0.3922567937723992, 'mcc': 0.5549311542904036}\n",
      "Epoch 17/20\n"
     ]
    },
    {
     "name": "stderr",
     "output_type": "stream",
     "text": [
      "100%|██████████| 476/476 [03:30<00:00,  2.26it/s]\n"
     ]
    },
    {
     "name": "stdout",
     "output_type": "stream",
     "text": [
      "{'val_loss': 1.6280514187407944, 'val_accuracy': 0.6840236686390533, 'precision': 0.6719781959378734, 'recall': 0.6840236686390533, 'f1-score': 0.6648076055999541, 'macro_f1-score': 0.3912284056115549, 'balanced_accuracy': 0.3921657526253775, 'mcc': 0.5769870979985414}\n",
      "Early stopping triggered at epoch 17\n",
      "Fold 8\n",
      "Training set label distribution: {0: 3577, 1: 28, 2: 126, 3: 27, 4: 232, 5: 130, 6: 106, 7: 35, 8: 77, 9: 73, 10: 79, 11: 194, 12: 216, 13: 33, 14: 26, 15: 28, 16: 22, 17: 260, 18: 105, 19: 50, 20: 16, 21: 40, 22: 87, 23: 180, 24: 18, 25: 57, 26: 96, 27: 55, 28: 13, 29: 14, 30: 18, 31: 90, 32: 40, 33: 36, 34: 33, 35: 14, 36: 31, 37: 25, 38: 6, 39: 116, 40: 12, 41: 10, 42: 165, 43: 18, 44: 23, 45: 10, 46: 62, 47: 595, 48: 226, 49: 79}\n",
      "Validation set label distribution: {0: 397, 1: 3, 2: 14, 3: 3, 4: 25, 5: 15, 6: 12, 7: 4, 8: 8, 9: 8, 10: 9, 11: 21, 12: 25, 13: 3, 14: 3, 15: 3, 16: 3, 17: 29, 18: 11, 19: 6, 20: 2, 21: 4, 22: 10, 23: 20, 24: 2, 25: 6, 26: 11, 27: 6, 28: 2, 29: 2, 30: 1, 31: 10, 32: 5, 33: 4, 34: 4, 35: 1, 36: 4, 37: 2, 38: 1, 39: 13, 40: 2, 41: 1, 42: 19, 43: 2, 44: 2, 45: 1, 46: 6, 47: 66, 48: 26, 49: 8}\n"
     ]
    },
    {
     "name": "stderr",
     "output_type": "stream",
     "text": [
      "Some weights of RobertaForSequenceClassification were not initialized from the model checkpoint at roberta-base and are newly initialized: ['classifier.dense.bias', 'classifier.dense.weight', 'classifier.out_proj.bias', 'classifier.out_proj.weight']\n",
      "You should probably TRAIN this model on a down-stream task to be able to use it for predictions and inference.\n"
     ]
    },
    {
     "name": "stdout",
     "output_type": "stream",
     "text": [
      "Epoch 1/20\n"
     ]
    },
    {
     "name": "stderr",
     "output_type": "stream",
     "text": [
      "100%|██████████| 476/476 [03:30<00:00,  2.26it/s]\n"
     ]
    },
    {
     "name": "stdout",
     "output_type": "stream",
     "text": [
      "{'val_loss': 1.6195479788870182, 'val_accuracy': 0.6059171597633136, 'precision': 0.43407936173159967, 'recall': 0.6059171597633136, 'f1-score': 0.4991410194637041, 'macro_f1-score': 0.08032188007541531, 'balanced_accuracy': 0.09756994167128796, 'mcc': 0.4318159728730775}\n",
      "Epoch 2/20\n"
     ]
    },
    {
     "name": "stderr",
     "output_type": "stream",
     "text": [
      "100%|██████████| 476/476 [03:29<00:00,  2.27it/s]\n"
     ]
    },
    {
     "name": "stdout",
     "output_type": "stream",
     "text": [
      "{'val_loss': 1.3322543063253727, 'val_accuracy': 0.6295857988165681, 'precision': 0.5645054777246428, 'recall': 0.6295857988165681, 'f1-score': 0.5665045712824037, 'macro_f1-score': 0.16681380496884424, 'balanced_accuracy': 0.1853205176482593, 'mcc': 0.4907483821503475}\n",
      "Epoch 3/20\n"
     ]
    },
    {
     "name": "stderr",
     "output_type": "stream",
     "text": [
      "100%|██████████| 476/476 [03:30<00:00,  2.26it/s]\n"
     ]
    },
    {
     "name": "stdout",
     "output_type": "stream",
     "text": [
      "{'val_loss': 1.2060943622634095, 'val_accuracy': 0.6544378698224852, 'precision': 0.5783862695351554, 'recall': 0.6544378698224852, 'f1-score': 0.5913316454407331, 'macro_f1-score': 0.2263571809951636, 'balanced_accuracy': 0.22712288980598713, 'mcc': 0.5295243162998862}\n",
      "Epoch 4/20\n"
     ]
    },
    {
     "name": "stderr",
     "output_type": "stream",
     "text": [
      "100%|██████████| 476/476 [03:29<00:00,  2.27it/s]\n"
     ]
    },
    {
     "name": "stdout",
     "output_type": "stream",
     "text": [
      "{'val_loss': 1.1870492123207956, 'val_accuracy': 0.6757396449704142, 'precision': 0.6295570528727802, 'recall': 0.6757396449704142, 'f1-score': 0.6393357140694588, 'macro_f1-score': 0.2726802067308762, 'balanced_accuracy': 0.27726037897567196, 'mcc': 0.5636860039066699}\n",
      "Epoch 5/20\n"
     ]
    },
    {
     "name": "stderr",
     "output_type": "stream",
     "text": [
      "100%|██████████| 476/476 [03:29<00:00,  2.28it/s]\n"
     ]
    },
    {
     "name": "stdout",
     "output_type": "stream",
     "text": [
      "{'val_loss': 1.1954977141236358, 'val_accuracy': 0.6745562130177515, 'precision': 0.6189952621714296, 'recall': 0.6745562130177515, 'f1-score': 0.6372340775814523, 'macro_f1-score': 0.29863106125742056, 'balanced_accuracy': 0.2996669963129997, 'mcc': 0.5636112084040147}\n",
      "Epoch 6/20\n"
     ]
    },
    {
     "name": "stderr",
     "output_type": "stream",
     "text": [
      "100%|██████████| 476/476 [03:30<00:00,  2.26it/s]\n"
     ]
    },
    {
     "name": "stdout",
     "output_type": "stream",
     "text": [
      "{'val_loss': 1.299241208805228, 'val_accuracy': 0.6863905325443787, 'precision': 0.6638794253855375, 'recall': 0.6863905325443787, 'f1-score': 0.6396979963631515, 'macro_f1-score': 0.31540758661790363, 'balanced_accuracy': 0.2943171659115452, 'mcc': 0.5664662509288383}\n",
      "Epoch 7/20\n"
     ]
    },
    {
     "name": "stderr",
     "output_type": "stream",
     "text": [
      "100%|██████████| 476/476 [03:29<00:00,  2.28it/s]\n"
     ]
    },
    {
     "name": "stdout",
     "output_type": "stream",
     "text": [
      "{'val_loss': 1.272231378645267, 'val_accuracy': 0.7005917159763314, 'precision': 0.6984798279113579, 'recall': 0.7005917159763314, 'f1-score': 0.6854411044687259, 'macro_f1-score': 0.4057100084339865, 'balanced_accuracy': 0.38898511683108133, 'mcc': 0.5992836720497543}\n",
      "Epoch 8/20\n"
     ]
    },
    {
     "name": "stderr",
     "output_type": "stream",
     "text": [
      "100%|██████████| 476/476 [03:30<00:00,  2.27it/s]\n"
     ]
    },
    {
     "name": "stdout",
     "output_type": "stream",
     "text": [
      "{'val_loss': 1.342350206285153, 'val_accuracy': 0.6757396449704142, 'precision': 0.6975045722480899, 'recall': 0.6757396449704142, 'f1-score': 0.6668552663402733, 'macro_f1-score': 0.40078396638292374, 'balanced_accuracy': 0.39823352844436744, 'mcc': 0.5813554279628633}\n",
      "Epoch 9/20\n"
     ]
    },
    {
     "name": "stderr",
     "output_type": "stream",
     "text": [
      "100%|██████████| 476/476 [03:30<00:00,  2.26it/s]\n"
     ]
    },
    {
     "name": "stdout",
     "output_type": "stream",
     "text": [
      "{'val_loss': 1.3683584512404676, 'val_accuracy': 0.676923076923077, 'precision': 0.6708293929959068, 'recall': 0.676923076923077, 'f1-score': 0.657143690595636, 'macro_f1-score': 0.35607072550255964, 'balanced_accuracy': 0.3583490062565711, 'mcc': 0.5696735142596775}\n",
      "Epoch 10/20\n"
     ]
    },
    {
     "name": "stderr",
     "output_type": "stream",
     "text": [
      "100%|██████████| 476/476 [03:30<00:00,  2.27it/s]\n"
     ]
    },
    {
     "name": "stdout",
     "output_type": "stream",
     "text": [
      "{'val_loss': 1.3928357992532119, 'val_accuracy': 0.6911242603550296, 'precision': 0.7035268836923173, 'recall': 0.6911242603550296, 'f1-score': 0.6791918849767935, 'macro_f1-score': 0.41008229812904423, 'balanced_accuracy': 0.4079974437857321, 'mcc': 0.5885097412768935}\n",
      "Epoch 11/20\n"
     ]
    },
    {
     "name": "stderr",
     "output_type": "stream",
     "text": [
      "100%|██████████| 476/476 [03:30<00:00,  2.26it/s]\n"
     ]
    },
    {
     "name": "stdout",
     "output_type": "stream",
     "text": [
      "{'val_loss': 1.4362395194903859, 'val_accuracy': 0.6875739644970414, 'precision': 0.6990785548727859, 'recall': 0.6875739644970414, 'f1-score': 0.680090794577698, 'macro_f1-score': 0.41521960596910873, 'balanced_accuracy': 0.4058733464034547, 'mcc': 0.588735291147695}\n",
      "Epoch 12/20\n"
     ]
    },
    {
     "name": "stderr",
     "output_type": "stream",
     "text": [
      "100%|██████████| 476/476 [03:29<00:00,  2.27it/s]\n"
     ]
    },
    {
     "name": "stdout",
     "output_type": "stream",
     "text": [
      "{'val_loss': 1.5434552509829682, 'val_accuracy': 0.6792899408284023, 'precision': 0.6826964768210833, 'recall': 0.6792899408284023, 'f1-score': 0.6647447604287896, 'macro_f1-score': 0.36469329943561535, 'balanced_accuracy': 0.36743880435824006, 'mcc': 0.576263698289688}\n",
      "Epoch 13/20\n"
     ]
    },
    {
     "name": "stderr",
     "output_type": "stream",
     "text": [
      "100%|██████████| 476/476 [03:30<00:00,  2.26it/s]\n"
     ]
    },
    {
     "name": "stdout",
     "output_type": "stream",
     "text": [
      "{'val_loss': 1.4812916657834683, 'val_accuracy': 0.6863905325443787, 'precision': 0.691730089007201, 'recall': 0.6863905325443787, 'f1-score': 0.6797504886636766, 'macro_f1-score': 0.4213327717017211, 'balanced_accuracy': 0.4175858313585154, 'mcc': 0.5859080917320789}\n",
      "Epoch 14/20\n"
     ]
    },
    {
     "name": "stderr",
     "output_type": "stream",
     "text": [
      "100%|██████████| 476/476 [03:30<00:00,  2.26it/s]\n"
     ]
    },
    {
     "name": "stdout",
     "output_type": "stream",
     "text": [
      "{'val_loss': 1.4143949977631838, 'val_accuracy': 0.7017751479289941, 'precision': 0.7016183901165215, 'recall': 0.7017751479289941, 'f1-score': 0.6937320286538519, 'macro_f1-score': 0.4286561600694108, 'balanced_accuracy': 0.4206363300839316, 'mcc': 0.6050956102850471}\n",
      "Epoch 15/20\n"
     ]
    },
    {
     "name": "stderr",
     "output_type": "stream",
     "text": [
      "100%|██████████| 476/476 [03:29<00:00,  2.27it/s]\n"
     ]
    },
    {
     "name": "stdout",
     "output_type": "stream",
     "text": [
      "{'val_loss': 1.4634507987296805, 'val_accuracy': 0.7053254437869823, 'precision': 0.6944330763464612, 'recall': 0.7053254437869823, 'f1-score': 0.6864651737420442, 'macro_f1-score': 0.4218504755356166, 'balanced_accuracy': 0.41401120218151943, 'mcc': 0.6018328112830338}\n",
      "Epoch 16/20\n"
     ]
    },
    {
     "name": "stderr",
     "output_type": "stream",
     "text": [
      "100%|██████████| 476/476 [03:29<00:00,  2.27it/s]\n"
     ]
    },
    {
     "name": "stdout",
     "output_type": "stream",
     "text": [
      "{'val_loss': 1.4989188954515278, 'val_accuracy': 0.6899408284023668, 'precision': 0.6787606675757716, 'recall': 0.6899408284023668, 'f1-score': 0.6747884403846068, 'macro_f1-score': 0.4321921402131882, 'balanced_accuracy': 0.42571059715660053, 'mcc': 0.5874310710885847}\n",
      "Epoch 17/20\n"
     ]
    },
    {
     "name": "stderr",
     "output_type": "stream",
     "text": [
      "100%|██████████| 476/476 [03:25<00:00,  2.31it/s]\n"
     ]
    },
    {
     "name": "stdout",
     "output_type": "stream",
     "text": [
      "{'val_loss': 1.6147092445841376, 'val_accuracy': 0.6923076923076923, 'precision': 0.703130609873198, 'recall': 0.6923076923076923, 'f1-score': 0.6777474674499283, 'macro_f1-score': 0.3811685248277742, 'balanced_accuracy': 0.36953003760801806, 'mcc': 0.5910334412796574}\n",
      "Epoch 18/20\n"
     ]
    },
    {
     "name": "stderr",
     "output_type": "stream",
     "text": [
      "100%|██████████| 476/476 [03:26<00:00,  2.31it/s]\n"
     ]
    },
    {
     "name": "stdout",
     "output_type": "stream",
     "text": [
      "{'val_loss': 1.5596816882772266, 'val_accuracy': 0.6994082840236686, 'precision': 0.6840029110182858, 'recall': 0.6994082840236686, 'f1-score': 0.6832945536340729, 'macro_f1-score': 0.4088518765011498, 'balanced_accuracy': 0.4013395644798677, 'mcc': 0.598252264641026}\n",
      "Epoch 19/20\n"
     ]
    },
    {
     "name": "stderr",
     "output_type": "stream",
     "text": [
      "100%|██████████| 476/476 [03:26<00:00,  2.31it/s]\n"
     ]
    },
    {
     "name": "stdout",
     "output_type": "stream",
     "text": [
      "{'val_loss': 1.637671301387391, 'val_accuracy': 0.6816568047337278, 'precision': 0.6804642933787132, 'recall': 0.6816568047337278, 'f1-score': 0.6740929028444319, 'macro_f1-score': 0.4229123602214482, 'balanced_accuracy': 0.43326579873761417, 'mcc': 0.5851068096921653}\n",
      "Early stopping triggered at epoch 19\n",
      "Fold 9\n",
      "Training set label distribution: {0: 3577, 1: 28, 2: 126, 3: 27, 4: 232, 5: 130, 6: 106, 7: 36, 8: 76, 9: 73, 10: 79, 11: 194, 12: 217, 13: 32, 14: 26, 15: 28, 16: 22, 17: 261, 18: 104, 19: 50, 20: 17, 21: 39, 22: 87, 23: 180, 24: 18, 25: 57, 26: 96, 27: 55, 28: 13, 29: 15, 30: 17, 31: 90, 32: 40, 33: 36, 34: 33, 35: 14, 36: 31, 37: 25, 38: 7, 39: 116, 40: 12, 41: 10, 42: 166, 43: 18, 44: 22, 45: 10, 46: 61, 47: 595, 48: 226, 49: 79}\n",
      "Validation set label distribution: {0: 397, 1: 3, 2: 14, 3: 3, 4: 25, 5: 15, 6: 12, 7: 3, 8: 9, 9: 8, 10: 9, 11: 21, 12: 24, 13: 4, 14: 3, 15: 3, 16: 3, 17: 28, 18: 12, 19: 6, 20: 1, 21: 5, 22: 10, 23: 20, 24: 2, 25: 6, 26: 11, 27: 6, 28: 2, 29: 1, 30: 2, 31: 10, 32: 5, 33: 4, 34: 4, 35: 1, 36: 4, 37: 2, 39: 13, 40: 2, 41: 1, 42: 18, 43: 2, 44: 3, 45: 1, 46: 7, 47: 66, 48: 26, 49: 8}\n"
     ]
    },
    {
     "name": "stderr",
     "output_type": "stream",
     "text": [
      "Some weights of RobertaForSequenceClassification were not initialized from the model checkpoint at roberta-base and are newly initialized: ['classifier.dense.bias', 'classifier.dense.weight', 'classifier.out_proj.bias', 'classifier.out_proj.weight']\n",
      "You should probably TRAIN this model on a down-stream task to be able to use it for predictions and inference.\n"
     ]
    },
    {
     "name": "stdout",
     "output_type": "stream",
     "text": [
      "Epoch 1/20\n"
     ]
    },
    {
     "name": "stderr",
     "output_type": "stream",
     "text": [
      "100%|██████████| 476/476 [03:27<00:00,  2.30it/s]\n"
     ]
    },
    {
     "name": "stdout",
     "output_type": "stream",
     "text": [
      "{'val_loss': 1.566044678103249, 'val_accuracy': 0.5976331360946746, 'precision': 0.4459572463217346, 'recall': 0.5976331360946746, 'f1-score': 0.4909194271498987, 'macro_f1-score': 0.09904429363682267, 'balanced_accuracy': 0.11776206335631616, 'mcc': 0.4292101666374253}\n",
      "Epoch 2/20\n"
     ]
    },
    {
     "name": "stderr",
     "output_type": "stream",
     "text": [
      "100%|██████████| 476/476 [03:29<00:00,  2.28it/s]\n"
     ]
    },
    {
     "name": "stdout",
     "output_type": "stream",
     "text": [
      "{'val_loss': 1.451003148870648, 'val_accuracy': 0.6177514792899408, 'precision': 0.5854011647711198, 'recall': 0.6177514792899408, 'f1-score': 0.588227753939215, 'macro_f1-score': 0.1841905805311344, 'balanced_accuracy': 0.2086486961292904, 'mcc': 0.49848572142561004}\n",
      "Epoch 3/20\n"
     ]
    },
    {
     "name": "stderr",
     "output_type": "stream",
     "text": [
      "100%|██████████| 476/476 [03:29<00:00,  2.28it/s]\n"
     ]
    },
    {
     "name": "stdout",
     "output_type": "stream",
     "text": [
      "{'val_loss': 1.2747147167628665, 'val_accuracy': 0.6650887573964497, 'precision': 0.6180802773194201, 'recall': 0.6650887573964497, 'f1-score': 0.6274116003608946, 'macro_f1-score': 0.2532987805241163, 'balanced_accuracy': 0.25684265042975785, 'mcc': 0.5452559269023693}\n",
      "Epoch 4/20\n"
     ]
    },
    {
     "name": "stderr",
     "output_type": "stream",
     "text": [
      "100%|██████████| 476/476 [03:28<00:00,  2.28it/s]\n"
     ]
    },
    {
     "name": "stdout",
     "output_type": "stream",
     "text": [
      "{'val_loss': 1.3110769188629006, 'val_accuracy': 0.6710059171597633, 'precision': 0.6354971258845818, 'recall': 0.6710059171597633, 'f1-score': 0.6416520680872562, 'macro_f1-score': 0.2844660306411313, 'balanced_accuracy': 0.283529712575104, 'mcc': 0.5628106930317253}\n",
      "Epoch 5/20\n"
     ]
    },
    {
     "name": "stderr",
     "output_type": "stream",
     "text": [
      "100%|██████████| 476/476 [03:30<00:00,  2.27it/s]\n"
     ]
    },
    {
     "name": "stdout",
     "output_type": "stream",
     "text": [
      "{'val_loss': 1.303721451534415, 'val_accuracy': 0.6757396449704142, 'precision': 0.6685908102140921, 'recall': 0.6757396449704142, 'f1-score': 0.6499663470448602, 'macro_f1-score': 0.28749507212419284, 'balanced_accuracy': 0.29116558010893073, 'mcc': 0.5737595102292624}\n",
      "Epoch 6/20\n"
     ]
    },
    {
     "name": "stderr",
     "output_type": "stream",
     "text": [
      "100%|██████████| 476/476 [03:29<00:00,  2.27it/s]\n"
     ]
    },
    {
     "name": "stdout",
     "output_type": "stream",
     "text": [
      "{'val_loss': 1.3305298551073614, 'val_accuracy': 0.6733727810650888, 'precision': 0.6787218109528589, 'recall': 0.6733727810650888, 'f1-score': 0.6475503580774109, 'macro_f1-score': 0.3063295985026058, 'balanced_accuracy': 0.2989732452643058, 'mcc': 0.5572913628484998}\n",
      "Epoch 7/20\n"
     ]
    },
    {
     "name": "stderr",
     "output_type": "stream",
     "text": [
      "100%|██████████| 476/476 [03:29<00:00,  2.27it/s]\n"
     ]
    },
    {
     "name": "stdout",
     "output_type": "stream",
     "text": [
      "{'val_loss': 1.3265653809286513, 'val_accuracy': 0.6899408284023668, 'precision': 0.6882578980918155, 'recall': 0.6899408284023668, 'f1-score': 0.6758047854376226, 'macro_f1-score': 0.34988568684719773, 'balanced_accuracy': 0.34667997509667176, 'mcc': 0.5881113219382809}\n",
      "Epoch 8/20\n"
     ]
    },
    {
     "name": "stderr",
     "output_type": "stream",
     "text": [
      "100%|██████████| 476/476 [03:29<00:00,  2.27it/s]\n"
     ]
    },
    {
     "name": "stdout",
     "output_type": "stream",
     "text": [
      "{'val_loss': 1.4367553248720348, 'val_accuracy': 0.6674556213017752, 'precision': 0.6676772197118264, 'recall': 0.6674556213017752, 'f1-score': 0.6569390961056211, 'macro_f1-score': 0.3422394110087052, 'balanced_accuracy': 0.36891457705805114, 'mcc': 0.5677642934341779}\n",
      "Epoch 9/20\n"
     ]
    },
    {
     "name": "stderr",
     "output_type": "stream",
     "text": [
      "100%|██████████| 476/476 [03:30<00:00,  2.26it/s]\n"
     ]
    },
    {
     "name": "stdout",
     "output_type": "stream",
     "text": [
      "{'val_loss': 1.5235631145396322, 'val_accuracy': 0.6579881656804734, 'precision': 0.6904427286545073, 'recall': 0.6579881656804734, 'f1-score': 0.6603903599151053, 'macro_f1-score': 0.3777799370935462, 'balanced_accuracy': 0.39443543933005715, 'mcc': 0.5638832782779258}\n",
      "Epoch 10/20\n"
     ]
    },
    {
     "name": "stderr",
     "output_type": "stream",
     "text": [
      "100%|██████████| 476/476 [03:31<00:00,  2.25it/s]\n"
     ]
    },
    {
     "name": "stdout",
     "output_type": "stream",
     "text": [
      "{'val_loss': 1.606080432545464, 'val_accuracy': 0.6686390532544378, 'precision': 0.6516487203363511, 'recall': 0.6686390532544378, 'f1-score': 0.6521218123727729, 'macro_f1-score': 0.30585865154637815, 'balanced_accuracy': 0.3061414074995528, 'mcc': 0.5657844166573872}\n",
      "Epoch 11/20\n"
     ]
    },
    {
     "name": "stderr",
     "output_type": "stream",
     "text": [
      "100%|██████████| 476/476 [03:30<00:00,  2.26it/s]\n"
     ]
    },
    {
     "name": "stdout",
     "output_type": "stream",
     "text": [
      "{'val_loss': 1.5097612603655401, 'val_accuracy': 0.6911242603550296, 'precision': 0.6865205320565667, 'recall': 0.6911242603550296, 'f1-score': 0.6790005804358239, 'macro_f1-score': 0.36953279285546975, 'balanced_accuracy': 0.3609614157383139, 'mcc': 0.5900711819044144}\n",
      "Epoch 12/20\n"
     ]
    },
    {
     "name": "stderr",
     "output_type": "stream",
     "text": [
      "100%|██████████| 476/476 [03:30<00:00,  2.26it/s]\n",
      "D:\\Anaconda3\\envs\\cuda\\Lib\\site-packages\\sklearn\\metrics\\_classification.py:2458: UserWarning: y_pred contains classes not in y_true\n",
      "  warnings.warn(\"y_pred contains classes not in y_true\")\n"
     ]
    },
    {
     "name": "stdout",
     "output_type": "stream",
     "text": [
      "{'val_loss': 1.6134246272860833, 'val_accuracy': 0.676923076923077, 'precision': 0.6836893409162238, 'recall': 0.676923076923077, 'f1-score': 0.6715658230063426, 'macro_f1-score': 0.34768685120396564, 'balanced_accuracy': 0.36326622579771195, 'mcc': 0.5796511494104599}\n",
      "Early stopping triggered at epoch 12\n",
      "Fold 10\n",
      "Training set label distribution: {0: 3577, 1: 28, 2: 126, 3: 27, 4: 231, 5: 130, 6: 107, 7: 35, 8: 76, 9: 73, 10: 79, 11: 194, 12: 217, 13: 32, 14: 26, 15: 28, 16: 23, 17: 260, 18: 104, 19: 50, 20: 17, 21: 39, 22: 88, 23: 180, 24: 18, 25: 56, 26: 97, 27: 54, 28: 13, 29: 15, 30: 17, 31: 90, 32: 40, 33: 36, 34: 34, 35: 13, 36: 32, 37: 24, 38: 7, 39: 116, 40: 12, 41: 10, 42: 166, 43: 18, 44: 22, 45: 10, 46: 61, 47: 595, 48: 227, 49: 79}\n",
      "Validation set label distribution: {0: 397, 1: 3, 2: 14, 3: 3, 4: 26, 5: 15, 6: 11, 7: 4, 8: 9, 9: 8, 10: 9, 11: 21, 12: 24, 13: 4, 14: 3, 15: 3, 16: 2, 17: 29, 18: 12, 19: 6, 20: 1, 21: 5, 22: 9, 23: 20, 24: 2, 25: 7, 26: 10, 27: 7, 28: 2, 29: 1, 30: 2, 31: 10, 32: 5, 33: 4, 34: 3, 35: 2, 36: 3, 37: 3, 39: 13, 40: 2, 41: 1, 42: 18, 43: 2, 44: 3, 45: 1, 46: 7, 47: 66, 48: 25, 49: 8}\n"
     ]
    },
    {
     "name": "stderr",
     "output_type": "stream",
     "text": [
      "Some weights of RobertaForSequenceClassification were not initialized from the model checkpoint at roberta-base and are newly initialized: ['classifier.dense.bias', 'classifier.dense.weight', 'classifier.out_proj.bias', 'classifier.out_proj.weight']\n",
      "You should probably TRAIN this model on a down-stream task to be able to use it for predictions and inference.\n"
     ]
    },
    {
     "name": "stdout",
     "output_type": "stream",
     "text": [
      "Epoch 1/20\n"
     ]
    },
    {
     "name": "stderr",
     "output_type": "stream",
     "text": [
      "100%|██████████| 476/476 [03:29<00:00,  2.27it/s]\n"
     ]
    },
    {
     "name": "stdout",
     "output_type": "stream",
     "text": [
      "{'val_loss': 1.5127824511168138, 'val_accuracy': 0.6177514792899408, 'precision': 0.5105966872807337, 'recall': 0.6177514792899408, 'f1-score': 0.529997338577946, 'macro_f1-score': 0.12188003633259245, 'balanced_accuracy': 0.13702833815379173, 'mcc': 0.45802483159337687}\n",
      "Epoch 2/20\n"
     ]
    },
    {
     "name": "stderr",
     "output_type": "stream",
     "text": [
      "100%|██████████| 476/476 [03:30<00:00,  2.26it/s]\n"
     ]
    },
    {
     "name": "stdout",
     "output_type": "stream",
     "text": [
      "{'val_loss': 1.3273985605194885, 'val_accuracy': 0.6331360946745562, 'precision': 0.5426869356689052, 'recall': 0.6331360946745562, 'f1-score': 0.5732507844665287, 'macro_f1-score': 0.17140789274295384, 'balanced_accuracy': 0.18594816605029552, 'mcc': 0.5002916308073992}\n",
      "Epoch 3/20\n"
     ]
    },
    {
     "name": "stderr",
     "output_type": "stream",
     "text": [
      "100%|██████████| 476/476 [03:31<00:00,  2.25it/s]\n"
     ]
    },
    {
     "name": "stdout",
     "output_type": "stream",
     "text": [
      "{'val_loss': 1.3452950209941503, 'val_accuracy': 0.6224852071005917, 'precision': 0.5789850765115117, 'recall': 0.6224852071005917, 'f1-score': 0.5844822770709361, 'macro_f1-score': 0.20821742509493935, 'balanced_accuracy': 0.2148702006519168, 'mcc': 0.49882491387362266}\n",
      "Epoch 4/20\n"
     ]
    },
    {
     "name": "stderr",
     "output_type": "stream",
     "text": [
      "100%|██████████| 476/476 [03:31<00:00,  2.25it/s]\n"
     ]
    },
    {
     "name": "stdout",
     "output_type": "stream",
     "text": [
      "{'val_loss': 1.3605315010502654, 'val_accuracy': 0.6331360946745562, 'precision': 0.6361518778951092, 'recall': 0.6331360946745562, 'f1-score': 0.6140273832035966, 'macro_f1-score': 0.2706739094727815, 'balanced_accuracy': 0.29058939965639047, 'mcc': 0.52466370904851}\n",
      "Epoch 5/20\n"
     ]
    },
    {
     "name": "stderr",
     "output_type": "stream",
     "text": [
      "100%|██████████| 476/476 [03:30<00:00,  2.27it/s]\n"
     ]
    },
    {
     "name": "stdout",
     "output_type": "stream",
     "text": [
      "{'val_loss': 1.2919207518955447, 'val_accuracy': 0.6710059171597633, 'precision': 0.6279746819426506, 'recall': 0.6710059171597633, 'f1-score': 0.6354710419997963, 'macro_f1-score': 0.2872154421055126, 'balanced_accuracy': 0.2758089851123813, 'mcc': 0.5546558501182904}\n",
      "Epoch 6/20\n"
     ]
    },
    {
     "name": "stderr",
     "output_type": "stream",
     "text": [
      "100%|██████████| 476/476 [03:30<00:00,  2.26it/s]\n"
     ]
    },
    {
     "name": "stdout",
     "output_type": "stream",
     "text": [
      "{'val_loss': 1.3102099029523022, 'val_accuracy': 0.6674556213017752, 'precision': 0.6612921707345321, 'recall': 0.6674556213017752, 'f1-score': 0.6478262315910954, 'macro_f1-score': 0.3284971144586208, 'balanced_accuracy': 0.333950844851938, 'mcc': 0.5644399248527283}\n",
      "Epoch 7/20\n"
     ]
    },
    {
     "name": "stderr",
     "output_type": "stream",
     "text": [
      "100%|██████████| 476/476 [03:30<00:00,  2.26it/s]\n"
     ]
    },
    {
     "name": "stdout",
     "output_type": "stream",
     "text": [
      "{'val_loss': 1.3633840888176325, 'val_accuracy': 0.6792899408284023, 'precision': 0.6610552629682998, 'recall': 0.6792899408284023, 'f1-score': 0.6581511973623209, 'macro_f1-score': 0.3383898180128813, 'balanced_accuracy': 0.3297449785391722, 'mcc': 0.5710346889505684}\n",
      "Epoch 8/20\n"
     ]
    },
    {
     "name": "stderr",
     "output_type": "stream",
     "text": [
      "100%|██████████| 476/476 [03:31<00:00,  2.26it/s]\n"
     ]
    },
    {
     "name": "stdout",
     "output_type": "stream",
     "text": [
      "{'val_loss': 1.4158958084178421, 'val_accuracy': 0.676923076923077, 'precision': 0.6967732863423418, 'recall': 0.676923076923077, 'f1-score': 0.67220584510972, 'macro_f1-score': 0.3753245320016352, 'balanced_accuracy': 0.38288941836915996, 'mcc': 0.575745122126905}\n",
      "Epoch 9/20\n"
     ]
    },
    {
     "name": "stderr",
     "output_type": "stream",
     "text": [
      "100%|██████████| 476/476 [03:30<00:00,  2.26it/s]\n"
     ]
    },
    {
     "name": "stdout",
     "output_type": "stream",
     "text": [
      "{'val_loss': 1.504777046869386, 'val_accuracy': 0.6710059171597633, 'precision': 0.6695788017579415, 'recall': 0.6710059171597633, 'f1-score': 0.6518304955349499, 'macro_f1-score': 0.3237673687695758, 'balanced_accuracy': 0.3199715410948232, 'mcc': 0.5640389481038}\n",
      "Epoch 10/20\n"
     ]
    },
    {
     "name": "stderr",
     "output_type": "stream",
     "text": [
      "100%|██████████| 476/476 [03:30<00:00,  2.26it/s]\n",
      "D:\\Anaconda3\\envs\\cuda\\Lib\\site-packages\\sklearn\\metrics\\_classification.py:2458: UserWarning: y_pred contains classes not in y_true\n",
      "  warnings.warn(\"y_pred contains classes not in y_true\")\n"
     ]
    },
    {
     "name": "stdout",
     "output_type": "stream",
     "text": [
      "{'val_loss': 1.573622686683007, 'val_accuracy': 0.6757396449704142, 'precision': 0.6883608631297005, 'recall': 0.6757396449704142, 'f1-score': 0.6686649540492892, 'macro_f1-score': 0.367070535059603, 'balanced_accuracy': 0.3905445356999323, 'mcc': 0.5764285932654417}\n",
      "Epoch 11/20\n"
     ]
    },
    {
     "name": "stderr",
     "output_type": "stream",
     "text": [
      "100%|██████████| 476/476 [03:30<00:00,  2.26it/s]\n"
     ]
    },
    {
     "name": "stdout",
     "output_type": "stream",
     "text": [
      "{'val_loss': 1.6916558152099825, 'val_accuracy': 0.6615384615384615, 'precision': 0.66002273216455, 'recall': 0.6615384615384615, 'f1-score': 0.6466597859032321, 'macro_f1-score': 0.35147349788727433, 'balanced_accuracy': 0.3580677889355834, 'mcc': 0.5545661830173113}\n",
      "Early stopping triggered at epoch 11\n",
      "Final 10-fold Cross-Validation Results:\n",
      "val_loss: 1.4497510288027382\n",
      "val_accuracy: 0.6605833247778781\n",
      "precision: 0.635580935529923\n",
      "recall: 0.6605833247778781\n",
      "f1-score: 0.6304557731671212\n",
      "macro_f1-score: 0.3071577421450641\n",
      "balanced_accuracy: 0.31318713102300133\n",
      "mcc: 0.545215304331329\n"
     ]
    }
   ],
   "source": [
    "from torch.utils.data import DataLoader\n",
    "import torch\n",
    "from torch.nn import CrossEntropyLoss\n",
    "from torch.optim import AdamW\n",
    "from tqdm import tqdm\n",
    "import numpy as np\n",
    "\n",
    "all_fold_results = []\n",
    "\n",
    "# 進行 10 折交叉驗證\n",
    "for fold, (train_idx, val_idx) in enumerate(skf.split(messages, labels)):\n",
    "    print(f\"Fold {fold + 1}\")\n",
    "    \n",
    "    train_messages = [messages[i] for i in train_idx]\n",
    "    train_labels = [labels[i] for i in train_idx]\n",
    "    val_messages = [messages[i] for i in val_idx]\n",
    "    val_labels = [labels[i] for i in val_idx]\n",
    "\n",
    "    print(\"Training set label distribution:\", {label: train_labels.count(label) for label in set(train_labels)})\n",
    "    print(\"Validation set label distribution:\", {label: val_labels.count(label) for label in set(val_labels)})\n",
    "    \n",
    "    train_dataset = CustomDataset(train_messages, train_labels, tokenizer, MAX_LENGTH)\n",
    "    val_dataset = CustomDataset(val_messages, val_labels, tokenizer, MAX_LENGTH)\n",
    "    train_dataloader = DataLoader(train_dataset, batch_size=BATCH_SIZE, shuffle=True)\n",
    "    val_dataloader = DataLoader(val_dataset, batch_size=BATCH_SIZE)\n",
    "\n",
    "    NUM_LABELS = len(set(train_labels) | set(val_labels))\n",
    "    model = RobertaForSequenceClassification.from_pretrained('roberta-base', num_labels=NUM_LABELS)\n",
    "    model.to(device)\n",
    "    optimizer = AdamW(model.parameters(), lr=5e-5, weight_decay=1e-2)\n",
    "    criterion = CrossEntropyLoss()\n",
    "\n",
    "    epoch_results = []\n",
    "    patience = 3\n",
    "    best_macro_f1 = 0\n",
    "    epochs_without_improvement = 0\n",
    "    \n",
    "    for epoch in range(EPOCHS):\n",
    "        print(f\"Epoch {epoch + 1}/{EPOCHS}\")\n",
    "        train_loss = train_epoch(model, train_dataloader, optimizer, criterion)\n",
    "        metrics = eval_model(model, val_dataloader, criterion, num_labels=NUM_LABELS)\n",
    "        epoch_results.append(metrics)\n",
    "        print(metrics)\n",
    "\n",
    "        current_macro_f1 = metrics[\"macro_f1-score\"]\n",
    "        \n",
    "        if current_macro_f1 > best_macro_f1:\n",
    "            best_macro_f1 = current_macro_f1  # 更新最佳 macro_f1-score\n",
    "            epochs_without_improvement = 0   # 重置計數\n",
    "        else:\n",
    "            epochs_without_improvement += 1  # 增加計數\n",
    "        \n",
    "        # 若連續 patience 3 次沒有提升，則停止訓練\n",
    "        if epochs_without_improvement >= patience:\n",
    "            print(f\"Early stopping triggered at epoch {epoch + 1}\")\n",
    "            break\n",
    "    \n",
    "    avg_metrics = {metric: np.mean([epoch[metric] for epoch in epoch_results]) for metric in epoch_results[0].keys()}\n",
    "    all_fold_results.append(avg_metrics)\n",
    "\n",
    "final_metrics = {metric: np.mean([result[metric] for result in all_fold_results]) for metric in all_fold_results[0].keys()}\n",
    "print(\"Final 10-fold Cross-Validation Results:\")\n",
    "for metric, value in final_metrics.items():\n",
    "    print(f\"{metric}: {value}\")"
   ]
  },
  {
   "cell_type": "code",
   "execution_count": 8,
   "id": "f8016681-94ee-4d35-81ac-9831d7172f0d",
   "metadata": {},
   "outputs": [
    {
     "data": {
      "text/plain": [
       "[{'val_loss': 1.4626342607080849,\n",
       "  'val_accuracy': 0.6619385342789599,\n",
       "  'precision': 0.6422723832168639,\n",
       "  'recall': 0.6619385342789599,\n",
       "  'f1-score': 0.6328028307454665,\n",
       "  'macro_f1-score': 0.3290612945928926,\n",
       "  'balanced_accuracy': 0.3350176382363355,\n",
       "  'mcc': 0.547835608349094},\n",
       " {'val_loss': 1.4029592939654099,\n",
       "  'val_accuracy': 0.6552761659144638,\n",
       "  'precision': 0.6164201233533725,\n",
       "  'recall': 0.6552761659144638,\n",
       "  'f1-score': 0.6175041761889319,\n",
       "  'macro_f1-score': 0.27173040692474215,\n",
       "  'balanced_accuracy': 0.28301821253297443,\n",
       "  'mcc': 0.5353654380842504},\n",
       " {'val_loss': 1.5252361880720788,\n",
       "  'val_accuracy': 0.662568951930654,\n",
       "  'precision': 0.6322935365908731,\n",
       "  'recall': 0.662568951930654,\n",
       "  'f1-score': 0.6312615615573111,\n",
       "  'macro_f1-score': 0.31026935105333847,\n",
       "  'balanced_accuracy': 0.3104134396260856,\n",
       "  'mcc': 0.5440657250417769},\n",
       " {'val_loss': 1.5137800130481025,\n",
       "  'val_accuracy': 0.6549307666328943,\n",
       "  'precision': 0.6436219475449482,\n",
       "  'recall': 0.6549307666328943,\n",
       "  'f1-score': 0.6295960324460642,\n",
       "  'macro_f1-score': 0.31966507146574336,\n",
       "  'balanced_accuracy': 0.32623169104840144,\n",
       "  'mcc': 0.5387000956885016},\n",
       " {'val_loss': 1.4509641371151936,\n",
       "  'val_accuracy': 0.6478303747534517,\n",
       "  'precision': 0.610808638573801,\n",
       "  'recall': 0.6478303747534517,\n",
       "  'f1-score': 0.6104161122088562,\n",
       "  'macro_f1-score': 0.2794101664075328,\n",
       "  'balanced_accuracy': 0.289043145782472,\n",
       "  'mcc': 0.5255332023144103},\n",
       " {'val_loss': 1.4109506762339175,\n",
       "  'val_accuracy': 0.6588984979517523,\n",
       "  'precision': 0.6316643124541922,\n",
       "  'recall': 0.6588984979517523,\n",
       "  'f1-score': 0.6265980545885547,\n",
       "  'macro_f1-score': 0.296587787044197,\n",
       "  'balanced_accuracy': 0.3041420694027584,\n",
       "  'mcc': 0.5432273748853391},\n",
       " {'val_loss': 1.4522107969328648,\n",
       "  'val_accuracy': 0.6675948485903237,\n",
       "  'precision': 0.6500915143153958,\n",
       "  'recall': 0.6675948485903237,\n",
       "  'f1-score': 0.6424960542346346,\n",
       "  'macro_f1-score': 0.33779187820670437,\n",
       "  'balanced_accuracy': 0.34470095201722856,\n",
       "  'mcc': 0.556689781375225},\n",
       " {'val_loss': 1.413961788452607,\n",
       "  'val_accuracy': 0.6786670819059482,\n",
       "  'precision': 0.6566136102778336,\n",
       "  'recall': 0.6786670819059482,\n",
       "  'f1-score': 0.6513991358400752,\n",
       "  'macro_f1-score': 0.3489334701878511,\n",
       "  'balanced_accuracy': 0.34685339463217185,\n",
       "  'mcc': 0.5686491357658421},\n",
       " {'val_loss': 1.4377700758149041,\n",
       "  'val_accuracy': 0.6627218934911242,\n",
       "  'precision': 0.6417070729359248,\n",
       "  'recall': 0.6627218934911242,\n",
       "  'f1-score': 0.6367958343277353,\n",
       "  'macro_f1-score': 0.29231730720960547,\n",
       "  'balanced_accuracy': 0.2997767490320053,\n",
       "  'mcc': 0.5518399185581282},\n",
       " {'val_loss': 1.4270430576842195,\n",
       "  'val_accuracy': 0.6554061323292092,\n",
       "  'precision': 0.6303162160360251,\n",
       "  'recall': 0.6554061323292092,\n",
       "  'f1-score': 0.6256879395335827,\n",
       "  'macro_f1-score': 0.28581068835803364,\n",
       "  'balanced_accuracy': 0.29267401791958036,\n",
       "  'mcc': 0.540246763250723}]"
      ]
     },
     "execution_count": 8,
     "metadata": {},
     "output_type": "execute_result"
    }
   ],
   "source": [
    "all_fold_results"
   ]
  }
 ],
 "metadata": {
  "kernelspec": {
   "display_name": "Python 3 (ipykernel)",
   "language": "python",
   "name": "python3"
  },
  "language_info": {
   "codemirror_mode": {
    "name": "ipython",
    "version": 3
   },
   "file_extension": ".py",
   "mimetype": "text/x-python",
   "name": "python",
   "nbconvert_exporter": "python",
   "pygments_lexer": "ipython3",
   "version": "3.11.9"
  }
 },
 "nbformat": 4,
 "nbformat_minor": 5
}
