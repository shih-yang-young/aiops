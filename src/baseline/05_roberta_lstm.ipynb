{
 "cells": [
  {
   "cell_type": "code",
   "execution_count": 1,
   "id": "f22f4841-9a9d-4a63-b896-560594d666d8",
   "metadata": {},
   "outputs": [
    {
     "data": {
      "text/html": [
       "<div>\n",
       "<style scoped>\n",
       "    .dataframe tbody tr th:only-of-type {\n",
       "        vertical-align: middle;\n",
       "    }\n",
       "\n",
       "    .dataframe tbody tr th {\n",
       "        vertical-align: top;\n",
       "    }\n",
       "\n",
       "    .dataframe thead th {\n",
       "        text-align: right;\n",
       "    }\n",
       "</style>\n",
       "<table border=\"1\" class=\"dataframe\">\n",
       "  <thead>\n",
       "    <tr style=\"text-align: right;\">\n",
       "      <th></th>\n",
       "      <th>Inbound Message</th>\n",
       "      <th>Label</th>\n",
       "    </tr>\n",
       "  </thead>\n",
       "  <tbody>\n",
       "    <tr>\n",
       "      <th>0</th>\n",
       "      <td>login issue verified user details employee man...</td>\n",
       "      <td>0</td>\n",
       "    </tr>\n",
       "    <tr>\n",
       "      <th>1</th>\n",
       "      <td>outlook hello team meetings skype meetings etc...</td>\n",
       "      <td>0</td>\n",
       "    </tr>\n",
       "    <tr>\n",
       "      <th>2</th>\n",
       "      <td>cant log vpn cannot log vpn best</td>\n",
       "      <td>0</td>\n",
       "    </tr>\n",
       "    <tr>\n",
       "      <th>3</th>\n",
       "      <td>unable access tool page unable access tool page</td>\n",
       "      <td>0</td>\n",
       "    </tr>\n",
       "    <tr>\n",
       "      <th>4</th>\n",
       "      <td>skype error skype error</td>\n",
       "      <td>0</td>\n",
       "    </tr>\n",
       "    <tr>\n",
       "      <th>...</th>\n",
       "      <td>...</td>\n",
       "      <td>...</td>\n",
       "    </tr>\n",
       "    <tr>\n",
       "      <th>8449</th>\n",
       "      <td>emails coming mail good afternoon receiving em...</td>\n",
       "      <td>22</td>\n",
       "    </tr>\n",
       "    <tr>\n",
       "      <th>8450</th>\n",
       "      <td>telephony software issue telephony software issue</td>\n",
       "      <td>0</td>\n",
       "    </tr>\n",
       "    <tr>\n",
       "      <th>8451</th>\n",
       "      <td>vip windows password reset tifpdchb pedxruyf v...</td>\n",
       "      <td>0</td>\n",
       "    </tr>\n",
       "    <tr>\n",
       "      <th>8452</th>\n",
       "      <td>machine est funcionando unable access machine ...</td>\n",
       "      <td>44</td>\n",
       "    </tr>\n",
       "    <tr>\n",
       "      <th>8453</th>\n",
       "      <td>mehreren lassen sich verschiedene prgramdntyme...</td>\n",
       "      <td>49</td>\n",
       "    </tr>\n",
       "  </tbody>\n",
       "</table>\n",
       "<p>8454 rows × 2 columns</p>\n",
       "</div>"
      ],
      "text/plain": [
       "                                        Inbound Message  Label\n",
       "0     login issue verified user details employee man...      0\n",
       "1     outlook hello team meetings skype meetings etc...      0\n",
       "2                      cant log vpn cannot log vpn best      0\n",
       "3       unable access tool page unable access tool page      0\n",
       "4                               skype error skype error      0\n",
       "...                                                 ...    ...\n",
       "8449  emails coming mail good afternoon receiving em...     22\n",
       "8450  telephony software issue telephony software issue      0\n",
       "8451  vip windows password reset tifpdchb pedxruyf v...      0\n",
       "8452  machine est funcionando unable access machine ...     44\n",
       "8453  mehreren lassen sich verschiedene prgramdntyme...     49\n",
       "\n",
       "[8454 rows x 2 columns]"
      ]
     },
     "execution_count": 1,
     "metadata": {},
     "output_type": "execute_result"
    }
   ],
   "source": [
    "import pandas as pd\n",
    "data_path = \"../../data/open_source_8454_combine_short_description.csv\"\n",
    "df = pd.read_csv(data_path)\n",
    "# df_label_0 = df[df[\"Label\"] == 0]\n",
    "# df_label_0_to_drop = df_label_0.sample(n=3000, random_state=42)\n",
    "# df = df.drop(df_label_0_to_drop.index)\n",
    "df"
   ]
  },
  {
   "cell_type": "code",
   "execution_count": 2,
   "id": "bf737873-4f1c-4588-913d-8f06b2777b20",
   "metadata": {},
   "outputs": [],
   "source": [
    "import sys\n",
    "import os\n",
    "sys.path.append(os.path.abspath('../ml_lib'))\n",
    "\n",
    "from config import *\n",
    "from experiment import run_kfold_experiment"
   ]
  },
  {
   "cell_type": "code",
   "execution_count": 3,
   "id": "a12b2613-aa9d-41c0-8f62-72210eaf8d7f",
   "metadata": {},
   "outputs": [],
   "source": [
    "messages, labels = df['Inbound Message'].tolist(), df['Label'].tolist()"
   ]
  },
  {
   "cell_type": "code",
   "execution_count": 4,
   "id": "38d4729f-f867-4cea-89f9-31f67e5ecced",
   "metadata": {},
   "outputs": [
    {
     "name": "stdout",
     "output_type": "stream",
     "text": [
      "▶ Running: roberta-base + lstm + none\n",
      "tokenizer is roberta-base\n",
      "Using device: cuda\n",
      "CUDA Available: True\n",
      "CUDA Device: NVIDIA GeForce RTX 3050 6GB Laptop GPU\n",
      "Current GPU Memory Allocated: 0.00 GB\n",
      "Current GPU Memory Cached: 0.00 GB\n",
      "\n",
      "[Fold 1]\n",
      "model is roberta-base lstm\n"
     ]
    },
    {
     "name": "stderr",
     "output_type": "stream",
     "text": [
      "D:\\Anaconda3\\envs\\cuda\\Lib\\site-packages\\sklearn\\model_selection\\_split.py:737: UserWarning: The least populated class in y has only 7 members, which is less than n_splits=10.\n",
      "  warnings.warn(\n",
      "Some weights of RobertaModel were not initialized from the model checkpoint at roberta-base and are newly initialized: ['roberta.pooler.dense.bias', 'roberta.pooler.dense.weight']\n",
      "You should probably TRAIN this model on a down-stream task to be able to use it for predictions and inference.\n"
     ]
    },
    {
     "name": "stdout",
     "output_type": "stream",
     "text": [
      "Epoch 1/20\n"
     ]
    },
    {
     "name": "stderr",
     "output_type": "stream",
     "text": [
      "100%|██████████| 476/476 [03:34<00:00,  2.22it/s]\n"
     ]
    },
    {
     "name": "stdout",
     "output_type": "stream",
     "text": [
      "{'val_loss': 1.882354938758994, 'val_accuracy': 0.5673758865248227, 'precision': 0.3494263297059055, 'recall': 0.5673758865248227, 'f1-score': 0.4302622607822139, 'macro_f1-score': 0.0476022631542926, 'balanced_accuracy': 0.06456616961109869, 'mcc': 0.35681502937168835, 'train_loss': 2.1149481623863973}\n",
      "Epoch 2/20\n"
     ]
    },
    {
     "name": "stderr",
     "output_type": "stream",
     "text": [
      "100%|██████████| 476/476 [03:35<00:00,  2.21it/s]\n"
     ]
    },
    {
     "name": "stdout",
     "output_type": "stream",
     "text": [
      "{'val_loss': 1.7068608020836453, 'val_accuracy': 0.5921985815602837, 'precision': 0.3930958284913233, 'recall': 0.5921985815602837, 'f1-score': 0.46910013583232113, 'macro_f1-score': 0.0835715838984433, 'balanced_accuracy': 0.1002743903949439, 'mcc': 0.4040904555838246, 'train_loss': 1.7697742239517325}\n",
      "Epoch 3/20\n"
     ]
    },
    {
     "name": "stderr",
     "output_type": "stream",
     "text": [
      "100%|██████████| 476/476 [03:36<00:00,  2.19it/s]\n"
     ]
    },
    {
     "name": "stdout",
     "output_type": "stream",
     "text": [
      "{'val_loss': 1.6271179543351226, 'val_accuracy': 0.599290780141844, 'precision': 0.4268363493430393, 'recall': 0.599290780141844, 'f1-score': 0.4908937816416855, 'macro_f1-score': 0.09001520546630631, 'balanced_accuracy': 0.1124556364660828, 'mcc': 0.4290982372829326, 'train_loss': 1.6010187653934254}\n",
      "Epoch 4/20\n"
     ]
    },
    {
     "name": "stderr",
     "output_type": "stream",
     "text": [
      "100%|██████████| 476/476 [03:37<00:00,  2.19it/s]\n"
     ]
    },
    {
     "name": "stdout",
     "output_type": "stream",
     "text": [
      "{'val_loss': 1.5443727509030756, 'val_accuracy': 0.6040189125295509, 'precision': 0.4666871209933595, 'recall': 0.6040189125295509, 'f1-score': 0.5210898222293417, 'macro_f1-score': 0.11508747591052979, 'balanced_accuracy': 0.14193246155874215, 'mcc': 0.4533399248255417, 'train_loss': 1.489527476497558}\n",
      "Epoch 5/20\n"
     ]
    },
    {
     "name": "stderr",
     "output_type": "stream",
     "text": [
      "100%|██████████| 476/476 [03:38<00:00,  2.18it/s]\n"
     ]
    },
    {
     "name": "stdout",
     "output_type": "stream",
     "text": [
      "{'val_loss': 1.6614659147442512, 'val_accuracy': 0.5756501182033097, 'precision': 0.5058921653693663, 'recall': 0.5756501182033097, 'f1-score': 0.5249284915785515, 'macro_f1-score': 0.11556616486207881, 'balanced_accuracy': 0.13482212369108143, 'mcc': 0.4339082740896477, 'train_loss': 1.4015221630825716}\n",
      "Epoch 6/20\n"
     ]
    },
    {
     "name": "stderr",
     "output_type": "stream",
     "text": [
      "100%|██████████| 476/476 [03:38<00:00,  2.18it/s]\n"
     ]
    },
    {
     "name": "stdout",
     "output_type": "stream",
     "text": [
      "{'val_loss': 1.6255033825928311, 'val_accuracy': 0.5874704491725768, 'precision': 0.5261950483944738, 'recall': 0.5874704491725768, 'f1-score': 0.5278132466869152, 'macro_f1-score': 0.12967871458646524, 'balanced_accuracy': 0.14774116152298408, 'mcc': 0.4338192670432578, 'train_loss': 1.310584482588187}\n",
      "Epoch 7/20\n"
     ]
    },
    {
     "name": "stderr",
     "output_type": "stream",
     "text": [
      "100%|██████████| 476/476 [03:38<00:00,  2.18it/s]\n"
     ]
    },
    {
     "name": "stdout",
     "output_type": "stream",
     "text": [
      "{'val_loss': 1.4813658583838984, 'val_accuracy': 0.6347517730496454, 'precision': 0.5520498773906974, 'recall': 0.6347517730496454, 'f1-score': 0.5658708037096826, 'macro_f1-score': 0.1690363337416709, 'balanced_accuracy': 0.17913330333642663, 'mcc': 0.49637414154469295, 'train_loss': 1.2414759781305529}\n",
      "Epoch 8/20\n"
     ]
    },
    {
     "name": "stderr",
     "output_type": "stream",
     "text": [
      "100%|██████████| 476/476 [03:38<00:00,  2.18it/s]\n"
     ]
    },
    {
     "name": "stdout",
     "output_type": "stream",
     "text": [
      "{'val_loss': 1.4708080730348263, 'val_accuracy': 0.6264775413711584, 'precision': 0.5293632413704066, 'recall': 0.6264775413711584, 'f1-score': 0.5652462702375215, 'macro_f1-score': 0.15852026438537647, 'balanced_accuracy': 0.17262965322884904, 'mcc': 0.4888143903052705, 'train_loss': 1.1845509490045179}\n",
      "Epoch 9/20\n"
     ]
    },
    {
     "name": "stderr",
     "output_type": "stream",
     "text": [
      "100%|██████████| 476/476 [03:38<00:00,  2.18it/s]\n"
     ]
    },
    {
     "name": "stdout",
     "output_type": "stream",
     "text": [
      "{'val_loss': 1.564436839436585, 'val_accuracy': 0.6099290780141844, 'precision': 0.535465956188421, 'recall': 0.6099290780141844, 'f1-score': 0.552311496709067, 'macro_f1-score': 0.13906524946242066, 'balanced_accuracy': 0.1559274916762566, 'mcc': 0.46959906572795534, 'train_loss': 1.1428783828658717}\n",
      "Epoch 10/20\n"
     ]
    },
    {
     "name": "stderr",
     "output_type": "stream",
     "text": [
      "100%|██████████| 476/476 [03:38<00:00,  2.18it/s]\n"
     ]
    },
    {
     "name": "stdout",
     "output_type": "stream",
     "text": [
      "{'val_loss': 1.5556167679012947, 'val_accuracy': 0.6418439716312057, 'precision': 0.5446206944289897, 'recall': 0.6418439716312057, 'f1-score': 0.5724435980137119, 'macro_f1-score': 0.17928927955331095, 'balanced_accuracy': 0.18329311196840256, 'mcc': 0.4985894635810248, 'train_loss': 1.0894975352625387}\n",
      "Epoch 11/20\n"
     ]
    },
    {
     "name": "stderr",
     "output_type": "stream",
     "text": [
      "100%|██████████| 476/476 [03:38<00:00,  2.18it/s]\n"
     ]
    },
    {
     "name": "stdout",
     "output_type": "stream",
     "text": [
      "{'val_loss': 1.781070739593146, 'val_accuracy': 0.6122931442080378, 'precision': 0.4669005570410917, 'recall': 0.6122931442080378, 'f1-score': 0.5208460084893434, 'macro_f1-score': 0.12431719801214318, 'balanced_accuracy': 0.1413130103305116, 'mcc': 0.4510627326509921, 'train_loss': 1.0676116221153937}\n",
      "Epoch 12/20\n"
     ]
    },
    {
     "name": "stderr",
     "output_type": "stream",
     "text": [
      "100%|██████████| 476/476 [03:38<00:00,  2.18it/s]\n"
     ]
    },
    {
     "name": "stdout",
     "output_type": "stream",
     "text": [
      "{'val_loss': 1.5245260877429314, 'val_accuracy': 0.607565011820331, 'precision': 0.5340932173184748, 'recall': 0.607565011820331, 'f1-score': 0.5621907815742752, 'macro_f1-score': 0.1789125317338346, 'balanced_accuracy': 0.19224348974284433, 'mcc': 0.473448691973735, 'train_loss': 1.7009666723613979}\n",
      "Epoch 13/20\n"
     ]
    },
    {
     "name": "stderr",
     "output_type": "stream",
     "text": [
      "100%|██████████| 476/476 [03:38<00:00,  2.18it/s]\n"
     ]
    },
    {
     "name": "stdout",
     "output_type": "stream",
     "text": [
      "{'val_loss': 1.4269878639365143, 'val_accuracy': 0.624113475177305, 'precision': 0.5756380729550625, 'recall': 0.624113475177305, 'f1-score': 0.5818519238859075, 'macro_f1-score': 0.21385994486310944, 'balanced_accuracy': 0.22665686491357775, 'mcc': 0.49320839659128884, 'train_loss': 0.9969876978640296}\n",
      "Epoch 14/20\n"
     ]
    },
    {
     "name": "stderr",
     "output_type": "stream",
     "text": [
      "100%|██████████| 476/476 [03:37<00:00,  2.18it/s]\n"
     ]
    },
    {
     "name": "stdout",
     "output_type": "stream",
     "text": [
      "{'val_loss': 1.502297798417649, 'val_accuracy': 0.6087470449172577, 'precision': 0.5791392630462682, 'recall': 0.6087470449172577, 'f1-score': 0.5823329202232181, 'macro_f1-score': 0.19864509357091295, 'balanced_accuracy': 0.222371768578948, 'mcc': 0.48302225345799754, 'train_loss': 0.9182881814654634}\n",
      "Epoch 15/20\n"
     ]
    },
    {
     "name": "stderr",
     "output_type": "stream",
     "text": [
      "100%|██████████| 476/476 [03:38<00:00,  2.18it/s]\n"
     ]
    },
    {
     "name": "stdout",
     "output_type": "stream",
     "text": [
      "{'val_loss': 1.5340448668542899, 'val_accuracy': 0.6300236406619385, 'precision': 0.6124681645219413, 'recall': 0.6300236406619385, 'f1-score': 0.6072999941118197, 'macro_f1-score': 0.2640728164652372, 'balanced_accuracy': 0.2838318621721562, 'mcc': 0.5071264537098431, 'train_loss': 0.8770785975982162}\n",
      "Epoch 16/20\n"
     ]
    },
    {
     "name": "stderr",
     "output_type": "stream",
     "text": [
      "100%|██████████| 476/476 [03:38<00:00,  2.18it/s]\n"
     ]
    },
    {
     "name": "stdout",
     "output_type": "stream",
     "text": [
      "{'val_loss': 1.5198246915385407, 'val_accuracy': 0.6264775413711584, 'precision': 0.5785787221658032, 'recall': 0.6264775413711584, 'f1-score': 0.5908892188292215, 'macro_f1-score': 0.24781877805673938, 'balanced_accuracy': 0.2547014574295065, 'mcc': 0.4934187899292572, 'train_loss': 0.8828678139555854}\n",
      "Epoch 17/20\n"
     ]
    },
    {
     "name": "stderr",
     "output_type": "stream",
     "text": [
      "100%|██████████| 476/476 [03:38<00:00,  2.18it/s]\n"
     ]
    },
    {
     "name": "stdout",
     "output_type": "stream",
     "text": [
      "{'val_loss': 1.4654012131241132, 'val_accuracy': 0.6122931442080378, 'precision': 0.6039212274060609, 'recall': 0.6122931442080378, 'f1-score': 0.5929485683874878, 'macro_f1-score': 0.23937861918878953, 'balanced_accuracy': 0.2566551165516258, 'mcc': 0.4944945973445819, 'train_loss': 0.8706330911436376}\n",
      "Epoch 18/20\n"
     ]
    },
    {
     "name": "stderr",
     "output_type": "stream",
     "text": [
      "100%|██████████| 476/476 [03:38<00:00,  2.18it/s]\n"
     ]
    },
    {
     "name": "stdout",
     "output_type": "stream",
     "text": [
      "{'val_loss': 1.5289467561919734, 'val_accuracy': 0.6418439716312057, 'precision': 0.6328869153397733, 'recall': 0.6418439716312057, 'f1-score': 0.6232844252413913, 'macro_f1-score': 0.2837557866481096, 'balanced_accuracy': 0.2947779972245721, 'mcc': 0.5254943688094057, 'train_loss': 0.7825136804061026}\n",
      "Epoch 19/20\n"
     ]
    },
    {
     "name": "stderr",
     "output_type": "stream",
     "text": [
      "100%|██████████| 476/476 [03:38<00:00,  2.18it/s]\n"
     ]
    },
    {
     "name": "stdout",
     "output_type": "stream",
     "text": [
      "{'val_loss': 1.5260589561372433, 'val_accuracy': 0.6418439716312057, 'precision': 0.6408020261228208, 'recall': 0.6418439716312057, 'f1-score': 0.631877575617118, 'macro_f1-score': 0.29074613775433417, 'balanced_accuracy': 0.3204790623266889, 'mcc': 0.5405407395110426, 'train_loss': 0.7320227756031922}\n",
      "Epoch 20/20\n"
     ]
    },
    {
     "name": "stderr",
     "output_type": "stream",
     "text": [
      "100%|██████████| 476/476 [03:38<00:00,  2.18it/s]\n"
     ]
    },
    {
     "name": "stdout",
     "output_type": "stream",
     "text": [
      "{'val_loss': 1.5633996230251384, 'val_accuracy': 0.6158392434988179, 'precision': 0.5910638325630359, 'recall': 0.6158392434988179, 'f1-score': 0.5918353249673828, 'macro_f1-score': 0.2515702967937349, 'balanced_accuracy': 0.2790258450984848, 'mcc': 0.4999909248930224, 'train_loss': 0.7505160454785874}\n",
      "\n",
      "[Fold 2]\n",
      "model is roberta-base lstm\n"
     ]
    },
    {
     "name": "stderr",
     "output_type": "stream",
     "text": [
      "Some weights of RobertaModel were not initialized from the model checkpoint at roberta-base and are newly initialized: ['roberta.pooler.dense.bias', 'roberta.pooler.dense.weight']\n",
      "You should probably TRAIN this model on a down-stream task to be able to use it for predictions and inference.\n"
     ]
    },
    {
     "name": "stdout",
     "output_type": "stream",
     "text": [
      "Epoch 1/20\n"
     ]
    },
    {
     "name": "stderr",
     "output_type": "stream",
     "text": [
      "100%|██████████| 476/476 [03:37<00:00,  2.18it/s]\n"
     ]
    },
    {
     "name": "stdout",
     "output_type": "stream",
     "text": [
      "{'val_loss': 1.8970576221088193, 'val_accuracy': 0.5697399527186762, 'precision': 0.3522129351527237, 'recall': 0.5697399527186762, 'f1-score': 0.4305997662817288, 'macro_f1-score': 0.04962449656479507, 'balanced_accuracy': 0.059203771449482766, 'mcc': 0.3551818113339377, 'train_loss': 2.1449793607246974}\n",
      "Epoch 2/20\n"
     ]
    },
    {
     "name": "stderr",
     "output_type": "stream",
     "text": [
      "100%|██████████| 476/476 [03:38<00:00,  2.18it/s]\n"
     ]
    },
    {
     "name": "stdout",
     "output_type": "stream",
     "text": [
      "{'val_loss': 1.860902338095431, 'val_accuracy': 0.541371158392435, 'precision': 0.4341667466829127, 'recall': 0.541371158392435, 'f1-score': 0.46974975024727467, 'macro_f1-score': 0.06046251517874159, 'balanced_accuracy': 0.07972919011907056, 'mcc': 0.3908845390636914, 'train_loss': 1.8145180925601672}\n",
      "Epoch 3/20\n"
     ]
    },
    {
     "name": "stderr",
     "output_type": "stream",
     "text": [
      "100%|██████████| 476/476 [03:38<00:00,  2.18it/s]\n"
     ]
    },
    {
     "name": "stdout",
     "output_type": "stream",
     "text": [
      "{'val_loss': 1.6440679745854072, 'val_accuracy': 0.5768321513002365, 'precision': 0.4323408653237719, 'recall': 0.5768321513002365, 'f1-score': 0.4810154942541806, 'macro_f1-score': 0.07666324519391166, 'balanced_accuracy': 0.10382508328037698, 'mcc': 0.40202012369818446, 'train_loss': 1.6785312103373664}\n",
      "Epoch 4/20\n"
     ]
    },
    {
     "name": "stderr",
     "output_type": "stream",
     "text": [
      "100%|██████████| 476/476 [03:38<00:00,  2.18it/s]\n"
     ]
    },
    {
     "name": "stdout",
     "output_type": "stream",
     "text": [
      "{'val_loss': 1.6586252827689332, 'val_accuracy': 0.5933806146572104, 'precision': 0.4048922422410995, 'recall': 0.5933806146572104, 'f1-score': 0.4734479375146619, 'macro_f1-score': 0.08843900297371544, 'balanced_accuracy': 0.1047025988509267, 'mcc': 0.4095242750781218, 'train_loss': 1.5673972471546727}\n",
      "Epoch 5/20\n"
     ]
    },
    {
     "name": "stderr",
     "output_type": "stream",
     "text": [
      "100%|██████████| 476/476 [03:38<00:00,  2.18it/s]\n"
     ]
    },
    {
     "name": "stdout",
     "output_type": "stream",
     "text": [
      "{'val_loss': 1.5821093388323515, 'val_accuracy': 0.6170212765957447, 'precision': 0.456902621006945, 'recall': 0.6170212765957447, 'f1-score': 0.516388871279986, 'macro_f1-score': 0.11416400996002796, 'balanced_accuracy': 0.13764619721524937, 'mcc': 0.4578239754703644, 'train_loss': 1.4974115641177201}\n",
      "Epoch 6/20\n"
     ]
    },
    {
     "name": "stderr",
     "output_type": "stream",
     "text": [
      "100%|██████████| 476/476 [03:38<00:00,  2.18it/s]\n"
     ]
    },
    {
     "name": "stdout",
     "output_type": "stream",
     "text": [
      "{'val_loss': 1.5772619191205726, 'val_accuracy': 0.6063829787234043, 'precision': 0.49101113337132135, 'recall': 0.6063829787234043, 'f1-score': 0.5301007262332165, 'macro_f1-score': 0.11458415326425463, 'balanced_accuracy': 0.135285311200092, 'mcc': 0.45764401305931973, 'train_loss': 1.4131583605243379}\n",
      "Epoch 7/20\n"
     ]
    },
    {
     "name": "stderr",
     "output_type": "stream",
     "text": [
      "100%|██████████| 476/476 [03:38<00:00,  2.18it/s]\n"
     ]
    },
    {
     "name": "stdout",
     "output_type": "stream",
     "text": [
      "{'val_loss': 1.579407221866104, 'val_accuracy': 0.6122931442080378, 'precision': 0.5048270105505621, 'recall': 0.6122931442080378, 'f1-score': 0.5247292999811677, 'macro_f1-score': 0.1159357359137569, 'balanced_accuracy': 0.12350865113630666, 'mcc': 0.45255860848663165, 'train_loss': 1.338300383015841}\n",
      "Epoch 8/20\n"
     ]
    },
    {
     "name": "stderr",
     "output_type": "stream",
     "text": [
      "100%|██████████| 476/476 [03:38<00:00,  2.18it/s]\n"
     ]
    },
    {
     "name": "stdout",
     "output_type": "stream",
     "text": [
      "{'val_loss': 1.5484082890006732, 'val_accuracy': 0.607565011820331, 'precision': 0.5014221711936526, 'recall': 0.607565011820331, 'f1-score': 0.5397070252447506, 'macro_f1-score': 0.13781876970654722, 'balanced_accuracy': 0.15234921005369803, 'mcc': 0.46300916326497, 'train_loss': 1.2676914789471305}\n",
      "Epoch 9/20\n"
     ]
    },
    {
     "name": "stderr",
     "output_type": "stream",
     "text": [
      "100%|██████████| 476/476 [03:38<00:00,  2.18it/s]\n"
     ]
    },
    {
     "name": "stdout",
     "output_type": "stream",
     "text": [
      "{'val_loss': 1.6339004759518605, 'val_accuracy': 0.624113475177305, 'precision': 0.5636528200813139, 'recall': 0.624113475177305, 'f1-score': 0.5455421688118195, 'macro_f1-score': 0.15834216438544074, 'balanced_accuracy': 0.1679808661447719, 'mcc': 0.4744450468019127, 'train_loss': 1.197676390941654}\n",
      "Epoch 10/20\n"
     ]
    },
    {
     "name": "stderr",
     "output_type": "stream",
     "text": [
      "100%|██████████| 476/476 [03:38<00:00,  2.18it/s]\n"
     ]
    },
    {
     "name": "stdout",
     "output_type": "stream",
     "text": [
      "{'val_loss': 1.5851353637452394, 'val_accuracy': 0.5933806146572104, 'precision': 0.5552464483528433, 'recall': 0.5933806146572104, 'f1-score': 0.5469276714388847, 'macro_f1-score': 0.14708962957246538, 'balanced_accuracy': 0.17100295964456422, 'mcc': 0.4570137140120398, 'train_loss': 1.2083819875446689}\n",
      "Epoch 11/20\n"
     ]
    },
    {
     "name": "stderr",
     "output_type": "stream",
     "text": [
      "100%|██████████| 476/476 [03:38<00:00,  2.18it/s]\n"
     ]
    },
    {
     "name": "stdout",
     "output_type": "stream",
     "text": [
      "{'val_loss': 1.4740831958797742, 'val_accuracy': 0.6217494089834515, 'precision': 0.5505706228780198, 'recall': 0.6217494089834515, 'f1-score': 0.559193444348371, 'macro_f1-score': 0.20386857923133575, 'balanced_accuracy': 0.22367824745769638, 'mcc': 0.48140240815200014, 'train_loss': 1.1373098218390922}\n",
      "Epoch 12/20\n"
     ]
    },
    {
     "name": "stderr",
     "output_type": "stream",
     "text": [
      "100%|██████████| 476/476 [03:38<00:00,  2.18it/s]\n"
     ]
    },
    {
     "name": "stdout",
     "output_type": "stream",
     "text": [
      "{'val_loss': 1.5454545026680209, 'val_accuracy': 0.6276595744680851, 'precision': 0.5469390264289428, 'recall': 0.6276595744680851, 'f1-score': 0.5684500056947297, 'macro_f1-score': 0.20922969519726972, 'balanced_accuracy': 0.21300482392133752, 'mcc': 0.4867563739868926, 'train_loss': 1.0967667548909408}\n",
      "Epoch 13/20\n"
     ]
    },
    {
     "name": "stderr",
     "output_type": "stream",
     "text": [
      "100%|██████████| 476/476 [03:38<00:00,  2.18it/s]\n"
     ]
    },
    {
     "name": "stdout",
     "output_type": "stream",
     "text": [
      "{'val_loss': 1.5927563855108224, 'val_accuracy': 0.624113475177305, 'precision': 0.5660582217894599, 'recall': 0.624113475177305, 'f1-score': 0.5793799581411452, 'macro_f1-score': 0.2188681404256733, 'balanced_accuracy': 0.2195460679600343, 'mcc': 0.48941038173694795, 'train_loss': 1.0555908577594937}\n",
      "Epoch 14/20\n"
     ]
    },
    {
     "name": "stderr",
     "output_type": "stream",
     "text": [
      "100%|██████████| 476/476 [03:38<00:00,  2.18it/s]\n"
     ]
    },
    {
     "name": "stdout",
     "output_type": "stream",
     "text": [
      "{'val_loss': 1.5810128512247554, 'val_accuracy': 0.6016548463356974, 'precision': 0.5476409981772288, 'recall': 0.6016548463356974, 'f1-score': 0.5583485724481535, 'macro_f1-score': 0.19282088483338078, 'balanced_accuracy': 0.21058030564518174, 'mcc': 0.46281283145707997, 'train_loss': 1.0026258071180152}\n",
      "Epoch 15/20\n"
     ]
    },
    {
     "name": "stderr",
     "output_type": "stream",
     "text": [
      "100%|██████████| 476/476 [03:38<00:00,  2.18it/s]\n"
     ]
    },
    {
     "name": "stdout",
     "output_type": "stream",
     "text": [
      "{'val_loss': 1.536980484454137, 'val_accuracy': 0.6182033096926713, 'precision': 0.5935834064542879, 'recall': 0.6182033096926713, 'f1-score': 0.578679013833588, 'macro_f1-score': 0.2254854091741934, 'balanced_accuracy': 0.25176713766219916, 'mcc': 0.4908902711337594, 'train_loss': 0.981534144269819}\n",
      "Epoch 16/20\n"
     ]
    },
    {
     "name": "stderr",
     "output_type": "stream",
     "text": [
      "100%|██████████| 476/476 [03:38<00:00,  2.18it/s]\n"
     ]
    },
    {
     "name": "stdout",
     "output_type": "stream",
     "text": [
      "{'val_loss': 1.692000463323773, 'val_accuracy': 0.5815602836879432, 'precision': 0.5548114898351653, 'recall': 0.5815602836879432, 'f1-score': 0.5417326543303106, 'macro_f1-score': 0.16094594064233353, 'balanced_accuracy': 0.18033804333482034, 'mcc': 0.4428052971582591, 'train_loss': 1.0680214549500902}\n",
      "Epoch 17/20\n"
     ]
    },
    {
     "name": "stderr",
     "output_type": "stream",
     "text": [
      "100%|██████████| 476/476 [03:38<00:00,  2.18it/s]\n"
     ]
    },
    {
     "name": "stdout",
     "output_type": "stream",
     "text": [
      "{'val_loss': 1.4775422446007997, 'val_accuracy': 0.6371158392434988, 'precision': 0.6122808442180027, 'recall': 0.6371158392434988, 'f1-score': 0.6138126522707276, 'macro_f1-score': 0.2533784160595256, 'balanced_accuracy': 0.28463362672868825, 'mcc': 0.5214312713707157, 'train_loss': 0.9645042611646051}\n",
      "Epoch 18/20\n"
     ]
    },
    {
     "name": "stderr",
     "output_type": "stream",
     "text": [
      "100%|██████████| 476/476 [03:38<00:00,  2.18it/s]\n"
     ]
    },
    {
     "name": "stdout",
     "output_type": "stream",
     "text": [
      "{'val_loss': 1.5432984772718177, 'val_accuracy': 0.6193853427895981, 'precision': 0.5963989453782027, 'recall': 0.6193853427895981, 'f1-score': 0.5976465773731293, 'macro_f1-score': 0.2403019159520145, 'balanced_accuracy': 0.2599400658583989, 'mcc': 0.4943039493737356, 'train_loss': 0.8751514307340654}\n",
      "Epoch 19/20\n"
     ]
    },
    {
     "name": "stderr",
     "output_type": "stream",
     "text": [
      "100%|██████████| 476/476 [03:38<00:00,  2.18it/s]\n"
     ]
    },
    {
     "name": "stdout",
     "output_type": "stream",
     "text": [
      "{'val_loss': 1.4890167072134197, 'val_accuracy': 0.6394799054373522, 'precision': 0.6168897570991153, 'recall': 0.6394799054373522, 'f1-score': 0.612854049200571, 'macro_f1-score': 0.25306300613058025, 'balanced_accuracy': 0.27412151546830116, 'mcc': 0.5243628376905312, 'train_loss': 0.8342183420137197}\n",
      "Epoch 20/20\n"
     ]
    },
    {
     "name": "stderr",
     "output_type": "stream",
     "text": [
      "100%|██████████| 476/476 [03:38<00:00,  2.18it/s]\n"
     ]
    },
    {
     "name": "stdout",
     "output_type": "stream",
     "text": [
      "{'val_loss': 1.5622202000528012, 'val_accuracy': 0.624113475177305, 'precision': 0.5921260710441609, 'recall': 0.624113475177305, 'f1-score': 0.5945266156690338, 'macro_f1-score': 0.2319790116362344, 'balanced_accuracy': 0.2408761988488032, 'mcc': 0.4939432581200827, 'train_loss': 0.7993348918448225}\n",
      "Early stopping.\n",
      "\n",
      "[Fold 3]\n",
      "model is roberta-base lstm\n"
     ]
    },
    {
     "name": "stderr",
     "output_type": "stream",
     "text": [
      "Some weights of RobertaModel were not initialized from the model checkpoint at roberta-base and are newly initialized: ['roberta.pooler.dense.bias', 'roberta.pooler.dense.weight']\n",
      "You should probably TRAIN this model on a down-stream task to be able to use it for predictions and inference.\n"
     ]
    },
    {
     "name": "stdout",
     "output_type": "stream",
     "text": [
      "Epoch 1/20\n"
     ]
    },
    {
     "name": "stderr",
     "output_type": "stream",
     "text": [
      "100%|██████████| 476/476 [03:38<00:00,  2.18it/s]\n"
     ]
    },
    {
     "name": "stdout",
     "output_type": "stream",
     "text": [
      "{'val_loss': 1.8088187181724693, 'val_accuracy': 0.5768321513002365, 'precision': 0.35325192833869457, 'recall': 0.5768321513002365, 'f1-score': 0.4378891106390906, 'macro_f1-score': 0.05007061988051083, 'balanced_accuracy': 0.06359814101453332, 'mcc': 0.3699029561456902, 'train_loss': 2.0912071387557423}\n",
      "Epoch 2/20\n"
     ]
    },
    {
     "name": "stderr",
     "output_type": "stream",
     "text": [
      "100%|██████████| 476/476 [03:38<00:00,  2.18it/s]\n"
     ]
    },
    {
     "name": "stdout",
     "output_type": "stream",
     "text": [
      "{'val_loss': 1.6312781898480542, 'val_accuracy': 0.6063829787234043, 'precision': 0.4381167247027727, 'recall': 0.6063829787234043, 'f1-score': 0.49849135663491245, 'macro_f1-score': 0.08650014635657449, 'balanced_accuracy': 0.10690571534974586, 'mcc': 0.4402859300296625, 'train_loss': 1.7047799841946913}\n",
      "Epoch 3/20\n"
     ]
    },
    {
     "name": "stderr",
     "output_type": "stream",
     "text": [
      "100%|██████████| 476/476 [03:38<00:00,  2.18it/s]\n"
     ]
    },
    {
     "name": "stdout",
     "output_type": "stream",
     "text": [
      "{'val_loss': 1.5268168157001711, 'val_accuracy': 0.6170212765957447, 'precision': 0.4738040809621514, 'recall': 0.6170212765957447, 'f1-score': 0.5171194828868962, 'macro_f1-score': 0.1174932491811899, 'balanced_accuracy': 0.13286576753306956, 'mcc': 0.45632705731833817, 'train_loss': 1.5541033890693128}\n",
      "Epoch 4/20\n"
     ]
    },
    {
     "name": "stderr",
     "output_type": "stream",
     "text": [
      "100%|██████████| 476/476 [03:38<00:00,  2.18it/s]\n"
     ]
    },
    {
     "name": "stdout",
     "output_type": "stream",
     "text": [
      "{'val_loss': 1.5256824797054507, 'val_accuracy': 0.6229314420803782, 'precision': 0.4622161546164934, 'recall': 0.6229314420803782, 'f1-score': 0.5256906493675036, 'macro_f1-score': 0.12647575494551078, 'balanced_accuracy': 0.1398517421949236, 'mcc': 0.46624052466849214, 'train_loss': 1.444072103675674}\n",
      "Epoch 5/20\n"
     ]
    },
    {
     "name": "stderr",
     "output_type": "stream",
     "text": [
      "100%|██████████| 476/476 [03:38<00:00,  2.18it/s]\n"
     ]
    },
    {
     "name": "stdout",
     "output_type": "stream",
     "text": [
      "{'val_loss': 1.4452086765811127, 'val_accuracy': 0.6418439716312057, 'precision': 0.5366557159358187, 'recall': 0.6418439716312057, 'f1-score': 0.5694243724466743, 'macro_f1-score': 0.16366336787014518, 'balanced_accuracy': 0.17391416487976877, 'mcc': 0.5059237999804486, 'train_loss': 1.3590663659597646}\n",
      "Epoch 6/20\n"
     ]
    },
    {
     "name": "stderr",
     "output_type": "stream",
     "text": [
      "100%|██████████| 476/476 [03:38<00:00,  2.18it/s]\n"
     ]
    },
    {
     "name": "stdout",
     "output_type": "stream",
     "text": [
      "{'val_loss': 1.476834441693324, 'val_accuracy': 0.6193853427895981, 'precision': 0.5619087191786173, 'recall': 0.6193853427895981, 'f1-score': 0.5756770740102226, 'macro_f1-score': 0.19412906204961597, 'balanced_accuracy': 0.21572618694192078, 'mcc': 0.49305228186913286, 'train_loss': 1.2556047441453493}\n",
      "Epoch 7/20\n"
     ]
    },
    {
     "name": "stderr",
     "output_type": "stream",
     "text": [
      "100%|██████████| 476/476 [03:38<00:00,  2.18it/s]\n"
     ]
    },
    {
     "name": "stdout",
     "output_type": "stream",
     "text": [
      "{'val_loss': 1.4042610885962001, 'val_accuracy': 0.6607565011820331, 'precision': 0.6035222749919945, 'recall': 0.6607565011820331, 'f1-score': 0.6144388997675869, 'macro_f1-score': 0.2332585491880641, 'balanced_accuracy': 0.2397285945287505, 'mcc': 0.5440816428368135, 'train_loss': 1.147068460730194}\n",
      "Epoch 8/20\n"
     ]
    },
    {
     "name": "stderr",
     "output_type": "stream",
     "text": [
      "100%|██████████| 476/476 [03:38<00:00,  2.18it/s]\n"
     ]
    },
    {
     "name": "stdout",
     "output_type": "stream",
     "text": [
      "{'val_loss': 1.3674704730510712, 'val_accuracy': 0.6465721040189125, 'precision': 0.5934922048932829, 'recall': 0.6465721040189125, 'f1-score': 0.6119582315438913, 'macro_f1-score': 0.24458649529629203, 'balanced_accuracy': 0.27091057109008937, 'mcc': 0.5278413888834805, 'train_loss': 1.0947396209573044}\n",
      "Epoch 9/20\n"
     ]
    },
    {
     "name": "stderr",
     "output_type": "stream",
     "text": [
      "100%|██████████| 476/476 [03:38<00:00,  2.18it/s]\n"
     ]
    },
    {
     "name": "stdout",
     "output_type": "stream",
     "text": [
      "{'val_loss': 1.3976382292666525, 'val_accuracy': 0.6394799054373522, 'precision': 0.6154480867218228, 'recall': 0.6394799054373522, 'f1-score': 0.6179550756893554, 'macro_f1-score': 0.2673128888834395, 'balanced_accuracy': 0.283876723578699, 'mcc': 0.528192320215727, 'train_loss': 1.013349943301257}\n",
      "Epoch 10/20\n"
     ]
    },
    {
     "name": "stderr",
     "output_type": "stream",
     "text": [
      "100%|██████████| 476/476 [03:38<00:00,  2.18it/s]\n"
     ]
    },
    {
     "name": "stdout",
     "output_type": "stream",
     "text": [
      "{'val_loss': 1.434866798936196, 'val_accuracy': 0.6702127659574468, 'precision': 0.6318781599906348, 'recall': 0.6702127659574468, 'f1-score': 0.6392983092512929, 'macro_f1-score': 0.2810719768136217, 'balanced_accuracy': 0.2898314317885276, 'mcc': 0.5598696472747574, 'train_loss': 0.9955219339986309}\n",
      "Epoch 11/20\n"
     ]
    },
    {
     "name": "stderr",
     "output_type": "stream",
     "text": [
      "100%|██████████| 476/476 [03:38<00:00,  2.18it/s]\n"
     ]
    },
    {
     "name": "stdout",
     "output_type": "stream",
     "text": [
      "{'val_loss': 1.4377623751478374, 'val_accuracy': 0.6513002364066194, 'precision': 0.6040146349699237, 'recall': 0.6513002364066194, 'f1-score': 0.6203975042521309, 'macro_f1-score': 0.24576304423726153, 'balanced_accuracy': 0.25316377985017735, 'mcc': 0.5296702751737021, 'train_loss': 0.9151173529817778}\n",
      "Epoch 12/20\n"
     ]
    },
    {
     "name": "stderr",
     "output_type": "stream",
     "text": [
      "100%|██████████| 476/476 [03:38<00:00,  2.18it/s]\n"
     ]
    },
    {
     "name": "stdout",
     "output_type": "stream",
     "text": [
      "{'val_loss': 1.4415354065175325, 'val_accuracy': 0.6347517730496454, 'precision': 0.6221875943981097, 'recall': 0.6347517730496454, 'f1-score': 0.612935331834185, 'macro_f1-score': 0.24828183393085135, 'balanced_accuracy': 0.26919247694103005, 'mcc': 0.5243476956871973, 'train_loss': 0.8519069103664961}\n",
      "Epoch 13/20\n"
     ]
    },
    {
     "name": "stderr",
     "output_type": "stream",
     "text": [
      "100%|██████████| 476/476 [03:38<00:00,  2.18it/s]\n"
     ]
    },
    {
     "name": "stdout",
     "output_type": "stream",
     "text": [
      "{'val_loss': 1.3985929207981758, 'val_accuracy': 0.6607565011820331, 'precision': 0.652544550078723, 'recall': 0.6607565011820331, 'f1-score': 0.6416090454202843, 'macro_f1-score': 0.28788291160150803, 'balanced_accuracy': 0.31559124708634323, 'mcc': 0.5583565516947674, 'train_loss': 0.8348915324616832}\n",
      "Epoch 14/20\n"
     ]
    },
    {
     "name": "stderr",
     "output_type": "stream",
     "text": [
      "100%|██████████| 476/476 [03:38<00:00,  2.18it/s]\n"
     ]
    },
    {
     "name": "stdout",
     "output_type": "stream",
     "text": [
      "{'val_loss': 1.438158945654923, 'val_accuracy': 0.6513002364066194, 'precision': 0.6223757097039648, 'recall': 0.6513002364066194, 'f1-score': 0.6296599366665342, 'macro_f1-score': 0.31022352420053095, 'balanced_accuracy': 0.31557595295980323, 'mcc': 0.5388635722107162, 'train_loss': 0.7456813255215392}\n",
      "Epoch 15/20\n"
     ]
    },
    {
     "name": "stderr",
     "output_type": "stream",
     "text": [
      "100%|██████████| 476/476 [03:38<00:00,  2.18it/s]\n"
     ]
    },
    {
     "name": "stdout",
     "output_type": "stream",
     "text": [
      "{'val_loss': 1.3984781537415847, 'val_accuracy': 0.6595744680851063, 'precision': 0.6429234517757483, 'recall': 0.6595744680851063, 'f1-score': 0.6389153718015995, 'macro_f1-score': 0.2978537448397376, 'balanced_accuracy': 0.31687534416525925, 'mcc': 0.5547371514336472, 'train_loss': 0.7320750162725439}\n",
      "Epoch 16/20\n"
     ]
    },
    {
     "name": "stderr",
     "output_type": "stream",
     "text": [
      "100%|██████████| 476/476 [03:38<00:00,  2.18it/s]\n"
     ]
    },
    {
     "name": "stdout",
     "output_type": "stream",
     "text": [
      "{'val_loss': 1.5124203995713648, 'val_accuracy': 0.6418439716312057, 'precision': 0.6395992324975582, 'recall': 0.6418439716312057, 'f1-score': 0.6287412648674755, 'macro_f1-score': 0.29219521160243117, 'balanced_accuracy': 0.30482459677060264, 'mcc': 0.537266584064082, 'train_loss': 0.7201184929669404}\n",
      "Epoch 17/20\n"
     ]
    },
    {
     "name": "stderr",
     "output_type": "stream",
     "text": [
      "100%|██████████| 476/476 [03:38<00:00,  2.18it/s]\n"
     ]
    },
    {
     "name": "stdout",
     "output_type": "stream",
     "text": [
      "{'val_loss': 1.4386401592560534, 'val_accuracy': 0.6619385342789598, 'precision': 0.6637203907730115, 'recall': 0.6619385342789598, 'f1-score': 0.651959657993487, 'macro_f1-score': 0.3216497090323485, 'balanced_accuracy': 0.3395338839100405, 'mcc': 0.56348123269385, 'train_loss': 0.6442056225471887}\n",
      "Epoch 18/20\n"
     ]
    },
    {
     "name": "stderr",
     "output_type": "stream",
     "text": [
      "100%|██████████| 476/476 [03:38<00:00,  2.18it/s]\n"
     ]
    },
    {
     "name": "stdout",
     "output_type": "stream",
     "text": [
      "{'val_loss': 1.4713422976574808, 'val_accuracy': 0.6773049645390071, 'precision': 0.6496310010184877, 'recall': 0.6773049645390071, 'f1-score': 0.6457847934852434, 'macro_f1-score': 0.30807093905210087, 'balanced_accuracy': 0.32355371834696045, 'mcc': 0.5646533369880149, 'train_loss': 0.6265204146253962}\n",
      "Epoch 19/20\n"
     ]
    },
    {
     "name": "stderr",
     "output_type": "stream",
     "text": [
      "100%|██████████| 476/476 [03:38<00:00,  2.18it/s]\n"
     ]
    },
    {
     "name": "stdout",
     "output_type": "stream",
     "text": [
      "{'val_loss': 1.4662686451426092, 'val_accuracy': 0.6749408983451537, 'precision': 0.6491808426733804, 'recall': 0.6749408983451537, 'f1-score': 0.650044756775349, 'macro_f1-score': 0.3464144964422962, 'balanced_accuracy': 0.3385415809512499, 'mcc': 0.5643315932656696, 'train_loss': 0.588348758794336}\n",
      "Epoch 20/20\n"
     ]
    },
    {
     "name": "stderr",
     "output_type": "stream",
     "text": [
      "100%|██████████| 476/476 [03:38<00:00,  2.18it/s]\n"
     ]
    },
    {
     "name": "stdout",
     "output_type": "stream",
     "text": [
      "{'val_loss': 1.5636014511000436, 'val_accuracy': 0.6430260047281324, 'precision': 0.6601818241114386, 'recall': 0.6430260047281324, 'f1-score': 0.6332441127520989, 'macro_f1-score': 0.3002867082626984, 'balanced_accuracy': 0.3244227927524063, 'mcc': 0.5404983507754976, 'train_loss': 0.6049641713953945}\n",
      "\n",
      "[Fold 4]\n",
      "model is roberta-base lstm\n"
     ]
    },
    {
     "name": "stderr",
     "output_type": "stream",
     "text": [
      "Some weights of RobertaModel were not initialized from the model checkpoint at roberta-base and are newly initialized: ['roberta.pooler.dense.bias', 'roberta.pooler.dense.weight']\n",
      "You should probably TRAIN this model on a down-stream task to be able to use it for predictions and inference.\n"
     ]
    },
    {
     "name": "stdout",
     "output_type": "stream",
     "text": [
      "Epoch 1/20\n"
     ]
    },
    {
     "name": "stderr",
     "output_type": "stream",
     "text": [
      "100%|██████████| 476/476 [03:38<00:00,  2.18it/s]\n"
     ]
    },
    {
     "name": "stdout",
     "output_type": "stream",
     "text": [
      "{'val_loss': 1.8916908120209317, 'val_accuracy': 0.566193853427896, 'precision': 0.35080563304932744, 'recall': 0.566193853427896, 'f1-score': 0.43272008784569405, 'macro_f1-score': 0.04797654861684414, 'balanced_accuracy': 0.06691398072267939, 'mcc': 0.3568937165502866, 'train_loss': 2.128630163038478}\n",
      "Epoch 2/20\n"
     ]
    },
    {
     "name": "stderr",
     "output_type": "stream",
     "text": [
      "100%|██████████| 476/476 [03:38<00:00,  2.18it/s]\n"
     ]
    },
    {
     "name": "stdout",
     "output_type": "stream",
     "text": [
      "{'val_loss': 1.788867914451743, 'val_accuracy': 0.5721040189125296, 'precision': 0.38896720934745516, 'recall': 0.5721040189125296, 'f1-score': 0.4606807692885, 'macro_f1-score': 0.07008633640686955, 'balanced_accuracy': 0.09557391490851895, 'mcc': 0.38410400942830364, 'train_loss': 1.7896808166714275}\n",
      "Epoch 3/20\n"
     ]
    },
    {
     "name": "stderr",
     "output_type": "stream",
     "text": [
      "100%|██████████| 476/476 [03:38<00:00,  2.18it/s]\n"
     ]
    },
    {
     "name": "stdout",
     "output_type": "stream",
     "text": [
      "{'val_loss': 1.6305377921968136, 'val_accuracy': 0.5981087470449172, 'precision': 0.4212747412670052, 'recall': 0.5981087470449172, 'f1-score': 0.48735443926797783, 'macro_f1-score': 0.08553681552382064, 'balanced_accuracy': 0.10157126787996655, 'mcc': 0.4235384168802382, 'train_loss': 1.6187168212623155}\n",
      "Epoch 4/20\n"
     ]
    },
    {
     "name": "stderr",
     "output_type": "stream",
     "text": [
      "100%|██████████| 476/476 [03:38<00:00,  2.18it/s]\n"
     ]
    },
    {
     "name": "stdout",
     "output_type": "stream",
     "text": [
      "{'val_loss': 1.5893378313982263, 'val_accuracy': 0.5945626477541371, 'precision': 0.5130354193260572, 'recall': 0.5945626477541371, 'f1-score': 0.5307527924224037, 'macro_f1-score': 0.11290889659935303, 'balanced_accuracy': 0.12856216698644354, 'mcc': 0.4392536277776227, 'train_loss': 1.4821220629480707}\n",
      "Epoch 5/20\n"
     ]
    },
    {
     "name": "stderr",
     "output_type": "stream",
     "text": [
      "100%|██████████| 476/476 [03:38<00:00,  2.18it/s]\n"
     ]
    },
    {
     "name": "stdout",
     "output_type": "stream",
     "text": [
      "{'val_loss': 1.7280877401243966, 'val_accuracy': 0.58274231678487, 'precision': 0.5279932999513368, 'recall': 0.58274231678487, 'f1-score': 0.5306343448430618, 'macro_f1-score': 0.13911297747601878, 'balanced_accuracy': 0.15268428569832138, 'mcc': 0.44266817391119617, 'train_loss': 1.4066365675515486}\n",
      "Epoch 6/20\n"
     ]
    },
    {
     "name": "stderr",
     "output_type": "stream",
     "text": [
      "100%|██████████| 476/476 [03:38<00:00,  2.18it/s]\n"
     ]
    },
    {
     "name": "stdout",
     "output_type": "stream",
     "text": [
      "{'val_loss': 1.5064935672957942, 'val_accuracy': 0.6016548463356974, 'precision': 0.522906915117842, 'recall': 0.6016548463356974, 'f1-score': 0.5182622355949322, 'macro_f1-score': 0.1266253428185614, 'balanced_accuracy': 0.13021931737374468, 'mcc': 0.435697996139752, 'train_loss': 1.3109305522897665}\n",
      "Epoch 7/20\n"
     ]
    },
    {
     "name": "stderr",
     "output_type": "stream",
     "text": [
      "100%|██████████| 476/476 [03:38<00:00,  2.18it/s]\n"
     ]
    },
    {
     "name": "stdout",
     "output_type": "stream",
     "text": [
      "{'val_loss': 1.4996722587999307, 'val_accuracy': 0.6040189125295509, 'precision': 0.568974989035708, 'recall': 0.6040189125295509, 'f1-score': 0.5706337571728126, 'macro_f1-score': 0.1961092046124186, 'balanced_accuracy': 0.21577334391671596, 'mcc': 0.4739237396774818, 'train_loss': 1.229862022737996}\n",
      "Epoch 8/20\n"
     ]
    },
    {
     "name": "stderr",
     "output_type": "stream",
     "text": [
      "100%|██████████| 476/476 [03:38<00:00,  2.18it/s]\n"
     ]
    },
    {
     "name": "stdout",
     "output_type": "stream",
     "text": [
      "{'val_loss': 1.459453229071959, 'val_accuracy': 0.6205673758865248, 'precision': 0.6044987960579015, 'recall': 0.6205673758865248, 'f1-score': 0.5984543431841384, 'macro_f1-score': 0.2279501914288711, 'balanced_accuracy': 0.23147571876130185, 'mcc': 0.49848903913702425, 'train_loss': 1.1577241036007886}\n",
      "Epoch 9/20\n"
     ]
    },
    {
     "name": "stderr",
     "output_type": "stream",
     "text": [
      "100%|██████████| 476/476 [03:38<00:00,  2.18it/s]\n"
     ]
    },
    {
     "name": "stdout",
     "output_type": "stream",
     "text": [
      "{'val_loss': 1.4244971972591471, 'val_accuracy': 0.6288416075650118, 'precision': 0.5742952059256284, 'recall': 0.6288416075650118, 'f1-score': 0.588976422569542, 'macro_f1-score': 0.2358679982923266, 'balanced_accuracy': 0.24494863981779594, 'mcc': 0.49925617637837894, 'train_loss': 1.080637685015422}\n",
      "Epoch 10/20\n"
     ]
    },
    {
     "name": "stderr",
     "output_type": "stream",
     "text": [
      "100%|██████████| 476/476 [03:38<00:00,  2.18it/s]\n"
     ]
    },
    {
     "name": "stdout",
     "output_type": "stream",
     "text": [
      "{'val_loss': 1.471265531935782, 'val_accuracy': 0.6276595744680851, 'precision': 0.5910810710445631, 'recall': 0.6276595744680851, 'f1-score': 0.5937420746870121, 'macro_f1-score': 0.233812842753526, 'balanced_accuracy': 0.23309277927832775, 'mcc': 0.4954197401238875, 'train_loss': 1.020872949082561}\n",
      "Epoch 11/20\n"
     ]
    },
    {
     "name": "stderr",
     "output_type": "stream",
     "text": [
      "100%|██████████| 476/476 [03:38<00:00,  2.18it/s]\n"
     ]
    },
    {
     "name": "stdout",
     "output_type": "stream",
     "text": [
      "{'val_loss': 1.502659873017725, 'val_accuracy': 0.599290780141844, 'precision': 0.5930578074019295, 'recall': 0.599290780141844, 'f1-score': 0.5830874324899181, 'macro_f1-score': 0.25293140780498224, 'balanced_accuracy': 0.26166957459837376, 'mcc': 0.4789274710309874, 'train_loss': 1.0012172094287992}\n",
      "Epoch 12/20\n"
     ]
    },
    {
     "name": "stderr",
     "output_type": "stream",
     "text": [
      "100%|██████████| 476/476 [03:38<00:00,  2.18it/s]\n"
     ]
    },
    {
     "name": "stdout",
     "output_type": "stream",
     "text": [
      "{'val_loss': 1.4676356450566705, 'val_accuracy': 0.6300236406619385, 'precision': 0.5885841670082262, 'recall': 0.6300236406619385, 'f1-score': 0.5940776619992778, 'macro_f1-score': 0.23890907339441408, 'balanced_accuracy': 0.24462505435802953, 'mcc': 0.502527942317983, 'train_loss': 0.9689469553154557}\n",
      "Epoch 13/20\n"
     ]
    },
    {
     "name": "stderr",
     "output_type": "stream",
     "text": [
      "100%|██████████| 476/476 [03:38<00:00,  2.18it/s]\n"
     ]
    },
    {
     "name": "stdout",
     "output_type": "stream",
     "text": [
      "{'val_loss': 1.5066197525780156, 'val_accuracy': 0.6359338061465721, 'precision': 0.6129610734209776, 'recall': 0.6359338061465721, 'f1-score': 0.6054048150782865, 'macro_f1-score': 0.2683660109698121, 'balanced_accuracy': 0.26121953971633405, 'mcc': 0.5100451407310961, 'train_loss': 0.9134470103073771}\n",
      "Epoch 14/20\n"
     ]
    },
    {
     "name": "stderr",
     "output_type": "stream",
     "text": [
      "100%|██████████| 476/476 [03:38<00:00,  2.18it/s]\n"
     ]
    },
    {
     "name": "stdout",
     "output_type": "stream",
     "text": [
      "{'val_loss': 1.4579888025544725, 'val_accuracy': 0.6465721040189125, 'precision': 0.5948469494805789, 'recall': 0.6465721040189125, 'f1-score': 0.6065487543799819, 'macro_f1-score': 0.26743967827812937, 'balanced_accuracy': 0.27122552038346526, 'mcc': 0.520359800628393, 'train_loss': 0.9004980168547951}\n",
      "Epoch 15/20\n"
     ]
    },
    {
     "name": "stderr",
     "output_type": "stream",
     "text": [
      "100%|██████████| 476/476 [03:38<00:00,  2.18it/s]\n"
     ]
    },
    {
     "name": "stdout",
     "output_type": "stream",
     "text": [
      "{'val_loss': 1.467221848244937, 'val_accuracy': 0.6371158392434988, 'precision': 0.6118696057625898, 'recall': 0.6371158392434988, 'f1-score': 0.6117756416366725, 'macro_f1-score': 0.2679652401174127, 'balanced_accuracy': 0.2723316793508961, 'mcc': 0.5166305211751039, 'train_loss': 0.8310260974935123}\n",
      "Epoch 16/20\n"
     ]
    },
    {
     "name": "stderr",
     "output_type": "stream",
     "text": [
      "100%|██████████| 476/476 [03:38<00:00,  2.18it/s]\n"
     ]
    },
    {
     "name": "stdout",
     "output_type": "stream",
     "text": [
      "{'val_loss': 1.5406868688340456, 'val_accuracy': 0.6453900709219859, 'precision': 0.6005963542655471, 'recall': 0.6453900709219859, 'f1-score': 0.6114460677393112, 'macro_f1-score': 0.2746800973962256, 'balanced_accuracy': 0.28180471556784153, 'mcc': 0.5194917824279139, 'train_loss': 0.7862572302384412}\n",
      "Epoch 17/20\n"
     ]
    },
    {
     "name": "stderr",
     "output_type": "stream",
     "text": [
      "100%|██████████| 476/476 [03:38<00:00,  2.18it/s]\n"
     ]
    },
    {
     "name": "stdout",
     "output_type": "stream",
     "text": [
      "{'val_loss': 1.5563211002439823, 'val_accuracy': 0.6170212765957447, 'precision': 0.625733541086147, 'recall': 0.6170212765957447, 'f1-score': 0.610691146911127, 'macro_f1-score': 0.28925404780321456, 'balanced_accuracy': 0.3044895258364154, 'mcc': 0.5034368016116876, 'train_loss': 0.7252986103358889}\n",
      "Epoch 18/20\n"
     ]
    },
    {
     "name": "stderr",
     "output_type": "stream",
     "text": [
      "100%|██████████| 476/476 [03:38<00:00,  2.18it/s]\n"
     ]
    },
    {
     "name": "stdout",
     "output_type": "stream",
     "text": [
      "{'val_loss': 1.5858801164717045, 'val_accuracy': 0.6560283687943262, 'precision': 0.6196727599887654, 'recall': 0.6560283687943262, 'f1-score': 0.6242226147325726, 'macro_f1-score': 0.3171508485963918, 'balanced_accuracy': 0.30645620380120464, 'mcc': 0.5297245690233593, 'train_loss': 0.7773731313802364}\n",
      "Epoch 19/20\n"
     ]
    },
    {
     "name": "stderr",
     "output_type": "stream",
     "text": [
      "100%|██████████| 476/476 [03:38<00:00,  2.18it/s]\n"
     ]
    },
    {
     "name": "stdout",
     "output_type": "stream",
     "text": [
      "{'val_loss': 2.091006869415067, 'val_accuracy': 0.5437352245862884, 'precision': 0.34041928596025467, 'recall': 0.5437352245862884, 'f1-score': 0.41762190015659556, 'macro_f1-score': 0.033735307403437095, 'balanced_accuracy': 0.04893471687441536, 'mcc': 0.3235166344084137, 'train_loss': 2.225761713694875}\n",
      "Epoch 20/20\n"
     ]
    },
    {
     "name": "stderr",
     "output_type": "stream",
     "text": [
      "100%|██████████| 476/476 [03:38<00:00,  2.18it/s]\n"
     ]
    },
    {
     "name": "stdout",
     "output_type": "stream",
     "text": [
      "{'val_loss': 2.0003840754616937, 'val_accuracy': 0.541371158392435, 'precision': 0.41270153930238174, 'recall': 0.541371158392435, 'f1-score': 0.4606606556086104, 'macro_f1-score': 0.05159319072434256, 'balanced_accuracy': 0.07999650814154366, 'mcc': 0.37250840536886803, 'train_loss': 1.6806476391664071}\n",
      "\n",
      "[Fold 5]\n",
      "model is roberta-base lstm\n"
     ]
    },
    {
     "name": "stderr",
     "output_type": "stream",
     "text": [
      "Some weights of RobertaModel were not initialized from the model checkpoint at roberta-base and are newly initialized: ['roberta.pooler.dense.bias', 'roberta.pooler.dense.weight']\n",
      "You should probably TRAIN this model on a down-stream task to be able to use it for predictions and inference.\n"
     ]
    },
    {
     "name": "stdout",
     "output_type": "stream",
     "text": [
      "Epoch 1/20\n"
     ]
    },
    {
     "name": "stderr",
     "output_type": "stream",
     "text": [
      "100%|██████████| 476/476 [03:38<00:00,  2.18it/s]\n"
     ]
    },
    {
     "name": "stdout",
     "output_type": "stream",
     "text": [
      "{'val_loss': 1.810141921043396, 'val_accuracy': 0.5727810650887574, 'precision': 0.38135873487076843, 'recall': 0.5727810650887574, 'f1-score': 0.45113259362960006, 'macro_f1-score': 0.05134422321650775, 'balanced_accuracy': 0.07385057370030879, 'mcc': 0.38798070680392727, 'train_loss': 2.106267194161896}\n",
      "Epoch 2/20\n"
     ]
    },
    {
     "name": "stderr",
     "output_type": "stream",
     "text": [
      "100%|██████████| 476/476 [03:38<00:00,  2.18it/s]\n"
     ]
    },
    {
     "name": "stdout",
     "output_type": "stream",
     "text": [
      "{'val_loss': 1.623427948861752, 'val_accuracy': 0.5928994082840237, 'precision': 0.4284390248481299, 'recall': 0.5928994082840237, 'f1-score': 0.4827422203193039, 'macro_f1-score': 0.07851711380000494, 'balanced_accuracy': 0.10702450875798394, 'mcc': 0.42691475149411373, 'train_loss': 1.7097104562430823}\n",
      "Epoch 3/20\n"
     ]
    },
    {
     "name": "stderr",
     "output_type": "stream",
     "text": [
      "100%|██████████| 476/476 [03:38<00:00,  2.18it/s]\n"
     ]
    },
    {
     "name": "stdout",
     "output_type": "stream",
     "text": [
      "{'val_loss': 1.5436537074592878, 'val_accuracy': 0.6142011834319526, 'precision': 0.4970324837623312, 'recall': 0.6142011834319526, 'f1-score': 0.5365322082631968, 'macro_f1-score': 0.16191425555991848, 'balanced_accuracy': 0.1617528086887895, 'mcc': 0.4562346375534922, 'train_loss': 1.5340434027319194}\n",
      "Epoch 4/20\n"
     ]
    },
    {
     "name": "stderr",
     "output_type": "stream",
     "text": [
      "100%|██████████| 476/476 [03:38<00:00,  2.18it/s]\n"
     ]
    },
    {
     "name": "stdout",
     "output_type": "stream",
     "text": [
      "{'val_loss': 1.548238329167636, 'val_accuracy': 0.6130177514792899, 'precision': 0.5253151735117146, 'recall': 0.6130177514792899, 'f1-score': 0.5556021058441228, 'macro_f1-score': 0.16023603743796294, 'balanced_accuracy': 0.17084701162034566, 'mcc': 0.4642508805227209, 'train_loss': 1.3890500722938226}\n",
      "Epoch 5/20\n"
     ]
    },
    {
     "name": "stderr",
     "output_type": "stream",
     "text": [
      "100%|██████████| 476/476 [03:38<00:00,  2.18it/s]\n"
     ]
    },
    {
     "name": "stdout",
     "output_type": "stream",
     "text": [
      "{'val_loss': 1.537116732237474, 'val_accuracy': 0.6059171597633136, 'precision': 0.48786138432515347, 'recall': 0.6059171597633136, 'f1-score': 0.5266963788735077, 'macro_f1-score': 0.1355001105925019, 'balanced_accuracy': 0.16045903087907779, 'mcc': 0.45462962830920317, 'train_loss': 1.3085756897300231}\n",
      "Epoch 6/20\n"
     ]
    },
    {
     "name": "stderr",
     "output_type": "stream",
     "text": [
      "100%|██████████| 476/476 [03:38<00:00,  2.17it/s]\n"
     ]
    },
    {
     "name": "stdout",
     "output_type": "stream",
     "text": [
      "{'val_loss': 1.424193800620313, 'val_accuracy': 0.6319526627218935, 'precision': 0.5578793129250467, 'recall': 0.6319526627218935, 'f1-score': 0.5706285903767918, 'macro_f1-score': 0.17597908030978324, 'balanced_accuracy': 0.1792257350153289, 'mcc': 0.49161256277426457, 'train_loss': 1.2533337023077893}\n",
      "Epoch 7/20\n"
     ]
    },
    {
     "name": "stderr",
     "output_type": "stream",
     "text": [
      "100%|██████████| 476/476 [03:38<00:00,  2.17it/s]\n"
     ]
    },
    {
     "name": "stdout",
     "output_type": "stream",
     "text": [
      "{'val_loss': 1.416848972158612, 'val_accuracy': 0.6177514792899408, 'precision': 0.5804334951408318, 'recall': 0.6177514792899408, 'f1-score': 0.5788794103311062, 'macro_f1-score': 0.210524961213029, 'balanced_accuracy': 0.20882266193818075, 'mcc': 0.48708097360266633, 'train_loss': 1.1361390569192522}\n",
      "Epoch 8/20\n"
     ]
    },
    {
     "name": "stderr",
     "output_type": "stream",
     "text": [
      "100%|██████████| 476/476 [03:38<00:00,  2.18it/s]\n"
     ]
    },
    {
     "name": "stdout",
     "output_type": "stream",
     "text": [
      "{'val_loss': 1.4481929405680243, 'val_accuracy': 0.6343195266272189, 'precision': 0.5737032576471733, 'recall': 0.6343195266272189, 'f1-score': 0.5820560783165725, 'macro_f1-score': 0.1971474103640538, 'balanced_accuracy': 0.19527791030449262, 'mcc': 0.5012553413233134, 'train_loss': 1.0489989993389415}\n",
      "Epoch 9/20\n"
     ]
    },
    {
     "name": "stderr",
     "output_type": "stream",
     "text": [
      "100%|██████████| 476/476 [03:38<00:00,  2.18it/s]\n"
     ]
    },
    {
     "name": "stdout",
     "output_type": "stream",
     "text": [
      "{'val_loss': 1.408375325067988, 'val_accuracy': 0.6532544378698225, 'precision': 0.5892118022258268, 'recall': 0.6532544378698225, 'f1-score': 0.5966339700192047, 'macro_f1-score': 0.2361229197524064, 'balanced_accuracy': 0.2337045356263974, 'mcc': 0.5224969693396064, 'train_loss': 1.0085649466251625}\n",
      "Epoch 10/20\n"
     ]
    },
    {
     "name": "stderr",
     "output_type": "stream",
     "text": [
      "100%|██████████| 476/476 [03:38<00:00,  2.17it/s]\n"
     ]
    },
    {
     "name": "stdout",
     "output_type": "stream",
     "text": [
      "{'val_loss': 1.3669874870552208, 'val_accuracy': 0.642603550295858, 'precision': 0.608617956981404, 'recall': 0.642603550295858, 'f1-score': 0.6133210375010747, 'macro_f1-score': 0.23462609965496867, 'balanced_accuracy': 0.24952212353702566, 'mcc': 0.5288642150791204, 'train_loss': 0.9362520679142796}\n",
      "Epoch 11/20\n"
     ]
    },
    {
     "name": "stderr",
     "output_type": "stream",
     "text": [
      "100%|██████████| 476/476 [03:38<00:00,  2.18it/s]\n"
     ]
    },
    {
     "name": "stdout",
     "output_type": "stream",
     "text": [
      "{'val_loss': 1.430661529302597, 'val_accuracy': 0.6343195266272189, 'precision': 0.6247779381751976, 'recall': 0.6343195266272189, 'f1-score': 0.6098795718845773, 'macro_f1-score': 0.2507729833200657, 'balanced_accuracy': 0.2809671946558939, 'mcc': 0.523978998871927, 'train_loss': 0.884303819544676}\n",
      "Epoch 12/20\n"
     ]
    },
    {
     "name": "stderr",
     "output_type": "stream",
     "text": [
      "100%|██████████| 476/476 [03:38<00:00,  2.17it/s]\n"
     ]
    },
    {
     "name": "stdout",
     "output_type": "stream",
     "text": [
      "{'val_loss': 1.4053901692606368, 'val_accuracy': 0.642603550295858, 'precision': 0.6185400580483916, 'recall': 0.642603550295858, 'f1-score': 0.6182682222400466, 'macro_f1-score': 0.2594229877415374, 'balanced_accuracy': 0.26547413093879424, 'mcc': 0.5245443452784413, 'train_loss': 0.8204065318368062}\n",
      "Epoch 13/20\n"
     ]
    },
    {
     "name": "stderr",
     "output_type": "stream",
     "text": [
      "100%|██████████| 476/476 [03:38<00:00,  2.18it/s]\n"
     ]
    },
    {
     "name": "stdout",
     "output_type": "stream",
     "text": [
      "{'val_loss': 1.4339655272240908, 'val_accuracy': 0.650887573964497, 'precision': 0.6332778562584012, 'recall': 0.650887573964497, 'f1-score': 0.6152697437956924, 'macro_f1-score': 0.24865533431083445, 'balanced_accuracy': 0.2562178908091958, 'mcc': 0.5342373556727227, 'train_loss': 0.7916249701549777}\n",
      "Epoch 14/20\n"
     ]
    },
    {
     "name": "stderr",
     "output_type": "stream",
     "text": [
      "100%|██████████| 476/476 [03:38<00:00,  2.18it/s]\n"
     ]
    },
    {
     "name": "stdout",
     "output_type": "stream",
     "text": [
      "{'val_loss': 1.4813095027545713, 'val_accuracy': 0.6355029585798817, 'precision': 0.6498173855506076, 'recall': 0.6355029585798817, 'f1-score': 0.6262877934505733, 'macro_f1-score': 0.2796000156884837, 'balanced_accuracy': 0.2919525083132955, 'mcc': 0.5285713943324167, 'train_loss': 0.8520795487243087}\n",
      "Epoch 15/20\n"
     ]
    },
    {
     "name": "stderr",
     "output_type": "stream",
     "text": [
      "100%|██████████| 476/476 [03:38<00:00,  2.17it/s]\n"
     ]
    },
    {
     "name": "stdout",
     "output_type": "stream",
     "text": [
      "{'val_loss': 1.4703614318145897, 'val_accuracy': 0.6497041420118344, 'precision': 0.6222771368067398, 'recall': 0.6497041420118344, 'f1-score': 0.6189403566159218, 'macro_f1-score': 0.2761715746862475, 'balanced_accuracy': 0.2811483085881413, 'mcc': 0.5268781237613718, 'train_loss': 0.7792170508882078}\n",
      "Epoch 16/20\n"
     ]
    },
    {
     "name": "stderr",
     "output_type": "stream",
     "text": [
      "100%|██████████| 476/476 [03:38<00:00,  2.17it/s]\n"
     ]
    },
    {
     "name": "stdout",
     "output_type": "stream",
     "text": [
      "{'val_loss': 1.5216243958698128, 'val_accuracy': 0.6615384615384615, 'precision': 0.6297558630080831, 'recall': 0.6615384615384615, 'f1-score': 0.6285653528452859, 'macro_f1-score': 0.29120442636219546, 'balanced_accuracy': 0.28483766917688524, 'mcc': 0.5434053799825483, 'train_loss': 0.6956049620463443}\n",
      "Epoch 17/20\n"
     ]
    },
    {
     "name": "stderr",
     "output_type": "stream",
     "text": [
      "100%|██████████| 476/476 [03:38<00:00,  2.17it/s]\n"
     ]
    },
    {
     "name": "stdout",
     "output_type": "stream",
     "text": [
      "{'val_loss': 1.4147130458984736, 'val_accuracy': 0.6674556213017752, 'precision': 0.6354394422145903, 'recall': 0.6674556213017752, 'f1-score': 0.6382925677322874, 'macro_f1-score': 0.2960988252478275, 'balanced_accuracy': 0.30263601408590274, 'mcc': 0.5526315555662804, 'train_loss': 0.6680208295661988}\n",
      "Epoch 18/20\n"
     ]
    },
    {
     "name": "stderr",
     "output_type": "stream",
     "text": [
      "100%|██████████| 476/476 [03:38<00:00,  2.18it/s]\n"
     ]
    },
    {
     "name": "stdout",
     "output_type": "stream",
     "text": [
      "{'val_loss': 1.511067680030499, 'val_accuracy': 0.6402366863905326, 'precision': 0.6301382563297006, 'recall': 0.6402366863905326, 'f1-score': 0.6191305241400542, 'macro_f1-score': 0.2924726135632232, 'balanced_accuracy': 0.29398154217619354, 'mcc': 0.5256330159932852, 'train_loss': 0.6372102771987435}\n",
      "Epoch 19/20\n"
     ]
    },
    {
     "name": "stderr",
     "output_type": "stream",
     "text": [
      "100%|██████████| 476/476 [03:38<00:00,  2.18it/s]\n"
     ]
    },
    {
     "name": "stdout",
     "output_type": "stream",
     "text": [
      "{'val_loss': 1.4518033946460147, 'val_accuracy': 0.6402366863905326, 'precision': 0.6338304822429673, 'recall': 0.6402366863905326, 'f1-score': 0.6266746617682912, 'macro_f1-score': 0.3027503663980467, 'balanced_accuracy': 0.31029541088411017, 'mcc': 0.5323248763545411, 'train_loss': 0.612287790718011}\n",
      "Epoch 20/20\n"
     ]
    },
    {
     "name": "stderr",
     "output_type": "stream",
     "text": [
      "100%|██████████| 476/476 [03:38<00:00,  2.17it/s]\n"
     ]
    },
    {
     "name": "stdout",
     "output_type": "stream",
     "text": [
      "{'val_loss': 1.4735361483861815, 'val_accuracy': 0.659171597633136, 'precision': 0.6287721010576788, 'recall': 0.659171597633136, 'f1-score': 0.6292703790214079, 'macro_f1-score': 0.29996928658846383, 'balanced_accuracy': 0.3000442015429828, 'mcc': 0.5418955752538873, 'train_loss': 0.5987690902557694}\n",
      "\n",
      "[Fold 6]\n",
      "model is roberta-base lstm\n"
     ]
    },
    {
     "name": "stderr",
     "output_type": "stream",
     "text": [
      "Some weights of RobertaModel were not initialized from the model checkpoint at roberta-base and are newly initialized: ['roberta.pooler.dense.bias', 'roberta.pooler.dense.weight']\n",
      "You should probably TRAIN this model on a down-stream task to be able to use it for predictions and inference.\n"
     ]
    },
    {
     "name": "stdout",
     "output_type": "stream",
     "text": [
      "Epoch 1/20\n"
     ]
    },
    {
     "name": "stderr",
     "output_type": "stream",
     "text": [
      "100%|██████████| 476/476 [03:38<00:00,  2.17it/s]\n"
     ]
    },
    {
     "name": "stdout",
     "output_type": "stream",
     "text": [
      "{'val_loss': 1.8189364030676067, 'val_accuracy': 0.5739644970414202, 'precision': 0.35601001512149855, 'recall': 0.5739644970414202, 'f1-score': 0.4386370580323471, 'macro_f1-score': 0.05001457906153187, 'balanced_accuracy': 0.07081814071738504, 'mcc': 0.37320748507846474, 'train_loss': 2.1260505491445043}\n",
      "Epoch 2/20\n"
     ]
    },
    {
     "name": "stderr",
     "output_type": "stream",
     "text": [
      "100%|██████████| 476/476 [03:39<00:00,  2.17it/s]\n"
     ]
    },
    {
     "name": "stdout",
     "output_type": "stream",
     "text": [
      "{'val_loss': 1.598359227742789, 'val_accuracy': 0.6011834319526628, 'precision': 0.43327934373333665, 'recall': 0.6011834319526628, 'f1-score': 0.4990041923446269, 'macro_f1-score': 0.0864080045485678, 'balanced_accuracy': 0.11599151875947672, 'mcc': 0.4409904443772878, 'train_loss': 1.745068282452451}\n",
      "Epoch 3/20\n"
     ]
    },
    {
     "name": "stderr",
     "output_type": "stream",
     "text": [
      "100%|██████████| 476/476 [03:38<00:00,  2.18it/s]\n"
     ]
    },
    {
     "name": "stdout",
     "output_type": "stream",
     "text": [
      "{'val_loss': 1.5164948190158267, 'val_accuracy': 0.6059171597633136, 'precision': 0.44150998143028936, 'recall': 0.6059171597633136, 'f1-score': 0.5062051740792753, 'macro_f1-score': 0.09556575625184319, 'balanced_accuracy': 0.1193036349562016, 'mcc': 0.44222853262870215, 'train_loss': 1.5759048150116657}\n",
      "Epoch 4/20\n"
     ]
    },
    {
     "name": "stderr",
     "output_type": "stream",
     "text": [
      "100%|██████████| 476/476 [03:38<00:00,  2.18it/s]\n"
     ]
    },
    {
     "name": "stdout",
     "output_type": "stream",
     "text": [
      "{'val_loss': 1.5228581051781493, 'val_accuracy': 0.5822485207100592, 'precision': 0.4890889194434051, 'recall': 0.5822485207100592, 'f1-score': 0.5109165675960468, 'macro_f1-score': 0.1447253426193933, 'balanced_accuracy': 0.15525147948840295, 'mcc': 0.4137352523391563, 'train_loss': 1.454810889641277}\n",
      "Epoch 5/20\n"
     ]
    },
    {
     "name": "stderr",
     "output_type": "stream",
     "text": [
      "100%|██████████| 476/476 [03:38<00:00,  2.17it/s]\n"
     ]
    },
    {
     "name": "stdout",
     "output_type": "stream",
     "text": [
      "{'val_loss': 1.4662267959342812, 'val_accuracy': 0.6118343195266273, 'precision': 0.48925635322750827, 'recall': 0.6118343195266273, 'f1-score': 0.5269788980585427, 'macro_f1-score': 0.1339215508298269, 'balanced_accuracy': 0.1458606495273741, 'mcc': 0.45594983190394656, 'train_loss': 1.3920858493622612}\n",
      "Epoch 6/20\n"
     ]
    },
    {
     "name": "stderr",
     "output_type": "stream",
     "text": [
      "100%|██████████| 476/476 [03:38<00:00,  2.17it/s]\n"
     ]
    },
    {
     "name": "stdout",
     "output_type": "stream",
     "text": [
      "{'val_loss': 1.4634975892192912, 'val_accuracy': 0.6177514792899408, 'precision': 0.5110092631267756, 'recall': 0.6177514792899408, 'f1-score': 0.5349738933339842, 'macro_f1-score': 0.13072645590221837, 'balanced_accuracy': 0.1420622503078834, 'mcc': 0.46421416822172795, 'train_loss': 1.2812903258605164}\n",
      "Epoch 7/20\n"
     ]
    },
    {
     "name": "stderr",
     "output_type": "stream",
     "text": [
      "100%|██████████| 476/476 [03:38<00:00,  2.17it/s]\n"
     ]
    },
    {
     "name": "stdout",
     "output_type": "stream",
     "text": [
      "{'val_loss': 1.3858118473358874, 'val_accuracy': 0.6307692307692307, 'precision': 0.5675305235743816, 'recall': 0.6307692307692307, 'f1-score': 0.5755642732088786, 'macro_f1-score': 0.178440336072465, 'balanced_accuracy': 0.17966704802905387, 'mcc': 0.4881351940814902, 'train_loss': 1.1774213440528436}\n",
      "Epoch 8/20\n"
     ]
    },
    {
     "name": "stderr",
     "output_type": "stream",
     "text": [
      "100%|██████████| 476/476 [03:38<00:00,  2.17it/s]\n"
     ]
    },
    {
     "name": "stdout",
     "output_type": "stream",
     "text": [
      "{'val_loss': 1.4191972523365382, 'val_accuracy': 0.6224852071005917, 'precision': 0.5909477632057683, 'recall': 0.6224852071005917, 'f1-score': 0.5909263232175521, 'macro_f1-score': 0.20421659894898542, 'balanced_accuracy': 0.22651119480101453, 'mcc': 0.49886179411495796, 'train_loss': 1.1049695591277935}\n",
      "Epoch 9/20\n"
     ]
    },
    {
     "name": "stderr",
     "output_type": "stream",
     "text": [
      "100%|██████████| 476/476 [03:38<00:00,  2.17it/s]\n"
     ]
    },
    {
     "name": "stdout",
     "output_type": "stream",
     "text": [
      "{'val_loss': 1.3882113425236828, 'val_accuracy': 0.6284023668639053, 'precision': 0.5782899778901255, 'recall': 0.6284023668639053, 'f1-score': 0.5884345145327279, 'macro_f1-score': 0.22151911828268164, 'balanced_accuracy': 0.2433129786418147, 'mcc': 0.5029858580052213, 'train_loss': 1.0193088347358363}\n",
      "Epoch 10/20\n"
     ]
    },
    {
     "name": "stderr",
     "output_type": "stream",
     "text": [
      "100%|██████████| 476/476 [03:38<00:00,  2.17it/s]\n"
     ]
    },
    {
     "name": "stdout",
     "output_type": "stream",
     "text": [
      "{'val_loss': 1.439509190478415, 'val_accuracy': 0.6366863905325444, 'precision': 0.5895428318561245, 'recall': 0.6366863905325444, 'f1-score': 0.6044548929797984, 'macro_f1-score': 0.23276176463665088, 'balanced_accuracy': 0.2487363524843911, 'mcc': 0.5193696692329668, 'train_loss': 1.0215181731501548}\n",
      "Epoch 11/20\n"
     ]
    },
    {
     "name": "stderr",
     "output_type": "stream",
     "text": [
      "100%|██████████| 476/476 [03:38<00:00,  2.17it/s]\n"
     ]
    },
    {
     "name": "stdout",
     "output_type": "stream",
     "text": [
      "{'val_loss': 1.3672534559132918, 'val_accuracy': 0.6295857988165681, 'precision': 0.6120449244708043, 'recall': 0.6295857988165681, 'f1-score': 0.6054537091205735, 'macro_f1-score': 0.2506508523698555, 'balanced_accuracy': 0.27313492569958897, 'mcc': 0.5104446951363678, 'train_loss': 0.9416200916181091}\n",
      "Epoch 12/20\n"
     ]
    },
    {
     "name": "stderr",
     "output_type": "stream",
     "text": [
      "100%|██████████| 476/476 [03:38<00:00,  2.18it/s]\n"
     ]
    },
    {
     "name": "stdout",
     "output_type": "stream",
     "text": [
      "{'val_loss': 1.418809914364005, 'val_accuracy': 0.6272189349112426, 'precision': 0.639262795208873, 'recall': 0.6272189349112426, 'f1-score': 0.6184608699650361, 'macro_f1-score': 0.25495237824274924, 'balanced_accuracy': 0.28737645516852867, 'mcc': 0.5181325535632744, 'train_loss': 0.8570579402461773}\n",
      "Epoch 13/20\n"
     ]
    },
    {
     "name": "stderr",
     "output_type": "stream",
     "text": [
      "100%|██████████| 476/476 [03:38<00:00,  2.18it/s]\n"
     ]
    },
    {
     "name": "stdout",
     "output_type": "stream",
     "text": [
      "{'val_loss': 1.3716235188943036, 'val_accuracy': 0.6532544378698225, 'precision': 0.6104623647785165, 'recall': 0.6532544378698225, 'f1-score': 0.6260035505910861, 'macro_f1-score': 0.2573059697201343, 'balanced_accuracy': 0.27012390735691943, 'mcc': 0.5400036435433737, 'train_loss': 0.824744420924357}\n",
      "Epoch 14/20\n"
     ]
    },
    {
     "name": "stderr",
     "output_type": "stream",
     "text": [
      "100%|██████████| 476/476 [03:38<00:00,  2.18it/s]\n"
     ]
    },
    {
     "name": "stdout",
     "output_type": "stream",
     "text": [
      "{'val_loss': 1.398900811402303, 'val_accuracy': 0.6556213017751479, 'precision': 0.6064610689493903, 'recall': 0.6556213017751479, 'f1-score': 0.6201909754713903, 'macro_f1-score': 0.23804423901090388, 'balanced_accuracy': 0.24041999469645106, 'mcc': 0.536287442095414, 'train_loss': 0.7681777813010106}\n",
      "Epoch 15/20\n"
     ]
    },
    {
     "name": "stderr",
     "output_type": "stream",
     "text": [
      "100%|██████████| 476/476 [03:38<00:00,  2.18it/s]\n"
     ]
    },
    {
     "name": "stdout",
     "output_type": "stream",
     "text": [
      "{'val_loss': 1.3592226865156642, 'val_accuracy': 0.6449704142011834, 'precision': 0.6347642601192898, 'recall': 0.6449704142011834, 'f1-score': 0.6212994802871825, 'macro_f1-score': 0.26754994615551597, 'balanced_accuracy': 0.28068313183477045, 'mcc': 0.5353198454499548, 'train_loss': 0.7671174422501266}\n",
      "Epoch 16/20\n"
     ]
    },
    {
     "name": "stderr",
     "output_type": "stream",
     "text": [
      "100%|██████████| 476/476 [03:38<00:00,  2.17it/s]\n"
     ]
    },
    {
     "name": "stdout",
     "output_type": "stream",
     "text": [
      "{'val_loss': 1.5067463236035041, 'val_accuracy': 0.6295857988165681, 'precision': 0.6200253557247292, 'recall': 0.6295857988165681, 'f1-score': 0.6143623748630933, 'macro_f1-score': 0.25581018766844366, 'balanced_accuracy': 0.26885785537599277, 'mcc': 0.5201172860363231, 'train_loss': 0.6831647223722535}\n",
      "Epoch 17/20\n"
     ]
    },
    {
     "name": "stderr",
     "output_type": "stream",
     "text": [
      "100%|██████████| 476/476 [03:38<00:00,  2.18it/s]\n"
     ]
    },
    {
     "name": "stdout",
     "output_type": "stream",
     "text": [
      "{'val_loss': 1.4564493748376954, 'val_accuracy': 0.6627218934911243, 'precision': 0.6349489640102991, 'recall': 0.6627218934911243, 'f1-score': 0.6388750821162391, 'macro_f1-score': 0.25991154202059125, 'balanced_accuracy': 0.26341340805611124, 'mcc': 0.5512073816718381, 'train_loss': 0.6496895595899775}\n",
      "Epoch 18/20\n"
     ]
    },
    {
     "name": "stderr",
     "output_type": "stream",
     "text": [
      "100%|██████████| 476/476 [03:38<00:00,  2.17it/s]\n"
     ]
    },
    {
     "name": "stdout",
     "output_type": "stream",
     "text": [
      "{'val_loss': 1.4706837293112054, 'val_accuracy': 0.6402366863905326, 'precision': 0.6372370219216636, 'recall': 0.6402366863905326, 'f1-score': 0.6262727004422826, 'macro_f1-score': 0.2759041075664477, 'balanced_accuracy': 0.2867951056433701, 'mcc': 0.536902360704728, 'train_loss': 0.7129435500740504}\n",
      "Epoch 19/20\n"
     ]
    },
    {
     "name": "stderr",
     "output_type": "stream",
     "text": [
      "100%|██████████| 476/476 [03:38<00:00,  2.17it/s]\n"
     ]
    },
    {
     "name": "stdout",
     "output_type": "stream",
     "text": [
      "{'val_loss': 1.513880099328059, 'val_accuracy': 0.6485207100591716, 'precision': 0.6207563427653983, 'recall': 0.6485207100591716, 'f1-score': 0.6212595845028727, 'macro_f1-score': 0.2625044913582887, 'balanced_accuracy': 0.2709762089787292, 'mcc': 0.528301156459773, 'train_loss': 0.6610160906086949}\n",
      "Epoch 20/20\n"
     ]
    },
    {
     "name": "stderr",
     "output_type": "stream",
     "text": [
      "100%|██████████| 476/476 [03:38<00:00,  2.17it/s]\n"
     ]
    },
    {
     "name": "stdout",
     "output_type": "stream",
     "text": [
      "{'val_loss': 1.5724468051262621, 'val_accuracy': 0.6402366863905326, 'precision': 0.6197995390389502, 'recall': 0.6402366863905326, 'f1-score': 0.6175895183353752, 'macro_f1-score': 0.252286136043643, 'balanced_accuracy': 0.26189621492178966, 'mcc': 0.5310133781166285, 'train_loss': 0.6112605531879959}\n",
      "\n",
      "[Fold 7]\n",
      "model is roberta-base lstm\n"
     ]
    },
    {
     "name": "stderr",
     "output_type": "stream",
     "text": [
      "Some weights of RobertaModel were not initialized from the model checkpoint at roberta-base and are newly initialized: ['roberta.pooler.dense.bias', 'roberta.pooler.dense.weight']\n",
      "You should probably TRAIN this model on a down-stream task to be able to use it for predictions and inference.\n"
     ]
    },
    {
     "name": "stdout",
     "output_type": "stream",
     "text": [
      "Epoch 1/20\n"
     ]
    },
    {
     "name": "stderr",
     "output_type": "stream",
     "text": [
      "100%|██████████| 476/476 [03:38<00:00,  2.17it/s]\n"
     ]
    },
    {
     "name": "stdout",
     "output_type": "stream",
     "text": [
      "{'val_loss': 1.8040924454635043, 'val_accuracy': 0.5846153846153846, 'precision': 0.3805620423595712, 'recall': 0.5846153846153846, 'f1-score': 0.45924361756310605, 'macro_f1-score': 0.05776841146200141, 'balanced_accuracy': 0.08075385221032853, 'mcc': 0.3987475654471763, 'train_loss': 2.089538572716112}\n",
      "Epoch 2/20\n"
     ]
    },
    {
     "name": "stderr",
     "output_type": "stream",
     "text": [
      "100%|██████████| 476/476 [03:38<00:00,  2.17it/s]\n"
     ]
    },
    {
     "name": "stdout",
     "output_type": "stream",
     "text": [
      "{'val_loss': 1.6663138787701446, 'val_accuracy': 0.591715976331361, 'precision': 0.3977801219185663, 'recall': 0.591715976331361, 'f1-score': 0.4711909179798577, 'macro_f1-score': 0.076546624785376, 'balanced_accuracy': 0.10099097693155003, 'mcc': 0.4105084650348345, 'train_loss': 1.734575749507972}\n",
      "Epoch 3/20\n"
     ]
    },
    {
     "name": "stderr",
     "output_type": "stream",
     "text": [
      "100%|██████████| 476/476 [03:38<00:00,  2.17it/s]\n"
     ]
    },
    {
     "name": "stdout",
     "output_type": "stream",
     "text": [
      "{'val_loss': 1.545622374651567, 'val_accuracy': 0.6, 'precision': 0.5027622108344422, 'recall': 0.6, 'f1-score': 0.53764624403802, 'macro_f1-score': 0.13398574885622502, 'balanced_accuracy': 0.15167912490216773, 'mcc': 0.4442104298636814, 'train_loss': 1.5435602936674566}\n",
      "Epoch 4/20\n"
     ]
    },
    {
     "name": "stderr",
     "output_type": "stream",
     "text": [
      "100%|██████████| 476/476 [03:39<00:00,  2.17it/s]\n"
     ]
    },
    {
     "name": "stdout",
     "output_type": "stream",
     "text": [
      "{'val_loss': 1.4702001708858419, 'val_accuracy': 0.6130177514792899, 'precision': 0.5300716058950989, 'recall': 0.6130177514792899, 'f1-score': 0.5420942490526547, 'macro_f1-score': 0.1399056697187972, 'balanced_accuracy': 0.14840899704979132, 'mcc': 0.4536535929885076, 'train_loss': 1.4132204864706313}\n",
      "Epoch 5/20\n"
     ]
    },
    {
     "name": "stderr",
     "output_type": "stream",
     "text": [
      "100%|██████████| 476/476 [03:39<00:00,  2.17it/s]\n"
     ]
    },
    {
     "name": "stdout",
     "output_type": "stream",
     "text": [
      "{'val_loss': 1.3701212051904426, 'val_accuracy': 0.6414201183431952, 'precision': 0.5563649795443938, 'recall': 0.6414201183431952, 'f1-score': 0.5833021124713771, 'macro_f1-score': 0.19264691001572865, 'balanced_accuracy': 0.21537374555674177, 'mcc': 0.5120443061252988, 'train_loss': 1.2792930670646059}\n",
      "Epoch 6/20\n"
     ]
    },
    {
     "name": "stderr",
     "output_type": "stream",
     "text": [
      "100%|██████████| 476/476 [03:39<00:00,  2.17it/s]\n"
     ]
    },
    {
     "name": "stdout",
     "output_type": "stream",
     "text": [
      "{'val_loss': 1.391262931081484, 'val_accuracy': 0.6497041420118344, 'precision': 0.5561821969443224, 'recall': 0.6497041420118344, 'f1-score': 0.5684452139807267, 'macro_f1-score': 0.1823066731513646, 'balanced_accuracy': 0.18261443959544116, 'mcc': 0.5065242494331578, 'train_loss': 1.1862466275191106}\n",
      "Epoch 7/20\n"
     ]
    },
    {
     "name": "stderr",
     "output_type": "stream",
     "text": [
      "100%|██████████| 476/476 [03:39<00:00,  2.17it/s]\n"
     ]
    },
    {
     "name": "stdout",
     "output_type": "stream",
     "text": [
      "{'val_loss': 1.4117848971542322, 'val_accuracy': 0.6402366863905326, 'precision': 0.5766071937443097, 'recall': 0.6402366863905326, 'f1-score': 0.5923785667572998, 'macro_f1-score': 0.20460632072773474, 'balanced_accuracy': 0.21491610918241486, 'mcc': 0.51352829377185, 'train_loss': 1.1369544688706137}\n",
      "Epoch 8/20\n"
     ]
    },
    {
     "name": "stderr",
     "output_type": "stream",
     "text": [
      "100%|██████████| 476/476 [03:39<00:00,  2.17it/s]\n"
     ]
    },
    {
     "name": "stdout",
     "output_type": "stream",
     "text": [
      "{'val_loss': 1.3756781805236384, 'val_accuracy': 0.6343195266272189, 'precision': 0.6152947863880697, 'recall': 0.6343195266272189, 'f1-score': 0.6033911401020071, 'macro_f1-score': 0.24116214642074715, 'balanced_accuracy': 0.24962742736845836, 'mcc': 0.5047431447412952, 'train_loss': 1.055777910627237}\n",
      "Epoch 9/20\n"
     ]
    },
    {
     "name": "stderr",
     "output_type": "stream",
     "text": [
      "100%|██████████| 476/476 [03:39<00:00,  2.17it/s]\n"
     ]
    },
    {
     "name": "stdout",
     "output_type": "stream",
     "text": [
      "{'val_loss': 1.4645179670374349, 'val_accuracy': 0.6355029585798817, 'precision': 0.6158833225508913, 'recall': 0.6355029585798817, 'f1-score': 0.6017110804144317, 'macro_f1-score': 0.23132185620595863, 'balanced_accuracy': 0.2440085987929097, 'mcc': 0.5079895695184592, 'train_loss': 1.0115217129159875}\n",
      "Epoch 10/20\n"
     ]
    },
    {
     "name": "stderr",
     "output_type": "stream",
     "text": [
      "100%|██████████| 476/476 [03:39<00:00,  2.17it/s]\n"
     ]
    },
    {
     "name": "stdout",
     "output_type": "stream",
     "text": [
      "{'val_loss': 1.3607007287583262, 'val_accuracy': 0.659171597633136, 'precision': 0.6033969561204054, 'recall': 0.659171597633136, 'f1-score': 0.6131958466095947, 'macro_f1-score': 0.24330445685956734, 'balanced_accuracy': 0.2553801716967017, 'mcc': 0.536237189109752, 'train_loss': 0.9230383948556015}\n",
      "Epoch 11/20\n"
     ]
    },
    {
     "name": "stderr",
     "output_type": "stream",
     "text": [
      "100%|██████████| 476/476 [03:39<00:00,  2.17it/s]\n"
     ]
    },
    {
     "name": "stdout",
     "output_type": "stream",
     "text": [
      "{'val_loss': 1.3818280477568787, 'val_accuracy': 0.650887573964497, 'precision': 0.6343123859252904, 'recall': 0.650887573964497, 'f1-score': 0.6293188479989877, 'macro_f1-score': 0.29075731060519777, 'balanced_accuracy': 0.30401243162377084, 'mcc': 0.540591814674835, 'train_loss': 0.8638755007952201}\n",
      "Epoch 12/20\n"
     ]
    },
    {
     "name": "stderr",
     "output_type": "stream",
     "text": [
      "100%|██████████| 476/476 [03:39<00:00,  2.17it/s]\n"
     ]
    },
    {
     "name": "stdout",
     "output_type": "stream",
     "text": [
      "{'val_loss': 1.3704913345710286, 'val_accuracy': 0.6568047337278107, 'precision': 0.6410984318198869, 'recall': 0.6568047337278107, 'f1-score': 0.6374720584044052, 'macro_f1-score': 0.2763835621462977, 'balanced_accuracy': 0.2945060162986884, 'mcc': 0.5490383062592713, 'train_loss': 0.8346090298459059}\n",
      "Epoch 13/20\n"
     ]
    },
    {
     "name": "stderr",
     "output_type": "stream",
     "text": [
      "100%|██████████| 476/476 [03:39<00:00,  2.17it/s]\n"
     ]
    },
    {
     "name": "stdout",
     "output_type": "stream",
     "text": [
      "{'val_loss': 1.3907446456405352, 'val_accuracy': 0.6757396449704142, 'precision': 0.6487646588038076, 'recall': 0.6757396449704142, 'f1-score': 0.649157546610955, 'macro_f1-score': 0.3202061304961596, 'balanced_accuracy': 0.3293364729174783, 'mcc': 0.5657015443261084, 'train_loss': 0.7885825822771597}\n",
      "Epoch 14/20\n"
     ]
    },
    {
     "name": "stderr",
     "output_type": "stream",
     "text": [
      "100%|██████████| 476/476 [03:39<00:00,  2.17it/s]\n"
     ]
    },
    {
     "name": "stdout",
     "output_type": "stream",
     "text": [
      "{'val_loss': 1.4117069986631285, 'val_accuracy': 0.6520710059171597, 'precision': 0.6340919225661192, 'recall': 0.6520710059171597, 'f1-score': 0.6324734853850673, 'macro_f1-score': 0.3074085994988037, 'balanced_accuracy': 0.3178615221595513, 'mcc': 0.5425165647518391, 'train_loss': 0.7366901093139118}\n",
      "Epoch 15/20\n"
     ]
    },
    {
     "name": "stderr",
     "output_type": "stream",
     "text": [
      "100%|██████████| 476/476 [03:39<00:00,  2.17it/s]\n"
     ]
    },
    {
     "name": "stdout",
     "output_type": "stream",
     "text": [
      "{'val_loss': 1.4165146688245378, 'val_accuracy': 0.650887573964497, 'precision': 0.6428778864555204, 'recall': 0.650887573964497, 'f1-score': 0.6370328567228246, 'macro_f1-score': 0.2791043548147063, 'balanced_accuracy': 0.2943936388838271, 'mcc': 0.5458955380560545, 'train_loss': 0.7486686623741349}\n",
      "Epoch 16/20\n"
     ]
    },
    {
     "name": "stderr",
     "output_type": "stream",
     "text": [
      "100%|██████████| 476/476 [03:38<00:00,  2.17it/s]\n"
     ]
    },
    {
     "name": "stdout",
     "output_type": "stream",
     "text": [
      "{'val_loss': 1.430914892902914, 'val_accuracy': 0.659171597633136, 'precision': 0.6709391840057988, 'recall': 0.659171597633136, 'f1-score': 0.6485637507648299, 'macro_f1-score': 0.326273050043362, 'balanced_accuracy': 0.32480439695978, 'mcc': 0.5505963870145443, 'train_loss': 0.6584097147614014}\n",
      "Epoch 17/20\n"
     ]
    },
    {
     "name": "stderr",
     "output_type": "stream",
     "text": [
      "100%|██████████| 476/476 [03:39<00:00,  2.17it/s]\n"
     ]
    },
    {
     "name": "stdout",
     "output_type": "stream",
     "text": [
      "{'val_loss': 1.4481200834490218, 'val_accuracy': 0.6698224852071006, 'precision': 0.6572237497135296, 'recall': 0.6698224852071006, 'f1-score': 0.6494619110734983, 'macro_f1-score': 0.3239890524037883, 'balanced_accuracy': 0.3252381733386611, 'mcc': 0.5628769034953772, 'train_loss': 0.6399480221213913}\n",
      "Epoch 18/20\n"
     ]
    },
    {
     "name": "stderr",
     "output_type": "stream",
     "text": [
      "100%|██████████| 476/476 [03:39<00:00,  2.17it/s]\n"
     ]
    },
    {
     "name": "stdout",
     "output_type": "stream",
     "text": [
      "{'val_loss': 1.4623065208489041, 'val_accuracy': 0.6520710059171597, 'precision': 0.6797373561537238, 'recall': 0.6520710059171597, 'f1-score': 0.6521740455254852, 'macro_f1-score': 0.32757404225208175, 'balanced_accuracy': 0.36416910938576513, 'mcc': 0.5600629404791048, 'train_loss': 0.6021572118311995}\n",
      "Epoch 19/20\n"
     ]
    },
    {
     "name": "stderr",
     "output_type": "stream",
     "text": [
      "100%|██████████| 476/476 [03:39<00:00,  2.17it/s]\n"
     ]
    },
    {
     "name": "stdout",
     "output_type": "stream",
     "text": [
      "{'val_loss': 1.5184718117399036, 'val_accuracy': 0.6650887573964497, 'precision': 0.6391123076920796, 'recall': 0.6650887573964497, 'f1-score': 0.6368258052345754, 'macro_f1-score': 0.3151487300560896, 'balanced_accuracy': 0.32027604351623834, 'mcc': 0.5507267640596312, 'train_loss': 0.624049599658103}\n",
      "Epoch 20/20\n"
     ]
    },
    {
     "name": "stderr",
     "output_type": "stream",
     "text": [
      "100%|██████████| 476/476 [03:39<00:00,  2.17it/s]\n"
     ]
    },
    {
     "name": "stdout",
     "output_type": "stream",
     "text": [
      "{'val_loss': 1.533608244696878, 'val_accuracy': 0.6579881656804734, 'precision': 0.6566946868371824, 'recall': 0.6579881656804734, 'f1-score': 0.6284857835115347, 'macro_f1-score': 0.2850306904332723, 'balanced_accuracy': 0.29526094282801696, 'mcc': 0.5487382032065087, 'train_loss': 0.569665994448196}\n",
      "\n",
      "[Fold 8]\n",
      "model is roberta-base lstm\n"
     ]
    },
    {
     "name": "stderr",
     "output_type": "stream",
     "text": [
      "Some weights of RobertaModel were not initialized from the model checkpoint at roberta-base and are newly initialized: ['roberta.pooler.dense.bias', 'roberta.pooler.dense.weight']\n",
      "You should probably TRAIN this model on a down-stream task to be able to use it for predictions and inference.\n"
     ]
    },
    {
     "name": "stdout",
     "output_type": "stream",
     "text": [
      "Epoch 1/20\n"
     ]
    },
    {
     "name": "stderr",
     "output_type": "stream",
     "text": [
      "100%|██████████| 476/476 [03:39<00:00,  2.17it/s]\n"
     ]
    },
    {
     "name": "stdout",
     "output_type": "stream",
     "text": [
      "{'val_loss': 1.8928637245915971, 'val_accuracy': 0.5715976331360947, 'precision': 0.3432316870266261, 'recall': 0.5715976331360947, 'f1-score': 0.42639646128244324, 'macro_f1-score': 0.04133249665481962, 'balanced_accuracy': 0.05762876748023973, 'mcc': 0.3679697193459437, 'train_loss': 2.1716696321964264}\n",
      "Epoch 2/20\n"
     ]
    },
    {
     "name": "stderr",
     "output_type": "stream",
     "text": [
      "100%|██████████| 476/476 [03:38<00:00,  2.18it/s]\n"
     ]
    },
    {
     "name": "stdout",
     "output_type": "stream",
     "text": [
      "{'val_loss': 1.6439648495530181, 'val_accuracy': 0.591715976331361, 'precision': 0.43825681146953943, 'recall': 0.591715976331361, 'f1-score': 0.4912473261551053, 'macro_f1-score': 0.07600550814616046, 'balanced_accuracy': 0.09996665125025238, 'mcc': 0.4292123252060158, 'train_loss': 1.8011608889498631}\n",
      "Epoch 3/20\n"
     ]
    },
    {
     "name": "stderr",
     "output_type": "stream",
     "text": [
      "100%|██████████| 476/476 [03:38<00:00,  2.17it/s]\n"
     ]
    },
    {
     "name": "stdout",
     "output_type": "stream",
     "text": [
      "{'val_loss': 1.541240228234597, 'val_accuracy': 0.6071005917159763, 'precision': 0.4417699364333392, 'recall': 0.6071005917159763, 'f1-score': 0.49991372503985404, 'macro_f1-score': 0.1026949470664641, 'balanced_accuracy': 0.12455992619673677, 'mcc': 0.43951643749352537, 'train_loss': 1.579111767228411}\n",
      "Epoch 4/20\n"
     ]
    },
    {
     "name": "stderr",
     "output_type": "stream",
     "text": [
      "100%|██████████| 476/476 [04:05<00:00,  1.94it/s]\n"
     ]
    },
    {
     "name": "stdout",
     "output_type": "stream",
     "text": [
      "{'val_loss': 1.4856709275605544, 'val_accuracy': 0.6272189349112426, 'precision': 0.5213889948616478, 'recall': 0.6272189349112426, 'f1-score': 0.5555544637477181, 'macro_f1-score': 0.1412169806740764, 'balanced_accuracy': 0.15374264067673257, 'mcc': 0.488397042803076, 'train_loss': 1.4644079437526334}\n",
      "Epoch 5/20\n"
     ]
    },
    {
     "name": "stderr",
     "output_type": "stream",
     "text": [
      "100%|██████████| 476/476 [04:12<00:00,  1.89it/s]\n"
     ]
    },
    {
     "name": "stdout",
     "output_type": "stream",
     "text": [
      "{'val_loss': 1.450672205889, 'val_accuracy': 0.6142011834319526, 'precision': 0.5455169766822333, 'recall': 0.6142011834319526, 'f1-score': 0.5622598109641184, 'macro_f1-score': 0.15458676778022495, 'balanced_accuracy': 0.1775929260582783, 'mcc': 0.4915463582219197, 'train_loss': 1.3649506590822165}\n",
      "Epoch 6/20\n"
     ]
    },
    {
     "name": "stderr",
     "output_type": "stream",
     "text": [
      "100%|██████████| 476/476 [04:10<00:00,  1.90it/s]\n"
     ]
    },
    {
     "name": "stdout",
     "output_type": "stream",
     "text": [
      "{'val_loss': 1.3447730856121711, 'val_accuracy': 0.6319526627218935, 'precision': 0.541720196244227, 'recall': 0.6319526627218935, 'f1-score': 0.5716712632686329, 'macro_f1-score': 0.17610237626759812, 'balanced_accuracy': 0.19199308262888565, 'mcc': 0.5036327851989475, 'train_loss': 1.2692750446310563}\n",
      "Epoch 7/20\n"
     ]
    },
    {
     "name": "stderr",
     "output_type": "stream",
     "text": [
      "100%|██████████| 476/476 [04:13<00:00,  1.88it/s]\n"
     ]
    },
    {
     "name": "stdout",
     "output_type": "stream",
     "text": [
      "{'val_loss': 1.3943400956549734, 'val_accuracy': 0.6236686390532544, 'precision': 0.5408630299611501, 'recall': 0.6236686390532544, 'f1-score': 0.5661694709389568, 'macro_f1-score': 0.17958520668087574, 'balanced_accuracy': 0.20069008657169868, 'mcc': 0.493982396041802, 'train_loss': 1.1834881192996722}\n",
      "Epoch 8/20\n"
     ]
    },
    {
     "name": "stderr",
     "output_type": "stream",
     "text": [
      "100%|██████████| 476/476 [04:05<00:00,  1.94it/s]\n"
     ]
    },
    {
     "name": "stdout",
     "output_type": "stream",
     "text": [
      "{'val_loss': 1.3337681574641533, 'val_accuracy': 0.6473372781065089, 'precision': 0.5814591438156924, 'recall': 0.6473372781065089, 'f1-score': 0.6018311801579833, 'macro_f1-score': 0.22237010584718447, 'balanced_accuracy': 0.23690958765893189, 'mcc': 0.5344623089012617, 'train_loss': 1.0936531711588888}\n",
      "Epoch 9/20\n"
     ]
    },
    {
     "name": "stderr",
     "output_type": "stream",
     "text": [
      "100%|██████████| 476/476 [04:10<00:00,  1.90it/s]\n"
     ]
    },
    {
     "name": "stdout",
     "output_type": "stream",
     "text": [
      "{'val_loss': 1.3628727771201223, 'val_accuracy': 0.6260355029585799, 'precision': 0.5529477665068241, 'recall': 0.6260355029585799, 'f1-score': 0.5704933334633414, 'macro_f1-score': 0.16738337069532175, 'balanced_accuracy': 0.18098741205424954, 'mcc': 0.4907304107674303, 'train_loss': 1.0792477525332396}\n",
      "Epoch 10/20\n"
     ]
    },
    {
     "name": "stderr",
     "output_type": "stream",
     "text": [
      "100%|██████████| 476/476 [04:12<00:00,  1.89it/s]\n"
     ]
    },
    {
     "name": "stdout",
     "output_type": "stream",
     "text": [
      "{'val_loss': 1.4063855606429982, 'val_accuracy': 0.6378698224852071, 'precision': 0.6158837636678123, 'recall': 0.6378698224852071, 'f1-score': 0.6118958944209966, 'macro_f1-score': 0.23780393986997722, 'balanced_accuracy': 0.24799207494301737, 'mcc': 0.521366747708206, 'train_loss': 1.0103207739117015}\n",
      "Epoch 11/20\n"
     ]
    },
    {
     "name": "stderr",
     "output_type": "stream",
     "text": [
      "100%|██████████| 476/476 [04:14<00:00,  1.87it/s]\n"
     ]
    },
    {
     "name": "stdout",
     "output_type": "stream",
     "text": [
      "{'val_loss': 1.3320941643894844, 'val_accuracy': 0.6568047337278107, 'precision': 0.6078840196532503, 'recall': 0.6568047337278107, 'f1-score': 0.6176069833523833, 'macro_f1-score': 0.24421640323279348, 'balanced_accuracy': 0.23893684157311498, 'mcc': 0.537242512393894, 'train_loss': 0.9784817944492111}\n",
      "Epoch 12/20\n"
     ]
    },
    {
     "name": "stderr",
     "output_type": "stream",
     "text": [
      "100%|██████████| 476/476 [04:06<00:00,  1.93it/s]\n"
     ]
    },
    {
     "name": "stdout",
     "output_type": "stream",
     "text": [
      "{'val_loss': 1.3731198729771488, 'val_accuracy': 0.6437869822485207, 'precision': 0.6148590871429847, 'recall': 0.6437869822485207, 'f1-score': 0.6134655874015206, 'macro_f1-score': 0.264227143897858, 'balanced_accuracy': 0.26445528805425444, 'mcc': 0.5313326569639526, 'train_loss': 0.9031767270081684}\n",
      "Epoch 13/20\n"
     ]
    },
    {
     "name": "stderr",
     "output_type": "stream",
     "text": [
      "100%|██████████| 476/476 [04:08<00:00,  1.91it/s]\n"
     ]
    },
    {
     "name": "stdout",
     "output_type": "stream",
     "text": [
      "{'val_loss': 1.4943009142605763, 'val_accuracy': 0.6390532544378699, 'precision': 0.597731765230645, 'recall': 0.6390532544378699, 'f1-score': 0.6095104365132894, 'macro_f1-score': 0.2680307721956891, 'balanced_accuracy': 0.27591076909419787, 'mcc': 0.5221488872300553, 'train_loss': 0.8277346454091182}\n",
      "Epoch 14/20\n"
     ]
    },
    {
     "name": "stderr",
     "output_type": "stream",
     "text": [
      "100%|██████████| 476/476 [04:09<00:00,  1.91it/s]\n"
     ]
    },
    {
     "name": "stdout",
     "output_type": "stream",
     "text": [
      "{'val_loss': 1.3171842806744125, 'val_accuracy': 0.6556213017751479, 'precision': 0.6328511190509997, 'recall': 0.6556213017751479, 'f1-score': 0.6285066172756213, 'macro_f1-score': 0.29311019275254824, 'balanced_accuracy': 0.28485069970124394, 'mcc': 0.5460775966015309, 'train_loss': 0.8064215774452236}\n",
      "Epoch 15/20\n"
     ]
    },
    {
     "name": "stderr",
     "output_type": "stream",
     "text": [
      "100%|██████████| 476/476 [04:05<00:00,  1.94it/s]\n"
     ]
    },
    {
     "name": "stdout",
     "output_type": "stream",
     "text": [
      "{'val_loss': 1.450690823905873, 'val_accuracy': 0.6449704142011834, 'precision': 0.6396531280230322, 'recall': 0.6449704142011834, 'f1-score': 0.6318244626309005, 'macro_f1-score': 0.30328038516857025, 'balanced_accuracy': 0.30347738805345353, 'mcc': 0.5356505119411527, 'train_loss': 0.7567201918851929}\n",
      "Epoch 16/20\n"
     ]
    },
    {
     "name": "stderr",
     "output_type": "stream",
     "text": [
      "100%|██████████| 476/476 [04:03<00:00,  1.96it/s]\n"
     ]
    },
    {
     "name": "stdout",
     "output_type": "stream",
     "text": [
      "{'val_loss': 1.3704860733365112, 'val_accuracy': 0.642603550295858, 'precision': 0.6021636008136627, 'recall': 0.642603550295858, 'f1-score': 0.6117122880284271, 'macro_f1-score': 0.30040406617968685, 'balanced_accuracy': 0.3049268624160655, 'mcc': 0.5221179728351185, 'train_loss': 0.8038789594718138}\n",
      "Epoch 17/20\n"
     ]
    },
    {
     "name": "stderr",
     "output_type": "stream",
     "text": [
      "100%|██████████| 476/476 [04:05<00:00,  1.94it/s]\n"
     ]
    },
    {
     "name": "stdout",
     "output_type": "stream",
     "text": [
      "{'val_loss': 1.338011086549399, 'val_accuracy': 0.659171597633136, 'precision': 0.6455663499370167, 'recall': 0.659171597633136, 'f1-score': 0.6408833288865312, 'macro_f1-score': 0.35482730301203974, 'balanced_accuracy': 0.37308129442963106, 'mcc': 0.5597376727568201, 'train_loss': 0.7422843587373485}\n",
      "Epoch 18/20\n"
     ]
    },
    {
     "name": "stderr",
     "output_type": "stream",
     "text": [
      "100%|██████████| 476/476 [04:10<00:00,  1.90it/s]\n"
     ]
    },
    {
     "name": "stdout",
     "output_type": "stream",
     "text": [
      "{'val_loss': 1.4006514121901315, 'val_accuracy': 0.6497041420118344, 'precision': 0.618981692170959, 'recall': 0.6497041420118344, 'f1-score': 0.6244326711484279, 'macro_f1-score': 0.31048929611791026, 'balanced_accuracy': 0.30037321457218097, 'mcc': 0.5408633527437328, 'train_loss': 0.6661153074604373}\n",
      "Epoch 19/20\n"
     ]
    },
    {
     "name": "stderr",
     "output_type": "stream",
     "text": [
      "100%|██████████| 476/476 [04:07<00:00,  1.92it/s]\n"
     ]
    },
    {
     "name": "stdout",
     "output_type": "stream",
     "text": [
      "{'val_loss': 1.4220358594408575, 'val_accuracy': 0.6520710059171597, 'precision': 0.6331412097965478, 'recall': 0.6520710059171597, 'f1-score': 0.6275321409388706, 'macro_f1-score': 0.3127156650377716, 'balanced_accuracy': 0.3275765587187175, 'mcc': 0.541132200781269, 'train_loss': 0.6306216558558914}\n",
      "Epoch 20/20\n"
     ]
    },
    {
     "name": "stderr",
     "output_type": "stream",
     "text": [
      "100%|██████████| 476/476 [04:08<00:00,  1.91it/s]\n"
     ]
    },
    {
     "name": "stdout",
     "output_type": "stream",
     "text": [
      "{'val_loss': 1.437064899588531, 'val_accuracy': 0.6544378698224852, 'precision': 0.6336136058290246, 'recall': 0.6544378698224852, 'f1-score': 0.6309142458843174, 'macro_f1-score': 0.3488656858439143, 'balanced_accuracy': 0.3392382901494533, 'mcc': 0.542963711953127, 'train_loss': 0.6149886523475167}\n",
      "Early stopping.\n",
      "\n",
      "[Fold 9]\n",
      "model is roberta-base lstm\n"
     ]
    },
    {
     "name": "stderr",
     "output_type": "stream",
     "text": [
      "Some weights of RobertaModel were not initialized from the model checkpoint at roberta-base and are newly initialized: ['roberta.pooler.dense.bias', 'roberta.pooler.dense.weight']\n",
      "You should probably TRAIN this model on a down-stream task to be able to use it for predictions and inference.\n"
     ]
    },
    {
     "name": "stdout",
     "output_type": "stream",
     "text": [
      "Epoch 1/20\n"
     ]
    },
    {
     "name": "stderr",
     "output_type": "stream",
     "text": [
      "100%|██████████| 476/476 [04:08<00:00,  1.91it/s]\n"
     ]
    },
    {
     "name": "stdout",
     "output_type": "stream",
     "text": [
      "{'val_loss': 2.1045545631984495, 'val_accuracy': 0.557396449704142, 'precision': 0.3399306697292392, 'recall': 0.557396449704142, 'f1-score': 0.41642784257216225, 'macro_f1-score': 0.042035656878242914, 'balanced_accuracy': 0.05645989011588148, 'mcc': 0.3363551217447413, 'train_loss': 2.1333015517276874}\n",
      "Epoch 2/20\n"
     ]
    },
    {
     "name": "stderr",
     "output_type": "stream",
     "text": [
      "100%|██████████| 476/476 [04:08<00:00,  1.91it/s]\n"
     ]
    },
    {
     "name": "stdout",
     "output_type": "stream",
     "text": [
      "{'val_loss': 1.7715769095240899, 'val_accuracy': 0.5692307692307692, 'precision': 0.40092503359539194, 'recall': 0.5692307692307692, 'f1-score': 0.4612831423048418, 'macro_f1-score': 0.06458733799175792, 'balanced_accuracy': 0.08557163393846683, 'mcc': 0.37272617607956204, 'train_loss': 1.7832059668643134}\n",
      "Epoch 3/20\n"
     ]
    },
    {
     "name": "stderr",
     "output_type": "stream",
     "text": [
      "100%|██████████| 476/476 [04:08<00:00,  1.92it/s]\n"
     ]
    },
    {
     "name": "stdout",
     "output_type": "stream",
     "text": [
      "{'val_loss': 1.5980832599244028, 'val_accuracy': 0.5964497041420118, 'precision': 0.4275086806639884, 'recall': 0.5964497041420118, 'f1-score': 0.4880120311930455, 'macro_f1-score': 0.08125079161042593, 'balanced_accuracy': 0.10192201294139301, 'mcc': 0.4266585895851424, 'train_loss': 1.614275105610615}\n",
      "Epoch 4/20\n"
     ]
    },
    {
     "name": "stderr",
     "output_type": "stream",
     "text": [
      "100%|██████████| 476/476 [04:05<00:00,  1.94it/s]\n"
     ]
    },
    {
     "name": "stdout",
     "output_type": "stream",
     "text": [
      "{'val_loss': 1.541379100871536, 'val_accuracy': 0.6118343195266273, 'precision': 0.4670931381884355, 'recall': 0.6118343195266273, 'f1-score': 0.5160105304191017, 'macro_f1-score': 0.10457367168991959, 'balanced_accuracy': 0.125800630425624, 'mcc': 0.4551835496849221, 'train_loss': 1.4959920893321519}\n",
      "Epoch 5/20\n"
     ]
    },
    {
     "name": "stderr",
     "output_type": "stream",
     "text": [
      "100%|██████████| 476/476 [04:11<00:00,  1.89it/s]\n"
     ]
    },
    {
     "name": "stdout",
     "output_type": "stream",
     "text": [
      "{'val_loss': 1.4903723889926694, 'val_accuracy': 0.6153846153846154, 'precision': 0.5259040217579346, 'recall': 0.6153846153846154, 'f1-score': 0.5486369355347839, 'macro_f1-score': 0.1642413368593391, 'balanced_accuracy': 0.18183346018204394, 'mcc': 0.47414862753793185, 'train_loss': 1.4013013472201443}\n",
      "Epoch 6/20\n"
     ]
    },
    {
     "name": "stderr",
     "output_type": "stream",
     "text": [
      "100%|██████████| 476/476 [04:13<00:00,  1.88it/s]\n"
     ]
    },
    {
     "name": "stdout",
     "output_type": "stream",
     "text": [
      "{'val_loss': 1.4549083046193392, 'val_accuracy': 0.6189349112426036, 'precision': 0.5797808331565496, 'recall': 0.6189349112426036, 'f1-score': 0.5734431609151954, 'macro_f1-score': 0.18105691992619613, 'balanced_accuracy': 0.20213523925881915, 'mcc': 0.4984158205192942, 'train_loss': 1.334856506656198}\n",
      "Epoch 7/20\n"
     ]
    },
    {
     "name": "stderr",
     "output_type": "stream",
     "text": [
      "100%|██████████| 476/476 [04:13<00:00,  1.88it/s]\n"
     ]
    },
    {
     "name": "stdout",
     "output_type": "stream",
     "text": [
      "{'val_loss': 1.4471724337002017, 'val_accuracy': 0.6331360946745562, 'precision': 0.5623907427740138, 'recall': 0.6331360946745562, 'f1-score': 0.5832396693520672, 'macro_f1-score': 0.18540298116788495, 'balanced_accuracy': 0.19945288768246666, 'mcc': 0.507099564801248, 'train_loss': 1.2396851075547082}\n",
      "Epoch 8/20\n"
     ]
    },
    {
     "name": "stderr",
     "output_type": "stream",
     "text": [
      "100%|██████████| 476/476 [04:14<00:00,  1.87it/s]\n"
     ]
    },
    {
     "name": "stdout",
     "output_type": "stream",
     "text": [
      "{'val_loss': 1.3963935330228985, 'val_accuracy': 0.6485207100591716, 'precision': 0.5692008127419852, 'recall': 0.6485207100591716, 'f1-score': 0.5922322383140202, 'macro_f1-score': 0.2089040282711802, 'balanced_accuracy': 0.22081837814681077, 'mcc': 0.5237709031900469, 'train_loss': 1.1612257336994178}\n",
      "Epoch 9/20\n"
     ]
    },
    {
     "name": "stderr",
     "output_type": "stream",
     "text": [
      "100%|██████████| 476/476 [04:07<00:00,  1.92it/s]\n"
     ]
    },
    {
     "name": "stdout",
     "output_type": "stream",
     "text": [
      "{'val_loss': 1.3333409333004143, 'val_accuracy': 0.6627218934911243, 'precision': 0.6210816945818889, 'recall': 0.6627218934911243, 'f1-score': 0.6239161308758155, 'macro_f1-score': 0.24770180655815713, 'balanced_accuracy': 0.26171664079621726, 'mcc': 0.5543091537958484, 'train_loss': 1.1047140141996015}\n",
      "Epoch 10/20\n"
     ]
    },
    {
     "name": "stderr",
     "output_type": "stream",
     "text": [
      "100%|██████████| 476/476 [03:58<00:00,  2.00it/s]\n"
     ]
    },
    {
     "name": "stdout",
     "output_type": "stream",
     "text": [
      "{'val_loss': 1.3445298399003047, 'val_accuracy': 0.6615384615384615, 'precision': 0.61289381147048, 'recall': 0.6615384615384615, 'f1-score': 0.62751176866295, 'macro_f1-score': 0.2527583163843391, 'balanced_accuracy': 0.2662536414047749, 'mcc': 0.5503850622550428, 'train_loss': 1.0261937433681567}\n",
      "Epoch 11/20\n"
     ]
    },
    {
     "name": "stderr",
     "output_type": "stream",
     "text": [
      "100%|██████████| 476/476 [03:54<00:00,  2.03it/s]\n"
     ]
    },
    {
     "name": "stdout",
     "output_type": "stream",
     "text": [
      "{'val_loss': 1.4045053473058737, 'val_accuracy': 0.6461538461538462, 'precision': 0.6216127309880484, 'recall': 0.6461538461538462, 'f1-score': 0.6204391739066971, 'macro_f1-score': 0.25113932649077486, 'balanced_accuracy': 0.2611438244751872, 'mcc': 0.5298827895139246, 'train_loss': 0.9692787002740788}\n",
      "Epoch 12/20\n"
     ]
    },
    {
     "name": "stderr",
     "output_type": "stream",
     "text": [
      "100%|██████████| 476/476 [03:36<00:00,  2.20it/s]\n"
     ]
    },
    {
     "name": "stdout",
     "output_type": "stream",
     "text": [
      "{'val_loss': 1.4631694510297955, 'val_accuracy': 0.6402366863905326, 'precision': 0.6461035879103771, 'recall': 0.6402366863905326, 'f1-score': 0.6192863072705007, 'macro_f1-score': 0.2643729687638645, 'balanced_accuracy': 0.2633842249127809, 'mcc': 0.5190023007439749, 'train_loss': 0.9566183403572616}\n",
      "Epoch 13/20\n"
     ]
    },
    {
     "name": "stderr",
     "output_type": "stream",
     "text": [
      "100%|██████████| 476/476 [03:35<00:00,  2.21it/s]\n"
     ]
    },
    {
     "name": "stdout",
     "output_type": "stream",
     "text": [
      "{'val_loss': 1.4804336456757672, 'val_accuracy': 0.6449704142011834, 'precision': 0.5951200233633674, 'recall': 0.6449704142011834, 'f1-score': 0.6053469459025718, 'macro_f1-score': 0.25649501020696996, 'balanced_accuracy': 0.25351398443055256, 'mcc': 0.5197642137077432, 'train_loss': 0.8953984558832746}\n",
      "Epoch 14/20\n"
     ]
    },
    {
     "name": "stderr",
     "output_type": "stream",
     "text": [
      "100%|██████████| 476/476 [03:34<00:00,  2.21it/s]\n"
     ]
    },
    {
     "name": "stdout",
     "output_type": "stream",
     "text": [
      "{'val_loss': 1.379971924817787, 'val_accuracy': 0.6544378698224852, 'precision': 0.6582762543499605, 'recall': 0.6544378698224852, 'f1-score': 0.6386212250138619, 'macro_f1-score': 0.2841825879220628, 'balanced_accuracy': 0.2913688950744932, 'mcc': 0.542618498649688, 'train_loss': 0.8632326950201717}\n",
      "Epoch 15/20\n"
     ]
    },
    {
     "name": "stderr",
     "output_type": "stream",
     "text": [
      "100%|██████████| 476/476 [03:34<00:00,  2.22it/s]\n"
     ]
    },
    {
     "name": "stdout",
     "output_type": "stream",
     "text": [
      "{'val_loss': 1.408039649702468, 'val_accuracy': 0.6568047337278107, 'precision': 0.6411295668140982, 'recall': 0.6568047337278107, 'f1-score': 0.6387393719576268, 'macro_f1-score': 0.28146479937492674, 'balanced_accuracy': 0.28366506306798295, 'mcc': 0.5421408394757847, 'train_loss': 0.8060986013503886}\n",
      "Epoch 16/20\n"
     ]
    },
    {
     "name": "stderr",
     "output_type": "stream",
     "text": [
      "100%|██████████| 476/476 [03:34<00:00,  2.22it/s]\n"
     ]
    },
    {
     "name": "stdout",
     "output_type": "stream",
     "text": [
      "{'val_loss': 1.4489634666802749, 'val_accuracy': 0.6461538461538462, 'precision': 0.5927346699879145, 'recall': 0.6461538461538462, 'f1-score': 0.6096813251559433, 'macro_f1-score': 0.22914032854605962, 'balanced_accuracy': 0.2494515206230623, 'mcc': 0.526867630944596, 'train_loss': 0.7701848689153665}\n",
      "Epoch 17/20\n"
     ]
    },
    {
     "name": "stderr",
     "output_type": "stream",
     "text": [
      "100%|██████████| 476/476 [03:35<00:00,  2.21it/s]\n"
     ]
    },
    {
     "name": "stdout",
     "output_type": "stream",
     "text": [
      "{'val_loss': 1.471402475294077, 'val_accuracy': 0.6650887573964497, 'precision': 0.6443986329124206, 'recall': 0.6650887573964497, 'f1-score': 0.6398223853826885, 'macro_f1-score': 0.2846203043567811, 'balanced_accuracy': 0.28859591541388696, 'mcc': 0.5507449129070223, 'train_loss': 0.7739828877589282}\n",
      "Epoch 18/20\n"
     ]
    },
    {
     "name": "stderr",
     "output_type": "stream",
     "text": [
      "100%|██████████| 476/476 [03:35<00:00,  2.21it/s]\n"
     ]
    },
    {
     "name": "stdout",
     "output_type": "stream",
     "text": [
      "{'val_loss': 1.3958263633386143, 'val_accuracy': 0.6804733727810651, 'precision': 0.6435791264041595, 'recall': 0.6804733727810651, 'f1-score': 0.6496324739318186, 'macro_f1-score': 0.2953765784910476, 'balanced_accuracy': 0.29331503115366786, 'mcc': 0.5719650815445049, 'train_loss': 0.707203424574823}\n",
      "Epoch 19/20\n"
     ]
    },
    {
     "name": "stderr",
     "output_type": "stream",
     "text": [
      "100%|██████████| 476/476 [03:49<00:00,  2.08it/s]\n"
     ]
    },
    {
     "name": "stdout",
     "output_type": "stream",
     "text": [
      "{'val_loss': 1.4696395172263093, 'val_accuracy': 0.6627218934911243, 'precision': 0.6310220941709614, 'recall': 0.6627218934911243, 'f1-score': 0.6346054023548338, 'macro_f1-score': 0.2825572302620149, 'balanced_accuracy': 0.2869168949421353, 'mcc': 0.5512347650282943, 'train_loss': 0.6826717129305881}\n",
      "Epoch 20/20\n"
     ]
    },
    {
     "name": "stderr",
     "output_type": "stream",
     "text": [
      "100%|██████████| 476/476 [04:13<00:00,  1.88it/s]\n",
      "D:\\Anaconda3\\envs\\cuda\\Lib\\site-packages\\sklearn\\metrics\\_classification.py:2458: UserWarning: y_pred contains classes not in y_true\n",
      "  warnings.warn(\"y_pred contains classes not in y_true\")\n"
     ]
    },
    {
     "name": "stdout",
     "output_type": "stream",
     "text": [
      "{'val_loss': 1.4316419087490946, 'val_accuracy': 0.6627218934911243, 'precision': 0.6570945748847766, 'recall': 0.6627218934911243, 'f1-score': 0.6419362811355069, 'macro_f1-score': 0.2940445772850099, 'balanced_accuracy': 0.311494925421055, 'mcc': 0.5607859065016456, 'train_loss': 0.6866934824766231}\n",
      "\n",
      "[Fold 10]\n",
      "model is roberta-base lstm\n"
     ]
    },
    {
     "name": "stderr",
     "output_type": "stream",
     "text": [
      "Some weights of RobertaModel were not initialized from the model checkpoint at roberta-base and are newly initialized: ['roberta.pooler.dense.bias', 'roberta.pooler.dense.weight']\n",
      "You should probably TRAIN this model on a down-stream task to be able to use it for predictions and inference.\n"
     ]
    },
    {
     "name": "stdout",
     "output_type": "stream",
     "text": [
      "Epoch 1/20\n"
     ]
    },
    {
     "name": "stderr",
     "output_type": "stream",
     "text": [
      "100%|██████████| 476/476 [04:10<00:00,  1.90it/s]\n"
     ]
    },
    {
     "name": "stdout",
     "output_type": "stream",
     "text": [
      "{'val_loss': 1.801386631322357, 'val_accuracy': 0.5893491124260355, 'precision': 0.39255692216653165, 'recall': 0.5893491124260355, 'f1-score': 0.4611429876323345, 'macro_f1-score': 0.06607039168844893, 'balanced_accuracy': 0.07636341480691346, 'mcc': 0.3959425405216688, 'train_loss': 2.1154373807190847}\n",
      "Epoch 2/20\n"
     ]
    },
    {
     "name": "stderr",
     "output_type": "stream",
     "text": [
      "100%|██████████| 476/476 [04:21<00:00,  1.82it/s]\n"
     ]
    },
    {
     "name": "stdout",
     "output_type": "stream",
     "text": [
      "{'val_loss': 1.583031547519396, 'val_accuracy': 0.6023668639053255, 'precision': 0.45221440199907376, 'recall': 0.6023668639053255, 'f1-score': 0.49048043842284567, 'macro_f1-score': 0.09501480372626593, 'balanced_accuracy': 0.10604159935980043, 'mcc': 0.42830037261130516, 'train_loss': 1.7056099291609115}\n",
      "Epoch 3/20\n"
     ]
    },
    {
     "name": "stderr",
     "output_type": "stream",
     "text": [
      "100%|██████████| 476/476 [04:20<00:00,  1.83it/s]\n"
     ]
    },
    {
     "name": "stdout",
     "output_type": "stream",
     "text": [
      "{'val_loss': 1.4652712626277276, 'val_accuracy': 0.621301775147929, 'precision': 0.48497612050995115, 'recall': 0.621301775147929, 'f1-score': 0.5347322040520699, 'macro_f1-score': 0.1379313961438898, 'balanced_accuracy': 0.14952158937303503, 'mcc': 0.46870696942197265, 'train_loss': 1.5214793464841962}\n",
      "Epoch 4/20\n"
     ]
    },
    {
     "name": "stderr",
     "output_type": "stream",
     "text": [
      "100%|██████████| 476/476 [04:24<00:00,  1.80it/s]\n"
     ]
    },
    {
     "name": "stdout",
     "output_type": "stream",
     "text": [
      "{'val_loss': 1.4047673805704657, 'val_accuracy': 0.6248520710059171, 'precision': 0.5501078189229336, 'recall': 0.6248520710059171, 'f1-score': 0.5583746296596052, 'macro_f1-score': 0.16461537652316652, 'balanced_accuracy': 0.17290188935028752, 'mcc': 0.4799297657638976, 'train_loss': 1.3939277471489264}\n",
      "Epoch 5/20\n"
     ]
    },
    {
     "name": "stderr",
     "output_type": "stream",
     "text": [
      "100%|██████████| 476/476 [04:29<00:00,  1.77it/s]\n"
     ]
    },
    {
     "name": "stdout",
     "output_type": "stream",
     "text": [
      "{'val_loss': 1.4750888718748993, 'val_accuracy': 0.6082840236686391, 'precision': 0.5635041816168885, 'recall': 0.6082840236686391, 'f1-score': 0.5726768800458584, 'macro_f1-score': 0.17247844027115705, 'balanced_accuracy': 0.19109722572596838, 'mcc': 0.47532931764047565, 'train_loss': 1.300239269973851}\n",
      "Epoch 6/20\n"
     ]
    },
    {
     "name": "stderr",
     "output_type": "stream",
     "text": [
      "100%|██████████| 476/476 [04:18<00:00,  1.84it/s]\n"
     ]
    },
    {
     "name": "stdout",
     "output_type": "stream",
     "text": [
      "{'val_loss': 1.3971340167072583, 'val_accuracy': 0.6201183431952663, 'precision': 0.603410061190061, 'recall': 0.6201183431952663, 'f1-score': 0.5940370121611216, 'macro_f1-score': 0.20406756100763698, 'balanced_accuracy': 0.2362073822806322, 'mcc': 0.5091583943033803, 'train_loss': 1.2058394658966225}\n",
      "Epoch 7/20\n"
     ]
    },
    {
     "name": "stderr",
     "output_type": "stream",
     "text": [
      "100%|██████████| 476/476 [04:13<00:00,  1.88it/s]\n"
     ]
    },
    {
     "name": "stdout",
     "output_type": "stream",
     "text": [
      "{'val_loss': 1.4710267439203442, 'val_accuracy': 0.6236686390532544, 'precision': 0.5655500113022912, 'recall': 0.6236686390532544, 'f1-score': 0.5670802357042282, 'macro_f1-score': 0.17714504575065496, 'balanced_accuracy': 0.17341756770714628, 'mcc': 0.48191715828282017, 'train_loss': 1.082748827814054}\n",
      "Epoch 8/20\n"
     ]
    },
    {
     "name": "stderr",
     "output_type": "stream",
     "text": [
      "100%|██████████| 476/476 [04:47<00:00,  1.65it/s]\n"
     ]
    },
    {
     "name": "stdout",
     "output_type": "stream",
     "text": [
      "{'val_loss': 1.4131882629304562, 'val_accuracy': 0.6437869822485207, 'precision': 0.6155519165877221, 'recall': 0.6437869822485207, 'f1-score': 0.6118700855662217, 'macro_f1-score': 0.25058599396041903, 'balanced_accuracy': 0.2560802612371735, 'mcc': 0.5229283983970909, 'train_loss': 1.0134567176657063}\n",
      "Epoch 9/20\n"
     ]
    },
    {
     "name": "stderr",
     "output_type": "stream",
     "text": [
      "100%|██████████| 476/476 [05:12<00:00,  1.52it/s]\n"
     ]
    },
    {
     "name": "stdout",
     "output_type": "stream",
     "text": [
      "{'val_loss': 1.3438020601587475, 'val_accuracy': 0.6544378698224852, 'precision': 0.6098855732505647, 'recall': 0.6544378698224852, 'f1-score': 0.6227668543490493, 'macro_f1-score': 0.2390856141570974, 'balanced_accuracy': 0.252534178692275, 'mcc': 0.5382898210229954, 'train_loss': 0.9441013900923128}\n",
      "Epoch 10/20\n"
     ]
    },
    {
     "name": "stderr",
     "output_type": "stream",
     "text": [
      "100%|██████████| 476/476 [05:40<00:00,  1.40it/s]\n"
     ]
    },
    {
     "name": "stdout",
     "output_type": "stream",
     "text": [
      "{'val_loss': 1.36577962310809, 'val_accuracy': 0.6485207100591716, 'precision': 0.633051250674408, 'recall': 0.6485207100591716, 'f1-score': 0.6211671484748228, 'macro_f1-score': 0.2536479273604539, 'balanced_accuracy': 0.26366479638906376, 'mcc': 0.5340617084377401, 'train_loss': 0.8820270883435962}\n",
      "Epoch 11/20\n"
     ]
    },
    {
     "name": "stderr",
     "output_type": "stream",
     "text": [
      "100%|██████████| 476/476 [06:32<00:00,  1.21it/s]\n"
     ]
    },
    {
     "name": "stdout",
     "output_type": "stream",
     "text": [
      "{'val_loss': 1.3271532958408572, 'val_accuracy': 0.6556213017751479, 'precision': 0.6452819994246026, 'recall': 0.6556213017751479, 'f1-score': 0.6265204404223135, 'macro_f1-score': 0.278979601861234, 'balanced_accuracy': 0.2861864770042659, 'mcc': 0.5414941773128249, 'train_loss': 0.8275144895335206}\n",
      "Epoch 12/20\n"
     ]
    },
    {
     "name": "stderr",
     "output_type": "stream",
     "text": [
      "100%|██████████| 476/476 [06:19<00:00,  1.25it/s]\n"
     ]
    },
    {
     "name": "stdout",
     "output_type": "stream",
     "text": [
      "{'val_loss': 1.5251540001833215, 'val_accuracy': 0.6414201183431952, 'precision': 0.6367318708537208, 'recall': 0.6414201183431952, 'f1-score': 0.624072711729228, 'macro_f1-score': 0.2783309366395358, 'balanced_accuracy': 0.2841925669495037, 'mcc': 0.5251405787782696, 'train_loss': 0.7536790046308722}\n",
      "Epoch 13/20\n"
     ]
    },
    {
     "name": "stderr",
     "output_type": "stream",
     "text": [
      "100%|██████████| 476/476 [03:59<00:00,  1.98it/s]\n"
     ]
    },
    {
     "name": "stdout",
     "output_type": "stream",
     "text": [
      "{'val_loss': 1.3857358047422372, 'val_accuracy': 0.6473372781065089, 'precision': 0.6279737680039371, 'recall': 0.6473372781065089, 'f1-score': 0.6250137813522094, 'macro_f1-score': 0.25940448658065557, 'balanced_accuracy': 0.2829770499519603, 'mcc': 0.5356825910764625, 'train_loss': 0.7221703965749059}\n",
      "Epoch 14/20\n"
     ]
    },
    {
     "name": "stderr",
     "output_type": "stream",
     "text": [
      "100%|██████████| 476/476 [03:34<00:00,  2.22it/s]\n"
     ]
    },
    {
     "name": "stdout",
     "output_type": "stream",
     "text": [
      "{'val_loss': 1.4261778233186253, 'val_accuracy': 0.6568047337278107, 'precision': 0.6285649282354271, 'recall': 0.6568047337278107, 'f1-score': 0.6297769011955507, 'macro_f1-score': 0.26135892524374293, 'balanced_accuracy': 0.27949470915838126, 'mcc': 0.5428585431171045, 'train_loss': 0.7083828991216397}\n",
      "Early stopping.\n",
      "Total time: 45659.52s\n"
     ]
    }
   ],
   "source": [
    "model_list = [\"roberta-base\"]\n",
    "hybrid_list = [\"lstm\"]\n",
    "resample_list = [\"none\"]\n",
    "\n",
    "for model_name in model_list:\n",
    "    for hybrid_type in hybrid_list:\n",
    "        for resample_method in resample_list:\n",
    "            results = run_kfold_experiment(\n",
    "                X=messages, y=labels, model_name=model_name, hybrid_type=hybrid_type, resample_method=resample_method,\n",
    "                kfold=KFOLD_SPLIT, seed=SEED, epochs=EPOCHS, patience=PATIENCE, max_length=MAX_LENGTH, \n",
    "                batch_size=BATCH_SIZE, lr=LR, weight_decay=WEIGHT_DECAY\n",
    "            )"
   ]
  },
  {
   "cell_type": "code",
   "execution_count": 7,
   "id": "d799ebb4-be3b-4b29-9238-6c2a2f8256ae",
   "metadata": {},
   "outputs": [
    {
     "data": {
      "text/plain": [
       "[{'val_loss': 1.5260589561372433,\n",
       "  'val_accuracy': 0.6418439716312057,\n",
       "  'precision': 0.6408020261228208,\n",
       "  'recall': 0.6418439716312057,\n",
       "  'f1-score': 0.631877575617118,\n",
       "  'macro_f1-score': 0.29074613775433417,\n",
       "  'balanced_accuracy': 0.3204790623266889,\n",
       "  'mcc': 0.5405407395110426,\n",
       "  'train_loss': 0.7320227756031922},\n",
       " {'val_loss': 1.4775422446007997,\n",
       "  'val_accuracy': 0.6371158392434988,\n",
       "  'precision': 0.6122808442180027,\n",
       "  'recall': 0.6371158392434988,\n",
       "  'f1-score': 0.6138126522707276,\n",
       "  'macro_f1-score': 0.2533784160595256,\n",
       "  'balanced_accuracy': 0.28463362672868825,\n",
       "  'mcc': 0.5214312713707157,\n",
       "  'train_loss': 0.9645042611646051},\n",
       " {'val_loss': 1.4662686451426092,\n",
       "  'val_accuracy': 0.6749408983451537,\n",
       "  'precision': 0.6491808426733804,\n",
       "  'recall': 0.6749408983451537,\n",
       "  'f1-score': 0.650044756775349,\n",
       "  'macro_f1-score': 0.3464144964422962,\n",
       "  'balanced_accuracy': 0.3385415809512499,\n",
       "  'mcc': 0.5643315932656696,\n",
       "  'train_loss': 0.588348758794336},\n",
       " {'val_loss': 1.5858801164717045,\n",
       "  'val_accuracy': 0.6560283687943262,\n",
       "  'precision': 0.6196727599887654,\n",
       "  'recall': 0.6560283687943262,\n",
       "  'f1-score': 0.6242226147325726,\n",
       "  'macro_f1-score': 0.3171508485963918,\n",
       "  'balanced_accuracy': 0.30645620380120464,\n",
       "  'mcc': 0.5297245690233593,\n",
       "  'train_loss': 0.7773731313802364},\n",
       " {'val_loss': 1.4518033946460147,\n",
       "  'val_accuracy': 0.6402366863905326,\n",
       "  'precision': 0.6338304822429673,\n",
       "  'recall': 0.6402366863905326,\n",
       "  'f1-score': 0.6266746617682912,\n",
       "  'macro_f1-score': 0.3027503663980467,\n",
       "  'balanced_accuracy': 0.31029541088411017,\n",
       "  'mcc': 0.5323248763545411,\n",
       "  'train_loss': 0.612287790718011},\n",
       " {'val_loss': 1.4706837293112054,\n",
       "  'val_accuracy': 0.6402366863905326,\n",
       "  'precision': 0.6372370219216636,\n",
       "  'recall': 0.6402366863905326,\n",
       "  'f1-score': 0.6262727004422826,\n",
       "  'macro_f1-score': 0.2759041075664477,\n",
       "  'balanced_accuracy': 0.2867951056433701,\n",
       "  'mcc': 0.536902360704728,\n",
       "  'train_loss': 0.7129435500740504},\n",
       " {'val_loss': 1.4623065208489041,\n",
       "  'val_accuracy': 0.6520710059171597,\n",
       "  'precision': 0.6797373561537238,\n",
       "  'recall': 0.6520710059171597,\n",
       "  'f1-score': 0.6521740455254852,\n",
       "  'macro_f1-score': 0.32757404225208175,\n",
       "  'balanced_accuracy': 0.36416910938576513,\n",
       "  'mcc': 0.5600629404791048,\n",
       "  'train_loss': 0.6021572118311995},\n",
       " {'val_loss': 1.338011086549399,\n",
       "  'val_accuracy': 0.659171597633136,\n",
       "  'precision': 0.6455663499370167,\n",
       "  'recall': 0.659171597633136,\n",
       "  'f1-score': 0.6408833288865312,\n",
       "  'macro_f1-score': 0.35482730301203974,\n",
       "  'balanced_accuracy': 0.37308129442963106,\n",
       "  'mcc': 0.5597376727568201,\n",
       "  'train_loss': 0.7422843587373485},\n",
       " {'val_loss': 1.3958263633386143,\n",
       "  'val_accuracy': 0.6804733727810651,\n",
       "  'precision': 0.6435791264041595,\n",
       "  'recall': 0.6804733727810651,\n",
       "  'f1-score': 0.6496324739318186,\n",
       "  'macro_f1-score': 0.2953765784910476,\n",
       "  'balanced_accuracy': 0.29331503115366786,\n",
       "  'mcc': 0.5719650815445049,\n",
       "  'train_loss': 0.707203424574823},\n",
       " {'val_loss': 1.3271532958408572,\n",
       "  'val_accuracy': 0.6556213017751479,\n",
       "  'precision': 0.6452819994246026,\n",
       "  'recall': 0.6556213017751479,\n",
       "  'f1-score': 0.6265204404223135,\n",
       "  'macro_f1-score': 0.278979601861234,\n",
       "  'balanced_accuracy': 0.2861864770042659,\n",
       "  'mcc': 0.5414941773128249,\n",
       "  'train_loss': 0.8275144895335206}]"
      ]
     },
     "execution_count": 7,
     "metadata": {},
     "output_type": "execute_result"
    }
   ],
   "source": [
    "results"
   ]
  },
  {
   "cell_type": "code",
   "execution_count": 13,
   "id": "8655ffbf-7a90-44e0-87b1-66eaffae9b36",
   "metadata": {},
   "outputs": [
    {
     "name": "stdout",
     "output_type": "stream",
     "text": [
      "\n",
      "=== ['roberta-base'] ['roberta-base'] ['roberta-base'] Final 10-fold Cross-Validation Results ===\n",
      "val_loss: 1.4502\n",
      "val_accuracy: 0.6538\n",
      "precision: 0.6407\n",
      "recall: 0.6538\n",
      "f1-score: 0.6342\n",
      "macro_f1-score: 0.3043\n",
      "balanced_accuracy: 0.3164\n",
      "mcc: 0.5459\n",
      "train_loss: 0.7267\n"
     ]
    }
   ],
   "source": [
    "import numpy as np\n",
    "final_metrics = {k: np.mean([f[k] for f in results]) for k in results[0].keys()}\n",
    "print(f\"\\n=== {model_list} {model_list} {model_list} Final 10-fold Cross-Validation Results ===\")\n",
    "for metric, value in final_metrics.items():\n",
    "    print(f\"{metric}: {value:.4f}\")"
   ]
  },
  {
   "cell_type": "code",
   "execution_count": null,
   "id": "74f837a8-c744-4845-9763-559b4bf6ff1b",
   "metadata": {},
   "outputs": [],
   "source": []
  }
 ],
 "metadata": {
  "kernelspec": {
   "display_name": "Python 3 (ipykernel)",
   "language": "python",
   "name": "python3"
  },
  "language_info": {
   "codemirror_mode": {
    "name": "ipython",
    "version": 3
   },
   "file_extension": ".py",
   "mimetype": "text/x-python",
   "name": "python",
   "nbconvert_exporter": "python",
   "pygments_lexer": "ipython3",
   "version": "3.11.9"
  }
 },
 "nbformat": 4,
 "nbformat_minor": 5
}
