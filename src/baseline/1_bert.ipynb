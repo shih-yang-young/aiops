{
 "cells": [
  {
   "cell_type": "code",
   "execution_count": 1,
   "id": "2e76aa66-729a-4bf9-98b9-61d8114e9f3a",
   "metadata": {},
   "outputs": [
    {
     "data": {
      "text/html": [
       "<div>\n",
       "<style scoped>\n",
       "    .dataframe tbody tr th:only-of-type {\n",
       "        vertical-align: middle;\n",
       "    }\n",
       "\n",
       "    .dataframe tbody tr th {\n",
       "        vertical-align: top;\n",
       "    }\n",
       "\n",
       "    .dataframe thead th {\n",
       "        text-align: right;\n",
       "    }\n",
       "</style>\n",
       "<table border=\"1\" class=\"dataframe\">\n",
       "  <thead>\n",
       "    <tr style=\"text-align: right;\">\n",
       "      <th></th>\n",
       "      <th>Inbound Message</th>\n",
       "      <th>Label</th>\n",
       "    </tr>\n",
       "  </thead>\n",
       "  <tbody>\n",
       "    <tr>\n",
       "      <th>0</th>\n",
       "      <td>login issue verified user details employee man...</td>\n",
       "      <td>0</td>\n",
       "    </tr>\n",
       "    <tr>\n",
       "      <th>1</th>\n",
       "      <td>outlook hello team meetings skype meetings etc...</td>\n",
       "      <td>0</td>\n",
       "    </tr>\n",
       "    <tr>\n",
       "      <th>2</th>\n",
       "      <td>cant log vpn cannot log vpn best</td>\n",
       "      <td>0</td>\n",
       "    </tr>\n",
       "    <tr>\n",
       "      <th>3</th>\n",
       "      <td>unable access tool page unable access tool page</td>\n",
       "      <td>0</td>\n",
       "    </tr>\n",
       "    <tr>\n",
       "      <th>4</th>\n",
       "      <td>skype error skype error</td>\n",
       "      <td>0</td>\n",
       "    </tr>\n",
       "    <tr>\n",
       "      <th>...</th>\n",
       "      <td>...</td>\n",
       "      <td>...</td>\n",
       "    </tr>\n",
       "    <tr>\n",
       "      <th>8449</th>\n",
       "      <td>emails coming mail good afternoon receiving em...</td>\n",
       "      <td>22</td>\n",
       "    </tr>\n",
       "    <tr>\n",
       "      <th>8450</th>\n",
       "      <td>telephony software issue telephony software issue</td>\n",
       "      <td>0</td>\n",
       "    </tr>\n",
       "    <tr>\n",
       "      <th>8451</th>\n",
       "      <td>vip windows password reset tifpdchb pedxruyf v...</td>\n",
       "      <td>0</td>\n",
       "    </tr>\n",
       "    <tr>\n",
       "      <th>8452</th>\n",
       "      <td>machine est funcionando unable access machine ...</td>\n",
       "      <td>44</td>\n",
       "    </tr>\n",
       "    <tr>\n",
       "      <th>8453</th>\n",
       "      <td>mehreren lassen sich verschiedene prgramdntyme...</td>\n",
       "      <td>49</td>\n",
       "    </tr>\n",
       "  </tbody>\n",
       "</table>\n",
       "<p>8454 rows × 2 columns</p>\n",
       "</div>"
      ],
      "text/plain": [
       "                                        Inbound Message  Label\n",
       "0     login issue verified user details employee man...      0\n",
       "1     outlook hello team meetings skype meetings etc...      0\n",
       "2                      cant log vpn cannot log vpn best      0\n",
       "3       unable access tool page unable access tool page      0\n",
       "4                               skype error skype error      0\n",
       "...                                                 ...    ...\n",
       "8449  emails coming mail good afternoon receiving em...     22\n",
       "8450  telephony software issue telephony software issue      0\n",
       "8451  vip windows password reset tifpdchb pedxruyf v...      0\n",
       "8452  machine est funcionando unable access machine ...     44\n",
       "8453  mehreren lassen sich verschiedene prgramdntyme...     49\n",
       "\n",
       "[8454 rows x 2 columns]"
      ]
     },
     "execution_count": 1,
     "metadata": {},
     "output_type": "execute_result"
    }
   ],
   "source": [
    "import pandas as pd\n",
    "data_path = \"../../data/open_source_8454_combine_short_description.csv\"  # 替換為你的檔案路徑\n",
    "df = pd.read_csv(data_path)\n",
    "# df_label_0 = df[df[\"Label\"] == 0]\n",
    "# df_label_0_to_drop = df_label_0.sample(n=3000, random_state=42)\n",
    "# df = df.drop(df_label_0_to_drop.index)\n",
    "df"
   ]
  },
  {
   "cell_type": "markdown",
   "id": "e79be804-d1e3-463a-824f-d4765544e493",
   "metadata": {},
   "source": [
    "# 十折驗證法"
   ]
  },
  {
   "cell_type": "code",
   "execution_count": 2,
   "id": "7e6a5029-3898-4bab-8d6c-bfd1a3694153",
   "metadata": {},
   "outputs": [
    {
     "name": "stdout",
     "output_type": "stream",
     "text": [
      "Using device: cuda\n",
      "CUDA Available: True\n",
      "CUDA Device: NVIDIA GeForce RTX 3050 6GB Laptop GPU\n",
      "Current GPU Memory Allocated: 0.0 GB\n",
      "Current GPU Memory Cached: 0.0 GB\n"
     ]
    }
   ],
   "source": [
    "import torch\n",
    "device = torch.device('cuda') if torch.cuda.is_available() else torch.device('cpu')\n",
    "print(f\"Using device: {device}\") \n",
    "print(f\"CUDA Available: {torch.cuda.is_available()}\")\n",
    "print(f\"CUDA Device: {torch.cuda.get_device_name(0)}\")\n",
    "print(f\"Current GPU Memory Allocated: {torch.cuda.memory_allocated() / 1e9} GB\")\n",
    "print(f\"Current GPU Memory Cached: {torch.cuda.memory_reserved() / 1e9} GB\")"
   ]
  },
  {
   "cell_type": "code",
   "execution_count": 3,
   "id": "833a0227-7775-4659-a98c-48c3fbdc9db9",
   "metadata": {},
   "outputs": [],
   "source": [
    "from torch.utils.data import Dataset\n",
    "class CustomDataset(Dataset):\n",
    "    def __init__(self, messages, labels, tokenizer, max_length):\n",
    "        self.messages = messages\n",
    "        self.labels = labels\n",
    "        self.tokenizer = tokenizer\n",
    "        self.max_length = max_length\n",
    "\n",
    "    def __len__(self):\n",
    "        return len(self.messages)\n",
    "\n",
    "    def __getitem__(self, idx):\n",
    "        message = str(self.messages[idx])\n",
    "        label = self.labels[idx]\n",
    "        \n",
    "        encoding = self.tokenizer.encode_plus(\n",
    "            message,\n",
    "            max_length=self.max_length,\n",
    "            add_special_tokens=True,\n",
    "            padding='max_length',\n",
    "            truncation=True,\n",
    "            return_attention_mask=True,\n",
    "            return_tensors='pt'\n",
    "        )\n",
    "        \n",
    "        return {\n",
    "            'input_ids': encoding['input_ids'].flatten(),\n",
    "            'attention_mask': encoding['attention_mask'].flatten(),\n",
    "            'labels': torch.tensor(label, dtype=torch.long)\n",
    "        }"
   ]
  },
  {
   "cell_type": "code",
   "execution_count": 4,
   "id": "985bf187-a1b5-4882-9e52-2cbc0188e8a6",
   "metadata": {},
   "outputs": [],
   "source": [
    "# 定義訓練與評估函數\n",
    "def train_epoch(model, dataloader, optimizer, criterion):\n",
    "    model.train()\n",
    "    total_loss = 0\n",
    "\n",
    "    for batch in tqdm(dataloader):\n",
    "        optimizer.zero_grad()\n",
    "\n",
    "        input_ids = batch['input_ids'].to(device)\n",
    "        attention_mask = batch['attention_mask'].to(device)\n",
    "        labels = batch['labels'].to(device)\n",
    "\n",
    "        outputs = model(input_ids=input_ids, attention_mask=attention_mask, labels=labels)\n",
    "        loss = outputs.loss\n",
    "        total_loss += loss.item()\n",
    "\n",
    "        loss.backward()\n",
    "        optimizer.step()\n",
    "    \n",
    "    return total_loss / len(dataloader)"
   ]
  },
  {
   "cell_type": "code",
   "execution_count": 5,
   "id": "7dceb8a1-edf1-42fe-ac48-dc84ed4709cf",
   "metadata": {},
   "outputs": [],
   "source": [
    "from sklearn.metrics import precision_score, recall_score, f1_score, balanced_accuracy_score, matthews_corrcoef\n",
    "from sklearn.preprocessing import label_binarize\n",
    "import numpy as np\n",
    "import torch\n",
    "\n",
    "def eval_model(model, dataloader, criterion, num_labels):\n",
    "    model.eval()\n",
    "    total_loss = 0\n",
    "    all_labels = []\n",
    "    all_preds = []\n",
    "    all_probs = []\n",
    "    \n",
    "    with torch.no_grad():\n",
    "        for batch in dataloader:\n",
    "            input_ids = batch['input_ids'].to(device)\n",
    "            attention_mask = batch['attention_mask'].to(device)\n",
    "            labels = batch['labels'].to(device)\n",
    "\n",
    "            outputs = model(input_ids=input_ids, attention_mask=attention_mask)\n",
    "            logits = outputs.logits\n",
    "            loss = criterion(logits, labels)\n",
    "            total_loss += loss.item()\n",
    "\n",
    "            probs = torch.softmax(logits, dim=1)\n",
    "            _, preds = torch.max(logits, dim=1)\n",
    "\n",
    "            all_labels.extend(labels.cpu().numpy())\n",
    "            all_preds.extend(preds.cpu().numpy())\n",
    "            all_probs.extend(probs.cpu().numpy())\n",
    "\n",
    "    val_loss = total_loss / len(dataloader)\n",
    "    val_accuracy = np.mean(np.array(all_preds) == np.array(all_labels))\n",
    "    precision = precision_score(all_labels, all_preds, average='weighted', zero_division=0)\n",
    "    recall = recall_score(all_labels, all_preds, average='weighted', zero_division=0)\n",
    "    f1 = f1_score(all_labels, all_preds, average='weighted', zero_division=0)\n",
    "    macro_f1 = f1_score(all_labels, all_preds, average='macro', zero_division=0)\n",
    "    balanced_acc = balanced_accuracy_score(all_labels, all_preds)\n",
    "    mcc = matthews_corrcoef(all_labels, all_preds)\n",
    "\n",
    "    return {\n",
    "        \"val_loss\": val_loss,\n",
    "        \"val_accuracy\": val_accuracy,\n",
    "        \"precision\": precision,\n",
    "        \"recall\": recall,\n",
    "        \"f1-score\": f1,\n",
    "        \"macro_f1-score\": macro_f1,\n",
    "        \"balanced_accuracy\": balanced_acc,\n",
    "        \"mcc\": mcc\n",
    "    }"
   ]
  },
  {
   "cell_type": "code",
   "execution_count": 6,
   "id": "0217a72c-db4d-4875-8a00-33f2dae9de5e",
   "metadata": {},
   "outputs": [],
   "source": [
    "from transformers import BertTokenizer, BertForSequenceClassification\n",
    "from sklearn.model_selection import StratifiedKFold\n",
    "# 設定參數\n",
    "MAX_LENGTH = 128\n",
    "BATCH_SIZE = 16\n",
    "EPOCHS = 20\n",
    "\n",
    "# 初始化 BERT 的 tokenizer\n",
    "tokenizer = BertTokenizer.from_pretrained('bert-base-uncased')\n",
    "\n",
    "# 初始化數據\n",
    "messages = df['Inbound Message'].tolist()\n",
    "labels = df['Label'].tolist()\n",
    "\n",
    "# KFold 初始化\n",
    "skf = StratifiedKFold(n_splits=10, shuffle=True, random_state=42)"
   ]
  },
  {
   "cell_type": "code",
   "execution_count": 7,
   "id": "ee99c1b8-2fc7-483a-8cb6-d375039c6cb1",
   "metadata": {
    "scrolled": true
   },
   "outputs": [
    {
     "name": "stderr",
     "output_type": "stream",
     "text": [
      "D:\\Anaconda3\\envs\\cuda\\Lib\\site-packages\\sklearn\\model_selection\\_split.py:737: UserWarning: The least populated class in y has only 7 members, which is less than n_splits=10.\n",
      "  warnings.warn(\n"
     ]
    },
    {
     "name": "stdout",
     "output_type": "stream",
     "text": [
      "Fold 1\n",
      "Training set label distribution: {0: 3576, 1: 28, 2: 126, 3: 27, 4: 231, 5: 130, 6: 107, 7: 35, 8: 76, 9: 73, 10: 79, 11: 194, 12: 217, 13: 32, 14: 26, 15: 28, 16: 23, 17: 260, 18: 104, 19: 51, 20: 16, 21: 39, 22: 88, 23: 180, 24: 18, 25: 56, 26: 97, 27: 55, 28: 13, 29: 15, 30: 17, 31: 90, 32: 40, 33: 36, 34: 34, 35: 13, 36: 32, 37: 24, 38: 7, 39: 116, 40: 13, 41: 9, 42: 166, 43: 18, 44: 22, 45: 10, 46: 61, 47: 595, 48: 227, 49: 78}\n",
      "Validation set label distribution: {0: 398, 1: 3, 2: 14, 3: 3, 4: 26, 5: 15, 6: 11, 7: 4, 8: 9, 9: 8, 10: 9, 11: 21, 12: 24, 13: 4, 14: 3, 15: 3, 16: 2, 17: 29, 18: 12, 19: 5, 20: 2, 21: 5, 22: 9, 23: 20, 24: 2, 25: 7, 26: 10, 27: 6, 28: 2, 29: 1, 30: 2, 31: 10, 32: 5, 33: 4, 34: 3, 35: 2, 36: 3, 37: 3, 39: 13, 40: 1, 41: 2, 42: 18, 43: 2, 44: 3, 45: 1, 46: 7, 47: 66, 48: 25, 49: 9}\n"
     ]
    },
    {
     "name": "stderr",
     "output_type": "stream",
     "text": [
      "Some weights of BertForSequenceClassification were not initialized from the model checkpoint at bert-base-uncased and are newly initialized: ['classifier.bias', 'classifier.weight']\n",
      "You should probably TRAIN this model on a down-stream task to be able to use it for predictions and inference.\n"
     ]
    },
    {
     "name": "stdout",
     "output_type": "stream",
     "text": [
      "Epoch 1/20\n"
     ]
    },
    {
     "name": "stderr",
     "output_type": "stream",
     "text": [
      "100%|██████████| 476/476 [03:32<00:00,  2.24it/s]\n"
     ]
    },
    {
     "name": "stdout",
     "output_type": "stream",
     "text": [
      "{'val_loss': 1.6321785225058503, 'val_accuracy': 0.6028368794326241, 'precision': 0.4328665166474928, 'recall': 0.6028368794326241, 'f1-score': 0.4948230395545521, 'macro_f1-score': 0.09306044856329307, 'balanced_accuracy': 0.11512338438630702, 'mcc': 0.43320481903640495}\n",
      "Epoch 2/20\n"
     ]
    },
    {
     "name": "stderr",
     "output_type": "stream",
     "text": [
      "100%|██████████| 476/476 [03:34<00:00,  2.22it/s]\n"
     ]
    },
    {
     "name": "stdout",
     "output_type": "stream",
     "text": [
      "{'val_loss': 1.358664036921735, 'val_accuracy': 0.6560283687943262, 'precision': 0.5419735026875873, 'recall': 0.6560283687943262, 'f1-score': 0.5710076970893563, 'macro_f1-score': 0.1939390074241344, 'balanced_accuracy': 0.19119960556188137, 'mcc': 0.5145287641663983}\n",
      "Epoch 3/20\n"
     ]
    },
    {
     "name": "stderr",
     "output_type": "stream",
     "text": [
      "100%|██████████| 476/476 [03:34<00:00,  2.21it/s]\n"
     ]
    },
    {
     "name": "stdout",
     "output_type": "stream",
     "text": [
      "{'val_loss': 1.2752077528890573, 'val_accuracy': 0.6666666666666666, 'precision': 0.6068579236220795, 'recall': 0.6666666666666666, 'f1-score': 0.6193833871505707, 'macro_f1-score': 0.23655415943014252, 'balanced_accuracy': 0.23977751808692221, 'mcc': 0.5434212615937901}\n",
      "Epoch 4/20\n"
     ]
    },
    {
     "name": "stderr",
     "output_type": "stream",
     "text": [
      "100%|██████████| 476/476 [03:26<00:00,  2.31it/s]\n"
     ]
    },
    {
     "name": "stdout",
     "output_type": "stream",
     "text": [
      "{'val_loss': 1.2842721354286626, 'val_accuracy': 0.6725768321513003, 'precision': 0.6493354575993218, 'recall': 0.6725768321513003, 'f1-score': 0.6492461316112048, 'macro_f1-score': 0.3214321128710571, 'balanced_accuracy': 0.3382067624302373, 'mcc': 0.5662624120736964}\n",
      "Epoch 5/20\n"
     ]
    },
    {
     "name": "stderr",
     "output_type": "stream",
     "text": [
      "100%|██████████| 476/476 [03:22<00:00,  2.35it/s]\n"
     ]
    },
    {
     "name": "stdout",
     "output_type": "stream",
     "text": [
      "{'val_loss': 1.3211502033584523, 'val_accuracy': 0.6761229314420804, 'precision': 0.6530551400027682, 'recall': 0.6761229314420804, 'f1-score': 0.6519492585940263, 'macro_f1-score': 0.3219127769511635, 'balanced_accuracy': 0.32417207100024775, 'mcc': 0.5692723976448524}\n",
      "Epoch 6/20\n"
     ]
    },
    {
     "name": "stderr",
     "output_type": "stream",
     "text": [
      "100%|██████████| 476/476 [03:22<00:00,  2.35it/s]\n"
     ]
    },
    {
     "name": "stdout",
     "output_type": "stream",
     "text": [
      "{'val_loss': 1.4249355337529812, 'val_accuracy': 0.6583924349881797, 'precision': 0.6682778558579289, 'recall': 0.6583924349881797, 'f1-score': 0.6473489228225537, 'macro_f1-score': 0.37780544264754967, 'balanced_accuracy': 0.37386814340389396, 'mcc': 0.5449503712083558}\n",
      "Epoch 7/20\n"
     ]
    },
    {
     "name": "stderr",
     "output_type": "stream",
     "text": [
      "100%|██████████| 476/476 [03:21<00:00,  2.36it/s]\n"
     ]
    },
    {
     "name": "stdout",
     "output_type": "stream",
     "text": [
      "{'val_loss': 1.4614014439987686, 'val_accuracy': 0.6749408983451537, 'precision': 0.6638687439639287, 'recall': 0.6749408983451537, 'f1-score': 0.652784204511808, 'macro_f1-score': 0.3704320613866132, 'balanced_accuracy': 0.33780640873022205, 'mcc': 0.5583835212885675}\n",
      "Epoch 8/20\n"
     ]
    },
    {
     "name": "stderr",
     "output_type": "stream",
     "text": [
      "100%|██████████| 476/476 [03:21<00:00,  2.36it/s]\n"
     ]
    },
    {
     "name": "stdout",
     "output_type": "stream",
     "text": [
      "{'val_loss': 1.5334760861576728, 'val_accuracy': 0.6619385342789598, 'precision': 0.651933926640114, 'recall': 0.6619385342789598, 'f1-score': 0.6436586320762236, 'macro_f1-score': 0.35903314130044817, 'balanced_accuracy': 0.3599376542324038, 'mcc': 0.5513321515210685}\n",
      "Epoch 9/20\n"
     ]
    },
    {
     "name": "stderr",
     "output_type": "stream",
     "text": [
      "100%|██████████| 476/476 [03:21<00:00,  2.36it/s]\n"
     ]
    },
    {
     "name": "stdout",
     "output_type": "stream",
     "text": [
      "{'val_loss': 1.5655503351733369, 'val_accuracy': 0.6903073286052009, 'precision': 0.6586388110252683, 'recall': 0.6903073286052009, 'f1-score': 0.6575850735842985, 'macro_f1-score': 0.38221865040730685, 'balanced_accuracy': 0.36081437449502257, 'mcc': 0.5784287485079735}\n",
      "Epoch 10/20\n"
     ]
    },
    {
     "name": "stderr",
     "output_type": "stream",
     "text": [
      "100%|██████████| 476/476 [03:21<00:00,  2.36it/s]\n"
     ]
    },
    {
     "name": "stdout",
     "output_type": "stream",
     "text": [
      "{'val_loss': 1.588643954047617, 'val_accuracy': 0.693853427895981, 'precision': 0.6858757558490429, 'recall': 0.693853427895981, 'f1-score': 0.6695847883822091, 'macro_f1-score': 0.4230720073692817, 'balanced_accuracy': 0.3918297338821493, 'mcc': 0.5855461497622972}\n",
      "Epoch 11/20\n"
     ]
    },
    {
     "name": "stderr",
     "output_type": "stream",
     "text": [
      "100%|██████████| 476/476 [03:21<00:00,  2.36it/s]\n"
     ]
    },
    {
     "name": "stdout",
     "output_type": "stream",
     "text": [
      "{'val_loss': 1.7172539459084564, 'val_accuracy': 0.6678486997635934, 'precision': 0.6734346574565833, 'recall': 0.6678486997635934, 'f1-score': 0.6564919083963037, 'macro_f1-score': 0.4135878027397593, 'balanced_accuracy': 0.39565627723111124, 'mcc': 0.5582762526779487}\n",
      "Epoch 12/20\n"
     ]
    },
    {
     "name": "stderr",
     "output_type": "stream",
     "text": [
      "100%|██████████| 476/476 [03:21<00:00,  2.36it/s]\n"
     ]
    },
    {
     "name": "stdout",
     "output_type": "stream",
     "text": [
      "{'val_loss': 1.7662385629033142, 'val_accuracy': 0.6560283687943262, 'precision': 0.6695012798710991, 'recall': 0.6560283687943262, 'f1-score': 0.6426258302569926, 'macro_f1-score': 0.39793184080685506, 'balanced_accuracy': 0.41030622276865814, 'mcc': 0.5439577702428624}\n",
      "Epoch 13/20\n"
     ]
    },
    {
     "name": "stderr",
     "output_type": "stream",
     "text": [
      "100%|██████████| 476/476 [03:21<00:00,  2.36it/s]\n"
     ]
    },
    {
     "name": "stdout",
     "output_type": "stream",
     "text": [
      "{'val_loss': 1.7810715819304843, 'val_accuracy': 0.6784869976359338, 'precision': 0.6689924769101007, 'recall': 0.6784869976359338, 'f1-score': 0.66404225335111, 'macro_f1-score': 0.40811090724869786, 'balanced_accuracy': 0.3980196041624931, 'mcc': 0.5720532286703596}\n",
      "Early stopping triggered at epoch 13\n",
      "Fold 2\n",
      "Training set label distribution: {0: 3576, 1: 28, 2: 126, 3: 27, 4: 231, 5: 131, 6: 106, 7: 35, 8: 76, 9: 73, 10: 79, 11: 194, 12: 217, 13: 32, 14: 26, 15: 28, 16: 23, 17: 260, 18: 104, 19: 51, 20: 16, 21: 39, 22: 88, 23: 180, 24: 18, 25: 56, 26: 97, 27: 55, 28: 13, 29: 15, 30: 17, 31: 90, 32: 40, 33: 36, 34: 34, 35: 13, 36: 32, 37: 24, 38: 6, 39: 116, 40: 13, 41: 10, 42: 166, 43: 18, 44: 22, 45: 10, 46: 61, 47: 595, 48: 227, 49: 78}\n",
      "Validation set label distribution: {0: 398, 1: 3, 2: 14, 3: 3, 4: 26, 5: 14, 6: 12, 7: 4, 8: 9, 9: 8, 10: 9, 11: 21, 12: 24, 13: 4, 14: 3, 15: 3, 16: 2, 17: 29, 18: 12, 19: 5, 20: 2, 21: 5, 22: 9, 23: 20, 24: 2, 25: 7, 26: 10, 27: 6, 28: 2, 29: 1, 30: 2, 31: 10, 32: 5, 33: 4, 34: 3, 35: 2, 36: 3, 37: 3, 38: 1, 39: 13, 40: 1, 41: 1, 42: 18, 43: 2, 44: 3, 45: 1, 46: 7, 47: 66, 48: 25, 49: 9}\n"
     ]
    },
    {
     "name": "stderr",
     "output_type": "stream",
     "text": [
      "Some weights of BertForSequenceClassification were not initialized from the model checkpoint at bert-base-uncased and are newly initialized: ['classifier.bias', 'classifier.weight']\n",
      "You should probably TRAIN this model on a down-stream task to be able to use it for predictions and inference.\n"
     ]
    },
    {
     "name": "stdout",
     "output_type": "stream",
     "text": [
      "Epoch 1/20\n"
     ]
    },
    {
     "name": "stderr",
     "output_type": "stream",
     "text": [
      "100%|██████████| 476/476 [03:22<00:00,  2.36it/s]\n"
     ]
    },
    {
     "name": "stdout",
     "output_type": "stream",
     "text": [
      "{'val_loss': 1.5637518471142031, 'val_accuracy': 0.6052009456264775, 'precision': 0.5211502671370694, 'recall': 0.6052009456264775, 'f1-score': 0.5319133935895696, 'macro_f1-score': 0.11120905674573915, 'balanced_accuracy': 0.13542000084860942, 'mcc': 0.46121907906691645}\n",
      "Epoch 2/20\n"
     ]
    },
    {
     "name": "stderr",
     "output_type": "stream",
     "text": [
      "100%|██████████| 476/476 [03:22<00:00,  2.35it/s]\n"
     ]
    },
    {
     "name": "stdout",
     "output_type": "stream",
     "text": [
      "{'val_loss': 1.3574926841933772, 'val_accuracy': 0.6536643026004728, 'precision': 0.6035934362493344, 'recall': 0.6536643026004728, 'f1-score': 0.5895470521867169, 'macro_f1-score': 0.199102137288262, 'balanced_accuracy': 0.19631264037566237, 'mcc': 0.5183519146158823}\n",
      "Epoch 3/20\n"
     ]
    },
    {
     "name": "stderr",
     "output_type": "stream",
     "text": [
      "100%|██████████| 476/476 [03:22<00:00,  2.35it/s]\n"
     ]
    },
    {
     "name": "stdout",
     "output_type": "stream",
     "text": [
      "{'val_loss': 1.351431723473207, 'val_accuracy': 0.6560283687943262, 'precision': 0.6354456351483863, 'recall': 0.6560283687943262, 'f1-score': 0.6229762948155521, 'macro_f1-score': 0.25169276061171547, 'balanced_accuracy': 0.264877236641177, 'mcc': 0.5361496989244338}\n",
      "Epoch 4/20\n"
     ]
    },
    {
     "name": "stderr",
     "output_type": "stream",
     "text": [
      "100%|██████████| 476/476 [03:22<00:00,  2.35it/s]\n"
     ]
    },
    {
     "name": "stdout",
     "output_type": "stream",
     "text": [
      "{'val_loss': 1.2665931323789201, 'val_accuracy': 0.6867612293144209, 'precision': 0.6672001091863389, 'recall': 0.6867612293144209, 'f1-score': 0.6549952435331371, 'macro_f1-score': 0.31927683414581104, 'balanced_accuracy': 0.3304093786707718, 'mcc': 0.5813584776824982}\n",
      "Epoch 5/20\n"
     ]
    },
    {
     "name": "stderr",
     "output_type": "stream",
     "text": [
      "100%|██████████| 476/476 [03:22<00:00,  2.36it/s]\n"
     ]
    },
    {
     "name": "stdout",
     "output_type": "stream",
     "text": [
      "{'val_loss': 1.3815993801602777, 'val_accuracy': 0.6607565011820331, 'precision': 0.6491857083528967, 'recall': 0.6607565011820331, 'f1-score': 0.6401659165487229, 'macro_f1-score': 0.3091739396984677, 'balanced_accuracy': 0.31934438585154235, 'mcc': 0.5551626976144123}\n",
      "Epoch 6/20\n"
     ]
    },
    {
     "name": "stderr",
     "output_type": "stream",
     "text": [
      "100%|██████████| 476/476 [03:27<00:00,  2.30it/s]\n"
     ]
    },
    {
     "name": "stdout",
     "output_type": "stream",
     "text": [
      "{'val_loss': 1.4518608861374405, 'val_accuracy': 0.6832151300236406, 'precision': 0.6616894960786046, 'recall': 0.6832151300236406, 'f1-score': 0.6569845307381449, 'macro_f1-score': 0.3621736261556264, 'balanced_accuracy': 0.35743899801848156, 'mcc': 0.5736060106725223}\n",
      "Epoch 7/20\n"
     ]
    },
    {
     "name": "stderr",
     "output_type": "stream",
     "text": [
      "100%|██████████| 476/476 [03:26<00:00,  2.30it/s]\n"
     ]
    },
    {
     "name": "stdout",
     "output_type": "stream",
     "text": [
      "{'val_loss': 1.494846081396319, 'val_accuracy': 0.6572104018912529, 'precision': 0.634882460763962, 'recall': 0.6572104018912529, 'f1-score': 0.6355463061234689, 'macro_f1-score': 0.33418755827565627, 'balanced_accuracy': 0.3281701503083066, 'mcc': 0.5425966429014034}\n",
      "Epoch 8/20\n"
     ]
    },
    {
     "name": "stderr",
     "output_type": "stream",
     "text": [
      "100%|██████████| 476/476 [03:27<00:00,  2.30it/s]\n"
     ]
    },
    {
     "name": "stdout",
     "output_type": "stream",
     "text": [
      "{'val_loss': 1.505411780105447, 'val_accuracy': 0.6796690307328606, 'precision': 0.6745332384955145, 'recall': 0.6796690307328606, 'f1-score': 0.6594753956785417, 'macro_f1-score': 0.3650279135761496, 'balanced_accuracy': 0.35870012692788644, 'mcc': 0.569440494428162}\n",
      "Epoch 9/20\n"
     ]
    },
    {
     "name": "stderr",
     "output_type": "stream",
     "text": [
      "100%|██████████| 476/476 [03:27<00:00,  2.29it/s]\n"
     ]
    },
    {
     "name": "stdout",
     "output_type": "stream",
     "text": [
      "{'val_loss': 1.6640442677263945, 'val_accuracy': 0.6442080378250591, 'precision': 0.6536342540185902, 'recall': 0.6442080378250591, 'f1-score': 0.6383535161537138, 'macro_f1-score': 0.3458112218953734, 'balanced_accuracy': 0.372174575219732, 'mcc': 0.5406895338432846}\n",
      "Epoch 10/20\n"
     ]
    },
    {
     "name": "stderr",
     "output_type": "stream",
     "text": [
      "100%|██████████| 476/476 [03:25<00:00,  2.32it/s]\n"
     ]
    },
    {
     "name": "stdout",
     "output_type": "stream",
     "text": [
      "{'val_loss': 1.6253520998190034, 'val_accuracy': 0.6666666666666666, 'precision': 0.6755066022637298, 'recall': 0.6666666666666666, 'f1-score': 0.6492232932565488, 'macro_f1-score': 0.3771447529683106, 'balanced_accuracy': 0.38091135240123286, 'mcc': 0.5570930397048162}\n",
      "Epoch 11/20\n"
     ]
    },
    {
     "name": "stderr",
     "output_type": "stream",
     "text": [
      "100%|██████████| 476/476 [03:26<00:00,  2.31it/s]\n"
     ]
    },
    {
     "name": "stdout",
     "output_type": "stream",
     "text": [
      "{'val_loss': 1.579111912059334, 'val_accuracy': 0.6678486997635934, 'precision': 0.6570502690266811, 'recall': 0.6678486997635934, 'f1-score': 0.646644365066348, 'macro_f1-score': 0.3557031590373323, 'balanced_accuracy': 0.35581702206032473, 'mcc': 0.5542658046344874}\n",
      "Epoch 12/20\n"
     ]
    },
    {
     "name": "stderr",
     "output_type": "stream",
     "text": [
      "100%|██████████| 476/476 [03:27<00:00,  2.29it/s]\n"
     ]
    },
    {
     "name": "stdout",
     "output_type": "stream",
     "text": [
      "{'val_loss': 1.7245882608980503, 'val_accuracy': 0.6796690307328606, 'precision': 0.6821650327590674, 'recall': 0.6796690307328606, 'f1-score': 0.6581298260360056, 'macro_f1-score': 0.38699547183532146, 'balanced_accuracy': 0.37467639773345895, 'mcc': 0.5671998260689605}\n",
      "Epoch 13/20\n"
     ]
    },
    {
     "name": "stderr",
     "output_type": "stream",
     "text": [
      "100%|██████████| 476/476 [03:26<00:00,  2.31it/s]\n"
     ]
    },
    {
     "name": "stdout",
     "output_type": "stream",
     "text": [
      "{'val_loss': 1.6974617577386353, 'val_accuracy': 0.66548463356974, 'precision': 0.6641804181181825, 'recall': 0.66548463356974, 'f1-score': 0.650066708822676, 'macro_f1-score': 0.343332713861105, 'balanced_accuracy': 0.34854289845774855, 'mcc': 0.5506451482332392}\n",
      "Epoch 14/20\n"
     ]
    },
    {
     "name": "stderr",
     "output_type": "stream",
     "text": [
      "100%|██████████| 476/476 [03:24<00:00,  2.32it/s]\n"
     ]
    },
    {
     "name": "stdout",
     "output_type": "stream",
     "text": [
      "{'val_loss': 1.7323077399775666, 'val_accuracy': 0.6725768321513003, 'precision': 0.6536767846595921, 'recall': 0.6725768321513003, 'f1-score': 0.6499200324772019, 'macro_f1-score': 0.33762453841391477, 'balanced_accuracy': 0.326080072602651, 'mcc': 0.557858367489792}\n",
      "Epoch 15/20\n"
     ]
    },
    {
     "name": "stderr",
     "output_type": "stream",
     "text": [
      "100%|██████████| 476/476 [03:26<00:00,  2.31it/s]\n"
     ]
    },
    {
     "name": "stdout",
     "output_type": "stream",
     "text": [
      "{'val_loss': 1.6693881952537681, 'val_accuracy': 0.6442080378250591, 'precision': 0.6660779819741751, 'recall': 0.6442080378250591, 'f1-score': 0.6366448470422813, 'macro_f1-score': 0.33544038121582, 'balanced_accuracy': 0.3772854492779982, 'mcc': 0.5384990067291088}\n",
      "Early stopping triggered at epoch 15\n",
      "Fold 3\n",
      "Training set label distribution: {0: 3576, 1: 28, 2: 126, 3: 27, 4: 231, 5: 131, 6: 106, 7: 35, 8: 76, 9: 73, 10: 80, 11: 193, 12: 217, 13: 32, 14: 26, 15: 28, 16: 23, 17: 260, 18: 104, 19: 51, 20: 16, 21: 40, 22: 87, 23: 180, 24: 18, 25: 57, 26: 96, 27: 55, 28: 14, 29: 14, 30: 17, 31: 90, 32: 41, 33: 36, 34: 33, 35: 13, 36: 32, 37: 24, 38: 6, 39: 116, 40: 13, 41: 10, 42: 166, 43: 18, 44: 22, 45: 10, 46: 61, 47: 595, 48: 227, 49: 78}\n",
      "Validation set label distribution: {0: 398, 1: 3, 2: 14, 3: 3, 4: 26, 5: 14, 6: 12, 7: 4, 8: 9, 9: 8, 10: 8, 11: 22, 12: 24, 13: 4, 14: 3, 15: 3, 16: 2, 17: 29, 18: 12, 19: 5, 20: 2, 21: 4, 22: 10, 23: 20, 24: 2, 25: 6, 26: 11, 27: 6, 28: 1, 29: 2, 30: 2, 31: 10, 32: 4, 33: 4, 34: 4, 35: 2, 36: 3, 37: 3, 38: 1, 39: 13, 40: 1, 41: 1, 42: 18, 43: 2, 44: 3, 45: 1, 46: 7, 47: 66, 48: 25, 49: 9}\n"
     ]
    },
    {
     "name": "stderr",
     "output_type": "stream",
     "text": [
      "Some weights of BertForSequenceClassification were not initialized from the model checkpoint at bert-base-uncased and are newly initialized: ['classifier.bias', 'classifier.weight']\n",
      "You should probably TRAIN this model on a down-stream task to be able to use it for predictions and inference.\n"
     ]
    },
    {
     "name": "stdout",
     "output_type": "stream",
     "text": [
      "Epoch 1/20\n"
     ]
    },
    {
     "name": "stderr",
     "output_type": "stream",
     "text": [
      "100%|██████████| 476/476 [03:26<00:00,  2.31it/s]\n"
     ]
    },
    {
     "name": "stdout",
     "output_type": "stream",
     "text": [
      "{'val_loss': 1.5946801034909375, 'val_accuracy': 0.6028368794326241, 'precision': 0.46328247596323097, 'recall': 0.6028368794326241, 'f1-score': 0.49355839244783056, 'macro_f1-score': 0.0951371351717072, 'balanced_accuracy': 0.10836705625762981, 'mcc': 0.4270944264216151}\n",
      "Epoch 2/20\n"
     ]
    },
    {
     "name": "stderr",
     "output_type": "stream",
     "text": [
      "100%|██████████| 476/476 [03:26<00:00,  2.30it/s]\n"
     ]
    },
    {
     "name": "stdout",
     "output_type": "stream",
     "text": [
      "{'val_loss': 1.300759127679861, 'val_accuracy': 0.6690307328605201, 'precision': 0.5986624432539462, 'recall': 0.6690307328605201, 'f1-score': 0.6084213179839546, 'macro_f1-score': 0.21322640382699315, 'balanced_accuracy': 0.21236469947773018, 'mcc': 0.5427009696287276}\n",
      "Epoch 3/20\n"
     ]
    },
    {
     "name": "stderr",
     "output_type": "stream",
     "text": [
      "100%|██████████| 476/476 [03:26<00:00,  2.31it/s]\n"
     ]
    },
    {
     "name": "stdout",
     "output_type": "stream",
     "text": [
      "{'val_loss': 1.3003979100371308, 'val_accuracy': 0.6725768321513003, 'precision': 0.6091354918468193, 'recall': 0.6725768321513003, 'f1-score': 0.6295717761090117, 'macro_f1-score': 0.2578896599313577, 'balanced_accuracy': 0.2562891548660046, 'mcc': 0.5508579414308017}\n",
      "Epoch 4/20\n"
     ]
    },
    {
     "name": "stderr",
     "output_type": "stream",
     "text": [
      "100%|██████████| 476/476 [03:24<00:00,  2.32it/s]\n"
     ]
    },
    {
     "name": "stdout",
     "output_type": "stream",
     "text": [
      "{'val_loss': 1.3540938755251326, 'val_accuracy': 0.66548463356974, 'precision': 0.6660181469461103, 'recall': 0.66548463356974, 'f1-score': 0.6490702496700386, 'macro_f1-score': 0.3145663612247835, 'balanced_accuracy': 0.32457365245317077, 'mcc': 0.5579098666405667}\n",
      "Epoch 5/20\n"
     ]
    },
    {
     "name": "stderr",
     "output_type": "stream",
     "text": [
      "100%|██████████| 476/476 [03:26<00:00,  2.31it/s]\n"
     ]
    },
    {
     "name": "stdout",
     "output_type": "stream",
     "text": [
      "{'val_loss': 1.4952240889927126, 'val_accuracy': 0.66548463356974, 'precision': 0.6400043355579839, 'recall': 0.66548463356974, 'f1-score': 0.6328886104892026, 'macro_f1-score': 0.3266948924084045, 'balanced_accuracy': 0.31183784701214956, 'mcc': 0.5436622678304092}\n",
      "Epoch 6/20\n"
     ]
    },
    {
     "name": "stderr",
     "output_type": "stream",
     "text": [
      "100%|██████████| 476/476 [03:26<00:00,  2.30it/s]\n"
     ]
    },
    {
     "name": "stdout",
     "output_type": "stream",
     "text": [
      "{'val_loss': 1.5563328901551805, 'val_accuracy': 0.6453900709219859, 'precision': 0.6663225933481098, 'recall': 0.6453900709219859, 'f1-score': 0.6401365539527569, 'macro_f1-score': 0.34638187247403457, 'balanced_accuracy': 0.34701391744434545, 'mcc': 0.5322352309479076}\n",
      "Epoch 7/20\n"
     ]
    },
    {
     "name": "stderr",
     "output_type": "stream",
     "text": [
      "100%|██████████| 476/476 [03:26<00:00,  2.30it/s]\n"
     ]
    },
    {
     "name": "stdout",
     "output_type": "stream",
     "text": [
      "{'val_loss': 1.6188431351252321, 'val_accuracy': 0.6572104018912529, 'precision': 0.6648032926856057, 'recall': 0.6572104018912529, 'f1-score': 0.6545227896168743, 'macro_f1-score': 0.34735142665869234, 'balanced_accuracy': 0.35135215942916515, 'mcc': 0.5548103951906384}\n",
      "Epoch 8/20\n"
     ]
    },
    {
     "name": "stderr",
     "output_type": "stream",
     "text": [
      "100%|██████████| 476/476 [03:26<00:00,  2.31it/s]\n"
     ]
    },
    {
     "name": "stdout",
     "output_type": "stream",
     "text": [
      "{'val_loss': 1.668558067308282, 'val_accuracy': 0.6666666666666666, 'precision': 0.6685419715561559, 'recall': 0.6666666666666666, 'f1-score': 0.661125184690761, 'macro_f1-score': 0.3611707863779811, 'balanced_accuracy': 0.352909933480909, 'mcc': 0.5628750241512855}\n",
      "Epoch 9/20\n"
     ]
    },
    {
     "name": "stderr",
     "output_type": "stream",
     "text": [
      "100%|██████████| 476/476 [03:25<00:00,  2.31it/s]\n"
     ]
    },
    {
     "name": "stdout",
     "output_type": "stream",
     "text": [
      "{'val_loss': 1.7005079883449483, 'val_accuracy': 0.6749408983451537, 'precision': 0.6541008943640331, 'recall': 0.6749408983451537, 'f1-score': 0.6515443486444396, 'macro_f1-score': 0.37636326704863643, 'balanced_accuracy': 0.36822795896608057, 'mcc': 0.5625104598530929}\n",
      "Epoch 10/20\n"
     ]
    },
    {
     "name": "stderr",
     "output_type": "stream",
     "text": [
      "100%|██████████| 476/476 [03:25<00:00,  2.32it/s]\n"
     ]
    },
    {
     "name": "stdout",
     "output_type": "stream",
     "text": [
      "{'val_loss': 1.7295259152943234, 'val_accuracy': 0.6430260047281324, 'precision': 0.6675147942885902, 'recall': 0.6430260047281324, 'f1-score': 0.6444838910445174, 'macro_f1-score': 0.3527918858328348, 'balanced_accuracy': 0.3581448661313849, 'mcc': 0.5356775443756009}\n",
      "Epoch 11/20\n"
     ]
    },
    {
     "name": "stderr",
     "output_type": "stream",
     "text": [
      "100%|██████████| 476/476 [03:26<00:00,  2.31it/s]\n"
     ]
    },
    {
     "name": "stdout",
     "output_type": "stream",
     "text": [
      "{'val_loss': 1.7052250785647698, 'val_accuracy': 0.6761229314420804, 'precision': 0.6561844541021807, 'recall': 0.6761229314420804, 'f1-score': 0.6575160761261561, 'macro_f1-score': 0.36514329162610065, 'balanced_accuracy': 0.3404957585993975, 'mcc': 0.5644421275817582}\n",
      "Epoch 12/20\n"
     ]
    },
    {
     "name": "stderr",
     "output_type": "stream",
     "text": [
      "100%|██████████| 476/476 [03:27<00:00,  2.30it/s]\n"
     ]
    },
    {
     "name": "stdout",
     "output_type": "stream",
     "text": [
      "{'val_loss': 1.8543440873892802, 'val_accuracy': 0.6382978723404256, 'precision': 0.6718512574902704, 'recall': 0.6382978723404256, 'f1-score': 0.6420057986881644, 'macro_f1-score': 0.35946777323048523, 'balanced_accuracy': 0.3682516367804013, 'mcc': 0.5341905384523343}\n",
      "Early stopping triggered at epoch 12\n",
      "Fold 4\n",
      "Training set label distribution: {0: 3576, 1: 28, 2: 126, 3: 27, 4: 231, 5: 131, 6: 106, 7: 35, 8: 77, 9: 72, 10: 80, 11: 193, 12: 217, 13: 32, 14: 27, 15: 27, 16: 23, 17: 260, 18: 104, 19: 51, 20: 16, 21: 40, 22: 87, 23: 180, 24: 18, 25: 57, 26: 96, 27: 55, 28: 14, 29: 14, 30: 17, 31: 90, 32: 41, 33: 36, 34: 33, 35: 13, 36: 32, 37: 24, 38: 6, 39: 116, 40: 13, 41: 10, 42: 166, 43: 18, 44: 23, 45: 9, 46: 61, 47: 595, 48: 227, 49: 78}\n",
      "Validation set label distribution: {0: 398, 1: 3, 2: 14, 3: 3, 4: 26, 5: 14, 6: 12, 7: 4, 8: 8, 9: 9, 10: 8, 11: 22, 12: 24, 13: 4, 14: 2, 15: 4, 16: 2, 17: 29, 18: 12, 19: 5, 20: 2, 21: 4, 22: 10, 23: 20, 24: 2, 25: 6, 26: 11, 27: 6, 28: 1, 29: 2, 30: 2, 31: 10, 32: 4, 33: 4, 34: 4, 35: 2, 36: 3, 37: 3, 38: 1, 39: 13, 40: 1, 41: 1, 42: 18, 43: 2, 44: 2, 45: 2, 46: 7, 47: 66, 48: 25, 49: 9}\n"
     ]
    },
    {
     "name": "stderr",
     "output_type": "stream",
     "text": [
      "Some weights of BertForSequenceClassification were not initialized from the model checkpoint at bert-base-uncased and are newly initialized: ['classifier.bias', 'classifier.weight']\n",
      "You should probably TRAIN this model on a down-stream task to be able to use it for predictions and inference.\n"
     ]
    },
    {
     "name": "stdout",
     "output_type": "stream",
     "text": [
      "Epoch 1/20\n"
     ]
    },
    {
     "name": "stderr",
     "output_type": "stream",
     "text": [
      "100%|██████████| 476/476 [03:26<00:00,  2.31it/s]\n"
     ]
    },
    {
     "name": "stdout",
     "output_type": "stream",
     "text": [
      "{'val_loss': 1.5427358791513264, 'val_accuracy': 0.6170212765957447, 'precision': 0.5101739956108474, 'recall': 0.6170212765957447, 'f1-score': 0.5176365446364827, 'macro_f1-score': 0.10994633214593438, 'balanced_accuracy': 0.1187705362274761, 'mcc': 0.4529737120497416}\n",
      "Epoch 2/20\n"
     ]
    },
    {
     "name": "stderr",
     "output_type": "stream",
     "text": [
      "100%|██████████| 476/476 [03:25<00:00,  2.31it/s]\n"
     ]
    },
    {
     "name": "stdout",
     "output_type": "stream",
     "text": [
      "{'val_loss': 1.340811496635653, 'val_accuracy': 0.6501182033096927, 'precision': 0.5799992904317804, 'recall': 0.6501182033096927, 'f1-score': 0.5983037943976885, 'macro_f1-score': 0.20372560979976992, 'balanced_accuracy': 0.21431386632005242, 'mcc': 0.5204410407686162}\n",
      "Epoch 3/20\n"
     ]
    },
    {
     "name": "stderr",
     "output_type": "stream",
     "text": [
      "100%|██████████| 476/476 [03:26<00:00,  2.31it/s]\n"
     ]
    },
    {
     "name": "stdout",
     "output_type": "stream",
     "text": [
      "{'val_loss': 1.3632205128669739, 'val_accuracy': 0.6761229314420804, 'precision': 0.6352588615932411, 'recall': 0.6761229314420804, 'f1-score': 0.6398366718565688, 'macro_f1-score': 0.27581713997467516, 'balanced_accuracy': 0.26275959099334595, 'mcc': 0.5575125113294254}\n",
      "Epoch 4/20\n"
     ]
    },
    {
     "name": "stderr",
     "output_type": "stream",
     "text": [
      "100%|██████████| 476/476 [03:25<00:00,  2.32it/s]\n"
     ]
    },
    {
     "name": "stdout",
     "output_type": "stream",
     "text": [
      "{'val_loss': 1.2538145195763066, 'val_accuracy': 0.6855791962174941, 'precision': 0.6392922451299625, 'recall': 0.6855791962174941, 'f1-score': 0.6517856905461408, 'macro_f1-score': 0.3078738992362608, 'balanced_accuracy': 0.2970500017320326, 'mcc': 0.5701523529852663}\n",
      "Epoch 5/20\n"
     ]
    },
    {
     "name": "stderr",
     "output_type": "stream",
     "text": [
      "100%|██████████| 476/476 [03:25<00:00,  2.32it/s]\n"
     ]
    },
    {
     "name": "stdout",
     "output_type": "stream",
     "text": [
      "{'val_loss': 1.3758864211586286, 'val_accuracy': 0.6796690307328606, 'precision': 0.6601668749144486, 'recall': 0.6796690307328606, 'f1-score': 0.6552245504893215, 'macro_f1-score': 0.3556971472380424, 'balanced_accuracy': 0.34801150895735894, 'mcc': 0.5671342907325019}\n",
      "Epoch 6/20\n"
     ]
    },
    {
     "name": "stderr",
     "output_type": "stream",
     "text": [
      "100%|██████████| 476/476 [03:26<00:00,  2.31it/s]\n"
     ]
    },
    {
     "name": "stdout",
     "output_type": "stream",
     "text": [
      "{'val_loss': 1.4341074217040584, 'val_accuracy': 0.6713947990543735, 'precision': 0.6680307447148471, 'recall': 0.6713947990543735, 'f1-score': 0.6559663294743902, 'macro_f1-score': 0.3597774412565106, 'balanced_accuracy': 0.35124153825727206, 'mcc': 0.5652202826894306}\n",
      "Epoch 7/20\n"
     ]
    },
    {
     "name": "stderr",
     "output_type": "stream",
     "text": [
      "100%|██████████| 476/476 [03:27<00:00,  2.30it/s]\n"
     ]
    },
    {
     "name": "stdout",
     "output_type": "stream",
     "text": [
      "{'val_loss': 1.484243076364949, 'val_accuracy': 0.6619385342789598, 'precision': 0.6695397575459598, 'recall': 0.6619385342789598, 'f1-score': 0.6416494362711475, 'macro_f1-score': 0.33061084546390135, 'balanced_accuracy': 0.3393221852715528, 'mcc': 0.5523257932767186}\n",
      "Epoch 8/20\n"
     ]
    },
    {
     "name": "stderr",
     "output_type": "stream",
     "text": [
      "100%|██████████| 476/476 [03:27<00:00,  2.30it/s]\n"
     ]
    },
    {
     "name": "stdout",
     "output_type": "stream",
     "text": [
      "{'val_loss': 1.5206101294958367, 'val_accuracy': 0.6784869976359338, 'precision': 0.6887464213568636, 'recall': 0.6784869976359338, 'f1-score': 0.6706757602653051, 'macro_f1-score': 0.3970523290031905, 'balanced_accuracy': 0.4010292189260132, 'mcc': 0.5785099351050881}\n",
      "Epoch 9/20\n"
     ]
    },
    {
     "name": "stderr",
     "output_type": "stream",
     "text": [
      "100%|██████████| 476/476 [03:26<00:00,  2.30it/s]\n"
     ]
    },
    {
     "name": "stdout",
     "output_type": "stream",
     "text": [
      "{'val_loss': 1.5495166992241483, 'val_accuracy': 0.6855791962174941, 'precision': 0.6835888527116079, 'recall': 0.6855791962174941, 'f1-score': 0.6733800768636883, 'macro_f1-score': 0.4058555421700089, 'balanced_accuracy': 0.3923268360011732, 'mcc': 0.5820423557106416}\n",
      "Epoch 10/20\n"
     ]
    },
    {
     "name": "stderr",
     "output_type": "stream",
     "text": [
      "100%|██████████| 476/476 [03:26<00:00,  2.31it/s]\n"
     ]
    },
    {
     "name": "stdout",
     "output_type": "stream",
     "text": [
      "{'val_loss': 1.5689565674313959, 'val_accuracy': 0.7021276595744681, 'precision': 0.6880858055868442, 'recall': 0.7021276595744681, 'f1-score': 0.6817221971797236, 'macro_f1-score': 0.4079742687596506, 'balanced_accuracy': 0.4117481585647068, 'mcc': 0.6011856319620694}\n",
      "Epoch 11/20\n"
     ]
    },
    {
     "name": "stderr",
     "output_type": "stream",
     "text": [
      "100%|██████████| 476/476 [03:24<00:00,  2.32it/s]\n"
     ]
    },
    {
     "name": "stdout",
     "output_type": "stream",
     "text": [
      "{'val_loss': 1.6469961258600343, 'val_accuracy': 0.6619385342789598, 'precision': 0.6561832569599061, 'recall': 0.6619385342789598, 'f1-score': 0.6487902196981404, 'macro_f1-score': 0.37929020100752275, 'balanced_accuracy': 0.36501100643710244, 'mcc': 0.5482378628927391}\n",
      "Epoch 12/20\n"
     ]
    },
    {
     "name": "stderr",
     "output_type": "stream",
     "text": [
      "100%|██████████| 476/476 [03:26<00:00,  2.31it/s]\n"
     ]
    },
    {
     "name": "stdout",
     "output_type": "stream",
     "text": [
      "{'val_loss': 1.7222445416000653, 'val_accuracy': 0.6914893617021277, 'precision': 0.6796035600206262, 'recall': 0.6914893617021277, 'f1-score': 0.674056962026087, 'macro_f1-score': 0.40620721885248573, 'balanced_accuracy': 0.3956578468105759, 'mcc': 0.5834937364928562}\n",
      "Epoch 13/20\n"
     ]
    },
    {
     "name": "stderr",
     "output_type": "stream",
     "text": [
      "100%|██████████| 476/476 [03:25<00:00,  2.31it/s]\n"
     ]
    },
    {
     "name": "stdout",
     "output_type": "stream",
     "text": [
      "{'val_loss': 1.71299206592002, 'val_accuracy': 0.6832151300236406, 'precision': 0.6593902481508305, 'recall': 0.6832151300236406, 'f1-score': 0.6591005957770827, 'macro_f1-score': 0.40310896763736864, 'balanced_accuracy': 0.38610996945063825, 'mcc': 0.5700030763161945}\n",
      "Early stopping triggered at epoch 13\n",
      "Fold 5\n",
      "Training set label distribution: {0: 3577, 1: 27, 2: 126, 3: 27, 4: 231, 5: 131, 6: 106, 7: 35, 8: 77, 9: 73, 10: 79, 11: 193, 12: 217, 13: 33, 14: 26, 15: 28, 16: 22, 17: 260, 18: 105, 19: 50, 20: 16, 21: 40, 22: 87, 23: 180, 24: 18, 25: 57, 26: 96, 27: 55, 28: 14, 29: 14, 30: 17, 31: 90, 32: 41, 33: 36, 34: 33, 35: 14, 36: 31, 37: 24, 38: 6, 39: 117, 40: 13, 41: 10, 42: 165, 43: 18, 44: 23, 45: 10, 46: 61, 47: 595, 48: 227, 49: 78}\n",
      "Validation set label distribution: {0: 397, 1: 4, 2: 14, 3: 3, 4: 26, 5: 14, 6: 12, 7: 4, 8: 8, 9: 8, 10: 9, 11: 22, 12: 24, 13: 3, 14: 3, 15: 3, 16: 3, 17: 29, 18: 11, 19: 6, 20: 2, 21: 4, 22: 10, 23: 20, 24: 2, 25: 6, 26: 11, 27: 6, 28: 1, 29: 2, 30: 2, 31: 10, 32: 4, 33: 4, 34: 4, 35: 1, 36: 4, 37: 3, 38: 1, 39: 12, 40: 1, 41: 1, 42: 19, 43: 2, 44: 2, 45: 1, 46: 7, 47: 66, 48: 25, 49: 9}\n"
     ]
    },
    {
     "name": "stderr",
     "output_type": "stream",
     "text": [
      "Some weights of BertForSequenceClassification were not initialized from the model checkpoint at bert-base-uncased and are newly initialized: ['classifier.bias', 'classifier.weight']\n",
      "You should probably TRAIN this model on a down-stream task to be able to use it for predictions and inference.\n"
     ]
    },
    {
     "name": "stdout",
     "output_type": "stream",
     "text": [
      "Epoch 1/20\n"
     ]
    },
    {
     "name": "stderr",
     "output_type": "stream",
     "text": [
      "100%|██████████| 476/476 [03:26<00:00,  2.31it/s]\n"
     ]
    },
    {
     "name": "stdout",
     "output_type": "stream",
     "text": [
      "{'val_loss': 1.5564917573389017, 'val_accuracy': 0.6035502958579881, 'precision': 0.43330196166704565, 'recall': 0.6035502958579881, 'f1-score': 0.4909051405610728, 'macro_f1-score': 0.0891632237608456, 'balanced_accuracy': 0.10701023336083702, 'mcc': 0.43060649823985886}\n",
      "Epoch 2/20\n"
     ]
    },
    {
     "name": "stderr",
     "output_type": "stream",
     "text": [
      "100%|██████████| 476/476 [03:26<00:00,  2.31it/s]\n"
     ]
    },
    {
     "name": "stdout",
     "output_type": "stream",
     "text": [
      "{'val_loss': 1.3465442005193458, 'val_accuracy': 0.6319526627218935, 'precision': 0.5564035437018412, 'recall': 0.6319526627218935, 'f1-score': 0.5747941883554883, 'macro_f1-score': 0.1985949230042549, 'balanced_accuracy': 0.21451314749973197, 'mcc': 0.5008919499714071}\n",
      "Epoch 3/20\n"
     ]
    },
    {
     "name": "stderr",
     "output_type": "stream",
     "text": [
      "100%|██████████| 476/476 [03:25<00:00,  2.31it/s]\n"
     ]
    },
    {
     "name": "stdout",
     "output_type": "stream",
     "text": [
      "{'val_loss': 1.2666949168691095, 'val_accuracy': 0.6485207100591716, 'precision': 0.6229615895876415, 'recall': 0.6485207100591716, 'f1-score': 0.6212968214677728, 'macro_f1-score': 0.25519055407151653, 'balanced_accuracy': 0.2657433313499536, 'mcc': 0.5311723107118589}\n",
      "Epoch 4/20\n"
     ]
    },
    {
     "name": "stderr",
     "output_type": "stream",
     "text": [
      "100%|██████████| 476/476 [03:25<00:00,  2.31it/s]\n"
     ]
    },
    {
     "name": "stdout",
     "output_type": "stream",
     "text": [
      "{'val_loss': 1.267983632267646, 'val_accuracy': 0.6674556213017752, 'precision': 0.6237606630321699, 'recall': 0.6674556213017752, 'f1-score': 0.6299656756400515, 'macro_f1-score': 0.2890750489095144, 'balanced_accuracy': 0.27946155759010105, 'mcc': 0.548494260662486}\n",
      "Epoch 5/20\n"
     ]
    },
    {
     "name": "stderr",
     "output_type": "stream",
     "text": [
      "100%|██████████| 476/476 [03:26<00:00,  2.31it/s]\n"
     ]
    },
    {
     "name": "stdout",
     "output_type": "stream",
     "text": [
      "{'val_loss': 1.3952906525359963, 'val_accuracy': 0.6556213017751479, 'precision': 0.6336699464333817, 'recall': 0.6556213017751479, 'f1-score': 0.6295102199431358, 'macro_f1-score': 0.312351862142872, 'balanced_accuracy': 0.31715464101175406, 'mcc': 0.5372549520087372}\n",
      "Epoch 6/20\n"
     ]
    },
    {
     "name": "stderr",
     "output_type": "stream",
     "text": [
      "100%|██████████| 476/476 [03:24<00:00,  2.32it/s]\n"
     ]
    },
    {
     "name": "stdout",
     "output_type": "stream",
     "text": [
      "{'val_loss': 1.4059787488208626, 'val_accuracy': 0.6662721893491125, 'precision': 0.6573645300887032, 'recall': 0.6662721893491125, 'f1-score': 0.6430037037401715, 'macro_f1-score': 0.34367772635354227, 'balanced_accuracy': 0.34209573188119585, 'mcc': 0.5574975931459806}\n",
      "Epoch 7/20\n"
     ]
    },
    {
     "name": "stderr",
     "output_type": "stream",
     "text": [
      "100%|██████████| 476/476 [03:26<00:00,  2.31it/s]\n"
     ]
    },
    {
     "name": "stdout",
     "output_type": "stream",
     "text": [
      "{'val_loss': 1.4688095711874511, 'val_accuracy': 0.6662721893491125, 'precision': 0.65011927596309, 'recall': 0.6662721893491125, 'f1-score': 0.6427491726908762, 'macro_f1-score': 0.3250751453496404, 'balanced_accuracy': 0.32155018106406286, 'mcc': 0.5514419536316285}\n",
      "Epoch 8/20\n"
     ]
    },
    {
     "name": "stderr",
     "output_type": "stream",
     "text": [
      "100%|██████████| 476/476 [03:26<00:00,  2.30it/s]\n"
     ]
    },
    {
     "name": "stdout",
     "output_type": "stream",
     "text": [
      "{'val_loss': 1.6244742808476933, 'val_accuracy': 0.642603550295858, 'precision': 0.6470904233234898, 'recall': 0.642603550295858, 'f1-score': 0.6281056888725313, 'macro_f1-score': 0.3419123761575905, 'balanced_accuracy': 0.34955900885478075, 'mcc': 0.5243393480683692}\n",
      "Epoch 9/20\n"
     ]
    },
    {
     "name": "stderr",
     "output_type": "stream",
     "text": [
      "100%|██████████| 476/476 [03:26<00:00,  2.30it/s]\n"
     ]
    },
    {
     "name": "stdout",
     "output_type": "stream",
     "text": [
      "{'val_loss': 1.6453942926424854, 'val_accuracy': 0.663905325443787, 'precision': 0.6354141266511621, 'recall': 0.663905325443787, 'f1-score': 0.6281175504520293, 'macro_f1-score': 0.349498666820917, 'balanced_accuracy': 0.33001770100330396, 'mcc': 0.5406531291346811}\n",
      "Epoch 10/20\n"
     ]
    },
    {
     "name": "stderr",
     "output_type": "stream",
     "text": [
      "100%|██████████| 476/476 [03:26<00:00,  2.31it/s]\n"
     ]
    },
    {
     "name": "stdout",
     "output_type": "stream",
     "text": [
      "{'val_loss': 1.6667702006843854, 'val_accuracy': 0.6698224852071006, 'precision': 0.671311248824795, 'recall': 0.6698224852071006, 'f1-score': 0.655164729438605, 'macro_f1-score': 0.37736401551663834, 'balanced_accuracy': 0.3838621672002628, 'mcc': 0.5656471275425883}\n",
      "Epoch 11/20\n"
     ]
    },
    {
     "name": "stderr",
     "output_type": "stream",
     "text": [
      "100%|██████████| 476/476 [03:26<00:00,  2.31it/s]\n"
     ]
    },
    {
     "name": "stdout",
     "output_type": "stream",
     "text": [
      "{'val_loss': 1.6748776700136796, 'val_accuracy': 0.650887573964497, 'precision': 0.6448612970090305, 'recall': 0.650887573964497, 'f1-score': 0.632569724766988, 'macro_f1-score': 0.3318283248783844, 'balanced_accuracy': 0.35774424829621104, 'mcc': 0.5385741828152218}\n",
      "Epoch 12/20\n"
     ]
    },
    {
     "name": "stderr",
     "output_type": "stream",
     "text": [
      "100%|██████████| 476/476 [03:26<00:00,  2.30it/s]\n"
     ]
    },
    {
     "name": "stdout",
     "output_type": "stream",
     "text": [
      "{'val_loss': 1.630849023472588, 'val_accuracy': 0.659171597633136, 'precision': 0.6767228566469546, 'recall': 0.659171597633136, 'f1-score': 0.6425861607143304, 'macro_f1-score': 0.34899996797601196, 'balanced_accuracy': 0.36065755148878753, 'mcc': 0.5507816406989955}\n",
      "Epoch 13/20\n"
     ]
    },
    {
     "name": "stderr",
     "output_type": "stream",
     "text": [
      "100%|██████████| 476/476 [03:26<00:00,  2.31it/s]\n"
     ]
    },
    {
     "name": "stdout",
     "output_type": "stream",
     "text": [
      "{'val_loss': 1.8476556615447097, 'val_accuracy': 0.6473372781065089, 'precision': 0.6484315923114822, 'recall': 0.6473372781065089, 'f1-score': 0.6281600249242216, 'macro_f1-score': 0.30042827325005056, 'balanced_accuracy': 0.3147932353056318, 'mcc': 0.5311134677112781}\n",
      "Early stopping triggered at epoch 13\n",
      "Fold 6\n",
      "Training set label distribution: {0: 3577, 1: 28, 2: 126, 3: 27, 4: 231, 5: 131, 6: 106, 7: 35, 8: 77, 9: 73, 10: 79, 11: 193, 12: 217, 13: 33, 14: 26, 15: 28, 16: 22, 17: 260, 18: 105, 19: 50, 20: 16, 21: 40, 22: 87, 23: 180, 24: 18, 25: 57, 26: 96, 27: 55, 28: 14, 29: 14, 30: 17, 31: 90, 32: 41, 33: 36, 34: 33, 35: 14, 36: 31, 37: 24, 38: 6, 39: 116, 40: 13, 41: 10, 42: 165, 43: 18, 44: 23, 45: 10, 46: 61, 47: 595, 48: 227, 49: 78}\n",
      "Validation set label distribution: {0: 397, 1: 3, 2: 14, 3: 3, 4: 26, 5: 14, 6: 12, 7: 4, 8: 8, 9: 8, 10: 9, 11: 22, 12: 24, 13: 3, 14: 3, 15: 3, 16: 3, 17: 29, 18: 11, 19: 6, 20: 2, 21: 4, 22: 10, 23: 20, 24: 2, 25: 6, 26: 11, 27: 6, 28: 1, 29: 2, 30: 2, 31: 10, 32: 4, 33: 4, 34: 4, 35: 1, 36: 4, 37: 3, 38: 1, 39: 13, 40: 1, 41: 1, 42: 19, 43: 2, 44: 2, 45: 1, 46: 7, 47: 66, 48: 25, 49: 9}\n"
     ]
    },
    {
     "name": "stderr",
     "output_type": "stream",
     "text": [
      "Some weights of BertForSequenceClassification were not initialized from the model checkpoint at bert-base-uncased and are newly initialized: ['classifier.bias', 'classifier.weight']\n",
      "You should probably TRAIN this model on a down-stream task to be able to use it for predictions and inference.\n"
     ]
    },
    {
     "name": "stdout",
     "output_type": "stream",
     "text": [
      "Epoch 1/20\n"
     ]
    },
    {
     "name": "stderr",
     "output_type": "stream",
     "text": [
      "100%|██████████| 476/476 [03:25<00:00,  2.31it/s]\n"
     ]
    },
    {
     "name": "stdout",
     "output_type": "stream",
     "text": [
      "{'val_loss': 1.5492669850025538, 'val_accuracy': 0.6071005917159763, 'precision': 0.4205579907729762, 'recall': 0.6071005917159763, 'f1-score': 0.49035701640539336, 'macro_f1-score': 0.09330147824094659, 'balanced_accuracy': 0.10967649833174846, 'mcc': 0.4359112605580531}\n",
      "Epoch 2/20\n"
     ]
    },
    {
     "name": "stderr",
     "output_type": "stream",
     "text": [
      "100%|██████████| 476/476 [03:25<00:00,  2.32it/s]\n"
     ]
    },
    {
     "name": "stdout",
     "output_type": "stream",
     "text": [
      "{'val_loss': 1.296193262878454, 'val_accuracy': 0.6461538461538462, 'precision': 0.5742977585774698, 'recall': 0.6461538461538462, 'f1-score': 0.5982958489128569, 'macro_f1-score': 0.18823400335056711, 'balanced_accuracy': 0.20091648409257565, 'mcc': 0.5221489881011427}\n",
      "Epoch 3/20\n"
     ]
    },
    {
     "name": "stderr",
     "output_type": "stream",
     "text": [
      "100%|██████████| 476/476 [03:25<00:00,  2.32it/s]\n"
     ]
    },
    {
     "name": "stdout",
     "output_type": "stream",
     "text": [
      "{'val_loss': 1.2263825856289774, 'val_accuracy': 0.672189349112426, 'precision': 0.6395797643895951, 'recall': 0.672189349112426, 'f1-score': 0.6380751649794616, 'macro_f1-score': 0.2397491632363736, 'balanced_accuracy': 0.24671740819139776, 'mcc': 0.5644327321005936}\n",
      "Epoch 4/20\n"
     ]
    },
    {
     "name": "stderr",
     "output_type": "stream",
     "text": [
      "100%|██████████| 476/476 [03:25<00:00,  2.32it/s]\n"
     ]
    },
    {
     "name": "stdout",
     "output_type": "stream",
     "text": [
      "{'val_loss': 1.2492104347022075, 'val_accuracy': 0.6804733727810651, 'precision': 0.6328078939248648, 'recall': 0.6804733727810651, 'f1-score': 0.6472802339310266, 'macro_f1-score': 0.29569692587158486, 'balanced_accuracy': 0.2927654914481518, 'mcc': 0.5668365501414171}\n",
      "Epoch 5/20\n"
     ]
    },
    {
     "name": "stderr",
     "output_type": "stream",
     "text": [
      "100%|██████████| 476/476 [03:25<00:00,  2.32it/s]\n"
     ]
    },
    {
     "name": "stdout",
     "output_type": "stream",
     "text": [
      "{'val_loss': 1.2605004018207766, 'val_accuracy': 0.6781065088757396, 'precision': 0.6634489009254384, 'recall': 0.6781065088757396, 'f1-score': 0.6573181738373077, 'macro_f1-score': 0.2920772902663663, 'balanced_accuracy': 0.3017293753714618, 'mcc': 0.5758683157482826}\n",
      "Epoch 6/20\n"
     ]
    },
    {
     "name": "stderr",
     "output_type": "stream",
     "text": [
      "100%|██████████| 476/476 [03:24<00:00,  2.33it/s]\n"
     ]
    },
    {
     "name": "stdout",
     "output_type": "stream",
     "text": [
      "{'val_loss': 1.341655116598561, 'val_accuracy': 0.6674556213017752, 'precision': 0.6529088740150012, 'recall': 0.6674556213017752, 'f1-score': 0.6491683438687866, 'macro_f1-score': 0.2690664560423565, 'balanced_accuracy': 0.2766752227273651, 'mcc': 0.5628373815364361}\n",
      "Epoch 7/20\n"
     ]
    },
    {
     "name": "stderr",
     "output_type": "stream",
     "text": [
      "100%|██████████| 476/476 [03:25<00:00,  2.32it/s]\n"
     ]
    },
    {
     "name": "stdout",
     "output_type": "stream",
     "text": [
      "{'val_loss': 1.4332227414509036, 'val_accuracy': 0.6674556213017752, 'precision': 0.6879774931031392, 'recall': 0.6674556213017752, 'f1-score': 0.6612395817388699, 'macro_f1-score': 0.35371660322071913, 'balanced_accuracy': 0.3674153704995289, 'mcc': 0.569519938983191}\n",
      "Epoch 8/20\n"
     ]
    },
    {
     "name": "stderr",
     "output_type": "stream",
     "text": [
      "100%|██████████| 476/476 [03:25<00:00,  2.31it/s]\n"
     ]
    },
    {
     "name": "stdout",
     "output_type": "stream",
     "text": [
      "{'val_loss': 1.3787314351999536, 'val_accuracy': 0.7041420118343196, 'precision': 0.6923898664064181, 'recall': 0.7041420118343196, 'f1-score': 0.6790723168433674, 'macro_f1-score': 0.3975016048486853, 'balanced_accuracy': 0.39274339851611584, 'mcc': 0.6031030308828358}\n",
      "Epoch 9/20\n"
     ]
    },
    {
     "name": "stderr",
     "output_type": "stream",
     "text": [
      "100%|██████████| 476/476 [03:25<00:00,  2.31it/s]\n"
     ]
    },
    {
     "name": "stdout",
     "output_type": "stream",
     "text": [
      "{'val_loss': 1.5267704154522914, 'val_accuracy': 0.6982248520710059, 'precision': 0.6764043931163043, 'recall': 0.6982248520710059, 'f1-score': 0.6697997094194328, 'macro_f1-score': 0.3753689538696222, 'balanced_accuracy': 0.35349420250317865, 'mcc': 0.590656898239295}\n",
      "Epoch 10/20\n"
     ]
    },
    {
     "name": "stderr",
     "output_type": "stream",
     "text": [
      "100%|██████████| 476/476 [03:26<00:00,  2.31it/s]\n"
     ]
    },
    {
     "name": "stdout",
     "output_type": "stream",
     "text": [
      "{'val_loss': 1.4297019642479014, 'val_accuracy': 0.6911242603550296, 'precision': 0.6854564787936589, 'recall': 0.6911242603550296, 'f1-score': 0.6779617274015313, 'macro_f1-score': 0.404884037072917, 'balanced_accuracy': 0.4191418453165645, 'mcc': 0.5920043584887191}\n",
      "Epoch 11/20\n"
     ]
    },
    {
     "name": "stderr",
     "output_type": "stream",
     "text": [
      "100%|██████████| 476/476 [03:25<00:00,  2.32it/s]\n"
     ]
    },
    {
     "name": "stdout",
     "output_type": "stream",
     "text": [
      "{'val_loss': 1.5596916861129257, 'val_accuracy': 0.6994082840236686, 'precision': 0.7055126036539641, 'recall': 0.6994082840236686, 'f1-score': 0.6805265057884438, 'macro_f1-score': 0.4116481964884868, 'balanced_accuracy': 0.414592577466567, 'mcc': 0.6012402122470725}\n",
      "Epoch 12/20\n"
     ]
    },
    {
     "name": "stderr",
     "output_type": "stream",
     "text": [
      "100%|██████████| 476/476 [03:26<00:00,  2.31it/s]\n"
     ]
    },
    {
     "name": "stdout",
     "output_type": "stream",
     "text": [
      "{'val_loss': 1.5827229219787526, 'val_accuracy': 0.6816568047337278, 'precision': 0.6752309889125425, 'recall': 0.6816568047337278, 'f1-score': 0.6712021720328337, 'macro_f1-score': 0.382655757477706, 'balanced_accuracy': 0.39415245064034815, 'mcc': 0.5846354062067702}\n",
      "Epoch 13/20\n"
     ]
    },
    {
     "name": "stderr",
     "output_type": "stream",
     "text": [
      "100%|██████████| 476/476 [03:25<00:00,  2.32it/s]\n"
     ]
    },
    {
     "name": "stdout",
     "output_type": "stream",
     "text": [
      "{'val_loss': 1.5559889820386779, 'val_accuracy': 0.6946745562130178, 'precision': 0.7059303436156757, 'recall': 0.6946745562130178, 'f1-score': 0.6852900830127088, 'macro_f1-score': 0.4318122947618528, 'balanced_accuracy': 0.4175976502728732, 'mcc': 0.5947081129917324}\n",
      "Epoch 14/20\n"
     ]
    },
    {
     "name": "stderr",
     "output_type": "stream",
     "text": [
      "100%|██████████| 476/476 [03:25<00:00,  2.32it/s]\n"
     ]
    },
    {
     "name": "stdout",
     "output_type": "stream",
     "text": [
      "{'val_loss': 1.7041255128833483, 'val_accuracy': 0.659171597633136, 'precision': 0.6937611068846807, 'recall': 0.659171597633136, 'f1-score': 0.6595865453701029, 'macro_f1-score': 0.4112914251469924, 'balanced_accuracy': 0.44379523715282787, 'mcc': 0.5570913707086913}\n",
      "Epoch 15/20\n"
     ]
    },
    {
     "name": "stderr",
     "output_type": "stream",
     "text": [
      "100%|██████████| 476/476 [03:24<00:00,  2.33it/s]\n"
     ]
    },
    {
     "name": "stdout",
     "output_type": "stream",
     "text": [
      "{'val_loss': 1.681021122437603, 'val_accuracy': 0.6662721893491125, 'precision': 0.6706383194874679, 'recall': 0.6662721893491125, 'f1-score': 0.658130131460299, 'macro_f1-score': 0.34555821938674824, 'balanced_accuracy': 0.3669677014084155, 'mcc': 0.5676344478240277}\n",
      "Epoch 16/20\n"
     ]
    },
    {
     "name": "stderr",
     "output_type": "stream",
     "text": [
      "100%|██████████| 476/476 [03:24<00:00,  2.32it/s]\n"
     ]
    },
    {
     "name": "stdout",
     "output_type": "stream",
     "text": [
      "{'val_loss': 1.746576355875663, 'val_accuracy': 0.6946745562130178, 'precision': 0.6838930379233978, 'recall': 0.6946745562130178, 'f1-score': 0.6792057967135952, 'macro_f1-score': 0.4409509111749677, 'balanced_accuracy': 0.43360417115620065, 'mcc': 0.5904141465734141}\n",
      "Epoch 17/20\n"
     ]
    },
    {
     "name": "stderr",
     "output_type": "stream",
     "text": [
      "100%|██████████| 476/476 [03:24<00:00,  2.33it/s]\n"
     ]
    },
    {
     "name": "stdout",
     "output_type": "stream",
     "text": [
      "{'val_loss': 1.7512553564782412, 'val_accuracy': 0.6461538461538462, 'precision': 0.6966317569315346, 'recall': 0.6461538461538462, 'f1-score': 0.650544597884676, 'macro_f1-score': 0.361239870814797, 'balanced_accuracy': 0.41334763812878705, 'mcc': 0.5465693690014538}\n",
      "Epoch 18/20\n"
     ]
    },
    {
     "name": "stderr",
     "output_type": "stream",
     "text": [
      "100%|██████████| 476/476 [03:23<00:00,  2.33it/s]\n"
     ]
    },
    {
     "name": "stdout",
     "output_type": "stream",
     "text": [
      "{'val_loss': 1.7024935287124705, 'val_accuracy': 0.6674556213017752, 'precision': 0.6671274080273343, 'recall': 0.6674556213017752, 'f1-score': 0.6530146244836308, 'macro_f1-score': 0.331767622331147, 'balanced_accuracy': 0.34165268774973184, 'mcc': 0.5656434419341746}\n",
      "Epoch 19/20\n"
     ]
    },
    {
     "name": "stderr",
     "output_type": "stream",
     "text": [
      "100%|██████████| 476/476 [03:25<00:00,  2.31it/s]\n"
     ]
    },
    {
     "name": "stdout",
     "output_type": "stream",
     "text": [
      "{'val_loss': 1.6958962448363035, 'val_accuracy': 0.7124260355029586, 'precision': 0.7018551494556502, 'recall': 0.7124260355029586, 'f1-score': 0.6889170426881689, 'macro_f1-score': 0.40600525239861457, 'balanced_accuracy': 0.40028549227635835, 'mcc': 0.614025513721897}\n",
      "Early stopping triggered at epoch 19\n",
      "Fold 7\n",
      "Training set label distribution: {0: 3577, 1: 28, 2: 126, 3: 27, 4: 232, 5: 130, 6: 106, 7: 35, 8: 77, 9: 73, 10: 79, 11: 193, 12: 217, 13: 33, 14: 26, 15: 28, 16: 22, 17: 260, 18: 105, 19: 50, 20: 16, 21: 40, 22: 87, 23: 180, 24: 18, 25: 57, 26: 96, 27: 55, 28: 14, 29: 14, 30: 17, 31: 90, 32: 41, 33: 36, 34: 33, 35: 14, 36: 31, 37: 25, 38: 6, 39: 116, 40: 12, 41: 10, 42: 165, 43: 18, 44: 23, 45: 10, 46: 62, 47: 594, 48: 227, 49: 78}\n",
      "Validation set label distribution: {0: 397, 1: 3, 2: 14, 3: 3, 4: 25, 5: 15, 6: 12, 7: 4, 8: 8, 9: 8, 10: 9, 11: 22, 12: 24, 13: 3, 14: 3, 15: 3, 16: 3, 17: 29, 18: 11, 19: 6, 20: 2, 21: 4, 22: 10, 23: 20, 24: 2, 25: 6, 26: 11, 27: 6, 28: 1, 29: 2, 30: 2, 31: 10, 32: 4, 33: 4, 34: 4, 35: 1, 36: 4, 37: 2, 38: 1, 39: 13, 40: 2, 41: 1, 42: 19, 43: 2, 44: 2, 45: 1, 46: 6, 47: 67, 48: 25, 49: 9}\n"
     ]
    },
    {
     "name": "stderr",
     "output_type": "stream",
     "text": [
      "Some weights of BertForSequenceClassification were not initialized from the model checkpoint at bert-base-uncased and are newly initialized: ['classifier.bias', 'classifier.weight']\n",
      "You should probably TRAIN this model on a down-stream task to be able to use it for predictions and inference.\n"
     ]
    },
    {
     "name": "stdout",
     "output_type": "stream",
     "text": [
      "Epoch 1/20\n"
     ]
    },
    {
     "name": "stderr",
     "output_type": "stream",
     "text": [
      "100%|██████████| 476/476 [03:23<00:00,  2.34it/s]\n"
     ]
    },
    {
     "name": "stdout",
     "output_type": "stream",
     "text": [
      "{'val_loss': 1.546487789109068, 'val_accuracy': 0.6130177514792899, 'precision': 0.47678150881813, 'recall': 0.6130177514792899, 'f1-score': 0.5091917405759598, 'macro_f1-score': 0.09646825765393428, 'balanced_accuracy': 0.11489455595008329, 'mcc': 0.45219187677302236}\n",
      "Epoch 2/20\n"
     ]
    },
    {
     "name": "stderr",
     "output_type": "stream",
     "text": [
      "100%|██████████| 476/476 [03:24<00:00,  2.33it/s]\n"
     ]
    },
    {
     "name": "stdout",
     "output_type": "stream",
     "text": [
      "{'val_loss': 1.340238757853238, 'val_accuracy': 0.6366863905325444, 'precision': 0.5885585706314069, 'recall': 0.6366863905325444, 'f1-score': 0.5985193460769718, 'macro_f1-score': 0.2070152227941092, 'balanced_accuracy': 0.2187779848609965, 'mcc': 0.510652732544726}\n",
      "Epoch 3/20\n"
     ]
    },
    {
     "name": "stderr",
     "output_type": "stream",
     "text": [
      "100%|██████████| 476/476 [03:25<00:00,  2.32it/s]\n"
     ]
    },
    {
     "name": "stdout",
     "output_type": "stream",
     "text": [
      "{'val_loss': 1.2189961503136832, 'val_accuracy': 0.6710059171597633, 'precision': 0.6209974631460217, 'recall': 0.6710059171597633, 'f1-score': 0.6269523523519435, 'macro_f1-score': 0.25336256139953367, 'balanced_accuracy': 0.2657733289156456, 'mcc': 0.5566198828137594}\n",
      "Epoch 4/20\n"
     ]
    },
    {
     "name": "stderr",
     "output_type": "stream",
     "text": [
      "100%|██████████| 476/476 [03:26<00:00,  2.31it/s]\n"
     ]
    },
    {
     "name": "stdout",
     "output_type": "stream",
     "text": [
      "{'val_loss': 1.3422548545981354, 'val_accuracy': 0.6449704142011834, 'precision': 0.6644745213466344, 'recall': 0.6449704142011834, 'f1-score': 0.6419077604541559, 'macro_f1-score': 0.31748082723432136, 'balanced_accuracy': 0.353327203109275, 'mcc': 0.5483490541859984}\n",
      "Epoch 5/20\n"
     ]
    },
    {
     "name": "stderr",
     "output_type": "stream",
     "text": [
      "100%|██████████| 476/476 [03:25<00:00,  2.31it/s]\n"
     ]
    },
    {
     "name": "stdout",
     "output_type": "stream",
     "text": [
      "{'val_loss': 1.3042236791466766, 'val_accuracy': 0.6662721893491125, 'precision': 0.6725845379397501, 'recall': 0.6662721893491125, 'f1-score': 0.6569674895457551, 'macro_f1-score': 0.3565080227458284, 'balanced_accuracy': 0.3684981963627522, 'mcc': 0.5611035774446496}\n",
      "Epoch 6/20\n"
     ]
    },
    {
     "name": "stderr",
     "output_type": "stream",
     "text": [
      "100%|██████████| 476/476 [03:25<00:00,  2.32it/s]\n"
     ]
    },
    {
     "name": "stdout",
     "output_type": "stream",
     "text": [
      "{'val_loss': 1.4046346112242285, 'val_accuracy': 0.6485207100591716, 'precision': 0.6781045730495441, 'recall': 0.6485207100591716, 'f1-score': 0.6456961164825907, 'macro_f1-score': 0.36353000865665275, 'balanced_accuracy': 0.3940925515457315, 'mcc': 0.5462020895788964}\n",
      "Epoch 7/20\n"
     ]
    },
    {
     "name": "stderr",
     "output_type": "stream",
     "text": [
      "100%|██████████| 476/476 [03:24<00:00,  2.33it/s]\n"
     ]
    },
    {
     "name": "stdout",
     "output_type": "stream",
     "text": [
      "{'val_loss': 1.3846758862711348, 'val_accuracy': 0.6804733727810651, 'precision': 0.692562315808735, 'recall': 0.6804733727810651, 'f1-score': 0.6750237453032151, 'macro_f1-score': 0.3887767276791609, 'balanced_accuracy': 0.41089575596365807, 'mcc': 0.5867144514620217}\n",
      "Epoch 8/20\n"
     ]
    },
    {
     "name": "stderr",
     "output_type": "stream",
     "text": [
      "100%|██████████| 476/476 [03:25<00:00,  2.31it/s]\n"
     ]
    },
    {
     "name": "stdout",
     "output_type": "stream",
     "text": [
      "{'val_loss': 1.4763510828872897, 'val_accuracy': 0.6923076923076923, 'precision': 0.6909111828342597, 'recall': 0.6923076923076923, 'f1-score': 0.6816386071977836, 'macro_f1-score': 0.40186817817485676, 'balanced_accuracy': 0.4223576630442919, 'mcc': 0.5966347021463485}\n",
      "Epoch 9/20\n"
     ]
    },
    {
     "name": "stderr",
     "output_type": "stream",
     "text": [
      "100%|██████████| 476/476 [03:24<00:00,  2.32it/s]\n"
     ]
    },
    {
     "name": "stdout",
     "output_type": "stream",
     "text": [
      "{'val_loss': 1.4870700459435302, 'val_accuracy': 0.6733727810650888, 'precision': 0.6756601864614807, 'recall': 0.6733727810650888, 'f1-score': 0.6663178873438691, 'macro_f1-score': 0.3612071672562236, 'balanced_accuracy': 0.37923752234161023, 'mcc': 0.576638369046724}\n",
      "Epoch 10/20\n"
     ]
    },
    {
     "name": "stderr",
     "output_type": "stream",
     "text": [
      "100%|██████████| 476/476 [03:24<00:00,  2.33it/s]\n"
     ]
    },
    {
     "name": "stdout",
     "output_type": "stream",
     "text": [
      "{'val_loss': 1.4850236998414093, 'val_accuracy': 0.6875739644970414, 'precision': 0.666095937194005, 'recall': 0.6875739644970414, 'f1-score': 0.6680256069392685, 'macro_f1-score': 0.3870627060034158, 'balanced_accuracy': 0.39642252560440583, 'mcc': 0.5819149242709979}\n",
      "Epoch 11/20\n"
     ]
    },
    {
     "name": "stderr",
     "output_type": "stream",
     "text": [
      "100%|██████████| 476/476 [03:25<00:00,  2.32it/s]\n"
     ]
    },
    {
     "name": "stdout",
     "output_type": "stream",
     "text": [
      "{'val_loss': 1.5318586933162976, 'val_accuracy': 0.6745562130177515, 'precision': 0.6561128930415496, 'recall': 0.6745562130177515, 'f1-score': 0.6566136978522369, 'macro_f1-score': 0.40095064552972665, 'balanced_accuracy': 0.40224014103833455, 'mcc': 0.5706149367884467}\n",
      "Early stopping triggered at epoch 11\n",
      "Fold 8\n",
      "Training set label distribution: {0: 3577, 1: 28, 2: 126, 3: 27, 4: 232, 5: 130, 6: 106, 7: 35, 8: 77, 9: 73, 10: 79, 11: 194, 12: 216, 13: 33, 14: 26, 15: 28, 16: 22, 17: 260, 18: 105, 19: 50, 20: 16, 21: 40, 22: 87, 23: 180, 24: 18, 25: 57, 26: 96, 27: 55, 28: 13, 29: 14, 30: 18, 31: 90, 32: 40, 33: 36, 34: 33, 35: 14, 36: 31, 37: 25, 38: 6, 39: 116, 40: 12, 41: 10, 42: 165, 43: 18, 44: 23, 45: 10, 46: 62, 47: 595, 48: 226, 49: 79}\n",
      "Validation set label distribution: {0: 397, 1: 3, 2: 14, 3: 3, 4: 25, 5: 15, 6: 12, 7: 4, 8: 8, 9: 8, 10: 9, 11: 21, 12: 25, 13: 3, 14: 3, 15: 3, 16: 3, 17: 29, 18: 11, 19: 6, 20: 2, 21: 4, 22: 10, 23: 20, 24: 2, 25: 6, 26: 11, 27: 6, 28: 2, 29: 2, 30: 1, 31: 10, 32: 5, 33: 4, 34: 4, 35: 1, 36: 4, 37: 2, 38: 1, 39: 13, 40: 2, 41: 1, 42: 19, 43: 2, 44: 2, 45: 1, 46: 6, 47: 66, 48: 26, 49: 8}\n"
     ]
    },
    {
     "name": "stderr",
     "output_type": "stream",
     "text": [
      "Some weights of BertForSequenceClassification were not initialized from the model checkpoint at bert-base-uncased and are newly initialized: ['classifier.bias', 'classifier.weight']\n",
      "You should probably TRAIN this model on a down-stream task to be able to use it for predictions and inference.\n"
     ]
    },
    {
     "name": "stdout",
     "output_type": "stream",
     "text": [
      "Epoch 1/20\n"
     ]
    },
    {
     "name": "stderr",
     "output_type": "stream",
     "text": [
      "100%|██████████| 476/476 [03:25<00:00,  2.32it/s]\n"
     ]
    },
    {
     "name": "stdout",
     "output_type": "stream",
     "text": [
      "{'val_loss': 1.4936788273307513, 'val_accuracy': 0.6224852071005917, 'precision': 0.4651719670671367, 'recall': 0.6224852071005917, 'f1-score': 0.523143318266529, 'macro_f1-score': 0.10836456554882119, 'balanced_accuracy': 0.12591206322938414, 'mcc': 0.4690865895488588}\n",
      "Epoch 2/20\n"
     ]
    },
    {
     "name": "stderr",
     "output_type": "stream",
     "text": [
      "100%|██████████| 476/476 [03:25<00:00,  2.32it/s]\n"
     ]
    },
    {
     "name": "stdout",
     "output_type": "stream",
     "text": [
      "{'val_loss': 1.3079572010715053, 'val_accuracy': 0.6532544378698225, 'precision': 0.5834466636638076, 'recall': 0.6532544378698225, 'f1-score': 0.5898341797611111, 'macro_f1-score': 0.1879574468319842, 'balanced_accuracy': 0.18394640211319346, 'mcc': 0.5136395082927978}\n",
      "Epoch 3/20\n"
     ]
    },
    {
     "name": "stderr",
     "output_type": "stream",
     "text": [
      "100%|██████████| 476/476 [03:25<00:00,  2.31it/s]\n"
     ]
    },
    {
     "name": "stdout",
     "output_type": "stream",
     "text": [
      "{'val_loss': 1.2156968223598767, 'val_accuracy': 0.6662721893491125, 'precision': 0.6405497994714916, 'recall': 0.6662721893491125, 'f1-score': 0.6419965370832241, 'macro_f1-score': 0.2913451000267317, 'balanced_accuracy': 0.2972460368318602, 'mcc': 0.5592885279662434}\n",
      "Epoch 4/20\n"
     ]
    },
    {
     "name": "stderr",
     "output_type": "stream",
     "text": [
      "100%|██████████| 476/476 [03:25<00:00,  2.31it/s]\n"
     ]
    },
    {
     "name": "stdout",
     "output_type": "stream",
     "text": [
      "{'val_loss': 1.2326015177762732, 'val_accuracy': 0.6781065088757396, 'precision': 0.6842446555452655, 'recall': 0.6781065088757396, 'f1-score': 0.6625539475122436, 'macro_f1-score': 0.32942566966095915, 'balanced_accuracy': 0.3286567135933518, 'mcc': 0.5744301867249291}\n",
      "Epoch 5/20\n"
     ]
    },
    {
     "name": "stderr",
     "output_type": "stream",
     "text": [
      "100%|██████████| 476/476 [03:25<00:00,  2.32it/s]\n"
     ]
    },
    {
     "name": "stdout",
     "output_type": "stream",
     "text": [
      "{'val_loss': 1.2398112090128772, 'val_accuracy': 0.6970414201183432, 'precision': 0.6831213262694291, 'recall': 0.6970414201183432, 'f1-score': 0.6777044703897452, 'macro_f1-score': 0.37872733669036585, 'balanced_accuracy': 0.3565256267139151, 'mcc': 0.595485712995868}\n",
      "Epoch 6/20\n"
     ]
    },
    {
     "name": "stderr",
     "output_type": "stream",
     "text": [
      "100%|██████████| 476/476 [03:25<00:00,  2.32it/s]\n"
     ]
    },
    {
     "name": "stdout",
     "output_type": "stream",
     "text": [
      "{'val_loss': 1.339309962290638, 'val_accuracy': 0.6544378698224852, 'precision': 0.6736381155086444, 'recall': 0.6544378698224852, 'f1-score': 0.6495604593958645, 'macro_f1-score': 0.337542554254507, 'balanced_accuracy': 0.33352884734306054, 'mcc': 0.5487159198932634}\n",
      "Epoch 7/20\n"
     ]
    },
    {
     "name": "stderr",
     "output_type": "stream",
     "text": [
      "100%|██████████| 476/476 [03:26<00:00,  2.30it/s]\n"
     ]
    },
    {
     "name": "stdout",
     "output_type": "stream",
     "text": [
      "{'val_loss': 1.407834939236911, 'val_accuracy': 0.6840236686390533, 'precision': 0.6882506066795372, 'recall': 0.6840236686390533, 'f1-score': 0.6683699208092261, 'macro_f1-score': 0.40749554087708184, 'balanced_accuracy': 0.4057288482098121, 'mcc': 0.5869229917844825}\n",
      "Epoch 8/20\n"
     ]
    },
    {
     "name": "stderr",
     "output_type": "stream",
     "text": [
      "100%|██████████| 476/476 [03:24<00:00,  2.32it/s]\n"
     ]
    },
    {
     "name": "stdout",
     "output_type": "stream",
     "text": [
      "{'val_loss': 1.4656086901448808, 'val_accuracy': 0.6745562130177515, 'precision': 0.6774719028422871, 'recall': 0.6745562130177515, 'f1-score': 0.6605769805325233, 'macro_f1-score': 0.3932244043126427, 'balanced_accuracy': 0.3816414706750662, 'mcc': 0.5748856341846081}\n",
      "Epoch 9/20\n"
     ]
    },
    {
     "name": "stderr",
     "output_type": "stream",
     "text": [
      "100%|██████████| 476/476 [03:24<00:00,  2.32it/s]\n"
     ]
    },
    {
     "name": "stdout",
     "output_type": "stream",
     "text": [
      "{'val_loss': 1.437137929898388, 'val_accuracy': 0.6994082840236686, 'precision': 0.7021063726267777, 'recall': 0.6994082840236686, 'f1-score': 0.6782851626935462, 'macro_f1-score': 0.4321674362689999, 'balanced_accuracy': 0.4153787855338244, 'mcc': 0.5970702987312124}\n",
      "Epoch 10/20\n"
     ]
    },
    {
     "name": "stderr",
     "output_type": "stream",
     "text": [
      "100%|██████████| 476/476 [03:25<00:00,  2.32it/s]\n"
     ]
    },
    {
     "name": "stdout",
     "output_type": "stream",
     "text": [
      "{'val_loss': 1.5768025517463684, 'val_accuracy': 0.6710059171597633, 'precision': 0.6993049353292455, 'recall': 0.6710059171597633, 'f1-score': 0.6574532313278433, 'macro_f1-score': 0.38693013222218164, 'balanced_accuracy': 0.37613108565905323, 'mcc': 0.5683434913971187}\n",
      "Epoch 11/20\n"
     ]
    },
    {
     "name": "stderr",
     "output_type": "stream",
     "text": [
      "100%|██████████| 476/476 [03:26<00:00,  2.30it/s]\n"
     ]
    },
    {
     "name": "stdout",
     "output_type": "stream",
     "text": [
      "{'val_loss': 1.4903929227927946, 'val_accuracy': 0.6911242603550296, 'precision': 0.6819628329636724, 'recall': 0.6911242603550296, 'f1-score': 0.6739149834734062, 'macro_f1-score': 0.40440579420481193, 'balanced_accuracy': 0.39026242099216446, 'mcc': 0.5909004199102518}\n",
      "Epoch 12/20\n"
     ]
    },
    {
     "name": "stderr",
     "output_type": "stream",
     "text": [
      "100%|██████████| 476/476 [03:26<00:00,  2.30it/s]\n"
     ]
    },
    {
     "name": "stdout",
     "output_type": "stream",
     "text": [
      "{'val_loss': 1.6340574619342696, 'val_accuracy': 0.6863905325443787, 'precision': 0.6870096125539819, 'recall': 0.6863905325443787, 'f1-score': 0.6719374694571159, 'macro_f1-score': 0.4298949666787777, 'balanced_accuracy': 0.4178271042238502, 'mcc': 0.5835978674769787}\n",
      "Early stopping triggered at epoch 12\n",
      "Fold 9\n",
      "Training set label distribution: {0: 3577, 1: 28, 2: 126, 3: 27, 4: 232, 5: 130, 6: 106, 7: 36, 8: 76, 9: 73, 10: 79, 11: 194, 12: 217, 13: 32, 14: 26, 15: 28, 16: 22, 17: 261, 18: 104, 19: 50, 20: 17, 21: 39, 22: 87, 23: 180, 24: 18, 25: 57, 26: 96, 27: 55, 28: 13, 29: 15, 30: 17, 31: 90, 32: 40, 33: 36, 34: 33, 35: 14, 36: 31, 37: 25, 38: 7, 39: 116, 40: 12, 41: 10, 42: 166, 43: 18, 44: 22, 45: 10, 46: 61, 47: 595, 48: 226, 49: 79}\n",
      "Validation set label distribution: {0: 397, 1: 3, 2: 14, 3: 3, 4: 25, 5: 15, 6: 12, 7: 3, 8: 9, 9: 8, 10: 9, 11: 21, 12: 24, 13: 4, 14: 3, 15: 3, 16: 3, 17: 28, 18: 12, 19: 6, 20: 1, 21: 5, 22: 10, 23: 20, 24: 2, 25: 6, 26: 11, 27: 6, 28: 2, 29: 1, 30: 2, 31: 10, 32: 5, 33: 4, 34: 4, 35: 1, 36: 4, 37: 2, 39: 13, 40: 2, 41: 1, 42: 18, 43: 2, 44: 3, 45: 1, 46: 7, 47: 66, 48: 26, 49: 8}\n"
     ]
    },
    {
     "name": "stderr",
     "output_type": "stream",
     "text": [
      "Some weights of BertForSequenceClassification were not initialized from the model checkpoint at bert-base-uncased and are newly initialized: ['classifier.bias', 'classifier.weight']\n",
      "You should probably TRAIN this model on a down-stream task to be able to use it for predictions and inference.\n"
     ]
    },
    {
     "name": "stdout",
     "output_type": "stream",
     "text": [
      "Epoch 1/20\n"
     ]
    },
    {
     "name": "stderr",
     "output_type": "stream",
     "text": [
      "100%|██████████| 476/476 [03:27<00:00,  2.29it/s]\n"
     ]
    },
    {
     "name": "stdout",
     "output_type": "stream",
     "text": [
      "{'val_loss': 1.6131444438448492, 'val_accuracy': 0.5952662721893491, 'precision': 0.4681022202684526, 'recall': 0.5952662721893491, 'f1-score': 0.5140404512194247, 'macro_f1-score': 0.10976386911593775, 'balanced_accuracy': 0.1314573624425575, 'mcc': 0.4343453510817981}\n",
      "Epoch 2/20\n"
     ]
    },
    {
     "name": "stderr",
     "output_type": "stream",
     "text": [
      "100%|██████████| 476/476 [03:26<00:00,  2.31it/s]\n"
     ]
    },
    {
     "name": "stdout",
     "output_type": "stream",
     "text": [
      "{'val_loss': 1.359201583097566, 'val_accuracy': 0.642603550295858, 'precision': 0.5832832860947612, 'recall': 0.642603550295858, 'f1-score': 0.5872162309810457, 'macro_f1-score': 0.1958978302395177, 'balanced_accuracy': 0.19838895869405304, 'mcc': 0.5019599097010438}\n",
      "Epoch 3/20\n"
     ]
    },
    {
     "name": "stderr",
     "output_type": "stream",
     "text": [
      "100%|██████████| 476/476 [03:26<00:00,  2.31it/s]\n"
     ]
    },
    {
     "name": "stdout",
     "output_type": "stream",
     "text": [
      "{'val_loss': 1.279856340502793, 'val_accuracy': 0.6662721893491125, 'precision': 0.6021835813146615, 'recall': 0.6662721893491125, 'f1-score': 0.6189132930628696, 'macro_f1-score': 0.24664005023639, 'balanced_accuracy': 0.24421064524673222, 'mcc': 0.5430464859936506}\n",
      "Epoch 4/20\n"
     ]
    },
    {
     "name": "stderr",
     "output_type": "stream",
     "text": [
      "100%|██████████| 476/476 [03:26<00:00,  2.31it/s]\n"
     ]
    },
    {
     "name": "stdout",
     "output_type": "stream",
     "text": [
      "{'val_loss': 1.2322817624739881, 'val_accuracy': 0.6887573964497041, 'precision': 0.6500399099766462, 'recall': 0.6887573964497041, 'f1-score': 0.6604272878347335, 'macro_f1-score': 0.3166244796770452, 'balanced_accuracy': 0.31360972158407, 'mcc': 0.583563300839276}\n",
      "Epoch 5/20\n"
     ]
    },
    {
     "name": "stderr",
     "output_type": "stream",
     "text": [
      "100%|██████████| 476/476 [03:26<00:00,  2.31it/s]\n"
     ]
    },
    {
     "name": "stdout",
     "output_type": "stream",
     "text": [
      "{'val_loss': 1.3220654928459312, 'val_accuracy': 0.6792899408284023, 'precision': 0.6691514992653772, 'recall': 0.6792899408284023, 'f1-score': 0.6634565020007693, 'macro_f1-score': 0.3305893732418478, 'balanced_accuracy': 0.33423002912541794, 'mcc': 0.58168732033092}\n",
      "Epoch 6/20\n"
     ]
    },
    {
     "name": "stderr",
     "output_type": "stream",
     "text": [
      "100%|██████████| 476/476 [03:26<00:00,  2.31it/s]\n"
     ]
    },
    {
     "name": "stdout",
     "output_type": "stream",
     "text": [
      "{'val_loss': 1.3120474039383654, 'val_accuracy': 0.7053254437869823, 'precision': 0.696730060271903, 'recall': 0.7053254437869823, 'f1-score': 0.6896325080473501, 'macro_f1-score': 0.39005615423151496, 'balanced_accuracy': 0.38872630568024596, 'mcc': 0.6105115936542884}\n",
      "Epoch 7/20\n"
     ]
    },
    {
     "name": "stderr",
     "output_type": "stream",
     "text": [
      "100%|██████████| 476/476 [03:25<00:00,  2.32it/s]\n"
     ]
    },
    {
     "name": "stdout",
     "output_type": "stream",
     "text": [
      "{'val_loss': 1.3959772710530263, 'val_accuracy': 0.6757396449704142, 'precision': 0.676828392823868, 'recall': 0.6757396449704142, 'f1-score': 0.6661402750896384, 'macro_f1-score': 0.3396466217969253, 'balanced_accuracy': 0.3542739926557332, 'mcc': 0.5798315831292699}\n",
      "Epoch 8/20\n"
     ]
    },
    {
     "name": "stderr",
     "output_type": "stream",
     "text": [
      "100%|██████████| 476/476 [03:26<00:00,  2.30it/s]\n"
     ]
    },
    {
     "name": "stdout",
     "output_type": "stream",
     "text": [
      "{'val_loss': 1.4034297657462786, 'val_accuracy': 0.6994082840236686, 'precision': 0.6910740029158586, 'recall': 0.6994082840236686, 'f1-score': 0.6880168092063279, 'macro_f1-score': 0.3927083919669712, 'balanced_accuracy': 0.3785355309654903, 'mcc': 0.6030097300304806}\n",
      "Epoch 9/20\n"
     ]
    },
    {
     "name": "stderr",
     "output_type": "stream",
     "text": [
      "100%|██████████| 476/476 [03:26<00:00,  2.31it/s]\n"
     ]
    },
    {
     "name": "stdout",
     "output_type": "stream",
     "text": [
      "{'val_loss': 1.5124624517728698, 'val_accuracy': 0.676923076923077, 'precision': 0.7229839373394612, 'recall': 0.676923076923077, 'f1-score': 0.6843818702439671, 'macro_f1-score': 0.37853040935374227, 'balanced_accuracy': 0.3849004227208103, 'mcc': 0.5860314823567364}\n",
      "Epoch 10/20\n"
     ]
    },
    {
     "name": "stderr",
     "output_type": "stream",
     "text": [
      "100%|██████████| 476/476 [03:26<00:00,  2.30it/s]\n"
     ]
    },
    {
     "name": "stdout",
     "output_type": "stream",
     "text": [
      "{'val_loss': 1.6348929765089504, 'val_accuracy': 0.6615384615384615, 'precision': 0.6786527336240129, 'recall': 0.6615384615384615, 'f1-score': 0.6578351549737377, 'macro_f1-score': 0.35501892650441147, 'balanced_accuracy': 0.3428321700575337, 'mcc': 0.556417272800715}\n",
      "Epoch 11/20\n"
     ]
    },
    {
     "name": "stderr",
     "output_type": "stream",
     "text": [
      "100%|██████████| 476/476 [03:26<00:00,  2.30it/s]\n"
     ]
    },
    {
     "name": "stdout",
     "output_type": "stream",
     "text": [
      "{'val_loss': 1.5069889246292834, 'val_accuracy': 0.6958579881656805, 'precision': 0.6797626889227367, 'recall': 0.6958579881656805, 'f1-score': 0.6737275299204627, 'macro_f1-score': 0.3523092575860761, 'balanced_accuracy': 0.3486675732236828, 'mcc': 0.5949228811907873}\n",
      "Early stopping triggered at epoch 11\n",
      "Fold 10\n",
      "Training set label distribution: {0: 3577, 1: 28, 2: 126, 3: 27, 4: 231, 5: 130, 6: 107, 7: 35, 8: 76, 9: 73, 10: 79, 11: 194, 12: 217, 13: 32, 14: 26, 15: 28, 16: 23, 17: 260, 18: 104, 19: 50, 20: 17, 21: 39, 22: 88, 23: 180, 24: 18, 25: 56, 26: 97, 27: 54, 28: 13, 29: 15, 30: 17, 31: 90, 32: 40, 33: 36, 34: 34, 35: 13, 36: 32, 37: 24, 38: 7, 39: 116, 40: 12, 41: 10, 42: 166, 43: 18, 44: 22, 45: 10, 46: 61, 47: 595, 48: 227, 49: 79}\n",
      "Validation set label distribution: {0: 397, 1: 3, 2: 14, 3: 3, 4: 26, 5: 15, 6: 11, 7: 4, 8: 9, 9: 8, 10: 9, 11: 21, 12: 24, 13: 4, 14: 3, 15: 3, 16: 2, 17: 29, 18: 12, 19: 6, 20: 1, 21: 5, 22: 9, 23: 20, 24: 2, 25: 7, 26: 10, 27: 7, 28: 2, 29: 1, 30: 2, 31: 10, 32: 5, 33: 4, 34: 3, 35: 2, 36: 3, 37: 3, 39: 13, 40: 2, 41: 1, 42: 18, 43: 2, 44: 3, 45: 1, 46: 7, 47: 66, 48: 25, 49: 8}\n"
     ]
    },
    {
     "name": "stderr",
     "output_type": "stream",
     "text": [
      "Some weights of BertForSequenceClassification were not initialized from the model checkpoint at bert-base-uncased and are newly initialized: ['classifier.bias', 'classifier.weight']\n",
      "You should probably TRAIN this model on a down-stream task to be able to use it for predictions and inference.\n"
     ]
    },
    {
     "name": "stdout",
     "output_type": "stream",
     "text": [
      "Epoch 1/20\n"
     ]
    },
    {
     "name": "stderr",
     "output_type": "stream",
     "text": [
      "100%|██████████| 476/476 [03:26<00:00,  2.31it/s]\n"
     ]
    },
    {
     "name": "stdout",
     "output_type": "stream",
     "text": [
      "{'val_loss': 1.475693850022442, 'val_accuracy': 0.6331360946745562, 'precision': 0.4924692006899536, 'recall': 0.6331360946745562, 'f1-score': 0.5342506448492086, 'macro_f1-score': 0.11514236750508294, 'balanced_accuracy': 0.13021073820485135, 'mcc': 0.4833151963753457}\n",
      "Epoch 2/20\n"
     ]
    },
    {
     "name": "stderr",
     "output_type": "stream",
     "text": [
      "100%|██████████| 476/476 [03:26<00:00,  2.30it/s]\n"
     ]
    },
    {
     "name": "stdout",
     "output_type": "stream",
     "text": [
      "{'val_loss': 1.3848444172796213, 'val_accuracy': 0.6532544378698225, 'precision': 0.5694860700234075, 'recall': 0.6532544378698225, 'f1-score': 0.5897339373817351, 'macro_f1-score': 0.19114605794522946, 'balanced_accuracy': 0.20341903302895048, 'mcc': 0.5161436928610134}\n",
      "Epoch 3/20\n"
     ]
    },
    {
     "name": "stderr",
     "output_type": "stream",
     "text": [
      "100%|██████████| 476/476 [03:25<00:00,  2.32it/s]\n"
     ]
    },
    {
     "name": "stdout",
     "output_type": "stream",
     "text": [
      "{'val_loss': 1.2613850843231633, 'val_accuracy': 0.6473372781065089, 'precision': 0.6511809335850333, 'recall': 0.6473372781065089, 'f1-score': 0.6337278001413809, 'macro_f1-score': 0.25213677083047886, 'balanced_accuracy': 0.28242135237241034, 'mcc': 0.5420743887304863}\n",
      "Epoch 4/20\n"
     ]
    },
    {
     "name": "stderr",
     "output_type": "stream",
     "text": [
      "100%|██████████| 476/476 [03:26<00:00,  2.31it/s]\n"
     ]
    },
    {
     "name": "stdout",
     "output_type": "stream",
     "text": [
      "{'val_loss': 1.1893715464843895, 'val_accuracy': 0.6816568047337278, 'precision': 0.6481502219930163, 'recall': 0.6816568047337278, 'f1-score': 0.6537468756850536, 'macro_f1-score': 0.294030917264873, 'balanced_accuracy': 0.29600375544312035, 'mcc': 0.5761361475928456}\n",
      "Epoch 5/20\n"
     ]
    },
    {
     "name": "stderr",
     "output_type": "stream",
     "text": [
      "100%|██████████| 476/476 [03:25<00:00,  2.32it/s]\n"
     ]
    },
    {
     "name": "stdout",
     "output_type": "stream",
     "text": [
      "{'val_loss': 1.370641197798387, 'val_accuracy': 0.6816568047337278, 'precision': 0.6687288309183308, 'recall': 0.6816568047337278, 'f1-score': 0.6579800120571, 'macro_f1-score': 0.3303342975371872, 'balanced_accuracy': 0.33800198251297897, 'mcc': 0.5741062987069777}\n",
      "Epoch 6/20\n"
     ]
    },
    {
     "name": "stderr",
     "output_type": "stream",
     "text": [
      "100%|██████████| 476/476 [03:24<00:00,  2.33it/s]\n"
     ]
    },
    {
     "name": "stdout",
     "output_type": "stream",
     "text": [
      "{'val_loss': 1.3638285308514002, 'val_accuracy': 0.6792899408284023, 'precision': 0.6828700449754429, 'recall': 0.6792899408284023, 'f1-score': 0.669633386375834, 'macro_f1-score': 0.37681218766999675, 'balanced_accuracy': 0.3811126064871609, 'mcc': 0.5820275776162704}\n",
      "Epoch 7/20\n"
     ]
    },
    {
     "name": "stderr",
     "output_type": "stream",
     "text": [
      "100%|██████████| 476/476 [03:26<00:00,  2.31it/s]\n"
     ]
    },
    {
     "name": "stdout",
     "output_type": "stream",
     "text": [
      "{'val_loss': 1.3367800476416103, 'val_accuracy': 0.7100591715976331, 'precision': 0.6821666184606671, 'recall': 0.7100591715976331, 'f1-score': 0.6815567207715096, 'macro_f1-score': 0.37617853588956607, 'balanced_accuracy': 0.36306465736956905, 'mcc': 0.6105147914969143}\n",
      "Epoch 8/20\n"
     ]
    },
    {
     "name": "stderr",
     "output_type": "stream",
     "text": [
      "100%|██████████| 476/476 [03:25<00:00,  2.31it/s]\n"
     ]
    },
    {
     "name": "stdout",
     "output_type": "stream",
     "text": [
      "{'val_loss': 1.508641537630333, 'val_accuracy': 0.7005917159763314, 'precision': 0.6905505619725395, 'recall': 0.7005917159763314, 'f1-score': 0.6785646908715086, 'macro_f1-score': 0.410801904808132, 'balanced_accuracy': 0.3777773418106883, 'mcc': 0.5952166141671402}\n",
      "Epoch 9/20\n"
     ]
    },
    {
     "name": "stderr",
     "output_type": "stream",
     "text": [
      "100%|██████████| 476/476 [03:25<00:00,  2.31it/s]\n"
     ]
    },
    {
     "name": "stdout",
     "output_type": "stream",
     "text": [
      "{'val_loss': 1.4937193196899485, 'val_accuracy': 0.6958579881656805, 'precision': 0.6898648453126051, 'recall': 0.6958579881656805, 'f1-score': 0.6796775756209472, 'macro_f1-score': 0.3911093272089602, 'balanced_accuracy': 0.3743580107715947, 'mcc': 0.5910365878674003}\n",
      "Epoch 10/20\n"
     ]
    },
    {
     "name": "stderr",
     "output_type": "stream",
     "text": [
      "100%|██████████| 476/476 [03:25<00:00,  2.31it/s]\n"
     ]
    },
    {
     "name": "stdout",
     "output_type": "stream",
     "text": [
      "{'val_loss': 1.536336843135222, 'val_accuracy': 0.6757396449704142, 'precision': 0.6679954788671734, 'recall': 0.6757396449704142, 'f1-score': 0.6619149655291678, 'macro_f1-score': 0.37059236214530056, 'balanced_accuracy': 0.3737926880102362, 'mcc': 0.5751035906067328}\n",
      "Epoch 11/20\n"
     ]
    },
    {
     "name": "stderr",
     "output_type": "stream",
     "text": [
      "100%|██████████| 476/476 [03:26<00:00,  2.30it/s]\n"
     ]
    },
    {
     "name": "stdout",
     "output_type": "stream",
     "text": [
      "{'val_loss': 1.5903045473233708, 'val_accuracy': 0.693491124260355, 'precision': 0.7010366979987037, 'recall': 0.693491124260355, 'f1-score': 0.681269583529977, 'macro_f1-score': 0.4002431675596152, 'balanced_accuracy': 0.4013523498743489, 'mcc': 0.5937715993729454}\n",
      "Early stopping triggered at epoch 11\n",
      "Final 10-fold Cross-Validation Results:\n",
      "val_loss: 1.480050942305858\n",
      "val_accuracy: 0.6668566097032738\n",
      "precision: 0.6440956863752516\n",
      "recall: 0.6668566097032738\n",
      "f1-score: 0.6390863534758562\n",
      "macro_f1-score: 0.32164394597309265\n",
      "balanced_accuracy: 0.3239753364766163\n",
      "mcc: 0.5537006676053231\n"
     ]
    }
   ],
   "source": [
    "from torch.utils.data import DataLoader\n",
    "import torch\n",
    "from torch.nn import CrossEntropyLoss\n",
    "from torch.optim import AdamW\n",
    "from tqdm import tqdm\n",
    "import numpy as np\n",
    "\n",
    "all_fold_results = []\n",
    "\n",
    "# 進行 10 折交叉驗證\n",
    "for fold, (train_idx, val_idx) in enumerate(skf.split(messages, labels)):\n",
    "    print(f\"Fold {fold + 1}\")\n",
    "    \n",
    "    train_messages = [messages[i] for i in train_idx]\n",
    "    train_labels = [labels[i] for i in train_idx]\n",
    "    val_messages = [messages[i] for i in val_idx]\n",
    "    val_labels = [labels[i] for i in val_idx]\n",
    "\n",
    "    print(\"Training set label distribution:\", {label: train_labels.count(label) for label in set(train_labels)})\n",
    "    print(\"Validation set label distribution:\", {label: val_labels.count(label) for label in set(val_labels)})\n",
    "    \n",
    "    train_dataset = CustomDataset(train_messages, train_labels, tokenizer, MAX_LENGTH)\n",
    "    val_dataset = CustomDataset(val_messages, val_labels, tokenizer, MAX_LENGTH)\n",
    "    train_dataloader = DataLoader(train_dataset, batch_size=BATCH_SIZE, shuffle=True)\n",
    "    val_dataloader = DataLoader(val_dataset, batch_size=BATCH_SIZE)\n",
    "\n",
    "    NUM_LABELS = len(set(train_labels) | set(val_labels))\n",
    "    model = BertForSequenceClassification.from_pretrained('bert-base-uncased', num_labels=NUM_LABELS)\n",
    "    model.to(device)\n",
    "    optimizer = AdamW(model.parameters(), lr=5e-5, weight_decay=1e-2)\n",
    "    criterion = CrossEntropyLoss()\n",
    "\n",
    "    epoch_results = []\n",
    "    patience = 3\n",
    "    best_macro_f1 = 0\n",
    "    epochs_without_improvement = 0\n",
    "    \n",
    "    for epoch in range(EPOCHS):\n",
    "        print(f\"Epoch {epoch + 1}/{EPOCHS}\")\n",
    "        train_loss = train_epoch(model, train_dataloader, optimizer, criterion)\n",
    "        metrics = eval_model(model, val_dataloader, criterion, num_labels=NUM_LABELS)\n",
    "        epoch_results.append(metrics)\n",
    "        print(metrics)\n",
    "\n",
    "        current_macro_f1 = metrics[\"macro_f1-score\"]\n",
    "        \n",
    "        if current_macro_f1 > best_macro_f1:\n",
    "            best_macro_f1 = current_macro_f1  # 更新最佳 macro_f1-score\n",
    "            epochs_without_improvement = 0   # 重置計數\n",
    "        else:\n",
    "            epochs_without_improvement += 1  # 增加計數\n",
    "        \n",
    "        # 若連續 patience 3 次沒有提升，則停止訓練\n",
    "        if epochs_without_improvement >= patience:\n",
    "            print(f\"Early stopping triggered at epoch {epoch + 1}\")\n",
    "            break\n",
    "    \n",
    "    avg_metrics = {metric: np.mean([epoch[metric] for epoch in epoch_results]) for metric in epoch_results[0].keys()}\n",
    "    all_fold_results.append(avg_metrics)\n",
    "\n",
    "final_metrics = {metric: np.mean([result[metric] for result in all_fold_results]) for metric in all_fold_results[0].keys()}\n",
    "print(\"Final 10-fold Cross-Validation Results:\")\n",
    "for metric, value in final_metrics.items():\n",
    "    print(f\"{metric}: {value}\")"
   ]
  },
  {
   "cell_type": "code",
   "execution_count": 8,
   "id": "f8016681-94ee-4d35-81ac-9831d7172f0d",
   "metadata": {},
   "outputs": [
    {
     "data": {
      "text/plain": [
       "[{'val_loss': 1.5161572380751065,\n",
       "  'val_accuracy': 0.6658483360611019,\n",
       "  'precision': 0.6326624652410242,\n",
       "  'recall': 0.6658483360611019,\n",
       "  'f1-score': 0.632348548260093,\n",
       "  'macro_f1-score': 0.33069925839586933,\n",
       "  'balanced_accuracy': 0.32590136618242693,\n",
       "  'mcc': 0.5476629114149674},\n",
       " {'val_loss': 1.5376827832287963,\n",
       "  'val_accuracy': 0.6615445232466509,\n",
       "  'precision': 0.6466647796154749,\n",
       "  'recall': 0.6615445232466509,\n",
       "  'f1-score': 0.634705781471242,\n",
       "  'macro_f1-score': 0.3155930710483071,\n",
       "  'balanced_accuracy': 0.321744045693039,\n",
       "  'mcc': 0.5469423828406613},\n",
       " {'val_loss': 1.573207688992316,\n",
       "  'val_accuracy': 0.6564223798266352,\n",
       "  'precision': 0.6355351792835863,\n",
       "  'recall': 0.6564223798266352,\n",
       "  'f1-score': 0.6304037491219757,\n",
       "  'macro_f1-score': 0.3096820629843343,\n",
       "  'balanced_accuracy': 0.3083190534081974,\n",
       "  'mcc': 0.5390805660420614},\n",
       " {'val_loss': 1.5012411889991844,\n",
       "  'val_accuracy': 0.6726677577741408,\n",
       "  'precision': 0.6475430703636744,\n",
       "  'recall': 0.6726677577741408,\n",
       "  'f1-score': 0.6437022176524436,\n",
       "  'macro_f1-score': 0.3340720725034863,\n",
       "  'balanced_accuracy': 0.32948863568840775,\n",
       "  'mcc': 0.5576332755624068},\n",
       " {'val_loss': 1.5229088160572966,\n",
       "  'val_accuracy': 0.6517979062357762,\n",
       "  'precision': 0.6231856196339068,\n",
       "  'recall': 0.6517979062357762,\n",
       "  'f1-score': 0.6189945231974826,\n",
       "  'macro_f1-score': 0.2971661621685984,\n",
       "  'balanced_accuracy': 0.303397133531278,\n",
       "  'mcc': 0.531420647257161},\n",
       " {'val_loss': 1.5090214239124506,\n",
       "  'val_accuracy': 0.6754905014014326,\n",
       "  'precision': 0.6592847436272165,\n",
       "  'recall': 0.6754905014014326,\n",
       "  'f1-score': 0.6523676640406575,\n",
       "  'macro_f1-score': 0.3385540034737605,\n",
       "  'balanced_accuracy': 0.3466984685921157,\n",
       "  'mcc': 0.5686990250520632},\n",
       " {'val_loss': 1.411074113682245,\n",
       "  'val_accuracy': 0.662614308768155,\n",
       "  'precision': 0.6438948809337743,\n",
       "  'recall': 0.662614308768155,\n",
       "  'f1-score': 0.6388049409203409,\n",
       "  'macro_f1-score': 0.32129366592070574,\n",
       "  'balanced_accuracy': 0.3387743117033441,\n",
       "  'mcc': 0.5534215088232355},\n",
       " {'val_loss': 1.4034075029662947,\n",
       "  'val_accuracy': 0.6731755424063115,\n",
       "  'precision': 0.6555232325434398,\n",
       "  'recall': 0.6731755424063115,\n",
       "  'f1-score': 0.6462775550585317,\n",
       "  'macro_f1-score': 0.34062341229815535,\n",
       "  'balanced_accuracy': 0.3343987837598779,\n",
       "  'mcc': 0.5635305957422178},\n",
       " {'val_loss': 1.4156680378558093,\n",
       "  'val_accuracy': 0.67154384077461,\n",
       "  'precision': 0.6471629375288853,\n",
       "  'recall': 0.67154384077461,\n",
       "  'f1-score': 0.645798901143666,\n",
       "  'macro_f1-score': 0.30979866945003454,\n",
       "  'balanced_accuracy': 0.31089388294512066,\n",
       "  'mcc': 0.5613933555553605},\n",
       " {'val_loss': 1.4101406292890806,\n",
       "  'val_accuracy': 0.6774610005379235,\n",
       "  'precision': 0.6494999549815339,\n",
       "  'recall': 0.6774610005379235,\n",
       "  'f1-score': 0.6474596538921293,\n",
       "  'macro_f1-score': 0.31895708148767477,\n",
       "  'balanced_accuracy': 0.3201376832623554,\n",
       "  'mcc': 0.5672224077630974}]"
      ]
     },
     "execution_count": 8,
     "metadata": {},
     "output_type": "execute_result"
    }
   ],
   "source": [
    "all_fold_results"
   ]
  }
 ],
 "metadata": {
  "kernelspec": {
   "display_name": "Python 3 (ipykernel)",
   "language": "python",
   "name": "python3"
  },
  "language_info": {
   "codemirror_mode": {
    "name": "ipython",
    "version": 3
   },
   "file_extension": ".py",
   "mimetype": "text/x-python",
   "name": "python",
   "nbconvert_exporter": "python",
   "pygments_lexer": "ipython3",
   "version": "3.11.9"
  }
 },
 "nbformat": 4,
 "nbformat_minor": 5
}
