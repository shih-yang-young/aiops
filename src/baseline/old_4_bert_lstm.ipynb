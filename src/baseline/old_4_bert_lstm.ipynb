{
 "cells": [
  {
   "cell_type": "code",
   "execution_count": 18,
   "id": "00a89f5b-e5b4-4de2-92ea-caa07ffd3817",
   "metadata": {},
   "outputs": [
    {
     "data": {
      "text/html": [
       "<div>\n",
       "<style scoped>\n",
       "    .dataframe tbody tr th:only-of-type {\n",
       "        vertical-align: middle;\n",
       "    }\n",
       "\n",
       "    .dataframe tbody tr th {\n",
       "        vertical-align: top;\n",
       "    }\n",
       "\n",
       "    .dataframe thead th {\n",
       "        text-align: right;\n",
       "    }\n",
       "</style>\n",
       "<table border=\"1\" class=\"dataframe\">\n",
       "  <thead>\n",
       "    <tr style=\"text-align: right;\">\n",
       "      <th></th>\n",
       "      <th>Inbound Message</th>\n",
       "      <th>Label</th>\n",
       "    </tr>\n",
       "  </thead>\n",
       "  <tbody>\n",
       "    <tr>\n",
       "      <th>0</th>\n",
       "      <td>login issue verified user details employee man...</td>\n",
       "      <td>0</td>\n",
       "    </tr>\n",
       "    <tr>\n",
       "      <th>1</th>\n",
       "      <td>outlook hello team meetings skype meetings etc...</td>\n",
       "      <td>0</td>\n",
       "    </tr>\n",
       "    <tr>\n",
       "      <th>2</th>\n",
       "      <td>cant log vpn cannot log vpn best</td>\n",
       "      <td>0</td>\n",
       "    </tr>\n",
       "    <tr>\n",
       "      <th>3</th>\n",
       "      <td>unable access tool page unable access tool page</td>\n",
       "      <td>0</td>\n",
       "    </tr>\n",
       "    <tr>\n",
       "      <th>4</th>\n",
       "      <td>skype error skype error</td>\n",
       "      <td>0</td>\n",
       "    </tr>\n",
       "    <tr>\n",
       "      <th>...</th>\n",
       "      <td>...</td>\n",
       "      <td>...</td>\n",
       "    </tr>\n",
       "    <tr>\n",
       "      <th>8449</th>\n",
       "      <td>emails coming mail good afternoon receiving em...</td>\n",
       "      <td>22</td>\n",
       "    </tr>\n",
       "    <tr>\n",
       "      <th>8450</th>\n",
       "      <td>telephony software issue telephony software issue</td>\n",
       "      <td>0</td>\n",
       "    </tr>\n",
       "    <tr>\n",
       "      <th>8451</th>\n",
       "      <td>vip windows password reset tifpdchb pedxruyf v...</td>\n",
       "      <td>0</td>\n",
       "    </tr>\n",
       "    <tr>\n",
       "      <th>8452</th>\n",
       "      <td>machine est funcionando unable access machine ...</td>\n",
       "      <td>44</td>\n",
       "    </tr>\n",
       "    <tr>\n",
       "      <th>8453</th>\n",
       "      <td>mehreren lassen sich verschiedene prgramdntyme...</td>\n",
       "      <td>49</td>\n",
       "    </tr>\n",
       "  </tbody>\n",
       "</table>\n",
       "<p>8454 rows × 2 columns</p>\n",
       "</div>"
      ],
      "text/plain": [
       "                                        Inbound Message  Label\n",
       "0     login issue verified user details employee man...      0\n",
       "1     outlook hello team meetings skype meetings etc...      0\n",
       "2                      cant log vpn cannot log vpn best      0\n",
       "3       unable access tool page unable access tool page      0\n",
       "4                               skype error skype error      0\n",
       "...                                                 ...    ...\n",
       "8449  emails coming mail good afternoon receiving em...     22\n",
       "8450  telephony software issue telephony software issue      0\n",
       "8451  vip windows password reset tifpdchb pedxruyf v...      0\n",
       "8452  machine est funcionando unable access machine ...     44\n",
       "8453  mehreren lassen sich verschiedene prgramdntyme...     49\n",
       "\n",
       "[8454 rows x 2 columns]"
      ]
     },
     "execution_count": 18,
     "metadata": {},
     "output_type": "execute_result"
    }
   ],
   "source": [
    "import pandas as pd\n",
    "data_path = \"../../data/open_source_8454_combine_short_description.csv\"  # 替換為你的檔案路徑\n",
    "df = pd.read_csv(data_path)\n",
    "# df_label_0 = df[df[\"Label\"] == 0]\n",
    "# df_label_0_to_drop = df_label_0.sample(n=3000, random_state=42)\n",
    "# df = df.drop(df_label_0_to_drop.index)\n",
    "df"
   ]
  },
  {
   "cell_type": "code",
   "execution_count": 19,
   "id": "5be6a3f1-409a-4b50-a12c-8f5cad911a0d",
   "metadata": {},
   "outputs": [
    {
     "name": "stdout",
     "output_type": "stream",
     "text": [
      "Using device: cuda\n",
      "CUDA Available: True\n",
      "CUDA Device: NVIDIA GeForce RTX 3050 6GB Laptop GPU\n",
      "Current GPU Memory Allocated: 2.095333888 GB\n",
      "Current GPU Memory Cached: 2.21249536 GB\n"
     ]
    }
   ],
   "source": [
    "import torch\n",
    "device = torch.device('cuda') if torch.cuda.is_available() else torch.device('cpu')\n",
    "print(f\"Using device: {device}\") \n",
    "print(f\"CUDA Available: {torch.cuda.is_available()}\")\n",
    "print(f\"CUDA Device: {torch.cuda.get_device_name(0)}\")\n",
    "print(f\"Current GPU Memory Allocated: {torch.cuda.memory_allocated() / 1e9} GB\")\n",
    "print(f\"Current GPU Memory Cached: {torch.cuda.memory_reserved() / 1e9} GB\")"
   ]
  },
  {
   "cell_type": "code",
   "execution_count": 20,
   "id": "d0e5bba8-9ed2-4228-9fc8-85c42ef4b108",
   "metadata": {},
   "outputs": [],
   "source": [
    "from torch.utils.data import Dataset\n",
    "class CustomDataset(Dataset):\n",
    "    def __init__(self, messages, labels, tokenizer, max_length):\n",
    "        self.messages = messages\n",
    "        self.labels = labels\n",
    "        self.tokenizer = tokenizer\n",
    "        self.max_length = max_length\n",
    "\n",
    "    def __len__(self):\n",
    "        return len(self.messages)\n",
    "\n",
    "    def __getitem__(self, idx):\n",
    "        message = str(self.messages[idx])\n",
    "        label = self.labels[idx]\n",
    "        \n",
    "        encoding = self.tokenizer.encode_plus(\n",
    "            message,\n",
    "            max_length=self.max_length,\n",
    "            add_special_tokens=True,\n",
    "            padding='max_length',\n",
    "            truncation=True,\n",
    "            return_attention_mask=True,\n",
    "            return_tensors='pt'\n",
    "        )\n",
    "        \n",
    "        return {\n",
    "            'input_ids': encoding['input_ids'].flatten(),\n",
    "            'attention_mask': encoding['attention_mask'].flatten(),\n",
    "            'labels': torch.tensor(label, dtype=torch.long)\n",
    "        }"
   ]
  },
  {
   "cell_type": "code",
   "execution_count": 21,
   "id": "ef04f0d9-0fd7-4ff3-a2ff-4fb8f4f965cc",
   "metadata": {},
   "outputs": [],
   "source": [
    "# 定義訓練與評估函數\n",
    "def train_epoch(model, dataloader, optimizer, criterion):\n",
    "    model.train()\n",
    "    total_loss = 0\n",
    "\n",
    "    for batch in tqdm(dataloader):\n",
    "        optimizer.zero_grad()\n",
    "\n",
    "        input_ids = batch['input_ids'].to(device)\n",
    "        attention_mask = batch['attention_mask'].to(device)\n",
    "        labels = batch['labels'].to(device)\n",
    "\n",
    "        outputs = model(input_ids=input_ids, attention_mask=attention_mask, labels=labels)\n",
    "        loss = outputs[\"loss\"]\n",
    "        total_loss += loss.item()\n",
    "\n",
    "        loss.backward()\n",
    "        optimizer.step()\n",
    "    \n",
    "    return total_loss / len(dataloader)"
   ]
  },
  {
   "cell_type": "code",
   "execution_count": 22,
   "id": "50ab17dc-61af-4ab3-8fd1-74208c0cb6b8",
   "metadata": {},
   "outputs": [],
   "source": [
    "from sklearn.metrics import precision_score, recall_score, f1_score, balanced_accuracy_score, matthews_corrcoef\n",
    "from sklearn.preprocessing import label_binarize\n",
    "import numpy as np\n",
    "import torch\n",
    "\n",
    "def eval_model(model, dataloader, criterion, num_labels):\n",
    "    model.eval()\n",
    "    total_loss = 0\n",
    "    all_labels = []\n",
    "    all_preds = []\n",
    "    all_probs = []\n",
    "    \n",
    "    with torch.no_grad():\n",
    "        for batch in dataloader:\n",
    "            input_ids = batch['input_ids'].to(device)\n",
    "            attention_mask = batch['attention_mask'].to(device)\n",
    "            labels = batch['labels'].to(device)\n",
    "\n",
    "            outputs = model(input_ids=input_ids, attention_mask=attention_mask)\n",
    "            logits = outputs[\"logits\"]\n",
    "            loss = criterion(logits, labels)\n",
    "            total_loss += loss.item()\n",
    "\n",
    "            probs = torch.softmax(logits, dim=1)\n",
    "            _, preds = torch.max(logits, dim=1)\n",
    "\n",
    "            all_labels.extend(labels.cpu().numpy())\n",
    "            all_preds.extend(preds.cpu().numpy())\n",
    "            all_probs.extend(probs.cpu().numpy())\n",
    "\n",
    "    val_loss = total_loss / len(dataloader)\n",
    "    val_accuracy = np.mean(np.array(all_preds) == np.array(all_labels))\n",
    "    precision = precision_score(all_labels, all_preds, average='weighted', zero_division=0)\n",
    "    recall = recall_score(all_labels, all_preds, average='weighted', zero_division=0)\n",
    "    f1 = f1_score(all_labels, all_preds, average='weighted', zero_division=0)\n",
    "    macro_f1 = f1_score(all_labels, all_preds, average='macro', zero_division=0)\n",
    "    balanced_acc = balanced_accuracy_score(all_labels, all_preds)\n",
    "    mcc = matthews_corrcoef(all_labels, all_preds)\n",
    "\n",
    "    return {\n",
    "        \"val_loss\": val_loss,\n",
    "        \"val_accuracy\": val_accuracy,\n",
    "        \"precision\": precision,\n",
    "        \"recall\": recall,\n",
    "        \"f1-score\": f1,\n",
    "        \"macro_f1-score\": macro_f1,\n",
    "        \"balanced_accuracy\": balanced_acc,\n",
    "        \"mcc\": mcc\n",
    "    }"
   ]
  },
  {
   "cell_type": "code",
   "execution_count": 23,
   "id": "75c13c9f-bbc2-4163-a7b9-3283eb764ec9",
   "metadata": {},
   "outputs": [],
   "source": [
    "from transformers import BertTokenizer, BertForSequenceClassification\n",
    "from sklearn.model_selection import StratifiedKFold\n",
    "# 設定參數\n",
    "MAX_LENGTH = 128\n",
    "BATCH_SIZE = 16\n",
    "EPOCHS = 20\n",
    "\n",
    "# 初始化 BERT 的 tokenizer\n",
    "tokenizer = BertTokenizer.from_pretrained('bert-base-uncased')\n",
    "\n",
    "# 初始化數據\n",
    "messages = df['Inbound Message'].tolist()\n",
    "labels = df['Label'].tolist()\n",
    "\n",
    "# KFold 初始化\n",
    "skf = StratifiedKFold(n_splits=10, shuffle=True, random_state=42)"
   ]
  },
  {
   "cell_type": "code",
   "execution_count": 24,
   "id": "4c1674d1-a425-4c0e-a324-775515a79703",
   "metadata": {},
   "outputs": [],
   "source": [
    "from transformers import BertModel\n",
    "import torch.nn as nn\n",
    "\n",
    "class BertWithLSTM(nn.Module):\n",
    "    def __init__(self, num_labels, hidden_size=768, lstm_hidden_size=256, lstm_layers=1, dropout=0.3):\n",
    "        super(BertWithLSTM, self).__init__()\n",
    "        self.bert = BertModel.from_pretrained('bert-base-uncased')\n",
    "        self.lstm = nn.LSTM(hidden_size, lstm_hidden_size, num_layers=lstm_layers,\n",
    "                            batch_first=True, bidirectional=True)\n",
    "        self.dropout = nn.Dropout(dropout)\n",
    "        self.classifier = nn.Linear(lstm_hidden_size * 2, num_labels)\n",
    "\n",
    "    def forward(self, input_ids, attention_mask, token_type_ids=None, labels=None):\n",
    "        outputs = self.bert(input_ids=input_ids, attention_mask=attention_mask, token_type_ids=token_type_ids)\n",
    "        sequence_output = outputs.last_hidden_state  # (batch_size, seq_len, hidden_size)\n",
    "        lstm_out, _ = self.lstm(sequence_output)     # (batch_size, seq_len, lstm_hidden_size*2)\n",
    "\n",
    "        # 使用 masked mean pooling\n",
    "        mask = attention_mask.unsqueeze(-1).expand(lstm_out.size())\n",
    "        masked_lstm_out = lstm_out * mask\n",
    "        summed = torch.sum(masked_lstm_out, 1)\n",
    "        counted = torch.clamp(mask.sum(1), min=1e-9)\n",
    "        pooled = summed / counted  # (batch_size, lstm_hidden_size*2)\n",
    "\n",
    "        logits = self.classifier(self.dropout(pooled))\n",
    "        if labels is not None:\n",
    "            loss_fn = nn.CrossEntropyLoss()\n",
    "            loss = loss_fn(logits, labels)\n",
    "            return {\"loss\": loss, \"logits\": logits}\n",
    "        else:\n",
    "            return {\"logits\": logits}"
   ]
  },
  {
   "cell_type": "code",
   "execution_count": 27,
   "id": "0bd84f7f-34bb-430c-b231-eb24df49ea50",
   "metadata": {},
   "outputs": [
    {
     "name": "stderr",
     "output_type": "stream",
     "text": [
      "D:\\Anaconda3\\envs\\cuda\\Lib\\site-packages\\sklearn\\model_selection\\_split.py:737: UserWarning: The least populated class in y has only 7 members, which is less than n_splits=10.\n",
      "  warnings.warn(\n"
     ]
    },
    {
     "name": "stdout",
     "output_type": "stream",
     "text": [
      "\n",
      "===== Fold 1 =====\n",
      "Train label dist: {0: 3576, 1: 28, 2: 126, 3: 27, 4: 231, 5: 130, 6: 107, 7: 35, 8: 76, 9: 73, 10: 79, 11: 194, 12: 217, 13: 32, 14: 26, 15: 28, 16: 23, 17: 260, 18: 104, 19: 51, 20: 16, 21: 39, 22: 88, 23: 180, 24: 18, 25: 56, 26: 97, 27: 55, 28: 13, 29: 15, 30: 17, 31: 90, 32: 40, 33: 36, 34: 34, 35: 13, 36: 32, 37: 24, 38: 7, 39: 116, 40: 13, 41: 9, 42: 166, 43: 18, 44: 22, 45: 10, 46: 61, 47: 595, 48: 227, 49: 78}\n",
      "Val label dist: {0: 398, 1: 3, 2: 14, 3: 3, 4: 26, 5: 15, 6: 11, 7: 4, 8: 9, 9: 8, 10: 9, 11: 21, 12: 24, 13: 4, 14: 3, 15: 3, 16: 2, 17: 29, 18: 12, 19: 5, 20: 2, 21: 5, 22: 9, 23: 20, 24: 2, 25: 7, 26: 10, 27: 6, 28: 2, 29: 1, 30: 2, 31: 10, 32: 5, 33: 4, 34: 3, 35: 2, 36: 3, 37: 3, 39: 13, 40: 1, 41: 2, 42: 18, 43: 2, 44: 3, 45: 1, 46: 7, 47: 66, 48: 25, 49: 9}\n",
      "\n",
      "Epoch 1/20\n"
     ]
    },
    {
     "name": "stderr",
     "output_type": "stream",
     "text": [
      "100%|██████████| 476/476 [03:37<00:00,  2.19it/s]\n"
     ]
    },
    {
     "name": "stdout",
     "output_type": "stream",
     "text": [
      "Train loss: 1.9581\n",
      "{'val_loss': 1.5977931056382522, 'val_accuracy': 0.6087470449172577, 'precision': 0.4801950707939839, 'recall': 0.6087470449172577, 'f1-score': 0.5035380057145146, 'macro_f1-score': 0.10856561731256568, 'balanced_accuracy': 0.12241987630630352, 'mcc': 0.44234905089370524}\n",
      "\n",
      "Epoch 2/20\n"
     ]
    },
    {
     "name": "stderr",
     "output_type": "stream",
     "text": [
      "100%|██████████| 476/476 [03:36<00:00,  2.20it/s]\n"
     ]
    },
    {
     "name": "stdout",
     "output_type": "stream",
     "text": [
      "Train loss: 1.4087\n",
      "{'val_loss': 1.3889450981931866, 'val_accuracy': 0.6666666666666666, 'precision': 0.6056923064627199, 'recall': 0.6666666666666666, 'f1-score': 0.6105663743232849, 'macro_f1-score': 0.22361803414126083, 'balanced_accuracy': 0.23500515085240262, 'mcc': 0.5487741592000989}\n",
      "\n",
      "Epoch 3/20\n"
     ]
    },
    {
     "name": "stderr",
     "output_type": "stream",
     "text": [
      "100%|██████████| 476/476 [03:37<00:00,  2.19it/s]\n"
     ]
    },
    {
     "name": "stdout",
     "output_type": "stream",
     "text": [
      "Train loss: 1.1180\n",
      "{'val_loss': 1.315883791671609, 'val_accuracy': 0.6501182033096927, 'precision': 0.6157271929453428, 'recall': 0.6501182033096927, 'f1-score': 0.6179188635434333, 'macro_f1-score': 0.29297229485630666, 'balanced_accuracy': 0.30507757658286866, 'mcc': 0.5300237027205797}\n",
      "\n",
      "Epoch 4/20\n"
     ]
    },
    {
     "name": "stderr",
     "output_type": "stream",
     "text": [
      "100%|██████████| 476/476 [03:41<00:00,  2.15it/s]\n"
     ]
    },
    {
     "name": "stdout",
     "output_type": "stream",
     "text": [
      "Train loss: 0.8975\n",
      "{'val_loss': 1.3521380413253352, 'val_accuracy': 0.6442080378250591, 'precision': 0.6326658187320516, 'recall': 0.6442080378250591, 'f1-score': 0.6271431872528076, 'macro_f1-score': 0.30069689709700065, 'balanced_accuracy': 0.3132499852365365, 'mcc': 0.5337036151152991}\n",
      "\n",
      "Epoch 5/20\n"
     ]
    },
    {
     "name": "stderr",
     "output_type": "stream",
     "text": [
      "100%|██████████| 476/476 [03:37<00:00,  2.19it/s]\n"
     ]
    },
    {
     "name": "stdout",
     "output_type": "stream",
     "text": [
      "Train loss: 0.7331\n",
      "{'val_loss': 1.3617507016883705, 'val_accuracy': 0.6749408983451537, 'precision': 0.6359061132527205, 'recall': 0.6749408983451537, 'f1-score': 0.646897072854267, 'macro_f1-score': 0.32077409566213033, 'balanced_accuracy': 0.3221390380963051, 'mcc': 0.564002254220029}\n",
      "\n",
      "Epoch 6/20\n"
     ]
    },
    {
     "name": "stderr",
     "output_type": "stream",
     "text": [
      "100%|██████████| 476/476 [03:36<00:00,  2.19it/s]\n"
     ]
    },
    {
     "name": "stdout",
     "output_type": "stream",
     "text": [
      "Train loss: 0.5710\n",
      "{'val_loss': 1.2556095505660434, 'val_accuracy': 0.6879432624113475, 'precision': 0.6802708367835609, 'recall': 0.6879432624113475, 'f1-score': 0.6670368007112137, 'macro_f1-score': 0.37716343295581023, 'balanced_accuracy': 0.3590882420994982, 'mcc': 0.5813592378143974}\n",
      "\n",
      "Epoch 7/20\n"
     ]
    },
    {
     "name": "stderr",
     "output_type": "stream",
     "text": [
      "100%|██████████| 476/476 [03:40<00:00,  2.15it/s]\n"
     ]
    },
    {
     "name": "stdout",
     "output_type": "stream",
     "text": [
      "Train loss: 0.4652\n",
      "{'val_loss': 1.393666463640501, 'val_accuracy': 0.6867612293144209, 'precision': 0.6654615581935917, 'recall': 0.6867612293144209, 'f1-score': 0.6595022401227214, 'macro_f1-score': 0.3942339515268853, 'balanced_accuracy': 0.3755390254793499, 'mcc': 0.575307576258054}\n",
      "\n",
      "Epoch 8/20\n"
     ]
    },
    {
     "name": "stderr",
     "output_type": "stream",
     "text": [
      "100%|██████████| 476/476 [03:40<00:00,  2.16it/s]\n"
     ]
    },
    {
     "name": "stdout",
     "output_type": "stream",
     "text": [
      "Train loss: 0.3953\n",
      "{'val_loss': 1.4627669071251492, 'val_accuracy': 0.6773049645390071, 'precision': 0.6844767537598061, 'recall': 0.6773049645390071, 'f1-score': 0.6673494872725417, 'macro_f1-score': 0.41823283146255197, 'balanced_accuracy': 0.3995087558979679, 'mcc': 0.5712559196264403}\n",
      "\n",
      "Epoch 9/20\n"
     ]
    },
    {
     "name": "stderr",
     "output_type": "stream",
     "text": [
      "100%|██████████| 476/476 [03:39<00:00,  2.17it/s]\n"
     ]
    },
    {
     "name": "stdout",
     "output_type": "stream",
     "text": [
      "Train loss: 0.3409\n",
      "{'val_loss': 1.5191895348845788, 'val_accuracy': 0.682033096926714, 'precision': 0.6717203049481193, 'recall': 0.682033096926714, 'f1-score': 0.6601732229094739, 'macro_f1-score': 0.4001404579578361, 'balanced_accuracy': 0.38118473296444433, 'mcc': 0.5703473442382921}\n",
      "\n",
      "Epoch 10/20\n"
     ]
    },
    {
     "name": "stderr",
     "output_type": "stream",
     "text": [
      "100%|██████████| 476/476 [03:39<00:00,  2.17it/s]\n"
     ]
    },
    {
     "name": "stdout",
     "output_type": "stream",
     "text": [
      "Train loss: 0.3044\n",
      "{'val_loss': 1.5420812334654466, 'val_accuracy': 0.6855791962174941, 'precision': 0.6788582949659822, 'recall': 0.6855791962174941, 'f1-score': 0.6687900218347023, 'macro_f1-score': 0.43248365074603895, 'balanced_accuracy': 0.4167613647612162, 'mcc': 0.5786746987431045}\n",
      "\n",
      "Epoch 11/20\n"
     ]
    },
    {
     "name": "stderr",
     "output_type": "stream",
     "text": [
      "100%|██████████| 476/476 [03:39<00:00,  2.17it/s]\n"
     ]
    },
    {
     "name": "stdout",
     "output_type": "stream",
     "text": [
      "Train loss: 0.2996\n",
      "{'val_loss': 1.5359715212066218, 'val_accuracy': 0.6985815602836879, 'precision': 0.6945182265156328, 'recall': 0.6985815602836879, 'f1-score': 0.6788656469773798, 'macro_f1-score': 0.4216231877503839, 'balanced_accuracy': 0.39393188150594105, 'mcc': 0.5922018986709672}\n",
      "\n",
      "Epoch 12/20\n"
     ]
    },
    {
     "name": "stderr",
     "output_type": "stream",
     "text": [
      "100%|██████████| 476/476 [03:39<00:00,  2.17it/s]\n"
     ]
    },
    {
     "name": "stdout",
     "output_type": "stream",
     "text": [
      "Train loss: 0.2724\n",
      "{'val_loss': 1.6078143327865961, 'val_accuracy': 0.6879432624113475, 'precision': 0.6879879732233003, 'recall': 0.6879432624113475, 'f1-score': 0.67893066942842, 'macro_f1-score': 0.46218911933622736, 'balanced_accuracy': 0.4579065896679121, 'mcc': 0.5869910377228166}\n",
      "\n",
      "Epoch 13/20\n"
     ]
    },
    {
     "name": "stderr",
     "output_type": "stream",
     "text": [
      "100%|██████████| 476/476 [03:39<00:00,  2.17it/s]\n"
     ]
    },
    {
     "name": "stdout",
     "output_type": "stream",
     "text": [
      "Train loss: 0.2653\n",
      "{'val_loss': 1.5499439554394416, 'val_accuracy': 0.6773049645390071, 'precision': 0.6968268162249865, 'recall': 0.6773049645390071, 'f1-score': 0.6730749068369083, 'macro_f1-score': 0.45223117931899237, 'balanced_accuracy': 0.439492564301072, 'mcc': 0.5765362962297828}\n",
      "\n",
      "Epoch 14/20\n"
     ]
    },
    {
     "name": "stderr",
     "output_type": "stream",
     "text": [
      "100%|██████████| 476/476 [03:41<00:00,  2.15it/s]\n"
     ]
    },
    {
     "name": "stdout",
     "output_type": "stream",
     "text": [
      "Train loss: 0.2563\n",
      "{'val_loss': 1.8246627388135441, 'val_accuracy': 0.6914893617021277, 'precision': 0.6625927752844862, 'recall': 0.6914893617021277, 'f1-score': 0.6568368580584281, 'macro_f1-score': 0.41144279236678327, 'balanced_accuracy': 0.36647996756645207, 'mcc': 0.5731369988696098}\n",
      "\n",
      "Epoch 15/20\n"
     ]
    },
    {
     "name": "stderr",
     "output_type": "stream",
     "text": [
      "100%|██████████| 476/476 [03:42<00:00,  2.14it/s]\n"
     ]
    },
    {
     "name": "stdout",
     "output_type": "stream",
     "text": [
      "Train loss: 0.2235\n",
      "{'val_loss': 1.6176241416976136, 'val_accuracy': 0.6950354609929078, 'precision': 0.6959238378315591, 'recall': 0.6950354609929078, 'f1-score': 0.681135105714653, 'macro_f1-score': 0.42514455124040434, 'balanced_accuracy': 0.3964261319532573, 'mcc': 0.5932161395301812}\n",
      "Early stopping triggered at epoch 15\n",
      "\n",
      "===== Fold 2 =====\n",
      "Train label dist: {0: 3576, 1: 28, 2: 126, 3: 27, 4: 231, 5: 131, 6: 106, 7: 35, 8: 76, 9: 73, 10: 79, 11: 194, 12: 217, 13: 32, 14: 26, 15: 28, 16: 23, 17: 260, 18: 104, 19: 51, 20: 16, 21: 39, 22: 88, 23: 180, 24: 18, 25: 56, 26: 97, 27: 55, 28: 13, 29: 15, 30: 17, 31: 90, 32: 40, 33: 36, 34: 34, 35: 13, 36: 32, 37: 24, 38: 6, 39: 116, 40: 13, 41: 10, 42: 166, 43: 18, 44: 22, 45: 10, 46: 61, 47: 595, 48: 227, 49: 78}\n",
      "Val label dist: {0: 398, 1: 3, 2: 14, 3: 3, 4: 26, 5: 14, 6: 12, 7: 4, 8: 9, 9: 8, 10: 9, 11: 21, 12: 24, 13: 4, 14: 3, 15: 3, 16: 2, 17: 29, 18: 12, 19: 5, 20: 2, 21: 5, 22: 9, 23: 20, 24: 2, 25: 7, 26: 10, 27: 6, 28: 2, 29: 1, 30: 2, 31: 10, 32: 5, 33: 4, 34: 3, 35: 2, 36: 3, 37: 3, 38: 1, 39: 13, 40: 1, 41: 1, 42: 18, 43: 2, 44: 3, 45: 1, 46: 7, 47: 66, 48: 25, 49: 9}\n",
      "\n",
      "Epoch 1/20\n"
     ]
    },
    {
     "name": "stderr",
     "output_type": "stream",
     "text": [
      "100%|██████████| 476/476 [03:41<00:00,  2.14it/s]\n"
     ]
    },
    {
     "name": "stdout",
     "output_type": "stream",
     "text": [
      "Train loss: 2.0054\n",
      "{'val_loss': 1.6587335956546496, 'val_accuracy': 0.5945626477541371, 'precision': 0.4262159048988918, 'recall': 0.5945626477541371, 'f1-score': 0.4810475130771174, 'macro_f1-score': 0.07053691460200619, 'balanced_accuracy': 0.09352579011892823, 'mcc': 0.41705605733449413}\n",
      "\n",
      "Epoch 2/20\n"
     ]
    },
    {
     "name": "stderr",
     "output_type": "stream",
     "text": [
      "100%|██████████| 476/476 [03:39<00:00,  2.17it/s]\n"
     ]
    },
    {
     "name": "stdout",
     "output_type": "stream",
     "text": [
      "Train loss: 1.4951\n",
      "{'val_loss': 1.3781933030992184, 'val_accuracy': 0.6371158392434988, 'precision': 0.5529964897787104, 'recall': 0.6371158392434988, 'f1-score': 0.5705921853737054, 'macro_f1-score': 0.16218868989110816, 'balanced_accuracy': 0.17681947481271684, 'mcc': 0.5057750317010371}\n",
      "\n",
      "Epoch 3/20\n"
     ]
    },
    {
     "name": "stderr",
     "output_type": "stream",
     "text": [
      "100%|██████████| 476/476 [03:37<00:00,  2.18it/s]\n"
     ]
    },
    {
     "name": "stdout",
     "output_type": "stream",
     "text": [
      "Train loss: 1.1856\n",
      "{'val_loss': 1.2861178567949332, 'val_accuracy': 0.6560283687943262, 'precision': 0.6045744702198405, 'recall': 0.6560283687943262, 'f1-score': 0.6133239146448718, 'macro_f1-score': 0.24865677688451548, 'balanced_accuracy': 0.25202012368924515, 'mcc': 0.5309889285717759}\n",
      "\n",
      "Epoch 4/20\n"
     ]
    },
    {
     "name": "stderr",
     "output_type": "stream",
     "text": [
      "100%|██████████| 476/476 [03:41<00:00,  2.15it/s]\n"
     ]
    },
    {
     "name": "stdout",
     "output_type": "stream",
     "text": [
      "Train loss: 0.9225\n",
      "{'val_loss': 1.2867194014900136, 'val_accuracy': 0.6583924349881797, 'precision': 0.614730719625603, 'recall': 0.6583924349881797, 'f1-score': 0.622150647796482, 'macro_f1-score': 0.26417326822100007, 'balanced_accuracy': 0.28007374105322463, 'mcc': 0.5405219960487618}\n",
      "\n",
      "Epoch 5/20\n"
     ]
    },
    {
     "name": "stderr",
     "output_type": "stream",
     "text": [
      "100%|██████████| 476/476 [03:41<00:00,  2.15it/s]\n"
     ]
    },
    {
     "name": "stdout",
     "output_type": "stream",
     "text": [
      "Train loss: 0.7404\n",
      "{'val_loss': 1.3031234296987642, 'val_accuracy': 0.6903073286052009, 'precision': 0.6468685455942624, 'recall': 0.6903073286052009, 'f1-score': 0.6490861191972599, 'macro_f1-score': 0.28552275614515, 'balanced_accuracy': 0.27843495499283055, 'mcc': 0.5757485963920906}\n",
      "\n",
      "Epoch 6/20\n"
     ]
    },
    {
     "name": "stderr",
     "output_type": "stream",
     "text": [
      "100%|██████████| 476/476 [03:41<00:00,  2.15it/s]\n"
     ]
    },
    {
     "name": "stdout",
     "output_type": "stream",
     "text": [
      "Train loss: 0.5946\n",
      "{'val_loss': 1.3687490635323074, 'val_accuracy': 0.66548463356974, 'precision': 0.6703614620268249, 'recall': 0.66548463356974, 'f1-score': 0.6522501591774799, 'macro_f1-score': 0.3058639950864403, 'balanced_accuracy': 0.3138811016838915, 'mcc': 0.5549204000733361}\n",
      "\n",
      "Epoch 7/20\n"
     ]
    },
    {
     "name": "stderr",
     "output_type": "stream",
     "text": [
      "100%|██████████| 476/476 [03:41<00:00,  2.15it/s]\n"
     ]
    },
    {
     "name": "stdout",
     "output_type": "stream",
     "text": [
      "Train loss: 0.4827\n",
      "{'val_loss': 1.4137658701752716, 'val_accuracy': 0.6619385342789598, 'precision': 0.6619993669778825, 'recall': 0.6619385342789598, 'f1-score': 0.6459693142936854, 'macro_f1-score': 0.3242847154692218, 'balanced_accuracy': 0.34042888947052874, 'mcc': 0.5565710863029565}\n",
      "\n",
      "Epoch 8/20\n"
     ]
    },
    {
     "name": "stderr",
     "output_type": "stream",
     "text": [
      "100%|██████████| 476/476 [03:42<00:00,  2.14it/s]\n"
     ]
    },
    {
     "name": "stdout",
     "output_type": "stream",
     "text": [
      "Train loss: 0.4103\n",
      "{'val_loss': 1.4126952082481024, 'val_accuracy': 0.6678486997635934, 'precision': 0.6623176411376965, 'recall': 0.6678486997635934, 'f1-score': 0.6534329723381733, 'macro_f1-score': 0.3365169821717465, 'balanced_accuracy': 0.36226288862949746, 'mcc': 0.563701707517404}\n",
      "\n",
      "Epoch 9/20\n"
     ]
    },
    {
     "name": "stderr",
     "output_type": "stream",
     "text": [
      "100%|██████████| 476/476 [03:41<00:00,  2.15it/s]\n"
     ]
    },
    {
     "name": "stdout",
     "output_type": "stream",
     "text": [
      "Train loss: 0.3765\n",
      "{'val_loss': 1.5576910084148623, 'val_accuracy': 0.6524822695035462, 'precision': 0.649000618259334, 'recall': 0.6524822695035462, 'f1-score': 0.634176544321101, 'macro_f1-score': 0.3025859927263559, 'balanced_accuracy': 0.3081620638338538, 'mcc': 0.5384491681634712}\n",
      "\n",
      "Epoch 10/20\n"
     ]
    },
    {
     "name": "stderr",
     "output_type": "stream",
     "text": [
      "100%|██████████| 476/476 [03:41<00:00,  2.15it/s]\n"
     ]
    },
    {
     "name": "stdout",
     "output_type": "stream",
     "text": [
      "Train loss: 0.3342\n",
      "{'val_loss': 1.570916644244824, 'val_accuracy': 0.6513002364066194, 'precision': 0.6441907943873715, 'recall': 0.6513002364066194, 'f1-score': 0.6403342188941006, 'macro_f1-score': 0.3249879977881177, 'balanced_accuracy': 0.33722339121245726, 'mcc': 0.5425623791034418}\n",
      "\n",
      "Epoch 11/20\n"
     ]
    },
    {
     "name": "stderr",
     "output_type": "stream",
     "text": [
      "100%|██████████| 476/476 [03:41<00:00,  2.15it/s]\n"
     ]
    },
    {
     "name": "stdout",
     "output_type": "stream",
     "text": [
      "Train loss: 0.2940\n",
      "{'val_loss': 1.6314083706095535, 'val_accuracy': 0.6513002364066194, 'precision': 0.6477904900573862, 'recall': 0.6513002364066194, 'f1-score': 0.6381306546813226, 'macro_f1-score': 0.34389113144708544, 'balanced_accuracy': 0.34308791820628587, 'mcc': 0.5374939513472509}\n",
      "\n",
      "Epoch 12/20\n"
     ]
    },
    {
     "name": "stderr",
     "output_type": "stream",
     "text": [
      "100%|██████████| 476/476 [03:39<00:00,  2.16it/s]\n"
     ]
    },
    {
     "name": "stdout",
     "output_type": "stream",
     "text": [
      "Train loss: 0.2642\n",
      "{'val_loss': 1.5834728158869833, 'val_accuracy': 0.6607565011820331, 'precision': 0.6635796374854975, 'recall': 0.6607565011820331, 'f1-score': 0.6517757763024759, 'macro_f1-score': 0.3829459636939234, 'balanced_accuracy': 0.3951261808850961, 'mcc': 0.5587708654597143}\n",
      "\n",
      "Epoch 13/20\n"
     ]
    },
    {
     "name": "stderr",
     "output_type": "stream",
     "text": [
      "100%|██████████| 476/476 [03:40<00:00,  2.16it/s]\n"
     ]
    },
    {
     "name": "stdout",
     "output_type": "stream",
     "text": [
      "Train loss: 0.2473\n",
      "{'val_loss': 1.7366148761983187, 'val_accuracy': 0.6501182033096927, 'precision': 0.6532059867979817, 'recall': 0.6501182033096927, 'f1-score': 0.6364507551440972, 'macro_f1-score': 0.343447338348946, 'balanced_accuracy': 0.3378234087193539, 'mcc': 0.5392080471311917}\n",
      "\n",
      "Epoch 14/20\n"
     ]
    },
    {
     "name": "stderr",
     "output_type": "stream",
     "text": [
      "100%|██████████| 476/476 [03:40<00:00,  2.16it/s]\n"
     ]
    },
    {
     "name": "stdout",
     "output_type": "stream",
     "text": [
      "Train loss: 0.2427\n",
      "{'val_loss': 1.6320688907267913, 'val_accuracy': 0.6572104018912529, 'precision': 0.6616435128926071, 'recall': 0.6572104018912529, 'f1-score': 0.6466189151579581, 'macro_f1-score': 0.3831604075967534, 'balanced_accuracy': 0.3775188080311455, 'mcc': 0.5484718576511736}\n",
      "\n",
      "Epoch 15/20\n"
     ]
    },
    {
     "name": "stderr",
     "output_type": "stream",
     "text": [
      "100%|██████████| 476/476 [03:42<00:00,  2.14it/s]\n"
     ]
    },
    {
     "name": "stdout",
     "output_type": "stream",
     "text": [
      "Train loss: 0.2289\n",
      "{'val_loss': 1.7107983928806376, 'val_accuracy': 0.6548463356973995, 'precision': 0.6593731153374084, 'recall': 0.6548463356973995, 'f1-score': 0.6408330719219565, 'macro_f1-score': 0.36277064972777834, 'balanced_accuracy': 0.3866893444413458, 'mcc': 0.5467764900647606}\n",
      "\n",
      "Epoch 16/20\n"
     ]
    },
    {
     "name": "stderr",
     "output_type": "stream",
     "text": [
      "100%|██████████| 476/476 [03:40<00:00,  2.16it/s]\n"
     ]
    },
    {
     "name": "stdout",
     "output_type": "stream",
     "text": [
      "Train loss: 0.2217\n",
      "{'val_loss': 1.6728287749695328, 'val_accuracy': 0.6359338061465721, 'precision': 0.6486722002757305, 'recall': 0.6359338061465721, 'f1-score': 0.6295737246835683, 'macro_f1-score': 0.33288506530180506, 'balanced_accuracy': 0.34998979127112906, 'mcc': 0.529744605027413}\n",
      "\n",
      "Epoch 17/20\n"
     ]
    },
    {
     "name": "stderr",
     "output_type": "stream",
     "text": [
      "100%|██████████| 476/476 [03:41<00:00,  2.15it/s]\n"
     ]
    },
    {
     "name": "stdout",
     "output_type": "stream",
     "text": [
      "Train loss: 0.2393\n",
      "{'val_loss': 1.6336508874060973, 'val_accuracy': 0.66548463356974, 'precision': 0.6740578494898204, 'recall': 0.66548463356974, 'f1-score': 0.6575955657628827, 'macro_f1-score': 0.36708304528326835, 'balanced_accuracy': 0.3773513286170884, 'mcc': 0.5598965508480377}\n",
      "Early stopping triggered at epoch 17\n",
      "\n",
      "===== Fold 3 =====\n",
      "Train label dist: {0: 3576, 1: 28, 2: 126, 3: 27, 4: 231, 5: 131, 6: 106, 7: 35, 8: 76, 9: 73, 10: 80, 11: 193, 12: 217, 13: 32, 14: 26, 15: 28, 16: 23, 17: 260, 18: 104, 19: 51, 20: 16, 21: 40, 22: 87, 23: 180, 24: 18, 25: 57, 26: 96, 27: 55, 28: 14, 29: 14, 30: 17, 31: 90, 32: 41, 33: 36, 34: 33, 35: 13, 36: 32, 37: 24, 38: 6, 39: 116, 40: 13, 41: 10, 42: 166, 43: 18, 44: 22, 45: 10, 46: 61, 47: 595, 48: 227, 49: 78}\n",
      "Val label dist: {0: 398, 1: 3, 2: 14, 3: 3, 4: 26, 5: 14, 6: 12, 7: 4, 8: 9, 9: 8, 10: 8, 11: 22, 12: 24, 13: 4, 14: 3, 15: 3, 16: 2, 17: 29, 18: 12, 19: 5, 20: 2, 21: 4, 22: 10, 23: 20, 24: 2, 25: 6, 26: 11, 27: 6, 28: 1, 29: 2, 30: 2, 31: 10, 32: 4, 33: 4, 34: 4, 35: 2, 36: 3, 37: 3, 38: 1, 39: 13, 40: 1, 41: 1, 42: 18, 43: 2, 44: 3, 45: 1, 46: 7, 47: 66, 48: 25, 49: 9}\n",
      "\n",
      "Epoch 1/20\n"
     ]
    },
    {
     "name": "stderr",
     "output_type": "stream",
     "text": [
      "100%|██████████| 476/476 [03:42<00:00,  2.14it/s]\n"
     ]
    },
    {
     "name": "stdout",
     "output_type": "stream",
     "text": [
      "Train loss: 1.9610\n",
      "{'val_loss': 1.6409196426283639, 'val_accuracy': 0.5945626477541371, 'precision': 0.4462206765663511, 'recall': 0.5945626477541371, 'f1-score': 0.48999653137486476, 'macro_f1-score': 0.07664593037197086, 'balanced_accuracy': 0.09049175488059565, 'mcc': 0.4167190313542737}\n",
      "\n",
      "Epoch 2/20\n"
     ]
    },
    {
     "name": "stderr",
     "output_type": "stream",
     "text": [
      "100%|██████████| 476/476 [03:41<00:00,  2.15it/s]\n"
     ]
    },
    {
     "name": "stdout",
     "output_type": "stream",
     "text": [
      "Train loss: 1.4589\n",
      "{'val_loss': 1.4355989964503162, 'val_accuracy': 0.6170212765957447, 'precision': 0.5053638894686053, 'recall': 0.6170212765957447, 'f1-score': 0.5344304498244523, 'macro_f1-score': 0.1545550437213465, 'balanced_accuracy': 0.16627490245944584, 'mcc': 0.45552634991417473}\n",
      "\n",
      "Epoch 3/20\n"
     ]
    },
    {
     "name": "stderr",
     "output_type": "stream",
     "text": [
      "100%|██████████| 476/476 [03:40<00:00,  2.15it/s]\n"
     ]
    },
    {
     "name": "stdout",
     "output_type": "stream",
     "text": [
      "Train loss: 1.1808\n",
      "{'val_loss': 1.3110216951595162, 'val_accuracy': 0.6572104018912529, 'precision': 0.6200565638267752, 'recall': 0.6572104018912529, 'f1-score': 0.6162696297238102, 'macro_f1-score': 0.22959207184703243, 'balanced_accuracy': 0.2349254326566404, 'mcc': 0.5374815872186506}\n",
      "\n",
      "Epoch 4/20\n"
     ]
    },
    {
     "name": "stderr",
     "output_type": "stream",
     "text": [
      "100%|██████████| 476/476 [03:41<00:00,  2.15it/s]\n"
     ]
    },
    {
     "name": "stdout",
     "output_type": "stream",
     "text": [
      "Train loss: 0.9599\n",
      "{'val_loss': 1.4200241537588947, 'val_accuracy': 0.6572104018912529, 'precision': 0.6078258839929599, 'recall': 0.6572104018912529, 'f1-score': 0.5994719580967053, 'macro_f1-score': 0.2519326875922334, 'balanced_accuracy': 0.24468295014252386, 'mcc': 0.5197717212168176}\n",
      "\n",
      "Epoch 5/20\n"
     ]
    },
    {
     "name": "stderr",
     "output_type": "stream",
     "text": [
      "100%|██████████| 476/476 [03:41<00:00,  2.15it/s]\n"
     ]
    },
    {
     "name": "stdout",
     "output_type": "stream",
     "text": [
      "Train loss: 0.7846\n",
      "{'val_loss': 1.3469775712715004, 'val_accuracy': 0.6536643026004728, 'precision': 0.6391796729814483, 'recall': 0.6536643026004728, 'f1-score': 0.6308008027448768, 'macro_f1-score': 0.2919435257915227, 'balanced_accuracy': 0.29987330702182546, 'mcc': 0.5394976371247804}\n",
      "\n",
      "Epoch 6/20\n"
     ]
    },
    {
     "name": "stderr",
     "output_type": "stream",
     "text": [
      "100%|██████████| 476/476 [03:41<00:00,  2.15it/s]\n"
     ]
    },
    {
     "name": "stdout",
     "output_type": "stream",
     "text": [
      "Train loss: 0.6336\n",
      "{'val_loss': 1.3357790995318934, 'val_accuracy': 0.6643026004728132, 'precision': 0.6542826603963583, 'recall': 0.6643026004728132, 'f1-score': 0.6470151334716765, 'macro_f1-score': 0.3383173236915534, 'balanced_accuracy': 0.34847866643839615, 'mcc': 0.5570447309405578}\n",
      "\n",
      "Epoch 7/20\n"
     ]
    },
    {
     "name": "stderr",
     "output_type": "stream",
     "text": [
      "100%|██████████| 476/476 [03:41<00:00,  2.15it/s]\n"
     ]
    },
    {
     "name": "stdout",
     "output_type": "stream",
     "text": [
      "Train loss: 0.5388\n",
      "{'val_loss': 1.4033519546940643, 'val_accuracy': 0.6832151300236406, 'precision': 0.6663816596963906, 'recall': 0.6832151300236406, 'f1-score': 0.6596365701094385, 'macro_f1-score': 0.3794049064328287, 'balanced_accuracy': 0.376598141731966, 'mcc': 0.5772037714609928}\n",
      "\n",
      "Epoch 8/20\n"
     ]
    },
    {
     "name": "stderr",
     "output_type": "stream",
     "text": [
      "100%|██████████| 476/476 [03:40<00:00,  2.15it/s]\n"
     ]
    },
    {
     "name": "stdout",
     "output_type": "stream",
     "text": [
      "Train loss: 0.4601\n",
      "{'val_loss': 1.4357373247731406, 'val_accuracy': 0.6702127659574468, 'precision': 0.6550016778253949, 'recall': 0.6702127659574468, 'f1-score': 0.6539173835671719, 'macro_f1-score': 0.3856024724565536, 'balanced_accuracy': 0.3904063583617907, 'mcc': 0.5649450777138862}\n",
      "\n",
      "Epoch 9/20\n"
     ]
    },
    {
     "name": "stderr",
     "output_type": "stream",
     "text": [
      "100%|██████████| 476/476 [03:42<00:00,  2.14it/s]\n"
     ]
    },
    {
     "name": "stdout",
     "output_type": "stream",
     "text": [
      "Train loss: 0.3968\n",
      "{'val_loss': 1.5095788330402014, 'val_accuracy': 0.6737588652482269, 'precision': 0.690614869993785, 'recall': 0.6737588652482269, 'f1-score': 0.6671308486044829, 'macro_f1-score': 0.3975008393323596, 'balanced_accuracy': 0.39568981725642616, 'mcc': 0.5680265601717139}\n",
      "\n",
      "Epoch 10/20\n"
     ]
    },
    {
     "name": "stderr",
     "output_type": "stream",
     "text": [
      "100%|██████████| 476/476 [03:40<00:00,  2.16it/s]\n"
     ]
    },
    {
     "name": "stdout",
     "output_type": "stream",
     "text": [
      "Train loss: 0.3434\n",
      "{'val_loss': 1.4864591719969265, 'val_accuracy': 0.6832151300236406, 'precision': 0.6862059913112786, 'recall': 0.6832151300236406, 'f1-score': 0.673180248639184, 'macro_f1-score': 0.4300057364503968, 'balanced_accuracy': 0.4152789482817381, 'mcc': 0.5794365687295772}\n",
      "\n",
      "Epoch 11/20\n"
     ]
    },
    {
     "name": "stderr",
     "output_type": "stream",
     "text": [
      "100%|██████████| 476/476 [03:40<00:00,  2.16it/s]\n"
     ]
    },
    {
     "name": "stdout",
     "output_type": "stream",
     "text": [
      "Train loss: 0.3250\n",
      "{'val_loss': 1.5167247939784572, 'val_accuracy': 0.6761229314420804, 'precision': 0.6708750143453399, 'recall': 0.6761229314420804, 'f1-score': 0.6620713386257222, 'macro_f1-score': 0.4309771077872995, 'balanced_accuracy': 0.4280887475200245, 'mcc': 0.5705530310419973}\n",
      "\n",
      "Epoch 12/20\n"
     ]
    },
    {
     "name": "stderr",
     "output_type": "stream",
     "text": [
      "100%|██████████| 476/476 [03:42<00:00,  2.14it/s]\n"
     ]
    },
    {
     "name": "stdout",
     "output_type": "stream",
     "text": [
      "Train loss: 0.2885\n",
      "{'val_loss': 1.612497643479761, 'val_accuracy': 0.682033096926714, 'precision': 0.6583590990955082, 'recall': 0.682033096926714, 'f1-score': 0.6559744421775805, 'macro_f1-score': 0.40801456258816365, 'balanced_accuracy': 0.4063741715243881, 'mcc': 0.5761578458124429}\n",
      "\n",
      "Epoch 13/20\n"
     ]
    },
    {
     "name": "stderr",
     "output_type": "stream",
     "text": [
      "100%|██████████| 476/476 [03:41<00:00,  2.15it/s]\n"
     ]
    },
    {
     "name": "stdout",
     "output_type": "stream",
     "text": [
      "Train loss: 0.3021\n",
      "{'val_loss': 1.6650842793707579, 'val_accuracy': 0.6690307328605201, 'precision': 0.6899664995671214, 'recall': 0.6690307328605201, 'f1-score': 0.6675777766651285, 'macro_f1-score': 0.41213631031373155, 'balanced_accuracy': 0.39642160730545756, 'mcc': 0.5622215839570974}\n",
      "\n",
      "Epoch 14/20\n"
     ]
    },
    {
     "name": "stderr",
     "output_type": "stream",
     "text": [
      "100%|██████████| 476/476 [03:41<00:00,  2.15it/s]\n"
     ]
    },
    {
     "name": "stdout",
     "output_type": "stream",
     "text": [
      "Train loss: 0.2781\n",
      "{'val_loss': 1.585648184115032, 'val_accuracy': 0.682033096926714, 'precision': 0.6718852395602065, 'recall': 0.682033096926714, 'f1-score': 0.6647758362415632, 'macro_f1-score': 0.43819931792814437, 'balanced_accuracy': 0.41325886139698303, 'mcc': 0.5732055793420688}\n",
      "\n",
      "Epoch 15/20\n"
     ]
    },
    {
     "name": "stderr",
     "output_type": "stream",
     "text": [
      "100%|██████████| 476/476 [03:41<00:00,  2.15it/s]\n"
     ]
    },
    {
     "name": "stdout",
     "output_type": "stream",
     "text": [
      "Train loss: 0.2304\n",
      "{'val_loss': 1.6866416751213793, 'val_accuracy': 0.6524822695035462, 'precision': 0.6808638582491099, 'recall': 0.6524822695035462, 'f1-score': 0.6526380499372044, 'macro_f1-score': 0.4380086287049864, 'balanced_accuracy': 0.4395657211807618, 'mcc': 0.559204851677957}\n",
      "\n",
      "Epoch 16/20\n"
     ]
    },
    {
     "name": "stderr",
     "output_type": "stream",
     "text": [
      "100%|██████████| 476/476 [03:41<00:00,  2.15it/s]\n"
     ]
    },
    {
     "name": "stdout",
     "output_type": "stream",
     "text": [
      "Train loss: 0.2278\n",
      "{'val_loss': 1.778440630379713, 'val_accuracy': 0.640661938534279, 'precision': 0.6834714072393344, 'recall': 0.640661938534279, 'f1-score': 0.6465744541084345, 'macro_f1-score': 0.4005259763224939, 'balanced_accuracy': 0.42404104396729586, 'mcc': 0.5436827413298597}\n",
      "\n",
      "Epoch 17/20\n"
     ]
    },
    {
     "name": "stderr",
     "output_type": "stream",
     "text": [
      "100%|██████████| 476/476 [03:40<00:00,  2.15it/s]\n"
     ]
    },
    {
     "name": "stdout",
     "output_type": "stream",
     "text": [
      "Train loss: 0.2360\n",
      "{'val_loss': 1.7116102295101814, 'val_accuracy': 0.6690307328605201, 'precision': 0.6951620854333938, 'recall': 0.6690307328605201, 'f1-score': 0.6713547310384731, 'macro_f1-score': 0.44240834854872824, 'balanced_accuracy': 0.4568032490276815, 'mcc': 0.5719437830577462}\n",
      "\n",
      "Epoch 18/20\n"
     ]
    },
    {
     "name": "stderr",
     "output_type": "stream",
     "text": [
      "100%|██████████| 476/476 [03:41<00:00,  2.15it/s]\n"
     ]
    },
    {
     "name": "stdout",
     "output_type": "stream",
     "text": [
      "Train loss: 0.2427\n",
      "{'val_loss': 1.7043996009061921, 'val_accuracy': 0.6666666666666666, 'precision': 0.6872418589087731, 'recall': 0.6666666666666666, 'f1-score': 0.6681591308751931, 'macro_f1-score': 0.4423697341214828, 'balanced_accuracy': 0.4271052955650599, 'mcc': 0.5612403878944393}\n",
      "\n",
      "Epoch 19/20\n"
     ]
    },
    {
     "name": "stderr",
     "output_type": "stream",
     "text": [
      "100%|██████████| 476/476 [03:41<00:00,  2.15it/s]\n"
     ]
    },
    {
     "name": "stdout",
     "output_type": "stream",
     "text": [
      "Train loss: 0.2259\n",
      "{'val_loss': 1.7511668084365017, 'val_accuracy': 0.6631205673758865, 'precision': 0.6769611174378682, 'recall': 0.6631205673758865, 'f1-score': 0.6562641006870675, 'macro_f1-score': 0.43361285836067553, 'balanced_accuracy': 0.4232020590626378, 'mcc': 0.5544238569935188}\n",
      "\n",
      "Epoch 20/20\n"
     ]
    },
    {
     "name": "stderr",
     "output_type": "stream",
     "text": [
      "100%|██████████| 476/476 [03:41<00:00,  2.15it/s]\n"
     ]
    },
    {
     "name": "stdout",
     "output_type": "stream",
     "text": [
      "Train loss: 0.2368\n",
      "{'val_loss': 1.6890718267773681, 'val_accuracy': 0.6725768321513003, 'precision': 0.6848523888328754, 'recall': 0.6725768321513003, 'f1-score': 0.6705261713953128, 'macro_f1-score': 0.4386851976041129, 'balanced_accuracy': 0.4402422121304637, 'mcc': 0.5759493785987984}\n",
      "Early stopping triggered at epoch 20\n",
      "\n",
      "===== Fold 4 =====\n",
      "Train label dist: {0: 3576, 1: 28, 2: 126, 3: 27, 4: 231, 5: 131, 6: 106, 7: 35, 8: 77, 9: 72, 10: 80, 11: 193, 12: 217, 13: 32, 14: 27, 15: 27, 16: 23, 17: 260, 18: 104, 19: 51, 20: 16, 21: 40, 22: 87, 23: 180, 24: 18, 25: 57, 26: 96, 27: 55, 28: 14, 29: 14, 30: 17, 31: 90, 32: 41, 33: 36, 34: 33, 35: 13, 36: 32, 37: 24, 38: 6, 39: 116, 40: 13, 41: 10, 42: 166, 43: 18, 44: 23, 45: 9, 46: 61, 47: 595, 48: 227, 49: 78}\n",
      "Val label dist: {0: 398, 1: 3, 2: 14, 3: 3, 4: 26, 5: 14, 6: 12, 7: 4, 8: 8, 9: 9, 10: 8, 11: 22, 12: 24, 13: 4, 14: 2, 15: 4, 16: 2, 17: 29, 18: 12, 19: 5, 20: 2, 21: 4, 22: 10, 23: 20, 24: 2, 25: 6, 26: 11, 27: 6, 28: 1, 29: 2, 30: 2, 31: 10, 32: 4, 33: 4, 34: 4, 35: 2, 36: 3, 37: 3, 38: 1, 39: 13, 40: 1, 41: 1, 42: 18, 43: 2, 44: 2, 45: 2, 46: 7, 47: 66, 48: 25, 49: 9}\n",
      "\n",
      "Epoch 1/20\n"
     ]
    },
    {
     "name": "stderr",
     "output_type": "stream",
     "text": [
      "100%|██████████| 476/476 [03:41<00:00,  2.15it/s]\n"
     ]
    },
    {
     "name": "stdout",
     "output_type": "stream",
     "text": [
      "Train loss: 1.9603\n",
      "{'val_loss': 1.8563591961590749, 'val_accuracy': 0.599290780141844, 'precision': 0.43401577018144794, 'recall': 0.599290780141844, 'f1-score': 0.4921227708800427, 'macro_f1-score': 0.10420351439327642, 'balanced_accuracy': 0.11184424739857074, 'mcc': 0.4148115512939223}\n",
      "\n",
      "Epoch 2/20\n"
     ]
    },
    {
     "name": "stderr",
     "output_type": "stream",
     "text": [
      "100%|██████████| 476/476 [03:41<00:00,  2.15it/s]\n"
     ]
    },
    {
     "name": "stdout",
     "output_type": "stream",
     "text": [
      "Train loss: 1.4463\n",
      "{'val_loss': 1.4286156915268808, 'val_accuracy': 0.6288416075650118, 'precision': 0.5631523233564755, 'recall': 0.6288416075650118, 'f1-score': 0.5664639939213141, 'macro_f1-score': 0.16997234395849287, 'balanced_accuracy': 0.17268169244644724, 'mcc': 0.4797832192029934}\n",
      "\n",
      "Epoch 3/20\n"
     ]
    },
    {
     "name": "stderr",
     "output_type": "stream",
     "text": [
      "100%|██████████| 476/476 [03:41<00:00,  2.15it/s]\n"
     ]
    },
    {
     "name": "stdout",
     "output_type": "stream",
     "text": [
      "Train loss: 1.1361\n",
      "{'val_loss': 1.3849460403874236, 'val_accuracy': 0.6548463356973995, 'precision': 0.6147290365889564, 'recall': 0.6548463356973995, 'f1-score': 0.6163924879379198, 'macro_f1-score': 0.2509213726954689, 'balanced_accuracy': 0.2509649321875106, 'mcc': 0.531215029302777}\n",
      "\n",
      "Epoch 4/20\n"
     ]
    },
    {
     "name": "stderr",
     "output_type": "stream",
     "text": [
      "100%|██████████| 476/476 [03:40<00:00,  2.15it/s]\n"
     ]
    },
    {
     "name": "stdout",
     "output_type": "stream",
     "text": [
      "Train loss: 0.9032\n",
      "{'val_loss': 1.2897280926974315, 'val_accuracy': 0.648936170212766, 'precision': 0.6191918390766799, 'recall': 0.648936170212766, 'f1-score': 0.6250755933446358, 'macro_f1-score': 0.2917314427807215, 'balanced_accuracy': 0.30617621504200954, 'mcc': 0.537094090291382}\n",
      "\n",
      "Epoch 5/20\n"
     ]
    },
    {
     "name": "stderr",
     "output_type": "stream",
     "text": [
      "100%|██████████| 476/476 [03:40<00:00,  2.16it/s]\n"
     ]
    },
    {
     "name": "stdout",
     "output_type": "stream",
     "text": [
      "Train loss: 0.7329\n",
      "{'val_loss': 1.3921169093194998, 'val_accuracy': 0.6713947990543735, 'precision': 0.6375249195590412, 'recall': 0.6713947990543735, 'f1-score': 0.6371655663406917, 'macro_f1-score': 0.3343326282211671, 'balanced_accuracy': 0.3080894633947658, 'mcc': 0.5495987161835367}\n",
      "\n",
      "Epoch 6/20\n"
     ]
    },
    {
     "name": "stderr",
     "output_type": "stream",
     "text": [
      "100%|██████████| 476/476 [03:41<00:00,  2.15it/s]\n"
     ]
    },
    {
     "name": "stdout",
     "output_type": "stream",
     "text": [
      "Train loss: 0.5785\n",
      "{'val_loss': 1.3667309824025855, 'val_accuracy': 0.6843971631205674, 'precision': 0.6644426110433914, 'recall': 0.6843971631205674, 'f1-score': 0.6567740541086269, 'macro_f1-score': 0.36897317115325284, 'balanced_accuracy': 0.37217489096128853, 'mcc': 0.5761646324341584}\n",
      "\n",
      "Epoch 7/20\n"
     ]
    },
    {
     "name": "stderr",
     "output_type": "stream",
     "text": [
      "100%|██████████| 476/476 [03:42<00:00,  2.14it/s]\n"
     ]
    },
    {
     "name": "stdout",
     "output_type": "stream",
     "text": [
      "Train loss: 0.4741\n",
      "{'val_loss': 1.4589028139159363, 'val_accuracy': 0.6737588652482269, 'precision': 0.6797157505936857, 'recall': 0.6737588652482269, 'f1-score': 0.6604986186899161, 'macro_f1-score': 0.3883177394354816, 'balanced_accuracy': 0.38779616835156605, 'mcc': 0.5686302134767055}\n",
      "\n",
      "Epoch 8/20\n"
     ]
    },
    {
     "name": "stderr",
     "output_type": "stream",
     "text": [
      "100%|██████████| 476/476 [03:40<00:00,  2.16it/s]\n"
     ]
    },
    {
     "name": "stdout",
     "output_type": "stream",
     "text": [
      "Train loss: 0.3965\n",
      "{'val_loss': 1.7015110124956887, 'val_accuracy': 0.6867612293144209, 'precision': 0.6871906829161949, 'recall': 0.6867612293144209, 'f1-score': 0.65512141473797, 'macro_f1-score': 0.3646285718119187, 'balanced_accuracy': 0.3361328398165688, 'mcc': 0.5704630350499192}\n",
      "\n",
      "Epoch 9/20\n"
     ]
    },
    {
     "name": "stderr",
     "output_type": "stream",
     "text": [
      "100%|██████████| 476/476 [03:41<00:00,  2.15it/s]\n"
     ]
    },
    {
     "name": "stdout",
     "output_type": "stream",
     "text": [
      "Train loss: 0.3522\n",
      "{'val_loss': 1.394171082748557, 'val_accuracy': 0.6997635933806147, 'precision': 0.6974119847113823, 'recall': 0.6997635933806147, 'f1-score': 0.6843734855442869, 'macro_f1-score': 0.44505221710674514, 'balanced_accuracy': 0.4269882265677101, 'mcc': 0.5978463955829367}\n",
      "\n",
      "Epoch 10/20\n"
     ]
    },
    {
     "name": "stderr",
     "output_type": "stream",
     "text": [
      "100%|██████████| 476/476 [03:41<00:00,  2.15it/s]\n"
     ]
    },
    {
     "name": "stdout",
     "output_type": "stream",
     "text": [
      "Train loss: 0.3223\n",
      "{'val_loss': 1.4830026261086733, 'val_accuracy': 0.6761229314420804, 'precision': 0.6895084447891705, 'recall': 0.6761229314420804, 'f1-score': 0.6691051322327365, 'macro_f1-score': 0.43670819264996213, 'balanced_accuracy': 0.42389023359820444, 'mcc': 0.5701795425613908}\n",
      "\n",
      "Epoch 11/20\n"
     ]
    },
    {
     "name": "stderr",
     "output_type": "stream",
     "text": [
      "100%|██████████| 476/476 [03:40<00:00,  2.16it/s]\n"
     ]
    },
    {
     "name": "stdout",
     "output_type": "stream",
     "text": [
      "Train loss: 0.3092\n",
      "{'val_loss': 1.6564547534821168, 'val_accuracy': 0.6607565011820331, 'precision': 0.6759628170824532, 'recall': 0.6607565011820331, 'f1-score': 0.6553118455139054, 'macro_f1-score': 0.4023630896980172, 'balanced_accuracy': 0.4000730190043307, 'mcc': 0.5549098004801373}\n",
      "\n",
      "Epoch 12/20\n"
     ]
    },
    {
     "name": "stderr",
     "output_type": "stream",
     "text": [
      "100%|██████████| 476/476 [03:41<00:00,  2.15it/s]\n"
     ]
    },
    {
     "name": "stdout",
     "output_type": "stream",
     "text": [
      "Train loss: 0.3129\n",
      "{'val_loss': 1.4965208229028955, 'val_accuracy': 0.6914893617021277, 'precision': 0.6720520208441894, 'recall': 0.6914893617021277, 'f1-score': 0.6631629021025813, 'macro_f1-score': 0.41070478799018645, 'balanced_accuracy': 0.39304960514369625, 'mcc': 0.5798052482077107}\n",
      "Early stopping triggered at epoch 12\n",
      "\n",
      "===== Fold 5 =====\n",
      "Train label dist: {0: 3577, 1: 27, 2: 126, 3: 27, 4: 231, 5: 131, 6: 106, 7: 35, 8: 77, 9: 73, 10: 79, 11: 193, 12: 217, 13: 33, 14: 26, 15: 28, 16: 22, 17: 260, 18: 105, 19: 50, 20: 16, 21: 40, 22: 87, 23: 180, 24: 18, 25: 57, 26: 96, 27: 55, 28: 14, 29: 14, 30: 17, 31: 90, 32: 41, 33: 36, 34: 33, 35: 14, 36: 31, 37: 24, 38: 6, 39: 117, 40: 13, 41: 10, 42: 165, 43: 18, 44: 23, 45: 10, 46: 61, 47: 595, 48: 227, 49: 78}\n",
      "Val label dist: {0: 397, 1: 4, 2: 14, 3: 3, 4: 26, 5: 14, 6: 12, 7: 4, 8: 8, 9: 8, 10: 9, 11: 22, 12: 24, 13: 3, 14: 3, 15: 3, 16: 3, 17: 29, 18: 11, 19: 6, 20: 2, 21: 4, 22: 10, 23: 20, 24: 2, 25: 6, 26: 11, 27: 6, 28: 1, 29: 2, 30: 2, 31: 10, 32: 4, 33: 4, 34: 4, 35: 1, 36: 4, 37: 3, 38: 1, 39: 12, 40: 1, 41: 1, 42: 19, 43: 2, 44: 2, 45: 1, 46: 7, 47: 66, 48: 25, 49: 9}\n",
      "\n",
      "Epoch 1/20\n"
     ]
    },
    {
     "name": "stderr",
     "output_type": "stream",
     "text": [
      "100%|██████████| 476/476 [03:40<00:00,  2.16it/s]\n"
     ]
    },
    {
     "name": "stdout",
     "output_type": "stream",
     "text": [
      "Train loss: 1.9573\n",
      "{'val_loss': 1.581005352847981, 'val_accuracy': 0.6130177514792899, 'precision': 0.4577623420685212, 'recall': 0.6130177514792899, 'f1-score': 0.5094882888855672, 'macro_f1-score': 0.11351250019172364, 'balanced_accuracy': 0.12801982600527723, 'mcc': 0.4494957997540306}\n",
      "\n",
      "Epoch 2/20\n"
     ]
    },
    {
     "name": "stderr",
     "output_type": "stream",
     "text": [
      "100%|██████████| 476/476 [03:41<00:00,  2.15it/s]\n"
     ]
    },
    {
     "name": "stdout",
     "output_type": "stream",
     "text": [
      "Train loss: 1.4271\n",
      "{'val_loss': 1.3830920907686342, 'val_accuracy': 0.6272189349112426, 'precision': 0.5610048133121812, 'recall': 0.6272189349112426, 'f1-score': 0.5731124127585941, 'macro_f1-score': 0.20093189021382624, 'balanced_accuracy': 0.21864445831231613, 'mcc': 0.4991927976033014}\n",
      "\n",
      "Epoch 3/20\n"
     ]
    },
    {
     "name": "stderr",
     "output_type": "stream",
     "text": [
      "100%|██████████| 476/476 [03:40<00:00,  2.15it/s]\n"
     ]
    },
    {
     "name": "stdout",
     "output_type": "stream",
     "text": [
      "Train loss: 1.1360\n",
      "{'val_loss': 1.3688992531794422, 'val_accuracy': 0.6307692307692307, 'precision': 0.5614137821036516, 'recall': 0.6307692307692307, 'f1-score': 0.5829853468634657, 'macro_f1-score': 0.21459709763441204, 'balanced_accuracy': 0.2199126124817037, 'mcc': 0.5000967553000436}\n",
      "\n",
      "Epoch 4/20\n"
     ]
    },
    {
     "name": "stderr",
     "output_type": "stream",
     "text": [
      "100%|██████████| 476/476 [03:42<00:00,  2.14it/s]\n"
     ]
    },
    {
     "name": "stdout",
     "output_type": "stream",
     "text": [
      "Train loss: 0.8948\n",
      "{'val_loss': 1.2880464235566698, 'val_accuracy': 0.6579881656804734, 'precision': 0.6002202656937676, 'recall': 0.6579881656804734, 'f1-score': 0.6129853328343786, 'macro_f1-score': 0.24779320766986881, 'balanced_accuracy': 0.2571765150069086, 'mcc': 0.5349709261399573}\n",
      "\n",
      "Epoch 5/20\n"
     ]
    },
    {
     "name": "stderr",
     "output_type": "stream",
     "text": [
      "100%|██████████| 476/476 [03:40<00:00,  2.16it/s]\n"
     ]
    },
    {
     "name": "stdout",
     "output_type": "stream",
     "text": [
      "Train loss: 0.7215\n",
      "{'val_loss': 1.3502176628922515, 'val_accuracy': 0.6710059171597633, 'precision': 0.6458145105145693, 'recall': 0.6710059171597633, 'f1-score': 0.6324800315936421, 'macro_f1-score': 0.30731664215226784, 'balanced_accuracy': 0.3258569024766234, 'mcc': 0.5513652817439331}\n",
      "\n",
      "Epoch 6/20\n"
     ]
    },
    {
     "name": "stderr",
     "output_type": "stream",
     "text": [
      "100%|██████████| 476/476 [03:41<00:00,  2.15it/s]\n"
     ]
    },
    {
     "name": "stdout",
     "output_type": "stream",
     "text": [
      "Train loss: 0.5801\n",
      "{'val_loss': 1.4116585929438752, 'val_accuracy': 0.672189349112426, 'precision': 0.6428462201527277, 'recall': 0.672189349112426, 'f1-score': 0.6372866180891008, 'macro_f1-score': 0.33468794018715914, 'balanced_accuracy': 0.3323433668483521, 'mcc': 0.5561820923257085}\n",
      "\n",
      "Epoch 7/20\n"
     ]
    },
    {
     "name": "stderr",
     "output_type": "stream",
     "text": [
      "100%|██████████| 476/476 [03:41<00:00,  2.15it/s]\n"
     ]
    },
    {
     "name": "stdout",
     "output_type": "stream",
     "text": [
      "Train loss: 0.4824\n",
      "{'val_loss': 1.3559282219634865, 'val_accuracy': 0.6686390532544378, 'precision': 0.6706614327442448, 'recall': 0.6686390532544378, 'f1-score': 0.6552913983712577, 'macro_f1-score': 0.37487809930490334, 'balanced_accuracy': 0.37919273060639935, 'mcc': 0.5657261781785904}\n",
      "\n",
      "Epoch 8/20\n"
     ]
    },
    {
     "name": "stderr",
     "output_type": "stream",
     "text": [
      "100%|██████████| 476/476 [03:41<00:00,  2.15it/s]\n"
     ]
    },
    {
     "name": "stdout",
     "output_type": "stream",
     "text": [
      "Train loss: 0.4078\n",
      "{'val_loss': 1.3906017457539182, 'val_accuracy': 0.6804733727810651, 'precision': 0.6874557641081749, 'recall': 0.6804733727810651, 'f1-score': 0.6686957749641949, 'macro_f1-score': 0.38447836813386455, 'balanced_accuracy': 0.3969644867006933, 'mcc': 0.5806483595014053}\n",
      "\n",
      "Epoch 9/20\n"
     ]
    },
    {
     "name": "stderr",
     "output_type": "stream",
     "text": [
      "100%|██████████| 476/476 [03:41<00:00,  2.15it/s]\n"
     ]
    },
    {
     "name": "stdout",
     "output_type": "stream",
     "text": [
      "Train loss: 0.3608\n",
      "{'val_loss': 1.6197274973932303, 'val_accuracy': 0.6710059171597633, 'precision': 0.6566221668219014, 'recall': 0.6710059171597633, 'f1-score': 0.63650860517293, 'macro_f1-score': 0.3456965785024724, 'balanced_accuracy': 0.3329095634884848, 'mcc': 0.5486532334121448}\n",
      "\n",
      "Epoch 10/20\n"
     ]
    },
    {
     "name": "stderr",
     "output_type": "stream",
     "text": [
      "100%|██████████| 476/476 [03:41<00:00,  2.15it/s]\n"
     ]
    },
    {
     "name": "stdout",
     "output_type": "stream",
     "text": [
      "Train loss: 0.3278\n",
      "{'val_loss': 1.4553831888819642, 'val_accuracy': 0.676923076923077, 'precision': 0.6760286269106438, 'recall': 0.676923076923077, 'f1-score': 0.656257395119244, 'macro_f1-score': 0.3696608361598232, 'balanced_accuracy': 0.37425994202123114, 'mcc': 0.5732772752970297}\n",
      "\n",
      "Epoch 11/20\n"
     ]
    },
    {
     "name": "stderr",
     "output_type": "stream",
     "text": [
      "100%|██████████| 476/476 [03:42<00:00,  2.14it/s]\n"
     ]
    },
    {
     "name": "stdout",
     "output_type": "stream",
     "text": [
      "Train loss: 0.3075\n",
      "{'val_loss': 1.5065344234682478, 'val_accuracy': 0.6875739644970414, 'precision': 0.6693648877762693, 'recall': 0.6875739644970414, 'f1-score': 0.6630783526296233, 'macro_f1-score': 0.390949631085722, 'balanced_accuracy': 0.39008487365697436, 'mcc': 0.5786314803328679}\n",
      "\n",
      "Epoch 12/20\n"
     ]
    },
    {
     "name": "stderr",
     "output_type": "stream",
     "text": [
      "100%|██████████| 476/476 [03:41<00:00,  2.14it/s]\n"
     ]
    },
    {
     "name": "stdout",
     "output_type": "stream",
     "text": [
      "Train loss: 0.2696\n",
      "{'val_loss': 1.5252902451551185, 'val_accuracy': 0.672189349112426, 'precision': 0.6716554432147889, 'recall': 0.672189349112426, 'f1-score': 0.6574305482495681, 'macro_f1-score': 0.3655905835669246, 'balanced_accuracy': 0.38505388560486686, 'mcc': 0.5682349544463977}\n",
      "\n",
      "Epoch 13/20\n"
     ]
    },
    {
     "name": "stderr",
     "output_type": "stream",
     "text": [
      "100%|██████████| 476/476 [03:41<00:00,  2.14it/s]\n"
     ]
    },
    {
     "name": "stdout",
     "output_type": "stream",
     "text": [
      "Train loss: 0.2485\n",
      "{'val_loss': 1.6237264056250733, 'val_accuracy': 0.6556213017751479, 'precision': 0.6553339055561876, 'recall': 0.6556213017751479, 'f1-score': 0.6406134160032202, 'macro_f1-score': 0.3089522075703688, 'balanced_accuracy': 0.3247127683248, 'mcc': 0.5431730599085738}\n",
      "\n",
      "Epoch 14/20\n"
     ]
    },
    {
     "name": "stderr",
     "output_type": "stream",
     "text": [
      "100%|██████████| 476/476 [03:41<00:00,  2.15it/s]\n"
     ]
    },
    {
     "name": "stdout",
     "output_type": "stream",
     "text": [
      "Train loss: 0.2566\n",
      "{'val_loss': 1.6023977601303245, 'val_accuracy': 0.6792899408284023, 'precision': 0.6705589374954013, 'recall': 0.6792899408284023, 'f1-score': 0.6563909868639494, 'macro_f1-score': 0.3674264856179811, 'balanced_accuracy': 0.366908664022181, 'mcc': 0.570478535668278}\n",
      "Early stopping triggered at epoch 14\n",
      "\n",
      "===== Fold 6 =====\n",
      "Train label dist: {0: 3577, 1: 28, 2: 126, 3: 27, 4: 231, 5: 131, 6: 106, 7: 35, 8: 77, 9: 73, 10: 79, 11: 193, 12: 217, 13: 33, 14: 26, 15: 28, 16: 22, 17: 260, 18: 105, 19: 50, 20: 16, 21: 40, 22: 87, 23: 180, 24: 18, 25: 57, 26: 96, 27: 55, 28: 14, 29: 14, 30: 17, 31: 90, 32: 41, 33: 36, 34: 33, 35: 14, 36: 31, 37: 24, 38: 6, 39: 116, 40: 13, 41: 10, 42: 165, 43: 18, 44: 23, 45: 10, 46: 61, 47: 595, 48: 227, 49: 78}\n",
      "Val label dist: {0: 397, 1: 3, 2: 14, 3: 3, 4: 26, 5: 14, 6: 12, 7: 4, 8: 8, 9: 8, 10: 9, 11: 22, 12: 24, 13: 3, 14: 3, 15: 3, 16: 3, 17: 29, 18: 11, 19: 6, 20: 2, 21: 4, 22: 10, 23: 20, 24: 2, 25: 6, 26: 11, 27: 6, 28: 1, 29: 2, 30: 2, 31: 10, 32: 4, 33: 4, 34: 4, 35: 1, 36: 4, 37: 3, 38: 1, 39: 13, 40: 1, 41: 1, 42: 19, 43: 2, 44: 2, 45: 1, 46: 7, 47: 66, 48: 25, 49: 9}\n",
      "\n",
      "Epoch 1/20\n"
     ]
    },
    {
     "name": "stderr",
     "output_type": "stream",
     "text": [
      "100%|██████████| 476/476 [03:40<00:00,  2.16it/s]\n"
     ]
    },
    {
     "name": "stdout",
     "output_type": "stream",
     "text": [
      "Train loss: 1.9332\n",
      "{'val_loss': 1.5551329789296635, 'val_accuracy': 0.6094674556213018, 'precision': 0.45490912375929704, 'recall': 0.6094674556213018, 'f1-score': 0.5045205675066178, 'macro_f1-score': 0.10375500846061762, 'balanced_accuracy': 0.12629630633126682, 'mcc': 0.44448957003608874}\n",
      "\n",
      "Epoch 2/20\n"
     ]
    },
    {
     "name": "stderr",
     "output_type": "stream",
     "text": [
      "100%|██████████| 476/476 [03:40<00:00,  2.16it/s]\n"
     ]
    },
    {
     "name": "stdout",
     "output_type": "stream",
     "text": [
      "Train loss: 1.3856\n",
      "{'val_loss': 1.348791963649246, 'val_accuracy': 0.642603550295858, 'precision': 0.5686111942531498, 'recall': 0.642603550295858, 'f1-score': 0.5793485840552755, 'macro_f1-score': 0.18423309709847202, 'balanced_accuracy': 0.19382333247862327, 'mcc': 0.5045296465674238}\n",
      "\n",
      "Epoch 3/20\n"
     ]
    },
    {
     "name": "stderr",
     "output_type": "stream",
     "text": [
      "100%|██████████| 476/476 [03:40<00:00,  2.15it/s]\n"
     ]
    },
    {
     "name": "stdout",
     "output_type": "stream",
     "text": [
      "Train loss: 1.1006\n",
      "{'val_loss': 1.2609318967135448, 'val_accuracy': 0.6627218934911243, 'precision': 0.6016164136080439, 'recall': 0.6627218934911243, 'f1-score': 0.6135490213163401, 'macro_f1-score': 0.21306630875715257, 'balanced_accuracy': 0.21995092819253695, 'mcc': 0.5425882254731653}\n",
      "\n",
      "Epoch 4/20\n"
     ]
    },
    {
     "name": "stderr",
     "output_type": "stream",
     "text": [
      "100%|██████████| 476/476 [03:41<00:00,  2.15it/s]\n"
     ]
    },
    {
     "name": "stdout",
     "output_type": "stream",
     "text": [
      "Train loss: 0.8736\n",
      "{'val_loss': 1.3023981558826734, 'val_accuracy': 0.6378698224852071, 'precision': 0.6557519133529287, 'recall': 0.6378698224852071, 'f1-score': 0.6332641253655124, 'macro_f1-score': 0.28518137844776087, 'balanced_accuracy': 0.3260652496347852, 'mcc': 0.5365356024318283}\n",
      "\n",
      "Epoch 5/20\n"
     ]
    },
    {
     "name": "stderr",
     "output_type": "stream",
     "text": [
      "100%|██████████| 476/476 [03:41<00:00,  2.15it/s]\n"
     ]
    },
    {
     "name": "stdout",
     "output_type": "stream",
     "text": [
      "Train loss: 0.6896\n",
      "{'val_loss': 1.2400154105897219, 'val_accuracy': 0.6875739644970414, 'precision': 0.6473287638507323, 'recall': 0.6875739644970414, 'f1-score': 0.6528488611902351, 'macro_f1-score': 0.3057564024023297, 'balanced_accuracy': 0.314680923422897, 'mcc': 0.5808481908523166}\n",
      "\n",
      "Epoch 6/20\n"
     ]
    },
    {
     "name": "stderr",
     "output_type": "stream",
     "text": [
      "100%|██████████| 476/476 [03:42<00:00,  2.14it/s]\n"
     ]
    },
    {
     "name": "stdout",
     "output_type": "stream",
     "text": [
      "Train loss: 0.5606\n",
      "{'val_loss': 1.3164436215499662, 'val_accuracy': 0.6686390532544378, 'precision': 0.6858632737497783, 'recall': 0.6686390532544378, 'f1-score': 0.6620949483673366, 'macro_f1-score': 0.34766281759623247, 'balanced_accuracy': 0.3563384785681165, 'mcc': 0.5665876113300962}\n",
      "\n",
      "Epoch 7/20\n"
     ]
    },
    {
     "name": "stderr",
     "output_type": "stream",
     "text": [
      "100%|██████████| 476/476 [03:41<00:00,  2.15it/s]\n"
     ]
    },
    {
     "name": "stdout",
     "output_type": "stream",
     "text": [
      "Train loss: 0.4695\n",
      "{'val_loss': 1.3020060635962576, 'val_accuracy': 0.6911242603550296, 'precision': 0.6683242646802349, 'recall': 0.6911242603550296, 'f1-score': 0.6677431074405193, 'macro_f1-score': 0.3255022062459249, 'balanced_accuracy': 0.3272373396216369, 'mcc': 0.5916550726084647}\n",
      "\n",
      "Epoch 8/20\n"
     ]
    },
    {
     "name": "stderr",
     "output_type": "stream",
     "text": [
      "100%|██████████| 476/476 [03:41<00:00,  2.15it/s]\n"
     ]
    },
    {
     "name": "stdout",
     "output_type": "stream",
     "text": [
      "Train loss: 0.3923\n",
      "{'val_loss': 1.409881997783229, 'val_accuracy': 0.6816568047337278, 'precision': 0.6550443766246417, 'recall': 0.6816568047337278, 'f1-score': 0.6543605522118006, 'macro_f1-score': 0.29068975343888404, 'balanced_accuracy': 0.295313193733498, 'mcc': 0.5749330639448081}\n",
      "\n",
      "Epoch 9/20\n"
     ]
    },
    {
     "name": "stderr",
     "output_type": "stream",
     "text": [
      "100%|██████████| 476/476 [03:40<00:00,  2.16it/s]\n"
     ]
    },
    {
     "name": "stdout",
     "output_type": "stream",
     "text": [
      "Train loss: 0.3553\n",
      "{'val_loss': 1.3843892177320876, 'val_accuracy': 0.676923076923077, 'precision': 0.6854337436673158, 'recall': 0.676923076923077, 'f1-score': 0.6696492841478762, 'macro_f1-score': 0.3794856740368406, 'balanced_accuracy': 0.40810633889743086, 'mcc': 0.5824882676175839}\n",
      "\n",
      "Epoch 10/20\n"
     ]
    },
    {
     "name": "stderr",
     "output_type": "stream",
     "text": [
      "100%|██████████| 476/476 [03:41<00:00,  2.15it/s]\n"
     ]
    },
    {
     "name": "stdout",
     "output_type": "stream",
     "text": [
      "Train loss: 0.3066\n",
      "{'val_loss': 1.5149296859525285, 'val_accuracy': 0.6875739644970414, 'precision': 0.6861880643021623, 'recall': 0.6875739644970414, 'f1-score': 0.6647472101098084, 'macro_f1-score': 0.4040144463942823, 'balanced_accuracy': 0.41701894482803376, 'mcc': 0.5842084095689887}\n",
      "\n",
      "Epoch 11/20\n"
     ]
    },
    {
     "name": "stderr",
     "output_type": "stream",
     "text": [
      "100%|██████████| 476/476 [03:39<00:00,  2.17it/s]\n"
     ]
    },
    {
     "name": "stdout",
     "output_type": "stream",
     "text": [
      "Train loss: 0.2900\n",
      "{'val_loss': 1.4627307018019118, 'val_accuracy': 0.6532544378698225, 'precision': 0.7160401999877714, 'recall': 0.6532544378698225, 'f1-score': 0.6615538700080548, 'macro_f1-score': 0.37954983159748323, 'balanced_accuracy': 0.4000091812420932, 'mcc': 0.5635184228559211}\n",
      "\n",
      "Epoch 12/20\n"
     ]
    },
    {
     "name": "stderr",
     "output_type": "stream",
     "text": [
      "100%|██████████| 476/476 [03:41<00:00,  2.15it/s]\n"
     ]
    },
    {
     "name": "stdout",
     "output_type": "stream",
     "text": [
      "Train loss: 0.2754\n",
      "{'val_loss': 1.5745395568181884, 'val_accuracy': 0.6899408284023668, 'precision': 0.6639608094896557, 'recall': 0.6899408284023668, 'f1-score': 0.6633768412023173, 'macro_f1-score': 0.3664591546316908, 'balanced_accuracy': 0.3670589647018069, 'mcc': 0.5811153175524832}\n",
      "\n",
      "Epoch 13/20\n"
     ]
    },
    {
     "name": "stderr",
     "output_type": "stream",
     "text": [
      "100%|██████████| 476/476 [03:43<00:00,  2.13it/s]\n"
     ]
    },
    {
     "name": "stdout",
     "output_type": "stream",
     "text": [
      "Train loss: 0.2825\n",
      "{'val_loss': 1.459342453839644, 'val_accuracy': 0.6745562130177515, 'precision': 0.6715751485467102, 'recall': 0.6745562130177515, 'f1-score': 0.664531064006474, 'macro_f1-score': 0.34772221134726417, 'balanced_accuracy': 0.36298414737676343, 'mcc': 0.5769808952478055}\n",
      "Early stopping triggered at epoch 13\n",
      "\n",
      "===== Fold 7 =====\n",
      "Train label dist: {0: 3577, 1: 28, 2: 126, 3: 27, 4: 232, 5: 130, 6: 106, 7: 35, 8: 77, 9: 73, 10: 79, 11: 193, 12: 217, 13: 33, 14: 26, 15: 28, 16: 22, 17: 260, 18: 105, 19: 50, 20: 16, 21: 40, 22: 87, 23: 180, 24: 18, 25: 57, 26: 96, 27: 55, 28: 14, 29: 14, 30: 17, 31: 90, 32: 41, 33: 36, 34: 33, 35: 14, 36: 31, 37: 25, 38: 6, 39: 116, 40: 12, 41: 10, 42: 165, 43: 18, 44: 23, 45: 10, 46: 62, 47: 594, 48: 227, 49: 78}\n",
      "Val label dist: {0: 397, 1: 3, 2: 14, 3: 3, 4: 25, 5: 15, 6: 12, 7: 4, 8: 8, 9: 8, 10: 9, 11: 22, 12: 24, 13: 3, 14: 3, 15: 3, 16: 3, 17: 29, 18: 11, 19: 6, 20: 2, 21: 4, 22: 10, 23: 20, 24: 2, 25: 6, 26: 11, 27: 6, 28: 1, 29: 2, 30: 2, 31: 10, 32: 4, 33: 4, 34: 4, 35: 1, 36: 4, 37: 2, 38: 1, 39: 13, 40: 2, 41: 1, 42: 19, 43: 2, 44: 2, 45: 1, 46: 6, 47: 67, 48: 25, 49: 9}\n",
      "\n",
      "Epoch 1/20\n"
     ]
    },
    {
     "name": "stderr",
     "output_type": "stream",
     "text": [
      "100%|██████████| 476/476 [03:42<00:00,  2.14it/s]\n"
     ]
    },
    {
     "name": "stdout",
     "output_type": "stream",
     "text": [
      "Train loss: 2.0270\n",
      "{'val_loss': 1.6656380790584493, 'val_accuracy': 0.58698224852071, 'precision': 0.42678839028448184, 'recall': 0.58698224852071, 'f1-score': 0.48361882569034087, 'macro_f1-score': 0.06438401089046714, 'balanced_accuracy': 0.08560273141949436, 'mcc': 0.4179829353935702}\n",
      "\n",
      "Epoch 2/20\n"
     ]
    },
    {
     "name": "stderr",
     "output_type": "stream",
     "text": [
      "100%|██████████| 476/476 [03:40<00:00,  2.16it/s]\n"
     ]
    },
    {
     "name": "stdout",
     "output_type": "stream",
     "text": [
      "Train loss: 1.4747\n",
      "{'val_loss': 1.4408129543628332, 'val_accuracy': 0.6236686390532544, 'precision': 0.48975599392389335, 'recall': 0.6236686390532544, 'f1-score': 0.5284342015247696, 'macro_f1-score': 0.153362950006423, 'balanced_accuracy': 0.15696290036584215, 'mcc': 0.4608002756323361}\n",
      "\n",
      "Epoch 3/20\n"
     ]
    },
    {
     "name": "stderr",
     "output_type": "stream",
     "text": [
      "100%|██████████| 476/476 [03:40<00:00,  2.15it/s]\n"
     ]
    },
    {
     "name": "stdout",
     "output_type": "stream",
     "text": [
      "Train loss: 1.1721\n",
      "{'val_loss': 1.3275076954994562, 'val_accuracy': 0.6153846153846154, 'precision': 0.598271295621889, 'recall': 0.6153846153846154, 'f1-score': 0.5761870012842433, 'macro_f1-score': 0.20374055606170888, 'balanced_accuracy': 0.21669727720355636, 'mcc': 0.4812659710141001}\n",
      "\n",
      "Epoch 4/20\n"
     ]
    },
    {
     "name": "stderr",
     "output_type": "stream",
     "text": [
      "100%|██████████| 476/476 [03:42<00:00,  2.14it/s]\n"
     ]
    },
    {
     "name": "stdout",
     "output_type": "stream",
     "text": [
      "Train loss: 0.9509\n",
      "{'val_loss': 1.3272609204616186, 'val_accuracy': 0.6272189349112426, 'precision': 0.6318498858811616, 'recall': 0.6272189349112426, 'f1-score': 0.6120510334377359, 'macro_f1-score': 0.28051033019269056, 'balanced_accuracy': 0.29184505722293763, 'mcc': 0.5108209558508073}\n",
      "\n",
      "Epoch 5/20\n"
     ]
    },
    {
     "name": "stderr",
     "output_type": "stream",
     "text": [
      "100%|██████████| 476/476 [03:42<00:00,  2.14it/s]\n"
     ]
    },
    {
     "name": "stdout",
     "output_type": "stream",
     "text": [
      "Train loss: 0.7476\n",
      "{'val_loss': 1.2557485008014824, 'val_accuracy': 0.6544378698224852, 'precision': 0.6612009517180094, 'recall': 0.6544378698224852, 'f1-score': 0.6418523977145105, 'macro_f1-score': 0.32911391347843827, 'balanced_accuracy': 0.3561045787715093, 'mcc': 0.5443608113434384}\n",
      "\n",
      "Epoch 6/20\n"
     ]
    },
    {
     "name": "stderr",
     "output_type": "stream",
     "text": [
      "100%|██████████| 476/476 [03:40<00:00,  2.15it/s]\n"
     ]
    },
    {
     "name": "stdout",
     "output_type": "stream",
     "text": [
      "Train loss: 0.6066\n",
      "{'val_loss': 1.3060231439347536, 'val_accuracy': 0.6733727810650888, 'precision': 0.6629121286801064, 'recall': 0.6733727810650888, 'f1-score': 0.6495428767274687, 'macro_f1-score': 0.33637433434147535, 'balanced_accuracy': 0.34412730495694016, 'mcc': 0.5689567012124415}\n",
      "\n",
      "Epoch 7/20\n"
     ]
    },
    {
     "name": "stderr",
     "output_type": "stream",
     "text": [
      "100%|██████████| 476/476 [03:42<00:00,  2.14it/s]\n"
     ]
    },
    {
     "name": "stdout",
     "output_type": "stream",
     "text": [
      "Train loss: 0.4869\n",
      "{'val_loss': 1.3385764540366407, 'val_accuracy': 0.6579881656804734, 'precision': 0.6815756365132706, 'recall': 0.6579881656804734, 'f1-score': 0.6545921674568219, 'macro_f1-score': 0.39970941116024505, 'balanced_accuracy': 0.40496830813703283, 'mcc': 0.5560366514784717}\n",
      "\n",
      "Epoch 8/20\n"
     ]
    },
    {
     "name": "stderr",
     "output_type": "stream",
     "text": [
      "100%|██████████| 476/476 [03:42<00:00,  2.14it/s]\n"
     ]
    },
    {
     "name": "stdout",
     "output_type": "stream",
     "text": [
      "Train loss: 0.4182\n",
      "{'val_loss': 1.3591920303286247, 'val_accuracy': 0.6745562130177515, 'precision': 0.6800120591111336, 'recall': 0.6745562130177515, 'f1-score': 0.6692088358891775, 'macro_f1-score': 0.42549575054879596, 'balanced_accuracy': 0.4251927127801994, 'mcc': 0.5753294702235818}\n",
      "\n",
      "Epoch 9/20\n"
     ]
    },
    {
     "name": "stderr",
     "output_type": "stream",
     "text": [
      "100%|██████████| 476/476 [03:41<00:00,  2.15it/s]\n"
     ]
    },
    {
     "name": "stdout",
     "output_type": "stream",
     "text": [
      "Train loss: 0.3550\n",
      "{'val_loss': 1.4738840944362137, 'val_accuracy': 0.6745562130177515, 'precision': 0.6693892865513767, 'recall': 0.6745562130177515, 'f1-score': 0.6601815222379621, 'macro_f1-score': 0.40506587260729693, 'balanced_accuracy': 0.4167705184657838, 'mcc': 0.5759444586277517}\n",
      "\n",
      "Epoch 10/20\n"
     ]
    },
    {
     "name": "stderr",
     "output_type": "stream",
     "text": [
      "100%|██████████| 476/476 [03:40<00:00,  2.16it/s]\n"
     ]
    },
    {
     "name": "stdout",
     "output_type": "stream",
     "text": [
      "Train loss: 0.3174\n",
      "{'val_loss': 1.523175116136389, 'val_accuracy': 0.6532544378698225, 'precision': 0.6703483228955345, 'recall': 0.6532544378698225, 'f1-score': 0.6457257007077096, 'macro_f1-score': 0.3695706477977398, 'balanced_accuracy': 0.38071433316038983, 'mcc': 0.5446543857180332}\n",
      "\n",
      "Epoch 11/20\n"
     ]
    },
    {
     "name": "stderr",
     "output_type": "stream",
     "text": [
      "100%|██████████| 476/476 [03:41<00:00,  2.15it/s]\n"
     ]
    },
    {
     "name": "stdout",
     "output_type": "stream",
     "text": [
      "Train loss: 0.2961\n",
      "{'val_loss': 1.5553378069175865, 'val_accuracy': 0.6804733727810651, 'precision': 0.6751612227530039, 'recall': 0.6804733727810651, 'f1-score': 0.6687708782360248, 'macro_f1-score': 0.3934541908067644, 'balanced_accuracy': 0.3989587046516504, 'mcc': 0.5816160981197827}\n",
      "Early stopping triggered at epoch 11\n",
      "\n",
      "===== Fold 8 =====\n",
      "Train label dist: {0: 3577, 1: 28, 2: 126, 3: 27, 4: 232, 5: 130, 6: 106, 7: 35, 8: 77, 9: 73, 10: 79, 11: 194, 12: 216, 13: 33, 14: 26, 15: 28, 16: 22, 17: 260, 18: 105, 19: 50, 20: 16, 21: 40, 22: 87, 23: 180, 24: 18, 25: 57, 26: 96, 27: 55, 28: 13, 29: 14, 30: 18, 31: 90, 32: 40, 33: 36, 34: 33, 35: 14, 36: 31, 37: 25, 38: 6, 39: 116, 40: 12, 41: 10, 42: 165, 43: 18, 44: 23, 45: 10, 46: 62, 47: 595, 48: 226, 49: 79}\n",
      "Val label dist: {0: 397, 1: 3, 2: 14, 3: 3, 4: 25, 5: 15, 6: 12, 7: 4, 8: 8, 9: 8, 10: 9, 11: 21, 12: 25, 13: 3, 14: 3, 15: 3, 16: 3, 17: 29, 18: 11, 19: 6, 20: 2, 21: 4, 22: 10, 23: 20, 24: 2, 25: 6, 26: 11, 27: 6, 28: 2, 29: 2, 30: 1, 31: 10, 32: 5, 33: 4, 34: 4, 35: 1, 36: 4, 37: 2, 38: 1, 39: 13, 40: 2, 41: 1, 42: 19, 43: 2, 44: 2, 45: 1, 46: 6, 47: 66, 48: 26, 49: 8}\n",
      "\n",
      "Epoch 1/20\n"
     ]
    },
    {
     "name": "stderr",
     "output_type": "stream",
     "text": [
      "100%|██████████| 476/476 [03:41<00:00,  2.15it/s]\n"
     ]
    },
    {
     "name": "stdout",
     "output_type": "stream",
     "text": [
      "Train loss: 2.0285\n",
      "{'val_loss': 1.738016684100313, 'val_accuracy': 0.5928994082840237, 'precision': 0.3745702878152467, 'recall': 0.5928994082840237, 'f1-score': 0.4584895890032795, 'macro_f1-score': 0.05643969129584216, 'balanced_accuracy': 0.07325743494179175, 'mcc': 0.40463084557994716}\n",
      "\n",
      "Epoch 2/20\n"
     ]
    },
    {
     "name": "stderr",
     "output_type": "stream",
     "text": [
      "100%|██████████| 476/476 [03:42<00:00,  2.14it/s]\n"
     ]
    },
    {
     "name": "stdout",
     "output_type": "stream",
     "text": [
      "Train loss: 1.5994\n",
      "{'val_loss': 1.457328050766351, 'val_accuracy': 0.621301775147929, 'precision': 0.4868413224695935, 'recall': 0.621301775147929, 'f1-score': 0.5281039872815354, 'macro_f1-score': 0.11007309807137534, 'balanced_accuracy': 0.12257749606410663, 'mcc': 0.46539344317822917}\n",
      "\n",
      "Epoch 3/20\n"
     ]
    },
    {
     "name": "stderr",
     "output_type": "stream",
     "text": [
      "100%|██████████| 476/476 [03:42<00:00,  2.14it/s]\n"
     ]
    },
    {
     "name": "stdout",
     "output_type": "stream",
     "text": [
      "Train loss: 1.3167\n",
      "{'val_loss': 1.3147751070418447, 'val_accuracy': 0.6627218934911243, 'precision': 0.5641626403370266, 'recall': 0.6627218934911243, 'f1-score': 0.6009263108562276, 'macro_f1-score': 0.1969370094385328, 'balanced_accuracy': 0.20942523015848685, 'mcc': 0.539220613338313}\n",
      "\n",
      "Epoch 4/20\n"
     ]
    },
    {
     "name": "stderr",
     "output_type": "stream",
     "text": [
      "100%|██████████| 476/476 [03:41<00:00,  2.15it/s]\n"
     ]
    },
    {
     "name": "stdout",
     "output_type": "stream",
     "text": [
      "Train loss: 1.0837\n",
      "{'val_loss': 1.2833552855365682, 'val_accuracy': 0.6437869822485207, 'precision': 0.6102248660064744, 'recall': 0.6437869822485207, 'f1-score': 0.6118025245301075, 'macro_f1-score': 0.2453049279228764, 'balanced_accuracy': 0.2577653718215774, 'mcc': 0.527384440916291}\n",
      "\n",
      "Epoch 5/20\n"
     ]
    },
    {
     "name": "stderr",
     "output_type": "stream",
     "text": [
      "100%|██████████| 476/476 [03:41<00:00,  2.15it/s]\n"
     ]
    },
    {
     "name": "stdout",
     "output_type": "stream",
     "text": [
      "Train loss: 0.8969\n",
      "{'val_loss': 1.298380121307553, 'val_accuracy': 0.6733727810650888, 'precision': 0.6403891964287776, 'recall': 0.6733727810650888, 'f1-score': 0.650747133971522, 'macro_f1-score': 0.29069034971919394, 'balanced_accuracy': 0.3064227290841978, 'mcc': 0.5671569868276758}\n",
      "\n",
      "Epoch 6/20\n"
     ]
    },
    {
     "name": "stderr",
     "output_type": "stream",
     "text": [
      "100%|██████████| 476/476 [03:41<00:00,  2.15it/s]\n"
     ]
    },
    {
     "name": "stdout",
     "output_type": "stream",
     "text": [
      "Train loss: 0.7167\n",
      "{'val_loss': 1.3365051751991488, 'val_accuracy': 0.6615384615384615, 'precision': 0.6621099257494414, 'recall': 0.6615384615384615, 'f1-score': 0.6405188413530762, 'macro_f1-score': 0.3000331280141646, 'balanced_accuracy': 0.29651882991797596, 'mcc': 0.5538843877504513}\n",
      "\n",
      "Epoch 7/20\n"
     ]
    },
    {
     "name": "stderr",
     "output_type": "stream",
     "text": [
      "100%|██████████| 476/476 [03:41<00:00,  2.15it/s]\n"
     ]
    },
    {
     "name": "stdout",
     "output_type": "stream",
     "text": [
      "Train loss: 0.5953\n",
      "{'val_loss': 1.411038022558644, 'val_accuracy': 0.663905325443787, 'precision': 0.639562019349138, 'recall': 0.663905325443787, 'f1-score': 0.6334806258286453, 'macro_f1-score': 0.29059381488593156, 'balanced_accuracy': 0.29063242713269366, 'mcc': 0.5479247591019735}\n",
      "\n",
      "Epoch 8/20\n"
     ]
    },
    {
     "name": "stderr",
     "output_type": "stream",
     "text": [
      "100%|██████████| 476/476 [03:41<00:00,  2.15it/s]\n"
     ]
    },
    {
     "name": "stdout",
     "output_type": "stream",
     "text": [
      "Train loss: 0.4970\n",
      "{'val_loss': 1.3743441239842829, 'val_accuracy': 0.6710059171597633, 'precision': 0.6715707351295962, 'recall': 0.6710059171597633, 'f1-score': 0.6600825498814703, 'macro_f1-score': 0.3544830119789614, 'balanced_accuracy': 0.3635318140099074, 'mcc': 0.5668167579003521}\n",
      "\n",
      "Epoch 9/20\n"
     ]
    },
    {
     "name": "stderr",
     "output_type": "stream",
     "text": [
      "100%|██████████| 476/476 [03:41<00:00,  2.15it/s]\n"
     ]
    },
    {
     "name": "stdout",
     "output_type": "stream",
     "text": [
      "Train loss: 0.4127\n",
      "{'val_loss': 1.4243965789956867, 'val_accuracy': 0.6792899408284023, 'precision': 0.6599015294779178, 'recall': 0.6792899408284023, 'f1-score': 0.6556040240942778, 'macro_f1-score': 0.3738448242878937, 'balanced_accuracy': 0.3667953726752421, 'mcc': 0.5715524010640446}\n",
      "\n",
      "Epoch 10/20\n"
     ]
    },
    {
     "name": "stderr",
     "output_type": "stream",
     "text": [
      "100%|██████████| 476/476 [03:41<00:00,  2.15it/s]\n"
     ]
    },
    {
     "name": "stdout",
     "output_type": "stream",
     "text": [
      "Train loss: 0.3933\n",
      "{'val_loss': 1.4008106746763553, 'val_accuracy': 0.6899408284023668, 'precision': 0.6926500370643648, 'recall': 0.6899408284023668, 'f1-score': 0.6777383197811324, 'macro_f1-score': 0.4088233324108534, 'balanced_accuracy': 0.41584581414796956, 'mcc': 0.5896153353556167}\n",
      "\n",
      "Epoch 11/20\n"
     ]
    },
    {
     "name": "stderr",
     "output_type": "stream",
     "text": [
      "100%|██████████| 476/476 [03:41<00:00,  2.15it/s]\n"
     ]
    },
    {
     "name": "stdout",
     "output_type": "stream",
     "text": [
      "Train loss: 0.3405\n",
      "{'val_loss': 1.4508463543541026, 'val_accuracy': 0.6733727810650888, 'precision': 0.649149510530457, 'recall': 0.6733727810650888, 'f1-score': 0.6518667918719983, 'macro_f1-score': 0.3510854390321818, 'balanced_accuracy': 0.3317818341460604, 'mcc': 0.5628267388875461}\n",
      "\n",
      "Epoch 12/20\n"
     ]
    },
    {
     "name": "stderr",
     "output_type": "stream",
     "text": [
      "100%|██████████| 476/476 [03:42<00:00,  2.14it/s]\n"
     ]
    },
    {
     "name": "stdout",
     "output_type": "stream",
     "text": [
      "Train loss: 0.3035\n",
      "{'val_loss': 1.4812286085677597, 'val_accuracy': 0.6840236686390533, 'precision': 0.6827920745407245, 'recall': 0.6840236686390533, 'f1-score': 0.6708188593679011, 'macro_f1-score': 0.39264294332986416, 'balanced_accuracy': 0.3946802040749222, 'mcc': 0.5825220954269866}\n",
      "\n",
      "Epoch 13/20\n"
     ]
    },
    {
     "name": "stderr",
     "output_type": "stream",
     "text": [
      "100%|██████████| 476/476 [03:41<00:00,  2.15it/s]\n"
     ]
    },
    {
     "name": "stdout",
     "output_type": "stream",
     "text": [
      "Train loss: 0.2998\n",
      "{'val_loss': 1.4888819557315898, 'val_accuracy': 0.672189349112426, 'precision': 0.6805867980623971, 'recall': 0.672189349112426, 'f1-score': 0.6635486788477187, 'macro_f1-score': 0.40451946552081464, 'balanced_accuracy': 0.4092966590854251, 'mcc': 0.5698840675031455}\n",
      "Early stopping triggered at epoch 13\n",
      "\n",
      "===== Fold 9 =====\n",
      "Train label dist: {0: 3577, 1: 28, 2: 126, 3: 27, 4: 232, 5: 130, 6: 106, 7: 36, 8: 76, 9: 73, 10: 79, 11: 194, 12: 217, 13: 32, 14: 26, 15: 28, 16: 22, 17: 261, 18: 104, 19: 50, 20: 17, 21: 39, 22: 87, 23: 180, 24: 18, 25: 57, 26: 96, 27: 55, 28: 13, 29: 15, 30: 17, 31: 90, 32: 40, 33: 36, 34: 33, 35: 14, 36: 31, 37: 25, 38: 7, 39: 116, 40: 12, 41: 10, 42: 166, 43: 18, 44: 22, 45: 10, 46: 61, 47: 595, 48: 226, 49: 79}\n",
      "Val label dist: {0: 397, 1: 3, 2: 14, 3: 3, 4: 25, 5: 15, 6: 12, 7: 3, 8: 9, 9: 8, 10: 9, 11: 21, 12: 24, 13: 4, 14: 3, 15: 3, 16: 3, 17: 28, 18: 12, 19: 6, 20: 1, 21: 5, 22: 10, 23: 20, 24: 2, 25: 6, 26: 11, 27: 6, 28: 2, 29: 1, 30: 2, 31: 10, 32: 5, 33: 4, 34: 4, 35: 1, 36: 4, 37: 2, 39: 13, 40: 2, 41: 1, 42: 18, 43: 2, 44: 3, 45: 1, 46: 7, 47: 66, 48: 26, 49: 8}\n",
      "\n",
      "Epoch 1/20\n"
     ]
    },
    {
     "name": "stderr",
     "output_type": "stream",
     "text": [
      "100%|██████████| 476/476 [03:41<00:00,  2.15it/s]\n"
     ]
    },
    {
     "name": "stdout",
     "output_type": "stream",
     "text": [
      "Train loss: 2.0279\n",
      "{'val_loss': 1.6943297194984723, 'val_accuracy': 0.5893491124260355, 'precision': 0.3834372648591338, 'recall': 0.5893491124260355, 'f1-score': 0.45510829741776854, 'macro_f1-score': 0.06319237134210695, 'balanced_accuracy': 0.07794847743801632, 'mcc': 0.39736913332237866}\n",
      "\n",
      "Epoch 2/20\n"
     ]
    },
    {
     "name": "stderr",
     "output_type": "stream",
     "text": [
      "100%|██████████| 476/476 [03:42<00:00,  2.14it/s]\n"
     ]
    },
    {
     "name": "stdout",
     "output_type": "stream",
     "text": [
      "Train loss: 1.5053\n",
      "{'val_loss': 1.431107927043483, 'val_accuracy': 0.6272189349112426, 'precision': 0.502881222899671, 'recall': 0.6272189349112426, 'f1-score': 0.5401114662174038, 'macro_f1-score': 0.15576438251538655, 'balanced_accuracy': 0.16953012956302937, 'mcc': 0.4762659477417891}\n",
      "\n",
      "Epoch 3/20\n"
     ]
    },
    {
     "name": "stderr",
     "output_type": "stream",
     "text": [
      "100%|██████████| 476/476 [03:41<00:00,  2.15it/s]\n"
     ]
    },
    {
     "name": "stdout",
     "output_type": "stream",
     "text": [
      "Train loss: 1.1856\n",
      "{'val_loss': 1.3087350158196576, 'val_accuracy': 0.6698224852071006, 'precision': 0.6185165557650765, 'recall': 0.6698224852071006, 'f1-score': 0.6233093956787411, 'macro_f1-score': 0.23857053324081057, 'balanced_accuracy': 0.2424758537669143, 'mcc': 0.5522346343308687}\n",
      "\n",
      "Epoch 4/20\n"
     ]
    },
    {
     "name": "stderr",
     "output_type": "stream",
     "text": [
      "100%|██████████| 476/476 [03:41<00:00,  2.15it/s]\n"
     ]
    },
    {
     "name": "stdout",
     "output_type": "stream",
     "text": [
      "Train loss: 0.9575\n",
      "{'val_loss': 1.2404270397042327, 'val_accuracy': 0.6733727810650888, 'precision': 0.621232960072247, 'recall': 0.6733727810650888, 'f1-score': 0.6304376029121839, 'macro_f1-score': 0.26906938486305326, 'balanced_accuracy': 0.2744485731544283, 'mcc': 0.5577373631247264}\n",
      "\n",
      "Epoch 5/20\n"
     ]
    },
    {
     "name": "stderr",
     "output_type": "stream",
     "text": [
      "100%|██████████| 476/476 [03:42<00:00,  2.14it/s]\n"
     ]
    },
    {
     "name": "stdout",
     "output_type": "stream",
     "text": [
      "Train loss: 0.7693\n",
      "{'val_loss': 1.2421326558544952, 'val_accuracy': 0.6875739644970414, 'precision': 0.6682726260860616, 'recall': 0.6875739644970414, 'f1-score': 0.6612766627670887, 'macro_f1-score': 0.3446471024102452, 'balanced_accuracy': 0.3501177251668179, 'mcc': 0.5838461161436349}\n",
      "\n",
      "Epoch 6/20\n"
     ]
    },
    {
     "name": "stderr",
     "output_type": "stream",
     "text": [
      "100%|██████████| 476/476 [03:41<00:00,  2.15it/s]\n"
     ]
    },
    {
     "name": "stdout",
     "output_type": "stream",
     "text": [
      "Train loss: 0.6121\n",
      "{'val_loss': 1.2712703735198614, 'val_accuracy': 0.6970414201183432, 'precision': 0.6597927918044512, 'recall': 0.6970414201183432, 'f1-score': 0.6671016235031504, 'macro_f1-score': 0.3482155787803621, 'balanced_accuracy': 0.33434493441124813, 'mcc': 0.5915806342107127}\n",
      "\n",
      "Epoch 7/20\n"
     ]
    },
    {
     "name": "stderr",
     "output_type": "stream",
     "text": [
      "100%|██████████| 476/476 [03:41<00:00,  2.15it/s]\n"
     ]
    },
    {
     "name": "stdout",
     "output_type": "stream",
     "text": [
      "Train loss: 0.5112\n",
      "{'val_loss': 1.2792358066675797, 'val_accuracy': 0.6982248520710059, 'precision': 0.6837168981099451, 'recall': 0.6982248520710059, 'f1-score': 0.6790153723033608, 'macro_f1-score': 0.39041197871891875, 'balanced_accuracy': 0.3775477223588055, 'mcc': 0.5962479912104108}\n",
      "\n",
      "Epoch 8/20\n"
     ]
    },
    {
     "name": "stderr",
     "output_type": "stream",
     "text": [
      "100%|██████████| 476/476 [03:40<00:00,  2.16it/s]\n"
     ]
    },
    {
     "name": "stdout",
     "output_type": "stream",
     "text": [
      "Train loss: 0.4324\n",
      "{'val_loss': 1.3032900544832338, 'val_accuracy': 0.6923076923076923, 'precision': 0.6852785665030726, 'recall': 0.6923076923076923, 'f1-score': 0.6703303123386887, 'macro_f1-score': 0.36087454990617734, 'balanced_accuracy': 0.35120750317840743, 'mcc': 0.5917982651818974}\n",
      "\n",
      "Epoch 9/20\n"
     ]
    },
    {
     "name": "stderr",
     "output_type": "stream",
     "text": [
      "100%|██████████| 476/476 [03:40<00:00,  2.16it/s]\n"
     ]
    },
    {
     "name": "stdout",
     "output_type": "stream",
     "text": [
      "Train loss: 0.3699\n",
      "{'val_loss': 1.3877894501641113, 'val_accuracy': 0.6899408284023668, 'precision': 0.6817089621769059, 'recall': 0.6899408284023668, 'f1-score': 0.677237651544291, 'macro_f1-score': 0.3392425147050382, 'balanced_accuracy': 0.3343564891673153, 'mcc': 0.5894905403850563}\n",
      "\n",
      "Epoch 10/20\n"
     ]
    },
    {
     "name": "stderr",
     "output_type": "stream",
     "text": [
      "100%|██████████| 476/476 [03:40<00:00,  2.16it/s]\n"
     ]
    },
    {
     "name": "stdout",
     "output_type": "stream",
     "text": [
      "Train loss: 0.3227\n"
     ]
    },
    {
     "name": "stderr",
     "output_type": "stream",
     "text": [
      "D:\\Anaconda3\\envs\\cuda\\Lib\\site-packages\\sklearn\\metrics\\_classification.py:2458: UserWarning: y_pred contains classes not in y_true\n",
      "  warnings.warn(\"y_pred contains classes not in y_true\")\n"
     ]
    },
    {
     "name": "stdout",
     "output_type": "stream",
     "text": [
      "{'val_loss': 1.3665916363023363, 'val_accuracy': 0.6970414201183432, 'precision': 0.6874857516019797, 'recall': 0.6970414201183432, 'f1-score': 0.6795186166315634, 'macro_f1-score': 0.3819713397567326, 'balanced_accuracy': 0.37471429294387193, 'mcc': 0.5959209340180103}\n",
      "Early stopping triggered at epoch 10\n",
      "\n",
      "===== Fold 10 =====\n",
      "Train label dist: {0: 3577, 1: 28, 2: 126, 3: 27, 4: 231, 5: 130, 6: 107, 7: 35, 8: 76, 9: 73, 10: 79, 11: 194, 12: 217, 13: 32, 14: 26, 15: 28, 16: 23, 17: 260, 18: 104, 19: 50, 20: 17, 21: 39, 22: 88, 23: 180, 24: 18, 25: 56, 26: 97, 27: 54, 28: 13, 29: 15, 30: 17, 31: 90, 32: 40, 33: 36, 34: 34, 35: 13, 36: 32, 37: 24, 38: 7, 39: 116, 40: 12, 41: 10, 42: 166, 43: 18, 44: 22, 45: 10, 46: 61, 47: 595, 48: 227, 49: 79}\n",
      "Val label dist: {0: 397, 1: 3, 2: 14, 3: 3, 4: 26, 5: 15, 6: 11, 7: 4, 8: 9, 9: 8, 10: 9, 11: 21, 12: 24, 13: 4, 14: 3, 15: 3, 16: 2, 17: 29, 18: 12, 19: 6, 20: 1, 21: 5, 22: 9, 23: 20, 24: 2, 25: 7, 26: 10, 27: 7, 28: 2, 29: 1, 30: 2, 31: 10, 32: 5, 33: 4, 34: 3, 35: 2, 36: 3, 37: 3, 39: 13, 40: 2, 41: 1, 42: 18, 43: 2, 44: 3, 45: 1, 46: 7, 47: 66, 48: 25, 49: 8}\n",
      "\n",
      "Epoch 1/20\n"
     ]
    },
    {
     "name": "stderr",
     "output_type": "stream",
     "text": [
      "100%|██████████| 476/476 [03:40<00:00,  2.16it/s]\n"
     ]
    },
    {
     "name": "stdout",
     "output_type": "stream",
     "text": [
      "Train loss: 1.9289\n",
      "{'val_loss': 1.5937509514250845, 'val_accuracy': 0.6177514792899408, 'precision': 0.459622412831024, 'recall': 0.6177514792899408, 'f1-score': 0.5034946515545266, 'macro_f1-score': 0.10461881454259848, 'balanced_accuracy': 0.11427745844868813, 'mcc': 0.44961549881585}\n",
      "\n",
      "Epoch 2/20\n"
     ]
    },
    {
     "name": "stderr",
     "output_type": "stream",
     "text": [
      "100%|██████████| 476/476 [03:41<00:00,  2.15it/s]\n"
     ]
    },
    {
     "name": "stdout",
     "output_type": "stream",
     "text": [
      "Train loss: 1.3892\n",
      "{'val_loss': 1.3717118254247702, 'val_accuracy': 0.6378698224852071, 'precision': 0.5561386800042116, 'recall': 0.6378698224852071, 'f1-score': 0.5691725469331297, 'macro_f1-score': 0.16702594385496378, 'balanced_accuracy': 0.1711945825395661, 'mcc': 0.49809266434996446}\n",
      "\n",
      "Epoch 3/20\n"
     ]
    },
    {
     "name": "stderr",
     "output_type": "stream",
     "text": [
      "100%|██████████| 476/476 [03:41<00:00,  2.15it/s]\n"
     ]
    },
    {
     "name": "stdout",
     "output_type": "stream",
     "text": [
      "Train loss: 1.0849\n",
      "{'val_loss': 1.3166542784223016, 'val_accuracy': 0.676923076923077, 'precision': 0.6185151946335172, 'recall': 0.676923076923077, 'f1-score': 0.6224328866634424, 'macro_f1-score': 0.24820930123288643, 'balanced_accuracy': 0.2474225887845363, 'mcc': 0.5572602282374939}\n",
      "\n",
      "Epoch 4/20\n"
     ]
    },
    {
     "name": "stderr",
     "output_type": "stream",
     "text": [
      "100%|██████████| 476/476 [03:42<00:00,  2.14it/s]\n"
     ]
    },
    {
     "name": "stdout",
     "output_type": "stream",
     "text": [
      "Train loss: 0.8420\n",
      "{'val_loss': 1.2964844439389571, 'val_accuracy': 0.6911242603550296, 'precision': 0.6504591733552002, 'recall': 0.6911242603550296, 'f1-score': 0.6490547367768752, 'macro_f1-score': 0.2948554281640624, 'balanced_accuracy': 0.2820671153173187, 'mcc': 0.5778972500806759}\n",
      "\n",
      "Epoch 5/20\n"
     ]
    },
    {
     "name": "stderr",
     "output_type": "stream",
     "text": [
      "100%|██████████| 476/476 [03:41<00:00,  2.15it/s]\n"
     ]
    },
    {
     "name": "stdout",
     "output_type": "stream",
     "text": [
      "Train loss: 0.6863\n",
      "{'val_loss': 1.2675636320743922, 'val_accuracy': 0.6686390532544378, 'precision': 0.6835228081852361, 'recall': 0.6686390532544378, 'f1-score': 0.6611780340599426, 'macro_f1-score': 0.3213354167717705, 'balanced_accuracy': 0.33078528961378334, 'mcc': 0.5640245903871776}\n",
      "\n",
      "Epoch 6/20\n"
     ]
    },
    {
     "name": "stderr",
     "output_type": "stream",
     "text": [
      "100%|██████████| 476/476 [03:41<00:00,  2.15it/s]\n"
     ]
    },
    {
     "name": "stdout",
     "output_type": "stream",
     "text": [
      "Train loss: 0.5428\n",
      "{'val_loss': 1.3408710113111533, 'val_accuracy': 0.6946745562130178, 'precision': 0.6795418134978574, 'recall': 0.6946745562130178, 'f1-score': 0.674104452612884, 'macro_f1-score': 0.34448221129090656, 'balanced_accuracy': 0.33738288672272787, 'mcc': 0.5897661708558388}\n",
      "\n",
      "Epoch 7/20\n"
     ]
    },
    {
     "name": "stderr",
     "output_type": "stream",
     "text": [
      "100%|██████████| 476/476 [03:42<00:00,  2.14it/s]\n"
     ]
    },
    {
     "name": "stdout",
     "output_type": "stream",
     "text": [
      "Train loss: 0.4570\n",
      "{'val_loss': 1.3838141661769938, 'val_accuracy': 0.676923076923077, 'precision': 0.6996357265209187, 'recall': 0.676923076923077, 'f1-score': 0.6619256559019739, 'macro_f1-score': 0.35760372325073436, 'balanced_accuracy': 0.3562613659401142, 'mcc': 0.5752886380234956}\n",
      "\n",
      "Epoch 8/20\n"
     ]
    },
    {
     "name": "stderr",
     "output_type": "stream",
     "text": [
      "100%|██████████| 476/476 [03:41<00:00,  2.15it/s]\n"
     ]
    },
    {
     "name": "stdout",
     "output_type": "stream",
     "text": [
      "Train loss: 0.3982\n",
      "{'val_loss': 1.3814700656342056, 'val_accuracy': 0.6911242603550296, 'precision': 0.6887697246868845, 'recall': 0.6911242603550296, 'f1-score': 0.6668986090265215, 'macro_f1-score': 0.35904121339247314, 'balanced_accuracy': 0.36417212174245484, 'mcc': 0.5893944077538624}\n",
      "\n",
      "Epoch 9/20\n"
     ]
    },
    {
     "name": "stderr",
     "output_type": "stream",
     "text": [
      "100%|██████████| 476/476 [03:41<00:00,  2.15it/s]\n"
     ]
    },
    {
     "name": "stdout",
     "output_type": "stream",
     "text": [
      "Train loss: 0.3476\n",
      "{'val_loss': 1.4813487732185509, 'val_accuracy': 0.6698224852071006, 'precision': 0.6869403132138623, 'recall': 0.6698224852071006, 'f1-score': 0.6637099991202938, 'macro_f1-score': 0.40005014612575845, 'balanced_accuracy': 0.39764765894309784, 'mcc': 0.5668036751558934}\n",
      "\n",
      "Epoch 10/20\n"
     ]
    },
    {
     "name": "stderr",
     "output_type": "stream",
     "text": [
      "100%|██████████| 476/476 [03:41<00:00,  2.15it/s]\n"
     ]
    },
    {
     "name": "stdout",
     "output_type": "stream",
     "text": [
      "Train loss: 0.3196\n",
      "{'val_loss': 1.519981213335721, 'val_accuracy': 0.6745562130177515, 'precision': 0.6799296653704847, 'recall': 0.6745562130177515, 'f1-score': 0.6609975383738907, 'macro_f1-score': 0.3645292850656204, 'balanced_accuracy': 0.3752675368341687, 'mcc': 0.5715820764900578}\n",
      "\n",
      "Epoch 11/20\n"
     ]
    },
    {
     "name": "stderr",
     "output_type": "stream",
     "text": [
      "100%|██████████| 476/476 [03:42<00:00,  2.14it/s]\n"
     ]
    },
    {
     "name": "stdout",
     "output_type": "stream",
     "text": [
      "Train loss: 0.2753\n",
      "{'val_loss': 1.4837836752522666, 'val_accuracy': 0.6899408284023668, 'precision': 0.6938861841958534, 'recall': 0.6899408284023668, 'f1-score': 0.6805073422854085, 'macro_f1-score': 0.3978604738436631, 'balanced_accuracy': 0.4089442463940592, 'mcc': 0.5922691011682505}\n",
      "\n",
      "Epoch 12/20\n"
     ]
    },
    {
     "name": "stderr",
     "output_type": "stream",
     "text": [
      "100%|██████████| 476/476 [03:40<00:00,  2.15it/s]\n"
     ]
    },
    {
     "name": "stdout",
     "output_type": "stream",
     "text": [
      "Train loss: 0.2631\n",
      "{'val_loss': 1.5210226459323235, 'val_accuracy': 0.6887573964497041, 'precision': 0.7025391477038629, 'recall': 0.6887573964497041, 'f1-score': 0.68530158612158, 'macro_f1-score': 0.4296185867576702, 'balanced_accuracy': 0.4372408437202539, 'mcc': 0.5958530390076657}\n",
      "\n",
      "Epoch 13/20\n"
     ]
    },
    {
     "name": "stderr",
     "output_type": "stream",
     "text": [
      "100%|██████████| 476/476 [03:42<00:00,  2.14it/s]\n"
     ]
    },
    {
     "name": "stdout",
     "output_type": "stream",
     "text": [
      "Train loss: 0.2551\n",
      "{'val_loss': 1.5485405342758827, 'val_accuracy': 0.6923076923076923, 'precision': 0.6876544311066636, 'recall': 0.6923076923076923, 'f1-score': 0.6777917176337964, 'macro_f1-score': 0.4192376221789733, 'balanced_accuracy': 0.4196114263987316, 'mcc': 0.5897597719393901}\n",
      "\n",
      "Epoch 14/20\n"
     ]
    },
    {
     "name": "stderr",
     "output_type": "stream",
     "text": [
      "100%|██████████| 476/476 [03:41<00:00,  2.15it/s]\n"
     ]
    },
    {
     "name": "stdout",
     "output_type": "stream",
     "text": [
      "Train loss: 0.2644\n",
      "{'val_loss': 1.5385267458996683, 'val_accuracy': 0.6875739644970414, 'precision': 0.6730304870394905, 'recall': 0.6875739644970414, 'f1-score': 0.665714090705995, 'macro_f1-score': 0.39203407055543743, 'balanced_accuracy': 0.38007500825658475, 'mcc': 0.5811340755270054}\n",
      "\n",
      "Epoch 15/20\n"
     ]
    },
    {
     "name": "stderr",
     "output_type": "stream",
     "text": [
      "100%|██████████| 476/476 [03:41<00:00,  2.15it/s]\n"
     ]
    },
    {
     "name": "stdout",
     "output_type": "stream",
     "text": [
      "Train loss: 0.2326\n",
      "{'val_loss': 1.5931124895248774, 'val_accuracy': 0.6899408284023668, 'precision': 0.6924069401021135, 'recall': 0.6899408284023668, 'f1-score': 0.6747859353384421, 'macro_f1-score': 0.4092122525903444, 'balanced_accuracy': 0.4102009412074786, 'mcc': 0.5927433703761247}\n",
      "Early stopping triggered at epoch 15\n",
      "\n",
      "=== Final 10-fold Cross-Validation Results ===\n",
      "val_loss: 1.4539\n",
      "val_accuracy: 0.6639\n",
      "precision: 0.6358\n",
      "recall: 0.6639\n",
      "f1-score: 0.6327\n",
      "macro_f1-score: 0.3188\n",
      "balanced_accuracy: 0.3218\n",
      "mcc: 0.5483\n"
     ]
    }
   ],
   "source": [
    "from torch.utils.data import DataLoader\n",
    "import torch\n",
    "from torch.nn import CrossEntropyLoss\n",
    "from torch.optim import AdamW\n",
    "from tqdm import tqdm\n",
    "import numpy as np\n",
    "\n",
    "import time  # 加入這行來使用時間模組\n",
    "total_start_time = time.time()  # 記錄整體開始時間\n",
    "\n",
    "all_fold_results = []\n",
    "\n",
    "# 進行 10 折交叉驗證\n",
    "for fold, (train_idx, val_idx) in enumerate(skf.split(messages, labels)):\n",
    "    print(f\"\\n===== Fold {fold + 1} =====\")\n",
    "    train_messages = [messages[i] for i in train_idx]\n",
    "    train_labels = [labels[i] for i in train_idx]\n",
    "    val_messages = [messages[i] for i in val_idx]\n",
    "    val_labels = [labels[i] for i in val_idx]\n",
    "\n",
    "    print(\"Train label dist:\", {l: train_labels.count(l) for l in set(train_labels)})\n",
    "    print(\"Val label dist:\", {l: val_labels.count(l) for l in set(val_labels)})\n",
    "\n",
    "    train_dataset = CustomDataset(train_messages, train_labels, tokenizer, MAX_LENGTH)\n",
    "    val_dataset = CustomDataset(val_messages, val_labels, tokenizer, MAX_LENGTH)\n",
    "    train_dataloader = DataLoader(train_dataset, batch_size=BATCH_SIZE, shuffle=True)\n",
    "    val_dataloader = DataLoader(val_dataset, batch_size=BATCH_SIZE)\n",
    "\n",
    "    NUM_LABELS = len(set(train_labels) | set(val_labels))\n",
    "    model = BertWithLSTM(num_labels=NUM_LABELS).to(device)\n",
    "    optimizer = AdamW(model.parameters(), lr=5e-5, weight_decay=1e-2)\n",
    "    criterion = CrossEntropyLoss()\n",
    "\n",
    "    epoch_results = []\n",
    "    patience = 3\n",
    "    best_macro_f1 = 0\n",
    "    epochs_without_improvement = 0\n",
    "\n",
    "    for epoch in range(EPOCHS):\n",
    "        print(f\"\\nEpoch {epoch + 1}/{EPOCHS}\")\n",
    "        train_loss = train_epoch(model, train_dataloader, optimizer, criterion)\n",
    "        print(f\"Train loss: {train_loss:.4f}\")\n",
    "        metrics = eval_model(model, val_dataloader, criterion, num_labels=NUM_LABELS)\n",
    "        print(metrics)\n",
    "        epoch_results.append(metrics)\n",
    "\n",
    "        current_macro_f1 = metrics[\"macro_f1-score\"]\n",
    "        if current_macro_f1 > best_macro_f1:\n",
    "            best_macro_f1 = current_macro_f1\n",
    "            epochs_without_improvement = 0\n",
    "        else:\n",
    "            epochs_without_improvement += 1\n",
    "\n",
    "        if epochs_without_improvement >= patience:\n",
    "            print(f\"Early stopping triggered at epoch {epoch + 1}\")\n",
    "            break\n",
    "\n",
    "    avg_metrics = {k: np.mean([e[k] for e in epoch_results]) for k in epoch_results[0].keys()}\n",
    "    all_fold_results.append(avg_metrics)\n",
    "\n",
    "# ===== 6. 結果統整 =====\n",
    "final_metrics = {k: np.mean([f[k] for f in all_fold_results]) for k in all_fold_results[0].keys()}\n",
    "print(\"\\n=== Final 10-fold Cross-Validation Results ===\")\n",
    "for metric, value in final_metrics.items():\n",
    "    print(f\"{metric}: {value:.4f}\")\n",
    "\n",
    "total_end_time = time.time()\n",
    "print(f\"\\nTotal training time: {total_end_time - total_start_time:.2f} seconds\")"
   ]
  },
  {
   "cell_type": "code",
   "execution_count": null,
   "id": "4db7e5d9-9e6c-44d8-9328-ef91c112d313",
   "metadata": {},
   "outputs": [],
   "source": [
    "all_fold_results"
   ]
  },
  {
   "cell_type": "code",
   "execution_count": null,
   "id": "0b8a0f7e-a38a-4688-8daa-e68bd09850f1",
   "metadata": {},
   "outputs": [],
   "source": []
  }
 ],
 "metadata": {
  "kernelspec": {
   "display_name": "Python 3 (ipykernel)",
   "language": "python",
   "name": "python3"
  },
  "language_info": {
   "codemirror_mode": {
    "name": "ipython",
    "version": 3
   },
   "file_extension": ".py",
   "mimetype": "text/x-python",
   "name": "python",
   "nbconvert_exporter": "python",
   "pygments_lexer": "ipython3",
   "version": "3.11.9"
  }
 },
 "nbformat": 4,
 "nbformat_minor": 5
}
