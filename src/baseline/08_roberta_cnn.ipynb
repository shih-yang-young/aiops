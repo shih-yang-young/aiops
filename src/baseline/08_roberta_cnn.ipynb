{
 "cells": [
  {
   "cell_type": "code",
   "execution_count": 1,
   "id": "f22f4841-9a9d-4a63-b896-560594d666d8",
   "metadata": {},
   "outputs": [
    {
     "data": {
      "text/html": [
       "<div>\n",
       "<style scoped>\n",
       "    .dataframe tbody tr th:only-of-type {\n",
       "        vertical-align: middle;\n",
       "    }\n",
       "\n",
       "    .dataframe tbody tr th {\n",
       "        vertical-align: top;\n",
       "    }\n",
       "\n",
       "    .dataframe thead th {\n",
       "        text-align: right;\n",
       "    }\n",
       "</style>\n",
       "<table border=\"1\" class=\"dataframe\">\n",
       "  <thead>\n",
       "    <tr style=\"text-align: right;\">\n",
       "      <th></th>\n",
       "      <th>Inbound Message</th>\n",
       "      <th>Label</th>\n",
       "    </tr>\n",
       "  </thead>\n",
       "  <tbody>\n",
       "    <tr>\n",
       "      <th>0</th>\n",
       "      <td>login issue verified user details employee man...</td>\n",
       "      <td>0</td>\n",
       "    </tr>\n",
       "    <tr>\n",
       "      <th>1</th>\n",
       "      <td>outlook hello team meetings skype meetings etc...</td>\n",
       "      <td>0</td>\n",
       "    </tr>\n",
       "    <tr>\n",
       "      <th>2</th>\n",
       "      <td>cant log vpn cannot log vpn best</td>\n",
       "      <td>0</td>\n",
       "    </tr>\n",
       "    <tr>\n",
       "      <th>3</th>\n",
       "      <td>unable access tool page unable access tool page</td>\n",
       "      <td>0</td>\n",
       "    </tr>\n",
       "    <tr>\n",
       "      <th>4</th>\n",
       "      <td>skype error skype error</td>\n",
       "      <td>0</td>\n",
       "    </tr>\n",
       "    <tr>\n",
       "      <th>...</th>\n",
       "      <td>...</td>\n",
       "      <td>...</td>\n",
       "    </tr>\n",
       "    <tr>\n",
       "      <th>8449</th>\n",
       "      <td>emails coming mail good afternoon receiving em...</td>\n",
       "      <td>22</td>\n",
       "    </tr>\n",
       "    <tr>\n",
       "      <th>8450</th>\n",
       "      <td>telephony software issue telephony software issue</td>\n",
       "      <td>0</td>\n",
       "    </tr>\n",
       "    <tr>\n",
       "      <th>8451</th>\n",
       "      <td>vip windows password reset tifpdchb pedxruyf v...</td>\n",
       "      <td>0</td>\n",
       "    </tr>\n",
       "    <tr>\n",
       "      <th>8452</th>\n",
       "      <td>machine est funcionando unable access machine ...</td>\n",
       "      <td>44</td>\n",
       "    </tr>\n",
       "    <tr>\n",
       "      <th>8453</th>\n",
       "      <td>mehreren lassen sich verschiedene prgramdntyme...</td>\n",
       "      <td>49</td>\n",
       "    </tr>\n",
       "  </tbody>\n",
       "</table>\n",
       "<p>8454 rows × 2 columns</p>\n",
       "</div>"
      ],
      "text/plain": [
       "                                        Inbound Message  Label\n",
       "0     login issue verified user details employee man...      0\n",
       "1     outlook hello team meetings skype meetings etc...      0\n",
       "2                      cant log vpn cannot log vpn best      0\n",
       "3       unable access tool page unable access tool page      0\n",
       "4                               skype error skype error      0\n",
       "...                                                 ...    ...\n",
       "8449  emails coming mail good afternoon receiving em...     22\n",
       "8450  telephony software issue telephony software issue      0\n",
       "8451  vip windows password reset tifpdchb pedxruyf v...      0\n",
       "8452  machine est funcionando unable access machine ...     44\n",
       "8453  mehreren lassen sich verschiedene prgramdntyme...     49\n",
       "\n",
       "[8454 rows x 2 columns]"
      ]
     },
     "execution_count": 1,
     "metadata": {},
     "output_type": "execute_result"
    }
   ],
   "source": [
    "import pandas as pd\n",
    "data_path = \"../../data/open_source_8454_combine_short_description.csv\"\n",
    "df = pd.read_csv(data_path)\n",
    "# df_label_0 = df[df[\"Label\"] == 0]\n",
    "# df_label_0_to_drop = df_label_0.sample(n=3000, random_state=42)\n",
    "# df = df.drop(df_label_0_to_drop.index)\n",
    "df"
   ]
  },
  {
   "cell_type": "code",
   "execution_count": 2,
   "id": "bf737873-4f1c-4588-913d-8f06b2777b20",
   "metadata": {},
   "outputs": [],
   "source": [
    "import sys\n",
    "import os\n",
    "sys.path.append(os.path.abspath('../ml_lib'))\n",
    "\n",
    "from config import *\n",
    "from experiment import run_kfold_experiment"
   ]
  },
  {
   "cell_type": "code",
   "execution_count": 3,
   "id": "a12b2613-aa9d-41c0-8f62-72210eaf8d7f",
   "metadata": {},
   "outputs": [],
   "source": [
    "messages, labels = df['Inbound Message'].tolist(), df['Label'].tolist()"
   ]
  },
  {
   "cell_type": "code",
   "execution_count": 4,
   "id": "38d4729f-f867-4cea-89f9-31f67e5ecced",
   "metadata": {},
   "outputs": [
    {
     "name": "stdout",
     "output_type": "stream",
     "text": [
      "▶ Running: roberta-base + cnn + none\n",
      "tokenizer is roberta-base\n",
      "Using device: cuda\n",
      "CUDA Available: True\n",
      "CUDA Device: NVIDIA GeForce RTX 3050 6GB Laptop GPU\n",
      "Current GPU Memory Allocated: 0.00 GB\n",
      "Current GPU Memory Cached: 0.00 GB\n",
      "\n",
      "[Fold 1]\n",
      "model is roberta-base cnn\n"
     ]
    },
    {
     "name": "stderr",
     "output_type": "stream",
     "text": [
      "D:\\Anaconda3\\envs\\cuda\\Lib\\site-packages\\sklearn\\model_selection\\_split.py:737: UserWarning: The least populated class in y has only 7 members, which is less than n_splits=10.\n",
      "  warnings.warn(\n",
      "Some weights of RobertaModel were not initialized from the model checkpoint at roberta-base and are newly initialized: ['roberta.pooler.dense.bias', 'roberta.pooler.dense.weight']\n",
      "You should probably TRAIN this model on a down-stream task to be able to use it for predictions and inference.\n"
     ]
    },
    {
     "name": "stdout",
     "output_type": "stream",
     "text": [
      "Epoch 1/20\n"
     ]
    },
    {
     "name": "stderr",
     "output_type": "stream",
     "text": [
      "100%|██████████| 476/476 [03:39<00:00,  2.17it/s]\n"
     ]
    },
    {
     "name": "stdout",
     "output_type": "stream",
     "text": [
      "{'val_loss': 1.6346119417334504, 'val_accuracy': 0.599290780141844, 'precision': 0.5144998446586256, 'recall': 0.599290780141844, 'f1-score': 0.5141374065731099, 'macro_f1-score': 0.11692246598589193, 'balanced_accuracy': 0.13548391243594918, 'mcc': 0.43193273899418777, 'train_loss': 1.9757140234989279}\n",
      "Epoch 2/20\n"
     ]
    },
    {
     "name": "stderr",
     "output_type": "stream",
     "text": [
      "100%|██████████| 476/476 [03:34<00:00,  2.22it/s]\n"
     ]
    },
    {
     "name": "stdout",
     "output_type": "stream",
     "text": [
      "{'val_loss': 1.4407276949792538, 'val_accuracy': 0.6312056737588653, 'precision': 0.5173156637348413, 'recall': 0.6312056737588653, 'f1-score': 0.5379265579140056, 'macro_f1-score': 0.15809190188771846, 'balanced_accuracy': 0.16005931857802047, 'mcc': 0.47488776431218666, 'train_loss': 1.4786722772762555}\n",
      "Epoch 3/20\n"
     ]
    },
    {
     "name": "stderr",
     "output_type": "stream",
     "text": [
      "100%|██████████| 476/476 [03:34<00:00,  2.22it/s]\n"
     ]
    },
    {
     "name": "stdout",
     "output_type": "stream",
     "text": [
      "{'val_loss': 1.4103347006833777, 'val_accuracy': 0.607565011820331, 'precision': 0.62091885593211, 'recall': 0.607565011820331, 'f1-score': 0.5926468983325804, 'macro_f1-score': 0.23000518640760487, 'balanced_accuracy': 0.26515751655832775, 'mcc': 0.5039662587051998, 'train_loss': 1.2305517348171282}\n",
      "Epoch 4/20\n"
     ]
    },
    {
     "name": "stderr",
     "output_type": "stream",
     "text": [
      "100%|██████████| 476/476 [03:35<00:00,  2.21it/s]\n"
     ]
    },
    {
     "name": "stdout",
     "output_type": "stream",
     "text": [
      "{'val_loss': 1.203734982688472, 'val_accuracy': 0.6690307328605201, 'precision': 0.6372289363593978, 'recall': 0.6690307328605201, 'f1-score': 0.6400733464285848, 'macro_f1-score': 0.32113041615193594, 'balanced_accuracy': 0.3123566822099598, 'mcc': 0.5533322787835963, 'train_loss': 1.0444557934122927}\n",
      "Epoch 5/20\n"
     ]
    },
    {
     "name": "stderr",
     "output_type": "stream",
     "text": [
      "100%|██████████| 476/476 [03:34<00:00,  2.22it/s]\n"
     ]
    },
    {
     "name": "stdout",
     "output_type": "stream",
     "text": [
      "{'val_loss': 1.2307544536185715, 'val_accuracy': 0.6713947990543735, 'precision': 0.6578101989904108, 'recall': 0.6713947990543735, 'f1-score': 0.6473360610586306, 'macro_f1-score': 0.3498434357099747, 'balanced_accuracy': 0.35463496201026207, 'mcc': 0.5617214879036004, 'train_loss': 0.8674793623450423}\n",
      "Epoch 6/20\n"
     ]
    },
    {
     "name": "stderr",
     "output_type": "stream",
     "text": [
      "100%|██████████| 476/476 [03:33<00:00,  2.23it/s]\n"
     ]
    },
    {
     "name": "stdout",
     "output_type": "stream",
     "text": [
      "{'val_loss': 1.2953724636221833, 'val_accuracy': 0.6560283687943262, 'precision': 0.6404788028865668, 'recall': 0.6560283687943262, 'f1-score': 0.6373874958024718, 'macro_f1-score': 0.35277017056991344, 'balanced_accuracy': 0.37979147520694095, 'mcc': 0.5447177559114521, 'train_loss': 0.722791694089019}\n",
      "Epoch 7/20\n"
     ]
    },
    {
     "name": "stderr",
     "output_type": "stream",
     "text": [
      "100%|██████████| 476/476 [03:33<00:00,  2.23it/s]\n"
     ]
    },
    {
     "name": "stdout",
     "output_type": "stream",
     "text": [
      "{'val_loss': 1.3121522507577572, 'val_accuracy': 0.6749408983451537, 'precision': 0.6750867011970031, 'recall': 0.6749408983451537, 'f1-score': 0.6605992210492295, 'macro_f1-score': 0.3915694888968659, 'balanced_accuracy': 0.4032446161239671, 'mcc': 0.5689691856308264, 'train_loss': 0.6437002930070171}\n",
      "Epoch 8/20\n"
     ]
    },
    {
     "name": "stderr",
     "output_type": "stream",
     "text": [
      "100%|██████████| 476/476 [03:32<00:00,  2.24it/s]\n"
     ]
    },
    {
     "name": "stdout",
     "output_type": "stream",
     "text": [
      "{'val_loss': 1.331351121922709, 'val_accuracy': 0.6808510638297872, 'precision': 0.6837706270183216, 'recall': 0.6808510638297872, 'f1-score': 0.6675937336538004, 'macro_f1-score': 0.414427327431635, 'balanced_accuracy': 0.40701144595167843, 'mcc': 0.5779896351218142, 'train_loss': 0.5260144418903759}\n",
      "Epoch 9/20\n"
     ]
    },
    {
     "name": "stderr",
     "output_type": "stream",
     "text": [
      "100%|██████████| 476/476 [03:32<00:00,  2.24it/s]\n"
     ]
    },
    {
     "name": "stdout",
     "output_type": "stream",
     "text": [
      "{'val_loss': 1.3968409968996949, 'val_accuracy': 0.6784869976359338, 'precision': 0.6819555034674035, 'recall': 0.6784869976359338, 'f1-score': 0.6646617482978393, 'macro_f1-score': 0.40055721958641394, 'balanced_accuracy': 0.3930887022409024, 'mcc': 0.5726022947412084, 'train_loss': 0.45788456843931136}\n",
      "Epoch 10/20\n"
     ]
    },
    {
     "name": "stderr",
     "output_type": "stream",
     "text": [
      "100%|██████████| 476/476 [03:32<00:00,  2.24it/s]\n"
     ]
    },
    {
     "name": "stdout",
     "output_type": "stream",
     "text": [
      "{'val_loss': 1.4195630724699992, 'val_accuracy': 0.6926713947990544, 'precision': 0.6929117793673105, 'recall': 0.6926713947990544, 'f1-score': 0.6827555304913335, 'macro_f1-score': 0.42100132748861696, 'balanced_accuracy': 0.41519585522863695, 'mcc': 0.5955227747940811, 'train_loss': 0.43081778947639615}\n",
      "Epoch 11/20\n"
     ]
    },
    {
     "name": "stderr",
     "output_type": "stream",
     "text": [
      "100%|██████████| 476/476 [03:32<00:00,  2.24it/s]\n"
     ]
    },
    {
     "name": "stdout",
     "output_type": "stream",
     "text": [
      "{'val_loss': 1.5464805308377967, 'val_accuracy': 0.6713947990543735, 'precision': 0.6966283082310104, 'recall': 0.6713947990543735, 'f1-score': 0.6723640210571898, 'macro_f1-score': 0.4228522118484332, 'balanced_accuracy': 0.40138635003106904, 'mcc': 0.5730431664521652, 'train_loss': 0.3828707601162879}\n",
      "Epoch 12/20\n"
     ]
    },
    {
     "name": "stderr",
     "output_type": "stream",
     "text": [
      "100%|██████████| 476/476 [03:32<00:00,  2.24it/s]\n"
     ]
    },
    {
     "name": "stdout",
     "output_type": "stream",
     "text": [
      "{'val_loss': 1.5743335125581273, 'val_accuracy': 0.66548463356974, 'precision': 0.6695717461566795, 'recall': 0.66548463356974, 'f1-score': 0.6547186504997868, 'macro_f1-score': 0.39124637225971676, 'balanced_accuracy': 0.3860035737659783, 'mcc': 0.5587046611825368, 'train_loss': 0.32899044210506023}\n",
      "Epoch 13/20\n"
     ]
    },
    {
     "name": "stderr",
     "output_type": "stream",
     "text": [
      "100%|██████████| 476/476 [03:32<00:00,  2.24it/s]\n"
     ]
    },
    {
     "name": "stdout",
     "output_type": "stream",
     "text": [
      "{'val_loss': 1.5667630012305278, 'val_accuracy': 0.6713947990543735, 'precision': 0.683574454388308, 'recall': 0.6713947990543735, 'f1-score': 0.6652141962901358, 'macro_f1-score': 0.400299706567985, 'balanced_accuracy': 0.39326211867143124, 'mcc': 0.5665261710872878, 'train_loss': 0.31772601972686265}\n",
      "Epoch 14/20\n"
     ]
    },
    {
     "name": "stderr",
     "output_type": "stream",
     "text": [
      "100%|██████████| 476/476 [03:32<00:00,  2.24it/s]\n"
     ]
    },
    {
     "name": "stdout",
     "output_type": "stream",
     "text": [
      "{'val_loss': 1.534327765680709, 'val_accuracy': 0.6773049645390071, 'precision': 0.6663602930371516, 'recall': 0.6773049645390071, 'f1-score': 0.6609106008370386, 'macro_f1-score': 0.36651824059597016, 'balanced_accuracy': 0.36571605700409465, 'mcc': 0.5711668761195565, 'train_loss': 0.30417814151923944}\n",
      "Early stopping.\n",
      "\n",
      "[Fold 2]\n",
      "model is roberta-base cnn\n"
     ]
    },
    {
     "name": "stderr",
     "output_type": "stream",
     "text": [
      "Some weights of RobertaModel were not initialized from the model checkpoint at roberta-base and are newly initialized: ['roberta.pooler.dense.bias', 'roberta.pooler.dense.weight']\n",
      "You should probably TRAIN this model on a down-stream task to be able to use it for predictions and inference.\n"
     ]
    },
    {
     "name": "stdout",
     "output_type": "stream",
     "text": [
      "Epoch 1/20\n"
     ]
    },
    {
     "name": "stderr",
     "output_type": "stream",
     "text": [
      "100%|██████████| 476/476 [03:33<00:00,  2.23it/s]\n"
     ]
    },
    {
     "name": "stdout",
     "output_type": "stream",
     "text": [
      "{'val_loss': 1.6439694391106658, 'val_accuracy': 0.599290780141844, 'precision': 0.46540506666813436, 'recall': 0.599290780141844, 'f1-score': 0.5027594281717541, 'macro_f1-score': 0.10422734072134504, 'balanced_accuracy': 0.11751073252975867, 'mcc': 0.4234743747838252, 'train_loss': 1.970228988896398}\n",
      "Epoch 2/20\n"
     ]
    },
    {
     "name": "stderr",
     "output_type": "stream",
     "text": [
      "100%|██████████| 476/476 [03:32<00:00,  2.24it/s]\n"
     ]
    },
    {
     "name": "stdout",
     "output_type": "stream",
     "text": [
      "{'val_loss': 1.3755786430160954, 'val_accuracy': 0.640661938534279, 'precision': 0.5368742445035781, 'recall': 0.640661938534279, 'f1-score': 0.5661201128505873, 'macro_f1-score': 0.16032590817445797, 'balanced_accuracy': 0.1668954476317498, 'mcc': 0.4984664246210071, 'train_loss': 1.4941631476042652}\n",
      "Epoch 3/20\n"
     ]
    },
    {
     "name": "stderr",
     "output_type": "stream",
     "text": [
      "100%|██████████| 476/476 [03:32<00:00,  2.24it/s]\n"
     ]
    },
    {
     "name": "stdout",
     "output_type": "stream",
     "text": [
      "{'val_loss': 1.3072940021191004, 'val_accuracy': 0.6359338061465721, 'precision': 0.6198842693980301, 'recall': 0.6359338061465721, 'f1-score': 0.6089634953514336, 'macro_f1-score': 0.22476284613412287, 'balanced_accuracy': 0.24095775892603133, 'mcc': 0.5117378649832083, 'train_loss': 1.2286211540531211}\n",
      "Epoch 4/20\n"
     ]
    },
    {
     "name": "stderr",
     "output_type": "stream",
     "text": [
      "100%|██████████| 476/476 [03:32<00:00,  2.24it/s]\n"
     ]
    },
    {
     "name": "stdout",
     "output_type": "stream",
     "text": [
      "{'val_loss': 1.2347344699895606, 'val_accuracy': 0.6702127659574468, 'precision': 0.612157364507432, 'recall': 0.6702127659574468, 'f1-score': 0.6252400557001537, 'macro_f1-score': 0.2755766273259671, 'balanced_accuracy': 0.28703838716781016, 'mcc': 0.549653243461878, 'train_loss': 1.032548850918768}\n",
      "Epoch 5/20\n"
     ]
    },
    {
     "name": "stderr",
     "output_type": "stream",
     "text": [
      "100%|██████████| 476/476 [03:32<00:00,  2.24it/s]\n"
     ]
    },
    {
     "name": "stdout",
     "output_type": "stream",
     "text": [
      "{'val_loss': 1.2534479380778547, 'val_accuracy': 0.6643026004728132, 'precision': 0.6506751859187436, 'recall': 0.6643026004728132, 'f1-score': 0.6410156343090521, 'macro_f1-score': 0.28719359794145904, 'balanced_accuracy': 0.3033898582443375, 'mcc': 0.5497913001021365, 'train_loss': 0.8793862758501738}\n",
      "Epoch 6/20\n"
     ]
    },
    {
     "name": "stderr",
     "output_type": "stream",
     "text": [
      "100%|██████████| 476/476 [03:32<00:00,  2.24it/s]\n"
     ]
    },
    {
     "name": "stdout",
     "output_type": "stream",
     "text": [
      "{'val_loss': 1.3010853703291911, 'val_accuracy': 0.6619385342789598, 'precision': 0.649037783244486, 'recall': 0.6619385342789598, 'f1-score': 0.6330595035798844, 'macro_f1-score': 0.3000667145310771, 'balanced_accuracy': 0.30610413191037, 'mcc': 0.547516815984547, 'train_loss': 0.7276664261682695}\n",
      "Epoch 7/20\n"
     ]
    },
    {
     "name": "stderr",
     "output_type": "stream",
     "text": [
      "100%|██████████| 476/476 [03:32<00:00,  2.24it/s]\n"
     ]
    },
    {
     "name": "stdout",
     "output_type": "stream",
     "text": [
      "{'val_loss': 1.270345020406651, 'val_accuracy': 0.6761229314420804, 'precision': 0.6750217885443537, 'recall': 0.6761229314420804, 'f1-score': 0.6575673566037608, 'macro_f1-score': 0.3700919963715603, 'balanced_accuracy': 0.37830697447876444, 'mcc': 0.5731959495069289, 'train_loss': 0.6017469729476866}\n",
      "Epoch 8/20\n"
     ]
    },
    {
     "name": "stderr",
     "output_type": "stream",
     "text": [
      "100%|██████████| 476/476 [03:32<00:00,  2.24it/s]\n"
     ]
    },
    {
     "name": "stdout",
     "output_type": "stream",
     "text": [
      "{'val_loss': 1.3553468511914306, 'val_accuracy': 0.6513002364066194, 'precision': 0.6816706462383687, 'recall': 0.6513002364066194, 'f1-score': 0.6483874297069658, 'macro_f1-score': 0.3547712394783036, 'balanced_accuracy': 0.3720240942330355, 'mcc': 0.5525491761101938, 'train_loss': 0.5378185566592993}\n",
      "Epoch 9/20\n"
     ]
    },
    {
     "name": "stderr",
     "output_type": "stream",
     "text": [
      "100%|██████████| 476/476 [03:32<00:00,  2.24it/s]\n"
     ]
    },
    {
     "name": "stdout",
     "output_type": "stream",
     "text": [
      "{'val_loss': 1.4133343367644076, 'val_accuracy': 0.6607565011820331, 'precision': 0.6617783386163416, 'recall': 0.6607565011820331, 'f1-score': 0.6434051276943197, 'macro_f1-score': 0.318861388003235, 'balanced_accuracy': 0.31112258089433625, 'mcc': 0.5470864786718661, 'train_loss': 0.46080292057746847}\n",
      "Epoch 10/20\n"
     ]
    },
    {
     "name": "stderr",
     "output_type": "stream",
     "text": [
      "100%|██████████| 476/476 [03:32<00:00,  2.24it/s]\n"
     ]
    },
    {
     "name": "stdout",
     "output_type": "stream",
     "text": [
      "{'val_loss': 1.5314115938150659, 'val_accuracy': 0.6182033096926713, 'precision': 0.6784422719003897, 'recall': 0.6182033096926713, 'f1-score': 0.6266804649409146, 'macro_f1-score': 0.32948001740373767, 'balanced_accuracy': 0.3726269324256674, 'mcc': 0.528106611003114, 'train_loss': 0.41044935433804486}\n",
      "Early stopping.\n",
      "\n",
      "[Fold 3]\n",
      "model is roberta-base cnn\n"
     ]
    },
    {
     "name": "stderr",
     "output_type": "stream",
     "text": [
      "Some weights of RobertaModel were not initialized from the model checkpoint at roberta-base and are newly initialized: ['roberta.pooler.dense.bias', 'roberta.pooler.dense.weight']\n",
      "You should probably TRAIN this model on a down-stream task to be able to use it for predictions and inference.\n"
     ]
    },
    {
     "name": "stdout",
     "output_type": "stream",
     "text": [
      "Epoch 1/20\n"
     ]
    },
    {
     "name": "stderr",
     "output_type": "stream",
     "text": [
      "100%|██████████| 476/476 [03:32<00:00,  2.24it/s]\n"
     ]
    },
    {
     "name": "stdout",
     "output_type": "stream",
     "text": [
      "{'val_loss': 1.630414608514534, 'val_accuracy': 0.5933806146572104, 'precision': 0.4221258046218999, 'recall': 0.5933806146572104, 'f1-score': 0.47294383580946764, 'macro_f1-score': 0.07955170525213337, 'balanced_accuracy': 0.09822882858491937, 'mcc': 0.4097937807705819, 'train_loss': 1.9651295120726113}\n",
      "Epoch 2/20\n"
     ]
    },
    {
     "name": "stderr",
     "output_type": "stream",
     "text": [
      "100%|██████████| 476/476 [03:32<00:00,  2.24it/s]\n"
     ]
    },
    {
     "name": "stdout",
     "output_type": "stream",
     "text": [
      "{'val_loss': 1.3882148535746448, 'val_accuracy': 0.6359338061465721, 'precision': 0.5490268450976099, 'recall': 0.6359338061465721, 'f1-score': 0.5554748406545504, 'macro_f1-score': 0.14973971600385988, 'balanced_accuracy': 0.15215923000929066, 'mcc': 0.4896978063950623, 'train_loss': 1.4819944945453596}\n",
      "Epoch 3/20\n"
     ]
    },
    {
     "name": "stderr",
     "output_type": "stream",
     "text": [
      "100%|██████████| 476/476 [03:32<00:00,  2.24it/s]\n"
     ]
    },
    {
     "name": "stdout",
     "output_type": "stream",
     "text": [
      "{'val_loss': 1.3348499277852617, 'val_accuracy': 0.6524822695035462, 'precision': 0.6075557913323871, 'recall': 0.6524822695035462, 'f1-score': 0.6154583558743852, 'macro_f1-score': 0.2585299625510454, 'balanced_accuracy': 0.26630755188707017, 'mcc': 0.5357810582015096, 'train_loss': 1.2327839941287242}\n",
      "Epoch 4/20\n"
     ]
    },
    {
     "name": "stderr",
     "output_type": "stream",
     "text": [
      "100%|██████████| 476/476 [03:32<00:00,  2.24it/s]\n"
     ]
    },
    {
     "name": "stdout",
     "output_type": "stream",
     "text": [
      "{'val_loss': 1.2073536751405247, 'val_accuracy': 0.6761229314420804, 'precision': 0.6121717031486669, 'recall': 0.6761229314420804, 'f1-score': 0.6284317280085209, 'macro_f1-score': 0.2974082615410667, 'balanced_accuracy': 0.2936727697435893, 'mcc': 0.5551705573480992, 'train_loss': 1.049746483439157}\n",
      "Epoch 5/20\n"
     ]
    },
    {
     "name": "stderr",
     "output_type": "stream",
     "text": [
      "100%|██████████| 476/476 [03:32<00:00,  2.24it/s]\n"
     ]
    },
    {
     "name": "stdout",
     "output_type": "stream",
     "text": [
      "{'val_loss': 1.2107859878045208, 'val_accuracy': 0.6725768321513003, 'precision': 0.6487175018824859, 'recall': 0.6725768321513003, 'f1-score': 0.6516900569673516, 'macro_f1-score': 0.32115014858359814, 'balanced_accuracy': 0.33946520628527216, 'mcc': 0.5689711641688533, 'train_loss': 0.888861553070425}\n",
      "Epoch 6/20\n"
     ]
    },
    {
     "name": "stderr",
     "output_type": "stream",
     "text": [
      "100%|██████████| 476/476 [03:32<00:00,  2.24it/s]\n"
     ]
    },
    {
     "name": "stdout",
     "output_type": "stream",
     "text": [
      "{'val_loss': 1.2402557770036302, 'val_accuracy': 0.6843971631205674, 'precision': 0.680422544922194, 'recall': 0.6843971631205674, 'f1-score': 0.6712198171640297, 'macro_f1-score': 0.3427038865207465, 'balanced_accuracy': 0.3492247218904817, 'mcc': 0.5843050570696716, 'train_loss': 0.7465260203990365}\n",
      "Epoch 7/20\n"
     ]
    },
    {
     "name": "stderr",
     "output_type": "stream",
     "text": [
      "100%|██████████| 476/476 [03:32<00:00,  2.24it/s]\n"
     ]
    },
    {
     "name": "stdout",
     "output_type": "stream",
     "text": [
      "{'val_loss': 1.2287269965657648, 'val_accuracy': 0.693853427895981, 'precision': 0.6724847633698416, 'recall': 0.693853427895981, 'f1-score': 0.6642451714778846, 'macro_f1-score': 0.36703107417711456, 'balanced_accuracy': 0.377283310211035, 'mcc': 0.5865617144787907, 'train_loss': 0.6401553826891825}\n",
      "Epoch 8/20\n"
     ]
    },
    {
     "name": "stderr",
     "output_type": "stream",
     "text": [
      "100%|██████████| 476/476 [03:33<00:00,  2.23it/s]\n"
     ]
    },
    {
     "name": "stdout",
     "output_type": "stream",
     "text": [
      "{'val_loss': 1.3082123961088792, 'val_accuracy': 0.6832151300236406, 'precision': 0.6745627848079071, 'recall': 0.6832151300236406, 'f1-score': 0.6684116184614143, 'macro_f1-score': 0.3605432406283494, 'balanced_accuracy': 0.3758104525598201, 'mcc': 0.583031002074709, 'train_loss': 0.5393976117484272}\n",
      "Epoch 9/20\n"
     ]
    },
    {
     "name": "stderr",
     "output_type": "stream",
     "text": [
      "100%|██████████| 476/476 [03:32<00:00,  2.24it/s]\n"
     ]
    },
    {
     "name": "stdout",
     "output_type": "stream",
     "text": [
      "{'val_loss': 1.4099331053922761, 'val_accuracy': 0.6702127659574468, 'precision': 0.6736259518383464, 'recall': 0.6702127659574468, 'f1-score': 0.6581362207832203, 'macro_f1-score': 0.3649180956377396, 'balanced_accuracy': 0.37293374469347434, 'mcc': 0.5664477757900287, 'train_loss': 0.4721317044928858}\n",
      "Epoch 10/20\n"
     ]
    },
    {
     "name": "stderr",
     "output_type": "stream",
     "text": [
      "100%|██████████| 476/476 [03:32<00:00,  2.24it/s]\n"
     ]
    },
    {
     "name": "stdout",
     "output_type": "stream",
     "text": [
      "{'val_loss': 1.4711763830679767, 'val_accuracy': 0.6761229314420804, 'precision': 0.6662838044687213, 'recall': 0.6761229314420804, 'f1-score': 0.6593695785510543, 'macro_f1-score': 0.3763027240485515, 'balanced_accuracy': 0.3717639771787926, 'mcc': 0.5629447732404896, 'train_loss': 0.3973440163330558}\n",
      "Epoch 11/20\n"
     ]
    },
    {
     "name": "stderr",
     "output_type": "stream",
     "text": [
      "100%|██████████| 476/476 [03:32<00:00,  2.24it/s]\n"
     ]
    },
    {
     "name": "stdout",
     "output_type": "stream",
     "text": [
      "{'val_loss': 1.4875747533339374, 'val_accuracy': 0.6702127659574468, 'precision': 0.6572945199675718, 'recall': 0.6702127659574468, 'f1-score': 0.6521422430913572, 'macro_f1-score': 0.34646082262021183, 'balanced_accuracy': 0.3485743767832314, 'mcc': 0.5627688095972502, 'train_loss': 0.36715749781891827}\n",
      "Epoch 12/20\n"
     ]
    },
    {
     "name": "stderr",
     "output_type": "stream",
     "text": [
      "100%|██████████| 476/476 [03:32<00:00,  2.24it/s]\n"
     ]
    },
    {
     "name": "stdout",
     "output_type": "stream",
     "text": [
      "{'val_loss': 1.4982088483729452, 'val_accuracy': 0.7021276595744681, 'precision': 0.6964409545395492, 'recall': 0.7021276595744681, 'f1-score': 0.6877123557342083, 'macro_f1-score': 0.4122788697309934, 'balanced_accuracy': 0.3932363870942973, 'mcc': 0.5984647653417242, 'train_loss': 0.34042503856936424}\n",
      "Epoch 13/20\n"
     ]
    },
    {
     "name": "stderr",
     "output_type": "stream",
     "text": [
      "100%|██████████| 476/476 [03:32<00:00,  2.24it/s]\n"
     ]
    },
    {
     "name": "stdout",
     "output_type": "stream",
     "text": [
      "{'val_loss': 1.6063344585445691, 'val_accuracy': 0.693853427895981, 'precision': 0.6907446815352295, 'recall': 0.693853427895981, 'f1-score': 0.676638403920973, 'macro_f1-score': 0.42051778010785645, 'balanced_accuracy': 0.40456275000341885, 'mcc': 0.5879518346354371, 'train_loss': 0.2987695862226063}\n",
      "Epoch 14/20\n"
     ]
    },
    {
     "name": "stderr",
     "output_type": "stream",
     "text": [
      "100%|██████████| 476/476 [03:32<00:00,  2.24it/s]\n"
     ]
    },
    {
     "name": "stdout",
     "output_type": "stream",
     "text": [
      "{'val_loss': 1.6006657475570463, 'val_accuracy': 0.6453900709219859, 'precision': 0.6556988747632311, 'recall': 0.6453900709219859, 'f1-score': 0.6398060744879637, 'macro_f1-score': 0.3732395718157032, 'balanced_accuracy': 0.36875918741725355, 'mcc': 0.5372556206666604, 'train_loss': 0.29413133426941146}\n",
      "Epoch 15/20\n"
     ]
    },
    {
     "name": "stderr",
     "output_type": "stream",
     "text": [
      "100%|██████████| 476/476 [03:32<00:00,  2.24it/s]\n"
     ]
    },
    {
     "name": "stdout",
     "output_type": "stream",
     "text": [
      "{'val_loss': 1.5618440025257614, 'val_accuracy': 0.6843971631205674, 'precision': 0.6810691827267626, 'recall': 0.6843971631205674, 'f1-score': 0.6724109115254782, 'macro_f1-score': 0.4055171857206523, 'balanced_accuracy': 0.3969890048917947, 'mcc': 0.5800820647661263, 'train_loss': 0.28041118867460546}\n",
      "Epoch 16/20\n"
     ]
    },
    {
     "name": "stderr",
     "output_type": "stream",
     "text": [
      "100%|██████████| 476/476 [03:32<00:00,  2.24it/s]\n"
     ]
    },
    {
     "name": "stdout",
     "output_type": "stream",
     "text": [
      "{'val_loss': 1.6651756943396803, 'val_accuracy': 0.6843971631205674, 'precision': 0.6731286689974962, 'recall': 0.6843971631205674, 'f1-score': 0.663136865293435, 'macro_f1-score': 0.391903781308711, 'balanced_accuracy': 0.3792285111372965, 'mcc': 0.5739078483287751, 'train_loss': 0.27606960185392593}\n",
      "Early stopping.\n",
      "\n",
      "[Fold 4]\n",
      "model is roberta-base cnn\n"
     ]
    },
    {
     "name": "stderr",
     "output_type": "stream",
     "text": [
      "Some weights of RobertaModel were not initialized from the model checkpoint at roberta-base and are newly initialized: ['roberta.pooler.dense.bias', 'roberta.pooler.dense.weight']\n",
      "You should probably TRAIN this model on a down-stream task to be able to use it for predictions and inference.\n"
     ]
    },
    {
     "name": "stdout",
     "output_type": "stream",
     "text": [
      "Epoch 1/20\n"
     ]
    },
    {
     "name": "stderr",
     "output_type": "stream",
     "text": [
      "100%|██████████| 476/476 [03:32<00:00,  2.24it/s]\n"
     ]
    },
    {
     "name": "stdout",
     "output_type": "stream",
     "text": [
      "{'val_loss': 1.7599371930338301, 'val_accuracy': 0.5815602836879432, 'precision': 0.41279656628988837, 'recall': 0.5815602836879432, 'f1-score': 0.4759142011248697, 'macro_f1-score': 0.08600775409590866, 'balanced_accuracy': 0.09576432448161785, 'mcc': 0.39080220306023744, 'train_loss': 2.0165959982311024}\n",
      "Epoch 2/20\n"
     ]
    },
    {
     "name": "stderr",
     "output_type": "stream",
     "text": [
      "100%|██████████| 476/476 [03:32<00:00,  2.24it/s]\n"
     ]
    },
    {
     "name": "stdout",
     "output_type": "stream",
     "text": [
      "{'val_loss': 1.5117302896841518, 'val_accuracy': 0.6004728132387707, 'precision': 0.4759798166147922, 'recall': 0.6004728132387707, 'f1-score': 0.5095308267835744, 'macro_f1-score': 0.1055238639664902, 'balanced_accuracy': 0.12102623492720528, 'mcc': 0.4341823872223344, 'train_loss': 1.543201914198008}\n",
      "Epoch 3/20\n"
     ]
    },
    {
     "name": "stderr",
     "output_type": "stream",
     "text": [
      "100%|██████████| 476/476 [03:32<00:00,  2.24it/s]\n"
     ]
    },
    {
     "name": "stdout",
     "output_type": "stream",
     "text": [
      "{'val_loss': 1.4580044037890885, 'val_accuracy': 0.6394799054373522, 'precision': 0.5832235969702958, 'recall': 0.6394799054373522, 'f1-score': 0.5883664915082962, 'macro_f1-score': 0.2447573929039354, 'balanced_accuracy': 0.24315707131583061, 'mcc': 0.5043587070646004, 'train_loss': 1.2846244132193196}\n",
      "Epoch 4/20\n"
     ]
    },
    {
     "name": "stderr",
     "output_type": "stream",
     "text": [
      "100%|██████████| 476/476 [03:32<00:00,  2.24it/s]\n"
     ]
    },
    {
     "name": "stdout",
     "output_type": "stream",
     "text": [
      "{'val_loss': 1.3397732534498539, 'val_accuracy': 0.6335697399527187, 'precision': 0.6052383480726117, 'recall': 0.6335697399527187, 'f1-score': 0.6014712489611457, 'macro_f1-score': 0.2525204364225944, 'balanced_accuracy': 0.2721081582523447, 'mcc': 0.5068264529090146, 'train_loss': 1.1037599608427335}\n",
      "Epoch 5/20\n"
     ]
    },
    {
     "name": "stderr",
     "output_type": "stream",
     "text": [
      "100%|██████████| 476/476 [03:32<00:00,  2.24it/s]\n"
     ]
    },
    {
     "name": "stdout",
     "output_type": "stream",
     "text": [
      "{'val_loss': 1.340434028292602, 'val_accuracy': 0.6572104018912529, 'precision': 0.6302500780326562, 'recall': 0.6572104018912529, 'f1-score': 0.6274149560168558, 'macro_f1-score': 0.29702932421524797, 'balanced_accuracy': 0.29758765089816896, 'mcc': 0.5370137196333603, 'train_loss': 0.9218777859419146}\n",
      "Epoch 6/20\n"
     ]
    },
    {
     "name": "stderr",
     "output_type": "stream",
     "text": [
      "100%|██████████| 476/476 [03:32<00:00,  2.24it/s]\n"
     ]
    },
    {
     "name": "stdout",
     "output_type": "stream",
     "text": [
      "{'val_loss': 1.3387831837501165, 'val_accuracy': 0.6631205673758865, 'precision': 0.6427504085179747, 'recall': 0.6631205673758865, 'f1-score': 0.6331885159216771, 'macro_f1-score': 0.32494096732712996, 'balanced_accuracy': 0.3366672718355789, 'mcc': 0.5511488652343906, 'train_loss': 0.7945068667040152}\n",
      "Epoch 7/20\n"
     ]
    },
    {
     "name": "stderr",
     "output_type": "stream",
     "text": [
      "100%|██████████| 476/476 [03:32<00:00,  2.24it/s]\n"
     ]
    },
    {
     "name": "stdout",
     "output_type": "stream",
     "text": [
      "{'val_loss': 1.3903698201449413, 'val_accuracy': 0.6737588652482269, 'precision': 0.6479566146831574, 'recall': 0.6737588652482269, 'f1-score': 0.6420209293990976, 'macro_f1-score': 0.3277627089979697, 'balanced_accuracy': 0.3181442880556552, 'mcc': 0.5548515849732011, 'train_loss': 0.660255781414003}\n",
      "Epoch 8/20\n"
     ]
    },
    {
     "name": "stderr",
     "output_type": "stream",
     "text": [
      "100%|██████████| 476/476 [03:32<00:00,  2.24it/s]\n"
     ]
    },
    {
     "name": "stdout",
     "output_type": "stream",
     "text": [
      "{'val_loss': 1.360924001572267, 'val_accuracy': 0.6536643026004728, 'precision': 0.6537672859121638, 'recall': 0.6536643026004728, 'f1-score': 0.6378072555638903, 'macro_f1-score': 0.3521484902924053, 'balanced_accuracy': 0.34902588100976595, 'mcc': 0.5417015610193918, 'train_loss': 0.5766511213488313}\n",
      "Epoch 9/20\n"
     ]
    },
    {
     "name": "stderr",
     "output_type": "stream",
     "text": [
      "100%|██████████| 476/476 [03:32<00:00,  2.24it/s]\n"
     ]
    },
    {
     "name": "stdout",
     "output_type": "stream",
     "text": [
      "{'val_loss': 1.4173649926230592, 'val_accuracy': 0.6725768321513003, 'precision': 0.6671276545407356, 'recall': 0.6725768321513003, 'f1-score': 0.6608644584533362, 'macro_f1-score': 0.39796309000898206, 'balanced_accuracy': 0.4210146551459669, 'mcc': 0.5714735573600158, 'train_loss': 0.5211011955569333}\n",
      "Epoch 10/20\n"
     ]
    },
    {
     "name": "stderr",
     "output_type": "stream",
     "text": [
      "100%|██████████| 476/476 [03:32<00:00,  2.24it/s]\n"
     ]
    },
    {
     "name": "stdout",
     "output_type": "stream",
     "text": [
      "{'val_loss': 1.4234025832617059, 'val_accuracy': 0.6725768321513003, 'precision': 0.6582073448845771, 'recall': 0.6725768321513003, 'f1-score': 0.6540127027645909, 'macro_f1-score': 0.3770567025266483, 'balanced_accuracy': 0.38991427060588385, 'mcc': 0.5665095755382771, 'train_loss': 0.4596333956705923}\n",
      "Epoch 11/20\n"
     ]
    },
    {
     "name": "stderr",
     "output_type": "stream",
     "text": [
      "100%|██████████| 476/476 [03:32<00:00,  2.24it/s]\n"
     ]
    },
    {
     "name": "stdout",
     "output_type": "stream",
     "text": [
      "{'val_loss': 1.4914539439498253, 'val_accuracy': 0.682033096926714, 'precision': 0.6828599757931063, 'recall': 0.682033096926714, 'f1-score': 0.670951591629885, 'macro_f1-score': 0.40240336236827096, 'balanced_accuracy': 0.40913777384747746, 'mcc': 0.5813552204154463, 'train_loss': 0.4096759449604492}\n",
      "Epoch 12/20\n"
     ]
    },
    {
     "name": "stderr",
     "output_type": "stream",
     "text": [
      "100%|██████████| 476/476 [03:32<00:00,  2.24it/s]\n"
     ]
    },
    {
     "name": "stdout",
     "output_type": "stream",
     "text": [
      "{'val_loss': 1.5814140287210356, 'val_accuracy': 0.6796690307328606, 'precision': 0.6737162513764955, 'recall': 0.6796690307328606, 'f1-score': 0.6615904578975392, 'macro_f1-score': 0.39337009714231075, 'balanced_accuracy': 0.3921714533526697, 'mcc': 0.5704862957619758, 'train_loss': 0.36030673000867625}\n",
      "Epoch 13/20\n"
     ]
    },
    {
     "name": "stderr",
     "output_type": "stream",
     "text": [
      "100%|██████████| 476/476 [03:32<00:00,  2.24it/s]\n"
     ]
    },
    {
     "name": "stdout",
     "output_type": "stream",
     "text": [
      "{'val_loss': 1.5117047845192675, 'val_accuracy': 0.6595744680851063, 'precision': 0.675107661819208, 'recall': 0.6595744680851063, 'f1-score': 0.6575236273183659, 'macro_f1-score': 0.4078350999065819, 'balanced_accuracy': 0.4242016827778394, 'mcc': 0.5580931436662021, 'train_loss': 0.3427641434211503}\n",
      "Epoch 14/20\n"
     ]
    },
    {
     "name": "stderr",
     "output_type": "stream",
     "text": [
      "100%|██████████| 476/476 [03:32<00:00,  2.24it/s]\n"
     ]
    },
    {
     "name": "stdout",
     "output_type": "stream",
     "text": [
      "{'val_loss': 1.5670710835816726, 'val_accuracy': 0.66548463356974, 'precision': 0.687691164148774, 'recall': 0.66548463356974, 'f1-score': 0.6606568035976945, 'macro_f1-score': 0.43406202234655233, 'balanced_accuracy': 0.45385710421771763, 'mcc': 0.5658394766877033, 'train_loss': 0.3227469234251879}\n",
      "Epoch 15/20\n"
     ]
    },
    {
     "name": "stderr",
     "output_type": "stream",
     "text": [
      "100%|██████████| 476/476 [03:32<00:00,  2.24it/s]\n"
     ]
    },
    {
     "name": "stdout",
     "output_type": "stream",
     "text": [
      "{'val_loss': 1.638201303639502, 'val_accuracy': 0.6784869976359338, 'precision': 0.6690407883432526, 'recall': 0.6784869976359338, 'f1-score': 0.6552900844198979, 'macro_f1-score': 0.38418662830850797, 'balanced_accuracy': 0.3824691108675687, 'mcc': 0.5671612309944156, 'train_loss': 0.3068313788966972}\n",
      "Epoch 16/20\n"
     ]
    },
    {
     "name": "stderr",
     "output_type": "stream",
     "text": [
      "100%|██████████| 476/476 [03:32<00:00,  2.24it/s]\n"
     ]
    },
    {
     "name": "stdout",
     "output_type": "stream",
     "text": [
      "{'val_loss': 1.693490745324009, 'val_accuracy': 0.6690307328605201, 'precision': 0.6497350403733383, 'recall': 0.6690307328605201, 'f1-score': 0.6420280329897288, 'macro_f1-score': 0.398360418989137, 'balanced_accuracy': 0.3696040390076432, 'mcc': 0.5494131634999786, 'train_loss': 0.2906774617741354}\n",
      "Epoch 17/20\n"
     ]
    },
    {
     "name": "stderr",
     "output_type": "stream",
     "text": [
      "100%|██████████| 476/476 [03:32<00:00,  2.24it/s]\n"
     ]
    },
    {
     "name": "stdout",
     "output_type": "stream",
     "text": [
      "{'val_loss': 1.5667896613759815, 'val_accuracy': 0.6749408983451537, 'precision': 0.6803529705816908, 'recall': 0.6749408983451537, 'f1-score': 0.6594539750607104, 'macro_f1-score': 0.4312989240114581, 'balanced_accuracy': 0.40491012974395396, 'mcc': 0.5661943859919831, 'train_loss': 0.3003775701151785}\n",
      "Early stopping.\n",
      "\n",
      "[Fold 5]\n",
      "model is roberta-base cnn\n"
     ]
    },
    {
     "name": "stderr",
     "output_type": "stream",
     "text": [
      "Some weights of RobertaModel were not initialized from the model checkpoint at roberta-base and are newly initialized: ['roberta.pooler.dense.bias', 'roberta.pooler.dense.weight']\n",
      "You should probably TRAIN this model on a down-stream task to be able to use it for predictions and inference.\n"
     ]
    },
    {
     "name": "stdout",
     "output_type": "stream",
     "text": [
      "Epoch 1/20\n"
     ]
    },
    {
     "name": "stderr",
     "output_type": "stream",
     "text": [
      "100%|██████████| 476/476 [03:33<00:00,  2.23it/s]\n"
     ]
    },
    {
     "name": "stdout",
     "output_type": "stream",
     "text": [
      "{'val_loss': 1.6240889047676663, 'val_accuracy': 0.5964497041420118, 'precision': 0.4180945478462136, 'recall': 0.5964497041420118, 'f1-score': 0.4810030564215618, 'macro_f1-score': 0.085647278870081, 'balanced_accuracy': 0.09687477464759212, 'mcc': 0.41387784697908, 'train_loss': 2.000077606374476}\n",
      "Epoch 2/20\n"
     ]
    },
    {
     "name": "stderr",
     "output_type": "stream",
     "text": [
      "100%|██████████| 476/476 [03:33<00:00,  2.23it/s]\n"
     ]
    },
    {
     "name": "stdout",
     "output_type": "stream",
     "text": [
      "{'val_loss': 1.4862549394931432, 'val_accuracy': 0.6094674556213018, 'precision': 0.44929242149089543, 'recall': 0.6094674556213018, 'f1-score': 0.5094213395423233, 'macro_f1-score': 0.12416773253436539, 'balanced_accuracy': 0.13077549854432508, 'mcc': 0.43883707422781165, 'train_loss': 1.4970664263648146}\n",
      "Epoch 3/20\n"
     ]
    },
    {
     "name": "stderr",
     "output_type": "stream",
     "text": [
      "100%|██████████| 476/476 [03:32<00:00,  2.24it/s]\n"
     ]
    },
    {
     "name": "stdout",
     "output_type": "stream",
     "text": [
      "{'val_loss': 1.373000390124771, 'val_accuracy': 0.6295857988165681, 'precision': 0.5667205458606488, 'recall': 0.6295857988165681, 'f1-score': 0.570170785020223, 'macro_f1-score': 0.19292263955722533, 'balanced_accuracy': 0.20501208921366135, 'mcc': 0.4906144885585354, 'train_loss': 1.2647317131402112}\n",
      "Epoch 4/20\n"
     ]
    },
    {
     "name": "stderr",
     "output_type": "stream",
     "text": [
      "100%|██████████| 476/476 [03:33<00:00,  2.23it/s]\n"
     ]
    },
    {
     "name": "stdout",
     "output_type": "stream",
     "text": [
      "{'val_loss': 1.3051749726511397, 'val_accuracy': 0.6437869822485207, 'precision': 0.5660129545069895, 'recall': 0.6437869822485207, 'f1-score': 0.5911546110865413, 'macro_f1-score': 0.22129653135973382, 'balanced_accuracy': 0.2337335074173344, 'mcc': 0.5173605828693151, 'train_loss': 1.0737521419254672}\n",
      "Epoch 5/20\n"
     ]
    },
    {
     "name": "stderr",
     "output_type": "stream",
     "text": [
      "100%|██████████| 476/476 [03:33<00:00,  2.23it/s]\n"
     ]
    },
    {
     "name": "stdout",
     "output_type": "stream",
     "text": [
      "{'val_loss': 1.3852443846891511, 'val_accuracy': 0.6118343195266273, 'precision': 0.6169752837717907, 'recall': 0.6118343195266273, 'f1-score': 0.5923766884731152, 'macro_f1-score': 0.2338324745276745, 'balanced_accuracy': 0.23812327817510198, 'mcc': 0.495721730925495, 'train_loss': 0.9315793158001259}\n",
      "Epoch 6/20\n"
     ]
    },
    {
     "name": "stderr",
     "output_type": "stream",
     "text": [
      "100%|██████████| 476/476 [03:33<00:00,  2.23it/s]\n"
     ]
    },
    {
     "name": "stdout",
     "output_type": "stream",
     "text": [
      "{'val_loss': 1.34524667544185, 'val_accuracy': 0.6532544378698225, 'precision': 0.612161184396917, 'recall': 0.6532544378698225, 'f1-score': 0.6151193322392885, 'macro_f1-score': 0.2874715008587244, 'balanced_accuracy': 0.2953296593610344, 'mcc': 0.529589149845555, 'train_loss': 0.8137321603179228}\n",
      "Epoch 7/20\n"
     ]
    },
    {
     "name": "stderr",
     "output_type": "stream",
     "text": [
      "100%|██████████| 476/476 [03:33<00:00,  2.23it/s]\n"
     ]
    },
    {
     "name": "stdout",
     "output_type": "stream",
     "text": [
      "{'val_loss': 1.4246940826469998, 'val_accuracy': 0.642603550295858, 'precision': 0.6095761604117224, 'recall': 0.642603550295858, 'f1-score': 0.6091218651805559, 'macro_f1-score': 0.2763175244358077, 'balanced_accuracy': 0.2794343302071604, 'mcc': 0.5182699065841625, 'train_loss': 0.6969782048601563}\n",
      "Epoch 8/20\n"
     ]
    },
    {
     "name": "stderr",
     "output_type": "stream",
     "text": [
      "100%|██████████| 476/476 [03:33<00:00,  2.23it/s]\n"
     ]
    },
    {
     "name": "stdout",
     "output_type": "stream",
     "text": [
      "{'val_loss': 1.404075874472564, 'val_accuracy': 0.650887573964497, 'precision': 0.6632091448481842, 'recall': 0.650887573964497, 'f1-score': 0.6371399070809008, 'macro_f1-score': 0.32192910526785007, 'balanced_accuracy': 0.34400321930854333, 'mcc': 0.5468146472704056, 'train_loss': 0.5861894833471846}\n",
      "Epoch 9/20\n"
     ]
    },
    {
     "name": "stderr",
     "output_type": "stream",
     "text": [
      "100%|██████████| 476/476 [03:33<00:00,  2.23it/s]\n"
     ]
    },
    {
     "name": "stdout",
     "output_type": "stream",
     "text": [
      "{'val_loss': 1.490229510473755, 'val_accuracy': 0.6568047337278107, 'precision': 0.6177532632394751, 'recall': 0.6568047337278107, 'f1-score': 0.6139808700939801, 'macro_f1-score': 0.319328517164089, 'balanced_accuracy': 0.305104294043762, 'mcc': 0.5291677110787639, 'train_loss': 0.5240372067293888}\n",
      "Epoch 10/20\n"
     ]
    },
    {
     "name": "stderr",
     "output_type": "stream",
     "text": [
      "100%|██████████| 476/476 [03:33<00:00,  2.23it/s]\n"
     ]
    },
    {
     "name": "stdout",
     "output_type": "stream",
     "text": [
      "{'val_loss': 1.5623652766335685, 'val_accuracy': 0.6449704142011834, 'precision': 0.6403797563769719, 'recall': 0.6449704142011834, 'f1-score': 0.6171726786065878, 'macro_f1-score': 0.30463426573160124, 'balanced_accuracy': 0.30138159361148337, 'mcc': 0.5218061215129878, 'train_loss': 0.4522183814766903}\n",
      "Epoch 11/20\n"
     ]
    },
    {
     "name": "stderr",
     "output_type": "stream",
     "text": [
      "100%|██████████| 476/476 [03:33<00:00,  2.23it/s]\n"
     ]
    },
    {
     "name": "stdout",
     "output_type": "stream",
     "text": [
      "{'val_loss': 1.4535061171594656, 'val_accuracy': 0.6579881656804734, 'precision': 0.6722757660138494, 'recall': 0.6579881656804734, 'f1-score': 0.6518032853560184, 'macro_f1-score': 0.3822654004882998, 'balanced_accuracy': 0.3813847160566777, 'mcc': 0.550554023416499, 'train_loss': 0.41892304397070734}\n",
      "Epoch 12/20\n"
     ]
    },
    {
     "name": "stderr",
     "output_type": "stream",
     "text": [
      "100%|██████████| 476/476 [03:33<00:00,  2.23it/s]\n"
     ]
    },
    {
     "name": "stdout",
     "output_type": "stream",
     "text": [
      "{'val_loss': 1.5826829368213438, 'val_accuracy': 0.6556213017751479, 'precision': 0.6448786880770687, 'recall': 0.6556213017751479, 'f1-score': 0.6377632166682501, 'macro_f1-score': 0.33785394720615763, 'balanced_accuracy': 0.3412683696074468, 'mcc': 0.5458724924063048, 'train_loss': 0.3679854336914708}\n",
      "Epoch 13/20\n"
     ]
    },
    {
     "name": "stderr",
     "output_type": "stream",
     "text": [
      "100%|██████████| 476/476 [03:32<00:00,  2.23it/s]\n"
     ]
    },
    {
     "name": "stdout",
     "output_type": "stream",
     "text": [
      "{'val_loss': 1.5945882670721918, 'val_accuracy': 0.6437869822485207, 'precision': 0.6559003813716867, 'recall': 0.6437869822485207, 'f1-score': 0.6267115127352507, 'macro_f1-score': 0.32469220608937804, 'balanced_accuracy': 0.34663680035017835, 'mcc': 0.5308631730885236, 'train_loss': 0.35877968470992505}\n",
      "Epoch 14/20\n"
     ]
    },
    {
     "name": "stderr",
     "output_type": "stream",
     "text": [
      "100%|██████████| 476/476 [03:33<00:00,  2.23it/s]\n"
     ]
    },
    {
     "name": "stdout",
     "output_type": "stream",
     "text": [
      "{'val_loss': 1.622379237469637, 'val_accuracy': 0.6520710059171597, 'precision': 0.6394398446405458, 'recall': 0.6520710059171597, 'f1-score': 0.628065962549191, 'macro_f1-score': 0.3231029854447811, 'balanced_accuracy': 0.3193653380375515, 'mcc': 0.5322983684577073, 'train_loss': 0.32580579176912977}\n",
      "Early stopping.\n",
      "\n",
      "[Fold 6]\n",
      "model is roberta-base cnn\n"
     ]
    },
    {
     "name": "stderr",
     "output_type": "stream",
     "text": [
      "Some weights of RobertaModel were not initialized from the model checkpoint at roberta-base and are newly initialized: ['roberta.pooler.dense.bias', 'roberta.pooler.dense.weight']\n",
      "You should probably TRAIN this model on a down-stream task to be able to use it for predictions and inference.\n"
     ]
    },
    {
     "name": "stdout",
     "output_type": "stream",
     "text": [
      "Epoch 1/20\n"
     ]
    },
    {
     "name": "stderr",
     "output_type": "stream",
     "text": [
      "100%|██████████| 476/476 [03:32<00:00,  2.24it/s]\n"
     ]
    },
    {
     "name": "stdout",
     "output_type": "stream",
     "text": [
      "{'val_loss': 1.7792902622582778, 'val_accuracy': 0.5940828402366863, 'precision': 0.39774675289098366, 'recall': 0.5940828402366863, 'f1-score': 0.4686284237865621, 'macro_f1-score': 0.08414019091407024, 'balanced_accuracy': 0.09139058914391146, 'mcc': 0.4036014080913712, 'train_loss': 2.0622645297220776}\n",
      "Epoch 2/20\n"
     ]
    },
    {
     "name": "stderr",
     "output_type": "stream",
     "text": [
      "100%|██████████| 476/476 [03:33<00:00,  2.23it/s]\n"
     ]
    },
    {
     "name": "stdout",
     "output_type": "stream",
     "text": [
      "{'val_loss': 1.5420089184113268, 'val_accuracy': 0.6118343195266273, 'precision': 0.5076951489264355, 'recall': 0.6118343195266273, 'f1-score': 0.5400322594915153, 'macro_f1-score': 0.13082280199916593, 'balanced_accuracy': 0.14928400606419961, 'mcc': 0.46460138294651415, 'train_loss': 1.5794592068350615}\n",
      "Epoch 3/20\n"
     ]
    },
    {
     "name": "stderr",
     "output_type": "stream",
     "text": [
      "100%|██████████| 476/476 [03:33<00:00,  2.23it/s]\n"
     ]
    },
    {
     "name": "stdout",
     "output_type": "stream",
     "text": [
      "{'val_loss': 1.38550096581567, 'val_accuracy': 0.6295857988165681, 'precision': 0.5599033425326062, 'recall': 0.6295857988165681, 'f1-score': 0.5581085111325438, 'macro_f1-score': 0.15928759675011767, 'balanced_accuracy': 0.1686960057833459, 'mcc': 0.48408361947687806, 'train_loss': 1.328565244664665}\n",
      "Epoch 4/20\n"
     ]
    },
    {
     "name": "stderr",
     "output_type": "stream",
     "text": [
      "100%|██████████| 476/476 [03:33<00:00,  2.23it/s]\n"
     ]
    },
    {
     "name": "stdout",
     "output_type": "stream",
     "text": [
      "{'val_loss': 1.2982595495457918, 'val_accuracy': 0.6248520710059171, 'precision': 0.6221967594777915, 'recall': 0.6248520710059171, 'f1-score': 0.6089677160328615, 'macro_f1-score': 0.2411542345407718, 'balanced_accuracy': 0.25544931312501384, 'mcc': 0.509568144716885, 'train_loss': 1.1545405524994146}\n",
      "Epoch 5/20\n"
     ]
    },
    {
     "name": "stderr",
     "output_type": "stream",
     "text": [
      "100%|██████████| 476/476 [03:32<00:00,  2.23it/s]\n"
     ]
    },
    {
     "name": "stdout",
     "output_type": "stream",
     "text": [
      "{'val_loss': 1.2588093972431038, 'val_accuracy': 0.6579881656804734, 'precision': 0.6104307520719853, 'recall': 0.6579881656804734, 'f1-score': 0.6190243874512769, 'macro_f1-score': 0.24147471651496166, 'balanced_accuracy': 0.25636801153165445, 'mcc': 0.536108922287119, 'train_loss': 0.9840124935349998}\n",
      "Epoch 6/20\n"
     ]
    },
    {
     "name": "stderr",
     "output_type": "stream",
     "text": [
      "100%|██████████| 476/476 [03:33<00:00,  2.23it/s]\n"
     ]
    },
    {
     "name": "stdout",
     "output_type": "stream",
     "text": [
      "{'val_loss': 1.234454499663047, 'val_accuracy': 0.6627218934911243, 'precision': 0.6340383549032548, 'recall': 0.6627218934911243, 'f1-score': 0.6315136322453436, 'macro_f1-score': 0.28647516741326123, 'balanced_accuracy': 0.2881910047493511, 'mcc': 0.5502988047807458, 'train_loss': 0.8368537230338869}\n",
      "Epoch 7/20\n"
     ]
    },
    {
     "name": "stderr",
     "output_type": "stream",
     "text": [
      "100%|██████████| 476/476 [03:32<00:00,  2.24it/s]\n"
     ]
    },
    {
     "name": "stdout",
     "output_type": "stream",
     "text": [
      "{'val_loss': 1.2899353183665365, 'val_accuracy': 0.6698224852071006, 'precision': 0.632335260295517, 'recall': 0.6698224852071006, 'f1-score': 0.6322084392233737, 'macro_f1-score': 0.30217355115398636, 'balanced_accuracy': 0.29581804175878196, 'mcc': 0.5564950800315795, 'train_loss': 0.7281557944204126}\n",
      "Epoch 8/20\n"
     ]
    },
    {
     "name": "stderr",
     "output_type": "stream",
     "text": [
      "100%|██████████| 476/476 [03:33<00:00,  2.23it/s]\n"
     ]
    },
    {
     "name": "stdout",
     "output_type": "stream",
     "text": [
      "{'val_loss': 1.2945896277450166, 'val_accuracy': 0.663905325443787, 'precision': 0.6710687387767075, 'recall': 0.663905325443787, 'f1-score': 0.6522238521928012, 'macro_f1-score': 0.34071973826109475, 'balanced_accuracy': 0.35306768950817785, 'mcc': 0.5560716763978405, 'train_loss': 0.6111305617500379}\n",
      "Epoch 9/20\n"
     ]
    },
    {
     "name": "stderr",
     "output_type": "stream",
     "text": [
      "100%|██████████| 476/476 [03:33<00:00,  2.23it/s]\n"
     ]
    },
    {
     "name": "stdout",
     "output_type": "stream",
     "text": [
      "{'val_loss': 1.2841830754055168, 'val_accuracy': 0.672189349112426, 'precision': 0.681153730820406, 'recall': 0.672189349112426, 'f1-score': 0.6605658344716316, 'macro_f1-score': 0.33324437626649733, 'balanced_accuracy': 0.3481661478133178, 'mcc': 0.5713268720646157, 'train_loss': 0.5296008515977809}\n",
      "Epoch 10/20\n"
     ]
    },
    {
     "name": "stderr",
     "output_type": "stream",
     "text": [
      "100%|██████████| 476/476 [03:33<00:00,  2.23it/s]\n"
     ]
    },
    {
     "name": "stdout",
     "output_type": "stream",
     "text": [
      "{'val_loss': 1.453141875986783, 'val_accuracy': 0.6414201183431952, 'precision': 0.6508521592105243, 'recall': 0.6414201183431952, 'f1-score': 0.6329280660623908, 'macro_f1-score': 0.3594173364877999, 'balanced_accuracy': 0.3639031645931361, 'mcc': 0.5378483813357199, 'train_loss': 0.4556147945778711}\n",
      "Epoch 11/20\n"
     ]
    },
    {
     "name": "stderr",
     "output_type": "stream",
     "text": [
      "100%|██████████| 476/476 [03:32<00:00,  2.24it/s]\n"
     ]
    },
    {
     "name": "stdout",
     "output_type": "stream",
     "text": [
      "{'val_loss': 1.3910053231806125, 'val_accuracy': 0.6923076923076923, 'precision': 0.6855209886196288, 'recall': 0.6923076923076923, 'f1-score': 0.6755692907252223, 'macro_f1-score': 0.4113337197437893, 'balanced_accuracy': 0.40639505673739507, 'mcc': 0.5930013874900538, 'train_loss': 0.4107786644301025}\n",
      "Epoch 12/20\n"
     ]
    },
    {
     "name": "stderr",
     "output_type": "stream",
     "text": [
      "100%|██████████| 476/476 [03:32<00:00,  2.23it/s]\n"
     ]
    },
    {
     "name": "stdout",
     "output_type": "stream",
     "text": [
      "{'val_loss': 1.5248464542739797, 'val_accuracy': 0.676923076923077, 'precision': 0.7000668081529375, 'recall': 0.676923076923077, 'f1-score': 0.6648439618842431, 'macro_f1-score': 0.39831204808580906, 'balanced_accuracy': 0.38182816043750134, 'mcc': 0.5695482980864203, 'train_loss': 0.38211794407693905}\n",
      "Epoch 13/20\n"
     ]
    },
    {
     "name": "stderr",
     "output_type": "stream",
     "text": [
      "100%|██████████| 476/476 [03:32<00:00,  2.24it/s]\n"
     ]
    },
    {
     "name": "stdout",
     "output_type": "stream",
     "text": [
      "{'val_loss': 1.3994476232888564, 'val_accuracy': 0.6887573964497041, 'precision': 0.7218360515724549, 'recall': 0.6887573964497041, 'f1-score': 0.6727493363611226, 'macro_f1-score': 0.40134760267663877, 'balanced_accuracy': 0.4065463332892884, 'mcc': 0.5860888657335361, 'train_loss': 0.37036754230835606}\n",
      "Epoch 14/20\n"
     ]
    },
    {
     "name": "stderr",
     "output_type": "stream",
     "text": [
      "100%|██████████| 476/476 [03:32<00:00,  2.23it/s]\n"
     ]
    },
    {
     "name": "stdout",
     "output_type": "stream",
     "text": [
      "{'val_loss': 1.579027661175098, 'val_accuracy': 0.6745562130177515, 'precision': 0.6785574545187765, 'recall': 0.6745562130177515, 'f1-score': 0.6581499127322951, 'macro_f1-score': 0.3995227170285089, 'balanced_accuracy': 0.42473010873771244, 'mcc': 0.570758328375039, 'train_loss': 0.32959325567764397}\n",
      "Early stopping.\n",
      "\n",
      "[Fold 7]\n",
      "model is roberta-base cnn\n"
     ]
    },
    {
     "name": "stderr",
     "output_type": "stream",
     "text": [
      "Some weights of RobertaModel were not initialized from the model checkpoint at roberta-base and are newly initialized: ['roberta.pooler.dense.bias', 'roberta.pooler.dense.weight']\n",
      "You should probably TRAIN this model on a down-stream task to be able to use it for predictions and inference.\n"
     ]
    },
    {
     "name": "stdout",
     "output_type": "stream",
     "text": [
      "Epoch 1/20\n"
     ]
    },
    {
     "name": "stderr",
     "output_type": "stream",
     "text": [
      "100%|██████████| 476/476 [03:32<00:00,  2.23it/s]\n"
     ]
    },
    {
     "name": "stdout",
     "output_type": "stream",
     "text": [
      "{'val_loss': 1.6646314252097651, 'val_accuracy': 0.578698224852071, 'precision': 0.48009142391131454, 'recall': 0.578698224852071, 'f1-score': 0.5008040794431861, 'macro_f1-score': 0.10254862640599934, 'balanced_accuracy': 0.11979284040619845, 'mcc': 0.4047805597758586, 'train_loss': 1.9988850798426556}\n",
      "Epoch 2/20\n"
     ]
    },
    {
     "name": "stderr",
     "output_type": "stream",
     "text": [
      "100%|██████████| 476/476 [03:32<00:00,  2.23it/s]\n"
     ]
    },
    {
     "name": "stdout",
     "output_type": "stream",
     "text": [
      "{'val_loss': 1.4759608822048835, 'val_accuracy': 0.5952662721893491, 'precision': 0.5211362225980027, 'recall': 0.5952662721893491, 'f1-score': 0.5296915591382945, 'macro_f1-score': 0.1463177300591604, 'balanced_accuracy': 0.1700871564802393, 'mcc': 0.4416835771491463, 'train_loss': 1.5222534194839101}\n",
      "Epoch 3/20\n"
     ]
    },
    {
     "name": "stderr",
     "output_type": "stream",
     "text": [
      "100%|██████████| 476/476 [03:32<00:00,  2.24it/s]\n"
     ]
    },
    {
     "name": "stdout",
     "output_type": "stream",
     "text": [
      "{'val_loss': 1.3483368338279005, 'val_accuracy': 0.6437869822485207, 'precision': 0.5808976499596691, 'recall': 0.6437869822485207, 'f1-score': 0.58352628741877, 'macro_f1-score': 0.19597338277619472, 'balanced_accuracy': 0.19049441353864624, 'mcc': 0.5051027280530295, 'train_loss': 1.3035792861165119}\n",
      "Epoch 4/20\n"
     ]
    },
    {
     "name": "stderr",
     "output_type": "stream",
     "text": [
      "100%|██████████| 476/476 [03:32<00:00,  2.24it/s]\n"
     ]
    },
    {
     "name": "stdout",
     "output_type": "stream",
     "text": [
      "{'val_loss': 1.2904410564674522, 'val_accuracy': 0.6473372781065089, 'precision': 0.6259561788772687, 'recall': 0.6473372781065089, 'f1-score': 0.6177019128103372, 'macro_f1-score': 0.2653816334147511, 'balanced_accuracy': 0.29149291186895565, 'mcc': 0.5353809901707155, 'train_loss': 1.1121750355643385}\n",
      "Epoch 5/20\n"
     ]
    },
    {
     "name": "stderr",
     "output_type": "stream",
     "text": [
      "100%|██████████| 476/476 [03:33<00:00,  2.23it/s]\n"
     ]
    },
    {
     "name": "stdout",
     "output_type": "stream",
     "text": [
      "{'val_loss': 1.2003281448247298, 'val_accuracy': 0.6579881656804734, 'precision': 0.6433120043785849, 'recall': 0.6579881656804734, 'f1-score': 0.6322337950029073, 'macro_f1-score': 0.3075271648319169, 'balanced_accuracy': 0.3201414125785339, 'mcc': 0.5426790367155866, 'train_loss': 0.9661546416361543}\n",
      "Epoch 6/20\n"
     ]
    },
    {
     "name": "stderr",
     "output_type": "stream",
     "text": [
      "100%|██████████| 476/476 [03:32<00:00,  2.24it/s]\n"
     ]
    },
    {
     "name": "stdout",
     "output_type": "stream",
     "text": [
      "{'val_loss': 1.2730796935985673, 'val_accuracy': 0.6414201183431952, 'precision': 0.6838640653739781, 'recall': 0.6414201183431952, 'f1-score': 0.6380776155157278, 'macro_f1-score': 0.3361182422752772, 'balanced_accuracy': 0.3689432211438959, 'mcc': 0.5416014736191167, 'train_loss': 0.804522431760776}\n",
      "Epoch 7/20\n"
     ]
    },
    {
     "name": "stderr",
     "output_type": "stream",
     "text": [
      "100%|██████████| 476/476 [03:33<00:00,  2.23it/s]\n"
     ]
    },
    {
     "name": "stdout",
     "output_type": "stream",
     "text": [
      "{'val_loss': 1.3545948609990894, 'val_accuracy': 0.6390532544378699, 'precision': 0.6510768938449458, 'recall': 0.6390532544378699, 'f1-score': 0.6274334962608301, 'macro_f1-score': 0.3174071436203214, 'balanced_accuracy': 0.3542091251144734, 'mcc': 0.5338566497670343, 'train_loss': 0.7123759878063652}\n",
      "Epoch 8/20\n"
     ]
    },
    {
     "name": "stderr",
     "output_type": "stream",
     "text": [
      "100%|██████████| 476/476 [03:32<00:00,  2.24it/s]\n"
     ]
    },
    {
     "name": "stdout",
     "output_type": "stream",
     "text": [
      "{'val_loss': 1.2669171682506237, 'val_accuracy': 0.6745562130177515, 'precision': 0.65488921192019, 'recall': 0.6745562130177515, 'f1-score': 0.6483598117362986, 'macro_f1-score': 0.3554114300033423, 'balanced_accuracy': 0.36493024003799457, 'mcc': 0.5689463788570193, 'train_loss': 0.6059081901976165}\n",
      "Epoch 9/20\n"
     ]
    },
    {
     "name": "stderr",
     "output_type": "stream",
     "text": [
      "100%|██████████| 476/476 [03:32<00:00,  2.24it/s]\n"
     ]
    },
    {
     "name": "stdout",
     "output_type": "stream",
     "text": [
      "{'val_loss': 1.3173452745068748, 'val_accuracy': 0.6686390532544378, 'precision': 0.654711692889687, 'recall': 0.6686390532544378, 'f1-score': 0.6446068479520116, 'macro_f1-score': 0.3386009681935727, 'balanced_accuracy': 0.3430035380439252, 'mcc': 0.5615410808086335, 'train_loss': 0.5382536218947723}\n",
      "Epoch 10/20\n"
     ]
    },
    {
     "name": "stderr",
     "output_type": "stream",
     "text": [
      "100%|██████████| 476/476 [03:32<00:00,  2.24it/s]\n"
     ]
    },
    {
     "name": "stdout",
     "output_type": "stream",
     "text": [
      "{'val_loss': 1.3946886110418248, 'val_accuracy': 0.6792899408284023, 'precision': 0.6748304149415452, 'recall': 0.6792899408284023, 'f1-score': 0.6515094658563974, 'macro_f1-score': 0.366241529048286, 'balanced_accuracy': 0.38692594554215776, 'mcc': 0.5740730538388253, 'train_loss': 0.4637717760496718}\n",
      "Epoch 11/20\n"
     ]
    },
    {
     "name": "stderr",
     "output_type": "stream",
     "text": [
      "100%|██████████| 476/476 [03:32<00:00,  2.24it/s]\n"
     ]
    },
    {
     "name": "stdout",
     "output_type": "stream",
     "text": [
      "{'val_loss': 1.3884864910593573, 'val_accuracy': 0.6248520710059171, 'precision': 0.6881448043040335, 'recall': 0.6248520710059171, 'f1-score': 0.6389740894222855, 'macro_f1-score': 0.34255449064739196, 'balanced_accuracy': 0.37776471960982827, 'mcc': 0.5231471201814494, 'train_loss': 0.43264297362096105}\n",
      "Epoch 12/20\n"
     ]
    },
    {
     "name": "stderr",
     "output_type": "stream",
     "text": [
      "100%|██████████| 476/476 [03:33<00:00,  2.23it/s]\n"
     ]
    },
    {
     "name": "stdout",
     "output_type": "stream",
     "text": [
      "{'val_loss': 1.4257583404487033, 'val_accuracy': 0.6568047337278107, 'precision': 0.6920926626977401, 'recall': 0.6568047337278107, 'f1-score': 0.6554837223016827, 'macro_f1-score': 0.38727718084934487, 'balanced_accuracy': 0.4167564742372314, 'mcc': 0.5620414925351241, 'train_loss': 0.39022983987659154}\n",
      "Epoch 13/20\n"
     ]
    },
    {
     "name": "stderr",
     "output_type": "stream",
     "text": [
      "100%|██████████| 476/476 [03:32<00:00,  2.24it/s]\n"
     ]
    },
    {
     "name": "stdout",
     "output_type": "stream",
     "text": [
      "{'val_loss': 1.526425062766615, 'val_accuracy': 0.6402366863905326, 'precision': 0.6472308028979646, 'recall': 0.6402366863905326, 'f1-score': 0.6239723159294809, 'macro_f1-score': 0.34379348986957686, 'balanced_accuracy': 0.3495849223661579, 'mcc': 0.5200033508173872, 'train_loss': 0.38159584080675196}\n",
      "Epoch 14/20\n"
     ]
    },
    {
     "name": "stderr",
     "output_type": "stream",
     "text": [
      "100%|██████████| 476/476 [03:32<00:00,  2.24it/s]\n"
     ]
    },
    {
     "name": "stdout",
     "output_type": "stream",
     "text": [
      "{'val_loss': 1.4613072770946431, 'val_accuracy': 0.6556213017751479, 'precision': 0.6781788778279103, 'recall': 0.6556213017751479, 'f1-score': 0.6519383611433002, 'macro_f1-score': 0.40607910035057493, 'balanced_accuracy': 0.41734522137048363, 'mcc': 0.5514834192164055, 'train_loss': 0.3404292141599972}\n",
      "Epoch 15/20\n"
     ]
    },
    {
     "name": "stderr",
     "output_type": "stream",
     "text": [
      "100%|██████████| 476/476 [03:32<00:00,  2.24it/s]\n"
     ]
    },
    {
     "name": "stdout",
     "output_type": "stream",
     "text": [
      "{'val_loss': 1.4457800843805637, 'val_accuracy': 0.6674556213017752, 'precision': 0.6511938899964062, 'recall': 0.6674556213017752, 'f1-score': 0.6422063964762166, 'macro_f1-score': 0.37098925461184457, 'balanced_accuracy': 0.3758217018709116, 'mcc': 0.5599463073606854, 'train_loss': 0.31340535351040016}\n",
      "Epoch 16/20\n"
     ]
    },
    {
     "name": "stderr",
     "output_type": "stream",
     "text": [
      "100%|██████████| 476/476 [03:32<00:00,  2.24it/s]\n"
     ]
    },
    {
     "name": "stdout",
     "output_type": "stream",
     "text": [
      "{'val_loss': 1.582053152176569, 'val_accuracy': 0.650887573964497, 'precision': 0.680724606738765, 'recall': 0.650887573964497, 'f1-score': 0.6493391720122756, 'macro_f1-score': 0.3953877644873352, 'balanced_accuracy': 0.40447155879318863, 'mcc': 0.5445578997804013, 'train_loss': 0.2945050237805019}\n",
      "Epoch 17/20\n"
     ]
    },
    {
     "name": "stderr",
     "output_type": "stream",
     "text": [
      "100%|██████████| 476/476 [03:32<00:00,  2.24it/s]\n"
     ]
    },
    {
     "name": "stdout",
     "output_type": "stream",
     "text": [
      "{'val_loss': 1.511156087495246, 'val_accuracy': 0.685207100591716, 'precision': 0.6947392585268856, 'recall': 0.685207100591716, 'f1-score': 0.6678692261309269, 'macro_f1-score': 0.4217047265597855, 'balanced_accuracy': 0.42965116099439704, 'mcc': 0.5829618519088594, 'train_loss': 0.2782408337415971}\n",
      "Epoch 18/20\n"
     ]
    },
    {
     "name": "stderr",
     "output_type": "stream",
     "text": [
      "100%|██████████| 476/476 [03:32<00:00,  2.24it/s]\n"
     ]
    },
    {
     "name": "stdout",
     "output_type": "stream",
     "text": [
      "{'val_loss': 1.660232202905529, 'val_accuracy': 0.6627218934911243, 'precision': 0.6652923384906011, 'recall': 0.6627218934911243, 'f1-score': 0.6410236509762987, 'macro_f1-score': 0.35021519882240887, 'balanced_accuracy': 0.3910428306703856, 'mcc': 0.5662664921443308, 'train_loss': 0.27935249985884403}\n",
      "Epoch 19/20\n"
     ]
    },
    {
     "name": "stderr",
     "output_type": "stream",
     "text": [
      "100%|██████████| 476/476 [03:32<00:00,  2.24it/s]\n"
     ]
    },
    {
     "name": "stdout",
     "output_type": "stream",
     "text": [
      "{'val_loss': 1.5998953384048533, 'val_accuracy': 0.6710059171597633, 'precision': 0.6948979643637241, 'recall': 0.6710059171597633, 'f1-score': 0.6625470063814555, 'macro_f1-score': 0.38481214165813005, 'balanced_accuracy': 0.4135087496635205, 'mcc': 0.5790726984017772, 'train_loss': 0.27241597053528366}\n",
      "Epoch 20/20\n"
     ]
    },
    {
     "name": "stderr",
     "output_type": "stream",
     "text": [
      "100%|██████████| 476/476 [03:32<00:00,  2.24it/s]\n"
     ]
    },
    {
     "name": "stdout",
     "output_type": "stream",
     "text": [
      "{'val_loss': 1.6075400327736478, 'val_accuracy': 0.6603550295857988, 'precision': 0.6992317733421562, 'recall': 0.6603550295857988, 'f1-score': 0.6590590754188789, 'macro_f1-score': 0.3980664615747776, 'balanced_accuracy': 0.39418242783692053, 'mcc': 0.5568699903360499, 'train_loss': 0.2756868971681942}\n",
      "Early stopping.\n",
      "\n",
      "[Fold 8]\n",
      "model is roberta-base cnn\n"
     ]
    },
    {
     "name": "stderr",
     "output_type": "stream",
     "text": [
      "Some weights of RobertaModel were not initialized from the model checkpoint at roberta-base and are newly initialized: ['roberta.pooler.dense.bias', 'roberta.pooler.dense.weight']\n",
      "You should probably TRAIN this model on a down-stream task to be able to use it for predictions and inference.\n"
     ]
    },
    {
     "name": "stdout",
     "output_type": "stream",
     "text": [
      "Epoch 1/20\n"
     ]
    },
    {
     "name": "stderr",
     "output_type": "stream",
     "text": [
      "100%|██████████| 476/476 [03:32<00:00,  2.24it/s]\n"
     ]
    },
    {
     "name": "stdout",
     "output_type": "stream",
     "text": [
      "{'val_loss': 1.5684305159550793, 'val_accuracy': 0.6035502958579881, 'precision': 0.4659117040748433, 'recall': 0.6035502958579881, 'f1-score': 0.49601489205643357, 'macro_f1-score': 0.09277070137998705, 'balanced_accuracy': 0.10771403560819644, 'mcc': 0.43516837685150234, 'train_loss': 1.9807845281452692}\n",
      "Epoch 2/20\n"
     ]
    },
    {
     "name": "stderr",
     "output_type": "stream",
     "text": [
      "100%|██████████| 476/476 [03:32<00:00,  2.24it/s]\n"
     ]
    },
    {
     "name": "stdout",
     "output_type": "stream",
     "text": [
      "{'val_loss': 1.3605607455631472, 'val_accuracy': 0.6437869822485207, 'precision': 0.5526020989731735, 'recall': 0.6437869822485207, 'f1-score': 0.5735459410249727, 'macro_f1-score': 0.1761172460350587, 'balanced_accuracy': 0.17550527745794972, 'mcc': 0.49937789458826354, 'train_loss': 1.496087255097237}\n",
      "Epoch 3/20\n"
     ]
    },
    {
     "name": "stderr",
     "output_type": "stream",
     "text": [
      "100%|██████████| 476/476 [03:32<00:00,  2.24it/s]\n"
     ]
    },
    {
     "name": "stdout",
     "output_type": "stream",
     "text": [
      "{'val_loss': 1.2500387728214264, 'val_accuracy': 0.6485207100591716, 'precision': 0.6107950501736464, 'recall': 0.6485207100591716, 'f1-score': 0.6174252269389303, 'macro_f1-score': 0.22803859735795917, 'balanced_accuracy': 0.2415521601907596, 'mcc': 0.5319083294612806, 'train_loss': 1.249642468613236}\n",
      "Epoch 4/20\n"
     ]
    },
    {
     "name": "stderr",
     "output_type": "stream",
     "text": [
      "100%|██████████| 476/476 [03:32<00:00,  2.24it/s]\n"
     ]
    },
    {
     "name": "stdout",
     "output_type": "stream",
     "text": [
      "{'val_loss': 1.2082696467075709, 'val_accuracy': 0.663905325443787, 'precision': 0.63655926141041, 'recall': 0.663905325443787, 'f1-score': 0.6343484413266113, 'macro_f1-score': 0.26149952943667965, 'balanced_accuracy': 0.2604405259291791, 'mcc': 0.5517475356300529, 'train_loss': 1.0565855444228949}\n",
      "Epoch 5/20\n"
     ]
    },
    {
     "name": "stderr",
     "output_type": "stream",
     "text": [
      "100%|██████████| 476/476 [03:32<00:00,  2.24it/s]\n"
     ]
    },
    {
     "name": "stdout",
     "output_type": "stream",
     "text": [
      "{'val_loss': 1.1304609348189156, 'val_accuracy': 0.6875739644970414, 'precision': 0.6539420435274115, 'recall': 0.6875739644970414, 'f1-score': 0.6541600688431595, 'macro_f1-score': 0.3379524410184967, 'balanced_accuracy': 0.32080794395329176, 'mcc': 0.5780036282498308, 'train_loss': 0.8786408349308146}\n",
      "Epoch 6/20\n"
     ]
    },
    {
     "name": "stderr",
     "output_type": "stream",
     "text": [
      "100%|██████████| 476/476 [03:32<00:00,  2.24it/s]\n"
     ]
    },
    {
     "name": "stdout",
     "output_type": "stream",
     "text": [
      "{'val_loss': 1.2274209913217797, 'val_accuracy': 0.6911242603550296, 'precision': 0.6697348095813, 'recall': 0.6911242603550296, 'f1-score': 0.6708192037881044, 'macro_f1-score': 0.3701242063684088, 'balanced_accuracy': 0.37261744245662515, 'mcc': 0.592434716201149, 'train_loss': 0.758177388490749}\n",
      "Epoch 7/20\n"
     ]
    },
    {
     "name": "stderr",
     "output_type": "stream",
     "text": [
      "100%|██████████| 476/476 [03:32<00:00,  2.24it/s]\n"
     ]
    },
    {
     "name": "stdout",
     "output_type": "stream",
     "text": [
      "{'val_loss': 1.2816835641860962, 'val_accuracy': 0.6792899408284023, 'precision': 0.6811846998035337, 'recall': 0.6792899408284023, 'f1-score': 0.666962563654505, 'macro_f1-score': 0.3469839438355791, 'balanced_accuracy': 0.3581665602854922, 'mcc': 0.5849164722193351, 'train_loss': 0.6387209641207167}\n",
      "Epoch 8/20\n"
     ]
    },
    {
     "name": "stderr",
     "output_type": "stream",
     "text": [
      "100%|██████████| 476/476 [03:32<00:00,  2.24it/s]\n"
     ]
    },
    {
     "name": "stdout",
     "output_type": "stream",
     "text": [
      "{'val_loss': 1.2979814854432952, 'val_accuracy': 0.6875739644970414, 'precision': 0.6702081492014207, 'recall': 0.6875739644970414, 'f1-score': 0.6597085571491387, 'macro_f1-score': 0.3730420769210007, 'balanced_accuracy': 0.3718516082938357, 'mcc': 0.5803203760441942, 'train_loss': 0.5448099336266017}\n",
      "Epoch 9/20\n"
     ]
    },
    {
     "name": "stderr",
     "output_type": "stream",
     "text": [
      "100%|██████████| 476/476 [03:33<00:00,  2.23it/s]\n"
     ]
    },
    {
     "name": "stdout",
     "output_type": "stream",
     "text": [
      "{'val_loss': 1.2826845128581208, 'val_accuracy': 0.6840236686390533, 'precision': 0.6851907581857021, 'recall': 0.6840236686390533, 'f1-score': 0.6708722270926449, 'macro_f1-score': 0.39372247455381215, 'balanced_accuracy': 0.3948588737398376, 'mcc': 0.5870672630636512, 'train_loss': 0.47424998759691206}\n",
      "Epoch 10/20\n"
     ]
    },
    {
     "name": "stderr",
     "output_type": "stream",
     "text": [
      "100%|██████████| 476/476 [03:32<00:00,  2.24it/s]\n"
     ]
    },
    {
     "name": "stdout",
     "output_type": "stream",
     "text": [
      "{'val_loss': 1.507448819448363, 'val_accuracy': 0.6177514792899408, 'precision': 0.6822897090414997, 'recall': 0.6177514792899408, 'f1-score': 0.6230332878320239, 'macro_f1-score': 0.35829571476213823, 'balanced_accuracy': 0.39223433537103264, 'mcc': 0.5277526858751552, 'train_loss': 0.4143697407112277}\n",
      "Epoch 11/20\n"
     ]
    },
    {
     "name": "stderr",
     "output_type": "stream",
     "text": [
      "100%|██████████| 476/476 [03:32<00:00,  2.24it/s]\n"
     ]
    },
    {
     "name": "stdout",
     "output_type": "stream",
     "text": [
      "{'val_loss': 1.3479388558639671, 'val_accuracy': 0.6804733727810651, 'precision': 0.6824075832415701, 'recall': 0.6804733727810651, 'f1-score': 0.6731383866551816, 'macro_f1-score': 0.4055974559534174, 'balanced_accuracy': 0.41711047980770355, 'mcc': 0.5784560177802942, 'train_loss': 0.3899485621476123}\n",
      "Epoch 12/20\n"
     ]
    },
    {
     "name": "stderr",
     "output_type": "stream",
     "text": [
      "100%|██████████| 476/476 [03:32<00:00,  2.24it/s]\n"
     ]
    },
    {
     "name": "stdout",
     "output_type": "stream",
     "text": [
      "{'val_loss': 1.4395067185725805, 'val_accuracy': 0.676923076923077, 'precision': 0.6879869328406751, 'recall': 0.676923076923077, 'f1-score': 0.6702187454131928, 'macro_f1-score': 0.40888850407375216, 'balanced_accuracy': 0.41180175387040985, 'mcc': 0.5764864571212447, 'train_loss': 0.33400296083917574}\n",
      "Epoch 13/20\n"
     ]
    },
    {
     "name": "stderr",
     "output_type": "stream",
     "text": [
      "100%|██████████| 476/476 [03:32<00:00,  2.24it/s]\n"
     ]
    },
    {
     "name": "stdout",
     "output_type": "stream",
     "text": [
      "{'val_loss': 1.539252424015189, 'val_accuracy': 0.6627218934911243, 'precision': 0.6789875265399743, 'recall': 0.6627218934911243, 'f1-score': 0.6524807062575475, 'macro_f1-score': 0.4001105244520449, 'balanced_accuracy': 0.41643734845954894, 'mcc': 0.5637179257390849, 'train_loss': 0.3435963813544196}\n",
      "Epoch 14/20\n"
     ]
    },
    {
     "name": "stderr",
     "output_type": "stream",
     "text": [
      "100%|██████████| 476/476 [03:32<00:00,  2.24it/s]\n"
     ]
    },
    {
     "name": "stdout",
     "output_type": "stream",
     "text": [
      "{'val_loss': 1.5859620992867451, 'val_accuracy': 0.6733727810650888, 'precision': 0.6708306980162012, 'recall': 0.6733727810650888, 'f1-score': 0.6534674790738545, 'macro_f1-score': 0.3614029915415712, 'balanced_accuracy': 0.35418429444035376, 'mcc': 0.5653027865291411, 'train_loss': 0.30671777039523695}\n",
      "Epoch 15/20\n"
     ]
    },
    {
     "name": "stderr",
     "output_type": "stream",
     "text": [
      "100%|██████████| 476/476 [03:32<00:00,  2.24it/s]\n"
     ]
    },
    {
     "name": "stdout",
     "output_type": "stream",
     "text": [
      "{'val_loss': 1.6076121667646013, 'val_accuracy': 0.6603550295857988, 'precision': 0.692483704839577, 'recall': 0.6603550295857988, 'f1-score': 0.6650067108742127, 'macro_f1-score': 0.42385761669991817, 'balanced_accuracy': 0.4441224761516898, 'mcc': 0.5712749842290793, 'train_loss': 0.2748267613400259}\n",
      "Epoch 16/20\n"
     ]
    },
    {
     "name": "stderr",
     "output_type": "stream",
     "text": [
      "100%|██████████| 476/476 [03:32<00:00,  2.24it/s]\n"
     ]
    },
    {
     "name": "stdout",
     "output_type": "stream",
     "text": [
      "{'val_loss': 1.6655864524391462, 'val_accuracy': 0.6485207100591716, 'precision': 0.675810903136292, 'recall': 0.6485207100591716, 'f1-score': 0.6486554120675776, 'macro_f1-score': 0.3909616283442879, 'balanced_accuracy': 0.4277480876651046, 'mcc': 0.5566939887487166, 'train_loss': 0.2768922997286402}\n",
      "Epoch 17/20\n"
     ]
    },
    {
     "name": "stderr",
     "output_type": "stream",
     "text": [
      "100%|██████████| 476/476 [03:32<00:00,  2.24it/s]\n"
     ]
    },
    {
     "name": "stdout",
     "output_type": "stream",
     "text": [
      "{'val_loss': 1.6006101437334745, 'val_accuracy': 0.672189349112426, 'precision': 0.6800886543636159, 'recall': 0.672189349112426, 'f1-score': 0.6613655658519279, 'macro_f1-score': 0.39125259455074846, 'balanced_accuracy': 0.3913266487169389, 'mcc': 0.5673229139499075, 'train_loss': 0.2747230633120874}\n",
      "Epoch 18/20\n"
     ]
    },
    {
     "name": "stderr",
     "output_type": "stream",
     "text": [
      "100%|██████████| 476/476 [03:32<00:00,  2.24it/s]\n"
     ]
    },
    {
     "name": "stdout",
     "output_type": "stream",
     "text": [
      "{'val_loss': 1.661652555443206, 'val_accuracy': 0.6828402366863905, 'precision': 0.6966711236763625, 'recall': 0.6828402366863905, 'f1-score': 0.6802392905233787, 'macro_f1-score': 0.42958486789659633, 'balanced_accuracy': 0.4418569729966334, 'mcc': 0.5909837258385978, 'train_loss': 0.24805033022338258}\n",
      "Epoch 19/20\n"
     ]
    },
    {
     "name": "stderr",
     "output_type": "stream",
     "text": [
      "100%|██████████| 476/476 [03:32<00:00,  2.24it/s]\n"
     ]
    },
    {
     "name": "stdout",
     "output_type": "stream",
     "text": [
      "{'val_loss': 1.716793326836712, 'val_accuracy': 0.676923076923077, 'precision': 0.6845323569892646, 'recall': 0.676923076923077, 'f1-score': 0.6731782806508766, 'macro_f1-score': 0.4094419218714536, 'balanced_accuracy': 0.4167689268227063, 'mcc': 0.5793617556974163, 'train_loss': 0.2527189614621046}\n",
      "Epoch 20/20\n"
     ]
    },
    {
     "name": "stderr",
     "output_type": "stream",
     "text": [
      "100%|██████████| 476/476 [03:32<00:00,  2.24it/s]\n"
     ]
    },
    {
     "name": "stdout",
     "output_type": "stream",
     "text": [
      "{'val_loss': 1.76042396504924, 'val_accuracy': 0.6863905325443787, 'precision': 0.679330732744289, 'recall': 0.6863905325443787, 'f1-score': 0.6633681952487882, 'macro_f1-score': 0.3852428605163791, 'balanced_accuracy': 0.3687088959366375, 'mcc': 0.5752315121172922, 'train_loss': 0.2547445107738589}\n",
      "\n",
      "[Fold 9]\n",
      "model is roberta-base cnn\n"
     ]
    },
    {
     "name": "stderr",
     "output_type": "stream",
     "text": [
      "Some weights of RobertaModel were not initialized from the model checkpoint at roberta-base and are newly initialized: ['roberta.pooler.dense.bias', 'roberta.pooler.dense.weight']\n",
      "You should probably TRAIN this model on a down-stream task to be able to use it for predictions and inference.\n"
     ]
    },
    {
     "name": "stdout",
     "output_type": "stream",
     "text": [
      "Epoch 1/20\n"
     ]
    },
    {
     "name": "stderr",
     "output_type": "stream",
     "text": [
      "100%|██████████| 476/476 [03:32<00:00,  2.24it/s]\n"
     ]
    },
    {
     "name": "stdout",
     "output_type": "stream",
     "text": [
      "{'val_loss': 1.6681701147331383, 'val_accuracy': 0.591715976331361, 'precision': 0.4329568546604725, 'recall': 0.591715976331361, 'f1-score': 0.49120705507245743, 'macro_f1-score': 0.11508311225141885, 'balanced_accuracy': 0.12648857670885122, 'mcc': 0.41012456634712807, 'train_loss': 1.9686940596634601}\n",
      "Epoch 2/20\n"
     ]
    },
    {
     "name": "stderr",
     "output_type": "stream",
     "text": [
      "100%|██████████| 476/476 [03:32<00:00,  2.24it/s]\n"
     ]
    },
    {
     "name": "stdout",
     "output_type": "stream",
     "text": [
      "{'val_loss': 1.4196324545257497, 'val_accuracy': 0.6378698224852071, 'precision': 0.5306076801585852, 'recall': 0.6378698224852071, 'f1-score': 0.5654290187263578, 'macro_f1-score': 0.15741232661936366, 'balanced_accuracy': 0.17149347667930923, 'mcc': 0.5023474373230875, 'train_loss': 1.5060552990987521}\n",
      "Epoch 3/20\n"
     ]
    },
    {
     "name": "stderr",
     "output_type": "stream",
     "text": [
      "100%|██████████| 476/476 [03:32<00:00,  2.24it/s]\n"
     ]
    },
    {
     "name": "stdout",
     "output_type": "stream",
     "text": [
      "{'val_loss': 1.2802983421199727, 'val_accuracy': 0.6627218934911243, 'precision': 0.6377354610803686, 'recall': 0.6627218934911243, 'f1-score': 0.622739405841613, 'macro_f1-score': 0.23200628189632902, 'balanced_accuracy': 0.23311176680091503, 'mcc': 0.5430608234639406, 'train_loss': 1.2555004203645121}\n",
      "Epoch 4/20\n"
     ]
    },
    {
     "name": "stderr",
     "output_type": "stream",
     "text": [
      "100%|██████████| 476/476 [03:32<00:00,  2.24it/s]\n"
     ]
    },
    {
     "name": "stdout",
     "output_type": "stream",
     "text": [
      "{'val_loss': 1.2749220020366165, 'val_accuracy': 0.6650887573964497, 'precision': 0.6163596647096503, 'recall': 0.6650887573964497, 'f1-score': 0.6290170164173189, 'macro_f1-score': 0.24833927266403877, 'balanced_accuracy': 0.25004559429558143, 'mcc': 0.5492831058788159, 'train_loss': 1.0759773816631621}\n",
      "Epoch 5/20\n"
     ]
    },
    {
     "name": "stderr",
     "output_type": "stream",
     "text": [
      "100%|██████████| 476/476 [03:32<00:00,  2.24it/s]\n"
     ]
    },
    {
     "name": "stdout",
     "output_type": "stream",
     "text": [
      "{'val_loss': 1.1811366379261017, 'val_accuracy': 0.676923076923077, 'precision': 0.6687442325071383, 'recall': 0.676923076923077, 'f1-score': 0.6588013511796353, 'macro_f1-score': 0.3037311290575104, 'balanced_accuracy': 0.3128416234690331, 'mcc': 0.5718815291775227, 'train_loss': 0.9144688983048711}\n",
      "Epoch 6/20\n"
     ]
    },
    {
     "name": "stderr",
     "output_type": "stream",
     "text": [
      "100%|██████████| 476/476 [03:32<00:00,  2.24it/s]\n"
     ]
    },
    {
     "name": "stdout",
     "output_type": "stream",
     "text": [
      "{'val_loss': 1.2274589982797515, 'val_accuracy': 0.6863905325443787, 'precision': 0.6671693137509556, 'recall': 0.6863905325443787, 'f1-score': 0.6609051868433913, 'macro_f1-score': 0.3208802095134471, 'balanced_accuracy': 0.33499634472235096, 'mcc': 0.5812672518013893, 'train_loss': 0.7724175772340107}\n",
      "Epoch 7/20\n"
     ]
    },
    {
     "name": "stderr",
     "output_type": "stream",
     "text": [
      "100%|██████████| 476/476 [03:33<00:00,  2.23it/s]\n"
     ]
    },
    {
     "name": "stdout",
     "output_type": "stream",
     "text": [
      "{'val_loss': 1.327185090982689, 'val_accuracy': 0.685207100591716, 'precision': 0.6680478939839575, 'recall': 0.685207100591716, 'f1-score': 0.6538128522537636, 'macro_f1-score': 0.3164416012234963, 'balanced_accuracy': 0.31217878467711396, 'mcc': 0.5769351418770048, 'train_loss': 0.6536100322396314}\n",
      "Epoch 8/20\n"
     ]
    },
    {
     "name": "stderr",
     "output_type": "stream",
     "text": [
      "100%|██████████| 476/476 [03:32<00:00,  2.24it/s]\n"
     ]
    },
    {
     "name": "stdout",
     "output_type": "stream",
     "text": [
      "{'val_loss': 1.3035726648456645, 'val_accuracy': 0.6899408284023668, 'precision': 0.6742754922707641, 'recall': 0.6899408284023668, 'f1-score': 0.6704409458002697, 'macro_f1-score': 0.35086266547098977, 'balanced_accuracy': 0.3477789467225544, 'mcc': 0.5883036193683138, 'train_loss': 0.562566199754717}\n",
      "Epoch 9/20\n"
     ]
    },
    {
     "name": "stderr",
     "output_type": "stream",
     "text": [
      "100%|██████████| 476/476 [03:32<00:00,  2.24it/s]\n"
     ]
    },
    {
     "name": "stdout",
     "output_type": "stream",
     "text": [
      "{'val_loss': 1.356463668481359, 'val_accuracy': 0.6781065088757396, 'precision': 0.6992923547823343, 'recall': 0.6781065088757396, 'f1-score': 0.6795376940699547, 'macro_f1-score': 0.35797071745535497, 'balanced_accuracy': 0.38076134176144455, 'mcc': 0.5919187275424745, 'train_loss': 0.49176304760005546}\n",
      "Epoch 10/20\n"
     ]
    },
    {
     "name": "stderr",
     "output_type": "stream",
     "text": [
      "100%|██████████| 476/476 [03:32<00:00,  2.24it/s]\n"
     ]
    },
    {
     "name": "stdout",
     "output_type": "stream",
     "text": [
      "{'val_loss': 1.3341066072571952, 'val_accuracy': 0.6923076923076923, 'precision': 0.6877176504408091, 'recall': 0.6923076923076923, 'f1-score': 0.6777799130866533, 'macro_f1-score': 0.3709922584307792, 'balanced_accuracy': 0.36911396436688165, 'mcc': 0.5935121100875251, 'train_loss': 0.4513749488152}\n",
      "Epoch 11/20\n"
     ]
    },
    {
     "name": "stderr",
     "output_type": "stream",
     "text": [
      "100%|██████████| 476/476 [03:32<00:00,  2.24it/s]\n"
     ]
    },
    {
     "name": "stdout",
     "output_type": "stream",
     "text": [
      "{'val_loss': 1.4017954030126896, 'val_accuracy': 0.6946745562130178, 'precision': 0.6998305818113348, 'recall': 0.6946745562130178, 'f1-score': 0.6867333267699952, 'macro_f1-score': 0.3893194199237825, 'balanced_accuracy': 0.39046820226843876, 'mcc': 0.6035762279559664, 'train_loss': 0.3842365312577859}\n",
      "Epoch 12/20\n"
     ]
    },
    {
     "name": "stderr",
     "output_type": "stream",
     "text": [
      "100%|██████████| 476/476 [03:32<00:00,  2.24it/s]\n",
      "D:\\Anaconda3\\envs\\cuda\\Lib\\site-packages\\sklearn\\metrics\\_classification.py:2458: UserWarning: y_pred contains classes not in y_true\n",
      "  warnings.warn(\"y_pred contains classes not in y_true\")\n"
     ]
    },
    {
     "name": "stdout",
     "output_type": "stream",
     "text": [
      "{'val_loss': 1.503259057143949, 'val_accuracy': 0.6710059171597633, 'precision': 0.6914887778125037, 'recall': 0.6710059171597633, 'f1-score': 0.6707224001831411, 'macro_f1-score': 0.36350483425077457, 'balanced_accuracy': 0.3928311410255069, 'mcc': 0.5779337259290154, 'train_loss': 0.3665828710429746}\n",
      "Epoch 13/20\n"
     ]
    },
    {
     "name": "stderr",
     "output_type": "stream",
     "text": [
      "100%|██████████| 476/476 [03:32<00:00,  2.24it/s]\n",
      "D:\\Anaconda3\\envs\\cuda\\Lib\\site-packages\\sklearn\\metrics\\_classification.py:2458: UserWarning: y_pred contains classes not in y_true\n",
      "  warnings.warn(\"y_pred contains classes not in y_true\")\n"
     ]
    },
    {
     "name": "stdout",
     "output_type": "stream",
     "text": [
      "{'val_loss': 1.4679407111878664, 'val_accuracy': 0.6828402366863905, 'precision': 0.6834739260302052, 'recall': 0.6828402366863905, 'f1-score': 0.6718553788152262, 'macro_f1-score': 0.35552565715461243, 'balanced_accuracy': 0.36453080633104284, 'mcc': 0.585997507138743, 'train_loss': 0.35037329331423867}\n",
      "Epoch 14/20\n"
     ]
    },
    {
     "name": "stderr",
     "output_type": "stream",
     "text": [
      "100%|██████████| 476/476 [03:33<00:00,  2.23it/s]\n",
      "D:\\Anaconda3\\envs\\cuda\\Lib\\site-packages\\sklearn\\metrics\\_classification.py:2458: UserWarning: y_pred contains classes not in y_true\n",
      "  warnings.warn(\"y_pred contains classes not in y_true\")\n"
     ]
    },
    {
     "name": "stdout",
     "output_type": "stream",
     "text": [
      "{'val_loss': 1.479886328836657, 'val_accuracy': 0.6733727810650888, 'precision': 0.6848204618013141, 'recall': 0.6733727810650888, 'f1-score': 0.6734517653111287, 'macro_f1-score': 0.3734631808113341, 'balanced_accuracy': 0.4008500346903164, 'mcc': 0.5841919742231352, 'train_loss': 0.29779990524358796}\n",
      "Early stopping.\n",
      "\n",
      "[Fold 10]\n",
      "model is roberta-base cnn\n"
     ]
    },
    {
     "name": "stderr",
     "output_type": "stream",
     "text": [
      "Some weights of RobertaModel were not initialized from the model checkpoint at roberta-base and are newly initialized: ['roberta.pooler.dense.bias', 'roberta.pooler.dense.weight']\n",
      "You should probably TRAIN this model on a down-stream task to be able to use it for predictions and inference.\n"
     ]
    },
    {
     "name": "stdout",
     "output_type": "stream",
     "text": [
      "Epoch 1/20\n"
     ]
    },
    {
     "name": "stderr",
     "output_type": "stream",
     "text": [
      "100%|██████████| 476/476 [03:32<00:00,  2.24it/s]\n"
     ]
    },
    {
     "name": "stdout",
     "output_type": "stream",
     "text": [
      "{'val_loss': 1.6075508549528301, 'val_accuracy': 0.5952662721893491, 'precision': 0.4422894172223615, 'recall': 0.5952662721893491, 'f1-score': 0.49541023119732663, 'macro_f1-score': 0.09881848047205326, 'balanced_accuracy': 0.1183775629178519, 'mcc': 0.4284940854509109, 'train_loss': 1.9823503906862074}\n",
      "Epoch 2/20\n"
     ]
    },
    {
     "name": "stderr",
     "output_type": "stream",
     "text": [
      "100%|██████████| 476/476 [03:32<00:00,  2.24it/s]\n"
     ]
    },
    {
     "name": "stdout",
     "output_type": "stream",
     "text": [
      "{'val_loss': 1.419520912305364, 'val_accuracy': 0.6189349112426036, 'precision': 0.5519285691959401, 'recall': 0.6189349112426036, 'f1-score': 0.5693546449316871, 'macro_f1-score': 0.1618312926299853, 'balanced_accuracy': 0.19381776446251034, 'mcc': 0.49315168077159255, 'train_loss': 1.5149098997231292}\n",
      "Epoch 3/20\n"
     ]
    },
    {
     "name": "stderr",
     "output_type": "stream",
     "text": [
      "100%|██████████| 476/476 [03:33<00:00,  2.23it/s]\n"
     ]
    },
    {
     "name": "stdout",
     "output_type": "stream",
     "text": [
      "{'val_loss': 1.287968155348076, 'val_accuracy': 0.6520710059171597, 'precision': 0.5860095599727495, 'recall': 0.6520710059171597, 'f1-score': 0.6035802748706401, 'macro_f1-score': 0.2205120117005144, 'balanced_accuracy': 0.24172248186231493, 'mcc': 0.5258022676867337, 'train_loss': 1.2555179254097097}\n",
      "Epoch 4/20\n"
     ]
    },
    {
     "name": "stderr",
     "output_type": "stream",
     "text": [
      "100%|██████████| 476/476 [03:32<00:00,  2.24it/s]\n"
     ]
    },
    {
     "name": "stdout",
     "output_type": "stream",
     "text": [
      "{'val_loss': 1.302523914373146, 'val_accuracy': 0.6449704142011834, 'precision': 0.6619443692142087, 'recall': 0.6449704142011834, 'f1-score': 0.6263931934978942, 'macro_f1-score': 0.26837044383492237, 'balanced_accuracy': 0.2775121081102252, 'mcc': 0.5297216726250905, 'train_loss': 1.0845943276746934}\n",
      "Epoch 5/20\n"
     ]
    },
    {
     "name": "stderr",
     "output_type": "stream",
     "text": [
      "100%|██████████| 476/476 [03:33<00:00,  2.23it/s]\n"
     ]
    },
    {
     "name": "stdout",
     "output_type": "stream",
     "text": [
      "{'val_loss': 1.2937888722374755, 'val_accuracy': 0.6674556213017752, 'precision': 0.6333439433596886, 'recall': 0.6674556213017752, 'f1-score': 0.6275316769005691, 'macro_f1-score': 0.27792754516742446, 'balanced_accuracy': 0.28066524116297487, 'mcc': 0.5469231112274991, 'train_loss': 0.9133779601890499}\n",
      "Epoch 6/20\n"
     ]
    },
    {
     "name": "stderr",
     "output_type": "stream",
     "text": [
      "100%|██████████| 476/476 [03:33<00:00,  2.23it/s]\n"
     ]
    },
    {
     "name": "stdout",
     "output_type": "stream",
     "text": [
      "{'val_loss': 1.2871435127168331, 'val_accuracy': 0.6662721893491125, 'precision': 0.637069783577459, 'recall': 0.6662721893491125, 'f1-score': 0.6265543754560475, 'macro_f1-score': 0.27049287987724513, 'balanced_accuracy': 0.2648349057561359, 'mcc': 0.5469369613518591, 'train_loss': 0.7832659832788866}\n",
      "Epoch 7/20\n"
     ]
    },
    {
     "name": "stderr",
     "output_type": "stream",
     "text": [
      "100%|██████████| 476/476 [03:33<00:00,  2.23it/s]\n"
     ]
    },
    {
     "name": "stdout",
     "output_type": "stream",
     "text": [
      "{'val_loss': 1.3797499222575493, 'val_accuracy': 0.663905325443787, 'precision': 0.6657138032262186, 'recall': 0.663905325443787, 'f1-score': 0.648188973776833, 'macro_f1-score': 0.32376718883664934, 'balanced_accuracy': 0.33529544888567603, 'mcc': 0.5584298032791336, 'train_loss': 0.6572242120139989}\n",
      "Epoch 8/20\n"
     ]
    },
    {
     "name": "stderr",
     "output_type": "stream",
     "text": [
      "100%|██████████| 476/476 [03:33<00:00,  2.23it/s]\n"
     ]
    },
    {
     "name": "stdout",
     "output_type": "stream",
     "text": [
      "{'val_loss': 1.3450710211160049, 'val_accuracy': 0.663905325443787, 'precision': 0.6772668202547376, 'recall': 0.663905325443787, 'f1-score': 0.653483747771837, 'macro_f1-score': 0.34285670254653466, 'balanced_accuracy': 0.344289553865375, 'mcc': 0.5613482278802168, 'train_loss': 0.5898568195079555}\n",
      "Epoch 9/20\n"
     ]
    },
    {
     "name": "stderr",
     "output_type": "stream",
     "text": [
      "100%|██████████| 476/476 [03:33<00:00,  2.23it/s]\n"
     ]
    },
    {
     "name": "stdout",
     "output_type": "stream",
     "text": [
      "{'val_loss': 1.3975725235804073, 'val_accuracy': 0.676923076923077, 'precision': 0.6763402956897855, 'recall': 0.676923076923077, 'f1-score': 0.6605375256627448, 'macro_f1-score': 0.3643588426261739, 'balanced_accuracy': 0.3606457323322552, 'mcc': 0.5666197284407086, 'train_loss': 0.4901620283754182}\n",
      "Epoch 10/20\n"
     ]
    },
    {
     "name": "stderr",
     "output_type": "stream",
     "text": [
      "100%|██████████| 476/476 [03:33<00:00,  2.23it/s]\n"
     ]
    },
    {
     "name": "stdout",
     "output_type": "stream",
     "text": [
      "{'val_loss': 1.4395072235251374, 'val_accuracy': 0.6579881656804734, 'precision': 0.6748228848268305, 'recall': 0.6579881656804734, 'f1-score': 0.6574913444857736, 'macro_f1-score': 0.36662109156475986, 'balanced_accuracy': 0.38622087424823287, 'mcc': 0.5593501995114267, 'train_loss': 0.42572423861119424}\n",
      "Epoch 11/20\n"
     ]
    },
    {
     "name": "stderr",
     "output_type": "stream",
     "text": [
      "100%|██████████| 476/476 [03:33<00:00,  2.23it/s]\n"
     ]
    },
    {
     "name": "stdout",
     "output_type": "stream",
     "text": [
      "{'val_loss': 1.5788038451716584, 'val_accuracy': 0.6710059171597633, 'precision': 0.6446694506003701, 'recall': 0.6710059171597633, 'f1-score': 0.6416328651234808, 'macro_f1-score': 0.340740511276061, 'balanced_accuracy': 0.33544566266149856, 'mcc': 0.5528352615623499, 'train_loss': 0.388102704420404}\n",
      "Epoch 12/20\n"
     ]
    },
    {
     "name": "stderr",
     "output_type": "stream",
     "text": [
      "100%|██████████| 476/476 [03:34<00:00,  2.22it/s]\n"
     ]
    },
    {
     "name": "stdout",
     "output_type": "stream",
     "text": [
      "{'val_loss': 1.4586401480548787, 'val_accuracy': 0.6828402366863905, 'precision': 0.6907427192860708, 'recall': 0.6828402366863905, 'f1-score': 0.6748615547661652, 'macro_f1-score': 0.38591682229153407, 'balanced_accuracy': 0.4040648582136643, 'mcc': 0.5900446899616979, 'train_loss': 0.3671124846549282}\n",
      "Epoch 13/20\n"
     ]
    },
    {
     "name": "stderr",
     "output_type": "stream",
     "text": [
      "100%|██████████| 476/476 [03:34<00:00,  2.22it/s]\n"
     ]
    },
    {
     "name": "stdout",
     "output_type": "stream",
     "text": [
      "{'val_loss': 1.537456215552564, 'val_accuracy': 0.6899408284023668, 'precision': 0.6720553782605604, 'recall': 0.6899408284023668, 'f1-score': 0.6692640614537093, 'macro_f1-score': 0.39028426058202903, 'balanced_accuracy': 0.3973773887210871, 'mcc': 0.5901993105338276, 'train_loss': 0.30635851776391704}\n",
      "Epoch 14/20\n"
     ]
    },
    {
     "name": "stderr",
     "output_type": "stream",
     "text": [
      "100%|██████████| 476/476 [03:33<00:00,  2.23it/s]\n",
      "D:\\Anaconda3\\envs\\cuda\\Lib\\site-packages\\sklearn\\metrics\\_classification.py:2458: UserWarning: y_pred contains classes not in y_true\n",
      "  warnings.warn(\"y_pred contains classes not in y_true\")\n"
     ]
    },
    {
     "name": "stdout",
     "output_type": "stream",
     "text": [
      "{'val_loss': 1.6948216900510609, 'val_accuracy': 0.6497041420118344, 'precision': 0.6584815426483227, 'recall': 0.6497041420118344, 'f1-score': 0.6324925951393394, 'macro_f1-score': 0.31881320617700865, 'balanced_accuracy': 0.3157929949127921, 'mcc': 0.5321443749913379, 'train_loss': 0.3044226934875072}\n",
      "Epoch 15/20\n"
     ]
    },
    {
     "name": "stderr",
     "output_type": "stream",
     "text": [
      "100%|██████████| 476/476 [03:33<00:00,  2.23it/s]\n",
      "D:\\Anaconda3\\envs\\cuda\\Lib\\site-packages\\sklearn\\metrics\\_classification.py:2458: UserWarning: y_pred contains classes not in y_true\n",
      "  warnings.warn(\"y_pred contains classes not in y_true\")\n"
     ]
    },
    {
     "name": "stdout",
     "output_type": "stream",
     "text": [
      "{'val_loss': 1.5841651761306907, 'val_accuracy': 0.6579881656804734, 'precision': 0.6742904458306518, 'recall': 0.6579881656804734, 'f1-score': 0.6501267067161359, 'macro_f1-score': 0.3651230742761556, 'balanced_accuracy': 0.38415798466862305, 'mcc': 0.5590461234439823, 'train_loss': 0.2956276150144433}\n",
      "Epoch 16/20\n"
     ]
    },
    {
     "name": "stderr",
     "output_type": "stream",
     "text": [
      "100%|██████████| 476/476 [03:33<00:00,  2.23it/s]\n"
     ]
    },
    {
     "name": "stdout",
     "output_type": "stream",
     "text": [
      "{'val_loss': 1.6145241406728637, 'val_accuracy': 0.6745562130177515, 'precision': 0.683532542005182, 'recall': 0.6745562130177515, 'f1-score': 0.6654364357692846, 'macro_f1-score': 0.3677175469235147, 'balanced_accuracy': 0.38214915684486905, 'mcc': 0.5730684638579839, 'train_loss': 0.2727068532532191}\n",
      "Early stopping.\n",
      "\n",
      " === roberta-base + cnn + none Final 10-fold Cross-Validation Results ===\n",
      "Total time: 34143.81seconds\n",
      "val_loss: 1.4947\n",
      "val_accuracy: 0.6810\n",
      "precision: 0.6871\n",
      "recall: 0.6810\n",
      "f1-score: 0.6699\n",
      "macro_f1-score: 0.4072\n",
      "balanced_accuracy: 0.4085\n",
      "mcc: 0.5811\n",
      "train_loss: 0.3653\n"
     ]
    }
   ],
   "source": [
    "model_list = [\"roberta-base\"]\n",
    "hybrid_list = [\"cnn\"]\n",
    "resample_list = [\"none\"]\n",
    "\n",
    "for model_name in model_list:\n",
    "    for hybrid_type in hybrid_list:\n",
    "        for resample_method in resample_list:\n",
    "            results = run_kfold_experiment(\n",
    "                X=messages, y=labels, model_name=model_name, hybrid_type=hybrid_type, resample_method=resample_method,\n",
    "                kfold=KFOLD_SPLIT, seed=SEED, epochs=EPOCHS, patience=PATIENCE, max_length=MAX_LENGTH, \n",
    "                batch_size=BATCH_SIZE, lr=LR, weight_decay=WEIGHT_DECAY\n",
    "            )"
   ]
  },
  {
   "cell_type": "code",
   "execution_count": 5,
   "id": "d799ebb4-be3b-4b29-9238-6c2a2f8256ae",
   "metadata": {},
   "outputs": [
    {
     "data": {
      "text/plain": [
       "[{'val_loss': 1.5464805308377967,\n",
       "  'val_accuracy': 0.6713947990543735,\n",
       "  'precision': 0.6966283082310104,\n",
       "  'recall': 0.6713947990543735,\n",
       "  'f1-score': 0.6723640210571898,\n",
       "  'macro_f1-score': 0.4228522118484332,\n",
       "  'balanced_accuracy': 0.40138635003106904,\n",
       "  'mcc': 0.5730431664521652,\n",
       "  'train_loss': 0.3828707601162879},\n",
       " {'val_loss': 1.270345020406651,\n",
       "  'val_accuracy': 0.6761229314420804,\n",
       "  'precision': 0.6750217885443537,\n",
       "  'recall': 0.6761229314420804,\n",
       "  'f1-score': 0.6575673566037608,\n",
       "  'macro_f1-score': 0.3700919963715603,\n",
       "  'balanced_accuracy': 0.37830697447876444,\n",
       "  'mcc': 0.5731959495069289,\n",
       "  'train_loss': 0.6017469729476866},\n",
       " {'val_loss': 1.6063344585445691,\n",
       "  'val_accuracy': 0.693853427895981,\n",
       "  'precision': 0.6907446815352295,\n",
       "  'recall': 0.693853427895981,\n",
       "  'f1-score': 0.676638403920973,\n",
       "  'macro_f1-score': 0.42051778010785645,\n",
       "  'balanced_accuracy': 0.40456275000341885,\n",
       "  'mcc': 0.5879518346354371,\n",
       "  'train_loss': 0.2987695862226063},\n",
       " {'val_loss': 1.5670710835816726,\n",
       "  'val_accuracy': 0.66548463356974,\n",
       "  'precision': 0.687691164148774,\n",
       "  'recall': 0.66548463356974,\n",
       "  'f1-score': 0.6606568035976945,\n",
       "  'macro_f1-score': 0.43406202234655233,\n",
       "  'balanced_accuracy': 0.45385710421771763,\n",
       "  'mcc': 0.5658394766877033,\n",
       "  'train_loss': 0.3227469234251879},\n",
       " {'val_loss': 1.4535061171594656,\n",
       "  'val_accuracy': 0.6579881656804734,\n",
       "  'precision': 0.6722757660138494,\n",
       "  'recall': 0.6579881656804734,\n",
       "  'f1-score': 0.6518032853560184,\n",
       "  'macro_f1-score': 0.3822654004882998,\n",
       "  'balanced_accuracy': 0.3813847160566777,\n",
       "  'mcc': 0.550554023416499,\n",
       "  'train_loss': 0.41892304397070734},\n",
       " {'val_loss': 1.3910053231806125,\n",
       "  'val_accuracy': 0.6923076923076923,\n",
       "  'precision': 0.6855209886196288,\n",
       "  'recall': 0.6923076923076923,\n",
       "  'f1-score': 0.6755692907252223,\n",
       "  'macro_f1-score': 0.4113337197437893,\n",
       "  'balanced_accuracy': 0.40639505673739507,\n",
       "  'mcc': 0.5930013874900538,\n",
       "  'train_loss': 0.4107786644301025},\n",
       " {'val_loss': 1.511156087495246,\n",
       "  'val_accuracy': 0.685207100591716,\n",
       "  'precision': 0.6947392585268856,\n",
       "  'recall': 0.685207100591716,\n",
       "  'f1-score': 0.6678692261309269,\n",
       "  'macro_f1-score': 0.4217047265597855,\n",
       "  'balanced_accuracy': 0.42965116099439704,\n",
       "  'mcc': 0.5829618519088594,\n",
       "  'train_loss': 0.2782408337415971},\n",
       " {'val_loss': 1.661652555443206,\n",
       "  'val_accuracy': 0.6828402366863905,\n",
       "  'precision': 0.6966711236763625,\n",
       "  'recall': 0.6828402366863905,\n",
       "  'f1-score': 0.6802392905233787,\n",
       "  'macro_f1-score': 0.42958486789659633,\n",
       "  'balanced_accuracy': 0.4418569729966334,\n",
       "  'mcc': 0.5909837258385978,\n",
       "  'train_loss': 0.24805033022338258},\n",
       " {'val_loss': 1.4017954030126896,\n",
       "  'val_accuracy': 0.6946745562130178,\n",
       "  'precision': 0.6998305818113348,\n",
       "  'recall': 0.6946745562130178,\n",
       "  'f1-score': 0.6867333267699952,\n",
       "  'macro_f1-score': 0.3893194199237825,\n",
       "  'balanced_accuracy': 0.39046820226843876,\n",
       "  'mcc': 0.6035762279559664,\n",
       "  'train_loss': 0.3842365312577859},\n",
       " {'val_loss': 1.537456215552564,\n",
       "  'val_accuracy': 0.6899408284023668,\n",
       "  'precision': 0.6720553782605604,\n",
       "  'recall': 0.6899408284023668,\n",
       "  'f1-score': 0.6692640614537093,\n",
       "  'macro_f1-score': 0.39028426058202903,\n",
       "  'balanced_accuracy': 0.3973773887210871,\n",
       "  'mcc': 0.5901993105338276,\n",
       "  'train_loss': 0.30635851776391704}]"
      ]
     },
     "execution_count": 5,
     "metadata": {},
     "output_type": "execute_result"
    }
   ],
   "source": [
    "results"
   ]
  }
 ],
 "metadata": {
  "kernelspec": {
   "display_name": "Python 3 (ipykernel)",
   "language": "python",
   "name": "python3"
  },
  "language_info": {
   "codemirror_mode": {
    "name": "ipython",
    "version": 3
   },
   "file_extension": ".py",
   "mimetype": "text/x-python",
   "name": "python",
   "nbconvert_exporter": "python",
   "pygments_lexer": "ipython3",
   "version": "3.11.9"
  }
 },
 "nbformat": 4,
 "nbformat_minor": 5
}
