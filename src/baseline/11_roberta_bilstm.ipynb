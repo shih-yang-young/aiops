{
 "cells": [
  {
   "cell_type": "code",
   "execution_count": 1,
   "id": "f22f4841-9a9d-4a63-b896-560594d666d8",
   "metadata": {},
   "outputs": [
    {
     "data": {
      "text/html": [
       "<div>\n",
       "<style scoped>\n",
       "    .dataframe tbody tr th:only-of-type {\n",
       "        vertical-align: middle;\n",
       "    }\n",
       "\n",
       "    .dataframe tbody tr th {\n",
       "        vertical-align: top;\n",
       "    }\n",
       "\n",
       "    .dataframe thead th {\n",
       "        text-align: right;\n",
       "    }\n",
       "</style>\n",
       "<table border=\"1\" class=\"dataframe\">\n",
       "  <thead>\n",
       "    <tr style=\"text-align: right;\">\n",
       "      <th></th>\n",
       "      <th>Inbound Message</th>\n",
       "      <th>Label</th>\n",
       "    </tr>\n",
       "  </thead>\n",
       "  <tbody>\n",
       "    <tr>\n",
       "      <th>0</th>\n",
       "      <td>login issue verified user details employee man...</td>\n",
       "      <td>0</td>\n",
       "    </tr>\n",
       "    <tr>\n",
       "      <th>1</th>\n",
       "      <td>outlook hello team meetings skype meetings etc...</td>\n",
       "      <td>0</td>\n",
       "    </tr>\n",
       "    <tr>\n",
       "      <th>2</th>\n",
       "      <td>cant log vpn cannot log vpn best</td>\n",
       "      <td>0</td>\n",
       "    </tr>\n",
       "    <tr>\n",
       "      <th>3</th>\n",
       "      <td>unable access tool page unable access tool page</td>\n",
       "      <td>0</td>\n",
       "    </tr>\n",
       "    <tr>\n",
       "      <th>4</th>\n",
       "      <td>skype error skype error</td>\n",
       "      <td>0</td>\n",
       "    </tr>\n",
       "    <tr>\n",
       "      <th>...</th>\n",
       "      <td>...</td>\n",
       "      <td>...</td>\n",
       "    </tr>\n",
       "    <tr>\n",
       "      <th>8449</th>\n",
       "      <td>emails coming mail good afternoon receiving em...</td>\n",
       "      <td>22</td>\n",
       "    </tr>\n",
       "    <tr>\n",
       "      <th>8450</th>\n",
       "      <td>telephony software issue telephony software issue</td>\n",
       "      <td>0</td>\n",
       "    </tr>\n",
       "    <tr>\n",
       "      <th>8451</th>\n",
       "      <td>vip windows password reset tifpdchb pedxruyf v...</td>\n",
       "      <td>0</td>\n",
       "    </tr>\n",
       "    <tr>\n",
       "      <th>8452</th>\n",
       "      <td>machine est funcionando unable access machine ...</td>\n",
       "      <td>44</td>\n",
       "    </tr>\n",
       "    <tr>\n",
       "      <th>8453</th>\n",
       "      <td>mehreren lassen sich verschiedene prgramdntyme...</td>\n",
       "      <td>49</td>\n",
       "    </tr>\n",
       "  </tbody>\n",
       "</table>\n",
       "<p>8454 rows × 2 columns</p>\n",
       "</div>"
      ],
      "text/plain": [
       "                                        Inbound Message  Label\n",
       "0     login issue verified user details employee man...      0\n",
       "1     outlook hello team meetings skype meetings etc...      0\n",
       "2                      cant log vpn cannot log vpn best      0\n",
       "3       unable access tool page unable access tool page      0\n",
       "4                               skype error skype error      0\n",
       "...                                                 ...    ...\n",
       "8449  emails coming mail good afternoon receiving em...     22\n",
       "8450  telephony software issue telephony software issue      0\n",
       "8451  vip windows password reset tifpdchb pedxruyf v...      0\n",
       "8452  machine est funcionando unable access machine ...     44\n",
       "8453  mehreren lassen sich verschiedene prgramdntyme...     49\n",
       "\n",
       "[8454 rows x 2 columns]"
      ]
     },
     "execution_count": 1,
     "metadata": {},
     "output_type": "execute_result"
    }
   ],
   "source": [
    "import pandas as pd\n",
    "data_path = \"../../data/open_source_8454_combine_short_description.csv\"\n",
    "df = pd.read_csv(data_path)\n",
    "# df_label_0 = df[df[\"Label\"] == 0]\n",
    "# df_label_0_to_drop = df_label_0.sample(n=3000, random_state=42)\n",
    "# df = df.drop(df_label_0_to_drop.index)\n",
    "df"
   ]
  },
  {
   "cell_type": "code",
   "execution_count": 2,
   "id": "bf737873-4f1c-4588-913d-8f06b2777b20",
   "metadata": {},
   "outputs": [],
   "source": [
    "import sys\n",
    "import os\n",
    "sys.path.append(os.path.abspath('../ml_lib'))\n",
    "\n",
    "from config import *\n",
    "from experiment import run_kfold_experiment"
   ]
  },
  {
   "cell_type": "code",
   "execution_count": 3,
   "id": "a12b2613-aa9d-41c0-8f62-72210eaf8d7f",
   "metadata": {},
   "outputs": [],
   "source": [
    "messages, labels = df['Inbound Message'].tolist(), df['Label'].tolist()"
   ]
  },
  {
   "cell_type": "code",
   "execution_count": 4,
   "id": "38d4729f-f867-4cea-89f9-31f67e5ecced",
   "metadata": {},
   "outputs": [
    {
     "name": "stdout",
     "output_type": "stream",
     "text": [
      "▶ Running: roberta-base + bilstm + none\n",
      "tokenizer is roberta-base\n",
      "Using device: cuda\n",
      "CUDA Available: True\n",
      "CUDA Device: NVIDIA GeForce RTX 3050 6GB Laptop GPU\n",
      "Current GPU Memory Allocated: 0.00 GB\n",
      "Current GPU Memory Cached: 0.00 GB\n",
      "\n",
      "[Fold 1]\n",
      "model is roberta-base bilstm\n"
     ]
    },
    {
     "name": "stderr",
     "output_type": "stream",
     "text": [
      "D:\\Anaconda3\\envs\\cuda\\Lib\\site-packages\\sklearn\\model_selection\\_split.py:737: UserWarning: The least populated class in y has only 7 members, which is less than n_splits=10.\n",
      "  warnings.warn(\n",
      "Some weights of RobertaModel were not initialized from the model checkpoint at roberta-base and are newly initialized: ['roberta.pooler.dense.bias', 'roberta.pooler.dense.weight']\n",
      "You should probably TRAIN this model on a down-stream task to be able to use it for predictions and inference.\n"
     ]
    },
    {
     "name": "stdout",
     "output_type": "stream",
     "text": [
      "Epoch 1/20\n"
     ]
    },
    {
     "name": "stderr",
     "output_type": "stream",
     "text": [
      "100%|██████████| 476/476 [04:09<00:00,  1.91it/s]\n"
     ]
    },
    {
     "name": "stdout",
     "output_type": "stream",
     "text": [
      "{'val_loss': 1.8634184171568673, 'val_accuracy': 0.5791962174940898, 'precision': 0.37655088300698747, 'recall': 0.5791962174940898, 'f1-score': 0.44737018700275555, 'macro_f1-score': 0.05881785563807144, 'balanced_accuracy': 0.06799755846467236, 'mcc': 0.3752639428340573, 'train_loss': 2.1138292356949893}\n",
      "Epoch 2/20\n"
     ]
    },
    {
     "name": "stderr",
     "output_type": "stream",
     "text": [
      "100%|██████████| 476/476 [03:45<00:00,  2.11it/s]\n"
     ]
    },
    {
     "name": "stdout",
     "output_type": "stream",
     "text": [
      "{'val_loss': 1.6812753036337078, 'val_accuracy': 0.5933806146572104, 'precision': 0.4022443264972709, 'recall': 0.5933806146572104, 'f1-score': 0.46911403844168026, 'macro_f1-score': 0.061931794210292726, 'balanced_accuracy': 0.08854946676381435, 'mcc': 0.41386958100738674, 'train_loss': 1.7344862531964518}\n",
      "Epoch 3/20\n"
     ]
    },
    {
     "name": "stderr",
     "output_type": "stream",
     "text": [
      "100%|██████████| 476/476 [04:04<00:00,  1.94it/s]\n"
     ]
    },
    {
     "name": "stdout",
     "output_type": "stream",
     "text": [
      "{'val_loss': 1.5320644940970078, 'val_accuracy': 0.6134751773049646, 'precision': 0.49093834641014894, 'recall': 0.6134751773049646, 'f1-score': 0.5337113826164133, 'macro_f1-score': 0.1263452261246901, 'balanced_accuracy': 0.15171157311210146, 'mcc': 0.4611444692354752, 'train_loss': 1.5310557827103037}\n",
      "Epoch 4/20\n"
     ]
    },
    {
     "name": "stderr",
     "output_type": "stream",
     "text": [
      "100%|██████████| 476/476 [04:06<00:00,  1.93it/s]\n"
     ]
    },
    {
     "name": "stdout",
     "output_type": "stream",
     "text": [
      "{'val_loss': 1.4953181226298493, 'val_accuracy': 0.6040189125295509, 'precision': 0.5719601643275067, 'recall': 0.6040189125295509, 'f1-score': 0.5661148464220952, 'macro_f1-score': 0.180453883027684, 'balanced_accuracy': 0.20246007473160124, 'mcc': 0.4746672992525218, 'train_loss': 1.3744171062061767}\n",
      "Epoch 5/20\n"
     ]
    },
    {
     "name": "stderr",
     "output_type": "stream",
     "text": [
      "100%|██████████| 476/476 [04:07<00:00,  1.92it/s]\n"
     ]
    },
    {
     "name": "stdout",
     "output_type": "stream",
     "text": [
      "{'val_loss': 1.5034326123741437, 'val_accuracy': 0.6193853427895981, 'precision': 0.5336594391823825, 'recall': 0.6193853427895981, 'f1-score': 0.5518947758493771, 'macro_f1-score': 0.17121474905090237, 'balanced_accuracy': 0.17720685089973476, 'mcc': 0.46452234130694603, 'train_loss': 1.2251739590859212}\n",
      "Epoch 6/20\n"
     ]
    },
    {
     "name": "stderr",
     "output_type": "stream",
     "text": [
      "100%|██████████| 476/476 [04:11<00:00,  1.89it/s]\n"
     ]
    },
    {
     "name": "stdout",
     "output_type": "stream",
     "text": [
      "{'val_loss': 1.3593858345499579, 'val_accuracy': 0.6359338061465721, 'precision': 0.5781635554638048, 'recall': 0.6359338061465721, 'f1-score': 0.5922891090761709, 'macro_f1-score': 0.2505180871713543, 'balanced_accuracy': 0.2774551920067676, 'mcc': 0.5080810068195695, 'train_loss': 1.1063493016888113}\n",
      "Epoch 7/20\n"
     ]
    },
    {
     "name": "stderr",
     "output_type": "stream",
     "text": [
      "100%|██████████| 476/476 [04:12<00:00,  1.89it/s]\n"
     ]
    },
    {
     "name": "stdout",
     "output_type": "stream",
     "text": [
      "{'val_loss': 1.3930857417718419, 'val_accuracy': 0.6252955082742316, 'precision': 0.5908200586856729, 'recall': 0.6252955082742316, 'f1-score': 0.5965602768035507, 'macro_f1-score': 0.25846180226584076, 'balanced_accuracy': 0.26646337319921637, 'mcc': 0.5038579393507739, 'train_loss': 0.9963065746451626}\n",
      "Epoch 8/20\n"
     ]
    },
    {
     "name": "stderr",
     "output_type": "stream",
     "text": [
      "100%|██████████| 476/476 [04:10<00:00,  1.90it/s]\n"
     ]
    },
    {
     "name": "stdout",
     "output_type": "stream",
     "text": [
      "{'val_loss': 1.4237758224865176, 'val_accuracy': 0.6359338061465721, 'precision': 0.6116144506856286, 'recall': 0.6359338061465721, 'f1-score': 0.5956141446968818, 'macro_f1-score': 0.2648555801213672, 'balanced_accuracy': 0.2644018830289027, 'mcc': 0.5036093319926233, 'train_loss': 0.9128789455950761}\n",
      "Epoch 9/20\n"
     ]
    },
    {
     "name": "stderr",
     "output_type": "stream",
     "text": [
      "100%|██████████| 476/476 [04:11<00:00,  1.90it/s]\n"
     ]
    },
    {
     "name": "stdout",
     "output_type": "stream",
     "text": [
      "{'val_loss': 1.4123021054942653, 'val_accuracy': 0.6513002364066194, 'precision': 0.6281235414162211, 'recall': 0.6513002364066194, 'f1-score': 0.6283163034817444, 'macro_f1-score': 0.2976331755988634, 'balanced_accuracy': 0.300662369950931, 'mcc': 0.532580199852124, 'train_loss': 0.8186457793564856}\n",
      "Epoch 10/20\n"
     ]
    },
    {
     "name": "stderr",
     "output_type": "stream",
     "text": [
      "100%|██████████| 476/476 [04:12<00:00,  1.89it/s]\n"
     ]
    },
    {
     "name": "stdout",
     "output_type": "stream",
     "text": [
      "{'val_loss': 1.447915646827446, 'val_accuracy': 0.6205673758865248, 'precision': 0.6128413450937376, 'recall': 0.6205673758865248, 'f1-score': 0.6036317368514148, 'macro_f1-score': 0.28257600722887916, 'balanced_accuracy': 0.2867686733875701, 'mcc': 0.5009304964891161, 'train_loss': 0.7474977319762737}\n",
      "Epoch 11/20\n"
     ]
    },
    {
     "name": "stderr",
     "output_type": "stream",
     "text": [
      "100%|██████████| 476/476 [04:09<00:00,  1.91it/s]\n"
     ]
    },
    {
     "name": "stdout",
     "output_type": "stream",
     "text": [
      "{'val_loss': 1.4392366988478966, 'val_accuracy': 0.6477541371158393, 'precision': 0.6544563235358689, 'recall': 0.6477541371158393, 'f1-score': 0.6387432831260752, 'macro_f1-score': 0.31195002305070785, 'balanced_accuracy': 0.3177321384475735, 'mcc': 0.5382564669603622, 'train_loss': 0.7144023791002501}\n",
      "Epoch 12/20\n"
     ]
    },
    {
     "name": "stderr",
     "output_type": "stream",
     "text": [
      "100%|██████████| 476/476 [04:09<00:00,  1.91it/s]\n"
     ]
    },
    {
     "name": "stdout",
     "output_type": "stream",
     "text": [
      "{'val_loss': 1.4947803239777404, 'val_accuracy': 0.6394799054373522, 'precision': 0.6181596203170578, 'recall': 0.6394799054373522, 'f1-score': 0.614061993983485, 'macro_f1-score': 0.29585773370306273, 'balanced_accuracy': 0.295281105864565, 'mcc': 0.518032985469447, 'train_loss': 0.631529380669113}\n",
      "Epoch 13/20\n"
     ]
    },
    {
     "name": "stderr",
     "output_type": "stream",
     "text": [
      "100%|██████████| 476/476 [04:11<00:00,  1.89it/s]\n"
     ]
    },
    {
     "name": "stdout",
     "output_type": "stream",
     "text": [
      "{'val_loss': 1.4281390714195539, 'val_accuracy': 0.6477541371158393, 'precision': 0.6455884566250035, 'recall': 0.6477541371158393, 'f1-score': 0.6331230903017594, 'macro_f1-score': 0.31210313753342245, 'balanced_accuracy': 0.3257843368296407, 'mcc': 0.5344690870833737, 'train_loss': 0.5731346096780872}\n",
      "Epoch 14/20\n"
     ]
    },
    {
     "name": "stderr",
     "output_type": "stream",
     "text": [
      "100%|██████████| 476/476 [04:08<00:00,  1.91it/s]\n"
     ]
    },
    {
     "name": "stdout",
     "output_type": "stream",
     "text": [
      "{'val_loss': 1.4323437928028826, 'val_accuracy': 0.6678486997635934, 'precision': 0.6464022772202157, 'recall': 0.6678486997635934, 'f1-score': 0.641646939667413, 'macro_f1-score': 0.329635645146616, 'balanced_accuracy': 0.3165319256919764, 'mcc': 0.5488228611818907, 'train_loss': 0.5374974321941806}\n",
      "Epoch 15/20\n"
     ]
    },
    {
     "name": "stderr",
     "output_type": "stream",
     "text": [
      "100%|██████████| 476/476 [04:10<00:00,  1.90it/s]\n"
     ]
    },
    {
     "name": "stdout",
     "output_type": "stream",
     "text": [
      "{'val_loss': 1.512501634516806, 'val_accuracy': 0.6607565011820331, 'precision': 0.6698178460736363, 'recall': 0.6607565011820331, 'f1-score': 0.6475848460913345, 'macro_f1-score': 0.346173609873367, 'balanced_accuracy': 0.3480721921426677, 'mcc': 0.5541046811980731, 'train_loss': 0.4848264346149664}\n",
      "Epoch 16/20\n"
     ]
    },
    {
     "name": "stderr",
     "output_type": "stream",
     "text": [
      "100%|██████████| 476/476 [04:10<00:00,  1.90it/s]\n"
     ]
    },
    {
     "name": "stdout",
     "output_type": "stream",
     "text": [
      "{'val_loss': 1.5461356549892786, 'val_accuracy': 0.6666666666666666, 'precision': 0.6609890368154325, 'recall': 0.6666666666666666, 'f1-score': 0.6522016844179205, 'macro_f1-score': 0.388747164728657, 'balanced_accuracy': 0.3697764869398194, 'mcc': 0.5574278211103786, 'train_loss': 0.44271625161264877}\n",
      "Epoch 17/20\n"
     ]
    },
    {
     "name": "stderr",
     "output_type": "stream",
     "text": [
      "100%|██████████| 476/476 [04:00<00:00,  1.98it/s]\n"
     ]
    },
    {
     "name": "stdout",
     "output_type": "stream",
     "text": [
      "{'val_loss': 1.5705582628834922, 'val_accuracy': 0.6643026004728132, 'precision': 0.6573299615785663, 'recall': 0.6643026004728132, 'f1-score': 0.6422256098793717, 'macro_f1-score': 0.3630044912747257, 'balanced_accuracy': 0.35703884024632737, 'mcc': 0.549215288090234, 'train_loss': 0.433659402590965}\n",
      "Epoch 18/20\n"
     ]
    },
    {
     "name": "stderr",
     "output_type": "stream",
     "text": [
      "100%|██████████| 476/476 [04:10<00:00,  1.90it/s]\n"
     ]
    },
    {
     "name": "stdout",
     "output_type": "stream",
     "text": [
      "{'val_loss': 1.6415547357415252, 'val_accuracy': 0.6773049645390071, 'precision': 0.6487661832312385, 'recall': 0.6773049645390071, 'f1-score': 0.6446401104889257, 'macro_f1-score': 0.3606312873878015, 'balanced_accuracy': 0.3474500755167106, 'mcc': 0.5586702206998561, 'train_loss': 0.3890207932495019}\n",
      "Epoch 19/20\n"
     ]
    },
    {
     "name": "stderr",
     "output_type": "stream",
     "text": [
      "100%|██████████| 476/476 [04:11<00:00,  1.89it/s]\n"
     ]
    },
    {
     "name": "stdout",
     "output_type": "stream",
     "text": [
      "{'val_loss': 1.6180348446908988, 'val_accuracy': 0.6607565011820331, 'precision': 0.6800322582130272, 'recall': 0.6607565011820331, 'f1-score': 0.6562678870117568, 'macro_f1-score': 0.43365131721695865, 'balanced_accuracy': 0.4292420058590814, 'mcc': 0.5525556449675558, 'train_loss': 0.3673151545676583}\n",
      "Epoch 20/20\n"
     ]
    },
    {
     "name": "stderr",
     "output_type": "stream",
     "text": [
      "100%|██████████| 476/476 [04:08<00:00,  1.91it/s]\n"
     ]
    },
    {
     "name": "stdout",
     "output_type": "stream",
     "text": [
      "{'val_loss': 1.635408545440098, 'val_accuracy': 0.6323877068557919, 'precision': 0.6695815435684678, 'recall': 0.6323877068557919, 'f1-score': 0.6391616817588528, 'macro_f1-score': 0.3873964378242354, 'balanced_accuracy': 0.3947108567027302, 'mcc': 0.5254256995171929, 'train_loss': 0.3614272326817971}\n",
      "\n",
      "[Fold 2]\n",
      "model is roberta-base bilstm\n"
     ]
    },
    {
     "name": "stderr",
     "output_type": "stream",
     "text": [
      "Some weights of RobertaModel were not initialized from the model checkpoint at roberta-base and are newly initialized: ['roberta.pooler.dense.bias', 'roberta.pooler.dense.weight']\n",
      "You should probably TRAIN this model on a down-stream task to be able to use it for predictions and inference.\n"
     ]
    },
    {
     "name": "stdout",
     "output_type": "stream",
     "text": [
      "Epoch 1/20\n"
     ]
    },
    {
     "name": "stderr",
     "output_type": "stream",
     "text": [
      "100%|██████████| 476/476 [04:06<00:00,  1.93it/s]\n"
     ]
    },
    {
     "name": "stdout",
     "output_type": "stream",
     "text": [
      "{'val_loss': 1.8004441789860994, 'val_accuracy': 0.5815602836879432, 'precision': 0.3684002900418404, 'recall': 0.5815602836879432, 'f1-score': 0.4446005792060092, 'macro_f1-score': 0.06286364315363967, 'balanced_accuracy': 0.0709602762223625, 'mcc': 0.37899720830193045, 'train_loss': 2.082330956178553}\n",
      "Epoch 2/20\n"
     ]
    },
    {
     "name": "stderr",
     "output_type": "stream",
     "text": [
      "100%|██████████| 476/476 [04:07<00:00,  1.92it/s]\n"
     ]
    },
    {
     "name": "stdout",
     "output_type": "stream",
     "text": [
      "{'val_loss': 1.553242173959624, 'val_accuracy': 0.5815602836879432, 'precision': 0.4600214029142508, 'recall': 0.5815602836879432, 'f1-score': 0.5026660228376446, 'macro_f1-score': 0.10908823109299177, 'balanced_accuracy': 0.12461204060961469, 'mcc': 0.4177140854860596, 'train_loss': 1.63329018740093}\n",
      "Epoch 3/20\n"
     ]
    },
    {
     "name": "stderr",
     "output_type": "stream",
     "text": [
      "100%|██████████| 476/476 [04:08<00:00,  1.92it/s]\n"
     ]
    },
    {
     "name": "stdout",
     "output_type": "stream",
     "text": [
      "{'val_loss': 1.438767430917272, 'val_accuracy': 0.6252955082742316, 'precision': 0.5114576398856862, 'recall': 0.6252955082742316, 'f1-score': 0.5451504762926284, 'macro_f1-score': 0.14821429783374082, 'balanced_accuracy': 0.15725870095364114, 'mcc': 0.47506860783093274, 'train_loss': 1.4196200638759036}\n",
      "Epoch 4/20\n"
     ]
    },
    {
     "name": "stderr",
     "output_type": "stream",
     "text": [
      "100%|██████████| 476/476 [04:10<00:00,  1.90it/s]\n"
     ]
    },
    {
     "name": "stdout",
     "output_type": "stream",
     "text": [
      "{'val_loss': 1.3421051682166334, 'val_accuracy': 0.6335697399527187, 'precision': 0.5916190982488503, 'recall': 0.6335697399527187, 'f1-score': 0.5996493594063919, 'macro_f1-score': 0.2041584988247783, 'balanced_accuracy': 0.22506517692053993, 'mcc': 0.5107335974605929, 'train_loss': 1.2463172890183305}\n",
      "Epoch 5/20\n"
     ]
    },
    {
     "name": "stderr",
     "output_type": "stream",
     "text": [
      "100%|██████████| 476/476 [04:09<00:00,  1.91it/s]\n"
     ]
    },
    {
     "name": "stdout",
     "output_type": "stream",
     "text": [
      "{'val_loss': 1.3855031048351865, 'val_accuracy': 0.6312056737588653, 'precision': 0.5860799832505535, 'recall': 0.6312056737588653, 'f1-score': 0.5978448783670607, 'macro_f1-score': 0.20553863717100818, 'balanced_accuracy': 0.2299165746823692, 'mcc': 0.5187530818151262, 'train_loss': 1.1703931391865265}\n",
      "Epoch 6/20\n"
     ]
    },
    {
     "name": "stderr",
     "output_type": "stream",
     "text": [
      "100%|██████████| 476/476 [04:09<00:00,  1.91it/s]\n"
     ]
    },
    {
     "name": "stdout",
     "output_type": "stream",
     "text": [
      "{'val_loss': 1.359979734105884, 'val_accuracy': 0.6465721040189125, 'precision': 0.5971082121908026, 'recall': 0.6465721040189125, 'f1-score': 0.6054548887921483, 'macro_f1-score': 0.22435389768934397, 'balanced_accuracy': 0.2338360873939976, 'mcc': 0.5220795050813796, 'train_loss': 1.045551632131849}\n",
      "Epoch 7/20\n"
     ]
    },
    {
     "name": "stderr",
     "output_type": "stream",
     "text": [
      "100%|██████████| 476/476 [04:11<00:00,  1.89it/s]\n"
     ]
    },
    {
     "name": "stdout",
     "output_type": "stream",
     "text": [
      "{'val_loss': 1.4455707157557864, 'val_accuracy': 0.6418439716312057, 'precision': 0.6016690473525529, 'recall': 0.6418439716312057, 'f1-score': 0.5933065504574399, 'macro_f1-score': 0.20628040267883022, 'balanced_accuracy': 0.2088758794277595, 'mcc': 0.5107210080992173, 'train_loss': 0.9106073301254201}\n",
      "Epoch 8/20\n"
     ]
    },
    {
     "name": "stderr",
     "output_type": "stream",
     "text": [
      "100%|██████████| 476/476 [04:08<00:00,  1.92it/s]\n"
     ]
    },
    {
     "name": "stdout",
     "output_type": "stream",
     "text": [
      "{'val_loss': 1.3320923621924419, 'val_accuracy': 0.6536643026004728, 'precision': 0.6182881474724473, 'recall': 0.6536643026004728, 'f1-score': 0.6255753686358305, 'macro_f1-score': 0.2577703271900129, 'balanced_accuracy': 0.2700568931174719, 'mcc': 0.5413287939086291, 'train_loss': 0.8226110520733505}\n",
      "Epoch 9/20\n"
     ]
    },
    {
     "name": "stderr",
     "output_type": "stream",
     "text": [
      "100%|██████████| 476/476 [04:06<00:00,  1.93it/s]\n"
     ]
    },
    {
     "name": "stdout",
     "output_type": "stream",
     "text": [
      "{'val_loss': 1.3670880974463697, 'val_accuracy': 0.6643026004728132, 'precision': 0.6301712001236578, 'recall': 0.6643026004728132, 'f1-score': 0.6265555211918549, 'macro_f1-score': 0.2668387972535205, 'balanced_accuracy': 0.26510160078278255, 'mcc': 0.5433427585520223, 'train_loss': 0.7543509393742606}\n",
      "Epoch 10/20\n"
     ]
    },
    {
     "name": "stderr",
     "output_type": "stream",
     "text": [
      "100%|██████████| 476/476 [04:07<00:00,  1.92it/s]\n"
     ]
    },
    {
     "name": "stdout",
     "output_type": "stream",
     "text": [
      "{'val_loss': 1.496720479344422, 'val_accuracy': 0.6335697399527187, 'precision': 0.6154237508963923, 'recall': 0.6335697399527187, 'f1-score': 0.6116137649262464, 'macro_f1-score': 0.25555230785229094, 'balanced_accuracy': 0.2774953122947058, 'mcc': 0.5165473668742809, 'train_loss': 0.7093347844925999}\n",
      "Epoch 11/20\n"
     ]
    },
    {
     "name": "stderr",
     "output_type": "stream",
     "text": [
      "100%|██████████| 476/476 [04:12<00:00,  1.89it/s]\n"
     ]
    },
    {
     "name": "stdout",
     "output_type": "stream",
     "text": [
      "{'val_loss': 1.4718630555665717, 'val_accuracy': 0.6477541371158393, 'precision': 0.6376781591019514, 'recall': 0.6477541371158393, 'f1-score': 0.6286936407584538, 'macro_f1-score': 0.2690514865215353, 'balanced_accuracy': 0.27084031723104673, 'mcc': 0.5322784137642677, 'train_loss': 0.6588429336694359}\n",
      "Epoch 12/20\n"
     ]
    },
    {
     "name": "stderr",
     "output_type": "stream",
     "text": [
      "100%|██████████| 476/476 [04:06<00:00,  1.93it/s]\n"
     ]
    },
    {
     "name": "stdout",
     "output_type": "stream",
     "text": [
      "{'val_loss': 1.4615054574777495, 'val_accuracy': 0.6536643026004728, 'precision': 0.6390858196358367, 'recall': 0.6536643026004728, 'f1-score': 0.629727413970027, 'macro_f1-score': 0.2674185665267357, 'balanced_accuracy': 0.27545498070346447, 'mcc': 0.5372681907092486, 'train_loss': 0.6213980482327712}\n",
      "Epoch 13/20\n"
     ]
    },
    {
     "name": "stderr",
     "output_type": "stream",
     "text": [
      "100%|██████████| 476/476 [04:11<00:00,  1.90it/s]\n"
     ]
    },
    {
     "name": "stdout",
     "output_type": "stream",
     "text": [
      "{'val_loss': 1.496133250166785, 'val_accuracy': 0.6572104018912529, 'precision': 0.6172333722751246, 'recall': 0.6572104018912529, 'f1-score': 0.6262244298978139, 'macro_f1-score': 0.26896395481203705, 'balanced_accuracy': 0.2743748990242319, 'mcc': 0.5401229459770646, 'train_loss': 0.5670545500930116}\n",
      "Epoch 14/20\n"
     ]
    },
    {
     "name": "stderr",
     "output_type": "stream",
     "text": [
      "100%|██████████| 476/476 [04:09<00:00,  1.91it/s]\n"
     ]
    },
    {
     "name": "stdout",
     "output_type": "stream",
     "text": [
      "{'val_loss': 1.5788850550943951, 'val_accuracy': 0.6418439716312057, 'precision': 0.6217356514110844, 'recall': 0.6418439716312057, 'f1-score': 0.6196093503967333, 'macro_f1-score': 0.28755045156839937, 'balanced_accuracy': 0.28620528931589406, 'mcc': 0.5259743313910038, 'train_loss': 0.503472386029776}\n",
      "Epoch 15/20\n"
     ]
    },
    {
     "name": "stderr",
     "output_type": "stream",
     "text": [
      "100%|██████████| 476/476 [04:08<00:00,  1.91it/s]\n"
     ]
    },
    {
     "name": "stdout",
     "output_type": "stream",
     "text": [
      "{'val_loss': 1.4994079375042106, 'val_accuracy': 0.66548463356974, 'precision': 0.6456395799352169, 'recall': 0.66548463356974, 'f1-score': 0.6478586491326117, 'macro_f1-score': 0.3069844295264541, 'balanced_accuracy': 0.30356840590049733, 'mcc': 0.5539523157238009, 'train_loss': 0.48331102213877086}\n",
      "Epoch 16/20\n"
     ]
    },
    {
     "name": "stderr",
     "output_type": "stream",
     "text": [
      "100%|██████████| 476/476 [04:08<00:00,  1.91it/s]\n"
     ]
    },
    {
     "name": "stdout",
     "output_type": "stream",
     "text": [
      "{'val_loss': 1.5705949270500328, 'val_accuracy': 0.6359338061465721, 'precision': 0.6266372189336735, 'recall': 0.6359338061465721, 'f1-score': 0.6130999429543276, 'macro_f1-score': 0.2594854452568345, 'balanced_accuracy': 0.2555291310491622, 'mcc': 0.5126773109732177, 'train_loss': 0.46448133439373446}\n",
      "Epoch 17/20\n"
     ]
    },
    {
     "name": "stderr",
     "output_type": "stream",
     "text": [
      "100%|██████████| 476/476 [04:08<00:00,  1.91it/s]\n"
     ]
    },
    {
     "name": "stdout",
     "output_type": "stream",
     "text": [
      "{'val_loss': 1.6779607554089349, 'val_accuracy': 0.6524822695035462, 'precision': 0.6190093370885035, 'recall': 0.6524822695035462, 'f1-score': 0.6195630626926963, 'macro_f1-score': 0.3068876114709394, 'balanced_accuracy': 0.3053083693102754, 'mcc': 0.5290930246817364, 'train_loss': 0.4241566894039856}\n",
      "Epoch 18/20\n"
     ]
    },
    {
     "name": "stderr",
     "output_type": "stream",
     "text": [
      "100%|██████████| 476/476 [04:08<00:00,  1.91it/s]\n"
     ]
    },
    {
     "name": "stdout",
     "output_type": "stream",
     "text": [
      "{'val_loss': 1.5627095609341028, 'val_accuracy': 0.6560283687943262, 'precision': 0.6481757118059349, 'recall': 0.6560283687943262, 'f1-score': 0.6383072097852577, 'macro_f1-score': 0.3146285157228652, 'balanced_accuracy': 0.32583129292202245, 'mcc': 0.5464797666496899, 'train_loss': 0.4149405754860021}\n",
      "Epoch 19/20\n"
     ]
    },
    {
     "name": "stderr",
     "output_type": "stream",
     "text": [
      "100%|██████████| 476/476 [04:08<00:00,  1.92it/s]\n"
     ]
    },
    {
     "name": "stdout",
     "output_type": "stream",
     "text": [
      "{'val_loss': 1.6520833423677481, 'val_accuracy': 0.6300236406619385, 'precision': 0.6530780349013563, 'recall': 0.6300236406619385, 'f1-score': 0.6249368976846571, 'macro_f1-score': 0.30858231663624747, 'balanced_accuracy': 0.33661664050922413, 'mcc': 0.5266384079274156, 'train_loss': 0.3739355189956631}\n",
      "Epoch 20/20\n"
     ]
    },
    {
     "name": "stderr",
     "output_type": "stream",
     "text": [
      "100%|██████████| 476/476 [04:07<00:00,  1.93it/s]\n"
     ]
    },
    {
     "name": "stdout",
     "output_type": "stream",
     "text": [
      "{'val_loss': 1.6756690909277718, 'val_accuracy': 0.6335697399527187, 'precision': 0.6636549187151588, 'recall': 0.6335697399527187, 'f1-score': 0.6382276806667815, 'macro_f1-score': 0.3632339228745287, 'balanced_accuracy': 0.3766994934136504, 'mcc': 0.5345430025569673, 'train_loss': 0.3706210299508505}\n",
      "\n",
      "[Fold 3]\n",
      "model is roberta-base bilstm\n"
     ]
    },
    {
     "name": "stderr",
     "output_type": "stream",
     "text": [
      "Some weights of RobertaModel were not initialized from the model checkpoint at roberta-base and are newly initialized: ['roberta.pooler.dense.bias', 'roberta.pooler.dense.weight']\n",
      "You should probably TRAIN this model on a down-stream task to be able to use it for predictions and inference.\n"
     ]
    },
    {
     "name": "stdout",
     "output_type": "stream",
     "text": [
      "Epoch 1/20\n"
     ]
    },
    {
     "name": "stderr",
     "output_type": "stream",
     "text": [
      "100%|██████████| 476/476 [04:08<00:00,  1.91it/s]\n"
     ]
    },
    {
     "name": "stdout",
     "output_type": "stream",
     "text": [
      "{'val_loss': 1.9088130615792185, 'val_accuracy': 0.5709219858156028, 'precision': 0.3627561752747304, 'recall': 0.5709219858156028, 'f1-score': 0.44087633888653277, 'macro_f1-score': 0.047768633285372994, 'balanced_accuracy': 0.06413052724437233, 'mcc': 0.3725539124739276, 'train_loss': 2.168428501662086}\n",
      "Epoch 2/20\n"
     ]
    },
    {
     "name": "stderr",
     "output_type": "stream",
     "text": [
      "100%|██████████| 476/476 [04:08<00:00,  1.91it/s]\n"
     ]
    },
    {
     "name": "stdout",
     "output_type": "stream",
     "text": [
      "{'val_loss': 1.644293707496715, 'val_accuracy': 0.5969267139479906, 'precision': 0.42053426399796706, 'recall': 0.5969267139479906, 'f1-score': 0.4860192534043587, 'macro_f1-score': 0.10072618914092557, 'balanced_accuracy': 0.1147503706944012, 'mcc': 0.41676472357080613, 'train_loss': 1.7466451670943188}\n",
      "Epoch 3/20\n"
     ]
    },
    {
     "name": "stderr",
     "output_type": "stream",
     "text": [
      "100%|██████████| 476/476 [04:10<00:00,  1.90it/s]\n"
     ]
    },
    {
     "name": "stdout",
     "output_type": "stream",
     "text": [
      "{'val_loss': 1.4969273052125607, 'val_accuracy': 0.624113475177305, 'precision': 0.48442655637257925, 'recall': 0.624113475177305, 'f1-score': 0.5272532258929258, 'macro_f1-score': 0.13407950239318697, 'balanced_accuracy': 0.1397817415973195, 'mcc': 0.4657853009121631, 'train_loss': 1.5209221747868202}\n",
      "Epoch 4/20\n"
     ]
    },
    {
     "name": "stderr",
     "output_type": "stream",
     "text": [
      "100%|██████████| 476/476 [04:09<00:00,  1.91it/s]\n"
     ]
    },
    {
     "name": "stdout",
     "output_type": "stream",
     "text": [
      "{'val_loss': 1.4242549707304757, 'val_accuracy': 0.6501182033096927, 'precision': 0.5403476990231147, 'recall': 0.6501182033096927, 'f1-score': 0.5778124886191472, 'macro_f1-score': 0.19937971405162902, 'balanced_accuracy': 0.20786303559933778, 'mcc': 0.513900180233824, 'train_loss': 1.3485234542554165}\n",
      "Epoch 5/20\n"
     ]
    },
    {
     "name": "stderr",
     "output_type": "stream",
     "text": [
      "100%|██████████| 476/476 [04:09<00:00,  1.91it/s]\n"
     ]
    },
    {
     "name": "stdout",
     "output_type": "stream",
     "text": [
      "{'val_loss': 1.344082552307057, 'val_accuracy': 0.6418439716312057, 'precision': 0.576688290620667, 'recall': 0.6418439716312057, 'f1-score': 0.5825714788793867, 'macro_f1-score': 0.2100218374680961, 'balanced_accuracy': 0.22604269323160328, 'mcc': 0.5064767050173807, 'train_loss': 1.2251397964834165}\n",
      "Epoch 6/20\n"
     ]
    },
    {
     "name": "stderr",
     "output_type": "stream",
     "text": [
      "100%|██████████| 476/476 [04:09<00:00,  1.91it/s]\n"
     ]
    },
    {
     "name": "stdout",
     "output_type": "stream",
     "text": [
      "{'val_loss': 1.375861276433153, 'val_accuracy': 0.6205673758865248, 'precision': 0.6240946388946261, 'recall': 0.6205673758865248, 'f1-score': 0.6040996203890722, 'macro_f1-score': 0.23797399604391994, 'balanced_accuracy': 0.27459569196663286, 'mcc': 0.5056158311501768, 'train_loss': 1.089454306399121}\n",
      "Epoch 7/20\n"
     ]
    },
    {
     "name": "stderr",
     "output_type": "stream",
     "text": [
      "100%|██████████| 476/476 [04:09<00:00,  1.91it/s]\n"
     ]
    },
    {
     "name": "stdout",
     "output_type": "stream",
     "text": [
      "{'val_loss': 1.2682613674199805, 'val_accuracy': 0.6678486997635934, 'precision': 0.6117912970632313, 'recall': 0.6678486997635934, 'f1-score': 0.6260739762563912, 'macro_f1-score': 0.2649685268148098, 'balanced_accuracy': 0.273196612001949, 'mcc': 0.5517685639191066, 'train_loss': 1.007757484318078}\n",
      "Epoch 8/20\n"
     ]
    },
    {
     "name": "stderr",
     "output_type": "stream",
     "text": [
      "100%|██████████| 476/476 [04:09<00:00,  1.91it/s]\n"
     ]
    },
    {
     "name": "stdout",
     "output_type": "stream",
     "text": [
      "{'val_loss': 1.3635984259956289, 'val_accuracy': 0.6643026004728132, 'precision': 0.6167497289441478, 'recall': 0.6643026004728132, 'f1-score': 0.6258959061022821, 'macro_f1-score': 0.27871951716623117, 'balanced_accuracy': 0.2912420336051249, 'mcc': 0.5461008042776485, 'train_loss': 0.8851061301665897}\n",
      "Epoch 9/20\n"
     ]
    },
    {
     "name": "stderr",
     "output_type": "stream",
     "text": [
      "100%|██████████| 476/476 [04:10<00:00,  1.90it/s]\n"
     ]
    },
    {
     "name": "stdout",
     "output_type": "stream",
     "text": [
      "{'val_loss': 1.3337865145701282, 'val_accuracy': 0.6749408983451537, 'precision': 0.63704730068069, 'recall': 0.6749408983451537, 'f1-score': 0.6429280693741236, 'macro_f1-score': 0.32464196658660277, 'balanced_accuracy': 0.31493875910185043, 'mcc': 0.5616141690061435, 'train_loss': 0.8028778966923221}\n",
      "Epoch 10/20\n"
     ]
    },
    {
     "name": "stderr",
     "output_type": "stream",
     "text": [
      "100%|██████████| 476/476 [04:09<00:00,  1.90it/s]\n"
     ]
    },
    {
     "name": "stdout",
     "output_type": "stream",
     "text": [
      "{'val_loss': 1.3914550689031493, 'val_accuracy': 0.6643026004728132, 'precision': 0.6301103528293087, 'recall': 0.6643026004728132, 'f1-score': 0.6301167622573818, 'macro_f1-score': 0.29393661170089896, 'balanced_accuracy': 0.29154532334374644, 'mcc': 0.5445200640700646, 'train_loss': 0.7201456771615673}\n",
      "Epoch 11/20\n"
     ]
    },
    {
     "name": "stderr",
     "output_type": "stream",
     "text": [
      "100%|██████████| 476/476 [04:09<00:00,  1.91it/s]\n"
     ]
    },
    {
     "name": "stdout",
     "output_type": "stream",
     "text": [
      "{'val_loss': 1.376209481707159, 'val_accuracy': 0.6725768321513003, 'precision': 0.6729882695351559, 'recall': 0.6725768321513003, 'f1-score': 0.6607454136692396, 'macro_f1-score': 0.32415511480979764, 'balanced_accuracy': 0.3327206361708528, 'mcc': 0.5705920506805401, 'train_loss': 0.6529828143157378}\n",
      "Epoch 12/20\n"
     ]
    },
    {
     "name": "stderr",
     "output_type": "stream",
     "text": [
      "100%|██████████| 476/476 [04:07<00:00,  1.92it/s]\n"
     ]
    },
    {
     "name": "stdout",
     "output_type": "stream",
     "text": [
      "{'val_loss': 1.388854959101047, 'val_accuracy': 0.6855791962174941, 'precision': 0.6559221591309832, 'recall': 0.6855791962174941, 'f1-score': 0.6604795322800944, 'macro_f1-score': 0.35680150132337785, 'balanced_accuracy': 0.3599731382828073, 'mcc': 0.578778838451995, 'train_loss': 0.6077521006662806}\n",
      "Epoch 13/20\n"
     ]
    },
    {
     "name": "stderr",
     "output_type": "stream",
     "text": [
      "100%|██████████| 476/476 [04:07<00:00,  1.92it/s]\n"
     ]
    },
    {
     "name": "stdout",
     "output_type": "stream",
     "text": [
      "{'val_loss': 1.5406778336695905, 'val_accuracy': 0.6713947990543735, 'precision': 0.63854403098922, 'recall': 0.6713947990543735, 'f1-score': 0.6386299940631642, 'macro_f1-score': 0.34850871159045155, 'balanced_accuracy': 0.3271222308025634, 'mcc': 0.5521219918030189, 'train_loss': 0.5462835841663495}\n",
      "Epoch 14/20\n"
     ]
    },
    {
     "name": "stderr",
     "output_type": "stream",
     "text": [
      "100%|██████████| 476/476 [04:06<00:00,  1.93it/s]\n"
     ]
    },
    {
     "name": "stdout",
     "output_type": "stream",
     "text": [
      "{'val_loss': 1.3916649374197114, 'val_accuracy': 0.6666666666666666, 'precision': 0.6512717327276216, 'recall': 0.6666666666666666, 'f1-score': 0.6521506616860192, 'macro_f1-score': 0.3644110820688892, 'balanced_accuracy': 0.38061232825396746, 'mcc': 0.5631899645923581, 'train_loss': 0.5052435572861749}\n",
      "Epoch 15/20\n"
     ]
    },
    {
     "name": "stderr",
     "output_type": "stream",
     "text": [
      "100%|██████████| 476/476 [04:07<00:00,  1.92it/s]\n"
     ]
    },
    {
     "name": "stdout",
     "output_type": "stream",
     "text": [
      "{'val_loss': 1.4810095429420471, 'val_accuracy': 0.682033096926714, 'precision': 0.6745051607263335, 'recall': 0.682033096926714, 'f1-score': 0.6653993674351111, 'macro_f1-score': 0.37726277214323245, 'balanced_accuracy': 0.3883125566937731, 'mcc': 0.5752437605089282, 'train_loss': 0.4417910604667263}\n",
      "Epoch 16/20\n"
     ]
    },
    {
     "name": "stderr",
     "output_type": "stream",
     "text": [
      "100%|██████████| 476/476 [04:11<00:00,  1.90it/s]\n"
     ]
    },
    {
     "name": "stdout",
     "output_type": "stream",
     "text": [
      "{'val_loss': 1.5140208416389969, 'val_accuracy': 0.6631205673758865, 'precision': 0.6458965026232294, 'recall': 0.6631205673758865, 'f1-score': 0.6459282742812626, 'macro_f1-score': 0.35508607980415063, 'balanced_accuracy': 0.3940887080131405, 'mcc': 0.5605837252301495, 'train_loss': 0.4665922904465379}\n",
      "Epoch 17/20\n"
     ]
    },
    {
     "name": "stderr",
     "output_type": "stream",
     "text": [
      "100%|██████████| 476/476 [04:08<00:00,  1.92it/s]\n"
     ]
    },
    {
     "name": "stdout",
     "output_type": "stream",
     "text": [
      "{'val_loss': 1.5317330737158936, 'val_accuracy': 0.7009456264775413, 'precision': 0.6814232795595367, 'recall': 0.7009456264775413, 'f1-score': 0.6745819974302923, 'macro_f1-score': 0.424257406341193, 'balanced_accuracy': 0.40808095476213657, 'mcc': 0.5963229592557971, 'train_loss': 0.41027233690539955}\n",
      "Epoch 18/20\n"
     ]
    },
    {
     "name": "stderr",
     "output_type": "stream",
     "text": [
      "100%|██████████| 476/476 [04:11<00:00,  1.89it/s]\n"
     ]
    },
    {
     "name": "stdout",
     "output_type": "stream",
     "text": [
      "{'val_loss': 1.5916569553456217, 'val_accuracy': 0.6678486997635934, 'precision': 0.6890371014982188, 'recall': 0.6678486997635934, 'f1-score': 0.6607163075381844, 'macro_f1-score': 0.38860163281168647, 'balanced_accuracy': 0.39493946365346466, 'mcc': 0.5612594156833668, 'train_loss': 0.3725759041761713}\n",
      "Epoch 19/20\n"
     ]
    },
    {
     "name": "stderr",
     "output_type": "stream",
     "text": [
      "100%|██████████| 476/476 [04:11<00:00,  1.89it/s]\n"
     ]
    },
    {
     "name": "stdout",
     "output_type": "stream",
     "text": [
      "{'val_loss': 1.5694167464971542, 'val_accuracy': 0.6643026004728132, 'precision': 0.6717358591008588, 'recall': 0.6643026004728132, 'f1-score': 0.659765891291051, 'macro_f1-score': 0.39346480272243256, 'balanced_accuracy': 0.40115112863416447, 'mcc': 0.5618080260524199, 'train_loss': 0.33928108971053345}\n",
      "Epoch 20/20\n"
     ]
    },
    {
     "name": "stderr",
     "output_type": "stream",
     "text": [
      "100%|██████████| 476/476 [04:09<00:00,  1.90it/s]\n"
     ]
    },
    {
     "name": "stdout",
     "output_type": "stream",
     "text": [
      "{'val_loss': 1.5773857697001044, 'val_accuracy': 0.6465721040189125, 'precision': 0.6627408098576768, 'recall': 0.6465721040189125, 'f1-score': 0.6441537890731819, 'macro_f1-score': 0.38705431607736046, 'balanced_accuracy': 0.4136693369550414, 'mcc': 0.545447565408572, 'train_loss': 0.3434064777082756}\n",
      "Early stopping.\n",
      "\n",
      "[Fold 4]\n",
      "model is roberta-base bilstm\n"
     ]
    },
    {
     "name": "stderr",
     "output_type": "stream",
     "text": [
      "Some weights of RobertaModel were not initialized from the model checkpoint at roberta-base and are newly initialized: ['roberta.pooler.dense.bias', 'roberta.pooler.dense.weight']\n",
      "You should probably TRAIN this model on a down-stream task to be able to use it for predictions and inference.\n"
     ]
    },
    {
     "name": "stdout",
     "output_type": "stream",
     "text": [
      "Epoch 1/20\n"
     ]
    },
    {
     "name": "stderr",
     "output_type": "stream",
     "text": [
      "100%|██████████| 476/476 [04:11<00:00,  1.89it/s]\n"
     ]
    },
    {
     "name": "stdout",
     "output_type": "stream",
     "text": [
      "{'val_loss': 1.8324391695688356, 'val_accuracy': 0.574468085106383, 'precision': 0.35559590577259625, 'recall': 0.574468085106383, 'f1-score': 0.4389593516272347, 'macro_f1-score': 0.05082575248707975, 'balanced_accuracy': 0.0644553448053708, 'mcc': 0.3666141863981397, 'train_loss': 2.0839837691864047}\n",
      "Epoch 2/20\n"
     ]
    },
    {
     "name": "stderr",
     "output_type": "stream",
     "text": [
      "100%|██████████| 476/476 [04:11<00:00,  1.89it/s]\n"
     ]
    },
    {
     "name": "stdout",
     "output_type": "stream",
     "text": [
      "{'val_loss': 1.6377896958926939, 'val_accuracy': 0.5862884160756501, 'precision': 0.43612762975370983, 'recall': 0.5862884160756501, 'f1-score': 0.4910826304615869, 'macro_f1-score': 0.08794632815491685, 'balanced_accuracy': 0.1001208009726464, 'mcc': 0.4104180271058829, 'train_loss': 1.6763712739994545}\n",
      "Epoch 3/20\n"
     ]
    },
    {
     "name": "stderr",
     "output_type": "stream",
     "text": [
      "100%|██████████| 476/476 [04:08<00:00,  1.91it/s]\n"
     ]
    },
    {
     "name": "stdout",
     "output_type": "stream",
     "text": [
      "{'val_loss': 1.5259325628010731, 'val_accuracy': 0.6158392434988179, 'precision': 0.5041971744953263, 'recall': 0.6158392434988179, 'f1-score': 0.5390020452361955, 'macro_f1-score': 0.13720199144281006, 'balanced_accuracy': 0.14595565033937935, 'mcc': 0.4608570145744015, 'train_loss': 1.458283617967317}\n",
      "Epoch 4/20\n"
     ]
    },
    {
     "name": "stderr",
     "output_type": "stream",
     "text": [
      "100%|██████████| 476/476 [04:13<00:00,  1.88it/s]\n"
     ]
    },
    {
     "name": "stdout",
     "output_type": "stream",
     "text": [
      "{'val_loss': 1.5208270279866345, 'val_accuracy': 0.6347517730496454, 'precision': 0.5566810664214943, 'recall': 0.6347517730496454, 'f1-score': 0.5764728419543516, 'macro_f1-score': 0.20690185520110319, 'balanced_accuracy': 0.2082148527150087, 'mcc': 0.49951680882774185, 'train_loss': 1.2976319399826668}\n",
      "Epoch 5/20\n"
     ]
    },
    {
     "name": "stderr",
     "output_type": "stream",
     "text": [
      "100%|██████████| 476/476 [04:11<00:00,  1.89it/s]\n"
     ]
    },
    {
     "name": "stdout",
     "output_type": "stream",
     "text": [
      "{'val_loss': 1.451627936003343, 'val_accuracy': 0.6040189125295509, 'precision': 0.5956005888299566, 'recall': 0.6040189125295509, 'f1-score': 0.5769735648915275, 'macro_f1-score': 0.22271457776474152, 'balanced_accuracy': 0.24548363078997287, 'mcc': 0.4827540392644256, 'train_loss': 1.1982422451637371}\n",
      "Epoch 6/20\n"
     ]
    },
    {
     "name": "stderr",
     "output_type": "stream",
     "text": [
      "100%|██████████| 476/476 [04:10<00:00,  1.90it/s]\n"
     ]
    },
    {
     "name": "stdout",
     "output_type": "stream",
     "text": [
      "{'val_loss': 1.4485940275327214, 'val_accuracy': 0.6513002364066194, 'precision': 0.599964278278428, 'recall': 0.6513002364066194, 'f1-score': 0.6050513435961988, 'macro_f1-score': 0.26111122408125625, 'balanced_accuracy': 0.258501979331437, 'mcc': 0.522567401011048, 'train_loss': 1.0464790723278743}\n",
      "Epoch 7/20\n"
     ]
    },
    {
     "name": "stderr",
     "output_type": "stream",
     "text": [
      "100%|██████████| 476/476 [04:10<00:00,  1.90it/s]\n"
     ]
    },
    {
     "name": "stdout",
     "output_type": "stream",
     "text": [
      "{'val_loss': 1.3994361983155303, 'val_accuracy': 0.6418439716312057, 'precision': 0.5957898678310386, 'recall': 0.6418439716312057, 'f1-score': 0.5985264604167813, 'macro_f1-score': 0.25396925767028683, 'balanced_accuracy': 0.2612803739840128, 'mcc': 0.5153720696212082, 'train_loss': 0.9428122562489339}\n",
      "Epoch 8/20\n"
     ]
    },
    {
     "name": "stderr",
     "output_type": "stream",
     "text": [
      "100%|██████████| 476/476 [04:09<00:00,  1.91it/s]\n"
     ]
    },
    {
     "name": "stdout",
     "output_type": "stream",
     "text": [
      "{'val_loss': 1.514032780561807, 'val_accuracy': 0.6193853427895981, 'precision': 0.6248584647664981, 'recall': 0.6193853427895981, 'f1-score': 0.5981314446124764, 'macro_f1-score': 0.2789768313338682, 'balanced_accuracy': 0.30257361332904564, 'mcc': 0.4977800506926203, 'train_loss': 0.8264669945009616}\n",
      "Epoch 9/20\n"
     ]
    },
    {
     "name": "stderr",
     "output_type": "stream",
     "text": [
      "100%|██████████| 476/476 [04:09<00:00,  1.90it/s]\n"
     ]
    },
    {
     "name": "stdout",
     "output_type": "stream",
     "text": [
      "{'val_loss': 1.460006153246142, 'val_accuracy': 0.6359338061465721, 'precision': 0.6050488868989129, 'recall': 0.6359338061465721, 'f1-score': 0.6027582569881428, 'macro_f1-score': 0.28610371475996377, 'balanced_accuracy': 0.29697287997048866, 'mcc': 0.5071160549745889, 'train_loss': 0.7597332547943131}\n",
      "Epoch 10/20\n"
     ]
    },
    {
     "name": "stderr",
     "output_type": "stream",
     "text": [
      "100%|██████████| 476/476 [04:11<00:00,  1.89it/s]\n"
     ]
    },
    {
     "name": "stdout",
     "output_type": "stream",
     "text": [
      "{'val_loss': 1.4889986368845094, 'val_accuracy': 0.6371158392434988, 'precision': 0.6384771862133016, 'recall': 0.6371158392434988, 'f1-score': 0.6170545620630589, 'macro_f1-score': 0.292905197166033, 'balanced_accuracy': 0.30231070558852574, 'mcc': 0.5199497327920589, 'train_loss': 0.6771164745280221}\n",
      "Epoch 11/20\n"
     ]
    },
    {
     "name": "stderr",
     "output_type": "stream",
     "text": [
      "100%|██████████| 476/476 [04:08<00:00,  1.91it/s]\n"
     ]
    },
    {
     "name": "stdout",
     "output_type": "stream",
     "text": [
      "{'val_loss': 1.497212844074897, 'val_accuracy': 0.6560283687943262, 'precision': 0.6579642686155617, 'recall': 0.6560283687943262, 'f1-score': 0.6407477572606253, 'macro_f1-score': 0.33655748712203226, 'balanced_accuracy': 0.33001558302880435, 'mcc': 0.5525819791964464, 'train_loss': 0.6143586564292552}\n",
      "Epoch 12/20\n"
     ]
    },
    {
     "name": "stderr",
     "output_type": "stream",
     "text": [
      "100%|██████████| 476/476 [04:08<00:00,  1.91it/s]\n"
     ]
    },
    {
     "name": "stdout",
     "output_type": "stream",
     "text": [
      "{'val_loss': 1.5886932487757701, 'val_accuracy': 0.6312056737588653, 'precision': 0.6598810869219853, 'recall': 0.6312056737588653, 'f1-score': 0.6270150096831862, 'macro_f1-score': 0.3113089467403943, 'balanced_accuracy': 0.3263425703428823, 'mcc': 0.523912395471463, 'train_loss': 0.5605763118526265}\n",
      "Epoch 13/20\n"
     ]
    },
    {
     "name": "stderr",
     "output_type": "stream",
     "text": [
      "100%|██████████| 476/476 [04:08<00:00,  1.91it/s]\n"
     ]
    },
    {
     "name": "stdout",
     "output_type": "stream",
     "text": [
      "{'val_loss': 1.5040289964878335, 'val_accuracy': 0.6323877068557919, 'precision': 0.6350811933914813, 'recall': 0.6323877068557919, 'f1-score': 0.6191724133729555, 'macro_f1-score': 0.31881419085659063, 'balanced_accuracy': 0.31956094933965323, 'mcc': 0.5149177496530194, 'train_loss': 0.5427814183772361}\n",
      "Epoch 14/20\n"
     ]
    },
    {
     "name": "stderr",
     "output_type": "stream",
     "text": [
      "100%|██████████| 476/476 [04:11<00:00,  1.89it/s]\n"
     ]
    },
    {
     "name": "stdout",
     "output_type": "stream",
     "text": [
      "{'val_loss': 1.5816419574449647, 'val_accuracy': 0.624113475177305, 'precision': 0.6629474279483386, 'recall': 0.624113475177305, 'f1-score': 0.6276192695893383, 'macro_f1-score': 0.32594753095550577, 'balanced_accuracy': 0.3429345279107192, 'mcc': 0.5163768461152155, 'train_loss': 0.4600348078974468}\n",
      "Early stopping.\n",
      "\n",
      "[Fold 5]\n",
      "model is roberta-base bilstm\n"
     ]
    },
    {
     "name": "stderr",
     "output_type": "stream",
     "text": [
      "Some weights of RobertaModel were not initialized from the model checkpoint at roberta-base and are newly initialized: ['roberta.pooler.dense.bias', 'roberta.pooler.dense.weight']\n",
      "You should probably TRAIN this model on a down-stream task to be able to use it for predictions and inference.\n"
     ]
    },
    {
     "name": "stdout",
     "output_type": "stream",
     "text": [
      "Epoch 1/20\n"
     ]
    },
    {
     "name": "stderr",
     "output_type": "stream",
     "text": [
      "100%|██████████| 476/476 [04:11<00:00,  1.89it/s]\n"
     ]
    },
    {
     "name": "stdout",
     "output_type": "stream",
     "text": [
      "{'val_loss': 1.819063277739399, 'val_accuracy': 0.5668639053254438, 'precision': 0.3694976650199515, 'recall': 0.5668639053254438, 'f1-score': 0.44450242665841483, 'macro_f1-score': 0.046365023060107174, 'balanced_accuracy': 0.06761124396319393, 'mcc': 0.37397625528850703, 'train_loss': 2.1047101202381757}\n",
      "Epoch 2/20\n"
     ]
    },
    {
     "name": "stderr",
     "output_type": "stream",
     "text": [
      "100%|██████████| 476/476 [04:08<00:00,  1.91it/s]\n"
     ]
    },
    {
     "name": "stdout",
     "output_type": "stream",
     "text": [
      "{'val_loss': 1.5716082150081419, 'val_accuracy': 0.5940828402366863, 'precision': 0.4649385784277775, 'recall': 0.5940828402366863, 'f1-score': 0.5076965257882023, 'macro_f1-score': 0.09452050959209578, 'balanced_accuracy': 0.11759879601564652, 'mcc': 0.4283168650490475, 'train_loss': 1.6801288834765178}\n",
      "Epoch 3/20\n"
     ]
    },
    {
     "name": "stderr",
     "output_type": "stream",
     "text": [
      "100%|██████████| 476/476 [04:08<00:00,  1.92it/s]\n"
     ]
    },
    {
     "name": "stdout",
     "output_type": "stream",
     "text": [
      "{'val_loss': 1.474069726916979, 'val_accuracy': 0.6023668639053255, 'precision': 0.49262336718932476, 'recall': 0.6023668639053255, 'f1-score': 0.5322945538756425, 'macro_f1-score': 0.12736537391264552, 'balanced_accuracy': 0.1549542277549313, 'mcc': 0.4588297328459696, 'train_loss': 1.447489393233251}\n",
      "Epoch 4/20\n"
     ]
    },
    {
     "name": "stderr",
     "output_type": "stream",
     "text": [
      "100%|██████████| 476/476 [04:10<00:00,  1.90it/s]\n"
     ]
    },
    {
     "name": "stdout",
     "output_type": "stream",
     "text": [
      "{'val_loss': 1.3959358655056864, 'val_accuracy': 0.6366863905325444, 'precision': 0.5257802125431114, 'recall': 0.6366863905325444, 'f1-score': 0.5652281877519737, 'macro_f1-score': 0.17063385449617285, 'balanced_accuracy': 0.1811200598901587, 'mcc': 0.4931570248177648, 'train_loss': 1.3041364889310187}\n",
      "Epoch 5/20\n"
     ]
    },
    {
     "name": "stderr",
     "output_type": "stream",
     "text": [
      "100%|██████████| 476/476 [04:11<00:00,  1.89it/s]\n"
     ]
    },
    {
     "name": "stdout",
     "output_type": "stream",
     "text": [
      "{'val_loss': 1.35988465007746, 'val_accuracy': 0.6437869822485207, 'precision': 0.5931380625843061, 'recall': 0.6437869822485207, 'f1-score': 0.6081460864908905, 'macro_f1-score': 0.23308432824621517, 'balanced_accuracy': 0.2501476569484734, 'mcc': 0.5285993127231337, 'train_loss': 1.15637656288738}\n",
      "Epoch 6/20\n"
     ]
    },
    {
     "name": "stderr",
     "output_type": "stream",
     "text": [
      "100%|██████████| 476/476 [04:12<00:00,  1.89it/s]\n"
     ]
    },
    {
     "name": "stdout",
     "output_type": "stream",
     "text": [
      "{'val_loss': 1.3550110954158712, 'val_accuracy': 0.6248520710059171, 'precision': 0.5937113295603732, 'recall': 0.6248520710059171, 'f1-score': 0.5966013964799779, 'macro_f1-score': 0.216420901596702, 'balanced_accuracy': 0.23266638977516016, 'mcc': 0.5093681721044591, 'train_loss': 1.0285714801181765}\n",
      "Epoch 7/20\n"
     ]
    },
    {
     "name": "stderr",
     "output_type": "stream",
     "text": [
      "100%|██████████| 476/476 [04:11<00:00,  1.90it/s]\n"
     ]
    },
    {
     "name": "stdout",
     "output_type": "stream",
     "text": [
      "{'val_loss': 1.3585985336663589, 'val_accuracy': 0.6272189349112426, 'precision': 0.6452402403472164, 'recall': 0.6272189349112426, 'f1-score': 0.6187133057628226, 'macro_f1-score': 0.24371022326028466, 'balanced_accuracy': 0.25851522359735407, 'mcc': 0.5208024069164005, 'train_loss': 0.9025595065112374}\n",
      "Epoch 8/20\n"
     ]
    },
    {
     "name": "stderr",
     "output_type": "stream",
     "text": [
      "100%|██████████| 476/476 [04:11<00:00,  1.89it/s]\n"
     ]
    },
    {
     "name": "stdout",
     "output_type": "stream",
     "text": [
      "{'val_loss': 1.3829716247207713, 'val_accuracy': 0.650887573964497, 'precision': 0.6289263800761902, 'recall': 0.650887573964497, 'f1-score': 0.6251500655569223, 'macro_f1-score': 0.3099020344004862, 'balanced_accuracy': 0.32850844658984746, 'mcc': 0.5397180007648638, 'train_loss': 0.8187462030166462}\n",
      "Epoch 9/20\n"
     ]
    },
    {
     "name": "stderr",
     "output_type": "stream",
     "text": [
      "100%|██████████| 476/476 [04:09<00:00,  1.91it/s]\n"
     ]
    },
    {
     "name": "stdout",
     "output_type": "stream",
     "text": [
      "{'val_loss': 1.4867623532718082, 'val_accuracy': 0.6544378698224852, 'precision': 0.6309898873937931, 'recall': 0.6544378698224852, 'f1-score': 0.6202815714259049, 'macro_f1-score': 0.28318744466972934, 'balanced_accuracy': 0.2935601386407711, 'mcc': 0.5328317952811819, 'train_loss': 0.7445894066995683}\n",
      "Epoch 10/20\n"
     ]
    },
    {
     "name": "stderr",
     "output_type": "stream",
     "text": [
      "100%|██████████| 476/476 [04:11<00:00,  1.89it/s]\n"
     ]
    },
    {
     "name": "stdout",
     "output_type": "stream",
     "text": [
      "{'val_loss': 1.431952140803607, 'val_accuracy': 0.6568047337278107, 'precision': 0.6381948368022774, 'recall': 0.6568047337278107, 'f1-score': 0.6329663872118534, 'macro_f1-score': 0.29831085179480793, 'balanced_accuracy': 0.3050519250946283, 'mcc': 0.5399626659133083, 'train_loss': 0.6849112780921224}\n",
      "Epoch 11/20\n"
     ]
    },
    {
     "name": "stderr",
     "output_type": "stream",
     "text": [
      "100%|██████████| 476/476 [04:09<00:00,  1.91it/s]\n"
     ]
    },
    {
     "name": "stdout",
     "output_type": "stream",
     "text": [
      "{'val_loss': 1.44280196079668, 'val_accuracy': 0.6556213017751479, 'precision': 0.6265859541832604, 'recall': 0.6556213017751479, 'f1-score': 0.6267920298599327, 'macro_f1-score': 0.30594625568419714, 'balanced_accuracy': 0.3192044262932645, 'mcc': 0.5418343311104326, 'train_loss': 0.6150233944048401}\n",
      "Early stopping.\n",
      "\n",
      "[Fold 6]\n",
      "model is roberta-base bilstm\n"
     ]
    },
    {
     "name": "stderr",
     "output_type": "stream",
     "text": [
      "Some weights of RobertaModel were not initialized from the model checkpoint at roberta-base and are newly initialized: ['roberta.pooler.dense.bias', 'roberta.pooler.dense.weight']\n",
      "You should probably TRAIN this model on a down-stream task to be able to use it for predictions and inference.\n"
     ]
    },
    {
     "name": "stdout",
     "output_type": "stream",
     "text": [
      "Epoch 1/20\n"
     ]
    },
    {
     "name": "stderr",
     "output_type": "stream",
     "text": [
      "100%|██████████| 476/476 [04:11<00:00,  1.89it/s]\n"
     ]
    },
    {
     "name": "stdout",
     "output_type": "stream",
     "text": [
      "{'val_loss': 1.7751352190971375, 'val_accuracy': 0.570414201183432, 'precision': 0.3485972742782979, 'recall': 0.570414201183432, 'f1-score': 0.4314906263461629, 'macro_f1-score': 0.04863438361525248, 'balanced_accuracy': 0.064276906393644, 'mcc': 0.36013862757813536, 'train_loss': 2.108733645131608}\n",
      "Epoch 2/20\n"
     ]
    },
    {
     "name": "stderr",
     "output_type": "stream",
     "text": [
      "100%|██████████| 476/476 [04:11<00:00,  1.90it/s]\n"
     ]
    },
    {
     "name": "stdout",
     "output_type": "stream",
     "text": [
      "{'val_loss': 1.5517721423562967, 'val_accuracy': 0.6071005917159763, 'precision': 0.485408100188373, 'recall': 0.6071005917159763, 'f1-score': 0.5224342706393222, 'macro_f1-score': 0.10386006982220009, 'balanced_accuracy': 0.12336218036117463, 'mcc': 0.45681422418495454, 'train_loss': 1.6781667316285502}\n",
      "Epoch 3/20\n"
     ]
    },
    {
     "name": "stderr",
     "output_type": "stream",
     "text": [
      "100%|██████████| 476/476 [04:11<00:00,  1.89it/s]\n"
     ]
    },
    {
     "name": "stdout",
     "output_type": "stream",
     "text": [
      "{'val_loss': 1.4853172605892397, 'val_accuracy': 0.6260355029585799, 'precision': 0.5199993516551535, 'recall': 0.6260355029585799, 'f1-score': 0.5406954897762635, 'macro_f1-score': 0.12346986444876322, 'balanced_accuracy': 0.14449968119671247, 'mcc': 0.4827981073346985, 'train_loss': 1.4691960329518599}\n",
      "Epoch 4/20\n"
     ]
    },
    {
     "name": "stderr",
     "output_type": "stream",
     "text": [
      "100%|██████████| 476/476 [04:10<00:00,  1.90it/s]\n"
     ]
    },
    {
     "name": "stdout",
     "output_type": "stream",
     "text": [
      "{'val_loss': 1.41989928765117, 'val_accuracy': 0.6414201183431952, 'precision': 0.5430310205054503, 'recall': 0.6414201183431952, 'f1-score': 0.567899465758493, 'macro_f1-score': 0.1551924546915639, 'balanced_accuracy': 0.16439890609085384, 'mcc': 0.5003769893761193, 'train_loss': 1.3675233560825597}\n",
      "Epoch 5/20\n"
     ]
    },
    {
     "name": "stderr",
     "output_type": "stream",
     "text": [
      "100%|██████████| 476/476 [04:11<00:00,  1.89it/s]\n"
     ]
    },
    {
     "name": "stdout",
     "output_type": "stream",
     "text": [
      "{'val_loss': 1.355130671330218, 'val_accuracy': 0.6319526627218935, 'precision': 0.5860997294430575, 'recall': 0.6319526627218935, 'f1-score': 0.5970518941734548, 'macro_f1-score': 0.1956141641342524, 'balanced_accuracy': 0.2109212937376812, 'mcc': 0.513631668177657, 'train_loss': 1.2572690007441185}\n",
      "Epoch 6/20\n"
     ]
    },
    {
     "name": "stderr",
     "output_type": "stream",
     "text": [
      "100%|██████████| 476/476 [04:11<00:00,  1.90it/s]\n"
     ]
    },
    {
     "name": "stdout",
     "output_type": "stream",
     "text": [
      "{'val_loss': 1.401964322575983, 'val_accuracy': 0.6390532544378699, 'precision': 0.6036184974689743, 'recall': 0.6390532544378699, 'f1-score': 0.5938653902426029, 'macro_f1-score': 0.21214314827982272, 'balanced_accuracy': 0.21056021519434778, 'mcc': 0.5107834245661506, 'train_loss': 1.1406183271285366}\n",
      "Epoch 7/20\n"
     ]
    },
    {
     "name": "stderr",
     "output_type": "stream",
     "text": [
      "100%|██████████| 476/476 [04:10<00:00,  1.90it/s]\n"
     ]
    },
    {
     "name": "stdout",
     "output_type": "stream",
     "text": [
      "{'val_loss': 1.346284291091955, 'val_accuracy': 0.6366863905325444, 'precision': 0.5678725241635445, 'recall': 0.6366863905325444, 'f1-score': 0.594975098339799, 'macro_f1-score': 0.2178992075427432, 'balanced_accuracy': 0.22344238851633924, 'mcc': 0.5082044101421829, 'train_loss': 1.0393028640258712}\n",
      "Epoch 8/20\n"
     ]
    },
    {
     "name": "stderr",
     "output_type": "stream",
     "text": [
      "100%|██████████| 476/476 [04:09<00:00,  1.91it/s]\n"
     ]
    },
    {
     "name": "stdout",
     "output_type": "stream",
     "text": [
      "{'val_loss': 1.4587731721266262, 'val_accuracy': 0.650887573964497, 'precision': 0.6013424738990051, 'recall': 0.650887573964497, 'f1-score': 0.6004535212378754, 'macro_f1-score': 0.21914314414705804, 'balanced_accuracy': 0.22047255430087376, 'mcc': 0.5181789594694163, 'train_loss': 0.9503478920948105}\n",
      "Epoch 9/20\n"
     ]
    },
    {
     "name": "stderr",
     "output_type": "stream",
     "text": [
      "100%|██████████| 476/476 [04:11<00:00,  1.90it/s]\n"
     ]
    },
    {
     "name": "stdout",
     "output_type": "stream",
     "text": [
      "{'val_loss': 1.4692563712596893, 'val_accuracy': 0.6153846153846154, 'precision': 0.6009414423170817, 'recall': 0.6153846153846154, 'f1-score': 0.5914092479090615, 'macro_f1-score': 0.22916404899415727, 'balanced_accuracy': 0.23205692688957416, 'mcc': 0.4861981624521866, 'train_loss': 0.8761270193367445}\n",
      "Epoch 10/20\n"
     ]
    },
    {
     "name": "stderr",
     "output_type": "stream",
     "text": [
      "100%|██████████| 476/476 [04:08<00:00,  1.92it/s]\n"
     ]
    },
    {
     "name": "stdout",
     "output_type": "stream",
     "text": [
      "{'val_loss': 1.2831630599948596, 'val_accuracy': 0.6556213017751479, 'precision': 0.6227495013212345, 'recall': 0.6556213017751479, 'f1-score': 0.6232773373841622, 'macro_f1-score': 0.2669841357850321, 'balanced_accuracy': 0.2704557747469668, 'mcc': 0.5367003131798179, 'train_loss': 0.8919711517592689}\n",
      "Epoch 11/20\n"
     ]
    },
    {
     "name": "stderr",
     "output_type": "stream",
     "text": [
      "100%|██████████| 476/476 [04:09<00:00,  1.90it/s]\n"
     ]
    },
    {
     "name": "stdout",
     "output_type": "stream",
     "text": [
      "{'val_loss': 1.367460842964784, 'val_accuracy': 0.6402366863905326, 'precision': 0.645406089628749, 'recall': 0.6402366863905326, 'f1-score': 0.6314532085934309, 'macro_f1-score': 0.2771235940624135, 'balanced_accuracy': 0.28478860470811446, 'mcc': 0.5331641853024437, 'train_loss': 0.7449807348434164}\n",
      "Epoch 12/20\n"
     ]
    },
    {
     "name": "stderr",
     "output_type": "stream",
     "text": [
      "100%|██████████| 476/476 [04:10<00:00,  1.90it/s]\n"
     ]
    },
    {
     "name": "stdout",
     "output_type": "stream",
     "text": [
      "{'val_loss': 1.408097728805722, 'val_accuracy': 0.6662721893491125, 'precision': 0.6040331715598892, 'recall': 0.6662721893491125, 'f1-score': 0.621700047514525, 'macro_f1-score': 0.2672340433464537, 'balanced_accuracy': 0.26411752028442453, 'mcc': 0.5431978713152611, 'train_loss': 0.734359464874225}\n",
      "Epoch 13/20\n"
     ]
    },
    {
     "name": "stderr",
     "output_type": "stream",
     "text": [
      "100%|██████████| 476/476 [04:03<00:00,  1.95it/s]\n"
     ]
    },
    {
     "name": "stdout",
     "output_type": "stream",
     "text": [
      "{'val_loss': 1.3939781897472885, 'val_accuracy': 0.6378698224852071, 'precision': 0.646547228887315, 'recall': 0.6378698224852071, 'f1-score': 0.6287152994943327, 'macro_f1-score': 0.2829631371359023, 'balanced_accuracy': 0.29333175550770807, 'mcc': 0.5262751271033926, 'train_loss': 0.6567318761142111}\n",
      "Epoch 14/20\n"
     ]
    },
    {
     "name": "stderr",
     "output_type": "stream",
     "text": [
      "100%|██████████| 476/476 [04:09<00:00,  1.91it/s]\n"
     ]
    },
    {
     "name": "stdout",
     "output_type": "stream",
     "text": [
      "{'val_loss': 1.406898948381532, 'val_accuracy': 0.6390532544378699, 'precision': 0.6521978199343915, 'recall': 0.6390532544378699, 'f1-score': 0.6332432781729711, 'macro_f1-score': 0.28368687335624093, 'balanced_accuracy': 0.29472667762582366, 'mcc': 0.5296647038087969, 'train_loss': 0.5931061635952161}\n",
      "Epoch 15/20\n"
     ]
    },
    {
     "name": "stderr",
     "output_type": "stream",
     "text": [
      "100%|██████████| 476/476 [04:06<00:00,  1.93it/s]\n"
     ]
    },
    {
     "name": "stdout",
     "output_type": "stream",
     "text": [
      "{'val_loss': 1.44508259420125, 'val_accuracy': 0.6532544378698225, 'precision': 0.6577018746741446, 'recall': 0.6532544378698225, 'f1-score': 0.6417415359028731, 'macro_f1-score': 0.32360402088584467, 'balanced_accuracy': 0.3378981214632624, 'mcc': 0.5546736346542375, 'train_loss': 0.5496552626821486}\n",
      "Epoch 16/20\n"
     ]
    },
    {
     "name": "stderr",
     "output_type": "stream",
     "text": [
      "100%|██████████| 476/476 [04:09<00:00,  1.91it/s]\n"
     ]
    },
    {
     "name": "stdout",
     "output_type": "stream",
     "text": [
      "{'val_loss': 1.4528603857418276, 'val_accuracy': 0.6520710059171597, 'precision': 0.6467100348283576, 'recall': 0.6520710059171597, 'f1-score': 0.6321764727814353, 'macro_f1-score': 0.286253121147019, 'balanced_accuracy': 0.3126520027345241, 'mcc': 0.5416908516015245, 'train_loss': 0.5420479724856735}\n",
      "Epoch 17/20\n"
     ]
    },
    {
     "name": "stderr",
     "output_type": "stream",
     "text": [
      "100%|██████████| 476/476 [04:09<00:00,  1.91it/s]\n"
     ]
    },
    {
     "name": "stdout",
     "output_type": "stream",
     "text": [
      "{'val_loss': 1.3974487466632195, 'val_accuracy': 0.6627218934911243, 'precision': 0.6692669609052685, 'recall': 0.6627218934911243, 'f1-score': 0.6482255714528231, 'macro_f1-score': 0.31040603583000925, 'balanced_accuracy': 0.33306292723801123, 'mcc': 0.5622536803356877, 'train_loss': 0.5332728628217861}\n",
      "Epoch 18/20\n"
     ]
    },
    {
     "name": "stderr",
     "output_type": "stream",
     "text": [
      "100%|██████████| 476/476 [04:09<00:00,  1.91it/s]\n"
     ]
    },
    {
     "name": "stdout",
     "output_type": "stream",
     "text": [
      "{'val_loss': 1.5722251320784946, 'val_accuracy': 0.6662721893491125, 'precision': 0.6306924249311405, 'recall': 0.6662721893491125, 'f1-score': 0.6359995309106757, 'macro_f1-score': 0.30064311985552145, 'balanced_accuracy': 0.2935140390660686, 'mcc': 0.5544710155383039, 'train_loss': 0.523291042528483}\n",
      "Early stopping.\n",
      "\n",
      "[Fold 7]\n",
      "model is roberta-base bilstm\n"
     ]
    },
    {
     "name": "stderr",
     "output_type": "stream",
     "text": [
      "Some weights of RobertaModel were not initialized from the model checkpoint at roberta-base and are newly initialized: ['roberta.pooler.dense.bias', 'roberta.pooler.dense.weight']\n",
      "You should probably TRAIN this model on a down-stream task to be able to use it for predictions and inference.\n"
     ]
    },
    {
     "name": "stdout",
     "output_type": "stream",
     "text": [
      "Epoch 1/20\n"
     ]
    },
    {
     "name": "stderr",
     "output_type": "stream",
     "text": [
      "100%|██████████| 476/476 [04:11<00:00,  1.89it/s]\n"
     ]
    },
    {
     "name": "stdout",
     "output_type": "stream",
     "text": [
      "{'val_loss': 1.8380724084827136, 'val_accuracy': 0.5822485207100592, 'precision': 0.3592583041356607, 'recall': 0.5822485207100592, 'f1-score': 0.4430593173618414, 'macro_f1-score': 0.050895257980477365, 'balanced_accuracy': 0.06461316487137836, 'mcc': 0.38213939637908756, 'train_loss': 2.1260317013043317}\n",
      "Epoch 2/20\n"
     ]
    },
    {
     "name": "stderr",
     "output_type": "stream",
     "text": [
      "100%|██████████| 476/476 [04:13<00:00,  1.88it/s]\n"
     ]
    },
    {
     "name": "stdout",
     "output_type": "stream",
     "text": [
      "{'val_loss': 1.6246734070328046, 'val_accuracy': 0.5846153846153846, 'precision': 0.40139948346526616, 'recall': 0.5846153846153846, 'f1-score': 0.47177143640259744, 'macro_f1-score': 0.07175617785047746, 'balanced_accuracy': 0.10618644292651223, 'mcc': 0.4131245921135264, 'train_loss': 1.7214640638783199}\n",
      "Epoch 3/20\n"
     ]
    },
    {
     "name": "stderr",
     "output_type": "stream",
     "text": [
      "100%|██████████| 476/476 [04:09<00:00,  1.91it/s]\n"
     ]
    },
    {
     "name": "stdout",
     "output_type": "stream",
     "text": [
      "{'val_loss': 1.4870093318651307, 'val_accuracy': 0.5905325443786982, 'precision': 0.49616117360180306, 'recall': 0.5905325443786982, 'f1-score': 0.5269222072585011, 'macro_f1-score': 0.13049754306004782, 'balanced_accuracy': 0.1482947708805012, 'mcc': 0.42825002365626613, 'train_loss': 1.4790074152230215}\n",
      "Epoch 4/20\n"
     ]
    },
    {
     "name": "stderr",
     "output_type": "stream",
     "text": [
      "100%|██████████| 476/476 [04:11<00:00,  1.89it/s]\n"
     ]
    },
    {
     "name": "stdout",
     "output_type": "stream",
     "text": [
      "{'val_loss': 1.4345237438408833, 'val_accuracy': 0.6248520710059171, 'precision': 0.5307174181713222, 'recall': 0.6248520710059171, 'f1-score': 0.5321481481647103, 'macro_f1-score': 0.12369833681672672, 'balanced_accuracy': 0.1423937895252223, 'mcc': 0.4742262203926581, 'train_loss': 1.331498289559068}\n",
      "Epoch 5/20\n"
     ]
    },
    {
     "name": "stderr",
     "output_type": "stream",
     "text": [
      "100%|██████████| 476/476 [04:08<00:00,  1.91it/s]\n"
     ]
    },
    {
     "name": "stdout",
     "output_type": "stream",
     "text": [
      "{'val_loss': 1.3272489888488122, 'val_accuracy': 0.6331360946745562, 'precision': 0.6007331874022658, 'recall': 0.6331360946745562, 'f1-score': 0.5953483574565245, 'macro_f1-score': 0.20288170920405818, 'balanced_accuracy': 0.2185371399384186, 'mcc': 0.5045390522702294, 'train_loss': 1.1952665303559864}\n",
      "Epoch 6/20\n"
     ]
    },
    {
     "name": "stderr",
     "output_type": "stream",
     "text": [
      "100%|██████████| 476/476 [04:12<00:00,  1.89it/s]\n"
     ]
    },
    {
     "name": "stdout",
     "output_type": "stream",
     "text": [
      "{'val_loss': 1.3465954841307874, 'val_accuracy': 0.6449704142011834, 'precision': 0.6051085222164988, 'recall': 0.6449704142011834, 'f1-score': 0.6085830054409096, 'macro_f1-score': 0.23770284180712514, 'balanced_accuracy': 0.25343337740933364, 'mcc': 0.5279410007674031, 'train_loss': 1.0704341522034477}\n",
      "Epoch 7/20\n"
     ]
    },
    {
     "name": "stderr",
     "output_type": "stream",
     "text": [
      "100%|██████████| 476/476 [04:13<00:00,  1.88it/s]\n"
     ]
    },
    {
     "name": "stdout",
     "output_type": "stream",
     "text": [
      "{'val_loss': 1.3149241512676455, 'val_accuracy': 0.6414201183431952, 'precision': 0.6423580716742582, 'recall': 0.6414201183431952, 'f1-score': 0.6261220112386092, 'macro_f1-score': 0.3062995680238298, 'balanced_accuracy': 0.33965822207923524, 'mcc': 0.5341489338357268, 'train_loss': 0.9456381895148954}\n",
      "Epoch 8/20\n"
     ]
    },
    {
     "name": "stderr",
     "output_type": "stream",
     "text": [
      "100%|██████████| 476/476 [04:12<00:00,  1.89it/s]\n"
     ]
    },
    {
     "name": "stdout",
     "output_type": "stream",
     "text": [
      "{'val_loss': 1.3726152684891, 'val_accuracy': 0.685207100591716, 'precision': 0.6433215367045578, 'recall': 0.685207100591716, 'f1-score': 0.6424463239931918, 'macro_f1-score': 0.27446654407636983, 'balanced_accuracy': 0.2823937505593203, 'mcc': 0.5703587102992906, 'train_loss': 0.8364463717434085}\n",
      "Epoch 9/20\n"
     ]
    },
    {
     "name": "stderr",
     "output_type": "stream",
     "text": [
      "100%|██████████| 476/476 [04:11<00:00,  1.89it/s]\n"
     ]
    },
    {
     "name": "stdout",
     "output_type": "stream",
     "text": [
      "{'val_loss': 1.3638650909909662, 'val_accuracy': 0.6414201183431952, 'precision': 0.6612899698622564, 'recall': 0.6414201183431952, 'f1-score': 0.6344147671002539, 'macro_f1-score': 0.3149913114734348, 'balanced_accuracy': 0.3434257835652762, 'mcc': 0.5434233821186568, 'train_loss': 0.7637665293202931}\n",
      "Epoch 10/20\n"
     ]
    },
    {
     "name": "stderr",
     "output_type": "stream",
     "text": [
      "100%|██████████| 476/476 [04:11<00:00,  1.89it/s]\n"
     ]
    },
    {
     "name": "stdout",
     "output_type": "stream",
     "text": [
      "{'val_loss': 1.3151138936573605, 'val_accuracy': 0.6745562130177515, 'precision': 0.6689939524804165, 'recall': 0.6745562130177515, 'f1-score': 0.6530647951269478, 'macro_f1-score': 0.3364153897301426, 'balanced_accuracy': 0.36134187521934835, 'mcc': 0.5740009805353002, 'train_loss': 0.6947818508043009}\n",
      "Epoch 11/20\n"
     ]
    },
    {
     "name": "stderr",
     "output_type": "stream",
     "text": [
      "100%|██████████| 476/476 [04:10<00:00,  1.90it/s]\n"
     ]
    },
    {
     "name": "stdout",
     "output_type": "stream",
     "text": [
      "{'val_loss': 1.42177089767636, 'val_accuracy': 0.6437869822485207, 'precision': 0.6435813048110073, 'recall': 0.6437869822485207, 'f1-score': 0.6252081039821517, 'macro_f1-score': 0.28590244509405255, 'balanced_accuracy': 0.2886587745635467, 'mcc': 0.526861695985191, 'train_loss': 0.599122363526155}\n",
      "Epoch 12/20\n"
     ]
    },
    {
     "name": "stderr",
     "output_type": "stream",
     "text": [
      "100%|██████████| 476/476 [04:05<00:00,  1.94it/s]\n"
     ]
    },
    {
     "name": "stdout",
     "output_type": "stream",
     "text": [
      "{'val_loss': 1.4834069519672755, 'val_accuracy': 0.6686390532544378, 'precision': 0.6659143322254468, 'recall': 0.6686390532544378, 'f1-score': 0.6518269857226695, 'macro_f1-score': 0.3590094841509729, 'balanced_accuracy': 0.3595580658472066, 'mcc': 0.567181488164827, 'train_loss': 0.5415613224745548}\n",
      "Epoch 13/20\n"
     ]
    },
    {
     "name": "stderr",
     "output_type": "stream",
     "text": [
      "100%|██████████| 476/476 [04:12<00:00,  1.88it/s]\n"
     ]
    },
    {
     "name": "stdout",
     "output_type": "stream",
     "text": [
      "{'val_loss': 1.4609496048036612, 'val_accuracy': 0.6804733727810651, 'precision': 0.6521180884008881, 'recall': 0.6804733727810651, 'f1-score': 0.6480839231754917, 'macro_f1-score': 0.32938391334984457, 'balanced_accuracy': 0.3222663346975346, 'mcc': 0.5666881281160715, 'train_loss': 0.5274908934649425}\n",
      "Epoch 14/20\n"
     ]
    },
    {
     "name": "stderr",
     "output_type": "stream",
     "text": [
      "100%|██████████| 476/476 [04:10<00:00,  1.90it/s]\n"
     ]
    },
    {
     "name": "stdout",
     "output_type": "stream",
     "text": [
      "{'val_loss': 1.460968108672016, 'val_accuracy': 0.6816568047337278, 'precision': 0.6943960282594273, 'recall': 0.6816568047337278, 'f1-score': 0.6713007444907666, 'macro_f1-score': 0.38955737344657526, 'balanced_accuracy': 0.40271248150394195, 'mcc': 0.5890962077556281, 'train_loss': 0.5133709445392259}\n",
      "Epoch 15/20\n"
     ]
    },
    {
     "name": "stderr",
     "output_type": "stream",
     "text": [
      "100%|██████████| 476/476 [04:08<00:00,  1.91it/s]\n"
     ]
    },
    {
     "name": "stdout",
     "output_type": "stream",
     "text": [
      "{'val_loss': 1.3902061224546072, 'val_accuracy': 0.6781065088757396, 'precision': 0.6763454040022888, 'recall': 0.6781065088757396, 'f1-score': 0.66598194835736, 'macro_f1-score': 0.38665131297404065, 'balanced_accuracy': 0.40578478189807593, 'mcc': 0.5767999124805842, 'train_loss': 0.517443023719864}\n",
      "Epoch 16/20\n"
     ]
    },
    {
     "name": "stderr",
     "output_type": "stream",
     "text": [
      "100%|██████████| 476/476 [04:10<00:00,  1.90it/s]\n"
     ]
    },
    {
     "name": "stdout",
     "output_type": "stream",
     "text": [
      "{'val_loss': 1.4563770850874342, 'val_accuracy': 0.6982248520710059, 'precision': 0.6940209897662213, 'recall': 0.6982248520710059, 'f1-score': 0.6847247179156603, 'macro_f1-score': 0.4200003508950022, 'balanced_accuracy': 0.43111468408283804, 'mcc': 0.6047191106041603, 'train_loss': 0.41042793990590243}\n",
      "Epoch 17/20\n"
     ]
    },
    {
     "name": "stderr",
     "output_type": "stream",
     "text": [
      "100%|██████████| 476/476 [04:09<00:00,  1.91it/s]\n"
     ]
    },
    {
     "name": "stdout",
     "output_type": "stream",
     "text": [
      "{'val_loss': 1.4983234113117434, 'val_accuracy': 0.6532544378698225, 'precision': 0.6876373113848897, 'recall': 0.6532544378698225, 'f1-score': 0.6530641802547708, 'macro_f1-score': 0.3822938788080861, 'balanced_accuracy': 0.4055279837950661, 'mcc': 0.5519042844917433, 'train_loss': 0.3806629349915859}\n",
      "Epoch 18/20\n"
     ]
    },
    {
     "name": "stderr",
     "output_type": "stream",
     "text": [
      "100%|██████████| 476/476 [04:08<00:00,  1.92it/s]\n"
     ]
    },
    {
     "name": "stdout",
     "output_type": "stream",
     "text": [
      "{'val_loss': 1.513128009607207, 'val_accuracy': 0.6579881656804734, 'precision': 0.6799183390825504, 'recall': 0.6579881656804734, 'f1-score': 0.6552430881778978, 'macro_f1-score': 0.4054453844004802, 'balanced_accuracy': 0.4374518498253086, 'mcc': 0.5582389008867875, 'train_loss': 0.3858455512398744}\n",
      "Epoch 19/20\n"
     ]
    },
    {
     "name": "stderr",
     "output_type": "stream",
     "text": [
      "100%|██████████| 476/476 [04:08<00:00,  1.91it/s]\n"
     ]
    },
    {
     "name": "stdout",
     "output_type": "stream",
     "text": [
      "{'val_loss': 1.445459506281142, 'val_accuracy': 0.6923076923076923, 'precision': 0.6969356760007935, 'recall': 0.6923076923076923, 'f1-score': 0.67832285788092, 'macro_f1-score': 0.39613774603937474, 'balanced_accuracy': 0.4198788783872154, 'mcc': 0.598398188304227, 'train_loss': 0.4869645420234932}\n",
      "Early stopping.\n",
      "\n",
      "[Fold 8]\n",
      "model is roberta-base bilstm\n"
     ]
    },
    {
     "name": "stderr",
     "output_type": "stream",
     "text": [
      "Some weights of RobertaModel were not initialized from the model checkpoint at roberta-base and are newly initialized: ['roberta.pooler.dense.bias', 'roberta.pooler.dense.weight']\n",
      "You should probably TRAIN this model on a down-stream task to be able to use it for predictions and inference.\n"
     ]
    },
    {
     "name": "stdout",
     "output_type": "stream",
     "text": [
      "Epoch 1/20\n"
     ]
    },
    {
     "name": "stderr",
     "output_type": "stream",
     "text": [
      "100%|██████████| 476/476 [04:08<00:00,  1.91it/s]\n"
     ]
    },
    {
     "name": "stdout",
     "output_type": "stream",
     "text": [
      "{'val_loss': 1.7867834455562088, 'val_accuracy': 0.5763313609467455, 'precision': 0.371514771004616, 'recall': 0.5763313609467455, 'f1-score': 0.45038772014177986, 'macro_f1-score': 0.053599201488135746, 'balanced_accuracy': 0.07306880811941178, 'mcc': 0.38171360696860684, 'train_loss': 2.093521964274535}\n",
      "Epoch 2/20\n"
     ]
    },
    {
     "name": "stderr",
     "output_type": "stream",
     "text": [
      "100%|██████████| 476/476 [04:10<00:00,  1.90it/s]\n"
     ]
    },
    {
     "name": "stdout",
     "output_type": "stream",
     "text": [
      "{'val_loss': 1.5219371881125108, 'val_accuracy': 0.6023668639053255, 'precision': 0.46245016749520257, 'recall': 0.6023668639053255, 'f1-score': 0.5068466057674389, 'macro_f1-score': 0.10321221276891009, 'balanced_accuracy': 0.13219939146524745, 'mcc': 0.44703096870518927, 'train_loss': 1.682065146936088}\n",
      "Epoch 3/20\n"
     ]
    },
    {
     "name": "stderr",
     "output_type": "stream",
     "text": [
      "100%|██████████| 476/476 [04:10<00:00,  1.90it/s]\n"
     ]
    },
    {
     "name": "stdout",
     "output_type": "stream",
     "text": [
      "{'val_loss': 1.3914178935986645, 'val_accuracy': 0.6284023668639053, 'precision': 0.5019658107205595, 'recall': 0.6284023668639053, 'f1-score': 0.5482280688891437, 'macro_f1-score': 0.1364496802663447, 'balanced_accuracy': 0.15334085270819398, 'mcc': 0.4857779906595843, 'train_loss': 1.4759901976134597}\n",
      "Epoch 4/20\n"
     ]
    },
    {
     "name": "stderr",
     "output_type": "stream",
     "text": [
      "100%|██████████| 476/476 [04:08<00:00,  1.92it/s]\n"
     ]
    },
    {
     "name": "stdout",
     "output_type": "stream",
     "text": [
      "{'val_loss': 1.3745942936753326, 'val_accuracy': 0.6437869822485207, 'precision': 0.5549607272080671, 'recall': 0.6437869822485207, 'f1-score': 0.5742588610452433, 'macro_f1-score': 0.1666035763420264, 'balanced_accuracy': 0.17359309359295463, 'mcc': 0.5037626580129144, 'train_loss': 1.3110111904244464}\n",
      "Epoch 5/20\n"
     ]
    },
    {
     "name": "stderr",
     "output_type": "stream",
     "text": [
      "100%|██████████| 476/476 [04:00<00:00,  1.98it/s]\n"
     ]
    },
    {
     "name": "stdout",
     "output_type": "stream",
     "text": [
      "{'val_loss': 1.2957857909067623, 'val_accuracy': 0.6579881656804734, 'precision': 0.5760545121694818, 'recall': 0.6579881656804734, 'f1-score': 0.6046864863101621, 'macro_f1-score': 0.22163669597155078, 'balanced_accuracy': 0.2170513044053618, 'mcc': 0.5312586630523272, 'train_loss': 1.1600740476190543}\n",
      "Epoch 6/20\n"
     ]
    },
    {
     "name": "stderr",
     "output_type": "stream",
     "text": [
      "100%|██████████| 476/476 [04:18<00:00,  1.84it/s]\n"
     ]
    },
    {
     "name": "stdout",
     "output_type": "stream",
     "text": [
      "{'val_loss': 1.3613304268076736, 'val_accuracy': 0.6710059171597633, 'precision': 0.6254208967479313, 'recall': 0.6710059171597633, 'f1-score': 0.6270889994823251, 'macro_f1-score': 0.2538145396383473, 'balanced_accuracy': 0.24577485395624202, 'mcc': 0.5495955281079251, 'train_loss': 1.024198598815363}\n",
      "Epoch 7/20\n"
     ]
    },
    {
     "name": "stderr",
     "output_type": "stream",
     "text": [
      "100%|██████████| 476/476 [04:35<00:00,  1.73it/s]\n"
     ]
    },
    {
     "name": "stdout",
     "output_type": "stream",
     "text": [
      "{'val_loss': 1.2325329364470716, 'val_accuracy': 0.6745562130177515, 'precision': 0.6669190078618312, 'recall': 0.6745562130177515, 'f1-score': 0.6577813057992954, 'macro_f1-score': 0.30207524826528437, 'balanced_accuracy': 0.30844845897010953, 'mcc': 0.568852733850525, 'train_loss': 0.9038954761599293}\n",
      "Epoch 8/20\n"
     ]
    },
    {
     "name": "stderr",
     "output_type": "stream",
     "text": [
      "100%|██████████| 476/476 [04:29<00:00,  1.77it/s]\n"
     ]
    },
    {
     "name": "stdout",
     "output_type": "stream",
     "text": [
      "{'val_loss': 1.2506971854083944, 'val_accuracy': 0.676923076923077, 'precision': 0.6578884182633487, 'recall': 0.676923076923077, 'f1-score': 0.6454834039905946, 'macro_f1-score': 0.28783843579215196, 'balanced_accuracy': 0.28408913150791165, 'mcc': 0.5662428921118834, 'train_loss': 0.8238121120713088}\n",
      "Epoch 9/20\n"
     ]
    },
    {
     "name": "stderr",
     "output_type": "stream",
     "text": [
      "100%|██████████| 476/476 [04:32<00:00,  1.75it/s]\n"
     ]
    },
    {
     "name": "stdout",
     "output_type": "stream",
     "text": [
      "{'val_loss': 1.3568037900159944, 'val_accuracy': 0.6615384615384615, 'precision': 0.6555446225435141, 'recall': 0.6615384615384615, 'f1-score': 0.6384981513783231, 'macro_f1-score': 0.2895771641454028, 'balanced_accuracy': 0.30484535287902054, 'mcc': 0.5552777911821954, 'train_loss': 0.7326298105773055}\n",
      "Epoch 10/20\n"
     ]
    },
    {
     "name": "stderr",
     "output_type": "stream",
     "text": [
      "100%|██████████| 476/476 [04:33<00:00,  1.74it/s]\n"
     ]
    },
    {
     "name": "stdout",
     "output_type": "stream",
     "text": [
      "{'val_loss': 1.2777691338703316, 'val_accuracy': 0.6698224852071006, 'precision': 0.6682950369455916, 'recall': 0.6698224852071006, 'f1-score': 0.6529735750134121, 'macro_f1-score': 0.3355789235551249, 'balanced_accuracy': 0.3355610197476838, 'mcc': 0.5700889943837827, 'train_loss': 0.700036207088778}\n",
      "Epoch 11/20\n"
     ]
    },
    {
     "name": "stderr",
     "output_type": "stream",
     "text": [
      "100%|██████████| 476/476 [04:34<00:00,  1.73it/s]\n"
     ]
    },
    {
     "name": "stdout",
     "output_type": "stream",
     "text": [
      "{'val_loss': 1.3780056491213024, 'val_accuracy': 0.6615384615384615, 'precision': 0.6665072382413446, 'recall': 0.6615384615384615, 'f1-score': 0.6466843053409495, 'macro_f1-score': 0.33756236823605257, 'balanced_accuracy': 0.3563796435102295, 'mcc': 0.559666227226244, 'train_loss': 0.5927319092942136}\n",
      "Epoch 12/20\n"
     ]
    },
    {
     "name": "stderr",
     "output_type": "stream",
     "text": [
      "100%|██████████| 476/476 [04:37<00:00,  1.72it/s]\n"
     ]
    },
    {
     "name": "stdout",
     "output_type": "stream",
     "text": [
      "{'val_loss': 1.3777832771247287, 'val_accuracy': 0.6733727810650888, 'precision': 0.6828514792237568, 'recall': 0.6733727810650888, 'f1-score': 0.6554852961509599, 'macro_f1-score': 0.3734880800395928, 'balanced_accuracy': 0.3549799257078932, 'mcc': 0.5685702986962382, 'train_loss': 0.5330220863786566}\n",
      "Epoch 13/20\n"
     ]
    },
    {
     "name": "stderr",
     "output_type": "stream",
     "text": [
      "100%|██████████| 476/476 [04:35<00:00,  1.73it/s]\n"
     ]
    },
    {
     "name": "stdout",
     "output_type": "stream",
     "text": [
      "{'val_loss': 1.3212748247216333, 'val_accuracy': 0.6828402366863905, 'precision': 0.6824464336960123, 'recall': 0.6828402366863905, 'f1-score': 0.6712613991996015, 'macro_f1-score': 0.395533749874801, 'balanced_accuracy': 0.37645753670575494, 'mcc': 0.5770648999369941, 'train_loss': 0.4996636917407648}\n",
      "Epoch 14/20\n"
     ]
    },
    {
     "name": "stderr",
     "output_type": "stream",
     "text": [
      "100%|██████████| 476/476 [04:14<00:00,  1.87it/s]\n"
     ]
    },
    {
     "name": "stdout",
     "output_type": "stream",
     "text": [
      "{'val_loss': 1.4552918549556777, 'val_accuracy': 0.6757396449704142, 'precision': 0.6566247842380672, 'recall': 0.6757396449704142, 'f1-score': 0.6448348436353217, 'macro_f1-score': 0.34989520257974216, 'balanced_accuracy': 0.3352909481438463, 'mcc': 0.5624305012385835, 'train_loss': 0.48153209285967113}\n",
      "Epoch 15/20\n"
     ]
    },
    {
     "name": "stderr",
     "output_type": "stream",
     "text": [
      "100%|██████████| 476/476 [04:14<00:00,  1.87it/s]\n"
     ]
    },
    {
     "name": "stdout",
     "output_type": "stream",
     "text": [
      "{'val_loss': 1.434796170946562, 'val_accuracy': 0.6816568047337278, 'precision': 0.6739396416808711, 'recall': 0.6816568047337278, 'f1-score': 0.661656591840435, 'macro_f1-score': 0.38023045511044834, 'balanced_accuracy': 0.37492676104866357, 'mcc': 0.5759605065037772, 'train_loss': 0.4465462196414836}\n",
      "Epoch 16/20\n"
     ]
    },
    {
     "name": "stderr",
     "output_type": "stream",
     "text": [
      "100%|██████████| 476/476 [04:13<00:00,  1.88it/s]\n"
     ]
    },
    {
     "name": "stdout",
     "output_type": "stream",
     "text": [
      "{'val_loss': 1.4307231318275884, 'val_accuracy': 0.6757396449704142, 'precision': 0.6882821469889624, 'recall': 0.6757396449704142, 'f1-score': 0.6687595206168815, 'macro_f1-score': 0.39786237368584215, 'balanced_accuracy': 0.3906556362423002, 'mcc': 0.5785158326098664, 'train_loss': 0.4110572732996759}\n",
      "Epoch 17/20\n"
     ]
    },
    {
     "name": "stderr",
     "output_type": "stream",
     "text": [
      "100%|██████████| 476/476 [04:15<00:00,  1.87it/s]\n"
     ]
    },
    {
     "name": "stdout",
     "output_type": "stream",
     "text": [
      "{'val_loss': 1.4669413366970026, 'val_accuracy': 0.6603550295857988, 'precision': 0.6726516818591388, 'recall': 0.6603550295857988, 'f1-score': 0.654788008567793, 'macro_f1-score': 0.36915206538965406, 'balanced_accuracy': 0.3670574617416201, 'mcc': 0.5521144451736995, 'train_loss': 0.4214448184048867}\n",
      "Epoch 18/20\n"
     ]
    },
    {
     "name": "stderr",
     "output_type": "stream",
     "text": [
      "100%|██████████| 476/476 [04:14<00:00,  1.87it/s]\n"
     ]
    },
    {
     "name": "stdout",
     "output_type": "stream",
     "text": [
      "{'val_loss': 1.4675337545714289, 'val_accuracy': 0.6899408284023668, 'precision': 0.6787080070259344, 'recall': 0.6899408284023668, 'f1-score': 0.6683169633591218, 'macro_f1-score': 0.37853823141782994, 'balanced_accuracy': 0.35431090463219045, 'mcc': 0.587818970669201, 'train_loss': 0.37267606466726844}\n",
      "Epoch 19/20\n"
     ]
    },
    {
     "name": "stderr",
     "output_type": "stream",
     "text": [
      "100%|██████████| 476/476 [04:13<00:00,  1.88it/s]\n"
     ]
    },
    {
     "name": "stdout",
     "output_type": "stream",
     "text": [
      "{'val_loss': 1.4957515811020474, 'val_accuracy': 0.6674556213017752, 'precision': 0.6975117890562016, 'recall': 0.6674556213017752, 'f1-score': 0.6624464294513368, 'macro_f1-score': 0.42290395573436823, 'balanced_accuracy': 0.4388119392216578, 'mcc': 0.5734312742481551, 'train_loss': 0.3541685542749131}\n",
      "Epoch 20/20\n"
     ]
    },
    {
     "name": "stderr",
     "output_type": "stream",
     "text": [
      "100%|██████████| 476/476 [04:14<00:00,  1.87it/s]\n"
     ]
    },
    {
     "name": "stdout",
     "output_type": "stream",
     "text": [
      "{'val_loss': 1.5240811553766143, 'val_accuracy': 0.6686390532544378, 'precision': 0.6780690034614382, 'recall': 0.6686390532544378, 'f1-score': 0.6562432052965799, 'macro_f1-score': 0.38492289979719874, 'balanced_accuracy': 0.3662131283574686, 'mcc': 0.5660302248498127, 'train_loss': 0.3213293536022274}\n",
      "\n",
      "[Fold 9]\n",
      "model is roberta-base bilstm\n"
     ]
    },
    {
     "name": "stderr",
     "output_type": "stream",
     "text": [
      "Some weights of RobertaModel were not initialized from the model checkpoint at roberta-base and are newly initialized: ['roberta.pooler.dense.bias', 'roberta.pooler.dense.weight']\n",
      "You should probably TRAIN this model on a down-stream task to be able to use it for predictions and inference.\n"
     ]
    },
    {
     "name": "stdout",
     "output_type": "stream",
     "text": [
      "Epoch 1/20\n"
     ]
    },
    {
     "name": "stderr",
     "output_type": "stream",
     "text": [
      "100%|██████████| 476/476 [04:17<00:00,  1.85it/s]\n"
     ]
    },
    {
     "name": "stdout",
     "output_type": "stream",
     "text": [
      "{'val_loss': 1.7727585569867548, 'val_accuracy': 0.578698224852071, 'precision': 0.37077188249249937, 'recall': 0.578698224852071, 'f1-score': 0.4484168680455152, 'macro_f1-score': 0.05816694894808899, 'balanced_accuracy': 0.0752883388081044, 'mcc': 0.3836212003022779, 'train_loss': 2.110326184319849}\n",
      "Epoch 2/20\n"
     ]
    },
    {
     "name": "stderr",
     "output_type": "stream",
     "text": [
      "100%|██████████| 476/476 [04:19<00:00,  1.84it/s]\n"
     ]
    },
    {
     "name": "stdout",
     "output_type": "stream",
     "text": [
      "{'val_loss': 1.6650188374069501, 'val_accuracy': 0.6, 'precision': 0.4426163242485282, 'recall': 0.6, 'f1-score': 0.4998027916778252, 'macro_f1-score': 0.1006465603096744, 'balanced_accuracy': 0.11904884744960825, 'mcc': 0.4281923874301503, 'train_loss': 1.663052584944653}\n",
      "Epoch 3/20\n"
     ]
    },
    {
     "name": "stderr",
     "output_type": "stream",
     "text": [
      "100%|██████████| 476/476 [04:18<00:00,  1.84it/s]\n"
     ]
    },
    {
     "name": "stdout",
     "output_type": "stream",
     "text": [
      "{'val_loss': 1.484061227654511, 'val_accuracy': 0.6023668639053255, 'precision': 0.5372127127806591, 'recall': 0.6023668639053255, 'f1-score': 0.5523254510356272, 'macro_f1-score': 0.1405051089399809, 'balanced_accuracy': 0.1579770906795016, 'mcc': 0.463333847133133, 'train_loss': 1.432994218934484}\n",
      "Epoch 4/20\n"
     ]
    },
    {
     "name": "stderr",
     "output_type": "stream",
     "text": [
      "100%|██████████| 476/476 [04:16<00:00,  1.85it/s]\n"
     ]
    },
    {
     "name": "stdout",
     "output_type": "stream",
     "text": [
      "{'val_loss': 1.3817834100633297, 'val_accuracy': 0.6272189349112426, 'precision': 0.557229942309332, 'recall': 0.6272189349112426, 'f1-score': 0.5774526480913729, 'macro_f1-score': 0.1814435644472269, 'balanced_accuracy': 0.19270239327891106, 'mcc': 0.49192669030279673, 'train_loss': 1.2754252995012187}\n",
      "Epoch 5/20\n"
     ]
    },
    {
     "name": "stderr",
     "output_type": "stream",
     "text": [
      "100%|██████████| 476/476 [04:29<00:00,  1.77it/s]\n"
     ]
    },
    {
     "name": "stdout",
     "output_type": "stream",
     "text": [
      "{'val_loss': 1.3159662046522465, 'val_accuracy': 0.642603550295858, 'precision': 0.5650448699107214, 'recall': 0.642603550295858, 'f1-score': 0.5961438291867847, 'macro_f1-score': 0.21524527973183896, 'balanced_accuracy': 0.22879430846916582, 'mcc': 0.5202218124500169, 'train_loss': 1.132317369631609}\n",
      "Epoch 6/20\n"
     ]
    },
    {
     "name": "stderr",
     "output_type": "stream",
     "text": [
      "100%|██████████| 476/476 [04:28<00:00,  1.77it/s]\n"
     ]
    },
    {
     "name": "stdout",
     "output_type": "stream",
     "text": [
      "{'val_loss': 1.360283595211101, 'val_accuracy': 0.6461538461538462, 'precision': 0.6031755028836913, 'recall': 0.6461538461538462, 'f1-score': 0.6130211788614196, 'macro_f1-score': 0.23884645047005384, 'balanced_accuracy': 0.25426401052011494, 'mcc': 0.5362925235403205, 'train_loss': 1.0128901419581986}\n",
      "Epoch 7/20\n"
     ]
    },
    {
     "name": "stderr",
     "output_type": "stream",
     "text": [
      "100%|██████████| 476/476 [04:33<00:00,  1.74it/s]\n"
     ]
    },
    {
     "name": "stdout",
     "output_type": "stream",
     "text": [
      "{'val_loss': 1.352356862347081, 'val_accuracy': 0.6461538461538462, 'precision': 0.6477440156902099, 'recall': 0.6461538461538462, 'f1-score': 0.6350703176531348, 'macro_f1-score': 0.2877241882136971, 'balanced_accuracy': 0.29851685863329314, 'mcc': 0.5390653057537013, 'train_loss': 0.9020783693036613}\n",
      "Epoch 8/20\n"
     ]
    },
    {
     "name": "stderr",
     "output_type": "stream",
     "text": [
      "100%|██████████| 476/476 [04:29<00:00,  1.77it/s]\n"
     ]
    },
    {
     "name": "stdout",
     "output_type": "stream",
     "text": [
      "{'val_loss': 1.3105956883925312, 'val_accuracy': 0.6733727810650888, 'precision': 0.6416373461650372, 'recall': 0.6733727810650888, 'f1-score': 0.6460962437976938, 'macro_f1-score': 0.2778568070910524, 'balanced_accuracy': 0.2848255753339802, 'mcc': 0.5652166708293593, 'train_loss': 0.8182303391146559}\n",
      "Epoch 9/20\n"
     ]
    },
    {
     "name": "stderr",
     "output_type": "stream",
     "text": [
      "100%|██████████| 476/476 [04:30<00:00,  1.76it/s]\n"
     ]
    },
    {
     "name": "stdout",
     "output_type": "stream",
     "text": [
      "{'val_loss': 1.3570140988196966, 'val_accuracy': 0.6781065088757396, 'precision': 0.6628266570811062, 'recall': 0.6781065088757396, 'f1-score': 0.6539879472038859, 'macro_f1-score': 0.31721821435196684, 'balanced_accuracy': 0.3023564066233578, 'mcc': 0.5678959320869579, 'train_loss': 0.7280950548299471}\n",
      "Epoch 10/20\n"
     ]
    },
    {
     "name": "stderr",
     "output_type": "stream",
     "text": [
      "100%|██████████| 476/476 [04:34<00:00,  1.73it/s]\n"
     ]
    },
    {
     "name": "stdout",
     "output_type": "stream",
     "text": [
      "{'val_loss': 1.3487191481410332, 'val_accuracy': 0.6816568047337278, 'precision': 0.6563397681253456, 'recall': 0.6816568047337278, 'f1-score': 0.652442557657013, 'macro_f1-score': 0.3011393120762086, 'balanced_accuracy': 0.2960388126527025, 'mcc': 0.575199776388465, 'train_loss': 0.6673694132443737}\n",
      "Epoch 11/20\n"
     ]
    },
    {
     "name": "stderr",
     "output_type": "stream",
     "text": [
      "100%|██████████| 476/476 [04:30<00:00,  1.76it/s]\n"
     ]
    },
    {
     "name": "stdout",
     "output_type": "stream",
     "text": [
      "{'val_loss': 1.3435122308866032, 'val_accuracy': 0.6863905325443787, 'precision': 0.6847708051683997, 'recall': 0.6863905325443787, 'f1-score': 0.6715020790034586, 'macro_f1-score': 0.3234811279979349, 'balanced_accuracy': 0.34060483788160756, 'mcc': 0.5888408527438658, 'train_loss': 0.6057610388046929}\n",
      "Epoch 12/20\n"
     ]
    },
    {
     "name": "stderr",
     "output_type": "stream",
     "text": [
      "100%|██████████| 476/476 [04:19<00:00,  1.84it/s]\n"
     ]
    },
    {
     "name": "stdout",
     "output_type": "stream",
     "text": [
      "{'val_loss': 1.3456466321675282, 'val_accuracy': 0.6781065088757396, 'precision': 0.6700327575025667, 'recall': 0.6781065088757396, 'f1-score': 0.666057098434344, 'macro_f1-score': 0.32221920050800656, 'balanced_accuracy': 0.33895078367601883, 'mcc': 0.5819091925686805, 'train_loss': 0.5345185171937993}\n",
      "Epoch 13/20\n"
     ]
    },
    {
     "name": "stderr",
     "output_type": "stream",
     "text": [
      "100%|██████████| 476/476 [04:08<00:00,  1.91it/s]\n"
     ]
    },
    {
     "name": "stdout",
     "output_type": "stream",
     "text": [
      "{'val_loss': 1.4006099655943096, 'val_accuracy': 0.685207100591716, 'precision': 0.6627928097553727, 'recall': 0.685207100591716, 'f1-score': 0.6638755467056852, 'macro_f1-score': 0.3346369902027067, 'balanced_accuracy': 0.3403677158416787, 'mcc': 0.5870556949185016, 'train_loss': 0.586493520747025}\n",
      "Epoch 14/20\n"
     ]
    },
    {
     "name": "stderr",
     "output_type": "stream",
     "text": [
      "100%|██████████| 476/476 [04:01<00:00,  1.97it/s]\n"
     ]
    },
    {
     "name": "stdout",
     "output_type": "stream",
     "text": [
      "{'val_loss': 1.386787399930774, 'val_accuracy': 0.6982248520710059, 'precision': 0.6944077125980259, 'recall': 0.6982248520710059, 'f1-score': 0.6837880292590786, 'macro_f1-score': 0.3450802488382983, 'balanced_accuracy': 0.34410719720029337, 'mcc': 0.6029177801045837, 'train_loss': 0.4776630233425428}\n",
      "Epoch 15/20\n"
     ]
    },
    {
     "name": "stderr",
     "output_type": "stream",
     "text": [
      "100%|██████████| 476/476 [04:02<00:00,  1.97it/s]\n"
     ]
    },
    {
     "name": "stdout",
     "output_type": "stream",
     "text": [
      "{'val_loss': 1.5410301640348614, 'val_accuracy': 0.6804733727810651, 'precision': 0.6526740907260821, 'recall': 0.6804733727810651, 'f1-score': 0.6513394566029005, 'macro_f1-score': 0.32558254615501, 'balanced_accuracy': 0.30383433133291765, 'mcc': 0.5641713971788814, 'train_loss': 0.4063910253173789}\n",
      "Epoch 16/20\n"
     ]
    },
    {
     "name": "stderr",
     "output_type": "stream",
     "text": [
      "100%|██████████| 476/476 [04:05<00:00,  1.94it/s]\n",
      "D:\\Anaconda3\\envs\\cuda\\Lib\\site-packages\\sklearn\\metrics\\_classification.py:2458: UserWarning: y_pred contains classes not in y_true\n",
      "  warnings.warn(\"y_pred contains classes not in y_true\")\n"
     ]
    },
    {
     "name": "stdout",
     "output_type": "stream",
     "text": [
      "{'val_loss': 1.5072284745720197, 'val_accuracy': 0.6781065088757396, 'precision': 0.682404734004767, 'recall': 0.6781065088757396, 'f1-score': 0.6720087308337762, 'macro_f1-score': 0.3226144000344523, 'balanced_accuracy': 0.3411071961218468, 'mcc': 0.5812682067345082, 'train_loss': 0.3732911142375821}\n",
      "Epoch 17/20\n"
     ]
    },
    {
     "name": "stderr",
     "output_type": "stream",
     "text": [
      "100%|██████████| 476/476 [03:58<00:00,  1.99it/s]\n"
     ]
    },
    {
     "name": "stdout",
     "output_type": "stream",
     "text": [
      "{'val_loss': 1.5030966834077295, 'val_accuracy': 0.6946745562130178, 'precision': 0.6769327586947996, 'recall': 0.6946745562130178, 'f1-score': 0.6784639570890266, 'macro_f1-score': 0.35520493547124393, 'balanced_accuracy': 0.35202925423816805, 'mcc': 0.5969558900254898, 'train_loss': 0.38389250288811366}\n",
      "Epoch 18/20\n"
     ]
    },
    {
     "name": "stderr",
     "output_type": "stream",
     "text": [
      "100%|██████████| 476/476 [04:04<00:00,  1.95it/s]\n"
     ]
    },
    {
     "name": "stdout",
     "output_type": "stream",
     "text": [
      "{'val_loss': 1.4692367776384894, 'val_accuracy': 0.6887573964497041, 'precision': 0.6823419471003849, 'recall': 0.6887573964497041, 'f1-score': 0.6773663149422452, 'macro_f1-score': 0.3763840000139194, 'balanced_accuracy': 0.38708675643827034, 'mcc': 0.5909693601198771, 'train_loss': 0.3579392345101737}\n",
      "Epoch 19/20\n"
     ]
    },
    {
     "name": "stderr",
     "output_type": "stream",
     "text": [
      "100%|██████████| 476/476 [04:06<00:00,  1.93it/s]\n"
     ]
    },
    {
     "name": "stdout",
     "output_type": "stream",
     "text": [
      "{'val_loss': 1.477078748199175, 'val_accuracy': 0.6792899408284023, 'precision': 0.6886755526216249, 'recall': 0.6792899408284023, 'f1-score': 0.6735853698412815, 'macro_f1-score': 0.360997283690169, 'balanced_accuracy': 0.37169309106105486, 'mcc': 0.5859751344485142, 'train_loss': 0.3398308608868793}\n",
      "Epoch 20/20\n"
     ]
    },
    {
     "name": "stderr",
     "output_type": "stream",
     "text": [
      "100%|██████████| 476/476 [04:04<00:00,  1.94it/s]\n"
     ]
    },
    {
     "name": "stdout",
     "output_type": "stream",
     "text": [
      "{'val_loss': 1.5888586004949965, 'val_accuracy': 0.6899408284023668, 'precision': 0.6900028858431224, 'recall': 0.6899408284023668, 'f1-score': 0.6750168939237247, 'macro_f1-score': 0.35487495530054103, 'balanced_accuracy': 0.3596646094242866, 'mcc': 0.59176437829476, 'train_loss': 0.32429458158669855}\n",
      "\n",
      "[Fold 10]\n",
      "model is roberta-base bilstm\n"
     ]
    },
    {
     "name": "stderr",
     "output_type": "stream",
     "text": [
      "Some weights of RobertaModel were not initialized from the model checkpoint at roberta-base and are newly initialized: ['roberta.pooler.dense.bias', 'roberta.pooler.dense.weight']\n",
      "You should probably TRAIN this model on a down-stream task to be able to use it for predictions and inference.\n"
     ]
    },
    {
     "name": "stdout",
     "output_type": "stream",
     "text": [
      "Epoch 1/20\n"
     ]
    },
    {
     "name": "stderr",
     "output_type": "stream",
     "text": [
      "100%|██████████| 476/476 [04:04<00:00,  1.94it/s]\n"
     ]
    },
    {
     "name": "stdout",
     "output_type": "stream",
     "text": [
      "{'val_loss': 1.8508607593347441, 'val_accuracy': 0.5715976331360947, 'precision': 0.3700899058032293, 'recall': 0.5715976331360947, 'f1-score': 0.4457652114802744, 'macro_f1-score': 0.04903897750639109, 'balanced_accuracy': 0.0688415640643557, 'mcc': 0.38037753942595626, 'train_loss': 2.135956521795577}\n",
      "Epoch 2/20\n"
     ]
    },
    {
     "name": "stderr",
     "output_type": "stream",
     "text": [
      "100%|██████████| 476/476 [04:05<00:00,  1.94it/s]\n"
     ]
    },
    {
     "name": "stdout",
     "output_type": "stream",
     "text": [
      "{'val_loss': 1.6326819433356232, 'val_accuracy': 0.5928994082840237, 'precision': 0.40436139179036257, 'recall': 0.5928994082840237, 'f1-score': 0.4766901436721537, 'macro_f1-score': 0.07541652733802175, 'balanced_accuracy': 0.09811764528110026, 'mcc': 0.4173555862637305, 'train_loss': 1.7516340409256832}\n",
      "Epoch 3/20\n"
     ]
    },
    {
     "name": "stderr",
     "output_type": "stream",
     "text": [
      "100%|██████████| 476/476 [04:05<00:00,  1.94it/s]\n"
     ]
    },
    {
     "name": "stdout",
     "output_type": "stream",
     "text": [
      "{'val_loss': 1.5403094291687012, 'val_accuracy': 0.6189349112426036, 'precision': 0.5072909446017354, 'recall': 0.6189349112426036, 'f1-score': 0.5373180200089871, 'macro_f1-score': 0.12088151058864442, 'balanced_accuracy': 0.13937051564675706, 'mcc': 0.4760483326192693, 'train_loss': 1.5618147935186113}\n",
      "Epoch 4/20\n"
     ]
    },
    {
     "name": "stderr",
     "output_type": "stream",
     "text": [
      "100%|██████████| 476/476 [04:02<00:00,  1.96it/s]\n"
     ]
    },
    {
     "name": "stdout",
     "output_type": "stream",
     "text": [
      "{'val_loss': 1.4808679487345353, 'val_accuracy': 0.6224852071005917, 'precision': 0.5244961243070709, 'recall': 0.6224852071005917, 'f1-score': 0.5502024626972652, 'macro_f1-score': 0.13873596378299563, 'balanced_accuracy': 0.14726136138155738, 'mcc': 0.4766526948460089, 'train_loss': 1.440644967330604}\n",
      "Epoch 5/20\n"
     ]
    },
    {
     "name": "stderr",
     "output_type": "stream",
     "text": [
      "100%|██████████| 476/476 [03:54<00:00,  2.03it/s]\n"
     ]
    },
    {
     "name": "stdout",
     "output_type": "stream",
     "text": [
      "{'val_loss': 1.4315193469794292, 'val_accuracy': 0.6260355029585799, 'precision': 0.5462256924177814, 'recall': 0.6260355029585799, 'f1-score': 0.557659762665414, 'macro_f1-score': 0.15528787054337487, 'balanced_accuracy': 0.16978676135353502, 'mcc': 0.48261265981909623, 'train_loss': 1.331795479131847}\n",
      "Epoch 6/20\n"
     ]
    },
    {
     "name": "stderr",
     "output_type": "stream",
     "text": [
      "100%|██████████| 476/476 [04:06<00:00,  1.93it/s]\n"
     ]
    },
    {
     "name": "stdout",
     "output_type": "stream",
     "text": [
      "{'val_loss': 1.3651511354266472, 'val_accuracy': 0.6355029585798817, 'precision': 0.574628282673718, 'recall': 0.6355029585798817, 'f1-score': 0.5867541492059523, 'macro_f1-score': 0.17702886405702914, 'balanced_accuracy': 0.18896212124443917, 'mcc': 0.5058419663608282, 'train_loss': 1.2442873613048}\n",
      "Epoch 7/20\n"
     ]
    },
    {
     "name": "stderr",
     "output_type": "stream",
     "text": [
      "100%|██████████| 476/476 [04:02<00:00,  1.97it/s]\n"
     ]
    },
    {
     "name": "stdout",
     "output_type": "stream",
     "text": [
      "{'val_loss': 1.3675858670810483, 'val_accuracy': 0.6307692307692307, 'precision': 0.61080917524108, 'recall': 0.6307692307692307, 'f1-score': 0.5976114892549902, 'macro_f1-score': 0.21331649044257225, 'balanced_accuracy': 0.22449169648219702, 'mcc': 0.5139896008108094, 'train_loss': 1.1334849794810058}\n",
      "Epoch 8/20\n"
     ]
    },
    {
     "name": "stderr",
     "output_type": "stream",
     "text": [
      "100%|██████████| 476/476 [04:03<00:00,  1.95it/s]\n"
     ]
    },
    {
     "name": "stdout",
     "output_type": "stream",
     "text": [
      "{'val_loss': 1.337635188732507, 'val_accuracy': 0.6390532544378699, 'precision': 0.5894080149484134, 'recall': 0.6390532544378699, 'f1-score': 0.6048990317102799, 'macro_f1-score': 0.22109752930804885, 'balanced_accuracy': 0.2485950021343374, 'mcc': 0.5216386444733606, 'train_loss': 1.0399476568363293}\n",
      "Epoch 9/20\n"
     ]
    },
    {
     "name": "stderr",
     "output_type": "stream",
     "text": [
      "100%|██████████| 476/476 [04:05<00:00,  1.94it/s]\n"
     ]
    },
    {
     "name": "stdout",
     "output_type": "stream",
     "text": [
      "{'val_loss': 1.3545124131553579, 'val_accuracy': 0.6366863905325444, 'precision': 0.6045308352472675, 'recall': 0.6366863905325444, 'f1-score': 0.6032935468376447, 'macro_f1-score': 0.2279951003078853, 'balanced_accuracy': 0.2414377245170031, 'mcc': 0.515745686110643, 'train_loss': 0.9700831306957397}\n",
      "Epoch 10/20\n"
     ]
    },
    {
     "name": "stderr",
     "output_type": "stream",
     "text": [
      "100%|██████████| 476/476 [03:57<00:00,  2.01it/s]\n"
     ]
    },
    {
     "name": "stdout",
     "output_type": "stream",
     "text": [
      "{'val_loss': 1.393356372725289, 'val_accuracy': 0.6461538461538462, 'precision': 0.6100094343923558, 'recall': 0.6461538461538462, 'f1-score': 0.6114774423528722, 'macro_f1-score': 0.2191500819166424, 'balanced_accuracy': 0.2273494123513888, 'mcc': 0.5230701469677135, 'train_loss': 0.9234096895778129}\n",
      "Epoch 11/20\n"
     ]
    },
    {
     "name": "stderr",
     "output_type": "stream",
     "text": [
      "100%|██████████| 476/476 [04:04<00:00,  1.95it/s]\n"
     ]
    },
    {
     "name": "stdout",
     "output_type": "stream",
     "text": [
      "{'val_loss': 1.36814646844594, 'val_accuracy': 0.6461538461538462, 'precision': 0.6570544285085562, 'recall': 0.6461538461538462, 'f1-score': 0.6418777423587796, 'macro_f1-score': 0.27542512587517276, 'balanced_accuracy': 0.29834030504076076, 'mcc': 0.5435067460744117, 'train_loss': 0.8392102422208345}\n",
      "Epoch 12/20\n"
     ]
    },
    {
     "name": "stderr",
     "output_type": "stream",
     "text": [
      "100%|██████████| 476/476 [04:02<00:00,  1.96it/s]\n"
     ]
    },
    {
     "name": "stdout",
     "output_type": "stream",
     "text": [
      "{'val_loss': 1.5209685862064362, 'val_accuracy': 0.6485207100591716, 'precision': 0.6007135015717782, 'recall': 0.6485207100591716, 'f1-score': 0.6080459387497482, 'macro_f1-score': 0.2560358022236006, 'balanced_accuracy': 0.2583925523097834, 'mcc': 0.5193396176757095, 'train_loss': 0.7624310381835749}\n",
      "Epoch 13/20\n"
     ]
    },
    {
     "name": "stderr",
     "output_type": "stream",
     "text": [
      "100%|██████████| 476/476 [04:04<00:00,  1.95it/s]\n"
     ]
    },
    {
     "name": "stdout",
     "output_type": "stream",
     "text": [
      "{'val_loss': 1.4259551887242299, 'val_accuracy': 0.650887573964497, 'precision': 0.6618419504577564, 'recall': 0.650887573964497, 'f1-score': 0.6432762886352988, 'macro_f1-score': 0.29198751658005384, 'balanced_accuracy': 0.3094340618334701, 'mcc': 0.5479422664055281, 'train_loss': 0.7005539512293053}\n",
      "Epoch 14/20\n"
     ]
    },
    {
     "name": "stderr",
     "output_type": "stream",
     "text": [
      "100%|██████████| 476/476 [04:04<00:00,  1.95it/s]\n"
     ]
    },
    {
     "name": "stdout",
     "output_type": "stream",
     "text": [
      "{'val_loss': 1.5286602107983716, 'val_accuracy': 0.6627218934911243, 'precision': 0.6236380023991197, 'recall': 0.6627218934911243, 'f1-score': 0.6280866864543196, 'macro_f1-score': 0.2729379495527283, 'balanced_accuracy': 0.2699468575839298, 'mcc': 0.5405732442535078, 'train_loss': 0.6589200519839254}\n",
      "Epoch 15/20\n"
     ]
    },
    {
     "name": "stderr",
     "output_type": "stream",
     "text": [
      "100%|██████████| 476/476 [04:01<00:00,  1.97it/s]\n"
     ]
    },
    {
     "name": "stdout",
     "output_type": "stream",
     "text": [
      "{'val_loss': 1.4614876238804944, 'val_accuracy': 0.6556213017751479, 'precision': 0.6306523668081672, 'recall': 0.6556213017751479, 'f1-score': 0.6343277146295839, 'macro_f1-score': 0.29640799468186246, 'balanced_accuracy': 0.29623212257770887, 'mcc': 0.5404888260921771, 'train_loss': 0.6270794733623121}\n",
      "Epoch 16/20\n"
     ]
    },
    {
     "name": "stderr",
     "output_type": "stream",
     "text": [
      "100%|██████████| 476/476 [04:00<00:00,  1.98it/s]\n"
     ]
    },
    {
     "name": "stdout",
     "output_type": "stream",
     "text": [
      "{'val_loss': 1.5143069883562483, 'val_accuracy': 0.6473372781065089, 'precision': 0.6480473770869211, 'recall': 0.6473372781065089, 'f1-score': 0.6333827873777834, 'macro_f1-score': 0.2956007212784206, 'balanced_accuracy': 0.31633386045011236, 'mcc': 0.5428349485422614, 'train_loss': 0.5551832900813022}\n",
      "Epoch 17/20\n"
     ]
    },
    {
     "name": "stderr",
     "output_type": "stream",
     "text": [
      "100%|██████████| 476/476 [04:00<00:00,  1.98it/s]\n"
     ]
    },
    {
     "name": "stdout",
     "output_type": "stream",
     "text": [
      "{'val_loss': 1.4891582665578373, 'val_accuracy': 0.6544378698224852, 'precision': 0.6588191723995558, 'recall': 0.6544378698224852, 'f1-score': 0.6446159018926414, 'macro_f1-score': 0.31467486412432977, 'balanced_accuracy': 0.3338580303368112, 'mcc': 0.5502410857696286, 'train_loss': 0.5252068123991499}\n",
      "Epoch 18/20\n"
     ]
    },
    {
     "name": "stderr",
     "output_type": "stream",
     "text": [
      "100%|██████████| 476/476 [03:56<00:00,  2.01it/s]\n"
     ]
    },
    {
     "name": "stdout",
     "output_type": "stream",
     "text": [
      "{'val_loss': 1.545968105208199, 'val_accuracy': 0.6520710059171597, 'precision': 0.6416124411033913, 'recall': 0.6520710059171597, 'f1-score': 0.6368146714753425, 'macro_f1-score': 0.2845804727866409, 'balanced_accuracy': 0.3010440119614398, 'mcc': 0.5449212521646013, 'train_loss': 0.5028862025307006}\n",
      "Epoch 19/20\n"
     ]
    },
    {
     "name": "stderr",
     "output_type": "stream",
     "text": [
      "100%|██████████| 476/476 [04:02<00:00,  1.96it/s]\n"
     ]
    },
    {
     "name": "stdout",
     "output_type": "stream",
     "text": [
      "{'val_loss': 1.5912093913780068, 'val_accuracy': 0.676923076923077, 'precision': 0.6580381173554914, 'recall': 0.676923076923077, 'f1-score': 0.6526390710960808, 'macro_f1-score': 0.31312222832777487, 'balanced_accuracy': 0.3150869564833194, 'mcc': 0.5676825132419485, 'train_loss': 0.46743394190273363}\n",
      "Epoch 20/20\n"
     ]
    },
    {
     "name": "stderr",
     "output_type": "stream",
     "text": [
      "100%|██████████| 476/476 [03:48<00:00,  2.08it/s]\n"
     ]
    },
    {
     "name": "stdout",
     "output_type": "stream",
     "text": [
      "{'val_loss': 1.6073773250264942, 'val_accuracy': 0.6816568047337278, 'precision': 0.6660936524103561, 'recall': 0.6816568047337278, 'f1-score': 0.6575195998818597, 'macro_f1-score': 0.3287672913485021, 'balanced_accuracy': 0.3244674307783446, 'mcc': 0.5731153233484134, 'train_loss': 0.44095233730783984}\n",
      "\n",
      " === roberta-base + bilstm + none Final 10-fold Cross-Validation Results ===\n",
      "Total time: 47304.10seconds\n",
      "val_loss: 1.5179\n",
      "val_accuracy: 0.6692\n",
      "precision: 0.6710\n",
      "recall: 0.6692\n",
      "f1-score: 0.6559\n",
      "macro_f1-score: 0.3739\n",
      "balanced_accuracy: 0.3792\n",
      "mcc: 0.5673\n",
      "train_loss: 0.4694\n"
     ]
    }
   ],
   "source": [
    "model_list = [\"roberta-base\"]\n",
    "hybrid_list = [\"bilstm\"]\n",
    "resample_list = [\"none\"]\n",
    "\n",
    "for model_name in model_list:\n",
    "    for hybrid_type in hybrid_list:\n",
    "        for resample_method in resample_list:\n",
    "            results = run_kfold_experiment(\n",
    "                X=messages, y=labels, model_name=model_name, hybrid_type=hybrid_type, resample_method=resample_method,\n",
    "                kfold=KFOLD_SPLIT, seed=SEED, epochs=EPOCHS, patience=PATIENCE, max_length=MAX_LENGTH, \n",
    "                batch_size=BATCH_SIZE, lr=LR, weight_decay=WEIGHT_DECAY\n",
    "            )"
   ]
  },
  {
   "cell_type": "code",
   "execution_count": 1,
   "id": "6f36cee5-b19a-4b5d-be41-874fcc7b1239",
   "metadata": {},
   "outputs": [
    {
     "name": "stdout",
     "output_type": "stream",
     "text": [
      "Total time: 13 hrs 8 mins 24 secs\n"
     ]
    }
   ],
   "source": [
    "import time\n",
    "hours, remainder = divmod(47304, 3600)\n",
    "minutes, seconds = divmod(remainder, 60)\n",
    "\n",
    "print(f\"Total time: {hours} hrs {minutes} mins {seconds} secs\")"
   ]
  },
  {
   "cell_type": "code",
   "execution_count": 5,
   "id": "d799ebb4-be3b-4b29-9238-6c2a2f8256ae",
   "metadata": {},
   "outputs": [
    {
     "data": {
      "text/plain": [
       "[{'val_loss': 1.6180348446908988,\n",
       "  'val_accuracy': 0.6607565011820331,\n",
       "  'precision': 0.6800322582130272,\n",
       "  'recall': 0.6607565011820331,\n",
       "  'f1-score': 0.6562678870117568,\n",
       "  'macro_f1-score': 0.43365131721695865,\n",
       "  'balanced_accuracy': 0.4292420058590814,\n",
       "  'mcc': 0.5525556449675558,\n",
       "  'train_loss': 0.3673151545676583},\n",
       " {'val_loss': 1.6756690909277718,\n",
       "  'val_accuracy': 0.6335697399527187,\n",
       "  'precision': 0.6636549187151588,\n",
       "  'recall': 0.6335697399527187,\n",
       "  'f1-score': 0.6382276806667815,\n",
       "  'macro_f1-score': 0.3632339228745287,\n",
       "  'balanced_accuracy': 0.3766994934136504,\n",
       "  'mcc': 0.5345430025569673,\n",
       "  'train_loss': 0.3706210299508505},\n",
       " {'val_loss': 1.5317330737158936,\n",
       "  'val_accuracy': 0.7009456264775413,\n",
       "  'precision': 0.6814232795595367,\n",
       "  'recall': 0.7009456264775413,\n",
       "  'f1-score': 0.6745819974302923,\n",
       "  'macro_f1-score': 0.424257406341193,\n",
       "  'balanced_accuracy': 0.40808095476213657,\n",
       "  'mcc': 0.5963229592557971,\n",
       "  'train_loss': 0.41027233690539955},\n",
       " {'val_loss': 1.497212844074897,\n",
       "  'val_accuracy': 0.6560283687943262,\n",
       "  'precision': 0.6579642686155617,\n",
       "  'recall': 0.6560283687943262,\n",
       "  'f1-score': 0.6407477572606253,\n",
       "  'macro_f1-score': 0.33655748712203226,\n",
       "  'balanced_accuracy': 0.33001558302880435,\n",
       "  'mcc': 0.5525819791964464,\n",
       "  'train_loss': 0.6143586564292552},\n",
       " {'val_loss': 1.3829716247207713,\n",
       "  'val_accuracy': 0.650887573964497,\n",
       "  'precision': 0.6289263800761902,\n",
       "  'recall': 0.650887573964497,\n",
       "  'f1-score': 0.6251500655569223,\n",
       "  'macro_f1-score': 0.3099020344004862,\n",
       "  'balanced_accuracy': 0.32850844658984746,\n",
       "  'mcc': 0.5397180007648638,\n",
       "  'train_loss': 0.8187462030166462},\n",
       " {'val_loss': 1.44508259420125,\n",
       "  'val_accuracy': 0.6532544378698225,\n",
       "  'precision': 0.6577018746741446,\n",
       "  'recall': 0.6532544378698225,\n",
       "  'f1-score': 0.6417415359028731,\n",
       "  'macro_f1-score': 0.32360402088584467,\n",
       "  'balanced_accuracy': 0.3378981214632624,\n",
       "  'mcc': 0.5546736346542375,\n",
       "  'train_loss': 0.5496552626821486},\n",
       " {'val_loss': 1.4563770850874342,\n",
       "  'val_accuracy': 0.6982248520710059,\n",
       "  'precision': 0.6940209897662213,\n",
       "  'recall': 0.6982248520710059,\n",
       "  'f1-score': 0.6847247179156603,\n",
       "  'macro_f1-score': 0.4200003508950022,\n",
       "  'balanced_accuracy': 0.43111468408283804,\n",
       "  'mcc': 0.6047191106041603,\n",
       "  'train_loss': 0.41042793990590243},\n",
       " {'val_loss': 1.4957515811020474,\n",
       "  'val_accuracy': 0.6674556213017752,\n",
       "  'precision': 0.6975117890562016,\n",
       "  'recall': 0.6674556213017752,\n",
       "  'f1-score': 0.6624464294513368,\n",
       "  'macro_f1-score': 0.42290395573436823,\n",
       "  'balanced_accuracy': 0.4388119392216578,\n",
       "  'mcc': 0.5734312742481551,\n",
       "  'train_loss': 0.3541685542749131},\n",
       " {'val_loss': 1.4692367776384894,\n",
       "  'val_accuracy': 0.6887573964497041,\n",
       "  'precision': 0.6823419471003849,\n",
       "  'recall': 0.6887573964497041,\n",
       "  'f1-score': 0.6773663149422452,\n",
       "  'macro_f1-score': 0.3763840000139194,\n",
       "  'balanced_accuracy': 0.38708675643827034,\n",
       "  'mcc': 0.5909693601198771,\n",
       "  'train_loss': 0.3579392345101737},\n",
       " {'val_loss': 1.6073773250264942,\n",
       "  'val_accuracy': 0.6816568047337278,\n",
       "  'precision': 0.6660936524103561,\n",
       "  'recall': 0.6816568047337278,\n",
       "  'f1-score': 0.6575195998818597,\n",
       "  'macro_f1-score': 0.3287672913485021,\n",
       "  'balanced_accuracy': 0.3244674307783446,\n",
       "  'mcc': 0.5731153233484134,\n",
       "  'train_loss': 0.44095233730783984}]"
      ]
     },
     "execution_count": 5,
     "metadata": {},
     "output_type": "execute_result"
    }
   ],
   "source": [
    "results"
   ]
  }
 ],
 "metadata": {
  "kernelspec": {
   "display_name": "Python 3 (ipykernel)",
   "language": "python",
   "name": "python3"
  },
  "language_info": {
   "codemirror_mode": {
    "name": "ipython",
    "version": 3
   },
   "file_extension": ".py",
   "mimetype": "text/x-python",
   "name": "python",
   "nbconvert_exporter": "python",
   "pygments_lexer": "ipython3",
   "version": "3.11.9"
  }
 },
 "nbformat": 4,
 "nbformat_minor": 5
}
