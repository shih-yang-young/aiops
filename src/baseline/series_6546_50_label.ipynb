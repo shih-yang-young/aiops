{
 "cells": [
  {
   "cell_type": "code",
   "execution_count": 1,
   "id": "f22f4841-9a9d-4a63-b896-560594d666d8",
   "metadata": {},
   "outputs": [
    {
     "data": {
      "text/html": [
       "<div>\n",
       "<style scoped>\n",
       "    .dataframe tbody tr th:only-of-type {\n",
       "        vertical-align: middle;\n",
       "    }\n",
       "\n",
       "    .dataframe tbody tr th {\n",
       "        vertical-align: top;\n",
       "    }\n",
       "\n",
       "    .dataframe thead th {\n",
       "        text-align: right;\n",
       "    }\n",
       "</style>\n",
       "<table border=\"1\" class=\"dataframe\">\n",
       "  <thead>\n",
       "    <tr style=\"text-align: right;\">\n",
       "      <th></th>\n",
       "      <th>Inbound Message</th>\n",
       "      <th>Label</th>\n",
       "    </tr>\n",
       "  </thead>\n",
       "  <tbody>\n",
       "    <tr>\n",
       "      <th>0</th>\n",
       "      <td>login issue verified user details employee man...</td>\n",
       "      <td>0</td>\n",
       "    </tr>\n",
       "    <tr>\n",
       "      <th>1</th>\n",
       "      <td>outlook hello team meetings skype meetings etc...</td>\n",
       "      <td>0</td>\n",
       "    </tr>\n",
       "    <tr>\n",
       "      <th>2</th>\n",
       "      <td>cant log vpn cannot log vpn best</td>\n",
       "      <td>0</td>\n",
       "    </tr>\n",
       "    <tr>\n",
       "      <th>3</th>\n",
       "      <td>unable access tool page unable access tool page</td>\n",
       "      <td>0</td>\n",
       "    </tr>\n",
       "    <tr>\n",
       "      <th>4</th>\n",
       "      <td>skype error skype error</td>\n",
       "      <td>0</td>\n",
       "    </tr>\n",
       "    <tr>\n",
       "      <th>...</th>\n",
       "      <td>...</td>\n",
       "      <td>...</td>\n",
       "    </tr>\n",
       "    <tr>\n",
       "      <th>6541</th>\n",
       "      <td>emails coming mail good afternoon receiving em...</td>\n",
       "      <td>22</td>\n",
       "    </tr>\n",
       "    <tr>\n",
       "      <th>6542</th>\n",
       "      <td>telephony software issue telephony software issue</td>\n",
       "      <td>0</td>\n",
       "    </tr>\n",
       "    <tr>\n",
       "      <th>6543</th>\n",
       "      <td>vip windows password reset tifpdchb pedxruyf v...</td>\n",
       "      <td>0</td>\n",
       "    </tr>\n",
       "    <tr>\n",
       "      <th>6544</th>\n",
       "      <td>machine est funcionando unable access machine ...</td>\n",
       "      <td>44</td>\n",
       "    </tr>\n",
       "    <tr>\n",
       "      <th>6545</th>\n",
       "      <td>mehreren lassen sich verschiedene prgramdntyme...</td>\n",
       "      <td>49</td>\n",
       "    </tr>\n",
       "  </tbody>\n",
       "</table>\n",
       "<p>6546 rows × 2 columns</p>\n",
       "</div>"
      ],
      "text/plain": [
       "                                        Inbound Message  Label\n",
       "0     login issue verified user details employee man...      0\n",
       "1     outlook hello team meetings skype meetings etc...      0\n",
       "2                      cant log vpn cannot log vpn best      0\n",
       "3       unable access tool page unable access tool page      0\n",
       "4                               skype error skype error      0\n",
       "...                                                 ...    ...\n",
       "6541  emails coming mail good afternoon receiving em...     22\n",
       "6542  telephony software issue telephony software issue      0\n",
       "6543  vip windows password reset tifpdchb pedxruyf v...      0\n",
       "6544  machine est funcionando unable access machine ...     44\n",
       "6545  mehreren lassen sich verschiedene prgramdntyme...     49\n",
       "\n",
       "[6546 rows x 2 columns]"
      ]
     },
     "execution_count": 1,
     "metadata": {},
     "output_type": "execute_result"
    }
   ],
   "source": [
    "import pandas as pd\n",
    "data_path = \"../../data/open_source_6546_50_label_no_duplication.csv\"\n",
    "df = pd.read_csv(data_path)\n",
    "# df_label_0 = df[df[\"Label\"] == 0]\n",
    "# df_label_0_to_drop = df_label_0.sample(n=3000, random_state=42)\n",
    "# df = df.drop(df_label_0_to_drop.index)\n",
    "df"
   ]
  },
  {
   "cell_type": "code",
   "execution_count": 2,
   "id": "bf737873-4f1c-4588-913d-8f06b2777b20",
   "metadata": {},
   "outputs": [
    {
     "name": "stderr",
     "output_type": "stream",
     "text": [
      "c:\\Users\\user\\AppData\\Local\\Programs\\Python\\Python310\\lib\\site-packages\\tqdm\\auto.py:21: TqdmWarning: IProgress not found. Please update jupyter and ipywidgets. See https://ipywidgets.readthedocs.io/en/stable/user_install.html\n",
      "  from .autonotebook import tqdm as notebook_tqdm\n"
     ]
    }
   ],
   "source": [
    "import sys\n",
    "import os\n",
    "sys.path.append(os.path.abspath('../ml_lib'))\n",
    "\n",
    "from config import *\n",
    "from experiment import run_kfold_experiment"
   ]
  },
  {
   "cell_type": "code",
   "execution_count": 3,
   "id": "a12b2613-aa9d-41c0-8f62-72210eaf8d7f",
   "metadata": {},
   "outputs": [],
   "source": [
    "messages, labels = df['Inbound Message'].tolist(), df['Label'].tolist()"
   ]
  },
  {
   "cell_type": "code",
   "execution_count": 4,
   "id": "38d4729f-f867-4cea-89f9-31f67e5ecced",
   "metadata": {},
   "outputs": [
    {
     "name": "stdout",
     "output_type": "stream",
     "text": [
      "▶ Running: bert-base-uncased + plain + none\n",
      "tokenizer is bert-base-uncased\n",
      "Using device: cuda\n",
      "CUDA Available: True\n",
      "CUDA Device: NVIDIA GeForce RTX 5070 Ti\n",
      "Current GPU Memory Allocated: 0.00 GB\n",
      "Current GPU Memory Cached: 0.00 GB\n",
      "\n",
      "[Fold 1]\n",
      "Label distribution after resampling:\n",
      "  label 0: 2465\n",
      "  label 1: 22\n",
      "  label 2: 64\n",
      "  label 3: 24\n",
      "  label 4: 190\n",
      "  label 5: 112\n",
      "  label 6: 93\n",
      "  label 7: 30\n",
      "  label 8: 68\n",
      "  label 9: 30\n",
      "  label 10: 67\n",
      "  label 11: 169\n",
      "  label 12: 190\n",
      "  label 13: 28\n",
      "  label 14: 23\n",
      "  label 15: 25\n",
      "  label 16: 19\n",
      "  label 17: 181\n",
      "  label 18: 92\n",
      "  label 19: 44\n",
      "  label 20: 14\n",
      "  label 21: 35\n",
      "  label 22: 76\n",
      "  label 23: 157\n",
      "  label 24: 13\n",
      "  label 25: 44\n",
      "  label 26: 84\n",
      "  label 27: 47\n",
      "  label 28: 11\n",
      "  label 29: 13\n",
      "  label 30: 11\n",
      "  label 31: 76\n",
      "  label 32: 36\n",
      "  label 33: 32\n",
      "  label 34: 29\n",
      "  label 35: 11\n",
      "  label 36: 22\n",
      "  label 37: 16\n",
      "  label 38: 6\n",
      "  label 39: 32\n",
      "  label 40: 10\n",
      "  label 41: 9\n",
      "  label 42: 57\n",
      "  label 43: 6\n",
      "  label 44: 19\n",
      "  label 45: 8\n",
      "  label 46: 55\n",
      "  label 47: 241\n",
      "  label 48: 62\n",
      "  label 49: 68\n",
      "model is bert-base-uncased\n"
     ]
    },
    {
     "name": "stderr",
     "output_type": "stream",
     "text": [
      "Some weights of BertForSequenceClassification were not initialized from the model checkpoint at bert-base-uncased and are newly initialized: ['classifier.bias', 'classifier.weight']\n",
      "You should probably TRAIN this model on a down-stream task to be able to use it for predictions and inference.\n"
     ]
    },
    {
     "name": "stdout",
     "output_type": "stream",
     "text": [
      "Epoch 1/20\n"
     ]
    },
    {
     "name": "stderr",
     "output_type": "stream",
     "text": [
      "100%|██████████| 328/328 [00:27<00:00, 11.90it/s]\n"
     ]
    },
    {
     "name": "stdout",
     "output_type": "stream",
     "text": [
      "{'val_loss': 1.8634248303204048, 'val_accuracy': 0.5709923664122137, 'precision': 0.38755827760244005, 'recall': 0.5709923664122137, 'f1-score': 0.4548160578497694, 'macro_f1-score': 0.06756718344263707, 'balanced_accuracy': 0.08285180435448099, 'mcc': 0.3709778299200685, 'train_loss': 2.2488964403547893}\n",
      "Epoch 2/20\n"
     ]
    },
    {
     "name": "stderr",
     "output_type": "stream",
     "text": [
      "100%|██████████| 328/328 [00:27<00:00, 12.01it/s]\n"
     ]
    },
    {
     "name": "stdout",
     "output_type": "stream",
     "text": [
      "{'val_loss': 1.601912705636606, 'val_accuracy': 0.6045801526717557, 'precision': 0.48262203014596133, 'recall': 0.6045801526717557, 'f1-score': 0.5106873377688412, 'macro_f1-score': 0.13571599725099875, 'balanced_accuracy': 0.1463747666653717, 'mcc': 0.43565478219879766, 'train_loss': 1.6671056503021136}\n",
      "Epoch 3/20\n"
     ]
    },
    {
     "name": "stderr",
     "output_type": "stream",
     "text": [
      "100%|██████████| 328/328 [00:27<00:00, 11.96it/s]\n"
     ]
    },
    {
     "name": "stdout",
     "output_type": "stream",
     "text": [
      "{'val_loss': 1.5016478547235814, 'val_accuracy': 0.6229007633587786, 'precision': 0.5590131793309432, 'recall': 0.6229007633587786, 'f1-score': 0.5726566245112635, 'macro_f1-score': 0.20490359480191592, 'balanced_accuracy': 0.20762630220790787, 'mcc': 0.48590184114410806, 'train_loss': 1.266346180766094}\n",
      "Epoch 4/20\n"
     ]
    },
    {
     "name": "stderr",
     "output_type": "stream",
     "text": [
      "100%|██████████| 328/328 [00:27<00:00, 11.96it/s]\n"
     ]
    },
    {
     "name": "stdout",
     "output_type": "stream",
     "text": [
      "{'val_loss': 1.515629627355715, 'val_accuracy': 0.6458015267175573, 'precision': 0.5872947868380481, 'recall': 0.6458015267175573, 'f1-score': 0.6066586904368829, 'macro_f1-score': 0.26189608135427345, 'balanced_accuracy': 0.2701594938998214, 'mcc': 0.519644534918548, 'train_loss': 0.9269553889497751}\n",
      "Epoch 5/20\n"
     ]
    },
    {
     "name": "stderr",
     "output_type": "stream",
     "text": [
      "100%|██████████| 328/328 [00:27<00:00, 11.96it/s]\n"
     ]
    },
    {
     "name": "stdout",
     "output_type": "stream",
     "text": [
      "{'val_loss': 1.56857956437076, 'val_accuracy': 0.6404580152671756, 'precision': 0.6154986310680177, 'recall': 0.6404580152671756, 'f1-score': 0.6157432747885103, 'macro_f1-score': 0.3187748001635848, 'balanced_accuracy': 0.3228107100965324, 'mcc': 0.521520605878844, 'train_loss': 0.664635479972675}\n",
      "Epoch 6/20\n"
     ]
    },
    {
     "name": "stderr",
     "output_type": "stream",
     "text": [
      "100%|██████████| 328/328 [00:27<00:00, 11.97it/s]\n"
     ]
    },
    {
     "name": "stdout",
     "output_type": "stream",
     "text": [
      "{'val_loss': 1.593807619155907, 'val_accuracy': 0.6465648854961832, 'precision': 0.6340807152561487, 'recall': 0.6465648854961832, 'f1-score': 0.6290846131436382, 'macro_f1-score': 0.33062068708039744, 'balanced_accuracy': 0.32891253479568994, 'mcc': 0.5311896704836742, 'train_loss': 0.4741262834428287}\n",
      "Epoch 7/20\n"
     ]
    },
    {
     "name": "stderr",
     "output_type": "stream",
     "text": [
      "100%|██████████| 328/328 [00:27<00:00, 11.94it/s]\n"
     ]
    },
    {
     "name": "stdout",
     "output_type": "stream",
     "text": [
      "{'val_loss': 1.5958305695434896, 'val_accuracy': 0.6687022900763359, 'precision': 0.6658007839129343, 'recall': 0.6687022900763359, 'f1-score': 0.6583990648119235, 'macro_f1-score': 0.4039513762283065, 'balanced_accuracy': 0.4102675375025495, 'mcc': 0.5653953757921332, 'train_loss': 0.33058386050709865}\n",
      "Epoch 8/20\n"
     ]
    },
    {
     "name": "stderr",
     "output_type": "stream",
     "text": [
      "100%|██████████| 328/328 [00:27<00:00, 11.94it/s]\n"
     ]
    },
    {
     "name": "stdout",
     "output_type": "stream",
     "text": [
      "{'val_loss': 1.8297737429781658, 'val_accuracy': 0.6274809160305344, 'precision': 0.6484456957037529, 'recall': 0.6274809160305344, 'f1-score': 0.6261422387685802, 'macro_f1-score': 0.37616891209775566, 'balanced_accuracy': 0.37983546694860565, 'mcc': 0.5122757367979427, 'train_loss': 0.22862818015444025}\n",
      "Epoch 9/20\n"
     ]
    },
    {
     "name": "stderr",
     "output_type": "stream",
     "text": [
      "100%|██████████| 328/328 [00:27<00:00, 11.94it/s]\n"
     ]
    },
    {
     "name": "stdout",
     "output_type": "stream",
     "text": [
      "{'val_loss': 1.8870328744737113, 'val_accuracy': 0.6358778625954199, 'precision': 0.645116399509856, 'recall': 0.6358778625954199, 'f1-score': 0.6323124596578034, 'macro_f1-score': 0.3809769775454565, 'balanced_accuracy': 0.3898764068441065, 'mcc': 0.522230428886515, 'train_loss': 0.17543198581694103}\n",
      "Epoch 10/20\n"
     ]
    },
    {
     "name": "stderr",
     "output_type": "stream",
     "text": [
      "100%|██████████| 328/328 [00:27<00:00, 11.95it/s]\n"
     ]
    },
    {
     "name": "stdout",
     "output_type": "stream",
     "text": [
      "{'val_loss': 1.866812740520733, 'val_accuracy': 0.6709923664122137, 'precision': 0.6612272252286555, 'recall': 0.6709923664122137, 'f1-score': 0.6560562864698698, 'macro_f1-score': 0.407118987822195, 'balanced_accuracy': 0.391916645674703, 'mcc': 0.5593661128940081, 'train_loss': 0.14550611775413883}\n",
      "Epoch 11/20\n"
     ]
    },
    {
     "name": "stderr",
     "output_type": "stream",
     "text": [
      "100%|██████████| 328/328 [00:27<00:00, 11.94it/s]\n"
     ]
    },
    {
     "name": "stdout",
     "output_type": "stream",
     "text": [
      "{'val_loss': 2.0409208945021398, 'val_accuracy': 0.6458015267175573, 'precision': 0.645677762234287, 'recall': 0.6458015267175573, 'f1-score': 0.6365036810710116, 'macro_f1-score': 0.38065783103211515, 'balanced_accuracy': 0.39259987434859894, 'mcc': 0.5282505103327269, 'train_loss': 0.1012090836770878}\n",
      "Epoch 12/20\n"
     ]
    },
    {
     "name": "stderr",
     "output_type": "stream",
     "text": [
      "100%|██████████| 328/328 [00:27<00:00, 11.93it/s]\n"
     ]
    },
    {
     "name": "stdout",
     "output_type": "stream",
     "text": [
      "{'val_loss': 2.0947328795020175, 'val_accuracy': 0.6404580152671756, 'precision': 0.6495511215098235, 'recall': 0.6404580152671756, 'f1-score': 0.628165157905463, 'macro_f1-score': 0.37813578973434375, 'balanced_accuracy': 0.36486402424364395, 'mcc': 0.5189260713670846, 'train_loss': 0.10272281983066578}\n",
      "Epoch 13/20\n"
     ]
    },
    {
     "name": "stderr",
     "output_type": "stream",
     "text": [
      "100%|██████████| 328/328 [00:27<00:00, 11.94it/s]\n"
     ]
    },
    {
     "name": "stdout",
     "output_type": "stream",
     "text": [
      "{'val_loss': 2.546430710884856, 'val_accuracy': 0.6251908396946565, 'precision': 0.6146909173379944, 'recall': 0.6251908396946565, 'f1-score': 0.5766819500806785, 'macro_f1-score': 0.30464315128551456, 'balanced_accuracy': 0.28402908276932104, 'mcc': 0.4696643576900739, 'train_loss': 0.11549243881230856}\n",
      "Early stopping.\n",
      "\n",
      "[Fold 2]\n",
      "Label distribution after resampling:\n",
      "  label 0: 2465\n",
      "  label 1: 22\n",
      "  label 2: 64\n",
      "  label 3: 24\n",
      "  label 4: 190\n",
      "  label 5: 113\n",
      "  label 6: 93\n",
      "  label 7: 31\n",
      "  label 8: 68\n",
      "  label 9: 29\n",
      "  label 10: 67\n",
      "  label 11: 169\n",
      "  label 12: 190\n",
      "  label 13: 29\n",
      "  label 14: 22\n",
      "  label 15: 25\n",
      "  label 16: 19\n",
      "  label 17: 181\n",
      "  label 18: 92\n",
      "  label 19: 44\n",
      "  label 20: 13\n",
      "  label 21: 35\n",
      "  label 22: 76\n",
      "  label 23: 158\n",
      "  label 24: 13\n",
      "  label 25: 44\n",
      "  label 26: 84\n",
      "  label 27: 47\n",
      "  label 28: 12\n",
      "  label 29: 12\n",
      "  label 30: 12\n",
      "  label 31: 75\n",
      "  label 32: 36\n",
      "  label 33: 31\n",
      "  label 34: 29\n",
      "  label 35: 12\n",
      "  label 36: 21\n",
      "  label 37: 16\n",
      "  label 38: 6\n",
      "  label 39: 33\n",
      "  label 40: 11\n",
      "  label 41: 8\n",
      "  label 42: 56\n",
      "  label 43: 6\n",
      "  label 44: 19\n",
      "  label 45: 9\n",
      "  label 46: 55\n",
      "  label 47: 241\n",
      "  label 48: 62\n",
      "  label 49: 68\n",
      "model is bert-base-uncased\n"
     ]
    },
    {
     "name": "stderr",
     "output_type": "stream",
     "text": [
      "Some weights of BertForSequenceClassification were not initialized from the model checkpoint at bert-base-uncased and are newly initialized: ['classifier.bias', 'classifier.weight']\n",
      "You should probably TRAIN this model on a down-stream task to be able to use it for predictions and inference.\n"
     ]
    },
    {
     "name": "stdout",
     "output_type": "stream",
     "text": [
      "Epoch 1/20\n"
     ]
    },
    {
     "name": "stderr",
     "output_type": "stream",
     "text": [
      "100%|██████████| 328/328 [00:27<00:00, 11.95it/s]\n"
     ]
    },
    {
     "name": "stdout",
     "output_type": "stream",
     "text": [
      "{'val_loss': 1.8469463165213422, 'val_accuracy': 0.5569136745607334, 'precision': 0.3571880635332372, 'recall': 0.5569136745607334, 'f1-score': 0.4311058577973533, 'macro_f1-score': 0.06732545718813956, 'balanced_accuracy': 0.07830914343174969, 'mcc': 0.33483971475933094, 'train_loss': 2.27637305110693}\n",
      "Epoch 2/20\n"
     ]
    },
    {
     "name": "stderr",
     "output_type": "stream",
     "text": [
      "100%|██████████| 328/328 [00:27<00:00, 11.92it/s]\n"
     ]
    },
    {
     "name": "stdout",
     "output_type": "stream",
     "text": [
      "{'val_loss': 1.546710349437667, 'val_accuracy': 0.6035141329258976, 'precision': 0.5194818288563678, 'recall': 0.6035141329258976, 'f1-score': 0.5233307731373339, 'macro_f1-score': 0.13728572016115792, 'balanced_accuracy': 0.15563339502052442, 'mcc': 0.4446996834553994, 'train_loss': 1.631447563901907}\n",
      "Epoch 3/20\n"
     ]
    },
    {
     "name": "stderr",
     "output_type": "stream",
     "text": [
      "100%|██████████| 328/328 [00:27<00:00, 11.94it/s]\n"
     ]
    },
    {
     "name": "stdout",
     "output_type": "stream",
     "text": [
      "{'val_loss': 1.464690486105477, 'val_accuracy': 0.6157372039724981, 'precision': 0.57260554051526, 'recall': 0.6157372039724981, 'f1-score': 0.5806418230053046, 'macro_f1-score': 0.2110058721235388, 'balanced_accuracy': 0.23652228021080135, 'mcc': 0.489029995146448, 'train_loss': 1.232669950985327}\n",
      "Epoch 4/20\n"
     ]
    },
    {
     "name": "stderr",
     "output_type": "stream",
     "text": [
      "100%|██████████| 328/328 [00:27<00:00, 11.94it/s]\n"
     ]
    },
    {
     "name": "stdout",
     "output_type": "stream",
     "text": [
      "{'val_loss': 1.4618455451436159, 'val_accuracy': 0.6394194041252865, 'precision': 0.6081416781630317, 'recall': 0.6394194041252865, 'f1-score': 0.6103487645752915, 'macro_f1-score': 0.2791141460427157, 'balanced_accuracy': 0.2795652967344099, 'mcc': 0.514760283626835, 'train_loss': 0.896994908181269}\n",
      "Epoch 5/20\n"
     ]
    },
    {
     "name": "stderr",
     "output_type": "stream",
     "text": [
      "100%|██████████| 328/328 [00:27<00:00, 11.95it/s]\n"
     ]
    },
    {
     "name": "stdout",
     "output_type": "stream",
     "text": [
      "{'val_loss': 1.4779433749797868, 'val_accuracy': 0.6462948815889993, 'precision': 0.62803675981994, 'recall': 0.6462948815889993, 'f1-score': 0.6177149614051243, 'macro_f1-score': 0.30516210117421716, 'balanced_accuracy': 0.2921945156584451, 'mcc': 0.5219598924414536, 'train_loss': 0.6259272948997777}\n",
      "Epoch 6/20\n"
     ]
    },
    {
     "name": "stderr",
     "output_type": "stream",
     "text": [
      "100%|██████████| 328/328 [00:27<00:00, 11.92it/s]\n"
     ]
    },
    {
     "name": "stdout",
     "output_type": "stream",
     "text": [
      "{'val_loss': 1.5137883613749248, 'val_accuracy': 0.6417112299465241, 'precision': 0.649506955165448, 'recall': 0.6417112299465241, 'f1-score': 0.6317567129058715, 'macro_f1-score': 0.3212417930067221, 'balanced_accuracy': 0.3178799267134312, 'mcc': 0.5299879554526427, 'train_loss': 0.44049365896300025}\n",
      "Epoch 7/20\n"
     ]
    },
    {
     "name": "stderr",
     "output_type": "stream",
     "text": [
      "100%|██████████| 328/328 [00:27<00:00, 11.94it/s]\n"
     ]
    },
    {
     "name": "stdout",
     "output_type": "stream",
     "text": [
      "{'val_loss': 1.675878185869717, 'val_accuracy': 0.6638655462184874, 'precision': 0.6382635539249432, 'recall': 0.6638655462184874, 'f1-score': 0.6349826924239159, 'macro_f1-score': 0.3415639335871214, 'balanced_accuracy': 0.3217484574210164, 'mcc': 0.5388260078066968, 'train_loss': 0.3039327655214725}\n",
      "Epoch 8/20\n"
     ]
    },
    {
     "name": "stderr",
     "output_type": "stream",
     "text": [
      "100%|██████████| 328/328 [00:27<00:00, 11.91it/s]\n"
     ]
    },
    {
     "name": "stdout",
     "output_type": "stream",
     "text": [
      "{'val_loss': 1.6303596265795754, 'val_accuracy': 0.6669213139801375, 'precision': 0.6758462076649697, 'recall': 0.6669213139801375, 'f1-score': 0.6612088849513889, 'macro_f1-score': 0.3699015618855243, 'balanced_accuracy': 0.3848158283632339, 'mcc': 0.5666474160218251, 'train_loss': 0.21445516915991902}\n",
      "Epoch 9/20\n"
     ]
    },
    {
     "name": "stderr",
     "output_type": "stream",
     "text": [
      "100%|██████████| 328/328 [00:27<00:00, 11.95it/s]\n"
     ]
    },
    {
     "name": "stdout",
     "output_type": "stream",
     "text": [
      "{'val_loss': 1.8167755149486589, 'val_accuracy': 0.612681436210848, 'precision': 0.667270239085706, 'recall': 0.612681436210848, 'f1-score': 0.6262858246383859, 'macro_f1-score': 0.39110508444704345, 'balanced_accuracy': 0.4077887873056788, 'mcc': 0.521405340432256, 'train_loss': 0.178024186113872}\n",
      "Epoch 10/20\n"
     ]
    },
    {
     "name": "stderr",
     "output_type": "stream",
     "text": [
      "100%|██████████| 328/328 [00:27<00:00, 11.92it/s]\n"
     ]
    },
    {
     "name": "stdout",
     "output_type": "stream",
     "text": [
      "{'val_loss': 1.92621465972284, 'val_accuracy': 0.6142093200916731, 'precision': 0.6637713065135401, 'recall': 0.6142093200916731, 'f1-score': 0.6234556113923112, 'macro_f1-score': 0.39450344141333865, 'balanced_accuracy': 0.40737983771506137, 'mcc': 0.521996064470051, 'train_loss': 0.13645520128548236}\n",
      "Epoch 11/20\n"
     ]
    },
    {
     "name": "stderr",
     "output_type": "stream",
     "text": [
      "100%|██████████| 328/328 [00:27<00:00, 11.91it/s]\n"
     ]
    },
    {
     "name": "stdout",
     "output_type": "stream",
     "text": [
      "{'val_loss': 1.9004301234352878, 'val_accuracy': 0.6279602750190986, 'precision': 0.6625285147562303, 'recall': 0.6279602750190986, 'f1-score': 0.6309579397886839, 'macro_f1-score': 0.378663730931012, 'balanced_accuracy': 0.38439335926007573, 'mcc': 0.5295455145252445, 'train_loss': 0.13242154741353104}\n",
      "Epoch 12/20\n"
     ]
    },
    {
     "name": "stderr",
     "output_type": "stream",
     "text": [
      "100%|██████████| 328/328 [00:27<00:00, 11.94it/s]\n"
     ]
    },
    {
     "name": "stdout",
     "output_type": "stream",
     "text": [
      "{'val_loss': 1.8919665786187823, 'val_accuracy': 0.6409472880061116, 'precision': 0.6287343417270882, 'recall': 0.6409472880061116, 'f1-score': 0.6221149164064192, 'macro_f1-score': 0.3218531207239314, 'balanced_accuracy': 0.30258941497079556, 'mcc': 0.5135907982398467, 'train_loss': 0.09920517232257692}\n",
      "Epoch 13/20\n"
     ]
    },
    {
     "name": "stderr",
     "output_type": "stream",
     "text": [
      "100%|██████████| 328/328 [00:27<00:00, 11.96it/s]\n"
     ]
    },
    {
     "name": "stdout",
     "output_type": "stream",
     "text": [
      "{'val_loss': 1.8675961977824933, 'val_accuracy': 0.653170359052712, 'precision': 0.6420860350298223, 'recall': 0.653170359052712, 'f1-score': 0.6339109855272669, 'macro_f1-score': 0.35660230621338074, 'balanced_accuracy': 0.3567662397971299, 'mcc': 0.5345921190433648, 'train_loss': 0.10331272624472793}\n",
      "Early stopping.\n",
      "\n",
      "[Fold 3]\n",
      "Label distribution after resampling:\n",
      "  label 0: 2466\n",
      "  label 1: 21\n",
      "  label 2: 64\n",
      "  label 3: 24\n",
      "  label 4: 191\n",
      "  label 5: 113\n",
      "  label 6: 92\n",
      "  label 7: 31\n",
      "  label 8: 68\n",
      "  label 9: 29\n",
      "  label 10: 68\n",
      "  label 11: 168\n",
      "  label 12: 190\n",
      "  label 13: 29\n",
      "  label 14: 22\n",
      "  label 15: 25\n",
      "  label 16: 19\n",
      "  label 17: 181\n",
      "  label 18: 92\n",
      "  label 19: 44\n",
      "  label 20: 13\n",
      "  label 21: 36\n",
      "  label 22: 76\n",
      "  label 23: 158\n",
      "  label 24: 12\n",
      "  label 25: 44\n",
      "  label 26: 84\n",
      "  label 27: 48\n",
      "  label 28: 11\n",
      "  label 29: 13\n",
      "  label 30: 11\n",
      "  label 31: 75\n",
      "  label 32: 36\n",
      "  label 33: 31\n",
      "  label 34: 30\n",
      "  label 35: 11\n",
      "  label 36: 21\n",
      "  label 37: 16\n",
      "  label 38: 5\n",
      "  label 39: 33\n",
      "  label 40: 11\n",
      "  label 41: 9\n",
      "  label 42: 57\n",
      "  label 43: 7\n",
      "  label 44: 18\n",
      "  label 45: 9\n",
      "  label 46: 54\n",
      "  label 47: 242\n",
      "  label 48: 61\n",
      "  label 49: 68\n",
      "model is bert-base-uncased\n"
     ]
    },
    {
     "name": "stderr",
     "output_type": "stream",
     "text": [
      "Some weights of BertForSequenceClassification were not initialized from the model checkpoint at bert-base-uncased and are newly initialized: ['classifier.bias', 'classifier.weight']\n",
      "You should probably TRAIN this model on a down-stream task to be able to use it for predictions and inference.\n"
     ]
    },
    {
     "name": "stdout",
     "output_type": "stream",
     "text": [
      "Epoch 1/20\n"
     ]
    },
    {
     "name": "stderr",
     "output_type": "stream",
     "text": [
      "100%|██████████| 328/328 [00:27<00:00, 11.91it/s]\n"
     ]
    },
    {
     "name": "stdout",
     "output_type": "stream",
     "text": [
      "{'val_loss': 1.7690798654788877, 'val_accuracy': 0.5767761650114591, 'precision': 0.41180723880147824, 'recall': 0.5767761650114591, 'f1-score': 0.4658841632544054, 'macro_f1-score': 0.07623539347362877, 'balanced_accuracy': 0.09290399435080285, 'mcc': 0.3859095931016097, 'train_loss': 2.2140108027109284}\n",
      "Epoch 2/20\n"
     ]
    },
    {
     "name": "stderr",
     "output_type": "stream",
     "text": [
      "100%|██████████| 328/328 [00:27<00:00, 11.94it/s]\n"
     ]
    },
    {
     "name": "stdout",
     "output_type": "stream",
     "text": [
      "{'val_loss': 1.4936503437234134, 'val_accuracy': 0.612681436210848, 'precision': 0.520247484537154, 'recall': 0.612681436210848, 'f1-score': 0.5472761460409501, 'macro_f1-score': 0.15432831112783663, 'balanced_accuracy': 0.16742700357045398, 'mcc': 0.46530417062691776, 'train_loss': 1.5692000280974843}\n",
      "Epoch 3/20\n"
     ]
    },
    {
     "name": "stderr",
     "output_type": "stream",
     "text": [
      "100%|██████████| 328/328 [00:27<00:00, 11.94it/s]\n"
     ]
    },
    {
     "name": "stdout",
     "output_type": "stream",
     "text": [
      "{'val_loss': 1.4536272832533208, 'val_accuracy': 0.627196333078686, 'precision': 0.5532897800695337, 'recall': 0.627196333078686, 'f1-score': 0.5734405675916714, 'macro_f1-score': 0.19906518956880095, 'balanced_accuracy': 0.2095126537940418, 'mcc': 0.4917532637914637, 'train_loss': 1.1862808178837707}\n",
      "Epoch 4/20\n"
     ]
    },
    {
     "name": "stderr",
     "output_type": "stream",
     "text": [
      "100%|██████████| 328/328 [00:27<00:00, 11.95it/s]\n"
     ]
    },
    {
     "name": "stdout",
     "output_type": "stream",
     "text": [
      "{'val_loss': 1.4142662355812585, 'val_accuracy': 0.6432391138273491, 'precision': 0.6227976826265055, 'recall': 0.6432391138273491, 'f1-score': 0.6254370631050791, 'macro_f1-score': 0.3037182391316643, 'balanced_accuracy': 0.31702357171368317, 'mcc': 0.5372646765430433, 'train_loss': 0.8776629721155254}\n",
      "Epoch 5/20\n"
     ]
    },
    {
     "name": "stderr",
     "output_type": "stream",
     "text": [
      "100%|██████████| 328/328 [00:27<00:00, 11.91it/s]\n"
     ]
    },
    {
     "name": "stdout",
     "output_type": "stream",
     "text": [
      "{'val_loss': 1.4689204049546545, 'val_accuracy': 0.6577540106951871, 'precision': 0.6418633719054729, 'recall': 0.6577540106951871, 'f1-score': 0.6426000622269583, 'macro_f1-score': 0.3489416888728868, 'balanced_accuracy': 0.35946960613906626, 'mcc': 0.5494222040779502, 'train_loss': 0.6179363352769032}\n",
      "Epoch 6/20\n"
     ]
    },
    {
     "name": "stderr",
     "output_type": "stream",
     "text": [
      "100%|██████████| 328/328 [00:27<00:00, 11.94it/s]\n"
     ]
    },
    {
     "name": "stdout",
     "output_type": "stream",
     "text": [
      "{'val_loss': 1.5502794617559852, 'val_accuracy': 0.6600458365164248, 'precision': 0.6192339365152923, 'recall': 0.6600458365164248, 'f1-score': 0.6293716412209106, 'macro_f1-score': 0.3339074061182616, 'balanced_accuracy': 0.32665061333832246, 'mcc': 0.5373866671998788, 'train_loss': 0.41906438094404774}\n",
      "Epoch 7/20\n"
     ]
    },
    {
     "name": "stderr",
     "output_type": "stream",
     "text": [
      "100%|██████████| 328/328 [00:27<00:00, 11.92it/s]\n"
     ]
    },
    {
     "name": "stdout",
     "output_type": "stream",
     "text": [
      "{'val_loss': 1.6648561834562114, 'val_accuracy': 0.6363636363636364, 'precision': 0.6474433301857869, 'recall': 0.6363636363636364, 'f1-score': 0.6359045096914692, 'macro_f1-score': 0.36445902875771696, 'balanced_accuracy': 0.3778397530054292, 'mcc': 0.5301426469533289, 'train_loss': 0.31307871070713167}\n",
      "Epoch 8/20\n"
     ]
    },
    {
     "name": "stderr",
     "output_type": "stream",
     "text": [
      "100%|██████████| 328/328 [00:27<00:00, 11.94it/s]\n"
     ]
    },
    {
     "name": "stdout",
     "output_type": "stream",
     "text": [
      "{'val_loss': 1.63789186535812, 'val_accuracy': 0.6592818945760123, 'precision': 0.6677543221903084, 'recall': 0.6592818945760123, 'f1-score': 0.6560012634530061, 'macro_f1-score': 0.39989503192199544, 'balanced_accuracy': 0.3911715046260777, 'mcc': 0.5515248098680172, 'train_loss': 0.23788835178129375}\n",
      "Epoch 9/20\n"
     ]
    },
    {
     "name": "stderr",
     "output_type": "stream",
     "text": [
      "100%|██████████| 328/328 [00:27<00:00, 11.92it/s]\n"
     ]
    },
    {
     "name": "stdout",
     "output_type": "stream",
     "text": [
      "{'val_loss': 1.8071300470974387, 'val_accuracy': 0.6378915202444614, 'precision': 0.6675879881706276, 'recall': 0.6378915202444614, 'f1-score': 0.6419202832233215, 'macro_f1-score': 0.40529264992128233, 'balanced_accuracy': 0.4223707110615941, 'mcc': 0.5399469041413747, 'train_loss': 0.19317323221859137}\n",
      "Epoch 10/20\n"
     ]
    },
    {
     "name": "stderr",
     "output_type": "stream",
     "text": [
      "100%|██████████| 328/328 [00:27<00:00, 11.92it/s]\n"
     ]
    },
    {
     "name": "stdout",
     "output_type": "stream",
     "text": [
      "{'val_loss': 1.81297289489246, 'val_accuracy': 0.6432391138273491, 'precision': 0.6626618751024618, 'recall': 0.6432391138273491, 'f1-score': 0.6455661989995276, 'macro_f1-score': 0.4138286997411739, 'balanced_accuracy': 0.42966814552650434, 'mcc': 0.5453408771509971, 'train_loss': 0.14967684949203053}\n",
      "Epoch 11/20\n"
     ]
    },
    {
     "name": "stderr",
     "output_type": "stream",
     "text": [
      "100%|██████████| 328/328 [00:27<00:00, 11.95it/s]\n"
     ]
    },
    {
     "name": "stdout",
     "output_type": "stream",
     "text": [
      "{'val_loss': 1.8457072021030798, 'val_accuracy': 0.6646294881588999, 'precision': 0.662721929841637, 'recall': 0.6646294881588999, 'f1-score': 0.6551222414342421, 'macro_f1-score': 0.42416797872941425, 'balanced_accuracy': 0.4054735367245366, 'mcc': 0.5553921200124321, 'train_loss': 0.10019061975209496}\n",
      "Epoch 12/20\n"
     ]
    },
    {
     "name": "stderr",
     "output_type": "stream",
     "text": [
      "100%|██████████| 328/328 [00:27<00:00, 11.93it/s]\n"
     ]
    },
    {
     "name": "stdout",
     "output_type": "stream",
     "text": [
      "{'val_loss': 1.8941024549123717, 'val_accuracy': 0.666157372039725, 'precision': 0.6672938795332245, 'recall': 0.666157372039725, 'f1-score': 0.6615626683249726, 'macro_f1-score': 0.40967422571340045, 'balanced_accuracy': 0.4096785562839889, 'mcc': 0.565101778086023, 'train_loss': 0.09428489254219685}\n",
      "Epoch 13/20\n"
     ]
    },
    {
     "name": "stderr",
     "output_type": "stream",
     "text": [
      "100%|██████████| 328/328 [00:27<00:00, 11.92it/s]\n"
     ]
    },
    {
     "name": "stdout",
     "output_type": "stream",
     "text": [
      "{'val_loss': 2.0134673378453023, 'val_accuracy': 0.6371275783040489, 'precision': 0.6502957805175374, 'recall': 0.6371275783040489, 'f1-score': 0.6375566924741551, 'macro_f1-score': 0.4144688568396427, 'balanced_accuracy': 0.4326609658551155, 'mcc': 0.5351040047002542, 'train_loss': 0.11126909252801319}\n",
      "Epoch 14/20\n"
     ]
    },
    {
     "name": "stderr",
     "output_type": "stream",
     "text": [
      "100%|██████████| 328/328 [00:27<00:00, 11.95it/s]\n"
     ]
    },
    {
     "name": "stdout",
     "output_type": "stream",
     "text": [
      "{'val_loss': 2.1350538501652276, 'val_accuracy': 0.6592818945760123, 'precision': 0.6455035190138322, 'recall': 0.6592818945760123, 'f1-score': 0.6360190636411307, 'macro_f1-score': 0.4166838266573422, 'balanced_accuracy': 0.3911355989841401, 'mcc': 0.5398987852668528, 'train_loss': 0.09644147542038388}\n",
      "Early stopping.\n",
      "\n",
      "[Fold 4]\n",
      "Label distribution after resampling:\n",
      "  label 0: 2466\n",
      "  label 1: 21\n",
      "  label 2: 64\n",
      "  label 3: 24\n",
      "  label 4: 191\n",
      "  label 5: 113\n",
      "  label 6: 93\n",
      "  label 7: 30\n",
      "  label 8: 68\n",
      "  label 9: 30\n",
      "  label 10: 67\n",
      "  label 11: 169\n",
      "  label 12: 189\n",
      "  label 13: 29\n",
      "  label 14: 22\n",
      "  label 15: 25\n",
      "  label 16: 19\n",
      "  label 17: 181\n",
      "  label 18: 92\n",
      "  label 19: 44\n",
      "  label 20: 14\n",
      "  label 21: 35\n",
      "  label 22: 76\n",
      "  label 23: 158\n",
      "  label 24: 13\n",
      "  label 25: 44\n",
      "  label 26: 84\n",
      "  label 27: 47\n",
      "  label 28: 11\n",
      "  label 29: 13\n",
      "  label 30: 11\n",
      "  label 31: 75\n",
      "  label 32: 36\n",
      "  label 33: 31\n",
      "  label 34: 30\n",
      "  label 35: 11\n",
      "  label 36: 22\n",
      "  label 37: 16\n",
      "  label 38: 5\n",
      "  label 39: 33\n",
      "  label 40: 10\n",
      "  label 41: 9\n",
      "  label 42: 57\n",
      "  label 43: 7\n",
      "  label 44: 18\n",
      "  label 45: 9\n",
      "  label 46: 54\n",
      "  label 47: 242\n",
      "  label 48: 61\n",
      "  label 49: 68\n",
      "model is bert-base-uncased\n"
     ]
    },
    {
     "name": "stderr",
     "output_type": "stream",
     "text": [
      "Some weights of BertForSequenceClassification were not initialized from the model checkpoint at bert-base-uncased and are newly initialized: ['classifier.bias', 'classifier.weight']\n",
      "You should probably TRAIN this model on a down-stream task to be able to use it for predictions and inference.\n"
     ]
    },
    {
     "name": "stdout",
     "output_type": "stream",
     "text": [
      "Epoch 1/20\n"
     ]
    },
    {
     "name": "stderr",
     "output_type": "stream",
     "text": [
      "100%|██████████| 328/328 [00:27<00:00, 11.95it/s]\n"
     ]
    },
    {
     "name": "stdout",
     "output_type": "stream",
     "text": [
      "{'val_loss': 1.8431333659625635, 'val_accuracy': 0.5783040488922842, 'precision': 0.41500272722868886, 'recall': 0.5783040488922842, 'f1-score': 0.471577164528232, 'macro_f1-score': 0.07789529394124718, 'balanced_accuracy': 0.10116201528967488, 'mcc': 0.39692434146373196, 'train_loss': 2.2458758001647343}\n",
      "Epoch 2/20\n"
     ]
    },
    {
     "name": "stderr",
     "output_type": "stream",
     "text": [
      "100%|██████████| 328/328 [00:27<00:00, 11.94it/s]\n"
     ]
    },
    {
     "name": "stdout",
     "output_type": "stream",
     "text": [
      "{'val_loss': 1.6321983958889799, 'val_accuracy': 0.5912910618792971, 'precision': 0.49821205524391426, 'recall': 0.5912910618792971, 'f1-score': 0.5163007177767127, 'macro_f1-score': 0.1324375390074213, 'balanced_accuracy': 0.14496918591404406, 'mcc': 0.43186854492737514, 'train_loss': 1.634783508392369}\n",
      "Epoch 3/20\n"
     ]
    },
    {
     "name": "stderr",
     "output_type": "stream",
     "text": [
      "100%|██████████| 328/328 [00:27<00:00, 11.92it/s]\n"
     ]
    },
    {
     "name": "stdout",
     "output_type": "stream",
     "text": [
      "{'val_loss': 1.4605998149732264, 'val_accuracy': 0.6195569136745608, 'precision': 0.567914903332442, 'recall': 0.6195569136745608, 'f1-score': 0.5814489801203196, 'macro_f1-score': 0.2196235002542986, 'balanced_accuracy': 0.22745590444063218, 'mcc': 0.48932022014704224, 'train_loss': 1.2444848419144385}\n",
      "Epoch 4/20\n"
     ]
    },
    {
     "name": "stderr",
     "output_type": "stream",
     "text": [
      "100%|██████████| 328/328 [00:27<00:00, 11.93it/s]\n"
     ]
    },
    {
     "name": "stdout",
     "output_type": "stream",
     "text": [
      "{'val_loss': 1.487869619051131, 'val_accuracy': 0.6317799847211611, 'precision': 0.5844652010307504, 'recall': 0.6317799847211611, 'f1-score': 0.5938332767039731, 'macro_f1-score': 0.26983022007970836, 'balanced_accuracy': 0.2691918517518087, 'mcc': 0.4972503579875896, 'train_loss': 0.9306145704737524}\n",
      "Epoch 5/20\n"
     ]
    },
    {
     "name": "stderr",
     "output_type": "stream",
     "text": [
      "100%|██████████| 328/328 [00:27<00:00, 11.93it/s]\n"
     ]
    },
    {
     "name": "stdout",
     "output_type": "stream",
     "text": [
      "{'val_loss': 1.6228668397156203, 'val_accuracy': 0.6378915202444614, 'precision': 0.5913415564726071, 'recall': 0.6378915202444614, 'f1-score': 0.6042043270158897, 'macro_f1-score': 0.31614829943391287, 'balanced_accuracy': 0.2929941343572864, 'mcc': 0.5010392472449228, 'train_loss': 0.6670986818740281}\n",
      "Epoch 6/20\n"
     ]
    },
    {
     "name": "stderr",
     "output_type": "stream",
     "text": [
      "100%|██████████| 328/328 [00:27<00:00, 11.93it/s]\n"
     ]
    },
    {
     "name": "stdout",
     "output_type": "stream",
     "text": [
      "{'val_loss': 1.7144205341251886, 'val_accuracy': 0.6249045072574484, 'precision': 0.6161930515384169, 'recall': 0.6249045072574484, 'f1-score': 0.6126797619298585, 'macro_f1-score': 0.3195762395543087, 'balanced_accuracy': 0.33646328888909716, 'mcc': 0.5100872597972766, 'train_loss': 0.4750506189856224}\n",
      "Epoch 7/20\n"
     ]
    },
    {
     "name": "stderr",
     "output_type": "stream",
     "text": [
      "100%|██████████| 328/328 [00:27<00:00, 11.92it/s]\n"
     ]
    },
    {
     "name": "stdout",
     "output_type": "stream",
     "text": [
      "{'val_loss': 1.7567744560358, 'val_accuracy': 0.6195569136745608, 'precision': 0.637166419131661, 'recall': 0.6195569136745608, 'f1-score': 0.617173284269531, 'macro_f1-score': 0.34686716994918426, 'balanced_accuracy': 0.35063043000253336, 'mcc': 0.5059495148981139, 'train_loss': 0.34119843931232646}\n",
      "Epoch 8/20\n"
     ]
    },
    {
     "name": "stderr",
     "output_type": "stream",
     "text": [
      "100%|██████████| 328/328 [00:27<00:00, 11.93it/s]\n"
     ]
    },
    {
     "name": "stdout",
     "output_type": "stream",
     "text": [
      "{'val_loss': 1.7754263598017577, 'val_accuracy': 0.6256684491978609, 'precision': 0.634195388221235, 'recall': 0.6256684491978609, 'f1-score': 0.618768384305474, 'macro_f1-score': 0.35541419459977847, 'balanced_accuracy': 0.36020259426382567, 'mcc': 0.5136373792517379, 'train_loss': 0.21613038779611177}\n",
      "Epoch 9/20\n"
     ]
    },
    {
     "name": "stderr",
     "output_type": "stream",
     "text": [
      "100%|██████████| 328/328 [00:27<00:00, 11.95it/s]\n"
     ]
    },
    {
     "name": "stdout",
     "output_type": "stream",
     "text": [
      "{'val_loss': 1.8452330455183983, 'val_accuracy': 0.6348357524828113, 'precision': 0.6384197289534118, 'recall': 0.6348357524828113, 'f1-score': 0.6269410405488868, 'macro_f1-score': 0.3587826922739846, 'balanced_accuracy': 0.3559443941631709, 'mcc': 0.5217598215790489, 'train_loss': 0.16720143237389715}\n",
      "Epoch 10/20\n"
     ]
    },
    {
     "name": "stderr",
     "output_type": "stream",
     "text": [
      "100%|██████████| 328/328 [00:27<00:00, 11.92it/s]\n"
     ]
    },
    {
     "name": "stdout",
     "output_type": "stream",
     "text": [
      "{'val_loss': 1.9685327196266593, 'val_accuracy': 0.6355996944232238, 'precision': 0.6266529338613951, 'recall': 0.6355996944232238, 'f1-score': 0.6220060180348252, 'macro_f1-score': 0.37865833309595937, 'balanced_accuracy': 0.3595732258316445, 'mcc': 0.5140617919162506, 'train_loss': 0.1563581766648695}\n",
      "Epoch 11/20\n"
     ]
    },
    {
     "name": "stderr",
     "output_type": "stream",
     "text": [
      "100%|██████████| 328/328 [00:27<00:00, 11.93it/s]\n"
     ]
    },
    {
     "name": "stdout",
     "output_type": "stream",
     "text": [
      "{'val_loss': 2.1465861404814373, 'val_accuracy': 0.6417112299465241, 'precision': 0.6232811251209478, 'recall': 0.6417112299465241, 'f1-score': 0.6182343023159723, 'macro_f1-score': 0.3708534618688457, 'balanced_accuracy': 0.36008666471684103, 'mcc': 0.5156182361557154, 'train_loss': 0.1104652694548571}\n",
      "Epoch 12/20\n"
     ]
    },
    {
     "name": "stderr",
     "output_type": "stream",
     "text": [
      "100%|██████████| 328/328 [00:27<00:00, 11.94it/s]\n"
     ]
    },
    {
     "name": "stdout",
     "output_type": "stream",
     "text": [
      "{'val_loss': 2.118340631265466, 'val_accuracy': 0.6019862490450726, 'precision': 0.6478425328370894, 'recall': 0.6019862490450726, 'f1-score': 0.6149359141473751, 'macro_f1-score': 0.3643344966227915, 'balanced_accuracy': 0.37952670075596834, 'mcc': 0.5017259289346694, 'train_loss': 0.09859801453918718}\n",
      "Epoch 13/20\n"
     ]
    },
    {
     "name": "stderr",
     "output_type": "stream",
     "text": [
      "100%|██████████| 328/328 [00:27<00:00, 11.94it/s]\n"
     ]
    },
    {
     "name": "stdout",
     "output_type": "stream",
     "text": [
      "{'val_loss': 2.1578724845880415, 'val_accuracy': 0.6386554621848739, 'precision': 0.6253700543824836, 'recall': 0.6386554621848739, 'f1-score': 0.6220023615033826, 'macro_f1-score': 0.3579966968319577, 'balanced_accuracy': 0.3374610917272045, 'mcc': 0.5094487446721474, 'train_loss': 0.08348771109012887}\n",
      "Early stopping.\n",
      "\n",
      "[Fold 5]\n",
      "Label distribution after resampling:\n",
      "  label 0: 2466\n",
      "  label 1: 22\n",
      "  label 2: 64\n",
      "  label 3: 24\n",
      "  label 4: 190\n",
      "  label 5: 113\n",
      "  label 6: 93\n",
      "  label 7: 30\n",
      "  label 8: 68\n",
      "  label 9: 30\n",
      "  label 10: 67\n",
      "  label 11: 169\n",
      "  label 12: 189\n",
      "  label 13: 29\n",
      "  label 14: 23\n",
      "  label 15: 24\n",
      "  label 16: 20\n",
      "  label 17: 180\n",
      "  label 18: 92\n",
      "  label 19: 44\n",
      "  label 20: 14\n",
      "  label 21: 35\n",
      "  label 22: 76\n",
      "  label 23: 157\n",
      "  label 24: 13\n",
      "  label 25: 44\n",
      "  label 26: 84\n",
      "  label 27: 47\n",
      "  label 28: 11\n",
      "  label 29: 13\n",
      "  label 30: 11\n",
      "  label 31: 75\n",
      "  label 32: 36\n",
      "  label 33: 31\n",
      "  label 34: 30\n",
      "  label 35: 11\n",
      "  label 36: 22\n",
      "  label 37: 16\n",
      "  label 38: 6\n",
      "  label 39: 33\n",
      "  label 40: 10\n",
      "  label 41: 9\n",
      "  label 42: 57\n",
      "  label 43: 6\n",
      "  label 44: 18\n",
      "  label 45: 9\n",
      "  label 46: 54\n",
      "  label 47: 242\n",
      "  label 48: 62\n",
      "  label 49: 68\n",
      "model is bert-base-uncased\n"
     ]
    },
    {
     "name": "stderr",
     "output_type": "stream",
     "text": [
      "Some weights of BertForSequenceClassification were not initialized from the model checkpoint at bert-base-uncased and are newly initialized: ['classifier.bias', 'classifier.weight']\n",
      "You should probably TRAIN this model on a down-stream task to be able to use it for predictions and inference.\n"
     ]
    },
    {
     "name": "stdout",
     "output_type": "stream",
     "text": [
      "Epoch 1/20\n"
     ]
    },
    {
     "name": "stderr",
     "output_type": "stream",
     "text": [
      "100%|██████████| 328/328 [00:27<00:00, 11.92it/s]\n"
     ]
    },
    {
     "name": "stdout",
     "output_type": "stream",
     "text": [
      "{'val_loss': 1.813059067580758, 'val_accuracy': 0.573720397249809, 'precision': 0.40924425754374527, 'recall': 0.573720397249809, 'f1-score': 0.4615670844125866, 'macro_f1-score': 0.08512837645072226, 'balanced_accuracy': 0.10652264117629578, 'mcc': 0.3847400910076917, 'train_loss': 2.2079447008124213}\n",
      "Epoch 2/20\n"
     ]
    },
    {
     "name": "stderr",
     "output_type": "stream",
     "text": [
      "100%|██████████| 328/328 [00:27<00:00, 11.93it/s]\n"
     ]
    },
    {
     "name": "stdout",
     "output_type": "stream",
     "text": [
      "{'val_loss': 1.5829586968189333, 'val_accuracy': 0.599694423223835, 'precision': 0.5058062366850388, 'recall': 0.599694423223835, 'f1-score': 0.5272320596799129, 'macro_f1-score': 0.14895248086140578, 'balanced_accuracy': 0.17174740516135725, 'mcc': 0.4457900111311572, 'train_loss': 1.5715868662951924}\n",
      "Epoch 3/20\n"
     ]
    },
    {
     "name": "stderr",
     "output_type": "stream",
     "text": [
      "100%|██████████| 328/328 [00:27<00:00, 11.92it/s]\n"
     ]
    },
    {
     "name": "stdout",
     "output_type": "stream",
     "text": [
      "{'val_loss': 1.4885177212517435, 'val_accuracy': 0.6165011459129106, 'precision': 0.5779869068705723, 'recall': 0.6165011459129106, 'f1-score': 0.5813031696294462, 'macro_f1-score': 0.2334172355239221, 'balanced_accuracy': 0.2422792554994399, 'mcc': 0.48041480432699146, 'train_loss': 1.1989901650969574}\n",
      "Epoch 4/20\n"
     ]
    },
    {
     "name": "stderr",
     "output_type": "stream",
     "text": [
      "100%|██████████| 328/328 [00:27<00:00, 11.93it/s]\n"
     ]
    },
    {
     "name": "stdout",
     "output_type": "stream",
     "text": [
      "{'val_loss': 1.544359513899175, 'val_accuracy': 0.6455309396485867, 'precision': 0.576636846656818, 'recall': 0.6455309396485867, 'f1-score': 0.5938757860236784, 'macro_f1-score': 0.2575531332252827, 'balanced_accuracy': 0.2531958881742836, 'mcc': 0.5055595106585363, 'train_loss': 0.913534735306734}\n",
      "Epoch 5/20\n"
     ]
    },
    {
     "name": "stderr",
     "output_type": "stream",
     "text": [
      "100%|██████████| 328/328 [00:27<00:00, 11.94it/s]\n"
     ]
    },
    {
     "name": "stdout",
     "output_type": "stream",
     "text": [
      "{'val_loss': 1.6348715628065713, 'val_accuracy': 0.6363636363636364, 'precision': 0.6106987705330145, 'recall': 0.6363636363636364, 'f1-score': 0.6086875511240459, 'macro_f1-score': 0.2975771237611412, 'balanced_accuracy': 0.29350598848512427, 'mcc': 0.5062903635178435, 'train_loss': 0.6560157242503654}\n",
      "Epoch 6/20\n"
     ]
    },
    {
     "name": "stderr",
     "output_type": "stream",
     "text": [
      "100%|██████████| 328/328 [00:27<00:00, 11.91it/s]\n"
     ]
    },
    {
     "name": "stdout",
     "output_type": "stream",
     "text": [
      "{'val_loss': 1.7351075890587597, 'val_accuracy': 0.6348357524828113, 'precision': 0.6229540655623208, 'recall': 0.6348357524828113, 'f1-score': 0.6234000963292974, 'macro_f1-score': 0.35763459668395114, 'balanced_accuracy': 0.36298601853195345, 'mcc': 0.5201207635995951, 'train_loss': 0.44335500571717756}\n",
      "Epoch 7/20\n"
     ]
    },
    {
     "name": "stderr",
     "output_type": "stream",
     "text": [
      "100%|██████████| 328/328 [00:27<00:00, 11.93it/s]\n"
     ]
    },
    {
     "name": "stdout",
     "output_type": "stream",
     "text": [
      "{'val_loss': 1.7681912681678447, 'val_accuracy': 0.6378915202444614, 'precision': 0.6146818266907207, 'recall': 0.6378915202444614, 'f1-score': 0.6162213499623813, 'macro_f1-score': 0.33246929746415405, 'balanced_accuracy': 0.32726863460868716, 'mcc': 0.514773216349825, 'train_loss': 0.3062225330092876}\n",
      "Epoch 8/20\n"
     ]
    },
    {
     "name": "stderr",
     "output_type": "stream",
     "text": [
      "100%|██████████| 328/328 [00:27<00:00, 11.95it/s]\n"
     ]
    },
    {
     "name": "stdout",
     "output_type": "stream",
     "text": [
      "{'val_loss': 1.9154089340349523, 'val_accuracy': 0.640183346065699, 'precision': 0.623656900741709, 'recall': 0.640183346065699, 'f1-score': 0.6236775315512126, 'macro_f1-score': 0.34997121176925416, 'balanced_accuracy': 0.32881166694539965, 'mcc': 0.512799002140984, 'train_loss': 0.201926716177429}\n",
      "Epoch 9/20\n"
     ]
    },
    {
     "name": "stderr",
     "output_type": "stream",
     "text": [
      "100%|██████████| 328/328 [00:27<00:00, 11.93it/s]\n"
     ]
    },
    {
     "name": "stdout",
     "output_type": "stream",
     "text": [
      "{'val_loss': 1.8713058484036749, 'val_accuracy': 0.6516424751718869, 'precision': 0.6350643003248069, 'recall': 0.6516424751718869, 'f1-score': 0.6260942555893291, 'macro_f1-score': 0.360838586055886, 'balanced_accuracy': 0.34023803279026055, 'mcc': 0.5267191573930837, 'train_loss': 0.18475843721109148}\n",
      "Epoch 10/20\n"
     ]
    },
    {
     "name": "stderr",
     "output_type": "stream",
     "text": [
      "100%|██████████| 328/328 [00:27<00:00, 11.93it/s]\n"
     ]
    },
    {
     "name": "stdout",
     "output_type": "stream",
     "text": [
      "{'val_loss': 2.112862829754992, 'val_accuracy': 0.640183346065699, 'precision': 0.6256241056103378, 'recall': 0.640183346065699, 'f1-score': 0.62057424927772, 'macro_f1-score': 0.38904300372408585, 'balanced_accuracy': 0.3655168207078963, 'mcc': 0.512593559206284, 'train_loss': 0.15814739725376456}\n",
      "Epoch 11/20\n"
     ]
    },
    {
     "name": "stderr",
     "output_type": "stream",
     "text": [
      "100%|██████████| 328/328 [00:27<00:00, 11.95it/s]\n"
     ]
    },
    {
     "name": "stdout",
     "output_type": "stream",
     "text": [
      "{'val_loss': 2.0216505004138483, 'val_accuracy': 0.6615737203972498, 'precision': 0.6409073441393851, 'recall': 0.6615737203972498, 'f1-score': 0.6373499876272175, 'macro_f1-score': 0.38923027182593395, 'balanced_accuracy': 0.3811924913714184, 'mcc': 0.5376991097396329, 'train_loss': 0.1276642361403125}\n",
      "Epoch 12/20\n"
     ]
    },
    {
     "name": "stderr",
     "output_type": "stream",
     "text": [
      "100%|██████████| 328/328 [00:27<00:00, 11.95it/s]\n"
     ]
    },
    {
     "name": "stdout",
     "output_type": "stream",
     "text": [
      "{'val_loss': 2.0466451964727264, 'val_accuracy': 0.6302521008403361, 'precision': 0.6367773975988444, 'recall': 0.6302521008403361, 'f1-score': 0.629091681989097, 'macro_f1-score': 0.3895099254271696, 'balanced_accuracy': 0.4015190152199844, 'mcc': 0.5214746708240449, 'train_loss': 0.12965947307118147}\n",
      "Epoch 13/20\n"
     ]
    },
    {
     "name": "stderr",
     "output_type": "stream",
     "text": [
      "100%|██████████| 328/328 [00:27<00:00, 11.92it/s]\n"
     ]
    },
    {
     "name": "stdout",
     "output_type": "stream",
     "text": [
      "{'val_loss': 2.087365876974129, 'val_accuracy': 0.666157372039725, 'precision': 0.6596140419275885, 'recall': 0.666157372039725, 'f1-score': 0.6483309330932252, 'macro_f1-score': 0.41392032668255313, 'balanced_accuracy': 0.3762235363460966, 'mcc': 0.5469416855099346, 'train_loss': 0.08978768504187805}\n",
      "Epoch 14/20\n"
     ]
    },
    {
     "name": "stderr",
     "output_type": "stream",
     "text": [
      "100%|██████████| 328/328 [00:27<00:00, 11.94it/s]\n"
     ]
    },
    {
     "name": "stdout",
     "output_type": "stream",
     "text": [
      "{'val_loss': 2.1073302699298395, 'val_accuracy': 0.6546982429335371, 'precision': 0.6428812306546584, 'recall': 0.6546982429335371, 'f1-score': 0.6375885642925798, 'macro_f1-score': 0.38880882653877064, 'balanced_accuracy': 0.37312573716123987, 'mcc': 0.5368526864225703, 'train_loss': 0.07157964858570046}\n",
      "Epoch 15/20\n"
     ]
    },
    {
     "name": "stderr",
     "output_type": "stream",
     "text": [
      "100%|██████████| 328/328 [00:27<00:00, 11.92it/s]\n"
     ]
    },
    {
     "name": "stdout",
     "output_type": "stream",
     "text": [
      "{'val_loss': 2.156511786507397, 'val_accuracy': 0.6409472880061116, 'precision': 0.6579168776623774, 'recall': 0.6409472880061116, 'f1-score': 0.6389824745809431, 'macro_f1-score': 0.41328991392091113, 'balanced_accuracy': 0.42746192192291926, 'mcc': 0.5369931960452398, 'train_loss': 0.07292821621820444}\n",
      "Epoch 16/20\n"
     ]
    },
    {
     "name": "stderr",
     "output_type": "stream",
     "text": [
      "100%|██████████| 328/328 [00:27<00:00, 11.94it/s]\n"
     ]
    },
    {
     "name": "stdout",
     "output_type": "stream",
     "text": [
      "{'val_loss': 2.133434946580631, 'val_accuracy': 0.6417112299465241, 'precision': 0.6442224249723695, 'recall': 0.6417112299465241, 'f1-score': 0.6320320743494537, 'macro_f1-score': 0.4066315953933897, 'balanced_accuracy': 0.4113314141064511, 'mcc': 0.5247500790415943, 'train_loss': 0.09540827921875639}\n",
      "Early stopping.\n",
      "\n",
      " === bert-base-uncased + plain + none Final 5-fold Cross-Validation Results ===\n",
      "val_loss: 1.9389\n",
      "val_accuracy: 0.6503\n",
      "precision: 0.6548\n",
      "recall: 0.6503\n",
      "f1-score: 0.6410\n",
      "macro_f1-score: 0.4037\n",
      "balanced_accuracy: 0.3881\n",
      "mcc: 0.5396\n",
      "train_loss: 0.1257\n",
      "total_seconds: 2109.0000\n",
      "total_time: 0 hrs 35 mins 9 secs\n",
      "▶ Running: bert-base-uncased + cnn + none\n",
      "tokenizer is bert-base-uncased\n",
      "Using device: cuda\n",
      "CUDA Available: True\n",
      "CUDA Device: NVIDIA GeForce RTX 5070 Ti\n",
      "Current GPU Memory Allocated: 0.02 GB\n",
      "Current GPU Memory Cached: 3.04 GB\n",
      "\n",
      "[Fold 1]\n",
      "Label distribution after resampling:\n",
      "  label 0: 2465\n",
      "  label 1: 22\n",
      "  label 2: 64\n",
      "  label 3: 24\n",
      "  label 4: 190\n",
      "  label 5: 112\n",
      "  label 6: 93\n",
      "  label 7: 30\n",
      "  label 8: 68\n",
      "  label 9: 30\n",
      "  label 10: 67\n",
      "  label 11: 169\n",
      "  label 12: 190\n",
      "  label 13: 28\n",
      "  label 14: 23\n",
      "  label 15: 25\n",
      "  label 16: 19\n",
      "  label 17: 181\n",
      "  label 18: 92\n",
      "  label 19: 44\n",
      "  label 20: 14\n",
      "  label 21: 35\n",
      "  label 22: 76\n",
      "  label 23: 157\n",
      "  label 24: 13\n",
      "  label 25: 44\n",
      "  label 26: 84\n",
      "  label 27: 47\n",
      "  label 28: 11\n",
      "  label 29: 13\n",
      "  label 30: 11\n",
      "  label 31: 76\n",
      "  label 32: 36\n",
      "  label 33: 32\n",
      "  label 34: 29\n",
      "  label 35: 11\n",
      "  label 36: 22\n",
      "  label 37: 16\n",
      "  label 38: 6\n",
      "  label 39: 32\n",
      "  label 40: 10\n",
      "  label 41: 9\n",
      "  label 42: 57\n",
      "  label 43: 6\n",
      "  label 44: 19\n",
      "  label 45: 8\n",
      "  label 46: 55\n",
      "  label 47: 241\n",
      "  label 48: 62\n",
      "  label 49: 68\n",
      "model is bert-base-uncased cnn\n",
      "Epoch 1/20\n"
     ]
    },
    {
     "name": "stderr",
     "output_type": "stream",
     "text": [
      "100%|██████████| 328/328 [00:28<00:00, 11.68it/s]\n"
     ]
    },
    {
     "name": "stdout",
     "output_type": "stream",
     "text": [
      "{'val_loss': 1.9806560535983342, 'val_accuracy': 0.5511450381679389, 'precision': 0.36450570640345964, 'recall': 0.5511450381679389, 'f1-score': 0.4180467177622405, 'macro_f1-score': 0.051324294716654346, 'balanced_accuracy': 0.06695567281915625, 'mcc': 0.3312361219523725, 'train_loss': 2.2584900452596384}\n",
      "Epoch 2/20\n"
     ]
    },
    {
     "name": "stderr",
     "output_type": "stream",
     "text": [
      "100%|██████████| 328/328 [00:28<00:00, 11.71it/s]\n"
     ]
    },
    {
     "name": "stdout",
     "output_type": "stream",
     "text": [
      "{'val_loss': 1.5934022301580848, 'val_accuracy': 0.6, 'precision': 0.48831784617963003, 'recall': 0.6, 'f1-score': 0.510376804020557, 'macro_f1-score': 0.14382504611909686, 'balanced_accuracy': 0.14450534915796248, 'mcc': 0.42362800611201923, 'train_loss': 1.6712418096821482}\n",
      "Epoch 3/20\n"
     ]
    },
    {
     "name": "stderr",
     "output_type": "stream",
     "text": [
      "100%|██████████| 328/328 [00:27<00:00, 11.74it/s]\n"
     ]
    },
    {
     "name": "stdout",
     "output_type": "stream",
     "text": [
      "{'val_loss': 1.5605894236302957, 'val_accuracy': 0.6145038167938931, 'precision': 0.5675628861675973, 'recall': 0.6145038167938931, 'f1-score': 0.5727783854746062, 'macro_f1-score': 0.23424948670722567, 'balanced_accuracy': 0.22081551886312564, 'mcc': 0.4656367710598067, 'train_loss': 1.2193569952122323}\n",
      "Epoch 4/20\n"
     ]
    },
    {
     "name": "stderr",
     "output_type": "stream",
     "text": [
      "100%|██████████| 328/328 [00:27<00:00, 11.75it/s]\n"
     ]
    },
    {
     "name": "stdout",
     "output_type": "stream",
     "text": [
      "{'val_loss': 1.5023017522038482, 'val_accuracy': 0.650381679389313, 'precision': 0.5942550113474728, 'recall': 0.650381679389313, 'f1-score': 0.6092172682676498, 'macro_f1-score': 0.2831191450080002, 'balanced_accuracy': 0.27228046459305033, 'mcc': 0.5176057229478912, 'train_loss': 0.9080081759247838}\n",
      "Epoch 5/20\n"
     ]
    },
    {
     "name": "stderr",
     "output_type": "stream",
     "text": [
      "100%|██████████| 328/328 [00:28<00:00, 11.70it/s]\n"
     ]
    },
    {
     "name": "stdout",
     "output_type": "stream",
     "text": [
      "{'val_loss': 1.6163136124974344, 'val_accuracy': 0.6458015267175573, 'precision': 0.6058512575103902, 'recall': 0.6458015267175573, 'f1-score': 0.6148962695434582, 'macro_f1-score': 0.31364125033676676, 'balanced_accuracy': 0.300706458042478, 'mcc': 0.5168323308761077, 'train_loss': 0.6208144710058483}\n",
      "Epoch 6/20\n"
     ]
    },
    {
     "name": "stderr",
     "output_type": "stream",
     "text": [
      "100%|██████████| 328/328 [00:27<00:00, 11.74it/s]\n"
     ]
    },
    {
     "name": "stdout",
     "output_type": "stream",
     "text": [
      "{'val_loss': 1.7200807869070913, 'val_accuracy': 0.6534351145038167, 'precision': 0.6099105462905048, 'recall': 0.6534351145038167, 'f1-score': 0.615156254022448, 'macro_f1-score': 0.30901272258354856, 'balanced_accuracy': 0.29344105656353575, 'mcc': 0.5232164620938021, 'train_loss': 0.4316302245687239}\n",
      "Epoch 7/20\n"
     ]
    },
    {
     "name": "stderr",
     "output_type": "stream",
     "text": [
      "100%|██████████| 328/328 [00:27<00:00, 11.74it/s]\n"
     ]
    },
    {
     "name": "stdout",
     "output_type": "stream",
     "text": [
      "{'val_loss': 1.7314924652256616, 'val_accuracy': 0.6389312977099236, 'precision': 0.6319614312837486, 'recall': 0.6389312977099236, 'f1-score': 0.6234757350377477, 'macro_f1-score': 0.3472924515055128, 'balanced_accuracy': 0.34176019305720956, 'mcc': 0.5175764955915905, 'train_loss': 0.29575696904439386}\n",
      "Epoch 8/20\n"
     ]
    },
    {
     "name": "stderr",
     "output_type": "stream",
     "text": [
      "100%|██████████| 328/328 [00:27<00:00, 11.73it/s]\n"
     ]
    },
    {
     "name": "stdout",
     "output_type": "stream",
     "text": [
      "{'val_loss': 1.8598749179665635, 'val_accuracy': 0.6404580152671756, 'precision': 0.6199578696332925, 'recall': 0.6404580152671756, 'f1-score': 0.6164027698015517, 'macro_f1-score': 0.3352609645114369, 'balanced_accuracy': 0.33937060635893196, 'mcc': 0.5186764097167789, 'train_loss': 0.22202828694873195}\n",
      "Epoch 9/20\n"
     ]
    },
    {
     "name": "stderr",
     "output_type": "stream",
     "text": [
      "100%|██████████| 328/328 [00:28<00:00, 11.69it/s]\n"
     ]
    },
    {
     "name": "stdout",
     "output_type": "stream",
     "text": [
      "{'val_loss': 1.8726795075870142, 'val_accuracy': 0.6389312977099236, 'precision': 0.6469564545191445, 'recall': 0.6389312977099236, 'f1-score': 0.6262826617261894, 'macro_f1-score': 0.39487527348710505, 'balanced_accuracy': 0.38752172681937863, 'mcc': 0.5163691488069383, 'train_loss': 0.21033200946716002}\n",
      "Epoch 10/20\n"
     ]
    },
    {
     "name": "stderr",
     "output_type": "stream",
     "text": [
      "100%|██████████| 328/328 [00:27<00:00, 11.74it/s]\n"
     ]
    },
    {
     "name": "stdout",
     "output_type": "stream",
     "text": [
      "{'val_loss': 1.9980591953527638, 'val_accuracy': 0.6412213740458015, 'precision': 0.6399959484743007, 'recall': 0.6412213740458015, 'f1-score': 0.6323928358922242, 'macro_f1-score': 0.36871934027281567, 'balanced_accuracy': 0.3542769475964326, 'mcc': 0.5217785609602265, 'train_loss': 0.1648967030171373}\n",
      "Epoch 11/20\n"
     ]
    },
    {
     "name": "stderr",
     "output_type": "stream",
     "text": [
      "100%|██████████| 328/328 [00:28<00:00, 11.70it/s]\n"
     ]
    },
    {
     "name": "stdout",
     "output_type": "stream",
     "text": [
      "{'val_loss': 1.9090192293430246, 'val_accuracy': 0.6549618320610687, 'precision': 0.6372513133978603, 'recall': 0.6549618320610687, 'f1-score': 0.6320453335236996, 'macro_f1-score': 0.364932919956694, 'balanced_accuracy': 0.3351563452112121, 'mcc': 0.5292099932341847, 'train_loss': 0.14978881822132348}\n",
      "Epoch 12/20\n"
     ]
    },
    {
     "name": "stderr",
     "output_type": "stream",
     "text": [
      "100%|██████████| 328/328 [00:27<00:00, 11.73it/s]\n"
     ]
    },
    {
     "name": "stdout",
     "output_type": "stream",
     "text": [
      "{'val_loss': 1.9662712488959475, 'val_accuracy': 0.6610687022900763, 'precision': 0.6539362143742858, 'recall': 0.6610687022900763, 'f1-score': 0.6470613056914994, 'macro_f1-score': 0.38663534284946766, 'balanced_accuracy': 0.3783841493706508, 'mcc': 0.545909611076086, 'train_loss': 0.11711089538052542}\n",
      "Early stopping.\n",
      "\n",
      "[Fold 2]\n",
      "Label distribution after resampling:\n",
      "  label 0: 2465\n",
      "  label 1: 22\n",
      "  label 2: 64\n",
      "  label 3: 24\n",
      "  label 4: 190\n",
      "  label 5: 113\n",
      "  label 6: 93\n",
      "  label 7: 31\n",
      "  label 8: 68\n",
      "  label 9: 29\n",
      "  label 10: 67\n",
      "  label 11: 169\n",
      "  label 12: 190\n",
      "  label 13: 29\n",
      "  label 14: 22\n",
      "  label 15: 25\n",
      "  label 16: 19\n",
      "  label 17: 181\n",
      "  label 18: 92\n",
      "  label 19: 44\n",
      "  label 20: 13\n",
      "  label 21: 35\n",
      "  label 22: 76\n",
      "  label 23: 158\n",
      "  label 24: 13\n",
      "  label 25: 44\n",
      "  label 26: 84\n",
      "  label 27: 47\n",
      "  label 28: 12\n",
      "  label 29: 12\n",
      "  label 30: 12\n",
      "  label 31: 75\n",
      "  label 32: 36\n",
      "  label 33: 31\n",
      "  label 34: 29\n",
      "  label 35: 12\n",
      "  label 36: 21\n",
      "  label 37: 16\n",
      "  label 38: 6\n",
      "  label 39: 33\n",
      "  label 40: 11\n",
      "  label 41: 8\n",
      "  label 42: 56\n",
      "  label 43: 6\n",
      "  label 44: 19\n",
      "  label 45: 9\n",
      "  label 46: 55\n",
      "  label 47: 241\n",
      "  label 48: 62\n",
      "  label 49: 68\n",
      "model is bert-base-uncased cnn\n",
      "Epoch 1/20\n"
     ]
    },
    {
     "name": "stderr",
     "output_type": "stream",
     "text": [
      "100%|██████████| 328/328 [00:28<00:00, 11.70it/s]\n"
     ]
    },
    {
     "name": "stdout",
     "output_type": "stream",
     "text": [
      "{'val_loss': 1.821846711926344, 'val_accuracy': 0.5569136745607334, 'precision': 0.4129217177668995, 'recall': 0.5569136745607334, 'f1-score': 0.4413828973773123, 'macro_f1-score': 0.07059213091296429, 'balanced_accuracy': 0.0867323492852277, 'mcc': 0.3487806594054613, 'train_loss': 2.191129148006439}\n",
      "Epoch 2/20\n"
     ]
    },
    {
     "name": "stderr",
     "output_type": "stream",
     "text": [
      "100%|██████████| 328/328 [00:27<00:00, 11.72it/s]\n"
     ]
    },
    {
     "name": "stdout",
     "output_type": "stream",
     "text": [
      "{'val_loss': 1.5133810508541945, 'val_accuracy': 0.612681436210848, 'precision': 0.5549623462559066, 'recall': 0.612681436210848, 'f1-score': 0.5629905604143007, 'macro_f1-score': 0.18910115253972365, 'balanced_accuracy': 0.2006403733758445, 'mcc': 0.47686269124412956, 'train_loss': 1.6163716463417541}\n",
      "Epoch 3/20\n"
     ]
    },
    {
     "name": "stderr",
     "output_type": "stream",
     "text": [
      "100%|██████████| 328/328 [00:27<00:00, 11.74it/s]\n"
     ]
    },
    {
     "name": "stdout",
     "output_type": "stream",
     "text": [
      "{'val_loss': 1.5186020840958852, 'val_accuracy': 0.6256684491978609, 'precision': 0.5668193517289419, 'recall': 0.6256684491978609, 'f1-score': 0.5737991679814671, 'macro_f1-score': 0.2120197093902934, 'balanced_accuracy': 0.21113009161283597, 'mcc': 0.48280452707074173, 'train_loss': 1.2071993981556195}\n",
      "Epoch 4/20\n"
     ]
    },
    {
     "name": "stderr",
     "output_type": "stream",
     "text": [
      "100%|██████████| 328/328 [00:27<00:00, 11.72it/s]\n"
     ]
    },
    {
     "name": "stdout",
     "output_type": "stream",
     "text": [
      "{'val_loss': 1.3962263548519553, 'val_accuracy': 0.6417112299465241, 'precision': 0.6022290213447131, 'recall': 0.6417112299465241, 'f1-score': 0.6122650290027329, 'macro_f1-score': 0.2674892339704785, 'balanced_accuracy': 0.2734793782153923, 'mcc': 0.5189144424960018, 'train_loss': 0.8918506477209853}\n",
      "Epoch 5/20\n"
     ]
    },
    {
     "name": "stderr",
     "output_type": "stream",
     "text": [
      "100%|██████████| 328/328 [00:27<00:00, 11.72it/s]\n"
     ]
    },
    {
     "name": "stdout",
     "output_type": "stream",
     "text": [
      "{'val_loss': 1.5931937745431575, 'val_accuracy': 0.6348357524828113, 'precision': 0.6254410031566577, 'recall': 0.6348357524828113, 'f1-score': 0.6174796768920393, 'macro_f1-score': 0.31695423515408333, 'balanced_accuracy': 0.31703337806965404, 'mcc': 0.5136420979010974, 'train_loss': 0.6029188610704207}\n",
      "Epoch 6/20\n"
     ]
    },
    {
     "name": "stderr",
     "output_type": "stream",
     "text": [
      "100%|██████████| 328/328 [00:27<00:00, 11.74it/s]\n"
     ]
    },
    {
     "name": "stdout",
     "output_type": "stream",
     "text": [
      "{'val_loss': 1.4985763834017078, 'val_accuracy': 0.6516424751718869, 'precision': 0.656824981940378, 'recall': 0.6516424751718869, 'f1-score': 0.6464979537683007, 'macro_f1-score': 0.3454885822920029, 'balanced_accuracy': 0.3508112770048622, 'mcc': 0.5478472933093983, 'train_loss': 0.41775213359718827}\n",
      "Epoch 7/20\n"
     ]
    },
    {
     "name": "stderr",
     "output_type": "stream",
     "text": [
      "100%|██████████| 328/328 [00:27<00:00, 11.74it/s]\n"
     ]
    },
    {
     "name": "stdout",
     "output_type": "stream",
     "text": [
      "{'val_loss': 1.6200464553222425, 'val_accuracy': 0.6363636363636364, 'precision': 0.6478633576720818, 'recall': 0.6363636363636364, 'f1-score': 0.631108383556272, 'macro_f1-score': 0.3734267200063755, 'balanced_accuracy': 0.38382673526328737, 'mcc': 0.5230715024201246, 'train_loss': 0.3030942678905842}\n",
      "Epoch 8/20\n"
     ]
    },
    {
     "name": "stderr",
     "output_type": "stream",
     "text": [
      "100%|██████████| 328/328 [00:28<00:00, 11.71it/s]\n"
     ]
    },
    {
     "name": "stdout",
     "output_type": "stream",
     "text": [
      "{'val_loss': 1.7608860384036855, 'val_accuracy': 0.6600458365164248, 'precision': 0.6534494843651674, 'recall': 0.6600458365164248, 'f1-score': 0.6483430318891138, 'macro_f1-score': 0.3775746538546932, 'balanced_accuracy': 0.3619728386258841, 'mcc': 0.5472245632346425, 'train_loss': 0.195370789367433}\n",
      "Epoch 9/20\n"
     ]
    },
    {
     "name": "stderr",
     "output_type": "stream",
     "text": [
      "100%|██████████| 328/328 [00:27<00:00, 11.72it/s]\n"
     ]
    },
    {
     "name": "stdout",
     "output_type": "stream",
     "text": [
      "{'val_loss': 1.8392072846976721, 'val_accuracy': 0.666157372039725, 'precision': 0.6446675238336912, 'recall': 0.666157372039725, 'f1-score': 0.6487411512031082, 'macro_f1-score': 0.37667225270817317, 'balanced_accuracy': 0.3530005834574678, 'mcc': 0.550717368762602, 'train_loss': 0.1389672660628027}\n",
      "Epoch 10/20\n"
     ]
    },
    {
     "name": "stderr",
     "output_type": "stream",
     "text": [
      "100%|██████████| 328/328 [00:28<00:00, 11.71it/s]\n"
     ]
    },
    {
     "name": "stdout",
     "output_type": "stream",
     "text": [
      "{'val_loss': 1.884032517671585, 'val_accuracy': 0.6592818945760123, 'precision': 0.6557451892155112, 'recall': 0.6592818945760123, 'f1-score': 0.6482038730668482, 'macro_f1-score': 0.38234506268139795, 'balanced_accuracy': 0.38348006213223124, 'mcc': 0.5498222416558312, 'train_loss': 0.13489988788241158}\n",
      "Epoch 11/20\n"
     ]
    },
    {
     "name": "stderr",
     "output_type": "stream",
     "text": [
      "100%|██████████| 328/328 [00:27<00:00, 11.72it/s]\n"
     ]
    },
    {
     "name": "stdout",
     "output_type": "stream",
     "text": [
      "{'val_loss': 2.0137358086138235, 'val_accuracy': 0.6455309396485867, 'precision': 0.6410421299534631, 'recall': 0.6455309396485867, 'f1-score': 0.6366502363384672, 'macro_f1-score': 0.3886800029779797, 'balanced_accuracy': 0.38190463493344246, 'mcc': 0.5272363874890348, 'train_loss': 0.12770584969009022}\n",
      "Epoch 12/20\n"
     ]
    },
    {
     "name": "stderr",
     "output_type": "stream",
     "text": [
      "100%|██████████| 328/328 [00:28<00:00, 11.71it/s]\n"
     ]
    },
    {
     "name": "stdout",
     "output_type": "stream",
     "text": [
      "{'val_loss': 2.36181426811509, 'val_accuracy': 0.6676852559205501, 'precision': 0.6341969482683427, 'recall': 0.6676852559205501, 'f1-score': 0.6318209624400786, 'macro_f1-score': 0.3618072991222685, 'balanced_accuracy': 0.33873001876510606, 'mcc': 0.539623203973131, 'train_loss': 0.09674306758474481}\n",
      "Epoch 13/20\n"
     ]
    },
    {
     "name": "stderr",
     "output_type": "stream",
     "text": [
      "100%|██████████| 328/328 [00:28<00:00, 11.70it/s]\n"
     ]
    },
    {
     "name": "stdout",
     "output_type": "stream",
     "text": [
      "{'val_loss': 2.0748671209666787, 'val_accuracy': 0.6302521008403361, 'precision': 0.6526241418166445, 'recall': 0.6302521008403361, 'f1-score': 0.6286828221518784, 'macro_f1-score': 0.34018658707537497, 'balanced_accuracy': 0.34761009514558916, 'mcc': 0.5136242740257602, 'train_loss': 0.10823533148930703}\n",
      "Epoch 14/20\n"
     ]
    },
    {
     "name": "stderr",
     "output_type": "stream",
     "text": [
      "100%|██████████| 328/328 [00:27<00:00, 11.73it/s]\n"
     ]
    },
    {
     "name": "stdout",
     "output_type": "stream",
     "text": [
      "{'val_loss': 2.0467742759643532, 'val_accuracy': 0.6592818945760123, 'precision': 0.6611593536249645, 'recall': 0.6592818945760123, 'f1-score': 0.6523434486840654, 'macro_f1-score': 0.40328923333790845, 'balanced_accuracy': 0.39616128672172013, 'mcc': 0.5488294199646823, 'train_loss': 0.09801655020011112}\n",
      "Epoch 15/20\n"
     ]
    },
    {
     "name": "stderr",
     "output_type": "stream",
     "text": [
      "100%|██████████| 328/328 [00:27<00:00, 11.74it/s]\n"
     ]
    },
    {
     "name": "stdout",
     "output_type": "stream",
     "text": [
      "{'val_loss': 2.2084856565769124, 'val_accuracy': 0.6653934300993124, 'precision': 0.6393705694229134, 'recall': 0.6653934300993124, 'f1-score': 0.6389610606536712, 'macro_f1-score': 0.3427407598575178, 'balanced_accuracy': 0.3225444202152633, 'mcc': 0.5415010428006015, 'train_loss': 0.06765669686528115}\n",
      "Epoch 16/20\n"
     ]
    },
    {
     "name": "stderr",
     "output_type": "stream",
     "text": [
      "100%|██████████| 328/328 [00:28<00:00, 11.70it/s]\n"
     ]
    },
    {
     "name": "stdout",
     "output_type": "stream",
     "text": [
      "{'val_loss': 2.108372493033729, 'val_accuracy': 0.6317799847211611, 'precision': 0.650865702007425, 'recall': 0.6317799847211611, 'f1-score': 0.6294803338413449, 'macro_f1-score': 0.35311539426616506, 'balanced_accuracy': 0.3704986083084883, 'mcc': 0.519425382034711, 'train_loss': 0.08268216019602799}\n",
      "Epoch 17/20\n"
     ]
    },
    {
     "name": "stderr",
     "output_type": "stream",
     "text": [
      "100%|██████████| 328/328 [00:27<00:00, 11.73it/s]\n"
     ]
    },
    {
     "name": "stdout",
     "output_type": "stream",
     "text": [
      "{'val_loss': 2.0602736424018695, 'val_accuracy': 0.6371275783040489, 'precision': 0.6508537830833793, 'recall': 0.6371275783040489, 'f1-score': 0.6342198863844645, 'macro_f1-score': 0.3780919296378928, 'balanced_accuracy': 0.3957275206183957, 'mcc': 0.5302845749289664, 'train_loss': 0.10176365206865651}\n",
      "Early stopping.\n",
      "\n",
      "[Fold 3]\n",
      "Label distribution after resampling:\n",
      "  label 0: 2466\n",
      "  label 1: 21\n",
      "  label 2: 64\n",
      "  label 3: 24\n",
      "  label 4: 191\n",
      "  label 5: 113\n",
      "  label 6: 92\n",
      "  label 7: 31\n",
      "  label 8: 68\n",
      "  label 9: 29\n",
      "  label 10: 68\n",
      "  label 11: 168\n",
      "  label 12: 190\n",
      "  label 13: 29\n",
      "  label 14: 22\n",
      "  label 15: 25\n",
      "  label 16: 19\n",
      "  label 17: 181\n",
      "  label 18: 92\n",
      "  label 19: 44\n",
      "  label 20: 13\n",
      "  label 21: 36\n",
      "  label 22: 76\n",
      "  label 23: 158\n",
      "  label 24: 12\n",
      "  label 25: 44\n",
      "  label 26: 84\n",
      "  label 27: 48\n",
      "  label 28: 11\n",
      "  label 29: 13\n",
      "  label 30: 11\n",
      "  label 31: 75\n",
      "  label 32: 36\n",
      "  label 33: 31\n",
      "  label 34: 30\n",
      "  label 35: 11\n",
      "  label 36: 21\n",
      "  label 37: 16\n",
      "  label 38: 5\n",
      "  label 39: 33\n",
      "  label 40: 11\n",
      "  label 41: 9\n",
      "  label 42: 57\n",
      "  label 43: 7\n",
      "  label 44: 18\n",
      "  label 45: 9\n",
      "  label 46: 54\n",
      "  label 47: 242\n",
      "  label 48: 61\n",
      "  label 49: 68\n",
      "model is bert-base-uncased cnn\n",
      "Epoch 1/20\n"
     ]
    },
    {
     "name": "stderr",
     "output_type": "stream",
     "text": [
      "100%|██████████| 328/328 [00:27<00:00, 11.74it/s]\n"
     ]
    },
    {
     "name": "stdout",
     "output_type": "stream",
     "text": [
      "{'val_loss': 1.8327726685419314, 'val_accuracy': 0.5645530939648586, 'precision': 0.4127284146166219, 'recall': 0.5645530939648586, 'f1-score': 0.4482274347479685, 'macro_f1-score': 0.0735222283350653, 'balanced_accuracy': 0.09192186955717709, 'mcc': 0.36402216319396136, 'train_loss': 2.208073522986435}\n",
      "Epoch 2/20\n"
     ]
    },
    {
     "name": "stderr",
     "output_type": "stream",
     "text": [
      "100%|██████████| 328/328 [00:27<00:00, 11.74it/s]\n"
     ]
    },
    {
     "name": "stdout",
     "output_type": "stream",
     "text": [
      "{'val_loss': 1.6229543024446906, 'val_accuracy': 0.5951107715813598, 'precision': 0.5144756185753697, 'recall': 0.5951107715813598, 'f1-score': 0.5413272577355366, 'macro_f1-score': 0.17216535749008163, 'balanced_accuracy': 0.20030484857324654, 'mcc': 0.4578933325766207, 'train_loss': 1.6450112298494433}\n",
      "Epoch 3/20\n"
     ]
    },
    {
     "name": "stderr",
     "output_type": "stream",
     "text": [
      "100%|██████████| 328/328 [00:28<00:00, 11.69it/s]\n"
     ]
    },
    {
     "name": "stdout",
     "output_type": "stream",
     "text": [
      "{'val_loss': 1.5213904082775116, 'val_accuracy': 0.6218487394957983, 'precision': 0.5522312722412877, 'recall': 0.6218487394957983, 'f1-score': 0.5579141951481001, 'macro_f1-score': 0.20171021043783757, 'balanced_accuracy': 0.2086416738314373, 'mcc': 0.4727620799429359, 'train_loss': 1.241519289409242}\n",
      "Epoch 4/20\n"
     ]
    },
    {
     "name": "stderr",
     "output_type": "stream",
     "text": [
      "100%|██████████| 328/328 [00:27<00:00, 11.74it/s]\n"
     ]
    },
    {
     "name": "stdout",
     "output_type": "stream",
     "text": [
      "{'val_loss': 1.4689873624138716, 'val_accuracy': 0.6539343009931246, 'precision': 0.6038488160047577, 'recall': 0.6539343009931246, 'f1-score': 0.6095026289392904, 'macro_f1-score': 0.27844986730412524, 'balanced_accuracy': 0.26917174542597855, 'mcc': 0.5188314032589709, 'train_loss': 0.9264978993138889}\n",
      "Epoch 5/20\n"
     ]
    },
    {
     "name": "stderr",
     "output_type": "stream",
     "text": [
      "100%|██████████| 328/328 [00:28<00:00, 11.69it/s]\n"
     ]
    },
    {
     "name": "stdout",
     "output_type": "stream",
     "text": [
      "{'val_loss': 1.5097399542971355, 'val_accuracy': 0.6378915202444614, 'precision': 0.626034088901137, 'recall': 0.6378915202444614, 'f1-score': 0.6185494185223627, 'macro_f1-score': 0.31013632250502854, 'balanced_accuracy': 0.321724105084602, 'mcc': 0.5207801457838798, 'train_loss': 0.6593334629631987}\n",
      "Epoch 6/20\n"
     ]
    },
    {
     "name": "stderr",
     "output_type": "stream",
     "text": [
      "100%|██████████| 328/328 [00:27<00:00, 11.73it/s]\n"
     ]
    },
    {
     "name": "stdout",
     "output_type": "stream",
     "text": [
      "{'val_loss': 1.5563607012353293, 'val_accuracy': 0.6753246753246753, 'precision': 0.6551338398499899, 'recall': 0.6753246753246753, 'f1-score': 0.6480339263697315, 'macro_f1-score': 0.36461600897259666, 'balanced_accuracy': 0.3524528949034908, 'mcc': 0.5558976788512322, 'train_loss': 0.4615430336604576}\n",
      "Epoch 7/20\n"
     ]
    },
    {
     "name": "stderr",
     "output_type": "stream",
     "text": [
      "100%|██████████| 328/328 [00:28<00:00, 11.70it/s]\n"
     ]
    },
    {
     "name": "stdout",
     "output_type": "stream",
     "text": [
      "{'val_loss': 1.5716135407366403, 'val_accuracy': 0.6638655462184874, 'precision': 0.6630058735389098, 'recall': 0.6638655462184874, 'f1-score': 0.653284664771768, 'macro_f1-score': 0.4122691330454991, 'balanced_accuracy': 0.40268814066197123, 'mcc': 0.5545287042820428, 'train_loss': 0.3221103130589898}\n",
      "Epoch 8/20\n"
     ]
    },
    {
     "name": "stderr",
     "output_type": "stream",
     "text": [
      "100%|██████████| 328/328 [00:27<00:00, 11.72it/s]\n"
     ]
    },
    {
     "name": "stdout",
     "output_type": "stream",
     "text": [
      "{'val_loss': 1.6559429492165403, 'val_accuracy': 0.6676852559205501, 'precision': 0.6612545440006321, 'recall': 0.6676852559205501, 'f1-score': 0.647546680020821, 'macro_f1-score': 0.38781202885068433, 'balanced_accuracy': 0.3688881471540344, 'mcc': 0.5479810429116799, 'train_loss': 0.2350418988711814}\n",
      "Epoch 9/20\n"
     ]
    },
    {
     "name": "stderr",
     "output_type": "stream",
     "text": [
      "100%|██████████| 328/328 [00:27<00:00, 11.75it/s]\n"
     ]
    },
    {
     "name": "stdout",
     "output_type": "stream",
     "text": [
      "{'val_loss': 1.7304860135404074, 'val_accuracy': 0.6669213139801375, 'precision': 0.6537696092253461, 'recall': 0.6669213139801375, 'f1-score': 0.646160276200036, 'macro_f1-score': 0.38337954125299134, 'balanced_accuracy': 0.38687097071338933, 'mcc': 0.5536664106369011, 'train_loss': 0.19423221527860024}\n",
      "Epoch 10/20\n"
     ]
    },
    {
     "name": "stderr",
     "output_type": "stream",
     "text": [
      "100%|██████████| 328/328 [00:27<00:00, 11.73it/s]\n"
     ]
    },
    {
     "name": "stdout",
     "output_type": "stream",
     "text": [
      "{'val_loss': 1.7757489699416045, 'val_accuracy': 0.6676852559205501, 'precision': 0.6534286141605142, 'recall': 0.6676852559205501, 'f1-score': 0.6523071336730176, 'macro_f1-score': 0.39745355940421184, 'balanced_accuracy': 0.3985942707719525, 'mcc': 0.5559292065906978, 'train_loss': 0.1480020584081436}\n",
      "Early stopping.\n",
      "\n",
      "[Fold 4]\n",
      "Label distribution after resampling:\n",
      "  label 0: 2466\n",
      "  label 1: 21\n",
      "  label 2: 64\n",
      "  label 3: 24\n",
      "  label 4: 191\n",
      "  label 5: 113\n",
      "  label 6: 93\n",
      "  label 7: 30\n",
      "  label 8: 68\n",
      "  label 9: 30\n",
      "  label 10: 67\n",
      "  label 11: 169\n",
      "  label 12: 189\n",
      "  label 13: 29\n",
      "  label 14: 22\n",
      "  label 15: 25\n",
      "  label 16: 19\n",
      "  label 17: 181\n",
      "  label 18: 92\n",
      "  label 19: 44\n",
      "  label 20: 14\n",
      "  label 21: 35\n",
      "  label 22: 76\n",
      "  label 23: 158\n",
      "  label 24: 13\n",
      "  label 25: 44\n",
      "  label 26: 84\n",
      "  label 27: 47\n",
      "  label 28: 11\n",
      "  label 29: 13\n",
      "  label 30: 11\n",
      "  label 31: 75\n",
      "  label 32: 36\n",
      "  label 33: 31\n",
      "  label 34: 30\n",
      "  label 35: 11\n",
      "  label 36: 22\n",
      "  label 37: 16\n",
      "  label 38: 5\n",
      "  label 39: 33\n",
      "  label 40: 10\n",
      "  label 41: 9\n",
      "  label 42: 57\n",
      "  label 43: 7\n",
      "  label 44: 18\n",
      "  label 45: 9\n",
      "  label 46: 54\n",
      "  label 47: 242\n",
      "  label 48: 61\n",
      "  label 49: 68\n",
      "model is bert-base-uncased cnn\n",
      "Epoch 1/20\n"
     ]
    },
    {
     "name": "stderr",
     "output_type": "stream",
     "text": [
      "100%|██████████| 328/328 [00:28<00:00, 11.71it/s]\n"
     ]
    },
    {
     "name": "stdout",
     "output_type": "stream",
     "text": [
      "{'val_loss': 1.8204596856745279, 'val_accuracy': 0.5523300229182582, 'precision': 0.4349398679921435, 'recall': 0.5523300229182582, 'f1-score': 0.45657812356515004, 'macro_f1-score': 0.0728019071299219, 'balanced_accuracy': 0.0931141474672927, 'mcc': 0.35334025354048654, 'train_loss': 2.189507493158666}\n",
      "Epoch 2/20\n"
     ]
    },
    {
     "name": "stderr",
     "output_type": "stream",
     "text": [
      "100%|██████████| 328/328 [00:27<00:00, 11.74it/s]\n"
     ]
    },
    {
     "name": "stdout",
     "output_type": "stream",
     "text": [
      "{'val_loss': 1.5299042245236838, 'val_accuracy': 0.6111535523300229, 'precision': 0.5204545874276348, 'recall': 0.6111535523300229, 'f1-score': 0.5531688960722019, 'macro_f1-score': 0.19188608609662394, 'balanced_accuracy': 0.20135920508159189, 'mcc': 0.4643299123662047, 'train_loss': 1.6009146970946615}\n",
      "Epoch 3/20\n"
     ]
    },
    {
     "name": "stderr",
     "output_type": "stream",
     "text": [
      "100%|██████████| 328/328 [00:27<00:00, 11.74it/s]\n"
     ]
    },
    {
     "name": "stdout",
     "output_type": "stream",
     "text": [
      "{'val_loss': 1.442152309345036, 'val_accuracy': 0.6249045072574484, 'precision': 0.5634477138232263, 'recall': 0.6249045072574484, 'f1-score': 0.5785133522475531, 'macro_f1-score': 0.23698297174080526, 'balanced_accuracy': 0.2397497905645927, 'mcc': 0.4876825938303012, 'train_loss': 1.2038406762408047}\n",
      "Epoch 4/20\n"
     ]
    },
    {
     "name": "stderr",
     "output_type": "stream",
     "text": [
      "100%|██████████| 328/328 [00:28<00:00, 11.71it/s]\n"
     ]
    },
    {
     "name": "stdout",
     "output_type": "stream",
     "text": [
      "{'val_loss': 1.4135628040970825, 'val_accuracy': 0.6218487394957983, 'precision': 0.5935543511499303, 'recall': 0.6218487394957983, 'f1-score': 0.5906433765150093, 'macro_f1-score': 0.26030612153482463, 'balanced_accuracy': 0.26506461281840044, 'mcc': 0.49658945188561954, 'train_loss': 0.8887891317831307}\n",
      "Epoch 5/20\n"
     ]
    },
    {
     "name": "stderr",
     "output_type": "stream",
     "text": [
      "100%|██████████| 328/328 [00:28<00:00, 11.71it/s]\n"
     ]
    },
    {
     "name": "stdout",
     "output_type": "stream",
     "text": [
      "{'val_loss': 1.5634275484921, 'val_accuracy': 0.6226126814362108, 'precision': 0.6376097156839812, 'recall': 0.6226126814362108, 'f1-score': 0.6180724925742253, 'macro_f1-score': 0.3351611718851467, 'balanced_accuracy': 0.3431005413788863, 'mcc': 0.5174537593302705, 'train_loss': 0.6395289045190666}\n",
      "Epoch 6/20\n"
     ]
    },
    {
     "name": "stderr",
     "output_type": "stream",
     "text": [
      "100%|██████████| 328/328 [00:27<00:00, 11.72it/s]\n"
     ]
    },
    {
     "name": "stdout",
     "output_type": "stream",
     "text": [
      "{'val_loss': 1.6068278383463621, 'val_accuracy': 0.6226126814362108, 'precision': 0.6136270210773592, 'recall': 0.6226126814362108, 'f1-score': 0.6103872065192139, 'macro_f1-score': 0.3113070707262041, 'balanced_accuracy': 0.315534805254482, 'mcc': 0.5039534180737799, 'train_loss': 0.4437312550115876}\n",
      "Epoch 7/20\n"
     ]
    },
    {
     "name": "stderr",
     "output_type": "stream",
     "text": [
      "100%|██████████| 328/328 [00:27<00:00, 11.72it/s]\n"
     ]
    },
    {
     "name": "stdout",
     "output_type": "stream",
     "text": [
      "{'val_loss': 1.6610459052934878, 'val_accuracy': 0.6302521008403361, 'precision': 0.6360157138057684, 'recall': 0.6302521008403361, 'f1-score': 0.619333513394477, 'macro_f1-score': 0.36897699905747294, 'balanced_accuracy': 0.3483346365063092, 'mcc': 0.5058945553146946, 'train_loss': 0.31728236424941114}\n",
      "Epoch 8/20\n"
     ]
    },
    {
     "name": "stderr",
     "output_type": "stream",
     "text": [
      "100%|██████████| 328/328 [00:27<00:00, 11.72it/s]\n"
     ]
    },
    {
     "name": "stdout",
     "output_type": "stream",
     "text": [
      "{'val_loss': 1.8685618964273756, 'val_accuracy': 0.640183346065699, 'precision': 0.6236711538028304, 'recall': 0.640183346065699, 'f1-score': 0.6187821343510999, 'macro_f1-score': 0.33280191048011415, 'balanced_accuracy': 0.3227717293180279, 'mcc': 0.5130394205222658, 'train_loss': 0.2493141181539835}\n",
      "Epoch 9/20\n"
     ]
    },
    {
     "name": "stderr",
     "output_type": "stream",
     "text": [
      "100%|██████████| 328/328 [00:27<00:00, 11.72it/s]\n"
     ]
    },
    {
     "name": "stdout",
     "output_type": "stream",
     "text": [
      "{'val_loss': 1.8772166654831026, 'val_accuracy': 0.6417112299465241, 'precision': 0.6322669995096492, 'recall': 0.6417112299465241, 'f1-score': 0.6284407011387996, 'macro_f1-score': 0.3638368462108518, 'balanced_accuracy': 0.3452067182549428, 'mcc': 0.5225817169698916, 'train_loss': 0.18726429263436487}\n",
      "Epoch 10/20\n"
     ]
    },
    {
     "name": "stderr",
     "output_type": "stream",
     "text": [
      "100%|██████████| 328/328 [00:27<00:00, 11.73it/s]\n"
     ]
    },
    {
     "name": "stdout",
     "output_type": "stream",
     "text": [
      "{'val_loss': 1.905788259171858, 'val_accuracy': 0.627196333078686, 'precision': 0.6440702309187127, 'recall': 0.627196333078686, 'f1-score': 0.6295835636304381, 'macro_f1-score': 0.3937522900561966, 'balanced_accuracy': 0.39192077015921256, 'mcc': 0.5211585952287966, 'train_loss': 0.13880086947081996}\n",
      "Epoch 11/20\n"
     ]
    },
    {
     "name": "stderr",
     "output_type": "stream",
     "text": [
      "100%|██████████| 328/328 [00:27<00:00, 11.74it/s]\n"
     ]
    },
    {
     "name": "stdout",
     "output_type": "stream",
     "text": [
      "{'val_loss': 2.033684510465075, 'val_accuracy': 0.6264323911382735, 'precision': 0.650031446763147, 'recall': 0.6264323911382735, 'f1-score': 0.6168279180180045, 'macro_f1-score': 0.3587692707103533, 'balanced_accuracy': 0.3427004560750039, 'mcc': 0.5061392590814198, 'train_loss': 0.12097865164779671}\n",
      "Epoch 12/20\n"
     ]
    },
    {
     "name": "stderr",
     "output_type": "stream",
     "text": [
      "100%|██████████| 328/328 [00:28<00:00, 11.70it/s]\n"
     ]
    },
    {
     "name": "stdout",
     "output_type": "stream",
     "text": [
      "{'val_loss': 2.1543331749555543, 'val_accuracy': 0.6287242169595111, 'precision': 0.6543822007634078, 'recall': 0.6287242169595111, 'f1-score': 0.6314279206144552, 'macro_f1-score': 0.4053934376529151, 'balanced_accuracy': 0.3990464674985192, 'mcc': 0.5237775898673688, 'train_loss': 0.09091296387061182}\n",
      "Epoch 13/20\n"
     ]
    },
    {
     "name": "stderr",
     "output_type": "stream",
     "text": [
      "100%|██████████| 328/328 [00:27<00:00, 11.73it/s]\n"
     ]
    },
    {
     "name": "stdout",
     "output_type": "stream",
     "text": [
      "{'val_loss': 2.1457344529832283, 'val_accuracy': 0.612681436210848, 'precision': 0.6438538027647246, 'recall': 0.612681436210848, 'f1-score': 0.6173347799137514, 'macro_f1-score': 0.3828243822023, 'balanced_accuracy': 0.3936760214468956, 'mcc': 0.5070366937083624, 'train_loss': 0.07914561115609192}\n",
      "Epoch 14/20\n"
     ]
    },
    {
     "name": "stderr",
     "output_type": "stream",
     "text": [
      "100%|██████████| 328/328 [00:27<00:00, 11.74it/s]\n"
     ]
    },
    {
     "name": "stdout",
     "output_type": "stream",
     "text": [
      "{'val_loss': 2.216152665455167, 'val_accuracy': 0.6203208556149733, 'precision': 0.6446034895761952, 'recall': 0.6203208556149733, 'f1-score': 0.621610667102846, 'macro_f1-score': 0.37126989472969696, 'balanced_accuracy': 0.37441992447405104, 'mcc': 0.5069304056095308, 'train_loss': 0.11315968006859227}\n",
      "Epoch 15/20\n"
     ]
    },
    {
     "name": "stderr",
     "output_type": "stream",
     "text": [
      "100%|██████████| 328/328 [00:27<00:00, 11.74it/s]\n"
     ]
    },
    {
     "name": "stdout",
     "output_type": "stream",
     "text": [
      "{'val_loss': 2.173409775262926, 'val_accuracy': 0.6172650878533231, 'precision': 0.6254616092885761, 'recall': 0.6172650878533231, 'f1-score': 0.6083170983008636, 'macro_f1-score': 0.3397808900793381, 'balanced_accuracy': 0.3417098062305329, 'mcc': 0.5092816647989586, 'train_loss': 0.09188436242650978}\n",
      "Early stopping.\n",
      "\n",
      "[Fold 5]\n",
      "Label distribution after resampling:\n",
      "  label 0: 2466\n",
      "  label 1: 22\n",
      "  label 2: 64\n",
      "  label 3: 24\n",
      "  label 4: 190\n",
      "  label 5: 113\n",
      "  label 6: 93\n",
      "  label 7: 30\n",
      "  label 8: 68\n",
      "  label 9: 30\n",
      "  label 10: 67\n",
      "  label 11: 169\n",
      "  label 12: 189\n",
      "  label 13: 29\n",
      "  label 14: 23\n",
      "  label 15: 24\n",
      "  label 16: 20\n",
      "  label 17: 180\n",
      "  label 18: 92\n",
      "  label 19: 44\n",
      "  label 20: 14\n",
      "  label 21: 35\n",
      "  label 22: 76\n",
      "  label 23: 157\n",
      "  label 24: 13\n",
      "  label 25: 44\n",
      "  label 26: 84\n",
      "  label 27: 47\n",
      "  label 28: 11\n",
      "  label 29: 13\n",
      "  label 30: 11\n",
      "  label 31: 75\n",
      "  label 32: 36\n",
      "  label 33: 31\n",
      "  label 34: 30\n",
      "  label 35: 11\n",
      "  label 36: 22\n",
      "  label 37: 16\n",
      "  label 38: 6\n",
      "  label 39: 33\n",
      "  label 40: 10\n",
      "  label 41: 9\n",
      "  label 42: 57\n",
      "  label 43: 6\n",
      "  label 44: 18\n",
      "  label 45: 9\n",
      "  label 46: 54\n",
      "  label 47: 242\n",
      "  label 48: 62\n",
      "  label 49: 68\n",
      "model is bert-base-uncased cnn\n",
      "Epoch 1/20\n"
     ]
    },
    {
     "name": "stderr",
     "output_type": "stream",
     "text": [
      "100%|██████████| 328/328 [00:28<00:00, 11.69it/s]\n"
     ]
    },
    {
     "name": "stdout",
     "output_type": "stream",
     "text": [
      "{'val_loss': 1.904964944211448, 'val_accuracy': 0.5576776165011459, 'precision': 0.35648831728990554, 'recall': 0.5576776165011459, 'f1-score': 0.42961292164730147, 'macro_f1-score': 0.059705900330280136, 'balanced_accuracy': 0.07682486354225486, 'mcc': 0.3406909647107297, 'train_loss': 2.237467443252482}\n",
      "Epoch 2/20\n"
     ]
    },
    {
     "name": "stderr",
     "output_type": "stream",
     "text": [
      "100%|██████████| 328/328 [00:27<00:00, 11.74it/s]\n"
     ]
    },
    {
     "name": "stdout",
     "output_type": "stream",
     "text": [
      "{'val_loss': 1.623381684829549, 'val_accuracy': 0.6073338426279603, 'precision': 0.49462179916928783, 'recall': 0.6073338426279603, 'f1-score': 0.5153236776041091, 'macro_f1-score': 0.16437371320951058, 'balanced_accuracy': 0.16821242145703713, 'mcc': 0.4368313778822041, 'train_loss': 1.6722797591511795}\n",
      "Epoch 3/20\n"
     ]
    },
    {
     "name": "stderr",
     "output_type": "stream",
     "text": [
      "100%|██████████| 328/328 [00:28<00:00, 11.69it/s]\n"
     ]
    },
    {
     "name": "stdout",
     "output_type": "stream",
     "text": [
      "{'val_loss': 1.4815849774494403, 'val_accuracy': 0.6302521008403361, 'precision': 0.5776699249083087, 'recall': 0.6302521008403361, 'f1-score': 0.5857480902582947, 'macro_f1-score': 0.24094247273947597, 'balanced_accuracy': 0.2524264244079159, 'mcc': 0.4940473367137431, 'train_loss': 1.299982817798126}\n",
      "Epoch 4/20\n"
     ]
    },
    {
     "name": "stderr",
     "output_type": "stream",
     "text": [
      "100%|██████████| 328/328 [00:27<00:00, 11.74it/s]\n"
     ]
    },
    {
     "name": "stdout",
     "output_type": "stream",
     "text": [
      "{'val_loss': 1.4928758198895105, 'val_accuracy': 0.6287242169595111, 'precision': 0.5973187065988367, 'recall': 0.6287242169595111, 'f1-score': 0.59793227277635, 'macro_f1-score': 0.2812698158163141, 'balanced_accuracy': 0.2946485906893095, 'mcc': 0.5091780606990678, 'train_loss': 0.94471628804941}\n",
      "Epoch 5/20\n"
     ]
    },
    {
     "name": "stderr",
     "output_type": "stream",
     "text": [
      "100%|██████████| 328/328 [00:28<00:00, 11.70it/s]\n"
     ]
    },
    {
     "name": "stdout",
     "output_type": "stream",
     "text": [
      "{'val_loss': 1.491714199232619, 'val_accuracy': 0.6600458365164248, 'precision': 0.6243491378680128, 'recall': 0.6600458365164248, 'f1-score': 0.625674415762636, 'macro_f1-score': 0.32478473014837056, 'balanced_accuracy': 0.30511596276399744, 'mcc': 0.5351590816651945, 'train_loss': 0.6701812720743985}\n",
      "Epoch 6/20\n"
     ]
    },
    {
     "name": "stderr",
     "output_type": "stream",
     "text": [
      "100%|██████████| 328/328 [00:28<00:00, 11.70it/s]\n"
     ]
    },
    {
     "name": "stdout",
     "output_type": "stream",
     "text": [
      "{'val_loss': 1.6890355501233079, 'val_accuracy': 0.6264323911382735, 'precision': 0.618039240953686, 'recall': 0.6264323911382735, 'f1-score': 0.6061880251291194, 'macro_f1-score': 0.3201448367057853, 'balanced_accuracy': 0.3274393641237093, 'mcc': 0.4991264624630809, 'train_loss': 0.4756947814191623}\n",
      "Epoch 7/20\n"
     ]
    },
    {
     "name": "stderr",
     "output_type": "stream",
     "text": [
      "100%|██████████| 328/328 [00:27<00:00, 11.74it/s]\n"
     ]
    },
    {
     "name": "stdout",
     "output_type": "stream",
     "text": [
      "{'val_loss': 1.6785603123830586, 'val_accuracy': 0.653170359052712, 'precision': 0.643900991005199, 'recall': 0.653170359052712, 'f1-score': 0.6416859315367714, 'macro_f1-score': 0.3623909132823648, 'balanced_accuracy': 0.3618647418262777, 'mcc': 0.5409060767345616, 'train_loss': 0.3295019482057996}\n",
      "Epoch 8/20\n"
     ]
    },
    {
     "name": "stderr",
     "output_type": "stream",
     "text": [
      "100%|██████████| 328/328 [00:27<00:00, 11.73it/s]\n"
     ]
    },
    {
     "name": "stdout",
     "output_type": "stream",
     "text": [
      "{'val_loss': 1.8985323724223346, 'val_accuracy': 0.640183346065699, 'precision': 0.6429398765199932, 'recall': 0.640183346065699, 'f1-score': 0.6299562834090667, 'macro_f1-score': 0.36430548687914377, 'balanced_accuracy': 0.37458021943955444, 'mcc': 0.5262483351520959, 'train_loss': 0.2001794088893093}\n",
      "Epoch 9/20\n"
     ]
    },
    {
     "name": "stderr",
     "output_type": "stream",
     "text": [
      "100%|██████████| 328/328 [00:28<00:00, 11.70it/s]\n"
     ]
    },
    {
     "name": "stdout",
     "output_type": "stream",
     "text": [
      "{'val_loss': 1.9838090866077236, 'val_accuracy': 0.653170359052712, 'precision': 0.6321591490246632, 'recall': 0.653170359052712, 'f1-score': 0.623747811022896, 'macro_f1-score': 0.3758977595970445, 'balanced_accuracy': 0.35026415336955113, 'mcc': 0.5233474209193729, 'train_loss': 0.1921312075744315}\n",
      "Epoch 10/20\n"
     ]
    },
    {
     "name": "stderr",
     "output_type": "stream",
     "text": [
      "100%|██████████| 328/328 [00:27<00:00, 11.73it/s]\n"
     ]
    },
    {
     "name": "stdout",
     "output_type": "stream",
     "text": [
      "{'val_loss': 1.9416634215087425, 'val_accuracy': 0.6348357524828113, 'precision': 0.6356165440311173, 'recall': 0.6348357524828113, 'f1-score': 0.6265993682227944, 'macro_f1-score': 0.3847079416411126, 'balanced_accuracy': 0.39293818358769905, 'mcc': 0.5196827556640214, 'train_loss': 0.16533650395960162}\n",
      "Epoch 11/20\n"
     ]
    },
    {
     "name": "stderr",
     "output_type": "stream",
     "text": [
      "100%|██████████| 328/328 [00:27<00:00, 11.74it/s]\n"
     ]
    },
    {
     "name": "stdout",
     "output_type": "stream",
     "text": [
      "{'val_loss': 2.140935638692321, 'val_accuracy': 0.6302521008403361, 'precision': 0.635699640050252, 'recall': 0.6302521008403361, 'f1-score': 0.613053113103602, 'macro_f1-score': 0.3758810984462238, 'balanced_accuracy': 0.3718658625366795, 'mcc': 0.5014439009810637, 'train_loss': 0.10959455819811853}\n",
      "Epoch 12/20\n"
     ]
    },
    {
     "name": "stderr",
     "output_type": "stream",
     "text": [
      "100%|██████████| 328/328 [00:28<00:00, 11.71it/s]\n"
     ]
    },
    {
     "name": "stdout",
     "output_type": "stream",
     "text": [
      "{'val_loss': 2.2354342108819543, 'val_accuracy': 0.6447669977081741, 'precision': 0.6283222611395718, 'recall': 0.6447669977081741, 'f1-score': 0.6182762514638718, 'macro_f1-score': 0.36348348040963363, 'balanced_accuracy': 0.34062922074037294, 'mcc': 0.5127671295681397, 'train_loss': 0.09767191406096638}\n",
      "Epoch 13/20\n"
     ]
    },
    {
     "name": "stderr",
     "output_type": "stream",
     "text": [
      "100%|██████████| 328/328 [00:28<00:00, 11.70it/s]\n"
     ]
    },
    {
     "name": "stdout",
     "output_type": "stream",
     "text": [
      "{'val_loss': 2.239551297775129, 'val_accuracy': 0.640183346065699, 'precision': 0.6332418949538312, 'recall': 0.640183346065699, 'f1-score': 0.6300315400668597, 'macro_f1-score': 0.39572137602671653, 'balanced_accuracy': 0.3930911203743685, 'mcc': 0.5208598701972776, 'train_loss': 0.0833807837412545}\n",
      "Epoch 14/20\n"
     ]
    },
    {
     "name": "stderr",
     "output_type": "stream",
     "text": [
      "100%|██████████| 328/328 [00:27<00:00, 11.72it/s]\n"
     ]
    },
    {
     "name": "stdout",
     "output_type": "stream",
     "text": [
      "{'val_loss': 2.251855449705589, 'val_accuracy': 0.6501145912910619, 'precision': 0.6282146558937486, 'recall': 0.6501145912910619, 'f1-score': 0.6242562648057204, 'macro_f1-score': 0.3742092111845646, 'balanced_accuracy': 0.36083042936334087, 'mcc': 0.5217644730910201, 'train_loss': 0.09303938474317319}\n",
      "Epoch 15/20\n"
     ]
    },
    {
     "name": "stderr",
     "output_type": "stream",
     "text": [
      "100%|██████████| 328/328 [00:28<00:00, 11.71it/s]\n"
     ]
    },
    {
     "name": "stdout",
     "output_type": "stream",
     "text": [
      "{'val_loss': 2.278283015802139, 'val_accuracy': 0.6325439266615738, 'precision': 0.6331620397611348, 'recall': 0.6325439266615738, 'f1-score': 0.6170578186127557, 'macro_f1-score': 0.3722292808479469, 'balanced_accuracy': 0.36871830835517067, 'mcc': 0.5095382049160686, 'train_loss': 0.08770503082366592}\n",
      "Epoch 16/20\n"
     ]
    },
    {
     "name": "stderr",
     "output_type": "stream",
     "text": [
      "100%|██████████| 328/328 [00:27<00:00, 11.72it/s]\n"
     ]
    },
    {
     "name": "stdout",
     "output_type": "stream",
     "text": [
      "{'val_loss': 2.1007740541656568, 'val_accuracy': 0.6371275783040489, 'precision': 0.6477901052019172, 'recall': 0.6371275783040489, 'f1-score': 0.6283488330963907, 'macro_f1-score': 0.40254870477195764, 'balanced_accuracy': 0.39563286714033785, 'mcc': 0.5211337758828811, 'train_loss': 0.1090639104953791}\n",
      "Epoch 17/20\n"
     ]
    },
    {
     "name": "stderr",
     "output_type": "stream",
     "text": [
      "100%|██████████| 328/328 [00:28<00:00, 11.70it/s]\n"
     ]
    },
    {
     "name": "stdout",
     "output_type": "stream",
     "text": [
      "{'val_loss': 2.201367960163824, 'val_accuracy': 0.6462948815889993, 'precision': 0.6473329152394408, 'recall': 0.6462948815889993, 'f1-score': 0.6365828977992168, 'macro_f1-score': 0.3840781131614753, 'balanced_accuracy': 0.38295300771303603, 'mcc': 0.5312886269821442, 'train_loss': 0.0709383326476843}\n",
      "Epoch 18/20\n"
     ]
    },
    {
     "name": "stderr",
     "output_type": "stream",
     "text": [
      "100%|██████████| 328/328 [00:28<00:00, 11.71it/s]\n"
     ]
    },
    {
     "name": "stdout",
     "output_type": "stream",
     "text": [
      "{'val_loss': 2.252285813867319, 'val_accuracy': 0.6676852559205501, 'precision': 0.653320229792814, 'recall': 0.6676852559205501, 'f1-score': 0.6489486623304329, 'macro_f1-score': 0.41999035958569664, 'balanced_accuracy': 0.3940843969860325, 'mcc': 0.5491143497326052, 'train_loss': 0.0662938230174094}\n",
      "Epoch 19/20\n"
     ]
    },
    {
     "name": "stderr",
     "output_type": "stream",
     "text": [
      "100%|██████████| 328/328 [00:27<00:00, 11.74it/s]\n"
     ]
    },
    {
     "name": "stdout",
     "output_type": "stream",
     "text": [
      "{'val_loss': 2.173962167486912, 'val_accuracy': 0.6424751718869366, 'precision': 0.6334390408793411, 'recall': 0.6424751718869366, 'f1-score': 0.6239822911238659, 'macro_f1-score': 0.38003248776240717, 'balanced_accuracy': 0.37354006421929425, 'mcc': 0.5199720548634973, 'train_loss': 0.048797976690565986}\n",
      "Epoch 20/20\n"
     ]
    },
    {
     "name": "stderr",
     "output_type": "stream",
     "text": [
      "100%|██████████| 328/328 [00:28<00:00, 11.71it/s]\n"
     ]
    },
    {
     "name": "stdout",
     "output_type": "stream",
     "text": [
      "{'val_loss': 2.2999649273186193, 'val_accuracy': 0.6203208556149733, 'precision': 0.6439715348229255, 'recall': 0.6203208556149733, 'f1-score': 0.6205662274185877, 'macro_f1-score': 0.39350405026302904, 'balanced_accuracy': 0.40014367891945624, 'mcc': 0.5160060094595007, 'train_loss': 0.09523299820657263}\n",
      "\n",
      " === bert-base-uncased + cnn + none Final 5-fold Cross-Validation Results ===\n",
      "val_loss: 1.9795\n",
      "val_accuracy: 0.6517\n",
      "precision: 0.6558\n",
      "recall: 0.6517\n",
      "f1-score: 0.6425\n",
      "macro_f1-score: 0.4072\n",
      "balanced_accuracy: 0.3959\n",
      "mcc: 0.5385\n",
      "train_loss: 0.1575\n",
      "total_seconds: 2302.0000\n",
      "total_time: 0 hrs 38 mins 22 secs\n",
      "▶ Running: bert-base-uncased + lstm + none\n",
      "tokenizer is bert-base-uncased\n",
      "Using device: cuda\n",
      "CUDA Available: True\n",
      "CUDA Device: NVIDIA GeForce RTX 5070 Ti\n",
      "Current GPU Memory Allocated: 0.02 GB\n",
      "Current GPU Memory Cached: 3.05 GB\n",
      "\n",
      "[Fold 1]\n",
      "Label distribution after resampling:\n",
      "  label 0: 2465\n",
      "  label 1: 22\n",
      "  label 2: 64\n",
      "  label 3: 24\n",
      "  label 4: 190\n",
      "  label 5: 112\n",
      "  label 6: 93\n",
      "  label 7: 30\n",
      "  label 8: 68\n",
      "  label 9: 30\n",
      "  label 10: 67\n",
      "  label 11: 169\n",
      "  label 12: 190\n",
      "  label 13: 28\n",
      "  label 14: 23\n",
      "  label 15: 25\n",
      "  label 16: 19\n",
      "  label 17: 181\n",
      "  label 18: 92\n",
      "  label 19: 44\n",
      "  label 20: 14\n",
      "  label 21: 35\n",
      "  label 22: 76\n",
      "  label 23: 157\n",
      "  label 24: 13\n",
      "  label 25: 44\n",
      "  label 26: 84\n",
      "  label 27: 47\n",
      "  label 28: 11\n",
      "  label 29: 13\n",
      "  label 30: 11\n",
      "  label 31: 76\n",
      "  label 32: 36\n",
      "  label 33: 32\n",
      "  label 34: 29\n",
      "  label 35: 11\n",
      "  label 36: 22\n",
      "  label 37: 16\n",
      "  label 38: 6\n",
      "  label 39: 32\n",
      "  label 40: 10\n",
      "  label 41: 9\n",
      "  label 42: 57\n",
      "  label 43: 6\n",
      "  label 44: 19\n",
      "  label 45: 8\n",
      "  label 46: 55\n",
      "  label 47: 241\n",
      "  label 48: 62\n",
      "  label 49: 68\n",
      "model is bert-base-uncased lstm\n",
      "Epoch 1/20\n"
     ]
    },
    {
     "name": "stderr",
     "output_type": "stream",
     "text": [
      "100%|██████████| 328/328 [00:29<00:00, 11.21it/s]\n"
     ]
    },
    {
     "name": "stdout",
     "output_type": "stream",
     "text": [
      "{'val_loss': 1.9876713258464163, 'val_accuracy': 0.5572519083969466, 'precision': 0.33635458512157596, 'recall': 0.5572519083969466, 'f1-score': 0.4131171491478446, 'macro_f1-score': 0.05617866787712256, 'balanced_accuracy': 0.06702070290943218, 'mcc': 0.331911308164487, 'train_loss': 2.3130546570187662}\n",
      "Epoch 2/20\n"
     ]
    },
    {
     "name": "stderr",
     "output_type": "stream",
     "text": [
      "100%|██████████| 328/328 [00:29<00:00, 11.24it/s]\n"
     ]
    },
    {
     "name": "stdout",
     "output_type": "stream",
     "text": [
      "{'val_loss': 1.766254376347472, 'val_accuracy': 0.5931297709923664, 'precision': 0.4405356068115959, 'recall': 0.5931297709923664, 'f1-score': 0.47963451843658544, 'macro_f1-score': 0.0903624283330565, 'balanced_accuracy': 0.1085159192395962, 'mcc': 0.4117019356385668, 'train_loss': 1.8620603506158038}\n",
      "Epoch 3/20\n"
     ]
    },
    {
     "name": "stderr",
     "output_type": "stream",
     "text": [
      "100%|██████████| 328/328 [00:29<00:00, 11.24it/s]\n"
     ]
    },
    {
     "name": "stdout",
     "output_type": "stream",
     "text": [
      "{'val_loss': 1.6395537024591027, 'val_accuracy': 0.6045801526717557, 'precision': 0.5311400628131262, 'recall': 0.6045801526717557, 'f1-score': 0.5493510691387348, 'macro_f1-score': 0.16005260191080442, 'balanced_accuracy': 0.16960239926208975, 'mcc': 0.45427359165057446, 'train_loss': 1.5532111903516257}\n",
      "Epoch 4/20\n"
     ]
    },
    {
     "name": "stderr",
     "output_type": "stream",
     "text": [
      "100%|██████████| 328/328 [00:29<00:00, 11.13it/s]\n"
     ]
    },
    {
     "name": "stdout",
     "output_type": "stream",
     "text": [
      "{'val_loss': 1.5590426540229378, 'val_accuracy': 0.6358778625954199, 'precision': 0.5594307213440372, 'recall': 0.6358778625954199, 'f1-score': 0.5860216267596573, 'macro_f1-score': 0.2282497839398128, 'balanced_accuracy': 0.23695359760903967, 'mcc': 0.5028319409470339, 'train_loss': 1.297123063446545}\n",
      "Epoch 5/20\n"
     ]
    },
    {
     "name": "stderr",
     "output_type": "stream",
     "text": [
      "100%|██████████| 328/328 [00:29<00:00, 11.25it/s]\n"
     ]
    },
    {
     "name": "stdout",
     "output_type": "stream",
     "text": [
      "{'val_loss': 1.6280307420870153, 'val_accuracy': 0.6366412213740458, 'precision': 0.5682270426698126, 'recall': 0.6366412213740458, 'f1-score': 0.5756130764744272, 'macro_f1-score': 0.2295989651561537, 'balanced_accuracy': 0.2169378722933174, 'mcc': 0.4881738250002555, 'train_loss': 1.095898444877892}\n",
      "Epoch 6/20\n"
     ]
    },
    {
     "name": "stderr",
     "output_type": "stream",
     "text": [
      "100%|██████████| 328/328 [00:29<00:00, 11.18it/s]\n"
     ]
    },
    {
     "name": "stdout",
     "output_type": "stream",
     "text": [
      "{'val_loss': 1.6352491913045324, 'val_accuracy': 0.6389312977099236, 'precision': 0.5957481235159001, 'recall': 0.6389312977099236, 'f1-score': 0.595123099180155, 'macro_f1-score': 0.2613966706766941, 'balanced_accuracy': 0.2524407491920932, 'mcc': 0.49927250751379765, 'train_loss': 0.9533136770946951}\n",
      "Epoch 7/20\n"
     ]
    },
    {
     "name": "stderr",
     "output_type": "stream",
     "text": [
      "100%|██████████| 328/328 [00:29<00:00, 11.23it/s]\n"
     ]
    },
    {
     "name": "stdout",
     "output_type": "stream",
     "text": [
      "{'val_loss': 1.6239881657245683, 'val_accuracy': 0.6206106870229008, 'precision': 0.6042103900979051, 'recall': 0.6206106870229008, 'f1-score': 0.6033013446729643, 'macro_f1-score': 0.29986412074944196, 'balanced_accuracy': 0.3039047117071565, 'mcc': 0.4948349752552057, 'train_loss': 0.7992842068850268}\n",
      "Epoch 8/20\n"
     ]
    },
    {
     "name": "stderr",
     "output_type": "stream",
     "text": [
      "100%|██████████| 328/328 [00:29<00:00, 11.17it/s]\n"
     ]
    },
    {
     "name": "stdout",
     "output_type": "stream",
     "text": [
      "{'val_loss': 1.6833410633773338, 'val_accuracy': 0.6282442748091603, 'precision': 0.5929386995189115, 'recall': 0.6282442748091603, 'f1-score': 0.5981129944263683, 'macro_f1-score': 0.27443329985390025, 'balanced_accuracy': 0.2742328017941211, 'mcc': 0.4983408073930416, 'train_loss': 0.6409046557027755}\n",
      "Epoch 9/20\n"
     ]
    },
    {
     "name": "stderr",
     "output_type": "stream",
     "text": [
      "100%|██████████| 328/328 [00:29<00:00, 11.19it/s]\n"
     ]
    },
    {
     "name": "stdout",
     "output_type": "stream",
     "text": [
      "{'val_loss': 1.6505297020804592, 'val_accuracy': 0.6603053435114504, 'precision': 0.6265924808882843, 'recall': 0.6603053435114504, 'f1-score': 0.6360143930268894, 'macro_f1-score': 0.3463589618125828, 'balanced_accuracy': 0.3385487538319416, 'mcc': 0.5406878792397474, 'train_loss': 0.5418944153480414}\n",
      "Epoch 10/20\n"
     ]
    },
    {
     "name": "stderr",
     "output_type": "stream",
     "text": [
      "100%|██████████| 328/328 [00:29<00:00, 11.24it/s]\n"
     ]
    },
    {
     "name": "stdout",
     "output_type": "stream",
     "text": [
      "{'val_loss': 1.723549311117428, 'val_accuracy': 0.6389312977099236, 'precision': 0.6302717973051271, 'recall': 0.6389312977099236, 'f1-score': 0.6234506164329596, 'macro_f1-score': 0.3431747849832705, 'balanced_accuracy': 0.3387413854273055, 'mcc': 0.5153770893285679, 'train_loss': 0.4513113354332745}\n",
      "Epoch 11/20\n"
     ]
    },
    {
     "name": "stderr",
     "output_type": "stream",
     "text": [
      "100%|██████████| 328/328 [00:29<00:00, 11.19it/s]\n"
     ]
    },
    {
     "name": "stdout",
     "output_type": "stream",
     "text": [
      "{'val_loss': 1.6876683236985672, 'val_accuracy': 0.6450381679389313, 'precision': 0.637095921432678, 'recall': 0.6450381679389313, 'f1-score': 0.6307078419092582, 'macro_f1-score': 0.34931257842516894, 'balanced_accuracy': 0.34213142258607154, 'mcc': 0.5268990382530282, 'train_loss': 0.4386417384077681}\n",
      "Epoch 12/20\n"
     ]
    },
    {
     "name": "stderr",
     "output_type": "stream",
     "text": [
      "100%|██████████| 328/328 [00:29<00:00, 11.21it/s]\n"
     ]
    },
    {
     "name": "stdout",
     "output_type": "stream",
     "text": [
      "{'val_loss': 1.6918723699523182, 'val_accuracy': 0.6435114503816793, 'precision': 0.6439925475178053, 'recall': 0.6435114503816793, 'f1-score': 0.6350985711707489, 'macro_f1-score': 0.36358986748937305, 'balanced_accuracy': 0.35571192413657976, 'mcc': 0.5260634529194632, 'train_loss': 0.3926227402464464}\n",
      "Epoch 13/20\n"
     ]
    },
    {
     "name": "stderr",
     "output_type": "stream",
     "text": [
      "100%|██████████| 328/328 [00:29<00:00, 11.24it/s]\n"
     ]
    },
    {
     "name": "stdout",
     "output_type": "stream",
     "text": [
      "{'val_loss': 1.7634045463509675, 'val_accuracy': 0.6435114503816793, 'precision': 0.6218825861074608, 'recall': 0.6435114503816793, 'f1-score': 0.6288069942855149, 'macro_f1-score': 0.3588840402455828, 'balanced_accuracy': 0.3495305104498398, 'mcc': 0.523838222326632, 'train_loss': 0.3074446348416642}\n",
      "Epoch 14/20\n"
     ]
    },
    {
     "name": "stderr",
     "output_type": "stream",
     "text": [
      "100%|██████████| 328/328 [00:29<00:00, 11.24it/s]\n"
     ]
    },
    {
     "name": "stdout",
     "output_type": "stream",
     "text": [
      "{'val_loss': 1.9121222503301574, 'val_accuracy': 0.6442748091603053, 'precision': 0.6197440442715361, 'recall': 0.6442748091603053, 'f1-score': 0.6238449717250611, 'macro_f1-score': 0.3374179787308577, 'balanced_accuracy': 0.31736293084004463, 'mcc': 0.5159924117332619, 'train_loss': 0.2595598266414571}\n",
      "Epoch 15/20\n"
     ]
    },
    {
     "name": "stderr",
     "output_type": "stream",
     "text": [
      "100%|██████████| 328/328 [00:29<00:00, 11.13it/s]\n"
     ]
    },
    {
     "name": "stdout",
     "output_type": "stream",
     "text": [
      "{'val_loss': 1.8354047555022124, 'val_accuracy': 0.6534351145038167, 'precision': 0.635526829859245, 'recall': 0.6534351145038167, 'f1-score': 0.6371372836629198, 'macro_f1-score': 0.37182881459328554, 'balanced_accuracy': 0.35304143813002087, 'mcc': 0.5356528429646028, 'train_loss': 0.23164436067227365}\n",
      "Epoch 16/20\n"
     ]
    },
    {
     "name": "stderr",
     "output_type": "stream",
     "text": [
      "100%|██████████| 328/328 [00:29<00:00, 11.24it/s]\n"
     ]
    },
    {
     "name": "stdout",
     "output_type": "stream",
     "text": [
      "{'val_loss': 1.8551422422978936, 'val_accuracy': 0.6526717557251909, 'precision': 0.6321483756008784, 'recall': 0.6526717557251909, 'f1-score': 0.635144836040856, 'macro_f1-score': 0.3641626164236893, 'balanced_accuracy': 0.35266607962906776, 'mcc': 0.5333970757290751, 'train_loss': 0.20546765307180312}\n",
      "Epoch 17/20\n"
     ]
    },
    {
     "name": "stderr",
     "output_type": "stream",
     "text": [
      "100%|██████████| 328/328 [00:29<00:00, 11.17it/s]\n"
     ]
    },
    {
     "name": "stdout",
     "output_type": "stream",
     "text": [
      "{'val_loss': 1.9621457284452712, 'val_accuracy': 0.6610687022900763, 'precision': 0.640405017592989, 'recall': 0.6610687022900763, 'f1-score': 0.6338420748454706, 'macro_f1-score': 0.36227151427266535, 'balanced_accuracy': 0.3331373798742292, 'mcc': 0.5339423023544871, 'train_loss': 0.22694700442413548}\n",
      "Epoch 18/20\n"
     ]
    },
    {
     "name": "stderr",
     "output_type": "stream",
     "text": [
      "100%|██████████| 328/328 [00:29<00:00, 11.23it/s]\n"
     ]
    },
    {
     "name": "stdout",
     "output_type": "stream",
     "text": [
      "{'val_loss': 1.9619096346744678, 'val_accuracy': 0.6427480916030535, 'precision': 0.6342891662391139, 'recall': 0.6427480916030535, 'f1-score': 0.6275080622578764, 'macro_f1-score': 0.3682331888167302, 'balanced_accuracy': 0.35524289376245954, 'mcc': 0.5205406766026555, 'train_loss': 0.19176850162401068}\n",
      "Early stopping.\n",
      "\n",
      "[Fold 2]\n",
      "Label distribution after resampling:\n",
      "  label 0: 2465\n",
      "  label 1: 22\n",
      "  label 2: 64\n",
      "  label 3: 24\n",
      "  label 4: 190\n",
      "  label 5: 113\n",
      "  label 6: 93\n",
      "  label 7: 31\n",
      "  label 8: 68\n",
      "  label 9: 29\n",
      "  label 10: 67\n",
      "  label 11: 169\n",
      "  label 12: 190\n",
      "  label 13: 29\n",
      "  label 14: 22\n",
      "  label 15: 25\n",
      "  label 16: 19\n",
      "  label 17: 181\n",
      "  label 18: 92\n",
      "  label 19: 44\n",
      "  label 20: 13\n",
      "  label 21: 35\n",
      "  label 22: 76\n",
      "  label 23: 158\n",
      "  label 24: 13\n",
      "  label 25: 44\n",
      "  label 26: 84\n",
      "  label 27: 47\n",
      "  label 28: 12\n",
      "  label 29: 12\n",
      "  label 30: 12\n",
      "  label 31: 75\n",
      "  label 32: 36\n",
      "  label 33: 31\n",
      "  label 34: 29\n",
      "  label 35: 12\n",
      "  label 36: 21\n",
      "  label 37: 16\n",
      "  label 38: 6\n",
      "  label 39: 33\n",
      "  label 40: 11\n",
      "  label 41: 8\n",
      "  label 42: 56\n",
      "  label 43: 6\n",
      "  label 44: 19\n",
      "  label 45: 9\n",
      "  label 46: 55\n",
      "  label 47: 241\n",
      "  label 48: 62\n",
      "  label 49: 68\n",
      "model is bert-base-uncased lstm\n",
      "Epoch 1/20\n"
     ]
    },
    {
     "name": "stderr",
     "output_type": "stream",
     "text": [
      "100%|██████████| 328/328 [00:29<00:00, 11.17it/s]\n"
     ]
    },
    {
     "name": "stdout",
     "output_type": "stream",
     "text": [
      "{'val_loss': 2.012508648197825, 'val_accuracy': 0.5523300229182582, 'precision': 0.3745843323586919, 'recall': 0.5523300229182582, 'f1-score': 0.4415745990732065, 'macro_f1-score': 0.05619980146115666, 'balanced_accuracy': 0.0830277311755445, 'mcc': 0.35757841537947926, 'train_loss': 2.340625988274086}\n",
      "Epoch 2/20\n"
     ]
    },
    {
     "name": "stderr",
     "output_type": "stream",
     "text": [
      "100%|██████████| 328/328 [00:29<00:00, 11.19it/s]\n"
     ]
    },
    {
     "name": "stdout",
     "output_type": "stream",
     "text": [
      "{'val_loss': 1.8318275307736747, 'val_accuracy': 0.573720397249809, 'precision': 0.44339364604037734, 'recall': 0.573720397249809, 'f1-score': 0.4909548789238983, 'macro_f1-score': 0.0784096978586101, 'balanced_accuracy': 0.10290314676267251, 'mcc': 0.40805134217314043, 'train_loss': 1.8744710327648535}\n",
      "Epoch 3/20\n"
     ]
    },
    {
     "name": "stderr",
     "output_type": "stream",
     "text": [
      "100%|██████████| 328/328 [00:29<00:00, 11.24it/s]\n"
     ]
    },
    {
     "name": "stdout",
     "output_type": "stream",
     "text": [
      "{'val_loss': 1.6611054198044102, 'val_accuracy': 0.6042780748663101, 'precision': 0.4845184312667836, 'recall': 0.6042780748663101, 'f1-score': 0.5202086542053647, 'macro_f1-score': 0.12622735417392847, 'balanced_accuracy': 0.13273068078572559, 'mcc': 0.43628562511538804, 'train_loss': 1.6107616871595383}\n",
      "Epoch 4/20\n"
     ]
    },
    {
     "name": "stderr",
     "output_type": "stream",
     "text": [
      "100%|██████████| 328/328 [00:29<00:00, 11.19it/s]\n"
     ]
    },
    {
     "name": "stdout",
     "output_type": "stream",
     "text": [
      "{'val_loss': 1.59831022780116, 'val_accuracy': 0.6218487394957983, 'precision': 0.5273641783998687, 'recall': 0.6218487394957983, 'f1-score': 0.5593263844543273, 'macro_f1-score': 0.16340032294781331, 'balanced_accuracy': 0.17145223081884026, 'mcc': 0.47347774943009635, 'train_loss': 1.355708054743889}\n",
      "Epoch 5/20\n"
     ]
    },
    {
     "name": "stderr",
     "output_type": "stream",
     "text": [
      "100%|██████████| 328/328 [00:29<00:00, 11.18it/s]\n"
     ]
    },
    {
     "name": "stdout",
     "output_type": "stream",
     "text": [
      "{'val_loss': 1.571268659539339, 'val_accuracy': 0.612681436210848, 'precision': 0.5679107623647642, 'recall': 0.612681436210848, 'f1-score': 0.5837835762097813, 'macro_f1-score': 0.2203059161322856, 'balanced_accuracy': 0.2546687701808541, 'mcc': 0.493241353086036, 'train_loss': 1.1454488962616136}\n",
      "Epoch 6/20\n"
     ]
    },
    {
     "name": "stderr",
     "output_type": "stream",
     "text": [
      "100%|██████████| 328/328 [00:29<00:00, 11.23it/s]\n"
     ]
    },
    {
     "name": "stdout",
     "output_type": "stream",
     "text": [
      "{'val_loss': 1.5570921305476166, 'val_accuracy': 0.6325439266615738, 'precision': 0.6001579941688606, 'recall': 0.6325439266615738, 'f1-score': 0.6053343787934604, 'macro_f1-score': 0.24226373783106658, 'balanced_accuracy': 0.27180256841064543, 'mcc': 0.5164827686119211, 'train_loss': 0.9623125566215049}\n",
      "Epoch 7/20\n"
     ]
    },
    {
     "name": "stderr",
     "output_type": "stream",
     "text": [
      "100%|██████████| 328/328 [00:29<00:00, 11.23it/s]\n"
     ]
    },
    {
     "name": "stdout",
     "output_type": "stream",
     "text": [
      "{'val_loss': 1.5517648313103654, 'val_accuracy': 0.6363636363636364, 'precision': 0.6004965038041047, 'recall': 0.6363636363636364, 'f1-score': 0.6068190099559997, 'macro_f1-score': 0.2591263319833107, 'balanced_accuracy': 0.2718460937957756, 'mcc': 0.5112146044585627, 'train_loss': 0.8017314856463089}\n",
      "Epoch 8/20\n"
     ]
    },
    {
     "name": "stderr",
     "output_type": "stream",
     "text": [
      "100%|██████████| 328/328 [00:29<00:00, 11.14it/s]\n"
     ]
    },
    {
     "name": "stdout",
     "output_type": "stream",
     "text": [
      "{'val_loss': 1.6654901706227443, 'val_accuracy': 0.6355996944232238, 'precision': 0.6093329187393676, 'recall': 0.6355996944232238, 'f1-score': 0.6136603460246209, 'macro_f1-score': 0.29514209247826567, 'balanced_accuracy': 0.31110402568589846, 'mcc': 0.5154772881357057, 'train_loss': 0.6671526496321326}\n",
      "Epoch 9/20\n"
     ]
    },
    {
     "name": "stderr",
     "output_type": "stream",
     "text": [
      "100%|██████████| 328/328 [00:29<00:00, 11.22it/s]\n"
     ]
    },
    {
     "name": "stdout",
     "output_type": "stream",
     "text": [
      "{'val_loss': 1.7566614690713767, 'val_accuracy': 0.640183346065699, 'precision': 0.604219533065904, 'recall': 0.640183346065699, 'f1-score': 0.6041493454019727, 'macro_f1-score': 0.26625521661036416, 'balanced_accuracy': 0.25894355605640174, 'mcc': 0.5077571690611022, 'train_loss': 0.5313201040120387}\n",
      "Epoch 10/20\n"
     ]
    },
    {
     "name": "stderr",
     "output_type": "stream",
     "text": [
      "100%|██████████| 328/328 [00:29<00:00, 11.16it/s]\n"
     ]
    },
    {
     "name": "stdout",
     "output_type": "stream",
     "text": [
      "{'val_loss': 1.6511537498090325, 'val_accuracy': 0.6355996944232238, 'precision': 0.6264400431766398, 'recall': 0.6355996944232238, 'f1-score': 0.6240914454518707, 'macro_f1-score': 0.32245945476119325, 'balanced_accuracy': 0.3323263863618206, 'mcc': 0.5211880872377745, 'train_loss': 0.46750620231827406}\n",
      "Epoch 11/20\n"
     ]
    },
    {
     "name": "stderr",
     "output_type": "stream",
     "text": [
      "100%|██████████| 328/328 [00:29<00:00, 11.23it/s]\n"
     ]
    },
    {
     "name": "stdout",
     "output_type": "stream",
     "text": [
      "{'val_loss': 1.6663990773078872, 'val_accuracy': 0.6348357524828113, 'precision': 0.6360072248239764, 'recall': 0.6348357524828113, 'f1-score': 0.6246723142170015, 'macro_f1-score': 0.34343491046735347, 'balanced_accuracy': 0.3458878015546874, 'mcc': 0.5197053856753208, 'train_loss': 0.39785391929354974}\n",
      "Epoch 12/20\n"
     ]
    },
    {
     "name": "stderr",
     "output_type": "stream",
     "text": [
      "100%|██████████| 328/328 [00:29<00:00, 11.16it/s]\n"
     ]
    },
    {
     "name": "stdout",
     "output_type": "stream",
     "text": [
      "{'val_loss': 1.7885167137151812, 'val_accuracy': 0.6302521008403361, 'precision': 0.623914747657147, 'recall': 0.6302521008403361, 'f1-score': 0.6203831761599414, 'macro_f1-score': 0.33274147346422345, 'balanced_accuracy': 0.3410216681170018, 'mcc': 0.514599265715036, 'train_loss': 0.33274024529609736}\n",
      "Epoch 13/20\n"
     ]
    },
    {
     "name": "stderr",
     "output_type": "stream",
     "text": [
      "100%|██████████| 328/328 [00:29<00:00, 11.18it/s]\n"
     ]
    },
    {
     "name": "stdout",
     "output_type": "stream",
     "text": [
      "{'val_loss': 1.7720030362649661, 'val_accuracy': 0.6424751718869366, 'precision': 0.6328766696444966, 'recall': 0.6424751718869366, 'f1-score': 0.6271607817919498, 'macro_f1-score': 0.3492700857856031, 'balanced_accuracy': 0.3542600863411138, 'mcc': 0.5216756130704819, 'train_loss': 0.3192805377596126}\n",
      "Epoch 14/20\n"
     ]
    },
    {
     "name": "stderr",
     "output_type": "stream",
     "text": [
      "100%|██████████| 328/328 [00:29<00:00, 11.23it/s]\n"
     ]
    },
    {
     "name": "stdout",
     "output_type": "stream",
     "text": [
      "{'val_loss': 1.7858007964564533, 'val_accuracy': 0.5905271199388846, 'precision': 0.6293900363739803, 'recall': 0.5905271199388846, 'f1-score': 0.5927517924207002, 'macro_f1-score': 0.3255433978714333, 'balanced_accuracy': 0.3295672329547567, 'mcc': 0.47038479395433014, 'train_loss': 0.29429974696008354}\n",
      "Epoch 15/20\n"
     ]
    },
    {
     "name": "stderr",
     "output_type": "stream",
     "text": [
      "100%|██████████| 328/328 [00:29<00:00, 11.20it/s]\n"
     ]
    },
    {
     "name": "stdout",
     "output_type": "stream",
     "text": [
      "{'val_loss': 1.9235074231173934, 'val_accuracy': 0.6440030557677616, 'precision': 0.6236024496069039, 'recall': 0.6440030557677616, 'f1-score': 0.6179179108252041, 'macro_f1-score': 0.3175084087019265, 'balanced_accuracy': 0.30760842713661496, 'mcc': 0.5172904723731769, 'train_loss': 0.2910351700024543}\n",
      "Epoch 16/20\n"
     ]
    },
    {
     "name": "stderr",
     "output_type": "stream",
     "text": [
      "100%|██████████| 328/328 [00:29<00:00, 11.18it/s]\n"
     ]
    },
    {
     "name": "stdout",
     "output_type": "stream",
     "text": [
      "{'val_loss': 1.9163440374157779, 'val_accuracy': 0.6455309396485867, 'precision': 0.6342300095532933, 'recall': 0.6455309396485867, 'f1-score': 0.6300695825341994, 'macro_f1-score': 0.364266253344962, 'balanced_accuracy': 0.36593944114991606, 'mcc': 0.5258057640015937, 'train_loss': 0.2136632735988625}\n",
      "Epoch 17/20\n"
     ]
    },
    {
     "name": "stderr",
     "output_type": "stream",
     "text": [
      "100%|██████████| 328/328 [00:29<00:00, 11.24it/s]\n"
     ]
    },
    {
     "name": "stdout",
     "output_type": "stream",
     "text": [
      "{'val_loss': 2.0611434179108317, 'val_accuracy': 0.6478227654698243, 'precision': 0.6236750374954129, 'recall': 0.6478227654698243, 'f1-score': 0.6183912771460892, 'macro_f1-score': 0.3390738541188994, 'balanced_accuracy': 0.3244076067499219, 'mcc': 0.5151581088415229, 'train_loss': 0.19323786036338567}\n",
      "Epoch 18/20\n"
     ]
    },
    {
     "name": "stderr",
     "output_type": "stream",
     "text": [
      "100%|██████████| 328/328 [00:29<00:00, 11.23it/s]\n"
     ]
    },
    {
     "name": "stdout",
     "output_type": "stream",
     "text": [
      "{'val_loss': 1.7810014382731625, 'val_accuracy': 0.6317799847211611, 'precision': 0.6285222649426194, 'recall': 0.6317799847211611, 'f1-score': 0.6237478628288513, 'macro_f1-score': 0.3470121181103682, 'balanced_accuracy': 0.3431437406744698, 'mcc': 0.5145627546085892, 'train_loss': 0.1762535613677578}\n",
      "Epoch 19/20\n"
     ]
    },
    {
     "name": "stderr",
     "output_type": "stream",
     "text": [
      "100%|██████████| 328/328 [00:29<00:00, 11.15it/s]\n"
     ]
    },
    {
     "name": "stdout",
     "output_type": "stream",
     "text": [
      "{'val_loss': 1.9542979871536172, 'val_accuracy': 0.6378915202444614, 'precision': 0.6391612239293871, 'recall': 0.6378915202444614, 'f1-score': 0.6262369488461774, 'macro_f1-score': 0.3662004938261513, 'balanced_accuracy': 0.3731909272466871, 'mcc': 0.5180817144019427, 'train_loss': 0.16610791528506613}\n",
      "Epoch 20/20\n"
     ]
    },
    {
     "name": "stderr",
     "output_type": "stream",
     "text": [
      "100%|██████████| 328/328 [00:29<00:00, 11.21it/s]\n"
     ]
    },
    {
     "name": "stdout",
     "output_type": "stream",
     "text": [
      "{'val_loss': 2.0624740260039887, 'val_accuracy': 0.6279602750190986, 'precision': 0.6472689557351585, 'recall': 0.6279602750190986, 'f1-score': 0.6195464460531399, 'macro_f1-score': 0.3430701656723407, 'balanced_accuracy': 0.3522484476637084, 'mcc': 0.5150106380942858, 'train_loss': 0.14286015455457723}\n",
      "\n",
      "[Fold 3]\n",
      "Label distribution after resampling:\n",
      "  label 0: 2466\n",
      "  label 1: 21\n",
      "  label 2: 64\n",
      "  label 3: 24\n",
      "  label 4: 191\n",
      "  label 5: 113\n",
      "  label 6: 92\n",
      "  label 7: 31\n",
      "  label 8: 68\n",
      "  label 9: 29\n",
      "  label 10: 68\n",
      "  label 11: 168\n",
      "  label 12: 190\n",
      "  label 13: 29\n",
      "  label 14: 22\n",
      "  label 15: 25\n",
      "  label 16: 19\n",
      "  label 17: 181\n",
      "  label 18: 92\n",
      "  label 19: 44\n",
      "  label 20: 13\n",
      "  label 21: 36\n",
      "  label 22: 76\n",
      "  label 23: 158\n",
      "  label 24: 12\n",
      "  label 25: 44\n",
      "  label 26: 84\n",
      "  label 27: 48\n",
      "  label 28: 11\n",
      "  label 29: 13\n",
      "  label 30: 11\n",
      "  label 31: 75\n",
      "  label 32: 36\n",
      "  label 33: 31\n",
      "  label 34: 30\n",
      "  label 35: 11\n",
      "  label 36: 21\n",
      "  label 37: 16\n",
      "  label 38: 5\n",
      "  label 39: 33\n",
      "  label 40: 11\n",
      "  label 41: 9\n",
      "  label 42: 57\n",
      "  label 43: 7\n",
      "  label 44: 18\n",
      "  label 45: 9\n",
      "  label 46: 54\n",
      "  label 47: 242\n",
      "  label 48: 61\n",
      "  label 49: 68\n",
      "model is bert-base-uncased lstm\n",
      "Epoch 1/20\n"
     ]
    },
    {
     "name": "stderr",
     "output_type": "stream",
     "text": [
      "100%|██████████| 328/328 [00:29<00:00, 11.15it/s]\n"
     ]
    },
    {
     "name": "stdout",
     "output_type": "stream",
     "text": [
      "{'val_loss': 1.9541360110771366, 'val_accuracy': 0.5614973262032086, 'precision': 0.38056085070519063, 'recall': 0.5614973262032086, 'f1-score': 0.43613832635544114, 'macro_f1-score': 0.06006100919745978, 'balanced_accuracy': 0.08306837370667157, 'mcc': 0.3560740898682729, 'train_loss': 2.3083639553770787}\n",
      "Epoch 2/20\n"
     ]
    },
    {
     "name": "stderr",
     "output_type": "stream",
     "text": [
      "100%|██████████| 328/328 [00:29<00:00, 11.23it/s]\n"
     ]
    },
    {
     "name": "stdout",
     "output_type": "stream",
     "text": [
      "{'val_loss': 1.8208125059197589, 'val_accuracy': 0.5844155844155844, 'precision': 0.421404202875197, 'recall': 0.5844155844155844, 'f1-score': 0.4694015356478756, 'macro_f1-score': 0.07458146131955841, 'balanced_accuracy': 0.09146502297006216, 'mcc': 0.3974270564654089, 'train_loss': 1.8421389733145876}\n",
      "Epoch 3/20\n"
     ]
    },
    {
     "name": "stderr",
     "output_type": "stream",
     "text": [
      "100%|██████████| 328/328 [00:29<00:00, 11.18it/s]\n"
     ]
    },
    {
     "name": "stdout",
     "output_type": "stream",
     "text": [
      "{'val_loss': 1.6627811636866592, 'val_accuracy': 0.5981665393430099, 'precision': 0.48590407773576105, 'recall': 0.5981665393430099, 'f1-score': 0.5185744358417829, 'macro_f1-score': 0.1345306530924047, 'balanced_accuracy': 0.1374634431803807, 'mcc': 0.42651664858224814, 'train_loss': 1.57750713970603}\n",
      "Epoch 4/20\n"
     ]
    },
    {
     "name": "stderr",
     "output_type": "stream",
     "text": [
      "100%|██████████| 328/328 [00:29<00:00, 11.17it/s]\n"
     ]
    },
    {
     "name": "stdout",
     "output_type": "stream",
     "text": [
      "{'val_loss': 1.5655030931641416, 'val_accuracy': 0.6187929717341482, 'precision': 0.5407167368022613, 'recall': 0.6187929717341482, 'f1-score': 0.5617846819967492, 'macro_f1-score': 0.20135720010224673, 'balanced_accuracy': 0.2151560617369203, 'mcc': 0.477780030043038, 'train_loss': 1.311999837527188}\n",
      "Epoch 5/20\n"
     ]
    },
    {
     "name": "stderr",
     "output_type": "stream",
     "text": [
      "100%|██████████| 328/328 [00:29<00:00, 11.23it/s]\n"
     ]
    },
    {
     "name": "stdout",
     "output_type": "stream",
     "text": [
      "{'val_loss': 1.4995798712096564, 'val_accuracy': 0.6325439266615738, 'precision': 0.5881184634972114, 'recall': 0.6325439266615738, 'f1-score': 0.602347481826452, 'macro_f1-score': 0.25367974276654937, 'balanced_accuracy': 0.26349461179372136, 'mcc': 0.5131204277043272, 'train_loss': 1.0939243843824398}\n",
      "Epoch 6/20\n"
     ]
    },
    {
     "name": "stderr",
     "output_type": "stream",
     "text": [
      "100%|██████████| 328/328 [00:29<00:00, 11.21it/s]\n"
     ]
    },
    {
     "name": "stdout",
     "output_type": "stream",
     "text": [
      "{'val_loss': 1.528602354046775, 'val_accuracy': 0.6554621848739496, 'precision': 0.6013555083516119, 'recall': 0.6554621848739496, 'f1-score': 0.6156995270256853, 'macro_f1-score': 0.2842178902072052, 'balanced_accuracy': 0.2730045233027078, 'mcc': 0.5270866678120955, 'train_loss': 0.9044776880977358}\n",
      "Epoch 7/20\n"
     ]
    },
    {
     "name": "stderr",
     "output_type": "stream",
     "text": [
      "100%|██████████| 328/328 [00:29<00:00, 11.18it/s]\n"
     ]
    },
    {
     "name": "stdout",
     "output_type": "stream",
     "text": [
      "{'val_loss': 1.4769190124622205, 'val_accuracy': 0.6539343009931246, 'precision': 0.6123994123900595, 'recall': 0.6539343009931246, 'f1-score': 0.6210829694682959, 'macro_f1-score': 0.29605240441167274, 'balanced_accuracy': 0.29323192311958457, 'mcc': 0.5316278161441966, 'train_loss': 0.7416233196173135}\n",
      "Epoch 8/20\n"
     ]
    },
    {
     "name": "stderr",
     "output_type": "stream",
     "text": [
      "100%|██████████| 328/328 [00:29<00:00, 11.24it/s]\n"
     ]
    },
    {
     "name": "stdout",
     "output_type": "stream",
     "text": [
      "{'val_loss': 1.5444872899026405, 'val_accuracy': 0.6447669977081741, 'precision': 0.5938450444666963, 'recall': 0.6447669977081741, 'f1-score': 0.6144753830928319, 'macro_f1-score': 0.2877436700306862, 'balanced_accuracy': 0.28385699053382196, 'mcc': 0.5214779134693093, 'train_loss': 0.6679783692447151}\n",
      "Epoch 9/20\n"
     ]
    },
    {
     "name": "stderr",
     "output_type": "stream",
     "text": [
      "100%|██████████| 328/328 [00:29<00:00, 11.23it/s]\n"
     ]
    },
    {
     "name": "stdout",
     "output_type": "stream",
     "text": [
      "{'val_loss': 1.5719948970690005, 'val_accuracy': 0.6440030557677616, 'precision': 0.6284116867682875, 'recall': 0.6440030557677616, 'f1-score': 0.6308141616579908, 'macro_f1-score': 0.33718310036997773, 'balanced_accuracy': 0.3283850633890086, 'mcc': 0.5303710651765414, 'train_loss': 0.5550391256082349}\n",
      "Epoch 10/20\n"
     ]
    },
    {
     "name": "stderr",
     "output_type": "stream",
     "text": [
      "100%|██████████| 328/328 [00:29<00:00, 11.16it/s]\n"
     ]
    },
    {
     "name": "stdout",
     "output_type": "stream",
     "text": [
      "{'val_loss': 1.622210789381004, 'val_accuracy': 0.6485867074102368, 'precision': 0.6280510617632259, 'recall': 0.6485867074102368, 'f1-score': 0.6292143897882613, 'macro_f1-score': 0.34890373206682873, 'balanced_accuracy': 0.3467080663320869, 'mcc': 0.5282828004827993, 'train_loss': 0.5078775330855534}\n",
      "Epoch 11/20\n"
     ]
    },
    {
     "name": "stderr",
     "output_type": "stream",
     "text": [
      "100%|██████████| 328/328 [00:29<00:00, 11.20it/s]\n"
     ]
    },
    {
     "name": "stdout",
     "output_type": "stream",
     "text": [
      "{'val_loss': 1.5744906002428474, 'val_accuracy': 0.6562261268143621, 'precision': 0.6537564618720362, 'recall': 0.6562261268143621, 'f1-score': 0.6481816603693634, 'macro_f1-score': 0.3744486367089008, 'balanced_accuracy': 0.3712309175022262, 'mcc': 0.5484202101828973, 'train_loss': 0.42316486146982485}\n",
      "Epoch 12/20\n"
     ]
    },
    {
     "name": "stderr",
     "output_type": "stream",
     "text": [
      "100%|██████████| 328/328 [00:29<00:00, 11.18it/s]\n"
     ]
    },
    {
     "name": "stdout",
     "output_type": "stream",
     "text": [
      "{'val_loss': 1.8008957178127476, 'val_accuracy': 0.6493506493506493, 'precision': 0.6102070055062899, 'recall': 0.6493506493506493, 'f1-score': 0.6169633503550417, 'macro_f1-score': 0.33943682094588234, 'balanced_accuracy': 0.31893824267326326, 'mcc': 0.5202279445718533, 'train_loss': 0.3440221968254574}\n",
      "Epoch 13/20\n"
     ]
    },
    {
     "name": "stderr",
     "output_type": "stream",
     "text": [
      "100%|██████████| 328/328 [00:29<00:00, 11.22it/s]\n"
     ]
    },
    {
     "name": "stdout",
     "output_type": "stream",
     "text": [
      "{'val_loss': 1.6582447755627516, 'val_accuracy': 0.6470588235294118, 'precision': 0.642787871876871, 'recall': 0.6470588235294118, 'f1-score': 0.6371190007090485, 'macro_f1-score': 0.382316040947509, 'balanced_accuracy': 0.39034996140468536, 'mcc': 0.5353309623012994, 'train_loss': 0.31250018756495923}\n",
      "Epoch 14/20\n"
     ]
    },
    {
     "name": "stderr",
     "output_type": "stream",
     "text": [
      "100%|██████████| 328/328 [00:29<00:00, 11.18it/s]\n"
     ]
    },
    {
     "name": "stdout",
     "output_type": "stream",
     "text": [
      "{'val_loss': 1.799344828216041, 'val_accuracy': 0.6287242169595111, 'precision': 0.6341672021155903, 'recall': 0.6287242169595111, 'f1-score': 0.6250209993197227, 'macro_f1-score': 0.3480750473460341, 'balanced_accuracy': 0.35339154406400897, 'mcc': 0.5198643053025525, 'train_loss': 0.2861902105746927}\n",
      "Epoch 15/20\n"
     ]
    },
    {
     "name": "stderr",
     "output_type": "stream",
     "text": [
      "100%|██████████| 328/328 [00:29<00:00, 11.16it/s]\n"
     ]
    },
    {
     "name": "stdout",
     "output_type": "stream",
     "text": [
      "{'val_loss': 1.8551247690509005, 'val_accuracy': 0.6470588235294118, 'precision': 0.632374323986155, 'recall': 0.6470588235294118, 'f1-score': 0.6290386428604255, 'macro_f1-score': 0.36623296947431166, 'balanced_accuracy': 0.3462722422255034, 'mcc': 0.5269253987302437, 'train_loss': 0.24990102110953047}\n",
      "Epoch 16/20\n"
     ]
    },
    {
     "name": "stderr",
     "output_type": "stream",
     "text": [
      "100%|██████████| 328/328 [00:29<00:00, 11.23it/s]\n"
     ]
    },
    {
     "name": "stdout",
     "output_type": "stream",
     "text": [
      "{'val_loss': 1.8363125538680611, 'val_accuracy': 0.6378915202444614, 'precision': 0.65774372318132, 'recall': 0.6378915202444614, 'f1-score': 0.6375701124307158, 'macro_f1-score': 0.39864693498794274, 'balanced_accuracy': 0.4102120578502366, 'mcc': 0.5367008224240852, 'train_loss': 0.21920894159049523}\n",
      "Epoch 17/20\n"
     ]
    },
    {
     "name": "stderr",
     "output_type": "stream",
     "text": [
      "100%|██████████| 328/328 [00:29<00:00, 11.22it/s]\n"
     ]
    },
    {
     "name": "stdout",
     "output_type": "stream",
     "text": [
      "{'val_loss': 1.8824906396429713, 'val_accuracy': 0.6569900687547746, 'precision': 0.6445745726475844, 'recall': 0.6569900687547746, 'f1-score': 0.6352609119550725, 'macro_f1-score': 0.3720222574535146, 'balanced_accuracy': 0.35328906670085997, 'mcc': 0.5381039183227424, 'train_loss': 0.21860290841744623}\n",
      "Epoch 18/20\n"
     ]
    },
    {
     "name": "stderr",
     "output_type": "stream",
     "text": [
      "100%|██████████| 328/328 [00:29<00:00, 11.17it/s]\n"
     ]
    },
    {
     "name": "stdout",
     "output_type": "stream",
     "text": [
      "{'val_loss': 1.862169754941289, 'val_accuracy': 0.6447669977081741, 'precision': 0.6407301829819194, 'recall': 0.6447669977081741, 'f1-score': 0.6342720985179846, 'macro_f1-score': 0.38162459607664756, 'balanced_accuracy': 0.3783293779178003, 'mcc': 0.5317514965186179, 'train_loss': 0.2141447992223065}\n",
      "Epoch 19/20\n"
     ]
    },
    {
     "name": "stderr",
     "output_type": "stream",
     "text": [
      "100%|██████████| 328/328 [00:29<00:00, 11.24it/s]\n"
     ]
    },
    {
     "name": "stdout",
     "output_type": "stream",
     "text": [
      "{'val_loss': 1.8443663945285285, 'val_accuracy': 0.6638655462184874, 'precision': 0.6633039373668924, 'recall': 0.6638655462184874, 'f1-score': 0.6554121154236604, 'macro_f1-score': 0.3982747596414368, 'balanced_accuracy': 0.38686491125234956, 'mcc': 0.5531490210391059, 'train_loss': 0.1555874394678806}\n",
      "Early stopping.\n",
      "\n",
      "[Fold 4]\n",
      "Label distribution after resampling:\n",
      "  label 0: 2466\n",
      "  label 1: 21\n",
      "  label 2: 64\n",
      "  label 3: 24\n",
      "  label 4: 191\n",
      "  label 5: 113\n",
      "  label 6: 93\n",
      "  label 7: 30\n",
      "  label 8: 68\n",
      "  label 9: 30\n",
      "  label 10: 67\n",
      "  label 11: 169\n",
      "  label 12: 189\n",
      "  label 13: 29\n",
      "  label 14: 22\n",
      "  label 15: 25\n",
      "  label 16: 19\n",
      "  label 17: 181\n",
      "  label 18: 92\n",
      "  label 19: 44\n",
      "  label 20: 14\n",
      "  label 21: 35\n",
      "  label 22: 76\n",
      "  label 23: 158\n",
      "  label 24: 13\n",
      "  label 25: 44\n",
      "  label 26: 84\n",
      "  label 27: 47\n",
      "  label 28: 11\n",
      "  label 29: 13\n",
      "  label 30: 11\n",
      "  label 31: 75\n",
      "  label 32: 36\n",
      "  label 33: 31\n",
      "  label 34: 30\n",
      "  label 35: 11\n",
      "  label 36: 22\n",
      "  label 37: 16\n",
      "  label 38: 5\n",
      "  label 39: 33\n",
      "  label 40: 10\n",
      "  label 41: 9\n",
      "  label 42: 57\n",
      "  label 43: 7\n",
      "  label 44: 18\n",
      "  label 45: 9\n",
      "  label 46: 54\n",
      "  label 47: 242\n",
      "  label 48: 61\n",
      "  label 49: 68\n",
      "model is bert-base-uncased lstm\n",
      "Epoch 1/20\n"
     ]
    },
    {
     "name": "stderr",
     "output_type": "stream",
     "text": [
      "100%|██████████| 328/328 [00:29<00:00, 11.22it/s]\n"
     ]
    },
    {
     "name": "stdout",
     "output_type": "stream",
     "text": [
      "{'val_loss': 2.037013942875513, 'val_accuracy': 0.5546218487394958, 'precision': 0.34240230882985134, 'recall': 0.5546218487394958, 'f1-score': 0.41656123701512415, 'macro_f1-score': 0.0570463640185812, 'balanced_accuracy': 0.06611155629240735, 'mcc': 0.3272509547341871, 'train_loss': 2.3445550370507124}\n",
      "Epoch 2/20\n"
     ]
    },
    {
     "name": "stderr",
     "output_type": "stream",
     "text": [
      "100%|██████████| 328/328 [00:29<00:00, 11.16it/s]\n"
     ]
    },
    {
     "name": "stdout",
     "output_type": "stream",
     "text": [
      "{'val_loss': 1.8034825506733685, 'val_accuracy': 0.5744843391902216, 'precision': 0.4297518497164974, 'recall': 0.5744843391902216, 'f1-score': 0.4740755039421253, 'macro_f1-score': 0.08134029486408867, 'balanced_accuracy': 0.09701684189838433, 'mcc': 0.3859707913335982, 'train_loss': 1.8457870401623773}\n",
      "Epoch 3/20\n"
     ]
    },
    {
     "name": "stderr",
     "output_type": "stream",
     "text": [
      "100%|██████████| 328/328 [00:29<00:00, 11.21it/s]\n"
     ]
    },
    {
     "name": "stdout",
     "output_type": "stream",
     "text": [
      "{'val_loss': 1.6241520396093043, 'val_accuracy': 0.5958747135217723, 'precision': 0.5241761251552697, 'recall': 0.5958747135217723, 'f1-score': 0.5460593302380115, 'macro_f1-score': 0.15961779227555176, 'balanced_accuracy': 0.1626351412923981, 'mcc': 0.4444910641568334, 'train_loss': 1.5425416025810126}\n",
      "Epoch 4/20\n"
     ]
    },
    {
     "name": "stderr",
     "output_type": "stream",
     "text": [
      "100%|██████████| 328/328 [00:29<00:00, 11.18it/s]\n"
     ]
    },
    {
     "name": "stdout",
     "output_type": "stream",
     "text": [
      "{'val_loss': 1.6953145679904194, 'val_accuracy': 0.6195569136745608, 'precision': 0.5501023107915147, 'recall': 0.6195569136745608, 'f1-score': 0.5710450869562693, 'macro_f1-score': 0.2047880642172057, 'balanced_accuracy': 0.21392052725374128, 'mcc': 0.4803799589439585, 'train_loss': 1.2779732340174477}\n",
      "Epoch 5/20\n"
     ]
    },
    {
     "name": "stderr",
     "output_type": "stream",
     "text": [
      "100%|██████████| 328/328 [00:29<00:00, 11.22it/s]\n"
     ]
    },
    {
     "name": "stdout",
     "output_type": "stream",
     "text": [
      "{'val_loss': 1.594218126884321, 'val_accuracy': 0.612681436210848, 'precision': 0.5729279110804592, 'recall': 0.612681436210848, 'f1-score': 0.5798736770575498, 'macro_f1-score': 0.22898161214838406, 'balanced_accuracy': 0.23320199392420318, 'mcc': 0.48329246164255113, 'train_loss': 1.055802576334738}\n",
      "Epoch 6/20\n"
     ]
    },
    {
     "name": "stderr",
     "output_type": "stream",
     "text": [
      "100%|██████████| 328/328 [00:29<00:00, 11.17it/s]\n"
     ]
    },
    {
     "name": "stdout",
     "output_type": "stream",
     "text": [
      "{'val_loss': 1.6106972996054627, 'val_accuracy': 0.6096256684491979, 'precision': 0.5828947248730725, 'recall': 0.6096256684491979, 'f1-score': 0.5902215168410331, 'macro_f1-score': 0.27795895647018454, 'balanced_accuracy': 0.3035237410721303, 'mcc': 0.48735251978430005, 'train_loss': 0.8546280979019839}\n",
      "Epoch 7/20\n"
     ]
    },
    {
     "name": "stderr",
     "output_type": "stream",
     "text": [
      "100%|██████████| 328/328 [00:29<00:00, 11.16it/s]\n"
     ]
    },
    {
     "name": "stdout",
     "output_type": "stream",
     "text": [
      "{'val_loss': 1.6725889691492406, 'val_accuracy': 0.6035141329258976, 'precision': 0.6025885256815657, 'recall': 0.6035141329258976, 'f1-score': 0.5921912752821298, 'macro_f1-score': 0.2884924697472562, 'balanced_accuracy': 0.30250255779168844, 'mcc': 0.4899998392621525, 'train_loss': 0.7294467622868535}\n",
      "Epoch 8/20\n"
     ]
    },
    {
     "name": "stderr",
     "output_type": "stream",
     "text": [
      "100%|██████████| 328/328 [00:29<00:00, 11.23it/s]\n"
     ]
    },
    {
     "name": "stdout",
     "output_type": "stream",
     "text": [
      "{'val_loss': 1.6723273562767156, 'val_accuracy': 0.6249045072574484, 'precision': 0.5988246773512285, 'recall': 0.6249045072574484, 'f1-score': 0.6030733495829343, 'macro_f1-score': 0.28712239026440184, 'balanced_accuracy': 0.2805870183685774, 'mcc': 0.49612277381507686, 'train_loss': 0.6185826375830646}\n",
      "Epoch 9/20\n"
     ]
    },
    {
     "name": "stderr",
     "output_type": "stream",
     "text": [
      "100%|██████████| 328/328 [00:29<00:00, 11.23it/s]\n"
     ]
    },
    {
     "name": "stdout",
     "output_type": "stream",
     "text": [
      "{'val_loss': 1.7602143020528118, 'val_accuracy': 0.6096256684491979, 'precision': 0.6077000267115973, 'recall': 0.6096256684491979, 'f1-score': 0.602987208124078, 'macro_f1-score': 0.30838953632586746, 'balanced_accuracy': 0.31542739516995166, 'mcc': 0.4921224134042703, 'train_loss': 0.5622176148860556}\n",
      "Epoch 10/20\n"
     ]
    },
    {
     "name": "stderr",
     "output_type": "stream",
     "text": [
      "100%|██████████| 328/328 [00:29<00:00, 11.18it/s]\n"
     ]
    },
    {
     "name": "stdout",
     "output_type": "stream",
     "text": [
      "{'val_loss': 1.731860200806362, 'val_accuracy': 0.640183346065699, 'precision': 0.6231676838103349, 'recall': 0.640183346065699, 'f1-score': 0.6215206404915374, 'macro_f1-score': 0.3393376644139991, 'balanced_accuracy': 0.32170346779470377, 'mcc': 0.5147718582338028, 'train_loss': 0.4430184707658865}\n",
      "Epoch 11/20\n"
     ]
    },
    {
     "name": "stderr",
     "output_type": "stream",
     "text": [
      "100%|██████████| 328/328 [00:29<00:00, 11.24it/s]\n"
     ]
    },
    {
     "name": "stdout",
     "output_type": "stream",
     "text": [
      "{'val_loss': 1.6768810363804423, 'val_accuracy': 0.6294881588999236, 'precision': 0.6280731409972478, 'recall': 0.6294881588999236, 'f1-score': 0.621083585612257, 'macro_f1-score': 0.34066574016310747, 'balanced_accuracy': 0.33257393528430335, 'mcc': 0.5151528600024153, 'train_loss': 0.4003350179438002}\n",
      "Epoch 12/20\n"
     ]
    },
    {
     "name": "stderr",
     "output_type": "stream",
     "text": [
      "100%|██████████| 328/328 [00:29<00:00, 11.24it/s]\n"
     ]
    },
    {
     "name": "stdout",
     "output_type": "stream",
     "text": [
      "{'val_loss': 1.7762111280022599, 'val_accuracy': 0.640183346065699, 'precision': 0.6339874318068954, 'recall': 0.640183346065699, 'f1-score': 0.6302923069981732, 'macro_f1-score': 0.3614810030527344, 'balanced_accuracy': 0.34773763438336575, 'mcc': 0.5219214552402783, 'train_loss': 0.34275987246868816}\n",
      "Epoch 13/20\n"
     ]
    },
    {
     "name": "stderr",
     "output_type": "stream",
     "text": [
      "100%|██████████| 328/328 [00:29<00:00, 11.18it/s]\n"
     ]
    },
    {
     "name": "stdout",
     "output_type": "stream",
     "text": [
      "{'val_loss': 2.021684219924415, 'val_accuracy': 0.5721925133689839, 'precision': 0.6470806211733444, 'recall': 0.5721925133689839, 'f1-score': 0.5933799373606663, 'macro_f1-score': 0.347770413866331, 'balanced_accuracy': 0.39288050643183986, 'mcc': 0.4888505874786049, 'train_loss': 0.28131150816589956}\n",
      "Epoch 14/20\n"
     ]
    },
    {
     "name": "stderr",
     "output_type": "stream",
     "text": [
      "100%|██████████| 328/328 [00:29<00:00, 11.19it/s]\n"
     ]
    },
    {
     "name": "stdout",
     "output_type": "stream",
     "text": [
      "{'val_loss': 1.7891245071844357, 'val_accuracy': 0.6042780748663101, 'precision': 0.6482450469292704, 'recall': 0.6042780748663101, 'f1-score': 0.6163418617498614, 'macro_f1-score': 0.37224045867984706, 'balanced_accuracy': 0.38547431771995294, 'mcc': 0.5060392222892262, 'train_loss': 0.2794131005080644}\n",
      "Epoch 15/20\n"
     ]
    },
    {
     "name": "stderr",
     "output_type": "stream",
     "text": [
      "100%|██████████| 328/328 [00:29<00:00, 11.18it/s]\n"
     ]
    },
    {
     "name": "stdout",
     "output_type": "stream",
     "text": [
      "{'val_loss': 1.895173344125108, 'val_accuracy': 0.6363636363636364, 'precision': 0.6231214130338301, 'recall': 0.6363636363636364, 'f1-score': 0.6267429052107305, 'macro_f1-score': 0.37116010532105287, 'balanced_accuracy': 0.3632423649573312, 'mcc': 0.5193555511206757, 'train_loss': 0.2459125262798696}\n",
      "Epoch 16/20\n"
     ]
    },
    {
     "name": "stderr",
     "output_type": "stream",
     "text": [
      "100%|██████████| 328/328 [00:29<00:00, 11.22it/s]\n"
     ]
    },
    {
     "name": "stdout",
     "output_type": "stream",
     "text": [
      "{'val_loss': 1.9879573658108711, 'val_accuracy': 0.612681436210848, 'precision': 0.6051908047089374, 'recall': 0.612681436210848, 'f1-score': 0.6027283486183316, 'macro_f1-score': 0.31500014431891143, 'balanced_accuracy': 0.2986410569976677, 'mcc': 0.4838670090340064, 'train_loss': 0.239048385998325}\n",
      "Epoch 17/20\n"
     ]
    },
    {
     "name": "stderr",
     "output_type": "stream",
     "text": [
      "100%|██████████| 328/328 [00:29<00:00, 11.19it/s]\n"
     ]
    },
    {
     "name": "stdout",
     "output_type": "stream",
     "text": [
      "{'val_loss': 1.9109645365941814, 'val_accuracy': 0.6256684491978609, 'precision': 0.6326362839604377, 'recall': 0.6256684491978609, 'f1-score': 0.6239232467041261, 'macro_f1-score': 0.38063728961521126, 'balanced_accuracy': 0.3772821512669678, 'mcc': 0.5130127532915021, 'train_loss': 0.2547966705850984}\n",
      "Epoch 18/20\n"
     ]
    },
    {
     "name": "stderr",
     "output_type": "stream",
     "text": [
      "100%|██████████| 328/328 [00:29<00:00, 11.18it/s]\n"
     ]
    },
    {
     "name": "stdout",
     "output_type": "stream",
     "text": [
      "{'val_loss': 1.9837358524886572, 'val_accuracy': 0.6187929717341482, 'precision': 0.625556465836224, 'recall': 0.6187929717341482, 'f1-score': 0.613022730338526, 'macro_f1-score': 0.3628020375177647, 'balanced_accuracy': 0.35053834059671585, 'mcc': 0.4953479195649779, 'train_loss': 0.19791688030108628}\n",
      "Epoch 19/20\n"
     ]
    },
    {
     "name": "stderr",
     "output_type": "stream",
     "text": [
      "100%|██████████| 328/328 [00:29<00:00, 11.24it/s]\n"
     ]
    },
    {
     "name": "stdout",
     "output_type": "stream",
     "text": [
      "{'val_loss': 1.931324644968277, 'val_accuracy': 0.6249045072574484, 'precision': 0.6447142796833655, 'recall': 0.6249045072574484, 'f1-score': 0.6231470631381298, 'macro_f1-score': 0.36802073420048714, 'balanced_accuracy': 0.3564217731360706, 'mcc': 0.5045897154182749, 'train_loss': 0.14864429262489443}\n",
      "Epoch 20/20\n"
     ]
    },
    {
     "name": "stderr",
     "output_type": "stream",
     "text": [
      "100%|██████████| 328/328 [00:29<00:00, 11.23it/s]\n"
     ]
    },
    {
     "name": "stdout",
     "output_type": "stream",
     "text": [
      "{'val_loss': 1.9387355708494418, 'val_accuracy': 0.6333078686019863, 'precision': 0.6385064830345663, 'recall': 0.6333078686019863, 'f1-score': 0.627254560067284, 'macro_f1-score': 0.37426809136335726, 'balanced_accuracy': 0.38291974832178044, 'mcc': 0.5215530564075447, 'train_loss': 0.14082326859565134}\n",
      "Early stopping.\n",
      "\n",
      "[Fold 5]\n",
      "Label distribution after resampling:\n",
      "  label 0: 2466\n",
      "  label 1: 22\n",
      "  label 2: 64\n",
      "  label 3: 24\n",
      "  label 4: 190\n",
      "  label 5: 113\n",
      "  label 6: 93\n",
      "  label 7: 30\n",
      "  label 8: 68\n",
      "  label 9: 30\n",
      "  label 10: 67\n",
      "  label 11: 169\n",
      "  label 12: 189\n",
      "  label 13: 29\n",
      "  label 14: 23\n",
      "  label 15: 24\n",
      "  label 16: 20\n",
      "  label 17: 180\n",
      "  label 18: 92\n",
      "  label 19: 44\n",
      "  label 20: 14\n",
      "  label 21: 35\n",
      "  label 22: 76\n",
      "  label 23: 157\n",
      "  label 24: 13\n",
      "  label 25: 44\n",
      "  label 26: 84\n",
      "  label 27: 47\n",
      "  label 28: 11\n",
      "  label 29: 13\n",
      "  label 30: 11\n",
      "  label 31: 75\n",
      "  label 32: 36\n",
      "  label 33: 31\n",
      "  label 34: 30\n",
      "  label 35: 11\n",
      "  label 36: 22\n",
      "  label 37: 16\n",
      "  label 38: 6\n",
      "  label 39: 33\n",
      "  label 40: 10\n",
      "  label 41: 9\n",
      "  label 42: 57\n",
      "  label 43: 6\n",
      "  label 44: 18\n",
      "  label 45: 9\n",
      "  label 46: 54\n",
      "  label 47: 242\n",
      "  label 48: 62\n",
      "  label 49: 68\n",
      "model is bert-base-uncased lstm\n",
      "Epoch 1/20\n"
     ]
    },
    {
     "name": "stderr",
     "output_type": "stream",
     "text": [
      "100%|██████████| 328/328 [00:29<00:00, 11.16it/s]\n"
     ]
    },
    {
     "name": "stdout",
     "output_type": "stream",
     "text": [
      "{'val_loss': 2.018742552617701, 'val_accuracy': 0.5561497326203209, 'precision': 0.3701480833779757, 'recall': 0.5561497326203209, 'f1-score': 0.4399658207860152, 'macro_f1-score': 0.059075889789369354, 'balanced_accuracy': 0.08018619424054206, 'mcc': 0.3522553145403256, 'train_loss': 2.3151776826963193}\n",
      "Epoch 2/20\n"
     ]
    },
    {
     "name": "stderr",
     "output_type": "stream",
     "text": [
      "100%|██████████| 328/328 [00:29<00:00, 11.24it/s]\n"
     ]
    },
    {
     "name": "stdout",
     "output_type": "stream",
     "text": [
      "{'val_loss': 1.80460146723724, 'val_accuracy': 0.5706646294881589, 'precision': 0.42339085421041395, 'recall': 0.5706646294881589, 'f1-score': 0.466965188009281, 'macro_f1-score': 0.08432793180715567, 'balanced_accuracy': 0.09916237641301581, 'mcc': 0.3764660761761963, 'train_loss': 1.8704387847243287}\n",
      "Epoch 3/20\n"
     ]
    },
    {
     "name": "stderr",
     "output_type": "stream",
     "text": [
      "100%|██████████| 328/328 [00:29<00:00, 11.22it/s]\n"
     ]
    },
    {
     "name": "stdout",
     "output_type": "stream",
     "text": [
      "{'val_loss': 1.6819132588258603, 'val_accuracy': 0.6073338426279603, 'precision': 0.5063951449632259, 'recall': 0.6073338426279603, 'f1-score': 0.5364035591197857, 'macro_f1-score': 0.14635109143117042, 'balanced_accuracy': 0.1569390271190648, 'mcc': 0.4480568062148126, 'train_loss': 1.5728392697325566}\n",
      "Epoch 4/20\n"
     ]
    },
    {
     "name": "stderr",
     "output_type": "stream",
     "text": [
      "100%|██████████| 328/328 [00:29<00:00, 11.17it/s]\n"
     ]
    },
    {
     "name": "stdout",
     "output_type": "stream",
     "text": [
      "{'val_loss': 1.643794167695976, 'val_accuracy': 0.6073338426279603, 'precision': 0.5370464536128821, 'recall': 0.6073338426279603, 'f1-score': 0.5589623003602648, 'macro_f1-score': 0.19038686933311702, 'balanced_accuracy': 0.19188076596008347, 'mcc': 0.4617187466874694, 'train_loss': 1.315773892148239}\n",
      "Epoch 5/20\n"
     ]
    },
    {
     "name": "stderr",
     "output_type": "stream",
     "text": [
      "100%|██████████| 328/328 [00:29<00:00, 11.18it/s]\n"
     ]
    },
    {
     "name": "stdout",
     "output_type": "stream",
     "text": [
      "{'val_loss': 1.6393486065108602, 'val_accuracy': 0.6073338426279603, 'precision': 0.5727180392308293, 'recall': 0.6073338426279603, 'f1-score': 0.5820717180824406, 'macro_f1-score': 0.2494425473535932, 'balanced_accuracy': 0.26713719318252227, 'mcc': 0.48051746327104694, 'train_loss': 1.1063542883025437}\n",
      "Epoch 6/20\n"
     ]
    },
    {
     "name": "stderr",
     "output_type": "stream",
     "text": [
      "100%|██████████| 328/328 [00:29<00:00, 11.19it/s]\n"
     ]
    },
    {
     "name": "stdout",
     "output_type": "stream",
     "text": [
      "{'val_loss': 1.6014928919513052, 'val_accuracy': 0.6210847975553858, 'precision': 0.5875264490339416, 'recall': 0.6210847975553858, 'f1-score': 0.5885497972039135, 'macro_f1-score': 0.26616043516199883, 'balanced_accuracy': 0.26791355364696323, 'mcc': 0.4910073318986446, 'train_loss': 0.9100111001284747}\n",
      "Epoch 7/20\n"
     ]
    },
    {
     "name": "stderr",
     "output_type": "stream",
     "text": [
      "100%|██████████| 328/328 [00:29<00:00, 11.21it/s]\n"
     ]
    },
    {
     "name": "stdout",
     "output_type": "stream",
     "text": [
      "{'val_loss': 1.736045505578925, 'val_accuracy': 0.6294881588999236, 'precision': 0.567816796521343, 'recall': 0.6294881588999236, 'f1-score': 0.5823271208868468, 'macro_f1-score': 0.2645003291441943, 'balanced_accuracy': 0.24585556510240184, 'mcc': 0.48167911835232896, 'train_loss': 0.7838572282798406}\n",
      "Epoch 8/20\n"
     ]
    },
    {
     "name": "stderr",
     "output_type": "stream",
     "text": [
      "100%|██████████| 328/328 [00:29<00:00, 11.19it/s]\n"
     ]
    },
    {
     "name": "stdout",
     "output_type": "stream",
     "text": [
      "{'val_loss': 1.7134000615375797, 'val_accuracy': 0.6279602750190986, 'precision': 0.5991736384667675, 'recall': 0.6279602750190986, 'f1-score': 0.6057528287285939, 'macro_f1-score': 0.3097064962488739, 'balanced_accuracy': 0.31301203849544806, 'mcc': 0.5025889685674098, 'train_loss': 0.6499472980092211}\n",
      "Epoch 9/20\n"
     ]
    },
    {
     "name": "stderr",
     "output_type": "stream",
     "text": [
      "100%|██████████| 328/328 [00:29<00:00, 11.17it/s]\n"
     ]
    },
    {
     "name": "stdout",
     "output_type": "stream",
     "text": [
      "{'val_loss': 1.7855763820613302, 'val_accuracy': 0.6065699006875478, 'precision': 0.5914642668720547, 'recall': 0.6065699006875478, 'f1-score': 0.5845658850275535, 'macro_f1-score': 0.2926768199956754, 'balanced_accuracy': 0.29633556130308725, 'mcc': 0.472616701816429, 'train_loss': 0.5673890816184078}\n",
      "Epoch 10/20\n"
     ]
    },
    {
     "name": "stderr",
     "output_type": "stream",
     "text": [
      "100%|██████████| 328/328 [00:29<00:00, 11.23it/s]\n"
     ]
    },
    {
     "name": "stdout",
     "output_type": "stream",
     "text": [
      "{'val_loss': 1.708684455330779, 'val_accuracy': 0.612681436210848, 'precision': 0.6013695689399209, 'recall': 0.612681436210848, 'f1-score': 0.6018105287892274, 'macro_f1-score': 0.293103440096637, 'balanced_accuracy': 0.30070300091467134, 'mcc': 0.49020149564794685, 'train_loss': 0.49168202093597957}\n",
      "Epoch 11/20\n"
     ]
    },
    {
     "name": "stderr",
     "output_type": "stream",
     "text": [
      "100%|██████████| 328/328 [00:29<00:00, 11.24it/s]\n"
     ]
    },
    {
     "name": "stdout",
     "output_type": "stream",
     "text": [
      "{'val_loss': 1.7969730790795349, 'val_accuracy': 0.6287242169595111, 'precision': 0.6153449450505823, 'recall': 0.6287242169595111, 'f1-score': 0.614352355429252, 'macro_f1-score': 0.3377913524060007, 'balanced_accuracy': 0.33718470292215075, 'mcc': 0.5102429838673652, 'train_loss': 0.3947196395886017}\n",
      "Epoch 12/20\n"
     ]
    },
    {
     "name": "stderr",
     "output_type": "stream",
     "text": [
      "100%|██████████| 328/328 [00:29<00:00, 11.18it/s]\n"
     ]
    },
    {
     "name": "stdout",
     "output_type": "stream",
     "text": [
      "{'val_loss': 1.8399273382454384, 'val_accuracy': 0.6187929717341482, 'precision': 0.619812052870556, 'recall': 0.6187929717341482, 'f1-score': 0.6140415106717014, 'macro_f1-score': 0.3218330093863731, 'balanced_accuracy': 0.3347549918934359, 'mcc': 0.5038276145812102, 'train_loss': 0.339527275100941}\n",
      "Epoch 13/20\n"
     ]
    },
    {
     "name": "stderr",
     "output_type": "stream",
     "text": [
      "100%|██████████| 328/328 [00:29<00:00, 11.24it/s]\n"
     ]
    },
    {
     "name": "stdout",
     "output_type": "stream",
     "text": [
      "{'val_loss': 1.8604027105540764, 'val_accuracy': 0.6294881588999236, 'precision': 0.6173995459383699, 'recall': 0.6294881588999236, 'f1-score': 0.6130133970657632, 'macro_f1-score': 0.3440640109127023, 'balanced_accuracy': 0.33755886150313397, 'mcc': 0.5045796131785825, 'train_loss': 0.305273236258228}\n",
      "Epoch 14/20\n"
     ]
    },
    {
     "name": "stderr",
     "output_type": "stream",
     "text": [
      "100%|██████████| 328/328 [00:29<00:00, 11.23it/s]\n"
     ]
    },
    {
     "name": "stdout",
     "output_type": "stream",
     "text": [
      "{'val_loss': 1.89285164526323, 'val_accuracy': 0.6210847975553858, 'precision': 0.6178945003356056, 'recall': 0.6210847975553858, 'f1-score': 0.6125210848647968, 'macro_f1-score': 0.33570559281047935, 'balanced_accuracy': 0.3349114728132429, 'mcc': 0.49956389685160263, 'train_loss': 0.2557221596560827}\n",
      "Epoch 15/20\n"
     ]
    },
    {
     "name": "stderr",
     "output_type": "stream",
     "text": [
      "100%|██████████| 328/328 [00:29<00:00, 11.19it/s]\n"
     ]
    },
    {
     "name": "stdout",
     "output_type": "stream",
     "text": [
      "{'val_loss': 1.9425373164618887, 'val_accuracy': 0.6103896103896104, 'precision': 0.6345021397012884, 'recall': 0.6103896103896104, 'f1-score': 0.6089388322404268, 'macro_f1-score': 0.3648419138248124, 'balanced_accuracy': 0.36156778765871517, 'mcc': 0.4941600008747461, 'train_loss': 0.23158694549304684}\n",
      "Epoch 16/20\n"
     ]
    },
    {
     "name": "stderr",
     "output_type": "stream",
     "text": [
      "100%|██████████| 328/328 [00:29<00:00, 11.17it/s]\n"
     ]
    },
    {
     "name": "stdout",
     "output_type": "stream",
     "text": [
      "{'val_loss': 1.872026281385887, 'val_accuracy': 0.6378915202444614, 'precision': 0.6329724813603496, 'recall': 0.6378915202444614, 'f1-score': 0.6269243015186645, 'macro_f1-score': 0.3651086895407979, 'balanced_accuracy': 0.36066856739228526, 'mcc': 0.5195024799377462, 'train_loss': 0.2597553586990504}\n",
      "Epoch 17/20\n"
     ]
    },
    {
     "name": "stderr",
     "output_type": "stream",
     "text": [
      "100%|██████████| 328/328 [00:29<00:00, 11.19it/s]\n"
     ]
    },
    {
     "name": "stdout",
     "output_type": "stream",
     "text": [
      "{'val_loss': 1.9245941907894322, 'val_accuracy': 0.6294881588999236, 'precision': 0.6251597996961515, 'recall': 0.6294881588999236, 'f1-score': 0.6171275655907824, 'macro_f1-score': 0.3840736386901931, 'balanced_accuracy': 0.3746774833017597, 'mcc': 0.5027579092753538, 'train_loss': 0.21328784744028093}\n",
      "Epoch 18/20\n"
     ]
    },
    {
     "name": "stderr",
     "output_type": "stream",
     "text": [
      "100%|██████████| 328/328 [00:29<00:00, 11.16it/s]\n"
     ]
    },
    {
     "name": "stdout",
     "output_type": "stream",
     "text": [
      "{'val_loss': 1.9779317800591631, 'val_accuracy': 0.6294881588999236, 'precision': 0.6132653429759053, 'recall': 0.6294881588999236, 'f1-score': 0.6110736256822824, 'macro_f1-score': 0.36113838228322287, 'balanced_accuracy': 0.3519804439701128, 'mcc': 0.49692712251126353, 'train_loss': 0.17238773856164388}\n",
      "Epoch 19/20\n"
     ]
    },
    {
     "name": "stderr",
     "output_type": "stream",
     "text": [
      "100%|██████████| 328/328 [00:29<00:00, 11.16it/s]\n"
     ]
    },
    {
     "name": "stdout",
     "output_type": "stream",
     "text": [
      "{'val_loss': 2.0147451191413692, 'val_accuracy': 0.6447669977081741, 'precision': 0.6358570913004948, 'recall': 0.6447669977081741, 'f1-score': 0.6329369387825255, 'macro_f1-score': 0.40188326343391767, 'balanced_accuracy': 0.3900209367291747, 'mcc': 0.5246212728024865, 'train_loss': 0.1437765654778426}\n",
      "Epoch 20/20\n"
     ]
    },
    {
     "name": "stderr",
     "output_type": "stream",
     "text": [
      "100%|██████████| 328/328 [00:29<00:00, 11.17it/s]\n"
     ]
    },
    {
     "name": "stdout",
     "output_type": "stream",
     "text": [
      "{'val_loss': 2.1081821191601637, 'val_accuracy': 0.6317799847211611, 'precision': 0.6202343932625932, 'recall': 0.6317799847211611, 'f1-score': 0.617441702492182, 'macro_f1-score': 0.39456393816782026, 'balanced_accuracy': 0.35986174510716834, 'mcc': 0.5006765249871098, 'train_loss': 0.10983998193291993}\n",
      "\n",
      " === bert-base-uncased + lstm + none Final 5-fold Cross-Validation Results ===\n",
      "val_loss: 1.9103\n",
      "val_accuracy: 0.6399\n",
      "precision: 0.6402\n",
      "recall: 0.6399\n",
      "f1-score: 0.6316\n",
      "macro_f1-score: 0.3838\n",
      "balanced_accuracy: 0.3807\n",
      "mcc: 0.5256\n",
      "train_loss: 0.2031\n",
      "total_seconds: 3155.0000\n",
      "total_time: 0 hrs 52 mins 35 secs\n",
      "▶ Running: bert-base-uncased + bilstm + none\n",
      "tokenizer is bert-base-uncased\n",
      "Using device: cuda\n",
      "CUDA Available: True\n",
      "CUDA Device: NVIDIA GeForce RTX 5070 Ti\n",
      "Current GPU Memory Allocated: 0.02 GB\n",
      "Current GPU Memory Cached: 3.05 GB\n",
      "\n",
      "[Fold 1]\n",
      "Label distribution after resampling:\n",
      "  label 0: 2465\n",
      "  label 1: 22\n",
      "  label 2: 64\n",
      "  label 3: 24\n",
      "  label 4: 190\n",
      "  label 5: 112\n",
      "  label 6: 93\n",
      "  label 7: 30\n",
      "  label 8: 68\n",
      "  label 9: 30\n",
      "  label 10: 67\n",
      "  label 11: 169\n",
      "  label 12: 190\n",
      "  label 13: 28\n",
      "  label 14: 23\n",
      "  label 15: 25\n",
      "  label 16: 19\n",
      "  label 17: 181\n",
      "  label 18: 92\n",
      "  label 19: 44\n",
      "  label 20: 14\n",
      "  label 21: 35\n",
      "  label 22: 76\n",
      "  label 23: 157\n",
      "  label 24: 13\n",
      "  label 25: 44\n",
      "  label 26: 84\n",
      "  label 27: 47\n",
      "  label 28: 11\n",
      "  label 29: 13\n",
      "  label 30: 11\n",
      "  label 31: 76\n",
      "  label 32: 36\n",
      "  label 33: 32\n",
      "  label 34: 29\n",
      "  label 35: 11\n",
      "  label 36: 22\n",
      "  label 37: 16\n",
      "  label 38: 6\n",
      "  label 39: 32\n",
      "  label 40: 10\n",
      "  label 41: 9\n",
      "  label 42: 57\n",
      "  label 43: 6\n",
      "  label 44: 19\n",
      "  label 45: 8\n",
      "  label 46: 55\n",
      "  label 47: 241\n",
      "  label 48: 62\n",
      "  label 49: 68\n",
      "model is bert-base-uncased bilstm\n",
      "Epoch 1/20\n"
     ]
    },
    {
     "name": "stderr",
     "output_type": "stream",
     "text": [
      "100%|██████████| 328/328 [00:30<00:00, 10.81it/s]\n"
     ]
    },
    {
     "name": "stdout",
     "output_type": "stream",
     "text": [
      "{'val_loss': 2.0391566804269465, 'val_accuracy': 0.5503816793893129, 'precision': 0.3951284359220588, 'recall': 0.5503816793893129, 'f1-score': 0.42682577340389083, 'macro_f1-score': 0.056349104115440404, 'balanced_accuracy': 0.07649987708880081, 'mcc': 0.33506447648433463, 'train_loss': 2.308037138203295}\n",
      "Epoch 2/20\n"
     ]
    },
    {
     "name": "stderr",
     "output_type": "stream",
     "text": [
      "100%|██████████| 328/328 [00:30<00:00, 10.81it/s]\n"
     ]
    },
    {
     "name": "stdout",
     "output_type": "stream",
     "text": [
      "{'val_loss': 1.8033391571626431, 'val_accuracy': 0.5862595419847328, 'precision': 0.4495183750693758, 'recall': 0.5862595419847328, 'f1-score': 0.4775164134096397, 'macro_f1-score': 0.08904627504997553, 'balanced_accuracy': 0.10206648314303321, 'mcc': 0.40041714002461803, 'train_loss': 1.817618451285653}\n",
      "Epoch 3/20\n"
     ]
    },
    {
     "name": "stderr",
     "output_type": "stream",
     "text": [
      "100%|██████████| 328/328 [00:30<00:00, 10.71it/s]\n"
     ]
    },
    {
     "name": "stdout",
     "output_type": "stream",
     "text": [
      "{'val_loss': 1.6360289926935987, 'val_accuracy': 0.5916030534351145, 'precision': 0.515129533314773, 'recall': 0.5916030534351145, 'f1-score': 0.5294912415278766, 'macro_f1-score': 0.13377145558216375, 'balanced_accuracy': 0.14868147550771507, 'mcc': 0.43449656645099877, 'train_loss': 1.5120336859509713}\n",
      "Epoch 4/20\n"
     ]
    },
    {
     "name": "stderr",
     "output_type": "stream",
     "text": [
      "100%|██████████| 328/328 [00:30<00:00, 10.80it/s]\n"
     ]
    },
    {
     "name": "stdout",
     "output_type": "stream",
     "text": [
      "{'val_loss': 1.5893490528914986, 'val_accuracy': 0.6259541984732825, 'precision': 0.5616366293522983, 'recall': 0.6259541984732825, 'f1-score': 0.5682355337823373, 'macro_f1-score': 0.1978417087699896, 'balanced_accuracy': 0.20371033582578224, 'mcc': 0.481712759706584, 'train_loss': 1.2184708505505468}\n",
      "Epoch 5/20\n"
     ]
    },
    {
     "name": "stderr",
     "output_type": "stream",
     "text": [
      "100%|██████████| 328/328 [00:30<00:00, 10.81it/s]\n"
     ]
    },
    {
     "name": "stdout",
     "output_type": "stream",
     "text": [
      "{'val_loss': 1.4903365271847422, 'val_accuracy': 0.650381679389313, 'precision': 0.598319050288237, 'recall': 0.650381679389313, 'f1-score': 0.6135226789556101, 'macro_f1-score': 0.2797339455724209, 'balanced_accuracy': 0.2948021866350483, 'mcc': 0.5272336342051173, 'train_loss': 0.9837216926148025}\n",
      "Epoch 6/20\n"
     ]
    },
    {
     "name": "stderr",
     "output_type": "stream",
     "text": [
      "100%|██████████| 328/328 [00:30<00:00, 10.71it/s]\n"
     ]
    },
    {
     "name": "stdout",
     "output_type": "stream",
     "text": [
      "{'val_loss': 1.6493587802822998, 'val_accuracy': 0.6374045801526718, 'precision': 0.586509713765399, 'recall': 0.6374045801526718, 'f1-score': 0.5985746198818573, 'macro_f1-score': 0.2757207590827363, 'balanced_accuracy': 0.2655431520302455, 'mcc': 0.49861132255651175, 'train_loss': 0.7792037556447634}\n",
      "Epoch 7/20\n"
     ]
    },
    {
     "name": "stderr",
     "output_type": "stream",
     "text": [
      "100%|██████████| 328/328 [00:30<00:00, 10.75it/s]\n"
     ]
    },
    {
     "name": "stdout",
     "output_type": "stream",
     "text": [
      "{'val_loss': 1.6383501556588382, 'val_accuracy': 0.6137404580152672, 'precision': 0.6047605500063808, 'recall': 0.6137404580152672, 'f1-score': 0.6018950977516532, 'macro_f1-score': 0.2942537329861787, 'balanced_accuracy': 0.3107490583254088, 'mcc': 0.49926857529681484, 'train_loss': 0.59570757958402}\n",
      "Epoch 8/20\n"
     ]
    },
    {
     "name": "stderr",
     "output_type": "stream",
     "text": [
      "100%|██████████| 328/328 [00:30<00:00, 10.76it/s]\n"
     ]
    },
    {
     "name": "stdout",
     "output_type": "stream",
     "text": [
      "{'val_loss': 1.7353672019955588, 'val_accuracy': 0.649618320610687, 'precision': 0.6252684242673584, 'recall': 0.649618320610687, 'f1-score': 0.6248595209598559, 'macro_f1-score': 0.315735294321752, 'balanced_accuracy': 0.3108387509119974, 'mcc': 0.5255007452886072, 'train_loss': 0.46191210825586826}\n",
      "Epoch 9/20\n"
     ]
    },
    {
     "name": "stderr",
     "output_type": "stream",
     "text": [
      "100%|██████████| 328/328 [00:30<00:00, 10.80it/s]\n"
     ]
    },
    {
     "name": "stdout",
     "output_type": "stream",
     "text": [
      "{'val_loss': 1.7343732863664627, 'val_accuracy': 0.6297709923664122, 'precision': 0.6336325466184102, 'recall': 0.6297709923664122, 'f1-score': 0.6234849149358592, 'macro_f1-score': 0.33977324922520613, 'balanced_accuracy': 0.347403146241294, 'mcc': 0.5159327798641203, 'train_loss': 0.38078017878096276}\n",
      "Epoch 10/20\n"
     ]
    },
    {
     "name": "stderr",
     "output_type": "stream",
     "text": [
      "100%|██████████| 328/328 [00:30<00:00, 10.72it/s]\n"
     ]
    },
    {
     "name": "stdout",
     "output_type": "stream",
     "text": [
      "{'val_loss': 1.8104545948345487, 'val_accuracy': 0.6458015267175573, 'precision': 0.6299419051910339, 'recall': 0.6458015267175573, 'f1-score': 0.623467159421225, 'macro_f1-score': 0.3184808533528676, 'balanced_accuracy': 0.30613829841042395, 'mcc': 0.5213396316963816, 'train_loss': 0.2874355028360719}\n",
      "Epoch 11/20\n"
     ]
    },
    {
     "name": "stderr",
     "output_type": "stream",
     "text": [
      "100%|██████████| 328/328 [00:30<00:00, 10.74it/s]\n"
     ]
    },
    {
     "name": "stdout",
     "output_type": "stream",
     "text": [
      "{'val_loss': 1.695750363716265, 'val_accuracy': 0.6396946564885496, 'precision': 0.6587850588275688, 'recall': 0.6396946564885496, 'f1-score': 0.6403781040575898, 'macro_f1-score': 0.3838002455788571, 'balanced_accuracy': 0.40079568619044076, 'mcc': 0.5354515160460458, 'train_loss': 0.23119699090105914}\n",
      "Epoch 12/20\n"
     ]
    },
    {
     "name": "stderr",
     "output_type": "stream",
     "text": [
      "100%|██████████| 328/328 [00:30<00:00, 10.81it/s]\n"
     ]
    },
    {
     "name": "stdout",
     "output_type": "stream",
     "text": [
      "{'val_loss': 1.8098447222898646, 'val_accuracy': 0.649618320610687, 'precision': 0.6529610831559202, 'recall': 0.649618320610687, 'f1-score': 0.6408392387230019, 'macro_f1-score': 0.38000133460800223, 'balanced_accuracy': 0.373131211360594, 'mcc': 0.5382869731683381, 'train_loss': 0.168943206481522}\n",
      "Epoch 13/20\n"
     ]
    },
    {
     "name": "stderr",
     "output_type": "stream",
     "text": [
      "100%|██████████| 328/328 [00:30<00:00, 10.74it/s]\n"
     ]
    },
    {
     "name": "stdout",
     "output_type": "stream",
     "text": [
      "{'val_loss': 1.995237771694253, 'val_accuracy': 0.6511450381679389, 'precision': 0.641008885728398, 'recall': 0.6511450381679389, 'f1-score': 0.6316711055363651, 'macro_f1-score': 0.3693742355056161, 'balanced_accuracy': 0.3740866829993582, 'mcc': 0.5299135336519936, 'train_loss': 0.1494447187216748}\n",
      "Epoch 14/20\n"
     ]
    },
    {
     "name": "stderr",
     "output_type": "stream",
     "text": [
      "100%|██████████| 328/328 [00:30<00:00, 10.76it/s]\n"
     ]
    },
    {
     "name": "stdout",
     "output_type": "stream",
     "text": [
      "{'val_loss': 1.9766948488427372, 'val_accuracy': 0.6618320610687023, 'precision': 0.6541775035843183, 'recall': 0.6618320610687023, 'f1-score': 0.6429264742536748, 'macro_f1-score': 0.3730031888881761, 'balanced_accuracy': 0.34910520110483967, 'mcc': 0.5396340116224488, 'train_loss': 0.131151440153012}\n",
      "Early stopping.\n",
      "\n",
      "[Fold 2]\n",
      "Label distribution after resampling:\n",
      "  label 0: 2465\n",
      "  label 1: 22\n",
      "  label 2: 64\n",
      "  label 3: 24\n",
      "  label 4: 190\n",
      "  label 5: 113\n",
      "  label 6: 93\n",
      "  label 7: 31\n",
      "  label 8: 68\n",
      "  label 9: 29\n",
      "  label 10: 67\n",
      "  label 11: 169\n",
      "  label 12: 190\n",
      "  label 13: 29\n",
      "  label 14: 22\n",
      "  label 15: 25\n",
      "  label 16: 19\n",
      "  label 17: 181\n",
      "  label 18: 92\n",
      "  label 19: 44\n",
      "  label 20: 13\n",
      "  label 21: 35\n",
      "  label 22: 76\n",
      "  label 23: 158\n",
      "  label 24: 13\n",
      "  label 25: 44\n",
      "  label 26: 84\n",
      "  label 27: 47\n",
      "  label 28: 12\n",
      "  label 29: 12\n",
      "  label 30: 12\n",
      "  label 31: 75\n",
      "  label 32: 36\n",
      "  label 33: 31\n",
      "  label 34: 29\n",
      "  label 35: 12\n",
      "  label 36: 21\n",
      "  label 37: 16\n",
      "  label 38: 6\n",
      "  label 39: 33\n",
      "  label 40: 11\n",
      "  label 41: 8\n",
      "  label 42: 56\n",
      "  label 43: 6\n",
      "  label 44: 19\n",
      "  label 45: 9\n",
      "  label 46: 55\n",
      "  label 47: 241\n",
      "  label 48: 62\n",
      "  label 49: 68\n",
      "model is bert-base-uncased bilstm\n",
      "Epoch 1/20\n"
     ]
    },
    {
     "name": "stderr",
     "output_type": "stream",
     "text": [
      "100%|██████████| 328/328 [00:30<00:00, 10.82it/s]\n"
     ]
    },
    {
     "name": "stdout",
     "output_type": "stream",
     "text": [
      "{'val_loss': 1.9712886286944877, 'val_accuracy': 0.5508021390374331, 'precision': 0.34329437764709514, 'recall': 0.5508021390374331, 'f1-score': 0.4188148769686923, 'macro_f1-score': 0.05095966443736871, 'balanced_accuracy': 0.07390113399470548, 'mcc': 0.3346896830758206, 'train_loss': 2.3276517216752217}\n",
      "Epoch 2/20\n"
     ]
    },
    {
     "name": "stderr",
     "output_type": "stream",
     "text": [
      "100%|██████████| 328/328 [00:30<00:00, 10.80it/s]\n"
     ]
    },
    {
     "name": "stdout",
     "output_type": "stream",
     "text": [
      "{'val_loss': 1.7158533719981588, 'val_accuracy': 0.5836516424751719, 'precision': 0.43798050504951236, 'recall': 0.5836516424751719, 'f1-score': 0.48863847319192477, 'macro_f1-score': 0.09243184132667949, 'balanced_accuracy': 0.11187104491458243, 'mcc': 0.4080778587829097, 'train_loss': 1.8438629880547523}\n",
      "Epoch 3/20\n"
     ]
    },
    {
     "name": "stderr",
     "output_type": "stream",
     "text": [
      "100%|██████████| 328/328 [00:30<00:00, 10.63it/s]\n"
     ]
    },
    {
     "name": "stdout",
     "output_type": "stream",
     "text": [
      "{'val_loss': 1.6046864920999946, 'val_accuracy': 0.612681436210848, 'precision': 0.523564615615024, 'recall': 0.612681436210848, 'f1-score': 0.5389043882759883, 'macro_f1-score': 0.16428967456132063, 'balanced_accuracy': 0.17944811575852043, 'mcc': 0.455626731408265, 'train_loss': 1.487383036170064}\n",
      "Epoch 4/20\n"
     ]
    },
    {
     "name": "stderr",
     "output_type": "stream",
     "text": [
      "100%|██████████| 328/328 [00:30<00:00, 10.81it/s]\n"
     ]
    },
    {
     "name": "stdout",
     "output_type": "stream",
     "text": [
      "{'val_loss': 1.5083041925255845, 'val_accuracy': 0.6210847975553858, 'precision': 0.5600970771559693, 'recall': 0.6210847975553858, 'f1-score': 0.5794439336321865, 'macro_f1-score': 0.2267280689963776, 'balanced_accuracy': 0.23893965025337432, 'mcc': 0.48505180136180714, 'train_loss': 1.1933970276902361}\n",
      "Epoch 5/20\n"
     ]
    },
    {
     "name": "stderr",
     "output_type": "stream",
     "text": [
      "100%|██████████| 328/328 [00:30<00:00, 10.76it/s]\n"
     ]
    },
    {
     "name": "stdout",
     "output_type": "stream",
     "text": [
      "{'val_loss': 1.598122840610946, 'val_accuracy': 0.6333078686019863, 'precision': 0.5766619514530318, 'recall': 0.6333078686019863, 'f1-score': 0.5925913593584597, 'macro_f1-score': 0.23378836827211175, 'balanced_accuracy': 0.23313472587851064, 'mcc': 0.4985969430264171, 'train_loss': 0.9233013402852344}\n",
      "Epoch 6/20\n"
     ]
    },
    {
     "name": "stderr",
     "output_type": "stream",
     "text": [
      "100%|██████████| 328/328 [00:30<00:00, 10.79it/s]\n"
     ]
    },
    {
     "name": "stdout",
     "output_type": "stream",
     "text": [
      "{'val_loss': 1.4968150305311854, 'val_accuracy': 0.6363636363636364, 'precision': 0.6132599788115726, 'recall': 0.6363636363636364, 'f1-score': 0.6168527547721583, 'macro_f1-score': 0.3077286799666145, 'balanced_accuracy': 0.31942592459179986, 'mcc': 0.5197543662691687, 'train_loss': 0.7071420899933067}\n",
      "Epoch 7/20\n"
     ]
    },
    {
     "name": "stderr",
     "output_type": "stream",
     "text": [
      "100%|██████████| 328/328 [00:30<00:00, 10.72it/s]\n"
     ]
    },
    {
     "name": "stdout",
     "output_type": "stream",
     "text": [
      "{'val_loss': 1.578913835854065, 'val_accuracy': 0.6470588235294118, 'precision': 0.6208530665098584, 'recall': 0.6470588235294118, 'f1-score': 0.625236503590601, 'macro_f1-score': 0.306441910496891, 'balanced_accuracy': 0.29568395208061415, 'mcc': 0.5236976647431918, 'train_loss': 0.556522460120571}\n",
      "Epoch 8/20\n"
     ]
    },
    {
     "name": "stderr",
     "output_type": "stream",
     "text": [
      "100%|██████████| 328/328 [00:30<00:00, 10.78it/s]\n"
     ]
    },
    {
     "name": "stdout",
     "output_type": "stream",
     "text": [
      "{'val_loss': 1.5728662791775494, 'val_accuracy': 0.6478227654698243, 'precision': 0.6232055348501978, 'recall': 0.6478227654698243, 'f1-score': 0.6272436968230497, 'macro_f1-score': 0.3351111928510744, 'balanced_accuracy': 0.3386048223586277, 'mcc': 0.5287107548725424, 'train_loss': 0.42161652511667186}\n",
      "Epoch 9/20\n"
     ]
    },
    {
     "name": "stderr",
     "output_type": "stream",
     "text": [
      "100%|██████████| 328/328 [00:30<00:00, 10.81it/s]\n"
     ]
    },
    {
     "name": "stdout",
     "output_type": "stream",
     "text": [
      "{'val_loss': 1.8319750333704599, 'val_accuracy': 0.6539343009931246, 'precision': 0.6316553841971143, 'recall': 0.6539343009931246, 'f1-score': 0.6282650301201949, 'macro_f1-score': 0.33425242516840276, 'balanced_accuracy': 0.32723792758005255, 'mcc': 0.5279359737104227, 'train_loss': 0.32278778769711897}\n",
      "Epoch 10/20\n"
     ]
    },
    {
     "name": "stderr",
     "output_type": "stream",
     "text": [
      "100%|██████████| 328/328 [00:30<00:00, 10.71it/s]\n"
     ]
    },
    {
     "name": "stdout",
     "output_type": "stream",
     "text": [
      "{'val_loss': 1.6989544768158982, 'val_accuracy': 0.6501145912910619, 'precision': 0.6360626300649456, 'recall': 0.6501145912910619, 'f1-score': 0.633017416231131, 'macro_f1-score': 0.3588899377611146, 'balanced_accuracy': 0.3551562215595888, 'mcc': 0.5324185770459141, 'train_loss': 0.2734844315649442}\n",
      "Epoch 11/20\n"
     ]
    },
    {
     "name": "stderr",
     "output_type": "stream",
     "text": [
      "100%|██████████| 328/328 [00:30<00:00, 10.81it/s]\n"
     ]
    },
    {
     "name": "stdout",
     "output_type": "stream",
     "text": [
      "{'val_loss': 1.709409583632539, 'val_accuracy': 0.6325439266615738, 'precision': 0.6268968459705266, 'recall': 0.6325439266615738, 'f1-score': 0.6211030356152366, 'macro_f1-score': 0.3580090408205324, 'balanced_accuracy': 0.3562077043056556, 'mcc': 0.5134157014260796, 'train_loss': 0.22534455176692728}\n",
      "Epoch 12/20\n"
     ]
    },
    {
     "name": "stderr",
     "output_type": "stream",
     "text": [
      "100%|██████████| 328/328 [00:30<00:00, 10.80it/s]\n"
     ]
    },
    {
     "name": "stdout",
     "output_type": "stream",
     "text": [
      "{'val_loss': 1.8190095035768137, 'val_accuracy': 0.6501145912910619, 'precision': 0.6367647318045534, 'recall': 0.6501145912910619, 'f1-score': 0.6308147524401321, 'macro_f1-score': 0.3578889837564181, 'balanced_accuracy': 0.36814626429821096, 'mcc': 0.5295986774260741, 'train_loss': 0.17761157790771062}\n",
      "Epoch 13/20\n"
     ]
    },
    {
     "name": "stderr",
     "output_type": "stream",
     "text": [
      "100%|██████████| 328/328 [00:30<00:00, 10.76it/s]\n"
     ]
    },
    {
     "name": "stdout",
     "output_type": "stream",
     "text": [
      "{'val_loss': 1.8665425195926573, 'val_accuracy': 0.6363636363636364, 'precision': 0.6450384406435159, 'recall': 0.6363636363636364, 'f1-score': 0.633938323319107, 'macro_f1-score': 0.3994373007387367, 'balanced_accuracy': 0.42342472731899855, 'mcc': 0.5277755155633943, 'train_loss': 0.14484848795464353}\n",
      "Epoch 14/20\n"
     ]
    },
    {
     "name": "stderr",
     "output_type": "stream",
     "text": [
      "100%|██████████| 328/328 [00:30<00:00, 10.69it/s]\n"
     ]
    },
    {
     "name": "stdout",
     "output_type": "stream",
     "text": [
      "{'val_loss': 1.9149976418149182, 'val_accuracy': 0.6287242169595111, 'precision': 0.650984020311287, 'recall': 0.6287242169595111, 'f1-score': 0.632269576716963, 'macro_f1-score': 0.3930091091966854, 'balanced_accuracy': 0.41048697892267244, 'mcc': 0.5170081191187699, 'train_loss': 0.1508647908467981}\n",
      "Epoch 15/20\n"
     ]
    },
    {
     "name": "stderr",
     "output_type": "stream",
     "text": [
      "100%|██████████| 328/328 [00:30<00:00, 10.79it/s]\n"
     ]
    },
    {
     "name": "stdout",
     "output_type": "stream",
     "text": [
      "{'val_loss': 2.004004899139811, 'val_accuracy': 0.6455309396485867, 'precision': 0.6390273987659327, 'recall': 0.6455309396485867, 'f1-score': 0.6268418512018682, 'macro_f1-score': 0.3813811192196468, 'balanced_accuracy': 0.3776864939864432, 'mcc': 0.5237171080430167, 'train_loss': 0.13222812969527184}\n",
      "Epoch 16/20\n"
     ]
    },
    {
     "name": "stderr",
     "output_type": "stream",
     "text": [
      "100%|██████████| 328/328 [00:30<00:00, 10.72it/s]\n"
     ]
    },
    {
     "name": "stdout",
     "output_type": "stream",
     "text": [
      "{'val_loss': 1.9341121395913565, 'val_accuracy': 0.6363636363636364, 'precision': 0.6577769612176109, 'recall': 0.6363636363636364, 'f1-score': 0.6386962670611468, 'macro_f1-score': 0.39415016741891795, 'balanced_accuracy': 0.3888719661649898, 'mcc': 0.5264837006378414, 'train_loss': 0.10942346812225878}\n",
      "Early stopping.\n",
      "\n",
      "[Fold 3]\n",
      "Label distribution after resampling:\n",
      "  label 0: 2466\n",
      "  label 1: 21\n",
      "  label 2: 64\n",
      "  label 3: 24\n",
      "  label 4: 191\n",
      "  label 5: 113\n",
      "  label 6: 92\n",
      "  label 7: 31\n",
      "  label 8: 68\n",
      "  label 9: 29\n",
      "  label 10: 68\n",
      "  label 11: 168\n",
      "  label 12: 190\n",
      "  label 13: 29\n",
      "  label 14: 22\n",
      "  label 15: 25\n",
      "  label 16: 19\n",
      "  label 17: 181\n",
      "  label 18: 92\n",
      "  label 19: 44\n",
      "  label 20: 13\n",
      "  label 21: 36\n",
      "  label 22: 76\n",
      "  label 23: 158\n",
      "  label 24: 12\n",
      "  label 25: 44\n",
      "  label 26: 84\n",
      "  label 27: 48\n",
      "  label 28: 11\n",
      "  label 29: 13\n",
      "  label 30: 11\n",
      "  label 31: 75\n",
      "  label 32: 36\n",
      "  label 33: 31\n",
      "  label 34: 30\n",
      "  label 35: 11\n",
      "  label 36: 21\n",
      "  label 37: 16\n",
      "  label 38: 5\n",
      "  label 39: 33\n",
      "  label 40: 11\n",
      "  label 41: 9\n",
      "  label 42: 57\n",
      "  label 43: 7\n",
      "  label 44: 18\n",
      "  label 45: 9\n",
      "  label 46: 54\n",
      "  label 47: 242\n",
      "  label 48: 61\n",
      "  label 49: 68\n",
      "model is bert-base-uncased bilstm\n",
      "Epoch 1/20\n"
     ]
    },
    {
     "name": "stderr",
     "output_type": "stream",
     "text": [
      "100%|██████████| 328/328 [00:30<00:00, 10.75it/s]\n"
     ]
    },
    {
     "name": "stdout",
     "output_type": "stream",
     "text": [
      "{'val_loss': 2.093222794009418, 'val_accuracy': 0.5301757066462949, 'precision': 0.3042995484222508, 'recall': 0.5301757066462949, 'f1-score': 0.3855288067062954, 'macro_f1-score': 0.04102074590065951, 'balanced_accuracy': 0.05607988701605723, 'mcc': 0.2775595714163265, 'train_loss': 2.399995458198757}\n",
      "Epoch 2/20\n"
     ]
    },
    {
     "name": "stderr",
     "output_type": "stream",
     "text": [
      "100%|██████████| 328/328 [00:30<00:00, 10.74it/s]\n"
     ]
    },
    {
     "name": "stdout",
     "output_type": "stream",
     "text": [
      "{'val_loss': 1.8782419133477095, 'val_accuracy': 0.5637891520244461, 'precision': 0.40808849694835536, 'recall': 0.5637891520244461, 'f1-score': 0.4655984803883885, 'macro_f1-score': 0.06780947860617546, 'balanced_accuracy': 0.09009429105173787, 'mcc': 0.3799640541885765, 'train_loss': 1.9534599612035402}\n",
      "Epoch 3/20\n"
     ]
    },
    {
     "name": "stderr",
     "output_type": "stream",
     "text": [
      "100%|██████████| 328/328 [00:30<00:00, 10.81it/s]\n"
     ]
    },
    {
     "name": "stdout",
     "output_type": "stream",
     "text": [
      "{'val_loss': 1.7183333439071005, 'val_accuracy': 0.586707410236822, 'precision': 0.4651408544427601, 'recall': 0.586707410236822, 'f1-score': 0.4935989300900213, 'macro_f1-score': 0.1112629784014873, 'balanced_accuracy': 0.12391376401172796, 'mcc': 0.41116631373616747, 'train_loss': 1.6490800555159406}\n",
      "Epoch 4/20\n"
     ]
    },
    {
     "name": "stderr",
     "output_type": "stream",
     "text": [
      "100%|██████████| 328/328 [00:30<00:00, 10.78it/s]\n"
     ]
    },
    {
     "name": "stdout",
     "output_type": "stream",
     "text": [
      "{'val_loss': 1.609778684086916, 'val_accuracy': 0.6027501909854851, 'precision': 0.5490317429916167, 'recall': 0.6027501909854851, 'f1-score': 0.555522347221369, 'macro_f1-score': 0.16374092308806656, 'balanced_accuracy': 0.17467451806679768, 'mcc': 0.4613978050662971, 'train_loss': 1.3920424697784388}\n",
      "Epoch 5/20\n"
     ]
    },
    {
     "name": "stderr",
     "output_type": "stream",
     "text": [
      "100%|██████████| 328/328 [00:30<00:00, 10.71it/s]\n"
     ]
    },
    {
     "name": "stdout",
     "output_type": "stream",
     "text": [
      "{'val_loss': 1.5802178630014745, 'val_accuracy': 0.6065699006875478, 'precision': 0.5312794660315502, 'recall': 0.6065699006875478, 'f1-score': 0.5521162337396338, 'macro_f1-score': 0.17229688256950354, 'balanced_accuracy': 0.17956407794196536, 'mcc': 0.4557493528166767, 'train_loss': 1.1392443498096816}\n",
      "Epoch 6/20\n"
     ]
    },
    {
     "name": "stderr",
     "output_type": "stream",
     "text": [
      "100%|██████████| 328/328 [00:30<00:00, 10.81it/s]\n"
     ]
    },
    {
     "name": "stdout",
     "output_type": "stream",
     "text": [
      "{'val_loss': 1.5884364483560003, 'val_accuracy': 0.6042780748663101, 'precision': 0.5973859201158626, 'recall': 0.6042780748663101, 'f1-score': 0.5884935258292883, 'macro_f1-score': 0.2527276975838574, 'balanced_accuracy': 0.2528794661251748, 'mcc': 0.4827332925198051, 'train_loss': 0.9514127051594053}\n",
      "Epoch 7/20\n"
     ]
    },
    {
     "name": "stderr",
     "output_type": "stream",
     "text": [
      "100%|██████████| 328/328 [00:30<00:00, 10.81it/s]\n"
     ]
    },
    {
     "name": "stdout",
     "output_type": "stream",
     "text": [
      "{'val_loss': 1.6455141771130446, 'val_accuracy': 0.640183346065699, 'precision': 0.6049906147080277, 'recall': 0.640183346065699, 'f1-score': 0.6097574417420416, 'macro_f1-score': 0.2864667271451416, 'balanced_accuracy': 0.2768841512172879, 'mcc': 0.5091504462608715, 'train_loss': 0.7427437197950828}\n",
      "Epoch 8/20\n"
     ]
    },
    {
     "name": "stderr",
     "output_type": "stream",
     "text": [
      "100%|██████████| 328/328 [00:30<00:00, 10.68it/s]\n"
     ]
    },
    {
     "name": "stdout",
     "output_type": "stream",
     "text": [
      "{'val_loss': 1.6181817727118004, 'val_accuracy': 0.6470588235294118, 'precision': 0.6267587419898026, 'recall': 0.6470588235294118, 'f1-score': 0.6286833198812007, 'macro_f1-score': 0.30930210235663297, 'balanced_accuracy': 0.3223226097372905, 'mcc': 0.5356744686033338, 'train_loss': 0.5909221396985941}\n",
      "Epoch 9/20\n"
     ]
    },
    {
     "name": "stderr",
     "output_type": "stream",
     "text": [
      "100%|██████████| 328/328 [00:30<00:00, 10.76it/s]\n"
     ]
    },
    {
     "name": "stdout",
     "output_type": "stream",
     "text": [
      "{'val_loss': 1.6513753108135083, 'val_accuracy': 0.6279602750190986, 'precision': 0.6178889640798051, 'recall': 0.6279602750190986, 'f1-score': 0.6166204146636084, 'macro_f1-score': 0.3169825140087467, 'balanced_accuracy': 0.3138557904745015, 'mcc': 0.5089293183659813, 'train_loss': 0.48606141281836646}\n",
      "Epoch 10/20\n"
     ]
    },
    {
     "name": "stderr",
     "output_type": "stream",
     "text": [
      "100%|██████████| 328/328 [00:30<00:00, 10.73it/s]\n"
     ]
    },
    {
     "name": "stdout",
     "output_type": "stream",
     "text": [
      "{'val_loss': 1.7058170594093276, 'val_accuracy': 0.6294881588999236, 'precision': 0.6355623885054112, 'recall': 0.6294881588999236, 'f1-score': 0.6244663921310849, 'macro_f1-score': 0.3363020714240572, 'balanced_accuracy': 0.3591021728216389, 'mcc': 0.5279842659058186, 'train_loss': 0.412601050404014}\n",
      "Epoch 11/20\n"
     ]
    },
    {
     "name": "stderr",
     "output_type": "stream",
     "text": [
      "100%|██████████| 328/328 [00:30<00:00, 10.80it/s]\n"
     ]
    },
    {
     "name": "stdout",
     "output_type": "stream",
     "text": [
      "{'val_loss': 1.8335837082165043, 'val_accuracy': 0.6493506493506493, 'precision': 0.6232723362839258, 'recall': 0.6493506493506493, 'f1-score': 0.6247411048523351, 'macro_f1-score': 0.34259556323095197, 'balanced_accuracy': 0.31897220985929836, 'mcc': 0.5206863578614037, 'train_loss': 0.32662313198102866}\n",
      "Epoch 12/20\n"
     ]
    },
    {
     "name": "stderr",
     "output_type": "stream",
     "text": [
      "100%|██████████| 328/328 [00:30<00:00, 10.71it/s]\n"
     ]
    },
    {
     "name": "stdout",
     "output_type": "stream",
     "text": [
      "{'val_loss': 1.7814707283566638, 'val_accuracy': 0.6363636363636364, 'precision': 0.6304909080445161, 'recall': 0.6363636363636364, 'f1-score': 0.6241231833247246, 'macro_f1-score': 0.3445098380200959, 'balanced_accuracy': 0.33530729373725826, 'mcc': 0.5209561840560522, 'train_loss': 0.26950887167008547}\n",
      "Epoch 13/20\n"
     ]
    },
    {
     "name": "stderr",
     "output_type": "stream",
     "text": [
      "100%|██████████| 328/328 [00:30<00:00, 10.74it/s]\n"
     ]
    },
    {
     "name": "stdout",
     "output_type": "stream",
     "text": [
      "{'val_loss': 1.8677785992622375, 'val_accuracy': 0.6386554621848739, 'precision': 0.6440447860794513, 'recall': 0.6386554621848739, 'f1-score': 0.6316577030227443, 'macro_f1-score': 0.3658244602472124, 'balanced_accuracy': 0.35447705801325663, 'mcc': 0.5246301417540563, 'train_loss': 0.21138390351836456}\n",
      "Epoch 14/20\n"
     ]
    },
    {
     "name": "stderr",
     "output_type": "stream",
     "text": [
      "100%|██████████| 328/328 [00:30<00:00, 10.79it/s]\n"
     ]
    },
    {
     "name": "stdout",
     "output_type": "stream",
     "text": [
      "{'val_loss': 1.9298811758436807, 'val_accuracy': 0.6333078686019863, 'precision': 0.6438550004484418, 'recall': 0.6333078686019863, 'f1-score': 0.6287720263314277, 'macro_f1-score': 0.3969310559369306, 'balanced_accuracy': 0.3778302499020322, 'mcc': 0.5149120460026334, 'train_loss': 0.2086487264378087}\n",
      "Epoch 15/20\n"
     ]
    },
    {
     "name": "stderr",
     "output_type": "stream",
     "text": [
      "100%|██████████| 328/328 [00:30<00:00, 10.72it/s]\n"
     ]
    },
    {
     "name": "stdout",
     "output_type": "stream",
     "text": [
      "{'val_loss': 1.9101939463033908, 'val_accuracy': 0.6180290297937356, 'precision': 0.6431111506746688, 'recall': 0.6180290297937356, 'f1-score': 0.6216253101160621, 'macro_f1-score': 0.3656095088502752, 'balanced_accuracy': 0.36748256703369814, 'mcc': 0.5116409782177559, 'train_loss': 0.18708373568724931}\n",
      "Epoch 16/20\n"
     ]
    },
    {
     "name": "stderr",
     "output_type": "stream",
     "text": [
      "100%|██████████| 328/328 [00:30<00:00, 10.76it/s]\n"
     ]
    },
    {
     "name": "stdout",
     "output_type": "stream",
     "text": [
      "{'val_loss': 1.9878785701059714, 'val_accuracy': 0.6386554621848739, 'precision': 0.6296735070487827, 'recall': 0.6386554621848739, 'f1-score': 0.628231605013167, 'macro_f1-score': 0.3701294522649566, 'balanced_accuracy': 0.3582324608131522, 'mcc': 0.5174830381217038, 'train_loss': 0.19500591741199036}\n",
      "Epoch 17/20\n"
     ]
    },
    {
     "name": "stderr",
     "output_type": "stream",
     "text": [
      "100%|██████████| 328/328 [00:30<00:00, 10.82it/s]\n"
     ]
    },
    {
     "name": "stdout",
     "output_type": "stream",
     "text": [
      "{'val_loss': 2.013041690355394, 'val_accuracy': 0.6417112299465241, 'precision': 0.6409036421547581, 'recall': 0.6417112299465241, 'f1-score': 0.6337894662329762, 'macro_f1-score': 0.38600620226572785, 'balanced_accuracy': 0.3691234057050574, 'mcc': 0.5267924479102656, 'train_loss': 0.14672764716811887}\n",
      "Early stopping.\n",
      "\n",
      "[Fold 4]\n",
      "Label distribution after resampling:\n",
      "  label 0: 2466\n",
      "  label 1: 21\n",
      "  label 2: 64\n",
      "  label 3: 24\n",
      "  label 4: 191\n",
      "  label 5: 113\n",
      "  label 6: 93\n",
      "  label 7: 30\n",
      "  label 8: 68\n",
      "  label 9: 30\n",
      "  label 10: 67\n",
      "  label 11: 169\n",
      "  label 12: 189\n",
      "  label 13: 29\n",
      "  label 14: 22\n",
      "  label 15: 25\n",
      "  label 16: 19\n",
      "  label 17: 181\n",
      "  label 18: 92\n",
      "  label 19: 44\n",
      "  label 20: 14\n",
      "  label 21: 35\n",
      "  label 22: 76\n",
      "  label 23: 158\n",
      "  label 24: 13\n",
      "  label 25: 44\n",
      "  label 26: 84\n",
      "  label 27: 47\n",
      "  label 28: 11\n",
      "  label 29: 13\n",
      "  label 30: 11\n",
      "  label 31: 75\n",
      "  label 32: 36\n",
      "  label 33: 31\n",
      "  label 34: 30\n",
      "  label 35: 11\n",
      "  label 36: 22\n",
      "  label 37: 16\n",
      "  label 38: 5\n",
      "  label 39: 33\n",
      "  label 40: 10\n",
      "  label 41: 9\n",
      "  label 42: 57\n",
      "  label 43: 7\n",
      "  label 44: 18\n",
      "  label 45: 9\n",
      "  label 46: 54\n",
      "  label 47: 242\n",
      "  label 48: 61\n",
      "  label 49: 68\n",
      "model is bert-base-uncased bilstm\n",
      "Epoch 1/20\n"
     ]
    },
    {
     "name": "stderr",
     "output_type": "stream",
     "text": [
      "100%|██████████| 328/328 [00:30<00:00, 10.80it/s]\n"
     ]
    },
    {
     "name": "stdout",
     "output_type": "stream",
     "text": [
      "{'val_loss': 2.0489479870330998, 'val_accuracy': 0.533231474407945, 'precision': 0.3424809562523188, 'recall': 0.533231474407945, 'f1-score': 0.41299904076221616, 'macro_f1-score': 0.04613088122378671, 'balanced_accuracy': 0.0722500076755396, 'mcc': 0.3208973898073275, 'train_loss': 2.368671143927225}\n",
      "Epoch 2/20\n"
     ]
    },
    {
     "name": "stderr",
     "output_type": "stream",
     "text": [
      "100%|██████████| 328/328 [00:30<00:00, 10.62it/s]\n"
     ]
    },
    {
     "name": "stdout",
     "output_type": "stream",
     "text": [
      "{'val_loss': 1.7906932699971083, 'val_accuracy': 0.5653170359052712, 'precision': 0.4340979814489935, 'recall': 0.5653170359052712, 'f1-score': 0.46286688875234416, 'macro_f1-score': 0.07593943385138403, 'balanced_accuracy': 0.09493907156673113, 'mcc': 0.37400264521737997, 'train_loss': 1.8698443194351546}\n",
      "Epoch 3/20\n"
     ]
    },
    {
     "name": "stderr",
     "output_type": "stream",
     "text": [
      "100%|██████████| 328/328 [00:30<00:00, 10.78it/s]\n"
     ]
    },
    {
     "name": "stdout",
     "output_type": "stream",
     "text": [
      "{'val_loss': 1.6599389703535452, 'val_accuracy': 0.5943468296409473, 'precision': 0.5107100053946483, 'recall': 0.5943468296409473, 'f1-score': 0.5339672726550323, 'macro_f1-score': 0.13431097468551234, 'balanced_accuracy': 0.14362822461989685, 'mcc': 0.44263637860778077, 'train_loss': 1.5315045736184933}\n",
      "Epoch 4/20\n"
     ]
    },
    {
     "name": "stderr",
     "output_type": "stream",
     "text": [
      "100%|██████████| 328/328 [00:30<00:00, 10.76it/s]\n"
     ]
    },
    {
     "name": "stdout",
     "output_type": "stream",
     "text": [
      "{'val_loss': 1.6046026319992253, 'val_accuracy': 0.6226126814362108, 'precision': 0.5647880382119178, 'recall': 0.6226126814362108, 'f1-score': 0.5830687054920042, 'macro_f1-score': 0.23075014431422577, 'balanced_accuracy': 0.2340323050849338, 'mcc': 0.4921866643644683, 'train_loss': 1.2295250338388652}\n",
      "Epoch 5/20\n"
     ]
    },
    {
     "name": "stderr",
     "output_type": "stream",
     "text": [
      "100%|██████████| 328/328 [00:30<00:00, 10.77it/s]\n"
     ]
    },
    {
     "name": "stdout",
     "output_type": "stream",
     "text": [
      "{'val_loss': 1.5982065215343382, 'val_accuracy': 0.6172650878533231, 'precision': 0.565549105173196, 'recall': 0.6172650878533231, 'f1-score': 0.5809675782680555, 'macro_f1-score': 0.2354623558708413, 'balanced_accuracy': 0.22921079410308437, 'mcc': 0.47852297669864546, 'train_loss': 0.9455443162743639}\n",
      "Epoch 6/20\n"
     ]
    },
    {
     "name": "stderr",
     "output_type": "stream",
     "text": [
      "100%|██████████| 328/328 [00:30<00:00, 10.73it/s]\n"
     ]
    },
    {
     "name": "stdout",
     "output_type": "stream",
     "text": [
      "{'val_loss': 1.5938545825277888, 'val_accuracy': 0.612681436210848, 'precision': 0.5835328938530376, 'recall': 0.612681436210848, 'f1-score': 0.5917877897071683, 'macro_f1-score': 0.2733302302507646, 'balanced_accuracy': 0.27050273311852285, 'mcc': 0.48442020812001735, 'train_loss': 0.7344220318808788}\n",
      "Epoch 7/20\n"
     ]
    },
    {
     "name": "stderr",
     "output_type": "stream",
     "text": [
      "100%|██████████| 328/328 [00:30<00:00, 10.78it/s]\n"
     ]
    },
    {
     "name": "stdout",
     "output_type": "stream",
     "text": [
      "{'val_loss': 1.650309491448286, 'val_accuracy': 0.6241405653170359, 'precision': 0.6201131851996178, 'recall': 0.6241405653170359, 'f1-score': 0.6138682074310399, 'macro_f1-score': 0.3200973041840472, 'balanced_accuracy': 0.3237009443140928, 'mcc': 0.5033455551419593, 'train_loss': 0.5629179847267706}\n",
      "Epoch 8/20\n"
     ]
    },
    {
     "name": "stderr",
     "output_type": "stream",
     "text": [
      "100%|██████████| 328/328 [00:30<00:00, 10.81it/s]\n"
     ]
    },
    {
     "name": "stdout",
     "output_type": "stream",
     "text": [
      "{'val_loss': 1.6988563621189536, 'val_accuracy': 0.6409472880061116, 'precision': 0.6267723526147406, 'recall': 0.6409472880061116, 'f1-score': 0.6239792093307057, 'macro_f1-score': 0.32083731776075575, 'balanced_accuracy': 0.32176013790247476, 'mcc': 0.5214912570136077, 'train_loss': 0.44678526962312254}\n",
      "Epoch 9/20\n"
     ]
    },
    {
     "name": "stderr",
     "output_type": "stream",
     "text": [
      "100%|██████████| 328/328 [00:30<00:00, 10.67it/s]\n"
     ]
    },
    {
     "name": "stdout",
     "output_type": "stream",
     "text": [
      "{'val_loss': 1.752950397206516, 'val_accuracy': 0.6264323911382735, 'precision': 0.6180944694610034, 'recall': 0.6264323911382735, 'f1-score': 0.6169593641401384, 'macro_f1-score': 0.3286929570066009, 'balanced_accuracy': 0.31620489000279955, 'mcc': 0.5021325206240931, 'train_loss': 0.36589539930701437}\n",
      "Epoch 10/20\n"
     ]
    },
    {
     "name": "stderr",
     "output_type": "stream",
     "text": [
      "100%|██████████| 328/328 [00:30<00:00, 10.82it/s]\n"
     ]
    },
    {
     "name": "stdout",
     "output_type": "stream",
     "text": [
      "{'val_loss': 1.7682024633012168, 'val_accuracy': 0.6302521008403361, 'precision': 0.6284355891272825, 'recall': 0.6302521008403361, 'f1-score': 0.6220370642537504, 'macro_f1-score': 0.35272362465384427, 'balanced_accuracy': 0.3407432954786755, 'mcc': 0.5114259280907145, 'train_loss': 0.2689666388919804}\n",
      "Epoch 11/20\n"
     ]
    },
    {
     "name": "stderr",
     "output_type": "stream",
     "text": [
      "100%|██████████| 328/328 [00:30<00:00, 10.80it/s]\n"
     ]
    },
    {
     "name": "stdout",
     "output_type": "stream",
     "text": [
      "{'val_loss': 1.8327836241663955, 'val_accuracy': 0.6355996944232238, 'precision': 0.6386060899263793, 'recall': 0.6355996944232238, 'f1-score': 0.6280209169415275, 'macro_f1-score': 0.35859820733030673, 'balanced_accuracy': 0.3410777430722298, 'mcc': 0.5164291020219997, 'train_loss': 0.23506570667619023}\n",
      "Epoch 12/20\n"
     ]
    },
    {
     "name": "stderr",
     "output_type": "stream",
     "text": [
      "100%|██████████| 328/328 [00:30<00:00, 10.75it/s]\n"
     ]
    },
    {
     "name": "stdout",
     "output_type": "stream",
     "text": [
      "{'val_loss': 1.9561943782538902, 'val_accuracy': 0.573720397249809, 'precision': 0.6386816680710132, 'recall': 0.573720397249809, 'f1-score': 0.5929855525071426, 'macro_f1-score': 0.3575999908262624, 'balanced_accuracy': 0.3833183257824135, 'mcc': 0.47249158595115254, 'train_loss': 0.19849957109190433}\n",
      "Epoch 13/20\n"
     ]
    },
    {
     "name": "stderr",
     "output_type": "stream",
     "text": [
      "100%|██████████| 328/328 [00:30<00:00, 10.72it/s]\n"
     ]
    },
    {
     "name": "stdout",
     "output_type": "stream",
     "text": [
      "{'val_loss': 1.993138490471898, 'val_accuracy': 0.6172650878533231, 'precision': 0.6278420275539425, 'recall': 0.6172650878533231, 'f1-score': 0.61737336776264, 'macro_f1-score': 0.34649515956427623, 'balanced_accuracy': 0.34876498322248656, 'mcc': 0.5076114084413526, 'train_loss': 0.1818565042212424}\n",
      "Epoch 14/20\n"
     ]
    },
    {
     "name": "stderr",
     "output_type": "stream",
     "text": [
      "100%|██████████| 328/328 [00:30<00:00, 10.77it/s]\n"
     ]
    },
    {
     "name": "stdout",
     "output_type": "stream",
     "text": [
      "{'val_loss': 1.882915809750557, 'val_accuracy': 0.6249045072574484, 'precision': 0.6617986270862333, 'recall': 0.6249045072574484, 'f1-score': 0.6323452312769232, 'macro_f1-score': 0.3938920084637178, 'balanced_accuracy': 0.4079320587607927, 'mcc': 0.5276226334475864, 'train_loss': 0.15378567963986225}\n",
      "Epoch 15/20\n"
     ]
    },
    {
     "name": "stderr",
     "output_type": "stream",
     "text": [
      "100%|██████████| 328/328 [00:30<00:00, 10.78it/s]\n"
     ]
    },
    {
     "name": "stdout",
     "output_type": "stream",
     "text": [
      "{'val_loss': 1.9594007036307963, 'val_accuracy': 0.6157372039724981, 'precision': 0.6494858276554802, 'recall': 0.6157372039724981, 'f1-score': 0.6244845769303962, 'macro_f1-score': 0.37376826019689635, 'balanced_accuracy': 0.36634529555612183, 'mcc': 0.5079535537087997, 'train_loss': 0.12319631105084426}\n",
      "Epoch 16/20\n"
     ]
    },
    {
     "name": "stderr",
     "output_type": "stream",
     "text": [
      "100%|██████████| 328/328 [00:30<00:00, 10.75it/s]\n"
     ]
    },
    {
     "name": "stdout",
     "output_type": "stream",
     "text": [
      "{'val_loss': 2.2942255775376066, 'val_accuracy': 0.6417112299465241, 'precision': 0.6318960575016859, 'recall': 0.6417112299465241, 'f1-score': 0.607962161116764, 'macro_f1-score': 0.3341553380612909, 'balanced_accuracy': 0.3013905869594237, 'mcc': 0.5031460005382603, 'train_loss': 0.09114693332798551}\n",
      "Epoch 17/20\n"
     ]
    },
    {
     "name": "stderr",
     "output_type": "stream",
     "text": [
      "100%|██████████| 328/328 [00:30<00:00, 10.72it/s]\n"
     ]
    },
    {
     "name": "stdout",
     "output_type": "stream",
     "text": [
      "{'val_loss': 1.9994011103380016, 'val_accuracy': 0.6317799847211611, 'precision': 0.6373139049183398, 'recall': 0.6317799847211611, 'f1-score': 0.6290976306469865, 'macro_f1-score': 0.36612176552659476, 'balanced_accuracy': 0.3500865736778856, 'mcc': 0.5157442112274097, 'train_loss': 0.1050701637229905}\n",
      "Early stopping.\n",
      "\n",
      "[Fold 5]\n",
      "Label distribution after resampling:\n",
      "  label 0: 2466\n",
      "  label 1: 22\n",
      "  label 2: 64\n",
      "  label 3: 24\n",
      "  label 4: 190\n",
      "  label 5: 113\n",
      "  label 6: 93\n",
      "  label 7: 30\n",
      "  label 8: 68\n",
      "  label 9: 30\n",
      "  label 10: 67\n",
      "  label 11: 169\n",
      "  label 12: 189\n",
      "  label 13: 29\n",
      "  label 14: 23\n",
      "  label 15: 24\n",
      "  label 16: 20\n",
      "  label 17: 180\n",
      "  label 18: 92\n",
      "  label 19: 44\n",
      "  label 20: 14\n",
      "  label 21: 35\n",
      "  label 22: 76\n",
      "  label 23: 157\n",
      "  label 24: 13\n",
      "  label 25: 44\n",
      "  label 26: 84\n",
      "  label 27: 47\n",
      "  label 28: 11\n",
      "  label 29: 13\n",
      "  label 30: 11\n",
      "  label 31: 75\n",
      "  label 32: 36\n",
      "  label 33: 31\n",
      "  label 34: 30\n",
      "  label 35: 11\n",
      "  label 36: 22\n",
      "  label 37: 16\n",
      "  label 38: 6\n",
      "  label 39: 33\n",
      "  label 40: 10\n",
      "  label 41: 9\n",
      "  label 42: 57\n",
      "  label 43: 6\n",
      "  label 44: 18\n",
      "  label 45: 9\n",
      "  label 46: 54\n",
      "  label 47: 242\n",
      "  label 48: 62\n",
      "  label 49: 68\n",
      "model is bert-base-uncased bilstm\n",
      "Epoch 1/20\n"
     ]
    },
    {
     "name": "stderr",
     "output_type": "stream",
     "text": [
      "100%|██████████| 328/328 [00:30<00:00, 10.81it/s]\n"
     ]
    },
    {
     "name": "stdout",
     "output_type": "stream",
     "text": [
      "{'val_loss': 1.9926464390463945, 'val_accuracy': 0.5485103132161956, 'precision': 0.3895375184164039, 'recall': 0.5485103132161956, 'f1-score': 0.4280955962236671, 'macro_f1-score': 0.054725535448299646, 'balanced_accuracy': 0.07772463768115942, 'mcc': 0.3386511312140419, 'train_loss': 2.3028396042745287}\n",
      "Epoch 2/20\n"
     ]
    },
    {
     "name": "stderr",
     "output_type": "stream",
     "text": [
      "100%|██████████| 328/328 [00:30<00:00, 10.76it/s]\n"
     ]
    },
    {
     "name": "stdout",
     "output_type": "stream",
     "text": [
      "{'val_loss': 1.7308963559022763, 'val_accuracy': 0.5760122230710466, 'precision': 0.4295613459937213, 'recall': 0.5760122230710466, 'f1-score': 0.4619295347047091, 'macro_f1-score': 0.08370008516543789, 'balanced_accuracy': 0.09633208224001062, 'mcc': 0.37730412948345826, 'train_loss': 1.7549340542314984}\n",
      "Epoch 3/20\n"
     ]
    },
    {
     "name": "stderr",
     "output_type": "stream",
     "text": [
      "100%|██████████| 328/328 [00:30<00:00, 10.74it/s]\n"
     ]
    },
    {
     "name": "stdout",
     "output_type": "stream",
     "text": [
      "{'val_loss': 1.6055857233884858, 'val_accuracy': 0.5859434682964094, 'precision': 0.5237516393711221, 'recall': 0.5859434682964094, 'f1-score': 0.53446824942093, 'macro_f1-score': 0.15788168991665522, 'balanced_accuracy': 0.1802816387632648, 'mcc': 0.4441470128532586, 'train_loss': 1.3953776129680435}\n",
      "Epoch 4/20\n"
     ]
    },
    {
     "name": "stderr",
     "output_type": "stream",
     "text": [
      "100%|██████████| 328/328 [00:30<00:00, 10.81it/s]\n"
     ]
    },
    {
     "name": "stdout",
     "output_type": "stream",
     "text": [
      "{'val_loss': 1.5403060375190363, 'val_accuracy': 0.6355996944232238, 'precision': 0.5581666535265642, 'recall': 0.6355996944232238, 'f1-score': 0.5872067742728792, 'macro_f1-score': 0.24971605569628458, 'balanced_accuracy': 0.2595411679823445, 'mcc': 0.5001907389670173, 'train_loss': 1.099521527839143}\n",
      "Epoch 5/20\n"
     ]
    },
    {
     "name": "stderr",
     "output_type": "stream",
     "text": [
      "100%|██████████| 328/328 [00:30<00:00, 10.81it/s]\n"
     ]
    },
    {
     "name": "stdout",
     "output_type": "stream",
     "text": [
      "{'val_loss': 1.5940867542493633, 'val_accuracy': 0.6073338426279603, 'precision': 0.6268153256771085, 'recall': 0.6073338426279603, 'f1-score': 0.5996945698201378, 'macro_f1-score': 0.30416946706282433, 'balanced_accuracy': 0.3246927162030473, 'mcc': 0.49958630465615383, 'train_loss': 0.8517638527356634}\n",
      "Epoch 6/20\n"
     ]
    },
    {
     "name": "stderr",
     "output_type": "stream",
     "text": [
      "100%|██████████| 328/328 [00:30<00:00, 10.66it/s]\n"
     ]
    },
    {
     "name": "stdout",
     "output_type": "stream",
     "text": [
      "{'val_loss': 1.6860058231324684, 'val_accuracy': 0.6371275783040489, 'precision': 0.6022329117518479, 'recall': 0.6371275783040489, 'f1-score': 0.599887894760582, 'macro_f1-score': 0.2945538484300144, 'balanced_accuracy': 0.27417332071168393, 'mcc': 0.4988286767537206, 'train_loss': 0.669380997659684}\n",
      "Epoch 7/20\n"
     ]
    },
    {
     "name": "stderr",
     "output_type": "stream",
     "text": [
      "100%|██████████| 328/328 [00:30<00:00, 10.80it/s]\n"
     ]
    },
    {
     "name": "stdout",
     "output_type": "stream",
     "text": [
      "{'val_loss': 1.637266242286054, 'val_accuracy': 0.6264323911382735, 'precision': 0.6051416101282525, 'recall': 0.6264323911382735, 'f1-score': 0.6011316167879991, 'macro_f1-score': 0.3105287499885393, 'balanced_accuracy': 0.3129878934723463, 'mcc': 0.5013555602219586, 'train_loss': 0.5460763594317364}\n",
      "Epoch 8/20\n"
     ]
    },
    {
     "name": "stderr",
     "output_type": "stream",
     "text": [
      "100%|██████████| 328/328 [00:30<00:00, 10.74it/s]\n"
     ]
    },
    {
     "name": "stdout",
     "output_type": "stream",
     "text": [
      "{'val_loss': 1.800514780711837, 'val_accuracy': 0.6310160427807486, 'precision': 0.6295253073286826, 'recall': 0.6310160427807486, 'f1-score': 0.614419340997552, 'macro_f1-score': 0.33169644197038656, 'balanced_accuracy': 0.32798259740065505, 'mcc': 0.5064121861161073, 'train_loss': 0.4326688844665158}\n",
      "Epoch 9/20\n"
     ]
    },
    {
     "name": "stderr",
     "output_type": "stream",
     "text": [
      "100%|██████████| 328/328 [00:30<00:00, 10.81it/s]\n"
     ]
    },
    {
     "name": "stdout",
     "output_type": "stream",
     "text": [
      "{'val_loss': 1.7554277853994835, 'val_accuracy': 0.6348357524828113, 'precision': 0.6335522163237396, 'recall': 0.6348357524828113, 'f1-score': 0.6236630781174225, 'macro_f1-score': 0.34048701024940564, 'balanced_accuracy': 0.33775287969011886, 'mcc': 0.5149354054412689, 'train_loss': 0.30636902239809677}\n",
      "Epoch 10/20\n"
     ]
    },
    {
     "name": "stderr",
     "output_type": "stream",
     "text": [
      "100%|██████████| 328/328 [00:30<00:00, 10.74it/s]\n"
     ]
    },
    {
     "name": "stdout",
     "output_type": "stream",
     "text": [
      "{'val_loss': 1.7902600409054175, 'val_accuracy': 0.640183346065699, 'precision': 0.6236770495029371, 'recall': 0.640183346065699, 'f1-score': 0.6228037571625298, 'macro_f1-score': 0.3695389266988578, 'balanced_accuracy': 0.35518223472732835, 'mcc': 0.5120873418819488, 'train_loss': 0.24268797396897998}\n",
      "Epoch 11/20\n"
     ]
    },
    {
     "name": "stderr",
     "output_type": "stream",
     "text": [
      "100%|██████████| 328/328 [00:30<00:00, 10.77it/s]\n"
     ]
    },
    {
     "name": "stdout",
     "output_type": "stream",
     "text": [
      "{'val_loss': 1.8932479454613313, 'val_accuracy': 0.6149732620320856, 'precision': 0.639911117970063, 'recall': 0.6149732620320856, 'f1-score': 0.618255183482518, 'macro_f1-score': 0.3743023401743288, 'balanced_accuracy': 0.3781763686127665, 'mcc': 0.5076697742463919, 'train_loss': 0.18207451459247528}\n",
      "Epoch 12/20\n"
     ]
    },
    {
     "name": "stderr",
     "output_type": "stream",
     "text": [
      "100%|██████████| 328/328 [00:30<00:00, 10.81it/s]\n"
     ]
    },
    {
     "name": "stdout",
     "output_type": "stream",
     "text": [
      "{'val_loss': 1.7203843295574188, 'val_accuracy': 0.6409472880061116, 'precision': 0.6457113448169153, 'recall': 0.6409472880061116, 'f1-score': 0.6310494281138592, 'macro_f1-score': 0.37932963949806253, 'balanced_accuracy': 0.3741118329031911, 'mcc': 0.5241944730574267, 'train_loss': 0.17072262920200734}\n",
      "Epoch 13/20\n"
     ]
    },
    {
     "name": "stderr",
     "output_type": "stream",
     "text": [
      "100%|██████████| 328/328 [00:30<00:00, 10.74it/s]\n"
     ]
    },
    {
     "name": "stdout",
     "output_type": "stream",
     "text": [
      "{'val_loss': 1.9554097617908222, 'val_accuracy': 0.6249045072574484, 'precision': 0.630720060177422, 'recall': 0.6249045072574484, 'f1-score': 0.623461119657237, 'macro_f1-score': 0.37422677923470615, 'balanced_accuracy': 0.3677347694295803, 'mcc': 0.5123116460893761, 'train_loss': 0.13296788686420768}\n",
      "Epoch 14/20\n"
     ]
    },
    {
     "name": "stderr",
     "output_type": "stream",
     "text": [
      "100%|██████████| 328/328 [00:30<00:00, 10.79it/s]\n"
     ]
    },
    {
     "name": "stdout",
     "output_type": "stream",
     "text": [
      "{'val_loss': 2.0578887498960263, 'val_accuracy': 0.6432391138273491, 'precision': 0.6262650034457863, 'recall': 0.6432391138273491, 'f1-score': 0.6240147752992756, 'macro_f1-score': 0.3910707718032025, 'balanced_accuracy': 0.36891184924840187, 'mcc': 0.5181359316826513, 'train_loss': 0.11455353164176525}\n",
      "Epoch 15/20\n"
     ]
    },
    {
     "name": "stderr",
     "output_type": "stream",
     "text": [
      "100%|██████████| 328/328 [00:30<00:00, 10.81it/s]\n"
     ]
    },
    {
     "name": "stdout",
     "output_type": "stream",
     "text": [
      "{'val_loss': 2.0660802780128105, 'val_accuracy': 0.6287242169595111, 'precision': 0.6246078853846937, 'recall': 0.6287242169595111, 'f1-score': 0.6108651329304724, 'macro_f1-score': 0.3664731437441437, 'balanced_accuracy': 0.3670304517202485, 'mcc': 0.4992858520371158, 'train_loss': 0.11159501761402481}\n",
      "Epoch 16/20\n"
     ]
    },
    {
     "name": "stderr",
     "output_type": "stream",
     "text": [
      "100%|██████████| 328/328 [00:30<00:00, 10.79it/s]\n"
     ]
    },
    {
     "name": "stdout",
     "output_type": "stream",
     "text": [
      "{'val_loss': 1.9811584564243876, 'val_accuracy': 0.640183346065699, 'precision': 0.6361267149530534, 'recall': 0.640183346065699, 'f1-score': 0.6304257148748713, 'macro_f1-score': 0.3933749744062123, 'balanced_accuracy': 0.38501644393281886, 'mcc': 0.5201995831707757, 'train_loss': 0.15164919119759848}\n",
      "Epoch 17/20\n"
     ]
    },
    {
     "name": "stderr",
     "output_type": "stream",
     "text": [
      "100%|██████████| 328/328 [00:30<00:00, 10.66it/s]\n"
     ]
    },
    {
     "name": "stdout",
     "output_type": "stream",
     "text": [
      "{'val_loss': 2.0087848683682883, 'val_accuracy': 0.6470588235294118, 'precision': 0.6386206878325901, 'recall': 0.6470588235294118, 'f1-score': 0.6292066761029262, 'macro_f1-score': 0.3996210915826354, 'balanced_accuracy': 0.3920399517549201, 'mcc': 0.526409437244454, 'train_loss': 0.14620267250149216}\n",
      "Epoch 18/20\n"
     ]
    },
    {
     "name": "stderr",
     "output_type": "stream",
     "text": [
      "100%|██████████| 328/328 [00:30<00:00, 10.80it/s]\n"
     ]
    },
    {
     "name": "stdout",
     "output_type": "stream",
     "text": [
      "{'val_loss': 2.1187662331432833, 'val_accuracy': 0.6264323911382735, 'precision': 0.6358955705072126, 'recall': 0.6264323911382735, 'f1-score': 0.6241977764516274, 'macro_f1-score': 0.38875215200269436, 'balanced_accuracy': 0.3958073339106115, 'mcc': 0.515997858629478, 'train_loss': 0.11302421985495063}\n",
      "Epoch 19/20\n"
     ]
    },
    {
     "name": "stderr",
     "output_type": "stream",
     "text": [
      "100%|██████████| 328/328 [00:30<00:00, 10.77it/s]\n"
     ]
    },
    {
     "name": "stdout",
     "output_type": "stream",
     "text": [
      "{'val_loss': 2.1363985138695414, 'val_accuracy': 0.6470588235294118, 'precision': 0.6388561933968573, 'recall': 0.6470588235294118, 'f1-score': 0.6285414570203076, 'macro_f1-score': 0.3824886843919198, 'balanced_accuracy': 0.3670266792106205, 'mcc': 0.5207517937570187, 'train_loss': 0.08844606527666811}\n",
      "Epoch 20/20\n"
     ]
    },
    {
     "name": "stderr",
     "output_type": "stream",
     "text": [
      "100%|██████████| 328/328 [00:30<00:00, 10.79it/s]\n"
     ]
    },
    {
     "name": "stdout",
     "output_type": "stream",
     "text": [
      "{'val_loss': 2.1661228715646557, 'val_accuracy': 0.6470588235294118, 'precision': 0.6503707937634617, 'recall': 0.6470588235294118, 'f1-score': 0.6379503600086104, 'macro_f1-score': 0.40479194993259787, 'balanced_accuracy': 0.38742810530355953, 'mcc': 0.5262818199713121, 'train_loss': 0.05527483762977304}\n",
      "\n",
      " === bert-base-uncased + bilstm + none Final 5-fold Cross-Validation Results ===\n",
      "val_loss: 1.9082\n",
      "val_accuracy: 0.6363\n",
      "precision: 0.6520\n",
      "recall: 0.6363\n",
      "f1-score: 0.6347\n",
      "macro_f1-score: 0.3958\n",
      "balanced_accuracy: 0.3995\n",
      "mcc: 0.5264\n",
      "train_loss: 0.1588\n",
      "total_seconds: 2844.0000\n",
      "total_time: 0 hrs 47 mins 24 secs\n",
      "▶ Running: roberta-base + plain + none\n",
      "tokenizer is roberta-base\n",
      "Using device: cuda\n",
      "CUDA Available: True\n",
      "CUDA Device: NVIDIA GeForce RTX 5070 Ti\n",
      "Current GPU Memory Allocated: 0.02 GB\n",
      "Current GPU Memory Cached: 3.15 GB\n",
      "\n",
      "[Fold 1]\n",
      "Label distribution after resampling:\n",
      "  label 0: 2465\n",
      "  label 1: 22\n",
      "  label 2: 64\n",
      "  label 3: 24\n",
      "  label 4: 190\n",
      "  label 5: 112\n",
      "  label 6: 93\n",
      "  label 7: 30\n",
      "  label 8: 68\n",
      "  label 9: 30\n",
      "  label 10: 67\n",
      "  label 11: 169\n",
      "  label 12: 190\n",
      "  label 13: 28\n",
      "  label 14: 23\n",
      "  label 15: 25\n",
      "  label 16: 19\n",
      "  label 17: 181\n",
      "  label 18: 92\n",
      "  label 19: 44\n",
      "  label 20: 14\n",
      "  label 21: 35\n",
      "  label 22: 76\n",
      "  label 23: 157\n",
      "  label 24: 13\n",
      "  label 25: 44\n",
      "  label 26: 84\n",
      "  label 27: 47\n",
      "  label 28: 11\n",
      "  label 29: 13\n",
      "  label 30: 11\n",
      "  label 31: 76\n",
      "  label 32: 36\n",
      "  label 33: 32\n",
      "  label 34: 29\n",
      "  label 35: 11\n",
      "  label 36: 22\n",
      "  label 37: 16\n",
      "  label 38: 6\n",
      "  label 39: 32\n",
      "  label 40: 10\n",
      "  label 41: 9\n",
      "  label 42: 57\n",
      "  label 43: 6\n",
      "  label 44: 19\n",
      "  label 45: 8\n",
      "  label 46: 55\n",
      "  label 47: 241\n",
      "  label 48: 62\n",
      "  label 49: 68\n",
      "model is roberta-base\n"
     ]
    },
    {
     "name": "stderr",
     "output_type": "stream",
     "text": [
      "Some weights of RobertaForSequenceClassification were not initialized from the model checkpoint at roberta-base and are newly initialized: ['classifier.dense.bias', 'classifier.dense.weight', 'classifier.out_proj.bias', 'classifier.out_proj.weight']\n",
      "You should probably TRAIN this model on a down-stream task to be able to use it for predictions and inference.\n"
     ]
    },
    {
     "name": "stdout",
     "output_type": "stream",
     "text": [
      "Epoch 1/20\n"
     ]
    },
    {
     "name": "stderr",
     "output_type": "stream",
     "text": [
      "100%|██████████| 328/328 [00:28<00:00, 11.66it/s]\n"
     ]
    },
    {
     "name": "stdout",
     "output_type": "stream",
     "text": [
      "{'val_loss': 1.8078438261660135, 'val_accuracy': 0.5793893129770993, 'precision': 0.4030702090546667, 'recall': 0.5793893129770993, 'f1-score': 0.4566507645602605, 'macro_f1-score': 0.08136475052581142, 'balanced_accuracy': 0.09550287272391624, 'mcc': 0.3822524334206757, 'train_loss': 2.1988639122829206}\n",
      "Epoch 2/20\n"
     ]
    },
    {
     "name": "stderr",
     "output_type": "stream",
     "text": [
      "100%|██████████| 328/328 [00:28<00:00, 11.69it/s]\n"
     ]
    },
    {
     "name": "stdout",
     "output_type": "stream",
     "text": [
      "{'val_loss': 1.6538835073389657, 'val_accuracy': 0.583969465648855, 'precision': 0.49421782833579075, 'recall': 0.583969465648855, 'f1-score': 0.5103604195804656, 'macro_f1-score': 0.14957477074352724, 'balanced_accuracy': 0.17208839659558847, 'mcc': 0.4166845403899472, 'train_loss': 1.6557759753451116}\n",
      "Epoch 3/20\n"
     ]
    },
    {
     "name": "stderr",
     "output_type": "stream",
     "text": [
      "100%|██████████| 328/328 [00:28<00:00, 11.70it/s]\n"
     ]
    },
    {
     "name": "stdout",
     "output_type": "stream",
     "text": [
      "{'val_loss': 1.5253474218089407, 'val_accuracy': 0.5984732824427481, 'precision': 0.5274869453394099, 'recall': 0.5984732824427481, 'f1-score': 0.538958374304598, 'macro_f1-score': 0.19381748416322922, 'balanced_accuracy': 0.21684708453541077, 'mcc': 0.44797423704614403, 'train_loss': 1.341831470953255}\n",
      "Epoch 4/20\n"
     ]
    },
    {
     "name": "stderr",
     "output_type": "stream",
     "text": [
      "100%|██████████| 328/328 [00:28<00:00, 11.66it/s]\n"
     ]
    },
    {
     "name": "stdout",
     "output_type": "stream",
     "text": [
      "{'val_loss': 1.535587294981247, 'val_accuracy': 0.6236641221374046, 'precision': 0.583292163871569, 'recall': 0.6236641221374046, 'f1-score': 0.5706978580924571, 'macro_f1-score': 0.2396853536063836, 'balanced_accuracy': 0.23724678940924337, 'mcc': 0.475580740362018, 'train_loss': 1.110992744792162}\n",
      "Epoch 5/20\n"
     ]
    },
    {
     "name": "stderr",
     "output_type": "stream",
     "text": [
      "100%|██████████| 328/328 [00:28<00:00, 11.69it/s]\n"
     ]
    },
    {
     "name": "stdout",
     "output_type": "stream",
     "text": [
      "{'val_loss': 1.4753764918664607, 'val_accuracy': 0.6519083969465649, 'precision': 0.6041157008969338, 'recall': 0.6519083969465649, 'f1-score': 0.6162332024118695, 'macro_f1-score': 0.2999062085865708, 'balanced_accuracy': 0.2974391925937443, 'mcc': 0.5251069231252511, 'train_loss': 0.8794963013653349}\n",
      "Epoch 6/20\n"
     ]
    },
    {
     "name": "stderr",
     "output_type": "stream",
     "text": [
      "100%|██████████| 328/328 [00:28<00:00, 11.69it/s]\n"
     ]
    },
    {
     "name": "stdout",
     "output_type": "stream",
     "text": [
      "{'val_loss': 1.587271711448344, 'val_accuracy': 0.6038167938931298, 'precision': 0.6270606109214186, 'recall': 0.6038167938931298, 'f1-score': 0.6049682234372367, 'macro_f1-score': 0.3071528096583441, 'balanced_accuracy': 0.3126982156141991, 'mcc': 0.4879276362104629, 'train_loss': 0.6963608619052826}\n",
      "Epoch 7/20\n"
     ]
    },
    {
     "name": "stderr",
     "output_type": "stream",
     "text": [
      "100%|██████████| 328/328 [00:28<00:00, 11.70it/s]\n"
     ]
    },
    {
     "name": "stdout",
     "output_type": "stream",
     "text": [
      "{'val_loss': 1.6009148411997935, 'val_accuracy': 0.6473282442748092, 'precision': 0.6225716795985592, 'recall': 0.6473282442748092, 'f1-score': 0.6269472051137652, 'macro_f1-score': 0.3416687896254881, 'balanced_accuracy': 0.33469795479899295, 'mcc': 0.5231188750563787, 'train_loss': 0.5748178103438965}\n",
      "Epoch 8/20\n"
     ]
    },
    {
     "name": "stderr",
     "output_type": "stream",
     "text": [
      "100%|██████████| 328/328 [00:28<00:00, 11.66it/s]\n"
     ]
    },
    {
     "name": "stdout",
     "output_type": "stream",
     "text": [
      "{'val_loss': 1.806496920700117, 'val_accuracy': 0.6419847328244275, 'precision': 0.62903613906119, 'recall': 0.6419847328244275, 'f1-score': 0.6202250070122732, 'macro_f1-score': 0.32841231865293524, 'balanced_accuracy': 0.3056156879465945, 'mcc': 0.5099683941926944, 'train_loss': 0.44823273086193494}\n",
      "Epoch 9/20\n"
     ]
    },
    {
     "name": "stderr",
     "output_type": "stream",
     "text": [
      "100%|██████████| 328/328 [00:28<00:00, 11.70it/s]\n"
     ]
    },
    {
     "name": "stdout",
     "output_type": "stream",
     "text": [
      "{'val_loss': 1.7564526803609801, 'val_accuracy': 0.6305343511450382, 'precision': 0.6378747674147482, 'recall': 0.6305343511450382, 'f1-score': 0.6252472887906763, 'macro_f1-score': 0.36260950008843273, 'balanced_accuracy': 0.3616085353486188, 'mcc': 0.5166070676190219, 'train_loss': 0.3621400671658992}\n",
      "Epoch 10/20\n"
     ]
    },
    {
     "name": "stderr",
     "output_type": "stream",
     "text": [
      "100%|██████████| 328/328 [00:28<00:00, 11.66it/s]\n"
     ]
    },
    {
     "name": "stdout",
     "output_type": "stream",
     "text": [
      "{'val_loss': 1.8594992475175276, 'val_accuracy': 0.6145038167938931, 'precision': 0.620163653029934, 'recall': 0.6145038167938931, 'f1-score': 0.6072709435723749, 'macro_f1-score': 0.32698055338136905, 'balanced_accuracy': 0.3401568541141187, 'mcc': 0.4965693795661767, 'train_loss': 0.28486619693817705}\n",
      "Epoch 11/20\n"
     ]
    },
    {
     "name": "stderr",
     "output_type": "stream",
     "text": [
      "100%|██████████| 328/328 [00:28<00:00, 11.70it/s]\n"
     ]
    },
    {
     "name": "stdout",
     "output_type": "stream",
     "text": [
      "{'val_loss': 1.9547412095636856, 'val_accuracy': 0.6412213740458015, 'precision': 0.6299694960793754, 'recall': 0.6412213740458015, 'f1-score': 0.6244654247696063, 'macro_f1-score': 0.3708915834335568, 'balanced_accuracy': 0.36153335858302393, 'mcc': 0.5178939837259559, 'train_loss': 0.2454472683546156}\n",
      "Epoch 12/20\n"
     ]
    },
    {
     "name": "stderr",
     "output_type": "stream",
     "text": [
      "100%|██████████| 328/328 [00:28<00:00, 11.67it/s]\n"
     ]
    },
    {
     "name": "stdout",
     "output_type": "stream",
     "text": [
      "{'val_loss': 2.0624844675383915, 'val_accuracy': 0.5893129770992367, 'precision': 0.6134094488556017, 'recall': 0.5893129770992367, 'f1-score': 0.586825055539829, 'macro_f1-score': 0.3288917711797069, 'balanced_accuracy': 0.32720804095824135, 'mcc': 0.4781974510771098, 'train_loss': 0.23447459400063608}\n",
      "Epoch 13/20\n"
     ]
    },
    {
     "name": "stderr",
     "output_type": "stream",
     "text": [
      "100%|██████████| 328/328 [00:28<00:00, 11.67it/s]\n"
     ]
    },
    {
     "name": "stdout",
     "output_type": "stream",
     "text": [
      "{'val_loss': 2.0805254257624832, 'val_accuracy': 0.649618320610687, 'precision': 0.6302679900343143, 'recall': 0.649618320610687, 'f1-score': 0.6297250427911383, 'macro_f1-score': 0.37009365014507445, 'balanced_accuracy': 0.3470475667167349, 'mcc': 0.5207918428554296, 'train_loss': 0.20273887835976825}\n",
      "Epoch 14/20\n"
     ]
    },
    {
     "name": "stderr",
     "output_type": "stream",
     "text": [
      "100%|██████████| 328/328 [00:28<00:00, 11.70it/s]\n"
     ]
    },
    {
     "name": "stdout",
     "output_type": "stream",
     "text": [
      "{'val_loss': 2.0519506495173383, 'val_accuracy': 0.6221374045801527, 'precision': 0.6220974929841557, 'recall': 0.6221374045801527, 'f1-score': 0.6108801427479826, 'macro_f1-score': 0.38434771160460235, 'balanced_accuracy': 0.3912293863120146, 'mcc': 0.49648893231079194, 'train_loss': 0.17056679509994688}\n",
      "Epoch 15/20\n"
     ]
    },
    {
     "name": "stderr",
     "output_type": "stream",
     "text": [
      "100%|██████████| 328/328 [00:28<00:00, 11.70it/s]\n"
     ]
    },
    {
     "name": "stdout",
     "output_type": "stream",
     "text": [
      "{'val_loss': 2.1211431513472303, 'val_accuracy': 0.6374045801526718, 'precision': 0.6404274314400997, 'recall': 0.6374045801526718, 'f1-score': 0.6312572279587456, 'macro_f1-score': 0.3486556752809225, 'balanced_accuracy': 0.35771713714492437, 'mcc': 0.5232429151996115, 'train_loss': 0.1714235900109066}\n",
      "Epoch 16/20\n"
     ]
    },
    {
     "name": "stderr",
     "output_type": "stream",
     "text": [
      "100%|██████████| 328/328 [00:28<00:00, 11.66it/s]\n"
     ]
    },
    {
     "name": "stdout",
     "output_type": "stream",
     "text": [
      "{'val_loss': 2.073922139297171, 'val_accuracy': 0.6366412213740458, 'precision': 0.6391240674168133, 'recall': 0.6366412213740458, 'f1-score': 0.6248760746983836, 'macro_f1-score': 0.38177193227465706, 'balanced_accuracy': 0.3794865401818134, 'mcc': 0.5108558245158499, 'train_loss': 0.14232226916469587}\n",
      "Epoch 17/20\n"
     ]
    },
    {
     "name": "stderr",
     "output_type": "stream",
     "text": [
      "100%|██████████| 328/328 [00:28<00:00, 11.70it/s]\n"
     ]
    },
    {
     "name": "stdout",
     "output_type": "stream",
     "text": [
      "{'val_loss': 2.1587535434561533, 'val_accuracy': 0.6580152671755726, 'precision': 0.6469138115114192, 'recall': 0.6580152671755726, 'f1-score': 0.6362117133768519, 'macro_f1-score': 0.39814850835769344, 'balanced_accuracy': 0.39463934439548204, 'mcc': 0.5364518211757967, 'train_loss': 0.12601611260523474}\n",
      "Epoch 18/20\n"
     ]
    },
    {
     "name": "stderr",
     "output_type": "stream",
     "text": [
      "100%|██████████| 328/328 [00:28<00:00, 11.70it/s]\n"
     ]
    },
    {
     "name": "stdout",
     "output_type": "stream",
     "text": [
      "{'val_loss': 2.1727947271088275, 'val_accuracy': 0.6480916030534352, 'precision': 0.6375025299602588, 'recall': 0.6480916030534352, 'f1-score': 0.6297481115594131, 'macro_f1-score': 0.36283701107639127, 'balanced_accuracy': 0.33917569665428293, 'mcc': 0.5213231107966948, 'train_loss': 0.11540391440318738}\n",
      "Epoch 19/20\n"
     ]
    },
    {
     "name": "stderr",
     "output_type": "stream",
     "text": [
      "100%|██████████| 328/328 [00:28<00:00, 11.70it/s]\n"
     ]
    },
    {
     "name": "stdout",
     "output_type": "stream",
     "text": [
      "{'val_loss': 2.2800129713808617, 'val_accuracy': 0.6351145038167939, 'precision': 0.6626199001978531, 'recall': 0.6351145038167939, 'f1-score': 0.637099391510683, 'macro_f1-score': 0.40540282289937635, 'balanced_accuracy': 0.39584772990167333, 'mcc': 0.5216267887884556, 'train_loss': 0.11090804192893457}\n",
      "Epoch 20/20\n"
     ]
    },
    {
     "name": "stderr",
     "output_type": "stream",
     "text": [
      "100%|██████████| 328/328 [00:28<00:00, 11.67it/s]\n"
     ]
    },
    {
     "name": "stdout",
     "output_type": "stream",
     "text": [
      "{'val_loss': 2.15087176386903, 'val_accuracy': 0.6396946564885496, 'precision': 0.6483089338997639, 'recall': 0.6396946564885496, 'f1-score': 0.6356813602234205, 'macro_f1-score': 0.3872141858001955, 'balanced_accuracy': 0.3784195715526098, 'mcc': 0.5257201366972604, 'train_loss': 0.10892804685792681}\n",
      "\n",
      "[Fold 2]\n",
      "Label distribution after resampling:\n",
      "  label 0: 2465\n",
      "  label 1: 22\n",
      "  label 2: 64\n",
      "  label 3: 24\n",
      "  label 4: 190\n",
      "  label 5: 113\n",
      "  label 6: 93\n",
      "  label 7: 31\n",
      "  label 8: 68\n",
      "  label 9: 29\n",
      "  label 10: 67\n",
      "  label 11: 169\n",
      "  label 12: 190\n",
      "  label 13: 29\n",
      "  label 14: 22\n",
      "  label 15: 25\n",
      "  label 16: 19\n",
      "  label 17: 181\n",
      "  label 18: 92\n",
      "  label 19: 44\n",
      "  label 20: 13\n",
      "  label 21: 35\n",
      "  label 22: 76\n",
      "  label 23: 158\n",
      "  label 24: 13\n",
      "  label 25: 44\n",
      "  label 26: 84\n",
      "  label 27: 47\n",
      "  label 28: 12\n",
      "  label 29: 12\n",
      "  label 30: 12\n",
      "  label 31: 75\n",
      "  label 32: 36\n",
      "  label 33: 31\n",
      "  label 34: 29\n",
      "  label 35: 12\n",
      "  label 36: 21\n",
      "  label 37: 16\n",
      "  label 38: 6\n",
      "  label 39: 33\n",
      "  label 40: 11\n",
      "  label 41: 8\n",
      "  label 42: 56\n",
      "  label 43: 6\n",
      "  label 44: 19\n",
      "  label 45: 9\n",
      "  label 46: 55\n",
      "  label 47: 241\n",
      "  label 48: 62\n",
      "  label 49: 68\n",
      "model is roberta-base\n"
     ]
    },
    {
     "name": "stderr",
     "output_type": "stream",
     "text": [
      "Some weights of RobertaForSequenceClassification were not initialized from the model checkpoint at roberta-base and are newly initialized: ['classifier.dense.bias', 'classifier.dense.weight', 'classifier.out_proj.bias', 'classifier.out_proj.weight']\n",
      "You should probably TRAIN this model on a down-stream task to be able to use it for predictions and inference.\n"
     ]
    },
    {
     "name": "stdout",
     "output_type": "stream",
     "text": [
      "Epoch 1/20\n"
     ]
    },
    {
     "name": "stderr",
     "output_type": "stream",
     "text": [
      "100%|██████████| 328/328 [00:28<00:00, 11.69it/s]\n"
     ]
    },
    {
     "name": "stdout",
     "output_type": "stream",
     "text": [
      "{'val_loss': 1.8555606007575989, 'val_accuracy': 0.5462184873949579, 'precision': 0.40873471185564614, 'recall': 0.5462184873949579, 'f1-score': 0.4638649241388001, 'macro_f1-score': 0.0702217277110194, 'balanced_accuracy': 0.09457797391222782, 'mcc': 0.36752432933378004, 'train_loss': 2.2298479463632512}\n",
      "Epoch 2/20\n"
     ]
    },
    {
     "name": "stderr",
     "output_type": "stream",
     "text": [
      "100%|██████████| 328/328 [00:28<00:00, 11.67it/s]\n"
     ]
    },
    {
     "name": "stdout",
     "output_type": "stream",
     "text": [
      "{'val_loss': 1.5981289842506734, 'val_accuracy': 0.5851795263559969, 'precision': 0.48737167994263203, 'recall': 0.5851795263559969, 'f1-score': 0.5205193994235666, 'macro_f1-score': 0.14048072827445662, 'balanced_accuracy': 0.1634261145620407, 'mcc': 0.42939176054476375, 'train_loss': 1.704491584039316}\n",
      "Epoch 3/20\n"
     ]
    },
    {
     "name": "stderr",
     "output_type": "stream",
     "text": [
      "100%|██████████| 328/328 [00:28<00:00, 11.68it/s]\n"
     ]
    },
    {
     "name": "stdout",
     "output_type": "stream",
     "text": [
      "{'val_loss': 1.5412527642598965, 'val_accuracy': 0.5951107715813598, 'precision': 0.5651574983898023, 'recall': 0.5951107715813598, 'f1-score': 0.5639138677565896, 'macro_f1-score': 0.1900831490508237, 'balanced_accuracy': 0.20329393257523898, 'mcc': 0.45819901167768495, 'train_loss': 1.3754190552707126}\n",
      "Epoch 4/20\n"
     ]
    },
    {
     "name": "stderr",
     "output_type": "stream",
     "text": [
      "100%|██████████| 328/328 [00:28<00:00, 11.66it/s]\n"
     ]
    },
    {
     "name": "stdout",
     "output_type": "stream",
     "text": [
      "{'val_loss': 1.4826105793074864, 'val_accuracy': 0.6279602750190986, 'precision': 0.5656708692408412, 'recall': 0.6279602750190986, 'f1-score': 0.5891055540614762, 'macro_f1-score': 0.23499738885710988, 'balanced_accuracy': 0.24859979223461118, 'mcc': 0.4956773537001488, 'train_loss': 1.1449005820947449}\n",
      "Epoch 5/20\n"
     ]
    },
    {
     "name": "stderr",
     "output_type": "stream",
     "text": [
      "100%|██████████| 328/328 [00:28<00:00, 11.68it/s]\n"
     ]
    },
    {
     "name": "stdout",
     "output_type": "stream",
     "text": [
      "{'val_loss': 1.4437128957815286, 'val_accuracy': 0.6493506493506493, 'precision': 0.5941966205909964, 'recall': 0.6493506493506493, 'f1-score': 0.6141411007709314, 'macro_f1-score': 0.280569908749372, 'balanced_accuracy': 0.2926383041886306, 'mcc': 0.5269820175837511, 'train_loss': 0.9295552302515362}\n",
      "Epoch 6/20\n"
     ]
    },
    {
     "name": "stderr",
     "output_type": "stream",
     "text": [
      "100%|██████████| 328/328 [00:28<00:00, 11.70it/s]\n"
     ]
    },
    {
     "name": "stdout",
     "output_type": "stream",
     "text": [
      "{'val_loss': 1.4663108768986493, 'val_accuracy': 0.6501145912910619, 'precision': 0.6226971102979921, 'recall': 0.6501145912910619, 'f1-score': 0.6286413024153419, 'macro_f1-score': 0.3169630716022977, 'balanced_accuracy': 0.33436289485673876, 'mcc': 0.5343976543490255, 'train_loss': 0.7301587458563651}\n",
      "Epoch 7/20\n"
     ]
    },
    {
     "name": "stderr",
     "output_type": "stream",
     "text": [
      "100%|██████████| 328/328 [00:28<00:00, 11.68it/s]\n"
     ]
    },
    {
     "name": "stdout",
     "output_type": "stream",
     "text": [
      "{'val_loss': 1.4620321200388233, 'val_accuracy': 0.6409472880061116, 'precision': 0.6249842613876316, 'recall': 0.6409472880061116, 'f1-score': 0.6196349046566544, 'macro_f1-score': 0.32752684837250584, 'balanced_accuracy': 0.3324528115489997, 'mcc': 0.5225871169789276, 'train_loss': 0.6024884649484259}\n",
      "Epoch 8/20\n"
     ]
    },
    {
     "name": "stderr",
     "output_type": "stream",
     "text": [
      "100%|██████████| 328/328 [00:28<00:00, 11.68it/s]\n"
     ]
    },
    {
     "name": "stdout",
     "output_type": "stream",
     "text": [
      "{'val_loss': 1.6040495763101228, 'val_accuracy': 0.6424751718869366, 'precision': 0.6210975087371416, 'recall': 0.6424751718869366, 'f1-score': 0.6215761361868081, 'macro_f1-score': 0.3175173528933306, 'balanced_accuracy': 0.3154944544415226, 'mcc': 0.5206081771550635, 'train_loss': 0.4735364741361814}\n",
      "Epoch 9/20\n"
     ]
    },
    {
     "name": "stderr",
     "output_type": "stream",
     "text": [
      "100%|██████████| 328/328 [00:28<00:00, 11.69it/s]\n"
     ]
    },
    {
     "name": "stdout",
     "output_type": "stream",
     "text": [
      "{'val_loss': 1.6932068325397445, 'val_accuracy': 0.6409472880061116, 'precision': 0.6283890281074157, 'recall': 0.6409472880061116, 'f1-score': 0.6273221079469024, 'macro_f1-score': 0.34287451735104263, 'balanced_accuracy': 0.3439296650547503, 'mcc': 0.5246768999517538, 'train_loss': 0.4103388983426934}\n",
      "Epoch 10/20\n"
     ]
    },
    {
     "name": "stderr",
     "output_type": "stream",
     "text": [
      "100%|██████████| 328/328 [00:28<00:00, 11.70it/s]\n"
     ]
    },
    {
     "name": "stdout",
     "output_type": "stream",
     "text": [
      "{'val_loss': 1.799860909672045, 'val_accuracy': 0.6577540106951871, 'precision': 0.6418217232538648, 'recall': 0.6577540106951871, 'f1-score': 0.6322314126177686, 'macro_f1-score': 0.3311251924546221, 'balanced_accuracy': 0.3154524514635924, 'mcc': 0.5339279707711683, 'train_loss': 0.3172699089116621}\n",
      "Epoch 11/20\n"
     ]
    },
    {
     "name": "stderr",
     "output_type": "stream",
     "text": [
      "100%|██████████| 328/328 [00:28<00:00, 11.68it/s]\n"
     ]
    },
    {
     "name": "stdout",
     "output_type": "stream",
     "text": [
      "{'val_loss': 1.6862197970835173, 'val_accuracy': 0.6508785332314744, 'precision': 0.6410999754257752, 'recall': 0.6508785332314744, 'f1-score': 0.6390280027891643, 'macro_f1-score': 0.3590410228867611, 'balanced_accuracy': 0.3697977817400828, 'mcc': 0.5406510728447982, 'train_loss': 0.25469776135642175}\n",
      "Epoch 12/20\n"
     ]
    },
    {
     "name": "stderr",
     "output_type": "stream",
     "text": [
      "100%|██████████| 328/328 [00:28<00:00, 11.68it/s]\n"
     ]
    },
    {
     "name": "stdout",
     "output_type": "stream",
     "text": [
      "{'val_loss': 1.8755850377606182, 'val_accuracy': 0.6249045072574484, 'precision': 0.6205137729224107, 'recall': 0.6249045072574484, 'f1-score': 0.6147392745720153, 'macro_f1-score': 0.33573578709915536, 'balanced_accuracy': 0.3480767844505476, 'mcc': 0.5124609018582833, 'train_loss': 0.20375041189467216}\n",
      "Epoch 13/20\n"
     ]
    },
    {
     "name": "stderr",
     "output_type": "stream",
     "text": [
      "100%|██████████| 328/328 [00:28<00:00, 11.67it/s]\n"
     ]
    },
    {
     "name": "stdout",
     "output_type": "stream",
     "text": [
      "{'val_loss': 1.824892923326754, 'val_accuracy': 0.6478227654698243, 'precision': 0.6409620930481201, 'recall': 0.6478227654698243, 'f1-score': 0.6309296068067206, 'macro_f1-score': 0.351757978222259, 'balanced_accuracy': 0.3517228844503051, 'mcc': 0.5215988696725834, 'train_loss': 0.18796231921069415}\n",
      "Epoch 14/20\n"
     ]
    },
    {
     "name": "stderr",
     "output_type": "stream",
     "text": [
      "100%|██████████| 328/328 [00:28<00:00, 11.68it/s]\n"
     ]
    },
    {
     "name": "stdout",
     "output_type": "stream",
     "text": [
      "{'val_loss': 2.0650473590485934, 'val_accuracy': 0.6279602750190986, 'precision': 0.6417289485841131, 'recall': 0.6279602750190986, 'f1-score': 0.6181994061758729, 'macro_f1-score': 0.33894114430486305, 'balanced_accuracy': 0.3490807818980135, 'mcc': 0.5077818255760433, 'train_loss': 0.1786291277115574}\n",
      "Early stopping.\n",
      "\n",
      "[Fold 3]\n",
      "Label distribution after resampling:\n",
      "  label 0: 2466\n",
      "  label 1: 21\n",
      "  label 2: 64\n",
      "  label 3: 24\n",
      "  label 4: 191\n",
      "  label 5: 113\n",
      "  label 6: 92\n",
      "  label 7: 31\n",
      "  label 8: 68\n",
      "  label 9: 29\n",
      "  label 10: 68\n",
      "  label 11: 168\n",
      "  label 12: 190\n",
      "  label 13: 29\n",
      "  label 14: 22\n",
      "  label 15: 25\n",
      "  label 16: 19\n",
      "  label 17: 181\n",
      "  label 18: 92\n",
      "  label 19: 44\n",
      "  label 20: 13\n",
      "  label 21: 36\n",
      "  label 22: 76\n",
      "  label 23: 158\n",
      "  label 24: 12\n",
      "  label 25: 44\n",
      "  label 26: 84\n",
      "  label 27: 48\n",
      "  label 28: 11\n",
      "  label 29: 13\n",
      "  label 30: 11\n",
      "  label 31: 75\n",
      "  label 32: 36\n",
      "  label 33: 31\n",
      "  label 34: 30\n",
      "  label 35: 11\n",
      "  label 36: 21\n",
      "  label 37: 16\n",
      "  label 38: 5\n",
      "  label 39: 33\n",
      "  label 40: 11\n",
      "  label 41: 9\n",
      "  label 42: 57\n",
      "  label 43: 7\n",
      "  label 44: 18\n",
      "  label 45: 9\n",
      "  label 46: 54\n",
      "  label 47: 242\n",
      "  label 48: 61\n",
      "  label 49: 68\n",
      "model is roberta-base\n"
     ]
    },
    {
     "name": "stderr",
     "output_type": "stream",
     "text": [
      "Some weights of RobertaForSequenceClassification were not initialized from the model checkpoint at roberta-base and are newly initialized: ['classifier.dense.bias', 'classifier.dense.weight', 'classifier.out_proj.bias', 'classifier.out_proj.weight']\n",
      "You should probably TRAIN this model on a down-stream task to be able to use it for predictions and inference.\n"
     ]
    },
    {
     "name": "stdout",
     "output_type": "stream",
     "text": [
      "Epoch 1/20\n"
     ]
    },
    {
     "name": "stderr",
     "output_type": "stream",
     "text": [
      "100%|██████████| 328/328 [00:28<00:00, 11.67it/s]\n"
     ]
    },
    {
     "name": "stdout",
     "output_type": "stream",
     "text": [
      "{'val_loss': 2.052268583600114, 'val_accuracy': 0.5378151260504201, 'precision': 0.3559247374548128, 'recall': 0.5378151260504201, 'f1-score': 0.4220383371794049, 'macro_f1-score': 0.04973132450182047, 'balanced_accuracy': 0.06466837063645574, 'mcc': 0.3185839586549284, 'train_loss': 2.288530202173605}\n",
      "Epoch 2/20\n"
     ]
    },
    {
     "name": "stderr",
     "output_type": "stream",
     "text": [
      "100%|██████████| 328/328 [00:28<00:00, 11.66it/s]\n"
     ]
    },
    {
     "name": "stdout",
     "output_type": "stream",
     "text": [
      "{'val_loss': 1.7484190282298298, 'val_accuracy': 0.5683728036669213, 'precision': 0.43889776667161556, 'recall': 0.5683728036669213, 'f1-score': 0.48749473347919353, 'macro_f1-score': 0.08678564716745228, 'balanced_accuracy': 0.1103977054063645, 'mcc': 0.4007036734746019, 'train_loss': 1.8602589534186735}\n",
      "Epoch 3/20\n"
     ]
    },
    {
     "name": "stderr",
     "output_type": "stream",
     "text": [
      "100%|██████████| 328/328 [00:28<00:00, 11.69it/s]\n"
     ]
    },
    {
     "name": "stdout",
     "output_type": "stream",
     "text": [
      "{'val_loss': 1.5695320633126468, 'val_accuracy': 0.6050420168067226, 'precision': 0.4726637047488015, 'recall': 0.6050420168067226, 'f1-score': 0.5196520390551544, 'macro_f1-score': 0.1263729130965596, 'balanced_accuracy': 0.13818618714191772, 'mcc': 0.4377499471476017, 'train_loss': 1.6112480990406943}\n",
      "Epoch 4/20\n"
     ]
    },
    {
     "name": "stderr",
     "output_type": "stream",
     "text": [
      "100%|██████████| 328/328 [00:28<00:00, 11.70it/s]\n"
     ]
    },
    {
     "name": "stdout",
     "output_type": "stream",
     "text": [
      "{'val_loss': 1.5381202138051755, 'val_accuracy': 0.6310160427807486, 'precision': 0.5477183700185309, 'recall': 0.6310160427807486, 'f1-score': 0.5775284392384139, 'macro_f1-score': 0.18826376123197933, 'balanced_accuracy': 0.19712788062030703, 'mcc': 0.49144291935880713, 'train_loss': 1.37351166974844}\n",
      "Epoch 5/20\n"
     ]
    },
    {
     "name": "stderr",
     "output_type": "stream",
     "text": [
      "100%|██████████| 328/328 [00:28<00:00, 11.67it/s]\n"
     ]
    },
    {
     "name": "stdout",
     "output_type": "stream",
     "text": [
      "{'val_loss': 1.496742186022968, 'val_accuracy': 0.612681436210848, 'precision': 0.583988645751883, 'recall': 0.612681436210848, 'f1-score': 0.582808193281103, 'macro_f1-score': 0.23303806231891663, 'balanced_accuracy': 0.24743318920966867, 'mcc': 0.4849919396021784, 'train_loss': 1.1698245819567181}\n",
      "Epoch 6/20\n"
     ]
    },
    {
     "name": "stderr",
     "output_type": "stream",
     "text": [
      "100%|██████████| 328/328 [00:28<00:00, 11.69it/s]\n"
     ]
    },
    {
     "name": "stdout",
     "output_type": "stream",
     "text": [
      "{'val_loss': 1.537626333716439, 'val_accuracy': 0.6294881588999236, 'precision': 0.5968651763430368, 'recall': 0.6294881588999236, 'f1-score': 0.5919822974928522, 'macro_f1-score': 0.27454578981312994, 'balanced_accuracy': 0.27956867700802923, 'mcc': 0.4973844038975867, 'train_loss': 0.9912314758431621}\n",
      "Epoch 7/20\n"
     ]
    },
    {
     "name": "stderr",
     "output_type": "stream",
     "text": [
      "100%|██████████| 328/328 [00:28<00:00, 11.70it/s]\n"
     ]
    },
    {
     "name": "stdout",
     "output_type": "stream",
     "text": [
      "{'val_loss': 1.47924697471828, 'val_accuracy': 0.6241405653170359, 'precision': 0.6052598535351473, 'recall': 0.6241405653170359, 'f1-score': 0.6015890283415897, 'macro_f1-score': 0.2746959892464297, 'balanced_accuracy': 0.2843474276138768, 'mcc': 0.5045103495210028, 'train_loss': 0.830567030849435}\n",
      "Epoch 8/20\n"
     ]
    },
    {
     "name": "stderr",
     "output_type": "stream",
     "text": [
      "100%|██████████| 328/328 [00:28<00:00, 11.70it/s]\n"
     ]
    },
    {
     "name": "stdout",
     "output_type": "stream",
     "text": [
      "{'val_loss': 1.556353492344298, 'val_accuracy': 0.6462948815889993, 'precision': 0.6185836792612649, 'recall': 0.6462948815889993, 'f1-score': 0.6221940197129436, 'macro_f1-score': 0.32594840409542913, 'balanced_accuracy': 0.3239213206820369, 'mcc': 0.5242537037223521, 'train_loss': 0.6817295564702008}\n",
      "Epoch 9/20\n"
     ]
    },
    {
     "name": "stderr",
     "output_type": "stream",
     "text": [
      "100%|██████████| 328/328 [00:28<00:00, 11.66it/s]\n"
     ]
    },
    {
     "name": "stdout",
     "output_type": "stream",
     "text": [
      "{'val_loss': 1.577307526658221, 'val_accuracy': 0.6608097784568373, 'precision': 0.6326151731096565, 'recall': 0.6608097784568373, 'f1-score': 0.6358174389591011, 'macro_f1-score': 0.32886723291688663, 'balanced_accuracy': 0.3216058934433094, 'mcc': 0.5429083414832983, 'train_loss': 0.5661994679717393}\n",
      "Epoch 10/20\n"
     ]
    },
    {
     "name": "stderr",
     "output_type": "stream",
     "text": [
      "100%|██████████| 328/328 [00:28<00:00, 11.70it/s]\n"
     ]
    },
    {
     "name": "stdout",
     "output_type": "stream",
     "text": [
      "{'val_loss': 1.705471413164604, 'val_accuracy': 0.6501145912910619, 'precision': 0.6248093611661664, 'recall': 0.6501145912910619, 'f1-score': 0.6269109194804642, 'macro_f1-score': 0.32405031699912146, 'balanced_accuracy': 0.3219420592440499, 'mcc': 0.5295865553223047, 'train_loss': 0.4725407682893025}\n",
      "Epoch 11/20\n"
     ]
    },
    {
     "name": "stderr",
     "output_type": "stream",
     "text": [
      "100%|██████████| 328/328 [00:28<00:00, 11.66it/s]\n"
     ]
    },
    {
     "name": "stdout",
     "output_type": "stream",
     "text": [
      "{'val_loss': 1.9106568221638842, 'val_accuracy': 0.5981665393430099, 'precision': 0.6563916529833423, 'recall': 0.5981665393430099, 'f1-score': 0.6129061237973447, 'macro_f1-score': 0.3526917321411329, 'balanced_accuracy': 0.3978340041928277, 'mcc': 0.5019470704682922, 'train_loss': 0.38231917234455665}\n",
      "Epoch 12/20\n"
     ]
    },
    {
     "name": "stderr",
     "output_type": "stream",
     "text": [
      "100%|██████████| 328/328 [00:28<00:00, 11.69it/s]\n"
     ]
    },
    {
     "name": "stdout",
     "output_type": "stream",
     "text": [
      "{'val_loss': 1.6743481508115443, 'val_accuracy': 0.6569900687547746, 'precision': 0.6407314966677198, 'recall': 0.6569900687547746, 'f1-score': 0.6377256617650012, 'macro_f1-score': 0.37194139552846145, 'balanced_accuracy': 0.35056533880037355, 'mcc': 0.5396286867451912, 'train_loss': 0.34556835036293215}\n",
      "Epoch 13/20\n"
     ]
    },
    {
     "name": "stderr",
     "output_type": "stream",
     "text": [
      "100%|██████████| 328/328 [00:28<00:00, 11.66it/s]\n"
     ]
    },
    {
     "name": "stdout",
     "output_type": "stream",
     "text": [
      "{'val_loss': 1.769676254653349, 'val_accuracy': 0.6432391138273491, 'precision': 0.6441272028027556, 'recall': 0.6432391138273491, 'f1-score': 0.6361950300511519, 'macro_f1-score': 0.3777296060061988, 'balanced_accuracy': 0.3908390544673946, 'mcc': 0.5333827629386855, 'train_loss': 0.32500844586231725}\n",
      "Epoch 14/20\n"
     ]
    },
    {
     "name": "stderr",
     "output_type": "stream",
     "text": [
      "100%|██████████| 328/328 [00:28<00:00, 11.67it/s]\n"
     ]
    },
    {
     "name": "stdout",
     "output_type": "stream",
     "text": [
      "{'val_loss': 1.8322859083007021, 'val_accuracy': 0.6462948815889993, 'precision': 0.6450079758421446, 'recall': 0.6462948815889993, 'f1-score': 0.6384862353029473, 'macro_f1-score': 0.39718388544676336, 'balanced_accuracy': 0.4031027000066947, 'mcc': 0.53437300589085, 'train_loss': 0.24032941449251843}\n",
      "Epoch 15/20\n"
     ]
    },
    {
     "name": "stderr",
     "output_type": "stream",
     "text": [
      "100%|██████████| 328/328 [00:28<00:00, 11.69it/s]\n"
     ]
    },
    {
     "name": "stdout",
     "output_type": "stream",
     "text": [
      "{'val_loss': 1.7979768209341096, 'val_accuracy': 0.6462948815889993, 'precision': 0.6391917971270596, 'recall': 0.6462948815889993, 'f1-score': 0.6343104503905792, 'macro_f1-score': 0.38671254870015637, 'balanced_accuracy': 0.39364842188239135, 'mcc': 0.5344206314284936, 'train_loss': 0.24545843566472575}\n",
      "Epoch 16/20\n"
     ]
    },
    {
     "name": "stderr",
     "output_type": "stream",
     "text": [
      "100%|██████████| 328/328 [00:28<00:00, 11.69it/s]\n"
     ]
    },
    {
     "name": "stdout",
     "output_type": "stream",
     "text": [
      "{'val_loss': 1.997387848249296, 'val_accuracy': 0.6187929717341482, 'precision': 0.6438593228579411, 'recall': 0.6187929717341482, 'f1-score': 0.6211728266855194, 'macro_f1-score': 0.37039818308571254, 'balanced_accuracy': 0.37728495242884136, 'mcc': 0.513829416390608, 'train_loss': 0.21872179241703324}\n",
      "Epoch 17/20\n"
     ]
    },
    {
     "name": "stderr",
     "output_type": "stream",
     "text": [
      "100%|██████████| 328/328 [00:28<00:00, 11.66it/s]\n"
     ]
    },
    {
     "name": "stdout",
     "output_type": "stream",
     "text": [
      "{'val_loss': 1.9055782603781397, 'val_accuracy': 0.6462948815889993, 'precision': 0.642678992347382, 'recall': 0.6462948815889993, 'f1-score': 0.6380170001340763, 'macro_f1-score': 0.390827112804901, 'balanced_accuracy': 0.39553501331151186, 'mcc': 0.5382554020219878, 'train_loss': 0.17843371256760027}\n",
      "Early stopping.\n",
      "\n",
      "[Fold 4]\n",
      "Label distribution after resampling:\n",
      "  label 0: 2466\n",
      "  label 1: 21\n",
      "  label 2: 64\n",
      "  label 3: 24\n",
      "  label 4: 191\n",
      "  label 5: 113\n",
      "  label 6: 93\n",
      "  label 7: 30\n",
      "  label 8: 68\n",
      "  label 9: 30\n",
      "  label 10: 67\n",
      "  label 11: 169\n",
      "  label 12: 189\n",
      "  label 13: 29\n",
      "  label 14: 22\n",
      "  label 15: 25\n",
      "  label 16: 19\n",
      "  label 17: 181\n",
      "  label 18: 92\n",
      "  label 19: 44\n",
      "  label 20: 14\n",
      "  label 21: 35\n",
      "  label 22: 76\n",
      "  label 23: 158\n",
      "  label 24: 13\n",
      "  label 25: 44\n",
      "  label 26: 84\n",
      "  label 27: 47\n",
      "  label 28: 11\n",
      "  label 29: 13\n",
      "  label 30: 11\n",
      "  label 31: 75\n",
      "  label 32: 36\n",
      "  label 33: 31\n",
      "  label 34: 30\n",
      "  label 35: 11\n",
      "  label 36: 22\n",
      "  label 37: 16\n",
      "  label 38: 5\n",
      "  label 39: 33\n",
      "  label 40: 10\n",
      "  label 41: 9\n",
      "  label 42: 57\n",
      "  label 43: 7\n",
      "  label 44: 18\n",
      "  label 45: 9\n",
      "  label 46: 54\n",
      "  label 47: 242\n",
      "  label 48: 61\n",
      "  label 49: 68\n",
      "model is roberta-base\n"
     ]
    },
    {
     "name": "stderr",
     "output_type": "stream",
     "text": [
      "Some weights of RobertaForSequenceClassification were not initialized from the model checkpoint at roberta-base and are newly initialized: ['classifier.dense.bias', 'classifier.dense.weight', 'classifier.out_proj.bias', 'classifier.out_proj.weight']\n",
      "You should probably TRAIN this model on a down-stream task to be able to use it for predictions and inference.\n"
     ]
    },
    {
     "name": "stdout",
     "output_type": "stream",
     "text": [
      "Epoch 1/20\n"
     ]
    },
    {
     "name": "stderr",
     "output_type": "stream",
     "text": [
      "100%|██████████| 328/328 [00:28<00:00, 11.69it/s]\n"
     ]
    },
    {
     "name": "stdout",
     "output_type": "stream",
     "text": [
      "{'val_loss': 2.0282309411502464, 'val_accuracy': 0.5355233002291826, 'precision': 0.36434860260329494, 'recall': 0.5355233002291826, 'f1-score': 0.41196755388657735, 'macro_f1-score': 0.048901295729389054, 'balanced_accuracy': 0.06804952494314197, 'mcc': 0.3092214084312817, 'train_loss': 2.3592040707788815}\n",
      "Epoch 2/20\n"
     ]
    },
    {
     "name": "stderr",
     "output_type": "stream",
     "text": [
      "100%|██████████| 328/328 [00:28<00:00, 11.69it/s]\n"
     ]
    },
    {
     "name": "stdout",
     "output_type": "stream",
     "text": [
      "{'val_loss': 1.7663225022757925, 'val_accuracy': 0.5592055003819709, 'precision': 0.4439044593017775, 'recall': 0.5592055003819709, 'f1-score': 0.48180515987252953, 'macro_f1-score': 0.09360588259092932, 'balanced_accuracy': 0.1149951257688976, 'mcc': 0.3873867082399727, 'train_loss': 1.8246480326463537}\n",
      "Epoch 3/20\n"
     ]
    },
    {
     "name": "stderr",
     "output_type": "stream",
     "text": [
      "100%|██████████| 328/328 [00:28<00:00, 11.68it/s]\n"
     ]
    },
    {
     "name": "stdout",
     "output_type": "stream",
     "text": [
      "{'val_loss': 1.5514822100720755, 'val_accuracy': 0.6065699006875478, 'precision': 0.5321360075462425, 'recall': 0.6065699006875478, 'f1-score': 0.5466567853480825, 'macro_f1-score': 0.19144237918244456, 'balanced_accuracy': 0.2021195114868657, 'mcc': 0.4568018191628764, 'train_loss': 1.4842849262967341}\n",
      "Epoch 4/20\n"
     ]
    },
    {
     "name": "stderr",
     "output_type": "stream",
     "text": [
      "100%|██████████| 328/328 [00:28<00:00, 11.66it/s]\n"
     ]
    },
    {
     "name": "stdout",
     "output_type": "stream",
     "text": [
      "{'val_loss': 1.553204613124452, 'val_accuracy': 0.6088617265087853, 'precision': 0.5504882080352388, 'recall': 0.6088617265087853, 'f1-score': 0.5541027596667194, 'macro_f1-score': 0.2173931741722436, 'balanced_accuracy': 0.21308871828859485, 'mcc': 0.4571485321983777, 'train_loss': 1.2138065945629666}\n",
      "Epoch 5/20\n"
     ]
    },
    {
     "name": "stderr",
     "output_type": "stream",
     "text": [
      "100%|██████████| 328/328 [00:28<00:00, 11.68it/s]\n"
     ]
    },
    {
     "name": "stdout",
     "output_type": "stream",
     "text": [
      "{'val_loss': 1.6229485680417317, 'val_accuracy': 0.5767761650114591, 'precision': 0.5911980462885924, 'recall': 0.5767761650114591, 'f1-score': 0.5707949487031962, 'macro_f1-score': 0.2614107824092248, 'balanced_accuracy': 0.29022546442333047, 'mcc': 0.47145634444708806, 'train_loss': 0.9903854231191117}\n",
      "Epoch 6/20\n"
     ]
    },
    {
     "name": "stderr",
     "output_type": "stream",
     "text": [
      "100%|██████████| 328/328 [00:28<00:00, 11.67it/s]\n"
     ]
    },
    {
     "name": "stdout",
     "output_type": "stream",
     "text": [
      "{'val_loss': 1.5769307653351528, 'val_accuracy': 0.6157372039724981, 'precision': 0.5884690720130517, 'recall': 0.6157372039724981, 'f1-score': 0.5911428832971899, 'macro_f1-score': 0.2961934657394924, 'balanced_accuracy': 0.305618156738511, 'mcc': 0.490355011800625, 'train_loss': 0.7837657342415031}\n",
      "Epoch 7/20\n"
     ]
    },
    {
     "name": "stderr",
     "output_type": "stream",
     "text": [
      "100%|██████████| 328/328 [00:28<00:00, 11.68it/s]\n"
     ]
    },
    {
     "name": "stdout",
     "output_type": "stream",
     "text": [
      "{'val_loss': 1.6773371383911226, 'val_accuracy': 0.6065699006875478, 'precision': 0.6022017411799717, 'recall': 0.6065699006875478, 'f1-score': 0.5954246765646578, 'macro_f1-score': 0.29561376703102776, 'balanced_accuracy': 0.3021550386756895, 'mcc': 0.49180944410113286, 'train_loss': 0.627417878429519}\n",
      "Epoch 8/20\n"
     ]
    },
    {
     "name": "stderr",
     "output_type": "stream",
     "text": [
      "100%|██████████| 328/328 [00:28<00:00, 11.66it/s]\n"
     ]
    },
    {
     "name": "stdout",
     "output_type": "stream",
     "text": [
      "{'val_loss': 1.7239332806046417, 'val_accuracy': 0.6355996944232238, 'precision': 0.6100132674436128, 'recall': 0.6355996944232238, 'f1-score': 0.6115009638201897, 'macro_f1-score': 0.33060248672263, 'balanced_accuracy': 0.3101957918426337, 'mcc': 0.5054129200302554, 'train_loss': 0.4848090327776423}\n",
      "Epoch 9/20\n"
     ]
    },
    {
     "name": "stderr",
     "output_type": "stream",
     "text": [
      "100%|██████████| 328/328 [00:28<00:00, 11.68it/s]\n"
     ]
    },
    {
     "name": "stdout",
     "output_type": "stream",
     "text": [
      "{'val_loss': 1.7903907618871548, 'val_accuracy': 0.6218487394957983, 'precision': 0.620300561068593, 'recall': 0.6218487394957983, 'f1-score': 0.6133646595828858, 'macro_f1-score': 0.33449964389062337, 'balanced_accuracy': 0.33666582200761797, 'mcc': 0.5091688944305117, 'train_loss': 0.39959657560216216}\n",
      "Epoch 10/20\n"
     ]
    },
    {
     "name": "stderr",
     "output_type": "stream",
     "text": [
      "100%|██████████| 328/328 [00:28<00:00, 11.70it/s]\n"
     ]
    },
    {
     "name": "stdout",
     "output_type": "stream",
     "text": [
      "{'val_loss': 1.8956084923773278, 'val_accuracy': 0.6111535523300229, 'precision': 0.6164900774117792, 'recall': 0.6111535523300229, 'f1-score': 0.603211846191861, 'macro_f1-score': 0.3158357794804281, 'balanced_accuracy': 0.31494549269082867, 'mcc': 0.4906957727209553, 'train_loss': 0.33117163816762224}\n",
      "Epoch 11/20\n"
     ]
    },
    {
     "name": "stderr",
     "output_type": "stream",
     "text": [
      "100%|██████████| 328/328 [00:28<00:00, 11.67it/s]\n"
     ]
    },
    {
     "name": "stdout",
     "output_type": "stream",
     "text": [
      "{'val_loss': 1.9192663852761431, 'val_accuracy': 0.6165011459129106, 'precision': 0.6102975246913781, 'recall': 0.6165011459129106, 'f1-score': 0.6070581906907284, 'macro_f1-score': 0.3391082889581999, 'balanced_accuracy': 0.3260210609171116, 'mcc': 0.4968944964521462, 'train_loss': 0.2584249093254074}\n",
      "Epoch 12/20\n"
     ]
    },
    {
     "name": "stderr",
     "output_type": "stream",
     "text": [
      "100%|██████████| 328/328 [00:28<00:00, 11.68it/s]\n"
     ]
    },
    {
     "name": "stdout",
     "output_type": "stream",
     "text": [
      "{'val_loss': 2.0343310985623337, 'val_accuracy': 0.6050420168067226, 'precision': 0.6145723568863661, 'recall': 0.6050420168067226, 'f1-score': 0.6023526670719346, 'macro_f1-score': 0.34030351455023394, 'balanced_accuracy': 0.33226248187391405, 'mcc': 0.4856691085066807, 'train_loss': 0.2085768372848312}\n",
      "Epoch 13/20\n"
     ]
    },
    {
     "name": "stderr",
     "output_type": "stream",
     "text": [
      "100%|██████████| 328/328 [00:28<00:00, 11.69it/s]\n"
     ]
    },
    {
     "name": "stdout",
     "output_type": "stream",
     "text": [
      "{'val_loss': 2.120980235861569, 'val_accuracy': 0.6027501909854851, 'precision': 0.6070245216588196, 'recall': 0.6027501909854851, 'f1-score': 0.5981771990412522, 'macro_f1-score': 0.35696652365757925, 'balanced_accuracy': 0.33875753847902884, 'mcc': 0.4811417767073121, 'train_loss': 0.16734814195518904}\n",
      "Epoch 14/20\n"
     ]
    },
    {
     "name": "stderr",
     "output_type": "stream",
     "text": [
      "100%|██████████| 328/328 [00:28<00:00, 11.70it/s]\n"
     ]
    },
    {
     "name": "stdout",
     "output_type": "stream",
     "text": [
      "{'val_loss': 2.070817084574118, 'val_accuracy': 0.6088617265087853, 'precision': 0.6273022676652812, 'recall': 0.6088617265087853, 'f1-score': 0.6114324053296061, 'macro_f1-score': 0.3576072140125659, 'balanced_accuracy': 0.35970654506759847, 'mcc': 0.48635245844318353, 'train_loss': 0.15509530354472922}\n",
      "Epoch 15/20\n"
     ]
    },
    {
     "name": "stderr",
     "output_type": "stream",
     "text": [
      "100%|██████████| 328/328 [00:28<00:00, 11.66it/s]\n"
     ]
    },
    {
     "name": "stdout",
     "output_type": "stream",
     "text": [
      "{'val_loss': 2.1315855303915536, 'val_accuracy': 0.6142093200916731, 'precision': 0.6129716787510386, 'recall': 0.6142093200916731, 'f1-score': 0.603385602256967, 'macro_f1-score': 0.342053921616767, 'balanced_accuracy': 0.32929930129363705, 'mcc': 0.4898966673599894, 'train_loss': 0.1688670727662833}\n",
      "Epoch 16/20\n"
     ]
    },
    {
     "name": "stderr",
     "output_type": "stream",
     "text": [
      "100%|██████████| 328/328 [00:28<00:00, 11.68it/s]\n"
     ]
    },
    {
     "name": "stdout",
     "output_type": "stream",
     "text": [
      "{'val_loss': 2.328191037585096, 'val_accuracy': 0.6080977845683728, 'precision': 0.6095399610526299, 'recall': 0.6080977845683728, 'f1-score': 0.5938117148859726, 'macro_f1-score': 0.3404552183300893, 'balanced_accuracy': 0.3229803217171746, 'mcc': 0.46952776969862225, 'train_loss': 0.13078194532384416}\n",
      "Epoch 17/20\n"
     ]
    },
    {
     "name": "stderr",
     "output_type": "stream",
     "text": [
      "100%|██████████| 328/328 [00:28<00:00, 11.67it/s]\n"
     ]
    },
    {
     "name": "stdout",
     "output_type": "stream",
     "text": [
      "{'val_loss': 2.1355759712254128, 'val_accuracy': 0.6019862490450726, 'precision': 0.6188052126716143, 'recall': 0.6019862490450726, 'f1-score': 0.5985489880601086, 'macro_f1-score': 0.3344390097261687, 'balanced_accuracy': 0.3311130825581598, 'mcc': 0.4813192995199999, 'train_loss': 0.13570939656347036}\n",
      "Early stopping.\n",
      "\n",
      "[Fold 5]\n",
      "Label distribution after resampling:\n",
      "  label 0: 2466\n",
      "  label 1: 22\n",
      "  label 2: 64\n",
      "  label 3: 24\n",
      "  label 4: 190\n",
      "  label 5: 113\n",
      "  label 6: 93\n",
      "  label 7: 30\n",
      "  label 8: 68\n",
      "  label 9: 30\n",
      "  label 10: 67\n",
      "  label 11: 169\n",
      "  label 12: 189\n",
      "  label 13: 29\n",
      "  label 14: 23\n",
      "  label 15: 24\n",
      "  label 16: 20\n",
      "  label 17: 180\n",
      "  label 18: 92\n",
      "  label 19: 44\n",
      "  label 20: 14\n",
      "  label 21: 35\n",
      "  label 22: 76\n",
      "  label 23: 157\n",
      "  label 24: 13\n",
      "  label 25: 44\n",
      "  label 26: 84\n",
      "  label 27: 47\n",
      "  label 28: 11\n",
      "  label 29: 13\n",
      "  label 30: 11\n",
      "  label 31: 75\n",
      "  label 32: 36\n",
      "  label 33: 31\n",
      "  label 34: 30\n",
      "  label 35: 11\n",
      "  label 36: 22\n",
      "  label 37: 16\n",
      "  label 38: 6\n",
      "  label 39: 33\n",
      "  label 40: 10\n",
      "  label 41: 9\n",
      "  label 42: 57\n",
      "  label 43: 6\n",
      "  label 44: 18\n",
      "  label 45: 9\n",
      "  label 46: 54\n",
      "  label 47: 242\n",
      "  label 48: 62\n",
      "  label 49: 68\n",
      "model is roberta-base\n"
     ]
    },
    {
     "name": "stderr",
     "output_type": "stream",
     "text": [
      "Some weights of RobertaForSequenceClassification were not initialized from the model checkpoint at roberta-base and are newly initialized: ['classifier.dense.bias', 'classifier.dense.weight', 'classifier.out_proj.bias', 'classifier.out_proj.weight']\n",
      "You should probably TRAIN this model on a down-stream task to be able to use it for predictions and inference.\n"
     ]
    },
    {
     "name": "stdout",
     "output_type": "stream",
     "text": [
      "Epoch 1/20\n"
     ]
    },
    {
     "name": "stderr",
     "output_type": "stream",
     "text": [
      "100%|██████████| 328/328 [00:28<00:00, 11.68it/s]\n"
     ]
    },
    {
     "name": "stdout",
     "output_type": "stream",
     "text": [
      "{'val_loss': 1.9779734669662103, 'val_accuracy': 0.5393430099312452, 'precision': 0.36731833873807346, 'recall': 0.5393430099312452, 'f1-score': 0.4303942691064333, 'macro_f1-score': 0.053353357436327735, 'balanced_accuracy': 0.0758023244871071, 'mcc': 0.333041461873235, 'train_loss': 2.264784279938151}\n",
      "Epoch 2/20\n"
     ]
    },
    {
     "name": "stderr",
     "output_type": "stream",
     "text": [
      "100%|██████████| 328/328 [00:28<00:00, 11.67it/s]\n"
     ]
    },
    {
     "name": "stdout",
     "output_type": "stream",
     "text": [
      "{'val_loss': 1.6564616779001748, 'val_accuracy': 0.586707410236822, 'precision': 0.46494472623423266, 'recall': 0.586707410236822, 'f1-score': 0.5027344509055989, 'macro_f1-score': 0.1261807486134942, 'balanced_accuracy': 0.14387440861512069, 'mcc': 0.41507844056660964, 'train_loss': 1.792382931745634}\n",
      "Epoch 3/20\n"
     ]
    },
    {
     "name": "stderr",
     "output_type": "stream",
     "text": [
      "100%|██████████| 328/328 [00:28<00:00, 11.66it/s]\n"
     ]
    },
    {
     "name": "stdout",
     "output_type": "stream",
     "text": [
      "{'val_loss': 1.5509238930010214, 'val_accuracy': 0.586707410236822, 'precision': 0.49689502502143895, 'recall': 0.586707410236822, 'f1-score': 0.5218962161296864, 'macro_f1-score': 0.15109841519853884, 'balanced_accuracy': 0.1639552471914499, 'mcc': 0.4270234764035398, 'train_loss': 1.4943124017700917}\n",
      "Epoch 4/20\n"
     ]
    },
    {
     "name": "stderr",
     "output_type": "stream",
     "text": [
      "100%|██████████| 328/328 [00:28<00:00, 11.69it/s]\n"
     ]
    },
    {
     "name": "stdout",
     "output_type": "stream",
     "text": [
      "{'val_loss': 1.5205257669454668, 'val_accuracy': 0.5935828877005348, 'precision': 0.5565476777146006, 'recall': 0.5935828877005348, 'f1-score': 0.5564608075936807, 'macro_f1-score': 0.20167353594678822, 'balanced_accuracy': 0.23071587973654195, 'mcc': 0.4610870882507556, 'train_loss': 1.2422950480405877}\n",
      "Epoch 5/20\n"
     ]
    },
    {
     "name": "stderr",
     "output_type": "stream",
     "text": [
      "100%|██████████| 328/328 [00:28<00:00, 11.70it/s]\n"
     ]
    },
    {
     "name": "stdout",
     "output_type": "stream",
     "text": [
      "{'val_loss': 1.5871266751754574, 'val_accuracy': 0.6042780748663101, 'precision': 0.5727251256259284, 'recall': 0.6042780748663101, 'f1-score': 0.5737165752942894, 'macro_f1-score': 0.2552194841613265, 'balanced_accuracy': 0.27370181775643476, 'mcc': 0.474445342749139, 'train_loss': 1.016537544885423}\n",
      "Epoch 6/20\n"
     ]
    },
    {
     "name": "stderr",
     "output_type": "stream",
     "text": [
      "100%|██████████| 328/328 [00:28<00:00, 11.66it/s]\n"
     ]
    },
    {
     "name": "stdout",
     "output_type": "stream",
     "text": [
      "{'val_loss': 1.5637074374571078, 'val_accuracy': 0.6287242169595111, 'precision': 0.5951092879703263, 'recall': 0.6287242169595111, 'f1-score': 0.597484321326976, 'macro_f1-score': 0.2736925618320849, 'balanced_accuracy': 0.2984080200209895, 'mcc': 0.500653158881559, 'train_loss': 0.8220197669593845}\n",
      "Epoch 7/20\n"
     ]
    },
    {
     "name": "stderr",
     "output_type": "stream",
     "text": [
      "100%|██████████| 328/328 [00:28<00:00, 11.69it/s]\n"
     ]
    },
    {
     "name": "stdout",
     "output_type": "stream",
     "text": [
      "{'val_loss': 1.6029597099234418, 'val_accuracy': 0.6317799847211611, 'precision': 0.6213215291596829, 'recall': 0.6317799847211611, 'f1-score': 0.608608572581441, 'macro_f1-score': 0.28982603046414185, 'balanced_accuracy': 0.2929747981711234, 'mcc': 0.5065309919550046, 'train_loss': 0.68295705450199}\n",
      "Epoch 8/20\n"
     ]
    },
    {
     "name": "stderr",
     "output_type": "stream",
     "text": [
      "100%|██████████| 328/328 [00:28<00:00, 11.69it/s]\n"
     ]
    },
    {
     "name": "stdout",
     "output_type": "stream",
     "text": [
      "{'val_loss': 1.6516302518728303, 'val_accuracy': 0.6302521008403361, 'precision': 0.6298179507935736, 'recall': 0.6302521008403361, 'f1-score': 0.6194422885374039, 'macro_f1-score': 0.32450349177489207, 'balanced_accuracy': 0.32941954820205593, 'mcc': 0.5163142863599921, 'train_loss': 0.5312207377311297}\n",
      "Epoch 9/20\n"
     ]
    },
    {
     "name": "stderr",
     "output_type": "stream",
     "text": [
      "100%|██████████| 328/328 [00:28<00:00, 11.70it/s]\n"
     ]
    },
    {
     "name": "stdout",
     "output_type": "stream",
     "text": [
      "{'val_loss': 1.7313581963137883, 'val_accuracy': 0.6249045072574484, 'precision': 0.6128282493934328, 'recall': 0.6249045072574484, 'f1-score': 0.6062138670616342, 'macro_f1-score': 0.31197183964904635, 'balanced_accuracy': 0.2997087841863047, 'mcc': 0.49833155473412255, 'train_loss': 0.46262325888227035}\n",
      "Epoch 10/20\n"
     ]
    },
    {
     "name": "stderr",
     "output_type": "stream",
     "text": [
      "100%|██████████| 328/328 [00:28<00:00, 11.65it/s]\n"
     ]
    },
    {
     "name": "stdout",
     "output_type": "stream",
     "text": [
      "{'val_loss': 1.9183948065449552, 'val_accuracy': 0.5920550038197097, 'precision': 0.628423156156972, 'recall': 0.5920550038197097, 'f1-score': 0.5980928647500448, 'macro_f1-score': 0.3169613514584364, 'balanced_accuracy': 0.3677266608259003, 'mcc': 0.49329442462380063, 'train_loss': 0.3777913212344596}\n",
      "Epoch 11/20\n"
     ]
    },
    {
     "name": "stderr",
     "output_type": "stream",
     "text": [
      "100%|██████████| 328/328 [00:28<00:00, 11.70it/s]\n"
     ]
    },
    {
     "name": "stdout",
     "output_type": "stream",
     "text": [
      "{'val_loss': 1.8661064091252118, 'val_accuracy': 0.6180290297937356, 'precision': 0.6293916537463389, 'recall': 0.6180290297937356, 'f1-score': 0.6124370365865107, 'macro_f1-score': 0.3315540964927488, 'balanced_accuracy': 0.3502601313113831, 'mcc': 0.5054293133986483, 'train_loss': 0.3157414930202521}\n",
      "Epoch 12/20\n"
     ]
    },
    {
     "name": "stderr",
     "output_type": "stream",
     "text": [
      "100%|██████████| 328/328 [00:28<00:00, 11.66it/s]\n"
     ]
    },
    {
     "name": "stdout",
     "output_type": "stream",
     "text": [
      "{'val_loss': 1.875195216841814, 'val_accuracy': 0.6310160427807486, 'precision': 0.6288902294214157, 'recall': 0.6310160427807486, 'f1-score': 0.6161044680966984, 'macro_f1-score': 0.3424760298294972, 'balanced_accuracy': 0.33440591413043963, 'mcc': 0.5042124407209191, 'train_loss': 0.28141353041410627}\n",
      "Epoch 13/20\n"
     ]
    },
    {
     "name": "stderr",
     "output_type": "stream",
     "text": [
      "100%|██████████| 328/328 [00:28<00:00, 11.69it/s]\n"
     ]
    },
    {
     "name": "stdout",
     "output_type": "stream",
     "text": [
      "{'val_loss': 1.9505589964186274, 'val_accuracy': 0.6157372039724981, 'precision': 0.6538660319499027, 'recall': 0.6157372039724981, 'f1-score': 0.6244967485135419, 'macro_f1-score': 0.36373236189739006, 'balanced_accuracy': 0.38154569287669304, 'mcc': 0.5129902993601941, 'train_loss': 0.22935950413357648}\n",
      "Epoch 14/20\n"
     ]
    },
    {
     "name": "stderr",
     "output_type": "stream",
     "text": [
      "100%|██████████| 328/328 [00:28<00:00, 11.66it/s]\n"
     ]
    },
    {
     "name": "stdout",
     "output_type": "stream",
     "text": [
      "{'val_loss': 2.0698547243345073, 'val_accuracy': 0.6325439266615738, 'precision': 0.6177354004394643, 'recall': 0.6325439266615738, 'f1-score': 0.612428281217476, 'macro_f1-score': 0.3383252044538668, 'balanced_accuracy': 0.3337886487026681, 'mcc': 0.5009785048477491, 'train_loss': 0.20406210311495404}\n",
      "Epoch 15/20\n"
     ]
    },
    {
     "name": "stderr",
     "output_type": "stream",
     "text": [
      "100%|██████████| 328/328 [00:28<00:00, 11.67it/s]\n"
     ]
    },
    {
     "name": "stdout",
     "output_type": "stream",
     "text": [
      "{'val_loss': 2.067750013456112, 'val_accuracy': 0.6485867074102368, 'precision': 0.6422362103809146, 'recall': 0.6485867074102368, 'f1-score': 0.6250342496498398, 'macro_f1-score': 0.3817075336046022, 'balanced_accuracy': 0.354537125286284, 'mcc': 0.5153538645846357, 'train_loss': 0.17720442449549076}\n",
      "Epoch 16/20\n"
     ]
    },
    {
     "name": "stderr",
     "output_type": "stream",
     "text": [
      "100%|██████████| 328/328 [00:28<00:00, 11.69it/s]\n"
     ]
    },
    {
     "name": "stdout",
     "output_type": "stream",
     "text": [
      "{'val_loss': 1.949082688587468, 'val_accuracy': 0.6424751718869366, 'precision': 0.6259512406831573, 'recall': 0.6424751718869366, 'f1-score': 0.627077156166112, 'macro_f1-score': 0.36570679578902443, 'balanced_accuracy': 0.36991147820337483, 'mcc': 0.5256583879334044, 'train_loss': 0.1696824271163744}\n",
      "Epoch 17/20\n"
     ]
    },
    {
     "name": "stderr",
     "output_type": "stream",
     "text": [
      "100%|██████████| 328/328 [00:28<00:00, 11.69it/s]\n"
     ]
    },
    {
     "name": "stdout",
     "output_type": "stream",
     "text": [
      "{'val_loss': 2.0333618707046277, 'val_accuracy': 0.6440030557677616, 'precision': 0.6502924775568291, 'recall': 0.6440030557677616, 'f1-score': 0.6369093249420374, 'macro_f1-score': 0.3714400245781731, 'balanced_accuracy': 0.38065272501761255, 'mcc': 0.529995072414789, 'train_loss': 0.15650143016771437}\n",
      "Epoch 18/20\n"
     ]
    },
    {
     "name": "stderr",
     "output_type": "stream",
     "text": [
      "100%|██████████| 328/328 [00:28<00:00, 11.67it/s]\n"
     ]
    },
    {
     "name": "stdout",
     "output_type": "stream",
     "text": [
      "{'val_loss': 2.11038381188381, 'val_accuracy': 0.6378915202444614, 'precision': 0.6471491890701303, 'recall': 0.6378915202444614, 'f1-score': 0.6313949083066995, 'macro_f1-score': 0.377619049998106, 'balanced_accuracy': 0.37842519764302635, 'mcc': 0.5232942159953115, 'train_loss': 0.14214545796361253}\n",
      "Early stopping.\n",
      "\n",
      " === roberta-base + plain + none Final 5-fold Cross-Validation Results ===\n",
      "val_loss: 1.9874\n",
      "val_accuracy: 0.6379\n",
      "precision: 0.6437\n",
      "recall: 0.6379\n",
      "f1-score: 0.6302\n",
      "macro_f1-score: 0.3802\n",
      "balanced_accuracy: 0.3766\n",
      "mcc: 0.5197\n",
      "train_loss: 0.1876\n",
      "total_seconds: 2659.0000\n",
      "total_time: 0 hrs 44 mins 19 secs\n",
      "▶ Running: roberta-base + cnn + none\n",
      "tokenizer is roberta-base\n",
      "Using device: cuda\n",
      "CUDA Available: True\n",
      "CUDA Device: NVIDIA GeForce RTX 5070 Ti\n",
      "Current GPU Memory Allocated: 0.02 GB\n",
      "Current GPU Memory Cached: 3.92 GB\n",
      "\n",
      "[Fold 1]\n",
      "Label distribution after resampling:\n",
      "  label 0: 2465\n",
      "  label 1: 22\n",
      "  label 2: 64\n",
      "  label 3: 24\n",
      "  label 4: 190\n",
      "  label 5: 112\n",
      "  label 6: 93\n",
      "  label 7: 30\n",
      "  label 8: 68\n",
      "  label 9: 30\n",
      "  label 10: 67\n",
      "  label 11: 169\n",
      "  label 12: 190\n",
      "  label 13: 28\n",
      "  label 14: 23\n",
      "  label 15: 25\n",
      "  label 16: 19\n",
      "  label 17: 181\n",
      "  label 18: 92\n",
      "  label 19: 44\n",
      "  label 20: 14\n",
      "  label 21: 35\n",
      "  label 22: 76\n",
      "  label 23: 157\n",
      "  label 24: 13\n",
      "  label 25: 44\n",
      "  label 26: 84\n",
      "  label 27: 47\n",
      "  label 28: 11\n",
      "  label 29: 13\n",
      "  label 30: 11\n",
      "  label 31: 76\n",
      "  label 32: 36\n",
      "  label 33: 32\n",
      "  label 34: 29\n",
      "  label 35: 11\n",
      "  label 36: 22\n",
      "  label 37: 16\n",
      "  label 38: 6\n",
      "  label 39: 32\n",
      "  label 40: 10\n",
      "  label 41: 9\n",
      "  label 42: 57\n",
      "  label 43: 6\n",
      "  label 44: 19\n",
      "  label 45: 8\n",
      "  label 46: 55\n",
      "  label 47: 241\n",
      "  label 48: 62\n",
      "  label 49: 68\n",
      "model is roberta-base cnn\n"
     ]
    },
    {
     "name": "stderr",
     "output_type": "stream",
     "text": [
      "Some weights of RobertaModel were not initialized from the model checkpoint at roberta-base and are newly initialized: ['pooler.dense.bias', 'pooler.dense.weight']\n",
      "You should probably TRAIN this model on a down-stream task to be able to use it for predictions and inference.\n"
     ]
    },
    {
     "name": "stdout",
     "output_type": "stream",
     "text": [
      "Epoch 1/20\n"
     ]
    },
    {
     "name": "stderr",
     "output_type": "stream",
     "text": [
      "100%|██████████| 328/328 [00:28<00:00, 11.50it/s]\n"
     ]
    },
    {
     "name": "stdout",
     "output_type": "stream",
     "text": [
      "{'val_loss': 1.9714417304934524, 'val_accuracy': 0.5526717557251909, 'precision': 0.37848304321179893, 'recall': 0.5526717557251909, 'f1-score': 0.44698732342806247, 'macro_f1-score': 0.06682233783005648, 'balanced_accuracy': 0.08916043509253675, 'mcc': 0.3513720378154127, 'train_loss': 2.270087329716217}\n",
      "Epoch 2/20\n"
     ]
    },
    {
     "name": "stderr",
     "output_type": "stream",
     "text": [
      "100%|██████████| 328/328 [00:28<00:00, 11.50it/s]\n"
     ]
    },
    {
     "name": "stdout",
     "output_type": "stream",
     "text": [
      "{'val_loss': 1.6596100054136136, 'val_accuracy': 0.583969465648855, 'precision': 0.47326093512244427, 'recall': 0.583969465648855, 'f1-score': 0.496049800944871, 'macro_f1-score': 0.12643188396295982, 'balanced_accuracy': 0.13347673885377018, 'mcc': 0.4033520147543561, 'train_loss': 1.782571578898081}\n",
      "Epoch 3/20\n"
     ]
    },
    {
     "name": "stderr",
     "output_type": "stream",
     "text": [
      "100%|██████████| 328/328 [00:28<00:00, 11.48it/s]\n"
     ]
    },
    {
     "name": "stdout",
     "output_type": "stream",
     "text": [
      "{'val_loss': 1.583651972980034, 'val_accuracy': 0.6030534351145038, 'precision': 0.5050349794164455, 'recall': 0.6030534351145038, 'f1-score': 0.530890409275369, 'macro_f1-score': 0.18046800556568304, 'balanced_accuracy': 0.1818820346969731, 'mcc': 0.4378290518459497, 'train_loss': 1.507641565054655}\n",
      "Epoch 4/20\n"
     ]
    },
    {
     "name": "stderr",
     "output_type": "stream",
     "text": [
      "100%|██████████| 328/328 [00:28<00:00, 11.48it/s]\n"
     ]
    },
    {
     "name": "stdout",
     "output_type": "stream",
     "text": [
      "{'val_loss': 1.5128911846294635, 'val_accuracy': 0.6152671755725191, 'precision': 0.5520931396333237, 'recall': 0.6152671755725191, 'f1-score': 0.565048930892569, 'macro_f1-score': 0.20386215856744627, 'balanced_accuracy': 0.20695202550076966, 'mcc': 0.47206542645507416, 'train_loss': 1.2587762184259368}\n",
      "Epoch 5/20\n"
     ]
    },
    {
     "name": "stderr",
     "output_type": "stream",
     "text": [
      "100%|██████████| 328/328 [00:28<00:00, 11.48it/s]\n"
     ]
    },
    {
     "name": "stdout",
     "output_type": "stream",
     "text": [
      "{'val_loss': 1.4835847379957758, 'val_accuracy': 0.6137404580152672, 'precision': 0.593377797696469, 'recall': 0.6137404580152672, 'f1-score': 0.596950946822461, 'macro_f1-score': 0.2642370379565319, 'balanced_accuracy': 0.27441193041360423, 'mcc': 0.48973709822283995, 'train_loss': 1.055506870150566}\n",
      "Epoch 6/20\n"
     ]
    },
    {
     "name": "stderr",
     "output_type": "stream",
     "text": [
      "100%|██████████| 328/328 [00:28<00:00, 11.48it/s]\n"
     ]
    },
    {
     "name": "stdout",
     "output_type": "stream",
     "text": [
      "{'val_loss': 1.449643958995982, 'val_accuracy': 0.6190839694656488, 'precision': 0.6185000314201863, 'recall': 0.6190839694656488, 'f1-score': 0.610965125190191, 'macro_f1-score': 0.2891321508559886, 'balanced_accuracy': 0.30857701107558916, 'mcc': 0.5084380659344467, 'train_loss': 0.8564862431390439}\n",
      "Epoch 7/20\n"
     ]
    },
    {
     "name": "stderr",
     "output_type": "stream",
     "text": [
      "100%|██████████| 328/328 [00:28<00:00, 11.48it/s]\n"
     ]
    },
    {
     "name": "stdout",
     "output_type": "stream",
     "text": [
      "{'val_loss': 1.5102994685492865, 'val_accuracy': 0.6221374045801527, 'precision': 0.6237147615454216, 'recall': 0.6221374045801527, 'f1-score': 0.6148159470263045, 'macro_f1-score': 0.3196688462960038, 'balanced_accuracy': 0.32105515525186074, 'mcc': 0.5042415178287144, 'train_loss': 0.7111814339168188}\n",
      "Epoch 8/20\n"
     ]
    },
    {
     "name": "stderr",
     "output_type": "stream",
     "text": [
      "100%|██████████| 328/328 [00:28<00:00, 11.47it/s]\n"
     ]
    },
    {
     "name": "stdout",
     "output_type": "stream",
     "text": [
      "{'val_loss': 1.6414201710282303, 'val_accuracy': 0.6068702290076335, 'precision': 0.615364413288284, 'recall': 0.6068702290076335, 'f1-score': 0.6024662912321249, 'macro_f1-score': 0.293460882574622, 'balanced_accuracy': 0.31574228259130616, 'mcc': 0.4880947829651606, 'train_loss': 0.5771463760969843}\n",
      "Epoch 9/20\n"
     ]
    },
    {
     "name": "stderr",
     "output_type": "stream",
     "text": [
      "100%|██████████| 328/328 [00:28<00:00, 11.50it/s]\n"
     ]
    },
    {
     "name": "stdout",
     "output_type": "stream",
     "text": [
      "{'val_loss': 1.6774327933061413, 'val_accuracy': 0.6244274809160305, 'precision': 0.6413314140578742, 'recall': 0.6244274809160305, 'f1-score': 0.6179816970140952, 'macro_f1-score': 0.32079840989883013, 'balanced_accuracy': 0.332429618725659, 'mcc': 0.5113408036292579, 'train_loss': 0.4751989495338554}\n",
      "Epoch 10/20\n"
     ]
    },
    {
     "name": "stderr",
     "output_type": "stream",
     "text": [
      "100%|██████████| 328/328 [00:28<00:00, 11.51it/s]\n"
     ]
    },
    {
     "name": "stdout",
     "output_type": "stream",
     "text": [
      "{'val_loss': 1.6338673702827313, 'val_accuracy': 0.6244274809160305, 'precision': 0.6337290288398232, 'recall': 0.6244274809160305, 'f1-score': 0.6209340922669169, 'macro_f1-score': 0.33481349010694283, 'balanced_accuracy': 0.3478849156705897, 'mcc': 0.5108012525070609, 'train_loss': 0.38870941494341665}\n",
      "Epoch 11/20\n"
     ]
    },
    {
     "name": "stderr",
     "output_type": "stream",
     "text": [
      "100%|██████████| 328/328 [00:28<00:00, 11.47it/s]\n"
     ]
    },
    {
     "name": "stdout",
     "output_type": "stream",
     "text": [
      "{'val_loss': 1.8007141889595404, 'val_accuracy': 0.6229007633587786, 'precision': 0.6288723451871461, 'recall': 0.6229007633587786, 'f1-score': 0.6135163358128559, 'macro_f1-score': 0.33561236028243707, 'balanced_accuracy': 0.3336775337634379, 'mcc': 0.5000519422635281, 'train_loss': 0.3281164233936224}\n",
      "Epoch 12/20\n"
     ]
    },
    {
     "name": "stderr",
     "output_type": "stream",
     "text": [
      "100%|██████████| 328/328 [00:28<00:00, 11.50it/s]\n"
     ]
    },
    {
     "name": "stdout",
     "output_type": "stream",
     "text": [
      "{'val_loss': 1.7510413458434546, 'val_accuracy': 0.6442748091603053, 'precision': 0.6499850195396714, 'recall': 0.6442748091603053, 'f1-score': 0.6341510433714316, 'macro_f1-score': 0.3665092316386263, 'balanced_accuracy': 0.3525514689341411, 'mcc': 0.5253633046478845, 'train_loss': 0.2745821941814317}\n",
      "Epoch 13/20\n"
     ]
    },
    {
     "name": "stderr",
     "output_type": "stream",
     "text": [
      "100%|██████████| 328/328 [00:28<00:00, 11.50it/s]\n"
     ]
    },
    {
     "name": "stdout",
     "output_type": "stream",
     "text": [
      "{'val_loss': 1.9094999221766866, 'val_accuracy': 0.5961832061068703, 'precision': 0.6484544536805904, 'recall': 0.5961832061068703, 'f1-score': 0.6109865461233199, 'macro_f1-score': 0.37186466347550157, 'balanced_accuracy': 0.40854920612713164, 'mcc': 0.5008675661324887, 'train_loss': 0.2335285189470685}\n",
      "Epoch 14/20\n"
     ]
    },
    {
     "name": "stderr",
     "output_type": "stream",
     "text": [
      "100%|██████████| 328/328 [00:28<00:00, 11.50it/s]\n"
     ]
    },
    {
     "name": "stdout",
     "output_type": "stream",
     "text": [
      "{'val_loss': 1.9921857616523417, 'val_accuracy': 0.6366412213740458, 'precision': 0.6316185335018152, 'recall': 0.6366412213740458, 'f1-score': 0.6134164895240546, 'macro_f1-score': 0.34065272435078475, 'balanced_accuracy': 0.3233348221640295, 'mcc': 0.5086724018790313, 'train_loss': 0.24312244999370106}\n",
      "Epoch 15/20\n"
     ]
    },
    {
     "name": "stderr",
     "output_type": "stream",
     "text": [
      "100%|██████████| 328/328 [00:28<00:00, 11.45it/s]\n"
     ]
    },
    {
     "name": "stdout",
     "output_type": "stream",
     "text": [
      "{'val_loss': 1.9516125699368918, 'val_accuracy': 0.6160305343511451, 'precision': 0.6374907846764137, 'recall': 0.6160305343511451, 'f1-score': 0.618713872913603, 'macro_f1-score': 0.3556186622929115, 'balanced_accuracy': 0.3627123487540328, 'mcc': 0.5052006887405681, 'train_loss': 0.1900186038209784}\n",
      "Epoch 16/20\n"
     ]
    },
    {
     "name": "stderr",
     "output_type": "stream",
     "text": [
      "100%|██████████| 328/328 [00:28<00:00, 11.51it/s]\n"
     ]
    },
    {
     "name": "stdout",
     "output_type": "stream",
     "text": [
      "{'val_loss': 2.0467321447482925, 'val_accuracy': 0.5977099236641221, 'precision': 0.64637348367004, 'recall': 0.5977099236641221, 'f1-score': 0.6090951728131819, 'macro_f1-score': 0.3360794316216338, 'balanced_accuracy': 0.34680587305090776, 'mcc': 0.48864040721684093, 'train_loss': 0.18904070979518042}\n",
      "Early stopping.\n",
      "\n",
      "[Fold 2]\n",
      "Label distribution after resampling:\n",
      "  label 0: 2465\n",
      "  label 1: 22\n",
      "  label 2: 64\n",
      "  label 3: 24\n",
      "  label 4: 190\n",
      "  label 5: 113\n",
      "  label 6: 93\n",
      "  label 7: 31\n",
      "  label 8: 68\n",
      "  label 9: 29\n",
      "  label 10: 67\n",
      "  label 11: 169\n",
      "  label 12: 190\n",
      "  label 13: 29\n",
      "  label 14: 22\n",
      "  label 15: 25\n",
      "  label 16: 19\n",
      "  label 17: 181\n",
      "  label 18: 92\n",
      "  label 19: 44\n",
      "  label 20: 13\n",
      "  label 21: 35\n",
      "  label 22: 76\n",
      "  label 23: 158\n",
      "  label 24: 13\n",
      "  label 25: 44\n",
      "  label 26: 84\n",
      "  label 27: 47\n",
      "  label 28: 12\n",
      "  label 29: 12\n",
      "  label 30: 12\n",
      "  label 31: 75\n",
      "  label 32: 36\n",
      "  label 33: 31\n",
      "  label 34: 29\n",
      "  label 35: 12\n",
      "  label 36: 21\n",
      "  label 37: 16\n",
      "  label 38: 6\n",
      "  label 39: 33\n",
      "  label 40: 11\n",
      "  label 41: 8\n",
      "  label 42: 56\n",
      "  label 43: 6\n",
      "  label 44: 19\n",
      "  label 45: 9\n",
      "  label 46: 55\n",
      "  label 47: 241\n",
      "  label 48: 62\n",
      "  label 49: 68\n",
      "model is roberta-base cnn\n"
     ]
    },
    {
     "name": "stderr",
     "output_type": "stream",
     "text": [
      "Some weights of RobertaModel were not initialized from the model checkpoint at roberta-base and are newly initialized: ['pooler.dense.bias', 'pooler.dense.weight']\n",
      "You should probably TRAIN this model on a down-stream task to be able to use it for predictions and inference.\n"
     ]
    },
    {
     "name": "stdout",
     "output_type": "stream",
     "text": [
      "Epoch 1/20\n"
     ]
    },
    {
     "name": "stderr",
     "output_type": "stream",
     "text": [
      "100%|██████████| 328/328 [00:28<00:00, 11.47it/s]\n"
     ]
    },
    {
     "name": "stdout",
     "output_type": "stream",
     "text": [
      "{'val_loss': 1.8909435730154922, 'val_accuracy': 0.5347593582887701, 'precision': 0.391898377848079, 'recall': 0.5347593582887701, 'f1-score': 0.445045829414795, 'macro_f1-score': 0.06273525267528302, 'balanced_accuracy': 0.08762845909126991, 'mcc': 0.3449339926730457, 'train_loss': 2.255985529684439}\n",
      "Epoch 2/20\n"
     ]
    },
    {
     "name": "stderr",
     "output_type": "stream",
     "text": [
      "100%|██████████| 328/328 [00:28<00:00, 11.50it/s]\n"
     ]
    },
    {
     "name": "stdout",
     "output_type": "stream",
     "text": [
      "{'val_loss': 1.5949838899257707, 'val_accuracy': 0.5935828877005348, 'precision': 0.4635482732002795, 'recall': 0.5935828877005348, 'f1-score': 0.5033237490174707, 'macro_f1-score': 0.1255082412498453, 'balanced_accuracy': 0.13531224415071144, 'mcc': 0.41759899498637026, 'train_loss': 1.741635568258239}\n",
      "Epoch 3/20\n"
     ]
    },
    {
     "name": "stderr",
     "output_type": "stream",
     "text": [
      "100%|██████████| 328/328 [00:28<00:00, 11.46it/s]\n"
     ]
    },
    {
     "name": "stdout",
     "output_type": "stream",
     "text": [
      "{'val_loss': 1.4982413704075463, 'val_accuracy': 0.6111535523300229, 'precision': 0.5507420987712255, 'recall': 0.6111535523300229, 'f1-score': 0.5656303205199681, 'macro_f1-score': 0.21614372926715844, 'balanced_accuracy': 0.23700407498828013, 'mcc': 0.4808736936787789, 'train_loss': 1.4129956009366162}\n",
      "Epoch 4/20\n"
     ]
    },
    {
     "name": "stderr",
     "output_type": "stream",
     "text": [
      "100%|██████████| 328/328 [00:28<00:00, 11.47it/s]\n"
     ]
    },
    {
     "name": "stdout",
     "output_type": "stream",
     "text": [
      "{'val_loss': 1.4040028674573433, 'val_accuracy': 0.6165011459129106, 'precision': 0.5583958283277787, 'recall': 0.6165011459129106, 'f1-score': 0.5786960482467639, 'macro_f1-score': 0.2280402198378329, 'balanced_accuracy': 0.2468219003265539, 'mcc': 0.4836681349281397, 'train_loss': 1.1887295731320613}\n",
      "Epoch 5/20\n"
     ]
    },
    {
     "name": "stderr",
     "output_type": "stream",
     "text": [
      "100%|██████████| 328/328 [00:28<00:00, 11.50it/s]\n"
     ]
    },
    {
     "name": "stdout",
     "output_type": "stream",
     "text": [
      "{'val_loss': 1.3763527183271036, 'val_accuracy': 0.6470588235294118, 'precision': 0.6109531818798872, 'recall': 0.6470588235294118, 'f1-score': 0.6229003159880334, 'macro_f1-score': 0.28995599216354245, 'balanced_accuracy': 0.30870675412289006, 'mcc': 0.5333081479641857, 'train_loss': 0.9826286764497437}\n",
      "Epoch 6/20\n"
     ]
    },
    {
     "name": "stderr",
     "output_type": "stream",
     "text": [
      "100%|██████████| 328/328 [00:28<00:00, 11.49it/s]\n"
     ]
    },
    {
     "name": "stdout",
     "output_type": "stream",
     "text": [
      "{'val_loss': 1.4173311609320525, 'val_accuracy': 0.6371275783040489, 'precision': 0.6185945864173553, 'recall': 0.6371275783040489, 'f1-score': 0.6199130873425434, 'macro_f1-score': 0.3083700563393606, 'balanced_accuracy': 0.33646335114497866, 'mcc': 0.5316568814438717, 'train_loss': 0.8011838174084338}\n",
      "Epoch 7/20\n"
     ]
    },
    {
     "name": "stderr",
     "output_type": "stream",
     "text": [
      "100%|██████████| 328/328 [00:28<00:00, 11.48it/s]\n"
     ]
    },
    {
     "name": "stdout",
     "output_type": "stream",
     "text": [
      "{'val_loss': 1.5080284621657394, 'val_accuracy': 0.6165011459129106, 'precision': 0.6143970801660346, 'recall': 0.6165011459129106, 'f1-score': 0.6063755676443299, 'macro_f1-score': 0.2986861568883708, 'balanced_accuracy': 0.3291995845248713, 'mcc': 0.5074324033910335, 'train_loss': 0.6381649217034531}\n",
      "Epoch 8/20\n"
     ]
    },
    {
     "name": "stderr",
     "output_type": "stream",
     "text": [
      "100%|██████████| 328/328 [00:28<00:00, 11.50it/s]\n"
     ]
    },
    {
     "name": "stdout",
     "output_type": "stream",
     "text": [
      "{'val_loss': 1.563652041300041, 'val_accuracy': 0.6355996944232238, 'precision': 0.6076944803528733, 'recall': 0.6355996944232238, 'f1-score': 0.6089885560832698, 'macro_f1-score': 0.31985079759851226, 'balanced_accuracy': 0.32792739100950313, 'mcc': 0.5130131291393482, 'train_loss': 0.5174905670488753}\n",
      "Epoch 9/20\n"
     ]
    },
    {
     "name": "stderr",
     "output_type": "stream",
     "text": [
      "100%|██████████| 328/328 [00:28<00:00, 11.50it/s]\n"
     ]
    },
    {
     "name": "stdout",
     "output_type": "stream",
     "text": [
      "{'val_loss': 1.531430630058777, 'val_accuracy': 0.6493506493506493, 'precision': 0.6454924216483213, 'recall': 0.6493506493506493, 'f1-score': 0.6371272641989695, 'macro_f1-score': 0.3611502323198198, 'balanced_accuracy': 0.35298074276043045, 'mcc': 0.5356589578677964, 'train_loss': 0.42234778989151844}\n",
      "Epoch 10/20\n"
     ]
    },
    {
     "name": "stderr",
     "output_type": "stream",
     "text": [
      "100%|██████████| 328/328 [00:28<00:00, 11.47it/s]\n"
     ]
    },
    {
     "name": "stdout",
     "output_type": "stream",
     "text": [
      "{'val_loss': 1.6731478306578427, 'val_accuracy': 0.6432391138273491, 'precision': 0.6337331218914642, 'recall': 0.6432391138273491, 'f1-score': 0.6245583230114745, 'macro_f1-score': 0.34175461838350574, 'balanced_accuracy': 0.3506845896421887, 'mcc': 0.5223981126029457, 'train_loss': 0.3522862620600613}\n",
      "Epoch 11/20\n"
     ]
    },
    {
     "name": "stderr",
     "output_type": "stream",
     "text": [
      "100%|██████████| 328/328 [00:28<00:00, 11.48it/s]\n"
     ]
    },
    {
     "name": "stdout",
     "output_type": "stream",
     "text": [
      "{'val_loss': 1.6781499124154813, 'val_accuracy': 0.6485867074102368, 'precision': 0.6341045133842818, 'recall': 0.6485867074102368, 'f1-score': 0.6318913485127384, 'macro_f1-score': 0.3410667300220184, 'balanced_accuracy': 0.3565699532857125, 'mcc': 0.5325422727449877, 'train_loss': 0.31793023730775843}\n",
      "Epoch 12/20\n"
     ]
    },
    {
     "name": "stderr",
     "output_type": "stream",
     "text": [
      "100%|██████████| 328/328 [00:28<00:00, 11.47it/s]\n"
     ]
    },
    {
     "name": "stdout",
     "output_type": "stream",
     "text": [
      "{'val_loss': 1.8160653135216818, 'val_accuracy': 0.6394194041252865, 'precision': 0.6422656663702492, 'recall': 0.6394194041252865, 'f1-score': 0.6242524701826131, 'macro_f1-score': 0.34992395060514175, 'balanced_accuracy': 0.36506061485658364, 'mcc': 0.5257570907516416, 'train_loss': 0.2282032583067875}\n",
      "Early stopping.\n",
      "\n",
      "[Fold 3]\n",
      "Label distribution after resampling:\n",
      "  label 0: 2466\n",
      "  label 1: 21\n",
      "  label 2: 64\n",
      "  label 3: 24\n",
      "  label 4: 191\n",
      "  label 5: 113\n",
      "  label 6: 92\n",
      "  label 7: 31\n",
      "  label 8: 68\n",
      "  label 9: 29\n",
      "  label 10: 68\n",
      "  label 11: 168\n",
      "  label 12: 190\n",
      "  label 13: 29\n",
      "  label 14: 22\n",
      "  label 15: 25\n",
      "  label 16: 19\n",
      "  label 17: 181\n",
      "  label 18: 92\n",
      "  label 19: 44\n",
      "  label 20: 13\n",
      "  label 21: 36\n",
      "  label 22: 76\n",
      "  label 23: 158\n",
      "  label 24: 12\n",
      "  label 25: 44\n",
      "  label 26: 84\n",
      "  label 27: 48\n",
      "  label 28: 11\n",
      "  label 29: 13\n",
      "  label 30: 11\n",
      "  label 31: 75\n",
      "  label 32: 36\n",
      "  label 33: 31\n",
      "  label 34: 30\n",
      "  label 35: 11\n",
      "  label 36: 21\n",
      "  label 37: 16\n",
      "  label 38: 5\n",
      "  label 39: 33\n",
      "  label 40: 11\n",
      "  label 41: 9\n",
      "  label 42: 57\n",
      "  label 43: 7\n",
      "  label 44: 18\n",
      "  label 45: 9\n",
      "  label 46: 54\n",
      "  label 47: 242\n",
      "  label 48: 61\n",
      "  label 49: 68\n",
      "model is roberta-base cnn\n"
     ]
    },
    {
     "name": "stderr",
     "output_type": "stream",
     "text": [
      "Some weights of RobertaModel were not initialized from the model checkpoint at roberta-base and are newly initialized: ['pooler.dense.bias', 'pooler.dense.weight']\n",
      "You should probably TRAIN this model on a down-stream task to be able to use it for predictions and inference.\n"
     ]
    },
    {
     "name": "stdout",
     "output_type": "stream",
     "text": [
      "Epoch 1/20\n"
     ]
    },
    {
     "name": "stderr",
     "output_type": "stream",
     "text": [
      "100%|██████████| 328/328 [00:28<00:00, 11.50it/s]\n"
     ]
    },
    {
     "name": "stdout",
     "output_type": "stream",
     "text": [
      "{'val_loss': 2.6925360720332074, 'val_accuracy': 0.47058823529411764, 'precision': 0.22145328719723184, 'recall': 0.47058823529411764, 'f1-score': 0.3011764705882353, 'macro_f1-score': 0.0128, 'balanced_accuracy': 0.02, 'mcc': 0.0, 'train_loss': 2.4907954662311367}\n",
      "Epoch 2/20\n"
     ]
    },
    {
     "name": "stderr",
     "output_type": "stream",
     "text": [
      "100%|██████████| 328/328 [00:28<00:00, 11.49it/s]\n"
     ]
    },
    {
     "name": "stdout",
     "output_type": "stream",
     "text": [
      "{'val_loss': 2.416978963991491, 'val_accuracy': 0.5087853323147441, 'precision': 0.29368102991280304, 'recall': 0.5087853323147441, 'f1-score': 0.3714234600144889, 'macro_f1-score': 0.030926658088665338, 'balanced_accuracy': 0.04619241042645297, 'mcc': 0.2445772273560427, 'train_loss': 2.414741259340833}\n",
      "Epoch 3/20\n"
     ]
    },
    {
     "name": "stderr",
     "output_type": "stream",
     "text": [
      "100%|██████████| 328/328 [00:28<00:00, 11.49it/s]\n"
     ]
    },
    {
     "name": "stdout",
     "output_type": "stream",
     "text": [
      "{'val_loss': 2.167063602587072, 'val_accuracy': 0.5057295645530939, 'precision': 0.3120091208374114, 'recall': 0.5057295645530939, 'f1-score': 0.3805843506788092, 'macro_f1-score': 0.029871397838879085, 'balanced_accuracy': 0.05047907647907648, 'mcc': 0.27366400089437787, 'train_loss': 2.2618892505401518}\n",
      "Epoch 4/20\n"
     ]
    },
    {
     "name": "stderr",
     "output_type": "stream",
     "text": [
      "100%|██████████| 328/328 [00:28<00:00, 11.53it/s]\n"
     ]
    },
    {
     "name": "stdout",
     "output_type": "stream",
     "text": [
      "{'val_loss': 2.153773368131824, 'val_accuracy': 0.49809014514896865, 'precision': 0.32291182330015333, 'recall': 0.49809014514896865, 'f1-score': 0.38621667840940443, 'macro_f1-score': 0.034250512172315555, 'balanced_accuracy': 0.05785777225138927, 'mcc': 0.2731665334285097, 'train_loss': 2.1325417518979166}\n",
      "Epoch 5/20\n"
     ]
    },
    {
     "name": "stderr",
     "output_type": "stream",
     "text": [
      "100%|██████████| 328/328 [00:28<00:00, 11.53it/s]\n"
     ]
    },
    {
     "name": "stdout",
     "output_type": "stream",
     "text": [
      "{'val_loss': 2.153326143578785, 'val_accuracy': 0.5255920550038197, 'precision': 0.35115060075508164, 'recall': 0.5255920550038197, 'f1-score': 0.4161061067885972, 'macro_f1-score': 0.0442390600267868, 'balanced_accuracy': 0.061244880415093184, 'mcc': 0.3102059032203806, 'train_loss': 2.0738136833760796}\n",
      "Epoch 6/20\n"
     ]
    },
    {
     "name": "stderr",
     "output_type": "stream",
     "text": [
      "100%|██████████| 328/328 [00:28<00:00, 11.48it/s]\n"
     ]
    },
    {
     "name": "stdout",
     "output_type": "stream",
     "text": [
      "{'val_loss': 2.089477589217628, 'val_accuracy': 0.5217723453017571, 'precision': 0.36177488643668615, 'recall': 0.5217723453017571, 'f1-score': 0.4201790975451739, 'macro_f1-score': 0.04484284331109031, 'balanced_accuracy': 0.06555755119584906, 'mcc': 0.31944897473321726, 'train_loss': 2.0398725042255914}\n",
      "Epoch 7/20\n"
     ]
    },
    {
     "name": "stderr",
     "output_type": "stream",
     "text": [
      "100%|██████████| 328/328 [00:28<00:00, 11.52it/s]\n"
     ]
    },
    {
     "name": "stdout",
     "output_type": "stream",
     "text": [
      "{'val_loss': 2.2654677731234854, 'val_accuracy': 0.494270435446906, 'precision': 0.2782038864938131, 'recall': 0.494270435446906, 'f1-score': 0.34494531774961956, 'macro_f1-score': 0.029064059158241985, 'balanced_accuracy': 0.03666996714869055, 'mcc': 0.17458595993238624, 'train_loss': 2.1573122212799585}\n",
      "Epoch 8/20\n"
     ]
    },
    {
     "name": "stderr",
     "output_type": "stream",
     "text": [
      "100%|██████████| 328/328 [00:28<00:00, 11.52it/s]\n"
     ]
    },
    {
     "name": "stdout",
     "output_type": "stream",
     "text": [
      "{'val_loss': 2.193077350535044, 'val_accuracy': 0.4957983193277311, 'precision': 0.3709007278643641, 'recall': 0.4957983193277311, 'f1-score': 0.4144930110759287, 'macro_f1-score': 0.03716324263758185, 'balanced_accuracy': 0.06567748917748918, 'mcc': 0.312106674564544, 'train_loss': 2.1604473418215426}\n",
      "Epoch 9/20\n"
     ]
    },
    {
     "name": "stderr",
     "output_type": "stream",
     "text": [
      "100%|██████████| 328/328 [00:28<00:00, 11.52it/s]\n"
     ]
    },
    {
     "name": "stdout",
     "output_type": "stream",
     "text": [
      "{'val_loss': 2.4460438766130586, 'val_accuracy': 0.4530175706646295, 'precision': 0.33729881939600614, 'recall': 0.4530175706646295, 'f1-score': 0.37515571545654164, 'macro_f1-score': 0.019424722269860323, 'balanced_accuracy': 0.037004329004329005, 'mcc': 0.26438492180119794, 'train_loss': 2.4268834318329646}\n",
      "Early stopping.\n",
      "\n",
      "[Fold 4]\n",
      "Label distribution after resampling:\n",
      "  label 0: 2466\n",
      "  label 1: 21\n",
      "  label 2: 64\n",
      "  label 3: 24\n",
      "  label 4: 191\n",
      "  label 5: 113\n",
      "  label 6: 93\n",
      "  label 7: 30\n",
      "  label 8: 68\n",
      "  label 9: 30\n",
      "  label 10: 67\n",
      "  label 11: 169\n",
      "  label 12: 189\n",
      "  label 13: 29\n",
      "  label 14: 22\n",
      "  label 15: 25\n",
      "  label 16: 19\n",
      "  label 17: 181\n",
      "  label 18: 92\n",
      "  label 19: 44\n",
      "  label 20: 14\n",
      "  label 21: 35\n",
      "  label 22: 76\n",
      "  label 23: 158\n",
      "  label 24: 13\n",
      "  label 25: 44\n",
      "  label 26: 84\n",
      "  label 27: 47\n",
      "  label 28: 11\n",
      "  label 29: 13\n",
      "  label 30: 11\n",
      "  label 31: 75\n",
      "  label 32: 36\n",
      "  label 33: 31\n",
      "  label 34: 30\n",
      "  label 35: 11\n",
      "  label 36: 22\n",
      "  label 37: 16\n",
      "  label 38: 5\n",
      "  label 39: 33\n",
      "  label 40: 10\n",
      "  label 41: 9\n",
      "  label 42: 57\n",
      "  label 43: 7\n",
      "  label 44: 18\n",
      "  label 45: 9\n",
      "  label 46: 54\n",
      "  label 47: 242\n",
      "  label 48: 61\n",
      "  label 49: 68\n",
      "model is roberta-base cnn\n"
     ]
    },
    {
     "name": "stderr",
     "output_type": "stream",
     "text": [
      "Some weights of RobertaModel were not initialized from the model checkpoint at roberta-base and are newly initialized: ['pooler.dense.bias', 'pooler.dense.weight']\n",
      "You should probably TRAIN this model on a down-stream task to be able to use it for predictions and inference.\n"
     ]
    },
    {
     "name": "stdout",
     "output_type": "stream",
     "text": [
      "Epoch 1/20\n"
     ]
    },
    {
     "name": "stderr",
     "output_type": "stream",
     "text": [
      "100%|██████████| 328/328 [00:28<00:00, 11.46it/s]\n"
     ]
    },
    {
     "name": "stdout",
     "output_type": "stream",
     "text": [
      "{'val_loss': 2.1397553856779887, 'val_accuracy': 0.5233002291825821, 'precision': 0.3905432590315976, 'recall': 0.5233002291825821, 'f1-score': 0.43672553246719303, 'macro_f1-score': 0.05538549402950333, 'balanced_accuracy': 0.07418566362715298, 'mcc': 0.3262168741026869, 'train_loss': 2.3224292651909155}\n",
      "Epoch 2/20\n"
     ]
    },
    {
     "name": "stderr",
     "output_type": "stream",
     "text": [
      "100%|██████████| 328/328 [00:28<00:00, 11.50it/s]\n"
     ]
    },
    {
     "name": "stdout",
     "output_type": "stream",
     "text": [
      "{'val_loss': 1.7961475216760867, 'val_accuracy': 0.5668449197860963, 'precision': 0.41612024292949673, 'recall': 0.5668449197860963, 'f1-score': 0.4638630465936611, 'macro_f1-score': 0.07252506027878022, 'balanced_accuracy': 0.09087069293128497, 'mcc': 0.3749715746308431, 'train_loss': 1.9007951746263154}\n",
      "Epoch 3/20\n"
     ]
    },
    {
     "name": "stderr",
     "output_type": "stream",
     "text": [
      "100%|██████████| 328/328 [00:28<00:00, 11.47it/s]\n"
     ]
    },
    {
     "name": "stdout",
     "output_type": "stream",
     "text": [
      "{'val_loss': 1.7079196143441084, 'val_accuracy': 0.5821237585943468, 'precision': 0.5047735312593005, 'recall': 0.5821237585943468, 'f1-score': 0.5180375266067606, 'macro_f1-score': 0.13141876913110678, 'balanced_accuracy': 0.13803668854643614, 'mcc': 0.41508432115756994, 'train_loss': 1.6480662624646978}\n",
      "Epoch 4/20\n"
     ]
    },
    {
     "name": "stderr",
     "output_type": "stream",
     "text": [
      "100%|██████████| 328/328 [00:28<00:00, 11.49it/s]\n"
     ]
    },
    {
     "name": "stdout",
     "output_type": "stream",
     "text": [
      "{'val_loss': 1.6481662298121103, 'val_accuracy': 0.5775401069518716, 'precision': 0.5090455032894309, 'recall': 0.5775401069518716, 'f1-score': 0.5261783828786049, 'macro_f1-score': 0.16940343680095052, 'balanced_accuracy': 0.18287859770959927, 'mcc': 0.43122268707607236, 'train_loss': 1.42019203496052}\n",
      "Epoch 5/20\n"
     ]
    },
    {
     "name": "stderr",
     "output_type": "stream",
     "text": [
      "100%|██████████| 328/328 [00:28<00:00, 11.46it/s]\n"
     ]
    },
    {
     "name": "stdout",
     "output_type": "stream",
     "text": [
      "{'val_loss': 1.5909205220821427, 'val_accuracy': 0.5775401069518716, 'precision': 0.5373909732774618, 'recall': 0.5775401069518716, 'f1-score': 0.537029215191169, 'macro_f1-score': 0.18598419586946896, 'balanced_accuracy': 0.18714537864110198, 'mcc': 0.4293383267891391, 'train_loss': 1.207805249567439}\n",
      "Epoch 6/20\n"
     ]
    },
    {
     "name": "stderr",
     "output_type": "stream",
     "text": [
      "100%|██████████| 328/328 [00:28<00:00, 11.47it/s]\n"
     ]
    },
    {
     "name": "stdout",
     "output_type": "stream",
     "text": [
      "{'val_loss': 1.6084786428184044, 'val_accuracy': 0.5752482811306341, 'precision': 0.5623593055206692, 'recall': 0.5752482811306341, 'f1-score': 0.5548904316523304, 'macro_f1-score': 0.21065105139052076, 'balanced_accuracy': 0.21695366243107123, 'mcc': 0.4414797617930538, 'train_loss': 1.02238243931859}\n",
      "Epoch 7/20\n"
     ]
    },
    {
     "name": "stderr",
     "output_type": "stream",
     "text": [
      "100%|██████████| 328/328 [00:28<00:00, 11.50it/s]\n"
     ]
    },
    {
     "name": "stdout",
     "output_type": "stream",
     "text": [
      "{'val_loss': 1.532343583499513, 'val_accuracy': 0.6157372039724981, 'precision': 0.5821955273268957, 'recall': 0.6157372039724981, 'f1-score': 0.5890432844687572, 'macro_f1-score': 0.2815130176499737, 'balanced_accuracy': 0.2795875189672743, 'mcc': 0.48160996479032386, 'train_loss': 0.8336114310091589}\n",
      "Epoch 8/20\n"
     ]
    },
    {
     "name": "stderr",
     "output_type": "stream",
     "text": [
      "100%|██████████| 328/328 [00:28<00:00, 11.48it/s]\n"
     ]
    },
    {
     "name": "stdout",
     "output_type": "stream",
     "text": [
      "{'val_loss': 1.5810559104855468, 'val_accuracy': 0.6142093200916731, 'precision': 0.6000991427437126, 'recall': 0.6142093200916731, 'f1-score': 0.595177166494782, 'macro_f1-score': 0.273236564898857, 'balanced_accuracy': 0.27087090450983814, 'mcc': 0.48933586562473913, 'train_loss': 0.7315148584340222}\n",
      "Epoch 9/20\n"
     ]
    },
    {
     "name": "stderr",
     "output_type": "stream",
     "text": [
      "100%|██████████| 328/328 [00:28<00:00, 11.47it/s]\n"
     ]
    },
    {
     "name": "stdout",
     "output_type": "stream",
     "text": [
      "{'val_loss': 1.6241456292024472, 'val_accuracy': 0.6249045072574484, 'precision': 0.608935503975481, 'recall': 0.6249045072574484, 'f1-score': 0.6070388898960858, 'macro_f1-score': 0.32867430413959653, 'balanced_accuracy': 0.33567014874831563, 'mcc': 0.4980643091001744, 'train_loss': 0.6016703558767714}\n",
      "Epoch 10/20\n"
     ]
    },
    {
     "name": "stderr",
     "output_type": "stream",
     "text": [
      "100%|██████████| 328/328 [00:28<00:00, 11.50it/s]\n"
     ]
    },
    {
     "name": "stdout",
     "output_type": "stream",
     "text": [
      "{'val_loss': 1.655811524972683, 'val_accuracy': 0.6157372039724981, 'precision': 0.6263204861161464, 'recall': 0.6157372039724981, 'f1-score': 0.6138924306812316, 'macro_f1-score': 0.35561865616988003, 'balanced_accuracy': 0.35969243996127, 'mcc': 0.5002711109799921, 'train_loss': 0.49101675532349365}\n",
      "Epoch 11/20\n"
     ]
    },
    {
     "name": "stderr",
     "output_type": "stream",
     "text": [
      "100%|██████████| 328/328 [00:28<00:00, 11.50it/s]\n"
     ]
    },
    {
     "name": "stdout",
     "output_type": "stream",
     "text": [
      "{'val_loss': 1.7471335980950333, 'val_accuracy': 0.6210847975553858, 'precision': 0.6128742941267329, 'recall': 0.6210847975553858, 'f1-score': 0.6086522445702571, 'macro_f1-score': 0.35061387128469695, 'balanced_accuracy': 0.33152189148890615, 'mcc': 0.4946692908282493, 'train_loss': 0.4012918059640314}\n",
      "Epoch 12/20\n"
     ]
    },
    {
     "name": "stderr",
     "output_type": "stream",
     "text": [
      "100%|██████████| 328/328 [00:28<00:00, 11.46it/s]\n"
     ]
    },
    {
     "name": "stdout",
     "output_type": "stream",
     "text": [
      "{'val_loss': 1.8805200246776022, 'val_accuracy': 0.6180290297937356, 'precision': 0.6105594648168722, 'recall': 0.6180290297937356, 'f1-score': 0.6069033520687658, 'macro_f1-score': 0.33818511525846917, 'balanced_accuracy': 0.33082732262246844, 'mcc': 0.4918368462681314, 'train_loss': 0.3024142576103303}\n",
      "Epoch 13/20\n"
     ]
    },
    {
     "name": "stderr",
     "output_type": "stream",
     "text": [
      "100%|██████████| 328/328 [00:28<00:00, 11.48it/s]\n"
     ]
    },
    {
     "name": "stdout",
     "output_type": "stream",
     "text": [
      "{'val_loss': 1.9303872890588714, 'val_accuracy': 0.573720397249809, 'precision': 0.6253449167138184, 'recall': 0.573720397249809, 'f1-score': 0.5873868204121683, 'macro_f1-score': 0.3574527910794717, 'balanced_accuracy': 0.3827533654868352, 'mcc': 0.47454883533061976, 'train_loss': 0.30951313655993834}\n",
      "Epoch 14/20\n"
     ]
    },
    {
     "name": "stderr",
     "output_type": "stream",
     "text": [
      "100%|██████████| 328/328 [00:28<00:00, 11.47it/s]\n"
     ]
    },
    {
     "name": "stdout",
     "output_type": "stream",
     "text": [
      "{'val_loss': 1.9316005048955358, 'val_accuracy': 0.6279602750190986, 'precision': 0.6333533309314846, 'recall': 0.6279602750190986, 'f1-score': 0.6217516225074586, 'macro_f1-score': 0.3957593305380097, 'balanced_accuracy': 0.38899666380550085, 'mcc': 0.5123015597149226, 'train_loss': 0.22292739408454154}\n",
      "Epoch 15/20\n"
     ]
    },
    {
     "name": "stderr",
     "output_type": "stream",
     "text": [
      "100%|██████████| 328/328 [00:28<00:00, 11.49it/s]\n"
     ]
    },
    {
     "name": "stdout",
     "output_type": "stream",
     "text": [
      "{'val_loss': 1.9909136349835046, 'val_accuracy': 0.573720397249809, 'precision': 0.6300990149803758, 'recall': 0.573720397249809, 'f1-score': 0.5886043680075455, 'macro_f1-score': 0.35586025049859626, 'balanced_accuracy': 0.37348359496393585, 'mcc': 0.46808688703805895, 'train_loss': 0.20820652187671285}\n",
      "Epoch 16/20\n"
     ]
    },
    {
     "name": "stderr",
     "output_type": "stream",
     "text": [
      "100%|██████████| 328/328 [00:28<00:00, 11.46it/s]\n"
     ]
    },
    {
     "name": "stdout",
     "output_type": "stream",
     "text": [
      "{'val_loss': 2.0388603988217144, 'val_accuracy': 0.6134453781512605, 'precision': 0.6344814347121297, 'recall': 0.6134453781512605, 'f1-score': 0.6138761681335674, 'macro_f1-score': 0.3711634045942992, 'balanced_accuracy': 0.36815200932665554, 'mcc': 0.49892092198572197, 'train_loss': 0.16227805748065116}\n",
      "Epoch 17/20\n"
     ]
    },
    {
     "name": "stderr",
     "output_type": "stream",
     "text": [
      "100%|██████████| 328/328 [00:28<00:00, 11.46it/s]\n"
     ]
    },
    {
     "name": "stdout",
     "output_type": "stream",
     "text": [
      "{'val_loss': 2.166272942249368, 'val_accuracy': 0.6279602750190986, 'precision': 0.6172653627950253, 'recall': 0.6279602750190986, 'f1-score': 0.61240550724621, 'macro_f1-score': 0.3459097437989477, 'balanced_accuracy': 0.3349398487198634, 'mcc': 0.4988396427089495, 'train_loss': 0.19988031766417141}\n",
      "Early stopping.\n",
      "\n",
      "[Fold 5]\n",
      "Label distribution after resampling:\n",
      "  label 0: 2466\n",
      "  label 1: 22\n",
      "  label 2: 64\n",
      "  label 3: 24\n",
      "  label 4: 190\n",
      "  label 5: 113\n",
      "  label 6: 93\n",
      "  label 7: 30\n",
      "  label 8: 68\n",
      "  label 9: 30\n",
      "  label 10: 67\n",
      "  label 11: 169\n",
      "  label 12: 189\n",
      "  label 13: 29\n",
      "  label 14: 23\n",
      "  label 15: 24\n",
      "  label 16: 20\n",
      "  label 17: 180\n",
      "  label 18: 92\n",
      "  label 19: 44\n",
      "  label 20: 14\n",
      "  label 21: 35\n",
      "  label 22: 76\n",
      "  label 23: 157\n",
      "  label 24: 13\n",
      "  label 25: 44\n",
      "  label 26: 84\n",
      "  label 27: 47\n",
      "  label 28: 11\n",
      "  label 29: 13\n",
      "  label 30: 11\n",
      "  label 31: 75\n",
      "  label 32: 36\n",
      "  label 33: 31\n",
      "  label 34: 30\n",
      "  label 35: 11\n",
      "  label 36: 22\n",
      "  label 37: 16\n",
      "  label 38: 6\n",
      "  label 39: 33\n",
      "  label 40: 10\n",
      "  label 41: 9\n",
      "  label 42: 57\n",
      "  label 43: 6\n",
      "  label 44: 18\n",
      "  label 45: 9\n",
      "  label 46: 54\n",
      "  label 47: 242\n",
      "  label 48: 62\n",
      "  label 49: 68\n",
      "model is roberta-base cnn\n"
     ]
    },
    {
     "name": "stderr",
     "output_type": "stream",
     "text": [
      "Some weights of RobertaModel were not initialized from the model checkpoint at roberta-base and are newly initialized: ['pooler.dense.bias', 'pooler.dense.weight']\n",
      "You should probably TRAIN this model on a down-stream task to be able to use it for predictions and inference.\n"
     ]
    },
    {
     "name": "stdout",
     "output_type": "stream",
     "text": [
      "Epoch 1/20\n"
     ]
    },
    {
     "name": "stderr",
     "output_type": "stream",
     "text": [
      "100%|██████████| 328/328 [00:28<00:00, 11.50it/s]\n"
     ]
    },
    {
     "name": "stdout",
     "output_type": "stream",
     "text": [
      "{'val_loss': 1.8547931008222627, 'val_accuracy': 0.5668449197860963, 'precision': 0.3883753047605116, 'recall': 0.5668449197860963, 'f1-score': 0.45814802497641377, 'macro_f1-score': 0.07424244657366383, 'balanced_accuracy': 0.0967083679321531, 'mcc': 0.3729341378931917, 'train_loss': 2.2546409346708436}\n",
      "Epoch 2/20\n"
     ]
    },
    {
     "name": "stderr",
     "output_type": "stream",
     "text": [
      "100%|██████████| 328/328 [00:28<00:00, 11.51it/s]\n"
     ]
    },
    {
     "name": "stdout",
     "output_type": "stream",
     "text": [
      "{'val_loss': 1.690276728170674, 'val_accuracy': 0.5599694423223835, 'precision': 0.5020104315018338, 'recall': 0.5599694423223835, 'f1-score': 0.5151257216898537, 'macro_f1-score': 0.12590522361950346, 'balanced_accuracy': 0.15242634544976716, 'mcc': 0.4196408126958739, 'train_loss': 1.7115239582774116}\n",
      "Epoch 3/20\n"
     ]
    },
    {
     "name": "stderr",
     "output_type": "stream",
     "text": [
      "100%|██████████| 328/328 [00:28<00:00, 11.45it/s]\n"
     ]
    },
    {
     "name": "stdout",
     "output_type": "stream",
     "text": [
      "{'val_loss': 1.4836792407966242, 'val_accuracy': 0.6264323911382735, 'precision': 0.5398150466429895, 'recall': 0.6264323911382735, 'f1-score': 0.5619843021562141, 'macro_f1-score': 0.1935792358533708, 'balanced_accuracy': 0.19752531118542696, 'mcc': 0.4758428826555339, 'train_loss': 1.4123907025630882}\n",
      "Epoch 4/20\n"
     ]
    },
    {
     "name": "stderr",
     "output_type": "stream",
     "text": [
      "100%|██████████| 328/328 [00:28<00:00, 11.50it/s]\n"
     ]
    },
    {
     "name": "stdout",
     "output_type": "stream",
     "text": [
      "{'val_loss': 1.4700742883653175, 'val_accuracy': 0.6157372039724981, 'precision': 0.6121688352213255, 'recall': 0.6157372039724981, 'f1-score': 0.5981838115628033, 'macro_f1-score': 0.2592279742076937, 'balanced_accuracy': 0.2753289622762634, 'mcc': 0.4965312087590001, 'train_loss': 1.1483892820230344}\n",
      "Epoch 5/20\n"
     ]
    },
    {
     "name": "stderr",
     "output_type": "stream",
     "text": [
      "100%|██████████| 328/328 [00:28<00:00, 11.50it/s]\n"
     ]
    },
    {
     "name": "stdout",
     "output_type": "stream",
     "text": [
      "{'val_loss': 1.3847680956852146, 'val_accuracy': 0.6455309396485867, 'precision': 0.5942026166041753, 'recall': 0.6455309396485867, 'f1-score': 0.6054691266268128, 'macro_f1-score': 0.2804224271127215, 'balanced_accuracy': 0.28417009042019137, 'mcc': 0.517482489383404, 'train_loss': 0.9416266470784094}\n",
      "Epoch 6/20\n"
     ]
    },
    {
     "name": "stderr",
     "output_type": "stream",
     "text": [
      "100%|██████████| 328/328 [00:28<00:00, 11.49it/s]\n"
     ]
    },
    {
     "name": "stdout",
     "output_type": "stream",
     "text": [
      "{'val_loss': 1.5070415459028104, 'val_accuracy': 0.6042780748663101, 'precision': 0.6300016074544295, 'recall': 0.6042780748663101, 'f1-score': 0.6007087418950208, 'macro_f1-score': 0.3089063539038383, 'balanced_accuracy': 0.3348989794586443, 'mcc': 0.5046914911647072, 'train_loss': 0.7549596319156813}\n",
      "Epoch 7/20\n"
     ]
    },
    {
     "name": "stderr",
     "output_type": "stream",
     "text": [
      "100%|██████████| 328/328 [00:28<00:00, 11.46it/s]\n"
     ]
    },
    {
     "name": "stdout",
     "output_type": "stream",
     "text": [
      "{'val_loss': 1.6031796278023138, 'val_accuracy': 0.6019862490450726, 'precision': 0.6211659015647386, 'recall': 0.6019862490450726, 'f1-score': 0.5983372645165778, 'macro_f1-score': 0.29574984055835274, 'balanced_accuracy': 0.31212515221052706, 'mcc': 0.4955177254964217, 'train_loss': 0.5735998977566275}\n",
      "Epoch 8/20\n"
     ]
    },
    {
     "name": "stderr",
     "output_type": "stream",
     "text": [
      "100%|██████████| 328/328 [00:28<00:00, 11.48it/s]\n"
     ]
    },
    {
     "name": "stdout",
     "output_type": "stream",
     "text": [
      "{'val_loss': 1.7342185650656863, 'val_accuracy': 0.6264323911382735, 'precision': 0.6068323066954314, 'recall': 0.6264323911382735, 'f1-score': 0.5982862385610179, 'macro_f1-score': 0.288570251409288, 'balanced_accuracy': 0.28210333650137126, 'mcc': 0.48926562302664156, 'train_loss': 0.4803757490590215}\n",
      "Epoch 9/20\n"
     ]
    },
    {
     "name": "stderr",
     "output_type": "stream",
     "text": [
      "100%|██████████| 328/328 [00:28<00:00, 11.47it/s]\n"
     ]
    },
    {
     "name": "stdout",
     "output_type": "stream",
     "text": [
      "{'val_loss': 1.6166367240068389, 'val_accuracy': 0.6432391138273491, 'precision': 0.6369419066264249, 'recall': 0.6432391138273491, 'f1-score': 0.6339715922950061, 'macro_f1-score': 0.36526342991024197, 'balanced_accuracy': 0.3667920155441693, 'mcc': 0.5329484103136138, 'train_loss': 0.3885887872041544}\n",
      "Epoch 10/20\n"
     ]
    },
    {
     "name": "stderr",
     "output_type": "stream",
     "text": [
      "100%|██████████| 328/328 [00:28<00:00, 11.49it/s]\n"
     ]
    },
    {
     "name": "stdout",
     "output_type": "stream",
     "text": [
      "{'val_loss': 1.687280022879926, 'val_accuracy': 0.6440030557677616, 'precision': 0.6358533992864658, 'recall': 0.6440030557677616, 'f1-score': 0.6349617136564303, 'macro_f1-score': 0.3539542886671137, 'balanced_accuracy': 0.3623099983353719, 'mcc': 0.5326245649683128, 'train_loss': 0.2939561696654958}\n",
      "Epoch 11/20\n"
     ]
    },
    {
     "name": "stderr",
     "output_type": "stream",
     "text": [
      "100%|██████████| 328/328 [00:28<00:00, 11.46it/s]\n"
     ]
    },
    {
     "name": "stdout",
     "output_type": "stream",
     "text": [
      "{'val_loss': 1.7709797675289758, 'val_accuracy': 0.6462948815889993, 'precision': 0.6222749615906102, 'recall': 0.6462948815889993, 'f1-score': 0.6253560915959352, 'macro_f1-score': 0.36479949307395837, 'balanced_accuracy': 0.3754234910592764, 'mcc': 0.5284022949655017, 'train_loss': 0.24835827466520685}\n",
      "Epoch 12/20\n"
     ]
    },
    {
     "name": "stderr",
     "output_type": "stream",
     "text": [
      "100%|██████████| 328/328 [00:28<00:00, 11.48it/s]\n"
     ]
    },
    {
     "name": "stdout",
     "output_type": "stream",
     "text": [
      "{'val_loss': 1.90515649064285, 'val_accuracy': 0.6226126814362108, 'precision': 0.6222295811950832, 'recall': 0.6226126814362108, 'f1-score': 0.6127953951592373, 'macro_f1-score': 0.35086837979512603, 'balanced_accuracy': 0.3503723578398838, 'mcc': 0.5112967614086051, 'train_loss': 0.20647782009242602}\n",
      "Early stopping.\n",
      "\n",
      " === roberta-base + cnn + none Final 5-fold Cross-Validation Results ===\n",
      "val_loss: 1.8157\n",
      "val_accuracy: 0.6077\n",
      "precision: 0.5852\n",
      "recall: 0.6077\n",
      "f1-score: 0.5848\n",
      "macro_f1-score: 0.3078\n",
      "balanced_accuracy: 0.3166\n",
      "mcc: 0.4802\n",
      "train_loss: 0.6615\n",
      "total_seconds: 2075.0000\n",
      "total_time: 0 hrs 34 mins 35 secs\n",
      "▶ Running: roberta-base + lstm + none\n",
      "tokenizer is roberta-base\n",
      "Using device: cuda\n",
      "CUDA Available: True\n",
      "CUDA Device: NVIDIA GeForce RTX 5070 Ti\n",
      "Current GPU Memory Allocated: 0.02 GB\n",
      "Current GPU Memory Cached: 3.92 GB\n",
      "\n",
      "[Fold 1]\n",
      "Label distribution after resampling:\n",
      "  label 0: 2465\n",
      "  label 1: 22\n",
      "  label 2: 64\n",
      "  label 3: 24\n",
      "  label 4: 190\n",
      "  label 5: 112\n",
      "  label 6: 93\n",
      "  label 7: 30\n",
      "  label 8: 68\n",
      "  label 9: 30\n",
      "  label 10: 67\n",
      "  label 11: 169\n",
      "  label 12: 190\n",
      "  label 13: 28\n",
      "  label 14: 23\n",
      "  label 15: 25\n",
      "  label 16: 19\n",
      "  label 17: 181\n",
      "  label 18: 92\n",
      "  label 19: 44\n",
      "  label 20: 14\n",
      "  label 21: 35\n",
      "  label 22: 76\n",
      "  label 23: 157\n",
      "  label 24: 13\n",
      "  label 25: 44\n",
      "  label 26: 84\n",
      "  label 27: 47\n",
      "  label 28: 11\n",
      "  label 29: 13\n",
      "  label 30: 11\n",
      "  label 31: 76\n",
      "  label 32: 36\n",
      "  label 33: 32\n",
      "  label 34: 29\n",
      "  label 35: 11\n",
      "  label 36: 22\n",
      "  label 37: 16\n",
      "  label 38: 6\n",
      "  label 39: 32\n",
      "  label 40: 10\n",
      "  label 41: 9\n",
      "  label 42: 57\n",
      "  label 43: 6\n",
      "  label 44: 19\n",
      "  label 45: 8\n",
      "  label 46: 55\n",
      "  label 47: 241\n",
      "  label 48: 62\n",
      "  label 49: 68\n",
      "model is roberta-base lstm\n"
     ]
    },
    {
     "name": "stderr",
     "output_type": "stream",
     "text": [
      "Some weights of RobertaModel were not initialized from the model checkpoint at roberta-base and are newly initialized: ['pooler.dense.bias', 'pooler.dense.weight']\n",
      "You should probably TRAIN this model on a down-stream task to be able to use it for predictions and inference.\n"
     ]
    },
    {
     "name": "stdout",
     "output_type": "stream",
     "text": [
      "Epoch 1/20\n"
     ]
    },
    {
     "name": "stderr",
     "output_type": "stream",
     "text": [
      "100%|██████████| 328/328 [00:29<00:00, 11.02it/s]\n"
     ]
    },
    {
     "name": "stdout",
     "output_type": "stream",
     "text": [
      "{'val_loss': 2.144153057802014, 'val_accuracy': 0.5213740458015267, 'precision': 0.3007410304244324, 'recall': 0.5213740458015267, 'f1-score': 0.37751174064376003, 'macro_f1-score': 0.03517009474581633, 'balanced_accuracy': 0.04495230756967877, 'mcc': 0.2533164019758015, 'train_loss': 2.4308368603630766}\n",
      "Epoch 2/20\n"
     ]
    },
    {
     "name": "stderr",
     "output_type": "stream",
     "text": [
      "100%|██████████| 328/328 [00:29<00:00, 10.96it/s]\n"
     ]
    },
    {
     "name": "stdout",
     "output_type": "stream",
     "text": [
      "{'val_loss': 2.1925593563696233, 'val_accuracy': 0.5236641221374045, 'precision': 0.29508283360297327, 'recall': 0.5236641221374045, 'f1-score': 0.3735388170971952, 'macro_f1-score': 0.039747693108348844, 'balanced_accuracy': 0.04936218201356231, 'mcc': 0.25437524350691965, 'train_loss': 2.1813397363918585}\n",
      "Epoch 3/20\n"
     ]
    },
    {
     "name": "stderr",
     "output_type": "stream",
     "text": [
      "100%|██████████| 328/328 [00:29<00:00, 11.01it/s]\n"
     ]
    },
    {
     "name": "stdout",
     "output_type": "stream",
     "text": [
      "{'val_loss': 2.4955848578999684, 'val_accuracy': 0.4778625954198473, 'precision': 0.25261627479740273, 'recall': 0.4778625954198473, 'f1-score': 0.33013943278856656, 'macro_f1-score': 0.017541042582981142, 'balanced_accuracy': 0.024636361824800064, 'mcc': 0.13382519647488725, 'train_loss': 2.2209627214001446}\n",
      "Epoch 4/20\n"
     ]
    },
    {
     "name": "stderr",
     "output_type": "stream",
     "text": [
      "100%|██████████| 328/328 [00:29<00:00, 11.03it/s]\n"
     ]
    },
    {
     "name": "stdout",
     "output_type": "stream",
     "text": [
      "{'val_loss': 2.40777833796129, 'val_accuracy': 0.5, 'precision': 0.29035119870794346, 'recall': 0.5, 'f1-score': 0.3537385724358376, 'macro_f1-score': 0.029711207462882666, 'balanced_accuracy': 0.03709590617449996, 'mcc': 0.1929693937788155, 'train_loss': 2.532911371530556}\n",
      "Epoch 5/20\n"
     ]
    },
    {
     "name": "stderr",
     "output_type": "stream",
     "text": [
      "100%|██████████| 328/328 [00:29<00:00, 11.02it/s]\n"
     ]
    },
    {
     "name": "stdout",
     "output_type": "stream",
     "text": [
      "{'val_loss': 2.175316553290297, 'val_accuracy': 0.5274809160305344, 'precision': 0.29497659066961673, 'recall': 0.5274809160305344, 'f1-score': 0.37749479559490007, 'macro_f1-score': 0.03630687974259574, 'balanced_accuracy': 0.05636594013574113, 'mcc': 0.27600920617032876, 'train_loss': 2.3289049155101544}\n",
      "Early stopping.\n",
      "\n",
      "[Fold 2]\n",
      "Label distribution after resampling:\n",
      "  label 0: 2465\n",
      "  label 1: 22\n",
      "  label 2: 64\n",
      "  label 3: 24\n",
      "  label 4: 190\n",
      "  label 5: 113\n",
      "  label 6: 93\n",
      "  label 7: 31\n",
      "  label 8: 68\n",
      "  label 9: 29\n",
      "  label 10: 67\n",
      "  label 11: 169\n",
      "  label 12: 190\n",
      "  label 13: 29\n",
      "  label 14: 22\n",
      "  label 15: 25\n",
      "  label 16: 19\n",
      "  label 17: 181\n",
      "  label 18: 92\n",
      "  label 19: 44\n",
      "  label 20: 13\n",
      "  label 21: 35\n",
      "  label 22: 76\n",
      "  label 23: 158\n",
      "  label 24: 13\n",
      "  label 25: 44\n",
      "  label 26: 84\n",
      "  label 27: 47\n",
      "  label 28: 12\n",
      "  label 29: 12\n",
      "  label 30: 12\n",
      "  label 31: 75\n",
      "  label 32: 36\n",
      "  label 33: 31\n",
      "  label 34: 29\n",
      "  label 35: 12\n",
      "  label 36: 21\n",
      "  label 37: 16\n",
      "  label 38: 6\n",
      "  label 39: 33\n",
      "  label 40: 11\n",
      "  label 41: 8\n",
      "  label 42: 56\n",
      "  label 43: 6\n",
      "  label 44: 19\n",
      "  label 45: 9\n",
      "  label 46: 55\n",
      "  label 47: 241\n",
      "  label 48: 62\n",
      "  label 49: 68\n",
      "model is roberta-base lstm\n"
     ]
    },
    {
     "name": "stderr",
     "output_type": "stream",
     "text": [
      "Some weights of RobertaModel were not initialized from the model checkpoint at roberta-base and are newly initialized: ['pooler.dense.bias', 'pooler.dense.weight']\n",
      "You should probably TRAIN this model on a down-stream task to be able to use it for predictions and inference.\n"
     ]
    },
    {
     "name": "stdout",
     "output_type": "stream",
     "text": [
      "Epoch 1/20\n"
     ]
    },
    {
     "name": "stderr",
     "output_type": "stream",
     "text": [
      "100%|██████████| 328/328 [00:30<00:00, 10.91it/s]\n"
     ]
    },
    {
     "name": "stdout",
     "output_type": "stream",
     "text": [
      "{'val_loss': 2.0425879664537385, 'val_accuracy': 0.5240641711229946, 'precision': 0.32952134235220965, 'recall': 0.5240641711229946, 'f1-score': 0.3796449741082595, 'macro_f1-score': 0.0380591738602728, 'balanced_accuracy': 0.04831051964231415, 'mcc': 0.2587792972019884, 'train_loss': 2.3698917289332644}\n",
      "Epoch 2/20\n"
     ]
    },
    {
     "name": "stderr",
     "output_type": "stream",
     "text": [
      "100%|██████████| 328/328 [00:29<00:00, 11.02it/s]\n"
     ]
    },
    {
     "name": "stdout",
     "output_type": "stream",
     "text": [
      "{'val_loss': 1.9457259330807664, 'val_accuracy': 0.5500381970970206, 'precision': 0.38208401359606964, 'recall': 0.5500381970970206, 'f1-score': 0.43619463286811544, 'macro_f1-score': 0.059263782790760014, 'balanced_accuracy': 0.07696763580109275, 'mcc': 0.33844826623525887, 'train_loss': 1.967148403750687}\n",
      "Epoch 3/20\n"
     ]
    },
    {
     "name": "stderr",
     "output_type": "stream",
     "text": [
      "100%|██████████| 328/328 [00:29<00:00, 10.97it/s]\n"
     ]
    },
    {
     "name": "stdout",
     "output_type": "stream",
     "text": [
      "{'val_loss': 1.7743003092161038, 'val_accuracy': 0.5767761650114591, 'precision': 0.4159942075809504, 'recall': 0.5767761650114591, 'f1-score': 0.47913889469917664, 'macro_f1-score': 0.08547550969381101, 'balanced_accuracy': 0.10265494975802177, 'mcc': 0.3923359241313149, 'train_loss': 1.8035248383516218}\n",
      "Epoch 4/20\n"
     ]
    },
    {
     "name": "stderr",
     "output_type": "stream",
     "text": [
      "100%|██████████| 328/328 [00:29<00:00, 11.00it/s]\n"
     ]
    },
    {
     "name": "stdout",
     "output_type": "stream",
     "text": [
      "{'val_loss': 1.7374944963106296, 'val_accuracy': 0.5836516424751719, 'precision': 0.46813773609048864, 'recall': 0.5836516424751719, 'f1-score': 0.4954770356126481, 'macro_f1-score': 0.10934907773728124, 'balanced_accuracy': 0.11613414612545529, 'mcc': 0.3971463690151919, 'train_loss': 1.618404975342678}\n",
      "Epoch 5/20\n"
     ]
    },
    {
     "name": "stderr",
     "output_type": "stream",
     "text": [
      "100%|██████████| 328/328 [00:29<00:00, 10.95it/s]\n"
     ]
    },
    {
     "name": "stdout",
     "output_type": "stream",
     "text": [
      "{'val_loss': 1.6632044329875852, 'val_accuracy': 0.5874713521772346, 'precision': 0.49376461542373307, 'recall': 0.5874713521772346, 'f1-score': 0.5283922739813217, 'macro_f1-score': 0.14824030191354465, 'balanced_accuracy': 0.1698099248232561, 'mcc': 0.436193898254158, 'train_loss': 1.5545369785551617}\n",
      "Epoch 6/20\n"
     ]
    },
    {
     "name": "stderr",
     "output_type": "stream",
     "text": [
      "100%|██████████| 328/328 [00:29<00:00, 10.99it/s]\n"
     ]
    },
    {
     "name": "stdout",
     "output_type": "stream",
     "text": [
      "{'val_loss': 1.6570396216177359, 'val_accuracy': 0.5989304812834224, 'precision': 0.5084707642835895, 'recall': 0.5989304812834224, 'f1-score': 0.5376237260157998, 'macro_f1-score': 0.16020809201345895, 'balanced_accuracy': 0.17488192090758717, 'mcc': 0.4458569820916732, 'train_loss': 1.389608632773161}\n",
      "Epoch 7/20\n"
     ]
    },
    {
     "name": "stderr",
     "output_type": "stream",
     "text": [
      "100%|██████████| 328/328 [00:29<00:00, 11.02it/s]\n"
     ]
    },
    {
     "name": "stdout",
     "output_type": "stream",
     "text": [
      "{'val_loss': 1.6579259626749085, 'val_accuracy': 0.6157372039724981, 'precision': 0.5494813469376822, 'recall': 0.6157372039724981, 'f1-score': 0.5619096271893024, 'macro_f1-score': 0.18661757022385067, 'balanced_accuracy': 0.19221418891850406, 'mcc': 0.47335890157594235, 'train_loss': 1.2721691874832641}\n",
      "Epoch 8/20\n"
     ]
    },
    {
     "name": "stderr",
     "output_type": "stream",
     "text": [
      "100%|██████████| 328/328 [00:29<00:00, 10.96it/s]\n"
     ]
    },
    {
     "name": "stdout",
     "output_type": "stream",
     "text": [
      "{'val_loss': 1.5877332789141958, 'val_accuracy': 0.6042780748663101, 'precision': 0.5504820629997068, 'recall': 0.6042780748663101, 'f1-score': 0.5687395480487527, 'macro_f1-score': 0.20815056951950514, 'balanced_accuracy': 0.2256940563991512, 'mcc': 0.47295415254589357, 'train_loss': 1.1911056341557968}\n",
      "Epoch 9/20\n"
     ]
    },
    {
     "name": "stderr",
     "output_type": "stream",
     "text": [
      "100%|██████████| 328/328 [00:29<00:00, 11.00it/s]\n"
     ]
    },
    {
     "name": "stdout",
     "output_type": "stream",
     "text": [
      "{'val_loss': 1.6068243566082745, 'val_accuracy': 0.6096256684491979, 'precision': 0.5432258985725953, 'recall': 0.6096256684491979, 'f1-score': 0.5684625729687296, 'macro_f1-score': 0.2078564936107393, 'balanced_accuracy': 0.2272382784507537, 'mcc': 0.47094463241685625, 'train_loss': 1.0896583521148053}\n",
      "Epoch 10/20\n"
     ]
    },
    {
     "name": "stderr",
     "output_type": "stream",
     "text": [
      "100%|██████████| 328/328 [00:29<00:00, 11.03it/s]\n"
     ]
    },
    {
     "name": "stdout",
     "output_type": "stream",
     "text": [
      "{'val_loss': 1.6388987738911698, 'val_accuracy': 0.6103896103896104, 'precision': 0.5758391727661307, 'recall': 0.6103896103896104, 'f1-score': 0.5866915597659295, 'macro_f1-score': 0.22774165560968637, 'balanced_accuracy': 0.2502530874046435, 'mcc': 0.4874948115063122, 'train_loss': 0.9914663270933599}\n",
      "Epoch 11/20\n"
     ]
    },
    {
     "name": "stderr",
     "output_type": "stream",
     "text": [
      "100%|██████████| 328/328 [00:29<00:00, 11.01it/s]\n"
     ]
    },
    {
     "name": "stdout",
     "output_type": "stream",
     "text": [
      "{'val_loss': 1.6798488441400412, 'val_accuracy': 0.6180290297937356, 'precision': 0.5521617751479616, 'recall': 0.6180290297937356, 'f1-score': 0.5634789030257015, 'macro_f1-score': 0.20652557024136217, 'balanced_accuracy': 0.21036580561241125, 'mcc': 0.46628765566843655, 'train_loss': 0.9134929652166802}\n",
      "Epoch 12/20\n"
     ]
    },
    {
     "name": "stderr",
     "output_type": "stream",
     "text": [
      "100%|██████████| 328/328 [00:30<00:00, 10.91it/s]\n"
     ]
    },
    {
     "name": "stdout",
     "output_type": "stream",
     "text": [
      "{'val_loss': 1.7378342845817891, 'val_accuracy': 0.6142093200916731, 'precision': 0.574742101103053, 'recall': 0.6142093200916731, 'f1-score': 0.5816724556220733, 'macro_f1-score': 0.2331086965968828, 'balanced_accuracy': 0.23301701684514348, 'mcc': 0.48068776944815994, 'train_loss': 0.8794789193198085}\n",
      "Epoch 13/20\n"
     ]
    },
    {
     "name": "stderr",
     "output_type": "stream",
     "text": [
      "100%|██████████| 328/328 [00:29<00:00, 11.02it/s]\n"
     ]
    },
    {
     "name": "stdout",
     "output_type": "stream",
     "text": [
      "{'val_loss': 1.6806261059714527, 'val_accuracy': 0.5859434682964094, 'precision': 0.5980759965344518, 'recall': 0.5859434682964094, 'f1-score': 0.5814954701241695, 'macro_f1-score': 0.2672121359167002, 'balanced_accuracy': 0.2853288252811019, 'mcc': 0.4805554086333131, 'train_loss': 0.8353429031444759}\n",
      "Epoch 14/20\n"
     ]
    },
    {
     "name": "stderr",
     "output_type": "stream",
     "text": [
      "100%|██████████| 328/328 [00:29<00:00, 10.96it/s]\n"
     ]
    },
    {
     "name": "stdout",
     "output_type": "stream",
     "text": [
      "{'val_loss': 1.7596097021568111, 'val_accuracy': 0.6035141329258976, 'precision': 0.5779610515829678, 'recall': 0.6035141329258976, 'f1-score': 0.573388183865703, 'macro_f1-score': 0.23054539683133338, 'balanced_accuracy': 0.2348063574154302, 'mcc': 0.4682937602765829, 'train_loss': 0.7844390599057078}\n",
      "Epoch 15/20\n"
     ]
    },
    {
     "name": "stderr",
     "output_type": "stream",
     "text": [
      "100%|██████████| 328/328 [00:29<00:00, 10.99it/s]\n"
     ]
    },
    {
     "name": "stdout",
     "output_type": "stream",
     "text": [
      "{'val_loss': 1.6965446304984209, 'val_accuracy': 0.586707410236822, 'precision': 0.613933715747303, 'recall': 0.586707410236822, 'f1-score': 0.588277740549064, 'macro_f1-score': 0.29722890657900225, 'balanced_accuracy': 0.3214592907576377, 'mcc': 0.48508990632217325, 'train_loss': 0.7420365918064262}\n",
      "Epoch 16/20\n"
     ]
    },
    {
     "name": "stderr",
     "output_type": "stream",
     "text": [
      "100%|██████████| 328/328 [00:29<00:00, 10.96it/s]\n"
     ]
    },
    {
     "name": "stdout",
     "output_type": "stream",
     "text": [
      "{'val_loss': 1.708811400503647, 'val_accuracy': 0.6287242169595111, 'precision': 0.567596891597833, 'recall': 0.6287242169595111, 'f1-score': 0.5847279740491633, 'macro_f1-score': 0.24868728689979466, 'balanced_accuracy': 0.24878487840843413, 'mcc': 0.4886593025162903, 'train_loss': 0.6585163955417711}\n",
      "Epoch 17/20\n"
     ]
    },
    {
     "name": "stderr",
     "output_type": "stream",
     "text": [
      "100%|██████████| 328/328 [00:29<00:00, 11.00it/s]\n"
     ]
    },
    {
     "name": "stdout",
     "output_type": "stream",
     "text": [
      "{'val_loss': 1.6834672215144808, 'val_accuracy': 0.6325439266615738, 'precision': 0.5913883840935582, 'recall': 0.6325439266615738, 'f1-score': 0.6079496596666921, 'macro_f1-score': 0.2821904479395419, 'balanced_accuracy': 0.28645743916017224, 'mcc': 0.5093884486378648, 'train_loss': 0.6073251131513133}\n",
      "Epoch 18/20\n"
     ]
    },
    {
     "name": "stderr",
     "output_type": "stream",
     "text": [
      "100%|██████████| 328/328 [00:29<00:00, 11.03it/s]\n"
     ]
    },
    {
     "name": "stdout",
     "output_type": "stream",
     "text": [
      "{'val_loss': 1.811512505862771, 'val_accuracy': 0.6264323911382735, 'precision': 0.5947379817136782, 'recall': 0.6264323911382735, 'f1-score': 0.5991988258072846, 'macro_f1-score': 0.2823001417262918, 'balanced_accuracy': 0.2800718766419686, 'mcc': 0.4954332437632243, 'train_loss': 0.5645629062385458}\n",
      "Early stopping.\n",
      "\n",
      "[Fold 3]\n",
      "Label distribution after resampling:\n",
      "  label 0: 2466\n",
      "  label 1: 21\n",
      "  label 2: 64\n",
      "  label 3: 24\n",
      "  label 4: 191\n",
      "  label 5: 113\n",
      "  label 6: 92\n",
      "  label 7: 31\n",
      "  label 8: 68\n",
      "  label 9: 29\n",
      "  label 10: 68\n",
      "  label 11: 168\n",
      "  label 12: 190\n",
      "  label 13: 29\n",
      "  label 14: 22\n",
      "  label 15: 25\n",
      "  label 16: 19\n",
      "  label 17: 181\n",
      "  label 18: 92\n",
      "  label 19: 44\n",
      "  label 20: 13\n",
      "  label 21: 36\n",
      "  label 22: 76\n",
      "  label 23: 158\n",
      "  label 24: 12\n",
      "  label 25: 44\n",
      "  label 26: 84\n",
      "  label 27: 48\n",
      "  label 28: 11\n",
      "  label 29: 13\n",
      "  label 30: 11\n",
      "  label 31: 75\n",
      "  label 32: 36\n",
      "  label 33: 31\n",
      "  label 34: 30\n",
      "  label 35: 11\n",
      "  label 36: 21\n",
      "  label 37: 16\n",
      "  label 38: 5\n",
      "  label 39: 33\n",
      "  label 40: 11\n",
      "  label 41: 9\n",
      "  label 42: 57\n",
      "  label 43: 7\n",
      "  label 44: 18\n",
      "  label 45: 9\n",
      "  label 46: 54\n",
      "  label 47: 242\n",
      "  label 48: 61\n",
      "  label 49: 68\n",
      "model is roberta-base lstm\n"
     ]
    },
    {
     "name": "stderr",
     "output_type": "stream",
     "text": [
      "Some weights of RobertaModel were not initialized from the model checkpoint at roberta-base and are newly initialized: ['pooler.dense.bias', 'pooler.dense.weight']\n",
      "You should probably TRAIN this model on a down-stream task to be able to use it for predictions and inference.\n"
     ]
    },
    {
     "name": "stdout",
     "output_type": "stream",
     "text": [
      "Epoch 1/20\n"
     ]
    },
    {
     "name": "stderr",
     "output_type": "stream",
     "text": [
      "100%|██████████| 328/328 [00:29<00:00, 10.95it/s]\n"
     ]
    },
    {
     "name": "stdout",
     "output_type": "stream",
     "text": [
      "{'val_loss': 2.170141633690857, 'val_accuracy': 0.5118411000763942, 'precision': 0.29796084100172837, 'recall': 0.5118411000763942, 'f1-score': 0.37357891853320496, 'macro_f1-score': 0.032091568847870705, 'balanced_accuracy': 0.05238672438672439, 'mcc': 0.2631502023289394, 'train_loss': 2.4084724153323873}\n",
      "Epoch 2/20\n"
     ]
    },
    {
     "name": "stderr",
     "output_type": "stream",
     "text": [
      "100%|██████████| 328/328 [00:29<00:00, 11.00it/s]\n"
     ]
    },
    {
     "name": "stdout",
     "output_type": "stream",
     "text": [
      "{'val_loss': 2.033633125991356, 'val_accuracy': 0.5278838808250573, 'precision': 0.31139147141123047, 'recall': 0.5278838808250573, 'f1-score': 0.3886637639974858, 'macro_f1-score': 0.03830207812325789, 'balanced_accuracy': 0.05524170274170274, 'mcc': 0.2875848596848804, 'train_loss': 2.0971278166625558}\n",
      "Epoch 3/20\n"
     ]
    },
    {
     "name": "stderr",
     "output_type": "stream",
     "text": [
      "100%|██████████| 328/328 [00:29<00:00, 11.02it/s]\n"
     ]
    },
    {
     "name": "stdout",
     "output_type": "stream",
     "text": [
      "{'val_loss': 1.9683229130942648, 'val_accuracy': 0.5347593582887701, 'precision': 0.368342534924685, 'recall': 0.5347593582887701, 'f1-score': 0.423097557774136, 'macro_f1-score': 0.049936774918199076, 'balanced_accuracy': 0.0757059165201174, 'mcc': 0.33167777841411183, 'train_loss': 1.9609794262342337}\n",
      "Epoch 4/20\n"
     ]
    },
    {
     "name": "stderr",
     "output_type": "stream",
     "text": [
      "100%|██████████| 328/328 [00:29<00:00, 11.01it/s]\n"
     ]
    },
    {
     "name": "stdout",
     "output_type": "stream",
     "text": [
      "{'val_loss': 1.8680824731908194, 'val_accuracy': 0.5660809778456837, 'precision': 0.40430929361464507, 'recall': 0.5660809778456837, 'f1-score': 0.4678149764893864, 'macro_f1-score': 0.07135684506982447, 'balanced_accuracy': 0.09239909878455153, 'mcc': 0.3784818493541607, 'train_loss': 1.8558334593729275}\n",
      "Epoch 5/20\n"
     ]
    },
    {
     "name": "stderr",
     "output_type": "stream",
     "text": [
      "100%|██████████| 328/328 [00:30<00:00, 10.91it/s]\n"
     ]
    },
    {
     "name": "stdout",
     "output_type": "stream",
     "text": [
      "{'val_loss': 1.8411786061961477, 'val_accuracy': 0.5683728036669213, 'precision': 0.45801139173850686, 'recall': 0.5683728036669213, 'f1-score': 0.4931660539949254, 'macro_f1-score': 0.09375553946718344, 'balanced_accuracy': 0.10766678946216626, 'mcc': 0.38998228382504724, 'train_loss': 1.7284634753879977}\n",
      "Epoch 6/20\n"
     ]
    },
    {
     "name": "stderr",
     "output_type": "stream",
     "text": [
      "100%|██████████| 328/328 [00:29<00:00, 11.00it/s]\n"
     ]
    },
    {
     "name": "stdout",
     "output_type": "stream",
     "text": [
      "{'val_loss': 1.7349450224783363, 'val_accuracy': 0.5874713521772346, 'precision': 0.4532029367203788, 'recall': 0.5874713521772346, 'f1-score': 0.5071356664767263, 'macro_f1-score': 0.10442946230552394, 'balanced_accuracy': 0.12186088470567742, 'mcc': 0.4194912136068233, 'train_loss': 1.625857077175524}\n",
      "Epoch 7/20\n"
     ]
    },
    {
     "name": "stderr",
     "output_type": "stream",
     "text": [
      "100%|██████████| 328/328 [00:29<00:00, 10.97it/s]\n"
     ]
    },
    {
     "name": "stdout",
     "output_type": "stream",
     "text": [
      "{'val_loss': 1.7838908673786535, 'val_accuracy': 0.5706646294881589, 'precision': 0.48464665955694924, 'recall': 0.5706646294881589, 'f1-score': 0.5125153584413564, 'macro_f1-score': 0.10879059872499336, 'balanced_accuracy': 0.12799450300553614, 'mcc': 0.41394133124742555, 'train_loss': 1.607028108907909}\n",
      "Epoch 8/20\n"
     ]
    },
    {
     "name": "stderr",
     "output_type": "stream",
     "text": [
      "100%|██████████| 328/328 [00:29<00:00, 10.98it/s]\n"
     ]
    },
    {
     "name": "stdout",
     "output_type": "stream",
     "text": [
      "{'val_loss': 1.7843756239588668, 'val_accuracy': 0.5760122230710466, 'precision': 0.46989789022685463, 'recall': 0.5760122230710466, 'f1-score': 0.51107431275622, 'macro_f1-score': 0.11620970893187257, 'balanced_accuracy': 0.13470368367225757, 'mcc': 0.4143040711282849, 'train_loss': 1.514759830676201}\n",
      "Epoch 9/20\n"
     ]
    },
    {
     "name": "stderr",
     "output_type": "stream",
     "text": [
      "100%|██████████| 328/328 [00:29<00:00, 10.94it/s]\n"
     ]
    },
    {
     "name": "stdout",
     "output_type": "stream",
     "text": [
      "{'val_loss': 1.6777350255628911, 'val_accuracy': 0.5974025974025974, 'precision': 0.4884867898553447, 'recall': 0.5974025974025974, 'f1-score': 0.5274741421261071, 'macro_f1-score': 0.13353021553270056, 'balanced_accuracy': 0.1482963458327412, 'mcc': 0.433610194365955, 'train_loss': 1.4029947826411666}\n",
      "Epoch 10/20\n"
     ]
    },
    {
     "name": "stderr",
     "output_type": "stream",
     "text": [
      "100%|██████████| 328/328 [00:29<00:00, 10.98it/s]\n"
     ]
    },
    {
     "name": "stdout",
     "output_type": "stream",
     "text": [
      "{'val_loss': 1.6374817156210177, 'val_accuracy': 0.5828877005347594, 'precision': 0.52385353252076, 'recall': 0.5828877005347594, 'f1-score': 0.5452649962977784, 'macro_f1-score': 0.16400443488678237, 'balanced_accuracy': 0.17959250304344102, 'mcc': 0.4423890017981338, 'train_loss': 1.2910773047223323}\n",
      "Epoch 11/20\n"
     ]
    },
    {
     "name": "stderr",
     "output_type": "stream",
     "text": [
      "100%|██████████| 328/328 [00:29<00:00, 11.02it/s]\n"
     ]
    },
    {
     "name": "stdout",
     "output_type": "stream",
     "text": [
      "{'val_loss': 1.6704243417920135, 'val_accuracy': 0.5958747135217723, 'precision': 0.5394976326982261, 'recall': 0.5958747135217723, 'f1-score': 0.5538759768587387, 'macro_f1-score': 0.1782847101148503, 'balanced_accuracy': 0.1939038768596364, 'mcc': 0.4523074005343794, 'train_loss': 1.2312348073393833}\n",
      "Epoch 12/20\n"
     ]
    },
    {
     "name": "stderr",
     "output_type": "stream",
     "text": [
      "100%|██████████| 328/328 [00:29<00:00, 10.95it/s]\n"
     ]
    },
    {
     "name": "stdout",
     "output_type": "stream",
     "text": [
      "{'val_loss': 1.6673956527942564, 'val_accuracy': 0.6195569136745608, 'precision': 0.5587200916110302, 'recall': 0.6195569136745608, 'f1-score': 0.5728413061390222, 'macro_f1-score': 0.19499395973162403, 'balanced_accuracy': 0.21119593262445258, 'mcc': 0.48221908414288867, 'train_loss': 1.138811074288153}\n",
      "Epoch 13/20\n"
     ]
    },
    {
     "name": "stderr",
     "output_type": "stream",
     "text": [
      "100%|██████████| 328/328 [00:29<00:00, 11.01it/s]\n"
     ]
    },
    {
     "name": "stdout",
     "output_type": "stream",
     "text": [
      "{'val_loss': 1.629419175589957, 'val_accuracy': 0.6058059587471352, 'precision': 0.5743953174394975, 'recall': 0.6058059587471352, 'f1-score': 0.5828860948893537, 'macro_f1-score': 0.22862628467893814, 'balanced_accuracy': 0.24759872872901767, 'mcc': 0.48535119008812927, 'train_loss': 1.093283237389675}\n",
      "Epoch 14/20\n"
     ]
    },
    {
     "name": "stderr",
     "output_type": "stream",
     "text": [
      "100%|██████████| 328/328 [00:29<00:00, 11.02it/s]\n"
     ]
    },
    {
     "name": "stdout",
     "output_type": "stream",
     "text": [
      "{'val_loss': 1.7208848737361955, 'val_accuracy': 0.6172650878533231, 'precision': 0.5494623454322792, 'recall': 0.6172650878533231, 'f1-score': 0.5724242639747003, 'macro_f1-score': 0.21158633697727558, 'balanced_accuracy': 0.21793493136967215, 'mcc': 0.4741825520584616, 'train_loss': 1.0109265958890319}\n",
      "Epoch 15/20\n"
     ]
    },
    {
     "name": "stderr",
     "output_type": "stream",
     "text": [
      "100%|██████████| 328/328 [00:29<00:00, 11.00it/s]\n"
     ]
    },
    {
     "name": "stdout",
     "output_type": "stream",
     "text": [
      "{'val_loss': 1.6881655007600784, 'val_accuracy': 0.6187929717341482, 'precision': 0.5842201841648343, 'recall': 0.6187929717341482, 'f1-score': 0.5916201149207488, 'macro_f1-score': 0.2383437016557068, 'balanced_accuracy': 0.2584050300419076, 'mcc': 0.49449805748680353, 'train_loss': 0.9787298775300747}\n",
      "Epoch 16/20\n"
     ]
    },
    {
     "name": "stderr",
     "output_type": "stream",
     "text": [
      "100%|██████████| 328/328 [00:30<00:00, 10.92it/s]\n"
     ]
    },
    {
     "name": "stdout",
     "output_type": "stream",
     "text": [
      "{'val_loss': 1.7291227717225144, 'val_accuracy': 0.5928189457601223, 'precision': 0.5614771930216753, 'recall': 0.5928189457601223, 'f1-score': 0.5704523472729739, 'macro_f1-score': 0.21849098108245577, 'balanced_accuracy': 0.23415353750635476, 'mcc': 0.4674185302298043, 'train_loss': 0.9141987260067608}\n",
      "Epoch 17/20\n"
     ]
    },
    {
     "name": "stderr",
     "output_type": "stream",
     "text": [
      "100%|██████████| 328/328 [00:29<00:00, 11.00it/s]\n"
     ]
    },
    {
     "name": "stdout",
     "output_type": "stream",
     "text": [
      "{'val_loss': 1.9569451158366553, 'val_accuracy': 0.6019862490450726, 'precision': 0.5624799738563192, 'recall': 0.6019862490450726, 'f1-score': 0.5698450827477336, 'macro_f1-score': 0.21868889710190942, 'balanced_accuracy': 0.23763261166112662, 'mcc': 0.4693424305274514, 'train_loss': 0.8545377648367387}\n",
      "Epoch 18/20\n"
     ]
    },
    {
     "name": "stderr",
     "output_type": "stream",
     "text": [
      "100%|██████████| 328/328 [00:29<00:00, 10.96it/s]\n"
     ]
    },
    {
     "name": "stdout",
     "output_type": "stream",
     "text": [
      "{'val_loss': 1.844496752430753, 'val_accuracy': 0.5798319327731093, 'precision': 0.5947066242451501, 'recall': 0.5798319327731093, 'f1-score': 0.5703525668423209, 'macro_f1-score': 0.22208545008458713, 'balanced_accuracy': 0.259344660085647, 'mcc': 0.4666983357027761, 'train_loss': 0.9214610373147014}\n",
      "Early stopping.\n",
      "\n",
      "[Fold 4]\n",
      "Label distribution after resampling:\n",
      "  label 0: 2466\n",
      "  label 1: 21\n",
      "  label 2: 64\n",
      "  label 3: 24\n",
      "  label 4: 191\n",
      "  label 5: 113\n",
      "  label 6: 93\n",
      "  label 7: 30\n",
      "  label 8: 68\n",
      "  label 9: 30\n",
      "  label 10: 67\n",
      "  label 11: 169\n",
      "  label 12: 189\n",
      "  label 13: 29\n",
      "  label 14: 22\n",
      "  label 15: 25\n",
      "  label 16: 19\n",
      "  label 17: 181\n",
      "  label 18: 92\n",
      "  label 19: 44\n",
      "  label 20: 14\n",
      "  label 21: 35\n",
      "  label 22: 76\n",
      "  label 23: 158\n",
      "  label 24: 13\n",
      "  label 25: 44\n",
      "  label 26: 84\n",
      "  label 27: 47\n",
      "  label 28: 11\n",
      "  label 29: 13\n",
      "  label 30: 11\n",
      "  label 31: 75\n",
      "  label 32: 36\n",
      "  label 33: 31\n",
      "  label 34: 30\n",
      "  label 35: 11\n",
      "  label 36: 22\n",
      "  label 37: 16\n",
      "  label 38: 5\n",
      "  label 39: 33\n",
      "  label 40: 10\n",
      "  label 41: 9\n",
      "  label 42: 57\n",
      "  label 43: 7\n",
      "  label 44: 18\n",
      "  label 45: 9\n",
      "  label 46: 54\n",
      "  label 47: 242\n",
      "  label 48: 61\n",
      "  label 49: 68\n",
      "model is roberta-base lstm\n"
     ]
    },
    {
     "name": "stderr",
     "output_type": "stream",
     "text": [
      "Some weights of RobertaModel were not initialized from the model checkpoint at roberta-base and are newly initialized: ['pooler.dense.bias', 'pooler.dense.weight']\n",
      "You should probably TRAIN this model on a down-stream task to be able to use it for predictions and inference.\n"
     ]
    },
    {
     "name": "stdout",
     "output_type": "stream",
     "text": [
      "Epoch 1/20\n"
     ]
    },
    {
     "name": "stderr",
     "output_type": "stream",
     "text": [
      "100%|██████████| 328/328 [00:29<00:00, 10.99it/s]\n"
     ]
    },
    {
     "name": "stdout",
     "output_type": "stream",
     "text": [
      "{'val_loss': 2.1001918294080872, 'val_accuracy': 0.5202444614209321, 'precision': 0.3140210054100953, 'recall': 0.5202444614209321, 'f1-score': 0.37666458248143647, 'macro_f1-score': 0.03716395869963653, 'balanced_accuracy': 0.056728255196340296, 'mcc': 0.26661984009457723, 'train_loss': 2.3678616059989466}\n",
      "Epoch 2/20\n"
     ]
    },
    {
     "name": "stderr",
     "output_type": "stream",
     "text": [
      "100%|██████████| 328/328 [00:29<00:00, 10.95it/s]\n"
     ]
    },
    {
     "name": "stdout",
     "output_type": "stream",
     "text": [
      "{'val_loss': 1.9553898485695445, 'val_accuracy': 0.5584415584415584, 'precision': 0.38117297863009986, 'recall': 0.5584415584415584, 'f1-score': 0.4505782645338427, 'macro_f1-score': 0.06250614697242254, 'balanced_accuracy': 0.08543881059838507, 'mcc': 0.3646766021476387, 'train_loss': 2.04132523569392}\n",
      "Epoch 3/20\n"
     ]
    },
    {
     "name": "stderr",
     "output_type": "stream",
     "text": [
      "100%|██████████| 328/328 [00:29<00:00, 11.00it/s]\n"
     ]
    },
    {
     "name": "stdout",
     "output_type": "stream",
     "text": [
      "{'val_loss': 1.8920077608852852, 'val_accuracy': 0.5553857906799083, 'precision': 0.40744774900657993, 'recall': 0.5553857906799083, 'f1-score': 0.46548460779778594, 'macro_f1-score': 0.07760924654154816, 'balanced_accuracy': 0.09938496255517532, 'mcc': 0.3726592249386321, 'train_loss': 1.842655063402362}\n",
      "Epoch 4/20\n"
     ]
    },
    {
     "name": "stderr",
     "output_type": "stream",
     "text": [
      "100%|██████████| 328/328 [00:29<00:00, 11.02it/s]\n"
     ]
    },
    {
     "name": "stdout",
     "output_type": "stream",
     "text": [
      "{'val_loss': 1.769100242271656, 'val_accuracy': 0.5599694423223835, 'precision': 0.4477807794497041, 'recall': 0.5599694423223835, 'f1-score': 0.4926935796457177, 'macro_f1-score': 0.11079022116554611, 'balanced_accuracy': 0.13296640766658782, 'mcc': 0.39425829281387076, 'train_loss': 1.7023460968601993}\n",
      "Epoch 5/20\n"
     ]
    },
    {
     "name": "stderr",
     "output_type": "stream",
     "text": [
      "100%|██████████| 328/328 [00:30<00:00, 10.93it/s]\n"
     ]
    },
    {
     "name": "stdout",
     "output_type": "stream",
     "text": [
      "{'val_loss': 1.759790497945576, 'val_accuracy': 0.586707410236822, 'precision': 0.45289485065197377, 'recall': 0.586707410236822, 'f1-score': 0.49987882434274145, 'macro_f1-score': 0.13025088188970532, 'balanced_accuracy': 0.14441063890393932, 'mcc': 0.4164136869516136, 'train_loss': 1.605562817487048}\n",
      "Epoch 6/20\n"
     ]
    },
    {
     "name": "stderr",
     "output_type": "stream",
     "text": [
      "100%|██████████| 328/328 [00:29<00:00, 11.02it/s]\n"
     ]
    },
    {
     "name": "stdout",
     "output_type": "stream",
     "text": [
      "{'val_loss': 1.6950892449879065, 'val_accuracy': 0.5584415584415584, 'precision': 0.5231024767852847, 'recall': 0.5584415584415584, 'f1-score': 0.5150148030950011, 'macro_f1-score': 0.1463185576356783, 'balanced_accuracy': 0.16730504218318148, 'mcc': 0.4168835981723143, 'train_loss': 1.4640865187365106}\n",
      "Epoch 7/20\n"
     ]
    },
    {
     "name": "stderr",
     "output_type": "stream",
     "text": [
      "100%|██████████| 328/328 [00:29<00:00, 11.02it/s]\n"
     ]
    },
    {
     "name": "stdout",
     "output_type": "stream",
     "text": [
      "{'val_loss': 1.7397097385511167, 'val_accuracy': 0.5553857906799083, 'precision': 0.5264502092988712, 'recall': 0.5553857906799083, 'f1-score': 0.5190086241218258, 'macro_f1-score': 0.14663321864798515, 'balanced_accuracy': 0.1687749568081555, 'mcc': 0.41085002146935723, 'train_loss': 1.3716317502463735}\n",
      "Epoch 8/20\n"
     ]
    },
    {
     "name": "stderr",
     "output_type": "stream",
     "text": [
      "100%|██████████| 328/328 [00:29<00:00, 11.00it/s]\n"
     ]
    },
    {
     "name": "stdout",
     "output_type": "stream",
     "text": [
      "{'val_loss': 1.6808128502310775, 'val_accuracy': 0.5805958747135218, 'precision': 0.5261397549330898, 'recall': 0.5805958747135218, 'f1-score': 0.5404940432329175, 'macro_f1-score': 0.18903835979442604, 'balanced_accuracy': 0.19839025525224233, 'mcc': 0.436139428274022, 'train_loss': 1.3627216780512799}\n",
      "Epoch 9/20\n"
     ]
    },
    {
     "name": "stderr",
     "output_type": "stream",
     "text": [
      "100%|██████████| 328/328 [00:29<00:00, 10.94it/s]\n"
     ]
    },
    {
     "name": "stdout",
     "output_type": "stream",
     "text": [
      "{'val_loss': 1.6783809298422279, 'val_accuracy': 0.5805958747135218, 'precision': 0.5082537070014127, 'recall': 0.5805958747135218, 'f1-score': 0.5290139433190455, 'macro_f1-score': 0.15699113836432063, 'balanced_accuracy': 0.17518580507207954, 'mcc': 0.4362749330748882, 'train_loss': 1.2187928283905112}\n",
      "Epoch 10/20\n"
     ]
    },
    {
     "name": "stderr",
     "output_type": "stream",
     "text": [
      "100%|██████████| 328/328 [00:29<00:00, 11.00it/s]\n"
     ]
    },
    {
     "name": "stdout",
     "output_type": "stream",
     "text": [
      "{'val_loss': 1.7703258671411655, 'val_accuracy': 0.5485103132161956, 'precision': 0.5572202223611387, 'recall': 0.5485103132161956, 'f1-score': 0.536768347285095, 'macro_f1-score': 0.18956437607625432, 'balanced_accuracy': 0.2174186394828459, 'mcc': 0.4139904658596427, 'train_loss': 1.12234143762872}\n",
      "Epoch 11/20\n"
     ]
    },
    {
     "name": "stderr",
     "output_type": "stream",
     "text": [
      "100%|██████████| 328/328 [00:29<00:00, 10.98it/s]\n"
     ]
    },
    {
     "name": "stdout",
     "output_type": "stream",
     "text": [
      "{'val_loss': 1.7242533339232933, 'val_accuracy': 0.5706646294881589, 'precision': 0.5388429369397221, 'recall': 0.5706646294881589, 'f1-score': 0.5436536771197394, 'macro_f1-score': 0.19439719276110565, 'balanced_accuracy': 0.21470788740548066, 'mcc': 0.4390931912734799, 'train_loss': 1.0986181125044823}\n",
      "Epoch 12/20\n"
     ]
    },
    {
     "name": "stderr",
     "output_type": "stream",
     "text": [
      "100%|██████████| 328/328 [00:29<00:00, 10.98it/s]\n"
     ]
    },
    {
     "name": "stdout",
     "output_type": "stream",
     "text": [
      "{'val_loss': 1.7544366139464262, 'val_accuracy': 0.5637891520244461, 'precision': 0.5413820769815769, 'recall': 0.5637891520244461, 'f1-score': 0.5391709573504648, 'macro_f1-score': 0.196979115807673, 'balanced_accuracy': 0.21728720768120702, 'mcc': 0.4238711324505696, 'train_loss': 0.9962824794304806}\n",
      "Epoch 13/20\n"
     ]
    },
    {
     "name": "stderr",
     "output_type": "stream",
     "text": [
      "100%|██████████| 328/328 [00:29<00:00, 10.96it/s]\n"
     ]
    },
    {
     "name": "stdout",
     "output_type": "stream",
     "text": [
      "{'val_loss': 1.7284747765558521, 'val_accuracy': 0.5943468296409473, 'precision': 0.569686588904216, 'recall': 0.5943468296409473, 'f1-score': 0.5696835377049643, 'macro_f1-score': 0.22957458013932616, 'balanced_accuracy': 0.24770389041622248, 'mcc': 0.46470337467419087, 'train_loss': 0.9530371978833545}\n",
      "Epoch 14/20\n"
     ]
    },
    {
     "name": "stderr",
     "output_type": "stream",
     "text": [
      "100%|██████████| 328/328 [00:29<00:00, 10.99it/s]\n"
     ]
    },
    {
     "name": "stdout",
     "output_type": "stream",
     "text": [
      "{'val_loss': 1.6995043194875485, 'val_accuracy': 0.5874713521772346, 'precision': 0.5562142838771775, 'recall': 0.5874713521772346, 'f1-score': 0.5628008104237133, 'macro_f1-score': 0.2403349923280266, 'balanced_accuracy': 0.2572000041795875, 'mcc': 0.4602314116549637, 'train_loss': 0.8687383271299485}\n",
      "Epoch 15/20\n"
     ]
    },
    {
     "name": "stderr",
     "output_type": "stream",
     "text": [
      "100%|██████████| 328/328 [00:29<00:00, 11.02it/s]\n"
     ]
    },
    {
     "name": "stdout",
     "output_type": "stream",
     "text": [
      "{'val_loss': 1.6788406372070312, 'val_accuracy': 0.5790679908326967, 'precision': 0.5673939167529907, 'recall': 0.5790679908326967, 'f1-score': 0.5635064306738236, 'macro_f1-score': 0.2402376185475636, 'balanced_accuracy': 0.25273833349120894, 'mcc': 0.44484561899973385, 'train_loss': 0.8277640193927942}\n",
      "Epoch 16/20\n"
     ]
    },
    {
     "name": "stderr",
     "output_type": "stream",
     "text": [
      "100%|██████████| 328/328 [00:29<00:00, 10.94it/s]\n"
     ]
    },
    {
     "name": "stdout",
     "output_type": "stream",
     "text": [
      "{'val_loss': 1.7905484932224924, 'val_accuracy': 0.5889992360580596, 'precision': 0.5807096535996149, 'recall': 0.5889992360580596, 'f1-score': 0.5796075463805551, 'macro_f1-score': 0.26142072306039293, 'balanced_accuracy': 0.2789665979661963, 'mcc': 0.46258993329987996, 'train_loss': 0.8079708427554224}\n",
      "Epoch 17/20\n"
     ]
    },
    {
     "name": "stderr",
     "output_type": "stream",
     "text": [
      "100%|██████████| 328/328 [00:29<00:00, 11.03it/s]\n"
     ]
    },
    {
     "name": "stdout",
     "output_type": "stream",
     "text": [
      "{'val_loss': 1.7731935221974442, 'val_accuracy': 0.5783040488922842, 'precision': 0.6064370699300904, 'recall': 0.5783040488922842, 'f1-score': 0.5820288092085324, 'macro_f1-score': 0.27916093062531017, 'balanced_accuracy': 0.30420169735409175, 'mcc': 0.4685192196484455, 'train_loss': 0.7277167088738302}\n",
      "Epoch 18/20\n"
     ]
    },
    {
     "name": "stderr",
     "output_type": "stream",
     "text": [
      "100%|██████████| 328/328 [00:29<00:00, 11.02it/s]\n"
     ]
    },
    {
     "name": "stdout",
     "output_type": "stream",
     "text": [
      "{'val_loss': 1.7074461804657448, 'val_accuracy': 0.5920550038197097, 'precision': 0.5929696624429938, 'recall': 0.5920550038197097, 'f1-score': 0.5845726431015449, 'macro_f1-score': 0.28233659856056087, 'balanced_accuracy': 0.29420653828353954, 'mcc': 0.4689723049836997, 'train_loss': 0.6981044672429562}\n",
      "Epoch 19/20\n"
     ]
    },
    {
     "name": "stderr",
     "output_type": "stream",
     "text": [
      "100%|██████████| 328/328 [00:29<00:00, 10.99it/s]\n"
     ]
    },
    {
     "name": "stdout",
     "output_type": "stream",
     "text": [
      "{'val_loss': 1.7916001724760706, 'val_accuracy': 0.6119174942704354, 'precision': 0.6036234612203855, 'recall': 0.6119174942704354, 'f1-score': 0.5955193269149504, 'macro_f1-score': 0.2824790049249358, 'balanced_accuracy': 0.28690515644722275, 'mcc': 0.4833201165941187, 'train_loss': 0.7044508244115405}\n",
      "Epoch 20/20\n"
     ]
    },
    {
     "name": "stderr",
     "output_type": "stream",
     "text": [
      "100%|██████████| 328/328 [00:29<00:00, 10.94it/s]\n"
     ]
    },
    {
     "name": "stdout",
     "output_type": "stream",
     "text": [
      "{'val_loss': 1.7681455288718386, 'val_accuracy': 0.6195569136745608, 'precision': 0.6167466627383167, 'recall': 0.6195569136745608, 'f1-score': 0.6075527386853736, 'macro_f1-score': 0.30160373006901336, 'balanced_accuracy': 0.30775248172852726, 'mcc': 0.4992061883052862, 'train_loss': 0.6276157592400545}\n",
      "\n",
      "[Fold 5]\n",
      "Label distribution after resampling:\n",
      "  label 0: 2466\n",
      "  label 1: 22\n",
      "  label 2: 64\n",
      "  label 3: 24\n",
      "  label 4: 190\n",
      "  label 5: 113\n",
      "  label 6: 93\n",
      "  label 7: 30\n",
      "  label 8: 68\n",
      "  label 9: 30\n",
      "  label 10: 67\n",
      "  label 11: 169\n",
      "  label 12: 189\n",
      "  label 13: 29\n",
      "  label 14: 23\n",
      "  label 15: 24\n",
      "  label 16: 20\n",
      "  label 17: 180\n",
      "  label 18: 92\n",
      "  label 19: 44\n",
      "  label 20: 14\n",
      "  label 21: 35\n",
      "  label 22: 76\n",
      "  label 23: 157\n",
      "  label 24: 13\n",
      "  label 25: 44\n",
      "  label 26: 84\n",
      "  label 27: 47\n",
      "  label 28: 11\n",
      "  label 29: 13\n",
      "  label 30: 11\n",
      "  label 31: 75\n",
      "  label 32: 36\n",
      "  label 33: 31\n",
      "  label 34: 30\n",
      "  label 35: 11\n",
      "  label 36: 22\n",
      "  label 37: 16\n",
      "  label 38: 6\n",
      "  label 39: 33\n",
      "  label 40: 10\n",
      "  label 41: 9\n",
      "  label 42: 57\n",
      "  label 43: 6\n",
      "  label 44: 18\n",
      "  label 45: 9\n",
      "  label 46: 54\n",
      "  label 47: 242\n",
      "  label 48: 62\n",
      "  label 49: 68\n",
      "model is roberta-base lstm\n"
     ]
    },
    {
     "name": "stderr",
     "output_type": "stream",
     "text": [
      "Some weights of RobertaModel were not initialized from the model checkpoint at roberta-base and are newly initialized: ['pooler.dense.bias', 'pooler.dense.weight']\n",
      "You should probably TRAIN this model on a down-stream task to be able to use it for predictions and inference.\n"
     ]
    },
    {
     "name": "stdout",
     "output_type": "stream",
     "text": [
      "Epoch 1/20\n"
     ]
    },
    {
     "name": "stderr",
     "output_type": "stream",
     "text": [
      "100%|██████████| 328/328 [00:29<00:00, 11.00it/s]\n"
     ]
    },
    {
     "name": "stdout",
     "output_type": "stream",
     "text": [
      "{'val_loss': 2.178909116401905, 'val_accuracy': 0.5202444614209321, 'precision': 0.28888290967832464, 'recall': 0.5202444614209321, 'f1-score': 0.37119029212640847, 'macro_f1-score': 0.03551061045684701, 'balanced_accuracy': 0.05284048560135517, 'mcc': 0.2575155829686199, 'train_loss': 2.4063296030934263}\n",
      "Epoch 2/20\n"
     ]
    },
    {
     "name": "stderr",
     "output_type": "stream",
     "text": [
      "100%|██████████| 328/328 [00:29<00:00, 10.99it/s]\n"
     ]
    },
    {
     "name": "stdout",
     "output_type": "stream",
     "text": [
      "{'val_loss': 2.2911508330484716, 'val_accuracy': 0.48357524828113063, 'precision': 0.2443774278479143, 'recall': 0.48357524828113063, 'f1-score': 0.32466357985632877, 'macro_f1-score': 0.023331850313905774, 'balanced_accuracy': 0.03423066064370412, 'mcc': 0.1355444781026562, 'train_loss': 2.204855602870627}\n",
      "Epoch 3/20\n"
     ]
    },
    {
     "name": "stderr",
     "output_type": "stream",
     "text": [
      "100%|██████████| 328/328 [00:29<00:00, 10.98it/s]\n"
     ]
    },
    {
     "name": "stdout",
     "output_type": "stream",
     "text": [
      "{'val_loss': 2.106088053162505, 'val_accuracy': 0.5233002291825821, 'precision': 0.3037054883238531, 'recall': 0.5233002291825821, 'f1-score': 0.3830008535625431, 'macro_f1-score': 0.03754744333104781, 'balanced_accuracy': 0.055547430830039525, 'mcc': 0.27426295893935576, 'train_loss': 2.190063099308712}\n",
      "Epoch 4/20\n"
     ]
    },
    {
     "name": "stderr",
     "output_type": "stream",
     "text": [
      "100%|██████████| 328/328 [00:29<00:00, 10.95it/s]\n"
     ]
    },
    {
     "name": "stdout",
     "output_type": "stream",
     "text": [
      "{'val_loss': 2.2708805457847876, 'val_accuracy': 0.5026737967914439, 'precision': 0.2596354049641247, 'recall': 0.5026737967914439, 'f1-score': 0.3417638010635629, 'macro_f1-score': 0.025231634182908545, 'balanced_accuracy': 0.0343008658008658, 'mcc': 0.1954930929990851, 'train_loss': 2.2119301830123113}\n",
      "Epoch 5/20\n"
     ]
    },
    {
     "name": "stderr",
     "output_type": "stream",
     "text": [
      "100%|██████████| 328/328 [00:29<00:00, 11.00it/s]\n"
     ]
    },
    {
     "name": "stdout",
     "output_type": "stream",
     "text": [
      "{'val_loss': 2.305301356606367, 'val_accuracy': 0.5057295645530939, 'precision': 0.27435896753379846, 'recall': 0.5057295645530939, 'f1-score': 0.3554676373622134, 'macro_f1-score': 0.028092843664272237, 'balanced_accuracy': 0.038624458874458874, 'mcc': 0.21241657406053516, 'train_loss': 2.1791773320334715}\n",
      "Epoch 6/20\n"
     ]
    },
    {
     "name": "stderr",
     "output_type": "stream",
     "text": [
      "100%|██████████| 328/328 [00:29<00:00, 11.02it/s]\n"
     ]
    },
    {
     "name": "stdout",
     "output_type": "stream",
     "text": [
      "{'val_loss': 2.359560696817026, 'val_accuracy': 0.47058823529411764, 'precision': 0.22145328719723184, 'recall': 0.47058823529411764, 'f1-score': 0.3011764705882353, 'macro_f1-score': 0.0128, 'balanced_accuracy': 0.02, 'mcc': 0.0, 'train_loss': 2.3547131366482597}\n",
      "Early stopping.\n",
      "\n",
      " === roberta-base + lstm + none Final 5-fold Cross-Validation Results ===\n",
      "val_loss: 1.8903\n",
      "val_accuracy: 0.5744\n",
      "precision: 0.4827\n",
      "recall: 0.5744\n",
      "f1-score: 0.5088\n",
      "macro_f1-score: 0.1829\n",
      "balanced_accuracy: 0.1985\n",
      "mcc: 0.4015\n",
      "train_loss: 1.3440\n",
      "total_seconds: 2203.0000\n",
      "total_time: 0 hrs 36 mins 43 secs\n",
      "▶ Running: roberta-base + bilstm + none\n",
      "tokenizer is roberta-base\n",
      "Using device: cuda\n",
      "CUDA Available: True\n",
      "CUDA Device: NVIDIA GeForce RTX 5070 Ti\n",
      "Current GPU Memory Allocated: 0.02 GB\n",
      "Current GPU Memory Cached: 3.92 GB\n",
      "\n",
      "[Fold 1]\n",
      "Label distribution after resampling:\n",
      "  label 0: 2465\n",
      "  label 1: 22\n",
      "  label 2: 64\n",
      "  label 3: 24\n",
      "  label 4: 190\n",
      "  label 5: 112\n",
      "  label 6: 93\n",
      "  label 7: 30\n",
      "  label 8: 68\n",
      "  label 9: 30\n",
      "  label 10: 67\n",
      "  label 11: 169\n",
      "  label 12: 190\n",
      "  label 13: 28\n",
      "  label 14: 23\n",
      "  label 15: 25\n",
      "  label 16: 19\n",
      "  label 17: 181\n",
      "  label 18: 92\n",
      "  label 19: 44\n",
      "  label 20: 14\n",
      "  label 21: 35\n",
      "  label 22: 76\n",
      "  label 23: 157\n",
      "  label 24: 13\n",
      "  label 25: 44\n",
      "  label 26: 84\n",
      "  label 27: 47\n",
      "  label 28: 11\n",
      "  label 29: 13\n",
      "  label 30: 11\n",
      "  label 31: 76\n",
      "  label 32: 36\n",
      "  label 33: 32\n",
      "  label 34: 29\n",
      "  label 35: 11\n",
      "  label 36: 22\n",
      "  label 37: 16\n",
      "  label 38: 6\n",
      "  label 39: 32\n",
      "  label 40: 10\n",
      "  label 41: 9\n",
      "  label 42: 57\n",
      "  label 43: 6\n",
      "  label 44: 19\n",
      "  label 45: 8\n",
      "  label 46: 55\n",
      "  label 47: 241\n",
      "  label 48: 62\n",
      "  label 49: 68\n",
      "model is roberta-base bilstm\n"
     ]
    },
    {
     "name": "stderr",
     "output_type": "stream",
     "text": [
      "Some weights of RobertaModel were not initialized from the model checkpoint at roberta-base and are newly initialized: ['pooler.dense.bias', 'pooler.dense.weight']\n",
      "You should probably TRAIN this model on a down-stream task to be able to use it for predictions and inference.\n"
     ]
    },
    {
     "name": "stdout",
     "output_type": "stream",
     "text": [
      "Epoch 1/20\n"
     ]
    },
    {
     "name": "stderr",
     "output_type": "stream",
     "text": [
      "100%|██████████| 328/328 [00:31<00:00, 10.46it/s]\n"
     ]
    },
    {
     "name": "stdout",
     "output_type": "stream",
     "text": [
      "{'val_loss': 2.082905755537312, 'val_accuracy': 0.5312977099236641, 'precision': 0.34227484090292665, 'recall': 0.5312977099236641, 'f1-score': 0.41275317587084487, 'macro_f1-score': 0.04398648962484982, 'balanced_accuracy': 0.06901004852565702, 'mcc': 0.3187169409175804, 'train_loss': 2.3906161854179895}\n",
      "Epoch 2/20\n"
     ]
    },
    {
     "name": "stderr",
     "output_type": "stream",
     "text": [
      "100%|██████████| 328/328 [00:30<00:00, 10.60it/s]\n"
     ]
    },
    {
     "name": "stdout",
     "output_type": "stream",
     "text": [
      "{'val_loss': 1.8350810165085443, 'val_accuracy': 0.5748091603053435, 'precision': 0.40171904430857586, 'recall': 0.5748091603053435, 'f1-score': 0.46302381919604524, 'macro_f1-score': 0.08039044890915861, 'balanced_accuracy': 0.09326813678934051, 'mcc': 0.37756236405103377, 'train_loss': 1.9827704983876973}\n",
      "Epoch 3/20\n"
     ]
    },
    {
     "name": "stderr",
     "output_type": "stream",
     "text": [
      "100%|██████████| 328/328 [00:30<00:00, 10.61it/s]\n"
     ]
    },
    {
     "name": "stdout",
     "output_type": "stream",
     "text": [
      "{'val_loss': 1.7657022505271724, 'val_accuracy': 0.5725190839694656, 'precision': 0.43300018192319717, 'recall': 0.5725190839694656, 'f1-score': 0.4807163533675368, 'macro_f1-score': 0.08925558012050906, 'balanced_accuracy': 0.1125171960267953, 'mcc': 0.3985896550133168, 'train_loss': 1.724798293670685}\n",
      "Epoch 4/20\n"
     ]
    },
    {
     "name": "stderr",
     "output_type": "stream",
     "text": [
      "100%|██████████| 328/328 [00:31<00:00, 10.52it/s]\n"
     ]
    },
    {
     "name": "stdout",
     "output_type": "stream",
     "text": [
      "{'val_loss': 1.7514828468968229, 'val_accuracy': 0.5503816793893129, 'precision': 0.49847816992086336, 'recall': 0.5503816793893129, 'f1-score': 0.4990353905398705, 'macro_f1-score': 0.11152896602274694, 'balanced_accuracy': 0.13680607039507056, 'mcc': 0.39960451067206015, 'train_loss': 1.5429316264827078}\n",
      "Epoch 5/20\n"
     ]
    },
    {
     "name": "stderr",
     "output_type": "stream",
     "text": [
      "100%|██████████| 328/328 [00:31<00:00, 10.53it/s]\n"
     ]
    },
    {
     "name": "stdout",
     "output_type": "stream",
     "text": [
      "{'val_loss': 1.6099100992446993, 'val_accuracy': 0.5969465648854961, 'precision': 0.5458772439105026, 'recall': 0.5969465648854961, 'f1-score': 0.55053865019465, 'macro_f1-score': 0.1727061351655714, 'balanced_accuracy': 0.18068787332047742, 'mcc': 0.44658218974624925, 'train_loss': 1.3926758114702817}\n",
      "Epoch 6/20\n"
     ]
    },
    {
     "name": "stderr",
     "output_type": "stream",
     "text": [
      "100%|██████████| 328/328 [00:31<00:00, 10.55it/s]\n"
     ]
    },
    {
     "name": "stdout",
     "output_type": "stream",
     "text": [
      "{'val_loss': 1.6766445505909804, 'val_accuracy': 0.6160305343511451, 'precision': 0.5422754531337997, 'recall': 0.6160305343511451, 'f1-score': 0.5602513418136563, 'macro_f1-score': 0.1956538448897731, 'balanced_accuracy': 0.18856028104328013, 'mcc': 0.4616847074441678, 'train_loss': 1.2311352599503063}\n",
      "Epoch 7/20\n"
     ]
    },
    {
     "name": "stderr",
     "output_type": "stream",
     "text": [
      "100%|██████████| 328/328 [00:30<00:00, 10.62it/s]\n"
     ]
    },
    {
     "name": "stdout",
     "output_type": "stream",
     "text": [
      "{'val_loss': 1.624267404399267, 'val_accuracy': 0.6129770992366412, 'precision': 0.5632686462343034, 'recall': 0.6129770992366412, 'f1-score': 0.5700240816617984, 'macro_f1-score': 0.221092233380467, 'balanced_accuracy': 0.2299522599075582, 'mcc': 0.4752761990673963, 'train_loss': 1.100667135608269}\n",
      "Epoch 8/20\n"
     ]
    },
    {
     "name": "stderr",
     "output_type": "stream",
     "text": [
      "100%|██████████| 328/328 [00:31<00:00, 10.53it/s]\n"
     ]
    },
    {
     "name": "stdout",
     "output_type": "stream",
     "text": [
      "{'val_loss': 1.5629077884482174, 'val_accuracy': 0.6343511450381679, 'precision': 0.5814061763766938, 'recall': 0.6343511450381679, 'f1-score': 0.5974442588475108, 'macro_f1-score': 0.25645433326485956, 'balanced_accuracy': 0.26425272050846904, 'mcc': 0.5039730054593671, 'train_loss': 0.9621274276840978}\n",
      "Epoch 9/20\n"
     ]
    },
    {
     "name": "stderr",
     "output_type": "stream",
     "text": [
      "100%|██████████| 328/328 [00:31<00:00, 10.53it/s]\n"
     ]
    },
    {
     "name": "stdout",
     "output_type": "stream",
     "text": [
      "{'val_loss': 1.605598748820584, 'val_accuracy': 0.6312977099236641, 'precision': 0.5744099667410048, 'recall': 0.6312977099236641, 'f1-score': 0.5970472720813657, 'macro_f1-score': 0.2621927189073078, 'balanced_accuracy': 0.26583728569029286, 'mcc': 0.49965812862581327, 'train_loss': 0.840990493255781}\n",
      "Epoch 10/20\n"
     ]
    },
    {
     "name": "stderr",
     "output_type": "stream",
     "text": [
      "100%|██████████| 328/328 [00:30<00:00, 10.61it/s]\n"
     ]
    },
    {
     "name": "stdout",
     "output_type": "stream",
     "text": [
      "{'val_loss': 1.711356269331967, 'val_accuracy': 0.6290076335877862, 'precision': 0.5877777064210424, 'recall': 0.6290076335877862, 'f1-score': 0.596242499752039, 'macro_f1-score': 0.27685405939358454, 'balanced_accuracy': 0.26883737380291195, 'mcc': 0.4928220960572413, 'train_loss': 0.7538237468589369}\n",
      "Epoch 11/20\n"
     ]
    },
    {
     "name": "stderr",
     "output_type": "stream",
     "text": [
      "100%|██████████| 328/328 [00:31<00:00, 10.57it/s]\n"
     ]
    },
    {
     "name": "stdout",
     "output_type": "stream",
     "text": [
      "{'val_loss': 1.673498826055992, 'val_accuracy': 0.6175572519083969, 'precision': 0.6335799486852011, 'recall': 0.6175572519083969, 'f1-score': 0.6125022141718561, 'macro_f1-score': 0.2987849869765517, 'balanced_accuracy': 0.31503956514145287, 'mcc': 0.502475346649064, 'train_loss': 0.7073886451970149}\n",
      "Epoch 12/20\n"
     ]
    },
    {
     "name": "stderr",
     "output_type": "stream",
     "text": [
      "100%|██████████| 328/328 [00:31<00:00, 10.54it/s]\n"
     ]
    },
    {
     "name": "stdout",
     "output_type": "stream",
     "text": [
      "{'val_loss': 1.6869040433226563, 'val_accuracy': 0.6198473282442748, 'precision': 0.6019054343881743, 'recall': 0.6198473282442748, 'f1-score': 0.604676522483896, 'macro_f1-score': 0.282497849972429, 'balanced_accuracy': 0.2907206477584772, 'mcc': 0.5007797731696195, 'train_loss': 0.6111705878681344}\n",
      "Epoch 13/20\n"
     ]
    },
    {
     "name": "stderr",
     "output_type": "stream",
     "text": [
      "100%|██████████| 328/328 [00:30<00:00, 10.60it/s]\n"
     ]
    },
    {
     "name": "stdout",
     "output_type": "stream",
     "text": [
      "{'val_loss': 1.7310691581266682, 'val_accuracy': 0.6221374045801527, 'precision': 0.5919824703731361, 'recall': 0.6221374045801527, 'f1-score': 0.5960573656747082, 'macro_f1-score': 0.283333024005772, 'balanced_accuracy': 0.2746289282860901, 'mcc': 0.49151537385730193, 'train_loss': 0.511456707708265}\n",
      "Epoch 14/20\n"
     ]
    },
    {
     "name": "stderr",
     "output_type": "stream",
     "text": [
      "100%|██████████| 328/328 [00:30<00:00, 10.59it/s]\n"
     ]
    },
    {
     "name": "stdout",
     "output_type": "stream",
     "text": [
      "{'val_loss': 1.7460506402137803, 'val_accuracy': 0.6290076335877862, 'precision': 0.6130640247986004, 'recall': 0.6290076335877862, 'f1-score': 0.6113846740944725, 'macro_f1-score': 0.30535288229121826, 'balanced_accuracy': 0.30173402207594757, 'mcc': 0.5037423849115185, 'train_loss': 0.4872444636620036}\n",
      "Epoch 15/20\n"
     ]
    },
    {
     "name": "stderr",
     "output_type": "stream",
     "text": [
      "100%|██████████| 328/328 [00:31<00:00, 10.39it/s]\n"
     ]
    },
    {
     "name": "stdout",
     "output_type": "stream",
     "text": [
      "{'val_loss': 1.7340256230133335, 'val_accuracy': 0.6137404580152672, 'precision': 0.6215187010679782, 'recall': 0.6137404580152672, 'f1-score': 0.6083382694454945, 'macro_f1-score': 0.3143322365519826, 'balanced_accuracy': 0.31674618425958856, 'mcc': 0.4983827035247792, 'train_loss': 0.479083341705363}\n",
      "Epoch 16/20\n"
     ]
    },
    {
     "name": "stderr",
     "output_type": "stream",
     "text": [
      "100%|██████████| 328/328 [00:30<00:00, 10.61it/s]\n"
     ]
    },
    {
     "name": "stdout",
     "output_type": "stream",
     "text": [
      "{'val_loss': 1.8257064688496474, 'val_accuracy': 0.6335877862595419, 'precision': 0.6075181546720372, 'recall': 0.6335877862595419, 'f1-score': 0.6079230913789834, 'macro_f1-score': 0.29659283077137366, 'balanced_accuracy': 0.30232946092723884, 'mcc': 0.5061453483874229, 'train_loss': 0.4194718709488104}\n",
      "Epoch 17/20\n"
     ]
    },
    {
     "name": "stderr",
     "output_type": "stream",
     "text": [
      "100%|██████████| 328/328 [00:31<00:00, 10.54it/s]\n"
     ]
    },
    {
     "name": "stdout",
     "output_type": "stream",
     "text": [
      "{'val_loss': 1.8559689052948138, 'val_accuracy': 0.6312977099236641, 'precision': 0.6091306870834946, 'recall': 0.6312977099236641, 'f1-score': 0.6123777212532678, 'macro_f1-score': 0.3227968344517563, 'balanced_accuracy': 0.3105410535174837, 'mcc': 0.5026236339624667, 'train_loss': 0.3590412271413498}\n",
      "Epoch 18/20\n"
     ]
    },
    {
     "name": "stderr",
     "output_type": "stream",
     "text": [
      "100%|██████████| 328/328 [00:31<00:00, 10.58it/s]\n"
     ]
    },
    {
     "name": "stdout",
     "output_type": "stream",
     "text": [
      "{'val_loss': 2.089794593613322, 'val_accuracy': 0.6297709923664122, 'precision': 0.6138714315477629, 'recall': 0.6297709923664122, 'f1-score': 0.600929947544885, 'macro_f1-score': 0.2846931071090221, 'balanced_accuracy': 0.2732378036521797, 'mcc': 0.49240019952776704, 'train_loss': 0.30666210631578705}\n",
      "Epoch 19/20\n"
     ]
    },
    {
     "name": "stderr",
     "output_type": "stream",
     "text": [
      "100%|██████████| 328/328 [00:31<00:00, 10.49it/s]\n"
     ]
    },
    {
     "name": "stdout",
     "output_type": "stream",
     "text": [
      "{'val_loss': 2.0923722947879537, 'val_accuracy': 0.6229007633587786, 'precision': 0.5930841409214151, 'recall': 0.6229007633587786, 'f1-score': 0.6003898303313832, 'macro_f1-score': 0.2913945740449919, 'balanced_accuracy': 0.2881441569542009, 'mcc': 0.48989982616590017, 'train_loss': 0.3613684196933741}\n",
      "Epoch 20/20\n"
     ]
    },
    {
     "name": "stderr",
     "output_type": "stream",
     "text": [
      "100%|██████████| 328/328 [00:30<00:00, 10.59it/s]\n"
     ]
    },
    {
     "name": "stdout",
     "output_type": "stream",
     "text": [
      "{'val_loss': 2.052457977358888, 'val_accuracy': 0.6274809160305344, 'precision': 0.614726082716157, 'recall': 0.6274809160305344, 'f1-score': 0.6111341003434332, 'macro_f1-score': 0.31326634557344796, 'balanced_accuracy': 0.3068377252261804, 'mcc': 0.4995193383365316, 'train_loss': 0.27707226459993184}\n",
      "Early stopping.\n",
      "\n",
      "[Fold 2]\n",
      "Label distribution after resampling:\n",
      "  label 0: 2465\n",
      "  label 1: 22\n",
      "  label 2: 64\n",
      "  label 3: 24\n",
      "  label 4: 190\n",
      "  label 5: 113\n",
      "  label 6: 93\n",
      "  label 7: 31\n",
      "  label 8: 68\n",
      "  label 9: 29\n",
      "  label 10: 67\n",
      "  label 11: 169\n",
      "  label 12: 190\n",
      "  label 13: 29\n",
      "  label 14: 22\n",
      "  label 15: 25\n",
      "  label 16: 19\n",
      "  label 17: 181\n",
      "  label 18: 92\n",
      "  label 19: 44\n",
      "  label 20: 13\n",
      "  label 21: 35\n",
      "  label 22: 76\n",
      "  label 23: 158\n",
      "  label 24: 13\n",
      "  label 25: 44\n",
      "  label 26: 84\n",
      "  label 27: 47\n",
      "  label 28: 12\n",
      "  label 29: 12\n",
      "  label 30: 12\n",
      "  label 31: 75\n",
      "  label 32: 36\n",
      "  label 33: 31\n",
      "  label 34: 29\n",
      "  label 35: 12\n",
      "  label 36: 21\n",
      "  label 37: 16\n",
      "  label 38: 6\n",
      "  label 39: 33\n",
      "  label 40: 11\n",
      "  label 41: 8\n",
      "  label 42: 56\n",
      "  label 43: 6\n",
      "  label 44: 19\n",
      "  label 45: 9\n",
      "  label 46: 55\n",
      "  label 47: 241\n",
      "  label 48: 62\n",
      "  label 49: 68\n",
      "model is roberta-base bilstm\n"
     ]
    },
    {
     "name": "stderr",
     "output_type": "stream",
     "text": [
      "Some weights of RobertaModel were not initialized from the model checkpoint at roberta-base and are newly initialized: ['pooler.dense.bias', 'pooler.dense.weight']\n",
      "You should probably TRAIN this model on a down-stream task to be able to use it for predictions and inference.\n"
     ]
    },
    {
     "name": "stdout",
     "output_type": "stream",
     "text": [
      "Epoch 1/20\n"
     ]
    },
    {
     "name": "stderr",
     "output_type": "stream",
     "text": [
      "100%|██████████| 328/328 [00:30<00:00, 10.61it/s]\n"
     ]
    },
    {
     "name": "stdout",
     "output_type": "stream",
     "text": [
      "{'val_loss': 2.0647785118440303, 'val_accuracy': 0.5393430099312452, 'precision': 0.3503680588528387, 'recall': 0.5393430099312452, 'f1-score': 0.4066719119741478, 'macro_f1-score': 0.04619137642874985, 'balanced_accuracy': 0.07082044117343159, 'mcc': 0.31526629848977394, 'train_loss': 2.392051626996296}\n",
      "Epoch 2/20\n"
     ]
    },
    {
     "name": "stderr",
     "output_type": "stream",
     "text": [
      "100%|██████████| 328/328 [00:31<00:00, 10.50it/s]\n"
     ]
    },
    {
     "name": "stdout",
     "output_type": "stream",
     "text": [
      "{'val_loss': 1.927968888747983, 'val_accuracy': 0.5569136745607334, 'precision': 0.364227449109848, 'recall': 0.5569136745607334, 'f1-score': 0.4356395974367709, 'macro_f1-score': 0.059177994227994225, 'balanced_accuracy': 0.07696406725313784, 'mcc': 0.3447639302076693, 'train_loss': 1.9964097265790148}\n",
      "Epoch 3/20\n"
     ]
    },
    {
     "name": "stderr",
     "output_type": "stream",
     "text": [
      "100%|██████████| 328/328 [00:30<00:00, 10.61it/s]\n"
     ]
    },
    {
     "name": "stdout",
     "output_type": "stream",
     "text": [
      "{'val_loss': 1.7827625245582768, 'val_accuracy': 0.5645530939648586, 'precision': 0.4025479190275613, 'recall': 0.5645530939648586, 'f1-score': 0.4677394530328944, 'macro_f1-score': 0.07815597824241691, 'balanced_accuracy': 0.09616876642322687, 'mcc': 0.3741016333677982, 'train_loss': 1.7962530129929868}\n",
      "Epoch 4/20\n"
     ]
    },
    {
     "name": "stderr",
     "output_type": "stream",
     "text": [
      "100%|██████████| 328/328 [00:30<00:00, 10.61it/s]\n"
     ]
    },
    {
     "name": "stdout",
     "output_type": "stream",
     "text": [
      "{'val_loss': 1.727883871735596, 'val_accuracy': 0.5721925133689839, 'precision': 0.4707440217020875, 'recall': 0.5721925133689839, 'f1-score': 0.5058621385244145, 'macro_f1-score': 0.10679331672543073, 'balanced_accuracy': 0.12118316273231919, 'mcc': 0.4096372659937907, 'train_loss': 1.6249551871200887}\n",
      "Epoch 5/20\n"
     ]
    },
    {
     "name": "stderr",
     "output_type": "stream",
     "text": [
      "100%|██████████| 328/328 [00:31<00:00, 10.53it/s]\n"
     ]
    },
    {
     "name": "stdout",
     "output_type": "stream",
     "text": [
      "{'val_loss': 1.6729745857599305, 'val_accuracy': 0.5951107715813598, 'precision': 0.46964856043051495, 'recall': 0.5951107715813598, 'f1-score': 0.5143964928437307, 'macro_f1-score': 0.1351083641586355, 'balanced_accuracy': 0.1540603735827141, 'mcc': 0.4303728555794213, 'train_loss': 1.474163680178363}\n",
      "Epoch 6/20\n"
     ]
    },
    {
     "name": "stderr",
     "output_type": "stream",
     "text": [
      "100%|██████████| 328/328 [00:31<00:00, 10.53it/s]\n"
     ]
    },
    {
     "name": "stdout",
     "output_type": "stream",
     "text": [
      "{'val_loss': 1.6697779210602366, 'val_accuracy': 0.5515660809778457, 'precision': 0.4841551862771176, 'recall': 0.5515660809778457, 'f1-score': 0.5096095256294738, 'macro_f1-score': 0.14557132208536389, 'balanced_accuracy': 0.17294593231749134, 'mcc': 0.40420790727153644, 'train_loss': 1.3279588406496659}\n",
      "Epoch 7/20\n"
     ]
    },
    {
     "name": "stderr",
     "output_type": "stream",
     "text": [
      "100%|██████████| 328/328 [00:31<00:00, 10.55it/s]\n"
     ]
    },
    {
     "name": "stdout",
     "output_type": "stream",
     "text": [
      "{'val_loss': 1.6852036590983228, 'val_accuracy': 0.5469824293353706, 'precision': 0.521463795572315, 'recall': 0.5469824293353706, 'f1-score': 0.5244041642447302, 'macro_f1-score': 0.16329715714899218, 'balanced_accuracy': 0.1968331186763916, 'mcc': 0.41924055971025476, 'train_loss': 1.2078450126346292}\n",
      "Epoch 8/20\n"
     ]
    },
    {
     "name": "stderr",
     "output_type": "stream",
     "text": [
      "100%|██████████| 328/328 [00:30<00:00, 10.59it/s]\n"
     ]
    },
    {
     "name": "stdout",
     "output_type": "stream",
     "text": [
      "{'val_loss': 1.6846650446333535, 'val_accuracy': 0.5645530939648586, 'precision': 0.5609381505673156, 'recall': 0.5645530939648586, 'f1-score': 0.554377320835989, 'macro_f1-score': 0.20206710866126762, 'balanced_accuracy': 0.22578499797467452, 'mcc': 0.44694120316458585, 'train_loss': 1.092686027288437}\n",
      "Epoch 9/20\n"
     ]
    },
    {
     "name": "stderr",
     "output_type": "stream",
     "text": [
      "100%|██████████| 328/328 [00:31<00:00, 10.58it/s]\n"
     ]
    },
    {
     "name": "stdout",
     "output_type": "stream",
     "text": [
      "{'val_loss': 1.594387462589799, 'val_accuracy': 0.6264323911382735, 'precision': 0.5547111555137612, 'recall': 0.6264323911382735, 'f1-score': 0.5757644656859946, 'macro_f1-score': 0.20665775247904467, 'balanced_accuracy': 0.21809062597422013, 'mcc': 0.4881808410059319, 'train_loss': 0.9803940161562911}\n",
      "Epoch 10/20\n"
     ]
    },
    {
     "name": "stderr",
     "output_type": "stream",
     "text": [
      "100%|██████████| 328/328 [00:31<00:00, 10.53it/s]\n"
     ]
    },
    {
     "name": "stdout",
     "output_type": "stream",
     "text": [
      "{'val_loss': 1.5853752290330283, 'val_accuracy': 0.6111535523300229, 'precision': 0.5836041578147513, 'recall': 0.6111535523300229, 'f1-score': 0.5922723152524182, 'macro_f1-score': 0.24543855035672593, 'balanced_accuracy': 0.26565361505516244, 'mcc': 0.4926316819427018, 'train_loss': 0.8799824072729524}\n",
      "Epoch 11/20\n"
     ]
    },
    {
     "name": "stderr",
     "output_type": "stream",
     "text": [
      "100%|██████████| 328/328 [00:30<00:00, 10.59it/s]\n"
     ]
    },
    {
     "name": "stdout",
     "output_type": "stream",
     "text": [
      "{'val_loss': 1.6349042334207675, 'val_accuracy': 0.6042780748663101, 'precision': 0.5982496565744477, 'recall': 0.6042780748663101, 'f1-score': 0.5909765855836848, 'macro_f1-score': 0.26298681290008263, 'balanced_accuracy': 0.27332587698567035, 'mcc': 0.482474009814872, 'train_loss': 0.7752903803910424}\n",
      "Epoch 12/20\n"
     ]
    },
    {
     "name": "stderr",
     "output_type": "stream",
     "text": [
      "100%|██████████| 328/328 [00:31<00:00, 10.55it/s]\n"
     ]
    },
    {
     "name": "stdout",
     "output_type": "stream",
     "text": [
      "{'val_loss': 1.64273769353948, 'val_accuracy': 0.6264323911382735, 'precision': 0.6069483038571158, 'recall': 0.6264323911382735, 'f1-score': 0.6061792154293046, 'macro_f1-score': 0.28485068482206194, 'balanced_accuracy': 0.2965093484549621, 'mcc': 0.507694291887188, 'train_loss': 0.6982395777751397}\n",
      "Epoch 13/20\n"
     ]
    },
    {
     "name": "stderr",
     "output_type": "stream",
     "text": [
      "100%|██████████| 328/328 [00:31<00:00, 10.53it/s]\n"
     ]
    },
    {
     "name": "stdout",
     "output_type": "stream",
     "text": [
      "{'val_loss': 1.8020750491357431, 'val_accuracy': 0.6019862490450726, 'precision': 0.6001182278289313, 'recall': 0.6019862490450726, 'f1-score': 0.5907912493281489, 'macro_f1-score': 0.270723583724524, 'balanced_accuracy': 0.29441786331929326, 'mcc': 0.4866306808473523, 'train_loss': 0.6080576213213001}\n",
      "Epoch 14/20\n"
     ]
    },
    {
     "name": "stderr",
     "output_type": "stream",
     "text": [
      "100%|██████████| 328/328 [00:30<00:00, 10.61it/s]\n"
     ]
    },
    {
     "name": "stdout",
     "output_type": "stream",
     "text": [
      "{'val_loss': 1.7975764107413408, 'val_accuracy': 0.6165011459129106, 'precision': 0.6014334523232977, 'recall': 0.6165011459129106, 'f1-score': 0.5957342200591524, 'macro_f1-score': 0.26911676646309224, 'balanced_accuracy': 0.27294409423738025, 'mcc': 0.48785843572271587, 'train_loss': 0.5631367703104709}\n",
      "Epoch 15/20\n"
     ]
    },
    {
     "name": "stderr",
     "output_type": "stream",
     "text": [
      "100%|██████████| 328/328 [00:30<00:00, 10.61it/s]\n"
     ]
    },
    {
     "name": "stdout",
     "output_type": "stream",
     "text": [
      "{'val_loss': 1.752669047291686, 'val_accuracy': 0.5905271199388846, 'precision': 0.6046810264042599, 'recall': 0.5905271199388846, 'f1-score': 0.5874638475734631, 'macro_f1-score': 0.28278974865683226, 'balanced_accuracy': 0.30870720747436076, 'mcc': 0.48158344025371247, 'train_loss': 0.5163527633540514}\n",
      "Early stopping.\n",
      "\n",
      "[Fold 3]\n",
      "Label distribution after resampling:\n",
      "  label 0: 2466\n",
      "  label 1: 21\n",
      "  label 2: 64\n",
      "  label 3: 24\n",
      "  label 4: 191\n",
      "  label 5: 113\n",
      "  label 6: 92\n",
      "  label 7: 31\n",
      "  label 8: 68\n",
      "  label 9: 29\n",
      "  label 10: 68\n",
      "  label 11: 168\n",
      "  label 12: 190\n",
      "  label 13: 29\n",
      "  label 14: 22\n",
      "  label 15: 25\n",
      "  label 16: 19\n",
      "  label 17: 181\n",
      "  label 18: 92\n",
      "  label 19: 44\n",
      "  label 20: 13\n",
      "  label 21: 36\n",
      "  label 22: 76\n",
      "  label 23: 158\n",
      "  label 24: 12\n",
      "  label 25: 44\n",
      "  label 26: 84\n",
      "  label 27: 48\n",
      "  label 28: 11\n",
      "  label 29: 13\n",
      "  label 30: 11\n",
      "  label 31: 75\n",
      "  label 32: 36\n",
      "  label 33: 31\n",
      "  label 34: 30\n",
      "  label 35: 11\n",
      "  label 36: 21\n",
      "  label 37: 16\n",
      "  label 38: 5\n",
      "  label 39: 33\n",
      "  label 40: 11\n",
      "  label 41: 9\n",
      "  label 42: 57\n",
      "  label 43: 7\n",
      "  label 44: 18\n",
      "  label 45: 9\n",
      "  label 46: 54\n",
      "  label 47: 242\n",
      "  label 48: 61\n",
      "  label 49: 68\n",
      "model is roberta-base bilstm\n"
     ]
    },
    {
     "name": "stderr",
     "output_type": "stream",
     "text": [
      "Some weights of RobertaModel were not initialized from the model checkpoint at roberta-base and are newly initialized: ['pooler.dense.bias', 'pooler.dense.weight']\n",
      "You should probably TRAIN this model on a down-stream task to be able to use it for predictions and inference.\n"
     ]
    },
    {
     "name": "stdout",
     "output_type": "stream",
     "text": [
      "Epoch 1/20\n"
     ]
    },
    {
     "name": "stderr",
     "output_type": "stream",
     "text": [
      "100%|██████████| 328/328 [00:31<00:00, 10.45it/s]\n"
     ]
    },
    {
     "name": "stdout",
     "output_type": "stream",
     "text": [
      "{'val_loss': 2.2071106121307467, 'val_accuracy': 0.5194805194805194, 'precision': 0.28679760596678305, 'recall': 0.5194805194805194, 'f1-score': 0.36951072304791616, 'macro_f1-score': 0.036025431740602014, 'balanced_accuracy': 0.05120707070707071, 'mcc': 0.2508765766979226, 'train_loss': 2.4276674226289843}\n",
      "Epoch 2/20\n"
     ]
    },
    {
     "name": "stderr",
     "output_type": "stream",
     "text": [
      "100%|██████████| 328/328 [00:30<00:00, 10.61it/s]\n"
     ]
    },
    {
     "name": "stdout",
     "output_type": "stream",
     "text": [
      "{'val_loss': 2.0417401056464124, 'val_accuracy': 0.5255920550038197, 'precision': 0.3340764397233286, 'recall': 0.5255920550038197, 'f1-score': 0.4058522983323579, 'macro_f1-score': 0.04361538789123602, 'balanced_accuracy': 0.06482967977648829, 'mcc': 0.3021994679722824, 'train_loss': 2.118955898030502}\n",
      "Epoch 3/20\n"
     ]
    },
    {
     "name": "stderr",
     "output_type": "stream",
     "text": [
      "100%|██████████| 328/328 [00:31<00:00, 10.55it/s]\n"
     ]
    },
    {
     "name": "stdout",
     "output_type": "stream",
     "text": [
      "{'val_loss': 1.8510755932912595, 'val_accuracy': 0.5515660809778457, 'precision': 0.38618609343770943, 'recall': 0.5515660809778457, 'f1-score': 0.43750580375999293, 'macro_f1-score': 0.058447263780820845, 'balanced_accuracy': 0.08070477732724145, 'mcc': 0.34997060238351885, 'train_loss': 1.9184090215258482}\n",
      "Epoch 4/20\n"
     ]
    },
    {
     "name": "stderr",
     "output_type": "stream",
     "text": [
      "100%|██████████| 328/328 [00:31<00:00, 10.58it/s]\n"
     ]
    },
    {
     "name": "stdout",
     "output_type": "stream",
     "text": [
      "{'val_loss': 1.8271441844905294, 'val_accuracy': 0.5515660809778457, 'precision': 0.44318793773045917, 'recall': 0.5515660809778457, 'f1-score': 0.4754716964336866, 'macro_f1-score': 0.08142145567715005, 'balanced_accuracy': 0.10894242620318821, 'mcc': 0.3856335040198972, 'train_loss': 1.7379247950526273}\n",
      "Epoch 5/20\n"
     ]
    },
    {
     "name": "stderr",
     "output_type": "stream",
     "text": [
      "100%|██████████| 328/328 [00:31<00:00, 10.54it/s]\n"
     ]
    },
    {
     "name": "stdout",
     "output_type": "stream",
     "text": [
      "{'val_loss': 1.7096975129552003, 'val_accuracy': 0.5813598166539343, 'precision': 0.47458478757285644, 'recall': 0.5813598166539343, 'f1-score': 0.5093346618871457, 'macro_f1-score': 0.10804521116850317, 'balanced_accuracy': 0.13090937040357656, 'mcc': 0.4226475531204552, 'train_loss': 1.5715582994062727}\n",
      "Epoch 6/20\n"
     ]
    },
    {
     "name": "stderr",
     "output_type": "stream",
     "text": [
      "100%|██████████| 328/328 [00:31<00:00, 10.58it/s]\n"
     ]
    },
    {
     "name": "stdout",
     "output_type": "stream",
     "text": [
      "{'val_loss': 1.7427153939880975, 'val_accuracy': 0.5798319327731093, 'precision': 0.4634464880700428, 'recall': 0.5798319327731093, 'f1-score': 0.5091519621723405, 'macro_f1-score': 0.11517594817807833, 'balanced_accuracy': 0.1277920197755229, 'mcc': 0.41009308704346764, 'train_loss': 1.4482947298121163}\n",
      "Epoch 7/20\n"
     ]
    },
    {
     "name": "stderr",
     "output_type": "stream",
     "text": [
      "100%|██████████| 328/328 [00:30<00:00, 10.60it/s]\n"
     ]
    },
    {
     "name": "stdout",
     "output_type": "stream",
     "text": [
      "{'val_loss': 1.728455604576483, 'val_accuracy': 0.5637891520244461, 'precision': 0.5035522267086867, 'recall': 0.5637891520244461, 'f1-score': 0.5253225512903641, 'macro_f1-score': 0.12889395683451854, 'balanced_accuracy': 0.15270775536410022, 'mcc': 0.4229990061988, 'train_loss': 1.3132863687124194}\n",
      "Epoch 8/20\n"
     ]
    },
    {
     "name": "stderr",
     "output_type": "stream",
     "text": [
      "100%|██████████| 328/328 [00:31<00:00, 10.47it/s]\n"
     ]
    },
    {
     "name": "stdout",
     "output_type": "stream",
     "text": [
      "{'val_loss': 1.6404714740631057, 'val_accuracy': 0.5981665393430099, 'precision': 0.5263827795884841, 'recall': 0.5981665393430099, 'f1-score': 0.5555384490434544, 'macro_f1-score': 0.16170431718301106, 'balanced_accuracy': 0.175767269728756, 'mcc': 0.4581056388363854, 'train_loss': 1.2036734021654942}\n",
      "Epoch 9/20\n"
     ]
    },
    {
     "name": "stderr",
     "output_type": "stream",
     "text": [
      "100%|██████████| 328/328 [00:30<00:00, 10.62it/s]\n"
     ]
    },
    {
     "name": "stdout",
     "output_type": "stream",
     "text": [
      "{'val_loss': 1.7187221206542922, 'val_accuracy': 0.5859434682964094, 'precision': 0.5317013187942669, 'recall': 0.5859434682964094, 'f1-score': 0.5455838953754915, 'macro_f1-score': 0.1692823978774184, 'balanced_accuracy': 0.17707980131863332, 'mcc': 0.4421719487772643, 'train_loss': 1.0923739034773372}\n",
      "Epoch 10/20\n"
     ]
    },
    {
     "name": "stderr",
     "output_type": "stream",
     "text": [
      "100%|██████████| 328/328 [00:30<00:00, 10.61it/s]\n"
     ]
    },
    {
     "name": "stdout",
     "output_type": "stream",
     "text": [
      "{'val_loss': 1.7631847978365132, 'val_accuracy': 0.5423987776928954, 'precision': 0.5532614605541397, 'recall': 0.5423987776928954, 'f1-score': 0.5347044560386821, 'macro_f1-score': 0.19668024228960554, 'balanced_accuracy': 0.23664524573039802, 'mcc': 0.42830122544310223, 'train_loss': 0.9913377360690657}\n",
      "Epoch 11/20\n"
     ]
    },
    {
     "name": "stderr",
     "output_type": "stream",
     "text": [
      "100%|██████████| 328/328 [00:31<00:00, 10.54it/s]\n"
     ]
    },
    {
     "name": "stdout",
     "output_type": "stream",
     "text": [
      "{'val_loss': 1.707688298894138, 'val_accuracy': 0.6058059587471352, 'precision': 0.5647131436126261, 'recall': 0.6058059587471352, 'f1-score': 0.5802165586541034, 'macro_f1-score': 0.23594313910916465, 'balanced_accuracy': 0.25243333898677356, 'mcc': 0.4779931540275917, 'train_loss': 0.8953053457435312}\n",
      "Epoch 12/20\n"
     ]
    },
    {
     "name": "stderr",
     "output_type": "stream",
     "text": [
      "100%|██████████| 328/328 [00:31<00:00, 10.50it/s]\n"
     ]
    },
    {
     "name": "stdout",
     "output_type": "stream",
     "text": [
      "{'val_loss': 1.83844766038947, 'val_accuracy': 0.6096256684491979, 'precision': 0.5629004412372618, 'recall': 0.6096256684491979, 'f1-score': 0.5759806106891181, 'macro_f1-score': 0.22255517174661119, 'balanced_accuracy': 0.22745916272703973, 'mcc': 0.4711917744437988, 'train_loss': 0.7852505955209093}\n",
      "Epoch 13/20\n"
     ]
    },
    {
     "name": "stderr",
     "output_type": "stream",
     "text": [
      "100%|██████████| 328/328 [00:31<00:00, 10.55it/s]\n"
     ]
    },
    {
     "name": "stdout",
     "output_type": "stream",
     "text": [
      "{'val_loss': 1.7447171120381937, 'val_accuracy': 0.5912910618792971, 'precision': 0.5905853744377667, 'recall': 0.5912910618792971, 'f1-score': 0.5813850514454768, 'macro_f1-score': 0.25520508045001356, 'balanced_accuracy': 0.2848520225657807, 'mcc': 0.48010796760333463, 'train_loss': 0.7273911014880713}\n",
      "Epoch 14/20\n"
     ]
    },
    {
     "name": "stderr",
     "output_type": "stream",
     "text": [
      "100%|██████████| 328/328 [00:30<00:00, 10.59it/s]\n"
     ]
    },
    {
     "name": "stdout",
     "output_type": "stream",
     "text": [
      "{'val_loss': 1.799208773708925, 'val_accuracy': 0.5889992360580596, 'precision': 0.5797461495636247, 'recall': 0.5889992360580596, 'f1-score': 0.5769119662988743, 'macro_f1-score': 0.24971924865926717, 'balanced_accuracy': 0.27670446668936605, 'mcc': 0.469991354893016, 'train_loss': 0.6276043956281572}\n",
      "Epoch 15/20\n"
     ]
    },
    {
     "name": "stderr",
     "output_type": "stream",
     "text": [
      "100%|██████████| 328/328 [00:31<00:00, 10.54it/s]\n"
     ]
    },
    {
     "name": "stdout",
     "output_type": "stream",
     "text": [
      "{'val_loss': 1.857398657900531, 'val_accuracy': 0.6203208556149733, 'precision': 0.5937516092002116, 'recall': 0.6203208556149733, 'f1-score': 0.5968408921654189, 'macro_f1-score': 0.30179952645704633, 'balanced_accuracy': 0.3026328314283617, 'mcc': 0.4924017487661348, 'train_loss': 0.5659344820532857}\n",
      "Epoch 16/20\n"
     ]
    },
    {
     "name": "stderr",
     "output_type": "stream",
     "text": [
      "100%|██████████| 328/328 [00:31<00:00, 10.54it/s]\n"
     ]
    },
    {
     "name": "stdout",
     "output_type": "stream",
     "text": [
      "{'val_loss': 1.8273312184141903, 'val_accuracy': 0.6187929717341482, 'precision': 0.6080558648851392, 'recall': 0.6187929717341482, 'f1-score': 0.605340805812343, 'macro_f1-score': 0.30435516570072674, 'balanced_accuracy': 0.32629205223474267, 'mcc': 0.4992774169609229, 'train_loss': 0.5444938443237688}\n",
      "Epoch 17/20\n"
     ]
    },
    {
     "name": "stderr",
     "output_type": "stream",
     "text": [
      "100%|██████████| 328/328 [00:30<00:00, 10.60it/s]\n"
     ]
    },
    {
     "name": "stdout",
     "output_type": "stream",
     "text": [
      "{'val_loss': 1.7225959511791789, 'val_accuracy': 0.6249045072574484, 'precision': 0.6380826674438502, 'recall': 0.6249045072574484, 'f1-score': 0.6221972157753131, 'macro_f1-score': 0.3295088333711957, 'balanced_accuracy': 0.36844170562790196, 'mcc': 0.5173634602001784, 'train_loss': 0.4761262003491383}\n",
      "Epoch 18/20\n"
     ]
    },
    {
     "name": "stderr",
     "output_type": "stream",
     "text": [
      "100%|██████████| 328/328 [00:31<00:00, 10.56it/s]\n"
     ]
    },
    {
     "name": "stdout",
     "output_type": "stream",
     "text": [
      "{'val_loss': 1.8399681129106662, 'val_accuracy': 0.6042780748663101, 'precision': 0.6239328801618516, 'recall': 0.6042780748663101, 'f1-score': 0.6062041621579637, 'macro_f1-score': 0.31539828319015506, 'balanced_accuracy': 0.3438379454431722, 'mcc': 0.5016234945501933, 'train_loss': 0.44114079125929717}\n",
      "Epoch 19/20\n"
     ]
    },
    {
     "name": "stderr",
     "output_type": "stream",
     "text": [
      "100%|██████████| 328/328 [00:31<00:00, 10.54it/s]\n"
     ]
    },
    {
     "name": "stdout",
     "output_type": "stream",
     "text": [
      "{'val_loss': 1.8435165903917172, 'val_accuracy': 0.6462948815889993, 'precision': 0.634461784122681, 'recall': 0.6462948815889993, 'f1-score': 0.6284318823607207, 'macro_f1-score': 0.34035152908629857, 'balanced_accuracy': 0.3260393646274782, 'mcc': 0.522612476162941, 'train_loss': 0.3962259985302098}\n",
      "Epoch 20/20\n"
     ]
    },
    {
     "name": "stderr",
     "output_type": "stream",
     "text": [
      "100%|██████████| 328/328 [00:30<00:00, 10.62it/s]\n"
     ]
    },
    {
     "name": "stdout",
     "output_type": "stream",
     "text": [
      "{'val_loss': 1.8574734402865898, 'val_accuracy': 0.6264323911382735, 'precision': 0.6174556293206104, 'recall': 0.6264323911382735, 'f1-score': 0.6142293899520984, 'macro_f1-score': 0.3204587782251207, 'balanced_accuracy': 0.324867749071426, 'mcc': 0.5099782736026311, 'train_loss': 0.3785136246190565}\n",
      "\n",
      "[Fold 4]\n",
      "Label distribution after resampling:\n",
      "  label 0: 2466\n",
      "  label 1: 21\n",
      "  label 2: 64\n",
      "  label 3: 24\n",
      "  label 4: 191\n",
      "  label 5: 113\n",
      "  label 6: 93\n",
      "  label 7: 30\n",
      "  label 8: 68\n",
      "  label 9: 30\n",
      "  label 10: 67\n",
      "  label 11: 169\n",
      "  label 12: 189\n",
      "  label 13: 29\n",
      "  label 14: 22\n",
      "  label 15: 25\n",
      "  label 16: 19\n",
      "  label 17: 181\n",
      "  label 18: 92\n",
      "  label 19: 44\n",
      "  label 20: 14\n",
      "  label 21: 35\n",
      "  label 22: 76\n",
      "  label 23: 158\n",
      "  label 24: 13\n",
      "  label 25: 44\n",
      "  label 26: 84\n",
      "  label 27: 47\n",
      "  label 28: 11\n",
      "  label 29: 13\n",
      "  label 30: 11\n",
      "  label 31: 75\n",
      "  label 32: 36\n",
      "  label 33: 31\n",
      "  label 34: 30\n",
      "  label 35: 11\n",
      "  label 36: 22\n",
      "  label 37: 16\n",
      "  label 38: 5\n",
      "  label 39: 33\n",
      "  label 40: 10\n",
      "  label 41: 9\n",
      "  label 42: 57\n",
      "  label 43: 7\n",
      "  label 44: 18\n",
      "  label 45: 9\n",
      "  label 46: 54\n",
      "  label 47: 242\n",
      "  label 48: 61\n",
      "  label 49: 68\n",
      "model is roberta-base bilstm\n"
     ]
    },
    {
     "name": "stderr",
     "output_type": "stream",
     "text": [
      "Some weights of RobertaModel were not initialized from the model checkpoint at roberta-base and are newly initialized: ['pooler.dense.bias', 'pooler.dense.weight']\n",
      "You should probably TRAIN this model on a down-stream task to be able to use it for predictions and inference.\n"
     ]
    },
    {
     "name": "stdout",
     "output_type": "stream",
     "text": [
      "Epoch 1/20\n"
     ]
    },
    {
     "name": "stderr",
     "output_type": "stream",
     "text": [
      "100%|██████████| 328/328 [00:30<00:00, 10.59it/s]\n"
     ]
    },
    {
     "name": "stdout",
     "output_type": "stream",
     "text": [
      "{'val_loss': 2.1636011091674248, 'val_accuracy': 0.5210084033613446, 'precision': 0.28761818095999864, 'recall': 0.5210084033613446, 'f1-score': 0.37051442390163375, 'macro_f1-score': 0.036587062732069575, 'balanced_accuracy': 0.05317460317460317, 'mcc': 0.255763894264753, 'train_loss': 2.4000861125021444}\n",
      "Epoch 2/20\n"
     ]
    },
    {
     "name": "stderr",
     "output_type": "stream",
     "text": [
      "100%|██████████| 328/328 [00:31<00:00, 10.41it/s]\n"
     ]
    },
    {
     "name": "stdout",
     "output_type": "stream",
     "text": [
      "{'val_loss': 2.026988320234345, 'val_accuracy': 0.5401069518716578, 'precision': 0.3264295595350078, 'recall': 0.5401069518716578, 'f1-score': 0.40079062168598284, 'macro_f1-score': 0.04805217702426539, 'balanced_accuracy': 0.06055216296705658, 'mcc': 0.29954089087936075, 'train_loss': 2.096685305601213}\n",
      "Epoch 3/20\n"
     ]
    },
    {
     "name": "stderr",
     "output_type": "stream",
     "text": [
      "100%|██████████| 328/328 [00:30<00:00, 10.62it/s]\n"
     ]
    },
    {
     "name": "stdout",
     "output_type": "stream",
     "text": [
      "{'val_loss': 1.8925428085210847, 'val_accuracy': 0.5530939648586708, 'precision': 0.3755266473911749, 'recall': 0.5530939648586708, 'f1-score': 0.44153799068631294, 'macro_f1-score': 0.07054695749570203, 'balanced_accuracy': 0.08939078474716773, 'mcc': 0.34853742751750466, 'train_loss': 1.8957631651584694}\n",
      "Epoch 4/20\n"
     ]
    },
    {
     "name": "stderr",
     "output_type": "stream",
     "text": [
      "100%|██████████| 328/328 [00:31<00:00, 10.54it/s]\n"
     ]
    },
    {
     "name": "stdout",
     "output_type": "stream",
     "text": [
      "{'val_loss': 2.0256152494651514, 'val_accuracy': 0.5217723453017571, 'precision': 0.4003973005439305, 'recall': 0.5217723453017571, 'f1-score': 0.4165774461329894, 'macro_f1-score': 0.07703521954818564, 'balanced_accuracy': 0.08122062303570438, 'mcc': 0.27917426023219755, 'train_loss': 1.7555082838346319}\n",
      "Epoch 5/20\n"
     ]
    },
    {
     "name": "stderr",
     "output_type": "stream",
     "text": [
      "100%|██████████| 328/328 [00:30<00:00, 10.59it/s]\n"
     ]
    },
    {
     "name": "stdout",
     "output_type": "stream",
     "text": [
      "{'val_loss': 1.6829967338864396, 'val_accuracy': 0.5851795263559969, 'precision': 0.4833940675067304, 'recall': 0.5851795263559969, 'f1-score': 0.5175570644657103, 'macro_f1-score': 0.13821731864436024, 'balanced_accuracy': 0.14689551019772218, 'mcc': 0.42197749461262385, 'train_loss': 1.600622375018713}\n",
      "Epoch 6/20\n"
     ]
    },
    {
     "name": "stderr",
     "output_type": "stream",
     "text": [
      "100%|██████████| 328/328 [00:31<00:00, 10.54it/s]\n"
     ]
    },
    {
     "name": "stdout",
     "output_type": "stream",
     "text": [
      "{'val_loss': 1.646324749399976, 'val_accuracy': 0.6004583651642476, 'precision': 0.49806886696961433, 'recall': 0.6004583651642476, 'f1-score': 0.5239552641119241, 'macro_f1-score': 0.13996717755676774, 'balanced_accuracy': 0.1430616813136009, 'mcc': 0.43248137857438546, 'train_loss': 1.4314968947593758}\n",
      "Epoch 7/20\n"
     ]
    },
    {
     "name": "stderr",
     "output_type": "stream",
     "text": [
      "100%|██████████| 328/328 [00:30<00:00, 10.58it/s]\n"
     ]
    },
    {
     "name": "stdout",
     "output_type": "stream",
     "text": [
      "{'val_loss': 1.5968758671022043, 'val_accuracy': 0.5966386554621849, 'precision': 0.5129964762899243, 'recall': 0.5966386554621849, 'f1-score': 0.5440803520999974, 'macro_f1-score': 0.1737358184612279, 'balanced_accuracy': 0.18218442644520436, 'mcc': 0.4500762138709284, 'train_loss': 1.2856247400546945}\n",
      "Epoch 8/20\n"
     ]
    },
    {
     "name": "stderr",
     "output_type": "stream",
     "text": [
      "100%|██████████| 328/328 [00:30<00:00, 10.61it/s]\n"
     ]
    },
    {
     "name": "stdout",
     "output_type": "stream",
     "text": [
      "{'val_loss': 1.625770117814948, 'val_accuracy': 0.5981665393430099, 'precision': 0.5242159857858375, 'recall': 0.5981665393430099, 'f1-score': 0.5465502010994202, 'macro_f1-score': 0.17591116273991045, 'balanced_accuracy': 0.1802203952002062, 'mcc': 0.4436924799351343, 'train_loss': 1.1566539231869506}\n",
      "Epoch 9/20\n"
     ]
    },
    {
     "name": "stderr",
     "output_type": "stream",
     "text": [
      "100%|██████████| 328/328 [00:31<00:00, 10.47it/s]\n"
     ]
    },
    {
     "name": "stdout",
     "output_type": "stream",
     "text": [
      "{'val_loss': 1.6412744056887743, 'val_accuracy': 0.5721925133689839, 'precision': 0.6021408808792384, 'recall': 0.5721925133689839, 'f1-score': 0.5703459761682601, 'macro_f1-score': 0.24336861093613077, 'balanced_accuracy': 0.25988302162947746, 'mcc': 0.46013313509396014, 'train_loss': 1.0335231073564146}\n",
      "Epoch 10/20\n"
     ]
    },
    {
     "name": "stderr",
     "output_type": "stream",
     "text": [
      "100%|██████████| 328/328 [00:30<00:00, 10.62it/s]\n"
     ]
    },
    {
     "name": "stdout",
     "output_type": "stream",
     "text": [
      "{'val_loss': 1.6323946418195237, 'val_accuracy': 0.6119174942704354, 'precision': 0.577423573802633, 'recall': 0.6119174942704354, 'f1-score': 0.5880687309712943, 'macro_f1-score': 0.24270456255601416, 'balanced_accuracy': 0.24743440951947007, 'mcc': 0.48401714019185293, 'train_loss': 0.896156259244535}\n",
      "Epoch 11/20\n"
     ]
    },
    {
     "name": "stderr",
     "output_type": "stream",
     "text": [
      "100%|██████████| 328/328 [00:30<00:00, 10.59it/s]\n"
     ]
    },
    {
     "name": "stdout",
     "output_type": "stream",
     "text": [
      "{'val_loss': 1.5980974859217318, 'val_accuracy': 0.6355996944232238, 'precision': 0.5976411045500144, 'recall': 0.6355996944232238, 'f1-score': 0.603498103475304, 'macro_f1-score': 0.2682455130714962, 'balanced_accuracy': 0.2634458655295464, 'mcc': 0.5040927293220222, 'train_loss': 0.7791120256638018}\n",
      "Epoch 12/20\n"
     ]
    },
    {
     "name": "stderr",
     "output_type": "stream",
     "text": [
      "100%|██████████| 328/328 [00:31<00:00, 10.55it/s]\n"
     ]
    },
    {
     "name": "stdout",
     "output_type": "stream",
     "text": [
      "{'val_loss': 1.6110658696511897, 'val_accuracy': 0.6241405653170359, 'precision': 0.5967303988764393, 'recall': 0.6241405653170359, 'f1-score': 0.5993985420812812, 'macro_f1-score': 0.28683944425354274, 'balanced_accuracy': 0.2749199354022195, 'mcc': 0.4943535529603024, 'train_loss': 0.7167954355387426}\n",
      "Epoch 13/20\n"
     ]
    },
    {
     "name": "stderr",
     "output_type": "stream",
     "text": [
      "100%|██████████| 328/328 [00:31<00:00, 10.50it/s]\n"
     ]
    },
    {
     "name": "stdout",
     "output_type": "stream",
     "text": [
      "{'val_loss': 1.6901973336935043, 'val_accuracy': 0.6142093200916731, 'precision': 0.5960289223466996, 'recall': 0.6142093200916731, 'f1-score': 0.591342984434557, 'macro_f1-score': 0.2717837771065987, 'balanced_accuracy': 0.2550511755931366, 'mcc': 0.483844400186059, 'train_loss': 0.6508479143106719}\n",
      "Epoch 14/20\n"
     ]
    },
    {
     "name": "stderr",
     "output_type": "stream",
     "text": [
      "100%|██████████| 328/328 [00:31<00:00, 10.55it/s]\n"
     ]
    },
    {
     "name": "stdout",
     "output_type": "stream",
     "text": [
      "{'val_loss': 1.6817232693840818, 'val_accuracy': 0.6218487394957983, 'precision': 0.6053218029804666, 'recall': 0.6218487394957983, 'f1-score': 0.6032112115035805, 'macro_f1-score': 0.3059083153620155, 'balanced_accuracy': 0.3006214088513709, 'mcc': 0.49783408496915343, 'train_loss': 0.568653748234416}\n",
      "Epoch 15/20\n"
     ]
    },
    {
     "name": "stderr",
     "output_type": "stream",
     "text": [
      "100%|██████████| 328/328 [00:30<00:00, 10.58it/s]\n"
     ]
    },
    {
     "name": "stdout",
     "output_type": "stream",
     "text": [
      "{'val_loss': 1.769677404223419, 'val_accuracy': 0.5882352941176471, 'precision': 0.6190341839642746, 'recall': 0.5882352941176471, 'f1-score': 0.5913736687374411, 'macro_f1-score': 0.3118103087225129, 'balanced_accuracy': 0.3208945079371005, 'mcc': 0.47479808605582335, 'train_loss': 0.5060925654294651}\n",
      "Epoch 16/20\n"
     ]
    },
    {
     "name": "stderr",
     "output_type": "stream",
     "text": [
      "100%|██████████| 328/328 [00:31<00:00, 10.52it/s]\n"
     ]
    },
    {
     "name": "stdout",
     "output_type": "stream",
     "text": [
      "{'val_loss': 1.7396338294918945, 'val_accuracy': 0.6302521008403361, 'precision': 0.6319395184550956, 'recall': 0.6302521008403361, 'f1-score': 0.6218801420126738, 'macro_f1-score': 0.35048149307978255, 'balanced_accuracy': 0.3551721685492689, 'mcc': 0.5116561471584041, 'train_loss': 0.44911849881499644}\n",
      "Epoch 17/20\n"
     ]
    },
    {
     "name": "stderr",
     "output_type": "stream",
     "text": [
      "100%|██████████| 328/328 [00:31<00:00, 10.53it/s]\n"
     ]
    },
    {
     "name": "stdout",
     "output_type": "stream",
     "text": [
      "{'val_loss': 1.75960681260359, 'val_accuracy': 0.6050420168067226, 'precision': 0.6235449954795482, 'recall': 0.6050420168067226, 'f1-score': 0.6029803679003134, 'macro_f1-score': 0.32235396505693825, 'balanced_accuracy': 0.31551566477649784, 'mcc': 0.48407790955684005, 'train_loss': 0.43636940543471675}\n",
      "Epoch 18/20\n"
     ]
    },
    {
     "name": "stderr",
     "output_type": "stream",
     "text": [
      "100%|██████████| 328/328 [00:30<00:00, 10.60it/s]\n"
     ]
    },
    {
     "name": "stdout",
     "output_type": "stream",
     "text": [
      "{'val_loss': 1.8714684980308138, 'val_accuracy': 0.6157372039724981, 'precision': 0.6156599635675769, 'recall': 0.6157372039724981, 'f1-score': 0.6080681205919909, 'macro_f1-score': 0.33596204006515706, 'balanced_accuracy': 0.32637182304590573, 'mcc': 0.4945732057113374, 'train_loss': 0.34762243789098246}\n",
      "Epoch 19/20\n"
     ]
    },
    {
     "name": "stderr",
     "output_type": "stream",
     "text": [
      "100%|██████████| 328/328 [00:31<00:00, 10.56it/s]\n"
     ]
    },
    {
     "name": "stdout",
     "output_type": "stream",
     "text": [
      "{'val_loss': 1.8363600431419, 'val_accuracy': 0.6310160427807486, 'precision': 0.6208854071094394, 'recall': 0.6310160427807486, 'f1-score': 0.615246787953444, 'macro_f1-score': 0.33204050198459156, 'balanced_accuracy': 0.31470108500232974, 'mcc': 0.5097085463915941, 'train_loss': 0.3206360119724328}\n",
      "Early stopping.\n",
      "\n",
      "[Fold 5]\n",
      "Label distribution after resampling:\n",
      "  label 0: 2466\n",
      "  label 1: 22\n",
      "  label 2: 64\n",
      "  label 3: 24\n",
      "  label 4: 190\n",
      "  label 5: 113\n",
      "  label 6: 93\n",
      "  label 7: 30\n",
      "  label 8: 68\n",
      "  label 9: 30\n",
      "  label 10: 67\n",
      "  label 11: 169\n",
      "  label 12: 189\n",
      "  label 13: 29\n",
      "  label 14: 23\n",
      "  label 15: 24\n",
      "  label 16: 20\n",
      "  label 17: 180\n",
      "  label 18: 92\n",
      "  label 19: 44\n",
      "  label 20: 14\n",
      "  label 21: 35\n",
      "  label 22: 76\n",
      "  label 23: 157\n",
      "  label 24: 13\n",
      "  label 25: 44\n",
      "  label 26: 84\n",
      "  label 27: 47\n",
      "  label 28: 11\n",
      "  label 29: 13\n",
      "  label 30: 11\n",
      "  label 31: 75\n",
      "  label 32: 36\n",
      "  label 33: 31\n",
      "  label 34: 30\n",
      "  label 35: 11\n",
      "  label 36: 22\n",
      "  label 37: 16\n",
      "  label 38: 6\n",
      "  label 39: 33\n",
      "  label 40: 10\n",
      "  label 41: 9\n",
      "  label 42: 57\n",
      "  label 43: 6\n",
      "  label 44: 18\n",
      "  label 45: 9\n",
      "  label 46: 54\n",
      "  label 47: 242\n",
      "  label 48: 62\n",
      "  label 49: 68\n",
      "model is roberta-base bilstm\n"
     ]
    },
    {
     "name": "stderr",
     "output_type": "stream",
     "text": [
      "Some weights of RobertaModel were not initialized from the model checkpoint at roberta-base and are newly initialized: ['pooler.dense.bias', 'pooler.dense.weight']\n",
      "You should probably TRAIN this model on a down-stream task to be able to use it for predictions and inference.\n"
     ]
    },
    {
     "name": "stdout",
     "output_type": "stream",
     "text": [
      "Epoch 1/20\n"
     ]
    },
    {
     "name": "stderr",
     "output_type": "stream",
     "text": [
      "100%|██████████| 328/328 [00:31<00:00, 10.54it/s]\n"
     ]
    },
    {
     "name": "stdout",
     "output_type": "stream",
     "text": [
      "{'val_loss': 2.2020593983371084, 'val_accuracy': 0.5156608097784569, 'precision': 0.2985103081530481, 'recall': 0.5156608097784569, 'f1-score': 0.3753184458230961, 'macro_f1-score': 0.03312819140570994, 'balanced_accuracy': 0.05384914361001318, 'mcc': 0.2682504666793641, 'train_loss': 2.431237883320669}\n",
      "Epoch 2/20\n"
     ]
    },
    {
     "name": "stderr",
     "output_type": "stream",
     "text": [
      "100%|██████████| 328/328 [00:30<00:00, 10.61it/s]\n"
     ]
    },
    {
     "name": "stdout",
     "output_type": "stream",
     "text": [
      "{'val_loss': 2.0969801414303664, 'val_accuracy': 0.5301757066462949, 'precision': 0.3223266361408496, 'recall': 0.5301757066462949, 'f1-score': 0.4002119692191473, 'macro_f1-score': 0.04233091429745251, 'balanced_accuracy': 0.056745576886881234, 'mcc': 0.28988734642505987, 'train_loss': 2.162055573085459}\n",
      "Epoch 3/20\n"
     ]
    },
    {
     "name": "stderr",
     "output_type": "stream",
     "text": [
      "100%|██████████| 328/328 [00:30<00:00, 10.61it/s]\n"
     ]
    },
    {
     "name": "stdout",
     "output_type": "stream",
     "text": [
      "{'val_loss': 2.4927351314847064, 'val_accuracy': 0.4774637127578304, 'precision': 0.24550680011703546, 'recall': 0.4774637127578304, 'f1-score': 0.31898304016406404, 'macro_f1-score': 0.020462591183207236, 'balanced_accuracy': 0.026225484660267265, 'mcc': 0.09652412722851228, 'train_loss': 2.3966872521289964}\n",
      "Epoch 4/20\n"
     ]
    },
    {
     "name": "stderr",
     "output_type": "stream",
     "text": [
      "100%|██████████| 328/328 [00:31<00:00, 10.45it/s]\n"
     ]
    },
    {
     "name": "stdout",
     "output_type": "stream",
     "text": [
      "{'val_loss': 2.4265700331548365, 'val_accuracy': 0.4919786096256685, 'precision': 0.2707265351281578, 'recall': 0.4919786096256685, 'f1-score': 0.33462402687765996, 'macro_f1-score': 0.025580050253638645, 'balanced_accuracy': 0.029333333333333336, 'mcc': 0.16894748525579603, 'train_loss': 2.457489224832232}\n",
      "Epoch 5/20\n"
     ]
    },
    {
     "name": "stderr",
     "output_type": "stream",
     "text": [
      "100%|██████████| 328/328 [00:30<00:00, 10.61it/s]\n"
     ]
    },
    {
     "name": "stdout",
     "output_type": "stream",
     "text": [
      "{'val_loss': 2.5625192959134173, 'val_accuracy': 0.37815126050420167, 'precision': 0.3125558534883935, 'recall': 0.3781512605042017, 'f1-score': 0.3276549014189815, 'macro_f1-score': 0.016998005319148937, 'balanced_accuracy': 0.034123376623376625, 'mcc': 0.18870641488442702, 'train_loss': 2.4243456739477995}\n",
      "Early stopping.\n",
      "\n",
      " === roberta-base + bilstm + none Final 5-fold Cross-Validation Results ===\n",
      "val_loss: 1.8358\n",
      "val_accuracy: 0.6129\n",
      "precision: 0.5610\n",
      "recall: 0.6129\n",
      "f1-score: 0.5738\n",
      "macro_f1-score: 0.2682\n",
      "balanced_accuracy: 0.2690\n",
      "mcc: 0.4669\n",
      "train_loss: 0.8129\n",
      "total_seconds: 2703.0000\n",
      "total_time: 0 hrs 45 mins 3 secs\n",
      "▶ Running: microsoft/deberta-base + plain + none\n",
      "tokenizer is microsoft/deberta-base\n",
      "Using device: cuda\n",
      "CUDA Available: True\n",
      "CUDA Device: NVIDIA GeForce RTX 5070 Ti\n",
      "Current GPU Memory Allocated: 0.02 GB\n",
      "Current GPU Memory Cached: 3.92 GB\n",
      "\n",
      "[Fold 1]\n",
      "Label distribution after resampling:\n",
      "  label 0: 2465\n",
      "  label 1: 22\n",
      "  label 2: 64\n",
      "  label 3: 24\n",
      "  label 4: 190\n",
      "  label 5: 112\n",
      "  label 6: 93\n",
      "  label 7: 30\n",
      "  label 8: 68\n",
      "  label 9: 30\n",
      "  label 10: 67\n",
      "  label 11: 169\n",
      "  label 12: 190\n",
      "  label 13: 28\n",
      "  label 14: 23\n",
      "  label 15: 25\n",
      "  label 16: 19\n",
      "  label 17: 181\n",
      "  label 18: 92\n",
      "  label 19: 44\n",
      "  label 20: 14\n",
      "  label 21: 35\n",
      "  label 22: 76\n",
      "  label 23: 157\n",
      "  label 24: 13\n",
      "  label 25: 44\n",
      "  label 26: 84\n",
      "  label 27: 47\n",
      "  label 28: 11\n",
      "  label 29: 13\n",
      "  label 30: 11\n",
      "  label 31: 76\n",
      "  label 32: 36\n",
      "  label 33: 32\n",
      "  label 34: 29\n",
      "  label 35: 11\n",
      "  label 36: 22\n",
      "  label 37: 16\n",
      "  label 38: 6\n",
      "  label 39: 32\n",
      "  label 40: 10\n",
      "  label 41: 9\n",
      "  label 42: 57\n",
      "  label 43: 6\n",
      "  label 44: 19\n",
      "  label 45: 8\n",
      "  label 46: 55\n",
      "  label 47: 241\n",
      "  label 48: 62\n",
      "  label 49: 68\n",
      "model is microsoft/deberta-base\n"
     ]
    },
    {
     "name": "stderr",
     "output_type": "stream",
     "text": [
      "Some weights of DebertaForSequenceClassification were not initialized from the model checkpoint at microsoft/deberta-base and are newly initialized: ['classifier.bias', 'classifier.weight', 'pooler.dense.bias', 'pooler.dense.weight']\n",
      "You should probably TRAIN this model on a down-stream task to be able to use it for predictions and inference.\n"
     ]
    },
    {
     "name": "stdout",
     "output_type": "stream",
     "text": [
      "Epoch 1/20\n"
     ]
    },
    {
     "name": "stderr",
     "output_type": "stream",
     "text": [
      "100%|██████████| 328/328 [00:33<00:00,  9.66it/s]\n"
     ]
    },
    {
     "name": "stdout",
     "output_type": "stream",
     "text": [
      "{'val_loss': 1.8731201821711005, 'val_accuracy': 0.5679389312977099, 'precision': 0.36476791903121353, 'recall': 0.5679389312977099, 'f1-score': 0.43850325232629256, 'macro_f1-score': 0.06571248210481224, 'balanced_accuracy': 0.07571621905122818, 'mcc': 0.3542758457937443, 'train_loss': 2.2191875647844337}\n",
      "Epoch 2/20\n"
     ]
    },
    {
     "name": "stderr",
     "output_type": "stream",
     "text": [
      "100%|██████████| 328/328 [00:33<00:00,  9.83it/s]\n"
     ]
    },
    {
     "name": "stdout",
     "output_type": "stream",
     "text": [
      "{'val_loss': 1.5969451040756413, 'val_accuracy': 0.5885496183206107, 'precision': 0.4833649988765114, 'recall': 0.5885496183206107, 'f1-score': 0.5171600988089561, 'macro_f1-score': 0.13251449423906966, 'balanced_accuracy': 0.14402181444249323, 'mcc': 0.4228364477484993, 'train_loss': 1.7106612548232079}\n",
      "Epoch 3/20\n"
     ]
    },
    {
     "name": "stderr",
     "output_type": "stream",
     "text": [
      "100%|██████████| 328/328 [00:33<00:00,  9.85it/s]\n"
     ]
    },
    {
     "name": "stdout",
     "output_type": "stream",
     "text": [
      "{'val_loss': 1.5562156162610867, 'val_accuracy': 0.6061068702290077, 'precision': 0.5480890449280319, 'recall': 0.6061068702290077, 'f1-score': 0.5474512951783971, 'macro_f1-score': 0.18971950855454484, 'balanced_accuracy': 0.17768305995499825, 'mcc': 0.4440778064083711, 'train_loss': 1.3278684256053188}\n",
      "Epoch 4/20\n"
     ]
    },
    {
     "name": "stderr",
     "output_type": "stream",
     "text": [
      "100%|██████████| 328/328 [00:33<00:00,  9.88it/s]\n"
     ]
    },
    {
     "name": "stdout",
     "output_type": "stream",
     "text": [
      "{'val_loss': 1.5296970322364714, 'val_accuracy': 0.6145038167938931, 'precision': 0.5768011758591975, 'recall': 0.6145038167938931, 'f1-score': 0.5777355662469282, 'macro_f1-score': 0.2279286917623379, 'balanced_accuracy': 0.23715460130669658, 'mcc': 0.47777498820866277, 'train_loss': 1.0142881552711493}\n",
      "Epoch 5/20\n"
     ]
    },
    {
     "name": "stderr",
     "output_type": "stream",
     "text": [
      "100%|██████████| 328/328 [00:33<00:00,  9.87it/s]\n"
     ]
    },
    {
     "name": "stdout",
     "output_type": "stream",
     "text": [
      "{'val_loss': 1.6747414691419136, 'val_accuracy': 0.583206106870229, 'precision': 0.5864065590633614, 'recall': 0.583206106870229, 'f1-score': 0.5692406235983991, 'macro_f1-score': 0.25384544513748164, 'balanced_accuracy': 0.2658671712315782, 'mcc': 0.4618697550537187, 'train_loss': 0.745836148220228}\n",
      "Epoch 6/20\n"
     ]
    },
    {
     "name": "stderr",
     "output_type": "stream",
     "text": [
      "100%|██████████| 328/328 [00:33<00:00,  9.86it/s]\n"
     ]
    },
    {
     "name": "stdout",
     "output_type": "stream",
     "text": [
      "{'val_loss': 1.6877402597811164, 'val_accuracy': 0.6145038167938931, 'precision': 0.5896040536312391, 'recall': 0.6145038167938931, 'f1-score': 0.5910000548749073, 'macro_f1-score': 0.26857701961822483, 'balanced_accuracy': 0.2691505146910481, 'mcc': 0.4884298902339333, 'train_loss': 0.5817497903026823}\n",
      "Epoch 7/20\n"
     ]
    },
    {
     "name": "stderr",
     "output_type": "stream",
     "text": [
      "100%|██████████| 328/328 [00:33<00:00,  9.88it/s]\n"
     ]
    },
    {
     "name": "stdout",
     "output_type": "stream",
     "text": [
      "{'val_loss': 1.8186060400997721, 'val_accuracy': 0.6251908396946565, 'precision': 0.5914463762792305, 'recall': 0.6251908396946565, 'f1-score': 0.594984022431206, 'macro_f1-score': 0.2777092042587405, 'balanced_accuracy': 0.2743372588675927, 'mcc': 0.4931788755312314, 'train_loss': 0.4147303255910917}\n",
      "Epoch 8/20\n"
     ]
    },
    {
     "name": "stderr",
     "output_type": "stream",
     "text": [
      "100%|██████████| 328/328 [00:33<00:00,  9.89it/s]\n"
     ]
    },
    {
     "name": "stdout",
     "output_type": "stream",
     "text": [
      "{'val_loss': 1.9737387635722392, 'val_accuracy': 0.6320610687022901, 'precision': 0.6081280326647852, 'recall': 0.6320610687022901, 'f1-score': 0.6065371001666251, 'macro_f1-score': 0.3043134998985224, 'balanced_accuracy': 0.2789159620616564, 'mcc': 0.5001969686933693, 'train_loss': 0.29319188167999793}\n",
      "Epoch 9/20\n"
     ]
    },
    {
     "name": "stderr",
     "output_type": "stream",
     "text": [
      "100%|██████████| 328/328 [00:33<00:00,  9.83it/s]\n"
     ]
    },
    {
     "name": "stdout",
     "output_type": "stream",
     "text": [
      "{'val_loss': 1.9762321565209366, 'val_accuracy': 0.6419847328244275, 'precision': 0.6234149857924467, 'recall': 0.6419847328244275, 'f1-score': 0.6224876605369325, 'macro_f1-score': 0.33133605674258, 'balanced_accuracy': 0.32139710381087655, 'mcc': 0.5182506302968245, 'train_loss': 0.23867007285333808}\n",
      "Epoch 10/20\n"
     ]
    },
    {
     "name": "stderr",
     "output_type": "stream",
     "text": [
      "100%|██████████| 328/328 [00:33<00:00,  9.87it/s]\n"
     ]
    },
    {
     "name": "stdout",
     "output_type": "stream",
     "text": [
      "{'val_loss': 1.9683591065610326, 'val_accuracy': 0.6366412213740458, 'precision': 0.6229126205979922, 'recall': 0.6366412213740458, 'f1-score': 0.6198073441978826, 'macro_f1-score': 0.31562253589079686, 'balanced_accuracy': 0.31104566866419214, 'mcc': 0.5133067891332614, 'train_loss': 0.16815143779896927}\n",
      "Epoch 11/20\n"
     ]
    },
    {
     "name": "stderr",
     "output_type": "stream",
     "text": [
      "100%|██████████| 328/328 [00:33<00:00,  9.84it/s]\n"
     ]
    },
    {
     "name": "stdout",
     "output_type": "stream",
     "text": [
      "{'val_loss': 2.1411158682369607, 'val_accuracy': 0.6290076335877862, 'precision': 0.6031872253965573, 'recall': 0.6290076335877862, 'f1-score': 0.6002057750283004, 'macro_f1-score': 0.29350655494722727, 'balanced_accuracy': 0.26652435588773554, 'mcc': 0.4882957491868235, 'train_loss': 0.16347228610822817}\n",
      "Epoch 12/20\n"
     ]
    },
    {
     "name": "stderr",
     "output_type": "stream",
     "text": [
      "100%|██████████| 328/328 [00:33<00:00,  9.85it/s]\n"
     ]
    },
    {
     "name": "stdout",
     "output_type": "stream",
     "text": [
      "{'val_loss': 2.1576244104199294, 'val_accuracy': 0.6282442748091603, 'precision': 0.6113683028388811, 'recall': 0.6282442748091603, 'f1-score': 0.610955866735728, 'macro_f1-score': 0.3081081814888759, 'balanced_accuracy': 0.29373484889223944, 'mcc': 0.498894598506084, 'train_loss': 0.1477162297119432}\n",
      "Early stopping.\n",
      "\n",
      "[Fold 2]\n",
      "Label distribution after resampling:\n",
      "  label 0: 2465\n",
      "  label 1: 22\n",
      "  label 2: 64\n",
      "  label 3: 24\n",
      "  label 4: 190\n",
      "  label 5: 113\n",
      "  label 6: 93\n",
      "  label 7: 31\n",
      "  label 8: 68\n",
      "  label 9: 29\n",
      "  label 10: 67\n",
      "  label 11: 169\n",
      "  label 12: 190\n",
      "  label 13: 29\n",
      "  label 14: 22\n",
      "  label 15: 25\n",
      "  label 16: 19\n",
      "  label 17: 181\n",
      "  label 18: 92\n",
      "  label 19: 44\n",
      "  label 20: 13\n",
      "  label 21: 35\n",
      "  label 22: 76\n",
      "  label 23: 158\n",
      "  label 24: 13\n",
      "  label 25: 44\n",
      "  label 26: 84\n",
      "  label 27: 47\n",
      "  label 28: 12\n",
      "  label 29: 12\n",
      "  label 30: 12\n",
      "  label 31: 75\n",
      "  label 32: 36\n",
      "  label 33: 31\n",
      "  label 34: 29\n",
      "  label 35: 12\n",
      "  label 36: 21\n",
      "  label 37: 16\n",
      "  label 38: 6\n",
      "  label 39: 33\n",
      "  label 40: 11\n",
      "  label 41: 8\n",
      "  label 42: 56\n",
      "  label 43: 6\n",
      "  label 44: 19\n",
      "  label 45: 9\n",
      "  label 46: 55\n",
      "  label 47: 241\n",
      "  label 48: 62\n",
      "  label 49: 68\n",
      "model is microsoft/deberta-base\n"
     ]
    },
    {
     "name": "stderr",
     "output_type": "stream",
     "text": [
      "Some weights of DebertaForSequenceClassification were not initialized from the model checkpoint at microsoft/deberta-base and are newly initialized: ['classifier.bias', 'classifier.weight', 'pooler.dense.bias', 'pooler.dense.weight']\n",
      "You should probably TRAIN this model on a down-stream task to be able to use it for predictions and inference.\n"
     ]
    },
    {
     "name": "stdout",
     "output_type": "stream",
     "text": [
      "Epoch 1/20\n"
     ]
    },
    {
     "name": "stderr",
     "output_type": "stream",
     "text": [
      "100%|██████████| 328/328 [00:33<00:00,  9.85it/s]\n"
     ]
    },
    {
     "name": "stdout",
     "output_type": "stream",
     "text": [
      "{'val_loss': 1.8457244700048028, 'val_accuracy': 0.5469824293353706, 'precision': 0.42683765095199405, 'recall': 0.5469824293353706, 'f1-score': 0.4268667607851398, 'macro_f1-score': 0.07004565274266308, 'balanced_accuracy': 0.07579279223168153, 'mcc': 0.31575750913001693, 'train_loss': 2.197346683319022}\n",
      "Epoch 2/20\n"
     ]
    },
    {
     "name": "stderr",
     "output_type": "stream",
     "text": [
      "100%|██████████| 328/328 [00:33<00:00,  9.88it/s]\n"
     ]
    },
    {
     "name": "stdout",
     "output_type": "stream",
     "text": [
      "{'val_loss': 1.5084120049709226, 'val_accuracy': 0.6180290297937356, 'precision': 0.5350146552840029, 'recall': 0.6180290297937356, 'f1-score': 0.5651342749358739, 'macro_f1-score': 0.1849966117284864, 'balanced_accuracy': 0.2046003607840532, 'mcc': 0.477193949814942, 'train_loss': 1.6385132041646213}\n",
      "Epoch 3/20\n"
     ]
    },
    {
     "name": "stderr",
     "output_type": "stream",
     "text": [
      "100%|██████████| 328/328 [00:33<00:00,  9.86it/s]\n"
     ]
    },
    {
     "name": "stdout",
     "output_type": "stream",
     "text": [
      "{'val_loss': 1.4507426030752135, 'val_accuracy': 0.6249045072574484, 'precision': 0.5747021186558978, 'recall': 0.6249045072574484, 'f1-score': 0.5874124021454812, 'macro_f1-score': 0.2346064089078865, 'balanced_accuracy': 0.24723318055550933, 'mcc': 0.4992451335815457, 'train_loss': 1.2503952934611133}\n",
      "Epoch 4/20\n"
     ]
    },
    {
     "name": "stderr",
     "output_type": "stream",
     "text": [
      "100%|██████████| 328/328 [00:33<00:00,  9.86it/s]\n"
     ]
    },
    {
     "name": "stdout",
     "output_type": "stream",
     "text": [
      "{'val_loss': 1.4558654896369794, 'val_accuracy': 0.6508785332314744, 'precision': 0.6148149629430266, 'recall': 0.6508785332314744, 'f1-score': 0.619006453504286, 'macro_f1-score': 0.28963617538683467, 'balanced_accuracy': 0.2838053051660287, 'mcc': 0.5272030970104976, 'train_loss': 0.9591423838467497}\n",
      "Epoch 5/20\n"
     ]
    },
    {
     "name": "stderr",
     "output_type": "stream",
     "text": [
      "100%|██████████| 328/328 [00:33<00:00,  9.88it/s]\n"
     ]
    },
    {
     "name": "stdout",
     "output_type": "stream",
     "text": [
      "{'val_loss': 1.5048105124293305, 'val_accuracy': 0.6386554621848739, 'precision': 0.6336157567350523, 'recall': 0.6386554621848739, 'f1-score': 0.6204133143535068, 'macro_f1-score': 0.33832893118960167, 'balanced_accuracy': 0.3303918778992606, 'mcc': 0.5181298181291215, 'train_loss': 0.6987086812988287}\n",
      "Epoch 6/20\n"
     ]
    },
    {
     "name": "stderr",
     "output_type": "stream",
     "text": [
      "100%|██████████| 328/328 [00:33<00:00,  9.87it/s]\n"
     ]
    },
    {
     "name": "stdout",
     "output_type": "stream",
     "text": [
      "{'val_loss': 1.6243222166852254, 'val_accuracy': 0.6142093200916731, 'precision': 0.6212664210718102, 'recall': 0.6142093200916731, 'f1-score': 0.6069064241329364, 'macro_f1-score': 0.3131783156770143, 'balanced_accuracy': 0.32099599334313894, 'mcc': 0.49785676548383073, 'train_loss': 0.5285114651068863}\n",
      "Epoch 7/20\n"
     ]
    },
    {
     "name": "stderr",
     "output_type": "stream",
     "text": [
      "100%|██████████| 328/328 [00:33<00:00,  9.84it/s]\n"
     ]
    },
    {
     "name": "stdout",
     "output_type": "stream",
     "text": [
      "{'val_loss': 1.657911850184929, 'val_accuracy': 0.6432391138273491, 'precision': 0.6274694330264161, 'recall': 0.6432391138273491, 'f1-score': 0.6274211778883168, 'macro_f1-score': 0.3283991442301338, 'balanced_accuracy': 0.3321457126209151, 'mcc': 0.5324301908715147, 'train_loss': 0.36653277715781657}\n",
      "Epoch 8/20\n"
     ]
    },
    {
     "name": "stderr",
     "output_type": "stream",
     "text": [
      "100%|██████████| 328/328 [00:33<00:00,  9.86it/s]\n"
     ]
    },
    {
     "name": "stdout",
     "output_type": "stream",
     "text": [
      "{'val_loss': 1.7577999732116374, 'val_accuracy': 0.6470588235294118, 'precision': 0.6320017191677424, 'recall': 0.6470588235294118, 'f1-score': 0.6292674386285114, 'macro_f1-score': 0.33787620173619415, 'balanced_accuracy': 0.34467316265619447, 'mcc': 0.5262232293131817, 'train_loss': 0.26631250591925915}\n",
      "Early stopping.\n",
      "\n",
      "[Fold 3]\n",
      "Label distribution after resampling:\n",
      "  label 0: 2466\n",
      "  label 1: 21\n",
      "  label 2: 64\n",
      "  label 3: 24\n",
      "  label 4: 191\n",
      "  label 5: 113\n",
      "  label 6: 92\n",
      "  label 7: 31\n",
      "  label 8: 68\n",
      "  label 9: 29\n",
      "  label 10: 68\n",
      "  label 11: 168\n",
      "  label 12: 190\n",
      "  label 13: 29\n",
      "  label 14: 22\n",
      "  label 15: 25\n",
      "  label 16: 19\n",
      "  label 17: 181\n",
      "  label 18: 92\n",
      "  label 19: 44\n",
      "  label 20: 13\n",
      "  label 21: 36\n",
      "  label 22: 76\n",
      "  label 23: 158\n",
      "  label 24: 12\n",
      "  label 25: 44\n",
      "  label 26: 84\n",
      "  label 27: 48\n",
      "  label 28: 11\n",
      "  label 29: 13\n",
      "  label 30: 11\n",
      "  label 31: 75\n",
      "  label 32: 36\n",
      "  label 33: 31\n",
      "  label 34: 30\n",
      "  label 35: 11\n",
      "  label 36: 21\n",
      "  label 37: 16\n",
      "  label 38: 5\n",
      "  label 39: 33\n",
      "  label 40: 11\n",
      "  label 41: 9\n",
      "  label 42: 57\n",
      "  label 43: 7\n",
      "  label 44: 18\n",
      "  label 45: 9\n",
      "  label 46: 54\n",
      "  label 47: 242\n",
      "  label 48: 61\n",
      "  label 49: 68\n",
      "model is microsoft/deberta-base\n"
     ]
    },
    {
     "name": "stderr",
     "output_type": "stream",
     "text": [
      "Some weights of DebertaForSequenceClassification were not initialized from the model checkpoint at microsoft/deberta-base and are newly initialized: ['classifier.bias', 'classifier.weight', 'pooler.dense.bias', 'pooler.dense.weight']\n",
      "You should probably TRAIN this model on a down-stream task to be able to use it for predictions and inference.\n"
     ]
    },
    {
     "name": "stdout",
     "output_type": "stream",
     "text": [
      "Epoch 1/20\n"
     ]
    },
    {
     "name": "stderr",
     "output_type": "stream",
     "text": [
      "100%|██████████| 328/328 [00:33<00:00,  9.87it/s]\n"
     ]
    },
    {
     "name": "stdout",
     "output_type": "stream",
     "text": [
      "{'val_loss': 1.7714731867720441, 'val_accuracy': 0.5813598166539343, 'precision': 0.42405045884485243, 'recall': 0.5813598166539343, 'f1-score': 0.4755169283205097, 'macro_f1-score': 0.09222923628721795, 'balanced_accuracy': 0.09791973038781548, 'mcc': 0.3873537299382001, 'train_loss': 2.1849874677817995}\n",
      "Epoch 2/20\n"
     ]
    },
    {
     "name": "stderr",
     "output_type": "stream",
     "text": [
      "100%|██████████| 328/328 [00:33<00:00,  9.85it/s]\n"
     ]
    },
    {
     "name": "stdout",
     "output_type": "stream",
     "text": [
      "{'val_loss': 1.4679507962087306, 'val_accuracy': 0.6210847975553858, 'precision': 0.5369489730008602, 'recall': 0.6210847975553858, 'f1-score': 0.5655345271733743, 'macro_f1-score': 0.21604764943112736, 'balanced_accuracy': 0.22939803134698855, 'mcc': 0.4844139671102707, 'train_loss': 1.563553847735975}\n",
      "Epoch 3/20\n"
     ]
    },
    {
     "name": "stderr",
     "output_type": "stream",
     "text": [
      "100%|██████████| 328/328 [00:33<00:00,  9.86it/s]\n"
     ]
    },
    {
     "name": "stdout",
     "output_type": "stream",
     "text": [
      "{'val_loss': 1.4285773514974407, 'val_accuracy': 0.6371275783040489, 'precision': 0.5941650136144161, 'recall': 0.6371275783040489, 'f1-score': 0.5985603390165525, 'macro_f1-score': 0.26782128752760404, 'balanced_accuracy': 0.26367911330496996, 'mcc': 0.5044526026346725, 'train_loss': 1.158883626095769}\n",
      "Epoch 4/20\n"
     ]
    },
    {
     "name": "stderr",
     "output_type": "stream",
     "text": [
      "100%|██████████| 328/328 [00:33<00:00,  9.87it/s]\n"
     ]
    },
    {
     "name": "stdout",
     "output_type": "stream",
     "text": [
      "{'val_loss': 1.3846268283157814, 'val_accuracy': 0.6508785332314744, 'precision': 0.6281132981553322, 'recall': 0.6508785332314744, 'f1-score': 0.6291366663127065, 'macro_f1-score': 0.31299816108459716, 'balanced_accuracy': 0.3274686455163252, 'mcc': 0.5377233245387327, 'train_loss': 0.8559820184075251}\n",
      "Epoch 5/20\n"
     ]
    },
    {
     "name": "stderr",
     "output_type": "stream",
     "text": [
      "100%|██████████| 328/328 [00:33<00:00,  9.85it/s]\n"
     ]
    },
    {
     "name": "stdout",
     "output_type": "stream",
     "text": [
      "{'val_loss': 1.4132983520990465, 'val_accuracy': 0.6562261268143621, 'precision': 0.6588702464346938, 'recall': 0.6562261268143621, 'f1-score': 0.6467374102106982, 'macro_f1-score': 0.375988702236458, 'balanced_accuracy': 0.3773355455864542, 'mcc': 0.5476786810801574, 'train_loss': 0.5990206843650923}\n",
      "Epoch 6/20\n"
     ]
    },
    {
     "name": "stderr",
     "output_type": "stream",
     "text": [
      "100%|██████████| 328/328 [00:33<00:00,  9.88it/s]\n"
     ]
    },
    {
     "name": "stdout",
     "output_type": "stream",
     "text": [
      "{'val_loss': 1.7214729738671606, 'val_accuracy': 0.6462948815889993, 'precision': 0.6206920021788351, 'recall': 0.6462948815889993, 'f1-score': 0.6137845539273639, 'macro_f1-score': 0.3716552573785918, 'balanced_accuracy': 0.35173766528444844, 'mcc': 0.5142706280349281, 'train_loss': 0.40594956664959103}\n",
      "Epoch 7/20\n"
     ]
    },
    {
     "name": "stderr",
     "output_type": "stream",
     "text": [
      "100%|██████████| 328/328 [00:33<00:00,  9.88it/s]\n"
     ]
    },
    {
     "name": "stdout",
     "output_type": "stream",
     "text": [
      "{'val_loss': 1.6275825718554056, 'val_accuracy': 0.6501145912910619, 'precision': 0.6374892792287944, 'recall': 0.6501145912910619, 'f1-score': 0.6354465187010482, 'macro_f1-score': 0.38301890655100207, 'balanced_accuracy': 0.3985660091537565, 'mcc': 0.5348942987164881, 'train_loss': 0.27899518401912843}\n",
      "Epoch 8/20\n"
     ]
    },
    {
     "name": "stderr",
     "output_type": "stream",
     "text": [
      "100%|██████████| 328/328 [00:33<00:00,  9.85it/s]\n"
     ]
    },
    {
     "name": "stdout",
     "output_type": "stream",
     "text": [
      "{'val_loss': 1.6624742350200328, 'val_accuracy': 0.6546982429335371, 'precision': 0.6675585106243318, 'recall': 0.6546982429335371, 'f1-score': 0.6533925967602828, 'macro_f1-score': 0.42350972403601433, 'balanced_accuracy': 0.42573252911885456, 'mcc': 0.5523224469033006, 'train_loss': 0.22071487188520955}\n",
      "Epoch 9/20\n"
     ]
    },
    {
     "name": "stderr",
     "output_type": "stream",
     "text": [
      "100%|██████████| 328/328 [00:33<00:00,  9.86it/s]\n"
     ]
    },
    {
     "name": "stdout",
     "output_type": "stream",
     "text": [
      "{'val_loss': 1.9415460530577637, 'val_accuracy': 0.6394194041252865, 'precision': 0.6260675554710101, 'recall': 0.6394194041252865, 'f1-score': 0.6135553799966013, 'macro_f1-score': 0.376234579746741, 'balanced_accuracy': 0.34512124966713054, 'mcc': 0.5104639572588633, 'train_loss': 0.166987311709729}\n",
      "Epoch 10/20\n"
     ]
    },
    {
     "name": "stderr",
     "output_type": "stream",
     "text": [
      "100%|██████████| 328/328 [00:33<00:00,  9.85it/s]\n"
     ]
    },
    {
     "name": "stdout",
     "output_type": "stream",
     "text": [
      "{'val_loss': 2.040484089676927, 'val_accuracy': 0.6608097784568373, 'precision': 0.6373311428606052, 'recall': 0.6608097784568373, 'f1-score': 0.6318462129158513, 'macro_f1-score': 0.407412591267582, 'balanced_accuracy': 0.39616460495236205, 'mcc': 0.5410647738805516, 'train_loss': 0.11596113502540592}\n",
      "Epoch 11/20\n"
     ]
    },
    {
     "name": "stderr",
     "output_type": "stream",
     "text": [
      "100%|██████████| 328/328 [00:33<00:00,  9.87it/s]\n"
     ]
    },
    {
     "name": "stdout",
     "output_type": "stream",
     "text": [
      "{'val_loss': 1.9830332690986192, 'val_accuracy': 0.6585179526355996, 'precision': 0.6591930943726702, 'recall': 0.6585179526355996, 'f1-score': 0.6477561244525532, 'macro_f1-score': 0.4071206136256351, 'balanced_accuracy': 0.4022594558275343, 'mcc': 0.546826086112802, 'train_loss': 0.09730433899108548}\n",
      "Early stopping.\n",
      "\n",
      "[Fold 4]\n",
      "Label distribution after resampling:\n",
      "  label 0: 2466\n",
      "  label 1: 21\n",
      "  label 2: 64\n",
      "  label 3: 24\n",
      "  label 4: 191\n",
      "  label 5: 113\n",
      "  label 6: 93\n",
      "  label 7: 30\n",
      "  label 8: 68\n",
      "  label 9: 30\n",
      "  label 10: 67\n",
      "  label 11: 169\n",
      "  label 12: 189\n",
      "  label 13: 29\n",
      "  label 14: 22\n",
      "  label 15: 25\n",
      "  label 16: 19\n",
      "  label 17: 181\n",
      "  label 18: 92\n",
      "  label 19: 44\n",
      "  label 20: 14\n",
      "  label 21: 35\n",
      "  label 22: 76\n",
      "  label 23: 158\n",
      "  label 24: 13\n",
      "  label 25: 44\n",
      "  label 26: 84\n",
      "  label 27: 47\n",
      "  label 28: 11\n",
      "  label 29: 13\n",
      "  label 30: 11\n",
      "  label 31: 75\n",
      "  label 32: 36\n",
      "  label 33: 31\n",
      "  label 34: 30\n",
      "  label 35: 11\n",
      "  label 36: 22\n",
      "  label 37: 16\n",
      "  label 38: 5\n",
      "  label 39: 33\n",
      "  label 40: 10\n",
      "  label 41: 9\n",
      "  label 42: 57\n",
      "  label 43: 7\n",
      "  label 44: 18\n",
      "  label 45: 9\n",
      "  label 46: 54\n",
      "  label 47: 242\n",
      "  label 48: 61\n",
      "  label 49: 68\n",
      "model is microsoft/deberta-base\n"
     ]
    },
    {
     "name": "stderr",
     "output_type": "stream",
     "text": [
      "Some weights of DebertaForSequenceClassification were not initialized from the model checkpoint at microsoft/deberta-base and are newly initialized: ['classifier.bias', 'classifier.weight', 'pooler.dense.bias', 'pooler.dense.weight']\n",
      "You should probably TRAIN this model on a down-stream task to be able to use it for predictions and inference.\n"
     ]
    },
    {
     "name": "stdout",
     "output_type": "stream",
     "text": [
      "Epoch 1/20\n"
     ]
    },
    {
     "name": "stderr",
     "output_type": "stream",
     "text": [
      "100%|██████████| 328/328 [00:33<00:00,  9.84it/s]\n"
     ]
    },
    {
     "name": "stdout",
     "output_type": "stream",
     "text": [
      "{'val_loss': 1.9423335027403947, 'val_accuracy': 0.5446906035141329, 'precision': 0.36229860499763045, 'recall': 0.5446906035141329, 'f1-score': 0.4171135242421527, 'macro_f1-score': 0.05755920732644279, 'balanced_accuracy': 0.06476059992017438, 'mcc': 0.3078398475836205, 'train_loss': 2.2680312625882104}\n",
      "Epoch 2/20\n"
     ]
    },
    {
     "name": "stderr",
     "output_type": "stream",
     "text": [
      "100%|██████████| 328/328 [00:33<00:00,  9.86it/s]\n"
     ]
    },
    {
     "name": "stdout",
     "output_type": "stream",
     "text": [
      "{'val_loss': 1.5983543435974819, 'val_accuracy': 0.5920550038197097, 'precision': 0.5230206230040908, 'recall': 0.5920550038197097, 'f1-score': 0.5135821589548955, 'macro_f1-score': 0.1567313991246796, 'balanced_accuracy': 0.1547690425662748, 'mcc': 0.4156605764768972, 'train_loss': 1.7047154887056932}\n",
      "Epoch 3/20\n"
     ]
    },
    {
     "name": "stderr",
     "output_type": "stream",
     "text": [
      "100%|██████████| 328/328 [00:33<00:00,  9.88it/s]\n"
     ]
    },
    {
     "name": "stdout",
     "output_type": "stream",
     "text": [
      "{'val_loss': 1.5185137242078781, 'val_accuracy': 0.6027501909854851, 'precision': 0.5724263419109304, 'recall': 0.6027501909854851, 'f1-score': 0.5661253004361405, 'macro_f1-score': 0.22369032742737666, 'balanced_accuracy': 0.23527786043155366, 'mcc': 0.4727635682597232, 'train_loss': 1.2774463538534757}\n",
      "Epoch 4/20\n"
     ]
    },
    {
     "name": "stderr",
     "output_type": "stream",
     "text": [
      "100%|██████████| 328/328 [00:33<00:00,  9.84it/s]\n"
     ]
    },
    {
     "name": "stdout",
     "output_type": "stream",
     "text": [
      "{'val_loss': 1.485219657057669, 'val_accuracy': 0.6165011459129106, 'precision': 0.5850908042700479, 'recall': 0.6165011459129106, 'f1-score': 0.5894477572439102, 'macro_f1-score': 0.2751288574595746, 'balanced_accuracy': 0.27980544377602484, 'mcc': 0.4932762009174367, 'train_loss': 0.9821680762418886}\n",
      "Epoch 5/20\n"
     ]
    },
    {
     "name": "stderr",
     "output_type": "stream",
     "text": [
      "100%|██████████| 328/328 [00:33<00:00,  9.88it/s]\n"
     ]
    },
    {
     "name": "stdout",
     "output_type": "stream",
     "text": [
      "{'val_loss': 1.6971559148372672, 'val_accuracy': 0.6340718105423988, 'precision': 0.5978555353339715, 'recall': 0.6340718105423988, 'f1-score': 0.5799122286633476, 'macro_f1-score': 0.2681884511816971, 'balanced_accuracy': 0.2407723166999071, 'mcc': 0.48913528376509235, 'train_loss': 0.7130696098433762}\n",
      "Epoch 6/20\n"
     ]
    },
    {
     "name": "stderr",
     "output_type": "stream",
     "text": [
      "100%|██████████| 328/328 [00:33<00:00,  9.88it/s]\n"
     ]
    },
    {
     "name": "stdout",
     "output_type": "stream",
     "text": [
      "{'val_loss': 1.849691819127013, 'val_accuracy': 0.6310160427807486, 'precision': 0.5941054624171808, 'recall': 0.6310160427807486, 'f1-score': 0.5876681751195872, 'macro_f1-score': 0.2933225174086849, 'balanced_accuracy': 0.26558971028403566, 'mcc': 0.4851257995044101, 'train_loss': 0.5646492382284345}\n",
      "Epoch 7/20\n"
     ]
    },
    {
     "name": "stderr",
     "output_type": "stream",
     "text": [
      "100%|██████████| 328/328 [00:33<00:00,  9.84it/s]\n"
     ]
    },
    {
     "name": "stdout",
     "output_type": "stream",
     "text": [
      "{'val_loss': 1.6965160856886607, 'val_accuracy': 0.6325439266615738, 'precision': 0.6358541151399352, 'recall': 0.6325439266615738, 'f1-score': 0.6235968888133108, 'macro_f1-score': 0.32527417071000075, 'balanced_accuracy': 0.32147895055745324, 'mcc': 0.5209078195675227, 'train_loss': 0.34972483556286044}\n",
      "Epoch 8/20\n"
     ]
    },
    {
     "name": "stderr",
     "output_type": "stream",
     "text": [
      "100%|██████████| 328/328 [00:33<00:00,  9.87it/s]\n"
     ]
    },
    {
     "name": "stdout",
     "output_type": "stream",
     "text": [
      "{'val_loss': 1.8407026507505557, 'val_accuracy': 0.6172650878533231, 'precision': 0.6286848005803408, 'recall': 0.6172650878533231, 'f1-score': 0.6133119341505642, 'macro_f1-score': 0.3388629094329682, 'balanced_accuracy': 0.347053149802925, 'mcc': 0.5078290603667502, 'train_loss': 0.2563103032695902}\n",
      "Epoch 9/20\n"
     ]
    },
    {
     "name": "stderr",
     "output_type": "stream",
     "text": [
      "100%|██████████| 328/328 [00:33<00:00,  9.85it/s]\n"
     ]
    },
    {
     "name": "stdout",
     "output_type": "stream",
     "text": [
      "{'val_loss': 1.8740359913648628, 'val_accuracy': 0.6302521008403361, 'precision': 0.6488604137360428, 'recall': 0.6302521008403361, 'f1-score': 0.6319909301588853, 'macro_f1-score': 0.3865778131647013, 'balanced_accuracy': 0.38589697688344665, 'mcc': 0.5216133454736663, 'train_loss': 0.21922455789952924}\n",
      "Epoch 10/20\n"
     ]
    },
    {
     "name": "stderr",
     "output_type": "stream",
     "text": [
      "100%|██████████| 328/328 [00:33<00:00,  9.87it/s]\n"
     ]
    },
    {
     "name": "stdout",
     "output_type": "stream",
     "text": [
      "{'val_loss': 2.023199640032722, 'val_accuracy': 0.6019862490450726, 'precision': 0.6296120125366201, 'recall': 0.6019862490450726, 'f1-score': 0.6035621996456458, 'macro_f1-score': 0.3432196727749757, 'balanced_accuracy': 0.36360261568469837, 'mcc': 0.4927121265499495, 'train_loss': 0.1775392735910761}\n",
      "Epoch 11/20\n"
     ]
    },
    {
     "name": "stderr",
     "output_type": "stream",
     "text": [
      "100%|██████████| 328/328 [00:33<00:00,  9.85it/s]\n"
     ]
    },
    {
     "name": "stdout",
     "output_type": "stream",
     "text": [
      "{'val_loss': 2.0677987166294236, 'val_accuracy': 0.6180290297937356, 'precision': 0.6252743171526813, 'recall': 0.6180290297937356, 'f1-score': 0.6124884474741602, 'macro_f1-score': 0.3764660275410415, 'balanced_accuracy': 0.3850309750632659, 'mcc': 0.5048380274904803, 'train_loss': 0.13873065146795055}\n",
      "Epoch 12/20\n"
     ]
    },
    {
     "name": "stderr",
     "output_type": "stream",
     "text": [
      "100%|██████████| 328/328 [00:33<00:00,  9.87it/s]\n"
     ]
    },
    {
     "name": "stdout",
     "output_type": "stream",
     "text": [
      "{'val_loss': 1.9953772114907824, 'val_accuracy': 0.6310160427807486, 'precision': 0.6368045610599185, 'recall': 0.6310160427807486, 'f1-score': 0.6231936316754825, 'macro_f1-score': 0.3645597007452847, 'balanced_accuracy': 0.35530810036836025, 'mcc': 0.5127762402224377, 'train_loss': 0.13346382888053862}\n",
      "Early stopping.\n",
      "\n",
      "[Fold 5]\n",
      "Label distribution after resampling:\n",
      "  label 0: 2466\n",
      "  label 1: 22\n",
      "  label 2: 64\n",
      "  label 3: 24\n",
      "  label 4: 190\n",
      "  label 5: 113\n",
      "  label 6: 93\n",
      "  label 7: 30\n",
      "  label 8: 68\n",
      "  label 9: 30\n",
      "  label 10: 67\n",
      "  label 11: 169\n",
      "  label 12: 189\n",
      "  label 13: 29\n",
      "  label 14: 23\n",
      "  label 15: 24\n",
      "  label 16: 20\n",
      "  label 17: 180\n",
      "  label 18: 92\n",
      "  label 19: 44\n",
      "  label 20: 14\n",
      "  label 21: 35\n",
      "  label 22: 76\n",
      "  label 23: 157\n",
      "  label 24: 13\n",
      "  label 25: 44\n",
      "  label 26: 84\n",
      "  label 27: 47\n",
      "  label 28: 11\n",
      "  label 29: 13\n",
      "  label 30: 11\n",
      "  label 31: 75\n",
      "  label 32: 36\n",
      "  label 33: 31\n",
      "  label 34: 30\n",
      "  label 35: 11\n",
      "  label 36: 22\n",
      "  label 37: 16\n",
      "  label 38: 6\n",
      "  label 39: 33\n",
      "  label 40: 10\n",
      "  label 41: 9\n",
      "  label 42: 57\n",
      "  label 43: 6\n",
      "  label 44: 18\n",
      "  label 45: 9\n",
      "  label 46: 54\n",
      "  label 47: 242\n",
      "  label 48: 62\n",
      "  label 49: 68\n",
      "model is microsoft/deberta-base\n"
     ]
    },
    {
     "name": "stderr",
     "output_type": "stream",
     "text": [
      "Some weights of DebertaForSequenceClassification were not initialized from the model checkpoint at microsoft/deberta-base and are newly initialized: ['classifier.bias', 'classifier.weight', 'pooler.dense.bias', 'pooler.dense.weight']\n",
      "You should probably TRAIN this model on a down-stream task to be able to use it for predictions and inference.\n"
     ]
    },
    {
     "name": "stdout",
     "output_type": "stream",
     "text": [
      "Epoch 1/20\n"
     ]
    },
    {
     "name": "stderr",
     "output_type": "stream",
     "text": [
      "100%|██████████| 328/328 [00:33<00:00,  9.86it/s]\n"
     ]
    },
    {
     "name": "stdout",
     "output_type": "stream",
     "text": [
      "{'val_loss': 1.8798998590649627, 'val_accuracy': 0.5569136745607334, 'precision': 0.36802306983109573, 'recall': 0.5569136745607334, 'f1-score': 0.4274741860568681, 'macro_f1-score': 0.062077767621614564, 'balanced_accuracy': 0.07439916243177112, 'mcc': 0.33521612134940365, 'train_loss': 2.2393562968184306}\n",
      "Epoch 2/20\n"
     ]
    },
    {
     "name": "stderr",
     "output_type": "stream",
     "text": [
      "100%|██████████| 328/328 [00:33<00:00,  9.85it/s]\n"
     ]
    },
    {
     "name": "stdout",
     "output_type": "stream",
     "text": [
      "{'val_loss': 1.560298460649281, 'val_accuracy': 0.5966386554621849, 'precision': 0.4767772284523667, 'recall': 0.5966386554621849, 'f1-score': 0.5118048058279302, 'macro_f1-score': 0.13895980194350535, 'balanced_accuracy': 0.1488333623235023, 'mcc': 0.4219100042641807, 'train_loss': 1.6179651885134418}\n",
      "Epoch 3/20\n"
     ]
    },
    {
     "name": "stderr",
     "output_type": "stream",
     "text": [
      "100%|██████████| 328/328 [00:33<00:00,  9.88it/s]\n"
     ]
    },
    {
     "name": "stdout",
     "output_type": "stream",
     "text": [
      "{'val_loss': 1.4628636600767695, 'val_accuracy': 0.6157372039724981, 'precision': 0.5604734871507027, 'recall': 0.6157372039724981, 'f1-score': 0.5661741918316503, 'macro_f1-score': 0.22084395327836728, 'balanced_accuracy': 0.22425567401220248, 'mcc': 0.4707723196184375, 'train_loss': 1.2555982163403092}\n",
      "Epoch 4/20\n"
     ]
    },
    {
     "name": "stderr",
     "output_type": "stream",
     "text": [
      "100%|██████████| 328/328 [00:33<00:00,  9.88it/s]\n"
     ]
    },
    {
     "name": "stdout",
     "output_type": "stream",
     "text": [
      "{'val_loss': 1.5336380982544364, 'val_accuracy': 0.6149732620320856, 'precision': 0.5923904526712953, 'recall': 0.6149732620320856, 'f1-score': 0.5884766978257802, 'macro_f1-score': 0.2882813111620517, 'balanced_accuracy': 0.28879592169022106, 'mcc': 0.48484797846676664, 'train_loss': 0.9200012497603893}\n",
      "Epoch 5/20\n"
     ]
    },
    {
     "name": "stderr",
     "output_type": "stream",
     "text": [
      "100%|██████████| 328/328 [00:33<00:00,  9.82it/s]\n"
     ]
    },
    {
     "name": "stdout",
     "output_type": "stream",
     "text": [
      "{'val_loss': 1.5271425078191407, 'val_accuracy': 0.6134453781512605, 'precision': 0.6298450358887266, 'recall': 0.6134453781512605, 'f1-score': 0.6113760401491722, 'macro_f1-score': 0.333003042281045, 'balanced_accuracy': 0.34399617752239237, 'mcc': 0.5069714993681169, 'train_loss': 0.6694048529990563}\n",
      "Epoch 6/20\n"
     ]
    },
    {
     "name": "stderr",
     "output_type": "stream",
     "text": [
      "100%|██████████| 328/328 [00:33<00:00,  9.88it/s]\n"
     ]
    },
    {
     "name": "stdout",
     "output_type": "stream",
     "text": [
      "{'val_loss': 1.7026264424004205, 'val_accuracy': 0.6355996944232238, 'precision': 0.6200396022332416, 'recall': 0.6355996944232238, 'f1-score': 0.612669510394321, 'macro_f1-score': 0.3602654215404551, 'balanced_accuracy': 0.3423736671077834, 'mcc': 0.5050470152447798, 'train_loss': 0.48066619681705514}\n",
      "Epoch 7/20\n"
     ]
    },
    {
     "name": "stderr",
     "output_type": "stream",
     "text": [
      "100%|██████████| 328/328 [00:33<00:00,  9.85it/s]\n"
     ]
    },
    {
     "name": "stdout",
     "output_type": "stream",
     "text": [
      "{'val_loss': 1.788218968343444, 'val_accuracy': 0.6386554621848739, 'precision': 0.6156389573423722, 'recall': 0.6386554621848739, 'f1-score': 0.615886392764499, 'macro_f1-score': 0.34341406178026085, 'balanced_accuracy': 0.33317118233466325, 'mcc': 0.5116088847467524, 'train_loss': 0.31123109733424625}\n",
      "Epoch 8/20\n"
     ]
    },
    {
     "name": "stderr",
     "output_type": "stream",
     "text": [
      "100%|██████████| 328/328 [00:33<00:00,  9.86it/s]\n"
     ]
    },
    {
     "name": "stdout",
     "output_type": "stream",
     "text": [
      "{'val_loss': 1.901953717012231, 'val_accuracy': 0.6409472880061116, 'precision': 0.6165770392247129, 'recall': 0.6409472880061116, 'f1-score': 0.6182064428730868, 'macro_f1-score': 0.34830410374387555, 'balanced_accuracy': 0.34238242243017447, 'mcc': 0.5112296413374722, 'train_loss': 0.23527697746914517}\n",
      "Epoch 9/20\n"
     ]
    },
    {
     "name": "stderr",
     "output_type": "stream",
     "text": [
      "100%|██████████| 328/328 [00:33<00:00,  9.85it/s]\n"
     ]
    },
    {
     "name": "stdout",
     "output_type": "stream",
     "text": [
      "{'val_loss': 1.9163772312969696, 'val_accuracy': 0.6249045072574484, 'precision': 0.6165785378384429, 'recall': 0.6249045072574484, 'f1-score': 0.6057044339276558, 'macro_f1-score': 0.36706347264283223, 'balanced_accuracy': 0.35447760652697385, 'mcc': 0.49342129139671576, 'train_loss': 0.17925130792825325}\n",
      "Epoch 10/20\n"
     ]
    },
    {
     "name": "stderr",
     "output_type": "stream",
     "text": [
      "100%|██████████| 328/328 [00:33<00:00,  9.87it/s]\n"
     ]
    },
    {
     "name": "stdout",
     "output_type": "stream",
     "text": [
      "{'val_loss': 2.086558795375068, 'val_accuracy': 0.6348357524828113, 'precision': 0.6394411916412424, 'recall': 0.6348357524828113, 'f1-score': 0.6218241812943239, 'macro_f1-score': 0.3638826865643137, 'balanced_accuracy': 0.3611377693924807, 'mcc': 0.5071789875710496, 'train_loss': 0.1498411626401698}\n",
      "Epoch 11/20\n"
     ]
    },
    {
     "name": "stderr",
     "output_type": "stream",
     "text": [
      "100%|██████████| 328/328 [00:33<00:00,  9.88it/s]\n"
     ]
    },
    {
     "name": "stdout",
     "output_type": "stream",
     "text": [
      "{'val_loss': 1.9873159716768962, 'val_accuracy': 0.6119174942704354, 'precision': 0.6446932077088077, 'recall': 0.6119174942704354, 'f1-score': 0.6146255023908368, 'macro_f1-score': 0.3601982327186313, 'balanced_accuracy': 0.3756989296654797, 'mcc': 0.5009373975396705, 'train_loss': 0.13669246341962163}\n",
      "Epoch 12/20\n"
     ]
    },
    {
     "name": "stderr",
     "output_type": "stream",
     "text": [
      "100%|██████████| 328/328 [00:33<00:00,  9.86it/s]\n"
     ]
    },
    {
     "name": "stdout",
     "output_type": "stream",
     "text": [
      "{'val_loss': 2.0837239357756405, 'val_accuracy': 0.6317799847211611, 'precision': 0.6233473328144147, 'recall': 0.6317799847211611, 'f1-score': 0.6191469966508948, 'macro_f1-score': 0.3778046993342923, 'balanced_accuracy': 0.3679654241004354, 'mcc': 0.5066557218626936, 'train_loss': 0.12726421722015024}\n",
      "Epoch 13/20\n"
     ]
    },
    {
     "name": "stderr",
     "output_type": "stream",
     "text": [
      "100%|██████████| 328/328 [00:33<00:00,  9.88it/s]\n"
     ]
    },
    {
     "name": "stdout",
     "output_type": "stream",
     "text": [
      "{'val_loss': 2.237049569262237, 'val_accuracy': 0.6394194041252865, 'precision': 0.612647848644054, 'recall': 0.6394194041252865, 'f1-score': 0.607667871407763, 'macro_f1-score': 0.3646751311090247, 'balanced_accuracy': 0.34187166542645075, 'mcc': 0.5010775562990423, 'train_loss': 0.1231481036563154}\n",
      "Epoch 14/20\n"
     ]
    },
    {
     "name": "stderr",
     "output_type": "stream",
     "text": [
      "100%|██████████| 328/328 [00:33<00:00,  9.88it/s]\n"
     ]
    },
    {
     "name": "stdout",
     "output_type": "stream",
     "text": [
      "{'val_loss': 2.220024486867393, 'val_accuracy': 0.6447669977081741, 'precision': 0.6332119775045633, 'recall': 0.6447669977081741, 'f1-score': 0.6311316336031189, 'macro_f1-score': 0.3937920735110211, 'balanced_accuracy': 0.3845807694758092, 'mcc': 0.5270488676122419, 'train_loss': 0.097509510138657}\n",
      "Epoch 15/20\n"
     ]
    },
    {
     "name": "stderr",
     "output_type": "stream",
     "text": [
      "100%|██████████| 328/328 [00:33<00:00,  9.83it/s]\n"
     ]
    },
    {
     "name": "stdout",
     "output_type": "stream",
     "text": [
      "{'val_loss': 2.320404431805378, 'val_accuracy': 0.6103896103896104, 'precision': 0.6458045393982831, 'recall': 0.6103896103896104, 'f1-score': 0.619166612922744, 'macro_f1-score': 0.3978959109421162, 'balanced_accuracy': 0.39988088206643857, 'mcc': 0.5038497579811804, 'train_loss': 0.13128455821211768}\n",
      "Epoch 16/20\n"
     ]
    },
    {
     "name": "stderr",
     "output_type": "stream",
     "text": [
      "100%|██████████| 328/328 [00:33<00:00,  9.86it/s]\n"
     ]
    },
    {
     "name": "stdout",
     "output_type": "stream",
     "text": [
      "{'val_loss': 2.3944139382461223, 'val_accuracy': 0.6455309396485867, 'precision': 0.6136050609586212, 'recall': 0.6455309396485867, 'f1-score': 0.6145782429127155, 'macro_f1-score': 0.3675855287325083, 'balanced_accuracy': 0.3353468395956954, 'mcc': 0.5107934868291453, 'train_loss': 0.06700315390693637}\n",
      "Epoch 17/20\n"
     ]
    },
    {
     "name": "stderr",
     "output_type": "stream",
     "text": [
      "100%|██████████| 328/328 [00:33<00:00,  9.86it/s]\n"
     ]
    },
    {
     "name": "stdout",
     "output_type": "stream",
     "text": [
      "{'val_loss': 2.425076996407858, 'val_accuracy': 0.6386554621848739, 'precision': 0.6350127873908056, 'recall': 0.6386554621848739, 'f1-score': 0.6277305070304787, 'macro_f1-score': 0.3962935673635777, 'balanced_accuracy': 0.3718198899072839, 'mcc': 0.5168027934295353, 'train_loss': 0.05669568286780637}\n",
      "Epoch 18/20\n"
     ]
    },
    {
     "name": "stderr",
     "output_type": "stream",
     "text": [
      "100%|██████████| 328/328 [00:33<00:00,  9.85it/s]\n"
     ]
    },
    {
     "name": "stdout",
     "output_type": "stream",
     "text": [
      "{'val_loss': 2.3691730079490965, 'val_accuracy': 0.6409472880061116, 'precision': 0.6407177144412475, 'recall': 0.6409472880061116, 'f1-score': 0.6313556742169905, 'macro_f1-score': 0.4112890206764368, 'balanced_accuracy': 0.3884443240162719, 'mcc': 0.5210417315734407, 'train_loss': 0.060487294997828275}\n",
      "Epoch 19/20\n"
     ]
    },
    {
     "name": "stderr",
     "output_type": "stream",
     "text": [
      "100%|██████████| 328/328 [00:33<00:00,  9.85it/s]\n"
     ]
    },
    {
     "name": "stdout",
     "output_type": "stream",
     "text": [
      "{'val_loss': 2.366134509989401, 'val_accuracy': 0.6333078686019863, 'precision': 0.6279532536704633, 'recall': 0.6333078686019863, 'f1-score': 0.6231327288006869, 'macro_f1-score': 0.402289975250935, 'balanced_accuracy': 0.40421447174667663, 'mcc': 0.5168543303010043, 'train_loss': 0.06322634246600678}\n",
      "Epoch 20/20\n"
     ]
    },
    {
     "name": "stderr",
     "output_type": "stream",
     "text": [
      "100%|██████████| 328/328 [00:33<00:00,  9.88it/s]\n"
     ]
    },
    {
     "name": "stdout",
     "output_type": "stream",
     "text": [
      "{'val_loss': 2.4575066660962452, 'val_accuracy': 0.6187929717341482, 'precision': 0.6210652830413146, 'recall': 0.6187929717341482, 'f1-score': 0.6107157521881379, 'macro_f1-score': 0.3769328999082716, 'balanced_accuracy': 0.36311155149945695, 'mcc': 0.49262547932851225, 'train_loss': 0.04641499846876264}\n",
      "\n",
      " === microsoft/deberta-base + plain + none Final 5-fold Cross-Validation Results ===\n",
      "val_loss: 1.8773\n",
      "val_accuracy: 0.6413\n",
      "precision: 0.6428\n",
      "recall: 0.6413\n",
      "f1-score: 0.6319\n",
      "macro_f1-score: 0.3782\n",
      "balanced_accuracy: 0.3704\n",
      "mcc: 0.5263\n",
      "train_loss: 0.2876\n",
      "total_seconds: 2319.0000\n",
      "total_time: 0 hrs 38 mins 39 secs\n",
      "▶ Running: microsoft/deberta-base + cnn + none\n",
      "tokenizer is microsoft/deberta-base\n",
      "Using device: cuda\n",
      "CUDA Available: True\n",
      "CUDA Device: NVIDIA GeForce RTX 5070 Ti\n",
      "Current GPU Memory Allocated: 0.02 GB\n",
      "Current GPU Memory Cached: 5.14 GB\n",
      "\n",
      "[Fold 1]\n",
      "Label distribution after resampling:\n",
      "  label 0: 2465\n",
      "  label 1: 22\n",
      "  label 2: 64\n",
      "  label 3: 24\n",
      "  label 4: 190\n",
      "  label 5: 112\n",
      "  label 6: 93\n",
      "  label 7: 30\n",
      "  label 8: 68\n",
      "  label 9: 30\n",
      "  label 10: 67\n",
      "  label 11: 169\n",
      "  label 12: 190\n",
      "  label 13: 28\n",
      "  label 14: 23\n",
      "  label 15: 25\n",
      "  label 16: 19\n",
      "  label 17: 181\n",
      "  label 18: 92\n",
      "  label 19: 44\n",
      "  label 20: 14\n",
      "  label 21: 35\n",
      "  label 22: 76\n",
      "  label 23: 157\n",
      "  label 24: 13\n",
      "  label 25: 44\n",
      "  label 26: 84\n",
      "  label 27: 47\n",
      "  label 28: 11\n",
      "  label 29: 13\n",
      "  label 30: 11\n",
      "  label 31: 76\n",
      "  label 32: 36\n",
      "  label 33: 32\n",
      "  label 34: 29\n",
      "  label 35: 11\n",
      "  label 36: 22\n",
      "  label 37: 16\n",
      "  label 38: 6\n",
      "  label 39: 32\n",
      "  label 40: 10\n",
      "  label 41: 9\n",
      "  label 42: 57\n",
      "  label 43: 6\n",
      "  label 44: 19\n",
      "  label 45: 8\n",
      "  label 46: 55\n",
      "  label 47: 241\n",
      "  label 48: 62\n",
      "  label 49: 68\n",
      "model is microsoft/deberta-base cnn\n",
      "Epoch 1/20\n"
     ]
    },
    {
     "name": "stderr",
     "output_type": "stream",
     "text": [
      "100%|██████████| 328/328 [00:34<00:00,  9.48it/s]\n"
     ]
    },
    {
     "name": "stdout",
     "output_type": "stream",
     "text": [
      "{'val_loss': 1.9191454721660148, 'val_accuracy': 0.5473282442748092, 'precision': 0.359604433816036, 'recall': 0.5473282442748092, 'f1-score': 0.4250738857680408, 'macro_f1-score': 0.06012192226832653, 'balanced_accuracy': 0.0711491437034144, 'mcc': 0.3188829036852945, 'train_loss': 2.291534777821564}\n",
      "Epoch 2/20\n"
     ]
    },
    {
     "name": "stderr",
     "output_type": "stream",
     "text": [
      "100%|██████████| 328/328 [00:34<00:00,  9.51it/s]\n"
     ]
    },
    {
     "name": "stdout",
     "output_type": "stream",
     "text": [
      "{'val_loss': 1.7469945070220203, 'val_accuracy': 0.5755725190839694, 'precision': 0.43121709616593284, 'recall': 0.5755725190839694, 'f1-score': 0.47850425131608415, 'macro_f1-score': 0.10168329498411648, 'balanced_accuracy': 0.11747220619758277, 'mcc': 0.390343799198304, 'train_loss': 1.8755897579760086}\n",
      "Epoch 3/20\n"
     ]
    },
    {
     "name": "stderr",
     "output_type": "stream",
     "text": [
      "100%|██████████| 328/328 [00:34<00:00,  9.51it/s]\n"
     ]
    },
    {
     "name": "stdout",
     "output_type": "stream",
     "text": [
      "{'val_loss': 1.7856216216232719, 'val_accuracy': 0.5916030534351145, 'precision': 0.48118917481153684, 'recall': 0.5916030534351145, 'f1-score': 0.4996590747755739, 'macro_f1-score': 0.15750002584519004, 'balanced_accuracy': 0.15185118140837253, 'mcc': 0.4042222763156653, 'train_loss': 1.563530348968215}\n",
      "Epoch 4/20\n"
     ]
    },
    {
     "name": "stderr",
     "output_type": "stream",
     "text": [
      "100%|██████████| 328/328 [00:34<00:00,  9.49it/s]\n"
     ]
    },
    {
     "name": "stdout",
     "output_type": "stream",
     "text": [
      "{'val_loss': 1.5763198057325876, 'val_accuracy': 0.5877862595419847, 'precision': 0.5625709016081595, 'recall': 0.5877862595419847, 'f1-score': 0.5611273691043188, 'macro_f1-score': 0.22160322432175963, 'balanced_accuracy': 0.24242960597373941, 'mcc': 0.461040448508112, 'train_loss': 1.3084161575974487}\n",
      "Epoch 5/20\n"
     ]
    },
    {
     "name": "stderr",
     "output_type": "stream",
     "text": [
      "100%|██████████| 328/328 [00:34<00:00,  9.50it/s]\n"
     ]
    },
    {
     "name": "stdout",
     "output_type": "stream",
     "text": [
      "{'val_loss': 1.5444219646657384, 'val_accuracy': 0.601526717557252, 'precision': 0.5593674860391583, 'recall': 0.601526717557252, 'f1-score': 0.5661403114137203, 'macro_f1-score': 0.23664429420757138, 'balanced_accuracy': 0.2397217783729921, 'mcc': 0.4538508239090174, 'train_loss': 1.1094679032883994}\n",
      "Epoch 6/20\n"
     ]
    },
    {
     "name": "stderr",
     "output_type": "stream",
     "text": [
      "100%|██████████| 328/328 [00:34<00:00,  9.48it/s]\n"
     ]
    },
    {
     "name": "stdout",
     "output_type": "stream",
     "text": [
      "{'val_loss': 1.6999462572176283, 'val_accuracy': 0.6312977099236641, 'precision': 0.5808865633792938, 'recall': 0.6312977099236641, 'f1-score': 0.5760160085221697, 'macro_f1-score': 0.2543177787773124, 'balanced_accuracy': 0.23734494865019667, 'mcc': 0.48028457121357937, 'train_loss': 0.9036465996376625}\n",
      "Epoch 7/20\n"
     ]
    },
    {
     "name": "stderr",
     "output_type": "stream",
     "text": [
      "100%|██████████| 328/328 [00:34<00:00,  9.51it/s]\n"
     ]
    },
    {
     "name": "stdout",
     "output_type": "stream",
     "text": [
      "{'val_loss': 1.6457741424077894, 'val_accuracy': 0.6206106870229008, 'precision': 0.5905854407848303, 'recall': 0.6206106870229008, 'f1-score': 0.593910627165715, 'macro_f1-score': 0.2812929006281257, 'balanced_accuracy': 0.27682279202769544, 'mcc': 0.4841016193789886, 'train_loss': 0.7230133953299828}\n",
      "Epoch 8/20\n"
     ]
    },
    {
     "name": "stderr",
     "output_type": "stream",
     "text": [
      "100%|██████████| 328/328 [00:34<00:00,  9.48it/s]\n"
     ]
    },
    {
     "name": "stdout",
     "output_type": "stream",
     "text": [
      "{'val_loss': 1.621186063057039, 'val_accuracy': 0.6404580152671756, 'precision': 0.6211726944008295, 'recall': 0.6404580152671756, 'f1-score': 0.614905548130089, 'macro_f1-score': 0.3084133833555683, 'balanced_accuracy': 0.3027512582972624, 'mcc': 0.5141043233724785, 'train_loss': 0.595564292107777}\n",
      "Epoch 9/20\n"
     ]
    },
    {
     "name": "stderr",
     "output_type": "stream",
     "text": [
      "100%|██████████| 328/328 [00:34<00:00,  9.50it/s]\n"
     ]
    },
    {
     "name": "stdout",
     "output_type": "stream",
     "text": [
      "{'val_loss': 1.6785107658403675, 'val_accuracy': 0.6351145038167939, 'precision': 0.6347543592874807, 'recall': 0.6351145038167939, 'f1-score': 0.6264851350341665, 'macro_f1-score': 0.36140274478685486, 'balanced_accuracy': 0.37200798226624543, 'mcc': 0.5200800992165718, 'train_loss': 0.47501683416889934}\n",
      "Epoch 10/20\n"
     ]
    },
    {
     "name": "stderr",
     "output_type": "stream",
     "text": [
      "100%|██████████| 328/328 [00:34<00:00,  9.51it/s]\n"
     ]
    },
    {
     "name": "stdout",
     "output_type": "stream",
     "text": [
      "{'val_loss': 1.8337600492849582, 'val_accuracy': 0.648854961832061, 'precision': 0.6465318113593135, 'recall': 0.648854961832061, 'f1-score': 0.6320775364658574, 'macro_f1-score': 0.3624196473954604, 'balanced_accuracy': 0.3571183033187224, 'mcc': 0.5268086580651301, 'train_loss': 0.3512934324865388}\n",
      "Epoch 11/20\n"
     ]
    },
    {
     "name": "stderr",
     "output_type": "stream",
     "text": [
      "100%|██████████| 328/328 [00:34<00:00,  9.49it/s]\n"
     ]
    },
    {
     "name": "stdout",
     "output_type": "stream",
     "text": [
      "{'val_loss': 1.834913762967761, 'val_accuracy': 0.6229007633587786, 'precision': 0.6174009449117407, 'recall': 0.6229007633587786, 'f1-score': 0.6121823039377934, 'macro_f1-score': 0.34528537660024033, 'balanced_accuracy': 0.3512146477165903, 'mcc': 0.5031697737648652, 'train_loss': 0.328763005102235}\n",
      "Epoch 12/20\n"
     ]
    },
    {
     "name": "stderr",
     "output_type": "stream",
     "text": [
      "100%|██████████| 328/328 [00:34<00:00,  9.52it/s]\n"
     ]
    },
    {
     "name": "stdout",
     "output_type": "stream",
     "text": [
      "{'val_loss': 1.8717890276414593, 'val_accuracy': 0.6175572519083969, 'precision': 0.6460878422490088, 'recall': 0.6175572519083969, 'f1-score': 0.6208094577148887, 'macro_f1-score': 0.35544888589672496, 'balanced_accuracy': 0.36127973846098066, 'mcc': 0.5099643377913552, 'train_loss': 0.2805888128307898}\n",
      "Epoch 13/20\n"
     ]
    },
    {
     "name": "stderr",
     "output_type": "stream",
     "text": [
      "100%|██████████| 328/328 [00:34<00:00,  9.52it/s]\n"
     ]
    },
    {
     "name": "stdout",
     "output_type": "stream",
     "text": [
      "{'val_loss': 1.990213189183212, 'val_accuracy': 0.6473282442748092, 'precision': 0.641418507989793, 'recall': 0.6473282442748092, 'f1-score': 0.6289025723637801, 'macro_f1-score': 0.3434564903236656, 'balanced_accuracy': 0.3239479262569152, 'mcc': 0.5207278920082461, 'train_loss': 0.21930569083935286}\n",
      "Early stopping.\n",
      "\n",
      "[Fold 2]\n",
      "Label distribution after resampling:\n",
      "  label 0: 2465\n",
      "  label 1: 22\n",
      "  label 2: 64\n",
      "  label 3: 24\n",
      "  label 4: 190\n",
      "  label 5: 113\n",
      "  label 6: 93\n",
      "  label 7: 31\n",
      "  label 8: 68\n",
      "  label 9: 29\n",
      "  label 10: 67\n",
      "  label 11: 169\n",
      "  label 12: 190\n",
      "  label 13: 29\n",
      "  label 14: 22\n",
      "  label 15: 25\n",
      "  label 16: 19\n",
      "  label 17: 181\n",
      "  label 18: 92\n",
      "  label 19: 44\n",
      "  label 20: 13\n",
      "  label 21: 35\n",
      "  label 22: 76\n",
      "  label 23: 158\n",
      "  label 24: 13\n",
      "  label 25: 44\n",
      "  label 26: 84\n",
      "  label 27: 47\n",
      "  label 28: 12\n",
      "  label 29: 12\n",
      "  label 30: 12\n",
      "  label 31: 75\n",
      "  label 32: 36\n",
      "  label 33: 31\n",
      "  label 34: 29\n",
      "  label 35: 12\n",
      "  label 36: 21\n",
      "  label 37: 16\n",
      "  label 38: 6\n",
      "  label 39: 33\n",
      "  label 40: 11\n",
      "  label 41: 8\n",
      "  label 42: 56\n",
      "  label 43: 6\n",
      "  label 44: 19\n",
      "  label 45: 9\n",
      "  label 46: 55\n",
      "  label 47: 241\n",
      "  label 48: 62\n",
      "  label 49: 68\n",
      "model is microsoft/deberta-base cnn\n",
      "Epoch 1/20\n"
     ]
    },
    {
     "name": "stderr",
     "output_type": "stream",
     "text": [
      "100%|██████████| 328/328 [00:34<00:00,  9.45it/s]\n"
     ]
    },
    {
     "name": "stdout",
     "output_type": "stream",
     "text": [
      "{'val_loss': 1.9229674484671615, 'val_accuracy': 0.5408708938120703, 'precision': 0.38177373738986736, 'recall': 0.5408708938120703, 'f1-score': 0.4169156203419371, 'macro_f1-score': 0.052137045019166633, 'balanced_accuracy': 0.06341023738451702, 'mcc': 0.3072917657958335, 'train_loss': 2.3176059735620895}\n",
      "Epoch 2/20\n"
     ]
    },
    {
     "name": "stderr",
     "output_type": "stream",
     "text": [
      "100%|██████████| 328/328 [00:34<00:00,  9.50it/s]\n"
     ]
    },
    {
     "name": "stdout",
     "output_type": "stream",
     "text": [
      "{'val_loss': 3.0488958911197943, 'val_accuracy': 0.5179526355996944, 'precision': 0.3561853925370118, 'recall': 0.5179526355996944, 'f1-score': 0.3793997498945347, 'macro_f1-score': 0.042371464467755596, 'balanced_accuracy': 0.046491842991759465, 'mcc': 0.2389639920592755, 'train_loss': 2.0587843918218844}\n",
      "Epoch 3/20\n"
     ]
    },
    {
     "name": "stderr",
     "output_type": "stream",
     "text": [
      "100%|██████████| 328/328 [00:34<00:00,  9.47it/s]\n"
     ]
    },
    {
     "name": "stdout",
     "output_type": "stream",
     "text": [
      "{'val_loss': 1.7823778245507218, 'val_accuracy': 0.5630252100840336, 'precision': 0.43068833491575303, 'recall': 0.5630252100840336, 'f1-score': 0.46808752771635065, 'macro_f1-score': 0.08787323921875043, 'balanced_accuracy': 0.10074237524620624, 'mcc': 0.3683670310411473, 'train_loss': 1.8748832395890864}\n",
      "Epoch 4/20\n"
     ]
    },
    {
     "name": "stderr",
     "output_type": "stream",
     "text": [
      "100%|██████████| 328/328 [00:34<00:00,  9.48it/s]\n"
     ]
    },
    {
     "name": "stdout",
     "output_type": "stream",
     "text": [
      "{'val_loss': 1.6148097184373111, 'val_accuracy': 0.5813598166539343, 'precision': 0.46518249134726647, 'recall': 0.5813598166539343, 'f1-score': 0.508169921532077, 'macro_f1-score': 0.12453019757864492, 'balanced_accuracy': 0.1283209241512062, 'mcc': 0.40664701545211535, 'train_loss': 1.614430650523523}\n",
      "Epoch 5/20\n"
     ]
    },
    {
     "name": "stderr",
     "output_type": "stream",
     "text": [
      "100%|██████████| 328/328 [00:34<00:00,  9.49it/s]\n"
     ]
    },
    {
     "name": "stdout",
     "output_type": "stream",
     "text": [
      "{'val_loss': 1.5896471920536785, 'val_accuracy': 0.5912910618792971, 'precision': 0.5028623763160771, 'recall': 0.5912910618792971, 'f1-score': 0.5259143686426486, 'macro_f1-score': 0.13630599835178805, 'balanced_accuracy': 0.14528097820350452, 'mcc': 0.42860133712241394, 'train_loss': 1.4172067282403387}\n",
      "Epoch 6/20\n"
     ]
    },
    {
     "name": "stderr",
     "output_type": "stream",
     "text": [
      "100%|██████████| 328/328 [00:34<00:00,  9.52it/s]\n"
     ]
    },
    {
     "name": "stdout",
     "output_type": "stream",
     "text": [
      "{'val_loss': 1.5413319432153934, 'val_accuracy': 0.6080977845683728, 'precision': 0.5645905568307037, 'recall': 0.6080977845683728, 'f1-score': 0.5685987907809306, 'macro_f1-score': 0.2183649092777267, 'balanced_accuracy': 0.2360669279322056, 'mcc': 0.4768042159002975, 'train_loss': 1.2232115401818258}\n",
      "Epoch 7/20\n"
     ]
    },
    {
     "name": "stderr",
     "output_type": "stream",
     "text": [
      "100%|██████████| 328/328 [00:34<00:00,  9.49it/s]\n"
     ]
    },
    {
     "name": "stdout",
     "output_type": "stream",
     "text": [
      "{'val_loss': 1.5333765285407626, 'val_accuracy': 0.6310160427807486, 'precision': 0.5821589562206062, 'recall': 0.6310160427807486, 'f1-score': 0.5919950172989291, 'macro_f1-score': 0.24990796702032347, 'balanced_accuracy': 0.25631701952998753, 'mcc': 0.5008795048097574, 'train_loss': 1.0576990897335656}\n",
      "Epoch 8/20\n"
     ]
    },
    {
     "name": "stderr",
     "output_type": "stream",
     "text": [
      "100%|██████████| 328/328 [00:34<00:00,  9.51it/s]\n"
     ]
    },
    {
     "name": "stdout",
     "output_type": "stream",
     "text": [
      "{'val_loss': 1.5256012896212137, 'val_accuracy': 0.6264323911382735, 'precision': 0.5797568867720824, 'recall': 0.6264323911382735, 'f1-score': 0.592999672149742, 'macro_f1-score': 0.2505147982672289, 'balanced_accuracy': 0.2485870269126244, 'mcc': 0.49079022058244587, 'train_loss': 0.8960582276397362}\n",
      "Epoch 9/20\n"
     ]
    },
    {
     "name": "stderr",
     "output_type": "stream",
     "text": [
      "100%|██████████| 328/328 [00:34<00:00,  9.52it/s]\n"
     ]
    },
    {
     "name": "stdout",
     "output_type": "stream",
     "text": [
      "{'val_loss': 1.5804703411896055, 'val_accuracy': 0.6218487394957983, 'precision': 0.5883185971892989, 'recall': 0.6218487394957983, 'f1-score': 0.597362219359541, 'macro_f1-score': 0.28023832997086817, 'balanced_accuracy': 0.298777639357976, 'mcc': 0.4987707978279874, 'train_loss': 0.7499476348208945}\n",
      "Epoch 10/20\n"
     ]
    },
    {
     "name": "stderr",
     "output_type": "stream",
     "text": [
      "100%|██████████| 328/328 [00:34<00:00,  9.49it/s]\n"
     ]
    },
    {
     "name": "stdout",
     "output_type": "stream",
     "text": [
      "{'val_loss': 1.7039587603109638, 'val_accuracy': 0.6195569136745608, 'precision': 0.5983593278838044, 'recall': 0.6195569136745608, 'f1-score': 0.6024880103790508, 'macro_f1-score': 0.28099031902275645, 'balanced_accuracy': 0.29772130553387244, 'mcc': 0.4988070191385868, 'train_loss': 0.6246400373737987}\n",
      "Epoch 11/20\n"
     ]
    },
    {
     "name": "stderr",
     "output_type": "stream",
     "text": [
      "100%|██████████| 328/328 [00:34<00:00,  9.50it/s]\n"
     ]
    },
    {
     "name": "stdout",
     "output_type": "stream",
     "text": [
      "{'val_loss': 1.6401143733684609, 'val_accuracy': 0.6417112299465241, 'precision': 0.624718256514655, 'recall': 0.6417112299465241, 'f1-score': 0.6262809943870947, 'macro_f1-score': 0.31485213960785363, 'balanced_accuracy': 0.32215444756651457, 'mcc': 0.5277962544432158, 'train_loss': 0.5017831636388309}\n",
      "Epoch 12/20\n"
     ]
    },
    {
     "name": "stderr",
     "output_type": "stream",
     "text": [
      "100%|██████████| 328/328 [00:34<00:00,  9.48it/s]\n"
     ]
    },
    {
     "name": "stdout",
     "output_type": "stream",
     "text": [
      "{'val_loss': 1.8498223844643047, 'val_accuracy': 0.6210847975553858, 'precision': 0.6207346722744517, 'recall': 0.6210847975553858, 'f1-score': 0.610030154891385, 'macro_f1-score': 0.2990273755185586, 'balanced_accuracy': 0.3034034004491894, 'mcc': 0.502456850279707, 'train_loss': 0.43149163773306076}\n",
      "Epoch 13/20\n"
     ]
    },
    {
     "name": "stderr",
     "output_type": "stream",
     "text": [
      "100%|██████████| 328/328 [00:34<00:00,  9.51it/s]\n"
     ]
    },
    {
     "name": "stdout",
     "output_type": "stream",
     "text": [
      "{'val_loss': 1.850705256004159, 'val_accuracy': 0.627196333078686, 'precision': 0.6030939597314128, 'recall': 0.627196333078686, 'f1-score': 0.6085222045421572, 'macro_f1-score': 0.2971128988043125, 'balanced_accuracy': 0.30104823978831347, 'mcc': 0.5047711785960146, 'train_loss': 0.3560127273042936}\n",
      "Epoch 14/20\n"
     ]
    },
    {
     "name": "stderr",
     "output_type": "stream",
     "text": [
      "100%|██████████| 328/328 [00:34<00:00,  9.49it/s]\n"
     ]
    },
    {
     "name": "stdout",
     "output_type": "stream",
     "text": [
      "{'val_loss': 1.8697715292616588, 'val_accuracy': 0.6019862490450726, 'precision': 0.616456360539361, 'recall': 0.6019862490450726, 'f1-score': 0.597233929288414, 'macro_f1-score': 0.3119681129950072, 'balanced_accuracy': 0.3254348218701725, 'mcc': 0.48254580526721774, 'train_loss': 0.3175724310851542}\n",
      "Early stopping.\n",
      "\n",
      "[Fold 3]\n",
      "Label distribution after resampling:\n",
      "  label 0: 2466\n",
      "  label 1: 21\n",
      "  label 2: 64\n",
      "  label 3: 24\n",
      "  label 4: 191\n",
      "  label 5: 113\n",
      "  label 6: 92\n",
      "  label 7: 31\n",
      "  label 8: 68\n",
      "  label 9: 29\n",
      "  label 10: 68\n",
      "  label 11: 168\n",
      "  label 12: 190\n",
      "  label 13: 29\n",
      "  label 14: 22\n",
      "  label 15: 25\n",
      "  label 16: 19\n",
      "  label 17: 181\n",
      "  label 18: 92\n",
      "  label 19: 44\n",
      "  label 20: 13\n",
      "  label 21: 36\n",
      "  label 22: 76\n",
      "  label 23: 158\n",
      "  label 24: 12\n",
      "  label 25: 44\n",
      "  label 26: 84\n",
      "  label 27: 48\n",
      "  label 28: 11\n",
      "  label 29: 13\n",
      "  label 30: 11\n",
      "  label 31: 75\n",
      "  label 32: 36\n",
      "  label 33: 31\n",
      "  label 34: 30\n",
      "  label 35: 11\n",
      "  label 36: 21\n",
      "  label 37: 16\n",
      "  label 38: 5\n",
      "  label 39: 33\n",
      "  label 40: 11\n",
      "  label 41: 9\n",
      "  label 42: 57\n",
      "  label 43: 7\n",
      "  label 44: 18\n",
      "  label 45: 9\n",
      "  label 46: 54\n",
      "  label 47: 242\n",
      "  label 48: 61\n",
      "  label 49: 68\n",
      "model is microsoft/deberta-base cnn\n",
      "Epoch 1/20\n"
     ]
    },
    {
     "name": "stderr",
     "output_type": "stream",
     "text": [
      "100%|██████████| 328/328 [00:34<00:00,  9.51it/s]\n"
     ]
    },
    {
     "name": "stdout",
     "output_type": "stream",
     "text": [
      "{'val_loss': 2.126831456655409, 'val_accuracy': 0.5263559969442322, 'precision': 0.30842192751290165, 'recall': 0.5263559969442322, 'f1-score': 0.384937126175329, 'macro_f1-score': 0.038366260771903395, 'balanced_accuracy': 0.052948312916398024, 'mcc': 0.2742639544978278, 'train_loss': 2.43303454939912}\n",
      "Epoch 2/20\n"
     ]
    },
    {
     "name": "stderr",
     "output_type": "stream",
     "text": [
      "100%|██████████| 328/328 [00:34<00:00,  9.51it/s]\n"
     ]
    },
    {
     "name": "stdout",
     "output_type": "stream",
     "text": [
      "{'val_loss': 1.965376210648839, 'val_accuracy': 0.5423987776928954, 'precision': 0.3871667825017138, 'recall': 0.5423987776928954, 'f1-score': 0.4389779845058945, 'macro_f1-score': 0.06014732437113091, 'balanced_accuracy': 0.078260300940527, 'mcc': 0.33543310247114877, 'train_loss': 2.0839538496078513}\n",
      "Epoch 3/20\n"
     ]
    },
    {
     "name": "stderr",
     "output_type": "stream",
     "text": [
      "100%|██████████| 328/328 [00:34<00:00,  9.49it/s]\n"
     ]
    },
    {
     "name": "stdout",
     "output_type": "stream",
     "text": [
      "{'val_loss': 3.2250682987817902, 'val_accuracy': 0.47058823529411764, 'precision': 0.22145328719723184, 'recall': 0.47058823529411764, 'f1-score': 0.3011764705882353, 'macro_f1-score': 0.0128, 'balanced_accuracy': 0.02, 'mcc': 0.0, 'train_loss': 2.1671477472636758}\n",
      "Epoch 4/20\n"
     ]
    },
    {
     "name": "stderr",
     "output_type": "stream",
     "text": [
      "100%|██████████| 328/328 [00:34<00:00,  9.52it/s]\n"
     ]
    },
    {
     "name": "stdout",
     "output_type": "stream",
     "text": [
      "{'val_loss': 3.155259472567861, 'val_accuracy': 0.47058823529411764, 'precision': 0.22145328719723184, 'recall': 0.47058823529411764, 'f1-score': 0.3011764705882353, 'macro_f1-score': 0.0128, 'balanced_accuracy': 0.02, 'mcc': 0.0, 'train_loss': 2.5909879727334513}\n",
      "Epoch 5/20\n"
     ]
    },
    {
     "name": "stderr",
     "output_type": "stream",
     "text": [
      "100%|██████████| 328/328 [00:34<00:00,  9.51it/s]\n"
     ]
    },
    {
     "name": "stdout",
     "output_type": "stream",
     "text": [
      "{'val_loss': 3.150734593228596, 'val_accuracy': 0.47058823529411764, 'precision': 0.22145328719723184, 'recall': 0.47058823529411764, 'f1-score': 0.3011764705882353, 'macro_f1-score': 0.0128, 'balanced_accuracy': 0.02, 'mcc': 0.0, 'train_loss': 2.580980187872561}\n",
      "Early stopping.\n",
      "\n",
      "[Fold 4]\n",
      "Label distribution after resampling:\n",
      "  label 0: 2466\n",
      "  label 1: 21\n",
      "  label 2: 64\n",
      "  label 3: 24\n",
      "  label 4: 191\n",
      "  label 5: 113\n",
      "  label 6: 93\n",
      "  label 7: 30\n",
      "  label 8: 68\n",
      "  label 9: 30\n",
      "  label 10: 67\n",
      "  label 11: 169\n",
      "  label 12: 189\n",
      "  label 13: 29\n",
      "  label 14: 22\n",
      "  label 15: 25\n",
      "  label 16: 19\n",
      "  label 17: 181\n",
      "  label 18: 92\n",
      "  label 19: 44\n",
      "  label 20: 14\n",
      "  label 21: 35\n",
      "  label 22: 76\n",
      "  label 23: 158\n",
      "  label 24: 13\n",
      "  label 25: 44\n",
      "  label 26: 84\n",
      "  label 27: 47\n",
      "  label 28: 11\n",
      "  label 29: 13\n",
      "  label 30: 11\n",
      "  label 31: 75\n",
      "  label 32: 36\n",
      "  label 33: 31\n",
      "  label 34: 30\n",
      "  label 35: 11\n",
      "  label 36: 22\n",
      "  label 37: 16\n",
      "  label 38: 5\n",
      "  label 39: 33\n",
      "  label 40: 10\n",
      "  label 41: 9\n",
      "  label 42: 57\n",
      "  label 43: 7\n",
      "  label 44: 18\n",
      "  label 45: 9\n",
      "  label 46: 54\n",
      "  label 47: 242\n",
      "  label 48: 61\n",
      "  label 49: 68\n",
      "model is microsoft/deberta-base cnn\n",
      "Epoch 1/20\n"
     ]
    },
    {
     "name": "stderr",
     "output_type": "stream",
     "text": [
      "100%|██████████| 328/328 [00:34<00:00,  9.47it/s]\n"
     ]
    },
    {
     "name": "stdout",
     "output_type": "stream",
     "text": [
      "{'val_loss': 2.401936344984101, 'val_accuracy': 0.4644766997708174, 'precision': 0.31830262544923393, 'recall': 0.4644766997708174, 'f1-score': 0.37433635453243036, 'macro_f1-score': 0.04477370539336109, 'balanced_accuracy': 0.06969365386386663, 'mcc': 0.22809672059256664, 'train_loss': 2.3744866001169855}\n",
      "Epoch 2/20\n"
     ]
    },
    {
     "name": "stderr",
     "output_type": "stream",
     "text": [
      "100%|██████████| 328/328 [00:34<00:00,  9.49it/s]\n"
     ]
    },
    {
     "name": "stdout",
     "output_type": "stream",
     "text": [
      "{'val_loss': 1.9753088478634997, 'val_accuracy': 0.5271199388846448, 'precision': 0.42338325836574275, 'recall': 0.5271199388846448, 'f1-score': 0.45135397779686215, 'macro_f1-score': 0.06657381433817706, 'balanced_accuracy': 0.09399160236926195, 'mcc': 0.3502537746844534, 'train_loss': 2.0320670884556886}\n",
      "Epoch 3/20\n"
     ]
    },
    {
     "name": "stderr",
     "output_type": "stream",
     "text": [
      "100%|██████████| 328/328 [00:34<00:00,  9.50it/s]\n"
     ]
    },
    {
     "name": "stdout",
     "output_type": "stream",
     "text": [
      "{'val_loss': 2.2565182890833877, 'val_accuracy': 0.5148968678380443, 'precision': 0.2889767343952377, 'recall': 0.5148968678380443, 'f1-score': 0.357554335156063, 'macro_f1-score': 0.032560725711838434, 'balanced_accuracy': 0.04018739062356083, 'mcc': 0.23359340901203535, 'train_loss': 1.9829384079430161}\n",
      "Epoch 4/20\n"
     ]
    },
    {
     "name": "stderr",
     "output_type": "stream",
     "text": [
      "100%|██████████| 328/328 [00:34<00:00,  9.48it/s]\n"
     ]
    },
    {
     "name": "stdout",
     "output_type": "stream",
     "text": [
      "{'val_loss': 3.1391600690236907, 'val_accuracy': 0.47058823529411764, 'precision': 0.22145328719723184, 'recall': 0.47058823529411764, 'f1-score': 0.3011764705882353, 'macro_f1-score': 0.0128, 'balanced_accuracy': 0.02, 'mcc': 0.0, 'train_loss': 2.6011215215776025}\n",
      "Epoch 5/20\n"
     ]
    },
    {
     "name": "stderr",
     "output_type": "stream",
     "text": [
      "100%|██████████| 328/328 [00:34<00:00,  9.49it/s]\n"
     ]
    },
    {
     "name": "stdout",
     "output_type": "stream",
     "text": [
      "{'val_loss': 3.15587626433954, 'val_accuracy': 0.47058823529411764, 'precision': 0.22145328719723184, 'recall': 0.47058823529411764, 'f1-score': 0.3011764705882353, 'macro_f1-score': 0.0128, 'balanced_accuracy': 0.02, 'mcc': 0.0, 'train_loss': 2.5766691049424613}\n",
      "Early stopping.\n",
      "\n",
      "[Fold 5]\n",
      "Label distribution after resampling:\n",
      "  label 0: 2466\n",
      "  label 1: 22\n",
      "  label 2: 64\n",
      "  label 3: 24\n",
      "  label 4: 190\n",
      "  label 5: 113\n",
      "  label 6: 93\n",
      "  label 7: 30\n",
      "  label 8: 68\n",
      "  label 9: 30\n",
      "  label 10: 67\n",
      "  label 11: 169\n",
      "  label 12: 189\n",
      "  label 13: 29\n",
      "  label 14: 23\n",
      "  label 15: 24\n",
      "  label 16: 20\n",
      "  label 17: 180\n",
      "  label 18: 92\n",
      "  label 19: 44\n",
      "  label 20: 14\n",
      "  label 21: 35\n",
      "  label 22: 76\n",
      "  label 23: 157\n",
      "  label 24: 13\n",
      "  label 25: 44\n",
      "  label 26: 84\n",
      "  label 27: 47\n",
      "  label 28: 11\n",
      "  label 29: 13\n",
      "  label 30: 11\n",
      "  label 31: 75\n",
      "  label 32: 36\n",
      "  label 33: 31\n",
      "  label 34: 30\n",
      "  label 35: 11\n",
      "  label 36: 22\n",
      "  label 37: 16\n",
      "  label 38: 6\n",
      "  label 39: 33\n",
      "  label 40: 10\n",
      "  label 41: 9\n",
      "  label 42: 57\n",
      "  label 43: 6\n",
      "  label 44: 18\n",
      "  label 45: 9\n",
      "  label 46: 54\n",
      "  label 47: 242\n",
      "  label 48: 62\n",
      "  label 49: 68\n",
      "model is microsoft/deberta-base cnn\n",
      "Epoch 1/20\n"
     ]
    },
    {
     "name": "stderr",
     "output_type": "stream",
     "text": [
      "100%|██████████| 328/328 [00:34<00:00,  9.51it/s]\n"
     ]
    },
    {
     "name": "stdout",
     "output_type": "stream",
     "text": [
      "{'val_loss': 2.015417771368492, 'val_accuracy': 0.5347593582887701, 'precision': 0.3603676857109846, 'recall': 0.5347593582887701, 'f1-score': 0.41520843377790273, 'macro_f1-score': 0.05461069309914194, 'balanced_accuracy': 0.07112003576134011, 'mcc': 0.3041703654252959, 'train_loss': 2.274684186207085}\n",
      "Epoch 2/20\n"
     ]
    },
    {
     "name": "stderr",
     "output_type": "stream",
     "text": [
      "100%|██████████| 328/328 [00:34<00:00,  9.48it/s]\n"
     ]
    },
    {
     "name": "stdout",
     "output_type": "stream",
     "text": [
      "{'val_loss': 1.7024416036722136, 'val_accuracy': 0.5706646294881589, 'precision': 0.49922067661220276, 'recall': 0.5706646294881589, 'f1-score': 0.4975467328575175, 'macro_f1-score': 0.1176924294992715, 'balanced_accuracy': 0.12385343721428659, 'mcc': 0.394782523370335, 'train_loss': 1.8316233566984899}\n",
      "Epoch 3/20\n"
     ]
    },
    {
     "name": "stderr",
     "output_type": "stream",
     "text": [
      "100%|██████████| 328/328 [00:34<00:00,  9.50it/s]\n"
     ]
    },
    {
     "name": "stdout",
     "output_type": "stream",
     "text": [
      "{'val_loss': 1.5081249435500401, 'val_accuracy': 0.5966386554621849, 'precision': 0.5331158472291947, 'recall': 0.5966386554621849, 'f1-score': 0.538208052912755, 'macro_f1-score': 0.17459706343112139, 'balanced_accuracy': 0.186905924619345, 'mcc': 0.4403284758260781, 'train_loss': 1.5323081847007682}\n",
      "Epoch 4/20\n"
     ]
    },
    {
     "name": "stderr",
     "output_type": "stream",
     "text": [
      "100%|██████████| 328/328 [00:34<00:00,  9.52it/s]\n"
     ]
    },
    {
     "name": "stdout",
     "output_type": "stream",
     "text": [
      "{'val_loss': 1.5289071812862303, 'val_accuracy': 0.6210847975553858, 'precision': 0.5598475222449457, 'recall': 0.6210847975553858, 'f1-score': 0.5755788978563717, 'macro_f1-score': 0.23562014188029715, 'balanced_accuracy': 0.25482349833352663, 'mcc': 0.4807067743001891, 'train_loss': 1.2215921453586438}\n",
      "Epoch 5/20\n"
     ]
    },
    {
     "name": "stderr",
     "output_type": "stream",
     "text": [
      "100%|██████████| 328/328 [00:34<00:00,  9.47it/s]\n"
     ]
    },
    {
     "name": "stdout",
     "output_type": "stream",
     "text": [
      "{'val_loss': 1.5633654209171854, 'val_accuracy': 0.6073338426279603, 'precision': 0.5660708447974488, 'recall': 0.6073338426279603, 'f1-score': 0.5623806926343632, 'macro_f1-score': 0.22854385068420519, 'balanced_accuracy': 0.24570647327650288, 'mcc': 0.4640603102934735, 'train_loss': 1.032730168140516}\n",
      "Epoch 6/20\n"
     ]
    },
    {
     "name": "stderr",
     "output_type": "stream",
     "text": [
      "100%|██████████| 328/328 [00:34<00:00,  9.51it/s]\n"
     ]
    },
    {
     "name": "stdout",
     "output_type": "stream",
     "text": [
      "{'val_loss': 1.7109590710663214, 'val_accuracy': 0.5905271199388846, 'precision': 0.5539033804296231, 'recall': 0.5905271199388846, 'f1-score': 0.5637521653709403, 'macro_f1-score': 0.23742787354700412, 'balanced_accuracy': 0.250762662973795, 'mcc': 0.45719966899653647, 'train_loss': 1.032644976384756}\n",
      "Epoch 7/20\n"
     ]
    },
    {
     "name": "stderr",
     "output_type": "stream",
     "text": [
      "100%|██████████| 328/328 [00:34<00:00,  9.47it/s]\n"
     ]
    },
    {
     "name": "stdout",
     "output_type": "stream",
     "text": [
      "{'val_loss': 1.6734421914670525, 'val_accuracy': 0.6203208556149733, 'precision': 0.5829815528257535, 'recall': 0.6203208556149733, 'f1-score': 0.5902199125203215, 'macro_f1-score': 0.2868409120329898, 'balanced_accuracy': 0.2927502303188802, 'mcc': 0.49094917159713225, 'train_loss': 0.780901496275896}\n",
      "Epoch 8/20\n"
     ]
    },
    {
     "name": "stderr",
     "output_type": "stream",
     "text": [
      "100%|██████████| 328/328 [00:34<00:00,  9.47it/s]\n"
     ]
    },
    {
     "name": "stdout",
     "output_type": "stream",
     "text": [
      "{'val_loss': 1.6992071343631279, 'val_accuracy': 0.6279602750190986, 'precision': 0.5889441508031839, 'recall': 0.6279602750190986, 'f1-score': 0.5977666301894391, 'macro_f1-score': 0.2924039472021656, 'balanced_accuracy': 0.2954346455730895, 'mcc': 0.4970981754471998, 'train_loss': 0.6371850983989311}\n",
      "Epoch 9/20\n"
     ]
    },
    {
     "name": "stderr",
     "output_type": "stream",
     "text": [
      "100%|██████████| 328/328 [00:34<00:00,  9.48it/s]\n"
     ]
    },
    {
     "name": "stdout",
     "output_type": "stream",
     "text": [
      "{'val_loss': 1.7931614525434447, 'val_accuracy': 0.6203208556149733, 'precision': 0.5970950316914183, 'recall': 0.6203208556149733, 'f1-score': 0.5988919191517554, 'macro_f1-score': 0.3055649232153719, 'balanced_accuracy': 0.29811417348299835, 'mcc': 0.4865673283453391, 'train_loss': 0.5229447970121373}\n",
      "Epoch 10/20\n"
     ]
    },
    {
     "name": "stderr",
     "output_type": "stream",
     "text": [
      "100%|██████████| 328/328 [00:34<00:00,  9.51it/s]\n"
     ]
    },
    {
     "name": "stdout",
     "output_type": "stream",
     "text": [
      "{'val_loss': 1.8677985813559554, 'val_accuracy': 0.6012223071046601, 'precision': 0.6107546368182158, 'recall': 0.6012223071046601, 'f1-score': 0.5952009815282505, 'macro_f1-score': 0.31516899835753187, 'balanced_accuracy': 0.3314959122404943, 'mcc': 0.4805143239398387, 'train_loss': 0.47291896796626287}\n",
      "Epoch 11/20\n"
     ]
    },
    {
     "name": "stderr",
     "output_type": "stream",
     "text": [
      "100%|██████████| 328/328 [00:34<00:00,  9.50it/s]\n"
     ]
    },
    {
     "name": "stdout",
     "output_type": "stream",
     "text": [
      "{'val_loss': 2.1737177012170235, 'val_accuracy': 0.6249045072574484, 'precision': 0.5831914368351651, 'recall': 0.6249045072574484, 'f1-score': 0.587407367977815, 'macro_f1-score': 0.31208839080069883, 'balanced_accuracy': 0.2886589058964547, 'mcc': 0.4793669558578195, 'train_loss': 0.40278866790553053}\n",
      "Epoch 12/20\n"
     ]
    },
    {
     "name": "stderr",
     "output_type": "stream",
     "text": [
      "100%|██████████| 328/328 [00:34<00:00,  9.49it/s]\n"
     ]
    },
    {
     "name": "stdout",
     "output_type": "stream",
     "text": [
      "{'val_loss': 2.000822859566386, 'val_accuracy': 0.6165011459129106, 'precision': 0.6016875228937693, 'recall': 0.6165011459129106, 'f1-score': 0.5976302130095877, 'macro_f1-score': 0.32436763630717463, 'balanced_accuracy': 0.3114444576526956, 'mcc': 0.4833723549566864, 'train_loss': 0.3207461512278447}\n",
      "Epoch 13/20\n"
     ]
    },
    {
     "name": "stderr",
     "output_type": "stream",
     "text": [
      "100%|██████████| 328/328 [00:34<00:00,  9.52it/s]\n"
     ]
    },
    {
     "name": "stdout",
     "output_type": "stream",
     "text": [
      "{'val_loss': 2.0495094576986825, 'val_accuracy': 0.6080977845683728, 'precision': 0.6135315787241036, 'recall': 0.6080977845683728, 'f1-score': 0.6050465164748752, 'macro_f1-score': 0.3465246206202854, 'balanced_accuracy': 0.3631617694647376, 'mcc': 0.4966287553907826, 'train_loss': 0.2655454303873362}\n",
      "Epoch 14/20\n"
     ]
    },
    {
     "name": "stderr",
     "output_type": "stream",
     "text": [
      "100%|██████████| 328/328 [00:34<00:00,  9.50it/s]\n"
     ]
    },
    {
     "name": "stdout",
     "output_type": "stream",
     "text": [
      "{'val_loss': 2.010900121636507, 'val_accuracy': 0.6012223071046601, 'precision': 0.6332973557104522, 'recall': 0.6012223071046601, 'f1-score': 0.602251501071949, 'macro_f1-score': 0.34826920713164033, 'balanced_accuracy': 0.3520690197166169, 'mcc': 0.4874860190924185, 'train_loss': 0.2561006139049579}\n",
      "Epoch 15/20\n"
     ]
    },
    {
     "name": "stderr",
     "output_type": "stream",
     "text": [
      "100%|██████████| 328/328 [00:34<00:00,  9.48it/s]\n"
     ]
    },
    {
     "name": "stdout",
     "output_type": "stream",
     "text": [
      "{'val_loss': 2.180970433281689, 'val_accuracy': 0.6111535523300229, 'precision': 0.6258786244789923, 'recall': 0.6111535523300229, 'f1-score': 0.6063156263401345, 'macro_f1-score': 0.36700800305154785, 'balanced_accuracy': 0.37300629310041744, 'mcc': 0.4880754179586458, 'train_loss': 0.25679137656272094}\n",
      "Epoch 16/20\n"
     ]
    },
    {
     "name": "stderr",
     "output_type": "stream",
     "text": [
      "100%|██████████| 328/328 [00:34<00:00,  9.49it/s]\n"
     ]
    },
    {
     "name": "stdout",
     "output_type": "stream",
     "text": [
      "{'val_loss': 2.168827150653048, 'val_accuracy': 0.6287242169595111, 'precision': 0.6244336539788746, 'recall': 0.6287242169595111, 'f1-score': 0.6176030618476378, 'macro_f1-score': 0.3613188302826466, 'balanced_accuracy': 0.3752837736439837, 'mcc': 0.5150846499583778, 'train_loss': 0.20087370059663068}\n",
      "Epoch 17/20\n"
     ]
    },
    {
     "name": "stderr",
     "output_type": "stream",
     "text": [
      "100%|██████████| 328/328 [00:34<00:00,  9.51it/s]\n"
     ]
    },
    {
     "name": "stdout",
     "output_type": "stream",
     "text": [
      "{'val_loss': 2.301946372520633, 'val_accuracy': 0.599694423223835, 'precision': 0.6077171712955094, 'recall': 0.599694423223835, 'f1-score': 0.5897495790247856, 'macro_f1-score': 0.33672666240191257, 'balanced_accuracy': 0.3478329842373118, 'mcc': 0.47492636569005175, 'train_loss': 0.17870862774690044}\n",
      "Epoch 18/20\n"
     ]
    },
    {
     "name": "stderr",
     "output_type": "stream",
     "text": [
      "100%|██████████| 328/328 [00:34<00:00,  9.49it/s]\n"
     ]
    },
    {
     "name": "stdout",
     "output_type": "stream",
     "text": [
      "{'val_loss': 2.3254062889552696, 'val_accuracy': 0.6195569136745608, 'precision': 0.6225124327374517, 'recall': 0.6195569136745608, 'f1-score': 0.609084518214603, 'macro_f1-score': 0.3746124695566098, 'balanced_accuracy': 0.3827249413738174, 'mcc': 0.4955464339856521, 'train_loss': 0.18875622405477505}\n",
      "Epoch 19/20\n"
     ]
    },
    {
     "name": "stderr",
     "output_type": "stream",
     "text": [
      "100%|██████████| 328/328 [00:34<00:00,  9.50it/s]\n"
     ]
    },
    {
     "name": "stdout",
     "output_type": "stream",
     "text": [
      "{'val_loss': 2.252452262291094, 'val_accuracy': 0.627196333078686, 'precision': 0.6021481720862517, 'recall': 0.627196333078686, 'f1-score': 0.5965634047704378, 'macro_f1-score': 0.315490933357364, 'balanced_accuracy': 0.3109597632479245, 'mcc': 0.49153597963858, 'train_loss': 0.16226755088853945}\n",
      "Epoch 20/20\n"
     ]
    },
    {
     "name": "stderr",
     "output_type": "stream",
     "text": [
      "100%|██████████| 328/328 [00:34<00:00,  9.52it/s]\n"
     ]
    },
    {
     "name": "stdout",
     "output_type": "stream",
     "text": [
      "{'val_loss': 2.35656297497633, 'val_accuracy': 0.6226126814362108, 'precision': 0.607255667665431, 'recall': 0.6226126814362108, 'f1-score': 0.6052734818582554, 'macro_f1-score': 0.33573319888010844, 'balanced_accuracy': 0.32521470177419837, 'mcc': 0.4893200814444941, 'train_loss': 0.14817520836439188}\n",
      "\n",
      " === microsoft/deberta-base + cnn + none Final 5-fold Cross-Validation Results ===\n",
      "val_loss: 1.9480\n",
      "val_accuracy: 0.5959\n",
      "precision: 0.5409\n",
      "recall: 0.5959\n",
      "f1-score: 0.5516\n",
      "macro_f1-score: 0.2357\n",
      "balanced_accuracy: 0.2468\n",
      "mcc: 0.4472\n",
      "train_loss: 1.0316\n",
      "total_seconds: 2174.0000\n",
      "total_time: 0 hrs 36 mins 14 secs\n",
      "▶ Running: microsoft/deberta-base + lstm + none\n",
      "tokenizer is microsoft/deberta-base\n",
      "Using device: cuda\n",
      "CUDA Available: True\n",
      "CUDA Device: NVIDIA GeForce RTX 5070 Ti\n",
      "Current GPU Memory Allocated: 0.02 GB\n",
      "Current GPU Memory Cached: 5.15 GB\n",
      "\n",
      "[Fold 1]\n",
      "Label distribution after resampling:\n",
      "  label 0: 2465\n",
      "  label 1: 22\n",
      "  label 2: 64\n",
      "  label 3: 24\n",
      "  label 4: 190\n",
      "  label 5: 112\n",
      "  label 6: 93\n",
      "  label 7: 30\n",
      "  label 8: 68\n",
      "  label 9: 30\n",
      "  label 10: 67\n",
      "  label 11: 169\n",
      "  label 12: 190\n",
      "  label 13: 28\n",
      "  label 14: 23\n",
      "  label 15: 25\n",
      "  label 16: 19\n",
      "  label 17: 181\n",
      "  label 18: 92\n",
      "  label 19: 44\n",
      "  label 20: 14\n",
      "  label 21: 35\n",
      "  label 22: 76\n",
      "  label 23: 157\n",
      "  label 24: 13\n",
      "  label 25: 44\n",
      "  label 26: 84\n",
      "  label 27: 47\n",
      "  label 28: 11\n",
      "  label 29: 13\n",
      "  label 30: 11\n",
      "  label 31: 76\n",
      "  label 32: 36\n",
      "  label 33: 32\n",
      "  label 34: 29\n",
      "  label 35: 11\n",
      "  label 36: 22\n",
      "  label 37: 16\n",
      "  label 38: 6\n",
      "  label 39: 32\n",
      "  label 40: 10\n",
      "  label 41: 9\n",
      "  label 42: 57\n",
      "  label 43: 6\n",
      "  label 44: 19\n",
      "  label 45: 8\n",
      "  label 46: 55\n",
      "  label 47: 241\n",
      "  label 48: 62\n",
      "  label 49: 68\n",
      "model is microsoft/deberta-base lstm\n",
      "Epoch 1/20\n"
     ]
    },
    {
     "name": "stderr",
     "output_type": "stream",
     "text": [
      "100%|██████████| 328/328 [00:35<00:00,  9.37it/s]\n"
     ]
    },
    {
     "name": "stdout",
     "output_type": "stream",
     "text": [
      "{'val_loss': 2.288008104737212, 'val_accuracy': 0.5015267175572519, 'precision': 0.26839438463883336, 'recall': 0.5015267175572519, 'f1-score': 0.344344278030329, 'macro_f1-score': 0.026328433092458834, 'balanced_accuracy': 0.03329234972677596, 'mcc': 0.18990973850598927, 'train_loss': 2.4754713940911177}\n",
      "Epoch 2/20\n"
     ]
    },
    {
     "name": "stderr",
     "output_type": "stream",
     "text": [
      "100%|██████████| 328/328 [00:34<00:00,  9.42it/s]\n"
     ]
    },
    {
     "name": "stdout",
     "output_type": "stream",
     "text": [
      "{'val_loss': 2.1567826474585186, 'val_accuracy': 0.5267175572519084, 'precision': 0.32816714551276216, 'recall': 0.5267175572519084, 'f1-score': 0.39785382256043295, 'macro_f1-score': 0.03780827532129201, 'balanced_accuracy': 0.05133202421526877, 'mcc': 0.2869061043328114, 'train_loss': 2.2136877518964977}\n",
      "Epoch 3/20\n"
     ]
    },
    {
     "name": "stderr",
     "output_type": "stream",
     "text": [
      "100%|██████████| 328/328 [00:34<00:00,  9.43it/s]\n"
     ]
    },
    {
     "name": "stdout",
     "output_type": "stream",
     "text": [
      "{'val_loss': 2.0463968871570213, 'val_accuracy': 0.5351145038167939, 'precision': 0.3590456980296438, 'recall': 0.5351145038167939, 'f1-score': 0.42769327742627194, 'macro_f1-score': 0.04537414024132388, 'balanced_accuracy': 0.06211028530221914, 'mcc': 0.32483314300512917, 'train_loss': 2.104953312474053}\n",
      "Epoch 4/20\n"
     ]
    },
    {
     "name": "stderr",
     "output_type": "stream",
     "text": [
      "100%|██████████| 328/328 [00:35<00:00,  9.32it/s]\n"
     ]
    },
    {
     "name": "stdout",
     "output_type": "stream",
     "text": [
      "{'val_loss': 2.124632352009052, 'val_accuracy': 0.5328244274809161, 'precision': 0.3744485302024493, 'recall': 0.5328244274809161, 'f1-score': 0.4296538874975667, 'macro_f1-score': 0.04914322835528385, 'balanced_accuracy': 0.060139100951305355, 'mcc': 0.31464033744661457, 'train_loss': 2.002340882107979}\n",
      "Epoch 5/20\n"
     ]
    },
    {
     "name": "stderr",
     "output_type": "stream",
     "text": [
      "100%|██████████| 328/328 [00:34<00:00,  9.41it/s]\n"
     ]
    },
    {
     "name": "stdout",
     "output_type": "stream",
     "text": [
      "{'val_loss': 2.0883454320634285, 'val_accuracy': 0.5244274809160305, 'precision': 0.3549564717522699, 'recall': 0.5244274809160305, 'f1-score': 0.4192497728134165, 'macro_f1-score': 0.04654428448050541, 'balanced_accuracy': 0.0553083793763129, 'mcc': 0.29232258859513016, 'train_loss': 1.956589140724845}\n",
      "Epoch 6/20\n"
     ]
    },
    {
     "name": "stderr",
     "output_type": "stream",
     "text": [
      "100%|██████████| 328/328 [00:34<00:00,  9.39it/s]\n"
     ]
    },
    {
     "name": "stdout",
     "output_type": "stream",
     "text": [
      "{'val_loss': 2.0160826764455657, 'val_accuracy': 0.5381679389312977, 'precision': 0.40445970710875745, 'recall': 0.5381679389312977, 'f1-score': 0.4492172332994227, 'macro_f1-score': 0.0548074379052784, 'balanced_accuracy': 0.07445502747397009, 'mcc': 0.35174636016596966, 'train_loss': 1.9409557689980763}\n",
      "Epoch 7/20\n"
     ]
    },
    {
     "name": "stderr",
     "output_type": "stream",
     "text": [
      "100%|██████████| 328/328 [00:34<00:00,  9.39it/s]\n"
     ]
    },
    {
     "name": "stdout",
     "output_type": "stream",
     "text": [
      "{'val_loss': 2.1100117084456653, 'val_accuracy': 0.5374045801526718, 'precision': 0.3649726155551988, 'recall': 0.5374045801526718, 'f1-score': 0.4287243372864647, 'macro_f1-score': 0.05004465547982434, 'balanced_accuracy': 0.06700773852707646, 'mcc': 0.323133613112845, 'train_loss': 1.9426454879888675}\n",
      "Epoch 8/20\n"
     ]
    },
    {
     "name": "stderr",
     "output_type": "stream",
     "text": [
      "100%|██████████| 328/328 [00:34<00:00,  9.38it/s]\n"
     ]
    },
    {
     "name": "stdout",
     "output_type": "stream",
     "text": [
      "{'val_loss': 1.966509322567684, 'val_accuracy': 0.5572519083969466, 'precision': 0.41396552974547896, 'recall': 0.5572519083969466, 'f1-score': 0.4690095237182124, 'macro_f1-score': 0.07287291026656449, 'balanced_accuracy': 0.0894211734327037, 'mcc': 0.3679478133032998, 'train_loss': 1.8583871124812015}\n",
      "Epoch 9/20\n"
     ]
    },
    {
     "name": "stderr",
     "output_type": "stream",
     "text": [
      "100%|██████████| 328/328 [00:34<00:00,  9.42it/s]\n"
     ]
    },
    {
     "name": "stdout",
     "output_type": "stream",
     "text": [
      "{'val_loss': 1.9858010538467548, 'val_accuracy': 0.549618320610687, 'precision': 0.4111481458069927, 'recall': 0.549618320610687, 'f1-score': 0.46385096823249355, 'macro_f1-score': 0.06604445211951201, 'balanced_accuracy': 0.08454146203856737, 'mcc': 0.3621368152709555, 'train_loss': 1.7303444116217335}\n",
      "Epoch 10/20\n"
     ]
    },
    {
     "name": "stderr",
     "output_type": "stream",
     "text": [
      "100%|██████████| 328/328 [00:34<00:00,  9.38it/s]\n"
     ]
    },
    {
     "name": "stdout",
     "output_type": "stream",
     "text": [
      "{'val_loss': 2.0045756036188545, 'val_accuracy': 0.5259541984732824, 'precision': 0.44096906150329107, 'recall': 0.5259541984732824, 'f1-score': 0.46701689570827504, 'macro_f1-score': 0.0631669748800182, 'balanced_accuracy': 0.08321480819357423, 'mcc': 0.3592864035122959, 'train_loss': 1.7464551747572132}\n",
      "Epoch 11/20\n"
     ]
    },
    {
     "name": "stderr",
     "output_type": "stream",
     "text": [
      "100%|██████████| 328/328 [00:34<00:00,  9.41it/s]\n"
     ]
    },
    {
     "name": "stdout",
     "output_type": "stream",
     "text": [
      "{'val_loss': 2.010614688076624, 'val_accuracy': 0.5404580152671755, 'precision': 0.4256504191133458, 'recall': 0.5404580152671755, 'f1-score': 0.47003041132479473, 'macro_f1-score': 0.06479596597845112, 'balanced_accuracy': 0.08369327650118093, 'mcc': 0.36637691798101746, 'train_loss': 1.9049785238940542}\n",
      "Early stopping.\n",
      "\n",
      "[Fold 2]\n",
      "Label distribution after resampling:\n",
      "  label 0: 2465\n",
      "  label 1: 22\n",
      "  label 2: 64\n",
      "  label 3: 24\n",
      "  label 4: 190\n",
      "  label 5: 113\n",
      "  label 6: 93\n",
      "  label 7: 31\n",
      "  label 8: 68\n",
      "  label 9: 29\n",
      "  label 10: 67\n",
      "  label 11: 169\n",
      "  label 12: 190\n",
      "  label 13: 29\n",
      "  label 14: 22\n",
      "  label 15: 25\n",
      "  label 16: 19\n",
      "  label 17: 181\n",
      "  label 18: 92\n",
      "  label 19: 44\n",
      "  label 20: 13\n",
      "  label 21: 35\n",
      "  label 22: 76\n",
      "  label 23: 158\n",
      "  label 24: 13\n",
      "  label 25: 44\n",
      "  label 26: 84\n",
      "  label 27: 47\n",
      "  label 28: 12\n",
      "  label 29: 12\n",
      "  label 30: 12\n",
      "  label 31: 75\n",
      "  label 32: 36\n",
      "  label 33: 31\n",
      "  label 34: 29\n",
      "  label 35: 12\n",
      "  label 36: 21\n",
      "  label 37: 16\n",
      "  label 38: 6\n",
      "  label 39: 33\n",
      "  label 40: 11\n",
      "  label 41: 8\n",
      "  label 42: 56\n",
      "  label 43: 6\n",
      "  label 44: 19\n",
      "  label 45: 9\n",
      "  label 46: 55\n",
      "  label 47: 241\n",
      "  label 48: 62\n",
      "  label 49: 68\n",
      "model is microsoft/deberta-base lstm\n",
      "Epoch 1/20\n"
     ]
    },
    {
     "name": "stderr",
     "output_type": "stream",
     "text": [
      "100%|██████████| 328/328 [00:34<00:00,  9.43it/s]\n"
     ]
    },
    {
     "name": "stdout",
     "output_type": "stream",
     "text": [
      "{'val_loss': 2.35572554861627, 'val_accuracy': 0.492742551566081, 'precision': 0.27362957105345864, 'recall': 0.492742551566081, 'f1-score': 0.3357750543782106, 'macro_f1-score': 0.025587430885260654, 'balanced_accuracy': 0.02918032786885246, 'mcc': 0.17013225081435104, 'train_loss': 2.549004151326854}\n",
      "Epoch 2/20\n"
     ]
    },
    {
     "name": "stderr",
     "output_type": "stream",
     "text": [
      "100%|██████████| 328/328 [00:35<00:00,  9.36it/s]\n"
     ]
    },
    {
     "name": "stdout",
     "output_type": "stream",
     "text": [
      "{'val_loss': 2.1860213839426272, 'val_accuracy': 0.5141329258976318, 'precision': 0.30979214168794833, 'recall': 0.5141329258976318, 'f1-score': 0.3847020874053469, 'macro_f1-score': 0.038130670081903385, 'balanced_accuracy': 0.050007152599329176, 'mcc': 0.25447966356365836, 'train_loss': 2.2649045886426435}\n",
      "Epoch 3/20\n"
     ]
    },
    {
     "name": "stderr",
     "output_type": "stream",
     "text": [
      "100%|██████████| 328/328 [00:34<00:00,  9.40it/s]\n"
     ]
    },
    {
     "name": "stdout",
     "output_type": "stream",
     "text": [
      "{'val_loss': 2.1395384400356106, 'val_accuracy': 0.5240641711229946, 'precision': 0.3375762204825264, 'recall': 0.5240641711229946, 'f1-score': 0.37932999389835037, 'macro_f1-score': 0.03963726459484498, 'balanced_accuracy': 0.050799508616307415, 'mcc': 0.25763965021378415, 'train_loss': 2.1527391288702082}\n",
      "Epoch 4/20\n"
     ]
    },
    {
     "name": "stderr",
     "output_type": "stream",
     "text": [
      "100%|██████████| 328/328 [00:38<00:00,  8.47it/s]\n"
     ]
    },
    {
     "name": "stdout",
     "output_type": "stream",
     "text": [
      "{'val_loss': 2.1021104811168296, 'val_accuracy': 0.5194805194805194, 'precision': 0.39607546661417287, 'recall': 0.5194805194805194, 'f1-score': 0.4388708966920832, 'macro_f1-score': 0.051349495629623584, 'balanced_accuracy': 0.07541356754412476, 'mcc': 0.3353456555080778, 'train_loss': 2.046036959421344}\n",
      "Epoch 5/20\n"
     ]
    },
    {
     "name": "stderr",
     "output_type": "stream",
     "text": [
      "100%|██████████| 328/328 [00:36<00:00,  9.10it/s]\n"
     ]
    },
    {
     "name": "stdout",
     "output_type": "stream",
     "text": [
      "{'val_loss': 2.1194555018006302, 'val_accuracy': 0.5072574484339191, 'precision': 0.37259619968414726, 'recall': 0.5072574484339191, 'f1-score': 0.41590708963654166, 'macro_f1-score': 0.045163973038058663, 'balanced_accuracy': 0.06649168968939026, 'mcc': 0.30157483597948537, 'train_loss': 1.9566138648405307}\n",
      "Epoch 6/20\n"
     ]
    },
    {
     "name": "stderr",
     "output_type": "stream",
     "text": [
      "100%|██████████| 328/328 [00:34<00:00,  9.38it/s]\n"
     ]
    },
    {
     "name": "stdout",
     "output_type": "stream",
     "text": [
      "{'val_loss': 2.0029021181711335, 'val_accuracy': 0.5370511841100076, 'precision': 0.35413840158189347, 'recall': 0.5370511841100076, 'f1-score': 0.4213406576763657, 'macro_f1-score': 0.05505427365030986, 'balanced_accuracy': 0.06365847050169263, 'mcc': 0.30103010103143196, 'train_loss': 1.9258331870887337}\n",
      "Epoch 7/20\n"
     ]
    },
    {
     "name": "stderr",
     "output_type": "stream",
     "text": [
      "100%|██████████| 328/328 [00:34<00:00,  9.41it/s]\n"
     ]
    },
    {
     "name": "stdout",
     "output_type": "stream",
     "text": [
      "{'val_loss': 2.0272423094365655, 'val_accuracy': 0.5240641711229946, 'precision': 0.3479560142694962, 'recall': 0.5240641711229946, 'f1-score': 0.41699093740015686, 'macro_f1-score': 0.052279454049886535, 'balanced_accuracy': 0.0709738561381566, 'mcc': 0.3034340063649994, 'train_loss': 1.904489711472174}\n",
      "Epoch 8/20\n"
     ]
    },
    {
     "name": "stderr",
     "output_type": "stream",
     "text": [
      "100%|██████████| 328/328 [00:34<00:00,  9.39it/s]\n"
     ]
    },
    {
     "name": "stdout",
     "output_type": "stream",
     "text": [
      "{'val_loss': 2.0841256728986415, 'val_accuracy': 0.5126050420168067, 'precision': 0.39434707647867884, 'recall': 0.5126050420168067, 'f1-score': 0.4393000030993644, 'macro_f1-score': 0.056482783488088495, 'balanced_accuracy': 0.07339106332132518, 'mcc': 0.3202175799755553, 'train_loss': 1.857786650701267}\n",
      "Epoch 9/20\n"
     ]
    },
    {
     "name": "stderr",
     "output_type": "stream",
     "text": [
      "100%|██████████| 328/328 [00:34<00:00,  9.39it/s]\n"
     ]
    },
    {
     "name": "stdout",
     "output_type": "stream",
     "text": [
      "{'val_loss': 2.0361552223926638, 'val_accuracy': 0.5347593582887701, 'precision': 0.3794973911034801, 'recall': 0.5347593582887701, 'f1-score': 0.43719476047816763, 'macro_f1-score': 0.0551459916733471, 'balanced_accuracy': 0.07635273035876038, 'mcc': 0.3313572471937427, 'train_loss': 1.8303942378701232}\n",
      "Epoch 10/20\n"
     ]
    },
    {
     "name": "stderr",
     "output_type": "stream",
     "text": [
      "100%|██████████| 328/328 [00:34<00:00,  9.43it/s]\n"
     ]
    },
    {
     "name": "stdout",
     "output_type": "stream",
     "text": [
      "{'val_loss': 2.0250090745891014, 'val_accuracy': 0.5118411000763942, 'precision': 0.34377394519738563, 'recall': 0.5118411000763942, 'f1-score': 0.4061181413031129, 'macro_f1-score': 0.046316959312314505, 'balanced_accuracy': 0.05805978485740493, 'mcc': 0.2698452647663969, 'train_loss': 1.974605327517521}\n",
      "Epoch 11/20\n"
     ]
    },
    {
     "name": "stderr",
     "output_type": "stream",
     "text": [
      "100%|██████████| 328/328 [00:35<00:00,  9.37it/s]\n"
     ]
    },
    {
     "name": "stdout",
     "output_type": "stream",
     "text": [
      "{'val_loss': 1.9954716759483988, 'val_accuracy': 0.5133689839572193, 'precision': 0.36529303958031106, 'recall': 0.5133689839572193, 'f1-score': 0.42420546827152833, 'macro_f1-score': 0.052684484534542955, 'balanced_accuracy': 0.06772406181525041, 'mcc': 0.29726261813553156, 'train_loss': 1.7812345538560936}\n",
      "Early stopping.\n",
      "\n",
      "[Fold 3]\n",
      "Label distribution after resampling:\n",
      "  label 0: 2466\n",
      "  label 1: 21\n",
      "  label 2: 64\n",
      "  label 3: 24\n",
      "  label 4: 191\n",
      "  label 5: 113\n",
      "  label 6: 92\n",
      "  label 7: 31\n",
      "  label 8: 68\n",
      "  label 9: 29\n",
      "  label 10: 68\n",
      "  label 11: 168\n",
      "  label 12: 190\n",
      "  label 13: 29\n",
      "  label 14: 22\n",
      "  label 15: 25\n",
      "  label 16: 19\n",
      "  label 17: 181\n",
      "  label 18: 92\n",
      "  label 19: 44\n",
      "  label 20: 13\n",
      "  label 21: 36\n",
      "  label 22: 76\n",
      "  label 23: 158\n",
      "  label 24: 12\n",
      "  label 25: 44\n",
      "  label 26: 84\n",
      "  label 27: 48\n",
      "  label 28: 11\n",
      "  label 29: 13\n",
      "  label 30: 11\n",
      "  label 31: 75\n",
      "  label 32: 36\n",
      "  label 33: 31\n",
      "  label 34: 30\n",
      "  label 35: 11\n",
      "  label 36: 21\n",
      "  label 37: 16\n",
      "  label 38: 5\n",
      "  label 39: 33\n",
      "  label 40: 11\n",
      "  label 41: 9\n",
      "  label 42: 57\n",
      "  label 43: 7\n",
      "  label 44: 18\n",
      "  label 45: 9\n",
      "  label 46: 54\n",
      "  label 47: 242\n",
      "  label 48: 61\n",
      "  label 49: 68\n",
      "model is microsoft/deberta-base lstm\n",
      "Epoch 1/20\n"
     ]
    },
    {
     "name": "stderr",
     "output_type": "stream",
     "text": [
      "100%|██████████| 328/328 [00:34<00:00,  9.38it/s]\n"
     ]
    },
    {
     "name": "stdout",
     "output_type": "stream",
     "text": [
      "{'val_loss': 2.2375281991028206, 'val_accuracy': 0.5026737967914439, 'precision': 0.31433792906044333, 'recall': 0.5026737967914439, 'f1-score': 0.37545565748941107, 'macro_f1-score': 0.03827807763458754, 'balanced_accuracy': 0.04836293021399404, 'mcc': 0.22524936504980647, 'train_loss': 2.477082518906128}\n",
      "Epoch 2/20\n"
     ]
    },
    {
     "name": "stderr",
     "output_type": "stream",
     "text": [
      "100%|██████████| 328/328 [00:34<00:00,  9.37it/s]\n"
     ]
    },
    {
     "name": "stdout",
     "output_type": "stream",
     "text": [
      "{'val_loss': 2.393119851263558, 'val_accuracy': 0.5095492742551566, 'precision': 0.28221281167792006, 'recall': 0.5095492742551566, 'f1-score': 0.35771288846207366, 'macro_f1-score': 0.0324586306713152, 'balanced_accuracy': 0.038130653034908354, 'mcc': 0.21580064888085454, 'train_loss': 2.223163737029564}\n",
      "Epoch 3/20\n"
     ]
    },
    {
     "name": "stderr",
     "output_type": "stream",
     "text": [
      "100%|██████████| 328/328 [00:34<00:00,  9.41it/s]\n"
     ]
    },
    {
     "name": "stdout",
     "output_type": "stream",
     "text": [
      "{'val_loss': 2.1470269168295513, 'val_accuracy': 0.5156608097784569, 'precision': 0.2914989764967502, 'recall': 0.5156608097784569, 'f1-score': 0.3708027880150512, 'macro_f1-score': 0.03248807219191229, 'balanced_accuracy': 0.04357304043474256, 'mcc': 0.24240545656230558, 'train_loss': 2.2454803604178313}\n",
      "Epoch 4/20\n"
     ]
    },
    {
     "name": "stderr",
     "output_type": "stream",
     "text": [
      "100%|██████████| 328/328 [00:34<00:00,  9.37it/s]\n"
     ]
    },
    {
     "name": "stdout",
     "output_type": "stream",
     "text": [
      "{'val_loss': 2.467322769688397, 'val_accuracy': 0.48128342245989303, 'precision': 0.2661530182821393, 'recall': 0.48128342245989303, 'f1-score': 0.3355955785209409, 'macro_f1-score': 0.02100061371541411, 'balanced_accuracy': 0.029120874397470145, 'mcc': 0.15187657159341467, 'train_loss': 2.155214594449939}\n",
      "Early stopping.\n",
      "\n",
      "[Fold 4]\n",
      "Label distribution after resampling:\n",
      "  label 0: 2466\n",
      "  label 1: 21\n",
      "  label 2: 64\n",
      "  label 3: 24\n",
      "  label 4: 191\n",
      "  label 5: 113\n",
      "  label 6: 93\n",
      "  label 7: 30\n",
      "  label 8: 68\n",
      "  label 9: 30\n",
      "  label 10: 67\n",
      "  label 11: 169\n",
      "  label 12: 189\n",
      "  label 13: 29\n",
      "  label 14: 22\n",
      "  label 15: 25\n",
      "  label 16: 19\n",
      "  label 17: 181\n",
      "  label 18: 92\n",
      "  label 19: 44\n",
      "  label 20: 14\n",
      "  label 21: 35\n",
      "  label 22: 76\n",
      "  label 23: 158\n",
      "  label 24: 13\n",
      "  label 25: 44\n",
      "  label 26: 84\n",
      "  label 27: 47\n",
      "  label 28: 11\n",
      "  label 29: 13\n",
      "  label 30: 11\n",
      "  label 31: 75\n",
      "  label 32: 36\n",
      "  label 33: 31\n",
      "  label 34: 30\n",
      "  label 35: 11\n",
      "  label 36: 22\n",
      "  label 37: 16\n",
      "  label 38: 5\n",
      "  label 39: 33\n",
      "  label 40: 10\n",
      "  label 41: 9\n",
      "  label 42: 57\n",
      "  label 43: 7\n",
      "  label 44: 18\n",
      "  label 45: 9\n",
      "  label 46: 54\n",
      "  label 47: 242\n",
      "  label 48: 61\n",
      "  label 49: 68\n",
      "model is microsoft/deberta-base lstm\n",
      "Epoch 1/20\n"
     ]
    },
    {
     "name": "stderr",
     "output_type": "stream",
     "text": [
      "100%|██████████| 328/328 [00:34<00:00,  9.41it/s]\n"
     ]
    },
    {
     "name": "stdout",
     "output_type": "stream",
     "text": [
      "{'val_loss': 2.2871444276193293, 'val_accuracy': 0.48739495798319327, 'precision': 0.2634655526277073, 'recall': 0.48739495798319327, 'f1-score': 0.3286425430969597, 'macro_f1-score': 0.02309702893547957, 'balanced_accuracy': 0.027333333333333334, 'mcc': 0.14522150113177806, 'train_loss': 2.488720493709169}\n",
      "Epoch 2/20\n"
     ]
    },
    {
     "name": "stderr",
     "output_type": "stream",
     "text": [
      "100%|██████████| 328/328 [00:34<00:00,  9.41it/s]\n"
     ]
    },
    {
     "name": "stdout",
     "output_type": "stream",
     "text": [
      "{'val_loss': 2.160909091554037, 'val_accuracy': 0.5187165775401069, 'precision': 0.3599348851566812, 'recall': 0.5187165775401069, 'f1-score': 0.4098198658610176, 'macro_f1-score': 0.04367415065868028, 'balanced_accuracy': 0.05802250468207915, 'mcc': 0.2928042416382621, 'train_loss': 2.239267154256018}\n",
      "Epoch 3/20\n"
     ]
    },
    {
     "name": "stderr",
     "output_type": "stream",
     "text": [
      "100%|██████████| 328/328 [00:34<00:00,  9.38it/s]\n"
     ]
    },
    {
     "name": "stdout",
     "output_type": "stream",
     "text": [
      "{'val_loss': 2.128867201688813, 'val_accuracy': 0.5339954163483576, 'precision': 0.34601686511939705, 'recall': 0.5339954163483576, 'f1-score': 0.4182214551458981, 'macro_f1-score': 0.04669392940972969, 'balanced_accuracy': 0.0618855960824046, 'mcc': 0.31128490759376976, 'train_loss': 2.1107536428948728}\n",
      "Epoch 4/20\n"
     ]
    },
    {
     "name": "stderr",
     "output_type": "stream",
     "text": [
      "100%|██████████| 328/328 [00:34<00:00,  9.43it/s]\n"
     ]
    },
    {
     "name": "stdout",
     "output_type": "stream",
     "text": [
      "{'val_loss': 2.111884851281236, 'val_accuracy': 0.5141329258976318, 'precision': 0.33574407100491394, 'recall': 0.5141329258976318, 'f1-score': 0.39811041865162533, 'macro_f1-score': 0.03655114965608825, 'balanced_accuracy': 0.05559673482545823, 'mcc': 0.29012495104880015, 'train_loss': 2.0952059815569624}\n",
      "Epoch 5/20\n"
     ]
    },
    {
     "name": "stderr",
     "output_type": "stream",
     "text": [
      "100%|██████████| 328/328 [00:34<00:00,  9.41it/s]\n"
     ]
    },
    {
     "name": "stdout",
     "output_type": "stream",
     "text": [
      "{'val_loss': 2.043988898759935, 'val_accuracy': 0.5278838808250573, 'precision': 0.3647708299575765, 'recall': 0.5278838808250573, 'f1-score': 0.4228418854984556, 'macro_f1-score': 0.04867495504512259, 'balanced_accuracy': 0.06862894906511928, 'mcc': 0.3168793370657085, 'train_loss': 1.9784827971967256}\n",
      "Epoch 6/20\n"
     ]
    },
    {
     "name": "stderr",
     "output_type": "stream",
     "text": [
      "100%|██████████| 328/328 [00:35<00:00,  9.34it/s]\n"
     ]
    },
    {
     "name": "stdout",
     "output_type": "stream",
     "text": [
      "{'val_loss': 2.078275418863064, 'val_accuracy': 0.5217723453017571, 'precision': 0.38101711701646673, 'recall': 0.5217723453017571, 'f1-score': 0.43448164039745163, 'macro_f1-score': 0.05163479988902433, 'balanced_accuracy': 0.0742693423597679, 'mcc': 0.32919239397515365, 'train_loss': 1.8958180399566162}\n",
      "Epoch 7/20\n"
     ]
    },
    {
     "name": "stderr",
     "output_type": "stream",
     "text": [
      "100%|██████████| 328/328 [00:34<00:00,  9.40it/s]\n"
     ]
    },
    {
     "name": "stdout",
     "output_type": "stream",
     "text": [
      "{'val_loss': 2.0982603576125167, 'val_accuracy': 0.4950343773873186, 'precision': 0.3537486562360301, 'recall': 0.4950343773873186, 'f1-score': 0.40840623596540276, 'macro_f1-score': 0.03993243834278577, 'balanced_accuracy': 0.06031601731601732, 'mcc': 0.2871272964039592, 'train_loss': 1.8651659125235023}\n",
      "Epoch 8/20\n"
     ]
    },
    {
     "name": "stderr",
     "output_type": "stream",
     "text": [
      "100%|██████████| 328/328 [00:34<00:00,  9.41it/s]\n"
     ]
    },
    {
     "name": "stdout",
     "output_type": "stream",
     "text": [
      "{'val_loss': 2.033954860233679, 'val_accuracy': 0.5148968678380443, 'precision': 0.3900688157850909, 'recall': 0.5148968678380443, 'f1-score': 0.43691691362443263, 'macro_f1-score': 0.05477184475585514, 'balanced_accuracy': 0.07000344572684998, 'mcc': 0.3125439288402101, 'train_loss': 1.7920332903542169}\n",
      "Epoch 9/20\n"
     ]
    },
    {
     "name": "stderr",
     "output_type": "stream",
     "text": [
      "100%|██████████| 328/328 [00:34<00:00,  9.39it/s]\n"
     ]
    },
    {
     "name": "stdout",
     "output_type": "stream",
     "text": [
      "{'val_loss': 2.037506145675008, 'val_accuracy': 0.5278838808250573, 'precision': 0.3918534968661726, 'recall': 0.5278838808250573, 'f1-score': 0.442368426595686, 'macro_f1-score': 0.06292077251364353, 'balanced_accuracy': 0.07888298680291962, 'mcc': 0.32794735281093135, 'train_loss': 1.7355650161824576}\n",
      "Epoch 10/20\n"
     ]
    },
    {
     "name": "stderr",
     "output_type": "stream",
     "text": [
      "100%|██████████| 328/328 [00:34<00:00,  9.40it/s]\n"
     ]
    },
    {
     "name": "stdout",
     "output_type": "stream",
     "text": [
      "{'val_loss': 2.1234247364648957, 'val_accuracy': 0.4744079449961803, 'precision': 0.4492686688186247, 'recall': 0.4744079449961803, 'f1-score': 0.4464513864717796, 'macro_f1-score': 0.061632639264231834, 'balanced_accuracy': 0.08117646224001207, 'mcc': 0.3191992389413294, 'train_loss': 1.695609862848026}\n",
      "Epoch 11/20\n"
     ]
    },
    {
     "name": "stderr",
     "output_type": "stream",
     "text": [
      "100%|██████████| 328/328 [00:34<00:00,  9.42it/s]\n"
     ]
    },
    {
     "name": "stdout",
     "output_type": "stream",
     "text": [
      "{'val_loss': 2.022644991554865, 'val_accuracy': 0.5133689839572193, 'precision': 0.435345681795069, 'recall': 0.5133689839572193, 'f1-score': 0.4535122357344787, 'macro_f1-score': 0.061077839513823465, 'balanced_accuracy': 0.0879960475010867, 'mcc': 0.3517039648187974, 'train_loss': 1.6616838552602908}\n",
      "Epoch 12/20\n"
     ]
    },
    {
     "name": "stderr",
     "output_type": "stream",
     "text": [
      "100%|██████████| 328/328 [00:34<00:00,  9.37it/s]\n"
     ]
    },
    {
     "name": "stdout",
     "output_type": "stream",
     "text": [
      "{'val_loss': 2.0980505790652297, 'val_accuracy': 0.5202444614209321, 'precision': 0.3877134253021975, 'recall': 0.5202444614209321, 'f1-score': 0.4277596193573438, 'macro_f1-score': 0.046570336086673325, 'balanced_accuracy': 0.06797134189687382, 'mcc': 0.32880447673345226, 'train_loss': 1.7266828517724828}\n",
      "Early stopping.\n",
      "\n",
      "[Fold 5]\n",
      "Label distribution after resampling:\n",
      "  label 0: 2466\n",
      "  label 1: 22\n",
      "  label 2: 64\n",
      "  label 3: 24\n",
      "  label 4: 190\n",
      "  label 5: 113\n",
      "  label 6: 93\n",
      "  label 7: 30\n",
      "  label 8: 68\n",
      "  label 9: 30\n",
      "  label 10: 67\n",
      "  label 11: 169\n",
      "  label 12: 189\n",
      "  label 13: 29\n",
      "  label 14: 23\n",
      "  label 15: 24\n",
      "  label 16: 20\n",
      "  label 17: 180\n",
      "  label 18: 92\n",
      "  label 19: 44\n",
      "  label 20: 14\n",
      "  label 21: 35\n",
      "  label 22: 76\n",
      "  label 23: 157\n",
      "  label 24: 13\n",
      "  label 25: 44\n",
      "  label 26: 84\n",
      "  label 27: 47\n",
      "  label 28: 11\n",
      "  label 29: 13\n",
      "  label 30: 11\n",
      "  label 31: 75\n",
      "  label 32: 36\n",
      "  label 33: 31\n",
      "  label 34: 30\n",
      "  label 35: 11\n",
      "  label 36: 22\n",
      "  label 37: 16\n",
      "  label 38: 6\n",
      "  label 39: 33\n",
      "  label 40: 10\n",
      "  label 41: 9\n",
      "  label 42: 57\n",
      "  label 43: 6\n",
      "  label 44: 18\n",
      "  label 45: 9\n",
      "  label 46: 54\n",
      "  label 47: 242\n",
      "  label 48: 62\n",
      "  label 49: 68\n",
      "model is microsoft/deberta-base lstm\n",
      "Epoch 1/20\n"
     ]
    },
    {
     "name": "stderr",
     "output_type": "stream",
     "text": [
      "100%|██████████| 328/328 [00:34<00:00,  9.42it/s]\n"
     ]
    },
    {
     "name": "stdout",
     "output_type": "stream",
     "text": [
      "{'val_loss': 2.289747903986675, 'val_accuracy': 0.494270435446906, 'precision': 0.26546718281122095, 'recall': 0.494270435446906, 'f1-score': 0.33624010998490206, 'macro_f1-score': 0.025710824870488737, 'balanced_accuracy': 0.030333333333333334, 'mcc': 0.17317655811956953, 'train_loss': 2.511894166469574}\n",
      "Epoch 2/20\n"
     ]
    },
    {
     "name": "stderr",
     "output_type": "stream",
     "text": [
      "100%|██████████| 328/328 [00:34<00:00,  9.43it/s]\n"
     ]
    },
    {
     "name": "stdout",
     "output_type": "stream",
     "text": [
      "{'val_loss': 2.2254282207023808, 'val_accuracy': 0.4919786096256685, 'precision': 0.28375174521219143, 'recall': 0.4919786096256685, 'f1-score': 0.34542716310656574, 'macro_f1-score': 0.030764245715237823, 'balanced_accuracy': 0.03416111424807077, 'mcc': 0.15930631804147552, 'train_loss': 2.2707330697193377}\n",
      "Epoch 3/20\n"
     ]
    },
    {
     "name": "stderr",
     "output_type": "stream",
     "text": [
      "100%|██████████| 328/328 [00:35<00:00,  9.34it/s]\n"
     ]
    },
    {
     "name": "stdout",
     "output_type": "stream",
     "text": [
      "{'val_loss': 2.344764271887337, 'val_accuracy': 0.49961802902979374, 'precision': 0.28372151715280225, 'recall': 0.49961802902979374, 'f1-score': 0.34896983266629844, 'macro_f1-score': 0.03010809470210046, 'balanced_accuracy': 0.0335, 'mcc': 0.18534318857537677, 'train_loss': 2.238343028760538}\n",
      "Epoch 4/20\n"
     ]
    },
    {
     "name": "stderr",
     "output_type": "stream",
     "text": [
      "100%|██████████| 328/328 [00:34<00:00,  9.42it/s]\n"
     ]
    },
    {
     "name": "stdout",
     "output_type": "stream",
     "text": [
      "{'val_loss': 2.3601036718705806, 'val_accuracy': 0.4904507257448434, 'precision': 0.2624973255536219, 'recall': 0.4904507257448434, 'f1-score': 0.33973232447167706, 'macro_f1-score': 0.02579897230229352, 'balanced_accuracy': 0.03299458874458874, 'mcc': 0.16002567683919605, 'train_loss': 2.2684211843624347}\n",
      "Epoch 5/20\n"
     ]
    },
    {
     "name": "stderr",
     "output_type": "stream",
     "text": [
      "100%|██████████| 328/328 [00:34<00:00,  9.39it/s]\n"
     ]
    },
    {
     "name": "stdout",
     "output_type": "stream",
     "text": [
      "{'val_loss': 2.2032306703125557, 'val_accuracy': 0.49732620320855614, 'precision': 0.28206013169436167, 'recall': 0.49732620320855614, 'f1-score': 0.3532839238557903, 'macro_f1-score': 0.034099126272159413, 'balanced_accuracy': 0.040416149068322985, 'mcc': 0.18248383518893793, 'train_loss': 2.285440461301222}\n",
      "Epoch 6/20\n"
     ]
    },
    {
     "name": "stderr",
     "output_type": "stream",
     "text": [
      "100%|██████████| 328/328 [00:34<00:00,  9.38it/s]\n"
     ]
    },
    {
     "name": "stdout",
     "output_type": "stream",
     "text": [
      "{'val_loss': 2.196840161957392, 'val_accuracy': 0.4721161191749427, 'precision': 0.24293391495963845, 'recall': 0.4721161191749427, 'f1-score': 0.31907998389971826, 'macro_f1-score': 0.021648172043010755, 'balanced_accuracy': 0.028489177489177488, 'mcc': 0.08406471295280317, 'train_loss': 2.2379521931090007}\n",
      "Epoch 7/20\n"
     ]
    },
    {
     "name": "stderr",
     "output_type": "stream",
     "text": [
      "100%|██████████| 328/328 [00:34<00:00,  9.39it/s]\n"
     ]
    },
    {
     "name": "stdout",
     "output_type": "stream",
     "text": [
      "{'val_loss': 2.215715920779763, 'val_accuracy': 0.48663101604278075, 'precision': 0.2563600679358452, 'recall': 0.48663101604278075, 'f1-score': 0.3335420279374106, 'macro_f1-score': 0.02194406298371751, 'balanced_accuracy': 0.03131357048748353, 'mcc': 0.15415463957135894, 'train_loss': 2.1947091054625627}\n",
      "Epoch 8/20\n"
     ]
    },
    {
     "name": "stderr",
     "output_type": "stream",
     "text": [
      "100%|██████████| 328/328 [00:34<00:00,  9.44it/s]\n"
     ]
    },
    {
     "name": "stdout",
     "output_type": "stream",
     "text": [
      "{'val_loss': 2.3566202375946976, 'val_accuracy': 0.48892284186401835, 'precision': 0.266767656772607, 'recall': 0.48892284186401835, 'f1-score': 0.345130304401786, 'macro_f1-score': 0.02577154496300488, 'balanced_accuracy': 0.036929936006022956, 'mcc': 0.18055668748981948, 'train_loss': 2.1393722188545437}\n",
      "Early stopping.\n",
      "\n",
      " === microsoft/deberta-base + lstm + none Final 5-fold Cross-Validation Results ===\n",
      "val_loss: 2.1058\n",
      "val_accuracy: 0.5195\n",
      "precision: 0.3593\n",
      "recall: 0.5195\n",
      "f1-score: 0.4159\n",
      "macro_f1-score: 0.0529\n",
      "balanced_accuracy: 0.0661\n",
      "mcc: 0.2848\n",
      "train_loss: 2.0429\n",
      "total_seconds: 1782.0000\n",
      "total_time: 0 hrs 29 mins 42 secs\n",
      "▶ Running: microsoft/deberta-base + bilstm + none\n",
      "tokenizer is microsoft/deberta-base\n",
      "Using device: cuda\n",
      "CUDA Available: True\n",
      "CUDA Device: NVIDIA GeForce RTX 5070 Ti\n",
      "Current GPU Memory Allocated: 0.02 GB\n",
      "Current GPU Memory Cached: 5.30 GB\n",
      "\n",
      "[Fold 1]\n",
      "Label distribution after resampling:\n",
      "  label 0: 2465\n",
      "  label 1: 22\n",
      "  label 2: 64\n",
      "  label 3: 24\n",
      "  label 4: 190\n",
      "  label 5: 112\n",
      "  label 6: 93\n",
      "  label 7: 30\n",
      "  label 8: 68\n",
      "  label 9: 30\n",
      "  label 10: 67\n",
      "  label 11: 169\n",
      "  label 12: 190\n",
      "  label 13: 28\n",
      "  label 14: 23\n",
      "  label 15: 25\n",
      "  label 16: 19\n",
      "  label 17: 181\n",
      "  label 18: 92\n",
      "  label 19: 44\n",
      "  label 20: 14\n",
      "  label 21: 35\n",
      "  label 22: 76\n",
      "  label 23: 157\n",
      "  label 24: 13\n",
      "  label 25: 44\n",
      "  label 26: 84\n",
      "  label 27: 47\n",
      "  label 28: 11\n",
      "  label 29: 13\n",
      "  label 30: 11\n",
      "  label 31: 76\n",
      "  label 32: 36\n",
      "  label 33: 32\n",
      "  label 34: 29\n",
      "  label 35: 11\n",
      "  label 36: 22\n",
      "  label 37: 16\n",
      "  label 38: 6\n",
      "  label 39: 32\n",
      "  label 40: 10\n",
      "  label 41: 9\n",
      "  label 42: 57\n",
      "  label 43: 6\n",
      "  label 44: 19\n",
      "  label 45: 8\n",
      "  label 46: 55\n",
      "  label 47: 241\n",
      "  label 48: 62\n",
      "  label 49: 68\n",
      "model is microsoft/deberta-base bilstm\n",
      "Epoch 1/20\n"
     ]
    },
    {
     "name": "stderr",
     "output_type": "stream",
     "text": [
      "100%|██████████| 328/328 [00:36<00:00,  9.07it/s]\n"
     ]
    },
    {
     "name": "stdout",
     "output_type": "stream",
     "text": [
      "{'val_loss': 2.2154880464076996, 'val_accuracy': 0.5061068702290077, 'precision': 0.27593503637509026, 'recall': 0.5061068702290077, 'f1-score': 0.3567321237453576, 'macro_f1-score': 0.027908576489928345, 'balanced_accuracy': 0.03718082162056842, 'mcc': 0.21095970957398, 'train_loss': 2.4635176389682583}\n",
      "Epoch 2/20\n"
     ]
    },
    {
     "name": "stderr",
     "output_type": "stream",
     "text": [
      "100%|██████████| 328/328 [00:36<00:00,  9.10it/s]\n"
     ]
    },
    {
     "name": "stdout",
     "output_type": "stream",
     "text": [
      "{'val_loss': 2.2219082211575856, 'val_accuracy': 0.5282442748091603, 'precision': 0.30668818486472665, 'recall': 0.5282442748091603, 'f1-score': 0.3868416870263352, 'macro_f1-score': 0.03783370074156962, 'balanced_accuracy': 0.05288295061490406, 'mcc': 0.27783486412999886, 'train_loss': 2.2138112325493884}\n",
      "Epoch 3/20\n"
     ]
    },
    {
     "name": "stderr",
     "output_type": "stream",
     "text": [
      "100%|██████████| 328/328 [00:35<00:00,  9.14it/s]\n"
     ]
    },
    {
     "name": "stdout",
     "output_type": "stream",
     "text": [
      "{'val_loss': 2.136079612301617, 'val_accuracy': 0.5282442748091603, 'precision': 0.3330055093880962, 'recall': 0.5282442748091603, 'f1-score': 0.4041956254169989, 'macro_f1-score': 0.045350489866877355, 'balanced_accuracy': 0.054123856635719676, 'mcc': 0.279763941004138, 'train_loss': 2.1367452847884922}\n",
      "Epoch 4/20\n"
     ]
    },
    {
     "name": "stderr",
     "output_type": "stream",
     "text": [
      "100%|██████████| 328/328 [00:36<00:00,  9.06it/s]\n"
     ]
    },
    {
     "name": "stdout",
     "output_type": "stream",
     "text": [
      "{'val_loss': 1.965511952958456, 'val_accuracy': 0.5534351145038168, 'precision': 0.37401453327031486, 'recall': 0.5534351145038168, 'f1-score': 0.44273802097759035, 'macro_f1-score': 0.05668478257482994, 'balanced_accuracy': 0.07334954374055373, 'mcc': 0.34915555509809104, 'train_loss': 1.9766442379573497}\n",
      "Epoch 5/20\n"
     ]
    },
    {
     "name": "stderr",
     "output_type": "stream",
     "text": [
      "100%|██████████| 328/328 [00:36<00:00,  9.09it/s]\n"
     ]
    },
    {
     "name": "stdout",
     "output_type": "stream",
     "text": [
      "{'val_loss': 2.0260849696833914, 'val_accuracy': 0.5610687022900763, 'precision': 0.38747279038008303, 'recall': 0.5610687022900763, 'f1-score': 0.45484683589006203, 'macro_f1-score': 0.06122567504924504, 'balanced_accuracy': 0.08459280721479041, 'mcc': 0.37041743755066014, 'train_loss': 1.9250619387844714}\n",
      "Epoch 6/20\n"
     ]
    },
    {
     "name": "stderr",
     "output_type": "stream",
     "text": [
      "100%|██████████| 328/328 [00:36<00:00,  9.07it/s]\n"
     ]
    },
    {
     "name": "stdout",
     "output_type": "stream",
     "text": [
      "{'val_loss': 2.058961023644703, 'val_accuracy': 0.5267175572519084, 'precision': 0.4171930817889073, 'recall': 0.5267175572519084, 'f1-score': 0.4571810972870291, 'macro_f1-score': 0.05769078031601575, 'balanced_accuracy': 0.08322279422180812, 'mcc': 0.35668884378726745, 'train_loss': 1.8576625479248965}\n",
      "Epoch 7/20\n"
     ]
    },
    {
     "name": "stderr",
     "output_type": "stream",
     "text": [
      "100%|██████████| 328/328 [00:36<00:00,  9.04it/s]\n"
     ]
    },
    {
     "name": "stdout",
     "output_type": "stream",
     "text": [
      "{'val_loss': 2.009376751213539, 'val_accuracy': 0.5091603053435114, 'precision': 0.35903953421022883, 'recall': 0.5091603053435114, 'f1-score': 0.4116334370691623, 'macro_f1-score': 0.04438300464663568, 'balanced_accuracy': 0.06432501473939141, 'mcc': 0.290378914139175, 'train_loss': 1.8229587466978445}\n",
      "Epoch 8/20\n"
     ]
    },
    {
     "name": "stderr",
     "output_type": "stream",
     "text": [
      "100%|██████████| 328/328 [00:36<00:00,  9.04it/s]\n"
     ]
    },
    {
     "name": "stdout",
     "output_type": "stream",
     "text": [
      "{'val_loss': 2.093356331674064, 'val_accuracy': 0.5389312977099237, 'precision': 0.37307892982002616, 'recall': 0.5389312977099237, 'f1-score': 0.4394825093244205, 'macro_f1-score': 0.04959694350666811, 'balanced_accuracy': 0.0677576520537359, 'mcc': 0.33856993574775235, 'train_loss': 1.7532093290512154}\n",
      "Early stopping.\n",
      "\n",
      "[Fold 2]\n",
      "Label distribution after resampling:\n",
      "  label 0: 2465\n",
      "  label 1: 22\n",
      "  label 2: 64\n",
      "  label 3: 24\n",
      "  label 4: 190\n",
      "  label 5: 113\n",
      "  label 6: 93\n",
      "  label 7: 31\n",
      "  label 8: 68\n",
      "  label 9: 29\n",
      "  label 10: 67\n",
      "  label 11: 169\n",
      "  label 12: 190\n",
      "  label 13: 29\n",
      "  label 14: 22\n",
      "  label 15: 25\n",
      "  label 16: 19\n",
      "  label 17: 181\n",
      "  label 18: 92\n",
      "  label 19: 44\n",
      "  label 20: 13\n",
      "  label 21: 35\n",
      "  label 22: 76\n",
      "  label 23: 158\n",
      "  label 24: 13\n",
      "  label 25: 44\n",
      "  label 26: 84\n",
      "  label 27: 47\n",
      "  label 28: 12\n",
      "  label 29: 12\n",
      "  label 30: 12\n",
      "  label 31: 75\n",
      "  label 32: 36\n",
      "  label 33: 31\n",
      "  label 34: 29\n",
      "  label 35: 12\n",
      "  label 36: 21\n",
      "  label 37: 16\n",
      "  label 38: 6\n",
      "  label 39: 33\n",
      "  label 40: 11\n",
      "  label 41: 8\n",
      "  label 42: 56\n",
      "  label 43: 6\n",
      "  label 44: 19\n",
      "  label 45: 9\n",
      "  label 46: 55\n",
      "  label 47: 241\n",
      "  label 48: 62\n",
      "  label 49: 68\n",
      "model is microsoft/deberta-base bilstm\n",
      "Epoch 1/20\n"
     ]
    },
    {
     "name": "stderr",
     "output_type": "stream",
     "text": [
      "100%|██████████| 328/328 [00:36<00:00,  9.07it/s]\n"
     ]
    },
    {
     "name": "stdout",
     "output_type": "stream",
     "text": [
      "{'val_loss': 2.239063206242352, 'val_accuracy': 0.5003819709702063, 'precision': 0.3000304381597257, 'recall': 0.5003819709702063, 'f1-score': 0.37078225500356105, 'macro_f1-score': 0.02588064735544215, 'balanced_accuracy': 0.043195874036483006, 'mcc': 0.25022733150643395, 'train_loss': 2.517928918323866}\n",
      "Epoch 2/20\n"
     ]
    },
    {
     "name": "stderr",
     "output_type": "stream",
     "text": [
      "100%|██████████| 328/328 [00:36<00:00,  9.04it/s]\n"
     ]
    },
    {
     "name": "stdout",
     "output_type": "stream",
     "text": [
      "{'val_loss': 2.1012949311151736, 'val_accuracy': 0.5271199388846448, 'precision': 0.32618143681397754, 'recall': 0.5271199388846448, 'f1-score': 0.3910597579075708, 'macro_f1-score': 0.042250087421627856, 'balanced_accuracy': 0.0529745771806339, 'mcc': 0.2706445684000001, 'train_loss': 2.143005748347538}\n",
      "Epoch 3/20\n"
     ]
    },
    {
     "name": "stderr",
     "output_type": "stream",
     "text": [
      "100%|██████████| 328/328 [00:36<00:00,  9.06it/s]\n"
     ]
    },
    {
     "name": "stdout",
     "output_type": "stream",
     "text": [
      "{'val_loss': 1.917387223825222, 'val_accuracy': 0.5538579067990833, 'precision': 0.3835738145830627, 'recall': 0.5538579067990833, 'f1-score': 0.4445821479695427, 'macro_f1-score': 0.05745546271311135, 'balanced_accuracy': 0.08136565113414726, 'mcc': 0.3579302405061209, 'train_loss': 1.9656412939472896}\n",
      "Epoch 4/20\n"
     ]
    },
    {
     "name": "stderr",
     "output_type": "stream",
     "text": [
      "100%|██████████| 328/328 [00:36<00:00,  9.10it/s]\n"
     ]
    },
    {
     "name": "stdout",
     "output_type": "stream",
     "text": [
      "{'val_loss': 2.292283726174657, 'val_accuracy': 0.5179526355996944, 'precision': 0.3049340400091044, 'recall': 0.5179526355996944, 'f1-score': 0.37728921112366465, 'macro_f1-score': 0.03801987422851681, 'balanced_accuracy': 0.04539428585103704, 'mcc': 0.24260600473037336, 'train_loss': 2.1156561879850013}\n",
      "Epoch 5/20\n"
     ]
    },
    {
     "name": "stderr",
     "output_type": "stream",
     "text": [
      "100%|██████████| 328/328 [00:36<00:00,  9.03it/s]\n"
     ]
    },
    {
     "name": "stdout",
     "output_type": "stream",
     "text": [
      "{'val_loss': 2.151787877809711, 'val_accuracy': 0.49809014514896865, 'precision': 0.3896854535743513, 'recall': 0.49809014514896865, 'f1-score': 0.42911945000608576, 'macro_f1-score': 0.052795964184914286, 'balanced_accuracy': 0.08105007503747545, 'mcc': 0.3250318484299453, 'train_loss': 2.144984052675526}\n",
      "Epoch 6/20\n"
     ]
    },
    {
     "name": "stderr",
     "output_type": "stream",
     "text": [
      "100%|██████████| 328/328 [00:36<00:00,  9.09it/s]\n"
     ]
    },
    {
     "name": "stdout",
     "output_type": "stream",
     "text": [
      "{'val_loss': 2.0346371008128656, 'val_accuracy': 0.5378151260504201, 'precision': 0.3540323521753733, 'recall': 0.5378151260504201, 'f1-score': 0.425302738480748, 'macro_f1-score': 0.055922056322680394, 'balanced_accuracy': 0.07306340585657446, 'mcc': 0.3171871849362843, 'train_loss': 2.012090625741133}\n",
      "Early stopping.\n",
      "\n",
      "[Fold 3]\n",
      "Label distribution after resampling:\n",
      "  label 0: 2466\n",
      "  label 1: 21\n",
      "  label 2: 64\n",
      "  label 3: 24\n",
      "  label 4: 191\n",
      "  label 5: 113\n",
      "  label 6: 92\n",
      "  label 7: 31\n",
      "  label 8: 68\n",
      "  label 9: 29\n",
      "  label 10: 68\n",
      "  label 11: 168\n",
      "  label 12: 190\n",
      "  label 13: 29\n",
      "  label 14: 22\n",
      "  label 15: 25\n",
      "  label 16: 19\n",
      "  label 17: 181\n",
      "  label 18: 92\n",
      "  label 19: 44\n",
      "  label 20: 13\n",
      "  label 21: 36\n",
      "  label 22: 76\n",
      "  label 23: 158\n",
      "  label 24: 12\n",
      "  label 25: 44\n",
      "  label 26: 84\n",
      "  label 27: 48\n",
      "  label 28: 11\n",
      "  label 29: 13\n",
      "  label 30: 11\n",
      "  label 31: 75\n",
      "  label 32: 36\n",
      "  label 33: 31\n",
      "  label 34: 30\n",
      "  label 35: 11\n",
      "  label 36: 21\n",
      "  label 37: 16\n",
      "  label 38: 5\n",
      "  label 39: 33\n",
      "  label 40: 11\n",
      "  label 41: 9\n",
      "  label 42: 57\n",
      "  label 43: 7\n",
      "  label 44: 18\n",
      "  label 45: 9\n",
      "  label 46: 54\n",
      "  label 47: 242\n",
      "  label 48: 61\n",
      "  label 49: 68\n",
      "model is microsoft/deberta-base bilstm\n",
      "Epoch 1/20\n"
     ]
    },
    {
     "name": "stderr",
     "output_type": "stream",
     "text": [
      "100%|██████████| 328/328 [00:36<00:00,  9.06it/s]\n"
     ]
    },
    {
     "name": "stdout",
     "output_type": "stream",
     "text": [
      "{'val_loss': 2.2950377406143563, 'val_accuracy': 0.5126050420168067, 'precision': 0.2858720264426434, 'recall': 0.5126050420168067, 'f1-score': 0.3581618746551757, 'macro_f1-score': 0.03345387348548394, 'balanced_accuracy': 0.039070921985815604, 'mcc': 0.22777301605672745, 'train_loss': 2.4243553342615685}\n",
      "Epoch 2/20\n"
     ]
    },
    {
     "name": "stderr",
     "output_type": "stream",
     "text": [
      "100%|██████████| 328/328 [00:36<00:00,  9.05it/s]\n"
     ]
    },
    {
     "name": "stdout",
     "output_type": "stream",
     "text": [
      "{'val_loss': 2.279394790893648, 'val_accuracy': 0.47288006111535524, 'precision': 0.34635241665167477, 'recall': 0.47288006111535524, 'f1-score': 0.3777355209738948, 'macro_f1-score': 0.023305252331090768, 'balanced_accuracy': 0.036852598937705316, 'mcc': 0.24323730266263605, 'train_loss': 2.139622766251971}\n",
      "Epoch 3/20\n"
     ]
    },
    {
     "name": "stderr",
     "output_type": "stream",
     "text": [
      "100%|██████████| 328/328 [00:36<00:00,  9.05it/s]\n"
     ]
    },
    {
     "name": "stdout",
     "output_type": "stream",
     "text": [
      "{'val_loss': 1.990666999322612, 'val_accuracy': 0.5431627196333079, 'precision': 0.3564136189103862, 'recall': 0.5431627196333079, 'f1-score': 0.42597368449897666, 'macro_f1-score': 0.052777542378088585, 'balanced_accuracy': 0.07598208529059593, 'mcc': 0.33354119904422797, 'train_loss': 1.9959850393053962}\n",
      "Epoch 4/20\n"
     ]
    },
    {
     "name": "stderr",
     "output_type": "stream",
     "text": [
      "100%|██████████| 328/328 [00:36<00:00,  9.05it/s]\n"
     ]
    },
    {
     "name": "stdout",
     "output_type": "stream",
     "text": [
      "{'val_loss': 1.9053733116242944, 'val_accuracy': 0.5622612681436211, 'precision': 0.3998994148484295, 'recall': 0.5622612681436211, 'f1-score': 0.4624336059228748, 'macro_f1-score': 0.06466438277825598, 'balanced_accuracy': 0.0923189186699825, 'mcc': 0.38320717494467793, 'train_loss': 1.8607623903307973}\n",
      "Epoch 5/20\n"
     ]
    },
    {
     "name": "stderr",
     "output_type": "stream",
     "text": [
      "100%|██████████| 328/328 [00:36<00:00,  8.98it/s]\n"
     ]
    },
    {
     "name": "stdout",
     "output_type": "stream",
     "text": [
      "{'val_loss': 1.9713111403511792, 'val_accuracy': 0.5462184873949579, 'precision': 0.39288698090173363, 'recall': 0.5462184873949579, 'f1-score': 0.4507651633380741, 'macro_f1-score': 0.05761734121897462, 'balanced_accuracy': 0.0873263792944644, 'mcc': 0.36879749989039623, 'train_loss': 1.8075216218102268}\n",
      "Epoch 6/20\n"
     ]
    },
    {
     "name": "stderr",
     "output_type": "stream",
     "text": [
      "100%|██████████| 328/328 [00:36<00:00,  9.08it/s]\n"
     ]
    },
    {
     "name": "stdout",
     "output_type": "stream",
     "text": [
      "{'val_loss': 1.9524474892674424, 'val_accuracy': 0.5668449197860963, 'precision': 0.39522250067325587, 'recall': 0.5668449197860963, 'f1-score': 0.4625915895308563, 'macro_f1-score': 0.06620964721287695, 'balanced_accuracy': 0.09157190445488318, 'mcc': 0.38330450078698053, 'train_loss': 1.7414021551972483}\n",
      "Epoch 7/20\n"
     ]
    },
    {
     "name": "stderr",
     "output_type": "stream",
     "text": [
      "100%|██████████| 328/328 [00:36<00:00,  9.11it/s]\n"
     ]
    },
    {
     "name": "stdout",
     "output_type": "stream",
     "text": [
      "{'val_loss': 1.936145963465295, 'val_accuracy': 0.5469824293353706, 'precision': 0.433077191134752, 'recall': 0.5469824293353706, 'f1-score': 0.4773972590557691, 'macro_f1-score': 0.0730136282797722, 'balanced_accuracy': 0.09710627885836026, 'mcc': 0.38064646306442074, 'train_loss': 1.6187057794957627}\n",
      "Epoch 8/20\n"
     ]
    },
    {
     "name": "stderr",
     "output_type": "stream",
     "text": [
      "100%|██████████| 328/328 [00:36<00:00,  9.02it/s]\n"
     ]
    },
    {
     "name": "stdout",
     "output_type": "stream",
     "text": [
      "{'val_loss': 2.0504565238952637, 'val_accuracy': 0.5324675324675324, 'precision': 0.3755532238684612, 'recall': 0.5324675324675324, 'f1-score': 0.4294093113081587, 'macro_f1-score': 0.0641470829006734, 'balanced_accuracy': 0.07656402207969958, 'mcc': 0.31018208702430744, 'train_loss': 1.6153685423295672}\n",
      "Epoch 9/20\n"
     ]
    },
    {
     "name": "stderr",
     "output_type": "stream",
     "text": [
      "100%|██████████| 328/328 [00:36<00:00,  9.06it/s]\n"
     ]
    },
    {
     "name": "stdout",
     "output_type": "stream",
     "text": [
      "{'val_loss': 2.226879140952738, 'val_accuracy': 0.48663101604278075, 'precision': 0.40752634495891243, 'recall': 0.48663101604278075, 'f1-score': 0.42875699806077094, 'macro_f1-score': 0.04507485937754013, 'balanced_accuracy': 0.06313913627743414, 'mcc': 0.31052547578567613, 'train_loss': 1.6642204657560442}\n",
      "Epoch 10/20\n"
     ]
    },
    {
     "name": "stderr",
     "output_type": "stream",
     "text": [
      "100%|██████████| 328/328 [00:36<00:00,  9.05it/s]\n"
     ]
    },
    {
     "name": "stdout",
     "output_type": "stream",
     "text": [
      "{'val_loss': 2.0570119655713803, 'val_accuracy': 0.5187165775401069, 'precision': 0.4568909191992358, 'recall': 0.5187165775401069, 'f1-score': 0.47341524443999417, 'macro_f1-score': 0.06653028215476954, 'balanced_accuracy': 0.10033829731241123, 'mcc': 0.3664422686585689, 'train_loss': 1.5868982527314164}\n",
      "Early stopping.\n",
      "\n",
      "[Fold 4]\n",
      "Label distribution after resampling:\n",
      "  label 0: 2466\n",
      "  label 1: 21\n",
      "  label 2: 64\n",
      "  label 3: 24\n",
      "  label 4: 191\n",
      "  label 5: 113\n",
      "  label 6: 93\n",
      "  label 7: 30\n",
      "  label 8: 68\n",
      "  label 9: 30\n",
      "  label 10: 67\n",
      "  label 11: 169\n",
      "  label 12: 189\n",
      "  label 13: 29\n",
      "  label 14: 22\n",
      "  label 15: 25\n",
      "  label 16: 19\n",
      "  label 17: 181\n",
      "  label 18: 92\n",
      "  label 19: 44\n",
      "  label 20: 14\n",
      "  label 21: 35\n",
      "  label 22: 76\n",
      "  label 23: 158\n",
      "  label 24: 13\n",
      "  label 25: 44\n",
      "  label 26: 84\n",
      "  label 27: 47\n",
      "  label 28: 11\n",
      "  label 29: 13\n",
      "  label 30: 11\n",
      "  label 31: 75\n",
      "  label 32: 36\n",
      "  label 33: 31\n",
      "  label 34: 30\n",
      "  label 35: 11\n",
      "  label 36: 22\n",
      "  label 37: 16\n",
      "  label 38: 5\n",
      "  label 39: 33\n",
      "  label 40: 10\n",
      "  label 41: 9\n",
      "  label 42: 57\n",
      "  label 43: 7\n",
      "  label 44: 18\n",
      "  label 45: 9\n",
      "  label 46: 54\n",
      "  label 47: 242\n",
      "  label 48: 61\n",
      "  label 49: 68\n",
      "model is microsoft/deberta-base bilstm\n",
      "Epoch 1/20\n"
     ]
    },
    {
     "name": "stderr",
     "output_type": "stream",
     "text": [
      "100%|██████████| 328/328 [00:36<00:00,  9.05it/s]\n"
     ]
    },
    {
     "name": "stdout",
     "output_type": "stream",
     "text": [
      "{'val_loss': 2.278028223572708, 'val_accuracy': 0.4919786096256685, 'precision': 0.26606630436999795, 'recall': 0.4919786096256685, 'f1-score': 0.3445152841735438, 'macro_f1-score': 0.02651370201735987, 'balanced_accuracy': 0.03555916305916306, 'mcc': 0.17562290581162784, 'train_loss': 2.484200177759659}\n",
      "Epoch 2/20\n"
     ]
    },
    {
     "name": "stderr",
     "output_type": "stream",
     "text": [
      "100%|██████████| 328/328 [00:36<00:00,  9.04it/s]\n"
     ]
    },
    {
     "name": "stdout",
     "output_type": "stream",
     "text": [
      "{'val_loss': 2.0590201594480653, 'val_accuracy': 0.5339954163483576, 'precision': 0.34327885994896673, 'recall': 0.5339954163483576, 'f1-score': 0.4134536668587446, 'macro_f1-score': 0.048440493876493636, 'balanced_accuracy': 0.07014925086733598, 'mcc': 0.314449286938898, 'train_loss': 2.141198454106726}\n",
      "Epoch 3/20\n"
     ]
    },
    {
     "name": "stderr",
     "output_type": "stream",
     "text": [
      "100%|██████████| 328/328 [00:36<00:00,  9.08it/s]\n"
     ]
    },
    {
     "name": "stdout",
     "output_type": "stream",
     "text": [
      "{'val_loss': 1.9914045755456133, 'val_accuracy': 0.533231474407945, 'precision': 0.3518844495889655, 'recall': 0.533231474407945, 'f1-score': 0.4221464135922071, 'macro_f1-score': 0.05034962704963287, 'balanced_accuracy': 0.0702054818703755, 'mcc': 0.31795810071220615, 'train_loss': 1.9703519524234097}\n",
      "Epoch 4/20\n"
     ]
    },
    {
     "name": "stderr",
     "output_type": "stream",
     "text": [
      "100%|██████████| 328/328 [00:36<00:00,  9.03it/s]\n"
     ]
    },
    {
     "name": "stdout",
     "output_type": "stream",
     "text": [
      "{'val_loss': 2.1016321781931855, 'val_accuracy': 0.5026737967914439, 'precision': 0.41226987576725344, 'recall': 0.5026737967914439, 'f1-score': 0.44356512419786365, 'macro_f1-score': 0.05335537545183973, 'balanced_accuracy': 0.07429602194495812, 'mcc': 0.3255875455098005, 'train_loss': 1.8749922837426023}\n",
      "Epoch 5/20\n"
     ]
    },
    {
     "name": "stderr",
     "output_type": "stream",
     "text": [
      "100%|██████████| 328/328 [00:36<00:00,  9.08it/s]\n"
     ]
    },
    {
     "name": "stdout",
     "output_type": "stream",
     "text": [
      "{'val_loss': 2.0223092276875567, 'val_accuracy': 0.5569136745607334, 'precision': 0.3838389821437356, 'recall': 0.5569136745607334, 'f1-score': 0.4518740062976643, 'macro_f1-score': 0.07276041151190978, 'balanced_accuracy': 0.08886629210033466, 'mcc': 0.3560293619944614, 'train_loss': 1.7534229013977982}\n",
      "Epoch 6/20\n"
     ]
    },
    {
     "name": "stderr",
     "output_type": "stream",
     "text": [
      "100%|██████████| 328/328 [00:36<00:00,  9.09it/s]\n"
     ]
    },
    {
     "name": "stdout",
     "output_type": "stream",
     "text": [
      "{'val_loss': 1.9405786235158036, 'val_accuracy': 0.5179526355996944, 'precision': 0.44737858780732187, 'recall': 0.5179526355996944, 'f1-score': 0.4655458333466106, 'macro_f1-score': 0.06840439937131014, 'balanced_accuracy': 0.09944277019457165, 'mcc': 0.36992400597292957, 'train_loss': 1.6755852002377918}\n",
      "Epoch 7/20\n"
     ]
    },
    {
     "name": "stderr",
     "output_type": "stream",
     "text": [
      "100%|██████████| 328/328 [00:36<00:00,  9.01it/s]\n"
     ]
    },
    {
     "name": "stdout",
     "output_type": "stream",
     "text": [
      "{'val_loss': 1.9266909800651597, 'val_accuracy': 0.5347593582887701, 'precision': 0.4465362620155859, 'recall': 0.5347593582887701, 'f1-score': 0.4804944033835068, 'macro_f1-score': 0.07659150346444037, 'balanced_accuracy': 0.09566261817689589, 'mcc': 0.37151687446872667, 'train_loss': 1.6133910088640888}\n",
      "Epoch 8/20\n"
     ]
    },
    {
     "name": "stderr",
     "output_type": "stream",
     "text": [
      "100%|██████████| 328/328 [00:36<00:00,  9.10it/s]\n"
     ]
    },
    {
     "name": "stdout",
     "output_type": "stream",
     "text": [
      "{'val_loss': 2.023076932968163, 'val_accuracy': 0.5592055003819709, 'precision': 0.4521398912242553, 'recall': 0.5592055003819709, 'f1-score': 0.4930838845820349, 'macro_f1-score': 0.08182459465779157, 'balanced_accuracy': 0.10043145300783138, 'mcc': 0.3932015444252926, 'train_loss': 1.5629735435472756}\n",
      "Epoch 9/20\n"
     ]
    },
    {
     "name": "stderr",
     "output_type": "stream",
     "text": [
      "100%|██████████| 328/328 [00:36<00:00,  9.05it/s]\n"
     ]
    },
    {
     "name": "stdout",
     "output_type": "stream",
     "text": [
      "{'val_loss': 1.9423906363365127, 'val_accuracy': 0.5217723453017571, 'precision': 0.45618964685926905, 'recall': 0.5217723453017571, 'f1-score': 0.4794009764605772, 'macro_f1-score': 0.07861306574021915, 'balanced_accuracy': 0.09635075230232004, 'mcc': 0.3592925751642888, 'train_loss': 1.5963601053851406}\n",
      "Epoch 10/20\n"
     ]
    },
    {
     "name": "stderr",
     "output_type": "stream",
     "text": [
      "100%|██████████| 328/328 [00:36<00:00,  9.07it/s]\n"
     ]
    },
    {
     "name": "stdout",
     "output_type": "stream",
     "text": [
      "{'val_loss': 1.9327863974542152, 'val_accuracy': 0.5378151260504201, 'precision': 0.4516630761417977, 'recall': 0.5378151260504201, 'f1-score': 0.4787303800039698, 'macro_f1-score': 0.08414489463984082, 'balanced_accuracy': 0.0970127372303111, 'mcc': 0.35916787984498433, 'train_loss': 1.5549438452211821}\n",
      "Epoch 11/20\n"
     ]
    },
    {
     "name": "stderr",
     "output_type": "stream",
     "text": [
      "100%|██████████| 328/328 [00:36<00:00,  9.04it/s]\n"
     ]
    },
    {
     "name": "stdout",
     "output_type": "stream",
     "text": [
      "{'val_loss': 1.9311802343624394, 'val_accuracy': 0.5393430099312452, 'precision': 0.4532805732866644, 'recall': 0.5393430099312452, 'f1-score': 0.482017928779768, 'macro_f1-score': 0.07552626693865888, 'balanced_accuracy': 0.09766318845962452, 'mcc': 0.3781155275267489, 'train_loss': 1.4567322856405887}\n",
      "Epoch 12/20\n"
     ]
    },
    {
     "name": "stderr",
     "output_type": "stream",
     "text": [
      "100%|██████████| 328/328 [00:36<00:00,  9.07it/s]\n"
     ]
    },
    {
     "name": "stdout",
     "output_type": "stream",
     "text": [
      "{'val_loss': 1.837823220505947, 'val_accuracy': 0.5530939648586708, 'precision': 0.4583022131747227, 'recall': 0.5530939648586708, 'f1-score': 0.49574036098614827, 'macro_f1-score': 0.09112133879916424, 'balanced_accuracy': 0.11000096198996782, 'mcc': 0.3894327397054246, 'train_loss': 1.468840450957054}\n",
      "Epoch 13/20\n"
     ]
    },
    {
     "name": "stderr",
     "output_type": "stream",
     "text": [
      "100%|██████████| 328/328 [00:36<00:00,  9.01it/s]\n"
     ]
    },
    {
     "name": "stdout",
     "output_type": "stream",
     "text": [
      "{'val_loss': 1.8784525605236613, 'val_accuracy': 0.5477463712757831, 'precision': 0.45744552104932873, 'recall': 0.5477463712757831, 'f1-score': 0.4958569560292537, 'macro_f1-score': 0.09372579807695766, 'balanced_accuracy': 0.10661557676821108, 'mcc': 0.3826698725890201, 'train_loss': 1.3996365262059176}\n",
      "Epoch 14/20\n"
     ]
    },
    {
     "name": "stderr",
     "output_type": "stream",
     "text": [
      "100%|██████████| 328/328 [00:36<00:00,  9.05it/s]\n"
     ]
    },
    {
     "name": "stdout",
     "output_type": "stream",
     "text": [
      "{'val_loss': 2.1233176043847712, 'val_accuracy': 0.4950343773873186, 'precision': 0.4304181938510759, 'recall': 0.4950343773873186, 'f1-score': 0.43774448988848214, 'macro_f1-score': 0.058218096956274806, 'balanced_accuracy': 0.07979447207638697, 'mcc': 0.32732105736757156, 'train_loss': 1.8663486905577706}\n",
      "Epoch 15/20\n"
     ]
    },
    {
     "name": "stderr",
     "output_type": "stream",
     "text": [
      "100%|██████████| 328/328 [00:35<00:00,  9.12it/s]\n"
     ]
    },
    {
     "name": "stdout",
     "output_type": "stream",
     "text": [
      "{'val_loss': 1.9597755230781508, 'val_accuracy': 0.5439266615737204, 'precision': 0.46660668298261193, 'recall': 0.5439266615737204, 'f1-score': 0.4960047499557101, 'macro_f1-score': 0.09381538177782234, 'balanced_accuracy': 0.1074220848231253, 'mcc': 0.38166829145224784, 'train_loss': 1.5054704890382}\n",
      "Epoch 16/20\n"
     ]
    },
    {
     "name": "stderr",
     "output_type": "stream",
     "text": [
      "100%|██████████| 328/328 [00:36<00:00,  9.01it/s]\n"
     ]
    },
    {
     "name": "stdout",
     "output_type": "stream",
     "text": [
      "{'val_loss': 1.893524079061136, 'val_accuracy': 0.533231474407945, 'precision': 0.46801888955084925, 'recall': 0.533231474407945, 'f1-score': 0.48956220388336963, 'macro_f1-score': 0.09763255213968534, 'balanced_accuracy': 0.11660651926836918, 'mcc': 0.37590151910277425, 'train_loss': 1.3756565552477429}\n",
      "Epoch 17/20\n"
     ]
    },
    {
     "name": "stderr",
     "output_type": "stream",
     "text": [
      "100%|██████████| 328/328 [00:36<00:00,  9.06it/s]\n"
     ]
    },
    {
     "name": "stdout",
     "output_type": "stream",
     "text": [
      "{'val_loss': 1.9101466158541238, 'val_accuracy': 0.5301757066462949, 'precision': 0.501713412412236, 'recall': 0.5301757066462949, 'f1-score': 0.5064940575757019, 'macro_f1-score': 0.11317887911520577, 'balanced_accuracy': 0.12615349260431571, 'mcc': 0.3824869440058178, 'train_loss': 1.278514492847934}\n",
      "Epoch 18/20\n"
     ]
    },
    {
     "name": "stderr",
     "output_type": "stream",
     "text": [
      "100%|██████████| 328/328 [00:36<00:00,  9.03it/s]\n"
     ]
    },
    {
     "name": "stdout",
     "output_type": "stream",
     "text": [
      "{'val_loss': 1.886283410031621, 'val_accuracy': 0.5317035905271199, 'precision': 0.4752011197805445, 'recall': 0.5317035905271199, 'f1-score': 0.4965045291153474, 'macro_f1-score': 0.10500853250011842, 'balanced_accuracy': 0.12079547091509628, 'mcc': 0.38022917111946136, 'train_loss': 1.240901417303376}\n",
      "Epoch 19/20\n"
     ]
    },
    {
     "name": "stderr",
     "output_type": "stream",
     "text": [
      "100%|██████████| 328/328 [00:36<00:00,  9.04it/s]\n"
     ]
    },
    {
     "name": "stdout",
     "output_type": "stream",
     "text": [
      "{'val_loss': 1.9094730681035577, 'val_accuracy': 0.5416348357524828, 'precision': 0.4904706805746138, 'recall': 0.5416348357524828, 'f1-score': 0.503495546474947, 'macro_f1-score': 0.10358964355045469, 'balanced_accuracy': 0.12020038512786241, 'mcc': 0.3936427246328845, 'train_loss': 1.1894724612555854}\n",
      "Epoch 20/20\n"
     ]
    },
    {
     "name": "stderr",
     "output_type": "stream",
     "text": [
      "100%|██████████| 328/328 [00:36<00:00,  9.03it/s]\n"
     ]
    },
    {
     "name": "stdout",
     "output_type": "stream",
     "text": [
      "{'val_loss': 1.9735850579128034, 'val_accuracy': 0.533231474407945, 'precision': 0.495430419591574, 'recall': 0.533231474407945, 'f1-score': 0.5039773593677003, 'macro_f1-score': 0.11063103795514095, 'balanced_accuracy': 0.13297729214656193, 'mcc': 0.38983296048209876, 'train_loss': 1.1534787870761825}\n",
      "Early stopping.\n",
      "\n",
      "[Fold 5]\n",
      "Label distribution after resampling:\n",
      "  label 0: 2466\n",
      "  label 1: 22\n",
      "  label 2: 64\n",
      "  label 3: 24\n",
      "  label 4: 190\n",
      "  label 5: 113\n",
      "  label 6: 93\n",
      "  label 7: 30\n",
      "  label 8: 68\n",
      "  label 9: 30\n",
      "  label 10: 67\n",
      "  label 11: 169\n",
      "  label 12: 189\n",
      "  label 13: 29\n",
      "  label 14: 23\n",
      "  label 15: 24\n",
      "  label 16: 20\n",
      "  label 17: 180\n",
      "  label 18: 92\n",
      "  label 19: 44\n",
      "  label 20: 14\n",
      "  label 21: 35\n",
      "  label 22: 76\n",
      "  label 23: 157\n",
      "  label 24: 13\n",
      "  label 25: 44\n",
      "  label 26: 84\n",
      "  label 27: 47\n",
      "  label 28: 11\n",
      "  label 29: 13\n",
      "  label 30: 11\n",
      "  label 31: 75\n",
      "  label 32: 36\n",
      "  label 33: 31\n",
      "  label 34: 30\n",
      "  label 35: 11\n",
      "  label 36: 22\n",
      "  label 37: 16\n",
      "  label 38: 6\n",
      "  label 39: 33\n",
      "  label 40: 10\n",
      "  label 41: 9\n",
      "  label 42: 57\n",
      "  label 43: 6\n",
      "  label 44: 18\n",
      "  label 45: 9\n",
      "  label 46: 54\n",
      "  label 47: 242\n",
      "  label 48: 62\n",
      "  label 49: 68\n",
      "model is microsoft/deberta-base bilstm\n",
      "Epoch 1/20\n"
     ]
    },
    {
     "name": "stderr",
     "output_type": "stream",
     "text": [
      "100%|██████████| 328/328 [00:36<00:00,  9.09it/s]\n"
     ]
    },
    {
     "name": "stdout",
     "output_type": "stream",
     "text": [
      "{'val_loss': 2.1626304969554995, 'val_accuracy': 0.5171886936592819, 'precision': 0.2991862732757555, 'recall': 0.5171886936592819, 'f1-score': 0.37859394477318176, 'macro_f1-score': 0.038460600628982655, 'balanced_accuracy': 0.0525872859025033, 'mcc': 0.25347579589220387, 'train_loss': 2.3934799937940223}\n",
      "Epoch 2/20\n"
     ]
    },
    {
     "name": "stderr",
     "output_type": "stream",
     "text": [
      "100%|██████████| 328/328 [00:36<00:00,  9.01it/s]\n"
     ]
    },
    {
     "name": "stdout",
     "output_type": "stream",
     "text": [
      "{'val_loss': 2.110902882203823, 'val_accuracy': 0.5286478227654698, 'precision': 0.31685631135739667, 'recall': 0.5286478227654698, 'f1-score': 0.39387709861914394, 'macro_f1-score': 0.04156187932200834, 'balanced_accuracy': 0.05598197816676077, 'mcc': 0.28218065827385097, 'train_loss': 2.135676843909229}\n",
      "Epoch 3/20\n"
     ]
    },
    {
     "name": "stderr",
     "output_type": "stream",
     "text": [
      "100%|██████████| 328/328 [00:36<00:00,  9.08it/s]\n"
     ]
    },
    {
     "name": "stdout",
     "output_type": "stream",
     "text": [
      "{'val_loss': 2.055552345223543, 'val_accuracy': 0.5423987776928954, 'precision': 0.35143960236012345, 'recall': 0.5423987776928954, 'f1-score': 0.4234368411302258, 'macro_f1-score': 0.05628344840001299, 'balanced_accuracy': 0.06527103331451158, 'mcc': 0.309875567028938, 'train_loss': 1.9686461794303685}\n",
      "Epoch 4/20\n"
     ]
    },
    {
     "name": "stderr",
     "output_type": "stream",
     "text": [
      "100%|██████████| 328/328 [00:36<00:00,  9.10it/s]\n"
     ]
    },
    {
     "name": "stdout",
     "output_type": "stream",
     "text": [
      "{'val_loss': 2.0363208135453665, 'val_accuracy': 0.5530939648586708, 'precision': 0.3879250385375228, 'recall': 0.5530939648586708, 'f1-score': 0.4526066369820647, 'macro_f1-score': 0.060352949226339374, 'balanced_accuracy': 0.07950823451910409, 'mcc': 0.35694736899305435, 'train_loss': 1.8403898584769993}\n",
      "Epoch 5/20\n"
     ]
    },
    {
     "name": "stderr",
     "output_type": "stream",
     "text": [
      "100%|██████████| 328/328 [00:36<00:00,  9.00it/s]\n"
     ]
    },
    {
     "name": "stdout",
     "output_type": "stream",
     "text": [
      "{'val_loss': 2.0756308349167427, 'val_accuracy': 0.5049656226126814, 'precision': 0.4293435636739872, 'recall': 0.5049656226126814, 'f1-score': 0.45026133175751115, 'macro_f1-score': 0.05624754804888709, 'balanced_accuracy': 0.07508032185206098, 'mcc': 0.32916744815513604, 'train_loss': 1.778721082137852}\n",
      "Epoch 6/20\n"
     ]
    },
    {
     "name": "stderr",
     "output_type": "stream",
     "text": [
      "100%|██████████| 328/328 [00:36<00:00,  9.06it/s]\n"
     ]
    },
    {
     "name": "stdout",
     "output_type": "stream",
     "text": [
      "{'val_loss': 1.9987490700512398, 'val_accuracy': 0.5500381970970206, 'precision': 0.40201842379248726, 'recall': 0.5500381970970206, 'f1-score': 0.4583156802218076, 'macro_f1-score': 0.06300382523931553, 'balanced_accuracy': 0.0850433841520798, 'mcc': 0.3628501549953254, 'train_loss': 1.7212567561101624}\n",
      "Epoch 7/20\n"
     ]
    },
    {
     "name": "stderr",
     "output_type": "stream",
     "text": [
      "100%|██████████| 328/328 [00:36<00:00,  9.05it/s]\n"
     ]
    },
    {
     "name": "stdout",
     "output_type": "stream",
     "text": [
      "{'val_loss': 2.026160113695191, 'val_accuracy': 0.5339954163483576, 'precision': 0.4144557071177253, 'recall': 0.5339954163483576, 'f1-score': 0.46024097929179497, 'macro_f1-score': 0.06343123952843904, 'balanced_accuracy': 0.08957015810276679, 'mcc': 0.36121934774291886, 'train_loss': 1.6782921503593282}\n",
      "Epoch 8/20\n"
     ]
    },
    {
     "name": "stderr",
     "output_type": "stream",
     "text": [
      "100%|██████████| 328/328 [00:36<00:00,  9.06it/s]\n"
     ]
    },
    {
     "name": "stdout",
     "output_type": "stream",
     "text": [
      "{'val_loss': 2.032803898177496, 'val_accuracy': 0.5393430099312452, 'precision': 0.43714257571445364, 'recall': 0.5393430099312452, 'f1-score': 0.47131753940760124, 'macro_f1-score': 0.06978255156972397, 'balanced_accuracy': 0.09445628646715604, 'mcc': 0.37153719497735793, 'train_loss': 1.5985770917883733}\n",
      "Epoch 9/20\n"
     ]
    },
    {
     "name": "stderr",
     "output_type": "stream",
     "text": [
      "100%|██████████| 328/328 [00:36<00:00,  9.06it/s]\n"
     ]
    },
    {
     "name": "stdout",
     "output_type": "stream",
     "text": [
      "{'val_loss': 2.0036817389290507, 'val_accuracy': 0.5187165775401069, 'precision': 0.4218732829854897, 'recall': 0.5187165775401069, 'f1-score': 0.45340816416043417, 'macro_f1-score': 0.06666793809985798, 'balanced_accuracy': 0.09707251082251082, 'mcc': 0.3545614323446862, 'train_loss': 1.5837846280234615}\n",
      "Epoch 10/20\n"
     ]
    },
    {
     "name": "stderr",
     "output_type": "stream",
     "text": [
      "100%|██████████| 328/328 [00:36<00:00,  9.10it/s]\n"
     ]
    },
    {
     "name": "stdout",
     "output_type": "stream",
     "text": [
      "{'val_loss': 1.9981570381943772, 'val_accuracy': 0.5439266615737204, 'precision': 0.41487214466288075, 'recall': 0.5439266615737204, 'f1-score': 0.46309721556692307, 'macro_f1-score': 0.06944907964183743, 'balanced_accuracy': 0.09404112554112555, 'mcc': 0.36594038279914065, 'train_loss': 1.6937315533982544}\n",
      "Epoch 11/20\n"
     ]
    },
    {
     "name": "stderr",
     "output_type": "stream",
     "text": [
      "100%|██████████| 328/328 [00:36<00:00,  9.01it/s]\n"
     ]
    },
    {
     "name": "stdout",
     "output_type": "stream",
     "text": [
      "{'val_loss': 1.9991791328278983, 'val_accuracy': 0.5500381970970206, 'precision': 0.43462081272800557, 'recall': 0.5500381970970206, 'f1-score': 0.4774561696346861, 'macro_f1-score': 0.08425683375368168, 'balanced_accuracy': 0.1057338160560667, 'mcc': 0.3749298187488425, 'train_loss': 1.530000565800725}\n",
      "Epoch 12/20\n"
     ]
    },
    {
     "name": "stderr",
     "output_type": "stream",
     "text": [
      "100%|██████████| 328/328 [00:36<00:00,  9.08it/s]\n"
     ]
    },
    {
     "name": "stdout",
     "output_type": "stream",
     "text": [
      "{'val_loss': 1.997068885622955, 'val_accuracy': 0.5355233002291826, 'precision': 0.44802239950014033, 'recall': 0.5355233002291826, 'f1-score': 0.48160172382839683, 'macro_f1-score': 0.08310882520036963, 'balanced_accuracy': 0.10507039337474118, 'mcc': 0.3727186551723376, 'train_loss': 1.470238435740878}\n",
      "Epoch 13/20\n"
     ]
    },
    {
     "name": "stderr",
     "output_type": "stream",
     "text": [
      "100%|██████████| 328/328 [00:36<00:00,  9.11it/s]\n"
     ]
    },
    {
     "name": "stdout",
     "output_type": "stream",
     "text": [
      "{'val_loss': 2.0141251734117183, 'val_accuracy': 0.5385790679908327, 'precision': 0.4483683535176569, 'recall': 0.5385790679908327, 'f1-score': 0.4835898089100305, 'macro_f1-score': 0.08251782460409014, 'balanced_accuracy': 0.10774203396773728, 'mcc': 0.381918165252141, 'train_loss': 1.3913000778454105}\n",
      "Epoch 14/20\n"
     ]
    },
    {
     "name": "stderr",
     "output_type": "stream",
     "text": [
      "100%|██████████| 328/328 [00:36<00:00,  9.00it/s]\n"
     ]
    },
    {
     "name": "stdout",
     "output_type": "stream",
     "text": [
      "{'val_loss': 1.9350513052649614, 'val_accuracy': 0.5339954163483576, 'precision': 0.470084565302369, 'recall': 0.5339954163483576, 'f1-score': 0.4931887594256408, 'macro_f1-score': 0.09462842998800892, 'balanced_accuracy': 0.11561232160848528, 'mcc': 0.38219307850518736, 'train_loss': 1.3326235057377234}\n",
      "Epoch 15/20\n"
     ]
    },
    {
     "name": "stderr",
     "output_type": "stream",
     "text": [
      "100%|██████████| 328/328 [00:36<00:00,  9.08it/s]\n"
     ]
    },
    {
     "name": "stdout",
     "output_type": "stream",
     "text": [
      "{'val_loss': 1.9570894677464554, 'val_accuracy': 0.5592055003819709, 'precision': 0.47305608725639375, 'recall': 0.5592055003819709, 'f1-score': 0.5052910698902218, 'macro_f1-score': 0.10947383566673141, 'balanced_accuracy': 0.1346694622513037, 'mcc': 0.40292860643933365, 'train_loss': 1.302082632009576}\n",
      "Epoch 16/20\n"
     ]
    },
    {
     "name": "stderr",
     "output_type": "stream",
     "text": [
      "100%|██████████| 328/328 [00:36<00:00,  9.03it/s]\n"
     ]
    },
    {
     "name": "stdout",
     "output_type": "stream",
     "text": [
      "{'val_loss': 2.050006472482914, 'val_accuracy': 0.5546218487394958, 'precision': 0.4433844714355616, 'recall': 0.5546218487394958, 'f1-score': 0.47585498388327907, 'macro_f1-score': 0.08224880918956379, 'balanced_accuracy': 0.09834867554261147, 'mcc': 0.3730234965209844, 'train_loss': 1.252459875512414}\n",
      "Epoch 17/20\n"
     ]
    },
    {
     "name": "stderr",
     "output_type": "stream",
     "text": [
      "100%|██████████| 328/328 [00:36<00:00,  9.03it/s]\n"
     ]
    },
    {
     "name": "stdout",
     "output_type": "stream",
     "text": [
      "{'val_loss': 1.9752050143916433, 'val_accuracy': 0.5385790679908327, 'precision': 0.4723703726892727, 'recall': 0.5385790679908327, 'f1-score': 0.49639386797179075, 'macro_f1-score': 0.10015147438020378, 'balanced_accuracy': 0.11682670143156075, 'mcc': 0.38135944790651605, 'train_loss': 1.2243394040298172}\n",
      "Epoch 18/20\n"
     ]
    },
    {
     "name": "stderr",
     "output_type": "stream",
     "text": [
      "100%|██████████| 328/328 [00:36<00:00,  9.05it/s]\n"
     ]
    },
    {
     "name": "stdout",
     "output_type": "stream",
     "text": [
      "{'val_loss': 1.958686766101093, 'val_accuracy': 0.5393430099312452, 'precision': 0.47715081117747, 'recall': 0.5393430099312452, 'f1-score': 0.5008053444270101, 'macro_f1-score': 0.10647472353757338, 'balanced_accuracy': 0.1262237168912361, 'mcc': 0.38502712650719756, 'train_loss': 1.223767229151435}\n",
      "Early stopping.\n",
      "\n",
      " === microsoft/deberta-base + bilstm + none Final 5-fold Cross-Validation Results ===\n",
      "val_loss: 1.9494\n",
      "val_accuracy: 0.5503\n",
      "precision: 0.4358\n",
      "recall: 0.5503\n",
      "f1-score: 0.4777\n",
      "macro_f1-score: 0.0829\n",
      "balanced_accuracy: 0.1048\n",
      "mcc: 0.3789\n",
      "train_loss: 1.6180\n",
      "total_seconds: 2484.0000\n",
      "total_time: 0 hrs 41 mins 24 secs\n"
     ]
    }
   ],
   "source": [
    "model_list = [\"bert-base-uncased\", \"roberta-base\", \"microsoft/deberta-base\"]\n",
    "hybrid_list = [None, \"cnn\", \"lstm\", \"bilstm\"]\n",
    "resample_list = [\"none\"]\n",
    "\n",
    "all_experiment_result = {}\n",
    "\n",
    "for model_name in model_list:\n",
    "    for hybrid_type in hybrid_list:\n",
    "        for resample_method in resample_list:\n",
    "            results = run_kfold_experiment(\n",
    "                X=messages, y=labels, model_name=model_name, hybrid_type=hybrid_type, resample_method=resample_method,\n",
    "                kfold=KFOLD_SPLIT, seed=SEED, epochs=EPOCHS, patience=PATIENCE, max_length=MAX_LENGTH, \n",
    "                batch_size=BATCH_SIZE, lr=LR, weight_decay=WEIGHT_DECAY\n",
    "            )\n",
    "\n",
    "            key = f\"{model_name} {hybrid_type if hybrid_type else 'None'} {resample_method}\"\n",
    "            all_experiment_result[key] = results"
   ]
  },
  {
   "cell_type": "code",
   "execution_count": 5,
   "id": "d799ebb4-be3b-4b29-9238-6c2a2f8256ae",
   "metadata": {},
   "outputs": [
    {
     "data": {
      "text/plain": [
       "{'bert-base-uncased None none': {'val_loss': 1.9389266397894882,\n",
       "  'val_accuracy': 0.6503176482251471,\n",
       "  'precision': 0.6547974874745631,\n",
       "  'recall': 0.6503176482251471,\n",
       "  'f1-score': 0.6409942180848948,\n",
       "  'macro_f1-score': 0.4036738135486921,\n",
       "  'balanced_accuracy': 0.3881133564584084,\n",
       "  'mcc': 0.5395515549605352,\n",
       "  'train_loss': 0.12565956009969276,\n",
       "  'total_seconds': 2109,\n",
       "  'total_time': '0 hrs 35 mins 9 secs'},\n",
       " 'bert-base-uncased cnn none': {'val_loss': 1.9795372626221763,\n",
       "  'val_accuracy': 0.651697642276897,\n",
       "  'precision': 0.6557648224478481,\n",
       "  'recall': 0.651697642276897,\n",
       "  'f1-score': 0.6424574716253822,\n",
       "  'macro_f1-score': 0.40716348742182495,\n",
       "  'balanced_accuracy': 0.39590040373752433,\n",
       "  'mcc': 0.5385238425307275,\n",
       "  'train_loss': 0.15753313192285645,\n",
       "  'total_seconds': 2302,\n",
       "  'total_time': '0 hrs 38 mins 22 secs'},\n",
       " 'bert-base-uncased lstm none': {'val_loss': 1.9103449904518883,\n",
       "  'val_accuracy': 0.6399307203797548,\n",
       "  'precision': 0.6401850304461769,\n",
       "  'recall': 0.6399307203797548,\n",
       "  'f1-score': 0.6315609060852929,\n",
       "  'macro_f1-score': 0.38383935929130175,\n",
       "  'balanced_accuracy': 0.3807495022446174,\n",
       "  'mcc': 0.525613881176924,\n",
       "  'train_loss': 0.2031068907221552,\n",
       "  'total_seconds': 3155,\n",
       "  'total_time': '0 hrs 52 mins 35 secs'},\n",
       " 'bert-base-uncased bilstm none': {'val_loss': 1.9082425480935634,\n",
       "  'val_accuracy': 0.6362658984482065,\n",
       "  'precision': 0.6519695841538443,\n",
       "  'recall': 0.6362658984482065,\n",
       "  'f1-score': 0.6346768089987317,\n",
       "  'macro_f1-score': 0.395770512130168,\n",
       "  'balanced_accuracy': 0.3994821654951647,\n",
       "  'mcc': 0.5264087062061944,\n",
       "  'train_loss': 0.15875094451262933,\n",
       "  'total_seconds': 2844,\n",
       "  'total_time': '0 hrs 47 mins 24 secs'},\n",
       " 'roberta-base None none': {'val_loss': 1.987417154959062,\n",
       "  'val_accuracy': 0.637947270511258,\n",
       "  'precision': 0.6436532659023937,\n",
       "  'recall': 0.637947270511258,\n",
       "  'f1-score': 0.6302160569164481,\n",
       "  'macro_f1-score': 0.3801884957700138,\n",
       "  'balanced_accuracy': 0.3765983764004667,\n",
       "  'mcc': 0.5196714381103846,\n",
       "  'train_loss': 0.18764698916361894,\n",
       "  'total_seconds': 2659,\n",
       "  'total_time': '0 hrs 44 mins 19 secs'},\n",
       " 'roberta-base cnn none': {'val_loss': 1.815729074071093,\n",
       "  'val_accuracy': 0.6077011179211449,\n",
       "  'precision': 0.5852033998647015,\n",
       "  'recall': 0.6077011179211449,\n",
       "  'f1-score': 0.5848032245339856,\n",
       "  'macro_f1-score': 0.3077760999109327,\n",
       "  'balanced_accuracy': 0.31657523588661624,\n",
       "  'mcc': 0.4802450937524078,\n",
       "  'train_loss': 0.6614529988705748,\n",
       "  'total_seconds': 2075,\n",
       "  'total_time': '0 hrs 34 mins 35 secs'},\n",
       " 'roberta-base lstm none': {'val_loss': 1.890300613932493,\n",
       "  'val_accuracy': 0.5744043293931036,\n",
       "  'precision': 0.48273777691545605,\n",
       "  'recall': 0.5744043293931036,\n",
       "  'f1-score': 0.508798052962985,\n",
       "  'macro_f1-score': 0.1828942949486238,\n",
       "  'balanced_accuracy': 0.1985052830743349,\n",
       "  'mcc': 0.40148647091210765,\n",
       "  'train_loss': 1.3439570128554252,\n",
       "  'total_seconds': 2203,\n",
       "  'total_time': '0 hrs 36 mins 43 secs'},\n",
       " 'roberta-base bilstm none': {'val_loss': 1.8357674320296542,\n",
       "  'val_accuracy': 0.6128905580275136,\n",
       "  'precision': 0.5609613859318474,\n",
       "  'recall': 0.6128905580275136,\n",
       "  'f1-score': 0.5738161860550228,\n",
       "  'macro_f1-score': 0.2681622911474704,\n",
       "  'balanced_accuracy': 0.2690015024072148,\n",
       "  'mcc': 0.4668947791192119,\n",
       "  'train_loss': 0.8129361750694309,\n",
       "  'total_seconds': 2703,\n",
       "  'total_time': '0 hrs 45 mins 3 secs'},\n",
       " 'microsoft/deberta-base None none': {'val_loss': 1.8773451806568517,\n",
       "  'val_accuracy': 0.6413075653578573,\n",
       "  'precision': 0.6428334762658242,\n",
       "  'recall': 0.6413075653578573,\n",
       "  'f1-score': 0.6319280352053196,\n",
       "  'macro_f1-score': 0.3782083091618668,\n",
       "  'balanced_accuracy': 0.370372562345742,\n",
       "  'mcc': 0.5262715944752707,\n",
       "  'train_loss': 0.2875610957869468,\n",
       "  'total_seconds': 2319,\n",
       "  'total_time': '0 hrs 38 mins 39 secs'},\n",
       " 'microsoft/deberta-base cnn none': {'val_loss': 1.9479931540242057,\n",
       "  'val_accuracy': 0.5959283644061372,\n",
       "  'precision': 0.5408625082957753,\n",
       "  'recall': 0.5959283644061372,\n",
       "  'f1-score': 0.5515550022740624,\n",
       "  'macro_f1-score': 0.23572107905384637,\n",
       "  'balanced_accuracy': 0.24684991911376866,\n",
       "  'mcc': 0.4471676447299201,\n",
       "  'train_loss': 1.031570751648737,\n",
       "  'total_seconds': 2174,\n",
       "  'total_time': '0 hrs 36 mins 14 secs'},\n",
       " 'microsoft/deberta-base lstm none': {'val_loss': 2.105780002111342,\n",
       "  'val_accuracy': 0.519548166247762,\n",
       "  'precision': 0.3593128327690271,\n",
       "  'recall': 0.519548166247762,\n",
       "  'f1-score': 0.4158835069516929,\n",
       "  'macro_f1-score': 0.0529307340350087,\n",
       "  'balanced_accuracy': 0.0660948605678531,\n",
       "  'mcc': 0.28476918926570616,\n",
       "  'train_loss': 2.0428523519144552,\n",
       "  'total_seconds': 1782,\n",
       "  'total_time': '0 hrs 29 mins 42 secs'},\n",
       " 'microsoft/deberta-base bilstm none': {'val_loss': 1.9493708481148975,\n",
       "  'val_accuracy': 0.5502580490905592,\n",
       "  'precision': 0.43577865915330544,\n",
       "  'recall': 0.5502580490905592,\n",
       "  'f1-score': 0.47772227407625956,\n",
       "  'macro_f1-score': 0.08286949616481316,\n",
       "  'balanced_accuracy': 0.10477753841258348,\n",
       "  'mcc': 0.37888193831327066,\n",
       "  'train_loss': 1.6180012274170068,\n",
       "  'total_seconds': 2484,\n",
       "  'total_time': '0 hrs 41 mins 24 secs'}}"
      ]
     },
     "execution_count": 5,
     "metadata": {},
     "output_type": "execute_result"
    }
   ],
   "source": [
    "all_experiment_result"
   ]
  }
 ],
 "metadata": {
  "kernelspec": {
   "display_name": "Python 3 (ipykernel)",
   "language": "python",
   "name": "python3"
  },
  "language_info": {
   "codemirror_mode": {
    "name": "ipython",
    "version": 3
   },
   "file_extension": ".py",
   "mimetype": "text/x-python",
   "name": "python",
   "nbconvert_exporter": "python",
   "pygments_lexer": "ipython3",
   "version": "3.11.9"
  }
 },
 "nbformat": 4,
 "nbformat_minor": 5
}
