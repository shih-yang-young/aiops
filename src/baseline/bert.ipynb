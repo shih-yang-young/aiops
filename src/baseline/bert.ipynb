{
 "cells": [
  {
   "cell_type": "code",
   "execution_count": 1,
   "id": "02b729c4-2591-47dc-9212-071e05b41d3c",
   "metadata": {},
   "outputs": [
    {
     "data": {
      "text/html": [
       "<div>\n",
       "<style scoped>\n",
       "    .dataframe tbody tr th:only-of-type {\n",
       "        vertical-align: middle;\n",
       "    }\n",
       "\n",
       "    .dataframe tbody tr th {\n",
       "        vertical-align: top;\n",
       "    }\n",
       "\n",
       "    .dataframe thead th {\n",
       "        text-align: right;\n",
       "    }\n",
       "</style>\n",
       "<table border=\"1\" class=\"dataframe\">\n",
       "  <thead>\n",
       "    <tr style=\"text-align: right;\">\n",
       "      <th></th>\n",
       "      <th>Inbound Message</th>\n",
       "      <th>Label</th>\n",
       "    </tr>\n",
       "  </thead>\n",
       "  <tbody>\n",
       "    <tr>\n",
       "      <th>0</th>\n",
       "      <td>login issue verified user details employee man...</td>\n",
       "      <td>0</td>\n",
       "    </tr>\n",
       "    <tr>\n",
       "      <th>1</th>\n",
       "      <td>outlook hello team meetings skype meetings etc...</td>\n",
       "      <td>0</td>\n",
       "    </tr>\n",
       "    <tr>\n",
       "      <th>2</th>\n",
       "      <td>cant log vpn cannot log vpn best</td>\n",
       "      <td>0</td>\n",
       "    </tr>\n",
       "    <tr>\n",
       "      <th>3</th>\n",
       "      <td>unable access tool page unable access tool page</td>\n",
       "      <td>0</td>\n",
       "    </tr>\n",
       "    <tr>\n",
       "      <th>4</th>\n",
       "      <td>skype error skype error</td>\n",
       "      <td>0</td>\n",
       "    </tr>\n",
       "    <tr>\n",
       "      <th>...</th>\n",
       "      <td>...</td>\n",
       "      <td>...</td>\n",
       "    </tr>\n",
       "    <tr>\n",
       "      <th>8449</th>\n",
       "      <td>emails coming mail good afternoon receiving em...</td>\n",
       "      <td>22</td>\n",
       "    </tr>\n",
       "    <tr>\n",
       "      <th>8450</th>\n",
       "      <td>telephony software issue telephony software issue</td>\n",
       "      <td>0</td>\n",
       "    </tr>\n",
       "    <tr>\n",
       "      <th>8451</th>\n",
       "      <td>vip windows password reset tifpdchb pedxruyf v...</td>\n",
       "      <td>0</td>\n",
       "    </tr>\n",
       "    <tr>\n",
       "      <th>8452</th>\n",
       "      <td>machine est funcionando unable access machine ...</td>\n",
       "      <td>44</td>\n",
       "    </tr>\n",
       "    <tr>\n",
       "      <th>8453</th>\n",
       "      <td>mehreren lassen sich verschiedene prgramdntyme...</td>\n",
       "      <td>49</td>\n",
       "    </tr>\n",
       "  </tbody>\n",
       "</table>\n",
       "<p>8454 rows × 2 columns</p>\n",
       "</div>"
      ],
      "text/plain": [
       "                                        Inbound Message  Label\n",
       "0     login issue verified user details employee man...      0\n",
       "1     outlook hello team meetings skype meetings etc...      0\n",
       "2                      cant log vpn cannot log vpn best      0\n",
       "3       unable access tool page unable access tool page      0\n",
       "4                               skype error skype error      0\n",
       "...                                                 ...    ...\n",
       "8449  emails coming mail good afternoon receiving em...     22\n",
       "8450  telephony software issue telephony software issue      0\n",
       "8451  vip windows password reset tifpdchb pedxruyf v...      0\n",
       "8452  machine est funcionando unable access machine ...     44\n",
       "8453  mehreren lassen sich verschiedene prgramdntyme...     49\n",
       "\n",
       "[8454 rows x 2 columns]"
      ]
     },
     "execution_count": 1,
     "metadata": {},
     "output_type": "execute_result"
    }
   ],
   "source": [
    "import pandas as pd\n",
    "data_path = \"../../data/open_source_8454_combine_short_description.csv\"\n",
    "df = pd.read_csv(data_path)\n",
    "# df_label_0 = df[df[\"Label\"] == 0]\n",
    "# df_label_0_to_drop = df_label_0.sample(n=3000, random_state=42)\n",
    "# df = df.drop(df_label_0_to_drop.index)\n",
    "df"
   ]
  },
  {
   "cell_type": "code",
   "execution_count": 2,
   "id": "87a40d82-939e-4929-acf7-176e15f86f46",
   "metadata": {},
   "outputs": [],
   "source": [
    "import sys\n",
    "import os\n",
    "sys.path.append(os.path.abspath('../ml_lib'))\n",
    "\n",
    "from config import *\n",
    "from dataset import CustomDataset\n",
    "from train_eval import train_epoch, eval_model\n",
    "from device import get_device_info"
   ]
  },
  {
   "cell_type": "code",
   "execution_count": 3,
   "id": "19e57422-f61c-4c60-b96b-868d0935030f",
   "metadata": {},
   "outputs": [
    {
     "name": "stdout",
     "output_type": "stream",
     "text": [
      "Using device: cuda\n",
      "CUDA Available: True\n",
      "CUDA Device: NVIDIA GeForce RTX 3050 6GB Laptop GPU\n",
      "Current GPU Memory Allocated: 0.00 GB\n",
      "Current GPU Memory Cached: 0.00 GB\n"
     ]
    }
   ],
   "source": [
    "from transformers import BertTokenizer, BertForSequenceClassification\n",
    "from sklearn.model_selection import StratifiedKFold\n",
    "\n",
    "device = get_device_info()\n",
    "\n",
    "messages, labels = df['Inbound Message'].tolist(), df['Label'].tolist()\n",
    "\n",
    "tokenizer = BertTokenizer.from_pretrained('bert-base-uncased')\n",
    "\n",
    "# KFold 初始化\n",
    "skf = StratifiedKFold(n_splits=KFOLD_SPLIT, shuffle=True, random_state=SEED)"
   ]
  },
  {
   "cell_type": "code",
   "execution_count": 4,
   "id": "83de0792-25a1-4362-b343-f267dd79b3ea",
   "metadata": {
    "scrolled": true
   },
   "outputs": [
    {
     "name": "stderr",
     "output_type": "stream",
     "text": [
      "D:\\Anaconda3\\envs\\cuda\\Lib\\site-packages\\sklearn\\model_selection\\_split.py:737: UserWarning: The least populated class in y has only 7 members, which is less than n_splits=10.\n",
      "  warnings.warn(\n"
     ]
    },
    {
     "name": "stdout",
     "output_type": "stream",
     "text": [
      "Fold 1\n",
      "Training set label distribution: {0: 3576, 1: 28, 2: 126, 3: 27, 4: 231, 5: 130, 6: 107, 7: 35, 8: 76, 9: 73, 10: 79, 11: 194, 12: 217, 13: 32, 14: 26, 15: 28, 16: 23, 17: 260, 18: 104, 19: 51, 20: 16, 21: 39, 22: 88, 23: 180, 24: 18, 25: 56, 26: 97, 27: 55, 28: 13, 29: 15, 30: 17, 31: 90, 32: 40, 33: 36, 34: 34, 35: 13, 36: 32, 37: 24, 38: 7, 39: 116, 40: 13, 41: 9, 42: 166, 43: 18, 44: 22, 45: 10, 46: 61, 47: 595, 48: 227, 49: 78}\n",
      "Validation set label distribution: {0: 398, 1: 3, 2: 14, 3: 3, 4: 26, 5: 15, 6: 11, 7: 4, 8: 9, 9: 8, 10: 9, 11: 21, 12: 24, 13: 4, 14: 3, 15: 3, 16: 2, 17: 29, 18: 12, 19: 5, 20: 2, 21: 5, 22: 9, 23: 20, 24: 2, 25: 7, 26: 10, 27: 6, 28: 2, 29: 1, 30: 2, 31: 10, 32: 5, 33: 4, 34: 3, 35: 2, 36: 3, 37: 3, 39: 13, 40: 1, 41: 2, 42: 18, 43: 2, 44: 3, 45: 1, 46: 7, 47: 66, 48: 25, 49: 9}\n"
     ]
    },
    {
     "name": "stderr",
     "output_type": "stream",
     "text": [
      "Some weights of BertForSequenceClassification were not initialized from the model checkpoint at bert-base-uncased and are newly initialized: ['classifier.bias', 'classifier.weight']\n",
      "You should probably TRAIN this model on a down-stream task to be able to use it for predictions and inference.\n"
     ]
    },
    {
     "name": "stdout",
     "output_type": "stream",
     "text": [
      "Epoch 1/20\n"
     ]
    },
    {
     "name": "stderr",
     "output_type": "stream",
     "text": [
      "100%|██████████| 476/476 [03:20<00:00,  2.37it/s]\n"
     ]
    },
    {
     "name": "stdout",
     "output_type": "stream",
     "text": [
      "{'val_loss': 1.5402799541095518, 'val_accuracy': 0.6182033096926713, 'precision': 0.4769939898250597, 'recall': 0.6182033096926713, 'f1-score': 0.511798134243245, 'macro_f1-score': 0.11399827977726615, 'balanced_accuracy': 0.12570579462914114, 'mcc': 0.4552569758609105}\n",
      "Epoch 2/20\n"
     ]
    },
    {
     "name": "stderr",
     "output_type": "stream",
     "text": [
      "100%|██████████| 476/476 [03:22<00:00,  2.35it/s]\n"
     ]
    },
    {
     "name": "stdout",
     "output_type": "stream",
     "text": [
      "{'val_loss': 1.312805617755314, 'val_accuracy': 0.6513002364066194, 'precision': 0.591335496014808, 'recall': 0.6513002364066194, 'f1-score': 0.6038281326508618, 'macro_f1-score': 0.21030813784423527, 'balanced_accuracy': 0.20568787429105911, 'mcc': 0.5164072350066219}\n",
      "Epoch 3/20\n"
     ]
    },
    {
     "name": "stderr",
     "output_type": "stream",
     "text": [
      "100%|██████████| 476/476 [03:22<00:00,  2.34it/s]\n"
     ]
    },
    {
     "name": "stdout",
     "output_type": "stream",
     "text": [
      "{'val_loss': 1.3980809888749752, 'val_accuracy': 0.6501182033096927, 'precision': 0.594288513930623, 'recall': 0.6501182033096927, 'f1-score': 0.5954967467102618, 'macro_f1-score': 0.24988441380379411, 'balanced_accuracy': 0.2405277150862219, 'mcc': 0.5119266345533734}\n",
      "Epoch 4/20\n"
     ]
    },
    {
     "name": "stderr",
     "output_type": "stream",
     "text": [
      "100%|██████████| 476/476 [03:23<00:00,  2.34it/s]\n"
     ]
    },
    {
     "name": "stdout",
     "output_type": "stream",
     "text": [
      "{'val_loss': 1.2954162629145496, 'val_accuracy': 0.6713947990543735, 'precision': 0.636246089007394, 'recall': 0.6713947990543735, 'f1-score': 0.6432187217483157, 'macro_f1-score': 0.2930332338800228, 'balanced_accuracy': 0.29490328279577127, 'mcc': 0.5585189232649613}\n",
      "Epoch 5/20\n"
     ]
    },
    {
     "name": "stderr",
     "output_type": "stream",
     "text": [
      "100%|██████████| 476/476 [03:23<00:00,  2.34it/s]\n"
     ]
    },
    {
     "name": "stdout",
     "output_type": "stream",
     "text": [
      "{'val_loss': 1.3424419181526832, 'val_accuracy': 0.6843971631205674, 'precision': 0.6612946919742678, 'recall': 0.6843971631205674, 'f1-score': 0.6591779522062039, 'macro_f1-score': 0.37884754343818877, 'balanced_accuracy': 0.35711513969535247, 'mcc': 0.5743837062974475}\n",
      "Epoch 6/20\n"
     ]
    },
    {
     "name": "stderr",
     "output_type": "stream",
     "text": [
      "100%|██████████| 476/476 [03:23<00:00,  2.34it/s]\n"
     ]
    },
    {
     "name": "stdout",
     "output_type": "stream",
     "text": [
      "{'val_loss': 1.475237121559539, 'val_accuracy': 0.6595744680851063, 'precision': 0.6792961033900655, 'recall': 0.6595744680851063, 'f1-score': 0.655764050162368, 'macro_f1-score': 0.40113978858362104, 'balanced_accuracy': 0.39180312339558604, 'mcc': 0.5525161212538511}\n",
      "Epoch 7/20\n"
     ]
    },
    {
     "name": "stderr",
     "output_type": "stream",
     "text": [
      "100%|██████████| 476/476 [03:23<00:00,  2.34it/s]\n"
     ]
    },
    {
     "name": "stdout",
     "output_type": "stream",
     "text": [
      "{'val_loss': 1.642231619582986, 'val_accuracy': 0.6347517730496454, 'precision': 0.6827408994702129, 'recall': 0.6347517730496454, 'f1-score': 0.6439738336704642, 'macro_f1-score': 0.37083016343885633, 'balanced_accuracy': 0.388907047920447, 'mcc': 0.5358666010662647}\n",
      "Epoch 8/20\n"
     ]
    },
    {
     "name": "stderr",
     "output_type": "stream",
     "text": [
      "100%|██████████| 476/476 [03:23<00:00,  2.34it/s]\n"
     ]
    },
    {
     "name": "stdout",
     "output_type": "stream",
     "text": [
      "{'val_loss': 1.6051854148225964, 'val_accuracy': 0.66548463356974, 'precision': 0.6577112566127449, 'recall': 0.66548463356974, 'f1-score': 0.6414948181672339, 'macro_f1-score': 0.3521469463072289, 'balanced_accuracy': 0.3293309359391352, 'mcc': 0.5449268197060285}\n",
      "Epoch 9/20\n"
     ]
    },
    {
     "name": "stderr",
     "output_type": "stream",
     "text": [
      "100%|██████████| 476/476 [03:23<00:00,  2.34it/s]\n"
     ]
    },
    {
     "name": "stdout",
     "output_type": "stream",
     "text": [
      "{'val_loss': 1.6232355743084315, 'val_accuracy': 0.6725768321513003, 'precision': 0.6676221233146556, 'recall': 0.6725768321513003, 'f1-score': 0.6547637305274467, 'macro_f1-score': 0.3962416468557793, 'balanced_accuracy': 0.3933600335863233, 'mcc': 0.564082705878995}\n",
      "Early stopping triggered at epoch 9\n",
      "Fold 2\n",
      "Training set label distribution: {0: 3576, 1: 28, 2: 126, 3: 27, 4: 231, 5: 131, 6: 106, 7: 35, 8: 76, 9: 73, 10: 79, 11: 194, 12: 217, 13: 32, 14: 26, 15: 28, 16: 23, 17: 260, 18: 104, 19: 51, 20: 16, 21: 39, 22: 88, 23: 180, 24: 18, 25: 56, 26: 97, 27: 55, 28: 13, 29: 15, 30: 17, 31: 90, 32: 40, 33: 36, 34: 34, 35: 13, 36: 32, 37: 24, 38: 6, 39: 116, 40: 13, 41: 10, 42: 166, 43: 18, 44: 22, 45: 10, 46: 61, 47: 595, 48: 227, 49: 78}\n",
      "Validation set label distribution: {0: 398, 1: 3, 2: 14, 3: 3, 4: 26, 5: 14, 6: 12, 7: 4, 8: 9, 9: 8, 10: 9, 11: 21, 12: 24, 13: 4, 14: 3, 15: 3, 16: 2, 17: 29, 18: 12, 19: 5, 20: 2, 21: 5, 22: 9, 23: 20, 24: 2, 25: 7, 26: 10, 27: 6, 28: 2, 29: 1, 30: 2, 31: 10, 32: 5, 33: 4, 34: 3, 35: 2, 36: 3, 37: 3, 38: 1, 39: 13, 40: 1, 41: 1, 42: 18, 43: 2, 44: 3, 45: 1, 46: 7, 47: 66, 48: 25, 49: 9}\n"
     ]
    },
    {
     "name": "stderr",
     "output_type": "stream",
     "text": [
      "Some weights of BertForSequenceClassification were not initialized from the model checkpoint at bert-base-uncased and are newly initialized: ['classifier.bias', 'classifier.weight']\n",
      "You should probably TRAIN this model on a down-stream task to be able to use it for predictions and inference.\n"
     ]
    },
    {
     "name": "stdout",
     "output_type": "stream",
     "text": [
      "Epoch 1/20\n"
     ]
    },
    {
     "name": "stderr",
     "output_type": "stream",
     "text": [
      "100%|██████████| 476/476 [03:23<00:00,  2.34it/s]\n"
     ]
    },
    {
     "name": "stdout",
     "output_type": "stream",
     "text": [
      "{'val_loss': 1.5668501420965735, 'val_accuracy': 0.607565011820331, 'precision': 0.4379453432040233, 'recall': 0.607565011820331, 'f1-score': 0.5050970323565208, 'macro_f1-score': 0.10536866866666916, 'balanced_accuracy': 0.12671672160989436, 'mcc': 0.44264694717050174}\n",
      "Epoch 2/20\n"
     ]
    },
    {
     "name": "stderr",
     "output_type": "stream",
     "text": [
      "100%|██████████| 476/476 [03:23<00:00,  2.34it/s]\n"
     ]
    },
    {
     "name": "stdout",
     "output_type": "stream",
     "text": [
      "{'val_loss': 1.3317812214482505, 'val_accuracy': 0.66548463356974, 'precision': 0.5697711817381238, 'recall': 0.66548463356974, 'f1-score': 0.5978492289100572, 'macro_f1-score': 0.21667045307463748, 'balanced_accuracy': 0.21805688958801067, 'mcc': 0.534131437417128}\n",
      "Epoch 3/20\n"
     ]
    },
    {
     "name": "stderr",
     "output_type": "stream",
     "text": [
      "100%|██████████| 476/476 [03:23<00:00,  2.34it/s]\n"
     ]
    },
    {
     "name": "stdout",
     "output_type": "stream",
     "text": [
      "{'val_loss': 1.3523373828743988, 'val_accuracy': 0.6583924349881797, 'precision': 0.6207153347358125, 'recall': 0.6583924349881797, 'f1-score': 0.6162540607570415, 'macro_f1-score': 0.23490083839495507, 'balanced_accuracy': 0.23474028001109962, 'mcc': 0.5324186316824666}\n",
      "Epoch 4/20\n"
     ]
    },
    {
     "name": "stderr",
     "output_type": "stream",
     "text": [
      "100%|██████████| 476/476 [03:23<00:00,  2.34it/s]\n"
     ]
    },
    {
     "name": "stdout",
     "output_type": "stream",
     "text": [
      "{'val_loss': 1.297678327785348, 'val_accuracy': 0.6607565011820331, 'precision': 0.6232893124174723, 'recall': 0.6607565011820331, 'f1-score': 0.6318604587869655, 'macro_f1-score': 0.2863111849299173, 'balanced_accuracy': 0.30752336470206854, 'mcc': 0.5502733093865045}\n",
      "Epoch 5/20\n"
     ]
    },
    {
     "name": "stderr",
     "output_type": "stream",
     "text": [
      "100%|██████████| 476/476 [03:23<00:00,  2.34it/s]\n"
     ]
    },
    {
     "name": "stdout",
     "output_type": "stream",
     "text": [
      "{'val_loss': 1.3410925578396276, 'val_accuracy': 0.6702127659574468, 'precision': 0.649747912893895, 'recall': 0.6702127659574468, 'f1-score': 0.6372524337488553, 'macro_f1-score': 0.28642185675093274, 'balanced_accuracy': 0.2798934511030855, 'mcc': 0.5519244978517469}\n",
      "Epoch 6/20\n"
     ]
    },
    {
     "name": "stderr",
     "output_type": "stream",
     "text": [
      "100%|██████████| 476/476 [03:23<00:00,  2.34it/s]\n"
     ]
    },
    {
     "name": "stdout",
     "output_type": "stream",
     "text": [
      "{'val_loss': 1.4450101470047574, 'val_accuracy': 0.6288416075650118, 'precision': 0.6721109707711437, 'recall': 0.6288416075650118, 'f1-score': 0.6282556499683171, 'macro_f1-score': 0.33327332120735526, 'balanced_accuracy': 0.3625011932136866, 'mcc': 0.5346191868887861}\n",
      "Epoch 7/20\n"
     ]
    },
    {
     "name": "stderr",
     "output_type": "stream",
     "text": [
      "100%|██████████| 476/476 [03:23<00:00,  2.34it/s]\n"
     ]
    },
    {
     "name": "stdout",
     "output_type": "stream",
     "text": [
      "{'val_loss': 1.4015909826980446, 'val_accuracy': 0.66548463356974, 'precision': 0.6579339320615013, 'recall': 0.66548463356974, 'f1-score': 0.6528919643719521, 'macro_f1-score': 0.35091918744403744, 'balanced_accuracy': 0.35718462413229346, 'mcc': 0.5592096391865667}\n",
      "Epoch 8/20\n"
     ]
    },
    {
     "name": "stderr",
     "output_type": "stream",
     "text": [
      "100%|██████████| 476/476 [03:23<00:00,  2.34it/s]\n"
     ]
    },
    {
     "name": "stdout",
     "output_type": "stream",
     "text": [
      "{'val_loss': 1.4612018018960953, 'val_accuracy': 0.6713947990543735, 'precision': 0.6657230213168313, 'recall': 0.6713947990543735, 'f1-score': 0.6598516689228097, 'macro_f1-score': 0.3721571309411397, 'balanced_accuracy': 0.38617866794442773, 'mcc': 0.5672120067758478}\n",
      "Epoch 9/20\n"
     ]
    },
    {
     "name": "stderr",
     "output_type": "stream",
     "text": [
      "100%|██████████| 476/476 [03:23<00:00,  2.34it/s]\n"
     ]
    },
    {
     "name": "stdout",
     "output_type": "stream",
     "text": [
      "{'val_loss': 1.585043357790641, 'val_accuracy': 0.6607565011820331, 'precision': 0.6774964709550566, 'recall': 0.6607565011820331, 'f1-score': 0.6580965008604063, 'macro_f1-score': 0.3790606099317059, 'balanced_accuracy': 0.3887936550232339, 'mcc': 0.5576786064405361}\n",
      "Epoch 10/20\n"
     ]
    },
    {
     "name": "stderr",
     "output_type": "stream",
     "text": [
      "100%|██████████| 476/476 [03:23<00:00,  2.34it/s]\n"
     ]
    },
    {
     "name": "stdout",
     "output_type": "stream",
     "text": [
      "{'val_loss': 1.586044062702161, 'val_accuracy': 0.6773049645390071, 'precision': 0.6760096832378885, 'recall': 0.6773049645390071, 'f1-score': 0.6627415242937893, 'macro_f1-score': 0.3953790881740554, 'balanced_accuracy': 0.38703869512339445, 'mcc': 0.570693052620843}\n",
      "Epoch 11/20\n"
     ]
    },
    {
     "name": "stderr",
     "output_type": "stream",
     "text": [
      "100%|██████████| 476/476 [03:23<00:00,  2.34it/s]\n"
     ]
    },
    {
     "name": "stdout",
     "output_type": "stream",
     "text": [
      "{'val_loss': 1.5657932151038692, 'val_accuracy': 0.6737588652482269, 'precision': 0.6807738490650987, 'recall': 0.6737588652482269, 'f1-score': 0.660364348058382, 'macro_f1-score': 0.39954426661988274, 'balanced_accuracy': 0.40642100376952217, 'mcc': 0.5709376441404254}\n",
      "Epoch 12/20\n"
     ]
    },
    {
     "name": "stderr",
     "output_type": "stream",
     "text": [
      "100%|██████████| 476/476 [03:23<00:00,  2.34it/s]\n"
     ]
    },
    {
     "name": "stdout",
     "output_type": "stream",
     "text": [
      "{'val_loss': 1.6398406273351525, 'val_accuracy': 0.6702127659574468, 'precision': 0.6443971393547728, 'recall': 0.6702127659574468, 'f1-score': 0.6496192740067249, 'macro_f1-score': 0.34419568154611196, 'balanced_accuracy': 0.3441047264601241, 'mcc': 0.5600305243867224}\n",
      "Epoch 13/20\n"
     ]
    },
    {
     "name": "stderr",
     "output_type": "stream",
     "text": [
      "100%|██████████| 476/476 [03:23<00:00,  2.34it/s]\n"
     ]
    },
    {
     "name": "stdout",
     "output_type": "stream",
     "text": [
      "{'val_loss': 1.6555029091969975, 'val_accuracy': 0.6678486997635934, 'precision': 0.6523515966148473, 'recall': 0.6678486997635934, 'f1-score': 0.6480167778221395, 'macro_f1-score': 0.3678803318739877, 'balanced_accuracy': 0.3678401089601401, 'mcc': 0.5561893808257105}\n",
      "Epoch 14/20\n"
     ]
    },
    {
     "name": "stderr",
     "output_type": "stream",
     "text": [
      "100%|██████████| 476/476 [03:23<00:00,  2.34it/s]\n"
     ]
    },
    {
     "name": "stdout",
     "output_type": "stream",
     "text": [
      "{'val_loss': 1.7359324356295027, 'val_accuracy': 0.6678486997635934, 'precision': 0.6441471416756384, 'recall': 0.6678486997635934, 'f1-score': 0.6416042092828274, 'macro_f1-score': 0.34137978213121767, 'balanced_accuracy': 0.3327055587859261, 'mcc': 0.5548057035385505}\n",
      "Early stopping triggered at epoch 14\n",
      "Fold 3\n",
      "Training set label distribution: {0: 3576, 1: 28, 2: 126, 3: 27, 4: 231, 5: 131, 6: 106, 7: 35, 8: 76, 9: 73, 10: 80, 11: 193, 12: 217, 13: 32, 14: 26, 15: 28, 16: 23, 17: 260, 18: 104, 19: 51, 20: 16, 21: 40, 22: 87, 23: 180, 24: 18, 25: 57, 26: 96, 27: 55, 28: 14, 29: 14, 30: 17, 31: 90, 32: 41, 33: 36, 34: 33, 35: 13, 36: 32, 37: 24, 38: 6, 39: 116, 40: 13, 41: 10, 42: 166, 43: 18, 44: 22, 45: 10, 46: 61, 47: 595, 48: 227, 49: 78}\n",
      "Validation set label distribution: {0: 398, 1: 3, 2: 14, 3: 3, 4: 26, 5: 14, 6: 12, 7: 4, 8: 9, 9: 8, 10: 8, 11: 22, 12: 24, 13: 4, 14: 3, 15: 3, 16: 2, 17: 29, 18: 12, 19: 5, 20: 2, 21: 4, 22: 10, 23: 20, 24: 2, 25: 6, 26: 11, 27: 6, 28: 1, 29: 2, 30: 2, 31: 10, 32: 4, 33: 4, 34: 4, 35: 2, 36: 3, 37: 3, 38: 1, 39: 13, 40: 1, 41: 1, 42: 18, 43: 2, 44: 3, 45: 1, 46: 7, 47: 66, 48: 25, 49: 9}\n"
     ]
    },
    {
     "name": "stderr",
     "output_type": "stream",
     "text": [
      "Some weights of BertForSequenceClassification were not initialized from the model checkpoint at bert-base-uncased and are newly initialized: ['classifier.bias', 'classifier.weight']\n",
      "You should probably TRAIN this model on a down-stream task to be able to use it for predictions and inference.\n"
     ]
    },
    {
     "name": "stdout",
     "output_type": "stream",
     "text": [
      "Epoch 1/20\n"
     ]
    },
    {
     "name": "stderr",
     "output_type": "stream",
     "text": [
      "100%|██████████| 476/476 [03:23<00:00,  2.34it/s]\n"
     ]
    },
    {
     "name": "stdout",
     "output_type": "stream",
     "text": [
      "{'val_loss': 1.6804587301218286, 'val_accuracy': 0.6004728132387707, 'precision': 0.44121077549395393, 'recall': 0.6004728132387707, 'f1-score': 0.48890259677779796, 'macro_f1-score': 0.0948251189825401, 'balanced_accuracy': 0.103176375166065, 'mcc': 0.4182657924179497}\n",
      "Epoch 2/20\n"
     ]
    },
    {
     "name": "stderr",
     "output_type": "stream",
     "text": [
      "100%|██████████| 476/476 [03:23<00:00,  2.34it/s]\n"
     ]
    },
    {
     "name": "stdout",
     "output_type": "stream",
     "text": [
      "{'val_loss': 1.4072801195225626, 'val_accuracy': 0.6359338061465721, 'precision': 0.5801731422607734, 'recall': 0.6359338061465721, 'f1-score': 0.585469286062956, 'macro_f1-score': 0.20940300104389642, 'balanced_accuracy': 0.21233699496560351, 'mcc': 0.5037573021298015}\n",
      "Epoch 3/20\n"
     ]
    },
    {
     "name": "stderr",
     "output_type": "stream",
     "text": [
      "100%|██████████| 476/476 [03:23<00:00,  2.34it/s]\n"
     ]
    },
    {
     "name": "stdout",
     "output_type": "stream",
     "text": [
      "{'val_loss': 1.3018126274054904, 'val_accuracy': 0.6879432624113475, 'precision': 0.637004707475316, 'recall': 0.6879432624113475, 'f1-score': 0.6502024309258615, 'macro_f1-score': 0.2882809551781447, 'balanced_accuracy': 0.28461924041418063, 'mcc': 0.5724373727438148}\n",
      "Epoch 4/20\n"
     ]
    },
    {
     "name": "stderr",
     "output_type": "stream",
     "text": [
      "100%|██████████| 476/476 [03:23<00:00,  2.34it/s]\n"
     ]
    },
    {
     "name": "stdout",
     "output_type": "stream",
     "text": [
      "{'val_loss': 1.3060464133631509, 'val_accuracy': 0.6713947990543735, 'precision': 0.6551870872335789, 'recall': 0.6713947990543735, 'f1-score': 0.6447554600569562, 'macro_f1-score': 0.31273033726149185, 'balanced_accuracy': 0.3196565633119263, 'mcc': 0.5565985047889345}\n",
      "Epoch 5/20\n"
     ]
    },
    {
     "name": "stderr",
     "output_type": "stream",
     "text": [
      "100%|██████████| 476/476 [03:23<00:00,  2.34it/s]\n"
     ]
    },
    {
     "name": "stdout",
     "output_type": "stream",
     "text": [
      "{'val_loss': 1.459387311957917, 'val_accuracy': 0.6572104018912529, 'precision': 0.6482540201448014, 'recall': 0.6572104018912529, 'f1-score': 0.6430908887763166, 'macro_f1-score': 0.3413427095991032, 'balanced_accuracy': 0.3488794056460492, 'mcc': 0.5479384729342038}\n",
      "Epoch 6/20\n"
     ]
    },
    {
     "name": "stderr",
     "output_type": "stream",
     "text": [
      "100%|██████████| 476/476 [03:23<00:00,  2.34it/s]\n"
     ]
    },
    {
     "name": "stdout",
     "output_type": "stream",
     "text": [
      "{'val_loss': 1.4436365498124428, 'val_accuracy': 0.648936170212766, 'precision': 0.6630573353838008, 'recall': 0.648936170212766, 'f1-score': 0.644974387312736, 'macro_f1-score': 0.36311996211384695, 'balanced_accuracy': 0.35955386410505097, 'mcc': 0.5446538525795365}\n",
      "Epoch 7/20\n"
     ]
    },
    {
     "name": "stderr",
     "output_type": "stream",
     "text": [
      "100%|██████████| 476/476 [03:23<00:00,  2.34it/s]\n"
     ]
    },
    {
     "name": "stdout",
     "output_type": "stream",
     "text": [
      "{'val_loss': 1.47359140695266, 'val_accuracy': 0.7021276595744681, 'precision': 0.6994423868094081, 'recall': 0.7021276595744681, 'f1-score': 0.6905448973343721, 'macro_f1-score': 0.42186326483065145, 'balanced_accuracy': 0.424611428778003, 'mcc': 0.6023382596308455}\n",
      "Epoch 8/20\n"
     ]
    },
    {
     "name": "stderr",
     "output_type": "stream",
     "text": [
      "100%|██████████| 476/476 [03:23<00:00,  2.34it/s]\n"
     ]
    },
    {
     "name": "stdout",
     "output_type": "stream",
     "text": [
      "{'val_loss': 1.6222735227278944, 'val_accuracy': 0.6796690307328606, 'precision': 0.6701176512376309, 'recall': 0.6796690307328606, 'f1-score': 0.6634784381882501, 'macro_f1-score': 0.40103174165223365, 'balanced_accuracy': 0.40406034035276805, 'mcc': 0.5714063945025626}\n",
      "Epoch 9/20\n"
     ]
    },
    {
     "name": "stderr",
     "output_type": "stream",
     "text": [
      "100%|██████████| 476/476 [03:23<00:00,  2.34it/s]\n"
     ]
    },
    {
     "name": "stdout",
     "output_type": "stream",
     "text": [
      "{'val_loss': 1.6581359117660883, 'val_accuracy': 0.6796690307328606, 'precision': 0.6662637084604786, 'recall': 0.6796690307328606, 'f1-score': 0.6609830496163578, 'macro_f1-score': 0.39470602307043967, 'balanced_accuracy': 0.400883341614584, 'mcc': 0.5720675269664237}\n",
      "Epoch 10/20\n"
     ]
    },
    {
     "name": "stderr",
     "output_type": "stream",
     "text": [
      "100%|██████████| 476/476 [03:23<00:00,  2.34it/s]\n"
     ]
    },
    {
     "name": "stdout",
     "output_type": "stream",
     "text": [
      "{'val_loss': 1.6847808540992018, 'val_accuracy': 0.6619385342789598, 'precision': 0.6673672818121336, 'recall': 0.6619385342789598, 'f1-score': 0.6540214344614258, 'macro_f1-score': 0.39283749406795054, 'balanced_accuracy': 0.39852831979241615, 'mcc': 0.5575394147117445}\n",
      "Early stopping triggered at epoch 10\n",
      "Fold 4\n",
      "Training set label distribution: {0: 3576, 1: 28, 2: 126, 3: 27, 4: 231, 5: 131, 6: 106, 7: 35, 8: 77, 9: 72, 10: 80, 11: 193, 12: 217, 13: 32, 14: 27, 15: 27, 16: 23, 17: 260, 18: 104, 19: 51, 20: 16, 21: 40, 22: 87, 23: 180, 24: 18, 25: 57, 26: 96, 27: 55, 28: 14, 29: 14, 30: 17, 31: 90, 32: 41, 33: 36, 34: 33, 35: 13, 36: 32, 37: 24, 38: 6, 39: 116, 40: 13, 41: 10, 42: 166, 43: 18, 44: 23, 45: 9, 46: 61, 47: 595, 48: 227, 49: 78}\n",
      "Validation set label distribution: {0: 398, 1: 3, 2: 14, 3: 3, 4: 26, 5: 14, 6: 12, 7: 4, 8: 8, 9: 9, 10: 8, 11: 22, 12: 24, 13: 4, 14: 2, 15: 4, 16: 2, 17: 29, 18: 12, 19: 5, 20: 2, 21: 4, 22: 10, 23: 20, 24: 2, 25: 6, 26: 11, 27: 6, 28: 1, 29: 2, 30: 2, 31: 10, 32: 4, 33: 4, 34: 4, 35: 2, 36: 3, 37: 3, 38: 1, 39: 13, 40: 1, 41: 1, 42: 18, 43: 2, 44: 2, 45: 2, 46: 7, 47: 66, 48: 25, 49: 9}\n"
     ]
    },
    {
     "name": "stderr",
     "output_type": "stream",
     "text": [
      "Some weights of BertForSequenceClassification were not initialized from the model checkpoint at bert-base-uncased and are newly initialized: ['classifier.bias', 'classifier.weight']\n",
      "You should probably TRAIN this model on a down-stream task to be able to use it for predictions and inference.\n"
     ]
    },
    {
     "name": "stdout",
     "output_type": "stream",
     "text": [
      "Epoch 1/20\n"
     ]
    },
    {
     "name": "stderr",
     "output_type": "stream",
     "text": [
      "100%|██████████| 476/476 [03:23<00:00,  2.34it/s]\n"
     ]
    },
    {
     "name": "stdout",
     "output_type": "stream",
     "text": [
      "{'val_loss': 1.628133422923538, 'val_accuracy': 0.5957446808510638, 'precision': 0.5247618369394298, 'recall': 0.5957446808510638, 'f1-score': 0.5396142156710624, 'macro_f1-score': 0.1252832835317629, 'balanced_accuracy': 0.1455888948649302, 'mcc': 0.4530057502119341}\n",
      "Epoch 2/20\n"
     ]
    },
    {
     "name": "stderr",
     "output_type": "stream",
     "text": [
      "100%|██████████| 476/476 [03:23<00:00,  2.34it/s]\n"
     ]
    },
    {
     "name": "stdout",
     "output_type": "stream",
     "text": [
      "{'val_loss': 1.3189519013998643, 'val_accuracy': 0.6465721040189125, 'precision': 0.6081131771374323, 'recall': 0.6465721040189125, 'f1-score': 0.5913500357652663, 'macro_f1-score': 0.20559425028566378, 'balanced_accuracy': 0.20375807521768363, 'mcc': 0.5137154090648725}\n",
      "Epoch 3/20\n"
     ]
    },
    {
     "name": "stderr",
     "output_type": "stream",
     "text": [
      "100%|██████████| 476/476 [03:23<00:00,  2.34it/s]\n"
     ]
    },
    {
     "name": "stdout",
     "output_type": "stream",
     "text": [
      "{'val_loss': 1.3075420412252534, 'val_accuracy': 0.6749408983451537, 'precision': 0.6229830977676517, 'recall': 0.6749408983451537, 'f1-score': 0.6285487476197283, 'macro_f1-score': 0.26263243954981536, 'balanced_accuracy': 0.27384627006448187, 'mcc': 0.5554788884241281}\n",
      "Epoch 4/20\n"
     ]
    },
    {
     "name": "stderr",
     "output_type": "stream",
     "text": [
      "100%|██████████| 476/476 [03:23<00:00,  2.34it/s]\n"
     ]
    },
    {
     "name": "stdout",
     "output_type": "stream",
     "text": [
      "{'val_loss': 1.295108587112067, 'val_accuracy': 0.6808510638297872, 'precision': 0.6508850959327673, 'recall': 0.6808510638297872, 'f1-score': 0.6498969447542068, 'macro_f1-score': 0.31138055097813827, 'balanced_accuracy': 0.3084964125845082, 'mcc': 0.5701493937489636}\n",
      "Epoch 5/20\n"
     ]
    },
    {
     "name": "stderr",
     "output_type": "stream",
     "text": [
      "100%|██████████| 476/476 [03:23<00:00,  2.34it/s]\n"
     ]
    },
    {
     "name": "stdout",
     "output_type": "stream",
     "text": [
      "{'val_loss': 1.3475221029992372, 'val_accuracy': 0.6678486997635934, 'precision': 0.6390035656081924, 'recall': 0.6678486997635934, 'f1-score': 0.641376310488931, 'macro_f1-score': 0.32690359856651907, 'balanced_accuracy': 0.32928692431386936, 'mcc': 0.5572274194155227}\n",
      "Epoch 6/20\n"
     ]
    },
    {
     "name": "stderr",
     "output_type": "stream",
     "text": [
      "100%|██████████| 476/476 [03:23<00:00,  2.34it/s]\n"
     ]
    },
    {
     "name": "stdout",
     "output_type": "stream",
     "text": [
      "{'val_loss': 1.4787716955508825, 'val_accuracy': 0.6690307328605201, 'precision': 0.6871172068956556, 'recall': 0.6690307328605201, 'f1-score': 0.6560599519076643, 'macro_f1-score': 0.31454353543589614, 'balanced_accuracy': 0.3188205866949239, 'mcc': 0.5639863719312597}\n",
      "Epoch 7/20\n"
     ]
    },
    {
     "name": "stderr",
     "output_type": "stream",
     "text": [
      "100%|██████████| 476/476 [03:23<00:00,  2.34it/s]\n"
     ]
    },
    {
     "name": "stdout",
     "output_type": "stream",
     "text": [
      "{'val_loss': 1.4338536706735503, 'val_accuracy': 0.6713947990543735, 'precision': 0.6753955916710642, 'recall': 0.6713947990543735, 'f1-score': 0.658505949862729, 'macro_f1-score': 0.36760382746274783, 'balanced_accuracy': 0.342530648380865, 'mcc': 0.5625883492457122}\n",
      "Epoch 8/20\n"
     ]
    },
    {
     "name": "stderr",
     "output_type": "stream",
     "text": [
      "100%|██████████| 476/476 [03:23<00:00,  2.34it/s]\n"
     ]
    },
    {
     "name": "stdout",
     "output_type": "stream",
     "text": [
      "{'val_loss': 1.5414745290324372, 'val_accuracy': 0.6607565011820331, 'precision': 0.6702586196866638, 'recall': 0.6607565011820331, 'f1-score': 0.6477383524890865, 'macro_f1-score': 0.3675068741216018, 'balanced_accuracy': 0.3590902417111566, 'mcc': 0.5507558586759544}\n",
      "Epoch 9/20\n"
     ]
    },
    {
     "name": "stderr",
     "output_type": "stream",
     "text": [
      "100%|██████████| 476/476 [03:23<00:00,  2.34it/s]\n"
     ]
    },
    {
     "name": "stdout",
     "output_type": "stream",
     "text": [
      "{'val_loss': 1.486209697880835, 'val_accuracy': 0.6914893617021277, 'precision': 0.6953967695853511, 'recall': 0.6914893617021277, 'f1-score': 0.6761023286571611, 'macro_f1-score': 0.40121583804317995, 'balanced_accuracy': 0.41525668431378, 'mcc': 0.5885504617212439}\n",
      "Epoch 10/20\n"
     ]
    },
    {
     "name": "stderr",
     "output_type": "stream",
     "text": [
      "100%|██████████| 476/476 [03:23<00:00,  2.34it/s]\n"
     ]
    },
    {
     "name": "stdout",
     "output_type": "stream",
     "text": [
      "{'val_loss': 1.5711645978801656, 'val_accuracy': 0.6891252955082743, 'precision': 0.7081965675113693, 'recall': 0.6891252955082743, 'f1-score': 0.675429268332792, 'macro_f1-score': 0.4050786581661462, 'balanced_accuracy': 0.4043468308987457, 'mcc': 0.5874632598611392}\n",
      "Epoch 11/20\n"
     ]
    },
    {
     "name": "stderr",
     "output_type": "stream",
     "text": [
      "100%|██████████| 476/476 [03:23<00:00,  2.34it/s]\n"
     ]
    },
    {
     "name": "stdout",
     "output_type": "stream",
     "text": [
      "{'val_loss': 1.6448786534228415, 'val_accuracy': 0.6761229314420804, 'precision': 0.671680302988122, 'recall': 0.6761229314420804, 'f1-score': 0.6613441958614968, 'macro_f1-score': 0.3878883577471985, 'balanced_accuracy': 0.3774640364737401, 'mcc': 0.5700936790672229}\n",
      "Epoch 12/20\n"
     ]
    },
    {
     "name": "stderr",
     "output_type": "stream",
     "text": [
      "100%|██████████| 476/476 [03:23<00:00,  2.34it/s]\n"
     ]
    },
    {
     "name": "stdout",
     "output_type": "stream",
     "text": [
      "{'val_loss': 1.6529061080149885, 'val_accuracy': 0.6773049645390071, 'precision': 0.6866485885326323, 'recall': 0.6773049645390071, 'f1-score': 0.6625885381204671, 'macro_f1-score': 0.3997352577804798, 'balanced_accuracy': 0.4001187288577342, 'mcc': 0.5720445027772327}\n",
      "Epoch 13/20\n"
     ]
    },
    {
     "name": "stderr",
     "output_type": "stream",
     "text": [
      "100%|██████████| 476/476 [03:23<00:00,  2.34it/s]\n"
     ]
    },
    {
     "name": "stdout",
     "output_type": "stream",
     "text": [
      "{'val_loss': 1.6154437402509294, 'val_accuracy': 0.6891252955082743, 'precision': 0.6556215453091685, 'recall': 0.6891252955082743, 'f1-score': 0.6595019172830637, 'macro_f1-score': 0.3895417582327163, 'balanced_accuracy': 0.37434261685483305, 'mcc': 0.5784223748700893}\n",
      "Early stopping triggered at epoch 13\n",
      "Fold 5\n",
      "Training set label distribution: {0: 3577, 1: 27, 2: 126, 3: 27, 4: 231, 5: 131, 6: 106, 7: 35, 8: 77, 9: 73, 10: 79, 11: 193, 12: 217, 13: 33, 14: 26, 15: 28, 16: 22, 17: 260, 18: 105, 19: 50, 20: 16, 21: 40, 22: 87, 23: 180, 24: 18, 25: 57, 26: 96, 27: 55, 28: 14, 29: 14, 30: 17, 31: 90, 32: 41, 33: 36, 34: 33, 35: 14, 36: 31, 37: 24, 38: 6, 39: 117, 40: 13, 41: 10, 42: 165, 43: 18, 44: 23, 45: 10, 46: 61, 47: 595, 48: 227, 49: 78}\n",
      "Validation set label distribution: {0: 397, 1: 4, 2: 14, 3: 3, 4: 26, 5: 14, 6: 12, 7: 4, 8: 8, 9: 8, 10: 9, 11: 22, 12: 24, 13: 3, 14: 3, 15: 3, 16: 3, 17: 29, 18: 11, 19: 6, 20: 2, 21: 4, 22: 10, 23: 20, 24: 2, 25: 6, 26: 11, 27: 6, 28: 1, 29: 2, 30: 2, 31: 10, 32: 4, 33: 4, 34: 4, 35: 1, 36: 4, 37: 3, 38: 1, 39: 12, 40: 1, 41: 1, 42: 19, 43: 2, 44: 2, 45: 1, 46: 7, 47: 66, 48: 25, 49: 9}\n"
     ]
    },
    {
     "name": "stderr",
     "output_type": "stream",
     "text": [
      "Some weights of BertForSequenceClassification were not initialized from the model checkpoint at bert-base-uncased and are newly initialized: ['classifier.bias', 'classifier.weight']\n",
      "You should probably TRAIN this model on a down-stream task to be able to use it for predictions and inference.\n"
     ]
    },
    {
     "name": "stdout",
     "output_type": "stream",
     "text": [
      "Epoch 1/20\n"
     ]
    },
    {
     "name": "stderr",
     "output_type": "stream",
     "text": [
      "100%|██████████| 476/476 [03:23<00:00,  2.34it/s]\n"
     ]
    },
    {
     "name": "stdout",
     "output_type": "stream",
     "text": [
      "{'val_loss': 1.5811623267407686, 'val_accuracy': 0.6071005917159763, 'precision': 0.4463081766056362, 'recall': 0.6071005917159763, 'f1-score': 0.49981495063218045, 'macro_f1-score': 0.09169348506161418, 'balanced_accuracy': 0.11479879214852724, 'mcc': 0.4452089023463146}\n",
      "Epoch 2/20\n"
     ]
    },
    {
     "name": "stderr",
     "output_type": "stream",
     "text": [
      "100%|██████████| 476/476 [03:23<00:00,  2.34it/s]\n"
     ]
    },
    {
     "name": "stdout",
     "output_type": "stream",
     "text": [
      "{'val_loss': 1.4378789056022212, 'val_accuracy': 0.6248520710059171, 'precision': 0.5794008148046855, 'recall': 0.6248520710059171, 'f1-score': 0.5782374928968491, 'macro_f1-score': 0.19070763608073082, 'balanced_accuracy': 0.20167387505331294, 'mcc': 0.501034774568645}\n",
      "Epoch 3/20\n"
     ]
    },
    {
     "name": "stderr",
     "output_type": "stream",
     "text": [
      "100%|██████████| 476/476 [03:23<00:00,  2.34it/s]\n"
     ]
    },
    {
     "name": "stdout",
     "output_type": "stream",
     "text": [
      "{'val_loss': 1.287709339609686, 'val_accuracy': 0.6556213017751479, 'precision': 0.6074556408407523, 'recall': 0.6556213017751479, 'f1-score': 0.6086816701669677, 'macro_f1-score': 0.24343012295578126, 'balanced_accuracy': 0.24991764469667893, 'mcc': 0.5346446300146693}\n",
      "Epoch 4/20\n"
     ]
    },
    {
     "name": "stderr",
     "output_type": "stream",
     "text": [
      "100%|██████████| 476/476 [03:23<00:00,  2.34it/s]\n"
     ]
    },
    {
     "name": "stdout",
     "output_type": "stream",
     "text": [
      "{'val_loss': 1.3095441241309327, 'val_accuracy': 0.6485207100591716, 'precision': 0.6373427643718925, 'recall': 0.6485207100591716, 'f1-score': 0.6278113805071196, 'macro_f1-score': 0.28663471591256795, 'balanced_accuracy': 0.3100881352000279, 'mcc': 0.5419490868366923}\n",
      "Epoch 5/20\n"
     ]
    },
    {
     "name": "stderr",
     "output_type": "stream",
     "text": [
      "100%|██████████| 476/476 [03:23<00:00,  2.34it/s]\n"
     ]
    },
    {
     "name": "stdout",
     "output_type": "stream",
     "text": [
      "{'val_loss': 1.3585251372940135, 'val_accuracy': 0.6757396449704142, 'precision': 0.6654166019277131, 'recall': 0.6757396449704142, 'f1-score': 0.6558074211861399, 'macro_f1-score': 0.34303203159254664, 'balanced_accuracy': 0.35522303801151145, 'mcc': 0.5668793302709748}\n",
      "Epoch 6/20\n"
     ]
    },
    {
     "name": "stderr",
     "output_type": "stream",
     "text": [
      "100%|██████████| 476/476 [03:23<00:00,  2.34it/s]\n"
     ]
    },
    {
     "name": "stdout",
     "output_type": "stream",
     "text": [
      "{'val_loss': 1.4697406359438627, 'val_accuracy': 0.6603550295857988, 'precision': 0.6473955148752254, 'recall': 0.6603550295857988, 'f1-score': 0.636686497827473, 'macro_f1-score': 0.326323461486589, 'balanced_accuracy': 0.3313752722468303, 'mcc': 0.5437266116111102}\n",
      "Epoch 7/20\n"
     ]
    },
    {
     "name": "stderr",
     "output_type": "stream",
     "text": [
      "100%|██████████| 476/476 [03:23<00:00,  2.34it/s]\n"
     ]
    },
    {
     "name": "stdout",
     "output_type": "stream",
     "text": [
      "{'val_loss': 1.5205234269488532, 'val_accuracy': 0.6532544378698225, 'precision': 0.637872035507754, 'recall': 0.6532544378698225, 'f1-score': 0.6353285552563152, 'macro_f1-score': 0.3242769823355293, 'balanced_accuracy': 0.324339320878398, 'mcc': 0.5387703904143558}\n",
      "Epoch 8/20\n"
     ]
    },
    {
     "name": "stderr",
     "output_type": "stream",
     "text": [
      "100%|██████████| 476/476 [03:23<00:00,  2.34it/s]\n"
     ]
    },
    {
     "name": "stdout",
     "output_type": "stream",
     "text": [
      "{'val_loss': 1.4920495579827506, 'val_accuracy': 0.6745562130177515, 'precision': 0.6526913734382563, 'recall': 0.6745562130177515, 'f1-score': 0.6497565407642416, 'macro_f1-score': 0.34552223398684406, 'balanced_accuracy': 0.34403286158151686, 'mcc': 0.5625761668893469}\n",
      "Epoch 9/20\n"
     ]
    },
    {
     "name": "stderr",
     "output_type": "stream",
     "text": [
      "100%|██████████| 476/476 [03:23<00:00,  2.34it/s]\n"
     ]
    },
    {
     "name": "stdout",
     "output_type": "stream",
     "text": [
      "{'val_loss': 1.5838336120798904, 'val_accuracy': 0.6792899408284023, 'precision': 0.678151537786063, 'recall': 0.6792899408284023, 'f1-score': 0.6479941310551034, 'macro_f1-score': 0.33398046304775797, 'balanced_accuracy': 0.33218783266711877, 'mcc': 0.5662279364533948}\n",
      "Epoch 10/20\n"
     ]
    },
    {
     "name": "stderr",
     "output_type": "stream",
     "text": [
      "100%|██████████| 476/476 [03:23<00:00,  2.34it/s]\n"
     ]
    },
    {
     "name": "stdout",
     "output_type": "stream",
     "text": [
      "{'val_loss': 1.6645994085185933, 'val_accuracy': 0.650887573964497, 'precision': 0.6650678013004566, 'recall': 0.650887573964497, 'f1-score': 0.6410504293550566, 'macro_f1-score': 0.3511172606759465, 'balanced_accuracy': 0.3605527352322472, 'mcc': 0.5402393621526077}\n",
      "Epoch 11/20\n"
     ]
    },
    {
     "name": "stderr",
     "output_type": "stream",
     "text": [
      "100%|██████████| 476/476 [03:23<00:00,  2.34it/s]\n"
     ]
    },
    {
     "name": "stdout",
     "output_type": "stream",
     "text": [
      "{'val_loss': 1.7085627598582573, 'val_accuracy': 0.650887573964497, 'precision': 0.6251357010639859, 'recall': 0.650887573964497, 'f1-score': 0.6252011312241522, 'macro_f1-score': 0.3084313719691281, 'balanced_accuracy': 0.31411004926502145, 'mcc': 0.5331050203759258}\n",
      "Epoch 12/20\n"
     ]
    },
    {
     "name": "stderr",
     "output_type": "stream",
     "text": [
      "100%|██████████| 476/476 [03:23<00:00,  2.34it/s]\n"
     ]
    },
    {
     "name": "stdout",
     "output_type": "stream",
     "text": [
      "{'val_loss': 1.680855246085041, 'val_accuracy': 0.659171597633136, 'precision': 0.6446255904371642, 'recall': 0.659171597633136, 'f1-score': 0.6312678987550967, 'macro_f1-score': 0.3515555397225539, 'balanced_accuracy': 0.35261102344661344, 'mcc': 0.5418365574716154}\n",
      "Epoch 13/20\n"
     ]
    },
    {
     "name": "stderr",
     "output_type": "stream",
     "text": [
      "100%|██████████| 476/476 [03:23<00:00,  2.34it/s]\n"
     ]
    },
    {
     "name": "stdout",
     "output_type": "stream",
     "text": [
      "{'val_loss': 1.6228182760049712, 'val_accuracy': 0.6650887573964497, 'precision': 0.6680113584657675, 'recall': 0.6650887573964497, 'f1-score': 0.652153610017022, 'macro_f1-score': 0.3884627894553763, 'balanced_accuracy': 0.37941979245538243, 'mcc': 0.5563212088951685}\n",
      "Epoch 14/20\n"
     ]
    },
    {
     "name": "stderr",
     "output_type": "stream",
     "text": [
      "100%|██████████| 476/476 [03:23<00:00,  2.34it/s]\n"
     ]
    },
    {
     "name": "stdout",
     "output_type": "stream",
     "text": [
      "{'val_loss': 1.7885105941655501, 'val_accuracy': 0.6710059171597633, 'precision': 0.6500140048524913, 'recall': 0.6710059171597633, 'f1-score': 0.6338866029886113, 'macro_f1-score': 0.3509707705998392, 'balanced_accuracy': 0.3305157005451126, 'mcc': 0.5491395131277887}\n",
      "Epoch 15/20\n"
     ]
    },
    {
     "name": "stderr",
     "output_type": "stream",
     "text": [
      "100%|██████████| 476/476 [03:23<00:00,  2.34it/s]\n"
     ]
    },
    {
     "name": "stdout",
     "output_type": "stream",
     "text": [
      "{'val_loss': 1.7505693379438148, 'val_accuracy': 0.6710059171597633, 'precision': 0.6673308382865615, 'recall': 0.6710059171597633, 'f1-score': 0.6445137539054612, 'macro_f1-score': 0.34706611501302925, 'balanced_accuracy': 0.3474012555398549, 'mcc': 0.5559917016455451}\n",
      "Epoch 16/20\n"
     ]
    },
    {
     "name": "stderr",
     "output_type": "stream",
     "text": [
      "100%|██████████| 476/476 [03:23<00:00,  2.34it/s]\n"
     ]
    },
    {
     "name": "stdout",
     "output_type": "stream",
     "text": [
      "{'val_loss': 1.8147422834387366, 'val_accuracy': 0.6579881656804734, 'precision': 0.6606746646023647, 'recall': 0.6579881656804734, 'f1-score': 0.6304554007966146, 'macro_f1-score': 0.3117938508937591, 'balanced_accuracy': 0.3132939272959031, 'mcc': 0.5412766664746618}\n",
      "Early stopping triggered at epoch 16\n",
      "Fold 6\n",
      "Training set label distribution: {0: 3577, 1: 28, 2: 126, 3: 27, 4: 231, 5: 131, 6: 106, 7: 35, 8: 77, 9: 73, 10: 79, 11: 193, 12: 217, 13: 33, 14: 26, 15: 28, 16: 22, 17: 260, 18: 105, 19: 50, 20: 16, 21: 40, 22: 87, 23: 180, 24: 18, 25: 57, 26: 96, 27: 55, 28: 14, 29: 14, 30: 17, 31: 90, 32: 41, 33: 36, 34: 33, 35: 14, 36: 31, 37: 24, 38: 6, 39: 116, 40: 13, 41: 10, 42: 165, 43: 18, 44: 23, 45: 10, 46: 61, 47: 595, 48: 227, 49: 78}\n",
      "Validation set label distribution: {0: 397, 1: 3, 2: 14, 3: 3, 4: 26, 5: 14, 6: 12, 7: 4, 8: 8, 9: 8, 10: 9, 11: 22, 12: 24, 13: 3, 14: 3, 15: 3, 16: 3, 17: 29, 18: 11, 19: 6, 20: 2, 21: 4, 22: 10, 23: 20, 24: 2, 25: 6, 26: 11, 27: 6, 28: 1, 29: 2, 30: 2, 31: 10, 32: 4, 33: 4, 34: 4, 35: 1, 36: 4, 37: 3, 38: 1, 39: 13, 40: 1, 41: 1, 42: 19, 43: 2, 44: 2, 45: 1, 46: 7, 47: 66, 48: 25, 49: 9}\n"
     ]
    },
    {
     "name": "stderr",
     "output_type": "stream",
     "text": [
      "Some weights of BertForSequenceClassification were not initialized from the model checkpoint at bert-base-uncased and are newly initialized: ['classifier.bias', 'classifier.weight']\n",
      "You should probably TRAIN this model on a down-stream task to be able to use it for predictions and inference.\n"
     ]
    },
    {
     "name": "stdout",
     "output_type": "stream",
     "text": [
      "Epoch 1/20\n"
     ]
    },
    {
     "name": "stderr",
     "output_type": "stream",
     "text": [
      "100%|██████████| 476/476 [03:23<00:00,  2.34it/s]\n"
     ]
    },
    {
     "name": "stdout",
     "output_type": "stream",
     "text": [
      "{'val_loss': 1.5250779738966025, 'val_accuracy': 0.6189349112426036, 'precision': 0.4707612148778302, 'recall': 0.6189349112426036, 'f1-score': 0.5158318012399525, 'macro_f1-score': 0.1019933719361508, 'balanced_accuracy': 0.11896908314157464, 'mcc': 0.45990583198398577}\n",
      "Epoch 2/20\n"
     ]
    },
    {
     "name": "stderr",
     "output_type": "stream",
     "text": [
      "100%|██████████| 476/476 [03:23<00:00,  2.34it/s]\n"
     ]
    },
    {
     "name": "stdout",
     "output_type": "stream",
     "text": [
      "{'val_loss': 1.3238973848099977, 'val_accuracy': 0.6473372781065089, 'precision': 0.607391935696, 'recall': 0.6473372781065089, 'f1-score': 0.5851019813436046, 'macro_f1-score': 0.18723161096542235, 'balanced_accuracy': 0.1870051672215807, 'mcc': 0.5118528235593351}\n",
      "Epoch 3/20\n"
     ]
    },
    {
     "name": "stderr",
     "output_type": "stream",
     "text": [
      "100%|██████████| 476/476 [03:23<00:00,  2.34it/s]\n"
     ]
    },
    {
     "name": "stdout",
     "output_type": "stream",
     "text": [
      "{'val_loss': 1.2132962346076965, 'val_accuracy': 0.6532544378698225, 'precision': 0.6499454721641306, 'recall': 0.6532544378698225, 'f1-score': 0.6297697906139378, 'macro_f1-score': 0.2392013968797799, 'balanced_accuracy': 0.25797349550044263, 'mcc': 0.542025508931264}\n",
      "Epoch 4/20\n"
     ]
    },
    {
     "name": "stderr",
     "output_type": "stream",
     "text": [
      "100%|██████████| 476/476 [03:23<00:00,  2.34it/s]\n"
     ]
    },
    {
     "name": "stdout",
     "output_type": "stream",
     "text": [
      "{'val_loss': 1.2080037948095574, 'val_accuracy': 0.6781065088757396, 'precision': 0.6396707485182251, 'recall': 0.6781065088757396, 'f1-score': 0.6514019856888853, 'macro_f1-score': 0.3043656055671683, 'balanced_accuracy': 0.3051300294481929, 'mcc': 0.5703632605672729}\n",
      "Epoch 5/20\n"
     ]
    },
    {
     "name": "stderr",
     "output_type": "stream",
     "text": [
      "100%|██████████| 476/476 [03:23<00:00,  2.34it/s]\n"
     ]
    },
    {
     "name": "stdout",
     "output_type": "stream",
     "text": [
      "{'val_loss': 1.3324766755104065, 'val_accuracy': 0.6627218934911243, 'precision': 0.6657094805226342, 'recall': 0.6627218934911243, 'f1-score': 0.6535965769737586, 'macro_f1-score': 0.33427186542521964, 'balanced_accuracy': 0.35715527668905717, 'mcc': 0.5656842931126901}\n",
      "Epoch 6/20\n"
     ]
    },
    {
     "name": "stderr",
     "output_type": "stream",
     "text": [
      "100%|██████████| 476/476 [03:23<00:00,  2.34it/s]\n"
     ]
    },
    {
     "name": "stdout",
     "output_type": "stream",
     "text": [
      "{'val_loss': 1.322916734612213, 'val_accuracy': 0.6970414201183432, 'precision': 0.6837606568297936, 'recall': 0.6970414201183432, 'f1-score': 0.6751135593196248, 'macro_f1-score': 0.3611075838941844, 'balanced_accuracy': 0.3501402752834823, 'mcc': 0.5961763598043377}\n",
      "Epoch 7/20\n"
     ]
    },
    {
     "name": "stderr",
     "output_type": "stream",
     "text": [
      "100%|██████████| 476/476 [03:23<00:00,  2.34it/s]\n"
     ]
    },
    {
     "name": "stdout",
     "output_type": "stream",
     "text": [
      "{'val_loss': 1.40547643292625, 'val_accuracy': 0.6710059171597633, 'precision': 0.6633712961176021, 'recall': 0.6710059171597633, 'f1-score': 0.6526355211501813, 'macro_f1-score': 0.3127433229631398, 'balanced_accuracy': 0.3206418388920183, 'mcc': 0.5645551489408217}\n",
      "Epoch 8/20\n"
     ]
    },
    {
     "name": "stderr",
     "output_type": "stream",
     "text": [
      "100%|██████████| 476/476 [03:23<00:00,  2.34it/s]\n"
     ]
    },
    {
     "name": "stdout",
     "output_type": "stream",
     "text": [
      "{'val_loss': 1.4705477736468584, 'val_accuracy': 0.6745562130177515, 'precision': 0.6906262267836288, 'recall': 0.6745562130177515, 'f1-score': 0.6584890663742073, 'macro_f1-score': 0.3642966888160668, 'balanced_accuracy': 0.36622501238546074, 'mcc': 0.5658372714272791}\n",
      "Epoch 9/20\n"
     ]
    },
    {
     "name": "stderr",
     "output_type": "stream",
     "text": [
      "100%|██████████| 476/476 [03:23<00:00,  2.34it/s]\n"
     ]
    },
    {
     "name": "stdout",
     "output_type": "stream",
     "text": [
      "{'val_loss': 1.4851673773999483, 'val_accuracy': 0.6816568047337278, 'precision': 0.6956597322540147, 'recall': 0.6816568047337278, 'f1-score': 0.67836348299204, 'macro_f1-score': 0.3928618805141811, 'balanced_accuracy': 0.41624602782238396, 'mcc': 0.5906718905796828}\n",
      "Epoch 10/20\n"
     ]
    },
    {
     "name": "stderr",
     "output_type": "stream",
     "text": [
      "100%|██████████| 476/476 [03:23<00:00,  2.34it/s]\n"
     ]
    },
    {
     "name": "stdout",
     "output_type": "stream",
     "text": [
      "{'val_loss': 1.6248471121180732, 'val_accuracy': 0.6579881656804734, 'precision': 0.6912559417299373, 'recall': 0.6579881656804734, 'f1-score': 0.655816125686055, 'macro_f1-score': 0.37308119128836137, 'balanced_accuracy': 0.3856093015359967, 'mcc': 0.5502975608951318}\n",
      "Epoch 11/20\n"
     ]
    },
    {
     "name": "stderr",
     "output_type": "stream",
     "text": [
      "100%|██████████| 476/476 [03:23<00:00,  2.34it/s]\n"
     ]
    },
    {
     "name": "stdout",
     "output_type": "stream",
     "text": [
      "{'val_loss': 1.4776456732794923, 'val_accuracy': 0.6946745562130178, 'precision': 0.6846414633223116, 'recall': 0.6946745562130178, 'f1-score': 0.6803296270050533, 'macro_f1-score': 0.3926790733155724, 'balanced_accuracy': 0.3958542607122423, 'mcc': 0.5952313419407965}\n",
      "Epoch 12/20\n"
     ]
    },
    {
     "name": "stderr",
     "output_type": "stream",
     "text": [
      "100%|██████████| 476/476 [03:23<00:00,  2.34it/s]\n"
     ]
    },
    {
     "name": "stdout",
     "output_type": "stream",
     "text": [
      "{'val_loss': 1.5927313386269335, 'val_accuracy': 0.6698224852071006, 'precision': 0.6844697385140003, 'recall': 0.6698224852071006, 'f1-score': 0.6627704033507762, 'macro_f1-score': 0.3555229449070258, 'balanced_accuracy': 0.37230846886918195, 'mcc': 0.5744651225980458}\n",
      "Early stopping triggered at epoch 12\n",
      "Fold 7\n",
      "Training set label distribution: {0: 3577, 1: 28, 2: 126, 3: 27, 4: 232, 5: 130, 6: 106, 7: 35, 8: 77, 9: 73, 10: 79, 11: 193, 12: 217, 13: 33, 14: 26, 15: 28, 16: 22, 17: 260, 18: 105, 19: 50, 20: 16, 21: 40, 22: 87, 23: 180, 24: 18, 25: 57, 26: 96, 27: 55, 28: 14, 29: 14, 30: 17, 31: 90, 32: 41, 33: 36, 34: 33, 35: 14, 36: 31, 37: 25, 38: 6, 39: 116, 40: 12, 41: 10, 42: 165, 43: 18, 44: 23, 45: 10, 46: 62, 47: 594, 48: 227, 49: 78}\n",
      "Validation set label distribution: {0: 397, 1: 3, 2: 14, 3: 3, 4: 25, 5: 15, 6: 12, 7: 4, 8: 8, 9: 8, 10: 9, 11: 22, 12: 24, 13: 3, 14: 3, 15: 3, 16: 3, 17: 29, 18: 11, 19: 6, 20: 2, 21: 4, 22: 10, 23: 20, 24: 2, 25: 6, 26: 11, 27: 6, 28: 1, 29: 2, 30: 2, 31: 10, 32: 4, 33: 4, 34: 4, 35: 1, 36: 4, 37: 2, 38: 1, 39: 13, 40: 2, 41: 1, 42: 19, 43: 2, 44: 2, 45: 1, 46: 6, 47: 67, 48: 25, 49: 9}\n"
     ]
    },
    {
     "name": "stderr",
     "output_type": "stream",
     "text": [
      "Some weights of BertForSequenceClassification were not initialized from the model checkpoint at bert-base-uncased and are newly initialized: ['classifier.bias', 'classifier.weight']\n",
      "You should probably TRAIN this model on a down-stream task to be able to use it for predictions and inference.\n"
     ]
    },
    {
     "name": "stdout",
     "output_type": "stream",
     "text": [
      "Epoch 1/20\n"
     ]
    },
    {
     "name": "stderr",
     "output_type": "stream",
     "text": [
      "100%|██████████| 476/476 [03:22<00:00,  2.35it/s]\n"
     ]
    },
    {
     "name": "stdout",
     "output_type": "stream",
     "text": [
      "{'val_loss': 1.5553692478053975, 'val_accuracy': 0.6177514792899408, 'precision': 0.47919242386067884, 'recall': 0.6177514792899408, 'f1-score': 0.5274983499012659, 'macro_f1-score': 0.10896546163282866, 'balanced_accuracy': 0.1254326904698171, 'mcc': 0.4669840772168793}\n",
      "Epoch 2/20\n"
     ]
    },
    {
     "name": "stderr",
     "output_type": "stream",
     "text": [
      "100%|██████████| 476/476 [03:23<00:00,  2.34it/s]\n"
     ]
    },
    {
     "name": "stdout",
     "output_type": "stream",
     "text": [
      "{'val_loss': 1.3332015197232086, 'val_accuracy': 0.621301775147929, 'precision': 0.5740611768051634, 'recall': 0.621301775147929, 'f1-score': 0.5773245404163301, 'macro_f1-score': 0.18640315628744142, 'balanced_accuracy': 0.20613442802771856, 'mcc': 0.48745701589386115}\n",
      "Epoch 3/20\n"
     ]
    },
    {
     "name": "stderr",
     "output_type": "stream",
     "text": [
      "100%|██████████| 476/476 [03:23<00:00,  2.34it/s]\n"
     ]
    },
    {
     "name": "stdout",
     "output_type": "stream",
     "text": [
      "{'val_loss': 1.3271890963023563, 'val_accuracy': 0.6343195266272189, 'precision': 0.645454583319336, 'recall': 0.6343195266272189, 'f1-score': 0.6220739018867957, 'macro_f1-score': 0.24634929295753685, 'balanced_accuracy': 0.2692616093790307, 'mcc': 0.5245323013319282}\n",
      "Epoch 4/20\n"
     ]
    },
    {
     "name": "stderr",
     "output_type": "stream",
     "text": [
      "100%|██████████| 476/476 [03:22<00:00,  2.35it/s]\n"
     ]
    },
    {
     "name": "stdout",
     "output_type": "stream",
     "text": [
      "{'val_loss': 1.2553339665228467, 'val_accuracy': 0.6745562130177515, 'precision': 0.6532115498045898, 'recall': 0.6745562130177515, 'f1-score': 0.6547419167255317, 'macro_f1-score': 0.34451962171398703, 'balanced_accuracy': 0.35776703152772016, 'mcc': 0.5729736131630064}\n",
      "Epoch 5/20\n"
     ]
    },
    {
     "name": "stderr",
     "output_type": "stream",
     "text": [
      "100%|██████████| 476/476 [03:22<00:00,  2.34it/s]\n"
     ]
    },
    {
     "name": "stdout",
     "output_type": "stream",
     "text": [
      "{'val_loss': 1.3871408099273466, 'val_accuracy': 0.6615384615384615, 'precision': 0.664163602126568, 'recall': 0.6615384615384615, 'f1-score': 0.6470887944071596, 'macro_f1-score': 0.31907479544431316, 'balanced_accuracy': 0.33234254097947447, 'mcc': 0.559425245756531}\n",
      "Epoch 6/20\n"
     ]
    },
    {
     "name": "stderr",
     "output_type": "stream",
     "text": [
      "100%|██████████| 476/476 [03:22<00:00,  2.35it/s]\n"
     ]
    },
    {
     "name": "stdout",
     "output_type": "stream",
     "text": [
      "{'val_loss': 1.4354603386150215, 'val_accuracy': 0.650887573964497, 'precision': 0.6816690672447591, 'recall': 0.650887573964497, 'f1-score': 0.6433146749883679, 'macro_f1-score': 0.36405351952104575, 'balanced_accuracy': 0.37839798402361474, 'mcc': 0.5504551737981085}\n",
      "Epoch 7/20\n"
     ]
    },
    {
     "name": "stderr",
     "output_type": "stream",
     "text": [
      "100%|██████████| 476/476 [03:22<00:00,  2.35it/s]\n"
     ]
    },
    {
     "name": "stdout",
     "output_type": "stream",
     "text": [
      "{'val_loss': 1.4194075448333092, 'val_accuracy': 0.672189349112426, 'precision': 0.6886535251255558, 'recall': 0.672189349112426, 'f1-score': 0.6623762249500676, 'macro_f1-score': 0.3657310977248675, 'balanced_accuracy': 0.3759418569398815, 'mcc': 0.5695134157615286}\n",
      "Epoch 8/20\n"
     ]
    },
    {
     "name": "stderr",
     "output_type": "stream",
     "text": [
      "100%|██████████| 476/476 [03:22<00:00,  2.35it/s]\n"
     ]
    },
    {
     "name": "stdout",
     "output_type": "stream",
     "text": [
      "{'val_loss': 1.4592325361269824, 'val_accuracy': 0.6674556213017752, 'precision': 0.660214544017302, 'recall': 0.6674556213017752, 'f1-score': 0.6556813532618121, 'macro_f1-score': 0.3619502966527656, 'balanced_accuracy': 0.369542941482359, 'mcc': 0.5627015492343459}\n",
      "Epoch 9/20\n"
     ]
    },
    {
     "name": "stderr",
     "output_type": "stream",
     "text": [
      "100%|██████████| 476/476 [03:22<00:00,  2.35it/s]\n"
     ]
    },
    {
     "name": "stdout",
     "output_type": "stream",
     "text": [
      "{'val_loss': 1.5834364016663354, 'val_accuracy': 0.663905325443787, 'precision': 0.6570871198738548, 'recall': 0.663905325443787, 'f1-score': 0.6494480139659399, 'macro_f1-score': 0.35620317998047646, 'balanced_accuracy': 0.3811652032887175, 'mcc': 0.560007243438357}\n",
      "Epoch 10/20\n"
     ]
    },
    {
     "name": "stderr",
     "output_type": "stream",
     "text": [
      "100%|██████████| 476/476 [03:22<00:00,  2.35it/s]\n"
     ]
    },
    {
     "name": "stdout",
     "output_type": "stream",
     "text": [
      "{'val_loss': 1.6001132186853662, 'val_accuracy': 0.6863905325443787, 'precision': 0.6766961719031634, 'recall': 0.6863905325443787, 'f1-score': 0.6697041094059142, 'macro_f1-score': 0.3744528191897438, 'balanced_accuracy': 0.378117207873389, 'mcc': 0.5827157551887068}\n",
      "Epoch 11/20\n"
     ]
    },
    {
     "name": "stderr",
     "output_type": "stream",
     "text": [
      "100%|██████████| 476/476 [03:22<00:00,  2.35it/s]\n"
     ]
    },
    {
     "name": "stdout",
     "output_type": "stream",
     "text": [
      "{'val_loss': 1.5168007326857098, 'val_accuracy': 0.6710059171597633, 'precision': 0.6783195802660014, 'recall': 0.6710059171597633, 'f1-score': 0.6618592693495787, 'macro_f1-score': 0.3847549765600862, 'balanced_accuracy': 0.38359811093797264, 'mcc': 0.5671294176525422}\n",
      "Epoch 12/20\n"
     ]
    },
    {
     "name": "stderr",
     "output_type": "stream",
     "text": [
      "100%|██████████| 476/476 [03:22<00:00,  2.35it/s]\n"
     ]
    },
    {
     "name": "stdout",
     "output_type": "stream",
     "text": [
      "{'val_loss': 1.6934849628300037, 'val_accuracy': 0.6745562130177515, 'precision': 0.6925721359747679, 'recall': 0.6745562130177515, 'f1-score': 0.6684340255826455, 'macro_f1-score': 0.38123984643987613, 'balanced_accuracy': 0.39354662100597776, 'mcc': 0.5780912015477985}\n",
      "Epoch 13/20\n"
     ]
    },
    {
     "name": "stderr",
     "output_type": "stream",
     "text": [
      "100%|██████████| 476/476 [03:22<00:00,  2.35it/s]\n"
     ]
    },
    {
     "name": "stdout",
     "output_type": "stream",
     "text": [
      "{'val_loss': 1.6038575970901634, 'val_accuracy': 0.6946745562130178, 'precision': 0.6747556652809137, 'recall': 0.6946745562130178, 'f1-score': 0.6773175125453104, 'macro_f1-score': 0.4215453105782204, 'balanced_accuracy': 0.41960085106780953, 'mcc': 0.5946790212535809}\n",
      "Epoch 14/20\n"
     ]
    },
    {
     "name": "stderr",
     "output_type": "stream",
     "text": [
      "100%|██████████| 476/476 [03:22<00:00,  2.35it/s]\n"
     ]
    },
    {
     "name": "stdout",
     "output_type": "stream",
     "text": [
      "{'val_loss': 1.5979078476721387, 'val_accuracy': 0.693491124260355, 'precision': 0.6832113967009624, 'recall': 0.693491124260355, 'f1-score': 0.6774336017287301, 'macro_f1-score': 0.43225321961743324, 'balanced_accuracy': 0.41129140846901424, 'mcc': 0.5902601237475974}\n",
      "Epoch 15/20\n"
     ]
    },
    {
     "name": "stderr",
     "output_type": "stream",
     "text": [
      "100%|██████████| 476/476 [03:22<00:00,  2.35it/s]\n"
     ]
    },
    {
     "name": "stdout",
     "output_type": "stream",
     "text": [
      "{'val_loss': 1.706828959145636, 'val_accuracy': 0.6863905325443787, 'precision': 0.6958849807288687, 'recall': 0.6863905325443787, 'f1-score': 0.6785275513272081, 'macro_f1-score': 0.4220641312396907, 'balanced_accuracy': 0.42566623593936875, 'mcc': 0.5926991809043095}\n",
      "Epoch 16/20\n"
     ]
    },
    {
     "name": "stderr",
     "output_type": "stream",
     "text": [
      "100%|██████████| 476/476 [03:22<00:00,  2.35it/s]\n"
     ]
    },
    {
     "name": "stdout",
     "output_type": "stream",
     "text": [
      "{'val_loss': 1.607954056757801, 'val_accuracy': 0.6911242603550296, 'precision': 0.6786873593193801, 'recall': 0.6911242603550296, 'f1-score': 0.6743702602986591, 'macro_f1-score': 0.4310733162610552, 'balanced_accuracy': 0.4482162378770582, 'mcc': 0.5927114466702278}\n",
      "Epoch 17/20\n"
     ]
    },
    {
     "name": "stderr",
     "output_type": "stream",
     "text": [
      "100%|██████████| 476/476 [03:22<00:00,  2.35it/s]\n"
     ]
    },
    {
     "name": "stdout",
     "output_type": "stream",
     "text": [
      "{'val_loss': 1.7818677875230897, 'val_accuracy': 0.6792899408284023, 'precision': 0.6917546125573036, 'recall': 0.6792899408284023, 'f1-score': 0.6713190867394061, 'macro_f1-score': 0.3905924098114242, 'balanced_accuracy': 0.4271516010081091, 'mcc': 0.584847925924154}\n",
      "Early stopping triggered at epoch 17\n",
      "Fold 8\n",
      "Training set label distribution: {0: 3577, 1: 28, 2: 126, 3: 27, 4: 232, 5: 130, 6: 106, 7: 35, 8: 77, 9: 73, 10: 79, 11: 194, 12: 216, 13: 33, 14: 26, 15: 28, 16: 22, 17: 260, 18: 105, 19: 50, 20: 16, 21: 40, 22: 87, 23: 180, 24: 18, 25: 57, 26: 96, 27: 55, 28: 13, 29: 14, 30: 18, 31: 90, 32: 40, 33: 36, 34: 33, 35: 14, 36: 31, 37: 25, 38: 6, 39: 116, 40: 12, 41: 10, 42: 165, 43: 18, 44: 23, 45: 10, 46: 62, 47: 595, 48: 226, 49: 79}\n",
      "Validation set label distribution: {0: 397, 1: 3, 2: 14, 3: 3, 4: 25, 5: 15, 6: 12, 7: 4, 8: 8, 9: 8, 10: 9, 11: 21, 12: 25, 13: 3, 14: 3, 15: 3, 16: 3, 17: 29, 18: 11, 19: 6, 20: 2, 21: 4, 22: 10, 23: 20, 24: 2, 25: 6, 26: 11, 27: 6, 28: 2, 29: 2, 30: 1, 31: 10, 32: 5, 33: 4, 34: 4, 35: 1, 36: 4, 37: 2, 38: 1, 39: 13, 40: 2, 41: 1, 42: 19, 43: 2, 44: 2, 45: 1, 46: 6, 47: 66, 48: 26, 49: 8}\n"
     ]
    },
    {
     "name": "stderr",
     "output_type": "stream",
     "text": [
      "Some weights of BertForSequenceClassification were not initialized from the model checkpoint at bert-base-uncased and are newly initialized: ['classifier.bias', 'classifier.weight']\n",
      "You should probably TRAIN this model on a down-stream task to be able to use it for predictions and inference.\n"
     ]
    },
    {
     "name": "stdout",
     "output_type": "stream",
     "text": [
      "Epoch 1/20\n"
     ]
    },
    {
     "name": "stderr",
     "output_type": "stream",
     "text": [
      "100%|██████████| 476/476 [03:23<00:00,  2.34it/s]\n"
     ]
    },
    {
     "name": "stdout",
     "output_type": "stream",
     "text": [
      "{'val_loss': 1.4912095373531558, 'val_accuracy': 0.6189349112426036, 'precision': 0.4904112988783452, 'recall': 0.6189349112426036, 'f1-score': 0.5119087813906368, 'macro_f1-score': 0.10546398832440311, 'balanced_accuracy': 0.11408372703922906, 'mcc': 0.4550309977556325}\n",
      "Epoch 2/20\n"
     ]
    },
    {
     "name": "stderr",
     "output_type": "stream",
     "text": [
      "100%|██████████| 476/476 [03:23<00:00,  2.34it/s]\n"
     ]
    },
    {
     "name": "stdout",
     "output_type": "stream",
     "text": [
      "{'val_loss': 1.2731913479993928, 'val_accuracy': 0.6603550295857988, 'precision': 0.5692634882863887, 'recall': 0.6603550295857988, 'f1-score': 0.5946798498525668, 'macro_f1-score': 0.19108193154443817, 'balanced_accuracy': 0.1845654993692791, 'mcc': 0.5291014981863601}\n",
      "Epoch 3/20\n"
     ]
    },
    {
     "name": "stderr",
     "output_type": "stream",
     "text": [
      "100%|██████████| 476/476 [03:23<00:00,  2.34it/s]\n"
     ]
    },
    {
     "name": "stdout",
     "output_type": "stream",
     "text": [
      "{'val_loss': 1.2452248160569173, 'val_accuracy': 0.6579881656804734, 'precision': 0.6108446847442461, 'recall': 0.6579881656804734, 'f1-score': 0.622492578536156, 'macro_f1-score': 0.25973095071848706, 'balanced_accuracy': 0.2596167419693882, 'mcc': 0.5404902415281708}\n",
      "Epoch 4/20\n"
     ]
    },
    {
     "name": "stderr",
     "output_type": "stream",
     "text": [
      "100%|██████████| 476/476 [03:22<00:00,  2.35it/s]\n"
     ]
    },
    {
     "name": "stdout",
     "output_type": "stream",
     "text": [
      "{'val_loss': 1.245740052664055, 'val_accuracy': 0.659171597633136, 'precision': 0.6590742396207828, 'recall': 0.659171597633136, 'f1-score': 0.6510873737544325, 'macro_f1-score': 0.3585610846086487, 'balanced_accuracy': 0.36326245473158664, 'mcc': 0.5555669469692306}\n",
      "Epoch 5/20\n"
     ]
    },
    {
     "name": "stderr",
     "output_type": "stream",
     "text": [
      "100%|██████████| 476/476 [03:22<00:00,  2.35it/s]\n"
     ]
    },
    {
     "name": "stdout",
     "output_type": "stream",
     "text": [
      "{'val_loss': 1.3123138119589608, 'val_accuracy': 0.6911242603550296, 'precision': 0.6520038941814281, 'recall': 0.6911242603550296, 'f1-score': 0.6548580407641352, 'macro_f1-score': 0.34643643036310157, 'balanced_accuracy': 0.32116668614074245, 'mcc': 0.5776386347386633}\n",
      "Epoch 6/20\n"
     ]
    },
    {
     "name": "stderr",
     "output_type": "stream",
     "text": [
      "100%|██████████| 476/476 [03:22<00:00,  2.34it/s]\n"
     ]
    },
    {
     "name": "stdout",
     "output_type": "stream",
     "text": [
      "{'val_loss': 1.3490319162044886, 'val_accuracy': 0.672189349112426, 'precision': 0.674907748806953, 'recall': 0.672189349112426, 'f1-score': 0.6611799085481591, 'macro_f1-score': 0.38194501960198773, 'balanced_accuracy': 0.4029665159849053, 'mcc': 0.5750870096448253}\n",
      "Epoch 7/20\n"
     ]
    },
    {
     "name": "stderr",
     "output_type": "stream",
     "text": [
      "100%|██████████| 476/476 [03:22<00:00,  2.35it/s]\n"
     ]
    },
    {
     "name": "stdout",
     "output_type": "stream",
     "text": [
      "{'val_loss': 1.4041055665825897, 'val_accuracy': 0.6698224852071006, 'precision': 0.6703359482619634, 'recall': 0.6698224852071006, 'f1-score': 0.654235492961159, 'macro_f1-score': 0.38121059448159217, 'balanced_accuracy': 0.3720685685837226, 'mcc': 0.5654345176644152}\n",
      "Epoch 8/20\n"
     ]
    },
    {
     "name": "stderr",
     "output_type": "stream",
     "text": [
      "100%|██████████| 476/476 [03:22<00:00,  2.35it/s]\n"
     ]
    },
    {
     "name": "stdout",
     "output_type": "stream",
     "text": [
      "{'val_loss': 1.545466808777935, 'val_accuracy': 0.6662721893491125, 'precision': 0.6774076846456615, 'recall': 0.6662721893491125, 'f1-score': 0.661744654246865, 'macro_f1-score': 0.4020936193043002, 'balanced_accuracy': 0.4336738881038575, 'mcc': 0.5696787807288093}\n",
      "Epoch 9/20\n"
     ]
    },
    {
     "name": "stderr",
     "output_type": "stream",
     "text": [
      "100%|██████████| 476/476 [03:22<00:00,  2.35it/s]\n"
     ]
    },
    {
     "name": "stdout",
     "output_type": "stream",
     "text": [
      "{'val_loss': 1.6094828844070435, 'val_accuracy': 0.676923076923077, 'precision': 0.675562215103674, 'recall': 0.676923076923077, 'f1-score': 0.6583130759617625, 'macro_f1-score': 0.41085151986551366, 'balanced_accuracy': 0.39587103125692685, 'mcc': 0.5685297586304444}\n",
      "Epoch 10/20\n"
     ]
    },
    {
     "name": "stderr",
     "output_type": "stream",
     "text": [
      "100%|██████████| 476/476 [03:22<00:00,  2.35it/s]\n"
     ]
    },
    {
     "name": "stdout",
     "output_type": "stream",
     "text": [
      "{'val_loss': 1.5578940589472932, 'val_accuracy': 0.6887573964497041, 'precision': 0.6824153145123758, 'recall': 0.6887573964497041, 'f1-score': 0.6760883854363646, 'macro_f1-score': 0.4215541416513371, 'balanced_accuracy': 0.40794317435858024, 'mcc': 0.5871182097140438}\n",
      "Epoch 11/20\n"
     ]
    },
    {
     "name": "stderr",
     "output_type": "stream",
     "text": [
      "100%|██████████| 476/476 [03:22<00:00,  2.35it/s]\n"
     ]
    },
    {
     "name": "stdout",
     "output_type": "stream",
     "text": [
      "{'val_loss': 1.556332088866324, 'val_accuracy': 0.6923076923076923, 'precision': 0.6869624738366261, 'recall': 0.6923076923076923, 'f1-score': 0.6743990926719347, 'macro_f1-score': 0.39949926562664145, 'balanced_accuracy': 0.3850644885754666, 'mcc': 0.5920303740440807}\n",
      "Epoch 12/20\n"
     ]
    },
    {
     "name": "stderr",
     "output_type": "stream",
     "text": [
      "100%|██████████| 476/476 [03:23<00:00,  2.34it/s]\n"
     ]
    },
    {
     "name": "stdout",
     "output_type": "stream",
     "text": [
      "{'val_loss': 1.631917288843191, 'val_accuracy': 0.6757396449704142, 'precision': 0.6897034634467486, 'recall': 0.6757396449704142, 'f1-score': 0.6724695094655294, 'macro_f1-score': 0.4021641984447435, 'balanced_accuracy': 0.41257325671291717, 'mcc': 0.5816052020575113}\n",
      "Epoch 13/20\n"
     ]
    },
    {
     "name": "stderr",
     "output_type": "stream",
     "text": [
      "100%|██████████| 476/476 [03:22<00:00,  2.35it/s]\n"
     ]
    },
    {
     "name": "stdout",
     "output_type": "stream",
     "text": [
      "{'val_loss': 1.5602293048264846, 'val_accuracy': 0.6923076923076923, 'precision': 0.6937185818883729, 'recall': 0.6923076923076923, 'f1-score': 0.6832647552468728, 'macro_f1-score': 0.43708846813899677, 'balanced_accuracy': 0.4289878895944396, 'mcc': 0.5940677667156007}\n",
      "Epoch 14/20\n"
     ]
    },
    {
     "name": "stderr",
     "output_type": "stream",
     "text": [
      "100%|██████████| 476/476 [03:22<00:00,  2.35it/s]\n"
     ]
    },
    {
     "name": "stdout",
     "output_type": "stream",
     "text": [
      "{'val_loss': 1.6741483520786717, 'val_accuracy': 0.6982248520710059, 'precision': 0.702706602087841, 'recall': 0.6982248520710059, 'f1-score': 0.6914234172244886, 'macro_f1-score': 0.45269652182915254, 'balanced_accuracy': 0.4419644779785783, 'mcc': 0.6012118048546554}\n",
      "Epoch 15/20\n"
     ]
    },
    {
     "name": "stderr",
     "output_type": "stream",
     "text": [
      "100%|██████████| 476/476 [03:22<00:00,  2.35it/s]\n"
     ]
    },
    {
     "name": "stdout",
     "output_type": "stream",
     "text": [
      "{'val_loss': 1.581990750893107, 'val_accuracy': 0.6863905325443787, 'precision': 0.6889602697836618, 'recall': 0.6863905325443787, 'f1-score': 0.6737038628914847, 'macro_f1-score': 0.42496059506995, 'balanced_accuracy': 0.42896638113692426, 'mcc': 0.5857475366087667}\n",
      "Epoch 16/20\n"
     ]
    },
    {
     "name": "stderr",
     "output_type": "stream",
     "text": [
      "100%|██████████| 476/476 [03:22<00:00,  2.34it/s]\n"
     ]
    },
    {
     "name": "stdout",
     "output_type": "stream",
     "text": [
      "{'val_loss': 1.7591006575890307, 'val_accuracy': 0.6958579881656805, 'precision': 0.697125105264635, 'recall': 0.6958579881656805, 'f1-score': 0.684132297893389, 'macro_f1-score': 0.44505157879153256, 'balanced_accuracy': 0.4183640587373593, 'mcc': 0.5951830543413309}\n",
      "Epoch 17/20\n"
     ]
    },
    {
     "name": "stderr",
     "output_type": "stream",
     "text": [
      "100%|██████████| 476/476 [03:22<00:00,  2.35it/s]\n"
     ]
    },
    {
     "name": "stdout",
     "output_type": "stream",
     "text": [
      "{'val_loss': 1.729449655087489, 'val_accuracy': 0.6911242603550296, 'precision': 0.7005883059408149, 'recall': 0.6911242603550296, 'f1-score': 0.6809117354480787, 'macro_f1-score': 0.444123002634134, 'balanced_accuracy': 0.4348541578482593, 'mcc': 0.5941161631363759}\n",
      "Early stopping triggered at epoch 17\n",
      "Fold 9\n",
      "Training set label distribution: {0: 3577, 1: 28, 2: 126, 3: 27, 4: 232, 5: 130, 6: 106, 7: 36, 8: 76, 9: 73, 10: 79, 11: 194, 12: 217, 13: 32, 14: 26, 15: 28, 16: 22, 17: 261, 18: 104, 19: 50, 20: 17, 21: 39, 22: 87, 23: 180, 24: 18, 25: 57, 26: 96, 27: 55, 28: 13, 29: 15, 30: 17, 31: 90, 32: 40, 33: 36, 34: 33, 35: 14, 36: 31, 37: 25, 38: 7, 39: 116, 40: 12, 41: 10, 42: 166, 43: 18, 44: 22, 45: 10, 46: 61, 47: 595, 48: 226, 49: 79}\n",
      "Validation set label distribution: {0: 397, 1: 3, 2: 14, 3: 3, 4: 25, 5: 15, 6: 12, 7: 3, 8: 9, 9: 8, 10: 9, 11: 21, 12: 24, 13: 4, 14: 3, 15: 3, 16: 3, 17: 28, 18: 12, 19: 6, 20: 1, 21: 5, 22: 10, 23: 20, 24: 2, 25: 6, 26: 11, 27: 6, 28: 2, 29: 1, 30: 2, 31: 10, 32: 5, 33: 4, 34: 4, 35: 1, 36: 4, 37: 2, 39: 13, 40: 2, 41: 1, 42: 18, 43: 2, 44: 3, 45: 1, 46: 7, 47: 66, 48: 26, 49: 8}\n"
     ]
    },
    {
     "name": "stderr",
     "output_type": "stream",
     "text": [
      "Some weights of BertForSequenceClassification were not initialized from the model checkpoint at bert-base-uncased and are newly initialized: ['classifier.bias', 'classifier.weight']\n",
      "You should probably TRAIN this model on a down-stream task to be able to use it for predictions and inference.\n"
     ]
    },
    {
     "name": "stdout",
     "output_type": "stream",
     "text": [
      "Epoch 1/20\n"
     ]
    },
    {
     "name": "stderr",
     "output_type": "stream",
     "text": [
      "100%|██████████| 476/476 [03:22<00:00,  2.35it/s]\n"
     ]
    },
    {
     "name": "stdout",
     "output_type": "stream",
     "text": [
      "{'val_loss': 1.5835882346585113, 'val_accuracy': 0.6106508875739645, 'precision': 0.515301589509007, 'recall': 0.6106508875739645, 'f1-score': 0.5218975059544685, 'macro_f1-score': 0.12293051628744932, 'balanced_accuracy': 0.13844074187491656, 'mcc': 0.45321604974746377}\n",
      "Epoch 2/20\n"
     ]
    },
    {
     "name": "stderr",
     "output_type": "stream",
     "text": [
      "100%|██████████| 476/476 [03:22<00:00,  2.35it/s]\n"
     ]
    },
    {
     "name": "stdout",
     "output_type": "stream",
     "text": [
      "{'val_loss': 1.338249976904887, 'val_accuracy': 0.6260355029585799, 'precision': 0.5932495993706042, 'recall': 0.6260355029585799, 'f1-score': 0.5803673101187031, 'macro_f1-score': 0.2080717775843022, 'balanced_accuracy': 0.2289264892991824, 'mcc': 0.492881533627611}\n",
      "Epoch 3/20\n"
     ]
    },
    {
     "name": "stderr",
     "output_type": "stream",
     "text": [
      "100%|██████████| 476/476 [03:22<00:00,  2.35it/s]\n"
     ]
    },
    {
     "name": "stdout",
     "output_type": "stream",
     "text": [
      "{'val_loss': 1.2532313246771973, 'val_accuracy': 0.6674556213017752, 'precision': 0.6223978577461886, 'recall': 0.6674556213017752, 'f1-score': 0.6326691432618979, 'macro_f1-score': 0.26600386127982023, 'balanced_accuracy': 0.27868255381646634, 'mcc': 0.5580828537956785}\n",
      "Epoch 4/20\n"
     ]
    },
    {
     "name": "stderr",
     "output_type": "stream",
     "text": [
      "100%|██████████| 476/476 [03:22<00:00,  2.35it/s]\n"
     ]
    },
    {
     "name": "stdout",
     "output_type": "stream",
     "text": [
      "{'val_loss': 1.2200662145074808, 'val_accuracy': 0.6816568047337278, 'precision': 0.6339818551952071, 'recall': 0.6816568047337278, 'f1-score': 0.647479861724196, 'macro_f1-score': 0.2968478960258699, 'balanced_accuracy': 0.2865859447988168, 'mcc': 0.5655951976293323}\n",
      "Epoch 5/20\n"
     ]
    },
    {
     "name": "stderr",
     "output_type": "stream",
     "text": [
      "100%|██████████| 476/476 [03:22<00:00,  2.35it/s]\n"
     ]
    },
    {
     "name": "stdout",
     "output_type": "stream",
     "text": [
      "{'val_loss': 1.2734461730381228, 'val_accuracy': 0.6946745562130178, 'precision': 0.6775634537779381, 'recall': 0.6946745562130178, 'f1-score': 0.6665554697334749, 'macro_f1-score': 0.32248566269179474, 'balanced_accuracy': 0.29988812226744677, 'mcc': 0.5878514745653198}\n",
      "Epoch 6/20\n"
     ]
    },
    {
     "name": "stderr",
     "output_type": "stream",
     "text": [
      "100%|██████████| 476/476 [03:22<00:00,  2.35it/s]\n"
     ]
    },
    {
     "name": "stdout",
     "output_type": "stream",
     "text": [
      "{'val_loss': 1.3956351426412474, 'val_accuracy': 0.6863905325443787, 'precision': 0.6601888042377911, 'recall': 0.6863905325443787, 'f1-score': 0.6621242342065973, 'macro_f1-score': 0.3198703618214645, 'balanced_accuracy': 0.30528911061065483, 'mcc': 0.5765343144908277}\n",
      "Epoch 7/20\n"
     ]
    },
    {
     "name": "stderr",
     "output_type": "stream",
     "text": [
      "100%|██████████| 476/476 [03:22<00:00,  2.35it/s]\n"
     ]
    },
    {
     "name": "stdout",
     "output_type": "stream",
     "text": [
      "{'val_loss': 1.4863113682225066, 'val_accuracy': 0.6627218934911243, 'precision': 0.6777318437453509, 'recall': 0.6627218934911243, 'f1-score': 0.656033923822558, 'macro_f1-score': 0.3503901651855501, 'balanced_accuracy': 0.35343901733044797, 'mcc': 0.5652361189956331}\n",
      "Epoch 8/20\n"
     ]
    },
    {
     "name": "stderr",
     "output_type": "stream",
     "text": [
      "100%|██████████| 476/476 [03:22<00:00,  2.35it/s]\n"
     ]
    },
    {
     "name": "stdout",
     "output_type": "stream",
     "text": [
      "{'val_loss': 1.430272468980753, 'val_accuracy': 0.6745562130177515, 'precision': 0.6652450439848295, 'recall': 0.6745562130177515, 'f1-score': 0.6561121948293779, 'macro_f1-score': 0.34096982182238206, 'balanced_accuracy': 0.33120087883466287, 'mcc': 0.567144443374485}\n",
      "Epoch 9/20\n"
     ]
    },
    {
     "name": "stderr",
     "output_type": "stream",
     "text": [
      "100%|██████████| 476/476 [03:22<00:00,  2.35it/s]\n"
     ]
    },
    {
     "name": "stdout",
     "output_type": "stream",
     "text": [
      "{'val_loss': 1.5164608499913845, 'val_accuracy': 0.7017751479289941, 'precision': 0.6907078070301925, 'recall': 0.7017751479289941, 'f1-score': 0.6843820405499637, 'macro_f1-score': 0.3703005745708389, 'balanced_accuracy': 0.3534974433427114, 'mcc': 0.5993728578762793}\n",
      "Epoch 10/20\n"
     ]
    },
    {
     "name": "stderr",
     "output_type": "stream",
     "text": [
      "100%|██████████| 476/476 [03:22<00:00,  2.35it/s]\n"
     ]
    },
    {
     "name": "stdout",
     "output_type": "stream",
     "text": [
      "{'val_loss': 1.466245303738792, 'val_accuracy': 0.6911242603550296, 'precision': 0.6960167478176336, 'recall': 0.6911242603550296, 'f1-score': 0.6798791725375445, 'macro_f1-score': 0.3998496393915748, 'balanced_accuracy': 0.41440309434963213, 'mcc': 0.5948357895277466}\n",
      "Epoch 11/20\n"
     ]
    },
    {
     "name": "stderr",
     "output_type": "stream",
     "text": [
      "100%|██████████| 476/476 [03:22<00:00,  2.35it/s]\n"
     ]
    },
    {
     "name": "stdout",
     "output_type": "stream",
     "text": [
      "{'val_loss': 1.6533244926974457, 'val_accuracy': 0.6781065088757396, 'precision': 0.6924834783871153, 'recall': 0.6781065088757396, 'f1-score': 0.6704851364665398, 'macro_f1-score': 0.3975912143695535, 'balanced_accuracy': 0.3946579711862701, 'mcc': 0.5770116014573761}\n",
      "Epoch 12/20\n"
     ]
    },
    {
     "name": "stderr",
     "output_type": "stream",
     "text": [
      "100%|██████████| 476/476 [03:22<00:00,  2.35it/s]\n"
     ]
    },
    {
     "name": "stdout",
     "output_type": "stream",
     "text": [
      "{'val_loss': 1.6268199929651224, 'val_accuracy': 0.6698224852071006, 'precision': 0.6813823691491427, 'recall': 0.6698224852071006, 'f1-score': 0.6681431596421403, 'macro_f1-score': 0.395477555545616, 'balanced_accuracy': 0.4162735907261173, 'mcc': 0.5749956727317266}\n",
      "Epoch 13/20\n"
     ]
    },
    {
     "name": "stderr",
     "output_type": "stream",
     "text": [
      "100%|██████████| 476/476 [03:22<00:00,  2.35it/s]\n"
     ]
    },
    {
     "name": "stdout",
     "output_type": "stream",
     "text": [
      "{'val_loss': 1.6273805240415178, 'val_accuracy': 0.6816568047337278, 'precision': 0.6747388425761408, 'recall': 0.6816568047337278, 'f1-score': 0.6682886030406812, 'macro_f1-score': 0.38518869787210686, 'balanced_accuracy': 0.3805748373241819, 'mcc': 0.5784710943425615}\n",
      "Early stopping triggered at epoch 13\n",
      "Fold 10\n",
      "Training set label distribution: {0: 3577, 1: 28, 2: 126, 3: 27, 4: 231, 5: 130, 6: 107, 7: 35, 8: 76, 9: 73, 10: 79, 11: 194, 12: 217, 13: 32, 14: 26, 15: 28, 16: 23, 17: 260, 18: 104, 19: 50, 20: 17, 21: 39, 22: 88, 23: 180, 24: 18, 25: 56, 26: 97, 27: 54, 28: 13, 29: 15, 30: 17, 31: 90, 32: 40, 33: 36, 34: 34, 35: 13, 36: 32, 37: 24, 38: 7, 39: 116, 40: 12, 41: 10, 42: 166, 43: 18, 44: 22, 45: 10, 46: 61, 47: 595, 48: 227, 49: 79}\n",
      "Validation set label distribution: {0: 397, 1: 3, 2: 14, 3: 3, 4: 26, 5: 15, 6: 11, 7: 4, 8: 9, 9: 8, 10: 9, 11: 21, 12: 24, 13: 4, 14: 3, 15: 3, 16: 2, 17: 29, 18: 12, 19: 6, 20: 1, 21: 5, 22: 9, 23: 20, 24: 2, 25: 7, 26: 10, 27: 7, 28: 2, 29: 1, 30: 2, 31: 10, 32: 5, 33: 4, 34: 3, 35: 2, 36: 3, 37: 3, 39: 13, 40: 2, 41: 1, 42: 18, 43: 2, 44: 3, 45: 1, 46: 7, 47: 66, 48: 25, 49: 8}\n"
     ]
    },
    {
     "name": "stderr",
     "output_type": "stream",
     "text": [
      "Some weights of BertForSequenceClassification were not initialized from the model checkpoint at bert-base-uncased and are newly initialized: ['classifier.bias', 'classifier.weight']\n",
      "You should probably TRAIN this model on a down-stream task to be able to use it for predictions and inference.\n"
     ]
    },
    {
     "name": "stdout",
     "output_type": "stream",
     "text": [
      "Epoch 1/20\n"
     ]
    },
    {
     "name": "stderr",
     "output_type": "stream",
     "text": [
      "100%|██████████| 476/476 [03:22<00:00,  2.35it/s]\n"
     ]
    },
    {
     "name": "stdout",
     "output_type": "stream",
     "text": [
      "{'val_loss': 1.4919480012272888, 'val_accuracy': 0.6236686390532544, 'precision': 0.4896644390915901, 'recall': 0.6236686390532544, 'f1-score': 0.5304494480560625, 'macro_f1-score': 0.14012108924683433, 'balanced_accuracy': 0.15261628317938222, 'mcc': 0.46638810948174875}\n",
      "Epoch 2/20\n"
     ]
    },
    {
     "name": "stderr",
     "output_type": "stream",
     "text": [
      "100%|██████████| 476/476 [03:22<00:00,  2.35it/s]\n"
     ]
    },
    {
     "name": "stdout",
     "output_type": "stream",
     "text": [
      "{'val_loss': 1.285447598628278, 'val_accuracy': 0.6556213017751479, 'precision': 0.6197426937752447, 'recall': 0.6556213017751479, 'f1-score': 0.624215929934027, 'macro_f1-score': 0.24528994493572645, 'balanced_accuracy': 0.2624976487223424, 'mcc': 0.5454293425256885}\n",
      "Epoch 3/20\n"
     ]
    },
    {
     "name": "stderr",
     "output_type": "stream",
     "text": [
      "100%|██████████| 476/476 [03:22<00:00,  2.35it/s]\n"
     ]
    },
    {
     "name": "stdout",
     "output_type": "stream",
     "text": [
      "{'val_loss': 1.2404891831694909, 'val_accuracy': 0.6733727810650888, 'precision': 0.6224066948174566, 'recall': 0.6733727810650888, 'f1-score': 0.6319175164329187, 'macro_f1-score': 0.26120893022866293, 'balanced_accuracy': 0.2651144657986879, 'mcc': 0.5539382081372957}\n",
      "Epoch 4/20\n"
     ]
    },
    {
     "name": "stderr",
     "output_type": "stream",
     "text": [
      "100%|██████████| 476/476 [03:22<00:00,  2.35it/s]\n"
     ]
    },
    {
     "name": "stdout",
     "output_type": "stream",
     "text": [
      "{'val_loss': 1.2563837676678065, 'val_accuracy': 0.6970414201183432, 'precision': 0.6579994247354594, 'recall': 0.6970414201183432, 'f1-score': 0.66746553655344, 'macro_f1-score': 0.3139151578460357, 'balanced_accuracy': 0.3212803933234431, 'mcc': 0.592386822402218}\n",
      "Epoch 5/20\n"
     ]
    },
    {
     "name": "stderr",
     "output_type": "stream",
     "text": [
      "100%|██████████| 476/476 [03:22<00:00,  2.35it/s]\n"
     ]
    },
    {
     "name": "stdout",
     "output_type": "stream",
     "text": [
      "{'val_loss': 1.307106390314282, 'val_accuracy': 0.6875739644970414, 'precision': 0.6653846574033843, 'recall': 0.6875739644970414, 'f1-score': 0.6622349462551121, 'macro_f1-score': 0.3244839935820238, 'balanced_accuracy': 0.33471364360924877, 'mcc': 0.5861683567073037}\n",
      "Epoch 6/20\n"
     ]
    },
    {
     "name": "stderr",
     "output_type": "stream",
     "text": [
      "100%|██████████| 476/476 [03:22<00:00,  2.35it/s]\n"
     ]
    },
    {
     "name": "stdout",
     "output_type": "stream",
     "text": [
      "{'val_loss': 1.420300713125265, 'val_accuracy': 0.6698224852071006, 'precision': 0.6743746038391938, 'recall': 0.6698224852071006, 'f1-score': 0.6610751349684795, 'macro_f1-score': 0.34557773769700484, 'balanced_accuracy': 0.3468800529871156, 'mcc': 0.5698219711220669}\n",
      "Epoch 7/20\n"
     ]
    },
    {
     "name": "stderr",
     "output_type": "stream",
     "text": [
      "100%|██████████| 476/476 [03:22<00:00,  2.35it/s]\n"
     ]
    },
    {
     "name": "stdout",
     "output_type": "stream",
     "text": [
      "{'val_loss': 1.582932101668052, 'val_accuracy': 0.6698224852071006, 'precision': 0.6843681847364719, 'recall': 0.6698224852071006, 'f1-score': 0.6539977717685427, 'macro_f1-score': 0.35741789822446823, 'balanced_accuracy': 0.36107642912163795, 'mcc': 0.5690898746439702}\n",
      "Epoch 8/20\n"
     ]
    },
    {
     "name": "stderr",
     "output_type": "stream",
     "text": [
      "100%|██████████| 476/476 [03:22<00:00,  2.35it/s]\n"
     ]
    },
    {
     "name": "stdout",
     "output_type": "stream",
     "text": [
      "{'val_loss': 1.5374895643513158, 'val_accuracy': 0.6887573964497041, 'precision': 0.6873694634154066, 'recall': 0.6887573964497041, 'f1-score': 0.67410727877653, 'macro_f1-score': 0.37893616739947505, 'balanced_accuracy': 0.37996297261749623, 'mcc': 0.5896848732931687}\n",
      "Epoch 9/20\n"
     ]
    },
    {
     "name": "stderr",
     "output_type": "stream",
     "text": [
      "100%|██████████| 476/476 [03:22<00:00,  2.35it/s]\n"
     ]
    },
    {
     "name": "stdout",
     "output_type": "stream",
     "text": [
      "{'val_loss': 1.5845994893110023, 'val_accuracy': 0.7029585798816568, 'precision': 0.6995184535183882, 'recall': 0.7029585798816568, 'f1-score': 0.6838033167931381, 'macro_f1-score': 0.39631811018151575, 'balanced_accuracy': 0.39849540487506085, 'mcc': 0.6039232618142254}\n",
      "Epoch 10/20\n"
     ]
    },
    {
     "name": "stderr",
     "output_type": "stream",
     "text": [
      "100%|██████████| 476/476 [03:22<00:00,  2.35it/s]\n"
     ]
    },
    {
     "name": "stdout",
     "output_type": "stream",
     "text": [
      "{'val_loss': 1.600139562251433, 'val_accuracy': 0.6804733727810651, 'precision': 0.6686431805422406, 'recall': 0.6804733727810651, 'f1-score': 0.6588820861304819, 'macro_f1-score': 0.3590705913560073, 'balanced_accuracy': 0.35184817091330045, 'mcc': 0.5742432507298693}\n",
      "Epoch 11/20\n"
     ]
    },
    {
     "name": "stderr",
     "output_type": "stream",
     "text": [
      "100%|██████████| 476/476 [03:22<00:00,  2.35it/s]\n"
     ]
    },
    {
     "name": "stdout",
     "output_type": "stream",
     "text": [
      "{'val_loss': 1.6277132827155996, 'val_accuracy': 0.676923076923077, 'precision': 0.6935773592662914, 'recall': 0.676923076923077, 'f1-score': 0.6684453454132725, 'macro_f1-score': 0.3775333153075631, 'balanced_accuracy': 0.3838581630274517, 'mcc': 0.5794866431710132}\n",
      "Epoch 12/20\n"
     ]
    },
    {
     "name": "stderr",
     "output_type": "stream",
     "text": [
      "100%|██████████| 476/476 [03:22<00:00,  2.35it/s]\n"
     ]
    },
    {
     "name": "stdout",
     "output_type": "stream",
     "text": [
      "{'val_loss': 1.6830121762347672, 'val_accuracy': 0.6757396449704142, 'precision': 0.6730197021246516, 'recall': 0.6757396449704142, 'f1-score': 0.6608908448346359, 'macro_f1-score': 0.3623168478168528, 'balanced_accuracy': 0.3586278927465466, 'mcc': 0.5722362623960897}\n",
      "Early stopping triggered at epoch 12\n",
      "Total time: 27978.59s\n",
      "Final 10-fold Cross-Validation Results:\n",
      "val_loss: 1.551667298770176\n",
      "val_accuracy: 0.6857130667114301\n",
      "precision: 0.691283319762055\n",
      "recall: 0.6857130667114301\n",
      "f1-score: 0.6745159165180878\n",
      "macro_f1-score: 0.4090068139189535\n",
      "balanced_accuracy: 0.4089002592791909\n",
      "mcc: 0.5850479364305337\n"
     ]
    }
   ],
   "source": [
    "from torch.utils.data import DataLoader\n",
    "from torch.nn import CrossEntropyLoss\n",
    "from torch.optim import AdamW\n",
    "import numpy as np\n",
    "import time\n",
    "\n",
    "all_fold_results = []\n",
    "\n",
    "start_time = time.time()\n",
    "\n",
    "for fold, (train_idx, val_idx) in enumerate(skf.split(messages, labels)):\n",
    "    print(f\"Fold {fold + 1}\")\n",
    "    \n",
    "    train_messages = [messages[i] for i in train_idx]\n",
    "    train_labels = [labels[i] for i in train_idx]\n",
    "    val_messages = [messages[i] for i in val_idx]\n",
    "    val_labels = [labels[i] for i in val_idx]\n",
    "\n",
    "    print(\"Training set label distribution:\", {label: train_labels.count(label) for label in set(train_labels)})\n",
    "    print(\"Validation set label distribution:\", {label: val_labels.count(label) for label in set(val_labels)})\n",
    "    \n",
    "    train_dataset = CustomDataset(train_messages, train_labels, tokenizer, MAX_LENGTH)\n",
    "    val_dataset = CustomDataset(val_messages, val_labels, tokenizer, MAX_LENGTH)\n",
    "    train_dataloader = DataLoader(train_dataset, batch_size=BATCH_SIZE, shuffle=True)\n",
    "    val_dataloader = DataLoader(val_dataset, batch_size=BATCH_SIZE)\n",
    "\n",
    "    NUM_LABELS = len(set(train_labels) | set(val_labels))\n",
    "    model = BertForSequenceClassification.from_pretrained('bert-base-uncased', num_labels=NUM_LABELS)\n",
    "    model.to(device)\n",
    "    optimizer = AdamW(model.parameters(), lr=LR, weight_decay=WEIGHT_DECAY)\n",
    "    criterion = CrossEntropyLoss()\n",
    "\n",
    "    epoch_results = []\n",
    "    best_macro_f1 = 0\n",
    "    epochs_without_improvement = 0\n",
    "    \n",
    "    for epoch in range(EPOCHS):\n",
    "        print(f\"Epoch {epoch + 1}/{EPOCHS}\")\n",
    "        train_loss = train_epoch(model, train_dataloader, optimizer, criterion, device)\n",
    "        metrics = eval_model(model, val_dataloader, criterion, device, num_labels=NUM_LABELS)\n",
    "        epoch_results.append(metrics)\n",
    "        print(metrics)\n",
    "\n",
    "        current_macro_f1 = metrics[\"macro_f1-score\"]\n",
    "        \n",
    "        if current_macro_f1 > best_macro_f1:\n",
    "            best_macro_f1 = current_macro_f1  # 更新最佳 macro_f1-score\n",
    "            epochs_without_improvement = 0   # 重置計數\n",
    "        else:\n",
    "            epochs_without_improvement += 1  # 增加計數\n",
    "        \n",
    "        # 若連續 patience 3 次沒有提升，則停止訓練\n",
    "        if epochs_without_improvement >= PATIENCE:\n",
    "            print(f\"Early stopping triggered at epoch {epoch + 1}\")\n",
    "            break\n",
    "    \n",
    "    # avg_metrics = {metric: np.mean([epoch[metric] for epoch in epoch_results]) for metric in epoch_results[0].keys()}\n",
    "    # all_fold_results.append(avg_metrics)\n",
    "    best_epoch_metrics = max(epoch_results, key=lambda x: x[\"macro_f1-score\"])\n",
    "    all_fold_results.append(best_epoch_metrics)\n",
    "\n",
    "end_time = time.time()\n",
    "print(f\"Total time: {end_time - start_time:.2f}s\")\n",
    "\n",
    "final_metrics = {metric: np.mean([result[metric] for result in all_fold_results]) for metric in all_fold_results[0].keys()}\n",
    "print(\"Final 10-fold Cross-Validation Results:\")\n",
    "for metric, value in final_metrics.items():\n",
    "    print(f\"{metric}: {value}\")"
   ]
  },
  {
   "cell_type": "code",
   "execution_count": 5,
   "id": "41b2f834-4634-46b9-ab82-6b1e031ea867",
   "metadata": {},
   "outputs": [
    {
     "data": {
      "text/plain": [
       "[{'val_loss': 1.4919480012272888,\n",
       "  'val_accuracy': 0.6236686390532544,\n",
       "  'precision': 0.4896644390915901,\n",
       "  'recall': 0.6236686390532544,\n",
       "  'f1-score': 0.5304494480560625,\n",
       "  'macro_f1-score': 0.14012108924683433,\n",
       "  'balanced_accuracy': 0.15261628317938222,\n",
       "  'mcc': 0.46638810948174875},\n",
       " {'val_loss': 1.285447598628278,\n",
       "  'val_accuracy': 0.6556213017751479,\n",
       "  'precision': 0.6197426937752447,\n",
       "  'recall': 0.6556213017751479,\n",
       "  'f1-score': 0.624215929934027,\n",
       "  'macro_f1-score': 0.24528994493572645,\n",
       "  'balanced_accuracy': 0.2624976487223424,\n",
       "  'mcc': 0.5454293425256885},\n",
       " {'val_loss': 1.2404891831694909,\n",
       "  'val_accuracy': 0.6733727810650888,\n",
       "  'precision': 0.6224066948174566,\n",
       "  'recall': 0.6733727810650888,\n",
       "  'f1-score': 0.6319175164329187,\n",
       "  'macro_f1-score': 0.26120893022866293,\n",
       "  'balanced_accuracy': 0.2651144657986879,\n",
       "  'mcc': 0.5539382081372957},\n",
       " {'val_loss': 1.2563837676678065,\n",
       "  'val_accuracy': 0.6970414201183432,\n",
       "  'precision': 0.6579994247354594,\n",
       "  'recall': 0.6970414201183432,\n",
       "  'f1-score': 0.66746553655344,\n",
       "  'macro_f1-score': 0.3139151578460357,\n",
       "  'balanced_accuracy': 0.3212803933234431,\n",
       "  'mcc': 0.592386822402218},\n",
       " {'val_loss': 1.307106390314282,\n",
       "  'val_accuracy': 0.6875739644970414,\n",
       "  'precision': 0.6653846574033843,\n",
       "  'recall': 0.6875739644970414,\n",
       "  'f1-score': 0.6622349462551121,\n",
       "  'macro_f1-score': 0.3244839935820238,\n",
       "  'balanced_accuracy': 0.33471364360924877,\n",
       "  'mcc': 0.5861683567073037},\n",
       " {'val_loss': 1.420300713125265,\n",
       "  'val_accuracy': 0.6698224852071006,\n",
       "  'precision': 0.6743746038391938,\n",
       "  'recall': 0.6698224852071006,\n",
       "  'f1-score': 0.6610751349684795,\n",
       "  'macro_f1-score': 0.34557773769700484,\n",
       "  'balanced_accuracy': 0.3468800529871156,\n",
       "  'mcc': 0.5698219711220669},\n",
       " {'val_loss': 1.582932101668052,\n",
       "  'val_accuracy': 0.6698224852071006,\n",
       "  'precision': 0.6843681847364719,\n",
       "  'recall': 0.6698224852071006,\n",
       "  'f1-score': 0.6539977717685427,\n",
       "  'macro_f1-score': 0.35741789822446823,\n",
       "  'balanced_accuracy': 0.36107642912163795,\n",
       "  'mcc': 0.5690898746439702},\n",
       " {'val_loss': 1.5374895643513158,\n",
       "  'val_accuracy': 0.6887573964497041,\n",
       "  'precision': 0.6873694634154066,\n",
       "  'recall': 0.6887573964497041,\n",
       "  'f1-score': 0.67410727877653,\n",
       "  'macro_f1-score': 0.37893616739947505,\n",
       "  'balanced_accuracy': 0.37996297261749623,\n",
       "  'mcc': 0.5896848732931687},\n",
       " {'val_loss': 1.5845994893110023,\n",
       "  'val_accuracy': 0.7029585798816568,\n",
       "  'precision': 0.6995184535183882,\n",
       "  'recall': 0.7029585798816568,\n",
       "  'f1-score': 0.6838033167931381,\n",
       "  'macro_f1-score': 0.39631811018151575,\n",
       "  'balanced_accuracy': 0.39849540487506085,\n",
       "  'mcc': 0.6039232618142254},\n",
       " {'val_loss': 1.600139562251433,\n",
       "  'val_accuracy': 0.6804733727810651,\n",
       "  'precision': 0.6686431805422406,\n",
       "  'recall': 0.6804733727810651,\n",
       "  'f1-score': 0.6588820861304819,\n",
       "  'macro_f1-score': 0.3590705913560073,\n",
       "  'balanced_accuracy': 0.35184817091330045,\n",
       "  'mcc': 0.5742432507298693},\n",
       " {'val_loss': 1.6277132827155996,\n",
       "  'val_accuracy': 0.676923076923077,\n",
       "  'precision': 0.6935773592662914,\n",
       "  'recall': 0.676923076923077,\n",
       "  'f1-score': 0.6684453454132725,\n",
       "  'macro_f1-score': 0.3775333153075631,\n",
       "  'balanced_accuracy': 0.3838581630274517,\n",
       "  'mcc': 0.5794866431710132},\n",
       " {'val_loss': 1.6830121762347672,\n",
       "  'val_accuracy': 0.6757396449704142,\n",
       "  'precision': 0.6730197021246516,\n",
       "  'recall': 0.6757396449704142,\n",
       "  'f1-score': 0.6608908448346359,\n",
       "  'macro_f1-score': 0.3623168478168528,\n",
       "  'balanced_accuracy': 0.3586278927465466,\n",
       "  'mcc': 0.5722362623960897}]"
      ]
     },
     "execution_count": 5,
     "metadata": {},
     "output_type": "execute_result"
    }
   ],
   "source": [
    "epoch_results"
   ]
  },
  {
   "cell_type": "code",
   "execution_count": null,
   "id": "a50cc73e-1ab9-41bc-85d5-96c52042ba35",
   "metadata": {},
   "outputs": [],
   "source": []
  }
 ],
 "metadata": {
  "kernelspec": {
   "display_name": "Python 3 (ipykernel)",
   "language": "python",
   "name": "python3"
  },
  "language_info": {
   "codemirror_mode": {
    "name": "ipython",
    "version": 3
   },
   "file_extension": ".py",
   "mimetype": "text/x-python",
   "name": "python",
   "nbconvert_exporter": "python",
   "pygments_lexer": "ipython3",
   "version": "3.11.9"
  }
 },
 "nbformat": 4,
 "nbformat_minor": 5
}
