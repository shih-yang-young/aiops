{
 "cells": [
  {
   "cell_type": "code",
   "execution_count": null,
   "id": "f22f4841-9a9d-4a63-b896-560594d666d8",
   "metadata": {},
   "outputs": [
    {
     "data": {
      "text/html": [
       "<div>\n",
       "<style scoped>\n",
       "    .dataframe tbody tr th:only-of-type {\n",
       "        vertical-align: middle;\n",
       "    }\n",
       "\n",
       "    .dataframe tbody tr th {\n",
       "        vertical-align: top;\n",
       "    }\n",
       "\n",
       "    .dataframe thead th {\n",
       "        text-align: right;\n",
       "    }\n",
       "</style>\n",
       "<table border=\"1\" class=\"dataframe\">\n",
       "  <thead>\n",
       "    <tr style=\"text-align: right;\">\n",
       "      <th></th>\n",
       "      <th>Inbound Message</th>\n",
       "      <th>Label</th>\n",
       "    </tr>\n",
       "  </thead>\n",
       "  <tbody>\n",
       "    <tr>\n",
       "      <th>0</th>\n",
       "      <td>login issue verified user details employee man...</td>\n",
       "      <td>0</td>\n",
       "    </tr>\n",
       "    <tr>\n",
       "      <th>1</th>\n",
       "      <td>outlook hello team meetings skype meetings etc...</td>\n",
       "      <td>0</td>\n",
       "    </tr>\n",
       "    <tr>\n",
       "      <th>2</th>\n",
       "      <td>cant log vpn cannot log vpn best</td>\n",
       "      <td>0</td>\n",
       "    </tr>\n",
       "    <tr>\n",
       "      <th>3</th>\n",
       "      <td>unable access tool page unable access tool page</td>\n",
       "      <td>0</td>\n",
       "    </tr>\n",
       "    <tr>\n",
       "      <th>4</th>\n",
       "      <td>skype error skype error</td>\n",
       "      <td>0</td>\n",
       "    </tr>\n",
       "    <tr>\n",
       "      <th>...</th>\n",
       "      <td>...</td>\n",
       "      <td>...</td>\n",
       "    </tr>\n",
       "    <tr>\n",
       "      <th>6551</th>\n",
       "      <td>emails coming mail good afternoon receiving em...</td>\n",
       "      <td>22</td>\n",
       "    </tr>\n",
       "    <tr>\n",
       "      <th>6552</th>\n",
       "      <td>telephony software issue telephony software issue</td>\n",
       "      <td>0</td>\n",
       "    </tr>\n",
       "    <tr>\n",
       "      <th>6553</th>\n",
       "      <td>vip windows password reset tifpdchb pedxruyf v...</td>\n",
       "      <td>0</td>\n",
       "    </tr>\n",
       "    <tr>\n",
       "      <th>6554</th>\n",
       "      <td>machine est funcionando unable access machine ...</td>\n",
       "      <td>42</td>\n",
       "    </tr>\n",
       "    <tr>\n",
       "      <th>6555</th>\n",
       "      <td>mehreren lassen sich verschiedene prgramdntyme...</td>\n",
       "      <td>47</td>\n",
       "    </tr>\n",
       "  </tbody>\n",
       "</table>\n",
       "<p>6556 rows × 2 columns</p>\n",
       "</div>"
      ],
      "text/plain": [
       "                                        Inbound Message  Label\n",
       "0     login issue verified user details employee man...      0\n",
       "1     outlook hello team meetings skype meetings etc...      0\n",
       "2                      cant log vpn cannot log vpn best      0\n",
       "3       unable access tool page unable access tool page      0\n",
       "4                               skype error skype error      0\n",
       "...                                                 ...    ...\n",
       "6551  emails coming mail good afternoon receiving em...     22\n",
       "6552  telephony software issue telephony software issue      0\n",
       "6553  vip windows password reset tifpdchb pedxruyf v...      0\n",
       "6554  machine est funcionando unable access machine ...     42\n",
       "6555  mehreren lassen sich verschiedene prgramdntyme...     47\n",
       "\n",
       "[6556 rows x 2 columns]"
      ]
     },
     "execution_count": 1,
     "metadata": {},
     "output_type": "execute_result"
    }
   ],
   "source": [
    "import pandas as pd\n",
    "data_path = \"../../data/6556_48_label.csv\"\n",
    "df = pd.read_csv(data_path)\n",
    "# df_label_0 = df[df[\"Labewl\"] == 0]\n",
    "# df_label_0_to_drop = df_label_0.sample(n=3000, random_state=42)\n",
    "# df = df.drop(df_label_0_to_drop.index)\n",
    "df"
   ]
  },
  {
   "cell_type": "code",
   "execution_count": 2,
   "id": "bf737873-4f1c-4588-913d-8f06b2777b20",
   "metadata": {},
   "outputs": [
    {
     "name": "stderr",
     "output_type": "stream",
     "text": [
      "c:\\Users\\user\\AppData\\Local\\Programs\\Python\\Python310\\lib\\site-packages\\tqdm\\auto.py:21: TqdmWarning: IProgress not found. Please update jupyter and ipywidgets. See https://ipywidgets.readthedocs.io/en/stable/user_install.html\n",
      "  from .autonotebook import tqdm as notebook_tqdm\n"
     ]
    }
   ],
   "source": [
    "import sys\n",
    "import os\n",
    "sys.path.append(os.path.abspath('../ml_lib'))\n",
    "\n",
    "from config import *\n",
    "from experiment import run_kfold_experiment"
   ]
  },
  {
   "cell_type": "code",
   "execution_count": 3,
   "id": "a12b2613-aa9d-41c0-8f62-72210eaf8d7f",
   "metadata": {},
   "outputs": [],
   "source": [
    "messages, labels = df['Inbound Message'].tolist(), df['Label'].tolist()"
   ]
  },
  {
   "cell_type": "code",
   "execution_count": 4,
   "id": "38d4729f-f867-4cea-89f9-31f67e5ecced",
   "metadata": {},
   "outputs": [
    {
     "name": "stdout",
     "output_type": "stream",
     "text": [
      "▶ Running: bert-base-uncased + plain + none\n",
      "tokenizer is bert-base-uncased\n",
      "Using device: cuda\n",
      "CUDA Available: True\n",
      "CUDA Device: NVIDIA GeForce RTX 5070 Ti\n",
      "Current GPU Memory Allocated: 0.00 GB\n",
      "Current GPU Memory Cached: 0.00 GB\n",
      "\n",
      "[Fold 1]\n",
      "Label distribution after resampling:\n",
      "  label 0: 2471\n",
      "  label 1: 21\n",
      "  label 2: 64\n",
      "  label 3: 24\n",
      "  label 4: 191\n",
      "  label 5: 113\n",
      "  label 6: 93\n",
      "  label 7: 30\n",
      "  label 8: 68\n",
      "  label 9: 30\n",
      "  label 10: 67\n",
      "  label 11: 169\n",
      "  label 12: 189\n",
      "  label 13: 29\n",
      "  label 14: 22\n",
      "  label 15: 25\n",
      "  label 16: 19\n",
      "  label 17: 183\n",
      "  label 18: 92\n",
      "  label 19: 44\n",
      "  label 20: 13\n",
      "  label 21: 35\n",
      "  label 22: 76\n",
      "  label 23: 158\n",
      "  label 24: 13\n",
      "  label 25: 44\n",
      "  label 26: 84\n",
      "  label 27: 48\n",
      "  label 28: 11\n",
      "  label 29: 13\n",
      "  label 30: 11\n",
      "  label 31: 75\n",
      "  label 32: 36\n",
      "  label 33: 32\n",
      "  label 34: 29\n",
      "  label 35: 11\n",
      "  label 36: 22\n",
      "  label 37: 16\n",
      "  label 38: 33\n",
      "  label 39: 10\n",
      "  label 40: 9\n",
      "  label 41: 57\n",
      "  label 42: 19\n",
      "  label 43: 8\n",
      "  label 44: 54\n",
      "  label 45: 242\n",
      "  label 46: 61\n",
      "  label 47: 80\n",
      "model is bert-base-uncased\n"
     ]
    },
    {
     "name": "stderr",
     "output_type": "stream",
     "text": [
      "Some weights of BertForSequenceClassification were not initialized from the model checkpoint at bert-base-uncased and are newly initialized: ['classifier.bias', 'classifier.weight']\n",
      "You should probably TRAIN this model on a down-stream task to be able to use it for predictions and inference.\n"
     ]
    },
    {
     "name": "stdout",
     "output_type": "stream",
     "text": [
      "Using weighted CrossEntropyLoss with weights: tensor([0.7525, 5.5203, 4.4060, 5.3868, 3.3126, 3.8375, 4.0322, 5.1636, 4.3453,\n",
      "        5.1636, 4.3601, 3.4349, 3.3231, 5.1975, 5.4738, 5.3460, 5.6204, 3.3554,\n",
      "        4.0431, 4.7807, 5.9999, 5.0095, 4.2341, 3.5022, 5.9999, 4.7807, 4.1340,\n",
      "        4.6936, 6.1669, 5.9999, 6.1669, 4.2474, 4.9813, 5.0991, 5.1975, 6.1669,\n",
      "        5.4738, 5.7923, 5.0683, 6.2623, 6.3676, 4.5218, 5.6204, 6.4854, 4.5759,\n",
      "        3.0759, 4.4540, 4.1828], device='cuda:0')\n",
      "Epoch 1/20\n"
     ]
    },
    {
     "name": "stderr",
     "output_type": "stream",
     "text": [
      "100%|██████████| 328/328 [00:27<00:00, 11.93it/s]\n"
     ]
    },
    {
     "name": "stdout",
     "output_type": "stream",
     "text": [
      "{'val_loss': 3.0372393625538523, 'val_accuracy': 0.5533536585365854, 'precision': 0.3898064348817766, 'recall': 0.5533536585365854, 'f1-score': 0.42859754072982803, 'macro_f1-score': 0.08755055613335742, 'balanced_accuracy': 0.09712743048145185, 'mcc': 0.3276225180371664, 'train_loss': 2.1849764023975626}\n",
      "Epoch 2/20\n"
     ]
    },
    {
     "name": "stderr",
     "output_type": "stream",
     "text": [
      "100%|██████████| 328/328 [00:27<00:00, 11.98it/s]\n"
     ]
    },
    {
     "name": "stdout",
     "output_type": "stream",
     "text": [
      "{'val_loss': 2.470742171857415, 'val_accuracy': 0.5891768292682927, 'precision': 0.4923565009188255, 'recall': 0.5891768292682927, 'f1-score': 0.5165957680602993, 'macro_f1-score': 0.14940482929936094, 'balanced_accuracy': 0.16235069871116312, 'mcc': 0.4217561575938397, 'train_loss': 1.5752234653365322}\n",
      "Epoch 3/20\n"
     ]
    },
    {
     "name": "stderr",
     "output_type": "stream",
     "text": [
      "100%|██████████| 328/328 [00:27<00:00, 11.97it/s]\n"
     ]
    },
    {
     "name": "stdout",
     "output_type": "stream",
     "text": [
      "{'val_loss': 2.290789159332834, 'val_accuracy': 0.625, 'precision': 0.5631612438460487, 'recall': 0.625, 'f1-score': 0.5869836573738355, 'macro_f1-score': 0.2441588027668801, 'balanced_accuracy': 0.24912851629267796, 'mcc': 0.4878156331173947, 'train_loss': 1.195551098892238}\n",
      "Epoch 4/20\n"
     ]
    },
    {
     "name": "stderr",
     "output_type": "stream",
     "text": [
      "100%|██████████| 328/328 [00:27<00:00, 11.97it/s]\n"
     ]
    },
    {
     "name": "stdout",
     "output_type": "stream",
     "text": [
      "{'val_loss': 2.3103141094126354, 'val_accuracy': 0.6333841463414634, 'precision': 0.5940267573834352, 'recall': 0.6333841463414634, 'f1-score': 0.6013617884639897, 'macro_f1-score': 0.2986688010877752, 'balanced_accuracy': 0.2975353360703931, 'mcc': 0.50553552773217, 'train_loss': 0.8862390173826276}\n",
      "Epoch 5/20\n"
     ]
    },
    {
     "name": "stderr",
     "output_type": "stream",
     "text": [
      "100%|██████████| 328/328 [00:27<00:00, 11.97it/s]\n"
     ]
    },
    {
     "name": "stdout",
     "output_type": "stream",
     "text": [
      "{'val_loss': 2.2220694568099044, 'val_accuracy': 0.6105182926829268, 'precision': 0.6033931270234494, 'recall': 0.6105182926829268, 'f1-score': 0.5977795787235921, 'macro_f1-score': 0.30019124253229146, 'balanced_accuracy': 0.3001086284541372, 'mcc': 0.49345298563118983, 'train_loss': 0.6490516693490308}\n",
      "Epoch 6/20\n"
     ]
    },
    {
     "name": "stderr",
     "output_type": "stream",
     "text": [
      "100%|██████████| 328/328 [00:27<00:00, 11.95it/s]\n"
     ]
    },
    {
     "name": "stdout",
     "output_type": "stream",
     "text": [
      "{'val_loss': 2.429804884442469, 'val_accuracy': 0.6440548780487805, 'precision': 0.6203420260400718, 'recall': 0.6440548780487805, 'f1-score': 0.6177366065498181, 'macro_f1-score': 0.33539281879900945, 'balanced_accuracy': 0.3210700687501347, 'mcc': 0.515242813596323, 'train_loss': 0.46802280441199134}\n",
      "Epoch 7/20\n"
     ]
    },
    {
     "name": "stderr",
     "output_type": "stream",
     "text": [
      "100%|██████████| 328/328 [00:27<00:00, 11.96it/s]\n"
     ]
    },
    {
     "name": "stdout",
     "output_type": "stream",
     "text": [
      "{'val_loss': 2.7125275345837196, 'val_accuracy': 0.6219512195121951, 'precision': 0.6153367154776362, 'recall': 0.6219512195121951, 'f1-score': 0.6054150436337313, 'macro_f1-score': 0.32081750943314696, 'balanced_accuracy': 0.3061687574554777, 'mcc': 0.4903270740007607, 'train_loss': 0.32627738945231566}\n",
      "Epoch 8/20\n"
     ]
    },
    {
     "name": "stderr",
     "output_type": "stream",
     "text": [
      "100%|██████████| 328/328 [00:27<00:00, 11.96it/s]\n"
     ]
    },
    {
     "name": "stdout",
     "output_type": "stream",
     "text": [
      "{'val_loss': 2.7565749618338375, 'val_accuracy': 0.645579268292683, 'precision': 0.62585898436063, 'recall': 0.645579268292683, 'f1-score': 0.6238200537837575, 'macro_f1-score': 0.33660983784227483, 'balanced_accuracy': 0.32303778209705686, 'mcc': 0.5180262688807739, 'train_loss': 0.24335382615852102}\n",
      "Epoch 9/20\n"
     ]
    },
    {
     "name": "stderr",
     "output_type": "stream",
     "text": [
      "100%|██████████| 328/328 [00:27<00:00, 11.95it/s]\n"
     ]
    },
    {
     "name": "stdout",
     "output_type": "stream",
     "text": [
      "{'val_loss': 2.6974308865099417, 'val_accuracy': 0.6509146341463414, 'precision': 0.6480179825646121, 'recall': 0.6509146341463414, 'f1-score': 0.6401912733267305, 'macro_f1-score': 0.3930236852780478, 'balanced_accuracy': 0.3919549815711803, 'mcc': 0.5324479596030715, 'train_loss': 0.18265250106853229}\n",
      "Epoch 10/20\n"
     ]
    },
    {
     "name": "stderr",
     "output_type": "stream",
     "text": [
      "100%|██████████| 328/328 [00:27<00:00, 11.95it/s]\n"
     ]
    },
    {
     "name": "stdout",
     "output_type": "stream",
     "text": [
      "{'val_loss': 2.878607535507621, 'val_accuracy': 0.6402439024390244, 'precision': 0.6376196749753555, 'recall': 0.6402439024390244, 'f1-score': 0.6264931687430025, 'macro_f1-score': 0.3829031141423722, 'balanced_accuracy': 0.3897030360237778, 'mcc': 0.5169972383952482, 'train_loss': 0.1409316426497975}\n",
      "Epoch 11/20\n"
     ]
    },
    {
     "name": "stderr",
     "output_type": "stream",
     "text": [
      "100%|██████████| 328/328 [00:27<00:00, 11.95it/s]\n"
     ]
    },
    {
     "name": "stdout",
     "output_type": "stream",
     "text": [
      "{'val_loss': 2.7613807425993246, 'val_accuracy': 0.6516768292682927, 'precision': 0.6416402337249784, 'recall': 0.6516768292682927, 'f1-score': 0.6369860527149425, 'macro_f1-score': 0.4064094087215601, 'balanced_accuracy': 0.39814866111789843, 'mcc': 0.5297454531719216, 'train_loss': 0.1458964872687896}\n",
      "Epoch 12/20\n"
     ]
    },
    {
     "name": "stderr",
     "output_type": "stream",
     "text": [
      "100%|██████████| 328/328 [00:27<00:00, 11.94it/s]\n"
     ]
    },
    {
     "name": "stdout",
     "output_type": "stream",
     "text": [
      "{'val_loss': 2.9164415771005356, 'val_accuracy': 0.6653963414634146, 'precision': 0.6535801505128391, 'recall': 0.6653963414634146, 'f1-score': 0.6484739503569749, 'macro_f1-score': 0.4383557974684205, 'balanced_accuracy': 0.420548563841112, 'mcc': 0.5463725116570627, 'train_loss': 0.12649807909492222}\n",
      "Epoch 13/20\n"
     ]
    },
    {
     "name": "stderr",
     "output_type": "stream",
     "text": [
      "100%|██████████| 328/328 [00:27<00:00, 11.95it/s]\n"
     ]
    },
    {
     "name": "stdout",
     "output_type": "stream",
     "text": [
      "{'val_loss': 3.0181485554430543, 'val_accuracy': 0.6570121951219512, 'precision': 0.6359304396963252, 'recall': 0.6570121951219512, 'f1-score': 0.6380202415012016, 'macro_f1-score': 0.39232507220711654, 'balanced_accuracy': 0.38404734537271173, 'mcc': 0.5369019055405482, 'train_loss': 0.08803576216237938}\n",
      "Epoch 14/20\n"
     ]
    },
    {
     "name": "stderr",
     "output_type": "stream",
     "text": [
      "100%|██████████| 328/328 [00:27<00:00, 11.94it/s]\n"
     ]
    },
    {
     "name": "stdout",
     "output_type": "stream",
     "text": [
      "{'val_loss': 2.7856542838328497, 'val_accuracy': 0.6341463414634146, 'precision': 0.6538495439143289, 'recall': 0.6341463414634146, 'f1-score': 0.6331354226716679, 'macro_f1-score': 0.41164276555310303, 'balanced_accuracy': 0.40126955573761, 'mcc': 0.521382664863612, 'train_loss': 0.10487273504826944}\n",
      "Epoch 15/20\n"
     ]
    },
    {
     "name": "stderr",
     "output_type": "stream",
     "text": [
      "100%|██████████| 328/328 [00:27<00:00, 11.94it/s]\n"
     ]
    },
    {
     "name": "stdout",
     "output_type": "stream",
     "text": [
      "{'val_loss': 3.1266141526582762, 'val_accuracy': 0.6478658536585366, 'precision': 0.640074830052278, 'recall': 0.6478658536585366, 'f1-score': 0.6353980570088016, 'macro_f1-score': 0.39496288263462453, 'balanced_accuracy': 0.3949700963349206, 'mcc': 0.5282242848991165, 'train_loss': 0.08014345574178505}\n",
      "Early stopping.\n",
      "\n",
      "[Fold 2]\n",
      "Label distribution after resampling:\n",
      "  label 0: 2471\n",
      "  label 1: 22\n",
      "  label 2: 64\n",
      "  label 3: 24\n",
      "  label 4: 190\n",
      "  label 5: 113\n",
      "  label 6: 93\n",
      "  label 7: 30\n",
      "  label 8: 68\n",
      "  label 9: 30\n",
      "  label 10: 67\n",
      "  label 11: 169\n",
      "  label 12: 189\n",
      "  label 13: 29\n",
      "  label 14: 23\n",
      "  label 15: 24\n",
      "  label 16: 20\n",
      "  label 17: 182\n",
      "  label 18: 92\n",
      "  label 19: 44\n",
      "  label 20: 13\n",
      "  label 21: 36\n",
      "  label 22: 76\n",
      "  label 23: 157\n",
      "  label 24: 12\n",
      "  label 25: 44\n",
      "  label 26: 84\n",
      "  label 27: 48\n",
      "  label 28: 12\n",
      "  label 29: 12\n",
      "  label 30: 12\n",
      "  label 31: 75\n",
      "  label 32: 36\n",
      "  label 33: 31\n",
      "  label 34: 29\n",
      "  label 35: 12\n",
      "  label 36: 21\n",
      "  label 37: 16\n",
      "  label 38: 33\n",
      "  label 39: 11\n",
      "  label 40: 8\n",
      "  label 41: 57\n",
      "  label 42: 19\n",
      "  label 43: 9\n",
      "  label 44: 54\n",
      "  label 45: 242\n",
      "  label 46: 62\n",
      "  label 47: 80\n",
      "model is bert-base-uncased\n"
     ]
    },
    {
     "name": "stderr",
     "output_type": "stream",
     "text": [
      "Some weights of BertForSequenceClassification were not initialized from the model checkpoint at bert-base-uncased and are newly initialized: ['classifier.bias', 'classifier.weight']\n",
      "You should probably TRAIN this model on a down-stream task to be able to use it for predictions and inference.\n"
     ]
    },
    {
     "name": "stdout",
     "output_type": "stream",
     "text": [
      "Using weighted CrossEntropyLoss with weights: tensor([0.7527, 5.4740, 4.4061, 5.3870, 3.3180, 3.8376, 4.0324, 5.1638, 4.3455,\n",
      "        5.1638, 4.3603, 3.4351, 3.3233, 5.1977, 5.4295, 5.3870, 5.5693, 3.3610,\n",
      "        4.0432, 4.7808, 6.0001, 4.9815, 4.2343, 3.5088, 6.0801, 4.7808, 4.1342,\n",
      "        4.6938, 6.0801, 6.0801, 6.0801, 4.2475, 4.9815, 5.1310, 5.1977, 6.0801,\n",
      "        5.5205, 5.7924, 5.0685, 6.1671, 6.4856, 4.5220, 5.6206, 6.3678, 4.5760,\n",
      "        3.0761, 4.4379, 4.1830], device='cuda:0')\n",
      "Epoch 1/20\n"
     ]
    },
    {
     "name": "stderr",
     "output_type": "stream",
     "text": [
      "100%|██████████| 328/328 [00:27<00:00, 11.95it/s]\n"
     ]
    },
    {
     "name": "stdout",
     "output_type": "stream",
     "text": [
      "{'val_loss': 2.959728527359846, 'val_accuracy': 0.5636918382913806, 'precision': 0.3816783778993884, 'recall': 0.5636918382913806, 'f1-score': 0.44008643458432134, 'macro_f1-score': 0.06430170349450624, 'balanced_accuracy': 0.0810985155899281, 'mcc': 0.3568718133763835, 'train_loss': 2.215922122321478}\n",
      "Epoch 2/20\n"
     ]
    },
    {
     "name": "stderr",
     "output_type": "stream",
     "text": [
      "100%|██████████| 328/328 [00:27<00:00, 11.95it/s]\n"
     ]
    },
    {
     "name": "stdout",
     "output_type": "stream",
     "text": [
      "{'val_loss': 2.3567681719617144, 'val_accuracy': 0.6147978642257819, 'precision': 0.5198930514498968, 'recall': 0.6147978642257819, 'f1-score': 0.5415340247709586, 'macro_f1-score': 0.18237778284707318, 'balanced_accuracy': 0.19104704043737128, 'mcc': 0.45631307915573976, 'train_loss': 1.6155373466814436}\n",
      "Epoch 3/20\n"
     ]
    },
    {
     "name": "stderr",
     "output_type": "stream",
     "text": [
      "100%|██████████| 328/328 [00:27<00:00, 11.94it/s]\n"
     ]
    },
    {
     "name": "stdout",
     "output_type": "stream",
     "text": [
      "{'val_loss': 2.190345838302519, 'val_accuracy': 0.6102212051868803, 'precision': 0.5567035039552028, 'recall': 0.6102212051868803, 'f1-score': 0.569724212401614, 'macro_f1-score': 0.2063105871298414, 'balanced_accuracy': 0.22692455392231006, 'mcc': 0.48062916386692034, 'train_loss': 1.231434558768098}\n",
      "Epoch 4/20\n"
     ]
    },
    {
     "name": "stderr",
     "output_type": "stream",
     "text": [
      "100%|██████████| 328/328 [00:27<00:00, 11.95it/s]\n"
     ]
    },
    {
     "name": "stdout",
     "output_type": "stream",
     "text": [
      "{'val_loss': 2.385823000495027, 'val_accuracy': 0.6331045003813882, 'precision': 0.5829698075371769, 'recall': 0.6331045003813882, 'f1-score': 0.5795535763629978, 'macro_f1-score': 0.2357279768812368, 'balanced_accuracy': 0.23763692806800998, 'mcc': 0.4852297355741631, 'train_loss': 0.9263909598131005}\n",
      "Epoch 5/20\n"
     ]
    },
    {
     "name": "stderr",
     "output_type": "stream",
     "text": [
      "100%|██████████| 328/328 [00:27<00:00, 11.96it/s]\n"
     ]
    },
    {
     "name": "stdout",
     "output_type": "stream",
     "text": [
      "{'val_loss': 2.325807621566261, 'val_accuracy': 0.6521739130434783, 'precision': 0.629768258117367, 'recall': 0.6521739130434783, 'f1-score': 0.6262633852022172, 'macro_f1-score': 0.3291334176758111, 'balanced_accuracy': 0.3305711883023969, 'mcc': 0.5284532707626023, 'train_loss': 0.636948928441398}\n",
      "Epoch 6/20\n"
     ]
    },
    {
     "name": "stderr",
     "output_type": "stream",
     "text": [
      "100%|██████████| 328/328 [00:27<00:00, 11.95it/s]\n"
     ]
    },
    {
     "name": "stdout",
     "output_type": "stream",
     "text": [
      "{'val_loss': 2.250194802516844, 'val_accuracy': 0.6514111365369947, 'precision': 0.6430202696625479, 'recall': 0.6514111365369947, 'f1-score': 0.636834766490327, 'macro_f1-score': 0.3502598337028124, 'balanced_accuracy': 0.3489804970710016, 'mcc': 0.5371003253666041, 'train_loss': 0.4264401466721987}\n",
      "Epoch 7/20\n"
     ]
    },
    {
     "name": "stderr",
     "output_type": "stream",
     "text": [
      "100%|██████████| 328/328 [00:27<00:00, 11.94it/s]\n"
     ]
    },
    {
     "name": "stdout",
     "output_type": "stream",
     "text": [
      "{'val_loss': 2.559629837187325, 'val_accuracy': 0.6681922196796338, 'precision': 0.6404642466593085, 'recall': 0.6681922196796338, 'f1-score': 0.6417959721975935, 'macro_f1-score': 0.3599761864610819, 'balanced_accuracy': 0.3405376585261504, 'mcc': 0.5482203176470122, 'train_loss': 0.3113998697570911}\n",
      "Epoch 8/20\n"
     ]
    },
    {
     "name": "stderr",
     "output_type": "stream",
     "text": [
      "100%|██████████| 328/328 [00:27<00:00, 11.94it/s]\n"
     ]
    },
    {
     "name": "stdout",
     "output_type": "stream",
     "text": [
      "{'val_loss': 2.5049705912427203, 'val_accuracy': 0.6475972540045767, 'precision': 0.6410131338637417, 'recall': 0.6475972540045767, 'f1-score': 0.6328066279451827, 'macro_f1-score': 0.36650053917378117, 'balanced_accuracy': 0.37378847200264725, 'mcc': 0.5308138042520749, 'train_loss': 0.21548339967593189}\n",
      "Epoch 9/20\n"
     ]
    },
    {
     "name": "stderr",
     "output_type": "stream",
     "text": [
      "100%|██████████| 328/328 [00:27<00:00, 11.95it/s]\n"
     ]
    },
    {
     "name": "stdout",
     "output_type": "stream",
     "text": [
      "{'val_loss': 2.5031916717203653, 'val_accuracy': 0.6521739130434783, 'precision': 0.6443492774718103, 'recall': 0.6521739130434783, 'f1-score': 0.6385540175709378, 'macro_f1-score': 0.3820030302675401, 'balanced_accuracy': 0.3850621433307992, 'mcc': 0.5404548925873829, 'train_loss': 0.17616075863664196}\n",
      "Epoch 10/20\n"
     ]
    },
    {
     "name": "stderr",
     "output_type": "stream",
     "text": [
      "100%|██████████| 328/328 [00:27<00:00, 11.94it/s]\n"
     ]
    },
    {
     "name": "stdout",
     "output_type": "stream",
     "text": [
      "{'val_loss': 2.637166588771634, 'val_accuracy': 0.6628527841342486, 'precision': 0.6483694177292293, 'recall': 0.6628527841342486, 'f1-score': 0.6449805144300557, 'macro_f1-score': 0.40794272623927125, 'balanced_accuracy': 0.4181850619685005, 'mcc': 0.5496200593991015, 'train_loss': 0.1558135088345763}\n",
      "Epoch 11/20\n"
     ]
    },
    {
     "name": "stderr",
     "output_type": "stream",
     "text": [
      "100%|██████████| 328/328 [00:27<00:00, 11.93it/s]\n"
     ]
    },
    {
     "name": "stdout",
     "output_type": "stream",
     "text": [
      "{'val_loss': 2.651142666252648, 'val_accuracy': 0.6445461479786423, 'precision': 0.6323202375654176, 'recall': 0.6445461479786423, 'f1-score': 0.6305157958424136, 'macro_f1-score': 0.36601214090087925, 'balanced_accuracy': 0.375820051076554, 'mcc': 0.5264738053027533, 'train_loss': 0.10397586067457025}\n",
      "Epoch 12/20\n"
     ]
    },
    {
     "name": "stderr",
     "output_type": "stream",
     "text": [
      "100%|██████████| 328/328 [00:27<00:00, 11.94it/s]\n"
     ]
    },
    {
     "name": "stdout",
     "output_type": "stream",
     "text": [
      "{'val_loss': 2.664857522743504, 'val_accuracy': 0.6292906178489702, 'precision': 0.6498510365159943, 'recall': 0.6292906178489702, 'f1-score': 0.6310413422597784, 'macro_f1-score': 0.40077928218271514, 'balanced_accuracy': 0.4054971543134118, 'mcc': 0.5242511956351934, 'train_loss': 0.08711423829095666}\n",
      "Epoch 13/20\n"
     ]
    },
    {
     "name": "stderr",
     "output_type": "stream",
     "text": [
      "100%|██████████| 328/328 [00:27<00:00, 11.95it/s]\n"
     ]
    },
    {
     "name": "stdout",
     "output_type": "stream",
     "text": [
      "{'val_loss': 2.896906809109013, 'val_accuracy': 0.6468344774980931, 'precision': 0.6308560718287374, 'recall': 0.6468344774980931, 'f1-score': 0.6329251022794382, 'macro_f1-score': 0.3865066966691011, 'balanced_accuracy': 0.39692544500260624, 'mcc': 0.5276612529991351, 'train_loss': 0.08392651990998717}\n",
      "Early stopping.\n",
      "\n",
      "[Fold 3]\n",
      "Label distribution after resampling:\n",
      "  label 0: 2471\n",
      "  label 1: 22\n",
      "  label 2: 64\n",
      "  label 3: 24\n",
      "  label 4: 190\n",
      "  label 5: 113\n",
      "  label 6: 93\n",
      "  label 7: 30\n",
      "  label 8: 68\n",
      "  label 9: 30\n",
      "  label 10: 67\n",
      "  label 11: 169\n",
      "  label 12: 190\n",
      "  label 13: 28\n",
      "  label 14: 23\n",
      "  label 15: 25\n",
      "  label 16: 19\n",
      "  label 17: 182\n",
      "  label 18: 92\n",
      "  label 19: 44\n",
      "  label 20: 14\n",
      "  label 21: 35\n",
      "  label 22: 76\n",
      "  label 23: 157\n",
      "  label 24: 13\n",
      "  label 25: 44\n",
      "  label 26: 84\n",
      "  label 27: 48\n",
      "  label 28: 11\n",
      "  label 29: 13\n",
      "  label 30: 11\n",
      "  label 31: 76\n",
      "  label 32: 36\n",
      "  label 33: 31\n",
      "  label 34: 30\n",
      "  label 35: 11\n",
      "  label 36: 21\n",
      "  label 37: 16\n",
      "  label 38: 32\n",
      "  label 39: 11\n",
      "  label 40: 9\n",
      "  label 41: 57\n",
      "  label 42: 18\n",
      "  label 43: 9\n",
      "  label 44: 55\n",
      "  label 45: 241\n",
      "  label 46: 62\n",
      "  label 47: 80\n",
      "model is bert-base-uncased\n"
     ]
    },
    {
     "name": "stderr",
     "output_type": "stream",
     "text": [
      "Some weights of BertForSequenceClassification were not initialized from the model checkpoint at bert-base-uncased and are newly initialized: ['classifier.bias', 'classifier.weight']\n",
      "You should probably TRAIN this model on a down-stream task to be able to use it for predictions and inference.\n"
     ]
    },
    {
     "name": "stdout",
     "output_type": "stream",
     "text": [
      "Using weighted CrossEntropyLoss with weights: tensor([0.7527, 5.4740, 4.4061, 5.3870, 3.3180, 3.8376, 4.0324, 5.1638, 4.3455,\n",
      "        5.1638, 4.3603, 3.4351, 3.3180, 5.2328, 5.4295, 5.3462, 5.6206, 3.3610,\n",
      "        4.0432, 4.7808, 5.9260, 5.0097, 4.2343, 3.5088, 6.0001, 4.7808, 4.1342,\n",
      "        4.6938, 6.1671, 6.0001, 6.1671, 4.2343, 4.9815, 5.1310, 5.1638, 6.1671,\n",
      "        5.5205, 5.7924, 5.0993, 6.1671, 6.3678, 4.5220, 5.6747, 6.3678, 4.5577,\n",
      "        3.0802, 4.4379, 4.1830], device='cuda:0')\n",
      "Epoch 1/20\n"
     ]
    },
    {
     "name": "stderr",
     "output_type": "stream",
     "text": [
      "100%|██████████| 328/328 [00:27<00:00, 11.94it/s]\n"
     ]
    },
    {
     "name": "stdout",
     "output_type": "stream",
     "text": [
      "{'val_loss': 3.008326082694821, 'val_accuracy': 0.555301296720061, 'precision': 0.3448385401085387, 'recall': 0.555301296720061, 'f1-score': 0.42115238164318836, 'macro_f1-score': 0.057324454930726854, 'balanced_accuracy': 0.07141203649355282, 'mcc': 0.33216382464715677, 'train_loss': 2.26893386753594}\n",
      "Epoch 2/20\n"
     ]
    },
    {
     "name": "stderr",
     "output_type": "stream",
     "text": [
      "100%|██████████| 328/328 [00:27<00:00, 11.94it/s]\n"
     ]
    },
    {
     "name": "stdout",
     "output_type": "stream",
     "text": [
      "{'val_loss': 2.5461932159051663, 'val_accuracy': 0.5919145690312738, 'precision': 0.5048889635686244, 'recall': 0.5919145690312738, 'f1-score': 0.521542611107888, 'macro_f1-score': 0.1476260660148723, 'balanced_accuracy': 0.15718478343766, 'mcc': 0.426347697237228, 'train_loss': 1.6083762204138243}\n",
      "Epoch 3/20\n"
     ]
    },
    {
     "name": "stderr",
     "output_type": "stream",
     "text": [
      "100%|██████████| 328/328 [00:27<00:00, 11.95it/s]\n"
     ]
    },
    {
     "name": "stdout",
     "output_type": "stream",
     "text": [
      "{'val_loss': 2.123413382506952, 'val_accuracy': 0.5903890160183066, 'precision': 0.5784002709240403, 'recall': 0.5903890160183066, 'f1-score': 0.5718167409995686, 'macro_f1-score': 0.23127151462090226, 'balanced_accuracy': 0.25514182399980917, 'mcc': 0.4635432196888919, 'train_loss': 1.2039956055218126}\n",
      "Epoch 4/20\n"
     ]
    },
    {
     "name": "stderr",
     "output_type": "stream",
     "text": [
      "100%|██████████| 328/328 [00:27<00:00, 11.96it/s]\n"
     ]
    },
    {
     "name": "stdout",
     "output_type": "stream",
     "text": [
      "{'val_loss': 2.3655808720646836, 'val_accuracy': 0.6209000762776506, 'precision': 0.5735303309240017, 'recall': 0.6209000762776506, 'f1-score': 0.5817900493001162, 'macro_f1-score': 0.2329789569456792, 'balanced_accuracy': 0.22538174048704576, 'mcc': 0.4804299252226141, 'train_loss': 0.8433172687342981}\n",
      "Epoch 5/20\n"
     ]
    },
    {
     "name": "stderr",
     "output_type": "stream",
     "text": [
      "100%|██████████| 328/328 [00:27<00:00, 11.94it/s]\n"
     ]
    },
    {
     "name": "stdout",
     "output_type": "stream",
     "text": [
      "{'val_loss': 2.339189037680626, 'val_accuracy': 0.6300533943554538, 'precision': 0.612633384855694, 'recall': 0.6300533943554538, 'f1-score': 0.6111412041425031, 'macro_f1-score': 0.31474824918716554, 'balanced_accuracy': 0.2995664945597349, 'mcc': 0.5027255661622428, 'train_loss': 0.6012770763212224}\n",
      "Epoch 6/20\n"
     ]
    },
    {
     "name": "stderr",
     "output_type": "stream",
     "text": [
      "100%|██████████| 328/328 [00:27<00:00, 11.94it/s]\n"
     ]
    },
    {
     "name": "stdout",
     "output_type": "stream",
     "text": [
      "{'val_loss': 2.503814191716473, 'val_accuracy': 0.6247139588100686, 'precision': 0.6046638065804519, 'recall': 0.6247139588100686, 'f1-score': 0.6057592602202432, 'macro_f1-score': 0.3021259579076379, 'balanced_accuracy': 0.2972509953411921, 'mcc': 0.4982976981556251, 'train_loss': 0.39014808254361877}\n",
      "Epoch 7/20\n"
     ]
    },
    {
     "name": "stderr",
     "output_type": "stream",
     "text": [
      "100%|██████████| 328/328 [00:27<00:00, 11.94it/s]\n"
     ]
    },
    {
     "name": "stdout",
     "output_type": "stream",
     "text": [
      "{'val_loss': 2.5730058986966204, 'val_accuracy': 0.6399694889397407, 'precision': 0.6107434377849066, 'recall': 0.6399694889397407, 'f1-score': 0.6184694832301394, 'macro_f1-score': 0.3317922096943999, 'balanced_accuracy': 0.33112234735094953, 'mcc': 0.5156679210187638, 'train_loss': 0.29314110608112703}\n",
      "Epoch 8/20\n"
     ]
    },
    {
     "name": "stderr",
     "output_type": "stream",
     "text": [
      "100%|██████████| 328/328 [00:27<00:00, 11.95it/s]\n"
     ]
    },
    {
     "name": "stdout",
     "output_type": "stream",
     "text": [
      "{'val_loss': 3.073134681073631, 'val_accuracy': 0.6506483600305111, 'precision': 0.603491566959775, 'recall': 0.6506483600305111, 'f1-score': 0.6119145186515735, 'macro_f1-score': 0.34048940163571145, 'balanced_accuracy': 0.3103749302052931, 'mcc': 0.5145806232188684, 'train_loss': 0.21097277849912643}\n",
      "Epoch 9/20\n"
     ]
    },
    {
     "name": "stderr",
     "output_type": "stream",
     "text": [
      "100%|██████████| 328/328 [00:27<00:00, 11.94it/s]\n"
     ]
    },
    {
     "name": "stdout",
     "output_type": "stream",
     "text": [
      "{'val_loss': 2.748822414656965, 'val_accuracy': 0.6514111365369947, 'precision': 0.6324897184670243, 'recall': 0.6514111365369947, 'f1-score': 0.632020939085835, 'macro_f1-score': 0.3497583337968651, 'balanced_accuracy': 0.3352986710893544, 'mcc': 0.5285744495357921, 'train_loss': 0.18268492092128572}\n",
      "Epoch 10/20\n"
     ]
    },
    {
     "name": "stderr",
     "output_type": "stream",
     "text": [
      "100%|██████████| 328/328 [00:27<00:00, 11.93it/s]\n"
     ]
    },
    {
     "name": "stdout",
     "output_type": "stream",
     "text": [
      "{'val_loss': 2.525532982698301, 'val_accuracy': 0.6247139588100686, 'precision': 0.6486066995419485, 'recall': 0.6247139588100686, 'f1-score': 0.6296649822756352, 'macro_f1-score': 0.3854238877707455, 'balanced_accuracy': 0.39170857289833316, 'mcc': 0.5202377224767991, 'train_loss': 0.12892665802046838}\n",
      "Epoch 11/20\n"
     ]
    },
    {
     "name": "stderr",
     "output_type": "stream",
     "text": [
      "100%|██████████| 328/328 [00:27<00:00, 11.95it/s]\n"
     ]
    },
    {
     "name": "stdout",
     "output_type": "stream",
     "text": [
      "{'val_loss': 2.8815806913303166, 'val_accuracy': 0.6384439359267735, 'precision': 0.6358922185086767, 'recall': 0.6384439359267735, 'f1-score': 0.6311575984358792, 'macro_f1-score': 0.3745307459116596, 'balanced_accuracy': 0.3627922975464535, 'mcc': 0.5182153139900723, 'train_loss': 0.11082530136805073}\n",
      "Epoch 12/20\n"
     ]
    },
    {
     "name": "stderr",
     "output_type": "stream",
     "text": [
      "100%|██████████| 328/328 [00:27<00:00, 11.96it/s]\n"
     ]
    },
    {
     "name": "stdout",
     "output_type": "stream",
     "text": [
      "{'val_loss': 3.1442830573040537, 'val_accuracy': 0.6323417238749046, 'precision': 0.6035638314211507, 'recall': 0.6323417238749046, 'f1-score': 0.6066121744033953, 'macro_f1-score': 0.3221542222076424, 'balanced_accuracy': 0.3064248913006411, 'mcc': 0.4989387018253954, 'train_loss': 0.11062362331686905}\n",
      "Epoch 13/20\n"
     ]
    },
    {
     "name": "stderr",
     "output_type": "stream",
     "text": [
      "100%|██████████| 328/328 [00:27<00:00, 11.94it/s]\n"
     ]
    },
    {
     "name": "stdout",
     "output_type": "stream",
     "text": [
      "{'val_loss': 2.974901148640528, 'val_accuracy': 0.6292906178489702, 'precision': 0.6292155954034022, 'recall': 0.6292906178489702, 'f1-score': 0.6240827013103717, 'macro_f1-score': 0.3583444745647621, 'balanced_accuracy': 0.3550440805867347, 'mcc': 0.514731888515968, 'train_loss': 0.09432837900438733}\n",
      "Early stopping.\n",
      "\n",
      "[Fold 4]\n",
      "Label distribution after resampling:\n",
      "  label 0: 2471\n",
      "  label 1: 22\n",
      "  label 2: 64\n",
      "  label 3: 24\n",
      "  label 4: 190\n",
      "  label 5: 113\n",
      "  label 6: 93\n",
      "  label 7: 31\n",
      "  label 8: 68\n",
      "  label 9: 29\n",
      "  label 10: 67\n",
      "  label 11: 169\n",
      "  label 12: 190\n",
      "  label 13: 29\n",
      "  label 14: 22\n",
      "  label 15: 25\n",
      "  label 16: 19\n",
      "  label 17: 182\n",
      "  label 18: 92\n",
      "  label 19: 44\n",
      "  label 20: 14\n",
      "  label 21: 35\n",
      "  label 22: 76\n",
      "  label 23: 158\n",
      "  label 24: 13\n",
      "  label 25: 44\n",
      "  label 26: 84\n",
      "  label 27: 48\n",
      "  label 28: 11\n",
      "  label 29: 13\n",
      "  label 30: 11\n",
      "  label 31: 75\n",
      "  label 32: 36\n",
      "  label 33: 31\n",
      "  label 34: 30\n",
      "  label 35: 11\n",
      "  label 36: 22\n",
      "  label 37: 16\n",
      "  label 38: 33\n",
      "  label 39: 10\n",
      "  label 40: 9\n",
      "  label 41: 56\n",
      "  label 42: 18\n",
      "  label 43: 9\n",
      "  label 44: 55\n",
      "  label 45: 241\n",
      "  label 46: 62\n",
      "  label 47: 80\n",
      "model is bert-base-uncased\n"
     ]
    },
    {
     "name": "stderr",
     "output_type": "stream",
     "text": [
      "Some weights of BertForSequenceClassification were not initialized from the model checkpoint at bert-base-uncased and are newly initialized: ['classifier.bias', 'classifier.weight']\n",
      "You should probably TRAIN this model on a down-stream task to be able to use it for predictions and inference.\n"
     ]
    },
    {
     "name": "stdout",
     "output_type": "stream",
     "text": [
      "Using weighted CrossEntropyLoss with weights: tensor([0.7527, 5.4740, 4.4061, 5.3870, 3.3180, 3.8376, 4.0324, 5.1310, 4.3455,\n",
      "        5.1977, 4.3603, 3.4351, 3.3180, 5.1977, 5.4740, 5.3462, 5.6206, 3.3610,\n",
      "        4.0432, 4.7808, 5.9260, 5.0097, 4.2343, 3.5024, 6.0001, 4.7808, 4.1342,\n",
      "        4.6938, 6.1671, 6.0001, 6.1671, 4.2475, 4.9815, 5.1310, 5.1638, 6.1671,\n",
      "        5.4740, 5.7924, 5.0685, 6.2624, 6.3678, 4.5397, 5.6747, 6.3678, 4.5577,\n",
      "        3.0802, 4.4379, 4.1830], device='cuda:0')\n",
      "Epoch 1/20\n"
     ]
    },
    {
     "name": "stderr",
     "output_type": "stream",
     "text": [
      "100%|██████████| 328/328 [00:27<00:00, 11.95it/s]\n"
     ]
    },
    {
     "name": "stdout",
     "output_type": "stream",
     "text": [
      "{'val_loss': 2.870944569023644, 'val_accuracy': 0.5583524027459954, 'precision': 0.3715616413102554, 'recall': 0.5583524027459954, 'f1-score': 0.4426654811616546, 'macro_f1-score': 0.06493261013502215, 'balanced_accuracy': 0.08255872932482941, 'mcc': 0.3525217649233034, 'train_loss': 2.230727986409897}\n",
      "Epoch 2/20\n"
     ]
    },
    {
     "name": "stderr",
     "output_type": "stream",
     "text": [
      "100%|██████████| 328/328 [00:27<00:00, 11.95it/s]\n"
     ]
    },
    {
     "name": "stdout",
     "output_type": "stream",
     "text": [
      "{'val_loss': 2.384774527171763, 'val_accuracy': 0.5926773455377574, 'precision': 0.511467482572782, 'recall': 0.5926773455377574, 'f1-score': 0.5278433591820718, 'macro_f1-score': 0.14540692304094277, 'balanced_accuracy': 0.17029333374167877, 'mcc': 0.44536297284295356, 'train_loss': 1.6500068494096034}\n",
      "Epoch 3/20\n"
     ]
    },
    {
     "name": "stderr",
     "output_type": "stream",
     "text": [
      "100%|██████████| 328/328 [00:27<00:00, 11.95it/s]\n"
     ]
    },
    {
     "name": "stdout",
     "output_type": "stream",
     "text": [
      "{'val_loss': 2.3978547799151118, 'val_accuracy': 0.6041189931350115, 'precision': 0.5603428571943168, 'recall': 0.6041189931350115, 'f1-score': 0.5519760370569406, 'macro_f1-score': 0.19370216985970148, 'balanced_accuracy': 0.20076527381204445, 'mcc': 0.45961268962350804, 'train_loss': 1.2477031726299264}\n",
      "Epoch 4/20\n"
     ]
    },
    {
     "name": "stderr",
     "output_type": "stream",
     "text": [
      "100%|██████████| 328/328 [00:27<00:00, 11.93it/s]\n"
     ]
    },
    {
     "name": "stdout",
     "output_type": "stream",
     "text": [
      "{'val_loss': 2.134843658019857, 'val_accuracy': 0.6285278413424866, 'precision': 0.6116628752520432, 'recall': 0.6285278413424866, 'f1-score': 0.6100529460838382, 'macro_f1-score': 0.31169354108674185, 'balanced_accuracy': 0.32021355496796944, 'mcc': 0.5117362771585453, 'train_loss': 0.9138421717486004}\n",
      "Epoch 5/20\n"
     ]
    },
    {
     "name": "stderr",
     "output_type": "stream",
     "text": [
      "100%|██████████| 328/328 [00:27<00:00, 11.94it/s]\n"
     ]
    },
    {
     "name": "stdout",
     "output_type": "stream",
     "text": [
      "{'val_loss': 2.1874410462815588, 'val_accuracy': 0.6460717009916095, 'precision': 0.6471640227219433, 'recall': 0.6460717009916095, 'f1-score': 0.629432964599061, 'macro_f1-score': 0.3262502433870658, 'balanced_accuracy': 0.3252693517918961, 'mcc': 0.5310715926633314, 'train_loss': 0.6409857815086115}\n",
      "Epoch 6/20\n"
     ]
    },
    {
     "name": "stderr",
     "output_type": "stream",
     "text": [
      "100%|██████████| 328/328 [00:27<00:00, 11.93it/s]\n"
     ]
    },
    {
     "name": "stdout",
     "output_type": "stream",
     "text": [
      "{'val_loss': 2.3187774852281664, 'val_accuracy': 0.662090007627765, 'precision': 0.6490428881879762, 'recall': 0.662090007627765, 'f1-score': 0.6463847012946454, 'macro_f1-score': 0.3668804354264017, 'balanced_accuracy': 0.36473291726972284, 'mcc': 0.5503825419791862, 'train_loss': 0.43127346161480357}\n",
      "Epoch 7/20\n"
     ]
    },
    {
     "name": "stderr",
     "output_type": "stream",
     "text": [
      "100%|██████████| 328/328 [00:27<00:00, 11.96it/s]\n"
     ]
    },
    {
     "name": "stdout",
     "output_type": "stream",
     "text": [
      "{'val_loss': 2.387783118319221, 'val_accuracy': 0.6628527841342486, 'precision': 0.6512639866184647, 'recall': 0.6628527841342486, 'f1-score': 0.6494995905124878, 'macro_f1-score': 0.40521934971432, 'balanced_accuracy': 0.39954677285578494, 'mcc': 0.5513643154424867, 'train_loss': 0.2898992352619222}\n",
      "Epoch 8/20\n"
     ]
    },
    {
     "name": "stderr",
     "output_type": "stream",
     "text": [
      "100%|██████████| 328/328 [00:27<00:00, 11.92it/s]\n"
     ]
    },
    {
     "name": "stdout",
     "output_type": "stream",
     "text": [
      "{'val_loss': 2.31871325867932, 'val_accuracy': 0.6338672768878718, 'precision': 0.6559149497152686, 'recall': 0.6338672768878718, 'f1-score': 0.6331013803761707, 'macro_f1-score': 0.3907041159574211, 'balanced_accuracy': 0.40550649114159176, 'mcc': 0.534370120158089, 'train_loss': 0.1982396503615125}\n",
      "Epoch 9/20\n"
     ]
    },
    {
     "name": "stderr",
     "output_type": "stream",
     "text": [
      "100%|██████████| 328/328 [00:27<00:00, 11.93it/s]\n"
     ]
    },
    {
     "name": "stdout",
     "output_type": "stream",
     "text": [
      "{'val_loss': 2.3681863284692533, 'val_accuracy': 0.623951182303585, 'precision': 0.6649219753680018, 'recall': 0.623951182303585, 'f1-score': 0.6351776449787634, 'macro_f1-score': 0.39855695633877275, 'balanced_accuracy': 0.4213181808638617, 'mcc': 0.5260092820587384, 'train_loss': 0.15697298204617166}\n",
      "Epoch 10/20\n"
     ]
    },
    {
     "name": "stderr",
     "output_type": "stream",
     "text": [
      "100%|██████████| 328/328 [00:27<00:00, 11.94it/s]\n"
     ]
    },
    {
     "name": "stdout",
     "output_type": "stream",
     "text": [
      "{'val_loss': 2.634233914860865, 'val_accuracy': 0.6491228070175439, 'precision': 0.6525204758063785, 'recall': 0.6491228070175439, 'f1-score': 0.6400886565817043, 'macro_f1-score': 0.3747422259974553, 'balanced_accuracy': 0.378430297794365, 'mcc': 0.5350805881424344, 'train_loss': 0.13789089021227527}\n",
      "Early stopping.\n",
      "\n",
      "[Fold 5]\n",
      "Label distribution after resampling:\n",
      "  label 0: 2472\n",
      "  label 1: 21\n",
      "  label 2: 64\n",
      "  label 3: 24\n",
      "  label 4: 191\n",
      "  label 5: 112\n",
      "  label 6: 92\n",
      "  label 7: 31\n",
      "  label 8: 68\n",
      "  label 9: 29\n",
      "  label 10: 68\n",
      "  label 11: 168\n",
      "  label 12: 190\n",
      "  label 13: 29\n",
      "  label 14: 22\n",
      "  label 15: 25\n",
      "  label 16: 19\n",
      "  label 17: 183\n",
      "  label 18: 92\n",
      "  label 19: 44\n",
      "  label 20: 14\n",
      "  label 21: 35\n",
      "  label 22: 76\n",
      "  label 23: 158\n",
      "  label 24: 13\n",
      "  label 25: 44\n",
      "  label 26: 84\n",
      "  label 27: 48\n",
      "  label 28: 11\n",
      "  label 29: 13\n",
      "  label 30: 11\n",
      "  label 31: 75\n",
      "  label 32: 36\n",
      "  label 33: 31\n",
      "  label 34: 30\n",
      "  label 35: 11\n",
      "  label 36: 22\n",
      "  label 37: 16\n",
      "  label 38: 33\n",
      "  label 39: 10\n",
      "  label 40: 9\n",
      "  label 41: 57\n",
      "  label 42: 18\n",
      "  label 43: 9\n",
      "  label 44: 54\n",
      "  label 45: 242\n",
      "  label 46: 61\n",
      "  label 47: 80\n",
      "model is bert-base-uncased\n"
     ]
    },
    {
     "name": "stderr",
     "output_type": "stream",
     "text": [
      "Some weights of BertForSequenceClassification were not initialized from the model checkpoint at bert-base-uncased and are newly initialized: ['classifier.bias', 'classifier.weight']\n",
      "You should probably TRAIN this model on a down-stream task to be able to use it for predictions and inference.\n"
     ]
    },
    {
     "name": "stdout",
     "output_type": "stream",
     "text": [
      "Using weighted CrossEntropyLoss with weights: tensor([0.7522, 5.5205, 4.4061, 5.3870, 3.3128, 3.8465, 4.0432, 5.1310, 4.3455,\n",
      "        5.1977, 4.3455, 3.4411, 3.3180, 5.1977, 5.4740, 5.3462, 5.6206, 3.3555,\n",
      "        4.0432, 4.7808, 5.9260, 5.0097, 4.2343, 3.5024, 6.0001, 4.7808, 4.1342,\n",
      "        4.6938, 6.1671, 6.0001, 6.1671, 4.2475, 4.9815, 5.1310, 5.1638, 6.1671,\n",
      "        5.4740, 5.7924, 5.0685, 6.2624, 6.3678, 4.5220, 5.6747, 6.3678, 4.5760,\n",
      "        3.0761, 4.4542, 4.1830], device='cuda:0')\n",
      "Epoch 1/20\n"
     ]
    },
    {
     "name": "stderr",
     "output_type": "stream",
     "text": [
      "100%|██████████| 328/328 [00:27<00:00, 11.95it/s]\n"
     ]
    },
    {
     "name": "stdout",
     "output_type": "stream",
     "text": [
      "{'val_loss': 2.7691811483080793, 'val_accuracy': 0.5812356979405034, 'precision': 0.4222131022706686, 'recall': 0.5812356979405034, 'f1-score': 0.47533633111413615, 'macro_f1-score': 0.07929883532952174, 'balanced_accuracy': 0.101828425449328, 'mcc': 0.40122133122241793, 'train_loss': 2.21105130416591}\n",
      "Epoch 2/20\n"
     ]
    },
    {
     "name": "stderr",
     "output_type": "stream",
     "text": [
      "100%|██████████| 328/328 [00:27<00:00, 11.93it/s]\n"
     ]
    },
    {
     "name": "stdout",
     "output_type": "stream",
     "text": [
      "{'val_loss': 2.5774609533751884, 'val_accuracy': 0.6094584286803967, 'precision': 0.4892572812805574, 'recall': 0.6094584286803967, 'f1-score': 0.5170839647339736, 'macro_f1-score': 0.15699019878708115, 'balanced_accuracy': 0.1602525564054608, 'mcc': 0.44033150063246906, 'train_loss': 1.6181831915931004}\n",
      "Epoch 3/20\n"
     ]
    },
    {
     "name": "stderr",
     "output_type": "stream",
     "text": [
      "100%|██████████| 328/328 [00:27<00:00, 11.94it/s]\n"
     ]
    },
    {
     "name": "stdout",
     "output_type": "stream",
     "text": [
      "{'val_loss': 2.202116600987388, 'val_accuracy': 0.6430205949656751, 'precision': 0.5628486402323906, 'recall': 0.6430205949656751, 'f1-score': 0.5909259932683743, 'macro_f1-score': 0.22882560907468555, 'balanced_accuracy': 0.23057903066259686, 'mcc': 0.5080384406941654, 'train_loss': 1.2432882535475782}\n",
      "Epoch 4/20\n"
     ]
    },
    {
     "name": "stderr",
     "output_type": "stream",
     "text": [
      "100%|██████████| 328/328 [00:27<00:00, 11.94it/s]\n"
     ]
    },
    {
     "name": "stdout",
     "output_type": "stream",
     "text": [
      "{'val_loss': 2.0877577527994062, 'val_accuracy': 0.6407322654462243, 'precision': 0.625252773481899, 'recall': 0.6407322654462243, 'f1-score': 0.6211977349701359, 'macro_f1-score': 0.3083320461981419, 'balanced_accuracy': 0.31868468583146736, 'mcc': 0.5281510496093917, 'train_loss': 0.8986277379913301}\n",
      "Epoch 5/20\n"
     ]
    },
    {
     "name": "stderr",
     "output_type": "stream",
     "text": [
      "100%|██████████| 328/328 [00:27<00:00, 11.95it/s]\n"
     ]
    },
    {
     "name": "stdout",
     "output_type": "stream",
     "text": [
      "{'val_loss': 2.2202457451238864, 'val_accuracy': 0.6651411136536994, 'precision': 0.6251980470512786, 'recall': 0.6651411136536994, 'f1-score': 0.6374293322712069, 'macro_f1-score': 0.33180913127164374, 'balanced_accuracy': 0.32249732754006755, 'mcc': 0.5508817875931064, 'train_loss': 0.6364272651149006}\n",
      "Epoch 6/20\n"
     ]
    },
    {
     "name": "stderr",
     "output_type": "stream",
     "text": [
      "100%|██████████| 328/328 [00:27<00:00, 11.92it/s]\n"
     ]
    },
    {
     "name": "stdout",
     "output_type": "stream",
     "text": [
      "{'val_loss': 2.1164129863425, 'val_accuracy': 0.6483600305110603, 'precision': 0.6610831381982536, 'recall': 0.6483600305110603, 'f1-score': 0.6473798010006617, 'macro_f1-score': 0.3804447003571167, 'balanced_accuracy': 0.3842238385387678, 'mcc': 0.5464453980819061, 'train_loss': 0.44069198688219596}\n",
      "Epoch 7/20\n"
     ]
    },
    {
     "name": "stderr",
     "output_type": "stream",
     "text": [
      "100%|██████████| 328/328 [00:27<00:00, 11.94it/s]\n"
     ]
    },
    {
     "name": "stdout",
     "output_type": "stream",
     "text": [
      "{'val_loss': 2.1915498248687606, 'val_accuracy': 0.6453089244851259, 'precision': 0.6716290779976342, 'recall': 0.6453089244851259, 'f1-score': 0.6464071427246869, 'macro_f1-score': 0.40935942514241513, 'balanced_accuracy': 0.40639905005788385, 'mcc': 0.5501901295458085, 'train_loss': 0.3220765297017174}\n",
      "Epoch 8/20\n"
     ]
    },
    {
     "name": "stderr",
     "output_type": "stream",
     "text": [
      "100%|██████████| 328/328 [00:27<00:00, 11.93it/s]\n"
     ]
    },
    {
     "name": "stdout",
     "output_type": "stream",
     "text": [
      "{'val_loss': 2.3593841940164566, 'val_accuracy': 0.658276125095347, 'precision': 0.6615106053126294, 'recall': 0.658276125095347, 'f1-score': 0.6527159342189203, 'macro_f1-score': 0.41175346581487826, 'balanced_accuracy': 0.4063798561964466, 'mcc': 0.552690307471336, 'train_loss': 0.23832714944941605}\n",
      "Epoch 9/20\n"
     ]
    },
    {
     "name": "stderr",
     "output_type": "stream",
     "text": [
      "100%|██████████| 328/328 [00:27<00:00, 11.95it/s]\n"
     ]
    },
    {
     "name": "stdout",
     "output_type": "stream",
     "text": [
      "{'val_loss': 2.717804181321365, 'val_accuracy': 0.6712433257055682, 'precision': 0.6615654980985317, 'recall': 0.6712433257055682, 'f1-score': 0.652745043079816, 'macro_f1-score': 0.4217845048615767, 'balanced_accuracy': 0.40237920042049896, 'mcc': 0.5545596136313231, 'train_loss': 0.16861589367660443}\n",
      "Epoch 10/20\n"
     ]
    },
    {
     "name": "stderr",
     "output_type": "stream",
     "text": [
      "100%|██████████| 328/328 [00:27<00:00, 11.93it/s]\n"
     ]
    },
    {
     "name": "stdout",
     "output_type": "stream",
     "text": [
      "{'val_loss': 2.692083775997162, 'val_accuracy': 0.658276125095347, 'precision': 0.6544496823282551, 'recall': 0.658276125095347, 'f1-score': 0.6471427163095074, 'macro_f1-score': 0.4055755307835627, 'balanced_accuracy': 0.4194140221442186, 'mcc': 0.5538584746007331, 'train_loss': 0.12914266907212482}\n",
      "Epoch 11/20\n"
     ]
    },
    {
     "name": "stderr",
     "output_type": "stream",
     "text": [
      "100%|██████████| 328/328 [00:27<00:00, 11.93it/s]\n"
     ]
    },
    {
     "name": "stdout",
     "output_type": "stream",
     "text": [
      "{'val_loss': 2.5293771711791435, 'val_accuracy': 0.6796338672768879, 'precision': 0.6713467283592699, 'recall': 0.6796338672768879, 'f1-score': 0.6674575171746517, 'macro_f1-score': 0.4617740133765485, 'balanced_accuracy': 0.4403136339674509, 'mcc': 0.5718078656861716, 'train_loss': 0.11703414601847394}\n",
      "Epoch 12/20\n"
     ]
    },
    {
     "name": "stderr",
     "output_type": "stream",
     "text": [
      "100%|██████████| 328/328 [00:27<00:00, 11.94it/s]\n"
     ]
    },
    {
     "name": "stdout",
     "output_type": "stream",
     "text": [
      "{'val_loss': 2.7204750674526865, 'val_accuracy': 0.6567505720823799, 'precision': 0.6535425617300855, 'recall': 0.6567505720823799, 'f1-score': 0.6438210125307832, 'macro_f1-score': 0.39508667489034693, 'balanced_accuracy': 0.3677818809326852, 'mcc': 0.5448198947501288, 'train_loss': 0.11771685234980839}\n",
      "Epoch 13/20\n"
     ]
    },
    {
     "name": "stderr",
     "output_type": "stream",
     "text": [
      "100%|██████████| 328/328 [00:27<00:00, 11.95it/s]\n"
     ]
    },
    {
     "name": "stdout",
     "output_type": "stream",
     "text": [
      "{'val_loss': 2.7522306529487053, 'val_accuracy': 0.6529366895499619, 'precision': 0.6537916517124291, 'recall': 0.6529366895499619, 'f1-score': 0.647306917468322, 'macro_f1-score': 0.42705669277326014, 'balanced_accuracy': 0.4198946989558399, 'mcc': 0.5434795327288691, 'train_loss': 0.09256772306412686}\n",
      "Epoch 14/20\n"
     ]
    },
    {
     "name": "stderr",
     "output_type": "stream",
     "text": [
      "100%|██████████| 328/328 [00:27<00:00, 11.93it/s]\n"
     ]
    },
    {
     "name": "stdout",
     "output_type": "stream",
     "text": [
      "{'val_loss': 2.8135926643522775, 'val_accuracy': 0.6567505720823799, 'precision': 0.6636959974999217, 'recall': 0.6567505720823799, 'f1-score': 0.6488036733559608, 'macro_f1-score': 0.39642231248333926, 'balanced_accuracy': 0.39528417642778885, 'mcc': 0.5481048652013744, 'train_loss': 0.09235085748922557}\n",
      "Early stopping.\n",
      "\n",
      " === bert-base-uncased + plain + none Final 5-fold Cross-Validation Results ===\n",
      "val_loss: 2.5993\n",
      "val_accuracy: 0.6591\n",
      "precision: 0.6546\n",
      "recall: 0.6591\n",
      "f1-score: 0.6480\n",
      "macro_f1-score: 0.4197\n",
      "balanced_accuracy: 0.4141\n",
      "mcc: 0.5479\n",
      "train_loss: 0.1636\n",
      "total_seconds: 1986.0000\n",
      "total_time: 0 hrs 33 mins 6 secs\n",
      "▶ Running: bert-base-uncased + cnn + none\n",
      "tokenizer is bert-base-uncased\n",
      "Using device: cuda\n",
      "CUDA Available: True\n",
      "CUDA Device: NVIDIA GeForce RTX 5070 Ti\n",
      "Current GPU Memory Allocated: 0.02 GB\n",
      "Current GPU Memory Cached: 3.04 GB\n",
      "\n",
      "[Fold 1]\n",
      "Label distribution after resampling:\n",
      "  label 0: 2471\n",
      "  label 1: 21\n",
      "  label 2: 64\n",
      "  label 3: 24\n",
      "  label 4: 191\n",
      "  label 5: 113\n",
      "  label 6: 93\n",
      "  label 7: 30\n",
      "  label 8: 68\n",
      "  label 9: 30\n",
      "  label 10: 67\n",
      "  label 11: 169\n",
      "  label 12: 189\n",
      "  label 13: 29\n",
      "  label 14: 22\n",
      "  label 15: 25\n",
      "  label 16: 19\n",
      "  label 17: 183\n",
      "  label 18: 92\n",
      "  label 19: 44\n",
      "  label 20: 13\n",
      "  label 21: 35\n",
      "  label 22: 76\n",
      "  label 23: 158\n",
      "  label 24: 13\n",
      "  label 25: 44\n",
      "  label 26: 84\n",
      "  label 27: 48\n",
      "  label 28: 11\n",
      "  label 29: 13\n",
      "  label 30: 11\n",
      "  label 31: 75\n",
      "  label 32: 36\n",
      "  label 33: 32\n",
      "  label 34: 29\n",
      "  label 35: 11\n",
      "  label 36: 22\n",
      "  label 37: 16\n",
      "  label 38: 33\n",
      "  label 39: 10\n",
      "  label 40: 9\n",
      "  label 41: 57\n",
      "  label 42: 19\n",
      "  label 43: 8\n",
      "  label 44: 54\n",
      "  label 45: 242\n",
      "  label 46: 61\n",
      "  label 47: 80\n",
      "model is bert-base-uncased cnn\n",
      "Using weighted CrossEntropyLoss with weights: tensor([0.7525, 5.5203, 4.4060, 5.3868, 3.3126, 3.8375, 4.0322, 5.1636, 4.3453,\n",
      "        5.1636, 4.3601, 3.4349, 3.3231, 5.1975, 5.4738, 5.3460, 5.6204, 3.3554,\n",
      "        4.0431, 4.7807, 5.9999, 5.0095, 4.2341, 3.5022, 5.9999, 4.7807, 4.1340,\n",
      "        4.6936, 6.1669, 5.9999, 6.1669, 4.2474, 4.9813, 5.0991, 5.1975, 6.1669,\n",
      "        5.4738, 5.7923, 5.0683, 6.2623, 6.3676, 4.5218, 5.6204, 6.4854, 4.5759,\n",
      "        3.0759, 4.4540, 4.1828], device='cuda:0')\n",
      "Epoch 1/20\n"
     ]
    },
    {
     "name": "stderr",
     "output_type": "stream",
     "text": [
      "100%|██████████| 328/328 [00:28<00:00, 11.65it/s]\n"
     ]
    },
    {
     "name": "stdout",
     "output_type": "stream",
     "text": [
      "{'val_loss': 2.9543233891812766, 'val_accuracy': 0.5533536585365854, 'precision': 0.42312262781883636, 'recall': 0.5533536585365854, 'f1-score': 0.4369328642777422, 'macro_f1-score': 0.08333678176154873, 'balanced_accuracy': 0.08116337223685217, 'mcc': 0.32503150049717966, 'train_loss': 2.2373287081718445}\n",
      "Epoch 2/20\n"
     ]
    },
    {
     "name": "stderr",
     "output_type": "stream",
     "text": [
      "100%|██████████| 328/328 [00:28<00:00, 11.69it/s]\n"
     ]
    },
    {
     "name": "stdout",
     "output_type": "stream",
     "text": [
      "{'val_loss': 2.428622494383556, 'val_accuracy': 0.6105182926829268, 'precision': 0.5328240973871672, 'recall': 0.6105182926829268, 'f1-score': 0.5541276732772953, 'macro_f1-score': 0.18154038218586724, 'balanced_accuracy': 0.1900187205293944, 'mcc': 0.4584134163513615, 'train_loss': 1.6715025796395977}\n",
      "Epoch 3/20\n"
     ]
    },
    {
     "name": "stderr",
     "output_type": "stream",
     "text": [
      "100%|██████████| 328/328 [00:28<00:00, 11.68it/s]\n"
     ]
    },
    {
     "name": "stdout",
     "output_type": "stream",
     "text": [
      "{'val_loss': 2.198991284137819, 'val_accuracy': 0.6349085365853658, 'precision': 0.5707613786298705, 'recall': 0.6349085365853658, 'f1-score': 0.5908045116709938, 'macro_f1-score': 0.2622638647558828, 'balanced_accuracy': 0.2726061238242818, 'mcc': 0.5022572886248191, 'train_loss': 1.2766610414880077}\n",
      "Epoch 4/20\n"
     ]
    },
    {
     "name": "stderr",
     "output_type": "stream",
     "text": [
      "100%|██████████| 328/328 [00:28<00:00, 11.68it/s]\n"
     ]
    },
    {
     "name": "stdout",
     "output_type": "stream",
     "text": [
      "{'val_loss': 2.3531133961386796, 'val_accuracy': 0.631859756097561, 'precision': 0.5810390590702516, 'recall': 0.631859756097561, 'f1-score': 0.5906969074914067, 'macro_f1-score': 0.2712931431291247, 'balanced_accuracy': 0.26626044331108956, 'mcc': 0.4903636868412965, 'train_loss': 0.9694419441426673}\n",
      "Epoch 5/20\n"
     ]
    },
    {
     "name": "stderr",
     "output_type": "stream",
     "text": [
      "100%|██████████| 328/328 [00:28<00:00, 11.68it/s]\n"
     ]
    },
    {
     "name": "stdout",
     "output_type": "stream",
     "text": [
      "{'val_loss': 2.0037336436713615, 'val_accuracy': 0.6135670731707317, 'precision': 0.61738874550488, 'recall': 0.6135670731707317, 'f1-score': 0.6078588037290894, 'macro_f1-score': 0.3472159311316673, 'balanced_accuracy': 0.3564631252369779, 'mcc': 0.5032298266226999, 'train_loss': 0.7099158929365619}\n",
      "Epoch 6/20\n"
     ]
    },
    {
     "name": "stderr",
     "output_type": "stream",
     "text": [
      "100%|██████████| 328/328 [00:28<00:00, 11.69it/s]\n"
     ]
    },
    {
     "name": "stdout",
     "output_type": "stream",
     "text": [
      "{'val_loss': 2.6061668112510588, 'val_accuracy': 0.6547256097560976, 'precision': 0.6522341261165242, 'recall': 0.6547256097560976, 'f1-score': 0.6343556379605935, 'macro_f1-score': 0.3688008932532636, 'balanced_accuracy': 0.34352443024588997, 'mcc': 0.5298630618490512, 'train_loss': 0.4994860482061418}\n",
      "Epoch 7/20\n"
     ]
    },
    {
     "name": "stderr",
     "output_type": "stream",
     "text": [
      "100%|██████████| 328/328 [00:28<00:00, 11.68it/s]\n"
     ]
    },
    {
     "name": "stdout",
     "output_type": "stream",
     "text": [
      "{'val_loss': 2.8797466126157016, 'val_accuracy': 0.6577743902439024, 'precision': 0.6426336089687066, 'recall': 0.6577743902439024, 'f1-score': 0.6308500719681694, 'macro_f1-score': 0.3586426622693453, 'balanced_accuracy': 0.34298226052251285, 'mcc': 0.5310838174547329, 'train_loss': 0.36396929914722354}\n",
      "Epoch 8/20\n"
     ]
    },
    {
     "name": "stderr",
     "output_type": "stream",
     "text": [
      "100%|██████████| 328/328 [00:28<00:00, 11.67it/s]\n"
     ]
    },
    {
     "name": "stdout",
     "output_type": "stream",
     "text": [
      "{'val_loss': 2.853187873232655, 'val_accuracy': 0.6509146341463414, 'precision': 0.6391562719056425, 'recall': 0.6509146341463414, 'f1-score': 0.6344838156737953, 'macro_f1-score': 0.3991689358599098, 'balanced_accuracy': 0.3827393166412501, 'mcc': 0.5259709090622136, 'train_loss': 0.2713177609143824}\n",
      "Epoch 9/20\n"
     ]
    },
    {
     "name": "stderr",
     "output_type": "stream",
     "text": [
      "100%|██████████| 328/328 [00:28<00:00, 11.68it/s]\n"
     ]
    },
    {
     "name": "stdout",
     "output_type": "stream",
     "text": [
      "{'val_loss': 2.5929239981058165, 'val_accuracy': 0.6280487804878049, 'precision': 0.6559540415666322, 'recall': 0.6280487804878049, 'f1-score': 0.6319931943255597, 'macro_f1-score': 0.4235066266166105, 'balanced_accuracy': 0.4459667231504234, 'mcc': 0.5215995859176731, 'train_loss': 0.22020811000100632}\n",
      "Epoch 10/20\n"
     ]
    },
    {
     "name": "stderr",
     "output_type": "stream",
     "text": [
      "100%|██████████| 328/328 [00:28<00:00, 11.69it/s]\n"
     ]
    },
    {
     "name": "stdout",
     "output_type": "stream",
     "text": [
      "{'val_loss': 2.8590310274100883, 'val_accuracy': 0.6516768292682927, 'precision': 0.653664161012694, 'recall': 0.6516768292682927, 'f1-score': 0.6380193780888328, 'macro_f1-score': 0.42689805304006995, 'balanced_accuracy': 0.43013609047445106, 'mcc': 0.534973720605995, 'train_loss': 0.16042916278962455}\n",
      "Epoch 11/20\n"
     ]
    },
    {
     "name": "stderr",
     "output_type": "stream",
     "text": [
      "100%|██████████| 328/328 [00:28<00:00, 11.67it/s]\n"
     ]
    },
    {
     "name": "stdout",
     "output_type": "stream",
     "text": [
      "{'val_loss': 3.5700287430024726, 'val_accuracy': 0.6310975609756098, 'precision': 0.6119426115903615, 'recall': 0.6310975609756098, 'f1-score': 0.6033246018447711, 'macro_f1-score': 0.35434362902180233, 'balanced_accuracy': 0.3415501201924424, 'mcc': 0.4908324942528435, 'train_loss': 0.1296652844182795}\n",
      "Epoch 12/20\n"
     ]
    },
    {
     "name": "stderr",
     "output_type": "stream",
     "text": [
      "100%|██████████| 328/328 [00:28<00:00, 11.68it/s]\n"
     ]
    },
    {
     "name": "stdout",
     "output_type": "stream",
     "text": [
      "{'val_loss': 3.1469331274672254, 'val_accuracy': 0.6272865853658537, 'precision': 0.6305856152032615, 'recall': 0.6272865853658537, 'f1-score': 0.6168329708340515, 'macro_f1-score': 0.3892378299539909, 'balanced_accuracy': 0.39231014682987636, 'mcc': 0.5047669845575629, 'train_loss': 0.1269020880359543}\n",
      "Epoch 13/20\n"
     ]
    },
    {
     "name": "stderr",
     "output_type": "stream",
     "text": [
      "100%|██████████| 328/328 [00:28<00:00, 11.69it/s]\n"
     ]
    },
    {
     "name": "stdout",
     "output_type": "stream",
     "text": [
      "{'val_loss': 3.442409326027079, 'val_accuracy': 0.6341463414634146, 'precision': 0.6217429424530485, 'recall': 0.6341463414634146, 'f1-score': 0.6143670356647051, 'macro_f1-score': 0.3884656879620601, 'balanced_accuracy': 0.375861310938346, 'mcc': 0.5010031808440961, 'train_loss': 0.1412685455317132}\n",
      "Early stopping.\n",
      "\n",
      "[Fold 2]\n",
      "Label distribution after resampling:\n",
      "  label 0: 2471\n",
      "  label 1: 22\n",
      "  label 2: 64\n",
      "  label 3: 24\n",
      "  label 4: 190\n",
      "  label 5: 113\n",
      "  label 6: 93\n",
      "  label 7: 30\n",
      "  label 8: 68\n",
      "  label 9: 30\n",
      "  label 10: 67\n",
      "  label 11: 169\n",
      "  label 12: 189\n",
      "  label 13: 29\n",
      "  label 14: 23\n",
      "  label 15: 24\n",
      "  label 16: 20\n",
      "  label 17: 182\n",
      "  label 18: 92\n",
      "  label 19: 44\n",
      "  label 20: 13\n",
      "  label 21: 36\n",
      "  label 22: 76\n",
      "  label 23: 157\n",
      "  label 24: 12\n",
      "  label 25: 44\n",
      "  label 26: 84\n",
      "  label 27: 48\n",
      "  label 28: 12\n",
      "  label 29: 12\n",
      "  label 30: 12\n",
      "  label 31: 75\n",
      "  label 32: 36\n",
      "  label 33: 31\n",
      "  label 34: 29\n",
      "  label 35: 12\n",
      "  label 36: 21\n",
      "  label 37: 16\n",
      "  label 38: 33\n",
      "  label 39: 11\n",
      "  label 40: 8\n",
      "  label 41: 57\n",
      "  label 42: 19\n",
      "  label 43: 9\n",
      "  label 44: 54\n",
      "  label 45: 242\n",
      "  label 46: 62\n",
      "  label 47: 80\n",
      "model is bert-base-uncased cnn\n",
      "Using weighted CrossEntropyLoss with weights: tensor([0.7527, 5.4740, 4.4061, 5.3870, 3.3180, 3.8376, 4.0324, 5.1638, 4.3455,\n",
      "        5.1638, 4.3603, 3.4351, 3.3233, 5.1977, 5.4295, 5.3870, 5.5693, 3.3610,\n",
      "        4.0432, 4.7808, 6.0001, 4.9815, 4.2343, 3.5088, 6.0801, 4.7808, 4.1342,\n",
      "        4.6938, 6.0801, 6.0801, 6.0801, 4.2475, 4.9815, 5.1310, 5.1977, 6.0801,\n",
      "        5.5205, 5.7924, 5.0685, 6.1671, 6.4856, 4.5220, 5.6206, 6.3678, 4.5760,\n",
      "        3.0761, 4.4379, 4.1830], device='cuda:0')\n",
      "Epoch 1/20\n"
     ]
    },
    {
     "name": "stderr",
     "output_type": "stream",
     "text": [
      "100%|██████████| 328/328 [00:28<00:00, 11.70it/s]\n"
     ]
    },
    {
     "name": "stdout",
     "output_type": "stream",
     "text": [
      "{'val_loss': 2.985089245365887, 'val_accuracy': 0.5568268497330282, 'precision': 0.38928170821790825, 'recall': 0.5568268497330282, 'f1-score': 0.4382397727185534, 'macro_f1-score': 0.05626398913114466, 'balanced_accuracy': 0.07726576999872693, 'mcc': 0.35886074611724317, 'train_loss': 2.3044304124465804}\n",
      "Epoch 2/20\n"
     ]
    },
    {
     "name": "stderr",
     "output_type": "stream",
     "text": [
      "100%|██████████| 328/328 [00:28<00:00, 11.67it/s]\n"
     ]
    },
    {
     "name": "stdout",
     "output_type": "stream",
     "text": [
      "{'val_loss': 2.408323677574716, 'val_accuracy': 0.6041189931350115, 'precision': 0.4945077738067335, 'recall': 0.6041189931350115, 'f1-score': 0.523627505149684, 'macro_f1-score': 0.1316148450244531, 'balanced_accuracy': 0.1428171261515574, 'mcc': 0.4450190456414336, 'train_loss': 1.7892127213318174}\n",
      "Epoch 3/20\n"
     ]
    },
    {
     "name": "stderr",
     "output_type": "stream",
     "text": [
      "100%|██████████| 328/328 [00:28<00:00, 11.69it/s]\n"
     ]
    },
    {
     "name": "stdout",
     "output_type": "stream",
     "text": [
      "{'val_loss': 2.3160587970803426, 'val_accuracy': 0.6170861937452327, 'precision': 0.5354561336826985, 'recall': 0.6170861937452327, 'f1-score': 0.5630758314684967, 'macro_f1-score': 0.20155179830459882, 'balanced_accuracy': 0.2096038795124331, 'mcc': 0.47593826410481427, 'train_loss': 1.4436914665488207}\n",
      "Epoch 4/20\n"
     ]
    },
    {
     "name": "stderr",
     "output_type": "stream",
     "text": [
      "100%|██████████| 328/328 [00:28<00:00, 11.67it/s]\n"
     ]
    },
    {
     "name": "stdout",
     "output_type": "stream",
     "text": [
      "{'val_loss': 2.49956882436101, 'val_accuracy': 0.6392067124332571, 'precision': 0.5541785040847829, 'recall': 0.6392067124332571, 'f1-score': 0.5689225723585789, 'macro_f1-score': 0.21612392732694355, 'balanced_accuracy': 0.210078757427992, 'mcc': 0.4904594948176437, 'train_loss': 1.0904727359188766}\n",
      "Epoch 5/20\n"
     ]
    },
    {
     "name": "stderr",
     "output_type": "stream",
     "text": [
      "100%|██████████| 328/328 [00:28<00:00, 11.70it/s]\n"
     ]
    },
    {
     "name": "stdout",
     "output_type": "stream",
     "text": [
      "{'val_loss': 2.147780187973162, 'val_accuracy': 0.6445461479786423, 'precision': 0.6150315359484129, 'recall': 0.6445461479786423, 'f1-score': 0.6188393400733039, 'macro_f1-score': 0.30391536475637937, 'balanced_accuracy': 0.3271598645235161, 'mcc': 0.5238130799199895, 'train_loss': 0.7971625427556474}\n",
      "Epoch 6/20\n"
     ]
    },
    {
     "name": "stderr",
     "output_type": "stream",
     "text": [
      "100%|██████████| 328/328 [00:28<00:00, 11.66it/s]\n"
     ]
    },
    {
     "name": "stdout",
     "output_type": "stream",
     "text": [
      "{'val_loss': 2.226759835714247, 'val_accuracy': 0.6681922196796338, 'precision': 0.6483841917583028, 'recall': 0.6681922196796338, 'f1-score': 0.6406497093467172, 'macro_f1-score': 0.3475732144996906, 'balanced_accuracy': 0.3481381616652677, 'mcc': 0.5541602198928471, 'train_loss': 0.5976026773498189}\n",
      "Epoch 7/20\n"
     ]
    },
    {
     "name": "stderr",
     "output_type": "stream",
     "text": [
      "100%|██████████| 328/328 [00:28<00:00, 11.67it/s]\n"
     ]
    },
    {
     "name": "stdout",
     "output_type": "stream",
     "text": [
      "{'val_loss': 2.4857752177773453, 'val_accuracy': 0.6514111365369947, 'precision': 0.6307389774027972, 'recall': 0.6514111365369947, 'f1-score': 0.6203244026240586, 'macro_f1-score': 0.338159164647127, 'balanced_accuracy': 0.3351639210836201, 'mcc': 0.526847308103606, 'train_loss': 0.425133159145622}\n",
      "Epoch 8/20\n"
     ]
    },
    {
     "name": "stderr",
     "output_type": "stream",
     "text": [
      "100%|██████████| 328/328 [00:28<00:00, 11.69it/s]\n"
     ]
    },
    {
     "name": "stdout",
     "output_type": "stream",
     "text": [
      "{'val_loss': 2.2898665775613085, 'val_accuracy': 0.6483600305110603, 'precision': 0.6430813606485951, 'recall': 0.6483600305110603, 'f1-score': 0.6374763808585537, 'macro_f1-score': 0.3995733494640114, 'balanced_accuracy': 0.41469742678582194, 'mcc': 0.5375055539975354, 'train_loss': 0.34075935503252125}\n",
      "Epoch 9/20\n"
     ]
    },
    {
     "name": "stderr",
     "output_type": "stream",
     "text": [
      "100%|██████████| 328/328 [00:28<00:00, 11.69it/s]\n"
     ]
    },
    {
     "name": "stdout",
     "output_type": "stream",
     "text": [
      "{'val_loss': 2.7127615191587586, 'val_accuracy': 0.665903890160183, 'precision': 0.6383347570650579, 'recall': 0.665903890160183, 'f1-score': 0.6411884143265701, 'macro_f1-score': 0.39348486312661496, 'balanced_accuracy': 0.3895173582969835, 'mcc': 0.5509529888005535, 'train_loss': 0.23926481325747218}\n",
      "Epoch 10/20\n"
     ]
    },
    {
     "name": "stderr",
     "output_type": "stream",
     "text": [
      "100%|██████████| 328/328 [00:28<00:00, 11.66it/s]\n"
     ]
    },
    {
     "name": "stdout",
     "output_type": "stream",
     "text": [
      "{'val_loss': 2.548870960750231, 'val_accuracy': 0.6437833714721587, 'precision': 0.6426246350782576, 'recall': 0.6437833714721587, 'f1-score': 0.6318536309861119, 'macro_f1-score': 0.3915782269449237, 'balanced_accuracy': 0.40223773166119187, 'mcc': 0.5312263335206228, 'train_loss': 0.21345141160347295}\n",
      "Epoch 11/20\n"
     ]
    },
    {
     "name": "stderr",
     "output_type": "stream",
     "text": [
      "100%|██████████| 328/328 [00:28<00:00, 11.69it/s]\n"
     ]
    },
    {
     "name": "stdout",
     "output_type": "stream",
     "text": [
      "{'val_loss': 2.7430393339657204, 'val_accuracy': 0.6636155606407322, 'precision': 0.6441497265581062, 'recall': 0.6636155606407322, 'f1-score': 0.6452886311632593, 'macro_f1-score': 0.38927485876538137, 'balanced_accuracy': 0.3830762699691328, 'mcc': 0.5468435709230106, 'train_loss': 0.13839383655591164}\n",
      "Early stopping.\n",
      "\n",
      "[Fold 3]\n",
      "Label distribution after resampling:\n",
      "  label 0: 2471\n",
      "  label 1: 22\n",
      "  label 2: 64\n",
      "  label 3: 24\n",
      "  label 4: 190\n",
      "  label 5: 113\n",
      "  label 6: 93\n",
      "  label 7: 30\n",
      "  label 8: 68\n",
      "  label 9: 30\n",
      "  label 10: 67\n",
      "  label 11: 169\n",
      "  label 12: 190\n",
      "  label 13: 28\n",
      "  label 14: 23\n",
      "  label 15: 25\n",
      "  label 16: 19\n",
      "  label 17: 182\n",
      "  label 18: 92\n",
      "  label 19: 44\n",
      "  label 20: 14\n",
      "  label 21: 35\n",
      "  label 22: 76\n",
      "  label 23: 157\n",
      "  label 24: 13\n",
      "  label 25: 44\n",
      "  label 26: 84\n",
      "  label 27: 48\n",
      "  label 28: 11\n",
      "  label 29: 13\n",
      "  label 30: 11\n",
      "  label 31: 76\n",
      "  label 32: 36\n",
      "  label 33: 31\n",
      "  label 34: 30\n",
      "  label 35: 11\n",
      "  label 36: 21\n",
      "  label 37: 16\n",
      "  label 38: 32\n",
      "  label 39: 11\n",
      "  label 40: 9\n",
      "  label 41: 57\n",
      "  label 42: 18\n",
      "  label 43: 9\n",
      "  label 44: 55\n",
      "  label 45: 241\n",
      "  label 46: 62\n",
      "  label 47: 80\n",
      "model is bert-base-uncased cnn\n",
      "Using weighted CrossEntropyLoss with weights: tensor([0.7527, 5.4740, 4.4061, 5.3870, 3.3180, 3.8376, 4.0324, 5.1638, 4.3455,\n",
      "        5.1638, 4.3603, 3.4351, 3.3180, 5.2328, 5.4295, 5.3462, 5.6206, 3.3610,\n",
      "        4.0432, 4.7808, 5.9260, 5.0097, 4.2343, 3.5088, 6.0001, 4.7808, 4.1342,\n",
      "        4.6938, 6.1671, 6.0001, 6.1671, 4.2343, 4.9815, 5.1310, 5.1638, 6.1671,\n",
      "        5.5205, 5.7924, 5.0993, 6.1671, 6.3678, 4.5220, 5.6747, 6.3678, 4.5577,\n",
      "        3.0802, 4.4379, 4.1830], device='cuda:0')\n",
      "Epoch 1/20\n"
     ]
    },
    {
     "name": "stderr",
     "output_type": "stream",
     "text": [
      "100%|██████████| 328/328 [00:28<00:00, 11.69it/s]\n"
     ]
    },
    {
     "name": "stdout",
     "output_type": "stream",
     "text": [
      "{'val_loss': 2.8503079908650095, 'val_accuracy': 0.5697940503432495, 'precision': 0.3936798496455742, 'recall': 0.5697940503432495, 'f1-score': 0.4583187276981113, 'macro_f1-score': 0.09321431077212594, 'balanced_accuracy': 0.10090294890645686, 'mcc': 0.3639898952734837, 'train_loss': 2.2592557069005035}\n",
      "Epoch 2/20\n"
     ]
    },
    {
     "name": "stderr",
     "output_type": "stream",
     "text": [
      "100%|██████████| 328/328 [00:28<00:00, 11.68it/s]\n"
     ]
    },
    {
     "name": "stdout",
     "output_type": "stream",
     "text": [
      "{'val_loss': 2.485274511139567, 'val_accuracy': 0.6041189931350115, 'precision': 0.4839567242638475, 'recall': 0.6041189931350115, 'f1-score': 0.5257261971327015, 'macro_f1-score': 0.17212583779305532, 'balanced_accuracy': 0.17775755966697795, 'mcc': 0.4355423562956875, 'train_loss': 1.6451230818269456}\n",
      "Epoch 3/20\n"
     ]
    },
    {
     "name": "stderr",
     "output_type": "stream",
     "text": [
      "100%|██████████| 328/328 [00:28<00:00, 11.68it/s]\n"
     ]
    },
    {
     "name": "stdout",
     "output_type": "stream",
     "text": [
      "{'val_loss': 2.2679335147869297, 'val_accuracy': 0.5919145690312738, 'precision': 0.5580656992580417, 'recall': 0.5919145690312738, 'f1-score': 0.5549472867843246, 'macro_f1-score': 0.213106994751777, 'balanced_accuracy': 0.22913306174520134, 'mcc': 0.45324669719392424, 'train_loss': 1.2631587603288452}\n",
      "Epoch 4/20\n"
     ]
    },
    {
     "name": "stderr",
     "output_type": "stream",
     "text": [
      "100%|██████████| 328/328 [00:28<00:00, 11.67it/s]\n"
     ]
    },
    {
     "name": "stdout",
     "output_type": "stream",
     "text": [
      "{'val_loss': 2.5050765981034533, 'val_accuracy': 0.6262395118230358, 'precision': 0.5723391294353699, 'recall': 0.6262395118230358, 'f1-score': 0.5838865274863848, 'macro_f1-score': 0.2557218659211271, 'balanced_accuracy': 0.2547267726575143, 'mcc': 0.4868771512754218, 'train_loss': 0.9819027482100376}\n",
      "Epoch 5/20\n"
     ]
    },
    {
     "name": "stderr",
     "output_type": "stream",
     "text": [
      "100%|██████████| 328/328 [00:28<00:00, 11.68it/s]\n"
     ]
    },
    {
     "name": "stdout",
     "output_type": "stream",
     "text": [
      "{'val_loss': 2.2835370876440186, 'val_accuracy': 0.6064073226544623, 'precision': 0.6059768739417715, 'recall': 0.6064073226544623, 'f1-score': 0.598523468861709, 'macro_f1-score': 0.32294124698273813, 'balanced_accuracy': 0.3330775440011521, 'mcc': 0.49062361893186346, 'train_loss': 0.7171993129318808}\n",
      "Epoch 6/20\n"
     ]
    },
    {
     "name": "stderr",
     "output_type": "stream",
     "text": [
      "100%|██████████| 328/328 [00:28<00:00, 11.68it/s]\n"
     ]
    },
    {
     "name": "stdout",
     "output_type": "stream",
     "text": [
      "{'val_loss': 2.8050329041008544, 'val_accuracy': 0.6292906178489702, 'precision': 0.5976945389363253, 'recall': 0.6292906178489702, 'f1-score': 0.6061400741026464, 'macro_f1-score': 0.3178755973321407, 'balanced_accuracy': 0.30101374702263267, 'mcc': 0.4940064806062287, 'train_loss': 0.5089717356419963}\n",
      "Epoch 7/20\n"
     ]
    },
    {
     "name": "stderr",
     "output_type": "stream",
     "text": [
      "100%|██████████| 328/328 [00:28<00:00, 11.67it/s]\n"
     ]
    },
    {
     "name": "stdout",
     "output_type": "stream",
     "text": [
      "{'val_loss': 2.7752837578697904, 'val_accuracy': 0.6369183829138062, 'precision': 0.6270288674065984, 'recall': 0.6369183829138062, 'f1-score': 0.6187218711829835, 'macro_f1-score': 0.3419626787370589, 'balanced_accuracy': 0.31695614281472473, 'mcc': 0.5081885877804823, 'train_loss': 0.37827725521936195}\n",
      "Epoch 8/20\n"
     ]
    },
    {
     "name": "stderr",
     "output_type": "stream",
     "text": [
      "100%|██████████| 328/328 [00:28<00:00, 11.68it/s]\n"
     ]
    },
    {
     "name": "stdout",
     "output_type": "stream",
     "text": [
      "{'val_loss': 2.450657275755231, 'val_accuracy': 0.6033562166285278, 'precision': 0.6539042257277677, 'recall': 0.6033562166285278, 'f1-score': 0.6192976589474948, 'macro_f1-score': 0.40678360135526653, 'balanced_accuracy': 0.41619088540391336, 'mcc': 0.5004502058125836, 'train_loss': 0.2641307866518817}\n",
      "Epoch 9/20\n"
     ]
    },
    {
     "name": "stderr",
     "output_type": "stream",
     "text": [
      "100%|██████████| 328/328 [00:28<00:00, 11.69it/s]\n"
     ]
    },
    {
     "name": "stdout",
     "output_type": "stream",
     "text": [
      "{'val_loss': 2.8837921148756656, 'val_accuracy': 0.6308161708619374, 'precision': 0.6371657819930583, 'recall': 0.6308161708619374, 'f1-score': 0.626344110715224, 'macro_f1-score': 0.38670034469345566, 'balanced_accuracy': 0.3834356823255795, 'mcc': 0.5099870062337591, 'train_loss': 0.20416988027225272}\n",
      "Epoch 10/20\n"
     ]
    },
    {
     "name": "stderr",
     "output_type": "stream",
     "text": [
      "100%|██████████| 328/328 [00:28<00:00, 11.68it/s]\n"
     ]
    },
    {
     "name": "stdout",
     "output_type": "stream",
     "text": [
      "{'val_loss': 3.001043729211499, 'val_accuracy': 0.635392829900839, 'precision': 0.6266817721072233, 'recall': 0.635392829900839, 'f1-score': 0.6192206809409633, 'macro_f1-score': 0.3799544860490354, 'balanced_accuracy': 0.37695432686514546, 'mcc': 0.5104933649419369, 'train_loss': 0.18841605350693189}\n",
      "Epoch 11/20\n"
     ]
    },
    {
     "name": "stderr",
     "output_type": "stream",
     "text": [
      "100%|██████████| 328/328 [00:28<00:00, 11.69it/s]\n"
     ]
    },
    {
     "name": "stdout",
     "output_type": "stream",
     "text": [
      "{'val_loss': 2.843165497045691, 'val_accuracy': 0.620137299771167, 'precision': 0.6360204683640273, 'recall': 0.620137299771167, 'f1-score': 0.6195295672411985, 'macro_f1-score': 0.38400063366018733, 'balanced_accuracy': 0.38878833255715334, 'mcc': 0.5022925262610148, 'train_loss': 0.175463618107265}\n",
      "Early stopping.\n",
      "\n",
      "[Fold 4]\n",
      "Label distribution after resampling:\n",
      "  label 0: 2471\n",
      "  label 1: 22\n",
      "  label 2: 64\n",
      "  label 3: 24\n",
      "  label 4: 190\n",
      "  label 5: 113\n",
      "  label 6: 93\n",
      "  label 7: 31\n",
      "  label 8: 68\n",
      "  label 9: 29\n",
      "  label 10: 67\n",
      "  label 11: 169\n",
      "  label 12: 190\n",
      "  label 13: 29\n",
      "  label 14: 22\n",
      "  label 15: 25\n",
      "  label 16: 19\n",
      "  label 17: 182\n",
      "  label 18: 92\n",
      "  label 19: 44\n",
      "  label 20: 14\n",
      "  label 21: 35\n",
      "  label 22: 76\n",
      "  label 23: 158\n",
      "  label 24: 13\n",
      "  label 25: 44\n",
      "  label 26: 84\n",
      "  label 27: 48\n",
      "  label 28: 11\n",
      "  label 29: 13\n",
      "  label 30: 11\n",
      "  label 31: 75\n",
      "  label 32: 36\n",
      "  label 33: 31\n",
      "  label 34: 30\n",
      "  label 35: 11\n",
      "  label 36: 22\n",
      "  label 37: 16\n",
      "  label 38: 33\n",
      "  label 39: 10\n",
      "  label 40: 9\n",
      "  label 41: 56\n",
      "  label 42: 18\n",
      "  label 43: 9\n",
      "  label 44: 55\n",
      "  label 45: 241\n",
      "  label 46: 62\n",
      "  label 47: 80\n",
      "model is bert-base-uncased cnn\n",
      "Using weighted CrossEntropyLoss with weights: tensor([0.7527, 5.4740, 4.4061, 5.3870, 3.3180, 3.8376, 4.0324, 5.1310, 4.3455,\n",
      "        5.1977, 4.3603, 3.4351, 3.3180, 5.1977, 5.4740, 5.3462, 5.6206, 3.3610,\n",
      "        4.0432, 4.7808, 5.9260, 5.0097, 4.2343, 3.5024, 6.0001, 4.7808, 4.1342,\n",
      "        4.6938, 6.1671, 6.0001, 6.1671, 4.2475, 4.9815, 5.1310, 5.1638, 6.1671,\n",
      "        5.4740, 5.7924, 5.0685, 6.2624, 6.3678, 4.5397, 5.6747, 6.3678, 4.5577,\n",
      "        3.0802, 4.4379, 4.1830], device='cuda:0')\n",
      "Epoch 1/20\n"
     ]
    },
    {
     "name": "stderr",
     "output_type": "stream",
     "text": [
      "100%|██████████| 328/328 [00:28<00:00, 11.69it/s]\n"
     ]
    },
    {
     "name": "stdout",
     "output_type": "stream",
     "text": [
      "{'val_loss': 2.9787012760232137, 'val_accuracy': 0.5453852021357742, 'precision': 0.34520623138872913, 'recall': 0.5453852021357742, 'f1-score': 0.4198150090636228, 'macro_f1-score': 0.05000625799096068, 'balanced_accuracy': 0.0683260170118201, 'mcc': 0.3271738153247298, 'train_loss': 2.3261092875788854}\n",
      "Epoch 2/20\n"
     ]
    },
    {
     "name": "stderr",
     "output_type": "stream",
     "text": [
      "100%|██████████| 328/328 [00:28<00:00, 11.69it/s]\n"
     ]
    },
    {
     "name": "stdout",
     "output_type": "stream",
     "text": [
      "{'val_loss': 2.634968787431717, 'val_accuracy': 0.5781845919145691, 'precision': 0.407117030174446, 'recall': 0.5781845919145691, 'f1-score': 0.4675043082842427, 'macro_f1-score': 0.08314003134864177, 'balanced_accuracy': 0.09751046277545816, 'mcc': 0.38576510461704605, 'train_loss': 1.8994819267493923}\n",
      "Epoch 3/20\n"
     ]
    },
    {
     "name": "stderr",
     "output_type": "stream",
     "text": [
      "100%|██████████| 328/328 [00:28<00:00, 11.67it/s]\n"
     ]
    },
    {
     "name": "stdout",
     "output_type": "stream",
     "text": [
      "{'val_loss': 2.369571517153484, 'val_accuracy': 0.5758962623951183, 'precision': 0.5072170612031722, 'recall': 0.5758962623951183, 'f1-score': 0.5221134374531076, 'macro_f1-score': 0.1467653715632473, 'balanced_accuracy': 0.1618430777260404, 'mcc': 0.42981046404254325, 'train_loss': 1.5767195909851934}\n",
      "Epoch 4/20\n"
     ]
    },
    {
     "name": "stderr",
     "output_type": "stream",
     "text": [
      "100%|██████████| 328/328 [00:28<00:00, 11.69it/s]\n"
     ]
    },
    {
     "name": "stdout",
     "output_type": "stream",
     "text": [
      "{'val_loss': 2.408312194957966, 'val_accuracy': 0.6048817696414951, 'precision': 0.5546715310695723, 'recall': 0.6048817696414951, 'f1-score': 0.5613076749911643, 'macro_f1-score': 0.20698597811327057, 'balanced_accuracy': 0.21680341607241227, 'mcc': 0.4619062096276236, 'train_loss': 1.2452339669916688}\n",
      "Epoch 5/20\n"
     ]
    },
    {
     "name": "stderr",
     "output_type": "stream",
     "text": [
      "100%|██████████| 328/328 [00:28<00:00, 11.67it/s]\n"
     ]
    },
    {
     "name": "stdout",
     "output_type": "stream",
     "text": [
      "{'val_loss': 2.194547563791275, 'val_accuracy': 0.6308161708619374, 'precision': 0.6075661059013031, 'recall': 0.6308161708619374, 'f1-score': 0.6084881869005313, 'macro_f1-score': 0.2917826545476507, 'balanced_accuracy': 0.3071575281097643, 'mcc': 0.5124140838687102, 'train_loss': 0.9856547765978952}\n",
      "Epoch 6/20\n"
     ]
    },
    {
     "name": "stderr",
     "output_type": "stream",
     "text": [
      "100%|██████████| 328/328 [00:28<00:00, 11.69it/s]\n"
     ]
    },
    {
     "name": "stdout",
     "output_type": "stream",
     "text": [
      "{'val_loss': 2.168964509556933, 'val_accuracy': 0.631578947368421, 'precision': 0.6176676662716752, 'recall': 0.631578947368421, 'f1-score': 0.6189490767036551, 'macro_f1-score': 0.32432036756056615, 'balanced_accuracy': 0.3345003111025337, 'mcc': 0.518026720175124, 'train_loss': 0.7435782238068741}\n",
      "Epoch 7/20\n"
     ]
    },
    {
     "name": "stderr",
     "output_type": "stream",
     "text": [
      "100%|██████████| 328/328 [00:28<00:00, 11.66it/s]\n"
     ]
    },
    {
     "name": "stdout",
     "output_type": "stream",
     "text": [
      "{'val_loss': 2.277743417315367, 'val_accuracy': 0.623951182303585, 'precision': 0.6304537477590406, 'recall': 0.623951182303585, 'f1-score': 0.6206296819266549, 'macro_f1-score': 0.3394721153934687, 'balanced_accuracy': 0.36425272820616467, 'mcc': 0.5183615582031785, 'train_loss': 0.5431000515818596}\n",
      "Epoch 8/20\n"
     ]
    },
    {
     "name": "stderr",
     "output_type": "stream",
     "text": [
      "100%|██████████| 328/328 [00:28<00:00, 11.67it/s]\n"
     ]
    },
    {
     "name": "stdout",
     "output_type": "stream",
     "text": [
      "{'val_loss': 2.4636543589394266, 'val_accuracy': 0.6361556064073226, 'precision': 0.6373383827083955, 'recall': 0.6361556064073226, 'f1-score': 0.6254742888069921, 'macro_f1-score': 0.35642062220570003, 'balanced_accuracy': 0.36373203637336476, 'mcc': 0.5193037779486591, 'train_loss': 0.4194302454181924}\n",
      "Epoch 9/20\n"
     ]
    },
    {
     "name": "stderr",
     "output_type": "stream",
     "text": [
      "100%|██████████| 328/328 [00:28<00:00, 11.68it/s]\n"
     ]
    },
    {
     "name": "stdout",
     "output_type": "stream",
     "text": [
      "{'val_loss': 2.7203759543779418, 'val_accuracy': 0.6323417238749046, 'precision': 0.6315350546485136, 'recall': 0.6323417238749046, 'f1-score': 0.6199164348372614, 'macro_f1-score': 0.3559448424349358, 'balanced_accuracy': 0.35124963767003625, 'mcc': 0.5095350176045583, 'train_loss': 0.3272204437071639}\n",
      "Epoch 10/20\n"
     ]
    },
    {
     "name": "stderr",
     "output_type": "stream",
     "text": [
      "100%|██████████| 328/328 [00:28<00:00, 11.69it/s]\n"
     ]
    },
    {
     "name": "stdout",
     "output_type": "stream",
     "text": [
      "{'val_loss': 2.84249997011772, 'val_accuracy': 0.6468344774980931, 'precision': 0.6269561509238188, 'recall': 0.6468344774980931, 'f1-score': 0.6310936909756887, 'macro_f1-score': 0.36733483635854, 'balanced_accuracy': 0.36695720773840595, 'mcc': 0.5290312496535828, 'train_loss': 0.25693265516197356}\n",
      "Epoch 11/20\n"
     ]
    },
    {
     "name": "stderr",
     "output_type": "stream",
     "text": [
      "100%|██████████| 328/328 [00:28<00:00, 11.67it/s]\n"
     ]
    },
    {
     "name": "stdout",
     "output_type": "stream",
     "text": [
      "{'val_loss': 2.986255136568372, 'val_accuracy': 0.631578947368421, 'precision': 0.6322818823950552, 'recall': 0.631578947368421, 'f1-score': 0.620357908310824, 'macro_f1-score': 0.3642064001113532, 'balanced_accuracy': 0.35331575741946314, 'mcc': 0.5048563504868397, 'train_loss': 0.221628682836947}\n",
      "Epoch 12/20\n"
     ]
    },
    {
     "name": "stderr",
     "output_type": "stream",
     "text": [
      "100%|██████████| 328/328 [00:28<00:00, 11.69it/s]\n"
     ]
    },
    {
     "name": "stdout",
     "output_type": "stream",
     "text": [
      "{'val_loss': 2.8947810719652876, 'val_accuracy': 0.6285278413424866, 'precision': 0.6394543384243075, 'recall': 0.6285278413424866, 'f1-score': 0.6228952365689755, 'macro_f1-score': 0.36004823393796653, 'balanced_accuracy': 0.36557029139422936, 'mcc': 0.510340893531193, 'train_loss': 0.19568075686437647}\n",
      "Epoch 13/20\n"
     ]
    },
    {
     "name": "stderr",
     "output_type": "stream",
     "text": [
      "100%|██████████| 328/328 [00:28<00:00, 11.68it/s]\n"
     ]
    },
    {
     "name": "stdout",
     "output_type": "stream",
     "text": [
      "{'val_loss': 2.7797448878608098, 'val_accuracy': 0.6216628527841342, 'precision': 0.6503203795069109, 'recall': 0.6216628527841342, 'f1-score': 0.6284505704001664, 'macro_f1-score': 0.3676214063687413, 'balanced_accuracy': 0.39038534998617536, 'mcc': 0.5207544001336524, 'train_loss': 0.1673372623726453}\n",
      "Epoch 14/20\n"
     ]
    },
    {
     "name": "stderr",
     "output_type": "stream",
     "text": [
      "100%|██████████| 328/328 [00:28<00:00, 11.68it/s]\n"
     ]
    },
    {
     "name": "stdout",
     "output_type": "stream",
     "text": [
      "{'val_loss': 2.6821146179444906, 'val_accuracy': 0.6346300533943554, 'precision': 0.6611800559693339, 'recall': 0.6346300533943554, 'f1-score': 0.639359615356291, 'macro_f1-score': 0.39351284971978656, 'balanced_accuracy': 0.41665669480270134, 'mcc': 0.5326553841022325, 'train_loss': 0.17021071981417196}\n",
      "Epoch 15/20\n"
     ]
    },
    {
     "name": "stderr",
     "output_type": "stream",
     "text": [
      "100%|██████████| 328/328 [00:28<00:00, 11.67it/s]\n"
     ]
    },
    {
     "name": "stdout",
     "output_type": "stream",
     "text": [
      "{'val_loss': 3.2849113354232253, 'val_accuracy': 0.6636155606407322, 'precision': 0.6600082689445235, 'recall': 0.6636155606407322, 'f1-score': 0.6457337661452025, 'macro_f1-score': 0.39800560883514874, 'balanced_accuracy': 0.38204115606516503, 'mcc': 0.544762207677789, 'train_loss': 0.11080547340608929}\n",
      "Epoch 16/20\n"
     ]
    },
    {
     "name": "stderr",
     "output_type": "stream",
     "text": [
      "100%|██████████| 328/328 [00:28<00:00, 11.68it/s]\n"
     ]
    },
    {
     "name": "stdout",
     "output_type": "stream",
     "text": [
      "{'val_loss': 3.4007816643613142, 'val_accuracy': 0.6468344774980931, 'precision': 0.6651929027651412, 'recall': 0.6468344774980931, 'f1-score': 0.641018429326283, 'macro_f1-score': 0.3872667699606848, 'balanced_accuracy': 0.3879961771579823, 'mcc': 0.5318278435422426, 'train_loss': 0.06704252280391435}\n",
      "Epoch 17/20\n"
     ]
    },
    {
     "name": "stderr",
     "output_type": "stream",
     "text": [
      "100%|██████████| 328/328 [00:28<00:00, 11.68it/s]\n"
     ]
    },
    {
     "name": "stdout",
     "output_type": "stream",
     "text": [
      "{'val_loss': 3.195251844278196, 'val_accuracy': 0.6399694889397407, 'precision': 0.6597963244398466, 'recall': 0.6399694889397407, 'f1-score': 0.6413190825412955, 'macro_f1-score': 0.3964816436545167, 'balanced_accuracy': 0.41266982679990444, 'mcc': 0.5360512256739577, 'train_loss': 0.06606673680404883}\n",
      "Epoch 18/20\n"
     ]
    },
    {
     "name": "stderr",
     "output_type": "stream",
     "text": [
      "100%|██████████| 328/328 [00:28<00:00, 11.68it/s]\n"
     ]
    },
    {
     "name": "stdout",
     "output_type": "stream",
     "text": [
      "{'val_loss': 2.8527527317041304, 'val_accuracy': 0.6170861937452327, 'precision': 0.6510727707240568, 'recall': 0.6170861937452327, 'f1-score': 0.6226343026816528, 'macro_f1-score': 0.3782718503982087, 'balanced_accuracy': 0.4066858597366201, 'mcc': 0.5171871273387656, 'train_loss': 0.10462600403346786}\n",
      "Early stopping.\n",
      "\n",
      "[Fold 5]\n",
      "Label distribution after resampling:\n",
      "  label 0: 2472\n",
      "  label 1: 21\n",
      "  label 2: 64\n",
      "  label 3: 24\n",
      "  label 4: 191\n",
      "  label 5: 112\n",
      "  label 6: 92\n",
      "  label 7: 31\n",
      "  label 8: 68\n",
      "  label 9: 29\n",
      "  label 10: 68\n",
      "  label 11: 168\n",
      "  label 12: 190\n",
      "  label 13: 29\n",
      "  label 14: 22\n",
      "  label 15: 25\n",
      "  label 16: 19\n",
      "  label 17: 183\n",
      "  label 18: 92\n",
      "  label 19: 44\n",
      "  label 20: 14\n",
      "  label 21: 35\n",
      "  label 22: 76\n",
      "  label 23: 158\n",
      "  label 24: 13\n",
      "  label 25: 44\n",
      "  label 26: 84\n",
      "  label 27: 48\n",
      "  label 28: 11\n",
      "  label 29: 13\n",
      "  label 30: 11\n",
      "  label 31: 75\n",
      "  label 32: 36\n",
      "  label 33: 31\n",
      "  label 34: 30\n",
      "  label 35: 11\n",
      "  label 36: 22\n",
      "  label 37: 16\n",
      "  label 38: 33\n",
      "  label 39: 10\n",
      "  label 40: 9\n",
      "  label 41: 57\n",
      "  label 42: 18\n",
      "  label 43: 9\n",
      "  label 44: 54\n",
      "  label 45: 242\n",
      "  label 46: 61\n",
      "  label 47: 80\n",
      "model is bert-base-uncased cnn\n",
      "Using weighted CrossEntropyLoss with weights: tensor([0.7522, 5.5205, 4.4061, 5.3870, 3.3128, 3.8465, 4.0432, 5.1310, 4.3455,\n",
      "        5.1977, 4.3455, 3.4411, 3.3180, 5.1977, 5.4740, 5.3462, 5.6206, 3.3555,\n",
      "        4.0432, 4.7808, 5.9260, 5.0097, 4.2343, 3.5024, 6.0001, 4.7808, 4.1342,\n",
      "        4.6938, 6.1671, 6.0001, 6.1671, 4.2475, 4.9815, 5.1310, 5.1638, 6.1671,\n",
      "        5.4740, 5.7924, 5.0685, 6.2624, 6.3678, 4.5220, 5.6747, 6.3678, 4.5760,\n",
      "        3.0761, 4.4542, 4.1830], device='cuda:0')\n",
      "Epoch 1/20\n"
     ]
    },
    {
     "name": "stderr",
     "output_type": "stream",
     "text": [
      "100%|██████████| 328/328 [00:28<00:00, 11.67it/s]\n"
     ]
    },
    {
     "name": "stdout",
     "output_type": "stream",
     "text": [
      "{'val_loss': 3.1010451171456315, 'val_accuracy': 0.5415713196033562, 'precision': 0.31222025649131463, 'recall': 0.5415713196033562, 'f1-score': 0.3945155729763281, 'macro_f1-score': 0.04503642942702579, 'balanced_accuracy': 0.06294511033586088, 'mcc': 0.3030739388063226, 'train_loss': 2.3563245076958728}\n",
      "Epoch 2/20\n"
     ]
    },
    {
     "name": "stderr",
     "output_type": "stream",
     "text": [
      "100%|██████████| 328/328 [00:28<00:00, 11.69it/s]\n"
     ]
    },
    {
     "name": "stdout",
     "output_type": "stream",
     "text": [
      "{'val_loss': 2.7611971148630468, 'val_accuracy': 0.5728451563691839, 'precision': 0.41792236045565345, 'recall': 0.5728451563691839, 'f1-score': 0.45648700294079325, 'macro_f1-score': 0.07684264869631247, 'balanced_accuracy': 0.09021397048215189, 'mcc': 0.3725622932568143, 'train_loss': 1.977185202081029}\n",
      "Epoch 3/20\n"
     ]
    },
    {
     "name": "stderr",
     "output_type": "stream",
     "text": [
      "100%|██████████| 328/328 [00:28<00:00, 11.70it/s]\n"
     ]
    },
    {
     "name": "stdout",
     "output_type": "stream",
     "text": [
      "{'val_loss': 2.542944783117713, 'val_accuracy': 0.5980167810831426, 'precision': 0.4841581403290797, 'recall': 0.5980167810831426, 'f1-score': 0.5145961013385681, 'macro_f1-score': 0.14215661505820343, 'balanced_accuracy': 0.15595052393222356, 'mcc': 0.43077912498785376, 'train_loss': 1.7113176268048402}\n",
      "Epoch 4/20\n"
     ]
    },
    {
     "name": "stderr",
     "output_type": "stream",
     "text": [
      "100%|██████████| 328/328 [00:28<00:00, 11.68it/s]\n"
     ]
    },
    {
     "name": "stdout",
     "output_type": "stream",
     "text": [
      "{'val_loss': 2.2460885004299445, 'val_accuracy': 0.627765064836003, 'precision': 0.559763615733658, 'recall': 0.627765064836003, 'f1-score': 0.5677745918195793, 'macro_f1-score': 0.20151305245365678, 'balanced_accuracy': 0.20977657911235567, 'mcc': 0.4907104090945195, 'train_loss': 1.3725646580683022}\n",
      "Epoch 5/20\n"
     ]
    },
    {
     "name": "stderr",
     "output_type": "stream",
     "text": [
      "100%|██████████| 328/328 [00:28<00:00, 11.68it/s]\n"
     ]
    },
    {
     "name": "stdout",
     "output_type": "stream",
     "text": [
      "{'val_loss': 2.087091672711256, 'val_accuracy': 0.6170861937452327, 'precision': 0.6144247414279672, 'recall': 0.6170861937452327, 'f1-score': 0.5967900391140981, 'macro_f1-score': 0.2697903004238948, 'balanced_accuracy': 0.29396117423845136, 'mcc': 0.5072705138220122, 'train_loss': 1.0874838381551388}\n",
      "Epoch 6/20\n"
     ]
    },
    {
     "name": "stderr",
     "output_type": "stream",
     "text": [
      "100%|██████████| 328/328 [00:28<00:00, 11.69it/s]\n"
     ]
    },
    {
     "name": "stdout",
     "output_type": "stream",
     "text": [
      "{'val_loss': 2.178870920001007, 'val_accuracy': 0.6270022883295194, 'precision': 0.6202078620591174, 'recall': 0.6270022883295194, 'f1-score': 0.6129793494488935, 'macro_f1-score': 0.3037962850902423, 'balanced_accuracy': 0.31353117975790035, 'mcc': 0.5134533294485516, 'train_loss': 0.8264386964871026}\n",
      "Epoch 7/20\n"
     ]
    },
    {
     "name": "stderr",
     "output_type": "stream",
     "text": [
      "100%|██████████| 328/328 [00:28<00:00, 11.69it/s]\n"
     ]
    },
    {
     "name": "stdout",
     "output_type": "stream",
     "text": [
      "{'val_loss': 2.414626096806875, 'val_accuracy': 0.6514111365369947, 'precision': 0.6373022992893057, 'recall': 0.6514111365369947, 'f1-score': 0.6276359531588899, 'macro_f1-score': 0.3186423898515692, 'balanced_accuracy': 0.3053387449199339, 'mcc': 0.5314637003852465, 'train_loss': 0.5965230327735587}\n",
      "Epoch 8/20\n"
     ]
    },
    {
     "name": "stderr",
     "output_type": "stream",
     "text": [
      "100%|██████████| 328/328 [00:28<00:00, 11.67it/s]\n"
     ]
    },
    {
     "name": "stdout",
     "output_type": "stream",
     "text": [
      "{'val_loss': 2.4993468588445245, 'val_accuracy': 0.6529366895499619, 'precision': 0.6434818052104537, 'recall': 0.6529366895499619, 'f1-score': 0.6339137164399702, 'macro_f1-score': 0.34807635353445193, 'balanced_accuracy': 0.33192511923726675, 'mcc': 0.5329229333889619, 'train_loss': 0.46609753018199673}\n",
      "Epoch 9/20\n"
     ]
    },
    {
     "name": "stderr",
     "output_type": "stream",
     "text": [
      "100%|██████████| 328/328 [00:28<00:00, 11.69it/s]\n"
     ]
    },
    {
     "name": "stdout",
     "output_type": "stream",
     "text": [
      "{'val_loss': 2.4043981345688423, 'val_accuracy': 0.6338672768878718, 'precision': 0.6510555745394213, 'recall': 0.6338672768878718, 'f1-score': 0.6282569225687255, 'macro_f1-score': 0.38024161773111614, 'balanced_accuracy': 0.3717355409243615, 'mcc': 0.5248127333118008, 'train_loss': 0.35124184506400147}\n",
      "Epoch 10/20\n"
     ]
    },
    {
     "name": "stderr",
     "output_type": "stream",
     "text": [
      "100%|██████████| 328/328 [00:28<00:00, 11.67it/s]\n"
     ]
    },
    {
     "name": "stdout",
     "output_type": "stream",
     "text": [
      "{'val_loss': 2.8892088805030034, 'val_accuracy': 0.6681922196796338, 'precision': 0.6494247244584175, 'recall': 0.6681922196796338, 'f1-score': 0.6410866947623122, 'macro_f1-score': 0.36119283099085003, 'balanced_accuracy': 0.34371800509245154, 'mcc': 0.5460498161699116, 'train_loss': 0.26410391611308315}\n",
      "Epoch 11/20\n"
     ]
    },
    {
     "name": "stderr",
     "output_type": "stream",
     "text": [
      "100%|██████████| 328/328 [00:28<00:00, 11.70it/s]\n"
     ]
    },
    {
     "name": "stdout",
     "output_type": "stream",
     "text": [
      "{'val_loss': 2.5750891260984465, 'val_accuracy': 0.6407322654462243, 'precision': 0.6537428526926917, 'recall': 0.6407322654462243, 'f1-score': 0.6361378936824258, 'macro_f1-score': 0.3627456896915103, 'balanced_accuracy': 0.3507259910193963, 'mcc': 0.5332521825614317, 'train_loss': 0.22776071981118037}\n",
      "Epoch 12/20\n"
     ]
    },
    {
     "name": "stderr",
     "output_type": "stream",
     "text": [
      "100%|██████████| 328/328 [00:28<00:00, 11.67it/s]\n"
     ]
    },
    {
     "name": "stdout",
     "output_type": "stream",
     "text": [
      "{'val_loss': 2.8147503123050783, 'val_accuracy': 0.6392067124332571, 'precision': 0.6268365300900474, 'recall': 0.6392067124332571, 'f1-score': 0.6227385834170387, 'macro_f1-score': 0.36152226956725503, 'balanced_accuracy': 0.35256611589223946, 'mcc': 0.5200144219255189, 'train_loss': 0.18874375387975129}\n",
      "Early stopping.\n",
      "\n",
      " === bert-base-uncased + cnn + none Final 5-fold Cross-Validation Results ===\n",
      "val_loss: 2.6578\n",
      "val_accuracy: 0.6402\n",
      "precision: 0.6523\n",
      "recall: 0.6402\n",
      "f1-score: 0.6338\n",
      "macro_f1-score: 0.4023\n",
      "balanced_accuracy: 0.4030\n",
      "mcc: 0.5285\n",
      "train_loss: 0.2455\n",
      "total_seconds: 2030.0000\n",
      "total_time: 0 hrs 33 mins 50 secs\n",
      "▶ Running: bert-base-uncased + lstm + none\n",
      "tokenizer is bert-base-uncased\n",
      "Using device: cuda\n",
      "CUDA Available: True\n",
      "CUDA Device: NVIDIA GeForce RTX 5070 Ti\n",
      "Current GPU Memory Allocated: 0.02 GB\n",
      "Current GPU Memory Cached: 3.04 GB\n",
      "\n",
      "[Fold 1]\n",
      "Label distribution after resampling:\n",
      "  label 0: 2471\n",
      "  label 1: 21\n",
      "  label 2: 64\n",
      "  label 3: 24\n",
      "  label 4: 191\n",
      "  label 5: 113\n",
      "  label 6: 93\n",
      "  label 7: 30\n",
      "  label 8: 68\n",
      "  label 9: 30\n",
      "  label 10: 67\n",
      "  label 11: 169\n",
      "  label 12: 189\n",
      "  label 13: 29\n",
      "  label 14: 22\n",
      "  label 15: 25\n",
      "  label 16: 19\n",
      "  label 17: 183\n",
      "  label 18: 92\n",
      "  label 19: 44\n",
      "  label 20: 13\n",
      "  label 21: 35\n",
      "  label 22: 76\n",
      "  label 23: 158\n",
      "  label 24: 13\n",
      "  label 25: 44\n",
      "  label 26: 84\n",
      "  label 27: 48\n",
      "  label 28: 11\n",
      "  label 29: 13\n",
      "  label 30: 11\n",
      "  label 31: 75\n",
      "  label 32: 36\n",
      "  label 33: 32\n",
      "  label 34: 29\n",
      "  label 35: 11\n",
      "  label 36: 22\n",
      "  label 37: 16\n",
      "  label 38: 33\n",
      "  label 39: 10\n",
      "  label 40: 9\n",
      "  label 41: 57\n",
      "  label 42: 19\n",
      "  label 43: 8\n",
      "  label 44: 54\n",
      "  label 45: 242\n",
      "  label 46: 61\n",
      "  label 47: 80\n",
      "model is bert-base-uncased lstm\n",
      "Using weighted CrossEntropyLoss with weights: tensor([0.7525, 5.5203, 4.4060, 5.3868, 3.3126, 3.8375, 4.0322, 5.1636, 4.3453,\n",
      "        5.1636, 4.3601, 3.4349, 3.3231, 5.1975, 5.4738, 5.3460, 5.6204, 3.3554,\n",
      "        4.0431, 4.7807, 5.9999, 5.0095, 4.2341, 3.5022, 5.9999, 4.7807, 4.1340,\n",
      "        4.6936, 6.1669, 5.9999, 6.1669, 4.2474, 4.9813, 5.0991, 5.1975, 6.1669,\n",
      "        5.4738, 5.7923, 5.0683, 6.2623, 6.3676, 4.5218, 5.6204, 6.4854, 4.5759,\n",
      "        3.0759, 4.4540, 4.1828], device='cuda:0')\n",
      "Epoch 1/20\n"
     ]
    },
    {
     "name": "stderr",
     "output_type": "stream",
     "text": [
      "100%|██████████| 328/328 [00:29<00:00, 11.18it/s]\n"
     ]
    },
    {
     "name": "stdout",
     "output_type": "stream",
     "text": [
      "{'val_loss': 3.0687661490789275, 'val_accuracy': 0.5640243902439024, 'precision': 0.35362957830594205, 'recall': 0.5640243902439024, 'f1-score': 0.4304725974048952, 'macro_f1-score': 0.0772805127721075, 'balanced_accuracy': 0.08796202390387171, 'mcc': 0.34657495725709736, 'train_loss': 2.271434740322392}\n",
      "Epoch 2/20\n"
     ]
    },
    {
     "name": "stderr",
     "output_type": "stream",
     "text": [
      "100%|██████████| 328/328 [00:29<00:00, 11.21it/s]\n"
     ]
    },
    {
     "name": "stdout",
     "output_type": "stream",
     "text": [
      "{'val_loss': 2.6420503869289305, 'val_accuracy': 0.5975609756097561, 'precision': 0.47363549333787225, 'recall': 0.5975609756097561, 'f1-score': 0.5150933740903928, 'macro_f1-score': 0.1409948151998561, 'balanced_accuracy': 0.14613516601137902, 'mcc': 0.42299412057898117, 'train_loss': 1.7356338590020086}\n",
      "Epoch 3/20\n"
     ]
    },
    {
     "name": "stderr",
     "output_type": "stream",
     "text": [
      "100%|██████████| 328/328 [00:29<00:00, 11.21it/s]\n"
     ]
    },
    {
     "name": "stdout",
     "output_type": "stream",
     "text": [
      "{'val_loss': 2.539583185823952, 'val_accuracy': 0.6211890243902439, 'precision': 0.5366451837923422, 'recall': 0.6211890243902439, 'f1-score': 0.5670825971690909, 'macro_f1-score': 0.2051508967785034, 'balanced_accuracy': 0.21456523402022928, 'mcc': 0.4745393164317858, 'train_loss': 1.4286062693813952}\n",
      "Epoch 4/20\n"
     ]
    },
    {
     "name": "stderr",
     "output_type": "stream",
     "text": [
      "100%|██████████| 328/328 [00:29<00:00, 11.17it/s]\n"
     ]
    },
    {
     "name": "stdout",
     "output_type": "stream",
     "text": [
      "{'val_loss': 2.5226672284486815, 'val_accuracy': 0.6150914634146342, 'precision': 0.5551139073844419, 'recall': 0.6150914634146342, 'f1-score': 0.5695217682236654, 'macro_f1-score': 0.23715225173762222, 'balanced_accuracy': 0.23554137458201682, 'mcc': 0.4687946552368252, 'train_loss': 1.1849783471808202}\n",
      "Epoch 5/20\n"
     ]
    },
    {
     "name": "stderr",
     "output_type": "stream",
     "text": [
      "100%|██████████| 328/328 [00:29<00:00, 11.21it/s]\n"
     ]
    },
    {
     "name": "stdout",
     "output_type": "stream",
     "text": [
      "{'val_loss': 2.369270647444376, 'val_accuracy': 0.631859756097561, 'precision': 0.5918602588709843, 'recall': 0.631859756097561, 'f1-score': 0.5999271074719068, 'macro_f1-score': 0.2695490479501983, 'balanced_accuracy': 0.2701091479444299, 'mcc': 0.5005779040097933, 'train_loss': 0.9922020626595107}\n",
      "Epoch 6/20\n"
     ]
    },
    {
     "name": "stderr",
     "output_type": "stream",
     "text": [
      "100%|██████████| 328/328 [00:29<00:00, 11.21it/s]\n"
     ]
    },
    {
     "name": "stdout",
     "output_type": "stream",
     "text": [
      "{'val_loss': 2.352024849595093, 'val_accuracy': 0.6196646341463414, 'precision': 0.6038844485140541, 'recall': 0.6196646341463414, 'f1-score': 0.6044163510699823, 'macro_f1-score': 0.3145200587202364, 'balanced_accuracy': 0.3251019275221115, 'mcc': 0.4993685294223197, 'train_loss': 0.8004812659105149}\n",
      "Epoch 7/20\n"
     ]
    },
    {
     "name": "stderr",
     "output_type": "stream",
     "text": [
      "100%|██████████| 328/328 [00:29<00:00, 11.17it/s]\n"
     ]
    },
    {
     "name": "stdout",
     "output_type": "stream",
     "text": [
      "{'val_loss': 2.3289396457555815, 'val_accuracy': 0.6265243902439024, 'precision': 0.6083471043280752, 'recall': 0.6265243902439024, 'f1-score': 0.6108749580836447, 'macro_f1-score': 0.31791680906652536, 'balanced_accuracy': 0.32027834400843574, 'mcc': 0.5033221506792838, 'train_loss': 0.6919220984209238}\n",
      "Epoch 8/20\n"
     ]
    },
    {
     "name": "stderr",
     "output_type": "stream",
     "text": [
      "100%|██████████| 328/328 [00:29<00:00, 11.20it/s]\n"
     ]
    },
    {
     "name": "stdout",
     "output_type": "stream",
     "text": [
      "{'val_loss': 2.4766285157785184, 'val_accuracy': 0.604420731707317, 'precision': 0.6058929207965401, 'recall': 0.604420731707317, 'f1-score': 0.5977320537453831, 'macro_f1-score': 0.317341731228008, 'balanced_accuracy': 0.31942510478265856, 'mcc': 0.4805824228782061, 'train_loss': 0.6112975159705412}\n",
      "Epoch 9/20\n"
     ]
    },
    {
     "name": "stderr",
     "output_type": "stream",
     "text": [
      "100%|██████████| 328/328 [00:29<00:00, 11.20it/s]\n"
     ]
    },
    {
     "name": "stdout",
     "output_type": "stream",
     "text": [
      "{'val_loss': 2.466203214191809, 'val_accuracy': 0.6379573170731707, 'precision': 0.6210743547973325, 'recall': 0.6379573170731707, 'f1-score': 0.618652009343094, 'macro_f1-score': 0.34484003540423974, 'balanced_accuracy': 0.3383990863557269, 'mcc': 0.5133999787027035, 'train_loss': 0.5002991267389095}\n",
      "Epoch 10/20\n"
     ]
    },
    {
     "name": "stderr",
     "output_type": "stream",
     "text": [
      "100%|██████████| 328/328 [00:29<00:00, 11.22it/s]\n"
     ]
    },
    {
     "name": "stdout",
     "output_type": "stream",
     "text": [
      "{'val_loss': 2.5220158419957976, 'val_accuracy': 0.6333841463414634, 'precision': 0.6271271780531898, 'recall': 0.6333841463414634, 'f1-score': 0.6198520225062242, 'macro_f1-score': 0.36845220189829625, 'balanced_accuracy': 0.37077942886555354, 'mcc': 0.51233542906075, 'train_loss': 0.4293829410836646}\n",
      "Epoch 11/20\n"
     ]
    },
    {
     "name": "stderr",
     "output_type": "stream",
     "text": [
      "100%|██████████| 328/328 [00:29<00:00, 11.19it/s]\n"
     ]
    },
    {
     "name": "stdout",
     "output_type": "stream",
     "text": [
      "{'val_loss': 2.5515940465578217, 'val_accuracy': 0.6432926829268293, 'precision': 0.6235739817802257, 'recall': 0.6432926829268293, 'f1-score': 0.6259412600921138, 'macro_f1-score': 0.3499573235537956, 'balanced_accuracy': 0.34845430497321095, 'mcc': 0.5212811038964673, 'train_loss': 0.37769846502895943}\n",
      "Epoch 12/20\n"
     ]
    },
    {
     "name": "stderr",
     "output_type": "stream",
     "text": [
      "100%|██████████| 328/328 [00:29<00:00, 11.17it/s]\n"
     ]
    },
    {
     "name": "stdout",
     "output_type": "stream",
     "text": [
      "{'val_loss': 2.450740215527575, 'val_accuracy': 0.6379573170731707, 'precision': 0.6334271240782123, 'recall': 0.6379573170731707, 'f1-score': 0.630691540295923, 'macro_f1-score': 0.3797879414678968, 'balanced_accuracy': 0.3752441451447052, 'mcc': 0.5209991950217125, 'train_loss': 0.3354738366835546}\n",
      "Epoch 13/20\n"
     ]
    },
    {
     "name": "stderr",
     "output_type": "stream",
     "text": [
      "100%|██████████| 328/328 [00:29<00:00, 11.22it/s]\n"
     ]
    },
    {
     "name": "stdout",
     "output_type": "stream",
     "text": [
      "{'val_loss': 2.7121446821384314, 'val_accuracy': 0.6341463414634146, 'precision': 0.6250129974949654, 'recall': 0.6341463414634146, 'f1-score': 0.6242329912522431, 'macro_f1-score': 0.36604283972553525, 'balanced_accuracy': 0.3727589901030346, 'mcc': 0.5163029194247569, 'train_loss': 0.2785680348950824}\n",
      "Epoch 14/20\n"
     ]
    },
    {
     "name": "stderr",
     "output_type": "stream",
     "text": [
      "100%|██████████| 328/328 [00:29<00:00, 11.22it/s]\n"
     ]
    },
    {
     "name": "stdout",
     "output_type": "stream",
     "text": [
      "{'val_loss': 2.5203229011740627, 'val_accuracy': 0.6379573170731707, 'precision': 0.6490511025516323, 'recall': 0.6379573170731707, 'f1-score': 0.6378538457616317, 'macro_f1-score': 0.4033566353888817, 'balanced_accuracy': 0.4185282857469332, 'mcc': 0.5312168640273303, 'train_loss': 0.22173781598145823}\n",
      "Epoch 15/20\n"
     ]
    },
    {
     "name": "stderr",
     "output_type": "stream",
     "text": [
      "100%|██████████| 328/328 [00:29<00:00, 11.18it/s]\n"
     ]
    },
    {
     "name": "stdout",
     "output_type": "stream",
     "text": [
      "{'val_loss': 2.597855908114736, 'val_accuracy': 0.6326219512195121, 'precision': 0.6288557854866073, 'recall': 0.6326219512195121, 'f1-score': 0.6237792941466702, 'macro_f1-score': 0.3690548956262018, 'balanced_accuracy': 0.37240410146824265, 'mcc': 0.5112641175619947, 'train_loss': 0.24946032361718032}\n",
      "Epoch 16/20\n"
     ]
    },
    {
     "name": "stderr",
     "output_type": "stream",
     "text": [
      "100%|██████████| 328/328 [00:29<00:00, 11.22it/s]\n"
     ]
    },
    {
     "name": "stdout",
     "output_type": "stream",
     "text": [
      "{'val_loss': 2.8391289456588464, 'val_accuracy': 0.6410060975609756, 'precision': 0.6272274616326793, 'recall': 0.6410060975609756, 'f1-score': 0.6126212451356263, 'macro_f1-score': 0.35837853961786, 'balanced_accuracy': 0.3361964877623087, 'mcc': 0.5043101983474736, 'train_loss': 0.2173250083976266}\n",
      "Epoch 17/20\n"
     ]
    },
    {
     "name": "stderr",
     "output_type": "stream",
     "text": [
      "100%|██████████| 328/328 [00:29<00:00, 11.21it/s]\n"
     ]
    },
    {
     "name": "stdout",
     "output_type": "stream",
     "text": [
      "{'val_loss': 3.1537399735392593, 'val_accuracy': 0.6272865853658537, 'precision': 0.6024029698660337, 'recall': 0.6272865853658537, 'f1-score': 0.6003378402707271, 'macro_f1-score': 0.33645211525412017, 'balanced_accuracy': 0.3230350278257675, 'mcc': 0.4862772959028372, 'train_loss': 0.18189121393498214}\n",
      "Early stopping.\n",
      "\n",
      "[Fold 2]\n",
      "Label distribution after resampling:\n",
      "  label 0: 2471\n",
      "  label 1: 22\n",
      "  label 2: 64\n",
      "  label 3: 24\n",
      "  label 4: 190\n",
      "  label 5: 113\n",
      "  label 6: 93\n",
      "  label 7: 30\n",
      "  label 8: 68\n",
      "  label 9: 30\n",
      "  label 10: 67\n",
      "  label 11: 169\n",
      "  label 12: 189\n",
      "  label 13: 29\n",
      "  label 14: 23\n",
      "  label 15: 24\n",
      "  label 16: 20\n",
      "  label 17: 182\n",
      "  label 18: 92\n",
      "  label 19: 44\n",
      "  label 20: 13\n",
      "  label 21: 36\n",
      "  label 22: 76\n",
      "  label 23: 157\n",
      "  label 24: 12\n",
      "  label 25: 44\n",
      "  label 26: 84\n",
      "  label 27: 48\n",
      "  label 28: 12\n",
      "  label 29: 12\n",
      "  label 30: 12\n",
      "  label 31: 75\n",
      "  label 32: 36\n",
      "  label 33: 31\n",
      "  label 34: 29\n",
      "  label 35: 12\n",
      "  label 36: 21\n",
      "  label 37: 16\n",
      "  label 38: 33\n",
      "  label 39: 11\n",
      "  label 40: 8\n",
      "  label 41: 57\n",
      "  label 42: 19\n",
      "  label 43: 9\n",
      "  label 44: 54\n",
      "  label 45: 242\n",
      "  label 46: 62\n",
      "  label 47: 80\n",
      "model is bert-base-uncased lstm\n",
      "Using weighted CrossEntropyLoss with weights: tensor([0.7527, 5.4740, 4.4061, 5.3870, 3.3180, 3.8376, 4.0324, 5.1638, 4.3455,\n",
      "        5.1638, 4.3603, 3.4351, 3.3233, 5.1977, 5.4295, 5.3870, 5.5693, 3.3610,\n",
      "        4.0432, 4.7808, 6.0001, 4.9815, 4.2343, 3.5088, 6.0801, 4.7808, 4.1342,\n",
      "        4.6938, 6.0801, 6.0801, 6.0801, 4.2475, 4.9815, 5.1310, 5.1977, 6.0801,\n",
      "        5.5205, 5.7924, 5.0685, 6.1671, 6.4856, 4.5220, 5.6206, 6.3678, 4.5760,\n",
      "        3.0761, 4.4379, 4.1830], device='cuda:0')\n",
      "Epoch 1/20\n"
     ]
    },
    {
     "name": "stderr",
     "output_type": "stream",
     "text": [
      "100%|██████████| 328/328 [00:29<00:00, 11.16it/s]\n"
     ]
    },
    {
     "name": "stdout",
     "output_type": "stream",
     "text": [
      "{'val_loss': 2.9121956694416884, 'val_accuracy': 0.5697940503432495, 'precision': 0.37903002104247574, 'recall': 0.5697940503432495, 'f1-score': 0.4488924318274757, 'macro_f1-score': 0.0631957182058689, 'balanced_accuracy': 0.0869640648136981, 'mcc': 0.37367094181233257, 'train_loss': 2.294789963379139}\n",
      "Epoch 2/20\n"
     ]
    },
    {
     "name": "stderr",
     "output_type": "stream",
     "text": [
      "100%|██████████| 328/328 [00:29<00:00, 11.19it/s]\n"
     ]
    },
    {
     "name": "stdout",
     "output_type": "stream",
     "text": [
      "{'val_loss': 2.7724302570994306, 'val_accuracy': 0.5705568268497331, 'precision': 0.39688605141569, 'recall': 0.5705568268497331, 'f1-score': 0.44801678488209745, 'macro_f1-score': 0.0796331205098983, 'balanced_accuracy': 0.08803478081680562, 'mcc': 0.3610534949460339, 'train_loss': 1.8341772009323283}\n",
      "Epoch 3/20\n"
     ]
    },
    {
     "name": "stderr",
     "output_type": "stream",
     "text": [
      "100%|██████████| 328/328 [00:29<00:00, 11.20it/s]\n"
     ]
    },
    {
     "name": "stdout",
     "output_type": "stream",
     "text": [
      "{'val_loss': 2.399150061898115, 'val_accuracy': 0.6071700991609459, 'precision': 0.5131363909863886, 'recall': 0.6071700991609459, 'f1-score': 0.5374828685285336, 'macro_f1-score': 0.15518249089689465, 'balanced_accuracy': 0.1705200339839119, 'mcc': 0.4527714054061414, 'train_loss': 1.5037141418675097}\n",
      "Epoch 4/20\n"
     ]
    },
    {
     "name": "stderr",
     "output_type": "stream",
     "text": [
      "100%|██████████| 328/328 [00:29<00:00, 11.21it/s]\n"
     ]
    },
    {
     "name": "stdout",
     "output_type": "stream",
     "text": [
      "{'val_loss': 2.475667889525251, 'val_accuracy': 0.5995423340961098, 'precision': 0.5503730957883063, 'recall': 0.5995423340961098, 'f1-score': 0.5425560924653626, 'macro_f1-score': 0.1782674603279182, 'balanced_accuracy': 0.18254774429452156, 'mcc': 0.44746380693478105, 'train_loss': 1.2472544900346092}\n",
      "Epoch 5/20\n"
     ]
    },
    {
     "name": "stderr",
     "output_type": "stream",
     "text": [
      "100%|██████████| 328/328 [00:29<00:00, 11.19it/s]\n"
     ]
    },
    {
     "name": "stdout",
     "output_type": "stream",
     "text": [
      "{'val_loss': 2.2776992640844207, 'val_accuracy': 0.6453089244851259, 'precision': 0.5930473609371785, 'recall': 0.6453089244851259, 'f1-score': 0.608156720176549, 'macro_f1-score': 0.2528217565584923, 'balanced_accuracy': 0.2540498173856731, 'mcc': 0.5165579117998844, 'train_loss': 1.0628116045874068}\n",
      "Epoch 6/20\n"
     ]
    },
    {
     "name": "stderr",
     "output_type": "stream",
     "text": [
      "100%|██████████| 328/328 [00:29<00:00, 11.18it/s]\n"
     ]
    },
    {
     "name": "stdout",
     "output_type": "stream",
     "text": [
      "{'val_loss': 2.300111092445327, 'val_accuracy': 0.6300533943554538, 'precision': 0.5924536972269512, 'recall': 0.6300533943554538, 'f1-score': 0.5994720934131947, 'macro_f1-score': 0.2527599823014379, 'balanced_accuracy': 0.2665658316540909, 'mcc': 0.5048753453579182, 'train_loss': 0.8823699744690846}\n",
      "Epoch 7/20\n"
     ]
    },
    {
     "name": "stderr",
     "output_type": "stream",
     "text": [
      "100%|██████████| 328/328 [00:29<00:00, 11.21it/s]\n"
     ]
    },
    {
     "name": "stdout",
     "output_type": "stream",
     "text": [
      "{'val_loss': 2.1870377194590684, 'val_accuracy': 0.6216628527841342, 'precision': 0.6196438925175898, 'recall': 0.6216628527841342, 'f1-score': 0.6097764507180387, 'macro_f1-score': 0.2909569455929035, 'balanced_accuracy': 0.3072436372762398, 'mcc': 0.5083713564972983, 'train_loss': 0.7340193857529723}\n",
      "Epoch 8/20\n"
     ]
    },
    {
     "name": "stderr",
     "output_type": "stream",
     "text": [
      "100%|██████████| 328/328 [00:29<00:00, 11.23it/s]\n"
     ]
    },
    {
     "name": "stdout",
     "output_type": "stream",
     "text": [
      "{'val_loss': 2.602799371975224, 'val_accuracy': 0.6338672768878718, 'precision': 0.5977768493543223, 'recall': 0.6338672768878718, 'f1-score': 0.5950990731038145, 'macro_f1-score': 0.2655828062517811, 'balanced_accuracy': 0.2566409095968027, 'mcc': 0.49447685492786964, 'train_loss': 0.6072480202220926}\n",
      "Epoch 9/20\n"
     ]
    },
    {
     "name": "stderr",
     "output_type": "stream",
     "text": [
      "100%|██████████| 328/328 [00:29<00:00, 11.18it/s]\n"
     ]
    },
    {
     "name": "stdout",
     "output_type": "stream",
     "text": [
      "{'val_loss': 2.496234069510204, 'val_accuracy': 0.6430205949656751, 'precision': 0.6202676093963341, 'recall': 0.6430205949656751, 'f1-score': 0.6204465663303214, 'macro_f1-score': 0.3159906105548987, 'balanced_accuracy': 0.30325280411192107, 'mcc': 0.5168938803254655, 'train_loss': 0.49623148394294264}\n",
      "Epoch 10/20\n"
     ]
    },
    {
     "name": "stderr",
     "output_type": "stream",
     "text": [
      "100%|██████████| 328/328 [00:29<00:00, 11.23it/s]\n"
     ]
    },
    {
     "name": "stdout",
     "output_type": "stream",
     "text": [
      "{'val_loss': 2.7900737258719235, 'val_accuracy': 0.6369183829138062, 'precision': 0.6134834741308014, 'recall': 0.6369183829138062, 'f1-score': 0.6059482327548584, 'macro_f1-score': 0.29505515685078143, 'balanced_accuracy': 0.277471007734718, 'mcc': 0.500418313621124, 'train_loss': 0.43935340781491705}\n",
      "Epoch 11/20\n"
     ]
    },
    {
     "name": "stderr",
     "output_type": "stream",
     "text": [
      "100%|██████████| 328/328 [00:29<00:00, 11.19it/s]\n"
     ]
    },
    {
     "name": "stdout",
     "output_type": "stream",
     "text": [
      "{'val_loss': 2.614521277386968, 'val_accuracy': 0.6308161708619374, 'precision': 0.6097906409001578, 'recall': 0.6308161708619374, 'f1-score': 0.608694001578718, 'macro_f1-score': 0.29486366413943466, 'balanced_accuracy': 0.2889953811218166, 'mcc': 0.5057171903663823, 'train_loss': 0.40588757575762163}\n",
      "Epoch 12/20\n"
     ]
    },
    {
     "name": "stderr",
     "output_type": "stream",
     "text": [
      "100%|██████████| 328/328 [00:29<00:00, 11.16it/s]\n"
     ]
    },
    {
     "name": "stdout",
     "output_type": "stream",
     "text": [
      "{'val_loss': 2.61484724355907, 'val_accuracy': 0.6392067124332571, 'precision': 0.6246708974585119, 'recall': 0.6392067124332571, 'f1-score': 0.6209183265913212, 'macro_f1-score': 0.3508228315385992, 'balanced_accuracy': 0.3425050729656622, 'mcc': 0.51242020674859, 'train_loss': 0.3256520649997472}\n",
      "Epoch 13/20\n"
     ]
    },
    {
     "name": "stderr",
     "output_type": "stream",
     "text": [
      "100%|██████████| 328/328 [00:29<00:00, 11.19it/s]\n"
     ]
    },
    {
     "name": "stdout",
     "output_type": "stream",
     "text": [
      "{'val_loss': 2.5700936026689485, 'val_accuracy': 0.6300533943554538, 'precision': 0.6380704148913993, 'recall': 0.6300533943554538, 'f1-score': 0.6258316511680881, 'macro_f1-score': 0.36558939554331843, 'balanced_accuracy': 0.36777575574529475, 'mcc': 0.5110901157119454, 'train_loss': 0.28629699636750466}\n",
      "Epoch 14/20\n"
     ]
    },
    {
     "name": "stderr",
     "output_type": "stream",
     "text": [
      "100%|██████████| 328/328 [00:29<00:00, 11.20it/s]\n"
     ]
    },
    {
     "name": "stdout",
     "output_type": "stream",
     "text": [
      "{'val_loss': 2.785753096749143, 'val_accuracy': 0.6399694889397407, 'precision': 0.6225872832385233, 'recall': 0.6399694889397407, 'f1-score': 0.6214414298880556, 'macro_f1-score': 0.3474840885010811, 'balanced_accuracy': 0.35271502385658177, 'mcc': 0.5146690369882823, 'train_loss': 0.2813852139941712}\n",
      "Epoch 15/20\n"
     ]
    },
    {
     "name": "stderr",
     "output_type": "stream",
     "text": [
      "100%|██████████| 328/328 [00:29<00:00, 11.20it/s]\n"
     ]
    },
    {
     "name": "stdout",
     "output_type": "stream",
     "text": [
      "{'val_loss': 2.8403980946395455, 'val_accuracy': 0.6399694889397407, 'precision': 0.630466267087362, 'recall': 0.6399694889397407, 'f1-score': 0.6177215819587519, 'macro_f1-score': 0.34657604239510115, 'balanced_accuracy': 0.3463118202428832, 'mcc': 0.5122146540270223, 'train_loss': 0.22229642614086226}\n",
      "Epoch 16/20\n"
     ]
    },
    {
     "name": "stderr",
     "output_type": "stream",
     "text": [
      "100%|██████████| 328/328 [00:29<00:00, 11.18it/s]\n"
     ]
    },
    {
     "name": "stdout",
     "output_type": "stream",
     "text": [
      "{'val_loss': 2.9604751453167055, 'val_accuracy': 0.6414950419527079, 'precision': 0.6310339683638725, 'recall': 0.6414950419527079, 'f1-score': 0.6185657842327283, 'macro_f1-score': 0.3349276402896406, 'balanced_accuracy': 0.3288239354289048, 'mcc': 0.5186359196409437, 'train_loss': 0.2682786571378706}\n",
      "Early stopping.\n",
      "\n",
      "[Fold 3]\n",
      "Label distribution after resampling:\n",
      "  label 0: 2471\n",
      "  label 1: 22\n",
      "  label 2: 64\n",
      "  label 3: 24\n",
      "  label 4: 190\n",
      "  label 5: 113\n",
      "  label 6: 93\n",
      "  label 7: 30\n",
      "  label 8: 68\n",
      "  label 9: 30\n",
      "  label 10: 67\n",
      "  label 11: 169\n",
      "  label 12: 190\n",
      "  label 13: 28\n",
      "  label 14: 23\n",
      "  label 15: 25\n",
      "  label 16: 19\n",
      "  label 17: 182\n",
      "  label 18: 92\n",
      "  label 19: 44\n",
      "  label 20: 14\n",
      "  label 21: 35\n",
      "  label 22: 76\n",
      "  label 23: 157\n",
      "  label 24: 13\n",
      "  label 25: 44\n",
      "  label 26: 84\n",
      "  label 27: 48\n",
      "  label 28: 11\n",
      "  label 29: 13\n",
      "  label 30: 11\n",
      "  label 31: 76\n",
      "  label 32: 36\n",
      "  label 33: 31\n",
      "  label 34: 30\n",
      "  label 35: 11\n",
      "  label 36: 21\n",
      "  label 37: 16\n",
      "  label 38: 32\n",
      "  label 39: 11\n",
      "  label 40: 9\n",
      "  label 41: 57\n",
      "  label 42: 18\n",
      "  label 43: 9\n",
      "  label 44: 55\n",
      "  label 45: 241\n",
      "  label 46: 62\n",
      "  label 47: 80\n",
      "model is bert-base-uncased lstm\n",
      "Using weighted CrossEntropyLoss with weights: tensor([0.7527, 5.4740, 4.4061, 5.3870, 3.3180, 3.8376, 4.0324, 5.1638, 4.3455,\n",
      "        5.1638, 4.3603, 3.4351, 3.3180, 5.2328, 5.4295, 5.3462, 5.6206, 3.3610,\n",
      "        4.0432, 4.7808, 5.9260, 5.0097, 4.2343, 3.5088, 6.0001, 4.7808, 4.1342,\n",
      "        4.6938, 6.1671, 6.0001, 6.1671, 4.2343, 4.9815, 5.1310, 5.1638, 6.1671,\n",
      "        5.5205, 5.7924, 5.0993, 6.1671, 6.3678, 4.5220, 5.6747, 6.3678, 4.5577,\n",
      "        3.0802, 4.4379, 4.1830], device='cuda:0')\n",
      "Epoch 1/20\n"
     ]
    },
    {
     "name": "stderr",
     "output_type": "stream",
     "text": [
      "100%|██████████| 328/328 [00:29<00:00, 11.17it/s]\n"
     ]
    },
    {
     "name": "stdout",
     "output_type": "stream",
     "text": [
      "{'val_loss': 3.015343353515718, 'val_accuracy': 0.5469107551487414, 'precision': 0.35300199038744784, 'recall': 0.5469107551487414, 'f1-score': 0.42757737580836275, 'macro_f1-score': 0.055598647513283195, 'balanced_accuracy': 0.08073576656729349, 'mcc': 0.3392902264589637, 'train_loss': 2.3045069375416127}\n",
      "Epoch 2/20\n"
     ]
    },
    {
     "name": "stderr",
     "output_type": "stream",
     "text": [
      "100%|██████████| 328/328 [00:29<00:00, 11.20it/s]\n"
     ]
    },
    {
     "name": "stdout",
     "output_type": "stream",
     "text": [
      "{'val_loss': 2.8214007274406714, 'val_accuracy': 0.5804729214340199, 'precision': 0.4120588066686053, 'recall': 0.5804729214340199, 'f1-score': 0.468755639498307, 'macro_f1-score': 0.07917060456526794, 'balanced_accuracy': 0.09578386721899686, 'mcc': 0.3875782711378226, 'train_loss': 1.8691958701465188}\n",
      "Epoch 3/20\n"
     ]
    },
    {
     "name": "stderr",
     "output_type": "stream",
     "text": [
      "100%|██████████| 328/328 [00:29<00:00, 11.21it/s]\n"
     ]
    },
    {
     "name": "stdout",
     "output_type": "stream",
     "text": [
      "{'val_loss': 2.598076362435411, 'val_accuracy': 0.5720823798627003, 'precision': 0.47695939124787035, 'recall': 0.5720823798627003, 'f1-score': 0.5094795160944953, 'macro_f1-score': 0.13604869414910534, 'balanced_accuracy': 0.16319479109520085, 'mcc': 0.4137902421229464, 'train_loss': 1.5791902441258838}\n",
      "Epoch 4/20\n"
     ]
    },
    {
     "name": "stderr",
     "output_type": "stream",
     "text": [
      "100%|██████████| 328/328 [00:29<00:00, 11.16it/s]\n"
     ]
    },
    {
     "name": "stdout",
     "output_type": "stream",
     "text": [
      "{'val_loss': 2.5073432729738516, 'val_accuracy': 0.5835240274599542, 'precision': 0.5185676429918529, 'recall': 0.5835240274599542, 'f1-score': 0.5422684518237535, 'macro_f1-score': 0.1762717264773309, 'balanced_accuracy': 0.19900750927208677, 'mcc': 0.4421946812044816, 'train_loss': 1.3429726097823642}\n",
      "Epoch 5/20\n"
     ]
    },
    {
     "name": "stderr",
     "output_type": "stream",
     "text": [
      "100%|██████████| 328/328 [00:29<00:00, 11.21it/s]\n"
     ]
    },
    {
     "name": "stdout",
     "output_type": "stream",
     "text": [
      "{'val_loss': 2.435550614101131, 'val_accuracy': 0.6003051106025934, 'precision': 0.5528183500614836, 'recall': 0.6003051106025934, 'f1-score': 0.569339797371865, 'macro_f1-score': 0.2273481471193102, 'balanced_accuracy': 0.24565644650940288, 'mcc': 0.46096938275825255, 'train_loss': 1.107545705012432}\n",
      "Epoch 6/20\n"
     ]
    },
    {
     "name": "stderr",
     "output_type": "stream",
     "text": [
      "100%|██████████| 328/328 [00:29<00:00, 11.21it/s]\n"
     ]
    },
    {
     "name": "stdout",
     "output_type": "stream",
     "text": [
      "{'val_loss': 2.423159089757175, 'val_accuracy': 0.6193745232646835, 'precision': 0.5748013472583791, 'recall': 0.6193745232646835, 'f1-score': 0.5855164915587242, 'macro_f1-score': 0.2586746093104491, 'balanced_accuracy': 0.26433838917591507, 'mcc': 0.48397669162398155, 'train_loss': 0.93380309982089}\n",
      "Epoch 7/20\n"
     ]
    },
    {
     "name": "stderr",
     "output_type": "stream",
     "text": [
      "100%|██████████| 328/328 [00:29<00:00, 11.17it/s]\n"
     ]
    },
    {
     "name": "stdout",
     "output_type": "stream",
     "text": [
      "{'val_loss': 2.512837644757294, 'val_accuracy': 0.6178489702517163, 'precision': 0.5703135378848067, 'recall': 0.6178489702517163, 'f1-score': 0.5804386225854729, 'macro_f1-score': 0.25715717795343723, 'balanced_accuracy': 0.24975935492714998, 'mcc': 0.4728270499780696, 'train_loss': 0.8054282133717362}\n",
      "Epoch 8/20\n"
     ]
    },
    {
     "name": "stderr",
     "output_type": "stream",
     "text": [
      "100%|██████████| 328/328 [00:29<00:00, 11.18it/s]\n"
     ]
    },
    {
     "name": "stdout",
     "output_type": "stream",
     "text": [
      "{'val_loss': 2.294003345617434, 'val_accuracy': 0.6018306636155606, 'precision': 0.6000548563764401, 'recall': 0.6018306636155606, 'f1-score': 0.5946996032779016, 'macro_f1-score': 0.290201742735356, 'balanced_accuracy': 0.3097699940303713, 'mcc': 0.48725963300151853, 'train_loss': 0.6693135927681152}\n",
      "Epoch 9/20\n"
     ]
    },
    {
     "name": "stderr",
     "output_type": "stream",
     "text": [
      "100%|██████████| 328/328 [00:29<00:00, 11.19it/s]\n"
     ]
    },
    {
     "name": "stdout",
     "output_type": "stream",
     "text": [
      "{'val_loss': 2.4629239047445903, 'val_accuracy': 0.6064073226544623, 'precision': 0.5966773484864453, 'recall': 0.6064073226544623, 'f1-score': 0.589496690403596, 'macro_f1-score': 0.28979403597963777, 'balanced_accuracy': 0.29276408263763093, 'mcc': 0.48537387989411507, 'train_loss': 0.5754013559667439}\n",
      "Epoch 10/20\n"
     ]
    },
    {
     "name": "stderr",
     "output_type": "stream",
     "text": [
      "100%|██████████| 328/328 [00:29<00:00, 11.19it/s]\n"
     ]
    },
    {
     "name": "stdout",
     "output_type": "stream",
     "text": [
      "{'val_loss': 2.647167500199341, 'val_accuracy': 0.623951182303585, 'precision': 0.5946988087908893, 'recall': 0.623951182303585, 'f1-score': 0.6010587287450619, 'macro_f1-score': 0.30564812814567827, 'balanced_accuracy': 0.29233905860379306, 'mcc': 0.49000113380186466, 'train_loss': 0.5243025047863584}\n",
      "Epoch 11/20\n"
     ]
    },
    {
     "name": "stderr",
     "output_type": "stream",
     "text": [
      "100%|██████████| 328/328 [00:29<00:00, 11.18it/s]\n"
     ]
    },
    {
     "name": "stdout",
     "output_type": "stream",
     "text": [
      "{'val_loss': 2.4812713538001225, 'val_accuracy': 0.5903890160183066, 'precision': 0.6033483753564886, 'recall': 0.5903890160183066, 'f1-score': 0.5850831485141579, 'macro_f1-score': 0.2732385385471105, 'balanced_accuracy': 0.2930559546712194, 'mcc': 0.4715320466997897, 'train_loss': 0.4771031889178586}\n",
      "Epoch 12/20\n"
     ]
    },
    {
     "name": "stderr",
     "output_type": "stream",
     "text": [
      "100%|██████████| 328/328 [00:29<00:00, 11.19it/s]\n"
     ]
    },
    {
     "name": "stdout",
     "output_type": "stream",
     "text": [
      "{'val_loss': 2.595332146054361, 'val_accuracy': 0.6086956521739131, 'precision': 0.5949173295450286, 'recall': 0.6086956521739131, 'f1-score': 0.591144556724612, 'macro_f1-score': 0.31091187112448554, 'balanced_accuracy': 0.3095061315917129, 'mcc': 0.477503161528454, 'train_loss': 0.41838761686529147}\n",
      "Epoch 13/20\n"
     ]
    },
    {
     "name": "stderr",
     "output_type": "stream",
     "text": [
      "100%|██████████| 328/328 [00:29<00:00, 11.19it/s]\n"
     ]
    },
    {
     "name": "stdout",
     "output_type": "stream",
     "text": [
      "{'val_loss': 2.6694107778006937, 'val_accuracy': 0.6376811594202898, 'precision': 0.6125032531590415, 'recall': 0.6376811594202898, 'f1-score': 0.6188964931409697, 'macro_f1-score': 0.34598531435325786, 'balanced_accuracy': 0.333857503651198, 'mcc': 0.5164117765282303, 'train_loss': 0.39736078575071765}\n",
      "Epoch 14/20\n"
     ]
    },
    {
     "name": "stderr",
     "output_type": "stream",
     "text": [
      "100%|██████████| 328/328 [00:29<00:00, 11.22it/s]\n"
     ]
    },
    {
     "name": "stdout",
     "output_type": "stream",
     "text": [
      "{'val_loss': 2.98760209759561, 'val_accuracy': 0.6247139588100686, 'precision': 0.5975981790210078, 'recall': 0.6247139588100686, 'f1-score': 0.6001456476078968, 'macro_f1-score': 0.3307846853515714, 'balanced_accuracy': 0.31504617401506063, 'mcc': 0.4870420797675132, 'train_loss': 0.31548862917371456}\n",
      "Epoch 15/20\n"
     ]
    },
    {
     "name": "stderr",
     "output_type": "stream",
     "text": [
      "100%|██████████| 328/328 [00:29<00:00, 11.16it/s]\n"
     ]
    },
    {
     "name": "stdout",
     "output_type": "stream",
     "text": [
      "{'val_loss': 3.0099412773440526, 'val_accuracy': 0.6430205949656751, 'precision': 0.618912314032309, 'recall': 0.6430205949656751, 'f1-score': 0.6125634702232019, 'macro_f1-score': 0.3214511298602571, 'balanced_accuracy': 0.30281241852972357, 'mcc': 0.5071861191373117, 'train_loss': 0.27214547590261734}\n",
      "Epoch 16/20\n"
     ]
    },
    {
     "name": "stderr",
     "output_type": "stream",
     "text": [
      "100%|██████████| 328/328 [00:29<00:00, 11.20it/s]\n"
     ]
    },
    {
     "name": "stdout",
     "output_type": "stream",
     "text": [
      "{'val_loss': 2.8068404324897904, 'val_accuracy': 0.6254767353165522, 'precision': 0.614360947220663, 'recall': 0.6254767353165522, 'f1-score': 0.6138317431843127, 'macro_f1-score': 0.36825807030002883, 'balanced_accuracy': 0.36357542178767366, 'mcc': 0.5037481872687422, 'train_loss': 0.25028930805487243}\n",
      "Epoch 17/20\n"
     ]
    },
    {
     "name": "stderr",
     "output_type": "stream",
     "text": [
      "100%|██████████| 328/328 [00:29<00:00, 11.20it/s]\n"
     ]
    },
    {
     "name": "stdout",
     "output_type": "stream",
     "text": [
      "{'val_loss': 2.607881937630293, 'val_accuracy': 0.6140350877192983, 'precision': 0.6155219053137744, 'recall': 0.6140350877192983, 'f1-score': 0.6090162779687965, 'macro_f1-score': 0.34969307067271904, 'balanced_accuracy': 0.3629140316560644, 'mcc': 0.49619686860423073, 'train_loss': 0.2351423842610973}\n",
      "Epoch 18/20\n"
     ]
    },
    {
     "name": "stderr",
     "output_type": "stream",
     "text": [
      "100%|██████████| 328/328 [00:29<00:00, 11.20it/s]\n"
     ]
    },
    {
     "name": "stdout",
     "output_type": "stream",
     "text": [
      "{'val_loss': 2.7533622809299607, 'val_accuracy': 0.6216628527841342, 'precision': 0.6226053920717731, 'recall': 0.6216628527841342, 'f1-score': 0.6174552469655997, 'macro_f1-score': 0.3841350056119474, 'balanced_accuracy': 0.3937902251116931, 'mcc': 0.5062279162919606, 'train_loss': 0.24171809304687308}\n",
      "Epoch 19/20\n"
     ]
    },
    {
     "name": "stderr",
     "output_type": "stream",
     "text": [
      "100%|██████████| 328/328 [00:29<00:00, 11.17it/s]\n"
     ]
    },
    {
     "name": "stdout",
     "output_type": "stream",
     "text": [
      "{'val_loss': 2.7111919743985666, 'val_accuracy': 0.620137299771167, 'precision': 0.6215546093307212, 'recall': 0.620137299771167, 'f1-score': 0.6162575818724579, 'macro_f1-score': 0.37661987872560276, 'balanced_accuracy': 0.3764233568705822, 'mcc': 0.5008563024400055, 'train_loss': 0.17393419738268343}\n",
      "Epoch 20/20\n"
     ]
    },
    {
     "name": "stderr",
     "output_type": "stream",
     "text": [
      "100%|██████████| 328/328 [00:29<00:00, 11.20it/s]\n"
     ]
    },
    {
     "name": "stdout",
     "output_type": "stream",
     "text": [
      "{'val_loss': 2.984004169884251, 'val_accuracy': 0.6109839816933639, 'precision': 0.5614009395432062, 'recall': 0.6109839816933639, 'f1-score': 0.5695010515066957, 'macro_f1-score': 0.29892096661596024, 'balanced_accuracy': 0.27568055383977536, 'mcc': 0.45457353858829, 'train_loss': 0.2332130941851973}\n",
      "\n",
      "[Fold 4]\n",
      "Label distribution after resampling:\n",
      "  label 0: 2471\n",
      "  label 1: 22\n",
      "  label 2: 64\n",
      "  label 3: 24\n",
      "  label 4: 190\n",
      "  label 5: 113\n",
      "  label 6: 93\n",
      "  label 7: 31\n",
      "  label 8: 68\n",
      "  label 9: 29\n",
      "  label 10: 67\n",
      "  label 11: 169\n",
      "  label 12: 190\n",
      "  label 13: 29\n",
      "  label 14: 22\n",
      "  label 15: 25\n",
      "  label 16: 19\n",
      "  label 17: 182\n",
      "  label 18: 92\n",
      "  label 19: 44\n",
      "  label 20: 14\n",
      "  label 21: 35\n",
      "  label 22: 76\n",
      "  label 23: 158\n",
      "  label 24: 13\n",
      "  label 25: 44\n",
      "  label 26: 84\n",
      "  label 27: 48\n",
      "  label 28: 11\n",
      "  label 29: 13\n",
      "  label 30: 11\n",
      "  label 31: 75\n",
      "  label 32: 36\n",
      "  label 33: 31\n",
      "  label 34: 30\n",
      "  label 35: 11\n",
      "  label 36: 22\n",
      "  label 37: 16\n",
      "  label 38: 33\n",
      "  label 39: 10\n",
      "  label 40: 9\n",
      "  label 41: 56\n",
      "  label 42: 18\n",
      "  label 43: 9\n",
      "  label 44: 55\n",
      "  label 45: 241\n",
      "  label 46: 62\n",
      "  label 47: 80\n",
      "model is bert-base-uncased lstm\n",
      "Using weighted CrossEntropyLoss with weights: tensor([0.7527, 5.4740, 4.4061, 5.3870, 3.3180, 3.8376, 4.0324, 5.1310, 4.3455,\n",
      "        5.1977, 4.3603, 3.4351, 3.3180, 5.1977, 5.4740, 5.3462, 5.6206, 3.3610,\n",
      "        4.0432, 4.7808, 5.9260, 5.0097, 4.2343, 3.5024, 6.0001, 4.7808, 4.1342,\n",
      "        4.6938, 6.1671, 6.0001, 6.1671, 4.2475, 4.9815, 5.1310, 5.1638, 6.1671,\n",
      "        5.4740, 5.7924, 5.0685, 6.2624, 6.3678, 4.5397, 5.6747, 6.3678, 4.5577,\n",
      "        3.0802, 4.4379, 4.1830], device='cuda:0')\n",
      "Epoch 1/20\n"
     ]
    },
    {
     "name": "stderr",
     "output_type": "stream",
     "text": [
      "100%|██████████| 328/328 [00:29<00:00, 11.21it/s]\n"
     ]
    },
    {
     "name": "stdout",
     "output_type": "stream",
     "text": [
      "{'val_loss': 3.150118583586158, 'val_accuracy': 0.5385202135774219, 'precision': 0.3093730602458767, 'recall': 0.5385202135774219, 'f1-score': 0.39244491949547267, 'macro_f1-score': 0.04296036838145408, 'balanced_accuracy': 0.057533337504546055, 'mcc': 0.29282016394762217, 'train_loss': 2.347659015437452}\n",
      "Epoch 2/20\n"
     ]
    },
    {
     "name": "stderr",
     "output_type": "stream",
     "text": [
      "100%|██████████| 328/328 [00:29<00:00, 11.19it/s]\n"
     ]
    },
    {
     "name": "stdout",
     "output_type": "stream",
     "text": [
      "{'val_loss': 2.6839849490944934, 'val_accuracy': 0.5804729214340199, 'precision': 0.4378305222707104, 'recall': 0.5804729214340199, 'f1-score': 0.4878388113394515, 'macro_f1-score': 0.09433449258931233, 'balanced_accuracy': 0.10985795264111664, 'mcc': 0.3972971969460007, 'train_loss': 1.844857181990292}\n",
      "Epoch 3/20\n"
     ]
    },
    {
     "name": "stderr",
     "output_type": "stream",
     "text": [
      "100%|██████████| 328/328 [00:29<00:00, 11.19it/s]\n"
     ]
    },
    {
     "name": "stdout",
     "output_type": "stream",
     "text": [
      "{'val_loss': 2.5272095145248787, 'val_accuracy': 0.6071700991609459, 'precision': 0.5374738213269978, 'recall': 0.6071700991609459, 'f1-score': 0.5488210531569366, 'macro_f1-score': 0.16126266265840386, 'balanced_accuracy': 0.1742396295410276, 'mcc': 0.45994483843388323, 'train_loss': 1.5503569845019318}\n",
      "Epoch 4/20\n"
     ]
    },
    {
     "name": "stderr",
     "output_type": "stream",
     "text": [
      "100%|██████████| 328/328 [00:29<00:00, 11.20it/s]\n"
     ]
    },
    {
     "name": "stdout",
     "output_type": "stream",
     "text": [
      "{'val_loss': 2.345602159093066, 'val_accuracy': 0.623951182303585, 'precision': 0.5574463241896818, 'recall': 0.623951182303585, 'f1-score': 0.5746608635164394, 'macro_f1-score': 0.21874262010255593, 'balanced_accuracy': 0.22469458949225798, 'mcc': 0.4877749038668609, 'train_loss': 1.2900170712027608}\n",
      "Epoch 5/20\n"
     ]
    },
    {
     "name": "stderr",
     "output_type": "stream",
     "text": [
      "100%|██████████| 328/328 [00:29<00:00, 11.23it/s]\n"
     ]
    },
    {
     "name": "stdout",
     "output_type": "stream",
     "text": [
      "{'val_loss': 2.2655646964544203, 'val_accuracy': 0.6430205949656751, 'precision': 0.6179687922486323, 'recall': 0.6430205949656751, 'f1-score': 0.6111907013471746, 'macro_f1-score': 0.28400034859730017, 'balanced_accuracy': 0.28774541021967387, 'mcc': 0.5197160149569713, 'train_loss': 1.0643349910018647}\n",
      "Epoch 6/20\n"
     ]
    },
    {
     "name": "stderr",
     "output_type": "stream",
     "text": [
      "100%|██████████| 328/328 [00:29<00:00, 11.17it/s]\n"
     ]
    },
    {
     "name": "stdout",
     "output_type": "stream",
     "text": [
      "{'val_loss': 2.241265613131407, 'val_accuracy': 0.6430205949656751, 'precision': 0.6104291581815593, 'recall': 0.6430205949656751, 'f1-score': 0.6168503061080718, 'macro_f1-score': 0.2994546001694861, 'balanced_accuracy': 0.30910691238654636, 'mcc': 0.5244379744720848, 'train_loss': 0.8859418681027685}\n",
      "Epoch 7/20\n"
     ]
    },
    {
     "name": "stderr",
     "output_type": "stream",
     "text": [
      "100%|██████████| 328/328 [00:29<00:00, 11.22it/s]\n"
     ]
    },
    {
     "name": "stdout",
     "output_type": "stream",
     "text": [
      "{'val_loss': 2.2352887344796484, 'val_accuracy': 0.6308161708619374, 'precision': 0.6128121964295482, 'recall': 0.6308161708619374, 'f1-score': 0.6169827954321497, 'macro_f1-score': 0.3182961621355462, 'balanced_accuracy': 0.3292817777045358, 'mcc': 0.5154293064839716, 'train_loss': 0.7804349204071048}\n",
      "Epoch 8/20\n"
     ]
    },
    {
     "name": "stderr",
     "output_type": "stream",
     "text": [
      "100%|██████████| 328/328 [00:29<00:00, 11.21it/s]\n"
     ]
    },
    {
     "name": "stdout",
     "output_type": "stream",
     "text": [
      "{'val_loss': 2.193964393582286, 'val_accuracy': 0.6346300533943554, 'precision': 0.6270547152985803, 'recall': 0.6346300533943554, 'f1-score': 0.6229244845980281, 'macro_f1-score': 0.31781640314210957, 'balanced_accuracy': 0.3277301291119739, 'mcc': 0.5212041286435767, 'train_loss': 0.6495926503500924}\n",
      "Epoch 9/20\n"
     ]
    },
    {
     "name": "stderr",
     "output_type": "stream",
     "text": [
      "100%|██████████| 328/328 [00:29<00:00, 11.17it/s]\n"
     ]
    },
    {
     "name": "stdout",
     "output_type": "stream",
     "text": [
      "{'val_loss': 2.275709471324595, 'val_accuracy': 0.6392067124332571, 'precision': 0.6321794088334095, 'recall': 0.6392067124332571, 'f1-score': 0.6253672370166451, 'macro_f1-score': 0.3379251438182986, 'balanced_accuracy': 0.3305167796401331, 'mcc': 0.5260745060850762, 'train_loss': 0.5612117124766838}\n",
      "Epoch 10/20\n"
     ]
    },
    {
     "name": "stderr",
     "output_type": "stream",
     "text": [
      "100%|██████████| 328/328 [00:29<00:00, 11.18it/s]\n"
     ]
    },
    {
     "name": "stdout",
     "output_type": "stream",
     "text": [
      "{'val_loss': 2.4063398569095424, 'val_accuracy': 0.6292906178489702, 'precision': 0.6387291245906731, 'recall': 0.6292906178489702, 'f1-score': 0.620613451604722, 'macro_f1-score': 0.34549888579422383, 'balanced_accuracy': 0.3419079174155537, 'mcc': 0.5132026035550031, 'train_loss': 0.46252074040381647}\n",
      "Epoch 11/20\n"
     ]
    },
    {
     "name": "stderr",
     "output_type": "stream",
     "text": [
      "100%|██████████| 328/328 [00:29<00:00, 11.20it/s]\n"
     ]
    },
    {
     "name": "stdout",
     "output_type": "stream",
     "text": [
      "{'val_loss': 2.4300591331429597, 'val_accuracy': 0.6460717009916095, 'precision': 0.6403773601873916, 'recall': 0.6460717009916095, 'f1-score': 0.6377515216830973, 'macro_f1-score': 0.37333078977324, 'balanced_accuracy': 0.37178375198350405, 'mcc': 0.5344392457800601, 'train_loss': 0.3919269006313166}\n",
      "Epoch 12/20\n"
     ]
    },
    {
     "name": "stderr",
     "output_type": "stream",
     "text": [
      "100%|██████████| 328/328 [00:29<00:00, 11.21it/s]\n"
     ]
    },
    {
     "name": "stdout",
     "output_type": "stream",
     "text": [
      "{'val_loss': 2.51120336499156, 'val_accuracy': 0.6430205949656751, 'precision': 0.6436726594973737, 'recall': 0.6430205949656751, 'f1-score': 0.6355522695640736, 'macro_f1-score': 0.37387973748704567, 'balanced_accuracy': 0.36382864418180566, 'mcc': 0.5267598240993561, 'train_loss': 0.3373984709586494}\n",
      "Epoch 13/20\n"
     ]
    },
    {
     "name": "stderr",
     "output_type": "stream",
     "text": [
      "100%|██████████| 328/328 [00:29<00:00, 11.20it/s]\n"
     ]
    },
    {
     "name": "stdout",
     "output_type": "stream",
     "text": [
      "{'val_loss': 2.378825561302464, 'val_accuracy': 0.6483600305110603, 'precision': 0.6600809136704304, 'recall': 0.6483600305110603, 'f1-score': 0.6470388450688398, 'macro_f1-score': 0.40570767754178155, 'balanced_accuracy': 0.40804053999713824, 'mcc': 0.5421832038002063, 'train_loss': 0.31265700254702894}\n",
      "Epoch 14/20\n"
     ]
    },
    {
     "name": "stderr",
     "output_type": "stream",
     "text": [
      "100%|██████████| 328/328 [00:29<00:00, 11.18it/s]\n"
     ]
    },
    {
     "name": "stdout",
     "output_type": "stream",
     "text": [
      "{'val_loss': 2.530852711963944, 'val_accuracy': 0.6285278413424866, 'precision': 0.6260298281783198, 'recall': 0.6285278413424866, 'f1-score': 0.6145315030908874, 'macro_f1-score': 0.3732318895411355, 'balanced_accuracy': 0.36592491666811894, 'mcc': 0.5038983105852788, 'train_loss': 0.271765044810841}\n",
      "Epoch 15/20\n"
     ]
    },
    {
     "name": "stderr",
     "output_type": "stream",
     "text": [
      "100%|██████████| 328/328 [00:29<00:00, 11.20it/s]\n"
     ]
    },
    {
     "name": "stdout",
     "output_type": "stream",
     "text": [
      "{'val_loss': 2.379686524955238, 'val_accuracy': 0.6331045003813882, 'precision': 0.6684378191398691, 'recall': 0.6331045003813882, 'f1-score': 0.6395340228420988, 'macro_f1-score': 0.41983813248669083, 'balanced_accuracy': 0.4336470092802818, 'mcc': 0.5380403165541975, 'train_loss': 0.26266304222389875}\n",
      "Epoch 16/20\n"
     ]
    },
    {
     "name": "stderr",
     "output_type": "stream",
     "text": [
      "100%|██████████| 328/328 [00:29<00:00, 11.22it/s]\n"
     ]
    },
    {
     "name": "stdout",
     "output_type": "stream",
     "text": [
      "{'val_loss': 2.721844296993279, 'val_accuracy': 0.6376811594202898, 'precision': 0.643721919962028, 'recall': 0.6376811594202898, 'f1-score': 0.6280387286403815, 'macro_f1-score': 0.3904976143779013, 'balanced_accuracy': 0.39128928660022017, 'mcc': 0.5236891554956421, 'train_loss': 0.2133776909194705}\n",
      "Epoch 17/20\n"
     ]
    },
    {
     "name": "stderr",
     "output_type": "stream",
     "text": [
      "100%|██████████| 328/328 [00:29<00:00, 11.19it/s]\n"
     ]
    },
    {
     "name": "stdout",
     "output_type": "stream",
     "text": [
      "{'val_loss': 2.742885849461323, 'val_accuracy': 0.662090007627765, 'precision': 0.6617309007086801, 'recall': 0.662090007627765, 'f1-score': 0.6556976743134235, 'macro_f1-score': 0.41843913744296574, 'balanced_accuracy': 0.41981074476784386, 'mcc': 0.5514018802129711, 'train_loss': 0.21683795733956573}\n",
      "Epoch 18/20\n"
     ]
    },
    {
     "name": "stderr",
     "output_type": "stream",
     "text": [
      "100%|██████████| 328/328 [00:29<00:00, 11.22it/s]\n"
     ]
    },
    {
     "name": "stdout",
     "output_type": "stream",
     "text": [
      "{'val_loss': 2.5864684559950013, 'val_accuracy': 0.6392067124332571, 'precision': 0.6645768055573114, 'recall': 0.6392067124332571, 'f1-score': 0.6422067354465626, 'macro_f1-score': 0.3781838221481156, 'balanced_accuracy': 0.39138704400028196, 'mcc': 0.5300074728582512, 'train_loss': 0.16355529290101514}\n",
      "Early stopping.\n",
      "\n",
      "[Fold 5]\n",
      "Label distribution after resampling:\n",
      "  label 0: 2472\n",
      "  label 1: 21\n",
      "  label 2: 64\n",
      "  label 3: 24\n",
      "  label 4: 191\n",
      "  label 5: 112\n",
      "  label 6: 92\n",
      "  label 7: 31\n",
      "  label 8: 68\n",
      "  label 9: 29\n",
      "  label 10: 68\n",
      "  label 11: 168\n",
      "  label 12: 190\n",
      "  label 13: 29\n",
      "  label 14: 22\n",
      "  label 15: 25\n",
      "  label 16: 19\n",
      "  label 17: 183\n",
      "  label 18: 92\n",
      "  label 19: 44\n",
      "  label 20: 14\n",
      "  label 21: 35\n",
      "  label 22: 76\n",
      "  label 23: 158\n",
      "  label 24: 13\n",
      "  label 25: 44\n",
      "  label 26: 84\n",
      "  label 27: 48\n",
      "  label 28: 11\n",
      "  label 29: 13\n",
      "  label 30: 11\n",
      "  label 31: 75\n",
      "  label 32: 36\n",
      "  label 33: 31\n",
      "  label 34: 30\n",
      "  label 35: 11\n",
      "  label 36: 22\n",
      "  label 37: 16\n",
      "  label 38: 33\n",
      "  label 39: 10\n",
      "  label 40: 9\n",
      "  label 41: 57\n",
      "  label 42: 18\n",
      "  label 43: 9\n",
      "  label 44: 54\n",
      "  label 45: 242\n",
      "  label 46: 61\n",
      "  label 47: 80\n",
      "model is bert-base-uncased lstm\n",
      "Using weighted CrossEntropyLoss with weights: tensor([0.7522, 5.5205, 4.4061, 5.3870, 3.3128, 3.8465, 4.0432, 5.1310, 4.3455,\n",
      "        5.1977, 4.3455, 3.4411, 3.3180, 5.1977, 5.4740, 5.3462, 5.6206, 3.3555,\n",
      "        4.0432, 4.7808, 5.9260, 5.0097, 4.2343, 3.5024, 6.0001, 4.7808, 4.1342,\n",
      "        4.6938, 6.1671, 6.0001, 6.1671, 4.2475, 4.9815, 5.1310, 5.1638, 6.1671,\n",
      "        5.4740, 5.7924, 5.0685, 6.2624, 6.3678, 4.5220, 5.6747, 6.3678, 4.5760,\n",
      "        3.0761, 4.4542, 4.1830], device='cuda:0')\n",
      "Epoch 1/20\n"
     ]
    },
    {
     "name": "stderr",
     "output_type": "stream",
     "text": [
      "100%|██████████| 328/328 [00:29<00:00, 11.21it/s]\n"
     ]
    },
    {
     "name": "stdout",
     "output_type": "stream",
     "text": [
      "{'val_loss': 2.9254733469428085, 'val_accuracy': 0.540045766590389, 'precision': 0.3475243785673661, 'recall': 0.540045766590389, 'f1-score': 0.41560949611342735, 'macro_f1-score': 0.053853888176537655, 'balanced_accuracy': 0.07846800458891531, 'mcc': 0.3238253218517071, 'train_loss': 2.332275318481573}\n",
      "Epoch 2/20\n"
     ]
    },
    {
     "name": "stderr",
     "output_type": "stream",
     "text": [
      "100%|██████████| 328/328 [00:29<00:00, 11.17it/s]\n"
     ]
    },
    {
     "name": "stdout",
     "output_type": "stream",
     "text": [
      "{'val_loss': 2.675406229205248, 'val_accuracy': 0.5827612509534706, 'precision': 0.47146767350941327, 'recall': 0.5827612509534706, 'f1-score': 0.4910717808516091, 'macro_f1-score': 0.11100733501141169, 'balanced_accuracy': 0.12250710114945133, 'mcc': 0.4040940708210518, 'train_loss': 1.8170779874412024}\n",
      "Epoch 3/20\n"
     ]
    },
    {
     "name": "stderr",
     "output_type": "stream",
     "text": [
      "100%|██████████| 328/328 [00:29<00:00, 11.18it/s]\n"
     ]
    },
    {
     "name": "stdout",
     "output_type": "stream",
     "text": [
      "{'val_loss': 2.4854895428913397, 'val_accuracy': 0.6071700991609459, 'precision': 0.48859815774184046, 'recall': 0.6071700991609459, 'f1-score': 0.5317795354772988, 'macro_f1-score': 0.16440134119844557, 'balanced_accuracy': 0.17307413414810124, 'mcc': 0.44663095395029945, 'train_loss': 1.5435376055538654}\n",
      "Epoch 4/20\n"
     ]
    },
    {
     "name": "stderr",
     "output_type": "stream",
     "text": [
      "100%|██████████| 328/328 [00:29<00:00, 11.21it/s]\n"
     ]
    },
    {
     "name": "stdout",
     "output_type": "stream",
     "text": [
      "{'val_loss': 2.425788213567036, 'val_accuracy': 0.6300533943554538, 'precision': 0.5574724420904764, 'recall': 0.6300533943554538, 'f1-score': 0.5630687352643609, 'macro_f1-score': 0.19552795639600198, 'balanced_accuracy': 0.20073349609019378, 'mcc': 0.48500127083670036, 'train_loss': 1.3007940590018179}\n",
      "Epoch 5/20\n"
     ]
    },
    {
     "name": "stderr",
     "output_type": "stream",
     "text": [
      "100%|██████████| 328/328 [00:29<00:00, 11.20it/s]\n"
     ]
    },
    {
     "name": "stdout",
     "output_type": "stream",
     "text": [
      "{'val_loss': 2.176279449244825, 'val_accuracy': 0.635392829900839, 'precision': 0.5990812676793134, 'recall': 0.635392829900839, 'f1-score': 0.605120871854468, 'macro_f1-score': 0.24955726118947175, 'balanced_accuracy': 0.2610581345346484, 'mcc': 0.5170652661488031, 'train_loss': 1.0614682711751722}\n",
      "Epoch 6/20\n"
     ]
    },
    {
     "name": "stderr",
     "output_type": "stream",
     "text": [
      "100%|██████████| 328/328 [00:29<00:00, 11.19it/s]\n"
     ]
    },
    {
     "name": "stdout",
     "output_type": "stream",
     "text": [
      "{'val_loss': 2.591070335085799, 'val_accuracy': 0.6361556064073226, 'precision': 0.5825124481203207, 'recall': 0.6361556064073226, 'f1-score': 0.5783987750234162, 'macro_f1-score': 0.237266024087336, 'balanced_accuracy': 0.2192327726764696, 'mcc': 0.4874149228320259, 'train_loss': 0.8931424558707853}\n",
      "Epoch 7/20\n"
     ]
    },
    {
     "name": "stderr",
     "output_type": "stream",
     "text": [
      "100%|██████████| 328/328 [00:29<00:00, 11.18it/s]\n"
     ]
    },
    {
     "name": "stdout",
     "output_type": "stream",
     "text": [
      "{'val_loss': 2.1298618767319657, 'val_accuracy': 0.6064073226544623, 'precision': 0.6057196350769739, 'recall': 0.6064073226544623, 'f1-score': 0.5934552164953184, 'macro_f1-score': 0.2955574815187752, 'balanced_accuracy': 0.30150139771363454, 'mcc': 0.49169539371419685, 'train_loss': 0.772565948935907}\n",
      "Epoch 8/20\n"
     ]
    },
    {
     "name": "stderr",
     "output_type": "stream",
     "text": [
      "100%|██████████| 328/328 [00:29<00:00, 11.19it/s]\n"
     ]
    },
    {
     "name": "stdout",
     "output_type": "stream",
     "text": [
      "{'val_loss': 2.3224674921210218, 'val_accuracy': 0.6529366895499619, 'precision': 0.6365188785619635, 'recall': 0.6529366895499619, 'f1-score': 0.630472315819095, 'macro_f1-score': 0.34149086447903154, 'balanced_accuracy': 0.34589717118322233, 'mcc': 0.5371373535985534, 'train_loss': 0.6360712350209857}\n",
      "Epoch 9/20\n"
     ]
    },
    {
     "name": "stderr",
     "output_type": "stream",
     "text": [
      "100%|██████████| 328/328 [00:29<00:00, 11.22it/s]\n"
     ]
    },
    {
     "name": "stdout",
     "output_type": "stream",
     "text": [
      "{'val_loss': 2.391960867294451, 'val_accuracy': 0.658276125095347, 'precision': 0.6294637234125944, 'recall': 0.658276125095347, 'f1-score': 0.6284104059907549, 'macro_f1-score': 0.33483504339361353, 'balanced_accuracy': 0.33095936090682104, 'mcc': 0.5374004839573365, 'train_loss': 0.5394698874570611}\n",
      "Epoch 10/20\n"
     ]
    },
    {
     "name": "stderr",
     "output_type": "stream",
     "text": [
      "100%|██████████| 328/328 [00:29<00:00, 11.17it/s]\n"
     ]
    },
    {
     "name": "stdout",
     "output_type": "stream",
     "text": [
      "{'val_loss': 2.2465446169783427, 'val_accuracy': 0.6475972540045767, 'precision': 0.644947942080805, 'recall': 0.6475972540045767, 'f1-score': 0.6408329843079196, 'macro_f1-score': 0.34274395684891307, 'balanced_accuracy': 0.3521641387729493, 'mcc': 0.5423070977839568, 'train_loss': 0.4445004851511884}\n",
      "Epoch 11/20\n"
     ]
    },
    {
     "name": "stderr",
     "output_type": "stream",
     "text": [
      "100%|██████████| 328/328 [00:29<00:00, 11.22it/s]\n"
     ]
    },
    {
     "name": "stdout",
     "output_type": "stream",
     "text": [
      "{'val_loss': 2.265124474356814, 'val_accuracy': 0.5751334858886347, 'precision': 0.628905109142391, 'recall': 0.5751334858886347, 'f1-score': 0.5839574149186075, 'macro_f1-score': 0.3378328262829658, 'balanced_accuracy': 0.3672005255324435, 'mcc': 0.4771318388694665, 'train_loss': 0.3739079228579635}\n",
      "Epoch 12/20\n"
     ]
    },
    {
     "name": "stderr",
     "output_type": "stream",
     "text": [
      "100%|██████████| 328/328 [00:29<00:00, 11.21it/s]\n"
     ]
    },
    {
     "name": "stdout",
     "output_type": "stream",
     "text": [
      "{'val_loss': 2.6542867632900795, 'val_accuracy': 0.6292906178489702, 'precision': 0.6315025095060248, 'recall': 0.6292906178489702, 'f1-score': 0.603983901350262, 'macro_f1-score': 0.30390700874109605, 'balanced_accuracy': 0.30426771465296826, 'mcc': 0.5072545693584408, 'train_loss': 0.35492993131416234}\n",
      "Epoch 13/20\n"
     ]
    },
    {
     "name": "stderr",
     "output_type": "stream",
     "text": [
      "100%|██████████| 328/328 [00:29<00:00, 11.17it/s]\n"
     ]
    },
    {
     "name": "stdout",
     "output_type": "stream",
     "text": [
      "{'val_loss': 2.445328644862989, 'val_accuracy': 0.6323417238749046, 'precision': 0.6307184915584958, 'recall': 0.6323417238749046, 'f1-score': 0.6228368302550702, 'macro_f1-score': 0.3681129728934979, 'balanced_accuracy': 0.37025545513222086, 'mcc': 0.5237338832989814, 'train_loss': 0.3220594360424978}\n",
      "Epoch 14/20\n"
     ]
    },
    {
     "name": "stderr",
     "output_type": "stream",
     "text": [
      "100%|██████████| 328/328 [00:29<00:00, 11.18it/s]\n"
     ]
    },
    {
     "name": "stdout",
     "output_type": "stream",
     "text": [
      "{'val_loss': 2.4400518158587015, 'val_accuracy': 0.6292906178489702, 'precision': 0.649282768253003, 'recall': 0.6292906178489702, 'f1-score': 0.6238345573020982, 'macro_f1-score': 0.3618185705532277, 'balanced_accuracy': 0.3907012200184233, 'mcc': 0.5204396280033288, 'train_loss': 0.288588184778147}\n",
      "Epoch 15/20\n"
     ]
    },
    {
     "name": "stderr",
     "output_type": "stream",
     "text": [
      "100%|██████████| 328/328 [00:29<00:00, 11.21it/s]\n"
     ]
    },
    {
     "name": "stdout",
     "output_type": "stream",
     "text": [
      "{'val_loss': 2.642043222014497, 'val_accuracy': 0.6651411136536994, 'precision': 0.6492399136293338, 'recall': 0.6651411136536994, 'f1-score': 0.647980391779477, 'macro_f1-score': 0.3866915482326188, 'balanced_accuracy': 0.36530453931728407, 'mcc': 0.5488991367694027, 'train_loss': 0.24009202718848316}\n",
      "Epoch 16/20\n"
     ]
    },
    {
     "name": "stderr",
     "output_type": "stream",
     "text": [
      "100%|██████████| 328/328 [00:29<00:00, 11.20it/s]\n"
     ]
    },
    {
     "name": "stdout",
     "output_type": "stream",
     "text": [
      "{'val_loss': 2.5637067343767095, 'val_accuracy': 0.6422578184591915, 'precision': 0.6366222654726694, 'recall': 0.6422578184591915, 'f1-score': 0.6354524372782917, 'macro_f1-score': 0.3716782548606483, 'balanced_accuracy': 0.3776823171509153, 'mcc': 0.5301780747466569, 'train_loss': 0.18729738205410085}\n",
      "Epoch 17/20\n"
     ]
    },
    {
     "name": "stderr",
     "output_type": "stream",
     "text": [
      "100%|██████████| 328/328 [00:29<00:00, 11.19it/s]\n"
     ]
    },
    {
     "name": "stdout",
     "output_type": "stream",
     "text": [
      "{'val_loss': 2.83853052956302, 'val_accuracy': 0.658276125095347, 'precision': 0.6356827039086712, 'recall': 0.658276125095347, 'f1-score': 0.6405387011550578, 'macro_f1-score': 0.3731045900255015, 'balanced_accuracy': 0.35827850763261626, 'mcc': 0.5407229687866635, 'train_loss': 0.17810302041754944}\n",
      "Epoch 18/20\n"
     ]
    },
    {
     "name": "stderr",
     "output_type": "stream",
     "text": [
      "100%|██████████| 328/328 [00:29<00:00, 11.16it/s]\n"
     ]
    },
    {
     "name": "stdout",
     "output_type": "stream",
     "text": [
      "{'val_loss': 2.7504903143498955, 'val_accuracy': 0.6689549961861174, 'precision': 0.6566271415658691, 'recall': 0.6689549961861174, 'f1-score': 0.6562129126267283, 'macro_f1-score': 0.4043296362124984, 'balanced_accuracy': 0.38969122119404503, 'mcc': 0.5568834071307165, 'train_loss': 0.15285354906624957}\n",
      "Epoch 19/20\n"
     ]
    },
    {
     "name": "stderr",
     "output_type": "stream",
     "text": [
      "100%|██████████| 328/328 [00:29<00:00, 11.19it/s]\n"
     ]
    },
    {
     "name": "stdout",
     "output_type": "stream",
     "text": [
      "{'val_loss': 2.912270162890597, 'val_accuracy': 0.6453089244851259, 'precision': 0.6364396035745352, 'recall': 0.6453089244851259, 'f1-score': 0.6316815459742082, 'macro_f1-score': 0.38614854570831164, 'balanced_accuracy': 0.370166659433675, 'mcc': 0.5216913265582483, 'train_loss': 0.1652751508958229}\n",
      "Epoch 20/20\n"
     ]
    },
    {
     "name": "stderr",
     "output_type": "stream",
     "text": [
      "100%|██████████| 328/328 [00:29<00:00, 11.21it/s]\n"
     ]
    },
    {
     "name": "stdout",
     "output_type": "stream",
     "text": [
      "{'val_loss': 2.615615255222088, 'val_accuracy': 0.6430205949656751, 'precision': 0.6427813692335042, 'recall': 0.6430205949656751, 'f1-score': 0.6358643637853186, 'macro_f1-score': 0.3765378289153695, 'balanced_accuracy': 0.3763740911174484, 'mcc': 0.5311935995199443, 'train_loss': 0.14333248432305437}\n",
      "\n",
      " === bert-base-uncased + lstm + none Final 5-fold Cross-Validation Results ===\n",
      "val_loss: 2.5948\n",
      "val_accuracy: 0.6383\n",
      "precision: 0.6470\n",
      "recall: 0.6383\n",
      "f1-score: 0.6354\n",
      "macro_f1-score: 0.3954\n",
      "balanced_accuracy: 0.4007\n",
      "mcc: 0.5287\n",
      "train_loss: 0.2331\n",
      "total_seconds: 2962.0000\n",
      "total_time: 0 hrs 49 mins 22 secs\n",
      "▶ Running: bert-base-uncased + bilstm + none\n",
      "tokenizer is bert-base-uncased\n",
      "Using device: cuda\n",
      "CUDA Available: True\n",
      "CUDA Device: NVIDIA GeForce RTX 5070 Ti\n",
      "Current GPU Memory Allocated: 0.02 GB\n",
      "Current GPU Memory Cached: 3.04 GB\n",
      "\n",
      "[Fold 1]\n",
      "Label distribution after resampling:\n",
      "  label 0: 2471\n",
      "  label 1: 21\n",
      "  label 2: 64\n",
      "  label 3: 24\n",
      "  label 4: 191\n",
      "  label 5: 113\n",
      "  label 6: 93\n",
      "  label 7: 30\n",
      "  label 8: 68\n",
      "  label 9: 30\n",
      "  label 10: 67\n",
      "  label 11: 169\n",
      "  label 12: 189\n",
      "  label 13: 29\n",
      "  label 14: 22\n",
      "  label 15: 25\n",
      "  label 16: 19\n",
      "  label 17: 183\n",
      "  label 18: 92\n",
      "  label 19: 44\n",
      "  label 20: 13\n",
      "  label 21: 35\n",
      "  label 22: 76\n",
      "  label 23: 158\n",
      "  label 24: 13\n",
      "  label 25: 44\n",
      "  label 26: 84\n",
      "  label 27: 48\n",
      "  label 28: 11\n",
      "  label 29: 13\n",
      "  label 30: 11\n",
      "  label 31: 75\n",
      "  label 32: 36\n",
      "  label 33: 32\n",
      "  label 34: 29\n",
      "  label 35: 11\n",
      "  label 36: 22\n",
      "  label 37: 16\n",
      "  label 38: 33\n",
      "  label 39: 10\n",
      "  label 40: 9\n",
      "  label 41: 57\n",
      "  label 42: 19\n",
      "  label 43: 8\n",
      "  label 44: 54\n",
      "  label 45: 242\n",
      "  label 46: 61\n",
      "  label 47: 80\n",
      "model is bert-base-uncased bilstm\n",
      "Using weighted CrossEntropyLoss with weights: tensor([0.7525, 5.5203, 4.4060, 5.3868, 3.3126, 3.8375, 4.0322, 5.1636, 4.3453,\n",
      "        5.1636, 4.3601, 3.4349, 3.3231, 5.1975, 5.4738, 5.3460, 5.6204, 3.3554,\n",
      "        4.0431, 4.7807, 5.9999, 5.0095, 4.2341, 3.5022, 5.9999, 4.7807, 4.1340,\n",
      "        4.6936, 6.1669, 5.9999, 6.1669, 4.2474, 4.9813, 5.0991, 5.1975, 6.1669,\n",
      "        5.4738, 5.7923, 5.0683, 6.2623, 6.3676, 4.5218, 5.6204, 6.4854, 4.5759,\n",
      "        3.0759, 4.4540, 4.1828], device='cuda:0')\n",
      "Epoch 1/20\n"
     ]
    },
    {
     "name": "stderr",
     "output_type": "stream",
     "text": [
      "100%|██████████| 328/328 [00:30<00:00, 10.74it/s]\n"
     ]
    },
    {
     "name": "stdout",
     "output_type": "stream",
     "text": [
      "{'val_loss': 3.1901841541615927, 'val_accuracy': 0.5442073170731707, 'precision': 0.3263025804817865, 'recall': 0.5442073170731707, 'f1-score': 0.4048051892146406, 'macro_f1-score': 0.05291016823028196, 'balanced_accuracy': 0.06956869658855303, 'mcc': 0.30806665351203666, 'train_loss': 2.3149769258935278}\n",
      "Epoch 2/20\n"
     ]
    },
    {
     "name": "stderr",
     "output_type": "stream",
     "text": [
      "100%|██████████| 328/328 [00:30<00:00, 10.78it/s]\n"
     ]
    },
    {
     "name": "stdout",
     "output_type": "stream",
     "text": [
      "{'val_loss': 2.695178864932642, 'val_accuracy': 0.5846036585365854, 'precision': 0.41852070749940146, 'recall': 0.5846036585365854, 'f1-score': 0.48029084745692757, 'macro_f1-score': 0.1129740069682873, 'balanced_accuracy': 0.12819673811737045, 'mcc': 0.3974007625803134, 'train_loss': 1.7925653326802138}\n",
      "Epoch 3/20\n"
     ]
    },
    {
     "name": "stderr",
     "output_type": "stream",
     "text": [
      "100%|██████████| 328/328 [00:30<00:00, 10.78it/s]\n"
     ]
    },
    {
     "name": "stdout",
     "output_type": "stream",
     "text": [
      "{'val_loss': 2.6599406454621293, 'val_accuracy': 0.6089939024390244, 'precision': 0.5135323388613451, 'recall': 0.6089939024390244, 'f1-score': 0.5322434143688933, 'macro_f1-score': 0.18438946355049102, 'balanced_accuracy': 0.18138768641568634, 'mcc': 0.4416514212991717, 'train_loss': 1.4529718603121071}\n",
      "Epoch 4/20\n"
     ]
    },
    {
     "name": "stderr",
     "output_type": "stream",
     "text": [
      "100%|██████████| 328/328 [00:30<00:00, 10.76it/s]\n"
     ]
    },
    {
     "name": "stdout",
     "output_type": "stream",
     "text": [
      "{'val_loss': 2.2808012606167214, 'val_accuracy': 0.6310975609756098, 'precision': 0.6038797900951941, 'recall': 0.6310975609756098, 'f1-score': 0.6070166138239962, 'macro_f1-score': 0.28633687071612024, 'balanced_accuracy': 0.30221048573194104, 'mcc': 0.5095377638685153, 'train_loss': 1.1561701598509055}\n",
      "Epoch 5/20\n"
     ]
    },
    {
     "name": "stderr",
     "output_type": "stream",
     "text": [
      "100%|██████████| 328/328 [00:30<00:00, 10.73it/s]\n"
     ]
    },
    {
     "name": "stdout",
     "output_type": "stream",
     "text": [
      "{'val_loss': 2.167714142944755, 'val_accuracy': 0.6288109756097561, 'precision': 0.6159652972689807, 'recall': 0.6288109756097561, 'f1-score': 0.6105803179260391, 'macro_f1-score': 0.3068157134191611, 'balanced_accuracy': 0.31914481935940514, 'mcc': 0.5149600273612321, 'train_loss': 0.8818439500088372}\n",
      "Epoch 6/20\n"
     ]
    },
    {
     "name": "stderr",
     "output_type": "stream",
     "text": [
      "100%|██████████| 328/328 [00:30<00:00, 10.79it/s]\n"
     ]
    },
    {
     "name": "stdout",
     "output_type": "stream",
     "text": [
      "{'val_loss': 2.3854515857812837, 'val_accuracy': 0.6364329268292683, 'precision': 0.6253813944469239, 'recall': 0.6364329268292683, 'f1-score': 0.6204673193145787, 'macro_f1-score': 0.32158694134601534, 'balanced_accuracy': 0.3203135458446737, 'mcc': 0.5131514716989063, 'train_loss': 0.68086396028265}\n",
      "Epoch 7/20\n"
     ]
    },
    {
     "name": "stderr",
     "output_type": "stream",
     "text": [
      "100%|██████████| 328/328 [00:30<00:00, 10.79it/s]\n"
     ]
    },
    {
     "name": "stdout",
     "output_type": "stream",
     "text": [
      "{'val_loss': 2.3311747610569, 'val_accuracy': 0.6219512195121951, 'precision': 0.6040296422186036, 'recall': 0.6219512195121951, 'f1-score': 0.606286903694601, 'macro_f1-score': 0.31702963055340555, 'balanced_accuracy': 0.3145193537187323, 'mcc': 0.49858893748120836, 'train_loss': 0.5375718757305749}\n",
      "Epoch 8/20\n"
     ]
    },
    {
     "name": "stderr",
     "output_type": "stream",
     "text": [
      "100%|██████████| 328/328 [00:30<00:00, 10.76it/s]\n"
     ]
    },
    {
     "name": "stdout",
     "output_type": "stream",
     "text": [
      "{'val_loss': 2.361517270527235, 'val_accuracy': 0.6402439024390244, 'precision': 0.6282451380409793, 'recall': 0.6402439024390244, 'f1-score': 0.6288324734704521, 'macro_f1-score': 0.3613817952195817, 'balanced_accuracy': 0.3667054512250701, 'mcc': 0.5255487186613133, 'train_loss': 0.4268217328254406}\n",
      "Epoch 9/20\n"
     ]
    },
    {
     "name": "stderr",
     "output_type": "stream",
     "text": [
      "100%|██████████| 328/328 [00:30<00:00, 10.77it/s]\n"
     ]
    },
    {
     "name": "stdout",
     "output_type": "stream",
     "text": [
      "{'val_loss': 2.3539268906886983, 'val_accuracy': 0.6524390243902439, 'precision': 0.644252532083578, 'recall': 0.6524390243902439, 'f1-score': 0.6418178213289374, 'macro_f1-score': 0.375330220112734, 'balanced_accuracy': 0.3869681235625941, 'mcc': 0.5452892623757349, 'train_loss': 0.3350520507239441}\n",
      "Epoch 10/20\n"
     ]
    },
    {
     "name": "stderr",
     "output_type": "stream",
     "text": [
      "100%|██████████| 328/328 [00:30<00:00, 10.80it/s]\n"
     ]
    },
    {
     "name": "stdout",
     "output_type": "stream",
     "text": [
      "{'val_loss': 2.7159873519728825, 'val_accuracy': 0.6440548780487805, 'precision': 0.635223701533011, 'recall': 0.6440548780487805, 'f1-score': 0.6277078130185431, 'macro_f1-score': 0.36486650860020137, 'balanced_accuracy': 0.3550141532443316, 'mcc': 0.5166182035091621, 'train_loss': 0.261866630273644}\n",
      "Epoch 11/20\n"
     ]
    },
    {
     "name": "stderr",
     "output_type": "stream",
     "text": [
      "100%|██████████| 328/328 [00:30<00:00, 10.79it/s]\n"
     ]
    },
    {
     "name": "stdout",
     "output_type": "stream",
     "text": [
      "{'val_loss': 2.784625786833647, 'val_accuracy': 0.6432926829268293, 'precision': 0.6243865710551241, 'recall': 0.6432926829268293, 'f1-score': 0.6237251272439622, 'macro_f1-score': 0.3381830274959405, 'balanced_accuracy': 0.3377196088486021, 'mcc': 0.5194949735734057, 'train_loss': 0.22102558182938614}\n",
      "Epoch 12/20\n"
     ]
    },
    {
     "name": "stderr",
     "output_type": "stream",
     "text": [
      "100%|██████████| 328/328 [00:30<00:00, 10.74it/s]\n"
     ]
    },
    {
     "name": "stdout",
     "output_type": "stream",
     "text": [
      "{'val_loss': 2.62584497434337, 'val_accuracy': 0.645579268292683, 'precision': 0.6351569956221403, 'recall': 0.645579268292683, 'f1-score': 0.6341955704623091, 'macro_f1-score': 0.3827736468488679, 'balanced_accuracy': 0.3774917889426475, 'mcc': 0.5297339644731973, 'train_loss': 0.19883150040887568}\n",
      "Epoch 13/20\n"
     ]
    },
    {
     "name": "stderr",
     "output_type": "stream",
     "text": [
      "100%|██████████| 328/328 [00:30<00:00, 10.80it/s]\n"
     ]
    },
    {
     "name": "stdout",
     "output_type": "stream",
     "text": [
      "{'val_loss': 2.7522310211164194, 'val_accuracy': 0.6402439024390244, 'precision': 0.6322893818551135, 'recall': 0.6402439024390244, 'f1-score': 0.6267755473011659, 'macro_f1-score': 0.3591255808940101, 'balanced_accuracy': 0.3449076892994119, 'mcc': 0.5156112519321739, 'train_loss': 0.18380580605689165}\n",
      "Epoch 14/20\n"
     ]
    },
    {
     "name": "stderr",
     "output_type": "stream",
     "text": [
      "100%|██████████| 328/328 [00:30<00:00, 10.80it/s]\n"
     ]
    },
    {
     "name": "stdout",
     "output_type": "stream",
     "text": [
      "{'val_loss': 2.7532461414613376, 'val_accuracy': 0.65625, 'precision': 0.6347073891524919, 'recall': 0.65625, 'f1-score': 0.6371798344263176, 'macro_f1-score': 0.38148143351858543, 'balanced_accuracy': 0.3716752029216261, 'mcc': 0.5326437542042513, 'train_loss': 0.1429017504787913}\n",
      "Epoch 15/20\n"
     ]
    },
    {
     "name": "stderr",
     "output_type": "stream",
     "text": [
      "100%|██████████| 328/328 [00:30<00:00, 10.74it/s]\n"
     ]
    },
    {
     "name": "stdout",
     "output_type": "stream",
     "text": [
      "{'val_loss': 2.774123208188429, 'val_accuracy': 0.6463414634146342, 'precision': 0.6329168244019897, 'recall': 0.6463414634146342, 'f1-score': 0.6328516413714804, 'macro_f1-score': 0.35072275497763533, 'balanced_accuracy': 0.3421046526420615, 'mcc': 0.5286584433080819, 'train_loss': 0.11035780249257209}\n",
      "Early stopping.\n",
      "\n",
      "[Fold 2]\n",
      "Label distribution after resampling:\n",
      "  label 0: 2471\n",
      "  label 1: 22\n",
      "  label 2: 64\n",
      "  label 3: 24\n",
      "  label 4: 190\n",
      "  label 5: 113\n",
      "  label 6: 93\n",
      "  label 7: 30\n",
      "  label 8: 68\n",
      "  label 9: 30\n",
      "  label 10: 67\n",
      "  label 11: 169\n",
      "  label 12: 189\n",
      "  label 13: 29\n",
      "  label 14: 23\n",
      "  label 15: 24\n",
      "  label 16: 20\n",
      "  label 17: 182\n",
      "  label 18: 92\n",
      "  label 19: 44\n",
      "  label 20: 13\n",
      "  label 21: 36\n",
      "  label 22: 76\n",
      "  label 23: 157\n",
      "  label 24: 12\n",
      "  label 25: 44\n",
      "  label 26: 84\n",
      "  label 27: 48\n",
      "  label 28: 12\n",
      "  label 29: 12\n",
      "  label 30: 12\n",
      "  label 31: 75\n",
      "  label 32: 36\n",
      "  label 33: 31\n",
      "  label 34: 29\n",
      "  label 35: 12\n",
      "  label 36: 21\n",
      "  label 37: 16\n",
      "  label 38: 33\n",
      "  label 39: 11\n",
      "  label 40: 8\n",
      "  label 41: 57\n",
      "  label 42: 19\n",
      "  label 43: 9\n",
      "  label 44: 54\n",
      "  label 45: 242\n",
      "  label 46: 62\n",
      "  label 47: 80\n",
      "model is bert-base-uncased bilstm\n",
      "Using weighted CrossEntropyLoss with weights: tensor([0.7527, 5.4740, 4.4061, 5.3870, 3.3180, 3.8376, 4.0324, 5.1638, 4.3455,\n",
      "        5.1638, 4.3603, 3.4351, 3.3233, 5.1977, 5.4295, 5.3870, 5.5693, 3.3610,\n",
      "        4.0432, 4.7808, 6.0001, 4.9815, 4.2343, 3.5088, 6.0801, 4.7808, 4.1342,\n",
      "        4.6938, 6.0801, 6.0801, 6.0801, 4.2475, 4.9815, 5.1310, 5.1977, 6.0801,\n",
      "        5.5205, 5.7924, 5.0685, 6.1671, 6.4856, 4.5220, 5.6206, 6.3678, 4.5760,\n",
      "        3.0761, 4.4379, 4.1830], device='cuda:0')\n",
      "Epoch 1/20\n"
     ]
    },
    {
     "name": "stderr",
     "output_type": "stream",
     "text": [
      "100%|██████████| 328/328 [00:30<00:00, 10.80it/s]\n"
     ]
    },
    {
     "name": "stdout",
     "output_type": "stream",
     "text": [
      "{'val_loss': 3.1530205214895854, 'val_accuracy': 0.5499618611746758, 'precision': 0.332837611955836, 'recall': 0.5499618611746758, 'f1-score': 0.4123520744134263, 'macro_f1-score': 0.05522083588822015, 'balanced_accuracy': 0.06638917469865391, 'mcc': 0.3166208904401914, 'train_loss': 2.3218425710390256}\n",
      "Epoch 2/20\n"
     ]
    },
    {
     "name": "stderr",
     "output_type": "stream",
     "text": [
      "100%|██████████| 328/328 [00:30<00:00, 10.79it/s]\n"
     ]
    },
    {
     "name": "stdout",
     "output_type": "stream",
     "text": [
      "{'val_loss': 2.8187508597606565, 'val_accuracy': 0.5736079328756675, 'precision': 0.39393381465645155, 'recall': 0.5736079328756675, 'f1-score': 0.45596544681295986, 'macro_f1-score': 0.07029995035670124, 'balanced_accuracy': 0.08803631207829972, 'mcc': 0.3757857480325714, 'train_loss': 1.8305673504747995}\n",
      "Epoch 3/20\n"
     ]
    },
    {
     "name": "stderr",
     "output_type": "stream",
     "text": [
      "100%|██████████| 328/328 [00:30<00:00, 10.81it/s]\n"
     ]
    },
    {
     "name": "stdout",
     "output_type": "stream",
     "text": [
      "{'val_loss': 2.4628491736039884, 'val_accuracy': 0.5942028985507246, 'precision': 0.5166939228861397, 'recall': 0.5942028985507246, 'f1-score': 0.5355334435095838, 'macro_f1-score': 0.157450974910156, 'balanced_accuracy': 0.1657757328787417, 'mcc': 0.442565333022875, 'train_loss': 1.49578817461322}\n",
      "Epoch 4/20\n"
     ]
    },
    {
     "name": "stderr",
     "output_type": "stream",
     "text": [
      "100%|██████████| 328/328 [00:30<00:00, 10.75it/s]\n"
     ]
    },
    {
     "name": "stdout",
     "output_type": "stream",
     "text": [
      "{'val_loss': 2.3994225307208734, 'val_accuracy': 0.6262395118230358, 'precision': 0.5490998710831237, 'recall': 0.6262395118230358, 'f1-score': 0.5728084230530641, 'macro_f1-score': 0.22089961131547783, 'balanced_accuracy': 0.22514783289683638, 'mcc': 0.4837865704520181, 'train_loss': 1.1891908930932604}\n",
      "Epoch 5/20\n"
     ]
    },
    {
     "name": "stderr",
     "output_type": "stream",
     "text": [
      "100%|██████████| 328/328 [00:30<00:00, 10.78it/s]\n"
     ]
    },
    {
     "name": "stdout",
     "output_type": "stream",
     "text": [
      "{'val_loss': 2.3641110942131136, 'val_accuracy': 0.6117467581998475, 'precision': 0.5652866657360971, 'recall': 0.6117467581998475, 'f1-score': 0.577957372761887, 'macro_f1-score': 0.22995413395054762, 'balanced_accuracy': 0.24265035194294662, 'mcc': 0.47546197890198566, 'train_loss': 0.9487564078554874}\n",
      "Epoch 6/20\n"
     ]
    },
    {
     "name": "stderr",
     "output_type": "stream",
     "text": [
      "100%|██████████| 328/328 [00:30<00:00, 10.79it/s]\n"
     ]
    },
    {
     "name": "stdout",
     "output_type": "stream",
     "text": [
      "{'val_loss': 2.092969605108587, 'val_accuracy': 0.6209000762776506, 'precision': 0.6184414380837706, 'recall': 0.6209000762776506, 'f1-score': 0.6077471352206867, 'macro_f1-score': 0.2911001152452033, 'balanced_accuracy': 0.3151255553680835, 'mcc': 0.5119521900350125, 'train_loss': 0.7375293058206941}\n",
      "Epoch 7/20\n"
     ]
    },
    {
     "name": "stderr",
     "output_type": "stream",
     "text": [
      "100%|██████████| 328/328 [00:30<00:00, 10.75it/s]\n"
     ]
    },
    {
     "name": "stdout",
     "output_type": "stream",
     "text": [
      "{'val_loss': 2.36341504389193, 'val_accuracy': 0.6392067124332571, 'precision': 0.6081046364733163, 'recall': 0.6392067124332571, 'f1-score': 0.6150282319623345, 'macro_f1-score': 0.3022867463289593, 'balanced_accuracy': 0.3172314574817891, 'mcc': 0.5179762964495869, 'train_loss': 0.5778920426283304}\n",
      "Epoch 8/20\n"
     ]
    },
    {
     "name": "stderr",
     "output_type": "stream",
     "text": [
      "100%|██████████| 328/328 [00:30<00:00, 10.77it/s]\n"
     ]
    },
    {
     "name": "stdout",
     "output_type": "stream",
     "text": [
      "{'val_loss': 2.3862060192154675, 'val_accuracy': 0.6300533943554538, 'precision': 0.6108749988494792, 'recall': 0.6300533943554538, 'f1-score': 0.6096433627568169, 'macro_f1-score': 0.3002966336171052, 'balanced_accuracy': 0.30456333501681093, 'mcc': 0.5041344428338537, 'train_loss': 0.45706940202678487}\n",
      "Epoch 9/20\n"
     ]
    },
    {
     "name": "stderr",
     "output_type": "stream",
     "text": [
      "100%|██████████| 328/328 [00:30<00:00, 10.81it/s]\n"
     ]
    },
    {
     "name": "stdout",
     "output_type": "stream",
     "text": [
      "{'val_loss': 2.504682271945767, 'val_accuracy': 0.6392067124332571, 'precision': 0.6147680137439625, 'recall': 0.6392067124332571, 'f1-score': 0.6194410145363564, 'macro_f1-score': 0.3193406882428341, 'balanced_accuracy': 0.31937702248674843, 'mcc': 0.5169526714500088, 'train_loss': 0.38025538521114643}\n",
      "Epoch 10/20\n"
     ]
    },
    {
     "name": "stderr",
     "output_type": "stream",
     "text": [
      "100%|██████████| 328/328 [00:30<00:00, 10.80it/s]\n"
     ]
    },
    {
     "name": "stdout",
     "output_type": "stream",
     "text": [
      "{'val_loss': 2.3995772716475696, 'val_accuracy': 0.6193745232646835, 'precision': 0.6151458060846589, 'recall': 0.6193745232646835, 'f1-score': 0.6104853384377711, 'macro_f1-score': 0.32625731229038374, 'balanced_accuracy': 0.35355086188271106, 'mcc': 0.5075264285036203, 'train_loss': 0.29757869440108176}\n",
      "Epoch 11/20\n"
     ]
    },
    {
     "name": "stderr",
     "output_type": "stream",
     "text": [
      "100%|██████████| 328/328 [00:30<00:00, 10.74it/s]\n"
     ]
    },
    {
     "name": "stdout",
     "output_type": "stream",
     "text": [
      "{'val_loss': 2.43568189841945, 'val_accuracy': 0.6376811594202898, 'precision': 0.6357443447699723, 'recall': 0.6376811594202898, 'f1-score': 0.6291490297093698, 'macro_f1-score': 0.3427469406992886, 'balanced_accuracy': 0.344277226284927, 'mcc': 0.5207215249744508, 'train_loss': 0.24687069066709316}\n",
      "Epoch 12/20\n"
     ]
    },
    {
     "name": "stderr",
     "output_type": "stream",
     "text": [
      "100%|██████████| 328/328 [00:30<00:00, 10.83it/s]\n"
     ]
    },
    {
     "name": "stdout",
     "output_type": "stream",
     "text": [
      "{'val_loss': 2.6350312276584344, 'val_accuracy': 0.6483600305110603, 'precision': 0.6365743077470617, 'recall': 0.6483600305110603, 'f1-score': 0.6268688468734332, 'macro_f1-score': 0.34857677733402265, 'balanced_accuracy': 0.32823094434903666, 'mcc': 0.5241463017633048, 'train_loss': 0.20776127556781854}\n",
      "Epoch 13/20\n"
     ]
    },
    {
     "name": "stderr",
     "output_type": "stream",
     "text": [
      "100%|██████████| 328/328 [00:30<00:00, 10.79it/s]\n"
     ]
    },
    {
     "name": "stdout",
     "output_type": "stream",
     "text": [
      "{'val_loss': 2.489601841060127, 'val_accuracy': 0.6414950419527079, 'precision': 0.6387809386240629, 'recall': 0.6414950419527079, 'f1-score': 0.6332242608994, 'macro_f1-score': 0.38166197368444726, 'balanced_accuracy': 0.39427485775134397, 'mcc': 0.5290322068545615, 'train_loss': 0.19844202467569763}\n",
      "Epoch 14/20\n"
     ]
    },
    {
     "name": "stderr",
     "output_type": "stream",
     "text": [
      "100%|██████████| 328/328 [00:30<00:00, 10.80it/s]\n"
     ]
    },
    {
     "name": "stdout",
     "output_type": "stream",
     "text": [
      "{'val_loss': 2.635897251164041, 'val_accuracy': 0.6323417238749046, 'precision': 0.632042074602867, 'recall': 0.6323417238749046, 'f1-score': 0.625959993369223, 'macro_f1-score': 0.3545360307224059, 'balanced_accuracy': 0.36527528880885196, 'mcc': 0.5169320870419967, 'train_loss': 0.15141854185338427}\n",
      "Epoch 15/20\n"
     ]
    },
    {
     "name": "stderr",
     "output_type": "stream",
     "text": [
      "100%|██████████| 328/328 [00:30<00:00, 10.76it/s]\n"
     ]
    },
    {
     "name": "stdout",
     "output_type": "stream",
     "text": [
      "{'val_loss': 2.528113559978764, 'val_accuracy': 0.6285278413424866, 'precision': 0.6349254193512192, 'recall': 0.6285278413424866, 'f1-score': 0.6262529798925028, 'macro_f1-score': 0.3771579808666165, 'balanced_accuracy': 0.3954412608705519, 'mcc': 0.5186375008666287, 'train_loss': 0.11766749262389523}\n",
      "Epoch 16/20\n"
     ]
    },
    {
     "name": "stderr",
     "output_type": "stream",
     "text": [
      "100%|██████████| 328/328 [00:30<00:00, 10.80it/s]\n"
     ]
    },
    {
     "name": "stdout",
     "output_type": "stream",
     "text": [
      "{'val_loss': 2.7961247192650305, 'val_accuracy': 0.6193745232646835, 'precision': 0.6264106307828365, 'recall': 0.6193745232646835, 'f1-score': 0.6164670540772613, 'macro_f1-score': 0.3819962392463119, 'balanced_accuracy': 0.37545149133708833, 'mcc': 0.4996512875504751, 'train_loss': 0.09962736606092487}\n",
      "Epoch 17/20\n"
     ]
    },
    {
     "name": "stderr",
     "output_type": "stream",
     "text": [
      "100%|██████████| 328/328 [00:30<00:00, 10.82it/s]\n"
     ]
    },
    {
     "name": "stdout",
     "output_type": "stream",
     "text": [
      "{'val_loss': 2.6438174364043445, 'val_accuracy': 0.6575133485888635, 'precision': 0.6579629229507091, 'recall': 0.6575133485888635, 'f1-score': 0.6482723177999609, 'macro_f1-score': 0.396389006278111, 'balanced_accuracy': 0.39952875252319825, 'mcc': 0.5467221104164404, 'train_loss': 0.0985957205553948}\n",
      "Epoch 18/20\n"
     ]
    },
    {
     "name": "stderr",
     "output_type": "stream",
     "text": [
      "100%|██████████| 328/328 [00:30<00:00, 10.74it/s]\n"
     ]
    },
    {
     "name": "stdout",
     "output_type": "stream",
     "text": [
      "{'val_loss': 2.7360410065185734, 'val_accuracy': 0.6544622425629291, 'precision': 0.6417064654452204, 'recall': 0.6544622425629291, 'f1-score': 0.6393932516014409, 'macro_f1-score': 0.35768505235618037, 'balanced_accuracy': 0.36538652499266333, 'mcc': 0.5383842636234096, 'train_loss': 0.125891438272935}\n",
      "Epoch 19/20\n"
     ]
    },
    {
     "name": "stderr",
     "output_type": "stream",
     "text": [
      "100%|██████████| 328/328 [00:30<00:00, 10.81it/s]\n"
     ]
    },
    {
     "name": "stdout",
     "output_type": "stream",
     "text": [
      "{'val_loss': 3.092421653794079, 'val_accuracy': 0.6491228070175439, 'precision': 0.6229159293929151, 'recall': 0.6491228070175439, 'f1-score': 0.6256053546044529, 'macro_f1-score': 0.34919402131448213, 'balanced_accuracy': 0.33226155963332465, 'mcc': 0.5258780067804516, 'train_loss': 0.07376300265285664}\n",
      "Epoch 20/20\n"
     ]
    },
    {
     "name": "stderr",
     "output_type": "stream",
     "text": [
      "100%|██████████| 328/328 [00:30<00:00, 10.80it/s]\n"
     ]
    },
    {
     "name": "stdout",
     "output_type": "stream",
     "text": [
      "{'val_loss': 2.9949467451107212, 'val_accuracy': 0.6376811594202898, 'precision': 0.6338382384920405, 'recall': 0.6376811594202898, 'f1-score': 0.6251741812520926, 'macro_f1-score': 0.36399158855014324, 'balanced_accuracy': 0.3828030572856112, 'mcc': 0.5158078979516224, 'train_loss': 0.07702250610653698}\n",
      "Early stopping.\n",
      "\n",
      "[Fold 3]\n",
      "Label distribution after resampling:\n",
      "  label 0: 2471\n",
      "  label 1: 22\n",
      "  label 2: 64\n",
      "  label 3: 24\n",
      "  label 4: 190\n",
      "  label 5: 113\n",
      "  label 6: 93\n",
      "  label 7: 30\n",
      "  label 8: 68\n",
      "  label 9: 30\n",
      "  label 10: 67\n",
      "  label 11: 169\n",
      "  label 12: 190\n",
      "  label 13: 28\n",
      "  label 14: 23\n",
      "  label 15: 25\n",
      "  label 16: 19\n",
      "  label 17: 182\n",
      "  label 18: 92\n",
      "  label 19: 44\n",
      "  label 20: 14\n",
      "  label 21: 35\n",
      "  label 22: 76\n",
      "  label 23: 157\n",
      "  label 24: 13\n",
      "  label 25: 44\n",
      "  label 26: 84\n",
      "  label 27: 48\n",
      "  label 28: 11\n",
      "  label 29: 13\n",
      "  label 30: 11\n",
      "  label 31: 76\n",
      "  label 32: 36\n",
      "  label 33: 31\n",
      "  label 34: 30\n",
      "  label 35: 11\n",
      "  label 36: 21\n",
      "  label 37: 16\n",
      "  label 38: 32\n",
      "  label 39: 11\n",
      "  label 40: 9\n",
      "  label 41: 57\n",
      "  label 42: 18\n",
      "  label 43: 9\n",
      "  label 44: 55\n",
      "  label 45: 241\n",
      "  label 46: 62\n",
      "  label 47: 80\n",
      "model is bert-base-uncased bilstm\n",
      "Using weighted CrossEntropyLoss with weights: tensor([0.7527, 5.4740, 4.4061, 5.3870, 3.3180, 3.8376, 4.0324, 5.1638, 4.3455,\n",
      "        5.1638, 4.3603, 3.4351, 3.3180, 5.2328, 5.4295, 5.3462, 5.6206, 3.3610,\n",
      "        4.0432, 4.7808, 5.9260, 5.0097, 4.2343, 3.5088, 6.0001, 4.7808, 4.1342,\n",
      "        4.6938, 6.1671, 6.0001, 6.1671, 4.2343, 4.9815, 5.1310, 5.1638, 6.1671,\n",
      "        5.5205, 5.7924, 5.0993, 6.1671, 6.3678, 4.5220, 5.6747, 6.3678, 4.5577,\n",
      "        3.0802, 4.4379, 4.1830], device='cuda:0')\n",
      "Epoch 1/20\n"
     ]
    },
    {
     "name": "stderr",
     "output_type": "stream",
     "text": [
      "100%|██████████| 328/328 [00:30<00:00, 10.76it/s]\n"
     ]
    },
    {
     "name": "stdout",
     "output_type": "stream",
     "text": [
      "{'val_loss': 3.164289769602985, 'val_accuracy': 0.5606407322654462, 'precision': 0.3487039917814827, 'recall': 0.5606407322654462, 'f1-score': 0.4240997870926092, 'macro_f1-score': 0.06781214357789907, 'balanced_accuracy': 0.07996539314517347, 'mcc': 0.3395026775623046, 'train_loss': 2.3208905870958074}\n",
      "Epoch 2/20\n"
     ]
    },
    {
     "name": "stderr",
     "output_type": "stream",
     "text": [
      "100%|██████████| 328/328 [00:30<00:00, 10.78it/s]\n"
     ]
    },
    {
     "name": "stdout",
     "output_type": "stream",
     "text": [
      "{'val_loss': 2.7295700231703317, 'val_accuracy': 0.5720823798627003, 'precision': 0.42217625955898336, 'recall': 0.5720823798627003, 'f1-score': 0.4721303085423916, 'macro_f1-score': 0.09090418237082509, 'balanced_accuracy': 0.1088527804045946, 'mcc': 0.3875456675420175, 'train_loss': 1.7998791656843045}\n",
      "Epoch 3/20\n"
     ]
    },
    {
     "name": "stderr",
     "output_type": "stream",
     "text": [
      "100%|██████████| 328/328 [00:30<00:00, 10.80it/s]\n"
     ]
    },
    {
     "name": "stdout",
     "output_type": "stream",
     "text": [
      "{'val_loss': 2.4404669251383804, 'val_accuracy': 0.5957284515636918, 'precision': 0.5307032023401863, 'recall': 0.5957284515636918, 'f1-score': 0.543687149721625, 'macro_f1-score': 0.17889069957866544, 'balanced_accuracy': 0.19032812027813983, 'mcc': 0.4454650951720647, 'train_loss': 1.4726445231495835}\n",
      "Epoch 4/20\n"
     ]
    },
    {
     "name": "stderr",
     "output_type": "stream",
     "text": [
      "100%|██████████| 328/328 [00:30<00:00, 10.79it/s]\n"
     ]
    },
    {
     "name": "stdout",
     "output_type": "stream",
     "text": [
      "{'val_loss': 2.581199320714648, 'val_accuracy': 0.5911517925247902, 'precision': 0.5263283163366158, 'recall': 0.5911517925247902, 'f1-score': 0.543114982138491, 'macro_f1-score': 0.19350451758645645, 'balanced_accuracy': 0.20000914758498708, 'mcc': 0.434264646114353, 'train_loss': 1.2090294819052627}\n",
      "Epoch 5/20\n"
     ]
    },
    {
     "name": "stderr",
     "output_type": "stream",
     "text": [
      "100%|██████████| 328/328 [00:30<00:00, 10.78it/s]\n"
     ]
    },
    {
     "name": "stdout",
     "output_type": "stream",
     "text": [
      "{'val_loss': 2.4656597430386196, 'val_accuracy': 0.6270022883295194, 'precision': 0.5661311921005743, 'recall': 0.6270022883295194, 'f1-score': 0.583113858892296, 'macro_f1-score': 0.2361270333334172, 'balanced_accuracy': 0.23134992181486258, 'mcc': 0.4859976471072828, 'train_loss': 0.9778791275329706}\n",
      "Epoch 6/20\n"
     ]
    },
    {
     "name": "stderr",
     "output_type": "stream",
     "text": [
      "100%|██████████| 328/328 [00:30<00:00, 10.78it/s]\n"
     ]
    },
    {
     "name": "stdout",
     "output_type": "stream",
     "text": [
      "{'val_loss': 2.3064213191590657, 'val_accuracy': 0.6186117467581999, 'precision': 0.5848743807196362, 'recall': 0.6186117467581999, 'f1-score': 0.5944659099505369, 'macro_f1-score': 0.2740173273223077, 'balanced_accuracy': 0.27135926393944954, 'mcc': 0.4881132165622272, 'train_loss': 0.7679272405803204}\n",
      "Epoch 7/20\n"
     ]
    },
    {
     "name": "stderr",
     "output_type": "stream",
     "text": [
      "100%|██████████| 328/328 [00:30<00:00, 10.82it/s]\n"
     ]
    },
    {
     "name": "stdout",
     "output_type": "stream",
     "text": [
      "{'val_loss': 2.343459230552359, 'val_accuracy': 0.6079328756674295, 'precision': 0.6051356673019195, 'recall': 0.6079328756674295, 'f1-score': 0.5985392052552435, 'macro_f1-score': 0.29699623417085314, 'balanced_accuracy': 0.30218696054393096, 'mcc': 0.48545168008754175, 'train_loss': 0.6203916283074494}\n",
      "Epoch 8/20\n"
     ]
    },
    {
     "name": "stderr",
     "output_type": "stream",
     "text": [
      "100%|██████████| 328/328 [00:30<00:00, 10.81it/s]\n"
     ]
    },
    {
     "name": "stdout",
     "output_type": "stream",
     "text": [
      "{'val_loss': 2.389626642189375, 'val_accuracy': 0.6033562166285278, 'precision': 0.6197569382374978, 'recall': 0.6033562166285278, 'f1-score': 0.5978591343829083, 'macro_f1-score': 0.31184216097932266, 'balanced_accuracy': 0.3133553719205316, 'mcc': 0.4846776694984977, 'train_loss': 0.4978364734092682}\n",
      "Epoch 9/20\n"
     ]
    },
    {
     "name": "stderr",
     "output_type": "stream",
     "text": [
      "100%|██████████| 328/328 [00:30<00:00, 10.76it/s]\n"
     ]
    },
    {
     "name": "stdout",
     "output_type": "stream",
     "text": [
      "{'val_loss': 2.3879267044547126, 'val_accuracy': 0.6270022883295194, 'precision': 0.6183546465732542, 'recall': 0.6270022883295194, 'f1-score': 0.6166113331837351, 'macro_f1-score': 0.33298650946313973, 'balanced_accuracy': 0.33840962240147787, 'mcc': 0.509801356180583, 'train_loss': 0.392200421604396}\n",
      "Epoch 10/20\n"
     ]
    },
    {
     "name": "stderr",
     "output_type": "stream",
     "text": [
      "100%|██████████| 328/328 [00:30<00:00, 10.83it/s]\n"
     ]
    },
    {
     "name": "stdout",
     "output_type": "stream",
     "text": [
      "{'val_loss': 2.4609063107792926, 'val_accuracy': 0.6170861937452327, 'precision': 0.6331122269116549, 'recall': 0.6170861937452327, 'f1-score': 0.6149321492282415, 'macro_f1-score': 0.3314130718495951, 'balanced_accuracy': 0.33195387473831156, 'mcc': 0.4974938449776858, 'train_loss': 0.3039150329295364}\n",
      "Epoch 11/20\n"
     ]
    },
    {
     "name": "stderr",
     "output_type": "stream",
     "text": [
      "100%|██████████| 328/328 [00:30<00:00, 10.80it/s]\n"
     ]
    },
    {
     "name": "stdout",
     "output_type": "stream",
     "text": [
      "{'val_loss': 2.663217617244255, 'val_accuracy': 0.6193745232646835, 'precision': 0.6259451911618781, 'recall': 0.6193745232646835, 'f1-score': 0.6151941205099409, 'macro_f1-score': 0.35184598132248146, 'balanced_accuracy': 0.33827542647793335, 'mcc': 0.4961515892699437, 'train_loss': 0.2636093975260581}\n",
      "Epoch 12/20\n"
     ]
    },
    {
     "name": "stderr",
     "output_type": "stream",
     "text": [
      "100%|██████████| 328/328 [00:30<00:00, 10.74it/s]\n"
     ]
    },
    {
     "name": "stdout",
     "output_type": "stream",
     "text": [
      "{'val_loss': 2.5243585106076263, 'val_accuracy': 0.6437833714721587, 'precision': 0.643678934264158, 'recall': 0.6437833714721587, 'f1-score': 0.6377825917618601, 'macro_f1-score': 0.3793812074037131, 'balanced_accuracy': 0.3898688671470369, 'mcc': 0.5350188029905779, 'train_loss': 0.2058311204437348}\n",
      "Epoch 13/20\n"
     ]
    },
    {
     "name": "stderr",
     "output_type": "stream",
     "text": [
      "100%|██████████| 328/328 [00:30<00:00, 10.80it/s]\n"
     ]
    },
    {
     "name": "stdout",
     "output_type": "stream",
     "text": [
      "{'val_loss': 3.104170552114161, 'val_accuracy': 0.6483600305110603, 'precision': 0.6138541585904945, 'recall': 0.6483600305110603, 'f1-score': 0.6157400076224704, 'macro_f1-score': 0.34099438763280915, 'balanced_accuracy': 0.30748725066001975, 'mcc': 0.5132368972293128, 'train_loss': 0.20190526079670412}\n",
      "Epoch 14/20\n"
     ]
    },
    {
     "name": "stderr",
     "output_type": "stream",
     "text": [
      "100%|██████████| 328/328 [00:30<00:00, 10.80it/s]\n"
     ]
    },
    {
     "name": "stdout",
     "output_type": "stream",
     "text": [
      "{'val_loss': 2.840806172024913, 'val_accuracy': 0.6346300533943554, 'precision': 0.616439383083005, 'recall': 0.6346300533943554, 'f1-score': 0.6206453240947567, 'macro_f1-score': 0.3644264390467104, 'balanced_accuracy': 0.3572934374893119, 'mcc': 0.5101597069477221, 'train_loss': 0.15474120826778434}\n",
      "Epoch 15/20\n"
     ]
    },
    {
     "name": "stderr",
     "output_type": "stream",
     "text": [
      "100%|██████████| 328/328 [00:30<00:00, 10.82it/s]\n"
     ]
    },
    {
     "name": "stdout",
     "output_type": "stream",
     "text": [
      "{'val_loss': 2.749110129184839, 'val_accuracy': 0.6414950419527079, 'precision': 0.6239227772332127, 'recall': 0.6414950419527079, 'f1-score': 0.6253587435852485, 'macro_f1-score': 0.38433183687193706, 'balanced_accuracy': 0.3705849772013261, 'mcc': 0.5192246150527635, 'train_loss': 0.13865378988969207}\n",
      "Epoch 16/20\n"
     ]
    },
    {
     "name": "stderr",
     "output_type": "stream",
     "text": [
      "100%|██████████| 328/328 [00:30<00:00, 10.77it/s]\n"
     ]
    },
    {
     "name": "stdout",
     "output_type": "stream",
     "text": [
      "{'val_loss': 3.8237591628439542, 'val_accuracy': 0.6384439359267735, 'precision': 0.6053445313332727, 'recall': 0.6384439359267735, 'f1-score': 0.5920877442323927, 'macro_f1-score': 0.3429809153947847, 'balanced_accuracy': 0.30220328354655807, 'mcc': 0.49021988718997567, 'train_loss': 0.11542528243053977}\n",
      "Epoch 17/20\n"
     ]
    },
    {
     "name": "stderr",
     "output_type": "stream",
     "text": [
      "100%|██████████| 328/328 [00:30<00:00, 10.79it/s]\n"
     ]
    },
    {
     "name": "stdout",
     "output_type": "stream",
     "text": [
      "{'val_loss': 2.91179310512252, 'val_accuracy': 0.6193745232646835, 'precision': 0.6320744757103581, 'recall': 0.6193745232646835, 'f1-score': 0.6181246938099412, 'macro_f1-score': 0.3960282204850894, 'balanced_accuracy': 0.4124809436560413, 'mcc': 0.5030197538180672, 'train_loss': 0.15001906017437805}\n",
      "Epoch 18/20\n"
     ]
    },
    {
     "name": "stderr",
     "output_type": "stream",
     "text": [
      "100%|██████████| 328/328 [00:30<00:00, 10.81it/s]\n"
     ]
    },
    {
     "name": "stdout",
     "output_type": "stream",
     "text": [
      "{'val_loss': 2.904622161352053, 'val_accuracy': 0.6270022883295194, 'precision': 0.6386777948586393, 'recall': 0.6270022883295194, 'f1-score': 0.6245987867520619, 'macro_f1-score': 0.39594452899506294, 'balanced_accuracy': 0.3789300605065624, 'mcc': 0.5113321883557606, 'train_loss': 0.10583812168163316}\n",
      "Epoch 19/20\n"
     ]
    },
    {
     "name": "stderr",
     "output_type": "stream",
     "text": [
      "100%|██████████| 328/328 [00:30<00:00, 10.77it/s]\n"
     ]
    },
    {
     "name": "stdout",
     "output_type": "stream",
     "text": [
      "{'val_loss': 2.9563411575991934, 'val_accuracy': 0.6369183829138062, 'precision': 0.6299743426011539, 'recall': 0.6369183829138062, 'f1-score': 0.628729411676097, 'macro_f1-score': 0.38156714988246937, 'balanced_accuracy': 0.37586436074716745, 'mcc': 0.5178761659819866, 'train_loss': 0.07969100307105337}\n",
      "Epoch 20/20\n"
     ]
    },
    {
     "name": "stderr",
     "output_type": "stream",
     "text": [
      "100%|██████████| 328/328 [00:30<00:00, 10.77it/s]\n"
     ]
    },
    {
     "name": "stdout",
     "output_type": "stream",
     "text": [
      "{'val_loss': 2.908189446370049, 'val_accuracy': 0.6437833714721587, 'precision': 0.6471546792536362, 'recall': 0.6437833714721587, 'f1-score': 0.6386901851797284, 'macro_f1-score': 0.39882359136866025, 'balanced_accuracy': 0.3894135875272691, 'mcc': 0.527432531793044, 'train_loss': 0.08159783894974147}\n",
      "\n",
      "[Fold 4]\n",
      "Label distribution after resampling:\n",
      "  label 0: 2471\n",
      "  label 1: 22\n",
      "  label 2: 64\n",
      "  label 3: 24\n",
      "  label 4: 190\n",
      "  label 5: 113\n",
      "  label 6: 93\n",
      "  label 7: 31\n",
      "  label 8: 68\n",
      "  label 9: 29\n",
      "  label 10: 67\n",
      "  label 11: 169\n",
      "  label 12: 190\n",
      "  label 13: 29\n",
      "  label 14: 22\n",
      "  label 15: 25\n",
      "  label 16: 19\n",
      "  label 17: 182\n",
      "  label 18: 92\n",
      "  label 19: 44\n",
      "  label 20: 14\n",
      "  label 21: 35\n",
      "  label 22: 76\n",
      "  label 23: 158\n",
      "  label 24: 13\n",
      "  label 25: 44\n",
      "  label 26: 84\n",
      "  label 27: 48\n",
      "  label 28: 11\n",
      "  label 29: 13\n",
      "  label 30: 11\n",
      "  label 31: 75\n",
      "  label 32: 36\n",
      "  label 33: 31\n",
      "  label 34: 30\n",
      "  label 35: 11\n",
      "  label 36: 22\n",
      "  label 37: 16\n",
      "  label 38: 33\n",
      "  label 39: 10\n",
      "  label 40: 9\n",
      "  label 41: 56\n",
      "  label 42: 18\n",
      "  label 43: 9\n",
      "  label 44: 55\n",
      "  label 45: 241\n",
      "  label 46: 62\n",
      "  label 47: 80\n",
      "model is bert-base-uncased bilstm\n",
      "Using weighted CrossEntropyLoss with weights: tensor([0.7527, 5.4740, 4.4061, 5.3870, 3.3180, 3.8376, 4.0324, 5.1310, 4.3455,\n",
      "        5.1977, 4.3603, 3.4351, 3.3180, 5.1977, 5.4740, 5.3462, 5.6206, 3.3610,\n",
      "        4.0432, 4.7808, 5.9260, 5.0097, 4.2343, 3.5024, 6.0001, 4.7808, 4.1342,\n",
      "        4.6938, 6.1671, 6.0001, 6.1671, 4.2475, 4.9815, 5.1310, 5.1638, 6.1671,\n",
      "        5.4740, 5.7924, 5.0685, 6.2624, 6.3678, 4.5397, 5.6747, 6.3678, 4.5577,\n",
      "        3.0802, 4.4379, 4.1830], device='cuda:0')\n",
      "Epoch 1/20\n"
     ]
    },
    {
     "name": "stderr",
     "output_type": "stream",
     "text": [
      "100%|██████████| 328/328 [00:30<00:00, 10.79it/s]\n"
     ]
    },
    {
     "name": "stdout",
     "output_type": "stream",
     "text": [
      "{'val_loss': 3.0431033474643057, 'val_accuracy': 0.5491990846681922, 'precision': 0.34561370264940255, 'recall': 0.5491990846681922, 'f1-score': 0.42083738389532865, 'macro_f1-score': 0.051084762052195, 'balanced_accuracy': 0.06641750398475758, 'mcc': 0.32825550154346844, 'train_loss': 2.266665304215943}\n",
      "Epoch 2/20\n"
     ]
    },
    {
     "name": "stderr",
     "output_type": "stream",
     "text": [
      "100%|██████████| 328/328 [00:30<00:00, 10.78it/s]\n"
     ]
    },
    {
     "name": "stdout",
     "output_type": "stream",
     "text": [
      "{'val_loss': 2.5872241294965512, 'val_accuracy': 0.593440122044241, 'precision': 0.4688074307436064, 'recall': 0.593440122044241, 'f1-score': 0.5119990746010131, 'macro_f1-score': 0.1337409468106897, 'balanced_accuracy': 0.14733223623375086, 'mcc': 0.42763569256898126, 'train_loss': 1.7678760493673928}\n",
      "Epoch 3/20\n"
     ]
    },
    {
     "name": "stderr",
     "output_type": "stream",
     "text": [
      "100%|██████████| 328/328 [00:30<00:00, 10.70it/s]\n"
     ]
    },
    {
     "name": "stdout",
     "output_type": "stream",
     "text": [
      "{'val_loss': 2.2696555689340685, 'val_accuracy': 0.5987795575896262, 'precision': 0.5437508880568025, 'recall': 0.5987795575896262, 'f1-score': 0.5574294223267316, 'macro_f1-score': 0.20250535125216554, 'balanced_accuracy': 0.23109592781991387, 'mcc': 0.4686619536666059, 'train_loss': 1.4301780706680403}\n",
      "Epoch 4/20\n"
     ]
    },
    {
     "name": "stderr",
     "output_type": "stream",
     "text": [
      "100%|██████████| 328/328 [00:30<00:00, 10.80it/s]\n"
     ]
    },
    {
     "name": "stdout",
     "output_type": "stream",
     "text": [
      "{'val_loss': 2.417673523833112, 'val_accuracy': 0.6369183829138062, 'precision': 0.5738438308981779, 'recall': 0.6369183829138062, 'f1-score': 0.5849508534373264, 'macro_f1-score': 0.25641179155592586, 'balanced_accuracy': 0.24764257342234294, 'mcc': 0.4930069793828507, 'train_loss': 1.1382696471381477}\n",
      "Epoch 5/20\n"
     ]
    },
    {
     "name": "stderr",
     "output_type": "stream",
     "text": [
      "100%|██████████| 328/328 [00:30<00:00, 10.79it/s]\n"
     ]
    },
    {
     "name": "stdout",
     "output_type": "stream",
     "text": [
      "{'val_loss': 2.2896988282843336, 'val_accuracy': 0.6468344774980931, 'precision': 0.6014019681141662, 'recall': 0.6468344774980931, 'f1-score': 0.6125380550888213, 'macro_f1-score': 0.2797610849999004, 'balanced_accuracy': 0.27943595889641565, 'mcc': 0.521517372131283, 'train_loss': 0.8960257927637275}\n",
      "Epoch 6/20\n"
     ]
    },
    {
     "name": "stderr",
     "output_type": "stream",
     "text": [
      "100%|██████████| 328/328 [00:30<00:00, 10.81it/s]\n"
     ]
    },
    {
     "name": "stdout",
     "output_type": "stream",
     "text": [
      "{'val_loss': 2.2725217785777114, 'val_accuracy': 0.6475972540045767, 'precision': 0.6137405263585471, 'recall': 0.6475972540045767, 'f1-score': 0.6178344246257911, 'macro_f1-score': 0.3252441578026816, 'balanced_accuracy': 0.31896513498724594, 'mcc': 0.5247418767068183, 'train_loss': 0.7054478661270767}\n",
      "Epoch 7/20\n"
     ]
    },
    {
     "name": "stderr",
     "output_type": "stream",
     "text": [
      "100%|██████████| 328/328 [00:30<00:00, 10.76it/s]\n"
     ]
    },
    {
     "name": "stdout",
     "output_type": "stream",
     "text": [
      "{'val_loss': 2.5358277831862615, 'val_accuracy': 0.6590389016018307, 'precision': 0.63001891649762, 'recall': 0.6590389016018307, 'f1-score': 0.6351009920740202, 'macro_f1-score': 0.3398686822160246, 'balanced_accuracy': 0.33102944178600097, 'mcc': 0.5369079268845518, 'train_loss': 0.5216339009405091}\n",
      "Epoch 8/20\n"
     ]
    },
    {
     "name": "stderr",
     "output_type": "stream",
     "text": [
      "100%|██████████| 328/328 [00:30<00:00, 10.80it/s]\n"
     ]
    },
    {
     "name": "stdout",
     "output_type": "stream",
     "text": [
      "{'val_loss': 2.215501811809656, 'val_accuracy': 0.6567505720823799, 'precision': 0.6483774679492926, 'recall': 0.6567505720823799, 'f1-score': 0.64677569583655, 'macro_f1-score': 0.3822195134820639, 'balanced_accuracy': 0.38693932854010765, 'mcc': 0.5494746627681241, 'train_loss': 0.3837883412474539}\n",
      "Epoch 9/20\n"
     ]
    },
    {
     "name": "stderr",
     "output_type": "stream",
     "text": [
      "100%|██████████| 328/328 [00:30<00:00, 10.81it/s]\n"
     ]
    },
    {
     "name": "stdout",
     "output_type": "stream",
     "text": [
      "{'val_loss': 2.4105737994356855, 'val_accuracy': 0.6430205949656751, 'precision': 0.6469616386671161, 'recall': 0.6430205949656751, 'f1-score': 0.6363704513470839, 'macro_f1-score': 0.39833953765270286, 'balanced_accuracy': 0.3908785255540512, 'mcc': 0.52682026794316, 'train_loss': 0.3266518536796112}\n",
      "Epoch 10/20\n"
     ]
    },
    {
     "name": "stderr",
     "output_type": "stream",
     "text": [
      "100%|██████████| 328/328 [00:30<00:00, 10.72it/s]\n"
     ]
    },
    {
     "name": "stdout",
     "output_type": "stream",
     "text": [
      "{'val_loss': 2.287221436093493, 'val_accuracy': 0.6369183829138062, 'precision': 0.6449785851247996, 'recall': 0.6369183829138062, 'f1-score': 0.6313221932496144, 'macro_f1-score': 0.3714038306228254, 'balanced_accuracy': 0.37888947625326974, 'mcc': 0.5332649531399433, 'train_loss': 0.27691805434822125}\n",
      "Epoch 11/20\n"
     ]
    },
    {
     "name": "stderr",
     "output_type": "stream",
     "text": [
      "100%|██████████| 328/328 [00:30<00:00, 10.81it/s]\n"
     ]
    },
    {
     "name": "stdout",
     "output_type": "stream",
     "text": [
      "{'val_loss': 2.563022247901777, 'val_accuracy': 0.6422578184591915, 'precision': 0.6486616788946772, 'recall': 0.6422578184591915, 'f1-score': 0.6346115527409135, 'macro_f1-score': 0.39340136955048494, 'balanced_accuracy': 0.4050121774419251, 'mcc': 0.526128979083009, 'train_loss': 0.22158685114473195}\n",
      "Epoch 12/20\n"
     ]
    },
    {
     "name": "stderr",
     "output_type": "stream",
     "text": [
      "100%|██████████| 328/328 [00:30<00:00, 10.82it/s]\n"
     ]
    },
    {
     "name": "stdout",
     "output_type": "stream",
     "text": [
      "{'val_loss': 2.735737065898209, 'val_accuracy': 0.6498855835240275, 'precision': 0.6394203062286409, 'recall': 0.6498855835240275, 'f1-score': 0.633654101829566, 'macro_f1-score': 0.3709252106598553, 'balanced_accuracy': 0.3633511439977533, 'mcc': 0.532213526030897, 'train_loss': 0.16596732251686838}\n",
      "Early stopping.\n",
      "\n",
      "[Fold 5]\n",
      "Label distribution after resampling:\n",
      "  label 0: 2472\n",
      "  label 1: 21\n",
      "  label 2: 64\n",
      "  label 3: 24\n",
      "  label 4: 191\n",
      "  label 5: 112\n",
      "  label 6: 92\n",
      "  label 7: 31\n",
      "  label 8: 68\n",
      "  label 9: 29\n",
      "  label 10: 68\n",
      "  label 11: 168\n",
      "  label 12: 190\n",
      "  label 13: 29\n",
      "  label 14: 22\n",
      "  label 15: 25\n",
      "  label 16: 19\n",
      "  label 17: 183\n",
      "  label 18: 92\n",
      "  label 19: 44\n",
      "  label 20: 14\n",
      "  label 21: 35\n",
      "  label 22: 76\n",
      "  label 23: 158\n",
      "  label 24: 13\n",
      "  label 25: 44\n",
      "  label 26: 84\n",
      "  label 27: 48\n",
      "  label 28: 11\n",
      "  label 29: 13\n",
      "  label 30: 11\n",
      "  label 31: 75\n",
      "  label 32: 36\n",
      "  label 33: 31\n",
      "  label 34: 30\n",
      "  label 35: 11\n",
      "  label 36: 22\n",
      "  label 37: 16\n",
      "  label 38: 33\n",
      "  label 39: 10\n",
      "  label 40: 9\n",
      "  label 41: 57\n",
      "  label 42: 18\n",
      "  label 43: 9\n",
      "  label 44: 54\n",
      "  label 45: 242\n",
      "  label 46: 61\n",
      "  label 47: 80\n",
      "model is bert-base-uncased bilstm\n",
      "Using weighted CrossEntropyLoss with weights: tensor([0.7522, 5.5205, 4.4061, 5.3870, 3.3128, 3.8465, 4.0432, 5.1310, 4.3455,\n",
      "        5.1977, 4.3455, 3.4411, 3.3180, 5.1977, 5.4740, 5.3462, 5.6206, 3.3555,\n",
      "        4.0432, 4.7808, 5.9260, 5.0097, 4.2343, 3.5024, 6.0001, 4.7808, 4.1342,\n",
      "        4.6938, 6.1671, 6.0001, 6.1671, 4.2475, 4.9815, 5.1310, 5.1638, 6.1671,\n",
      "        5.4740, 5.7924, 5.0685, 6.2624, 6.3678, 4.5220, 5.6747, 6.3678, 4.5760,\n",
      "        3.0761, 4.4542, 4.1830], device='cuda:0')\n",
      "Epoch 1/20\n"
     ]
    },
    {
     "name": "stderr",
     "output_type": "stream",
     "text": [
      "100%|██████████| 328/328 [00:30<00:00, 10.75it/s]\n"
     ]
    },
    {
     "name": "stdout",
     "output_type": "stream",
     "text": [
      "{'val_loss': 3.1058300719028566, 'val_accuracy': 0.5522501906941266, 'precision': 0.3402699184846513, 'recall': 0.5522501906941266, 'f1-score': 0.4203118512289297, 'macro_f1-score': 0.05808430698893538, 'balanced_accuracy': 0.07513725219507063, 'mcc': 0.3302244170823218, 'train_loss': 2.31441139720562}\n",
      "Epoch 2/20\n"
     ]
    },
    {
     "name": "stderr",
     "output_type": "stream",
     "text": [
      "100%|██████████| 328/328 [00:30<00:00, 10.77it/s]\n"
     ]
    },
    {
     "name": "stdout",
     "output_type": "stream",
     "text": [
      "{'val_loss': 2.603001770449848, 'val_accuracy': 0.5812356979405034, 'precision': 0.46699859851365216, 'recall': 0.5812356979405034, 'f1-score': 0.49903175586189097, 'macro_f1-score': 0.0894121508792839, 'balanced_accuracy': 0.1181341704062624, 'mcc': 0.42251326492572766, 'train_loss': 1.8404664253679717}\n",
      "Epoch 3/20\n"
     ]
    },
    {
     "name": "stderr",
     "output_type": "stream",
     "text": [
      "100%|██████████| 328/328 [00:30<00:00, 10.78it/s]\n"
     ]
    },
    {
     "name": "stdout",
     "output_type": "stream",
     "text": [
      "{'val_loss': 2.355854472009147, 'val_accuracy': 0.6041189931350115, 'precision': 0.5144576068359311, 'recall': 0.6041189931350115, 'f1-score': 0.5480763106801948, 'macro_f1-score': 0.14522128654102362, 'balanced_accuracy': 0.17219156848531392, 'mcc': 0.4669586556455853, 'train_loss': 1.5310758518554815}\n",
      "Epoch 4/20\n"
     ]
    },
    {
     "name": "stderr",
     "output_type": "stream",
     "text": [
      "100%|██████████| 328/328 [00:30<00:00, 10.83it/s]\n"
     ]
    },
    {
     "name": "stdout",
     "output_type": "stream",
     "text": [
      "{'val_loss': 2.1793759828660546, 'val_accuracy': 0.635392829900839, 'precision': 0.5666435072545726, 'recall': 0.635392829900839, 'f1-score': 0.5897951620858712, 'macro_f1-score': 0.2273594162462479, 'balanced_accuracy': 0.2328968919854647, 'mcc': 0.5067225276946217, 'train_loss': 1.2227074358067134}\n",
      "Epoch 5/20\n"
     ]
    },
    {
     "name": "stderr",
     "output_type": "stream",
     "text": [
      "100%|██████████| 328/328 [00:30<00:00, 10.78it/s]\n"
     ]
    },
    {
     "name": "stdout",
     "output_type": "stream",
     "text": [
      "{'val_loss': 2.230153964786995, 'val_accuracy': 0.6460717009916095, 'precision': 0.6068385522157953, 'recall': 0.6460717009916095, 'f1-score': 0.6144641397699105, 'macro_f1-score': 0.28384300909724597, 'balanced_accuracy': 0.298843726411612, 'mcc': 0.5281262571844391, 'train_loss': 0.9597575037126861}\n",
      "Epoch 6/20\n"
     ]
    },
    {
     "name": "stderr",
     "output_type": "stream",
     "text": [
      "100%|██████████| 328/328 [00:30<00:00, 10.75it/s]\n"
     ]
    },
    {
     "name": "stdout",
     "output_type": "stream",
     "text": [
      "{'val_loss': 2.3781127173726153, 'val_accuracy': 0.6475972540045767, 'precision': 0.6155050109396898, 'recall': 0.6475972540045767, 'f1-score': 0.6113110243009754, 'macro_f1-score': 0.2948481412523785, 'balanced_accuracy': 0.28648698189232685, 'mcc': 0.5206209542453211, 'train_loss': 0.7276543481048288}\n",
      "Epoch 7/20\n"
     ]
    },
    {
     "name": "stderr",
     "output_type": "stream",
     "text": [
      "100%|██████████| 328/328 [00:30<00:00, 10.80it/s]\n"
     ]
    },
    {
     "name": "stdout",
     "output_type": "stream",
     "text": [
      "{'val_loss': 2.18815831185841, 'val_accuracy': 0.6361556064073226, 'precision': 0.640828221778847, 'recall': 0.6361556064073226, 'f1-score': 0.6287210389220036, 'macro_f1-score': 0.351440550067077, 'balanced_accuracy': 0.36223468363611727, 'mcc': 0.5308389250036294, 'train_loss': 0.5805454323886008}\n",
      "Epoch 8/20\n"
     ]
    },
    {
     "name": "stderr",
     "output_type": "stream",
     "text": [
      "100%|██████████| 328/328 [00:30<00:00, 10.79it/s]\n"
     ]
    },
    {
     "name": "stdout",
     "output_type": "stream",
     "text": [
      "{'val_loss': 2.365647447545354, 'val_accuracy': 0.6666666666666666, 'precision': 0.6415904881613805, 'recall': 0.6666666666666666, 'f1-score': 0.6366620127651654, 'macro_f1-score': 0.36876811176024954, 'balanced_accuracy': 0.3557243520993187, 'mcc': 0.5517952538214811, 'train_loss': 0.42097099848863917}\n",
      "Epoch 9/20\n"
     ]
    },
    {
     "name": "stderr",
     "output_type": "stream",
     "text": [
      "100%|██████████| 328/328 [00:30<00:00, 10.76it/s]\n"
     ]
    },
    {
     "name": "stdout",
     "output_type": "stream",
     "text": [
      "{'val_loss': 2.3188707021678368, 'val_accuracy': 0.6613272311212814, 'precision': 0.6517562490085537, 'recall': 0.6613272311212814, 'f1-score': 0.6476655640427722, 'macro_f1-score': 0.3798795909297197, 'balanced_accuracy': 0.38256214500608426, 'mcc': 0.5525293515560391, 'train_loss': 0.313936528414715}\n",
      "Epoch 10/20\n"
     ]
    },
    {
     "name": "stderr",
     "output_type": "stream",
     "text": [
      "100%|██████████| 328/328 [00:30<00:00, 10.82it/s]\n"
     ]
    },
    {
     "name": "stdout",
     "output_type": "stream",
     "text": [
      "{'val_loss': 2.4764516807910875, 'val_accuracy': 0.662090007627765, 'precision': 0.646547215271661, 'recall': 0.662090007627765, 'f1-score': 0.6437564863870928, 'macro_f1-score': 0.39515593220098405, 'balanced_accuracy': 0.370994291530837, 'mcc': 0.5483856686475149, 'train_loss': 0.2437544282406523}\n",
      "Epoch 11/20\n"
     ]
    },
    {
     "name": "stderr",
     "output_type": "stream",
     "text": [
      "100%|██████████| 328/328 [00:30<00:00, 10.82it/s]\n"
     ]
    },
    {
     "name": "stdout",
     "output_type": "stream",
     "text": [
      "{'val_loss': 2.6633795354424454, 'val_accuracy': 0.6834477498093059, 'precision': 0.6672136963407675, 'recall': 0.6834477498093059, 'f1-score': 0.657125850260252, 'macro_f1-score': 0.39543495771882986, 'balanced_accuracy': 0.3865148765087489, 'mcc': 0.57264015592269, 'train_loss': 0.21792618970375327}\n",
      "Epoch 12/20\n"
     ]
    },
    {
     "name": "stderr",
     "output_type": "stream",
     "text": [
      "100%|██████████| 328/328 [00:30<00:00, 10.74it/s]\n"
     ]
    },
    {
     "name": "stdout",
     "output_type": "stream",
     "text": [
      "{'val_loss': 2.6380765169132046, 'val_accuracy': 0.6727688787185355, 'precision': 0.671484075807881, 'recall': 0.6727688787185355, 'f1-score': 0.6587263773505267, 'macro_f1-score': 0.43290818701583195, 'balanced_accuracy': 0.4172996189920218, 'mcc': 0.5638386010241963, 'train_loss': 0.17585245016167259}\n",
      "Epoch 13/20\n"
     ]
    },
    {
     "name": "stderr",
     "output_type": "stream",
     "text": [
      "100%|██████████| 328/328 [00:30<00:00, 10.81it/s]\n"
     ]
    },
    {
     "name": "stdout",
     "output_type": "stream",
     "text": [
      "{'val_loss': 2.353860838384163, 'val_accuracy': 0.6536994660564455, 'precision': 0.6649429705223904, 'recall': 0.6536994660564455, 'f1-score': 0.6509996022336497, 'macro_f1-score': 0.43720214952631453, 'balanced_accuracy': 0.43224178869121244, 'mcc': 0.5478822784224479, 'train_loss': 0.1636192347008235}\n",
      "Epoch 14/20\n"
     ]
    },
    {
     "name": "stderr",
     "output_type": "stream",
     "text": [
      "100%|██████████| 328/328 [00:30<00:00, 10.80it/s]\n"
     ]
    },
    {
     "name": "stdout",
     "output_type": "stream",
     "text": [
      "{'val_loss': 2.4075080472521666, 'val_accuracy': 0.6414950419527079, 'precision': 0.6508642403339598, 'recall': 0.6414950419527079, 'f1-score': 0.6387395740598137, 'macro_f1-score': 0.42759705264863596, 'balanced_accuracy': 0.4380162396655621, 'mcc': 0.5408652601386911, 'train_loss': 0.14661200253985732}\n",
      "Epoch 15/20\n"
     ]
    },
    {
     "name": "stderr",
     "output_type": "stream",
     "text": [
      "100%|██████████| 328/328 [00:30<00:00, 10.82it/s]\n"
     ]
    },
    {
     "name": "stdout",
     "output_type": "stream",
     "text": [
      "{'val_loss': 2.7402231257136274, 'val_accuracy': 0.6796338672768879, 'precision': 0.6748900037895118, 'recall': 0.6796338672768879, 'f1-score': 0.667012442781075, 'macro_f1-score': 0.4694323954158519, 'balanced_accuracy': 0.4459390077855656, 'mcc': 0.5708560294182013, 'train_loss': 0.10379292390652842}\n",
      "Epoch 16/20\n"
     ]
    },
    {
     "name": "stderr",
     "output_type": "stream",
     "text": [
      "100%|██████████| 328/328 [00:30<00:00, 10.78it/s]\n"
     ]
    },
    {
     "name": "stdout",
     "output_type": "stream",
     "text": [
      "{'val_loss': 2.403958302445528, 'val_accuracy': 0.6170861937452327, 'precision': 0.6651601796544316, 'recall': 0.6170861937452327, 'f1-score': 0.6311145014321179, 'macro_f1-score': 0.40333365324624987, 'balanced_accuracy': 0.4262588893999119, 'mcc': 0.5239807313815995, 'train_loss': 0.0892447273718284}\n",
      "Epoch 17/20\n"
     ]
    },
    {
     "name": "stderr",
     "output_type": "stream",
     "text": [
      "100%|██████████| 328/328 [00:30<00:00, 10.79it/s]\n"
     ]
    },
    {
     "name": "stdout",
     "output_type": "stream",
     "text": [
      "{'val_loss': 2.5638312995433807, 'val_accuracy': 0.635392829900839, 'precision': 0.6357735868702715, 'recall': 0.635392829900839, 'f1-score': 0.6248978667419737, 'macro_f1-score': 0.4151483664964853, 'balanced_accuracy': 0.40990377617574403, 'mcc': 0.5165838943275527, 'train_loss': 0.1337792465886351}\n",
      "Epoch 18/20\n"
     ]
    },
    {
     "name": "stderr",
     "output_type": "stream",
     "text": [
      "100%|██████████| 328/328 [00:30<00:00, 10.82it/s]\n"
     ]
    },
    {
     "name": "stdout",
     "output_type": "stream",
     "text": [
      "{'val_loss': 3.1294766649967287, 'val_accuracy': 0.6666666666666666, 'precision': 0.6300108201371648, 'recall': 0.6666666666666666, 'f1-score': 0.6326041275861944, 'macro_f1-score': 0.3892111665690714, 'balanced_accuracy': 0.3572192343659242, 'mcc': 0.539237328918153, 'train_loss': 0.10589737144423784}\n",
      "Early stopping.\n",
      "\n",
      " === bert-base-uncased + bilstm + none Final 5-fold Cross-Validation Results ===\n",
      "val_loss: 2.6657\n",
      "val_accuracy: 0.6539\n",
      "precision: 0.6524\n",
      "recall: 0.6539\n",
      "f1-score: 0.6449\n",
      "macro_f1-score: 0.4092\n",
      "balanced_accuracy: 0.4007\n",
      "mcc: 0.5403\n",
      "train_loss: 0.1619\n",
      "total_seconds: 2874.0000\n",
      "total_time: 0 hrs 47 mins 54 secs\n",
      "▶ Running: roberta-base + plain + none\n",
      "tokenizer is roberta-base\n",
      "Using device: cuda\n",
      "CUDA Available: True\n",
      "CUDA Device: NVIDIA GeForce RTX 5070 Ti\n",
      "Current GPU Memory Allocated: 0.02 GB\n",
      "Current GPU Memory Cached: 3.04 GB\n",
      "\n",
      "[Fold 1]\n",
      "Label distribution after resampling:\n",
      "  label 0: 2471\n",
      "  label 1: 21\n",
      "  label 2: 64\n",
      "  label 3: 24\n",
      "  label 4: 191\n",
      "  label 5: 113\n",
      "  label 6: 93\n",
      "  label 7: 30\n",
      "  label 8: 68\n",
      "  label 9: 30\n",
      "  label 10: 67\n",
      "  label 11: 169\n",
      "  label 12: 189\n",
      "  label 13: 29\n",
      "  label 14: 22\n",
      "  label 15: 25\n",
      "  label 16: 19\n",
      "  label 17: 183\n",
      "  label 18: 92\n",
      "  label 19: 44\n",
      "  label 20: 13\n",
      "  label 21: 35\n",
      "  label 22: 76\n",
      "  label 23: 158\n",
      "  label 24: 13\n",
      "  label 25: 44\n",
      "  label 26: 84\n",
      "  label 27: 48\n",
      "  label 28: 11\n",
      "  label 29: 13\n",
      "  label 30: 11\n",
      "  label 31: 75\n",
      "  label 32: 36\n",
      "  label 33: 32\n",
      "  label 34: 29\n",
      "  label 35: 11\n",
      "  label 36: 22\n",
      "  label 37: 16\n",
      "  label 38: 33\n",
      "  label 39: 10\n",
      "  label 40: 9\n",
      "  label 41: 57\n",
      "  label 42: 19\n",
      "  label 43: 8\n",
      "  label 44: 54\n",
      "  label 45: 242\n",
      "  label 46: 61\n",
      "  label 47: 80\n",
      "model is roberta-base\n"
     ]
    },
    {
     "name": "stderr",
     "output_type": "stream",
     "text": [
      "Some weights of RobertaForSequenceClassification were not initialized from the model checkpoint at roberta-base and are newly initialized: ['classifier.dense.bias', 'classifier.dense.weight', 'classifier.out_proj.bias', 'classifier.out_proj.weight']\n",
      "You should probably TRAIN this model on a down-stream task to be able to use it for predictions and inference.\n"
     ]
    },
    {
     "name": "stdout",
     "output_type": "stream",
     "text": [
      "Using weighted CrossEntropyLoss with weights: tensor([0.7525, 5.5203, 4.4060, 5.3868, 3.3126, 3.8375, 4.0322, 5.1636, 4.3453,\n",
      "        5.1636, 4.3601, 3.4349, 3.3231, 5.1975, 5.4738, 5.3460, 5.6204, 3.3554,\n",
      "        4.0431, 4.7807, 5.9999, 5.0095, 4.2341, 3.5022, 5.9999, 4.7807, 4.1340,\n",
      "        4.6936, 6.1669, 5.9999, 6.1669, 4.2474, 4.9813, 5.0991, 5.1975, 6.1669,\n",
      "        5.4738, 5.7923, 5.0683, 6.2623, 6.3676, 4.5218, 5.6204, 6.4854, 4.5759,\n",
      "        3.0759, 4.4540, 4.1828], device='cuda:0')\n",
      "Epoch 1/20\n"
     ]
    },
    {
     "name": "stderr",
     "output_type": "stream",
     "text": [
      "100%|██████████| 328/328 [00:28<00:00, 11.68it/s]\n"
     ]
    },
    {
     "name": "stdout",
     "output_type": "stream",
     "text": [
      "{'val_loss': 3.1552844716281427, 'val_accuracy': 0.5335365853658537, 'precision': 0.3121717628577385, 'recall': 0.5335365853658537, 'f1-score': 0.39217543039633584, 'macro_f1-score': 0.04709909937445239, 'balanced_accuracy': 0.05982792393634134, 'mcc': 0.2823215443244579, 'train_loss': 2.2851858011833053}\n",
      "Epoch 2/20\n"
     ]
    },
    {
     "name": "stderr",
     "output_type": "stream",
     "text": [
      "100%|██████████| 328/328 [00:28<00:00, 11.68it/s]\n"
     ]
    },
    {
     "name": "stdout",
     "output_type": "stream",
     "text": [
      "{'val_loss': 2.7121468840575798, 'val_accuracy': 0.5594512195121951, 'precision': 0.4304389295279256, 'recall': 0.5594512195121951, 'f1-score': 0.47659213360301833, 'macro_f1-score': 0.07846016268221857, 'balanced_accuracy': 0.10373045980357891, 'mcc': 0.3868202202533945, 'train_loss': 1.8667145545889692}\n",
      "Epoch 3/20\n"
     ]
    },
    {
     "name": "stderr",
     "output_type": "stream",
     "text": [
      "100%|██████████| 328/328 [00:28<00:00, 11.69it/s]\n"
     ]
    },
    {
     "name": "stdout",
     "output_type": "stream",
     "text": [
      "{'val_loss': 2.6076160669326782, 'val_accuracy': 0.573170731707317, 'precision': 0.4503860984023873, 'recall': 0.573170731707317, 'f1-score': 0.49101176513814293, 'macro_f1-score': 0.12311909754786705, 'balanced_accuracy': 0.13626213495688108, 'mcc': 0.39507581452799334, 'train_loss': 1.574532312772623}\n",
      "Epoch 4/20\n"
     ]
    },
    {
     "name": "stderr",
     "output_type": "stream",
     "text": [
      "100%|██████████| 328/328 [00:28<00:00, 11.70it/s]\n"
     ]
    },
    {
     "name": "stdout",
     "output_type": "stream",
     "text": [
      "{'val_loss': 2.3570732467058226, 'val_accuracy': 0.5990853658536586, 'precision': 0.5424738840361611, 'recall': 0.5990853658536586, 'f1-score': 0.5532188803932659, 'macro_f1-score': 0.2066717917108368, 'balanced_accuracy': 0.21407543996791498, 'mcc': 0.45083043428209685, 'train_loss': 1.3125029579713576}\n",
      "Epoch 5/20\n"
     ]
    },
    {
     "name": "stderr",
     "output_type": "stream",
     "text": [
      "100%|██████████| 328/328 [00:28<00:00, 11.68it/s]\n"
     ]
    },
    {
     "name": "stdout",
     "output_type": "stream",
     "text": [
      "{'val_loss': 2.3844559323496934, 'val_accuracy': 0.5998475609756098, 'precision': 0.5542685574053213, 'recall': 0.5998475609756098, 'f1-score': 0.5655810855354392, 'macro_f1-score': 0.24785380889949918, 'balanced_accuracy': 0.2652649978413019, 'mcc': 0.45601966419317236, 'train_loss': 1.0934248418070194}\n",
      "Epoch 6/20\n"
     ]
    },
    {
     "name": "stderr",
     "output_type": "stream",
     "text": [
      "100%|██████████| 328/328 [00:28<00:00, 11.69it/s]\n"
     ]
    },
    {
     "name": "stdout",
     "output_type": "stream",
     "text": [
      "{'val_loss': 2.2899472473598106, 'val_accuracy': 0.6028963414634146, 'precision': 0.5818302625925984, 'recall': 0.6028963414634146, 'f1-score': 0.583577382624174, 'macro_f1-score': 0.2680585613441532, 'balanced_accuracy': 0.27564148102405167, 'mcc': 0.47273720974093214, 'train_loss': 0.9134740170045961}\n",
      "Epoch 7/20\n"
     ]
    },
    {
     "name": "stderr",
     "output_type": "stream",
     "text": [
      "100%|██████████| 328/328 [00:28<00:00, 11.68it/s]\n"
     ]
    },
    {
     "name": "stdout",
     "output_type": "stream",
     "text": [
      "{'val_loss': 2.3031533716655357, 'val_accuracy': 0.6211890243902439, 'precision': 0.5998104473568082, 'recall': 0.6211890243902439, 'f1-score': 0.6037570225354716, 'macro_f1-score': 0.288981492455278, 'balanced_accuracy': 0.3145903867360175, 'mcc': 0.4997833849329867, 'train_loss': 0.7565971741498243}\n",
      "Epoch 8/20\n"
     ]
    },
    {
     "name": "stderr",
     "output_type": "stream",
     "text": [
      "100%|██████████| 328/328 [00:28<00:00, 11.70it/s]\n"
     ]
    },
    {
     "name": "stdout",
     "output_type": "stream",
     "text": [
      "{'val_loss': 2.282233725233776, 'val_accuracy': 0.6128048780487805, 'precision': 0.620806798100911, 'recall': 0.6128048780487805, 'f1-score': 0.6076899363081841, 'macro_f1-score': 0.3241123888311886, 'balanced_accuracy': 0.33862420109231134, 'mcc': 0.5004582485035839, 'train_loss': 0.6118053250105643}\n",
      "Epoch 9/20\n"
     ]
    },
    {
     "name": "stderr",
     "output_type": "stream",
     "text": [
      "100%|██████████| 328/328 [00:28<00:00, 11.68it/s]\n"
     ]
    },
    {
     "name": "stdout",
     "output_type": "stream",
     "text": [
      "{'val_loss': 2.583395443311552, 'val_accuracy': 0.6028963414634146, 'precision': 0.6007396548750039, 'recall': 0.6028963414634146, 'f1-score': 0.5924468835838711, 'macro_f1-score': 0.32004962160174155, 'balanced_accuracy': 0.32074832212313226, 'mcc': 0.4795797810906793, 'train_loss': 0.4896328000851521}\n",
      "Epoch 10/20\n"
     ]
    },
    {
     "name": "stderr",
     "output_type": "stream",
     "text": [
      "100%|██████████| 328/328 [00:28<00:00, 11.67it/s]\n"
     ]
    },
    {
     "name": "stdout",
     "output_type": "stream",
     "text": [
      "{'val_loss': 2.7057137016843007, 'val_accuracy': 0.6196646341463414, 'precision': 0.6065047264328733, 'recall': 0.6196646341463414, 'f1-score': 0.6058708414735843, 'macro_f1-score': 0.3259504951346799, 'balanced_accuracy': 0.33215735338334895, 'mcc': 0.49402214468813244, 'train_loss': 0.4024821574424916}\n",
      "Epoch 11/20\n"
     ]
    },
    {
     "name": "stderr",
     "output_type": "stream",
     "text": [
      "100%|██████████| 328/328 [00:28<00:00, 11.69it/s]\n"
     ]
    },
    {
     "name": "stdout",
     "output_type": "stream",
     "text": [
      "{'val_loss': 2.6457551437907103, 'val_accuracy': 0.635670731707317, 'precision': 0.6233860749745816, 'recall': 0.635670731707317, 'f1-score': 0.6212312115512099, 'macro_f1-score': 0.34037697982616316, 'balanced_accuracy': 0.33229132941311534, 'mcc': 0.5158815016494528, 'train_loss': 0.36409097031985477}\n",
      "Epoch 12/20\n"
     ]
    },
    {
     "name": "stderr",
     "output_type": "stream",
     "text": [
      "100%|██████████| 328/328 [00:28<00:00, 11.71it/s]\n"
     ]
    },
    {
     "name": "stdout",
     "output_type": "stream",
     "text": [
      "{'val_loss': 2.6951349661117647, 'val_accuracy': 0.5884146341463414, 'precision': 0.6101593581264761, 'recall': 0.5884146341463414, 'f1-score': 0.5889460928534377, 'macro_f1-score': 0.3228130611452778, 'balanced_accuracy': 0.33524207200711403, 'mcc': 0.4653661796939875, 'train_loss': 0.3266458262621266}\n",
      "Epoch 13/20\n"
     ]
    },
    {
     "name": "stderr",
     "output_type": "stream",
     "text": [
      "100%|██████████| 328/328 [00:28<00:00, 11.67it/s]\n"
     ]
    },
    {
     "name": "stdout",
     "output_type": "stream",
     "text": [
      "{'val_loss': 2.7585615973647046, 'val_accuracy': 0.5922256097560976, 'precision': 0.6082631318836105, 'recall': 0.5922256097560976, 'f1-score': 0.5922052316593852, 'macro_f1-score': 0.32114343378212346, 'balanced_accuracy': 0.3523220037813037, 'mcc': 0.48168322949029385, 'train_loss': 0.2818955410919266}\n",
      "Epoch 14/20\n"
     ]
    },
    {
     "name": "stderr",
     "output_type": "stream",
     "text": [
      "100%|██████████| 328/328 [00:28<00:00, 11.69it/s]\n"
     ]
    },
    {
     "name": "stdout",
     "output_type": "stream",
     "text": [
      "{'val_loss': 2.925143078696437, 'val_accuracy': 0.6265243902439024, 'precision': 0.6056169943435549, 'recall': 0.6265243902439024, 'f1-score': 0.6115397397956748, 'macro_f1-score': 0.3399239029716515, 'balanced_accuracy': 0.3392213682586161, 'mcc': 0.501038916705019, 'train_loss': 0.21534317797163455}\n",
      "Early stopping.\n",
      "\n",
      "[Fold 2]\n",
      "Label distribution after resampling:\n",
      "  label 0: 2471\n",
      "  label 1: 22\n",
      "  label 2: 64\n",
      "  label 3: 24\n",
      "  label 4: 190\n",
      "  label 5: 113\n",
      "  label 6: 93\n",
      "  label 7: 30\n",
      "  label 8: 68\n",
      "  label 9: 30\n",
      "  label 10: 67\n",
      "  label 11: 169\n",
      "  label 12: 189\n",
      "  label 13: 29\n",
      "  label 14: 23\n",
      "  label 15: 24\n",
      "  label 16: 20\n",
      "  label 17: 182\n",
      "  label 18: 92\n",
      "  label 19: 44\n",
      "  label 20: 13\n",
      "  label 21: 36\n",
      "  label 22: 76\n",
      "  label 23: 157\n",
      "  label 24: 12\n",
      "  label 25: 44\n",
      "  label 26: 84\n",
      "  label 27: 48\n",
      "  label 28: 12\n",
      "  label 29: 12\n",
      "  label 30: 12\n",
      "  label 31: 75\n",
      "  label 32: 36\n",
      "  label 33: 31\n",
      "  label 34: 29\n",
      "  label 35: 12\n",
      "  label 36: 21\n",
      "  label 37: 16\n",
      "  label 38: 33\n",
      "  label 39: 11\n",
      "  label 40: 8\n",
      "  label 41: 57\n",
      "  label 42: 19\n",
      "  label 43: 9\n",
      "  label 44: 54\n",
      "  label 45: 242\n",
      "  label 46: 62\n",
      "  label 47: 80\n",
      "model is roberta-base\n"
     ]
    },
    {
     "name": "stderr",
     "output_type": "stream",
     "text": [
      "Some weights of RobertaForSequenceClassification were not initialized from the model checkpoint at roberta-base and are newly initialized: ['classifier.dense.bias', 'classifier.dense.weight', 'classifier.out_proj.bias', 'classifier.out_proj.weight']\n",
      "You should probably TRAIN this model on a down-stream task to be able to use it for predictions and inference.\n"
     ]
    },
    {
     "name": "stdout",
     "output_type": "stream",
     "text": [
      "Using weighted CrossEntropyLoss with weights: tensor([0.7527, 5.4740, 4.4061, 5.3870, 3.3180, 3.8376, 4.0324, 5.1638, 4.3455,\n",
      "        5.1638, 4.3603, 3.4351, 3.3233, 5.1977, 5.4295, 5.3870, 5.5693, 3.3610,\n",
      "        4.0432, 4.7808, 6.0001, 4.9815, 4.2343, 3.5088, 6.0801, 4.7808, 4.1342,\n",
      "        4.6938, 6.0801, 6.0801, 6.0801, 4.2475, 4.9815, 5.1310, 5.1977, 6.0801,\n",
      "        5.5205, 5.7924, 5.0685, 6.1671, 6.4856, 4.5220, 5.6206, 6.3678, 4.5760,\n",
      "        3.0761, 4.4379, 4.1830], device='cuda:0')\n",
      "Epoch 1/20\n"
     ]
    },
    {
     "name": "stderr",
     "output_type": "stream",
     "text": [
      "100%|██████████| 328/328 [00:28<00:00, 11.68it/s]\n"
     ]
    },
    {
     "name": "stdout",
     "output_type": "stream",
     "text": [
      "{'val_loss': 2.6728642946336327, 'val_accuracy': 0.5598779557589626, 'precision': 0.41462182565362216, 'recall': 0.5598779557589626, 'f1-score': 0.4493781180558506, 'macro_f1-score': 0.065795824955403, 'balanced_accuracy': 0.08819021980538382, 'mcc': 0.3623731010935177, 'train_loss': 2.2002944604652686}\n",
      "Epoch 2/20\n"
     ]
    },
    {
     "name": "stderr",
     "output_type": "stream",
     "text": [
      "100%|██████████| 328/328 [00:28<00:00, 11.70it/s]\n"
     ]
    },
    {
     "name": "stdout",
     "output_type": "stream",
     "text": [
      "{'val_loss': 2.710325066636248, 'val_accuracy': 0.585812356979405, 'precision': 0.44838104660329914, 'recall': 0.585812356979405, 'f1-score': 0.47896058149382637, 'macro_f1-score': 0.12427356273946355, 'balanced_accuracy': 0.12560734827883965, 'mcc': 0.39064551411651227, 'train_loss': 1.687689981627755}\n",
      "Epoch 3/20\n"
     ]
    },
    {
     "name": "stderr",
     "output_type": "stream",
     "text": [
      "100%|██████████| 328/328 [00:28<00:00, 11.67it/s]\n"
     ]
    },
    {
     "name": "stdout",
     "output_type": "stream",
     "text": [
      "{'val_loss': 2.34200693921345, 'val_accuracy': 0.6140350877192983, 'precision': 0.5185321415243918, 'recall': 0.6140350877192983, 'f1-score': 0.5514378629417226, 'macro_f1-score': 0.17505897420965957, 'balanced_accuracy': 0.18272723123226173, 'mcc': 0.45906556111513197, 'train_loss': 1.3873876161509897}\n",
      "Epoch 4/20\n"
     ]
    },
    {
     "name": "stderr",
     "output_type": "stream",
     "text": [
      "100%|██████████| 328/328 [00:28<00:00, 11.68it/s]\n"
     ]
    },
    {
     "name": "stdout",
     "output_type": "stream",
     "text": [
      "{'val_loss': 2.143309061120196, 'val_accuracy': 0.6155606407322655, 'precision': 0.5745558893457716, 'recall': 0.6155606407322655, 'f1-score': 0.5836109048730502, 'macro_f1-score': 0.24340955895514574, 'balanced_accuracy': 0.2580188612601278, 'mcc': 0.4869204346129111, 'train_loss': 1.1588569354356788}\n",
      "Epoch 5/20\n"
     ]
    },
    {
     "name": "stderr",
     "output_type": "stream",
     "text": [
      "100%|██████████| 328/328 [00:28<00:00, 11.68it/s]\n"
     ]
    },
    {
     "name": "stdout",
     "output_type": "stream",
     "text": [
      "{'val_loss': 2.196403012769978, 'val_accuracy': 0.6117467581998475, 'precision': 0.5799892333136641, 'recall': 0.6117467581998475, 'f1-score': 0.5837188736821969, 'macro_f1-score': 0.2735495693980981, 'balanced_accuracy': 0.28035700120637674, 'mcc': 0.4831306756805542, 'train_loss': 0.9528484846488005}\n",
      "Epoch 6/20\n"
     ]
    },
    {
     "name": "stderr",
     "output_type": "stream",
     "text": [
      "100%|██████████| 328/328 [00:28<00:00, 11.69it/s]\n"
     ]
    },
    {
     "name": "stdout",
     "output_type": "stream",
     "text": [
      "{'val_loss': 2.3545323130561084, 'val_accuracy': 0.6178489702517163, 'precision': 0.5827958073383238, 'recall': 0.6178489702517163, 'f1-score': 0.5839882579658451, 'macro_f1-score': 0.2623873052749873, 'balanced_accuracy': 0.2641210899135565, 'mcc': 0.4828900939462909, 'train_loss': 0.7665344578009553}\n",
      "Epoch 7/20\n"
     ]
    },
    {
     "name": "stderr",
     "output_type": "stream",
     "text": [
      "100%|██████████| 328/328 [00:28<00:00, 11.67it/s]\n"
     ]
    },
    {
     "name": "stdout",
     "output_type": "stream",
     "text": [
      "{'val_loss': 2.1626990779144006, 'val_accuracy': 0.631578947368421, 'precision': 0.6221217772299064, 'recall': 0.631578947368421, 'f1-score': 0.6166588801930528, 'macro_f1-score': 0.32378008717437035, 'balanced_accuracy': 0.3393147097158267, 'mcc': 0.5229103675081859, 'train_loss': 0.6328770348393336}\n",
      "Epoch 8/20\n"
     ]
    },
    {
     "name": "stderr",
     "output_type": "stream",
     "text": [
      "100%|██████████| 328/328 [00:28<00:00, 11.67it/s]\n"
     ]
    },
    {
     "name": "stdout",
     "output_type": "stream",
     "text": [
      "{'val_loss': 2.3262913670481704, 'val_accuracy': 0.6125095347063311, 'precision': 0.608448385898626, 'recall': 0.6125095347063311, 'f1-score': 0.6006246543718565, 'macro_f1-score': 0.3085347084351694, 'balanced_accuracy': 0.3149261144523863, 'mcc': 0.4824447628806975, 'train_loss': 0.49240861902376865}\n",
      "Epoch 9/20\n"
     ]
    },
    {
     "name": "stderr",
     "output_type": "stream",
     "text": [
      "100%|██████████| 328/328 [00:28<00:00, 11.69it/s]\n"
     ]
    },
    {
     "name": "stdout",
     "output_type": "stream",
     "text": [
      "{'val_loss': 2.473016834113656, 'val_accuracy': 0.631578947368421, 'precision': 0.6219032526464708, 'recall': 0.631578947368421, 'f1-score': 0.6169033324389416, 'macro_f1-score': 0.3475447651845463, 'balanced_accuracy': 0.35252445697633855, 'mcc': 0.5095932326606397, 'train_loss': 0.3957698898526227}\n",
      "Epoch 10/20\n"
     ]
    },
    {
     "name": "stderr",
     "output_type": "stream",
     "text": [
      "100%|██████████| 328/328 [00:28<00:00, 11.69it/s]\n"
     ]
    },
    {
     "name": "stdout",
     "output_type": "stream",
     "text": [
      "{'val_loss': 2.680105103952129, 'val_accuracy': 0.6567505720823799, 'precision': 0.6168372105517309, 'recall': 0.6567505720823799, 'f1-score': 0.6254043490631735, 'macro_f1-score': 0.33950937922381014, 'balanced_accuracy': 0.32777181213182294, 'mcc': 0.5304544090054589, 'train_loss': 0.3127252732108279}\n",
      "Epoch 11/20\n"
     ]
    },
    {
     "name": "stderr",
     "output_type": "stream",
     "text": [
      "100%|██████████| 328/328 [00:28<00:00, 11.68it/s]\n"
     ]
    },
    {
     "name": "stdout",
     "output_type": "stream",
     "text": [
      "{'val_loss': 2.5347926424043936, 'val_accuracy': 0.6094584286803967, 'precision': 0.6195701918815287, 'recall': 0.6094584286803967, 'f1-score': 0.6076787395829163, 'macro_f1-score': 0.34066404852942017, 'balanced_accuracy': 0.3681389287256985, 'mcc': 0.4964803970899392, 'train_loss': 0.2529405571588474}\n",
      "Epoch 12/20\n"
     ]
    },
    {
     "name": "stderr",
     "output_type": "stream",
     "text": [
      "100%|██████████| 328/328 [00:28<00:00, 11.69it/s]\n"
     ]
    },
    {
     "name": "stdout",
     "output_type": "stream",
     "text": [
      "{'val_loss': 2.601165377875654, 'val_accuracy': 0.5903890160183066, 'precision': 0.6303407008284252, 'recall': 0.5903890160183066, 'f1-score': 0.5986394262459274, 'macro_f1-score': 0.33796477320875623, 'balanced_accuracy': 0.3651202242096374, 'mcc': 0.4809036862124187, 'train_loss': 0.22419829649010264}\n",
      "Early stopping.\n",
      "\n",
      "[Fold 3]\n",
      "Label distribution after resampling:\n",
      "  label 0: 2471\n",
      "  label 1: 22\n",
      "  label 2: 64\n",
      "  label 3: 24\n",
      "  label 4: 190\n",
      "  label 5: 113\n",
      "  label 6: 93\n",
      "  label 7: 30\n",
      "  label 8: 68\n",
      "  label 9: 30\n",
      "  label 10: 67\n",
      "  label 11: 169\n",
      "  label 12: 190\n",
      "  label 13: 28\n",
      "  label 14: 23\n",
      "  label 15: 25\n",
      "  label 16: 19\n",
      "  label 17: 182\n",
      "  label 18: 92\n",
      "  label 19: 44\n",
      "  label 20: 14\n",
      "  label 21: 35\n",
      "  label 22: 76\n",
      "  label 23: 157\n",
      "  label 24: 13\n",
      "  label 25: 44\n",
      "  label 26: 84\n",
      "  label 27: 48\n",
      "  label 28: 11\n",
      "  label 29: 13\n",
      "  label 30: 11\n",
      "  label 31: 76\n",
      "  label 32: 36\n",
      "  label 33: 31\n",
      "  label 34: 30\n",
      "  label 35: 11\n",
      "  label 36: 21\n",
      "  label 37: 16\n",
      "  label 38: 32\n",
      "  label 39: 11\n",
      "  label 40: 9\n",
      "  label 41: 57\n",
      "  label 42: 18\n",
      "  label 43: 9\n",
      "  label 44: 55\n",
      "  label 45: 241\n",
      "  label 46: 62\n",
      "  label 47: 80\n",
      "model is roberta-base\n"
     ]
    },
    {
     "name": "stderr",
     "output_type": "stream",
     "text": [
      "Some weights of RobertaForSequenceClassification were not initialized from the model checkpoint at roberta-base and are newly initialized: ['classifier.dense.bias', 'classifier.dense.weight', 'classifier.out_proj.bias', 'classifier.out_proj.weight']\n",
      "You should probably TRAIN this model on a down-stream task to be able to use it for predictions and inference.\n"
     ]
    },
    {
     "name": "stdout",
     "output_type": "stream",
     "text": [
      "Using weighted CrossEntropyLoss with weights: tensor([0.7527, 5.4740, 4.4061, 5.3870, 3.3180, 3.8376, 4.0324, 5.1638, 4.3455,\n",
      "        5.1638, 4.3603, 3.4351, 3.3180, 5.2328, 5.4295, 5.3462, 5.6206, 3.3610,\n",
      "        4.0432, 4.7808, 5.9260, 5.0097, 4.2343, 3.5088, 6.0001, 4.7808, 4.1342,\n",
      "        4.6938, 6.1671, 6.0001, 6.1671, 4.2343, 4.9815, 5.1310, 5.1638, 6.1671,\n",
      "        5.5205, 5.7924, 5.0993, 6.1671, 6.3678, 4.5220, 5.6747, 6.3678, 4.5577,\n",
      "        3.0802, 4.4379, 4.1830], device='cuda:0')\n",
      "Epoch 1/20\n"
     ]
    },
    {
     "name": "stderr",
     "output_type": "stream",
     "text": [
      "100%|██████████| 328/328 [00:28<00:00, 11.69it/s]\n"
     ]
    },
    {
     "name": "stdout",
     "output_type": "stream",
     "text": [
      "{'val_loss': 2.9405033174084454, 'val_accuracy': 0.5583524027459954, 'precision': 0.38476042220726786, 'recall': 0.5583524027459954, 'f1-score': 0.43593787563112246, 'macro_f1-score': 0.06790818977110766, 'balanced_accuracy': 0.08339654307828466, 'mcc': 0.3420516515382386, 'train_loss': 2.1411285978264925}\n",
      "Epoch 2/20\n"
     ]
    },
    {
     "name": "stderr",
     "output_type": "stream",
     "text": [
      "100%|██████████| 328/328 [00:28<00:00, 11.69it/s]\n"
     ]
    },
    {
     "name": "stdout",
     "output_type": "stream",
     "text": [
      "{'val_loss': 2.4354247501710566, 'val_accuracy': 0.5942028985507246, 'precision': 0.4893167740687097, 'recall': 0.5942028985507246, 'f1-score': 0.5253732421484396, 'macro_f1-score': 0.167467942922879, 'balanced_accuracy': 0.18187110543221116, 'mcc': 0.4274113919660604, 'train_loss': 1.616606569508227}\n",
      "Epoch 3/20\n"
     ]
    },
    {
     "name": "stderr",
     "output_type": "stream",
     "text": [
      "100%|██████████| 328/328 [00:28<00:00, 11.68it/s]\n"
     ]
    },
    {
     "name": "stdout",
     "output_type": "stream",
     "text": [
      "{'val_loss': 2.30438423738247, 'val_accuracy': 0.6048817696414951, 'precision': 0.5202279800021357, 'recall': 0.6048817696414951, 'f1-score': 0.5506445018421686, 'macro_f1-score': 0.2114324124099909, 'balanced_accuracy': 0.2159660697448249, 'mcc': 0.4519263038943278, 'train_loss': 1.3099267045717413}\n",
      "Epoch 4/20\n"
     ]
    },
    {
     "name": "stderr",
     "output_type": "stream",
     "text": [
      "100%|██████████| 328/328 [00:28<00:00, 11.68it/s]\n"
     ]
    },
    {
     "name": "stdout",
     "output_type": "stream",
     "text": [
      "{'val_loss': 2.239957761837215, 'val_accuracy': 0.6231884057971014, 'precision': 0.5791894770233045, 'recall': 0.6231884057971014, 'f1-score': 0.5839143470947548, 'macro_f1-score': 0.2574301149680473, 'balanced_accuracy': 0.25655108329284915, 'mcc': 0.48821262657610237, 'train_loss': 1.0676733498438828}\n",
      "Epoch 5/20\n"
     ]
    },
    {
     "name": "stderr",
     "output_type": "stream",
     "text": [
      "100%|██████████| 328/328 [00:28<00:00, 11.69it/s]\n"
     ]
    },
    {
     "name": "stdout",
     "output_type": "stream",
     "text": [
      "{'val_loss': 2.1786261033721086, 'val_accuracy': 0.601067887109077, 'precision': 0.5758061838579526, 'recall': 0.601067887109077, 'f1-score': 0.575701684601149, 'macro_f1-score': 0.24599722652879552, 'balanced_accuracy': 0.253108602428647, 'mcc': 0.47198616717995423, 'train_loss': 0.8552395685053453}\n",
      "Epoch 6/20\n"
     ]
    },
    {
     "name": "stderr",
     "output_type": "stream",
     "text": [
      "100%|██████████| 328/328 [00:28<00:00, 11.69it/s]\n"
     ]
    },
    {
     "name": "stdout",
     "output_type": "stream",
     "text": [
      "{'val_loss': 2.2430370457288697, 'val_accuracy': 0.6300533943554538, 'precision': 0.5968316386848864, 'recall': 0.6300533943554538, 'f1-score': 0.6039354257066168, 'macro_f1-score': 0.2830342972327115, 'balanced_accuracy': 0.28795518175404383, 'mcc': 0.5072252113067622, 'train_loss': 0.686362040024705}\n",
      "Epoch 7/20\n"
     ]
    },
    {
     "name": "stderr",
     "output_type": "stream",
     "text": [
      "100%|██████████| 328/328 [00:28<00:00, 11.67it/s]\n"
     ]
    },
    {
     "name": "stdout",
     "output_type": "stream",
     "text": [
      "{'val_loss': 2.348056095765858, 'val_accuracy': 0.6132723112128147, 'precision': 0.6132037662261385, 'recall': 0.6132723112128147, 'f1-score': 0.6021434939952394, 'macro_f1-score': 0.3105557049546996, 'balanced_accuracy': 0.32266763371122925, 'mcc': 0.4922304962361533, 'train_loss': 0.5466699030295741}\n",
      "Epoch 8/20\n"
     ]
    },
    {
     "name": "stderr",
     "output_type": "stream",
     "text": [
      "100%|██████████| 328/328 [00:28<00:00, 11.68it/s]\n"
     ]
    },
    {
     "name": "stdout",
     "output_type": "stream",
     "text": [
      "{'val_loss': 2.4512348694772257, 'val_accuracy': 0.6270022883295194, 'precision': 0.6216005366297923, 'recall': 0.6270022883295194, 'f1-score': 0.6136654323882746, 'macro_f1-score': 0.33997863310823684, 'balanced_accuracy': 0.3253764666348797, 'mcc': 0.5010864494402604, 'train_loss': 0.4311036832358052}\n",
      "Epoch 9/20\n"
     ]
    },
    {
     "name": "stderr",
     "output_type": "stream",
     "text": [
      "100%|██████████| 328/328 [00:28<00:00, 11.70it/s]\n"
     ]
    },
    {
     "name": "stdout",
     "output_type": "stream",
     "text": [
      "{'val_loss': 2.5283336981040674, 'val_accuracy': 0.6414950419527079, 'precision': 0.6160308750097566, 'recall': 0.6414950419527079, 'f1-score': 0.6238519646883657, 'macro_f1-score': 0.34923711923050843, 'balanced_accuracy': 0.3413881831529811, 'mcc': 0.5190770693533753, 'train_loss': 0.35027631567563955}\n",
      "Epoch 10/20\n"
     ]
    },
    {
     "name": "stderr",
     "output_type": "stream",
     "text": [
      "100%|██████████| 328/328 [00:28<00:00, 11.68it/s]\n"
     ]
    },
    {
     "name": "stdout",
     "output_type": "stream",
     "text": [
      "{'val_loss': 2.5068256796860116, 'val_accuracy': 0.6338672768878718, 'precision': 0.6371512202071519, 'recall': 0.6338672768878718, 'f1-score': 0.6285866745812826, 'macro_f1-score': 0.3745014765590969, 'balanced_accuracy': 0.374500554704788, 'mcc': 0.5205664252935589, 'train_loss': 0.29681588657109476}\n",
      "Epoch 11/20\n"
     ]
    },
    {
     "name": "stderr",
     "output_type": "stream",
     "text": [
      "100%|██████████| 328/328 [00:28<00:00, 11.68it/s]\n"
     ]
    },
    {
     "name": "stdout",
     "output_type": "stream",
     "text": [
      "{'val_loss': 2.8189126529344697, 'val_accuracy': 0.6285278413424866, 'precision': 0.6225345434230676, 'recall': 0.6285278413424866, 'f1-score': 0.6158492517916574, 'macro_f1-score': 0.3356898430477407, 'balanced_accuracy': 0.3346083892165839, 'mcc': 0.50914224820348, 'train_loss': 0.21199334860870206}\n",
      "Epoch 12/20\n"
     ]
    },
    {
     "name": "stderr",
     "output_type": "stream",
     "text": [
      "100%|██████████| 328/328 [00:28<00:00, 11.69it/s]\n"
     ]
    },
    {
     "name": "stdout",
     "output_type": "stream",
     "text": [
      "{'val_loss': 2.8362943573695856, 'val_accuracy': 0.627765064836003, 'precision': 0.6218256153364105, 'recall': 0.627765064836003, 'f1-score': 0.615116093253898, 'macro_f1-score': 0.3496325629788815, 'balanced_accuracy': 0.34098013655672094, 'mcc': 0.506694676412767, 'train_loss': 0.21713504821300597}\n",
      "Epoch 13/20\n"
     ]
    },
    {
     "name": "stderr",
     "output_type": "stream",
     "text": [
      "100%|██████████| 328/328 [00:28<00:00, 11.70it/s]\n"
     ]
    },
    {
     "name": "stdout",
     "output_type": "stream",
     "text": [
      "{'val_loss': 2.8763693752812176, 'val_accuracy': 0.6231884057971014, 'precision': 0.6220555022123266, 'recall': 0.6231884057971014, 'f1-score': 0.6123928474161514, 'macro_f1-score': 0.34631728608101553, 'balanced_accuracy': 0.33826285071991813, 'mcc': 0.5003538386586407, 'train_loss': 0.18131860674120395}\n",
      "Early stopping.\n",
      "\n",
      "[Fold 4]\n",
      "Label distribution after resampling:\n",
      "  label 0: 2471\n",
      "  label 1: 22\n",
      "  label 2: 64\n",
      "  label 3: 24\n",
      "  label 4: 190\n",
      "  label 5: 113\n",
      "  label 6: 93\n",
      "  label 7: 31\n",
      "  label 8: 68\n",
      "  label 9: 29\n",
      "  label 10: 67\n",
      "  label 11: 169\n",
      "  label 12: 190\n",
      "  label 13: 29\n",
      "  label 14: 22\n",
      "  label 15: 25\n",
      "  label 16: 19\n",
      "  label 17: 182\n",
      "  label 18: 92\n",
      "  label 19: 44\n",
      "  label 20: 14\n",
      "  label 21: 35\n",
      "  label 22: 76\n",
      "  label 23: 158\n",
      "  label 24: 13\n",
      "  label 25: 44\n",
      "  label 26: 84\n",
      "  label 27: 48\n",
      "  label 28: 11\n",
      "  label 29: 13\n",
      "  label 30: 11\n",
      "  label 31: 75\n",
      "  label 32: 36\n",
      "  label 33: 31\n",
      "  label 34: 30\n",
      "  label 35: 11\n",
      "  label 36: 22\n",
      "  label 37: 16\n",
      "  label 38: 33\n",
      "  label 39: 10\n",
      "  label 40: 9\n",
      "  label 41: 56\n",
      "  label 42: 18\n",
      "  label 43: 9\n",
      "  label 44: 55\n",
      "  label 45: 241\n",
      "  label 46: 62\n",
      "  label 47: 80\n",
      "model is roberta-base\n"
     ]
    },
    {
     "name": "stderr",
     "output_type": "stream",
     "text": [
      "Some weights of RobertaForSequenceClassification were not initialized from the model checkpoint at roberta-base and are newly initialized: ['classifier.dense.bias', 'classifier.dense.weight', 'classifier.out_proj.bias', 'classifier.out_proj.weight']\n",
      "You should probably TRAIN this model on a down-stream task to be able to use it for predictions and inference.\n"
     ]
    },
    {
     "name": "stdout",
     "output_type": "stream",
     "text": [
      "Using weighted CrossEntropyLoss with weights: tensor([0.7527, 5.4740, 4.4061, 5.3870, 3.3180, 3.8376, 4.0324, 5.1310, 4.3455,\n",
      "        5.1977, 4.3603, 3.4351, 3.3180, 5.1977, 5.4740, 5.3462, 5.6206, 3.3610,\n",
      "        4.0432, 4.7808, 5.9260, 5.0097, 4.2343, 3.5024, 6.0001, 4.7808, 4.1342,\n",
      "        4.6938, 6.1671, 6.0001, 6.1671, 4.2475, 4.9815, 5.1310, 5.1638, 6.1671,\n",
      "        5.4740, 5.7924, 5.0685, 6.2624, 6.3678, 4.5397, 5.6747, 6.3678, 4.5577,\n",
      "        3.0802, 4.4379, 4.1830], device='cuda:0')\n",
      "Epoch 1/20\n"
     ]
    },
    {
     "name": "stderr",
     "output_type": "stream",
     "text": [
      "100%|██████████| 328/328 [00:28<00:00, 11.67it/s]\n"
     ]
    },
    {
     "name": "stdout",
     "output_type": "stream",
     "text": [
      "{'val_loss': 3.17681721361672, 'val_accuracy': 0.5125858123569794, 'precision': 0.3435191374016105, 'recall': 0.5125858123569794, 'f1-score': 0.40610798506156187, 'macro_f1-score': 0.04376857952484827, 'balanced_accuracy': 0.06382858290833097, 'mcc': 0.2921801343155904, 'train_loss': 2.333493346848139}\n",
      "Epoch 2/20\n"
     ]
    },
    {
     "name": "stderr",
     "output_type": "stream",
     "text": [
      "100%|██████████| 328/328 [00:28<00:00, 11.68it/s]\n"
     ]
    },
    {
     "name": "stdout",
     "output_type": "stream",
     "text": [
      "{'val_loss': 2.6809466292218462, 'val_accuracy': 0.49122807017543857, 'precision': 0.42252209856508643, 'recall': 0.49122807017543857, 'f1-score': 0.44472112482905823, 'macro_f1-score': 0.07132806436852669, 'balanced_accuracy': 0.10129203908206992, 'mcc': 0.33184176376458707, 'train_loss': 1.954632472701189}\n",
      "Epoch 3/20\n"
     ]
    },
    {
     "name": "stderr",
     "output_type": "stream",
     "text": [
      "100%|██████████| 328/328 [00:28<00:00, 11.68it/s]\n"
     ]
    },
    {
     "name": "stdout",
     "output_type": "stream",
     "text": [
      "{'val_loss': 2.519422018673362, 'val_accuracy': 0.5812356979405034, 'precision': 0.44903332870487983, 'recall': 0.5812356979405034, 'f1-score': 0.48386158417158653, 'macro_f1-score': 0.09513038750650314, 'balanced_accuracy': 0.10952218576443747, 'mcc': 0.4013666069029229, 'train_loss': 1.7228353141648014}\n",
      "Epoch 4/20\n"
     ]
    },
    {
     "name": "stderr",
     "output_type": "stream",
     "text": [
      "100%|██████████| 328/328 [00:28<00:00, 11.70it/s]\n"
     ]
    },
    {
     "name": "stdout",
     "output_type": "stream",
     "text": [
      "{'val_loss': 2.4331942680405407, 'val_accuracy': 0.5881006864988558, 'precision': 0.5214568192513621, 'recall': 0.5881006864988558, 'f1-score': 0.5206620475362934, 'macro_f1-score': 0.14271029397718035, 'balanced_accuracy': 0.15315284662199838, 'mcc': 0.4288946275662441, 'train_loss': 1.5166274572654468}\n",
      "Epoch 5/20\n"
     ]
    },
    {
     "name": "stderr",
     "output_type": "stream",
     "text": [
      "100%|██████████| 328/328 [00:28<00:00, 11.67it/s]\n"
     ]
    },
    {
     "name": "stdout",
     "output_type": "stream",
     "text": [
      "{'val_loss': 2.231067856637443, 'val_accuracy': 0.5659801678108314, 'precision': 0.5679992998581436, 'recall': 0.5659801678108314, 'f1-score': 0.5550136678375016, 'macro_f1-score': 0.20182623905805105, 'balanced_accuracy': 0.23095926419460563, 'mcc': 0.44496872877096555, 'train_loss': 1.2938724901618026}\n",
      "Epoch 6/20\n"
     ]
    },
    {
     "name": "stderr",
     "output_type": "stream",
     "text": [
      "100%|██████████| 328/328 [00:28<00:00, 11.67it/s]\n"
     ]
    },
    {
     "name": "stdout",
     "output_type": "stream",
     "text": [
      "{'val_loss': 2.2333445948798483, 'val_accuracy': 0.6193745232646835, 'precision': 0.5877212343610452, 'recall': 0.6193745232646835, 'f1-score': 0.5886524925698776, 'macro_f1-score': 0.24468336019421436, 'balanced_accuracy': 0.23818356653638295, 'mcc': 0.4823427448722611, 'train_loss': 1.115944665197919}\n",
      "Epoch 7/20\n"
     ]
    },
    {
     "name": "stderr",
     "output_type": "stream",
     "text": [
      "100%|██████████| 328/328 [00:28<00:00, 11.68it/s]\n"
     ]
    },
    {
     "name": "stdout",
     "output_type": "stream",
     "text": [
      "{'val_loss': 2.2105189607274243, 'val_accuracy': 0.6209000762776506, 'precision': 0.6005250467645731, 'recall': 0.6209000762776506, 'f1-score': 0.59561899718429, 'macro_f1-score': 0.271710004844802, 'balanced_accuracy': 0.27700442164863076, 'mcc': 0.49387704981639974, 'train_loss': 0.8968584693332271}\n",
      "Epoch 8/20\n"
     ]
    },
    {
     "name": "stderr",
     "output_type": "stream",
     "text": [
      "100%|██████████| 328/328 [00:28<00:00, 11.70it/s]\n"
     ]
    },
    {
     "name": "stdout",
     "output_type": "stream",
     "text": [
      "{'val_loss': 2.351523408802544, 'val_accuracy': 0.6132723112128147, 'precision': 0.6219483464431486, 'recall': 0.6132723112128147, 'f1-score': 0.6058590352758639, 'macro_f1-score': 0.2770014840366481, 'balanced_accuracy': 0.28328145791444026, 'mcc': 0.49220906518860685, 'train_loss': 0.730682047220265}\n",
      "Epoch 9/20\n"
     ]
    },
    {
     "name": "stderr",
     "output_type": "stream",
     "text": [
      "100%|██████████| 328/328 [00:28<00:00, 11.67it/s]\n"
     ]
    },
    {
     "name": "stdout",
     "output_type": "stream",
     "text": [
      "{'val_loss': 2.780621211158066, 'val_accuracy': 0.6247139588100686, 'precision': 0.6052569818192408, 'recall': 0.6247139588100686, 'f1-score': 0.596947932834832, 'macro_f1-score': 0.2902812237389298, 'balanced_accuracy': 0.280335308734947, 'mcc': 0.4838792555061371, 'train_loss': 0.5923111634783265}\n",
      "Epoch 10/20\n"
     ]
    },
    {
     "name": "stderr",
     "output_type": "stream",
     "text": [
      "100%|██████████| 328/328 [00:28<00:00, 11.69it/s]\n"
     ]
    },
    {
     "name": "stdout",
     "output_type": "stream",
     "text": [
      "{'val_loss': 2.254921176811544, 'val_accuracy': 0.6155606407322655, 'precision': 0.6359978296978585, 'recall': 0.6155606407322655, 'f1-score': 0.6186837615421179, 'macro_f1-score': 0.34210090075176997, 'balanced_accuracy': 0.3669005330995711, 'mcc': 0.5073921479192331, 'train_loss': 0.509754268986332}\n",
      "Epoch 11/20\n"
     ]
    },
    {
     "name": "stderr",
     "output_type": "stream",
     "text": [
      "100%|██████████| 328/328 [00:28<00:00, 11.69it/s]\n"
     ]
    },
    {
     "name": "stdout",
     "output_type": "stream",
     "text": [
      "{'val_loss': 2.3221708447104548, 'val_accuracy': 0.6292906178489702, 'precision': 0.6444080451934188, 'recall': 0.6292906178489702, 'f1-score': 0.6287764989405366, 'macro_f1-score': 0.3657036722138615, 'balanced_accuracy': 0.38729332552820805, 'mcc': 0.5220458559577897, 'train_loss': 0.39848144546650893}\n",
      "Epoch 12/20\n"
     ]
    },
    {
     "name": "stderr",
     "output_type": "stream",
     "text": [
      "100%|██████████| 328/328 [00:28<00:00, 11.70it/s]\n"
     ]
    },
    {
     "name": "stdout",
     "output_type": "stream",
     "text": [
      "{'val_loss': 2.336673381170485, 'val_accuracy': 0.5942028985507246, 'precision': 0.645523929204746, 'recall': 0.5942028985507246, 'f1-score': 0.6040249426593034, 'macro_f1-score': 0.3377791745329238, 'balanced_accuracy': 0.356802839105006, 'mcc': 0.4916171043171901, 'train_loss': 0.3390564092423585}\n",
      "Epoch 13/20\n"
     ]
    },
    {
     "name": "stderr",
     "output_type": "stream",
     "text": [
      "100%|██████████| 328/328 [00:28<00:00, 11.68it/s]\n"
     ]
    },
    {
     "name": "stdout",
     "output_type": "stream",
     "text": [
      "{'val_loss': 2.726480872256727, 'val_accuracy': 0.6262395118230358, 'precision': 0.6330778425327912, 'recall': 0.6262395118230358, 'f1-score': 0.6190709346598179, 'macro_f1-score': 0.33353419837973836, 'balanced_accuracy': 0.33666419439035095, 'mcc': 0.5053214713888794, 'train_loss': 0.27518518907926615}\n",
      "Epoch 14/20\n"
     ]
    },
    {
     "name": "stderr",
     "output_type": "stream",
     "text": [
      "100%|██████████| 328/328 [00:28<00:00, 11.69it/s]\n"
     ]
    },
    {
     "name": "stdout",
     "output_type": "stream",
     "text": [
      "{'val_loss': 2.7171541118040317, 'val_accuracy': 0.6384439359267735, 'precision': 0.6335292208928931, 'recall': 0.6384439359267735, 'f1-score': 0.6295760119309335, 'macro_f1-score': 0.3459932463216188, 'balanced_accuracy': 0.34823008613684686, 'mcc': 0.522312598597552, 'train_loss': 0.2642061968970044}\n",
      "Early stopping.\n",
      "\n",
      "[Fold 5]\n",
      "Label distribution after resampling:\n",
      "  label 0: 2472\n",
      "  label 1: 21\n",
      "  label 2: 64\n",
      "  label 3: 24\n",
      "  label 4: 191\n",
      "  label 5: 112\n",
      "  label 6: 92\n",
      "  label 7: 31\n",
      "  label 8: 68\n",
      "  label 9: 29\n",
      "  label 10: 68\n",
      "  label 11: 168\n",
      "  label 12: 190\n",
      "  label 13: 29\n",
      "  label 14: 22\n",
      "  label 15: 25\n",
      "  label 16: 19\n",
      "  label 17: 183\n",
      "  label 18: 92\n",
      "  label 19: 44\n",
      "  label 20: 14\n",
      "  label 21: 35\n",
      "  label 22: 76\n",
      "  label 23: 158\n",
      "  label 24: 13\n",
      "  label 25: 44\n",
      "  label 26: 84\n",
      "  label 27: 48\n",
      "  label 28: 11\n",
      "  label 29: 13\n",
      "  label 30: 11\n",
      "  label 31: 75\n",
      "  label 32: 36\n",
      "  label 33: 31\n",
      "  label 34: 30\n",
      "  label 35: 11\n",
      "  label 36: 22\n",
      "  label 37: 16\n",
      "  label 38: 33\n",
      "  label 39: 10\n",
      "  label 40: 9\n",
      "  label 41: 57\n",
      "  label 42: 18\n",
      "  label 43: 9\n",
      "  label 44: 54\n",
      "  label 45: 242\n",
      "  label 46: 61\n",
      "  label 47: 80\n",
      "model is roberta-base\n"
     ]
    },
    {
     "name": "stderr",
     "output_type": "stream",
     "text": [
      "Some weights of RobertaForSequenceClassification were not initialized from the model checkpoint at roberta-base and are newly initialized: ['classifier.dense.bias', 'classifier.dense.weight', 'classifier.out_proj.bias', 'classifier.out_proj.weight']\n",
      "You should probably TRAIN this model on a down-stream task to be able to use it for predictions and inference.\n"
     ]
    },
    {
     "name": "stdout",
     "output_type": "stream",
     "text": [
      "Using weighted CrossEntropyLoss with weights: tensor([0.7522, 5.5205, 4.4061, 5.3870, 3.3128, 3.8465, 4.0432, 5.1310, 4.3455,\n",
      "        5.1977, 4.3455, 3.4411, 3.3180, 5.1977, 5.4740, 5.3462, 5.6206, 3.3555,\n",
      "        4.0432, 4.7808, 5.9260, 5.0097, 4.2343, 3.5024, 6.0001, 4.7808, 4.1342,\n",
      "        4.6938, 6.1671, 6.0001, 6.1671, 4.2475, 4.9815, 5.1310, 5.1638, 6.1671,\n",
      "        5.4740, 5.7924, 5.0685, 6.2624, 6.3678, 4.5220, 5.6747, 6.3678, 4.5760,\n",
      "        3.0761, 4.4542, 4.1830], device='cuda:0')\n",
      "Epoch 1/20\n"
     ]
    },
    {
     "name": "stderr",
     "output_type": "stream",
     "text": [
      "100%|██████████| 328/328 [00:28<00:00, 11.68it/s]\n"
     ]
    },
    {
     "name": "stdout",
     "output_type": "stream",
     "text": [
      "{'val_loss': 3.111316548614967, 'val_accuracy': 0.5568268497330282, 'precision': 0.34407500640073485, 'recall': 0.5568268497330282, 'f1-score': 0.4236404288142685, 'macro_f1-score': 0.05767729318919098, 'balanced_accuracy': 0.07790703945751949, 'mcc': 0.34067877555449094, 'train_loss': 2.2267858507793123}\n",
      "Epoch 2/20\n"
     ]
    },
    {
     "name": "stderr",
     "output_type": "stream",
     "text": [
      "100%|██████████| 328/328 [00:28<00:00, 11.70it/s]\n"
     ]
    },
    {
     "name": "stdout",
     "output_type": "stream",
     "text": [
      "{'val_loss': 2.486344946593773, 'val_accuracy': 0.5881006864988558, 'precision': 0.4412023878931657, 'recall': 0.5881006864988558, 'f1-score': 0.49254818656534005, 'macro_f1-score': 0.11195866510427564, 'balanced_accuracy': 0.132576963749693, 'mcc': 0.4121708794810738, 'train_loss': 1.7274694539061406}\n",
      "Epoch 3/20\n"
     ]
    },
    {
     "name": "stderr",
     "output_type": "stream",
     "text": [
      "100%|██████████| 328/328 [00:28<00:00, 11.67it/s]\n"
     ]
    },
    {
     "name": "stdout",
     "output_type": "stream",
     "text": [
      "{'val_loss': 2.1468860383440806, 'val_accuracy': 0.6064073226544623, 'precision': 0.5666105373608731, 'recall': 0.6064073226544623, 'f1-score': 0.5721929796016778, 'macro_f1-score': 0.2327930704479786, 'balanced_accuracy': 0.24298837564779444, 'mcc': 0.47580783959516865, 'train_loss': 1.4648979600609802}\n",
      "Epoch 4/20\n"
     ]
    },
    {
     "name": "stderr",
     "output_type": "stream",
     "text": [
      "100%|██████████| 328/328 [00:28<00:00, 11.68it/s]\n"
     ]
    },
    {
     "name": "stdout",
     "output_type": "stream",
     "text": [
      "{'val_loss': 2.1434153456513476, 'val_accuracy': 0.6254767353165522, 'precision': 0.5716037487948312, 'recall': 0.6254767353165522, 'f1-score': 0.585354366506908, 'macro_f1-score': 0.23714338772442942, 'balanced_accuracy': 0.24395535172649352, 'mcc': 0.5000101903154535, 'train_loss': 1.2130800441997807}\n",
      "Epoch 5/20\n"
     ]
    },
    {
     "name": "stderr",
     "output_type": "stream",
     "text": [
      "100%|██████████| 328/328 [00:28<00:00, 11.69it/s]\n"
     ]
    },
    {
     "name": "stdout",
     "output_type": "stream",
     "text": [
      "{'val_loss': 2.193407103055861, 'val_accuracy': 0.6178489702517163, 'precision': 0.577638756207624, 'recall': 0.6178489702517163, 'f1-score': 0.5804661879441826, 'macro_f1-score': 0.2615365643128985, 'balanced_accuracy': 0.25518521545932676, 'mcc': 0.4832302109494933, 'train_loss': 0.9926190586170045}\n",
      "Epoch 6/20\n"
     ]
    },
    {
     "name": "stderr",
     "output_type": "stream",
     "text": [
      "100%|██████████| 328/328 [00:28<00:00, 11.69it/s]\n"
     ]
    },
    {
     "name": "stdout",
     "output_type": "stream",
     "text": [
      "{'val_loss': 2.074014394021616, 'val_accuracy': 0.6445461479786423, 'precision': 0.6319310012679114, 'recall': 0.6445461479786423, 'f1-score': 0.6201606337719, 'macro_f1-score': 0.32735026329528066, 'balanced_accuracy': 0.3316043396908648, 'mcc': 0.5317478839057029, 'train_loss': 0.8129879091298435}\n",
      "Epoch 7/20\n"
     ]
    },
    {
     "name": "stderr",
     "output_type": "stream",
     "text": [
      "100%|██████████| 328/328 [00:28<00:00, 11.67it/s]\n"
     ]
    },
    {
     "name": "stdout",
     "output_type": "stream",
     "text": [
      "{'val_loss': 2.0946458054751886, 'val_accuracy': 0.6292906178489702, 'precision': 0.6353859171458469, 'recall': 0.6292906178489702, 'f1-score': 0.6221260623096926, 'macro_f1-score': 0.37299006564827614, 'balanced_accuracy': 0.384753634090099, 'mcc': 0.5229107201616381, 'train_loss': 0.645896795342063}\n",
      "Epoch 8/20\n"
     ]
    },
    {
     "name": "stderr",
     "output_type": "stream",
     "text": [
      "100%|██████████| 328/328 [00:28<00:00, 11.69it/s]\n"
     ]
    },
    {
     "name": "stdout",
     "output_type": "stream",
     "text": [
      "{'val_loss': 2.2790786107865775, 'val_accuracy': 0.6407322654462243, 'precision': 0.6358347573220756, 'recall': 0.6407322654462243, 'f1-score': 0.6271624522455129, 'macro_f1-score': 0.36284998749901803, 'balanced_accuracy': 0.3503465566529121, 'mcc': 0.5247626375997666, 'train_loss': 0.5137258114338648}\n",
      "Epoch 9/20\n"
     ]
    },
    {
     "name": "stderr",
     "output_type": "stream",
     "text": [
      "100%|██████████| 328/328 [00:28<00:00, 11.70it/s]\n"
     ]
    },
    {
     "name": "stdout",
     "output_type": "stream",
     "text": [
      "{'val_loss': 2.2804590710779515, 'val_accuracy': 0.6399694889397407, 'precision': 0.6458397025471578, 'recall': 0.6399694889397407, 'f1-score': 0.6312816700851803, 'macro_f1-score': 0.37939046673713933, 'balanced_accuracy': 0.37892948024094003, 'mcc': 0.52470201421666, 'train_loss': 0.40426061977064465}\n",
      "Epoch 10/20\n"
     ]
    },
    {
     "name": "stderr",
     "output_type": "stream",
     "text": [
      "100%|██████████| 328/328 [00:28<00:00, 11.69it/s]\n"
     ]
    },
    {
     "name": "stdout",
     "output_type": "stream",
     "text": [
      "{'val_loss': 2.3703748721901965, 'val_accuracy': 0.6475972540045767, 'precision': 0.636032789069741, 'recall': 0.6475972540045767, 'f1-score': 0.6348108492224286, 'macro_f1-score': 0.38408726593697545, 'balanced_accuracy': 0.3808249433018553, 'mcc': 0.5331950838549754, 'train_loss': 0.33736053139266625}\n",
      "Epoch 11/20\n"
     ]
    },
    {
     "name": "stderr",
     "output_type": "stream",
     "text": [
      "100%|██████████| 328/328 [00:28<00:00, 11.68it/s]\n"
     ]
    },
    {
     "name": "stdout",
     "output_type": "stream",
     "text": [
      "{'val_loss': 2.5390375619981347, 'val_accuracy': 0.6254767353165522, 'precision': 0.6029908839160518, 'recall': 0.6254767353165522, 'f1-score': 0.6074136194161464, 'macro_f1-score': 0.3596496604664481, 'balanced_accuracy': 0.3600265704486271, 'mcc': 0.5047355472304046, 'train_loss': 0.3054817467757569}\n",
      "Epoch 12/20\n"
     ]
    },
    {
     "name": "stderr",
     "output_type": "stream",
     "text": [
      "100%|██████████| 328/328 [00:28<00:00, 11.69it/s]\n"
     ]
    },
    {
     "name": "stdout",
     "output_type": "stream",
     "text": [
      "{'val_loss': 2.6342363313930792, 'val_accuracy': 0.6376811594202898, 'precision': 0.6324210116450473, 'recall': 0.6376811594202898, 'f1-score': 0.626255228265683, 'macro_f1-score': 0.3810968076119468, 'balanced_accuracy': 0.3796477926946123, 'mcc': 0.5166118828708577, 'train_loss': 0.24112346796205314}\n",
      "Epoch 13/20\n"
     ]
    },
    {
     "name": "stderr",
     "output_type": "stream",
     "text": [
      "100%|██████████| 328/328 [00:28<00:00, 11.69it/s]\n"
     ]
    },
    {
     "name": "stdout",
     "output_type": "stream",
     "text": [
      "{'val_loss': 2.4930874123805906, 'val_accuracy': 0.6231884057971014, 'precision': 0.6307012527959415, 'recall': 0.6231884057971014, 'f1-score': 0.6098403186586052, 'macro_f1-score': 0.37970521533447715, 'balanced_accuracy': 0.4067606464109268, 'mcc': 0.5063202351913274, 'train_loss': 0.21863175234075907}\n",
      "Early stopping.\n",
      "\n",
      " === roberta-base + plain + none Final 5-fold Cross-Validation Results ===\n",
      "val_loss: 2.4636\n",
      "val_accuracy: 0.6356\n",
      "precision: 0.6326\n",
      "recall: 0.6356\n",
      "f1-score: 0.6261\n",
      "macro_f1-score: 0.3624\n",
      "balanced_accuracy: 0.3655\n",
      "mcc: 0.5203\n",
      "train_loss: 0.3585\n",
      "total_seconds: 2041.0000\n",
      "total_time: 0 hrs 34 mins 1 secs\n",
      "▶ Running: roberta-base + cnn + none\n",
      "tokenizer is roberta-base\n",
      "Using device: cuda\n",
      "CUDA Available: True\n",
      "CUDA Device: NVIDIA GeForce RTX 5070 Ti\n",
      "Current GPU Memory Allocated: 0.02 GB\n",
      "Current GPU Memory Cached: 3.82 GB\n",
      "\n",
      "[Fold 1]\n",
      "Label distribution after resampling:\n",
      "  label 0: 2471\n",
      "  label 1: 21\n",
      "  label 2: 64\n",
      "  label 3: 24\n",
      "  label 4: 191\n",
      "  label 5: 113\n",
      "  label 6: 93\n",
      "  label 7: 30\n",
      "  label 8: 68\n",
      "  label 9: 30\n",
      "  label 10: 67\n",
      "  label 11: 169\n",
      "  label 12: 189\n",
      "  label 13: 29\n",
      "  label 14: 22\n",
      "  label 15: 25\n",
      "  label 16: 19\n",
      "  label 17: 183\n",
      "  label 18: 92\n",
      "  label 19: 44\n",
      "  label 20: 13\n",
      "  label 21: 35\n",
      "  label 22: 76\n",
      "  label 23: 158\n",
      "  label 24: 13\n",
      "  label 25: 44\n",
      "  label 26: 84\n",
      "  label 27: 48\n",
      "  label 28: 11\n",
      "  label 29: 13\n",
      "  label 30: 11\n",
      "  label 31: 75\n",
      "  label 32: 36\n",
      "  label 33: 32\n",
      "  label 34: 29\n",
      "  label 35: 11\n",
      "  label 36: 22\n",
      "  label 37: 16\n",
      "  label 38: 33\n",
      "  label 39: 10\n",
      "  label 40: 9\n",
      "  label 41: 57\n",
      "  label 42: 19\n",
      "  label 43: 8\n",
      "  label 44: 54\n",
      "  label 45: 242\n",
      "  label 46: 61\n",
      "  label 47: 80\n",
      "model is roberta-base cnn\n"
     ]
    },
    {
     "name": "stderr",
     "output_type": "stream",
     "text": [
      "Some weights of RobertaModel were not initialized from the model checkpoint at roberta-base and are newly initialized: ['pooler.dense.bias', 'pooler.dense.weight']\n",
      "You should probably TRAIN this model on a down-stream task to be able to use it for predictions and inference.\n"
     ]
    },
    {
     "name": "stdout",
     "output_type": "stream",
     "text": [
      "Using weighted CrossEntropyLoss with weights: tensor([0.7525, 5.5203, 4.4060, 5.3868, 3.3126, 3.8375, 4.0322, 5.1636, 4.3453,\n",
      "        5.1636, 4.3601, 3.4349, 3.3231, 5.1975, 5.4738, 5.3460, 5.6204, 3.3554,\n",
      "        4.0431, 4.7807, 5.9999, 5.0095, 4.2341, 3.5022, 5.9999, 4.7807, 4.1340,\n",
      "        4.6936, 6.1669, 5.9999, 6.1669, 4.2474, 4.9813, 5.0991, 5.1975, 6.1669,\n",
      "        5.4738, 5.7923, 5.0683, 6.2623, 6.3676, 4.5218, 5.6204, 6.4854, 4.5759,\n",
      "        3.0759, 4.4540, 4.1828], device='cuda:0')\n",
      "Epoch 1/20\n"
     ]
    },
    {
     "name": "stderr",
     "output_type": "stream",
     "text": [
      "100%|██████████| 328/328 [00:28<00:00, 11.45it/s]\n"
     ]
    },
    {
     "name": "stdout",
     "output_type": "stream",
     "text": [
      "{'val_loss': 3.1752577613039716, 'val_accuracy': 0.5358231707317073, 'precision': 0.3460247004574905, 'recall': 0.5358231707317073, 'f1-score': 0.3962106036875806, 'macro_f1-score': 0.051064121006131315, 'balanced_accuracy': 0.05959653741103854, 'mcc': 0.2839481586777272, 'train_loss': 2.3436585581157265}\n",
      "Epoch 2/20\n"
     ]
    },
    {
     "name": "stderr",
     "output_type": "stream",
     "text": [
      "100%|██████████| 328/328 [00:28<00:00, 11.43it/s]\n"
     ]
    },
    {
     "name": "stdout",
     "output_type": "stream",
     "text": [
      "{'val_loss': 2.6621041879421328, 'val_accuracy': 0.5503048780487805, 'precision': 0.46504748232642995, 'recall': 0.5503048780487805, 'f1-score': 0.4839549294944067, 'macro_f1-score': 0.10088815885481865, 'balanced_accuracy': 0.11628417823518855, 'mcc': 0.368445807827713, 'train_loss': 1.8810120284920786}\n",
      "Epoch 3/20\n"
     ]
    },
    {
     "name": "stderr",
     "output_type": "stream",
     "text": [
      "100%|██████████| 328/328 [00:28<00:00, 11.44it/s]\n"
     ]
    },
    {
     "name": "stdout",
     "output_type": "stream",
     "text": [
      "{'val_loss': 2.389060013177918, 'val_accuracy': 0.5907012195121951, 'precision': 0.5170285615804162, 'recall': 0.5907012195121951, 'f1-score': 0.5395268548728647, 'macro_f1-score': 0.18469711034410805, 'balanced_accuracy': 0.2071683047188114, 'mcc': 0.44095512396920106, 'train_loss': 1.6027232336743575}\n",
      "Epoch 4/20\n"
     ]
    },
    {
     "name": "stderr",
     "output_type": "stream",
     "text": [
      "100%|██████████| 328/328 [00:28<00:00, 11.46it/s]\n"
     ]
    },
    {
     "name": "stdout",
     "output_type": "stream",
     "text": [
      "{'val_loss': 2.4817578436397927, 'val_accuracy': 0.5990853658536586, 'precision': 0.5182512691336257, 'recall': 0.5990853658536586, 'f1-score': 0.5326633731741289, 'macro_f1-score': 0.1883027192493277, 'balanced_accuracy': 0.19332355990897174, 'mcc': 0.4346907581920939, 'train_loss': 1.3798652325824994}\n",
      "Epoch 5/20\n"
     ]
    },
    {
     "name": "stderr",
     "output_type": "stream",
     "text": [
      "100%|██████████| 328/328 [00:28<00:00, 11.44it/s]\n"
     ]
    },
    {
     "name": "stdout",
     "output_type": "stream",
     "text": [
      "{'val_loss': 2.2896777413240295, 'val_accuracy': 0.6204268292682927, 'precision': 0.5754442764419846, 'recall': 0.6204268292682927, 'f1-score': 0.5801085930778147, 'macro_f1-score': 0.2529034700034375, 'balanced_accuracy': 0.24326101687417037, 'mcc': 0.4717115742113806, 'train_loss': 1.1792532658068144}\n",
      "Epoch 6/20\n"
     ]
    },
    {
     "name": "stderr",
     "output_type": "stream",
     "text": [
      "100%|██████████| 328/328 [00:28<00:00, 11.46it/s]\n"
     ]
    },
    {
     "name": "stdout",
     "output_type": "stream",
     "text": [
      "{'val_loss': 2.0395986001665998, 'val_accuracy': 0.5998475609756098, 'precision': 0.5892191915565954, 'recall': 0.5998475609756098, 'f1-score': 0.5814301643313695, 'macro_f1-score': 0.26472797738889636, 'balanced_accuracy': 0.283982774777051, 'mcc': 0.4751377800723681, 'train_loss': 1.0196448094779398}\n",
      "Epoch 7/20\n"
     ]
    },
    {
     "name": "stderr",
     "output_type": "stream",
     "text": [
      "100%|██████████| 328/328 [00:28<00:00, 11.45it/s]\n"
     ]
    },
    {
     "name": "stdout",
     "output_type": "stream",
     "text": [
      "{'val_loss': 2.2550169062323686, 'val_accuracy': 0.618140243902439, 'precision': 0.594688844302501, 'recall': 0.618140243902439, 'f1-score': 0.5931728812545143, 'macro_f1-score': 0.30029320551788147, 'balanced_accuracy': 0.3034632618736555, 'mcc': 0.4866122075775865, 'train_loss': 0.899812432687457}\n",
      "Epoch 8/20\n"
     ]
    },
    {
     "name": "stderr",
     "output_type": "stream",
     "text": [
      "100%|██████████| 328/328 [00:28<00:00, 11.46it/s]\n"
     ]
    },
    {
     "name": "stdout",
     "output_type": "stream",
     "text": [
      "{'val_loss': 2.499696629803355, 'val_accuracy': 0.631859756097561, 'precision': 0.5872944375234308, 'recall': 0.631859756097561, 'f1-score': 0.5965345285907772, 'macro_f1-score': 0.29713609609417946, 'balanced_accuracy': 0.28011841017331807, 'mcc': 0.4922023621670846, 'train_loss': 0.7228626040287498}\n",
      "Epoch 9/20\n"
     ]
    },
    {
     "name": "stderr",
     "output_type": "stream",
     "text": [
      "100%|██████████| 328/328 [00:28<00:00, 11.43it/s]\n"
     ]
    },
    {
     "name": "stdout",
     "output_type": "stream",
     "text": [
      "{'val_loss': 2.3375504954559045, 'val_accuracy': 0.618140243902439, 'precision': 0.6139976997375768, 'recall': 0.618140243902439, 'f1-score': 0.6065954476486967, 'macro_f1-score': 0.3361789282455135, 'balanced_accuracy': 0.3453181383992551, 'mcc': 0.49581160720695516, 'train_loss': 0.6113460644080144}\n",
      "Epoch 10/20\n"
     ]
    },
    {
     "name": "stderr",
     "output_type": "stream",
     "text": [
      "100%|██████████| 328/328 [00:28<00:00, 11.45it/s]\n"
     ]
    },
    {
     "name": "stdout",
     "output_type": "stream",
     "text": [
      "{'val_loss': 2.8777583757551706, 'val_accuracy': 0.6303353658536586, 'precision': 0.5999187418424773, 'recall': 0.6303353658536586, 'f1-score': 0.5996843860275537, 'macro_f1-score': 0.33018483354545175, 'balanced_accuracy': 0.3026375598905501, 'mcc': 0.4913860177744058, 'train_loss': 0.525597868509954}\n",
      "Epoch 11/20\n"
     ]
    },
    {
     "name": "stderr",
     "output_type": "stream",
     "text": [
      "100%|██████████| 328/328 [00:28<00:00, 11.44it/s]\n"
     ]
    },
    {
     "name": "stdout",
     "output_type": "stream",
     "text": [
      "{'val_loss': 2.6213137581944466, 'val_accuracy': 0.6067073170731707, 'precision': 0.6161160361367196, 'recall': 0.6067073170731707, 'f1-score': 0.6011472440260691, 'macro_f1-score': 0.3510847464128068, 'balanced_accuracy': 0.3441337557996067, 'mcc': 0.4876192297831294, 'train_loss': 0.48830918211308194}\n",
      "Epoch 12/20\n"
     ]
    },
    {
     "name": "stderr",
     "output_type": "stream",
     "text": [
      "100%|██████████| 328/328 [00:28<00:00, 11.45it/s]\n"
     ]
    },
    {
     "name": "stdout",
     "output_type": "stream",
     "text": [
      "{'val_loss': 2.7463283008191643, 'val_accuracy': 0.6257621951219512, 'precision': 0.610662174654311, 'recall': 0.6257621951219512, 'f1-score': 0.606572526773667, 'macro_f1-score': 0.336603641326624, 'balanced_accuracy': 0.3430460166831586, 'mcc': 0.5006194053495933, 'train_loss': 0.39526418899753835}\n",
      "Epoch 13/20\n"
     ]
    },
    {
     "name": "stderr",
     "output_type": "stream",
     "text": [
      "100%|██████████| 328/328 [00:28<00:00, 11.43it/s]\n"
     ]
    },
    {
     "name": "stdout",
     "output_type": "stream",
     "text": [
      "{'val_loss': 2.662712938901855, 'val_accuracy': 0.6105182926829268, 'precision': 0.6209951499852646, 'recall': 0.6105182926829268, 'f1-score': 0.6109292557180084, 'macro_f1-score': 0.36326929413156006, 'balanced_accuracy': 0.3756356492699265, 'mcc': 0.49121755423739866, 'train_loss': 0.336735440452197}\n",
      "Epoch 14/20\n"
     ]
    },
    {
     "name": "stderr",
     "output_type": "stream",
     "text": [
      "100%|██████████| 328/328 [00:28<00:00, 11.43it/s]\n"
     ]
    },
    {
     "name": "stdout",
     "output_type": "stream",
     "text": [
      "{'val_loss': 2.525594547754381, 'val_accuracy': 0.600609756097561, 'precision': 0.6360325205731024, 'recall': 0.600609756097561, 'f1-score': 0.6060951031806857, 'macro_f1-score': 0.3811934372372807, 'balanced_accuracy': 0.4156837049013735, 'mcc': 0.5008966102519925, 'train_loss': 0.2713601572592402}\n",
      "Epoch 15/20\n"
     ]
    },
    {
     "name": "stderr",
     "output_type": "stream",
     "text": [
      "100%|██████████| 328/328 [00:28<00:00, 11.45it/s]\n"
     ]
    },
    {
     "name": "stdout",
     "output_type": "stream",
     "text": [
      "{'val_loss': 3.249432488549046, 'val_accuracy': 0.6295731707317073, 'precision': 0.608239592543742, 'recall': 0.6295731707317073, 'f1-score': 0.6037865243450857, 'macro_f1-score': 0.35164349773571324, 'balanced_accuracy': 0.3370831955458626, 'mcc': 0.4912779463962236, 'train_loss': 0.24681752310106075}\n",
      "Epoch 16/20\n"
     ]
    },
    {
     "name": "stderr",
     "output_type": "stream",
     "text": [
      "100%|██████████| 328/328 [00:28<00:00, 11.45it/s]\n"
     ]
    },
    {
     "name": "stdout",
     "output_type": "stream",
     "text": [
      "{'val_loss': 2.8815630972385406, 'val_accuracy': 0.6280487804878049, 'precision': 0.6329901813722435, 'recall': 0.6280487804878049, 'f1-score': 0.6259619095323435, 'macro_f1-score': 0.4118431991765488, 'balanced_accuracy': 0.4021254418867213, 'mcc': 0.5112552507754057, 'train_loss': 0.2120805032723072}\n",
      "Epoch 17/20\n"
     ]
    },
    {
     "name": "stderr",
     "output_type": "stream",
     "text": [
      "100%|██████████| 328/328 [00:28<00:00, 11.43it/s]\n"
     ]
    },
    {
     "name": "stdout",
     "output_type": "stream",
     "text": [
      "{'val_loss': 3.104731711854295, 'val_accuracy': 0.6440548780487805, 'precision': 0.6171188666318498, 'recall': 0.6440548780487805, 'f1-score': 0.6199376521710305, 'macro_f1-score': 0.3846133192878812, 'balanced_accuracy': 0.35932088461055495, 'mcc': 0.5139331535470094, 'train_loss': 0.19202561758560832}\n",
      "Epoch 18/20\n"
     ]
    },
    {
     "name": "stderr",
     "output_type": "stream",
     "text": [
      "100%|██████████| 328/328 [00:28<00:00, 11.45it/s]\n"
     ]
    },
    {
     "name": "stdout",
     "output_type": "stream",
     "text": [
      "{'val_loss': 3.3506139229710508, 'val_accuracy': 0.6211890243902439, 'precision': 0.6105570484812299, 'recall': 0.6211890243902439, 'f1-score': 0.6017503698130059, 'macro_f1-score': 0.33899637202392646, 'balanced_accuracy': 0.33323440197898974, 'mcc': 0.48991628795256925, 'train_loss': 0.17926989441805677}\n",
      "Epoch 19/20\n"
     ]
    },
    {
     "name": "stderr",
     "output_type": "stream",
     "text": [
      "100%|██████████| 328/328 [00:28<00:00, 11.46it/s]\n"
     ]
    },
    {
     "name": "stdout",
     "output_type": "stream",
     "text": [
      "{'val_loss': 3.1948219434153744, 'val_accuracy': 0.6051829268292683, 'precision': 0.6113255474744197, 'recall': 0.6051829268292683, 'f1-score': 0.6012351796370664, 'macro_f1-score': 0.3751694434079506, 'balanced_accuracy': 0.3786609651789421, 'mcc': 0.47993679051498783, 'train_loss': 0.18530163587860354}\n",
      "Early stopping.\n",
      "\n",
      "[Fold 2]\n",
      "Label distribution after resampling:\n",
      "  label 0: 2471\n",
      "  label 1: 22\n",
      "  label 2: 64\n",
      "  label 3: 24\n",
      "  label 4: 190\n",
      "  label 5: 113\n",
      "  label 6: 93\n",
      "  label 7: 30\n",
      "  label 8: 68\n",
      "  label 9: 30\n",
      "  label 10: 67\n",
      "  label 11: 169\n",
      "  label 12: 189\n",
      "  label 13: 29\n",
      "  label 14: 23\n",
      "  label 15: 24\n",
      "  label 16: 20\n",
      "  label 17: 182\n",
      "  label 18: 92\n",
      "  label 19: 44\n",
      "  label 20: 13\n",
      "  label 21: 36\n",
      "  label 22: 76\n",
      "  label 23: 157\n",
      "  label 24: 12\n",
      "  label 25: 44\n",
      "  label 26: 84\n",
      "  label 27: 48\n",
      "  label 28: 12\n",
      "  label 29: 12\n",
      "  label 30: 12\n",
      "  label 31: 75\n",
      "  label 32: 36\n",
      "  label 33: 31\n",
      "  label 34: 29\n",
      "  label 35: 12\n",
      "  label 36: 21\n",
      "  label 37: 16\n",
      "  label 38: 33\n",
      "  label 39: 11\n",
      "  label 40: 8\n",
      "  label 41: 57\n",
      "  label 42: 19\n",
      "  label 43: 9\n",
      "  label 44: 54\n",
      "  label 45: 242\n",
      "  label 46: 62\n",
      "  label 47: 80\n",
      "model is roberta-base cnn\n"
     ]
    },
    {
     "name": "stderr",
     "output_type": "stream",
     "text": [
      "Some weights of RobertaModel were not initialized from the model checkpoint at roberta-base and are newly initialized: ['pooler.dense.bias', 'pooler.dense.weight']\n",
      "You should probably TRAIN this model on a down-stream task to be able to use it for predictions and inference.\n"
     ]
    },
    {
     "name": "stdout",
     "output_type": "stream",
     "text": [
      "Using weighted CrossEntropyLoss with weights: tensor([0.7527, 5.4740, 4.4061, 5.3870, 3.3180, 3.8376, 4.0324, 5.1638, 4.3455,\n",
      "        5.1638, 4.3603, 3.4351, 3.3233, 5.1977, 5.4295, 5.3870, 5.5693, 3.3610,\n",
      "        4.0432, 4.7808, 6.0001, 4.9815, 4.2343, 3.5088, 6.0801, 4.7808, 4.1342,\n",
      "        4.6938, 6.0801, 6.0801, 6.0801, 4.2475, 4.9815, 5.1310, 5.1977, 6.0801,\n",
      "        5.5205, 5.7924, 5.0685, 6.1671, 6.4856, 4.5220, 5.6206, 6.3678, 4.5760,\n",
      "        3.0761, 4.4379, 4.1830], device='cuda:0')\n",
      "Epoch 1/20\n"
     ]
    },
    {
     "name": "stderr",
     "output_type": "stream",
     "text": [
      "100%|██████████| 328/328 [00:28<00:00, 11.45it/s]\n"
     ]
    },
    {
     "name": "stdout",
     "output_type": "stream",
     "text": [
      "{'val_loss': 2.9415597901111696, 'val_accuracy': 0.5461479786422578, 'precision': 0.34552635461513875, 'recall': 0.5461479786422578, 'f1-score': 0.4147152262011766, 'macro_f1-score': 0.05394092331254389, 'balanced_accuracy': 0.07065545601419124, 'mcc': 0.3192786656521934, 'train_loss': 2.3747564888582}\n",
      "Epoch 2/20\n"
     ]
    },
    {
     "name": "stderr",
     "output_type": "stream",
     "text": [
      "100%|██████████| 328/328 [00:28<00:00, 11.46it/s]\n"
     ]
    },
    {
     "name": "stdout",
     "output_type": "stream",
     "text": [
      "{'val_loss': 2.51694607589303, 'val_accuracy': 0.5797101449275363, 'precision': 0.4504769276887924, 'recall': 0.5797101449275363, 'f1-score': 0.49208304818832727, 'macro_f1-score': 0.10087860679273342, 'balanced_accuracy': 0.11657128406310206, 'mcc': 0.4047189952671859, 'train_loss': 1.9724778694713987}\n",
      "Epoch 3/20\n"
     ]
    },
    {
     "name": "stderr",
     "output_type": "stream",
     "text": [
      "100%|██████████| 328/328 [00:28<00:00, 11.44it/s]\n"
     ]
    },
    {
     "name": "stdout",
     "output_type": "stream",
     "text": [
      "{'val_loss': 2.407463003949421, 'val_accuracy': 0.5850495804729214, 'precision': 0.4690147913649308, 'recall': 0.5850495804729214, 'f1-score': 0.5115191941557683, 'macro_f1-score': 0.14761908925933961, 'balanced_accuracy': 0.1580235863283024, 'mcc': 0.41362153591747447, 'train_loss': 1.6707577034831047}\n",
      "Epoch 4/20\n"
     ]
    },
    {
     "name": "stderr",
     "output_type": "stream",
     "text": [
      "100%|██████████| 328/328 [00:28<00:00, 11.46it/s]\n"
     ]
    },
    {
     "name": "stdout",
     "output_type": "stream",
     "text": [
      "{'val_loss': 2.358028901786339, 'val_accuracy': 0.5980167810831426, 'precision': 0.498294753096492, 'recall': 0.5980167810831426, 'f1-score': 0.526158787244678, 'macro_f1-score': 0.16616216017354432, 'balanced_accuracy': 0.16491468881143315, 'mcc': 0.4301158713562268, 'train_loss': 1.464141157887331}\n",
      "Epoch 5/20\n"
     ]
    },
    {
     "name": "stderr",
     "output_type": "stream",
     "text": [
      "100%|██████████| 328/328 [00:28<00:00, 11.44it/s]\n"
     ]
    },
    {
     "name": "stdout",
     "output_type": "stream",
     "text": [
      "{'val_loss': 2.241975022525322, 'val_accuracy': 0.6147978642257819, 'precision': 0.5665603361778552, 'recall': 0.6147978642257819, 'f1-score': 0.577559304423033, 'macro_f1-score': 0.222790375723278, 'balanced_accuracy': 0.2416380710770595, 'mcc': 0.48026539291120757, 'train_loss': 1.2467755276891517}\n",
      "Epoch 6/20\n"
     ]
    },
    {
     "name": "stderr",
     "output_type": "stream",
     "text": [
      "100%|██████████| 328/328 [00:28<00:00, 11.43it/s]\n"
     ]
    },
    {
     "name": "stdout",
     "output_type": "stream",
     "text": [
      "{'val_loss': 2.2809733355917583, 'val_accuracy': 0.6224256292906178, 'precision': 0.5706013525647391, 'recall': 0.6224256292906178, 'f1-score': 0.5857515181906342, 'macro_f1-score': 0.236351838403657, 'balanced_accuracy': 0.2436432765469491, 'mcc': 0.4902308784521227, 'train_loss': 1.064505237813403}\n",
      "Epoch 7/20\n"
     ]
    },
    {
     "name": "stderr",
     "output_type": "stream",
     "text": [
      "100%|██████████| 328/328 [00:28<00:00, 11.44it/s]\n"
     ]
    },
    {
     "name": "stdout",
     "output_type": "stream",
     "text": [
      "{'val_loss': 2.1843757040616945, 'val_accuracy': 0.6254767353165522, 'precision': 0.5939404378890238, 'recall': 0.6254767353165522, 'f1-score': 0.6007033684637421, 'macro_f1-score': 0.27238919518704785, 'balanced_accuracy': 0.28330186066612956, 'mcc': 0.5030953299649992, 'train_loss': 0.916581749961507}\n",
      "Epoch 8/20\n"
     ]
    },
    {
     "name": "stderr",
     "output_type": "stream",
     "text": [
      "100%|██████████| 328/328 [00:28<00:00, 11.47it/s]\n"
     ]
    },
    {
     "name": "stdout",
     "output_type": "stream",
     "text": [
      "{'val_loss': 2.1861873501684608, 'val_accuracy': 0.5911517925247902, 'precision': 0.5859807325870822, 'recall': 0.5911517925247902, 'f1-score': 0.584041990721495, 'macro_f1-score': 0.2595720077661658, 'balanced_accuracy': 0.28978272904299013, 'mcc': 0.47749972385810113, 'train_loss': 0.7771940271074815}\n",
      "Epoch 9/20\n"
     ]
    },
    {
     "name": "stderr",
     "output_type": "stream",
     "text": [
      "100%|██████████| 328/328 [00:28<00:00, 11.43it/s]\n"
     ]
    },
    {
     "name": "stdout",
     "output_type": "stream",
     "text": [
      "{'val_loss': 2.4699689989409794, 'val_accuracy': 0.6384439359267735, 'precision': 0.6002940009330056, 'recall': 0.6384439359267735, 'f1-score': 0.6048950688461664, 'macro_f1-score': 0.2799431449234593, 'balanced_accuracy': 0.28205432456785395, 'mcc': 0.5085656050819471, 'train_loss': 0.6358546315260777}\n",
      "Epoch 10/20\n"
     ]
    },
    {
     "name": "stderr",
     "output_type": "stream",
     "text": [
      "100%|██████████| 328/328 [00:28<00:00, 11.45it/s]\n"
     ]
    },
    {
     "name": "stdout",
     "output_type": "stream",
     "text": [
      "{'val_loss': 2.519305607167686, 'val_accuracy': 0.6414950419527079, 'precision': 0.6034537984012215, 'recall': 0.6414950419527079, 'f1-score': 0.612633720955798, 'macro_f1-score': 0.28685535195908657, 'balanced_accuracy': 0.28490542179719014, 'mcc': 0.5104835538000623, 'train_loss': 0.5584407789837115}\n",
      "Epoch 11/20\n"
     ]
    },
    {
     "name": "stderr",
     "output_type": "stream",
     "text": [
      "100%|██████████| 328/328 [00:28<00:00, 11.45it/s]\n"
     ]
    },
    {
     "name": "stdout",
     "output_type": "stream",
     "text": [
      "{'val_loss': 2.615859615366633, 'val_accuracy': 0.6361556064073226, 'precision': 0.6051371871922214, 'recall': 0.6361556064073226, 'f1-score': 0.6150267276509388, 'macro_f1-score': 0.3121309601060486, 'balanced_accuracy': 0.31986279824821456, 'mcc': 0.5119512014690645, 'train_loss': 0.48001135781793514}\n",
      "Epoch 12/20\n"
     ]
    },
    {
     "name": "stderr",
     "output_type": "stream",
     "text": [
      "100%|██████████| 328/328 [00:28<00:00, 11.46it/s]\n"
     ]
    },
    {
     "name": "stdout",
     "output_type": "stream",
     "text": [
      "{'val_loss': 2.7656575935642893, 'val_accuracy': 0.6308161708619374, 'precision': 0.6106647047549356, 'recall': 0.6308161708619374, 'f1-score': 0.6099925856623336, 'macro_f1-score': 0.3184223018407343, 'balanced_accuracy': 0.3160185060012222, 'mcc': 0.5017934151660829, 'train_loss': 0.4117139699477021}\n",
      "Epoch 13/20\n"
     ]
    },
    {
     "name": "stderr",
     "output_type": "stream",
     "text": [
      "100%|██████████| 328/328 [00:28<00:00, 11.44it/s]\n"
     ]
    },
    {
     "name": "stdout",
     "output_type": "stream",
     "text": [
      "{'val_loss': 2.6943001936121687, 'val_accuracy': 0.6369183829138062, 'precision': 0.6198059857306732, 'recall': 0.6369183829138062, 'f1-score': 0.6180642543032953, 'macro_f1-score': 0.30500110817379983, 'balanced_accuracy': 0.3129961570972631, 'mcc': 0.5154859973918822, 'train_loss': 0.36438533124264055}\n",
      "Epoch 14/20\n"
     ]
    },
    {
     "name": "stderr",
     "output_type": "stream",
     "text": [
      "100%|██████████| 328/328 [00:28<00:00, 11.45it/s]\n"
     ]
    },
    {
     "name": "stdout",
     "output_type": "stream",
     "text": [
      "{'val_loss': 2.723425312013161, 'val_accuracy': 0.6407322654462243, 'precision': 0.6383452369103259, 'recall': 0.6407322654462243, 'f1-score': 0.6311391158567797, 'macro_f1-score': 0.340426814973022, 'balanced_accuracy': 0.3527546358283638, 'mcc': 0.5308913337097764, 'train_loss': 0.29802279913139235}\n",
      "Epoch 15/20\n"
     ]
    },
    {
     "name": "stderr",
     "output_type": "stream",
     "text": [
      "100%|██████████| 328/328 [00:28<00:00, 11.45it/s]\n"
     ]
    },
    {
     "name": "stdout",
     "output_type": "stream",
     "text": [
      "{'val_loss': 2.9128510501326583, 'val_accuracy': 0.6331045003813882, 'precision': 0.6274313177313621, 'recall': 0.6331045003813882, 'f1-score': 0.6212370100896807, 'macro_f1-score': 0.3298928416941513, 'balanced_accuracy': 0.3346979025177275, 'mcc': 0.5128866424885032, 'train_loss': 0.26496646265859897}\n",
      "Epoch 16/20\n"
     ]
    },
    {
     "name": "stderr",
     "output_type": "stream",
     "text": [
      "100%|██████████| 328/328 [00:28<00:00, 11.45it/s]\n"
     ]
    },
    {
     "name": "stdout",
     "output_type": "stream",
     "text": [
      "{'val_loss': 2.6961547637858043, 'val_accuracy': 0.589626239511823, 'precision': 0.6408935988330192, 'recall': 0.589626239511823, 'f1-score': 0.6044507638470012, 'macro_f1-score': 0.3566212788861542, 'balanced_accuracy': 0.38171808741639524, 'mcc': 0.4839621735485953, 'train_loss': 0.24428911381770244}\n",
      "Epoch 17/20\n"
     ]
    },
    {
     "name": "stderr",
     "output_type": "stream",
     "text": [
      "100%|██████████| 328/328 [00:28<00:00, 11.44it/s]\n"
     ]
    },
    {
     "name": "stdout",
     "output_type": "stream",
     "text": [
      "{'val_loss': 2.756832843146673, 'val_accuracy': 0.6140350877192983, 'precision': 0.6344244896874622, 'recall': 0.6140350877192983, 'f1-score': 0.6151151123173122, 'macro_f1-score': 0.3397058090933456, 'balanced_accuracy': 0.37160804613699505, 'mcc': 0.5015826415737177, 'train_loss': 0.2340819772209393}\n",
      "Epoch 18/20\n"
     ]
    },
    {
     "name": "stderr",
     "output_type": "stream",
     "text": [
      "100%|██████████| 328/328 [00:28<00:00, 11.44it/s]\n"
     ]
    },
    {
     "name": "stdout",
     "output_type": "stream",
     "text": [
      "{'val_loss': 2.7374173875262096, 'val_accuracy': 0.6323417238749046, 'precision': 0.6239573946791476, 'recall': 0.6323417238749046, 'f1-score': 0.6180311653669599, 'macro_f1-score': 0.34737738074655694, 'balanced_accuracy': 0.3638016604986484, 'mcc': 0.5149181651135066, 'train_loss': 0.23978970385378046}\n",
      "Epoch 19/20\n"
     ]
    },
    {
     "name": "stderr",
     "output_type": "stream",
     "text": [
      "100%|██████████| 328/328 [00:28<00:00, 11.46it/s]\n"
     ]
    },
    {
     "name": "stdout",
     "output_type": "stream",
     "text": [
      "{'val_loss': 2.8562011042746103, 'val_accuracy': 0.6338672768878718, 'precision': 0.6301204819874221, 'recall': 0.6338672768878718, 'f1-score': 0.62621727705284, 'macro_f1-score': 0.3538626586151923, 'balanced_accuracy': 0.35852400742954965, 'mcc': 0.5240359670101802, 'train_loss': 0.19454642766575533}\n",
      "Early stopping.\n",
      "\n",
      "[Fold 3]\n",
      "Label distribution after resampling:\n",
      "  label 0: 2471\n",
      "  label 1: 22\n",
      "  label 2: 64\n",
      "  label 3: 24\n",
      "  label 4: 190\n",
      "  label 5: 113\n",
      "  label 6: 93\n",
      "  label 7: 30\n",
      "  label 8: 68\n",
      "  label 9: 30\n",
      "  label 10: 67\n",
      "  label 11: 169\n",
      "  label 12: 190\n",
      "  label 13: 28\n",
      "  label 14: 23\n",
      "  label 15: 25\n",
      "  label 16: 19\n",
      "  label 17: 182\n",
      "  label 18: 92\n",
      "  label 19: 44\n",
      "  label 20: 14\n",
      "  label 21: 35\n",
      "  label 22: 76\n",
      "  label 23: 157\n",
      "  label 24: 13\n",
      "  label 25: 44\n",
      "  label 26: 84\n",
      "  label 27: 48\n",
      "  label 28: 11\n",
      "  label 29: 13\n",
      "  label 30: 11\n",
      "  label 31: 76\n",
      "  label 32: 36\n",
      "  label 33: 31\n",
      "  label 34: 30\n",
      "  label 35: 11\n",
      "  label 36: 21\n",
      "  label 37: 16\n",
      "  label 38: 32\n",
      "  label 39: 11\n",
      "  label 40: 9\n",
      "  label 41: 57\n",
      "  label 42: 18\n",
      "  label 43: 9\n",
      "  label 44: 55\n",
      "  label 45: 241\n",
      "  label 46: 62\n",
      "  label 47: 80\n",
      "model is roberta-base cnn\n"
     ]
    },
    {
     "name": "stderr",
     "output_type": "stream",
     "text": [
      "Some weights of RobertaModel were not initialized from the model checkpoint at roberta-base and are newly initialized: ['pooler.dense.bias', 'pooler.dense.weight']\n",
      "You should probably TRAIN this model on a down-stream task to be able to use it for predictions and inference.\n"
     ]
    },
    {
     "name": "stdout",
     "output_type": "stream",
     "text": [
      "Using weighted CrossEntropyLoss with weights: tensor([0.7527, 5.4740, 4.4061, 5.3870, 3.3180, 3.8376, 4.0324, 5.1638, 4.3455,\n",
      "        5.1638, 4.3603, 3.4351, 3.3180, 5.2328, 5.4295, 5.3462, 5.6206, 3.3610,\n",
      "        4.0432, 4.7808, 5.9260, 5.0097, 4.2343, 3.5088, 6.0001, 4.7808, 4.1342,\n",
      "        4.6938, 6.1671, 6.0001, 6.1671, 4.2343, 4.9815, 5.1310, 5.1638, 6.1671,\n",
      "        5.5205, 5.7924, 5.0993, 6.1671, 6.3678, 4.5220, 5.6747, 6.3678, 4.5577,\n",
      "        3.0802, 4.4379, 4.1830], device='cuda:0')\n",
      "Epoch 1/20\n"
     ]
    },
    {
     "name": "stderr",
     "output_type": "stream",
     "text": [
      "100%|██████████| 328/328 [00:28<00:00, 11.46it/s]\n"
     ]
    },
    {
     "name": "stdout",
     "output_type": "stream",
     "text": [
      "{'val_loss': 3.096770450836275, 'val_accuracy': 0.5446224256292906, 'precision': 0.33622551005686735, 'recall': 0.5446224256292906, 'f1-score': 0.41360599765908973, 'macro_f1-score': 0.0517318345936307, 'balanced_accuracy': 0.06873036454476884, 'mcc': 0.3151326791615872, 'train_loss': 2.35084880634052}\n",
      "Epoch 2/20\n"
     ]
    },
    {
     "name": "stderr",
     "output_type": "stream",
     "text": [
      "100%|██████████| 328/328 [00:28<00:00, 11.45it/s]\n"
     ]
    },
    {
     "name": "stdout",
     "output_type": "stream",
     "text": [
      "{'val_loss': 2.778586447238922, 'val_accuracy': 0.5598779557589626, 'precision': 0.39581304755281366, 'recall': 0.5598779557589626, 'f1-score': 0.4594405316546299, 'macro_f1-score': 0.07826349904942594, 'balanced_accuracy': 0.10080214747729958, 'mcc': 0.3633156265471285, 'train_loss': 1.9847437461338393}\n",
      "Epoch 3/20\n"
     ]
    },
    {
     "name": "stderr",
     "output_type": "stream",
     "text": [
      "100%|██████████| 328/328 [00:28<00:00, 11.45it/s]\n"
     ]
    },
    {
     "name": "stdout",
     "output_type": "stream",
     "text": [
      "{'val_loss': 2.5044120506542487, 'val_accuracy': 0.5415713196033562, 'precision': 0.47125403385091846, 'recall': 0.5415713196033562, 'f1-score': 0.4938608631905518, 'macro_f1-score': 0.10249235610509523, 'balanced_accuracy': 0.12834539552035346, 'mcc': 0.382334111244924, 'train_loss': 1.7589739433875897}\n",
      "Epoch 4/20\n"
     ]
    },
    {
     "name": "stderr",
     "output_type": "stream",
     "text": [
      "100%|██████████| 328/328 [00:28<00:00, 11.46it/s]\n"
     ]
    },
    {
     "name": "stdout",
     "output_type": "stream",
     "text": [
      "{'val_loss': 2.4284716757332405, 'val_accuracy': 0.5926773455377574, 'precision': 0.5231538208126363, 'recall': 0.5926773455377574, 'f1-score': 0.5362937304194825, 'macro_f1-score': 0.16429313119317315, 'balanced_accuracy': 0.1793611371506125, 'mcc': 0.43515321025974973, 'train_loss': 1.5236311414983215}\n",
      "Epoch 5/20\n"
     ]
    },
    {
     "name": "stderr",
     "output_type": "stream",
     "text": [
      "100%|██████████| 328/328 [00:28<00:00, 11.43it/s]\n"
     ]
    },
    {
     "name": "stdout",
     "output_type": "stream",
     "text": [
      "{'val_loss': 2.2591622362776502, 'val_accuracy': 0.6025934401220442, 'precision': 0.5509338815084298, 'recall': 0.6025934401220442, 'f1-score': 0.5652079539836833, 'macro_f1-score': 0.2046959426117799, 'balanced_accuracy': 0.21913897961748177, 'mcc': 0.463196204376489, 'train_loss': 1.3466185491259506}\n",
      "Epoch 6/20\n"
     ]
    },
    {
     "name": "stderr",
     "output_type": "stream",
     "text": [
      "100%|██████████| 328/328 [00:28<00:00, 11.45it/s]\n"
     ]
    },
    {
     "name": "stdout",
     "output_type": "stream",
     "text": [
      "{'val_loss': 2.361175304869326, 'val_accuracy': 0.6170861937452327, 'precision': 0.5722523594261328, 'recall': 0.6170861937452327, 'f1-score': 0.5810991084375189, 'macro_f1-score': 0.239296246278314, 'balanced_accuracy': 0.2377675899393442, 'mcc': 0.47770037736143844, 'train_loss': 1.1420050136654116}\n",
      "Epoch 7/20\n"
     ]
    },
    {
     "name": "stderr",
     "output_type": "stream",
     "text": [
      "100%|██████████| 328/328 [00:28<00:00, 11.44it/s]\n"
     ]
    },
    {
     "name": "stdout",
     "output_type": "stream",
     "text": [
      "{'val_loss': 2.308047487241466, 'val_accuracy': 0.6018306636155606, 'precision': 0.5612077360900215, 'recall': 0.6018306636155606, 'f1-score': 0.5667006299265978, 'macro_f1-score': 0.23659722513562076, 'balanced_accuracy': 0.23830692037838974, 'mcc': 0.464536659323062, 'train_loss': 0.9633776739966579}\n",
      "Epoch 8/20\n"
     ]
    },
    {
     "name": "stderr",
     "output_type": "stream",
     "text": [
      "100%|██████████| 328/328 [00:28<00:00, 11.47it/s]\n"
     ]
    },
    {
     "name": "stdout",
     "output_type": "stream",
     "text": [
      "{'val_loss': 2.455555267813729, 'val_accuracy': 0.6018306636155606, 'precision': 0.5635745974691146, 'recall': 0.6018306636155606, 'f1-score': 0.5690719483774784, 'macro_f1-score': 0.24125347534990102, 'balanced_accuracy': 0.24118861029129812, 'mcc': 0.4570818265053222, 'train_loss': 0.8439096933367048}\n",
      "Epoch 9/20\n"
     ]
    },
    {
     "name": "stderr",
     "output_type": "stream",
     "text": [
      "100%|██████████| 328/328 [00:28<00:00, 11.43it/s]\n"
     ]
    },
    {
     "name": "stdout",
     "output_type": "stream",
     "text": [
      "{'val_loss': 2.2895537985534204, 'val_accuracy': 0.6003051106025934, 'precision': 0.6068091558280609, 'recall': 0.6003051106025934, 'f1-score': 0.5955592270528365, 'macro_f1-score': 0.30537870297705366, 'balanced_accuracy': 0.30893722234181914, 'mcc': 0.4803896306682506, 'train_loss': 0.6826338704402853}\n",
      "Epoch 10/20\n"
     ]
    },
    {
     "name": "stderr",
     "output_type": "stream",
     "text": [
      "100%|██████████| 328/328 [00:28<00:00, 11.43it/s]\n"
     ]
    },
    {
     "name": "stdout",
     "output_type": "stream",
     "text": [
      "{'val_loss': 2.5852712265601974, 'val_accuracy': 0.6155606407322655, 'precision': 0.6009256826463971, 'recall': 0.6155606407322655, 'f1-score': 0.5931115197990261, 'macro_f1-score': 0.28653153111557944, 'balanced_accuracy': 0.2782869600791443, 'mcc': 0.4880869209055886, 'train_loss': 0.5603233252583844}\n",
      "Epoch 11/20\n"
     ]
    },
    {
     "name": "stderr",
     "output_type": "stream",
     "text": [
      "100%|██████████| 328/328 [00:28<00:00, 11.45it/s]\n"
     ]
    },
    {
     "name": "stdout",
     "output_type": "stream",
     "text": [
      "{'val_loss': 2.6197548568612192, 'val_accuracy': 0.6140350877192983, 'precision': 0.6230404138810465, 'recall': 0.6140350877192983, 'f1-score': 0.6056582346038368, 'macro_f1-score': 0.32808091754946656, 'balanced_accuracy': 0.316948937272589, 'mcc': 0.4890212687728542, 'train_loss': 0.4998763179542815}\n",
      "Epoch 12/20\n"
     ]
    },
    {
     "name": "stderr",
     "output_type": "stream",
     "text": [
      "100%|██████████| 328/328 [00:28<00:00, 11.46it/s]\n"
     ]
    },
    {
     "name": "stdout",
     "output_type": "stream",
     "text": [
      "{'val_loss': 2.54762081765547, 'val_accuracy': 0.597254004576659, 'precision': 0.6002365075457956, 'recall': 0.597254004576659, 'f1-score': 0.5917919042581345, 'macro_f1-score': 0.3214264838978607, 'balanced_accuracy': 0.30888425510381556, 'mcc': 0.4706057336087672, 'train_loss': 0.42077087627996396}\n",
      "Epoch 13/20\n"
     ]
    },
    {
     "name": "stderr",
     "output_type": "stream",
     "text": [
      "100%|██████████| 328/328 [00:28<00:00, 11.44it/s]\n"
     ]
    },
    {
     "name": "stdout",
     "output_type": "stream",
     "text": [
      "{'val_loss': 2.6093405436088397, 'val_accuracy': 0.5942028985507246, 'precision': 0.5912478209400789, 'recall': 0.5942028985507246, 'f1-score': 0.5832621760224153, 'macro_f1-score': 0.30272300075308883, 'balanced_accuracy': 0.3152890092539938, 'mcc': 0.46556668020624653, 'train_loss': 0.4217538111616017}\n",
      "Epoch 14/20\n"
     ]
    },
    {
     "name": "stderr",
     "output_type": "stream",
     "text": [
      "100%|██████████| 328/328 [00:28<00:00, 11.45it/s]\n"
     ]
    },
    {
     "name": "stdout",
     "output_type": "stream",
     "text": [
      "{'val_loss': 2.967730802733724, 'val_accuracy': 0.6224256292906178, 'precision': 0.5935216911905135, 'recall': 0.6224256292906178, 'f1-score': 0.602038941308369, 'macro_f1-score': 0.3143908929819232, 'balanced_accuracy': 0.3084517288847055, 'mcc': 0.4924189844315183, 'train_loss': 0.3251800224108326}\n",
      "Early stopping.\n",
      "\n",
      "[Fold 4]\n",
      "Label distribution after resampling:\n",
      "  label 0: 2471\n",
      "  label 1: 22\n",
      "  label 2: 64\n",
      "  label 3: 24\n",
      "  label 4: 190\n",
      "  label 5: 113\n",
      "  label 6: 93\n",
      "  label 7: 31\n",
      "  label 8: 68\n",
      "  label 9: 29\n",
      "  label 10: 67\n",
      "  label 11: 169\n",
      "  label 12: 190\n",
      "  label 13: 29\n",
      "  label 14: 22\n",
      "  label 15: 25\n",
      "  label 16: 19\n",
      "  label 17: 182\n",
      "  label 18: 92\n",
      "  label 19: 44\n",
      "  label 20: 14\n",
      "  label 21: 35\n",
      "  label 22: 76\n",
      "  label 23: 158\n",
      "  label 24: 13\n",
      "  label 25: 44\n",
      "  label 26: 84\n",
      "  label 27: 48\n",
      "  label 28: 11\n",
      "  label 29: 13\n",
      "  label 30: 11\n",
      "  label 31: 75\n",
      "  label 32: 36\n",
      "  label 33: 31\n",
      "  label 34: 30\n",
      "  label 35: 11\n",
      "  label 36: 22\n",
      "  label 37: 16\n",
      "  label 38: 33\n",
      "  label 39: 10\n",
      "  label 40: 9\n",
      "  label 41: 56\n",
      "  label 42: 18\n",
      "  label 43: 9\n",
      "  label 44: 55\n",
      "  label 45: 241\n",
      "  label 46: 62\n",
      "  label 47: 80\n",
      "model is roberta-base cnn\n"
     ]
    },
    {
     "name": "stderr",
     "output_type": "stream",
     "text": [
      "Some weights of RobertaModel were not initialized from the model checkpoint at roberta-base and are newly initialized: ['pooler.dense.bias', 'pooler.dense.weight']\n",
      "You should probably TRAIN this model on a down-stream task to be able to use it for predictions and inference.\n"
     ]
    },
    {
     "name": "stdout",
     "output_type": "stream",
     "text": [
      "Using weighted CrossEntropyLoss with weights: tensor([0.7527, 5.4740, 4.4061, 5.3870, 3.3180, 3.8376, 4.0324, 5.1310, 4.3455,\n",
      "        5.1977, 4.3603, 3.4351, 3.3180, 5.1977, 5.4740, 5.3462, 5.6206, 3.3610,\n",
      "        4.0432, 4.7808, 5.9260, 5.0097, 4.2343, 3.5024, 6.0001, 4.7808, 4.1342,\n",
      "        4.6938, 6.1671, 6.0001, 6.1671, 4.2475, 4.9815, 5.1310, 5.1638, 6.1671,\n",
      "        5.4740, 5.7924, 5.0685, 6.2624, 6.3678, 4.5397, 5.6747, 6.3678, 4.5577,\n",
      "        3.0802, 4.4379, 4.1830], device='cuda:0')\n",
      "Epoch 1/20\n"
     ]
    },
    {
     "name": "stderr",
     "output_type": "stream",
     "text": [
      "100%|██████████| 328/328 [00:28<00:00, 11.46it/s]\n"
     ]
    },
    {
     "name": "stdout",
     "output_type": "stream",
     "text": [
      "{'val_loss': 2.9928380003789576, 'val_accuracy': 0.5446224256292906, 'precision': 0.34032169877839724, 'recall': 0.5446224256292906, 'f1-score': 0.41680338567152997, 'macro_f1-score': 0.05425884050432787, 'balanced_accuracy': 0.06563571481981624, 'mcc': 0.310985634664823, 'train_loss': 2.3894342600208955}\n",
      "Epoch 2/20\n"
     ]
    },
    {
     "name": "stderr",
     "output_type": "stream",
     "text": [
      "100%|██████████| 328/328 [00:28<00:00, 11.45it/s]\n"
     ]
    },
    {
     "name": "stdout",
     "output_type": "stream",
     "text": [
      "{'val_loss': 2.654728392275368, 'val_accuracy': 0.566742944317315, 'precision': 0.4092395832616504, 'recall': 0.566742944317315, 'f1-score': 0.4619080361937192, 'macro_f1-score': 0.10034732630968064, 'balanced_accuracy': 0.10266169663248763, 'mcc': 0.3607835518090289, 'train_loss': 1.9698575088163701}\n",
      "Epoch 3/20\n"
     ]
    },
    {
     "name": "stderr",
     "output_type": "stream",
     "text": [
      "100%|██████████| 328/328 [00:28<00:00, 11.44it/s]\n"
     ]
    },
    {
     "name": "stdout",
     "output_type": "stream",
     "text": [
      "{'val_loss': 2.3979263043985135, 'val_accuracy': 0.5980167810831426, 'precision': 0.5034211431505278, 'recall': 0.5980167810831426, 'f1-score': 0.5296490539410231, 'macro_f1-score': 0.15964270045454762, 'balanced_accuracy': 0.17553099515146608, 'mcc': 0.4466756801636054, 'train_loss': 1.664981117880926}\n",
      "Epoch 4/20\n"
     ]
    },
    {
     "name": "stderr",
     "output_type": "stream",
     "text": [
      "100%|██████████| 328/328 [00:28<00:00, 11.45it/s]\n"
     ]
    },
    {
     "name": "stdout",
     "output_type": "stream",
     "text": [
      "{'val_loss': 2.217070998215094, 'val_accuracy': 0.5804729214340199, 'precision': 0.5556265850062764, 'recall': 0.5804729214340199, 'f1-score': 0.552626603775689, 'macro_f1-score': 0.2076344523288802, 'balanced_accuracy': 0.22643531402909364, 'mcc': 0.4518580960024004, 'train_loss': 1.411832308987292}\n",
      "Epoch 5/20\n"
     ]
    },
    {
     "name": "stderr",
     "output_type": "stream",
     "text": [
      "100%|██████████| 328/328 [00:28<00:00, 11.45it/s]\n"
     ]
    },
    {
     "name": "stdout",
     "output_type": "stream",
     "text": [
      "{'val_loss': 2.343791278578886, 'val_accuracy': 0.6193745232646835, 'precision': 0.5457295248590719, 'recall': 0.6193745232646835, 'f1-score': 0.5641079394830391, 'macro_f1-score': 0.21042144252327113, 'balanced_accuracy': 0.1999717398952062, 'mcc': 0.4702439187744842, 'train_loss': 1.2231300989756497}\n",
      "Epoch 6/20\n"
     ]
    },
    {
     "name": "stderr",
     "output_type": "stream",
     "text": [
      "100%|██████████| 328/328 [00:28<00:00, 11.44it/s]\n"
     ]
    },
    {
     "name": "stdout",
     "output_type": "stream",
     "text": [
      "{'val_loss': 2.3986743027117194, 'val_accuracy': 0.6346300533943554, 'precision': 0.5776377148975456, 'recall': 0.6346300533943554, 'f1-score': 0.5830901610380665, 'macro_f1-score': 0.24417681558025528, 'balanced_accuracy': 0.2338904708352905, 'mcc': 0.4913291849630358, 'train_loss': 1.064755261625822}\n",
      "Epoch 7/20\n"
     ]
    },
    {
     "name": "stderr",
     "output_type": "stream",
     "text": [
      "100%|██████████| 328/328 [00:28<00:00, 11.44it/s]\n"
     ]
    },
    {
     "name": "stdout",
     "output_type": "stream",
     "text": [
      "{'val_loss': 2.131393013204016, 'val_accuracy': 0.6323417238749046, 'precision': 0.6217490326474759, 'recall': 0.6323417238749046, 'f1-score': 0.6135843862223412, 'macro_f1-score': 0.30011419496380287, 'balanced_accuracy': 0.30477979833773716, 'mcc': 0.5137302035712499, 'train_loss': 1.1112824334967426}\n",
      "Epoch 8/20\n"
     ]
    },
    {
     "name": "stderr",
     "output_type": "stream",
     "text": [
      "100%|██████████| 328/328 [00:28<00:00, 11.44it/s]\n"
     ]
    },
    {
     "name": "stdout",
     "output_type": "stream",
     "text": [
      "{'val_loss': 2.2384003389899325, 'val_accuracy': 0.6422578184591915, 'precision': 0.6215147795178072, 'recall': 0.6422578184591915, 'f1-score': 0.6183557673147638, 'macro_f1-score': 0.30049816711607763, 'balanced_accuracy': 0.2909126667371267, 'mcc': 0.5204182279818897, 'train_loss': 0.8365859574661022}\n",
      "Epoch 9/20\n"
     ]
    },
    {
     "name": "stderr",
     "output_type": "stream",
     "text": [
      "100%|██████████| 328/328 [00:28<00:00, 11.46it/s]\n"
     ]
    },
    {
     "name": "stdout",
     "output_type": "stream",
     "text": [
      "{'val_loss': 2.135625744374787, 'val_accuracy': 0.6025934401220442, 'precision': 0.6218636430786743, 'recall': 0.6025934401220442, 'f1-score': 0.5991664523721337, 'macro_f1-score': 0.3010544296282491, 'balanced_accuracy': 0.3320654871997096, 'mcc': 0.49505961686776, 'train_loss': 0.6877973385200631}\n",
      "Epoch 10/20\n"
     ]
    },
    {
     "name": "stderr",
     "output_type": "stream",
     "text": [
      "100%|██████████| 328/328 [00:28<00:00, 11.44it/s]\n"
     ]
    },
    {
     "name": "stdout",
     "output_type": "stream",
     "text": [
      "{'val_loss': 2.394988854665582, 'val_accuracy': 0.658276125095347, 'precision': 0.6332427820450324, 'recall': 0.658276125095347, 'f1-score': 0.6354398226611889, 'macro_f1-score': 0.3478999626625159, 'balanced_accuracy': 0.348009613097038, 'mcc': 0.539222707742995, 'train_loss': 0.5643277413143617}\n",
      "Epoch 11/20\n"
     ]
    },
    {
     "name": "stderr",
     "output_type": "stream",
     "text": [
      "100%|██████████| 328/328 [00:28<00:00, 11.46it/s]\n"
     ]
    },
    {
     "name": "stdout",
     "output_type": "stream",
     "text": [
      "{'val_loss': 2.6796933664236127, 'val_accuracy': 0.6430205949656751, 'precision': 0.6244091223495543, 'recall': 0.6430205949656751, 'f1-score': 0.6226538769250216, 'macro_f1-score': 0.33874532924039663, 'balanced_accuracy': 0.3386876979680851, 'mcc': 0.522444967242929, 'train_loss': 0.4976100731504763}\n",
      "Epoch 12/20\n"
     ]
    },
    {
     "name": "stderr",
     "output_type": "stream",
     "text": [
      "100%|██████████| 328/328 [00:28<00:00, 11.45it/s]\n"
     ]
    },
    {
     "name": "stdout",
     "output_type": "stream",
     "text": [
      "{'val_loss': 2.5119898146154678, 'val_accuracy': 0.6567505720823799, 'precision': 0.6367829615379451, 'recall': 0.6567505720823799, 'f1-score': 0.6332011860658545, 'macro_f1-score': 0.3707023901949073, 'balanced_accuracy': 0.35769926494081367, 'mcc': 0.5354388253234331, 'train_loss': 0.46033967595274855}\n",
      "Epoch 13/20\n"
     ]
    },
    {
     "name": "stderr",
     "output_type": "stream",
     "text": [
      "100%|██████████| 328/328 [00:28<00:00, 11.46it/s]\n"
     ]
    },
    {
     "name": "stdout",
     "output_type": "stream",
     "text": [
      "{'val_loss': 2.545769594836889, 'val_accuracy': 0.6414950419527079, 'precision': 0.6404851324937343, 'recall': 0.6414950419527079, 'f1-score': 0.6318254112260361, 'macro_f1-score': 0.3653986706767857, 'balanced_accuracy': 0.37081841987695247, 'mcc': 0.5290357180370826, 'train_loss': 0.3931756131776904}\n",
      "Epoch 14/20\n"
     ]
    },
    {
     "name": "stderr",
     "output_type": "stream",
     "text": [
      "100%|██████████| 328/328 [00:28<00:00, 11.42it/s]\n"
     ]
    },
    {
     "name": "stdout",
     "output_type": "stream",
     "text": [
      "{'val_loss': 2.6827721997368625, 'val_accuracy': 0.6590389016018307, 'precision': 0.6372570595753829, 'recall': 0.6590389016018307, 'f1-score': 0.6429839193786254, 'macro_f1-score': 0.3778556190268872, 'balanced_accuracy': 0.3693725571773639, 'mcc': 0.5436661672018717, 'train_loss': 0.2869553936861183}\n",
      "Epoch 15/20\n"
     ]
    },
    {
     "name": "stderr",
     "output_type": "stream",
     "text": [
      "100%|██████████| 328/328 [00:28<00:00, 11.45it/s]\n"
     ]
    },
    {
     "name": "stdout",
     "output_type": "stream",
     "text": [
      "{'val_loss': 2.7386122705732903, 'val_accuracy': 0.6430205949656751, 'precision': 0.6426662396518483, 'recall': 0.6430205949656751, 'f1-score': 0.6370952127797106, 'macro_f1-score': 0.3493949402270921, 'balanced_accuracy': 0.34490757692102925, 'mcc': 0.5279845691679349, 'train_loss': 0.269197737518414}\n",
      "Epoch 16/20\n"
     ]
    },
    {
     "name": "stderr",
     "output_type": "stream",
     "text": [
      "100%|██████████| 328/328 [00:28<00:00, 11.44it/s]\n"
     ]
    },
    {
     "name": "stdout",
     "output_type": "stream",
     "text": [
      "{'val_loss': 2.851269700541729, 'val_accuracy': 0.6468344774980931, 'precision': 0.6495953774749825, 'recall': 0.6468344774980931, 'f1-score': 0.636712327668783, 'macro_f1-score': 0.34941174047070117, 'balanced_accuracy': 0.34769342745989035, 'mcc': 0.533983500570627, 'train_loss': 0.25522804909340313}\n",
      "Epoch 17/20\n"
     ]
    },
    {
     "name": "stderr",
     "output_type": "stream",
     "text": [
      "100%|██████████| 328/328 [00:28<00:00, 11.45it/s]\n"
     ]
    },
    {
     "name": "stdout",
     "output_type": "stream",
     "text": [
      "{'val_loss': 2.8649631081739577, 'val_accuracy': 0.6414950419527079, 'precision': 0.6369091357603035, 'recall': 0.6414950419527079, 'f1-score': 0.6338142831669411, 'macro_f1-score': 0.3584441837450731, 'balanced_accuracy': 0.36115958225433453, 'mcc': 0.5309625397156081, 'train_loss': 0.21598056657097825}\n",
      "Early stopping.\n",
      "\n",
      "[Fold 5]\n",
      "Label distribution after resampling:\n",
      "  label 0: 2472\n",
      "  label 1: 21\n",
      "  label 2: 64\n",
      "  label 3: 24\n",
      "  label 4: 191\n",
      "  label 5: 112\n",
      "  label 6: 92\n",
      "  label 7: 31\n",
      "  label 8: 68\n",
      "  label 9: 29\n",
      "  label 10: 68\n",
      "  label 11: 168\n",
      "  label 12: 190\n",
      "  label 13: 29\n",
      "  label 14: 22\n",
      "  label 15: 25\n",
      "  label 16: 19\n",
      "  label 17: 183\n",
      "  label 18: 92\n",
      "  label 19: 44\n",
      "  label 20: 14\n",
      "  label 21: 35\n",
      "  label 22: 76\n",
      "  label 23: 158\n",
      "  label 24: 13\n",
      "  label 25: 44\n",
      "  label 26: 84\n",
      "  label 27: 48\n",
      "  label 28: 11\n",
      "  label 29: 13\n",
      "  label 30: 11\n",
      "  label 31: 75\n",
      "  label 32: 36\n",
      "  label 33: 31\n",
      "  label 34: 30\n",
      "  label 35: 11\n",
      "  label 36: 22\n",
      "  label 37: 16\n",
      "  label 38: 33\n",
      "  label 39: 10\n",
      "  label 40: 9\n",
      "  label 41: 57\n",
      "  label 42: 18\n",
      "  label 43: 9\n",
      "  label 44: 54\n",
      "  label 45: 242\n",
      "  label 46: 61\n",
      "  label 47: 80\n",
      "model is roberta-base cnn\n"
     ]
    },
    {
     "name": "stderr",
     "output_type": "stream",
     "text": [
      "Some weights of RobertaModel were not initialized from the model checkpoint at roberta-base and are newly initialized: ['pooler.dense.bias', 'pooler.dense.weight']\n",
      "You should probably TRAIN this model on a down-stream task to be able to use it for predictions and inference.\n"
     ]
    },
    {
     "name": "stdout",
     "output_type": "stream",
     "text": [
      "Using weighted CrossEntropyLoss with weights: tensor([0.7522, 5.5205, 4.4061, 5.3870, 3.3128, 3.8465, 4.0432, 5.1310, 4.3455,\n",
      "        5.1977, 4.3455, 3.4411, 3.3180, 5.1977, 5.4740, 5.3462, 5.6206, 3.3555,\n",
      "        4.0432, 4.7808, 5.9260, 5.0097, 4.2343, 3.5024, 6.0001, 4.7808, 4.1342,\n",
      "        4.6938, 6.1671, 6.0001, 6.1671, 4.2475, 4.9815, 5.1310, 5.1638, 6.1671,\n",
      "        5.4740, 5.7924, 5.0685, 6.2624, 6.3678, 4.5220, 5.6747, 6.3678, 4.5760,\n",
      "        3.0761, 4.4542, 4.1830], device='cuda:0')\n",
      "Epoch 1/20\n"
     ]
    },
    {
     "name": "stderr",
     "output_type": "stream",
     "text": [
      "100%|██████████| 328/328 [00:28<00:00, 11.44it/s]\n"
     ]
    },
    {
     "name": "stdout",
     "output_type": "stream",
     "text": [
      "{'val_loss': 3.031686401948696, 'val_accuracy': 0.5423340961098398, 'precision': 0.3234551719552984, 'recall': 0.5423340961098398, 'f1-score': 0.4047146310943381, 'macro_f1-score': 0.047387622289596636, 'balanced_accuracy': 0.0661679505551277, 'mcc': 0.3110800869907127, 'train_loss': 2.381938601048981}\n",
      "Epoch 2/20\n"
     ]
    },
    {
     "name": "stderr",
     "output_type": "stream",
     "text": [
      "100%|██████████| 328/328 [00:28<00:00, 11.44it/s]\n"
     ]
    },
    {
     "name": "stdout",
     "output_type": "stream",
     "text": [
      "{'val_loss': 2.7103975284390334, 'val_accuracy': 0.5751334858886347, 'precision': 0.4129454857999408, 'recall': 0.5751334858886347, 'f1-score': 0.47071414340695156, 'macro_f1-score': 0.09223054929490952, 'balanced_accuracy': 0.10478478255163139, 'mcc': 0.38314796699025244, 'train_loss': 2.009500826459105}\n",
      "Epoch 3/20\n"
     ]
    },
    {
     "name": "stderr",
     "output_type": "stream",
     "text": [
      "100%|██████████| 328/328 [00:28<00:00, 11.45it/s]\n"
     ]
    },
    {
     "name": "stdout",
     "output_type": "stream",
     "text": [
      "{'val_loss': 2.5546927045031294, 'val_accuracy': 0.555301296720061, 'precision': 0.45959078054760744, 'recall': 0.555301296720061, 'f1-score': 0.4920706141623487, 'macro_f1-score': 0.09890806469929632, 'balanced_accuracy': 0.12648339424899513, 'mcc': 0.39843141717527747, 'train_loss': 1.7316342008913435}\n",
      "Epoch 4/20\n"
     ]
    },
    {
     "name": "stderr",
     "output_type": "stream",
     "text": [
      "100%|██████████| 328/328 [00:28<00:00, 11.45it/s]\n"
     ]
    },
    {
     "name": "stdout",
     "output_type": "stream",
     "text": [
      "{'val_loss': 2.5228705595179304, 'val_accuracy': 0.5758962623951183, 'precision': 0.4988426487239765, 'recall': 0.5758962623951183, 'f1-score': 0.5093455623040603, 'macro_f1-score': 0.14981856920881284, 'balanced_accuracy': 0.1774492665405045, 'mcc': 0.4241340935049198, 'train_loss': 1.5184287327091868}\n",
      "Epoch 5/20\n"
     ]
    },
    {
     "name": "stderr",
     "output_type": "stream",
     "text": [
      "100%|██████████| 328/328 [00:28<00:00, 11.44it/s]\n"
     ]
    },
    {
     "name": "stdout",
     "output_type": "stream",
     "text": [
      "{'val_loss': 2.1405001718823504, 'val_accuracy': 0.6140350877192983, 'precision': 0.5732099362047499, 'recall': 0.6140350877192983, 'f1-score': 0.5771912659989982, 'macro_f1-score': 0.24498069391675603, 'balanced_accuracy': 0.2661519313258796, 'mcc': 0.4942030215458148, 'train_loss': 1.3024060779773607}\n",
      "Epoch 6/20\n"
     ]
    },
    {
     "name": "stderr",
     "output_type": "stream",
     "text": [
      "100%|██████████| 328/328 [00:28<00:00, 11.44it/s]\n"
     ]
    },
    {
     "name": "stdout",
     "output_type": "stream",
     "text": [
      "{'val_loss': 2.128163779654154, 'val_accuracy': 0.6323417238749046, 'precision': 0.5882938398693217, 'recall': 0.6323417238749046, 'f1-score': 0.599224191924044, 'macro_f1-score': 0.2528303012472683, 'balanced_accuracy': 0.26267622590053924, 'mcc': 0.5108958288715705, 'train_loss': 1.1123381242519472}\n",
      "Epoch 7/20\n"
     ]
    },
    {
     "name": "stderr",
     "output_type": "stream",
     "text": [
      "100%|██████████| 328/328 [00:28<00:00, 11.45it/s]\n"
     ]
    },
    {
     "name": "stdout",
     "output_type": "stream",
     "text": [
      "{'val_loss': 2.110927583240881, 'val_accuracy': 0.6033562166285278, 'precision': 0.618972971991962, 'recall': 0.6033562166285278, 'f1-score': 0.5971668379596398, 'macro_f1-score': 0.26370439025308995, 'balanced_accuracy': 0.2843634527779069, 'mcc': 0.4933338334993429, 'train_loss': 0.9225306148845248}\n",
      "Epoch 8/20\n"
     ]
    },
    {
     "name": "stderr",
     "output_type": "stream",
     "text": [
      "100%|██████████| 328/328 [00:28<00:00, 11.44it/s]\n"
     ]
    },
    {
     "name": "stdout",
     "output_type": "stream",
     "text": [
      "{'val_loss': 2.082879653791102, 'val_accuracy': 0.6231884057971014, 'precision': 0.63204795467203, 'recall': 0.6231884057971014, 'f1-score': 0.6122275292580647, 'macro_f1-score': 0.31655078775337203, 'balanced_accuracy': 0.3245720687994233, 'mcc': 0.5171710662078394, 'train_loss': 0.7607495695261693}\n",
      "Epoch 9/20\n"
     ]
    },
    {
     "name": "stderr",
     "output_type": "stream",
     "text": [
      "100%|██████████| 328/328 [00:28<00:00, 11.45it/s]\n"
     ]
    },
    {
     "name": "stdout",
     "output_type": "stream",
     "text": [
      "{'val_loss': 2.178538401679295, 'val_accuracy': 0.6460717009916095, 'precision': 0.625512659029423, 'recall': 0.6460717009916095, 'f1-score': 0.624789515245175, 'macro_f1-score': 0.33688516293083154, 'balanced_accuracy': 0.34996872909126625, 'mcc': 0.5345682617816081, 'train_loss': 0.6372489766785647}\n",
      "Epoch 10/20\n"
     ]
    },
    {
     "name": "stderr",
     "output_type": "stream",
     "text": [
      "100%|██████████| 328/328 [00:28<00:00, 11.44it/s]\n"
     ]
    },
    {
     "name": "stdout",
     "output_type": "stream",
     "text": [
      "{'val_loss': 2.3550319395414214, 'val_accuracy': 0.6468344774980931, 'precision': 0.6253261307522664, 'recall': 0.6468344774980931, 'f1-score': 0.6274751775361421, 'macro_f1-score': 0.3469657335590846, 'balanced_accuracy': 0.3401174787560451, 'mcc': 0.5308729450583332, 'train_loss': 0.5290988146145714}\n",
      "Epoch 11/20\n"
     ]
    },
    {
     "name": "stderr",
     "output_type": "stream",
     "text": [
      "100%|██████████| 328/328 [00:28<00:00, 11.46it/s]\n"
     ]
    },
    {
     "name": "stdout",
     "output_type": "stream",
     "text": [
      "{'val_loss': 2.3615229391470187, 'val_accuracy': 0.6117467581998475, 'precision': 0.643351165989128, 'recall': 0.6117467581998475, 'f1-score': 0.6111376782465441, 'macro_f1-score': 0.3653179167090787, 'balanced_accuracy': 0.36752758945583847, 'mcc': 0.5084285481242657, 'train_loss': 0.4273348023615232}\n",
      "Epoch 12/20\n"
     ]
    },
    {
     "name": "stderr",
     "output_type": "stream",
     "text": [
      "100%|██████████| 328/328 [00:28<00:00, 11.44it/s]\n"
     ]
    },
    {
     "name": "stdout",
     "output_type": "stream",
     "text": [
      "{'val_loss': 2.3420442524479657, 'val_accuracy': 0.6254767353165522, 'precision': 0.6528614686057783, 'recall': 0.6254767353165522, 'f1-score': 0.625887173385713, 'macro_f1-score': 0.37704884267783223, 'balanced_accuracy': 0.39134094743284137, 'mcc': 0.5264475587294095, 'train_loss': 0.34512840677904555}\n",
      "Epoch 13/20\n"
     ]
    },
    {
     "name": "stderr",
     "output_type": "stream",
     "text": [
      "100%|██████████| 328/328 [00:28<00:00, 11.43it/s]\n"
     ]
    },
    {
     "name": "stdout",
     "output_type": "stream",
     "text": [
      "{'val_loss': 2.561856112829069, 'val_accuracy': 0.6575133485888635, 'precision': 0.634615133893494, 'recall': 0.6575133485888635, 'f1-score': 0.6314507218172926, 'macro_f1-score': 0.3625321495553768, 'balanced_accuracy': 0.35176267145953294, 'mcc': 0.5411943654662985, 'train_loss': 0.33547201210053684}\n",
      "Epoch 14/20\n"
     ]
    },
    {
     "name": "stderr",
     "output_type": "stream",
     "text": [
      "100%|██████████| 328/328 [00:28<00:00, 11.44it/s]\n"
     ]
    },
    {
     "name": "stdout",
     "output_type": "stream",
     "text": [
      "{'val_loss': 2.3306890249979206, 'val_accuracy': 0.6224256292906178, 'precision': 0.6623163292249269, 'recall': 0.6224256292906178, 'f1-score': 0.6313860317298946, 'macro_f1-score': 0.40694039438406554, 'balanced_accuracy': 0.43747973172664567, 'mcc': 0.5230904708264608, 'train_loss': 0.30140476205908673}\n",
      "Epoch 15/20\n"
     ]
    },
    {
     "name": "stderr",
     "output_type": "stream",
     "text": [
      "100%|██████████| 328/328 [00:28<00:00, 11.46it/s]\n"
     ]
    },
    {
     "name": "stdout",
     "output_type": "stream",
     "text": [
      "{'val_loss': 2.835958456484283, 'val_accuracy': 0.658276125095347, 'precision': 0.6414072796608813, 'recall': 0.658276125095347, 'f1-score': 0.6407536746468875, 'macro_f1-score': 0.39593209395201806, 'balanced_accuracy': 0.3821390148079375, 'mcc': 0.5429268398111865, 'train_loss': 0.2501519082366807}\n",
      "Epoch 16/20\n"
     ]
    },
    {
     "name": "stderr",
     "output_type": "stream",
     "text": [
      "100%|██████████| 328/328 [00:28<00:00, 11.43it/s]\n"
     ]
    },
    {
     "name": "stdout",
     "output_type": "stream",
     "text": [
      "{'val_loss': 2.550645649433136, 'val_accuracy': 0.6453089244851259, 'precision': 0.6663971399656204, 'recall': 0.6453089244851259, 'f1-score': 0.6470594979083079, 'macro_f1-score': 0.4197790335050861, 'balanced_accuracy': 0.4322239519133817, 'mcc': 0.5481840568061567, 'train_loss': 0.20599572022343282}\n",
      "Epoch 17/20\n"
     ]
    },
    {
     "name": "stderr",
     "output_type": "stream",
     "text": [
      "100%|██████████| 328/328 [00:28<00:00, 11.45it/s]\n"
     ]
    },
    {
     "name": "stdout",
     "output_type": "stream",
     "text": [
      "{'val_loss': 2.7225714569411625, 'val_accuracy': 0.665903890160183, 'precision': 0.6645441750542609, 'recall': 0.665903890160183, 'f1-score': 0.6577728974657284, 'macro_f1-score': 0.4256032613709231, 'balanced_accuracy': 0.4157450179271236, 'mcc': 0.5574831677125778, 'train_loss': 0.2103348734998712}\n",
      "Epoch 18/20\n"
     ]
    },
    {
     "name": "stderr",
     "output_type": "stream",
     "text": [
      "100%|██████████| 328/328 [00:28<00:00, 11.45it/s]\n"
     ]
    },
    {
     "name": "stdout",
     "output_type": "stream",
     "text": [
      "{'val_loss': 2.8177760907607836, 'val_accuracy': 0.6445461479786423, 'precision': 0.6730481431019221, 'recall': 0.6445461479786423, 'f1-score': 0.6467441462198751, 'macro_f1-score': 0.4212773143340804, 'balanced_accuracy': 0.4338588191828669, 'mcc': 0.5454596069676326, 'train_loss': 0.18395607800452923}\n",
      "Epoch 19/20\n"
     ]
    },
    {
     "name": "stderr",
     "output_type": "stream",
     "text": [
      "100%|██████████| 328/328 [00:28<00:00, 11.45it/s]\n"
     ]
    },
    {
     "name": "stdout",
     "output_type": "stream",
     "text": [
      "{'val_loss': 2.6900551068346674, 'val_accuracy': 0.6300533943554538, 'precision': 0.6519557342281824, 'recall': 0.6300533943554538, 'f1-score': 0.6307289995646781, 'macro_f1-score': 0.39026483968576486, 'balanced_accuracy': 0.4152366464401703, 'mcc': 0.5301746351105963, 'train_loss': 0.20537757046702432}\n",
      "Epoch 20/20\n"
     ]
    },
    {
     "name": "stderr",
     "output_type": "stream",
     "text": [
      "100%|██████████| 328/328 [00:28<00:00, 11.44it/s]\n"
     ]
    },
    {
     "name": "stdout",
     "output_type": "stream",
     "text": [
      "{'val_loss': 2.899696452952013, 'val_accuracy': 0.6514111365369947, 'precision': 0.6454131495536148, 'recall': 0.6514111365369947, 'f1-score': 0.6381336644424687, 'macro_f1-score': 0.4143806283175718, 'balanced_accuracy': 0.41404299342426404, 'mcc': 0.5340360522662084, 'train_loss': 0.18344389604512465}\n",
      "Early stopping.\n",
      "\n",
      " === roberta-base + cnn + none Final 5-fold Cross-Validation Results ===\n",
      "val_loss: 2.7206\n",
      "val_accuracy: 0.6313\n",
      "precision: 0.6397\n",
      "recall: 0.6313\n",
      "f1-score: 0.6274\n",
      "macro_f1-score: 0.3800\n",
      "balanced_accuracy: 0.3772\n",
      "mcc: 0.5171\n",
      "train_loss: 0.2907\n",
      "total_seconds: 2809.0000\n",
      "total_time: 0 hrs 46 mins 49 secs\n",
      "▶ Running: roberta-base + lstm + none\n",
      "tokenizer is roberta-base\n",
      "Using device: cuda\n",
      "CUDA Available: True\n",
      "CUDA Device: NVIDIA GeForce RTX 5070 Ti\n",
      "Current GPU Memory Allocated: 0.02 GB\n",
      "Current GPU Memory Cached: 3.82 GB\n",
      "\n",
      "[Fold 1]\n",
      "Label distribution after resampling:\n",
      "  label 0: 2471\n",
      "  label 1: 21\n",
      "  label 2: 64\n",
      "  label 3: 24\n",
      "  label 4: 191\n",
      "  label 5: 113\n",
      "  label 6: 93\n",
      "  label 7: 30\n",
      "  label 8: 68\n",
      "  label 9: 30\n",
      "  label 10: 67\n",
      "  label 11: 169\n",
      "  label 12: 189\n",
      "  label 13: 29\n",
      "  label 14: 22\n",
      "  label 15: 25\n",
      "  label 16: 19\n",
      "  label 17: 183\n",
      "  label 18: 92\n",
      "  label 19: 44\n",
      "  label 20: 13\n",
      "  label 21: 35\n",
      "  label 22: 76\n",
      "  label 23: 158\n",
      "  label 24: 13\n",
      "  label 25: 44\n",
      "  label 26: 84\n",
      "  label 27: 48\n",
      "  label 28: 11\n",
      "  label 29: 13\n",
      "  label 30: 11\n",
      "  label 31: 75\n",
      "  label 32: 36\n",
      "  label 33: 32\n",
      "  label 34: 29\n",
      "  label 35: 11\n",
      "  label 36: 22\n",
      "  label 37: 16\n",
      "  label 38: 33\n",
      "  label 39: 10\n",
      "  label 40: 9\n",
      "  label 41: 57\n",
      "  label 42: 19\n",
      "  label 43: 8\n",
      "  label 44: 54\n",
      "  label 45: 242\n",
      "  label 46: 61\n",
      "  label 47: 80\n",
      "model is roberta-base lstm\n"
     ]
    },
    {
     "name": "stderr",
     "output_type": "stream",
     "text": [
      "Some weights of RobertaModel were not initialized from the model checkpoint at roberta-base and are newly initialized: ['pooler.dense.bias', 'pooler.dense.weight']\n",
      "You should probably TRAIN this model on a down-stream task to be able to use it for predictions and inference.\n"
     ]
    },
    {
     "name": "stdout",
     "output_type": "stream",
     "text": [
      "Using weighted CrossEntropyLoss with weights: tensor([0.7525, 5.5203, 4.4060, 5.3868, 3.3126, 3.8375, 4.0322, 5.1636, 4.3453,\n",
      "        5.1636, 4.3601, 3.4349, 3.3231, 5.1975, 5.4738, 5.3460, 5.6204, 3.3554,\n",
      "        4.0431, 4.7807, 5.9999, 5.0095, 4.2341, 3.5022, 5.9999, 4.7807, 4.1340,\n",
      "        4.6936, 6.1669, 5.9999, 6.1669, 4.2474, 4.9813, 5.0991, 5.1975, 6.1669,\n",
      "        5.4738, 5.7923, 5.0683, 6.2623, 6.3676, 4.5218, 5.6204, 6.4854, 4.5759,\n",
      "        3.0759, 4.4540, 4.1828], device='cuda:0')\n",
      "Epoch 1/20\n"
     ]
    },
    {
     "name": "stderr",
     "output_type": "stream",
     "text": [
      "100%|██████████| 328/328 [00:29<00:00, 10.99it/s]\n"
     ]
    },
    {
     "name": "stdout",
     "output_type": "stream",
     "text": [
      "{'val_loss': 3.171229212749295, 'val_accuracy': 0.5266768292682927, 'precision': 0.29542723753002664, 'recall': 0.5266768292682927, 'f1-score': 0.3774844917915427, 'macro_f1-score': 0.041092104137978556, 'balanced_accuracy': 0.058104259772949085, 'mcc': 0.2680177549943531, 'train_loss': 2.3943663383039033}\n",
      "Epoch 2/20\n"
     ]
    },
    {
     "name": "stderr",
     "output_type": "stream",
     "text": [
      "100%|██████████| 328/328 [00:29<00:00, 10.98it/s]\n"
     ]
    },
    {
     "name": "stdout",
     "output_type": "stream",
     "text": [
      "{'val_loss': 3.1873920734335734, 'val_accuracy': 0.5304878048780488, 'precision': 0.3467594317529007, 'recall': 0.5304878048780488, 'f1-score': 0.4149567751717082, 'macro_f1-score': 0.049792780541927484, 'balanced_accuracy': 0.07061277117631694, 'mcc': 0.31280296625121734, 'train_loss': 2.036732198625076}\n",
      "Epoch 3/20\n"
     ]
    },
    {
     "name": "stderr",
     "output_type": "stream",
     "text": [
      "100%|██████████| 328/328 [00:29<00:00, 10.98it/s]\n"
     ]
    },
    {
     "name": "stdout",
     "output_type": "stream",
     "text": [
      "{'val_loss': 3.0331210733913796, 'val_accuracy': 0.5472560975609756, 'precision': 0.3708167844249853, 'recall': 0.5472560975609756, 'f1-score': 0.43975026833679265, 'macro_f1-score': 0.0641480821562141, 'balanced_accuracy': 0.08365717481247588, 'mcc': 0.3420033989380036, 'train_loss': 1.8564871963931293}\n",
      "Epoch 4/20\n"
     ]
    },
    {
     "name": "stderr",
     "output_type": "stream",
     "text": [
      "100%|██████████| 328/328 [00:29<00:00, 10.97it/s]\n"
     ]
    },
    {
     "name": "stdout",
     "output_type": "stream",
     "text": [
      "{'val_loss': 2.7461095684912147, 'val_accuracy': 0.5548780487804879, 'precision': 0.44332767613937935, 'recall': 0.5548780487804879, 'f1-score': 0.481718897247413, 'macro_f1-score': 0.08545281470453299, 'balanced_accuracy': 0.10270739490507896, 'mcc': 0.3757377406161272, 'train_loss': 1.7235885556878112}\n",
      "Epoch 5/20\n"
     ]
    },
    {
     "name": "stderr",
     "output_type": "stream",
     "text": [
      "100%|██████████| 328/328 [00:29<00:00, 10.99it/s]\n"
     ]
    },
    {
     "name": "stdout",
     "output_type": "stream",
     "text": [
      "{'val_loss': 2.7167087488058135, 'val_accuracy': 0.5777439024390244, 'precision': 0.47710146367056605, 'recall': 0.5777439024390244, 'f1-score': 0.5069749856810442, 'macro_f1-score': 0.12584551934022933, 'balanced_accuracy': 0.1377846935588263, 'mcc': 0.4066107207518409, 'train_loss': 1.6040505038165465}\n",
      "Epoch 6/20\n"
     ]
    },
    {
     "name": "stderr",
     "output_type": "stream",
     "text": [
      "100%|██████████| 328/328 [00:29<00:00, 11.00it/s]\n"
     ]
    },
    {
     "name": "stdout",
     "output_type": "stream",
     "text": [
      "{'val_loss': 2.8359628334278013, 'val_accuracy': 0.573170731707317, 'precision': 0.46738549432411647, 'recall': 0.573170731707317, 'f1-score': 0.5017958889526201, 'macro_f1-score': 0.13368078670182737, 'balanced_accuracy': 0.14565498315846057, 'mcc': 0.396053013863655, 'train_loss': 1.4638615123382428}\n",
      "Epoch 7/20\n"
     ]
    },
    {
     "name": "stderr",
     "output_type": "stream",
     "text": [
      "100%|██████████| 328/328 [00:29<00:00, 10.96it/s]\n"
     ]
    },
    {
     "name": "stdout",
     "output_type": "stream",
     "text": [
      "{'val_loss': 2.666676031380165, 'val_accuracy': 0.5945121951219512, 'precision': 0.5121026473792383, 'recall': 0.5945121951219512, 'f1-score': 0.5402819010771123, 'macro_f1-score': 0.17216336543143895, 'balanced_accuracy': 0.1786397942590531, 'mcc': 0.4366671387130309, 'train_loss': 1.3691476270919893}\n",
      "Epoch 8/20\n"
     ]
    },
    {
     "name": "stderr",
     "output_type": "stream",
     "text": [
      "100%|██████████| 328/328 [00:29<00:00, 11.01it/s]\n"
     ]
    },
    {
     "name": "stdout",
     "output_type": "stream",
     "text": [
      "{'val_loss': 2.700416469719352, 'val_accuracy': 0.551829268292683, 'precision': 0.5052704683508685, 'recall': 0.551829268292683, 'f1-score': 0.5121457070185118, 'macro_f1-score': 0.14375671459067502, 'balanced_accuracy': 0.16169841706302748, 'mcc': 0.3949677145685431, 'train_loss': 1.2581707926966794}\n",
      "Epoch 9/20\n"
     ]
    },
    {
     "name": "stderr",
     "output_type": "stream",
     "text": [
      "100%|██████████| 328/328 [00:29<00:00, 10.99it/s]\n"
     ]
    },
    {
     "name": "stdout",
     "output_type": "stream",
     "text": [
      "{'val_loss': 2.573928624391556, 'val_accuracy': 0.5777439024390244, 'precision': 0.5323303070908485, 'recall': 0.5777439024390244, 'f1-score': 0.5430509810489426, 'macro_f1-score': 0.18233103906765366, 'balanced_accuracy': 0.19923875876833538, 'mcc': 0.433935886540249, 'train_loss': 1.1888661877047726}\n",
      "Epoch 10/20\n"
     ]
    },
    {
     "name": "stderr",
     "output_type": "stream",
     "text": [
      "100%|██████████| 328/328 [00:29<00:00, 10.97it/s]\n"
     ]
    },
    {
     "name": "stdout",
     "output_type": "stream",
     "text": [
      "{'val_loss': 2.6446408978322657, 'val_accuracy': 0.604420731707317, 'precision': 0.5620810972917613, 'recall': 0.604420731707317, 'f1-score': 0.5689077054511111, 'macro_f1-score': 0.22648427349112632, 'balanced_accuracy': 0.22631963792761353, 'mcc': 0.4575343431584874, 'train_loss': 1.0862056242710934}\n",
      "Epoch 11/20\n"
     ]
    },
    {
     "name": "stderr",
     "output_type": "stream",
     "text": [
      "100%|██████████| 328/328 [00:29<00:00, 10.98it/s]\n"
     ]
    },
    {
     "name": "stdout",
     "output_type": "stream",
     "text": [
      "{'val_loss': 2.968852930679554, 'val_accuracy': 0.5967987804878049, 'precision': 0.5254751149857709, 'recall': 0.5967987804878049, 'f1-score': 0.5374029284131543, 'macro_f1-score': 0.2064598449214602, 'balanced_accuracy': 0.19390869143612485, 'mcc': 0.4230543486612727, 'train_loss': 1.0836977015544729}\n",
      "Epoch 12/20\n"
     ]
    },
    {
     "name": "stderr",
     "output_type": "stream",
     "text": [
      "100%|██████████| 328/328 [00:29<00:00, 11.00it/s]\n"
     ]
    },
    {
     "name": "stdout",
     "output_type": "stream",
     "text": [
      "{'val_loss': 2.587416714284478, 'val_accuracy': 0.6067073170731707, 'precision': 0.5589932281708646, 'recall': 0.6067073170731707, 'f1-score': 0.5749429978054948, 'macro_f1-score': 0.24062184149668406, 'balanced_accuracy': 0.23907005702921916, 'mcc': 0.46749183808976724, 'train_loss': 1.0219131418753689}\n",
      "Epoch 13/20\n"
     ]
    },
    {
     "name": "stderr",
     "output_type": "stream",
     "text": [
      "100%|██████████| 328/328 [00:29<00:00, 11.00it/s]\n"
     ]
    },
    {
     "name": "stdout",
     "output_type": "stream",
     "text": [
      "{'val_loss': 2.6848308247763937, 'val_accuracy': 0.5914634146341463, 'precision': 0.5402727002209552, 'recall': 0.5914634146341463, 'f1-score': 0.5536421510122737, 'macro_f1-score': 0.20544731575110606, 'balanced_accuracy': 0.2106365842258563, 'mcc': 0.44527438279360937, 'train_loss': 0.9132954113003684}\n",
      "Epoch 14/20\n"
     ]
    },
    {
     "name": "stderr",
     "output_type": "stream",
     "text": [
      "100%|██████████| 328/328 [00:29<00:00, 10.99it/s]\n"
     ]
    },
    {
     "name": "stdout",
     "output_type": "stream",
     "text": [
      "{'val_loss': 2.4422507860311646, 'val_accuracy': 0.5952743902439024, 'precision': 0.5781644669641063, 'recall': 0.5952743902439024, 'f1-score': 0.5793233349766771, 'macro_f1-score': 0.2540340528612454, 'balanced_accuracy': 0.27977807620955425, 'mcc': 0.47444748370285367, 'train_loss': 0.8728238608142952}\n",
      "Epoch 15/20\n"
     ]
    },
    {
     "name": "stderr",
     "output_type": "stream",
     "text": [
      "100%|██████████| 328/328 [00:29<00:00, 10.98it/s]\n"
     ]
    },
    {
     "name": "stdout",
     "output_type": "stream",
     "text": [
      "{'val_loss': 2.59559674597368, 'val_accuracy': 0.5983231707317073, 'precision': 0.5738806528412682, 'recall': 0.5983231707317073, 'f1-score': 0.5687592365015868, 'macro_f1-score': 0.2346523202779891, 'balanced_accuracy': 0.25432941005353277, 'mcc': 0.46546590102680047, 'train_loss': 0.8283993568634842}\n",
      "Epoch 16/20\n"
     ]
    },
    {
     "name": "stderr",
     "output_type": "stream",
     "text": [
      "100%|██████████| 328/328 [00:29<00:00, 10.99it/s]\n"
     ]
    },
    {
     "name": "stdout",
     "output_type": "stream",
     "text": [
      "{'val_loss': 2.721537281100343, 'val_accuracy': 0.6150914634146342, 'precision': 0.5734361692370443, 'recall': 0.6150914634146342, 'f1-score': 0.5811615939704059, 'macro_f1-score': 0.2675935344674582, 'balanced_accuracy': 0.27506864394798763, 'mcc': 0.47608014441896, 'train_loss': 0.7865890863737682}\n",
      "Epoch 17/20\n"
     ]
    },
    {
     "name": "stderr",
     "output_type": "stream",
     "text": [
      "100%|██████████| 328/328 [00:29<00:00, 11.00it/s]\n"
     ]
    },
    {
     "name": "stdout",
     "output_type": "stream",
     "text": [
      "{'val_loss': 2.4542843045257943, 'val_accuracy': 0.6036585365853658, 'precision': 0.5904814267253116, 'recall': 0.6036585365853658, 'f1-score': 0.5902055770538941, 'macro_f1-score': 0.2602378876449669, 'balanced_accuracy': 0.2776502994998948, 'mcc': 0.48121038767121843, 'train_loss': 0.7752346695605211}\n",
      "Epoch 18/20\n"
     ]
    },
    {
     "name": "stderr",
     "output_type": "stream",
     "text": [
      "100%|██████████| 328/328 [00:29<00:00, 10.96it/s]\n"
     ]
    },
    {
     "name": "stdout",
     "output_type": "stream",
     "text": [
      "{'val_loss': 2.485849831889315, 'val_accuracy': 0.5914634146341463, 'precision': 0.5883061075639018, 'recall': 0.5914634146341463, 'f1-score': 0.5834554852713466, 'macro_f1-score': 0.26844023910692344, 'balanced_accuracy': 0.26960922914854407, 'mcc': 0.4667978940379311, 'train_loss': 0.7341591399163008}\n",
      "Epoch 19/20\n"
     ]
    },
    {
     "name": "stderr",
     "output_type": "stream",
     "text": [
      "100%|██████████| 328/328 [00:29<00:00, 11.01it/s]\n"
     ]
    },
    {
     "name": "stdout",
     "output_type": "stream",
     "text": [
      "{'val_loss': 3.1874757903378184, 'val_accuracy': 0.5823170731707317, 'precision': 0.534075172074855, 'recall': 0.5823170731707317, 'f1-score': 0.5437904056933052, 'macro_f1-score': 0.2247053685495751, 'balanced_accuracy': 0.2237350672437742, 'mcc': 0.4301825797173789, 'train_loss': 0.7275712521428742}\n",
      "Epoch 20/20\n"
     ]
    },
    {
     "name": "stderr",
     "output_type": "stream",
     "text": [
      "100%|██████████| 328/328 [00:29<00:00, 10.99it/s]\n"
     ]
    },
    {
     "name": "stdout",
     "output_type": "stream",
     "text": [
      "{'val_loss': 2.7013867224861934, 'val_accuracy': 0.5960365853658537, 'precision': 0.5597388275299983, 'recall': 0.5960365853658537, 'f1-score': 0.570037201447545, 'macro_f1-score': 0.25482150455472014, 'balanced_accuracy': 0.26965061214729125, 'mcc': 0.45848091145505937, 'train_loss': 0.7375316742535044}\n",
      "\n",
      "[Fold 2]\n",
      "Label distribution after resampling:\n",
      "  label 0: 2471\n",
      "  label 1: 22\n",
      "  label 2: 64\n",
      "  label 3: 24\n",
      "  label 4: 190\n",
      "  label 5: 113\n",
      "  label 6: 93\n",
      "  label 7: 30\n",
      "  label 8: 68\n",
      "  label 9: 30\n",
      "  label 10: 67\n",
      "  label 11: 169\n",
      "  label 12: 189\n",
      "  label 13: 29\n",
      "  label 14: 23\n",
      "  label 15: 24\n",
      "  label 16: 20\n",
      "  label 17: 182\n",
      "  label 18: 92\n",
      "  label 19: 44\n",
      "  label 20: 13\n",
      "  label 21: 36\n",
      "  label 22: 76\n",
      "  label 23: 157\n",
      "  label 24: 12\n",
      "  label 25: 44\n",
      "  label 26: 84\n",
      "  label 27: 48\n",
      "  label 28: 12\n",
      "  label 29: 12\n",
      "  label 30: 12\n",
      "  label 31: 75\n",
      "  label 32: 36\n",
      "  label 33: 31\n",
      "  label 34: 29\n",
      "  label 35: 12\n",
      "  label 36: 21\n",
      "  label 37: 16\n",
      "  label 38: 33\n",
      "  label 39: 11\n",
      "  label 40: 8\n",
      "  label 41: 57\n",
      "  label 42: 19\n",
      "  label 43: 9\n",
      "  label 44: 54\n",
      "  label 45: 242\n",
      "  label 46: 62\n",
      "  label 47: 80\n",
      "model is roberta-base lstm\n"
     ]
    },
    {
     "name": "stderr",
     "output_type": "stream",
     "text": [
      "Some weights of RobertaModel were not initialized from the model checkpoint at roberta-base and are newly initialized: ['pooler.dense.bias', 'pooler.dense.weight']\n",
      "You should probably TRAIN this model on a down-stream task to be able to use it for predictions and inference.\n"
     ]
    },
    {
     "name": "stdout",
     "output_type": "stream",
     "text": [
      "Using weighted CrossEntropyLoss with weights: tensor([0.7527, 5.4740, 4.4061, 5.3870, 3.3180, 3.8376, 4.0324, 5.1638, 4.3455,\n",
      "        5.1638, 4.3603, 3.4351, 3.3233, 5.1977, 5.4295, 5.3870, 5.5693, 3.3610,\n",
      "        4.0432, 4.7808, 6.0001, 4.9815, 4.2343, 3.5088, 6.0801, 4.7808, 4.1342,\n",
      "        4.6938, 6.0801, 6.0801, 6.0801, 4.2475, 4.9815, 5.1310, 5.1977, 6.0801,\n",
      "        5.5205, 5.7924, 5.0685, 6.1671, 6.4856, 4.5220, 5.6206, 6.3678, 4.5760,\n",
      "        3.0761, 4.4379, 4.1830], device='cuda:0')\n",
      "Epoch 1/20\n"
     ]
    },
    {
     "name": "stderr",
     "output_type": "stream",
     "text": [
      "100%|██████████| 328/328 [00:29<00:00, 10.96it/s]\n"
     ]
    },
    {
     "name": "stdout",
     "output_type": "stream",
     "text": [
      "{'val_loss': 3.386945157516293, 'val_accuracy': 0.5118230358504958, 'precision': 0.30217677455039954, 'recall': 0.5118230358504958, 'f1-score': 0.35441686730481375, 'macro_f1-score': 0.02788649604515675, 'balanced_accuracy': 0.040807185404061724, 'mcc': 0.22625287434455288, 'train_loss': 2.439554709850288}\n",
      "Epoch 2/20\n"
     ]
    },
    {
     "name": "stderr",
     "output_type": "stream",
     "text": [
      "100%|██████████| 328/328 [00:29<00:00, 10.97it/s]\n"
     ]
    },
    {
     "name": "stdout",
     "output_type": "stream",
     "text": [
      "{'val_loss': 3.4241237814833476, 'val_accuracy': 0.5072463768115942, 'precision': 0.27516953534008315, 'recall': 0.5072463768115942, 'f1-score': 0.35225408318786666, 'macro_f1-score': 0.024828619492754306, 'balanced_accuracy': 0.039430671135768224, 'mcc': 0.22307888834067857, 'train_loss': 2.1774487124710546}\n",
      "Epoch 3/20\n"
     ]
    },
    {
     "name": "stderr",
     "output_type": "stream",
     "text": [
      "100%|██████████| 328/328 [00:29<00:00, 11.00it/s]\n"
     ]
    },
    {
     "name": "stdout",
     "output_type": "stream",
     "text": [
      "{'val_loss': 3.685536471808829, 'val_accuracy': 0.47139588100686497, 'precision': 0.2222140766302384, 'recall': 0.47139588100686497, 'f1-score': 0.302045261236125, 'macro_f1-score': 0.01334888543286677, 'balanced_accuracy': 0.020833333333333332, 'mcc': 0.0, 'train_loss': 2.465873050071844}\n",
      "Epoch 4/20\n"
     ]
    },
    {
     "name": "stderr",
     "output_type": "stream",
     "text": [
      "100%|██████████| 328/328 [00:29<00:00, 10.99it/s]\n"
     ]
    },
    {
     "name": "stdout",
     "output_type": "stream",
     "text": [
      "{'val_loss': 3.555109061845919, 'val_accuracy': 0.4820747520976354, 'precision': 0.2433714721586575, 'recall': 0.4820747520976354, 'f1-score': 0.32331217311454463, 'macro_f1-score': 0.022894248456913947, 'balanced_accuracy': 0.0326233525632006, 'mcc': 0.12395807713936563, 'train_loss': 2.515503671838016}\n",
      "Early stopping.\n",
      "\n",
      "[Fold 3]\n",
      "Label distribution after resampling:\n",
      "  label 0: 2471\n",
      "  label 1: 22\n",
      "  label 2: 64\n",
      "  label 3: 24\n",
      "  label 4: 190\n",
      "  label 5: 113\n",
      "  label 6: 93\n",
      "  label 7: 30\n",
      "  label 8: 68\n",
      "  label 9: 30\n",
      "  label 10: 67\n",
      "  label 11: 169\n",
      "  label 12: 190\n",
      "  label 13: 28\n",
      "  label 14: 23\n",
      "  label 15: 25\n",
      "  label 16: 19\n",
      "  label 17: 182\n",
      "  label 18: 92\n",
      "  label 19: 44\n",
      "  label 20: 14\n",
      "  label 21: 35\n",
      "  label 22: 76\n",
      "  label 23: 157\n",
      "  label 24: 13\n",
      "  label 25: 44\n",
      "  label 26: 84\n",
      "  label 27: 48\n",
      "  label 28: 11\n",
      "  label 29: 13\n",
      "  label 30: 11\n",
      "  label 31: 76\n",
      "  label 32: 36\n",
      "  label 33: 31\n",
      "  label 34: 30\n",
      "  label 35: 11\n",
      "  label 36: 21\n",
      "  label 37: 16\n",
      "  label 38: 32\n",
      "  label 39: 11\n",
      "  label 40: 9\n",
      "  label 41: 57\n",
      "  label 42: 18\n",
      "  label 43: 9\n",
      "  label 44: 55\n",
      "  label 45: 241\n",
      "  label 46: 62\n",
      "  label 47: 80\n",
      "model is roberta-base lstm\n"
     ]
    },
    {
     "name": "stderr",
     "output_type": "stream",
     "text": [
      "Some weights of RobertaModel were not initialized from the model checkpoint at roberta-base and are newly initialized: ['pooler.dense.bias', 'pooler.dense.weight']\n",
      "You should probably TRAIN this model on a down-stream task to be able to use it for predictions and inference.\n"
     ]
    },
    {
     "name": "stdout",
     "output_type": "stream",
     "text": [
      "Using weighted CrossEntropyLoss with weights: tensor([0.7527, 5.4740, 4.4061, 5.3870, 3.3180, 3.8376, 4.0324, 5.1638, 4.3455,\n",
      "        5.1638, 4.3603, 3.4351, 3.3180, 5.2328, 5.4295, 5.3462, 5.6206, 3.3610,\n",
      "        4.0432, 4.7808, 5.9260, 5.0097, 4.2343, 3.5088, 6.0001, 4.7808, 4.1342,\n",
      "        4.6938, 6.1671, 6.0001, 6.1671, 4.2343, 4.9815, 5.1310, 5.1638, 6.1671,\n",
      "        5.5205, 5.7924, 5.0993, 6.1671, 6.3678, 4.5220, 5.6747, 6.3678, 4.5577,\n",
      "        3.0802, 4.4379, 4.1830], device='cuda:0')\n",
      "Epoch 1/20\n"
     ]
    },
    {
     "name": "stderr",
     "output_type": "stream",
     "text": [
      "100%|██████████| 328/328 [00:29<00:00, 10.99it/s]\n"
     ]
    },
    {
     "name": "stdout",
     "output_type": "stream",
     "text": [
      "{'val_loss': 3.1803889710728717, 'val_accuracy': 0.5270785659801678, 'precision': 0.2964829860193324, 'recall': 0.5270785659801678, 'f1-score': 0.3786942323567829, 'macro_f1-score': 0.03835914845544955, 'balanced_accuracy': 0.053126920415760344, 'mcc': 0.26700773267337885, 'train_loss': 2.4295576427404475}\n",
      "Epoch 2/20\n"
     ]
    },
    {
     "name": "stderr",
     "output_type": "stream",
     "text": [
      "100%|██████████| 328/328 [00:29<00:00, 10.97it/s]\n"
     ]
    },
    {
     "name": "stdout",
     "output_type": "stream",
     "text": [
      "{'val_loss': 3.0931982616098916, 'val_accuracy': 0.5522501906941266, 'precision': 0.33954256586800063, 'recall': 0.5522501906941266, 'f1-score': 0.4194369924012163, 'macro_f1-score': 0.058135340096722214, 'balanced_accuracy': 0.0759376739950398, 'mcc': 0.3295271230547983, 'train_loss': 2.0847210106326313}\n",
      "Epoch 3/20\n"
     ]
    },
    {
     "name": "stderr",
     "output_type": "stream",
     "text": [
      "100%|██████████| 328/328 [00:29<00:00, 10.99it/s]\n"
     ]
    },
    {
     "name": "stdout",
     "output_type": "stream",
     "text": [
      "{'val_loss': 3.0549492850536253, 'val_accuracy': 0.5644546147978642, 'precision': 0.3829395276387982, 'recall': 0.5644546147978642, 'f1-score': 0.44285633901166666, 'macro_f1-score': 0.06608838696752826, 'balanced_accuracy': 0.08607144643994787, 'mcc': 0.35806735284518737, 'train_loss': 1.9189428678009568}\n",
      "Epoch 4/20\n"
     ]
    },
    {
     "name": "stderr",
     "output_type": "stream",
     "text": [
      "100%|██████████| 328/328 [00:29<00:00, 11.01it/s]\n"
     ]
    },
    {
     "name": "stdout",
     "output_type": "stream",
     "text": [
      "{'val_loss': 2.80789299345598, 'val_accuracy': 0.5545385202135774, 'precision': 0.4126076040593753, 'recall': 0.5545385202135774, 'f1-score': 0.4651320176912992, 'macro_f1-score': 0.08026853045189962, 'balanced_accuracy': 0.10625830549727809, 'mcc': 0.3764682871395233, 'train_loss': 1.8046774111869859}\n",
      "Epoch 5/20\n"
     ]
    },
    {
     "name": "stderr",
     "output_type": "stream",
     "text": [
      "100%|██████████| 328/328 [00:29<00:00, 10.96it/s]\n"
     ]
    },
    {
     "name": "stdout",
     "output_type": "stream",
     "text": [
      "{'val_loss': 2.7161447696569487, 'val_accuracy': 0.562929061784897, 'precision': 0.4470590011046399, 'recall': 0.562929061784897, 'f1-score': 0.48427587243891784, 'macro_f1-score': 0.09919119204243403, 'balanced_accuracy': 0.11975698091818769, 'mcc': 0.3875504648750949, 'train_loss': 1.6957217041493915}\n",
      "Epoch 6/20\n"
     ]
    },
    {
     "name": "stderr",
     "output_type": "stream",
     "text": [
      "100%|██████████| 328/328 [00:29<00:00, 11.00it/s]\n"
     ]
    },
    {
     "name": "stdout",
     "output_type": "stream",
     "text": [
      "{'val_loss': 2.8118514178729637, 'val_accuracy': 0.5736079328756675, 'precision': 0.47376343243110036, 'recall': 0.5736079328756675, 'f1-score': 0.5026931338470624, 'macro_f1-score': 0.11463936587723574, 'balanced_accuracy': 0.13301733715387729, 'mcc': 0.40778966774281333, 'train_loss': 1.6004680853064468}\n",
      "Epoch 7/20\n"
     ]
    },
    {
     "name": "stderr",
     "output_type": "stream",
     "text": [
      "100%|██████████| 328/328 [00:29<00:00, 10.99it/s]\n"
     ]
    },
    {
     "name": "stdout",
     "output_type": "stream",
     "text": [
      "{'val_loss': 2.938715414303105, 'val_accuracy': 0.585812356979405, 'precision': 0.45956126437577033, 'recall': 0.585812356979405, 'f1-score': 0.4973773539778457, 'macro_f1-score': 0.11420621119569474, 'balanced_accuracy': 0.1196428526111729, 'mcc': 0.401132831523363, 'train_loss': 1.4780260528914813}\n",
      "Epoch 8/20\n"
     ]
    },
    {
     "name": "stderr",
     "output_type": "stream",
     "text": [
      "100%|██████████| 328/328 [00:29<00:00, 10.96it/s]\n"
     ]
    },
    {
     "name": "stdout",
     "output_type": "stream",
     "text": [
      "{'val_loss': 2.6863282940736632, 'val_accuracy': 0.5720823798627003, 'precision': 0.4948579566050696, 'recall': 0.5720823798627003, 'f1-score': 0.5244072987201855, 'macro_f1-score': 0.13744770600989856, 'balanced_accuracy': 0.15739642691438402, 'mcc': 0.4231154849268918, 'train_loss': 1.4051247664795417}\n",
      "Epoch 9/20\n"
     ]
    },
    {
     "name": "stderr",
     "output_type": "stream",
     "text": [
      "100%|██████████| 328/328 [00:29<00:00, 10.97it/s]\n"
     ]
    },
    {
     "name": "stdout",
     "output_type": "stream",
     "text": [
      "{'val_loss': 2.626244214976706, 'val_accuracy': 0.5881006864988558, 'precision': 0.5148116925927363, 'recall': 0.5881006864988558, 'f1-score': 0.537017823872808, 'macro_f1-score': 0.16079471035046164, 'balanced_accuracy': 0.17988380114436167, 'mcc': 0.4394041517557631, 'train_loss': 1.3487118182749283}\n",
      "Epoch 10/20\n"
     ]
    },
    {
     "name": "stderr",
     "output_type": "stream",
     "text": [
      "100%|██████████| 328/328 [00:29<00:00, 10.98it/s]\n"
     ]
    },
    {
     "name": "stdout",
     "output_type": "stream",
     "text": [
      "{'val_loss': 2.581635917105326, 'val_accuracy': 0.5804729214340199, 'precision': 0.5294040939935071, 'recall': 0.5804729214340199, 'f1-score': 0.5460736122079497, 'macro_f1-score': 0.17032610027080944, 'balanced_accuracy': 0.18582986481104458, 'mcc': 0.43855932517717333, 'train_loss': 1.2366381155372392}\n",
      "Epoch 11/20\n"
     ]
    },
    {
     "name": "stderr",
     "output_type": "stream",
     "text": [
      "100%|██████████| 328/328 [00:29<00:00, 10.98it/s]\n"
     ]
    },
    {
     "name": "stdout",
     "output_type": "stream",
     "text": [
      "{'val_loss': 2.6565555973750787, 'val_accuracy': 0.5758962623951183, 'precision': 0.548663792073465, 'recall': 0.5758962623951183, 'f1-score': 0.5500778502989448, 'macro_f1-score': 0.1891735766134576, 'balanced_accuracy': 0.19357396626856338, 'mcc': 0.43148727656116764, 'train_loss': 1.1878330981040872}\n",
      "Epoch 12/20\n"
     ]
    },
    {
     "name": "stderr",
     "output_type": "stream",
     "text": [
      "100%|██████████| 328/328 [00:29<00:00, 10.98it/s]\n"
     ]
    },
    {
     "name": "stdout",
     "output_type": "stream",
     "text": [
      "{'val_loss': 2.621329327182072, 'val_accuracy': 0.585812356979405, 'precision': 0.5037997717892074, 'recall': 0.585812356979405, 'f1-score': 0.5309056659746498, 'macro_f1-score': 0.16454711713599504, 'balanced_accuracy': 0.17038174102109638, 'mcc': 0.42863428891649125, 'train_loss': 1.1737963956576296}\n",
      "Epoch 13/20\n"
     ]
    },
    {
     "name": "stderr",
     "output_type": "stream",
     "text": [
      "100%|██████████| 328/328 [00:29<00:00, 10.97it/s]\n"
     ]
    },
    {
     "name": "stdout",
     "output_type": "stream",
     "text": [
      "{'val_loss': 2.7696550223158627, 'val_accuracy': 0.5804729214340199, 'precision': 0.5052296751023664, 'recall': 0.5804729214340199, 'f1-score': 0.5252872522748797, 'macro_f1-score': 0.1709346364088203, 'balanced_accuracy': 0.17501991169203826, 'mcc': 0.417068357459814, 'train_loss': 1.1934945728720687}\n",
      "Epoch 14/20\n"
     ]
    },
    {
     "name": "stderr",
     "output_type": "stream",
     "text": [
      "100%|██████████| 328/328 [00:29<00:00, 10.98it/s]\n"
     ]
    },
    {
     "name": "stdout",
     "output_type": "stream",
     "text": [
      "{'val_loss': 2.6974308636130355, 'val_accuracy': 0.5903890160183066, 'precision': 0.5480828584981381, 'recall': 0.5903890160183066, 'f1-score': 0.555033208480153, 'macro_f1-score': 0.20164801584691605, 'balanced_accuracy': 0.20347898899419023, 'mcc': 0.44180641151989153, 'train_loss': 1.0787735819453146}\n",
      "Epoch 15/20\n"
     ]
    },
    {
     "name": "stderr",
     "output_type": "stream",
     "text": [
      "100%|██████████| 328/328 [00:29<00:00, 11.00it/s]\n"
     ]
    },
    {
     "name": "stdout",
     "output_type": "stream",
     "text": [
      "{'val_loss': 2.5062361991986997, 'val_accuracy': 0.5835240274599542, 'precision': 0.5371937183644336, 'recall': 0.5835240274599542, 'f1-score': 0.5514047236233588, 'macro_f1-score': 0.20287516710261722, 'balanced_accuracy': 0.21377622207573177, 'mcc': 0.44385539363322124, 'train_loss': 1.009003816217911}\n",
      "Epoch 16/20\n"
     ]
    },
    {
     "name": "stderr",
     "output_type": "stream",
     "text": [
      "100%|██████████| 328/328 [00:29<00:00, 10.94it/s]\n"
     ]
    },
    {
     "name": "stdout",
     "output_type": "stream",
     "text": [
      "{'val_loss': 2.563579853351523, 'val_accuracy': 0.593440122044241, 'precision': 0.5362586189368619, 'recall': 0.593440122044241, 'f1-score': 0.5567857773307515, 'macro_f1-score': 0.21969602227422333, 'balanced_accuracy': 0.22987337648560055, 'mcc': 0.4510271036512577, 'train_loss': 0.973527964113689}\n",
      "Epoch 17/20\n"
     ]
    },
    {
     "name": "stderr",
     "output_type": "stream",
     "text": [
      "100%|██████████| 328/328 [00:29<00:00, 11.00it/s]\n"
     ]
    },
    {
     "name": "stdout",
     "output_type": "stream",
     "text": [
      "{'val_loss': 2.6643738764815215, 'val_accuracy': 0.5980167810831426, 'precision': 0.5622622118582169, 'recall': 0.5980167810831426, 'f1-score': 0.5703186707214581, 'macro_f1-score': 0.22232171547369087, 'balanced_accuracy': 0.22736087810105124, 'mcc': 0.4605509269968509, 'train_loss': 0.8995022438012246}\n",
      "Epoch 18/20\n"
     ]
    },
    {
     "name": "stderr",
     "output_type": "stream",
     "text": [
      "100%|██████████| 328/328 [00:29<00:00, 10.98it/s]\n"
     ]
    },
    {
     "name": "stdout",
     "output_type": "stream",
     "text": [
      "{'val_loss': 2.4564797347638665, 'val_accuracy': 0.5911517925247902, 'precision': 0.5909139005153452, 'recall': 0.5911517925247902, 'f1-score': 0.5811272901529372, 'macro_f1-score': 0.27702275799971166, 'balanced_accuracy': 0.2830882811473545, 'mcc': 0.46979354013506985, 'train_loss': 0.8265194146008026}\n",
      "Epoch 19/20\n"
     ]
    },
    {
     "name": "stderr",
     "output_type": "stream",
     "text": [
      "100%|██████████| 328/328 [00:29<00:00, 10.93it/s]\n"
     ]
    },
    {
     "name": "stdout",
     "output_type": "stream",
     "text": [
      "{'val_loss': 2.6998038847998873, 'val_accuracy': 0.601067887109077, 'precision': 0.5755107469119692, 'recall': 0.601067887109077, 'f1-score': 0.5779367927936292, 'macro_f1-score': 0.2462291620465876, 'balanced_accuracy': 0.2566512027829712, 'mcc': 0.46971684727030544, 'train_loss': 0.7651330197411703}\n",
      "Epoch 20/20\n"
     ]
    },
    {
     "name": "stderr",
     "output_type": "stream",
     "text": [
      "100%|██████████| 328/328 [00:29<00:00, 10.96it/s]\n"
     ]
    },
    {
     "name": "stdout",
     "output_type": "stream",
     "text": [
      "{'val_loss': 2.5074531239707296, 'val_accuracy': 0.5697940503432495, 'precision': 0.5849424723925818, 'recall': 0.5697940503432495, 'f1-score': 0.5699662898363825, 'macro_f1-score': 0.2672827224953998, 'balanced_accuracy': 0.28585239486391517, 'mcc': 0.45402191935682085, 'train_loss': 0.7655896273691479}\n",
      "\n",
      "[Fold 4]\n",
      "Label distribution after resampling:\n",
      "  label 0: 2471\n",
      "  label 1: 22\n",
      "  label 2: 64\n",
      "  label 3: 24\n",
      "  label 4: 190\n",
      "  label 5: 113\n",
      "  label 6: 93\n",
      "  label 7: 31\n",
      "  label 8: 68\n",
      "  label 9: 29\n",
      "  label 10: 67\n",
      "  label 11: 169\n",
      "  label 12: 190\n",
      "  label 13: 29\n",
      "  label 14: 22\n",
      "  label 15: 25\n",
      "  label 16: 19\n",
      "  label 17: 182\n",
      "  label 18: 92\n",
      "  label 19: 44\n",
      "  label 20: 14\n",
      "  label 21: 35\n",
      "  label 22: 76\n",
      "  label 23: 158\n",
      "  label 24: 13\n",
      "  label 25: 44\n",
      "  label 26: 84\n",
      "  label 27: 48\n",
      "  label 28: 11\n",
      "  label 29: 13\n",
      "  label 30: 11\n",
      "  label 31: 75\n",
      "  label 32: 36\n",
      "  label 33: 31\n",
      "  label 34: 30\n",
      "  label 35: 11\n",
      "  label 36: 22\n",
      "  label 37: 16\n",
      "  label 38: 33\n",
      "  label 39: 10\n",
      "  label 40: 9\n",
      "  label 41: 56\n",
      "  label 42: 18\n",
      "  label 43: 9\n",
      "  label 44: 55\n",
      "  label 45: 241\n",
      "  label 46: 62\n",
      "  label 47: 80\n",
      "model is roberta-base lstm\n"
     ]
    },
    {
     "name": "stderr",
     "output_type": "stream",
     "text": [
      "Some weights of RobertaModel were not initialized from the model checkpoint at roberta-base and are newly initialized: ['pooler.dense.bias', 'pooler.dense.weight']\n",
      "You should probably TRAIN this model on a down-stream task to be able to use it for predictions and inference.\n"
     ]
    },
    {
     "name": "stdout",
     "output_type": "stream",
     "text": [
      "Using weighted CrossEntropyLoss with weights: tensor([0.7527, 5.4740, 4.4061, 5.3870, 3.3180, 3.8376, 4.0324, 5.1310, 4.3455,\n",
      "        5.1977, 4.3603, 3.4351, 3.3180, 5.1977, 5.4740, 5.3462, 5.6206, 3.3610,\n",
      "        4.0432, 4.7808, 5.9260, 5.0097, 4.2343, 3.5024, 6.0001, 4.7808, 4.1342,\n",
      "        4.6938, 6.1671, 6.0001, 6.1671, 4.2475, 4.9815, 5.1310, 5.1638, 6.1671,\n",
      "        5.4740, 5.7924, 5.0685, 6.2624, 6.3678, 4.5397, 5.6747, 6.3678, 4.5577,\n",
      "        3.0802, 4.4379, 4.1830], device='cuda:0')\n",
      "Epoch 1/20\n"
     ]
    },
    {
     "name": "stderr",
     "output_type": "stream",
     "text": [
      "100%|██████████| 328/328 [00:29<00:00, 10.98it/s]\n"
     ]
    },
    {
     "name": "stdout",
     "output_type": "stream",
     "text": [
      "{'val_loss': 3.1550232637219313, 'val_accuracy': 0.5225019069412662, 'precision': 0.30524458287240763, 'recall': 0.5225019069412662, 'f1-score': 0.3848372137023347, 'macro_f1-score': 0.0396156271504701, 'balanced_accuracy': 0.05669516943293037, 'mcc': 0.269188594130189, 'train_loss': 2.404483232192877}\n",
      "Epoch 2/20\n"
     ]
    },
    {
     "name": "stderr",
     "output_type": "stream",
     "text": [
      "100%|██████████| 328/328 [00:29<00:00, 10.98it/s]\n"
     ]
    },
    {
     "name": "stdout",
     "output_type": "stream",
     "text": [
      "{'val_loss': 3.0942810061501294, 'val_accuracy': 0.5499618611746758, 'precision': 0.3400632762424588, 'recall': 0.5499618611746758, 'f1-score': 0.41840525046280913, 'macro_f1-score': 0.05748353595327235, 'balanced_accuracy': 0.07124957990958876, 'mcc': 0.32023835863458905, 'train_loss': 2.0401529711557598}\n",
      "Epoch 3/20\n"
     ]
    },
    {
     "name": "stderr",
     "output_type": "stream",
     "text": [
      "100%|██████████| 328/328 [00:29<00:00, 10.97it/s]\n"
     ]
    },
    {
     "name": "stdout",
     "output_type": "stream",
     "text": [
      "{'val_loss': 2.852505449841662, 'val_accuracy': 0.559115179252479, 'precision': 0.3935048179199027, 'recall': 0.559115179252479, 'f1-score': 0.4512719959223636, 'macro_f1-score': 0.0693648350641962, 'balanced_accuracy': 0.08855137588428184, 'mcc': 0.3571522468605652, 'train_loss': 1.8523903356456175}\n",
      "Epoch 4/20\n"
     ]
    },
    {
     "name": "stderr",
     "output_type": "stream",
     "text": [
      "100%|██████████| 328/328 [00:29<00:00, 10.96it/s]\n"
     ]
    },
    {
     "name": "stdout",
     "output_type": "stream",
     "text": [
      "{'val_loss': 2.6712358266842076, 'val_accuracy': 0.5545385202135774, 'precision': 0.4174434264115051, 'recall': 0.5545385202135774, 'f1-score': 0.4698199404113015, 'macro_f1-score': 0.08565236065145378, 'balanced_accuracy': 0.10328650653784843, 'mcc': 0.3679939904956239, 'train_loss': 1.7265357925761036}\n",
      "Epoch 5/20\n"
     ]
    },
    {
     "name": "stderr",
     "output_type": "stream",
     "text": [
      "100%|██████████| 328/328 [00:29<00:00, 10.98it/s]\n"
     ]
    },
    {
     "name": "stdout",
     "output_type": "stream",
     "text": [
      "{'val_loss': 2.606379424653402, 'val_accuracy': 0.5728451563691839, 'precision': 0.48048227935268206, 'recall': 0.5728451563691839, 'f1-score': 0.509290901682874, 'macro_f1-score': 0.12234715704356643, 'balanced_accuracy': 0.1379538025896863, 'mcc': 0.4057941785928295, 'train_loss': 1.5822436951282548}\n",
      "Epoch 6/20\n"
     ]
    },
    {
     "name": "stderr",
     "output_type": "stream",
     "text": [
      "100%|██████████| 328/328 [00:29<00:00, 11.00it/s]\n"
     ]
    },
    {
     "name": "stdout",
     "output_type": "stream",
     "text": [
      "{'val_loss': 2.6468054212448076, 'val_accuracy': 0.5736079328756675, 'precision': 0.48508020623860015, 'recall': 0.5736079328756675, 'f1-score': 0.5185557307597403, 'macro_f1-score': 0.12557371848359125, 'balanced_accuracy': 0.14302998805189884, 'mcc': 0.4174149439991624, 'train_loss': 1.462340135490749}\n",
      "Epoch 7/20\n"
     ]
    },
    {
     "name": "stderr",
     "output_type": "stream",
     "text": [
      "100%|██████████| 328/328 [00:29<00:00, 10.95it/s]\n"
     ]
    },
    {
     "name": "stdout",
     "output_type": "stream",
     "text": [
      "{'val_loss': 2.3603389575714018, 'val_accuracy': 0.5606407322654462, 'precision': 0.5625907534391996, 'recall': 0.5606407322654462, 'f1-score': 0.5415323585541839, 'macro_f1-score': 0.17289842076619574, 'balanced_accuracy': 0.20577192043261638, 'mcc': 0.4464589870217723, 'train_loss': 1.3576915406780998}\n",
      "Epoch 8/20\n"
     ]
    },
    {
     "name": "stderr",
     "output_type": "stream",
     "text": [
      "100%|██████████| 328/328 [00:29<00:00, 11.00it/s]\n"
     ]
    },
    {
     "name": "stdout",
     "output_type": "stream",
     "text": [
      "{'val_loss': 2.399267119605367, 'val_accuracy': 0.5751334858886347, 'precision': 0.5275862201965269, 'recall': 0.5751334858886347, 'f1-score': 0.5388646959708416, 'macro_f1-score': 0.16997770689032168, 'balanced_accuracy': 0.18869679373369944, 'mcc': 0.43029901463527803, 'train_loss': 1.2445402932239742}\n",
      "Epoch 9/20\n"
     ]
    },
    {
     "name": "stderr",
     "output_type": "stream",
     "text": [
      "100%|██████████| 328/328 [00:29<00:00, 10.99it/s]\n"
     ]
    },
    {
     "name": "stdout",
     "output_type": "stream",
     "text": [
      "{'val_loss': 2.5505896523231413, 'val_accuracy': 0.6094584286803967, 'precision': 0.5299454504486746, 'recall': 0.6094584286803967, 'f1-score': 0.556342701540977, 'macro_f1-score': 0.1902012485047793, 'balanced_accuracy': 0.199675126752504, 'mcc': 0.4663045055134379, 'train_loss': 1.150300760639877}\n",
      "Epoch 10/20\n"
     ]
    },
    {
     "name": "stderr",
     "output_type": "stream",
     "text": [
      "100%|██████████| 328/328 [00:29<00:00, 10.94it/s]\n"
     ]
    },
    {
     "name": "stdout",
     "output_type": "stream",
     "text": [
      "{'val_loss': 2.3999747935591675, 'val_accuracy': 0.5789473684210527, 'precision': 0.5315852723521366, 'recall': 0.5789473684210527, 'f1-score': 0.5459025686060207, 'macro_f1-score': 0.1890771271187008, 'balanced_accuracy': 0.20685053534753747, 'mcc': 0.4445727880858904, 'train_loss': 1.1229597872531996}\n",
      "Epoch 11/20\n"
     ]
    },
    {
     "name": "stderr",
     "output_type": "stream",
     "text": [
      "100%|██████████| 328/328 [00:29<00:00, 10.98it/s]\n"
     ]
    },
    {
     "name": "stdout",
     "output_type": "stream",
     "text": [
      "{'val_loss': 2.474044695860002, 'val_accuracy': 0.5980167810831426, 'precision': 0.5566823906382576, 'recall': 0.5980167810831426, 'f1-score': 0.5664105229817573, 'macro_f1-score': 0.21439721449875693, 'balanced_accuracy': 0.234516970003797, 'mcc': 0.4681876274689071, 'train_loss': 1.044413122189481}\n",
      "Epoch 12/20\n"
     ]
    },
    {
     "name": "stderr",
     "output_type": "stream",
     "text": [
      "100%|██████████| 328/328 [00:29<00:00, 10.99it/s]\n"
     ]
    },
    {
     "name": "stdout",
     "output_type": "stream",
     "text": [
      "{'val_loss': 2.382562088530238, 'val_accuracy': 0.5789473684210527, 'precision': 0.5686372127418482, 'recall': 0.5789473684210527, 'f1-score': 0.5574366642125401, 'macro_f1-score': 0.22009828834027487, 'balanced_accuracy': 0.23770155441250387, 'mcc': 0.45006519402541895, 'train_loss': 0.9927747442682342}\n",
      "Epoch 13/20\n"
     ]
    },
    {
     "name": "stderr",
     "output_type": "stream",
     "text": [
      "100%|██████████| 328/328 [00:29<00:00, 10.99it/s]\n"
     ]
    },
    {
     "name": "stdout",
     "output_type": "stream",
     "text": [
      "{'val_loss': 2.4966749650676077, 'val_accuracy': 0.6033562166285278, 'precision': 0.5631064754130799, 'recall': 0.6033562166285278, 'f1-score': 0.5747319257689655, 'macro_f1-score': 0.23049136826067096, 'balanced_accuracy': 0.2360697954938269, 'mcc': 0.4654204918126213, 'train_loss': 0.8870812892550375}\n",
      "Epoch 14/20\n"
     ]
    },
    {
     "name": "stderr",
     "output_type": "stream",
     "text": [
      "100%|██████████| 328/328 [00:29<00:00, 10.99it/s]\n"
     ]
    },
    {
     "name": "stdout",
     "output_type": "stream",
     "text": [
      "{'val_loss': 2.62446140261685, 'val_accuracy': 0.6132723112128147, 'precision': 0.5852833504042575, 'recall': 0.6132723112128147, 'f1-score': 0.583868114083347, 'macro_f1-score': 0.2503471706882926, 'balanced_accuracy': 0.2487210972005981, 'mcc': 0.4776057202672301, 'train_loss': 0.8288132722330529}\n",
      "Epoch 15/20\n"
     ]
    },
    {
     "name": "stderr",
     "output_type": "stream",
     "text": [
      "100%|██████████| 328/328 [00:29<00:00, 10.96it/s]\n"
     ]
    },
    {
     "name": "stdout",
     "output_type": "stream",
     "text": [
      "{'val_loss': 2.3727160592268155, 'val_accuracy': 0.6117467581998475, 'precision': 0.6025533154336417, 'recall': 0.6117467581998475, 'f1-score': 0.5958231577757135, 'macro_f1-score': 0.26405872181681683, 'balanced_accuracy': 0.28565562903281705, 'mcc': 0.49179800201592366, 'train_loss': 0.7651362214691755}\n",
      "Epoch 16/20\n"
     ]
    },
    {
     "name": "stderr",
     "output_type": "stream",
     "text": [
      "100%|██████████| 328/328 [00:29<00:00, 10.99it/s]\n"
     ]
    },
    {
     "name": "stdout",
     "output_type": "stream",
     "text": [
      "{'val_loss': 2.3611959164462437, 'val_accuracy': 0.6117467581998475, 'precision': 0.594313541259494, 'recall': 0.6117467581998475, 'f1-score': 0.5980342992802209, 'macro_f1-score': 0.3050885306840771, 'balanced_accuracy': 0.3223953098929812, 'mcc': 0.4949352354629793, 'train_loss': 0.7252497254848117}\n",
      "Epoch 17/20\n"
     ]
    },
    {
     "name": "stderr",
     "output_type": "stream",
     "text": [
      "100%|██████████| 328/328 [00:29<00:00, 11.00it/s]\n"
     ]
    },
    {
     "name": "stdout",
     "output_type": "stream",
     "text": [
      "{'val_loss': 2.2773226594052662, 'val_accuracy': 0.559115179252479, 'precision': 0.6160316103029234, 'recall': 0.559115179252479, 'f1-score': 0.5721586222288769, 'macro_f1-score': 0.2770777865699028, 'balanced_accuracy': 0.3082756098642892, 'mcc': 0.4618636501023768, 'train_loss': 0.685213666023096}\n",
      "Epoch 18/20\n"
     ]
    },
    {
     "name": "stderr",
     "output_type": "stream",
     "text": [
      "100%|██████████| 328/328 [00:29<00:00, 10.97it/s]\n"
     ]
    },
    {
     "name": "stdout",
     "output_type": "stream",
     "text": [
      "{'val_loss': 2.536566735040851, 'val_accuracy': 0.6094584286803967, 'precision': 0.5854558135951916, 'recall': 0.6094584286803967, 'f1-score': 0.5870613295680578, 'macro_f1-score': 0.2749115950366915, 'balanced_accuracy': 0.28832957397155784, 'mcc': 0.48319105695314296, 'train_loss': 0.6287005224333304}\n",
      "Epoch 19/20\n"
     ]
    },
    {
     "name": "stderr",
     "output_type": "stream",
     "text": [
      "100%|██████████| 328/328 [00:29<00:00, 11.00it/s]\n"
     ]
    },
    {
     "name": "stdout",
     "output_type": "stream",
     "text": [
      "{'val_loss': 2.731562954623525, 'val_accuracy': 0.5987795575896262, 'precision': 0.5693702598373221, 'recall': 0.5987795575896262, 'f1-score': 0.5724725456168299, 'macro_f1-score': 0.2760400939662712, 'balanced_accuracy': 0.2720463343076869, 'mcc': 0.4622729363472273, 'train_loss': 0.5694950587434194}\n",
      "Early stopping.\n",
      "\n",
      "[Fold 5]\n",
      "Label distribution after resampling:\n",
      "  label 0: 2472\n",
      "  label 1: 21\n",
      "  label 2: 64\n",
      "  label 3: 24\n",
      "  label 4: 191\n",
      "  label 5: 112\n",
      "  label 6: 92\n",
      "  label 7: 31\n",
      "  label 8: 68\n",
      "  label 9: 29\n",
      "  label 10: 68\n",
      "  label 11: 168\n",
      "  label 12: 190\n",
      "  label 13: 29\n",
      "  label 14: 22\n",
      "  label 15: 25\n",
      "  label 16: 19\n",
      "  label 17: 183\n",
      "  label 18: 92\n",
      "  label 19: 44\n",
      "  label 20: 14\n",
      "  label 21: 35\n",
      "  label 22: 76\n",
      "  label 23: 158\n",
      "  label 24: 13\n",
      "  label 25: 44\n",
      "  label 26: 84\n",
      "  label 27: 48\n",
      "  label 28: 11\n",
      "  label 29: 13\n",
      "  label 30: 11\n",
      "  label 31: 75\n",
      "  label 32: 36\n",
      "  label 33: 31\n",
      "  label 34: 30\n",
      "  label 35: 11\n",
      "  label 36: 22\n",
      "  label 37: 16\n",
      "  label 38: 33\n",
      "  label 39: 10\n",
      "  label 40: 9\n",
      "  label 41: 57\n",
      "  label 42: 18\n",
      "  label 43: 9\n",
      "  label 44: 54\n",
      "  label 45: 242\n",
      "  label 46: 61\n",
      "  label 47: 80\n",
      "model is roberta-base lstm\n"
     ]
    },
    {
     "name": "stderr",
     "output_type": "stream",
     "text": [
      "Some weights of RobertaModel were not initialized from the model checkpoint at roberta-base and are newly initialized: ['pooler.dense.bias', 'pooler.dense.weight']\n",
      "You should probably TRAIN this model on a down-stream task to be able to use it for predictions and inference.\n"
     ]
    },
    {
     "name": "stdout",
     "output_type": "stream",
     "text": [
      "Using weighted CrossEntropyLoss with weights: tensor([0.7522, 5.5205, 4.4061, 5.3870, 3.3128, 3.8465, 4.0432, 5.1310, 4.3455,\n",
      "        5.1977, 4.3455, 3.4411, 3.3180, 5.1977, 5.4740, 5.3462, 5.6206, 3.3555,\n",
      "        4.0432, 4.7808, 5.9260, 5.0097, 4.2343, 3.5024, 6.0001, 4.7808, 4.1342,\n",
      "        4.6938, 6.1671, 6.0001, 6.1671, 4.2475, 4.9815, 5.1310, 5.1638, 6.1671,\n",
      "        5.4740, 5.7924, 5.0685, 6.2624, 6.3678, 4.5220, 5.6747, 6.3678, 4.5760,\n",
      "        3.0761, 4.4542, 4.1830], device='cuda:0')\n",
      "Epoch 1/20\n"
     ]
    },
    {
     "name": "stderr",
     "output_type": "stream",
     "text": [
      "100%|██████████| 328/328 [00:29<00:00, 10.98it/s]\n"
     ]
    },
    {
     "name": "stdout",
     "output_type": "stream",
     "text": [
      "{'val_loss': 3.336297625448646, 'val_accuracy': 0.5186880244088482, 'precision': 0.3304382541515666, 'recall': 0.5186880244088482, 'f1-score': 0.392633516141566, 'macro_f1-score': 0.03607559659986687, 'balanced_accuracy': 0.05132604748184164, 'mcc': 0.2874845999073941, 'train_loss': 2.367938543238291}\n",
      "Epoch 2/20\n"
     ]
    },
    {
     "name": "stderr",
     "output_type": "stream",
     "text": [
      "100%|██████████| 328/328 [00:29<00:00, 10.96it/s]\n"
     ]
    },
    {
     "name": "stdout",
     "output_type": "stream",
     "text": [
      "{'val_loss': 3.029630134745342, 'val_accuracy': 0.5377574370709383, 'precision': 0.3516654594439329, 'recall': 0.5377574370709383, 'f1-score': 0.42375537980807987, 'macro_f1-score': 0.05764011929345004, 'balanced_accuracy': 0.07959978311431233, 'mcc': 0.32395536747701636, 'train_loss': 2.0697791981624394}\n",
      "Epoch 3/20\n"
     ]
    },
    {
     "name": "stderr",
     "output_type": "stream",
     "text": [
      "100%|██████████| 328/328 [00:29<00:00, 10.98it/s]\n"
     ]
    },
    {
     "name": "stdout",
     "output_type": "stream",
     "text": [
      "{'val_loss': 2.8797695505909804, 'val_accuracy': 0.5621662852784134, 'precision': 0.36175875177642214, 'recall': 0.5621662852784134, 'f1-score': 0.43769717898801525, 'macro_f1-score': 0.06113586737801562, 'balanced_accuracy': 0.08742789681235759, 'mcc': 0.3629998359526083, 'train_loss': 1.881261968394605}\n",
      "Epoch 4/20\n"
     ]
    },
    {
     "name": "stderr",
     "output_type": "stream",
     "text": [
      "100%|██████████| 328/328 [00:29<00:00, 10.99it/s]\n"
     ]
    },
    {
     "name": "stdout",
     "output_type": "stream",
     "text": [
      "{'val_loss': 2.806752017358454, 'val_accuracy': 0.5774218154080855, 'precision': 0.43725522406041034, 'recall': 0.5774218154080855, 'f1-score': 0.4858824715807023, 'macro_f1-score': 0.08728332609945172, 'balanced_accuracy': 0.10323416449638113, 'mcc': 0.3988631544509514, 'train_loss': 1.7099375421317613}\n",
      "Epoch 5/20\n"
     ]
    },
    {
     "name": "stderr",
     "output_type": "stream",
     "text": [
      "100%|██████████| 328/328 [00:29<00:00, 11.00it/s]\n"
     ]
    },
    {
     "name": "stdout",
     "output_type": "stream",
     "text": [
      "{'val_loss': 2.7377289344624773, 'val_accuracy': 0.5690312738367659, 'precision': 0.4818463837568094, 'recall': 0.5690312738367659, 'f1-score': 0.49418495005780344, 'macro_f1-score': 0.11041279528133734, 'balanced_accuracy': 0.13085892189242265, 'mcc': 0.4022189172421433, 'train_loss': 1.5941253893259095}\n",
      "Epoch 6/20\n"
     ]
    },
    {
     "name": "stderr",
     "output_type": "stream",
     "text": [
      "100%|██████████| 328/328 [00:29<00:00, 10.98it/s]\n"
     ]
    },
    {
     "name": "stdout",
     "output_type": "stream",
     "text": [
      "{'val_loss': 2.4785973298840407, 'val_accuracy': 0.5942028985507246, 'precision': 0.5196411269785022, 'recall': 0.5942028985507246, 'f1-score': 0.5418446450878845, 'macro_f1-score': 0.15974457283621213, 'balanced_accuracy': 0.17420842235711542, 'mcc': 0.4522963817500436, 'train_loss': 1.4749131583404251}\n",
      "Epoch 7/20\n"
     ]
    },
    {
     "name": "stderr",
     "output_type": "stream",
     "text": [
      "100%|██████████| 328/328 [00:29<00:00, 10.98it/s]\n"
     ]
    },
    {
     "name": "stdout",
     "output_type": "stream",
     "text": [
      "{'val_loss': 2.6315852163768394, 'val_accuracy': 0.5812356979405034, 'precision': 0.5029797048434961, 'recall': 0.5812356979405034, 'f1-score': 0.5223731054776796, 'macro_f1-score': 0.15474985711991857, 'balanced_accuracy': 0.15951726379888903, 'mcc': 0.4180366157174821, 'train_loss': 1.3820434062764413}\n",
      "Epoch 8/20\n"
     ]
    },
    {
     "name": "stderr",
     "output_type": "stream",
     "text": [
      "100%|██████████| 328/328 [00:29<00:00, 10.99it/s]\n"
     ]
    },
    {
     "name": "stdout",
     "output_type": "stream",
     "text": [
      "{'val_loss': 2.6246113966150983, 'val_accuracy': 0.6033562166285278, 'precision': 0.5096787878638361, 'recall': 0.6033562166285278, 'f1-score': 0.5348000576570192, 'macro_f1-score': 0.17666647177979714, 'balanced_accuracy': 0.18365200248794453, 'mcc': 0.4413600100259023, 'train_loss': 1.2778410001135454}\n",
      "Epoch 9/20\n"
     ]
    },
    {
     "name": "stderr",
     "output_type": "stream",
     "text": [
      "100%|██████████| 328/328 [00:29<00:00, 11.00it/s]\n"
     ]
    },
    {
     "name": "stdout",
     "output_type": "stream",
     "text": [
      "{'val_loss': 2.3209640238343217, 'val_accuracy': 0.6125095347063311, 'precision': 0.578718284034746, 'recall': 0.6125095347063311, 'f1-score': 0.5781485874601074, 'macro_f1-score': 0.2328218145724478, 'balanced_accuracy': 0.23272984888427187, 'mcc': 0.47927412401889896, 'train_loss': 1.1685526471857617}\n",
      "Epoch 10/20\n"
     ]
    },
    {
     "name": "stderr",
     "output_type": "stream",
     "text": [
      "100%|██████████| 328/328 [00:29<00:00, 10.96it/s]\n"
     ]
    },
    {
     "name": "stdout",
     "output_type": "stream",
     "text": [
      "{'val_loss': 2.1928952634334564, 'val_accuracy': 0.6231884057971014, 'precision': 0.5953280121453751, 'recall': 0.6231884057971014, 'f1-score': 0.5994157004990344, 'macro_f1-score': 0.27860155111947565, 'balanced_accuracy': 0.2841065633139647, 'mcc': 0.5046151868240563, 'train_loss': 1.0904892060178808}\n",
      "Epoch 11/20\n"
     ]
    },
    {
     "name": "stderr",
     "output_type": "stream",
     "text": [
      "100%|██████████| 328/328 [00:29<00:00, 11.00it/s]\n"
     ]
    },
    {
     "name": "stdout",
     "output_type": "stream",
     "text": [
      "{'val_loss': 2.356072535602058, 'val_accuracy': 0.6064073226544623, 'precision': 0.5628093651692734, 'recall': 0.6064073226544623, 'f1-score': 0.5758782747655578, 'macro_f1-score': 0.24443908878369255, 'balanced_accuracy': 0.2543064769342424, 'mcc': 0.47761267278582453, 'train_loss': 1.0169537667548512}\n",
      "Epoch 12/20\n"
     ]
    },
    {
     "name": "stderr",
     "output_type": "stream",
     "text": [
      "100%|██████████| 328/328 [00:29<00:00, 10.99it/s]\n"
     ]
    },
    {
     "name": "stdout",
     "output_type": "stream",
     "text": [
      "{'val_loss': 2.211027534996591, 'val_accuracy': 0.5911517925247902, 'precision': 0.6009682336164854, 'recall': 0.5911517925247902, 'f1-score': 0.5833115548194809, 'macro_f1-score': 0.26031167253203985, 'balanced_accuracy': 0.27814331503644935, 'mcc': 0.47949235854278044, 'train_loss': 0.9452877553497873}\n",
      "Epoch 13/20\n"
     ]
    },
    {
     "name": "stderr",
     "output_type": "stream",
     "text": [
      "100%|██████████| 328/328 [00:29<00:00, 10.94it/s]\n"
     ]
    },
    {
     "name": "stdout",
     "output_type": "stream",
     "text": [
      "{'val_loss': 2.235607624053955, 'val_accuracy': 0.635392829900839, 'precision': 0.6110376607622343, 'recall': 0.635392829900839, 'f1-score': 0.6131477558860555, 'macro_f1-score': 0.29395919760564965, 'balanced_accuracy': 0.3049022031068132, 'mcc': 0.5204209199665977, 'train_loss': 0.8367242277259144}\n",
      "Epoch 14/20\n"
     ]
    },
    {
     "name": "stderr",
     "output_type": "stream",
     "text": [
      "100%|██████████| 328/328 [00:29<00:00, 10.99it/s]\n"
     ]
    },
    {
     "name": "stdout",
     "output_type": "stream",
     "text": [
      "{'val_loss': 2.2789997792825467, 'val_accuracy': 0.6445461479786423, 'precision': 0.6012892843701954, 'recall': 0.6445461479786423, 'f1-score': 0.6158762906974963, 'macro_f1-score': 0.2995847344298124, 'balanced_accuracy': 0.31277790983006293, 'mcc': 0.5289486123470573, 'train_loss': 0.8002555686980486}\n",
      "Epoch 15/20\n"
     ]
    },
    {
     "name": "stderr",
     "output_type": "stream",
     "text": [
      "100%|██████████| 328/328 [00:29<00:00, 10.99it/s]\n"
     ]
    },
    {
     "name": "stdout",
     "output_type": "stream",
     "text": [
      "{'val_loss': 2.5240289488943612, 'val_accuracy': 0.6483600305110603, 'precision': 0.605774190011464, 'recall': 0.6483600305110603, 'f1-score': 0.6159230828108668, 'macro_f1-score': 0.29392816937834637, 'balanced_accuracy': 0.2920039506283373, 'mcc': 0.5258506470731064, 'train_loss': 0.7428565778337964}\n",
      "Epoch 16/20\n"
     ]
    },
    {
     "name": "stderr",
     "output_type": "stream",
     "text": [
      "100%|██████████| 328/328 [00:29<00:00, 11.00it/s]\n"
     ]
    },
    {
     "name": "stdout",
     "output_type": "stream",
     "text": [
      "{'val_loss': 2.262172571769575, 'val_accuracy': 0.6231884057971014, 'precision': 0.6164876810380445, 'recall': 0.6231884057971014, 'f1-score': 0.6093249942881388, 'macro_f1-score': 0.29381761587068245, 'balanced_accuracy': 0.31190804109740494, 'mcc': 0.512050657140102, 'train_loss': 0.6845469079093962}\n",
      "Epoch 17/20\n"
     ]
    },
    {
     "name": "stderr",
     "output_type": "stream",
     "text": [
      "100%|██████████| 328/328 [00:29<00:00, 10.97it/s]\n"
     ]
    },
    {
     "name": "stdout",
     "output_type": "stream",
     "text": [
      "{'val_loss': 2.213091162646689, 'val_accuracy': 0.6079328756674295, 'precision': 0.6297619354638293, 'recall': 0.6079328756674295, 'f1-score': 0.6048814096258704, 'macro_f1-score': 0.34031431890098823, 'balanced_accuracy': 0.34891482129038504, 'mcc': 0.5053190266965928, 'train_loss': 0.6305976465753302}\n",
      "Epoch 18/20\n"
     ]
    },
    {
     "name": "stderr",
     "output_type": "stream",
     "text": [
      "100%|██████████| 328/328 [00:29<00:00, 10.97it/s]\n"
     ]
    },
    {
     "name": "stdout",
     "output_type": "stream",
     "text": [
      "{'val_loss': 2.2825860671880767, 'val_accuracy': 0.6292906178489702, 'precision': 0.6283834312403589, 'recall': 0.6292906178489702, 'f1-score': 0.6192468913987611, 'macro_f1-score': 0.3306142729161921, 'balanced_accuracy': 0.3323856662052682, 'mcc': 0.5198874780927071, 'train_loss': 0.6149659621779148}\n",
      "Epoch 19/20\n"
     ]
    },
    {
     "name": "stderr",
     "output_type": "stream",
     "text": [
      "100%|██████████| 328/328 [00:29<00:00, 11.00it/s]\n"
     ]
    },
    {
     "name": "stdout",
     "output_type": "stream",
     "text": [
      "{'val_loss': 2.3002977418463404, 'val_accuracy': 0.6216628527841342, 'precision': 0.6246080447850764, 'recall': 0.6216628527841342, 'f1-score': 0.6167194409174878, 'macro_f1-score': 0.34891242159823316, 'balanced_accuracy': 0.35907629002095326, 'mcc': 0.509758668910509, 'train_loss': 0.5448387992545599}\n",
      "Epoch 20/20\n"
     ]
    },
    {
     "name": "stderr",
     "output_type": "stream",
     "text": [
      "100%|██████████| 328/328 [00:29<00:00, 11.00it/s]\n"
     ]
    },
    {
     "name": "stdout",
     "output_type": "stream",
     "text": [
      "{'val_loss': 2.507326068674646, 'val_accuracy': 0.6270022883295194, 'precision': 0.636343693250555, 'recall': 0.6270022883295194, 'f1-score': 0.6187883807203761, 'macro_f1-score': 0.3412257257968869, 'balanced_accuracy': 0.3466652843837454, 'mcc': 0.5090599838885063, 'train_loss': 0.5386289627086825}\n",
      "\n",
      " === roberta-base + lstm + none Final 5-fold Cross-Validation Results ===\n",
      "val_loss: 2.5982\n",
      "val_accuracy: 0.5856\n",
      "precision: 0.5401\n",
      "recall: 0.5856\n",
      "f1-score: 0.5468\n",
      "macro_f1-score: 0.2455\n",
      "balanced_accuracy: 0.2550\n",
      "mcc: 0.4335\n",
      "train_loss: 1.0541\n",
      "total_seconds: 2728.0000\n",
      "total_time: 0 hrs 45 mins 28 secs\n",
      "▶ Running: roberta-base + bilstm + none\n",
      "tokenizer is roberta-base\n",
      "Using device: cuda\n",
      "CUDA Available: True\n",
      "CUDA Device: NVIDIA GeForce RTX 5070 Ti\n",
      "Current GPU Memory Allocated: 0.02 GB\n",
      "Current GPU Memory Cached: 3.82 GB\n",
      "\n",
      "[Fold 1]\n",
      "Label distribution after resampling:\n",
      "  label 0: 2471\n",
      "  label 1: 21\n",
      "  label 2: 64\n",
      "  label 3: 24\n",
      "  label 4: 191\n",
      "  label 5: 113\n",
      "  label 6: 93\n",
      "  label 7: 30\n",
      "  label 8: 68\n",
      "  label 9: 30\n",
      "  label 10: 67\n",
      "  label 11: 169\n",
      "  label 12: 189\n",
      "  label 13: 29\n",
      "  label 14: 22\n",
      "  label 15: 25\n",
      "  label 16: 19\n",
      "  label 17: 183\n",
      "  label 18: 92\n",
      "  label 19: 44\n",
      "  label 20: 13\n",
      "  label 21: 35\n",
      "  label 22: 76\n",
      "  label 23: 158\n",
      "  label 24: 13\n",
      "  label 25: 44\n",
      "  label 26: 84\n",
      "  label 27: 48\n",
      "  label 28: 11\n",
      "  label 29: 13\n",
      "  label 30: 11\n",
      "  label 31: 75\n",
      "  label 32: 36\n",
      "  label 33: 32\n",
      "  label 34: 29\n",
      "  label 35: 11\n",
      "  label 36: 22\n",
      "  label 37: 16\n",
      "  label 38: 33\n",
      "  label 39: 10\n",
      "  label 40: 9\n",
      "  label 41: 57\n",
      "  label 42: 19\n",
      "  label 43: 8\n",
      "  label 44: 54\n",
      "  label 45: 242\n",
      "  label 46: 61\n",
      "  label 47: 80\n",
      "model is roberta-base bilstm\n"
     ]
    },
    {
     "name": "stderr",
     "output_type": "stream",
     "text": [
      "Some weights of RobertaModel were not initialized from the model checkpoint at roberta-base and are newly initialized: ['pooler.dense.bias', 'pooler.dense.weight']\n",
      "You should probably TRAIN this model on a down-stream task to be able to use it for predictions and inference.\n"
     ]
    },
    {
     "name": "stdout",
     "output_type": "stream",
     "text": [
      "Using weighted CrossEntropyLoss with weights: tensor([0.7525, 5.5203, 4.4060, 5.3868, 3.3126, 3.8375, 4.0322, 5.1636, 4.3453,\n",
      "        5.1636, 4.3601, 3.4349, 3.3231, 5.1975, 5.4738, 5.3460, 5.6204, 3.3554,\n",
      "        4.0431, 4.7807, 5.9999, 5.0095, 4.2341, 3.5022, 5.9999, 4.7807, 4.1340,\n",
      "        4.6936, 6.1669, 5.9999, 6.1669, 4.2474, 4.9813, 5.0991, 5.1975, 6.1669,\n",
      "        5.4738, 5.7923, 5.0683, 6.2623, 6.3676, 4.5218, 5.6204, 6.4854, 4.5759,\n",
      "        3.0759, 4.4540, 4.1828], device='cuda:0')\n",
      "Epoch 1/20\n"
     ]
    },
    {
     "name": "stderr",
     "output_type": "stream",
     "text": [
      "100%|██████████| 328/328 [00:31<00:00, 10.58it/s]\n"
     ]
    },
    {
     "name": "stdout",
     "output_type": "stream",
     "text": [
      "{'val_loss': 3.485611328264562, 'val_accuracy': 0.5091463414634146, 'precision': 0.27107116043135315, 'recall': 0.5091463414634146, 'f1-score': 0.35234786088568254, 'macro_f1-score': 0.023762442325181682, 'balanced_accuracy': 0.03976200107874865, 'mcc': 0.229510211414806, 'train_loss': 2.462655706376564}\n",
      "Epoch 2/20\n"
     ]
    },
    {
     "name": "stderr",
     "output_type": "stream",
     "text": [
      "100%|██████████| 328/328 [00:30<00:00, 10.61it/s]\n"
     ]
    },
    {
     "name": "stdout",
     "output_type": "stream",
     "text": [
      "{'val_loss': 3.2923829119379926, 'val_accuracy': 0.5403963414634146, 'precision': 0.33729764650051813, 'recall': 0.5403963414634146, 'f1-score': 0.4031087521547897, 'macro_f1-score': 0.050327963606082736, 'balanced_accuracy': 0.07016426940190108, 'mcc': 0.305940878594516, 'train_loss': 2.1802796383456484}\n",
      "Epoch 3/20\n"
     ]
    },
    {
     "name": "stderr",
     "output_type": "stream",
     "text": [
      "100%|██████████| 328/328 [00:30<00:00, 10.60it/s]\n"
     ]
    },
    {
     "name": "stdout",
     "output_type": "stream",
     "text": [
      "{'val_loss': 3.2777754460893025, 'val_accuracy': 0.524390243902439, 'precision': 0.28945649182442174, 'recall': 0.524390243902439, 'f1-score': 0.3729508942734467, 'macro_f1-score': 0.03947348455089206, 'balanced_accuracy': 0.05646799712333694, 'mcc': 0.26118732856517657, 'train_loss': 2.072395514969419}\n",
      "Epoch 4/20\n"
     ]
    },
    {
     "name": "stderr",
     "output_type": "stream",
     "text": [
      "100%|██████████| 328/328 [00:31<00:00, 10.51it/s]\n"
     ]
    },
    {
     "name": "stdout",
     "output_type": "stream",
     "text": [
      "{'val_loss': 3.085087734024699, 'val_accuracy': 0.5121951219512195, 'precision': 0.3509869172281292, 'recall': 0.5121951219512195, 'f1-score': 0.40957410899675545, 'macro_f1-score': 0.04508291358695348, 'balanced_accuracy': 0.07486603932295681, 'mcc': 0.3081146903458355, 'train_loss': 2.054611821000169}\n",
      "Epoch 5/20\n"
     ]
    },
    {
     "name": "stderr",
     "output_type": "stream",
     "text": [
      "100%|██████████| 328/328 [00:30<00:00, 10.60it/s]\n"
     ]
    },
    {
     "name": "stdout",
     "output_type": "stream",
     "text": [
      "{'val_loss': 3.18305471612186, 'val_accuracy': 0.5342987804878049, 'precision': 0.3373479132952965, 'recall': 0.5342987804878049, 'f1-score': 0.41238719512372196, 'macro_f1-score': 0.05040754943290673, 'balanced_accuracy': 0.0708153541891406, 'mcc': 0.30790372648743725, 'train_loss': 1.938322009836755}\n",
      "Epoch 6/20\n"
     ]
    },
    {
     "name": "stderr",
     "output_type": "stream",
     "text": [
      "100%|██████████| 328/328 [00:31<00:00, 10.58it/s]\n"
     ]
    },
    {
     "name": "stdout",
     "output_type": "stream",
     "text": [
      "{'val_loss': 3.0876899252577528, 'val_accuracy': 0.5137195121951219, 'precision': 0.347298076356051, 'recall': 0.5137195121951219, 'f1-score': 0.405084296236304, 'macro_f1-score': 0.04462156170861881, 'balanced_accuracy': 0.07728646282470387, 'mcc': 0.30872384776188583, 'train_loss': 1.8853910060190573}\n",
      "Epoch 7/20\n"
     ]
    },
    {
     "name": "stderr",
     "output_type": "stream",
     "text": [
      "100%|██████████| 328/328 [00:30<00:00, 10.61it/s]\n"
     ]
    },
    {
     "name": "stdout",
     "output_type": "stream",
     "text": [
      "{'val_loss': 3.1578912931244547, 'val_accuracy': 0.4916158536585366, 'precision': 0.3649813216465487, 'recall': 0.4916158536585366, 'f1-score': 0.4114267414475635, 'macro_f1-score': 0.04322824201288843, 'balanced_accuracy': 0.07005065992749322, 'mcc': 0.3005326569737379, 'train_loss': 1.921188226196824}\n",
      "Epoch 8/20\n"
     ]
    },
    {
     "name": "stderr",
     "output_type": "stream",
     "text": [
      "100%|██████████| 328/328 [00:31<00:00, 10.57it/s]\n"
     ]
    },
    {
     "name": "stdout",
     "output_type": "stream",
     "text": [
      "{'val_loss': 3.327000107707047, 'val_accuracy': 0.5076219512195121, 'precision': 0.2977205667105771, 'recall': 0.5076219512195121, 'f1-score': 0.34791935593265705, 'macro_f1-score': 0.02652226175803213, 'balanced_accuracy': 0.04012383135562747, 'mcc': 0.21467077304278517, 'train_loss': 2.1528858446129937}\n",
      "Early stopping.\n",
      "\n",
      "[Fold 2]\n",
      "Label distribution after resampling:\n",
      "  label 0: 2471\n",
      "  label 1: 22\n",
      "  label 2: 64\n",
      "  label 3: 24\n",
      "  label 4: 190\n",
      "  label 5: 113\n",
      "  label 6: 93\n",
      "  label 7: 30\n",
      "  label 8: 68\n",
      "  label 9: 30\n",
      "  label 10: 67\n",
      "  label 11: 169\n",
      "  label 12: 189\n",
      "  label 13: 29\n",
      "  label 14: 23\n",
      "  label 15: 24\n",
      "  label 16: 20\n",
      "  label 17: 182\n",
      "  label 18: 92\n",
      "  label 19: 44\n",
      "  label 20: 13\n",
      "  label 21: 36\n",
      "  label 22: 76\n",
      "  label 23: 157\n",
      "  label 24: 12\n",
      "  label 25: 44\n",
      "  label 26: 84\n",
      "  label 27: 48\n",
      "  label 28: 12\n",
      "  label 29: 12\n",
      "  label 30: 12\n",
      "  label 31: 75\n",
      "  label 32: 36\n",
      "  label 33: 31\n",
      "  label 34: 29\n",
      "  label 35: 12\n",
      "  label 36: 21\n",
      "  label 37: 16\n",
      "  label 38: 33\n",
      "  label 39: 11\n",
      "  label 40: 8\n",
      "  label 41: 57\n",
      "  label 42: 19\n",
      "  label 43: 9\n",
      "  label 44: 54\n",
      "  label 45: 242\n",
      "  label 46: 62\n",
      "  label 47: 80\n",
      "model is roberta-base bilstm\n"
     ]
    },
    {
     "name": "stderr",
     "output_type": "stream",
     "text": [
      "Some weights of RobertaModel were not initialized from the model checkpoint at roberta-base and are newly initialized: ['pooler.dense.bias', 'pooler.dense.weight']\n",
      "You should probably TRAIN this model on a down-stream task to be able to use it for predictions and inference.\n"
     ]
    },
    {
     "name": "stdout",
     "output_type": "stream",
     "text": [
      "Using weighted CrossEntropyLoss with weights: tensor([0.7527, 5.4740, 4.4061, 5.3870, 3.3180, 3.8376, 4.0324, 5.1638, 4.3455,\n",
      "        5.1638, 4.3603, 3.4351, 3.3233, 5.1977, 5.4295, 5.3870, 5.5693, 3.3610,\n",
      "        4.0432, 4.7808, 6.0001, 4.9815, 4.2343, 3.5088, 6.0801, 4.7808, 4.1342,\n",
      "        4.6938, 6.0801, 6.0801, 6.0801, 4.2475, 4.9815, 5.1310, 5.1977, 6.0801,\n",
      "        5.5205, 5.7924, 5.0685, 6.1671, 6.4856, 4.5220, 5.6206, 6.3678, 4.5760,\n",
      "        3.0761, 4.4379, 4.1830], device='cuda:0')\n",
      "Epoch 1/20\n"
     ]
    },
    {
     "name": "stderr",
     "output_type": "stream",
     "text": [
      "100%|██████████| 328/328 [00:31<00:00, 10.57it/s]\n"
     ]
    },
    {
     "name": "stdout",
     "output_type": "stream",
     "text": [
      "{'val_loss': 3.358225156621235, 'val_accuracy': 0.5003813882532419, 'precision': 0.32720311797958274, 'recall': 0.5003813882532419, 'f1-score': 0.3885789090999364, 'macro_f1-score': 0.03129276254960811, 'balanced_accuracy': 0.052035258665165805, 'mcc': 0.28318570312965846, 'train_loss': 2.498600232528477}\n",
      "Epoch 2/20\n"
     ]
    },
    {
     "name": "stderr",
     "output_type": "stream",
     "text": [
      "100%|██████████| 328/328 [00:30<00:00, 10.61it/s]\n"
     ]
    },
    {
     "name": "stdout",
     "output_type": "stream",
     "text": [
      "{'val_loss': 3.4397314438005773, 'val_accuracy': 0.47139588100686497, 'precision': 0.2222140766302384, 'recall': 0.47139588100686497, 'f1-score': 0.302045261236125, 'macro_f1-score': 0.01334888543286677, 'balanced_accuracy': 0.020833333333333332, 'mcc': 0.0, 'train_loss': 2.377551356466805}\n",
      "Epoch 3/20\n"
     ]
    },
    {
     "name": "stderr",
     "output_type": "stream",
     "text": [
      "100%|██████████| 328/328 [00:31<00:00, 10.53it/s]\n"
     ]
    },
    {
     "name": "stdout",
     "output_type": "stream",
     "text": [
      "{'val_loss': 3.5949590002618184, 'val_accuracy': 0.482837528604119, 'precision': 0.24399454181845828, 'recall': 0.482837528604119, 'f1-score': 0.32412381518671723, 'macro_f1-score': 0.02282722472190976, 'balanced_accuracy': 0.03307625111392524, 'mcc': 0.12882773549019919, 'train_loss': 2.384862673355312}\n",
      "Epoch 4/20\n"
     ]
    },
    {
     "name": "stderr",
     "output_type": "stream",
     "text": [
      "100%|██████████| 328/328 [00:30<00:00, 10.59it/s]\n"
     ]
    },
    {
     "name": "stdout",
     "output_type": "stream",
     "text": [
      "{'val_loss': 3.7748165624897654, 'val_accuracy': 0.47139588100686497, 'precision': 0.2222140766302384, 'recall': 0.47139588100686497, 'f1-score': 0.302045261236125, 'macro_f1-score': 0.01334888543286677, 'balanced_accuracy': 0.020833333333333332, 'mcc': 0.0, 'train_loss': 2.496562492193245}\n",
      "Early stopping.\n",
      "\n",
      "[Fold 3]\n",
      "Label distribution after resampling:\n",
      "  label 0: 2471\n",
      "  label 1: 22\n",
      "  label 2: 64\n",
      "  label 3: 24\n",
      "  label 4: 190\n",
      "  label 5: 113\n",
      "  label 6: 93\n",
      "  label 7: 30\n",
      "  label 8: 68\n",
      "  label 9: 30\n",
      "  label 10: 67\n",
      "  label 11: 169\n",
      "  label 12: 190\n",
      "  label 13: 28\n",
      "  label 14: 23\n",
      "  label 15: 25\n",
      "  label 16: 19\n",
      "  label 17: 182\n",
      "  label 18: 92\n",
      "  label 19: 44\n",
      "  label 20: 14\n",
      "  label 21: 35\n",
      "  label 22: 76\n",
      "  label 23: 157\n",
      "  label 24: 13\n",
      "  label 25: 44\n",
      "  label 26: 84\n",
      "  label 27: 48\n",
      "  label 28: 11\n",
      "  label 29: 13\n",
      "  label 30: 11\n",
      "  label 31: 76\n",
      "  label 32: 36\n",
      "  label 33: 31\n",
      "  label 34: 30\n",
      "  label 35: 11\n",
      "  label 36: 21\n",
      "  label 37: 16\n",
      "  label 38: 32\n",
      "  label 39: 11\n",
      "  label 40: 9\n",
      "  label 41: 57\n",
      "  label 42: 18\n",
      "  label 43: 9\n",
      "  label 44: 55\n",
      "  label 45: 241\n",
      "  label 46: 62\n",
      "  label 47: 80\n",
      "model is roberta-base bilstm\n"
     ]
    },
    {
     "name": "stderr",
     "output_type": "stream",
     "text": [
      "Some weights of RobertaModel were not initialized from the model checkpoint at roberta-base and are newly initialized: ['pooler.dense.bias', 'pooler.dense.weight']\n",
      "You should probably TRAIN this model on a down-stream task to be able to use it for predictions and inference.\n"
     ]
    },
    {
     "name": "stdout",
     "output_type": "stream",
     "text": [
      "Using weighted CrossEntropyLoss with weights: tensor([0.7527, 5.4740, 4.4061, 5.3870, 3.3180, 3.8376, 4.0324, 5.1638, 4.3455,\n",
      "        5.1638, 4.3603, 3.4351, 3.3180, 5.2328, 5.4295, 5.3462, 5.6206, 3.3610,\n",
      "        4.0432, 4.7808, 5.9260, 5.0097, 4.2343, 3.5088, 6.0001, 4.7808, 4.1342,\n",
      "        4.6938, 6.1671, 6.0001, 6.1671, 4.2343, 4.9815, 5.1310, 5.1638, 6.1671,\n",
      "        5.5205, 5.7924, 5.0993, 6.1671, 6.3678, 4.5220, 5.6747, 6.3678, 4.5577,\n",
      "        3.0802, 4.4379, 4.1830], device='cuda:0')\n",
      "Epoch 1/20\n"
     ]
    },
    {
     "name": "stderr",
     "output_type": "stream",
     "text": [
      "100%|██████████| 328/328 [00:30<00:00, 10.60it/s]\n"
     ]
    },
    {
     "name": "stdout",
     "output_type": "stream",
     "text": [
      "{'val_loss': 3.2761209374520837, 'val_accuracy': 0.524790236460717, 'precision': 0.2912972416042385, 'recall': 0.524790236460717, 'f1-score': 0.37420240181861225, 'macro_f1-score': 0.03945341409547407, 'balanced_accuracy': 0.05713967930486452, 'mcc': 0.2625976326095036, 'train_loss': 2.3990016379734365}\n",
      "Epoch 2/20\n"
     ]
    },
    {
     "name": "stderr",
     "output_type": "stream",
     "text": [
      "100%|██████████| 328/328 [00:30<00:00, 10.59it/s]\n"
     ]
    },
    {
     "name": "stdout",
     "output_type": "stream",
     "text": [
      "{'val_loss': 2.961248286613604, 'val_accuracy': 0.5736079328756675, 'precision': 0.3965819708428118, 'recall': 0.5736079328756675, 'f1-score': 0.45115325937322953, 'macro_f1-score': 0.0725506851393312, 'balanced_accuracy': 0.09002915575615238, 'mcc': 0.37142478219372127, 'train_loss': 1.976278953617666}\n",
      "Epoch 3/20\n"
     ]
    },
    {
     "name": "stderr",
     "output_type": "stream",
     "text": [
      "100%|██████████| 328/328 [00:31<00:00, 10.55it/s]\n"
     ]
    },
    {
     "name": "stdout",
     "output_type": "stream",
     "text": [
      "{'val_loss': 2.793064170494312, 'val_accuracy': 0.5835240274599542, 'precision': 0.45585798714528564, 'recall': 0.5835240274599542, 'f1-score': 0.5046230932764364, 'macro_f1-score': 0.11806726337916906, 'balanced_accuracy': 0.1355631952127727, 'mcc': 0.4126291336781028, 'train_loss': 1.7241993820885333}\n",
      "Epoch 4/20\n"
     ]
    },
    {
     "name": "stderr",
     "output_type": "stream",
     "text": [
      "100%|██████████| 328/328 [00:30<00:00, 10.60it/s]\n"
     ]
    },
    {
     "name": "stdout",
     "output_type": "stream",
     "text": [
      "{'val_loss': 2.863248042217115, 'val_accuracy': 0.5850495804729214, 'precision': 0.48130809407765185, 'recall': 0.5850495804729214, 'f1-score': 0.5095828857116129, 'macro_f1-score': 0.13476996269957242, 'balanced_accuracy': 0.14748878373913296, 'mcc': 0.41403473157144394, 'train_loss': 1.5135994066552418}\n",
      "Epoch 5/20\n"
     ]
    },
    {
     "name": "stderr",
     "output_type": "stream",
     "text": [
      "100%|██████████| 328/328 [00:30<00:00, 10.59it/s]\n"
     ]
    },
    {
     "name": "stdout",
     "output_type": "stream",
     "text": [
      "{'val_loss': 2.429974667182783, 'val_accuracy': 0.6056445461479787, 'precision': 0.5157433283076597, 'recall': 0.6056445461479787, 'f1-score': 0.548966946875758, 'macro_f1-score': 0.19190440170764403, 'balanced_accuracy': 0.203895415695403, 'mcc': 0.45483044314684395, 'train_loss': 1.3361285575097654}\n",
      "Epoch 6/20\n"
     ]
    },
    {
     "name": "stderr",
     "output_type": "stream",
     "text": [
      "100%|██████████| 328/328 [00:31<00:00, 10.58it/s]\n"
     ]
    },
    {
     "name": "stdout",
     "output_type": "stream",
     "text": [
      "{'val_loss': 2.4231907848904775, 'val_accuracy': 0.5614035087719298, 'precision': 0.549128554757745, 'recall': 0.5614035087719298, 'f1-score': 0.5432855015946179, 'macro_f1-score': 0.19359740736690004, 'balanced_accuracy': 0.22993709314962987, 'mcc': 0.43623493830021187, 'train_loss': 1.1916774325527069}\n",
      "Epoch 7/20\n"
     ]
    },
    {
     "name": "stderr",
     "output_type": "stream",
     "text": [
      "100%|██████████| 328/328 [00:31<00:00, 10.55it/s]\n"
     ]
    },
    {
     "name": "stdout",
     "output_type": "stream",
     "text": [
      "{'val_loss': 2.41496316107308, 'val_accuracy': 0.6109839816933639, 'precision': 0.5705562338793584, 'recall': 0.6109839816933639, 'f1-score': 0.5705245429810059, 'macro_f1-score': 0.2187403028560433, 'balanced_accuracy': 0.23675419952328988, 'mcc': 0.4768407700939803, 'train_loss': 1.071606008699391}\n",
      "Epoch 8/20\n"
     ]
    },
    {
     "name": "stderr",
     "output_type": "stream",
     "text": [
      "100%|██████████| 328/328 [00:30<00:00, 10.60it/s]\n"
     ]
    },
    {
     "name": "stdout",
     "output_type": "stream",
     "text": [
      "{'val_loss': 2.3159680537334304, 'val_accuracy': 0.6170861937452327, 'precision': 0.5720574705316049, 'recall': 0.6170861937452327, 'f1-score': 0.5875342352833675, 'macro_f1-score': 0.24597651263166945, 'balanced_accuracy': 0.2705460742044246, 'mcc': 0.49185555790134755, 'train_loss': 0.9288183377555957}\n",
      "Epoch 9/20\n"
     ]
    },
    {
     "name": "stderr",
     "output_type": "stream",
     "text": [
      "100%|██████████| 328/328 [00:30<00:00, 10.59it/s]\n"
     ]
    },
    {
     "name": "stdout",
     "output_type": "stream",
     "text": [
      "{'val_loss': 2.5021886912787834, 'val_accuracy': 0.6292906178489702, 'precision': 0.587166610783911, 'recall': 0.6292906178489702, 'f1-score': 0.5936394587635354, 'macro_f1-score': 0.2674824046626942, 'balanced_accuracy': 0.26585441680254673, 'mcc': 0.4952643802249088, 'train_loss': 0.8154663980552336}\n",
      "Epoch 10/20\n"
     ]
    },
    {
     "name": "stderr",
     "output_type": "stream",
     "text": [
      "100%|██████████| 328/328 [00:31<00:00, 10.56it/s]\n"
     ]
    },
    {
     "name": "stdout",
     "output_type": "stream",
     "text": [
      "{'val_loss': 2.3669898437290655, 'val_accuracy': 0.6178489702517163, 'precision': 0.6000801815750594, 'recall': 0.6178489702517163, 'f1-score': 0.5998265883115432, 'macro_f1-score': 0.3000829791976536, 'balanced_accuracy': 0.32009377499973074, 'mcc': 0.4962737337535305, 'train_loss': 0.7280567098499798}\n",
      "Epoch 11/20\n"
     ]
    },
    {
     "name": "stderr",
     "output_type": "stream",
     "text": [
      "100%|██████████| 328/328 [00:30<00:00, 10.59it/s]\n"
     ]
    },
    {
     "name": "stdout",
     "output_type": "stream",
     "text": [
      "{'val_loss': 2.5384945149828746, 'val_accuracy': 0.6224256292906178, 'precision': 0.6005884799235132, 'recall': 0.6224256292906178, 'f1-score': 0.6030686749985776, 'macro_f1-score': 0.3091031615818954, 'balanced_accuracy': 0.30051698061901216, 'mcc': 0.49219217472172105, 'train_loss': 0.621404760403604}\n",
      "Epoch 12/20\n"
     ]
    },
    {
     "name": "stderr",
     "output_type": "stream",
     "text": [
      "100%|██████████| 328/328 [00:30<00:00, 10.59it/s]\n"
     ]
    },
    {
     "name": "stdout",
     "output_type": "stream",
     "text": [
      "{'val_loss': 2.4931117586973235, 'val_accuracy': 0.6292906178489702, 'precision': 0.6103363077806538, 'recall': 0.6292906178489702, 'f1-score': 0.6103231258115617, 'macro_f1-score': 0.31492115408671284, 'balanced_accuracy': 0.32069685642234885, 'mcc': 0.5073653392559719, 'train_loss': 0.5646487208673867}\n",
      "Epoch 13/20\n"
     ]
    },
    {
     "name": "stderr",
     "output_type": "stream",
     "text": [
      "100%|██████████| 328/328 [00:31<00:00, 10.55it/s]\n"
     ]
    },
    {
     "name": "stdout",
     "output_type": "stream",
     "text": [
      "{'val_loss': 2.477382190707253, 'val_accuracy': 0.6384439359267735, 'precision': 0.6127074911874967, 'recall': 0.6384439359267735, 'f1-score': 0.6192146422506014, 'macro_f1-score': 0.307023134108587, 'balanced_accuracy': 0.30460822977636376, 'mcc': 0.5189030153882099, 'train_loss': 0.4955750191357078}\n",
      "Epoch 14/20\n"
     ]
    },
    {
     "name": "stderr",
     "output_type": "stream",
     "text": [
      "100%|██████████| 328/328 [00:30<00:00, 10.61it/s]\n"
     ]
    },
    {
     "name": "stdout",
     "output_type": "stream",
     "text": [
      "{'val_loss': 2.4398010969161987, 'val_accuracy': 0.5919145690312738, 'precision': 0.6042403608164082, 'recall': 0.5919145690312738, 'f1-score': 0.5887171856957886, 'macro_f1-score': 0.3123323686914489, 'balanced_accuracy': 0.33870185097928834, 'mcc': 0.4845482425069197, 'train_loss': 0.45891426335565927}\n",
      "Epoch 15/20\n"
     ]
    },
    {
     "name": "stderr",
     "output_type": "stream",
     "text": [
      "100%|██████████| 328/328 [00:30<00:00, 10.59it/s]\n"
     ]
    },
    {
     "name": "stdout",
     "output_type": "stream",
     "text": [
      "{'val_loss': 2.5578397083573226, 'val_accuracy': 0.635392829900839, 'precision': 0.6250439642623512, 'recall': 0.635392829900839, 'f1-score': 0.6241415171422091, 'macro_f1-score': 0.34350248975265435, 'balanced_accuracy': 0.35644073946261234, 'mcc': 0.5194094397022815, 'train_loss': 0.3713456224536569}\n",
      "Epoch 16/20\n"
     ]
    },
    {
     "name": "stderr",
     "output_type": "stream",
     "text": [
      "100%|██████████| 328/328 [00:30<00:00, 10.62it/s]\n"
     ]
    },
    {
     "name": "stdout",
     "output_type": "stream",
     "text": [
      "{'val_loss': 2.779173674379907, 'val_accuracy': 0.6338672768878718, 'precision': 0.6123577707701595, 'recall': 0.6338672768878718, 'f1-score': 0.6078429283317806, 'macro_f1-score': 0.3010368061757612, 'balanced_accuracy': 0.3082784022209641, 'mcc': 0.5097496251656248, 'train_loss': 0.37512254562774083}\n",
      "Epoch 17/20\n"
     ]
    },
    {
     "name": "stderr",
     "output_type": "stream",
     "text": [
      "100%|██████████| 328/328 [00:31<00:00, 10.56it/s]\n"
     ]
    },
    {
     "name": "stdout",
     "output_type": "stream",
     "text": [
      "{'val_loss': 2.751460019408203, 'val_accuracy': 0.6453089244851259, 'precision': 0.6367377766682817, 'recall': 0.6453089244851259, 'f1-score': 0.6321976308180801, 'macro_f1-score': 0.3592295078128093, 'balanced_accuracy': 0.3510405968360051, 'mcc': 0.529353099999204, 'train_loss': 0.3336285363780562}\n",
      "Epoch 18/20\n"
     ]
    },
    {
     "name": "stderr",
     "output_type": "stream",
     "text": [
      "100%|██████████| 328/328 [00:31<00:00, 10.57it/s]\n"
     ]
    },
    {
     "name": "stdout",
     "output_type": "stream",
     "text": [
      "{'val_loss': 2.7726937986728624, 'val_accuracy': 0.6407322654462243, 'precision': 0.6283802249617159, 'recall': 0.6407322654462243, 'f1-score': 0.6222058332206079, 'macro_f1-score': 0.3569811426640415, 'balanced_accuracy': 0.34207752636286, 'mcc': 0.516906110132846, 'train_loss': 0.26816270646650525}\n",
      "Epoch 19/20\n"
     ]
    },
    {
     "name": "stderr",
     "output_type": "stream",
     "text": [
      "100%|██████████| 328/328 [00:30<00:00, 10.62it/s]\n"
     ]
    },
    {
     "name": "stdout",
     "output_type": "stream",
     "text": [
      "{'val_loss': 2.7776470413295233, 'val_accuracy': 0.6170861937452327, 'precision': 0.6169644346113813, 'recall': 0.6170861937452327, 'f1-score': 0.606101255696983, 'macro_f1-score': 0.34138671787015357, 'balanced_accuracy': 0.3366602527879005, 'mcc': 0.4940449401360674, 'train_loss': 0.27352720813076126}\n",
      "Epoch 20/20\n"
     ]
    },
    {
     "name": "stderr",
     "output_type": "stream",
     "text": [
      "100%|██████████| 328/328 [00:31<00:00, 10.54it/s]\n"
     ]
    },
    {
     "name": "stdout",
     "output_type": "stream",
     "text": [
      "{'val_loss': 2.8305983547030427, 'val_accuracy': 0.6323417238749046, 'precision': 0.6155219710441242, 'recall': 0.6323417238749046, 'f1-score': 0.6149946899180061, 'macro_f1-score': 0.37909836169406597, 'balanced_accuracy': 0.3673727041571005, 'mcc': 0.505946867967041, 'train_loss': 0.2581541520918197}\n",
      "\n",
      "[Fold 4]\n",
      "Label distribution after resampling:\n",
      "  label 0: 2471\n",
      "  label 1: 22\n",
      "  label 2: 64\n",
      "  label 3: 24\n",
      "  label 4: 190\n",
      "  label 5: 113\n",
      "  label 6: 93\n",
      "  label 7: 31\n",
      "  label 8: 68\n",
      "  label 9: 29\n",
      "  label 10: 67\n",
      "  label 11: 169\n",
      "  label 12: 190\n",
      "  label 13: 29\n",
      "  label 14: 22\n",
      "  label 15: 25\n",
      "  label 16: 19\n",
      "  label 17: 182\n",
      "  label 18: 92\n",
      "  label 19: 44\n",
      "  label 20: 14\n",
      "  label 21: 35\n",
      "  label 22: 76\n",
      "  label 23: 158\n",
      "  label 24: 13\n",
      "  label 25: 44\n",
      "  label 26: 84\n",
      "  label 27: 48\n",
      "  label 28: 11\n",
      "  label 29: 13\n",
      "  label 30: 11\n",
      "  label 31: 75\n",
      "  label 32: 36\n",
      "  label 33: 31\n",
      "  label 34: 30\n",
      "  label 35: 11\n",
      "  label 36: 22\n",
      "  label 37: 16\n",
      "  label 38: 33\n",
      "  label 39: 10\n",
      "  label 40: 9\n",
      "  label 41: 56\n",
      "  label 42: 18\n",
      "  label 43: 9\n",
      "  label 44: 55\n",
      "  label 45: 241\n",
      "  label 46: 62\n",
      "  label 47: 80\n",
      "model is roberta-base bilstm\n"
     ]
    },
    {
     "name": "stderr",
     "output_type": "stream",
     "text": [
      "Some weights of RobertaModel were not initialized from the model checkpoint at roberta-base and are newly initialized: ['pooler.dense.bias', 'pooler.dense.weight']\n",
      "You should probably TRAIN this model on a down-stream task to be able to use it for predictions and inference.\n"
     ]
    },
    {
     "name": "stdout",
     "output_type": "stream",
     "text": [
      "Using weighted CrossEntropyLoss with weights: tensor([0.7527, 5.4740, 4.4061, 5.3870, 3.3180, 3.8376, 4.0324, 5.1310, 4.3455,\n",
      "        5.1977, 4.3603, 3.4351, 3.3180, 5.1977, 5.4740, 5.3462, 5.6206, 3.3610,\n",
      "        4.0432, 4.7808, 5.9260, 5.0097, 4.2343, 3.5024, 6.0001, 4.7808, 4.1342,\n",
      "        4.6938, 6.1671, 6.0001, 6.1671, 4.2475, 4.9815, 5.1310, 5.1638, 6.1671,\n",
      "        5.4740, 5.7924, 5.0685, 6.2624, 6.3678, 4.5397, 5.6747, 6.3678, 4.5577,\n",
      "        3.0802, 4.4379, 4.1830], device='cuda:0')\n",
      "Epoch 1/20\n"
     ]
    },
    {
     "name": "stderr",
     "output_type": "stream",
     "text": [
      "100%|██████████| 328/328 [00:30<00:00, 10.59it/s]\n"
     ]
    },
    {
     "name": "stdout",
     "output_type": "stream",
     "text": [
      "{'val_loss': 3.3092613859874445, 'val_accuracy': 0.532418001525553, 'precision': 0.31953786865866834, 'recall': 0.532418001525553, 'f1-score': 0.39826571096270846, 'macro_f1-score': 0.04620108274882368, 'balanced_accuracy': 0.06251107077336975, 'mcc': 0.28870163962932277, 'train_loss': 2.4002079885543846}\n",
      "Epoch 2/20\n"
     ]
    },
    {
     "name": "stderr",
     "output_type": "stream",
     "text": [
      "100%|██████████| 328/328 [00:30<00:00, 10.61it/s]\n"
     ]
    },
    {
     "name": "stdout",
     "output_type": "stream",
     "text": [
      "{'val_loss': 3.0368967528750255, 'val_accuracy': 0.5354691075514875, 'precision': 0.36657468375877666, 'recall': 0.5354691075514875, 'f1-score': 0.4175321066780308, 'macro_f1-score': 0.05486905122598686, 'balanced_accuracy': 0.06652786401028127, 'mcc': 0.3003671211411714, 'train_loss': 2.0110878728148416}\n",
      "Epoch 3/20\n"
     ]
    },
    {
     "name": "stderr",
     "output_type": "stream",
     "text": [
      "100%|██████████| 328/328 [00:30<00:00, 10.60it/s]\n"
     ]
    },
    {
     "name": "stdout",
     "output_type": "stream",
     "text": [
      "{'val_loss': 2.7667052811238824, 'val_accuracy': 0.5705568268497331, 'precision': 0.41593093678584986, 'recall': 0.5705568268497331, 'f1-score': 0.4728326418066509, 'macro_f1-score': 0.09147045725649779, 'balanced_accuracy': 0.10995065788340497, 'mcc': 0.3824050954744587, 'train_loss': 1.810020571619999}\n",
      "Epoch 4/20\n"
     ]
    },
    {
     "name": "stderr",
     "output_type": "stream",
     "text": [
      "100%|██████████| 328/328 [00:31<00:00, 10.53it/s]\n"
     ]
    },
    {
     "name": "stdout",
     "output_type": "stream",
     "text": [
      "{'val_loss': 2.470903211977424, 'val_accuracy': 0.5766590389016019, 'precision': 0.442393066811066, 'recall': 0.5766590389016019, 'f1-score': 0.49613282924850344, 'macro_f1-score': 0.10537723234888878, 'balanced_accuracy': 0.12907698972093767, 'mcc': 0.40969216271296904, 'train_loss': 1.6326784595120243}\n",
      "Epoch 5/20\n"
     ]
    },
    {
     "name": "stderr",
     "output_type": "stream",
     "text": [
      "100%|██████████| 328/328 [00:30<00:00, 10.61it/s]\n"
     ]
    },
    {
     "name": "stdout",
     "output_type": "stream",
     "text": [
      "{'val_loss': 2.3158755520494974, 'val_accuracy': 0.5743707093821511, 'precision': 0.5214451155089995, 'recall': 0.5743707093821511, 'f1-score': 0.5394492275026174, 'macro_f1-score': 0.17775606763872207, 'balanced_accuracy': 0.20436819202108078, 'mcc': 0.444703551961618, 'train_loss': 1.463964811548954}\n",
      "Epoch 6/20\n"
     ]
    },
    {
     "name": "stderr",
     "output_type": "stream",
     "text": [
      "100%|██████████| 328/328 [00:30<00:00, 10.61it/s]\n"
     ]
    },
    {
     "name": "stdout",
     "output_type": "stream",
     "text": [
      "{'val_loss': 2.3091649758379633, 'val_accuracy': 0.5888634630053394, 'precision': 0.5304312555017878, 'recall': 0.5888634630053394, 'f1-score': 0.5456118003057658, 'macro_f1-score': 0.1697099934925139, 'balanced_accuracy': 0.1860982825683691, 'mcc': 0.44731451209694456, 'train_loss': 1.3168596958786976}\n",
      "Epoch 7/20\n"
     ]
    },
    {
     "name": "stderr",
     "output_type": "stream",
     "text": [
      "100%|██████████| 328/328 [00:30<00:00, 10.61it/s]\n"
     ]
    },
    {
     "name": "stdout",
     "output_type": "stream",
     "text": [
      "{'val_loss': 2.379726943446369, 'val_accuracy': 0.6025934401220442, 'precision': 0.5238262238673769, 'recall': 0.6025934401220442, 'f1-score': 0.5466324182035631, 'macro_f1-score': 0.18252693235006526, 'balanced_accuracy': 0.19119740010814282, 'mcc': 0.4556878980175665, 'train_loss': 1.176996122818531}\n",
      "Epoch 8/20\n"
     ]
    },
    {
     "name": "stderr",
     "output_type": "stream",
     "text": [
      "100%|██████████| 328/328 [00:31<00:00, 10.57it/s]\n"
     ]
    },
    {
     "name": "stdout",
     "output_type": "stream",
     "text": [
      "{'val_loss': 2.1896794750923063, 'val_accuracy': 0.6048817696414951, 'precision': 0.5815808847487098, 'recall': 0.6048817696414951, 'f1-score': 0.5846117883451983, 'macro_f1-score': 0.25906805654065485, 'balanced_accuracy': 0.280151181085357, 'mcc': 0.488239941794605, 'train_loss': 1.1003654933557279}\n",
      "Epoch 9/20\n"
     ]
    },
    {
     "name": "stderr",
     "output_type": "stream",
     "text": [
      "100%|██████████| 328/328 [00:30<00:00, 10.61it/s]\n"
     ]
    },
    {
     "name": "stdout",
     "output_type": "stream",
     "text": [
      "{'val_loss': 2.2140001443828026, 'val_accuracy': 0.6071700991609459, 'precision': 0.5859407152904098, 'recall': 0.6071700991609459, 'f1-score': 0.5873955156828, 'macro_f1-score': 0.23789680580773984, 'balanced_accuracy': 0.2551811648247797, 'mcc': 0.49132761956833615, 'train_loss': 0.9322509797880563}\n",
      "Epoch 10/20\n"
     ]
    },
    {
     "name": "stderr",
     "output_type": "stream",
     "text": [
      "100%|██████████| 328/328 [00:30<00:00, 10.63it/s]\n"
     ]
    },
    {
     "name": "stdout",
     "output_type": "stream",
     "text": [
      "{'val_loss': 2.4420650601387024, 'val_accuracy': 0.6376811594202898, 'precision': 0.5687099071948526, 'recall': 0.6376811594202898, 'f1-score': 0.5901745051750754, 'macro_f1-score': 0.27115833135018214, 'balanced_accuracy': 0.26021722961548077, 'mcc': 0.49668551351023416, 'train_loss': 0.8552164068763576}\n",
      "Epoch 11/20\n"
     ]
    },
    {
     "name": "stderr",
     "output_type": "stream",
     "text": [
      "100%|██████████| 328/328 [00:31<00:00, 10.54it/s]\n"
     ]
    },
    {
     "name": "stdout",
     "output_type": "stream",
     "text": [
      "{'val_loss': 2.3607857559875742, 'val_accuracy': 0.620137299771167, 'precision': 0.592329994077767, 'recall': 0.620137299771167, 'f1-score': 0.5959989509432969, 'macro_f1-score': 0.27840825290882026, 'balanced_accuracy': 0.2701539221650997, 'mcc': 0.49324000198906426, 'train_loss': 0.7600480154065824}\n",
      "Epoch 12/20\n"
     ]
    },
    {
     "name": "stderr",
     "output_type": "stream",
     "text": [
      "100%|██████████| 328/328 [00:30<00:00, 10.62it/s]\n"
     ]
    },
    {
     "name": "stdout",
     "output_type": "stream",
     "text": [
      "{'val_loss': 2.2884643394045714, 'val_accuracy': 0.6414950419527079, 'precision': 0.6172725764349211, 'recall': 0.6414950419527079, 'f1-score': 0.6234042461465358, 'macro_f1-score': 0.3332794504418143, 'balanced_accuracy': 0.3347558708722817, 'mcc': 0.5253083656079602, 'train_loss': 0.6601102007780133}\n",
      "Epoch 13/20\n"
     ]
    },
    {
     "name": "stderr",
     "output_type": "stream",
     "text": [
      "100%|██████████| 328/328 [00:30<00:00, 10.62it/s]\n"
     ]
    },
    {
     "name": "stdout",
     "output_type": "stream",
     "text": [
      "{'val_loss': 2.546995410831963, 'val_accuracy': 0.6392067124332571, 'precision': 0.6097599143549167, 'recall': 0.6392067124332571, 'f1-score': 0.609456264625041, 'macro_f1-score': 0.3153852633552244, 'balanced_accuracy': 0.3214421276757505, 'mcc': 0.5128228149966639, 'train_loss': 0.5618288212160512}\n",
      "Epoch 14/20\n"
     ]
    },
    {
     "name": "stderr",
     "output_type": "stream",
     "text": [
      "100%|██████████| 328/328 [00:31<00:00, 10.57it/s]\n"
     ]
    },
    {
     "name": "stdout",
     "output_type": "stream",
     "text": [
      "{'val_loss': 2.3571771041649145, 'val_accuracy': 0.6209000762776506, 'precision': 0.6255304835303038, 'recall': 0.6209000762776506, 'f1-score': 0.6171225993494723, 'macro_f1-score': 0.34503051866155793, 'balanced_accuracy': 0.3440147138987825, 'mcc': 0.5121296922323332, 'train_loss': 0.5370418899351868}\n",
      "Epoch 15/20\n"
     ]
    },
    {
     "name": "stderr",
     "output_type": "stream",
     "text": [
      "100%|██████████| 328/328 [00:30<00:00, 10.59it/s]\n"
     ]
    },
    {
     "name": "stdout",
     "output_type": "stream",
     "text": [
      "{'val_loss': 2.266543893188965, 'val_accuracy': 0.5995423340961098, 'precision': 0.6282117044420246, 'recall': 0.5995423340961098, 'f1-score': 0.6073566804021907, 'macro_f1-score': 0.3402234479687662, 'balanced_accuracy': 0.37450326329009354, 'mcc': 0.4962582426197281, 'train_loss': 0.47702337197232536}\n",
      "Epoch 16/20\n"
     ]
    },
    {
     "name": "stderr",
     "output_type": "stream",
     "text": [
      "100%|██████████| 328/328 [00:30<00:00, 10.61it/s]\n"
     ]
    },
    {
     "name": "stdout",
     "output_type": "stream",
     "text": [
      "{'val_loss': 2.4021134831738182, 'val_accuracy': 0.6224256292906178, 'precision': 0.64186001598888, 'recall': 0.6224256292906178, 'f1-score': 0.6240063250770586, 'macro_f1-score': 0.36327677459739816, 'balanced_accuracy': 0.370925229324888, 'mcc': 0.5098003195414896, 'train_loss': 0.4402098833674156}\n",
      "Epoch 17/20\n"
     ]
    },
    {
     "name": "stderr",
     "output_type": "stream",
     "text": [
      "100%|██████████| 328/328 [00:30<00:00, 10.64it/s]\n"
     ]
    },
    {
     "name": "stdout",
     "output_type": "stream",
     "text": [
      "{'val_loss': 2.299960837858479, 'val_accuracy': 0.6109839816933639, 'precision': 0.6391934908908061, 'recall': 0.6109839816933639, 'f1-score': 0.6158699066515881, 'macro_f1-score': 0.348155336723079, 'balanced_accuracy': 0.3653176296918949, 'mcc': 0.5087583270288747, 'train_loss': 0.4539328499515427}\n",
      "Epoch 18/20\n"
     ]
    },
    {
     "name": "stderr",
     "output_type": "stream",
     "text": [
      "100%|██████████| 328/328 [00:30<00:00, 10.60it/s]\n"
     ]
    },
    {
     "name": "stdout",
     "output_type": "stream",
     "text": [
      "{'val_loss': 2.5256643815011515, 'val_accuracy': 0.6048817696414951, 'precision': 0.6425688427728538, 'recall': 0.6048817696414951, 'f1-score': 0.6135997257716702, 'macro_f1-score': 0.36693585004775925, 'balanced_accuracy': 0.40368452399357446, 'mcc': 0.5047666426148161, 'train_loss': 0.362803446782026}\n",
      "Epoch 19/20\n"
     ]
    },
    {
     "name": "stderr",
     "output_type": "stream",
     "text": [
      "100%|██████████| 328/328 [00:30<00:00, 10.60it/s]\n"
     ]
    },
    {
     "name": "stdout",
     "output_type": "stream",
     "text": [
      "{'val_loss': 2.730872203664082, 'val_accuracy': 0.6216628527841342, 'precision': 0.6191391106722683, 'recall': 0.6216628527841342, 'f1-score': 0.6110330147003775, 'macro_f1-score': 0.34988557457854474, 'balanced_accuracy': 0.34472964511888, 'mcc': 0.5001379258504131, 'train_loss': 0.3150743609975751}\n",
      "Epoch 20/20\n"
     ]
    },
    {
     "name": "stderr",
     "output_type": "stream",
     "text": [
      "100%|██████████| 328/328 [00:30<00:00, 10.62it/s]\n"
     ]
    },
    {
     "name": "stdout",
     "output_type": "stream",
     "text": [
      "{'val_loss': 2.5746955933367333, 'val_accuracy': 0.585812356979405, 'precision': 0.6127920936152512, 'recall': 0.585812356979405, 'f1-score': 0.591357305638581, 'macro_f1-score': 0.3379499772451046, 'balanced_accuracy': 0.35682795204592016, 'mcc': 0.4727916661629097, 'train_loss': 0.30247462850075396}\n",
      "\n",
      "[Fold 5]\n",
      "Label distribution after resampling:\n",
      "  label 0: 2472\n",
      "  label 1: 21\n",
      "  label 2: 64\n",
      "  label 3: 24\n",
      "  label 4: 191\n",
      "  label 5: 112\n",
      "  label 6: 92\n",
      "  label 7: 31\n",
      "  label 8: 68\n",
      "  label 9: 29\n",
      "  label 10: 68\n",
      "  label 11: 168\n",
      "  label 12: 190\n",
      "  label 13: 29\n",
      "  label 14: 22\n",
      "  label 15: 25\n",
      "  label 16: 19\n",
      "  label 17: 183\n",
      "  label 18: 92\n",
      "  label 19: 44\n",
      "  label 20: 14\n",
      "  label 21: 35\n",
      "  label 22: 76\n",
      "  label 23: 158\n",
      "  label 24: 13\n",
      "  label 25: 44\n",
      "  label 26: 84\n",
      "  label 27: 48\n",
      "  label 28: 11\n",
      "  label 29: 13\n",
      "  label 30: 11\n",
      "  label 31: 75\n",
      "  label 32: 36\n",
      "  label 33: 31\n",
      "  label 34: 30\n",
      "  label 35: 11\n",
      "  label 36: 22\n",
      "  label 37: 16\n",
      "  label 38: 33\n",
      "  label 39: 10\n",
      "  label 40: 9\n",
      "  label 41: 57\n",
      "  label 42: 18\n",
      "  label 43: 9\n",
      "  label 44: 54\n",
      "  label 45: 242\n",
      "  label 46: 61\n",
      "  label 47: 80\n",
      "model is roberta-base bilstm\n"
     ]
    },
    {
     "name": "stderr",
     "output_type": "stream",
     "text": [
      "Some weights of RobertaModel were not initialized from the model checkpoint at roberta-base and are newly initialized: ['pooler.dense.bias', 'pooler.dense.weight']\n",
      "You should probably TRAIN this model on a down-stream task to be able to use it for predictions and inference.\n"
     ]
    },
    {
     "name": "stdout",
     "output_type": "stream",
     "text": [
      "Using weighted CrossEntropyLoss with weights: tensor([0.7522, 5.5205, 4.4061, 5.3870, 3.3128, 3.8465, 4.0432, 5.1310, 4.3455,\n",
      "        5.1977, 4.3455, 3.4411, 3.3180, 5.1977, 5.4740, 5.3462, 5.6206, 3.3555,\n",
      "        4.0432, 4.7808, 5.9260, 5.0097, 4.2343, 3.5024, 6.0001, 4.7808, 4.1342,\n",
      "        4.6938, 6.1671, 6.0001, 6.1671, 4.2475, 4.9815, 5.1310, 5.1638, 6.1671,\n",
      "        5.4740, 5.7924, 5.0685, 6.2624, 6.3678, 4.5220, 5.6747, 6.3678, 4.5760,\n",
      "        3.0761, 4.4542, 4.1830], device='cuda:0')\n",
      "Epoch 1/20\n"
     ]
    },
    {
     "name": "stderr",
     "output_type": "stream",
     "text": [
      "100%|██████████| 328/328 [00:30<00:00, 10.59it/s]\n"
     ]
    },
    {
     "name": "stdout",
     "output_type": "stream",
     "text": [
      "{'val_loss': 3.2799429791729624, 'val_accuracy': 0.5385202135774219, 'precision': 0.3148717469000052, 'recall': 0.5385202135774219, 'f1-score': 0.3916144266243675, 'macro_f1-score': 0.04808886276641508, 'balanced_accuracy': 0.058063540345580235, 'mcc': 0.2909262024629274, 'train_loss': 2.3839992935337673}\n",
      "Epoch 2/20\n"
     ]
    },
    {
     "name": "stderr",
     "output_type": "stream",
     "text": [
      "100%|██████████| 328/328 [00:30<00:00, 10.60it/s]\n"
     ]
    },
    {
     "name": "stdout",
     "output_type": "stream",
     "text": [
      "{'val_loss': 2.997595314572497, 'val_accuracy': 0.5545385202135774, 'precision': 0.33421835142836603, 'recall': 0.5545385202135774, 'f1-score': 0.4162240497349557, 'macro_f1-score': 0.057468940549776526, 'balanced_accuracy': 0.07481181392963875, 'mcc': 0.3314299728728219, 'train_loss': 2.0245539456969355}\n",
      "Epoch 3/20\n"
     ]
    },
    {
     "name": "stderr",
     "output_type": "stream",
     "text": [
      "100%|██████████| 328/328 [00:30<00:00, 10.62it/s]\n"
     ]
    },
    {
     "name": "stdout",
     "output_type": "stream",
     "text": [
      "{'val_loss': 2.7789345383644104, 'val_accuracy': 0.5522501906941266, 'precision': 0.41823716927511584, 'recall': 0.5522501906941266, 'f1-score': 0.46482347277064456, 'macro_f1-score': 0.06959463566269664, 'balanced_accuracy': 0.09840297203113706, 'mcc': 0.3799042372896996, 'train_loss': 1.8185755490529827}\n",
      "Epoch 4/20\n"
     ]
    },
    {
     "name": "stderr",
     "output_type": "stream",
     "text": [
      "100%|██████████| 328/328 [00:30<00:00, 10.59it/s]\n"
     ]
    },
    {
     "name": "stdout",
     "output_type": "stream",
     "text": [
      "{'val_loss': 2.5478430782876362, 'val_accuracy': 0.5758962623951183, 'precision': 0.4280331590374001, 'recall': 0.5758962623951183, 'f1-score': 0.48238475621173066, 'macro_f1-score': 0.08221529889677895, 'balanced_accuracy': 0.10478196445451761, 'mcc': 0.4000589437403085, 'train_loss': 1.64364388385197}\n",
      "Epoch 5/20\n"
     ]
    },
    {
     "name": "stderr",
     "output_type": "stream",
     "text": [
      "100%|██████████| 328/328 [00:31<00:00, 10.52it/s]\n"
     ]
    },
    {
     "name": "stdout",
     "output_type": "stream",
     "text": [
      "{'val_loss': 2.6142776593929384, 'val_accuracy': 0.547673531655225, 'precision': 0.4521561707036583, 'recall': 0.547673531655225, 'f1-score': 0.4865710903455239, 'macro_f1-score': 0.09007737005576544, 'balanced_accuracy': 0.12039559200369383, 'mcc': 0.39612959970468836, 'train_loss': 1.5211102604502584}\n",
      "Epoch 6/20\n"
     ]
    },
    {
     "name": "stderr",
     "output_type": "stream",
     "text": [
      "100%|██████████| 328/328 [00:30<00:00, 10.61it/s]\n"
     ]
    },
    {
     "name": "stdout",
     "output_type": "stream",
     "text": [
      "{'val_loss': 2.5289928186230544, 'val_accuracy': 0.5758962623951183, 'precision': 0.4821160853873863, 'recall': 0.5758962623951183, 'f1-score': 0.5160900506666017, 'macro_f1-score': 0.11453647550194325, 'balanced_accuracy': 0.13708380200241374, 'mcc': 0.42114427673610405, 'train_loss': 1.47357373720989}\n",
      "Epoch 7/20\n"
     ]
    },
    {
     "name": "stderr",
     "output_type": "stream",
     "text": [
      "100%|██████████| 328/328 [00:30<00:00, 10.61it/s]\n"
     ]
    },
    {
     "name": "stdout",
     "output_type": "stream",
     "text": [
      "{'val_loss': 2.477828334017498, 'val_accuracy': 0.5865751334858886, 'precision': 0.5056581737476974, 'recall': 0.5865751334858886, 'f1-score': 0.534040151417963, 'macro_f1-score': 0.13981218938959647, 'balanced_accuracy': 0.1668618079302305, 'mcc': 0.44502692053597265, 'train_loss': 1.313911745097579}\n",
      "Epoch 8/20\n"
     ]
    },
    {
     "name": "stderr",
     "output_type": "stream",
     "text": [
      "100%|██████████| 328/328 [00:30<00:00, 10.60it/s]\n"
     ]
    },
    {
     "name": "stdout",
     "output_type": "stream",
     "text": [
      "{'val_loss': 2.458172180303713, 'val_accuracy': 0.593440122044241, 'precision': 0.5237618558842514, 'recall': 0.593440122044241, 'f1-score': 0.5432172850634943, 'macro_f1-score': 0.15852876531453083, 'balanced_accuracy': 0.18602864691641352, 'mcc': 0.45484225154530034, 'train_loss': 1.1929825956865054}\n",
      "Epoch 9/20\n"
     ]
    },
    {
     "name": "stderr",
     "output_type": "stream",
     "text": [
      "100%|██████████| 328/328 [00:31<00:00, 10.45it/s]\n"
     ]
    },
    {
     "name": "stdout",
     "output_type": "stream",
     "text": [
      "{'val_loss': 2.376766114700131, 'val_accuracy': 0.589626239511823, 'precision': 0.5648449846605438, 'recall': 0.589626239511823, 'f1-score': 0.5687487727254086, 'macro_f1-score': 0.184038607114641, 'balanced_accuracy': 0.20936818809425609, 'mcc': 0.4668784721998365, 'train_loss': 1.0900607624250214}\n",
      "Epoch 10/20\n"
     ]
    },
    {
     "name": "stderr",
     "output_type": "stream",
     "text": [
      "100%|██████████| 328/328 [00:31<00:00, 10.57it/s]\n"
     ]
    },
    {
     "name": "stdout",
     "output_type": "stream",
     "text": [
      "{'val_loss': 2.366661167726284, 'val_accuracy': 0.601067887109077, 'precision': 0.5540708851333905, 'recall': 0.601067887109077, 'f1-score': 0.5661806137719821, 'macro_f1-score': 0.19657636923072053, 'balanced_accuracy': 0.21432297822196192, 'mcc': 0.4742446154558705, 'train_loss': 0.9770405871748198}\n",
      "Epoch 11/20\n"
     ]
    },
    {
     "name": "stderr",
     "output_type": "stream",
     "text": [
      "100%|██████████| 328/328 [00:31<00:00, 10.55it/s]\n"
     ]
    },
    {
     "name": "stdout",
     "output_type": "stream",
     "text": [
      "{'val_loss': 2.5124665360625196, 'val_accuracy': 0.6117467581998475, 'precision': 0.5421265440916391, 'recall': 0.6117467581998475, 'f1-score': 0.5689493219737911, 'macro_f1-score': 0.21331677778488176, 'balanced_accuracy': 0.22437379964425583, 'mcc': 0.4742440329286358, 'train_loss': 0.9434016235172749}\n",
      "Epoch 12/20\n"
     ]
    },
    {
     "name": "stderr",
     "output_type": "stream",
     "text": [
      "100%|██████████| 328/328 [00:33<00:00,  9.84it/s]\n"
     ]
    },
    {
     "name": "stdout",
     "output_type": "stream",
     "text": [
      "{'val_loss': 2.399443218620812, 'val_accuracy': 0.6033562166285278, 'precision': 0.5803478996115208, 'recall': 0.6033562166285278, 'f1-score': 0.5819058907169248, 'macro_f1-score': 0.22441538453017484, 'balanced_accuracy': 0.24561920424704073, 'mcc': 0.4821034469469101, 'train_loss': 0.8557269329250585}\n",
      "Epoch 13/20\n"
     ]
    },
    {
     "name": "stderr",
     "output_type": "stream",
     "text": [
      "100%|██████████| 328/328 [00:33<00:00,  9.76it/s]\n"
     ]
    },
    {
     "name": "stdout",
     "output_type": "stream",
     "text": [
      "{'val_loss': 2.718179487600559, 'val_accuracy': 0.6254767353165522, 'precision': 0.576411164501363, 'recall': 0.6254767353165522, 'f1-score': 0.5876505940667635, 'macro_f1-score': 0.2485106820245666, 'balanced_accuracy': 0.2629568882540842, 'mcc': 0.4936501961794437, 'train_loss': 0.7792684817005221}\n",
      "Epoch 14/20\n"
     ]
    },
    {
     "name": "stderr",
     "output_type": "stream",
     "text": [
      "100%|██████████| 328/328 [00:33<00:00,  9.75it/s]\n"
     ]
    },
    {
     "name": "stdout",
     "output_type": "stream",
     "text": [
      "{'val_loss': 2.3910626529193504, 'val_accuracy': 0.6041189931350115, 'precision': 0.5866819245387744, 'recall': 0.6041189931350115, 'f1-score': 0.5876898348111197, 'macro_f1-score': 0.2742755458576344, 'balanced_accuracy': 0.2873902050647356, 'mcc': 0.48417065627517214, 'train_loss': 0.7053372806687725}\n",
      "Epoch 15/20\n"
     ]
    },
    {
     "name": "stderr",
     "output_type": "stream",
     "text": [
      "100%|██████████| 328/328 [00:33<00:00,  9.79it/s]\n"
     ]
    },
    {
     "name": "stdout",
     "output_type": "stream",
     "text": [
      "{'val_loss': 2.409323927105927, 'val_accuracy': 0.6102212051868803, 'precision': 0.608108314517367, 'recall': 0.6102212051868803, 'f1-score': 0.5984929391447229, 'macro_f1-score': 0.29807898610251354, 'balanced_accuracy': 0.3206224904554338, 'mcc': 0.4952283869556177, 'train_loss': 0.6612887410560577}\n",
      "Epoch 16/20\n"
     ]
    },
    {
     "name": "stderr",
     "output_type": "stream",
     "text": [
      "100%|██████████| 328/328 [00:33<00:00,  9.73it/s]\n"
     ]
    },
    {
     "name": "stdout",
     "output_type": "stream",
     "text": [
      "{'val_loss': 2.425356346659544, 'val_accuracy': 0.6018306636155606, 'precision': 0.6090663168220133, 'recall': 0.6018306636155606, 'f1-score': 0.593293854127033, 'macro_f1-score': 0.28994013325734225, 'balanced_accuracy': 0.3039760282863769, 'mcc': 0.49436750176729516, 'train_loss': 0.6224959121517292}\n",
      "Epoch 17/20\n"
     ]
    },
    {
     "name": "stderr",
     "output_type": "stream",
     "text": [
      "100%|██████████| 328/328 [00:33<00:00,  9.81it/s]\n"
     ]
    },
    {
     "name": "stdout",
     "output_type": "stream",
     "text": [
      "{'val_loss': 2.5045441621687354, 'val_accuracy': 0.6071700991609459, 'precision': 0.5890244934593696, 'recall': 0.6071700991609459, 'f1-score': 0.5894628437337616, 'macro_f1-score': 0.2721119351898275, 'balanced_accuracy': 0.29182393100132037, 'mcc': 0.49033632792220294, 'train_loss': 0.5949378984798563}\n",
      "Epoch 18/20\n"
     ]
    },
    {
     "name": "stderr",
     "output_type": "stream",
     "text": [
      "100%|██████████| 328/328 [00:33<00:00,  9.77it/s]\n"
     ]
    },
    {
     "name": "stdout",
     "output_type": "stream",
     "text": [
      "{'val_loss': 2.4502515756502383, 'val_accuracy': 0.6109839816933639, 'precision': 0.6266928640639854, 'recall': 0.6109839816933639, 'f1-score': 0.6076544344212932, 'macro_f1-score': 0.3204710323906126, 'balanced_accuracy': 0.332976413730862, 'mcc': 0.4975262157113893, 'train_loss': 0.5141962656932997}\n",
      "Epoch 19/20\n"
     ]
    },
    {
     "name": "stderr",
     "output_type": "stream",
     "text": [
      "100%|██████████| 328/328 [00:33<00:00,  9.77it/s]\n"
     ]
    },
    {
     "name": "stdout",
     "output_type": "stream",
     "text": [
      "{'val_loss': 2.671366744652027, 'val_accuracy': 0.6331045003813882, 'precision': 0.6181050761295861, 'recall': 0.6331045003813882, 'f1-score': 0.613899856301366, 'macro_f1-score': 0.31015539403970244, 'balanced_accuracy': 0.30676988924896775, 'mcc': 0.5121361753200572, 'train_loss': 0.4612518257756786}\n",
      "Epoch 20/20\n"
     ]
    },
    {
     "name": "stderr",
     "output_type": "stream",
     "text": [
      "100%|██████████| 328/328 [00:33<00:00,  9.74it/s]\n"
     ]
    },
    {
     "name": "stdout",
     "output_type": "stream",
     "text": [
      "{'val_loss': 2.5785667898087965, 'val_accuracy': 0.5911517925247902, 'precision': 0.6130653012243485, 'recall': 0.5911517925247902, 'f1-score': 0.5938426912185807, 'macro_f1-score': 0.2941518162446875, 'balanced_accuracy': 0.3096214228812151, 'mcc': 0.4756516240271071, 'train_loss': 0.49211936363405206}\n",
      "\n",
      " === roberta-base + bilstm + none Final 5-fold Cross-Validation Results ===\n",
      "val_loss: 2.8696\n",
      "val_accuracy: 0.5766\n",
      "precision: 0.5099\n",
      "recall: 0.5766\n",
      "f1-score: 0.5274\n",
      "macro_f1-score: 0.2296\n",
      "balanced_accuracy: 0.2454\n",
      "mcc: 0.4199\n",
      "train_loss: 1.1144\n",
      "total_seconds: 2485.0000\n",
      "total_time: 0 hrs 41 mins 25 secs\n",
      "▶ Running: microsoft/deberta-base + plain + none\n",
      "tokenizer is microsoft/deberta-base\n",
      "Using device: cuda\n",
      "CUDA Available: True\n",
      "CUDA Device: NVIDIA GeForce RTX 5070 Ti\n",
      "Current GPU Memory Allocated: 0.02 GB\n",
      "Current GPU Memory Cached: 3.82 GB\n",
      "\n",
      "[Fold 1]\n",
      "Label distribution after resampling:\n",
      "  label 0: 2471\n",
      "  label 1: 21\n",
      "  label 2: 64\n",
      "  label 3: 24\n",
      "  label 4: 191\n",
      "  label 5: 113\n",
      "  label 6: 93\n",
      "  label 7: 30\n",
      "  label 8: 68\n",
      "  label 9: 30\n",
      "  label 10: 67\n",
      "  label 11: 169\n",
      "  label 12: 189\n",
      "  label 13: 29\n",
      "  label 14: 22\n",
      "  label 15: 25\n",
      "  label 16: 19\n",
      "  label 17: 183\n",
      "  label 18: 92\n",
      "  label 19: 44\n",
      "  label 20: 13\n",
      "  label 21: 35\n",
      "  label 22: 76\n",
      "  label 23: 158\n",
      "  label 24: 13\n",
      "  label 25: 44\n",
      "  label 26: 84\n",
      "  label 27: 48\n",
      "  label 28: 11\n",
      "  label 29: 13\n",
      "  label 30: 11\n",
      "  label 31: 75\n",
      "  label 32: 36\n",
      "  label 33: 32\n",
      "  label 34: 29\n",
      "  label 35: 11\n",
      "  label 36: 22\n",
      "  label 37: 16\n",
      "  label 38: 33\n",
      "  label 39: 10\n",
      "  label 40: 9\n",
      "  label 41: 57\n",
      "  label 42: 19\n",
      "  label 43: 8\n",
      "  label 44: 54\n",
      "  label 45: 242\n",
      "  label 46: 61\n",
      "  label 47: 80\n",
      "model is microsoft/deberta-base\n"
     ]
    },
    {
     "name": "stderr",
     "output_type": "stream",
     "text": [
      "Some weights of DebertaForSequenceClassification were not initialized from the model checkpoint at microsoft/deberta-base and are newly initialized: ['classifier.bias', 'classifier.weight', 'pooler.dense.bias', 'pooler.dense.weight']\n",
      "You should probably TRAIN this model on a down-stream task to be able to use it for predictions and inference.\n"
     ]
    },
    {
     "name": "stdout",
     "output_type": "stream",
     "text": [
      "Using weighted CrossEntropyLoss with weights: tensor([0.7525, 5.5203, 4.4060, 5.3868, 3.3126, 3.8375, 4.0322, 5.1636, 4.3453,\n",
      "        5.1636, 4.3601, 3.4349, 3.3231, 5.1975, 5.4738, 5.3460, 5.6204, 3.3554,\n",
      "        4.0431, 4.7807, 5.9999, 5.0095, 4.2341, 3.5022, 5.9999, 4.7807, 4.1340,\n",
      "        4.6936, 6.1669, 5.9999, 6.1669, 4.2474, 4.9813, 5.0991, 5.1975, 6.1669,\n",
      "        5.4738, 5.7923, 5.0683, 6.2623, 6.3676, 4.5218, 5.6204, 6.4854, 4.5759,\n",
      "        3.0759, 4.4540, 4.1828], device='cuda:0')\n",
      "Epoch 1/20\n"
     ]
    },
    {
     "name": "stderr",
     "output_type": "stream",
     "text": [
      "100%|██████████| 328/328 [00:36<00:00,  8.91it/s]\n"
     ]
    },
    {
     "name": "stdout",
     "output_type": "stream",
     "text": [
      "{'val_loss': 2.9516771813718283, 'val_accuracy': 0.5457317073170732, 'precision': 0.38060363152488413, 'recall': 0.5457317073170732, 'f1-score': 0.43155479041332995, 'macro_f1-score': 0.06549397903870387, 'balanced_accuracy': 0.08350056724027667, 'mcc': 0.3311772213382819, 'train_loss': 2.1764431172391263}\n",
      "Epoch 2/20\n"
     ]
    },
    {
     "name": "stderr",
     "output_type": "stream",
     "text": [
      "100%|██████████| 328/328 [00:36<00:00,  9.11it/s]\n"
     ]
    },
    {
     "name": "stdout",
     "output_type": "stream",
     "text": [
      "{'val_loss': 2.7321036821458398, 'val_accuracy': 0.586890243902439, 'precision': 0.48683363739128727, 'recall': 0.586890243902439, 'f1-score': 0.4915090709560214, 'macro_f1-score': 0.14151574209808745, 'balanced_accuracy': 0.14002589700815202, 'mcc': 0.39746697104609063, 'train_loss': 1.5965187344245795}\n",
      "Epoch 3/20\n"
     ]
    },
    {
     "name": "stderr",
     "output_type": "stream",
     "text": [
      "100%|██████████| 328/328 [00:33<00:00,  9.82it/s]\n"
     ]
    },
    {
     "name": "stdout",
     "output_type": "stream",
     "text": [
      "{'val_loss': 2.236630058143197, 'val_accuracy': 0.6173780487804879, 'precision': 0.5578950830814301, 'recall': 0.6173780487804879, 'f1-score': 0.5705221075046824, 'macro_f1-score': 0.22600228622783783, 'balanced_accuracy': 0.23769928201835877, 'mcc': 0.47436202685109763, 'train_loss': 1.2255165949463844}\n",
      "Epoch 4/20\n"
     ]
    },
    {
     "name": "stderr",
     "output_type": "stream",
     "text": [
      "100%|██████████| 328/328 [00:33<00:00,  9.81it/s]\n"
     ]
    },
    {
     "name": "stdout",
     "output_type": "stream",
     "text": [
      "{'val_loss': 2.031252591348276, 'val_accuracy': 0.625, 'precision': 0.6090264398666483, 'recall': 0.625, 'f1-score': 0.6033626255528485, 'macro_f1-score': 0.30569812796097423, 'balanced_accuracy': 0.3352541363931844, 'mcc': 0.506991477370306, 'train_loss': 0.9362031784726352}\n",
      "Epoch 5/20\n"
     ]
    },
    {
     "name": "stderr",
     "output_type": "stream",
     "text": [
      "100%|██████████| 328/328 [00:33<00:00,  9.80it/s]\n"
     ]
    },
    {
     "name": "stdout",
     "output_type": "stream",
     "text": [
      "{'val_loss': 2.3702851657460378, 'val_accuracy': 0.6257621951219512, 'precision': 0.6124607616477292, 'recall': 0.6257621951219512, 'f1-score': 0.605022786936017, 'macro_f1-score': 0.33653409889000946, 'balanced_accuracy': 0.334688569885954, 'mcc': 0.4992132157015862, 'train_loss': 0.6616274865298737}\n",
      "Epoch 6/20\n"
     ]
    },
    {
     "name": "stderr",
     "output_type": "stream",
     "text": [
      "100%|██████████| 328/328 [00:33<00:00,  9.81it/s]\n"
     ]
    },
    {
     "name": "stdout",
     "output_type": "stream",
     "text": [
      "{'val_loss': 2.468295650511253, 'val_accuracy': 0.6280487804878049, 'precision': 0.5979739946890925, 'recall': 0.6280487804878049, 'f1-score': 0.6009560845462144, 'macro_f1-score': 0.3343218664627483, 'balanced_accuracy': 0.32790624821438685, 'mcc': 0.4948007059589841, 'train_loss': 0.4709735319484025}\n",
      "Epoch 7/20\n"
     ]
    },
    {
     "name": "stderr",
     "output_type": "stream",
     "text": [
      "100%|██████████| 328/328 [00:33<00:00,  9.83it/s]\n"
     ]
    },
    {
     "name": "stdout",
     "output_type": "stream",
     "text": [
      "{'val_loss': 2.5454008110412736, 'val_accuracy': 0.6387195121951219, 'precision': 0.624085772905727, 'recall': 0.6387195121951219, 'f1-score': 0.6213011958986153, 'macro_f1-score': 0.36597775064705784, 'balanced_accuracy': 0.34194866551728137, 'mcc': 0.5132823648751614, 'train_loss': 0.34545291978979437}\n",
      "Epoch 8/20\n"
     ]
    },
    {
     "name": "stderr",
     "output_type": "stream",
     "text": [
      "100%|██████████| 328/328 [00:33<00:00,  9.83it/s]\n"
     ]
    },
    {
     "name": "stdout",
     "output_type": "stream",
     "text": [
      "{'val_loss': 2.6206612521555366, 'val_accuracy': 0.6234756097560976, 'precision': 0.6210588553506352, 'recall': 0.6234756097560976, 'f1-score': 0.6174404003806014, 'macro_f1-score': 0.3549223930947519, 'balanced_accuracy': 0.3765846487928471, 'mcc': 0.5048871024782973, 'train_loss': 0.23877316829464512}\n",
      "Epoch 9/20\n"
     ]
    },
    {
     "name": "stderr",
     "output_type": "stream",
     "text": [
      "100%|██████████| 328/328 [00:33<00:00,  9.83it/s]\n"
     ]
    },
    {
     "name": "stdout",
     "output_type": "stream",
     "text": [
      "{'val_loss': 2.8339435567216174, 'val_accuracy': 0.6341463414634146, 'precision': 0.6152922918517516, 'recall': 0.6341463414634146, 'f1-score': 0.6169885611289837, 'macro_f1-score': 0.36911571977372754, 'balanced_accuracy': 0.3659047531289233, 'mcc': 0.5098060502551546, 'train_loss': 0.17908461896202912}\n",
      "Epoch 10/20\n"
     ]
    },
    {
     "name": "stderr",
     "output_type": "stream",
     "text": [
      "100%|██████████| 328/328 [00:33<00:00,  9.84it/s]\n"
     ]
    },
    {
     "name": "stdout",
     "output_type": "stream",
     "text": [
      "{'val_loss': 3.0605416792195017, 'val_accuracy': 0.618140243902439, 'precision': 0.620422831534646, 'recall': 0.618140243902439, 'f1-score': 0.6037826938174247, 'macro_f1-score': 0.36469415740840266, 'balanced_accuracy': 0.3601505128218177, 'mcc': 0.4918119071445294, 'train_loss': 0.1464473730032673}\n",
      "Epoch 11/20\n"
     ]
    },
    {
     "name": "stderr",
     "output_type": "stream",
     "text": [
      "100%|██████████| 328/328 [00:33<00:00,  9.83it/s]\n"
     ]
    },
    {
     "name": "stdout",
     "output_type": "stream",
     "text": [
      "{'val_loss': 3.2260325329332815, 'val_accuracy': 0.6379573170731707, 'precision': 0.6164967734869555, 'recall': 0.6379573170731707, 'f1-score': 0.6140805165256392, 'macro_f1-score': 0.382161230924684, 'balanced_accuracy': 0.3628098771615904, 'mcc': 0.5022655442326688, 'train_loss': 0.11890446652783217}\n",
      "Epoch 12/20\n"
     ]
    },
    {
     "name": "stderr",
     "output_type": "stream",
     "text": [
      "100%|██████████| 328/328 [00:33<00:00,  9.84it/s]\n"
     ]
    },
    {
     "name": "stdout",
     "output_type": "stream",
     "text": [
      "{'val_loss': 3.136729499915751, 'val_accuracy': 0.6501524390243902, 'precision': 0.6337682444625788, 'recall': 0.6501524390243902, 'f1-score': 0.6319618614354676, 'macro_f1-score': 0.3991755374508708, 'balanced_accuracy': 0.39065154415051034, 'mcc': 0.5293693065156382, 'train_loss': 0.11266091578461161}\n",
      "Epoch 13/20\n"
     ]
    },
    {
     "name": "stderr",
     "output_type": "stream",
     "text": [
      "100%|██████████| 328/328 [00:33<00:00,  9.84it/s]\n"
     ]
    },
    {
     "name": "stdout",
     "output_type": "stream",
     "text": [
      "{'val_loss': 3.059196899940328, 'val_accuracy': 0.649390243902439, 'precision': 0.6316853496514379, 'recall': 0.649390243902439, 'f1-score': 0.6329385874983378, 'macro_f1-score': 0.399618437349386, 'balanced_accuracy': 0.3980595197979831, 'mcc': 0.527903016432002, 'train_loss': 0.1145992059226534}\n",
      "Epoch 14/20\n"
     ]
    },
    {
     "name": "stderr",
     "output_type": "stream",
     "text": [
      "100%|██████████| 328/328 [00:33<00:00,  9.83it/s]\n"
     ]
    },
    {
     "name": "stdout",
     "output_type": "stream",
     "text": [
      "{'val_loss': 3.3714710437669986, 'val_accuracy': 0.6333841463414634, 'precision': 0.608743749821625, 'recall': 0.6333841463414634, 'f1-score': 0.6028228065416089, 'macro_f1-score': 0.35059721510682335, 'balanced_accuracy': 0.3194915893310407, 'mcc': 0.4939016862202353, 'train_loss': 0.10089539605417862}\n",
      "Epoch 15/20\n"
     ]
    },
    {
     "name": "stderr",
     "output_type": "stream",
     "text": [
      "100%|██████████| 328/328 [00:33<00:00,  9.84it/s]\n"
     ]
    },
    {
     "name": "stdout",
     "output_type": "stream",
     "text": [
      "{'val_loss': 3.609489587022037, 'val_accuracy': 0.6394817073170732, 'precision': 0.6215107724202853, 'recall': 0.6394817073170732, 'f1-score': 0.620034043921217, 'macro_f1-score': 0.37568403126913513, 'balanced_accuracy': 0.35748753140454714, 'mcc': 0.5079934362051655, 'train_loss': 0.11914100641421634}\n",
      "Epoch 16/20\n"
     ]
    },
    {
     "name": "stderr",
     "output_type": "stream",
     "text": [
      "100%|██████████| 328/328 [00:33<00:00,  9.84it/s]\n"
     ]
    },
    {
     "name": "stdout",
     "output_type": "stream",
     "text": [
      "{'val_loss': 3.3396465647511366, 'val_accuracy': 0.6341463414634146, 'precision': 0.6208476606469663, 'recall': 0.6341463414634146, 'f1-score': 0.6205422190668877, 'macro_f1-score': 0.39880294035218616, 'balanced_accuracy': 0.39962696012226556, 'mcc': 0.5118056956613153, 'train_loss': 0.07280266561783941}\n",
      "Early stopping.\n",
      "\n",
      "[Fold 2]\n",
      "Label distribution after resampling:\n",
      "  label 0: 2471\n",
      "  label 1: 22\n",
      "  label 2: 64\n",
      "  label 3: 24\n",
      "  label 4: 190\n",
      "  label 5: 113\n",
      "  label 6: 93\n",
      "  label 7: 30\n",
      "  label 8: 68\n",
      "  label 9: 30\n",
      "  label 10: 67\n",
      "  label 11: 169\n",
      "  label 12: 189\n",
      "  label 13: 29\n",
      "  label 14: 23\n",
      "  label 15: 24\n",
      "  label 16: 20\n",
      "  label 17: 182\n",
      "  label 18: 92\n",
      "  label 19: 44\n",
      "  label 20: 13\n",
      "  label 21: 36\n",
      "  label 22: 76\n",
      "  label 23: 157\n",
      "  label 24: 12\n",
      "  label 25: 44\n",
      "  label 26: 84\n",
      "  label 27: 48\n",
      "  label 28: 12\n",
      "  label 29: 12\n",
      "  label 30: 12\n",
      "  label 31: 75\n",
      "  label 32: 36\n",
      "  label 33: 31\n",
      "  label 34: 29\n",
      "  label 35: 12\n",
      "  label 36: 21\n",
      "  label 37: 16\n",
      "  label 38: 33\n",
      "  label 39: 11\n",
      "  label 40: 8\n",
      "  label 41: 57\n",
      "  label 42: 19\n",
      "  label 43: 9\n",
      "  label 44: 54\n",
      "  label 45: 242\n",
      "  label 46: 62\n",
      "  label 47: 80\n",
      "model is microsoft/deberta-base\n"
     ]
    },
    {
     "name": "stderr",
     "output_type": "stream",
     "text": [
      "Some weights of DebertaForSequenceClassification were not initialized from the model checkpoint at microsoft/deberta-base and are newly initialized: ['classifier.bias', 'classifier.weight', 'pooler.dense.bias', 'pooler.dense.weight']\n",
      "You should probably TRAIN this model on a down-stream task to be able to use it for predictions and inference.\n"
     ]
    },
    {
     "name": "stdout",
     "output_type": "stream",
     "text": [
      "Using weighted CrossEntropyLoss with weights: tensor([0.7527, 5.4740, 4.4061, 5.3870, 3.3180, 3.8376, 4.0324, 5.1638, 4.3455,\n",
      "        5.1638, 4.3603, 3.4351, 3.3233, 5.1977, 5.4295, 5.3870, 5.5693, 3.3610,\n",
      "        4.0432, 4.7808, 6.0001, 4.9815, 4.2343, 3.5088, 6.0801, 4.7808, 4.1342,\n",
      "        4.6938, 6.0801, 6.0801, 6.0801, 4.2475, 4.9815, 5.1310, 5.1977, 6.0801,\n",
      "        5.5205, 5.7924, 5.0685, 6.1671, 6.4856, 4.5220, 5.6206, 6.3678, 4.5760,\n",
      "        3.0761, 4.4379, 4.1830], device='cuda:0')\n",
      "Epoch 1/20\n"
     ]
    },
    {
     "name": "stderr",
     "output_type": "stream",
     "text": [
      "100%|██████████| 328/328 [00:33<00:00,  9.84it/s]\n"
     ]
    },
    {
     "name": "stdout",
     "output_type": "stream",
     "text": [
      "{'val_loss': 3.4496892966875214, 'val_accuracy': 0.5263157894736842, 'precision': 0.3040088899774799, 'recall': 0.5263157894736842, 'f1-score': 0.37609356272785316, 'macro_f1-score': 0.04125964343360817, 'balanced_accuracy': 0.050318567961165045, 'mcc': 0.25975283352453926, 'train_loss': 2.4474317478697474}\n",
      "Epoch 2/20\n"
     ]
    },
    {
     "name": "stderr",
     "output_type": "stream",
     "text": [
      "100%|██████████| 328/328 [00:33<00:00,  9.83it/s]\n"
     ]
    },
    {
     "name": "stdout",
     "output_type": "stream",
     "text": [
      "{'val_loss': 2.641574881425718, 'val_accuracy': 0.5621662852784134, 'precision': 0.422555856890855, 'recall': 0.5621662852784134, 'f1-score': 0.4536858088155937, 'macro_f1-score': 0.07503367299947157, 'balanced_accuracy': 0.09265761518656991, 'mcc': 0.36398604281514296, 'train_loss': 1.9268859399528038}\n",
      "Epoch 3/20\n"
     ]
    },
    {
     "name": "stderr",
     "output_type": "stream",
     "text": [
      "100%|██████████| 328/328 [00:33<00:00,  9.83it/s]\n"
     ]
    },
    {
     "name": "stdout",
     "output_type": "stream",
     "text": [
      "{'val_loss': 2.242138449738665, 'val_accuracy': 0.6048817696414951, 'precision': 0.5186728942728422, 'recall': 0.6048817696414951, 'f1-score': 0.5484225813351127, 'macro_f1-score': 0.16443442671380493, 'balanced_accuracy': 0.18118058646407023, 'mcc': 0.4662865522713594, 'train_loss': 1.5623110898020791}\n",
      "Epoch 4/20\n"
     ]
    },
    {
     "name": "stderr",
     "output_type": "stream",
     "text": [
      "100%|██████████| 328/328 [00:33<00:00,  9.83it/s]\n"
     ]
    },
    {
     "name": "stdout",
     "output_type": "stream",
     "text": [
      "{'val_loss': 2.3384428344121795, 'val_accuracy': 0.597254004576659, 'precision': 0.5128441883481488, 'recall': 0.597254004576659, 'f1-score': 0.540877705345277, 'macro_f1-score': 0.1720439609155114, 'balanced_accuracy': 0.17743396490750077, 'mcc': 0.44103730944423586, 'train_loss': 1.3494009041204684}\n",
      "Epoch 5/20\n"
     ]
    },
    {
     "name": "stderr",
     "output_type": "stream",
     "text": [
      "100%|██████████| 328/328 [00:33<00:00,  9.81it/s]\n"
     ]
    },
    {
     "name": "stdout",
     "output_type": "stream",
     "text": [
      "{'val_loss': 2.8943828867702948, 'val_accuracy': 0.5873379099923722, 'precision': 0.48238962010827957, 'recall': 0.5873379099923722, 'f1-score': 0.4952335182351175, 'macro_f1-score': 0.15079816714054403, 'balanced_accuracy': 0.15146422923623545, 'mcc': 0.3963610073783201, 'train_loss': 1.0732447421405373}\n",
      "Epoch 6/20\n"
     ]
    },
    {
     "name": "stderr",
     "output_type": "stream",
     "text": [
      "100%|██████████| 328/328 [00:33<00:00,  9.84it/s]\n"
     ]
    },
    {
     "name": "stdout",
     "output_type": "stream",
     "text": [
      "{'val_loss': 2.65621681620435, 'val_accuracy': 0.6102212051868803, 'precision': 0.5420377581257874, 'recall': 0.6102212051868803, 'f1-score': 0.5537401934748926, 'macro_f1-score': 0.24514486108212574, 'balanced_accuracy': 0.2368111298368614, 'mcc': 0.45275302969192105, 'train_loss': 0.855667310562439}\n",
      "Epoch 7/20\n"
     ]
    },
    {
     "name": "stderr",
     "output_type": "stream",
     "text": [
      "100%|██████████| 328/328 [00:33<00:00,  9.84it/s]\n"
     ]
    },
    {
     "name": "stdout",
     "output_type": "stream",
     "text": [
      "{'val_loss': 2.725603562666149, 'val_accuracy': 0.6209000762776506, 'precision': 0.5800137141177488, 'recall': 0.6209000762776506, 'f1-score': 0.5796077265518846, 'macro_f1-score': 0.2663290584699155, 'balanced_accuracy': 0.24174871131667927, 'mcc': 0.46991851603821827, 'train_loss': 0.6351561735770325}\n",
      "Epoch 8/20\n"
     ]
    },
    {
     "name": "stderr",
     "output_type": "stream",
     "text": [
      "100%|██████████| 328/328 [00:33<00:00,  9.82it/s]\n"
     ]
    },
    {
     "name": "stdout",
     "output_type": "stream",
     "text": [
      "{'val_loss': 2.4130597877793196, 'val_accuracy': 0.620137299771167, 'precision': 0.6147096607938292, 'recall': 0.620137299771167, 'f1-score': 0.6056313372708412, 'macro_f1-score': 0.3248427149977851, 'balanced_accuracy': 0.3224760869831903, 'mcc': 0.49879272591946294, 'train_loss': 0.5078990093102996}\n",
      "Epoch 9/20\n"
     ]
    },
    {
     "name": "stderr",
     "output_type": "stream",
     "text": [
      "100%|██████████| 328/328 [00:33<00:00,  9.85it/s]\n"
     ]
    },
    {
     "name": "stdout",
     "output_type": "stream",
     "text": [
      "{'val_loss': 2.5307448448204415, 'val_accuracy': 0.6094584286803967, 'precision': 0.5923051426539351, 'recall': 0.6094584286803967, 'f1-score': 0.5909559115637799, 'macro_f1-score': 0.29822864075208094, 'balanced_accuracy': 0.30150241682216566, 'mcc': 0.4752679729137314, 'train_loss': 0.4007836759953601}\n",
      "Epoch 10/20\n"
     ]
    },
    {
     "name": "stderr",
     "output_type": "stream",
     "text": [
      "100%|██████████| 328/328 [00:33<00:00,  9.84it/s]\n"
     ]
    },
    {
     "name": "stdout",
     "output_type": "stream",
     "text": [
      "{'val_loss': 2.7561881156956276, 'val_accuracy': 0.6178489702517163, 'precision': 0.5989549501525155, 'recall': 0.6178489702517163, 'f1-score': 0.5949294885099495, 'macro_f1-score': 0.2935445378356529, 'balanced_accuracy': 0.31701105736404767, 'mcc': 0.49303747050608593, 'train_loss': 0.2786098412442498}\n",
      "Epoch 11/20\n"
     ]
    },
    {
     "name": "stderr",
     "output_type": "stream",
     "text": [
      "100%|██████████| 328/328 [00:33<00:00,  9.84it/s]\n"
     ]
    },
    {
     "name": "stdout",
     "output_type": "stream",
     "text": [
      "{'val_loss': 2.60358507386068, 'val_accuracy': 0.6231884057971014, 'precision': 0.6294937475305201, 'recall': 0.6231884057971014, 'f1-score': 0.6207275250050411, 'macro_f1-score': 0.35522750956521715, 'balanced_accuracy': 0.3923564698802004, 'mcc': 0.5122696962069017, 'train_loss': 0.21930124453927685}\n",
      "Epoch 12/20\n"
     ]
    },
    {
     "name": "stderr",
     "output_type": "stream",
     "text": [
      "100%|██████████| 328/328 [00:33<00:00,  9.83it/s]\n"
     ]
    },
    {
     "name": "stdout",
     "output_type": "stream",
     "text": [
      "{'val_loss': 3.2198346555233, 'val_accuracy': 0.6300533943554538, 'precision': 0.6156700133825618, 'recall': 0.6300533943554538, 'f1-score': 0.6125829895893466, 'macro_f1-score': 0.34137283447985256, 'balanced_accuracy': 0.33424902629293696, 'mcc': 0.5023429018048723, 'train_loss': 0.16956986277932073}\n",
      "Epoch 13/20\n"
     ]
    },
    {
     "name": "stderr",
     "output_type": "stream",
     "text": [
      "100%|██████████| 328/328 [00:33<00:00,  9.84it/s]\n"
     ]
    },
    {
     "name": "stdout",
     "output_type": "stream",
     "text": [
      "{'val_loss': 2.755644252387489, 'val_accuracy': 0.627765064836003, 'precision': 0.6291620070910875, 'recall': 0.627765064836003, 'f1-score': 0.6209280574519774, 'macro_f1-score': 0.3568872453459675, 'balanced_accuracy': 0.3781446817860384, 'mcc': 0.5111823175036916, 'train_loss': 0.1801532014221998}\n",
      "Epoch 14/20\n"
     ]
    },
    {
     "name": "stderr",
     "output_type": "stream",
     "text": [
      "100%|██████████| 328/328 [00:33<00:00,  9.83it/s]\n"
     ]
    },
    {
     "name": "stdout",
     "output_type": "stream",
     "text": [
      "{'val_loss': 2.8134768321746733, 'val_accuracy': 0.6262395118230358, 'precision': 0.6426256663400944, 'recall': 0.6262395118230358, 'f1-score': 0.6236798189063997, 'macro_f1-score': 0.358874836782411, 'balanced_accuracy': 0.4032002147928007, 'mcc': 0.5159433270670195, 'train_loss': 0.1587945520721671}\n",
      "Epoch 15/20\n"
     ]
    },
    {
     "name": "stderr",
     "output_type": "stream",
     "text": [
      "100%|██████████| 328/328 [00:33<00:00,  9.83it/s]\n"
     ]
    },
    {
     "name": "stdout",
     "output_type": "stream",
     "text": [
      "{'val_loss': 3.3904639035463333, 'val_accuracy': 0.6056445461479787, 'precision': 0.5993575269754767, 'recall': 0.6056445461479787, 'f1-score': 0.5892221339055823, 'macro_f1-score': 0.29752810582337363, 'balanced_accuracy': 0.30081878297372616, 'mcc': 0.47242252027802484, 'train_loss': 0.1460009522398184}\n",
      "Epoch 16/20\n"
     ]
    },
    {
     "name": "stderr",
     "output_type": "stream",
     "text": [
      "100%|██████████| 328/328 [00:33<00:00,  9.84it/s]\n"
     ]
    },
    {
     "name": "stdout",
     "output_type": "stream",
     "text": [
      "{'val_loss': 3.1635284678238196, 'val_accuracy': 0.6056445461479787, 'precision': 0.6150946293925609, 'recall': 0.6056445461479787, 'f1-score': 0.6031640217922688, 'macro_f1-score': 0.34778046589968653, 'balanced_accuracy': 0.3600297780364395, 'mcc': 0.4823460191999809, 'train_loss': 0.1153760615632608}\n",
      "Epoch 17/20\n"
     ]
    },
    {
     "name": "stderr",
     "output_type": "stream",
     "text": [
      "100%|██████████| 328/328 [00:33<00:00,  9.83it/s]\n"
     ]
    },
    {
     "name": "stdout",
     "output_type": "stream",
     "text": [
      "{'val_loss': 3.244100074215633, 'val_accuracy': 0.6147978642257819, 'precision': 0.617640396752663, 'recall': 0.6147978642257819, 'f1-score': 0.606637340297154, 'macro_f1-score': 0.3143534287665786, 'balanced_accuracy': 0.3375847444580133, 'mcc': 0.4896168061101095, 'train_loss': 0.09732406842380353}\n",
      "Early stopping.\n",
      "\n",
      "[Fold 3]\n",
      "Label distribution after resampling:\n",
      "  label 0: 2471\n",
      "  label 1: 22\n",
      "  label 2: 64\n",
      "  label 3: 24\n",
      "  label 4: 190\n",
      "  label 5: 113\n",
      "  label 6: 93\n",
      "  label 7: 30\n",
      "  label 8: 68\n",
      "  label 9: 30\n",
      "  label 10: 67\n",
      "  label 11: 169\n",
      "  label 12: 190\n",
      "  label 13: 28\n",
      "  label 14: 23\n",
      "  label 15: 25\n",
      "  label 16: 19\n",
      "  label 17: 182\n",
      "  label 18: 92\n",
      "  label 19: 44\n",
      "  label 20: 14\n",
      "  label 21: 35\n",
      "  label 22: 76\n",
      "  label 23: 157\n",
      "  label 24: 13\n",
      "  label 25: 44\n",
      "  label 26: 84\n",
      "  label 27: 48\n",
      "  label 28: 11\n",
      "  label 29: 13\n",
      "  label 30: 11\n",
      "  label 31: 76\n",
      "  label 32: 36\n",
      "  label 33: 31\n",
      "  label 34: 30\n",
      "  label 35: 11\n",
      "  label 36: 21\n",
      "  label 37: 16\n",
      "  label 38: 32\n",
      "  label 39: 11\n",
      "  label 40: 9\n",
      "  label 41: 57\n",
      "  label 42: 18\n",
      "  label 43: 9\n",
      "  label 44: 55\n",
      "  label 45: 241\n",
      "  label 46: 62\n",
      "  label 47: 80\n",
      "model is microsoft/deberta-base\n"
     ]
    },
    {
     "name": "stderr",
     "output_type": "stream",
     "text": [
      "Some weights of DebertaForSequenceClassification were not initialized from the model checkpoint at microsoft/deberta-base and are newly initialized: ['classifier.bias', 'classifier.weight', 'pooler.dense.bias', 'pooler.dense.weight']\n",
      "You should probably TRAIN this model on a down-stream task to be able to use it for predictions and inference.\n"
     ]
    },
    {
     "name": "stdout",
     "output_type": "stream",
     "text": [
      "Using weighted CrossEntropyLoss with weights: tensor([0.7527, 5.4740, 4.4061, 5.3870, 3.3180, 3.8376, 4.0324, 5.1638, 4.3455,\n",
      "        5.1638, 4.3603, 3.4351, 3.3180, 5.2328, 5.4295, 5.3462, 5.6206, 3.3610,\n",
      "        4.0432, 4.7808, 5.9260, 5.0097, 4.2343, 3.5088, 6.0001, 4.7808, 4.1342,\n",
      "        4.6938, 6.1671, 6.0001, 6.1671, 4.2343, 4.9815, 5.1310, 5.1638, 6.1671,\n",
      "        5.5205, 5.7924, 5.0993, 6.1671, 6.3678, 4.5220, 5.6747, 6.3678, 4.5577,\n",
      "        3.0802, 4.4379, 4.1830], device='cuda:0')\n",
      "Epoch 1/20\n"
     ]
    },
    {
     "name": "stderr",
     "output_type": "stream",
     "text": [
      "100%|██████████| 328/328 [00:33<00:00,  9.84it/s]\n"
     ]
    },
    {
     "name": "stdout",
     "output_type": "stream",
     "text": [
      "{'val_loss': 2.5961119372670245, 'val_accuracy': 0.5530129672006102, 'precision': 0.4714905401711725, 'recall': 0.5530129672006102, 'f1-score': 0.4950089677350608, 'macro_f1-score': 0.1100272881350991, 'balanced_accuracy': 0.13464697496806796, 'mcc': 0.3889874967033244, 'train_loss': 2.2033596236894772}\n",
      "Epoch 2/20\n"
     ]
    },
    {
     "name": "stderr",
     "output_type": "stream",
     "text": [
      "100%|██████████| 328/328 [00:33<00:00,  9.85it/s]\n"
     ]
    },
    {
     "name": "stdout",
     "output_type": "stream",
     "text": [
      "{'val_loss': 2.414907107265984, 'val_accuracy': 0.5964912280701754, 'precision': 0.4833575242345418, 'recall': 0.5964912280701754, 'f1-score': 0.5198679596712766, 'macro_f1-score': 0.15630480873928734, 'balanced_accuracy': 0.1727157962050642, 'mcc': 0.43230116359780707, 'train_loss': 1.517317413375145}\n",
      "Epoch 3/20\n"
     ]
    },
    {
     "name": "stderr",
     "output_type": "stream",
     "text": [
      "100%|██████████| 328/328 [00:33<00:00,  9.83it/s]\n"
     ]
    },
    {
     "name": "stdout",
     "output_type": "stream",
     "text": [
      "{'val_loss': 2.2512866004211145, 'val_accuracy': 0.6163234172387491, 'precision': 0.5711484204192143, 'recall': 0.6163234172387491, 'f1-score': 0.5818883892567308, 'macro_f1-score': 0.2517179020076979, 'balanced_accuracy': 0.25278661718873474, 'mcc': 0.4791906730717277, 'train_loss': 1.1261038343172247}\n",
      "Epoch 4/20\n"
     ]
    },
    {
     "name": "stderr",
     "output_type": "stream",
     "text": [
      "100%|██████████| 328/328 [00:33<00:00,  9.83it/s]\n"
     ]
    },
    {
     "name": "stdout",
     "output_type": "stream",
     "text": [
      "{'val_loss': 2.2581331417327974, 'val_accuracy': 0.620137299771167, 'precision': 0.5837127589188991, 'recall': 0.620137299771167, 'f1-score': 0.5911177348215166, 'macro_f1-score': 0.26471626478426147, 'balanced_accuracy': 0.2559400108796604, 'mcc': 0.48123099459041907, 'train_loss': 0.8057208680434198}\n",
      "Epoch 5/20\n"
     ]
    },
    {
     "name": "stderr",
     "output_type": "stream",
     "text": [
      "100%|██████████| 328/328 [00:33<00:00,  9.82it/s]\n"
     ]
    },
    {
     "name": "stdout",
     "output_type": "stream",
     "text": [
      "{'val_loss': 2.442902874292397, 'val_accuracy': 0.620137299771167, 'precision': 0.5965285368384973, 'recall': 0.620137299771167, 'f1-score': 0.5987927448226085, 'macro_f1-score': 0.3010183237996646, 'balanced_accuracy': 0.29225789402078833, 'mcc': 0.4936238242893238, 'train_loss': 0.5555784681175904}\n",
      "Epoch 6/20\n"
     ]
    },
    {
     "name": "stderr",
     "output_type": "stream",
     "text": [
      "100%|██████████| 328/328 [00:33<00:00,  9.83it/s]\n"
     ]
    },
    {
     "name": "stdout",
     "output_type": "stream",
     "text": [
      "{'val_loss': 2.5969674579980895, 'val_accuracy': 0.6483600305110603, 'precision': 0.61136925158845, 'recall': 0.6483600305110603, 'f1-score': 0.6187357232145416, 'macro_f1-score': 0.3292519928473067, 'balanced_accuracy': 0.31021697897734324, 'mcc': 0.5188263002655807, 'train_loss': 0.3866428394756484}\n",
      "Epoch 7/20\n"
     ]
    },
    {
     "name": "stderr",
     "output_type": "stream",
     "text": [
      "100%|██████████| 328/328 [00:33<00:00,  9.83it/s]\n"
     ]
    },
    {
     "name": "stdout",
     "output_type": "stream",
     "text": [
      "{'val_loss': 2.9919450544729465, 'val_accuracy': 0.6399694889397407, 'precision': 0.595805549900551, 'recall': 0.6399694889397407, 'f1-score': 0.6059028765813198, 'macro_f1-score': 0.32026329747962384, 'balanced_accuracy': 0.29691379801243795, 'mcc': 0.5023631669139641, 'train_loss': 0.2759599980455255}\n",
      "Epoch 8/20\n"
     ]
    },
    {
     "name": "stderr",
     "output_type": "stream",
     "text": [
      "100%|██████████| 328/328 [00:33<00:00,  9.84it/s]\n"
     ]
    },
    {
     "name": "stdout",
     "output_type": "stream",
     "text": [
      "{'val_loss': 2.861139779410711, 'val_accuracy': 0.6155606407322655, 'precision': 0.6142690657233532, 'recall': 0.6155606407322655, 'f1-score': 0.6054322446404912, 'macro_f1-score': 0.306484496526691, 'balanced_accuracy': 0.3072208329643622, 'mcc': 0.49122696263476784, 'train_loss': 0.2001727913256462}\n",
      "Epoch 9/20\n"
     ]
    },
    {
     "name": "stderr",
     "output_type": "stream",
     "text": [
      "100%|██████████| 328/328 [00:33<00:00,  9.85it/s]\n"
     ]
    },
    {
     "name": "stdout",
     "output_type": "stream",
     "text": [
      "{'val_loss': 2.94123103687676, 'val_accuracy': 0.6254767353165522, 'precision': 0.6169648058267707, 'recall': 0.6254767353165522, 'f1-score': 0.6079206365807501, 'macro_f1-score': 0.3473223360391864, 'balanced_accuracy': 0.3327600793632836, 'mcc': 0.4965670720902219, 'train_loss': 0.18076859364888018}\n",
      "Epoch 10/20\n"
     ]
    },
    {
     "name": "stderr",
     "output_type": "stream",
     "text": [
      "100%|██████████| 328/328 [00:33<00:00,  9.83it/s]\n"
     ]
    },
    {
     "name": "stdout",
     "output_type": "stream",
     "text": [
      "{'val_loss': 3.114671139455423, 'val_accuracy': 0.620137299771167, 'precision': 0.6276418378615791, 'recall': 0.620137299771167, 'f1-score': 0.6150242280077411, 'macro_f1-score': 0.3828768428650231, 'balanced_accuracy': 0.37217230425038955, 'mcc': 0.5013205831378891, 'train_loss': 0.11696720363717049}\n",
      "Epoch 11/20\n"
     ]
    },
    {
     "name": "stderr",
     "output_type": "stream",
     "text": [
      "100%|██████████| 328/328 [00:33<00:00,  9.84it/s]\n"
     ]
    },
    {
     "name": "stdout",
     "output_type": "stream",
     "text": [
      "{'val_loss': 3.191214861302841, 'val_accuracy': 0.6292906178489702, 'precision': 0.6274490864451179, 'recall': 0.6292906178489702, 'f1-score': 0.623126181805207, 'macro_f1-score': 0.3759715983382515, 'balanced_accuracy': 0.37765564585152406, 'mcc': 0.5130504461145701, 'train_loss': 0.0707241945730369}\n",
      "Epoch 12/20\n"
     ]
    },
    {
     "name": "stderr",
     "output_type": "stream",
     "text": [
      "100%|██████████| 328/328 [00:33<00:00,  9.84it/s]\n"
     ]
    },
    {
     "name": "stdout",
     "output_type": "stream",
     "text": [
      "{'val_loss': 3.51893864426671, 'val_accuracy': 0.6216628527841342, 'precision': 0.6117297999859315, 'recall': 0.6216628527841342, 'f1-score': 0.6091168776826865, 'macro_f1-score': 0.3537243489097713, 'balanced_accuracy': 0.3403360969313216, 'mcc': 0.49030432419075537, 'train_loss': 0.06393859954018476}\n",
      "Epoch 13/20\n"
     ]
    },
    {
     "name": "stderr",
     "output_type": "stream",
     "text": [
      "100%|██████████| 328/328 [00:33<00:00,  9.84it/s]\n"
     ]
    },
    {
     "name": "stdout",
     "output_type": "stream",
     "text": [
      "{'val_loss': 3.8704960170860696, 'val_accuracy': 0.6483600305110603, 'precision': 0.6185889079067284, 'recall': 0.6483600305110603, 'f1-score': 0.6186170652364641, 'macro_f1-score': 0.3532529838174437, 'balanced_accuracy': 0.3239311923384733, 'mcc': 0.5181141929263733, 'train_loss': 0.053801123035444154}\n",
      "Early stopping.\n",
      "\n",
      "[Fold 4]\n",
      "Label distribution after resampling:\n",
      "  label 0: 2471\n",
      "  label 1: 22\n",
      "  label 2: 64\n",
      "  label 3: 24\n",
      "  label 4: 190\n",
      "  label 5: 113\n",
      "  label 6: 93\n",
      "  label 7: 31\n",
      "  label 8: 68\n",
      "  label 9: 29\n",
      "  label 10: 67\n",
      "  label 11: 169\n",
      "  label 12: 190\n",
      "  label 13: 29\n",
      "  label 14: 22\n",
      "  label 15: 25\n",
      "  label 16: 19\n",
      "  label 17: 182\n",
      "  label 18: 92\n",
      "  label 19: 44\n",
      "  label 20: 14\n",
      "  label 21: 35\n",
      "  label 22: 76\n",
      "  label 23: 158\n",
      "  label 24: 13\n",
      "  label 25: 44\n",
      "  label 26: 84\n",
      "  label 27: 48\n",
      "  label 28: 11\n",
      "  label 29: 13\n",
      "  label 30: 11\n",
      "  label 31: 75\n",
      "  label 32: 36\n",
      "  label 33: 31\n",
      "  label 34: 30\n",
      "  label 35: 11\n",
      "  label 36: 22\n",
      "  label 37: 16\n",
      "  label 38: 33\n",
      "  label 39: 10\n",
      "  label 40: 9\n",
      "  label 41: 56\n",
      "  label 42: 18\n",
      "  label 43: 9\n",
      "  label 44: 55\n",
      "  label 45: 241\n",
      "  label 46: 62\n",
      "  label 47: 80\n",
      "model is microsoft/deberta-base\n"
     ]
    },
    {
     "name": "stderr",
     "output_type": "stream",
     "text": [
      "Some weights of DebertaForSequenceClassification were not initialized from the model checkpoint at microsoft/deberta-base and are newly initialized: ['classifier.bias', 'classifier.weight', 'pooler.dense.bias', 'pooler.dense.weight']\n",
      "You should probably TRAIN this model on a down-stream task to be able to use it for predictions and inference.\n"
     ]
    },
    {
     "name": "stdout",
     "output_type": "stream",
     "text": [
      "Using weighted CrossEntropyLoss with weights: tensor([0.7527, 5.4740, 4.4061, 5.3870, 3.3180, 3.8376, 4.0324, 5.1310, 4.3455,\n",
      "        5.1977, 4.3603, 3.4351, 3.3180, 5.1977, 5.4740, 5.3462, 5.6206, 3.3610,\n",
      "        4.0432, 4.7808, 5.9260, 5.0097, 4.2343, 3.5024, 6.0001, 4.7808, 4.1342,\n",
      "        4.6938, 6.1671, 6.0001, 6.1671, 4.2475, 4.9815, 5.1310, 5.1638, 6.1671,\n",
      "        5.4740, 5.7924, 5.0685, 6.2624, 6.3678, 4.5397, 5.6747, 6.3678, 4.5577,\n",
      "        3.0802, 4.4379, 4.1830], device='cuda:0')\n",
      "Epoch 1/20\n"
     ]
    },
    {
     "name": "stderr",
     "output_type": "stream",
     "text": [
      "100%|██████████| 328/328 [00:33<00:00,  9.83it/s]\n"
     ]
    },
    {
     "name": "stdout",
     "output_type": "stream",
     "text": [
      "{'val_loss': 2.8417792465628646, 'val_accuracy': 0.5568268497330282, 'precision': 0.3816111163211826, 'recall': 0.5568268497330282, 'f1-score': 0.43906418914222856, 'macro_f1-score': 0.08101069283777128, 'balanced_accuracy': 0.0927807036062196, 'mcc': 0.3411985322355522, 'train_loss': 2.161312815619678}\n",
      "Epoch 2/20\n"
     ]
    },
    {
     "name": "stderr",
     "output_type": "stream",
     "text": [
      "100%|██████████| 328/328 [00:33<00:00,  9.82it/s]\n"
     ]
    },
    {
     "name": "stdout",
     "output_type": "stream",
     "text": [
      "{'val_loss': 2.4159869271807555, 'val_accuracy': 0.585812356979405, 'precision': 0.47860717662700214, 'recall': 0.585812356979405, 'f1-score': 0.5092947822139812, 'macro_f1-score': 0.13513552341686694, 'balanced_accuracy': 0.15370177314239686, 'mcc': 0.4204122403726608, 'train_loss': 1.5662245399704793}\n",
      "Epoch 3/20\n"
     ]
    },
    {
     "name": "stderr",
     "output_type": "stream",
     "text": [
      "100%|██████████| 328/328 [00:33<00:00,  9.83it/s]\n"
     ]
    },
    {
     "name": "stdout",
     "output_type": "stream",
     "text": [
      "{'val_loss': 2.277169611032416, 'val_accuracy': 0.6300533943554538, 'precision': 0.5604530304090851, 'recall': 0.6300533943554538, 'f1-score': 0.5743618851594083, 'macro_f1-score': 0.23148614571191914, 'balanced_accuracy': 0.226622899665142, 'mcc': 0.4845016719919964, 'train_loss': 1.2039474968048858}\n",
      "Epoch 4/20\n"
     ]
    },
    {
     "name": "stderr",
     "output_type": "stream",
     "text": [
      "100%|██████████| 328/328 [00:33<00:00,  9.83it/s]\n"
     ]
    },
    {
     "name": "stdout",
     "output_type": "stream",
     "text": [
      "{'val_loss': 2.252434179186821, 'val_accuracy': 0.6346300533943554, 'precision': 0.6082722052559036, 'recall': 0.6346300533943554, 'f1-score': 0.602540919586714, 'macro_f1-score': 0.27635621312997993, 'balanced_accuracy': 0.2584042313790625, 'mcc': 0.4992525314592545, 'train_loss': 0.879532232471719}\n",
      "Epoch 5/20\n"
     ]
    },
    {
     "name": "stderr",
     "output_type": "stream",
     "text": [
      "100%|██████████| 328/328 [00:33<00:00,  9.84it/s]\n"
     ]
    },
    {
     "name": "stdout",
     "output_type": "stream",
     "text": [
      "{'val_loss': 2.16137299650326, 'val_accuracy': 0.6521739130434783, 'precision': 0.6245462563637247, 'recall': 0.6521739130434783, 'f1-score': 0.6290127836184636, 'macro_f1-score': 0.33452264562941636, 'balanced_accuracy': 0.32297168162816486, 'mcc': 0.5288193386298905, 'train_loss': 0.6067037818181079}\n",
      "Epoch 6/20\n"
     ]
    },
    {
     "name": "stderr",
     "output_type": "stream",
     "text": [
      "100%|██████████| 328/328 [00:33<00:00,  9.85it/s]\n"
     ]
    },
    {
     "name": "stdout",
     "output_type": "stream",
     "text": [
      "{'val_loss': 2.263507242609815, 'val_accuracy': 0.593440122044241, 'precision': 0.6502207997495175, 'recall': 0.593440122044241, 'f1-score': 0.6103557237999051, 'macro_f1-score': 0.3297057170237501, 'balanced_accuracy': 0.3406274445780945, 'mcc': 0.4859216168205398, 'train_loss': 0.4088850093710168}\n",
      "Epoch 7/20\n"
     ]
    },
    {
     "name": "stderr",
     "output_type": "stream",
     "text": [
      "100%|██████████| 328/328 [00:33<00:00,  9.83it/s]\n"
     ]
    },
    {
     "name": "stdout",
     "output_type": "stream",
     "text": [
      "{'val_loss': 2.505528721504095, 'val_accuracy': 0.620137299771167, 'precision': 0.6340831911718641, 'recall': 0.620137299771167, 'f1-score': 0.6160286836015041, 'macro_f1-score': 0.34004706247553024, 'balanced_accuracy': 0.34626736314352796, 'mcc': 0.5078105136728612, 'train_loss': 0.2961337353562845}\n",
      "Epoch 8/20\n"
     ]
    },
    {
     "name": "stderr",
     "output_type": "stream",
     "text": [
      "100%|██████████| 328/328 [00:33<00:00,  9.84it/s]\n"
     ]
    },
    {
     "name": "stdout",
     "output_type": "stream",
     "text": [
      "{'val_loss': 2.4885105547926774, 'val_accuracy': 0.5980167810831426, 'precision': 0.6494745215229786, 'recall': 0.5980167810831426, 'f1-score': 0.6150931752225016, 'macro_f1-score': 0.3489788783527265, 'balanced_accuracy': 0.3660622856496813, 'mcc': 0.5002793614588026, 'train_loss': 0.21171636626453752}\n",
      "Epoch 9/20\n"
     ]
    },
    {
     "name": "stderr",
     "output_type": "stream",
     "text": [
      "100%|██████████| 328/328 [00:33<00:00,  9.83it/s]\n"
     ]
    },
    {
     "name": "stdout",
     "output_type": "stream",
     "text": [
      "{'val_loss': 2.629088719080134, 'val_accuracy': 0.6308161708619374, 'precision': 0.6362740471450302, 'recall': 0.6308161708619374, 'f1-score': 0.6278940673925412, 'macro_f1-score': 0.35501208341810403, 'balanced_accuracy': 0.34454760266243145, 'mcc': 0.5166114906433977, 'train_loss': 0.15633538544530096}\n",
      "Epoch 10/20\n"
     ]
    },
    {
     "name": "stderr",
     "output_type": "stream",
     "text": [
      "100%|██████████| 328/328 [00:33<00:00,  9.84it/s]\n"
     ]
    },
    {
     "name": "stdout",
     "output_type": "stream",
     "text": [
      "{'val_loss': 3.49415292154725, 'val_accuracy': 0.6361556064073226, 'precision': 0.6212733928782712, 'recall': 0.6361556064073226, 'f1-score': 0.6053801134679025, 'macro_f1-score': 0.3140715605031761, 'balanced_accuracy': 0.291470933151609, 'mcc': 0.49692790803289394, 'train_loss': 0.14683211116665384}\n",
      "Epoch 11/20\n"
     ]
    },
    {
     "name": "stderr",
     "output_type": "stream",
     "text": [
      "100%|██████████| 328/328 [00:33<00:00,  9.84it/s]\n"
     ]
    },
    {
     "name": "stdout",
     "output_type": "stream",
     "text": [
      "{'val_loss': 2.7380991515408204, 'val_accuracy': 0.6323417238749046, 'precision': 0.6445853863307451, 'recall': 0.6323417238749046, 'f1-score': 0.6331183450425414, 'macro_f1-score': 0.3562637165602318, 'balanced_accuracy': 0.3646107336127895, 'mcc': 0.5253844674864294, 'train_loss': 0.11001936489398159}\n",
      "Epoch 12/20\n"
     ]
    },
    {
     "name": "stderr",
     "output_type": "stream",
     "text": [
      "100%|██████████| 328/328 [00:33<00:00,  9.84it/s]\n"
     ]
    },
    {
     "name": "stdout",
     "output_type": "stream",
     "text": [
      "{'val_loss': 2.981315224545031, 'val_accuracy': 0.6216628527841342, 'precision': 0.6310726748593338, 'recall': 0.6216628527841342, 'f1-score': 0.6154658654780835, 'macro_f1-score': 0.3403026271171481, 'balanced_accuracy': 0.3479989189560196, 'mcc': 0.5086026639772584, 'train_loss': 0.09460473848469896}\n",
      "Epoch 13/20\n"
     ]
    },
    {
     "name": "stderr",
     "output_type": "stream",
     "text": [
      "100%|██████████| 328/328 [00:33<00:00,  9.84it/s]\n"
     ]
    },
    {
     "name": "stdout",
     "output_type": "stream",
     "text": [
      "{'val_loss': 3.2131257165768523, 'val_accuracy': 0.6483600305110603, 'precision': 0.6466205607653261, 'recall': 0.6483600305110603, 'f1-score': 0.6380833718072663, 'macro_f1-score': 0.39192091436443244, 'balanced_accuracy': 0.385762619405183, 'mcc': 0.5354770103121061, 'train_loss': 0.14027759959997904}\n",
      "Epoch 14/20\n"
     ]
    },
    {
     "name": "stderr",
     "output_type": "stream",
     "text": [
      "100%|██████████| 328/328 [00:33<00:00,  9.83it/s]\n"
     ]
    },
    {
     "name": "stdout",
     "output_type": "stream",
     "text": [
      "{'val_loss': 3.1341584728258414, 'val_accuracy': 0.6468344774980931, 'precision': 0.6479131446259112, 'recall': 0.6468344774980931, 'f1-score': 0.6339577859028858, 'macro_f1-score': 0.37343555835183984, 'balanced_accuracy': 0.36102358083311287, 'mcc': 0.5265056568848048, 'train_loss': 0.09501074848088958}\n",
      "Epoch 15/20\n"
     ]
    },
    {
     "name": "stderr",
     "output_type": "stream",
     "text": [
      "100%|██████████| 328/328 [00:33<00:00,  9.84it/s]\n"
     ]
    },
    {
     "name": "stdout",
     "output_type": "stream",
     "text": [
      "{'val_loss': 3.459921243532402, 'val_accuracy': 0.6514111365369947, 'precision': 0.6439581651807449, 'recall': 0.6514111365369947, 'f1-score': 0.6404131605571912, 'macro_f1-score': 0.40607523490792524, 'balanced_accuracy': 0.3924900766368909, 'mcc': 0.5306106190579173, 'train_loss': 0.07036766805508594}\n",
      "Epoch 16/20\n"
     ]
    },
    {
     "name": "stderr",
     "output_type": "stream",
     "text": [
      "100%|██████████| 328/328 [00:33<00:00,  9.84it/s]\n"
     ]
    },
    {
     "name": "stdout",
     "output_type": "stream",
     "text": [
      "{'val_loss': 3.4048880539471056, 'val_accuracy': 0.6392067124332571, 'precision': 0.650322848657511, 'recall': 0.6392067124332571, 'f1-score': 0.6384632254175169, 'macro_f1-score': 0.3870145292929768, 'balanced_accuracy': 0.39525209395022687, 'mcc': 0.5290769157457966, 'train_loss': 0.04686478482330042}\n",
      "Epoch 17/20\n"
     ]
    },
    {
     "name": "stderr",
     "output_type": "stream",
     "text": [
      "100%|██████████| 328/328 [00:33<00:00,  9.83it/s]\n"
     ]
    },
    {
     "name": "stdout",
     "output_type": "stream",
     "text": [
      "{'val_loss': 3.1488184485493638, 'val_accuracy': 0.6270022883295194, 'precision': 0.6533080211101174, 'recall': 0.6270022883295194, 'f1-score': 0.6305280329499517, 'macro_f1-score': 0.3798060454122791, 'balanced_accuracy': 0.3803639993438595, 'mcc': 0.5178166164356744, 'train_loss': 0.11071546354012354}\n",
      "Epoch 18/20\n"
     ]
    },
    {
     "name": "stderr",
     "output_type": "stream",
     "text": [
      "100%|██████████| 328/328 [00:33<00:00,  9.86it/s]\n"
     ]
    },
    {
     "name": "stdout",
     "output_type": "stream",
     "text": [
      "{'val_loss': 3.379259046984882, 'val_accuracy': 0.6369183829138062, 'precision': 0.6382981118909643, 'recall': 0.6369183829138062, 'f1-score': 0.6245776082036468, 'macro_f1-score': 0.3709190038471037, 'balanced_accuracy': 0.35868494656768785, 'mcc': 0.51713328927112, 'train_loss': 0.07413545101859732}\n",
      "Early stopping.\n",
      "\n",
      "[Fold 5]\n",
      "Label distribution after resampling:\n",
      "  label 0: 2472\n",
      "  label 1: 21\n",
      "  label 2: 64\n",
      "  label 3: 24\n",
      "  label 4: 191\n",
      "  label 5: 112\n",
      "  label 6: 92\n",
      "  label 7: 31\n",
      "  label 8: 68\n",
      "  label 9: 29\n",
      "  label 10: 68\n",
      "  label 11: 168\n",
      "  label 12: 190\n",
      "  label 13: 29\n",
      "  label 14: 22\n",
      "  label 15: 25\n",
      "  label 16: 19\n",
      "  label 17: 183\n",
      "  label 18: 92\n",
      "  label 19: 44\n",
      "  label 20: 14\n",
      "  label 21: 35\n",
      "  label 22: 76\n",
      "  label 23: 158\n",
      "  label 24: 13\n",
      "  label 25: 44\n",
      "  label 26: 84\n",
      "  label 27: 48\n",
      "  label 28: 11\n",
      "  label 29: 13\n",
      "  label 30: 11\n",
      "  label 31: 75\n",
      "  label 32: 36\n",
      "  label 33: 31\n",
      "  label 34: 30\n",
      "  label 35: 11\n",
      "  label 36: 22\n",
      "  label 37: 16\n",
      "  label 38: 33\n",
      "  label 39: 10\n",
      "  label 40: 9\n",
      "  label 41: 57\n",
      "  label 42: 18\n",
      "  label 43: 9\n",
      "  label 44: 54\n",
      "  label 45: 242\n",
      "  label 46: 61\n",
      "  label 47: 80\n",
      "model is microsoft/deberta-base\n"
     ]
    },
    {
     "name": "stderr",
     "output_type": "stream",
     "text": [
      "Some weights of DebertaForSequenceClassification were not initialized from the model checkpoint at microsoft/deberta-base and are newly initialized: ['classifier.bias', 'classifier.weight', 'pooler.dense.bias', 'pooler.dense.weight']\n",
      "You should probably TRAIN this model on a down-stream task to be able to use it for predictions and inference.\n"
     ]
    },
    {
     "name": "stdout",
     "output_type": "stream",
     "text": [
      "Using weighted CrossEntropyLoss with weights: tensor([0.7522, 5.5205, 4.4061, 5.3870, 3.3128, 3.8465, 4.0432, 5.1310, 4.3455,\n",
      "        5.1977, 4.3455, 3.4411, 3.3180, 5.1977, 5.4740, 5.3462, 5.6206, 3.3555,\n",
      "        4.0432, 4.7808, 5.9260, 5.0097, 4.2343, 3.5024, 6.0001, 4.7808, 4.1342,\n",
      "        4.6938, 6.1671, 6.0001, 6.1671, 4.2475, 4.9815, 5.1310, 5.1638, 6.1671,\n",
      "        5.4740, 5.7924, 5.0685, 6.2624, 6.3678, 4.5220, 5.6747, 6.3678, 4.5760,\n",
      "        3.0761, 4.4542, 4.1830], device='cuda:0')\n",
      "Epoch 1/20\n"
     ]
    },
    {
     "name": "stderr",
     "output_type": "stream",
     "text": [
      "100%|██████████| 328/328 [00:33<00:00,  9.82it/s]\n"
     ]
    },
    {
     "name": "stdout",
     "output_type": "stream",
     "text": [
      "{'val_loss': 2.945845541430683, 'val_accuracy': 0.5469107551487414, 'precision': 0.33125306546281147, 'recall': 0.5469107551487414, 'f1-score': 0.40688416585075493, 'macro_f1-score': 0.05217164349419895, 'balanced_accuracy': 0.06816436301580185, 'mcc': 0.3147742501942515, 'train_loss': 2.282125189536955}\n",
      "Epoch 2/20\n"
     ]
    },
    {
     "name": "stderr",
     "output_type": "stream",
     "text": [
      "100%|██████████| 328/328 [00:33<00:00,  9.83it/s]\n"
     ]
    },
    {
     "name": "stdout",
     "output_type": "stream",
     "text": [
      "{'val_loss': 2.3317680722329674, 'val_accuracy': 0.5911517925247902, 'precision': 0.5045023380266704, 'recall': 0.5911517925247902, 'f1-score': 0.5297591214691998, 'macro_f1-score': 0.1507170121548401, 'balanced_accuracy': 0.1801153376354542, 'mcc': 0.4522690231449894, 'train_loss': 1.7641818915925376}\n",
      "Epoch 3/20\n"
     ]
    },
    {
     "name": "stderr",
     "output_type": "stream",
     "text": [
      "100%|██████████| 328/328 [00:33<00:00,  9.83it/s]\n"
     ]
    },
    {
     "name": "stdout",
     "output_type": "stream",
     "text": [
      "{'val_loss': 2.1811498643421547, 'val_accuracy': 0.6132723112128147, 'precision': 0.577463164611065, 'recall': 0.6132723112128147, 'f1-score': 0.565387295216201, 'macro_f1-score': 0.212533408553653, 'balanced_accuracy': 0.22642170067563985, 'mcc': 0.4792161262338023, 'train_loss': 1.4053734065737666}\n",
      "Epoch 4/20\n"
     ]
    },
    {
     "name": "stderr",
     "output_type": "stream",
     "text": [
      "100%|██████████| 328/328 [00:33<00:00,  9.83it/s]\n"
     ]
    },
    {
     "name": "stdout",
     "output_type": "stream",
     "text": [
      "{'val_loss': 2.143997220004477, 'val_accuracy': 0.6392067124332571, 'precision': 0.5996966157722009, 'recall': 0.6392067124332571, 'f1-score': 0.6037467085532866, 'macro_f1-score': 0.2732016284333532, 'balanced_accuracy': 0.28235117700161294, 'mcc': 0.5176760118877815, 'train_loss': 1.045631820563136}\n",
      "Epoch 5/20\n"
     ]
    },
    {
     "name": "stderr",
     "output_type": "stream",
     "text": [
      "100%|██████████| 328/328 [00:33<00:00,  9.82it/s]\n"
     ]
    },
    {
     "name": "stdout",
     "output_type": "stream",
     "text": [
      "{'val_loss': 2.1313862626145528, 'val_accuracy': 0.6483600305110603, 'precision': 0.6177470786111291, 'recall': 0.6483600305110603, 'f1-score': 0.6192906289432587, 'macro_f1-score': 0.31786292504483765, 'balanced_accuracy': 0.31720686384927615, 'mcc': 0.5285071644962411, 'train_loss': 0.7614555839085724}\n",
      "Epoch 6/20\n"
     ]
    },
    {
     "name": "stderr",
     "output_type": "stream",
     "text": [
      "100%|██████████| 328/328 [00:33<00:00,  9.83it/s]\n"
     ]
    },
    {
     "name": "stdout",
     "output_type": "stream",
     "text": [
      "{'val_loss': 2.1629290586201155, 'val_accuracy': 0.6491228070175439, 'precision': 0.6297833483310699, 'recall': 0.6491228070175439, 'f1-score': 0.6332304108709794, 'macro_f1-score': 0.32225502519838906, 'balanced_accuracy': 0.3299369530967848, 'mcc': 0.5401650790723481, 'train_loss': 0.5353985119883607}\n",
      "Epoch 7/20\n"
     ]
    },
    {
     "name": "stderr",
     "output_type": "stream",
     "text": [
      "100%|██████████| 328/328 [00:33<00:00,  9.84it/s]\n"
     ]
    },
    {
     "name": "stdout",
     "output_type": "stream",
     "text": [
      "{'val_loss': 2.2185266199635296, 'val_accuracy': 0.6384439359267735, 'precision': 0.6424012497215876, 'recall': 0.6384439359267735, 'f1-score': 0.6287294343498606, 'macro_f1-score': 0.3548379587496195, 'balanced_accuracy': 0.3625910744475706, 'mcc': 0.5332780506530491, 'train_loss': 0.378634710165831}\n",
      "Epoch 8/20\n"
     ]
    },
    {
     "name": "stderr",
     "output_type": "stream",
     "text": [
      "100%|██████████| 328/328 [00:33<00:00,  9.83it/s]\n"
     ]
    },
    {
     "name": "stdout",
     "output_type": "stream",
     "text": [
      "{'val_loss': 2.4662731949512553, 'val_accuracy': 0.669717772692601, 'precision': 0.6570270416967877, 'recall': 0.669717772692601, 'f1-score': 0.6521116356072565, 'macro_f1-score': 0.39221639722446394, 'balanced_accuracy': 0.3748671836314807, 'mcc': 0.557454731489647, 'train_loss': 0.2787260594550611}\n",
      "Epoch 9/20\n"
     ]
    },
    {
     "name": "stderr",
     "output_type": "stream",
     "text": [
      "100%|██████████| 328/328 [00:33<00:00,  9.83it/s]\n"
     ]
    },
    {
     "name": "stdout",
     "output_type": "stream",
     "text": [
      "{'val_loss': 2.7295581204135244, 'val_accuracy': 0.6369183829138062, 'precision': 0.6486769654201279, 'recall': 0.6369183829138062, 'f1-score': 0.6232333592675129, 'macro_f1-score': 0.36651159403956485, 'balanced_accuracy': 0.362950064285361, 'mcc': 0.5245037102164528, 'train_loss': 0.1896096098196988}\n",
      "Epoch 10/20\n"
     ]
    },
    {
     "name": "stderr",
     "output_type": "stream",
     "text": [
      "100%|██████████| 328/328 [00:33<00:00,  9.84it/s]\n"
     ]
    },
    {
     "name": "stdout",
     "output_type": "stream",
     "text": [
      "{'val_loss': 2.630896023497349, 'val_accuracy': 0.6376811594202898, 'precision': 0.6544167736140655, 'recall': 0.6376811594202898, 'f1-score': 0.6338290283869028, 'macro_f1-score': 0.3961929994591411, 'balanced_accuracy': 0.3884321328208497, 'mcc': 0.5335281335011962, 'train_loss': 0.1562309963287922}\n",
      "Epoch 11/20\n"
     ]
    },
    {
     "name": "stderr",
     "output_type": "stream",
     "text": [
      "100%|██████████| 328/328 [00:33<00:00,  9.83it/s]\n"
     ]
    },
    {
     "name": "stdout",
     "output_type": "stream",
     "text": [
      "{'val_loss': 2.7941659038386693, 'val_accuracy': 0.6254767353165522, 'precision': 0.6352800681871188, 'recall': 0.6254767353165522, 'f1-score': 0.6234186733456055, 'macro_f1-score': 0.38972662103620487, 'balanced_accuracy': 0.3853278681904489, 'mcc': 0.5158373423515056, 'train_loss': 0.12347784397623889}\n",
      "Epoch 12/20\n"
     ]
    },
    {
     "name": "stderr",
     "output_type": "stream",
     "text": [
      "100%|██████████| 328/328 [00:33<00:00,  9.83it/s]\n"
     ]
    },
    {
     "name": "stdout",
     "output_type": "stream",
     "text": [
      "{'val_loss': 3.006305250452786, 'val_accuracy': 0.6384439359267735, 'precision': 0.6402997235192529, 'recall': 0.6384439359267735, 'f1-score': 0.6269399522039989, 'macro_f1-score': 0.37686883863783577, 'balanced_accuracy': 0.3648522157245287, 'mcc': 0.5230063486596274, 'train_loss': 0.1584483564649595}\n",
      "Epoch 13/20\n"
     ]
    },
    {
     "name": "stderr",
     "output_type": "stream",
     "text": [
      "100%|██████████| 328/328 [00:33<00:00,  9.83it/s]\n"
     ]
    },
    {
     "name": "stdout",
     "output_type": "stream",
     "text": [
      "{'val_loss': 2.9939068236002107, 'val_accuracy': 0.6506483600305111, 'precision': 0.6487051073891401, 'recall': 0.6506483600305111, 'f1-score': 0.6413531004680011, 'macro_f1-score': 0.3740216987826878, 'balanced_accuracy': 0.35895942269557474, 'mcc': 0.5366394028460191, 'train_loss': 0.09702376200726665}\n",
      "Early stopping.\n",
      "\n",
      " === microsoft/deberta-base + plain + none Final 5-fold Cross-Validation Results ===\n",
      "val_loss: 3.0156\n",
      "val_accuracy: 0.6370\n",
      "precision: 0.6401\n",
      "recall: 0.6370\n",
      "f1-score: 0.6292\n",
      "macro_f1-score: 0.3887\n",
      "balanced_accuracy: 0.3909\n",
      "mcc: 0.5219\n",
      "train_loss: 0.1234\n",
      "total_seconds: 2850.0000\n",
      "total_time: 0 hrs 47 mins 30 secs\n",
      "▶ Running: microsoft/deberta-base + cnn + none\n",
      "tokenizer is microsoft/deberta-base\n",
      "Using device: cuda\n",
      "CUDA Available: True\n",
      "CUDA Device: NVIDIA GeForce RTX 5070 Ti\n",
      "Current GPU Memory Allocated: 0.02 GB\n",
      "Current GPU Memory Cached: 5.11 GB\n",
      "\n",
      "[Fold 1]\n",
      "Label distribution after resampling:\n",
      "  label 0: 2471\n",
      "  label 1: 21\n",
      "  label 2: 64\n",
      "  label 3: 24\n",
      "  label 4: 191\n",
      "  label 5: 113\n",
      "  label 6: 93\n",
      "  label 7: 30\n",
      "  label 8: 68\n",
      "  label 9: 30\n",
      "  label 10: 67\n",
      "  label 11: 169\n",
      "  label 12: 189\n",
      "  label 13: 29\n",
      "  label 14: 22\n",
      "  label 15: 25\n",
      "  label 16: 19\n",
      "  label 17: 183\n",
      "  label 18: 92\n",
      "  label 19: 44\n",
      "  label 20: 13\n",
      "  label 21: 35\n",
      "  label 22: 76\n",
      "  label 23: 158\n",
      "  label 24: 13\n",
      "  label 25: 44\n",
      "  label 26: 84\n",
      "  label 27: 48\n",
      "  label 28: 11\n",
      "  label 29: 13\n",
      "  label 30: 11\n",
      "  label 31: 75\n",
      "  label 32: 36\n",
      "  label 33: 32\n",
      "  label 34: 29\n",
      "  label 35: 11\n",
      "  label 36: 22\n",
      "  label 37: 16\n",
      "  label 38: 33\n",
      "  label 39: 10\n",
      "  label 40: 9\n",
      "  label 41: 57\n",
      "  label 42: 19\n",
      "  label 43: 8\n",
      "  label 44: 54\n",
      "  label 45: 242\n",
      "  label 46: 61\n",
      "  label 47: 80\n",
      "model is microsoft/deberta-base cnn\n",
      "Using weighted CrossEntropyLoss with weights: tensor([0.7525, 5.5203, 4.4060, 5.3868, 3.3126, 3.8375, 4.0322, 5.1636, 4.3453,\n",
      "        5.1636, 4.3601, 3.4349, 3.3231, 5.1975, 5.4738, 5.3460, 5.6204, 3.3554,\n",
      "        4.0431, 4.7807, 5.9999, 5.0095, 4.2341, 3.5022, 5.9999, 4.7807, 4.1340,\n",
      "        4.6936, 6.1669, 5.9999, 6.1669, 4.2474, 4.9813, 5.0991, 5.1975, 6.1669,\n",
      "        5.4738, 5.7923, 5.0683, 6.2623, 6.3676, 4.5218, 5.6204, 6.4854, 4.5759,\n",
      "        3.0759, 4.4540, 4.1828], device='cuda:0')\n",
      "Epoch 1/20\n"
     ]
    },
    {
     "name": "stderr",
     "output_type": "stream",
     "text": [
      "100%|██████████| 328/328 [00:34<00:00,  9.43it/s]\n"
     ]
    },
    {
     "name": "stdout",
     "output_type": "stream",
     "text": [
      "{'val_loss': 3.3255968551810193, 'val_accuracy': 0.5365853658536586, 'precision': 0.3494625042839181, 'recall': 0.5365853658536586, 'f1-score': 0.4196357816316941, 'macro_f1-score': 0.05262817745134448, 'balanced_accuracy': 0.07103892880914674, 'mcc': 0.3174611012421012, 'train_loss': 2.3439769512269555}\n",
      "Epoch 2/20\n"
     ]
    },
    {
     "name": "stderr",
     "output_type": "stream",
     "text": [
      "100%|██████████| 328/328 [00:34<00:00,  9.43it/s]\n"
     ]
    },
    {
     "name": "stdout",
     "output_type": "stream",
     "text": [
      "{'val_loss': 2.910520949014803, 'val_accuracy': 0.5625, 'precision': 0.39948074263009, 'recall': 0.5625, 'f1-score': 0.44462427309181846, 'macro_f1-score': 0.07180841908623346, 'balanced_accuracy': 0.08671875838316344, 'mcc': 0.3523460537178591, 'train_loss': 1.9974347861801707}\n",
      "Epoch 3/20\n"
     ]
    },
    {
     "name": "stderr",
     "output_type": "stream",
     "text": [
      "100%|██████████| 328/328 [00:34<00:00,  9.43it/s]\n"
     ]
    },
    {
     "name": "stdout",
     "output_type": "stream",
     "text": [
      "{'val_loss': 2.7785283130843466, 'val_accuracy': 0.5495426829268293, 'precision': 0.391867544915475, 'recall': 0.5495426829268293, 'f1-score': 0.45114872907462905, 'macro_f1-score': 0.0802010452673505, 'balanced_accuracy': 0.08884061698198265, 'mcc': 0.3370561026650111, 'train_loss': 1.8853516945751703}\n",
      "Epoch 4/20\n"
     ]
    },
    {
     "name": "stderr",
     "output_type": "stream",
     "text": [
      "100%|██████████| 328/328 [00:34<00:00,  9.44it/s]\n"
     ]
    },
    {
     "name": "stdout",
     "output_type": "stream",
     "text": [
      "{'val_loss': 2.763560862075992, 'val_accuracy': 0.5708841463414634, 'precision': 0.4714893635645468, 'recall': 0.5708841463414634, 'f1-score': 0.5055797864389473, 'macro_f1-score': 0.10712317249290702, 'balanced_accuracy': 0.12196830020132034, 'mcc': 0.39732412520668203, 'train_loss': 1.6356482605745153}\n",
      "Epoch 5/20\n"
     ]
    },
    {
     "name": "stderr",
     "output_type": "stream",
     "text": [
      "100%|██████████| 328/328 [00:34<00:00,  9.42it/s]\n"
     ]
    },
    {
     "name": "stdout",
     "output_type": "stream",
     "text": [
      "{'val_loss': 3.866079718601413, 'val_accuracy': 0.4847560975609756, 'precision': 0.2801288558579544, 'recall': 0.4847560975609756, 'f1-score': 0.32585833595312325, 'macro_f1-score': 0.025217433464613918, 'balanced_accuracy': 0.03429799092627021, 'mcc': 0.1323723552946719, 'train_loss': 1.7960431085127155}\n",
      "Epoch 6/20\n"
     ]
    },
    {
     "name": "stderr",
     "output_type": "stream",
     "text": [
      "100%|██████████| 328/328 [00:34<00:00,  9.44it/s]\n"
     ]
    },
    {
     "name": "stdout",
     "output_type": "stream",
     "text": [
      "{'val_loss': 3.2025139186440446, 'val_accuracy': 0.5167682926829268, 'precision': 0.3612724400375673, 'recall': 0.5167682926829268, 'f1-score': 0.40324317560831546, 'macro_f1-score': 0.057040251130818925, 'balanced_accuracy': 0.06348123066130659, 'mcc': 0.26001456088058483, 'train_loss': 2.237941140445267}\n",
      "Epoch 7/20\n"
     ]
    },
    {
     "name": "stderr",
     "output_type": "stream",
     "text": [
      "100%|██████████| 328/328 [00:34<00:00,  9.44it/s]\n"
     ]
    },
    {
     "name": "stdout",
     "output_type": "stream",
     "text": [
      "{'val_loss': 3.0641529545551394, 'val_accuracy': 0.5091463414634146, 'precision': 0.369272184810711, 'recall': 0.5091463414634146, 'f1-score': 0.4006602186556581, 'macro_f1-score': 0.05889981841020206, 'balanced_accuracy': 0.06655771867768102, 'mcc': 0.25260980350899964, 'train_loss': 1.9778123361671842}\n",
      "Early stopping.\n",
      "\n",
      "[Fold 2]\n",
      "Label distribution after resampling:\n",
      "  label 0: 2471\n",
      "  label 1: 22\n",
      "  label 2: 64\n",
      "  label 3: 24\n",
      "  label 4: 190\n",
      "  label 5: 113\n",
      "  label 6: 93\n",
      "  label 7: 30\n",
      "  label 8: 68\n",
      "  label 9: 30\n",
      "  label 10: 67\n",
      "  label 11: 169\n",
      "  label 12: 189\n",
      "  label 13: 29\n",
      "  label 14: 23\n",
      "  label 15: 24\n",
      "  label 16: 20\n",
      "  label 17: 182\n",
      "  label 18: 92\n",
      "  label 19: 44\n",
      "  label 20: 13\n",
      "  label 21: 36\n",
      "  label 22: 76\n",
      "  label 23: 157\n",
      "  label 24: 12\n",
      "  label 25: 44\n",
      "  label 26: 84\n",
      "  label 27: 48\n",
      "  label 28: 12\n",
      "  label 29: 12\n",
      "  label 30: 12\n",
      "  label 31: 75\n",
      "  label 32: 36\n",
      "  label 33: 31\n",
      "  label 34: 29\n",
      "  label 35: 12\n",
      "  label 36: 21\n",
      "  label 37: 16\n",
      "  label 38: 33\n",
      "  label 39: 11\n",
      "  label 40: 8\n",
      "  label 41: 57\n",
      "  label 42: 19\n",
      "  label 43: 9\n",
      "  label 44: 54\n",
      "  label 45: 242\n",
      "  label 46: 62\n",
      "  label 47: 80\n",
      "model is microsoft/deberta-base cnn\n",
      "Using weighted CrossEntropyLoss with weights: tensor([0.7527, 5.4740, 4.4061, 5.3870, 3.3180, 3.8376, 4.0324, 5.1638, 4.3455,\n",
      "        5.1638, 4.3603, 3.4351, 3.3233, 5.1977, 5.4295, 5.3870, 5.5693, 3.3610,\n",
      "        4.0432, 4.7808, 6.0001, 4.9815, 4.2343, 3.5088, 6.0801, 4.7808, 4.1342,\n",
      "        4.6938, 6.0801, 6.0801, 6.0801, 4.2475, 4.9815, 5.1310, 5.1977, 6.0801,\n",
      "        5.5205, 5.7924, 5.0685, 6.1671, 6.4856, 4.5220, 5.6206, 6.3678, 4.5760,\n",
      "        3.0761, 4.4379, 4.1830], device='cuda:0')\n",
      "Epoch 1/20\n"
     ]
    },
    {
     "name": "stderr",
     "output_type": "stream",
     "text": [
      "100%|██████████| 328/328 [00:34<00:00,  9.43it/s]\n"
     ]
    },
    {
     "name": "stdout",
     "output_type": "stream",
     "text": [
      "{'val_loss': 3.2590708470926053, 'val_accuracy': 0.5415713196033562, 'precision': 0.3272736490985919, 'recall': 0.5415713196033562, 'f1-score': 0.4066635325216561, 'macro_f1-score': 0.04719249486391477, 'balanced_accuracy': 0.062307874069495534, 'mcc': 0.3068586835946558, 'train_loss': 2.4161402644907555}\n",
      "Epoch 2/20\n"
     ]
    },
    {
     "name": "stderr",
     "output_type": "stream",
     "text": [
      "100%|██████████| 328/328 [00:34<00:00,  9.42it/s]\n"
     ]
    },
    {
     "name": "stdout",
     "output_type": "stream",
     "text": [
      "{'val_loss': 2.777912593469387, 'val_accuracy': 0.5392829900839055, 'precision': 0.40723000658377867, 'recall': 0.5392829900839055, 'f1-score': 0.4581597759960166, 'macro_f1-score': 0.06393670490474919, 'balanced_accuracy': 0.09241192871548508, 'mcc': 0.3643298150503626, 'train_loss': 2.062175834324302}\n",
      "Epoch 3/20\n"
     ]
    },
    {
     "name": "stderr",
     "output_type": "stream",
     "text": [
      "100%|██████████| 328/328 [00:34<00:00,  9.42it/s]\n"
     ]
    },
    {
     "name": "stdout",
     "output_type": "stream",
     "text": [
      "{'val_loss': 2.6225026613328515, 'val_accuracy': 0.5743707093821511, 'precision': 0.4287168007144386, 'recall': 0.5743707093821511, 'f1-score': 0.4763469605890465, 'macro_f1-score': 0.08610731217150507, 'balanced_accuracy': 0.10403325984820995, 'mcc': 0.38808010907276985, 'train_loss': 1.7863491700008147}\n",
      "Epoch 4/20\n"
     ]
    },
    {
     "name": "stderr",
     "output_type": "stream",
     "text": [
      "100%|██████████| 328/328 [00:34<00:00,  9.43it/s]\n"
     ]
    },
    {
     "name": "stdout",
     "output_type": "stream",
     "text": [
      "{'val_loss': 2.5327232232907924, 'val_accuracy': 0.589626239511823, 'precision': 0.48355560183835744, 'recall': 0.589626239511823, 'f1-score': 0.5136832690175467, 'macro_f1-score': 0.1345906225298651, 'balanced_accuracy': 0.15929469772753546, 'mcc': 0.42388364311123305, 'train_loss': 1.5218888619324056}\n",
      "Epoch 5/20\n"
     ]
    },
    {
     "name": "stderr",
     "output_type": "stream",
     "text": [
      "100%|██████████| 328/328 [00:34<00:00,  9.42it/s]\n"
     ]
    },
    {
     "name": "stdout",
     "output_type": "stream",
     "text": [
      "{'val_loss': 2.579866365688603, 'val_accuracy': 0.6025934401220442, 'precision': 0.5350998668844069, 'recall': 0.6025934401220442, 'f1-score': 0.5509737591919232, 'macro_f1-score': 0.1729270064066951, 'balanced_accuracy': 0.17481841966570863, 'mcc': 0.44857944872828465, 'train_loss': 1.3052334086742343}\n",
      "Epoch 6/20\n"
     ]
    },
    {
     "name": "stderr",
     "output_type": "stream",
     "text": [
      "100%|██████████| 328/328 [00:34<00:00,  9.44it/s]\n"
     ]
    },
    {
     "name": "stdout",
     "output_type": "stream",
     "text": [
      "{'val_loss': 2.453365354276285, 'val_accuracy': 0.601067887109077, 'precision': 0.5778327691307087, 'recall': 0.601067887109077, 'f1-score': 0.5741513606456915, 'macro_f1-score': 0.23159988221971353, 'balanced_accuracy': 0.24677601521937245, 'mcc': 0.4721918814557526, 'train_loss': 1.09434975179412}\n",
      "Epoch 7/20\n"
     ]
    },
    {
     "name": "stderr",
     "output_type": "stream",
     "text": [
      "100%|██████████| 328/328 [00:34<00:00,  9.43it/s]\n"
     ]
    },
    {
     "name": "stdout",
     "output_type": "stream",
     "text": [
      "{'val_loss': 2.2813659375760613, 'val_accuracy': 0.6247139588100686, 'precision': 0.6011576084075747, 'recall': 0.6247139588100686, 'f1-score': 0.5991887588574161, 'macro_f1-score': 0.25569537334736764, 'balanced_accuracy': 0.280549185596668, 'mcc': 0.5028704963276839, 'train_loss': 0.8841993281299748}\n",
      "Epoch 8/20\n"
     ]
    },
    {
     "name": "stderr",
     "output_type": "stream",
     "text": [
      "100%|██████████| 328/328 [00:34<00:00,  9.42it/s]\n"
     ]
    },
    {
     "name": "stdout",
     "output_type": "stream",
     "text": [
      "{'val_loss': 2.515224592351332, 'val_accuracy': 0.6079328756674295, 'precision': 0.5614726627864, 'recall': 0.6079328756674295, 'f1-score': 0.5688952763550442, 'macro_f1-score': 0.25693841291417324, 'balanced_accuracy': 0.25542343820169716, 'mcc': 0.4630339487989816, 'train_loss': 0.733835608465597}\n",
      "Epoch 9/20\n"
     ]
    },
    {
     "name": "stderr",
     "output_type": "stream",
     "text": [
      "100%|██████████| 328/328 [00:34<00:00,  9.44it/s]\n"
     ]
    },
    {
     "name": "stdout",
     "output_type": "stream",
     "text": [
      "{'val_loss': 2.7126091079014105, 'val_accuracy': 0.6086956521739131, 'precision': 0.5941390863020446, 'recall': 0.6086956521739131, 'f1-score': 0.5921712352369478, 'macro_f1-score': 0.30636497478951163, 'balanced_accuracy': 0.2957814641673426, 'mcc': 0.47806148607865695, 'train_loss': 0.6354983967910635}\n",
      "Epoch 10/20\n"
     ]
    },
    {
     "name": "stderr",
     "output_type": "stream",
     "text": [
      "100%|██████████| 328/328 [00:34<00:00,  9.43it/s]\n"
     ]
    },
    {
     "name": "stdout",
     "output_type": "stream",
     "text": [
      "{'val_loss': 2.9304167744590015, 'val_accuracy': 0.6254767353165522, 'precision': 0.6031856552686804, 'recall': 0.6254767353165522, 'f1-score': 0.5957876961500705, 'macro_f1-score': 0.3086745925336886, 'balanced_accuracy': 0.2941135125126301, 'mcc': 0.4827263756117029, 'train_loss': 0.4889141890197629}\n",
      "Epoch 11/20\n"
     ]
    },
    {
     "name": "stderr",
     "output_type": "stream",
     "text": [
      "100%|██████████| 328/328 [00:34<00:00,  9.42it/s]\n"
     ]
    },
    {
     "name": "stdout",
     "output_type": "stream",
     "text": [
      "{'val_loss': 2.6205031951753104, 'val_accuracy': 0.6300533943554538, 'precision': 0.6196880900842803, 'recall': 0.6300533943554538, 'f1-score': 0.615750894616199, 'macro_f1-score': 0.3378882333462359, 'balanced_accuracy': 0.34424733997940454, 'mcc': 0.5086411804643545, 'train_loss': 0.4441205893115072}\n",
      "Epoch 12/20\n"
     ]
    },
    {
     "name": "stderr",
     "output_type": "stream",
     "text": [
      "100%|██████████| 328/328 [00:34<00:00,  9.42it/s]\n"
     ]
    },
    {
     "name": "stdout",
     "output_type": "stream",
     "text": [
      "{'val_loss': 2.6680951002167492, 'val_accuracy': 0.6346300533943554, 'precision': 0.6377230947465281, 'recall': 0.6346300533943554, 'f1-score': 0.624929837214221, 'macro_f1-score': 0.3368759838487024, 'balanced_accuracy': 0.34863495544622863, 'mcc': 0.5173376635600323, 'train_loss': 0.357089636898486}\n",
      "Epoch 13/20\n"
     ]
    },
    {
     "name": "stderr",
     "output_type": "stream",
     "text": [
      "100%|██████████| 328/328 [00:34<00:00,  9.43it/s]\n"
     ]
    },
    {
     "name": "stdout",
     "output_type": "stream",
     "text": [
      "{'val_loss': 3.0021269415936818, 'val_accuracy': 0.6323417238749046, 'precision': 0.6182031645508372, 'recall': 0.6323417238749046, 'f1-score': 0.6076147341314985, 'macro_f1-score': 0.3401393218885289, 'balanced_accuracy': 0.3243851561804365, 'mcc': 0.4950230494881476, 'train_loss': 0.3067553701878684}\n",
      "Epoch 14/20\n"
     ]
    },
    {
     "name": "stderr",
     "output_type": "stream",
     "text": [
      "100%|██████████| 328/328 [00:34<00:00,  9.43it/s]\n"
     ]
    },
    {
     "name": "stdout",
     "output_type": "stream",
     "text": [
      "{'val_loss': 2.999701457052696, 'val_accuracy': 0.631578947368421, 'precision': 0.6197936948178635, 'recall': 0.631578947368421, 'f1-score': 0.6139800059021978, 'macro_f1-score': 0.35368874273997014, 'balanced_accuracy': 0.36141827190298326, 'mcc': 0.5071293813815286, 'train_loss': 0.2694835123412947}\n",
      "Epoch 15/20\n"
     ]
    },
    {
     "name": "stderr",
     "output_type": "stream",
     "text": [
      "100%|██████████| 328/328 [00:34<00:00,  9.43it/s]\n"
     ]
    },
    {
     "name": "stdout",
     "output_type": "stream",
     "text": [
      "{'val_loss': 2.745167347716122, 'val_accuracy': 0.6270022883295194, 'precision': 0.6337365071550121, 'recall': 0.6270022883295194, 'f1-score': 0.6254778635744557, 'macro_f1-score': 0.37035860079479677, 'balanced_accuracy': 0.40225428094673926, 'mcc': 0.5161399384277086, 'train_loss': 0.21523750721045384}\n",
      "Epoch 16/20\n"
     ]
    },
    {
     "name": "stderr",
     "output_type": "stream",
     "text": [
      "100%|██████████| 328/328 [00:34<00:00,  9.44it/s]\n"
     ]
    },
    {
     "name": "stdout",
     "output_type": "stream",
     "text": [
      "{'val_loss': 3.2948390746988903, 'val_accuracy': 0.6338672768878718, 'precision': 0.6263633281189617, 'recall': 0.6338672768878718, 'f1-score': 0.6193033577900593, 'macro_f1-score': 0.34992492394657765, 'balanced_accuracy': 0.3611468060763125, 'mcc': 0.5120201144557889, 'train_loss': 0.17737004882585053}\n",
      "Epoch 17/20\n"
     ]
    },
    {
     "name": "stderr",
     "output_type": "stream",
     "text": [
      "100%|██████████| 328/328 [00:34<00:00,  9.43it/s]\n"
     ]
    },
    {
     "name": "stdout",
     "output_type": "stream",
     "text": [
      "{'val_loss': 2.942423809592317, 'val_accuracy': 0.6193745232646835, 'precision': 0.6303513831190816, 'recall': 0.6193745232646835, 'f1-score': 0.6195921987508979, 'macro_f1-score': 0.3385097049920415, 'balanced_accuracy': 0.364807963483371, 'mcc': 0.5101566283079848, 'train_loss': 0.1867731560125277}\n",
      "Epoch 18/20\n"
     ]
    },
    {
     "name": "stderr",
     "output_type": "stream",
     "text": [
      "100%|██████████| 328/328 [00:34<00:00,  9.45it/s]\n"
     ]
    },
    {
     "name": "stdout",
     "output_type": "stream",
     "text": [
      "{'val_loss': 3.263522271702929, 'val_accuracy': 0.6262395118230358, 'precision': 0.6162939706798706, 'recall': 0.6262395118230358, 'f1-score': 0.6111557397122309, 'macro_f1-score': 0.35841805592436327, 'balanced_accuracy': 0.3797454292598678, 'mcc': 0.5022017643412153, 'train_loss': 0.15698078555259398}\n",
      "Early stopping.\n",
      "\n",
      "[Fold 3]\n",
      "Label distribution after resampling:\n",
      "  label 0: 2471\n",
      "  label 1: 22\n",
      "  label 2: 64\n",
      "  label 3: 24\n",
      "  label 4: 190\n",
      "  label 5: 113\n",
      "  label 6: 93\n",
      "  label 7: 30\n",
      "  label 8: 68\n",
      "  label 9: 30\n",
      "  label 10: 67\n",
      "  label 11: 169\n",
      "  label 12: 190\n",
      "  label 13: 28\n",
      "  label 14: 23\n",
      "  label 15: 25\n",
      "  label 16: 19\n",
      "  label 17: 182\n",
      "  label 18: 92\n",
      "  label 19: 44\n",
      "  label 20: 14\n",
      "  label 21: 35\n",
      "  label 22: 76\n",
      "  label 23: 157\n",
      "  label 24: 13\n",
      "  label 25: 44\n",
      "  label 26: 84\n",
      "  label 27: 48\n",
      "  label 28: 11\n",
      "  label 29: 13\n",
      "  label 30: 11\n",
      "  label 31: 76\n",
      "  label 32: 36\n",
      "  label 33: 31\n",
      "  label 34: 30\n",
      "  label 35: 11\n",
      "  label 36: 21\n",
      "  label 37: 16\n",
      "  label 38: 32\n",
      "  label 39: 11\n",
      "  label 40: 9\n",
      "  label 41: 57\n",
      "  label 42: 18\n",
      "  label 43: 9\n",
      "  label 44: 55\n",
      "  label 45: 241\n",
      "  label 46: 62\n",
      "  label 47: 80\n",
      "model is microsoft/deberta-base cnn\n",
      "Using weighted CrossEntropyLoss with weights: tensor([0.7527, 5.4740, 4.4061, 5.3870, 3.3180, 3.8376, 4.0324, 5.1638, 4.3455,\n",
      "        5.1638, 4.3603, 3.4351, 3.3180, 5.2328, 5.4295, 5.3462, 5.6206, 3.3610,\n",
      "        4.0432, 4.7808, 5.9260, 5.0097, 4.2343, 3.5088, 6.0001, 4.7808, 4.1342,\n",
      "        4.6938, 6.1671, 6.0001, 6.1671, 4.2343, 4.9815, 5.1310, 5.1638, 6.1671,\n",
      "        5.5205, 5.7924, 5.0993, 6.1671, 6.3678, 4.5220, 5.6747, 6.3678, 4.5577,\n",
      "        3.0802, 4.4379, 4.1830], device='cuda:0')\n",
      "Epoch 1/20\n"
     ]
    },
    {
     "name": "stderr",
     "output_type": "stream",
     "text": [
      "100%|██████████| 328/328 [00:34<00:00,  9.42it/s]\n"
     ]
    },
    {
     "name": "stdout",
     "output_type": "stream",
     "text": [
      "{'val_loss': 3.159397935721932, 'val_accuracy': 0.540045766590389, 'precision': 0.34819418094048715, 'recall': 0.540045766590389, 'f1-score': 0.41597592256199956, 'macro_f1-score': 0.05267394048706362, 'balanced_accuracy': 0.07360745377032793, 'mcc': 0.3198363477100988, 'train_loss': 2.352854396511869}\n",
      "Epoch 2/20\n"
     ]
    },
    {
     "name": "stderr",
     "output_type": "stream",
     "text": [
      "100%|██████████| 328/328 [00:34<00:00,  9.43it/s]\n"
     ]
    },
    {
     "name": "stdout",
     "output_type": "stream",
     "text": [
      "{'val_loss': 3.210690249757069, 'val_accuracy': 0.5743707093821511, 'precision': 0.38867933314008135, 'recall': 0.5743707093821511, 'f1-score': 0.4532016514152803, 'macro_f1-score': 0.07461742384582622, 'balanced_accuracy': 0.0945788181707049, 'mcc': 0.377500068317894, 'train_loss': 1.9623059959309856}\n",
      "Epoch 3/20\n"
     ]
    },
    {
     "name": "stderr",
     "output_type": "stream",
     "text": [
      "100%|██████████| 328/328 [00:34<00:00,  9.42it/s]\n"
     ]
    },
    {
     "name": "stdout",
     "output_type": "stream",
     "text": [
      "{'val_loss': 2.6217861386334023, 'val_accuracy': 0.5713196033562167, 'precision': 0.48516491690087155, 'recall': 0.5713196033562167, 'f1-score': 0.513507450510959, 'macro_f1-score': 0.12250502504821693, 'balanced_accuracy': 0.13509684056507112, 'mcc': 0.4111115838480431, 'train_loss': 1.686788888239279}\n",
      "Epoch 4/20\n"
     ]
    },
    {
     "name": "stderr",
     "output_type": "stream",
     "text": [
      "100%|██████████| 328/328 [00:34<00:00,  9.43it/s]\n"
     ]
    },
    {
     "name": "stdout",
     "output_type": "stream",
     "text": [
      "{'val_loss': 2.601859688031964, 'val_accuracy': 0.5415713196033562, 'precision': 0.4896415516798826, 'recall': 0.5415713196033562, 'f1-score': 0.5006456809875054, 'macro_f1-score': 0.1370051765633177, 'balanced_accuracy': 0.16078426993110465, 'mcc': 0.39157172797670714, 'train_loss': 1.624792056657919}\n",
      "Epoch 5/20\n"
     ]
    },
    {
     "name": "stderr",
     "output_type": "stream",
     "text": [
      "100%|██████████| 328/328 [00:34<00:00,  9.43it/s]\n"
     ]
    },
    {
     "name": "stdout",
     "output_type": "stream",
     "text": [
      "{'val_loss': 2.4199258590616832, 'val_accuracy': 0.5888634630053394, 'precision': 0.5150691095189275, 'recall': 0.5888634630053394, 'f1-score': 0.53973043467763, 'macro_f1-score': 0.17117511716728065, 'balanced_accuracy': 0.1872715503068496, 'mcc': 0.4370710903672985, 'train_loss': 1.4493375162525874}\n",
      "Epoch 6/20\n"
     ]
    },
    {
     "name": "stderr",
     "output_type": "stream",
     "text": [
      "100%|██████████| 328/328 [00:34<00:00,  9.43it/s]\n"
     ]
    },
    {
     "name": "stdout",
     "output_type": "stream",
     "text": [
      "{'val_loss': 2.4987391894910393, 'val_accuracy': 0.5842868039664378, 'precision': 0.5282470049197464, 'recall': 0.5842868039664378, 'f1-score': 0.5465930448962597, 'macro_f1-score': 0.20302233444648535, 'balanced_accuracy': 0.21631712591061217, 'mcc': 0.4421969551825723, 'train_loss': 1.2018161807663557}\n",
      "Epoch 7/20\n"
     ]
    },
    {
     "name": "stderr",
     "output_type": "stream",
     "text": [
      "100%|██████████| 328/328 [00:34<00:00,  9.44it/s]\n"
     ]
    },
    {
     "name": "stdout",
     "output_type": "stream",
     "text": [
      "{'val_loss': 2.690090563966007, 'val_accuracy': 0.6056445461479787, 'precision': 0.5415288057594432, 'recall': 0.6056445461479787, 'f1-score': 0.5603375496853048, 'macro_f1-score': 0.22816850713953948, 'balanced_accuracy': 0.22715039437062368, 'mcc': 0.4532207158031415, 'train_loss': 1.0732619284038865}\n",
      "Epoch 8/20\n"
     ]
    },
    {
     "name": "stderr",
     "output_type": "stream",
     "text": [
      "100%|██████████| 328/328 [00:34<00:00,  9.42it/s]\n"
     ]
    },
    {
     "name": "stdout",
     "output_type": "stream",
     "text": [
      "{'val_loss': 2.4561831569526253, 'val_accuracy': 0.5766590389016019, 'precision': 0.5665728202736693, 'recall': 0.5766590389016019, 'f1-score': 0.5623851747249552, 'macro_f1-score': 0.23124602331828714, 'balanced_accuracy': 0.2504773951371307, 'mcc': 0.4446706373783471, 'train_loss': 1.0035085772822907}\n",
      "Epoch 9/20\n"
     ]
    },
    {
     "name": "stderr",
     "output_type": "stream",
     "text": [
      "100%|██████████| 328/328 [00:34<00:00,  9.43it/s]\n"
     ]
    },
    {
     "name": "stdout",
     "output_type": "stream",
     "text": [
      "{'val_loss': 2.524657958891334, 'val_accuracy': 0.6163234172387491, 'precision': 0.6001074833232583, 'recall': 0.6163234172387491, 'f1-score': 0.602007208767906, 'macro_f1-score': 0.2987963484142094, 'balanced_accuracy': 0.30171408416566453, 'mcc': 0.49162546887100367, 'train_loss': 0.8218268800935731}\n",
      "Epoch 10/20\n"
     ]
    },
    {
     "name": "stderr",
     "output_type": "stream",
     "text": [
      "100%|██████████| 328/328 [00:34<00:00,  9.43it/s]\n"
     ]
    },
    {
     "name": "stdout",
     "output_type": "stream",
     "text": [
      "{'val_loss': 2.6263963129462264, 'val_accuracy': 0.6170861937452327, 'precision': 0.5978092996342212, 'recall': 0.6170861937452327, 'f1-score': 0.5960059633053261, 'macro_f1-score': 0.28656071238211056, 'balanced_accuracy': 0.30077166487033197, 'mcc': 0.48899012380023915, 'train_loss': 0.6807882027109948}\n",
      "Epoch 11/20\n"
     ]
    },
    {
     "name": "stderr",
     "output_type": "stream",
     "text": [
      "100%|██████████| 328/328 [00:34<00:00,  9.43it/s]\n"
     ]
    },
    {
     "name": "stdout",
     "output_type": "stream",
     "text": [
      "{'val_loss': 2.5644346333858445, 'val_accuracy': 0.6003051106025934, 'precision': 0.593406566809589, 'recall': 0.6003051106025934, 'f1-score': 0.5885383453434537, 'macro_f1-score': 0.31138220160575003, 'balanced_accuracy': 0.32428427701970713, 'mcc': 0.4761965984274586, 'train_loss': 0.5597571313846856}\n",
      "Epoch 12/20\n"
     ]
    },
    {
     "name": "stderr",
     "output_type": "stream",
     "text": [
      "100%|██████████| 328/328 [00:34<00:00,  9.43it/s]\n"
     ]
    },
    {
     "name": "stdout",
     "output_type": "stream",
     "text": [
      "{'val_loss': 3.0807349878113444, 'val_accuracy': 0.6254767353165522, 'precision': 0.6102434769946312, 'recall': 0.6254767353165522, 'f1-score': 0.6048696827997205, 'macro_f1-score': 0.2982530114302806, 'balanced_accuracy': 0.2973436088314633, 'mcc': 0.49770333294520464, 'train_loss': 0.4773338865318404}\n",
      "Epoch 13/20\n"
     ]
    },
    {
     "name": "stderr",
     "output_type": "stream",
     "text": [
      "100%|██████████| 328/328 [00:34<00:00,  9.43it/s]\n"
     ]
    },
    {
     "name": "stdout",
     "output_type": "stream",
     "text": [
      "{'val_loss': 2.787360857899596, 'val_accuracy': 0.6178489702517163, 'precision': 0.6044059718487818, 'recall': 0.6178489702517163, 'f1-score': 0.6028494255179893, 'macro_f1-score': 0.31270659034334286, 'balanced_accuracy': 0.3108119498071003, 'mcc': 0.4924117277180157, 'train_loss': 0.4117661347533235}\n",
      "Epoch 14/20\n"
     ]
    },
    {
     "name": "stderr",
     "output_type": "stream",
     "text": [
      "100%|██████████| 328/328 [00:34<00:00,  9.43it/s]\n"
     ]
    },
    {
     "name": "stdout",
     "output_type": "stream",
     "text": [
      "{'val_loss': 3.2321993316092144, 'val_accuracy': 0.6270022883295194, 'precision': 0.6109165439338528, 'recall': 0.6270022883295194, 'f1-score': 0.6020890116776026, 'macro_f1-score': 0.31840456933445455, 'balanced_accuracy': 0.30098472615088895, 'mcc': 0.4929974707446741, 'train_loss': 0.34852900401484677}\n",
      "Epoch 15/20\n"
     ]
    },
    {
     "name": "stderr",
     "output_type": "stream",
     "text": [
      "100%|██████████| 328/328 [00:34<00:00,  9.42it/s]\n"
     ]
    },
    {
     "name": "stdout",
     "output_type": "stream",
     "text": [
      "{'val_loss': 2.8968323163869902, 'val_accuracy': 0.6209000762776506, 'precision': 0.6202080040122656, 'recall': 0.6209000762776506, 'f1-score': 0.611911841520103, 'macro_f1-score': 0.35080571775324426, 'balanced_accuracy': 0.3532003760283959, 'mcc': 0.4994209783826684, 'train_loss': 0.3424055554517886}\n",
      "Epoch 16/20\n"
     ]
    },
    {
     "name": "stderr",
     "output_type": "stream",
     "text": [
      "100%|██████████| 328/328 [00:34<00:00,  9.44it/s]\n"
     ]
    },
    {
     "name": "stdout",
     "output_type": "stream",
     "text": [
      "{'val_loss': 3.0859342711727793, 'val_accuracy': 0.6231884057971014, 'precision': 0.6069874008464065, 'recall': 0.6231884057971014, 'f1-score': 0.6077551450196875, 'macro_f1-score': 0.3205147861612718, 'balanced_accuracy': 0.31496984577710246, 'mcc': 0.49656906215552965, 'train_loss': 0.27371748354961734}\n",
      "Epoch 17/20\n"
     ]
    },
    {
     "name": "stderr",
     "output_type": "stream",
     "text": [
      "100%|██████████| 328/328 [00:34<00:00,  9.44it/s]\n"
     ]
    },
    {
     "name": "stdout",
     "output_type": "stream",
     "text": [
      "{'val_loss': 3.386788503425877, 'val_accuracy': 0.6102212051868803, 'precision': 0.6046634358358588, 'recall': 0.6102212051868803, 'f1-score': 0.5988364983836181, 'macro_f1-score': 0.3471086463198218, 'balanced_accuracy': 0.34663255937032106, 'mcc': 0.4825034649389452, 'train_loss': 0.20832357480809682}\n",
      "Epoch 18/20\n"
     ]
    },
    {
     "name": "stderr",
     "output_type": "stream",
     "text": [
      "100%|██████████| 328/328 [00:34<00:00,  9.42it/s]\n"
     ]
    },
    {
     "name": "stdout",
     "output_type": "stream",
     "text": [
      "{'val_loss': 3.270770788192749, 'val_accuracy': 0.6193745232646835, 'precision': 0.6346840064780905, 'recall': 0.6193745232646835, 'f1-score': 0.6165627815290222, 'macro_f1-score': 0.361826303252099, 'balanced_accuracy': 0.36896799533295993, 'mcc': 0.4986465578669312, 'train_loss': 0.2199033591342613}\n",
      "Epoch 19/20\n"
     ]
    },
    {
     "name": "stderr",
     "output_type": "stream",
     "text": [
      "100%|██████████| 328/328 [00:34<00:00,  9.44it/s]\n"
     ]
    },
    {
     "name": "stdout",
     "output_type": "stream",
     "text": [
      "{'val_loss': 3.2697903802845536, 'val_accuracy': 0.6170861937452327, 'precision': 0.6270492806470955, 'recall': 0.6170861937452327, 'f1-score': 0.6115610292669528, 'macro_f1-score': 0.3273579247347855, 'balanced_accuracy': 0.34492560645897763, 'mcc': 0.49558947919473656, 'train_loss': 0.19083959144460627}\n",
      "Epoch 20/20\n"
     ]
    },
    {
     "name": "stderr",
     "output_type": "stream",
     "text": [
      "100%|██████████| 328/328 [00:34<00:00,  9.44it/s]\n"
     ]
    },
    {
     "name": "stdout",
     "output_type": "stream",
     "text": [
      "{'val_loss': 3.6525808572769165, 'val_accuracy': 0.6361556064073226, 'precision': 0.6223546157763536, 'recall': 0.6361556064073226, 'f1-score': 0.6192674957572271, 'macro_f1-score': 0.3856279641682611, 'balanced_accuracy': 0.36184613975719077, 'mcc': 0.5062192513157092, 'train_loss': 0.19230427936134042}\n",
      "\n",
      "[Fold 4]\n",
      "Label distribution after resampling:\n",
      "  label 0: 2471\n",
      "  label 1: 22\n",
      "  label 2: 64\n",
      "  label 3: 24\n",
      "  label 4: 190\n",
      "  label 5: 113\n",
      "  label 6: 93\n",
      "  label 7: 31\n",
      "  label 8: 68\n",
      "  label 9: 29\n",
      "  label 10: 67\n",
      "  label 11: 169\n",
      "  label 12: 190\n",
      "  label 13: 29\n",
      "  label 14: 22\n",
      "  label 15: 25\n",
      "  label 16: 19\n",
      "  label 17: 182\n",
      "  label 18: 92\n",
      "  label 19: 44\n",
      "  label 20: 14\n",
      "  label 21: 35\n",
      "  label 22: 76\n",
      "  label 23: 158\n",
      "  label 24: 13\n",
      "  label 25: 44\n",
      "  label 26: 84\n",
      "  label 27: 48\n",
      "  label 28: 11\n",
      "  label 29: 13\n",
      "  label 30: 11\n",
      "  label 31: 75\n",
      "  label 32: 36\n",
      "  label 33: 31\n",
      "  label 34: 30\n",
      "  label 35: 11\n",
      "  label 36: 22\n",
      "  label 37: 16\n",
      "  label 38: 33\n",
      "  label 39: 10\n",
      "  label 40: 9\n",
      "  label 41: 56\n",
      "  label 42: 18\n",
      "  label 43: 9\n",
      "  label 44: 55\n",
      "  label 45: 241\n",
      "  label 46: 62\n",
      "  label 47: 80\n",
      "model is microsoft/deberta-base cnn\n",
      "Using weighted CrossEntropyLoss with weights: tensor([0.7527, 5.4740, 4.4061, 5.3870, 3.3180, 3.8376, 4.0324, 5.1310, 4.3455,\n",
      "        5.1977, 4.3603, 3.4351, 3.3180, 5.1977, 5.4740, 5.3462, 5.6206, 3.3610,\n",
      "        4.0432, 4.7808, 5.9260, 5.0097, 4.2343, 3.5024, 6.0001, 4.7808, 4.1342,\n",
      "        4.6938, 6.1671, 6.0001, 6.1671, 4.2475, 4.9815, 5.1310, 5.1638, 6.1671,\n",
      "        5.4740, 5.7924, 5.0685, 6.2624, 6.3678, 4.5397, 5.6747, 6.3678, 4.5577,\n",
      "        3.0802, 4.4379, 4.1830], device='cuda:0')\n",
      "Epoch 1/20\n"
     ]
    },
    {
     "name": "stderr",
     "output_type": "stream",
     "text": [
      "100%|██████████| 328/328 [00:34<00:00,  9.42it/s]\n"
     ]
    },
    {
     "name": "stdout",
     "output_type": "stream",
     "text": [
      "{'val_loss': 3.266506751862968, 'val_accuracy': 0.5316552250190694, 'precision': 0.3303007280459901, 'recall': 0.5316552250190694, 'f1-score': 0.37961444076108963, 'macro_f1-score': 0.04063075253625084, 'balanced_accuracy': 0.05519061348831792, 'mcc': 0.2749166702636564, 'train_loss': 2.4347150845498575}\n",
      "Epoch 2/20\n"
     ]
    },
    {
     "name": "stderr",
     "output_type": "stream",
     "text": [
      "100%|██████████| 328/328 [00:34<00:00,  9.43it/s]\n"
     ]
    },
    {
     "name": "stdout",
     "output_type": "stream",
     "text": [
      "{'val_loss': 2.8193251417904364, 'val_accuracy': 0.5430968726163234, 'precision': 0.39156799024008987, 'recall': 0.5430968726163234, 'f1-score': 0.42463429356825794, 'macro_f1-score': 0.05978595804989619, 'balanced_accuracy': 0.07601245200981256, 'mcc': 0.31822417128513253, 'train_loss': 2.0328963369857975}\n",
      "Epoch 3/20\n"
     ]
    },
    {
     "name": "stderr",
     "output_type": "stream",
     "text": [
      "100%|██████████| 328/328 [00:34<00:00,  9.43it/s]\n"
     ]
    },
    {
     "name": "stdout",
     "output_type": "stream",
     "text": [
      "{'val_loss': 3.5644060693136077, 'val_accuracy': 0.47139588100686497, 'precision': 0.2222140766302384, 'recall': 0.47139588100686497, 'f1-score': 0.302045261236125, 'macro_f1-score': 0.01334888543286677, 'balanced_accuracy': 0.020833333333333332, 'mcc': 0.0, 'train_loss': 2.5490091152307466}\n",
      "Epoch 4/20\n"
     ]
    },
    {
     "name": "stderr",
     "output_type": "stream",
     "text": [
      "100%|██████████| 328/328 [00:34<00:00,  9.43it/s]\n"
     ]
    },
    {
     "name": "stdout",
     "output_type": "stream",
     "text": [
      "{'val_loss': 3.5244582484408125, 'val_accuracy': 0.47139588100686497, 'precision': 0.2222140766302384, 'recall': 0.47139588100686497, 'f1-score': 0.302045261236125, 'macro_f1-score': 0.01334888543286677, 'balanced_accuracy': 0.020833333333333332, 'mcc': 0.0, 'train_loss': 2.5356581185649083}\n",
      "Epoch 5/20\n"
     ]
    },
    {
     "name": "stderr",
     "output_type": "stream",
     "text": [
      "100%|██████████| 328/328 [00:34<00:00,  9.43it/s]\n"
     ]
    },
    {
     "name": "stdout",
     "output_type": "stream",
     "text": [
      "{'val_loss': 3.5479903192054936, 'val_accuracy': 0.47139588100686497, 'precision': 0.2222140766302384, 'recall': 0.47139588100686497, 'f1-score': 0.302045261236125, 'macro_f1-score': 0.01334888543286677, 'balanced_accuracy': 0.020833333333333332, 'mcc': 0.0, 'train_loss': 2.533102816924816}\n",
      "Early stopping.\n",
      "\n",
      "[Fold 5]\n",
      "Label distribution after resampling:\n",
      "  label 0: 2472\n",
      "  label 1: 21\n",
      "  label 2: 64\n",
      "  label 3: 24\n",
      "  label 4: 191\n",
      "  label 5: 112\n",
      "  label 6: 92\n",
      "  label 7: 31\n",
      "  label 8: 68\n",
      "  label 9: 29\n",
      "  label 10: 68\n",
      "  label 11: 168\n",
      "  label 12: 190\n",
      "  label 13: 29\n",
      "  label 14: 22\n",
      "  label 15: 25\n",
      "  label 16: 19\n",
      "  label 17: 183\n",
      "  label 18: 92\n",
      "  label 19: 44\n",
      "  label 20: 14\n",
      "  label 21: 35\n",
      "  label 22: 76\n",
      "  label 23: 158\n",
      "  label 24: 13\n",
      "  label 25: 44\n",
      "  label 26: 84\n",
      "  label 27: 48\n",
      "  label 28: 11\n",
      "  label 29: 13\n",
      "  label 30: 11\n",
      "  label 31: 75\n",
      "  label 32: 36\n",
      "  label 33: 31\n",
      "  label 34: 30\n",
      "  label 35: 11\n",
      "  label 36: 22\n",
      "  label 37: 16\n",
      "  label 38: 33\n",
      "  label 39: 10\n",
      "  label 40: 9\n",
      "  label 41: 57\n",
      "  label 42: 18\n",
      "  label 43: 9\n",
      "  label 44: 54\n",
      "  label 45: 242\n",
      "  label 46: 61\n",
      "  label 47: 80\n",
      "model is microsoft/deberta-base cnn\n",
      "Using weighted CrossEntropyLoss with weights: tensor([0.7522, 5.5205, 4.4061, 5.3870, 3.3128, 3.8465, 4.0432, 5.1310, 4.3455,\n",
      "        5.1977, 4.3455, 3.4411, 3.3180, 5.1977, 5.4740, 5.3462, 5.6206, 3.3555,\n",
      "        4.0432, 4.7808, 5.9260, 5.0097, 4.2343, 3.5024, 6.0001, 4.7808, 4.1342,\n",
      "        4.6938, 6.1671, 6.0001, 6.1671, 4.2475, 4.9815, 5.1310, 5.1638, 6.1671,\n",
      "        5.4740, 5.7924, 5.0685, 6.2624, 6.3678, 4.5220, 5.6747, 6.3678, 4.5760,\n",
      "        3.0761, 4.4542, 4.1830], device='cuda:0')\n",
      "Epoch 1/20\n"
     ]
    },
    {
     "name": "stderr",
     "output_type": "stream",
     "text": [
      "100%|██████████| 328/328 [00:34<00:00,  9.43it/s]\n"
     ]
    },
    {
     "name": "stdout",
     "output_type": "stream",
     "text": [
      "{'val_loss': 3.198316992782965, 'val_accuracy': 0.5240274599542334, 'precision': 0.3063386236304846, 'recall': 0.5240274599542334, 'f1-score': 0.3848740722401919, 'macro_f1-score': 0.03833152378480987, 'balanced_accuracy': 0.05393741227347559, 'mcc': 0.2733378870070476, 'train_loss': 2.4887321853056186}\n",
      "Epoch 2/20\n"
     ]
    },
    {
     "name": "stderr",
     "output_type": "stream",
     "text": [
      "100%|██████████| 328/328 [00:34<00:00,  9.43it/s]\n"
     ]
    },
    {
     "name": "stdout",
     "output_type": "stream",
     "text": [
      "{'val_loss': 2.754743523714019, 'val_accuracy': 0.5606407322654462, 'precision': 0.4016219721449531, 'recall': 0.5606407322654462, 'f1-score': 0.4584122968739953, 'macro_f1-score': 0.07320947851752632, 'balanced_accuracy': 0.09603430819941132, 'mcc': 0.37335788242792955, 'train_loss': 2.0564594058001915}\n",
      "Epoch 3/20\n"
     ]
    },
    {
     "name": "stderr",
     "output_type": "stream",
     "text": [
      "100%|██████████| 328/328 [00:34<00:00,  9.44it/s]\n"
     ]
    },
    {
     "name": "stdout",
     "output_type": "stream",
     "text": [
      "{'val_loss': 2.621371334645806, 'val_accuracy': 0.5743707093821511, 'precision': 0.4295443128270332, 'recall': 0.5743707093821511, 'f1-score': 0.48575769663159846, 'macro_f1-score': 0.08976722574130451, 'balanced_accuracy': 0.11484642196931628, 'mcc': 0.40373552441713273, 'train_loss': 1.8666057913768581}\n",
      "Epoch 4/20\n"
     ]
    },
    {
     "name": "stderr",
     "output_type": "stream",
     "text": [
      "100%|██████████| 328/328 [00:34<00:00,  9.42it/s]\n"
     ]
    },
    {
     "name": "stdout",
     "output_type": "stream",
     "text": [
      "{'val_loss': 2.665842222004402, 'val_accuracy': 0.5713196033562167, 'precision': 0.43444695325207916, 'recall': 0.5713196033562167, 'f1-score': 0.4830937372992978, 'macro_f1-score': 0.09945814970767493, 'balanced_accuracy': 0.11353099531163942, 'mcc': 0.38648513554444697, 'train_loss': 1.8932445234641797}\n",
      "Epoch 5/20\n"
     ]
    },
    {
     "name": "stderr",
     "output_type": "stream",
     "text": [
      "100%|██████████| 328/328 [00:34<00:00,  9.43it/s]\n"
     ]
    },
    {
     "name": "stdout",
     "output_type": "stream",
     "text": [
      "{'val_loss': 3.25097723995767, 'val_accuracy': 0.5316552250190694, 'precision': 0.3409623316053845, 'recall': 0.5316552250190694, 'f1-score': 0.3921203679859492, 'macro_f1-score': 0.05330483204643751, 'balanced_accuracy': 0.05471588175057959, 'mcc': 0.27586145716822735, 'train_loss': 1.980858345765893}\n",
      "Epoch 6/20\n"
     ]
    },
    {
     "name": "stderr",
     "output_type": "stream",
     "text": [
      "100%|██████████| 328/328 [00:34<00:00,  9.42it/s]\n"
     ]
    },
    {
     "name": "stdout",
     "output_type": "stream",
     "text": [
      "{'val_loss': 3.497379111080635, 'val_accuracy': 0.4805491990846682, 'precision': 0.24651495690997507, 'recall': 0.4805491990846682, 'f1-score': 0.3192073661651418, 'macro_f1-score': 0.01956347812512196, 'balanced_accuracy': 0.025347222222222226, 'mcc': 0.10602966579244115, 'train_loss': 2.4968648360269827}\n",
      "Epoch 7/20\n"
     ]
    },
    {
     "name": "stderr",
     "output_type": "stream",
     "text": [
      "100%|██████████| 328/328 [00:34<00:00,  9.43it/s]\n"
     ]
    },
    {
     "name": "stdout",
     "output_type": "stream",
     "text": [
      "{'val_loss': 3.444604018839394, 'val_accuracy': 0.4881769641495042, 'precision': 0.2907902046456887, 'recall': 0.4881769641495042, 'f1-score': 0.33636767451890237, 'macro_f1-score': 0.02888752055996784, 'balanced_accuracy': 0.03234676987747261, 'mcc': 0.14731703851092065, 'train_loss': 2.5382167587919935}\n",
      "Early stopping.\n",
      "\n",
      " === microsoft/deberta-base + cnn + none Final 5-fold Cross-Validation Results ===\n",
      "val_loss: 2.9293\n",
      "val_accuracy: 0.5897\n",
      "precision: 0.5107\n",
      "recall: 0.5897\n",
      "f1-score: 0.5316\n",
      "macro_f1-score: 0.2045\n",
      "balanced_accuracy: 0.2151\n",
      "mcc: 0.4249\n",
      "train_loss: 1.1939\n",
      "total_seconds: 2189.0000\n",
      "total_time: 0 hrs 36 mins 29 secs\n",
      "▶ Running: microsoft/deberta-base + lstm + none\n",
      "tokenizer is microsoft/deberta-base\n",
      "Using device: cuda\n",
      "CUDA Available: True\n",
      "CUDA Device: NVIDIA GeForce RTX 5070 Ti\n",
      "Current GPU Memory Allocated: 0.02 GB\n",
      "Current GPU Memory Cached: 5.12 GB\n",
      "\n",
      "[Fold 1]\n",
      "Label distribution after resampling:\n",
      "  label 0: 2471\n",
      "  label 1: 21\n",
      "  label 2: 64\n",
      "  label 3: 24\n",
      "  label 4: 191\n",
      "  label 5: 113\n",
      "  label 6: 93\n",
      "  label 7: 30\n",
      "  label 8: 68\n",
      "  label 9: 30\n",
      "  label 10: 67\n",
      "  label 11: 169\n",
      "  label 12: 189\n",
      "  label 13: 29\n",
      "  label 14: 22\n",
      "  label 15: 25\n",
      "  label 16: 19\n",
      "  label 17: 183\n",
      "  label 18: 92\n",
      "  label 19: 44\n",
      "  label 20: 13\n",
      "  label 21: 35\n",
      "  label 22: 76\n",
      "  label 23: 158\n",
      "  label 24: 13\n",
      "  label 25: 44\n",
      "  label 26: 84\n",
      "  label 27: 48\n",
      "  label 28: 11\n",
      "  label 29: 13\n",
      "  label 30: 11\n",
      "  label 31: 75\n",
      "  label 32: 36\n",
      "  label 33: 32\n",
      "  label 34: 29\n",
      "  label 35: 11\n",
      "  label 36: 22\n",
      "  label 37: 16\n",
      "  label 38: 33\n",
      "  label 39: 10\n",
      "  label 40: 9\n",
      "  label 41: 57\n",
      "  label 42: 19\n",
      "  label 43: 8\n",
      "  label 44: 54\n",
      "  label 45: 242\n",
      "  label 46: 61\n",
      "  label 47: 80\n",
      "model is microsoft/deberta-base lstm\n",
      "Using weighted CrossEntropyLoss with weights: tensor([0.7525, 5.5203, 4.4060, 5.3868, 3.3126, 3.8375, 4.0322, 5.1636, 4.3453,\n",
      "        5.1636, 4.3601, 3.4349, 3.3231, 5.1975, 5.4738, 5.3460, 5.6204, 3.3554,\n",
      "        4.0431, 4.7807, 5.9999, 5.0095, 4.2341, 3.5022, 5.9999, 4.7807, 4.1340,\n",
      "        4.6936, 6.1669, 5.9999, 6.1669, 4.2474, 4.9813, 5.0991, 5.1975, 6.1669,\n",
      "        5.4738, 5.7923, 5.0683, 6.2623, 6.3676, 4.5218, 5.6204, 6.4854, 4.5759,\n",
      "        3.0759, 4.4540, 4.1828], device='cuda:0')\n",
      "Epoch 1/20\n"
     ]
    },
    {
     "name": "stderr",
     "output_type": "stream",
     "text": [
      "100%|██████████| 328/328 [00:34<00:00,  9.38it/s]\n"
     ]
    },
    {
     "name": "stdout",
     "output_type": "stream",
     "text": [
      "{'val_loss': 3.4961604388748726, 'val_accuracy': 0.5129573170731707, 'precision': 0.2865722646747485, 'recall': 0.5129573170731707, 'f1-score': 0.36763199246867795, 'macro_f1-score': 0.03206015480329218, 'balanced_accuracy': 0.04410733549083063, 'mcc': 0.2357675721066234, 'train_loss': 2.430146801944186}\n",
      "Epoch 2/20\n"
     ]
    },
    {
     "name": "stderr",
     "output_type": "stream",
     "text": [
      "100%|██████████| 328/328 [00:35<00:00,  9.37it/s]\n"
     ]
    },
    {
     "name": "stdout",
     "output_type": "stream",
     "text": [
      "{'val_loss': 3.3445215399672343, 'val_accuracy': 0.5373475609756098, 'precision': 0.356763267550389, 'recall': 0.5373475609756098, 'f1-score': 0.3985136470566393, 'macro_f1-score': 0.051394506275577616, 'balanced_accuracy': 0.061404868092374554, 'mcc': 0.28846488611856425, 'train_loss': 2.161279694154495}\n",
      "Epoch 3/20\n"
     ]
    },
    {
     "name": "stderr",
     "output_type": "stream",
     "text": [
      "100%|██████████| 328/328 [00:34<00:00,  9.40it/s]\n"
     ]
    },
    {
     "name": "stdout",
     "output_type": "stream",
     "text": [
      "{'val_loss': 3.1909459393198896, 'val_accuracy': 0.5274390243902439, 'precision': 0.37959535562165647, 'recall': 0.5274390243902439, 'f1-score': 0.43465659180110217, 'macro_f1-score': 0.05427828281453997, 'balanced_accuracy': 0.07402670889989497, 'mcc': 0.3262823563760568, 'train_loss': 2.0668339238661093}\n",
      "Epoch 4/20\n"
     ]
    },
    {
     "name": "stderr",
     "output_type": "stream",
     "text": [
      "100%|██████████| 328/328 [00:34<00:00,  9.38it/s]\n"
     ]
    },
    {
     "name": "stdout",
     "output_type": "stream",
     "text": [
      "{'val_loss': 3.0938632619090196, 'val_accuracy': 0.5487804878048781, 'precision': 0.3700409642309854, 'recall': 0.5487804878048781, 'f1-score': 0.4384424520074167, 'macro_f1-score': 0.05721240926917117, 'balanced_accuracy': 0.07394994061827491, 'mcc': 0.34020964583153845, 'train_loss': 1.9790261833042633}\n",
      "Epoch 5/20\n"
     ]
    },
    {
     "name": "stderr",
     "output_type": "stream",
     "text": [
      "100%|██████████| 328/328 [00:34<00:00,  9.37it/s]\n"
     ]
    },
    {
     "name": "stdout",
     "output_type": "stream",
     "text": [
      "{'val_loss': 3.0532729698390497, 'val_accuracy': 0.5297256097560976, 'precision': 0.3770172246254836, 'recall': 0.5297256097560976, 'f1-score': 0.43588483512724585, 'macro_f1-score': 0.05688116823155968, 'balanced_accuracy': 0.0747929811183465, 'mcc': 0.327055505260655, 'train_loss': 1.8804663290701262}\n",
      "Epoch 6/20\n"
     ]
    },
    {
     "name": "stderr",
     "output_type": "stream",
     "text": [
      "100%|██████████| 328/328 [00:34<00:00,  9.39it/s]\n"
     ]
    },
    {
     "name": "stdout",
     "output_type": "stream",
     "text": [
      "{'val_loss': 3.0014270878419644, 'val_accuracy': 0.5304878048780488, 'precision': 0.3932663334493476, 'recall': 0.5304878048780488, 'f1-score': 0.4454085755939972, 'macro_f1-score': 0.06044911470526774, 'balanced_accuracy': 0.0799357916739075, 'mcc': 0.3374987844846392, 'train_loss': 1.8525928898555477}\n",
      "Epoch 7/20\n"
     ]
    },
    {
     "name": "stderr",
     "output_type": "stream",
     "text": [
      "100%|██████████| 328/328 [00:34<00:00,  9.38it/s]\n"
     ]
    },
    {
     "name": "stdout",
     "output_type": "stream",
     "text": [
      "{'val_loss': 3.029612171940687, 'val_accuracy': 0.5289634146341463, 'precision': 0.3798892564877972, 'recall': 0.5289634146341463, 'f1-score': 0.43496964219257966, 'macro_f1-score': 0.05596982254566729, 'balanced_accuracy': 0.07177646650250451, 'mcc': 0.3232810602530277, 'train_loss': 1.7868421103169279}\n",
      "Epoch 8/20\n"
     ]
    },
    {
     "name": "stderr",
     "output_type": "stream",
     "text": [
      "100%|██████████| 328/328 [00:34<00:00,  9.38it/s]\n"
     ]
    },
    {
     "name": "stdout",
     "output_type": "stream",
     "text": [
      "{'val_loss': 2.9901364125856538, 'val_accuracy': 0.5350609756097561, 'precision': 0.3746694711693105, 'recall': 0.5350609756097561, 'f1-score': 0.4376783128503928, 'macro_f1-score': 0.05717773764789456, 'balanced_accuracy': 0.07609736905417679, 'mcc': 0.33334515847882457, 'train_loss': 1.7800153121352196}\n",
      "Epoch 9/20\n"
     ]
    },
    {
     "name": "stderr",
     "output_type": "stream",
     "text": [
      "100%|██████████| 328/328 [00:34<00:00,  9.38it/s]\n"
     ]
    },
    {
     "name": "stdout",
     "output_type": "stream",
     "text": [
      "{'val_loss': 2.941410755238882, 'val_accuracy': 0.5403963414634146, 'precision': 0.42655809843532333, 'recall': 0.5403963414634146, 'f1-score': 0.45747054411225463, 'macro_f1-score': 0.06551722210642628, 'balanced_accuracy': 0.08171606545383832, 'mcc': 0.3543620663802489, 'train_loss': 1.7065862641647094}\n",
      "Epoch 10/20\n"
     ]
    },
    {
     "name": "stderr",
     "output_type": "stream",
     "text": [
      "100%|██████████| 328/328 [00:34<00:00,  9.39it/s]\n"
     ]
    },
    {
     "name": "stdout",
     "output_type": "stream",
     "text": [
      "{'val_loss': 3.0265672483095307, 'val_accuracy': 0.5198170731707317, 'precision': 0.4181389369542212, 'recall': 0.5198170731707317, 'f1-score': 0.45834022775323396, 'macro_f1-score': 0.07051371774481056, 'balanced_accuracy': 0.08569191941138816, 'mcc': 0.33725557641847465, 'train_loss': 1.6833706155601071}\n",
      "Epoch 11/20\n"
     ]
    },
    {
     "name": "stderr",
     "output_type": "stream",
     "text": [
      "100%|██████████| 328/328 [00:35<00:00,  9.35it/s]\n"
     ]
    },
    {
     "name": "stdout",
     "output_type": "stream",
     "text": [
      "{'val_loss': 2.9627467524714586, 'val_accuracy': 0.524390243902439, 'precision': 0.4181997324118606, 'recall': 0.524390243902439, 'f1-score': 0.4617904980679142, 'macro_f1-score': 0.07208680158796218, 'balanced_accuracy': 0.08412778857865427, 'mcc': 0.34085457718563755, 'train_loss': 1.6500740418346918}\n",
      "Epoch 12/20\n"
     ]
    },
    {
     "name": "stderr",
     "output_type": "stream",
     "text": [
      "100%|██████████| 328/328 [00:34<00:00,  9.40it/s]\n"
     ]
    },
    {
     "name": "stdout",
     "output_type": "stream",
     "text": [
      "{'val_loss': 2.9932174217410203, 'val_accuracy': 0.5434451219512195, 'precision': 0.4260826841598439, 'recall': 0.5434451219512195, 'f1-score': 0.45497618455162053, 'macro_f1-score': 0.06812950524799534, 'balanced_accuracy': 0.08280970842731712, 'mcc': 0.34582654737322266, 'train_loss': 1.7198830166967904}\n",
      "Epoch 13/20\n"
     ]
    },
    {
     "name": "stderr",
     "output_type": "stream",
     "text": [
      "100%|██████████| 328/328 [00:34<00:00,  9.38it/s]\n"
     ]
    },
    {
     "name": "stdout",
     "output_type": "stream",
     "text": [
      "{'val_loss': 3.3770522388016304, 'val_accuracy': 0.5015243902439024, 'precision': 0.28058700465837294, 'recall': 0.5015243902439024, 'f1-score': 0.3512921302067408, 'macro_f1-score': 0.03138996035572699, 'balanced_accuracy': 0.037363230081676684, 'mcc': 0.19016557602458617, 'train_loss': 1.8042464608826287}\n",
      "Epoch 14/20\n"
     ]
    },
    {
     "name": "stderr",
     "output_type": "stream",
     "text": [
      "100%|██████████| 328/328 [00:35<00:00,  9.35it/s]\n"
     ]
    },
    {
     "name": "stdout",
     "output_type": "stream",
     "text": [
      "{'val_loss': 3.2279837538556353, 'val_accuracy': 0.45884146341463417, 'precision': 0.41527392335407903, 'recall': 0.45884146341463417, 'f1-score': 0.42365935943295463, 'macro_f1-score': 0.049537898170210565, 'balanced_accuracy': 0.06823938351660543, 'mcc': 0.2937402801732306, 'train_loss': 2.0281646635110784}\n",
      "Early stopping.\n",
      "\n",
      "[Fold 2]\n",
      "Label distribution after resampling:\n",
      "  label 0: 2471\n",
      "  label 1: 22\n",
      "  label 2: 64\n",
      "  label 3: 24\n",
      "  label 4: 190\n",
      "  label 5: 113\n",
      "  label 6: 93\n",
      "  label 7: 30\n",
      "  label 8: 68\n",
      "  label 9: 30\n",
      "  label 10: 67\n",
      "  label 11: 169\n",
      "  label 12: 189\n",
      "  label 13: 29\n",
      "  label 14: 23\n",
      "  label 15: 24\n",
      "  label 16: 20\n",
      "  label 17: 182\n",
      "  label 18: 92\n",
      "  label 19: 44\n",
      "  label 20: 13\n",
      "  label 21: 36\n",
      "  label 22: 76\n",
      "  label 23: 157\n",
      "  label 24: 12\n",
      "  label 25: 44\n",
      "  label 26: 84\n",
      "  label 27: 48\n",
      "  label 28: 12\n",
      "  label 29: 12\n",
      "  label 30: 12\n",
      "  label 31: 75\n",
      "  label 32: 36\n",
      "  label 33: 31\n",
      "  label 34: 29\n",
      "  label 35: 12\n",
      "  label 36: 21\n",
      "  label 37: 16\n",
      "  label 38: 33\n",
      "  label 39: 11\n",
      "  label 40: 8\n",
      "  label 41: 57\n",
      "  label 42: 19\n",
      "  label 43: 9\n",
      "  label 44: 54\n",
      "  label 45: 242\n",
      "  label 46: 62\n",
      "  label 47: 80\n",
      "model is microsoft/deberta-base lstm\n",
      "Using weighted CrossEntropyLoss with weights: tensor([0.7527, 5.4740, 4.4061, 5.3870, 3.3180, 3.8376, 4.0324, 5.1638, 4.3455,\n",
      "        5.1638, 4.3603, 3.4351, 3.3233, 5.1977, 5.4295, 5.3870, 5.5693, 3.3610,\n",
      "        4.0432, 4.7808, 6.0001, 4.9815, 4.2343, 3.5088, 6.0801, 4.7808, 4.1342,\n",
      "        4.6938, 6.0801, 6.0801, 6.0801, 4.2475, 4.9815, 5.1310, 5.1977, 6.0801,\n",
      "        5.5205, 5.7924, 5.0685, 6.1671, 6.4856, 4.5220, 5.6206, 6.3678, 4.5760,\n",
      "        3.0761, 4.4379, 4.1830], device='cuda:0')\n",
      "Epoch 1/20\n"
     ]
    },
    {
     "name": "stderr",
     "output_type": "stream",
     "text": [
      "100%|██████████| 328/328 [00:34<00:00,  9.39it/s]\n"
     ]
    },
    {
     "name": "stdout",
     "output_type": "stream",
     "text": [
      "{'val_loss': 3.408255843127646, 'val_accuracy': 0.513348588863463, 'precision': 0.2825360119699585, 'recall': 0.513348588863463, 'f1-score': 0.3566490477692169, 'macro_f1-score': 0.031936892150657065, 'balanced_accuracy': 0.04045138888888889, 'mcc': 0.22536216616764954, 'train_loss': 2.469943997336597}\n",
      "Epoch 2/20\n"
     ]
    },
    {
     "name": "stderr",
     "output_type": "stream",
     "text": [
      "100%|██████████| 328/328 [00:34<00:00,  9.39it/s]\n"
     ]
    },
    {
     "name": "stdout",
     "output_type": "stream",
     "text": [
      "{'val_loss': 3.330236967017011, 'val_accuracy': 0.5316552250190694, 'precision': 0.33581474532071687, 'recall': 0.5316552250190694, 'f1-score': 0.40148461370217214, 'macro_f1-score': 0.048115519323149704, 'balanced_accuracy': 0.054293009239716715, 'mcc': 0.277249860208996, 'train_loss': 2.17545397706875}\n",
      "Epoch 3/20\n"
     ]
    },
    {
     "name": "stderr",
     "output_type": "stream",
     "text": [
      "100%|██████████| 328/328 [00:35<00:00,  9.36it/s]\n"
     ]
    },
    {
     "name": "stdout",
     "output_type": "stream",
     "text": [
      "{'val_loss': 3.0563010631538017, 'val_accuracy': 0.555301296720061, 'precision': 0.36533760227302714, 'recall': 0.555301296720061, 'f1-score': 0.43837037791580447, 'macro_f1-score': 0.06064182517953903, 'balanced_accuracy': 0.0809299087670104, 'mcc': 0.34721179871695645, 'train_loss': 1.998632129009177}\n",
      "Epoch 4/20\n"
     ]
    },
    {
     "name": "stderr",
     "output_type": "stream",
     "text": [
      "100%|██████████| 328/328 [00:35<00:00,  9.37it/s]\n"
     ]
    },
    {
     "name": "stdout",
     "output_type": "stream",
     "text": [
      "{'val_loss': 3.0481259750156866, 'val_accuracy': 0.5484363081617086, 'precision': 0.4015255747990365, 'recall': 0.5484363081617086, 'f1-score': 0.4495729827052411, 'macro_f1-score': 0.06315537217618568, 'balanced_accuracy': 0.08549949116274223, 'mcc': 0.35553412746062835, 'train_loss': 1.9027859679445989}\n",
      "Epoch 5/20\n"
     ]
    },
    {
     "name": "stderr",
     "output_type": "stream",
     "text": [
      "100%|██████████| 328/328 [00:34<00:00,  9.38it/s]\n"
     ]
    },
    {
     "name": "stdout",
     "output_type": "stream",
     "text": [
      "{'val_loss': 2.8831707064698384, 'val_accuracy': 0.5484363081617086, 'precision': 0.4045216973304098, 'recall': 0.5484363081617086, 'f1-score': 0.4599216882354017, 'macro_f1-score': 0.06483027440241704, 'balanced_accuracy': 0.08715697593586469, 'mcc': 0.3625662133789959, 'train_loss': 1.869318611192994}\n",
      "Epoch 6/20\n"
     ]
    },
    {
     "name": "stderr",
     "output_type": "stream",
     "text": [
      "100%|██████████| 328/328 [00:35<00:00,  9.35it/s]\n"
     ]
    },
    {
     "name": "stdout",
     "output_type": "stream",
     "text": [
      "{'val_loss': 2.920147272144876, 'val_accuracy': 0.5354691075514875, 'precision': 0.39605854727761164, 'recall': 0.5354691075514875, 'f1-score': 0.45151082197585224, 'macro_f1-score': 0.06622585976553137, 'balanced_accuracy': 0.08560247414609057, 'mcc': 0.3458933232620405, 'train_loss': 1.7638043759436142}\n",
      "Epoch 7/20\n"
     ]
    },
    {
     "name": "stderr",
     "output_type": "stream",
     "text": [
      "100%|██████████| 328/328 [00:34<00:00,  9.39it/s]\n"
     ]
    },
    {
     "name": "stdout",
     "output_type": "stream",
     "text": [
      "{'val_loss': 3.2916344186154807, 'val_accuracy': 0.5377574370709383, 'precision': 0.35571100350280177, 'recall': 0.5377574370709383, 'f1-score': 0.4250835462904132, 'macro_f1-score': 0.056767100204128784, 'balanced_accuracy': 0.06707835312435091, 'mcc': 0.30769039831461176, 'train_loss': 1.7365249303601138}\n",
      "Epoch 8/20\n"
     ]
    },
    {
     "name": "stderr",
     "output_type": "stream",
     "text": [
      "100%|██████████| 328/328 [00:34<00:00,  9.39it/s]\n"
     ]
    },
    {
     "name": "stdout",
     "output_type": "stream",
     "text": [
      "{'val_loss': 2.9794558577421233, 'val_accuracy': 0.5484363081617086, 'precision': 0.4369814642398498, 'recall': 0.5484363081617086, 'f1-score': 0.4715871640069819, 'macro_f1-score': 0.06715876582588794, 'balanced_accuracy': 0.08429393157818917, 'mcc': 0.3759094418657264, 'train_loss': 1.792129792818209}\n",
      "Epoch 9/20\n"
     ]
    },
    {
     "name": "stderr",
     "output_type": "stream",
     "text": [
      "100%|██████████| 328/328 [00:35<00:00,  9.36it/s]\n"
     ]
    },
    {
     "name": "stdout",
     "output_type": "stream",
     "text": [
      "{'val_loss': 2.8262485294807247, 'val_accuracy': 0.551487414187643, 'precision': 0.45623797663244925, 'recall': 0.551487414187643, 'f1-score': 0.47487141945823724, 'macro_f1-score': 0.07860577035347997, 'balanced_accuracy': 0.09604552600766374, 'mcc': 0.3741819044961241, 'train_loss': 1.642887637200879}\n",
      "Epoch 10/20\n"
     ]
    },
    {
     "name": "stderr",
     "output_type": "stream",
     "text": [
      "100%|██████████| 328/328 [00:34<00:00,  9.39it/s]\n"
     ]
    },
    {
     "name": "stdout",
     "output_type": "stream",
     "text": [
      "{'val_loss': 2.8049155328331925, 'val_accuracy': 0.5530129672006102, 'precision': 0.4503138749331347, 'recall': 0.5530129672006102, 'f1-score': 0.4874087468013821, 'macro_f1-score': 0.08370835420853316, 'balanced_accuracy': 0.10688081499169692, 'mcc': 0.3863739595767822, 'train_loss': 1.5881492015792102}\n",
      "Epoch 11/20\n"
     ]
    },
    {
     "name": "stderr",
     "output_type": "stream",
     "text": [
      "100%|██████████| 328/328 [00:35<00:00,  9.37it/s]\n"
     ]
    },
    {
     "name": "stdout",
     "output_type": "stream",
     "text": [
      "{'val_loss': 2.906176647035087, 'val_accuracy': 0.5644546147978642, 'precision': 0.43497149908206334, 'recall': 0.5644546147978642, 'f1-score': 0.4866489175648732, 'macro_f1-score': 0.08316485089835632, 'balanced_accuracy': 0.10462760530450581, 'mcc': 0.39322566742246695, 'train_loss': 1.5025810980942191}\n",
      "Epoch 12/20\n"
     ]
    },
    {
     "name": "stderr",
     "output_type": "stream",
     "text": [
      "100%|██████████| 328/328 [00:34<00:00,  9.38it/s]\n"
     ]
    },
    {
     "name": "stdout",
     "output_type": "stream",
     "text": [
      "{'val_loss': 2.8764793901908687, 'val_accuracy': 0.5430968726163234, 'precision': 0.4418232216943591, 'recall': 0.5430968726163234, 'f1-score': 0.48243506413157866, 'macro_f1-score': 0.08229698618238902, 'balanced_accuracy': 0.10629657756939838, 'mcc': 0.37758445833472537, 'train_loss': 1.4878006066854408}\n",
      "Epoch 13/20\n"
     ]
    },
    {
     "name": "stderr",
     "output_type": "stream",
     "text": [
      "100%|██████████| 328/328 [00:35<00:00,  9.37it/s]\n"
     ]
    },
    {
     "name": "stdout",
     "output_type": "stream",
     "text": [
      "{'val_loss': 2.954313664901547, 'val_accuracy': 0.5392829900839055, 'precision': 0.44492177285041673, 'recall': 0.5392829900839055, 'f1-score': 0.4805001959681119, 'macro_f1-score': 0.07930226675140019, 'balanced_accuracy': 0.09661960800895936, 'mcc': 0.3695165503830452, 'train_loss': 1.460992603040323}\n",
      "Early stopping.\n",
      "\n",
      "[Fold 3]\n",
      "Label distribution after resampling:\n",
      "  label 0: 2471\n",
      "  label 1: 22\n",
      "  label 2: 64\n",
      "  label 3: 24\n",
      "  label 4: 190\n",
      "  label 5: 113\n",
      "  label 6: 93\n",
      "  label 7: 30\n",
      "  label 8: 68\n",
      "  label 9: 30\n",
      "  label 10: 67\n",
      "  label 11: 169\n",
      "  label 12: 190\n",
      "  label 13: 28\n",
      "  label 14: 23\n",
      "  label 15: 25\n",
      "  label 16: 19\n",
      "  label 17: 182\n",
      "  label 18: 92\n",
      "  label 19: 44\n",
      "  label 20: 14\n",
      "  label 21: 35\n",
      "  label 22: 76\n",
      "  label 23: 157\n",
      "  label 24: 13\n",
      "  label 25: 44\n",
      "  label 26: 84\n",
      "  label 27: 48\n",
      "  label 28: 11\n",
      "  label 29: 13\n",
      "  label 30: 11\n",
      "  label 31: 76\n",
      "  label 32: 36\n",
      "  label 33: 31\n",
      "  label 34: 30\n",
      "  label 35: 11\n",
      "  label 36: 21\n",
      "  label 37: 16\n",
      "  label 38: 32\n",
      "  label 39: 11\n",
      "  label 40: 9\n",
      "  label 41: 57\n",
      "  label 42: 18\n",
      "  label 43: 9\n",
      "  label 44: 55\n",
      "  label 45: 241\n",
      "  label 46: 62\n",
      "  label 47: 80\n",
      "model is microsoft/deberta-base lstm\n",
      "Using weighted CrossEntropyLoss with weights: tensor([0.7527, 5.4740, 4.4061, 5.3870, 3.3180, 3.8376, 4.0324, 5.1638, 4.3455,\n",
      "        5.1638, 4.3603, 3.4351, 3.3180, 5.2328, 5.4295, 5.3462, 5.6206, 3.3610,\n",
      "        4.0432, 4.7808, 5.9260, 5.0097, 4.2343, 3.5088, 6.0001, 4.7808, 4.1342,\n",
      "        4.6938, 6.1671, 6.0001, 6.1671, 4.2343, 4.9815, 5.1310, 5.1638, 6.1671,\n",
      "        5.5205, 5.7924, 5.0993, 6.1671, 6.3678, 4.5220, 5.6747, 6.3678, 4.5577,\n",
      "        3.0802, 4.4379, 4.1830], device='cuda:0')\n",
      "Epoch 1/20\n"
     ]
    },
    {
     "name": "stderr",
     "output_type": "stream",
     "text": [
      "100%|██████████| 328/328 [00:34<00:00,  9.39it/s]\n"
     ]
    },
    {
     "name": "stdout",
     "output_type": "stream",
     "text": [
      "{'val_loss': 3.604800693872498, 'val_accuracy': 0.5049580472921434, 'precision': 0.2791708675594212, 'recall': 0.5049580472921434, 'f1-score': 0.3455810962430922, 'macro_f1-score': 0.026502615645605698, 'balanced_accuracy': 0.037193664731541336, 'mcc': 0.2015288689148755, 'train_loss': 2.538527573027262}\n",
      "Epoch 2/20\n"
     ]
    },
    {
     "name": "stderr",
     "output_type": "stream",
     "text": [
      "100%|██████████| 328/328 [00:34<00:00,  9.37it/s]\n"
     ]
    },
    {
     "name": "stdout",
     "output_type": "stream",
     "text": [
      "{'val_loss': 3.2279287344071923, 'val_accuracy': 0.5163996948893974, 'precision': 0.30037329325028717, 'recall': 0.5163996948893974, 'f1-score': 0.37926119461496843, 'macro_f1-score': 0.03375063082403504, 'balanced_accuracy': 0.047693722358711964, 'mcc': 0.25509439366406156, 'train_loss': 2.2283060052772847}\n",
      "Epoch 3/20\n"
     ]
    },
    {
     "name": "stderr",
     "output_type": "stream",
     "text": [
      "100%|██████████| 328/328 [00:34<00:00,  9.38it/s]\n"
     ]
    },
    {
     "name": "stdout",
     "output_type": "stream",
     "text": [
      "{'val_loss': 3.3439526775988138, 'val_accuracy': 0.5026697177726926, 'precision': 0.3223914304048882, 'recall': 0.5026697177726926, 'f1-score': 0.3772000302610346, 'macro_f1-score': 0.0335562044293829, 'balanced_accuracy': 0.043068479045298036, 'mcc': 0.23261870931750508, 'train_loss': 2.1760743751031595}\n",
      "Epoch 4/20\n"
     ]
    },
    {
     "name": "stderr",
     "output_type": "stream",
     "text": [
      "100%|██████████| 328/328 [00:34<00:00,  9.39it/s]\n"
     ]
    },
    {
     "name": "stdout",
     "output_type": "stream",
     "text": [
      "{'val_loss': 3.214882839016798, 'val_accuracy': 0.5125858123569794, 'precision': 0.3677791762317199, 'recall': 0.5125858123569794, 'f1-score': 0.4255818650004541, 'macro_f1-score': 0.05159568181391885, 'balanced_accuracy': 0.071087389155133, 'mcc': 0.30394860620764547, 'train_loss': 2.0618989925558973}\n",
      "Epoch 5/20\n"
     ]
    },
    {
     "name": "stderr",
     "output_type": "stream",
     "text": [
      "100%|██████████| 328/328 [00:34<00:00,  9.37it/s]\n"
     ]
    },
    {
     "name": "stdout",
     "output_type": "stream",
     "text": [
      "{'val_loss': 3.223999418863436, 'val_accuracy': 0.5026697177726926, 'precision': 0.36039912604462204, 'recall': 0.5026697177726926, 'f1-score': 0.3996034493377359, 'macro_f1-score': 0.039748287956381516, 'balanced_accuracy': 0.06385771778227411, 'mcc': 0.2870392888089288, 'train_loss': 1.9975280778073683}\n",
      "Epoch 6/20\n"
     ]
    },
    {
     "name": "stderr",
     "output_type": "stream",
     "text": [
      "100%|██████████| 328/328 [00:34<00:00,  9.38it/s]\n"
     ]
    },
    {
     "name": "stdout",
     "output_type": "stream",
     "text": [
      "{'val_loss': 3.076632188587654, 'val_accuracy': 0.501906941266209, 'precision': 0.40364017420172005, 'recall': 0.501906941266209, 'f1-score': 0.43883724404017405, 'macro_f1-score': 0.05499978377996506, 'balanced_accuracy': 0.0744167441742815, 'mcc': 0.32140920003244805, 'train_loss': 1.9356423082148158}\n",
      "Epoch 7/20\n"
     ]
    },
    {
     "name": "stderr",
     "output_type": "stream",
     "text": [
      "100%|██████████| 328/328 [00:34<00:00,  9.37it/s]\n"
     ]
    },
    {
     "name": "stdout",
     "output_type": "stream",
     "text": [
      "{'val_loss': 3.1005931961827162, 'val_accuracy': 0.4630053394355454, 'precision': 0.39768576426874425, 'recall': 0.4630053394355454, 'f1-score': 0.4179133675802915, 'macro_f1-score': 0.05014422265111854, 'balanced_accuracy': 0.06957432113403567, 'mcc': 0.2855150233838501, 'train_loss': 1.9941412254077633}\n",
      "Epoch 8/20\n"
     ]
    },
    {
     "name": "stderr",
     "output_type": "stream",
     "text": [
      "100%|██████████| 328/328 [00:34<00:00,  9.37it/s]\n"
     ]
    },
    {
     "name": "stdout",
     "output_type": "stream",
     "text": [
      "{'val_loss': 3.161342747327758, 'val_accuracy': 0.494279176201373, 'precision': 0.3808021093281278, 'recall': 0.494279176201373, 'f1-score': 0.4208459104418591, 'macro_f1-score': 0.04401399433815976, 'balanced_accuracy': 0.06669257176001143, 'mcc': 0.31364250330420296, 'train_loss': 1.951987417005911}\n",
      "Epoch 9/20\n"
     ]
    },
    {
     "name": "stderr",
     "output_type": "stream",
     "text": [
      "100%|██████████| 328/328 [00:35<00:00,  9.36it/s]\n"
     ]
    },
    {
     "name": "stdout",
     "output_type": "stream",
     "text": [
      "{'val_loss': 3.128903354086527, 'val_accuracy': 0.528604118993135, 'precision': 0.3803622592408309, 'recall': 0.528604118993135, 'f1-score': 0.4356045187350981, 'macro_f1-score': 0.056595314687316246, 'balanced_accuracy': 0.07475491916629655, 'mcc': 0.32410550173747465, 'train_loss': 1.881427667489866}\n",
      "Epoch 10/20\n"
     ]
    },
    {
     "name": "stderr",
     "output_type": "stream",
     "text": [
      "100%|██████████| 328/328 [00:34<00:00,  9.38it/s]\n"
     ]
    },
    {
     "name": "stdout",
     "output_type": "stream",
     "text": [
      "{'val_loss': 3.3927825035118477, 'val_accuracy': 0.5011441647597255, 'precision': 0.2966292474418203, 'recall': 0.5011441647597255, 'f1-score': 0.36810874503103025, 'macro_f1-score': 0.028818562576720084, 'balanced_accuracy': 0.0458701966659516, 'mcc': 0.24390513053545115, 'train_loss': 1.917727119857218}\n",
      "Epoch 11/20\n"
     ]
    },
    {
     "name": "stderr",
     "output_type": "stream",
     "text": [
      "100%|██████████| 328/328 [00:34<00:00,  9.37it/s]\n"
     ]
    },
    {
     "name": "stdout",
     "output_type": "stream",
     "text": [
      "{'val_loss': 3.1386251565886707, 'val_accuracy': 0.5179252479023646, 'precision': 0.3444702274903757, 'recall': 0.5179252479023646, 'f1-score': 0.4108848572046615, 'macro_f1-score': 0.04643766977227707, 'balanced_accuracy': 0.06387831142146971, 'mcc': 0.29031427285242895, 'train_loss': 2.002060279613588}\n",
      "Epoch 12/20\n"
     ]
    },
    {
     "name": "stderr",
     "output_type": "stream",
     "text": [
      "100%|██████████| 328/328 [00:35<00:00,  9.36it/s]\n"
     ]
    },
    {
     "name": "stdout",
     "output_type": "stream",
     "text": [
      "{'val_loss': 3.131822943687439, 'val_accuracy': 0.5202135774218154, 'precision': 0.370285837784684, 'recall': 0.5202135774218154, 'f1-score': 0.4274263514211109, 'macro_f1-score': 0.04941436751543914, 'balanced_accuracy': 0.0750179835383204, 'mcc': 0.326908881210952, 'train_loss': 1.8511352609933875}\n",
      "Early stopping.\n",
      "\n",
      "[Fold 4]\n",
      "Label distribution after resampling:\n",
      "  label 0: 2471\n",
      "  label 1: 22\n",
      "  label 2: 64\n",
      "  label 3: 24\n",
      "  label 4: 190\n",
      "  label 5: 113\n",
      "  label 6: 93\n",
      "  label 7: 31\n",
      "  label 8: 68\n",
      "  label 9: 29\n",
      "  label 10: 67\n",
      "  label 11: 169\n",
      "  label 12: 190\n",
      "  label 13: 29\n",
      "  label 14: 22\n",
      "  label 15: 25\n",
      "  label 16: 19\n",
      "  label 17: 182\n",
      "  label 18: 92\n",
      "  label 19: 44\n",
      "  label 20: 14\n",
      "  label 21: 35\n",
      "  label 22: 76\n",
      "  label 23: 158\n",
      "  label 24: 13\n",
      "  label 25: 44\n",
      "  label 26: 84\n",
      "  label 27: 48\n",
      "  label 28: 11\n",
      "  label 29: 13\n",
      "  label 30: 11\n",
      "  label 31: 75\n",
      "  label 32: 36\n",
      "  label 33: 31\n",
      "  label 34: 30\n",
      "  label 35: 11\n",
      "  label 36: 22\n",
      "  label 37: 16\n",
      "  label 38: 33\n",
      "  label 39: 10\n",
      "  label 40: 9\n",
      "  label 41: 56\n",
      "  label 42: 18\n",
      "  label 43: 9\n",
      "  label 44: 55\n",
      "  label 45: 241\n",
      "  label 46: 62\n",
      "  label 47: 80\n",
      "model is microsoft/deberta-base lstm\n",
      "Using weighted CrossEntropyLoss with weights: tensor([0.7527, 5.4740, 4.4061, 5.3870, 3.3180, 3.8376, 4.0324, 5.1310, 4.3455,\n",
      "        5.1977, 4.3603, 3.4351, 3.3180, 5.1977, 5.4740, 5.3462, 5.6206, 3.3610,\n",
      "        4.0432, 4.7808, 5.9260, 5.0097, 4.2343, 3.5024, 6.0001, 4.7808, 4.1342,\n",
      "        4.6938, 6.1671, 6.0001, 6.1671, 4.2475, 4.9815, 5.1310, 5.1638, 6.1671,\n",
      "        5.4740, 5.7924, 5.0685, 6.2624, 6.3678, 4.5397, 5.6747, 6.3678, 4.5577,\n",
      "        3.0802, 4.4379, 4.1830], device='cuda:0')\n",
      "Epoch 1/20\n"
     ]
    },
    {
     "name": "stderr",
     "output_type": "stream",
     "text": [
      "100%|██████████| 328/328 [00:34<00:00,  9.39it/s]\n"
     ]
    },
    {
     "name": "stdout",
     "output_type": "stream",
     "text": [
      "{'val_loss': 3.3275267816171414, 'val_accuracy': 0.5080091533180778, 'precision': 0.3136912678975426, 'recall': 0.5080091533180778, 'f1-score': 0.38498295531290294, 'macro_f1-score': 0.03315715986882776, 'balanced_accuracy': 0.04822032722779281, 'mcc': 0.26087963668458847, 'train_loss': 2.430782580521049}\n",
      "Epoch 2/20\n"
     ]
    },
    {
     "name": "stderr",
     "output_type": "stream",
     "text": [
      "100%|██████████| 328/328 [00:34<00:00,  9.38it/s]\n"
     ]
    },
    {
     "name": "stdout",
     "output_type": "stream",
     "text": [
      "{'val_loss': 3.1829831236746253, 'val_accuracy': 0.5270785659801678, 'precision': 0.3562427645739101, 'recall': 0.5270785659801678, 'f1-score': 0.4085872981237791, 'macro_f1-score': 0.04603730181890465, 'balanced_accuracy': 0.058537560247740726, 'mcc': 0.29139098879415376, 'train_loss': 2.157127831040359}\n",
      "Epoch 3/20\n"
     ]
    },
    {
     "name": "stderr",
     "output_type": "stream",
     "text": [
      "100%|██████████| 328/328 [00:35<00:00,  9.35it/s]\n"
     ]
    },
    {
     "name": "stdout",
     "output_type": "stream",
     "text": [
      "{'val_loss': 3.2483049791033674, 'val_accuracy': 0.520976353928299, 'precision': 0.3203721057286422, 'recall': 0.520976353928299, 'f1-score': 0.39439464682307834, 'macro_f1-score': 0.04154855155424377, 'balanced_accuracy': 0.053099202328469985, 'mcc': 0.26873466374099514, 'train_loss': 2.0032537119781098}\n",
      "Epoch 4/20\n"
     ]
    },
    {
     "name": "stderr",
     "output_type": "stream",
     "text": [
      "100%|██████████| 328/328 [00:34<00:00,  9.39it/s]\n"
     ]
    },
    {
     "name": "stdout",
     "output_type": "stream",
     "text": [
      "{'val_loss': 2.928075893623073, 'val_accuracy': 0.524790236460717, 'precision': 0.36490839747839277, 'recall': 0.524790236460717, 'f1-score': 0.42614534655576575, 'macro_f1-score': 0.052053259257307895, 'balanced_accuracy': 0.07837136552813166, 'mcc': 0.3249764985643451, 'train_loss': 1.9542396817265488}\n",
      "Epoch 5/20\n"
     ]
    },
    {
     "name": "stderr",
     "output_type": "stream",
     "text": [
      "100%|██████████| 328/328 [00:34<00:00,  9.38it/s]\n"
     ]
    },
    {
     "name": "stdout",
     "output_type": "stream",
     "text": [
      "{'val_loss': 2.9835494698547738, 'val_accuracy': 0.5080091533180778, 'precision': 0.36585271854242374, 'recall': 0.5080091533180778, 'f1-score': 0.4170261674445126, 'macro_f1-score': 0.04894342944647817, 'balanced_accuracy': 0.07526777726199824, 'mcc': 0.3086569834117332, 'train_loss': 1.9385607460650003}\n",
      "Epoch 6/20\n"
     ]
    },
    {
     "name": "stderr",
     "output_type": "stream",
     "text": [
      "100%|██████████| 328/328 [00:35<00:00,  9.37it/s]\n"
     ]
    },
    {
     "name": "stdout",
     "output_type": "stream",
     "text": [
      "{'val_loss': 2.96796730378779, 'val_accuracy': 0.5347063310450039, 'precision': 0.3815235107904432, 'recall': 0.5347063310450039, 'f1-score': 0.4403090804719589, 'macro_f1-score': 0.05760530245417169, 'balanced_accuracy': 0.08117527726696737, 'mcc': 0.3373478137699381, 'train_loss': 1.851934373923918}\n",
      "Epoch 7/20\n"
     ]
    },
    {
     "name": "stderr",
     "output_type": "stream",
     "text": [
      "100%|██████████| 328/328 [00:35<00:00,  9.37it/s]\n"
     ]
    },
    {
     "name": "stdout",
     "output_type": "stream",
     "text": [
      "{'val_loss': 2.9280679124157603, 'val_accuracy': 0.540045766590389, 'precision': 0.390923657886191, 'recall': 0.540045766590389, 'f1-score': 0.45079156354525307, 'macro_f1-score': 0.05973148268927012, 'balanced_accuracy': 0.081288144985239, 'mcc': 0.349562620845085, 'train_loss': 1.8085385624591896}\n",
      "Epoch 8/20\n"
     ]
    },
    {
     "name": "stderr",
     "output_type": "stream",
     "text": [
      "100%|██████████| 328/328 [00:35<00:00,  9.35it/s]\n"
     ]
    },
    {
     "name": "stdout",
     "output_type": "stream",
     "text": [
      "{'val_loss': 2.8941244948201064, 'val_accuracy': 0.5545385202135774, 'precision': 0.389810022288805, 'recall': 0.5545385202135774, 'f1-score': 0.45465669823634874, 'macro_f1-score': 0.06521272830753229, 'balanced_accuracy': 0.08674173136720231, 'mcc': 0.3608080099569907, 'train_loss': 1.7729533585469897}\n",
      "Epoch 9/20\n"
     ]
    },
    {
     "name": "stderr",
     "output_type": "stream",
     "text": [
      "100%|██████████| 328/328 [00:35<00:00,  9.34it/s]\n"
     ]
    },
    {
     "name": "stdout",
     "output_type": "stream",
     "text": [
      "{'val_loss': 2.9985753385032097, 'val_accuracy': 0.5217391304347826, 'precision': 0.38000711533219866, 'recall': 0.5217391304347826, 'f1-score': 0.43075864086362087, 'macro_f1-score': 0.053410152236890183, 'balanced_accuracy': 0.0751912686374152, 'mcc': 0.3235709925863796, 'train_loss': 1.7208167130990726}\n",
      "Epoch 10/20\n"
     ]
    },
    {
     "name": "stderr",
     "output_type": "stream",
     "text": [
      "100%|██████████| 328/328 [00:34<00:00,  9.39it/s]\n"
     ]
    },
    {
     "name": "stdout",
     "output_type": "stream",
     "text": [
      "{'val_loss': 2.90822634100914, 'val_accuracy': 0.5354691075514875, 'precision': 0.4251269542687515, 'recall': 0.5354691075514875, 'f1-score': 0.4672698873273008, 'macro_f1-score': 0.07275220846975604, 'balanced_accuracy': 0.0953611081018318, 'mcc': 0.3593877299523794, 'train_loss': 1.6628199555888408}\n",
      "Epoch 11/20\n"
     ]
    },
    {
     "name": "stderr",
     "output_type": "stream",
     "text": [
      "100%|██████████| 328/328 [00:34<00:00,  9.39it/s]\n"
     ]
    },
    {
     "name": "stdout",
     "output_type": "stream",
     "text": [
      "{'val_loss': 2.9795508922600167, 'val_accuracy': 0.5278413424866514, 'precision': 0.43210519292426725, 'recall': 0.5278413424866514, 'f1-score': 0.46779130456036827, 'macro_f1-score': 0.0705886617409338, 'balanced_accuracy': 0.09324436975657252, 'mcc': 0.36209926392607705, 'train_loss': 1.6417281649461606}\n",
      "Epoch 12/20\n"
     ]
    },
    {
     "name": "stderr",
     "output_type": "stream",
     "text": [
      "100%|██████████| 328/328 [00:35<00:00,  9.35it/s]\n"
     ]
    },
    {
     "name": "stdout",
     "output_type": "stream",
     "text": [
      "{'val_loss': 2.9020275001118825, 'val_accuracy': 0.5377574370709383, 'precision': 0.4167589052856431, 'recall': 0.5377574370709383, 'f1-score': 0.4625074198355086, 'macro_f1-score': 0.07135594315613954, 'balanced_accuracy': 0.0958927583912101, 'mcc': 0.3601431180159899, 'train_loss': 1.6519758868508223}\n",
      "Epoch 13/20\n"
     ]
    },
    {
     "name": "stderr",
     "output_type": "stream",
     "text": [
      "100%|██████████| 328/328 [00:34<00:00,  9.39it/s]\n"
     ]
    },
    {
     "name": "stdout",
     "output_type": "stream",
     "text": [
      "{'val_loss': 2.8487683665461656, 'val_accuracy': 0.5392829900839055, 'precision': 0.4651456802905444, 'recall': 0.5392829900839055, 'f1-score': 0.4789377733626236, 'macro_f1-score': 0.07713067224809868, 'balanced_accuracy': 0.10405735250560626, 'mcc': 0.38078168768966464, 'train_loss': 1.6510668652268445}\n",
      "Epoch 14/20\n"
     ]
    },
    {
     "name": "stderr",
     "output_type": "stream",
     "text": [
      "100%|██████████| 328/328 [00:35<00:00,  9.36it/s]\n"
     ]
    },
    {
     "name": "stdout",
     "output_type": "stream",
     "text": [
      "{'val_loss': 2.9510537611275183, 'val_accuracy': 0.528604118993135, 'precision': 0.4446857158130784, 'recall': 0.528604118993135, 'f1-score': 0.47302193453898234, 'macro_f1-score': 0.07855307001150262, 'balanced_accuracy': 0.10461261566213902, 'mcc': 0.36865088842743976, 'train_loss': 1.561113772959244}\n",
      "Epoch 15/20\n"
     ]
    },
    {
     "name": "stderr",
     "output_type": "stream",
     "text": [
      "100%|██████████| 328/328 [00:35<00:00,  9.37it/s]\n"
     ]
    },
    {
     "name": "stdout",
     "output_type": "stream",
     "text": [
      "{'val_loss': 2.8205196334094538, 'val_accuracy': 0.5011441647597255, 'precision': 0.4601824080405902, 'recall': 0.5011441647597255, 'f1-score': 0.46495168497856276, 'macro_f1-score': 0.07375628912913708, 'balanced_accuracy': 0.1035071501438035, 'mcc': 0.35493666609266056, 'train_loss': 1.581982210641954}\n",
      "Epoch 16/20\n"
     ]
    },
    {
     "name": "stderr",
     "output_type": "stream",
     "text": [
      "100%|██████████| 328/328 [00:35<00:00,  9.36it/s]\n"
     ]
    },
    {
     "name": "stdout",
     "output_type": "stream",
     "text": [
      "{'val_loss': 2.911667005317967, 'val_accuracy': 0.5110602593440122, 'precision': 0.45256257930436206, 'recall': 0.5110602593440122, 'f1-score': 0.46414715020811986, 'macro_f1-score': 0.07714288415768673, 'balanced_accuracy': 0.10305156730663478, 'mcc': 0.3495980653882881, 'train_loss': 1.613198552371525}\n",
      "Epoch 17/20\n"
     ]
    },
    {
     "name": "stderr",
     "output_type": "stream",
     "text": [
      "100%|██████████| 328/328 [00:34<00:00,  9.38it/s]\n"
     ]
    },
    {
     "name": "stdout",
     "output_type": "stream",
     "text": [
      "{'val_loss': 2.888346874859275, 'val_accuracy': 0.5080091533180778, 'precision': 0.4376307730599679, 'recall': 0.5080091533180778, 'f1-score': 0.4590693664942556, 'macro_f1-score': 0.07155386181470745, 'balanced_accuracy': 0.10062833244481724, 'mcc': 0.35166146549461835, 'train_loss': 1.5352856520472504}\n",
      "Early stopping.\n",
      "\n",
      "[Fold 5]\n",
      "Label distribution after resampling:\n",
      "  label 0: 2472\n",
      "  label 1: 21\n",
      "  label 2: 64\n",
      "  label 3: 24\n",
      "  label 4: 191\n",
      "  label 5: 112\n",
      "  label 6: 92\n",
      "  label 7: 31\n",
      "  label 8: 68\n",
      "  label 9: 29\n",
      "  label 10: 68\n",
      "  label 11: 168\n",
      "  label 12: 190\n",
      "  label 13: 29\n",
      "  label 14: 22\n",
      "  label 15: 25\n",
      "  label 16: 19\n",
      "  label 17: 183\n",
      "  label 18: 92\n",
      "  label 19: 44\n",
      "  label 20: 14\n",
      "  label 21: 35\n",
      "  label 22: 76\n",
      "  label 23: 158\n",
      "  label 24: 13\n",
      "  label 25: 44\n",
      "  label 26: 84\n",
      "  label 27: 48\n",
      "  label 28: 11\n",
      "  label 29: 13\n",
      "  label 30: 11\n",
      "  label 31: 75\n",
      "  label 32: 36\n",
      "  label 33: 31\n",
      "  label 34: 30\n",
      "  label 35: 11\n",
      "  label 36: 22\n",
      "  label 37: 16\n",
      "  label 38: 33\n",
      "  label 39: 10\n",
      "  label 40: 9\n",
      "  label 41: 57\n",
      "  label 42: 18\n",
      "  label 43: 9\n",
      "  label 44: 54\n",
      "  label 45: 242\n",
      "  label 46: 61\n",
      "  label 47: 80\n",
      "model is microsoft/deberta-base lstm\n",
      "Using weighted CrossEntropyLoss with weights: tensor([0.7522, 5.5205, 4.4061, 5.3870, 3.3128, 3.8465, 4.0432, 5.1310, 4.3455,\n",
      "        5.1977, 4.3455, 3.4411, 3.3180, 5.1977, 5.4740, 5.3462, 5.6206, 3.3555,\n",
      "        4.0432, 4.7808, 5.9260, 5.0097, 4.2343, 3.5024, 6.0001, 4.7808, 4.1342,\n",
      "        4.6938, 6.1671, 6.0001, 6.1671, 4.2475, 4.9815, 5.1310, 5.1638, 6.1671,\n",
      "        5.4740, 5.7924, 5.0685, 6.2624, 6.3678, 4.5220, 5.6747, 6.3678, 4.5760,\n",
      "        3.0761, 4.4542, 4.1830], device='cuda:0')\n",
      "Epoch 1/20\n"
     ]
    },
    {
     "name": "stderr",
     "output_type": "stream",
     "text": [
      "100%|██████████| 328/328 [00:35<00:00,  9.36it/s]\n"
     ]
    },
    {
     "name": "stdout",
     "output_type": "stream",
     "text": [
      "{'val_loss': 3.361823821940073, 'val_accuracy': 0.5003813882532419, 'precision': 0.26923435345145014, 'recall': 0.5003813882532419, 'f1-score': 0.3485260414642399, 'macro_f1-score': 0.02238325722649905, 'balanced_accuracy': 0.03750956690077436, 'mcc': 0.21379884056144433, 'train_loss': 2.46763627958007}\n",
      "Epoch 2/20\n"
     ]
    },
    {
     "name": "stderr",
     "output_type": "stream",
     "text": [
      "100%|██████████| 328/328 [00:34<00:00,  9.38it/s]\n"
     ]
    },
    {
     "name": "stdout",
     "output_type": "stream",
     "text": [
      "{'val_loss': 3.1217201831864148, 'val_accuracy': 0.5080091533180778, 'precision': 0.3168165686445648, 'recall': 0.5080091533180778, 'f1-score': 0.38059208321313825, 'macro_f1-score': 0.031446389622958225, 'balanced_accuracy': 0.04706696931285383, 'mcc': 0.2573972087036115, 'train_loss': 2.2023910707453402}\n",
      "Epoch 3/20\n"
     ]
    },
    {
     "name": "stderr",
     "output_type": "stream",
     "text": [
      "100%|██████████| 328/328 [00:34<00:00,  9.39it/s]\n"
     ]
    },
    {
     "name": "stdout",
     "output_type": "stream",
     "text": [
      "{'val_loss': 3.1254979764542927, 'val_accuracy': 0.520976353928299, 'precision': 0.34709027451479063, 'recall': 0.520976353928299, 'f1-score': 0.4129784184163431, 'macro_f1-score': 0.04395236569095762, 'balanced_accuracy': 0.0667940903310754, 'mcc': 0.30893650799858585, 'train_loss': 2.0578867742201177}\n",
      "Epoch 4/20\n"
     ]
    },
    {
     "name": "stderr",
     "output_type": "stream",
     "text": [
      "100%|██████████| 328/328 [00:35<00:00,  9.35it/s]\n"
     ]
    },
    {
     "name": "stdout",
     "output_type": "stream",
     "text": [
      "{'val_loss': 3.003596286948134, 'val_accuracy': 0.543859649122807, 'precision': 0.3897257971367427, 'recall': 0.543859649122807, 'f1-score': 0.4467019970474589, 'macro_f1-score': 0.05617371878477182, 'balanced_accuracy': 0.08413487537355958, 'mcc': 0.361177013765042, 'train_loss': 1.9417663912584142}\n",
      "Epoch 5/20\n"
     ]
    },
    {
     "name": "stderr",
     "output_type": "stream",
     "text": [
      "100%|██████████| 328/328 [00:34<00:00,  9.38it/s]\n"
     ]
    },
    {
     "name": "stdout",
     "output_type": "stream",
     "text": [
      "{'val_loss': 2.9910919666290283, 'val_accuracy': 0.5408085430968727, 'precision': 0.4024312031251102, 'recall': 0.5408085430968727, 'f1-score': 0.45135673964397965, 'macro_f1-score': 0.061319989287027386, 'balanced_accuracy': 0.07701892119060426, 'mcc': 0.34652302383824557, 'train_loss': 1.8767471556983344}\n",
      "Epoch 6/20\n"
     ]
    },
    {
     "name": "stderr",
     "output_type": "stream",
     "text": [
      "100%|██████████| 328/328 [00:35<00:00,  9.36it/s]\n"
     ]
    },
    {
     "name": "stdout",
     "output_type": "stream",
     "text": [
      "{'val_loss': 3.0525929869675057, 'val_accuracy': 0.5377574370709383, 'precision': 0.35816374850636323, 'recall': 0.5377574370709383, 'f1-score': 0.42110984790745226, 'macro_f1-score': 0.05150262528679042, 'balanced_accuracy': 0.076230075397158, 'mcc': 0.3253603377427743, 'train_loss': 1.8752634685213974}\n",
      "Epoch 7/20\n"
     ]
    },
    {
     "name": "stderr",
     "output_type": "stream",
     "text": [
      "100%|██████████| 328/328 [00:34<00:00,  9.37it/s]\n"
     ]
    },
    {
     "name": "stdout",
     "output_type": "stream",
     "text": [
      "{'val_loss': 3.013386416725996, 'val_accuracy': 0.5202135774218154, 'precision': 0.40503854948840196, 'recall': 0.5202135774218154, 'f1-score': 0.4512208250489639, 'macro_f1-score': 0.05883560701203664, 'balanced_accuracy': 0.07748741608081815, 'mcc': 0.3371280529842403, 'train_loss': 1.9372907140996398}\n",
      "Epoch 8/20\n"
     ]
    },
    {
     "name": "stderr",
     "output_type": "stream",
     "text": [
      "100%|██████████| 328/328 [00:35<00:00,  9.36it/s]\n"
     ]
    },
    {
     "name": "stdout",
     "output_type": "stream",
     "text": [
      "{'val_loss': 3.0450867109182402, 'val_accuracy': 0.5408085430968727, 'precision': 0.39874356959618656, 'recall': 0.5408085430968727, 'f1-score': 0.45350510250666265, 'macro_f1-score': 0.058488883754628296, 'balanced_accuracy': 0.0822585558406636, 'mcc': 0.3593219742023343, 'train_loss': 1.8720775168479942}\n",
      "Early stopping.\n",
      "\n",
      " === microsoft/deberta-base + lstm + none Final 5-fold Cross-Validation Results ===\n",
      "val_loss: 2.9677\n",
      "val_accuracy: 0.5351\n",
      "precision: 0.4192\n",
      "recall: 0.5351\n",
      "f1-score: 0.4618\n",
      "macro_f1-score: 0.0705\n",
      "balanced_accuracy: 0.0895\n",
      "mcc: 0.3533\n",
      "train_loss: 1.7115\n",
      "total_seconds: 2478.0000\n",
      "total_time: 0 hrs 41 mins 18 secs\n",
      "▶ Running: microsoft/deberta-base + bilstm + none\n",
      "tokenizer is microsoft/deberta-base\n",
      "Using device: cuda\n",
      "CUDA Available: True\n",
      "CUDA Device: NVIDIA GeForce RTX 5070 Ti\n",
      "Current GPU Memory Allocated: 0.02 GB\n",
      "Current GPU Memory Cached: 5.27 GB\n",
      "\n",
      "[Fold 1]\n",
      "Label distribution after resampling:\n",
      "  label 0: 2471\n",
      "  label 1: 21\n",
      "  label 2: 64\n",
      "  label 3: 24\n",
      "  label 4: 191\n",
      "  label 5: 113\n",
      "  label 6: 93\n",
      "  label 7: 30\n",
      "  label 8: 68\n",
      "  label 9: 30\n",
      "  label 10: 67\n",
      "  label 11: 169\n",
      "  label 12: 189\n",
      "  label 13: 29\n",
      "  label 14: 22\n",
      "  label 15: 25\n",
      "  label 16: 19\n",
      "  label 17: 183\n",
      "  label 18: 92\n",
      "  label 19: 44\n",
      "  label 20: 13\n",
      "  label 21: 35\n",
      "  label 22: 76\n",
      "  label 23: 158\n",
      "  label 24: 13\n",
      "  label 25: 44\n",
      "  label 26: 84\n",
      "  label 27: 48\n",
      "  label 28: 11\n",
      "  label 29: 13\n",
      "  label 30: 11\n",
      "  label 31: 75\n",
      "  label 32: 36\n",
      "  label 33: 32\n",
      "  label 34: 29\n",
      "  label 35: 11\n",
      "  label 36: 22\n",
      "  label 37: 16\n",
      "  label 38: 33\n",
      "  label 39: 10\n",
      "  label 40: 9\n",
      "  label 41: 57\n",
      "  label 42: 19\n",
      "  label 43: 8\n",
      "  label 44: 54\n",
      "  label 45: 242\n",
      "  label 46: 61\n",
      "  label 47: 80\n",
      "model is microsoft/deberta-base bilstm\n",
      "Using weighted CrossEntropyLoss with weights: tensor([0.7525, 5.5203, 4.4060, 5.3868, 3.3126, 3.8375, 4.0322, 5.1636, 4.3453,\n",
      "        5.1636, 4.3601, 3.4349, 3.3231, 5.1975, 5.4738, 5.3460, 5.6204, 3.3554,\n",
      "        4.0431, 4.7807, 5.9999, 5.0095, 4.2341, 3.5022, 5.9999, 4.7807, 4.1340,\n",
      "        4.6936, 6.1669, 5.9999, 6.1669, 4.2474, 4.9813, 5.0991, 5.1975, 6.1669,\n",
      "        5.4738, 5.7923, 5.0683, 6.2623, 6.3676, 4.5218, 5.6204, 6.4854, 4.5759,\n",
      "        3.0759, 4.4540, 4.1828], device='cuda:0')\n",
      "Epoch 1/20\n"
     ]
    },
    {
     "name": "stderr",
     "output_type": "stream",
     "text": [
      "100%|██████████| 328/328 [00:36<00:00,  9.09it/s]\n"
     ]
    },
    {
     "name": "stdout",
     "output_type": "stream",
     "text": [
      "{'val_loss': 3.42589695133814, 'val_accuracy': 0.5053353658536586, 'precision': 0.29407124717480443, 'recall': 0.5053353658536586, 'f1-score': 0.3694389957088763, 'macro_f1-score': 0.031057696590676254, 'balanced_accuracy': 0.04223731322729463, 'mcc': 0.22900933525260464, 'train_loss': 2.422726746012525}\n",
      "Epoch 2/20\n"
     ]
    },
    {
     "name": "stderr",
     "output_type": "stream",
     "text": [
      "100%|██████████| 328/328 [00:36<00:00,  9.07it/s]\n"
     ]
    },
    {
     "name": "stdout",
     "output_type": "stream",
     "text": [
      "{'val_loss': 3.188321526457624, 'val_accuracy': 0.53125, 'precision': 0.3243547333636726, 'recall': 0.53125, 'f1-score': 0.3996850888784145, 'macro_f1-score': 0.04549619827413104, 'balanced_accuracy': 0.05937783912682565, 'mcc': 0.2869556876574855, 'train_loss': 2.1431507800773875}\n",
      "Epoch 3/20\n"
     ]
    },
    {
     "name": "stderr",
     "output_type": "stream",
     "text": [
      "100%|██████████| 328/328 [00:36<00:00,  9.07it/s]\n"
     ]
    },
    {
     "name": "stdout",
     "output_type": "stream",
     "text": [
      "{'val_loss': 3.034953470637159, 'val_accuracy': 0.5434451219512195, 'precision': 0.3738914925636308, 'recall': 0.5434451219512195, 'f1-score': 0.4403246405389353, 'macro_f1-score': 0.056717741696793784, 'balanced_accuracy': 0.07189039703305868, 'mcc': 0.33692835780021596, 'train_loss': 1.9736924767494202}\n",
      "Epoch 4/20\n"
     ]
    },
    {
     "name": "stderr",
     "output_type": "stream",
     "text": [
      "100%|██████████| 328/328 [00:36<00:00,  9.10it/s]\n"
     ]
    },
    {
     "name": "stdout",
     "output_type": "stream",
     "text": [
      "{'val_loss': 3.1594027222656624, 'val_accuracy': 0.5, 'precision': 0.38399506555091445, 'recall': 0.5, 'f1-score': 0.43037583933829965, 'macro_f1-score': 0.05397158280835135, 'balanced_accuracy': 0.06267943708474462, 'mcc': 0.2938711892129061, 'train_loss': 1.843853821114796}\n",
      "Epoch 5/20\n"
     ]
    },
    {
     "name": "stderr",
     "output_type": "stream",
     "text": [
      "100%|██████████| 328/328 [00:36<00:00,  9.05it/s]\n"
     ]
    },
    {
     "name": "stdout",
     "output_type": "stream",
     "text": [
      "{'val_loss': 2.915434231118458, 'val_accuracy': 0.5579268292682927, 'precision': 0.403171121758168, 'recall': 0.5579268292682927, 'f1-score': 0.4577191054616102, 'macro_f1-score': 0.06992500347176232, 'balanced_accuracy': 0.09177282730453666, 'mcc': 0.36473089215328497, 'train_loss': 1.7778056903583248}\n",
      "Epoch 6/20\n"
     ]
    },
    {
     "name": "stderr",
     "output_type": "stream",
     "text": [
      "100%|██████████| 328/328 [00:36<00:00,  9.06it/s]\n"
     ]
    },
    {
     "name": "stdout",
     "output_type": "stream",
     "text": [
      "{'val_loss': 2.9995190166845553, 'val_accuracy': 0.5426829268292683, 'precision': 0.4214783667266931, 'recall': 0.5426829268292683, 'f1-score': 0.4653698848773977, 'macro_f1-score': 0.07174822196819138, 'balanced_accuracy': 0.09039520266110762, 'mcc': 0.3572290454976218, 'train_loss': 1.6999640348480969}\n",
      "Epoch 7/20\n"
     ]
    },
    {
     "name": "stderr",
     "output_type": "stream",
     "text": [
      "100%|██████████| 328/328 [00:36<00:00,  9.07it/s]\n"
     ]
    },
    {
     "name": "stdout",
     "output_type": "stream",
     "text": [
      "{'val_loss': 2.9867851239878958, 'val_accuracy': 0.5388719512195121, 'precision': 0.4061927396528891, 'recall': 0.5388719512195121, 'f1-score': 0.45265499121757335, 'macro_f1-score': 0.0664332103285278, 'balanced_accuracy': 0.09000865758637915, 'mcc': 0.35188314893046607, 'train_loss': 1.6496483091174103}\n",
      "Epoch 8/20\n"
     ]
    },
    {
     "name": "stderr",
     "output_type": "stream",
     "text": [
      "100%|██████████| 328/328 [00:36<00:00,  9.09it/s]\n"
     ]
    },
    {
     "name": "stdout",
     "output_type": "stream",
     "text": [
      "{'val_loss': 2.9256476847136894, 'val_accuracy': 0.5297256097560976, 'precision': 0.4379251837657408, 'recall': 0.5297256097560976, 'f1-score': 0.46531052109751, 'macro_f1-score': 0.06901056366596088, 'balanced_accuracy': 0.10157286511401871, 'mcc': 0.37324336029047467, 'train_loss': 1.5994895167830514}\n",
      "Epoch 9/20\n"
     ]
    },
    {
     "name": "stderr",
     "output_type": "stream",
     "text": [
      "100%|██████████| 328/328 [00:36<00:00,  9.05it/s]\n"
     ]
    },
    {
     "name": "stdout",
     "output_type": "stream",
     "text": [
      "{'val_loss': 2.888022887997511, 'val_accuracy': 0.5282012195121951, 'precision': 0.4479244293808248, 'recall': 0.5282012195121951, 'f1-score': 0.47372914174024544, 'macro_f1-score': 0.07388804095793212, 'balanced_accuracy': 0.10020116238639114, 'mcc': 0.3674957394462353, 'train_loss': 1.5169366737146204}\n",
      "Epoch 10/20\n"
     ]
    },
    {
     "name": "stderr",
     "output_type": "stream",
     "text": [
      "100%|██████████| 328/328 [00:36<00:00,  9.06it/s]\n"
     ]
    },
    {
     "name": "stdout",
     "output_type": "stream",
     "text": [
      "{'val_loss': 2.7492977366214846, 'val_accuracy': 0.5213414634146342, 'precision': 0.45945970369137984, 'recall': 0.5213414634146342, 'f1-score': 0.47216615141485396, 'macro_f1-score': 0.07892300229619767, 'balanced_accuracy': 0.10763483951387902, 'mcc': 0.367598763303765, 'train_loss': 1.4921930753966657}\n",
      "Epoch 11/20\n"
     ]
    },
    {
     "name": "stderr",
     "output_type": "stream",
     "text": [
      "100%|██████████| 328/328 [00:36<00:00,  9.08it/s]\n"
     ]
    },
    {
     "name": "stdout",
     "output_type": "stream",
     "text": [
      "{'val_loss': 3.2536990744311636, 'val_accuracy': 0.5411585365853658, 'precision': 0.4186494007861947, 'recall': 0.5411585365853658, 'f1-score': 0.4661223610164782, 'macro_f1-score': 0.07243099966778334, 'balanced_accuracy': 0.08650223651126764, 'mcc': 0.3545704466941991, 'train_loss': 1.4550940086383646}\n",
      "Epoch 12/20\n"
     ]
    },
    {
     "name": "stderr",
     "output_type": "stream",
     "text": [
      "100%|██████████| 328/328 [00:36<00:00,  9.07it/s]\n"
     ]
    },
    {
     "name": "stdout",
     "output_type": "stream",
     "text": [
      "{'val_loss': 2.732852345559655, 'val_accuracy': 0.5259146341463414, 'precision': 0.45962760386604457, 'recall': 0.5259146341463414, 'f1-score': 0.4761933996060328, 'macro_f1-score': 0.08559287400400555, 'balanced_accuracy': 0.11255479549521401, 'mcc': 0.37204154887556307, 'train_loss': 1.417124422948535}\n",
      "Epoch 13/20\n"
     ]
    },
    {
     "name": "stderr",
     "output_type": "stream",
     "text": [
      "100%|██████████| 328/328 [00:36<00:00,  9.10it/s]\n"
     ]
    },
    {
     "name": "stdout",
     "output_type": "stream",
     "text": [
      "{'val_loss': 3.003089683811839, 'val_accuracy': 0.5533536585365854, 'precision': 0.44312489728795174, 'recall': 0.5533536585365854, 'f1-score': 0.48620820455378744, 'macro_f1-score': 0.08536745672468445, 'balanced_accuracy': 0.1043113714201536, 'mcc': 0.38186520747614744, 'train_loss': 1.3872363547362931}\n",
      "Epoch 14/20\n"
     ]
    },
    {
     "name": "stderr",
     "output_type": "stream",
     "text": [
      "100%|██████████| 328/328 [00:36<00:00,  9.06it/s]\n"
     ]
    },
    {
     "name": "stdout",
     "output_type": "stream",
     "text": [
      "{'val_loss': 2.8663806086633263, 'val_accuracy': 0.5320121951219512, 'precision': 0.46841066999891706, 'recall': 0.5320121951219512, 'f1-score': 0.4912271324081781, 'macro_f1-score': 0.09687979198950407, 'balanced_accuracy': 0.11523237617675246, 'mcc': 0.3767881058681244, 'train_loss': 1.3910554821898298}\n",
      "Epoch 15/20\n"
     ]
    },
    {
     "name": "stderr",
     "output_type": "stream",
     "text": [
      "100%|██████████| 328/328 [00:36<00:00,  9.06it/s]\n"
     ]
    },
    {
     "name": "stdout",
     "output_type": "stream",
     "text": [
      "{'val_loss': 2.9947318158498626, 'val_accuracy': 0.5510670731707317, 'precision': 0.43806725774001376, 'recall': 0.5510670731707317, 'f1-score': 0.4838352197307022, 'macro_f1-score': 0.08660680470609167, 'balanced_accuracy': 0.10829078579055851, 'mcc': 0.3809081830138087, 'train_loss': 1.2822904907530401}\n",
      "Epoch 16/20\n"
     ]
    },
    {
     "name": "stderr",
     "output_type": "stream",
     "text": [
      "100%|██████████| 328/328 [00:36<00:00,  9.08it/s]\n"
     ]
    },
    {
     "name": "stdout",
     "output_type": "stream",
     "text": [
      "{'val_loss': 2.858189598816197, 'val_accuracy': 0.520579268292683, 'precision': 0.48342399862024515, 'recall': 0.520579268292683, 'f1-score': 0.4930897308273777, 'macro_f1-score': 0.09785617899119858, 'balanced_accuracy': 0.11802144954212436, 'mcc': 0.37433873284441543, 'train_loss': 1.2305706206981728}\n",
      "Epoch 17/20\n"
     ]
    },
    {
     "name": "stderr",
     "output_type": "stream",
     "text": [
      "100%|██████████| 328/328 [00:36<00:00,  9.06it/s]\n"
     ]
    },
    {
     "name": "stdout",
     "output_type": "stream",
     "text": [
      "{'val_loss': 3.1189988386340257, 'val_accuracy': 0.5403963414634146, 'precision': 0.4215090219790359, 'recall': 0.5403963414634146, 'f1-score': 0.4613731222732157, 'macro_f1-score': 0.07753956040701723, 'balanced_accuracy': 0.0925543169072968, 'mcc': 0.34771488199264433, 'train_loss': 1.3507785002087676}\n",
      "Epoch 18/20\n"
     ]
    },
    {
     "name": "stderr",
     "output_type": "stream",
     "text": [
      "100%|██████████| 328/328 [00:36<00:00,  9.07it/s]\n"
     ]
    },
    {
     "name": "stdout",
     "output_type": "stream",
     "text": [
      "{'val_loss': 3.065974479768334, 'val_accuracy': 0.5449695121951219, 'precision': 0.44542542322493506, 'recall': 0.5449695121951219, 'f1-score': 0.48600515310469683, 'macro_f1-score': 0.08855139467074209, 'balanced_accuracy': 0.10579856190155845, 'mcc': 0.3718348998050865, 'train_loss': 1.3771651397209341}\n",
      "Epoch 19/20\n"
     ]
    },
    {
     "name": "stderr",
     "output_type": "stream",
     "text": [
      "100%|██████████| 328/328 [00:36<00:00,  9.08it/s]\n"
     ]
    },
    {
     "name": "stdout",
     "output_type": "stream",
     "text": [
      "{'val_loss': 3.074965130992052, 'val_accuracy': 0.5541158536585366, 'precision': 0.4750939534586438, 'recall': 0.5541158536585366, 'f1-score': 0.50592356918851, 'macro_f1-score': 0.11351663020593701, 'balanced_accuracy': 0.1227451102252068, 'mcc': 0.38679560442530797, 'train_loss': 1.2260354462920167}\n",
      "Epoch 20/20\n"
     ]
    },
    {
     "name": "stderr",
     "output_type": "stream",
     "text": [
      "100%|██████████| 328/328 [00:36<00:00,  9.07it/s]\n"
     ]
    },
    {
     "name": "stdout",
     "output_type": "stream",
     "text": [
      "{'val_loss': 2.875781536102295, 'val_accuracy': 0.5586890243902439, 'precision': 0.505745153527846, 'recall': 0.5586890243902439, 'f1-score': 0.5177219774440148, 'macro_f1-score': 0.11762039805285078, 'balanced_accuracy': 0.12757406113876432, 'mcc': 0.40278943253694127, 'train_loss': 1.1632767500037826}\n",
      "\n",
      "[Fold 2]\n",
      "Label distribution after resampling:\n",
      "  label 0: 2471\n",
      "  label 1: 22\n",
      "  label 2: 64\n",
      "  label 3: 24\n",
      "  label 4: 190\n",
      "  label 5: 113\n",
      "  label 6: 93\n",
      "  label 7: 30\n",
      "  label 8: 68\n",
      "  label 9: 30\n",
      "  label 10: 67\n",
      "  label 11: 169\n",
      "  label 12: 189\n",
      "  label 13: 29\n",
      "  label 14: 23\n",
      "  label 15: 24\n",
      "  label 16: 20\n",
      "  label 17: 182\n",
      "  label 18: 92\n",
      "  label 19: 44\n",
      "  label 20: 13\n",
      "  label 21: 36\n",
      "  label 22: 76\n",
      "  label 23: 157\n",
      "  label 24: 12\n",
      "  label 25: 44\n",
      "  label 26: 84\n",
      "  label 27: 48\n",
      "  label 28: 12\n",
      "  label 29: 12\n",
      "  label 30: 12\n",
      "  label 31: 75\n",
      "  label 32: 36\n",
      "  label 33: 31\n",
      "  label 34: 29\n",
      "  label 35: 12\n",
      "  label 36: 21\n",
      "  label 37: 16\n",
      "  label 38: 33\n",
      "  label 39: 11\n",
      "  label 40: 8\n",
      "  label 41: 57\n",
      "  label 42: 19\n",
      "  label 43: 9\n",
      "  label 44: 54\n",
      "  label 45: 242\n",
      "  label 46: 62\n",
      "  label 47: 80\n",
      "model is microsoft/deberta-base bilstm\n",
      "Using weighted CrossEntropyLoss with weights: tensor([0.7527, 5.4740, 4.4061, 5.3870, 3.3180, 3.8376, 4.0324, 5.1638, 4.3455,\n",
      "        5.1638, 4.3603, 3.4351, 3.3233, 5.1977, 5.4295, 5.3870, 5.5693, 3.3610,\n",
      "        4.0432, 4.7808, 6.0001, 4.9815, 4.2343, 3.5088, 6.0801, 4.7808, 4.1342,\n",
      "        4.6938, 6.0801, 6.0801, 6.0801, 4.2475, 4.9815, 5.1310, 5.1977, 6.0801,\n",
      "        5.5205, 5.7924, 5.0685, 6.1671, 6.4856, 4.5220, 5.6206, 6.3678, 4.5760,\n",
      "        3.0761, 4.4379, 4.1830], device='cuda:0')\n",
      "Epoch 1/20\n"
     ]
    },
    {
     "name": "stderr",
     "output_type": "stream",
     "text": [
      "100%|██████████| 328/328 [00:36<00:00,  9.07it/s]\n"
     ]
    },
    {
     "name": "stdout",
     "output_type": "stream",
     "text": [
      "{'val_loss': 3.4146568251819147, 'val_accuracy': 0.5064836003051106, 'precision': 0.2662915624617692, 'recall': 0.5064836003051106, 'f1-score': 0.34843483148769033, 'macro_f1-score': 0.023665648429816142, 'balanced_accuracy': 0.03774608953613808, 'mcc': 0.21544657453160448, 'train_loss': 2.4747476428747177}\n",
      "Epoch 2/20\n"
     ]
    },
    {
     "name": "stderr",
     "output_type": "stream",
     "text": [
      "100%|██████████| 328/328 [00:36<00:00,  9.10it/s]\n"
     ]
    },
    {
     "name": "stdout",
     "output_type": "stream",
     "text": [
      "{'val_loss': 3.246388702857785, 'val_accuracy': 0.517162471395881, 'precision': 0.2993570748883716, 'recall': 0.517162471395881, 'f1-score': 0.369469017638792, 'macro_f1-score': 0.031992491771254884, 'balanced_accuracy': 0.044049184196332254, 'mcc': 0.24379384687902597, 'train_loss': 2.209410567109178}\n",
      "Epoch 3/20\n"
     ]
    },
    {
     "name": "stderr",
     "output_type": "stream",
     "text": [
      "100%|██████████| 328/328 [00:36<00:00,  9.07it/s]\n"
     ]
    },
    {
     "name": "stdout",
     "output_type": "stream",
     "text": [
      "{'val_loss': 3.1264475235124913, 'val_accuracy': 0.5415713196033562, 'precision': 0.3541720700645964, 'recall': 0.5415713196033562, 'f1-score': 0.4254751091322342, 'macro_f1-score': 0.05135937084311846, 'balanced_accuracy': 0.067364853858034, 'mcc': 0.3221092907834557, 'train_loss': 2.079565002060518}\n",
      "Epoch 4/20\n"
     ]
    },
    {
     "name": "stderr",
     "output_type": "stream",
     "text": [
      "100%|██████████| 328/328 [00:36<00:00,  9.07it/s]\n"
     ]
    },
    {
     "name": "stdout",
     "output_type": "stream",
     "text": [
      "{'val_loss': 3.085497723846901, 'val_accuracy': 0.5461479786422578, 'precision': 0.35656385468693785, 'recall': 0.5461479786422578, 'f1-score': 0.43074272668372027, 'macro_f1-score': 0.057072872723515154, 'balanced_accuracy': 0.07299584015926619, 'mcc': 0.32864652243494635, 'train_loss': 1.9719018000291615}\n",
      "Epoch 5/20\n"
     ]
    },
    {
     "name": "stderr",
     "output_type": "stream",
     "text": [
      "100%|██████████| 328/328 [00:36<00:00,  9.07it/s]\n"
     ]
    },
    {
     "name": "stdout",
     "output_type": "stream",
     "text": [
      "{'val_loss': 3.0505388568087324, 'val_accuracy': 0.5430968726163234, 'precision': 0.3656667500179702, 'recall': 0.5430968726163234, 'f1-score': 0.43296751994646754, 'macro_f1-score': 0.05352575887193051, 'balanced_accuracy': 0.07436624040181712, 'mcc': 0.33810323848637586, 'train_loss': 1.9115536772623294}\n",
      "Epoch 6/20\n"
     ]
    },
    {
     "name": "stderr",
     "output_type": "stream",
     "text": [
      "100%|██████████| 328/328 [00:36<00:00,  9.08it/s]\n"
     ]
    },
    {
     "name": "stdout",
     "output_type": "stream",
     "text": [
      "{'val_loss': 3.06697599626169, 'val_accuracy': 0.5530129672006102, 'precision': 0.39184811380345774, 'recall': 0.5530129672006102, 'f1-score': 0.4545260933711924, 'macro_f1-score': 0.06169337628269845, 'balanced_accuracy': 0.08730671198583556, 'mcc': 0.3666532649751583, 'train_loss': 1.8274490239053238}\n",
      "Epoch 7/20\n"
     ]
    },
    {
     "name": "stderr",
     "output_type": "stream",
     "text": [
      "100%|██████████| 328/328 [00:36<00:00,  9.06it/s]\n"
     ]
    },
    {
     "name": "stdout",
     "output_type": "stream",
     "text": [
      "{'val_loss': 3.031032680011377, 'val_accuracy': 0.5354691075514875, 'precision': 0.40109981206437473, 'recall': 0.5354691075514875, 'f1-score': 0.45263814421507664, 'macro_f1-score': 0.0581981944906424, 'balanced_accuracy': 0.08507612904279482, 'mcc': 0.3565852435108358, 'train_loss': 1.757047024260207}\n",
      "Epoch 8/20\n"
     ]
    },
    {
     "name": "stderr",
     "output_type": "stream",
     "text": [
      "100%|██████████| 328/328 [00:36<00:00,  9.09it/s]\n"
     ]
    },
    {
     "name": "stdout",
     "output_type": "stream",
     "text": [
      "{'val_loss': 2.924134133792505, 'val_accuracy': 0.5575896262395118, 'precision': 0.40068958319485004, 'recall': 0.5575896262395118, 'f1-score': 0.4592702628949917, 'macro_f1-score': 0.06658029602974773, 'balanced_accuracy': 0.08673556605034466, 'mcc': 0.36972293137088974, 'train_loss': 1.652343162676183}\n",
      "Epoch 9/20\n"
     ]
    },
    {
     "name": "stderr",
     "output_type": "stream",
     "text": [
      "100%|██████████| 328/328 [00:36<00:00,  9.07it/s]\n"
     ]
    },
    {
     "name": "stdout",
     "output_type": "stream",
     "text": [
      "{'val_loss': 2.9999813917206555, 'val_accuracy': 0.5537757437070938, 'precision': 0.4169946844874146, 'recall': 0.5537757437070938, 'f1-score': 0.4668044239697518, 'macro_f1-score': 0.07027502064714457, 'balanced_accuracy': 0.09613187091744417, 'mcc': 0.3774339337702226, 'train_loss': 1.6293632311791908}\n",
      "Epoch 10/20\n"
     ]
    },
    {
     "name": "stderr",
     "output_type": "stream",
     "text": [
      "100%|██████████| 328/328 [00:36<00:00,  9.06it/s]\n"
     ]
    },
    {
     "name": "stdout",
     "output_type": "stream",
     "text": [
      "{'val_loss': 2.9984080180889223, 'val_accuracy': 0.551487414187643, 'precision': 0.4193860300879647, 'recall': 0.551487414187643, 'f1-score': 0.4722392235883845, 'macro_f1-score': 0.07474585543630158, 'balanced_accuracy': 0.09468222665279706, 'mcc': 0.36979969369831633, 'train_loss': 1.5634621984166344}\n",
      "Epoch 11/20\n"
     ]
    },
    {
     "name": "stderr",
     "output_type": "stream",
     "text": [
      "100%|██████████| 328/328 [00:36<00:00,  9.09it/s]\n"
     ]
    },
    {
     "name": "stdout",
     "output_type": "stream",
     "text": [
      "{'val_loss': 3.0359769303624224, 'val_accuracy': 0.5240274599542334, 'precision': 0.4387326143981949, 'recall': 0.5240274599542334, 'f1-score': 0.460708675972959, 'macro_f1-score': 0.07630606321036117, 'balanced_accuracy': 0.09088174141867615, 'mcc': 0.3329467862726325, 'train_loss': 1.5655197655645812}\n",
      "Epoch 12/20\n"
     ]
    },
    {
     "name": "stderr",
     "output_type": "stream",
     "text": [
      "100%|██████████| 328/328 [00:36<00:00,  9.06it/s]\n"
     ]
    },
    {
     "name": "stdout",
     "output_type": "stream",
     "text": [
      "{'val_loss': 2.824110765282701, 'val_accuracy': 0.5080091533180778, 'precision': 0.468553613698416, 'recall': 0.5080091533180778, 'f1-score': 0.4760489280357898, 'macro_f1-score': 0.07322282953443436, 'balanced_accuracy': 0.09592312723597951, 'mcc': 0.35713983169603647, 'train_loss': 1.5015419146454916}\n",
      "Epoch 13/20\n"
     ]
    },
    {
     "name": "stderr",
     "output_type": "stream",
     "text": [
      "100%|██████████| 328/328 [00:36<00:00,  9.05it/s]\n"
     ]
    },
    {
     "name": "stdout",
     "output_type": "stream",
     "text": [
      "{'val_loss': 2.8557242285914537, 'val_accuracy': 0.5194508009153318, 'precision': 0.45108604558397086, 'recall': 0.5194508009153318, 'f1-score': 0.47200483636845886, 'macro_f1-score': 0.07747258597966128, 'balanced_accuracy': 0.09662812472118809, 'mcc': 0.35818424003953087, 'train_loss': 1.51719342190318}\n",
      "Epoch 14/20\n"
     ]
    },
    {
     "name": "stderr",
     "output_type": "stream",
     "text": [
      "100%|██████████| 328/328 [00:36<00:00,  9.07it/s]\n"
     ]
    },
    {
     "name": "stdout",
     "output_type": "stream",
     "text": [
      "{'val_loss': 3.1060056962618012, 'val_accuracy': 0.540045766590389, 'precision': 0.40413105699483404, 'recall': 0.540045766590389, 'f1-score': 0.4609607134142034, 'macro_f1-score': 0.06938484380799471, 'balanced_accuracy': 0.08258383896370304, 'mcc': 0.3458645560193715, 'train_loss': 1.5429865801479759}\n",
      "Epoch 15/20\n"
     ]
    },
    {
     "name": "stderr",
     "output_type": "stream",
     "text": [
      "100%|██████████| 328/328 [00:36<00:00,  9.08it/s]\n"
     ]
    },
    {
     "name": "stdout",
     "output_type": "stream",
     "text": [
      "{'val_loss': 3.4399043408835808, 'val_accuracy': 0.47215865751334857, 'precision': 0.4090786827238148, 'recall': 0.47215865751334857, 'f1-score': 0.4290124144440952, 'macro_f1-score': 0.04682184617172234, 'balanced_accuracy': 0.06975677274920099, 'mcc': 0.30977723262475526, 'train_loss': 1.7947657449034655}\n",
      "Epoch 16/20\n"
     ]
    },
    {
     "name": "stderr",
     "output_type": "stream",
     "text": [
      "100%|██████████| 328/328 [00:36<00:00,  9.07it/s]\n"
     ]
    },
    {
     "name": "stdout",
     "output_type": "stream",
     "text": [
      "{'val_loss': 3.37578032074905, 'val_accuracy': 0.5141113653699466, 'precision': 0.33498275427891056, 'recall': 0.5141113653699466, 'f1-score': 0.40307577590911653, 'macro_f1-score': 0.0405604815294619, 'balanced_accuracy': 0.056863006844799495, 'mcc': 0.2844317245998144, 'train_loss': 1.8006286333973816}\n",
      "Early stopping.\n",
      "\n",
      "[Fold 3]\n",
      "Label distribution after resampling:\n",
      "  label 0: 2471\n",
      "  label 1: 22\n",
      "  label 2: 64\n",
      "  label 3: 24\n",
      "  label 4: 190\n",
      "  label 5: 113\n",
      "  label 6: 93\n",
      "  label 7: 30\n",
      "  label 8: 68\n",
      "  label 9: 30\n",
      "  label 10: 67\n",
      "  label 11: 169\n",
      "  label 12: 190\n",
      "  label 13: 28\n",
      "  label 14: 23\n",
      "  label 15: 25\n",
      "  label 16: 19\n",
      "  label 17: 182\n",
      "  label 18: 92\n",
      "  label 19: 44\n",
      "  label 20: 14\n",
      "  label 21: 35\n",
      "  label 22: 76\n",
      "  label 23: 157\n",
      "  label 24: 13\n",
      "  label 25: 44\n",
      "  label 26: 84\n",
      "  label 27: 48\n",
      "  label 28: 11\n",
      "  label 29: 13\n",
      "  label 30: 11\n",
      "  label 31: 76\n",
      "  label 32: 36\n",
      "  label 33: 31\n",
      "  label 34: 30\n",
      "  label 35: 11\n",
      "  label 36: 21\n",
      "  label 37: 16\n",
      "  label 38: 32\n",
      "  label 39: 11\n",
      "  label 40: 9\n",
      "  label 41: 57\n",
      "  label 42: 18\n",
      "  label 43: 9\n",
      "  label 44: 55\n",
      "  label 45: 241\n",
      "  label 46: 62\n",
      "  label 47: 80\n",
      "model is microsoft/deberta-base bilstm\n",
      "Using weighted CrossEntropyLoss with weights: tensor([0.7527, 5.4740, 4.4061, 5.3870, 3.3180, 3.8376, 4.0324, 5.1638, 4.3455,\n",
      "        5.1638, 4.3603, 3.4351, 3.3180, 5.2328, 5.4295, 5.3462, 5.6206, 3.3610,\n",
      "        4.0432, 4.7808, 5.9260, 5.0097, 4.2343, 3.5088, 6.0001, 4.7808, 4.1342,\n",
      "        4.6938, 6.1671, 6.0001, 6.1671, 4.2343, 4.9815, 5.1310, 5.1638, 6.1671,\n",
      "        5.5205, 5.7924, 5.0993, 6.1671, 6.3678, 4.5220, 5.6747, 6.3678, 4.5577,\n",
      "        3.0802, 4.4379, 4.1830], device='cuda:0')\n",
      "Epoch 1/20\n"
     ]
    },
    {
     "name": "stderr",
     "output_type": "stream",
     "text": [
      "100%|██████████| 328/328 [00:36<00:00,  9.07it/s]\n"
     ]
    },
    {
     "name": "stdout",
     "output_type": "stream",
     "text": [
      "{'val_loss': 3.435700675336326, 'val_accuracy': 0.5163996948893974, 'precision': 0.28056198323493875, 'recall': 0.5163996948893974, 'f1-score': 0.3609949488488937, 'macro_f1-score': 0.03277592174331304, 'balanced_accuracy': 0.042954864979574514, 'mcc': 0.2338053566234616, 'train_loss': 2.4366684859482253}\n",
      "Epoch 2/20\n"
     ]
    },
    {
     "name": "stderr",
     "output_type": "stream",
     "text": [
      "100%|██████████| 328/328 [00:36<00:00,  9.06it/s]\n"
     ]
    },
    {
     "name": "stdout",
     "output_type": "stream",
     "text": [
      "{'val_loss': 3.325645724447762, 'val_accuracy': 0.501906941266209, 'precision': 0.34067710107302407, 'recall': 0.501906941266209, 'f1-score': 0.39841065427042166, 'macro_f1-score': 0.03661726562072384, 'balanced_accuracy': 0.05817087798727171, 'mcc': 0.2869375497995383, 'train_loss': 2.137741661653286}\n",
      "Epoch 3/20\n"
     ]
    },
    {
     "name": "stderr",
     "output_type": "stream",
     "text": [
      "100%|██████████| 328/328 [00:36<00:00,  9.06it/s]\n"
     ]
    },
    {
     "name": "stdout",
     "output_type": "stream",
     "text": [
      "{'val_loss': 3.2184828694273784, 'val_accuracy': 0.4958047292143402, 'precision': 0.35448542284358286, 'recall': 0.4958047292143402, 'f1-score': 0.40495665475316617, 'macro_f1-score': 0.03784179320970802, 'balanced_accuracy': 0.05896050411541113, 'mcc': 0.2876305055680184, 'train_loss': 1.9867531580895912}\n",
      "Epoch 4/20\n"
     ]
    },
    {
     "name": "stderr",
     "output_type": "stream",
     "text": [
      "100%|██████████| 328/328 [00:36<00:00,  9.09it/s]\n"
     ]
    },
    {
     "name": "stdout",
     "output_type": "stream",
     "text": [
      "{'val_loss': 3.0641273543602083, 'val_accuracy': 0.555301296720061, 'precision': 0.38816426704337076, 'recall': 0.555301296720061, 'f1-score': 0.45470495652307624, 'macro_f1-score': 0.06844868250671232, 'balanced_accuracy': 0.09056455346562287, 'mcc': 0.35780421004276364, 'train_loss': 1.8710666749535538}\n",
      "Epoch 5/20\n"
     ]
    },
    {
     "name": "stderr",
     "output_type": "stream",
     "text": [
      "100%|██████████| 328/328 [00:36<00:00,  9.07it/s]\n"
     ]
    },
    {
     "name": "stdout",
     "output_type": "stream",
     "text": [
      "{'val_loss': 2.9564367038447683, 'val_accuracy': 0.5392829900839055, 'precision': 0.40458984472348913, 'recall': 0.5392829900839055, 'f1-score': 0.4526922129331692, 'macro_f1-score': 0.06250752042079753, 'balanced_accuracy': 0.08832009557777158, 'mcc': 0.35403997981256724, 'train_loss': 1.7802339847676638}\n",
      "Epoch 6/20\n"
     ]
    },
    {
     "name": "stderr",
     "output_type": "stream",
     "text": [
      "100%|██████████| 328/328 [00:36<00:00,  9.07it/s]\n"
     ]
    },
    {
     "name": "stdout",
     "output_type": "stream",
     "text": [
      "{'val_loss': 2.9786107947186724, 'val_accuracy': 0.5186880244088482, 'precision': 0.4208681678926932, 'recall': 0.5186880244088482, 'f1-score': 0.4283254990933558, 'macro_f1-score': 0.05268665029959316, 'balanced_accuracy': 0.07862985660285299, 'mcc': 0.3253248019237033, 'train_loss': 1.650591472118366}\n",
      "Epoch 7/20\n"
     ]
    },
    {
     "name": "stderr",
     "output_type": "stream",
     "text": [
      "100%|██████████| 328/328 [00:36<00:00,  9.06it/s]\n"
     ]
    },
    {
     "name": "stdout",
     "output_type": "stream",
     "text": [
      "{'val_loss': 2.999253470723222, 'val_accuracy': 0.5034324942791762, 'precision': 0.39181804061977255, 'recall': 0.5034324942791762, 'f1-score': 0.42385979480960084, 'macro_f1-score': 0.04871606908904908, 'balanced_accuracy': 0.0735777502372309, 'mcc': 0.3106260617372965, 'train_loss': 1.7163557436589787}\n",
      "Early stopping.\n",
      "\n",
      "[Fold 4]\n",
      "Label distribution after resampling:\n",
      "  label 0: 2471\n",
      "  label 1: 22\n",
      "  label 2: 64\n",
      "  label 3: 24\n",
      "  label 4: 190\n",
      "  label 5: 113\n",
      "  label 6: 93\n",
      "  label 7: 31\n",
      "  label 8: 68\n",
      "  label 9: 29\n",
      "  label 10: 67\n",
      "  label 11: 169\n",
      "  label 12: 190\n",
      "  label 13: 29\n",
      "  label 14: 22\n",
      "  label 15: 25\n",
      "  label 16: 19\n",
      "  label 17: 182\n",
      "  label 18: 92\n",
      "  label 19: 44\n",
      "  label 20: 14\n",
      "  label 21: 35\n",
      "  label 22: 76\n",
      "  label 23: 158\n",
      "  label 24: 13\n",
      "  label 25: 44\n",
      "  label 26: 84\n",
      "  label 27: 48\n",
      "  label 28: 11\n",
      "  label 29: 13\n",
      "  label 30: 11\n",
      "  label 31: 75\n",
      "  label 32: 36\n",
      "  label 33: 31\n",
      "  label 34: 30\n",
      "  label 35: 11\n",
      "  label 36: 22\n",
      "  label 37: 16\n",
      "  label 38: 33\n",
      "  label 39: 10\n",
      "  label 40: 9\n",
      "  label 41: 56\n",
      "  label 42: 18\n",
      "  label 43: 9\n",
      "  label 44: 55\n",
      "  label 45: 241\n",
      "  label 46: 62\n",
      "  label 47: 80\n",
      "model is microsoft/deberta-base bilstm\n",
      "Using weighted CrossEntropyLoss with weights: tensor([0.7527, 5.4740, 4.4061, 5.3870, 3.3180, 3.8376, 4.0324, 5.1310, 4.3455,\n",
      "        5.1977, 4.3603, 3.4351, 3.3180, 5.1977, 5.4740, 5.3462, 5.6206, 3.3610,\n",
      "        4.0432, 4.7808, 5.9260, 5.0097, 4.2343, 3.5024, 6.0001, 4.7808, 4.1342,\n",
      "        4.6938, 6.1671, 6.0001, 6.1671, 4.2475, 4.9815, 5.1310, 5.1638, 6.1671,\n",
      "        5.4740, 5.7924, 5.0685, 6.2624, 6.3678, 4.5397, 5.6747, 6.3678, 4.5577,\n",
      "        3.0802, 4.4379, 4.1830], device='cuda:0')\n",
      "Epoch 1/20\n"
     ]
    },
    {
     "name": "stderr",
     "output_type": "stream",
     "text": [
      "100%|██████████| 328/328 [00:36<00:00,  9.09it/s]\n"
     ]
    },
    {
     "name": "stdout",
     "output_type": "stream",
     "text": [
      "{'val_loss': 3.3614942794892846, 'val_accuracy': 0.4935163996948894, 'precision': 0.28424924608860125, 'recall': 0.4935163996948894, 'f1-score': 0.3564798606094547, 'macro_f1-score': 0.021580163212140072, 'balanced_accuracy': 0.03904882221868534, 'mcc': 0.22947833261175868, 'train_loss': 2.461742246296348}\n",
      "Epoch 2/20\n"
     ]
    },
    {
     "name": "stderr",
     "output_type": "stream",
     "text": [
      "100%|██████████| 328/328 [00:36<00:00,  9.06it/s]\n"
     ]
    },
    {
     "name": "stdout",
     "output_type": "stream",
     "text": [
      "{'val_loss': 3.2967354669803526, 'val_accuracy': 0.5125858123569794, 'precision': 0.2749006043468861, 'recall': 0.5125858123569794, 'f1-score': 0.3566407886630519, 'macro_f1-score': 0.029560785425847017, 'balanced_accuracy': 0.04118504297310202, 'mcc': 0.22515993911290166, 'train_loss': 2.1685795413284765}\n",
      "Epoch 3/20\n"
     ]
    },
    {
     "name": "stderr",
     "output_type": "stream",
     "text": [
      "100%|██████████| 328/328 [00:36<00:00,  9.09it/s]\n"
     ]
    },
    {
     "name": "stdout",
     "output_type": "stream",
     "text": [
      "{'val_loss': 3.0112042281685807, 'val_accuracy': 0.5369946605644547, 'precision': 0.36564261610899423, 'recall': 0.5369946605644547, 'f1-score': 0.4247578935597981, 'macro_f1-score': 0.04961541905197193, 'balanced_accuracy': 0.07114693780413707, 'mcc': 0.32610889260501946, 'train_loss': 1.9748800584092372}\n",
      "Epoch 4/20\n"
     ]
    },
    {
     "name": "stderr",
     "output_type": "stream",
     "text": [
      "100%|██████████| 328/328 [00:36<00:00,  9.06it/s]\n"
     ]
    },
    {
     "name": "stdout",
     "output_type": "stream",
     "text": [
      "{'val_loss': 2.9187736729296243, 'val_accuracy': 0.524790236460717, 'precision': 0.396487465346051, 'recall': 0.524790236460717, 'f1-score': 0.443979506595163, 'macro_f1-score': 0.05719028936091155, 'balanced_accuracy': 0.08243075998181608, 'mcc': 0.3391772839809548, 'train_loss': 1.880085622937214}\n",
      "Epoch 5/20\n"
     ]
    },
    {
     "name": "stderr",
     "output_type": "stream",
     "text": [
      "100%|██████████| 328/328 [00:36<00:00,  9.05it/s]\n"
     ]
    },
    {
     "name": "stdout",
     "output_type": "stream",
     "text": [
      "{'val_loss': 3.1031949898091757, 'val_accuracy': 0.5041952707856598, 'precision': 0.33132535408924235, 'recall': 0.5041952707856598, 'f1-score': 0.3939669626179624, 'macro_f1-score': 0.04544258738966269, 'balanced_accuracy': 0.06420579621305161, 'mcc': 0.26022176965462124, 'train_loss': 1.8088535577422236}\n",
      "Epoch 6/20\n"
     ]
    },
    {
     "name": "stderr",
     "output_type": "stream",
     "text": [
      "100%|██████████| 328/328 [00:36<00:00,  9.10it/s]\n"
     ]
    },
    {
     "name": "stdout",
     "output_type": "stream",
     "text": [
      "{'val_loss': 3.1294255925387873, 'val_accuracy': 0.5301296720061022, 'precision': 0.41127100497955105, 'recall': 0.5301296720061022, 'f1-score': 0.45197409624171736, 'macro_f1-score': 0.06426415866622771, 'balanced_accuracy': 0.08916904544922007, 'mcc': 0.34926316456551554, 'train_loss': 1.7286781748620474}\n",
      "Epoch 7/20\n"
     ]
    },
    {
     "name": "stderr",
     "output_type": "stream",
     "text": [
      "100%|██████████| 328/328 [00:36<00:00,  9.08it/s]\n"
     ]
    },
    {
     "name": "stdout",
     "output_type": "stream",
     "text": [
      "{'val_loss': 2.9678584351772215, 'val_accuracy': 0.5377574370709383, 'precision': 0.4258973919667148, 'recall': 0.5377574370709383, 'f1-score': 0.46828749562981165, 'macro_f1-score': 0.06920533515066378, 'balanced_accuracy': 0.09411488214539981, 'mcc': 0.3673414895816694, 'train_loss': 1.6366192158765909}\n",
      "Epoch 8/20\n"
     ]
    },
    {
     "name": "stderr",
     "output_type": "stream",
     "text": [
      "100%|██████████| 328/328 [00:36<00:00,  9.07it/s]\n"
     ]
    },
    {
     "name": "stdout",
     "output_type": "stream",
     "text": [
      "{'val_loss': 2.965683953064244, 'val_accuracy': 0.505720823798627, 'precision': 0.4180577171371515, 'recall': 0.505720823798627, 'f1-score': 0.44884356678912996, 'macro_f1-score': 0.06388909611839154, 'balanced_accuracy': 0.08749520145576728, 'mcc': 0.33839431827409583, 'train_loss': 1.5865620076656342}\n",
      "Epoch 9/20\n"
     ]
    },
    {
     "name": "stderr",
     "output_type": "stream",
     "text": [
      "100%|██████████| 328/328 [00:36<00:00,  9.07it/s]\n"
     ]
    },
    {
     "name": "stdout",
     "output_type": "stream",
     "text": [
      "{'val_loss': 2.7972227523966535, 'val_accuracy': 0.5392829900839055, 'precision': 0.4287015885816929, 'recall': 0.5392829900839055, 'f1-score': 0.4702123039381545, 'macro_f1-score': 0.0721343552978818, 'balanced_accuracy': 0.0991721254978913, 'mcc': 0.37453166346462224, 'train_loss': 1.5475166102008122}\n",
      "Epoch 10/20\n"
     ]
    },
    {
     "name": "stderr",
     "output_type": "stream",
     "text": [
      "100%|██████████| 328/328 [00:36<00:00,  9.08it/s]\n"
     ]
    },
    {
     "name": "stdout",
     "output_type": "stream",
     "text": [
      "{'val_loss': 2.9286346166599087, 'val_accuracy': 0.5354691075514875, 'precision': 0.4438505803893898, 'recall': 0.5354691075514875, 'f1-score': 0.478382306215961, 'macro_f1-score': 0.08159517924464975, 'balanced_accuracy': 0.10302435901909991, 'mcc': 0.3729278240003876, 'train_loss': 1.4512862715779282}\n",
      "Epoch 11/20\n"
     ]
    },
    {
     "name": "stderr",
     "output_type": "stream",
     "text": [
      "100%|██████████| 328/328 [00:36<00:00,  9.05it/s]\n"
     ]
    },
    {
     "name": "stdout",
     "output_type": "stream",
     "text": [
      "{'val_loss': 2.9728937795976313, 'val_accuracy': 0.5301296720061022, 'precision': 0.45945415921692434, 'recall': 0.5301296720061022, 'f1-score': 0.48086034238443714, 'macro_f1-score': 0.08949243909501407, 'balanced_accuracy': 0.10764669142433712, 'mcc': 0.3689575967582608, 'train_loss': 1.4092307750408242}\n",
      "Epoch 12/20\n"
     ]
    },
    {
     "name": "stderr",
     "output_type": "stream",
     "text": [
      "100%|██████████| 328/328 [00:36<00:00,  9.09it/s]\n"
     ]
    },
    {
     "name": "stdout",
     "output_type": "stream",
     "text": [
      "{'val_loss': 2.78213363086305, 'val_accuracy': 0.520976353928299, 'precision': 0.4719790368826995, 'recall': 0.520976353928299, 'f1-score': 0.48366780980711976, 'macro_f1-score': 0.09118495109682162, 'balanced_accuracy': 0.11588562444796709, 'mcc': 0.3721808161716313, 'train_loss': 1.4671139517208425}\n",
      "Epoch 13/20\n"
     ]
    },
    {
     "name": "stderr",
     "output_type": "stream",
     "text": [
      "100%|██████████| 328/328 [00:36<00:00,  9.07it/s]\n"
     ]
    },
    {
     "name": "stdout",
     "output_type": "stream",
     "text": [
      "{'val_loss': 3.0004845377875538, 'val_accuracy': 0.509534706331045, 'precision': 0.41919232858951105, 'recall': 0.509534706331045, 'f1-score': 0.4489605102259731, 'macro_f1-score': 0.07131679356186428, 'balanced_accuracy': 0.0903790405500039, 'mcc': 0.32513592709290245, 'train_loss': 1.506421927453541}\n",
      "Epoch 14/20\n"
     ]
    },
    {
     "name": "stderr",
     "output_type": "stream",
     "text": [
      "100%|██████████| 328/328 [00:36<00:00,  9.07it/s]\n"
     ]
    },
    {
     "name": "stdout",
     "output_type": "stream",
     "text": [
      "{'val_loss': 2.933557761878502, 'val_accuracy': 0.5110602593440122, 'precision': 0.4166818925113831, 'recall': 0.5110602593440122, 'f1-score': 0.4546303701114321, 'macro_f1-score': 0.06951111843312197, 'balanced_accuracy': 0.0888966498967048, 'mcc': 0.330964320841906, 'train_loss': 1.6456186384326075}\n",
      "Epoch 15/20\n"
     ]
    },
    {
     "name": "stderr",
     "output_type": "stream",
     "text": [
      "100%|██████████| 328/328 [00:36<00:00,  9.09it/s]\n"
     ]
    },
    {
     "name": "stdout",
     "output_type": "stream",
     "text": [
      "{'val_loss': 3.264335449148969, 'val_accuracy': 0.5446224256292906, 'precision': 0.356915530788192, 'recall': 0.5446224256292906, 'f1-score': 0.42778054614654015, 'macro_f1-score': 0.05516096264702791, 'balanced_accuracy': 0.07612765519382711, 'mcc': 0.3299748784787097, 'train_loss': 1.877041749111036}\n",
      "Early stopping.\n",
      "\n",
      "[Fold 5]\n",
      "Label distribution after resampling:\n",
      "  label 0: 2472\n",
      "  label 1: 21\n",
      "  label 2: 64\n",
      "  label 3: 24\n",
      "  label 4: 191\n",
      "  label 5: 112\n",
      "  label 6: 92\n",
      "  label 7: 31\n",
      "  label 8: 68\n",
      "  label 9: 29\n",
      "  label 10: 68\n",
      "  label 11: 168\n",
      "  label 12: 190\n",
      "  label 13: 29\n",
      "  label 14: 22\n",
      "  label 15: 25\n",
      "  label 16: 19\n",
      "  label 17: 183\n",
      "  label 18: 92\n",
      "  label 19: 44\n",
      "  label 20: 14\n",
      "  label 21: 35\n",
      "  label 22: 76\n",
      "  label 23: 158\n",
      "  label 24: 13\n",
      "  label 25: 44\n",
      "  label 26: 84\n",
      "  label 27: 48\n",
      "  label 28: 11\n",
      "  label 29: 13\n",
      "  label 30: 11\n",
      "  label 31: 75\n",
      "  label 32: 36\n",
      "  label 33: 31\n",
      "  label 34: 30\n",
      "  label 35: 11\n",
      "  label 36: 22\n",
      "  label 37: 16\n",
      "  label 38: 33\n",
      "  label 39: 10\n",
      "  label 40: 9\n",
      "  label 41: 57\n",
      "  label 42: 18\n",
      "  label 43: 9\n",
      "  label 44: 54\n",
      "  label 45: 242\n",
      "  label 46: 61\n",
      "  label 47: 80\n",
      "model is microsoft/deberta-base bilstm\n",
      "Using weighted CrossEntropyLoss with weights: tensor([0.7522, 5.5205, 4.4061, 5.3870, 3.3128, 3.8465, 4.0432, 5.1310, 4.3455,\n",
      "        5.1977, 4.3455, 3.4411, 3.3180, 5.1977, 5.4740, 5.3462, 5.6206, 3.3555,\n",
      "        4.0432, 4.7808, 5.9260, 5.0097, 4.2343, 3.5024, 6.0001, 4.7808, 4.1342,\n",
      "        4.6938, 6.1671, 6.0001, 6.1671, 4.2475, 4.9815, 5.1310, 5.1638, 6.1671,\n",
      "        5.4740, 5.7924, 5.0685, 6.2624, 6.3678, 4.5220, 5.6747, 6.3678, 4.5760,\n",
      "        3.0761, 4.4542, 4.1830], device='cuda:0')\n",
      "Epoch 1/20\n"
     ]
    },
    {
     "name": "stderr",
     "output_type": "stream",
     "text": [
      "100%|██████████| 328/328 [00:36<00:00,  9.07it/s]\n"
     ]
    },
    {
     "name": "stdout",
     "output_type": "stream",
     "text": [
      "{'val_loss': 3.3691231913682893, 'val_accuracy': 0.517162471395881, 'precision': 0.3035419056260749, 'recall': 0.517162471395881, 'f1-score': 0.37945153605878645, 'macro_f1-score': 0.04056049213943951, 'balanced_accuracy': 0.056728309117938934, 'mcc': 0.2572398151460107, 'train_loss': 2.431834893619142}\n",
      "Epoch 2/20\n"
     ]
    },
    {
     "name": "stderr",
     "output_type": "stream",
     "text": [
      "100%|██████████| 328/328 [00:36<00:00,  9.07it/s]\n"
     ]
    },
    {
     "name": "stdout",
     "output_type": "stream",
     "text": [
      "{'val_loss': 3.035094272799608, 'val_accuracy': 0.5331807780320366, 'precision': 0.34577576398149196, 'recall': 0.5331807780320366, 'f1-score': 0.4182437261072806, 'macro_f1-score': 0.054006275349337406, 'balanced_accuracy': 0.07213692840159151, 'mcc': 0.3097087382655951, 'train_loss': 2.137763655040322}\n",
      "Epoch 3/20\n"
     ]
    },
    {
     "name": "stderr",
     "output_type": "stream",
     "text": [
      "100%|██████████| 328/328 [00:36<00:00,  9.04it/s]\n"
     ]
    },
    {
     "name": "stdout",
     "output_type": "stream",
     "text": [
      "{'val_loss': 3.010598345500667, 'val_accuracy': 0.555301296720061, 'precision': 0.36901534262509056, 'recall': 0.555301296720061, 'f1-score': 0.4391738146217951, 'macro_f1-score': 0.05988717351796197, 'balanced_accuracy': 0.08197749018473663, 'mcc': 0.35113110348204474, 'train_loss': 2.04597723447695}\n",
      "Epoch 4/20\n"
     ]
    },
    {
     "name": "stderr",
     "output_type": "stream",
     "text": [
      "100%|██████████| 328/328 [00:36<00:00,  9.06it/s]\n"
     ]
    },
    {
     "name": "stdout",
     "output_type": "stream",
     "text": [
      "{'val_loss': 2.990999338103504, 'val_accuracy': 0.5560640732265446, 'precision': 0.3967450786431341, 'recall': 0.5560640732265446, 'f1-score': 0.45867654082853954, 'macro_f1-score': 0.06253865775432095, 'balanced_accuracy': 0.09083557090883963, 'mcc': 0.37636062101196294, 'train_loss': 1.8835922223402233}\n",
      "Epoch 5/20\n"
     ]
    },
    {
     "name": "stderr",
     "output_type": "stream",
     "text": [
      "100%|██████████| 328/328 [00:36<00:00,  9.05it/s]\n"
     ]
    },
    {
     "name": "stdout",
     "output_type": "stream",
     "text": [
      "{'val_loss': 2.913052103868345, 'val_accuracy': 0.5621662852784134, 'precision': 0.3853361580167554, 'recall': 0.5621662852784134, 'f1-score': 0.45380738236385815, 'macro_f1-score': 0.06333336309034017, 'balanced_accuracy': 0.08826209056532842, 'mcc': 0.3724771987909407, 'train_loss': 1.784895663036079}\n",
      "Epoch 6/20\n"
     ]
    },
    {
     "name": "stderr",
     "output_type": "stream",
     "text": [
      "100%|██████████| 328/328 [00:36<00:00,  9.07it/s]\n"
     ]
    },
    {
     "name": "stdout",
     "output_type": "stream",
     "text": [
      "{'val_loss': 2.8124555611028903, 'val_accuracy': 0.5690312738367659, 'precision': 0.41553308452293963, 'recall': 0.5690312738367659, 'f1-score': 0.47545839387743905, 'macro_f1-score': 0.07048126156775787, 'balanced_accuracy': 0.09754788689548703, 'mcc': 0.3957669421079439, 'train_loss': 1.7134386106598667}\n",
      "Epoch 7/20\n"
     ]
    },
    {
     "name": "stderr",
     "output_type": "stream",
     "text": [
      "100%|██████████| 328/328 [00:36<00:00,  9.07it/s]\n"
     ]
    },
    {
     "name": "stdout",
     "output_type": "stream",
     "text": [
      "{'val_loss': 2.842451834097141, 'val_accuracy': 0.5789473684210527, 'precision': 0.4274624441734103, 'recall': 0.5789473684210527, 'f1-score': 0.48678105397892707, 'macro_f1-score': 0.07881589192555953, 'balanced_accuracy': 0.1059735546669821, 'mcc': 0.4122827997585683, 'train_loss': 1.6354860916006855}\n",
      "Epoch 8/20\n"
     ]
    },
    {
     "name": "stderr",
     "output_type": "stream",
     "text": [
      "100%|██████████| 328/328 [00:36<00:00,  9.07it/s]\n"
     ]
    },
    {
     "name": "stdout",
     "output_type": "stream",
     "text": [
      "{'val_loss': 2.7890661155305256, 'val_accuracy': 0.551487414187643, 'precision': 0.43099222438356, 'recall': 0.551487414187643, 'f1-score': 0.475864107925319, 'macro_f1-score': 0.07467071394617249, 'balanced_accuracy': 0.09698665510470851, 'mcc': 0.3810337302787662, 'train_loss': 1.55902577037128}\n",
      "Epoch 9/20\n"
     ]
    },
    {
     "name": "stderr",
     "output_type": "stream",
     "text": [
      "100%|██████████| 328/328 [00:36<00:00,  9.09it/s]\n"
     ]
    },
    {
     "name": "stdout",
     "output_type": "stream",
     "text": [
      "{'val_loss': 2.8036404659108416, 'val_accuracy': 0.5537757437070938, 'precision': 0.4643974760739791, 'recall': 0.5537757437070938, 'f1-score': 0.49665263726329284, 'macro_f1-score': 0.08577621072545821, 'balanced_accuracy': 0.11192497274351454, 'mcc': 0.4043964211494795, 'train_loss': 1.500849398716194}\n",
      "Epoch 10/20\n"
     ]
    },
    {
     "name": "stderr",
     "output_type": "stream",
     "text": [
      "100%|██████████| 328/328 [00:36<00:00,  9.05it/s]\n"
     ]
    },
    {
     "name": "stdout",
     "output_type": "stream",
     "text": [
      "{'val_loss': 2.9261727260380255, 'val_accuracy': 0.5110602593440122, 'precision': 0.4547541596230764, 'recall': 0.5110602593440122, 'f1-score': 0.4613386852368903, 'macro_f1-score': 0.070892185992168, 'balanced_accuracy': 0.09811058103418198, 'mcc': 0.3578225132590502, 'train_loss': 1.4618133533655144}\n",
      "Epoch 11/20\n"
     ]
    },
    {
     "name": "stderr",
     "output_type": "stream",
     "text": [
      "100%|██████████| 328/328 [00:36<00:00,  9.07it/s]\n"
     ]
    },
    {
     "name": "stdout",
     "output_type": "stream",
     "text": [
      "{'val_loss': 2.8996374156416915, 'val_accuracy': 0.5377574370709383, 'precision': 0.4443067382021447, 'recall': 0.5377574370709383, 'f1-score': 0.4729384694875858, 'macro_f1-score': 0.07695351551819579, 'balanced_accuracy': 0.10462690299604453, 'mcc': 0.3753429678726867, 'train_loss': 1.4443924367972991}\n",
      "Epoch 12/20\n"
     ]
    },
    {
     "name": "stderr",
     "output_type": "stream",
     "text": [
      "100%|██████████| 328/328 [00:36<00:00,  9.05it/s]\n"
     ]
    },
    {
     "name": "stdout",
     "output_type": "stream",
     "text": [
      "{'val_loss': 3.213526014874621, 'val_accuracy': 0.5484363081617086, 'precision': 0.4387326056656602, 'recall': 0.5484363081617086, 'f1-score': 0.46024414520114093, 'macro_f1-score': 0.07730041441004265, 'balanced_accuracy': 0.09066598934748253, 'mcc': 0.3520349778064178, 'train_loss': 1.4256939586342834}\n",
      "Early stopping.\n",
      "\n",
      " === microsoft/deberta-base + bilstm + none Final 5-fold Cross-Validation Results ===\n",
      "val_loss: 2.8763\n",
      "val_accuracy: 0.5416\n",
      "precision: 0.4563\n",
      "recall: 0.5416\n",
      "f1-score: 0.4850\n",
      "macro_f1-score: 0.0881\n",
      "balanced_accuracy: 0.1085\n",
      "mcc: 0.3791\n",
      "train_loss: 1.5039\n",
      "total_seconds: 2802.0000\n",
      "total_time: 0 hrs 46 mins 42 secs\n"
     ]
    }
   ],
   "source": [
    "model_list = [\"bert-base-uncased\", \"roberta-base\", \"microsoft/deberta-base\"]\n",
    "hybrid_list = [None, \"cnn\", \"lstm\", \"bilstm\"]\n",
    "resample_list = [\"none\"]\n",
    "\n",
    "all_experiment_result = {}\n",
    "\n",
    "for model_name in model_list:\n",
    "    for hybrid_type in hybrid_list:\n",
    "        for resample_method in resample_list:\n",
    "            results = run_kfold_experiment(\n",
    "                X=messages, y=labels, model_name=model_name, hybrid_type=hybrid_type, resample_method=resample_method,\n",
    "                kfold=KFOLD_SPLIT, seed=SEED, epochs=EPOCHS, patience=PATIENCE, max_length=MAX_LENGTH, \n",
    "                batch_size=BATCH_SIZE, lr=LR, weight_decay=WEIGHT_DECAY, upper_cap=UPPER_CAP, lower_cap=LOWER_CAP, use_weighted_loss= USE_WEIGHTED_LOSS\n",
    "            )\n",
    "\n",
    "            key = f\"{model_name} {hybrid_type if hybrid_type else 'None'} {resample_method}\"\n",
    "            all_experiment_result[key] = results"
   ]
  },
  {
   "cell_type": "code",
   "execution_count": 5,
   "id": "d799ebb4-be3b-4b29-9238-6c2a2f8256ae",
   "metadata": {},
   "outputs": [
    {
     "data": {
      "text/plain": [
       "{'bert-base-uncased None none': {'val_loss': 2.599260287613767,\n",
       "  'val_accuracy': 0.6590899471637737,\n",
       "  'precision': 0.6546333965523503,\n",
       "  'recall': 0.6590899471637737,\n",
       "  'f1-score': 0.6480153109499611,\n",
       "  'macro_f1-score': 0.41974315491386116,\n",
       "  'balanced_accuracy': 0.4140605211062363,\n",
       "  'mcc': 0.5478804949323243,\n",
       "  'train_loss': 0.16363432544607262,\n",
       "  'total_seconds': 1986,\n",
       "  'total_time': '0 hrs 33 mins 6 secs'},\n",
       " 'bert-base-uncased cnn none': {'val_loss': 2.657772870143739,\n",
       "  'val_accuracy': 0.6401751827872969,\n",
       "  'precision': 0.6523427181746003,\n",
       "  'recall': 0.6401751827872969,\n",
       "  'f1-score': 0.6337568213217618,\n",
       "  'macro_f1-score': 0.4023004460851226,\n",
       "  'balanced_accuracy': 0.4029602199307426,\n",
       "  'mcc': 0.5285008842811408,\n",
       "  'train_loss': 0.24547332458882365,\n",
       "  'total_seconds': 2030,\n",
       "  'total_time': '0 hrs 33 mins 50 secs'},\n",
       " 'bert-base-uncased lstm none': {'val_loss': 2.594791124815621,\n",
       "  'val_accuracy': 0.6383466121560529,\n",
       "  'precision': 0.6469583740441085,\n",
       "  'recall': 0.6383466121560529,\n",
       "  'f1-score': 0.6353775358728293,\n",
       "  'macro_f1-score': 0.39544976104866736,\n",
       "  'balanced_accuracy': 0.4006864994156496,\n",
       "  'mcc': 0.52869172394323,\n",
       "  'train_loss': 0.23305389933719683,\n",
       "  'total_seconds': 2962,\n",
       "  'total_time': '0 hrs 49 mins 22 secs'},\n",
       " 'bert-base-uncased bilstm none': {'val_loss': 2.6657297564534153,\n",
       "  'val_accuracy': 0.6539060901192536,\n",
       "  'precision': 0.6524252480566227,\n",
       "  'recall': 0.6539060901192536,\n",
       "  'f1-score': 0.6449081935140315,\n",
       "  'macro_f1-score': 0.40915163551283873,\n",
       "  'balanced_accuracy': 0.4006503324665463,\n",
       "  'mcc': 0.5403129808088085,\n",
       "  'train_loss': 0.16189396750003032,\n",
       "  'total_seconds': 2874,\n",
       "  'total_time': '0 hrs 47 mins 54 secs'},\n",
       " 'roberta-base None none': {'val_loss': 2.4636286748982057,\n",
       "  'val_accuracy': 0.6356009655634314,\n",
       "  'precision': 0.6325762764182729,\n",
       "  'recall': 0.6356009655634314,\n",
       "  'f1-score': 0.6260617133468799,\n",
       "  'macro_f1-score': 0.3624428319441287,\n",
       "  'balanced_accuracy': 0.36548692198486105,\n",
       "  'mcc': 0.5202564198832833,\n",
       "  'train_loss': 0.35850374472054947,\n",
       "  'total_seconds': 2041,\n",
       "  'total_time': '0 hrs 34 mins 1 secs'},\n",
       " 'roberta-base cnn none': {'val_loss': 2.7205632749127178,\n",
       "  'val_accuracy': 0.631330579896188,\n",
       "  'precision': 0.6397450857431906,\n",
       "  'recall': 0.631330579896188,\n",
       "  'f1-score': 0.6273655449655071,\n",
       "  'macro_f1-score': 0.38000085520199595,\n",
       "  'balanced_accuracy': 0.37718200833603854,\n",
       "  'mcc': 0.5170776056022609,\n",
       "  'train_loss': 0.2907072404460561,\n",
       "  'total_seconds': 2809,\n",
       "  'total_time': '0 hrs 46 mins 49 secs'},\n",
       " 'roberta-base lstm none': {'val_loss': 2.5981536764924122,\n",
       "  'val_accuracy': 0.5855695707986828,\n",
       "  'precision': 0.5400636737348433,\n",
       "  'recall': 0.5855695707986828,\n",
       "  'f1-score': 0.5467506765853611,\n",
       "  'macro_f1-score': 0.2454700890868204,\n",
       "  'balanced_accuracy': 0.254995259122779,\n",
       "  'mcc': 0.4335076425782084,\n",
       "  'train_loss': 1.0540643578213527,\n",
       "  'total_seconds': 2728,\n",
       "  'total_time': '0 hrs 45 mins 28 secs'},\n",
       " 'roberta-base bilstm none': {'val_loss': 2.8695588369195053,\n",
       "  'val_accuracy': 0.5765775287901621,\n",
       "  'precision': 0.5098669418311685,\n",
       "  'recall': 0.5765775287901621,\n",
       "  'f1-score': 0.5274429908669256,\n",
       "  'macro_f1-score': 0.22964111122299052,\n",
       "  'balanced_accuracy': 0.24537685094716868,\n",
       "  'mcc': 0.4198658311820684,\n",
       "  'train_loss': 1.1144152213864753,\n",
       "  'total_seconds': 2485,\n",
       "  'total_time': '0 hrs 41 mins 25 secs'},\n",
       " 'microsoft/deberta-base None none': {'val_loss': 3.0156324277200355,\n",
       "  'val_accuracy': 0.6369718702907854,\n",
       "  'precision': 0.6400655585295845,\n",
       "  'recall': 0.6369718702907854,\n",
       "  'f1-score': 0.6291769646713146,\n",
       "  'macro_f1-score': 0.38872767027277727,\n",
       "  'balanced_accuracy': 0.3908708496597828,\n",
       "  'mcc': 0.5218611358392049,\n",
       "  'train_loss': 0.12339192520317384,\n",
       "  'total_seconds': 2850,\n",
       "  'total_time': '0 hrs 47 mins 30 secs'},\n",
       " 'microsoft/deberta-base cnn none': {'val_loss': 2.9292952861727737,\n",
       "  'val_accuracy': 0.5896917034101691,\n",
       "  'precision': 0.5107190859976163,\n",
       "  'recall': 0.5896917034101691,\n",
       "  'f1-score': 0.5316106353276371,\n",
       "  'macro_f1-score': 0.20447076904270717,\n",
       "  'balanced_accuracy': 0.21512243364534048,\n",
       "  'mcc': 0.4248785243559359,\n",
       "  'train_loss': 1.1938661815192575,\n",
       "  'total_seconds': 2189,\n",
       "  'total_time': '0 hrs 36 mins 29 secs'},\n",
       " 'microsoft/deberta-base lstm none': {'val_loss': 2.9677422734295447,\n",
       "  'val_accuracy': 0.5350839984372383,\n",
       "  'precision': 0.4191985571048029,\n",
       "  'recall': 0.5350839984372383,\n",
       "  'f1-score': 0.4618364875574713,\n",
       "  'macro_f1-score': 0.07045270595646831,\n",
       "  'balanced_accuracy': 0.08947901191787822,\n",
       "  'mcc': 0.35330159015311596,\n",
       "  'train_loss': 1.7115023679122694,\n",
       "  'total_seconds': 2478,\n",
       "  'total_time': '0 hrs 41 mins 18 secs'},\n",
       " 'microsoft/deberta-base bilstm none': {'val_loss': 2.8762814431655697,\n",
       "  'val_accuracy': 0.5416386439322058,\n",
       "  'precision': 0.4562743958223733,\n",
       "  'recall': 0.5416386439322058,\n",
       "  'f1-score': 0.48495044348119254,\n",
       "  'macro_f1-score': 0.08810056567230085,\n",
       "  'balanced_accuracy': 0.1085154673034114,\n",
       "  'mcc': 0.37907102398806936,\n",
       "  'train_loss': 1.5039000394595106,\n",
       "  'total_seconds': 2802,\n",
       "  'total_time': '0 hrs 46 mins 42 secs'}}"
      ]
     },
     "execution_count": 5,
     "metadata": {},
     "output_type": "execute_result"
    }
   ],
   "source": [
    "all_experiment_result"
   ]
  }
 ],
 "metadata": {
  "kernelspec": {
   "display_name": "Python 3 (ipykernel)",
   "language": "python",
   "name": "python3"
  },
  "language_info": {
   "codemirror_mode": {
    "name": "ipython",
    "version": 3
   },
   "file_extension": ".py",
   "mimetype": "text/x-python",
   "name": "python",
   "nbconvert_exporter": "python",
   "pygments_lexer": "ipython3",
   "version": "3.11.9"
  }
 },
 "nbformat": 4,
 "nbformat_minor": 5
}
