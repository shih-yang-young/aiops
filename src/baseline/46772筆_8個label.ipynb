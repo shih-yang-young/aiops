{
 "cells": [
  {
   "cell_type": "code",
   "execution_count": 1,
   "id": "f22f4841-9a9d-4a63-b896-560594d666d8",
   "metadata": {},
   "outputs": [
    {
     "data": {
      "text/html": [
       "<div>\n",
       "<style scoped>\n",
       "    .dataframe tbody tr th:only-of-type {\n",
       "        vertical-align: middle;\n",
       "    }\n",
       "\n",
       "    .dataframe tbody tr th {\n",
       "        vertical-align: top;\n",
       "    }\n",
       "\n",
       "    .dataframe thead th {\n",
       "        text-align: right;\n",
       "    }\n",
       "</style>\n",
       "<table border=\"1\" class=\"dataframe\">\n",
       "  <thead>\n",
       "    <tr style=\"text-align: right;\">\n",
       "      <th></th>\n",
       "      <th>Inbound Message</th>\n",
       "      <th>Label</th>\n",
       "    </tr>\n",
       "  </thead>\n",
       "  <tbody>\n",
       "    <tr>\n",
       "      <th>0</th>\n",
       "      <td>connection icon icon dear please setup icon pe...</td>\n",
       "      <td>3</td>\n",
       "    </tr>\n",
       "    <tr>\n",
       "      <th>1</th>\n",
       "      <td>work experience user work experience user work...</td>\n",
       "      <td>0</td>\n",
       "    </tr>\n",
       "    <tr>\n",
       "      <th>2</th>\n",
       "      <td>requesting meeting requesting meeting please h...</td>\n",
       "      <td>3</td>\n",
       "    </tr>\n",
       "    <tr>\n",
       "      <th>3</th>\n",
       "      <td>reset passwords external accounts expire days ...</td>\n",
       "      <td>0</td>\n",
       "    </tr>\n",
       "    <tr>\n",
       "      <th>4</th>\n",
       "      <td>mail verification warning got attached please ...</td>\n",
       "      <td>5</td>\n",
       "    </tr>\n",
       "    <tr>\n",
       "      <th>...</th>\n",
       "      <td>...</td>\n",
       "      <td>...</td>\n",
       "    </tr>\n",
       "    <tr>\n",
       "      <th>46767</th>\n",
       "      <td>git space project issues adding users sent git...</td>\n",
       "      <td>0</td>\n",
       "    </tr>\n",
       "    <tr>\n",
       "      <th>46768</th>\n",
       "      <td>error sent error guys help error appearing wan...</td>\n",
       "      <td>5</td>\n",
       "    </tr>\n",
       "    <tr>\n",
       "      <th>46769</th>\n",
       "      <td>connection issues sent connection issues hello...</td>\n",
       "      <td>3</td>\n",
       "    </tr>\n",
       "    <tr>\n",
       "      <th>46770</th>\n",
       "      <td>error cube reports sent error hello guys recei...</td>\n",
       "      <td>2</td>\n",
       "    </tr>\n",
       "    <tr>\n",
       "      <th>46771</th>\n",
       "      <td>running extensions hello please advised runnin...</td>\n",
       "      <td>3</td>\n",
       "    </tr>\n",
       "  </tbody>\n",
       "</table>\n",
       "<p>46772 rows × 2 columns</p>\n",
       "</div>"
      ],
      "text/plain": [
       "                                         Inbound Message  Label\n",
       "0      connection icon icon dear please setup icon pe...      3\n",
       "1      work experience user work experience user work...      0\n",
       "2      requesting meeting requesting meeting please h...      3\n",
       "3      reset passwords external accounts expire days ...      0\n",
       "4      mail verification warning got attached please ...      5\n",
       "...                                                  ...    ...\n",
       "46767  git space project issues adding users sent git...      0\n",
       "46768  error sent error guys help error appearing wan...      5\n",
       "46769  connection issues sent connection issues hello...      3\n",
       "46770  error cube reports sent error hello guys recei...      2\n",
       "46771  running extensions hello please advised runnin...      3\n",
       "\n",
       "[46772 rows x 2 columns]"
      ]
     },
     "execution_count": 1,
     "metadata": {},
     "output_type": "execute_result"
    }
   ],
   "source": [
    "import pandas as pd\n",
    "data_path = \"../../data/46772_8_label.csv\"\n",
    "df = pd.read_csv(data_path)\n",
    "# df_label_0 = df[df[\"Label\"] == 0]\n",
    "# df_label_0_to_drop = df_label_0.sample(n=3000, random_state=42)\n",
    "# df = df.drop(df_label_0_to_drop.index)\n",
    "df"
   ]
  },
  {
   "cell_type": "code",
   "execution_count": 2,
   "id": "bf737873-4f1c-4588-913d-8f06b2777b20",
   "metadata": {},
   "outputs": [
    {
     "name": "stderr",
     "output_type": "stream",
     "text": [
      "c:\\Users\\user\\AppData\\Local\\Programs\\Python\\Python310\\lib\\site-packages\\tqdm\\auto.py:21: TqdmWarning: IProgress not found. Please update jupyter and ipywidgets. See https://ipywidgets.readthedocs.io/en/stable/user_install.html\n",
      "  from .autonotebook import tqdm as notebook_tqdm\n"
     ]
    }
   ],
   "source": [
    "import sys\n",
    "import os\n",
    "sys.path.append(os.path.abspath('../ml_lib'))\n",
    "\n",
    "from config import *\n",
    "from experiment import run_kfold_experiment"
   ]
  },
  {
   "cell_type": "code",
   "execution_count": 3,
   "id": "a12b2613-aa9d-41c0-8f62-72210eaf8d7f",
   "metadata": {},
   "outputs": [],
   "source": [
    "messages, labels = df['Inbound Message'].tolist(), df['Label'].tolist()"
   ]
  },
  {
   "cell_type": "code",
   "execution_count": 4,
   "id": "38d4729f-f867-4cea-89f9-31f67e5ecced",
   "metadata": {},
   "outputs": [
    {
     "name": "stdout",
     "output_type": "stream",
     "text": [
      "▶ Running: bert-base-uncased + plain + none\n",
      "tokenizer is bert-base-uncased\n",
      "Using device: cuda\n",
      "CUDA Available: True\n",
      "CUDA Device: NVIDIA GeForce RTX 5070 Ti\n",
      "Current GPU Memory Allocated: 0.00 GB\n",
      "Current GPU Memory Cached: 0.00 GB\n",
      "\n",
      "[Fold 1]\n",
      "Label distribution after resampling:\n",
      "  label 0: 5626\n",
      "  label 1: 1399\n",
      "  label 2: 8442\n",
      "  label 3: 10770\n",
      "  label 4: 1678\n",
      "  label 5: 5578\n",
      "  label 6: 1737\n",
      "  label 7: 2187\n",
      "model is bert-base-uncased\n"
     ]
    },
    {
     "name": "stderr",
     "output_type": "stream",
     "text": [
      "Some weights of BertForSequenceClassification were not initialized from the model checkpoint at bert-base-uncased and are newly initialized: ['classifier.bias', 'classifier.weight']\n",
      "You should probably TRAIN this model on a down-stream task to be able to use it for predictions and inference.\n"
     ]
    },
    {
     "name": "stdout",
     "output_type": "stream",
     "text": [
      "Epoch 1/20\n"
     ]
    },
    {
     "name": "stderr",
     "output_type": "stream",
     "text": [
      "100%|██████████| 2339/2339 [03:18<00:00, 11.80it/s]\n"
     ]
    },
    {
     "name": "stdout",
     "output_type": "stream",
     "text": [
      "{'val_loss': 0.4065282572665785, 'val_accuracy': 0.8610368786745056, 'precision': 0.8634542942546176, 'recall': 0.8610368786745056, 'f1-score': 0.8609723525766746, 'macro_f1-score': 0.8574238464832457, 'balanced_accuracy': 0.8581474044186859, 'mcc': 0.8295930109918739, 'train_loss': 0.5919402900935111}\n",
      "Epoch 2/20\n"
     ]
    },
    {
     "name": "stderr",
     "output_type": "stream",
     "text": [
      "100%|██████████| 2339/2339 [03:19<00:00, 11.73it/s]\n"
     ]
    },
    {
     "name": "stdout",
     "output_type": "stream",
     "text": [
      "{'val_loss': 0.3832752604308164, 'val_accuracy': 0.872367717797969, 'precision': 0.8745900101458657, 'recall': 0.872367717797969, 'f1-score': 0.8719691354729758, 'macro_f1-score': 0.8667956516056802, 'balanced_accuracy': 0.8511978055207764, 'mcc': 0.8425138908356989, 'train_loss': 0.3464508811111453}\n",
      "Epoch 3/20\n"
     ]
    },
    {
     "name": "stderr",
     "output_type": "stream",
     "text": [
      "100%|██████████| 2339/2339 [03:19<00:00, 11.74it/s]\n"
     ]
    },
    {
     "name": "stdout",
     "output_type": "stream",
     "text": [
      "{'val_loss': 0.3844806274653882, 'val_accuracy': 0.8720470336718332, 'precision': 0.87407759564974, 'recall': 0.8720470336718332, 'f1-score': 0.8723544323717786, 'macro_f1-score': 0.8669871098077576, 'balanced_accuracy': 0.8740631316983414, 'mcc': 0.8433204225793706, 'train_loss': 0.24670146521823516}\n",
      "Epoch 4/20\n"
     ]
    },
    {
     "name": "stderr",
     "output_type": "stream",
     "text": [
      "100%|██████████| 2339/2339 [03:19<00:00, 11.74it/s]\n"
     ]
    },
    {
     "name": "stdout",
     "output_type": "stream",
     "text": [
      "{'val_loss': 0.4574868086164292, 'val_accuracy': 0.8717263495456975, 'precision': 0.8720880949362694, 'recall': 0.8717263495456975, 'f1-score': 0.8716771177898935, 'macro_f1-score': 0.8712470065318544, 'balanced_accuracy': 0.8647858507631236, 'mcc': 0.8418686118822523, 'train_loss': 0.16377168696699404}\n",
      "Epoch 5/20\n"
     ]
    },
    {
     "name": "stderr",
     "output_type": "stream",
     "text": [
      "100%|██████████| 2339/2339 [03:19<00:00, 11.74it/s]\n"
     ]
    },
    {
     "name": "stdout",
     "output_type": "stream",
     "text": [
      "{'val_loss': 0.5264376254199057, 'val_accuracy': 0.8698022447888829, 'precision': 0.8716152531292946, 'recall': 0.8698022447888829, 'f1-score': 0.8699205695324524, 'macro_f1-score': 0.863186185641272, 'balanced_accuracy': 0.8584029785156987, 'mcc': 0.8395672016708411, 'train_loss': 0.11493750251271188}\n",
      "Epoch 6/20\n"
     ]
    },
    {
     "name": "stderr",
     "output_type": "stream",
     "text": [
      "100%|██████████| 2339/2339 [03:19<00:00, 11.72it/s]\n"
     ]
    },
    {
     "name": "stdout",
     "output_type": "stream",
     "text": [
      "{'val_loss': 0.5347821769515514, 'val_accuracy': 0.8654195617316943, 'precision': 0.8672263015082486, 'recall': 0.8654195617316943, 'f1-score': 0.8651745852134053, 'macro_f1-score': 0.865177446865094, 'balanced_accuracy': 0.8485360591455643, 'mcc': 0.8337716891606688, 'train_loss': 0.08745134187403981}\n",
      "Epoch 7/20\n"
     ]
    },
    {
     "name": "stderr",
     "output_type": "stream",
     "text": [
      "100%|██████████| 2339/2339 [03:19<00:00, 11.73it/s]\n"
     ]
    },
    {
     "name": "stdout",
     "output_type": "stream",
     "text": [
      "{'val_loss': 0.6274877184456708, 'val_accuracy': 0.8599679315873864, 'precision': 0.863951584529074, 'recall': 0.8599679315873864, 'f1-score': 0.8598021147946489, 'macro_f1-score': 0.8541337400207005, 'balanced_accuracy': 0.8703765582505544, 'mcc': 0.8301218104836579, 'train_loss': 0.07138508353391805}\n",
      "Early stopping.\n",
      "\n",
      "[Fold 2]\n",
      "Label distribution after resampling:\n",
      "  label 0: 5626\n",
      "  label 1: 1400\n",
      "  label 2: 8442\n",
      "  label 3: 10770\n",
      "  label 4: 1678\n",
      "  label 5: 5578\n",
      "  label 6: 1737\n",
      "  label 7: 2186\n",
      "model is bert-base-uncased\n"
     ]
    },
    {
     "name": "stderr",
     "output_type": "stream",
     "text": [
      "Some weights of BertForSequenceClassification were not initialized from the model checkpoint at bert-base-uncased and are newly initialized: ['classifier.bias', 'classifier.weight']\n",
      "You should probably TRAIN this model on a down-stream task to be able to use it for predictions and inference.\n"
     ]
    },
    {
     "name": "stdout",
     "output_type": "stream",
     "text": [
      "Epoch 1/20\n"
     ]
    },
    {
     "name": "stderr",
     "output_type": "stream",
     "text": [
      "100%|██████████| 2339/2339 [03:19<00:00, 11.75it/s]\n"
     ]
    },
    {
     "name": "stdout",
     "output_type": "stream",
     "text": [
      "{'val_loss': 0.44601983486905566, 'val_accuracy': 0.8479957242116515, 'precision': 0.8506670833943888, 'recall': 0.8479957242116515, 'f1-score': 0.8478048659934211, 'macro_f1-score': 0.8460056778581995, 'balanced_accuracy': 0.8461442033259292, 'mcc': 0.8129332025111617, 'train_loss': 0.5863744777799698}\n",
      "Epoch 2/20\n"
     ]
    },
    {
     "name": "stderr",
     "output_type": "stream",
     "text": [
      "100%|██████████| 2339/2339 [03:19<00:00, 11.75it/s]\n"
     ]
    },
    {
     "name": "stdout",
     "output_type": "stream",
     "text": [
      "{'val_loss': 0.4122677037317274, 'val_accuracy': 0.8581507215392838, 'precision': 0.8594010848313245, 'recall': 0.8581507215392838, 'f1-score': 0.8582425133554844, 'macro_f1-score': 0.8593253574647577, 'balanced_accuracy': 0.8457947383493885, 'mcc': 0.8249481111132867, 'train_loss': 0.34810557566716943}\n",
      "Epoch 3/20\n"
     ]
    },
    {
     "name": "stderr",
     "output_type": "stream",
     "text": [
      "100%|██████████| 2339/2339 [03:19<00:00, 11.73it/s]\n"
     ]
    },
    {
     "name": "stdout",
     "output_type": "stream",
     "text": [
      "{'val_loss': 0.47942117433358206, 'val_accuracy': 0.8502405130946018, 'precision': 0.8539385562495315, 'recall': 0.8502405130946018, 'f1-score': 0.8500215147910423, 'macro_f1-score': 0.8496514880007497, 'balanced_accuracy': 0.8579522538968901, 'mcc': 0.8171913714582325, 'train_loss': 0.24129725941415045}\n",
      "Epoch 4/20\n"
     ]
    },
    {
     "name": "stderr",
     "output_type": "stream",
     "text": [
      "100%|██████████| 2339/2339 [03:19<00:00, 11.73it/s]\n"
     ]
    },
    {
     "name": "stdout",
     "output_type": "stream",
     "text": [
      "{'val_loss': 0.4987978369089114, 'val_accuracy': 0.8603955104222341, 'precision': 0.8611931229710335, 'recall': 0.8603955104222341, 'f1-score': 0.8605528328304769, 'macro_f1-score': 0.8607850162662896, 'balanced_accuracy': 0.8577588791812761, 'mcc': 0.827973932287154, 'train_loss': 0.16198274223984016}\n",
      "Epoch 5/20\n"
     ]
    },
    {
     "name": "stderr",
     "output_type": "stream",
     "text": [
      "100%|██████████| 2339/2339 [03:19<00:00, 11.75it/s]\n"
     ]
    },
    {
     "name": "stdout",
     "output_type": "stream",
     "text": [
      "{'val_loss': 0.5948238038012169, 'val_accuracy': 0.8506680919294495, 'precision': 0.8536176619201008, 'recall': 0.8506680919294495, 'f1-score': 0.8501957950253847, 'macro_f1-score': 0.8537386248353185, 'balanced_accuracy': 0.8448042212503795, 'mcc': 0.816438254322832, 'train_loss': 0.11293159484461726}\n",
      "Epoch 6/20\n"
     ]
    },
    {
     "name": "stderr",
     "output_type": "stream",
     "text": [
      "100%|██████████| 2339/2339 [03:19<00:00, 11.71it/s]\n"
     ]
    },
    {
     "name": "stdout",
     "output_type": "stream",
     "text": [
      "{'val_loss': 0.6327605744776054, 'val_accuracy': 0.850026723677178, 'precision': 0.8532589029649805, 'recall': 0.850026723677178, 'f1-score': 0.8499972294588116, 'macro_f1-score': 0.8515077311813644, 'balanced_accuracy': 0.8409130417583606, 'mcc': 0.8159539356701845, 'train_loss': 0.08969722300638094}\n",
      "Epoch 7/20\n"
     ]
    },
    {
     "name": "stderr",
     "output_type": "stream",
     "text": [
      "100%|██████████| 2339/2339 [03:19<00:00, 11.74it/s]\n"
     ]
    },
    {
     "name": "stdout",
     "output_type": "stream",
     "text": [
      "{'val_loss': 0.6790514580737282, 'val_accuracy': 0.8534473543559594, 'precision': 0.8539376184904389, 'recall': 0.8534473543559594, 'f1-score': 0.8531756891026917, 'macro_f1-score': 0.8490807141045438, 'balanced_accuracy': 0.8366954798572607, 'mcc': 0.819097117871982, 'train_loss': 0.0725632825527249}\n",
      "Early stopping.\n",
      "\n",
      "[Fold 3]\n",
      "Label distribution after resampling:\n",
      "  label 0: 5626\n",
      "  label 1: 1399\n",
      "  label 2: 8442\n",
      "  label 3: 10770\n",
      "  label 4: 1679\n",
      "  label 5: 5578\n",
      "  label 6: 1738\n",
      "  label 7: 2186\n",
      "model is bert-base-uncased\n"
     ]
    },
    {
     "name": "stderr",
     "output_type": "stream",
     "text": [
      "Some weights of BertForSequenceClassification were not initialized from the model checkpoint at bert-base-uncased and are newly initialized: ['classifier.bias', 'classifier.weight']\n",
      "You should probably TRAIN this model on a down-stream task to be able to use it for predictions and inference.\n"
     ]
    },
    {
     "name": "stdout",
     "output_type": "stream",
     "text": [
      "Epoch 1/20\n"
     ]
    },
    {
     "name": "stderr",
     "output_type": "stream",
     "text": [
      "100%|██████████| 2339/2339 [03:18<00:00, 11.78it/s]\n"
     ]
    },
    {
     "name": "stdout",
     "output_type": "stream",
     "text": [
      "{'val_loss': 0.4262377072475914, 'val_accuracy': 0.8545007483429549, 'precision': 0.8574789303709791, 'recall': 0.8545007483429549, 'f1-score': 0.8541649788905348, 'macro_f1-score': 0.8510005120614884, 'balanced_accuracy': 0.8534436315054461, 'mcc': 0.821643056062103, 'train_loss': 0.605279177097606}\n",
      "Epoch 2/20\n"
     ]
    },
    {
     "name": "stderr",
     "output_type": "stream",
     "text": [
      "100%|██████████| 2339/2339 [03:18<00:00, 11.81it/s]\n"
     ]
    },
    {
     "name": "stdout",
     "output_type": "stream",
     "text": [
      "{'val_loss': 0.3879629610886431, 'val_accuracy': 0.8669018601667736, 'precision': 0.8686223936852714, 'recall': 0.8669018601667736, 'f1-score': 0.8669815696033076, 'macro_f1-score': 0.867427655800543, 'balanced_accuracy': 0.859749947912982, 'mcc': 0.8361637891818668, 'train_loss': 0.35649297195604185}\n",
      "Epoch 3/20\n"
     ]
    },
    {
     "name": "stderr",
     "output_type": "stream",
     "text": [
      "100%|██████████| 2339/2339 [03:20<00:00, 11.66it/s]\n"
     ]
    },
    {
     "name": "stdout",
     "output_type": "stream",
     "text": [
      "{'val_loss': 0.40652990355832963, 'val_accuracy': 0.868505452212957, 'precision': 0.8710586228033922, 'recall': 0.868505452212957, 'f1-score': 0.8684885597393804, 'macro_f1-score': 0.8642913680762363, 'balanced_accuracy': 0.8463514392626748, 'mcc': 0.8376473504659344, 'train_loss': 0.25532848003064373}\n",
      "Epoch 4/20\n"
     ]
    },
    {
     "name": "stderr",
     "output_type": "stream",
     "text": [
      "100%|██████████| 2339/2339 [03:18<00:00, 11.77it/s]\n"
     ]
    },
    {
     "name": "stdout",
     "output_type": "stream",
     "text": [
      "{'val_loss': 0.47952019832749715, 'val_accuracy': 0.8644430190292923, 'precision': 0.8660604707495442, 'recall': 0.8644430190292923, 'f1-score': 0.8648338544128945, 'macro_f1-score': 0.8613143898299933, 'balanced_accuracy': 0.8585747725838093, 'mcc': 0.8333385298221286, 'train_loss': 0.17131725970322012}\n",
      "Epoch 5/20\n"
     ]
    },
    {
     "name": "stderr",
     "output_type": "stream",
     "text": [
      "100%|██████████| 2339/2339 [03:18<00:00, 11.79it/s]\n"
     ]
    },
    {
     "name": "stdout",
     "output_type": "stream",
     "text": [
      "{'val_loss': 0.5530238109473616, 'val_accuracy': 0.8492623476587556, 'precision': 0.8570797963933939, 'recall': 0.8492623476587556, 'f1-score': 0.8498216353968229, 'macro_f1-score': 0.8367538399131194, 'balanced_accuracy': 0.8684538116272251, 'mcc': 0.8175598776390153, 'train_loss': 0.12920602489531186}\n",
      "Early stopping.\n",
      "\n",
      "[Fold 4]\n",
      "Label distribution after resampling:\n",
      "  label 0: 5625\n",
      "  label 1: 1399\n",
      "  label 2: 8441\n",
      "  label 3: 10771\n",
      "  label 4: 1679\n",
      "  label 5: 5579\n",
      "  label 6: 1738\n",
      "  label 7: 2186\n",
      "model is bert-base-uncased\n"
     ]
    },
    {
     "name": "stderr",
     "output_type": "stream",
     "text": [
      "Some weights of BertForSequenceClassification were not initialized from the model checkpoint at bert-base-uncased and are newly initialized: ['classifier.bias', 'classifier.weight']\n",
      "You should probably TRAIN this model on a down-stream task to be able to use it for predictions and inference.\n"
     ]
    },
    {
     "name": "stdout",
     "output_type": "stream",
     "text": [
      "Epoch 1/20\n"
     ]
    },
    {
     "name": "stderr",
     "output_type": "stream",
     "text": [
      "100%|██████████| 2339/2339 [03:17<00:00, 11.81it/s]\n"
     ]
    },
    {
     "name": "stdout",
     "output_type": "stream",
     "text": [
      "{'val_loss': 0.4421056580849183, 'val_accuracy': 0.8438101347017318, 'precision': 0.8486968771463722, 'recall': 0.8438101347017318, 'f1-score': 0.8430825168648209, 'macro_f1-score': 0.847675612904417, 'balanced_accuracy': 0.8473138002059105, 'mcc': 0.8102800900997557, 'train_loss': 0.5834848057174463}\n",
      "Epoch 2/20\n"
     ]
    },
    {
     "name": "stderr",
     "output_type": "stream",
     "text": [
      "100%|██████████| 2339/2339 [03:18<00:00, 11.80it/s]\n"
     ]
    },
    {
     "name": "stdout",
     "output_type": "stream",
     "text": [
      "{'val_loss': 0.4814146251091336, 'val_accuracy': 0.8386786401539449, 'precision': 0.8466534934544675, 'recall': 0.8386786401539449, 'f1-score': 0.8379739133741535, 'macro_f1-score': 0.8420007472954418, 'balanced_accuracy': 0.856732402453442, 'mcc': 0.8056626380412271, 'train_loss': 0.3496513527353358}\n",
      "Epoch 3/20\n"
     ]
    },
    {
     "name": "stderr",
     "output_type": "stream",
     "text": [
      "100%|██████████| 2339/2339 [03:18<00:00, 11.81it/s]\n"
     ]
    },
    {
     "name": "stdout",
     "output_type": "stream",
     "text": [
      "{'val_loss': 0.4804361621172637, 'val_accuracy': 0.858242463117383, 'precision': 0.862929326164473, 'recall': 0.858242463117383, 'f1-score': 0.8584057402744776, 'macro_f1-score': 0.8546816965930043, 'balanced_accuracy': 0.8489623997016338, 'mcc': 0.826098423114246, 'train_loss': 0.24457728716693325}\n",
      "Epoch 4/20\n"
     ]
    },
    {
     "name": "stderr",
     "output_type": "stream",
     "text": [
      "100%|██████████| 2339/2339 [03:18<00:00, 11.81it/s]\n"
     ]
    },
    {
     "name": "stdout",
     "output_type": "stream",
     "text": [
      "{'val_loss': 0.5064450321965811, 'val_accuracy': 0.8546076544793672, 'precision': 0.8555940230514115, 'recall': 0.8546076544793672, 'f1-score': 0.8543031720392018, 'macro_f1-score': 0.8542951208726193, 'balanced_accuracy': 0.843305104138548, 'mcc': 0.8209326470687582, 'train_loss': 0.16159455134300812}\n",
      "Epoch 5/20\n"
     ]
    },
    {
     "name": "stderr",
     "output_type": "stream",
     "text": [
      "100%|██████████| 2339/2339 [03:18<00:00, 11.81it/s]\n"
     ]
    },
    {
     "name": "stdout",
     "output_type": "stream",
     "text": [
      "{'val_loss': 0.5089549828328702, 'val_accuracy': 0.8601667735728031, 'precision': 0.861613602262534, 'recall': 0.8601667735728031, 'f1-score': 0.8604628962597882, 'macro_f1-score': 0.8608630170012401, 'balanced_accuracy': 0.8583974635162688, 'mcc': 0.8280375665723172, 'train_loss': 0.11456613276371204}\n",
      "Epoch 6/20\n"
     ]
    },
    {
     "name": "stderr",
     "output_type": "stream",
     "text": [
      "100%|██████████| 2339/2339 [03:18<00:00, 11.81it/s]\n"
     ]
    },
    {
     "name": "stdout",
     "output_type": "stream",
     "text": [
      "{'val_loss': 0.6141244513008537, 'val_accuracy': 0.8525764378875348, 'precision': 0.8543682245000404, 'recall': 0.8525764378875348, 'f1-score': 0.8525688864811855, 'macro_f1-score': 0.8474198593520036, 'balanced_accuracy': 0.8506101048982608, 'mcc': 0.8186922990479057, 'train_loss': 0.0832400506606398}\n",
      "Epoch 7/20\n"
     ]
    },
    {
     "name": "stderr",
     "output_type": "stream",
     "text": [
      "100%|██████████| 2339/2339 [03:18<00:00, 11.81it/s]\n"
     ]
    },
    {
     "name": "stdout",
     "output_type": "stream",
     "text": [
      "{'val_loss': 0.5653327809758166, 'val_accuracy': 0.8602736797092153, 'precision': 0.8608823655727789, 'recall': 0.8602736797092153, 'f1-score': 0.8601734552218232, 'macro_f1-score': 0.8599352104294131, 'balanced_accuracy': 0.8546258839715134, 'mcc': 0.8277966958000789, 'train_loss': 0.07202289671115115}\n",
      "Epoch 8/20\n"
     ]
    },
    {
     "name": "stderr",
     "output_type": "stream",
     "text": [
      "100%|██████████| 2339/2339 [03:18<00:00, 11.81it/s]\n"
     ]
    },
    {
     "name": "stdout",
     "output_type": "stream",
     "text": [
      "{'val_loss': 0.6527890004151955, 'val_accuracy': 0.8596322428907419, 'precision': 0.8607803838959195, 'recall': 0.8596322428907419, 'f1-score': 0.8594862206897909, 'macro_f1-score': 0.8614983369026761, 'balanced_accuracy': 0.8598565924878454, 'mcc': 0.8271491389117787, 'train_loss': 0.06230220081957154}\n",
      "Epoch 9/20\n"
     ]
    },
    {
     "name": "stderr",
     "output_type": "stream",
     "text": [
      "100%|██████████| 2339/2339 [03:17<00:00, 11.82it/s]\n"
     ]
    },
    {
     "name": "stdout",
     "output_type": "stream",
     "text": [
      "{'val_loss': 0.7220970792976471, 'val_accuracy': 0.8510797519777635, 'precision': 0.8534205779852811, 'recall': 0.8510797519777635, 'f1-score': 0.850773917801868, 'macro_f1-score': 0.8523276010659417, 'balanced_accuracy': 0.8458617212521474, 'mcc': 0.8168623325717366, 'train_loss': 0.051908939819746244}\n",
      "Epoch 10/20\n"
     ]
    },
    {
     "name": "stderr",
     "output_type": "stream",
     "text": [
      "100%|██████████| 2339/2339 [03:17<00:00, 11.82it/s]\n"
     ]
    },
    {
     "name": "stdout",
     "output_type": "stream",
     "text": [
      "{'val_loss': 0.6334569996746225, 'val_accuracy': 0.8519350010690614, 'precision': 0.8539668621337988, 'recall': 0.8519350010690614, 'f1-score': 0.8518292343293018, 'macro_f1-score': 0.8544416119124922, 'balanced_accuracy': 0.8344844163579683, 'mcc': 0.8170198059257878, 'train_loss': 0.051025485842965616}\n",
      "Epoch 11/20\n"
     ]
    },
    {
     "name": "stderr",
     "output_type": "stream",
     "text": [
      "100%|██████████| 2339/2339 [03:18<00:00, 11.80it/s]\n"
     ]
    },
    {
     "name": "stdout",
     "output_type": "stream",
     "text": [
      "{'val_loss': 0.6924503594346376, 'val_accuracy': 0.858776993799444, 'precision': 0.8596327255523767, 'recall': 0.858776993799444, 'f1-score': 0.8586857807323225, 'macro_f1-score': 0.8572591032450191, 'balanced_accuracy': 0.8479719278195371, 'mcc': 0.8260897167240951, 'train_loss': 0.04302321443542615}\n",
      "Early stopping.\n",
      "\n",
      "[Fold 5]\n",
      "Label distribution after resampling:\n",
      "  label 0: 5625\n",
      "  label 1: 1399\n",
      "  label 2: 8441\n",
      "  label 3: 10771\n",
      "  label 4: 1678\n",
      "  label 5: 5579\n",
      "  label 6: 1738\n",
      "  label 7: 2187\n",
      "model is bert-base-uncased\n"
     ]
    },
    {
     "name": "stderr",
     "output_type": "stream",
     "text": [
      "Some weights of BertForSequenceClassification were not initialized from the model checkpoint at bert-base-uncased and are newly initialized: ['classifier.bias', 'classifier.weight']\n",
      "You should probably TRAIN this model on a down-stream task to be able to use it for predictions and inference.\n"
     ]
    },
    {
     "name": "stdout",
     "output_type": "stream",
     "text": [
      "Epoch 1/20\n"
     ]
    },
    {
     "name": "stderr",
     "output_type": "stream",
     "text": [
      "100%|██████████| 2339/2339 [03:18<00:00, 11.81it/s]\n"
     ]
    },
    {
     "name": "stdout",
     "output_type": "stream",
     "text": [
      "{'val_loss': 0.42797925977084117, 'val_accuracy': 0.8547145606157793, 'precision': 0.8562027760399, 'recall': 0.8547145606157793, 'f1-score': 0.8549330830832167, 'macro_f1-score': 0.8538926014222545, 'balanced_accuracy': 0.8476030512484454, 'mcc': 0.8209317041636842, 'train_loss': 0.5833251622496328}\n",
      "Epoch 2/20\n"
     ]
    },
    {
     "name": "stderr",
     "output_type": "stream",
     "text": [
      "100%|██████████| 2339/2339 [03:18<00:00, 11.80it/s]\n"
     ]
    },
    {
     "name": "stdout",
     "output_type": "stream",
     "text": [
      "{'val_loss': 0.4075032915474258, 'val_accuracy': 0.8577079324353218, 'precision': 0.8595913568549162, 'recall': 0.8577079324353218, 'f1-score': 0.8575085924368383, 'macro_f1-score': 0.8561144743405722, 'balanced_accuracy': 0.8693935565305952, 'mcc': 0.8263388343668921, 'train_loss': 0.3484784840124764}\n",
      "Epoch 3/20\n"
     ]
    },
    {
     "name": "stderr",
     "output_type": "stream",
     "text": [
      "100%|██████████| 2339/2339 [03:17<00:00, 11.81it/s]\n"
     ]
    },
    {
     "name": "stdout",
     "output_type": "stream",
     "text": [
      "{'val_loss': 0.4311492055734126, 'val_accuracy': 0.8608082103912764, 'precision': 0.862641152716714, 'recall': 0.8608082103912764, 'f1-score': 0.8607477674768262, 'macro_f1-score': 0.8652032121517474, 'balanced_accuracy': 0.849299092683694, 'mcc': 0.828471604878867, 'train_loss': 0.24471431465297078}\n",
      "Epoch 4/20\n"
     ]
    },
    {
     "name": "stderr",
     "output_type": "stream",
     "text": [
      "100%|██████████| 2339/2339 [03:17<00:00, 11.82it/s]\n"
     ]
    },
    {
     "name": "stdout",
     "output_type": "stream",
     "text": [
      "{'val_loss': 0.46080307865547193, 'val_accuracy': 0.8554629035706649, 'precision': 0.8574695813999492, 'recall': 0.8554629035706649, 'f1-score': 0.855302591984538, 'macro_f1-score': 0.8570594456688551, 'balanced_accuracy': 0.8407648384761932, 'mcc': 0.8217732634086891, 'train_loss': 0.1618063539507878}\n",
      "Epoch 5/20\n"
     ]
    },
    {
     "name": "stderr",
     "output_type": "stream",
     "text": [
      "100%|██████████| 2339/2339 [03:18<00:00, 11.81it/s]\n"
     ]
    },
    {
     "name": "stdout",
     "output_type": "stream",
     "text": [
      "{'val_loss': 0.5329073526848777, 'val_accuracy': 0.8586700876630319, 'precision': 0.8595758256157973, 'recall': 0.8586700876630319, 'f1-score': 0.8588398341015032, 'macro_f1-score': 0.8593869640447108, 'balanced_accuracy': 0.8618718724667104, 'mcc': 0.8263580729715945, 'train_loss': 0.11573876809281412}\n",
      "Epoch 6/20\n"
     ]
    },
    {
     "name": "stderr",
     "output_type": "stream",
     "text": [
      "100%|██████████| 2339/2339 [03:17<00:00, 11.82it/s]\n"
     ]
    },
    {
     "name": "stdout",
     "output_type": "stream",
     "text": [
      "{'val_loss': 0.5930748859109978, 'val_accuracy': 0.8550352790250161, 'precision': 0.8584397615062789, 'recall': 0.8550352790250161, 'f1-score': 0.8556997729053271, 'macro_f1-score': 0.8537337796782914, 'balanced_accuracy': 0.8577051914239522, 'mcc': 0.8217303489602475, 'train_loss': 0.09141081971527078}\n",
      "Early stopping.\n",
      "\n",
      " === bert-base-uncased + plain + none Final 5-fold Cross-Validation Results ===\n",
      "val_loss: 0.4856\n",
      "val_accuracy: 0.8639\n",
      "precision: 0.8651\n",
      "recall: 0.8639\n",
      "f1-score: 0.8639\n",
      "macro_f1-score: 0.8652\n",
      "balanced_accuracy: 0.8583\n",
      "mcc: 0.8323\n",
      "train_loss: 0.1979\n",
      "total_seconds: 8113.0000\n",
      "total_time: 2 hrs 15 mins 13 secs\n",
      "▶ Running: bert-base-uncased + cnn + none\n",
      "tokenizer is bert-base-uncased\n",
      "Using device: cuda\n",
      "CUDA Available: True\n",
      "CUDA Device: NVIDIA GeForce RTX 5070 Ti\n",
      "Current GPU Memory Allocated: 0.02 GB\n",
      "Current GPU Memory Cached: 3.15 GB\n",
      "\n",
      "[Fold 1]\n",
      "Label distribution after resampling:\n",
      "  label 0: 5626\n",
      "  label 1: 1399\n",
      "  label 2: 8442\n",
      "  label 3: 10770\n",
      "  label 4: 1678\n",
      "  label 5: 5578\n",
      "  label 6: 1737\n",
      "  label 7: 2187\n",
      "model is bert-base-uncased cnn\n",
      "Epoch 1/20\n"
     ]
    },
    {
     "name": "stderr",
     "output_type": "stream",
     "text": [
      "100%|██████████| 2339/2339 [03:23<00:00, 11.51it/s]\n"
     ]
    },
    {
     "name": "stdout",
     "output_type": "stream",
     "text": [
      "{'val_loss': 0.4558113966933173, 'val_accuracy': 0.8337787279529664, 'precision': 0.8455363122257732, 'recall': 0.8337787279529664, 'f1-score': 0.8349434942477861, 'macro_f1-score': 0.8399587884576121, 'balanced_accuracy': 0.8242068693199215, 'mcc': 0.7967176443853716, 'train_loss': 0.6044849964585784}\n",
      "Epoch 2/20\n"
     ]
    },
    {
     "name": "stderr",
     "output_type": "stream",
     "text": [
      "100%|██████████| 2339/2339 [03:22<00:00, 11.55it/s]\n"
     ]
    },
    {
     "name": "stdout",
     "output_type": "stream",
     "text": [
      "{'val_loss': 0.3939936126781325, 'val_accuracy': 0.865847140566542, 'precision': 0.8684333786493372, 'recall': 0.865847140566542, 'f1-score': 0.8662876536339786, 'macro_f1-score': 0.8642927013365416, 'balanced_accuracy': 0.8616196618395895, 'mcc': 0.8349430433411591, 'train_loss': 0.3740705076315213}\n",
      "Epoch 3/20\n"
     ]
    },
    {
     "name": "stderr",
     "output_type": "stream",
     "text": [
      "100%|██████████| 2339/2339 [03:22<00:00, 11.55it/s]\n"
     ]
    },
    {
     "name": "stdout",
     "output_type": "stream",
     "text": [
      "{'val_loss': 0.4597064834426388, 'val_accuracy': 0.8634954569748797, 'precision': 0.8687336703542986, 'recall': 0.8634954569748797, 'f1-score': 0.864309913149865, 'macro_f1-score': 0.8642267176724898, 'balanced_accuracy': 0.8583686399666328, 'mcc': 0.8326268541479744, 'train_loss': 0.2687904822177048}\n",
      "Epoch 4/20\n"
     ]
    },
    {
     "name": "stderr",
     "output_type": "stream",
     "text": [
      "100%|██████████| 2339/2339 [03:22<00:00, 11.54it/s]\n"
     ]
    },
    {
     "name": "stdout",
     "output_type": "stream",
     "text": [
      "{'val_loss': 0.4556966141980683, 'val_accuracy': 0.8595403527525387, 'precision': 0.8634919180522946, 'recall': 0.8595403527525387, 'f1-score': 0.8600128539919163, 'macro_f1-score': 0.8599550867955086, 'balanced_accuracy': 0.8660027900634055, 'mcc': 0.8285547519328837, 'train_loss': 0.1912307644411428}\n",
      "Epoch 5/20\n"
     ]
    },
    {
     "name": "stderr",
     "output_type": "stream",
     "text": [
      "100%|██████████| 2339/2339 [03:22<00:00, 11.56it/s]\n"
     ]
    },
    {
     "name": "stdout",
     "output_type": "stream",
     "text": [
      "{'val_loss': 0.5046370221222313, 'val_accuracy': 0.8624265098877606, 'precision': 0.863355811677079, 'recall': 0.8624265098877606, 'f1-score': 0.8621987733725304, 'macro_f1-score': 0.8579630859589868, 'balanced_accuracy': 0.8665894779943586, 'mcc': 0.8313414036761134, 'train_loss': 0.13831928415276115}\n",
      "Early stopping.\n",
      "\n",
      "[Fold 2]\n",
      "Label distribution after resampling:\n",
      "  label 0: 5626\n",
      "  label 1: 1400\n",
      "  label 2: 8442\n",
      "  label 3: 10770\n",
      "  label 4: 1678\n",
      "  label 5: 5578\n",
      "  label 6: 1737\n",
      "  label 7: 2186\n",
      "model is bert-base-uncased cnn\n",
      "Epoch 1/20\n"
     ]
    },
    {
     "name": "stderr",
     "output_type": "stream",
     "text": [
      "100%|██████████| 2339/2339 [03:22<00:00, 11.55it/s]\n"
     ]
    },
    {
     "name": "stdout",
     "output_type": "stream",
     "text": [
      "{'val_loss': 0.44394323120896634, 'val_accuracy': 0.8478888295029396, 'precision': 0.851171114564696, 'recall': 0.8478888295029396, 'f1-score': 0.8483230628795704, 'macro_f1-score': 0.8503343159250643, 'balanced_accuracy': 0.851093519443081, 'mcc': 0.8130646016061085, 'train_loss': 0.6148056813387114}\n",
      "Epoch 2/20\n"
     ]
    },
    {
     "name": "stderr",
     "output_type": "stream",
     "text": [
      "100%|██████████| 2339/2339 [03:22<00:00, 11.56it/s]\n"
     ]
    },
    {
     "name": "stdout",
     "output_type": "stream",
     "text": [
      "{'val_loss': 0.4485631600659118, 'val_accuracy': 0.8440406199893106, 'precision': 0.8498359996927574, 'recall': 0.8440406199893106, 'f1-score': 0.843376283330375, 'macro_f1-score': 0.8471139157384344, 'balanced_accuracy': 0.8355180741649899, 'mcc': 0.8086657185373858, 'train_loss': 0.37115432856132224}\n",
      "Epoch 3/20\n"
     ]
    },
    {
     "name": "stderr",
     "output_type": "stream",
     "text": [
      "100%|██████████| 2339/2339 [03:22<00:00, 11.55it/s]\n"
     ]
    },
    {
     "name": "stdout",
     "output_type": "stream",
     "text": [
      "{'val_loss': 0.4212798884138465, 'val_accuracy': 0.863281667557456, 'precision': 0.863815391441343, 'recall': 0.863281667557456, 'f1-score': 0.8631756476755214, 'macro_f1-score': 0.8630971345931742, 'balanced_accuracy': 0.8656691961973468, 'mcc': 0.8321335014937989, 'train_loss': 0.2703164476967389}\n",
      "Epoch 4/20\n"
     ]
    },
    {
     "name": "stderr",
     "output_type": "stream",
     "text": [
      "100%|██████████| 2339/2339 [03:22<00:00, 11.55it/s]\n"
     ]
    },
    {
     "name": "stdout",
     "output_type": "stream",
     "text": [
      "{'val_loss': 0.4777026855912155, 'val_accuracy': 0.8539818278995189, 'precision': 0.8561725086457965, 'recall': 0.8539818278995189, 'f1-score': 0.8530937451274743, 'macro_f1-score': 0.8509220501118282, 'balanced_accuracy': 0.8428969725866863, 'mcc': 0.8201232863341074, 'train_loss': 0.1905223564603161}\n",
      "Epoch 5/20\n"
     ]
    },
    {
     "name": "stderr",
     "output_type": "stream",
     "text": [
      "100%|██████████| 2339/2339 [03:22<00:00, 11.55it/s]\n"
     ]
    },
    {
     "name": "stdout",
     "output_type": "stream",
     "text": [
      "{'val_loss': 0.5520864843964004, 'val_accuracy': 0.8528059861036879, 'precision': 0.8536531497474994, 'recall': 0.8528059861036879, 'f1-score': 0.8527431677682642, 'macro_f1-score': 0.8513743823108324, 'balanced_accuracy': 0.8572378690963984, 'mcc': 0.8196560996355086, 'train_loss': 0.1358543490492685}\n",
      "Epoch 6/20\n"
     ]
    },
    {
     "name": "stderr",
     "output_type": "stream",
     "text": [
      "100%|██████████| 2339/2339 [03:22<00:00, 11.53it/s]\n"
     ]
    },
    {
     "name": "stdout",
     "output_type": "stream",
     "text": [
      "{'val_loss': 0.6180192024212203, 'val_accuracy': 0.8515232495991448, 'precision': 0.8521671267996977, 'recall': 0.8515232495991448, 'f1-score': 0.8515852981798141, 'macro_f1-score': 0.8557540296863317, 'balanced_accuracy': 0.8534579544674268, 'mcc': 0.8174375955251024, 'train_loss': 0.103800337152986}\n",
      "Early stopping.\n",
      "\n",
      "[Fold 3]\n",
      "Label distribution after resampling:\n",
      "  label 0: 5626\n",
      "  label 1: 1399\n",
      "  label 2: 8442\n",
      "  label 3: 10770\n",
      "  label 4: 1679\n",
      "  label 5: 5578\n",
      "  label 6: 1738\n",
      "  label 7: 2186\n",
      "model is bert-base-uncased cnn\n",
      "Epoch 1/20\n"
     ]
    },
    {
     "name": "stderr",
     "output_type": "stream",
     "text": [
      "100%|██████████| 2339/2339 [03:22<00:00, 11.54it/s]\n"
     ]
    },
    {
     "name": "stdout",
     "output_type": "stream",
     "text": [
      "{'val_loss': 0.4147444424880111, 'val_accuracy': 0.8577079324353218, 'precision': 0.8593518892829499, 'recall': 0.8577079324353218, 'f1-score': 0.8576001238058587, 'macro_f1-score': 0.8527117871477196, 'balanced_accuracy': 0.8428800792296232, 'mcc': 0.8248585726328129, 'train_loss': 0.6137150830233667}\n",
      "Epoch 2/20\n"
     ]
    },
    {
     "name": "stderr",
     "output_type": "stream",
     "text": [
      "100%|██████████| 2339/2339 [03:22<00:00, 11.55it/s]\n"
     ]
    },
    {
     "name": "stdout",
     "output_type": "stream",
     "text": [
      "{'val_loss': 0.3857130911010198, 'val_accuracy': 0.869895231986316, 'precision': 0.8707033941766492, 'recall': 0.869895231986316, 'f1-score': 0.8697621801449784, 'macro_f1-score': 0.8698163210835954, 'balanced_accuracy': 0.862279058726143, 'mcc': 0.8398197767067784, 'train_loss': 0.37607827592782866}\n",
      "Epoch 3/20\n"
     ]
    },
    {
     "name": "stderr",
     "output_type": "stream",
     "text": [
      "100%|██████████| 2339/2339 [03:22<00:00, 11.56it/s]\n"
     ]
    },
    {
     "name": "stdout",
     "output_type": "stream",
     "text": [
      "{'val_loss': 0.41321041002933284, 'val_accuracy': 0.8705366688047894, 'precision': 0.8736828486350968, 'recall': 0.8705366688047894, 'f1-score': 0.8701376242488739, 'macro_f1-score': 0.8635631476460518, 'balanced_accuracy': 0.8455111726909299, 'mcc': 0.8404586818824398, 'train_loss': 0.2720212526428312}\n",
      "Epoch 4/20\n"
     ]
    },
    {
     "name": "stderr",
     "output_type": "stream",
     "text": [
      "100%|██████████| 2339/2339 [03:22<00:00, 11.55it/s]\n"
     ]
    },
    {
     "name": "stdout",
     "output_type": "stream",
     "text": [
      "{'val_loss': 0.46363399090070245, 'val_accuracy': 0.8654051742570024, 'precision': 0.8674981475877113, 'recall': 0.8654051742570024, 'f1-score': 0.8655162737880188, 'macro_f1-score': 0.8612001026526619, 'balanced_accuracy': 0.873072938898027, 'mcc': 0.8354588695929183, 'train_loss': 0.18449448962095055}\n",
      "Epoch 5/20\n"
     ]
    },
    {
     "name": "stderr",
     "output_type": "stream",
     "text": [
      "100%|██████████| 2339/2339 [03:22<00:00, 11.56it/s]\n"
     ]
    },
    {
     "name": "stdout",
     "output_type": "stream",
     "text": [
      "{'val_loss': 0.5176415875981936, 'val_accuracy': 0.8656189865298268, 'precision': 0.8679636779419527, 'recall': 0.8656189865298268, 'f1-score': 0.8657619511475466, 'macro_f1-score': 0.8644852617377858, 'balanced_accuracy': 0.8692881267047381, 'mcc': 0.8356223865680662, 'train_loss': 0.13110107429795023}\n",
      "Early stopping.\n",
      "\n",
      "[Fold 4]\n",
      "Label distribution after resampling:\n",
      "  label 0: 5625\n",
      "  label 1: 1399\n",
      "  label 2: 8441\n",
      "  label 3: 10771\n",
      "  label 4: 1679\n",
      "  label 5: 5579\n",
      "  label 6: 1738\n",
      "  label 7: 2186\n",
      "model is bert-base-uncased cnn\n",
      "Epoch 1/20\n"
     ]
    },
    {
     "name": "stderr",
     "output_type": "stream",
     "text": [
      "100%|██████████| 2339/2339 [03:22<00:00, 11.54it/s]\n"
     ]
    },
    {
     "name": "stdout",
     "output_type": "stream",
     "text": [
      "{'val_loss': 0.43061710925629504, 'val_accuracy': 0.8474449433397477, 'precision': 0.8507191295674535, 'recall': 0.8474449433397477, 'f1-score': 0.8478175843231293, 'macro_f1-score': 0.8477647237926107, 'balanced_accuracy': 0.854823479113519, 'mcc': 0.8135201227719246, 'train_loss': 0.608398055768436}\n",
      "Epoch 2/20\n"
     ]
    },
    {
     "name": "stderr",
     "output_type": "stream",
     "text": [
      "100%|██████████| 2339/2339 [03:22<00:00, 11.53it/s]\n"
     ]
    },
    {
     "name": "stdout",
     "output_type": "stream",
     "text": [
      "{'val_loss': 0.4028575298495782, 'val_accuracy': 0.8577079324353218, 'precision': 0.8605328928958734, 'recall': 0.8577079324353218, 'f1-score': 0.857959120706475, 'macro_f1-score': 0.8578435292877196, 'balanced_accuracy': 0.8585370302278131, 'mcc': 0.8250939324938171, 'train_loss': 0.368236868899091}\n",
      "Epoch 3/20\n"
     ]
    },
    {
     "name": "stderr",
     "output_type": "stream",
     "text": [
      "100%|██████████| 2339/2339 [03:22<00:00, 11.55it/s]\n"
     ]
    },
    {
     "name": "stdout",
     "output_type": "stream",
     "text": [
      "{'val_loss': 0.4389719670964803, 'val_accuracy': 0.8602736797092153, 'precision': 0.8629704270135422, 'recall': 0.8602736797092153, 'f1-score': 0.8599507777674504, 'macro_f1-score': 0.859166975872075, 'balanced_accuracy': 0.8712678657755062, 'mcc': 0.8300217180125018, 'train_loss': 0.26391418438341885}\n",
      "Epoch 4/20\n"
     ]
    },
    {
     "name": "stderr",
     "output_type": "stream",
     "text": [
      "100%|██████████| 2339/2339 [03:22<00:00, 11.56it/s]\n"
     ]
    },
    {
     "name": "stdout",
     "output_type": "stream",
     "text": [
      "{'val_loss': 0.47495891268476526, 'val_accuracy': 0.8639084883472311, 'precision': 0.8651018335986818, 'recall': 0.8639084883472311, 'f1-score': 0.8636929064097285, 'macro_f1-score': 0.8640493632253596, 'balanced_accuracy': 0.850535580670879, 'mcc': 0.8320130079230642, 'train_loss': 0.18269714143945645}\n",
      "Epoch 5/20\n"
     ]
    },
    {
     "name": "stderr",
     "output_type": "stream",
     "text": [
      "100%|██████████| 2339/2339 [03:22<00:00, 11.56it/s]\n"
     ]
    },
    {
     "name": "stdout",
     "output_type": "stream",
     "text": [
      "{'val_loss': 0.5318745147604018, 'val_accuracy': 0.8632670515287577, 'precision': 0.8641008795648834, 'recall': 0.8632670515287577, 'f1-score': 0.8630996804666033, 'macro_f1-score': 0.8642324734929407, 'balanced_accuracy': 0.8497721694559266, 'mcc': 0.8311746771646241, 'train_loss': 0.127239718099679}\n",
      "Epoch 6/20\n"
     ]
    },
    {
     "name": "stderr",
     "output_type": "stream",
     "text": [
      "100%|██████████| 2339/2339 [03:22<00:00, 11.57it/s]\n"
     ]
    },
    {
     "name": "stdout",
     "output_type": "stream",
     "text": [
      "{'val_loss': 0.5502345020281804, 'val_accuracy': 0.8615565533461621, 'precision': 0.8638238564519438, 'recall': 0.8615565533461621, 'f1-score': 0.8616932670619272, 'macro_f1-score': 0.8621032044553776, 'balanced_accuracy': 0.8466053348113054, 'mcc': 0.8290492005782001, 'train_loss': 0.09794339659620219}\n",
      "Epoch 7/20\n"
     ]
    },
    {
     "name": "stderr",
     "output_type": "stream",
     "text": [
      "100%|██████████| 2339/2339 [03:22<00:00, 11.55it/s]\n"
     ]
    },
    {
     "name": "stdout",
     "output_type": "stream",
     "text": [
      "{'val_loss': 0.6292614846118193, 'val_accuracy': 0.8507590335685268, 'precision': 0.8534428376385754, 'recall': 0.8507590335685268, 'f1-score': 0.8507917682389359, 'macro_f1-score': 0.8529761136205399, 'balanced_accuracy': 0.843756393558027, 'mcc': 0.816957090838999, 'train_loss': 0.07437078570038971}\n",
      "Epoch 8/20\n"
     ]
    },
    {
     "name": "stderr",
     "output_type": "stream",
     "text": [
      "100%|██████████| 2339/2339 [03:22<00:00, 11.56it/s]\n"
     ]
    },
    {
     "name": "stdout",
     "output_type": "stream",
     "text": [
      "{'val_loss': 0.6192043208334054, 'val_accuracy': 0.8548214667521916, 'precision': 0.857369010875801, 'recall': 0.8548214667521916, 'f1-score': 0.8550805498743665, 'macro_f1-score': 0.8549418850155914, 'balanced_accuracy': 0.8493598770856143, 'mcc': 0.8219147811759313, 'train_loss': 0.06611564594926658}\n",
      "Early stopping.\n",
      "\n",
      "[Fold 5]\n",
      "Label distribution after resampling:\n",
      "  label 0: 5625\n",
      "  label 1: 1399\n",
      "  label 2: 8441\n",
      "  label 3: 10771\n",
      "  label 4: 1678\n",
      "  label 5: 5579\n",
      "  label 6: 1738\n",
      "  label 7: 2187\n",
      "model is bert-base-uncased cnn\n",
      "Epoch 1/20\n"
     ]
    },
    {
     "name": "stderr",
     "output_type": "stream",
     "text": [
      "100%|██████████| 2339/2339 [03:22<00:00, 11.55it/s]\n"
     ]
    },
    {
     "name": "stdout",
     "output_type": "stream",
     "text": [
      "{'val_loss': 0.5374698619875643, 'val_accuracy': 0.8254222792388283, 'precision': 0.8402520948515381, 'recall': 0.8254222792388283, 'f1-score': 0.8245439068673626, 'macro_f1-score': 0.8254730553956915, 'balanced_accuracy': 0.8589423956717, 'mcc': 0.7919376692105865, 'train_loss': 0.605688815403693}\n",
      "Epoch 2/20\n"
     ]
    },
    {
     "name": "stderr",
     "output_type": "stream",
     "text": [
      "100%|██████████| 2339/2339 [03:22<00:00, 11.53it/s]\n"
     ]
    },
    {
     "name": "stdout",
     "output_type": "stream",
     "text": [
      "{'val_loss': 0.43217362423674166, 'val_accuracy': 0.8524695317511225, 'precision': 0.8554047009708048, 'recall': 0.8524695317511225, 'f1-score': 0.8521999238471766, 'macro_f1-score': 0.8507895677212745, 'balanced_accuracy': 0.8579998090752041, 'mcc': 0.819477665827473, 'train_loss': 0.37365312086176977}\n",
      "Epoch 3/20\n"
     ]
    },
    {
     "name": "stderr",
     "output_type": "stream",
     "text": [
      "100%|██████████| 2339/2339 [03:22<00:00, 11.56it/s]\n"
     ]
    },
    {
     "name": "stdout",
     "output_type": "stream",
     "text": [
      "{'val_loss': 0.4332028935352961, 'val_accuracy': 0.8625187085738721, 'precision': 0.8651613477513683, 'recall': 0.8625187085738721, 'f1-score': 0.8625971350460653, 'macro_f1-score': 0.8618355227942704, 'balanced_accuracy': 0.8428168271244221, 'mcc': 0.8301340829260743, 'train_loss': 0.2713058773329057}\n",
      "Epoch 4/20\n"
     ]
    },
    {
     "name": "stderr",
     "output_type": "stream",
     "text": [
      "100%|██████████| 2339/2339 [03:22<00:00, 11.54it/s]\n"
     ]
    },
    {
     "name": "stdout",
     "output_type": "stream",
     "text": [
      "{'val_loss': 0.49242401271700287, 'val_accuracy': 0.8642292067564679, 'precision': 0.8654718052137541, 'recall': 0.8642292067564679, 'f1-score': 0.863526069307697, 'macro_f1-score': 0.8667651160179943, 'balanced_accuracy': 0.871790469070839, 'mcc': 0.8342418565139296, 'train_loss': 0.18647489578922227}\n",
      "Epoch 5/20\n"
     ]
    },
    {
     "name": "stderr",
     "output_type": "stream",
     "text": [
      "100%|██████████| 2339/2339 [03:22<00:00, 11.55it/s]\n"
     ]
    },
    {
     "name": "stdout",
     "output_type": "stream",
     "text": [
      "{'val_loss': 0.5323498724479204, 'val_accuracy': 0.864763737438529, 'precision': 0.8652784077517887, 'recall': 0.864763737438529, 'f1-score': 0.8648920627839054, 'macro_f1-score': 0.8652345640184611, 'balanced_accuracy': 0.8643238829240965, 'mcc': 0.8335471887341356, 'train_loss': 0.13856800101483827}\n",
      "Epoch 6/20\n"
     ]
    },
    {
     "name": "stderr",
     "output_type": "stream",
     "text": [
      "100%|██████████| 2339/2339 [03:22<00:00, 11.56it/s]\n"
     ]
    },
    {
     "name": "stdout",
     "output_type": "stream",
     "text": [
      "{'val_loss': 0.6353481465357587, 'val_accuracy': 0.8539662176608938, 'precision': 0.8575898612378301, 'recall': 0.8539662176608938, 'f1-score': 0.8541358715209061, 'macro_f1-score': 0.8514470189403966, 'balanced_accuracy': 0.868039388612682, 'mcc': 0.8219665659146947, 'train_loss': 0.10193914999337664}\n",
      "Epoch 7/20\n"
     ]
    },
    {
     "name": "stderr",
     "output_type": "stream",
     "text": [
      "100%|██████████| 2339/2339 [03:22<00:00, 11.55it/s]\n"
     ]
    },
    {
     "name": "stdout",
     "output_type": "stream",
     "text": [
      "{'val_loss': 0.6448092068433084, 'val_accuracy': 0.8548214667521916, 'precision': 0.8566842035293664, 'recall': 0.8548214667521916, 'f1-score': 0.8550896781047664, 'macro_f1-score': 0.8507433782725462, 'balanced_accuracy': 0.8539206217366913, 'mcc': 0.8216534156686425, 'train_loss': 0.08334485109950067}\n",
      "Early stopping.\n",
      "\n",
      " === bert-base-uncased + cnn + none Final 5-fold Cross-Validation Results ===\n",
      "val_loss: 0.4451\n",
      "val_accuracy: 0.8653\n",
      "precision: 0.8665\n",
      "recall: 0.8653\n",
      "f1-score: 0.8652\n",
      "macro_f1-score: 0.8656\n",
      "balanced_accuracy: 0.8622\n",
      "mcc: 0.8345\n",
      "train_loss: 0.2668\n",
      "total_seconds: 7121.0000\n",
      "total_time: 1 hrs 58 mins 41 secs\n",
      "▶ Running: bert-base-uncased + lstm + none\n",
      "tokenizer is bert-base-uncased\n",
      "Using device: cuda\n",
      "CUDA Available: True\n",
      "CUDA Device: NVIDIA GeForce RTX 5070 Ti\n",
      "Current GPU Memory Allocated: 0.02 GB\n",
      "Current GPU Memory Cached: 3.16 GB\n",
      "\n",
      "[Fold 1]\n",
      "Label distribution after resampling:\n",
      "  label 0: 5626\n",
      "  label 1: 1399\n",
      "  label 2: 8442\n",
      "  label 3: 10770\n",
      "  label 4: 1678\n",
      "  label 5: 5578\n",
      "  label 6: 1737\n",
      "  label 7: 2187\n",
      "model is bert-base-uncased lstm\n",
      "Epoch 1/20\n"
     ]
    },
    {
     "name": "stderr",
     "output_type": "stream",
     "text": [
      "100%|██████████| 2339/2339 [03:37<00:00, 10.76it/s]\n"
     ]
    },
    {
     "name": "stdout",
     "output_type": "stream",
     "text": [
      "{'val_loss': 0.44907260042989355, 'val_accuracy': 0.8484233030464992, 'precision': 0.8521896598081279, 'recall': 0.8484233030464992, 'f1-score': 0.8483011330340111, 'macro_f1-score': 0.8415362665980889, 'balanced_accuracy': 0.8240143521827191, 'mcc': 0.8129170047588451, 'train_loss': 0.6021066579701759}\n",
      "Epoch 2/20\n"
     ]
    },
    {
     "name": "stderr",
     "output_type": "stream",
     "text": [
      "100%|██████████| 2339/2339 [03:37<00:00, 10.76it/s]\n"
     ]
    },
    {
     "name": "stdout",
     "output_type": "stream",
     "text": [
      "{'val_loss': 0.43171056947455955, 'val_accuracy': 0.8556921432389096, 'precision': 0.8582260634034261, 'recall': 0.8556921432389096, 'f1-score': 0.8549650985863699, 'macro_f1-score': 0.8513902377256132, 'balanced_accuracy': 0.848284809057152, 'mcc': 0.822382752038992, 'train_loss': 0.36879405478997435}\n",
      "Epoch 3/20\n"
     ]
    },
    {
     "name": "stderr",
     "output_type": "stream",
     "text": [
      "100%|██████████| 2339/2339 [03:37<00:00, 10.74it/s]\n"
     ]
    },
    {
     "name": "stdout",
     "output_type": "stream",
     "text": [
      "{'val_loss': 0.4098346666202076, 'val_accuracy': 0.8672367717797969, 'precision': 0.8675237534319422, 'recall': 0.8672367717797969, 'f1-score': 0.8669488441402795, 'macro_f1-score': 0.8627011369094642, 'balanced_accuracy': 0.861074217944269, 'mcc': 0.8369484941642956, 'train_loss': 0.2697208680864702}\n",
      "Epoch 4/20\n"
     ]
    },
    {
     "name": "stderr",
     "output_type": "stream",
     "text": [
      "100%|██████████| 2339/2339 [03:37<00:00, 10.78it/s]\n"
     ]
    },
    {
     "name": "stdout",
     "output_type": "stream",
     "text": [
      "{'val_loss': 0.49098170867436525, 'val_accuracy': 0.857830037413148, 'precision': 0.8595712348326513, 'recall': 0.857830037413148, 'f1-score': 0.8575350756282613, 'macro_f1-score': 0.8526733313755654, 'balanced_accuracy': 0.8545003859155859, 'mcc': 0.8260821846458047, 'train_loss': 0.18869137804023126}\n",
      "Epoch 5/20\n"
     ]
    },
    {
     "name": "stderr",
     "output_type": "stream",
     "text": [
      "100%|██████████| 2339/2339 [03:36<00:00, 10.80it/s]\n"
     ]
    },
    {
     "name": "stdout",
     "output_type": "stream",
     "text": [
      "{'val_loss': 0.5012966423311358, 'val_accuracy': 0.860502405130946, 'precision': 0.8620382485068419, 'recall': 0.860502405130946, 'f1-score': 0.8608290456033351, 'macro_f1-score': 0.8584787172573536, 'balanced_accuracy': 0.850908152853709, 'mcc': 0.8282186534537017, 'train_loss': 0.13824395178466822}\n",
      "Epoch 6/20\n"
     ]
    },
    {
     "name": "stderr",
     "output_type": "stream",
     "text": [
      "100%|██████████| 2339/2339 [03:36<00:00, 10.78it/s]\n"
     ]
    },
    {
     "name": "stdout",
     "output_type": "stream",
     "text": [
      "{'val_loss': 0.5915313461628289, 'val_accuracy': 0.8566541956173169, 'precision': 0.8602807158814236, 'recall': 0.8566541956173169, 'f1-score': 0.8570827471208433, 'macro_f1-score': 0.856581334946007, 'balanced_accuracy': 0.8629316055117945, 'mcc': 0.8248679586005696, 'train_loss': 0.10800366388839304}\n",
      "Early stopping.\n",
      "\n",
      "[Fold 2]\n",
      "Label distribution after resampling:\n",
      "  label 0: 5626\n",
      "  label 1: 1400\n",
      "  label 2: 8442\n",
      "  label 3: 10770\n",
      "  label 4: 1678\n",
      "  label 5: 5578\n",
      "  label 6: 1737\n",
      "  label 7: 2186\n",
      "model is bert-base-uncased lstm\n",
      "Epoch 1/20\n"
     ]
    },
    {
     "name": "stderr",
     "output_type": "stream",
     "text": [
      "100%|██████████| 2339/2339 [03:37<00:00, 10.78it/s]\n"
     ]
    },
    {
     "name": "stdout",
     "output_type": "stream",
     "text": [
      "{'val_loss': 0.4546069291476001, 'val_accuracy': 0.8439337252805986, 'precision': 0.8454268028190203, 'recall': 0.8439337252805986, 'f1-score': 0.8439040008123321, 'macro_f1-score': 0.8453467866841536, 'balanced_accuracy': 0.8450689784887817, 'mcc': 0.8077675160072176, 'train_loss': 0.5969944558751002}\n",
      "Epoch 2/20\n"
     ]
    },
    {
     "name": "stderr",
     "output_type": "stream",
     "text": [
      "100%|██████████| 2339/2339 [03:36<00:00, 10.80it/s]\n"
     ]
    },
    {
     "name": "stdout",
     "output_type": "stream",
     "text": [
      "{'val_loss': 0.4428874458289809, 'val_accuracy': 0.848743987172635, 'precision': 0.8540165840860585, 'recall': 0.848743987172635, 'f1-score': 0.8485958032764453, 'macro_f1-score': 0.8513376550134877, 'balanced_accuracy': 0.8409370116599634, 'mcc': 0.8143415901637379, 'train_loss': 0.3681372113712212}\n",
      "Epoch 3/20\n"
     ]
    },
    {
     "name": "stderr",
     "output_type": "stream",
     "text": [
      "100%|██████████| 2339/2339 [03:36<00:00, 10.79it/s]\n"
     ]
    },
    {
     "name": "stdout",
     "output_type": "stream",
     "text": [
      "{'val_loss': 0.492740814998332, 'val_accuracy': 0.8498129342597541, 'precision': 0.852483064551541, 'recall': 0.8498129342597541, 'f1-score': 0.8489631873246988, 'macro_f1-score': 0.8510540945258538, 'balanced_accuracy': 0.8602171710411005, 'mcc': 0.8173354396569348, 'train_loss': 0.26425434702425216}\n",
      "Epoch 4/20\n"
     ]
    },
    {
     "name": "stderr",
     "output_type": "stream",
     "text": [
      "100%|██████████| 2339/2339 [03:37<00:00, 10.76it/s]\n"
     ]
    },
    {
     "name": "stdout",
     "output_type": "stream",
     "text": [
      "{'val_loss': 0.5227430410476195, 'val_accuracy': 0.8456440406199893, 'precision': 0.8469477667521524, 'recall': 0.8456440406199893, 'f1-score': 0.844805978531911, 'macro_f1-score': 0.8430143431334098, 'balanced_accuracy': 0.8469324597863983, 'mcc': 0.811265135730433, 'train_loss': 0.18587687456153745}\n",
      "Epoch 5/20\n"
     ]
    },
    {
     "name": "stderr",
     "output_type": "stream",
     "text": [
      "100%|██████████| 2339/2339 [03:37<00:00, 10.77it/s]\n"
     ]
    },
    {
     "name": "stdout",
     "output_type": "stream",
     "text": [
      "{'val_loss': 0.5458249784520485, 'val_accuracy': 0.8516301443078568, 'precision': 0.8528429666348522, 'recall': 0.8516301443078568, 'f1-score': 0.8509080904951584, 'macro_f1-score': 0.8500015961932812, 'balanced_accuracy': 0.851650243194016, 'mcc': 0.8182487101983009, 'train_loss': 0.13600757725950124}\n",
      "Early stopping.\n",
      "\n",
      "[Fold 3]\n",
      "Label distribution after resampling:\n",
      "  label 0: 5626\n",
      "  label 1: 1399\n",
      "  label 2: 8442\n",
      "  label 3: 10770\n",
      "  label 4: 1679\n",
      "  label 5: 5578\n",
      "  label 6: 1738\n",
      "  label 7: 2186\n",
      "model is bert-base-uncased lstm\n",
      "Epoch 1/20\n"
     ]
    },
    {
     "name": "stderr",
     "output_type": "stream",
     "text": [
      "100%|██████████| 2339/2339 [03:36<00:00, 10.78it/s]\n"
     ]
    },
    {
     "name": "stdout",
     "output_type": "stream",
     "text": [
      "{'val_loss': 0.4300557399216371, 'val_accuracy': 0.858242463117383, 'precision': 0.861776676520493, 'recall': 0.858242463117383, 'f1-score': 0.8584177898945045, 'macro_f1-score': 0.857088204329397, 'balanced_accuracy': 0.8324564551701893, 'mcc': 0.8247147065710276, 'train_loss': 0.6255481436867752}\n",
      "Epoch 2/20\n"
     ]
    },
    {
     "name": "stderr",
     "output_type": "stream",
     "text": [
      "100%|██████████| 2339/2339 [03:37<00:00, 10.77it/s]\n"
     ]
    },
    {
     "name": "stdout",
     "output_type": "stream",
     "text": [
      "{'val_loss': 0.425846149899766, 'val_accuracy': 0.8556767158434894, 'precision': 0.8603397982890947, 'recall': 0.8556767158434894, 'f1-score': 0.85587998475563, 'macro_f1-score': 0.8490595203346039, 'balanced_accuracy': 0.8639970591017179, 'mcc': 0.8241585053752754, 'train_loss': 0.3699990651869287}\n",
      "Epoch 3/20\n"
     ]
    },
    {
     "name": "stderr",
     "output_type": "stream",
     "text": [
      "100%|██████████| 2339/2339 [03:37<00:00, 10.77it/s]\n"
     ]
    },
    {
     "name": "stdout",
     "output_type": "stream",
     "text": [
      "{'val_loss': 0.3908787376478187, 'val_accuracy': 0.8724609792602095, 'precision': 0.873075451055633, 'recall': 0.8724609792602095, 'f1-score': 0.8724997018386275, 'macro_f1-score': 0.8723985918895949, 'balanced_accuracy': 0.8754292913179373, 'mcc': 0.8434743029470723, 'train_loss': 0.26538932779023455}\n",
      "Epoch 4/20\n"
     ]
    },
    {
     "name": "stderr",
     "output_type": "stream",
     "text": [
      "100%|██████████| 2339/2339 [03:36<00:00, 10.80it/s]\n"
     ]
    },
    {
     "name": "stdout",
     "output_type": "stream",
     "text": [
      "{'val_loss': 0.46411057672121075, 'val_accuracy': 0.8566388710711995, 'precision': 0.8602178346643948, 'recall': 0.8566388710711995, 'f1-score': 0.8564101562553558, 'macro_f1-score': 0.8524517475843154, 'balanced_accuracy': 0.8375104317045096, 'mcc': 0.8230480314289832, 'train_loss': 0.18971412020931344}\n",
      "Epoch 5/20\n"
     ]
    },
    {
     "name": "stderr",
     "output_type": "stream",
     "text": [
      "100%|██████████| 2339/2339 [03:37<00:00, 10.77it/s]\n"
     ]
    },
    {
     "name": "stdout",
     "output_type": "stream",
     "text": [
      "{'val_loss': 0.5060383613281048, 'val_accuracy': 0.8620910840282232, 'precision': 0.8627849394629031, 'recall': 0.8620910840282232, 'f1-score': 0.8618096385284598, 'macro_f1-score': 0.8591037400147792, 'balanced_accuracy': 0.867058521588035, 'mcc': 0.8312452697923135, 'train_loss': 0.1340626876872127}\n",
      "Epoch 6/20\n"
     ]
    },
    {
     "name": "stderr",
     "output_type": "stream",
     "text": [
      "100%|██████████| 2339/2339 [03:37<00:00, 10.77it/s]\n"
     ]
    },
    {
     "name": "stdout",
     "output_type": "stream",
     "text": [
      "{'val_loss': 0.5559548932036115, 'val_accuracy': 0.8648706435749413, 'precision': 0.8658168989502254, 'recall': 0.8648706435749413, 'f1-score': 0.8644731441710924, 'macro_f1-score': 0.8584171957119865, 'balanced_accuracy': 0.8572716463539154, 'mcc': 0.8342281099945719, 'train_loss': 0.1067326731222127}\n",
      "Early stopping.\n",
      "\n",
      "[Fold 4]\n",
      "Label distribution after resampling:\n",
      "  label 0: 5625\n",
      "  label 1: 1399\n",
      "  label 2: 8441\n",
      "  label 3: 10771\n",
      "  label 4: 1679\n",
      "  label 5: 5579\n",
      "  label 6: 1738\n",
      "  label 7: 2186\n",
      "model is bert-base-uncased lstm\n",
      "Epoch 1/20\n"
     ]
    },
    {
     "name": "stderr",
     "output_type": "stream",
     "text": [
      "100%|██████████| 2339/2339 [03:36<00:00, 10.79it/s]\n"
     ]
    },
    {
     "name": "stdout",
     "output_type": "stream",
     "text": [
      "{'val_loss': 0.4223938021140221, 'val_accuracy': 0.8541800299337182, 'precision': 0.8560329057274094, 'recall': 0.8541800299337182, 'f1-score': 0.8538904744489099, 'macro_f1-score': 0.8474857724671794, 'balanced_accuracy': 0.8287699722608548, 'mcc': 0.819856076481959, 'train_loss': 0.6041806082345956}\n",
      "Epoch 2/20\n"
     ]
    },
    {
     "name": "stderr",
     "output_type": "stream",
     "text": [
      "100%|██████████| 2339/2339 [03:36<00:00, 10.79it/s]\n"
     ]
    },
    {
     "name": "stdout",
     "output_type": "stream",
     "text": [
      "{'val_loss': 0.43659703344679796, 'val_accuracy': 0.8511866581141757, 'precision': 0.8534416344017725, 'recall': 0.8511866581141757, 'f1-score': 0.8514917843999689, 'macro_f1-score': 0.8517177265123923, 'balanced_accuracy': 0.8649600629314209, 'mcc': 0.8178269427667736, 'train_loss': 0.3707344745082344}\n",
      "Epoch 3/20\n"
     ]
    },
    {
     "name": "stderr",
     "output_type": "stream",
     "text": [
      "100%|██████████| 2339/2339 [03:37<00:00, 10.78it/s]\n"
     ]
    },
    {
     "name": "stdout",
     "output_type": "stream",
     "text": [
      "{'val_loss': 0.46927082620752164, 'val_accuracy': 0.8534316869788325, 'precision': 0.8562836499081088, 'recall': 0.8534316869788325, 'f1-score': 0.8537143874063496, 'macro_f1-score': 0.8540616203810126, 'balanced_accuracy': 0.8577963027147641, 'mcc': 0.8208342319415728, 'train_loss': 0.2713830363871024}\n",
      "Epoch 4/20\n"
     ]
    },
    {
     "name": "stderr",
     "output_type": "stream",
     "text": [
      "100%|██████████| 2339/2339 [03:36<00:00, 10.79it/s]\n"
     ]
    },
    {
     "name": "stdout",
     "output_type": "stream",
     "text": [
      "{'val_loss': 0.4595816809166637, 'val_accuracy': 0.8581355569809707, 'precision': 0.8599589944768905, 'recall': 0.8581355569809707, 'f1-score': 0.8579676499262532, 'macro_f1-score': 0.8586332658206007, 'balanced_accuracy': 0.8588493843118541, 'mcc': 0.8264329767250825, 'train_loss': 0.19627830649950262}\n",
      "Epoch 5/20\n"
     ]
    },
    {
     "name": "stderr",
     "output_type": "stream",
     "text": [
      "100%|██████████| 2339/2339 [03:36<00:00, 10.79it/s]\n"
     ]
    },
    {
     "name": "stdout",
     "output_type": "stream",
     "text": [
      "{'val_loss': 0.6404967796320143, 'val_accuracy': 0.8473380372033354, 'precision': 0.8527251239444911, 'recall': 0.8473380372033354, 'f1-score': 0.847813167521132, 'macro_f1-score': 0.8496849265006996, 'balanced_accuracy': 0.8438499681871615, 'mcc': 0.8126640092697328, 'train_loss': 0.14071049946234865}\n",
      "Epoch 6/20\n"
     ]
    },
    {
     "name": "stderr",
     "output_type": "stream",
     "text": [
      "100%|██████████| 2339/2339 [03:37<00:00, 10.78it/s]\n"
     ]
    },
    {
     "name": "stdout",
     "output_type": "stream",
     "text": [
      "{'val_loss': 0.5462924946529361, 'val_accuracy': 0.858776993799444, 'precision': 0.8605317198076765, 'recall': 0.858776993799444, 'f1-score': 0.8588533074740289, 'macro_f1-score': 0.8566725473921832, 'balanced_accuracy': 0.8586167396769865, 'mcc': 0.8265058570772387, 'train_loss': 0.10669761565850364}\n",
      "Epoch 7/20\n"
     ]
    },
    {
     "name": "stderr",
     "output_type": "stream",
     "text": [
      "100%|██████████| 2339/2339 [03:37<00:00, 10.75it/s]\n"
     ]
    },
    {
     "name": "stdout",
     "output_type": "stream",
     "text": [
      "{'val_loss': 0.6216605649972494, 'val_accuracy': 0.8634808638015822, 'precision': 0.865382686536492, 'recall': 0.8634808638015822, 'f1-score': 0.8635959105559075, 'macro_f1-score': 0.8636178580621013, 'balanced_accuracy': 0.8521486612320353, 'mcc': 0.8318548486348756, 'train_loss': 0.09493962618474168}\n",
      "Epoch 8/20\n"
     ]
    },
    {
     "name": "stderr",
     "output_type": "stream",
     "text": [
      "100%|██████████| 2339/2339 [03:31<00:00, 11.06it/s]\n"
     ]
    },
    {
     "name": "stdout",
     "output_type": "stream",
     "text": [
      "{'val_loss': 0.6822142137195636, 'val_accuracy': 0.8549283728886038, 'precision': 0.8582195968446525, 'recall': 0.8549283728886038, 'f1-score': 0.8552872245753556, 'macro_f1-score': 0.8509890059708247, 'balanced_accuracy': 0.8493808175591114, 'mcc': 0.8215291900514045, 'train_loss': 0.07557206870941724}\n",
      "Epoch 9/20\n"
     ]
    },
    {
     "name": "stderr",
     "output_type": "stream",
     "text": [
      "100%|██████████| 2339/2339 [03:30<00:00, 11.09it/s]\n"
     ]
    },
    {
     "name": "stdout",
     "output_type": "stream",
     "text": [
      "{'val_loss': 0.6939066058548136, 'val_accuracy': 0.8556767158434894, 'precision': 0.8578682487408987, 'recall': 0.8556767158434894, 'f1-score': 0.8560021552826119, 'macro_f1-score': 0.8571108059631887, 'balanced_accuracy': 0.8404005229903314, 'mcc': 0.8216633152726313, 'train_loss': 0.07166667839642829}\n",
      "Epoch 10/20\n"
     ]
    },
    {
     "name": "stderr",
     "output_type": "stream",
     "text": [
      "100%|██████████| 2339/2339 [03:30<00:00, 11.10it/s]\n"
     ]
    },
    {
     "name": "stdout",
     "output_type": "stream",
     "text": [
      "{'val_loss': 0.7570376004829692, 'val_accuracy': 0.8539662176608938, 'precision': 0.8567184400687429, 'recall': 0.8539662176608938, 'f1-score': 0.8540802247102741, 'macro_f1-score': 0.8502635766723949, 'balanced_accuracy': 0.8388960675427574, 'mcc': 0.8201244385020653, 'train_loss': 0.06305649045130832}\n",
      "Early stopping.\n",
      "\n",
      "[Fold 5]\n",
      "Label distribution after resampling:\n",
      "  label 0: 5625\n",
      "  label 1: 1399\n",
      "  label 2: 8441\n",
      "  label 3: 10771\n",
      "  label 4: 1678\n",
      "  label 5: 5579\n",
      "  label 6: 1738\n",
      "  label 7: 2187\n",
      "model is bert-base-uncased lstm\n",
      "Epoch 1/20\n"
     ]
    },
    {
     "name": "stderr",
     "output_type": "stream",
     "text": [
      "100%|██████████| 2339/2339 [03:31<00:00, 11.08it/s]\n"
     ]
    },
    {
     "name": "stdout",
     "output_type": "stream",
     "text": [
      "{'val_loss': 0.4458451562059613, 'val_accuracy': 0.8566388710711995, 'precision': 0.8577878704367902, 'recall': 0.8566388710711995, 'f1-score': 0.8561161467265846, 'macro_f1-score': 0.8545516383256291, 'balanced_accuracy': 0.8636780933958997, 'mcc': 0.8244865704591982, 'train_loss': 0.6096009695587912}\n",
      "Epoch 2/20\n"
     ]
    },
    {
     "name": "stderr",
     "output_type": "stream",
     "text": [
      "100%|██████████| 2339/2339 [03:30<00:00, 11.09it/s]\n"
     ]
    },
    {
     "name": "stdout",
     "output_type": "stream",
     "text": [
      "{'val_loss': 0.42194184674284396, 'val_accuracy': 0.8562112465255506, 'precision': 0.8569282739238296, 'recall': 0.8562112465255506, 'f1-score': 0.8562659208672294, 'macro_f1-score': 0.8495569485014909, 'balanced_accuracy': 0.8538301430822413, 'mcc': 0.8234327546468581, 'train_loss': 0.3725280772095093}\n",
      "Epoch 3/20\n"
     ]
    },
    {
     "name": "stderr",
     "output_type": "stream",
     "text": [
      "100%|██████████| 2339/2339 [03:30<00:00, 11.10it/s]\n"
     ]
    },
    {
     "name": "stdout",
     "output_type": "stream",
     "text": [
      "{'val_loss': 0.4512657115697606, 'val_accuracy': 0.8557836219799017, 'precision': 0.8612728969227303, 'recall': 0.8557836219799017, 'f1-score': 0.8554068844752405, 'macro_f1-score': 0.8604539468094747, 'balanced_accuracy': 0.8496383294781412, 'mcc': 0.8242883076521348, 'train_loss': 0.2708792027333682}\n",
      "Epoch 4/20\n"
     ]
    },
    {
     "name": "stderr",
     "output_type": "stream",
     "text": [
      "100%|██████████| 2339/2339 [03:31<00:00, 11.08it/s]\n"
     ]
    },
    {
     "name": "stdout",
     "output_type": "stream",
     "text": [
      "{'val_loss': 0.44111707060255556, 'val_accuracy': 0.857814838571734, 'precision': 0.8600948593785585, 'recall': 0.857814838571734, 'f1-score': 0.8580017144486689, 'macro_f1-score': 0.8550243174445777, 'balanced_accuracy': 0.8673059836765792, 'mcc': 0.8260650962252118, 'train_loss': 0.1933960597213579}\n",
      "Epoch 5/20\n"
     ]
    },
    {
     "name": "stderr",
     "output_type": "stream",
     "text": [
      "100%|██████████| 2339/2339 [03:30<00:00, 11.10it/s]\n"
     ]
    },
    {
     "name": "stdout",
     "output_type": "stream",
     "text": [
      "{'val_loss': 0.5195621393019986, 'val_accuracy': 0.8626256147102843, 'precision': 0.8630164996122239, 'recall': 0.8626256147102843, 'f1-score': 0.8626798453991799, 'macro_f1-score': 0.8610814657510562, 'balanced_accuracy': 0.8572699621157285, 'mcc': 0.8307253545625959, 'train_loss': 0.14300008362838812}\n",
      "Epoch 6/20\n"
     ]
    },
    {
     "name": "stderr",
     "output_type": "stream",
     "text": [
      "100%|██████████| 2339/2339 [03:30<00:00, 11.10it/s]\n"
     ]
    },
    {
     "name": "stdout",
     "output_type": "stream",
     "text": [
      "{'val_loss': 0.5955161514652209, 'val_accuracy': 0.8552490912978405, 'precision': 0.8575677027831334, 'recall': 0.8552490912978405, 'f1-score': 0.8554217742994232, 'macro_f1-score': 0.8522478134306928, 'balanced_accuracy': 0.8393772199837438, 'mcc': 0.82131187132545, 'train_loss': 0.11139061256604887}\n",
      "Epoch 7/20\n"
     ]
    },
    {
     "name": "stderr",
     "output_type": "stream",
     "text": [
      "100%|██████████| 2339/2339 [03:34<00:00, 10.88it/s]\n"
     ]
    },
    {
     "name": "stdout",
     "output_type": "stream",
     "text": [
      "{'val_loss': 0.5988282289809714, 'val_accuracy': 0.8554629035706649, 'precision': 0.8568914191503778, 'recall': 0.8554629035706649, 'f1-score': 0.8554286166511075, 'macro_f1-score': 0.8560195053041493, 'balanced_accuracy': 0.8487023912973131, 'mcc': 0.8223875378603457, 'train_loss': 0.09572222114774762}\n",
      "Epoch 8/20\n"
     ]
    },
    {
     "name": "stderr",
     "output_type": "stream",
     "text": [
      "100%|██████████| 2339/2339 [03:33<00:00, 10.94it/s]\n"
     ]
    },
    {
     "name": "stdout",
     "output_type": "stream",
     "text": [
      "{'val_loss': 0.6660570236583614, 'val_accuracy': 0.8534316869788325, 'precision': 0.8567654677762757, 'recall': 0.8534316869788325, 'f1-score': 0.8536669966610594, 'macro_f1-score': 0.85486621798917, 'balanced_accuracy': 0.8367398130827987, 'mcc': 0.8190466857880179, 'train_loss': 0.08482014191766557}\n",
      "Early stopping.\n",
      "\n",
      " === bert-base-uncased + lstm + none Final 5-fold Cross-Validation Results ===\n",
      "val_loss: 0.4770\n",
      "val_accuracy: 0.8629\n",
      "precision: 0.8646\n",
      "recall: 0.8629\n",
      "f1-score: 0.8629\n",
      "macro_f1-score: 0.8622\n",
      "balanced_accuracy: 0.8574\n",
      "mcc: 0.8315\n",
      "train_loss: 0.2282\n",
      "total_seconds: 8484.0000\n",
      "total_time: 2 hrs 21 mins 24 secs\n",
      "▶ Running: bert-base-uncased + bilstm + none\n",
      "tokenizer is bert-base-uncased\n",
      "Using device: cuda\n",
      "CUDA Available: True\n",
      "CUDA Device: NVIDIA GeForce RTX 5070 Ti\n",
      "Current GPU Memory Allocated: 0.02 GB\n",
      "Current GPU Memory Cached: 3.16 GB\n",
      "\n",
      "[Fold 1]\n",
      "Label distribution after resampling:\n",
      "  label 0: 5626\n",
      "  label 1: 1399\n",
      "  label 2: 8442\n",
      "  label 3: 10770\n",
      "  label 4: 1678\n",
      "  label 5: 5578\n",
      "  label 6: 1737\n",
      "  label 7: 2187\n",
      "model is bert-base-uncased bilstm\n",
      "Epoch 1/20\n"
     ]
    },
    {
     "name": "stderr",
     "output_type": "stream",
     "text": [
      "100%|██████████| 2339/2339 [03:51<00:00, 10.11it/s]\n"
     ]
    },
    {
     "name": "stdout",
     "output_type": "stream",
     "text": [
      "{'val_loss': 0.42514697969214527, 'val_accuracy': 0.856547300908605, 'precision': 0.8581516117616557, 'recall': 0.856547300908605, 'f1-score': 0.8559966804227839, 'macro_f1-score': 0.8501687977481079, 'balanced_accuracy': 0.8500972675208874, 'mcc': 0.8240281960983338, 'train_loss': 0.6082661511625755}\n",
      "Epoch 2/20\n"
     ]
    },
    {
     "name": "stderr",
     "output_type": "stream",
     "text": [
      "100%|██████████| 2339/2339 [03:52<00:00, 10.05it/s]\n"
     ]
    },
    {
     "name": "stdout",
     "output_type": "stream",
     "text": [
      "{'val_loss': 0.42245417238555405, 'val_accuracy': 0.8616782469267771, 'precision': 0.8673038480775694, 'recall': 0.8616782469267771, 'f1-score': 0.8621196297606886, 'macro_f1-score': 0.85764437716833, 'balanced_accuracy': 0.8433942399978188, 'mcc': 0.8299614908250806, 'train_loss': 0.3639640699571947}\n",
      "Epoch 3/20\n"
     ]
    },
    {
     "name": "stderr",
     "output_type": "stream",
     "text": [
      "100%|██████████| 2339/2339 [03:53<00:00, 10.04it/s]\n"
     ]
    },
    {
     "name": "stdout",
     "output_type": "stream",
     "text": [
      "{'val_loss': 0.4260098174691964, 'val_accuracy': 0.86574024585783, 'precision': 0.8703258804970219, 'recall': 0.86574024585783, 'f1-score': 0.8668375723899149, 'macro_f1-score': 0.8581594207683171, 'balanced_accuracy': 0.8729384473694684, 'mcc': 0.8357437256528972, 'train_loss': 0.2597728195254201}\n",
      "Epoch 4/20\n"
     ]
    },
    {
     "name": "stderr",
     "output_type": "stream",
     "text": [
      "100%|██████████| 2339/2339 [03:41<00:00, 10.57it/s]\n"
     ]
    },
    {
     "name": "stdout",
     "output_type": "stream",
     "text": [
      "{'val_loss': 0.4921490343558228, 'val_accuracy': 0.8536611437733832, 'precision': 0.8588533998455552, 'recall': 0.8536611437733832, 'f1-score': 0.8533808261502863, 'macro_f1-score': 0.8540002732338581, 'balanced_accuracy': 0.8471618294571949, 'mcc': 0.821801729625157, 'train_loss': 0.184923204331961}\n",
      "Epoch 5/20\n"
     ]
    },
    {
     "name": "stderr",
     "output_type": "stream",
     "text": [
      "100%|██████████| 2339/2339 [03:37<00:00, 10.75it/s]\n"
     ]
    },
    {
     "name": "stdout",
     "output_type": "stream",
     "text": [
      "{'val_loss': 0.522126251231067, 'val_accuracy': 0.8660609299839658, 'precision': 0.8664605913878183, 'recall': 0.8660609299839658, 'f1-score': 0.8654914670144228, 'macro_f1-score': 0.8602370731403575, 'balanced_accuracy': 0.8513854930576884, 'mcc': 0.8349811593712942, 'train_loss': 0.13152305006313164}\n",
      "Epoch 6/20\n"
     ]
    },
    {
     "name": "stderr",
     "output_type": "stream",
     "text": [
      "100%|██████████| 2339/2339 [03:37<00:00, 10.76it/s]\n"
     ]
    },
    {
     "name": "stdout",
     "output_type": "stream",
     "text": [
      "{'val_loss': 0.5793802088687722, 'val_accuracy': 0.860502405130946, 'precision': 0.8644947095268494, 'recall': 0.860502405130946, 'f1-score': 0.8609174073647422, 'macro_f1-score': 0.8554833650732373, 'balanced_accuracy': 0.8652987063344708, 'mcc': 0.830007819369044, 'train_loss': 0.10489141524344517}\n",
      "Epoch 7/20\n"
     ]
    },
    {
     "name": "stderr",
     "output_type": "stream",
     "text": [
      "100%|██████████| 2339/2339 [03:37<00:00, 10.77it/s]\n"
     ]
    },
    {
     "name": "stdout",
     "output_type": "stream",
     "text": [
      "{'val_loss': 0.5761505178478348, 'val_accuracy': 0.8654195617316943, 'precision': 0.8671353947047011, 'recall': 0.8654195617316943, 'f1-score': 0.8654698440639742, 'macro_f1-score': 0.8579293167001877, 'balanced_accuracy': 0.8549040424331238, 'mcc': 0.8342271117545326, 'train_loss': 0.08550090463425886}\n",
      "Epoch 8/20\n"
     ]
    },
    {
     "name": "stderr",
     "output_type": "stream",
     "text": [
      "100%|██████████| 2339/2339 [03:37<00:00, 10.77it/s]\n"
     ]
    },
    {
     "name": "stdout",
     "output_type": "stream",
     "text": [
      "{'val_loss': 0.6209007972867315, 'val_accuracy': 0.861785141635489, 'precision': 0.8649346868497354, 'recall': 0.861785141635489, 'f1-score': 0.8618661158625314, 'macro_f1-score': 0.8580690247388973, 'balanced_accuracy': 0.8495908693602792, 'mcc': 0.8299522513709219, 'train_loss': 0.0725281550905334}\n",
      "Early stopping.\n",
      "\n",
      "[Fold 2]\n",
      "Label distribution after resampling:\n",
      "  label 0: 5626\n",
      "  label 1: 1400\n",
      "  label 2: 8442\n",
      "  label 3: 10770\n",
      "  label 4: 1678\n",
      "  label 5: 5578\n",
      "  label 6: 1737\n",
      "  label 7: 2186\n",
      "model is bert-base-uncased bilstm\n",
      "Epoch 1/20\n"
     ]
    },
    {
     "name": "stderr",
     "output_type": "stream",
     "text": [
      "100%|██████████| 2339/2339 [03:37<00:00, 10.75it/s]\n"
     ]
    },
    {
     "name": "stdout",
     "output_type": "stream",
     "text": [
      "{'val_loss': 0.47573958687547946, 'val_accuracy': 0.8358097274184928, 'precision': 0.8416120885879705, 'recall': 0.8358097274184928, 'f1-score': 0.8355609283999218, 'macro_f1-score': 0.8398228447975368, 'balanced_accuracy': 0.8260941961385424, 'mcc': 0.7981470221429091, 'train_loss': 0.6108880667649003}\n",
      "Epoch 2/20\n"
     ]
    },
    {
     "name": "stderr",
     "output_type": "stream",
     "text": [
      "100%|██████████| 2339/2339 [03:36<00:00, 10.80it/s]\n"
     ]
    },
    {
     "name": "stdout",
     "output_type": "stream",
     "text": [
      "{'val_loss': 0.44805013997336995, 'val_accuracy': 0.8501336183858899, 'precision': 0.8540317833936605, 'recall': 0.8501336183858899, 'f1-score': 0.8497715568807919, 'macro_f1-score': 0.8518873070553603, 'balanced_accuracy': 0.8578418104005643, 'mcc': 0.8177699930254498, 'train_loss': 0.36233805498174365}\n",
      "Epoch 3/20\n"
     ]
    },
    {
     "name": "stderr",
     "output_type": "stream",
     "text": [
      "100%|██████████| 2339/2339 [03:36<00:00, 10.78it/s]\n"
     ]
    },
    {
     "name": "stdout",
     "output_type": "stream",
     "text": [
      "{'val_loss': 0.48218723563557, 'val_accuracy': 0.8476750400855158, 'precision': 0.8546719725805486, 'recall': 0.8476750400855158, 'f1-score': 0.8481485987385748, 'macro_f1-score': 0.8490245868205915, 'balanced_accuracy': 0.8294627494754716, 'mcc': 0.8121595184545577, 'train_loss': 0.2567320747218163}\n",
      "Epoch 4/20\n"
     ]
    },
    {
     "name": "stderr",
     "output_type": "stream",
     "text": [
      "100%|██████████| 2339/2339 [03:37<00:00, 10.75it/s]\n"
     ]
    },
    {
     "name": "stdout",
     "output_type": "stream",
     "text": [
      "{'val_loss': 0.5073439737877402, 'val_accuracy': 0.8538749331908071, 'precision': 0.856143882988791, 'recall': 0.8538749331908071, 'f1-score': 0.8537558132824895, 'macro_f1-score': 0.851539948136948, 'balanced_accuracy': 0.8307537352203924, 'mcc': 0.8193258422448156, 'train_loss': 0.18230299736950872}\n",
      "Epoch 5/20\n"
     ]
    },
    {
     "name": "stderr",
     "output_type": "stream",
     "text": [
      "100%|██████████| 2339/2339 [03:37<00:00, 10.77it/s]\n"
     ]
    },
    {
     "name": "stdout",
     "output_type": "stream",
     "text": [
      "{'val_loss': 0.542022506838155, 'val_accuracy': 0.8522715125601282, 'precision': 0.8540966569220055, 'recall': 0.8522715125601282, 'f1-score': 0.8516989231738195, 'macro_f1-score': 0.8495736403481052, 'balanced_accuracy': 0.84715279667506, 'mcc': 0.8192973612414189, 'train_loss': 0.13391645336529626}\n",
      "Early stopping.\n",
      "\n",
      "[Fold 3]\n",
      "Label distribution after resampling:\n",
      "  label 0: 5626\n",
      "  label 1: 1399\n",
      "  label 2: 8442\n",
      "  label 3: 10770\n",
      "  label 4: 1679\n",
      "  label 5: 5578\n",
      "  label 6: 1738\n",
      "  label 7: 2186\n",
      "model is bert-base-uncased bilstm\n",
      "Epoch 1/20\n"
     ]
    },
    {
     "name": "stderr",
     "output_type": "stream",
     "text": [
      "100%|██████████| 2339/2339 [03:36<00:00, 10.78it/s]\n"
     ]
    },
    {
     "name": "stdout",
     "output_type": "stream",
     "text": [
      "{'val_loss': 0.4403192425831261, 'val_accuracy': 0.8508659397049391, 'precision': 0.8534273597289219, 'recall': 0.8508659397049391, 'f1-score': 0.8507574520583561, 'macro_f1-score': 0.8454427616831165, 'balanced_accuracy': 0.8604884900667167, 'mcc': 0.8177895829425248, 'train_loss': 0.6188118380134867}\n",
      "Epoch 2/20\n"
     ]
    },
    {
     "name": "stderr",
     "output_type": "stream",
     "text": [
      "100%|██████████| 2339/2339 [03:37<00:00, 10.77it/s]\n"
     ]
    },
    {
     "name": "stdout",
     "output_type": "stream",
     "text": [
      "{'val_loss': 0.4326741866003244, 'val_accuracy': 0.8519350010690614, 'precision': 0.8591135311896224, 'recall': 0.8519350010690614, 'f1-score': 0.8503464472314372, 'macro_f1-score': 0.8390111893822382, 'balanced_accuracy': 0.7999147466866193, 'mcc': 0.8167690838989651, 'train_loss': 0.36641428931869086}\n",
      "Epoch 3/20\n"
     ]
    },
    {
     "name": "stderr",
     "output_type": "stream",
     "text": [
      "100%|██████████| 2339/2339 [03:36<00:00, 10.80it/s]\n"
     ]
    },
    {
     "name": "stdout",
     "output_type": "stream",
     "text": [
      "{'val_loss': 0.45886325288213725, 'val_accuracy': 0.858242463117383, 'precision': 0.8639688272049657, 'recall': 0.858242463117383, 'f1-score': 0.8577908266272984, 'macro_f1-score': 0.8538842591532092, 'balanced_accuracy': 0.8659437457695376, 'mcc': 0.82785553590159, 'train_loss': 0.265118097646545}\n",
      "Epoch 4/20\n"
     ]
    },
    {
     "name": "stderr",
     "output_type": "stream",
     "text": [
      "100%|██████████| 2339/2339 [03:36<00:00, 10.80it/s]\n"
     ]
    },
    {
     "name": "stdout",
     "output_type": "stream",
     "text": [
      "{'val_loss': 0.451256526232912, 'val_accuracy': 0.8621979901646355, 'precision': 0.863913965147566, 'recall': 0.8621979901646355, 'f1-score': 0.8622625758867195, 'macro_f1-score': 0.8584735896669394, 'balanced_accuracy': 0.8535236042222045, 'mcc': 0.8301193890352679, 'train_loss': 0.18714488315399594}\n",
      "Epoch 5/20\n"
     ]
    },
    {
     "name": "stderr",
     "output_type": "stream",
     "text": [
      "100%|██████████| 2339/2339 [03:37<00:00, 10.76it/s]\n"
     ]
    },
    {
     "name": "stdout",
     "output_type": "stream",
     "text": [
      "{'val_loss': 0.5159462759231463, 'val_accuracy': 0.864763737438529, 'precision': 0.8650908336204044, 'recall': 0.864763737438529, 'f1-score': 0.8646716533724398, 'macro_f1-score': 0.8599692450251469, 'balanced_accuracy': 0.8508569524602075, 'mcc': 0.8331645008369607, 'train_loss': 0.13304794437427978}\n",
      "Epoch 6/20\n"
     ]
    },
    {
     "name": "stderr",
     "output_type": "stream",
     "text": [
      "100%|██████████| 2339/2339 [03:36<00:00, 10.78it/s]\n"
     ]
    },
    {
     "name": "stdout",
     "output_type": "stream",
     "text": [
      "{'val_loss': 0.5845679661585416, 'val_accuracy': 0.8583493692537951, 'precision': 0.8619602222003756, 'recall': 0.8583493692537951, 'f1-score': 0.8571726535374657, 'macro_f1-score': 0.8542498697894738, 'balanced_accuracy': 0.8413391967034431, 'mcc': 0.8254927256343497, 'train_loss': 0.10944009355737025}\n",
      "Epoch 7/20\n"
     ]
    },
    {
     "name": "stderr",
     "output_type": "stream",
     "text": [
      "100%|██████████| 2339/2339 [03:36<00:00, 10.78it/s]\n"
     ]
    },
    {
     "name": "stdout",
     "output_type": "stream",
     "text": [
      "{'val_loss': 0.6041214803826764, 'val_accuracy': 0.8561043403891383, 'precision': 0.8586543040225492, 'recall': 0.8561043403891383, 'f1-score': 0.8556427625758771, 'macro_f1-score': 0.8508238592593345, 'balanced_accuracy': 0.8586108723248094, 'mcc': 0.8241093450224577, 'train_loss': 0.08695576021661994}\n",
      "Epoch 8/20\n"
     ]
    },
    {
     "name": "stderr",
     "output_type": "stream",
     "text": [
      "100%|██████████| 2339/2339 [03:38<00:00, 10.72it/s]\n"
     ]
    },
    {
     "name": "stdout",
     "output_type": "stream",
     "text": [
      "{'val_loss': 0.6270396727013887, 'val_accuracy': 0.8630532392559332, 'precision': 0.8649084316956153, 'recall': 0.8630532392559332, 'f1-score': 0.8633614692261089, 'macro_f1-score': 0.8627938311857505, 'balanced_accuracy': 0.853692768044719, 'mcc': 0.8311683196053931, 'train_loss': 0.07532224435750044}\n",
      "Epoch 9/20\n"
     ]
    },
    {
     "name": "stderr",
     "output_type": "stream",
     "text": [
      "100%|██████████| 2339/2339 [03:37<00:00, 10.78it/s]\n"
     ]
    },
    {
     "name": "stdout",
     "output_type": "stream",
     "text": [
      "{'val_loss': 0.6230427641182755, 'val_accuracy': 0.8603805858456275, 'precision': 0.8629063671445024, 'recall': 0.8603805858456275, 'f1-score': 0.8599215569724902, 'macro_f1-score': 0.8599380693955149, 'balanced_accuracy': 0.8417304222616009, 'mcc': 0.8276881402775986, 'train_loss': 0.0694431811353869}\n",
      "Epoch 10/20\n"
     ]
    },
    {
     "name": "stderr",
     "output_type": "stream",
     "text": [
      "100%|██████████| 2339/2339 [03:37<00:00, 10.77it/s]\n"
     ]
    },
    {
     "name": "stdout",
     "output_type": "stream",
     "text": [
      "{'val_loss': 0.6116487992563261, 'val_accuracy': 0.8706435749412016, 'precision': 0.8707159392102201, 'recall': 0.8706435749412016, 'f1-score': 0.8703418618569281, 'macro_f1-score': 0.8663528833012435, 'balanced_accuracy': 0.8578208385553472, 'mcc': 0.8406111531071068, 'train_loss': 0.06015177569415798}\n",
      "Epoch 11/20\n"
     ]
    },
    {
     "name": "stderr",
     "output_type": "stream",
     "text": [
      "100%|██████████| 2339/2339 [03:37<00:00, 10.77it/s]\n"
     ]
    },
    {
     "name": "stdout",
     "output_type": "stream",
     "text": [
      "{'val_loss': 0.7238461903879483, 'val_accuracy': 0.8656189865298268, 'precision': 0.8666319638279375, 'recall': 0.8656189865298268, 'f1-score': 0.8654876680236655, 'macro_f1-score': 0.8627623840511618, 'balanced_accuracy': 0.8579068975804713, 'mcc': 0.8344798022592174, 'train_loss': 0.04300034308665009}\n",
      "Epoch 12/20\n"
     ]
    },
    {
     "name": "stderr",
     "output_type": "stream",
     "text": [
      "100%|██████████| 2339/2339 [03:37<00:00, 10.78it/s]\n"
     ]
    },
    {
     "name": "stdout",
     "output_type": "stream",
     "text": [
      "{'val_loss': 0.8345408121840312, 'val_accuracy': 0.7683344023946974, 'precision': 0.7876398870476886, 'recall': 0.7683344023946974, 'f1-score': 0.7536387866745456, 'macro_f1-score': 0.7779569244584741, 'balanced_accuracy': 0.7867773902010478, 'mcc': 0.7222179676182513, 'train_loss': 0.053793960604191546}\n",
      "Epoch 13/20\n"
     ]
    },
    {
     "name": "stderr",
     "output_type": "stream",
     "text": [
      "100%|██████████| 2339/2339 [03:37<00:00, 10.76it/s]\n"
     ]
    },
    {
     "name": "stdout",
     "output_type": "stream",
     "text": [
      "{'val_loss': 0.6773054158604608, 'val_accuracy': 0.8628394269831088, 'precision': 0.8632345737263901, 'recall': 0.8628394269831088, 'f1-score': 0.8624662635265443, 'macro_f1-score': 0.8561118479226961, 'balanced_accuracy': 0.8526980708026408, 'mcc': 0.8312838198285796, 'train_loss': 0.06881192099787184}\n",
      "Early stopping.\n",
      "\n",
      "[Fold 4]\n",
      "Label distribution after resampling:\n",
      "  label 0: 5625\n",
      "  label 1: 1399\n",
      "  label 2: 8441\n",
      "  label 3: 10771\n",
      "  label 4: 1679\n",
      "  label 5: 5579\n",
      "  label 6: 1738\n",
      "  label 7: 2186\n",
      "model is bert-base-uncased bilstm\n",
      "Epoch 1/20\n"
     ]
    },
    {
     "name": "stderr",
     "output_type": "stream",
     "text": [
      "100%|██████████| 2339/2339 [03:37<00:00, 10.77it/s]\n"
     ]
    },
    {
     "name": "stdout",
     "output_type": "stream",
     "text": [
      "{'val_loss': 0.44116862713017013, 'val_accuracy': 0.8493692537951678, 'precision': 0.8540186623020756, 'recall': 0.8493692537951678, 'f1-score': 0.8494287452379401, 'macro_f1-score': 0.848657114576348, 'balanced_accuracy': 0.8501744705624761, 'mcc': 0.8159436707608201, 'train_loss': 0.6093835348264179}\n",
      "Epoch 2/20\n"
     ]
    },
    {
     "name": "stderr",
     "output_type": "stream",
     "text": [
      "100%|██████████| 2339/2339 [03:37<00:00, 10.76it/s]\n"
     ]
    },
    {
     "name": "stdout",
     "output_type": "stream",
     "text": [
      "{'val_loss': 0.42671693755775436, 'val_accuracy': 0.8641223006200556, 'precision': 0.8647229185395436, 'recall': 0.8641223006200556, 'f1-score': 0.863948608090562, 'macro_f1-score': 0.860756782031397, 'balanced_accuracy': 0.8565420387555867, 'mcc': 0.8328762656547783, 'train_loss': 0.3653558429677793}\n",
      "Epoch 3/20\n"
     ]
    },
    {
     "name": "stderr",
     "output_type": "stream",
     "text": [
      "100%|██████████| 2339/2339 [03:37<00:00, 10.77it/s]\n"
     ]
    },
    {
     "name": "stdout",
     "output_type": "stream",
     "text": [
      "{'val_loss': 0.4571382037332106, 'val_accuracy': 0.8609151165276887, 'precision': 0.8623244532032168, 'recall': 0.8609151165276887, 'f1-score': 0.8607366857889421, 'macro_f1-score': 0.8630270988801524, 'balanced_accuracy': 0.8671818452447357, 'mcc': 0.8297827110534518, 'train_loss': 0.2605936232601484}\n",
      "Epoch 4/20\n"
     ]
    },
    {
     "name": "stderr",
     "output_type": "stream",
     "text": [
      "100%|██████████| 2339/2339 [03:37<00:00, 10.76it/s]\n"
     ]
    },
    {
     "name": "stdout",
     "output_type": "stream",
     "text": [
      "{'val_loss': 0.48249467879565605, 'val_accuracy': 0.864763737438529, 'precision': 0.8655805944967108, 'recall': 0.864763737438529, 'f1-score': 0.8645719207356944, 'macro_f1-score': 0.8644771047342275, 'balanced_accuracy': 0.8574402554388598, 'mcc': 0.8332288960537518, 'train_loss': 0.18780820569152498}\n",
      "Epoch 5/20\n"
     ]
    },
    {
     "name": "stderr",
     "output_type": "stream",
     "text": [
      "100%|██████████| 2339/2339 [03:37<00:00, 10.76it/s]\n"
     ]
    },
    {
     "name": "stdout",
     "output_type": "stream",
     "text": [
      "{'val_loss': 0.5777406037904513, 'val_accuracy': 0.8593115244815053, 'precision': 0.8613458843899824, 'recall': 0.8593115244815053, 'f1-score': 0.8595683543732165, 'macro_f1-score': 0.8571979539847798, 'balanced_accuracy': 0.8508224452333143, 'mcc': 0.8267427769759493, 'train_loss': 0.1300045147608562}\n",
      "Epoch 6/20\n"
     ]
    },
    {
     "name": "stderr",
     "output_type": "stream",
     "text": [
      "100%|██████████| 2339/2339 [03:36<00:00, 10.81it/s]\n"
     ]
    },
    {
     "name": "stdout",
     "output_type": "stream",
     "text": [
      "{'val_loss': 0.5710847163449527, 'val_accuracy': 0.8557836219799017, 'precision': 0.8578678779299944, 'recall': 0.8557836219799017, 'f1-score': 0.8556799247702938, 'macro_f1-score': 0.8538373175297247, 'balanced_accuracy': 0.8568478902871903, 'mcc': 0.8235119838655994, 'train_loss': 0.10151428341895004}\n",
      "Epoch 7/20\n"
     ]
    },
    {
     "name": "stderr",
     "output_type": "stream",
     "text": [
      "100%|██████████| 2339/2339 [03:36<00:00, 10.78it/s]\n"
     ]
    },
    {
     "name": "stdout",
     "output_type": "stream",
     "text": [
      "{'val_loss': 0.5915535803637507, 'val_accuracy': 0.8640153944836434, 'precision': 0.8653268777533139, 'recall': 0.8640153944836434, 'f1-score': 0.864030369755463, 'macro_f1-score': 0.8619480923639871, 'balanced_accuracy': 0.8586976652886885, 'mcc': 0.8326995605958192, 'train_loss': 0.08621062898399988}\n",
      "Early stopping.\n",
      "\n",
      "[Fold 5]\n",
      "Label distribution after resampling:\n",
      "  label 0: 5625\n",
      "  label 1: 1399\n",
      "  label 2: 8441\n",
      "  label 3: 10771\n",
      "  label 4: 1678\n",
      "  label 5: 5579\n",
      "  label 6: 1738\n",
      "  label 7: 2187\n",
      "model is bert-base-uncased bilstm\n",
      "Epoch 1/20\n"
     ]
    },
    {
     "name": "stderr",
     "output_type": "stream",
     "text": [
      "100%|██████████| 2339/2339 [03:36<00:00, 10.78it/s]\n"
     ]
    },
    {
     "name": "stdout",
     "output_type": "stream",
     "text": [
      "{'val_loss': 0.47123193313550743, 'val_accuracy': 0.8376095787898226, 'precision': 0.8440069527407872, 'recall': 0.8376095787898226, 'f1-score': 0.8371056147922267, 'macro_f1-score': 0.8395711078360987, 'balanced_accuracy': 0.8261323308302851, 'mcc': 0.8013348869891599, 'train_loss': 0.6123188936867078}\n",
      "Epoch 2/20\n"
     ]
    },
    {
     "name": "stderr",
     "output_type": "stream",
     "text": [
      "100%|██████████| 2339/2339 [03:37<00:00, 10.77it/s]\n"
     ]
    },
    {
     "name": "stdout",
     "output_type": "stream",
     "text": [
      "{'val_loss': 0.43864978038761604, 'val_accuracy': 0.8548214667521916, 'precision': 0.8569029406958705, 'recall': 0.8548214667521916, 'f1-score': 0.8547274041576994, 'macro_f1-score': 0.8516415365011352, 'balanced_accuracy': 0.8427529107222695, 'mcc': 0.8210005653797169, 'train_loss': 0.35648354771138896}\n",
      "Epoch 3/20\n"
     ]
    },
    {
     "name": "stderr",
     "output_type": "stream",
     "text": [
      "100%|██████████| 2339/2339 [03:37<00:00, 10.74it/s]\n"
     ]
    },
    {
     "name": "stdout",
     "output_type": "stream",
     "text": [
      "{'val_loss': 0.45509004104388956, 'val_accuracy': 0.8611289288005132, 'precision': 0.8624199220639392, 'recall': 0.8611289288005132, 'f1-score': 0.8609535457105806, 'macro_f1-score': 0.8581523295644168, 'balanced_accuracy': 0.8715505992101316, 'mcc': 0.8300925958124411, 'train_loss': 0.2522318136363476}\n",
      "Epoch 4/20\n"
     ]
    },
    {
     "name": "stderr",
     "output_type": "stream",
     "text": [
      "100%|██████████| 2339/2339 [03:37<00:00, 10.76it/s]\n"
     ]
    },
    {
     "name": "stdout",
     "output_type": "stream",
     "text": [
      "{'val_loss': 0.48262982514774444, 'val_accuracy': 0.860594398118452, 'precision': 0.8617419923113039, 'recall': 0.860594398118452, 'f1-score': 0.8603525404907651, 'macro_f1-score': 0.8616000115802788, 'balanced_accuracy': 0.845553402120515, 'mcc': 0.8280072149993788, 'train_loss': 0.17674398906835542}\n",
      "Epoch 5/20\n"
     ]
    },
    {
     "name": "stderr",
     "output_type": "stream",
     "text": [
      "100%|██████████| 2339/2339 [03:37<00:00, 10.76it/s]\n"
     ]
    },
    {
     "name": "stdout",
     "output_type": "stream",
     "text": [
      "{'val_loss': 0.497512070582304, 'val_accuracy': 0.8555698097070772, 'precision': 0.8581102647008878, 'recall': 0.8555698097070772, 'f1-score': 0.8557385389265361, 'macro_f1-score': 0.8533074004917865, 'balanced_accuracy': 0.8693213926881973, 'mcc': 0.8235956932726666, 'train_loss': 0.13162400337844346}\n",
      "Epoch 6/20\n"
     ]
    },
    {
     "name": "stderr",
     "output_type": "stream",
     "text": [
      "100%|██████████| 2339/2339 [03:37<00:00, 10.74it/s]\n"
     ]
    },
    {
     "name": "stdout",
     "output_type": "stream",
     "text": [
      "{'val_loss': 0.5681410132302369, 'val_accuracy': 0.8638015822108189, 'precision': 0.8648595844197887, 'recall': 0.8638015822108189, 'f1-score': 0.8639412191092172, 'macro_f1-score': 0.8618842733476998, 'balanced_accuracy': 0.8541393792919123, 'mcc': 0.8321560815470636, 'train_loss': 0.10020611567243372}\n",
      "Epoch 7/20\n"
     ]
    },
    {
     "name": "stderr",
     "output_type": "stream",
     "text": [
      "100%|██████████| 2339/2339 [03:37<00:00, 10.76it/s]\n"
     ]
    },
    {
     "name": "stdout",
     "output_type": "stream",
     "text": [
      "{'val_loss': 0.6515413888039577, 'val_accuracy': 0.8535385931152448, 'precision': 0.8556395602130646, 'recall': 0.8535385931152448, 'f1-score': 0.8533494914648494, 'macro_f1-score': 0.8578294877664849, 'balanced_accuracy': 0.8576076165806558, 'mcc': 0.8206154035207206, 'train_loss': 0.08370634087647283}\n",
      "Epoch 8/20\n"
     ]
    },
    {
     "name": "stderr",
     "output_type": "stream",
     "text": [
      "100%|██████████| 2339/2339 [03:37<00:00, 10.76it/s]\n"
     ]
    },
    {
     "name": "stdout",
     "output_type": "stream",
     "text": [
      "{'val_loss': 0.6237832165719209, 'val_accuracy': 0.856425058798375, 'precision': 0.8597199418807354, 'recall': 0.856425058798375, 'f1-score': 0.8568356194565446, 'macro_f1-score': 0.8601813780880434, 'balanced_accuracy': 0.8548683804512336, 'mcc': 0.8240782957153652, 'train_loss': 0.07133530325773613}\n",
      "Epoch 9/20\n"
     ]
    },
    {
     "name": "stderr",
     "output_type": "stream",
     "text": [
      "100%|██████████| 2339/2339 [03:37<00:00, 10.74it/s]\n"
     ]
    },
    {
     "name": "stdout",
     "output_type": "stream",
     "text": [
      "{'val_loss': 0.7317179065180791, 'val_accuracy': 0.8571734017532606, 'precision': 0.8592517721177722, 'recall': 0.8571734017532606, 'f1-score': 0.8577131578953661, 'macro_f1-score': 0.8562577112999827, 'balanced_accuracy': 0.8550105486861156, 'mcc': 0.8244093089461694, 'train_loss': 0.06596261110448833}\n",
      "Early stopping.\n",
      "\n",
      " === bert-base-uncased + bilstm + none Final 5-fold Cross-Validation Results ===\n",
      "val_loss: 0.5265\n",
      "val_accuracy: 0.8631\n",
      "precision: 0.8643\n",
      "recall: 0.8631\n",
      "f1-score: 0.8628\n",
      "macro_f1-score: 0.8610\n",
      "balanced_accuracy: 0.8557\n",
      "mcc: 0.8317\n",
      "train_loss: 0.1684\n",
      "total_seconds: 10221.0000\n",
      "total_time: 2 hrs 50 mins 21 secs\n",
      "▶ Running: roberta-base + plain + none\n",
      "tokenizer is roberta-base\n",
      "Using device: cuda\n",
      "CUDA Available: True\n",
      "CUDA Device: NVIDIA GeForce RTX 5070 Ti\n",
      "Current GPU Memory Allocated: 0.02 GB\n",
      "Current GPU Memory Cached: 3.16 GB\n",
      "\n",
      "[Fold 1]\n",
      "Label distribution after resampling:\n",
      "  label 0: 5626\n",
      "  label 1: 1399\n",
      "  label 2: 8442\n",
      "  label 3: 10770\n",
      "  label 4: 1678\n",
      "  label 5: 5578\n",
      "  label 6: 1737\n",
      "  label 7: 2187\n",
      "model is roberta-base\n"
     ]
    },
    {
     "name": "stderr",
     "output_type": "stream",
     "text": [
      "Some weights of RobertaForSequenceClassification were not initialized from the model checkpoint at roberta-base and are newly initialized: ['classifier.dense.bias', 'classifier.dense.weight', 'classifier.out_proj.bias', 'classifier.out_proj.weight']\n",
      "You should probably TRAIN this model on a down-stream task to be able to use it for predictions and inference.\n"
     ]
    },
    {
     "name": "stdout",
     "output_type": "stream",
     "text": [
      "Epoch 1/20\n"
     ]
    },
    {
     "name": "stderr",
     "output_type": "stream",
     "text": [
      "100%|██████████| 2339/2339 [03:20<00:00, 11.66it/s]\n"
     ]
    },
    {
     "name": "stdout",
     "output_type": "stream",
     "text": [
      "{'val_loss': 0.5476757755901059, 'val_accuracy': 0.8112239444147514, 'precision': 0.8213822455885333, 'recall': 0.8112239444147514, 'f1-score': 0.8089660720836614, 'macro_f1-score': 0.8009733358405302, 'balanced_accuracy': 0.7974526145542393, 'mcc': 0.7721713353621056, 'train_loss': 0.668079365486006}\n",
      "Epoch 2/20\n"
     ]
    },
    {
     "name": "stderr",
     "output_type": "stream",
     "text": [
      "100%|██████████| 2339/2339 [03:20<00:00, 11.65it/s]\n"
     ]
    },
    {
     "name": "stdout",
     "output_type": "stream",
     "text": [
      "{'val_loss': 0.46575553769357186, 'val_accuracy': 0.8464991982896847, 'precision': 0.8516511402789856, 'recall': 0.8464991982896847, 'f1-score': 0.8467005422515351, 'macro_f1-score': 0.8419422181403013, 'balanced_accuracy': 0.842616226058819, 'mcc': 0.8128400501769395, 'train_loss': 0.4476120655495369}\n",
      "Epoch 3/20\n"
     ]
    },
    {
     "name": "stderr",
     "output_type": "stream",
     "text": [
      "100%|██████████| 2339/2339 [03:20<00:00, 11.67it/s]\n"
     ]
    },
    {
     "name": "stdout",
     "output_type": "stream",
     "text": [
      "{'val_loss': 0.47067816052745043, 'val_accuracy': 0.8405130946018172, 'precision': 0.8509200790183515, 'recall': 0.8405130946018172, 'f1-score': 0.8414748834143073, 'macro_f1-score': 0.8376624993440747, 'balanced_accuracy': 0.8332185605810016, 'mcc': 0.8049078900917347, 'train_loss': 0.3750676063780106}\n",
      "Epoch 4/20\n"
     ]
    },
    {
     "name": "stderr",
     "output_type": "stream",
     "text": [
      "100%|██████████| 2339/2339 [03:20<00:00, 11.67it/s]\n"
     ]
    },
    {
     "name": "stdout",
     "output_type": "stream",
     "text": [
      "{'val_loss': 0.48800450472368134, 'val_accuracy': 0.8456440406199893, 'precision': 0.8474835844562368, 'recall': 0.8456440406199893, 'f1-score': 0.8447322451193198, 'macro_f1-score': 0.8413272649132317, 'balanced_accuracy': 0.8334949744150927, 'mcc': 0.8104682464146349, 'train_loss': 0.30520510213475877}\n",
      "Epoch 5/20\n"
     ]
    },
    {
     "name": "stderr",
     "output_type": "stream",
     "text": [
      "100%|██████████| 2339/2339 [03:20<00:00, 11.65it/s]\n"
     ]
    },
    {
     "name": "stdout",
     "output_type": "stream",
     "text": [
      "{'val_loss': 0.46325056369647255, 'val_accuracy': 0.8587920897915553, 'precision': 0.8605196808011853, 'recall': 0.8587920897915553, 'f1-score': 0.8581878140660846, 'macro_f1-score': 0.8569724196336836, 'balanced_accuracy': 0.8585028383403226, 'mcc': 0.8274901296606829, 'train_loss': 0.2534134441161669}\n",
      "Epoch 6/20\n"
     ]
    },
    {
     "name": "stderr",
     "output_type": "stream",
     "text": [
      "100%|██████████| 2339/2339 [03:20<00:00, 11.66it/s]\n"
     ]
    },
    {
     "name": "stdout",
     "output_type": "stream",
     "text": [
      "{'val_loss': 0.4499555302847527, 'val_accuracy': 0.8616782469267771, 'precision': 0.8626435557105777, 'recall': 0.8616782469267771, 'f1-score': 0.8617750606024506, 'macro_f1-score': 0.8562306334216432, 'balanced_accuracy': 0.8537048522568752, 'mcc': 0.8300361624144343, 'train_loss': 0.21034932761246442}\n",
      "Epoch 7/20\n"
     ]
    },
    {
     "name": "stderr",
     "output_type": "stream",
     "text": [
      "100%|██████████| 2339/2339 [03:20<00:00, 11.66it/s]\n"
     ]
    },
    {
     "name": "stdout",
     "output_type": "stream",
     "text": [
      "{'val_loss': 0.6005131226188193, 'val_accuracy': 0.8463923035809727, 'precision': 0.8517009720343193, 'recall': 0.8463923035809727, 'f1-score': 0.8465722938891787, 'macro_f1-score': 0.8425923115328378, 'balanced_accuracy': 0.8352712164639082, 'mcc': 0.8114058724040736, 'train_loss': 0.17597654051356043}\n",
      "Epoch 8/20\n"
     ]
    },
    {
     "name": "stderr",
     "output_type": "stream",
     "text": [
      "100%|██████████| 2339/2339 [03:20<00:00, 11.67it/s]\n"
     ]
    },
    {
     "name": "stdout",
     "output_type": "stream",
     "text": [
      "{'val_loss': 0.5297180939760282, 'val_accuracy': 0.8646712987707108, 'precision': 0.8653551697792858, 'recall': 0.8646712987707108, 'f1-score': 0.8646568609938, 'macro_f1-score': 0.8563900322059582, 'balanced_accuracy': 0.8558792755214459, 'mcc': 0.8333875667876063, 'train_loss': 0.163065748668187}\n",
      "Early stopping.\n",
      "\n",
      "[Fold 2]\n",
      "Label distribution after resampling:\n",
      "  label 0: 5626\n",
      "  label 1: 1400\n",
      "  label 2: 8442\n",
      "  label 3: 10770\n",
      "  label 4: 1678\n",
      "  label 5: 5578\n",
      "  label 6: 1737\n",
      "  label 7: 2186\n",
      "model is roberta-base\n"
     ]
    },
    {
     "name": "stderr",
     "output_type": "stream",
     "text": [
      "Some weights of RobertaForSequenceClassification were not initialized from the model checkpoint at roberta-base and are newly initialized: ['classifier.dense.bias', 'classifier.dense.weight', 'classifier.out_proj.bias', 'classifier.out_proj.weight']\n",
      "You should probably TRAIN this model on a down-stream task to be able to use it for predictions and inference.\n"
     ]
    },
    {
     "name": "stdout",
     "output_type": "stream",
     "text": [
      "Epoch 1/20\n"
     ]
    },
    {
     "name": "stderr",
     "output_type": "stream",
     "text": [
      "100%|██████████| 2339/2339 [03:20<00:00, 11.67it/s]\n"
     ]
    },
    {
     "name": "stdout",
     "output_type": "stream",
     "text": [
      "{'val_loss': 0.55176126125595, 'val_accuracy': 0.8247995724211652, 'precision': 0.8313674576696168, 'recall': 0.8247995724211652, 'f1-score': 0.8241825674020556, 'macro_f1-score': 0.8273111498784056, 'balanced_accuracy': 0.8100228441510036, 'mcc': 0.7843464934023242, 'train_loss': 0.7047320203795908}\n",
      "Epoch 2/20\n"
     ]
    },
    {
     "name": "stderr",
     "output_type": "stream",
     "text": [
      "100%|██████████| 2339/2339 [03:20<00:00, 11.68it/s]\n"
     ]
    },
    {
     "name": "stdout",
     "output_type": "stream",
     "text": [
      "{'val_loss': 0.4684984149395401, 'val_accuracy': 0.8392303580972742, 'precision': 0.8434561470044222, 'recall': 0.8392303580972742, 'f1-score': 0.8387150410180995, 'macro_f1-score': 0.8387864993404541, 'balanced_accuracy': 0.837129915431851, 'mcc': 0.8033810875083719, 'train_loss': 0.4511956118474077}\n",
      "Epoch 3/20\n"
     ]
    },
    {
     "name": "stderr",
     "output_type": "stream",
     "text": [
      "100%|██████████| 2339/2339 [03:20<00:00, 11.67it/s]\n"
     ]
    },
    {
     "name": "stdout",
     "output_type": "stream",
     "text": [
      "{'val_loss': 0.448905044195489, 'val_accuracy': 0.8493853554249065, 'precision': 0.8519980288971631, 'recall': 0.8493853554249065, 'f1-score': 0.8492577223805338, 'macro_f1-score': 0.8509586078169457, 'balanced_accuracy': 0.8497614035528666, 'mcc': 0.8157471086082597, 'train_loss': 0.3771634721911905}\n",
      "Epoch 4/20\n"
     ]
    },
    {
     "name": "stderr",
     "output_type": "stream",
     "text": [
      "100%|██████████| 2339/2339 [03:20<00:00, 11.67it/s]\n"
     ]
    },
    {
     "name": "stdout",
     "output_type": "stream",
     "text": [
      "{'val_loss': 0.5384782154574735, 'val_accuracy': 0.8416889363976483, 'precision': 0.8464552392370188, 'recall': 0.8416889363976483, 'f1-score': 0.8416765843397908, 'macro_f1-score': 0.8392830667193594, 'balanced_accuracy': 0.8565720550647309, 'mcc': 0.8074212755122085, 'train_loss': 0.30700709514181335}\n",
      "Epoch 5/20\n"
     ]
    },
    {
     "name": "stderr",
     "output_type": "stream",
     "text": [
      "100%|██████████| 2339/2339 [03:19<00:00, 11.70it/s]\n"
     ]
    },
    {
     "name": "stdout",
     "output_type": "stream",
     "text": [
      "{'val_loss': 0.5083272833424883, 'val_accuracy': 0.8506680919294495, 'precision': 0.8523686702815438, 'recall': 0.8506680919294495, 'f1-score': 0.8505257457793777, 'macro_f1-score': 0.8519614436516361, 'balanced_accuracy': 0.8512798265136106, 'mcc': 0.8170517232333224, 'train_loss': 0.26520083108443054}\n",
      "Epoch 6/20\n"
     ]
    },
    {
     "name": "stderr",
     "output_type": "stream",
     "text": [
      "100%|██████████| 2339/2339 [03:19<00:00, 11.70it/s]\n"
     ]
    },
    {
     "name": "stdout",
     "output_type": "stream",
     "text": [
      "{'val_loss': 0.5210380710844492, 'val_accuracy': 0.8523784072688402, 'precision': 0.8547031400191388, 'recall': 0.8523784072688402, 'f1-score': 0.8520627128027742, 'macro_f1-score': 0.8532481324839595, 'balanced_accuracy': 0.8478215536353041, 'mcc': 0.8188253460863307, 'train_loss': 0.2151780090312298}\n",
      "Epoch 7/20\n"
     ]
    },
    {
     "name": "stderr",
     "output_type": "stream",
     "text": [
      "100%|██████████| 2339/2339 [03:20<00:00, 11.69it/s]\n"
     ]
    },
    {
     "name": "stdout",
     "output_type": "stream",
     "text": [
      "{'val_loss': 0.5609096120979287, 'val_accuracy': 0.8395510422234099, 'precision': 0.8453308763000923, 'recall': 0.8395510422234099, 'f1-score': 0.8397537251259154, 'macro_f1-score': 0.8363698180148738, 'balanced_accuracy': 0.8529266890436195, 'mcc': 0.8050571868491733, 'train_loss': 0.18013356396288965}\n",
      "Epoch 8/20\n"
     ]
    },
    {
     "name": "stderr",
     "output_type": "stream",
     "text": [
      "100%|██████████| 2339/2339 [03:20<00:00, 11.69it/s]\n"
     ]
    },
    {
     "name": "stdout",
     "output_type": "stream",
     "text": [
      "{'val_loss': 0.6600922734196035, 'val_accuracy': 0.8489577765900588, 'precision': 0.8491888631069306, 'recall': 0.8489577765900588, 'f1-score': 0.8484611707291075, 'macro_f1-score': 0.8464996379973424, 'balanced_accuracy': 0.8365021138732011, 'mcc': 0.8139232220897756, 'train_loss': 0.15039598635728732}\n",
      "Epoch 9/20\n"
     ]
    },
    {
     "name": "stderr",
     "output_type": "stream",
     "text": [
      "100%|██████████| 2339/2339 [03:20<00:00, 11.69it/s]\n"
     ]
    },
    {
     "name": "stdout",
     "output_type": "stream",
     "text": [
      "{'val_loss': 0.6755668958163478, 'val_accuracy': 0.8462854088722608, 'precision': 0.8486186014790508, 'recall': 0.8462854088722608, 'f1-score': 0.8460002438649162, 'macro_f1-score': 0.8364017375938657, 'balanced_accuracy': 0.8548868527861828, 'mcc': 0.8121523123308079, 'train_loss': 0.13432770973197278}\n",
      "Early stopping.\n",
      "\n",
      "[Fold 3]\n",
      "Label distribution after resampling:\n",
      "  label 0: 5626\n",
      "  label 1: 1399\n",
      "  label 2: 8442\n",
      "  label 3: 10770\n",
      "  label 4: 1679\n",
      "  label 5: 5578\n",
      "  label 6: 1738\n",
      "  label 7: 2186\n",
      "model is roberta-base\n"
     ]
    },
    {
     "name": "stderr",
     "output_type": "stream",
     "text": [
      "Some weights of RobertaForSequenceClassification were not initialized from the model checkpoint at roberta-base and are newly initialized: ['classifier.dense.bias', 'classifier.dense.weight', 'classifier.out_proj.bias', 'classifier.out_proj.weight']\n",
      "You should probably TRAIN this model on a down-stream task to be able to use it for predictions and inference.\n"
     ]
    },
    {
     "name": "stdout",
     "output_type": "stream",
     "text": [
      "Epoch 1/20\n"
     ]
    },
    {
     "name": "stderr",
     "output_type": "stream",
     "text": [
      "100%|██████████| 2339/2339 [03:19<00:00, 11.70it/s]\n"
     ]
    },
    {
     "name": "stdout",
     "output_type": "stream",
     "text": [
      "{'val_loss': 0.554984179062721, 'val_accuracy': 0.8068206115031002, 'precision': 0.8269305896431571, 'recall': 0.8068206115031002, 'f1-score': 0.8045449716512368, 'macro_f1-score': 0.8167571443510527, 'balanced_accuracy': 0.8317129852819369, 'mcc': 0.7710967942453902, 'train_loss': 0.6489001624079126}\n",
      "Epoch 2/20\n"
     ]
    },
    {
     "name": "stderr",
     "output_type": "stream",
     "text": [
      "100%|██████████| 2339/2339 [03:19<00:00, 11.70it/s]\n"
     ]
    },
    {
     "name": "stdout",
     "output_type": "stream",
     "text": [
      "{'val_loss': 0.45212447689129753, 'val_accuracy': 0.8438101347017318, 'precision': 0.8554888929077561, 'recall': 0.8438101347017318, 'f1-score': 0.8430289239904084, 'macro_f1-score': 0.8479823726528781, 'balanced_accuracy': 0.837314798819225, 'mcc': 0.8095529142842228, 'train_loss': 0.4294180773650927}\n",
      "Epoch 3/20\n"
     ]
    },
    {
     "name": "stderr",
     "output_type": "stream",
     "text": [
      "100%|██████████| 2339/2339 [03:19<00:00, 11.70it/s]\n"
     ]
    },
    {
     "name": "stdout",
     "output_type": "stream",
     "text": [
      "{'val_loss': 0.43321952808680186, 'val_accuracy': 0.8556767158434894, 'precision': 0.8588697698613535, 'recall': 0.8556767158434894, 'f1-score': 0.8552775451982799, 'macro_f1-score': 0.8529889520605878, 'balanced_accuracy': 0.8543580077471289, 'mcc': 0.8241430870441411, 'train_loss': 0.342164276917905}\n",
      "Epoch 4/20\n"
     ]
    },
    {
     "name": "stderr",
     "output_type": "stream",
     "text": [
      "100%|██████████| 2339/2339 [03:19<00:00, 11.70it/s]\n"
     ]
    },
    {
     "name": "stdout",
     "output_type": "stream",
     "text": [
      "{'val_loss': 0.4385519566698971, 'val_accuracy': 0.856425058798375, 'precision': 0.8639851993812665, 'recall': 0.856425058798375, 'f1-score': 0.8566272903660759, 'macro_f1-score': 0.8558618935815543, 'balanced_accuracy': 0.8578723875020424, 'mcc': 0.8242026483978535, 'train_loss': 0.27792537803775597}\n",
      "Epoch 5/20\n"
     ]
    },
    {
     "name": "stderr",
     "output_type": "stream",
     "text": [
      "100%|██████████| 2339/2339 [03:19<00:00, 11.70it/s]\n"
     ]
    },
    {
     "name": "stdout",
     "output_type": "stream",
     "text": [
      "{'val_loss': 0.43686164716242726, 'val_accuracy': 0.86433611289288, 'precision': 0.8663739109082816, 'recall': 0.86433611289288, 'f1-score': 0.8645174214237792, 'macro_f1-score': 0.856322306872417, 'balanced_accuracy': 0.8432492128681126, 'mcc': 0.8325823197634873, 'train_loss': 0.2206268328765201}\n",
      "Epoch 6/20\n"
     ]
    },
    {
     "name": "stderr",
     "output_type": "stream",
     "text": [
      "100%|██████████| 2339/2339 [03:20<00:00, 11.69it/s]\n"
     ]
    },
    {
     "name": "stdout",
     "output_type": "stream",
     "text": [
      "{'val_loss': 0.5047743661774912, 'val_accuracy': 0.8611289288005132, 'precision': 0.8637494283857381, 'recall': 0.8611289288005132, 'f1-score': 0.8612197554816159, 'macro_f1-score': 0.856997820128599, 'balanced_accuracy': 0.8549993668854172, 'mcc': 0.8296883563483772, 'train_loss': 0.16796490704312653}\n",
      "Epoch 7/20\n"
     ]
    },
    {
     "name": "stderr",
     "output_type": "stream",
     "text": [
      "100%|██████████| 2339/2339 [03:19<00:00, 11.70it/s]\n"
     ]
    },
    {
     "name": "stdout",
     "output_type": "stream",
     "text": [
      "{'val_loss': 0.5527709383421984, 'val_accuracy': 0.8617703656189866, 'precision': 0.8652944108445793, 'recall': 0.8617703656189866, 'f1-score': 0.861073461944346, 'macro_f1-score': 0.8622893418942402, 'balanced_accuracy': 0.8630602772793255, 'mcc': 0.8318895472611606, 'train_loss': 0.13835101559001262}\n",
      "Epoch 8/20\n"
     ]
    },
    {
     "name": "stderr",
     "output_type": "stream",
     "text": [
      "100%|██████████| 2339/2339 [03:20<00:00, 11.69it/s]\n"
     ]
    },
    {
     "name": "stdout",
     "output_type": "stream",
     "text": [
      "{'val_loss': 0.5619885371480551, 'val_accuracy': 0.864763737438529, 'precision': 0.8669176648549958, 'recall': 0.864763737438529, 'f1-score': 0.8649691973707573, 'macro_f1-score': 0.8590166848729068, 'balanced_accuracy': 0.8590852785977661, 'mcc': 0.8337916883243218, 'train_loss': 0.12549541212560417}\n",
      "Epoch 9/20\n"
     ]
    },
    {
     "name": "stderr",
     "output_type": "stream",
     "text": [
      "100%|██████████| 2339/2339 [03:19<00:00, 11.70it/s]\n"
     ]
    },
    {
     "name": "stdout",
     "output_type": "stream",
     "text": [
      "{'val_loss': 0.5798024957645366, 'val_accuracy': 0.8660466110754758, 'precision': 0.866677834648819, 'recall': 0.8660466110754758, 'f1-score': 0.86576371441504, 'macro_f1-score': 0.8644373117525378, 'balanced_accuracy': 0.8687685660489326, 'mcc': 0.836008430391884, 'train_loss': 0.11438989931455319}\n",
      "Epoch 10/20\n"
     ]
    },
    {
     "name": "stderr",
     "output_type": "stream",
     "text": [
      "100%|██████████| 2339/2339 [03:19<00:00, 11.70it/s]\n"
     ]
    },
    {
     "name": "stdout",
     "output_type": "stream",
     "text": [
      "{'val_loss': 0.5744726375678681, 'val_accuracy': 0.8695745135770794, 'precision': 0.8698660224898798, 'recall': 0.8695745135770794, 'f1-score': 0.8690922875741717, 'macro_f1-score': 0.8657179906211938, 'balanced_accuracy': 0.8695650194766354, 'mcc': 0.8399873579559746, 'train_loss': 0.10093580704238529}\n",
      "Epoch 11/20\n"
     ]
    },
    {
     "name": "stderr",
     "output_type": "stream",
     "text": [
      "100%|██████████| 2339/2339 [03:19<00:00, 11.70it/s]\n"
     ]
    },
    {
     "name": "stdout",
     "output_type": "stream",
     "text": [
      "{'val_loss': 0.6662315648562538, 'val_accuracy': 0.8551421851614283, 'precision': 0.8583152869148257, 'recall': 0.8551421851614283, 'f1-score': 0.8549552436299546, 'macro_f1-score': 0.848570130264946, 'balanced_accuracy': 0.860132261976069, 'mcc': 0.8224554701827169, 'train_loss': 0.0864008324764131}\n",
      "Epoch 12/20\n"
     ]
    },
    {
     "name": "stderr",
     "output_type": "stream",
     "text": [
      "100%|██████████| 2339/2339 [03:19<00:00, 11.70it/s]\n"
     ]
    },
    {
     "name": "stdout",
     "output_type": "stream",
     "text": [
      "{'val_loss': 0.7487087818662612, 'val_accuracy': 0.8625187085738721, 'precision': 0.8626528085247451, 'recall': 0.8625187085738721, 'f1-score': 0.8619170790578101, 'macro_f1-score': 0.8546394700048614, 'balanced_accuracy': 0.8575826752803279, 'mcc': 0.830982146512083, 'train_loss': 0.07452825413474434}\n",
      "Epoch 13/20\n"
     ]
    },
    {
     "name": "stderr",
     "output_type": "stream",
     "text": [
      "100%|██████████| 2339/2339 [03:19<00:00, 11.71it/s]\n"
     ]
    },
    {
     "name": "stdout",
     "output_type": "stream",
     "text": [
      "{'val_loss': 0.7042455825809405, 'val_accuracy': 0.8571734017532606, 'precision': 0.8615562427394622, 'recall': 0.8571734017532606, 'f1-score': 0.8567053665938879, 'macro_f1-score': 0.8565127291186461, 'balanced_accuracy': 0.8489070211947373, 'mcc': 0.8256180699152007, 'train_loss': 0.07614564718513353}\n",
      "Early stopping.\n",
      "\n",
      "[Fold 4]\n",
      "Label distribution after resampling:\n",
      "  label 0: 5625\n",
      "  label 1: 1399\n",
      "  label 2: 8441\n",
      "  label 3: 10771\n",
      "  label 4: 1679\n",
      "  label 5: 5579\n",
      "  label 6: 1738\n",
      "  label 7: 2186\n",
      "model is roberta-base\n"
     ]
    },
    {
     "name": "stderr",
     "output_type": "stream",
     "text": [
      "Some weights of RobertaForSequenceClassification were not initialized from the model checkpoint at roberta-base and are newly initialized: ['classifier.dense.bias', 'classifier.dense.weight', 'classifier.out_proj.bias', 'classifier.out_proj.weight']\n",
      "You should probably TRAIN this model on a down-stream task to be able to use it for predictions and inference.\n"
     ]
    },
    {
     "name": "stdout",
     "output_type": "stream",
     "text": [
      "Epoch 1/20\n"
     ]
    },
    {
     "name": "stderr",
     "output_type": "stream",
     "text": [
      "100%|██████████| 2339/2339 [03:20<00:00, 11.69it/s]\n"
     ]
    },
    {
     "name": "stdout",
     "output_type": "stream",
     "text": [
      "{'val_loss': 0.46358339799902376, 'val_accuracy': 0.8458413512935643, 'precision': 0.848641733797023, 'recall': 0.8458413512935643, 'f1-score': 0.8454510473626056, 'macro_f1-score': 0.847349434061528, 'balanced_accuracy': 0.8278850108644269, 'mcc': 0.8099527594635102, 'train_loss': 0.6774637445969911}\n",
      "Epoch 2/20\n"
     ]
    },
    {
     "name": "stderr",
     "output_type": "stream",
     "text": [
      "100%|██████████| 2339/2339 [03:20<00:00, 11.69it/s]\n"
     ]
    },
    {
     "name": "stdout",
     "output_type": "stream",
     "text": [
      "{'val_loss': 0.4508824921316571, 'val_accuracy': 0.8496899722044046, 'precision': 0.8529163741082022, 'recall': 0.8496899722044046, 'f1-score': 0.8495501890478983, 'macro_f1-score': 0.8466790189258875, 'balanced_accuracy': 0.8551285209437898, 'mcc': 0.8162932742996732, 'train_loss': 0.4244557544342176}\n",
      "Epoch 3/20\n"
     ]
    },
    {
     "name": "stderr",
     "output_type": "stream",
     "text": [
      "100%|██████████| 2339/2339 [03:20<00:00, 11.69it/s]\n"
     ]
    },
    {
     "name": "stdout",
     "output_type": "stream",
     "text": [
      "{'val_loss': 0.4627695934146515, 'val_accuracy': 0.8551421851614283, 'precision': 0.8579471437775753, 'recall': 0.8551421851614283, 'f1-score': 0.8546083788984383, 'macro_f1-score': 0.8495033205573012, 'balanced_accuracy': 0.8393653204325655, 'mcc': 0.8212989270524514, 'train_loss': 0.34487116685859437}\n",
      "Epoch 4/20\n"
     ]
    },
    {
     "name": "stderr",
     "output_type": "stream",
     "text": [
      "100%|██████████| 2339/2339 [03:20<00:00, 11.69it/s]\n"
     ]
    },
    {
     "name": "stdout",
     "output_type": "stream",
     "text": [
      "{'val_loss': 0.4853126630003954, 'val_accuracy': 0.8510797519777635, 'precision': 0.8564019300110709, 'recall': 0.8510797519777635, 'f1-score': 0.8508534338728134, 'macro_f1-score': 0.8493874014140457, 'balanced_accuracy': 0.854268937696836, 'mcc': 0.8174725464251275, 'train_loss': 0.27311978345221627}\n",
      "Epoch 5/20\n"
     ]
    },
    {
     "name": "stderr",
     "output_type": "stream",
     "text": [
      "100%|██████████| 2339/2339 [03:20<00:00, 11.69it/s]\n"
     ]
    },
    {
     "name": "stdout",
     "output_type": "stream",
     "text": [
      "{'val_loss': 0.46803154465384206, 'val_accuracy': 0.8527902501603593, 'precision': 0.856529118567496, 'recall': 0.8527902501603593, 'f1-score': 0.8520846976103785, 'macro_f1-score': 0.8554699637107336, 'balanced_accuracy': 0.8532309860371736, 'mcc': 0.8207804790835433, 'train_loss': 0.22132692812110188}\n",
      "Epoch 6/20\n"
     ]
    },
    {
     "name": "stderr",
     "output_type": "stream",
     "text": [
      "100%|██████████| 2339/2339 [03:19<00:00, 11.70it/s]\n"
     ]
    },
    {
     "name": "stdout",
     "output_type": "stream",
     "text": [
      "{'val_loss': 0.5029596613735979, 'val_accuracy': 0.859204618345093, 'precision': 0.8612148203090179, 'recall': 0.859204618345093, 'f1-score': 0.8587252823692989, 'macro_f1-score': 0.8588473531650282, 'balanced_accuracy': 0.8592934679608751, 'mcc': 0.8270119542151658, 'train_loss': 0.17429501912825354}\n",
      "Epoch 7/20\n"
     ]
    },
    {
     "name": "stderr",
     "output_type": "stream",
     "text": [
      "100%|██████████| 2339/2339 [03:19<00:00, 11.70it/s]\n"
     ]
    },
    {
     "name": "stdout",
     "output_type": "stream",
     "text": [
      "{'val_loss': 0.5480779860168695, 'val_accuracy': 0.8649775497113534, 'precision': 0.8648939602805416, 'recall': 0.8649775497113534, 'f1-score': 0.8647087358377528, 'macro_f1-score': 0.8635750184048612, 'balanced_accuracy': 0.8625129040632, 'mcc': 0.8338857661336169, 'train_loss': 0.142284007852299}\n",
      "Epoch 8/20\n"
     ]
    },
    {
     "name": "stderr",
     "output_type": "stream",
     "text": [
      "100%|██████████| 2339/2339 [03:19<00:00, 11.70it/s]\n"
     ]
    },
    {
     "name": "stdout",
     "output_type": "stream",
     "text": [
      "{'val_loss': 0.5589749348318029, 'val_accuracy': 0.864763737438529, 'precision': 0.8658289186035383, 'recall': 0.864763737438529, 'f1-score': 0.8650777659517919, 'macro_f1-score': 0.8635846940948317, 'balanced_accuracy': 0.8664430071698407, 'mcc': 0.8337898816997996, 'train_loss': 0.11752656023820378}\n",
      "Epoch 9/20\n"
     ]
    },
    {
     "name": "stderr",
     "output_type": "stream",
     "text": [
      "100%|██████████| 2339/2339 [03:19<00:00, 11.70it/s]\n"
     ]
    },
    {
     "name": "stdout",
     "output_type": "stream",
     "text": [
      "{'val_loss': 0.6295066777411769, 'val_accuracy': 0.859204618345093, 'precision': 0.8594631428110583, 'recall': 0.859204618345093, 'f1-score': 0.8589376846848099, 'macro_f1-score': 0.8557699590839012, 'balanced_accuracy': 0.8594902209839503, 'mcc': 0.8271679067114615, 'train_loss': 0.10072995520132351}\n",
      "Epoch 10/20\n"
     ]
    },
    {
     "name": "stderr",
     "output_type": "stream",
     "text": [
      "100%|██████████| 2339/2339 [03:20<00:00, 11.69it/s]\n"
     ]
    },
    {
     "name": "stdout",
     "output_type": "stream",
     "text": [
      "{'val_loss': 0.6289487501379485, 'val_accuracy': 0.861984177891811, 'precision': 0.8632827006292315, 'recall': 0.861984177891811, 'f1-score': 0.8618298516789646, 'macro_f1-score': 0.8626577290521052, 'balanced_accuracy': 0.8563819773640258, 'mcc': 0.8305850851476398, 'train_loss': 0.08880057152270193}\n",
      "Epoch 11/20\n"
     ]
    },
    {
     "name": "stderr",
     "output_type": "stream",
     "text": [
      "100%|██████████| 2339/2339 [03:20<00:00, 11.69it/s]\n"
     ]
    },
    {
     "name": "stdout",
     "output_type": "stream",
     "text": [
      "{'val_loss': 0.6745812187709599, 'val_accuracy': 0.8581355569809707, 'precision': 0.8589288501305944, 'recall': 0.8581355569809707, 'f1-score': 0.8576880268428713, 'macro_f1-score': 0.8560184423939212, 'balanced_accuracy': 0.8488584651096125, 'mcc': 0.8251280780226271, 'train_loss': 0.07051118913116773}\n",
      "Early stopping.\n",
      "\n",
      "[Fold 5]\n",
      "Label distribution after resampling:\n",
      "  label 0: 5625\n",
      "  label 1: 1399\n",
      "  label 2: 8441\n",
      "  label 3: 10771\n",
      "  label 4: 1678\n",
      "  label 5: 5579\n",
      "  label 6: 1738\n",
      "  label 7: 2187\n",
      "model is roberta-base\n"
     ]
    },
    {
     "name": "stderr",
     "output_type": "stream",
     "text": [
      "Some weights of RobertaForSequenceClassification were not initialized from the model checkpoint at roberta-base and are newly initialized: ['classifier.dense.bias', 'classifier.dense.weight', 'classifier.out_proj.bias', 'classifier.out_proj.weight']\n",
      "You should probably TRAIN this model on a down-stream task to be able to use it for predictions and inference.\n"
     ]
    },
    {
     "name": "stdout",
     "output_type": "stream",
     "text": [
      "Epoch 1/20\n"
     ]
    },
    {
     "name": "stderr",
     "output_type": "stream",
     "text": [
      "100%|██████████| 2339/2339 [03:19<00:00, 11.70it/s]\n"
     ]
    },
    {
     "name": "stdout",
     "output_type": "stream",
     "text": [
      "{'val_loss': 0.5206475786832917, 'val_accuracy': 0.8300192431045542, 'precision': 0.835464306131612, 'recall': 0.8300192431045542, 'f1-score': 0.8301558396368788, 'macro_f1-score': 0.8336724388201988, 'balanced_accuracy': 0.8341014768899495, 'mcc': 0.7927081102862197, 'train_loss': 0.7150600683859853}\n",
      "Epoch 2/20\n"
     ]
    },
    {
     "name": "stderr",
     "output_type": "stream",
     "text": [
      "100%|██████████| 2339/2339 [03:19<00:00, 11.70it/s]\n"
     ]
    },
    {
     "name": "stdout",
     "output_type": "stream",
     "text": [
      "{'val_loss': 0.5713905040907045, 'val_accuracy': 0.8194355355997435, 'precision': 0.8275864387306557, 'recall': 0.8194355355997435, 'f1-score': 0.8197830722838, 'macro_f1-score': 0.8155695300959476, 'balanced_accuracy': 0.8394971296922763, 'mcc': 0.7815412682888714, 'train_loss': 0.45591816351585357}\n",
      "Epoch 3/20\n"
     ]
    },
    {
     "name": "stderr",
     "output_type": "stream",
     "text": [
      "100%|██████████| 2339/2339 [03:19<00:00, 11.70it/s]\n"
     ]
    },
    {
     "name": "stdout",
     "output_type": "stream",
     "text": [
      "{'val_loss': 0.46132616349296945, 'val_accuracy': 0.8542869360701304, 'precision': 0.8553110594743312, 'recall': 0.8542869360701304, 'f1-score': 0.8543314579549506, 'macro_f1-score': 0.8463850637821462, 'balanced_accuracy': 0.8601141512057542, 'mcc': 0.8214673625433653, 'train_loss': 0.3665235122819457}\n",
      "Epoch 4/20\n"
     ]
    },
    {
     "name": "stderr",
     "output_type": "stream",
     "text": [
      "100%|██████████| 2339/2339 [03:19<00:00, 11.70it/s]\n"
     ]
    },
    {
     "name": "stdout",
     "output_type": "stream",
     "text": [
      "{'val_loss': 0.45236528642539287, 'val_accuracy': 0.8501175967500535, 'precision': 0.855257073694706, 'recall': 0.8501175967500535, 'f1-score': 0.8505654022782464, 'macro_f1-score': 0.8473977541983628, 'balanced_accuracy': 0.845447078754626, 'mcc': 0.817061260456977, 'train_loss': 0.3070525195510909}\n",
      "Epoch 5/20\n"
     ]
    },
    {
     "name": "stderr",
     "output_type": "stream",
     "text": [
      "100%|██████████| 2339/2339 [03:20<00:00, 11.69it/s]\n"
     ]
    },
    {
     "name": "stdout",
     "output_type": "stream",
     "text": [
      "{'val_loss': 0.4908941721957591, 'val_accuracy': 0.8579217447081462, 'precision': 0.8586396132082595, 'recall': 0.8579217447081462, 'f1-score': 0.8576927273828523, 'macro_f1-score': 0.8533549321478566, 'balanced_accuracy': 0.8632054398896766, 'mcc': 0.8257631694759979, 'train_loss': 0.24629222908204199}\n",
      "Epoch 6/20\n"
     ]
    },
    {
     "name": "stderr",
     "output_type": "stream",
     "text": [
      "100%|██████████| 2339/2339 [03:19<00:00, 11.70it/s]\n"
     ]
    },
    {
     "name": "stdout",
     "output_type": "stream",
     "text": [
      "{'val_loss': 0.46954959641155014, 'val_accuracy': 0.8546076544793672, 'precision': 0.8569046662159558, 'recall': 0.8546076544793672, 'f1-score': 0.8551198778564866, 'macro_f1-score': 0.8499360167186634, 'balanced_accuracy': 0.8513153010276936, 'mcc': 0.8215556499654944, 'train_loss': 0.20283108622165394}\n",
      "Epoch 7/20\n"
     ]
    },
    {
     "name": "stderr",
     "output_type": "stream",
     "text": [
      "100%|██████████| 2339/2339 [03:20<00:00, 11.69it/s]\n"
     ]
    },
    {
     "name": "stdout",
     "output_type": "stream",
     "text": [
      "{'val_loss': 0.585639719863653, 'val_accuracy': 0.8562112465255506, 'precision': 0.8583318737067867, 'recall': 0.8562112465255506, 'f1-score': 0.8561861015533011, 'macro_f1-score': 0.8589525231318944, 'balanced_accuracy': 0.8662463782080818, 'mcc': 0.8243168809297552, 'train_loss': 0.17096979004681723}\n",
      "Epoch 8/20\n"
     ]
    },
    {
     "name": "stderr",
     "output_type": "stream",
     "text": [
      "100%|██████████| 2339/2339 [03:19<00:00, 11.70it/s]\n"
     ]
    },
    {
     "name": "stdout",
     "output_type": "stream",
     "text": [
      "{'val_loss': 0.6016953532993953, 'val_accuracy': 0.8534316869788325, 'precision': 0.8574989735695995, 'recall': 0.8534316869788325, 'f1-score': 0.8532552930258844, 'macro_f1-score': 0.8499274764506632, 'balanced_accuracy': 0.8421747672645186, 'mcc': 0.8202854403156958, 'train_loss': 0.13825582160734678}\n",
      "Epoch 9/20\n"
     ]
    },
    {
     "name": "stderr",
     "output_type": "stream",
     "text": [
      "100%|██████████| 2339/2339 [03:19<00:00, 11.71it/s]\n"
     ]
    },
    {
     "name": "stdout",
     "output_type": "stream",
     "text": [
      "{'val_loss': 0.6542484772116997, 'val_accuracy': 0.8496899722044046, 'precision': 0.8513426908543598, 'recall': 0.8496899722044046, 'f1-score': 0.8493585325922351, 'macro_f1-score': 0.846603307624709, 'balanced_accuracy': 0.8471858286072497, 'mcc': 0.8158786755937133, 'train_loss': 0.12364299322275207}\n",
      "Epoch 10/20\n"
     ]
    },
    {
     "name": "stderr",
     "output_type": "stream",
     "text": [
      "100%|██████████| 2339/2339 [03:19<00:00, 11.70it/s]\n"
     ]
    },
    {
     "name": "stdout",
     "output_type": "stream",
     "text": [
      "{'val_loss': 0.6275057028206941, 'val_accuracy': 0.8518280949326491, 'precision': 0.8539191977460345, 'recall': 0.8518280949326491, 'f1-score': 0.8516056847341738, 'macro_f1-score': 0.8460018602074204, 'balanced_accuracy': 0.8651622974016127, 'mcc': 0.8190489368887136, 'train_loss': 0.11012084109025007}\n",
      "Early stopping.\n",
      "\n",
      " === roberta-base + plain + none Final 5-fold Cross-Validation Results ===\n",
      "val_loss: 0.5407\n",
      "val_accuracy: 0.8603\n",
      "precision: 0.8618\n",
      "recall: 0.8603\n",
      "f1-score: 0.8601\n",
      "macro_f1-score: 0.8597\n",
      "balanced_accuracy: 0.8617\n",
      "mcc: 0.8289\n",
      "train_loss: 0.1716\n",
      "total_seconds: 11227.0000\n",
      "total_time: 3 hrs 7 mins 7 secs\n",
      "▶ Running: roberta-base + cnn + none\n",
      "tokenizer is roberta-base\n",
      "Using device: cuda\n",
      "CUDA Available: True\n",
      "CUDA Device: NVIDIA GeForce RTX 5070 Ti\n",
      "Current GPU Memory Allocated: 0.02 GB\n",
      "Current GPU Memory Cached: 3.93 GB\n",
      "\n",
      "[Fold 1]\n",
      "Label distribution after resampling:\n",
      "  label 0: 5626\n",
      "  label 1: 1399\n",
      "  label 2: 8442\n",
      "  label 3: 10770\n",
      "  label 4: 1678\n",
      "  label 5: 5578\n",
      "  label 6: 1737\n",
      "  label 7: 2187\n",
      "model is roberta-base cnn\n"
     ]
    },
    {
     "name": "stderr",
     "output_type": "stream",
     "text": [
      "Some weights of RobertaModel were not initialized from the model checkpoint at roberta-base and are newly initialized: ['pooler.dense.bias', 'pooler.dense.weight']\n",
      "You should probably TRAIN this model on a down-stream task to be able to use it for predictions and inference.\n"
     ]
    },
    {
     "name": "stdout",
     "output_type": "stream",
     "text": [
      "Epoch 1/20\n"
     ]
    },
    {
     "name": "stderr",
     "output_type": "stream",
     "text": [
      "100%|██████████| 2339/2339 [03:23<00:00, 11.47it/s]\n"
     ]
    },
    {
     "name": "stdout",
     "output_type": "stream",
     "text": [
      "{'val_loss': 0.5017936545686844, 'val_accuracy': 0.8404061998931053, 'precision': 0.8415146498699355, 'recall': 0.8404061998931053, 'f1-score': 0.8403986107815531, 'macro_f1-score': 0.8348735300342753, 'balanced_accuracy': 0.8288985228586092, 'mcc': 0.8035135776373379, 'train_loss': 0.6611851492865619}\n",
      "Epoch 2/20\n"
     ]
    },
    {
     "name": "stderr",
     "output_type": "stream",
     "text": [
      "100%|██████████| 2339/2339 [03:23<00:00, 11.47it/s]\n"
     ]
    },
    {
     "name": "stdout",
     "output_type": "stream",
     "text": [
      "{'val_loss': 0.4644656884109872, 'val_accuracy': 0.8523784072688402, 'precision': 0.8548630600729598, 'recall': 0.8523784072688402, 'f1-score': 0.8513192502305968, 'macro_f1-score': 0.8374394446351692, 'balanced_accuracy': 0.833077653428834, 'mcc': 0.8183938597982963, 'train_loss': 0.45533917877741886}\n",
      "Epoch 3/20\n"
     ]
    },
    {
     "name": "stderr",
     "output_type": "stream",
     "text": [
      "100%|██████████| 2339/2339 [03:23<00:00, 11.47it/s]\n"
     ]
    },
    {
     "name": "stdout",
     "output_type": "stream",
     "text": [
      "{'val_loss': 0.41398379122599577, 'val_accuracy': 0.8659540352752538, 'precision': 0.8678020015402671, 'recall': 0.8659540352752538, 'f1-score': 0.8658747260138832, 'macro_f1-score': 0.858638794333431, 'balanced_accuracy': 0.8404693751332662, 'mcc': 0.8345617184517795, 'train_loss': 0.37142183425525294}\n",
      "Epoch 4/20\n"
     ]
    },
    {
     "name": "stderr",
     "output_type": "stream",
     "text": [
      "100%|██████████| 2339/2339 [03:23<00:00, 11.48it/s]\n"
     ]
    },
    {
     "name": "stdout",
     "output_type": "stream",
     "text": [
      "{'val_loss': 0.39003112454954375, 'val_accuracy': 0.8715125601282736, 'precision': 0.872164664938635, 'recall': 0.8715125601282736, 'f1-score': 0.8716785689266093, 'macro_f1-score': 0.8687223834186943, 'balanced_accuracy': 0.8638980000272726, 'mcc': 0.8415862158653563, 'train_loss': 0.3095127721044365}\n",
      "Epoch 5/20\n"
     ]
    },
    {
     "name": "stderr",
     "output_type": "stream",
     "text": [
      "100%|██████████| 2339/2339 [03:23<00:00, 11.48it/s]\n"
     ]
    },
    {
     "name": "stdout",
     "output_type": "stream",
     "text": [
      "{'val_loss': 0.42560931865730856, 'val_accuracy': 0.8624265098877606, 'precision': 0.8657474285122314, 'recall': 0.8624265098877606, 'f1-score': 0.8627013904187586, 'macro_f1-score': 0.8549689665810342, 'balanced_accuracy': 0.8504652902058698, 'mcc': 0.8305192624616633, 'train_loss': 0.24916836687265337}\n",
      "Epoch 6/20\n"
     ]
    },
    {
     "name": "stderr",
     "output_type": "stream",
     "text": [
      "100%|██████████| 2339/2339 [03:23<00:00, 11.48it/s]\n"
     ]
    },
    {
     "name": "stdout",
     "output_type": "stream",
     "text": [
      "{'val_loss': 0.4413016012527494, 'val_accuracy': 0.8662747194013897, 'precision': 0.8700207720059234, 'recall': 0.8662747194013897, 'f1-score': 0.8665970268246765, 'macro_f1-score': 0.8615150477383111, 'balanced_accuracy': 0.8613013873521762, 'mcc': 0.8358253989614219, 'train_loss': 0.20359253938707622}\n",
      "Epoch 7/20\n"
     ]
    },
    {
     "name": "stderr",
     "output_type": "stream",
     "text": [
      "100%|██████████| 2339/2339 [03:23<00:00, 11.48it/s]\n"
     ]
    },
    {
     "name": "stdout",
     "output_type": "stream",
     "text": [
      "{'val_loss': 0.4495982605518184, 'val_accuracy': 0.8613575628006414, 'precision': 0.8645899609039004, 'recall': 0.8613575628006414, 'f1-score': 0.8619973087620257, 'macro_f1-score': 0.8531705059354244, 'balanced_accuracy': 0.8681906481286863, 'mcc': 0.8302169001137069, 'train_loss': 0.1723279749926629}\n",
      "Early stopping.\n",
      "\n",
      "[Fold 2]\n",
      "Label distribution after resampling:\n",
      "  label 0: 5626\n",
      "  label 1: 1400\n",
      "  label 2: 8442\n",
      "  label 3: 10770\n",
      "  label 4: 1678\n",
      "  label 5: 5578\n",
      "  label 6: 1737\n",
      "  label 7: 2186\n",
      "model is roberta-base cnn\n"
     ]
    },
    {
     "name": "stderr",
     "output_type": "stream",
     "text": [
      "Some weights of RobertaModel were not initialized from the model checkpoint at roberta-base and are newly initialized: ['pooler.dense.bias', 'pooler.dense.weight']\n",
      "You should probably TRAIN this model on a down-stream task to be able to use it for predictions and inference.\n"
     ]
    },
    {
     "name": "stdout",
     "output_type": "stream",
     "text": [
      "Epoch 1/20\n"
     ]
    },
    {
     "name": "stderr",
     "output_type": "stream",
     "text": [
      "100%|██████████| 2339/2339 [03:23<00:00, 11.47it/s]\n"
     ]
    },
    {
     "name": "stdout",
     "output_type": "stream",
     "text": [
      "{'val_loss': 0.5702654770296863, 'val_accuracy': 0.8075895243185462, 'precision': 0.8222902574203668, 'recall': 0.8075895243185462, 'f1-score': 0.8064205505363022, 'macro_f1-score': 0.8094130221518785, 'balanced_accuracy': 0.7942224858633956, 'mcc': 0.7656316785179026, 'train_loss': 0.7148930743629731}\n",
      "Epoch 2/20\n"
     ]
    },
    {
     "name": "stderr",
     "output_type": "stream",
     "text": [
      "100%|██████████| 2339/2339 [03:23<00:00, 11.47it/s]\n"
     ]
    },
    {
     "name": "stdout",
     "output_type": "stream",
     "text": [
      "{'val_loss': 0.5016443840968303, 'val_accuracy': 0.8437199358631747, 'precision': 0.8481711418823621, 'recall': 0.8437199358631747, 'f1-score': 0.8432534213812968, 'macro_f1-score': 0.8418537607063892, 'balanced_accuracy': 0.8279255464708293, 'mcc': 0.808154052497911, 'train_loss': 0.4559607601733723}\n",
      "Epoch 3/20\n"
     ]
    },
    {
     "name": "stderr",
     "output_type": "stream",
     "text": [
      "100%|██████████| 2339/2339 [03:23<00:00, 11.48it/s]\n"
     ]
    },
    {
     "name": "stdout",
     "output_type": "stream",
     "text": [
      "{'val_loss': 0.5007222726304307, 'val_accuracy': 0.8399786210582576, 'precision': 0.8443625108747025, 'recall': 0.8399786210582576, 'f1-score': 0.8388331043986558, 'macro_f1-score': 0.834491201115592, 'balanced_accuracy': 0.8341970313267801, 'mcc': 0.8048698335997769, 'train_loss': 0.37733738602295536}\n",
      "Epoch 4/20\n"
     ]
    },
    {
     "name": "stderr",
     "output_type": "stream",
     "text": [
      "100%|██████████| 2339/2339 [03:23<00:00, 11.48it/s]\n"
     ]
    },
    {
     "name": "stdout",
     "output_type": "stream",
     "text": [
      "{'val_loss': 0.44630950162043936, 'val_accuracy': 0.8526990913949759, 'precision': 0.855123485498815, 'recall': 0.8526990913949759, 'f1-score': 0.8525279735718574, 'macro_f1-score': 0.8444140706950836, 'balanced_accuracy': 0.8381081381290232, 'mcc': 0.8184466591084228, 'train_loss': 0.32024271440241914}\n",
      "Epoch 5/20\n"
     ]
    },
    {
     "name": "stderr",
     "output_type": "stream",
     "text": [
      "100%|██████████| 2339/2339 [03:23<00:00, 11.48it/s]\n"
     ]
    },
    {
     "name": "stdout",
     "output_type": "stream",
     "text": [
      "{'val_loss': 0.47575237055141956, 'val_accuracy': 0.8517370390165687, 'precision': 0.8547913827882883, 'recall': 0.8517370390165687, 'f1-score': 0.8516994182220702, 'macro_f1-score': 0.8487441941814197, 'balanced_accuracy': 0.8560735556094135, 'mcc': 0.8192290259465436, 'train_loss': 0.30062207206506353}\n",
      "Epoch 6/20\n"
     ]
    },
    {
     "name": "stderr",
     "output_type": "stream",
     "text": [
      "100%|██████████| 2339/2339 [03:23<00:00, 11.48it/s]\n"
     ]
    },
    {
     "name": "stdout",
     "output_type": "stream",
     "text": [
      "{'val_loss': 0.47895676686754846, 'val_accuracy': 0.8603955104222341, 'precision': 0.8624635605892764, 'recall': 0.8603955104222341, 'f1-score': 0.8606454646204156, 'macro_f1-score': 0.8607926848138776, 'balanced_accuracy': 0.8627216095445254, 'mcc': 0.828893030055053, 'train_loss': 0.24508654180489714}\n",
      "Epoch 7/20\n"
     ]
    },
    {
     "name": "stderr",
     "output_type": "stream",
     "text": [
      "100%|██████████| 2339/2339 [03:23<00:00, 11.48it/s]\n"
     ]
    },
    {
     "name": "stdout",
     "output_type": "stream",
     "text": [
      "{'val_loss': 0.4743943860865811, 'val_accuracy': 0.8572955638695885, 'precision': 0.8576293211898243, 'recall': 0.8572955638695885, 'f1-score': 0.8568966181728653, 'macro_f1-score': 0.855287344770586, 'balanced_accuracy': 0.8588750292235512, 'mcc': 0.8246493803727044, 'train_loss': 0.1883255463573216}\n",
      "Epoch 8/20\n"
     ]
    },
    {
     "name": "stderr",
     "output_type": "stream",
     "text": [
      "100%|██████████| 2339/2339 [03:23<00:00, 11.49it/s]\n"
     ]
    },
    {
     "name": "stdout",
     "output_type": "stream",
     "text": [
      "{'val_loss': 0.4696164654344957, 'val_accuracy': 0.8541956173169428, 'precision': 0.8555322196725927, 'recall': 0.8541956173169428, 'f1-score': 0.8542110367118857, 'macro_f1-score': 0.8544460081283118, 'balanced_accuracy': 0.8486594301275892, 'mcc': 0.8204066551271395, 'train_loss': 0.17679623209713277}\n",
      "Epoch 9/20\n"
     ]
    },
    {
     "name": "stderr",
     "output_type": "stream",
     "text": [
      "100%|██████████| 2339/2339 [03:23<00:00, 11.48it/s]\n"
     ]
    },
    {
     "name": "stdout",
     "output_type": "stream",
     "text": [
      "{'val_loss': 0.5045763375953987, 'val_accuracy': 0.8489577765900588, 'precision': 0.85153478840075, 'recall': 0.8489577765900588, 'f1-score': 0.8493221652723171, 'macro_f1-score': 0.8511008151536998, 'balanced_accuracy': 0.8511302513146068, 'mcc': 0.8147865335812431, 'train_loss': 0.165613134274867}\n",
      "Early stopping.\n",
      "\n",
      "[Fold 3]\n",
      "Label distribution after resampling:\n",
      "  label 0: 5626\n",
      "  label 1: 1399\n",
      "  label 2: 8442\n",
      "  label 3: 10770\n",
      "  label 4: 1679\n",
      "  label 5: 5578\n",
      "  label 6: 1738\n",
      "  label 7: 2186\n",
      "model is roberta-base cnn\n"
     ]
    },
    {
     "name": "stderr",
     "output_type": "stream",
     "text": [
      "Some weights of RobertaModel were not initialized from the model checkpoint at roberta-base and are newly initialized: ['pooler.dense.bias', 'pooler.dense.weight']\n",
      "You should probably TRAIN this model on a down-stream task to be able to use it for predictions and inference.\n"
     ]
    },
    {
     "name": "stdout",
     "output_type": "stream",
     "text": [
      "Epoch 1/20\n"
     ]
    },
    {
     "name": "stderr",
     "output_type": "stream",
     "text": [
      "100%|██████████| 2339/2339 [03:23<00:00, 11.47it/s]\n"
     ]
    },
    {
     "name": "stdout",
     "output_type": "stream",
     "text": [
      "{'val_loss': 0.5232423780947669, 'val_accuracy': 0.8310883044686765, 'precision': 0.8370315082955084, 'recall': 0.8310883044686765, 'f1-score': 0.8308349930059831, 'macro_f1-score': 0.8280003542649754, 'balanced_accuracy': 0.8544612809852614, 'mcc': 0.7955789361196868, 'train_loss': 0.6840807905372084}\n",
      "Epoch 2/20\n"
     ]
    },
    {
     "name": "stderr",
     "output_type": "stream",
     "text": [
      "100%|██████████| 2339/2339 [03:23<00:00, 11.47it/s]\n"
     ]
    },
    {
     "name": "stdout",
     "output_type": "stream",
     "text": [
      "{'val_loss': 0.41838707047013135, 'val_accuracy': 0.8632670515287577, 'precision': 0.8645409913768974, 'recall': 0.8632670515287577, 'f1-score': 0.8626995877701581, 'macro_f1-score': 0.8558126709356126, 'balanced_accuracy': 0.8510064147959453, 'mcc': 0.8317608425263607, 'train_loss': 0.4575016199610729}\n",
      "Epoch 3/20\n"
     ]
    },
    {
     "name": "stderr",
     "output_type": "stream",
     "text": [
      "100%|██████████| 2339/2339 [03:23<00:00, 11.47it/s]\n"
     ]
    },
    {
     "name": "stdout",
     "output_type": "stream",
     "text": [
      "{'val_loss': 0.410401973219063, 'val_accuracy': 0.8610220226641009, 'precision': 0.8620245796667991, 'recall': 0.8610220226641009, 'f1-score': 0.8609544505665175, 'macro_f1-score': 0.8593799789926428, 'balanced_accuracy': 0.8657369583250185, 'mcc': 0.8298195996649514, 'train_loss': 0.3842912601054594}\n",
      "Epoch 4/20\n"
     ]
    },
    {
     "name": "stderr",
     "output_type": "stream",
     "text": [
      "100%|██████████| 2339/2339 [03:23<00:00, 11.48it/s]\n"
     ]
    },
    {
     "name": "stdout",
     "output_type": "stream",
     "text": [
      "{'val_loss': 0.4208883496940645, 'val_accuracy': 0.8642292067564679, 'precision': 0.8692590132177205, 'recall': 0.8642292067564679, 'f1-score': 0.8642900368782959, 'macro_f1-score': 0.8638730993531843, 'balanced_accuracy': 0.850227742137539, 'mcc': 0.8330377745428752, 'train_loss': 0.3273797778873782}\n",
      "Epoch 5/20\n"
     ]
    },
    {
     "name": "stderr",
     "output_type": "stream",
     "text": [
      "100%|██████████| 2339/2339 [03:23<00:00, 11.48it/s]\n"
     ]
    },
    {
     "name": "stdout",
     "output_type": "stream",
     "text": [
      "{'val_loss': 0.39852113278948853, 'val_accuracy': 0.8644430190292923, 'precision': 0.8652850021419732, 'recall': 0.8644430190292923, 'f1-score': 0.8643808118692811, 'macro_f1-score': 0.863178653171802, 'balanced_accuracy': 0.8568605693472893, 'mcc': 0.833294728677753, 'train_loss': 0.2817888840031183}\n",
      "Epoch 6/20\n"
     ]
    },
    {
     "name": "stderr",
     "output_type": "stream",
     "text": [
      "100%|██████████| 2339/2339 [03:23<00:00, 11.48it/s]\n"
     ]
    },
    {
     "name": "stdout",
     "output_type": "stream",
     "text": [
      "{'val_loss': 0.3985084662548242, 'val_accuracy': 0.868933076758606, 'precision': 0.8697106679859382, 'recall': 0.868933076758606, 'f1-score': 0.868446924814535, 'macro_f1-score': 0.8671322809558338, 'balanced_accuracy': 0.8615598632291301, 'mcc': 0.8385674036771884, 'train_loss': 0.29839472939364226}\n",
      "Epoch 7/20\n"
     ]
    },
    {
     "name": "stderr",
     "output_type": "stream",
     "text": [
      "100%|██████████| 2339/2339 [03:23<00:00, 11.47it/s]\n"
     ]
    },
    {
     "name": "stdout",
     "output_type": "stream",
     "text": [
      "{'val_loss': 0.4117472602643518, 'val_accuracy': 0.86337395766517, 'precision': 0.8677863183514791, 'recall': 0.86337395766517, 'f1-score': 0.8640885651639488, 'macro_f1-score': 0.8625170815361358, 'balanced_accuracy': 0.8639128531379731, 'mcc': 0.8325045939434319, 'train_loss': 0.21386833073200626}\n",
      "Epoch 8/20\n"
     ]
    },
    {
     "name": "stderr",
     "output_type": "stream",
     "text": [
      "100%|██████████| 2339/2339 [03:23<00:00, 11.47it/s]\n"
     ]
    },
    {
     "name": "stdout",
     "output_type": "stream",
     "text": [
      "{'val_loss': 0.4760025155292744, 'val_accuracy': 0.8615565533461621, 'precision': 0.8634009217124753, 'recall': 0.8615565533461621, 'f1-score': 0.8614056021861908, 'macro_f1-score': 0.8551996805268693, 'balanced_accuracy': 0.8561552762332131, 'mcc': 0.8300934744680465, 'train_loss': 0.18767281017758353}\n",
      "Epoch 9/20\n"
     ]
    },
    {
     "name": "stderr",
     "output_type": "stream",
     "text": [
      "100%|██████████| 2339/2339 [03:23<00:00, 11.48it/s]\n"
     ]
    },
    {
     "name": "stdout",
     "output_type": "stream",
     "text": [
      "{'val_loss': 0.49656664431731923, 'val_accuracy': 0.8514004703870002, 'precision': 0.8598439705598945, 'recall': 0.8514004703870002, 'f1-score': 0.8511324513609354, 'macro_f1-score': 0.8531727442935647, 'balanced_accuracy': 0.8618043521623958, 'mcc': 0.820830418262238, 'train_loss': 0.17278001088756142}\n",
      "Early stopping.\n",
      "\n",
      "[Fold 4]\n",
      "Label distribution after resampling:\n",
      "  label 0: 5625\n",
      "  label 1: 1399\n",
      "  label 2: 8441\n",
      "  label 3: 10771\n",
      "  label 4: 1679\n",
      "  label 5: 5579\n",
      "  label 6: 1738\n",
      "  label 7: 2186\n",
      "model is roberta-base cnn\n"
     ]
    },
    {
     "name": "stderr",
     "output_type": "stream",
     "text": [
      "Some weights of RobertaModel were not initialized from the model checkpoint at roberta-base and are newly initialized: ['pooler.dense.bias', 'pooler.dense.weight']\n",
      "You should probably TRAIN this model on a down-stream task to be able to use it for predictions and inference.\n"
     ]
    },
    {
     "name": "stdout",
     "output_type": "stream",
     "text": [
      "Epoch 1/20\n"
     ]
    },
    {
     "name": "stderr",
     "output_type": "stream",
     "text": [
      "100%|██████████| 2339/2339 [03:23<00:00, 11.47it/s]\n"
     ]
    },
    {
     "name": "stdout",
     "output_type": "stream",
     "text": [
      "{'val_loss': 0.5535939010035279, 'val_accuracy': 0.8174043190079111, 'precision': 0.8284503713837296, 'recall': 0.8174043190079111, 'f1-score': 0.8180135437344418, 'macro_f1-score': 0.8101487946136334, 'balanced_accuracy': 0.8146241787850051, 'mcc': 0.777268977912856, 'train_loss': 0.6902900976425513}\n",
      "Epoch 2/20\n"
     ]
    },
    {
     "name": "stderr",
     "output_type": "stream",
     "text": [
      "100%|██████████| 2339/2339 [03:23<00:00, 11.47it/s]\n"
     ]
    },
    {
     "name": "stdout",
     "output_type": "stream",
     "text": [
      "{'val_loss': 0.45887683931196854, 'val_accuracy': 0.8472311310669233, 'precision': 0.8493800823852754, 'recall': 0.8472311310669233, 'f1-score': 0.846329972803632, 'macro_f1-score': 0.8381720823423311, 'balanced_accuracy': 0.8358178212999317, 'mcc': 0.8123518441069083, 'train_loss': 0.47074931798492453}\n",
      "Epoch 3/20\n"
     ]
    },
    {
     "name": "stderr",
     "output_type": "stream",
     "text": [
      "100%|██████████| 2339/2339 [03:23<00:00, 11.48it/s]\n"
     ]
    },
    {
     "name": "stdout",
     "output_type": "stream",
     "text": [
      "{'val_loss': 0.4235802397514001, 'val_accuracy': 0.8584562753902074, 'precision': 0.8592992934001912, 'recall': 0.8584562753902074, 'f1-score': 0.8582684975753223, 'macro_f1-score': 0.8579725647649377, 'balanced_accuracy': 0.85474138331634, 'mcc': 0.8262078122142534, 'train_loss': 0.38538021829366276}\n",
      "Epoch 4/20\n"
     ]
    },
    {
     "name": "stderr",
     "output_type": "stream",
     "text": [
      "100%|██████████| 2339/2339 [03:23<00:00, 11.47it/s]\n"
     ]
    },
    {
     "name": "stdout",
     "output_type": "stream",
     "text": [
      "{'val_loss': 0.4271097049944931, 'val_accuracy': 0.8593115244815053, 'precision': 0.8618807097794001, 'recall': 0.8593115244815053, 'f1-score': 0.8596709426705403, 'macro_f1-score': 0.8565691201901285, 'balanced_accuracy': 0.8617475003461433, 'mcc': 0.8277907488308167, 'train_loss': 0.3256265363305992}\n",
      "Epoch 5/20\n"
     ]
    },
    {
     "name": "stderr",
     "output_type": "stream",
     "text": [
      "100%|██████████| 2339/2339 [03:23<00:00, 11.48it/s]\n"
     ]
    },
    {
     "name": "stdout",
     "output_type": "stream",
     "text": [
      "{'val_loss': 0.4743084111911619, 'val_accuracy': 0.8439170408381441, 'precision': 0.8525884112467558, 'recall': 0.8439170408381441, 'f1-score': 0.8438033877171128, 'macro_f1-score': 0.8447660220807274, 'balanced_accuracy': 0.8629226249743368, 'mcc': 0.8111498313130998, 'train_loss': 0.2615923085683967}\n",
      "Epoch 6/20\n"
     ]
    },
    {
     "name": "stderr",
     "output_type": "stream",
     "text": [
      "100%|██████████| 2339/2339 [03:23<00:00, 11.48it/s]\n"
     ]
    },
    {
     "name": "stdout",
     "output_type": "stream",
     "text": [
      "{'val_loss': 0.4871464708342384, 'val_accuracy': 0.8521488133418859, 'precision': 0.8551622474167054, 'recall': 0.8521488133418859, 'f1-score': 0.8514279259026301, 'macro_f1-score': 0.8533681829860755, 'balanced_accuracy': 0.840682039916373, 'mcc': 0.8188012320854342, 'train_loss': 0.21067413071595698}\n",
      "Early stopping.\n",
      "\n",
      "[Fold 5]\n",
      "Label distribution after resampling:\n",
      "  label 0: 5625\n",
      "  label 1: 1399\n",
      "  label 2: 8441\n",
      "  label 3: 10771\n",
      "  label 4: 1678\n",
      "  label 5: 5579\n",
      "  label 6: 1738\n",
      "  label 7: 2187\n",
      "model is roberta-base cnn\n"
     ]
    },
    {
     "name": "stderr",
     "output_type": "stream",
     "text": [
      "Some weights of RobertaModel were not initialized from the model checkpoint at roberta-base and are newly initialized: ['pooler.dense.bias', 'pooler.dense.weight']\n",
      "You should probably TRAIN this model on a down-stream task to be able to use it for predictions and inference.\n"
     ]
    },
    {
     "name": "stdout",
     "output_type": "stream",
     "text": [
      "Epoch 1/20\n"
     ]
    },
    {
     "name": "stderr",
     "output_type": "stream",
     "text": [
      "100%|██████████| 2339/2339 [03:23<00:00, 11.47it/s]\n"
     ]
    },
    {
     "name": "stdout",
     "output_type": "stream",
     "text": [
      "{'val_loss': 0.5463446698382369, 'val_accuracy': 0.8353645499251657, 'precision': 0.8396624474787592, 'recall': 0.8353645499251657, 'f1-score': 0.8354943863444254, 'macro_f1-score': 0.8353330459394825, 'balanced_accuracy': 0.8398404334992942, 'mcc': 0.7989870217849115, 'train_loss': 0.68530002143672}\n",
      "Epoch 2/20\n"
     ]
    },
    {
     "name": "stderr",
     "output_type": "stream",
     "text": [
      "100%|██████████| 2339/2339 [03:23<00:00, 11.47it/s]\n"
     ]
    },
    {
     "name": "stdout",
     "output_type": "stream",
     "text": [
      "{'val_loss': 0.4900172446719092, 'val_accuracy': 0.8282018387855463, 'precision': 0.8409598133920508, 'recall': 0.8282018387855463, 'f1-score': 0.8267528144708665, 'macro_f1-score': 0.8170701499268854, 'balanced_accuracy': 0.7931815463015217, 'mcc': 0.7898801397858869, 'train_loss': 0.45460977336704766}\n",
      "Epoch 3/20\n"
     ]
    },
    {
     "name": "stderr",
     "output_type": "stream",
     "text": [
      "100%|██████████| 2339/2339 [03:23<00:00, 11.48it/s]\n"
     ]
    },
    {
     "name": "stdout",
     "output_type": "stream",
     "text": [
      "{'val_loss': 0.42418458715208573, 'val_accuracy': 0.8545007483429549, 'precision': 0.8589192867074141, 'recall': 0.8545007483429549, 'f1-score': 0.8550273949966264, 'macro_f1-score': 0.8530054769943928, 'balanced_accuracy': 0.8384651607044197, 'mcc': 0.8207252695947411, 'train_loss': 0.3723764976171212}\n",
      "Epoch 4/20\n"
     ]
    },
    {
     "name": "stderr",
     "output_type": "stream",
     "text": [
      "100%|██████████| 2339/2339 [03:23<00:00, 11.48it/s]\n"
     ]
    },
    {
     "name": "stdout",
     "output_type": "stream",
     "text": [
      "{'val_loss': 0.42328095776466734, 'val_accuracy': 0.8521488133418859, 'precision': 0.8555726097572418, 'recall': 0.8521488133418859, 'f1-score': 0.8522361560208845, 'macro_f1-score': 0.8496892242999768, 'balanced_accuracy': 0.8613783635273893, 'mcc': 0.8199043072888623, 'train_loss': 0.3109511061865787}\n",
      "Epoch 5/20\n"
     ]
    },
    {
     "name": "stderr",
     "output_type": "stream",
     "text": [
      "100%|██████████| 2339/2339 [03:23<00:00, 11.48it/s]\n"
     ]
    },
    {
     "name": "stdout",
     "output_type": "stream",
     "text": [
      "{'val_loss': 0.5023179067935571, 'val_accuracy': 0.8430617917468463, 'precision': 0.8499280631913898, 'recall': 0.8430617917468463, 'f1-score': 0.8429947068412253, 'macro_f1-score': 0.8453586943878819, 'balanced_accuracy': 0.854000092119906, 'mcc': 0.8096130829418079, 'train_loss': 0.24759711526424272}\n",
      "Epoch 6/20\n"
     ]
    },
    {
     "name": "stderr",
     "output_type": "stream",
     "text": [
      "100%|██████████| 2339/2339 [03:23<00:00, 11.48it/s]\n"
     ]
    },
    {
     "name": "stdout",
     "output_type": "stream",
     "text": [
      "{'val_loss': 0.4400699948716877, 'val_accuracy': 0.8608082103912764, 'precision': 0.8621987223664007, 'recall': 0.8608082103912764, 'f1-score': 0.8606805420931514, 'macro_f1-score': 0.8591338614377724, 'balanced_accuracy': 0.8513849506675566, 'mcc': 0.8285320357650201, 'train_loss': 0.2068016316218906}\n",
      "Epoch 7/20\n"
     ]
    },
    {
     "name": "stderr",
     "output_type": "stream",
     "text": [
      "100%|██████████| 2339/2339 [03:23<00:00, 11.48it/s]\n"
     ]
    },
    {
     "name": "stdout",
     "output_type": "stream",
     "text": [
      "{'val_loss': 0.5169425381128636, 'val_accuracy': 0.8588838999358563, 'precision': 0.8610341899205805, 'recall': 0.8588838999358563, 'f1-score': 0.8593116524685399, 'macro_f1-score': 0.8589500220936334, 'balanced_accuracy': 0.8563910105790427, 'mcc': 0.8263110010724898, 'train_loss': 0.16558207434281752}\n",
      "Epoch 8/20\n"
     ]
    },
    {
     "name": "stderr",
     "output_type": "stream",
     "text": [
      "100%|██████████| 2339/2339 [03:23<00:00, 11.48it/s]\n"
     ]
    },
    {
     "name": "stdout",
     "output_type": "stream",
     "text": [
      "{'val_loss': 0.5253744472892812, 'val_accuracy': 0.8562112465255506, 'precision': 0.8588580989060717, 'recall': 0.8562112465255506, 'f1-score': 0.8567210729269787, 'macro_f1-score': 0.8538442940115851, 'balanced_accuracy': 0.8575992436690384, 'mcc': 0.8232521781186358, 'train_loss': 0.14588260786473378}\n",
      "Epoch 9/20\n"
     ]
    },
    {
     "name": "stderr",
     "output_type": "stream",
     "text": [
      "100%|██████████| 2339/2339 [03:23<00:00, 11.48it/s]\n"
     ]
    },
    {
     "name": "stdout",
     "output_type": "stream",
     "text": [
      "{'val_loss': 0.5624867232667649, 'val_accuracy': 0.8574941201624974, 'precision': 0.8583413179746814, 'recall': 0.8574941201624974, 'f1-score': 0.8575599902958487, 'macro_f1-score': 0.855140981382804, 'balanced_accuracy': 0.8488036324319108, 'mcc': 0.8242880724219385, 'train_loss': 0.11617598363369604}\n",
      "Early stopping.\n",
      "\n",
      " === roberta-base + cnn + none Final 5-fold Cross-Validation Results ===\n",
      "val_loss: 0.4262\n",
      "val_accuracy: 0.8640\n",
      "precision: 0.8652\n",
      "recall: 0.8640\n",
      "f1-score: 0.8639\n",
      "macro_f1-score: 0.8628\n",
      "balanced_accuracy: 0.8589\n",
      "mcc: 0.8328\n",
      "train_loss: 0.2890\n",
      "total_seconds: 8970.0000\n",
      "total_time: 2 hrs 29 mins 30 secs\n",
      "▶ Running: roberta-base + lstm + none\n",
      "tokenizer is roberta-base\n",
      "Using device: cuda\n",
      "CUDA Available: True\n",
      "CUDA Device: NVIDIA GeForce RTX 5070 Ti\n",
      "Current GPU Memory Allocated: 0.02 GB\n",
      "Current GPU Memory Cached: 3.93 GB\n",
      "\n",
      "[Fold 1]\n",
      "Label distribution after resampling:\n",
      "  label 0: 5626\n",
      "  label 1: 1399\n",
      "  label 2: 8442\n",
      "  label 3: 10770\n",
      "  label 4: 1678\n",
      "  label 5: 5578\n",
      "  label 6: 1737\n",
      "  label 7: 2187\n",
      "model is roberta-base lstm\n"
     ]
    },
    {
     "name": "stderr",
     "output_type": "stream",
     "text": [
      "Some weights of RobertaModel were not initialized from the model checkpoint at roberta-base and are newly initialized: ['pooler.dense.bias', 'pooler.dense.weight']\n",
      "You should probably TRAIN this model on a down-stream task to be able to use it for predictions and inference.\n"
     ]
    },
    {
     "name": "stdout",
     "output_type": "stream",
     "text": [
      "Epoch 1/20\n"
     ]
    },
    {
     "name": "stderr",
     "output_type": "stream",
     "text": [
      "100%|██████████| 2339/2339 [03:34<00:00, 10.92it/s]\n"
     ]
    },
    {
     "name": "stdout",
     "output_type": "stream",
     "text": [
      "{'val_loss': 0.49250998253751005, 'val_accuracy': 0.8323890967397114, 'precision': 0.8361528978663616, 'recall': 0.8323890967397114, 'f1-score': 0.8321480704820249, 'macro_f1-score': 0.8263047203511483, 'balanced_accuracy': 0.8386799488666806, 'mcc': 0.7958160182858184, 'train_loss': 0.7218632529839688}\n",
      "Epoch 2/20\n"
     ]
    },
    {
     "name": "stderr",
     "output_type": "stream",
     "text": [
      "100%|██████████| 2339/2339 [03:34<00:00, 10.92it/s]\n"
     ]
    },
    {
     "name": "stdout",
     "output_type": "stream",
     "text": [
      "{'val_loss': 0.4557051534772429, 'val_accuracy': 0.84735435595938, 'precision': 0.8503782623154176, 'recall': 0.84735435595938, 'f1-score': 0.8472209214910483, 'macro_f1-score': 0.840371483687255, 'balanced_accuracy': 0.8517116996312156, 'mcc': 0.8135950612262178, 'train_loss': 0.4663448440720888}\n",
      "Epoch 3/20\n"
     ]
    },
    {
     "name": "stderr",
     "output_type": "stream",
     "text": [
      "100%|██████████| 2339/2339 [03:34<00:00, 10.90it/s]\n"
     ]
    },
    {
     "name": "stdout",
     "output_type": "stream",
     "text": [
      "{'val_loss': 0.4715899830286065, 'val_accuracy': 0.8391234633885623, 'precision': 0.8437504872934941, 'recall': 0.8391234633885623, 'f1-score': 0.8380691109790295, 'macro_f1-score': 0.8380470683068042, 'balanced_accuracy': 0.8284416788875437, 'mcc': 0.8035743569497631, 'train_loss': 0.38998855588668596}\n",
      "Epoch 4/20\n"
     ]
    },
    {
     "name": "stderr",
     "output_type": "stream",
     "text": [
      "100%|██████████| 2339/2339 [03:34<00:00, 10.90it/s]\n"
     ]
    },
    {
     "name": "stdout",
     "output_type": "stream",
     "text": [
      "{'val_loss': 0.4856928788730477, 'val_accuracy': 0.848637092463923, 'precision': 0.8584358682304987, 'recall': 0.848637092463923, 'f1-score': 0.8492531014301756, 'macro_f1-score': 0.8429934194999217, 'balanced_accuracy': 0.8672033786607551, 'mcc': 0.817793878307766, 'train_loss': 0.3305945494480976}\n",
      "Epoch 5/20\n"
     ]
    },
    {
     "name": "stderr",
     "output_type": "stream",
     "text": [
      "100%|██████████| 2339/2339 [03:34<00:00, 10.91it/s]\n"
     ]
    },
    {
     "name": "stdout",
     "output_type": "stream",
     "text": [
      "{'val_loss': 0.5595656996194878, 'val_accuracy': 0.8481026189203634, 'precision': 0.860150930593558, 'recall': 0.8481026189203634, 'f1-score': 0.8476556163725105, 'macro_f1-score': 0.8392237482643998, 'balanced_accuracy': 0.8068263207884, 'mcc': 0.8138723882555886, 'train_loss': 0.27771008505922745}\n",
      "Epoch 6/20\n"
     ]
    },
    {
     "name": "stderr",
     "output_type": "stream",
     "text": [
      "100%|██████████| 2339/2339 [03:34<00:00, 10.90it/s]\n"
     ]
    },
    {
     "name": "stdout",
     "output_type": "stream",
     "text": [
      "{'val_loss': 0.44601413587219696, 'val_accuracy': 0.8615713522180652, 'precision': 0.8628508270210505, 'recall': 0.8615713522180652, 'f1-score': 0.8611780795090215, 'macro_f1-score': 0.8519111208595158, 'balanced_accuracy': 0.8504035362839807, 'mcc': 0.8301901370008109, 'train_loss': 0.2354691890333136}\n",
      "Epoch 7/20\n"
     ]
    },
    {
     "name": "stderr",
     "output_type": "stream",
     "text": [
      "100%|██████████| 2339/2339 [03:34<00:00, 10.91it/s]\n"
     ]
    },
    {
     "name": "stdout",
     "output_type": "stream",
     "text": [
      "{'val_loss': 0.5375329587815536, 'val_accuracy': 0.864564404061999, 'precision': 0.8680619221766455, 'recall': 0.864564404061999, 'f1-score': 0.8648139100291037, 'macro_f1-score': 0.8604325614326324, 'balanced_accuracy': 0.8579561974590133, 'mcc': 0.833983384960075, 'train_loss': 0.20626756153786144}\n",
      "Epoch 8/20\n"
     ]
    },
    {
     "name": "stderr",
     "output_type": "stream",
     "text": [
      "100%|██████████| 2339/2339 [03:34<00:00, 10.92it/s]\n"
     ]
    },
    {
     "name": "stdout",
     "output_type": "stream",
     "text": [
      "{'val_loss': 0.5009808671947282, 'val_accuracy': 0.8638161411010155, 'precision': 0.8657727310954743, 'recall': 0.8638161411010155, 'f1-score': 0.8640676205606137, 'macro_f1-score': 0.8606918302378833, 'balanced_accuracy': 0.8505384220201287, 'mcc': 0.8324314645059278, 'train_loss': 0.17000390211750951}\n",
      "Epoch 9/20\n"
     ]
    },
    {
     "name": "stderr",
     "output_type": "stream",
     "text": [
      "100%|██████████| 2339/2339 [03:34<00:00, 10.91it/s]\n"
     ]
    },
    {
     "name": "stdout",
     "output_type": "stream",
     "text": [
      "{'val_loss': 0.5939807859137972, 'val_accuracy': 0.860609299839658, 'precision': 0.862239343398989, 'recall': 0.860609299839658, 'f1-score': 0.8605597884260745, 'macro_f1-score': 0.8508462276167144, 'balanced_accuracy': 0.8345868786467372, 'mcc': 0.8277340424981569, 'train_loss': 0.15796649285507328}\n",
      "Epoch 10/20\n"
     ]
    },
    {
     "name": "stderr",
     "output_type": "stream",
     "text": [
      "100%|██████████| 2339/2339 [03:34<00:00, 10.90it/s]\n"
     ]
    },
    {
     "name": "stdout",
     "output_type": "stream",
     "text": [
      "{'val_loss': 0.537155850031851, 'val_accuracy': 0.8616782469267771, 'precision': 0.8631971793762585, 'recall': 0.8616782469267771, 'f1-score': 0.8621142192225916, 'macro_f1-score': 0.859671377116954, 'balanced_accuracy': 0.8579636825033659, 'mcc': 0.829738087832628, 'train_loss': 0.15918958301199246}\n",
      "Epoch 11/20\n"
     ]
    },
    {
     "name": "stderr",
     "output_type": "stream",
     "text": [
      "100%|██████████| 2339/2339 [03:34<00:00, 10.90it/s]\n"
     ]
    },
    {
     "name": "stdout",
     "output_type": "stream",
     "text": [
      "{'val_loss': 0.5699337379696469, 'val_accuracy': 0.8596472474612507, 'precision': 0.8601650760411433, 'recall': 0.8596472474612507, 'f1-score': 0.8597411359482193, 'macro_f1-score': 0.8555615307124029, 'balanced_accuracy': 0.8526983420589103, 'mcc': 0.8272471548225749, 'train_loss': 0.11864433396454739}\n",
      "Early stopping.\n",
      "\n",
      "[Fold 2]\n",
      "Label distribution after resampling:\n",
      "  label 0: 5626\n",
      "  label 1: 1400\n",
      "  label 2: 8442\n",
      "  label 3: 10770\n",
      "  label 4: 1678\n",
      "  label 5: 5578\n",
      "  label 6: 1737\n",
      "  label 7: 2186\n",
      "model is roberta-base lstm\n"
     ]
    },
    {
     "name": "stderr",
     "output_type": "stream",
     "text": [
      "Some weights of RobertaModel were not initialized from the model checkpoint at roberta-base and are newly initialized: ['pooler.dense.bias', 'pooler.dense.weight']\n",
      "You should probably TRAIN this model on a down-stream task to be able to use it for predictions and inference.\n"
     ]
    },
    {
     "name": "stdout",
     "output_type": "stream",
     "text": [
      "Epoch 1/20\n"
     ]
    },
    {
     "name": "stderr",
     "output_type": "stream",
     "text": [
      "100%|██████████| 2339/2339 [03:34<00:00, 10.89it/s]\n"
     ]
    },
    {
     "name": "stdout",
     "output_type": "stream",
     "text": [
      "{'val_loss': 0.5856905024785262, 'val_accuracy': 0.8143238909673971, 'precision': 0.8165161365775029, 'recall': 0.8143238909673971, 'f1-score': 0.8134657323929276, 'macro_f1-score': 0.8149171436786379, 'balanced_accuracy': 0.8164996036049149, 'mcc': 0.7724929112401182, 'train_loss': 0.7075234673656093}\n",
      "Epoch 2/20\n"
     ]
    },
    {
     "name": "stderr",
     "output_type": "stream",
     "text": [
      "100%|██████████| 2339/2339 [03:34<00:00, 10.89it/s]\n"
     ]
    },
    {
     "name": "stdout",
     "output_type": "stream",
     "text": [
      "{'val_loss': 0.5130620878603723, 'val_accuracy': 0.824906467129877, 'precision': 0.831691970452143, 'recall': 0.824906467129877, 'f1-score': 0.8247027495149186, 'macro_f1-score': 0.8185862611972838, 'balanced_accuracy': 0.8192899967171672, 'mcc': 0.786476899277269, 'train_loss': 0.4691243858648804}\n",
      "Epoch 3/20\n"
     ]
    },
    {
     "name": "stderr",
     "output_type": "stream",
     "text": [
      "100%|██████████| 2339/2339 [03:34<00:00, 10.90it/s]\n"
     ]
    },
    {
     "name": "stdout",
     "output_type": "stream",
     "text": [
      "{'val_loss': 0.47927923726284094, 'val_accuracy': 0.8385889898450026, 'precision': 0.8427747331471621, 'recall': 0.8385889898450026, 'f1-score': 0.8379496429768263, 'macro_f1-score': 0.8321916228659572, 'balanced_accuracy': 0.838522091109353, 'mcc': 0.8020703265419012, 'train_loss': 0.3882158854789156}\n",
      "Epoch 4/20\n"
     ]
    },
    {
     "name": "stderr",
     "output_type": "stream",
     "text": [
      "100%|██████████| 2339/2339 [03:34<00:00, 10.89it/s]\n"
     ]
    },
    {
     "name": "stdout",
     "output_type": "stream",
     "text": [
      "{'val_loss': 0.460481717184377, 'val_accuracy': 0.851309460181721, 'precision': 0.8527783293233344, 'recall': 0.851309460181721, 'f1-score': 0.8508989421342776, 'macro_f1-score': 0.8481598037846826, 'balanced_accuracy': 0.8398045809182515, 'mcc': 0.8170900542751895, 'train_loss': 0.33133620415965925}\n",
      "Epoch 5/20\n"
     ]
    },
    {
     "name": "stderr",
     "output_type": "stream",
     "text": [
      "100%|██████████| 2339/2339 [03:34<00:00, 10.89it/s]\n"
     ]
    },
    {
     "name": "stdout",
     "output_type": "stream",
     "text": [
      "{'val_loss': 0.5188383464518393, 'val_accuracy': 0.8397648316408338, 'precision': 0.8430964588937558, 'recall': 0.8397648316408338, 'f1-score': 0.8390252402210004, 'macro_f1-score': 0.8381685436188746, 'balanced_accuracy': 0.8534342689426249, 'mcc': 0.8055066222856382, 'train_loss': 0.28583947470146476}\n",
      "Epoch 6/20\n"
     ]
    },
    {
     "name": "stderr",
     "output_type": "stream",
     "text": [
      "100%|██████████| 2339/2339 [03:34<00:00, 10.90it/s]\n"
     ]
    },
    {
     "name": "stdout",
     "output_type": "stream",
     "text": [
      "{'val_loss': 0.5217814514357756, 'val_accuracy': 0.8492784607161945, 'precision': 0.8521453536124011, 'recall': 0.8492784607161945, 'f1-score': 0.8497133260183101, 'macro_f1-score': 0.8468245647478096, 'balanced_accuracy': 0.8621760872154578, 'mcc': 0.8157876966730894, 'train_loss': 0.24475936763117576}\n",
      "Epoch 7/20\n"
     ]
    },
    {
     "name": "stderr",
     "output_type": "stream",
     "text": [
      "100%|██████████| 2339/2339 [03:34<00:00, 10.90it/s]\n"
     ]
    },
    {
     "name": "stdout",
     "output_type": "stream",
     "text": [
      "{'val_loss': 0.59685199742094, 'val_accuracy': 0.8440406199893106, 'precision': 0.8447181600168469, 'recall': 0.8440406199893106, 'f1-score': 0.8436034048192058, 'macro_f1-score': 0.8406860076037664, 'balanced_accuracy': 0.8469756279158913, 'mcc': 0.8086193139672163, 'train_loss': 0.20037979165143077}\n",
      "Early stopping.\n",
      "\n",
      "[Fold 3]\n",
      "Label distribution after resampling:\n",
      "  label 0: 5626\n",
      "  label 1: 1399\n",
      "  label 2: 8442\n",
      "  label 3: 10770\n",
      "  label 4: 1679\n",
      "  label 5: 5578\n",
      "  label 6: 1738\n",
      "  label 7: 2186\n",
      "model is roberta-base lstm\n"
     ]
    },
    {
     "name": "stderr",
     "output_type": "stream",
     "text": [
      "Some weights of RobertaModel were not initialized from the model checkpoint at roberta-base and are newly initialized: ['pooler.dense.bias', 'pooler.dense.weight']\n",
      "You should probably TRAIN this model on a down-stream task to be able to use it for predictions and inference.\n"
     ]
    },
    {
     "name": "stdout",
     "output_type": "stream",
     "text": [
      "Epoch 1/20\n"
     ]
    },
    {
     "name": "stderr",
     "output_type": "stream",
     "text": [
      "100%|██████████| 2339/2339 [03:34<00:00, 10.89it/s]\n"
     ]
    },
    {
     "name": "stdout",
     "output_type": "stream",
     "text": [
      "{'val_loss': 0.5482599827341544, 'val_accuracy': 0.8212529399187514, 'precision': 0.8258383324966292, 'recall': 0.8212529399187514, 'f1-score': 0.8207808362074509, 'macro_f1-score': 0.8259207739757431, 'balanced_accuracy': 0.8266308173312577, 'mcc': 0.781896595985911, 'train_loss': 0.7451728591221604}\n",
      "Epoch 2/20\n"
     ]
    },
    {
     "name": "stderr",
     "output_type": "stream",
     "text": [
      "100%|██████████| 2339/2339 [03:34<00:00, 10.90it/s]\n"
     ]
    },
    {
     "name": "stdout",
     "output_type": "stream",
     "text": [
      "{'val_loss': 0.46122877995809936, 'val_accuracy': 0.8549283728886038, 'precision': 0.8578495863013516, 'recall': 0.8549283728886038, 'f1-score': 0.8548511880836664, 'macro_f1-score': 0.8537120958458677, 'balanced_accuracy': 0.8316548728484717, 'mcc': 0.8209635787222369, 'train_loss': 0.49845328142801987}\n",
      "Epoch 3/20\n"
     ]
    },
    {
     "name": "stderr",
     "output_type": "stream",
     "text": [
      "100%|██████████| 2339/2339 [03:34<00:00, 10.89it/s]\n"
     ]
    },
    {
     "name": "stdout",
     "output_type": "stream",
     "text": [
      "{'val_loss': 0.436752754322484, 'val_accuracy': 0.8551421851614283, 'precision': 0.8581035545664043, 'recall': 0.8551421851614283, 'f1-score': 0.8554584209130756, 'macro_f1-score': 0.8490517617862744, 'balanced_accuracy': 0.8377176215120584, 'mcc': 0.8216694526861528, 'train_loss': 0.41952524248983625}\n",
      "Epoch 4/20\n"
     ]
    },
    {
     "name": "stderr",
     "output_type": "stream",
     "text": [
      "100%|██████████| 2339/2339 [03:34<00:00, 10.89it/s]\n"
     ]
    },
    {
     "name": "stdout",
     "output_type": "stream",
     "text": [
      "{'val_loss': 0.445754530121628, 'val_accuracy': 0.8573872140260851, 'precision': 0.859291370712084, 'recall': 0.8573872140260851, 'f1-score': 0.8568802086716872, 'macro_f1-score': 0.8560753708710508, 'balanced_accuracy': 0.8429961639000328, 'mcc': 0.8241175461831098, 'train_loss': 0.3702484170451136}\n",
      "Epoch 5/20\n"
     ]
    },
    {
     "name": "stderr",
     "output_type": "stream",
     "text": [
      "100%|██████████| 2339/2339 [03:34<00:00, 10.90it/s]\n"
     ]
    },
    {
     "name": "stdout",
     "output_type": "stream",
     "text": [
      "{'val_loss': 0.42364595050358367, 'val_accuracy': 0.8625187085738721, 'precision': 0.8639921349563762, 'recall': 0.8625187085738721, 'f1-score': 0.8625345807064361, 'macro_f1-score': 0.8594007757748334, 'balanced_accuracy': 0.8601571552310219, 'mcc': 0.8310831999505157, 'train_loss': 0.3069573720433726}\n",
      "Epoch 6/20\n"
     ]
    },
    {
     "name": "stderr",
     "output_type": "stream",
     "text": [
      "100%|██████████| 2339/2339 [03:35<00:00, 10.88it/s]\n"
     ]
    },
    {
     "name": "stdout",
     "output_type": "stream",
     "text": [
      "{'val_loss': 0.45598313545123637, 'val_accuracy': 0.8634808638015822, 'precision': 0.8650917266994778, 'recall': 0.8634808638015822, 'f1-score': 0.8637471940986884, 'macro_f1-score': 0.8578433037143116, 'balanced_accuracy': 0.867011355118491, 'mcc': 0.8323931159744279, 'train_loss': 0.2762071273393942}\n",
      "Epoch 7/20\n"
     ]
    },
    {
     "name": "stderr",
     "output_type": "stream",
     "text": [
      "100%|██████████| 2339/2339 [03:34<00:00, 10.89it/s]\n"
     ]
    },
    {
     "name": "stdout",
     "output_type": "stream",
     "text": [
      "{'val_loss': 0.5744566307140466, 'val_accuracy': 0.8505452212957024, 'precision': 0.8525419291169799, 'recall': 0.8505452212957024, 'f1-score': 0.8502737300414065, 'macro_f1-score': 0.8520537381594171, 'balanced_accuracy': 0.8403519731472555, 'mcc': 0.8158613374885927, 'train_loss': 0.23659587906718943}\n",
      "Epoch 8/20\n"
     ]
    },
    {
     "name": "stderr",
     "output_type": "stream",
     "text": [
      "100%|██████████| 2339/2339 [03:34<00:00, 10.89it/s]\n"
     ]
    },
    {
     "name": "stdout",
     "output_type": "stream",
     "text": [
      "{'val_loss': 0.5009761780786973, 'val_accuracy': 0.8630532392559332, 'precision': 0.8652929349153855, 'recall': 0.8630532392559332, 'f1-score': 0.8636590082155018, 'macro_f1-score': 0.8607064784552143, 'balanced_accuracy': 0.8678348823247952, 'mcc': 0.8319651716630344, 'train_loss': 0.21352645996484193}\n",
      "Epoch 9/20\n"
     ]
    },
    {
     "name": "stderr",
     "output_type": "stream",
     "text": [
      "100%|██████████| 2339/2339 [03:35<00:00, 10.87it/s]\n"
     ]
    },
    {
     "name": "stdout",
     "output_type": "stream",
     "text": [
      "{'val_loss': 0.5558330968054187, 'val_accuracy': 0.8615565533461621, 'precision': 0.8640503982457772, 'recall': 0.8615565533461621, 'f1-score': 0.862166964686807, 'macro_f1-score': 0.8531373379420443, 'balanced_accuracy': 0.852020770510747, 'mcc': 0.8296592249959348, 'train_loss': 0.19431326476687444}\n",
      "Epoch 10/20\n"
     ]
    },
    {
     "name": "stderr",
     "output_type": "stream",
     "text": [
      "100%|██████████| 2339/2339 [03:34<00:00, 10.89it/s]\n"
     ]
    },
    {
     "name": "stdout",
     "output_type": "stream",
     "text": [
      "{'val_loss': 0.5358651418798069, 'val_accuracy': 0.8652982681205901, 'precision': 0.8661423859792438, 'recall': 0.8652982681205901, 'f1-score': 0.8651314782865739, 'macro_f1-score': 0.8601452267226307, 'balanced_accuracy': 0.8638547532342662, 'mcc': 0.8346849143311393, 'train_loss': 0.17058727351706532}\n",
      "Epoch 11/20\n"
     ]
    },
    {
     "name": "stderr",
     "output_type": "stream",
     "text": [
      "100%|██████████| 2339/2339 [03:34<00:00, 10.89it/s]\n"
     ]
    },
    {
     "name": "stdout",
     "output_type": "stream",
     "text": [
      "{'val_loss': 0.5677306140737178, 'val_accuracy': 0.8585631815266196, 'precision': 0.8630598230203422, 'recall': 0.8585631815266196, 'f1-score': 0.8593076828420764, 'macro_f1-score': 0.8505909845749645, 'balanced_accuracy': 0.8558803228362408, 'mcc': 0.8268988170407665, 'train_loss': 0.16636930326439436}\n",
      "Early stopping.\n",
      "\n",
      "[Fold 4]\n",
      "Label distribution after resampling:\n",
      "  label 0: 5625\n",
      "  label 1: 1399\n",
      "  label 2: 8441\n",
      "  label 3: 10771\n",
      "  label 4: 1679\n",
      "  label 5: 5579\n",
      "  label 6: 1738\n",
      "  label 7: 2186\n",
      "model is roberta-base lstm\n"
     ]
    },
    {
     "name": "stderr",
     "output_type": "stream",
     "text": [
      "Some weights of RobertaModel were not initialized from the model checkpoint at roberta-base and are newly initialized: ['pooler.dense.bias', 'pooler.dense.weight']\n",
      "You should probably TRAIN this model on a down-stream task to be able to use it for predictions and inference.\n"
     ]
    },
    {
     "name": "stdout",
     "output_type": "stream",
     "text": [
      "Epoch 1/20\n"
     ]
    },
    {
     "name": "stderr",
     "output_type": "stream",
     "text": [
      "100%|██████████| 2339/2339 [03:34<00:00, 10.88it/s]\n"
     ]
    },
    {
     "name": "stdout",
     "output_type": "stream",
     "text": [
      "{'val_loss': 0.5042698694982081, 'val_accuracy': 0.8340816762882189, 'precision': 0.8381320141075999, 'recall': 0.8340816762882189, 'f1-score': 0.8340100100805269, 'macro_f1-score': 0.8331934800738643, 'balanced_accuracy': 0.8128181465195083, 'mcc': 0.7949234617272298, 'train_loss': 0.7010336357522031}\n",
      "Epoch 2/20\n"
     ]
    },
    {
     "name": "stderr",
     "output_type": "stream",
     "text": [
      "100%|██████████| 2339/2339 [03:34<00:00, 10.89it/s]\n"
     ]
    },
    {
     "name": "stdout",
     "output_type": "stream",
     "text": [
      "{'val_loss': 0.44185240007618554, 'val_accuracy': 0.846162069702801, 'precision': 0.8483756243586468, 'recall': 0.846162069702801, 'f1-score': 0.845692569788724, 'macro_f1-score': 0.8472408120047422, 'balanced_accuracy': 0.837504530644074, 'mcc': 0.8105725783542646, 'train_loss': 0.4546447706390085}\n",
      "Epoch 3/20\n"
     ]
    },
    {
     "name": "stderr",
     "output_type": "stream",
     "text": [
      "100%|██████████| 2339/2339 [03:34<00:00, 10.89it/s]\n"
     ]
    },
    {
     "name": "stdout",
     "output_type": "stream",
     "text": [
      "{'val_loss': 0.4617279747485096, 'val_accuracy': 0.8474449433397477, 'precision': 0.8520894292759026, 'recall': 0.8474449433397477, 'f1-score': 0.8467838074422657, 'macro_f1-score': 0.8529548595992382, 'balanced_accuracy': 0.8494102260179017, 'mcc': 0.8140792931440611, 'train_loss': 0.37761160915828174}\n",
      "Epoch 4/20\n"
     ]
    },
    {
     "name": "stderr",
     "output_type": "stream",
     "text": [
      "100%|██████████| 2339/2339 [03:34<00:00, 10.89it/s]\n"
     ]
    },
    {
     "name": "stdout",
     "output_type": "stream",
     "text": [
      "{'val_loss': 0.46795498346193476, 'val_accuracy': 0.8426341672011973, 'precision': 0.8459545911872581, 'recall': 0.8426341672011973, 'f1-score': 0.8410554292153681, 'macro_f1-score': 0.8456019276098852, 'balanced_accuracy': 0.8484991075622457, 'mcc': 0.8078582785485481, 'train_loss': 0.3112743476293455}\n",
      "Epoch 5/20\n"
     ]
    },
    {
     "name": "stderr",
     "output_type": "stream",
     "text": [
      "100%|██████████| 2339/2339 [03:34<00:00, 10.90it/s]\n"
     ]
    },
    {
     "name": "stdout",
     "output_type": "stream",
     "text": [
      "{'val_loss': 0.47089238795969224, 'val_accuracy': 0.8562112465255506, 'precision': 0.8577037445492443, 'recall': 0.8562112465255506, 'f1-score': 0.8557624165647424, 'macro_f1-score': 0.8549070992049821, 'balanced_accuracy': 0.8636598438383924, 'mcc': 0.824486460656405, 'train_loss': 0.2646145232664059}\n",
      "Epoch 6/20\n"
     ]
    },
    {
     "name": "stderr",
     "output_type": "stream",
     "text": [
      "100%|██████████| 2339/2339 [03:34<00:00, 10.89it/s]\n"
     ]
    },
    {
     "name": "stdout",
     "output_type": "stream",
     "text": [
      "{'val_loss': 0.47017675166567546, 'val_accuracy': 0.8649775497113534, 'precision': 0.8654292003498789, 'recall': 0.8649775497113534, 'f1-score': 0.864928377321575, 'macro_f1-score': 0.8636249756325229, 'balanced_accuracy': 0.8626584443168943, 'mcc': 0.8339265094301005, 'train_loss': 0.2179460469443214}\n",
      "Epoch 7/20\n"
     ]
    },
    {
     "name": "stderr",
     "output_type": "stream",
     "text": [
      "100%|██████████| 2339/2339 [03:34<00:00, 10.88it/s]\n"
     ]
    },
    {
     "name": "stdout",
     "output_type": "stream",
     "text": [
      "{'val_loss': 0.5137540993137428, 'val_accuracy': 0.8579217447081462, 'precision': 0.8639122807624959, 'recall': 0.8579217447081462, 'f1-score': 0.8588872298863032, 'macro_f1-score': 0.853843021652892, 'balanced_accuracy': 0.8596064028991153, 'mcc': 0.8254639173977338, 'train_loss': 0.18621299506331124}\n",
      "Epoch 8/20\n"
     ]
    },
    {
     "name": "stderr",
     "output_type": "stream",
     "text": [
      "100%|██████████| 2339/2339 [03:34<00:00, 10.90it/s]\n"
     ]
    },
    {
     "name": "stdout",
     "output_type": "stream",
     "text": [
      "{'val_loss': 0.501772184107994, 'val_accuracy': 0.8652982681205901, 'precision': 0.8683737539698984, 'recall': 0.8652982681205901, 'f1-score': 0.8657739979264873, 'macro_f1-score': 0.8641323114510981, 'balanced_accuracy': 0.8731653815833763, 'mcc': 0.8351703784885515, 'train_loss': 0.15956239170478853}\n",
      "Epoch 9/20\n"
     ]
    },
    {
     "name": "stderr",
     "output_type": "stream",
     "text": [
      "100%|██████████| 2339/2339 [03:34<00:00, 10.89it/s]\n"
     ]
    },
    {
     "name": "stdout",
     "output_type": "stream",
     "text": [
      "{'val_loss': 0.6025728206848726, 'val_accuracy': 0.8607013042548642, 'precision': 0.8635324309929693, 'recall': 0.8607013042548642, 'f1-score': 0.8609379840913586, 'macro_f1-score': 0.8607119558714031, 'balanced_accuracy': 0.8473524073306908, 'mcc': 0.8281282673443379, 'train_loss': 0.14850555874953583}\n",
      "Epoch 10/20\n"
     ]
    },
    {
     "name": "stderr",
     "output_type": "stream",
     "text": [
      "100%|██████████| 2339/2339 [03:34<00:00, 10.89it/s]\n"
     ]
    },
    {
     "name": "stdout",
     "output_type": "stream",
     "text": [
      "{'val_loss': 0.6199439963526848, 'val_accuracy': 0.8627325208466966, 'precision': 0.8627311746316453, 'recall': 0.8627325208466966, 'f1-score': 0.8627125925788497, 'macro_f1-score': 0.8637787612121259, 'balanced_accuracy': 0.8620032382013068, 'mcc': 0.8309492455635391, 'train_loss': 0.12106103758005543}\n",
      "Epoch 11/20\n"
     ]
    },
    {
     "name": "stderr",
     "output_type": "stream",
     "text": [
      "100%|██████████| 2339/2339 [03:34<00:00, 10.90it/s]\n"
     ]
    },
    {
     "name": "stdout",
     "output_type": "stream",
     "text": [
      "{'val_loss': 0.6345376779156156, 'val_accuracy': 0.8576010262989096, 'precision': 0.859707956527618, 'recall': 0.8576010262989096, 'f1-score': 0.8575597348351146, 'macro_f1-score': 0.8544920636032431, 'balanced_accuracy': 0.8591159625144109, 'mcc': 0.8257474846998019, 'train_loss': 0.11246963346642994}\n",
      "Early stopping.\n",
      "\n",
      "[Fold 5]\n",
      "Label distribution after resampling:\n",
      "  label 0: 5625\n",
      "  label 1: 1399\n",
      "  label 2: 8441\n",
      "  label 3: 10771\n",
      "  label 4: 1678\n",
      "  label 5: 5579\n",
      "  label 6: 1738\n",
      "  label 7: 2187\n",
      "model is roberta-base lstm\n"
     ]
    },
    {
     "name": "stderr",
     "output_type": "stream",
     "text": [
      "Some weights of RobertaModel were not initialized from the model checkpoint at roberta-base and are newly initialized: ['pooler.dense.bias', 'pooler.dense.weight']\n",
      "You should probably TRAIN this model on a down-stream task to be able to use it for predictions and inference.\n"
     ]
    },
    {
     "name": "stdout",
     "output_type": "stream",
     "text": [
      "Epoch 1/20\n"
     ]
    },
    {
     "name": "stderr",
     "output_type": "stream",
     "text": [
      "100%|██████████| 2339/2339 [03:34<00:00, 10.89it/s]\n"
     ]
    },
    {
     "name": "stdout",
     "output_type": "stream",
     "text": [
      "{'val_loss': 0.5028905300025501, 'val_accuracy': 0.8272396835578362, 'precision': 0.834277309028058, 'recall': 0.8272396835578362, 'f1-score': 0.8269015621912754, 'macro_f1-score': 0.8275254874871552, 'balanced_accuracy': 0.8214675981101476, 'mcc': 0.7874399831444783, 'train_loss': 0.6989585631799754}\n",
      "Epoch 2/20\n"
     ]
    },
    {
     "name": "stderr",
     "output_type": "stream",
     "text": [
      "100%|██████████| 2339/2339 [03:34<00:00, 10.88it/s]\n"
     ]
    },
    {
     "name": "stdout",
     "output_type": "stream",
     "text": [
      "{'val_loss': 0.4499903059540651, 'val_accuracy': 0.8509728458413512, 'precision': 0.8524239998150871, 'recall': 0.8509728458413512, 'f1-score': 0.8508617260112706, 'macro_f1-score': 0.8463196998287623, 'balanced_accuracy': 0.8418480862390351, 'mcc': 0.8164402356164392, 'train_loss': 0.45117275609088126}\n",
      "Epoch 3/20\n"
     ]
    },
    {
     "name": "stderr",
     "output_type": "stream",
     "text": [
      "100%|██████████| 2339/2339 [03:34<00:00, 10.89it/s]\n"
     ]
    },
    {
     "name": "stdout",
     "output_type": "stream",
     "text": [
      "{'val_loss': 0.4425712612768014, 'val_accuracy': 0.8535385931152448, 'precision': 0.8548632633494205, 'recall': 0.8535385931152448, 'f1-score': 0.8535163046387465, 'macro_f1-score': 0.8495803056865037, 'balanced_accuracy': 0.8510701078080387, 'mcc': 0.8200321008296865, 'train_loss': 0.37264894136411225}\n",
      "Epoch 4/20\n"
     ]
    },
    {
     "name": "stderr",
     "output_type": "stream",
     "text": [
      "100%|██████████| 2339/2339 [03:34<00:00, 10.89it/s]\n"
     ]
    },
    {
     "name": "stdout",
     "output_type": "stream",
     "text": [
      "{'val_loss': 0.4542647952452684, 'val_accuracy': 0.8645499251657045, 'precision': 0.8655551438787809, 'recall': 0.8645499251657045, 'f1-score': 0.864696983152047, 'macro_f1-score': 0.8624046969535644, 'balanced_accuracy': 0.8615670546707255, 'mcc': 0.8333353661652508, 'train_loss': 0.3102846912021959}\n",
      "Epoch 5/20\n"
     ]
    },
    {
     "name": "stderr",
     "output_type": "stream",
     "text": [
      "100%|██████████| 2339/2339 [03:34<00:00, 10.89it/s]\n"
     ]
    },
    {
     "name": "stdout",
     "output_type": "stream",
     "text": [
      "{'val_loss': 0.46117997017139806, 'val_accuracy': 0.8581355569809707, 'precision': 0.8627661208039885, 'recall': 0.8581355569809707, 'f1-score': 0.859066143104532, 'macro_f1-score': 0.8545686710032117, 'balanced_accuracy': 0.8564848918530877, 'mcc': 0.8260233258092958, 'train_loss': 0.2560558644047325}\n",
      "Epoch 6/20\n"
     ]
    },
    {
     "name": "stderr",
     "output_type": "stream",
     "text": [
      "100%|██████████| 2339/2339 [03:34<00:00, 10.90it/s]\n"
     ]
    },
    {
     "name": "stdout",
     "output_type": "stream",
     "text": [
      "{'val_loss': 0.5204425367232189, 'val_accuracy': 0.8599529612999787, 'precision': 0.8610211574728192, 'recall': 0.8599529612999787, 'f1-score': 0.8595558009636873, 'macro_f1-score': 0.8592214856217634, 'balanced_accuracy': 0.86036135598431, 'mcc': 0.8283493957999759, 'train_loss': 0.21747228259307522}\n",
      "Epoch 7/20\n"
     ]
    },
    {
     "name": "stderr",
     "output_type": "stream",
     "text": [
      "100%|██████████| 2339/2339 [03:34<00:00, 10.90it/s]\n"
     ]
    },
    {
     "name": "stdout",
     "output_type": "stream",
     "text": [
      "{'val_loss': 0.4978144499497154, 'val_accuracy': 0.8626256147102843, 'precision': 0.8630702814028955, 'recall': 0.8626256147102843, 'f1-score': 0.8623828653351844, 'macro_f1-score': 0.8631349671300649, 'balanced_accuracy': 0.8604900228503097, 'mcc': 0.8310948961419893, 'train_loss': 0.18646502397777676}\n",
      "Epoch 8/20\n"
     ]
    },
    {
     "name": "stderr",
     "output_type": "stream",
     "text": [
      "100%|██████████| 2339/2339 [03:34<00:00, 10.90it/s]\n"
     ]
    },
    {
     "name": "stdout",
     "output_type": "stream",
     "text": [
      "{'val_loss': 0.5988123427224783, 'val_accuracy': 0.8555698097070772, 'precision': 0.8569405795262169, 'recall': 0.8555698097070772, 'f1-score': 0.855852563635872, 'macro_f1-score': 0.8503723741272093, 'balanced_accuracy': 0.8608834139434107, 'mcc': 0.8228118690731779, 'train_loss': 0.15172987659877885}\n",
      "Epoch 9/20\n"
     ]
    },
    {
     "name": "stderr",
     "output_type": "stream",
     "text": [
      "100%|██████████| 2339/2339 [03:34<00:00, 10.92it/s]\n"
     ]
    },
    {
     "name": "stdout",
     "output_type": "stream",
     "text": [
      "{'val_loss': 0.5159498567780496, 'val_accuracy': 0.8588838999358563, 'precision': 0.8598368738464751, 'recall': 0.8588838999358563, 'f1-score': 0.8582172310870133, 'macro_f1-score': 0.8572242836897368, 'balanced_accuracy': 0.8525733949161066, 'mcc': 0.826569004134991, 'train_loss': 0.13526893969264492}\n",
      "Epoch 10/20\n"
     ]
    },
    {
     "name": "stderr",
     "output_type": "stream",
     "text": [
      "100%|██████████| 2339/2339 [03:34<00:00, 10.89it/s]\n"
     ]
    },
    {
     "name": "stdout",
     "output_type": "stream",
     "text": [
      "{'val_loss': 0.6361137172883838, 'val_accuracy': 0.8556767158434894, 'precision': 0.8582978108183156, 'recall': 0.8556767158434894, 'f1-score': 0.8554094584360962, 'macro_f1-score': 0.855041129193318, 'balanced_accuracy': 0.8573403202572076, 'mcc': 0.8238433658537391, 'train_loss': 0.12172882756327413}\n",
      "Early stopping.\n",
      "\n",
      " === roberta-base + lstm + none Final 5-fold Cross-Validation Results ===\n",
      "val_loss: 0.4924\n",
      "val_accuracy: 0.8612\n",
      "precision: 0.8631\n",
      "recall: 0.8612\n",
      "f1-score: 0.8614\n",
      "macro_f1-score: 0.8594\n",
      "balanced_accuracy: 0.8584\n",
      "mcc: 0.8296\n",
      "train_loss: 0.2122\n",
      "total_seconds: 11805.0000\n",
      "total_time: 3 hrs 16 mins 45 secs\n",
      "▶ Running: roberta-base + bilstm + none\n",
      "tokenizer is roberta-base\n",
      "Using device: cuda\n",
      "CUDA Available: True\n",
      "CUDA Device: NVIDIA GeForce RTX 5070 Ti\n",
      "Current GPU Memory Allocated: 0.02 GB\n",
      "Current GPU Memory Cached: 3.93 GB\n",
      "\n",
      "[Fold 1]\n",
      "Label distribution after resampling:\n",
      "  label 0: 5626\n",
      "  label 1: 1399\n",
      "  label 2: 8442\n",
      "  label 3: 10770\n",
      "  label 4: 1678\n",
      "  label 5: 5578\n",
      "  label 6: 1737\n",
      "  label 7: 2187\n",
      "model is roberta-base bilstm\n"
     ]
    },
    {
     "name": "stderr",
     "output_type": "stream",
     "text": [
      "Some weights of RobertaModel were not initialized from the model checkpoint at roberta-base and are newly initialized: ['pooler.dense.bias', 'pooler.dense.weight']\n",
      "You should probably TRAIN this model on a down-stream task to be able to use it for predictions and inference.\n"
     ]
    },
    {
     "name": "stdout",
     "output_type": "stream",
     "text": [
      "Epoch 1/20\n"
     ]
    },
    {
     "name": "stderr",
     "output_type": "stream",
     "text": [
      "100%|██████████| 2339/2339 [03:40<00:00, 10.58it/s]\n"
     ]
    },
    {
     "name": "stdout",
     "output_type": "stream",
     "text": [
      "{'val_loss': 0.5143548655013244, 'val_accuracy': 0.8426509887760556, 'precision': 0.8437927987642624, 'recall': 0.8426509887760556, 'f1-score': 0.8419372743282487, 'macro_f1-score': 0.8354383839944916, 'balanced_accuracy': 0.8259753902624873, 'mcc': 0.8059135948351841, 'train_loss': 0.7433087816473866}\n",
      "Epoch 2/20\n"
     ]
    },
    {
     "name": "stderr",
     "output_type": "stream",
     "text": [
      "100%|██████████| 2339/2339 [03:40<00:00, 10.61it/s]\n"
     ]
    },
    {
     "name": "stdout",
     "output_type": "stream",
     "text": [
      "{'val_loss': 0.45911181807900087, 'val_accuracy': 0.8503474078033137, 'precision': 0.8536920401928991, 'recall': 0.8503474078033137, 'f1-score': 0.8503891051519936, 'macro_f1-score': 0.8472153276879976, 'balanced_accuracy': 0.8309605947936447, 'mcc': 0.8155004498062978, 'train_loss': 0.47443539618350034}\n",
      "Epoch 3/20\n"
     ]
    },
    {
     "name": "stderr",
     "output_type": "stream",
     "text": [
      "100%|██████████| 2339/2339 [03:41<00:00, 10.57it/s]\n"
     ]
    },
    {
     "name": "stdout",
     "output_type": "stream",
     "text": [
      "{'val_loss': 0.4411285992839143, 'val_accuracy': 0.8567610903260289, 'precision': 0.8622997072180791, 'recall': 0.8567610903260289, 'f1-score': 0.8571218950939838, 'macro_f1-score': 0.8554866686834994, 'balanced_accuracy': 0.8502761593374375, 'mcc': 0.8253334543541537, 'train_loss': 0.39229164244834047}\n",
      "Epoch 4/20\n"
     ]
    },
    {
     "name": "stderr",
     "output_type": "stream",
     "text": [
      "100%|██████████| 2339/2339 [03:40<00:00, 10.58it/s]\n"
     ]
    },
    {
     "name": "stdout",
     "output_type": "stream",
     "text": [
      "{'val_loss': 0.4541972438621725, 'val_accuracy': 0.8554783538214858, 'precision': 0.8592700515468407, 'recall': 0.8554783538214858, 'f1-score': 0.855404304807971, 'macro_f1-score': 0.8471295512244916, 'balanced_accuracy': 0.8365460500471003, 'mcc': 0.8225289650719668, 'train_loss': 0.33176258910692635}\n",
      "Epoch 5/20\n"
     ]
    },
    {
     "name": "stderr",
     "output_type": "stream",
     "text": [
      "100%|██████████| 2339/2339 [03:40<00:00, 10.61it/s]\n"
     ]
    },
    {
     "name": "stdout",
     "output_type": "stream",
     "text": [
      "{'val_loss': 0.46876739011201846, 'val_accuracy': 0.8584714056654196, 'precision': 0.8625158746504914, 'recall': 0.8584714056654196, 'f1-score': 0.8590648488197942, 'macro_f1-score': 0.8569666972957599, 'balanced_accuracy': 0.8512033802189838, 'mcc': 0.82609262144938, 'train_loss': 0.2759693979853848}\n",
      "Epoch 6/20\n"
     ]
    },
    {
     "name": "stderr",
     "output_type": "stream",
     "text": [
      "100%|██████████| 2339/2339 [03:41<00:00, 10.58it/s]\n"
     ]
    },
    {
     "name": "stdout",
     "output_type": "stream",
     "text": [
      "{'val_loss': 0.48445455146969385, 'val_accuracy': 0.8639230358097274, 'precision': 0.8647113433996032, 'recall': 0.8639230358097274, 'f1-score': 0.8640771503750728, 'macro_f1-score': 0.8576428299654932, 'balanced_accuracy': 0.8538454904381438, 'mcc': 0.8325819305544161, 'train_loss': 0.2306169972805981}\n",
      "Epoch 7/20\n"
     ]
    },
    {
     "name": "stderr",
     "output_type": "stream",
     "text": [
      "100%|██████████| 2339/2339 [03:40<00:00, 10.58it/s]\n"
     ]
    },
    {
     "name": "stdout",
     "output_type": "stream",
     "text": [
      "{'val_loss': 0.46014947835196796, 'val_accuracy': 0.8596472474612507, 'precision': 0.8656210719757724, 'recall': 0.8596472474612507, 'f1-score': 0.8599048518231861, 'macro_f1-score': 0.8589901759100385, 'balanced_accuracy': 0.8393768848233742, 'mcc': 0.8273923903442639, 'train_loss': 0.1948280690773221}\n",
      "Epoch 8/20\n"
     ]
    },
    {
     "name": "stderr",
     "output_type": "stream",
     "text": [
      "100%|██████████| 2339/2339 [03:40<00:00, 10.60it/s]\n"
     ]
    },
    {
     "name": "stdout",
     "output_type": "stream",
     "text": [
      "{'val_loss': 0.5351872266540861, 'val_accuracy': 0.8621058257616248, 'precision': 0.8625818957565309, 'recall': 0.8621058257616248, 'f1-score': 0.8614048425005485, 'macro_f1-score': 0.8555416019077471, 'balanced_accuracy': 0.8444027216541594, 'mcc': 0.8298823630393748, 'train_loss': 0.15773421518081363}\n",
      "Epoch 9/20\n"
     ]
    },
    {
     "name": "stderr",
     "output_type": "stream",
     "text": [
      "100%|██████████| 2339/2339 [03:40<00:00, 10.60it/s]\n"
     ]
    },
    {
     "name": "stdout",
     "output_type": "stream",
     "text": [
      "{'val_loss': 0.5582963161480924, 'val_accuracy': 0.8554783538214858, 'precision': 0.8560304049558651, 'recall': 0.8554783538214858, 'f1-score': 0.8554389595997229, 'macro_f1-score': 0.8517156990282808, 'balanced_accuracy': 0.8441109512990388, 'mcc': 0.8217292927226681, 'train_loss': 0.139544342526206}\n",
      "Epoch 10/20\n"
     ]
    },
    {
     "name": "stderr",
     "output_type": "stream",
     "text": [
      "100%|██████████| 2339/2339 [03:41<00:00, 10.58it/s]\n"
     ]
    },
    {
     "name": "stdout",
     "output_type": "stream",
     "text": [
      "{'val_loss': 0.5819495699229117, 'val_accuracy': 0.8576162479957242, 'precision': 0.8602323396043969, 'recall': 0.8576162479957242, 'f1-score': 0.8577909399115429, 'macro_f1-score': 0.850705843054271, 'balanced_accuracy': 0.840093259573595, 'mcc': 0.8248403037924341, 'train_loss': 0.13151407823335481}\n",
      "Early stopping.\n",
      "\n",
      "[Fold 2]\n",
      "Label distribution after resampling:\n",
      "  label 0: 5626\n",
      "  label 1: 1400\n",
      "  label 2: 8442\n",
      "  label 3: 10770\n",
      "  label 4: 1678\n",
      "  label 5: 5578\n",
      "  label 6: 1737\n",
      "  label 7: 2186\n",
      "model is roberta-base bilstm\n"
     ]
    },
    {
     "name": "stderr",
     "output_type": "stream",
     "text": [
      "Some weights of RobertaModel were not initialized from the model checkpoint at roberta-base and are newly initialized: ['pooler.dense.bias', 'pooler.dense.weight']\n",
      "You should probably TRAIN this model on a down-stream task to be able to use it for predictions and inference.\n"
     ]
    },
    {
     "name": "stdout",
     "output_type": "stream",
     "text": [
      "Epoch 1/20\n"
     ]
    },
    {
     "name": "stderr",
     "output_type": "stream",
     "text": [
      "100%|██████████| 2339/2339 [03:40<00:00, 10.60it/s]\n"
     ]
    },
    {
     "name": "stdout",
     "output_type": "stream",
     "text": [
      "{'val_loss': 0.5435821438001261, 'val_accuracy': 0.8300374131480491, 'precision': 0.8352465758388329, 'recall': 0.8300374131480491, 'f1-score': 0.8290863822104096, 'macro_f1-score': 0.8178872382791486, 'balanced_accuracy': 0.8005197186604873, 'mcc': 0.7903806352097228, 'train_loss': 0.7338592348609944}\n",
      "Epoch 2/20\n"
     ]
    },
    {
     "name": "stderr",
     "output_type": "stream",
     "text": [
      "100%|██████████| 2339/2339 [03:40<00:00, 10.59it/s]\n"
     ]
    },
    {
     "name": "stdout",
     "output_type": "stream",
     "text": [
      "{'val_loss': 0.48210872027099644, 'val_accuracy': 0.8351683591662212, 'precision': 0.8455433020341947, 'recall': 0.8351683591662212, 'f1-score': 0.8349721248586327, 'macro_f1-score': 0.8253625490321346, 'balanced_accuracy': 0.8148810774157431, 'mcc': 0.7975853928986565, 'train_loss': 0.44494557720555256}\n",
      "Epoch 3/20\n"
     ]
    },
    {
     "name": "stderr",
     "output_type": "stream",
     "text": [
      "100%|██████████| 2339/2339 [03:40<00:00, 10.59it/s]\n"
     ]
    },
    {
     "name": "stdout",
     "output_type": "stream",
     "text": [
      "{'val_loss': 0.4828150378874479, 'val_accuracy': 0.8470336718332443, 'precision': 0.850345659598222, 'recall': 0.8470336718332443, 'f1-score': 0.8469947719790418, 'macro_f1-score': 0.846003405315751, 'balanced_accuracy': 0.8461847152452613, 'mcc': 0.8122822859016025, 'train_loss': 0.36263527208401664}\n",
      "Epoch 4/20\n"
     ]
    },
    {
     "name": "stderr",
     "output_type": "stream",
     "text": [
      "100%|██████████| 2339/2339 [03:40<00:00, 10.60it/s]\n"
     ]
    },
    {
     "name": "stdout",
     "output_type": "stream",
     "text": [
      "{'val_loss': 0.5160610577394056, 'val_accuracy': 0.8328166755745591, 'precision': 0.8388040892965667, 'recall': 0.8328166755745591, 'f1-score': 0.8325667934504014, 'macro_f1-score': 0.8315196751003853, 'balanced_accuracy': 0.8131811565521058, 'mcc': 0.7952778791526431, 'train_loss': 0.3023677418102415}\n",
      "Epoch 5/20\n"
     ]
    },
    {
     "name": "stderr",
     "output_type": "stream",
     "text": [
      "100%|██████████| 2339/2339 [03:41<00:00, 10.57it/s]\n"
     ]
    },
    {
     "name": "stdout",
     "output_type": "stream",
     "text": [
      "{'val_loss': 0.5363537520154291, 'val_accuracy': 0.846071619454837, 'precision': 0.8464832743646318, 'recall': 0.846071619454837, 'f1-score': 0.8455213813541617, 'macro_f1-score': 0.8434162884629469, 'balanced_accuracy': 0.8481558901238915, 'mcc': 0.8110474795943261, 'train_loss': 0.2569298896635554}\n",
      "Epoch 6/20\n"
     ]
    },
    {
     "name": "stderr",
     "output_type": "stream",
     "text": [
      "100%|██████████| 2339/2339 [03:40<00:00, 10.59it/s]\n"
     ]
    },
    {
     "name": "stdout",
     "output_type": "stream",
     "text": [
      "{'val_loss': 0.5499029108458477, 'val_accuracy': 0.8510956707642972, 'precision': 0.8519350461513236, 'recall': 0.8510956707642972, 'f1-score': 0.8507616119230391, 'macro_f1-score': 0.8522823500090484, 'balanced_accuracy': 0.8509449556053434, 'mcc': 0.8174897447641474, 'train_loss': 0.23837581531424593}\n",
      "Epoch 7/20\n"
     ]
    },
    {
     "name": "stderr",
     "output_type": "stream",
     "text": [
      "100%|██████████| 2339/2339 [03:40<00:00, 10.60it/s]\n"
     ]
    },
    {
     "name": "stdout",
     "output_type": "stream",
     "text": [
      "{'val_loss': 0.5855551628650636, 'val_accuracy': 0.8415820416889364, 'precision': 0.8449135974681801, 'recall': 0.8415820416889364, 'f1-score': 0.841619535530325, 'macro_f1-score': 0.8410537309003585, 'balanced_accuracy': 0.85210594335219, 'mcc': 0.8070896297464141, 'train_loss': 0.1791510794116857}\n",
      "Epoch 8/20\n"
     ]
    },
    {
     "name": "stderr",
     "output_type": "stream",
     "text": [
      "100%|██████████| 2339/2339 [03:40<00:00, 10.58it/s]\n"
     ]
    },
    {
     "name": "stdout",
     "output_type": "stream",
     "text": [
      "{'val_loss': 0.5804183523835312, 'val_accuracy': 0.8543025120256548, 'precision': 0.8544335842920794, 'recall': 0.8543025120256548, 'f1-score': 0.854086474313144, 'macro_f1-score': 0.8555414822397671, 'balanced_accuracy': 0.8504859951133235, 'mcc': 0.8204869920566612, 'train_loss': 0.2963602719071961}\n",
      "Epoch 9/20\n"
     ]
    },
    {
     "name": "stderr",
     "output_type": "stream",
     "text": [
      "100%|██████████| 2339/2339 [03:40<00:00, 10.59it/s]\n"
     ]
    },
    {
     "name": "stdout",
     "output_type": "stream",
     "text": [
      "{'val_loss': 0.6117077190938414, 'val_accuracy': 0.8424371993586317, 'precision': 0.843565590103984, 'recall': 0.8424371993586317, 'f1-score': 0.8421184990518813, 'macro_f1-score': 0.8412533159610645, 'balanced_accuracy': 0.8477299251978085, 'mcc': 0.8066749828941506, 'train_loss': 0.18525860786486564}\n",
      "Epoch 10/20\n"
     ]
    },
    {
     "name": "stderr",
     "output_type": "stream",
     "text": [
      "100%|██████████| 2339/2339 [03:56<00:00,  9.87it/s]\n"
     ]
    },
    {
     "name": "stdout",
     "output_type": "stream",
     "text": [
      "{'val_loss': 0.5832637993244725, 'val_accuracy': 0.8530197755211117, 'precision': 0.8533780282961705, 'recall': 0.8530197755211117, 'f1-score': 0.8526109000013583, 'macro_f1-score': 0.8530863904473043, 'balanced_accuracy': 0.8618449178538348, 'mcc': 0.820076779539708, 'train_loss': 0.22322909709232588}\n",
      "Epoch 11/20\n"
     ]
    },
    {
     "name": "stderr",
     "output_type": "stream",
     "text": [
      "100%|██████████| 2339/2339 [03:56<00:00,  9.89it/s]\n"
     ]
    },
    {
     "name": "stdout",
     "output_type": "stream",
     "text": [
      "{'val_loss': 0.6194684815780125, 'val_accuracy': 0.8517370390165687, 'precision': 0.8526368200443087, 'recall': 0.8517370390165687, 'f1-score': 0.8514895946104379, 'macro_f1-score': 0.8503299634891472, 'balanced_accuracy': 0.8620927420798135, 'mcc': 0.818339855749997, 'train_loss': 0.22657959102378228}\n",
      "Early stopping.\n",
      "\n",
      "[Fold 3]\n",
      "Label distribution after resampling:\n",
      "  label 0: 5626\n",
      "  label 1: 1399\n",
      "  label 2: 8442\n",
      "  label 3: 10770\n",
      "  label 4: 1679\n",
      "  label 5: 5578\n",
      "  label 6: 1738\n",
      "  label 7: 2186\n",
      "model is roberta-base bilstm\n"
     ]
    },
    {
     "name": "stderr",
     "output_type": "stream",
     "text": [
      "Some weights of RobertaModel were not initialized from the model checkpoint at roberta-base and are newly initialized: ['pooler.dense.bias', 'pooler.dense.weight']\n",
      "You should probably TRAIN this model on a down-stream task to be able to use it for predictions and inference.\n"
     ]
    },
    {
     "name": "stdout",
     "output_type": "stream",
     "text": [
      "Epoch 1/20\n"
     ]
    },
    {
     "name": "stderr",
     "output_type": "stream",
     "text": [
      "100%|██████████| 2339/2339 [03:56<00:00,  9.87it/s]\n"
     ]
    },
    {
     "name": "stdout",
     "output_type": "stream",
     "text": [
      "{'val_loss': 0.521434410642355, 'val_accuracy': 0.8324780842420355, 'precision': 0.8405688509351811, 'recall': 0.8324780842420355, 'f1-score': 0.8303496487928393, 'macro_f1-score': 0.8292770644997418, 'balanced_accuracy': 0.8063981761749257, 'mcc': 0.7937483578778484, 'train_loss': 0.7285434310430006}\n",
      "Epoch 2/20\n"
     ]
    },
    {
     "name": "stderr",
     "output_type": "stream",
     "text": [
      "100%|██████████| 2339/2339 [03:57<00:00,  9.85it/s]\n"
     ]
    },
    {
     "name": "stdout",
     "output_type": "stream",
     "text": [
      "{'val_loss': 0.46611283879376886, 'val_accuracy': 0.8303399615137909, 'precision': 0.837843670168856, 'recall': 0.8303399615137909, 'f1-score': 0.8283794954650937, 'macro_f1-score': 0.8374356084699913, 'balanced_accuracy': 0.8506968518868387, 'mcc': 0.7961892584174285, 'train_loss': 0.4695906734469101}\n",
      "Epoch 3/20\n"
     ]
    },
    {
     "name": "stderr",
     "output_type": "stream",
     "text": [
      "100%|██████████| 2339/2339 [03:56<00:00,  9.88it/s]\n"
     ]
    },
    {
     "name": "stdout",
     "output_type": "stream",
     "text": [
      "{'val_loss': 0.46068575396560707, 'val_accuracy': 0.8383579217447081, 'precision': 0.8427310756801132, 'recall': 0.8383579217447081, 'f1-score': 0.8376082279736922, 'macro_f1-score': 0.8316866439657616, 'balanced_accuracy': 0.8105774071119972, 'mcc': 0.8010606304793829, 'train_loss': 0.39612371753582704}\n",
      "Epoch 4/20\n"
     ]
    },
    {
     "name": "stderr",
     "output_type": "stream",
     "text": [
      "100%|██████████| 2339/2339 [03:56<00:00,  9.89it/s]\n"
     ]
    },
    {
     "name": "stdout",
     "output_type": "stream",
     "text": [
      "{'val_loss': 0.43810509835871364, 'val_accuracy': 0.858776993799444, 'precision': 0.8600889024872347, 'recall': 0.858776993799444, 'f1-score': 0.8586233017208882, 'macro_f1-score': 0.8565364985629857, 'balanced_accuracy': 0.8546674436207986, 'mcc': 0.826702678324355, 'train_loss': 0.3399218521154573}\n",
      "Epoch 5/20\n"
     ]
    },
    {
     "name": "stderr",
     "output_type": "stream",
     "text": [
      "100%|██████████| 2339/2339 [03:57<00:00,  9.87it/s]\n"
     ]
    },
    {
     "name": "stdout",
     "output_type": "stream",
     "text": [
      "{'val_loss': 0.42276480965252616, 'val_accuracy': 0.8632670515287577, 'precision': 0.8644541271160954, 'recall': 0.8632670515287577, 'f1-score': 0.8628520481580375, 'macro_f1-score': 0.8586179229575733, 'balanced_accuracy': 0.8405152497180639, 'mcc': 0.8312841682437816, 'train_loss': 0.28345564901056314}\n",
      "Epoch 6/20\n"
     ]
    },
    {
     "name": "stderr",
     "output_type": "stream",
     "text": [
      "100%|██████████| 2339/2339 [03:56<00:00,  9.88it/s]\n"
     ]
    },
    {
     "name": "stdout",
     "output_type": "stream",
     "text": [
      "{'val_loss': 0.4644229179343734, 'val_accuracy': 0.86337395766517, 'precision': 0.8650663015024612, 'recall': 0.86337395766517, 'f1-score': 0.8631588565444586, 'macro_f1-score': 0.8578680026478729, 'balanced_accuracy': 0.8428000350848135, 'mcc': 0.8315453996909924, 'train_loss': 0.23556784960475535}\n",
      "Epoch 7/20\n"
     ]
    },
    {
     "name": "stderr",
     "output_type": "stream",
     "text": [
      "100%|██████████| 2339/2339 [03:56<00:00,  9.90it/s]\n"
     ]
    },
    {
     "name": "stdout",
     "output_type": "stream",
     "text": [
      "{'val_loss': 0.5004711241684218, 'val_accuracy': 0.865725892666239, 'precision': 0.8662142618343814, 'recall': 0.865725892666239, 'f1-score': 0.8657204831945717, 'macro_f1-score': 0.8608749704423065, 'balanced_accuracy': 0.8537905550280704, 'mcc': 0.8343957422817034, 'train_loss': 0.20535779221806805}\n",
      "Epoch 8/20\n"
     ]
    },
    {
     "name": "stderr",
     "output_type": "stream",
     "text": [
      "100%|██████████| 2339/2339 [03:56<00:00,  9.87it/s]\n"
     ]
    },
    {
     "name": "stdout",
     "output_type": "stream",
     "text": [
      "{'val_loss': 0.5171794744097015, 'val_accuracy': 0.8644430190292923, 'precision': 0.8653103541934923, 'recall': 0.8644430190292923, 'f1-score': 0.8640977800169769, 'macro_f1-score': 0.8592183151576096, 'balanced_accuracy': 0.852354153715888, 'mcc': 0.8333877031433629, 'train_loss': 0.1791151675178465}\n",
      "Epoch 9/20\n"
     ]
    },
    {
     "name": "stderr",
     "output_type": "stream",
     "text": [
      "100%|██████████| 2339/2339 [03:57<00:00,  9.87it/s]\n"
     ]
    },
    {
     "name": "stdout",
     "output_type": "stream",
     "text": [
      "{'val_loss': 0.5391616356469547, 'val_accuracy': 0.8682916399401326, 'precision': 0.8692082241777686, 'recall': 0.8682916399401326, 'f1-score': 0.8683508236297062, 'macro_f1-score': 0.8638051011827361, 'balanced_accuracy': 0.8635856546248999, 'mcc': 0.8380274890668542, 'train_loss': 0.15108733018770631}\n",
      "Epoch 10/20\n"
     ]
    },
    {
     "name": "stderr",
     "output_type": "stream",
     "text": [
      "100%|██████████| 2339/2339 [03:57<00:00,  9.86it/s]\n"
     ]
    },
    {
     "name": "stdout",
     "output_type": "stream",
     "text": [
      "{'val_loss': 0.5046692219156867, 'val_accuracy': 0.8641223006200556, 'precision': 0.86425079221261, 'recall': 0.8641223006200556, 'f1-score': 0.863531674251319, 'macro_f1-score': 0.8593601328108096, 'balanced_accuracy': 0.8540704671749235, 'mcc': 0.8329603512068309, 'train_loss': 0.13243842629173092}\n",
      "Epoch 11/20\n"
     ]
    },
    {
     "name": "stderr",
     "output_type": "stream",
     "text": [
      "100%|██████████| 2339/2339 [03:57<00:00,  9.87it/s]\n"
     ]
    },
    {
     "name": "stdout",
     "output_type": "stream",
     "text": [
      "{'val_loss': 0.6663464793897608, 'val_accuracy': 0.8469104126576865, 'precision': 0.8508996179118178, 'recall': 0.8469104126576865, 'f1-score': 0.8457541100383372, 'macro_f1-score': 0.8348390188424094, 'balanced_accuracy': 0.8267101344904798, 'mcc': 0.8115054595179869, 'train_loss': 0.12045745350992448}\n",
      "Epoch 12/20\n"
     ]
    },
    {
     "name": "stderr",
     "output_type": "stream",
     "text": [
      "100%|██████████| 2339/2339 [03:56<00:00,  9.88it/s]\n"
     ]
    },
    {
     "name": "stdout",
     "output_type": "stream",
     "text": [
      "{'val_loss': 0.5833406888847995, 'val_accuracy': 0.864763737438529, 'precision': 0.8672296980985176, 'recall': 0.864763737438529, 'f1-score': 0.8648181926442589, 'macro_f1-score': 0.8611460984468873, 'balanced_accuracy': 0.8619795655498306, 'mcc': 0.8341057239991343, 'train_loss': 0.11045670147286231}\n",
      "Early stopping.\n",
      "\n",
      "[Fold 4]\n",
      "Label distribution after resampling:\n",
      "  label 0: 5625\n",
      "  label 1: 1399\n",
      "  label 2: 8441\n",
      "  label 3: 10771\n",
      "  label 4: 1679\n",
      "  label 5: 5579\n",
      "  label 6: 1738\n",
      "  label 7: 2186\n",
      "model is roberta-base bilstm\n"
     ]
    },
    {
     "name": "stderr",
     "output_type": "stream",
     "text": [
      "Some weights of RobertaModel were not initialized from the model checkpoint at roberta-base and are newly initialized: ['pooler.dense.bias', 'pooler.dense.weight']\n",
      "You should probably TRAIN this model on a down-stream task to be able to use it for predictions and inference.\n"
     ]
    },
    {
     "name": "stdout",
     "output_type": "stream",
     "text": [
      "Epoch 1/20\n"
     ]
    },
    {
     "name": "stderr",
     "output_type": "stream",
     "text": [
      "100%|██████████| 2339/2339 [03:56<00:00,  9.88it/s]\n"
     ]
    },
    {
     "name": "stdout",
     "output_type": "stream",
     "text": [
      "{'val_loss': 0.5032489420830184, 'val_accuracy': 0.841565105837075, 'precision': 0.8458346709602375, 'recall': 0.841565105837075, 'f1-score': 0.8420319745355681, 'macro_f1-score': 0.8451678726759728, 'balanced_accuracy': 0.829893281144973, 'mcc': 0.8048141167312961, 'train_loss': 0.6871305711283904}\n",
      "Epoch 2/20\n"
     ]
    },
    {
     "name": "stderr",
     "output_type": "stream",
     "text": [
      "100%|██████████| 2339/2339 [03:56<00:00,  9.88it/s]\n"
     ]
    },
    {
     "name": "stdout",
     "output_type": "stream",
     "text": [
      "{'val_loss': 0.4570956280025152, 'val_accuracy': 0.8561043403891383, 'precision': 0.8581227301487673, 'recall': 0.8561043403891383, 'f1-score': 0.8560607216073096, 'macro_f1-score': 0.8520809180587958, 'balanced_accuracy': 0.8431076051921673, 'mcc': 0.8225749242494285, 'train_loss': 0.460212406951993}\n",
      "Epoch 3/20\n"
     ]
    },
    {
     "name": "stderr",
     "output_type": "stream",
     "text": [
      "100%|██████████| 2339/2339 [03:55<00:00,  9.91it/s]\n"
     ]
    },
    {
     "name": "stdout",
     "output_type": "stream",
     "text": [
      "{'val_loss': 0.4171712586067171, 'val_accuracy': 0.860594398118452, 'precision': 0.8625976677176622, 'recall': 0.860594398118452, 'f1-score': 0.8607335302669797, 'macro_f1-score': 0.8615210173818049, 'balanced_accuracy': 0.856026554927854, 'mcc': 0.8288433776596784, 'train_loss': 0.3772530106173819}\n",
      "Epoch 4/20\n"
     ]
    },
    {
     "name": "stderr",
     "output_type": "stream",
     "text": [
      "100%|██████████| 2339/2339 [03:57<00:00,  9.85it/s]\n"
     ]
    },
    {
     "name": "stdout",
     "output_type": "stream",
     "text": [
      "{'val_loss': 0.4276021263219862, 'val_accuracy': 0.8625187085738721, 'precision': 0.8645585480980601, 'recall': 0.8625187085738721, 'f1-score': 0.8625691349564554, 'macro_f1-score': 0.8606606340963668, 'balanced_accuracy': 0.8672675543154829, 'mcc': 0.8317718174597244, 'train_loss': 0.3138532198837338}\n",
      "Epoch 5/20\n"
     ]
    },
    {
     "name": "stderr",
     "output_type": "stream",
     "text": [
      "100%|██████████| 2339/2339 [03:57<00:00,  9.86it/s]\n"
     ]
    },
    {
     "name": "stdout",
     "output_type": "stream",
     "text": [
      "{'val_loss': 0.5768157872427095, 'val_accuracy': 0.8370750481077613, 'precision': 0.8508608440343268, 'recall': 0.8370750481077613, 'f1-score': 0.8390849073064031, 'macro_f1-score': 0.8433572294156371, 'balanced_accuracy': 0.8430796931195164, 'mcc': 0.803247206477433, 'train_loss': 0.2631448350807747}\n",
      "Epoch 6/20\n"
     ]
    },
    {
     "name": "stderr",
     "output_type": "stream",
     "text": [
      "100%|██████████| 2339/2339 [03:57<00:00,  9.87it/s]\n"
     ]
    },
    {
     "name": "stdout",
     "output_type": "stream",
     "text": [
      "{'val_loss': 0.4505741958721326, 'val_accuracy': 0.8567457772076117, 'precision': 0.8596536236461886, 'recall': 0.8567457772076117, 'f1-score': 0.857078237331799, 'macro_f1-score': 0.8548932101746576, 'balanced_accuracy': 0.8551686660393674, 'mcc': 0.824066363170367, 'train_loss': 0.24115504575403532}\n",
      "Early stopping.\n",
      "\n",
      "[Fold 5]\n",
      "Label distribution after resampling:\n",
      "  label 0: 5625\n",
      "  label 1: 1399\n",
      "  label 2: 8441\n",
      "  label 3: 10771\n",
      "  label 4: 1678\n",
      "  label 5: 5579\n",
      "  label 6: 1738\n",
      "  label 7: 2187\n",
      "model is roberta-base bilstm\n"
     ]
    },
    {
     "name": "stderr",
     "output_type": "stream",
     "text": [
      "Some weights of RobertaModel were not initialized from the model checkpoint at roberta-base and are newly initialized: ['pooler.dense.bias', 'pooler.dense.weight']\n",
      "You should probably TRAIN this model on a down-stream task to be able to use it for predictions and inference.\n"
     ]
    },
    {
     "name": "stdout",
     "output_type": "stream",
     "text": [
      "Epoch 1/20\n"
     ]
    },
    {
     "name": "stderr",
     "output_type": "stream",
     "text": [
      "100%|██████████| 2339/2339 [03:56<00:00,  9.88it/s]\n"
     ]
    },
    {
     "name": "stdout",
     "output_type": "stream",
     "text": [
      "{'val_loss': 0.5163361011598355, 'val_accuracy': 0.8277742142398974, 'precision': 0.8353270568863299, 'recall': 0.8277742142398974, 'f1-score': 0.8285901569352107, 'macro_f1-score': 0.8298864496510415, 'balanced_accuracy': 0.8285264730605542, 'mcc': 0.7889373847619598, 'train_loss': 0.6705128708237152}\n",
      "Epoch 2/20\n"
     ]
    },
    {
     "name": "stderr",
     "output_type": "stream",
     "text": [
      "100%|██████████| 2339/2339 [03:56<00:00,  9.88it/s]\n"
     ]
    },
    {
     "name": "stdout",
     "output_type": "stream",
     "text": [
      "{'val_loss': 0.4624929253744264, 'val_accuracy': 0.8366474235621124, 'precision': 0.8456952358774703, 'recall': 0.8366474235621124, 'f1-score': 0.8354928936996252, 'macro_f1-score': 0.8401165039288139, 'balanced_accuracy': 0.8656334175213718, 'mcc': 0.8040089009332344, 'train_loss': 0.4466082858763454}\n",
      "Epoch 3/20\n"
     ]
    },
    {
     "name": "stderr",
     "output_type": "stream",
     "text": [
      "100%|██████████| 2339/2339 [03:56<00:00,  9.88it/s]\n"
     ]
    },
    {
     "name": "stdout",
     "output_type": "stream",
     "text": [
      "{'val_loss': 0.43695312436574546, 'val_accuracy': 0.8519350010690614, 'precision': 0.8578292209910376, 'recall': 0.8519350010690614, 'f1-score': 0.8522900097858418, 'macro_f1-score': 0.8503253079220578, 'balanced_accuracy': 0.8254806858044205, 'mcc': 0.8174346251140457, 'train_loss': 0.3711016482409598}\n",
      "Epoch 4/20\n"
     ]
    },
    {
     "name": "stderr",
     "output_type": "stream",
     "text": [
      "100%|██████████| 2339/2339 [03:56<00:00,  9.88it/s]\n"
     ]
    },
    {
     "name": "stdout",
     "output_type": "stream",
     "text": [
      "{'val_loss': 0.45661786657272496, 'val_accuracy': 0.8563181526619628, 'precision': 0.8576582111155472, 'recall': 0.8563181526619628, 'f1-score': 0.8558956485153869, 'macro_f1-score': 0.8549553602585056, 'balanced_accuracy': 0.858950203742588, 'mcc': 0.8243191199474916, 'train_loss': 0.3121862697063469}\n",
      "Epoch 5/20\n"
     ]
    },
    {
     "name": "stderr",
     "output_type": "stream",
     "text": [
      "100%|██████████| 2339/2339 [03:57<00:00,  9.84it/s]\n"
     ]
    },
    {
     "name": "stdout",
     "output_type": "stream",
     "text": [
      "{'val_loss': 0.43864335749521216, 'val_accuracy': 0.8595253367543297, 'precision': 0.8601247650168783, 'recall': 0.8595253367543297, 'f1-score': 0.8591685789689979, 'macro_f1-score': 0.8596768398271991, 'balanced_accuracy': 0.8663182761153803, 'mcc': 0.8277602248341861, 'train_loss': 0.2579136027115572}\n",
      "Epoch 6/20\n"
     ]
    },
    {
     "name": "stderr",
     "output_type": "stream",
     "text": [
      "100%|██████████| 2339/2339 [03:58<00:00,  9.80it/s]\n"
     ]
    },
    {
     "name": "stdout",
     "output_type": "stream",
     "text": [
      "{'val_loss': 0.5100039459343076, 'val_accuracy': 0.8583493692537951, 'precision': 0.8601622631729162, 'recall': 0.8583493692537951, 'f1-score': 0.8587410618361563, 'macro_f1-score': 0.8577697305110661, 'balanced_accuracy': 0.861260531289578, 'mcc': 0.8260989634060357, 'train_loss': 0.21261312505855437}\n",
      "Epoch 7/20\n"
     ]
    },
    {
     "name": "stderr",
     "output_type": "stream",
     "text": [
      "100%|██████████| 2339/2339 [03:57<00:00,  9.84it/s]\n"
     ]
    },
    {
     "name": "stdout",
     "output_type": "stream",
     "text": [
      "{'val_loss': 0.5063706500002015, 'val_accuracy': 0.8539662176608938, 'precision': 0.8577026338114784, 'recall': 0.8539662176608938, 'f1-score': 0.8538901524288579, 'macro_f1-score': 0.8530723427604937, 'balanced_accuracy': 0.8710992109590997, 'mcc': 0.8224093809027132, 'train_loss': 0.17899082020954787}\n",
      "Epoch 8/20\n"
     ]
    },
    {
     "name": "stderr",
     "output_type": "stream",
     "text": [
      "100%|██████████| 2339/2339 [03:57<00:00,  9.85it/s]\n"
     ]
    },
    {
     "name": "stdout",
     "output_type": "stream",
     "text": [
      "{'val_loss': 0.5151176850422898, 'val_accuracy': 0.8616634594825743, 'precision': 0.8625622649571644, 'recall': 0.8616634594825743, 'f1-score': 0.8612689877381253, 'macro_f1-score': 0.860583840195507, 'balanced_accuracy': 0.8494996336870426, 'mcc': 0.829282115263976, 'train_loss': 0.15562331466945528}\n",
      "Epoch 9/20\n"
     ]
    },
    {
     "name": "stderr",
     "output_type": "stream",
     "text": [
      "100%|██████████| 2339/2339 [03:57<00:00,  9.85it/s]\n"
     ]
    },
    {
     "name": "stdout",
     "output_type": "stream",
     "text": [
      "{'val_loss': 0.5226273585684025, 'val_accuracy': 0.8565319649347872, 'precision': 0.8571620676977074, 'recall': 0.8565319649347872, 'f1-score': 0.8566690537493376, 'macro_f1-score': 0.8560248408626336, 'balanced_accuracy': 0.851688242233186, 'mcc': 0.8233382672371939, 'train_loss': 0.13783442832849277}\n",
      "Epoch 10/20\n"
     ]
    },
    {
     "name": "stderr",
     "output_type": "stream",
     "text": [
      "100%|██████████| 2339/2339 [03:58<00:00,  9.82it/s]\n"
     ]
    },
    {
     "name": "stdout",
     "output_type": "stream",
     "text": [
      "{'val_loss': 0.6245265393911933, 'val_accuracy': 0.8558905281163138, 'precision': 0.857482979307161, 'recall': 0.8558905281163138, 'f1-score': 0.855807886033255, 'macro_f1-score': 0.8522475726875716, 'balanced_accuracy': 0.8638330569508077, 'mcc': 0.8240339058682621, 'train_loss': 0.1107618237576635}\n",
      "Epoch 11/20\n"
     ]
    },
    {
     "name": "stderr",
     "output_type": "stream",
     "text": [
      "100%|██████████| 2339/2339 [03:57<00:00,  9.84it/s]\n"
     ]
    },
    {
     "name": "stdout",
     "output_type": "stream",
     "text": [
      "{'val_loss': 0.5495729461165033, 'val_accuracy': 0.86241180243746, 'precision': 0.8633449815817278, 'recall': 0.86241180243746, 'f1-score': 0.8625330082372302, 'macro_f1-score': 0.859407428688151, 'balanced_accuracy': 0.867761555713211, 'mcc': 0.8311064313768122, 'train_loss': 0.10021368917133523}\n",
      "Early stopping.\n",
      "\n",
      " === roberta-base + bilstm + none Final 5-fold Cross-Validation Results ===\n",
      "val_loss: 0.5024\n",
      "val_accuracy: 0.8609\n",
      "precision: 0.8629\n",
      "recall: 0.8609\n",
      "f1-score: 0.8609\n",
      "macro_f1-score: 0.8601\n",
      "balanced_accuracy: 0.8518\n",
      "mcc: 0.8288\n",
      "train_loss: 0.2350\n",
      "total_seconds: 12728.0000\n",
      "total_time: 3 hrs 32 mins 8 secs\n",
      "▶ Running: microsoft/deberta-base + plain + none\n",
      "tokenizer is microsoft/deberta-base\n",
      "Using device: cuda\n",
      "CUDA Available: True\n",
      "CUDA Device: NVIDIA GeForce RTX 5070 Ti\n",
      "Current GPU Memory Allocated: 0.02 GB\n",
      "Current GPU Memory Cached: 3.93 GB\n",
      "\n",
      "[Fold 1]\n",
      "Label distribution after resampling:\n",
      "  label 0: 5626\n",
      "  label 1: 1399\n",
      "  label 2: 8442\n",
      "  label 3: 10770\n",
      "  label 4: 1678\n",
      "  label 5: 5578\n",
      "  label 6: 1737\n",
      "  label 7: 2187\n",
      "model is microsoft/deberta-base\n"
     ]
    },
    {
     "name": "stderr",
     "output_type": "stream",
     "text": [
      "Some weights of DebertaForSequenceClassification were not initialized from the model checkpoint at microsoft/deberta-base and are newly initialized: ['classifier.bias', 'classifier.weight', 'pooler.dense.bias', 'pooler.dense.weight']\n",
      "You should probably TRAIN this model on a down-stream task to be able to use it for predictions and inference.\n"
     ]
    },
    {
     "name": "stdout",
     "output_type": "stream",
     "text": [
      "Epoch 1/20\n"
     ]
    },
    {
     "name": "stderr",
     "output_type": "stream",
     "text": [
      "100%|██████████| 2339/2339 [04:07<00:00,  9.45it/s]\n"
     ]
    },
    {
     "name": "stdout",
     "output_type": "stream",
     "text": [
      "{'val_loss': 0.4518298896109192, 'val_accuracy': 0.847461250668092, 'precision': 0.8534262912106441, 'recall': 0.847461250668092, 'f1-score': 0.8477264533178935, 'macro_f1-score': 0.8394970437327278, 'balanced_accuracy': 0.8161791540898662, 'mcc': 0.8120513392360104, 'train_loss': 0.6158104424976854}\n",
      "Epoch 2/20\n"
     ]
    },
    {
     "name": "stderr",
     "output_type": "stream",
     "text": [
      "100%|██████████| 2339/2339 [04:12<00:00,  9.26it/s]\n"
     ]
    },
    {
     "name": "stdout",
     "output_type": "stream",
     "text": [
      "{'val_loss': 0.42512886970598474, 'val_accuracy': 0.8576162479957242, 'precision': 0.8635943630128047, 'recall': 0.8576162479957242, 'f1-score': 0.8581109201034527, 'macro_f1-score': 0.8508844336336505, 'balanced_accuracy': 0.8407658971080483, 'mcc': 0.8257369038710703, 'train_loss': 0.37460761121026265}\n",
      "Epoch 3/20\n"
     ]
    },
    {
     "name": "stderr",
     "output_type": "stream",
     "text": [
      "100%|██████████| 2339/2339 [04:06<00:00,  9.48it/s]\n"
     ]
    },
    {
     "name": "stdout",
     "output_type": "stream",
     "text": [
      "{'val_loss': 0.42296864457874217, 'val_accuracy': 0.8712987707108498, 'precision': 0.8743985585790609, 'recall': 0.8712987707108498, 'f1-score': 0.8710320251729202, 'macro_f1-score': 0.8678436711306488, 'balanced_accuracy': 0.848218070274379, 'mcc': 0.8411224176147756, 'train_loss': 0.2756911582262114}\n",
      "Epoch 4/20\n"
     ]
    },
    {
     "name": "stderr",
     "output_type": "stream",
     "text": [
      "100%|██████████| 2339/2339 [04:06<00:00,  9.47it/s]\n"
     ]
    },
    {
     "name": "stdout",
     "output_type": "stream",
     "text": [
      "{'val_loss': 0.483206351657406, 'val_accuracy': 0.8677712453233565, 'precision': 0.8706531935038885, 'recall': 0.8677712453233565, 'f1-score': 0.8677836689672849, 'macro_f1-score': 0.8626043998446447, 'balanced_accuracy': 0.8476271579343491, 'mcc': 0.8369427562932621, 'train_loss': 0.20392769490109455}\n",
      "Epoch 5/20\n"
     ]
    },
    {
     "name": "stderr",
     "output_type": "stream",
     "text": [
      "100%|██████████| 2339/2339 [04:05<00:00,  9.52it/s]\n"
     ]
    },
    {
     "name": "stdout",
     "output_type": "stream",
     "text": [
      "{'val_loss': 0.533337127434042, 'val_accuracy': 0.8559059326563335, 'precision': 0.8594116882452266, 'recall': 0.8559059326563335, 'f1-score': 0.8557852152717973, 'macro_f1-score': 0.8522062179567658, 'balanced_accuracy': 0.8289155790895457, 'mcc': 0.8219470950433934, 'train_loss': 0.15120536718163569}\n",
      "Epoch 6/20\n"
     ]
    },
    {
     "name": "stderr",
     "output_type": "stream",
     "text": [
      "100%|██████████| 2339/2339 [04:05<00:00,  9.51it/s]\n"
     ]
    },
    {
     "name": "stdout",
     "output_type": "stream",
     "text": [
      "{'val_loss': 0.5322872005866713, 'val_accuracy': 0.8674505611972207, 'precision': 0.868117869777708, 'recall': 0.8674505611972207, 'f1-score': 0.8675449065270625, 'macro_f1-score': 0.8640566441825152, 'balanced_accuracy': 0.8564063073165089, 'mcc': 0.8366809441969626, 'train_loss': 0.11798575059726775}\n",
      "Early stopping.\n",
      "\n",
      "[Fold 2]\n",
      "Label distribution after resampling:\n",
      "  label 0: 5626\n",
      "  label 1: 1400\n",
      "  label 2: 8442\n",
      "  label 3: 10770\n",
      "  label 4: 1678\n",
      "  label 5: 5578\n",
      "  label 6: 1737\n",
      "  label 7: 2186\n",
      "model is microsoft/deberta-base\n"
     ]
    },
    {
     "name": "stderr",
     "output_type": "stream",
     "text": [
      "Some weights of DebertaForSequenceClassification were not initialized from the model checkpoint at microsoft/deberta-base and are newly initialized: ['classifier.bias', 'classifier.weight', 'pooler.dense.bias', 'pooler.dense.weight']\n",
      "You should probably TRAIN this model on a down-stream task to be able to use it for predictions and inference.\n"
     ]
    },
    {
     "name": "stdout",
     "output_type": "stream",
     "text": [
      "Epoch 1/20\n"
     ]
    },
    {
     "name": "stderr",
     "output_type": "stream",
     "text": [
      "100%|██████████| 2339/2339 [04:05<00:00,  9.52it/s]\n"
     ]
    },
    {
     "name": "stdout",
     "output_type": "stream",
     "text": [
      "{'val_loss': 0.48542677125869654, 'val_accuracy': 0.8350614644575094, 'precision': 0.8425249842097051, 'recall': 0.8350614644575094, 'f1-score': 0.8348701942693676, 'macro_f1-score': 0.8385070054290892, 'balanced_accuracy': 0.8464543354884322, 'mcc': 0.799345903731907, 'train_loss': 0.6071640835623422}\n",
      "Epoch 2/20\n"
     ]
    },
    {
     "name": "stderr",
     "output_type": "stream",
     "text": [
      "100%|██████████| 2339/2339 [04:05<00:00,  9.51it/s]\n"
     ]
    },
    {
     "name": "stdout",
     "output_type": "stream",
     "text": [
      "{'val_loss': 0.4539807077178843, 'val_accuracy': 0.8376269374665954, 'precision': 0.8442647056063984, 'recall': 0.8376269374665954, 'f1-score': 0.8375524645672342, 'macro_f1-score': 0.8361276364718564, 'balanced_accuracy': 0.8656006344700089, 'mcc': 0.8037977245792934, 'train_loss': 0.3821047486501653}\n",
      "Epoch 3/20\n"
     ]
    },
    {
     "name": "stderr",
     "output_type": "stream",
     "text": [
      "100%|██████████| 2339/2339 [04:05<00:00,  9.52it/s]\n"
     ]
    },
    {
     "name": "stdout",
     "output_type": "stream",
     "text": [
      "{'val_loss': 0.4525178386025831, 'val_accuracy': 0.8547300908605024, 'precision': 0.8546364175591935, 'recall': 0.8547300908605024, 'f1-score': 0.854522554332001, 'macro_f1-score': 0.8565323058329789, 'balanced_accuracy': 0.8531962766360801, 'mcc': 0.8211247151009715, 'train_loss': 0.28882199119141005}\n",
      "Epoch 4/20\n"
     ]
    },
    {
     "name": "stderr",
     "output_type": "stream",
     "text": [
      "100%|██████████| 2339/2339 [04:05<00:00,  9.51it/s]\n"
     ]
    },
    {
     "name": "stdout",
     "output_type": "stream",
     "text": [
      "{'val_loss': 0.5255699223385025, 'val_accuracy': 0.8426509887760556, 'precision': 0.8481626507183403, 'recall': 0.8426509887760556, 'f1-score': 0.8422058164359901, 'macro_f1-score': 0.844675716763404, 'balanced_accuracy': 0.8615826841445432, 'mcc': 0.8095180182027929, 'train_loss': 0.21605142889573833}\n",
      "Epoch 5/20\n"
     ]
    },
    {
     "name": "stderr",
     "output_type": "stream",
     "text": [
      "100%|██████████| 2339/2339 [04:05<00:00,  9.52it/s]\n"
     ]
    },
    {
     "name": "stdout",
     "output_type": "stream",
     "text": [
      "{'val_loss': 0.6526536141036667, 'val_accuracy': 0.84735435595938, 'precision': 0.8493160097524153, 'recall': 0.84735435595938, 'f1-score': 0.8468514099217114, 'macro_f1-score': 0.8471988612797416, 'balanced_accuracy': 0.8462385970756605, 'mcc': 0.8129842715301043, 'train_loss': 0.15239859158614177}\n",
      "Epoch 6/20\n"
     ]
    },
    {
     "name": "stderr",
     "output_type": "stream",
     "text": [
      "100%|██████████| 2339/2339 [04:05<00:00,  9.53it/s]\n"
     ]
    },
    {
     "name": "stdout",
     "output_type": "stream",
     "text": [
      "{'val_loss': 0.5955980939858266, 'val_accuracy': 0.8497060395510422, 'precision': 0.8504128308200357, 'recall': 0.8497060395510422, 'f1-score': 0.8490550571571067, 'macro_f1-score': 0.8482580192357871, 'balanced_accuracy': 0.8469825688687143, 'mcc': 0.815462538902339, 'train_loss': 0.11937507699811517}\n",
      "Early stopping.\n",
      "\n",
      "[Fold 3]\n",
      "Label distribution after resampling:\n",
      "  label 0: 5626\n",
      "  label 1: 1399\n",
      "  label 2: 8442\n",
      "  label 3: 10770\n",
      "  label 4: 1679\n",
      "  label 5: 5578\n",
      "  label 6: 1738\n",
      "  label 7: 2186\n",
      "model is microsoft/deberta-base\n"
     ]
    },
    {
     "name": "stderr",
     "output_type": "stream",
     "text": [
      "Some weights of DebertaForSequenceClassification were not initialized from the model checkpoint at microsoft/deberta-base and are newly initialized: ['classifier.bias', 'classifier.weight', 'pooler.dense.bias', 'pooler.dense.weight']\n",
      "You should probably TRAIN this model on a down-stream task to be able to use it for predictions and inference.\n"
     ]
    },
    {
     "name": "stdout",
     "output_type": "stream",
     "text": [
      "Epoch 1/20\n"
     ]
    },
    {
     "name": "stderr",
     "output_type": "stream",
     "text": [
      "100%|██████████| 2339/2339 [04:05<00:00,  9.53it/s]\n"
     ]
    },
    {
     "name": "stdout",
     "output_type": "stream",
     "text": [
      "{'val_loss': 0.44693376444216465, 'val_accuracy': 0.8483001924310456, 'precision': 0.8509893449155478, 'recall': 0.8483001924310456, 'f1-score': 0.8480744416945841, 'macro_f1-score': 0.845748494219712, 'balanced_accuracy': 0.828944816529345, 'mcc': 0.8130194045373066, 'train_loss': 0.6570477250066767}\n",
      "Epoch 2/20\n"
     ]
    },
    {
     "name": "stderr",
     "output_type": "stream",
     "text": [
      "100%|██████████| 2339/2339 [04:05<00:00,  9.53it/s]\n"
     ]
    },
    {
     "name": "stdout",
     "output_type": "stream",
     "text": [
      "{'val_loss': 0.4020049284156571, 'val_accuracy': 0.86337395766517, 'precision': 0.8655806961598611, 'recall': 0.86337395766517, 'f1-score': 0.8634090886005102, 'macro_f1-score': 0.8617883775061652, 'balanced_accuracy': 0.856925143623325, 'mcc': 0.8324119400378, 'train_loss': 0.38206618350172794}\n",
      "Epoch 3/20\n"
     ]
    },
    {
     "name": "stderr",
     "output_type": "stream",
     "text": [
      "100%|██████████| 2339/2339 [04:05<00:00,  9.55it/s]\n"
     ]
    },
    {
     "name": "stdout",
     "output_type": "stream",
     "text": [
      "{'val_loss': 0.3919714623170658, 'val_accuracy': 0.8695745135770794, 'precision': 0.8707530837417727, 'recall': 0.8695745135770794, 'f1-score': 0.8698880437585524, 'macro_f1-score': 0.8671806893139129, 'balanced_accuracy': 0.8662276438464337, 'mcc': 0.8394144151592516, 'train_loss': 0.3186041866588419}\n",
      "Epoch 4/20\n"
     ]
    },
    {
     "name": "stderr",
     "output_type": "stream",
     "text": [
      "100%|██████████| 2339/2339 [04:04<00:00,  9.56it/s]\n"
     ]
    },
    {
     "name": "stdout",
     "output_type": "stream",
     "text": [
      "{'val_loss': 0.48110801417571614, 'val_accuracy': 0.8572803078896729, 'precision': 0.8616588637015767, 'recall': 0.8572803078896729, 'f1-score': 0.8571308242611259, 'macro_f1-score': 0.8584012188730988, 'balanced_accuracy': 0.8706529206577189, 'mcc': 0.8267517232183437, 'train_loss': 0.19472697518953863}\n",
      "Epoch 5/20\n"
     ]
    },
    {
     "name": "stderr",
     "output_type": "stream",
     "text": [
      "100%|██████████| 2339/2339 [04:05<00:00,  9.52it/s]\n"
     ]
    },
    {
     "name": "stdout",
     "output_type": "stream",
     "text": [
      "{'val_loss': 0.5471836458386169, 'val_accuracy': 0.8599529612999787, 'precision': 0.862790606095333, 'recall': 0.8599529612999787, 'f1-score': 0.8600811969652317, 'macro_f1-score': 0.8563777968030228, 'balanced_accuracy': 0.8492237232466713, 'mcc': 0.8275956573998723, 'train_loss': 0.1515816510615169}\n",
      "Epoch 6/20\n"
     ]
    },
    {
     "name": "stderr",
     "output_type": "stream",
     "text": [
      "100%|██████████| 2339/2339 [04:05<00:00,  9.55it/s]\n"
     ]
    },
    {
     "name": "stdout",
     "output_type": "stream",
     "text": [
      "{'val_loss': 0.5953889544836333, 'val_accuracy': 0.8601667735728031, 'precision': 0.8619543153265303, 'recall': 0.8601667735728031, 'f1-score': 0.8596870111757512, 'macro_f1-score': 0.8587181793242928, 'balanced_accuracy': 0.8508216412417549, 'mcc': 0.8284089086259118, 'train_loss': 0.13051913805408885}\n",
      "Early stopping.\n",
      "\n",
      "[Fold 4]\n",
      "Label distribution after resampling:\n",
      "  label 0: 5625\n",
      "  label 1: 1399\n",
      "  label 2: 8441\n",
      "  label 3: 10771\n",
      "  label 4: 1679\n",
      "  label 5: 5579\n",
      "  label 6: 1738\n",
      "  label 7: 2186\n",
      "model is microsoft/deberta-base\n"
     ]
    },
    {
     "name": "stderr",
     "output_type": "stream",
     "text": [
      "Some weights of DebertaForSequenceClassification were not initialized from the model checkpoint at microsoft/deberta-base and are newly initialized: ['classifier.bias', 'classifier.weight', 'pooler.dense.bias', 'pooler.dense.weight']\n",
      "You should probably TRAIN this model on a down-stream task to be able to use it for predictions and inference.\n"
     ]
    },
    {
     "name": "stdout",
     "output_type": "stream",
     "text": [
      "Epoch 1/20\n"
     ]
    },
    {
     "name": "stderr",
     "output_type": "stream",
     "text": [
      "100%|██████████| 2339/2339 [04:06<00:00,  9.47it/s]\n"
     ]
    },
    {
     "name": "stdout",
     "output_type": "stream",
     "text": [
      "{'val_loss': 1.8360627541175256, 'val_accuracy': 0.28779131922172335, 'precision': 0.08282384341937987, 'recall': 0.28779131922172335, 'f1-score': 0.12862929293456404, 'macro_f1-score': 0.055869168188610326, 'balanced_accuracy': 0.125, 'mcc': 0.0, 'train_loss': 1.8449241983528675}\n",
      "Epoch 2/20\n"
     ]
    },
    {
     "name": "stderr",
     "output_type": "stream",
     "text": [
      "100%|██████████| 2339/2339 [04:05<00:00,  9.54it/s]\n"
     ]
    },
    {
     "name": "stdout",
     "output_type": "stream",
     "text": [
      "{'val_loss': 1.834686308233147, 'val_accuracy': 0.28779131922172335, 'precision': 0.08282384341937987, 'recall': 0.28779131922172335, 'f1-score': 0.12862929293456404, 'macro_f1-score': 0.055869168188610326, 'balanced_accuracy': 0.125, 'mcc': 0.0, 'train_loss': 1.8375990988607842}\n",
      "Epoch 3/20\n"
     ]
    },
    {
     "name": "stderr",
     "output_type": "stream",
     "text": [
      "100%|██████████| 2339/2339 [04:05<00:00,  9.54it/s]\n"
     ]
    },
    {
     "name": "stdout",
     "output_type": "stream",
     "text": [
      "{'val_loss': 1.8376427583205395, 'val_accuracy': 0.28779131922172335, 'precision': 0.08282384341937987, 'recall': 0.28779131922172335, 'f1-score': 0.12862929293456404, 'macro_f1-score': 0.055869168188610326, 'balanced_accuracy': 0.125, 'mcc': 0.0, 'train_loss': 1.8314657005911048}\n",
      "Epoch 4/20\n"
     ]
    },
    {
     "name": "stderr",
     "output_type": "stream",
     "text": [
      "100%|██████████| 2339/2339 [04:05<00:00,  9.52it/s]\n"
     ]
    },
    {
     "name": "stdout",
     "output_type": "stream",
     "text": [
      "{'val_loss': 1.8381220424277152, 'val_accuracy': 0.28779131922172335, 'precision': 0.08282384341937987, 'recall': 0.28779131922172335, 'f1-score': 0.12862929293456404, 'macro_f1-score': 0.055869168188610326, 'balanced_accuracy': 0.125, 'mcc': 0.0, 'train_loss': 1.8271955550863683}\n",
      "Early stopping.\n",
      "\n",
      "[Fold 5]\n",
      "Label distribution after resampling:\n",
      "  label 0: 5625\n",
      "  label 1: 1399\n",
      "  label 2: 8441\n",
      "  label 3: 10771\n",
      "  label 4: 1678\n",
      "  label 5: 5579\n",
      "  label 6: 1738\n",
      "  label 7: 2187\n",
      "model is microsoft/deberta-base\n"
     ]
    },
    {
     "name": "stderr",
     "output_type": "stream",
     "text": [
      "Some weights of DebertaForSequenceClassification were not initialized from the model checkpoint at microsoft/deberta-base and are newly initialized: ['classifier.bias', 'classifier.weight', 'pooler.dense.bias', 'pooler.dense.weight']\n",
      "You should probably TRAIN this model on a down-stream task to be able to use it for predictions and inference.\n"
     ]
    },
    {
     "name": "stdout",
     "output_type": "stream",
     "text": [
      "Epoch 1/20\n"
     ]
    },
    {
     "name": "stderr",
     "output_type": "stream",
     "text": [
      "100%|██████████| 2339/2339 [04:05<00:00,  9.53it/s]\n"
     ]
    },
    {
     "name": "stdout",
     "output_type": "stream",
     "text": [
      "{'val_loss': 0.4544045225645487, 'val_accuracy': 0.8442377592473808, 'precision': 0.8476251426976678, 'recall': 0.8442377592473808, 'f1-score': 0.8442176180005913, 'macro_f1-score': 0.8414812431714555, 'balanced_accuracy': 0.8225887773192648, 'mcc': 0.8075667787875093, 'train_loss': 0.6225465728418345}\n",
      "Epoch 2/20\n"
     ]
    },
    {
     "name": "stderr",
     "output_type": "stream",
     "text": [
      "100%|██████████| 2339/2339 [04:05<00:00,  9.52it/s]\n"
     ]
    },
    {
     "name": "stdout",
     "output_type": "stream",
     "text": [
      "{'val_loss': 0.4138262549462991, 'val_accuracy': 0.860594398118452, 'precision': 0.8617003637955044, 'recall': 0.860594398118452, 'f1-score': 0.8602168494659008, 'macro_f1-score': 0.8599435525138344, 'balanced_accuracy': 0.8474039092431498, 'mcc': 0.8283079879934022, 'train_loss': 0.39602400562134676}\n",
      "Epoch 3/20\n"
     ]
    },
    {
     "name": "stderr",
     "output_type": "stream",
     "text": [
      "100%|██████████| 2339/2339 [04:05<00:00,  9.53it/s]\n"
     ]
    },
    {
     "name": "stdout",
     "output_type": "stream",
     "text": [
      "{'val_loss': 1.2445984296309642, 'val_accuracy': 0.4989309386358777, 'precision': 0.7853513820503781, 'recall': 0.4989309386358777, 'f1-score': 0.5686244065899996, 'macro_f1-score': 0.5792137284175808, 'balanced_accuracy': 0.5843949953532434, 'mcc': 0.48755257597444934, 'train_loss': 0.5947417774193495}\n",
      "Epoch 4/20\n"
     ]
    },
    {
     "name": "stderr",
     "output_type": "stream",
     "text": [
      "100%|██████████| 2339/2339 [04:05<00:00,  9.52it/s]\n"
     ]
    },
    {
     "name": "stdout",
     "output_type": "stream",
     "text": [
      "{'val_loss': 0.5167424882547214, 'val_accuracy': 0.8332264271969211, 'precision': 0.8358704826442898, 'recall': 0.8332264271969211, 'f1-score': 0.8328293665249117, 'macro_f1-score': 0.8373152544030992, 'balanced_accuracy': 0.8420136465000329, 'mcc': 0.7962976191675771, 'train_loss': 0.34158269177394424}\n",
      "Epoch 5/20\n"
     ]
    },
    {
     "name": "stderr",
     "output_type": "stream",
     "text": [
      "100%|██████████| 2339/2339 [04:05<00:00,  9.52it/s]\n"
     ]
    },
    {
     "name": "stdout",
     "output_type": "stream",
     "text": [
      "{'val_loss': 0.5039735824156266, 'val_accuracy': 0.8491554415223433, 'precision': 0.8509099371791728, 'recall': 0.8491554415223433, 'f1-score': 0.849110635056711, 'macro_f1-score': 0.845626944657001, 'balanced_accuracy': 0.8648590482830528, 'mcc': 0.8156900277478323, 'train_loss': 0.32840493818436034}\n",
      "Early stopping.\n",
      "\n",
      " === microsoft/deberta-base + plain + none Final 5-fold Cross-Validation Results ===\n",
      "val_loss: 0.7035\n",
      "val_accuracy: 0.7488\n",
      "precision: 0.7089\n",
      "recall: 0.7488\n",
      "f1-score: 0.7169\n",
      "macro_f1-score: 0.7015\n",
      "balanced_accuracy: 0.7080\n",
      "mcc: 0.6660\n",
      "train_loss: 0.6248\n",
      "total_seconds: 7385.0000\n",
      "total_time: 2 hrs 3 mins 5 secs\n",
      "▶ Running: microsoft/deberta-base + cnn + none\n",
      "tokenizer is microsoft/deberta-base\n",
      "Using device: cuda\n",
      "CUDA Available: True\n",
      "CUDA Device: NVIDIA GeForce RTX 5070 Ti\n",
      "Current GPU Memory Allocated: 0.02 GB\n",
      "Current GPU Memory Cached: 5.14 GB\n",
      "\n",
      "[Fold 1]\n",
      "Label distribution after resampling:\n",
      "  label 0: 5626\n",
      "  label 1: 1399\n",
      "  label 2: 8442\n",
      "  label 3: 10770\n",
      "  label 4: 1678\n",
      "  label 5: 5578\n",
      "  label 6: 1737\n",
      "  label 7: 2187\n",
      "model is microsoft/deberta-base cnn\n",
      "Epoch 1/20\n"
     ]
    },
    {
     "name": "stderr",
     "output_type": "stream",
     "text": [
      "100%|██████████| 2339/2339 [04:13<00:00,  9.22it/s]\n"
     ]
    },
    {
     "name": "stdout",
     "output_type": "stream",
     "text": [
      "{'val_loss': 0.650186190684127, 'val_accuracy': 0.7863174772848744, 'precision': 0.7945031807348703, 'recall': 0.7863174772848744, 'f1-score': 0.7860783514708114, 'macro_f1-score': 0.784002599057335, 'balanced_accuracy': 0.7666153564134434, 'mcc': 0.7373612629208588, 'train_loss': 1.2105705019416284}\n",
      "Epoch 2/20\n"
     ]
    },
    {
     "name": "stderr",
     "output_type": "stream",
     "text": [
      "100%|██████████| 2339/2339 [04:13<00:00,  9.22it/s]\n"
     ]
    },
    {
     "name": "stdout",
     "output_type": "stream",
     "text": [
      "{'val_loss': 0.4927187432749913, 'val_accuracy': 0.8400855157669695, 'precision': 0.8415481143194165, 'recall': 0.8400855157669695, 'f1-score': 0.8390301346812755, 'macro_f1-score': 0.8340489058869981, 'balanced_accuracy': 0.8327071271834963, 'mcc': 0.8037295154072206, 'train_loss': 0.6408466332810666}\n",
      "Epoch 3/20\n"
     ]
    },
    {
     "name": "stderr",
     "output_type": "stream",
     "text": [
      "100%|██████████| 2339/2339 [04:13<00:00,  9.23it/s]\n"
     ]
    },
    {
     "name": "stdout",
     "output_type": "stream",
     "text": [
      "{'val_loss': 0.46598654565775494, 'val_accuracy': 0.8536611437733832, 'precision': 0.8548691991592463, 'recall': 0.8536611437733832, 'f1-score': 0.8530821593289932, 'macro_f1-score': 0.8455314851460763, 'balanced_accuracy': 0.8253815182627214, 'mcc': 0.8191872053626957, 'train_loss': 0.4535410418619122}\n",
      "Epoch 4/20\n"
     ]
    },
    {
     "name": "stderr",
     "output_type": "stream",
     "text": [
      "100%|██████████| 2339/2339 [04:13<00:00,  9.22it/s]\n"
     ]
    },
    {
     "name": "stdout",
     "output_type": "stream",
     "text": [
      "{'val_loss': 1.822518353584485, 'val_accuracy': 0.3186531266702298, 'precision': 0.30641795485159745, 'recall': 0.3186531266702298, 'f1-score': 0.22782073611243495, 'macro_f1-score': 0.11015365981700193, 'balanced_accuracy': 0.1628534903448804, 'mcc': 0.15843862371352221, 'train_loss': 1.161298226593791}\n",
      "Epoch 5/20\n"
     ]
    },
    {
     "name": "stderr",
     "output_type": "stream",
     "text": [
      "100%|██████████| 2339/2339 [04:14<00:00,  9.20it/s]\n"
     ]
    },
    {
     "name": "stdout",
     "output_type": "stream",
     "text": [
      "{'val_loss': 1.8303312468732524, 'val_accuracy': 0.26969535008017104, 'precision': 0.28348082207281916, 'recall': 0.26969535008017104, 'f1-score': 0.16396001378234726, 'macro_f1-score': 0.08153250224966103, 'balanced_accuracy': 0.14384944379231393, 'mcc': 0.13528443412044072, 'train_loss': 1.8027069897364225}\n",
      "Epoch 6/20\n"
     ]
    },
    {
     "name": "stderr",
     "output_type": "stream",
     "text": [
      "100%|██████████| 2339/2339 [04:13<00:00,  9.24it/s]\n"
     ]
    },
    {
     "name": "stdout",
     "output_type": "stream",
     "text": [
      "{'val_loss': 1.8430328234648092, 'val_accuracy': 0.28989845002672365, 'precision': 0.16884438175942995, 'recall': 0.28989845002672365, 'f1-score': 0.13374575294094712, 'macro_f1-score': 0.05862530737484189, 'balanced_accuracy': 0.1261640676283783, 'mcc': 0.024159527367055948, 'train_loss': 1.8234299435071224}\n",
      "Early stopping.\n",
      "\n",
      "[Fold 2]\n",
      "Label distribution after resampling:\n",
      "  label 0: 5626\n",
      "  label 1: 1400\n",
      "  label 2: 8442\n",
      "  label 3: 10770\n",
      "  label 4: 1678\n",
      "  label 5: 5578\n",
      "  label 6: 1737\n",
      "  label 7: 2186\n",
      "model is microsoft/deberta-base cnn\n",
      "Epoch 1/20\n"
     ]
    },
    {
     "name": "stderr",
     "output_type": "stream",
     "text": [
      "100%|██████████| 2339/2339 [04:13<00:00,  9.21it/s]\n"
     ]
    },
    {
     "name": "stdout",
     "output_type": "stream",
     "text": [
      "{'val_loss': 0.49932357686070294, 'val_accuracy': 0.8334580438268305, 'precision': 0.8394252914894579, 'recall': 0.8334580438268305, 'f1-score': 0.8331883442620315, 'macro_f1-score': 0.8365467398734168, 'balanced_accuracy': 0.8382467709766525, 'mcc': 0.7971174870399331, 'train_loss': 0.696425873437413}\n",
      "Epoch 2/20\n"
     ]
    },
    {
     "name": "stderr",
     "output_type": "stream",
     "text": [
      "100%|██████████| 2339/2339 [04:13<00:00,  9.21it/s]\n"
     ]
    },
    {
     "name": "stdout",
     "output_type": "stream",
     "text": [
      "{'val_loss': 0.4775686371498383, 'val_accuracy': 0.8382683057188669, 'precision': 0.8448991449715759, 'recall': 0.8382683057188669, 'f1-score': 0.8382366364149121, 'macro_f1-score': 0.8397603717367419, 'balanced_accuracy': 0.8340678674726782, 'mcc': 0.8028714954102208, 'train_loss': 0.4257103893977549}\n",
      "Epoch 3/20\n"
     ]
    },
    {
     "name": "stderr",
     "output_type": "stream",
     "text": [
      "100%|██████████| 2339/2339 [04:13<00:00,  9.21it/s]\n"
     ]
    },
    {
     "name": "stdout",
     "output_type": "stream",
     "text": [
      "{'val_loss': 0.5327518045368931, 'val_accuracy': 0.844681988241582, 'precision': 0.8479584004513556, 'recall': 0.844681988241582, 'f1-score': 0.844306634497687, 'macro_f1-score': 0.8432646807035244, 'balanced_accuracy': 0.8495771344803635, 'mcc': 0.8102147320374153, 'train_loss': 0.3361538663066927}\n",
      "Epoch 4/20\n"
     ]
    },
    {
     "name": "stderr",
     "output_type": "stream",
     "text": [
      "100%|██████████| 2339/2339 [04:13<00:00,  9.22it/s]\n"
     ]
    },
    {
     "name": "stdout",
     "output_type": "stream",
     "text": [
      "{'val_loss': 1.4494230930621808, 'val_accuracy': 0.5096739711384286, 'precision': 0.5070653081396096, 'recall': 0.5096739711384286, 'f1-score': 0.4768613267449798, 'macro_f1-score': 0.39453708671162563, 'balanced_accuracy': 0.39700979759392807, 'mcc': 0.3773077610997942, 'train_loss': 0.32781998858563743}\n",
      "Epoch 5/20\n"
     ]
    },
    {
     "name": "stderr",
     "output_type": "stream",
     "text": [
      "100%|██████████| 2339/2339 [04:14<00:00,  9.21it/s]\n"
     ]
    },
    {
     "name": "stdout",
     "output_type": "stream",
     "text": [
      "{'val_loss': 0.5494901425750432, 'val_accuracy': 0.8475681453768038, 'precision': 0.8486210015082309, 'recall': 0.8475681453768038, 'f1-score': 0.8474303737131013, 'macro_f1-score': 0.8443027258303273, 'balanced_accuracy': 0.8551627570256439, 'mcc': 0.8131768366436233, 'train_loss': 0.433955043535592}\n",
      "Epoch 6/20\n"
     ]
    },
    {
     "name": "stderr",
     "output_type": "stream",
     "text": [
      "100%|██████████| 2339/2339 [04:14<00:00,  9.20it/s]\n"
     ]
    },
    {
     "name": "stdout",
     "output_type": "stream",
     "text": [
      "{'val_loss': 0.5872838518741484, 'val_accuracy': 0.8484233030464992, 'precision': 0.8491993033994205, 'recall': 0.8484233030464992, 'f1-score': 0.8480126999185622, 'macro_f1-score': 0.8464149989507213, 'balanced_accuracy': 0.8533452481497537, 'mcc': 0.8138926478152704, 'train_loss': 0.1981113058195958}\n",
      "Epoch 7/20\n"
     ]
    },
    {
     "name": "stderr",
     "output_type": "stream",
     "text": [
      "100%|██████████| 2339/2339 [04:13<00:00,  9.23it/s]\n"
     ]
    },
    {
     "name": "stdout",
     "output_type": "stream",
     "text": [
      "{'val_loss': 0.6103424693620962, 'val_accuracy': 0.8505611972207375, 'precision': 0.8512865124314007, 'recall': 0.8505611972207375, 'f1-score': 0.8499949738326179, 'macro_f1-score': 0.8529599266372982, 'balanced_accuracy': 0.8494971308351396, 'mcc': 0.8167585582794581, 'train_loss': 0.1636002568434287}\n",
      "Epoch 8/20\n"
     ]
    },
    {
     "name": "stderr",
     "output_type": "stream",
     "text": [
      "100%|██████████| 2339/2339 [04:14<00:00,  9.21it/s]\n"
     ]
    },
    {
     "name": "stdout",
     "output_type": "stream",
     "text": [
      "{'val_loss': 0.6568702147057693, 'val_accuracy': 0.848637092463923, 'precision': 0.849862777904089, 'recall': 0.848637092463923, 'f1-score': 0.8485205775484602, 'macro_f1-score': 0.8478706727346366, 'balanced_accuracy': 0.83889526355581, 'mcc': 0.8132118733594617, 'train_loss': 0.13736115669357413}\n",
      "Epoch 9/20\n"
     ]
    },
    {
     "name": "stderr",
     "output_type": "stream",
     "text": [
      "100%|██████████| 2339/2339 [04:13<00:00,  9.21it/s]\n"
     ]
    },
    {
     "name": "stdout",
     "output_type": "stream",
     "text": [
      "{'val_loss': 0.6641156834273592, 'val_accuracy': 0.8493853554249065, 'precision': 0.8501934987990172, 'recall': 0.8493853554249065, 'f1-score': 0.8493278071525865, 'macro_f1-score': 0.849621684419831, 'balanced_accuracy': 0.8531234514003359, 'mcc': 0.8147979558185153, 'train_loss': 0.12629232990224287}\n",
      "Epoch 10/20\n"
     ]
    },
    {
     "name": "stderr",
     "output_type": "stream",
     "text": [
      "100%|██████████| 2339/2339 [04:14<00:00,  9.20it/s]\n"
     ]
    },
    {
     "name": "stdout",
     "output_type": "stream",
     "text": [
      "{'val_loss': 0.7566667523616168, 'val_accuracy': 0.850026723677178, 'precision': 0.8508749445310709, 'recall': 0.850026723677178, 'f1-score': 0.8500176151109734, 'macro_f1-score': 0.8523292821231273, 'balanced_accuracy': 0.8456901822182139, 'mcc': 0.8155179481679872, 'train_loss': 0.10228572153307035}\n",
      "Early stopping.\n",
      "\n",
      "[Fold 3]\n",
      "Label distribution after resampling:\n",
      "  label 0: 5626\n",
      "  label 1: 1399\n",
      "  label 2: 8442\n",
      "  label 3: 10770\n",
      "  label 4: 1679\n",
      "  label 5: 5578\n",
      "  label 6: 1738\n",
      "  label 7: 2186\n",
      "model is microsoft/deberta-base cnn\n",
      "Epoch 1/20\n"
     ]
    },
    {
     "name": "stderr",
     "output_type": "stream",
     "text": [
      "100%|██████████| 2339/2339 [04:13<00:00,  9.23it/s]\n"
     ]
    },
    {
     "name": "stdout",
     "output_type": "stream",
     "text": [
      "{'val_loss': 0.9676596802778733, 'val_accuracy': 0.6959589480436177, 'precision': 0.6452760754285439, 'recall': 0.6959589480436177, 'f1-score': 0.6674178561053136, 'macro_f1-score': 0.5627365592921386, 'balanced_accuracy': 0.5799002086782798, 'mcc': 0.6232876569581589, 'train_loss': 1.2579663225400646}\n",
      "Epoch 2/20\n"
     ]
    },
    {
     "name": "stderr",
     "output_type": "stream",
     "text": [
      "100%|██████████| 2339/2339 [04:13<00:00,  9.23it/s]\n"
     ]
    },
    {
     "name": "stdout",
     "output_type": "stream",
     "text": [
      "{'val_loss': 0.8380942127643487, 'val_accuracy': 0.7205473594184306, 'precision': 0.6760437340083141, 'recall': 0.7205473594184306, 'f1-score': 0.6929844980565826, 'macro_f1-score': 0.5555262462129975, 'balanced_accuracy': 0.5689608434317508, 'mcc': 0.6542158316603097, 'train_loss': 0.9702957656685233}\n",
      "Epoch 3/20\n"
     ]
    },
    {
     "name": "stderr",
     "output_type": "stream",
     "text": [
      "100%|██████████| 2339/2339 [04:13<00:00,  9.22it/s]\n"
     ]
    },
    {
     "name": "stdout",
     "output_type": "stream",
     "text": [
      "{'val_loss': 1.835684698055952, 'val_accuracy': 0.28800513149454776, 'precision': 0.30846619789817487, 'recall': 0.28800513149454776, 'f1-score': 0.12893858578285888, 'macro_f1-score': 0.05600834925144439, 'balanced_accuracy': 0.12505924170616114, 'mcc': 0.008617423355328974, 'train_loss': 1.2377713735718257}\n",
      "Epoch 4/20\n"
     ]
    },
    {
     "name": "stderr",
     "output_type": "stream",
     "text": [
      "100%|██████████| 2339/2339 [04:13<00:00,  9.23it/s]\n"
     ]
    },
    {
     "name": "stdout",
     "output_type": "stream",
     "text": [
      "{'val_loss': 1.8390105119118323, 'val_accuracy': 0.2878982253581356, 'precision': 0.08288538816436382, 'recall': 0.2878982253581356, 'f1-score': 0.12871418957241787, 'macro_f1-score': 0.055885282642981655, 'balanced_accuracy': 0.125, 'mcc': 0.0, 'train_loss': 1.850836283939422}\n",
      "Early stopping.\n",
      "\n",
      "[Fold 4]\n",
      "Label distribution after resampling:\n",
      "  label 0: 5625\n",
      "  label 1: 1399\n",
      "  label 2: 8441\n",
      "  label 3: 10771\n",
      "  label 4: 1679\n",
      "  label 5: 5579\n",
      "  label 6: 1738\n",
      "  label 7: 2186\n",
      "model is microsoft/deberta-base cnn\n",
      "Epoch 1/20\n"
     ]
    },
    {
     "name": "stderr",
     "output_type": "stream",
     "text": [
      "100%|██████████| 2339/2339 [04:14<00:00,  9.20it/s]\n"
     ]
    },
    {
     "name": "stdout",
     "output_type": "stream",
     "text": [
      "{'val_loss': 0.46043866665190103, 'val_accuracy': 0.8472311310669233, 'precision': 0.8495960925397771, 'recall': 0.8472311310669233, 'f1-score': 0.8476355665939767, 'macro_f1-score': 0.8434043816696691, 'balanced_accuracy': 0.8434046757597897, 'mcc': 0.8124162788232769, 'train_loss': 0.676007185851205}\n",
      "Epoch 2/20\n"
     ]
    },
    {
     "name": "stderr",
     "output_type": "stream",
     "text": [
      "100%|██████████| 2339/2339 [04:13<00:00,  9.22it/s]\n"
     ]
    },
    {
     "name": "stdout",
     "output_type": "stream",
     "text": [
      "{'val_loss': 0.45326962707898555, 'val_accuracy': 0.8580286508445585, 'precision': 0.8604900480415318, 'recall': 0.8580286508445585, 'f1-score': 0.8581246497204795, 'macro_f1-score': 0.8560876514145744, 'balanced_accuracy': 0.8426014276100664, 'mcc': 0.8248501100509547, 'train_loss': 0.4707154273011695}\n",
      "Epoch 3/20\n"
     ]
    },
    {
     "name": "stderr",
     "output_type": "stream",
     "text": [
      "100%|██████████| 2339/2339 [04:14<00:00,  9.21it/s]\n"
     ]
    },
    {
     "name": "stdout",
     "output_type": "stream",
     "text": [
      "{'val_loss': 0.43201144463104063, 'val_accuracy': 0.8579217447081462, 'precision': 0.8596761042294757, 'recall': 0.8579217447081462, 'f1-score': 0.8575860374005845, 'macro_f1-score': 0.8592126925822855, 'balanced_accuracy': 0.8532414870268672, 'mcc': 0.8250252060041288, 'train_loss': 0.37178722160775574}\n",
      "Epoch 4/20\n"
     ]
    },
    {
     "name": "stderr",
     "output_type": "stream",
     "text": [
      "100%|██████████| 2339/2339 [04:13<00:00,  9.21it/s]\n"
     ]
    },
    {
     "name": "stdout",
     "output_type": "stream",
     "text": [
      "{'val_loss': 0.46180024816630744, 'val_accuracy': 0.8559974342527261, 'precision': 0.8560246473585897, 'recall': 0.8559974342527261, 'f1-score': 0.8551539695323277, 'macro_f1-score': 0.8514210745577289, 'balanced_accuracy': 0.8432075165417685, 'mcc': 0.822645199480207, 'train_loss': 0.34824227936551544}\n",
      "Epoch 5/20\n"
     ]
    },
    {
     "name": "stderr",
     "output_type": "stream",
     "text": [
      "100%|██████████| 2339/2339 [04:13<00:00,  9.22it/s]\n"
     ]
    },
    {
     "name": "stdout",
     "output_type": "stream",
     "text": [
      "{'val_loss': 0.45089729546258844, 'val_accuracy': 0.8652982681205901, 'precision': 0.8659011323076692, 'recall': 0.8652982681205901, 'f1-score': 0.8652768491091178, 'macro_f1-score': 0.8677071507942042, 'balanced_accuracy': 0.8664520744043809, 'mcc': 0.8340660145125076, 'train_loss': 0.24567921823802452}\n",
      "Epoch 6/20\n"
     ]
    },
    {
     "name": "stderr",
     "output_type": "stream",
     "text": [
      "100%|██████████| 2339/2339 [04:13<00:00,  9.22it/s]\n"
     ]
    },
    {
     "name": "stdout",
     "output_type": "stream",
     "text": [
      "{'val_loss': 0.5208003386863086, 'val_accuracy': 0.8533247808424204, 'precision': 0.8538708530524394, 'recall': 0.8533247808424204, 'f1-score': 0.8529475773917645, 'macro_f1-score': 0.852390349918342, 'balanced_accuracy': 0.8543531630833799, 'mcc': 0.8196011290597561, 'train_loss': 0.23138045764744422}\n",
      "Epoch 7/20\n"
     ]
    },
    {
     "name": "stderr",
     "output_type": "stream",
     "text": [
      "100%|██████████| 2339/2339 [04:13<00:00,  9.23it/s]\n"
     ]
    },
    {
     "name": "stdout",
     "output_type": "stream",
     "text": [
      "{'val_loss': 0.5523006319032552, 'val_accuracy': 0.8594184306179175, 'precision': 0.861394399368541, 'recall': 0.8594184306179175, 'f1-score': 0.8597704388993491, 'macro_f1-score': 0.8619840575744009, 'balanced_accuracy': 0.8609068236233435, 'mcc': 0.8273119580598105, 'train_loss': 0.21494644704283195}\n",
      "Epoch 8/20\n"
     ]
    },
    {
     "name": "stderr",
     "output_type": "stream",
     "text": [
      "100%|██████████| 2339/2339 [04:13<00:00,  9.21it/s]\n"
     ]
    },
    {
     "name": "stdout",
     "output_type": "stream",
     "text": [
      "{'val_loss': 0.6580778795511374, 'val_accuracy': 0.8567457772076117, 'precision': 0.8585697916369, 'recall': 0.8567457772076117, 'f1-score': 0.856883240771966, 'macro_f1-score': 0.8562092407715569, 'balanced_accuracy': 0.859640890587228, 'mcc': 0.8243962918397233, 'train_loss': 0.174615084737947}\n",
      "Early stopping.\n",
      "\n",
      "[Fold 5]\n",
      "Label distribution after resampling:\n",
      "  label 0: 5625\n",
      "  label 1: 1399\n",
      "  label 2: 8441\n",
      "  label 3: 10771\n",
      "  label 4: 1678\n",
      "  label 5: 5579\n",
      "  label 6: 1738\n",
      "  label 7: 2187\n",
      "model is microsoft/deberta-base cnn\n",
      "Epoch 1/20\n"
     ]
    },
    {
     "name": "stderr",
     "output_type": "stream",
     "text": [
      "100%|██████████| 2339/2339 [04:14<00:00,  9.20it/s]\n"
     ]
    },
    {
     "name": "stdout",
     "output_type": "stream",
     "text": [
      "{'val_loss': 1.8556012966693975, 'val_accuracy': 0.28779131922172335, 'precision': 0.08282384341937987, 'recall': 0.28779131922172335, 'f1-score': 0.12862929293456404, 'macro_f1-score': 0.055869168188610326, 'balanced_accuracy': 0.125, 'mcc': 0.0, 'train_loss': 1.5714830360628183}\n",
      "Epoch 2/20\n"
     ]
    },
    {
     "name": "stderr",
     "output_type": "stream",
     "text": [
      "100%|██████████| 2339/2339 [04:13<00:00,  9.23it/s]\n"
     ]
    },
    {
     "name": "stdout",
     "output_type": "stream",
     "text": [
      "{'val_loss': 1.8551442786159678, 'val_accuracy': 0.28779131922172335, 'precision': 0.08282384341937987, 'recall': 0.28779131922172335, 'f1-score': 0.12862929293456404, 'macro_f1-score': 0.055869168188610326, 'balanced_accuracy': 0.125, 'mcc': 0.0, 'train_loss': 1.845273595582017}\n",
      "Epoch 3/20\n"
     ]
    },
    {
     "name": "stderr",
     "output_type": "stream",
     "text": [
      "100%|██████████| 2339/2339 [04:13<00:00,  9.21it/s]\n"
     ]
    },
    {
     "name": "stdout",
     "output_type": "stream",
     "text": [
      "{'val_loss': 1.861957580003983, 'val_accuracy': 0.28779131922172335, 'precision': 0.08282384341937987, 'recall': 0.28779131922172335, 'f1-score': 0.12862929293456404, 'macro_f1-score': 0.055869168188610326, 'balanced_accuracy': 0.125, 'mcc': 0.0, 'train_loss': 1.842598798541036}\n",
      "Epoch 4/20\n"
     ]
    },
    {
     "name": "stderr",
     "output_type": "stream",
     "text": [
      "100%|██████████| 2339/2339 [04:13<00:00,  9.22it/s]\n"
     ]
    },
    {
     "name": "stdout",
     "output_type": "stream",
     "text": [
      "{'val_loss': 1.8486753528953617, 'val_accuracy': 0.28779131922172335, 'precision': 0.08282384341937987, 'recall': 0.28779131922172335, 'f1-score': 0.12862929293456404, 'macro_f1-score': 0.055869168188610326, 'balanced_accuracy': 0.125, 'mcc': 0.0, 'train_loss': 1.8426331816294501}\n",
      "Early stopping.\n",
      "\n",
      " === microsoft/deberta-base + cnn + none Final 5-fold Cross-Validation Results ===\n",
      "val_loss: 0.8701\n",
      "val_accuracy: 0.7107\n",
      "precision: 0.6600\n",
      "recall: 0.7107\n",
      "f1-score: 0.6729\n",
      "macro_f1-score: 0.6370\n",
      "balanced_accuracy: 0.6492\n",
      "mcc: 0.6187\n",
      "train_loss: 0.7385\n",
      "total_seconds: 9013.0000\n",
      "total_time: 2 hrs 30 mins 13 secs\n",
      "▶ Running: microsoft/deberta-base + lstm + none\n",
      "tokenizer is microsoft/deberta-base\n",
      "Using device: cuda\n",
      "CUDA Available: True\n",
      "CUDA Device: NVIDIA GeForce RTX 5070 Ti\n",
      "Current GPU Memory Allocated: 0.02 GB\n",
      "Current GPU Memory Cached: 5.14 GB\n",
      "\n",
      "[Fold 1]\n",
      "Label distribution after resampling:\n",
      "  label 0: 5626\n",
      "  label 1: 1399\n",
      "  label 2: 8442\n",
      "  label 3: 10770\n",
      "  label 4: 1678\n",
      "  label 5: 5578\n",
      "  label 6: 1737\n",
      "  label 7: 2187\n",
      "model is microsoft/deberta-base lstm\n",
      "Epoch 1/20\n"
     ]
    },
    {
     "name": "stderr",
     "output_type": "stream",
     "text": [
      "100%|██████████| 2339/2339 [04:20<00:00,  8.98it/s]\n"
     ]
    },
    {
     "name": "stdout",
     "output_type": "stream",
     "text": [
      "{'val_loss': 1.8386734088261922, 'val_accuracy': 0.2878674505611972, 'precision': 0.08286766909260333, 'recall': 0.2878674505611972, 'f1-score': 0.1286897483999509, 'macro_f1-score': 0.055880644090305444, 'balanced_accuracy': 0.125, 'mcc': 0.0, 'train_loss': 1.8428761719536098}\n",
      "Epoch 2/20\n"
     ]
    },
    {
     "name": "stderr",
     "output_type": "stream",
     "text": [
      "100%|██████████| 2339/2339 [04:20<00:00,  8.98it/s]\n"
     ]
    },
    {
     "name": "stdout",
     "output_type": "stream",
     "text": [
      "{'val_loss': 1.8347264583294207, 'val_accuracy': 0.2878674505611972, 'precision': 0.08286766909260333, 'recall': 0.2878674505611972, 'f1-score': 0.1286897483999509, 'macro_f1-score': 0.055880644090305444, 'balanced_accuracy': 0.125, 'mcc': 0.0, 'train_loss': 1.833504406444636}\n",
      "Epoch 3/20\n"
     ]
    },
    {
     "name": "stderr",
     "output_type": "stream",
     "text": [
      "100%|██████████| 2339/2339 [04:20<00:00,  8.97it/s]\n"
     ]
    },
    {
     "name": "stdout",
     "output_type": "stream",
     "text": [
      "{'val_loss': 1.8443986299710395, 'val_accuracy': 0.2878674505611972, 'precision': 0.08286766909260333, 'recall': 0.2878674505611972, 'f1-score': 0.1286897483999509, 'macro_f1-score': 0.055880644090305444, 'balanced_accuracy': 0.125, 'mcc': 0.0, 'train_loss': 1.8271942883793642}\n",
      "Epoch 4/20\n"
     ]
    },
    {
     "name": "stderr",
     "output_type": "stream",
     "text": [
      "100%|██████████| 2339/2339 [04:20<00:00,  8.98it/s]\n"
     ]
    },
    {
     "name": "stdout",
     "output_type": "stream",
     "text": [
      "{'val_loss': 1.8507534499861236, 'val_accuracy': 0.2878674505611972, 'precision': 0.08286766909260333, 'recall': 0.2878674505611972, 'f1-score': 0.1286897483999509, 'macro_f1-score': 0.055880644090305444, 'balanced_accuracy': 0.125, 'mcc': 0.0, 'train_loss': 1.8242859213002578}\n",
      "Early stopping.\n",
      "\n",
      "[Fold 2]\n",
      "Label distribution after resampling:\n",
      "  label 0: 5626\n",
      "  label 1: 1400\n",
      "  label 2: 8442\n",
      "  label 3: 10770\n",
      "  label 4: 1678\n",
      "  label 5: 5578\n",
      "  label 6: 1737\n",
      "  label 7: 2186\n",
      "model is microsoft/deberta-base lstm\n",
      "Epoch 1/20\n"
     ]
    },
    {
     "name": "stderr",
     "output_type": "stream",
     "text": [
      "100%|██████████| 2339/2339 [04:20<00:00,  8.99it/s]\n"
     ]
    },
    {
     "name": "stdout",
     "output_type": "stream",
     "text": [
      "{'val_loss': 0.6606630784196731, 'val_accuracy': 0.79219668626403, 'precision': 0.7901725163309552, 'recall': 0.79219668626403, 'f1-score': 0.7892319744411761, 'macro_f1-score': 0.7677322205575324, 'balanced_accuracy': 0.7547543168832074, 'mcc': 0.743680749043925, 'train_loss': 1.0210132851413092}\n",
      "Epoch 2/20\n"
     ]
    },
    {
     "name": "stderr",
     "output_type": "stream",
     "text": [
      "100%|██████████| 2339/2339 [04:19<00:00,  9.00it/s]\n"
     ]
    },
    {
     "name": "stdout",
     "output_type": "stream",
     "text": [
      "{'val_loss': 0.5401670958496566, 'val_accuracy': 0.826402993051844, 'precision': 0.8343665198058039, 'recall': 0.826402993051844, 'f1-score': 0.8255510385780719, 'macro_f1-score': 0.8136622047672535, 'balanced_accuracy': 0.7885622276673883, 'mcc': 0.785232039801194, 'train_loss': 0.5477909565659964}\n",
      "Epoch 3/20\n"
     ]
    },
    {
     "name": "stderr",
     "output_type": "stream",
     "text": [
      "100%|██████████| 2339/2339 [04:20<00:00,  8.98it/s]\n"
     ]
    },
    {
     "name": "stdout",
     "output_type": "stream",
     "text": [
      "{'val_loss': 0.516717492747638, 'val_accuracy': 0.8397648316408338, 'precision': 0.8408992567161067, 'recall': 0.8397648316408338, 'f1-score': 0.8393140796545645, 'macro_f1-score': 0.8383520299064422, 'balanced_accuracy': 0.8377476834561721, 'mcc': 0.8034215647653354, 'train_loss': 0.4244054235914557}\n",
      "Epoch 4/20\n"
     ]
    },
    {
     "name": "stderr",
     "output_type": "stream",
     "text": [
      "100%|██████████| 2339/2339 [04:20<00:00,  8.99it/s]\n"
     ]
    },
    {
     "name": "stdout",
     "output_type": "stream",
     "text": [
      "{'val_loss': 0.5154681184830574, 'val_accuracy': 0.8441475146980224, 'precision': 0.846041034587884, 'recall': 0.8441475146980224, 'f1-score': 0.8439849472548465, 'macro_f1-score': 0.8458088469915088, 'balanced_accuracy': 0.8479025670852733, 'mcc': 0.8086499774867614, 'train_loss': 0.3548760579109778}\n",
      "Epoch 5/20\n"
     ]
    },
    {
     "name": "stderr",
     "output_type": "stream",
     "text": [
      "100%|██████████| 2339/2339 [04:20<00:00,  8.97it/s]\n"
     ]
    },
    {
     "name": "stdout",
     "output_type": "stream",
     "text": [
      "{'val_loss': 0.6191576999858913, 'val_accuracy': 0.8182789951897381, 'precision': 0.8205608876094305, 'recall': 0.8182789951897381, 'f1-score': 0.8188702176543617, 'macro_f1-score': 0.8215243967501009, 'balanced_accuracy': 0.8148216500948338, 'mcc': 0.7761850312108489, 'train_loss': 0.347540063038548}\n",
      "Epoch 6/20\n"
     ]
    },
    {
     "name": "stderr",
     "output_type": "stream",
     "text": [
      "100%|██████████| 2339/2339 [04:21<00:00,  8.96it/s]\n"
     ]
    },
    {
     "name": "stdout",
     "output_type": "stream",
     "text": [
      "{'val_loss': 0.5347243770861473, 'val_accuracy': 0.8393372528059861, 'precision': 0.8398196627895514, 'recall': 0.8393372528059861, 'f1-score': 0.8389652496116322, 'macro_f1-score': 0.8423104697614148, 'balanced_accuracy': 0.8418259707560376, 'mcc': 0.8026467461840291, 'train_loss': 0.42421750949680576}\n",
      "Epoch 7/20\n"
     ]
    },
    {
     "name": "stderr",
     "output_type": "stream",
     "text": [
      "100%|██████████| 2339/2339 [04:20<00:00,  8.97it/s]\n"
     ]
    },
    {
     "name": "stdout",
     "output_type": "stream",
     "text": [
      "{'val_loss': 0.5793385394108601, 'val_accuracy': 0.8384820951362908, 'precision': 0.8382426566443264, 'recall': 0.8384820951362908, 'f1-score': 0.8379924908291428, 'macro_f1-score': 0.839713382714929, 'balanced_accuracy': 0.833432726181593, 'mcc': 0.8010010575941889, 'train_loss': 0.3163450862555364}\n",
      "Early stopping.\n",
      "\n",
      "[Fold 3]\n",
      "Label distribution after resampling:\n",
      "  label 0: 5626\n",
      "  label 1: 1399\n",
      "  label 2: 8442\n",
      "  label 3: 10770\n",
      "  label 4: 1679\n",
      "  label 5: 5578\n",
      "  label 6: 1738\n",
      "  label 7: 2186\n",
      "model is microsoft/deberta-base lstm\n",
      "Epoch 1/20\n"
     ]
    },
    {
     "name": "stderr",
     "output_type": "stream",
     "text": [
      "100%|██████████| 2339/2339 [04:20<00:00,  8.98it/s]\n"
     ]
    },
    {
     "name": "stdout",
     "output_type": "stream",
     "text": [
      "{'val_loss': 1.7487766119150014, 'val_accuracy': 0.32168056446440024, 'precision': 0.24750884746472138, 'recall': 0.32168056446440024, 'f1-score': 0.22367716707710675, 'macro_f1-score': 0.10831273521411076, 'balanced_accuracy': 0.1663053281898128, 'mcc': 0.1891563912259124, 'train_loss': 1.7972303567762404}\n",
      "Epoch 2/20\n"
     ]
    },
    {
     "name": "stderr",
     "output_type": "stream",
     "text": [
      "100%|██████████| 2339/2339 [04:20<00:00,  8.99it/s]\n"
     ]
    },
    {
     "name": "stdout",
     "output_type": "stream",
     "text": [
      "{'val_loss': 1.7179948232112787, 'val_accuracy': 0.34060295060936496, 'precision': 0.25301592375872783, 'recall': 0.34060295060936496, 'f1-score': 0.24286897657345854, 'macro_f1-score': 0.11686969717500145, 'balanced_accuracy': 0.17436717186738304, 'mcc': 0.21234253109934373, 'train_loss': 1.7229170237101261}\n",
      "Epoch 3/20\n"
     ]
    },
    {
     "name": "stderr",
     "output_type": "stream",
     "text": [
      "100%|██████████| 2339/2339 [04:20<00:00,  8.99it/s]\n"
     ]
    },
    {
     "name": "stdout",
     "output_type": "stream",
     "text": [
      "{'val_loss': 1.8373436836095958, 'val_accuracy': 0.24096643147316657, 'precision': 0.2890227465704296, 'recall': 0.24096643147316657, 'f1-score': 0.11339063146246789, 'macro_f1-score': 0.05934395888353199, 'balanced_accuracy': 0.13167117047356408, 'mcc': 0.08211378675716673, 'train_loss': 1.7880143189644293}\n",
      "Epoch 4/20\n"
     ]
    },
    {
     "name": "stderr",
     "output_type": "stream",
     "text": [
      "100%|██████████| 2339/2339 [04:20<00:00,  8.99it/s]\n"
     ]
    },
    {
     "name": "stdout",
     "output_type": "stream",
     "text": [
      "{'val_loss': 1.8696837535271278, 'val_accuracy': 0.15127218302330553, 'precision': 0.28172568654242125, 'recall': 0.15127218302330553, 'f1-score': 0.04123549809553767, 'macro_f1-score': 0.0335300828536768, 'balanced_accuracy': 0.1254177497215002, 'mcc': 0.019566726212825614, 'train_loss': 1.8211668130422871}\n",
      "Epoch 5/20\n"
     ]
    },
    {
     "name": "stderr",
     "output_type": "stream",
     "text": [
      "100%|██████████| 2339/2339 [04:20<00:00,  8.99it/s]\n"
     ]
    },
    {
     "name": "stdout",
     "output_type": "stream",
     "text": [
      "{'val_loss': 1.8626146840234088, 'val_accuracy': 0.2878982253581356, 'precision': 0.08288538816436382, 'recall': 0.2878982253581356, 'f1-score': 0.12871418957241787, 'macro_f1-score': 0.055885282642981655, 'balanced_accuracy': 0.125, 'mcc': 0.0, 'train_loss': 1.8221513726559395}\n",
      "Early stopping.\n",
      "\n",
      "[Fold 4]\n",
      "Label distribution after resampling:\n",
      "  label 0: 5625\n",
      "  label 1: 1399\n",
      "  label 2: 8441\n",
      "  label 3: 10771\n",
      "  label 4: 1679\n",
      "  label 5: 5579\n",
      "  label 6: 1738\n",
      "  label 7: 2186\n",
      "model is microsoft/deberta-base lstm\n",
      "Epoch 1/20\n"
     ]
    },
    {
     "name": "stderr",
     "output_type": "stream",
     "text": [
      "100%|██████████| 2339/2339 [04:20<00:00,  8.97it/s]\n"
     ]
    },
    {
     "name": "stdout",
     "output_type": "stream",
     "text": [
      "{'val_loss': 1.8350260657123012, 'val_accuracy': 0.28779131922172335, 'precision': 0.08282384341937987, 'recall': 0.28779131922172335, 'f1-score': 0.12862929293456404, 'macro_f1-score': 0.055869168188610326, 'balanced_accuracy': 0.125, 'mcc': 0.0, 'train_loss': 1.847849552781218}\n",
      "Epoch 2/20\n"
     ]
    },
    {
     "name": "stderr",
     "output_type": "stream",
     "text": [
      "100%|██████████| 2339/2339 [04:20<00:00,  8.98it/s]\n"
     ]
    },
    {
     "name": "stdout",
     "output_type": "stream",
     "text": [
      "{'val_loss': 1.8379238882635394, 'val_accuracy': 0.28779131922172335, 'precision': 0.08282384341937987, 'recall': 0.28779131922172335, 'f1-score': 0.12862929293456404, 'macro_f1-score': 0.055869168188610326, 'balanced_accuracy': 0.125, 'mcc': 0.0, 'train_loss': 1.841788803934796}\n",
      "Epoch 3/20\n"
     ]
    },
    {
     "name": "stderr",
     "output_type": "stream",
     "text": [
      "100%|██████████| 2339/2339 [04:20<00:00,  8.97it/s]\n"
     ]
    },
    {
     "name": "stdout",
     "output_type": "stream",
     "text": [
      "{'val_loss': 1.8352733921800923, 'val_accuracy': 0.28779131922172335, 'precision': 0.08282384341937987, 'recall': 0.28779131922172335, 'f1-score': 0.12862929293456404, 'macro_f1-score': 0.055869168188610326, 'balanced_accuracy': 0.125, 'mcc': 0.0, 'train_loss': 1.8399082839157705}\n",
      "Epoch 4/20\n"
     ]
    },
    {
     "name": "stderr",
     "output_type": "stream",
     "text": [
      "100%|██████████| 2339/2339 [04:19<00:00,  9.00it/s]\n"
     ]
    },
    {
     "name": "stdout",
     "output_type": "stream",
     "text": [
      "{'val_loss': 1.835124645070133, 'val_accuracy': 0.28779131922172335, 'precision': 0.08282384341937987, 'recall': 0.28779131922172335, 'f1-score': 0.12862929293456404, 'macro_f1-score': 0.055869168188610326, 'balanced_accuracy': 0.125, 'mcc': 0.0, 'train_loss': 1.8395512072945213}\n",
      "Early stopping.\n",
      "\n",
      "[Fold 5]\n",
      "Label distribution after resampling:\n",
      "  label 0: 5625\n",
      "  label 1: 1399\n",
      "  label 2: 8441\n",
      "  label 3: 10771\n",
      "  label 4: 1678\n",
      "  label 5: 5579\n",
      "  label 6: 1738\n",
      "  label 7: 2187\n",
      "model is microsoft/deberta-base lstm\n",
      "Epoch 1/20\n"
     ]
    },
    {
     "name": "stderr",
     "output_type": "stream",
     "text": [
      "100%|██████████| 2339/2339 [04:20<00:00,  8.98it/s]\n"
     ]
    },
    {
     "name": "stdout",
     "output_type": "stream",
     "text": [
      "{'val_loss': 1.834873977685586, 'val_accuracy': 0.28779131922172335, 'precision': 0.08282384341937987, 'recall': 0.28779131922172335, 'f1-score': 0.12862929293456404, 'macro_f1-score': 0.055869168188610326, 'balanced_accuracy': 0.125, 'mcc': 0.0, 'train_loss': 1.7856748152767914}\n",
      "Epoch 2/20\n"
     ]
    },
    {
     "name": "stderr",
     "output_type": "stream",
     "text": [
      "100%|██████████| 2339/2339 [04:20<00:00,  9.00it/s]\n"
     ]
    },
    {
     "name": "stdout",
     "output_type": "stream",
     "text": [
      "{'val_loss': 1.847612497745416, 'val_accuracy': 0.22567885396621767, 'precision': 0.0509309451275054, 'recall': 0.22567885396621767, 'f1-score': 0.08310650863021116, 'macro_f1-score': 0.04603139991277802, 'balanced_accuracy': 0.125, 'mcc': 0.0, 'train_loss': 1.8354652012041768}\n",
      "Epoch 3/20\n"
     ]
    },
    {
     "name": "stderr",
     "output_type": "stream",
     "text": [
      "100%|██████████| 2339/2339 [04:20<00:00,  8.98it/s]\n"
     ]
    },
    {
     "name": "stdout",
     "output_type": "stream",
     "text": [
      "{'val_loss': 1.8522270110937264, 'val_accuracy': 0.22567885396621767, 'precision': 0.0509309451275054, 'recall': 0.22567885396621767, 'f1-score': 0.08310650863021116, 'macro_f1-score': 0.04603139991277802, 'balanced_accuracy': 0.125, 'mcc': 0.0, 'train_loss': 1.8282029043664887}\n",
      "Epoch 4/20\n"
     ]
    },
    {
     "name": "stderr",
     "output_type": "stream",
     "text": [
      "100%|██████████| 2339/2339 [04:20<00:00,  8.99it/s]\n"
     ]
    },
    {
     "name": "stdout",
     "output_type": "stream",
     "text": [
      "{'val_loss': 1.8500096345559145, 'val_accuracy': 0.22567885396621767, 'precision': 0.0509309451275054, 'recall': 0.22567885396621767, 'f1-score': 0.08310650863021116, 'macro_f1-score': 0.04603139991277802, 'balanced_accuracy': 0.125, 'mcc': 0.0, 'train_loss': 1.8255227006057635}\n",
      "Early stopping.\n",
      "\n",
      " === microsoft/deberta-base + lstm + none Final 5-fold Cross-Validation Results ===\n",
      "val_loss: 1.5484\n",
      "val_accuracy: 0.4096\n",
      "precision: 0.2695\n",
      "recall: 0.4096\n",
      "f1-score: 0.2946\n",
      "macro_f1-score: 0.2261\n",
      "balanced_accuracy: 0.2795\n",
      "mcc: 0.2042\n",
      "train_loss: 1.5108\n",
      "total_seconds: 6943.0000\n",
      "total_time: 1 hrs 55 mins 43 secs\n",
      "▶ Running: microsoft/deberta-base + bilstm + none\n",
      "tokenizer is microsoft/deberta-base\n",
      "Using device: cuda\n",
      "CUDA Available: True\n",
      "CUDA Device: NVIDIA GeForce RTX 5070 Ti\n",
      "Current GPU Memory Allocated: 0.02 GB\n",
      "Current GPU Memory Cached: 5.45 GB\n",
      "\n",
      "[Fold 1]\n",
      "Label distribution after resampling:\n",
      "  label 0: 5626\n",
      "  label 1: 1399\n",
      "  label 2: 8442\n",
      "  label 3: 10770\n",
      "  label 4: 1678\n",
      "  label 5: 5578\n",
      "  label 6: 1737\n",
      "  label 7: 2187\n",
      "model is microsoft/deberta-base bilstm\n",
      "Epoch 1/20\n"
     ]
    },
    {
     "name": "stderr",
     "output_type": "stream",
     "text": [
      "100%|██████████| 2339/2339 [04:35<00:00,  8.49it/s]\n"
     ]
    },
    {
     "name": "stdout",
     "output_type": "stream",
     "text": [
      "{'val_loss': 0.7499175768632155, 'val_accuracy': 0.7741314804917157, 'precision': 0.7643275373712299, 'recall': 0.7741314804917157, 'f1-score': 0.7572807715529815, 'macro_f1-score': 0.6932907325119384, 'balanced_accuracy': 0.6922122900030693, 'mcc': 0.7238052146036816, 'train_loss': 1.122925877424579}\n",
      "Epoch 2/20\n"
     ]
    },
    {
     "name": "stderr",
     "output_type": "stream",
     "text": [
      "100%|██████████| 2339/2339 [04:35<00:00,  8.49it/s]\n"
     ]
    },
    {
     "name": "stdout",
     "output_type": "stream",
     "text": [
      "{'val_loss': 0.5185521521693112, 'val_accuracy': 0.8390165686798503, 'precision': 0.8419809741023054, 'recall': 0.8390165686798503, 'f1-score': 0.8389813816531854, 'macro_f1-score': 0.8319860937582811, 'balanced_accuracy': 0.8330856638687272, 'mcc': 0.8027382991324958, 'train_loss': 0.591510889657533}\n",
      "Epoch 3/20\n"
     ]
    },
    {
     "name": "stderr",
     "output_type": "stream",
     "text": [
      "100%|██████████| 2339/2339 [04:35<00:00,  8.50it/s]\n"
     ]
    },
    {
     "name": "stdout",
     "output_type": "stream",
     "text": [
      "{'val_loss': 0.5167726314921155, 'val_accuracy': 0.8358097274184928, 'precision': 0.8395015585879129, 'recall': 0.8358097274184928, 'f1-score': 0.8344552461252899, 'macro_f1-score': 0.8276825010711615, 'balanced_accuracy': 0.8327253543945572, 'mcc': 0.8001811869642502, 'train_loss': 0.4541821382436527}\n",
      "Epoch 4/20\n"
     ]
    },
    {
     "name": "stderr",
     "output_type": "stream",
     "text": [
      "100%|██████████| 2339/2339 [04:34<00:00,  8.52it/s]\n"
     ]
    },
    {
     "name": "stdout",
     "output_type": "stream",
     "text": [
      "{'val_loss': 0.6981891714100145, 'val_accuracy': 0.8245857830037413, 'precision': 0.8353370590541377, 'recall': 0.8245857830037413, 'f1-score': 0.8259157100658677, 'macro_f1-score': 0.8305363516396631, 'balanced_accuracy': 0.8178412560326623, 'mcc': 0.7863629164486939, 'train_loss': 0.40204574403923615}\n",
      "Epoch 5/20\n"
     ]
    },
    {
     "name": "stderr",
     "output_type": "stream",
     "text": [
      "100%|██████████| 2339/2339 [04:35<00:00,  8.50it/s]\n"
     ]
    },
    {
     "name": "stdout",
     "output_type": "stream",
     "text": [
      "{'val_loss': 1.1268807322551042, 'val_accuracy': 0.573703901656868, 'precision': 0.6564251966527355, 'recall': 0.573703901656868, 'f1-score': 0.5404103479207786, 'macro_f1-score': 0.6370494849278976, 'balanced_accuracy': 0.6472176103981463, 'mcc': 0.5450712293970152, 'train_loss': 0.48921214005471475}\n",
      "Early stopping.\n",
      "\n",
      "[Fold 2]\n",
      "Label distribution after resampling:\n",
      "  label 0: 5626\n",
      "  label 1: 1400\n",
      "  label 2: 8442\n",
      "  label 3: 10770\n",
      "  label 4: 1678\n",
      "  label 5: 5578\n",
      "  label 6: 1737\n",
      "  label 7: 2186\n",
      "model is microsoft/deberta-base bilstm\n",
      "Epoch 1/20\n"
     ]
    },
    {
     "name": "stderr",
     "output_type": "stream",
     "text": [
      "100%|██████████| 2339/2339 [04:35<00:00,  8.48it/s]\n"
     ]
    },
    {
     "name": "stdout",
     "output_type": "stream",
     "text": [
      "{'val_loss': 0.7150740400338784, 'val_accuracy': 0.7779796900053447, 'precision': 0.7712180610325651, 'recall': 0.7779796900053447, 'f1-score': 0.7672476654925044, 'macro_f1-score': 0.6936381850951043, 'balanced_accuracy': 0.719216685584732, 'mcc': 0.7302346872201285, 'train_loss': 1.0648046660787684}\n",
      "Epoch 2/20\n"
     ]
    },
    {
     "name": "stderr",
     "output_type": "stream",
     "text": [
      "100%|██████████| 2339/2339 [04:34<00:00,  8.52it/s]\n"
     ]
    },
    {
     "name": "stdout",
     "output_type": "stream",
     "text": [
      "{'val_loss': 0.5447058762877416, 'val_accuracy': 0.830251202565473, 'precision': 0.8329376421158732, 'recall': 0.830251202565473, 'f1-score': 0.8290519851051392, 'macro_f1-score': 0.8168029600285704, 'balanced_accuracy': 0.821270803152766, 'mcc': 0.7920529300158277, 'train_loss': 0.5271007839658797}\n",
      "Epoch 3/20\n"
     ]
    },
    {
     "name": "stderr",
     "output_type": "stream",
     "text": [
      "100%|██████████| 2339/2339 [04:34<00:00,  8.51it/s]\n"
     ]
    },
    {
     "name": "stdout",
     "output_type": "stream",
     "text": [
      "{'val_loss': 0.49433427337779956, 'val_accuracy': 0.8416889363976483, 'precision': 0.8444200828691488, 'recall': 0.8416889363976483, 'f1-score': 0.8412275326636983, 'macro_f1-score': 0.8439402451379527, 'balanced_accuracy': 0.8509446454680474, 'mcc': 0.8068910210721959, 'train_loss': 0.3937145996497973}\n",
      "Epoch 4/20\n"
     ]
    },
    {
     "name": "stderr",
     "output_type": "stream",
     "text": [
      "100%|██████████| 2339/2339 [04:35<00:00,  8.50it/s]\n"
     ]
    },
    {
     "name": "stdout",
     "output_type": "stream",
     "text": [
      "{'val_loss': 0.5485152806099663, 'val_accuracy': 0.8322822020309995, 'precision': 0.8357925862912473, 'recall': 0.8322822020309995, 'f1-score': 0.8330369549714718, 'macro_f1-score': 0.8277259186036897, 'balanced_accuracy': 0.8310539896459797, 'mcc': 0.7939740594971357, 'train_loss': 0.4262093604940884}\n",
      "Epoch 5/20\n"
     ]
    },
    {
     "name": "stderr",
     "output_type": "stream",
     "text": [
      "100%|██████████| 2339/2339 [04:35<00:00,  8.50it/s]\n"
     ]
    },
    {
     "name": "stdout",
     "output_type": "stream",
     "text": [
      "{'val_loss': 0.5644145587220406, 'val_accuracy': 0.8404061998931053, 'precision': 0.8414906344553047, 'recall': 0.8404061998931053, 'f1-score': 0.8401796536315851, 'macro_f1-score': 0.8397313978431997, 'balanced_accuracy': 0.8468949603013061, 'mcc': 0.8039699525308882, 'train_loss': 0.3144381442097306}\n",
      "Epoch 6/20\n"
     ]
    },
    {
     "name": "stderr",
     "output_type": "stream",
     "text": [
      "100%|██████████| 2339/2339 [04:35<00:00,  8.50it/s]\n"
     ]
    },
    {
     "name": "stdout",
     "output_type": "stream",
     "text": [
      "{'val_loss': 0.5429434618777317, 'val_accuracy': 0.8475681453768038, 'precision': 0.8475178737746745, 'recall': 0.8475681453768038, 'f1-score': 0.8469005268689634, 'macro_f1-score': 0.8458341185470737, 'balanced_accuracy': 0.845045468903034, 'mcc': 0.8126328935600231, 'train_loss': 0.2669382741975002}\n",
      "Epoch 7/20\n"
     ]
    },
    {
     "name": "stderr",
     "output_type": "stream",
     "text": [
      "100%|██████████| 2339/2339 [04:35<00:00,  8.50it/s]\n"
     ]
    },
    {
     "name": "stdout",
     "output_type": "stream",
     "text": [
      "{'val_loss': 0.536216308732127, 'val_accuracy': 0.843292357028327, 'precision': 0.8441929294374884, 'recall': 0.843292357028327, 'f1-score': 0.8428568127573959, 'macro_f1-score': 0.8417711050585025, 'balanced_accuracy': 0.8432605337844454, 'mcc': 0.807368762494984, 'train_loss': 0.2452108938790071}\n",
      "Epoch 8/20\n"
     ]
    },
    {
     "name": "stderr",
     "output_type": "stream",
     "text": [
      "100%|██████████| 2339/2339 [04:35<00:00,  8.50it/s]\n"
     ]
    },
    {
     "name": "stdout",
     "output_type": "stream",
     "text": [
      "{'val_loss': 0.559133444689851, 'val_accuracy': 0.8467129877071085, 'precision': 0.8478175558884731, 'recall': 0.8467129877071085, 'f1-score': 0.846694334967462, 'macro_f1-score': 0.8493724001707625, 'balanced_accuracy': 0.8425990595646606, 'mcc': 0.8110786413635171, 'train_loss': 0.1972778198458955}\n",
      "Epoch 9/20\n"
     ]
    },
    {
     "name": "stderr",
     "output_type": "stream",
     "text": [
      "100%|██████████| 2339/2339 [04:35<00:00,  8.50it/s]\n"
     ]
    },
    {
     "name": "stdout",
     "output_type": "stream",
     "text": [
      "{'val_loss': 0.6065770094927687, 'val_accuracy': 0.844788882950294, 'precision': 0.8456199778492977, 'recall': 0.844788882950294, 'f1-score': 0.8449302538222084, 'macro_f1-score': 0.846701422017148, 'balanced_accuracy': 0.8431453560346935, 'mcc': 0.8090822107701199, 'train_loss': 0.21711860543042072}\n",
      "Epoch 10/20\n"
     ]
    },
    {
     "name": "stderr",
     "output_type": "stream",
     "text": [
      "100%|██████████| 2339/2339 [04:35<00:00,  8.50it/s]\n"
     ]
    },
    {
     "name": "stdout",
     "output_type": "stream",
     "text": [
      "{'val_loss': 0.6506372172703855, 'val_accuracy': 0.8320684126135757, 'precision': 0.8360946409457741, 'recall': 0.8320684126135757, 'f1-score': 0.831601391543144, 'macro_f1-score': 0.8346023828935685, 'balanced_accuracy': 0.8387055912932033, 'mcc': 0.7940533502188749, 'train_loss': 0.16172247013830082}\n",
      "Epoch 11/20\n"
     ]
    },
    {
     "name": "stderr",
     "output_type": "stream",
     "text": [
      "100%|██████████| 2339/2339 [04:34<00:00,  8.51it/s]\n"
     ]
    },
    {
     "name": "stdout",
     "output_type": "stream",
     "text": [
      "{'val_loss': 0.7015438980104514, 'val_accuracy': 0.8384820951362908, 'precision': 0.8389269508409368, 'recall': 0.8384820951362908, 'f1-score': 0.8380353027327581, 'macro_f1-score': 0.8386074790777236, 'balanced_accuracy': 0.8338027417401388, 'mcc': 0.801053414736531, 'train_loss': 0.13588994452526754}\n",
      "Early stopping.\n",
      "\n",
      "[Fold 3]\n",
      "Label distribution after resampling:\n",
      "  label 0: 5626\n",
      "  label 1: 1399\n",
      "  label 2: 8442\n",
      "  label 3: 10770\n",
      "  label 4: 1679\n",
      "  label 5: 5578\n",
      "  label 6: 1738\n",
      "  label 7: 2186\n",
      "model is microsoft/deberta-base bilstm\n",
      "Epoch 1/20\n"
     ]
    },
    {
     "name": "stderr",
     "output_type": "stream",
     "text": [
      "100%|██████████| 2339/2339 [04:35<00:00,  8.50it/s]\n"
     ]
    },
    {
     "name": "stdout",
     "output_type": "stream",
     "text": [
      "{'val_loss': 1.810190894257309, 'val_accuracy': 0.3055377378661535, 'precision': 0.22615015317466058, 'recall': 0.3055377378661535, 'f1-score': 0.21139746589310454, 'macro_f1-score': 0.10902586856235544, 'balanced_accuracy': 0.14539641491678, 'mcc': 0.06308994308303473, 'train_loss': 1.7856321834814552}\n",
      "Epoch 2/20\n"
     ]
    },
    {
     "name": "stderr",
     "output_type": "stream",
     "text": [
      "100%|██████████| 2339/2339 [04:35<00:00,  8.50it/s]\n"
     ]
    },
    {
     "name": "stdout",
     "output_type": "stream",
     "text": [
      "{'val_loss': 1.8353985770135863, 'val_accuracy': 0.2878982253581356, 'precision': 0.08288538816436382, 'recall': 0.2878982253581356, 'f1-score': 0.12871418957241787, 'macro_f1-score': 0.055885282642981655, 'balanced_accuracy': 0.125, 'mcc': 0.0, 'train_loss': 1.8341617209119336}\n",
      "Epoch 3/20\n"
     ]
    },
    {
     "name": "stderr",
     "output_type": "stream",
     "text": [
      "100%|██████████| 2339/2339 [04:35<00:00,  8.50it/s]\n"
     ]
    },
    {
     "name": "stdout",
     "output_type": "stream",
     "text": [
      "{'val_loss': 1.8347532610607962, 'val_accuracy': 0.2878982253581356, 'precision': 0.08288538816436382, 'recall': 0.2878982253581356, 'f1-score': 0.12871418957241787, 'macro_f1-score': 0.055885282642981655, 'balanced_accuracy': 0.125, 'mcc': 0.0, 'train_loss': 1.837902687461318}\n",
      "Epoch 4/20\n"
     ]
    },
    {
     "name": "stderr",
     "output_type": "stream",
     "text": [
      "100%|██████████| 2339/2339 [04:35<00:00,  8.50it/s]\n"
     ]
    },
    {
     "name": "stdout",
     "output_type": "stream",
     "text": [
      "{'val_loss': 1.8370697217109875, 'val_accuracy': 0.2878982253581356, 'precision': 0.08288538816436382, 'recall': 0.2878982253581356, 'f1-score': 0.12871418957241787, 'macro_f1-score': 0.055885282642981655, 'balanced_accuracy': 0.125, 'mcc': 0.0, 'train_loss': 1.8375166402815142}\n",
      "Early stopping.\n",
      "\n",
      "[Fold 4]\n",
      "Label distribution after resampling:\n",
      "  label 0: 5625\n",
      "  label 1: 1399\n",
      "  label 2: 8441\n",
      "  label 3: 10771\n",
      "  label 4: 1679\n",
      "  label 5: 5579\n",
      "  label 6: 1738\n",
      "  label 7: 2186\n",
      "model is microsoft/deberta-base bilstm\n",
      "Epoch 1/20\n"
     ]
    },
    {
     "name": "stderr",
     "output_type": "stream",
     "text": [
      "100%|██████████| 2339/2339 [04:34<00:00,  8.51it/s]\n"
     ]
    },
    {
     "name": "stdout",
     "output_type": "stream",
     "text": [
      "{'val_loss': 0.5526520668950855, 'val_accuracy': 0.8268120590121874, 'precision': 0.8373272846917823, 'recall': 0.8268120590121874, 'f1-score': 0.8283524569045725, 'macro_f1-score': 0.8248423129178784, 'balanced_accuracy': 0.8051960689932758, 'mcc': 0.7873296354694527, 'train_loss': 0.9065604820184955}\n",
      "Epoch 2/20\n"
     ]
    },
    {
     "name": "stderr",
     "output_type": "stream",
     "text": [
      "100%|██████████| 2339/2339 [04:34<00:00,  8.51it/s]\n"
     ]
    },
    {
     "name": "stdout",
     "output_type": "stream",
     "text": [
      "{'val_loss': 0.4732600258201615, 'val_accuracy': 0.8492623476587556, 'precision': 0.8529823953999507, 'recall': 0.8492623476587556, 'f1-score': 0.8489862954299316, 'macro_f1-score': 0.8439739364895935, 'balanced_accuracy': 0.8318383121337934, 'mcc': 0.8140305023465302, 'train_loss': 0.45170751057625735}\n",
      "Epoch 3/20\n"
     ]
    },
    {
     "name": "stderr",
     "output_type": "stream",
     "text": [
      "100%|██████████| 2339/2339 [04:34<00:00,  8.51it/s]\n"
     ]
    },
    {
     "name": "stdout",
     "output_type": "stream",
     "text": [
      "{'val_loss': 0.4628506798010606, 'val_accuracy': 0.8518280949326491, 'precision': 0.8545228809771558, 'recall': 0.8518280949326491, 'f1-score': 0.8520625906142406, 'macro_f1-score': 0.8482160800553069, 'balanced_accuracy': 0.8634733384569896, 'mcc': 0.8185774639988006, 'train_loss': 0.3736416202264688}\n",
      "Epoch 4/20\n"
     ]
    },
    {
     "name": "stderr",
     "output_type": "stream",
     "text": [
      "100%|██████████| 2339/2339 [04:34<00:00,  8.51it/s]\n"
     ]
    },
    {
     "name": "stdout",
     "output_type": "stream",
     "text": [
      "{'val_loss': 1.7341333203845555, 'val_accuracy': 0.34936925379516787, 'precision': 0.6622690179048273, 'recall': 0.34936925379516787, 'f1-score': 0.24123073758586638, 'macro_f1-score': 0.18436344183168454, 'balanced_accuracy': 0.1987236760487777, 'mcc': 0.20947469190790197, 'train_loss': 0.47706608547995927}\n",
      "Epoch 5/20\n"
     ]
    },
    {
     "name": "stderr",
     "output_type": "stream",
     "text": [
      "100%|██████████| 2339/2339 [04:35<00:00,  8.51it/s]\n"
     ]
    },
    {
     "name": "stdout",
     "output_type": "stream",
     "text": [
      "{'val_loss': 1.2295236302746666, 'val_accuracy': 0.5679923027581784, 'precision': 0.553171401605815, 'recall': 0.5679923027581784, 'f1-score': 0.5170097292683556, 'macro_f1-score': 0.4123238746690361, 'balanced_accuracy': 0.41654458029870955, 'mcc': 0.4602773347431749, 'train_loss': 1.2902206260712548}\n",
      "Epoch 6/20\n"
     ]
    },
    {
     "name": "stderr",
     "output_type": "stream",
     "text": [
      "100%|██████████| 2339/2339 [04:35<00:00,  8.49it/s]\n"
     ]
    },
    {
     "name": "stdout",
     "output_type": "stream",
     "text": [
      "{'val_loss': 0.5999645370990038, 'val_accuracy': 0.8238186871926448, 'precision': 0.8253763214221898, 'recall': 0.8238186871926448, 'f1-score': 0.823046375021093, 'macro_f1-score': 0.8176215565934652, 'balanced_accuracy': 0.8070095450024574, 'mcc': 0.7824459093426996, 'train_loss': 0.6870609620070804}\n",
      "Early stopping.\n",
      "\n",
      "[Fold 5]\n",
      "Label distribution after resampling:\n",
      "  label 0: 5625\n",
      "  label 1: 1399\n",
      "  label 2: 8441\n",
      "  label 3: 10771\n",
      "  label 4: 1678\n",
      "  label 5: 5579\n",
      "  label 6: 1738\n",
      "  label 7: 2187\n",
      "model is microsoft/deberta-base bilstm\n",
      "Epoch 1/20\n"
     ]
    },
    {
     "name": "stderr",
     "output_type": "stream",
     "text": [
      "100%|██████████| 2339/2339 [04:33<00:00,  8.55it/s]\n"
     ]
    },
    {
     "name": "stdout",
     "output_type": "stream",
     "text": [
      "{'val_loss': 0.6059092790652544, 'val_accuracy': 0.8166559760530254, 'precision': 0.822479954189951, 'recall': 0.8166559760530254, 'f1-score': 0.8158479537872014, 'macro_f1-score': 0.8041189408017794, 'balanced_accuracy': 0.7850049850881322, 'mcc': 0.774072852656893, 'train_loss': 1.0579124650368072}\n",
      "Epoch 2/20\n"
     ]
    },
    {
     "name": "stderr",
     "output_type": "stream",
     "text": [
      "100%|██████████| 2339/2339 [04:17<00:00,  9.10it/s]\n"
     ]
    },
    {
     "name": "stdout",
     "output_type": "stream",
     "text": [
      "{'val_loss': 0.6208570908277463, 'val_accuracy': 0.8026512721830233, 'precision': 0.8317376254983297, 'recall': 0.8026512721830233, 'f1-score': 0.8102554536424722, 'macro_f1-score': 0.7885792496092682, 'balanced_accuracy': 0.8112970635883037, 'mcc': 0.7622449275622397, 'train_loss': 0.5621387953621142}\n",
      "Epoch 3/20\n"
     ]
    },
    {
     "name": "stderr",
     "output_type": "stream",
     "text": [
      "100%|██████████| 2339/2339 [04:16<00:00,  9.10it/s]\n"
     ]
    },
    {
     "name": "stdout",
     "output_type": "stream",
     "text": [
      "{'val_loss': 0.4971571010943407, 'val_accuracy': 0.8445584776566175, 'precision': 0.8476753080698943, 'recall': 0.8445584776566175, 'f1-score': 0.8448790953651769, 'macro_f1-score': 0.8443362945816546, 'balanced_accuracy': 0.8294254635819258, 'mcc': 0.8084572443159473, 'train_loss': 0.4862140492217989}\n",
      "Epoch 4/20\n"
     ]
    },
    {
     "name": "stderr",
     "output_type": "stream",
     "text": [
      "100%|██████████| 2339/2339 [04:17<00:00,  9.09it/s]\n"
     ]
    },
    {
     "name": "stdout",
     "output_type": "stream",
     "text": [
      "{'val_loss': 0.5018245885896887, 'val_accuracy': 0.8446653837930297, 'precision': 0.8483140217261587, 'recall': 0.8446653837930297, 'f1-score': 0.8452564452684106, 'macro_f1-score': 0.8427398575632832, 'balanced_accuracy': 0.8432186179488876, 'mcc': 0.8094900111420037, 'train_loss': 0.36325554914657837}\n",
      "Epoch 5/20\n"
     ]
    },
    {
     "name": "stderr",
     "output_type": "stream",
     "text": [
      "100%|██████████| 2339/2339 [04:17<00:00,  9.09it/s]\n"
     ]
    },
    {
     "name": "stdout",
     "output_type": "stream",
     "text": [
      "{'val_loss': 0.502627766237427, 'val_accuracy': 0.8500106906136412, 'precision': 0.8515665251810444, 'recall': 0.8500106906136412, 'f1-score': 0.8497792842092796, 'macro_f1-score': 0.8515451769283939, 'balanced_accuracy': 0.8580286095461309, 'mcc': 0.816795252848746, 'train_loss': 0.3106724216362645}\n",
      "Epoch 6/20\n"
     ]
    },
    {
     "name": "stderr",
     "output_type": "stream",
     "text": [
      "100%|██████████| 2339/2339 [04:17<00:00,  9.10it/s]\n"
     ]
    },
    {
     "name": "stdout",
     "output_type": "stream",
     "text": [
      "{'val_loss': 0.9713496053066009, 'val_accuracy': 0.6196279666452854, 'precision': 0.7043763871370945, 'recall': 0.6196279666452854, 'f1-score': 0.5851940538556663, 'macro_f1-score': 0.6988549988585455, 'balanced_accuracy': 0.7188877547932386, 'mcc': 0.577205193685031, 'train_loss': 0.681987979463666}\n",
      "Epoch 7/20\n"
     ]
    },
    {
     "name": "stderr",
     "output_type": "stream",
     "text": [
      "100%|██████████| 2339/2339 [04:17<00:00,  9.10it/s]\n"
     ]
    },
    {
     "name": "stdout",
     "output_type": "stream",
     "text": [
      "{'val_loss': 0.622593509663756, 'val_accuracy': 0.8258499037844772, 'precision': 0.8282380233931467, 'recall': 0.8258499037844772, 'f1-score': 0.8254825132648073, 'macro_f1-score': 0.8240158863464229, 'balanced_accuracy': 0.8196089271951844, 'mcc': 0.7861312468539869, 'train_loss': 0.5850234250982012}\n",
      "Epoch 8/20\n"
     ]
    },
    {
     "name": "stderr",
     "output_type": "stream",
     "text": [
      "100%|██████████| 2339/2339 [04:17<00:00,  9.09it/s]\n"
     ]
    },
    {
     "name": "stdout",
     "output_type": "stream",
     "text": [
      "{'val_loss': 0.6247515434255967, 'val_accuracy': 0.8176181312807355, 'precision': 0.8192684881292756, 'recall': 0.8176181312807355, 'f1-score': 0.8176370799715509, 'macro_f1-score': 0.8212478636574545, 'balanced_accuracy': 0.8038053033204449, 'mcc': 0.7745733666775358, 'train_loss': 0.3815349356676267}\n",
      "Early stopping.\n",
      "\n",
      " === microsoft/deberta-base + bilstm + none Final 5-fold Cross-Validation Results ===\n",
      "val_loss: 0.7707\n",
      "val_accuracy: 0.7386\n",
      "precision: 0.7244\n",
      "recall: 0.7386\n",
      "f1-score: 0.7198\n",
      "macro_f1-score: 0.6980\n",
      "balanced_accuracy: 0.7085\n",
      "mcc: 0.6625\n",
      "train_loss: 0.6517\n",
      "total_seconds: 10209.0000\n",
      "total_time: 2 hrs 50 mins 9 secs\n"
     ]
    }
   ],
   "source": [
    "model_list = [\"bert-base-uncased\", \"roberta-base\", \"microsoft/deberta-base\"]\n",
    "hybrid_list = [None, \"cnn\", \"lstm\", \"bilstm\"]\n",
    "resample_list = [\"none\"]\n",
    "\n",
    "all_experiment_result = {}\n",
    "\n",
    "for model_name in model_list:\n",
    "    for hybrid_type in hybrid_list:\n",
    "        for resample_method in resample_list:\n",
    "            results = run_kfold_experiment(\n",
    "                X=messages, y=labels, model_name=model_name, hybrid_type=hybrid_type, resample_method=resample_method,\n",
    "                kfold=KFOLD_SPLIT, seed=SEED, epochs=EPOCHS, patience=PATIENCE, max_length=MAX_LENGTH, \n",
    "                batch_size=BATCH_SIZE, lr=LR, weight_decay=WEIGHT_DECAY, upper_cap=UPPER_CAP, lower_cap=LOWER_CAP\n",
    "            )\n",
    "\n",
    "            key = f\"{model_name} {hybrid_type if hybrid_type else 'None'} {resample_method}\"\n",
    "            all_experiment_result[key] = results"
   ]
  },
  {
   "cell_type": "code",
   "execution_count": 5,
   "id": "d799ebb4-be3b-4b29-9238-6c2a2f8256ae",
   "metadata": {},
   "outputs": [
    {
     "data": {
      "text/plain": [
       "{'bert-base-uncased None none': {'val_loss': 0.48563716252051836,\n",
       "  'val_accuracy': 0.8638928346833448,\n",
       "  'precision': 0.8650650296410415,\n",
       "  'recall': 0.8638928346833448,\n",
       "  'f1-score': 0.863889101678059,\n",
       "  'macro_f1-score': 0.8652322455306221,\n",
       "  'balanced_accuracy': 0.8582900726057842,\n",
       "  'mcc': 0.8323254154283838,\n",
       "  'train_loss': 0.19785278332708367,\n",
       "  'total_seconds': 8113,\n",
       "  'total_time': '2 hrs 15 mins 13 secs'},\n",
       " 'bert-base-uncased cnn none': {'val_loss': 0.44505702393408064,\n",
       "  'val_accuracy': 0.865304059679108,\n",
       "  'precision': 0.8665049698091934,\n",
       "  'recall': 0.865304059679108,\n",
       "  'f1-score': 0.8651702462457557,\n",
       "  'macro_f1-score': 0.8656407493048492,\n",
       "  'balanced_accuracy': 0.862226111057969,\n",
       "  'mcc': 0.8344625710440582,\n",
       "  'train_loss': 0.26683596902899803,\n",
       "  'total_seconds': 7121,\n",
       "  'total_time': '1 hrs 58 mins 41 secs'},\n",
       " 'bert-base-uncased lstm none': {'val_loss': 0.476964710879251,\n",
       "  'val_accuracy': 0.8629096433449016,\n",
       "  'precision': 0.8646029949444699,\n",
       "  'recall': 0.8629096433449016,\n",
       "  'f1-score': 0.8628640210420879,\n",
       "  'macro_f1-score': 0.8622273415251408,\n",
       "  'balanced_accuracy': 0.8573718288539866,\n",
       "  'mcc': 0.8314689180945155,\n",
       "  'train_loss': 0.22823742341221118,\n",
       "  'total_seconds': 8484,\n",
       "  'total_time': '2 hrs 21 mins 24 secs'},\n",
       " 'bert-base-uncased bilstm none': {'val_loss': 0.5264921764973313,\n",
       "  'val_accuracy': 0.863080688592081,\n",
       "  'precision': 0.8643296985816397,\n",
       "  'recall': 0.863080688592081,\n",
       "  'f1-score': 0.8628236051194109,\n",
       "  'macro_f1-score': 0.8609677283157777,\n",
       "  'balanced_accuracy': 0.8557255553488744,\n",
       "  'mcc': 0.8317494566209331,\n",
       "  'train_loss': 0.1684054404205984,\n",
       "  'total_seconds': 10221,\n",
       "  'total_time': '2 hrs 50 mins 21 secs'},\n",
       " 'roberta-base None none': {'val_loss': 0.5406751854088492,\n",
       "  'val_accuracy': 0.8603439989203109,\n",
       "  'precision': 0.8618499271241056,\n",
       "  'recall': 0.8603439989203109,\n",
       "  'f1-score': 0.8601213363896246,\n",
       "  'macro_f1-score': 0.8596951519931126,\n",
       "  'balanced_accuracy': 0.861715759366037,\n",
       "  'mcc': 0.8288819192665086,\n",
       "  'train_loss': 0.17160472209496058,\n",
       "  'total_seconds': 11227,\n",
       "  'total_time': '3 hrs 7 mins 7 secs'},\n",
       " 'roberta-base cnn none': {'val_loss': 0.42622931845900086,\n",
       "  'val_accuracy': 0.8640211266181195,\n",
       "  'precision': 0.8651673818560883,\n",
       "  'recall': 0.8640211266181195,\n",
       "  'f1-score': 0.8639439996060065,\n",
       "  'macro_f1-score': 0.8627507550782232,\n",
       "  'balanced_accuracy': 0.8588611613569649,\n",
       "  'mcc': 0.8327572995153742,\n",
       "  'train_loss': 0.28903517864370587,\n",
       "  'total_seconds': 8970,\n",
       "  'total_time': '2 hrs 29 mins 30 secs'},\n",
       " 'roberta-base lstm none': {'val_loss': 0.49240507930310234,\n",
       "  'val_accuracy': 0.8612205446739087,\n",
       "  'precision': 0.8630576061413976,\n",
       "  'recall': 0.8612205446739087,\n",
       "  'f1-score': 0.8613564868344129,\n",
       "  'macro_f1-score': 0.8593650782117885,\n",
       "  'balanced_accuracy': 0.8583666579393723,\n",
       "  'mcc': 0.8295503930149384,\n",
       "  'train_loss': 0.21217879638491519,\n",
       "  'total_seconds': 11805,\n",
       "  'total_time': '3 hrs 16 mins 45 secs'},\n",
       " 'roberta-base bilstm none': {'val_loss': 0.5024036820062922,\n",
       "  'val_accuracy': 0.8608998514056129,\n",
       "  'precision': 0.8628845626240894,\n",
       "  'recall': 0.8608998514056129,\n",
       "  'f1-score': 0.8608689335542282,\n",
       "  'macro_f1-score': 0.8600883233819708,\n",
       "  'balanced_accuracy': 0.8517949446352988,\n",
       "  'mcc': 0.8288064728782869,\n",
       "  'train_loss': 0.23503039929181235,\n",
       "  'total_seconds': 12728,\n",
       "  'total_time': '3 hrs 32 mins 8 secs'},\n",
       " 'microsoft/deberta-base None none': {'val_loss': 0.7034693909124432,\n",
       "  'val_accuracy': 0.7487978184977214,\n",
       "  'precision': 0.7088624534189824,\n",
       "  'recall': 0.7487978184977214,\n",
       "  'f1-score': 0.7168577531327877,\n",
       "  'macro_f1-score': 0.7014738773959971,\n",
       "  'balanced_accuracy': 0.7080091800000086,\n",
       "  'mcc': 0.6659939071736802,\n",
       "  'train_loss': 0.6248131080101355,\n",
       "  'total_seconds': 7385,\n",
       "  'total_time': '2 hrs 3 mins 5 secs'},\n",
       " 'microsoft/deberta-base cnn none': {'val_loss': 0.8700974574859421,\n",
       "  'val_accuracy': 0.7106541752760103,\n",
       "  'precision': 0.660031352549248,\n",
       "  'recall': 0.7106541752760103,\n",
       "  'f1-score': 0.6728802262621214,\n",
       "  'macro_f1-score': 0.6369608580116656,\n",
       "  'balanced_accuracy': 0.6492461864361043,\n",
       "  'mcc': 0.6186598870225641,\n",
       "  'train_loss': 0.7384539751092497,\n",
       "  'total_seconds': 9013,\n",
       "  'total_time': '2 hrs 30 mins 13 secs'},\n",
       " 'microsoft/deberta-base lstm none': {'val_loss': 1.5484072787836831,\n",
       "  'val_accuracy': 0.40964011086240626,\n",
       "  'precision': 0.26951446285559505,\n",
       "  'recall': 0.40964011086240626,\n",
       "  'f1-score': 0.2945604516194768,\n",
       "  'macro_f1-score': 0.22605950492680726,\n",
       "  'balanced_accuracy': 0.2794539477905313,\n",
       "  'mcc': 0.20419850171722104,\n",
       "  'train_loss': 1.5108387243265446,\n",
       "  'total_seconds': 6943,\n",
       "  'total_time': '1 hrs 55 mins 43 secs'},\n",
       " 'microsoft/deberta-base bilstm none': {'val_loss': 0.7706709874309918,\n",
       "  'val_accuracy': 0.7386212159598805,\n",
       "  'precision': 0.7244076178647278,\n",
       "  'recall': 0.7386212159598805,\n",
       "  'f1-score': 0.7197830114674544,\n",
       "  'macro_f1-score': 0.69802912389502,\n",
       "  'balanced_accuracy': 0.7085166172706576,\n",
       "  'mcc': 0.6624559200853188,\n",
       "  'train_loss': 0.6517469869695234,\n",
       "  'total_seconds': 10209,\n",
       "  'total_time': '2 hrs 50 mins 9 secs'}}"
      ]
     },
     "execution_count": 5,
     "metadata": {},
     "output_type": "execute_result"
    }
   ],
   "source": [
    "all_experiment_result"
   ]
  }
 ],
 "metadata": {
  "kernelspec": {
   "display_name": "Python 3 (ipykernel)",
   "language": "python",
   "name": "python3"
  },
  "language_info": {
   "codemirror_mode": {
    "name": "ipython",
    "version": 3
   },
   "file_extension": ".py",
   "mimetype": "text/x-python",
   "name": "python",
   "nbconvert_exporter": "python",
   "pygments_lexer": "ipython3",
   "version": "3.11.9"
  }
 },
 "nbformat": 4,
 "nbformat_minor": 5
}
