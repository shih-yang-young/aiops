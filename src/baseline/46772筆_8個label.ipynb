{
 "cells": [
  {
   "cell_type": "code",
   "execution_count": 1,
   "id": "f22f4841-9a9d-4a63-b896-560594d666d8",
   "metadata": {},
   "outputs": [
    {
     "data": {
      "text/html": [
       "<div>\n",
       "<style scoped>\n",
       "    .dataframe tbody tr th:only-of-type {\n",
       "        vertical-align: middle;\n",
       "    }\n",
       "\n",
       "    .dataframe tbody tr th {\n",
       "        vertical-align: top;\n",
       "    }\n",
       "\n",
       "    .dataframe thead th {\n",
       "        text-align: right;\n",
       "    }\n",
       "</style>\n",
       "<table border=\"1\" class=\"dataframe\">\n",
       "  <thead>\n",
       "    <tr style=\"text-align: right;\">\n",
       "      <th></th>\n",
       "      <th>Inbound Message</th>\n",
       "      <th>Label</th>\n",
       "    </tr>\n",
       "  </thead>\n",
       "  <tbody>\n",
       "    <tr>\n",
       "      <th>0</th>\n",
       "      <td>connection icon icon dear please setup icon pe...</td>\n",
       "      <td>3</td>\n",
       "    </tr>\n",
       "    <tr>\n",
       "      <th>1</th>\n",
       "      <td>work experience user work experience user work...</td>\n",
       "      <td>0</td>\n",
       "    </tr>\n",
       "    <tr>\n",
       "      <th>2</th>\n",
       "      <td>requesting meeting requesting meeting please h...</td>\n",
       "      <td>3</td>\n",
       "    </tr>\n",
       "    <tr>\n",
       "      <th>3</th>\n",
       "      <td>reset passwords external accounts expire days ...</td>\n",
       "      <td>0</td>\n",
       "    </tr>\n",
       "    <tr>\n",
       "      <th>4</th>\n",
       "      <td>mail verification warning got attached please ...</td>\n",
       "      <td>5</td>\n",
       "    </tr>\n",
       "    <tr>\n",
       "      <th>...</th>\n",
       "      <td>...</td>\n",
       "      <td>...</td>\n",
       "    </tr>\n",
       "    <tr>\n",
       "      <th>46767</th>\n",
       "      <td>git space project issues adding users sent git...</td>\n",
       "      <td>0</td>\n",
       "    </tr>\n",
       "    <tr>\n",
       "      <th>46768</th>\n",
       "      <td>error sent error guys help error appearing wan...</td>\n",
       "      <td>5</td>\n",
       "    </tr>\n",
       "    <tr>\n",
       "      <th>46769</th>\n",
       "      <td>connection issues sent connection issues hello...</td>\n",
       "      <td>3</td>\n",
       "    </tr>\n",
       "    <tr>\n",
       "      <th>46770</th>\n",
       "      <td>error cube reports sent error hello guys recei...</td>\n",
       "      <td>2</td>\n",
       "    </tr>\n",
       "    <tr>\n",
       "      <th>46771</th>\n",
       "      <td>running extensions hello please advised runnin...</td>\n",
       "      <td>3</td>\n",
       "    </tr>\n",
       "  </tbody>\n",
       "</table>\n",
       "<p>46772 rows × 2 columns</p>\n",
       "</div>"
      ],
      "text/plain": [
       "                                         Inbound Message  Label\n",
       "0      connection icon icon dear please setup icon pe...      3\n",
       "1      work experience user work experience user work...      0\n",
       "2      requesting meeting requesting meeting please h...      3\n",
       "3      reset passwords external accounts expire days ...      0\n",
       "4      mail verification warning got attached please ...      5\n",
       "...                                                  ...    ...\n",
       "46767  git space project issues adding users sent git...      0\n",
       "46768  error sent error guys help error appearing wan...      5\n",
       "46769  connection issues sent connection issues hello...      3\n",
       "46770  error cube reports sent error hello guys recei...      2\n",
       "46771  running extensions hello please advised runnin...      3\n",
       "\n",
       "[46772 rows x 2 columns]"
      ]
     },
     "execution_count": 1,
     "metadata": {},
     "output_type": "execute_result"
    }
   ],
   "source": [
    "import pandas as pd\n",
    "data_path = \"../../data/46772_8_label.csv\"\n",
    "df = pd.read_csv(data_path)\n",
    "# df_label_0 = df[df[\"Label\"] == 0]\n",
    "# df_label_0_to_drop = df_label_0.sample(n=3000, random_state=42)\n",
    "# df = df.drop(df_label_0_to_drop.index)\n",
    "df"
   ]
  },
  {
   "cell_type": "code",
   "execution_count": 2,
   "id": "bf737873-4f1c-4588-913d-8f06b2777b20",
   "metadata": {},
   "outputs": [
    {
     "name": "stderr",
     "output_type": "stream",
     "text": [
      "c:\\Users\\user\\AppData\\Local\\Programs\\Python\\Python310\\lib\\site-packages\\tqdm\\auto.py:21: TqdmWarning: IProgress not found. Please update jupyter and ipywidgets. See https://ipywidgets.readthedocs.io/en/stable/user_install.html\n",
      "  from .autonotebook import tqdm as notebook_tqdm\n"
     ]
    }
   ],
   "source": [
    "import sys\n",
    "import os\n",
    "sys.path.append(os.path.abspath('../ml_lib'))\n",
    "\n",
    "from config import *\n",
    "from experiment import run_kfold_experiment"
   ]
  },
  {
   "cell_type": "code",
   "execution_count": 3,
   "id": "a12b2613-aa9d-41c0-8f62-72210eaf8d7f",
   "metadata": {},
   "outputs": [],
   "source": [
    "messages, labels = df['Inbound Message'].tolist(), df['Label'].tolist()"
   ]
  },
  {
   "cell_type": "code",
   "execution_count": null,
   "id": "38d4729f-f867-4cea-89f9-31f67e5ecced",
   "metadata": {},
   "outputs": [
    {
     "name": "stdout",
     "output_type": "stream",
     "text": [
      "▶ Running: bert-base-uncased + plain + none\n",
      "tokenizer is bert-base-uncased\n",
      "Using device: cuda\n",
      "CUDA Available: True\n",
      "CUDA Device: NVIDIA GeForce RTX 5070 Ti\n",
      "Current GPU Memory Allocated: 0.00 GB\n",
      "Current GPU Memory Cached: 0.00 GB\n",
      "\n",
      "[Fold 1]\n",
      "Label distribution after resampling:\n",
      "  label 0: 5626\n",
      "  label 1: 1399\n",
      "  label 2: 8442\n",
      "  label 3: 10770\n",
      "  label 4: 1678\n",
      "  label 5: 5578\n",
      "  label 6: 1737\n",
      "  label 7: 2187\n",
      "model is bert-base-uncased\n"
     ]
    },
    {
     "name": "stderr",
     "output_type": "stream",
     "text": [
      "Some weights of BertForSequenceClassification were not initialized from the model checkpoint at bert-base-uncased and are newly initialized: ['classifier.bias', 'classifier.weight']\n",
      "You should probably TRAIN this model on a down-stream task to be able to use it for predictions and inference.\n"
     ]
    },
    {
     "name": "stdout",
     "output_type": "stream",
     "text": [
      "Epoch 1/20\n"
     ]
    },
    {
     "name": "stderr",
     "output_type": "stream",
     "text": [
      "100%|██████████| 2339/2339 [03:16<00:00, 11.92it/s]\n"
     ]
    },
    {
     "name": "stdout",
     "output_type": "stream",
     "text": [
      "{'val_loss': 0.47299108909936544, 'val_accuracy': 0.843506146445751, 'precision': 0.8495665072964155, 'recall': 0.843506146445751, 'f1-score': 0.842904775652171, 'macro_f1-score': 0.8390748697168011, 'balanced_accuracy': 0.8384682668173996, 'mcc': 0.8083802106664761, 'train_loss': 0.5887160302036692}\n",
      "Epoch 2/20\n"
     ]
    },
    {
     "name": "stderr",
     "output_type": "stream",
     "text": [
      "100%|██████████| 2339/2339 [03:16<00:00, 11.90it/s]\n"
     ]
    },
    {
     "name": "stdout",
     "output_type": "stream",
     "text": [
      "{'val_loss': 0.38321690879698495, 'val_accuracy': 0.8700160342063068, 'precision': 0.8724327696669117, 'recall': 0.8700160342063068, 'f1-score': 0.8703961567444072, 'macro_f1-score': 0.8661002247251863, 'balanced_accuracy': 0.8607783010571677, 'mcc': 0.8400979281521426, 'train_loss': 0.357421653581741}\n",
      "Epoch 3/20\n"
     ]
    },
    {
     "name": "stderr",
     "output_type": "stream",
     "text": [
      "100%|██████████| 2339/2339 [03:16<00:00, 11.90it/s]\n"
     ]
    },
    {
     "name": "stdout",
     "output_type": "stream",
     "text": [
      "{'val_loss': 0.40016903223422096, 'val_accuracy': 0.8701229289150187, 'precision': 0.8717808070614453, 'recall': 0.8701229289150187, 'f1-score': 0.8705484191039295, 'macro_f1-score': 0.8675318249307915, 'balanced_accuracy': 0.8676747480891767, 'mcc': 0.840302569077425, 'train_loss': 0.2504340291688997}\n",
      "Epoch 4/20\n"
     ]
    },
    {
     "name": "stderr",
     "output_type": "stream",
     "text": [
      "100%|██████████| 2339/2339 [03:16<00:00, 11.90it/s]\n"
     ]
    },
    {
     "name": "stdout",
     "output_type": "stream",
     "text": [
      "{'val_loss': 0.446046265718551, 'val_accuracy': 0.8719401389631213, 'precision': 0.8727001809768312, 'recall': 0.8719401389631213, 'f1-score': 0.871661379319185, 'macro_f1-score': 0.8711229212896254, 'balanced_accuracy': 0.8659273520818366, 'mcc': 0.8427517275189746, 'train_loss': 0.16882801271527895}\n",
      "Epoch 5/20\n"
     ]
    },
    {
     "name": "stderr",
     "output_type": "stream",
     "text": [
      "100%|██████████| 2339/2339 [03:16<00:00, 11.90it/s]\n"
     ]
    },
    {
     "name": "stdout",
     "output_type": "stream",
     "text": [
      "{'val_loss': 0.5601224526635602, 'val_accuracy': 0.8659540352752538, 'precision': 0.8659502904869167, 'recall': 0.8659540352752538, 'f1-score': 0.8654989907100015, 'macro_f1-score': 0.863371058728075, 'balanced_accuracy': 0.8607890813473681, 'mcc': 0.8349991234329617, 'train_loss': 0.11564894150077537}\n",
      "Epoch 6/20\n"
     ]
    },
    {
     "name": "stderr",
     "output_type": "stream",
     "text": [
      "100%|██████████| 2339/2339 [03:16<00:00, 11.90it/s]\n"
     ]
    },
    {
     "name": "stdout",
     "output_type": "stream",
     "text": [
      "{'val_loss': 0.5646465036154398, 'val_accuracy': 0.8616782469267771, 'precision': 0.8620294866333641, 'recall': 0.8616782469267771, 'f1-score': 0.8616737549067692, 'macro_f1-score': 0.8574006127206548, 'balanced_accuracy': 0.8628962139494966, 'mcc': 0.8302414669008955, 'train_loss': 0.09325147533343126}\n",
      "Epoch 7/20\n"
     ]
    },
    {
     "name": "stderr",
     "output_type": "stream",
     "text": [
      "100%|██████████| 2339/2339 [03:16<00:00, 11.90it/s]\n"
     ]
    },
    {
     "name": "stdout",
     "output_type": "stream",
     "text": [
      "{'val_loss': 0.5192075168101006, 'val_accuracy': 0.8692677712453234, 'precision': 0.8714343651200064, 'recall': 0.8692677712453234, 'f1-score': 0.8694318581322819, 'macro_f1-score': 0.8696733966714587, 'balanced_accuracy': 0.8626532118192687, 'mcc': 0.8390786271496836, 'train_loss': 0.07562047352600451}\n",
      "Early stopping.\n",
      "\n",
      "[Fold 2]\n",
      "Label distribution after resampling:\n",
      "  label 0: 5626\n",
      "  label 1: 1400\n",
      "  label 2: 8442\n",
      "  label 3: 10770\n",
      "  label 4: 1678\n",
      "  label 5: 5578\n",
      "  label 6: 1737\n",
      "  label 7: 2186\n",
      "model is bert-base-uncased\n"
     ]
    },
    {
     "name": "stderr",
     "output_type": "stream",
     "text": [
      "Some weights of BertForSequenceClassification were not initialized from the model checkpoint at bert-base-uncased and are newly initialized: ['classifier.bias', 'classifier.weight']\n",
      "You should probably TRAIN this model on a down-stream task to be able to use it for predictions and inference.\n"
     ]
    },
    {
     "name": "stdout",
     "output_type": "stream",
     "text": [
      "Epoch 1/20\n"
     ]
    },
    {
     "name": "stderr",
     "output_type": "stream",
     "text": [
      "100%|██████████| 2339/2339 [03:16<00:00, 11.90it/s]\n"
     ]
    },
    {
     "name": "stdout",
     "output_type": "stream",
     "text": [
      "{'val_loss': 0.4710746966429755, 'val_accuracy': 0.838161411010155, 'precision': 0.8426882404394717, 'recall': 0.838161411010155, 'f1-score': 0.8373476295853929, 'macro_f1-score': 0.8349763480002343, 'balanced_accuracy': 0.8350133110804258, 'mcc': 0.8019712051005231, 'train_loss': 0.5983929429402357}\n",
      "Epoch 2/20\n"
     ]
    },
    {
     "name": "stderr",
     "output_type": "stream",
     "text": [
      "100%|██████████| 2339/2339 [03:16<00:00, 11.90it/s]\n"
     ]
    },
    {
     "name": "stdout",
     "output_type": "stream",
     "text": [
      "{'val_loss': 0.4145672845200468, 'val_accuracy': 0.8546231961517905, 'precision': 0.8564690369888911, 'recall': 0.8546231961517905, 'f1-score': 0.853954751317186, 'macro_f1-score': 0.8544732160016593, 'balanced_accuracy': 0.8618329420489523, 'mcc': 0.8227852736308368, 'train_loss': 0.3567060226739383}\n",
      "Epoch 3/20\n"
     ]
    },
    {
     "name": "stderr",
     "output_type": "stream",
     "text": [
      "100%|██████████| 2339/2339 [03:16<00:00, 11.89it/s]\n"
     ]
    },
    {
     "name": "stdout",
     "output_type": "stream",
     "text": [
      "{'val_loss': 0.4336142102988739, 'val_accuracy': 0.8590058792089792, 'precision': 0.8598956922011239, 'recall': 0.8590058792089792, 'f1-score': 0.8589333939729694, 'macro_f1-score': 0.8635585314222204, 'balanced_accuracy': 0.8597832992281229, 'mcc': 0.82677323919658, 'train_loss': 0.25440140534331684}\n",
      "Epoch 4/20\n"
     ]
    },
    {
     "name": "stderr",
     "output_type": "stream",
     "text": [
      "100%|██████████| 2339/2339 [03:16<00:00, 11.90it/s]\n"
     ]
    },
    {
     "name": "stdout",
     "output_type": "stream",
     "text": [
      "{'val_loss': 0.486910818114431, 'val_accuracy': 0.8541956173169428, 'precision': 0.8556141784818277, 'recall': 0.8541956173169428, 'f1-score': 0.8538999459991553, 'macro_f1-score': 0.8529346961961184, 'balanced_accuracy': 0.8463480143057074, 'mcc': 0.8206386222477682, 'train_loss': 0.1707888132871247}\n",
      "Epoch 5/20\n"
     ]
    },
    {
     "name": "stderr",
     "output_type": "stream",
     "text": [
      "100%|██████████| 2339/2339 [03:16<00:00, 11.90it/s]\n"
     ]
    },
    {
     "name": "stdout",
     "output_type": "stream",
     "text": [
      "{'val_loss': 0.5602344624718062, 'val_accuracy': 0.8563335114911812, 'precision': 0.8573555161109444, 'recall': 0.8563335114911812, 'f1-score': 0.8564441109271054, 'macro_f1-score': 0.8565030683075753, 'balanced_accuracy': 0.846640651029799, 'mcc': 0.8227199233569683, 'train_loss': 0.12402680267117179}\n",
      "Epoch 6/20\n"
     ]
    },
    {
     "name": "stderr",
     "output_type": "stream",
     "text": [
      "100%|██████████| 2339/2339 [03:16<00:00, 11.90it/s]\n"
     ]
    },
    {
     "name": "stdout",
     "output_type": "stream",
     "text": [
      "{'val_loss': 0.598031220296159, 'val_accuracy': 0.8506680919294495, 'precision': 0.8527468144765028, 'recall': 0.8506680919294495, 'f1-score': 0.8504168103208167, 'macro_f1-score': 0.849350295347696, 'balanced_accuracy': 0.8549363187279124, 'mcc': 0.8165144699985015, 'train_loss': 0.0971448539713236}\n",
      "Early stopping.\n",
      "\n",
      "[Fold 3]\n",
      "Label distribution after resampling:\n",
      "  label 0: 5626\n",
      "  label 1: 1399\n",
      "  label 2: 8442\n",
      "  label 3: 10770\n",
      "  label 4: 1679\n",
      "  label 5: 5578\n",
      "  label 6: 1738\n",
      "  label 7: 2186\n",
      "model is bert-base-uncased\n"
     ]
    },
    {
     "name": "stderr",
     "output_type": "stream",
     "text": [
      "Some weights of BertForSequenceClassification were not initialized from the model checkpoint at bert-base-uncased and are newly initialized: ['classifier.bias', 'classifier.weight']\n",
      "You should probably TRAIN this model on a down-stream task to be able to use it for predictions and inference.\n"
     ]
    },
    {
     "name": "stdout",
     "output_type": "stream",
     "text": [
      "Epoch 1/20\n"
     ]
    },
    {
     "name": "stderr",
     "output_type": "stream",
     "text": [
      "100%|██████████| 2339/2339 [03:16<00:00, 11.90it/s]\n"
     ]
    },
    {
     "name": "stdout",
     "output_type": "stream",
     "text": [
      "{'val_loss': 0.4145508732296463, 'val_accuracy': 0.8609151165276887, 'precision': 0.8640912167265576, 'recall': 0.8609151165276887, 'f1-score': 0.8607196251130471, 'macro_f1-score': 0.8532002031855378, 'balanced_accuracy': 0.8530721879415829, 'mcc': 0.8292449147732024, 'train_loss': 0.5858611472320511}\n",
      "Epoch 2/20\n"
     ]
    },
    {
     "name": "stderr",
     "output_type": "stream",
     "text": [
      "100%|██████████| 2339/2339 [03:16<00:00, 11.89it/s]\n"
     ]
    },
    {
     "name": "stdout",
     "output_type": "stream",
     "text": [
      "{'val_loss': 0.39672775260594667, 'val_accuracy': 0.8678640153944837, 'precision': 0.867907260485236, 'recall': 0.8678640153944837, 'f1-score': 0.8674814033117999, 'macro_f1-score': 0.8622893329316055, 'balanced_accuracy': 0.8659878565826346, 'mcc': 0.8377430181772016, 'train_loss': 0.34760928383497613}\n",
      "Epoch 3/20\n"
     ]
    },
    {
     "name": "stderr",
     "output_type": "stream",
     "text": [
      "100%|██████████| 2339/2339 [03:16<00:00, 11.90it/s]\n"
     ]
    },
    {
     "name": "stdout",
     "output_type": "stream",
     "text": [
      "{'val_loss': 0.4151047912458133, 'val_accuracy': 0.8646568313021168, 'precision': 0.8652325594270722, 'recall': 0.8646568313021168, 'f1-score': 0.8645757906379451, 'macro_f1-score': 0.8626009830228223, 'balanced_accuracy': 0.864759459841778, 'mcc': 0.8334673548077651, 'train_loss': 0.24446344704201184}\n",
      "Epoch 4/20\n"
     ]
    },
    {
     "name": "stderr",
     "output_type": "stream",
     "text": [
      "100%|██████████| 2339/2339 [03:16<00:00, 11.90it/s]\n"
     ]
    },
    {
     "name": "stdout",
     "output_type": "stream",
     "text": [
      "{'val_loss': 0.48772088676675135, 'val_accuracy': 0.8651913619841779, 'precision': 0.8676613692516615, 'recall': 0.8651913619841779, 'f1-score': 0.8653522896476007, 'macro_f1-score': 0.8655873522395221, 'balanced_accuracy': 0.8647574760679013, 'mcc': 0.8350393016384943, 'train_loss': 0.16295018069591022}\n",
      "Epoch 5/20\n"
     ]
    },
    {
     "name": "stderr",
     "output_type": "stream",
     "text": [
      "100%|██████████| 2339/2339 [03:16<00:00, 11.89it/s]\n"
     ]
    },
    {
     "name": "stdout",
     "output_type": "stream",
     "text": [
      "{'val_loss': 0.5126324543112523, 'val_accuracy': 0.8634808638015822, 'precision': 0.8665390370557133, 'recall': 0.8634808638015822, 'f1-score': 0.8642731855166649, 'macro_f1-score': 0.8591244269934306, 'balanced_accuracy': 0.8537672793687143, 'mcc': 0.8317327184578173, 'train_loss': 0.11412369227245873}\n",
      "Epoch 6/20\n"
     ]
    },
    {
     "name": "stderr",
     "output_type": "stream",
     "text": [
      "100%|██████████| 2339/2339 [03:16<00:00, 11.90it/s]\n"
     ]
    },
    {
     "name": "stdout",
     "output_type": "stream",
     "text": [
      "{'val_loss': 0.5264665660842394, 'val_accuracy': 0.8614496472097498, 'precision': 0.8635765256790484, 'recall': 0.8614496472097498, 'f1-score': 0.860943529944283, 'macro_f1-score': 0.8558927035150397, 'balanced_accuracy': 0.866786716285753, 'mcc': 0.8305492870417932, 'train_loss': 0.09159499324482713}\n",
      "Epoch 7/20\n"
     ]
    },
    {
     "name": "stderr",
     "output_type": "stream",
     "text": [
      "100%|██████████| 2339/2339 [03:16<00:00, 11.89it/s]\n"
     ]
    },
    {
     "name": "stdout",
     "output_type": "stream",
     "text": [
      "{'val_loss': 0.6108076592350108, 'val_accuracy': 0.8621979901646355, 'precision': 0.863718650134621, 'recall': 0.8621979901646355, 'f1-score': 0.8615931317027228, 'macro_f1-score': 0.8607109704381123, 'balanced_accuracy': 0.8516064223909514, 'mcc': 0.830409992827592, 'train_loss': 0.06951857252438068}\n",
      "Early stopping.\n",
      "\n",
      "[Fold 4]\n",
      "Label distribution after resampling:\n",
      "  label 0: 5625\n",
      "  label 1: 1399\n",
      "  label 2: 8441\n",
      "  label 3: 10771\n",
      "  label 4: 1679\n",
      "  label 5: 5579\n",
      "  label 6: 1738\n",
      "  label 7: 2186\n",
      "model is bert-base-uncased\n"
     ]
    },
    {
     "name": "stderr",
     "output_type": "stream",
     "text": [
      "Some weights of BertForSequenceClassification were not initialized from the model checkpoint at bert-base-uncased and are newly initialized: ['classifier.bias', 'classifier.weight']\n",
      "You should probably TRAIN this model on a down-stream task to be able to use it for predictions and inference.\n"
     ]
    },
    {
     "name": "stdout",
     "output_type": "stream",
     "text": [
      "Epoch 1/20\n"
     ]
    },
    {
     "name": "stderr",
     "output_type": "stream",
     "text": [
      "100%|██████████| 2339/2339 [03:16<00:00, 11.90it/s]\n"
     ]
    },
    {
     "name": "stdout",
     "output_type": "stream",
     "text": [
      "{'val_loss': 0.4481929319663944, 'val_accuracy': 0.8505452212957024, 'precision': 0.8554927155266839, 'recall': 0.8505452212957024, 'f1-score': 0.849578417473172, 'macro_f1-score': 0.8491404936965441, 'balanced_accuracy': 0.8263412842271012, 'mcc': 0.8155301480753819, 'train_loss': 0.5964668941528383}\n",
      "Epoch 2/20\n"
     ]
    },
    {
     "name": "stderr",
     "output_type": "stream",
     "text": [
      "100%|██████████| 2339/2339 [03:16<00:00, 11.90it/s]\n"
     ]
    },
    {
     "name": "stdout",
     "output_type": "stream",
     "text": [
      "{'val_loss': 0.40484580194784536, 'val_accuracy': 0.8626256147102843, 'precision': 0.8643818632958806, 'recall': 0.8626256147102843, 'f1-score': 0.862241927096494, 'macro_f1-score': 0.8658976867096272, 'balanced_accuracy': 0.8522528245071819, 'mcc': 0.8305797386673008, 'train_loss': 0.36359105273633685}\n",
      "Epoch 3/20\n"
     ]
    },
    {
     "name": "stderr",
     "output_type": "stream",
     "text": [
      "100%|██████████| 2339/2339 [03:16<00:00, 11.90it/s]\n"
     ]
    },
    {
     "name": "stdout",
     "output_type": "stream",
     "text": [
      "{'val_loss': 0.446519028976496, 'val_accuracy': 0.8660466110754758, 'precision': 0.8671465097186952, 'recall': 0.8660466110754758, 'f1-score': 0.8654963967975832, 'macro_f1-score': 0.863889491878475, 'balanced_accuracy': 0.848132517032439, 'mcc': 0.8346615926547442, 'train_loss': 0.2549970243410846}\n",
      "Epoch 4/20\n"
     ]
    },
    {
     "name": "stderr",
     "output_type": "stream",
     "text": [
      "100%|██████████| 2339/2339 [03:16<00:00, 11.90it/s]\n"
     ]
    },
    {
     "name": "stdout",
     "output_type": "stream",
     "text": [
      "{'val_loss': 0.46313531804734315, 'val_accuracy': 0.8625187085738721, 'precision': 0.8634169903311852, 'recall': 0.8625187085738721, 'f1-score': 0.8625121723504172, 'macro_f1-score': 0.8613149309181773, 'balanced_accuracy': 0.8607755936645886, 'mcc': 0.8307258740824529, 'train_loss': 0.17836120427980726}\n",
      "Epoch 5/20\n"
     ]
    },
    {
     "name": "stderr",
     "output_type": "stream",
     "text": [
      "100%|██████████| 2339/2339 [03:16<00:00, 11.90it/s]\n"
     ]
    },
    {
     "name": "stdout",
     "output_type": "stream",
     "text": [
      "{'val_loss': 0.5391003347730312, 'val_accuracy': 0.8638015822108189, 'precision': 0.8671854694440823, 'recall': 0.8638015822108189, 'f1-score': 0.8637517351268134, 'macro_f1-score': 0.8643145854163474, 'balanced_accuracy': 0.844182427210227, 'mcc': 0.8319852704004327, 'train_loss': 0.12779572696844893}\n",
      "Early stopping.\n",
      "\n",
      "[Fold 5]\n",
      "Label distribution after resampling:\n",
      "  label 0: 5625\n",
      "  label 1: 1399\n",
      "  label 2: 8441\n",
      "  label 3: 10771\n",
      "  label 4: 1678\n",
      "  label 5: 5579\n",
      "  label 6: 1738\n",
      "  label 7: 2187\n",
      "model is bert-base-uncased\n"
     ]
    },
    {
     "name": "stderr",
     "output_type": "stream",
     "text": [
      "Some weights of BertForSequenceClassification were not initialized from the model checkpoint at bert-base-uncased and are newly initialized: ['classifier.bias', 'classifier.weight']\n",
      "You should probably TRAIN this model on a down-stream task to be able to use it for predictions and inference.\n"
     ]
    },
    {
     "name": "stdout",
     "output_type": "stream",
     "text": [
      "Epoch 1/20\n"
     ]
    },
    {
     "name": "stderr",
     "output_type": "stream",
     "text": [
      "100%|██████████| 2339/2339 [03:16<00:00, 11.90it/s]\n"
     ]
    },
    {
     "name": "stdout",
     "output_type": "stream",
     "text": [
      "{'val_loss': 0.43387578544326316, 'val_accuracy': 0.8497968783408167, 'precision': 0.8534924100977446, 'recall': 0.8497968783408167, 'f1-score': 0.8498046229666828, 'macro_f1-score': 0.846954167604123, 'balanced_accuracy': 0.8684377235331733, 'mcc': 0.817437471223626, 'train_loss': 0.5828924634505435}\n",
      "Epoch 2/20\n"
     ]
    },
    {
     "name": "stderr",
     "output_type": "stream",
     "text": [
      "100%|██████████| 2339/2339 [03:16<00:00, 11.90it/s]\n"
     ]
    },
    {
     "name": "stdout",
     "output_type": "stream",
     "text": [
      "{'val_loss': 0.4484100677948604, 'val_accuracy': 0.8493692537951678, 'precision': 0.8529055471287037, 'recall': 0.8493692537951678, 'f1-score': 0.8492877239147926, 'macro_f1-score': 0.8472487529172794, 'balanced_accuracy': 0.8578822610132077, 'mcc': 0.8160184196691073, 'train_loss': 0.35015416646861225}\n",
      "Epoch 3/20\n"
     ]
    },
    {
     "name": "stderr",
     "output_type": "stream",
     "text": [
      "100%|██████████| 2339/2339 [03:16<00:00, 11.89it/s]\n"
     ]
    },
    {
     "name": "stdout",
     "output_type": "stream",
     "text": [
      "{'val_loss': 0.41939459728220335, 'val_accuracy': 0.8660466110754758, 'precision': 0.8676160997172916, 'recall': 0.8660466110754758, 'f1-score': 0.8655603554138377, 'macro_f1-score': 0.8679878146484106, 'balanced_accuracy': 0.8610057500168651, 'mcc': 0.8355751048600945, 'train_loss': 0.24796382766579328}\n",
      "Epoch 4/20\n"
     ]
    },
    {
     "name": "stderr",
     "output_type": "stream",
     "text": [
      "100%|██████████| 2339/2339 [03:16<00:00, 11.90it/s]\n"
     ]
    },
    {
     "name": "stdout",
     "output_type": "stream",
     "text": [
      "{'val_loss': 0.44563883844022756, 'val_accuracy': 0.864763737438529, 'precision': 0.8656592240278256, 'recall': 0.864763737438529, 'f1-score': 0.8648068500784976, 'macro_f1-score': 0.864569176357691, 'balanced_accuracy': 0.8626454857965462, 'mcc': 0.8334223176101294, 'train_loss': 0.16257566824651357}\n",
      "Epoch 5/20\n"
     ]
    },
    {
     "name": "stderr",
     "output_type": "stream",
     "text": [
      "100%|██████████| 2339/2339 [03:16<00:00, 11.90it/s]\n"
     ]
    },
    {
     "name": "stdout",
     "output_type": "stream",
     "text": [
      "{'val_loss': 0.5513707808937288, 'val_accuracy': 0.8635877699379945, 'precision': 0.8646258359054658, 'recall': 0.8635877699379945, 'f1-score': 0.8638702531616372, 'macro_f1-score': 0.8632075999418205, 'balanced_accuracy': 0.8547462989246087, 'mcc': 0.8317532490767873, 'train_loss': 0.12485600423731559}\n",
      "Epoch 6/20\n"
     ]
    },
    {
     "name": "stderr",
     "output_type": "stream",
     "text": [
      "100%|██████████| 2339/2339 [03:16<00:00, 11.90it/s]\n"
     ]
    },
    {
     "name": "stdout",
     "output_type": "stream",
     "text": [
      "{'val_loss': 0.5190093943435284, 'val_accuracy': 0.8639084883472311, 'precision': 0.8654279020890462, 'recall': 0.8639084883472311, 'f1-score': 0.8640918830843145, 'macro_f1-score': 0.8634675810185785, 'balanced_accuracy': 0.8701417264756574, 'mcc': 0.8332499129056686, 'train_loss': 0.09147475405415825}\n",
      "Early stopping.\n",
      "\n",
      " === bert-base-uncased + plain + none Final 5-fold Cross-Validation Results ===\n",
      "val_loss: 0.4383\n",
      "val_accuracy: 0.8650\n",
      "precision: 0.8665\n",
      "recall: 0.8650\n",
      "f1-score: 0.8647\n",
      "macro_f1-score: 0.8668\n",
      "balanced_accuracy: 0.8607\n",
      "mcc: 0.8341\n",
      "train_loss: 0.2395\n",
      "total_seconds: 6799.0000\n",
      "total_time: 1 hrs 53 mins 19 secs\n",
      "▶ Running: bert-base-uncased + cnn + none\n",
      "tokenizer is bert-base-uncased\n",
      "Using device: cuda\n",
      "CUDA Available: True\n",
      "CUDA Device: NVIDIA GeForce RTX 5070 Ti\n",
      "Current GPU Memory Allocated: 0.02 GB\n",
      "Current GPU Memory Cached: 3.15 GB\n",
      "\n",
      "[Fold 1]\n",
      "Label distribution after resampling:\n",
      "  label 0: 5626\n",
      "  label 1: 1399\n",
      "  label 2: 8442\n",
      "  label 3: 10770\n",
      "  label 4: 1678\n",
      "  label 5: 5578\n",
      "  label 6: 1737\n",
      "  label 7: 2187\n",
      "model is bert-base-uncased cnn\n",
      "Epoch 1/20\n"
     ]
    },
    {
     "name": "stderr",
     "output_type": "stream",
     "text": [
      "100%|██████████| 2339/2339 [03:20<00:00, 11.67it/s]\n"
     ]
    },
    {
     "name": "stdout",
     "output_type": "stream",
     "text": [
      "{'val_loss': 0.4389698629832675, 'val_accuracy': 0.8491715660074827, 'precision': 0.8541321137059168, 'recall': 0.8491715660074827, 'f1-score': 0.8500860369164414, 'macro_f1-score': 0.843073837355534, 'balanced_accuracy': 0.8429320857502305, 'mcc': 0.8151200431638835, 'train_loss': 0.608524603206169}\n",
      "Epoch 2/20\n"
     ]
    },
    {
     "name": "stderr",
     "output_type": "stream",
     "text": [
      "100%|██████████| 2339/2339 [03:20<00:00, 11.67it/s]\n"
     ]
    },
    {
     "name": "stdout",
     "output_type": "stream",
     "text": [
      "{'val_loss': 0.3981765628879906, 'val_accuracy': 0.8676643506146445, 'precision': 0.8724475894456978, 'recall': 0.8676643506146445, 'f1-score': 0.8683843205482084, 'macro_f1-score': 0.867051457659001, 'balanced_accuracy': 0.8633809691610214, 'mcc': 0.837733452177023, 'train_loss': 0.36669278688459644}\n",
      "Epoch 3/20\n"
     ]
    },
    {
     "name": "stderr",
     "output_type": "stream",
     "text": [
      "100%|██████████| 2339/2339 [03:20<00:00, 11.68it/s]\n"
     ]
    },
    {
     "name": "stdout",
     "output_type": "stream",
     "text": [
      "{'val_loss': 0.39081836570786616, 'val_accuracy': 0.8725815072153928, 'precision': 0.8725219302441767, 'recall': 0.8725815072153928, 'f1-score': 0.8721958194739101, 'macro_f1-score': 0.8689037473988177, 'balanced_accuracy': 0.8588237751074971, 'mcc': 0.8428992247587757, 'train_loss': 0.26492799483295393}\n",
      "Epoch 4/20\n"
     ]
    },
    {
     "name": "stderr",
     "output_type": "stream",
     "text": [
      "100%|██████████| 2339/2339 [03:20<00:00, 11.68it/s]\n"
     ]
    },
    {
     "name": "stdout",
     "output_type": "stream",
     "text": [
      "{'val_loss': 0.45628499958393537, 'val_accuracy': 0.8674505611972207, 'precision': 0.8685991757908114, 'recall': 0.8674505611972207, 'f1-score': 0.8674041339951092, 'macro_f1-score': 0.8648536931215068, 'balanced_accuracy': 0.8644054170195434, 'mcc': 0.8372837082616226, 'train_loss': 0.18399136565502633}\n",
      "Epoch 5/20\n"
     ]
    },
    {
     "name": "stderr",
     "output_type": "stream",
     "text": [
      "100%|██████████| 2339/2339 [03:20<00:00, 11.68it/s]\n"
     ]
    },
    {
     "name": "stdout",
     "output_type": "stream",
     "text": [
      "{'val_loss': 0.5708606993621335, 'val_accuracy': 0.8676643506146445, 'precision': 0.8694170532580958, 'recall': 0.8676643506146445, 'f1-score': 0.867674115706247, 'macro_f1-score': 0.8661185454383427, 'balanced_accuracy': 0.8635227400005232, 'mcc': 0.8374858041973253, 'train_loss': 0.12649836011541818}\n",
      "Epoch 6/20\n"
     ]
    },
    {
     "name": "stderr",
     "output_type": "stream",
     "text": [
      "100%|██████████| 2339/2339 [03:20<00:00, 11.68it/s]\n"
     ]
    },
    {
     "name": "stdout",
     "output_type": "stream",
     "text": [
      "{'val_loss': 0.5791979816517371, 'val_accuracy': 0.8619989310529129, 'precision': 0.8632655505295344, 'recall': 0.8619989310529129, 'f1-score': 0.8621269889149454, 'macro_f1-score': 0.8595352371339924, 'balanced_accuracy': 0.8533451849339919, 'mcc': 0.8301053401098231, 'train_loss': 0.09936729647806881}\n",
      "Early stopping.\n",
      "\n",
      "[Fold 2]\n",
      "Label distribution after resampling:\n",
      "  label 0: 5626\n",
      "  label 1: 1400\n",
      "  label 2: 8442\n",
      "  label 3: 10770\n",
      "  label 4: 1678\n",
      "  label 5: 5578\n",
      "  label 6: 1737\n",
      "  label 7: 2186\n",
      "model is bert-base-uncased cnn\n",
      "Epoch 1/20\n"
     ]
    },
    {
     "name": "stderr",
     "output_type": "stream",
     "text": [
      "100%|██████████| 2339/2339 [03:20<00:00, 11.67it/s]\n"
     ]
    },
    {
     "name": "stdout",
     "output_type": "stream",
     "text": [
      "{'val_loss': 0.48598286513653066, 'val_accuracy': 0.838161411010155, 'precision': 0.8452188951331429, 'recall': 0.838161411010155, 'f1-score': 0.8380825645620763, 'macro_f1-score': 0.8399004900169309, 'balanced_accuracy': 0.8316718294558054, 'mcc': 0.8009029522460921, 'train_loss': 0.6169382148844761}\n",
      "Epoch 2/20\n"
     ]
    },
    {
     "name": "stderr",
     "output_type": "stream",
     "text": [
      "100%|██████████| 2339/2339 [03:20<00:00, 11.68it/s]\n"
     ]
    },
    {
     "name": "stdout",
     "output_type": "stream",
     "text": [
      "{'val_loss': 0.433087861408981, 'val_accuracy': 0.8543025120256548, 'precision': 0.8566381903764472, 'recall': 0.8543025120256548, 'f1-score': 0.854265643864401, 'macro_f1-score': 0.8586463137046928, 'balanced_accuracy': 0.8553000426218177, 'mcc': 0.8214517037574817, 'train_loss': 0.3690709474983507}\n",
      "Epoch 3/20\n"
     ]
    },
    {
     "name": "stderr",
     "output_type": "stream",
     "text": [
      "100%|██████████| 2339/2339 [03:20<00:00, 11.68it/s]\n"
     ]
    },
    {
     "name": "stdout",
     "output_type": "stream",
     "text": [
      "{'val_loss': 0.4390172379139142, 'val_accuracy': 0.8583645109567076, 'precision': 0.8596939727412826, 'recall': 0.8583645109567076, 'f1-score': 0.8580642833255299, 'macro_f1-score': 0.8605547827753713, 'balanced_accuracy': 0.8645037836852838, 'mcc': 0.8267131679362537, 'train_loss': 0.2674691767502272}\n",
      "Epoch 4/20\n"
     ]
    },
    {
     "name": "stderr",
     "output_type": "stream",
     "text": [
      "100%|██████████| 2339/2339 [03:20<00:00, 11.67it/s]\n"
     ]
    },
    {
     "name": "stdout",
     "output_type": "stream",
     "text": [
      "{'val_loss': 0.4827327674883617, 'val_accuracy': 0.8560128273650455, 'precision': 0.8577957181502774, 'recall': 0.8560128273650455, 'f1-score': 0.8560045497889487, 'macro_f1-score': 0.8551036588397722, 'balanced_accuracy': 0.8668782731847622, 'mcc': 0.8239990713075271, 'train_loss': 0.19398593421746324}\n",
      "Epoch 5/20\n"
     ]
    },
    {
     "name": "stderr",
     "output_type": "stream",
     "text": [
      "100%|██████████| 2339/2339 [03:20<00:00, 11.68it/s]\n"
     ]
    },
    {
     "name": "stdout",
     "output_type": "stream",
     "text": [
      "{'val_loss': 0.5133988820390505, 'val_accuracy': 0.8616782469267771, 'precision': 0.8615908038521657, 'recall': 0.8616782469267771, 'f1-score': 0.8614652970796686, 'macro_f1-score': 0.8618326902656765, 'balanced_accuracy': 0.8564749460407627, 'mcc': 0.8295619617046274, 'train_loss': 0.14127150284546072}\n",
      "Epoch 6/20\n"
     ]
    },
    {
     "name": "stderr",
     "output_type": "stream",
     "text": [
      "100%|██████████| 2339/2339 [03:20<00:00, 11.68it/s]\n"
     ]
    },
    {
     "name": "stdout",
     "output_type": "stream",
     "text": [
      "{'val_loss': 0.643480558323467, 'val_accuracy': 0.8609299839657937, 'precision': 0.8607480978496449, 'recall': 0.8609299839657937, 'f1-score': 0.8607357761815047, 'macro_f1-score': 0.8604687333549436, 'balanced_accuracy': 0.8583269432989619, 'mcc': 0.8288253631555591, 'train_loss': 0.10486358480772673}\n",
      "Epoch 7/20\n"
     ]
    },
    {
     "name": "stderr",
     "output_type": "stream",
     "text": [
      "100%|██████████| 2339/2339 [03:20<00:00, 11.68it/s]\n"
     ]
    },
    {
     "name": "stdout",
     "output_type": "stream",
     "text": [
      "{'val_loss': 0.6636075469457273, 'val_accuracy': 0.8531266702298236, 'precision': 0.8546382112656103, 'recall': 0.8531266702298236, 'f1-score': 0.8532288657815685, 'macro_f1-score': 0.8550692872834476, 'balanced_accuracy': 0.8467485615630836, 'mcc': 0.8193718171743288, 'train_loss': 0.08692399969574521}\n",
      "Epoch 8/20\n"
     ]
    },
    {
     "name": "stderr",
     "output_type": "stream",
     "text": [
      "100%|██████████| 2339/2339 [03:20<00:00, 11.68it/s]\n"
     ]
    },
    {
     "name": "stdout",
     "output_type": "stream",
     "text": [
      "{'val_loss': 0.6815555553470388, 'val_accuracy': 0.850026723677178, 'precision': 0.8506281353712, 'recall': 0.850026723677178, 'f1-score': 0.8497676680595881, 'macro_f1-score': 0.8469386641569262, 'balanced_accuracy': 0.851855634646148, 'mcc': 0.8156293560755618, 'train_loss': 0.07791552436066457}\n",
      "Early stopping.\n",
      "\n",
      "[Fold 3]\n",
      "Label distribution after resampling:\n",
      "  label 0: 5626\n",
      "  label 1: 1399\n",
      "  label 2: 8442\n",
      "  label 3: 10770\n",
      "  label 4: 1679\n",
      "  label 5: 5578\n",
      "  label 6: 1738\n",
      "  label 7: 2186\n",
      "model is bert-base-uncased cnn\n",
      "Epoch 1/20\n"
     ]
    },
    {
     "name": "stderr",
     "output_type": "stream",
     "text": [
      "100%|██████████| 2339/2339 [03:20<00:00, 11.66it/s]\n"
     ]
    },
    {
     "name": "stdout",
     "output_type": "stream",
     "text": [
      "{'val_loss': 0.4355666587304356, 'val_accuracy': 0.852683344023947, 'precision': 0.8568484130751939, 'recall': 0.852683344023947, 'f1-score': 0.8532825571811896, 'macro_f1-score': 0.8511197496416212, 'balanced_accuracy': 0.8495665174540519, 'mcc': 0.819224978328679, 'train_loss': 0.6045363390194702}\n",
      "Epoch 2/20\n"
     ]
    },
    {
     "name": "stderr",
     "output_type": "stream",
     "text": [
      "100%|██████████| 2339/2339 [03:20<00:00, 11.66it/s]\n"
     ]
    },
    {
     "name": "stdout",
     "output_type": "stream",
     "text": [
      "{'val_loss': 0.40212125051925834, 'val_accuracy': 0.8664742356211247, 'precision': 0.8696333288403846, 'recall': 0.8664742356211247, 'f1-score': 0.8665001284847189, 'macro_f1-score': 0.8682156171927389, 'balanced_accuracy': 0.8500985915647887, 'mcc': 0.8351055241219671, 'train_loss': 0.3794436028896934}\n",
      "Epoch 3/20\n"
     ]
    },
    {
     "name": "stderr",
     "output_type": "stream",
     "text": [
      "100%|██████████| 2339/2339 [03:20<00:00, 11.67it/s]\n"
     ]
    },
    {
     "name": "stdout",
     "output_type": "stream",
     "text": [
      "{'val_loss': 0.41736767937102887, 'val_accuracy': 0.8649775497113534, 'precision': 0.8682253009835599, 'recall': 0.8649775497113534, 'f1-score': 0.8644949440587214, 'macro_f1-score': 0.8578022599236447, 'balanced_accuracy': 0.8549496364839566, 'mcc': 0.8346307886179074, 'train_loss': 0.28066074680863484}\n",
      "Epoch 4/20\n"
     ]
    },
    {
     "name": "stderr",
     "output_type": "stream",
     "text": [
      "100%|██████████| 2339/2339 [03:20<00:00, 11.66it/s]\n"
     ]
    },
    {
     "name": "stdout",
     "output_type": "stream",
     "text": [
      "{'val_loss': 0.4518991587110437, 'val_accuracy': 0.8656189865298268, 'precision': 0.8654724506740163, 'recall': 0.8656189865298268, 'f1-score': 0.8654631672605896, 'macro_f1-score': 0.8641102477024787, 'balanced_accuracy': 0.8653386330161643, 'mcc': 0.8346966067603325, 'train_loss': 0.1984481196103967}\n",
      "Epoch 5/20\n"
     ]
    },
    {
     "name": "stderr",
     "output_type": "stream",
     "text": [
      "100%|██████████| 2339/2339 [03:20<00:00, 11.67it/s]\n"
     ]
    },
    {
     "name": "stdout",
     "output_type": "stream",
     "text": [
      "{'val_loss': 0.5063696950307895, 'val_accuracy': 0.8669018601667736, 'precision': 0.8673792085695647, 'recall': 0.8669018601667736, 'f1-score': 0.8662633019614684, 'macro_f1-score': 0.8644609341270462, 'balanced_accuracy': 0.8581900889312757, 'mcc': 0.8363443919383448, 'train_loss': 0.1503538916030518}\n",
      "Early stopping.\n",
      "\n",
      "[Fold 4]\n",
      "Label distribution after resampling:\n",
      "  label 0: 5625\n",
      "  label 1: 1399\n",
      "  label 2: 8441\n",
      "  label 3: 10771\n",
      "  label 4: 1679\n",
      "  label 5: 5579\n",
      "  label 6: 1738\n",
      "  label 7: 2186\n",
      "model is bert-base-uncased cnn\n",
      "Epoch 1/20\n"
     ]
    },
    {
     "name": "stderr",
     "output_type": "stream",
     "text": [
      "100%|██████████| 2339/2339 [03:20<00:00, 11.66it/s]\n"
     ]
    },
    {
     "name": "stdout",
     "output_type": "stream",
     "text": [
      "{'val_loss': 0.43793968814624173, 'val_accuracy': 0.8502245028864657, 'precision': 0.852540371991515, 'recall': 0.8502245028864657, 'f1-score': 0.8506756907335515, 'macro_f1-score': 0.8504043557016276, 'balanced_accuracy': 0.8399766726920042, 'mcc': 0.8150936292287352, 'train_loss': 0.6088461596940816}\n",
      "Epoch 2/20\n"
     ]
    },
    {
     "name": "stderr",
     "output_type": "stream",
     "text": [
      "100%|██████████| 2339/2339 [03:20<00:00, 11.66it/s]\n"
     ]
    },
    {
     "name": "stdout",
     "output_type": "stream",
     "text": [
      "{'val_loss': 0.4251560855131501, 'val_accuracy': 0.8543938422065427, 'precision': 0.8565678714604268, 'recall': 0.8543938422065427, 'f1-score': 0.8542149081534505, 'macro_f1-score': 0.8547026457622513, 'balanced_accuracy': 0.863447118464278, 'mcc': 0.82228618751484, 'train_loss': 0.3769936823776265}\n",
      "Epoch 3/20\n"
     ]
    },
    {
     "name": "stderr",
     "output_type": "stream",
     "text": [
      "100%|██████████| 2339/2339 [03:20<00:00, 11.67it/s]\n"
     ]
    },
    {
     "name": "stdout",
     "output_type": "stream",
     "text": [
      "{'val_loss': 0.44478538582722343, 'val_accuracy': 0.8641223006200556, 'precision': 0.8673045324032116, 'recall': 0.8641223006200556, 'f1-score': 0.8643988640451027, 'macro_f1-score': 0.86245668824122, 'balanced_accuracy': 0.8418037382122273, 'mcc': 0.8319837339728003, 'train_loss': 0.27720965613458143}\n",
      "Epoch 4/20\n"
     ]
    },
    {
     "name": "stderr",
     "output_type": "stream",
     "text": [
      "100%|██████████| 2339/2339 [03:20<00:00, 11.66it/s]\n"
     ]
    },
    {
     "name": "stdout",
     "output_type": "stream",
     "text": [
      "{'val_loss': 0.4867818099971956, 'val_accuracy': 0.8611289288005132, 'precision': 0.8632708968037756, 'recall': 0.8611289288005132, 'f1-score': 0.86125789345501, 'macro_f1-score': 0.8609856709299938, 'balanced_accuracy': 0.8576009004281555, 'mcc': 0.8295271757826111, 'train_loss': 0.2006130855640595}\n",
      "Epoch 5/20\n"
     ]
    },
    {
     "name": "stderr",
     "output_type": "stream",
     "text": [
      "100%|██████████| 2339/2339 [03:20<00:00, 11.67it/s]\n"
     ]
    },
    {
     "name": "stdout",
     "output_type": "stream",
     "text": [
      "{'val_loss': 0.5504095865007586, 'val_accuracy': 0.8597391490271542, 'precision': 0.862096448633789, 'recall': 0.8597391490271542, 'f1-score': 0.8599395812581188, 'macro_f1-score': 0.8579996430756603, 'balanced_accuracy': 0.8468803606710904, 'mcc': 0.8275334764526426, 'train_loss': 0.14421813920299137}\n",
      "Epoch 6/20\n"
     ]
    },
    {
     "name": "stderr",
     "output_type": "stream",
     "text": [
      "100%|██████████| 2339/2339 [03:20<00:00, 11.67it/s]\n"
     ]
    },
    {
     "name": "stdout",
     "output_type": "stream",
     "text": [
      "{'val_loss': 0.6003915619415542, 'val_accuracy': 0.8639084883472311, 'precision': 0.8643900824610323, 'recall': 0.8639084883472311, 'f1-score': 0.8639686672442339, 'macro_f1-score': 0.8646176757138491, 'balanced_accuracy': 0.8678262045309248, 'mcc': 0.8328296130443354, 'train_loss': 0.11006333832677304}\n",
      "Epoch 7/20\n"
     ]
    },
    {
     "name": "stderr",
     "output_type": "stream",
     "text": [
      "100%|██████████| 2339/2339 [03:20<00:00, 11.67it/s]\n"
     ]
    },
    {
     "name": "stdout",
     "output_type": "stream",
     "text": [
      "{'val_loss': 0.6199928116915016, 'val_accuracy': 0.8628394269831088, 'precision': 0.8639401335898782, 'recall': 0.8628394269831088, 'f1-score': 0.8629682650604884, 'macro_f1-score': 0.8612442407053454, 'balanced_accuracy': 0.8591959631787793, 'mcc': 0.8310637837231448, 'train_loss': 0.09196676295731696}\n",
      "Epoch 8/20\n"
     ]
    },
    {
     "name": "stderr",
     "output_type": "stream",
     "text": [
      "100%|██████████| 2339/2339 [03:20<00:00, 11.67it/s]\n"
     ]
    },
    {
     "name": "stdout",
     "output_type": "stream",
     "text": [
      "{'val_loss': 0.6288994608608146, 'val_accuracy': 0.8516142826598246, 'precision': 0.8525353530232805, 'recall': 0.8516142826598246, 'f1-score': 0.851637454172934, 'macro_f1-score': 0.8481450835231736, 'balanced_accuracy': 0.8583586346780442, 'mcc': 0.8182636182881998, 'train_loss': 0.07345498520795829}\n",
      "Epoch 9/20\n"
     ]
    },
    {
     "name": "stderr",
     "output_type": "stream",
     "text": [
      "100%|██████████| 2339/2339 [03:20<00:00, 11.67it/s]\n"
     ]
    },
    {
     "name": "stdout",
     "output_type": "stream",
     "text": [
      "{'val_loss': 0.7202477000832844, 'val_accuracy': 0.8518280949326491, 'precision': 0.8551857106491126, 'recall': 0.8518280949326491, 'f1-score': 0.8523014101056964, 'macro_f1-score': 0.8528679638112449, 'balanced_accuracy': 0.8570026697716504, 'mcc': 0.8188472558809191, 'train_loss': 0.06659660330097739}\n",
      "Early stopping.\n",
      "\n",
      "[Fold 5]\n",
      "Label distribution after resampling:\n",
      "  label 0: 5625\n",
      "  label 1: 1399\n",
      "  label 2: 8441\n",
      "  label 3: 10771\n",
      "  label 4: 1678\n",
      "  label 5: 5579\n",
      "  label 6: 1738\n",
      "  label 7: 2187\n",
      "model is bert-base-uncased cnn\n",
      "Epoch 1/20\n"
     ]
    },
    {
     "name": "stderr",
     "output_type": "stream",
     "text": [
      "100%|██████████| 2339/2339 [03:20<00:00, 11.66it/s]\n"
     ]
    },
    {
     "name": "stdout",
     "output_type": "stream",
     "text": [
      "{'val_loss': 0.44589771849350035, 'val_accuracy': 0.8497968783408167, 'precision': 0.8513683166571141, 'recall': 0.8497968783408167, 'f1-score': 0.8494221639343496, 'macro_f1-score': 0.8519401788094108, 'balanced_accuracy': 0.8541628223218369, 'mcc': 0.8158584599590063, 'train_loss': 0.6186227110023808}\n",
      "Epoch 2/20\n"
     ]
    },
    {
     "name": "stderr",
     "output_type": "stream",
     "text": [
      "100%|██████████| 2339/2339 [03:20<00:00, 11.67it/s]\n"
     ]
    },
    {
     "name": "stdout",
     "output_type": "stream",
     "text": [
      "{'val_loss': 0.4281559503486014, 'val_accuracy': 0.8520419072054736, 'precision': 0.8602848702556608, 'recall': 0.8520419072054736, 'f1-score': 0.8523708198565653, 'macro_f1-score': 0.8523106440914611, 'balanced_accuracy': 0.8821733990965017, 'mcc': 0.8213278996371558, 'train_loss': 0.3687828403024394}\n",
      "Epoch 3/20\n"
     ]
    },
    {
     "name": "stderr",
     "output_type": "stream",
     "text": [
      "100%|██████████| 2339/2339 [03:20<00:00, 11.67it/s]\n"
     ]
    },
    {
     "name": "stdout",
     "output_type": "stream",
     "text": [
      "{'val_loss': 0.43569890793699484, 'val_accuracy': 0.8615565533461621, 'precision': 0.8646000354408369, 'recall': 0.8615565533461621, 'f1-score': 0.8618981939893764, 'macro_f1-score': 0.858025943017948, 'balanced_accuracy': 0.8705733463440839, 'mcc': 0.8307540370443798, 'train_loss': 0.2661978338429782}\n",
      "Epoch 4/20\n"
     ]
    },
    {
     "name": "stderr",
     "output_type": "stream",
     "text": [
      "100%|██████████| 2339/2339 [03:20<00:00, 11.67it/s]\n"
     ]
    },
    {
     "name": "stdout",
     "output_type": "stream",
     "text": [
      "{'val_loss': 0.46347376802303375, 'val_accuracy': 0.8566388710711995, 'precision': 0.8574792719375783, 'recall': 0.8566388710711995, 'f1-score': 0.8567296430605621, 'macro_f1-score': 0.860675970660822, 'balanced_accuracy': 0.8588761344395899, 'mcc': 0.823517782522603, 'train_loss': 0.18572918392087534}\n",
      "Epoch 5/20\n"
     ]
    },
    {
     "name": "stderr",
     "output_type": "stream",
     "text": [
      "100%|██████████| 2339/2339 [03:20<00:00, 11.67it/s]\n"
     ]
    },
    {
     "name": "stdout",
     "output_type": "stream",
     "text": [
      "{'val_loss': 0.5640608214464787, 'val_accuracy': 0.8537524053880693, 'precision': 0.859845684931947, 'recall': 0.8537524053880693, 'f1-score': 0.8550302731621646, 'macro_f1-score': 0.8544513512380654, 'balanced_accuracy': 0.852528982622462, 'mcc': 0.8204494212191998, 'train_loss': 0.13249607182401715}\n",
      "Epoch 6/20\n"
     ]
    },
    {
     "name": "stderr",
     "output_type": "stream",
     "text": [
      "100%|██████████| 2339/2339 [03:20<00:00, 11.67it/s]\n"
     ]
    },
    {
     "name": "stdout",
     "output_type": "stream",
     "text": [
      "{'val_loss': 0.5740370531592311, 'val_accuracy': 0.861984177891811, 'precision': 0.8632511939445611, 'recall': 0.861984177891811, 'f1-score': 0.862315498637083, 'macro_f1-score': 0.8624751214715978, 'balanced_accuracy': 0.8676402877933085, 'mcc': 0.8304287245683674, 'train_loss': 0.09935056204959757}\n",
      "Epoch 7/20\n"
     ]
    },
    {
     "name": "stderr",
     "output_type": "stream",
     "text": [
      "100%|██████████| 2339/2339 [03:20<00:00, 11.67it/s]\n"
     ]
    },
    {
     "name": "stdout",
     "output_type": "stream",
     "text": [
      "{'val_loss': 0.6193659500362209, 'val_accuracy': 0.8577079324353218, 'precision': 0.8599796366589494, 'recall': 0.8577079324353218, 'f1-score': 0.8574225172164939, 'macro_f1-score': 0.858618054206514, 'balanced_accuracy': 0.8577372799561305, 'mcc': 0.8250470792122337, 'train_loss': 0.08065557422698426}\n",
      "Epoch 8/20\n"
     ]
    },
    {
     "name": "stderr",
     "output_type": "stream",
     "text": [
      "100%|██████████| 2339/2339 [03:20<00:00, 11.67it/s]\n"
     ]
    },
    {
     "name": "stdout",
     "output_type": "stream",
     "text": [
      "{'val_loss': 0.7524633116609194, 'val_accuracy': 0.8411374812914262, 'precision': 0.8497363301411045, 'recall': 0.8411374812914262, 'f1-score': 0.8403904277834752, 'macro_f1-score': 0.8442858841285544, 'balanced_accuracy': 0.868157029625658, 'mcc': 0.8092503671910647, 'train_loss': 0.0670608428140442}\n",
      "Epoch 9/20\n"
     ]
    },
    {
     "name": "stderr",
     "output_type": "stream",
     "text": [
      "100%|██████████| 2339/2339 [03:20<00:00, 11.67it/s]\n"
     ]
    },
    {
     "name": "stdout",
     "output_type": "stream",
     "text": [
      "{'val_loss': 0.7112232342434541, 'val_accuracy': 0.8537524053880693, 'precision': 0.8579212855609123, 'recall': 0.8537524053880693, 'f1-score': 0.8547797325335145, 'macro_f1-score': 0.8498896619545829, 'balanced_accuracy': 0.8527617178486693, 'mcc': 0.8205015015428146, 'train_loss': 0.06126108024361519}\n",
      "Early stopping.\n",
      "\n",
      " === bert-base-uncased + cnn + none Final 5-fold Cross-Validation Results ===\n",
      "val_loss: 0.4962\n",
      "val_accuracy: 0.8653\n",
      "precision: 0.8663\n",
      "recall: 0.8653\n",
      "f1-score: 0.8653\n",
      "macro_f1-score: 0.8652\n",
      "balanced_accuracy: 0.8602\n",
      "mcc: 0.8342\n",
      "train_loss: 0.1990\n",
      "total_seconds: 8271.0000\n",
      "total_time: 2 hrs 17 mins 51 secs\n",
      "▶ Running: bert-base-uncased + lstm + none\n",
      "tokenizer is bert-base-uncased\n",
      "Using device: cuda\n",
      "CUDA Available: True\n",
      "CUDA Device: NVIDIA GeForce RTX 5070 Ti\n",
      "Current GPU Memory Allocated: 0.02 GB\n",
      "Current GPU Memory Cached: 3.16 GB\n",
      "\n",
      "[Fold 1]\n",
      "Label distribution after resampling:\n",
      "  label 0: 5626\n",
      "  label 1: 1399\n",
      "  label 2: 8442\n",
      "  label 3: 10770\n",
      "  label 4: 1678\n",
      "  label 5: 5578\n",
      "  label 6: 1737\n",
      "  label 7: 2187\n",
      "model is bert-base-uncased lstm\n",
      "Epoch 1/20\n"
     ]
    },
    {
     "name": "stderr",
     "output_type": "stream",
     "text": [
      "100%|██████████| 2339/2339 [03:30<00:00, 11.10it/s]\n"
     ]
    },
    {
     "name": "stdout",
     "output_type": "stream",
     "text": [
      "{'val_loss': 0.41611423771987616, 'val_accuracy': 0.8627471940138963, 'precision': 0.8646293178624364, 'recall': 0.8627471940138963, 'f1-score': 0.8625562093908489, 'macro_f1-score': 0.8568241069208327, 'balanced_accuracy': 0.8353598148217034, 'mcc': 0.8303406128781743, 'train_loss': 0.6009185837853307}\n",
      "Epoch 2/20\n"
     ]
    },
    {
     "name": "stderr",
     "output_type": "stream",
     "text": [
      "100%|██████████| 2339/2339 [03:30<00:00, 11.09it/s]\n"
     ]
    },
    {
     "name": "stdout",
     "output_type": "stream",
     "text": [
      "{'val_loss': 0.39072272410122755, 'val_accuracy': 0.86574024585783, 'precision': 0.8690161919603152, 'recall': 0.86574024585783, 'f1-score': 0.866250528328671, 'macro_f1-score': 0.8661351357133273, 'balanced_accuracy': 0.8563592714234084, 'mcc': 0.8351096796925587, 'train_loss': 0.3662990896280516}\n",
      "Epoch 3/20\n"
     ]
    },
    {
     "name": "stderr",
     "output_type": "stream",
     "text": [
      "100%|██████████| 2339/2339 [03:30<00:00, 11.09it/s]\n"
     ]
    },
    {
     "name": "stdout",
     "output_type": "stream",
     "text": [
      "{'val_loss': 0.4188315646834353, 'val_accuracy': 0.8662747194013897, 'precision': 0.8667051018553632, 'recall': 0.8662747194013897, 'f1-score': 0.8658982356687517, 'macro_f1-score': 0.8621931238068123, 'balanced_accuracy': 0.8660862690506708, 'mcc': 0.8355224206408517, 'train_loss': 0.2635469490326957}\n",
      "Epoch 4/20\n"
     ]
    },
    {
     "name": "stderr",
     "output_type": "stream",
     "text": [
      "100%|██████████| 2339/2339 [03:30<00:00, 11.10it/s]\n"
     ]
    },
    {
     "name": "stdout",
     "output_type": "stream",
     "text": [
      "{'val_loss': 0.45543657548757444, 'val_accuracy': 0.864564404061999, 'precision': 0.8673474188520821, 'recall': 0.864564404061999, 'f1-score': 0.8646043018505113, 'macro_f1-score': 0.8612798540632651, 'balanced_accuracy': 0.8578251375646553, 'mcc': 0.833371097199658, 'train_loss': 0.18529202382903676}\n",
      "Epoch 5/20\n"
     ]
    },
    {
     "name": "stderr",
     "output_type": "stream",
     "text": [
      "100%|██████████| 2339/2339 [03:31<00:00, 11.08it/s]\n"
     ]
    },
    {
     "name": "stdout",
     "output_type": "stream",
     "text": [
      "{'val_loss': 0.5056703044493627, 'val_accuracy': 0.8711918760021379, 'precision': 0.871602242254937, 'recall': 0.8711918760021379, 'f1-score': 0.8712834740180371, 'macro_f1-score': 0.8682760695206637, 'balanced_accuracy': 0.8693552282427401, 'mcc': 0.8416823784827182, 'train_loss': 0.13790774199597589}\n",
      "Epoch 6/20\n"
     ]
    },
    {
     "name": "stderr",
     "output_type": "stream",
     "text": [
      "100%|██████████| 2339/2339 [03:30<00:00, 11.09it/s]\n"
     ]
    },
    {
     "name": "stdout",
     "output_type": "stream",
     "text": [
      "{'val_loss': 0.540181243328704, 'val_accuracy': 0.8675574559059327, 'precision': 0.8678747353664518, 'recall': 0.8675574559059327, 'f1-score': 0.8672329502909958, 'macro_f1-score': 0.8629224080926823, 'balanced_accuracy': 0.8508816363373886, 'mcc': 0.8366303438585474, 'train_loss': 0.10020788006394721}\n",
      "Epoch 7/20\n"
     ]
    },
    {
     "name": "stderr",
     "output_type": "stream",
     "text": [
      "100%|██████████| 2339/2339 [03:30<00:00, 11.10it/s]\n"
     ]
    },
    {
     "name": "stdout",
     "output_type": "stream",
     "text": [
      "{'val_loss': 0.6045355756548193, 'val_accuracy': 0.8643506146445751, 'precision': 0.8676210923957824, 'recall': 0.8643506146445751, 'f1-score': 0.8647592011766793, 'macro_f1-score': 0.8586018394703556, 'balanced_accuracy': 0.8541123408969726, 'mcc': 0.8333570543907793, 'train_loss': 0.08426668379221282}\n",
      "Epoch 8/20\n"
     ]
    },
    {
     "name": "stderr",
     "output_type": "stream",
     "text": [
      "100%|██████████| 2339/2339 [03:30<00:00, 11.09it/s]\n"
     ]
    },
    {
     "name": "stdout",
     "output_type": "stream",
     "text": [
      "{'val_loss': 0.5976328788850552, 'val_accuracy': 0.8615713522180652, 'precision': 0.8631499542873436, 'recall': 0.8615713522180652, 'f1-score': 0.8619061827056025, 'macro_f1-score': 0.8595464571857478, 'balanced_accuracy': 0.8578565565616227, 'mcc': 0.8296526041071182, 'train_loss': 0.07306120840164858}\n",
      "Early stopping.\n",
      "\n",
      "[Fold 2]\n",
      "Label distribution after resampling:\n",
      "  label 0: 5626\n",
      "  label 1: 1400\n",
      "  label 2: 8442\n",
      "  label 3: 10770\n",
      "  label 4: 1678\n",
      "  label 5: 5578\n",
      "  label 6: 1737\n",
      "  label 7: 2186\n",
      "model is bert-base-uncased lstm\n",
      "Epoch 1/20\n"
     ]
    },
    {
     "name": "stderr",
     "output_type": "stream",
     "text": [
      "100%|██████████| 2339/2339 [03:30<00:00, 11.09it/s]\n"
     ]
    },
    {
     "name": "stdout",
     "output_type": "stream",
     "text": [
      "{'val_loss': 0.5107953140305148, 'val_accuracy': 0.8291822554783538, 'precision': 0.8365100041632099, 'recall': 0.8291822554783538, 'f1-score': 0.8289907718321128, 'macro_f1-score': 0.8340013684497815, 'balanced_accuracy': 0.8283443090372538, 'mcc': 0.7921813158971251, 'train_loss': 0.6090196749388967}\n",
      "Epoch 2/20\n"
     ]
    },
    {
     "name": "stderr",
     "output_type": "stream",
     "text": [
      "100%|██████████| 2339/2339 [03:31<00:00, 11.08it/s]\n"
     ]
    },
    {
     "name": "stdout",
     "output_type": "stream",
     "text": [
      "{'val_loss': 0.43675031567899847, 'val_accuracy': 0.8526990913949759, 'precision': 0.8543949713058915, 'recall': 0.8526990913949759, 'f1-score': 0.8526010567179838, 'macro_f1-score': 0.855704850055808, 'balanced_accuracy': 0.8465545059390276, 'mcc': 0.8189158928404882, 'train_loss': 0.3681848070903969}\n",
      "Epoch 3/20\n"
     ]
    },
    {
     "name": "stderr",
     "output_type": "stream",
     "text": [
      "100%|██████████| 2339/2339 [03:30<00:00, 11.09it/s]\n"
     ]
    },
    {
     "name": "stdout",
     "output_type": "stream",
     "text": [
      "{'val_loss': 0.5587402486266234, 'val_accuracy': 0.8382683057188669, 'precision': 0.8444664012718203, 'recall': 0.8382683057188669, 'f1-score': 0.8379004087178807, 'macro_f1-score': 0.8352360864857755, 'balanced_accuracy': 0.8325183348731863, 'mcc': 0.8021559915955215, 'train_loss': 0.27355541820212237}\n",
      "Epoch 4/20\n"
     ]
    },
    {
     "name": "stderr",
     "output_type": "stream",
     "text": [
      "100%|██████████| 2339/2339 [03:30<00:00, 11.09it/s]\n"
     ]
    },
    {
     "name": "stdout",
     "output_type": "stream",
     "text": [
      "{'val_loss': 0.47058759645805653, 'val_accuracy': 0.8568679850347408, 'precision': 0.8576646011835046, 'recall': 0.8568679850347408, 'f1-score': 0.8567672901767414, 'macro_f1-score': 0.8583801926535417, 'balanced_accuracy': 0.8584697019050668, 'mcc': 0.8241196769977872, 'train_loss': 0.19621956389351194}\n",
      "Epoch 5/20\n"
     ]
    },
    {
     "name": "stderr",
     "output_type": "stream",
     "text": [
      "100%|██████████| 2339/2339 [03:30<00:00, 11.10it/s]\n"
     ]
    },
    {
     "name": "stdout",
     "output_type": "stream",
     "text": [
      "{'val_loss': 0.542457016914462, 'val_accuracy': 0.8510956707642972, 'precision': 0.8523419640920802, 'recall': 0.8510956707642972, 'f1-score': 0.8513866276514225, 'macro_f1-score': 0.8498058617390363, 'balanced_accuracy': 0.8504175022513134, 'mcc': 0.8165827383860079, 'train_loss': 0.14822889149438648}\n",
      "Epoch 6/20\n"
     ]
    },
    {
     "name": "stderr",
     "output_type": "stream",
     "text": [
      "100%|██████████| 2339/2339 [03:31<00:00, 11.08it/s]\n"
     ]
    },
    {
     "name": "stdout",
     "output_type": "stream",
     "text": [
      "{'val_loss': 0.5457435154427702, 'val_accuracy': 0.8515232495991448, 'precision': 0.852169165912689, 'recall': 0.8515232495991448, 'f1-score': 0.8514492814426192, 'macro_f1-score': 0.8545869234664931, 'balanced_accuracy': 0.8464806092161272, 'mcc': 0.816963495907271, 'train_loss': 0.11490165603079551}\n",
      "Epoch 7/20\n"
     ]
    },
    {
     "name": "stderr",
     "output_type": "stream",
     "text": [
      "100%|██████████| 2339/2339 [03:30<00:00, 11.10it/s]\n"
     ]
    },
    {
     "name": "stdout",
     "output_type": "stream",
     "text": [
      "{'val_loss': 0.60971198401386, 'val_accuracy': 0.8583645109567076, 'precision': 0.8590163125487236, 'recall': 0.8583645109567076, 'f1-score': 0.8582233030602094, 'macro_f1-score': 0.8594957540686491, 'balanced_accuracy': 0.8558198773943098, 'mcc': 0.825896043469253, 'train_loss': 0.09621240495175144}\n",
      "Epoch 8/20\n"
     ]
    },
    {
     "name": "stderr",
     "output_type": "stream",
     "text": [
      "100%|██████████| 2339/2339 [03:30<00:00, 11.10it/s]\n"
     ]
    },
    {
     "name": "stdout",
     "output_type": "stream",
     "text": [
      "{'val_loss': 0.6424799931309242, 'val_accuracy': 0.8536611437733832, 'precision': 0.8543127415237455, 'recall': 0.8536611437733832, 'f1-score': 0.8532164756966292, 'macro_f1-score': 0.8539339883955748, 'balanced_accuracy': 0.8543700057902848, 'mcc': 0.8200056808472572, 'train_loss': 0.08662215121898302}\n",
      "Epoch 9/20\n"
     ]
    },
    {
     "name": "stderr",
     "output_type": "stream",
     "text": [
      "100%|██████████| 2339/2339 [03:31<00:00, 11.08it/s]\n"
     ]
    },
    {
     "name": "stdout",
     "output_type": "stream",
     "text": [
      "{'val_loss': 0.6776249704842703, 'val_accuracy': 0.8537680384820951, 'precision': 0.8547627485877921, 'recall': 0.8537680384820951, 'f1-score': 0.8537476195264356, 'macro_f1-score': 0.856508862514178, 'balanced_accuracy': 0.8538438653211686, 'mcc': 0.8203567206511924, 'train_loss': 0.07189015957622225}\n",
      "Epoch 10/20\n"
     ]
    },
    {
     "name": "stderr",
     "output_type": "stream",
     "text": [
      "100%|██████████| 2339/2339 [03:30<00:00, 11.10it/s]\n"
     ]
    },
    {
     "name": "stdout",
     "output_type": "stream",
     "text": [
      "{'val_loss': 0.7667361478054594, 'val_accuracy': 0.8396579369321219, 'precision': 0.8433464494703424, 'recall': 0.8396579369321219, 'f1-score': 0.8391902540491978, 'macro_f1-score': 0.8380341904595359, 'balanced_accuracy': 0.8478332678089777, 'mcc': 0.8038261260383731, 'train_loss': 0.06514051313023371}\n",
      "Early stopping.\n",
      "\n",
      "[Fold 3]\n",
      "Label distribution after resampling:\n",
      "  label 0: 5626\n",
      "  label 1: 1399\n",
      "  label 2: 8442\n",
      "  label 3: 10770\n",
      "  label 4: 1679\n",
      "  label 5: 5578\n",
      "  label 6: 1738\n",
      "  label 7: 2186\n",
      "model is bert-base-uncased lstm\n",
      "Epoch 1/20\n"
     ]
    },
    {
     "name": "stderr",
     "output_type": "stream",
     "text": [
      "100%|██████████| 2339/2339 [03:31<00:00, 11.08it/s]\n"
     ]
    },
    {
     "name": "stdout",
     "output_type": "stream",
     "text": [
      "{'val_loss': 0.4436240775335548, 'val_accuracy': 0.8553559974342527, 'precision': 0.85811965913231, 'recall': 0.8553559974342527, 'f1-score': 0.8549581054770277, 'macro_f1-score': 0.8503691963064135, 'balanced_accuracy': 0.8241397888602027, 'mcc': 0.8212558655591421, 'train_loss': 0.6101793308048332}\n",
      "Epoch 2/20\n"
     ]
    },
    {
     "name": "stderr",
     "output_type": "stream",
     "text": [
      "100%|██████████| 2339/2339 [03:30<00:00, 11.10it/s]\n"
     ]
    },
    {
     "name": "stdout",
     "output_type": "stream",
     "text": [
      "{'val_loss': 0.390766273251074, 'val_accuracy': 0.8645499251657045, 'precision': 0.8672321519279647, 'recall': 0.8645499251657045, 'f1-score': 0.8646727691856935, 'macro_f1-score': 0.8588868508464593, 'balanced_accuracy': 0.8792272587127907, 'mcc': 0.8345018430394556, 'train_loss': 0.37268139839541864}\n",
      "Epoch 3/20\n"
     ]
    },
    {
     "name": "stderr",
     "output_type": "stream",
     "text": [
      "100%|██████████| 2339/2339 [03:30<00:00, 11.10it/s]\n"
     ]
    },
    {
     "name": "stdout",
     "output_type": "stream",
     "text": [
      "{'val_loss': 0.4234824903118305, 'val_accuracy': 0.8691468890314304, 'precision': 0.8706186961688891, 'recall': 0.8691468890314304, 'f1-score': 0.8689716721309713, 'macro_f1-score': 0.867828076773018, 'balanced_accuracy': 0.8473518111391254, 'mcc': 0.8382325464819123, 'train_loss': 0.2688724609036532}\n",
      "Epoch 4/20\n"
     ]
    },
    {
     "name": "stderr",
     "output_type": "stream",
     "text": [
      "100%|██████████| 2339/2339 [03:31<00:00, 11.08it/s]\n"
     ]
    },
    {
     "name": "stdout",
     "output_type": "stream",
     "text": [
      "{'val_loss': 0.4936608420111812, 'val_accuracy': 0.8594184306179175, 'precision': 0.863621278549237, 'recall': 0.8594184306179175, 'f1-score': 0.8597764701756847, 'macro_f1-score': 0.8532232318185523, 'balanced_accuracy': 0.8683654362220187, 'mcc': 0.8287535788903111, 'train_loss': 0.18850160556385082}\n",
      "Epoch 5/20\n"
     ]
    },
    {
     "name": "stderr",
     "output_type": "stream",
     "text": [
      "100%|██████████| 2339/2339 [03:31<00:00, 11.08it/s]\n"
     ]
    },
    {
     "name": "stdout",
     "output_type": "stream",
     "text": [
      "{'val_loss': 0.5095160686450764, 'val_accuracy': 0.8695745135770794, 'precision': 0.8696799262224494, 'recall': 0.8695745135770794, 'f1-score': 0.8693806441560374, 'macro_f1-score': 0.8653319868712277, 'balanced_accuracy': 0.8572111884935343, 'mcc': 0.8391497847124575, 'train_loss': 0.13932524369284988}\n",
      "Epoch 6/20\n"
     ]
    },
    {
     "name": "stderr",
     "output_type": "stream",
     "text": [
      "100%|██████████| 2339/2339 [03:30<00:00, 11.10it/s]\n"
     ]
    },
    {
     "name": "stdout",
     "output_type": "stream",
     "text": [
      "{'val_loss': 0.5719053480515464, 'val_accuracy': 0.8588838999358563, 'precision': 0.8599430697754992, 'recall': 0.8588838999358563, 'f1-score': 0.8587354261294277, 'macro_f1-score': 0.8565183086285981, 'balanced_accuracy': 0.8409279052514544, 'mcc': 0.8259139970168633, 'train_loss': 0.11501071899938196}\n",
      "Early stopping.\n",
      "\n",
      "[Fold 4]\n",
      "Label distribution after resampling:\n",
      "  label 0: 5625\n",
      "  label 1: 1399\n",
      "  label 2: 8441\n",
      "  label 3: 10771\n",
      "  label 4: 1679\n",
      "  label 5: 5579\n",
      "  label 6: 1738\n",
      "  label 7: 2186\n",
      "model is bert-base-uncased lstm\n",
      "Epoch 1/20\n"
     ]
    },
    {
     "name": "stderr",
     "output_type": "stream",
     "text": [
      "100%|██████████| 2339/2339 [03:30<00:00, 11.09it/s]\n"
     ]
    },
    {
     "name": "stdout",
     "output_type": "stream",
     "text": [
      "{'val_loss': 0.46626862603375036, 'val_accuracy': 0.8386786401539449, 'precision': 0.8453897346124467, 'recall': 0.8386786401539449, 'f1-score': 0.8377507306621661, 'macro_f1-score': 0.8425926991300599, 'balanced_accuracy': 0.8530826085948358, 'mcc': 0.8053249770985169, 'train_loss': 0.6106817265825172}\n",
      "Epoch 2/20\n"
     ]
    },
    {
     "name": "stderr",
     "output_type": "stream",
     "text": [
      "100%|██████████| 2339/2339 [03:30<00:00, 11.09it/s]\n"
     ]
    },
    {
     "name": "stdout",
     "output_type": "stream",
     "text": [
      "{'val_loss': 0.41409107784175464, 'val_accuracy': 0.8558905281163138, 'precision': 0.8586519801983225, 'recall': 0.8558905281163138, 'f1-score': 0.8561035011711845, 'macro_f1-score': 0.8516005689703839, 'balanced_accuracy': 0.8616379395288092, 'mcc': 0.8231312409054278, 'train_loss': 0.37426962463687685}\n",
      "Epoch 3/20\n"
     ]
    },
    {
     "name": "stderr",
     "output_type": "stream",
     "text": [
      "100%|██████████| 2339/2339 [03:30<00:00, 11.10it/s]\n"
     ]
    },
    {
     "name": "stdout",
     "output_type": "stream",
     "text": [
      "{'val_loss': 0.44967230087241683, 'val_accuracy': 0.8635877699379945, 'precision': 0.8641388548442568, 'recall': 0.8635877699379945, 'f1-score': 0.8635348996169815, 'macro_f1-score': 0.8639054846145666, 'balanced_accuracy': 0.8626121811948105, 'mcc': 0.8322318325279011, 'train_loss': 0.2692286629646271}\n",
      "Epoch 4/20\n"
     ]
    },
    {
     "name": "stderr",
     "output_type": "stream",
     "text": [
      "100%|██████████| 2339/2339 [03:31<00:00, 11.08it/s]\n"
     ]
    },
    {
     "name": "stdout",
     "output_type": "stream",
     "text": [
      "{'val_loss': 0.4689591915211362, 'val_accuracy': 0.8618772717553987, 'precision': 0.8622608884763434, 'recall': 0.8618772717553987, 'f1-score': 0.8613858531133244, 'macro_f1-score': 0.8622620581876712, 'balanced_accuracy': 0.8599204012334111, 'mcc': 0.8299584134198663, 'train_loss': 0.19305747338200754}\n",
      "Epoch 5/20\n"
     ]
    },
    {
     "name": "stderr",
     "output_type": "stream",
     "text": [
      "100%|██████████| 2339/2339 [03:30<00:00, 11.09it/s]\n"
     ]
    },
    {
     "name": "stdout",
     "output_type": "stream",
     "text": [
      "{'val_loss': 0.5754010643523473, 'val_accuracy': 0.8570664956168484, 'precision': 0.8584233682835124, 'recall': 0.8570664956168484, 'f1-score': 0.8570462417999568, 'macro_f1-score': 0.8606165953928807, 'balanced_accuracy': 0.8554547750920045, 'mcc': 0.8243411666553332, 'train_loss': 0.13850457175753655}\n",
      "Epoch 6/20\n"
     ]
    },
    {
     "name": "stderr",
     "output_type": "stream",
     "text": [
      "100%|██████████| 2339/2339 [03:30<00:00, 11.09it/s]\n"
     ]
    },
    {
     "name": "stdout",
     "output_type": "stream",
     "text": [
      "{'val_loss': 0.5562880163936693, 'val_accuracy': 0.8586700876630319, 'precision': 0.8599187435564745, 'recall': 0.8586700876630319, 'f1-score': 0.8582807993228191, 'macro_f1-score': 0.8599155025861991, 'balanced_accuracy': 0.8663840540905997, 'mcc': 0.8269555222724676, 'train_loss': 0.1117603096210821}\n",
      "Early stopping.\n",
      "\n",
      "[Fold 5]\n",
      "Label distribution after resampling:\n",
      "  label 0: 5625\n",
      "  label 1: 1399\n",
      "  label 2: 8441\n",
      "  label 3: 10771\n",
      "  label 4: 1678\n",
      "  label 5: 5579\n",
      "  label 6: 1738\n",
      "  label 7: 2187\n",
      "model is bert-base-uncased lstm\n",
      "Epoch 1/20\n"
     ]
    },
    {
     "name": "stderr",
     "output_type": "stream",
     "text": [
      "100%|██████████| 2339/2339 [03:30<00:00, 11.09it/s]\n"
     ]
    },
    {
     "name": "stdout",
     "output_type": "stream",
     "text": [
      "{'val_loss': 0.43253150942106533, 'val_accuracy': 0.8567457772076117, 'precision': 0.8608328698497694, 'recall': 0.8567457772076117, 'f1-score': 0.8567701225784959, 'macro_f1-score': 0.8513785724336826, 'balanced_accuracy': 0.8279370128202298, 'mcc': 0.8228134891124705, 'train_loss': 0.6294159914162639}\n",
      "Epoch 2/20\n"
     ]
    },
    {
     "name": "stderr",
     "output_type": "stream",
     "text": [
      "100%|██████████| 2339/2339 [03:31<00:00, 11.09it/s]\n"
     ]
    },
    {
     "name": "stdout",
     "output_type": "stream",
     "text": [
      "{'val_loss': 0.44187921052559825, 'val_accuracy': 0.8539662176608938, 'precision': 0.8580538747243737, 'recall': 0.8539662176608938, 'f1-score': 0.853813519034791, 'macro_f1-score': 0.8545863677702199, 'balanced_accuracy': 0.8495545629152632, 'mcc': 0.8216712055042594, 'train_loss': 0.36993366719572757}\n",
      "Epoch 3/20\n"
     ]
    },
    {
     "name": "stderr",
     "output_type": "stream",
     "text": [
      "100%|██████████| 2339/2339 [03:30<00:00, 11.10it/s]\n"
     ]
    },
    {
     "name": "stdout",
     "output_type": "stream",
     "text": [
      "{'val_loss': 0.4513451801963214, 'val_accuracy': 0.8626256147102843, 'precision': 0.8644819463420558, 'recall': 0.8626256147102843, 'f1-score': 0.8630293697267498, 'macro_f1-score': 0.8615397990925551, 'balanced_accuracy': 0.8716066213876116, 'mcc': 0.8315025856590263, 'train_loss': 0.2677874810330318}\n",
      "Epoch 4/20\n"
     ]
    },
    {
     "name": "stderr",
     "output_type": "stream",
     "text": [
      "100%|██████████| 2339/2339 [03:30<00:00, 11.09it/s]\n"
     ]
    },
    {
     "name": "stdout",
     "output_type": "stream",
     "text": [
      "{'val_loss': 0.4782102174957434, 'val_accuracy': 0.8617703656189866, 'precision': 0.8635984897666618, 'recall': 0.8617703656189866, 'f1-score': 0.861576038338129, 'macro_f1-score': 0.8598944312483706, 'balanced_accuracy': 0.8505239790224064, 'mcc': 0.829664530631544, 'train_loss': 0.18701390637596094}\n",
      "Epoch 5/20\n"
     ]
    },
    {
     "name": "stderr",
     "output_type": "stream",
     "text": [
      "100%|██████████| 2339/2339 [03:30<00:00, 11.10it/s]\n"
     ]
    },
    {
     "name": "stdout",
     "output_type": "stream",
     "text": [
      "{'val_loss': 0.5706911913986898, 'val_accuracy': 0.853645499251657, 'precision': 0.8560889413916829, 'recall': 0.853645499251657, 'f1-score': 0.8529160327153479, 'macro_f1-score': 0.8558535560803839, 'balanced_accuracy': 0.8693478131057868, 'mcc': 0.8220059377052709, 'train_loss': 0.13602579801589054}\n",
      "Epoch 6/20\n"
     ]
    },
    {
     "name": "stderr",
     "output_type": "stream",
     "text": [
      "100%|██████████| 2339/2339 [03:30<00:00, 11.09it/s]\n"
     ]
    },
    {
     "name": "stdout",
     "output_type": "stream",
     "text": [
      "{'val_loss': 0.579497623966577, 'val_accuracy': 0.859204618345093, 'precision': 0.8613692017760072, 'recall': 0.859204618345093, 'f1-score': 0.8596410382096384, 'macro_f1-score': 0.8577502433572881, 'balanced_accuracy': 0.8652551385486724, 'mcc': 0.826912500515995, 'train_loss': 0.10944234587585808}\n",
      "Early stopping.\n",
      "\n",
      " === bert-base-uncased + lstm + none Final 5-fold Cross-Validation Results ===\n",
      "val_loss: 0.4880\n",
      "val_accuracy: 0.8650\n",
      "precision: 0.8660\n",
      "recall: 0.8650\n",
      "f1-score: 0.8650\n",
      "macro_f1-score: 0.8642\n",
      "balanced_accuracy: 0.8613\n",
      "mcc: 0.8339\n",
      "train_loss: 0.2080\n",
      "total_seconds: 8461.0000\n",
      "total_time: 2 hrs 21 mins 1 secs\n",
      "▶ Running: bert-base-uncased + bilstm + none\n",
      "tokenizer is bert-base-uncased\n",
      "Using device: cuda\n",
      "CUDA Available: True\n",
      "CUDA Device: NVIDIA GeForce RTX 5070 Ti\n",
      "Current GPU Memory Allocated: 0.02 GB\n",
      "Current GPU Memory Cached: 3.16 GB\n",
      "\n",
      "[Fold 1]\n",
      "Label distribution after resampling:\n",
      "  label 0: 5626\n",
      "  label 1: 1399\n",
      "  label 2: 8442\n",
      "  label 3: 10770\n",
      "  label 4: 1678\n",
      "  label 5: 5578\n",
      "  label 6: 1737\n",
      "  label 7: 2187\n",
      "model is bert-base-uncased bilstm\n",
      "Epoch 1/20\n"
     ]
    },
    {
     "name": "stderr",
     "output_type": "stream",
     "text": [
      "100%|██████████| 2339/2339 [03:37<00:00, 10.74it/s]\n"
     ]
    },
    {
     "name": "stdout",
     "output_type": "stream",
     "text": [
      "{'val_loss': 0.47456472717289233, 'val_accuracy': 0.8377338321753073, 'precision': 0.8465692161122639, 'recall': 0.8377338321753073, 'f1-score': 0.8372784992093368, 'macro_f1-score': 0.82260572407871, 'balanced_accuracy': 0.81491481320388, 'mcc': 0.8003335543453528, 'train_loss': 0.6111548603243581}\n",
      "Epoch 2/20\n"
     ]
    },
    {
     "name": "stderr",
     "output_type": "stream",
     "text": [
      "100%|██████████| 2339/2339 [03:37<00:00, 10.75it/s]\n"
     ]
    },
    {
     "name": "stdout",
     "output_type": "stream",
     "text": [
      "{'val_loss': 0.39588308710063624, 'val_accuracy': 0.8690539818278995, 'precision': 0.8702834462629743, 'recall': 0.8690539818278995, 'f1-score': 0.868958193140453, 'macro_f1-score': 0.8640059731892964, 'balanced_accuracy': 0.8660156999418728, 'mcc': 0.8393105300614975, 'train_loss': 0.36963997814484184}\n",
      "Epoch 3/20\n"
     ]
    },
    {
     "name": "stderr",
     "output_type": "stream",
     "text": [
      "100%|██████████| 2339/2339 [03:37<00:00, 10.76it/s]\n"
     ]
    },
    {
     "name": "stdout",
     "output_type": "stream",
     "text": [
      "{'val_loss': 0.40998110664833304, 'val_accuracy': 0.8694815606627472, 'precision': 0.8721029804289739, 'recall': 0.8694815606627472, 'f1-score': 0.8695512286195408, 'macro_f1-score': 0.8689080759517027, 'balanced_accuracy': 0.8552349255435809, 'mcc': 0.8389531375042755, 'train_loss': 0.27007484540276394}\n",
      "Epoch 4/20\n"
     ]
    },
    {
     "name": "stderr",
     "output_type": "stream",
     "text": [
      "100%|██████████| 2339/2339 [03:37<00:00, 10.75it/s]\n"
     ]
    },
    {
     "name": "stdout",
     "output_type": "stream",
     "text": [
      "{'val_loss': 0.4745475286219874, 'val_accuracy': 0.863067878140032, 'precision': 0.8666695363898398, 'recall': 0.863067878140032, 'f1-score': 0.8628235576740777, 'macro_f1-score': 0.8640727362388915, 'balanced_accuracy': 0.8496611396193211, 'mcc': 0.8321145578874645, 'train_loss': 0.19609697980988594}\n",
      "Epoch 5/20\n"
     ]
    },
    {
     "name": "stderr",
     "output_type": "stream",
     "text": [
      "100%|██████████| 2339/2339 [03:37<00:00, 10.75it/s]\n"
     ]
    },
    {
     "name": "stdout",
     "output_type": "stream",
     "text": [
      "{'val_loss': 0.4617953781110163, 'val_accuracy': 0.8656333511491181, 'precision': 0.8658971351829378, 'recall': 0.8656333511491181, 'f1-score': 0.8654065289025726, 'macro_f1-score': 0.8644485040736869, 'balanced_accuracy': 0.8612582227248664, 'mcc': 0.8347296440605316, 'train_loss': 0.1432156902973832}\n",
      "Epoch 6/20\n"
     ]
    },
    {
     "name": "stderr",
     "output_type": "stream",
     "text": [
      "100%|██████████| 2339/2339 [03:37<00:00, 10.78it/s]\n"
     ]
    },
    {
     "name": "stdout",
     "output_type": "stream",
     "text": [
      "{'val_loss': 0.5290265042398475, 'val_accuracy': 0.8668091929449492, 'precision': 0.8679696573151267, 'recall': 0.8668091929449492, 'f1-score': 0.8669981844124729, 'macro_f1-score': 0.8635442896211136, 'balanced_accuracy': 0.8668585371641013, 'mcc': 0.836516717629761, 'train_loss': 0.12078336666158172}\n",
      "Early stopping.\n",
      "\n",
      "[Fold 2]\n",
      "Label distribution after resampling:\n",
      "  label 0: 5626\n",
      "  label 1: 1400\n",
      "  label 2: 8442\n",
      "  label 3: 10770\n",
      "  label 4: 1678\n",
      "  label 5: 5578\n",
      "  label 6: 1737\n",
      "  label 7: 2186\n",
      "model is bert-base-uncased bilstm\n",
      "Epoch 1/20\n"
     ]
    },
    {
     "name": "stderr",
     "output_type": "stream",
     "text": [
      "100%|██████████| 2339/2339 [03:37<00:00, 10.77it/s]\n"
     ]
    },
    {
     "name": "stdout",
     "output_type": "stream",
     "text": [
      "{'val_loss': 0.4697480465739201, 'val_accuracy': 0.843506146445751, 'precision': 0.8441779619715832, 'recall': 0.843506146445751, 'f1-score': 0.8428875161456051, 'macro_f1-score': 0.8471290495537627, 'balanced_accuracy': 0.8448333422362447, 'mcc': 0.8075399846639949, 'train_loss': 0.5974587866954438}\n",
      "Epoch 2/20\n"
     ]
    },
    {
     "name": "stderr",
     "output_type": "stream",
     "text": [
      "100%|██████████| 2339/2339 [03:37<00:00, 10.75it/s]\n"
     ]
    },
    {
     "name": "stdout",
     "output_type": "stream",
     "text": [
      "{'val_loss': 0.4749537577152125, 'val_accuracy': 0.8472474612506681, 'precision': 0.8495087367641913, 'recall': 0.8472474612506681, 'f1-score': 0.846481505303945, 'macro_f1-score': 0.8459123011071827, 'balanced_accuracy': 0.8352115790262362, 'mcc': 0.8123204580553177, 'train_loss': 0.35506455084709543}\n",
      "Epoch 3/20\n"
     ]
    },
    {
     "name": "stderr",
     "output_type": "stream",
     "text": [
      "100%|██████████| 2339/2339 [03:37<00:00, 10.77it/s]\n"
     ]
    },
    {
     "name": "stdout",
     "output_type": "stream",
     "text": [
      "{'val_loss': 0.4763674399202578, 'val_accuracy': 0.8497060395510422, 'precision': 0.8522344132276334, 'recall': 0.8497060395510422, 'f1-score': 0.8501264855652997, 'macro_f1-score': 0.8480936459858315, 'balanced_accuracy': 0.8555801276473647, 'mcc': 0.8155474147641096, 'train_loss': 0.25152783915631444}\n",
      "Epoch 4/20\n"
     ]
    },
    {
     "name": "stderr",
     "output_type": "stream",
     "text": [
      "100%|██████████| 2339/2339 [03:37<00:00, 10.78it/s]\n"
     ]
    },
    {
     "name": "stdout",
     "output_type": "stream",
     "text": [
      "{'val_loss': 0.5291192028281462, 'val_accuracy': 0.8571886691608765, 'precision': 0.8578561064138147, 'recall': 0.8571886691608765, 'f1-score': 0.8568071958616073, 'macro_f1-score': 0.8587356207205333, 'balanced_accuracy': 0.8619313679449828, 'mcc': 0.8247690291790466, 'train_loss': 0.18187058859507946}\n",
      "Epoch 5/20\n"
     ]
    },
    {
     "name": "stderr",
     "output_type": "stream",
     "text": [
      "100%|██████████| 2339/2339 [03:37<00:00, 10.77it/s]\n"
     ]
    },
    {
     "name": "stdout",
     "output_type": "stream",
     "text": [
      "{'val_loss': 0.5875179977816903, 'val_accuracy': 0.8502405130946018, 'precision': 0.851219652998823, 'recall': 0.8502405130946018, 'f1-score': 0.8496213485253886, 'macro_f1-score': 0.8479426848969944, 'balanced_accuracy': 0.8496792449863362, 'mcc': 0.81586366063447, 'train_loss': 0.1300690887399717}\n",
      "Epoch 6/20\n"
     ]
    },
    {
     "name": "stderr",
     "output_type": "stream",
     "text": [
      "100%|██████████| 2339/2339 [03:37<00:00, 10.77it/s]\n"
     ]
    },
    {
     "name": "stdout",
     "output_type": "stream",
     "text": [
      "{'val_loss': 0.6334563127583546, 'val_accuracy': 0.8530197755211117, 'precision': 0.8543570855844324, 'recall': 0.8530197755211117, 'f1-score': 0.853093536340424, 'macro_f1-score': 0.8514086770274382, 'balanced_accuracy': 0.8511897790672247, 'mcc': 0.8192455790171513, 'train_loss': 0.10003738655101917}\n",
      "Epoch 7/20\n"
     ]
    },
    {
     "name": "stderr",
     "output_type": "stream",
     "text": [
      "100%|██████████| 2339/2339 [03:37<00:00, 10.76it/s]\n"
     ]
    },
    {
     "name": "stdout",
     "output_type": "stream",
     "text": [
      "{'val_loss': 0.6410054825170713, 'val_accuracy': 0.8488508818813468, 'precision': 0.8495747835962748, 'recall': 0.8488508818813468, 'f1-score': 0.8483983060370692, 'macro_f1-score': 0.847259039418748, 'balanced_accuracy': 0.8532921353291593, 'mcc': 0.8149360307376498, 'train_loss': 0.08470417438655281}\n",
      "Early stopping.\n",
      "\n",
      "[Fold 3]\n",
      "Label distribution after resampling:\n",
      "  label 0: 5626\n",
      "  label 1: 1399\n",
      "  label 2: 8442\n",
      "  label 3: 10770\n",
      "  label 4: 1679\n",
      "  label 5: 5578\n",
      "  label 6: 1738\n",
      "  label 7: 2186\n",
      "model is bert-base-uncased bilstm\n",
      "Epoch 1/20\n"
     ]
    },
    {
     "name": "stderr",
     "output_type": "stream",
     "text": [
      "100%|██████████| 2339/2339 [03:36<00:00, 10.78it/s]\n"
     ]
    },
    {
     "name": "stdout",
     "output_type": "stream",
     "text": [
      "{'val_loss': 0.45856614951521923, 'val_accuracy': 0.8422065426555484, 'precision': 0.8459013486080756, 'recall': 0.8422065426555484, 'f1-score': 0.8410486702699017, 'macro_f1-score': 0.8452045631416373, 'balanced_accuracy': 0.8427241539629207, 'mcc': 0.8079553691365983, 'train_loss': 0.5977169227375848}\n",
      "Epoch 2/20\n"
     ]
    },
    {
     "name": "stderr",
     "output_type": "stream",
     "text": [
      "100%|██████████| 2339/2339 [03:37<00:00, 10.77it/s]\n"
     ]
    },
    {
     "name": "stdout",
     "output_type": "stream",
     "text": [
      "{'val_loss': 0.41500632296770046, 'val_accuracy': 0.8612358349369253, 'precision': 0.8682450031083349, 'recall': 0.8612358349369253, 'f1-score': 0.862319142047429, 'macro_f1-score': 0.8517535777254313, 'balanced_accuracy': 0.8608673091877388, 'mcc': 0.8302609132530211, 'train_loss': 0.3605963623556521}\n",
      "Epoch 3/20\n"
     ]
    },
    {
     "name": "stderr",
     "output_type": "stream",
     "text": [
      "100%|██████████| 2339/2339 [03:37<00:00, 10.74it/s]\n"
     ]
    },
    {
     "name": "stdout",
     "output_type": "stream",
     "text": [
      "{'val_loss': 0.41677102711784025, 'val_accuracy': 0.8669018601667736, 'precision': 0.8684191780694547, 'recall': 0.8669018601667736, 'f1-score': 0.8673483082722483, 'macro_f1-score': 0.8614899622546143, 'balanced_accuracy': 0.8700338686203863, 'mcc': 0.836468195125188, 'train_loss': 0.2560044774358002}\n",
      "Epoch 4/20\n"
     ]
    },
    {
     "name": "stderr",
     "output_type": "stream",
     "text": [
      "100%|██████████| 2339/2339 [03:37<00:00, 10.76it/s]\n"
     ]
    },
    {
     "name": "stdout",
     "output_type": "stream",
     "text": [
      "{'val_loss': 0.4759791273249584, 'val_accuracy': 0.8679709215308958, 'precision': 0.8695838291294183, 'recall': 0.8679709215308958, 'f1-score': 0.8679215963021333, 'macro_f1-score': 0.8627829294950874, 'balanced_accuracy': 0.8496835479163839, 'mcc': 0.8370068382307516, 'train_loss': 0.17650422836542798}\n",
      "Epoch 5/20\n"
     ]
    },
    {
     "name": "stderr",
     "output_type": "stream",
     "text": [
      "100%|██████████| 2339/2339 [03:37<00:00, 10.77it/s]\n"
     ]
    },
    {
     "name": "stdout",
     "output_type": "stream",
     "text": [
      "{'val_loss': 0.4610389544700201, 'val_accuracy': 0.8692537951678426, 'precision': 0.8705737231218368, 'recall': 0.8692537951678426, 'f1-score': 0.8690523844485196, 'macro_f1-score': 0.8658344789350301, 'balanced_accuracy': 0.8474540234724863, 'mcc': 0.8384058179445666, 'train_loss': 0.12690217917207303}\n",
      "Epoch 6/20\n"
     ]
    },
    {
     "name": "stderr",
     "output_type": "stream",
     "text": [
      "100%|██████████| 2339/2339 [03:37<00:00, 10.74it/s]\n"
     ]
    },
    {
     "name": "stdout",
     "output_type": "stream",
     "text": [
      "{'val_loss': 0.5255441242132464, 'val_accuracy': 0.8638015822108189, 'precision': 0.8644696789765772, 'recall': 0.8638015822108189, 'f1-score': 0.8639477478528935, 'macro_f1-score': 0.860611851171862, 'balanced_accuracy': 0.8646701057142374, 'mcc': 0.832530148617035, 'train_loss': 0.09643739289162158}\n",
      "Epoch 7/20\n"
     ]
    },
    {
     "name": "stderr",
     "output_type": "stream",
     "text": [
      "100%|██████████| 2339/2339 [03:37<00:00, 10.76it/s]\n"
     ]
    },
    {
     "name": "stdout",
     "output_type": "stream",
     "text": [
      "{'val_loss': 0.5875763416461424, 'val_accuracy': 0.8658327988026513, 'precision': 0.8660700388223882, 'recall': 0.8658327988026513, 'f1-score': 0.8658298102730942, 'macro_f1-score': 0.8622075587304978, 'balanced_accuracy': 0.8657654563717746, 'mcc': 0.8351092634034407, 'train_loss': 0.08115247964126175}\n",
      "Epoch 8/20\n"
     ]
    },
    {
     "name": "stderr",
     "output_type": "stream",
     "text": [
      "100%|██████████| 2339/2339 [03:37<00:00, 10.77it/s]\n"
     ]
    },
    {
     "name": "stdout",
     "output_type": "stream",
     "text": [
      "{'val_loss': 0.5974867871321706, 'val_accuracy': 0.8615565533461621, 'precision': 0.8623361656699375, 'recall': 0.8615565533461621, 'f1-score': 0.8609823069990012, 'macro_f1-score': 0.8592860691602042, 'balanced_accuracy': 0.8500102713970379, 'mcc': 0.8296964263172276, 'train_loss': 0.07315576599709579}\n",
      "Early stopping.\n",
      "\n",
      "[Fold 4]\n",
      "Label distribution after resampling:\n",
      "  label 0: 5625\n",
      "  label 1: 1399\n",
      "  label 2: 8441\n",
      "  label 3: 10771\n",
      "  label 4: 1679\n",
      "  label 5: 5579\n",
      "  label 6: 1738\n",
      "  label 7: 2186\n",
      "model is bert-base-uncased bilstm\n",
      "Epoch 1/20\n"
     ]
    },
    {
     "name": "stderr",
     "output_type": "stream",
     "text": [
      "100%|██████████| 2339/2339 [03:37<00:00, 10.76it/s]\n"
     ]
    },
    {
     "name": "stdout",
     "output_type": "stream",
     "text": [
      "{'val_loss': 0.42700636273520626, 'val_accuracy': 0.8530040624331837, 'precision': 0.8562417465511841, 'recall': 0.8530040624331837, 'f1-score': 0.8532046814550482, 'macro_f1-score': 0.8556024576709012, 'balanced_accuracy': 0.8408347026114552, 'mcc': 0.8186960942091188, 'train_loss': 0.6024173897025726}\n",
      "Epoch 2/20\n"
     ]
    },
    {
     "name": "stderr",
     "output_type": "stream",
     "text": [
      "100%|██████████| 2339/2339 [03:37<00:00, 10.77it/s]\n"
     ]
    },
    {
     "name": "stdout",
     "output_type": "stream",
     "text": [
      "{'val_loss': 0.41177129632451087, 'val_accuracy': 0.8623048963010477, 'precision': 0.8656746170041991, 'recall': 0.8623048963010477, 'f1-score': 0.8629836457220952, 'macro_f1-score': 0.8642365906162226, 'balanced_accuracy': 0.8531236436444749, 'mcc': 0.8305003535782586, 'train_loss': 0.36208237408667915}\n",
      "Epoch 3/20\n"
     ]
    },
    {
     "name": "stderr",
     "output_type": "stream",
     "text": [
      "100%|██████████| 2339/2339 [03:37<00:00, 10.75it/s]\n"
     ]
    },
    {
     "name": "stdout",
     "output_type": "stream",
     "text": [
      "{'val_loss': 0.4519772617751334, 'val_accuracy': 0.8527902501603593, 'precision': 0.8578377203166049, 'recall': 0.8527902501603593, 'f1-score': 0.853057143593853, 'macro_f1-score': 0.8537483376968453, 'balanced_accuracy': 0.8377557159303679, 'mcc': 0.8194460187455853, 'train_loss': 0.259607040848704}\n",
      "Epoch 4/20\n"
     ]
    },
    {
     "name": "stderr",
     "output_type": "stream",
     "text": [
      "100%|██████████| 2339/2339 [03:37<00:00, 10.74it/s]\n"
     ]
    },
    {
     "name": "stdout",
     "output_type": "stream",
     "text": [
      "{'val_loss': 0.4592061783688573, 'val_accuracy': 0.857814838571734, 'precision': 0.8610720070893857, 'recall': 0.857814838571734, 'f1-score': 0.8576289521204614, 'macro_f1-score': 0.8567593976040986, 'balanced_accuracy': 0.8514628673052629, 'mcc': 0.8251277039683129, 'train_loss': 0.18219625941458206}\n",
      "Epoch 5/20\n"
     ]
    },
    {
     "name": "stderr",
     "output_type": "stream",
     "text": [
      "100%|██████████| 2339/2339 [03:37<00:00, 10.76it/s]\n"
     ]
    },
    {
     "name": "stdout",
     "output_type": "stream",
     "text": [
      "{'val_loss': 0.5283152376735408, 'val_accuracy': 0.8559974342527261, 'precision': 0.8574166561307964, 'recall': 0.8559974342527261, 'f1-score': 0.8556269882472309, 'macro_f1-score': 0.8553898130754707, 'balanced_accuracy': 0.8575891299405108, 'mcc': 0.8238739249793332, 'train_loss': 0.134166944428881}\n",
      "Early stopping.\n",
      "\n",
      "[Fold 5]\n",
      "Label distribution after resampling:\n",
      "  label 0: 5625\n",
      "  label 1: 1399\n",
      "  label 2: 8441\n",
      "  label 3: 10771\n",
      "  label 4: 1678\n",
      "  label 5: 5579\n",
      "  label 6: 1738\n",
      "  label 7: 2187\n",
      "model is bert-base-uncased bilstm\n",
      "Epoch 1/20\n"
     ]
    },
    {
     "name": "stderr",
     "output_type": "stream",
     "text": [
      "100%|██████████| 2339/2339 [03:37<00:00, 10.77it/s]\n"
     ]
    },
    {
     "name": "stdout",
     "output_type": "stream",
     "text": [
      "{'val_loss': 0.429404240884842, 'val_accuracy': 0.8548214667521916, 'precision': 0.8575418441418938, 'recall': 0.8548214667521916, 'f1-score': 0.8549865218604046, 'macro_f1-score': 0.8545319504215847, 'balanced_accuracy': 0.8459109619835594, 'mcc': 0.8217473793063034, 'train_loss': 0.6093633317823796}\n",
      "Epoch 2/20\n"
     ]
    },
    {
     "name": "stderr",
     "output_type": "stream",
     "text": [
      "100%|██████████| 2339/2339 [03:37<00:00, 10.75it/s]\n"
     ]
    },
    {
     "name": "stdout",
     "output_type": "stream",
     "text": [
      "{'val_loss': 0.4387794638004823, 'val_accuracy': 0.8553559974342527, 'precision': 0.8597228469881312, 'recall': 0.8553559974342527, 'f1-score': 0.8557876854297363, 'macro_f1-score': 0.8553368128902403, 'balanced_accuracy': 0.8420285393748697, 'mcc': 0.8217348517306802, 'train_loss': 0.36235725034909044}\n",
      "Epoch 3/20\n"
     ]
    },
    {
     "name": "stderr",
     "output_type": "stream",
     "text": [
      "100%|██████████| 2339/2339 [03:37<00:00, 10.76it/s]\n"
     ]
    },
    {
     "name": "stdout",
     "output_type": "stream",
     "text": [
      "{'val_loss': 0.48233924735910616, 'val_accuracy': 0.8407098567457773, 'precision': 0.8478227238069311, 'recall': 0.8407098567457773, 'f1-score': 0.839386100787628, 'macro_f1-score': 0.8397762553176568, 'balanced_accuracy': 0.8543243156299308, 'mcc': 0.8081859875357439, 'train_loss': 0.26842344680469754}\n",
      "Epoch 4/20\n"
     ]
    },
    {
     "name": "stderr",
     "output_type": "stream",
     "text": [
      "100%|██████████| 2339/2339 [03:36<00:00, 10.79it/s]\n"
     ]
    },
    {
     "name": "stdout",
     "output_type": "stream",
     "text": [
      "{'val_loss': 0.501723897504087, 'val_accuracy': 0.856425058798375, 'precision': 0.8593980822239062, 'recall': 0.856425058798375, 'f1-score': 0.8558878873288337, 'macro_f1-score': 0.858802772830457, 'balanced_accuracy': 0.8629224384641598, 'mcc': 0.8252012388517543, 'train_loss': 0.1849485740341109}\n",
      "Epoch 5/20\n"
     ]
    },
    {
     "name": "stderr",
     "output_type": "stream",
     "text": [
      "100%|██████████| 2339/2339 [03:37<00:00, 10.77it/s]\n"
     ]
    },
    {
     "name": "stdout",
     "output_type": "stream",
     "text": [
      "{'val_loss': 0.5894343055382721, 'val_accuracy': 0.8517211887962369, 'precision': 0.8532678401150083, 'recall': 0.8517211887962369, 'f1-score': 0.8516034944374593, 'macro_f1-score': 0.8546229052253329, 'balanced_accuracy': 0.8614350624527469, 'mcc': 0.8185105526228124, 'train_loss': 0.1344447031083814}\n",
      "Epoch 6/20\n"
     ]
    },
    {
     "name": "stderr",
     "output_type": "stream",
     "text": [
      "100%|██████████| 2339/2339 [03:37<00:00, 10.77it/s]\n"
     ]
    },
    {
     "name": "stdout",
     "output_type": "stream",
     "text": [
      "{'val_loss': 0.5740025498593847, 'val_accuracy': 0.8571734017532606, 'precision': 0.8615991946476466, 'recall': 0.8571734017532606, 'f1-score': 0.8569487507340038, 'macro_f1-score': 0.8591290671419395, 'balanced_accuracy': 0.8423291991436814, 'mcc': 0.823904796922437, 'train_loss': 0.10453669085051281}\n",
      "Epoch 7/20\n"
     ]
    },
    {
     "name": "stderr",
     "output_type": "stream",
     "text": [
      "100%|██████████| 2339/2339 [03:36<00:00, 10.78it/s]\n"
     ]
    },
    {
     "name": "stdout",
     "output_type": "stream",
     "text": [
      "{'val_loss': 0.628446195852091, 'val_accuracy': 0.8599529612999787, 'precision': 0.8603754382880909, 'recall': 0.8599529612999787, 'f1-score': 0.8598192917605506, 'macro_f1-score': 0.8547984698783357, 'balanced_accuracy': 0.8640834731449117, 'mcc': 0.8280359131709014, 'train_loss': 0.08703994348833545}\n",
      "Epoch 8/20\n"
     ]
    },
    {
     "name": "stderr",
     "output_type": "stream",
     "text": [
      "100%|██████████| 2339/2339 [03:36<00:00, 10.78it/s]\n"
     ]
    },
    {
     "name": "stdout",
     "output_type": "stream",
     "text": [
      "{'val_loss': 0.6693545338868871, 'val_accuracy': 0.8579217447081462, 'precision': 0.8589770406562325, 'recall': 0.8579217447081462, 'f1-score': 0.8579323301830135, 'macro_f1-score': 0.8583135007635944, 'balanced_accuracy': 0.8543043267234907, 'mcc': 0.824913520136123, 'train_loss': 0.07552754033739946}\n",
      "Epoch 9/20\n"
     ]
    },
    {
     "name": "stderr",
     "output_type": "stream",
     "text": [
      "100%|██████████| 2339/2339 [03:36<00:00, 10.78it/s]\n"
     ]
    },
    {
     "name": "stdout",
     "output_type": "stream",
     "text": [
      "{'val_loss': 0.6175970090338244, 'val_accuracy': 0.8566388710711995, 'precision': 0.8579519522704621, 'recall': 0.8566388710711995, 'f1-score': 0.8569425280687817, 'macro_f1-score': 0.8585385398119522, 'balanced_accuracy': 0.8568371922250844, 'mcc': 0.8237926080535211, 'train_loss': 0.06484151340440926}\n",
      "Early stopping.\n",
      "\n",
      " === bert-base-uncased + bilstm + none Final 5-fold Cross-Validation Results ===\n",
      "val_loss: 0.4772\n",
      "val_accuracy: 0.8631\n",
      "precision: 0.8656\n",
      "recall: 0.8631\n",
      "f1-score: 0.8631\n",
      "macro_f1-score: 0.8634\n",
      "balanced_accuracy: 0.8520\n",
      "mcc: 0.8313\n",
      "train_loss: 0.2091\n",
      "total_seconds: 8471.0000\n",
      "total_time: 2 hrs 21 mins 11 secs\n",
      "▶ Running: roberta-base + plain + none\n",
      "tokenizer is roberta-base\n",
      "Using device: cuda\n",
      "CUDA Available: True\n",
      "CUDA Device: NVIDIA GeForce RTX 5070 Ti\n",
      "Current GPU Memory Allocated: 0.02 GB\n",
      "Current GPU Memory Cached: 3.16 GB\n",
      "\n",
      "[Fold 1]\n",
      "Label distribution after resampling:\n",
      "  label 0: 5626\n",
      "  label 1: 1399\n",
      "  label 2: 8442\n",
      "  label 3: 10770\n",
      "  label 4: 1678\n",
      "  label 5: 5578\n",
      "  label 6: 1737\n",
      "  label 7: 2187\n",
      "model is roberta-base\n"
     ]
    },
    {
     "name": "stderr",
     "output_type": "stream",
     "text": [
      "Some weights of RobertaForSequenceClassification were not initialized from the model checkpoint at roberta-base and are newly initialized: ['classifier.dense.bias', 'classifier.dense.weight', 'classifier.out_proj.bias', 'classifier.out_proj.weight']\n",
      "You should probably TRAIN this model on a down-stream task to be able to use it for predictions and inference.\n"
     ]
    },
    {
     "name": "stdout",
     "output_type": "stream",
     "text": [
      "Epoch 1/20\n"
     ]
    },
    {
     "name": "stderr",
     "output_type": "stream",
     "text": [
      "100%|██████████| 2339/2339 [03:20<00:00, 11.67it/s]\n"
     ]
    },
    {
     "name": "stdout",
     "output_type": "stream",
     "text": [
      "{'val_loss': 0.4835129214148236, 'val_accuracy': 0.8362373062533405, 'precision': 0.8381077884283532, 'recall': 0.8362373062533405, 'f1-score': 0.835996364761207, 'macro_f1-score': 0.8345037408707805, 'balanced_accuracy': 0.818374709322144, 'mcc': 0.7978839282209894, 'train_loss': 0.6653392003445403}\n",
      "Epoch 2/20\n"
     ]
    },
    {
     "name": "stderr",
     "output_type": "stream",
     "text": [
      "100%|██████████| 2339/2339 [03:20<00:00, 11.67it/s]\n"
     ]
    },
    {
     "name": "stdout",
     "output_type": "stream",
     "text": [
      "{'val_loss': 0.44267448777826424, 'val_accuracy': 0.847461250668092, 'precision': 0.8538235012177824, 'recall': 0.847461250668092, 'f1-score': 0.8485598538416557, 'macro_f1-score': 0.8374468046968015, 'balanced_accuracy': 0.8688974210104067, 'mcc': 0.8146874965075244, 'train_loss': 0.4372268299858455}\n",
      "Epoch 3/20\n"
     ]
    },
    {
     "name": "stderr",
     "output_type": "stream",
     "text": [
      "100%|██████████| 2339/2339 [03:20<00:00, 11.67it/s]\n"
     ]
    },
    {
     "name": "stdout",
     "output_type": "stream",
     "text": [
      "{'val_loss': 0.418342874199152, 'val_accuracy': 0.861785141635489, 'precision': 0.8625295137004058, 'recall': 0.861785141635489, 'f1-score': 0.8618144137720969, 'macro_f1-score': 0.8577150395023214, 'balanced_accuracy': 0.8507727084880563, 'mcc': 0.8297901052364363, 'train_loss': 0.36127652374843583}\n",
      "Epoch 4/20\n"
     ]
    },
    {
     "name": "stderr",
     "output_type": "stream",
     "text": [
      "100%|██████████| 2339/2339 [03:20<00:00, 11.67it/s]\n"
     ]
    },
    {
     "name": "stdout",
     "output_type": "stream",
     "text": [
      "{'val_loss': 0.4773691778397586, 'val_accuracy': 0.8497060395510422, 'precision': 0.8560331328197645, 'recall': 0.8497060395510422, 'f1-score': 0.8499316876288873, 'macro_f1-score': 0.84109785401601, 'balanced_accuracy': 0.8700053315851544, 'mcc': 0.8182344672726024, 'train_loss': 0.2980316382318786}\n",
      "Epoch 5/20\n"
     ]
    },
    {
     "name": "stderr",
     "output_type": "stream",
     "text": [
      "100%|██████████| 2339/2339 [03:20<00:00, 11.67it/s]\n"
     ]
    },
    {
     "name": "stdout",
     "output_type": "stream",
     "text": [
      "{'val_loss': 0.4216649365476054, 'val_accuracy': 0.8710849812934259, 'precision': 0.8724128845357604, 'recall': 0.8710849812934259, 'f1-score': 0.8713981970628523, 'macro_f1-score': 0.866011202230968, 'balanced_accuracy': 0.8677378664975055, 'mcc': 0.8415134678654734, 'train_loss': 0.24123491547295411}\n",
      "Epoch 6/20\n"
     ]
    },
    {
     "name": "stderr",
     "output_type": "stream",
     "text": [
      "100%|██████████| 2339/2339 [03:20<00:00, 11.67it/s]\n"
     ]
    },
    {
     "name": "stdout",
     "output_type": "stream",
     "text": [
      "{'val_loss': 0.48409275274532726, 'val_accuracy': 0.8625334045964724, 'precision': 0.8635403752392721, 'recall': 0.8625334045964724, 'f1-score': 0.8624965704751862, 'macro_f1-score': 0.8616920087340043, 'balanced_accuracy': 0.8519745407307028, 'mcc': 0.8304988315046564, 'train_loss': 0.1939494196210469}\n",
      "Epoch 7/20\n"
     ]
    },
    {
     "name": "stderr",
     "output_type": "stream",
     "text": [
      "100%|██████████| 2339/2339 [03:20<00:00, 11.67it/s]\n"
     ]
    },
    {
     "name": "stdout",
     "output_type": "stream",
     "text": [
      "{'val_loss': 0.48771100732792394, 'val_accuracy': 0.863281667557456, 'precision': 0.8640635920380493, 'recall': 0.863281667557456, 'f1-score': 0.8635372683601225, 'macro_f1-score': 0.8600178504644921, 'balanced_accuracy': 0.8588000725669107, 'mcc': 0.8316253256301389, 'train_loss': 0.19344556998392204}\n",
      "Epoch 8/20\n"
     ]
    },
    {
     "name": "stderr",
     "output_type": "stream",
     "text": [
      "100%|██████████| 2339/2339 [03:20<00:00, 11.68it/s]\n"
     ]
    },
    {
     "name": "stdout",
     "output_type": "stream",
     "text": [
      "{'val_loss': 0.5804780311954136, 'val_accuracy': 0.8568679850347408, 'precision': 0.8662621361232417, 'recall': 0.8568679850347408, 'f1-score': 0.8573834608245957, 'macro_f1-score': 0.8554492193784013, 'balanced_accuracy': 0.8375154927897438, 'mcc': 0.8249244130971749, 'train_loss': 0.1353749353048408}\n",
      "Early stopping.\n",
      "\n",
      "[Fold 2]\n",
      "Label distribution after resampling:\n",
      "  label 0: 5626\n",
      "  label 1: 1400\n",
      "  label 2: 8442\n",
      "  label 3: 10770\n",
      "  label 4: 1678\n",
      "  label 5: 5578\n",
      "  label 6: 1737\n",
      "  label 7: 2186\n",
      "model is roberta-base\n"
     ]
    },
    {
     "name": "stderr",
     "output_type": "stream",
     "text": [
      "Some weights of RobertaForSequenceClassification were not initialized from the model checkpoint at roberta-base and are newly initialized: ['classifier.dense.bias', 'classifier.dense.weight', 'classifier.out_proj.bias', 'classifier.out_proj.weight']\n",
      "You should probably TRAIN this model on a down-stream task to be able to use it for predictions and inference.\n"
     ]
    },
    {
     "name": "stdout",
     "output_type": "stream",
     "text": [
      "Epoch 1/20\n"
     ]
    },
    {
     "name": "stderr",
     "output_type": "stream",
     "text": [
      "100%|██████████| 2339/2339 [03:20<00:00, 11.67it/s]\n"
     ]
    },
    {
     "name": "stdout",
     "output_type": "stream",
     "text": [
      "{'val_loss': 0.5302125894806833, 'val_accuracy': 0.8226616782469268, 'precision': 0.8254513948133151, 'recall': 0.8226616782469268, 'f1-score': 0.8217211921916607, 'macro_f1-score': 0.8203890861774736, 'balanced_accuracy': 0.8047221453331528, 'mcc': 0.7814571049366258, 'train_loss': 0.6745611163060882}\n",
      "Epoch 2/20\n"
     ]
    },
    {
     "name": "stderr",
     "output_type": "stream",
     "text": [
      "100%|██████████| 2339/2339 [03:20<00:00, 11.67it/s]\n"
     ]
    },
    {
     "name": "stdout",
     "output_type": "stream",
     "text": [
      "{'val_loss': 0.47701965332604374, 'val_accuracy': 0.8377338321753073, 'precision': 0.8432896208339875, 'recall': 0.8377338321753073, 'f1-score': 0.8382583016957392, 'macro_f1-score': 0.8339626018622408, 'balanced_accuracy': 0.8491164617871039, 'mcc': 0.8021309287016319, 'train_loss': 0.4307580856529119}\n",
      "Epoch 3/20\n"
     ]
    },
    {
     "name": "stderr",
     "output_type": "stream",
     "text": [
      "100%|██████████| 2339/2339 [03:20<00:00, 11.67it/s]\n"
     ]
    },
    {
     "name": "stdout",
     "output_type": "stream",
     "text": [
      "{'val_loss': 0.5594140051681007, 'val_accuracy': 0.8245857830037413, 'precision': 0.8354663572338065, 'recall': 0.8245857830037413, 'f1-score': 0.8229685365466612, 'macro_f1-score': 0.8223108836742667, 'balanced_accuracy': 0.823426779948591, 'mcc': 0.7884432491677914, 'train_loss': 0.346325327744592}\n",
      "Epoch 4/20\n"
     ]
    },
    {
     "name": "stderr",
     "output_type": "stream",
     "text": [
      "100%|██████████| 2339/2339 [03:20<00:00, 11.66it/s]\n"
     ]
    },
    {
     "name": "stdout",
     "output_type": "stream",
     "text": [
      "{'val_loss': 0.48827920244353956, 'val_accuracy': 0.8515232495991448, 'precision': 0.8542646532174015, 'recall': 0.8515232495991448, 'f1-score': 0.8517121370019588, 'macro_f1-score': 0.8525266797375426, 'balanced_accuracy': 0.8350523499488515, 'mcc': 0.8165339123410755, 'train_loss': 0.27970810720932765}\n",
      "Epoch 5/20\n"
     ]
    },
    {
     "name": "stderr",
     "output_type": "stream",
     "text": [
      "100%|██████████| 2339/2339 [03:20<00:00, 11.66it/s]\n"
     ]
    },
    {
     "name": "stdout",
     "output_type": "stream",
     "text": [
      "{'val_loss': 0.5253816947627526, 'val_accuracy': 0.8553714591127739, 'precision': 0.8560160700699482, 'recall': 0.8553714591127739, 'f1-score': 0.8551973671329913, 'macro_f1-score': 0.8527536010238717, 'balanced_accuracy': 0.8628568080711516, 'mcc': 0.8224625939991311, 'train_loss': 0.22754356018580135}\n",
      "Epoch 6/20\n"
     ]
    },
    {
     "name": "stderr",
     "output_type": "stream",
     "text": [
      "100%|██████████| 2339/2339 [03:20<00:00, 11.67it/s]\n"
     ]
    },
    {
     "name": "stdout",
     "output_type": "stream",
     "text": [
      "{'val_loss': 0.5770434265813003, 'val_accuracy': 0.8584714056654196, 'precision': 0.8586603619315034, 'recall': 0.8584714056654196, 'f1-score': 0.8581275994724988, 'macro_f1-score': 0.8592345428038499, 'balanced_accuracy': 0.8571271560890231, 'mcc': 0.826181336813754, 'train_loss': 0.17475499032350364}\n",
      "Epoch 7/20\n"
     ]
    },
    {
     "name": "stderr",
     "output_type": "stream",
     "text": [
      "100%|██████████| 2339/2339 [03:20<00:00, 11.67it/s]\n"
     ]
    },
    {
     "name": "stdout",
     "output_type": "stream",
     "text": [
      "{'val_loss': 0.6169184808109879, 'val_accuracy': 0.8497060395510422, 'precision': 0.8512580049447077, 'recall': 0.8497060395510422, 'f1-score': 0.8495533991480752, 'macro_f1-score': 0.8530437908526385, 'balanced_accuracy': 0.8494304804671375, 'mcc': 0.8151383231970941, 'train_loss': 0.14642740140550392}\n",
      "Epoch 8/20\n"
     ]
    },
    {
     "name": "stderr",
     "output_type": "stream",
     "text": [
      "100%|██████████| 2339/2339 [03:20<00:00, 11.68it/s]\n"
     ]
    },
    {
     "name": "stdout",
     "output_type": "stream",
     "text": [
      "{'val_loss': 0.7001752007060135, 'val_accuracy': 0.8422234099412079, 'precision': 0.8445636626468799, 'recall': 0.8422234099412079, 'f1-score': 0.8416943191991817, 'macro_f1-score': 0.8405286148747847, 'balanced_accuracy': 0.8577311932087536, 'mcc': 0.8076309287168187, 'train_loss': 0.12303177673577094}\n",
      "Epoch 9/20\n"
     ]
    },
    {
     "name": "stderr",
     "output_type": "stream",
     "text": [
      "100%|██████████| 2339/2339 [03:20<00:00, 11.67it/s]\n"
     ]
    },
    {
     "name": "stdout",
     "output_type": "stream",
     "text": [
      "{'val_loss': 0.6953114924534487, 'val_accuracy': 0.8501336183858899, 'precision': 0.8508405205831362, 'recall': 0.8501336183858899, 'f1-score': 0.8498450428652758, 'macro_f1-score': 0.8465959507998392, 'balanced_accuracy': 0.8557367656635686, 'mcc': 0.8161071900725352, 'train_loss': 0.10928979515501781}\n",
      "Early stopping.\n",
      "\n",
      "[Fold 3]\n",
      "Label distribution after resampling:\n",
      "  label 0: 5626\n",
      "  label 1: 1399\n",
      "  label 2: 8442\n",
      "  label 3: 10770\n",
      "  label 4: 1679\n",
      "  label 5: 5578\n",
      "  label 6: 1738\n",
      "  label 7: 2186\n",
      "model is roberta-base\n"
     ]
    },
    {
     "name": "stderr",
     "output_type": "stream",
     "text": [
      "Some weights of RobertaForSequenceClassification were not initialized from the model checkpoint at roberta-base and are newly initialized: ['classifier.dense.bias', 'classifier.dense.weight', 'classifier.out_proj.bias', 'classifier.out_proj.weight']\n",
      "You should probably TRAIN this model on a down-stream task to be able to use it for predictions and inference.\n"
     ]
    },
    {
     "name": "stdout",
     "output_type": "stream",
     "text": [
      "Epoch 1/20\n"
     ]
    },
    {
     "name": "stderr",
     "output_type": "stream",
     "text": [
      "100%|██████████| 2339/2339 [03:20<00:00, 11.67it/s]\n"
     ]
    },
    {
     "name": "stdout",
     "output_type": "stream",
     "text": [
      "{'val_loss': 0.45909968389150424, 'val_accuracy': 0.8462689758392131, 'precision': 0.8485438752803692, 'recall': 0.8462689758392131, 'f1-score': 0.8464102182996366, 'macro_f1-score': 0.8403228438163683, 'balanced_accuracy': 0.8435189260099266, 'mcc': 0.8112610129118042, 'train_loss': 0.6737952832580122}\n",
      "Epoch 2/20\n"
     ]
    },
    {
     "name": "stderr",
     "output_type": "stream",
     "text": [
      "100%|██████████| 2339/2339 [03:20<00:00, 11.66it/s]\n"
     ]
    },
    {
     "name": "stdout",
     "output_type": "stream",
     "text": [
      "{'val_loss': 0.443581087836343, 'val_accuracy': 0.8566388710711995, 'precision': 0.8648189272457892, 'recall': 0.8566388710711995, 'f1-score': 0.8555178886907437, 'macro_f1-score': 0.8518489872835175, 'balanced_accuracy': 0.8188826992966345, 'mcc': 0.8232233442602405, 'train_loss': 0.4285026428382485}\n",
      "Epoch 3/20\n"
     ]
    },
    {
     "name": "stderr",
     "output_type": "stream",
     "text": [
      "100%|██████████| 2339/2339 [03:22<00:00, 11.54it/s]\n"
     ]
    },
    {
     "name": "stdout",
     "output_type": "stream",
     "text": [
      "{'val_loss': 0.41601479646996553, 'val_accuracy': 0.8543938422065427, 'precision': 0.8598883030968302, 'recall': 0.8543938422065427, 'f1-score': 0.8546999417248374, 'macro_f1-score': 0.8566082159110907, 'balanced_accuracy': 0.8459854989131583, 'mcc': 0.8210367437275973, 'train_loss': 0.34928529400198494}\n",
      "Epoch 4/20\n"
     ]
    },
    {
     "name": "stderr",
     "output_type": "stream",
     "text": [
      "100%|██████████| 2339/2339 [03:22<00:00, 11.53it/s]\n"
     ]
    },
    {
     "name": "stdout",
     "output_type": "stream",
     "text": [
      "{'val_loss': 0.44016538632667473, 'val_accuracy': 0.8660466110754758, 'precision': 0.866970720505154, 'recall': 0.8660466110754758, 'f1-score': 0.8659794063669694, 'macro_f1-score': 0.8628581920423881, 'balanced_accuracy': 0.8673369322834756, 'mcc': 0.8357380774736463, 'train_loss': 0.2979147062352618}\n",
      "Epoch 5/20\n"
     ]
    },
    {
     "name": "stderr",
     "output_type": "stream",
     "text": [
      "100%|██████████| 2339/2339 [03:23<00:00, 11.52it/s]\n"
     ]
    },
    {
     "name": "stdout",
     "output_type": "stream",
     "text": [
      "{'val_loss': 0.4389918198168246, 'val_accuracy': 0.8676502031216592, 'precision': 0.8693417654355666, 'recall': 0.8676502031216592, 'f1-score': 0.8677980686097587, 'macro_f1-score': 0.8629165823891842, 'balanced_accuracy': 0.8672678751551468, 'mcc': 0.8377582233116097, 'train_loss': 0.22958096996102642}\n",
      "Epoch 6/20\n"
     ]
    },
    {
     "name": "stderr",
     "output_type": "stream",
     "text": [
      "100%|██████████| 2339/2339 [03:23<00:00, 11.49it/s]\n"
     ]
    },
    {
     "name": "stdout",
     "output_type": "stream",
     "text": [
      "{'val_loss': 0.4466412650186441, 'val_accuracy': 0.8690399828950182, 'precision': 0.869989292889945, 'recall': 0.8690399828950182, 'f1-score': 0.8691666188906468, 'macro_f1-score': 0.8641328841552808, 'balanced_accuracy': 0.8761144180079753, 'mcc': 0.8394691824075353, 'train_loss': 0.1869552478554781}\n",
      "Epoch 7/20\n"
     ]
    },
    {
     "name": "stderr",
     "output_type": "stream",
     "text": [
      "100%|██████████| 2339/2339 [03:23<00:00, 11.50it/s]\n"
     ]
    },
    {
     "name": "stdout",
     "output_type": "stream",
     "text": [
      "{'val_loss': 0.4843626329173835, 'val_accuracy': 0.8649775497113534, 'precision': 0.8682164406654669, 'recall': 0.8649775497113534, 'f1-score': 0.8654762866472684, 'macro_f1-score': 0.8592980436042434, 'balanced_accuracy': 0.8697610205202562, 'mcc': 0.834989754513081, 'train_loss': 0.16048448796523596}\n",
      "Epoch 8/20\n"
     ]
    },
    {
     "name": "stderr",
     "output_type": "stream",
     "text": [
      "100%|██████████| 2339/2339 [03:23<00:00, 11.52it/s]\n"
     ]
    },
    {
     "name": "stdout",
     "output_type": "stream",
     "text": [
      "{'val_loss': 0.570421745089822, 'val_accuracy': 0.8620910840282232, 'precision': 0.862350898182167, 'recall': 0.8620910840282232, 'f1-score': 0.8617063542750504, 'macro_f1-score': 0.8575054310178412, 'balanced_accuracy': 0.8617614549249493, 'mcc': 0.8308926594455198, 'train_loss': 0.1274185174842301}\n",
      "Epoch 9/20\n"
     ]
    },
    {
     "name": "stderr",
     "output_type": "stream",
     "text": [
      "100%|██████████| 2339/2339 [03:23<00:00, 11.51it/s]\n"
     ]
    },
    {
     "name": "stdout",
     "output_type": "stream",
     "text": [
      "{'val_loss': 0.5804567467656114, 'val_accuracy': 0.8646568313021168, 'precision': 0.865934905228827, 'recall': 0.8646568313021168, 'f1-score': 0.8646167455899969, 'macro_f1-score': 0.8600052854846956, 'balanced_accuracy': 0.8518608044900172, 'mcc': 0.8331622360506258, 'train_loss': 0.10876855108064336}\n",
      "Early stopping.\n",
      "\n",
      "[Fold 4]\n",
      "Label distribution after resampling:\n",
      "  label 0: 5625\n",
      "  label 1: 1399\n",
      "  label 2: 8441\n",
      "  label 3: 10771\n",
      "  label 4: 1679\n",
      "  label 5: 5579\n",
      "  label 6: 1738\n",
      "  label 7: 2186\n",
      "model is roberta-base\n"
     ]
    },
    {
     "name": "stderr",
     "output_type": "stream",
     "text": [
      "Some weights of RobertaForSequenceClassification were not initialized from the model checkpoint at roberta-base and are newly initialized: ['classifier.dense.bias', 'classifier.dense.weight', 'classifier.out_proj.bias', 'classifier.out_proj.weight']\n",
      "You should probably TRAIN this model on a down-stream task to be able to use it for predictions and inference.\n"
     ]
    },
    {
     "name": "stdout",
     "output_type": "stream",
     "text": [
      "Epoch 1/20\n"
     ]
    },
    {
     "name": "stderr",
     "output_type": "stream",
     "text": [
      "100%|██████████| 2339/2339 [03:23<00:00, 11.51it/s]\n"
     ]
    },
    {
     "name": "stdout",
     "output_type": "stream",
     "text": [
      "{'val_loss': 0.4995759882223912, 'val_accuracy': 0.8353645499251657, 'precision': 0.8444204283258941, 'recall': 0.8353645499251657, 'f1-score': 0.8362409766683028, 'macro_f1-score': 0.8370999815118855, 'balanced_accuracy': 0.8283647776057133, 'mcc': 0.7981819119698379, 'train_loss': 0.643788608467161}\n",
      "Epoch 2/20\n"
     ]
    },
    {
     "name": "stderr",
     "output_type": "stream",
     "text": [
      "100%|██████████| 2339/2339 [03:23<00:00, 11.51it/s]\n"
     ]
    },
    {
     "name": "stdout",
     "output_type": "stream",
     "text": [
      "{'val_loss': 0.4301393690972756, 'val_accuracy': 0.8603805858456275, 'precision': 0.8605428259449611, 'recall': 0.8603805858456275, 'f1-score': 0.8602744393154366, 'macro_f1-score': 0.8599674145444403, 'balanced_accuracy': 0.8652161744958141, 'mcc': 0.8285662537407846, 'train_loss': 0.43298762659898626}\n",
      "Epoch 3/20\n"
     ]
    },
    {
     "name": "stderr",
     "output_type": "stream",
     "text": [
      "100%|██████████| 2339/2339 [03:24<00:00, 11.46it/s]\n"
     ]
    },
    {
     "name": "stdout",
     "output_type": "stream",
     "text": [
      "{'val_loss': 0.4194608953391385, 'val_accuracy': 0.8550352790250161, 'precision': 0.8595682327229567, 'recall': 0.8550352790250161, 'f1-score': 0.8552961801857378, 'macro_f1-score': 0.8520603866104703, 'balanced_accuracy': 0.8539888467706074, 'mcc': 0.8218106360041444, 'train_loss': 0.3559040913096334}\n",
      "Epoch 4/20\n"
     ]
    },
    {
     "name": "stderr",
     "output_type": "stream",
     "text": [
      "100%|██████████| 2339/2339 [03:23<00:00, 11.47it/s]\n"
     ]
    },
    {
     "name": "stdout",
     "output_type": "stream",
     "text": [
      "{'val_loss': 0.43531338423968124, 'val_accuracy': 0.8667949540303613, 'precision': 0.8675075151283915, 'recall': 0.8667949540303613, 'f1-score': 0.8667206533131172, 'macro_f1-score': 0.8676714130728558, 'balanced_accuracy': 0.8673447874327821, 'mcc': 0.8364275894432447, 'train_loss': 0.2889629281749101}\n",
      "Epoch 5/20\n"
     ]
    },
    {
     "name": "stderr",
     "output_type": "stream",
     "text": [
      "100%|██████████| 2339/2339 [03:23<00:00, 11.48it/s]\n"
     ]
    },
    {
     "name": "stdout",
     "output_type": "stream",
     "text": [
      "{'val_loss': 0.51318165559449, 'val_accuracy': 0.8594184306179175, 'precision': 0.8607054289327329, 'recall': 0.8594184306179175, 'f1-score': 0.8591684031921645, 'macro_f1-score': 0.858221117848299, 'balanced_accuracy': 0.8679258725209277, 'mcc': 0.8282895438477635, 'train_loss': 0.23255691287940342}\n",
      "Epoch 6/20\n"
     ]
    },
    {
     "name": "stderr",
     "output_type": "stream",
     "text": [
      "100%|██████████| 2339/2339 [03:25<00:00, 11.40it/s]\n"
     ]
    },
    {
     "name": "stdout",
     "output_type": "stream",
     "text": [
      "{'val_loss': 0.513995640940614, 'val_accuracy': 0.8613427410733376, 'precision': 0.8635492545135033, 'recall': 0.8613427410733376, 'f1-score': 0.8619542728344771, 'macro_f1-score': 0.8610099005538927, 'balanced_accuracy': 0.8687437428052015, 'mcc': 0.8299018216618131, 'train_loss': 0.18910091890544958}\n",
      "Epoch 7/20\n"
     ]
    },
    {
     "name": "stderr",
     "output_type": "stream",
     "text": [
      "100%|██████████| 2339/2339 [03:23<00:00, 11.51it/s]\n"
     ]
    },
    {
     "name": "stdout",
     "output_type": "stream",
     "text": [
      "{'val_loss': 0.5453371935348926, 'val_accuracy': 0.856425058798375, 'precision': 0.8642157533379468, 'recall': 0.856425058798375, 'f1-score': 0.8567359159894812, 'macro_f1-score': 0.8603157469975439, 'balanced_accuracy': 0.8383195589710395, 'mcc': 0.8235178074349547, 'train_loss': 0.15406665608855047}\n",
      "Early stopping.\n",
      "\n",
      "[Fold 5]\n",
      "Label distribution after resampling:\n",
      "  label 0: 5625\n",
      "  label 1: 1399\n",
      "  label 2: 8441\n",
      "  label 3: 10771\n",
      "  label 4: 1678\n",
      "  label 5: 5579\n",
      "  label 6: 1738\n",
      "  label 7: 2187\n",
      "model is roberta-base\n"
     ]
    },
    {
     "name": "stderr",
     "output_type": "stream",
     "text": [
      "Some weights of RobertaForSequenceClassification were not initialized from the model checkpoint at roberta-base and are newly initialized: ['classifier.dense.bias', 'classifier.dense.weight', 'classifier.out_proj.bias', 'classifier.out_proj.weight']\n",
      "You should probably TRAIN this model on a down-stream task to be able to use it for predictions and inference.\n"
     ]
    },
    {
     "name": "stdout",
     "output_type": "stream",
     "text": [
      "Epoch 1/20\n"
     ]
    },
    {
     "name": "stderr",
     "output_type": "stream",
     "text": [
      "100%|██████████| 2339/2339 [03:24<00:00, 11.46it/s]\n"
     ]
    },
    {
     "name": "stdout",
     "output_type": "stream",
     "text": [
      "{'val_loss': 0.554791114342391, 'val_accuracy': 0.8227496258285225, 'precision': 0.8311472541362269, 'recall': 0.8227496258285225, 'f1-score': 0.8208353804564709, 'macro_f1-score': 0.824867307660139, 'balanced_accuracy': 0.847504188511099, 'mcc': 0.7870469784708396, 'train_loss': 0.6602726112422066}\n",
      "Epoch 2/20\n"
     ]
    },
    {
     "name": "stderr",
     "output_type": "stream",
     "text": [
      "100%|██████████| 2339/2339 [03:23<00:00, 11.49it/s]\n"
     ]
    },
    {
     "name": "stdout",
     "output_type": "stream",
     "text": [
      "{'val_loss': 0.46871070102111906, 'val_accuracy': 0.8440239469745563, 'precision': 0.8464625631693612, 'recall': 0.8440239469745563, 'f1-score': 0.8441782372445176, 'macro_f1-score': 0.8438774523453745, 'balanced_accuracy': 0.8406903358472826, 'mcc': 0.8083331007381986, 'train_loss': 0.43190348028416764}\n",
      "Epoch 3/20\n"
     ]
    },
    {
     "name": "stderr",
     "output_type": "stream",
     "text": [
      "100%|██████████| 2339/2339 [03:24<00:00, 11.46it/s]\n"
     ]
    },
    {
     "name": "stdout",
     "output_type": "stream",
     "text": [
      "{'val_loss': 0.4407143097243503, 'val_accuracy': 0.8507590335685268, 'precision': 0.8551284925908582, 'recall': 0.8507590335685268, 'f1-score': 0.8512524460150352, 'macro_f1-score': 0.846403454946727, 'balanced_accuracy': 0.8409285267770663, 'mcc': 0.8167246815583842, 'train_loss': 0.3535268430101561}\n",
      "Epoch 4/20\n"
     ]
    },
    {
     "name": "stderr",
     "output_type": "stream",
     "text": [
      "100%|██████████| 2339/2339 [03:24<00:00, 11.43it/s]\n"
     ]
    },
    {
     "name": "stdout",
     "output_type": "stream",
     "text": [
      "{'val_loss': 0.48909020458594854, 'val_accuracy': 0.8538593115244815, 'precision': 0.8572479581390622, 'recall': 0.8538593115244815, 'f1-score': 0.853414902587962, 'macro_f1-score': 0.8469840181840469, 'balanced_accuracy': 0.8363471096462429, 'mcc': 0.8195852715665993, 'train_loss': 0.28851167436740105}\n",
      "Epoch 5/20\n"
     ]
    },
    {
     "name": "stderr",
     "output_type": "stream",
     "text": [
      "100%|██████████| 2339/2339 [03:23<00:00, 11.51it/s]\n"
     ]
    },
    {
     "name": "stdout",
     "output_type": "stream",
     "text": [
      "{'val_loss': 0.4528492510700837, 'val_accuracy': 0.8561043403891383, 'precision': 0.8579092408633703, 'recall': 0.8561043403891383, 'f1-score': 0.8562156947671328, 'macro_f1-score': 0.8569440633655304, 'balanced_accuracy': 0.8491781606721607, 'mcc': 0.8227542810221339, 'train_loss': 0.2410715045481076}\n",
      "Epoch 6/20\n"
     ]
    },
    {
     "name": "stderr",
     "output_type": "stream",
     "text": [
      "100%|██████████| 2339/2339 [03:23<00:00, 11.47it/s]\n"
     ]
    },
    {
     "name": "stdout",
     "output_type": "stream",
     "text": [
      "{'val_loss': 0.5887133247879708, 'val_accuracy': 0.8454137267479154, 'precision': 0.854579341304465, 'recall': 0.8454137267479154, 'f1-score': 0.8453230436237512, 'macro_f1-score': 0.8465210961861548, 'balanced_accuracy': 0.8648696986661151, 'mcc': 0.8138983440797524, 'train_loss': 0.19730864394461722}\n",
      "Epoch 7/20\n"
     ]
    },
    {
     "name": "stderr",
     "output_type": "stream",
     "text": [
      "100%|██████████| 2339/2339 [03:24<00:00, 11.46it/s]\n"
     ]
    },
    {
     "name": "stdout",
     "output_type": "stream",
     "text": [
      "{'val_loss': 0.5410916854340869, 'val_accuracy': 0.8548214667521916, 'precision': 0.8574603280147017, 'recall': 0.8548214667521916, 'f1-score': 0.8550609598204272, 'macro_f1-score': 0.8574167043263399, 'balanced_accuracy': 0.8429474900164943, 'mcc': 0.8208628825367562, 'train_loss': 0.1637923168257363}\n",
      "Epoch 8/20\n"
     ]
    },
    {
     "name": "stderr",
     "output_type": "stream",
     "text": [
      "100%|██████████| 2339/2339 [03:24<00:00, 11.45it/s]\n"
     ]
    },
    {
     "name": "stdout",
     "output_type": "stream",
     "text": [
      "{'val_loss': 0.6316310092289414, 'val_accuracy': 0.852255719478298, 'precision': 0.8560842892242955, 'recall': 0.852255719478298, 'f1-score': 0.8526311227729975, 'macro_f1-score': 0.8469663391766882, 'balanced_accuracy': 0.8675260731332215, 'mcc': 0.8199565286272115, 'train_loss': 0.1430913517251113}\n",
      "Epoch 9/20\n"
     ]
    },
    {
     "name": "stderr",
     "output_type": "stream",
     "text": [
      "100%|██████████| 2339/2339 [03:23<00:00, 11.51it/s]\n"
     ]
    },
    {
     "name": "stdout",
     "output_type": "stream",
     "text": [
      "{'val_loss': 0.6831349297743052, 'val_accuracy': 0.8460551635663887, 'precision': 0.852586913944917, 'recall': 0.8460551635663887, 'f1-score': 0.8464740127659457, 'macro_f1-score': 0.8425224993818714, 'balanced_accuracy': 0.8610556667753322, 'mcc': 0.8132784583561796, 'train_loss': 0.1304834066025551}\n",
      "Epoch 10/20\n"
     ]
    },
    {
     "name": "stderr",
     "output_type": "stream",
     "text": [
      "100%|██████████| 2339/2339 [03:23<00:00, 11.51it/s]\n"
     ]
    },
    {
     "name": "stdout",
     "output_type": "stream",
     "text": [
      "{'val_loss': 0.6547531971154719, 'val_accuracy': 0.8552490912978405, 'precision': 0.8562510208971231, 'recall': 0.8552490912978405, 'f1-score': 0.8552188902821894, 'macro_f1-score': 0.8569390268007012, 'balanced_accuracy': 0.859837410223415, 'mcc': 0.8224396980850407, 'train_loss': 0.10608810064799537}\n",
      "Early stopping.\n",
      "\n",
      " === roberta-base + plain + none Final 5-fold Cross-Validation Results ===\n",
      "val_loss: 0.4844\n",
      "val_accuracy: 0.8640\n",
      "precision: 0.8652\n",
      "recall: 0.8640\n",
      "f1-score: 0.8641\n",
      "macro_f1-score: 0.8629\n",
      "balanced_accuracy: 0.8623\n",
      "mcc: 0.8329\n",
      "train_loss: 0.2111\n",
      "total_seconds: 9621.0000\n",
      "total_time: 2 hrs 40 mins 21 secs\n",
      "▶ Running: roberta-base + cnn + none\n",
      "tokenizer is roberta-base\n",
      "Using device: cuda\n",
      "CUDA Available: True\n",
      "CUDA Device: NVIDIA GeForce RTX 5070 Ti\n",
      "Current GPU Memory Allocated: 0.02 GB\n",
      "Current GPU Memory Cached: 3.93 GB\n",
      "\n",
      "[Fold 1]\n",
      "Label distribution after resampling:\n",
      "  label 0: 5626\n",
      "  label 1: 1399\n",
      "  label 2: 8442\n",
      "  label 3: 10770\n",
      "  label 4: 1678\n",
      "  label 5: 5578\n",
      "  label 6: 1737\n",
      "  label 7: 2187\n",
      "model is roberta-base cnn\n"
     ]
    },
    {
     "name": "stderr",
     "output_type": "stream",
     "text": [
      "Some weights of RobertaModel were not initialized from the model checkpoint at roberta-base and are newly initialized: ['pooler.dense.bias', 'pooler.dense.weight']\n",
      "You should probably TRAIN this model on a down-stream task to be able to use it for predictions and inference.\n"
     ]
    },
    {
     "name": "stdout",
     "output_type": "stream",
     "text": [
      "Epoch 1/20\n"
     ]
    },
    {
     "name": "stderr",
     "output_type": "stream",
     "text": [
      "100%|██████████| 2339/2339 [03:27<00:00, 11.29it/s]\n"
     ]
    },
    {
     "name": "stdout",
     "output_type": "stream",
     "text": [
      "{'val_loss': 0.5275845929980278, 'val_accuracy': 0.826296098343132, 'precision': 0.8309641369158279, 'recall': 0.826296098343132, 'f1-score': 0.825861937781848, 'macro_f1-score': 0.8212002801297797, 'balanced_accuracy': 0.8122004030268732, 'mcc': 0.7874653516720758, 'train_loss': 0.7445833087779737}\n",
      "Epoch 2/20\n"
     ]
    },
    {
     "name": "stderr",
     "output_type": "stream",
     "text": [
      "100%|██████████| 2339/2339 [03:27<00:00, 11.25it/s]\n"
     ]
    },
    {
     "name": "stdout",
     "output_type": "stream",
     "text": [
      "{'val_loss': 0.45304869959751765, 'val_accuracy': 0.8536611437733832, 'precision': 0.8554672384289597, 'recall': 0.8536611437733832, 'f1-score': 0.8535714361367457, 'macro_f1-score': 0.851107788342976, 'balanced_accuracy': 0.8621292200790609, 'mcc': 0.8207527087025291, 'train_loss': 0.45877769185837747}\n",
      "Epoch 3/20\n"
     ]
    },
    {
     "name": "stderr",
     "output_type": "stream",
     "text": [
      "100%|██████████| 2339/2339 [03:27<00:00, 11.29it/s]\n"
     ]
    },
    {
     "name": "stdout",
     "output_type": "stream",
     "text": [
      "{'val_loss': 0.45525929033119455, 'val_accuracy': 0.8502405130946018, 'precision': 0.8575721611660757, 'recall': 0.8502405130946018, 'f1-score': 0.8501258889005947, 'macro_f1-score': 0.8427473213510106, 'balanced_accuracy': 0.8242557412056434, 'mcc': 0.8159231108243826, 'train_loss': 0.39574315690313233}\n",
      "Epoch 4/20\n"
     ]
    },
    {
     "name": "stderr",
     "output_type": "stream",
     "text": [
      "100%|██████████| 2339/2339 [03:27<00:00, 11.27it/s]\n"
     ]
    },
    {
     "name": "stdout",
     "output_type": "stream",
     "text": [
      "{'val_loss': 0.43220750167329086, 'val_accuracy': 0.8536611437733832, 'precision': 0.859429199075421, 'recall': 0.8536611437733832, 'f1-score': 0.8530235460080349, 'macro_f1-score': 0.8512509663184106, 'balanced_accuracy': 0.8415431400448482, 'mcc': 0.8206078959635484, 'train_loss': 0.3472099459724913}\n",
      "Epoch 5/20\n"
     ]
    },
    {
     "name": "stderr",
     "output_type": "stream",
     "text": [
      "100%|██████████| 2339/2339 [03:27<00:00, 11.28it/s]\n"
     ]
    },
    {
     "name": "stdout",
     "output_type": "stream",
     "text": [
      "{'val_loss': 0.4236142935661169, 'val_accuracy': 0.8664885088188135, 'precision': 0.8685535803486567, 'recall': 0.8664885088188135, 'f1-score': 0.8665086864082138, 'macro_f1-score': 0.8637112718097185, 'balanced_accuracy': 0.8503216256625863, 'mcc': 0.8356843796976358, 'train_loss': 0.2982979166598584}\n",
      "Epoch 6/20\n"
     ]
    },
    {
     "name": "stderr",
     "output_type": "stream",
     "text": [
      "100%|██████████| 2339/2339 [03:27<00:00, 11.27it/s]\n"
     ]
    },
    {
     "name": "stdout",
     "output_type": "stream",
     "text": [
      "{'val_loss': 0.4419613317928763, 'val_accuracy': 0.8672367717797969, 'precision': 0.86850105296266, 'recall': 0.8672367717797969, 'f1-score': 0.8674594367535218, 'macro_f1-score': 0.8652733295637811, 'balanced_accuracy': 0.8527299822672907, 'mcc': 0.8361415644408956, 'train_loss': 0.25715860857458267}\n",
      "Epoch 7/20\n"
     ]
    },
    {
     "name": "stderr",
     "output_type": "stream",
     "text": [
      "100%|██████████| 2339/2339 [03:27<00:00, 11.28it/s]\n"
     ]
    },
    {
     "name": "stdout",
     "output_type": "stream",
     "text": [
      "{'val_loss': 0.43753448696727426, 'val_accuracy': 0.8667022982362373, 'precision': 0.8672945919686035, 'recall': 0.8667022982362373, 'f1-score': 0.8667484825277082, 'macro_f1-score': 0.8639130315443709, 'balanced_accuracy': 0.8613534461708328, 'mcc': 0.8360237646619437, 'train_loss': 0.22432721003063036}\n",
      "Epoch 8/20\n"
     ]
    },
    {
     "name": "stderr",
     "output_type": "stream",
     "text": [
      "100%|██████████| 2339/2339 [03:27<00:00, 11.27it/s]\n"
     ]
    },
    {
     "name": "stdout",
     "output_type": "stream",
     "text": [
      "{'val_loss': 0.4574370860050504, 'val_accuracy': 0.8676643506146445, 'precision': 0.868581763127006, 'recall': 0.8676643506146445, 'f1-score': 0.8678960038781974, 'macro_f1-score': 0.8628923810170737, 'balanced_accuracy': 0.8708908790086708, 'mcc': 0.8374554798751146, 'train_loss': 0.19506839912095278}\n",
      "Epoch 9/20\n"
     ]
    },
    {
     "name": "stderr",
     "output_type": "stream",
     "text": [
      "100%|██████████| 2339/2339 [03:27<00:00, 11.29it/s]\n"
     ]
    },
    {
     "name": "stdout",
     "output_type": "stream",
     "text": [
      "{'val_loss': 0.5141545521449616, 'val_accuracy': 0.8582576162479957, 'precision': 0.8621411268326838, 'recall': 0.8582576162479957, 'f1-score': 0.8587094377510424, 'macro_f1-score': 0.8544167813720338, 'balanced_accuracy': 0.8600234237555635, 'mcc': 0.8270095744149176, 'train_loss': 0.168243280941419}\n",
      "Early stopping.\n",
      "\n",
      "[Fold 2]\n",
      "Label distribution after resampling:\n",
      "  label 0: 5626\n",
      "  label 1: 1400\n",
      "  label 2: 8442\n",
      "  label 3: 10770\n",
      "  label 4: 1678\n",
      "  label 5: 5578\n",
      "  label 6: 1737\n",
      "  label 7: 2186\n",
      "model is roberta-base cnn\n"
     ]
    },
    {
     "name": "stderr",
     "output_type": "stream",
     "text": [
      "Some weights of RobertaModel were not initialized from the model checkpoint at roberta-base and are newly initialized: ['pooler.dense.bias', 'pooler.dense.weight']\n",
      "You should probably TRAIN this model on a down-stream task to be able to use it for predictions and inference.\n"
     ]
    },
    {
     "name": "stdout",
     "output_type": "stream",
     "text": [
      "Epoch 1/20\n"
     ]
    },
    {
     "name": "stderr",
     "output_type": "stream",
     "text": [
      "100%|██████████| 2339/2339 [03:27<00:00, 11.28it/s]\n"
     ]
    },
    {
     "name": "stdout",
     "output_type": "stream",
     "text": [
      "{'val_loss': 0.5386748364529549, 'val_accuracy': 0.8226616782469268, 'precision': 0.8277911718121332, 'recall': 0.8226616782469268, 'f1-score': 0.8220782212742961, 'macro_f1-score': 0.8146338580290757, 'balanced_accuracy': 0.8123280507248366, 'mcc': 0.7817723665472356, 'train_loss': 0.6732826450662054}\n",
      "Epoch 2/20\n"
     ]
    },
    {
     "name": "stderr",
     "output_type": "stream",
     "text": [
      "100%|██████████| 2339/2339 [03:28<00:00, 11.23it/s]\n"
     ]
    },
    {
     "name": "stdout",
     "output_type": "stream",
     "text": [
      "{'val_loss': 0.49271987263972944, 'val_accuracy': 0.8467129877071085, 'precision': 0.8481120421725542, 'recall': 0.8467129877071085, 'f1-score': 0.8455873128520462, 'macro_f1-score': 0.8421993402911442, 'balanced_accuracy': 0.8315689459812248, 'mcc': 0.8113894376095276, 'train_loss': 0.4548973300975643}\n",
      "Epoch 3/20\n"
     ]
    },
    {
     "name": "stderr",
     "output_type": "stream",
     "text": [
      "100%|██████████| 2339/2339 [03:27<00:00, 11.27it/s]\n"
     ]
    },
    {
     "name": "stdout",
     "output_type": "stream",
     "text": [
      "{'val_loss': 0.446234295450342, 'val_accuracy': 0.8491715660074827, 'precision': 0.8508154797242902, 'recall': 0.8491715660074827, 'f1-score': 0.8488026312935624, 'macro_f1-score': 0.8506666375985452, 'balanced_accuracy': 0.8529733072155452, 'mcc': 0.8145310840182874, 'train_loss': 0.3776506440138246}\n",
      "Epoch 4/20\n"
     ]
    },
    {
     "name": "stderr",
     "output_type": "stream",
     "text": [
      "100%|██████████| 2339/2339 [03:27<00:00, 11.28it/s]\n"
     ]
    },
    {
     "name": "stdout",
     "output_type": "stream",
     "text": [
      "{'val_loss': 0.4349516683377517, 'val_accuracy': 0.8502405130946018, 'precision': 0.8528009254186357, 'recall': 0.8502405130946018, 'f1-score': 0.8500342738482028, 'macro_f1-score': 0.848420645228632, 'balanced_accuracy': 0.8537551326934854, 'mcc': 0.8170258188922658, 'train_loss': 0.3127626527726727}\n",
      "Epoch 5/20\n"
     ]
    },
    {
     "name": "stderr",
     "output_type": "stream",
     "text": [
      "100%|██████████| 2339/2339 [03:27<00:00, 11.27it/s]\n"
     ]
    },
    {
     "name": "stdout",
     "output_type": "stream",
     "text": [
      "{'val_loss': 0.4576991736156564, 'val_accuracy': 0.8563335114911812, 'precision': 0.8584130299899339, 'recall': 0.8563335114911812, 'f1-score': 0.8562634965545557, 'macro_f1-score': 0.8560529466761136, 'balanced_accuracy': 0.8407735595199994, 'mcc': 0.8227652680711831, 'train_loss': 0.26330965405924134}\n",
      "Epoch 6/20\n"
     ]
    },
    {
     "name": "stderr",
     "output_type": "stream",
     "text": [
      "100%|██████████| 2339/2339 [03:27<00:00, 11.28it/s]\n"
     ]
    },
    {
     "name": "stdout",
     "output_type": "stream",
     "text": [
      "{'val_loss': 0.49838110908197286, 'val_accuracy': 0.8520577231427044, 'precision': 0.8529957255827031, 'recall': 0.8520577231427044, 'f1-score': 0.8514631388724596, 'macro_f1-score': 0.8496396442679183, 'balanced_accuracy': 0.8556983981620492, 'mcc': 0.8188750126919572, 'train_loss': 0.22512247365407245}\n",
      "Epoch 7/20\n"
     ]
    },
    {
     "name": "stderr",
     "output_type": "stream",
     "text": [
      "100%|██████████| 2339/2339 [03:27<00:00, 11.26it/s]\n"
     ]
    },
    {
     "name": "stdout",
     "output_type": "stream",
     "text": [
      "{'val_loss': 0.5169139928845131, 'val_accuracy': 0.8502405130946018, 'precision': 0.8540041635239236, 'recall': 0.8502405130946018, 'f1-score': 0.8502616079325287, 'macro_f1-score': 0.8455092309390148, 'balanced_accuracy': 0.8677475794726766, 'mcc': 0.8179280772361057, 'train_loss': 0.1751282725358452}\n",
      "Epoch 8/20\n"
     ]
    },
    {
     "name": "stderr",
     "output_type": "stream",
     "text": [
      "100%|██████████| 2339/2339 [03:28<00:00, 11.23it/s]\n"
     ]
    },
    {
     "name": "stdout",
     "output_type": "stream",
     "text": [
      "{'val_loss': 0.5921609697314218, 'val_accuracy': 0.8572955638695885, 'precision': 0.8591675079962197, 'recall': 0.8572955638695885, 'f1-score': 0.8573667102742126, 'macro_f1-score': 0.8577106728875694, 'balanced_accuracy': 0.8555857606106791, 'mcc': 0.8248765160028936, 'train_loss': 0.15572825823877684}\n",
      "Epoch 9/20\n"
     ]
    },
    {
     "name": "stderr",
     "output_type": "stream",
     "text": [
      "100%|██████████| 2339/2339 [03:26<00:00, 11.30it/s]\n"
     ]
    },
    {
     "name": "stdout",
     "output_type": "stream",
     "text": [
      "{'val_loss': 0.624221353033064, 'val_accuracy': 0.8406199893105292, 'precision': 0.8424937575393903, 'recall': 0.8406199893105292, 'f1-score': 0.8402701408566609, 'macro_f1-score': 0.8380836146583449, 'balanced_accuracy': 0.8318049547266129, 'mcc': 0.804081452669934, 'train_loss': 0.145466571567688}\n",
      "Epoch 10/20\n"
     ]
    },
    {
     "name": "stderr",
     "output_type": "stream",
     "text": [
      "100%|██████████| 2339/2339 [03:27<00:00, 11.25it/s]\n"
     ]
    },
    {
     "name": "stdout",
     "output_type": "stream",
     "text": [
      "{'val_loss': 0.5342058500649137, 'val_accuracy': 0.8580438268305719, 'precision': 0.8597960797865895, 'recall': 0.8580438268305719, 'f1-score': 0.8580996725497737, 'macro_f1-score': 0.8588359626222931, 'balanced_accuracy': 0.8530072396990541, 'mcc': 0.8256144042286833, 'train_loss': 0.15805101198879978}\n",
      "Epoch 11/20\n"
     ]
    },
    {
     "name": "stderr",
     "output_type": "stream",
     "text": [
      "100%|██████████| 2339/2339 [03:28<00:00, 11.24it/s]\n"
     ]
    },
    {
     "name": "stdout",
     "output_type": "stream",
     "text": [
      "{'val_loss': 0.5808229879997512, 'val_accuracy': 0.8601817210048103, 'precision': 0.8616178383874112, 'recall': 0.8601817210048103, 'f1-score': 0.8600449718562583, 'macro_f1-score': 0.8624239282460904, 'balanced_accuracy': 0.8536987153839588, 'mcc': 0.82812450664677, 'train_loss': 0.1092878041833282}\n",
      "Epoch 12/20\n"
     ]
    },
    {
     "name": "stderr",
     "output_type": "stream",
     "text": [
      "100%|██████████| 2339/2339 [03:27<00:00, 11.27it/s]\n"
     ]
    },
    {
     "name": "stdout",
     "output_type": "stream",
     "text": [
      "{'val_loss': 0.538111186470104, 'val_accuracy': 0.8616782469267771, 'precision': 0.8619566627079475, 'recall': 0.8616782469267771, 'f1-score': 0.8615741727201068, 'macro_f1-score': 0.8619911474605795, 'balanced_accuracy': 0.8531861015403044, 'mcc': 0.8293910319617371, 'train_loss': 0.09912689259993647}\n",
      "Epoch 13/20\n"
     ]
    },
    {
     "name": "stderr",
     "output_type": "stream",
     "text": [
      "100%|██████████| 2339/2339 [03:27<00:00, 11.28it/s]\n"
     ]
    },
    {
     "name": "stdout",
     "output_type": "stream",
     "text": [
      "{'val_loss': 0.6291278816463574, 'val_accuracy': 0.8602886157135222, 'precision': 0.8614942474111568, 'recall': 0.8602886157135222, 'f1-score': 0.8604978898518761, 'macro_f1-score': 0.857333424167682, 'balanced_accuracy': 0.8511864053871494, 'mcc': 0.8278941186143788, 'train_loss': 0.09806280426744052}\n",
      "Epoch 14/20\n"
     ]
    },
    {
     "name": "stderr",
     "output_type": "stream",
     "text": [
      "100%|██████████| 2339/2339 [03:27<00:00, 11.29it/s]\n"
     ]
    },
    {
     "name": "stdout",
     "output_type": "stream",
     "text": [
      "{'val_loss': 0.5980668375551159, 'val_accuracy': 0.8516301443078568, 'precision': 0.8528982466987217, 'recall': 0.8516301443078568, 'f1-score': 0.8515271298061833, 'macro_f1-score': 0.849167939962368, 'balanced_accuracy': 0.8542806339319426, 'mcc': 0.8181682096534035, 'train_loss': 0.08360497269702621}\n",
      "Early stopping.\n",
      "\n",
      "[Fold 3]\n",
      "Label distribution after resampling:\n",
      "  label 0: 5626\n",
      "  label 1: 1399\n",
      "  label 2: 8442\n",
      "  label 3: 10770\n",
      "  label 4: 1679\n",
      "  label 5: 5578\n",
      "  label 6: 1738\n",
      "  label 7: 2186\n",
      "model is roberta-base cnn\n"
     ]
    },
    {
     "name": "stderr",
     "output_type": "stream",
     "text": [
      "Some weights of RobertaModel were not initialized from the model checkpoint at roberta-base and are newly initialized: ['pooler.dense.bias', 'pooler.dense.weight']\n",
      "You should probably TRAIN this model on a down-stream task to be able to use it for predictions and inference.\n"
     ]
    },
    {
     "name": "stdout",
     "output_type": "stream",
     "text": [
      "Epoch 1/20\n"
     ]
    },
    {
     "name": "stderr",
     "output_type": "stream",
     "text": [
      "100%|██████████| 2339/2339 [03:27<00:00, 11.25it/s]\n"
     ]
    },
    {
     "name": "stdout",
     "output_type": "stream",
     "text": [
      "{'val_loss': 0.4898515675439794, 'val_accuracy': 0.8373957665169981, 'precision': 0.8429922396071925, 'recall': 0.8373957665169981, 'f1-score': 0.8365468933892893, 'macro_f1-score': 0.8301653750045446, 'balanced_accuracy': 0.8200711254033861, 'mcc': 0.801043369697331, 'train_loss': 0.713624647563278}\n",
      "Epoch 2/20\n"
     ]
    },
    {
     "name": "stderr",
     "output_type": "stream",
     "text": [
      "100%|██████████| 2339/2339 [03:27<00:00, 11.26it/s]\n"
     ]
    },
    {
     "name": "stdout",
     "output_type": "stream",
     "text": [
      "{'val_loss': 0.4554066423676972, 'val_accuracy': 0.8528971562967714, 'precision': 0.8576172569749035, 'recall': 0.8528971562967714, 'f1-score': 0.8534051114853161, 'macro_f1-score': 0.8535502527586125, 'balanced_accuracy': 0.8600075022404087, 'mcc': 0.8206242806180297, 'train_loss': 0.46282647769896584}\n",
      "Epoch 3/20\n"
     ]
    },
    {
     "name": "stderr",
     "output_type": "stream",
     "text": [
      "100%|██████████| 2339/2339 [03:27<00:00, 11.26it/s]\n"
     ]
    },
    {
     "name": "stdout",
     "output_type": "stream",
     "text": [
      "{'val_loss': 0.4261692946028506, 'val_accuracy': 0.8588838999358563, 'precision': 0.8609086564508963, 'recall': 0.8588838999358563, 'f1-score': 0.8585083017082713, 'macro_f1-score': 0.858701670731928, 'balanced_accuracy': 0.8675427601723034, 'mcc': 0.8279470351489142, 'train_loss': 0.3897011552779255}\n",
      "Epoch 4/20\n"
     ]
    },
    {
     "name": "stderr",
     "output_type": "stream",
     "text": [
      "100%|██████████| 2339/2339 [03:27<00:00, 11.27it/s]\n"
     ]
    },
    {
     "name": "stdout",
     "output_type": "stream",
     "text": [
      "{'val_loss': 0.3937681169814279, 'val_accuracy': 0.8676502031216592, 'precision': 0.8683835046170751, 'recall': 0.8676502031216592, 'f1-score': 0.8671499923725625, 'macro_f1-score': 0.8639105357974521, 'balanced_accuracy': 0.8550854450139793, 'mcc': 0.8367839658204095, 'train_loss': 0.3456726165933518}\n",
      "Epoch 5/20\n"
     ]
    },
    {
     "name": "stderr",
     "output_type": "stream",
     "text": [
      "100%|██████████| 2339/2339 [03:25<00:00, 11.40it/s]\n"
     ]
    },
    {
     "name": "stdout",
     "output_type": "stream",
     "text": [
      "{'val_loss': 0.43794045503704976, 'val_accuracy': 0.8604874919820398, 'precision': 0.8635851111063967, 'recall': 0.8604874919820398, 'f1-score': 0.8605281701395674, 'macro_f1-score': 0.8570871104390231, 'balanced_accuracy': 0.8733980723734223, 'mcc': 0.8301319933571164, 'train_loss': 0.27462159036304334}\n",
      "Epoch 6/20\n"
     ]
    },
    {
     "name": "stderr",
     "output_type": "stream",
     "text": [
      "100%|██████████| 2339/2339 [03:24<00:00, 11.46it/s]\n"
     ]
    },
    {
     "name": "stdout",
     "output_type": "stream",
     "text": [
      "{'val_loss': 0.429863922820132, 'val_accuracy': 0.865725892666239, 'precision': 0.8681390414927692, 'recall': 0.865725892666239, 'f1-score': 0.865198708443686, 'macro_f1-score': 0.8637976894616926, 'balanced_accuracy': 0.8566897274986953, 'mcc': 0.8346336471258508, 'train_loss': 0.25375782356343846}\n",
      "Epoch 7/20\n"
     ]
    },
    {
     "name": "stderr",
     "output_type": "stream",
     "text": [
      "100%|██████████| 2339/2339 [03:23<00:00, 11.47it/s]\n"
     ]
    },
    {
     "name": "stdout",
     "output_type": "stream",
     "text": [
      "{'val_loss': 0.5461401453989948, 'val_accuracy': 0.8388924524267692, 'precision': 0.842324449836747, 'recall': 0.8388924524267692, 'f1-score': 0.8386538699937801, 'macro_f1-score': 0.8340599979083758, 'balanced_accuracy': 0.8563093393118882, 'mcc': 0.803816797000666, 'train_loss': 0.1988310415892316}\n",
      "Early stopping.\n",
      "\n",
      "[Fold 4]\n",
      "Label distribution after resampling:\n",
      "  label 0: 5625\n",
      "  label 1: 1399\n",
      "  label 2: 8441\n",
      "  label 3: 10771\n",
      "  label 4: 1679\n",
      "  label 5: 5579\n",
      "  label 6: 1738\n",
      "  label 7: 2186\n",
      "model is roberta-base cnn\n"
     ]
    },
    {
     "name": "stderr",
     "output_type": "stream",
     "text": [
      "Some weights of RobertaModel were not initialized from the model checkpoint at roberta-base and are newly initialized: ['pooler.dense.bias', 'pooler.dense.weight']\n",
      "You should probably TRAIN this model on a down-stream task to be able to use it for predictions and inference.\n"
     ]
    },
    {
     "name": "stdout",
     "output_type": "stream",
     "text": [
      "Epoch 1/20\n"
     ]
    },
    {
     "name": "stderr",
     "output_type": "stream",
     "text": [
      "100%|██████████| 2339/2339 [03:24<00:00, 11.47it/s]\n"
     ]
    },
    {
     "name": "stdout",
     "output_type": "stream",
     "text": [
      "{'val_loss': 0.5031480243190741, 'val_accuracy': 0.8351507376523413, 'precision': 0.8388704367590772, 'recall': 0.8351507376523413, 'f1-score': 0.8346224959208588, 'macro_f1-score': 0.8373488013031426, 'balanced_accuracy': 0.8199811718357211, 'mcc': 0.7971056984403866, 'train_loss': 0.6816888711279455}\n",
      "Epoch 2/20\n"
     ]
    },
    {
     "name": "stderr",
     "output_type": "stream",
     "text": [
      "100%|██████████| 2339/2339 [03:23<00:00, 11.47it/s]\n"
     ]
    },
    {
     "name": "stdout",
     "output_type": "stream",
     "text": [
      "{'val_loss': 0.4722709363597071, 'val_accuracy': 0.8518280949326491, 'precision': 0.8558595633673678, 'recall': 0.8518280949326491, 'f1-score': 0.8522840859202144, 'macro_f1-score': 0.8503707328933816, 'balanced_accuracy': 0.8431425305657931, 'mcc': 0.8174953333583586, 'train_loss': 0.4549197109337289}\n",
      "Epoch 3/20\n"
     ]
    },
    {
     "name": "stderr",
     "output_type": "stream",
     "text": [
      "100%|██████████| 2339/2339 [03:23<00:00, 11.47it/s]\n"
     ]
    },
    {
     "name": "stdout",
     "output_type": "stream",
     "text": [
      "{'val_loss': 0.47227859260180055, 'val_accuracy': 0.8338678640153945, 'precision': 0.8424741290323746, 'recall': 0.8338678640153945, 'f1-score': 0.8319656210258377, 'macro_f1-score': 0.8342369380890526, 'balanced_accuracy': 0.8386210924594504, 'mcc': 0.7998263554346785, 'train_loss': 0.38169443835761174}\n",
      "Epoch 4/20\n"
     ]
    },
    {
     "name": "stderr",
     "output_type": "stream",
     "text": [
      "100%|██████████| 2339/2339 [03:23<00:00, 11.47it/s]\n"
     ]
    },
    {
     "name": "stdout",
     "output_type": "stream",
     "text": [
      "{'val_loss': 0.4670835860296447, 'val_accuracy': 0.845734445157152, 'precision': 0.8561049195480898, 'recall': 0.845734445157152, 'f1-score': 0.8472508445440914, 'macro_f1-score': 0.8346202197203325, 'balanced_accuracy': 0.8424353496191901, 'mcc': 0.8115511943093524, 'train_loss': 0.3131783562817887}\n",
      "Epoch 5/20\n"
     ]
    },
    {
     "name": "stderr",
     "output_type": "stream",
     "text": [
      "100%|██████████| 2339/2339 [03:23<00:00, 11.47it/s]\n"
     ]
    },
    {
     "name": "stdout",
     "output_type": "stream",
     "text": [
      "{'val_loss': 0.43302016025170303, 'val_accuracy': 0.8618772717553987, 'precision': 0.8645920385343108, 'recall': 0.8618772717553987, 'f1-score': 0.8619309095612215, 'macro_f1-score': 0.8615357650685609, 'balanced_accuracy': 0.8397997496808574, 'mcc': 0.8292450299530437, 'train_loss': 0.257722936304666}\n",
      "Epoch 6/20\n"
     ]
    },
    {
     "name": "stderr",
     "output_type": "stream",
     "text": [
      "100%|██████████| 2339/2339 [03:24<00:00, 11.46it/s]\n"
     ]
    },
    {
     "name": "stdout",
     "output_type": "stream",
     "text": [
      "{'val_loss': 0.43199635699518724, 'val_accuracy': 0.8601667735728031, 'precision': 0.8609042008368892, 'recall': 0.8601667735728031, 'f1-score': 0.8597586565312297, 'macro_f1-score': 0.8553342923483138, 'balanced_accuracy': 0.8673913620105485, 'mcc': 0.8287158114973069, 'train_loss': 0.2118929312883965}\n",
      "Epoch 7/20\n"
     ]
    },
    {
     "name": "stderr",
     "output_type": "stream",
     "text": [
      "100%|██████████| 2339/2339 [03:24<00:00, 11.46it/s]\n"
     ]
    },
    {
     "name": "stdout",
     "output_type": "stream",
     "text": [
      "{'val_loss': 0.5055550338875534, 'val_accuracy': 0.8639084883472311, 'precision': 0.8654338096288654, 'recall': 0.8639084883472311, 'f1-score': 0.8641723538952036, 'macro_f1-score': 0.866889016898209, 'balanced_accuracy': 0.8602573335321394, 'mcc': 0.8323587290976376, 'train_loss': 0.16802434681593423}\n",
      "Epoch 8/20\n"
     ]
    },
    {
     "name": "stderr",
     "output_type": "stream",
     "text": [
      "100%|██████████| 2339/2339 [03:23<00:00, 11.47it/s]\n"
     ]
    },
    {
     "name": "stdout",
     "output_type": "stream",
     "text": [
      "{'val_loss': 0.5527623242539409, 'val_accuracy': 0.857814838571734, 'precision': 0.8583516252308515, 'recall': 0.857814838571734, 'f1-score': 0.8574261874874045, 'macro_f1-score': 0.8541663883969922, 'balanced_accuracy': 0.8558180513259108, 'mcc': 0.8256003667644075, 'train_loss': 0.1490380771111939}\n",
      "Epoch 9/20\n"
     ]
    },
    {
     "name": "stderr",
     "output_type": "stream",
     "text": [
      "100%|██████████| 2339/2339 [03:23<00:00, 11.47it/s]\n"
     ]
    },
    {
     "name": "stdout",
     "output_type": "stream",
     "text": [
      "{'val_loss': 0.4968876981932638, 'val_accuracy': 0.8612358349369253, 'precision': 0.8629034701045917, 'recall': 0.8612358349369253, 'f1-score': 0.8615910978017676, 'macro_f1-score': 0.8575488063834955, 'balanced_accuracy': 0.8569097272315311, 'mcc': 0.8295067163480669, 'train_loss': 0.11758133039125207}\n",
      "Epoch 10/20\n"
     ]
    },
    {
     "name": "stderr",
     "output_type": "stream",
     "text": [
      "100%|██████████| 2339/2339 [03:23<00:00, 11.47it/s]\n"
     ]
    },
    {
     "name": "stdout",
     "output_type": "stream",
     "text": [
      "{'val_loss': 0.5628376679276076, 'val_accuracy': 0.8611289288005132, 'precision': 0.8616151363923429, 'recall': 0.8611289288005132, 'f1-score': 0.8609840633487769, 'macro_f1-score': 0.8611845820746368, 'balanced_accuracy': 0.8540529391675569, 'mcc': 0.8289204114203327, 'train_loss': 0.11109015680884642}\n",
      "Early stopping.\n",
      "\n",
      "[Fold 5]\n",
      "Label distribution after resampling:\n",
      "  label 0: 5625\n",
      "  label 1: 1399\n",
      "  label 2: 8441\n",
      "  label 3: 10771\n",
      "  label 4: 1678\n",
      "  label 5: 5579\n",
      "  label 6: 1738\n",
      "  label 7: 2187\n",
      "model is roberta-base cnn\n"
     ]
    },
    {
     "name": "stderr",
     "output_type": "stream",
     "text": [
      "Some weights of RobertaModel were not initialized from the model checkpoint at roberta-base and are newly initialized: ['pooler.dense.bias', 'pooler.dense.weight']\n",
      "You should probably TRAIN this model on a down-stream task to be able to use it for predictions and inference.\n"
     ]
    },
    {
     "name": "stdout",
     "output_type": "stream",
     "text": [
      "Epoch 1/20\n"
     ]
    },
    {
     "name": "stderr",
     "output_type": "stream",
     "text": [
      "100%|██████████| 2339/2339 [03:24<00:00, 11.46it/s]\n"
     ]
    },
    {
     "name": "stdout",
     "output_type": "stream",
     "text": [
      "{'val_loss': 0.5434975168580174, 'val_accuracy': 0.8231772503741714, 'precision': 0.8338751796626568, 'recall': 0.8231772503741714, 'f1-score': 0.8245337714258556, 'macro_f1-score': 0.8188324380755003, 'balanced_accuracy': 0.8221514862221686, 'mcc': 0.7844204313995818, 'train_loss': 0.7436668391324749}\n",
      "Epoch 2/20\n"
     ]
    },
    {
     "name": "stderr",
     "output_type": "stream",
     "text": [
      "100%|██████████| 2339/2339 [03:23<00:00, 11.47it/s]\n"
     ]
    },
    {
     "name": "stdout",
     "output_type": "stream",
     "text": [
      "{'val_loss': 0.4618150716026624, 'val_accuracy': 0.8508659397049391, 'precision': 0.851766532600243, 'recall': 0.8508659397049391, 'f1-score': 0.8507566420554825, 'macro_f1-score': 0.8512858335463218, 'balanced_accuracy': 0.8454654086229775, 'mcc': 0.8165194830753778, 'train_loss': 0.4617687200911601}\n",
      "Epoch 3/20\n"
     ]
    },
    {
     "name": "stderr",
     "output_type": "stream",
     "text": [
      "100%|██████████| 2339/2339 [03:23<00:00, 11.47it/s]\n"
     ]
    },
    {
     "name": "stdout",
     "output_type": "stream",
     "text": [
      "{'val_loss': 0.45816883495730215, 'val_accuracy': 0.844772289929442, 'precision': 0.8574358572620044, 'recall': 0.844772289929442, 'f1-score': 0.8458541995912063, 'macro_f1-score': 0.8398465181942696, 'balanced_accuracy': 0.8351323782909204, 'mcc': 0.8101720589642919, 'train_loss': 0.3790898026974952}\n",
      "Epoch 4/20\n"
     ]
    },
    {
     "name": "stderr",
     "output_type": "stream",
     "text": [
      "100%|██████████| 2339/2339 [03:23<00:00, 11.47it/s]\n"
     ]
    },
    {
     "name": "stdout",
     "output_type": "stream",
     "text": [
      "{'val_loss': 0.41325755053096347, 'val_accuracy': 0.8640153944836434, 'precision': 0.8652807551749114, 'recall': 0.8640153944836434, 'f1-score': 0.863822291879644, 'macro_f1-score': 0.8631482310259742, 'balanced_accuracy': 0.8545169074265586, 'mcc': 0.8322882535569684, 'train_loss': 0.3125643791185311}\n",
      "Epoch 5/20\n"
     ]
    },
    {
     "name": "stderr",
     "output_type": "stream",
     "text": [
      "100%|██████████| 2339/2339 [03:24<00:00, 11.47it/s]\n"
     ]
    },
    {
     "name": "stdout",
     "output_type": "stream",
     "text": [
      "{'val_loss': 0.42978059250829564, 'val_accuracy': 0.8583493692537951, 'precision': 0.8593874719597383, 'recall': 0.8583493692537951, 'f1-score': 0.8580178764014994, 'macro_f1-score': 0.858505098362885, 'balanced_accuracy': 0.8457757800946546, 'mcc': 0.8251681486554289, 'train_loss': 0.25755050586530154}\n",
      "Epoch 6/20\n"
     ]
    },
    {
     "name": "stderr",
     "output_type": "stream",
     "text": [
      "100%|██████████| 2339/2339 [03:23<00:00, 11.47it/s]\n"
     ]
    },
    {
     "name": "stdout",
     "output_type": "stream",
     "text": [
      "{'val_loss': 0.44841215029740944, 'val_accuracy': 0.8558905281163138, 'precision': 0.8565245059388, 'recall': 0.8558905281163138, 'f1-score': 0.8559532747958888, 'macro_f1-score': 0.8575694756459873, 'balanced_accuracy': 0.855565680955217, 'mcc': 0.8227514852027414, 'train_loss': 0.21981164871761993}\n",
      "Epoch 7/20\n"
     ]
    },
    {
     "name": "stderr",
     "output_type": "stream",
     "text": [
      "100%|██████████| 2339/2339 [03:23<00:00, 11.47it/s]\n"
     ]
    },
    {
     "name": "stdout",
     "output_type": "stream",
     "text": [
      "{'val_loss': 0.47891753301119955, 'val_accuracy': 0.8642292067564679, 'precision': 0.865146439444035, 'recall': 0.8642292067564679, 'f1-score': 0.863939860701909, 'macro_f1-score': 0.8636186915550477, 'balanced_accuracy': 0.8501526213569245, 'mcc': 0.8323548156718831, 'train_loss': 0.18032775050746463}\n",
      "Epoch 8/20\n"
     ]
    },
    {
     "name": "stderr",
     "output_type": "stream",
     "text": [
      "100%|██████████| 2339/2339 [03:23<00:00, 11.47it/s]\n"
     ]
    },
    {
     "name": "stdout",
     "output_type": "stream",
     "text": [
      "{'val_loss': 0.5418918060887064, 'val_accuracy': 0.8349369253795168, 'precision': 0.837524110163643, 'recall': 0.8349369253795168, 'f1-score': 0.8345111211436856, 'macro_f1-score': 0.8402933017938871, 'balanced_accuracy': 0.8415315536119532, 'mcc': 0.7984667431796828, 'train_loss': 0.17531489928413457}\n",
      "Epoch 9/20\n"
     ]
    },
    {
     "name": "stderr",
     "output_type": "stream",
     "text": [
      "100%|██████████| 2339/2339 [03:23<00:00, 11.47it/s]\n"
     ]
    },
    {
     "name": "stdout",
     "output_type": "stream",
     "text": [
      "{'val_loss': 0.5226903119816994, 'val_accuracy': 0.8585631815266196, 'precision': 0.8615054119016208, 'recall': 0.8585631815266196, 'f1-score': 0.859130143251318, 'macro_f1-score': 0.8579817728794483, 'balanced_accuracy': 0.8656674658414225, 'mcc': 0.8267190717638591, 'train_loss': 0.1330859853412045}\n",
      "Epoch 10/20\n"
     ]
    },
    {
     "name": "stderr",
     "output_type": "stream",
     "text": [
      "100%|██████████| 2339/2339 [03:23<00:00, 11.47it/s]\n"
     ]
    },
    {
     "name": "stdout",
     "output_type": "stream",
     "text": [
      "{'val_loss': 0.5276613091787276, 'val_accuracy': 0.8581355569809707, 'precision': 0.8592316795805917, 'recall': 0.8581355569809707, 'f1-score': 0.8581224058226068, 'macro_f1-score': 0.8557788606679703, 'balanced_accuracy': 0.8629355958197762, 'mcc': 0.8257650833814741, 'train_loss': 0.11363739647034336}\n",
      "Early stopping.\n",
      "\n",
      " === roberta-base + cnn + none Final 5-fold Cross-Validation Results ===\n",
      "val_loss: 0.4802\n",
      "val_accuracy: 0.8646\n",
      "precision: 0.8658\n",
      "recall: 0.8646\n",
      "f1-score: 0.8646\n",
      "macro_f1-score: 0.8644\n",
      "balanced_accuracy: 0.8544\n",
      "mcc: 0.8332\n",
      "train_loss: 0.2121\n",
      "total_seconds: 11387.0000\n",
      "total_time: 3 hrs 9 mins 47 secs\n",
      "▶ Running: roberta-base + lstm + none\n",
      "tokenizer is roberta-base\n",
      "Using device: cuda\n",
      "CUDA Available: True\n",
      "CUDA Device: NVIDIA GeForce RTX 5070 Ti\n",
      "Current GPU Memory Allocated: 0.02 GB\n",
      "Current GPU Memory Cached: 3.93 GB\n",
      "\n",
      "[Fold 1]\n",
      "Label distribution after resampling:\n",
      "  label 0: 5626\n",
      "  label 1: 1399\n",
      "  label 2: 8442\n",
      "  label 3: 10770\n",
      "  label 4: 1678\n",
      "  label 5: 5578\n",
      "  label 6: 1737\n",
      "  label 7: 2187\n",
      "model is roberta-base lstm\n"
     ]
    },
    {
     "name": "stderr",
     "output_type": "stream",
     "text": [
      "Some weights of RobertaModel were not initialized from the model checkpoint at roberta-base and are newly initialized: ['pooler.dense.bias', 'pooler.dense.weight']\n",
      "You should probably TRAIN this model on a down-stream task to be able to use it for predictions and inference.\n"
     ]
    },
    {
     "name": "stdout",
     "output_type": "stream",
     "text": [
      "Epoch 1/20\n"
     ]
    },
    {
     "name": "stderr",
     "output_type": "stream",
     "text": [
      "100%|██████████| 2339/2339 [03:34<00:00, 10.89it/s]\n"
     ]
    },
    {
     "name": "stdout",
     "output_type": "stream",
     "text": [
      "{'val_loss': 1.8357372495863173, 'val_accuracy': 0.2878674505611972, 'precision': 0.08286766909260333, 'recall': 0.2878674505611972, 'f1-score': 0.1286897483999509, 'macro_f1-score': 0.055880644090305444, 'balanced_accuracy': 0.125, 'mcc': 0.0, 'train_loss': 1.8441178042850928}\n",
      "Epoch 2/20\n"
     ]
    },
    {
     "name": "stderr",
     "output_type": "stream",
     "text": [
      "100%|██████████| 2339/2339 [03:34<00:00, 10.90it/s]\n"
     ]
    },
    {
     "name": "stdout",
     "output_type": "stream",
     "text": [
      "{'val_loss': 1.8351694830462464, 'val_accuracy': 0.2878674505611972, 'precision': 0.08286766909260333, 'recall': 0.2878674505611972, 'f1-score': 0.1286897483999509, 'macro_f1-score': 0.055880644090305444, 'balanced_accuracy': 0.125, 'mcc': 0.0, 'train_loss': 1.840492575124779}\n",
      "Epoch 3/20\n"
     ]
    },
    {
     "name": "stderr",
     "output_type": "stream",
     "text": [
      "100%|██████████| 2339/2339 [03:34<00:00, 10.90it/s]\n"
     ]
    },
    {
     "name": "stdout",
     "output_type": "stream",
     "text": [
      "{'val_loss': 1.8370302664927947, 'val_accuracy': 0.2878674505611972, 'precision': 0.08286766909260333, 'recall': 0.2878674505611972, 'f1-score': 0.1286897483999509, 'macro_f1-score': 0.055880644090305444, 'balanced_accuracy': 0.125, 'mcc': 0.0, 'train_loss': 1.8386298775825811}\n",
      "Epoch 4/20\n"
     ]
    },
    {
     "name": "stderr",
     "output_type": "stream",
     "text": [
      "100%|██████████| 2339/2339 [03:34<00:00, 10.89it/s]\n"
     ]
    },
    {
     "name": "stdout",
     "output_type": "stream",
     "text": [
      "{'val_loss': 1.8344401359558105, 'val_accuracy': 0.2878674505611972, 'precision': 0.08286766909260333, 'recall': 0.2878674505611972, 'f1-score': 0.1286897483999509, 'macro_f1-score': 0.055880644090305444, 'balanced_accuracy': 0.125, 'mcc': 0.0, 'train_loss': 1.8385230333390221}\n",
      "Early stopping.\n",
      "\n",
      "[Fold 2]\n",
      "Label distribution after resampling:\n",
      "  label 0: 5626\n",
      "  label 1: 1400\n",
      "  label 2: 8442\n",
      "  label 3: 10770\n",
      "  label 4: 1678\n",
      "  label 5: 5578\n",
      "  label 6: 1737\n",
      "  label 7: 2186\n",
      "model is roberta-base lstm\n"
     ]
    },
    {
     "name": "stderr",
     "output_type": "stream",
     "text": [
      "Some weights of RobertaModel were not initialized from the model checkpoint at roberta-base and are newly initialized: ['pooler.dense.bias', 'pooler.dense.weight']\n",
      "You should probably TRAIN this model on a down-stream task to be able to use it for predictions and inference.\n"
     ]
    },
    {
     "name": "stdout",
     "output_type": "stream",
     "text": [
      "Epoch 1/20\n"
     ]
    },
    {
     "name": "stderr",
     "output_type": "stream",
     "text": [
      "100%|██████████| 2339/2339 [03:34<00:00, 10.90it/s]\n"
     ]
    },
    {
     "name": "stdout",
     "output_type": "stream",
     "text": [
      "{'val_loss': 0.5276289204565379, 'val_accuracy': 0.8277926242650989, 'precision': 0.8392312194563899, 'recall': 0.8277926242650989, 'f1-score': 0.8283457905196349, 'macro_f1-score': 0.8291408571887133, 'balanced_accuracy': 0.8032792716693821, 'mcc': 0.7886551592010042, 'train_loss': 0.6991558492919506}\n",
      "Epoch 2/20\n"
     ]
    },
    {
     "name": "stderr",
     "output_type": "stream",
     "text": [
      "100%|██████████| 2339/2339 [03:34<00:00, 10.89it/s]\n"
     ]
    },
    {
     "name": "stdout",
     "output_type": "stream",
     "text": [
      "{'val_loss': 0.5064996954722282, 'val_accuracy': 0.8370924639230358, 'precision': 0.8411941711042483, 'recall': 0.8370924639230358, 'f1-score': 0.8370034948741464, 'macro_f1-score': 0.8355841257336368, 'balanced_accuracy': 0.8360225624439286, 'mcc': 0.8007728500923282, 'train_loss': 0.4518922314990683}\n",
      "Epoch 3/20\n"
     ]
    },
    {
     "name": "stderr",
     "output_type": "stream",
     "text": [
      "100%|██████████| 2339/2339 [03:34<00:00, 10.89it/s]\n"
     ]
    },
    {
     "name": "stdout",
     "output_type": "stream",
     "text": [
      "{'val_loss': 0.45175068884387487, 'val_accuracy': 0.848743987172635, 'precision': 0.850878521623519, 'recall': 0.848743987172635, 'f1-score': 0.8482632523138653, 'macro_f1-score': 0.8445217542216304, 'balanced_accuracy': 0.8366265335096635, 'mcc': 0.8137055486616092, 'train_loss': 0.37381625299426785}\n",
      "Epoch 4/20\n"
     ]
    },
    {
     "name": "stderr",
     "output_type": "stream",
     "text": [
      "100%|██████████| 2339/2339 [03:34<00:00, 10.90it/s]\n"
     ]
    },
    {
     "name": "stdout",
     "output_type": "stream",
     "text": [
      "{'val_loss': 0.4868513914446036, 'val_accuracy': 0.8454302512025654, 'precision': 0.8470339089109615, 'recall': 0.8454302512025654, 'f1-score': 0.8446599620292087, 'macro_f1-score': 0.8406040554331942, 'balanced_accuracy': 0.833488324387361, 'mcc': 0.8096758565133236, 'train_loss': 0.3085922031014737}\n",
      "Epoch 5/20\n"
     ]
    },
    {
     "name": "stderr",
     "output_type": "stream",
     "text": [
      "100%|██████████| 2339/2339 [03:34<00:00, 10.90it/s]\n"
     ]
    },
    {
     "name": "stdout",
     "output_type": "stream",
     "text": [
      "{'val_loss': 0.46583357928877966, 'val_accuracy': 0.8543025120256548, 'precision': 0.8546116493321603, 'recall': 0.8543025120256548, 'f1-score': 0.8543027555270839, 'macro_f1-score': 0.85481942026075, 'balanced_accuracy': 0.852768716710444, 'mcc': 0.8207020651328637, 'train_loss': 0.26029350829373227}\n",
      "Epoch 6/20\n"
     ]
    },
    {
     "name": "stderr",
     "output_type": "stream",
     "text": [
      "100%|██████████| 2339/2339 [03:34<00:00, 10.90it/s]\n"
     ]
    },
    {
     "name": "stdout",
     "output_type": "stream",
     "text": [
      "{'val_loss': 0.5254168591549636, 'val_accuracy': 0.8539818278995189, 'precision': 0.8546316932407034, 'recall': 0.8539818278995189, 'f1-score': 0.8539459512906827, 'macro_f1-score': 0.8546416340141119, 'balanced_accuracy': 0.8540251815058439, 'mcc': 0.8202526419902496, 'train_loss': 0.22006577433753072}\n",
      "Epoch 7/20\n"
     ]
    },
    {
     "name": "stderr",
     "output_type": "stream",
     "text": [
      "100%|██████████| 2339/2339 [03:34<00:00, 10.90it/s]\n"
     ]
    },
    {
     "name": "stdout",
     "output_type": "stream",
     "text": [
      "{'val_loss': 0.5477408826375045, 'val_accuracy': 0.8462854088722608, 'precision': 0.8478918291777583, 'recall': 0.8462854088722608, 'f1-score': 0.8460508712331134, 'macro_f1-score': 0.8443069525690459, 'balanced_accuracy': 0.8512073038538561, 'mcc': 0.8116825263970097, 'train_loss': 0.18753372994490453}\n",
      "Epoch 8/20\n"
     ]
    },
    {
     "name": "stderr",
     "output_type": "stream",
     "text": [
      "100%|██████████| 2339/2339 [03:34<00:00, 10.90it/s]\n"
     ]
    },
    {
     "name": "stdout",
     "output_type": "stream",
     "text": [
      "{'val_loss': 0.5793825239973923, 'val_accuracy': 0.8549438802779262, 'precision': 0.855609454417608, 'recall': 0.8549438802779262, 'f1-score': 0.8549713451843088, 'macro_f1-score': 0.8550707918158937, 'balanced_accuracy': 0.8483795216887924, 'mcc': 0.8213780472469777, 'train_loss': 0.16029249434339463}\n",
      "Epoch 9/20\n"
     ]
    },
    {
     "name": "stderr",
     "output_type": "stream",
     "text": [
      "100%|██████████| 2339/2339 [03:34<00:00, 10.89it/s]\n"
     ]
    },
    {
     "name": "stdout",
     "output_type": "stream",
     "text": [
      "{'val_loss': 0.6509183507094272, 'val_accuracy': 0.8491715660074827, 'precision': 0.8500781450457024, 'recall': 0.8491715660074827, 'f1-score': 0.8486008903793546, 'macro_f1-score': 0.8467499872842905, 'balanced_accuracy': 0.8463518790324307, 'mcc': 0.8148526986019282, 'train_loss': 0.14144106037467208}\n",
      "Epoch 10/20\n"
     ]
    },
    {
     "name": "stderr",
     "output_type": "stream",
     "text": [
      "100%|██████████| 2339/2339 [03:34<00:00, 10.90it/s]\n"
     ]
    },
    {
     "name": "stdout",
     "output_type": "stream",
     "text": [
      "{'val_loss': 0.6931689185051558, 'val_accuracy': 0.8519508284339925, 'precision': 0.8522149868573254, 'recall': 0.8519508284339925, 'f1-score': 0.8515859280054435, 'macro_f1-score': 0.8529772257755945, 'balanced_accuracy': 0.8598443761936087, 'mcc': 0.8185829715317182, 'train_loss': 0.12296867629043501}\n",
      "Epoch 11/20\n"
     ]
    },
    {
     "name": "stderr",
     "output_type": "stream",
     "text": [
      "100%|██████████| 2339/2339 [03:34<00:00, 10.89it/s]\n"
     ]
    },
    {
     "name": "stdout",
     "output_type": "stream",
     "text": [
      "{'val_loss': 0.669472550916581, 'val_accuracy': 0.8451095670764297, 'precision': 0.8475329329654482, 'recall': 0.8451095670764297, 'f1-score': 0.8449640178854391, 'macro_f1-score': 0.84158854864147, 'balanced_accuracy': 0.8470105738599557, 'mcc': 0.8104849852676919, 'train_loss': 0.1106875193975834}\n",
      "Early stopping.\n",
      "\n",
      "[Fold 3]\n",
      "Label distribution after resampling:\n",
      "  label 0: 5626\n",
      "  label 1: 1399\n",
      "  label 2: 8442\n",
      "  label 3: 10770\n",
      "  label 4: 1679\n",
      "  label 5: 5578\n",
      "  label 6: 1738\n",
      "  label 7: 2186\n",
      "model is roberta-base lstm\n"
     ]
    },
    {
     "name": "stderr",
     "output_type": "stream",
     "text": [
      "Some weights of RobertaModel were not initialized from the model checkpoint at roberta-base and are newly initialized: ['pooler.dense.bias', 'pooler.dense.weight']\n",
      "You should probably TRAIN this model on a down-stream task to be able to use it for predictions and inference.\n"
     ]
    },
    {
     "name": "stdout",
     "output_type": "stream",
     "text": [
      "Epoch 1/20\n"
     ]
    },
    {
     "name": "stderr",
     "output_type": "stream",
     "text": [
      "100%|██████████| 2339/2339 [03:34<00:00, 10.89it/s]\n"
     ]
    },
    {
     "name": "stdout",
     "output_type": "stream",
     "text": [
      "{'val_loss': 0.4827736526982397, 'val_accuracy': 0.8408167628821894, 'precision': 0.8467575945401428, 'recall': 0.8408167628821894, 'f1-score': 0.8402969016636508, 'macro_f1-score': 0.8320104820704581, 'balanced_accuracy': 0.8038774470917078, 'mcc': 0.8031183325420208, 'train_loss': 0.6752717191414759}\n",
      "Epoch 2/20\n"
     ]
    },
    {
     "name": "stderr",
     "output_type": "stream",
     "text": [
      "100%|██████████| 2339/2339 [03:34<00:00, 10.91it/s]\n"
     ]
    },
    {
     "name": "stdout",
     "output_type": "stream",
     "text": [
      "{'val_loss': 0.4568071435277279, 'val_accuracy': 0.8510797519777635, 'precision': 0.8561499515930218, 'recall': 0.8510797519777635, 'f1-score': 0.8510723648838029, 'macro_f1-score': 0.8475365653712809, 'balanced_accuracy': 0.834619746397288, 'mcc': 0.8170763584298248, 'train_loss': 0.464567228275749}\n",
      "Epoch 3/20\n"
     ]
    },
    {
     "name": "stderr",
     "output_type": "stream",
     "text": [
      "100%|██████████| 2339/2339 [03:34<00:00, 10.90it/s]\n"
     ]
    },
    {
     "name": "stdout",
     "output_type": "stream",
     "text": [
      "{'val_loss': 0.4260207217027489, 'val_accuracy': 0.8610220226641009, 'precision': 0.8630929274684863, 'recall': 0.8610220226641009, 'f1-score': 0.8607691090140357, 'macro_f1-score': 0.857567508110559, 'balanced_accuracy': 0.8620001599608635, 'mcc': 0.8302368633562592, 'train_loss': 0.38213972294605175}\n",
      "Epoch 4/20\n"
     ]
    },
    {
     "name": "stderr",
     "output_type": "stream",
     "text": [
      "100%|██████████| 2339/2339 [03:34<00:00, 10.89it/s]\n"
     ]
    },
    {
     "name": "stdout",
     "output_type": "stream",
     "text": [
      "{'val_loss': 0.4245184433224619, 'val_accuracy': 0.8611289288005132, 'precision': 0.862895541103631, 'recall': 0.8611289288005132, 'f1-score': 0.8604073160393505, 'macro_f1-score': 0.85625441723109, 'balanced_accuracy': 0.8666848525775503, 'mcc': 0.8300399253026152, 'train_loss': 0.3387853748050796}\n",
      "Epoch 5/20\n"
     ]
    },
    {
     "name": "stderr",
     "output_type": "stream",
     "text": [
      "100%|██████████| 2339/2339 [03:34<00:00, 10.89it/s]\n"
     ]
    },
    {
     "name": "stdout",
     "output_type": "stream",
     "text": [
      "{'val_loss': 0.47800434401624986, 'val_accuracy': 0.859204618345093, 'precision': 0.8599962117637581, 'recall': 0.859204618345093, 'f1-score': 0.8587779953984851, 'macro_f1-score': 0.8586315706633945, 'balanced_accuracy': 0.8533299849561675, 'mcc': 0.8267385945784566, 'train_loss': 0.2987591712558407}\n",
      "Epoch 6/20\n"
     ]
    },
    {
     "name": "stderr",
     "output_type": "stream",
     "text": [
      "100%|██████████| 2339/2339 [03:34<00:00, 10.89it/s]\n"
     ]
    },
    {
     "name": "stdout",
     "output_type": "stream",
     "text": [
      "{'val_loss': 0.4556795601454428, 'val_accuracy': 0.8672225785760103, 'precision': 0.8677182907131034, 'recall': 0.8672225785760103, 'f1-score': 0.8670989156305593, 'macro_f1-score': 0.8655241110535977, 'balanced_accuracy': 0.8666951946424346, 'mcc': 0.8367061641290667, 'train_loss': 0.2592989842490225}\n",
      "Epoch 7/20\n"
     ]
    },
    {
     "name": "stderr",
     "output_type": "stream",
     "text": [
      "100%|██████████| 2339/2339 [03:34<00:00, 10.89it/s]\n"
     ]
    },
    {
     "name": "stdout",
     "output_type": "stream",
     "text": [
      "{'val_loss': 0.4920821310960266, 'val_accuracy': 0.8627325208466966, 'precision': 0.864020336556019, 'recall': 0.8627325208466966, 'f1-score': 0.8627935554808158, 'macro_f1-score': 0.8600191937144528, 'balanced_accuracy': 0.861787530789063, 'mcc': 0.8316542250835931, 'train_loss': 0.22005122862342155}\n",
      "Epoch 8/20\n"
     ]
    },
    {
     "name": "stderr",
     "output_type": "stream",
     "text": [
      "100%|██████████| 2339/2339 [03:34<00:00, 10.90it/s]\n"
     ]
    },
    {
     "name": "stdout",
     "output_type": "stream",
     "text": [
      "{'val_loss': 0.4693088761713897, 'val_accuracy': 0.8662604233483002, 'precision': 0.8704193196506035, 'recall': 0.8662604233483002, 'f1-score': 0.8665839828664501, 'macro_f1-score': 0.8604587306313963, 'balanced_accuracy': 0.8803961939596308, 'mcc': 0.8374677889532381, 'train_loss': 0.20952867872345288}\n",
      "Epoch 9/20\n"
     ]
    },
    {
     "name": "stderr",
     "output_type": "stream",
     "text": [
      "100%|██████████| 2339/2339 [03:34<00:00, 10.90it/s]\n"
     ]
    },
    {
     "name": "stdout",
     "output_type": "stream",
     "text": [
      "{'val_loss': 0.486547325247437, 'val_accuracy': 0.8644430190292923, 'precision': 0.864855642947956, 'recall': 0.8644430190292923, 'f1-score': 0.8644535445019982, 'macro_f1-score': 0.8608564229207626, 'balanced_accuracy': 0.8603865581111667, 'mcc': 0.8331330339150469, 'train_loss': 0.16603261390241048}\n",
      "Early stopping.\n",
      "\n",
      "[Fold 4]\n",
      "Label distribution after resampling:\n",
      "  label 0: 5625\n",
      "  label 1: 1399\n",
      "  label 2: 8441\n",
      "  label 3: 10771\n",
      "  label 4: 1679\n",
      "  label 5: 5579\n",
      "  label 6: 1738\n",
      "  label 7: 2186\n",
      "model is roberta-base lstm\n"
     ]
    },
    {
     "name": "stderr",
     "output_type": "stream",
     "text": [
      "Some weights of RobertaModel were not initialized from the model checkpoint at roberta-base and are newly initialized: ['pooler.dense.bias', 'pooler.dense.weight']\n",
      "You should probably TRAIN this model on a down-stream task to be able to use it for predictions and inference.\n"
     ]
    },
    {
     "name": "stdout",
     "output_type": "stream",
     "text": [
      "Epoch 1/20\n"
     ]
    },
    {
     "name": "stderr",
     "output_type": "stream",
     "text": [
      "100%|██████████| 2339/2339 [03:34<00:00, 10.91it/s]\n"
     ]
    },
    {
     "name": "stdout",
     "output_type": "stream",
     "text": [
      "{'val_loss': 0.5351599956329307, 'val_accuracy': 0.8251015608295916, 'precision': 0.8318975914822221, 'recall': 0.8251015608295916, 'f1-score': 0.8253154571036115, 'macro_f1-score': 0.8197761826873069, 'balanced_accuracy': 0.8214961039263081, 'mcc': 0.7869693282287427, 'train_loss': 0.6886988085698195}\n",
      "Epoch 2/20\n"
     ]
    },
    {
     "name": "stderr",
     "output_type": "stream",
     "text": [
      "100%|██████████| 2339/2339 [03:34<00:00, 10.90it/s]\n"
     ]
    },
    {
     "name": "stdout",
     "output_type": "stream",
     "text": [
      "{'val_loss': 0.4505201905965805, 'val_accuracy': 0.844344665383793, 'precision': 0.8474635330892429, 'recall': 0.844344665383793, 'f1-score': 0.8434331692475471, 'macro_f1-score': 0.8448061413680799, 'balanced_accuracy': 0.833856509537477, 'mcc': 0.8082921013833892, 'train_loss': 0.4579025427020478}\n",
      "Epoch 3/20\n"
     ]
    },
    {
     "name": "stderr",
     "output_type": "stream",
     "text": [
      "100%|██████████| 2339/2339 [03:34<00:00, 10.89it/s]\n"
     ]
    },
    {
     "name": "stdout",
     "output_type": "stream",
     "text": [
      "{'val_loss': 0.4374532380802, 'val_accuracy': 0.8567457772076117, 'precision': 0.860890341101403, 'recall': 0.8567457772076117, 'f1-score': 0.8571559380784113, 'macro_f1-score': 0.8559959881194069, 'balanced_accuracy': 0.8499897343015155, 'mcc': 0.8235323768328593, 'train_loss': 0.3754431675042911}\n",
      "Epoch 4/20\n"
     ]
    },
    {
     "name": "stderr",
     "output_type": "stream",
     "text": [
      "100%|██████████| 2339/2339 [03:34<00:00, 10.89it/s]\n"
     ]
    },
    {
     "name": "stdout",
     "output_type": "stream",
     "text": [
      "{'val_loss': 0.5259357203721491, 'val_accuracy': 0.8408167628821894, 'precision': 0.8452782207285345, 'recall': 0.8408167628821894, 'f1-score': 0.8399758441725901, 'macro_f1-score': 0.8392402749335044, 'balanced_accuracy': 0.861229487087456, 'mcc': 0.807513183699266, 'train_loss': 0.3135228895392331}\n",
      "Epoch 5/20\n"
     ]
    },
    {
     "name": "stderr",
     "output_type": "stream",
     "text": [
      "100%|██████████| 2339/2339 [03:34<00:00, 10.90it/s]\n"
     ]
    },
    {
     "name": "stdout",
     "output_type": "stream",
     "text": [
      "{'val_loss': 0.4915706412922432, 'val_accuracy': 0.8532178747060081, 'precision': 0.856460766626611, 'recall': 0.8532178747060081, 'f1-score': 0.8534806297942829, 'macro_f1-score': 0.8555287356936376, 'balanced_accuracy': 0.8566663213222521, 'mcc': 0.8204467098973414, 'train_loss': 0.26040181702511744}\n",
      "Epoch 6/20\n"
     ]
    },
    {
     "name": "stderr",
     "output_type": "stream",
     "text": [
      "100%|██████████| 2339/2339 [03:34<00:00, 10.89it/s]\n"
     ]
    },
    {
     "name": "stdout",
     "output_type": "stream",
     "text": [
      "{'val_loss': 0.4861078773601315, 'val_accuracy': 0.8667949540303613, 'precision': 0.8677448327180205, 'recall': 0.8667949540303613, 'f1-score': 0.8669694112693561, 'macro_f1-score': 0.8670700124432155, 'balanced_accuracy': 0.8573498159494803, 'mcc': 0.8356172735853243, 'train_loss': 0.2131252893260248}\n",
      "Epoch 7/20\n"
     ]
    },
    {
     "name": "stderr",
     "output_type": "stream",
     "text": [
      "100%|██████████| 2339/2339 [03:34<00:00, 10.90it/s]\n"
     ]
    },
    {
     "name": "stdout",
     "output_type": "stream",
     "text": [
      "{'val_loss': 0.5427505053356927, 'val_accuracy': 0.8567457772076117, 'precision': 0.8598648370095291, 'recall': 0.8567457772076117, 'f1-score': 0.8570370972281236, 'macro_f1-score': 0.8542963519243909, 'balanced_accuracy': 0.8474959277954942, 'mcc': 0.8242612480742036, 'train_loss': 0.17736006212628208}\n",
      "Epoch 8/20\n"
     ]
    },
    {
     "name": "stderr",
     "output_type": "stream",
     "text": [
      "100%|██████████| 2339/2339 [03:34<00:00, 10.90it/s]\n"
     ]
    },
    {
     "name": "stdout",
     "output_type": "stream",
     "text": [
      "{'val_loss': 0.5846641337805484, 'val_accuracy': 0.8646568313021168, 'precision': 0.8661418105087971, 'recall': 0.8646568313021168, 'f1-score': 0.8649082597899633, 'macro_f1-score': 0.8643085631036344, 'balanced_accuracy': 0.8576760237307594, 'mcc': 0.8331931005153482, 'train_loss': 0.15343369110551108}\n",
      "Epoch 9/20\n"
     ]
    },
    {
     "name": "stderr",
     "output_type": "stream",
     "text": [
      "100%|██████████| 2339/2339 [03:34<00:00, 10.90it/s]\n"
     ]
    },
    {
     "name": "stdout",
     "output_type": "stream",
     "text": [
      "{'val_loss': 0.6836735023806493, 'val_accuracy': 0.8500106906136412, 'precision': 0.8539424697520929, 'recall': 0.8500106906136412, 'f1-score': 0.8500645253197535, 'macro_f1-score': 0.8495755201534663, 'balanced_accuracy': 0.8606457541268347, 'mcc': 0.8174884316180973, 'train_loss': 0.12926474831561952}\n",
      "Early stopping.\n",
      "\n",
      "[Fold 5]\n",
      "Label distribution after resampling:\n",
      "  label 0: 5625\n",
      "  label 1: 1399\n",
      "  label 2: 8441\n",
      "  label 3: 10771\n",
      "  label 4: 1678\n",
      "  label 5: 5579\n",
      "  label 6: 1738\n",
      "  label 7: 2187\n",
      "model is roberta-base lstm\n"
     ]
    },
    {
     "name": "stderr",
     "output_type": "stream",
     "text": [
      "Some weights of RobertaModel were not initialized from the model checkpoint at roberta-base and are newly initialized: ['pooler.dense.bias', 'pooler.dense.weight']\n",
      "You should probably TRAIN this model on a down-stream task to be able to use it for predictions and inference.\n"
     ]
    },
    {
     "name": "stdout",
     "output_type": "stream",
     "text": [
      "Epoch 1/20\n"
     ]
    },
    {
     "name": "stderr",
     "output_type": "stream",
     "text": [
      "100%|██████████| 2339/2339 [03:34<00:00, 10.90it/s]\n"
     ]
    },
    {
     "name": "stdout",
     "output_type": "stream",
     "text": [
      "{'val_loss': 0.5031906600372914, 'val_accuracy': 0.8327988026512722, 'precision': 0.8388913071452219, 'recall': 0.8327988026512722, 'f1-score': 0.833350881921124, 'macro_f1-score': 0.8303154054295903, 'balanced_accuracy': 0.8263287753910848, 'mcc': 0.7945081846895673, 'train_loss': 0.6900792957521265}\n",
      "Epoch 2/20\n"
     ]
    },
    {
     "name": "stderr",
     "output_type": "stream",
     "text": [
      "100%|██████████| 2339/2339 [03:34<00:00, 10.89it/s]\n"
     ]
    },
    {
     "name": "stdout",
     "output_type": "stream",
     "text": [
      "{'val_loss': 0.48340425498019424, 'val_accuracy': 0.8347231131066923, 'precision': 0.8390550117093944, 'recall': 0.8347231131066923, 'f1-score': 0.8336157287534627, 'macro_f1-score': 0.8306245664912986, 'balanced_accuracy': 0.8326508372501205, 'mcc': 0.7987872844779379, 'train_loss': 0.4475203712031647}\n",
      "Epoch 3/20\n"
     ]
    },
    {
     "name": "stderr",
     "output_type": "stream",
     "text": [
      "100%|██████████| 2339/2339 [03:34<00:00, 10.88it/s]\n"
     ]
    },
    {
     "name": "stdout",
     "output_type": "stream",
     "text": [
      "{'val_loss': 0.4630163953679367, 'val_accuracy': 0.8479794740218088, 'precision': 0.850985129311357, 'recall': 0.8479794740218088, 'f1-score': 0.8479973539566786, 'macro_f1-score': 0.8444051954570051, 'balanced_accuracy': 0.8557701800944848, 'mcc': 0.8146727121712388, 'train_loss': 0.35985042132650646}\n",
      "Epoch 4/20\n"
     ]
    },
    {
     "name": "stderr",
     "output_type": "stream",
     "text": [
      "100%|██████████| 2339/2339 [03:34<00:00, 10.90it/s]\n"
     ]
    },
    {
     "name": "stdout",
     "output_type": "stream",
     "text": [
      "{'val_loss': 0.45117338825749537, 'val_accuracy': 0.849903784477229, 'precision': 0.8517921671494553, 'recall': 0.849903784477229, 'f1-score': 0.8499052969386053, 'macro_f1-score': 0.845976781093877, 'balanced_accuracy': 0.8449866018852169, 'mcc': 0.8158772345111207, 'train_loss': 0.30533017021695064}\n",
      "Epoch 5/20\n"
     ]
    },
    {
     "name": "stderr",
     "output_type": "stream",
     "text": [
      "100%|██████████| 2339/2339 [03:34<00:00, 10.89it/s]\n"
     ]
    },
    {
     "name": "stdout",
     "output_type": "stream",
     "text": [
      "{'val_loss': 0.47604644274991803, 'val_accuracy': 0.8516142826598246, 'precision': 0.8536335337434771, 'recall': 0.8516142826598246, 'f1-score': 0.8518087724921312, 'macro_f1-score': 0.8525623773017655, 'balanced_accuracy': 0.840924579295692, 'mcc': 0.8168524223610232, 'train_loss': 0.28397931523546227}\n",
      "Epoch 6/20\n"
     ]
    },
    {
     "name": "stderr",
     "output_type": "stream",
     "text": [
      "100%|██████████| 2339/2339 [03:34<00:00, 10.90it/s]\n"
     ]
    },
    {
     "name": "stdout",
     "output_type": "stream",
     "text": [
      "{'val_loss': 0.4760137308102388, 'val_accuracy': 0.8543938422065427, 'precision': 0.8554160794893613, 'recall': 0.8543938422065427, 'f1-score': 0.8543933072908296, 'macro_f1-score': 0.8497830502390775, 'balanced_accuracy': 0.85333792216569, 'mcc': 0.8209005936029997, 'train_loss': 0.22330939224051163}\n",
      "Epoch 7/20\n"
     ]
    },
    {
     "name": "stderr",
     "output_type": "stream",
     "text": [
      "100%|██████████| 2339/2339 [03:34<00:00, 10.90it/s]\n"
     ]
    },
    {
     "name": "stdout",
     "output_type": "stream",
     "text": [
      "{'val_loss': 0.5261612639690821, 'val_accuracy': 0.8601667735728031, 'precision': 0.8630697672381284, 'recall': 0.8601667735728031, 'f1-score': 0.8605490394871352, 'macro_f1-score': 0.8594105221891448, 'balanced_accuracy': 0.8484350341639979, 'mcc': 0.8275487562842444, 'train_loss': 0.18831099166718795}\n",
      "Epoch 8/20\n"
     ]
    },
    {
     "name": "stderr",
     "output_type": "stream",
     "text": [
      "100%|██████████| 2339/2339 [03:34<00:00, 10.89it/s]\n"
     ]
    },
    {
     "name": "stdout",
     "output_type": "stream",
     "text": [
      "{'val_loss': 0.5748294857788322, 'val_accuracy': 0.8543938422065427, 'precision': 0.8573309806770788, 'recall': 0.8543938422065427, 'f1-score': 0.854787390081601, 'macro_f1-score': 0.853766566658952, 'balanced_accuracy': 0.8500091398252971, 'mcc': 0.8213600993334464, 'train_loss': 0.17757823507334558}\n",
      "Epoch 9/20\n"
     ]
    },
    {
     "name": "stderr",
     "output_type": "stream",
     "text": [
      "100%|██████████| 2339/2339 [03:34<00:00, 10.89it/s]\n"
     ]
    },
    {
     "name": "stdout",
     "output_type": "stream",
     "text": [
      "{'val_loss': 0.5276751386948949, 'val_accuracy': 0.8589908060722685, 'precision': 0.8595147877322562, 'recall': 0.8589908060722685, 'f1-score': 0.858818512209133, 'macro_f1-score': 0.8567133084372072, 'balanced_accuracy': 0.8542422734000059, 'mcc': 0.826775756716119, 'train_loss': 0.15088222558464212}\n",
      "Epoch 10/20\n"
     ]
    },
    {
     "name": "stderr",
     "output_type": "stream",
     "text": [
      "100%|██████████| 2339/2339 [03:34<00:00, 10.90it/s]\n"
     ]
    },
    {
     "name": "stdout",
     "output_type": "stream",
     "text": [
      "{'val_loss': 0.5772856585792879, 'val_accuracy': 0.8569595894804362, 'precision': 0.8579017497829776, 'recall': 0.8569595894804362, 'f1-score': 0.8570681668793827, 'macro_f1-score': 0.8572116099274214, 'balanced_accuracy': 0.8544518123020801, 'mcc': 0.8237937983238711, 'train_loss': 0.14613955388315078}\n",
      "Early stopping.\n",
      "\n",
      " === roberta-base + lstm + none Final 5-fold Cross-Validation Results ===\n",
      "val_loss: 0.7766\n",
      "val_accuracy: 0.7474\n",
      "precision: 0.7074\n",
      "recall: 0.7474\n",
      "f1-score: 0.7157\n",
      "macro_f1-score: 0.7006\n",
      "balanced_accuracy: 0.7092\n",
      "mcc: 0.6643\n",
      "train_loss: 0.5330\n",
      "total_seconds: 10152.0000\n",
      "total_time: 2 hrs 49 mins 12 secs\n",
      "▶ Running: roberta-base + bilstm + none\n",
      "tokenizer is roberta-base\n",
      "Using device: cuda\n",
      "CUDA Available: True\n",
      "CUDA Device: NVIDIA GeForce RTX 5070 Ti\n",
      "Current GPU Memory Allocated: 0.02 GB\n",
      "Current GPU Memory Cached: 3.93 GB\n",
      "\n",
      "[Fold 1]\n",
      "Label distribution after resampling:\n",
      "  label 0: 5626\n",
      "  label 1: 1399\n",
      "  label 2: 8442\n",
      "  label 3: 10770\n",
      "  label 4: 1678\n",
      "  label 5: 5578\n",
      "  label 6: 1737\n",
      "  label 7: 2187\n",
      "model is roberta-base bilstm\n"
     ]
    },
    {
     "name": "stderr",
     "output_type": "stream",
     "text": [
      "Some weights of RobertaModel were not initialized from the model checkpoint at roberta-base and are newly initialized: ['pooler.dense.bias', 'pooler.dense.weight']\n",
      "You should probably TRAIN this model on a down-stream task to be able to use it for predictions and inference.\n"
     ]
    },
    {
     "name": "stdout",
     "output_type": "stream",
     "text": [
      "Epoch 1/20\n"
     ]
    },
    {
     "name": "stderr",
     "output_type": "stream",
     "text": [
      "100%|██████████| 2339/2339 [03:41<00:00, 10.57it/s]\n"
     ]
    },
    {
     "name": "stdout",
     "output_type": "stream",
     "text": [
      "{'val_loss': 0.5446397443421376, 'val_accuracy': 0.8040619989310529, 'precision': 0.8267870023814736, 'recall': 0.8040619989310529, 'f1-score': 0.8049307418333652, 'macro_f1-score': 0.8112588994353788, 'balanced_accuracy': 0.8160929192893338, 'mcc': 0.7671223499727685, 'train_loss': 0.6811192081767353}\n",
      "Epoch 2/20\n"
     ]
    },
    {
     "name": "stderr",
     "output_type": "stream",
     "text": [
      "100%|██████████| 2339/2339 [03:41<00:00, 10.57it/s]\n"
     ]
    },
    {
     "name": "stdout",
     "output_type": "stream",
     "text": [
      "{'val_loss': 0.4401311411657649, 'val_accuracy': 0.8516301443078568, 'precision': 0.8582932998971681, 'recall': 0.8516301443078568, 'f1-score': 0.8526533973226532, 'macro_f1-score': 0.8523228196602859, 'balanced_accuracy': 0.8506054209407568, 'mcc': 0.8190346948513694, 'train_loss': 0.44316370277249467}\n",
      "Epoch 3/20\n"
     ]
    },
    {
     "name": "stderr",
     "output_type": "stream",
     "text": [
      "100%|██████████| 2339/2339 [03:40<00:00, 10.59it/s]\n"
     ]
    },
    {
     "name": "stdout",
     "output_type": "stream",
     "text": [
      "{'val_loss': 0.42079448163127287, 'val_accuracy': 0.8650988776055585, 'precision': 0.8657615468161746, 'recall': 0.8650988776055585, 'f1-score': 0.8646511039060227, 'macro_f1-score': 0.8605209685797663, 'balanced_accuracy': 0.8512637885595622, 'mcc': 0.8335973656650336, 'train_loss': 0.35575004493441015}\n",
      "Epoch 4/20\n"
     ]
    },
    {
     "name": "stderr",
     "output_type": "stream",
     "text": [
      "100%|██████████| 2339/2339 [03:41<00:00, 10.58it/s]\n"
     ]
    },
    {
     "name": "stdout",
     "output_type": "stream",
     "text": [
      "{'val_loss': 0.4236802397884874, 'val_accuracy': 0.8594334580438269, 'precision': 0.8623811904157535, 'recall': 0.8594334580438269, 'f1-score': 0.8594960280116384, 'macro_f1-score': 0.8543411411427946, 'balanced_accuracy': 0.8500464717032743, 'mcc': 0.8275169779336671, 'train_loss': 0.29588236839619203}\n",
      "Epoch 5/20\n"
     ]
    },
    {
     "name": "stderr",
     "output_type": "stream",
     "text": [
      "100%|██████████| 2339/2339 [03:40<00:00, 10.59it/s]\n"
     ]
    },
    {
     "name": "stdout",
     "output_type": "stream",
     "text": [
      "{'val_loss': 0.48003584370255853, 'val_accuracy': 0.8577231427044362, 'precision': 0.8602630086444639, 'recall': 0.8577231427044362, 'f1-score': 0.8576102388501664, 'macro_f1-score': 0.8560854987826992, 'balanced_accuracy': 0.8493439939936973, 'mcc': 0.8246289786960442, 'train_loss': 0.24206747410280607}\n",
      "Epoch 6/20\n"
     ]
    },
    {
     "name": "stderr",
     "output_type": "stream",
     "text": [
      "100%|██████████| 2339/2339 [03:40<00:00, 10.60it/s]\n"
     ]
    },
    {
     "name": "stdout",
     "output_type": "stream",
     "text": [
      "{'val_loss': 0.47519114764057035, 'val_accuracy': 0.863174772848744, 'precision': 0.865300630407337, 'recall': 0.863174772848744, 'f1-score': 0.863576804893704, 'macro_f1-score': 0.8582264307893492, 'balanced_accuracy': 0.8505150532278984, 'mcc': 0.831678474285594, 'train_loss': 0.2033937357110459}\n",
      "Early stopping.\n",
      "\n",
      "[Fold 2]\n",
      "Label distribution after resampling:\n",
      "  label 0: 5626\n",
      "  label 1: 1400\n",
      "  label 2: 8442\n",
      "  label 3: 10770\n",
      "  label 4: 1678\n",
      "  label 5: 5578\n",
      "  label 6: 1737\n",
      "  label 7: 2186\n",
      "model is roberta-base bilstm\n"
     ]
    },
    {
     "name": "stderr",
     "output_type": "stream",
     "text": [
      "Some weights of RobertaModel were not initialized from the model checkpoint at roberta-base and are newly initialized: ['pooler.dense.bias', 'pooler.dense.weight']\n",
      "You should probably TRAIN this model on a down-stream task to be able to use it for predictions and inference.\n"
     ]
    },
    {
     "name": "stdout",
     "output_type": "stream",
     "text": [
      "Epoch 1/20\n"
     ]
    },
    {
     "name": "stderr",
     "output_type": "stream",
     "text": [
      "100%|██████████| 2339/2339 [03:40<00:00, 10.58it/s]\n"
     ]
    },
    {
     "name": "stdout",
     "output_type": "stream",
     "text": [
      "{'val_loss': 0.5081636741247951, 'val_accuracy': 0.831640833778728, 'precision': 0.8339691402541674, 'recall': 0.831640833778728, 'f1-score': 0.8315244964008348, 'macro_f1-score': 0.8315161455633184, 'balanced_accuracy': 0.8196411145997327, 'mcc': 0.7925483494094953, 'train_loss': 0.6766143990628813}\n",
      "Epoch 2/20\n"
     ]
    },
    {
     "name": "stderr",
     "output_type": "stream",
     "text": [
      "100%|██████████| 2339/2339 [03:41<00:00, 10.58it/s]\n"
     ]
    },
    {
     "name": "stdout",
     "output_type": "stream",
     "text": [
      "{'val_loss': 0.47402196630644494, 'val_accuracy': 0.8370924639230358, 'precision': 0.8415249840242989, 'recall': 0.8370924639230358, 'f1-score': 0.8366383624432574, 'macro_f1-score': 0.8389886854313522, 'balanced_accuracy': 0.836632173274435, 'mcc': 0.8016782868828148, 'train_loss': 0.44498373358460663}\n",
      "Epoch 3/20\n"
     ]
    },
    {
     "name": "stderr",
     "output_type": "stream",
     "text": [
      "100%|██████████| 2339/2339 [03:40<00:00, 10.59it/s]\n"
     ]
    },
    {
     "name": "stdout",
     "output_type": "stream",
     "text": [
      "{'val_loss': 0.49800110063237, 'val_accuracy': 0.8376269374665954, 'precision': 0.8442247638630407, 'recall': 0.8376269374665954, 'f1-score': 0.8379362071423195, 'macro_f1-score': 0.8375456314506599, 'balanced_accuracy': 0.8601779469536427, 'mcc': 0.8025953439742342, 'train_loss': 0.36378840029927695}\n",
      "Epoch 4/20\n"
     ]
    },
    {
     "name": "stderr",
     "output_type": "stream",
     "text": [
      "100%|██████████| 2339/2339 [03:41<00:00, 10.57it/s]\n"
     ]
    },
    {
     "name": "stdout",
     "output_type": "stream",
     "text": [
      "{'val_loss': 0.49228426652331636, 'val_accuracy': 0.8440406199893106, 'precision': 0.8467077521318376, 'recall': 0.8440406199893106, 'f1-score': 0.8443914056575608, 'macro_f1-score': 0.8400714873026423, 'balanced_accuracy': 0.8485430438981089, 'mcc': 0.8085595131796459, 'train_loss': 0.3021449529008033}\n",
      "Epoch 5/20\n"
     ]
    },
    {
     "name": "stderr",
     "output_type": "stream",
     "text": [
      "100%|██████████| 2339/2339 [03:41<00:00, 10.58it/s]\n"
     ]
    },
    {
     "name": "stdout",
     "output_type": "stream",
     "text": [
      "{'val_loss': 0.5109956410212012, 'val_accuracy': 0.8512025654730091, 'precision': 0.8548918312741166, 'recall': 0.8512025654730091, 'f1-score': 0.8514620665042204, 'macro_f1-score': 0.8499176859936554, 'balanced_accuracy': 0.8562722240941938, 'mcc': 0.8181068187925015, 'train_loss': 0.25688801613959233}\n",
      "Epoch 6/20\n"
     ]
    },
    {
     "name": "stderr",
     "output_type": "stream",
     "text": [
      "100%|██████████| 2339/2339 [03:41<00:00, 10.58it/s]\n"
     ]
    },
    {
     "name": "stdout",
     "output_type": "stream",
     "text": [
      "{'val_loss': 0.5095610251196493, 'val_accuracy': 0.8520577231427044, 'precision': 0.8531903267370254, 'recall': 0.8520577231427044, 'f1-score': 0.8518744465439301, 'macro_f1-score': 0.8537619090519741, 'balanced_accuracy': 0.8469404745222908, 'mcc': 0.8181648856673555, 'train_loss': 0.20780528803161286}\n",
      "Epoch 7/20\n"
     ]
    },
    {
     "name": "stderr",
     "output_type": "stream",
     "text": [
      "100%|██████████| 2339/2339 [03:41<00:00, 10.58it/s]\n"
     ]
    },
    {
     "name": "stdout",
     "output_type": "stream",
     "text": [
      "{'val_loss': 0.5529384326237516, 'val_accuracy': 0.8483164083377873, 'precision': 0.8519071656370333, 'recall': 0.8483164083377873, 'f1-score': 0.8489218667724373, 'macro_f1-score': 0.8516535367174787, 'balanced_accuracy': 0.8354472633814456, 'mcc': 0.8128523629542251, 'train_loss': 0.17079662140968482}\n",
      "Epoch 8/20\n"
     ]
    },
    {
     "name": "stderr",
     "output_type": "stream",
     "text": [
      "100%|██████████| 2339/2339 [03:41<00:00, 10.57it/s]\n"
     ]
    },
    {
     "name": "stdout",
     "output_type": "stream",
     "text": [
      "{'val_loss': 0.6065283259842544, 'val_accuracy': 0.8557990379476216, 'precision': 0.8565074515423527, 'recall': 0.8557990379476216, 'f1-score': 0.8556044842867226, 'macro_f1-score': 0.8566244948887047, 'balanced_accuracy': 0.8507974030958168, 'mcc': 0.8225669684022323, 'train_loss': 0.1436366959010713}\n",
      "Epoch 9/20\n"
     ]
    },
    {
     "name": "stderr",
     "output_type": "stream",
     "text": [
      "100%|██████████| 2339/2339 [03:40<00:00, 10.59it/s]\n"
     ]
    },
    {
     "name": "stdout",
     "output_type": "stream",
     "text": [
      "{'val_loss': 0.6180155860124809, 'val_accuracy': 0.8528059861036879, 'precision': 0.8536709539698069, 'recall': 0.8528059861036879, 'f1-score': 0.8524824680643519, 'macro_f1-score': 0.8534549692217678, 'balanced_accuracy': 0.8485957042506526, 'mcc': 0.8187707582399409, 'train_loss': 0.12500228954003484}\n",
      "Epoch 10/20\n"
     ]
    },
    {
     "name": "stderr",
     "output_type": "stream",
     "text": [
      "100%|██████████| 2339/2339 [03:40<00:00, 10.59it/s]\n"
     ]
    },
    {
     "name": "stdout",
     "output_type": "stream",
     "text": [
      "{'val_loss': 0.6279577468673133, 'val_accuracy': 0.8517370390165687, 'precision': 0.8535983751929348, 'recall': 0.8517370390165687, 'f1-score': 0.851802565511481, 'macro_f1-score': 0.8474255838476439, 'balanced_accuracy': 0.8611246141743882, 'mcc': 0.8183776799126178, 'train_loss': 0.11339607165883286}\n",
      "Epoch 11/20\n"
     ]
    },
    {
     "name": "stderr",
     "output_type": "stream",
     "text": [
      "100%|██████████| 2339/2339 [03:41<00:00, 10.57it/s]\n"
     ]
    },
    {
     "name": "stdout",
     "output_type": "stream",
     "text": [
      "{'val_loss': 0.7029528414239534, 'val_accuracy': 0.8550507749866382, 'precision': 0.8592708971185977, 'recall': 0.8550507749866382, 'f1-score': 0.8549529854412496, 'macro_f1-score': 0.8533090923079499, 'balanced_accuracy': 0.837076775092811, 'mcc': 0.8211571745170314, 'train_loss': 0.10068604212292909}\n",
      "Early stopping.\n",
      "\n",
      "[Fold 3]\n",
      "Label distribution after resampling:\n",
      "  label 0: 5626\n",
      "  label 1: 1399\n",
      "  label 2: 8442\n",
      "  label 3: 10770\n",
      "  label 4: 1679\n",
      "  label 5: 5578\n",
      "  label 6: 1738\n",
      "  label 7: 2186\n",
      "model is roberta-base bilstm\n"
     ]
    },
    {
     "name": "stderr",
     "output_type": "stream",
     "text": [
      "Some weights of RobertaModel were not initialized from the model checkpoint at roberta-base and are newly initialized: ['pooler.dense.bias', 'pooler.dense.weight']\n",
      "You should probably TRAIN this model on a down-stream task to be able to use it for predictions and inference.\n"
     ]
    },
    {
     "name": "stdout",
     "output_type": "stream",
     "text": [
      "Epoch 1/20\n"
     ]
    },
    {
     "name": "stderr",
     "output_type": "stream",
     "text": [
      "100%|██████████| 2339/2339 [03:40<00:00, 10.59it/s]\n"
     ]
    },
    {
     "name": "stdout",
     "output_type": "stream",
     "text": [
      "{'val_loss': 0.502449230187469, 'val_accuracy': 0.8375026726534103, 'precision': 0.844062563719729, 'recall': 0.8375026726534103, 'f1-score': 0.8370961060780506, 'macro_f1-score': 0.8434949881902499, 'balanced_accuracy': 0.8328894301738623, 'mcc': 0.800702984836025, 'train_loss': 0.7135200621787173}\n",
      "Epoch 2/20\n"
     ]
    },
    {
     "name": "stderr",
     "output_type": "stream",
     "text": [
      "100%|██████████| 2339/2339 [03:40<00:00, 10.60it/s]\n"
     ]
    },
    {
     "name": "stdout",
     "output_type": "stream",
     "text": [
      "{'val_loss': 0.4661366671196416, 'val_accuracy': 0.8468035065212743, 'precision': 0.8499543625686088, 'recall': 0.8468035065212743, 'f1-score': 0.8467482038690599, 'macro_f1-score': 0.8439067516817715, 'balanced_accuracy': 0.839889341262954, 'mcc': 0.812118860237293, 'train_loss': 0.45415215645114443}\n",
      "Epoch 3/20\n"
     ]
    },
    {
     "name": "stderr",
     "output_type": "stream",
     "text": [
      "100%|██████████| 2339/2339 [03:40<00:00, 10.58it/s]\n"
     ]
    },
    {
     "name": "stdout",
     "output_type": "stream",
     "text": [
      "{'val_loss': 0.41466473397663517, 'val_accuracy': 0.8650844558477656, 'precision': 0.8661835433240965, 'recall': 0.8650844558477656, 'f1-score': 0.8651981954396614, 'macro_f1-score': 0.8617831601405872, 'balanced_accuracy': 0.8668196824666227, 'mcc': 0.8345136207755773, 'train_loss': 0.3727660355536015}\n",
      "Epoch 4/20\n"
     ]
    },
    {
     "name": "stderr",
     "output_type": "stream",
     "text": [
      "100%|██████████| 2339/2339 [03:40<00:00, 10.60it/s]\n"
     ]
    },
    {
     "name": "stdout",
     "output_type": "stream",
     "text": [
      "{'val_loss': 0.39236613431802164, 'val_accuracy': 0.8693607013042549, 'precision': 0.8711847498294104, 'recall': 0.8693607013042549, 'f1-score': 0.8698303296769944, 'macro_f1-score': 0.8667530108971235, 'balanced_accuracy': 0.8684189427261729, 'mcc': 0.8392939652885644, 'train_loss': 0.30604023394995505}\n",
      "Epoch 5/20\n"
     ]
    },
    {
     "name": "stderr",
     "output_type": "stream",
     "text": [
      "100%|██████████| 2339/2339 [03:40<00:00, 10.60it/s]\n"
     ]
    },
    {
     "name": "stdout",
     "output_type": "stream",
     "text": [
      "{'val_loss': 0.4254795012374719, 'val_accuracy': 0.8673294847124224, 'precision': 0.8700400772486248, 'recall': 0.8673294847124224, 'f1-score': 0.8671052849428147, 'macro_f1-score': 0.8630265131942856, 'balanced_accuracy': 0.8461399657885812, 'mcc': 0.8363742343594139, 'train_loss': 0.25474454491236376}\n",
      "Epoch 6/20\n"
     ]
    },
    {
     "name": "stderr",
     "output_type": "stream",
     "text": [
      "100%|██████████| 2339/2339 [03:41<00:00, 10.57it/s]\n"
     ]
    },
    {
     "name": "stdout",
     "output_type": "stream",
     "text": [
      "{'val_loss': 0.4779845172459753, 'val_accuracy': 0.8632670515287577, 'precision': 0.867977683741936, 'recall': 0.8632670515287577, 'f1-score': 0.8642110459291262, 'macro_f1-score': 0.858491924571091, 'balanced_accuracy': 0.8583441331336383, 'mcc': 0.8324939963662052, 'train_loss': 0.20823688253496747}\n",
      "Epoch 7/20\n"
     ]
    },
    {
     "name": "stderr",
     "output_type": "stream",
     "text": [
      "100%|██████████| 2339/2339 [03:40<00:00, 10.59it/s]\n"
     ]
    },
    {
     "name": "stdout",
     "output_type": "stream",
     "text": [
      "{'val_loss': 0.5374245469446461, 'val_accuracy': 0.8645499251657045, 'precision': 0.869539203277753, 'recall': 0.8645499251657045, 'f1-score': 0.8646179302257796, 'macro_f1-score': 0.8539549472269254, 'balanced_accuracy': 0.8469897259709933, 'mcc': 0.833410030923988, 'train_loss': 0.17687227347504958}\n",
      "Early stopping.\n",
      "\n",
      "[Fold 4]\n",
      "Label distribution after resampling:\n",
      "  label 0: 5625\n",
      "  label 1: 1399\n",
      "  label 2: 8441\n",
      "  label 3: 10771\n",
      "  label 4: 1679\n",
      "  label 5: 5579\n",
      "  label 6: 1738\n",
      "  label 7: 2186\n",
      "model is roberta-base bilstm\n"
     ]
    },
    {
     "name": "stderr",
     "output_type": "stream",
     "text": [
      "Some weights of RobertaModel were not initialized from the model checkpoint at roberta-base and are newly initialized: ['pooler.dense.bias', 'pooler.dense.weight']\n",
      "You should probably TRAIN this model on a down-stream task to be able to use it for predictions and inference.\n"
     ]
    },
    {
     "name": "stdout",
     "output_type": "stream",
     "text": [
      "Epoch 1/20\n"
     ]
    },
    {
     "name": "stderr",
     "output_type": "stream",
     "text": [
      "100%|██████████| 2339/2339 [03:40<00:00, 10.59it/s]\n"
     ]
    },
    {
     "name": "stdout",
     "output_type": "stream",
     "text": [
      "{'val_loss': 0.5490944712080508, 'val_accuracy': 0.8296985246953175, 'precision': 0.8343357491894416, 'recall': 0.8296985246953175, 'f1-score': 0.8295897739193102, 'macro_f1-score': 0.8292024441349362, 'balanced_accuracy': 0.8183023442793183, 'mcc': 0.7909403185489015, 'train_loss': 0.6989541221704683}\n",
      "Epoch 2/20\n"
     ]
    },
    {
     "name": "stderr",
     "output_type": "stream",
     "text": [
      "100%|██████████| 2339/2339 [03:41<00:00, 10.58it/s]\n"
     ]
    },
    {
     "name": "stdout",
     "output_type": "stream",
     "text": [
      "{'val_loss': 0.43968829869205117, 'val_accuracy': 0.8580286508445585, 'precision': 0.8612911228164162, 'recall': 0.8580286508445585, 'f1-score': 0.8583575635145947, 'macro_f1-score': 0.8604275782721142, 'balanced_accuracy': 0.8451952039293587, 'mcc': 0.8253712527424151, 'train_loss': 0.4551102525915739}\n",
      "Epoch 3/20\n"
     ]
    },
    {
     "name": "stderr",
     "output_type": "stream",
     "text": [
      "100%|██████████| 2339/2339 [03:41<00:00, 10.58it/s]\n"
     ]
    },
    {
     "name": "stdout",
     "output_type": "stream",
     "text": [
      "{'val_loss': 0.45751949958184845, 'val_accuracy': 0.8462689758392131, 'precision': 0.8485192063929823, 'recall': 0.8462689758392131, 'f1-score': 0.8460998941524079, 'macro_f1-score': 0.8407853006408847, 'balanced_accuracy': 0.8481738464506443, 'mcc': 0.8115396207372945, 'train_loss': 0.3813197967182652}\n",
      "Epoch 4/20\n"
     ]
    },
    {
     "name": "stderr",
     "output_type": "stream",
     "text": [
      "100%|██████████| 2339/2339 [03:40<00:00, 10.59it/s]\n"
     ]
    },
    {
     "name": "stdout",
     "output_type": "stream",
     "text": [
      "{'val_loss': 0.4664140683129175, 'val_accuracy': 0.8539662176608938, 'precision': 0.8595259650784915, 'recall': 0.8539662176608938, 'f1-score': 0.8534779405765185, 'macro_f1-score': 0.8551560906812361, 'balanced_accuracy': 0.8373366039823713, 'mcc': 0.8202208227287974, 'train_loss': 0.32387362611800585}\n",
      "Epoch 5/20\n"
     ]
    },
    {
     "name": "stderr",
     "output_type": "stream",
     "text": [
      "100%|██████████| 2339/2339 [03:41<00:00, 10.58it/s]\n"
     ]
    },
    {
     "name": "stdout",
     "output_type": "stream",
     "text": [
      "{'val_loss': 0.4189892998506498, 'val_accuracy': 0.8644430190292923, 'precision': 0.8649525300741941, 'recall': 0.8644430190292923, 'f1-score': 0.8642039383331503, 'macro_f1-score': 0.8650447068607903, 'balanced_accuracy': 0.8545520846944575, 'mcc': 0.832786253089287, 'train_loss': 0.27259173765165357}\n",
      "Epoch 6/20\n"
     ]
    },
    {
     "name": "stderr",
     "output_type": "stream",
     "text": [
      "100%|██████████| 2339/2339 [03:41<00:00, 10.58it/s]\n"
     ]
    },
    {
     "name": "stdout",
     "output_type": "stream",
     "text": [
      "{'val_loss': 0.5660815014209375, 'val_accuracy': 0.8419927303827239, 'precision': 0.8458931051824444, 'recall': 0.8419927303827239, 'f1-score': 0.8414892757015099, 'macro_f1-score': 0.8405739916060861, 'balanced_accuracy': 0.8535300025709562, 'mcc': 0.808152923975218, 'train_loss': 0.23372421497116747}\n",
      "Epoch 7/20\n"
     ]
    },
    {
     "name": "stderr",
     "output_type": "stream",
     "text": [
      "100%|██████████| 2339/2339 [03:41<00:00, 10.58it/s]\n"
     ]
    },
    {
     "name": "stdout",
     "output_type": "stream",
     "text": [
      "{'val_loss': 0.48737264489038634, 'val_accuracy': 0.8598460551635664, 'precision': 0.860422574549951, 'recall': 0.8598460551635664, 'f1-score': 0.859559570074114, 'macro_f1-score': 0.8564978636094134, 'balanced_accuracy': 0.843798395170558, 'mcc': 0.8269467326371386, 'train_loss': 0.2001813490142032}\n",
      "Epoch 8/20\n"
     ]
    },
    {
     "name": "stderr",
     "output_type": "stream",
     "text": [
      "100%|██████████| 2339/2339 [03:41<00:00, 10.58it/s]\n"
     ]
    },
    {
     "name": "stdout",
     "output_type": "stream",
     "text": [
      "{'val_loss': 0.5136956268833934, 'val_accuracy': 0.8610220226641009, 'precision': 0.8620398718279586, 'recall': 0.8610220226641009, 'f1-score': 0.8611616080296324, 'macro_f1-score': 0.8608539174168806, 'balanced_accuracy': 0.8504341613045938, 'mcc': 0.8286987989100313, 'train_loss': 0.16919335498862356}\n",
      "Early stopping.\n",
      "\n",
      "[Fold 5]\n",
      "Label distribution after resampling:\n",
      "  label 0: 5625\n",
      "  label 1: 1399\n",
      "  label 2: 8441\n",
      "  label 3: 10771\n",
      "  label 4: 1678\n",
      "  label 5: 5579\n",
      "  label 6: 1738\n",
      "  label 7: 2187\n",
      "model is roberta-base bilstm\n"
     ]
    },
    {
     "name": "stderr",
     "output_type": "stream",
     "text": [
      "Some weights of RobertaModel were not initialized from the model checkpoint at roberta-base and are newly initialized: ['pooler.dense.bias', 'pooler.dense.weight']\n",
      "You should probably TRAIN this model on a down-stream task to be able to use it for predictions and inference.\n"
     ]
    },
    {
     "name": "stdout",
     "output_type": "stream",
     "text": [
      "Epoch 1/20\n"
     ]
    },
    {
     "name": "stderr",
     "output_type": "stream",
     "text": [
      "100%|██████████| 2339/2339 [03:40<00:00, 10.59it/s]\n"
     ]
    },
    {
     "name": "stdout",
     "output_type": "stream",
     "text": [
      "{'val_loss': 0.48079280384266987, 'val_accuracy': 0.8380372033354715, 'precision': 0.8398180996333979, 'recall': 0.8380372033354715, 'f1-score': 0.8381024147094487, 'macro_f1-score': 0.8383576478746413, 'balanced_accuracy': 0.8264851342698761, 'mcc': 0.7999657052806768, 'train_loss': 0.692473010206615}\n",
      "Epoch 2/20\n"
     ]
    },
    {
     "name": "stderr",
     "output_type": "stream",
     "text": [
      "100%|██████████| 2339/2339 [03:40<00:00, 10.60it/s]\n"
     ]
    },
    {
     "name": "stdout",
     "output_type": "stream",
     "text": [
      "{'val_loss': 0.4570054658012003, 'val_accuracy': 0.8448791960658542, 'precision': 0.846665071244267, 'recall': 0.8448791960658542, 'f1-score': 0.8441210253194281, 'macro_f1-score': 0.8430000979915162, 'balanced_accuracy': 0.8314380662020666, 'mcc': 0.8094285230542074, 'train_loss': 0.45110751149993567}\n",
      "Epoch 3/20\n"
     ]
    },
    {
     "name": "stderr",
     "output_type": "stream",
     "text": [
      "100%|██████████| 2339/2339 [03:41<00:00, 10.57it/s]\n"
     ]
    },
    {
     "name": "stdout",
     "output_type": "stream",
     "text": [
      "{'val_loss': 0.4821652758293427, 'val_accuracy': 0.8396407953816549, 'precision': 0.8469990838677838, 'recall': 0.8396407953816549, 'f1-score': 0.8392959949133462, 'macro_f1-score': 0.8386114459478755, 'balanced_accuracy': 0.8277814989983608, 'mcc': 0.8039564928083842, 'train_loss': 0.3748747284431369}\n",
      "Epoch 4/20\n"
     ]
    },
    {
     "name": "stderr",
     "output_type": "stream",
     "text": [
      "100%|██████████| 2339/2339 [03:41<00:00, 10.58it/s]\n"
     ]
    },
    {
     "name": "stdout",
     "output_type": "stream",
     "text": [
      "{'val_loss': 0.4415965494994297, 'val_accuracy': 0.8572803078896729, 'precision': 0.8584863928647698, 'recall': 0.8572803078896729, 'f1-score': 0.8571198865805819, 'macro_f1-score': 0.8551565144368389, 'balanced_accuracy': 0.8528703752810841, 'mcc': 0.8248994555813657, 'train_loss': 0.3216119106335772}\n",
      "Epoch 5/20\n"
     ]
    },
    {
     "name": "stderr",
     "output_type": "stream",
     "text": [
      "100%|██████████| 2339/2339 [03:40<00:00, 10.59it/s]\n"
     ]
    },
    {
     "name": "stdout",
     "output_type": "stream",
     "text": [
      "{'val_loss': 1.8348900572866456, 'val_accuracy': 0.28779131922172335, 'precision': 0.08282384341937987, 'recall': 0.28779131922172335, 'f1-score': 0.12862929293456404, 'macro_f1-score': 0.055869168188610326, 'balanced_accuracy': 0.125, 'mcc': 0.0, 'train_loss': 1.4878676571788099}\n",
      "Epoch 6/20\n"
     ]
    },
    {
     "name": "stderr",
     "output_type": "stream",
     "text": [
      "100%|██████████| 2339/2339 [03:40<00:00, 10.59it/s]\n"
     ]
    },
    {
     "name": "stdout",
     "output_type": "stream",
     "text": [
      "{'val_loss': 1.8351258233062222, 'val_accuracy': 0.28779131922172335, 'precision': 0.08282384341937987, 'recall': 0.28779131922172335, 'f1-score': 0.12862929293456404, 'macro_f1-score': 0.055869168188610326, 'balanced_accuracy': 0.125, 'mcc': 0.0, 'train_loss': 1.8376754552393502}\n",
      "Epoch 7/20\n"
     ]
    },
    {
     "name": "stderr",
     "output_type": "stream",
     "text": [
      "100%|██████████| 2339/2339 [03:40<00:00, 10.58it/s]\n"
     ]
    },
    {
     "name": "stdout",
     "output_type": "stream",
     "text": [
      "{'val_loss': 1.8368611676061255, 'val_accuracy': 0.28779131922172335, 'precision': 0.08282384341937987, 'recall': 0.28779131922172335, 'f1-score': 0.12862929293456404, 'macro_f1-score': 0.055869168188610326, 'balanced_accuracy': 0.125, 'mcc': 0.0, 'train_loss': 1.836902001261864}\n",
      "Early stopping.\n",
      "\n",
      " === roberta-base + bilstm + none Final 5-fold Cross-Validation Results ===\n",
      "val_loss: 0.4561\n",
      "val_accuracy: 0.8624\n",
      "precision: 0.8634\n",
      "recall: 0.8624\n",
      "f1-score: 0.8623\n",
      "macro_f1-score: 0.8608\n",
      "balanced_accuracy: 0.8556\n",
      "mcc: 0.8306\n",
      "train_loss: 0.2799\n",
      "total_seconds: 9478.0000\n",
      "total_time: 2 hrs 37 mins 58 secs\n",
      "▶ Running: microsoft/deberta-base + plain + none\n",
      "tokenizer is microsoft/deberta-base\n",
      "Using device: cuda\n",
      "CUDA Available: True\n",
      "CUDA Device: NVIDIA GeForce RTX 5070 Ti\n",
      "Current GPU Memory Allocated: 0.02 GB\n",
      "Current GPU Memory Cached: 3.93 GB\n",
      "\n",
      "[Fold 1]\n",
      "Label distribution after resampling:\n",
      "  label 0: 5626\n",
      "  label 1: 1399\n",
      "  label 2: 8442\n",
      "  label 3: 10770\n",
      "  label 4: 1678\n",
      "  label 5: 5578\n",
      "  label 6: 1737\n",
      "  label 7: 2187\n",
      "model is microsoft/deberta-base\n"
     ]
    },
    {
     "name": "stderr",
     "output_type": "stream",
     "text": [
      "Some weights of DebertaForSequenceClassification were not initialized from the model checkpoint at microsoft/deberta-base and are newly initialized: ['classifier.bias', 'classifier.weight', 'pooler.dense.bias', 'pooler.dense.weight']\n",
      "You should probably TRAIN this model on a down-stream task to be able to use it for predictions and inference.\n"
     ]
    },
    {
     "name": "stdout",
     "output_type": "stream",
     "text": [
      "Epoch 1/20\n"
     ]
    },
    {
     "name": "stderr",
     "output_type": "stream",
     "text": [
      "100%|██████████| 2339/2339 [03:56<00:00,  9.89it/s]\n"
     ]
    },
    {
     "name": "stdout",
     "output_type": "stream",
     "text": [
      "{'val_loss': 1.835243850080376, 'val_accuracy': 0.2878674505611972, 'precision': 0.08286766909260333, 'recall': 0.2878674505611972, 'f1-score': 0.1286897483999509, 'macro_f1-score': 0.055880644090305444, 'balanced_accuracy': 0.125, 'mcc': 0.0, 'train_loss': 1.8469534445237075}\n",
      "Epoch 2/20\n"
     ]
    },
    {
     "name": "stderr",
     "output_type": "stream",
     "text": [
      "100%|██████████| 2339/2339 [03:56<00:00,  9.90it/s]\n"
     ]
    },
    {
     "name": "stdout",
     "output_type": "stream",
     "text": [
      "{'val_loss': 1.8379714674419827, 'val_accuracy': 0.2878674505611972, 'precision': 0.08286766909260333, 'recall': 0.2878674505611972, 'f1-score': 0.1286897483999509, 'macro_f1-score': 0.055880644090305444, 'balanced_accuracy': 0.125, 'mcc': 0.0, 'train_loss': 1.8377836156268565}\n",
      "Epoch 3/20\n"
     ]
    },
    {
     "name": "stderr",
     "output_type": "stream",
     "text": [
      "100%|██████████| 2339/2339 [03:56<00:00,  9.90it/s]\n"
     ]
    },
    {
     "name": "stdout",
     "output_type": "stream",
     "text": [
      "{'val_loss': 1.8344562251343686, 'val_accuracy': 0.2878674505611972, 'precision': 0.08286766909260333, 'recall': 0.2878674505611972, 'f1-score': 0.1286897483999509, 'macro_f1-score': 0.055880644090305444, 'balanced_accuracy': 0.125, 'mcc': 0.0, 'train_loss': 1.8379847953950508}\n",
      "Epoch 4/20\n"
     ]
    },
    {
     "name": "stderr",
     "output_type": "stream",
     "text": [
      "100%|██████████| 2339/2339 [03:56<00:00,  9.90it/s]\n"
     ]
    },
    {
     "name": "stdout",
     "output_type": "stream",
     "text": [
      "{'val_loss': 1.8341972774929471, 'val_accuracy': 0.2878674505611972, 'precision': 0.08286766909260333, 'recall': 0.2878674505611972, 'f1-score': 0.1286897483999509, 'macro_f1-score': 0.055880644090305444, 'balanced_accuracy': 0.125, 'mcc': 0.0, 'train_loss': 1.8365873590704211}\n",
      "Early stopping.\n",
      "\n",
      "[Fold 2]\n",
      "Label distribution after resampling:\n",
      "  label 0: 5626\n",
      "  label 1: 1400\n",
      "  label 2: 8442\n",
      "  label 3: 10770\n",
      "  label 4: 1678\n",
      "  label 5: 5578\n",
      "  label 6: 1737\n",
      "  label 7: 2186\n",
      "model is microsoft/deberta-base\n"
     ]
    },
    {
     "name": "stderr",
     "output_type": "stream",
     "text": [
      "Some weights of DebertaForSequenceClassification were not initialized from the model checkpoint at microsoft/deberta-base and are newly initialized: ['classifier.bias', 'classifier.weight', 'pooler.dense.bias', 'pooler.dense.weight']\n",
      "You should probably TRAIN this model on a down-stream task to be able to use it for predictions and inference.\n"
     ]
    },
    {
     "name": "stdout",
     "output_type": "stream",
     "text": [
      "Epoch 1/20\n"
     ]
    },
    {
     "name": "stderr",
     "output_type": "stream",
     "text": [
      "100%|██████████| 2339/2339 [03:56<00:00,  9.90it/s]\n"
     ]
    },
    {
     "name": "stdout",
     "output_type": "stream",
     "text": [
      "{'val_loss': 0.48458799139684083, 'val_accuracy': 0.830251202565473, 'precision': 0.8343775307815314, 'recall': 0.830251202565473, 'f1-score': 0.8303506413677146, 'macro_f1-score': 0.8350893543544973, 'balanced_accuracy': 0.8287781917155772, 'mcc': 0.792378446479875, 'train_loss': 0.6029888104317712}\n",
      "Epoch 2/20\n"
     ]
    },
    {
     "name": "stderr",
     "output_type": "stream",
     "text": [
      "100%|██████████| 2339/2339 [03:56<00:00,  9.90it/s]\n"
     ]
    },
    {
     "name": "stdout",
     "output_type": "stream",
     "text": [
      "{'val_loss': 0.4686003935913372, 'val_accuracy': 0.8484233030464992, 'precision': 0.85166728959942, 'recall': 0.8484233030464992, 'f1-score': 0.8480292858321773, 'macro_f1-score': 0.8491508120418645, 'balanced_accuracy': 0.8303262812682957, 'mcc': 0.8128120356005717, 'train_loss': 0.38323087169175196}\n",
      "Epoch 3/20\n"
     ]
    },
    {
     "name": "stderr",
     "output_type": "stream",
     "text": [
      "100%|██████████| 2339/2339 [03:56<00:00,  9.90it/s]\n"
     ]
    },
    {
     "name": "stdout",
     "output_type": "stream",
     "text": [
      "{'val_loss': 0.4792089845619013, 'val_accuracy': 0.8507749866381614, 'precision': 0.8523817648883218, 'recall': 0.8507749866381614, 'f1-score': 0.8506312320432559, 'macro_f1-score': 0.8488048137291637, 'balanced_accuracy': 0.8466415936167058, 'mcc': 0.8162434483773874, 'train_loss': 0.2937614493248821}\n",
      "Epoch 4/20\n"
     ]
    },
    {
     "name": "stderr",
     "output_type": "stream",
     "text": [
      "100%|██████████| 2339/2339 [03:56<00:00,  9.90it/s]\n"
     ]
    },
    {
     "name": "stdout",
     "output_type": "stream",
     "text": [
      "{'val_loss': 0.533800525777042, 'val_accuracy': 0.8380545163014431, 'precision': 0.8427915546423904, 'recall': 0.8380545163014431, 'f1-score': 0.8383347810673725, 'macro_f1-score': 0.8338666407917769, 'balanced_accuracy': 0.8158437524005404, 'mcc': 0.8002824863630753, 'train_loss': 0.2228957029235123}\n",
      "Epoch 5/20\n"
     ]
    },
    {
     "name": "stderr",
     "output_type": "stream",
     "text": [
      "100%|██████████| 2339/2339 [03:56<00:00,  9.90it/s]\n"
     ]
    },
    {
     "name": "stdout",
     "output_type": "stream",
     "text": [
      "{'val_loss': 0.5613035709756371, 'val_accuracy': 0.8576162479957242, 'precision': 0.8582018021359639, 'recall': 0.8576162479957242, 'f1-score': 0.8572424670772572, 'macro_f1-score': 0.8522202895622211, 'balanced_accuracy': 0.8486471566996613, 'mcc': 0.8248166957179571, 'train_loss': 0.1639811789906413}\n",
      "Epoch 6/20\n"
     ]
    },
    {
     "name": "stderr",
     "output_type": "stream",
     "text": [
      "100%|██████████| 2339/2339 [03:56<00:00,  9.90it/s]\n"
     ]
    },
    {
     "name": "stdout",
     "output_type": "stream",
     "text": [
      "{'val_loss': 0.593364417187782, 'val_accuracy': 0.8520577231427044, 'precision': 0.8530334627034892, 'recall': 0.8520577231427044, 'f1-score': 0.8522152380830449, 'macro_f1-score': 0.8514382194937369, 'balanced_accuracy': 0.8501477313210309, 'mcc': 0.8179236608885982, 'train_loss': 0.1270744658699705}\n",
      "Epoch 7/20\n"
     ]
    },
    {
     "name": "stderr",
     "output_type": "stream",
     "text": [
      "100%|██████████| 2339/2339 [03:56<00:00,  9.90it/s]\n"
     ]
    },
    {
     "name": "stdout",
     "output_type": "stream",
     "text": [
      "{'val_loss': 1.6983732133849054, 'val_accuracy': 0.4069481560662747, 'precision': 0.6608971066855036, 'recall': 0.4069481560662747, 'f1-score': 0.34213111257308326, 'macro_f1-score': 0.4924797546672462, 'balanced_accuracy': 0.5012236996101582, 'mcc': 0.3585737799760377, 'train_loss': 0.2372376894620743}\n",
      "Epoch 8/20\n"
     ]
    },
    {
     "name": "stderr",
     "output_type": "stream",
     "text": [
      "100%|██████████| 2339/2339 [03:56<00:00,  9.90it/s]\n"
     ]
    },
    {
     "name": "stdout",
     "output_type": "stream",
     "text": [
      "{'val_loss': 0.6670047836648858, 'val_accuracy': 0.8399786210582576, 'precision': 0.8416952423564096, 'recall': 0.8399786210582576, 'f1-score': 0.8400004464815288, 'macro_f1-score': 0.839998101116888, 'balanced_accuracy': 0.8307802843384593, 'mcc': 0.8026401341798474, 'train_loss': 0.20766360433724426}\n",
      "Early stopping.\n",
      "\n",
      "[Fold 3]\n",
      "Label distribution after resampling:\n",
      "  label 0: 5626\n",
      "  label 1: 1399\n",
      "  label 2: 8442\n",
      "  label 3: 10770\n",
      "  label 4: 1679\n",
      "  label 5: 5578\n",
      "  label 6: 1738\n",
      "  label 7: 2186\n",
      "model is microsoft/deberta-base\n"
     ]
    },
    {
     "name": "stderr",
     "output_type": "stream",
     "text": [
      "Some weights of DebertaForSequenceClassification were not initialized from the model checkpoint at microsoft/deberta-base and are newly initialized: ['classifier.bias', 'classifier.weight', 'pooler.dense.bias', 'pooler.dense.weight']\n",
      "You should probably TRAIN this model on a down-stream task to be able to use it for predictions and inference.\n"
     ]
    },
    {
     "name": "stdout",
     "output_type": "stream",
     "text": [
      "Epoch 1/20\n"
     ]
    },
    {
     "name": "stderr",
     "output_type": "stream",
     "text": [
      "100%|██████████| 2339/2339 [03:56<00:00,  9.90it/s]\n"
     ]
    },
    {
     "name": "stdout",
     "output_type": "stream",
     "text": [
      "{'val_loss': 0.4517004379731977, 'val_accuracy': 0.8478725678853967, 'precision': 0.8507453381206596, 'recall': 0.8478725678853967, 'f1-score': 0.8466760414179102, 'macro_f1-score': 0.8470312215738208, 'balanced_accuracy': 0.8481044172799568, 'mcc': 0.8146638666218787, 'train_loss': 0.6238876952988411}\n",
      "Epoch 2/20\n"
     ]
    },
    {
     "name": "stderr",
     "output_type": "stream",
     "text": [
      "100%|██████████| 2339/2339 [03:56<00:00,  9.90it/s]\n"
     ]
    },
    {
     "name": "stdout",
     "output_type": "stream",
     "text": [
      "{'val_loss': 0.4269587511722094, 'val_accuracy': 0.856852683344024, 'precision': 0.8614091864610992, 'recall': 0.856852683344024, 'f1-score': 0.8568977078267469, 'macro_f1-score': 0.8526888611933107, 'balanced_accuracy': 0.8452869020345557, 'mcc': 0.8238881621454903, 'train_loss': 0.3842069158006448}\n",
      "Epoch 3/20\n"
     ]
    },
    {
     "name": "stderr",
     "output_type": "stream",
     "text": [
      "100%|██████████| 2339/2339 [03:56<00:00,  9.90it/s]\n"
     ]
    },
    {
     "name": "stdout",
     "output_type": "stream",
     "text": [
      "{'val_loss': 0.42830287689327173, 'val_accuracy': 0.8652982681205901, 'precision': 0.8664683546760379, 'recall': 0.8652982681205901, 'f1-score': 0.8648706326904991, 'macro_f1-score': 0.8624833434158812, 'balanced_accuracy': 0.8490484884835092, 'mcc': 0.8338122793958451, 'train_loss': 0.2854043835552681}\n",
      "Epoch 4/20\n"
     ]
    },
    {
     "name": "stderr",
     "output_type": "stream",
     "text": [
      "100%|██████████| 2339/2339 [03:56<00:00,  9.90it/s]\n"
     ]
    },
    {
     "name": "stdout",
     "output_type": "stream",
     "text": [
      "{'val_loss': 0.47048967661431584, 'val_accuracy': 0.8646568313021168, 'precision': 0.86451551526944, 'recall': 0.8646568313021168, 'f1-score': 0.8642613866421297, 'macro_f1-score': 0.8627795411574574, 'balanced_accuracy': 0.8568405891618328, 'mcc': 0.8331993447829359, 'train_loss': 0.21256494324721234}\n",
      "Epoch 5/20\n"
     ]
    },
    {
     "name": "stderr",
     "output_type": "stream",
     "text": [
      "100%|██████████| 2339/2339 [03:56<00:00,  9.90it/s]\n"
     ]
    },
    {
     "name": "stdout",
     "output_type": "stream",
     "text": [
      "{'val_loss': 0.5797091911548876, 'val_accuracy': 0.8626256147102843, 'precision': 0.8648927675809995, 'recall': 0.8626256147102843, 'f1-score': 0.861916632281595, 'macro_f1-score': 0.8576736304593082, 'balanced_accuracy': 0.8539379689768809, 'mcc': 0.8317315142780173, 'train_loss': 0.18192824983771042}\n",
      "Epoch 6/20\n"
     ]
    },
    {
     "name": "stderr",
     "output_type": "stream",
     "text": [
      "100%|██████████| 2339/2339 [03:56<00:00,  9.90it/s]\n"
     ]
    },
    {
     "name": "stdout",
     "output_type": "stream",
     "text": [
      "{'val_loss': 0.512556002365075, 'val_accuracy': 0.869895231986316, 'precision': 0.8704820043324626, 'recall': 0.869895231986316, 'f1-score': 0.8699992654670539, 'macro_f1-score': 0.8696942751286425, 'balanced_accuracy': 0.8700762606610648, 'mcc': 0.8398461030815356, 'train_loss': 0.12394270532262401}\n",
      "Epoch 7/20\n"
     ]
    },
    {
     "name": "stderr",
     "output_type": "stream",
     "text": [
      "100%|██████████| 2339/2339 [03:56<00:00,  9.87it/s]\n"
     ]
    },
    {
     "name": "stdout",
     "output_type": "stream",
     "text": [
      "{'val_loss': 0.5944367647246641, 'val_accuracy': 0.8603805858456275, 'precision': 0.8622083775342273, 'recall': 0.8603805858456275, 'f1-score': 0.8600821708582725, 'macro_f1-score': 0.8591941583889497, 'balanced_accuracy': 0.870095222559826, 'mcc': 0.8296009867158044, 'train_loss': 0.10632262988252524}\n",
      "Epoch 8/20\n"
     ]
    },
    {
     "name": "stderr",
     "output_type": "stream",
     "text": [
      "100%|██████████| 2339/2339 [03:57<00:00,  9.85it/s]\n"
     ]
    },
    {
     "name": "stdout",
     "output_type": "stream",
     "text": [
      "{'val_loss': 0.6306250922907239, 'val_accuracy': 0.8649775497113534, 'precision': 0.8656162936709846, 'recall': 0.8649775497113534, 'f1-score': 0.8649513669163593, 'macro_f1-score': 0.8634511715255315, 'balanced_accuracy': 0.8607289227356714, 'mcc': 0.8337892194643481, 'train_loss': 0.08603987593683629}\n",
      "Epoch 9/20\n"
     ]
    },
    {
     "name": "stderr",
     "output_type": "stream",
     "text": [
      "100%|██████████| 2339/2339 [03:57<00:00,  9.85it/s]\n"
     ]
    },
    {
     "name": "stdout",
     "output_type": "stream",
     "text": [
      "{'val_loss': 0.6349172269563295, 'val_accuracy': 0.8658327988026513, 'precision': 0.8668947995812639, 'recall': 0.8658327988026513, 'f1-score': 0.8657010775117557, 'macro_f1-score': 0.8645605143798054, 'balanced_accuracy': 0.8521780769617868, 'mcc': 0.8344750768921474, 'train_loss': 0.07676755334830467}\n",
      "Early stopping.\n",
      "\n",
      "[Fold 4]\n",
      "Label distribution after resampling:\n",
      "  label 0: 5625\n",
      "  label 1: 1399\n",
      "  label 2: 8441\n",
      "  label 3: 10771\n",
      "  label 4: 1679\n",
      "  label 5: 5579\n",
      "  label 6: 1738\n",
      "  label 7: 2186\n",
      "model is microsoft/deberta-base\n"
     ]
    },
    {
     "name": "stderr",
     "output_type": "stream",
     "text": [
      "Some weights of DebertaForSequenceClassification were not initialized from the model checkpoint at microsoft/deberta-base and are newly initialized: ['classifier.bias', 'classifier.weight', 'pooler.dense.bias', 'pooler.dense.weight']\n",
      "You should probably TRAIN this model on a down-stream task to be able to use it for predictions and inference.\n"
     ]
    },
    {
     "name": "stdout",
     "output_type": "stream",
     "text": [
      "Epoch 1/20\n"
     ]
    },
    {
     "name": "stderr",
     "output_type": "stream",
     "text": [
      "100%|██████████| 2339/2339 [03:57<00:00,  9.86it/s]\n"
     ]
    },
    {
     "name": "stdout",
     "output_type": "stream",
     "text": [
      "{'val_loss': 1.8354183851144252, 'val_accuracy': 0.28779131922172335, 'precision': 0.08282384341937987, 'recall': 0.28779131922172335, 'f1-score': 0.12862929293456404, 'macro_f1-score': 0.055869168188610326, 'balanced_accuracy': 0.125, 'mcc': 0.0, 'train_loss': 1.8407609549380104}\n",
      "Epoch 2/20\n"
     ]
    },
    {
     "name": "stderr",
     "output_type": "stream",
     "text": [
      "100%|██████████| 2339/2339 [03:56<00:00,  9.87it/s]\n"
     ]
    },
    {
     "name": "stdout",
     "output_type": "stream",
     "text": [
      "{'val_loss': 1.8348012190598708, 'val_accuracy': 0.28779131922172335, 'precision': 0.08282384341937987, 'recall': 0.28779131922172335, 'f1-score': 0.12862929293456404, 'macro_f1-score': 0.055869168188610326, 'balanced_accuracy': 0.125, 'mcc': 0.0, 'train_loss': 1.8372606135372833}\n",
      "Epoch 3/20\n"
     ]
    },
    {
     "name": "stderr",
     "output_type": "stream",
     "text": [
      "100%|██████████| 2339/2339 [03:57<00:00,  9.87it/s]\n"
     ]
    },
    {
     "name": "stdout",
     "output_type": "stream",
     "text": [
      "{'val_loss': 1.8346613725026448, 'val_accuracy': 0.28779131922172335, 'precision': 0.08282384341937987, 'recall': 0.28779131922172335, 'f1-score': 0.12862929293456404, 'macro_f1-score': 0.055869168188610326, 'balanced_accuracy': 0.125, 'mcc': 0.0, 'train_loss': 1.836705229179428}\n",
      "Epoch 4/20\n"
     ]
    },
    {
     "name": "stderr",
     "output_type": "stream",
     "text": [
      "100%|██████████| 2339/2339 [03:56<00:00,  9.87it/s]\n"
     ]
    },
    {
     "name": "stdout",
     "output_type": "stream",
     "text": [
      "{'val_loss': 1.8356478780762762, 'val_accuracy': 0.28779131922172335, 'precision': 0.08282384341937987, 'recall': 0.28779131922172335, 'f1-score': 0.12862929293456404, 'macro_f1-score': 0.055869168188610326, 'balanced_accuracy': 0.125, 'mcc': 0.0, 'train_loss': 1.8353984883423797}\n",
      "Early stopping.\n",
      "\n",
      "[Fold 5]\n",
      "Label distribution after resampling:\n",
      "  label 0: 5625\n",
      "  label 1: 1399\n",
      "  label 2: 8441\n",
      "  label 3: 10771\n",
      "  label 4: 1678\n",
      "  label 5: 5579\n",
      "  label 6: 1738\n",
      "  label 7: 2187\n",
      "model is microsoft/deberta-base\n"
     ]
    },
    {
     "name": "stderr",
     "output_type": "stream",
     "text": [
      "Some weights of DebertaForSequenceClassification were not initialized from the model checkpoint at microsoft/deberta-base and are newly initialized: ['classifier.bias', 'classifier.weight', 'pooler.dense.bias', 'pooler.dense.weight']\n",
      "You should probably TRAIN this model on a down-stream task to be able to use it for predictions and inference.\n"
     ]
    },
    {
     "name": "stdout",
     "output_type": "stream",
     "text": [
      "Epoch 1/20\n"
     ]
    },
    {
     "name": "stderr",
     "output_type": "stream",
     "text": [
      "100%|██████████| 2339/2339 [03:57<00:00,  9.87it/s]\n"
     ]
    },
    {
     "name": "stdout",
     "output_type": "stream",
     "text": [
      "{'val_loss': 0.47468011915747427, 'val_accuracy': 0.8439170408381441, 'precision': 0.8472258247926627, 'recall': 0.8439170408381441, 'f1-score': 0.8441567032773273, 'macro_f1-score': 0.8392229431064575, 'balanced_accuracy': 0.8274982472451968, 'mcc': 0.8076597708864531, 'train_loss': 0.6670018249550096}\n",
      "Epoch 2/20\n"
     ]
    },
    {
     "name": "stderr",
     "output_type": "stream",
     "text": [
      "100%|██████████| 2339/2339 [03:56<00:00,  9.87it/s]\n"
     ]
    },
    {
     "name": "stdout",
     "output_type": "stream",
     "text": [
      "{'val_loss': 1.8363523185762585, 'val_accuracy': 0.28779131922172335, 'precision': 0.08282384341937987, 'recall': 0.28779131922172335, 'f1-score': 0.12862929293456404, 'macro_f1-score': 0.055869168188610326, 'balanced_accuracy': 0.125, 'mcc': 0.0, 'train_loss': 1.3586287065892901}\n",
      "Epoch 3/20\n"
     ]
    },
    {
     "name": "stderr",
     "output_type": "stream",
     "text": [
      "100%|██████████| 2339/2339 [03:57<00:00,  9.87it/s]\n"
     ]
    },
    {
     "name": "stdout",
     "output_type": "stream",
     "text": [
      "{'val_loss': 1.8364279048055665, 'val_accuracy': 0.28779131922172335, 'precision': 0.08282384341937987, 'recall': 0.28779131922172335, 'f1-score': 0.12862929293456404, 'macro_f1-score': 0.055869168188610326, 'balanced_accuracy': 0.125, 'mcc': 0.0, 'train_loss': 1.8377905194195685}\n",
      "Epoch 4/20\n"
     ]
    },
    {
     "name": "stderr",
     "output_type": "stream",
     "text": [
      "100%|██████████| 2339/2339 [03:56<00:00,  9.87it/s]\n"
     ]
    },
    {
     "name": "stdout",
     "output_type": "stream",
     "text": [
      "{'val_loss': 1.8349358666656364, 'val_accuracy': 0.28779131922172335, 'precision': 0.08282384341937987, 'recall': 0.28779131922172335, 'f1-score': 0.12862929293456404, 'macro_f1-score': 0.055869168188610326, 'balanced_accuracy': 0.125, 'mcc': 0.0, 'train_loss': 1.8371714601255777}\n",
      "Early stopping.\n",
      "\n",
      " === microsoft/deberta-base + plain + none Final 5-fold Cross-Validation Results ===\n",
      "val_loss: 1.0438\n",
      "val_accuracy: 0.6294\n",
      "precision: 0.5483\n",
      "recall: 0.6294\n",
      "f1-score: 0.5657\n",
      "macro_f1-score: 0.5346\n",
      "balanced_accuracy: 0.5592\n",
      "mcc: 0.4945\n",
      "train_loss: 0.9285\n",
      "total_seconds: 7583.0000\n",
      "total_time: 2 hrs 6 mins 23 secs\n",
      "▶ Running: microsoft/deberta-base + cnn + none\n",
      "tokenizer is microsoft/deberta-base\n",
      "Using device: cuda\n",
      "CUDA Available: True\n",
      "CUDA Device: NVIDIA GeForce RTX 5070 Ti\n",
      "Current GPU Memory Allocated: 0.02 GB\n",
      "Current GPU Memory Cached: 5.14 GB\n",
      "\n",
      "[Fold 1]\n",
      "Label distribution after resampling:\n",
      "  label 0: 5626\n",
      "  label 1: 1399\n",
      "  label 2: 8442\n",
      "  label 3: 10770\n",
      "  label 4: 1678\n",
      "  label 5: 5578\n",
      "  label 6: 1737\n",
      "  label 7: 2187\n",
      "model is microsoft/deberta-base cnn\n",
      "Epoch 1/20\n"
     ]
    },
    {
     "name": "stderr",
     "output_type": "stream",
     "text": [
      "100%|██████████| 2339/2339 [04:07<00:00,  9.47it/s]\n"
     ]
    },
    {
     "name": "stdout",
     "output_type": "stream",
     "text": [
      "{'val_loss': 0.4821133438338581, 'val_accuracy': 0.8405130946018172, 'precision': 0.8484760468723808, 'recall': 0.8405130946018172, 'f1-score': 0.8413646628976461, 'macro_f1-score': 0.8438991766880888, 'balanced_accuracy': 0.832822009504826, 'mcc': 0.8044306957649384, 'train_loss': 0.6934346269741304}\n",
      "Epoch 2/20\n"
     ]
    },
    {
     "name": "stderr",
     "output_type": "stream",
     "text": [
      "100%|██████████| 2339/2339 [04:07<00:00,  9.47it/s]\n"
     ]
    },
    {
     "name": "stdout",
     "output_type": "stream",
     "text": [
      "{'val_loss': 0.42481716139894776, 'val_accuracy': 0.8676643506146445, 'precision': 0.8695994330064255, 'recall': 0.8676643506146445, 'f1-score': 0.8672210484523414, 'macro_f1-score': 0.859924150297394, 'balanced_accuracy': 0.8456303671862097, 'mcc': 0.8366669085795373, 'train_loss': 0.418615504095905}\n",
      "Epoch 3/20\n"
     ]
    },
    {
     "name": "stderr",
     "output_type": "stream",
     "text": [
      "100%|██████████| 2339/2339 [04:06<00:00,  9.47it/s]\n"
     ]
    },
    {
     "name": "stdout",
     "output_type": "stream",
     "text": [
      "{'val_loss': 0.45162168545250453, 'val_accuracy': 0.8621058257616248, 'precision': 0.8633672025925871, 'recall': 0.8621058257616248, 'f1-score': 0.8613558219004476, 'macro_f1-score': 0.8568974344062079, 'balanced_accuracy': 0.8531346570948322, 'mcc': 0.8302061760612253, 'train_loss': 0.3273514925146674}\n",
      "Epoch 4/20\n"
     ]
    },
    {
     "name": "stderr",
     "output_type": "stream",
     "text": [
      "100%|██████████| 2339/2339 [04:06<00:00,  9.47it/s]\n"
     ]
    },
    {
     "name": "stdout",
     "output_type": "stream",
     "text": [
      "{'val_loss': 0.5049927203056331, 'val_accuracy': 0.8646712987707108, 'precision': 0.8667682084118529, 'recall': 0.8646712987707108, 'f1-score': 0.8643024620388, 'macro_f1-score': 0.8585615329549785, 'balanced_accuracy': 0.8457185410297678, 'mcc': 0.8330082252519595, 'train_loss': 0.3664532115311864}\n",
      "Epoch 5/20\n"
     ]
    },
    {
     "name": "stderr",
     "output_type": "stream",
     "text": [
      "100%|██████████| 2339/2339 [04:07<00:00,  9.47it/s]\n"
     ]
    },
    {
     "name": "stdout",
     "output_type": "stream",
     "text": [
      "{'val_loss': 0.46693913027898876, 'val_accuracy': 0.8708711918760021, 'precision': 0.8721511365885831, 'recall': 0.8708711918760021, 'f1-score': 0.8711575715214559, 'macro_f1-score': 0.8652419292382314, 'balanced_accuracy': 0.8628090945477467, 'mcc': 0.8409680942840931, 'train_loss': 0.31551387505972134}\n",
      "Epoch 6/20\n"
     ]
    },
    {
     "name": "stderr",
     "output_type": "stream",
     "text": [
      "100%|██████████| 2339/2339 [04:06<00:00,  9.47it/s]\n"
     ]
    },
    {
     "name": "stdout",
     "output_type": "stream",
     "text": [
      "{'val_loss': 0.5667886683410909, 'val_accuracy': 0.8466060929983966, 'precision': 0.8540032132486264, 'recall': 0.8466060929983966, 'f1-score': 0.845801439333536, 'macro_f1-score': 0.8196917903529222, 'balanced_accuracy': 0.8089972784090061, 'mcc': 0.8120956003500617, 'train_loss': 0.1670282416059801}\n",
      "Epoch 7/20\n"
     ]
    },
    {
     "name": "stderr",
     "output_type": "stream",
     "text": [
      "100%|██████████| 2339/2339 [04:06<00:00,  9.47it/s]\n"
     ]
    },
    {
     "name": "stdout",
     "output_type": "stream",
     "text": [
      "{'val_loss': 0.7967117635772014, 'val_accuracy': 0.7427044361304116, 'precision': 0.7786162738284634, 'recall': 0.7427044361304116, 'f1-score': 0.7315143265038956, 'macro_f1-score': 0.7089674082063556, 'balanced_accuracy': 0.6930202038494002, 'mcc': 0.6905993223788223, 'train_loss': 0.31307771049066424}\n",
      "Epoch 8/20\n"
     ]
    },
    {
     "name": "stderr",
     "output_type": "stream",
     "text": [
      "100%|██████████| 2339/2339 [04:06<00:00,  9.47it/s]\n"
     ]
    },
    {
     "name": "stdout",
     "output_type": "stream",
     "text": [
      "{'val_loss': 1.0798204585782483, 'val_accuracy': 0.6809192944949225, 'precision': 0.7589553521729027, 'recall': 0.6809192944949225, 'f1-score': 0.6666024753629658, 'macro_f1-score': 0.6283663233540574, 'balanced_accuracy': 0.5999201416382427, 'mcc': 0.6119849599856694, 'train_loss': 0.26753435758210864}\n",
      "Early stopping.\n",
      "\n",
      "[Fold 2]\n",
      "Label distribution after resampling:\n",
      "  label 0: 5626\n",
      "  label 1: 1400\n",
      "  label 2: 8442\n",
      "  label 3: 10770\n",
      "  label 4: 1678\n",
      "  label 5: 5578\n",
      "  label 6: 1737\n",
      "  label 7: 2186\n",
      "model is microsoft/deberta-base cnn\n",
      "Epoch 1/20\n"
     ]
    },
    {
     "name": "stderr",
     "output_type": "stream",
     "text": [
      "100%|██████████| 2339/2339 [04:06<00:00,  9.47it/s]\n"
     ]
    },
    {
     "name": "stdout",
     "output_type": "stream",
     "text": [
      "{'val_loss': 0.4807106172490833, 'val_accuracy': 0.8398717263495457, 'precision': 0.842012065490213, 'recall': 0.8398717263495457, 'f1-score': 0.8399804933919575, 'macro_f1-score': 0.8399050526127341, 'balanced_accuracy': 0.8262755237763496, 'mcc': 0.8021652982865063, 'train_loss': 0.6895192793437868}\n",
      "Epoch 2/20\n"
     ]
    },
    {
     "name": "stderr",
     "output_type": "stream",
     "text": [
      "100%|██████████| 2339/2339 [04:07<00:00,  9.47it/s]\n"
     ]
    },
    {
     "name": "stdout",
     "output_type": "stream",
     "text": [
      "{'val_loss': 0.8779150773476586, 'val_accuracy': 0.7608765366114377, 'precision': 0.7862139139952646, 'recall': 0.7608765366114377, 'f1-score': 0.7572151808160831, 'macro_f1-score': 0.7604061402610873, 'balanced_accuracy': 0.7992427839353161, 'mcc': 0.7138789887265202, 'train_loss': 0.44759442899798213}\n",
      "Epoch 3/20\n"
     ]
    },
    {
     "name": "stderr",
     "output_type": "stream",
     "text": [
      "100%|██████████| 2339/2339 [04:07<00:00,  9.47it/s]\n"
     ]
    },
    {
     "name": "stdout",
     "output_type": "stream",
     "text": [
      "{'val_loss': 0.6256728577499207, 'val_accuracy': 0.8169962586851951, 'precision': 0.820552999988968, 'recall': 0.8169962586851951, 'f1-score': 0.8167278319837284, 'macro_f1-score': 0.8117009630743903, 'balanced_accuracy': 0.8095886407920068, 'mcc': 0.7758538588736106, 'train_loss': 0.3976181307911089}\n",
      "Epoch 4/20\n"
     ]
    },
    {
     "name": "stderr",
     "output_type": "stream",
     "text": [
      "100%|██████████| 2339/2339 [04:06<00:00,  9.47it/s]\n"
     ]
    },
    {
     "name": "stdout",
     "output_type": "stream",
     "text": [
      "{'val_loss': 0.5027360508210448, 'val_accuracy': 0.8533404596472475, 'precision': 0.856712355792038, 'recall': 0.8533404596472475, 'f1-score': 0.8533292013068677, 'macro_f1-score': 0.8518750900842362, 'balanced_accuracy': 0.8263484235494339, 'mcc': 0.818600367767796, 'train_loss': 0.30026059424565954}\n",
      "Epoch 5/20\n"
     ]
    },
    {
     "name": "stderr",
     "output_type": "stream",
     "text": [
      "100%|██████████| 2339/2339 [04:06<00:00,  9.47it/s]\n"
     ]
    },
    {
     "name": "stdout",
     "output_type": "stream",
     "text": [
      "{'val_loss': 0.5252025007421517, 'val_accuracy': 0.8458578300374131, 'precision': 0.8476545341564716, 'recall': 0.8458578300374131, 'f1-score': 0.8454686906085088, 'macro_f1-score': 0.8403015217314032, 'balanced_accuracy': 0.8350336900207183, 'mcc': 0.8103371246058175, 'train_loss': 0.24785668372440178}\n",
      "Epoch 6/20\n"
     ]
    },
    {
     "name": "stderr",
     "output_type": "stream",
     "text": [
      "100%|██████████| 2339/2339 [04:07<00:00,  9.47it/s]\n"
     ]
    },
    {
     "name": "stdout",
     "output_type": "stream",
     "text": [
      "{'val_loss': 0.5406764313952727, 'val_accuracy': 0.8521646178514164, 'precision': 0.8549623178656733, 'recall': 0.8521646178514164, 'f1-score': 0.8522700358576129, 'macro_f1-score': 0.8544553401779755, 'balanced_accuracy': 0.8450505427155082, 'mcc': 0.8179165841117905, 'train_loss': 0.19820415524516197}\n",
      "Epoch 7/20\n"
     ]
    },
    {
     "name": "stderr",
     "output_type": "stream",
     "text": [
      "100%|██████████| 2339/2339 [04:07<00:00,  9.47it/s]\n"
     ]
    },
    {
     "name": "stdout",
     "output_type": "stream",
     "text": [
      "{'val_loss': 0.6227803003576258, 'val_accuracy': 0.847461250668092, 'precision': 0.8479095788843689, 'recall': 0.847461250668092, 'f1-score': 0.8469828878342766, 'macro_f1-score': 0.8491954664448572, 'balanced_accuracy': 0.8437415952870384, 'mcc': 0.8123841617322559, 'train_loss': 0.16452952527899778}\n",
      "Epoch 8/20\n"
     ]
    },
    {
     "name": "stderr",
     "output_type": "stream",
     "text": [
      "100%|██████████| 2339/2339 [04:06<00:00,  9.48it/s]\n"
     ]
    },
    {
     "name": "stdout",
     "output_type": "stream",
     "text": [
      "{'val_loss': 0.6136013068766214, 'val_accuracy': 0.8471405665419561, 'precision': 0.847395945034421, 'recall': 0.8471405665419561, 'f1-score': 0.8470194444172972, 'macro_f1-score': 0.8424587917844683, 'balanced_accuracy': 0.8469314097353045, 'mcc': 0.8120740604246182, 'train_loss': 0.13080292323628814}\n",
      "Epoch 9/20\n"
     ]
    },
    {
     "name": "stderr",
     "output_type": "stream",
     "text": [
      "100%|██████████| 2339/2339 [04:07<00:00,  9.47it/s]\n"
     ]
    },
    {
     "name": "stdout",
     "output_type": "stream",
     "text": [
      "{'val_loss': 0.6636960779848055, 'val_accuracy': 0.8471405665419561, 'precision': 0.8492699211837278, 'recall': 0.8471405665419561, 'f1-score': 0.8474915009615671, 'macro_f1-score': 0.8476314067945159, 'balanced_accuracy': 0.854153597487728, 'mcc': 0.8120494316381796, 'train_loss': 0.11402780421778688}\n",
      "Early stopping.\n",
      "\n",
      "[Fold 3]\n",
      "Label distribution after resampling:\n",
      "  label 0: 5626\n",
      "  label 1: 1399\n",
      "  label 2: 8442\n",
      "  label 3: 10770\n",
      "  label 4: 1679\n",
      "  label 5: 5578\n",
      "  label 6: 1738\n",
      "  label 7: 2186\n",
      "model is microsoft/deberta-base cnn\n",
      "Epoch 1/20\n"
     ]
    },
    {
     "name": "stderr",
     "output_type": "stream",
     "text": [
      "100%|██████████| 2339/2339 [04:07<00:00,  9.46it/s]\n"
     ]
    },
    {
     "name": "stdout",
     "output_type": "stream",
     "text": [
      "{'val_loss': 0.6151455812729322, 'val_accuracy': 0.796023091725465, 'precision': 0.8066583825781132, 'recall': 0.796023091725465, 'f1-score': 0.7964021913824593, 'macro_f1-score': 0.7842088824512947, 'balanced_accuracy': 0.7960712455714616, 'mcc': 0.7508978318074764, 'train_loss': 0.86859189581513}\n",
      "Epoch 2/20\n"
     ]
    },
    {
     "name": "stderr",
     "output_type": "stream",
     "text": [
      "100%|██████████| 2339/2339 [04:07<00:00,  9.45it/s]\n"
     ]
    },
    {
     "name": "stdout",
     "output_type": "stream",
     "text": [
      "{'val_loss': 0.5268065493649398, 'val_accuracy': 0.837823391062647, 'precision': 0.8427650280668788, 'recall': 0.837823391062647, 'f1-score': 0.8380787632275307, 'macro_f1-score': 0.8374482042449949, 'balanced_accuracy': 0.8496897171940357, 'mcc': 0.8013562032674263, 'train_loss': 0.7001027405881548}\n",
      "Epoch 3/20\n"
     ]
    },
    {
     "name": "stderr",
     "output_type": "stream",
     "text": [
      "100%|██████████| 2339/2339 [04:06<00:00,  9.47it/s]\n"
     ]
    },
    {
     "name": "stdout",
     "output_type": "stream",
     "text": [
      "{'val_loss': 0.6848639348633269, 'val_accuracy': 0.7965576224075261, 'precision': 0.8132872212102852, 'recall': 0.7965576224075261, 'f1-score': 0.7981610816720469, 'macro_f1-score': 0.8085107080233199, 'balanced_accuracy': 0.7891859596597828, 'mcc': 0.7513131683253366, 'train_loss': 0.4646678442679355}\n",
      "Epoch 4/20\n"
     ]
    },
    {
     "name": "stderr",
     "output_type": "stream",
     "text": [
      "100%|██████████| 2339/2339 [04:06<00:00,  9.48it/s]\n"
     ]
    },
    {
     "name": "stdout",
     "output_type": "stream",
     "text": [
      "{'val_loss': 0.9703199488484961, 'val_accuracy': 0.7263202907846911, 'precision': 0.7480295012256972, 'recall': 0.7263202907846911, 'f1-score': 0.7274705539930473, 'macro_f1-score': 0.7184990610587092, 'balanced_accuracy': 0.7295938597447672, 'mcc': 0.6669819419330661, 'train_loss': 0.5860160420544831}\n",
      "Epoch 5/20\n"
     ]
    },
    {
     "name": "stderr",
     "output_type": "stream",
     "text": [
      "100%|██████████| 2339/2339 [04:06<00:00,  9.49it/s]\n"
     ]
    },
    {
     "name": "stdout",
     "output_type": "stream",
     "text": [
      "{'val_loss': 0.5390930101020723, 'val_accuracy': 0.8434894162924952, 'precision': 0.8459095572914584, 'recall': 0.8434894162924952, 'f1-score': 0.8427269233000022, 'macro_f1-score': 0.8455286876468604, 'balanced_accuracy': 0.8380320573736335, 'mcc': 0.8080749086303585, 'train_loss': 0.44001131972625324}\n",
      "Epoch 6/20\n"
     ]
    },
    {
     "name": "stderr",
     "output_type": "stream",
     "text": [
      "100%|██████████| 2339/2339 [04:06<00:00,  9.49it/s]\n"
     ]
    },
    {
     "name": "stdout",
     "output_type": "stream",
     "text": [
      "{'val_loss': 0.49064925076583255, 'val_accuracy': 0.8516142826598246, 'precision': 0.8528746507523439, 'recall': 0.8516142826598246, 'f1-score': 0.8515514451512156, 'macro_f1-score': 0.8536310761942804, 'balanced_accuracy': 0.8580991792890081, 'mcc': 0.8180714209100315, 'train_loss': 0.3431882756328598}\n",
      "Epoch 7/20\n"
     ]
    },
    {
     "name": "stderr",
     "output_type": "stream",
     "text": [
      "100%|██████████| 2339/2339 [04:06<00:00,  9.49it/s]\n"
     ]
    },
    {
     "name": "stdout",
     "output_type": "stream",
     "text": [
      "{'val_loss': 0.4816996279785521, 'val_accuracy': 0.8518280949326491, 'precision': 0.8553363760939635, 'recall': 0.8518280949326491, 'f1-score': 0.8523924267540312, 'macro_f1-score': 0.8507201242443029, 'balanced_accuracy': 0.8659326763949097, 'mcc': 0.8182720362222702, 'train_loss': 0.28803416600812415}\n",
      "Epoch 8/20\n"
     ]
    },
    {
     "name": "stderr",
     "output_type": "stream",
     "text": [
      "100%|██████████| 2339/2339 [04:07<00:00,  9.46it/s]\n"
     ]
    },
    {
     "name": "stdout",
     "output_type": "stream",
     "text": [
      "{'val_loss': 0.5356508939057334, 'val_accuracy': 0.8484070985674578, 'precision': 0.8502960407337771, 'recall': 0.8484070985674578, 'f1-score': 0.8479762464632961, 'macro_f1-score': 0.8514181849747263, 'balanced_accuracy': 0.8481441676887274, 'mcc': 0.8141081254913054, 'train_loss': 0.27703886928814037}\n",
      "Epoch 9/20\n"
     ]
    },
    {
     "name": "stderr",
     "output_type": "stream",
     "text": [
      "100%|██████████| 2339/2339 [04:06<00:00,  9.47it/s]\n"
     ]
    },
    {
     "name": "stdout",
     "output_type": "stream",
     "text": [
      "{'val_loss': 0.5374753141417526, 'val_accuracy': 0.8493692537951678, 'precision': 0.8512656896678867, 'recall': 0.8493692537951678, 'f1-score': 0.8493438018026794, 'macro_f1-score': 0.8526975863876389, 'balanced_accuracy': 0.8564089858845714, 'mcc': 0.8157501292931418, 'train_loss': 0.22845903814536556}\n",
      "Early stopping.\n",
      "\n",
      "[Fold 4]\n",
      "Label distribution after resampling:\n",
      "  label 0: 5625\n",
      "  label 1: 1399\n",
      "  label 2: 8441\n",
      "  label 3: 10771\n",
      "  label 4: 1679\n",
      "  label 5: 5579\n",
      "  label 6: 1738\n",
      "  label 7: 2186\n",
      "model is microsoft/deberta-base cnn\n",
      "Epoch 1/20\n"
     ]
    },
    {
     "name": "stderr",
     "output_type": "stream",
     "text": [
      "100%|██████████| 2339/2339 [04:15<00:00,  9.17it/s]\n"
     ]
    },
    {
     "name": "stdout",
     "output_type": "stream",
     "text": [
      "{'val_loss': 0.48459010091729654, 'val_accuracy': 0.8410305751550139, 'precision': 0.8435363134589428, 'recall': 0.8410305751550139, 'f1-score': 0.8406720688209209, 'macro_f1-score': 0.8386348049523967, 'balanced_accuracy': 0.8472273262451362, 'mcc': 0.805688234113903, 'train_loss': 0.6934100482302274}\n",
      "Epoch 2/20\n"
     ]
    },
    {
     "name": "stderr",
     "output_type": "stream",
     "text": [
      "100%|██████████| 2339/2339 [04:19<00:00,  9.03it/s]\n"
     ]
    },
    {
     "name": "stdout",
     "output_type": "stream",
     "text": [
      "{'val_loss': 0.5204820814868834, 'val_accuracy': 0.8249946546931793, 'precision': 0.8335787024717244, 'recall': 0.8249946546931793, 'f1-score': 0.8252575360143107, 'macro_f1-score': 0.8319253523131033, 'balanced_accuracy': 0.8242141159185595, 'mcc': 0.7856263675174058, 'train_loss': 0.4437362805849826}\n",
      "Epoch 3/20\n"
     ]
    },
    {
     "name": "stderr",
     "output_type": "stream",
     "text": [
      "100%|██████████| 2339/2339 [04:19<00:00,  9.03it/s]\n"
     ]
    },
    {
     "name": "stdout",
     "output_type": "stream",
     "text": [
      "{'val_loss': 0.5620988258439251, 'val_accuracy': 0.83461620697028, 'precision': 0.8378381987147836, 'recall': 0.83461620697028, 'f1-score': 0.834278860443053, 'macro_f1-score': 0.8284277426928128, 'balanced_accuracy': 0.8332946386646544, 'mcc': 0.7968587357681721, 'train_loss': 0.8772116218776772}\n",
      "Epoch 4/20\n"
     ]
    },
    {
     "name": "stderr",
     "output_type": "stream",
     "text": [
      "100%|██████████| 2339/2339 [04:20<00:00,  8.99it/s]\n"
     ]
    },
    {
     "name": "stdout",
     "output_type": "stream",
     "text": [
      "{'val_loss': 0.45930184356422504, 'val_accuracy': 0.8601667735728031, 'precision': 0.8612448415774556, 'recall': 0.8601667735728031, 'f1-score': 0.8602909074827924, 'macro_f1-score': 0.8600984213268638, 'balanced_accuracy': 0.8574068795271921, 'mcc': 0.827845635873552, 'train_loss': 0.4045680961931979}\n",
      "Epoch 5/20\n"
     ]
    },
    {
     "name": "stderr",
     "output_type": "stream",
     "text": [
      "100%|██████████| 2339/2339 [04:15<00:00,  9.17it/s]\n"
     ]
    },
    {
     "name": "stdout",
     "output_type": "stream",
     "text": [
      "{'val_loss': 0.4883335220380726, 'val_accuracy': 0.8448791960658542, 'precision': 0.8482216459692514, 'recall': 0.8448791960658542, 'f1-score': 0.8445032273171019, 'macro_f1-score': 0.8455624031394735, 'balanced_accuracy': 0.8459603355953347, 'mcc': 0.8098289429125993, 'train_loss': 0.39041024343838876}\n",
      "Epoch 6/20\n"
     ]
    },
    {
     "name": "stderr",
     "output_type": "stream",
     "text": [
      "100%|██████████| 2339/2339 [04:15<00:00,  9.14it/s]\n"
     ]
    },
    {
     "name": "stdout",
     "output_type": "stream",
     "text": [
      "{'val_loss': 0.5266478431021047, 'val_accuracy': 0.8488347231131067, 'precision': 0.8498281356974244, 'recall': 0.8488347231131067, 'f1-score': 0.8482495560483955, 'macro_f1-score': 0.8451797042807938, 'balanced_accuracy': 0.8409701946309245, 'mcc': 0.8140294984599836, 'train_loss': 0.31236899567846815}\n",
      "Epoch 7/20\n"
     ]
    },
    {
     "name": "stderr",
     "output_type": "stream",
     "text": [
      "100%|██████████| 2339/2339 [04:17<00:00,  9.09it/s]\n"
     ]
    },
    {
     "name": "stdout",
     "output_type": "stream",
     "text": [
      "{'val_loss': 0.5283058606374722, 'val_accuracy': 0.8530040624331837, 'precision': 0.8538809566805812, 'recall': 0.8530040624331837, 'f1-score': 0.8530251543496921, 'macro_f1-score': 0.8510151056802923, 'balanced_accuracy': 0.8450327171169423, 'mcc': 0.818771601518875, 'train_loss': 0.3055860584620872}\n",
      "Early stopping.\n",
      "\n",
      "[Fold 5]\n",
      "Label distribution after resampling:\n",
      "  label 0: 5625\n",
      "  label 1: 1399\n",
      "  label 2: 8441\n",
      "  label 3: 10771\n",
      "  label 4: 1678\n",
      "  label 5: 5579\n",
      "  label 6: 1738\n",
      "  label 7: 2187\n",
      "model is microsoft/deberta-base cnn\n",
      "Epoch 1/20\n"
     ]
    },
    {
     "name": "stderr",
     "output_type": "stream",
     "text": [
      "100%|██████████| 2339/2339 [04:15<00:00,  9.14it/s]\n"
     ]
    },
    {
     "name": "stdout",
     "output_type": "stream",
     "text": [
      "{'val_loss': 0.49570863916833174, 'val_accuracy': 0.8335471456061578, 'precision': 0.8383739999359273, 'recall': 0.8335471456061578, 'f1-score': 0.8326040239704735, 'macro_f1-score': 0.8352670768816417, 'balanced_accuracy': 0.8282272778157075, 'mcc': 0.7956095308637824, 'train_loss': 0.7313918448401701}\n",
      "Epoch 2/20\n"
     ]
    },
    {
     "name": "stderr",
     "output_type": "stream",
     "text": [
      "100%|██████████| 2339/2339 [04:17<00:00,  9.08it/s]\n"
     ]
    },
    {
     "name": "stdout",
     "output_type": "stream",
     "text": [
      "{'val_loss': 0.4554959156574347, 'val_accuracy': 0.8497968783408167, 'precision': 0.8515501146807887, 'recall': 0.8497968783408167, 'f1-score': 0.8495586129053554, 'macro_f1-score': 0.8469893798059023, 'balanced_accuracy': 0.8454973370985137, 'mcc': 0.814991128401058, 'train_loss': 0.4437046021162546}\n",
      "Epoch 3/20\n"
     ]
    },
    {
     "name": "stderr",
     "output_type": "stream",
     "text": [
      "100%|██████████| 2339/2339 [04:17<00:00,  9.07it/s]\n"
     ]
    },
    {
     "name": "stdout",
     "output_type": "stream",
     "text": [
      "{'val_loss': 0.4883145982105062, 'val_accuracy': 0.8500106906136412, 'precision': 0.852410466534195, 'recall': 0.8500106906136412, 'f1-score': 0.8491535366633209, 'macro_f1-score': 0.8424218444938851, 'balanced_accuracy': 0.838921288392716, 'mcc': 0.8164647734621583, 'train_loss': 0.3375895785820018}\n",
      "Epoch 4/20\n"
     ]
    },
    {
     "name": "stderr",
     "output_type": "stream",
     "text": [
      "100%|██████████| 2339/2339 [04:18<00:00,  9.05it/s]\n"
     ]
    },
    {
     "name": "stdout",
     "output_type": "stream",
     "text": [
      "{'val_loss': 0.6119029467686629, 'val_accuracy': 0.8372888603805858, 'precision': 0.8427535700650741, 'recall': 0.8372888603805858, 'f1-score': 0.8373440833435918, 'macro_f1-score': 0.8423170759518432, 'balanced_accuracy': 0.8461251993335845, 'mcc': 0.8013682668340966, 'train_loss': 0.2783709763025275}\n",
      "Epoch 5/20\n"
     ]
    },
    {
     "name": "stderr",
     "output_type": "stream",
     "text": [
      "100%|██████████| 2339/2339 [04:19<00:00,  9.03it/s]\n"
     ]
    },
    {
     "name": "stdout",
     "output_type": "stream",
     "text": [
      "{'val_loss': 0.6008697059984581, 'val_accuracy': 0.8438101347017318, 'precision': 0.8511403793542301, 'recall': 0.8438101347017318, 'f1-score': 0.8439204926648675, 'macro_f1-score': 0.8391542736171244, 'balanced_accuracy': 0.873027180435143, 'mcc': 0.8113520511398729, 'train_loss': 0.2017986983665659}\n",
      "Early stopping.\n",
      "\n",
      " === microsoft/deberta-base + cnn + none Final 5-fold Cross-Validation Results ===\n",
      "val_loss: 0.4826\n",
      "val_accuracy: 0.8569\n",
      "precision: 0.8586\n",
      "recall: 0.8569\n",
      "f1-score: 0.8570\n",
      "macro_f1-score: 0.8561\n",
      "balanced_accuracy: 0.8538\n",
      "mcc: 0.8240\n",
      "train_loss: 0.3410\n",
      "total_seconds: 10511.0000\n",
      "total_time: 2 hrs 55 mins 11 secs\n",
      "▶ Running: microsoft/deberta-base + lstm + none\n",
      "tokenizer is microsoft/deberta-base\n",
      "Using device: cuda\n",
      "CUDA Available: True\n",
      "CUDA Device: NVIDIA GeForce RTX 5070 Ti\n",
      "Current GPU Memory Allocated: 0.02 GB\n",
      "Current GPU Memory Cached: 5.14 GB\n",
      "\n",
      "[Fold 1]\n",
      "Label distribution after resampling:\n",
      "  label 0: 5626\n",
      "  label 1: 1399\n",
      "  label 2: 8442\n",
      "  label 3: 10770\n",
      "  label 4: 1678\n",
      "  label 5: 5578\n",
      "  label 6: 1737\n",
      "  label 7: 2187\n",
      "model is microsoft/deberta-base lstm\n",
      "Epoch 1/20\n"
     ]
    },
    {
     "name": "stderr",
     "output_type": "stream",
     "text": [
      "100%|██████████| 2339/2339 [04:23<00:00,  8.89it/s]\n"
     ]
    },
    {
     "name": "stdout",
     "output_type": "stream",
     "text": [
      "{'val_loss': 0.6595193115055051, 'val_accuracy': 0.8172100481026189, 'precision': 0.8188402760305789, 'recall': 0.8172100481026189, 'f1-score': 0.8153913451222548, 'macro_f1-score': 0.7918812682173102, 'balanced_accuracy': 0.7910648151206143, 'mcc': 0.7751143066772829, 'train_loss': 1.0398587590038089}\n",
      "Epoch 2/20\n"
     ]
    },
    {
     "name": "stderr",
     "output_type": "stream",
     "text": [
      "100%|██████████| 2339/2339 [04:21<00:00,  8.94it/s]\n"
     ]
    },
    {
     "name": "stdout",
     "output_type": "stream",
     "text": [
      "{'val_loss': 0.5296802918880413, 'val_accuracy': 0.8364510956707643, 'precision': 0.8384771081144121, 'recall': 0.8364510956707643, 'f1-score': 0.8362840661579902, 'macro_f1-score': 0.825381441776097, 'balanced_accuracy': 0.8082025094610963, 'mcc': 0.7981609865927138, 'train_loss': 0.5746141654742278}\n",
      "Epoch 3/20\n"
     ]
    },
    {
     "name": "stderr",
     "output_type": "stream",
     "text": [
      "100%|██████████| 2339/2339 [04:21<00:00,  8.95it/s]\n"
     ]
    },
    {
     "name": "stdout",
     "output_type": "stream",
     "text": [
      "{'val_loss': 0.5087676091963409, 'val_accuracy': 0.8503474078033137, 'precision': 0.8527075612222081, 'recall': 0.8503474078033137, 'f1-score': 0.8498082908755299, 'macro_f1-score': 0.8373892881855769, 'balanced_accuracy': 0.8226090419269131, 'mcc': 0.8155035932247546, 'train_loss': 0.5031790688933343}\n",
      "Epoch 4/20\n"
     ]
    },
    {
     "name": "stderr",
     "output_type": "stream",
     "text": [
      "100%|██████████| 2339/2339 [04:21<00:00,  8.94it/s]\n"
     ]
    },
    {
     "name": "stdout",
     "output_type": "stream",
     "text": [
      "{'val_loss': 0.9658293209269515, 'val_accuracy': 0.7130946018172101, 'precision': 0.7328477015387082, 'recall': 0.7130946018172101, 'f1-score': 0.691677897224277, 'macro_f1-score': 0.5864830507261409, 'balanced_accuracy': 0.5803147898477965, 'mcc': 0.6498567043771736, 'train_loss': 0.6112375694154648}\n",
      "Epoch 5/20\n"
     ]
    },
    {
     "name": "stderr",
     "output_type": "stream",
     "text": [
      "100%|██████████| 2339/2339 [04:21<00:00,  8.94it/s]\n"
     ]
    },
    {
     "name": "stdout",
     "output_type": "stream",
     "text": [
      "{'val_loss': 0.6623901074959172, 'val_accuracy': 0.8072688401924105, 'precision': 0.8152974335068973, 'recall': 0.8072688401924105, 'f1-score': 0.806484187393009, 'macro_f1-score': 0.7896061541213801, 'balanced_accuracy': 0.7756220685860795, 'mcc': 0.7637135841578158, 'train_loss': 0.8083606251396395}\n",
      "Epoch 6/20\n"
     ]
    },
    {
     "name": "stderr",
     "output_type": "stream",
     "text": [
      "100%|██████████| 2339/2339 [04:21<00:00,  8.95it/s]\n"
     ]
    },
    {
     "name": "stdout",
     "output_type": "stream",
     "text": [
      "{'val_loss': 0.576795229379438, 'val_accuracy': 0.8254409406734367, 'precision': 0.8278597724071481, 'recall': 0.8254409406734367, 'f1-score': 0.8245893948781872, 'macro_f1-score': 0.8122267380497061, 'balanced_accuracy': 0.7886842766265599, 'mcc': 0.7839966070569333, 'train_loss': 0.538984996217688}\n",
      "Early stopping.\n",
      "\n",
      "[Fold 2]\n",
      "Label distribution after resampling:\n",
      "  label 0: 5626\n",
      "  label 1: 1400\n",
      "  label 2: 8442\n",
      "  label 3: 10770\n",
      "  label 4: 1678\n",
      "  label 5: 5578\n",
      "  label 6: 1737\n",
      "  label 7: 2186\n",
      "model is microsoft/deberta-base lstm\n",
      "Epoch 1/20\n"
     ]
    },
    {
     "name": "stderr",
     "output_type": "stream",
     "text": [
      "100%|██████████| 2339/2339 [04:23<00:00,  8.89it/s]\n"
     ]
    },
    {
     "name": "stdout",
     "output_type": "stream",
     "text": [
      "{'val_loss': 0.7227028778985015, 'val_accuracy': 0.7797969000534474, 'precision': 0.7527324374171891, 'recall': 0.7797969000534474, 'f1-score': 0.7653992592478547, 'macro_f1-score': 0.7048717462159138, 'balanced_accuracy': 0.7196433556202524, 'mcc': 0.7283098198273299, 'train_loss': 1.090113499815416}\n",
      "Epoch 2/20\n"
     ]
    },
    {
     "name": "stderr",
     "output_type": "stream",
     "text": [
      "100%|██████████| 2339/2339 [04:21<00:00,  8.93it/s]\n"
     ]
    },
    {
     "name": "stdout",
     "output_type": "stream",
     "text": [
      "{'val_loss': 0.7707621798173994, 'val_accuracy': 0.7807589524318547, 'precision': 0.7860613243402087, 'recall': 0.7807589524318547, 'f1-score': 0.778839524495818, 'macro_f1-score': 0.7579739189973919, 'balanced_accuracy': 0.7412369460576602, 'mcc': 0.7296410975771183, 'train_loss': 0.8216998292919202}\n",
      "Epoch 3/20\n"
     ]
    },
    {
     "name": "stderr",
     "output_type": "stream",
     "text": [
      "100%|██████████| 2339/2339 [04:22<00:00,  8.91it/s]\n"
     ]
    },
    {
     "name": "stdout",
     "output_type": "stream",
     "text": [
      "{'val_loss': 0.6092325997721945, 'val_accuracy': 0.8044895777659006, 'precision': 0.8075139292916487, 'recall': 0.8044895777659006, 'f1-score': 0.8012997149380189, 'macro_f1-score': 0.7769491932763888, 'balanced_accuracy': 0.760640753911472, 'mcc': 0.7582395606741771, 'train_loss': 0.6737695614934325}\n",
      "Epoch 4/20\n"
     ]
    },
    {
     "name": "stderr",
     "output_type": "stream",
     "text": [
      "100%|██████████| 2339/2339 [04:22<00:00,  8.90it/s]\n"
     ]
    },
    {
     "name": "stdout",
     "output_type": "stream",
     "text": [
      "{'val_loss': 0.6819041800677267, 'val_accuracy': 0.7909139497594869, 'precision': 0.8036375063129466, 'recall': 0.7909139497594869, 'f1-score': 0.791441563315163, 'macro_f1-score': 0.7909090372941938, 'balanced_accuracy': 0.7807578209586824, 'mcc': 0.7433249939340123, 'train_loss': 0.581650889506894}\n",
      "Epoch 5/20\n"
     ]
    },
    {
     "name": "stderr",
     "output_type": "stream",
     "text": [
      "100%|██████████| 2339/2339 [04:22<00:00,  8.90it/s]\n"
     ]
    },
    {
     "name": "stdout",
     "output_type": "stream",
     "text": [
      "{'val_loss': 0.6026164942030978, 'val_accuracy': 0.8304649919828968, 'precision': 0.8326258627224141, 'recall': 0.8304649919828968, 'f1-score': 0.8310088580509121, 'macro_f1-score': 0.8285805714252727, 'balanced_accuracy': 0.82750755356448, 'mcc': 0.791320704070215, 'train_loss': 0.6519180480287262}\n",
      "Epoch 6/20\n"
     ]
    },
    {
     "name": "stderr",
     "output_type": "stream",
     "text": [
      "100%|██████████| 2339/2339 [04:21<00:00,  8.95it/s]\n"
     ]
    },
    {
     "name": "stdout",
     "output_type": "stream",
     "text": [
      "{'val_loss': 0.5435831955673858, 'val_accuracy': 0.8389096739711385, 'precision': 0.8395837396536063, 'recall': 0.8389096739711385, 'f1-score': 0.8387560592246943, 'macro_f1-score': 0.8359722855126013, 'balanced_accuracy': 0.8380242744903453, 'mcc': 0.8019618220408428, 'train_loss': 0.4085112885660012}\n",
      "Epoch 7/20\n"
     ]
    },
    {
     "name": "stderr",
     "output_type": "stream",
     "text": [
      "100%|██████████| 2339/2339 [04:28<00:00,  8.70it/s]\n"
     ]
    },
    {
     "name": "stdout",
     "output_type": "stream",
     "text": [
      "{'val_loss': 0.5818348586145374, 'val_accuracy': 0.8369855692143239, 'precision': 0.8409402081429211, 'recall': 0.8369855692143239, 'f1-score': 0.8376104808538272, 'macro_f1-score': 0.8331305316633342, 'balanced_accuracy': 0.8252381555633552, 'mcc': 0.799038250596301, 'train_loss': 0.3732713549149029}\n",
      "Epoch 8/20\n"
     ]
    },
    {
     "name": "stderr",
     "output_type": "stream",
     "text": [
      "100%|██████████| 2339/2339 [04:28<00:00,  8.71it/s]\n"
     ]
    },
    {
     "name": "stdout",
     "output_type": "stream",
     "text": [
      "{'val_loss': 0.5583124086483676, 'val_accuracy': 0.8299305184393373, 'precision': 0.8301397616870108, 'recall': 0.8299305184393373, 'f1-score': 0.8297972283755675, 'macro_f1-score': 0.830736155780383, 'balanced_accuracy': 0.8296918012423977, 'mcc': 0.790886926430974, 'train_loss': 0.3994698565502664}\n",
      "Epoch 9/20\n"
     ]
    },
    {
     "name": "stderr",
     "output_type": "stream",
     "text": [
      "100%|██████████| 2339/2339 [04:28<00:00,  8.70it/s]\n"
     ]
    },
    {
     "name": "stdout",
     "output_type": "stream",
     "text": [
      "{'val_loss': 0.5610633071798544, 'val_accuracy': 0.8307856761090326, 'precision': 0.8341177855108252, 'recall': 0.8307856761090326, 'f1-score': 0.8312695130712692, 'macro_f1-score': 0.8311177484592488, 'balanced_accuracy': 0.8394184612593687, 'mcc': 0.7930830377569937, 'train_loss': 0.3450088515557594}\n",
      "Early stopping.\n",
      "\n",
      "[Fold 3]\n",
      "Label distribution after resampling:\n",
      "  label 0: 5626\n",
      "  label 1: 1399\n",
      "  label 2: 8442\n",
      "  label 3: 10770\n",
      "  label 4: 1679\n",
      "  label 5: 5578\n",
      "  label 6: 1738\n",
      "  label 7: 2186\n",
      "model is microsoft/deberta-base lstm\n",
      "Epoch 1/20\n"
     ]
    },
    {
     "name": "stderr",
     "output_type": "stream",
     "text": [
      "100%|██████████| 2339/2339 [04:28<00:00,  8.71it/s]\n"
     ]
    },
    {
     "name": "stdout",
     "output_type": "stream",
     "text": [
      "{'val_loss': 1.4023935415805915, 'val_accuracy': 0.5174257002351935, 'precision': 0.35589574308061167, 'recall': 0.5174257002351935, 'f1-score': 0.4156862352854682, 'macro_f1-score': 0.22964471468789788, 'balanced_accuracy': 0.28339227083774027, 'mcc': 0.3957942998411309, 'train_loss': 1.4450715913279233}\n",
      "Epoch 2/20\n"
     ]
    },
    {
     "name": "stderr",
     "output_type": "stream",
     "text": [
      "100%|██████████| 2339/2339 [04:27<00:00,  8.74it/s]\n"
     ]
    },
    {
     "name": "stdout",
     "output_type": "stream",
     "text": [
      "{'val_loss': 1.4363707176640503, 'val_accuracy': 0.482360487491982, 'precision': 0.5277980891327625, 'recall': 0.482360487491982, 'f1-score': 0.4040700060642305, 'macro_f1-score': 0.22018143902904705, 'balanced_accuracy': 0.2808150214681869, 'mcc': 0.3764216525103357, 'train_loss': 1.3323010651664684}\n",
      "Epoch 3/20\n"
     ]
    },
    {
     "name": "stderr",
     "output_type": "stream",
     "text": [
      "100%|██████████| 2339/2339 [04:23<00:00,  8.89it/s]\n"
     ]
    },
    {
     "name": "stdout",
     "output_type": "stream",
     "text": [
      "{'val_loss': 0.978038737967483, 'val_accuracy': 0.653303399615138, 'precision': 0.6143399634272926, 'recall': 0.653303399615138, 'f1-score': 0.6059482656355402, 'macro_f1-score': 0.5466016050527089, 'balanced_accuracy': 0.5585526748155581, 'mcc': 0.5752162784161532, 'train_loss': 1.149755771252374}\n",
      "Epoch 4/20\n"
     ]
    },
    {
     "name": "stderr",
     "output_type": "stream",
     "text": [
      "100%|██████████| 2339/2339 [04:23<00:00,  8.88it/s]\n"
     ]
    },
    {
     "name": "stdout",
     "output_type": "stream",
     "text": [
      "{'val_loss': 1.2765763231831737, 'val_accuracy': 0.557622407526192, 'precision': 0.5559429115459675, 'recall': 0.557622407526192, 'f1-score': 0.5320326614478719, 'macro_f1-score': 0.4525216303687257, 'balanced_accuracy': 0.45656040253400776, 'mcc': 0.4591887890188894, 'train_loss': 1.0002098256015737}\n",
      "Epoch 5/20\n"
     ]
    },
    {
     "name": "stderr",
     "output_type": "stream",
     "text": [
      "100%|██████████| 2339/2339 [04:24<00:00,  8.86it/s]\n"
     ]
    },
    {
     "name": "stdout",
     "output_type": "stream",
     "text": [
      "{'val_loss': 1.047284400055551, 'val_accuracy': 0.6383365405174257, 'precision': 0.6124956010948255, 'recall': 0.6383365405174257, 'f1-score': 0.6115785781743871, 'macro_f1-score': 0.5167152865033371, 'balanced_accuracy': 0.5099359615306885, 'mcc': 0.5503749482006454, 'train_loss': 1.1214508368908824}\n",
      "Epoch 6/20\n"
     ]
    },
    {
     "name": "stderr",
     "output_type": "stream",
     "text": [
      "100%|██████████| 2339/2339 [04:25<00:00,  8.81it/s]\n"
     ]
    },
    {
     "name": "stdout",
     "output_type": "stream",
     "text": [
      "{'val_loss': 1.09279045482986, 'val_accuracy': 0.5923669018601668, 'precision': 0.5732766298396832, 'recall': 0.5923669018601668, 'f1-score': 0.5632569759905767, 'macro_f1-score': 0.4473334701706022, 'balanced_accuracy': 0.4839817316982519, 'mcc': 0.5034594572036902, 'train_loss': 1.070488203331261}\n",
      "Early stopping.\n",
      "\n",
      "[Fold 4]\n",
      "Label distribution after resampling:\n",
      "  label 0: 5625\n",
      "  label 1: 1399\n",
      "  label 2: 8441\n",
      "  label 3: 10771\n",
      "  label 4: 1679\n",
      "  label 5: 5579\n",
      "  label 6: 1738\n",
      "  label 7: 2186\n",
      "model is microsoft/deberta-base lstm\n",
      "Epoch 1/20\n"
     ]
    },
    {
     "name": "stderr",
     "output_type": "stream",
     "text": [
      "100%|██████████| 2339/2339 [04:25<00:00,  8.82it/s]\n"
     ]
    },
    {
     "name": "stdout",
     "output_type": "stream",
     "text": [
      "{'val_loss': 1.7672770618373512, 'val_accuracy': 0.3268120590121873, 'precision': 0.27213623078264615, 'recall': 0.3268120590121873, 'f1-score': 0.22755140327322226, 'macro_f1-score': 0.11123707512144113, 'balanced_accuracy': 0.16882191157617338, 'mcc': 0.18283847309380571, 'train_loss': 1.7663961233568783}\n",
      "Epoch 2/20\n"
     ]
    },
    {
     "name": "stderr",
     "output_type": "stream",
     "text": [
      "100%|██████████| 2339/2339 [04:30<00:00,  8.66it/s]\n"
     ]
    },
    {
     "name": "stdout",
     "output_type": "stream",
     "text": [
      "{'val_loss': 1.7474351768819696, 'val_accuracy': 0.3683985460765448, 'precision': 0.2085553978494437, 'recall': 0.3683985460765448, 'f1-score': 0.2536816590880709, 'macro_f1-score': 0.12278247732071582, 'balanced_accuracy': 0.1848933459350758, 'mcc': 0.20283648849608574, 'train_loss': 1.7817304612429237}\n",
      "Epoch 3/20\n"
     ]
    },
    {
     "name": "stderr",
     "output_type": "stream",
     "text": [
      "100%|██████████| 2339/2339 [04:27<00:00,  8.75it/s]\n"
     ]
    },
    {
     "name": "stdout",
     "output_type": "stream",
     "text": [
      "{'val_loss': 1.7402225582008688, 'val_accuracy': 0.2859739149027154, 'precision': 0.2154741914649226, 'recall': 0.2859739149027154, 'f1-score': 0.1799600530559645, 'macro_f1-score': 0.08902082659065974, 'balanced_accuracy': 0.15098423104617925, 'mcc': 0.13230020479481502, 'train_loss': 1.7790546452912472}\n",
      "Epoch 4/20\n"
     ]
    },
    {
     "name": "stderr",
     "output_type": "stream",
     "text": [
      "100%|██████████| 2339/2339 [04:27<00:00,  8.75it/s]\n"
     ]
    },
    {
     "name": "stdout",
     "output_type": "stream",
     "text": [
      "{'val_loss': 1.8349990192641559, 'val_accuracy': 0.28779131922172335, 'precision': 0.08282384341937987, 'recall': 0.28779131922172335, 'f1-score': 0.12862929293456404, 'macro_f1-score': 0.055869168188610326, 'balanced_accuracy': 0.125, 'mcc': 0.0, 'train_loss': 1.8066526551489241}\n",
      "Epoch 5/20\n"
     ]
    },
    {
     "name": "stderr",
     "output_type": "stream",
     "text": [
      "100%|██████████| 2339/2339 [04:27<00:00,  8.74it/s]\n"
     ]
    },
    {
     "name": "stdout",
     "output_type": "stream",
     "text": [
      "{'val_loss': 1.834579892647572, 'val_accuracy': 0.28779131922172335, 'precision': 0.08282384341937987, 'recall': 0.28779131922172335, 'f1-score': 0.12862929293456404, 'macro_f1-score': 0.055869168188610326, 'balanced_accuracy': 0.125, 'mcc': 0.0, 'train_loss': 1.8403458864885602}\n",
      "Early stopping.\n",
      "\n",
      "[Fold 5]\n",
      "Label distribution after resampling:\n",
      "  label 0: 5625\n",
      "  label 1: 1399\n",
      "  label 2: 8441\n",
      "  label 3: 10771\n",
      "  label 4: 1678\n",
      "  label 5: 5579\n",
      "  label 6: 1738\n",
      "  label 7: 2187\n",
      "model is microsoft/deberta-base lstm\n",
      "Epoch 1/20\n"
     ]
    },
    {
     "name": "stderr",
     "output_type": "stream",
     "text": [
      "100%|██████████| 2339/2339 [04:26<00:00,  8.77it/s]\n"
     ]
    },
    {
     "name": "stdout",
     "output_type": "stream",
     "text": [
      "{'val_loss': 0.6386647670314862, 'val_accuracy': 0.8079965790036349, 'precision': 0.811867737785004, 'recall': 0.8079965790036349, 'f1-score': 0.8080767918094721, 'macro_f1-score': 0.8048532992001831, 'balanced_accuracy': 0.8117873615453478, 'mcc': 0.7659205421450667, 'train_loss': 0.988790091189272}\n",
      "Epoch 2/20\n"
     ]
    },
    {
     "name": "stderr",
     "output_type": "stream",
     "text": [
      "100%|██████████| 2339/2339 [04:24<00:00,  8.85it/s]\n"
     ]
    },
    {
     "name": "stdout",
     "output_type": "stream",
     "text": [
      "{'val_loss': 0.5578827494166345, 'val_accuracy': 0.8252084669660038, 'precision': 0.8276934262148258, 'recall': 0.8252084669660038, 'f1-score': 0.8255225156472038, 'macro_f1-score': 0.8176925333495879, 'balanced_accuracy': 0.8229177548613652, 'mcc': 0.7858005196045995, 'train_loss': 0.5683287481047522}\n",
      "Epoch 3/20\n"
     ]
    },
    {
     "name": "stderr",
     "output_type": "stream",
     "text": [
      "100%|██████████| 2339/2339 [04:26<00:00,  8.78it/s]\n"
     ]
    },
    {
     "name": "stdout",
     "output_type": "stream",
     "text": [
      "{'val_loss': 0.5070732686222873, 'val_accuracy': 0.84851400470387, 'precision': 0.8489098688411996, 'recall': 0.84851400470387, 'f1-score': 0.8477560437201904, 'macro_f1-score': 0.8390019410013383, 'balanced_accuracy': 0.824124977824021, 'mcc': 0.8128984118758655, 'train_loss': 0.4804668453071695}\n",
      "Epoch 4/20\n"
     ]
    },
    {
     "name": "stderr",
     "output_type": "stream",
     "text": [
      "100%|██████████| 2339/2339 [04:23<00:00,  8.88it/s]\n"
     ]
    },
    {
     "name": "stdout",
     "output_type": "stream",
     "text": [
      "{'val_loss': 0.4916495788555879, 'val_accuracy': 0.8542869360701304, 'precision': 0.8550392896288344, 'recall': 0.8542869360701304, 'f1-score': 0.8541042291564671, 'macro_f1-score': 0.8546063284726453, 'balanced_accuracy': 0.8540894617895775, 'mcc': 0.8205855283881147, 'train_loss': 0.3948859788450345}\n",
      "Epoch 5/20\n"
     ]
    },
    {
     "name": "stderr",
     "output_type": "stream",
     "text": [
      "100%|██████████| 2339/2339 [04:26<00:00,  8.76it/s]\n"
     ]
    },
    {
     "name": "stdout",
     "output_type": "stream",
     "text": [
      "{'val_loss': 0.49949867114997826, 'val_accuracy': 0.8484070985674578, 'precision': 0.8495096453333609, 'recall': 0.8484070985674578, 'f1-score': 0.8479529227288036, 'macro_f1-score': 0.8498468870876086, 'balanced_accuracy': 0.835846695571173, 'mcc': 0.8133201187011989, 'train_loss': 0.3416372665206895}\n",
      "Epoch 6/20\n"
     ]
    },
    {
     "name": "stderr",
     "output_type": "stream",
     "text": [
      "100%|██████████| 2339/2339 [04:23<00:00,  8.87it/s]\n"
     ]
    },
    {
     "name": "stdout",
     "output_type": "stream",
     "text": [
      "{'val_loss': 0.5084330205479238, 'val_accuracy': 0.8441308531109686, 'precision': 0.845403172413979, 'recall': 0.8441308531109686, 'f1-score': 0.8440700211565964, 'macro_f1-score': 0.8386893868640409, 'balanced_accuracy': 0.8448843098712324, 'mcc': 0.8087047192679021, 'train_loss': 0.3278223467364034}\n",
      "Epoch 7/20\n"
     ]
    },
    {
     "name": "stderr",
     "output_type": "stream",
     "text": [
      "100%|██████████| 2339/2339 [04:23<00:00,  8.88it/s]\n"
     ]
    },
    {
     "name": "stdout",
     "output_type": "stream",
     "text": [
      "{'val_loss': 0.5645392858335733, 'val_accuracy': 0.8434894162924952, 'precision': 0.8453929636153145, 'recall': 0.8434894162924952, 'f1-score': 0.8431733629965159, 'macro_f1-score': 0.8438710677533807, 'balanced_accuracy': 0.8376147194357828, 'mcc': 0.8073794561528453, 'train_loss': 0.30289109886073246}\n",
      "Early stopping.\n",
      "\n",
      " === microsoft/deberta-base + lstm + none Final 5-fold Cross-Validation Results ===\n",
      "val_loss: 0.8539\n",
      "val_accuracy: 0.7130\n",
      "precision: 0.6740\n",
      "recall: 0.7130\n",
      "f1-score: 0.6805\n",
      "macro_f1-score: 0.6395\n",
      "balanced_accuracy: 0.6516\n",
      "mcc: 0.6432\n",
      "train_loss: 0.8476\n",
      "total_seconds: 9698.0000\n",
      "total_time: 2 hrs 41 mins 38 secs\n",
      "▶ Running: microsoft/deberta-base + bilstm + none\n",
      "tokenizer is microsoft/deberta-base\n",
      "Using device: cuda\n",
      "CUDA Available: True\n",
      "CUDA Device: NVIDIA GeForce RTX 5070 Ti\n",
      "Current GPU Memory Allocated: 0.02 GB\n",
      "Current GPU Memory Cached: 5.45 GB\n",
      "\n",
      "[Fold 1]\n",
      "Label distribution after resampling:\n",
      "  label 0: 5626\n",
      "  label 1: 1399\n",
      "  label 2: 8442\n",
      "  label 3: 10770\n",
      "  label 4: 1678\n",
      "  label 5: 5578\n",
      "  label 6: 1737\n",
      "  label 7: 2187\n",
      "model is microsoft/deberta-base bilstm\n",
      "Epoch 1/20\n"
     ]
    },
    {
     "name": "stderr",
     "output_type": "stream",
     "text": [
      "100%|██████████| 2339/2339 [04:39<00:00,  8.36it/s]\n"
     ]
    },
    {
     "name": "stdout",
     "output_type": "stream",
     "text": [
      "{'val_loss': 1.7022147677902482, 'val_accuracy': 0.3509353287012293, 'precision': 0.2739430646394624, 'recall': 0.3509353287012293, 'f1-score': 0.21061974560303506, 'macro_f1-score': 0.1168003334901906, 'balanced_accuracy': 0.1820027959751096, 'mcc': 0.17734125931537392, 'train_loss': 1.385199825189826}\n",
      "Epoch 2/20\n"
     ]
    },
    {
     "name": "stderr",
     "output_type": "stream",
     "text": [
      "100%|██████████| 2339/2339 [04:37<00:00,  8.43it/s]\n"
     ]
    },
    {
     "name": "stdout",
     "output_type": "stream",
     "text": [
      "{'val_loss': 1.6848063892788356, 'val_accuracy': 0.373703901656868, 'precision': 0.39784567317931047, 'recall': 0.373703901656868, 'f1-score': 0.2762640840738263, 'macro_f1-score': 0.13343251713561166, 'balanced_accuracy': 0.18777533135550542, 'mcc': 0.23528518506121782, 'train_loss': 1.6469484440227409}\n",
      "Epoch 3/20\n"
     ]
    },
    {
     "name": "stderr",
     "output_type": "stream",
     "text": [
      "100%|██████████| 2339/2339 [04:16<00:00,  9.11it/s]\n"
     ]
    },
    {
     "name": "stdout",
     "output_type": "stream",
     "text": [
      "{'val_loss': 1.8389938403398562, 'val_accuracy': 0.28925708177445214, 'precision': 0.22255054613498518, 'recall': 0.28925708177445214, 'f1-score': 0.13159132349816458, 'macro_f1-score': 0.058234386374755094, 'balanced_accuracy': 0.12615576102418208, 'mcc': 0.032379467756288326, 'train_loss': 1.7098254733943898}\n",
      "Epoch 4/20\n"
     ]
    },
    {
     "name": "stderr",
     "output_type": "stream",
     "text": [
      "100%|██████████| 2339/2339 [04:16<00:00,  9.11it/s]\n"
     ]
    },
    {
     "name": "stdout",
     "output_type": "stream",
     "text": [
      "{'val_loss': 1.7179492324845405, 'val_accuracy': 0.33030464991982894, 'precision': 0.3984121723338552, 'recall': 0.33030464991982894, 'f1-score': 0.24071119512847886, 'macro_f1-score': 0.11722294419993642, 'balanced_accuracy': 0.17073528586608214, 'mcc': 0.21493024808997838, 'train_loss': 1.7625721106421188}\n",
      "Epoch 5/20\n"
     ]
    },
    {
     "name": "stderr",
     "output_type": "stream",
     "text": [
      "100%|██████████| 2339/2339 [04:16<00:00,  9.12it/s]\n"
     ]
    },
    {
     "name": "stdout",
     "output_type": "stream",
     "text": [
      "{'val_loss': 1.8342402708836092, 'val_accuracy': 0.2878674505611972, 'precision': 0.08286766909260333, 'recall': 0.2878674505611972, 'f1-score': 0.1286897483999509, 'macro_f1-score': 0.055880644090305444, 'balanced_accuracy': 0.125, 'mcc': 0.0, 'train_loss': 1.7253499355210153}\n",
      "Early stopping.\n",
      "\n",
      "[Fold 2]\n",
      "Label distribution after resampling:\n",
      "  label 0: 5626\n",
      "  label 1: 1400\n",
      "  label 2: 8442\n",
      "  label 3: 10770\n",
      "  label 4: 1678\n",
      "  label 5: 5578\n",
      "  label 6: 1737\n",
      "  label 7: 2186\n",
      "model is microsoft/deberta-base bilstm\n",
      "Epoch 1/20\n"
     ]
    },
    {
     "name": "stderr",
     "output_type": "stream",
     "text": [
      "100%|██████████| 2339/2339 [04:16<00:00,  9.11it/s]\n"
     ]
    },
    {
     "name": "stdout",
     "output_type": "stream",
     "text": [
      "{'val_loss': 0.62671330277609, 'val_accuracy': 0.8113308391234634, 'precision': 0.81312821727212, 'recall': 0.8113308391234634, 'f1-score': 0.8109976965983383, 'macro_f1-score': 0.8049654400719992, 'balanced_accuracy': 0.7890130032617024, 'mcc': 0.7668394909545619, 'train_loss': 1.1052345559733605}\n",
      "Epoch 2/20\n"
     ]
    },
    {
     "name": "stderr",
     "output_type": "stream",
     "text": [
      "100%|██████████| 2339/2339 [04:16<00:00,  9.12it/s]\n"
     ]
    },
    {
     "name": "stdout",
     "output_type": "stream",
     "text": [
      "{'val_loss': 0.5192175051659091, 'val_accuracy': 0.8371993586317478, 'precision': 0.8382145099491357, 'recall': 0.8371993586317478, 'f1-score': 0.8372841424141967, 'macro_f1-score': 0.8383626246180556, 'balanced_accuracy': 0.829687959157269, 'mcc': 0.7990839165412498, 'train_loss': 0.5705446032213956}\n",
      "Epoch 3/20\n"
     ]
    },
    {
     "name": "stderr",
     "output_type": "stream",
     "text": [
      "100%|██████████| 2339/2339 [04:16<00:00,  9.12it/s]\n"
     ]
    },
    {
     "name": "stdout",
     "output_type": "stream",
     "text": [
      "{'val_loss': 0.6016072414146784, 'val_accuracy': 0.8395510422234099, 'precision': 0.843917589106416, 'recall': 0.8395510422234099, 'f1-score': 0.8392304443543253, 'macro_f1-score': 0.8443440970791392, 'balanced_accuracy': 0.8302138476082975, 'mcc': 0.802832271052506, 'train_loss': 0.4194859484558612}\n",
      "Epoch 4/20\n"
     ]
    },
    {
     "name": "stderr",
     "output_type": "stream",
     "text": [
      "100%|██████████| 2339/2339 [04:16<00:00,  9.11it/s]\n"
     ]
    },
    {
     "name": "stdout",
     "output_type": "stream",
     "text": [
      "{'val_loss': 0.506136574752183, 'val_accuracy': 0.8395510422234099, 'precision': 0.8417015862254208, 'recall': 0.8395510422234099, 'f1-score': 0.839733457960675, 'macro_f1-score': 0.8389354696382629, 'balanced_accuracy': 0.8451681637593972, 'mcc': 0.8031141084607463, 'train_loss': 0.3479088698109662}\n",
      "Epoch 5/20\n"
     ]
    },
    {
     "name": "stderr",
     "output_type": "stream",
     "text": [
      "100%|██████████| 2339/2339 [04:16<00:00,  9.11it/s]\n"
     ]
    },
    {
     "name": "stdout",
     "output_type": "stream",
     "text": [
      "{'val_loss': 0.5042134865163228, 'val_accuracy': 0.843506146445751, 'precision': 0.8446946443640744, 'recall': 0.843506146445751, 'f1-score': 0.8434947263476184, 'macro_f1-score': 0.8480423040187501, 'balanced_accuracy': 0.8469537197260117, 'mcc': 0.807613514909256, 'train_loss': 0.32486102701685987}\n",
      "Epoch 6/20\n"
     ]
    },
    {
     "name": "stderr",
     "output_type": "stream",
     "text": [
      "100%|██████████| 2339/2339 [04:16<00:00,  9.12it/s]\n"
     ]
    },
    {
     "name": "stdout",
     "output_type": "stream",
     "text": [
      "{'val_loss': 0.5895370986567349, 'val_accuracy': 0.8404061998931053, 'precision': 0.8432223154234421, 'recall': 0.8404061998931053, 'f1-score': 0.8407997221454344, 'macro_f1-score': 0.8373820233601824, 'balanced_accuracy': 0.843324258316831, 'mcc': 0.8039252730030633, 'train_loss': 0.2509088778184259}\n",
      "Epoch 7/20\n"
     ]
    },
    {
     "name": "stderr",
     "output_type": "stream",
     "text": [
      "100%|██████████| 2339/2339 [04:16<00:00,  9.12it/s]\n"
     ]
    },
    {
     "name": "stdout",
     "output_type": "stream",
     "text": [
      "{'val_loss': 0.5934003286429832, 'val_accuracy': 0.8393372528059861, 'precision': 0.8415259163323915, 'recall': 0.8393372528059861, 'f1-score': 0.8392834764925373, 'macro_f1-score': 0.8389102990633637, 'balanced_accuracy': 0.8316852553244343, 'mcc': 0.8019463594982164, 'train_loss': 0.23813716232634893}\n",
      "Epoch 8/20\n"
     ]
    },
    {
     "name": "stderr",
     "output_type": "stream",
     "text": [
      "100%|██████████| 2339/2339 [04:16<00:00,  9.11it/s]\n"
     ]
    },
    {
     "name": "stdout",
     "output_type": "stream",
     "text": [
      "{'val_loss': 0.5777765579887817, 'val_accuracy': 0.8380545163014431, 'precision': 0.8404283353697671, 'recall': 0.8380545163014431, 'f1-score': 0.8381358745585901, 'macro_f1-score': 0.8345181445938485, 'balanced_accuracy': 0.8459156397181177, 'mcc': 0.8013330678362057, 'train_loss': 0.1805661738794034}\n",
      "Early stopping.\n",
      "\n",
      "[Fold 3]\n",
      "Label distribution after resampling:\n",
      "  label 0: 5626\n",
      "  label 1: 1399\n",
      "  label 2: 8442\n",
      "  label 3: 10770\n",
      "  label 4: 1679\n",
      "  label 5: 5578\n",
      "  label 6: 1738\n",
      "  label 7: 2186\n",
      "model is microsoft/deberta-base bilstm\n",
      "Epoch 1/20\n"
     ]
    },
    {
     "name": "stderr",
     "output_type": "stream",
     "text": [
      "100%|██████████| 2339/2339 [04:16<00:00,  9.12it/s]\n"
     ]
    },
    {
     "name": "stdout",
     "output_type": "stream",
     "text": [
      "{'val_loss': 0.5513699204748512, 'val_accuracy': 0.8372888603805858, 'precision': 0.8399963900521492, 'recall': 0.8372888603805858, 'f1-score': 0.8377264452799317, 'macro_f1-score': 0.8324414218782895, 'balanced_accuracy': 0.8309963623085546, 'mcc': 0.7996625960925415, 'train_loss': 1.0086363388329758}\n",
      "Epoch 2/20\n"
     ]
    },
    {
     "name": "stderr",
     "output_type": "stream",
     "text": [
      "100%|██████████| 2339/2339 [04:16<00:00,  9.11it/s]\n"
     ]
    },
    {
     "name": "stdout",
     "output_type": "stream",
     "text": [
      "{'val_loss': 0.4714891353797199, 'val_accuracy': 0.8489416292495189, 'precision': 0.852650048234962, 'recall': 0.8489416292495189, 'f1-score': 0.848852297867962, 'macro_f1-score': 0.8482924264414098, 'balanced_accuracy': 0.8516440982790882, 'mcc': 0.8156237261909994, 'train_loss': 0.5007813146983701}\n",
      "Epoch 3/20\n"
     ]
    },
    {
     "name": "stderr",
     "output_type": "stream",
     "text": [
      "100%|██████████| 2339/2339 [04:16<00:00,  9.12it/s]\n"
     ]
    },
    {
     "name": "stdout",
     "output_type": "stream",
     "text": [
      "{'val_loss': 0.4811574864718649, 'val_accuracy': 0.8580286508445585, 'precision': 0.8592103654183346, 'recall': 0.8580286508445585, 'f1-score': 0.8576274278775222, 'macro_f1-score': 0.8572386942959616, 'balanced_accuracy': 0.8587646349525635, 'mcc': 0.8263529500819661, 'train_loss': 0.37991982266743274}\n",
      "Epoch 4/20\n"
     ]
    },
    {
     "name": "stderr",
     "output_type": "stream",
     "text": [
      "100%|██████████| 2339/2339 [04:16<00:00,  9.12it/s]\n"
     ]
    },
    {
     "name": "stdout",
     "output_type": "stream",
     "text": [
      "{'val_loss': 0.47215405102723684, 'val_accuracy': 0.8640153944836434, 'precision': 0.8648654494107458, 'recall': 0.8640153944836434, 'f1-score': 0.8637621385893667, 'macro_f1-score': 0.8610336227493505, 'balanced_accuracy': 0.846509670274812, 'mcc': 0.8321011277174447, 'train_loss': 0.3148857981114688}\n",
      "Epoch 5/20\n"
     ]
    },
    {
     "name": "stderr",
     "output_type": "stream",
     "text": [
      "100%|██████████| 2339/2339 [04:16<00:00,  9.11it/s]\n"
     ]
    },
    {
     "name": "stdout",
     "output_type": "stream",
     "text": [
      "{'val_loss': 0.49940804791533283, 'val_accuracy': 0.8589908060722685, 'precision': 0.8594766935600151, 'recall': 0.8589908060722685, 'f1-score': 0.858846539676253, 'macro_f1-score': 0.8568518328295268, 'balanced_accuracy': 0.8541234816867017, 'mcc': 0.8264018575155698, 'train_loss': 0.2663765889299813}\n",
      "Epoch 6/20\n"
     ]
    },
    {
     "name": "stderr",
     "output_type": "stream",
     "text": [
      "100%|██████████| 2339/2339 [04:16<00:00,  9.11it/s]\n"
     ]
    },
    {
     "name": "stdout",
     "output_type": "stream",
     "text": [
      "{'val_loss': 0.4982722577670764, 'val_accuracy': 0.8660466110754758, 'precision': 0.8671384493773473, 'recall': 0.8660466110754758, 'f1-score': 0.8662617437840527, 'macro_f1-score': 0.8644854172925485, 'balanced_accuracy': 0.8624708097652388, 'mcc': 0.8350414324525849, 'train_loss': 0.21296634573159742}\n",
      "Epoch 7/20\n"
     ]
    },
    {
     "name": "stderr",
     "output_type": "stream",
     "text": [
      "100%|██████████| 2339/2339 [04:16<00:00,  9.11it/s]\n"
     ]
    },
    {
     "name": "stdout",
     "output_type": "stream",
     "text": [
      "{'val_loss': 0.5843100877375238, 'val_accuracy': 0.8572803078896729, 'precision': 0.8592233706782553, 'recall': 0.8572803078896729, 'f1-score': 0.8571010242914734, 'macro_f1-score': 0.8493478044596297, 'balanced_accuracy': 0.8591551614715032, 'mcc': 0.824838061740039, 'train_loss': 0.1785184343635332}\n",
      "Epoch 8/20\n"
     ]
    },
    {
     "name": "stderr",
     "output_type": "stream",
     "text": [
      "100%|██████████| 2339/2339 [04:16<00:00,  9.12it/s]\n"
     ]
    },
    {
     "name": "stdout",
     "output_type": "stream",
     "text": [
      "{'val_loss': 0.5688013554184547, 'val_accuracy': 0.852683344023947, 'precision': 0.8538450201272846, 'recall': 0.852683344023947, 'f1-score': 0.8524845652107282, 'macro_f1-score': 0.8481769819071683, 'balanced_accuracy': 0.843466995492718, 'mcc': 0.8188295350211303, 'train_loss': 0.1786200463745541}\n",
      "Epoch 9/20\n"
     ]
    },
    {
     "name": "stderr",
     "output_type": "stream",
     "text": [
      "100%|██████████| 2339/2339 [04:16<00:00,  9.12it/s]\n"
     ]
    },
    {
     "name": "stdout",
     "output_type": "stream",
     "text": [
      "{'val_loss': 0.5982086949746929, 'val_accuracy': 0.8613427410733376, 'precision': 0.8623100629994184, 'recall': 0.8613427410733376, 'f1-score': 0.8615995301514595, 'macro_f1-score': 0.8575367677017045, 'balanced_accuracy': 0.8609578814703658, 'mcc': 0.8293735570613157, 'train_loss': 0.15542607882122622}\n",
      "Early stopping.\n",
      "\n",
      "[Fold 4]\n",
      "Label distribution after resampling:\n",
      "  label 0: 5625\n",
      "  label 1: 1399\n",
      "  label 2: 8441\n",
      "  label 3: 10771\n",
      "  label 4: 1679\n",
      "  label 5: 5579\n",
      "  label 6: 1738\n",
      "  label 7: 2186\n",
      "model is microsoft/deberta-base bilstm\n",
      "Epoch 1/20\n"
     ]
    },
    {
     "name": "stderr",
     "output_type": "stream",
     "text": [
      "100%|██████████| 2339/2339 [04:16<00:00,  9.12it/s]\n"
     ]
    },
    {
     "name": "stdout",
     "output_type": "stream",
     "text": [
      "{'val_loss': 0.5615864066486684, 'val_accuracy': 0.8299123369681419, 'precision': 0.8329598669100663, 'recall': 0.8299123369681419, 'f1-score': 0.8285953048953024, 'macro_f1-score': 0.823792158445803, 'balanced_accuracy': 0.8059251119287784, 'mcc': 0.7908474202502886, 'train_loss': 0.8893881992537683}\n",
      "Epoch 2/20\n"
     ]
    },
    {
     "name": "stderr",
     "output_type": "stream",
     "text": [
      "100%|██████████| 2339/2339 [04:16<00:00,  9.12it/s]\n"
     ]
    },
    {
     "name": "stdout",
     "output_type": "stream",
     "text": [
      "{'val_loss': 0.4714416574463885, 'val_accuracy': 0.8528971562967714, 'precision': 0.8541627460184742, 'recall': 0.8528971562967714, 'f1-score': 0.8525978890486416, 'macro_f1-score': 0.8510103112201799, 'balanced_accuracy': 0.8362014048970368, 'mcc': 0.8182526838841682, 'train_loss': 0.48215902199496463}\n",
      "Epoch 3/20\n"
     ]
    },
    {
     "name": "stderr",
     "output_type": "stream",
     "text": [
      "100%|██████████| 2339/2339 [04:16<00:00,  9.13it/s]\n"
     ]
    },
    {
     "name": "stdout",
     "output_type": "stream",
     "text": [
      "{'val_loss': 0.9020266340329097, 'val_accuracy': 0.7171263630532393, 'precision': 0.7665161959278044, 'recall': 0.7171263630532393, 'f1-score': 0.686995419165716, 'macro_f1-score': 0.7122069144943137, 'balanced_accuracy': 0.7048725090372362, 'mcc': 0.6563271649409964, 'train_loss': 0.49309719645216354}\n",
      "Epoch 4/20\n"
     ]
    },
    {
     "name": "stderr",
     "output_type": "stream",
     "text": [
      "100%|██████████| 2339/2339 [04:16<00:00,  9.13it/s]\n"
     ]
    },
    {
     "name": "stdout",
     "output_type": "stream",
     "text": [
      "{'val_loss': 0.5446155386029655, 'val_accuracy': 0.8393200769724182, 'precision': 0.84679851327637, 'recall': 0.8393200769724182, 'f1-score': 0.8404170244598771, 'macro_f1-score': 0.8330775011338833, 'balanced_accuracy': 0.8511351200075983, 'mcc': 0.804240347507877, 'train_loss': 0.5125701956302819}\n",
      "Epoch 5/20\n"
     ]
    },
    {
     "name": "stderr",
     "output_type": "stream",
     "text": [
      "100%|██████████| 2339/2339 [04:16<00:00,  9.12it/s]\n"
     ]
    },
    {
     "name": "stdout",
     "output_type": "stream",
     "text": [
      "{'val_loss': 0.6090155129695041, 'val_accuracy': 0.8316228351507376, 'precision': 0.8326842192684862, 'recall': 0.8316228351507376, 'f1-score': 0.8317469201831483, 'macro_f1-score': 0.8236897605949653, 'balanced_accuracy': 0.8217987669751065, 'mcc': 0.7926457368327694, 'train_loss': 0.4640616562485045}\n",
      "Early stopping.\n",
      "\n",
      "[Fold 5]\n",
      "Label distribution after resampling:\n",
      "  label 0: 5625\n",
      "  label 1: 1399\n",
      "  label 2: 8441\n",
      "  label 3: 10771\n",
      "  label 4: 1678\n",
      "  label 5: 5579\n",
      "  label 6: 1738\n",
      "  label 7: 2187\n",
      "model is microsoft/deberta-base bilstm\n",
      "Epoch 1/20\n"
     ]
    },
    {
     "name": "stderr",
     "output_type": "stream",
     "text": [
      "100%|██████████| 2339/2339 [04:16<00:00,  9.12it/s]\n"
     ]
    },
    {
     "name": "stdout",
     "output_type": "stream",
     "text": [
      "{'val_loss': 0.6174822405490101, 'val_accuracy': 0.8087449219585204, 'precision': 0.7849429117796793, 'recall': 0.8087449219585204, 'f1-score': 0.7946503806570056, 'macro_f1-score': 0.7326829681478019, 'balanced_accuracy': 0.7298392182140092, 'mcc': 0.7630997859488562, 'train_loss': 0.9878587220254338}\n",
      "Epoch 2/20\n"
     ]
    },
    {
     "name": "stderr",
     "output_type": "stream",
     "text": [
      "100%|██████████| 2339/2339 [04:16<00:00,  9.10it/s]\n"
     ]
    },
    {
     "name": "stdout",
     "output_type": "stream",
     "text": [
      "{'val_loss': 0.5070350873228322, 'val_accuracy': 0.8385717340175326, 'precision': 0.8408912530911649, 'recall': 0.8385717340175326, 'f1-score': 0.8379080070203556, 'macro_f1-score': 0.8317744828475807, 'balanced_accuracy': 0.8322536027241523, 'mcc': 0.8017632006431424, 'train_loss': 0.5880947670795409}\n",
      "Epoch 3/20\n"
     ]
    },
    {
     "name": "stderr",
     "output_type": "stream",
     "text": [
      "100%|██████████| 2339/2339 [04:16<00:00,  9.10it/s]\n"
     ]
    },
    {
     "name": "stdout",
     "output_type": "stream",
     "text": [
      "{'val_loss': 0.48270267963918867, 'val_accuracy': 0.8490485353859312, 'precision': 0.852109535730611, 'recall': 0.8490485353859312, 'f1-score': 0.8487370357389149, 'macro_f1-score': 0.8450716234092752, 'balanced_accuracy': 0.8272482937269937, 'mcc': 0.8136849763503037, 'train_loss': 0.493551040749938}\n",
      "Epoch 4/20\n"
     ]
    },
    {
     "name": "stderr",
     "output_type": "stream",
     "text": [
      "100%|██████████| 2339/2339 [04:16<00:00,  9.13it/s]\n"
     ]
    },
    {
     "name": "stdout",
     "output_type": "stream",
     "text": [
      "{'val_loss': 0.5341154415383298, 'val_accuracy': 0.8349369253795168, 'precision': 0.8379950489768809, 'recall': 0.8349369253795168, 'f1-score': 0.8352281737757355, 'macro_f1-score': 0.8337687621835387, 'balanced_accuracy': 0.8175016092995204, 'mcc': 0.795975509788966, 'train_loss': 0.39474784932288415}\n",
      "Epoch 5/20\n"
     ]
    },
    {
     "name": "stderr",
     "output_type": "stream",
     "text": [
      "100%|██████████| 2339/2339 [04:16<00:00,  9.11it/s]\n"
     ]
    },
    {
     "name": "stdout",
     "output_type": "stream",
     "text": [
      "{'val_loss': 0.5116377188704717, 'val_accuracy': 0.8462689758392131, 'precision': 0.8500590280389414, 'recall': 0.8462689758392131, 'f1-score': 0.8459004167837763, 'macro_f1-score': 0.8493372815958466, 'balanced_accuracy': 0.8477646774820333, 'mcc': 0.812328475041294, 'train_loss': 0.35038415054452626}\n",
      "Epoch 6/20\n"
     ]
    },
    {
     "name": "stderr",
     "output_type": "stream",
     "text": [
      "100%|██████████| 2339/2339 [04:16<00:00,  9.12it/s]\n"
     ]
    },
    {
     "name": "stdout",
     "output_type": "stream",
     "text": [
      "{'val_loss': 0.4831629145492473, 'val_accuracy': 0.8561043403891383, 'precision': 0.8560848491939034, 'recall': 0.8561043403891383, 'f1-score': 0.8558774259382878, 'macro_f1-score': 0.8540313876678454, 'balanced_accuracy': 0.8551484717339182, 'mcc': 0.8231716319806871, 'train_loss': 0.32399806572827533}\n",
      "Epoch 7/20\n"
     ]
    },
    {
     "name": "stderr",
     "output_type": "stream",
     "text": [
      "100%|██████████| 2339/2339 [04:16<00:00,  9.12it/s]\n"
     ]
    },
    {
     "name": "stdout",
     "output_type": "stream",
     "text": [
      "{'val_loss': 0.5110031279042745, 'val_accuracy': 0.8539662176608938, 'precision': 0.8549806409809937, 'recall': 0.8539662176608938, 'f1-score': 0.8540873195640999, 'macro_f1-score': 0.8516025464771589, 'balanced_accuracy': 0.847575147729798, 'mcc': 0.8200238009432125, 'train_loss': 0.27799798572948026}\n",
      "Epoch 8/20\n"
     ]
    },
    {
     "name": "stderr",
     "output_type": "stream",
     "text": [
      "100%|██████████| 2339/2339 [04:16<00:00,  9.10it/s]\n"
     ]
    },
    {
     "name": "stdout",
     "output_type": "stream",
     "text": [
      "{'val_loss': 0.49388962688131466, 'val_accuracy': 0.8542869360701304, 'precision': 0.8557560443776641, 'recall': 0.8542869360701304, 'f1-score': 0.8544704329776907, 'macro_f1-score': 0.8543897162792108, 'balanced_accuracy': 0.8646617776673287, 'mcc': 0.8215958749603642, 'train_loss': 0.245215640700167}\n",
      "Epoch 9/20\n"
     ]
    },
    {
     "name": "stderr",
     "output_type": "stream",
     "text": [
      "100%|██████████| 2339/2339 [04:16<00:00,  9.12it/s]\n"
     ]
    },
    {
     "name": "stdout",
     "output_type": "stream",
     "text": [
      "{'val_loss': 0.5826093375762431, 'val_accuracy': 0.8484070985674578, 'precision': 0.8498332648487469, 'recall': 0.8484070985674578, 'f1-score': 0.848237973898347, 'macro_f1-score': 0.8481954928535422, 'balanced_accuracy': 0.8588215622323122, 'mcc': 0.8141180027047157, 'train_loss': 0.18794531394978775}\n",
      "Epoch 10/20\n"
     ]
    },
    {
     "name": "stderr",
     "output_type": "stream",
     "text": [
      "100%|██████████| 2339/2339 [04:16<00:00,  9.12it/s]\n"
     ]
    },
    {
     "name": "stdout",
     "output_type": "stream",
     "text": [
      "{'val_loss': 0.6350342967611157, 'val_accuracy': 0.850331409022878, 'precision': 0.8515467862407557, 'recall': 0.850331409022878, 'f1-score': 0.8501101937201714, 'macro_f1-score': 0.8505991060668281, 'balanced_accuracy': 0.8422010235279516, 'mcc': 0.8158999786761826, 'train_loss': 0.16852948501807258}\n",
      "Epoch 11/20\n"
     ]
    },
    {
     "name": "stderr",
     "output_type": "stream",
     "text": [
      " 70%|██████▉   | 1626/2339 [02:58<01:16,  9.27it/s]"
     ]
    }
   ],
   "source": [
    "model_list = [\"bert-base-uncased\", \"roberta-base\", \"microsoft/deberta-base\"]\n",
    "hybrid_list = [None, \"cnn\", \"lstm\", \"bilstm\"]\n",
    "resample_list = [\"none\"]\n",
    "\n",
    "all_experiment_result = {}\n",
    "\n",
    "for model_name in model_list:\n",
    "    for hybrid_type in hybrid_list:\n",
    "        for resample_method in resample_list:\n",
    "            results = run_kfold_experiment(\n",
    "                X=messages, y=labels, model_name=model_name, hybrid_type=hybrid_type, resample_method=resample_method,\n",
    "                kfold=KFOLD_SPLIT, seed=SEED, epochs=EPOCHS, patience=PATIENCE, max_length=MAX_LENGTH, \n",
    "                batch_size=BATCH_SIZE, lr=LR, weight_decay=WEIGHT_DECAY, upper_cap=UPPER_CAP, lower_cap=LOWER_CAP\n",
    "            )\n",
    "\n",
    "            key = f\"{model_name} {hybrid_type if hybrid_type else 'None'} {resample_method}\"\n",
    "            all_experiment_result[key] = results"
   ]
  },
  {
   "cell_type": "code",
   "execution_count": null,
   "id": "d799ebb4-be3b-4b29-9238-6c2a2f8256ae",
   "metadata": {},
   "outputs": [
    {
     "data": {
      "text/plain": [
       "{'bert-base-uncased None none': {'val_loss': 1.8572805853151693,\n",
       "  'val_accuracy': 0.6519235688638351,\n",
       "  'precision': 0.6475876343156429,\n",
       "  'recall': 0.6519235688638351,\n",
       "  'f1-score': 0.6422196399128314,\n",
       "  'macro_f1-score': 0.4003482237791875,\n",
       "  'balanced_accuracy': 0.39898639091752514,\n",
       "  'mcc': 0.5400872483351339,\n",
       "  'train_loss': 0.21939853308225485,\n",
       "  'total_seconds': 2066,\n",
       "  'total_time': '0 hrs 34 mins 26 secs'},\n",
       " 'bert-base-uncased cnn none': {'val_loss': 1.9171577240453987,\n",
       "  'val_accuracy': 0.6601594621495414,\n",
       "  'precision': 0.6511009108159114,\n",
       "  'recall': 0.6601594621495414,\n",
       "  'f1-score': 0.6449758801959524,\n",
       "  'macro_f1-score': 0.4081399533798636,\n",
       "  'balanced_accuracy': 0.3951950506402808,\n",
       "  'mcc': 0.545043194486036,\n",
       "  'train_loss': 0.12925924974104686,\n",
       "  'total_seconds': 2145,\n",
       "  'total_time': '0 hrs 35 mins 45 secs'},\n",
       " 'bert-base-uncased lstm none': {'val_loss': 1.8109265486459907,\n",
       "  'val_accuracy': 0.6433794254990606,\n",
       "  'precision': 0.6446510097583321,\n",
       "  'recall': 0.6433794254990606,\n",
       "  'f1-score': 0.635474985978963,\n",
       "  'macro_f1-score': 0.3939679691381758,\n",
       "  'balanced_accuracy': 0.3993982726309797,\n",
       "  'mcc': 0.5298680716705625,\n",
       "  'train_loss': 0.2788153298460402,\n",
       "  'total_seconds': 3543,\n",
       "  'total_time': '0 hrs 59 mins 3 secs'},\n",
       " 'bert-base-uncased bilstm none': {'val_loss': 1.849475383758545,\n",
       "  'val_accuracy': 0.6450584640285763,\n",
       "  'precision': 0.654852703361924,\n",
       "  'recall': 0.6450584640285763,\n",
       "  'f1-score': 0.6398467893080972,\n",
       "  'macro_f1-score': 0.401874212621249,\n",
       "  'balanced_accuracy': 0.40353841911299426,\n",
       "  'mcc': 0.532938639506179,\n",
       "  'train_loss': 0.20999451232335828,\n",
       "  'total_seconds': 7048,\n",
       "  'total_time': '1 hrs 57 mins 28 secs'},\n",
       " 'roberta-base None none': {'val_loss': 1.882129627997737,\n",
       "  'val_accuracy': 0.6044779399453033,\n",
       "  'precision': 0.5724778044281351,\n",
       "  'recall': 0.6044779399453033,\n",
       "  'f1-score': 0.5755642955529592,\n",
       "  'macro_f1-score': 0.3045571706286441,\n",
       "  'balanced_accuracy': 0.32438088138485016,\n",
       "  'mcc': 0.47122040299823525,\n",
       "  'train_loss': 0.816148373255756,\n",
       "  'total_seconds': 4358,\n",
       "  'total_time': '1 hrs 12 mins 38 secs'},\n",
       " 'roberta-base cnn none': {'val_loss': 1.8597519390739319,\n",
       "  'val_accuracy': 0.6124309315175532,\n",
       "  'precision': 0.5942577904486861,\n",
       "  'recall': 0.6124309315175532,\n",
       "  'f1-score': 0.5913679381322765,\n",
       "  'macro_f1-score': 0.31606979747248853,\n",
       "  'balanced_accuracy': 0.3223994496811579,\n",
       "  'mcc': 0.4839208255168447,\n",
       "  'train_loss': 0.705209973621148,\n",
       "  'total_seconds': 2347,\n",
       "  'total_time': '0 hrs 39 mins 7 secs'},\n",
       " 'roberta-base lstm none': {'val_loss': 1.7504211570249826,\n",
       "  'val_accuracy': 0.6055514083458913,\n",
       "  'precision': 0.5924935518993203,\n",
       "  'recall': 0.6055514083458913,\n",
       "  'f1-score': 0.590146914399584,\n",
       "  'macro_f1-score': 0.28152920464867226,\n",
       "  'balanced_accuracy': 0.3031666146289289,\n",
       "  'mcc': 0.4848746549319743,\n",
       "  'train_loss': 0.7306008975248692,\n",
       "  'total_seconds': 3195,\n",
       "  'total_time': '0 hrs 53 mins 15 secs'},\n",
       " 'roberta-base bilstm none': {'val_loss': 1.8764136713089012,\n",
       "  'val_accuracy': 0.6200426503692955,\n",
       "  'precision': 0.6262339859115214,\n",
       "  'recall': 0.6200426503692955,\n",
       "  'f1-score': 0.6160645937733776,\n",
       "  'macro_f1-score': 0.3434198703405349,\n",
       "  'balanced_accuracy': 0.3546124771439458,\n",
       "  'mcc': 0.506406214377884,\n",
       "  'train_loss': 0.3824162964334303,\n",
       "  'total_seconds': 3419,\n",
       "  'total_time': '0 hrs 56 mins 59 secs'},\n",
       " 'microsoft/deberta-base None none': {'val_loss': 1.914602105610254,\n",
       "  'val_accuracy': 0.6455165950400923,\n",
       "  'precision': 0.6425314751860622,\n",
       "  'recall': 0.6455165950400923,\n",
       "  'f1-score': 0.6345079654184389,\n",
       "  'macro_f1-score': 0.39650133920972985,\n",
       "  'balanced_accuracy': 0.3872870429392695,\n",
       "  'mcc': 0.5307663439994084,\n",
       "  'train_loss': 0.152263939822882,\n",
       "  'total_seconds': 2615,\n",
       "  'total_time': '0 hrs 43 mins 35 secs'},\n",
       " 'microsoft/deberta-base cnn none': {'val_loss': 1.8966977376399972,\n",
       "  'val_accuracy': 0.6180571059143085,\n",
       "  'precision': 0.5800053239782091,\n",
       "  'recall': 0.6180571059143085,\n",
       "  'f1-score': 0.5862461106656953,\n",
       "  'macro_f1-score': 0.3215670988331277,\n",
       "  'balanced_accuracy': 0.320966543235977,\n",
       "  'mcc': 0.476107708032307,\n",
       "  'train_loss': 0.6883096488571737,\n",
       "  'total_seconds': 2479,\n",
       "  'total_time': '0 hrs 41 mins 19 secs'},\n",
       " 'microsoft/deberta-base lstm none': {'val_loss': 2.043419184699291,\n",
       "  'val_accuracy': 0.5291353881788246,\n",
       "  'precision': 0.368673173754093,\n",
       "  'recall': 0.5291353881788246,\n",
       "  'f1-score': 0.427563683083549,\n",
       "  'macro_f1-score': 0.052551479595035075,\n",
       "  'balanced_accuracy': 0.07201925595665151,\n",
       "  'mcc': 0.320214064475789,\n",
       "  'train_loss': 1.927568490076356,\n",
       "  'total_seconds': 1780,\n",
       "  'total_time': '0 hrs 29 mins 40 secs'},\n",
       " 'microsoft/deberta-base bilstm none': {'val_loss': 1.9306609746886463,\n",
       "  'val_accuracy': 0.5402683205893843,\n",
       "  'precision': 0.45064483593082727,\n",
       "  'recall': 0.5402683205893843,\n",
       "  'f1-score': 0.4819034631420346,\n",
       "  'macro_f1-score': 0.089801995836771,\n",
       "  'balanced_accuracy': 0.11076653727472656,\n",
       "  'mcc': 0.3725788056397719,\n",
       "  'train_loss': 1.5204507074795846,\n",
       "  'total_seconds': 2883,\n",
       "  'total_time': '0 hrs 48 mins 3 secs'}}"
      ]
     },
     "execution_count": 6,
     "metadata": {},
     "output_type": "execute_result"
    }
   ],
   "source": [
    "all_experiment_result"
   ]
  }
 ],
 "metadata": {
  "kernelspec": {
   "display_name": "Python 3",
   "language": "python",
   "name": "python3"
  },
  "language_info": {
   "codemirror_mode": {
    "name": "ipython",
    "version": 3
   },
   "file_extension": ".py",
   "mimetype": "text/x-python",
   "name": "python",
   "nbconvert_exporter": "python",
   "pygments_lexer": "ipython3",
   "version": "3.10.0"
  }
 },
 "nbformat": 4,
 "nbformat_minor": 5
}
