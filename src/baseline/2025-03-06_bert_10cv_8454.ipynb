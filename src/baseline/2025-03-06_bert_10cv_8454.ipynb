{
 "cells": [
  {
   "cell_type": "code",
   "execution_count": 1,
   "id": "2e76aa66-729a-4bf9-98b9-61d8114e9f3a",
   "metadata": {},
   "outputs": [
    {
     "data": {
      "text/html": [
       "<div>\n",
       "<style scoped>\n",
       "    .dataframe tbody tr th:only-of-type {\n",
       "        vertical-align: middle;\n",
       "    }\n",
       "\n",
       "    .dataframe tbody tr th {\n",
       "        vertical-align: top;\n",
       "    }\n",
       "\n",
       "    .dataframe thead th {\n",
       "        text-align: right;\n",
       "    }\n",
       "</style>\n",
       "<table border=\"1\" class=\"dataframe\">\n",
       "  <thead>\n",
       "    <tr style=\"text-align: right;\">\n",
       "      <th></th>\n",
       "      <th>Inbound Message</th>\n",
       "      <th>Label</th>\n",
       "    </tr>\n",
       "  </thead>\n",
       "  <tbody>\n",
       "    <tr>\n",
       "      <th>0</th>\n",
       "      <td>login issue verified user details employee man...</td>\n",
       "      <td>0</td>\n",
       "    </tr>\n",
       "    <tr>\n",
       "      <th>1</th>\n",
       "      <td>outlook hello team meetings skype meetings etc...</td>\n",
       "      <td>0</td>\n",
       "    </tr>\n",
       "    <tr>\n",
       "      <th>2</th>\n",
       "      <td>cant log vpn cannot log vpn best</td>\n",
       "      <td>0</td>\n",
       "    </tr>\n",
       "    <tr>\n",
       "      <th>3</th>\n",
       "      <td>unable access tool page unable access tool page</td>\n",
       "      <td>0</td>\n",
       "    </tr>\n",
       "    <tr>\n",
       "      <th>4</th>\n",
       "      <td>skype error skype error</td>\n",
       "      <td>0</td>\n",
       "    </tr>\n",
       "    <tr>\n",
       "      <th>...</th>\n",
       "      <td>...</td>\n",
       "      <td>...</td>\n",
       "    </tr>\n",
       "    <tr>\n",
       "      <th>8449</th>\n",
       "      <td>emails coming mail good afternoon receiving em...</td>\n",
       "      <td>22</td>\n",
       "    </tr>\n",
       "    <tr>\n",
       "      <th>8450</th>\n",
       "      <td>telephony software issue telephony software issue</td>\n",
       "      <td>0</td>\n",
       "    </tr>\n",
       "    <tr>\n",
       "      <th>8451</th>\n",
       "      <td>vip windows password reset tifpdchb pedxruyf v...</td>\n",
       "      <td>0</td>\n",
       "    </tr>\n",
       "    <tr>\n",
       "      <th>8452</th>\n",
       "      <td>machine est funcionando unable access machine ...</td>\n",
       "      <td>44</td>\n",
       "    </tr>\n",
       "    <tr>\n",
       "      <th>8453</th>\n",
       "      <td>mehreren lassen sich verschiedene prgramdntyme...</td>\n",
       "      <td>49</td>\n",
       "    </tr>\n",
       "  </tbody>\n",
       "</table>\n",
       "<p>8454 rows × 2 columns</p>\n",
       "</div>"
      ],
      "text/plain": [
       "                                        Inbound Message  Label\n",
       "0     login issue verified user details employee man...      0\n",
       "1     outlook hello team meetings skype meetings etc...      0\n",
       "2                      cant log vpn cannot log vpn best      0\n",
       "3       unable access tool page unable access tool page      0\n",
       "4                               skype error skype error      0\n",
       "...                                                 ...    ...\n",
       "8449  emails coming mail good afternoon receiving em...     22\n",
       "8450  telephony software issue telephony software issue      0\n",
       "8451  vip windows password reset tifpdchb pedxruyf v...      0\n",
       "8452  machine est funcionando unable access machine ...     44\n",
       "8453  mehreren lassen sich verschiedene prgramdntyme...     49\n",
       "\n",
       "[8454 rows x 2 columns]"
      ]
     },
     "execution_count": 1,
     "metadata": {},
     "output_type": "execute_result"
    }
   ],
   "source": [
    "import pandas as pd\n",
    "data_path = \"../../data/open_source_8454_combine_short_description.csv\"  # 替換為你的檔案路徑\n",
    "df = pd.read_csv(data_path)\n",
    "# df_label_0 = df[df[\"Label\"] == 0]\n",
    "# df_label_0_to_drop = df_label_0.sample(n=3000, random_state=42)\n",
    "# df = df.drop(df_label_0_to_drop.index)\n",
    "df"
   ]
  },
  {
   "cell_type": "markdown",
   "id": "e79be804-d1e3-463a-824f-d4765544e493",
   "metadata": {},
   "source": [
    "# 十折驗證法"
   ]
  },
  {
   "cell_type": "code",
   "execution_count": 2,
   "id": "7e6a5029-3898-4bab-8d6c-bfd1a3694153",
   "metadata": {},
   "outputs": [
    {
     "name": "stdout",
     "output_type": "stream",
     "text": [
      "Using device: cuda\n",
      "CUDA Available: True\n",
      "CUDA Device: NVIDIA GeForce RTX 3050 6GB Laptop GPU\n",
      "Current GPU Memory Allocated: 0.0 GB\n",
      "Current GPU Memory Cached: 0.0 GB\n"
     ]
    }
   ],
   "source": [
    "import torch\n",
    "device = torch.device('cuda') if torch.cuda.is_available() else torch.device('cpu')\n",
    "print(f\"Using device: {device}\") \n",
    "print(f\"CUDA Available: {torch.cuda.is_available()}\")\n",
    "print(f\"CUDA Device: {torch.cuda.get_device_name(0)}\")\n",
    "print(f\"Current GPU Memory Allocated: {torch.cuda.memory_allocated() / 1e9} GB\")\n",
    "print(f\"Current GPU Memory Cached: {torch.cuda.memory_reserved() / 1e9} GB\")"
   ]
  },
  {
   "cell_type": "code",
   "execution_count": 3,
   "id": "833a0227-7775-4659-a98c-48c3fbdc9db9",
   "metadata": {},
   "outputs": [],
   "source": [
    "from torch.utils.data import Dataset\n",
    "class CustomDataset(Dataset):\n",
    "    def __init__(self, messages, labels, tokenizer, max_length):\n",
    "        self.messages = messages\n",
    "        self.labels = labels\n",
    "        self.tokenizer = tokenizer\n",
    "        self.max_length = max_length\n",
    "\n",
    "    def __len__(self):\n",
    "        return len(self.messages)\n",
    "\n",
    "    def __getitem__(self, idx):\n",
    "        message = str(self.messages[idx])\n",
    "        label = self.labels[idx]\n",
    "        \n",
    "        encoding = self.tokenizer.encode_plus(\n",
    "            message,\n",
    "            max_length=self.max_length,\n",
    "            add_special_tokens=True,\n",
    "            padding='max_length',\n",
    "            truncation=True,\n",
    "            return_attention_mask=True,\n",
    "            return_tensors='pt'\n",
    "        )\n",
    "        \n",
    "        return {\n",
    "            'input_ids': encoding['input_ids'].flatten(),\n",
    "            'attention_mask': encoding['attention_mask'].flatten(),\n",
    "            'labels': torch.tensor(label, dtype=torch.long)\n",
    "        }"
   ]
  },
  {
   "cell_type": "code",
   "execution_count": 4,
   "id": "985bf187-a1b5-4882-9e52-2cbc0188e8a6",
   "metadata": {},
   "outputs": [],
   "source": [
    "# 定義訓練與評估函數\n",
    "def train_epoch(model, dataloader, optimizer, criterion):\n",
    "    model.train()\n",
    "    total_loss = 0\n",
    "\n",
    "    for batch in tqdm(dataloader):\n",
    "        optimizer.zero_grad()\n",
    "\n",
    "        input_ids = batch['input_ids'].to(device)\n",
    "        attention_mask = batch['attention_mask'].to(device)\n",
    "        labels = batch['labels'].to(device)\n",
    "\n",
    "        outputs = model(input_ids=input_ids, attention_mask=attention_mask, labels=labels)\n",
    "        loss = outputs.loss\n",
    "        total_loss += loss.item()\n",
    "\n",
    "        loss.backward()\n",
    "        optimizer.step()\n",
    "    \n",
    "    return total_loss / len(dataloader)"
   ]
  },
  {
   "cell_type": "code",
   "execution_count": 5,
   "id": "7dceb8a1-edf1-42fe-ac48-dc84ed4709cf",
   "metadata": {},
   "outputs": [],
   "source": [
    "from sklearn.metrics import precision_score, recall_score, f1_score, balanced_accuracy_score, matthews_corrcoef\n",
    "from sklearn.preprocessing import label_binarize\n",
    "import numpy as np\n",
    "import torch\n",
    "\n",
    "def eval_model(model, dataloader, criterion, num_labels):\n",
    "    model.eval()\n",
    "    total_loss = 0\n",
    "    all_labels = []\n",
    "    all_preds = []\n",
    "    all_probs = []\n",
    "    \n",
    "    with torch.no_grad():\n",
    "        for batch in dataloader:\n",
    "            input_ids = batch['input_ids'].to(device)\n",
    "            attention_mask = batch['attention_mask'].to(device)\n",
    "            labels = batch['labels'].to(device)\n",
    "\n",
    "            outputs = model(input_ids=input_ids, attention_mask=attention_mask)\n",
    "            logits = outputs.logits\n",
    "            loss = criterion(logits, labels)\n",
    "            total_loss += loss.item()\n",
    "\n",
    "            probs = torch.softmax(logits, dim=1)\n",
    "            _, preds = torch.max(logits, dim=1)\n",
    "\n",
    "            all_labels.extend(labels.cpu().numpy())\n",
    "            all_preds.extend(preds.cpu().numpy())\n",
    "            all_probs.extend(probs.cpu().numpy())\n",
    "\n",
    "    val_loss = total_loss / len(dataloader)\n",
    "    val_accuracy = np.mean(np.array(all_preds) == np.array(all_labels))\n",
    "    precision = precision_score(all_labels, all_preds, average='weighted', zero_division=0)\n",
    "    recall = recall_score(all_labels, all_preds, average='weighted', zero_division=0)\n",
    "    f1 = f1_score(all_labels, all_preds, average='weighted', zero_division=0)\n",
    "    macro_f1 = f1_score(all_labels, all_preds, average='macro', zero_division=0)\n",
    "    balanced_acc = balanced_accuracy_score(all_labels, all_preds)\n",
    "    mcc = matthews_corrcoef(all_labels, all_preds)\n",
    "\n",
    "    return {\n",
    "        \"val_loss\": val_loss,\n",
    "        \"val_accuracy\": val_accuracy,\n",
    "        \"precision\": precision,\n",
    "        \"recall\": recall,\n",
    "        \"f1-score\": f1,\n",
    "        \"macro_f1-score\": macro_f1,\n",
    "        \"balanced_accuracy\": balanced_acc,\n",
    "        \"mcc\": mcc\n",
    "    }"
   ]
  },
  {
   "cell_type": "code",
   "execution_count": 6,
   "id": "0217a72c-db4d-4875-8a00-33f2dae9de5e",
   "metadata": {},
   "outputs": [],
   "source": [
    "from transformers import BertTokenizer\n",
    "from sklearn.model_selection import KFold\n",
    "# 設定參數\n",
    "MAX_LENGTH = 128\n",
    "BATCH_SIZE = 16\n",
    "EPOCHS = 20\n",
    "\n",
    "# 初始化 BERT 的 tokenizer\n",
    "tokenizer = BertTokenizer.from_pretrained('bert-base-uncased')\n",
    "\n",
    "# 初始化數據\n",
    "messages = df['Inbound Message'].tolist()\n",
    "labels = df['Label'].tolist()\n",
    "\n",
    "# KFold 初始化\n",
    "kf = KFold(n_splits=10, shuffle=True, random_state=42)"
   ]
  },
  {
   "cell_type": "code",
   "execution_count": 7,
   "id": "ee99c1b8-2fc7-483a-8cb6-d375039c6cb1",
   "metadata": {
    "scrolled": true
   },
   "outputs": [
    {
     "name": "stdout",
     "output_type": "stream",
     "text": [
      "Fold 1\n"
     ]
    },
    {
     "name": "stderr",
     "output_type": "stream",
     "text": [
      "Some weights of BertForSequenceClassification were not initialized from the model checkpoint at bert-base-uncased and are newly initialized: ['classifier.bias', 'classifier.weight']\n",
      "You should probably TRAIN this model on a down-stream task to be able to use it for predictions and inference.\n"
     ]
    },
    {
     "name": "stdout",
     "output_type": "stream",
     "text": [
      "Epoch 1/20\n"
     ]
    },
    {
     "name": "stderr",
     "output_type": "stream",
     "text": [
      "100%|██████████| 476/476 [03:19<00:00,  2.38it/s]\n"
     ]
    },
    {
     "name": "stdout",
     "output_type": "stream",
     "text": [
      "{'val_loss': 1.6443658752261467, 'val_accuracy': 0.5886524822695035, 'precision': 0.43408329407513996, 'recall': 0.5886524822695035, 'f1-score': 0.48881406748798745, 'macro_f1-score': 0.10799394766167221, 'balanced_accuracy': 0.13650684845824368, 'mcc': 0.4265792210703749}\n",
      "Epoch 2/20\n"
     ]
    },
    {
     "name": "stderr",
     "output_type": "stream",
     "text": [
      "100%|██████████| 476/476 [03:18<00:00,  2.40it/s]\n"
     ]
    },
    {
     "name": "stdout",
     "output_type": "stream",
     "text": [
      "{'val_loss': 1.4549492844995462, 'val_accuracy': 0.6052009456264775, 'precision': 0.5890019141020055, 'recall': 0.6052009456264775, 'f1-score': 0.5795821660973265, 'macro_f1-score': 0.20731583036343557, 'balanced_accuracy': 0.2472054813818105, 'mcc': 0.4872896445834385}\n",
      "Epoch 3/20\n"
     ]
    },
    {
     "name": "stderr",
     "output_type": "stream",
     "text": [
      "100%|██████████| 476/476 [03:19<00:00,  2.39it/s]\n"
     ]
    },
    {
     "name": "stdout",
     "output_type": "stream",
     "text": [
      "{'val_loss': 1.294528306092856, 'val_accuracy': 0.648936170212766, 'precision': 0.6083814763252612, 'recall': 0.648936170212766, 'f1-score': 0.6176840888563023, 'macro_f1-score': 0.28010217941722865, 'balanced_accuracy': 0.30206780071537387, 'mcc': 0.5383862392008414}\n",
      "Epoch 4/20\n"
     ]
    },
    {
     "name": "stderr",
     "output_type": "stream",
     "text": [
      "100%|██████████| 476/476 [03:22<00:00,  2.35it/s]\n",
      "D:\\Anaconda3\\envs\\cuda\\Lib\\site-packages\\sklearn\\metrics\\_classification.py:2458: UserWarning: y_pred contains classes not in y_true\n",
      "  warnings.warn(\"y_pred contains classes not in y_true\")\n"
     ]
    },
    {
     "name": "stdout",
     "output_type": "stream",
     "text": [
      "{'val_loss': 1.3241568230233103, 'val_accuracy': 0.6607565011820331, 'precision': 0.6405877287973432, 'recall': 0.6607565011820331, 'f1-score': 0.6368781716344462, 'macro_f1-score': 0.31661417777170087, 'balanced_accuracy': 0.3342082941734342, 'mcc': 0.550069784833562}\n",
      "Epoch 5/20\n"
     ]
    },
    {
     "name": "stderr",
     "output_type": "stream",
     "text": [
      "100%|██████████| 476/476 [03:22<00:00,  2.35it/s]\n"
     ]
    },
    {
     "name": "stdout",
     "output_type": "stream",
     "text": [
      "{'val_loss': 1.321454941664102, 'val_accuracy': 0.6950354609929078, 'precision': 0.6677098590880124, 'recall': 0.6950354609929078, 'f1-score': 0.6645199059868987, 'macro_f1-score': 0.3741544611110887, 'balanced_accuracy': 0.36460092170915415, 'mcc': 0.5944808412004581}\n",
      "Epoch 6/20\n"
     ]
    },
    {
     "name": "stderr",
     "output_type": "stream",
     "text": [
      "100%|██████████| 476/476 [03:22<00:00,  2.35it/s]\n"
     ]
    },
    {
     "name": "stdout",
     "output_type": "stream",
     "text": [
      "{'val_loss': 1.4431057353064698, 'val_accuracy': 0.6773049645390071, 'precision': 0.6868929419909162, 'recall': 0.6773049645390071, 'f1-score': 0.659725432092345, 'macro_f1-score': 0.3556874539866619, 'balanced_accuracy': 0.3444721554307222, 'mcc': 0.5716007200399315}\n",
      "Epoch 7/20\n"
     ]
    },
    {
     "name": "stderr",
     "output_type": "stream",
     "text": [
      "100%|██████████| 476/476 [03:24<00:00,  2.33it/s]\n"
     ]
    },
    {
     "name": "stdout",
     "output_type": "stream",
     "text": [
      "{'val_loss': 1.441794238562854, 'val_accuracy': 0.6678486997635934, 'precision': 0.696308946419348, 'recall': 0.6678486997635934, 'f1-score': 0.6689214522039688, 'macro_f1-score': 0.4220267501967298, 'balanced_accuracy': 0.4618715151008619, 'mcc': 0.5822866264002621}\n",
      "Epoch 8/20\n"
     ]
    },
    {
     "name": "stderr",
     "output_type": "stream",
     "text": [
      "100%|██████████| 476/476 [03:23<00:00,  2.34it/s]\n",
      "D:\\Anaconda3\\envs\\cuda\\Lib\\site-packages\\sklearn\\metrics\\_classification.py:2458: UserWarning: y_pred contains classes not in y_true\n",
      "  warnings.warn(\"y_pred contains classes not in y_true\")\n"
     ]
    },
    {
     "name": "stdout",
     "output_type": "stream",
     "text": [
      "{'val_loss': 1.5625414277585048, 'val_accuracy': 0.6843971631205674, 'precision': 0.6839013966874329, 'recall': 0.6843971631205674, 'f1-score': 0.668709029107586, 'macro_f1-score': 0.43295151143130284, 'balanced_accuracy': 0.43102066543776085, 'mcc': 0.5850183366693483}\n",
      "Epoch 9/20\n"
     ]
    },
    {
     "name": "stderr",
     "output_type": "stream",
     "text": [
      "100%|██████████| 476/476 [03:21<00:00,  2.36it/s]\n",
      "D:\\Anaconda3\\envs\\cuda\\Lib\\site-packages\\sklearn\\metrics\\_classification.py:2458: UserWarning: y_pred contains classes not in y_true\n",
      "  warnings.warn(\"y_pred contains classes not in y_true\")\n"
     ]
    },
    {
     "name": "stdout",
     "output_type": "stream",
     "text": [
      "{'val_loss': 1.6276920443435885, 'val_accuracy': 0.6832151300236406, 'precision': 0.683650582406782, 'recall': 0.6832151300236406, 'f1-score': 0.6682226308269709, 'macro_f1-score': 0.4246159819432772, 'balanced_accuracy': 0.42468810678355173, 'mcc': 0.5812272504513054}\n",
      "Epoch 10/20\n"
     ]
    },
    {
     "name": "stderr",
     "output_type": "stream",
     "text": [
      "100%|██████████| 476/476 [03:22<00:00,  2.35it/s]\n",
      "D:\\Anaconda3\\envs\\cuda\\Lib\\site-packages\\sklearn\\metrics\\_classification.py:2458: UserWarning: y_pred contains classes not in y_true\n",
      "  warnings.warn(\"y_pred contains classes not in y_true\")\n"
     ]
    },
    {
     "name": "stdout",
     "output_type": "stream",
     "text": [
      "{'val_loss': 1.5500604231964867, 'val_accuracy': 0.6442080378250591, 'precision': 0.6623921079651702, 'recall': 0.6442080378250591, 'f1-score': 0.6334799370095444, 'macro_f1-score': 0.3545393170306096, 'balanced_accuracy': 0.3806606389283209, 'mcc': 0.5406719183799981}\n",
      "Epoch 11/20\n"
     ]
    },
    {
     "name": "stderr",
     "output_type": "stream",
     "text": [
      "100%|██████████| 476/476 [03:22<00:00,  2.35it/s]\n",
      "D:\\Anaconda3\\envs\\cuda\\Lib\\site-packages\\sklearn\\metrics\\_classification.py:2458: UserWarning: y_pred contains classes not in y_true\n",
      "  warnings.warn(\"y_pred contains classes not in y_true\")\n"
     ]
    },
    {
     "name": "stdout",
     "output_type": "stream",
     "text": [
      "{'val_loss': 1.5875825623296342, 'val_accuracy': 0.6702127659574468, 'precision': 0.688535940449791, 'recall': 0.6702127659574468, 'f1-score': 0.6685082138123444, 'macro_f1-score': 0.3874073155806347, 'balanced_accuracy': 0.40426483064988084, 'mcc': 0.5750825593374722}\n",
      "Early stopping triggered at epoch 11\n",
      "Fold 2\n"
     ]
    },
    {
     "name": "stderr",
     "output_type": "stream",
     "text": [
      "Some weights of BertForSequenceClassification were not initialized from the model checkpoint at bert-base-uncased and are newly initialized: ['classifier.bias', 'classifier.weight']\n",
      "You should probably TRAIN this model on a down-stream task to be able to use it for predictions and inference.\n"
     ]
    },
    {
     "name": "stdout",
     "output_type": "stream",
     "text": [
      "Epoch 1/20\n"
     ]
    },
    {
     "name": "stderr",
     "output_type": "stream",
     "text": [
      "100%|██████████| 476/476 [03:22<00:00,  2.35it/s]\n"
     ]
    },
    {
     "name": "stdout",
     "output_type": "stream",
     "text": [
      "{'val_loss': 1.5657891901034229, 'val_accuracy': 0.6146572104018913, 'precision': 0.4689951874104479, 'recall': 0.6146572104018913, 'f1-score': 0.4967997256397671, 'macro_f1-score': 0.09391562730383535, 'balanced_accuracy': 0.11245032941099678, 'mcc': 0.4340662052467883}\n",
      "Epoch 2/20\n"
     ]
    },
    {
     "name": "stderr",
     "output_type": "stream",
     "text": [
      "100%|██████████| 476/476 [03:22<00:00,  2.35it/s]\n"
     ]
    },
    {
     "name": "stdout",
     "output_type": "stream",
     "text": [
      "{'val_loss': 1.2955601131016354, 'val_accuracy': 0.6725768321513003, 'precision': 0.5883980416619685, 'recall': 0.6725768321513003, 'f1-score': 0.6084708388214389, 'macro_f1-score': 0.21576632802530912, 'balanced_accuracy': 0.21911750364067048, 'mcc': 0.5403990978067108}\n",
      "Epoch 3/20\n"
     ]
    },
    {
     "name": "stderr",
     "output_type": "stream",
     "text": [
      "100%|██████████| 476/476 [03:21<00:00,  2.36it/s]\n"
     ]
    },
    {
     "name": "stdout",
     "output_type": "stream",
     "text": [
      "{'val_loss': 1.229485788435306, 'val_accuracy': 0.682033096926714, 'precision': 0.6470982350362832, 'recall': 0.682033096926714, 'f1-score': 0.6523861304773558, 'macro_f1-score': 0.2732251921205602, 'balanced_accuracy': 0.27270307345021727, 'mcc': 0.5650646263837575}\n",
      "Epoch 4/20\n"
     ]
    },
    {
     "name": "stderr",
     "output_type": "stream",
     "text": [
      "100%|██████████| 476/476 [03:22<00:00,  2.35it/s]\n"
     ]
    },
    {
     "name": "stdout",
     "output_type": "stream",
     "text": [
      "{'val_loss': 1.255028690369624, 'val_accuracy': 0.6725768321513003, 'precision': 0.6557700050824743, 'recall': 0.6725768321513003, 'f1-score': 0.6500070180348829, 'macro_f1-score': 0.3135696098430892, 'balanced_accuracy': 0.3164008298363886, 'mcc': 0.5565490091165666}\n",
      "Epoch 5/20\n"
     ]
    },
    {
     "name": "stderr",
     "output_type": "stream",
     "text": [
      "100%|██████████| 476/476 [03:22<00:00,  2.35it/s]\n",
      "D:\\Anaconda3\\envs\\cuda\\Lib\\site-packages\\sklearn\\metrics\\_classification.py:2458: UserWarning: y_pred contains classes not in y_true\n",
      "  warnings.warn(\"y_pred contains classes not in y_true\")\n"
     ]
    },
    {
     "name": "stdout",
     "output_type": "stream",
     "text": [
      "{'val_loss': 1.2622527570094701, 'val_accuracy': 0.6832151300236406, 'precision': 0.67101606758693, 'recall': 0.6832151300236406, 'f1-score': 0.6572484980832617, 'macro_f1-score': 0.2890223489595898, 'balanced_accuracy': 0.28902783809875915, 'mcc': 0.5693997319000863}\n",
      "Epoch 6/20\n"
     ]
    },
    {
     "name": "stderr",
     "output_type": "stream",
     "text": [
      "100%|██████████| 476/476 [03:21<00:00,  2.36it/s]\n"
     ]
    },
    {
     "name": "stdout",
     "output_type": "stream",
     "text": [
      "{'val_loss': 1.3854179449801176, 'val_accuracy': 0.6867612293144209, 'precision': 0.6708086092394603, 'recall': 0.6867612293144209, 'f1-score': 0.6590622927083057, 'macro_f1-score': 0.33905537790293766, 'balanced_accuracy': 0.31289136323593725, 'mcc': 0.5698248156203917}\n",
      "Epoch 7/20\n"
     ]
    },
    {
     "name": "stderr",
     "output_type": "stream",
     "text": [
      "100%|██████████| 476/476 [03:21<00:00,  2.36it/s]\n"
     ]
    },
    {
     "name": "stdout",
     "output_type": "stream",
     "text": [
      "{'val_loss': 1.4261514645702433, 'val_accuracy': 0.6749408983451537, 'precision': 0.6602859405539839, 'recall': 0.6749408983451537, 'f1-score': 0.656041780399816, 'macro_f1-score': 0.3460708687835968, 'balanced_accuracy': 0.33579927753075395, 'mcc': 0.5626665028402603}\n",
      "Epoch 8/20\n"
     ]
    },
    {
     "name": "stderr",
     "output_type": "stream",
     "text": [
      "100%|██████████| 476/476 [03:22<00:00,  2.35it/s]\n",
      "D:\\Anaconda3\\envs\\cuda\\Lib\\site-packages\\sklearn\\metrics\\_classification.py:2458: UserWarning: y_pred contains classes not in y_true\n",
      "  warnings.warn(\"y_pred contains classes not in y_true\")\n"
     ]
    },
    {
     "name": "stdout",
     "output_type": "stream",
     "text": [
      "{'val_loss': 1.5983965860785179, 'val_accuracy': 0.6713947990543735, 'precision': 0.7070912790132805, 'recall': 0.6713947990543735, 'f1-score': 0.6760051205138792, 'macro_f1-score': 0.38038494627452124, 'balanced_accuracy': 0.40826955836313933, 'mcc': 0.5702982263111221}\n",
      "Epoch 9/20\n"
     ]
    },
    {
     "name": "stderr",
     "output_type": "stream",
     "text": [
      "100%|██████████| 476/476 [03:23<00:00,  2.34it/s]\n"
     ]
    },
    {
     "name": "stdout",
     "output_type": "stream",
     "text": [
      "{'val_loss': 1.5340781228722267, 'val_accuracy': 0.6973995271867612, 'precision': 0.7022351734345069, 'recall': 0.6973995271867612, 'f1-score': 0.6823564385506532, 'macro_f1-score': 0.34799088909643566, 'balanced_accuracy': 0.3402595871812971, 'mcc': 0.5892211918378969}\n",
      "Epoch 10/20\n"
     ]
    },
    {
     "name": "stderr",
     "output_type": "stream",
     "text": [
      "100%|██████████| 476/476 [03:22<00:00,  2.35it/s]\n",
      "D:\\Anaconda3\\envs\\cuda\\Lib\\site-packages\\sklearn\\metrics\\_classification.py:2458: UserWarning: y_pred contains classes not in y_true\n",
      "  warnings.warn(\"y_pred contains classes not in y_true\")\n"
     ]
    },
    {
     "name": "stdout",
     "output_type": "stream",
     "text": [
      "{'val_loss': 1.585569827905241, 'val_accuracy': 0.6773049645390071, 'precision': 0.6908648242963933, 'recall': 0.6773049645390071, 'f1-score': 0.6689623201308128, 'macro_f1-score': 0.36556391845505115, 'balanced_accuracy': 0.37100246955099847, 'mcc': 0.5713629561143947}\n",
      "Epoch 11/20\n"
     ]
    },
    {
     "name": "stderr",
     "output_type": "stream",
     "text": [
      "100%|██████████| 476/476 [03:22<00:00,  2.35it/s]\n",
      "D:\\Anaconda3\\envs\\cuda\\Lib\\site-packages\\sklearn\\metrics\\_classification.py:2458: UserWarning: y_pred contains classes not in y_true\n",
      "  warnings.warn(\"y_pred contains classes not in y_true\")\n"
     ]
    },
    {
     "name": "stdout",
     "output_type": "stream",
     "text": [
      "{'val_loss': 1.6281479914795678, 'val_accuracy': 0.6607565011820331, 'precision': 0.6751739700749239, 'recall': 0.6607565011820331, 'f1-score': 0.6489097059150086, 'macro_f1-score': 0.35404927173214334, 'balanced_accuracy': 0.3706473407002243, 'mcc': 0.5501104629157796}\n",
      "Early stopping triggered at epoch 11\n",
      "Fold 3\n"
     ]
    },
    {
     "name": "stderr",
     "output_type": "stream",
     "text": [
      "Some weights of BertForSequenceClassification were not initialized from the model checkpoint at bert-base-uncased and are newly initialized: ['classifier.bias', 'classifier.weight']\n",
      "You should probably TRAIN this model on a down-stream task to be able to use it for predictions and inference.\n"
     ]
    },
    {
     "name": "stdout",
     "output_type": "stream",
     "text": [
      "Epoch 1/20\n"
     ]
    },
    {
     "name": "stderr",
     "output_type": "stream",
     "text": [
      "100%|██████████| 476/476 [03:22<00:00,  2.35it/s]\n"
     ]
    },
    {
     "name": "stdout",
     "output_type": "stream",
     "text": [
      "{'val_loss': 1.4744071150725742, 'val_accuracy': 0.6312056737588653, 'precision': 0.5117999490580848, 'recall': 0.6312056737588653, 'f1-score': 0.5468835465209557, 'macro_f1-score': 0.11671528447992183, 'balanced_accuracy': 0.12928565319468488, 'mcc': 0.4500792068677042}\n",
      "Epoch 2/20\n"
     ]
    },
    {
     "name": "stderr",
     "output_type": "stream",
     "text": [
      "100%|██████████| 476/476 [03:23<00:00,  2.34it/s]\n"
     ]
    },
    {
     "name": "stdout",
     "output_type": "stream",
     "text": [
      "{'val_loss': 1.3087398983397573, 'val_accuracy': 0.6560283687943262, 'precision': 0.6263611366573516, 'recall': 0.6560283687943262, 'f1-score': 0.6280742532778499, 'macro_f1-score': 0.20441954471749413, 'balanced_accuracy': 0.23169714175265088, 'mcc': 0.527431465056708}\n",
      "Epoch 3/20\n"
     ]
    },
    {
     "name": "stderr",
     "output_type": "stream",
     "text": [
      "100%|██████████| 476/476 [03:22<00:00,  2.35it/s]\n"
     ]
    },
    {
     "name": "stdout",
     "output_type": "stream",
     "text": [
      "{'val_loss': 1.2450172861792006, 'val_accuracy': 0.6513002364066194, 'precision': 0.6409208701489787, 'recall': 0.6513002364066194, 'f1-score': 0.6307373524478951, 'macro_f1-score': 0.2531857486459126, 'balanced_accuracy': 0.2804865782703739, 'mcc': 0.5240532281516422}\n",
      "Epoch 4/20\n"
     ]
    },
    {
     "name": "stderr",
     "output_type": "stream",
     "text": [
      "100%|██████████| 476/476 [03:22<00:00,  2.35it/s]\n"
     ]
    },
    {
     "name": "stdout",
     "output_type": "stream",
     "text": [
      "{'val_loss': 1.2514363833755817, 'val_accuracy': 0.6843971631205674, 'precision': 0.6754855627812159, 'recall': 0.6843971631205674, 'f1-score': 0.6641590412436545, 'macro_f1-score': 0.2901064381807233, 'balanced_accuracy': 0.31688200568091585, 'mcc': 0.57063652502444}\n",
      "Epoch 5/20\n"
     ]
    },
    {
     "name": "stderr",
     "output_type": "stream",
     "text": [
      "100%|██████████| 476/476 [03:22<00:00,  2.35it/s]\n"
     ]
    },
    {
     "name": "stdout",
     "output_type": "stream",
     "text": [
      "{'val_loss': 1.301535944331367, 'val_accuracy': 0.7092198581560284, 'precision': 0.702676466569622, 'recall': 0.7092198581560284, 'f1-score': 0.6891359763686009, 'macro_f1-score': 0.34353146159651465, 'balanced_accuracy': 0.3635390775431351, 'mcc': 0.6018112569589623}\n",
      "Epoch 6/20\n"
     ]
    },
    {
     "name": "stderr",
     "output_type": "stream",
     "text": [
      "100%|██████████| 476/476 [03:22<00:00,  2.35it/s]\n"
     ]
    },
    {
     "name": "stdout",
     "output_type": "stream",
     "text": [
      "{'val_loss': 1.3189311710731038, 'val_accuracy': 0.7044917257683215, 'precision': 0.7119567662158307, 'recall': 0.7044917257683215, 'f1-score': 0.6951326748896509, 'macro_f1-score': 0.37386480867632077, 'balanced_accuracy': 0.3934763541720466, 'mcc': 0.6019024373215233}\n",
      "Epoch 7/20\n"
     ]
    },
    {
     "name": "stderr",
     "output_type": "stream",
     "text": [
      "100%|██████████| 476/476 [03:22<00:00,  2.35it/s]\n"
     ]
    },
    {
     "name": "stdout",
     "output_type": "stream",
     "text": [
      "{'val_loss': 1.4134690509933345, 'val_accuracy': 0.6855791962174941, 'precision': 0.6956920418049805, 'recall': 0.6855791962174941, 'f1-score': 0.6752055240889338, 'macro_f1-score': 0.3517611035952119, 'balanced_accuracy': 0.3930917416222376, 'mcc': 0.5776072891141225}\n",
      "Epoch 8/20\n"
     ]
    },
    {
     "name": "stderr",
     "output_type": "stream",
     "text": [
      "100%|██████████| 476/476 [03:23<00:00,  2.34it/s]\n"
     ]
    },
    {
     "name": "stdout",
     "output_type": "stream",
     "text": [
      "{'val_loss': 1.4702683113655954, 'val_accuracy': 0.6808510638297872, 'precision': 0.6913709044236334, 'recall': 0.6808510638297872, 'f1-score': 0.6704596142753763, 'macro_f1-score': 0.3522512689253705, 'balanced_accuracy': 0.3715297901560025, 'mcc': 0.5604021205825367}\n",
      "Epoch 9/20\n"
     ]
    },
    {
     "name": "stderr",
     "output_type": "stream",
     "text": [
      "100%|██████████| 476/476 [03:23<00:00,  2.34it/s]\n"
     ]
    },
    {
     "name": "stdout",
     "output_type": "stream",
     "text": [
      "{'val_loss': 1.4470818762509328, 'val_accuracy': 0.7210401891252955, 'precision': 0.689285052534997, 'recall': 0.7210401891252955, 'f1-score': 0.6908203416815809, 'macro_f1-score': 0.33165605880341525, 'balanced_accuracy': 0.32736182726479934, 'mcc': 0.6053996639617644}\n",
      "Early stopping triggered at epoch 9\n",
      "Fold 4\n"
     ]
    },
    {
     "name": "stderr",
     "output_type": "stream",
     "text": [
      "Some weights of BertForSequenceClassification were not initialized from the model checkpoint at bert-base-uncased and are newly initialized: ['classifier.bias', 'classifier.weight']\n",
      "You should probably TRAIN this model on a down-stream task to be able to use it for predictions and inference.\n"
     ]
    },
    {
     "name": "stdout",
     "output_type": "stream",
     "text": [
      "Epoch 1/20\n"
     ]
    },
    {
     "name": "stderr",
     "output_type": "stream",
     "text": [
      "100%|██████████| 476/476 [03:23<00:00,  2.34it/s]\n"
     ]
    },
    {
     "name": "stdout",
     "output_type": "stream",
     "text": [
      "{'val_loss': 1.439120019381901, 'val_accuracy': 0.6430260047281324, 'precision': 0.5035034000322861, 'recall': 0.6430260047281324, 'f1-score': 0.5400389674175786, 'macro_f1-score': 0.11573860739572622, 'balanced_accuracy': 0.12394408550938169, 'mcc': 0.4876851969458903}\n",
      "Epoch 2/20\n"
     ]
    },
    {
     "name": "stderr",
     "output_type": "stream",
     "text": [
      "100%|██████████| 476/476 [03:22<00:00,  2.35it/s]\n"
     ]
    },
    {
     "name": "stdout",
     "output_type": "stream",
     "text": [
      "{'val_loss': 1.2453101502274566, 'val_accuracy': 0.6761229314420804, 'precision': 0.6104621100409864, 'recall': 0.6761229314420804, 'f1-score': 0.6271949544104313, 'macro_f1-score': 0.22801407070965923, 'balanced_accuracy': 0.23205611653344832, 'mcc': 0.5553786734175228}\n",
      "Epoch 3/20\n"
     ]
    },
    {
     "name": "stderr",
     "output_type": "stream",
     "text": [
      "100%|██████████| 476/476 [03:22<00:00,  2.35it/s]\n"
     ]
    },
    {
     "name": "stdout",
     "output_type": "stream",
     "text": [
      "{'val_loss': 1.2174940367914595, 'val_accuracy': 0.6855791962174941, 'precision': 0.6445338839274187, 'recall': 0.6855791962174941, 'f1-score': 0.652100029450447, 'macro_f1-score': 0.2757411783577274, 'balanced_accuracy': 0.2676538072625533, 'mcc': 0.5711651529578448}\n",
      "Epoch 4/20\n"
     ]
    },
    {
     "name": "stderr",
     "output_type": "stream",
     "text": [
      "100%|██████████| 476/476 [03:23<00:00,  2.34it/s]\n"
     ]
    },
    {
     "name": "stdout",
     "output_type": "stream",
     "text": [
      "{'val_loss': 1.271851842414658, 'val_accuracy': 0.6702127659574468, 'precision': 0.6589204805088695, 'recall': 0.6702127659574468, 'f1-score': 0.644141707522864, 'macro_f1-score': 0.2764079529046777, 'balanced_accuracy': 0.25925777610112505, 'mcc': 0.5494140477204381}\n",
      "Epoch 5/20\n"
     ]
    },
    {
     "name": "stderr",
     "output_type": "stream",
     "text": [
      "100%|██████████| 476/476 [13:54<00:00,  1.75s/it]   \n"
     ]
    },
    {
     "name": "stdout",
     "output_type": "stream",
     "text": [
      "{'val_loss': 1.3132766569560428, 'val_accuracy': 0.6855791962174941, 'precision': 0.6966421336315133, 'recall': 0.6855791962174941, 'f1-score': 0.6754460799529365, 'macro_f1-score': 0.3591867700803559, 'balanced_accuracy': 0.35687573337574274, 'mcc': 0.5793991592180973}\n",
      "Epoch 6/20\n"
     ]
    },
    {
     "name": "stderr",
     "output_type": "stream",
     "text": [
      "100%|██████████| 476/476 [03:43<00:00,  2.13it/s]\n"
     ]
    },
    {
     "name": "stdout",
     "output_type": "stream",
     "text": [
      "{'val_loss': 1.405437170615736, 'val_accuracy': 0.682033096926714, 'precision': 0.696998155145977, 'recall': 0.682033096926714, 'f1-score': 0.6667503062501093, 'macro_f1-score': 0.3926358014115656, 'balanced_accuracy': 0.39607840900408103, 'mcc': 0.5670375549816904}\n",
      "Epoch 7/20\n"
     ]
    },
    {
     "name": "stderr",
     "output_type": "stream",
     "text": [
      "100%|██████████| 476/476 [03:26<00:00,  2.31it/s]\n"
     ]
    },
    {
     "name": "stdout",
     "output_type": "stream",
     "text": [
      "{'val_loss': 1.4706131728752605, 'val_accuracy': 0.6879432624113475, 'precision': 0.688326488047571, 'recall': 0.6879432624113475, 'f1-score': 0.672464749271727, 'macro_f1-score': 0.3669822034682521, 'balanced_accuracy': 0.3713350577532484, 'mcc': 0.5756453087913632}\n",
      "Epoch 8/20\n"
     ]
    },
    {
     "name": "stderr",
     "output_type": "stream",
     "text": [
      "100%|██████████| 476/476 [03:23<00:00,  2.33it/s]\n"
     ]
    },
    {
     "name": "stdout",
     "output_type": "stream",
     "text": [
      "{'val_loss': 1.5373820454444524, 'val_accuracy': 0.6725768321513003, 'precision': 0.695878306921828, 'recall': 0.6725768321513003, 'f1-score': 0.6682294764994678, 'macro_f1-score': 0.37036591936707225, 'balanced_accuracy': 0.3771062316230717, 'mcc': 0.5648566964809264}\n",
      "Epoch 9/20\n"
     ]
    },
    {
     "name": "stderr",
     "output_type": "stream",
     "text": [
      "100%|██████████| 476/476 [03:24<00:00,  2.33it/s]\n"
     ]
    },
    {
     "name": "stdout",
     "output_type": "stream",
     "text": [
      "{'val_loss': 1.562184232304681, 'val_accuracy': 0.6666666666666666, 'precision': 0.7014960116289364, 'recall': 0.6666666666666666, 'f1-score': 0.6712810362906853, 'macro_f1-score': 0.38213829692665746, 'balanced_accuracy': 0.3900483019194841, 'mcc': 0.5659218260862143}\n",
      "Early stopping triggered at epoch 9\n",
      "Fold 5\n"
     ]
    },
    {
     "name": "stderr",
     "output_type": "stream",
     "text": [
      "Some weights of BertForSequenceClassification were not initialized from the model checkpoint at bert-base-uncased and are newly initialized: ['classifier.bias', 'classifier.weight']\n",
      "You should probably TRAIN this model on a down-stream task to be able to use it for predictions and inference.\n"
     ]
    },
    {
     "name": "stdout",
     "output_type": "stream",
     "text": [
      "Epoch 1/20\n"
     ]
    },
    {
     "name": "stderr",
     "output_type": "stream",
     "text": [
      "100%|██████████| 476/476 [03:24<00:00,  2.33it/s]\n"
     ]
    },
    {
     "name": "stdout",
     "output_type": "stream",
     "text": [
      "{'val_loss': 1.5242170865805644, 'val_accuracy': 0.6059171597633136, 'precision': 0.4284644822418373, 'recall': 0.6059171597633136, 'f1-score': 0.4907054951348132, 'macro_f1-score': 0.10618635605748976, 'balanced_accuracy': 0.12065473029802308, 'mcc': 0.4386504026494992}\n",
      "Epoch 2/20\n"
     ]
    },
    {
     "name": "stderr",
     "output_type": "stream",
     "text": [
      "100%|██████████| 476/476 [03:24<00:00,  2.33it/s]\n"
     ]
    },
    {
     "name": "stdout",
     "output_type": "stream",
     "text": [
      "{'val_loss': 1.3636290965215214, 'val_accuracy': 0.6414201183431952, 'precision': 0.5740953331751706, 'recall': 0.6414201183431952, 'f1-score': 0.5792827853561563, 'macro_f1-score': 0.21913784107135573, 'balanced_accuracy': 0.21512280695930175, 'mcc': 0.5016946794702146}\n",
      "Epoch 3/20\n"
     ]
    },
    {
     "name": "stderr",
     "output_type": "stream",
     "text": [
      "100%|██████████| 476/476 [03:24<00:00,  2.33it/s]\n",
      "D:\\Anaconda3\\envs\\cuda\\Lib\\site-packages\\sklearn\\metrics\\_classification.py:2458: UserWarning: y_pred contains classes not in y_true\n",
      "  warnings.warn(\"y_pred contains classes not in y_true\")\n"
     ]
    },
    {
     "name": "stdout",
     "output_type": "stream",
     "text": [
      "{'val_loss': 1.3025851795133554, 'val_accuracy': 0.6650887573964497, 'precision': 0.6199638857572523, 'recall': 0.6650887573964497, 'f1-score': 0.6257077381469637, 'macro_f1-score': 0.2515223518141078, 'balanced_accuracy': 0.25588421076011625, 'mcc': 0.5484974872952926}\n",
      "Epoch 4/20\n"
     ]
    },
    {
     "name": "stderr",
     "output_type": "stream",
     "text": [
      "100%|██████████| 476/476 [03:27<00:00,  2.30it/s]\n",
      "D:\\Anaconda3\\envs\\cuda\\Lib\\site-packages\\sklearn\\metrics\\_classification.py:2458: UserWarning: y_pred contains classes not in y_true\n",
      "  warnings.warn(\"y_pred contains classes not in y_true\")\n"
     ]
    },
    {
     "name": "stdout",
     "output_type": "stream",
     "text": [
      "{'val_loss': 1.296406386595852, 'val_accuracy': 0.672189349112426, 'precision': 0.6538658361757761, 'recall': 0.672189349112426, 'f1-score': 0.6446446849240602, 'macro_f1-score': 0.29772832909057456, 'balanced_accuracy': 0.31742654945427695, 'mcc': 0.5675285968104201}\n",
      "Epoch 5/20\n"
     ]
    },
    {
     "name": "stderr",
     "output_type": "stream",
     "text": [
      "100%|██████████| 476/476 [03:45<00:00,  2.11it/s]\n"
     ]
    },
    {
     "name": "stdout",
     "output_type": "stream",
     "text": [
      "{'val_loss': 1.3591461358767636, 'val_accuracy': 0.6875739644970414, 'precision': 0.6519381667564751, 'recall': 0.6875739644970414, 'f1-score': 0.6547742668211239, 'macro_f1-score': 0.3319244635467153, 'balanced_accuracy': 0.3306620331014197, 'mcc': 0.581329754391443}\n",
      "Epoch 6/20\n"
     ]
    },
    {
     "name": "stderr",
     "output_type": "stream",
     "text": [
      "100%|██████████| 476/476 [03:46<00:00,  2.11it/s]\n",
      "D:\\Anaconda3\\envs\\cuda\\Lib\\site-packages\\sklearn\\metrics\\_classification.py:2458: UserWarning: y_pred contains classes not in y_true\n",
      "  warnings.warn(\"y_pred contains classes not in y_true\")\n"
     ]
    },
    {
     "name": "stdout",
     "output_type": "stream",
     "text": [
      "{'val_loss': 1.361145701891971, 'val_accuracy': 0.6816568047337278, 'precision': 0.6762606255843672, 'recall': 0.6816568047337278, 'f1-score': 0.6664731373410112, 'macro_f1-score': 0.3791042076784161, 'balanced_accuracy': 0.38814447617335296, 'mcc': 0.5798637610256094}\n",
      "Epoch 7/20\n"
     ]
    },
    {
     "name": "stderr",
     "output_type": "stream",
     "text": [
      "100%|██████████| 476/476 [03:48<00:00,  2.09it/s]\n",
      "D:\\Anaconda3\\envs\\cuda\\Lib\\site-packages\\sklearn\\metrics\\_classification.py:2458: UserWarning: y_pred contains classes not in y_true\n",
      "  warnings.warn(\"y_pred contains classes not in y_true\")\n"
     ]
    },
    {
     "name": "stdout",
     "output_type": "stream",
     "text": [
      "{'val_loss': 1.4098750217905585, 'val_accuracy': 0.6994082840236686, 'precision': 0.6989969743090216, 'recall': 0.6994082840236686, 'f1-score': 0.6708399115906613, 'macro_f1-score': 0.3776874450040861, 'balanced_accuracy': 0.36003484951327536, 'mcc': 0.5955154530913542}\n",
      "Epoch 8/20\n"
     ]
    },
    {
     "name": "stderr",
     "output_type": "stream",
     "text": [
      "100%|██████████| 476/476 [03:55<00:00,  2.02it/s]\n",
      "D:\\Anaconda3\\envs\\cuda\\Lib\\site-packages\\sklearn\\metrics\\_classification.py:2458: UserWarning: y_pred contains classes not in y_true\n",
      "  warnings.warn(\"y_pred contains classes not in y_true\")\n"
     ]
    },
    {
     "name": "stdout",
     "output_type": "stream",
     "text": [
      "{'val_loss': 1.3640194737686302, 'val_accuracy': 0.6946745562130178, 'precision': 0.7114938374304793, 'recall': 0.6946745562130178, 'f1-score': 0.6809026727263229, 'macro_f1-score': 0.39114396458377537, 'balanced_accuracy': 0.3861998571620853, 'mcc': 0.5978017811159424}\n",
      "Epoch 9/20\n"
     ]
    },
    {
     "name": "stderr",
     "output_type": "stream",
     "text": [
      "100%|██████████| 476/476 [03:57<00:00,  2.00it/s]\n",
      "D:\\Anaconda3\\envs\\cuda\\Lib\\site-packages\\sklearn\\metrics\\_classification.py:2458: UserWarning: y_pred contains classes not in y_true\n",
      "  warnings.warn(\"y_pred contains classes not in y_true\")\n"
     ]
    },
    {
     "name": "stdout",
     "output_type": "stream",
     "text": [
      "{'val_loss': 1.4780430490115903, 'val_accuracy': 0.6923076923076923, 'precision': 0.680333995068591, 'recall': 0.6923076923076923, 'f1-score': 0.675321328699949, 'macro_f1-score': 0.3996598036656753, 'balanced_accuracy': 0.3982189011925875, 'mcc': 0.5930544036565198}\n",
      "Epoch 10/20\n"
     ]
    },
    {
     "name": "stderr",
     "output_type": "stream",
     "text": [
      "100%|██████████| 476/476 [03:55<00:00,  2.02it/s]\n",
      "D:\\Anaconda3\\envs\\cuda\\Lib\\site-packages\\sklearn\\metrics\\_classification.py:2458: UserWarning: y_pred contains classes not in y_true\n",
      "  warnings.warn(\"y_pred contains classes not in y_true\")\n"
     ]
    },
    {
     "name": "stdout",
     "output_type": "stream",
     "text": [
      "{'val_loss': 1.445258136065501, 'val_accuracy': 0.6982248520710059, 'precision': 0.7080525279547171, 'recall': 0.6982248520710059, 'f1-score': 0.6849013985978024, 'macro_f1-score': 0.4019599098004103, 'balanced_accuracy': 0.4126184316325861, 'mcc': 0.6038685746504877}\n",
      "Epoch 11/20\n"
     ]
    },
    {
     "name": "stderr",
     "output_type": "stream",
     "text": [
      "100%|██████████| 476/476 [03:56<00:00,  2.01it/s]\n",
      "D:\\Anaconda3\\envs\\cuda\\Lib\\site-packages\\sklearn\\metrics\\_classification.py:2458: UserWarning: y_pred contains classes not in y_true\n",
      "  warnings.warn(\"y_pred contains classes not in y_true\")\n"
     ]
    },
    {
     "name": "stdout",
     "output_type": "stream",
     "text": [
      "{'val_loss': 1.4894069922420214, 'val_accuracy': 0.6911242603550296, 'precision': 0.7066630911599596, 'recall': 0.6911242603550296, 'f1-score': 0.6835775926577524, 'macro_f1-score': 0.40917966803307726, 'balanced_accuracy': 0.4272152643229863, 'mcc': 0.598612111392623}\n",
      "Epoch 12/20\n"
     ]
    },
    {
     "name": "stderr",
     "output_type": "stream",
     "text": [
      "100%|██████████| 476/476 [03:28<00:00,  2.29it/s]\n",
      "D:\\Anaconda3\\envs\\cuda\\Lib\\site-packages\\sklearn\\metrics\\_classification.py:2458: UserWarning: y_pred contains classes not in y_true\n",
      "  warnings.warn(\"y_pred contains classes not in y_true\")\n"
     ]
    },
    {
     "name": "stdout",
     "output_type": "stream",
     "text": [
      "{'val_loss': 1.6155306185191531, 'val_accuracy': 0.6863905325443787, 'precision': 0.7029115440536525, 'recall': 0.6863905325443787, 'f1-score': 0.6723508461908585, 'macro_f1-score': 0.39513350341357095, 'balanced_accuracy': 0.3828857436380678, 'mcc': 0.5834740115115584}\n",
      "Epoch 13/20\n"
     ]
    },
    {
     "name": "stderr",
     "output_type": "stream",
     "text": [
      "100%|██████████| 476/476 [03:24<00:00,  2.33it/s]\n"
     ]
    },
    {
     "name": "stdout",
     "output_type": "stream",
     "text": [
      "{'val_loss': 1.6023693911309511, 'val_accuracy': 0.6863905325443787, 'precision': 0.6869429410273413, 'recall': 0.6863905325443787, 'f1-score': 0.666012413276372, 'macro_f1-score': 0.40848047154679895, 'balanced_accuracy': 0.3825398055761156, 'mcc': 0.579220229955089}\n",
      "Epoch 14/20\n"
     ]
    },
    {
     "name": "stderr",
     "output_type": "stream",
     "text": [
      "100%|██████████| 476/476 [03:24<00:00,  2.33it/s]\n"
     ]
    },
    {
     "name": "stdout",
     "output_type": "stream",
     "text": [
      "{'val_loss': 1.6917636147085227, 'val_accuracy': 0.6816568047337278, 'precision': 0.6822864771761024, 'recall': 0.6816568047337278, 'f1-score': 0.6435688968757701, 'macro_f1-score': 0.35316063675730824, 'balanced_accuracy': 0.34303449923420093, 'mcc': 0.5691155664496037}\n",
      "Early stopping triggered at epoch 14\n",
      "Fold 6\n"
     ]
    },
    {
     "name": "stderr",
     "output_type": "stream",
     "text": [
      "Some weights of BertForSequenceClassification were not initialized from the model checkpoint at bert-base-uncased and are newly initialized: ['classifier.bias', 'classifier.weight']\n",
      "You should probably TRAIN this model on a down-stream task to be able to use it for predictions and inference.\n"
     ]
    },
    {
     "name": "stdout",
     "output_type": "stream",
     "text": [
      "Epoch 1/20\n"
     ]
    },
    {
     "name": "stderr",
     "output_type": "stream",
     "text": [
      "100%|██████████| 476/476 [03:24<00:00,  2.32it/s]\n"
     ]
    },
    {
     "name": "stdout",
     "output_type": "stream",
     "text": [
      "{'val_loss': 1.6118257068238169, 'val_accuracy': 0.5775147928994083, 'precision': 0.4447396988777507, 'recall': 0.5775147928994083, 'f1-score': 0.4849778076900833, 'macro_f1-score': 0.11753739109547234, 'balanced_accuracy': 0.14367425733387768, 'mcc': 0.4046583328018939}\n",
      "Epoch 2/20\n"
     ]
    },
    {
     "name": "stderr",
     "output_type": "stream",
     "text": [
      "100%|██████████| 476/476 [03:23<00:00,  2.34it/s]\n"
     ]
    },
    {
     "name": "stdout",
     "output_type": "stream",
     "text": [
      "{'val_loss': 1.3683586154343947, 'val_accuracy': 0.6236686390532544, 'precision': 0.5323492095847195, 'recall': 0.6236686390532544, 'f1-score': 0.5652978603164222, 'macro_f1-score': 0.18905756526104903, 'balanced_accuracy': 0.19416220666827458, 'mcc': 0.49014215902813}\n",
      "Epoch 3/20\n"
     ]
    },
    {
     "name": "stderr",
     "output_type": "stream",
     "text": [
      "100%|██████████| 476/476 [03:23<00:00,  2.33it/s]\n"
     ]
    },
    {
     "name": "stdout",
     "output_type": "stream",
     "text": [
      "{'val_loss': 1.3760477900505066, 'val_accuracy': 0.6485207100591716, 'precision': 0.5810329184761303, 'recall': 0.6485207100591716, 'f1-score': 0.5982386682505261, 'macro_f1-score': 0.24825685898552008, 'balanced_accuracy': 0.25678675195661194, 'mcc': 0.5241609261812061}\n",
      "Epoch 4/20\n"
     ]
    },
    {
     "name": "stderr",
     "output_type": "stream",
     "text": [
      "100%|██████████| 476/476 [03:24<00:00,  2.33it/s]\n"
     ]
    },
    {
     "name": "stdout",
     "output_type": "stream",
     "text": [
      "{'val_loss': 1.3744662240991052, 'val_accuracy': 0.6579881656804734, 'precision': 0.6304449448926269, 'recall': 0.6579881656804734, 'f1-score': 0.6291725347923327, 'macro_f1-score': 0.3201562947011576, 'balanced_accuracy': 0.3393626047883439, 'mcc': 0.5523391758377114}\n",
      "Epoch 5/20\n"
     ]
    },
    {
     "name": "stderr",
     "output_type": "stream",
     "text": [
      "100%|██████████| 476/476 [03:23<00:00,  2.34it/s]\n",
      "D:\\Anaconda3\\envs\\cuda\\Lib\\site-packages\\sklearn\\metrics\\_classification.py:2458: UserWarning: y_pred contains classes not in y_true\n",
      "  warnings.warn(\"y_pred contains classes not in y_true\")\n"
     ]
    },
    {
     "name": "stdout",
     "output_type": "stream",
     "text": [
      "{'val_loss': 1.3702278699515, 'val_accuracy': 0.6603550295857988, 'precision': 0.6483054984697628, 'recall': 0.6603550295857988, 'f1-score': 0.6358681223619888, 'macro_f1-score': 0.31895084436547255, 'balanced_accuracy': 0.3549693688848546, 'mcc': 0.5544616526184427}\n",
      "Epoch 6/20\n"
     ]
    },
    {
     "name": "stderr",
     "output_type": "stream",
     "text": [
      "100%|██████████| 476/476 [03:23<00:00,  2.34it/s]\n",
      "D:\\Anaconda3\\envs\\cuda\\Lib\\site-packages\\sklearn\\metrics\\_classification.py:2458: UserWarning: y_pred contains classes not in y_true\n",
      "  warnings.warn(\"y_pred contains classes not in y_true\")\n"
     ]
    },
    {
     "name": "stdout",
     "output_type": "stream",
     "text": [
      "{'val_loss': 1.4354900953904637, 'val_accuracy': 0.6745562130177515, 'precision': 0.669933736903122, 'recall': 0.6745562130177515, 'f1-score': 0.6532457719445159, 'macro_f1-score': 0.355852170633864, 'balanced_accuracy': 0.3668497995957892, 'mcc': 0.5698767510871178}\n",
      "Epoch 7/20\n"
     ]
    },
    {
     "name": "stderr",
     "output_type": "stream",
     "text": [
      "100%|██████████| 476/476 [03:22<00:00,  2.35it/s]\n",
      "D:\\Anaconda3\\envs\\cuda\\Lib\\site-packages\\sklearn\\metrics\\_classification.py:2458: UserWarning: y_pred contains classes not in y_true\n",
      "  warnings.warn(\"y_pred contains classes not in y_true\")\n"
     ]
    },
    {
     "name": "stdout",
     "output_type": "stream",
     "text": [
      "{'val_loss': 1.4877578559911475, 'val_accuracy': 0.6686390532544378, 'precision': 0.6605678124837948, 'recall': 0.6686390532544378, 'f1-score': 0.6524062661019729, 'macro_f1-score': 0.3624633121531511, 'balanced_accuracy': 0.3805199600090906, 'mcc': 0.569426665632642}\n",
      "Epoch 8/20\n"
     ]
    },
    {
     "name": "stderr",
     "output_type": "stream",
     "text": [
      "100%|██████████| 476/476 [03:22<00:00,  2.35it/s]\n",
      "D:\\Anaconda3\\envs\\cuda\\Lib\\site-packages\\sklearn\\metrics\\_classification.py:2458: UserWarning: y_pred contains classes not in y_true\n",
      "  warnings.warn(\"y_pred contains classes not in y_true\")\n"
     ]
    },
    {
     "name": "stdout",
     "output_type": "stream",
     "text": [
      "{'val_loss': 1.5612087463432889, 'val_accuracy': 0.6627218934911243, 'precision': 0.6600558222346795, 'recall': 0.6627218934911243, 'f1-score': 0.646160853367186, 'macro_f1-score': 0.33706317201933317, 'balanced_accuracy': 0.35712558926074045, 'mcc': 0.5577720501256671}\n",
      "Epoch 9/20\n"
     ]
    },
    {
     "name": "stderr",
     "output_type": "stream",
     "text": [
      "100%|██████████| 476/476 [03:23<00:00,  2.34it/s]\n",
      "D:\\Anaconda3\\envs\\cuda\\Lib\\site-packages\\sklearn\\metrics\\_classification.py:2458: UserWarning: y_pred contains classes not in y_true\n",
      "  warnings.warn(\"y_pred contains classes not in y_true\")\n"
     ]
    },
    {
     "name": "stdout",
     "output_type": "stream",
     "text": [
      "{'val_loss': 1.5604743502050076, 'val_accuracy': 0.6544378698224852, 'precision': 0.6671772613666582, 'recall': 0.6544378698224852, 'f1-score': 0.6473813153631452, 'macro_f1-score': 0.3636453747543814, 'balanced_accuracy': 0.3970651060154198, 'mcc': 0.5575975189893633}\n",
      "Epoch 10/20\n"
     ]
    },
    {
     "name": "stderr",
     "output_type": "stream",
     "text": [
      "100%|██████████| 476/476 [03:22<00:00,  2.35it/s]\n",
      "D:\\Anaconda3\\envs\\cuda\\Lib\\site-packages\\sklearn\\metrics\\_classification.py:2458: UserWarning: y_pred contains classes not in y_true\n",
      "  warnings.warn(\"y_pred contains classes not in y_true\")\n"
     ]
    },
    {
     "name": "stdout",
     "output_type": "stream",
     "text": [
      "{'val_loss': 1.6189191223315473, 'val_accuracy': 0.6485207100591716, 'precision': 0.6766376947369515, 'recall': 0.6485207100591716, 'f1-score': 0.6460138287041524, 'macro_f1-score': 0.3754099252148752, 'balanced_accuracy': 0.4085539400801335, 'mcc': 0.5455454717877856}\n",
      "Epoch 11/20\n"
     ]
    },
    {
     "name": "stderr",
     "output_type": "stream",
     "text": [
      "100%|██████████| 476/476 [03:22<00:00,  2.35it/s]\n",
      "D:\\Anaconda3\\envs\\cuda\\Lib\\site-packages\\sklearn\\metrics\\_classification.py:2458: UserWarning: y_pred contains classes not in y_true\n",
      "  warnings.warn(\"y_pred contains classes not in y_true\")\n"
     ]
    },
    {
     "name": "stdout",
     "output_type": "stream",
     "text": [
      "{'val_loss': 1.643033285185976, 'val_accuracy': 0.6414201183431952, 'precision': 0.6816443575449491, 'recall': 0.6414201183431952, 'f1-score': 0.6422853395881284, 'macro_f1-score': 0.3571127341460233, 'balanced_accuracy': 0.3915609155723005, 'mcc': 0.541244061132427}\n",
      "Epoch 12/20\n"
     ]
    },
    {
     "name": "stderr",
     "output_type": "stream",
     "text": [
      "100%|██████████| 476/476 [03:22<00:00,  2.34it/s]\n",
      "D:\\Anaconda3\\envs\\cuda\\Lib\\site-packages\\sklearn\\metrics\\_classification.py:2458: UserWarning: y_pred contains classes not in y_true\n",
      "  warnings.warn(\"y_pred contains classes not in y_true\")\n"
     ]
    },
    {
     "name": "stdout",
     "output_type": "stream",
     "text": [
      "{'val_loss': 1.6735294469684925, 'val_accuracy': 0.6686390532544378, 'precision': 0.6827410721317171, 'recall': 0.6686390532544378, 'f1-score': 0.6622787535882055, 'macro_f1-score': 0.36624061271049163, 'balanced_accuracy': 0.4108652159976363, 'mcc': 0.5752937714474236}\n",
      "Epoch 13/20\n"
     ]
    },
    {
     "name": "stderr",
     "output_type": "stream",
     "text": [
      "100%|██████████| 476/476 [03:23<00:00,  2.34it/s]\n",
      "D:\\Anaconda3\\envs\\cuda\\Lib\\site-packages\\sklearn\\metrics\\_classification.py:2458: UserWarning: y_pred contains classes not in y_true\n",
      "  warnings.warn(\"y_pred contains classes not in y_true\")\n"
     ]
    },
    {
     "name": "stdout",
     "output_type": "stream",
     "text": [
      "{'val_loss': 1.657471535621949, 'val_accuracy': 0.6698224852071006, 'precision': 0.6610732592202428, 'recall': 0.6698224852071006, 'f1-score': 0.6466879809975413, 'macro_f1-score': 0.3560228112578441, 'balanced_accuracy': 0.37065024493873133, 'mcc': 0.5598675635303866}\n",
      "Early stopping triggered at epoch 13\n",
      "Fold 7\n"
     ]
    },
    {
     "name": "stderr",
     "output_type": "stream",
     "text": [
      "Some weights of BertForSequenceClassification were not initialized from the model checkpoint at bert-base-uncased and are newly initialized: ['classifier.bias', 'classifier.weight']\n",
      "You should probably TRAIN this model on a down-stream task to be able to use it for predictions and inference.\n"
     ]
    },
    {
     "name": "stdout",
     "output_type": "stream",
     "text": [
      "Epoch 1/20\n"
     ]
    },
    {
     "name": "stderr",
     "output_type": "stream",
     "text": [
      "100%|██████████| 476/476 [03:23<00:00,  2.34it/s]\n"
     ]
    },
    {
     "name": "stdout",
     "output_type": "stream",
     "text": [
      "{'val_loss': 1.4162110337671243, 'val_accuracy': 0.650887573964497, 'precision': 0.51784699387691, 'recall': 0.650887573964497, 'f1-score': 0.5556562525318478, 'macro_f1-score': 0.12374524876417656, 'balanced_accuracy': 0.1389087943839717, 'mcc': 0.487533729154115}\n",
      "Epoch 2/20\n"
     ]
    },
    {
     "name": "stderr",
     "output_type": "stream",
     "text": [
      "100%|██████████| 476/476 [03:23<00:00,  2.34it/s]\n",
      "D:\\Anaconda3\\envs\\cuda\\Lib\\site-packages\\sklearn\\metrics\\_classification.py:2458: UserWarning: y_pred contains classes not in y_true\n",
      "  warnings.warn(\"y_pred contains classes not in y_true\")\n"
     ]
    },
    {
     "name": "stdout",
     "output_type": "stream",
     "text": [
      "{'val_loss': 1.225736841840564, 'val_accuracy': 0.6781065088757396, 'precision': 0.601173686975745, 'recall': 0.6781065088757396, 'f1-score': 0.6237826587550716, 'macro_f1-score': 0.2559779194784557, 'balanced_accuracy': 0.26489060053035857, 'mcc': 0.538763756991777}\n",
      "Epoch 3/20\n"
     ]
    },
    {
     "name": "stderr",
     "output_type": "stream",
     "text": [
      "100%|██████████| 476/476 [03:23<00:00,  2.34it/s]\n"
     ]
    },
    {
     "name": "stdout",
     "output_type": "stream",
     "text": [
      "{'val_loss': 1.1943983289430726, 'val_accuracy': 0.6662721893491125, 'precision': 0.6707894791405254, 'recall': 0.6662721893491125, 'f1-score': 0.6550432907711219, 'macro_f1-score': 0.28644281088744367, 'balanced_accuracy': 0.32488146429197745, 'mcc': 0.5514801812607231}\n",
      "Epoch 4/20\n"
     ]
    },
    {
     "name": "stderr",
     "output_type": "stream",
     "text": [
      "100%|██████████| 476/476 [03:24<00:00,  2.33it/s]\n"
     ]
    },
    {
     "name": "stdout",
     "output_type": "stream",
     "text": [
      "{'val_loss': 1.2603939681682947, 'val_accuracy': 0.6568047337278107, 'precision': 0.6679909044577179, 'recall': 0.6568047337278107, 'f1-score': 0.6454182784843002, 'macro_f1-score': 0.3039437056099384, 'balanced_accuracy': 0.34966213323597556, 'mcc': 0.548142207552466}\n",
      "Epoch 5/20\n"
     ]
    },
    {
     "name": "stderr",
     "output_type": "stream",
     "text": [
      "100%|██████████| 476/476 [03:23<00:00,  2.34it/s]\n",
      "D:\\Anaconda3\\envs\\cuda\\Lib\\site-packages\\sklearn\\metrics\\_classification.py:2458: UserWarning: y_pred contains classes not in y_true\n",
      "  warnings.warn(\"y_pred contains classes not in y_true\")\n"
     ]
    },
    {
     "name": "stdout",
     "output_type": "stream",
     "text": [
      "{'val_loss': 1.2444829654018834, 'val_accuracy': 0.6828402366863905, 'precision': 0.6702388098444058, 'recall': 0.6828402366863905, 'f1-score': 0.6562775429878704, 'macro_f1-score': 0.30760175855556054, 'balanced_accuracy': 0.3193201117861109, 'mcc': 0.5542364018733078}\n",
      "Epoch 6/20\n"
     ]
    },
    {
     "name": "stderr",
     "output_type": "stream",
     "text": [
      "100%|██████████| 476/476 [03:23<00:00,  2.34it/s]\n",
      "D:\\Anaconda3\\envs\\cuda\\Lib\\site-packages\\sklearn\\metrics\\_classification.py:2458: UserWarning: y_pred contains classes not in y_true\n",
      "  warnings.warn(\"y_pred contains classes not in y_true\")\n"
     ]
    },
    {
     "name": "stdout",
     "output_type": "stream",
     "text": [
      "{'val_loss': 1.2518105135773712, 'val_accuracy': 0.7017751479289941, 'precision': 0.7105066159493028, 'recall': 0.7017751479289941, 'f1-score': 0.6901253148846144, 'macro_f1-score': 0.37565380438408624, 'balanced_accuracy': 0.3999627217835395, 'mcc': 0.5881087561096979}\n",
      "Epoch 7/20\n"
     ]
    },
    {
     "name": "stderr",
     "output_type": "stream",
     "text": [
      "100%|██████████| 476/476 [03:23<00:00,  2.34it/s]\n",
      "D:\\Anaconda3\\envs\\cuda\\Lib\\site-packages\\sklearn\\metrics\\_classification.py:2458: UserWarning: y_pred contains classes not in y_true\n",
      "  warnings.warn(\"y_pred contains classes not in y_true\")\n"
     ]
    },
    {
     "name": "stdout",
     "output_type": "stream",
     "text": [
      "{'val_loss': 1.2329999230942637, 'val_accuracy': 0.7076923076923077, 'precision': 0.7066107222849661, 'recall': 0.7076923076923077, 'f1-score': 0.6992280325186572, 'macro_f1-score': 0.37830467783388044, 'balanced_accuracy': 0.41018428354661146, 'mcc': 0.6007259821363621}\n",
      "Epoch 8/20\n"
     ]
    },
    {
     "name": "stderr",
     "output_type": "stream",
     "text": [
      "100%|██████████| 476/476 [03:23<00:00,  2.34it/s]\n",
      "D:\\Anaconda3\\envs\\cuda\\Lib\\site-packages\\sklearn\\metrics\\_classification.py:2458: UserWarning: y_pred contains classes not in y_true\n",
      "  warnings.warn(\"y_pred contains classes not in y_true\")\n"
     ]
    },
    {
     "name": "stdout",
     "output_type": "stream",
     "text": [
      "{'val_loss': 1.2828286526338109, 'val_accuracy': 0.7076923076923077, 'precision': 0.6913890431767719, 'recall': 0.7076923076923077, 'f1-score': 0.6846139477144828, 'macro_f1-score': 0.3669124873365534, 'balanced_accuracy': 0.3820107235739275, 'mcc': 0.5936611356676215}\n",
      "Epoch 9/20\n"
     ]
    },
    {
     "name": "stderr",
     "output_type": "stream",
     "text": [
      "100%|██████████| 476/476 [03:23<00:00,  2.34it/s]\n",
      "D:\\Anaconda3\\envs\\cuda\\Lib\\site-packages\\sklearn\\metrics\\_classification.py:2458: UserWarning: y_pred contains classes not in y_true\n",
      "  warnings.warn(\"y_pred contains classes not in y_true\")\n"
     ]
    },
    {
     "name": "stdout",
     "output_type": "stream",
     "text": [
      "{'val_loss': 1.3757683229896258, 'val_accuracy': 0.6899408284023668, 'precision': 0.7201890585992938, 'recall': 0.6899408284023668, 'f1-score': 0.6904233131813987, 'macro_f1-score': 0.39157758082997246, 'balanced_accuracy': 0.4222375261908011, 'mcc': 0.580383806889293}\n",
      "Epoch 10/20\n"
     ]
    },
    {
     "name": "stderr",
     "output_type": "stream",
     "text": [
      "100%|██████████| 476/476 [03:23<00:00,  2.34it/s]\n",
      "D:\\Anaconda3\\envs\\cuda\\Lib\\site-packages\\sklearn\\metrics\\_classification.py:2458: UserWarning: y_pred contains classes not in y_true\n",
      "  warnings.warn(\"y_pred contains classes not in y_true\")\n"
     ]
    },
    {
     "name": "stdout",
     "output_type": "stream",
     "text": [
      "{'val_loss': 1.3541076419488438, 'val_accuracy': 0.7076923076923077, 'precision': 0.7066677377450792, 'recall': 0.7076923076923077, 'f1-score': 0.691800555865816, 'macro_f1-score': 0.39298970317132215, 'balanced_accuracy': 0.4098322300005653, 'mcc': 0.5931297496513084}\n",
      "Epoch 11/20\n"
     ]
    },
    {
     "name": "stderr",
     "output_type": "stream",
     "text": [
      "100%|██████████| 476/476 [03:23<00:00,  2.34it/s]\n",
      "D:\\Anaconda3\\envs\\cuda\\Lib\\site-packages\\sklearn\\metrics\\_classification.py:2458: UserWarning: y_pred contains classes not in y_true\n",
      "  warnings.warn(\"y_pred contains classes not in y_true\")\n"
     ]
    },
    {
     "name": "stdout",
     "output_type": "stream",
     "text": [
      "{'val_loss': 1.424125593788219, 'val_accuracy': 0.7017751479289941, 'precision': 0.7168945955250797, 'recall': 0.7017751479289941, 'f1-score': 0.6793291956556355, 'macro_f1-score': 0.36507397621303467, 'balanced_accuracy': 0.38944988039355993, 'mcc': 0.5786659060785085}\n",
      "Epoch 12/20\n"
     ]
    },
    {
     "name": "stderr",
     "output_type": "stream",
     "text": [
      "100%|██████████| 476/476 [03:23<00:00,  2.34it/s]\n",
      "D:\\Anaconda3\\envs\\cuda\\Lib\\site-packages\\sklearn\\metrics\\_classification.py:2458: UserWarning: y_pred contains classes not in y_true\n",
      "  warnings.warn(\"y_pred contains classes not in y_true\")\n"
     ]
    },
    {
     "name": "stdout",
     "output_type": "stream",
     "text": [
      "{'val_loss': 1.4525905735087845, 'val_accuracy': 0.7017751479289941, 'precision': 0.7274676780224086, 'recall': 0.7017751479289941, 'f1-score': 0.6944865389550589, 'macro_f1-score': 0.40591781195702464, 'balanced_accuracy': 0.44425225191224366, 'mcc': 0.5932155353503289}\n",
      "Epoch 13/20\n"
     ]
    },
    {
     "name": "stderr",
     "output_type": "stream",
     "text": [
      "100%|██████████| 476/476 [03:23<00:00,  2.34it/s]\n",
      "D:\\Anaconda3\\envs\\cuda\\Lib\\site-packages\\sklearn\\metrics\\_classification.py:2458: UserWarning: y_pred contains classes not in y_true\n",
      "  warnings.warn(\"y_pred contains classes not in y_true\")\n"
     ]
    },
    {
     "name": "stdout",
     "output_type": "stream",
     "text": [
      "{'val_loss': 1.5014381043191225, 'val_accuracy': 0.6923076923076923, 'precision': 0.7167060201529131, 'recall': 0.6923076923076923, 'f1-score': 0.683301398590358, 'macro_f1-score': 0.43223375149259474, 'balanced_accuracy': 0.4910437273985459, 'mcc': 0.5829438321650234}\n",
      "Epoch 14/20\n"
     ]
    },
    {
     "name": "stderr",
     "output_type": "stream",
     "text": [
      "100%|██████████| 476/476 [03:23<00:00,  2.34it/s]\n",
      "D:\\Anaconda3\\envs\\cuda\\Lib\\site-packages\\sklearn\\metrics\\_classification.py:2458: UserWarning: y_pred contains classes not in y_true\n",
      "  warnings.warn(\"y_pred contains classes not in y_true\")\n"
     ]
    },
    {
     "name": "stdout",
     "output_type": "stream",
     "text": [
      "{'val_loss': 1.5057867838526673, 'val_accuracy': 0.693491124260355, 'precision': 0.7111305752415332, 'recall': 0.693491124260355, 'f1-score': 0.6860716928182403, 'macro_f1-score': 0.3916397769909847, 'balanced_accuracy': 0.4378731298985783, 'mcc': 0.5833906138468704}\n",
      "Epoch 15/20\n"
     ]
    },
    {
     "name": "stderr",
     "output_type": "stream",
     "text": [
      "100%|██████████| 476/476 [03:24<00:00,  2.33it/s]\n",
      "D:\\Anaconda3\\envs\\cuda\\Lib\\site-packages\\sklearn\\metrics\\_classification.py:2458: UserWarning: y_pred contains classes not in y_true\n",
      "  warnings.warn(\"y_pred contains classes not in y_true\")\n"
     ]
    },
    {
     "name": "stdout",
     "output_type": "stream",
     "text": [
      "{'val_loss': 1.5689431423286222, 'val_accuracy': 0.7065088757396449, 'precision': 0.7008303445488422, 'recall': 0.7065088757396449, 'f1-score': 0.6903086749916815, 'macro_f1-score': 0.40193819237716566, 'balanced_accuracy': 0.41850809877092743, 'mcc': 0.5885361166011553}\n",
      "Epoch 16/20\n"
     ]
    },
    {
     "name": "stderr",
     "output_type": "stream",
     "text": [
      "100%|██████████| 476/476 [03:23<00:00,  2.33it/s]\n",
      "D:\\Anaconda3\\envs\\cuda\\Lib\\site-packages\\sklearn\\metrics\\_classification.py:2458: UserWarning: y_pred contains classes not in y_true\n",
      "  warnings.warn(\"y_pred contains classes not in y_true\")\n"
     ]
    },
    {
     "name": "stdout",
     "output_type": "stream",
     "text": [
      "{'val_loss': 1.6124807579337426, 'val_accuracy': 0.6627218934911243, 'precision': 0.7078441407262245, 'recall': 0.6627218934911243, 'f1-score': 0.6708430636817119, 'macro_f1-score': 0.3574196058633036, 'balanced_accuracy': 0.4038272278795849, 'mcc': 0.5517394627446373}\n",
      "Early stopping triggered at epoch 16\n",
      "Fold 8\n"
     ]
    },
    {
     "name": "stderr",
     "output_type": "stream",
     "text": [
      "Some weights of BertForSequenceClassification were not initialized from the model checkpoint at bert-base-uncased and are newly initialized: ['classifier.bias', 'classifier.weight']\n",
      "You should probably TRAIN this model on a down-stream task to be able to use it for predictions and inference.\n"
     ]
    },
    {
     "name": "stdout",
     "output_type": "stream",
     "text": [
      "Epoch 1/20\n"
     ]
    },
    {
     "name": "stderr",
     "output_type": "stream",
     "text": [
      "100%|██████████| 476/476 [03:23<00:00,  2.34it/s]\n"
     ]
    },
    {
     "name": "stdout",
     "output_type": "stream",
     "text": [
      "{'val_loss': 1.6205731157986623, 'val_accuracy': 0.6082840236686391, 'precision': 0.4594102290580176, 'recall': 0.6082840236686391, 'f1-score': 0.5102526631045021, 'macro_f1-score': 0.11600148585503574, 'balanced_accuracy': 0.13261436094592952, 'mcc': 0.4447976585928524}\n",
      "Epoch 2/20\n"
     ]
    },
    {
     "name": "stderr",
     "output_type": "stream",
     "text": [
      "100%|██████████| 476/476 [03:23<00:00,  2.34it/s]\n"
     ]
    },
    {
     "name": "stdout",
     "output_type": "stream",
     "text": [
      "{'val_loss': 1.3787892134684436, 'val_accuracy': 0.642603550295858, 'precision': 0.6003674305432298, 'recall': 0.642603550295858, 'f1-score': 0.599220131745603, 'macro_f1-score': 0.19878270052784436, 'balanced_accuracy': 0.2069010141465326, 'mcc': 0.5200567844638389}\n",
      "Epoch 3/20\n"
     ]
    },
    {
     "name": "stderr",
     "output_type": "stream",
     "text": [
      "100%|██████████| 476/476 [03:23<00:00,  2.34it/s]\n"
     ]
    },
    {
     "name": "stdout",
     "output_type": "stream",
     "text": [
      "{'val_loss': 1.2990959106751208, 'val_accuracy': 0.6733727810650888, 'precision': 0.6269971753385268, 'recall': 0.6733727810650888, 'f1-score': 0.6334782274804902, 'macro_f1-score': 0.26188413228472746, 'balanced_accuracy': 0.25627497851909825, 'mcc': 0.5563172879999229}\n",
      "Epoch 4/20\n"
     ]
    },
    {
     "name": "stderr",
     "output_type": "stream",
     "text": [
      "100%|██████████| 476/476 [03:23<00:00,  2.34it/s]\n"
     ]
    },
    {
     "name": "stdout",
     "output_type": "stream",
     "text": [
      "{'val_loss': 1.3594499854546673, 'val_accuracy': 0.672189349112426, 'precision': 0.6467645611366653, 'recall': 0.672189349112426, 'f1-score': 0.6465581668764632, 'macro_f1-score': 0.3102639730616052, 'balanced_accuracy': 0.3263238567373492, 'mcc': 0.5640213562158296}\n",
      "Epoch 5/20\n"
     ]
    },
    {
     "name": "stderr",
     "output_type": "stream",
     "text": [
      "100%|██████████| 476/476 [03:23<00:00,  2.34it/s]\n",
      "D:\\Anaconda3\\envs\\cuda\\Lib\\site-packages\\sklearn\\metrics\\_classification.py:2458: UserWarning: y_pred contains classes not in y_true\n",
      "  warnings.warn(\"y_pred contains classes not in y_true\")\n"
     ]
    },
    {
     "name": "stdout",
     "output_type": "stream",
     "text": [
      "{'val_loss': 1.3741394360110444, 'val_accuracy': 0.676923076923077, 'precision': 0.6743049361010236, 'recall': 0.676923076923077, 'f1-score': 0.6655270094564479, 'macro_f1-score': 0.3605380586576326, 'balanced_accuracy': 0.3808269145712899, 'mcc': 0.5777172752964976}\n",
      "Epoch 6/20\n"
     ]
    },
    {
     "name": "stderr",
     "output_type": "stream",
     "text": [
      "100%|██████████| 476/476 [03:23<00:00,  2.33it/s]\n",
      "D:\\Anaconda3\\envs\\cuda\\Lib\\site-packages\\sklearn\\metrics\\_classification.py:2458: UserWarning: y_pred contains classes not in y_true\n",
      "  warnings.warn(\"y_pred contains classes not in y_true\")\n"
     ]
    },
    {
     "name": "stdout",
     "output_type": "stream",
     "text": [
      "{'val_loss': 1.4600385118205592, 'val_accuracy': 0.6781065088757396, 'precision': 0.6606688016002557, 'recall': 0.6781065088757396, 'f1-score': 0.6542129156669236, 'macro_f1-score': 0.3339298918169404, 'balanced_accuracy': 0.35730819887128534, 'mcc': 0.5706333408651248}\n",
      "Epoch 7/20\n"
     ]
    },
    {
     "name": "stderr",
     "output_type": "stream",
     "text": [
      "100%|██████████| 476/476 [03:23<00:00,  2.34it/s]\n",
      "D:\\Anaconda3\\envs\\cuda\\Lib\\site-packages\\sklearn\\metrics\\_classification.py:2458: UserWarning: y_pred contains classes not in y_true\n",
      "  warnings.warn(\"y_pred contains classes not in y_true\")\n"
     ]
    },
    {
     "name": "stdout",
     "output_type": "stream",
     "text": [
      "{'val_loss': 1.515775982501372, 'val_accuracy': 0.6733727810650888, 'precision': 0.669063058125054, 'recall': 0.6733727810650888, 'f1-score': 0.6606165521282362, 'macro_f1-score': 0.3736313877757385, 'balanced_accuracy': 0.4088401790553072, 'mcc': 0.5721288154364841}\n",
      "Epoch 8/20\n"
     ]
    },
    {
     "name": "stderr",
     "output_type": "stream",
     "text": [
      "100%|██████████| 476/476 [03:23<00:00,  2.34it/s]\n"
     ]
    },
    {
     "name": "stdout",
     "output_type": "stream",
     "text": [
      "{'val_loss': 1.473660335788187, 'val_accuracy': 0.6946745562130178, 'precision': 0.6946048537535715, 'recall': 0.6946745562130178, 'f1-score': 0.6859215084506388, 'macro_f1-score': 0.4339234615267019, 'balanced_accuracy': 0.46018200406237075, 'mcc': 0.5997692125743562}\n",
      "Epoch 9/20\n"
     ]
    },
    {
     "name": "stderr",
     "output_type": "stream",
     "text": [
      "100%|██████████| 476/476 [03:23<00:00,  2.34it/s]\n",
      "D:\\Anaconda3\\envs\\cuda\\Lib\\site-packages\\sklearn\\metrics\\_classification.py:2458: UserWarning: y_pred contains classes not in y_true\n",
      "  warnings.warn(\"y_pred contains classes not in y_true\")\n"
     ]
    },
    {
     "name": "stdout",
     "output_type": "stream",
     "text": [
      "{'val_loss': 1.640484001838936, 'val_accuracy': 0.6579881656804734, 'precision': 0.6726161274471751, 'recall': 0.6579881656804734, 'f1-score': 0.6568038314598931, 'macro_f1-score': 0.35518700292066585, 'balanced_accuracy': 0.4137513737067256, 'mcc': 0.5584996916611605}\n",
      "Epoch 10/20\n"
     ]
    },
    {
     "name": "stderr",
     "output_type": "stream",
     "text": [
      "100%|██████████| 476/476 [03:24<00:00,  2.33it/s]\n",
      "D:\\Anaconda3\\envs\\cuda\\Lib\\site-packages\\sklearn\\metrics\\_classification.py:2458: UserWarning: y_pred contains classes not in y_true\n",
      "  warnings.warn(\"y_pred contains classes not in y_true\")\n"
     ]
    },
    {
     "name": "stdout",
     "output_type": "stream",
     "text": [
      "{'val_loss': 1.6298181386488788, 'val_accuracy': 0.6792899408284023, 'precision': 0.6841706008017475, 'recall': 0.6792899408284023, 'f1-score': 0.6651231275750781, 'macro_f1-score': 0.37534595991585706, 'balanced_accuracy': 0.42677509324897756, 'mcc': 0.5744670006776637}\n",
      "Epoch 11/20\n"
     ]
    },
    {
     "name": "stderr",
     "output_type": "stream",
     "text": [
      "100%|██████████| 476/476 [03:23<00:00,  2.33it/s]\n",
      "D:\\Anaconda3\\envs\\cuda\\Lib\\site-packages\\sklearn\\metrics\\_classification.py:2458: UserWarning: y_pred contains classes not in y_true\n",
      "  warnings.warn(\"y_pred contains classes not in y_true\")\n"
     ]
    },
    {
     "name": "stdout",
     "output_type": "stream",
     "text": [
      "{'val_loss': 1.731918788743469, 'val_accuracy': 0.6662721893491125, 'precision': 0.6668379917400237, 'recall': 0.6662721893491125, 'f1-score': 0.6541077905547228, 'macro_f1-score': 0.36931613119724965, 'balanced_accuracy': 0.39833859533370386, 'mcc': 0.5582944647009149}\n",
      "Early stopping triggered at epoch 11\n",
      "Fold 9\n"
     ]
    },
    {
     "name": "stderr",
     "output_type": "stream",
     "text": [
      "Some weights of BertForSequenceClassification were not initialized from the model checkpoint at bert-base-uncased and are newly initialized: ['classifier.bias', 'classifier.weight']\n",
      "You should probably TRAIN this model on a down-stream task to be able to use it for predictions and inference.\n"
     ]
    },
    {
     "name": "stdout",
     "output_type": "stream",
     "text": [
      "Epoch 1/20\n"
     ]
    },
    {
     "name": "stderr",
     "output_type": "stream",
     "text": [
      "100%|██████████| 476/476 [03:23<00:00,  2.34it/s]\n"
     ]
    },
    {
     "name": "stdout",
     "output_type": "stream",
     "text": [
      "{'val_loss': 1.7131683376600157, 'val_accuracy': 0.5928994082840237, 'precision': 0.40316711271998357, 'recall': 0.5928994082840237, 'f1-score': 0.47557160580195273, 'macro_f1-score': 0.10859499837491823, 'balanced_accuracy': 0.12455641085260519, 'mcc': 0.40505799704798967}\n",
      "Epoch 2/20\n"
     ]
    },
    {
     "name": "stderr",
     "output_type": "stream",
     "text": [
      "100%|██████████| 476/476 [03:22<00:00,  2.35it/s]\n"
     ]
    },
    {
     "name": "stdout",
     "output_type": "stream",
     "text": [
      "{'val_loss': 1.4866654839155808, 'val_accuracy': 0.6082840236686391, 'precision': 0.5254844051376534, 'recall': 0.6082840236686391, 'f1-score': 0.5476296280284503, 'macro_f1-score': 0.17271397373324507, 'balanced_accuracy': 0.20591485983429123, 'mcc': 0.4725296571006489}\n",
      "Epoch 3/20\n"
     ]
    },
    {
     "name": "stderr",
     "output_type": "stream",
     "text": [
      "100%|██████████| 476/476 [03:23<00:00,  2.34it/s]\n"
     ]
    },
    {
     "name": "stdout",
     "output_type": "stream",
     "text": [
      "{'val_loss': 1.2604684874696552, 'val_accuracy': 0.6686390532544378, 'precision': 0.6376596841898802, 'recall': 0.6686390532544378, 'f1-score': 0.6318371714171943, 'macro_f1-score': 0.28400712836187186, 'balanced_accuracy': 0.3024375421749975, 'mcc': 0.5558356509241767}\n",
      "Epoch 4/20\n"
     ]
    },
    {
     "name": "stderr",
     "output_type": "stream",
     "text": [
      "100%|██████████| 476/476 [03:23<00:00,  2.34it/s]\n"
     ]
    },
    {
     "name": "stdout",
     "output_type": "stream",
     "text": [
      "{'val_loss': 1.3244192752073396, 'val_accuracy': 0.6650887573964497, 'precision': 0.6176879929697163, 'recall': 0.6650887573964497, 'f1-score': 0.6197840614925857, 'macro_f1-score': 0.2874740173611628, 'balanced_accuracy': 0.2880950851548698, 'mcc': 0.5401580189439503}\n",
      "Epoch 5/20\n"
     ]
    },
    {
     "name": "stderr",
     "output_type": "stream",
     "text": [
      "100%|██████████| 476/476 [03:23<00:00,  2.34it/s]\n"
     ]
    },
    {
     "name": "stdout",
     "output_type": "stream",
     "text": [
      "{'val_loss': 1.3192572593688965, 'val_accuracy': 0.672189349112426, 'precision': 0.6603429307455896, 'recall': 0.672189349112426, 'f1-score': 0.650580387631018, 'macro_f1-score': 0.3875720694476597, 'balanced_accuracy': 0.38423246265578725, 'mcc': 0.5641519101175051}\n",
      "Epoch 6/20\n"
     ]
    },
    {
     "name": "stderr",
     "output_type": "stream",
     "text": [
      "100%|██████████| 476/476 [03:23<00:00,  2.34it/s]\n"
     ]
    },
    {
     "name": "stdout",
     "output_type": "stream",
     "text": [
      "{'val_loss': 1.3423793788226146, 'val_accuracy': 0.6781065088757396, 'precision': 0.6752886853375428, 'recall': 0.6781065088757396, 'f1-score': 0.663799420209785, 'macro_f1-score': 0.4097058740987356, 'balanced_accuracy': 0.41429773228622385, 'mcc': 0.5720591658770463}\n",
      "Epoch 7/20\n"
     ]
    },
    {
     "name": "stderr",
     "output_type": "stream",
     "text": [
      "100%|██████████| 476/476 [03:24<00:00,  2.33it/s]\n"
     ]
    },
    {
     "name": "stdout",
     "output_type": "stream",
     "text": [
      "{'val_loss': 1.4529287789790135, 'val_accuracy': 0.6674556213017752, 'precision': 0.6674338011602079, 'recall': 0.6674556213017752, 'f1-score': 0.643628203282427, 'macro_f1-score': 0.397132172179264, 'balanced_accuracy': 0.42983098908629935, 'mcc': 0.5603394110057168}\n",
      "Epoch 8/20\n"
     ]
    },
    {
     "name": "stderr",
     "output_type": "stream",
     "text": [
      "100%|██████████| 476/476 [03:23<00:00,  2.34it/s]\n",
      "D:\\Anaconda3\\envs\\cuda\\Lib\\site-packages\\sklearn\\metrics\\_classification.py:2458: UserWarning: y_pred contains classes not in y_true\n",
      "  warnings.warn(\"y_pred contains classes not in y_true\")\n"
     ]
    },
    {
     "name": "stdout",
     "output_type": "stream",
     "text": [
      "{'val_loss': 1.387868415072279, 'val_accuracy': 0.6923076923076923, 'precision': 0.6926483389303808, 'recall': 0.6923076923076923, 'f1-score': 0.6733110362964853, 'macro_f1-score': 0.4006643268669358, 'balanced_accuracy': 0.40577352621249935, 'mcc': 0.588565233163886}\n",
      "Epoch 9/20\n"
     ]
    },
    {
     "name": "stderr",
     "output_type": "stream",
     "text": [
      "100%|██████████| 476/476 [03:22<00:00,  2.35it/s]\n"
     ]
    },
    {
     "name": "stdout",
     "output_type": "stream",
     "text": [
      "{'val_loss': 1.4306768521947681, 'val_accuracy': 0.693491124260355, 'precision': 0.6878602453320807, 'recall': 0.693491124260355, 'f1-score': 0.6768652590854176, 'macro_f1-score': 0.4366978422595346, 'balanced_accuracy': 0.43556562506177576, 'mcc': 0.5913554328435392}\n",
      "Epoch 10/20\n"
     ]
    },
    {
     "name": "stderr",
     "output_type": "stream",
     "text": [
      "100%|██████████| 476/476 [03:23<00:00,  2.34it/s]\n",
      "D:\\Anaconda3\\envs\\cuda\\Lib\\site-packages\\sklearn\\metrics\\_classification.py:2458: UserWarning: y_pred contains classes not in y_true\n",
      "  warnings.warn(\"y_pred contains classes not in y_true\")\n"
     ]
    },
    {
     "name": "stdout",
     "output_type": "stream",
     "text": [
      "{'val_loss': 1.4583571055587732, 'val_accuracy': 0.6804733727810651, 'precision': 0.6888424071280523, 'recall': 0.6804733727810651, 'f1-score': 0.6681813611127579, 'macro_f1-score': 0.4304295635093121, 'balanced_accuracy': 0.454865494272675, 'mcc': 0.5774114761526343}\n",
      "Epoch 11/20\n"
     ]
    },
    {
     "name": "stderr",
     "output_type": "stream",
     "text": [
      "100%|██████████| 476/476 [03:23<00:00,  2.34it/s]\n"
     ]
    },
    {
     "name": "stdout",
     "output_type": "stream",
     "text": [
      "{'val_loss': 1.562848506249347, 'val_accuracy': 0.7065088757396449, 'precision': 0.7002429938546748, 'recall': 0.7065088757396449, 'f1-score': 0.6816036666614724, 'macro_f1-score': 0.4619393296632855, 'balanced_accuracy': 0.4532277684884943, 'mcc': 0.6034715207964618}\n",
      "Epoch 12/20\n"
     ]
    },
    {
     "name": "stderr",
     "output_type": "stream",
     "text": [
      "100%|██████████| 476/476 [03:23<00:00,  2.33it/s]\n",
      "D:\\Anaconda3\\envs\\cuda\\Lib\\site-packages\\sklearn\\metrics\\_classification.py:2458: UserWarning: y_pred contains classes not in y_true\n",
      "  warnings.warn(\"y_pred contains classes not in y_true\")\n"
     ]
    },
    {
     "name": "stdout",
     "output_type": "stream",
     "text": [
      "{'val_loss': 1.5835921434017848, 'val_accuracy': 0.6875739644970414, 'precision': 0.683850119411088, 'recall': 0.6875739644970414, 'f1-score': 0.6679193204991287, 'macro_f1-score': 0.45330327292903105, 'balanced_accuracy': 0.43969849495121216, 'mcc': 0.5826478827416853}\n",
      "Epoch 13/20\n"
     ]
    },
    {
     "name": "stderr",
     "output_type": "stream",
     "text": [
      "100%|██████████| 476/476 [03:23<00:00,  2.34it/s]\n",
      "D:\\Anaconda3\\envs\\cuda\\Lib\\site-packages\\sklearn\\metrics\\_classification.py:2458: UserWarning: y_pred contains classes not in y_true\n",
      "  warnings.warn(\"y_pred contains classes not in y_true\")\n"
     ]
    },
    {
     "name": "stdout",
     "output_type": "stream",
     "text": [
      "{'val_loss': 1.7278084688872661, 'val_accuracy': 0.6816568047337278, 'precision': 0.6739390461469853, 'recall': 0.6816568047337278, 'f1-score': 0.6618381632197282, 'macro_f1-score': 0.43458466313917293, 'balanced_accuracy': 0.44454041969561425, 'mcc': 0.5749442061106897}\n",
      "Epoch 14/20\n"
     ]
    },
    {
     "name": "stderr",
     "output_type": "stream",
     "text": [
      "100%|██████████| 476/476 [03:23<00:00,  2.34it/s]\n",
      "D:\\Anaconda3\\envs\\cuda\\Lib\\site-packages\\sklearn\\metrics\\_classification.py:2458: UserWarning: y_pred contains classes not in y_true\n",
      "  warnings.warn(\"y_pred contains classes not in y_true\")\n"
     ]
    },
    {
     "name": "stdout",
     "output_type": "stream",
     "text": [
      "{'val_loss': 1.6662221584679946, 'val_accuracy': 0.6710059171597633, 'precision': 0.6860547509455674, 'recall': 0.6710059171597633, 'f1-score': 0.6627021487852333, 'macro_f1-score': 0.4410995929940531, 'balanced_accuracy': 0.47740199889031365, 'mcc': 0.5730419460182518}\n",
      "Early stopping triggered at epoch 14\n",
      "Fold 10\n"
     ]
    },
    {
     "name": "stderr",
     "output_type": "stream",
     "text": [
      "Some weights of BertForSequenceClassification were not initialized from the model checkpoint at bert-base-uncased and are newly initialized: ['classifier.bias', 'classifier.weight']\n",
      "You should probably TRAIN this model on a down-stream task to be able to use it for predictions and inference.\n"
     ]
    },
    {
     "name": "stdout",
     "output_type": "stream",
     "text": [
      "Epoch 1/20\n"
     ]
    },
    {
     "name": "stderr",
     "output_type": "stream",
     "text": [
      "100%|██████████| 476/476 [03:23<00:00,  2.34it/s]\n"
     ]
    },
    {
     "name": "stdout",
     "output_type": "stream",
     "text": [
      "{'val_loss': 1.749681462656777, 'val_accuracy': 0.5396449704142012, 'precision': 0.3578106970440585, 'recall': 0.5396449704142012, 'f1-score': 0.4200345369477629, 'macro_f1-score': 0.06278284943230607, 'balanced_accuracy': 0.08750437871120409, 'mcc': 0.3717444596150961}\n",
      "Epoch 2/20\n"
     ]
    },
    {
     "name": "stderr",
     "output_type": "stream",
     "text": [
      "100%|██████████| 476/476 [03:23<00:00,  2.34it/s]\n"
     ]
    },
    {
     "name": "stdout",
     "output_type": "stream",
     "text": [
      "{'val_loss': 1.4409236503097247, 'val_accuracy': 0.6295857988165681, 'precision': 0.5482907635817909, 'recall': 0.6295857988165681, 'f1-score': 0.5696403935247019, 'macro_f1-score': 0.20644912389642636, 'balanced_accuracy': 0.21251035649594205, 'mcc': 0.5119330059738941}\n",
      "Epoch 3/20\n"
     ]
    },
    {
     "name": "stderr",
     "output_type": "stream",
     "text": [
      "100%|██████████| 476/476 [03:23<00:00,  2.33it/s]\n"
     ]
    },
    {
     "name": "stdout",
     "output_type": "stream",
     "text": [
      "{'val_loss': 1.3662451055814635, 'val_accuracy': 0.6473372781065089, 'precision': 0.6004274484652138, 'recall': 0.6473372781065089, 'f1-score': 0.5983144945562202, 'macro_f1-score': 0.2988690208751872, 'balanced_accuracy': 0.2967171485536672, 'mcc': 0.5408574509468962}\n",
      "Epoch 4/20\n"
     ]
    },
    {
     "name": "stderr",
     "output_type": "stream",
     "text": [
      "100%|██████████| 476/476 [03:23<00:00,  2.34it/s]\n"
     ]
    },
    {
     "name": "stdout",
     "output_type": "stream",
     "text": [
      "{'val_loss': 1.381592924302479, 'val_accuracy': 0.6449704142011834, 'precision': 0.6147979850138494, 'recall': 0.6449704142011834, 'f1-score': 0.6104051404479595, 'macro_f1-score': 0.31239510846792856, 'balanced_accuracy': 0.33095967343438354, 'mcc': 0.5434242272989208}\n",
      "Epoch 5/20\n"
     ]
    },
    {
     "name": "stderr",
     "output_type": "stream",
     "text": [
      "100%|██████████| 476/476 [03:23<00:00,  2.33it/s]\n"
     ]
    },
    {
     "name": "stdout",
     "output_type": "stream",
     "text": [
      "{'val_loss': 1.3414493259393945, 'val_accuracy': 0.663905325443787, 'precision': 0.6504577794257389, 'recall': 0.663905325443787, 'f1-score': 0.637494999082536, 'macro_f1-score': 0.3818164271278373, 'balanced_accuracy': 0.4011714914184229, 'mcc': 0.5734198409878302}\n",
      "Epoch 6/20\n"
     ]
    },
    {
     "name": "stderr",
     "output_type": "stream",
     "text": [
      "100%|██████████| 476/476 [03:23<00:00,  2.34it/s]\n"
     ]
    },
    {
     "name": "stdout",
     "output_type": "stream",
     "text": [
      "{'val_loss': 1.3698156650336284, 'val_accuracy': 0.6662721893491125, 'precision': 0.6806289856180731, 'recall': 0.6662721893491125, 'f1-score': 0.6554787482875749, 'macro_f1-score': 0.40243966807624765, 'balanced_accuracy': 0.42178390695705803, 'mcc': 0.5842076466344128}\n",
      "Epoch 7/20\n"
     ]
    },
    {
     "name": "stderr",
     "output_type": "stream",
     "text": [
      "100%|██████████| 476/476 [03:24<00:00,  2.33it/s]\n"
     ]
    },
    {
     "name": "stdout",
     "output_type": "stream",
     "text": [
      "{'val_loss': 1.5381599203595575, 'val_accuracy': 0.663905325443787, 'precision': 0.6681059519741263, 'recall': 0.663905325443787, 'f1-score': 0.6475017466733827, 'macro_f1-score': 0.40223872904774144, 'balanced_accuracy': 0.425304238297305, 'mcc': 0.5800452911780626}\n",
      "Epoch 8/20\n"
     ]
    },
    {
     "name": "stderr",
     "output_type": "stream",
     "text": [
      "100%|██████████| 476/476 [03:23<00:00,  2.34it/s]\n"
     ]
    },
    {
     "name": "stdout",
     "output_type": "stream",
     "text": [
      "{'val_loss': 1.4555280973326485, 'val_accuracy': 0.6556213017751479, 'precision': 0.6585643969202742, 'recall': 0.6556213017751479, 'f1-score': 0.6465141814961506, 'macro_f1-score': 0.4267495950184006, 'balanced_accuracy': 0.43946882393533787, 'mcc': 0.5644392166566317}\n",
      "Epoch 9/20\n"
     ]
    },
    {
     "name": "stderr",
     "output_type": "stream",
     "text": [
      "100%|██████████| 476/476 [03:23<00:00,  2.34it/s]\n",
      "D:\\Anaconda3\\envs\\cuda\\Lib\\site-packages\\sklearn\\metrics\\_classification.py:2458: UserWarning: y_pred contains classes not in y_true\n",
      "  warnings.warn(\"y_pred contains classes not in y_true\")\n"
     ]
    },
    {
     "name": "stdout",
     "output_type": "stream",
     "text": [
      "{'val_loss': 1.6075202946392995, 'val_accuracy': 0.6650887573964497, 'precision': 0.6656500486844563, 'recall': 0.6650887573964497, 'f1-score': 0.6485474503286045, 'macro_f1-score': 0.3873330561815676, 'balanced_accuracy': 0.42404453283364035, 'mcc': 0.5761471778412945}\n",
      "Epoch 10/20\n"
     ]
    },
    {
     "name": "stderr",
     "output_type": "stream",
     "text": [
      "100%|██████████| 476/476 [03:24<00:00,  2.33it/s]\n"
     ]
    },
    {
     "name": "stdout",
     "output_type": "stream",
     "text": [
      "{'val_loss': 1.5944421195758964, 'val_accuracy': 0.676923076923077, 'precision': 0.6720263347706127, 'recall': 0.676923076923077, 'f1-score': 0.6464868412864266, 'macro_f1-score': 0.40309412319692706, 'balanced_accuracy': 0.405733938984587, 'mcc': 0.5833155377375107}\n",
      "Epoch 11/20\n"
     ]
    },
    {
     "name": "stderr",
     "output_type": "stream",
     "text": [
      "100%|██████████| 476/476 [03:24<00:00,  2.33it/s]\n"
     ]
    },
    {
     "name": "stdout",
     "output_type": "stream",
     "text": [
      "{'val_loss': 1.6461719685005691, 'val_accuracy': 0.659171597633136, 'precision': 0.63974909078089, 'recall': 0.659171597633136, 'f1-score': 0.6349922847771733, 'macro_f1-score': 0.37477779848264875, 'balanced_accuracy': 0.37922726254189126, 'mcc': 0.5605458031031462}\n",
      "Early stopping triggered at epoch 11\n",
      "Final 10-fold Cross-Validation Results:\n",
      "val_loss: 1.4469598482542034\n",
      "val_accuracy: 0.6681174716292639\n",
      "precision: 0.6473796255430955\n",
      "recall: 0.6681174716292639\n",
      "f1-score: 0.6399976815032609\n",
      "macro_f1-score: 0.3243811051924066\n",
      "balanced_accuracy: 0.3387843187724616\n",
      "mcc: 0.5544675095562844\n"
     ]
    },
    {
     "name": "stderr",
     "output_type": "stream",
     "text": [
      "D:\\Anaconda3\\envs\\cuda\\Lib\\site-packages\\sklearn\\metrics\\_classification.py:2458: UserWarning: y_pred contains classes not in y_true\n",
      "  warnings.warn(\"y_pred contains classes not in y_true\")\n"
     ]
    }
   ],
   "source": [
    "from transformers import BertForSequenceClassification\n",
    "from torch.utils.data import DataLoader\n",
    "import torch\n",
    "from torch.nn import CrossEntropyLoss\n",
    "from torch.optim import AdamW\n",
    "from tqdm import tqdm\n",
    "import numpy as np\n",
    "\n",
    "all_fold_results = []\n",
    "\n",
    "# 進行 10 折交叉驗證\n",
    "for fold, (train_idx, val_idx) in enumerate(kf.split(messages)):\n",
    "    print(f\"Fold {fold + 1}\")\n",
    "    \n",
    "    train_messages = [messages[i] for i in train_idx]\n",
    "    train_labels = [labels[i] for i in train_idx]\n",
    "    val_messages = [messages[i] for i in val_idx]\n",
    "    val_labels = [labels[i] for i in val_idx]\n",
    "\n",
    "    train_dataset = CustomDataset(train_messages, train_labels, tokenizer, MAX_LENGTH)\n",
    "    val_dataset = CustomDataset(val_messages, val_labels, tokenizer, MAX_LENGTH)\n",
    "    train_dataloader = DataLoader(train_dataset, batch_size=BATCH_SIZE, shuffle=True)\n",
    "    val_dataloader = DataLoader(val_dataset, batch_size=BATCH_SIZE)\n",
    "\n",
    "    NUM_LABELS = len(set(train_labels) | set(val_labels))\n",
    "    model = BertForSequenceClassification.from_pretrained('bert-base-uncased', num_labels=NUM_LABELS)\n",
    "    model.to(device)\n",
    "    optimizer = AdamW(model.parameters(), lr=5e-5, weight_decay=1e-2)\n",
    "    criterion = CrossEntropyLoss()\n",
    "\n",
    "    epoch_results = []\n",
    "    patience = 3\n",
    "    best_macro_f1 = 0\n",
    "    epochs_without_improvement = 0\n",
    "    \n",
    "    for epoch in range(EPOCHS):\n",
    "        print(f\"Epoch {epoch + 1}/{EPOCHS}\")\n",
    "        train_loss = train_epoch(model, train_dataloader, optimizer, criterion)\n",
    "        metrics = eval_model(model, val_dataloader, criterion, num_labels=NUM_LABELS)\n",
    "        epoch_results.append(metrics)\n",
    "        print(metrics)\n",
    "\n",
    "        current_macro_f1 = metrics[\"macro_f1-score\"]\n",
    "        \n",
    "        if current_macro_f1 > best_macro_f1:\n",
    "            best_macro_f1 = current_macro_f1  # 更新最佳 macro_f1-score\n",
    "            epochs_without_improvement = 0   # 重置計數\n",
    "        else:\n",
    "            epochs_without_improvement += 1  # 增加計數\n",
    "        \n",
    "        # 若連續 patience 3 次沒有提升，則停止訓練\n",
    "        if epochs_without_improvement >= patience:\n",
    "            print(f\"Early stopping triggered at epoch {epoch + 1}\")\n",
    "            break\n",
    "    \n",
    "    avg_metrics = {metric: np.mean([epoch[metric] for epoch in epoch_results]) for metric in epoch_results[0].keys()}\n",
    "    all_fold_results.append(avg_metrics)\n",
    "\n",
    "final_metrics = {metric: np.mean([result[metric] for result in all_fold_results]) for metric in all_fold_results[0].keys()}\n",
    "print(\"Final 10-fold Cross-Validation Results:\")\n",
    "for metric, value in final_metrics.items():\n",
    "    print(f\"{metric}: {value}\")"
   ]
  },
  {
   "cell_type": "code",
   "execution_count": 9,
   "id": "f8016681-94ee-4d35-81ac-9831d7172f0d",
   "metadata": {},
   "outputs": [
    {
     "data": {
      "text/plain": [
       "[{'val_loss': 1.4774756056366813,\n",
       "  'val_accuracy': 0.6568880292284548,\n",
       "  'precision': 0.6401314716642911,\n",
       "  'recall': 0.6568880292284548,\n",
       "  'f1-score': 0.6322768268287018,\n",
       "  'macro_f1-score': 0.33303717513584924,\n",
       "  'balanced_accuracy': 0.34832429625173766,\n",
       "  'mcc': 0.5484266492879084},\n",
       " {'val_loss': 1.4332616797186701,\n",
       "  'val_accuracy': 0.6721470019342359,\n",
       "  'precision': 0.6488852121264229,\n",
       "  'recall': 0.6721470019342359,\n",
       "  'f1-score': 0.6414772608431984,\n",
       "  'macro_f1-score': 0.3016922162270063,\n",
       "  'balanced_accuracy': 0.30441537918176204,\n",
       "  'mcc': 0.5526329841903413},\n",
       " {'val_loss': 1.3589874485534938,\n",
       "  'val_accuracy': 0.6804570527974784,\n",
       "  'precision': 0.6606165277994105,\n",
       "  'recall': 0.6804570527974784,\n",
       "  'f1-score': 0.6545120360882776,\n",
       "  'macro_f1-score': 0.2908324130689872,\n",
       "  'balanced_accuracy': 0.3119277966285385,\n",
       "  'mcc': 0.5577025770043781},\n",
       " {'val_loss': 1.3847410363346273,\n",
       "  'val_accuracy': 0.6744155503020752,\n",
       "  'precision': 0.6551956633205985,\n",
       "  'recall': 0.6744155503020752,\n",
       "  'f1-score': 0.6464052563406941,\n",
       "  'macro_f1-score': 0.3074678667357438,\n",
       "  'balanced_accuracy': 0.30826172434245963,\n",
       "  'mcc': 0.5573892907333319},\n",
       " {'val_loss': 1.4502425631583542,\n",
       "  'val_accuracy': 0.6774302620456467,\n",
       "  'precision': 0.6558764084193387,\n",
       "  'recall': 0.6774302620456467,\n",
       "  'f1-score': 0.6456473691671156,\n",
       "  'macro_f1-score': 0.3372863537188115,\n",
       "  'balanced_accuracy': 0.3371887256441712,\n",
       "  'mcc': 0.5670162009618328},\n",
       " {'val_loss': 1.518370049569015,\n",
       "  'val_accuracy': 0.6505234410559855,\n",
       "  'precision': 0.6305156374556236,\n",
       "  'recall': 0.6505234410559855,\n",
       "  'f1-score': 0.623847315620477,\n",
       "  'macro_f1-score': 0.3129053128691258,\n",
       "  'balanced_accuracy': 0.33631892008475417,\n",
       "  'mcc': 0.5386450846307843},\n",
       " {'val_loss': 1.3690064467560008,\n",
       "  'val_accuracy': 0.68801775147929,\n",
       "  'precision': 0.6840172753917324,\n",
       "  'recall': 0.68801775147929,\n",
       "  'f1-score': 0.6685443595242416,\n",
       "  'macro_f1-score': 0.34608580073409356,\n",
       "  'balanced_accuracy': 0.37542780659858,\n",
       "  'mcc': 0.5696660733795748},\n",
       " {'val_loss': 1.4985221291590312,\n",
       "  'val_accuracy': 0.6657342657342658,\n",
       "  'precision': 0.6414368877859355,\n",
       "  'recall': 0.6657342657342658,\n",
       "  'f1-score': 0.6392565385908181,\n",
       "  'macro_f1-score': 0.31716401686727264,\n",
       "  'balanced_accuracy': 0.3425578699271427,\n",
       "  'mcc': 0.5542457171349677},\n",
       " {'val_loss': 1.4797614750896664,\n",
       "  'val_accuracy': 0.6689771766694843,\n",
       "  'precision': 0.6428930367149573,\n",
       "  'recall': 0.6689771766694843,\n",
       "  'f1-score': 0.6375179595374025,\n",
       "  'macro_f1-score': 0.36470848749415596,\n",
       "  'balanced_accuracy': 0.3757456006869756,\n",
       "  'mcc': 0.5543978220602988},\n",
       " {'val_loss': 1.4992300485664942,\n",
       "  'val_accuracy': 0.6465841850457235,\n",
       "  'precision': 0.6142281347526439,\n",
       "  'recall': 0.6465841850457235,\n",
       "  'f1-score': 0.6104918924916811,\n",
       "  'macro_f1-score': 0.3326314090730199,\n",
       "  'balanced_accuracy': 0.3476750683784945,\n",
       "  'mcc': 0.5445526961794269}]"
      ]
     },
     "execution_count": 9,
     "metadata": {},
     "output_type": "execute_result"
    }
   ],
   "source": [
    "all_fold_results"
   ]
  }
 ],
 "metadata": {
  "kernelspec": {
   "display_name": "Python 3 (ipykernel)",
   "language": "python",
   "name": "python3"
  },
  "language_info": {
   "codemirror_mode": {
    "name": "ipython",
    "version": 3
   },
   "file_extension": ".py",
   "mimetype": "text/x-python",
   "name": "python",
   "nbconvert_exporter": "python",
   "pygments_lexer": "ipython3",
   "version": "3.11.9"
  }
 },
 "nbformat": 4,
 "nbformat_minor": 5
}
