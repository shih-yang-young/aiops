{
 "cells": [
  {
   "cell_type": "code",
   "execution_count": 1,
   "id": "f22f4841-9a9d-4a63-b896-560594d666d8",
   "metadata": {},
   "outputs": [
    {
     "data": {
      "text/html": [
       "<div>\n",
       "<style scoped>\n",
       "    .dataframe tbody tr th:only-of-type {\n",
       "        vertical-align: middle;\n",
       "    }\n",
       "\n",
       "    .dataframe tbody tr th {\n",
       "        vertical-align: top;\n",
       "    }\n",
       "\n",
       "    .dataframe thead th {\n",
       "        text-align: right;\n",
       "    }\n",
       "</style>\n",
       "<table border=\"1\" class=\"dataframe\">\n",
       "  <thead>\n",
       "    <tr style=\"text-align: right;\">\n",
       "      <th></th>\n",
       "      <th>Inbound Message</th>\n",
       "      <th>Label</th>\n",
       "    </tr>\n",
       "  </thead>\n",
       "  <tbody>\n",
       "    <tr>\n",
       "      <th>0</th>\n",
       "      <td>login issue verified user details employee man...</td>\n",
       "      <td>0</td>\n",
       "    </tr>\n",
       "    <tr>\n",
       "      <th>1</th>\n",
       "      <td>outlook hello team meetings skype meetings etc...</td>\n",
       "      <td>0</td>\n",
       "    </tr>\n",
       "    <tr>\n",
       "      <th>2</th>\n",
       "      <td>cant log vpn cannot log vpn best</td>\n",
       "      <td>0</td>\n",
       "    </tr>\n",
       "    <tr>\n",
       "      <th>3</th>\n",
       "      <td>unable access tool page unable access tool page</td>\n",
       "      <td>0</td>\n",
       "    </tr>\n",
       "    <tr>\n",
       "      <th>4</th>\n",
       "      <td>skype error skype error</td>\n",
       "      <td>0</td>\n",
       "    </tr>\n",
       "    <tr>\n",
       "      <th>...</th>\n",
       "      <td>...</td>\n",
       "      <td>...</td>\n",
       "    </tr>\n",
       "    <tr>\n",
       "      <th>8449</th>\n",
       "      <td>emails coming mail good afternoon receiving em...</td>\n",
       "      <td>22</td>\n",
       "    </tr>\n",
       "    <tr>\n",
       "      <th>8450</th>\n",
       "      <td>telephony software issue telephony software issue</td>\n",
       "      <td>0</td>\n",
       "    </tr>\n",
       "    <tr>\n",
       "      <th>8451</th>\n",
       "      <td>vip windows password reset tifpdchb pedxruyf v...</td>\n",
       "      <td>0</td>\n",
       "    </tr>\n",
       "    <tr>\n",
       "      <th>8452</th>\n",
       "      <td>machine est funcionando unable access machine ...</td>\n",
       "      <td>44</td>\n",
       "    </tr>\n",
       "    <tr>\n",
       "      <th>8453</th>\n",
       "      <td>mehreren lassen sich verschiedene prgramdntyme...</td>\n",
       "      <td>49</td>\n",
       "    </tr>\n",
       "  </tbody>\n",
       "</table>\n",
       "<p>8454 rows × 2 columns</p>\n",
       "</div>"
      ],
      "text/plain": [
       "                                        Inbound Message  Label\n",
       "0     login issue verified user details employee man...      0\n",
       "1     outlook hello team meetings skype meetings etc...      0\n",
       "2                      cant log vpn cannot log vpn best      0\n",
       "3       unable access tool page unable access tool page      0\n",
       "4                               skype error skype error      0\n",
       "...                                                 ...    ...\n",
       "8449  emails coming mail good afternoon receiving em...     22\n",
       "8450  telephony software issue telephony software issue      0\n",
       "8451  vip windows password reset tifpdchb pedxruyf v...      0\n",
       "8452  machine est funcionando unable access machine ...     44\n",
       "8453  mehreren lassen sich verschiedene prgramdntyme...     49\n",
       "\n",
       "[8454 rows x 2 columns]"
      ]
     },
     "execution_count": 1,
     "metadata": {},
     "output_type": "execute_result"
    }
   ],
   "source": [
    "import pandas as pd\n",
    "data_path = \"../../data/open_source_8454_combine_short_description.csv\"\n",
    "df = pd.read_csv(data_path)\n",
    "# df_label_0 = df[df[\"Label\"] == 0]\n",
    "# df_label_0_to_drop = df_label_0.sample(n=3000, random_state=42)\n",
    "# df = df.drop(df_label_0_to_drop.index)\n",
    "df"
   ]
  },
  {
   "cell_type": "code",
   "execution_count": 2,
   "id": "bf737873-4f1c-4588-913d-8f06b2777b20",
   "metadata": {},
   "outputs": [],
   "source": [
    "import sys\n",
    "import os\n",
    "sys.path.append(os.path.abspath('../ml_lib'))\n",
    "\n",
    "from config import *\n",
    "from experiment import run_kfold_experiment"
   ]
  },
  {
   "cell_type": "code",
   "execution_count": 3,
   "id": "a12b2613-aa9d-41c0-8f62-72210eaf8d7f",
   "metadata": {},
   "outputs": [],
   "source": [
    "messages, labels = df['Inbound Message'].tolist(), df['Label'].tolist()"
   ]
  },
  {
   "cell_type": "code",
   "execution_count": 4,
   "id": "38d4729f-f867-4cea-89f9-31f67e5ecced",
   "metadata": {},
   "outputs": [
    {
     "name": "stdout",
     "output_type": "stream",
     "text": [
      "▶ Running: bert-base-uncased + cnn + none\n",
      "tokenizer is bert-base-uncased\n",
      "Using device: cuda\n",
      "CUDA Available: True\n",
      "CUDA Device: NVIDIA GeForce RTX 3050 6GB Laptop GPU\n",
      "Current GPU Memory Allocated: 0.00 GB\n",
      "Current GPU Memory Cached: 0.00 GB\n",
      "\n",
      "[Fold 1]\n",
      "model is bert-base-uncased cnn\n"
     ]
    },
    {
     "name": "stderr",
     "output_type": "stream",
     "text": [
      "D:\\Anaconda3\\envs\\cuda\\Lib\\site-packages\\sklearn\\model_selection\\_split.py:737: UserWarning: The least populated class in y has only 7 members, which is less than n_splits=10.\n",
      "  warnings.warn(\n"
     ]
    },
    {
     "name": "stdout",
     "output_type": "stream",
     "text": [
      "Epoch 1/20\n"
     ]
    },
    {
     "name": "stderr",
     "output_type": "stream",
     "text": [
      "100%|██████████| 476/476 [03:31<00:00,  2.25it/s]\n"
     ]
    },
    {
     "name": "stdout",
     "output_type": "stream",
     "text": [
      "{'val_loss': 1.5011139995646927, 'val_accuracy': 0.6252955082742316, 'precision': 0.5004481730563936, 'recall': 0.6252955082742316, 'f1-score': 0.5455567424714446, 'macro_f1-score': 0.13948707898052096, 'balanced_accuracy': 0.15051151539725657, 'mcc': 0.47630707217797474, 'train_loss': 1.9021065926351468}\n",
      "Epoch 2/20\n"
     ]
    },
    {
     "name": "stderr",
     "output_type": "stream",
     "text": [
      "100%|██████████| 476/476 [03:30<00:00,  2.26it/s]\n"
     ]
    },
    {
     "name": "stdout",
     "output_type": "stream",
     "text": [
      "{'val_loss': 1.3009083642149872, 'val_accuracy': 0.6572104018912529, 'precision': 0.6230603680115036, 'recall': 0.6572104018912529, 'f1-score': 0.6250602976543433, 'macro_f1-score': 0.23381641240913686, 'balanced_accuracy': 0.25096745457778274, 'mcc': 0.5424419729337858, 'train_loss': 1.3124347515717274}\n",
      "Epoch 3/20\n"
     ]
    },
    {
     "name": "stderr",
     "output_type": "stream",
     "text": [
      "100%|██████████| 476/476 [03:30<00:00,  2.26it/s]\n"
     ]
    },
    {
     "name": "stdout",
     "output_type": "stream",
     "text": [
      "{'val_loss': 1.2534852460870203, 'val_accuracy': 0.6796690307328606, 'precision': 0.642734437455433, 'recall': 0.6796690307328606, 'f1-score': 0.6405914380800515, 'macro_f1-score': 0.2836026768138642, 'balanced_accuracy': 0.2770543342157748, 'mcc': 0.5609840079550945, 'train_loss': 0.9830167276017806}\n",
      "Epoch 4/20\n"
     ]
    },
    {
     "name": "stderr",
     "output_type": "stream",
     "text": [
      "100%|██████████| 476/476 [03:31<00:00,  2.25it/s]\n"
     ]
    },
    {
     "name": "stdout",
     "output_type": "stream",
     "text": [
      "{'val_loss': 1.259256677807502, 'val_accuracy': 0.6926713947990544, 'precision': 0.6534542929689711, 'recall': 0.6926713947990544, 'f1-score': 0.6563244554209491, 'macro_f1-score': 0.3219772237053444, 'balanced_accuracy': 0.31756771068889367, 'mcc': 0.5840033384802311, 'train_loss': 0.744613352740387}\n",
      "Epoch 5/20\n"
     ]
    },
    {
     "name": "stderr",
     "output_type": "stream",
     "text": [
      "100%|██████████| 476/476 [03:32<00:00,  2.24it/s]\n"
     ]
    },
    {
     "name": "stdout",
     "output_type": "stream",
     "text": [
      "{'val_loss': 1.345190535176475, 'val_accuracy': 0.6784869976359338, 'precision': 0.6701048393906655, 'recall': 0.6784869976359338, 'f1-score': 0.6646178134227109, 'macro_f1-score': 0.3651928411933734, 'balanced_accuracy': 0.35512330393861546, 'mcc': 0.5738040338926899, 'train_loss': 0.5550447244181478}\n",
      "Epoch 6/20\n"
     ]
    },
    {
     "name": "stderr",
     "output_type": "stream",
     "text": [
      "100%|██████████| 476/476 [03:30<00:00,  2.26it/s]\n"
     ]
    },
    {
     "name": "stdout",
     "output_type": "stream",
     "text": [
      "{'val_loss': 1.3907592560885087, 'val_accuracy': 0.6737588652482269, 'precision': 0.6649098767372609, 'recall': 0.6737588652482269, 'f1-score': 0.6600848464865056, 'macro_f1-score': 0.42239548264293897, 'balanced_accuracy': 0.4129136205633752, 'mcc': 0.5642657133414716, 'train_loss': 0.42625386991436365}\n",
      "Epoch 7/20\n"
     ]
    },
    {
     "name": "stderr",
     "output_type": "stream",
     "text": [
      "100%|██████████| 476/476 [03:29<00:00,  2.27it/s]\n"
     ]
    },
    {
     "name": "stdout",
     "output_type": "stream",
     "text": [
      "{'val_loss': 1.4879601209793452, 'val_accuracy': 0.6595744680851063, 'precision': 0.6867351050901143, 'recall': 0.6595744680851063, 'f1-score': 0.6568305575190669, 'macro_f1-score': 0.41129754313599276, 'balanced_accuracy': 0.4418409657372593, 'mcc': 0.5562850953362843, 'train_loss': 0.34622093284612193}\n",
      "Epoch 8/20\n"
     ]
    },
    {
     "name": "stderr",
     "output_type": "stream",
     "text": [
      "100%|██████████| 476/476 [03:36<00:00,  2.20it/s]\n"
     ]
    },
    {
     "name": "stdout",
     "output_type": "stream",
     "text": [
      "{'val_loss': 1.5750214823012083, 'val_accuracy': 0.66548463356974, 'precision': 0.6737517945909751, 'recall': 0.66548463356974, 'f1-score': 0.6570885311572684, 'macro_f1-score': 0.41175180883619406, 'balanced_accuracy': 0.42500025448508183, 'mcc': 0.5649303886937761, 'train_loss': 0.30121531754540387}\n",
      "Epoch 9/20\n"
     ]
    },
    {
     "name": "stderr",
     "output_type": "stream",
     "text": [
      "100%|██████████| 476/476 [03:42<00:00,  2.14it/s]\n"
     ]
    },
    {
     "name": "stdout",
     "output_type": "stream",
     "text": [
      "{'val_loss': 1.6019329597365182, 'val_accuracy': 0.6796690307328606, 'precision': 0.6869552947400257, 'recall': 0.6796690307328606, 'f1-score': 0.668721647466798, 'macro_f1-score': 0.4401795110218219, 'balanced_accuracy': 0.42793490256650535, 'mcc': 0.573602517479359, 'train_loss': 0.27812220179769326}\n",
      "Epoch 10/20\n"
     ]
    },
    {
     "name": "stderr",
     "output_type": "stream",
     "text": [
      "100%|██████████| 476/476 [03:41<00:00,  2.15it/s]\n"
     ]
    },
    {
     "name": "stdout",
     "output_type": "stream",
     "text": [
      "{'val_loss': 1.5652292027788341, 'val_accuracy': 0.6867612293144209, 'precision': 0.6850471058088683, 'recall': 0.6867612293144209, 'f1-score': 0.6732160488047382, 'macro_f1-score': 0.4574770697237322, 'balanced_accuracy': 0.4547712254892597, 'mcc': 0.5868619328014206, 'train_loss': 0.25194710457233804}\n",
      "Epoch 11/20\n"
     ]
    },
    {
     "name": "stderr",
     "output_type": "stream",
     "text": [
      "100%|██████████| 476/476 [03:41<00:00,  2.15it/s]\n"
     ]
    },
    {
     "name": "stdout",
     "output_type": "stream",
     "text": [
      "{'val_loss': 1.6305110336474653, 'val_accuracy': 0.693853427895981, 'precision': 0.6891128902170903, 'recall': 0.693853427895981, 'f1-score': 0.6735478317928003, 'macro_f1-score': 0.4537238030817285, 'balanced_accuracy': 0.43685264729003825, 'mcc': 0.5896271701880403, 'train_loss': 0.23773000902151925}\n",
      "Epoch 12/20\n"
     ]
    },
    {
     "name": "stderr",
     "output_type": "stream",
     "text": [
      "100%|██████████| 476/476 [03:39<00:00,  2.16it/s]\n"
     ]
    },
    {
     "name": "stdout",
     "output_type": "stream",
     "text": [
      "{'val_loss': 1.6320188112978666, 'val_accuracy': 0.6702127659574468, 'precision': 0.6813128911496603, 'recall': 0.6702127659574468, 'f1-score': 0.6658316545331424, 'macro_f1-score': 0.44171478119377267, 'balanced_accuracy': 0.4529793502192796, 'mcc': 0.5745461100883601, 'train_loss': 0.2292081079022184}\n",
      "Epoch 13/20\n"
     ]
    },
    {
     "name": "stderr",
     "output_type": "stream",
     "text": [
      "100%|██████████| 476/476 [03:39<00:00,  2.17it/s]\n"
     ]
    },
    {
     "name": "stdout",
     "output_type": "stream",
     "text": [
      "{'val_loss': 1.7081713682075716, 'val_accuracy': 0.6678486997635934, 'precision': 0.6905929369840162, 'recall': 0.6678486997635934, 'f1-score': 0.6707780929720646, 'macro_f1-score': 0.46094474241015887, 'balanced_accuracy': 0.4520393796927592, 'mcc': 0.5689580024121148, 'train_loss': 0.21466993890945338}\n",
      "Epoch 14/20\n"
     ]
    },
    {
     "name": "stderr",
     "output_type": "stream",
     "text": [
      "100%|██████████| 476/476 [03:40<00:00,  2.16it/s]\n"
     ]
    },
    {
     "name": "stdout",
     "output_type": "stream",
     "text": [
      "{'val_loss': 1.7704967822668687, 'val_accuracy': 0.6832151300236406, 'precision': 0.6817273363058962, 'recall': 0.6832151300236406, 'f1-score': 0.6722940812671037, 'macro_f1-score': 0.44662605649283743, 'balanced_accuracy': 0.4405931156443571, 'mcc': 0.578806689990441, 'train_loss': 0.1983666238465499}\n",
      "Epoch 15/20\n"
     ]
    },
    {
     "name": "stderr",
     "output_type": "stream",
     "text": [
      "100%|██████████| 476/476 [03:41<00:00,  2.15it/s]\n"
     ]
    },
    {
     "name": "stdout",
     "output_type": "stream",
     "text": [
      "{'val_loss': 1.8927053820412114, 'val_accuracy': 0.6784869976359338, 'precision': 0.6815209933529979, 'recall': 0.6784869976359338, 'f1-score': 0.6678277371585069, 'macro_f1-score': 0.4114492839092416, 'balanced_accuracy': 0.40036871630140575, 'mcc': 0.5730592044772627, 'train_loss': 0.20680491335664586}\n",
      "Epoch 16/20\n"
     ]
    },
    {
     "name": "stderr",
     "output_type": "stream",
     "text": [
      "100%|██████████| 476/476 [03:42<00:00,  2.14it/s]\n"
     ]
    },
    {
     "name": "stdout",
     "output_type": "stream",
     "text": [
      "{'val_loss': 1.930992674715114, 'val_accuracy': 0.6879432624113475, 'precision': 0.665706456362281, 'recall': 0.6879432624113475, 'f1-score': 0.6651001646860547, 'macro_f1-score': 0.39498799933333073, 'balanced_accuracy': 0.3675348055477945, 'mcc': 0.5752439557246433, 'train_loss': 0.20296725761776344}\n",
      "Early stopping.\n",
      "\n",
      "[Fold 2]\n",
      "model is bert-base-uncased cnn\n",
      "Epoch 1/20\n"
     ]
    },
    {
     "name": "stderr",
     "output_type": "stream",
     "text": [
      "100%|██████████| 476/476 [03:40<00:00,  2.16it/s]\n"
     ]
    },
    {
     "name": "stdout",
     "output_type": "stream",
     "text": [
      "{'val_loss': 1.4720710774637618, 'val_accuracy': 0.6229314420803782, 'precision': 0.4495321995570947, 'recall': 0.6229314420803782, 'f1-score': 0.509072514526525, 'macro_f1-score': 0.11470034012787039, 'balanced_accuracy': 0.125021810165806, 'mcc': 0.45769338746960225, 'train_loss': 1.8831117071774828}\n",
      "Epoch 2/20\n"
     ]
    },
    {
     "name": "stderr",
     "output_type": "stream",
     "text": [
      "100%|██████████| 476/476 [03:41<00:00,  2.15it/s]\n"
     ]
    },
    {
     "name": "stdout",
     "output_type": "stream",
     "text": [
      "{'val_loss': 1.330806794031611, 'val_accuracy': 0.6501182033096927, 'precision': 0.579827960968367, 'recall': 0.6501182033096927, 'f1-score': 0.5924046160199478, 'macro_f1-score': 0.2054403423470827, 'balanced_accuracy': 0.20822482068269627, 'mcc': 0.515408999701908, 'train_loss': 1.3087269901728429}\n",
      "Epoch 3/20\n"
     ]
    },
    {
     "name": "stderr",
     "output_type": "stream",
     "text": [
      "100%|██████████| 476/476 [03:41<00:00,  2.15it/s]\n"
     ]
    },
    {
     "name": "stdout",
     "output_type": "stream",
     "text": [
      "{'val_loss': 1.286925733651755, 'val_accuracy': 0.6548463356973995, 'precision': 0.6448680392905767, 'recall': 0.6548463356973995, 'f1-score': 0.6228436035085964, 'macro_f1-score': 0.2933436190762632, 'balanced_accuracy': 0.3045248078939294, 'mcc': 0.5359611870713824, 'train_loss': 0.9909409789540687}\n",
      "Epoch 4/20\n"
     ]
    },
    {
     "name": "stderr",
     "output_type": "stream",
     "text": [
      "100%|██████████| 476/476 [03:41<00:00,  2.15it/s]\n"
     ]
    },
    {
     "name": "stdout",
     "output_type": "stream",
     "text": [
      "{'val_loss': 1.4074763110223807, 'val_accuracy': 0.6595744680851063, 'precision': 0.6234613670192867, 'recall': 0.6595744680851063, 'f1-score': 0.6078558118356818, 'macro_f1-score': 0.2530139767953291, 'balanced_accuracy': 0.24962679270709073, 'mcc': 0.5308629101272985, 'train_loss': 0.7345465179689291}\n",
      "Epoch 5/20\n"
     ]
    },
    {
     "name": "stderr",
     "output_type": "stream",
     "text": [
      "100%|██████████| 476/476 [03:41<00:00,  2.15it/s]\n"
     ]
    },
    {
     "name": "stdout",
     "output_type": "stream",
     "text": [
      "{'val_loss': 1.3498764448570755, 'val_accuracy': 0.6631205673758865, 'precision': 0.6425645379096673, 'recall': 0.6631205673758865, 'f1-score': 0.6428632889669811, 'macro_f1-score': 0.30522093773477904, 'balanced_accuracy': 0.30907668405450417, 'mcc': 0.5543627864336971, 'train_loss': 0.5642822097454753}\n",
      "Epoch 6/20\n"
     ]
    },
    {
     "name": "stderr",
     "output_type": "stream",
     "text": [
      "100%|██████████| 476/476 [03:39<00:00,  2.17it/s]\n"
     ]
    },
    {
     "name": "stdout",
     "output_type": "stream",
     "text": [
      "{'val_loss': 1.4050705123622462, 'val_accuracy': 0.6690307328605201, 'precision': 0.6584655738429189, 'recall': 0.6690307328605201, 'f1-score': 0.6498471111214903, 'macro_f1-score': 0.3712621125749917, 'balanced_accuracy': 0.36760067569658617, 'mcc': 0.5592291600054508, 'train_loss': 0.42096056938640963}\n",
      "Epoch 7/20\n"
     ]
    },
    {
     "name": "stderr",
     "output_type": "stream",
     "text": [
      "100%|██████████| 476/476 [03:40<00:00,  2.16it/s]\n"
     ]
    },
    {
     "name": "stdout",
     "output_type": "stream",
     "text": [
      "{'val_loss': 1.4860989105588984, 'val_accuracy': 0.6631205673758865, 'precision': 0.6816290713006341, 'recall': 0.6631205673758865, 'f1-score': 0.6558284568096066, 'macro_f1-score': 0.38396272184786073, 'balanced_accuracy': 0.3928159472403451, 'mcc': 0.558064192199252, 'train_loss': 0.3522331154251769}\n",
      "Epoch 8/20\n"
     ]
    },
    {
     "name": "stderr",
     "output_type": "stream",
     "text": [
      "100%|██████████| 476/476 [03:42<00:00,  2.14it/s]\n"
     ]
    },
    {
     "name": "stdout",
     "output_type": "stream",
     "text": [
      "{'val_loss': 1.4982927435973905, 'val_accuracy': 0.66548463356974, 'precision': 0.6646895111277492, 'recall': 0.66548463356974, 'f1-score': 0.6525416224735465, 'macro_f1-score': 0.37543624840280165, 'balanced_accuracy': 0.3749341734585713, 'mcc': 0.5571676908598628, 'train_loss': 0.3044858633211869}\n",
      "Epoch 9/20\n"
     ]
    },
    {
     "name": "stderr",
     "output_type": "stream",
     "text": [
      "100%|██████████| 476/476 [03:41<00:00,  2.15it/s]\n"
     ]
    },
    {
     "name": "stdout",
     "output_type": "stream",
     "text": [
      "{'val_loss': 1.5407747440742996, 'val_accuracy': 0.6678486997635934, 'precision': 0.6521039475978162, 'recall': 0.6678486997635934, 'f1-score': 0.648673826463373, 'macro_f1-score': 0.38601738549291925, 'balanced_accuracy': 0.3899094398045013, 'mcc': 0.5569196175520386, 'train_loss': 0.25447000198441894}\n",
      "Epoch 10/20\n"
     ]
    },
    {
     "name": "stderr",
     "output_type": "stream",
     "text": [
      "100%|██████████| 476/476 [03:42<00:00,  2.14it/s]\n"
     ]
    },
    {
     "name": "stdout",
     "output_type": "stream",
     "text": [
      "{'val_loss': 1.6019221960373644, 'val_accuracy': 0.6761229314420804, 'precision': 0.6530704034669336, 'recall': 0.6761229314420804, 'f1-score': 0.6489929319967516, 'macro_f1-score': 0.3393121360642894, 'balanced_accuracy': 0.34138543934165144, 'mcc': 0.5636774277890784, 'train_loss': 0.23898291915553396}\n",
      "Epoch 11/20\n"
     ]
    },
    {
     "name": "stderr",
     "output_type": "stream",
     "text": [
      "100%|██████████| 476/476 [03:41<00:00,  2.14it/s]\n"
     ]
    },
    {
     "name": "stdout",
     "output_type": "stream",
     "text": [
      "{'val_loss': 1.6272552598197505, 'val_accuracy': 0.6713947990543735, 'precision': 0.6606639288359258, 'recall': 0.6713947990543735, 'f1-score': 0.6490393796083685, 'macro_f1-score': 0.3721803669992767, 'balanced_accuracy': 0.37256785822237204, 'mcc': 0.5577198851310639, 'train_loss': 0.25034565732035663}\n",
      "Epoch 12/20\n"
     ]
    },
    {
     "name": "stderr",
     "output_type": "stream",
     "text": [
      "100%|██████████| 476/476 [03:42<00:00,  2.14it/s]\n"
     ]
    },
    {
     "name": "stdout",
     "output_type": "stream",
     "text": [
      "{'val_loss': 1.7398000078381233, 'val_accuracy': 0.6442080378250591, 'precision': 0.6539955117196938, 'recall': 0.6442080378250591, 'f1-score': 0.6350761355409302, 'macro_f1-score': 0.34094626472223666, 'balanced_accuracy': 0.3816977349264647, 'mcc': 0.5345251456764023, 'train_loss': 0.2390777659514418}\n",
      "Early stopping.\n",
      "\n",
      "[Fold 3]\n",
      "model is bert-base-uncased cnn\n",
      "Epoch 1/20\n"
     ]
    },
    {
     "name": "stderr",
     "output_type": "stream",
     "text": [
      "100%|██████████| 476/476 [03:36<00:00,  2.20it/s]\n"
     ]
    },
    {
     "name": "stdout",
     "output_type": "stream",
     "text": [
      "{'val_loss': 1.5551261581339926, 'val_accuracy': 0.6063829787234043, 'precision': 0.4519452745174228, 'recall': 0.6063829787234043, 'f1-score': 0.49928139618232564, 'macro_f1-score': 0.10275658786596638, 'balanced_accuracy': 0.11271334406943488, 'mcc': 0.4332947432419773, 'train_loss': 1.9450810325621557}\n",
      "Epoch 2/20\n"
     ]
    },
    {
     "name": "stderr",
     "output_type": "stream",
     "text": [
      "100%|██████████| 476/476 [03:40<00:00,  2.16it/s]\n"
     ]
    },
    {
     "name": "stdout",
     "output_type": "stream",
     "text": [
      "{'val_loss': 1.3685663027583428, 'val_accuracy': 0.640661938534279, 'precision': 0.5925291034860457, 'recall': 0.640661938534279, 'f1-score': 0.5949661456689324, 'macro_f1-score': 0.19610942372843884, 'balanced_accuracy': 0.20236981506912194, 'mcc': 0.5106773368110328, 'train_loss': 1.37488624153017}\n",
      "Epoch 3/20\n"
     ]
    },
    {
     "name": "stderr",
     "output_type": "stream",
     "text": [
      "100%|██████████| 476/476 [03:42<00:00,  2.14it/s]\n"
     ]
    },
    {
     "name": "stdout",
     "output_type": "stream",
     "text": [
      "{'val_loss': 1.228008190978248, 'val_accuracy': 0.6773049645390071, 'precision': 0.6456985373063284, 'recall': 0.6773049645390071, 'f1-score': 0.6475832633378373, 'macro_f1-score': 0.29342315617003517, 'balanced_accuracy': 0.3050361069570218, 'mcc': 0.572305980663519, 'train_loss': 1.0450136610502456}\n",
      "Epoch 4/20\n"
     ]
    },
    {
     "name": "stderr",
     "output_type": "stream",
     "text": [
      "100%|██████████| 476/476 [03:41<00:00,  2.15it/s]\n"
     ]
    },
    {
     "name": "stdout",
     "output_type": "stream",
     "text": [
      "{'val_loss': 1.2289247158563361, 'val_accuracy': 0.6867612293144209, 'precision': 0.6689230561912797, 'recall': 0.6867612293144209, 'f1-score': 0.6674213540575807, 'macro_f1-score': 0.35500400322316283, 'balanced_accuracy': 0.3708524166259048, 'mcc': 0.5851367628964795, 'train_loss': 0.7901776358328697}\n",
      "Epoch 5/20\n"
     ]
    },
    {
     "name": "stderr",
     "output_type": "stream",
     "text": [
      "100%|██████████| 476/476 [03:40<00:00,  2.16it/s]\n"
     ]
    },
    {
     "name": "stdout",
     "output_type": "stream",
     "text": [
      "{'val_loss': 1.4322933101991437, 'val_accuracy': 0.6749408983451537, 'precision': 0.658861019147629, 'recall': 0.6749408983451537, 'f1-score': 0.6599389764384473, 'macro_f1-score': 0.3785865803493283, 'balanced_accuracy': 0.372763915829641, 'mcc': 0.5670379157818688, 'train_loss': 0.5808050707686975}\n",
      "Epoch 6/20\n"
     ]
    },
    {
     "name": "stderr",
     "output_type": "stream",
     "text": [
      "100%|██████████| 476/476 [03:41<00:00,  2.15it/s]\n"
     ]
    },
    {
     "name": "stdout",
     "output_type": "stream",
     "text": [
      "{'val_loss': 1.4868132578876783, 'val_accuracy': 0.6761229314420804, 'precision': 0.6485413266951351, 'recall': 0.6761229314420804, 'f1-score': 0.6480589886312862, 'macro_f1-score': 0.36557669373002477, 'balanced_accuracy': 0.3563820438865318, 'mcc': 0.5601648011861927, 'train_loss': 0.44875735955649376}\n",
      "Epoch 7/20\n"
     ]
    },
    {
     "name": "stderr",
     "output_type": "stream",
     "text": [
      "100%|██████████| 476/476 [03:42<00:00,  2.14it/s]\n"
     ]
    },
    {
     "name": "stdout",
     "output_type": "stream",
     "text": [
      "{'val_loss': 1.5123232175719064, 'val_accuracy': 0.6773049645390071, 'precision': 0.6756713071679021, 'recall': 0.6773049645390071, 'f1-score': 0.6680874285073991, 'macro_f1-score': 0.4018319180439165, 'balanced_accuracy': 0.3949698690304478, 'mcc': 0.5721127661753839, 'train_loss': 0.3695815520521504}\n",
      "Epoch 8/20\n"
     ]
    },
    {
     "name": "stderr",
     "output_type": "stream",
     "text": [
      "100%|██████████| 476/476 [03:43<00:00,  2.13it/s]\n"
     ]
    },
    {
     "name": "stdout",
     "output_type": "stream",
     "text": [
      "{'val_loss': 1.6016249718531124, 'val_accuracy': 0.6843971631205674, 'precision': 0.6466724720906516, 'recall': 0.6843971631205674, 'f1-score': 0.6572947842479047, 'macro_f1-score': 0.3841144653923272, 'balanced_accuracy': 0.3759001839339735, 'mcc': 0.5723433866117972, 'train_loss': 0.3202494891250835}\n",
      "Epoch 9/20\n"
     ]
    },
    {
     "name": "stderr",
     "output_type": "stream",
     "text": [
      "100%|██████████| 476/476 [03:40<00:00,  2.16it/s]\n"
     ]
    },
    {
     "name": "stdout",
     "output_type": "stream",
     "text": [
      "{'val_loss': 1.6049119048523453, 'val_accuracy': 0.6867612293144209, 'precision': 0.6792373388239482, 'recall': 0.6867612293144209, 'f1-score': 0.6757448964479796, 'macro_f1-score': 0.4233157373808043, 'balanced_accuracy': 0.43484807595608144, 'mcc': 0.5889093333824356, 'train_loss': 0.27221391290160163}\n",
      "Epoch 10/20\n"
     ]
    },
    {
     "name": "stderr",
     "output_type": "stream",
     "text": [
      "100%|██████████| 476/476 [03:42<00:00,  2.14it/s]\n"
     ]
    },
    {
     "name": "stdout",
     "output_type": "stream",
     "text": [
      "{'val_loss': 1.6286635123333841, 'val_accuracy': 0.6867612293144209, 'precision': 0.6759928958211086, 'recall': 0.6867612293144209, 'f1-score': 0.6679996975945827, 'macro_f1-score': 0.4163058452870645, 'balanced_accuracy': 0.4166125903515611, 'mcc': 0.579193108697145, 'train_loss': 0.26141189780094104}\n",
      "Epoch 11/20\n"
     ]
    },
    {
     "name": "stderr",
     "output_type": "stream",
     "text": [
      "100%|██████████| 476/476 [03:41<00:00,  2.15it/s]\n"
     ]
    },
    {
     "name": "stdout",
     "output_type": "stream",
     "text": [
      "{'val_loss': 1.7624657814795117, 'val_accuracy': 0.6749408983451537, 'precision': 0.6441391238382774, 'recall': 0.6749408983451537, 'f1-score': 0.6474161352690891, 'macro_f1-score': 0.3563192595595387, 'balanced_accuracy': 0.35051312654691613, 'mcc': 0.5607844227636721, 'train_loss': 0.23892863487096958}\n",
      "Epoch 12/20\n"
     ]
    },
    {
     "name": "stderr",
     "output_type": "stream",
     "text": [
      "100%|██████████| 476/476 [03:39<00:00,  2.17it/s]\n"
     ]
    },
    {
     "name": "stdout",
     "output_type": "stream",
     "text": [
      "{'val_loss': 1.6992559163075573, 'val_accuracy': 0.6832151300236406, 'precision': 0.6665130369425943, 'recall': 0.6832151300236406, 'f1-score': 0.6630482570212358, 'macro_f1-score': 0.405207939911668, 'balanced_accuracy': 0.38923151474721396, 'mcc': 0.5751072222798893, 'train_loss': 0.22620593724300803}\n",
      "Early stopping.\n",
      "\n",
      "[Fold 4]\n",
      "model is bert-base-uncased cnn\n",
      "Epoch 1/20\n"
     ]
    },
    {
     "name": "stderr",
     "output_type": "stream",
     "text": [
      "100%|██████████| 476/476 [03:42<00:00,  2.14it/s]\n"
     ]
    },
    {
     "name": "stdout",
     "output_type": "stream",
     "text": [
      "{'val_loss': 1.5909005358534039, 'val_accuracy': 0.5933806146572104, 'precision': 0.446698846770311, 'recall': 0.5933806146572104, 'f1-score': 0.48554333064948146, 'macro_f1-score': 0.09222184484026559, 'balanced_accuracy': 0.09942482273690036, 'mcc': 0.40445149371080397, 'train_loss': 1.9230053597638588}\n",
      "Epoch 2/20\n"
     ]
    },
    {
     "name": "stderr",
     "output_type": "stream",
     "text": [
      "100%|██████████| 476/476 [03:41<00:00,  2.14it/s]\n"
     ]
    },
    {
     "name": "stdout",
     "output_type": "stream",
     "text": [
      "{'val_loss': 1.298346220322375, 'val_accuracy': 0.66548463356974, 'precision': 0.6406303736368746, 'recall': 0.66548463356974, 'f1-score': 0.6318828335803872, 'macro_f1-score': 0.25627803713192887, 'balanced_accuracy': 0.2686973568259654, 'mcc': 0.5484360923764957, 'train_loss': 1.3432304757733304}\n",
      "Epoch 3/20\n"
     ]
    },
    {
     "name": "stderr",
     "output_type": "stream",
     "text": [
      "100%|██████████| 476/476 [03:40<00:00,  2.16it/s]\n"
     ]
    },
    {
     "name": "stdout",
     "output_type": "stream",
     "text": [
      "{'val_loss': 1.256946049208911, 'val_accuracy': 0.6773049645390071, 'precision': 0.6393522775635778, 'recall': 0.6773049645390071, 'f1-score': 0.640653913546835, 'macro_f1-score': 0.2782226486628183, 'balanced_accuracy': 0.28934428805565526, 'mcc': 0.5643051162154776, 'train_loss': 0.994954791890473}\n",
      "Epoch 4/20\n"
     ]
    },
    {
     "name": "stderr",
     "output_type": "stream",
     "text": [
      "100%|██████████| 476/476 [03:41<00:00,  2.15it/s]\n"
     ]
    },
    {
     "name": "stdout",
     "output_type": "stream",
     "text": [
      "{'val_loss': 1.3214705142210115, 'val_accuracy': 0.6678486997635934, 'precision': 0.6602599035415305, 'recall': 0.6678486997635934, 'f1-score': 0.6418692673335326, 'macro_f1-score': 0.33020318168279156, 'balanced_accuracy': 0.31652758271398024, 'mcc': 0.5531691075226103, 'train_loss': 0.7473877586126954}\n",
      "Epoch 5/20\n"
     ]
    },
    {
     "name": "stderr",
     "output_type": "stream",
     "text": [
      "100%|██████████| 476/476 [03:41<00:00,  2.15it/s]\n"
     ]
    },
    {
     "name": "stdout",
     "output_type": "stream",
     "text": [
      "{'val_loss': 1.3546923438333116, 'val_accuracy': 0.6678486997635934, 'precision': 0.6755610339452789, 'recall': 0.6678486997635934, 'f1-score': 0.6526549951431574, 'macro_f1-score': 0.4030486441606086, 'balanced_accuracy': 0.40040345919507236, 'mcc': 0.558874074897341, 'train_loss': 0.5620182196711417}\n",
      "Epoch 6/20\n"
     ]
    },
    {
     "name": "stderr",
     "output_type": "stream",
     "text": [
      "100%|██████████| 476/476 [03:40<00:00,  2.15it/s]\n"
     ]
    },
    {
     "name": "stdout",
     "output_type": "stream",
     "text": [
      "{'val_loss': 1.3943912212578755, 'val_accuracy': 0.6784869976359338, 'precision': 0.6703698069075532, 'recall': 0.6784869976359338, 'f1-score': 0.6547596863856247, 'macro_f1-score': 0.36394454605718357, 'balanced_accuracy': 0.3475704889827052, 'mcc': 0.5623567501640098, 'train_loss': 0.4422589225240615}\n",
      "Epoch 7/20\n"
     ]
    },
    {
     "name": "stderr",
     "output_type": "stream",
     "text": [
      "100%|██████████| 476/476 [03:41<00:00,  2.15it/s]\n"
     ]
    },
    {
     "name": "stdout",
     "output_type": "stream",
     "text": [
      "{'val_loss': 1.4036292512461823, 'val_accuracy': 0.6737588652482269, 'precision': 0.664234580065553, 'recall': 0.6737588652482269, 'f1-score': 0.6513515915482109, 'macro_f1-score': 0.3750370758206361, 'balanced_accuracy': 0.3812270730540181, 'mcc': 0.56521124481944, 'train_loss': 0.35238964985195204}\n",
      "Epoch 8/20\n"
     ]
    },
    {
     "name": "stderr",
     "output_type": "stream",
     "text": [
      "100%|██████████| 476/476 [03:44<00:00,  2.12it/s]\n"
     ]
    },
    {
     "name": "stdout",
     "output_type": "stream",
     "text": [
      "{'val_loss': 1.5712937167230643, 'val_accuracy': 0.6737588652482269, 'precision': 0.675454270417759, 'recall': 0.6737588652482269, 'f1-score': 0.6623209397364759, 'macro_f1-score': 0.40465919855475474, 'balanced_accuracy': 0.41014536079642644, 'mcc': 0.5646990991907147, 'train_loss': 0.3063205997713943}\n",
      "Epoch 9/20\n"
     ]
    },
    {
     "name": "stderr",
     "output_type": "stream",
     "text": [
      "100%|██████████| 476/476 [03:41<00:00,  2.15it/s]\n"
     ]
    },
    {
     "name": "stdout",
     "output_type": "stream",
     "text": [
      "{'val_loss': 1.557753270527102, 'val_accuracy': 0.6867612293144209, 'precision': 0.6733360948059766, 'recall': 0.6867612293144209, 'f1-score': 0.664470156669185, 'macro_f1-score': 0.3989582244553268, 'balanced_accuracy': 0.40382540091264746, 'mcc': 0.5784716270512437, 'train_loss': 0.29116317601639685}\n",
      "Epoch 10/20\n"
     ]
    },
    {
     "name": "stderr",
     "output_type": "stream",
     "text": [
      "100%|██████████| 476/476 [03:41<00:00,  2.15it/s]\n"
     ]
    },
    {
     "name": "stdout",
     "output_type": "stream",
     "text": [
      "{'val_loss': 1.5669884417416915, 'val_accuracy': 0.6607565011820331, 'precision': 0.6615816702470613, 'recall': 0.6607565011820331, 'f1-score': 0.6516831454623148, 'macro_f1-score': 0.43919669798109434, 'balanced_accuracy': 0.4405487280197036, 'mcc': 0.5538645377363625, 'train_loss': 0.24634456030042262}\n",
      "Epoch 11/20\n"
     ]
    },
    {
     "name": "stderr",
     "output_type": "stream",
     "text": [
      "100%|██████████| 476/476 [03:41<00:00,  2.15it/s]\n"
     ]
    },
    {
     "name": "stdout",
     "output_type": "stream",
     "text": [
      "{'val_loss': 1.6885899400935982, 'val_accuracy': 0.6713947990543735, 'precision': 0.700735106537089, 'recall': 0.6713947990543735, 'f1-score': 0.6705686327532194, 'macro_f1-score': 0.42017758702524105, 'balanced_accuracy': 0.46465531295559015, 'mcc': 0.5756895443233486, 'train_loss': 0.23181027883640296}\n",
      "Epoch 12/20\n"
     ]
    },
    {
     "name": "stderr",
     "output_type": "stream",
     "text": [
      "100%|██████████| 476/476 [03:41<00:00,  2.15it/s]\n"
     ]
    },
    {
     "name": "stdout",
     "output_type": "stream",
     "text": [
      "{'val_loss': 1.6111644292777438, 'val_accuracy': 0.6690307328605201, 'precision': 0.6770122171780495, 'recall': 0.6690307328605201, 'f1-score': 0.6621970282137699, 'macro_f1-score': 0.4334243720391073, 'balanced_accuracy': 0.46042392064317206, 'mcc': 0.5673541703767145, 'train_loss': 0.2262211374673374}\n",
      "Epoch 13/20\n"
     ]
    },
    {
     "name": "stderr",
     "output_type": "stream",
     "text": [
      "100%|██████████| 476/476 [03:42<00:00,  2.14it/s]\n"
     ]
    },
    {
     "name": "stdout",
     "output_type": "stream",
     "text": [
      "{'val_loss': 1.710636095055994, 'val_accuracy': 0.6962174940898345, 'precision': 0.679731362332349, 'recall': 0.6962174940898345, 'f1-score': 0.6746445182026871, 'macro_f1-score': 0.438227006069121, 'balanced_accuracy': 0.445542217429464, 'mcc': 0.5901876770163985, 'train_loss': 0.23913172134511299}\n",
      "Early stopping.\n",
      "\n",
      "[Fold 5]\n",
      "model is bert-base-uncased cnn\n",
      "Epoch 1/20\n"
     ]
    },
    {
     "name": "stderr",
     "output_type": "stream",
     "text": [
      "100%|██████████| 476/476 [03:42<00:00,  2.14it/s]\n"
     ]
    },
    {
     "name": "stdout",
     "output_type": "stream",
     "text": [
      "{'val_loss': 1.6608117863817036, 'val_accuracy': 0.5928994082840237, 'precision': 0.4469761975246405, 'recall': 0.5928994082840237, 'f1-score': 0.4943202117459064, 'macro_f1-score': 0.07423053308810348, 'balanced_accuracy': 0.09976891951963611, 'mcc': 0.4306773599292173, 'train_loss': 2.0172239419292}\n",
      "Epoch 2/20\n"
     ]
    },
    {
     "name": "stderr",
     "output_type": "stream",
     "text": [
      "100%|██████████| 476/476 [03:42<00:00,  2.14it/s]\n"
     ]
    },
    {
     "name": "stdout",
     "output_type": "stream",
     "text": [
      "{'val_loss': 1.3174594393316306, 'val_accuracy': 0.6414201183431952, 'precision': 0.5421881027862943, 'recall': 0.6414201183431952, 'f1-score': 0.5792281420060774, 'macro_f1-score': 0.2008953536592117, 'balanced_accuracy': 0.21329024272027147, 'mcc': 0.5036702340002033, 'train_loss': 1.448773589579999}\n",
      "Epoch 3/20\n"
     ]
    },
    {
     "name": "stderr",
     "output_type": "stream",
     "text": [
      "100%|██████████| 476/476 [03:43<00:00,  2.13it/s]\n"
     ]
    },
    {
     "name": "stdout",
     "output_type": "stream",
     "text": [
      "{'val_loss': 1.2477083740369328, 'val_accuracy': 0.6686390532544378, 'precision': 0.6198745370725085, 'recall': 0.6686390532544378, 'f1-score': 0.6137660377182325, 'macro_f1-score': 0.24853181078040226, 'balanced_accuracy': 0.24596120160687351, 'mcc': 0.5444953450603561, 'train_loss': 1.0698291950491297}\n",
      "Epoch 4/20\n"
     ]
    },
    {
     "name": "stderr",
     "output_type": "stream",
     "text": [
      "100%|██████████| 476/476 [03:41<00:00,  2.14it/s]\n"
     ]
    },
    {
     "name": "stdout",
     "output_type": "stream",
     "text": [
      "{'val_loss': 1.4468157685027931, 'val_accuracy': 0.6568047337278107, 'precision': 0.623214402693494, 'recall': 0.6568047337278107, 'f1-score': 0.6091485873648687, 'macro_f1-score': 0.2733333871102331, 'balanced_accuracy': 0.2694787843643873, 'mcc': 0.5310620180248691, 'train_loss': 0.7995956849400737}\n",
      "Epoch 5/20\n"
     ]
    },
    {
     "name": "stderr",
     "output_type": "stream",
     "text": [
      "100%|██████████| 476/476 [03:43<00:00,  2.13it/s]\n"
     ]
    },
    {
     "name": "stdout",
     "output_type": "stream",
     "text": [
      "{'val_loss': 1.3841398611383617, 'val_accuracy': 0.663905325443787, 'precision': 0.6452219805816568, 'recall': 0.663905325443787, 'f1-score': 0.6392502839998935, 'macro_f1-score': 0.30631067953672636, 'balanced_accuracy': 0.29111217919851184, 'mcc': 0.5511295024104186, 'train_loss': 0.5941027650969619}\n",
      "Epoch 6/20\n"
     ]
    },
    {
     "name": "stderr",
     "output_type": "stream",
     "text": [
      "100%|██████████| 476/476 [03:44<00:00,  2.12it/s]\n"
     ]
    },
    {
     "name": "stdout",
     "output_type": "stream",
     "text": [
      "{'val_loss': 1.4394860540358525, 'val_accuracy': 0.6816568047337278, 'precision': 0.6503002333357311, 'recall': 0.6816568047337278, 'f1-score': 0.6449497566898397, 'macro_f1-score': 0.3270538507844294, 'balanced_accuracy': 0.2941600182567976, 'mcc': 0.5635524637663012, 'train_loss': 0.4336100429640848}\n",
      "Epoch 7/20\n"
     ]
    },
    {
     "name": "stderr",
     "output_type": "stream",
     "text": [
      "100%|██████████| 476/476 [03:41<00:00,  2.15it/s]\n"
     ]
    },
    {
     "name": "stdout",
     "output_type": "stream",
     "text": [
      "{'val_loss': 1.6517035590027862, 'val_accuracy': 0.6650887573964497, 'precision': 0.6327427744725426, 'recall': 0.6650887573964497, 'f1-score': 0.6265725556375752, 'macro_f1-score': 0.2948432173164356, 'balanced_accuracy': 0.2706752944504045, 'mcc': 0.5400423765317055, 'train_loss': 0.36292960641890015}\n",
      "Epoch 8/20\n"
     ]
    },
    {
     "name": "stderr",
     "output_type": "stream",
     "text": [
      "100%|██████████| 476/476 [03:40<00:00,  2.16it/s]\n"
     ]
    },
    {
     "name": "stdout",
     "output_type": "stream",
     "text": [
      "{'val_loss': 1.4552594606044158, 'val_accuracy': 0.6698224852071006, 'precision': 0.6557925268173851, 'recall': 0.6698224852071006, 'f1-score': 0.6476609095703519, 'macro_f1-score': 0.3519311630748919, 'balanced_accuracy': 0.35353948822796155, 'mcc': 0.5577086023356542, 'train_loss': 0.3129742800164185}\n",
      "Epoch 9/20\n"
     ]
    },
    {
     "name": "stderr",
     "output_type": "stream",
     "text": [
      "100%|██████████| 476/476 [03:41<00:00,  2.15it/s]\n"
     ]
    },
    {
     "name": "stdout",
     "output_type": "stream",
     "text": [
      "{'val_loss': 1.637315403880938, 'val_accuracy': 0.6781065088757396, 'precision': 0.6839437199752925, 'recall': 0.6781065088757396, 'f1-score': 0.654535316905429, 'macro_f1-score': 0.3368578547157671, 'balanced_accuracy': 0.32762891632457525, 'mcc': 0.5663944199441643, 'train_loss': 0.2702602814440811}\n",
      "Epoch 10/20\n"
     ]
    },
    {
     "name": "stderr",
     "output_type": "stream",
     "text": [
      "100%|██████████| 476/476 [03:41<00:00,  2.15it/s]\n"
     ]
    },
    {
     "name": "stdout",
     "output_type": "stream",
     "text": [
      "{'val_loss': 1.6323267738774139, 'val_accuracy': 0.6603550295857988, 'precision': 0.6662404046648048, 'recall': 0.6603550295857988, 'f1-score': 0.6478388727995994, 'macro_f1-score': 0.3725359254140648, 'balanced_accuracy': 0.4017930212609919, 'mcc': 0.5542553114656336, 'train_loss': 0.256149702349349}\n",
      "Epoch 11/20\n"
     ]
    },
    {
     "name": "stderr",
     "output_type": "stream",
     "text": [
      "100%|██████████| 476/476 [03:42<00:00,  2.14it/s]\n"
     ]
    },
    {
     "name": "stdout",
     "output_type": "stream",
     "text": [
      "{'val_loss': 1.6869470330904115, 'val_accuracy': 0.6603550295857988, 'precision': 0.6548459008190163, 'recall': 0.6603550295857988, 'f1-score': 0.6392424904956528, 'macro_f1-score': 0.363825929123641, 'balanced_accuracy': 0.3465472398426468, 'mcc': 0.5454472202402848, 'train_loss': 0.23632912178173615}\n",
      "Epoch 12/20\n"
     ]
    },
    {
     "name": "stderr",
     "output_type": "stream",
     "text": [
      "100%|██████████| 476/476 [03:41<00:00,  2.15it/s]\n"
     ]
    },
    {
     "name": "stdout",
     "output_type": "stream",
     "text": [
      "{'val_loss': 1.768272729414814, 'val_accuracy': 0.6674556213017752, 'precision': 0.6560979622734796, 'recall': 0.6674556213017752, 'f1-score': 0.6381379821721874, 'macro_f1-score': 0.3828740157756684, 'balanced_accuracy': 0.37849273933232025, 'mcc': 0.5502211581153704, 'train_loss': 0.22920205559143247}\n",
      "Epoch 13/20\n"
     ]
    },
    {
     "name": "stderr",
     "output_type": "stream",
     "text": [
      "100%|██████████| 476/476 [03:40<00:00,  2.16it/s]\n"
     ]
    },
    {
     "name": "stdout",
     "output_type": "stream",
     "text": [
      "{'val_loss': 1.7234478823418886, 'val_accuracy': 0.6804733727810651, 'precision': 0.6670542413338049, 'recall': 0.6804733727810651, 'f1-score': 0.6541599753681145, 'macro_f1-score': 0.3562450547105007, 'balanced_accuracy': 0.32806409550541354, 'mcc': 0.5648260172033777, 'train_loss': 0.22476967106555676}\n",
      "Epoch 14/20\n"
     ]
    },
    {
     "name": "stderr",
     "output_type": "stream",
     "text": [
      "100%|██████████| 476/476 [03:41<00:00,  2.15it/s]\n"
     ]
    },
    {
     "name": "stdout",
     "output_type": "stream",
     "text": [
      "{'val_loss': 1.8728968602306437, 'val_accuracy': 0.6627218934911243, 'precision': 0.6627197039454409, 'recall': 0.6627218934911243, 'f1-score': 0.6472973691092307, 'macro_f1-score': 0.37580327488265175, 'balanced_accuracy': 0.38252826746570745, 'mcc': 0.5514872260583532, 'train_loss': 0.21422343909106523}\n",
      "Epoch 15/20\n"
     ]
    },
    {
     "name": "stderr",
     "output_type": "stream",
     "text": [
      "100%|██████████| 476/476 [03:40<00:00,  2.16it/s]\n"
     ]
    },
    {
     "name": "stdout",
     "output_type": "stream",
     "text": [
      "{'val_loss': 1.9412567531162839, 'val_accuracy': 0.6698224852071006, 'precision': 0.6741341614689994, 'recall': 0.6698224852071006, 'f1-score': 0.6460731643250521, 'macro_f1-score': 0.34511900951613006, 'balanced_accuracy': 0.3685467385484624, 'mcc': 0.5608012593332757, 'train_loss': 0.19713436161214878}\n",
      "Early stopping.\n",
      "\n",
      "[Fold 6]\n",
      "model is bert-base-uncased cnn\n",
      "Epoch 1/20\n"
     ]
    },
    {
     "name": "stderr",
     "output_type": "stream",
     "text": [
      "100%|██████████| 476/476 [03:39<00:00,  2.16it/s]\n"
     ]
    },
    {
     "name": "stdout",
     "output_type": "stream",
     "text": [
      "{'val_loss': 1.4652163487560343, 'val_accuracy': 0.6260355029585799, 'precision': 0.4981873866245713, 'recall': 0.6260355029585799, 'f1-score': 0.5365678285377065, 'macro_f1-score': 0.1328924678083663, 'balanced_accuracy': 0.15221417984536795, 'mcc': 0.47580770334298095, 'train_loss': 1.878832464270732}\n",
      "Epoch 2/20\n"
     ]
    },
    {
     "name": "stderr",
     "output_type": "stream",
     "text": [
      "100%|██████████| 476/476 [03:41<00:00,  2.15it/s]\n"
     ]
    },
    {
     "name": "stdout",
     "output_type": "stream",
     "text": [
      "{'val_loss': 1.2448535572807744, 'val_accuracy': 0.6437869822485207, 'precision': 0.6284111209739958, 'recall': 0.6437869822485207, 'f1-score': 0.5955157044025532, 'macro_f1-score': 0.2142889651341185, 'balanced_accuracy': 0.2068687092857395, 'mcc': 0.5092495294805239, 'train_loss': 1.3213241498510377}\n",
      "Epoch 3/20\n"
     ]
    },
    {
     "name": "stderr",
     "output_type": "stream",
     "text": [
      "100%|██████████| 476/476 [03:42<00:00,  2.14it/s]\n"
     ]
    },
    {
     "name": "stdout",
     "output_type": "stream",
     "text": [
      "{'val_loss': 1.2502929135313574, 'val_accuracy': 0.6627218934911243, 'precision': 0.6040203719093158, 'recall': 0.6627218934911243, 'f1-score': 0.6133186276264607, 'macro_f1-score': 0.23918094177006233, 'balanced_accuracy': 0.2308607270461449, 'mcc': 0.5359000332021326, 'train_loss': 1.0133305518191402}\n",
      "Epoch 4/20\n"
     ]
    },
    {
     "name": "stderr",
     "output_type": "stream",
     "text": [
      "100%|██████████| 476/476 [03:35<00:00,  2.21it/s]\n"
     ]
    },
    {
     "name": "stdout",
     "output_type": "stream",
     "text": [
      "{'val_loss': 1.2080726539188962, 'val_accuracy': 0.6733727810650888, 'precision': 0.6691080510483528, 'recall': 0.6733727810650888, 'f1-score': 0.6523553938426756, 'macro_f1-score': 0.34376939433455794, 'balanced_accuracy': 0.334011401513305, 'mcc': 0.565841273486518, 'train_loss': 0.7781042609238574}\n",
      "Epoch 5/20\n"
     ]
    },
    {
     "name": "stderr",
     "output_type": "stream",
     "text": [
      "100%|██████████| 476/476 [03:41<00:00,  2.15it/s]\n"
     ]
    },
    {
     "name": "stdout",
     "output_type": "stream",
     "text": [
      "{'val_loss': 1.3101260482140307, 'val_accuracy': 0.663905325443787, 'precision': 0.6678535324012121, 'recall': 0.663905325443787, 'f1-score': 0.6417859041002469, 'macro_f1-score': 0.3076869570838254, 'balanced_accuracy': 0.31106217131445274, 'mcc': 0.5499455191797922, 'train_loss': 0.5881915104051098}\n",
      "Epoch 6/20\n"
     ]
    },
    {
     "name": "stderr",
     "output_type": "stream",
     "text": [
      "100%|██████████| 476/476 [03:38<00:00,  2.18it/s]\n"
     ]
    },
    {
     "name": "stdout",
     "output_type": "stream",
     "text": [
      "{'val_loss': 1.298497866909459, 'val_accuracy': 0.6923076923076923, 'precision': 0.6775525509319582, 'recall': 0.6923076923076923, 'f1-score': 0.6753177378978621, 'macro_f1-score': 0.36551168973316644, 'balanced_accuracy': 0.36902360254176597, 'mcc': 0.5919237076143181, 'train_loss': 0.463181467769871}\n",
      "Epoch 7/20\n"
     ]
    },
    {
     "name": "stderr",
     "output_type": "stream",
     "text": [
      "100%|██████████| 476/476 [03:40<00:00,  2.16it/s]\n"
     ]
    },
    {
     "name": "stdout",
     "output_type": "stream",
     "text": [
      "{'val_loss': 1.387174981944966, 'val_accuracy': 0.6875739644970414, 'precision': 0.7027884568924658, 'recall': 0.6875739644970414, 'f1-score': 0.6726411209674977, 'macro_f1-score': 0.3655708334634562, 'balanced_accuracy': 0.3523381865864771, 'mcc': 0.5843601082227956, 'train_loss': 0.3686858343523966}\n",
      "Epoch 8/20\n"
     ]
    },
    {
     "name": "stderr",
     "output_type": "stream",
     "text": [
      "100%|██████████| 476/476 [03:40<00:00,  2.16it/s]\n"
     ]
    },
    {
     "name": "stdout",
     "output_type": "stream",
     "text": [
      "{'val_loss': 1.4307939297748062, 'val_accuracy': 0.6863905325443787, 'precision': 0.7063520842814901, 'recall': 0.6863905325443787, 'f1-score': 0.677926190377598, 'macro_f1-score': 0.40653666873248917, 'balanced_accuracy': 0.41199343738528504, 'mcc': 0.587239191776744, 'train_loss': 0.3011879677993848}\n",
      "Epoch 9/20\n"
     ]
    },
    {
     "name": "stderr",
     "output_type": "stream",
     "text": [
      "100%|██████████| 476/476 [03:41<00:00,  2.15it/s]\n"
     ]
    },
    {
     "name": "stdout",
     "output_type": "stream",
     "text": [
      "{'val_loss': 1.4817414638006463, 'val_accuracy': 0.6757396449704142, 'precision': 0.7002449437686918, 'recall': 0.6757396449704142, 'f1-score': 0.6690916683178483, 'macro_f1-score': 0.38199389147633184, 'balanced_accuracy': 0.3877974727328775, 'mcc': 0.5716386898772303, 'train_loss': 0.2800698185636967}\n",
      "Epoch 10/20\n"
     ]
    },
    {
     "name": "stderr",
     "output_type": "stream",
     "text": [
      "100%|██████████| 476/476 [03:42<00:00,  2.14it/s]\n"
     ]
    },
    {
     "name": "stdout",
     "output_type": "stream",
     "text": [
      "{'val_loss': 1.5716529792209841, 'val_accuracy': 0.6899408284023668, 'precision': 0.6964316586700624, 'recall': 0.6899408284023668, 'f1-score': 0.6704162150641733, 'macro_f1-score': 0.39128713172936985, 'balanced_accuracy': 0.38646887354471315, 'mcc': 0.5853405165463662, 'train_loss': 0.25894506019833613}\n",
      "Epoch 11/20\n"
     ]
    },
    {
     "name": "stderr",
     "output_type": "stream",
     "text": [
      "100%|██████████| 476/476 [03:41<00:00,  2.15it/s]\n"
     ]
    },
    {
     "name": "stdout",
     "output_type": "stream",
     "text": [
      "{'val_loss': 1.4791888937635242, 'val_accuracy': 0.7053254437869823, 'precision': 0.7033017370012585, 'recall': 0.7053254437869823, 'f1-score': 0.6861518326104251, 'macro_f1-score': 0.3878575463997765, 'balanced_accuracy': 0.3726847357612309, 'mcc': 0.6105887840684261, 'train_loss': 0.2563491383129183}\n",
      "Early stopping.\n",
      "\n",
      "[Fold 7]\n",
      "model is bert-base-uncased cnn\n",
      "Epoch 1/20\n"
     ]
    },
    {
     "name": "stderr",
     "output_type": "stream",
     "text": [
      "100%|██████████| 476/476 [03:43<00:00,  2.13it/s]\n"
     ]
    },
    {
     "name": "stdout",
     "output_type": "stream",
     "text": [
      "{'val_loss': 1.4519667794119637, 'val_accuracy': 0.6402366863905326, 'precision': 0.5032164030052982, 'recall': 0.6402366863905326, 'f1-score': 0.5536545219075084, 'macro_f1-score': 0.14882088994122525, 'balanced_accuracy': 0.1602494698770038, 'mcc': 0.49711580254096016, 'train_loss': 1.8879656732833685}\n",
      "Epoch 2/20\n"
     ]
    },
    {
     "name": "stderr",
     "output_type": "stream",
     "text": [
      "100%|██████████| 476/476 [03:45<00:00,  2.11it/s]\n"
     ]
    },
    {
     "name": "stdout",
     "output_type": "stream",
     "text": [
      "{'val_loss': 1.2458590994466026, 'val_accuracy': 0.6686390532544378, 'precision': 0.6013385149091882, 'recall': 0.6686390532544378, 'f1-score': 0.6009657327872989, 'macro_f1-score': 0.23637570376311845, 'balanced_accuracy': 0.2503332211104431, 'mcc': 0.5430669470784031, 'train_loss': 1.3188775508594113}\n",
      "Epoch 3/20\n"
     ]
    },
    {
     "name": "stderr",
     "output_type": "stream",
     "text": [
      "100%|██████████| 476/476 [03:44<00:00,  2.12it/s]\n"
     ]
    },
    {
     "name": "stdout",
     "output_type": "stream",
     "text": [
      "{'val_loss': 1.2125284638044969, 'val_accuracy': 0.6899408284023668, 'precision': 0.6462457923070944, 'recall': 0.6899408284023668, 'f1-score': 0.6453912313407956, 'macro_f1-score': 0.3005544159300541, 'balanced_accuracy': 0.30682885904687435, 'mcc': 0.5772308452737219, 'train_loss': 0.9933043261129064}\n",
      "Epoch 4/20\n"
     ]
    },
    {
     "name": "stderr",
     "output_type": "stream",
     "text": [
      "100%|██████████| 476/476 [03:38<00:00,  2.18it/s]\n"
     ]
    },
    {
     "name": "stdout",
     "output_type": "stream",
     "text": [
      "{'val_loss': 1.190202387436381, 'val_accuracy': 0.6828402366863905, 'precision': 0.6480189331634277, 'recall': 0.6828402366863905, 'f1-score': 0.6463575177710871, 'macro_f1-score': 0.31654453195527266, 'balanced_accuracy': 0.3122498461001546, 'mcc': 0.5717139209779565, 'train_loss': 0.7406933671098297}\n",
      "Epoch 5/20\n"
     ]
    },
    {
     "name": "stderr",
     "output_type": "stream",
     "text": [
      "100%|██████████| 476/476 [03:38<00:00,  2.17it/s]\n"
     ]
    },
    {
     "name": "stdout",
     "output_type": "stream",
     "text": [
      "{'val_loss': 1.2123788668299622, 'val_accuracy': 0.6603550295857988, 'precision': 0.6769099563224423, 'recall': 0.6603550295857988, 'f1-score': 0.6556677053726906, 'macro_f1-score': 0.3575200533793497, 'balanced_accuracy': 0.36446081629857957, 'mcc': 0.556159336434523, 'train_loss': 0.5490354866086811}\n",
      "Epoch 6/20\n"
     ]
    },
    {
     "name": "stderr",
     "output_type": "stream",
     "text": [
      "100%|██████████| 476/476 [03:39<00:00,  2.17it/s]\n"
     ]
    },
    {
     "name": "stdout",
     "output_type": "stream",
     "text": [
      "{'val_loss': 1.3163294943998445, 'val_accuracy': 0.6946745562130178, 'precision': 0.6846398222548029, 'recall': 0.6946745562130178, 'f1-score': 0.6723076865650698, 'macro_f1-score': 0.4063685794744393, 'balanced_accuracy': 0.3997781422606392, 'mcc': 0.5910962822042101, 'train_loss': 0.40947873617459807}\n",
      "Epoch 7/20\n"
     ]
    },
    {
     "name": "stderr",
     "output_type": "stream",
     "text": [
      "100%|██████████| 476/476 [03:38<00:00,  2.17it/s]\n"
     ]
    },
    {
     "name": "stdout",
     "output_type": "stream",
     "text": [
      "{'val_loss': 1.336233154782709, 'val_accuracy': 0.6781065088757396, 'precision': 0.7016062577268056, 'recall': 0.6781065088757396, 'f1-score': 0.6710834834442323, 'macro_f1-score': 0.438737117261365, 'balanced_accuracy': 0.4591290570453081, 'mcc': 0.5801116284724903, 'train_loss': 0.34311248890922535}\n",
      "Epoch 8/20\n"
     ]
    },
    {
     "name": "stderr",
     "output_type": "stream",
     "text": [
      "100%|██████████| 476/476 [03:38<00:00,  2.18it/s]\n"
     ]
    },
    {
     "name": "stdout",
     "output_type": "stream",
     "text": [
      "{'val_loss': 1.4031710023025297, 'val_accuracy': 0.6662721893491125, 'precision': 0.6868877239070215, 'recall': 0.6662721893491125, 'f1-score': 0.6564112369639958, 'macro_f1-score': 0.4287576277380756, 'balanced_accuracy': 0.4300653026797, 'mcc': 0.5593098285092911, 'train_loss': 0.3042588815476526}\n",
      "Epoch 9/20\n"
     ]
    },
    {
     "name": "stderr",
     "output_type": "stream",
     "text": [
      "100%|██████████| 476/476 [03:35<00:00,  2.21it/s]\n"
     ]
    },
    {
     "name": "stdout",
     "output_type": "stream",
     "text": [
      "{'val_loss': 1.527611548608204, 'val_accuracy': 0.6804733727810651, 'precision': 0.6810704908389877, 'recall': 0.6804733727810651, 'f1-score': 0.6692548816293923, 'macro_f1-score': 0.38036409510583236, 'balanced_accuracy': 0.3814627327404748, 'mcc': 0.5742723510528783, 'train_loss': 0.2676277669467533}\n",
      "Epoch 10/20\n"
     ]
    },
    {
     "name": "stderr",
     "output_type": "stream",
     "text": [
      "100%|██████████| 476/476 [03:38<00:00,  2.18it/s]\n"
     ]
    },
    {
     "name": "stdout",
     "output_type": "stream",
     "text": [
      "{'val_loss': 1.5896088042349186, 'val_accuracy': 0.6497041420118344, 'precision': 0.676959848507594, 'recall': 0.6497041420118344, 'f1-score': 0.6442315424279289, 'macro_f1-score': 0.4016593615579788, 'balanced_accuracy': 0.41350795284261915, 'mcc': 0.5423841201152781, 'train_loss': 0.2616341514688987}\n",
      "Early stopping.\n",
      "\n",
      "[Fold 8]\n",
      "model is bert-base-uncased cnn\n",
      "Epoch 1/20\n"
     ]
    },
    {
     "name": "stderr",
     "output_type": "stream",
     "text": [
      "100%|██████████| 476/476 [03:42<00:00,  2.14it/s]\n"
     ]
    },
    {
     "name": "stdout",
     "output_type": "stream",
     "text": [
      "{'val_loss': 1.6246362710898776, 'val_accuracy': 0.5846153846153846, 'precision': 0.5506939005096927, 'recall': 0.5846153846153846, 'f1-score': 0.5475060261550593, 'macro_f1-score': 0.12399152864647003, 'balanced_accuracy': 0.14935426862601178, 'mcc': 0.4537653439025887, 'train_loss': 1.9665590854001647}\n",
      "Epoch 2/20\n"
     ]
    },
    {
     "name": "stderr",
     "output_type": "stream",
     "text": [
      "100%|██████████| 476/476 [03:43<00:00,  2.13it/s]\n"
     ]
    },
    {
     "name": "stdout",
     "output_type": "stream",
     "text": [
      "{'val_loss': 1.2559868322228485, 'val_accuracy': 0.6615384615384615, 'precision': 0.5759019462168425, 'recall': 0.6615384615384615, 'f1-score': 0.6014705317408137, 'macro_f1-score': 0.2186363731361444, 'balanced_accuracy': 0.22037453020382933, 'mcc': 0.5346933440945298, 'train_loss': 1.4003799500084724}\n",
      "Epoch 3/20\n"
     ]
    },
    {
     "name": "stderr",
     "output_type": "stream",
     "text": [
      "100%|██████████| 476/476 [03:36<00:00,  2.20it/s]\n"
     ]
    },
    {
     "name": "stdout",
     "output_type": "stream",
     "text": [
      "{'val_loss': 1.2482090620499737, 'val_accuracy': 0.6745562130177515, 'precision': 0.6093527614827694, 'recall': 0.6745562130177515, 'f1-score': 0.6174066594561414, 'macro_f1-score': 0.23752359510340668, 'balanced_accuracy': 0.22748164210836339, 'mcc': 0.5498300750002227, 'train_loss': 1.0604204334506468}\n",
      "Epoch 4/20\n"
     ]
    },
    {
     "name": "stderr",
     "output_type": "stream",
     "text": [
      "100%|██████████| 476/476 [03:37<00:00,  2.19it/s]\n"
     ]
    },
    {
     "name": "stdout",
     "output_type": "stream",
     "text": [
      "{'val_loss': 1.1927485505364976, 'val_accuracy': 0.6733727810650888, 'precision': 0.6651205099317568, 'recall': 0.6733727810650888, 'f1-score': 0.6591868406252585, 'macro_f1-score': 0.3379148210451119, 'balanced_accuracy': 0.3409809366565244, 'mcc': 0.5681667839825134, 'train_loss': 0.7938702837133608}\n",
      "Epoch 5/20\n"
     ]
    },
    {
     "name": "stderr",
     "output_type": "stream",
     "text": [
      "100%|██████████| 476/476 [03:37<00:00,  2.19it/s]\n"
     ]
    },
    {
     "name": "stdout",
     "output_type": "stream",
     "text": [
      "{'val_loss': 1.2193490660415505, 'val_accuracy': 0.6840236686390533, 'precision': 0.6913940768653847, 'recall': 0.6840236686390533, 'f1-score': 0.6781516587803279, 'macro_f1-score': 0.38410898426190876, 'balanced_accuracy': 0.3930744841641576, 'mcc': 0.5890759706982607, 'train_loss': 0.5883815557296787}\n",
      "Epoch 6/20\n"
     ]
    },
    {
     "name": "stderr",
     "output_type": "stream",
     "text": [
      "100%|██████████| 476/476 [03:36<00:00,  2.20it/s]\n"
     ]
    },
    {
     "name": "stdout",
     "output_type": "stream",
     "text": [
      "{'val_loss': 1.2658754973760191, 'val_accuracy': 0.676923076923077, 'precision': 0.6761984890530415, 'recall': 0.676923076923077, 'f1-score': 0.6603483105525126, 'macro_f1-score': 0.3839791615814346, 'balanced_accuracy': 0.3822128845399835, 'mcc': 0.5778178620397271, 'train_loss': 0.4668443706747489}\n",
      "Epoch 7/20\n"
     ]
    },
    {
     "name": "stderr",
     "output_type": "stream",
     "text": [
      "100%|██████████| 476/476 [03:35<00:00,  2.21it/s]\n"
     ]
    },
    {
     "name": "stdout",
     "output_type": "stream",
     "text": [
      "{'val_loss': 1.3563706666793462, 'val_accuracy': 0.6899408284023668, 'precision': 0.6926901781385122, 'recall': 0.6899408284023668, 'f1-score': 0.6774360740960834, 'macro_f1-score': 0.43104462428493756, 'balanced_accuracy': 0.43698231184842695, 'mcc': 0.5934036217936753, 'train_loss': 0.3566879799722561}\n",
      "Epoch 8/20\n"
     ]
    },
    {
     "name": "stderr",
     "output_type": "stream",
     "text": [
      "100%|██████████| 476/476 [03:36<00:00,  2.19it/s]\n"
     ]
    },
    {
     "name": "stdout",
     "output_type": "stream",
     "text": [
      "{'val_loss': 1.3965047176154155, 'val_accuracy': 0.6982248520710059, 'precision': 0.6840723294942487, 'recall': 0.6982248520710059, 'f1-score': 0.6795946283283907, 'macro_f1-score': 0.4239402375798163, 'balanced_accuracy': 0.4131536076845846, 'mcc': 0.5992541568890569, 'train_loss': 0.3131834224116902}\n",
      "Epoch 9/20\n"
     ]
    },
    {
     "name": "stderr",
     "output_type": "stream",
     "text": [
      "100%|██████████| 476/476 [03:37<00:00,  2.19it/s]\n"
     ]
    },
    {
     "name": "stdout",
     "output_type": "stream",
     "text": [
      "{'val_loss': 1.5897533376261872, 'val_accuracy': 0.6911242603550296, 'precision': 0.6840073742553583, 'recall': 0.6911242603550296, 'f1-score': 0.6721054662668611, 'macro_f1-score': 0.409980499590057, 'balanced_accuracy': 0.3818051816417457, 'mcc': 0.5863039555141007, 'train_loss': 0.28162399588637993}\n",
      "Epoch 10/20\n"
     ]
    },
    {
     "name": "stderr",
     "output_type": "stream",
     "text": [
      "100%|██████████| 476/476 [03:35<00:00,  2.20it/s]\n"
     ]
    },
    {
     "name": "stdout",
     "output_type": "stream",
     "text": [
      "{'val_loss': 1.518408771393434, 'val_accuracy': 0.6710059171597633, 'precision': 0.6775134290091911, 'recall': 0.6710059171597633, 'f1-score': 0.6616822963775513, 'macro_f1-score': 0.38972233623527536, 'balanced_accuracy': 0.40714234074950745, 'mcc': 0.5661301844637194, 'train_loss': 0.27189405050868276}\n",
      "Early stopping.\n",
      "\n",
      "[Fold 9]\n",
      "model is bert-base-uncased cnn\n",
      "Epoch 1/20\n"
     ]
    },
    {
     "name": "stderr",
     "output_type": "stream",
     "text": [
      "100%|██████████| 476/476 [03:36<00:00,  2.20it/s]\n"
     ]
    },
    {
     "name": "stdout",
     "output_type": "stream",
     "text": [
      "{'val_loss': 1.5231371420734334, 'val_accuracy': 0.6082840236686391, 'precision': 0.5192496653277502, 'recall': 0.6082840236686391, 'f1-score': 0.541653970828758, 'macro_f1-score': 0.13909043113620365, 'balanced_accuracy': 0.14798407313597772, 'mcc': 0.4519355184452451, 'train_loss': 1.8828156264264042}\n",
      "Epoch 2/20\n"
     ]
    },
    {
     "name": "stderr",
     "output_type": "stream",
     "text": [
      "100%|██████████| 476/476 [03:36<00:00,  2.20it/s]\n"
     ]
    },
    {
     "name": "stdout",
     "output_type": "stream",
     "text": [
      "{'val_loss': 1.3554420493683725, 'val_accuracy': 0.6295857988165681, 'precision': 0.5907044879720734, 'recall': 0.6295857988165681, 'f1-score': 0.5840686291850371, 'macro_f1-score': 0.19334803718211438, 'balanced_accuracy': 0.20217063655684947, 'mcc': 0.4918047342563614, 'train_loss': 1.3161334169386816}\n",
      "Epoch 3/20\n"
     ]
    },
    {
     "name": "stderr",
     "output_type": "stream",
     "text": [
      "100%|██████████| 476/476 [03:37<00:00,  2.19it/s]\n"
     ]
    },
    {
     "name": "stdout",
     "output_type": "stream",
     "text": [
      "{'val_loss': 1.1789916500730335, 'val_accuracy': 0.6994082840236686, 'precision': 0.6561688992906145, 'recall': 0.6994082840236686, 'f1-score': 0.6669419042363685, 'macro_f1-score': 0.3117792460989475, 'balanced_accuracy': 0.3147603318846829, 'mcc': 0.5934338361705225, 'train_loss': 0.9974115878155753}\n",
      "Epoch 4/20\n"
     ]
    },
    {
     "name": "stderr",
     "output_type": "stream",
     "text": [
      "100%|██████████| 476/476 [03:36<00:00,  2.20it/s]\n"
     ]
    },
    {
     "name": "stdout",
     "output_type": "stream",
     "text": [
      "{'val_loss': 1.245722453549223, 'val_accuracy': 0.6781065088757396, 'precision': 0.6728202809602164, 'recall': 0.6781065088757396, 'f1-score': 0.6597232306455725, 'macro_f1-score': 0.3178062491734923, 'balanced_accuracy': 0.32907452446341046, 'mcc': 0.5766534072329029, 'train_loss': 0.7608819501865812}\n",
      "Epoch 5/20\n"
     ]
    },
    {
     "name": "stderr",
     "output_type": "stream",
     "text": [
      "100%|██████████| 476/476 [03:37<00:00,  2.19it/s]\n"
     ]
    },
    {
     "name": "stdout",
     "output_type": "stream",
     "text": [
      "{'val_loss': 1.2706005044703215, 'val_accuracy': 0.6816568047337278, 'precision': 0.6808028487296867, 'recall': 0.6816568047337278, 'f1-score': 0.6669441752742039, 'macro_f1-score': 0.3651596047993761, 'balanced_accuracy': 0.367013064187536, 'mcc': 0.5841081255018962, 'train_loss': 0.5851927032115078}\n",
      "Epoch 6/20\n"
     ]
    },
    {
     "name": "stderr",
     "output_type": "stream",
     "text": [
      "100%|██████████| 476/476 [03:37<00:00,  2.19it/s]\n"
     ]
    },
    {
     "name": "stdout",
     "output_type": "stream",
     "text": [
      "{'val_loss': 1.2487818413185623, 'val_accuracy': 0.7183431952662722, 'precision': 0.7084027263351518, 'recall': 0.7183431952662722, 'f1-score': 0.7024189961370338, 'macro_f1-score': 0.40274603307888746, 'balanced_accuracy': 0.4197104392662918, 'mcc': 0.6304256601871051, 'train_loss': 0.4404311589740154}\n",
      "Epoch 7/20\n"
     ]
    },
    {
     "name": "stderr",
     "output_type": "stream",
     "text": [
      "100%|██████████| 476/476 [03:37<00:00,  2.19it/s]\n"
     ]
    },
    {
     "name": "stdout",
     "output_type": "stream",
     "text": [
      "{'val_loss': 1.3537642460949015, 'val_accuracy': 0.7017751479289941, 'precision': 0.7157066642897523, 'recall': 0.7017751479289941, 'f1-score': 0.6915070638457025, 'macro_f1-score': 0.4094705173525658, 'balanced_accuracy': 0.4166526737939888, 'mcc': 0.6046921584145225, 'train_loss': 0.35844476893544197}\n",
      "Epoch 8/20\n"
     ]
    },
    {
     "name": "stderr",
     "output_type": "stream",
     "text": [
      "100%|██████████| 476/476 [03:36<00:00,  2.20it/s]\n"
     ]
    },
    {
     "name": "stdout",
     "output_type": "stream",
     "text": [
      "{'val_loss': 1.476439302260021, 'val_accuracy': 0.7005917159763314, 'precision': 0.6651924762286702, 'recall': 0.7005917159763314, 'f1-score': 0.67418880150062, 'macro_f1-score': 0.3625192799731989, 'balanced_accuracy': 0.3436063559178246, 'mcc': 0.594497243891723, 'train_loss': 0.31867696781067506}\n",
      "Epoch 9/20\n"
     ]
    },
    {
     "name": "stderr",
     "output_type": "stream",
     "text": [
      "100%|██████████| 476/476 [03:36<00:00,  2.20it/s]\n"
     ]
    },
    {
     "name": "stdout",
     "output_type": "stream",
     "text": [
      "{'val_loss': 1.5275285480157383, 'val_accuracy': 0.6923076923076923, 'precision': 0.7074817033347763, 'recall': 0.6923076923076923, 'f1-score': 0.6845323078876393, 'macro_f1-score': 0.4235767949150935, 'balanced_accuracy': 0.43161618649461136, 'mcc': 0.5992150551623506, 'train_loss': 0.27791585889449266}\n",
      "Epoch 10/20\n"
     ]
    },
    {
     "name": "stderr",
     "output_type": "stream",
     "text": [
      "100%|██████████| 476/476 [03:38<00:00,  2.18it/s]\n"
     ]
    },
    {
     "name": "stdout",
     "output_type": "stream",
     "text": [
      "{'val_loss': 1.5283241226988018, 'val_accuracy': 0.6875739644970414, 'precision': 0.6782774329725856, 'recall': 0.6875739644970414, 'f1-score': 0.6751374981158078, 'macro_f1-score': 0.3697904636786816, 'balanced_accuracy': 0.3742204861572054, 'mcc': 0.5867600339387662, 'train_loss': 0.268631086166275}\n",
      "Epoch 11/20\n"
     ]
    },
    {
     "name": "stderr",
     "output_type": "stream",
     "text": [
      "100%|██████████| 476/476 [03:39<00:00,  2.17it/s]\n"
     ]
    },
    {
     "name": "stdout",
     "output_type": "stream",
     "text": [
      "{'val_loss': 1.562033989519443, 'val_accuracy': 0.6970414201183432, 'precision': 0.6817832353896975, 'recall': 0.6970414201183432, 'f1-score': 0.6681631760461622, 'macro_f1-score': 0.3626149794268048, 'balanced_accuracy': 0.33690434610369846, 'mcc': 0.5868566221136131, 'train_loss': 0.24315584247575744}\n",
      "Epoch 12/20\n"
     ]
    },
    {
     "name": "stderr",
     "output_type": "stream",
     "text": [
      "100%|██████████| 476/476 [03:36<00:00,  2.19it/s]\n"
     ]
    },
    {
     "name": "stdout",
     "output_type": "stream",
     "text": [
      "{'val_loss': 1.6698026212881196, 'val_accuracy': 0.676923076923077, 'precision': 0.6943159569532245, 'recall': 0.676923076923077, 'f1-score': 0.6727403183786049, 'macro_f1-score': 0.3999391401672632, 'balanced_accuracy': 0.40914000922225874, 'mcc': 0.5826283774471366, 'train_loss': 0.2234743725559322}\n",
      "Early stopping.\n",
      "\n",
      "[Fold 10]\n",
      "model is bert-base-uncased cnn\n",
      "Epoch 1/20\n"
     ]
    },
    {
     "name": "stderr",
     "output_type": "stream",
     "text": [
      "100%|██████████| 476/476 [03:38<00:00,  2.18it/s]\n"
     ]
    },
    {
     "name": "stdout",
     "output_type": "stream",
     "text": [
      "{'val_loss': 1.4832844779176533, 'val_accuracy': 0.6224852071005917, 'precision': 0.4629324434654972, 'recall': 0.6224852071005917, 'f1-score': 0.5248559972612121, 'macro_f1-score': 0.11589854841988523, 'balanced_accuracy': 0.13316226554424898, 'mcc': 0.46779027818506097, 'train_loss': 1.9274455013395357}\n",
      "Epoch 2/20\n"
     ]
    },
    {
     "name": "stderr",
     "output_type": "stream",
     "text": [
      "100%|██████████| 476/476 [03:35<00:00,  2.21it/s]\n"
     ]
    },
    {
     "name": "stdout",
     "output_type": "stream",
     "text": [
      "{'val_loss': 1.300342707701449, 'val_accuracy': 0.6449704142011834, 'precision': 0.5795717373010741, 'recall': 0.6449704142011834, 'f1-score': 0.5862543636712058, 'macro_f1-score': 0.19826124389550814, 'balanced_accuracy': 0.21132653736803084, 'mcc': 0.5075137553357914, 'train_loss': 1.3326102346807969}\n",
      "Epoch 3/20\n"
     ]
    },
    {
     "name": "stderr",
     "output_type": "stream",
     "text": [
      "100%|██████████| 476/476 [03:38<00:00,  2.17it/s]\n"
     ]
    },
    {
     "name": "stdout",
     "output_type": "stream",
     "text": [
      "{'val_loss': 1.2025292571985498, 'val_accuracy': 0.6887573964497041, 'precision': 0.6330832201565736, 'recall': 0.6887573964497041, 'f1-score': 0.6431448046513933, 'macro_f1-score': 0.2749637576805854, 'balanced_accuracy': 0.26768166620595196, 'mcc': 0.5744619427778319, 'train_loss': 1.018483697992413}\n",
      "Epoch 4/20\n"
     ]
    },
    {
     "name": "stderr",
     "output_type": "stream",
     "text": [
      "100%|██████████| 476/476 [03:38<00:00,  2.18it/s]\n"
     ]
    },
    {
     "name": "stdout",
     "output_type": "stream",
     "text": [
      "{'val_loss': 1.2500273444742527, 'val_accuracy': 0.6840236686390533, 'precision': 0.6512286111826362, 'recall': 0.6840236686390533, 'f1-score': 0.6538254526772425, 'macro_f1-score': 0.2936920821048915, 'balanced_accuracy': 0.302810208000933, 'mcc': 0.5759450610861264, 'train_loss': 0.7688780913458151}\n",
      "Epoch 5/20\n"
     ]
    },
    {
     "name": "stderr",
     "output_type": "stream",
     "text": [
      "100%|██████████| 476/476 [03:34<00:00,  2.22it/s]\n"
     ]
    },
    {
     "name": "stdout",
     "output_type": "stream",
     "text": [
      "{'val_loss': 1.2726765308740005, 'val_accuracy': 0.6946745562130178, 'precision': 0.6881573835607202, 'recall': 0.6946745562130178, 'f1-score': 0.6798360703780286, 'macro_f1-score': 0.33510453076173113, 'balanced_accuracy': 0.34078915272801685, 'mcc': 0.5960457707396043, 'train_loss': 0.5667403159240464}\n",
      "Epoch 6/20\n"
     ]
    },
    {
     "name": "stderr",
     "output_type": "stream",
     "text": [
      "100%|██████████| 476/476 [03:34<00:00,  2.22it/s]\n"
     ]
    },
    {
     "name": "stdout",
     "output_type": "stream",
     "text": [
      "{'val_loss': 1.342100775466775, 'val_accuracy': 0.6875739644970414, 'precision': 0.6720450341002013, 'recall': 0.6875739644970414, 'f1-score': 0.6627741056001906, 'macro_f1-score': 0.34073877080190584, 'balanced_accuracy': 0.32284378369627165, 'mcc': 0.5796926195779194, 'train_loss': 0.44957746349337724}\n",
      "Epoch 7/20\n"
     ]
    },
    {
     "name": "stderr",
     "output_type": "stream",
     "text": [
      "100%|██████████| 476/476 [03:36<00:00,  2.20it/s]\n"
     ]
    },
    {
     "name": "stdout",
     "output_type": "stream",
     "text": [
      "{'val_loss': 1.405005173863105, 'val_accuracy': 0.6875739644970414, 'precision': 0.6766984302601853, 'recall': 0.6875739644970414, 'f1-score': 0.6693360340874578, 'macro_f1-score': 0.4036792143819887, 'balanced_accuracy': 0.3957861044292532, 'mcc': 0.5812312317365514, 'train_loss': 0.34971088384270294}\n",
      "Epoch 8/20\n"
     ]
    },
    {
     "name": "stderr",
     "output_type": "stream",
     "text": [
      "100%|██████████| 476/476 [03:37<00:00,  2.19it/s]\n"
     ]
    },
    {
     "name": "stdout",
     "output_type": "stream",
     "text": [
      "{'val_loss': 1.498863842689766, 'val_accuracy': 0.672189349112426, 'precision': 0.6921781041388321, 'recall': 0.672189349112426, 'f1-score': 0.6668824710621847, 'macro_f1-score': 0.37822146914707583, 'balanced_accuracy': 0.3772622631987999, 'mcc': 0.572372599436447, 'train_loss': 0.3026079333802106}\n",
      "Epoch 9/20\n"
     ]
    },
    {
     "name": "stderr",
     "output_type": "stream",
     "text": [
      "100%|██████████| 476/476 [03:34<00:00,  2.22it/s]\n"
     ]
    },
    {
     "name": "stdout",
     "output_type": "stream",
     "text": [
      "{'val_loss': 1.4907461826531392, 'val_accuracy': 0.6840236686390533, 'precision': 0.6727410208192598, 'recall': 0.6840236686390533, 'f1-score': 0.6615730437194879, 'macro_f1-score': 0.3818674390702085, 'balanced_accuracy': 0.3885068838830956, 'mcc': 0.5753467120178274, 'train_loss': 0.27651171056561547}\n",
      "Epoch 10/20\n"
     ]
    },
    {
     "name": "stderr",
     "output_type": "stream",
     "text": [
      "100%|██████████| 476/476 [03:36<00:00,  2.20it/s]\n"
     ]
    },
    {
     "name": "stdout",
     "output_type": "stream",
     "text": [
      "{'val_loss': 1.6013096076137614, 'val_accuracy': 0.6745562130177515, 'precision': 0.6887936690208537, 'recall': 0.6745562130177515, 'f1-score': 0.6681714451516791, 'macro_f1-score': 0.3864811111800758, 'balanced_accuracy': 0.39823351082118014, 'mcc': 0.572818870847818, 'train_loss': 0.25506148293434383}\n",
      "Early stopping.\n",
      "\n",
      " === bert-base-uncased + cnn + none Final 10-fold Cross-Validation Results ===\n",
      "Total time: 27715.40seconds\n",
      "val_loss: 1.5245\n",
      "val_accuracy: 0.6785\n",
      "precision: 0.6824\n",
      "recall: 0.6785\n",
      "f1-score: 0.6665\n",
      "macro_f1-score: 0.4196\n",
      "balanced_accuracy: 0.4231\n",
      "mcc: 0.5760\n",
      "train_loss: 0.2846\n"
     ]
    }
   ],
   "source": [
    "model_list = [\"bert-base-uncased\"]\n",
    "hybrid_list = [\"cnn\"]\n",
    "resample_list = [\"none\"]\n",
    "\n",
    "for model_name in model_list:\n",
    "    for hybrid_type in hybrid_list:\n",
    "        for resample_method in resample_list:\n",
    "            results = run_kfold_experiment(\n",
    "                X=messages, y=labels, model_name=model_name, hybrid_type=hybrid_type, resample_method=resample_method,\n",
    "                kfold=KFOLD_SPLIT, seed=SEED, epochs=EPOCHS, patience=PATIENCE, max_length=MAX_LENGTH, \n",
    "                batch_size=BATCH_SIZE, lr=LR, weight_decay=WEIGHT_DECAY\n",
    "            )"
   ]
  },
  {
   "cell_type": "code",
   "execution_count": 5,
   "id": "d799ebb4-be3b-4b29-9238-6c2a2f8256ae",
   "metadata": {},
   "outputs": [
    {
     "data": {
      "text/plain": [
       "[{'val_loss': 1.7081713682075716,\n",
       "  'val_accuracy': 0.6678486997635934,\n",
       "  'precision': 0.6905929369840162,\n",
       "  'recall': 0.6678486997635934,\n",
       "  'f1-score': 0.6707780929720646,\n",
       "  'macro_f1-score': 0.46094474241015887,\n",
       "  'balanced_accuracy': 0.4520393796927592,\n",
       "  'mcc': 0.5689580024121148,\n",
       "  'train_loss': 0.21466993890945338},\n",
       " {'val_loss': 1.5407747440742996,\n",
       "  'val_accuracy': 0.6678486997635934,\n",
       "  'precision': 0.6521039475978162,\n",
       "  'recall': 0.6678486997635934,\n",
       "  'f1-score': 0.648673826463373,\n",
       "  'macro_f1-score': 0.38601738549291925,\n",
       "  'balanced_accuracy': 0.3899094398045013,\n",
       "  'mcc': 0.5569196175520386,\n",
       "  'train_loss': 0.25447000198441894},\n",
       " {'val_loss': 1.6049119048523453,\n",
       "  'val_accuracy': 0.6867612293144209,\n",
       "  'precision': 0.6792373388239482,\n",
       "  'recall': 0.6867612293144209,\n",
       "  'f1-score': 0.6757448964479796,\n",
       "  'macro_f1-score': 0.4233157373808043,\n",
       "  'balanced_accuracy': 0.43484807595608144,\n",
       "  'mcc': 0.5889093333824356,\n",
       "  'train_loss': 0.27221391290160163},\n",
       " {'val_loss': 1.5669884417416915,\n",
       "  'val_accuracy': 0.6607565011820331,\n",
       "  'precision': 0.6615816702470613,\n",
       "  'recall': 0.6607565011820331,\n",
       "  'f1-score': 0.6516831454623148,\n",
       "  'macro_f1-score': 0.43919669798109434,\n",
       "  'balanced_accuracy': 0.4405487280197036,\n",
       "  'mcc': 0.5538645377363625,\n",
       "  'train_loss': 0.24634456030042262},\n",
       " {'val_loss': 1.768272729414814,\n",
       "  'val_accuracy': 0.6674556213017752,\n",
       "  'precision': 0.6560979622734796,\n",
       "  'recall': 0.6674556213017752,\n",
       "  'f1-score': 0.6381379821721874,\n",
       "  'macro_f1-score': 0.3828740157756684,\n",
       "  'balanced_accuracy': 0.37849273933232025,\n",
       "  'mcc': 0.5502211581153704,\n",
       "  'train_loss': 0.22920205559143247},\n",
       " {'val_loss': 1.4307939297748062,\n",
       "  'val_accuracy': 0.6863905325443787,\n",
       "  'precision': 0.7063520842814901,\n",
       "  'recall': 0.6863905325443787,\n",
       "  'f1-score': 0.677926190377598,\n",
       "  'macro_f1-score': 0.40653666873248917,\n",
       "  'balanced_accuracy': 0.41199343738528504,\n",
       "  'mcc': 0.587239191776744,\n",
       "  'train_loss': 0.3011879677993848},\n",
       " {'val_loss': 1.336233154782709,\n",
       "  'val_accuracy': 0.6781065088757396,\n",
       "  'precision': 0.7016062577268056,\n",
       "  'recall': 0.6781065088757396,\n",
       "  'f1-score': 0.6710834834442323,\n",
       "  'macro_f1-score': 0.438737117261365,\n",
       "  'balanced_accuracy': 0.4591290570453081,\n",
       "  'mcc': 0.5801116284724903,\n",
       "  'train_loss': 0.34311248890922535},\n",
       " {'val_loss': 1.3563706666793462,\n",
       "  'val_accuracy': 0.6899408284023668,\n",
       "  'precision': 0.6926901781385122,\n",
       "  'recall': 0.6899408284023668,\n",
       "  'f1-score': 0.6774360740960834,\n",
       "  'macro_f1-score': 0.43104462428493756,\n",
       "  'balanced_accuracy': 0.43698231184842695,\n",
       "  'mcc': 0.5934036217936753,\n",
       "  'train_loss': 0.3566879799722561},\n",
       " {'val_loss': 1.5275285480157383,\n",
       "  'val_accuracy': 0.6923076923076923,\n",
       "  'precision': 0.7074817033347763,\n",
       "  'recall': 0.6923076923076923,\n",
       "  'f1-score': 0.6845323078876393,\n",
       "  'macro_f1-score': 0.4235767949150935,\n",
       "  'balanced_accuracy': 0.43161618649461136,\n",
       "  'mcc': 0.5992150551623506,\n",
       "  'train_loss': 0.27791585889449266},\n",
       " {'val_loss': 1.405005173863105,\n",
       "  'val_accuracy': 0.6875739644970414,\n",
       "  'precision': 0.6766984302601853,\n",
       "  'recall': 0.6875739644970414,\n",
       "  'f1-score': 0.6693360340874578,\n",
       "  'macro_f1-score': 0.4036792143819887,\n",
       "  'balanced_accuracy': 0.3957861044292532,\n",
       "  'mcc': 0.5812312317365514,\n",
       "  'train_loss': 0.34971088384270294}]"
      ]
     },
     "execution_count": 5,
     "metadata": {},
     "output_type": "execute_result"
    }
   ],
   "source": [
    "results"
   ]
  }
 ],
 "metadata": {
  "kernelspec": {
   "display_name": "Python 3 (ipykernel)",
   "language": "python",
   "name": "python3"
  },
  "language_info": {
   "codemirror_mode": {
    "name": "ipython",
    "version": 3
   },
   "file_extension": ".py",
   "mimetype": "text/x-python",
   "name": "python",
   "nbconvert_exporter": "python",
   "pygments_lexer": "ipython3",
   "version": "3.11.9"
  }
 },
 "nbformat": 4,
 "nbformat_minor": 5
}
