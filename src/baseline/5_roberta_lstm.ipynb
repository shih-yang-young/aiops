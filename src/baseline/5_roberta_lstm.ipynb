{
 "cells": [
  {
   "cell_type": "code",
   "execution_count": 9,
   "id": "2e76aa66-729a-4bf9-98b9-61d8114e9f3a",
   "metadata": {},
   "outputs": [
    {
     "data": {
      "text/html": [
       "<div>\n",
       "<style scoped>\n",
       "    .dataframe tbody tr th:only-of-type {\n",
       "        vertical-align: middle;\n",
       "    }\n",
       "\n",
       "    .dataframe tbody tr th {\n",
       "        vertical-align: top;\n",
       "    }\n",
       "\n",
       "    .dataframe thead th {\n",
       "        text-align: right;\n",
       "    }\n",
       "</style>\n",
       "<table border=\"1\" class=\"dataframe\">\n",
       "  <thead>\n",
       "    <tr style=\"text-align: right;\">\n",
       "      <th></th>\n",
       "      <th>Inbound Message</th>\n",
       "      <th>Label</th>\n",
       "    </tr>\n",
       "  </thead>\n",
       "  <tbody>\n",
       "    <tr>\n",
       "      <th>0</th>\n",
       "      <td>login issue verified user details employee man...</td>\n",
       "      <td>0</td>\n",
       "    </tr>\n",
       "    <tr>\n",
       "      <th>1</th>\n",
       "      <td>outlook hello team meetings skype meetings etc...</td>\n",
       "      <td>0</td>\n",
       "    </tr>\n",
       "    <tr>\n",
       "      <th>2</th>\n",
       "      <td>cant log vpn cannot log vpn best</td>\n",
       "      <td>0</td>\n",
       "    </tr>\n",
       "    <tr>\n",
       "      <th>3</th>\n",
       "      <td>unable access tool page unable access tool page</td>\n",
       "      <td>0</td>\n",
       "    </tr>\n",
       "    <tr>\n",
       "      <th>4</th>\n",
       "      <td>skype error skype error</td>\n",
       "      <td>0</td>\n",
       "    </tr>\n",
       "    <tr>\n",
       "      <th>...</th>\n",
       "      <td>...</td>\n",
       "      <td>...</td>\n",
       "    </tr>\n",
       "    <tr>\n",
       "      <th>8449</th>\n",
       "      <td>emails coming mail good afternoon receiving em...</td>\n",
       "      <td>22</td>\n",
       "    </tr>\n",
       "    <tr>\n",
       "      <th>8450</th>\n",
       "      <td>telephony software issue telephony software issue</td>\n",
       "      <td>0</td>\n",
       "    </tr>\n",
       "    <tr>\n",
       "      <th>8451</th>\n",
       "      <td>vip windows password reset tifpdchb pedxruyf v...</td>\n",
       "      <td>0</td>\n",
       "    </tr>\n",
       "    <tr>\n",
       "      <th>8452</th>\n",
       "      <td>machine est funcionando unable access machine ...</td>\n",
       "      <td>44</td>\n",
       "    </tr>\n",
       "    <tr>\n",
       "      <th>8453</th>\n",
       "      <td>mehreren lassen sich verschiedene prgramdntyme...</td>\n",
       "      <td>49</td>\n",
       "    </tr>\n",
       "  </tbody>\n",
       "</table>\n",
       "<p>8454 rows × 2 columns</p>\n",
       "</div>"
      ],
      "text/plain": [
       "                                        Inbound Message  Label\n",
       "0     login issue verified user details employee man...      0\n",
       "1     outlook hello team meetings skype meetings etc...      0\n",
       "2                      cant log vpn cannot log vpn best      0\n",
       "3       unable access tool page unable access tool page      0\n",
       "4                               skype error skype error      0\n",
       "...                                                 ...    ...\n",
       "8449  emails coming mail good afternoon receiving em...     22\n",
       "8450  telephony software issue telephony software issue      0\n",
       "8451  vip windows password reset tifpdchb pedxruyf v...      0\n",
       "8452  machine est funcionando unable access machine ...     44\n",
       "8453  mehreren lassen sich verschiedene prgramdntyme...     49\n",
       "\n",
       "[8454 rows x 2 columns]"
      ]
     },
     "execution_count": 9,
     "metadata": {},
     "output_type": "execute_result"
    }
   ],
   "source": [
    "import pandas as pd\n",
    "data_path = \"../../data/open_source_8454_combine_short_description.csv\"\n",
    "df = pd.read_csv(data_path)\n",
    "# df_label_0 = df[df[\"Label\"] == 0]\n",
    "# df_label_0_to_drop = df_label_0.sample(n=3000, random_state=42)\n",
    "# df = df.drop(df_label_0_to_drop.index)\n",
    "df"
   ]
  },
  {
   "cell_type": "markdown",
   "id": "e79be804-d1e3-463a-824f-d4765544e493",
   "metadata": {},
   "source": [
    "# 十折驗證法"
   ]
  },
  {
   "cell_type": "code",
   "execution_count": 10,
   "id": "7e6a5029-3898-4bab-8d6c-bfd1a3694153",
   "metadata": {},
   "outputs": [
    {
     "name": "stdout",
     "output_type": "stream",
     "text": [
      "Using device: cuda\n",
      "CUDA Available: True\n",
      "CUDA Device: NVIDIA GeForce RTX 3050 6GB Laptop GPU\n",
      "Current GPU Memory Allocated: 1.528675328 GB\n",
      "Current GPU Memory Cached: 3.634364416 GB\n"
     ]
    }
   ],
   "source": [
    "import torch\n",
    "device = torch.device('cuda') if torch.cuda.is_available() else torch.device('cpu')\n",
    "print(f\"Using device: {device}\") \n",
    "print(f\"CUDA Available: {torch.cuda.is_available()}\")\n",
    "print(f\"CUDA Device: {torch.cuda.get_device_name(0)}\")\n",
    "print(f\"Current GPU Memory Allocated: {torch.cuda.memory_allocated() / 1e9} GB\")\n",
    "print(f\"Current GPU Memory Cached: {torch.cuda.memory_reserved() / 1e9} GB\")"
   ]
  },
  {
   "cell_type": "code",
   "execution_count": 11,
   "id": "833a0227-7775-4659-a98c-48c3fbdc9db9",
   "metadata": {},
   "outputs": [],
   "source": [
    "from torch.utils.data import Dataset\n",
    "class CustomDataset(Dataset):\n",
    "    def __init__(self, messages, labels, tokenizer, max_length):\n",
    "        self.messages = messages\n",
    "        self.labels = labels\n",
    "        self.tokenizer = tokenizer\n",
    "        self.max_length = max_length\n",
    "\n",
    "    def __len__(self):\n",
    "        return len(self.messages)\n",
    "\n",
    "    def __getitem__(self, idx):\n",
    "        message = str(self.messages[idx])\n",
    "        label = self.labels[idx]\n",
    "        \n",
    "        encoding = self.tokenizer.encode_plus(\n",
    "            message,\n",
    "            max_length=self.max_length,\n",
    "            add_special_tokens=True,\n",
    "            padding='max_length',\n",
    "            truncation=True,\n",
    "            return_attention_mask=True,\n",
    "            return_tensors='pt'\n",
    "        )\n",
    "        \n",
    "        return {\n",
    "            'input_ids': encoding['input_ids'].flatten(),\n",
    "            'attention_mask': encoding['attention_mask'].flatten(),\n",
    "            'labels': torch.tensor(label, dtype=torch.long)\n",
    "        }"
   ]
  },
  {
   "cell_type": "code",
   "execution_count": 12,
   "id": "985bf187-a1b5-4882-9e52-2cbc0188e8a6",
   "metadata": {},
   "outputs": [],
   "source": [
    "# 定義訓練與評估函數\n",
    "def train_epoch(model, dataloader, optimizer, criterion):\n",
    "    model.train()\n",
    "    total_loss = 0\n",
    "\n",
    "    for batch in tqdm(dataloader):\n",
    "        optimizer.zero_grad()\n",
    "\n",
    "        input_ids = batch['input_ids'].to(device)\n",
    "        attention_mask = batch['attention_mask'].to(device)\n",
    "        labels = batch['labels'].to(device)\n",
    "\n",
    "        outputs = model(input_ids=input_ids, attention_mask=attention_mask, labels=labels)\n",
    "        loss = outputs.loss\n",
    "        total_loss += loss.item()\n",
    "\n",
    "        loss.backward()\n",
    "        optimizer.step()\n",
    "    \n",
    "    return total_loss / len(dataloader)"
   ]
  },
  {
   "cell_type": "code",
   "execution_count": 13,
   "id": "7dceb8a1-edf1-42fe-ac48-dc84ed4709cf",
   "metadata": {},
   "outputs": [],
   "source": [
    "from sklearn.metrics import precision_score, recall_score, f1_score, balanced_accuracy_score, matthews_corrcoef\n",
    "from sklearn.preprocessing import label_binarize\n",
    "import numpy as np\n",
    "import torch\n",
    "\n",
    "def eval_model(model, dataloader, criterion, num_labels):\n",
    "    model.eval()\n",
    "    total_loss = 0\n",
    "    all_labels = []\n",
    "    all_preds = []\n",
    "    all_probs = []\n",
    "    \n",
    "    with torch.no_grad():\n",
    "        for batch in dataloader:\n",
    "            input_ids = batch['input_ids'].to(device)\n",
    "            attention_mask = batch['attention_mask'].to(device)\n",
    "            labels = batch['labels'].to(device)\n",
    "\n",
    "            outputs = model(input_ids=input_ids, attention_mask=attention_mask)\n",
    "            logits = outputs.logits\n",
    "            loss = criterion(logits, labels)\n",
    "            total_loss += loss.item()\n",
    "\n",
    "            probs = torch.softmax(logits, dim=1)\n",
    "            _, preds = torch.max(logits, dim=1)\n",
    "\n",
    "            all_labels.extend(labels.cpu().numpy())\n",
    "            all_preds.extend(preds.cpu().numpy())\n",
    "            all_probs.extend(probs.cpu().numpy())\n",
    "\n",
    "    val_loss = total_loss / len(dataloader)\n",
    "    val_accuracy = np.mean(np.array(all_preds) == np.array(all_labels))\n",
    "    precision = precision_score(all_labels, all_preds, average='weighted', zero_division=0)\n",
    "    recall = recall_score(all_labels, all_preds, average='weighted', zero_division=0)\n",
    "    f1 = f1_score(all_labels, all_preds, average='weighted', zero_division=0)\n",
    "    macro_f1 = f1_score(all_labels, all_preds, average='macro', zero_division=0)\n",
    "    balanced_acc = balanced_accuracy_score(all_labels, all_preds)\n",
    "    mcc = matthews_corrcoef(all_labels, all_preds)\n",
    "\n",
    "    return {\n",
    "        \"val_loss\": val_loss,\n",
    "        \"val_accuracy\": val_accuracy,\n",
    "        \"precision\": precision,\n",
    "        \"recall\": recall,\n",
    "        \"f1-score\": f1,\n",
    "        \"macro_f1-score\": macro_f1,\n",
    "        \"balanced_accuracy\": balanced_acc,\n",
    "        \"mcc\": mcc\n",
    "    }"
   ]
  },
  {
   "cell_type": "code",
   "execution_count": 14,
   "id": "f46064b4-998d-4355-b88a-0304636422c5",
   "metadata": {},
   "outputs": [],
   "source": [
    "import torch\n",
    "import torch.nn as nn\n",
    "import torch.nn.functional as F\n",
    "from transformers import RobertaModel, RobertaConfig\n",
    "from transformers.modeling_outputs import SequenceClassifierOutput\n",
    "\n",
    "class RobertaLSTM(nn.Module):\n",
    "    def __init__(self, num_labels=2, hidden_size=768, lstm_hidden_dim=128, num_layers=1, bidirectional=True, dropout_prob=0.1):\n",
    "        super(RobertaLSTM, self).__init__()\n",
    "        \n",
    "        # 載入 RobertaModel (而非 RobertaForSequenceClassification)\n",
    "        self.roberta = RobertaModel.from_pretrained(\"roberta-base\")\n",
    "        \n",
    "        # 設定是否雙向、LSTM hidden 大小\n",
    "        self.lstm_hidden_dim = lstm_hidden_dim\n",
    "        self.num_layers = num_layers\n",
    "        self.bidirectional = bidirectional\n",
    "        \n",
    "        # LSTM 輸入的維度會是 RoBERTa 輸出的 hidden_size (base 預設768)\n",
    "        self.lstm = nn.LSTM(\n",
    "            input_size=hidden_size,\n",
    "            hidden_size=lstm_hidden_dim,\n",
    "            num_layers=num_layers,\n",
    "            batch_first=True,\n",
    "            bidirectional=bidirectional\n",
    "        )\n",
    "        \n",
    "        # dropout\n",
    "        self.dropout = nn.Dropout(dropout_prob)\n",
    "        \n",
    "        # 計算最終線性層的輸入維度\n",
    "        # 如果 LSTM 是雙向 (bidirectional=True)，hidden 維度就會 x2\n",
    "        lstm_output_dim = lstm_hidden_dim * 2 if bidirectional else lstm_hidden_dim\n",
    "        \n",
    "        # 最終輸出 num_labels 個維度，用於做 classification\n",
    "        self.classifier = nn.Linear(lstm_output_dim, num_labels)\n",
    "\n",
    "    def forward(self, input_ids, attention_mask=None, labels=None):\n",
    "        # 1. 先將 input_ids, attention_mask 丟進 RoBERTa，拿到最後一層 hidden states\n",
    "        outputs = self.roberta(\n",
    "            input_ids=input_ids,\n",
    "            attention_mask=attention_mask\n",
    "        )\n",
    "        \n",
    "        # outputs 裡面有:\n",
    "        # - last_hidden_state: [batch_size, sequence_length, hidden_size]\n",
    "        # - pooler_output（如有）\n",
    "        # 我們需要的是最後一層的 hidden states\n",
    "        last_hidden_state = outputs.last_hidden_state  # [B, T, 768]\n",
    "        \n",
    "        # 2. 透過 LSTM 處理\n",
    "        #    lstm_out: [B, T, lstm_hidden_dim * 2（若 bidirectional）]\n",
    "        #    (h_n, c_n): 分別是最終多層 LSTM 的 hidden, cell state\n",
    "        lstm_out, (h_n, c_n) = self.lstm(last_hidden_state)\n",
    "        \n",
    "        # 3. 我們可以取 bidirectional LSTM 的最後一層隱狀態 h_n 來做分類，也可以取最後 time step 的輸出等等\n",
    "        #    h_n shape = [num_layers * num_directions, batch_size, lstm_hidden_dim]\n",
    "        #    通常若是雙向且只有1層，最後一層的 forward hidden 在 h_n[-2], backward hidden 在 h_n[-1].\n",
    "        #    這邊示範將 forward hidden 和 backward hidden concat 作為最終表示。\n",
    "        if self.bidirectional:\n",
    "            # 假設只有 1 層 LSTM: h_n[-2] = forward, h_n[-1] = backward\n",
    "            # 若有多層可以再自行調整\n",
    "            forward_hidden = h_n[-2,:,:]  # [batch_size, lstm_hidden_dim]\n",
    "            backward_hidden = h_n[-1,:,:] # [batch_size, lstm_hidden_dim]\n",
    "            final_hidden = torch.cat((forward_hidden, backward_hidden), dim=1)  # [batch_size, lstm_hidden_dim*2]\n",
    "        else:\n",
    "            # 單向 LSTM 直接取 h_n[-1]\n",
    "            final_hidden = h_n[-1,:,:]    # [batch_size, lstm_hidden_dim]\n",
    "        \n",
    "        # dropout\n",
    "        final_hidden = self.dropout(final_hidden)\n",
    "        \n",
    "        # 4. 通過最終線性分類層\n",
    "        logits = self.classifier(final_hidden)  # [batch_size, num_labels]\n",
    "        \n",
    "        # 5. 若有 labels 則計算 loss\n",
    "        loss = None\n",
    "        if labels is not None:\n",
    "            loss_fct = nn.CrossEntropyLoss()\n",
    "            loss = loss_fct(logits, labels)\n",
    "        \n",
    "        # 最後回傳 SequenceClassifierOutput（transformers 的標準輸出格式之一）\n",
    "        return SequenceClassifierOutput(\n",
    "            loss=loss,\n",
    "            logits=logits,\n",
    "            hidden_states=outputs.hidden_states,\n",
    "            attentions=outputs.attentions\n",
    "        )\n"
   ]
  },
  {
   "cell_type": "code",
   "execution_count": 15,
   "id": "0217a72c-db4d-4875-8a00-33f2dae9de5e",
   "metadata": {},
   "outputs": [],
   "source": [
    "from transformers import RobertaTokenizer, RobertaForSequenceClassification\n",
    "from sklearn.model_selection import KFold\n",
    "# 設定參數\n",
    "MAX_LENGTH = 128\n",
    "BATCH_SIZE = 16\n",
    "EPOCHS = 20\n",
    "\n",
    "# 初始化 BERT 的 tokenizer\n",
    "tokenizer = RobertaTokenizer.from_pretrained('roberta-base')\n",
    "\n",
    "# 初始化數據\n",
    "messages = df['Inbound Message'].tolist()\n",
    "labels = df['Label'].tolist()\n",
    "\n",
    "# KFold 初始化\n",
    "kf = KFold(n_splits=10, shuffle=True, random_state=42)"
   ]
  },
  {
   "cell_type": "code",
   "execution_count": 16,
   "id": "ee99c1b8-2fc7-483a-8cb6-d375039c6cb1",
   "metadata": {
    "scrolled": true
   },
   "outputs": [
    {
     "name": "stdout",
     "output_type": "stream",
     "text": [
      "Fold 1\n",
      "Training set label distribution: {0: 3585, 1: 28, 2: 123, 3: 26, 4: 239, 5: 134, 6: 101, 7: 37, 8: 80, 9: 70, 10: 82, 11: 199, 12: 209, 13: 34, 14: 25, 15: 31, 16: 22, 17: 258, 18: 106, 19: 47, 20: 15, 21: 39, 22: 89, 23: 183, 24: 15, 25: 55, 26: 100, 27: 52, 28: 13, 29: 15, 30: 17, 31: 89, 32: 39, 33: 36, 34: 29, 35: 13, 36: 32, 37: 24, 38: 5, 39: 118, 40: 10, 41: 10, 42: 166, 43: 18, 44: 23, 45: 11, 46: 58, 47: 601, 48: 215, 49: 82}\n",
      "Validation set label distribution: {0: 389, 1: 3, 2: 17, 3: 4, 4: 18, 5: 11, 6: 17, 7: 2, 8: 5, 9: 11, 10: 6, 11: 16, 12: 32, 13: 2, 14: 4, 16: 3, 17: 31, 18: 10, 19: 9, 20: 3, 21: 5, 22: 8, 23: 17, 24: 5, 25: 8, 26: 7, 27: 9, 28: 2, 29: 1, 30: 2, 31: 11, 32: 6, 33: 4, 34: 8, 35: 2, 36: 3, 37: 3, 38: 2, 39: 11, 40: 4, 41: 1, 42: 18, 43: 2, 44: 2, 46: 10, 47: 60, 48: 37, 49: 5}\n"
     ]
    },
    {
     "name": "stderr",
     "output_type": "stream",
     "text": [
      "Some weights of RobertaModel were not initialized from the model checkpoint at roberta-base and are newly initialized: ['roberta.pooler.dense.bias', 'roberta.pooler.dense.weight']\n",
      "You should probably TRAIN this model on a down-stream task to be able to use it for predictions and inference.\n"
     ]
    },
    {
     "name": "stdout",
     "output_type": "stream",
     "text": [
      "Epoch 1/20\n"
     ]
    },
    {
     "name": "stderr",
     "output_type": "stream",
     "text": [
      "100%|██████████| 476/476 [03:30<00:00,  2.26it/s]\n"
     ]
    },
    {
     "name": "stdout",
     "output_type": "stream",
     "text": [
      "{'val_loss': 1.9378100071313247, 'val_accuracy': 0.541371158392435, 'precision': 0.31750222961196717, 'recall': 0.541371158392435, 'f1-score': 0.39889517252269974, 'macro_f1-score': 0.046850836712406176, 'balanced_accuracy': 0.062048900007064034, 'mcc': 0.3180048045818436}\n",
      "Epoch 2/20\n"
     ]
    },
    {
     "name": "stderr",
     "output_type": "stream",
     "text": [
      "100%|██████████| 476/476 [03:31<00:00,  2.25it/s]\n"
     ]
    },
    {
     "name": "stdout",
     "output_type": "stream",
     "text": [
      "{'val_loss': 1.792398654065042, 'val_accuracy': 0.5685579196217494, 'precision': 0.40753816596337356, 'recall': 0.5685579196217494, 'f1-score': 0.4640815368722634, 'macro_f1-score': 0.07712201863995326, 'balanced_accuracy': 0.11204867129413242, 'mcc': 0.4059714755033993}\n",
      "Epoch 3/20\n"
     ]
    },
    {
     "name": "stderr",
     "output_type": "stream",
     "text": [
      "100%|██████████| 476/476 [03:32<00:00,  2.24it/s]\n"
     ]
    },
    {
     "name": "stdout",
     "output_type": "stream",
     "text": [
      "{'val_loss': 1.6180806576081042, 'val_accuracy': 0.6016548463356974, 'precision': 0.49072288680236614, 'recall': 0.6016548463356974, 'f1-score': 0.5205515708634629, 'macro_f1-score': 0.11177507264400723, 'balanced_accuracy': 0.1383153729965366, 'mcc': 0.4527356472989258}\n",
      "Epoch 4/20\n"
     ]
    },
    {
     "name": "stderr",
     "output_type": "stream",
     "text": [
      "100%|██████████| 476/476 [03:32<00:00,  2.24it/s]\n"
     ]
    },
    {
     "name": "stdout",
     "output_type": "stream",
     "text": [
      "{'val_loss': 1.5551063204711337, 'val_accuracy': 0.5933806146572104, 'precision': 0.48062085143655964, 'recall': 0.5933806146572104, 'f1-score': 0.5193195568001739, 'macro_f1-score': 0.13579661250773908, 'balanced_accuracy': 0.16277221780502335, 'mcc': 0.44675245922897394}\n",
      "Epoch 5/20\n"
     ]
    },
    {
     "name": "stderr",
     "output_type": "stream",
     "text": [
      "100%|██████████| 476/476 [03:32<00:00,  2.24it/s]\n"
     ]
    },
    {
     "name": "stdout",
     "output_type": "stream",
     "text": [
      "{'val_loss': 1.5127079756754749, 'val_accuracy': 0.6099290780141844, 'precision': 0.5535932510542892, 'recall': 0.6099290780141844, 'f1-score': 0.5596335805039269, 'macro_f1-score': 0.18563576753468533, 'balanced_accuracy': 0.199995541281652, 'mcc': 0.47761232848933965}\n",
      "Epoch 6/20\n"
     ]
    },
    {
     "name": "stderr",
     "output_type": "stream",
     "text": [
      "100%|██████████| 476/476 [03:32<00:00,  2.24it/s]\n"
     ]
    },
    {
     "name": "stdout",
     "output_type": "stream",
     "text": [
      "{'val_loss': 1.502402015452115, 'val_accuracy': 0.6158392434988179, 'precision': 0.5611611266865507, 'recall': 0.6158392434988179, 'f1-score': 0.5682414386693594, 'macro_f1-score': 0.21878407550031445, 'balanced_accuracy': 0.23719471291789973, 'mcc': 0.49061005971597926}\n",
      "Epoch 7/20\n"
     ]
    },
    {
     "name": "stderr",
     "output_type": "stream",
     "text": [
      "100%|██████████| 476/476 [03:32<00:00,  2.24it/s]\n"
     ]
    },
    {
     "name": "stdout",
     "output_type": "stream",
     "text": [
      "{'val_loss': 1.5179165455530275, 'val_accuracy': 0.6016548463356974, 'precision': 0.5433191090662943, 'recall': 0.6016548463356974, 'f1-score': 0.536643586393978, 'macro_f1-score': 0.18487608424693583, 'balanced_accuracy': 0.18140789711743474, 'mcc': 0.44061561115888714}\n",
      "Epoch 8/20\n"
     ]
    },
    {
     "name": "stderr",
     "output_type": "stream",
     "text": [
      "100%|██████████| 476/476 [03:33<00:00,  2.23it/s]\n",
      "D:\\Anaconda3\\envs\\cuda\\Lib\\site-packages\\sklearn\\metrics\\_classification.py:2458: UserWarning: y_pred contains classes not in y_true\n",
      "  warnings.warn(\"y_pred contains classes not in y_true\")\n"
     ]
    },
    {
     "name": "stdout",
     "output_type": "stream",
     "text": [
      "{'val_loss': 1.499260665110822, 'val_accuracy': 0.5910165484633569, 'precision': 0.5480920995721894, 'recall': 0.5910165484633569, 'f1-score': 0.5506469994075696, 'macro_f1-score': 0.22414196515906856, 'balanced_accuracy': 0.2646529202310246, 'mcc': 0.4695568754552826}\n",
      "Epoch 9/20\n"
     ]
    },
    {
     "name": "stderr",
     "output_type": "stream",
     "text": [
      "100%|██████████| 476/476 [03:33<00:00,  2.23it/s]\n",
      "D:\\Anaconda3\\envs\\cuda\\Lib\\site-packages\\sklearn\\metrics\\_classification.py:2458: UserWarning: y_pred contains classes not in y_true\n",
      "  warnings.warn(\"y_pred contains classes not in y_true\")\n"
     ]
    },
    {
     "name": "stdout",
     "output_type": "stream",
     "text": [
      "{'val_loss': 1.4999498275091063, 'val_accuracy': 0.6335697399527187, 'precision': 0.6156280045082545, 'recall': 0.6335697399527187, 'f1-score': 0.5979456676467109, 'macro_f1-score': 0.2581319711504724, 'balanced_accuracy': 0.2752623061805008, 'mcc': 0.5160261146940655}\n",
      "Epoch 10/20\n"
     ]
    },
    {
     "name": "stderr",
     "output_type": "stream",
     "text": [
      "100%|██████████| 476/476 [03:33<00:00,  2.23it/s]\n",
      "D:\\Anaconda3\\envs\\cuda\\Lib\\site-packages\\sklearn\\metrics\\_classification.py:2458: UserWarning: y_pred contains classes not in y_true\n",
      "  warnings.warn(\"y_pred contains classes not in y_true\")\n"
     ]
    },
    {
     "name": "stdout",
     "output_type": "stream",
     "text": [
      "{'val_loss': 1.4725371059381738, 'val_accuracy': 0.607565011820331, 'precision': 0.585844847188901, 'recall': 0.607565011820331, 'f1-score': 0.5770828959618473, 'macro_f1-score': 0.22922140812778743, 'balanced_accuracy': 0.26163605206998014, 'mcc': 0.49410045125234486}\n",
      "Epoch 11/20\n"
     ]
    },
    {
     "name": "stderr",
     "output_type": "stream",
     "text": [
      "100%|██████████| 476/476 [03:33<00:00,  2.23it/s]\n"
     ]
    },
    {
     "name": "stdout",
     "output_type": "stream",
     "text": [
      "{'val_loss': 1.4750867969584915, 'val_accuracy': 0.6099290780141844, 'precision': 0.6192853692951593, 'recall': 0.6099290780141844, 'f1-score': 0.5921402428986791, 'macro_f1-score': 0.2901018981792472, 'balanced_accuracy': 0.3173672710291686, 'mcc': 0.498784357593234}\n",
      "Epoch 12/20\n"
     ]
    },
    {
     "name": "stderr",
     "output_type": "stream",
     "text": [
      "100%|██████████| 476/476 [03:33<00:00,  2.23it/s]\n",
      "D:\\Anaconda3\\envs\\cuda\\Lib\\site-packages\\sklearn\\metrics\\_classification.py:2458: UserWarning: y_pred contains classes not in y_true\n",
      "  warnings.warn(\"y_pred contains classes not in y_true\")\n"
     ]
    },
    {
     "name": "stdout",
     "output_type": "stream",
     "text": [
      "{'val_loss': 1.44291190943628, 'val_accuracy': 0.6170212765957447, 'precision': 0.6079308382302321, 'recall': 0.6170212765957447, 'f1-score': 0.5919451812916939, 'macro_f1-score': 0.2656709752570255, 'balanced_accuracy': 0.30024264367139075, 'mcc': 0.5074439327607088}\n",
      "Epoch 13/20\n"
     ]
    },
    {
     "name": "stderr",
     "output_type": "stream",
     "text": [
      "100%|██████████| 476/476 [03:33<00:00,  2.23it/s]\n",
      "D:\\Anaconda3\\envs\\cuda\\Lib\\site-packages\\sklearn\\metrics\\_classification.py:2458: UserWarning: y_pred contains classes not in y_true\n",
      "  warnings.warn(\"y_pred contains classes not in y_true\")\n"
     ]
    },
    {
     "name": "stdout",
     "output_type": "stream",
     "text": [
      "{'val_loss': 1.4574556541892718, 'val_accuracy': 0.6252955082742316, 'precision': 0.6082218535287225, 'recall': 0.6252955082742316, 'f1-score': 0.6009660115423507, 'macro_f1-score': 0.2872941796145359, 'balanced_accuracy': 0.3116742679613063, 'mcc': 0.513566734928349}\n",
      "Epoch 14/20\n"
     ]
    },
    {
     "name": "stderr",
     "output_type": "stream",
     "text": [
      "100%|██████████| 476/476 [03:33<00:00,  2.23it/s]\n"
     ]
    },
    {
     "name": "stdout",
     "output_type": "stream",
     "text": [
      "{'val_loss': 1.5868991793326612, 'val_accuracy': 0.6040189125295509, 'precision': 0.6039577806564053, 'recall': 0.6040189125295509, 'f1-score': 0.5803780597010759, 'macro_f1-score': 0.26912511209347456, 'balanced_accuracy': 0.2774729118591445, 'mcc': 0.4878358255186061}\n",
      "Early stopping triggered at epoch 14\n",
      "Fold 2\n",
      "Training set label distribution: {0: 3566, 1: 30, 2: 117, 3: 24, 4: 238, 5: 133, 6: 110, 7: 36, 8: 72, 9: 73, 10: 77, 11: 192, 12: 221, 13: 35, 14: 29, 15: 27, 16: 24, 17: 263, 18: 107, 19: 51, 20: 17, 21: 41, 22: 89, 23: 185, 24: 18, 25: 56, 26: 92, 27: 52, 28: 12, 29: 15, 30: 18, 31: 92, 32: 41, 33: 38, 34: 34, 35: 13, 36: 33, 37: 24, 38: 5, 39: 116, 40: 14, 41: 9, 42: 168, 43: 16, 44: 22, 45: 11, 46: 60, 47: 591, 48: 224, 49: 77}\n",
      "Validation set label distribution: {0: 408, 1: 1, 2: 23, 3: 6, 4: 19, 5: 12, 6: 8, 7: 3, 8: 13, 9: 8, 10: 11, 11: 23, 12: 20, 13: 1, 15: 4, 16: 1, 17: 26, 18: 9, 19: 5, 20: 1, 21: 3, 22: 8, 23: 15, 24: 2, 25: 7, 26: 15, 27: 9, 28: 3, 29: 1, 30: 1, 31: 8, 32: 4, 33: 2, 34: 3, 35: 2, 36: 2, 37: 3, 38: 2, 39: 13, 41: 2, 42: 16, 43: 4, 44: 3, 46: 8, 47: 70, 48: 28, 49: 10}\n"
     ]
    },
    {
     "name": "stderr",
     "output_type": "stream",
     "text": [
      "Some weights of RobertaModel were not initialized from the model checkpoint at roberta-base and are newly initialized: ['roberta.pooler.dense.bias', 'roberta.pooler.dense.weight']\n",
      "You should probably TRAIN this model on a down-stream task to be able to use it for predictions and inference.\n"
     ]
    },
    {
     "name": "stdout",
     "output_type": "stream",
     "text": [
      "Epoch 1/20\n"
     ]
    },
    {
     "name": "stderr",
     "output_type": "stream",
     "text": [
      "100%|██████████| 476/476 [03:33<00:00,  2.23it/s]\n"
     ]
    },
    {
     "name": "stdout",
     "output_type": "stream",
     "text": [
      "{'val_loss': 1.7986856451574362, 'val_accuracy': 0.5803782505910166, 'precision': 0.3708810471206191, 'recall': 0.5803782505910166, 'f1-score': 0.4517065875136597, 'macro_f1-score': 0.04516410744737834, 'balanced_accuracy': 0.06198144345170233, 'mcc': 0.37150515431261216}\n",
      "Epoch 2/20\n"
     ]
    },
    {
     "name": "stderr",
     "output_type": "stream",
     "text": [
      "100%|██████████| 476/476 [03:33<00:00,  2.23it/s]\n"
     ]
    },
    {
     "name": "stdout",
     "output_type": "stream",
     "text": [
      "{'val_loss': 1.7228810089939046, 'val_accuracy': 0.5862884160756501, 'precision': 0.3930311077704084, 'recall': 0.5862884160756501, 'f1-score': 0.46295033659094326, 'macro_f1-score': 0.06107235706950534, 'balanced_accuracy': 0.07841741098196535, 'mcc': 0.38370488902557764}\n",
      "Epoch 3/20\n"
     ]
    },
    {
     "name": "stderr",
     "output_type": "stream",
     "text": [
      "100%|██████████| 476/476 [03:33<00:00,  2.23it/s]\n"
     ]
    },
    {
     "name": "stdout",
     "output_type": "stream",
     "text": [
      "{'val_loss': 1.6065845039655577, 'val_accuracy': 0.5957446808510638, 'precision': 0.4054811555453806, 'recall': 0.5957446808510638, 'f1-score': 0.4759478356961101, 'macro_f1-score': 0.0665025428438189, 'balanced_accuracy': 0.08281941199568496, 'mcc': 0.40222285367692806}\n",
      "Epoch 4/20\n"
     ]
    },
    {
     "name": "stderr",
     "output_type": "stream",
     "text": [
      "100%|██████████| 476/476 [03:33<00:00,  2.23it/s]\n"
     ]
    },
    {
     "name": "stdout",
     "output_type": "stream",
     "text": [
      "{'val_loss': 1.5348568468723658, 'val_accuracy': 0.6111111111111112, 'precision': 0.4446773025468445, 'recall': 0.6111111111111112, 'f1-score': 0.509585567713407, 'macro_f1-score': 0.09195438882860624, 'balanced_accuracy': 0.1069034499761696, 'mcc': 0.4337579152099256}\n",
      "Epoch 5/20\n"
     ]
    },
    {
     "name": "stderr",
     "output_type": "stream",
     "text": [
      "100%|██████████| 476/476 [03:33<00:00,  2.23it/s]\n"
     ]
    },
    {
     "name": "stdout",
     "output_type": "stream",
     "text": [
      "{'val_loss': 1.4859434197533805, 'val_accuracy': 0.6052009456264775, 'precision': 0.46817983818522985, 'recall': 0.6052009456264775, 'f1-score': 0.5165856104899427, 'macro_f1-score': 0.09213937416344428, 'balanced_accuracy': 0.11186017949109256, 'mcc': 0.4404537649224472}\n",
      "Epoch 6/20\n"
     ]
    },
    {
     "name": "stderr",
     "output_type": "stream",
     "text": [
      "100%|██████████| 476/476 [03:33<00:00,  2.23it/s]\n"
     ]
    },
    {
     "name": "stdout",
     "output_type": "stream",
     "text": [
      "{'val_loss': 1.4732242192862168, 'val_accuracy': 0.6134751773049646, 'precision': 0.4970179830452211, 'recall': 0.6134751773049646, 'f1-score': 0.5349997490608419, 'macro_f1-score': 0.11674035489494433, 'balanced_accuracy': 0.13852988387750806, 'mcc': 0.45653605478813875}\n",
      "Epoch 7/20\n"
     ]
    },
    {
     "name": "stderr",
     "output_type": "stream",
     "text": [
      "100%|██████████| 476/476 [03:33<00:00,  2.23it/s]\n"
     ]
    },
    {
     "name": "stdout",
     "output_type": "stream",
     "text": [
      "{'val_loss': 1.4874499575147089, 'val_accuracy': 0.607565011820331, 'precision': 0.4762989989041384, 'recall': 0.607565011820331, 'f1-score': 0.5223660370180375, 'macro_f1-score': 0.10913869427969801, 'balanced_accuracy': 0.12349425337929275, 'mcc': 0.4417268088378633}\n",
      "Epoch 8/20\n"
     ]
    },
    {
     "name": "stderr",
     "output_type": "stream",
     "text": [
      "100%|██████████| 476/476 [03:33<00:00,  2.23it/s]\n"
     ]
    },
    {
     "name": "stdout",
     "output_type": "stream",
     "text": [
      "{'val_loss': 1.4843231518313569, 'val_accuracy': 0.6193853427895981, 'precision': 0.49134574204696113, 'recall': 0.6193853427895981, 'f1-score': 0.5397432267953992, 'macro_f1-score': 0.14261623350743974, 'balanced_accuracy': 0.15001859500539202, 'mcc': 0.457464043234392}\n",
      "Epoch 9/20\n"
     ]
    },
    {
     "name": "stderr",
     "output_type": "stream",
     "text": [
      "100%|██████████| 476/476 [03:33<00:00,  2.23it/s]\n"
     ]
    },
    {
     "name": "stdout",
     "output_type": "stream",
     "text": [
      "{'val_loss': 1.502507891295091, 'val_accuracy': 0.5981087470449172, 'precision': 0.5536350889990606, 'recall': 0.5981087470449172, 'f1-score': 0.5605724458929803, 'macro_f1-score': 0.1506925246367146, 'balanced_accuracy': 0.1745461542143178, 'mcc': 0.4644503235446866}\n",
      "Epoch 10/20\n"
     ]
    },
    {
     "name": "stderr",
     "output_type": "stream",
     "text": [
      "100%|██████████| 476/476 [03:33<00:00,  2.23it/s]\n"
     ]
    },
    {
     "name": "stdout",
     "output_type": "stream",
     "text": [
      "{'val_loss': 1.426023393307092, 'val_accuracy': 0.6134751773049646, 'precision': 0.5591071504750373, 'recall': 0.6134751773049646, 'f1-score': 0.571728725541119, 'macro_f1-score': 0.16277148198192828, 'balanced_accuracy': 0.19212918183749858, 'mcc': 0.483240476737772}\n",
      "Epoch 11/20\n"
     ]
    },
    {
     "name": "stderr",
     "output_type": "stream",
     "text": [
      "100%|██████████| 476/476 [03:33<00:00,  2.23it/s]\n"
     ]
    },
    {
     "name": "stdout",
     "output_type": "stream",
     "text": [
      "{'val_loss': 1.4161538211804516, 'val_accuracy': 0.6193853427895981, 'precision': 0.5653318632718766, 'recall': 0.6193853427895981, 'f1-score': 0.5719649012941405, 'macro_f1-score': 0.1713268400397786, 'balanced_accuracy': 0.18642023403234498, 'mcc': 0.4826743442466969}\n",
      "Epoch 12/20\n"
     ]
    },
    {
     "name": "stderr",
     "output_type": "stream",
     "text": [
      "100%|██████████| 476/476 [03:33<00:00,  2.23it/s]\n"
     ]
    },
    {
     "name": "stdout",
     "output_type": "stream",
     "text": [
      "{'val_loss': 1.371375117661818, 'val_accuracy': 0.6359338061465721, 'precision': 0.5797360549363885, 'recall': 0.6359338061465721, 'f1-score': 0.5898193611478622, 'macro_f1-score': 0.1942104819134319, 'balanced_accuracy': 0.21761968287273087, 'mcc': 0.5046824277298204}\n",
      "Epoch 13/20\n"
     ]
    },
    {
     "name": "stderr",
     "output_type": "stream",
     "text": [
      "100%|██████████| 476/476 [03:33<00:00,  2.23it/s]\n",
      "D:\\Anaconda3\\envs\\cuda\\Lib\\site-packages\\sklearn\\metrics\\_classification.py:2458: UserWarning: y_pred contains classes not in y_true\n",
      "  warnings.warn(\"y_pred contains classes not in y_true\")\n"
     ]
    },
    {
     "name": "stdout",
     "output_type": "stream",
     "text": [
      "{'val_loss': 1.4087476848431353, 'val_accuracy': 0.6501182033096927, 'precision': 0.5986900328297683, 'recall': 0.6501182033096927, 'f1-score': 0.6016062001242308, 'macro_f1-score': 0.22122630929102602, 'balanced_accuracy': 0.22843178099133055, 'mcc': 0.5183942148983365}\n",
      "Epoch 14/20\n"
     ]
    },
    {
     "name": "stderr",
     "output_type": "stream",
     "text": [
      "100%|██████████| 476/476 [03:33<00:00,  2.23it/s]\n"
     ]
    },
    {
     "name": "stdout",
     "output_type": "stream",
     "text": [
      "{'val_loss': 1.383028970574433, 'val_accuracy': 0.6170212765957447, 'precision': 0.6090080405423228, 'recall': 0.6170212765957447, 'f1-score': 0.5998555005923156, 'macro_f1-score': 0.22359033659238403, 'balanced_accuracy': 0.24719640048136335, 'mcc': 0.4945264883035339}\n",
      "Epoch 15/20\n"
     ]
    },
    {
     "name": "stderr",
     "output_type": "stream",
     "text": [
      "100%|██████████| 476/476 [03:33<00:00,  2.23it/s]\n"
     ]
    },
    {
     "name": "stdout",
     "output_type": "stream",
     "text": [
      "{'val_loss': 1.4659783868294842, 'val_accuracy': 0.6264775413711584, 'precision': 0.554653732402326, 'recall': 0.6264775413711584, 'f1-score': 0.575132546888259, 'macro_f1-score': 0.1803064477356989, 'balanced_accuracy': 0.19040253109001087, 'mcc': 0.4840721360584648}\n",
      "Epoch 16/20\n"
     ]
    },
    {
     "name": "stderr",
     "output_type": "stream",
     "text": [
      "100%|██████████| 476/476 [03:33<00:00,  2.23it/s]\n"
     ]
    },
    {
     "name": "stdout",
     "output_type": "stream",
     "text": [
      "{'val_loss': 1.3685652377470485, 'val_accuracy': 0.6418439716312057, 'precision': 0.6028735800097551, 'recall': 0.6418439716312057, 'f1-score': 0.6087153704542196, 'macro_f1-score': 0.23262615279149101, 'balanced_accuracy': 0.242013152609672, 'mcc': 0.5203256870375467}\n",
      "Epoch 17/20\n"
     ]
    },
    {
     "name": "stderr",
     "output_type": "stream",
     "text": [
      "100%|██████████| 476/476 [03:33<00:00,  2.23it/s]\n",
      "D:\\Anaconda3\\envs\\cuda\\Lib\\site-packages\\sklearn\\metrics\\_classification.py:2458: UserWarning: y_pred contains classes not in y_true\n",
      "  warnings.warn(\"y_pred contains classes not in y_true\")\n"
     ]
    },
    {
     "name": "stdout",
     "output_type": "stream",
     "text": [
      "{'val_loss': 1.497698744512954, 'val_accuracy': 0.624113475177305, 'precision': 0.6185655153017022, 'recall': 0.624113475177305, 'f1-score': 0.6006510245933375, 'macro_f1-score': 0.20885718460537836, 'balanced_accuracy': 0.24726798799957325, 'mcc': 0.49985729188416217}\n",
      "Epoch 18/20\n"
     ]
    },
    {
     "name": "stderr",
     "output_type": "stream",
     "text": [
      "100%|██████████| 476/476 [03:33<00:00,  2.23it/s]\n"
     ]
    },
    {
     "name": "stdout",
     "output_type": "stream",
     "text": [
      "{'val_loss': 1.4337705767379616, 'val_accuracy': 0.6430260047281324, 'precision': 0.6326340956178862, 'recall': 0.6430260047281324, 'f1-score': 0.6231626455662733, 'macro_f1-score': 0.24390083390116682, 'balanced_accuracy': 0.27002375640500953, 'mcc': 0.5212054636863817}\n",
      "Epoch 19/20\n"
     ]
    },
    {
     "name": "stderr",
     "output_type": "stream",
     "text": [
      "100%|██████████| 476/476 [03:33<00:00,  2.23it/s]\n"
     ]
    },
    {
     "name": "stdout",
     "output_type": "stream",
     "text": [
      "{'val_loss': 1.5102436047679972, 'val_accuracy': 0.6182033096926713, 'precision': 0.6313360769723066, 'recall': 0.6182033096926713, 'f1-score': 0.599458573638151, 'macro_f1-score': 0.24797107351539763, 'balanced_accuracy': 0.2871642128541127, 'mcc': 0.5041395301695748}\n",
      "Epoch 20/20\n"
     ]
    },
    {
     "name": "stderr",
     "output_type": "stream",
     "text": [
      "100%|██████████| 476/476 [03:33<00:00,  2.23it/s]\n"
     ]
    },
    {
     "name": "stdout",
     "output_type": "stream",
     "text": [
      "{'val_loss': 1.4292829593397536, 'val_accuracy': 0.648936170212766, 'precision': 0.6261479346377135, 'recall': 0.648936170212766, 'f1-score': 0.6179741216617631, 'macro_f1-score': 0.23999663030748655, 'balanced_accuracy': 0.2504315301936685, 'mcc': 0.525918594275046}\n",
      "Fold 3\n",
      "Training set label distribution: {0: 3551, 1: 27, 2: 132, 3: 28, 4: 235, 5: 135, 6: 108, 7: 34, 8: 78, 9: 72, 10: 82, 11: 196, 12: 225, 13: 32, 14: 28, 15: 26, 16: 23, 17: 256, 18: 109, 19: 49, 20: 18, 21: 39, 22: 87, 23: 177, 24: 19, 25: 58, 26: 97, 27: 59, 28: 13, 29: 13, 30: 16, 31: 93, 32: 42, 33: 38, 34: 33, 35: 13, 36: 31, 37: 23, 38: 6, 39: 110, 40: 11, 41: 9, 42: 165, 43: 18, 44: 21, 45: 7, 46: 63, 47: 591, 48: 233, 49: 79}\n",
      "Validation set label distribution: {0: 423, 1: 4, 2: 8, 3: 2, 4: 22, 5: 10, 6: 10, 7: 5, 8: 7, 9: 9, 10: 6, 11: 19, 12: 16, 13: 4, 14: 1, 15: 5, 16: 2, 17: 33, 18: 7, 19: 7, 21: 5, 22: 10, 23: 23, 24: 1, 25: 5, 26: 10, 27: 2, 28: 2, 29: 3, 30: 3, 31: 7, 32: 3, 33: 2, 34: 4, 35: 2, 36: 4, 37: 4, 38: 1, 39: 19, 40: 3, 41: 2, 42: 19, 43: 2, 44: 4, 45: 4, 46: 5, 47: 70, 48: 19, 49: 8}\n"
     ]
    },
    {
     "name": "stderr",
     "output_type": "stream",
     "text": [
      "Some weights of RobertaModel were not initialized from the model checkpoint at roberta-base and are newly initialized: ['roberta.pooler.dense.bias', 'roberta.pooler.dense.weight']\n",
      "You should probably TRAIN this model on a down-stream task to be able to use it for predictions and inference.\n"
     ]
    },
    {
     "name": "stdout",
     "output_type": "stream",
     "text": [
      "Epoch 1/20\n"
     ]
    },
    {
     "name": "stderr",
     "output_type": "stream",
     "text": [
      "100%|██████████| 476/476 [03:33<00:00,  2.23it/s]\n"
     ]
    },
    {
     "name": "stdout",
     "output_type": "stream",
     "text": [
      "{'val_loss': 1.7600846223111422, 'val_accuracy': 0.6111111111111112, 'precision': 0.41343523804937576, 'recall': 0.6111111111111112, 'f1-score': 0.49081365313750164, 'macro_f1-score': 0.050559222396541516, 'balanced_accuracy': 0.07222513579439328, 'mcc': 0.41163066377494856}\n",
      "Epoch 2/20\n"
     ]
    },
    {
     "name": "stderr",
     "output_type": "stream",
     "text": [
      "100%|██████████| 476/476 [03:33<00:00,  2.23it/s]\n"
     ]
    },
    {
     "name": "stdout",
     "output_type": "stream",
     "text": [
      "{'val_loss': 1.5706850250936903, 'val_accuracy': 0.6394799054373522, 'precision': 0.4397804179899792, 'recall': 0.6394799054373522, 'f1-score': 0.5171095086365846, 'macro_f1-score': 0.08366551947339518, 'balanced_accuracy': 0.10310461478503162, 'mcc': 0.4539745099036092}\n",
      "Epoch 3/20\n"
     ]
    },
    {
     "name": "stderr",
     "output_type": "stream",
     "text": [
      "100%|██████████| 476/476 [03:33<00:00,  2.23it/s]\n"
     ]
    },
    {
     "name": "stdout",
     "output_type": "stream",
     "text": [
      "{'val_loss': 1.535832847064396, 'val_accuracy': 0.6453900709219859, 'precision': 0.49291614667054134, 'recall': 0.6453900709219859, 'f1-score': 0.5425469914214132, 'macro_f1-score': 0.10331116977507099, 'balanced_accuracy': 0.12281094775850895, 'mcc': 0.47309968404090635}\n",
      "Epoch 4/20\n"
     ]
    },
    {
     "name": "stderr",
     "output_type": "stream",
     "text": [
      "100%|██████████| 476/476 [03:33<00:00,  2.23it/s]\n"
     ]
    },
    {
     "name": "stdout",
     "output_type": "stream",
     "text": [
      "{'val_loss': 1.4630579892194495, 'val_accuracy': 0.6382978723404256, 'precision': 0.5113880279885199, 'recall': 0.6382978723404256, 'f1-score': 0.5581556058363315, 'macro_f1-score': 0.11710693930812784, 'balanced_accuracy': 0.1471382971884134, 'mcc': 0.478787855341709}\n",
      "Epoch 5/20\n"
     ]
    },
    {
     "name": "stderr",
     "output_type": "stream",
     "text": [
      "100%|██████████| 476/476 [03:33<00:00,  2.23it/s]\n"
     ]
    },
    {
     "name": "stdout",
     "output_type": "stream",
     "text": [
      "{'val_loss': 1.445971278649456, 'val_accuracy': 0.6323877068557919, 'precision': 0.5526692651950762, 'recall': 0.6323877068557919, 'f1-score': 0.5748150052760972, 'macro_f1-score': 0.1336793565828883, 'balanced_accuracy': 0.16889497640941387, 'mcc': 0.49309906831950717}\n",
      "Epoch 6/20\n"
     ]
    },
    {
     "name": "stderr",
     "output_type": "stream",
     "text": [
      "100%|██████████| 476/476 [03:33<00:00,  2.23it/s]\n"
     ]
    },
    {
     "name": "stdout",
     "output_type": "stream",
     "text": [
      "{'val_loss': 1.4369944688284173, 'val_accuracy': 0.6513002364066194, 'precision': 0.5466941436344488, 'recall': 0.6513002364066194, 'f1-score': 0.5807625424952739, 'macro_f1-score': 0.14021395139182916, 'balanced_accuracy': 0.16048891663051784, 'mcc': 0.5006186698557824}\n",
      "Epoch 7/20\n"
     ]
    },
    {
     "name": "stderr",
     "output_type": "stream",
     "text": [
      "100%|██████████| 476/476 [03:33<00:00,  2.23it/s]\n"
     ]
    },
    {
     "name": "stdout",
     "output_type": "stream",
     "text": [
      "{'val_loss': 1.4279452759139943, 'val_accuracy': 0.6288416075650118, 'precision': 0.6203873419097929, 'recall': 0.6288416075650118, 'f1-score': 0.6098267340265061, 'macro_f1-score': 0.21398124909602861, 'balanced_accuracy': 0.2324984525111387, 'mcc': 0.4914834581220599}\n",
      "Epoch 8/20\n"
     ]
    },
    {
     "name": "stderr",
     "output_type": "stream",
     "text": [
      "100%|██████████| 476/476 [03:33<00:00,  2.23it/s]\n"
     ]
    },
    {
     "name": "stdout",
     "output_type": "stream",
     "text": [
      "{'val_loss': 1.5067446704180736, 'val_accuracy': 0.6524822695035462, 'precision': 0.6088227879180967, 'recall': 0.6524822695035462, 'f1-score': 0.6158869087619965, 'macro_f1-score': 0.20146558806120463, 'balanced_accuracy': 0.22347328470537575, 'mcc': 0.5218178587823373}\n",
      "Epoch 9/20\n"
     ]
    },
    {
     "name": "stderr",
     "output_type": "stream",
     "text": [
      "100%|██████████| 476/476 [03:33<00:00,  2.23it/s]\n"
     ]
    },
    {
     "name": "stdout",
     "output_type": "stream",
     "text": [
      "{'val_loss': 1.3990512951365057, 'val_accuracy': 0.6583924349881797, 'precision': 0.6203693696899458, 'recall': 0.6583924349881797, 'f1-score': 0.628642457438238, 'macro_f1-score': 0.22516119340783786, 'balanced_accuracy': 0.24095786802583527, 'mcc': 0.5311804842079926}\n",
      "Epoch 10/20\n"
     ]
    },
    {
     "name": "stderr",
     "output_type": "stream",
     "text": [
      "100%|██████████| 476/476 [03:33<00:00,  2.23it/s]\n"
     ]
    },
    {
     "name": "stdout",
     "output_type": "stream",
     "text": [
      "{'val_loss': 1.4656380673624434, 'val_accuracy': 0.6536643026004728, 'precision': 0.6082006316680852, 'recall': 0.6536643026004728, 'f1-score': 0.6227454940127048, 'macro_f1-score': 0.21800934744470987, 'balanced_accuracy': 0.23170633569628118, 'mcc': 0.5199354153482929}\n",
      "Epoch 11/20\n"
     ]
    },
    {
     "name": "stderr",
     "output_type": "stream",
     "text": [
      "100%|██████████| 476/476 [03:33<00:00,  2.23it/s]\n"
     ]
    },
    {
     "name": "stdout",
     "output_type": "stream",
     "text": [
      "{'val_loss': 1.4475743821207083, 'val_accuracy': 0.6702127659574468, 'precision': 0.61749506432647, 'recall': 0.6702127659574468, 'f1-score': 0.6341555404889708, 'macro_f1-score': 0.24379074871697157, 'balanced_accuracy': 0.2554086778164466, 'mcc': 0.5401539974420063}\n",
      "Epoch 12/20\n"
     ]
    },
    {
     "name": "stderr",
     "output_type": "stream",
     "text": [
      "100%|██████████| 476/476 [03:33<00:00,  2.23it/s]\n"
     ]
    },
    {
     "name": "stdout",
     "output_type": "stream",
     "text": [
      "{'val_loss': 1.4353617868333493, 'val_accuracy': 0.6276595744680851, 'precision': 0.6591725386898528, 'recall': 0.6276595744680851, 'f1-score': 0.6252945070581918, 'macro_f1-score': 0.2453982800358007, 'balanced_accuracy': 0.2763576477078466, 'mcc': 0.5054985371245211}\n",
      "Epoch 13/20\n"
     ]
    },
    {
     "name": "stderr",
     "output_type": "stream",
     "text": [
      "100%|██████████| 476/476 [03:33<00:00,  2.23it/s]\n"
     ]
    },
    {
     "name": "stdout",
     "output_type": "stream",
     "text": [
      "{'val_loss': 1.427533431435531, 'val_accuracy': 0.6678486997635934, 'precision': 0.6253597399128832, 'recall': 0.6678486997635934, 'f1-score': 0.6306939241204439, 'macro_f1-score': 0.25969474556774896, 'balanced_accuracy': 0.2810066617998591, 'mcc': 0.5400109092613453}\n",
      "Epoch 14/20\n"
     ]
    },
    {
     "name": "stderr",
     "output_type": "stream",
     "text": [
      "100%|██████████| 476/476 [03:33<00:00,  2.23it/s]\n"
     ]
    },
    {
     "name": "stdout",
     "output_type": "stream",
     "text": [
      "{'val_loss': 1.4057737077182193, 'val_accuracy': 0.6631205673758865, 'precision': 0.6237969386413286, 'recall': 0.6631205673758865, 'f1-score': 0.6302865593118427, 'macro_f1-score': 0.2556025654667788, 'balanced_accuracy': 0.27371790531350837, 'mcc': 0.5341439722281717}\n",
      "Epoch 15/20\n"
     ]
    },
    {
     "name": "stderr",
     "output_type": "stream",
     "text": [
      "100%|██████████| 476/476 [03:33<00:00,  2.23it/s]\n"
     ]
    },
    {
     "name": "stdout",
     "output_type": "stream",
     "text": [
      "{'val_loss': 1.5018300116062164, 'val_accuracy': 0.6501182033096927, 'precision': 0.6292294818158775, 'recall': 0.6501182033096927, 'f1-score': 0.6279723284519246, 'macro_f1-score': 0.2382380174712485, 'balanced_accuracy': 0.2696559507072309, 'mcc': 0.5233386490219325}\n",
      "Epoch 16/20\n"
     ]
    },
    {
     "name": "stderr",
     "output_type": "stream",
     "text": [
      "100%|██████████| 476/476 [03:33<00:00,  2.23it/s]\n"
     ]
    },
    {
     "name": "stdout",
     "output_type": "stream",
     "text": [
      "{'val_loss': 1.4175616595542655, 'val_accuracy': 0.6725768321513003, 'precision': 0.6193728528873157, 'recall': 0.6725768321513003, 'f1-score': 0.6332887853113606, 'macro_f1-score': 0.24443688635472663, 'balanced_accuracy': 0.27407912445820665, 'mcc': 0.5440947546951869}\n",
      "Early stopping triggered at epoch 16\n",
      "Fold 4\n",
      "Training set label distribution: {0: 3572, 1: 29, 2: 131, 3: 29, 4: 220, 5: 128, 6: 107, 7: 34, 8: 80, 9: 68, 10: 76, 11: 194, 12: 221, 13: 32, 14: 25, 15: 28, 16: 23, 17: 256, 18: 101, 19: 51, 20: 17, 21: 40, 22: 94, 23: 182, 24: 18, 25: 54, 26: 98, 27: 57, 28: 14, 29: 15, 30: 16, 31: 92, 32: 39, 33: 38, 34: 33, 35: 15, 36: 33, 37: 26, 38: 7, 39: 115, 40: 13, 41: 11, 42: 166, 43: 19, 44: 22, 45: 10, 46: 60, 47: 591, 48: 231, 49: 77}\n",
      "Validation set label distribution: {0: 402, 1: 2, 2: 9, 3: 1, 4: 37, 5: 17, 6: 11, 7: 5, 8: 5, 9: 13, 10: 12, 11: 21, 12: 20, 13: 4, 14: 4, 15: 3, 16: 2, 17: 33, 18: 15, 19: 5, 20: 1, 21: 4, 22: 3, 23: 18, 24: 2, 25: 9, 26: 9, 27: 4, 28: 1, 29: 1, 30: 3, 31: 8, 32: 6, 33: 2, 34: 4, 36: 2, 37: 1, 39: 14, 40: 1, 42: 18, 43: 1, 44: 3, 45: 1, 46: 8, 47: 70, 48: 21, 49: 10}\n"
     ]
    },
    {
     "name": "stderr",
     "output_type": "stream",
     "text": [
      "Some weights of RobertaModel were not initialized from the model checkpoint at roberta-base and are newly initialized: ['roberta.pooler.dense.bias', 'roberta.pooler.dense.weight']\n",
      "You should probably TRAIN this model on a down-stream task to be able to use it for predictions and inference.\n"
     ]
    },
    {
     "name": "stdout",
     "output_type": "stream",
     "text": [
      "Epoch 1/20\n"
     ]
    },
    {
     "name": "stderr",
     "output_type": "stream",
     "text": [
      "100%|██████████| 476/476 [03:33<00:00,  2.23it/s]\n"
     ]
    },
    {
     "name": "stdout",
     "output_type": "stream",
     "text": [
      "{'val_loss': 1.8167901443985273, 'val_accuracy': 0.5910165484633569, 'precision': 0.3881077364202328, 'recall': 0.5910165484633569, 'f1-score': 0.46107731933334967, 'macro_f1-score': 0.05788290496311762, 'balanced_accuracy': 0.0680863947764738, 'mcc': 0.3896602624653383}\n",
      "Epoch 2/20\n"
     ]
    },
    {
     "name": "stderr",
     "output_type": "stream",
     "text": [
      "100%|██████████| 476/476 [03:33<00:00,  2.23it/s]\n"
     ]
    },
    {
     "name": "stdout",
     "output_type": "stream",
     "text": [
      "{'val_loss': 1.7000248600851815, 'val_accuracy': 0.607565011820331, 'precision': 0.435611096944741, 'recall': 0.607565011820331, 'f1-score': 0.5038263832170059, 'macro_f1-score': 0.06405237140304935, 'balanced_accuracy': 0.09049484803132087, 'mcc': 0.44460308348167804}\n",
      "Epoch 3/20\n"
     ]
    },
    {
     "name": "stderr",
     "output_type": "stream",
     "text": [
      "100%|██████████| 476/476 [03:33<00:00,  2.23it/s]\n"
     ]
    },
    {
     "name": "stdout",
     "output_type": "stream",
     "text": [
      "{'val_loss': 1.618276890156404, 'val_accuracy': 0.6182033096926713, 'precision': 0.4384841233305909, 'recall': 0.6182033096926713, 'f1-score': 0.5094203351218367, 'macro_f1-score': 0.07878949306307369, 'balanced_accuracy': 0.09294895460811811, 'mcc': 0.44572714473224395}\n",
      "Epoch 4/20\n"
     ]
    },
    {
     "name": "stderr",
     "output_type": "stream",
     "text": [
      "100%|██████████| 476/476 [03:33<00:00,  2.23it/s]\n"
     ]
    },
    {
     "name": "stdout",
     "output_type": "stream",
     "text": [
      "{'val_loss': 1.626910813574521, 'val_accuracy': 0.6146572104018913, 'precision': 0.45296506945093523, 'recall': 0.6146572104018913, 'f1-score': 0.5194658732591604, 'macro_f1-score': 0.08495337698001428, 'balanced_accuracy': 0.10596767988750505, 'mcc': 0.453832864052703}\n",
      "Epoch 5/20\n"
     ]
    },
    {
     "name": "stderr",
     "output_type": "stream",
     "text": [
      "100%|██████████| 476/476 [03:33<00:00,  2.23it/s]\n"
     ]
    },
    {
     "name": "stdout",
     "output_type": "stream",
     "text": [
      "{'val_loss': 1.5978908966172416, 'val_accuracy': 0.6146572104018913, 'precision': 0.49481423509085404, 'recall': 0.6146572104018913, 'f1-score': 0.5379759450640068, 'macro_f1-score': 0.09824150529835332, 'balanced_accuracy': 0.12315095548241459, 'mcc': 0.46683936959259204}\n",
      "Epoch 6/20\n"
     ]
    },
    {
     "name": "stderr",
     "output_type": "stream",
     "text": [
      "100%|██████████| 476/476 [03:33<00:00,  2.23it/s]\n"
     ]
    },
    {
     "name": "stdout",
     "output_type": "stream",
     "text": [
      "{'val_loss': 1.5704289955912896, 'val_accuracy': 0.6182033096926713, 'precision': 0.507594376584818, 'recall': 0.6182033096926713, 'f1-score': 0.5423943423366219, 'macro_f1-score': 0.10632937370918587, 'balanced_accuracy': 0.11691918636420158, 'mcc': 0.46131552274437204}\n",
      "Epoch 7/20\n"
     ]
    },
    {
     "name": "stderr",
     "output_type": "stream",
     "text": [
      "100%|██████████| 476/476 [03:33<00:00,  2.23it/s]\n"
     ]
    },
    {
     "name": "stdout",
     "output_type": "stream",
     "text": [
      "{'val_loss': 1.4810078324012037, 'val_accuracy': 0.6276595744680851, 'precision': 0.5747464103279158, 'recall': 0.6276595744680851, 'f1-score': 0.5779428680721385, 'macro_f1-score': 0.14588631628827456, 'balanced_accuracy': 0.16895147239794467, 'mcc': 0.5020463782602949}\n",
      "Epoch 8/20\n"
     ]
    },
    {
     "name": "stderr",
     "output_type": "stream",
     "text": [
      "100%|██████████| 476/476 [03:33<00:00,  2.23it/s]\n"
     ]
    },
    {
     "name": "stdout",
     "output_type": "stream",
     "text": [
      "{'val_loss': 1.4322400295509483, 'val_accuracy': 0.640661938534279, 'precision': 0.5925348743167805, 'recall': 0.640661938534279, 'f1-score': 0.6042504435809244, 'macro_f1-score': 0.17616886820280575, 'balanced_accuracy': 0.18405286906351673, 'mcc': 0.5176629404376331}\n",
      "Epoch 9/20\n"
     ]
    },
    {
     "name": "stderr",
     "output_type": "stream",
     "text": [
      "100%|██████████| 476/476 [03:33<00:00,  2.23it/s]\n"
     ]
    },
    {
     "name": "stdout",
     "output_type": "stream",
     "text": [
      "{'val_loss': 1.5056403121858273, 'val_accuracy': 0.6205673758865248, 'precision': 0.5712324117409969, 'recall': 0.6205673758865248, 'f1-score': 0.578303534614632, 'macro_f1-score': 0.15465611945631313, 'balanced_accuracy': 0.16872138105863096, 'mcc': 0.4779698062243159}\n",
      "Epoch 10/20\n"
     ]
    },
    {
     "name": "stderr",
     "output_type": "stream",
     "text": [
      "100%|██████████| 476/476 [03:33<00:00,  2.23it/s]\n"
     ]
    },
    {
     "name": "stdout",
     "output_type": "stream",
     "text": [
      "{'val_loss': 1.448888748321893, 'val_accuracy': 0.6335697399527187, 'precision': 0.5834872987262387, 'recall': 0.6335697399527187, 'f1-score': 0.581038717817432, 'macro_f1-score': 0.14927932862655657, 'balanced_accuracy': 0.16808556099974478, 'mcc': 0.5068024652551801}\n",
      "Epoch 11/20\n"
     ]
    },
    {
     "name": "stderr",
     "output_type": "stream",
     "text": [
      "100%|██████████| 476/476 [03:33<00:00,  2.23it/s]\n"
     ]
    },
    {
     "name": "stdout",
     "output_type": "stream",
     "text": [
      "{'val_loss': 1.450903631606192, 'val_accuracy': 0.6430260047281324, 'precision': 0.5769441598834864, 'recall': 0.6430260047281324, 'f1-score': 0.5908821640543097, 'macro_f1-score': 0.17643424360429114, 'balanced_accuracy': 0.1794505457871979, 'mcc': 0.5126943236870459}\n",
      "Epoch 12/20\n"
     ]
    },
    {
     "name": "stderr",
     "output_type": "stream",
     "text": [
      "100%|██████████| 476/476 [03:33<00:00,  2.23it/s]\n"
     ]
    },
    {
     "name": "stdout",
     "output_type": "stream",
     "text": [
      "{'val_loss': 1.481999932595019, 'val_accuracy': 0.6394799054373522, 'precision': 0.5984508615111933, 'recall': 0.6394799054373522, 'f1-score': 0.6055129365676659, 'macro_f1-score': 0.18277404926185759, 'balanced_accuracy': 0.17416870512998137, 'mcc': 0.5109568350731314}\n",
      "Epoch 13/20\n"
     ]
    },
    {
     "name": "stderr",
     "output_type": "stream",
     "text": [
      "100%|██████████| 476/476 [03:33<00:00,  2.23it/s]\n"
     ]
    },
    {
     "name": "stdout",
     "output_type": "stream",
     "text": [
      "{'val_loss': 1.4862314625731055, 'val_accuracy': 0.6335697399527187, 'precision': 0.5920786832322487, 'recall': 0.6335697399527187, 'f1-score': 0.5908635602047658, 'macro_f1-score': 0.18276345404497188, 'balanced_accuracy': 0.19378064149513535, 'mcc': 0.5042107691020655}\n",
      "Epoch 14/20\n"
     ]
    },
    {
     "name": "stderr",
     "output_type": "stream",
     "text": [
      "100%|██████████| 476/476 [03:33<00:00,  2.23it/s]\n"
     ]
    },
    {
     "name": "stdout",
     "output_type": "stream",
     "text": [
      "{'val_loss': 1.4800451774642152, 'val_accuracy': 0.6170212765957447, 'precision': 0.5982149264297741, 'recall': 0.6170212765957447, 'f1-score': 0.5983969148714157, 'macro_f1-score': 0.1870941992088455, 'balanced_accuracy': 0.19717359684202565, 'mcc': 0.4974383331999743}\n",
      "Epoch 15/20\n"
     ]
    },
    {
     "name": "stderr",
     "output_type": "stream",
     "text": [
      "100%|██████████| 476/476 [03:33<00:00,  2.23it/s]\n"
     ]
    },
    {
     "name": "stdout",
     "output_type": "stream",
     "text": [
      "{'val_loss': 1.4694313986121483, 'val_accuracy': 0.6382978723404256, 'precision': 0.6089852918976785, 'recall': 0.6382978723404256, 'f1-score': 0.60838760211298, 'macro_f1-score': 0.1958158946978603, 'balanced_accuracy': 0.20548098432721001, 'mcc': 0.5101614234779075}\n",
      "Epoch 16/20\n"
     ]
    },
    {
     "name": "stderr",
     "output_type": "stream",
     "text": [
      "100%|██████████| 476/476 [03:33<00:00,  2.23it/s]\n"
     ]
    },
    {
     "name": "stdout",
     "output_type": "stream",
     "text": [
      "{'val_loss': 1.4490072738449529, 'val_accuracy': 0.6323877068557919, 'precision': 0.6431366821139489, 'recall': 0.6323877068557919, 'f1-score': 0.620403070037951, 'macro_f1-score': 0.2199118169049794, 'balanced_accuracy': 0.22787741971563166, 'mcc': 0.5106241547442054}\n",
      "Epoch 17/20\n"
     ]
    },
    {
     "name": "stderr",
     "output_type": "stream",
     "text": [
      "100%|██████████| 476/476 [03:33<00:00,  2.23it/s]\n"
     ]
    },
    {
     "name": "stdout",
     "output_type": "stream",
     "text": [
      "{'val_loss': 1.4509653212889186, 'val_accuracy': 0.6583924349881797, 'precision': 0.5925376722475192, 'recall': 0.6583924349881797, 'f1-score': 0.6116031661973059, 'macro_f1-score': 0.1969128063093754, 'balanced_accuracy': 0.20165772119800476, 'mcc': 0.5334237063218952}\n",
      "Epoch 18/20\n"
     ]
    },
    {
     "name": "stderr",
     "output_type": "stream",
     "text": [
      "100%|██████████| 476/476 [03:33<00:00,  2.23it/s]\n"
     ]
    },
    {
     "name": "stdout",
     "output_type": "stream",
     "text": [
      "{'val_loss': 1.4839517552897614, 'val_accuracy': 0.6382978723404256, 'precision': 0.6043007682071198, 'recall': 0.6382978723404256, 'f1-score': 0.6103327690547875, 'macro_f1-score': 0.21224469446469904, 'balanced_accuracy': 0.22299844648302608, 'mcc': 0.5143975175421993}\n",
      "Epoch 19/20\n"
     ]
    },
    {
     "name": "stderr",
     "output_type": "stream",
     "text": [
      "100%|██████████| 476/476 [03:33<00:00,  2.23it/s]\n"
     ]
    },
    {
     "name": "stdout",
     "output_type": "stream",
     "text": [
      "{'val_loss': 1.828602914540273, 'val_accuracy': 0.6063829787234043, 'precision': 0.6200149087699154, 'recall': 0.6063829787234043, 'f1-score': 0.604583434047484, 'macro_f1-score': 0.1891562496076917, 'balanced_accuracy': 0.18301529858980403, 'mcc': 0.4773020973189981}\n",
      "Early stopping triggered at epoch 19\n",
      "Fold 5\n",
      "Training set label distribution: {0: 3584, 1: 29, 2: 123, 3: 28, 4: 228, 5: 132, 6: 109, 7: 39, 8: 80, 9: 72, 10: 81, 11: 187, 12: 222, 13: 34, 14: 26, 15: 28, 16: 20, 17: 263, 18: 104, 19: 48, 20: 16, 21: 39, 22: 87, 23: 184, 24: 19, 25: 55, 26: 101, 27: 49, 28: 14, 29: 13, 30: 18, 31: 91, 32: 41, 33: 32, 34: 33, 35: 12, 36: 32, 37: 23, 38: 7, 39: 114, 40: 13, 41: 9, 42: 166, 43: 18, 44: 24, 45: 11, 46: 58, 47: 589, 48: 224, 49: 80}\n",
      "Validation set label distribution: {0: 390, 1: 2, 2: 17, 3: 2, 4: 29, 5: 13, 6: 9, 8: 5, 9: 9, 10: 7, 11: 28, 12: 19, 13: 2, 14: 3, 15: 3, 16: 5, 17: 26, 18: 12, 19: 8, 20: 2, 21: 5, 22: 10, 23: 16, 24: 1, 25: 8, 26: 6, 27: 12, 28: 1, 29: 3, 30: 1, 31: 9, 32: 4, 33: 8, 34: 4, 35: 3, 36: 3, 37: 4, 39: 15, 40: 1, 41: 2, 42: 18, 43: 2, 44: 1, 46: 10, 47: 72, 48: 28, 49: 7}\n"
     ]
    },
    {
     "name": "stderr",
     "output_type": "stream",
     "text": [
      "Some weights of RobertaModel were not initialized from the model checkpoint at roberta-base and are newly initialized: ['roberta.pooler.dense.bias', 'roberta.pooler.dense.weight']\n",
      "You should probably TRAIN this model on a down-stream task to be able to use it for predictions and inference.\n"
     ]
    },
    {
     "name": "stdout",
     "output_type": "stream",
     "text": [
      "Epoch 1/20\n"
     ]
    },
    {
     "name": "stderr",
     "output_type": "stream",
     "text": [
      "100%|██████████| 476/476 [03:33<00:00,  2.23it/s]\n"
     ]
    },
    {
     "name": "stdout",
     "output_type": "stream",
     "text": [
      "{'val_loss': 1.900835613034806, 'val_accuracy': 0.5668639053254438, 'precision': 0.3396377037267726, 'recall': 0.5668639053254438, 'f1-score': 0.4190791260022029, 'macro_f1-score': 0.04509940414195734, 'balanced_accuracy': 0.060762771914642785, 'mcc': 0.36301986515141005}\n",
      "Epoch 2/20\n"
     ]
    },
    {
     "name": "stderr",
     "output_type": "stream",
     "text": [
      "100%|██████████| 476/476 [03:33<00:00,  2.23it/s]\n"
     ]
    },
    {
     "name": "stdout",
     "output_type": "stream",
     "text": [
      "{'val_loss': 1.6729817345457256, 'val_accuracy': 0.591715976331361, 'precision': 0.4390533266106816, 'recall': 0.591715976331361, 'f1-score': 0.4972195112384785, 'macro_f1-score': 0.08795302261347146, 'balanced_accuracy': 0.11892323458721112, 'mcc': 0.4415474347963967}\n",
      "Epoch 3/20\n"
     ]
    },
    {
     "name": "stderr",
     "output_type": "stream",
     "text": [
      "100%|██████████| 476/476 [03:33<00:00,  2.23it/s]\n"
     ]
    },
    {
     "name": "stdout",
     "output_type": "stream",
     "text": [
      "{'val_loss': 1.6824789418364472, 'val_accuracy': 0.6071005917159763, 'precision': 0.4337778234140855, 'recall': 0.6071005917159763, 'f1-score': 0.49959848073643576, 'macro_f1-score': 0.10080804882096453, 'balanced_accuracy': 0.12419002762092694, 'mcc': 0.44907371696374065}\n",
      "Epoch 4/20\n"
     ]
    },
    {
     "name": "stderr",
     "output_type": "stream",
     "text": [
      "100%|██████████| 476/476 [03:33<00:00,  2.23it/s]\n"
     ]
    },
    {
     "name": "stdout",
     "output_type": "stream",
     "text": [
      "{'val_loss': 1.5827498137950897, 'val_accuracy': 0.6236686390532544, 'precision': 0.4900635371758271, 'recall': 0.6236686390532544, 'f1-score': 0.5296351671939846, 'macro_f1-score': 0.14604081761288285, 'balanced_accuracy': 0.14979136907207727, 'mcc': 0.47230575394072033}\n",
      "Epoch 5/20\n"
     ]
    },
    {
     "name": "stderr",
     "output_type": "stream",
     "text": [
      "100%|██████████| 476/476 [03:33<00:00,  2.23it/s]\n"
     ]
    },
    {
     "name": "stdout",
     "output_type": "stream",
     "text": [
      "{'val_loss': 1.4941161263663814, 'val_accuracy': 0.6224852071005917, 'precision': 0.4686875140703721, 'recall': 0.6224852071005917, 'f1-score': 0.5277654153627979, 'macro_f1-score': 0.13984326020538543, 'balanced_accuracy': 0.15900554761812824, 'mcc': 0.47600389684397104}\n",
      "Epoch 6/20\n"
     ]
    },
    {
     "name": "stderr",
     "output_type": "stream",
     "text": [
      "100%|██████████| 476/476 [03:33<00:00,  2.23it/s]\n"
     ]
    },
    {
     "name": "stdout",
     "output_type": "stream",
     "text": [
      "{'val_loss': 1.4789783099912248, 'val_accuracy': 0.6059171597633136, 'precision': 0.524963317256322, 'recall': 0.6059171597633136, 'f1-score': 0.5505076450111408, 'macro_f1-score': 0.17011530272639824, 'balanced_accuracy': 0.19721302995501236, 'mcc': 0.4723982409432977}\n",
      "Epoch 7/20\n"
     ]
    },
    {
     "name": "stderr",
     "output_type": "stream",
     "text": [
      "100%|██████████| 476/476 [03:33<00:00,  2.23it/s]\n"
     ]
    },
    {
     "name": "stdout",
     "output_type": "stream",
     "text": [
      "{'val_loss': 1.4642069547806147, 'val_accuracy': 0.6272189349112426, 'precision': 0.5283270707385045, 'recall': 0.6272189349112426, 'f1-score': 0.5585791573664438, 'macro_f1-score': 0.1733198874818479, 'balanced_accuracy': 0.20999606159302717, 'mcc': 0.5022361359351648}\n",
      "Epoch 8/20\n"
     ]
    },
    {
     "name": "stderr",
     "output_type": "stream",
     "text": [
      "100%|██████████| 476/476 [03:33<00:00,  2.23it/s]\n",
      "D:\\Anaconda3\\envs\\cuda\\Lib\\site-packages\\sklearn\\metrics\\_classification.py:2458: UserWarning: y_pred contains classes not in y_true\n",
      "  warnings.warn(\"y_pred contains classes not in y_true\")\n"
     ]
    },
    {
     "name": "stdout",
     "output_type": "stream",
     "text": [
      "{'val_loss': 1.452517400935011, 'val_accuracy': 0.6390532544378699, 'precision': 0.5326159623384554, 'recall': 0.6390532544378699, 'f1-score': 0.5694591532073153, 'macro_f1-score': 0.18683450371605934, 'balanced_accuracy': 0.19887878080628094, 'mcc': 0.5074010640624412}\n",
      "Epoch 9/20\n"
     ]
    },
    {
     "name": "stderr",
     "output_type": "stream",
     "text": [
      "100%|██████████| 476/476 [03:33<00:00,  2.23it/s]\n",
      "D:\\Anaconda3\\envs\\cuda\\Lib\\site-packages\\sklearn\\metrics\\_classification.py:2458: UserWarning: y_pred contains classes not in y_true\n",
      "  warnings.warn(\"y_pred contains classes not in y_true\")\n"
     ]
    },
    {
     "name": "stdout",
     "output_type": "stream",
     "text": [
      "{'val_loss': 1.4050101342628587, 'val_accuracy': 0.642603550295858, 'precision': 0.6045558598072373, 'recall': 0.642603550295858, 'f1-score': 0.6035413789850771, 'macro_f1-score': 0.24661419044694774, 'balanced_accuracy': 0.26953498383203506, 'mcc': 0.5318647485000104}\n",
      "Epoch 10/20\n"
     ]
    },
    {
     "name": "stderr",
     "output_type": "stream",
     "text": [
      "100%|██████████| 476/476 [03:33<00:00,  2.23it/s]\n",
      "D:\\Anaconda3\\envs\\cuda\\Lib\\site-packages\\sklearn\\metrics\\_classification.py:2458: UserWarning: y_pred contains classes not in y_true\n",
      "  warnings.warn(\"y_pred contains classes not in y_true\")\n"
     ]
    },
    {
     "name": "stdout",
     "output_type": "stream",
     "text": [
      "{'val_loss': 1.4211224874235548, 'val_accuracy': 0.6248520710059171, 'precision': 0.5850775538917798, 'recall': 0.6248520710059171, 'f1-score': 0.5920963231222963, 'macro_f1-score': 0.2251626902717975, 'balanced_accuracy': 0.24949140898677416, 'mcc': 0.5128812427172393}\n",
      "Epoch 11/20\n"
     ]
    },
    {
     "name": "stderr",
     "output_type": "stream",
     "text": [
      "100%|██████████| 476/476 [03:33<00:00,  2.23it/s]\n",
      "D:\\Anaconda3\\envs\\cuda\\Lib\\site-packages\\sklearn\\metrics\\_classification.py:2458: UserWarning: y_pred contains classes not in y_true\n",
      "  warnings.warn(\"y_pred contains classes not in y_true\")\n"
     ]
    },
    {
     "name": "stdout",
     "output_type": "stream",
     "text": [
      "{'val_loss': 1.4773059487342834, 'val_accuracy': 0.6437869822485207, 'precision': 0.5812401880620505, 'recall': 0.6437869822485207, 'f1-score': 0.5902961499048446, 'macro_f1-score': 0.2500601889252287, 'balanced_accuracy': 0.259486370150818, 'mcc': 0.5193327673583334}\n",
      "Epoch 12/20\n"
     ]
    },
    {
     "name": "stderr",
     "output_type": "stream",
     "text": [
      "100%|██████████| 476/476 [03:33<00:00,  2.23it/s]\n",
      "D:\\Anaconda3\\envs\\cuda\\Lib\\site-packages\\sklearn\\metrics\\_classification.py:2458: UserWarning: y_pred contains classes not in y_true\n",
      "  warnings.warn(\"y_pred contains classes not in y_true\")\n"
     ]
    },
    {
     "name": "stdout",
     "output_type": "stream",
     "text": [
      "{'val_loss': 1.4682963900970962, 'val_accuracy': 0.6272189349112426, 'precision': 0.598909485983649, 'recall': 0.6272189349112426, 'f1-score': 0.5958383393511729, 'macro_f1-score': 0.25642614302762134, 'balanced_accuracy': 0.28031107013307993, 'mcc': 0.5136881189142176}\n",
      "Epoch 13/20\n"
     ]
    },
    {
     "name": "stderr",
     "output_type": "stream",
     "text": [
      "100%|██████████| 476/476 [03:33<00:00,  2.23it/s]\n",
      "D:\\Anaconda3\\envs\\cuda\\Lib\\site-packages\\sklearn\\metrics\\_classification.py:2458: UserWarning: y_pred contains classes not in y_true\n",
      "  warnings.warn(\"y_pred contains classes not in y_true\")\n"
     ]
    },
    {
     "name": "stdout",
     "output_type": "stream",
     "text": [
      "{'val_loss': 1.554945562245711, 'val_accuracy': 0.6224852071005917, 'precision': 0.5942418897464667, 'recall': 0.6224852071005917, 'f1-score': 0.5870085509021326, 'macro_f1-score': 0.2400667948352193, 'balanced_accuracy': 0.2475183627699022, 'mcc': 0.501442798546767}\n",
      "Epoch 14/20\n"
     ]
    },
    {
     "name": "stderr",
     "output_type": "stream",
     "text": [
      "100%|██████████| 476/476 [03:33<00:00,  2.23it/s]\n"
     ]
    },
    {
     "name": "stdout",
     "output_type": "stream",
     "text": [
      "{'val_loss': 1.664497488231029, 'val_accuracy': 0.6355029585798817, 'precision': 0.6134381885310016, 'recall': 0.6355029585798817, 'f1-score': 0.5847780149024713, 'macro_f1-score': 0.2362012723097517, 'balanced_accuracy': 0.24545445191105372, 'mcc': 0.5067801393699652}\n",
      "Epoch 15/20\n"
     ]
    },
    {
     "name": "stderr",
     "output_type": "stream",
     "text": [
      "100%|██████████| 476/476 [03:33<00:00,  2.23it/s]\n"
     ]
    },
    {
     "name": "stdout",
     "output_type": "stream",
     "text": [
      "{'val_loss': 1.5984695508794964, 'val_accuracy': 0.6201183431952663, 'precision': 0.58485571611076, 'recall': 0.6201183431952663, 'f1-score': 0.5839862277243296, 'macro_f1-score': 0.25011877721660164, 'balanced_accuracy': 0.26516244441682657, 'mcc': 0.5019489793024483}\n",
      "Early stopping triggered at epoch 15\n",
      "Fold 6\n",
      "Training set label distribution: {0: 3585, 1: 25, 2: 126, 3: 26, 4: 228, 5: 128, 6: 104, 7: 35, 8: 76, 9: 76, 10: 80, 11: 185, 12: 218, 13: 31, 14: 24, 15: 28, 16: 23, 17: 261, 18: 104, 19: 51, 20: 17, 21: 40, 22: 88, 23: 180, 24: 19, 25: 59, 26: 95, 27: 54, 28: 15, 29: 16, 30: 17, 31: 85, 32: 40, 33: 35, 34: 33, 35: 15, 36: 34, 37: 24, 38: 7, 39: 116, 40: 14, 41: 7, 42: 171, 43: 20, 44: 25, 45: 10, 46: 59, 47: 591, 48: 229, 49: 80}\n",
      "Validation set label distribution: {0: 389, 1: 6, 2: 14, 3: 4, 4: 29, 5: 17, 6: 14, 7: 4, 8: 9, 9: 5, 10: 8, 11: 30, 12: 23, 13: 5, 14: 5, 15: 3, 16: 2, 17: 28, 18: 12, 19: 5, 20: 1, 21: 4, 22: 9, 23: 20, 24: 1, 25: 4, 26: 12, 27: 7, 30: 2, 31: 15, 32: 5, 33: 5, 34: 4, 36: 1, 37: 3, 39: 13, 41: 4, 42: 13, 45: 1, 46: 9, 47: 70, 48: 23, 49: 7}\n"
     ]
    },
    {
     "name": "stderr",
     "output_type": "stream",
     "text": [
      "Some weights of RobertaModel were not initialized from the model checkpoint at roberta-base and are newly initialized: ['roberta.pooler.dense.bias', 'roberta.pooler.dense.weight']\n",
      "You should probably TRAIN this model on a down-stream task to be able to use it for predictions and inference.\n"
     ]
    },
    {
     "name": "stdout",
     "output_type": "stream",
     "text": [
      "Epoch 1/20\n"
     ]
    },
    {
     "name": "stderr",
     "output_type": "stream",
     "text": [
      "100%|██████████| 476/476 [03:33<00:00,  2.23it/s]\n"
     ]
    },
    {
     "name": "stdout",
     "output_type": "stream",
     "text": [
      "{'val_loss': 2.15605121963429, 'val_accuracy': 0.506508875739645, 'precision': 0.3142900237017884, 'recall': 0.506508875739645, 'f1-score': 0.3826649623199851, 'macro_f1-score': 0.032466635301508805, 'balanced_accuracy': 0.05067128423677716, 'mcc': 0.2689088895507067}\n",
      "Epoch 2/20\n"
     ]
    },
    {
     "name": "stderr",
     "output_type": "stream",
     "text": [
      "100%|██████████| 476/476 [03:33<00:00,  2.23it/s]\n"
     ]
    },
    {
     "name": "stdout",
     "output_type": "stream",
     "text": [
      "{'val_loss': 1.917901409122179, 'val_accuracy': 0.5467455621301776, 'precision': 0.3471293573067321, 'recall': 0.5467455621301776, 'f1-score': 0.4099049679966743, 'macro_f1-score': 0.043190024577392856, 'balanced_accuracy': 0.06715444278902492, 'mcc': 0.34353302729066026}\n",
      "Epoch 3/20\n"
     ]
    },
    {
     "name": "stderr",
     "output_type": "stream",
     "text": [
      "100%|██████████| 476/476 [03:33<00:00,  2.23it/s]\n"
     ]
    },
    {
     "name": "stdout",
     "output_type": "stream",
     "text": [
      "{'val_loss': 1.8840623374255199, 'val_accuracy': 0.5597633136094674, 'precision': 0.35110918034304056, 'recall': 0.5597633136094674, 'f1-score': 0.4271449629546632, 'macro_f1-score': 0.052129823414416514, 'balanced_accuracy': 0.07133874880322395, 'mcc': 0.36162063214018814}\n",
      "Epoch 4/20\n"
     ]
    },
    {
     "name": "stderr",
     "output_type": "stream",
     "text": [
      "100%|██████████| 476/476 [03:33<00:00,  2.23it/s]\n"
     ]
    },
    {
     "name": "stdout",
     "output_type": "stream",
     "text": [
      "{'val_loss': 1.756768934006961, 'val_accuracy': 0.5692307692307692, 'precision': 0.36289460604249, 'recall': 0.5692307692307692, 'f1-score': 0.4426116404717386, 'macro_f1-score': 0.06186092440061833, 'balanced_accuracy': 0.08480771297269286, 'mcc': 0.37755801480859047}\n",
      "Epoch 5/20\n"
     ]
    },
    {
     "name": "stderr",
     "output_type": "stream",
     "text": [
      "100%|██████████| 476/476 [03:33<00:00,  2.23it/s]\n"
     ]
    },
    {
     "name": "stdout",
     "output_type": "stream",
     "text": [
      "{'val_loss': 1.728758750096807, 'val_accuracy': 0.5680473372781065, 'precision': 0.3966101250283676, 'recall': 0.5680473372781065, 'f1-score': 0.4609069617406307, 'macro_f1-score': 0.07009960401281144, 'balanced_accuracy': 0.09327302193888744, 'mcc': 0.387421003375286}\n",
      "Epoch 6/20\n"
     ]
    },
    {
     "name": "stderr",
     "output_type": "stream",
     "text": [
      "100%|██████████| 476/476 [03:33<00:00,  2.23it/s]\n"
     ]
    },
    {
     "name": "stdout",
     "output_type": "stream",
     "text": [
      "{'val_loss': 1.7875863043767102, 'val_accuracy': 0.5467455621301776, 'precision': 0.43656792107912096, 'recall': 0.5467455621301776, 'f1-score': 0.46589991574381046, 'macro_f1-score': 0.064253087949917, 'balanced_accuracy': 0.0877379719659958, 'mcc': 0.38182012647381125}\n",
      "Epoch 7/20\n"
     ]
    },
    {
     "name": "stderr",
     "output_type": "stream",
     "text": [
      "100%|██████████| 476/476 [03:33<00:00,  2.23it/s]\n"
     ]
    },
    {
     "name": "stdout",
     "output_type": "stream",
     "text": [
      "{'val_loss': 1.7578233143068709, 'val_accuracy': 0.5834319526627219, 'precision': 0.40426470093047656, 'recall': 0.5834319526627219, 'f1-score': 0.47231371567739155, 'macro_f1-score': 0.08513213669990648, 'balanced_accuracy': 0.10605167593766028, 'mcc': 0.41015579315020695}\n",
      "Epoch 8/20\n"
     ]
    },
    {
     "name": "stderr",
     "output_type": "stream",
     "text": [
      "100%|██████████| 476/476 [03:33<00:00,  2.23it/s]\n"
     ]
    },
    {
     "name": "stdout",
     "output_type": "stream",
     "text": [
      "{'val_loss': 1.6837303728427526, 'val_accuracy': 0.5893491124260355, 'precision': 0.44652913831873287, 'recall': 0.5893491124260355, 'f1-score': 0.5007570578447867, 'macro_f1-score': 0.11163976422440192, 'balanced_accuracy': 0.126271876560173, 'mcc': 0.4249717128998252}\n",
      "Epoch 9/20\n"
     ]
    },
    {
     "name": "stderr",
     "output_type": "stream",
     "text": [
      "100%|██████████| 476/476 [03:33<00:00,  2.23it/s]\n"
     ]
    },
    {
     "name": "stdout",
     "output_type": "stream",
     "text": [
      "{'val_loss': 1.6056098679326616, 'val_accuracy': 0.5822485207100592, 'precision': 0.4206573682949187, 'recall': 0.5822485207100592, 'f1-score': 0.4847647095489825, 'macro_f1-score': 0.09672012358963632, 'balanced_accuracy': 0.11765810384427097, 'mcc': 0.41554019945048265}\n",
      "Epoch 10/20\n"
     ]
    },
    {
     "name": "stderr",
     "output_type": "stream",
     "text": [
      "100%|██████████| 476/476 [03:33<00:00,  2.23it/s]\n"
     ]
    },
    {
     "name": "stdout",
     "output_type": "stream",
     "text": [
      "{'val_loss': 1.758857622461499, 'val_accuracy': 0.5834319526627219, 'precision': 0.41300382591183354, 'recall': 0.5834319526627219, 'f1-score': 0.48180349299218767, 'macro_f1-score': 0.0958942669628777, 'balanced_accuracy': 0.11339666964535797, 'mcc': 0.41112669604138763}\n",
      "Epoch 11/20\n"
     ]
    },
    {
     "name": "stderr",
     "output_type": "stream",
     "text": [
      "100%|██████████| 476/476 [03:33<00:00,  2.23it/s]\n"
     ]
    },
    {
     "name": "stdout",
     "output_type": "stream",
     "text": [
      "{'val_loss': 1.628809560020015, 'val_accuracy': 0.5668639053254438, 'precision': 0.4797474536680268, 'recall': 0.5668639053254438, 'f1-score': 0.5069748717948099, 'macro_f1-score': 0.10907805344134627, 'balanced_accuracy': 0.13368439792523318, 'mcc': 0.4217370686271468}\n",
      "Early stopping triggered at epoch 11\n",
      "Fold 7\n",
      "Training set label distribution: {0: 3551, 1: 28, 2: 126, 3: 27, 4: 229, 5: 129, 6: 109, 7: 35, 8: 81, 9: 74, 10: 79, 11: 198, 12: 223, 13: 34, 14: 27, 15: 28, 16: 24, 17: 264, 18: 103, 19: 51, 20: 15, 21: 35, 22: 88, 23: 184, 24: 17, 25: 61, 26: 96, 27: 57, 28: 15, 29: 14, 30: 19, 31: 86, 32: 43, 33: 35, 34: 35, 35: 13, 36: 28, 37: 26, 38: 7, 39: 118, 40: 14, 41: 11, 42: 158, 43: 19, 44: 23, 45: 9, 46: 63, 47: 596, 48: 224, 49: 80}\n",
      "Validation set label distribution: {0: 423, 1: 3, 2: 14, 3: 3, 4: 28, 5: 16, 6: 9, 7: 4, 8: 4, 9: 7, 10: 9, 11: 17, 12: 18, 13: 2, 14: 2, 15: 3, 16: 1, 17: 25, 18: 13, 19: 5, 20: 3, 21: 9, 22: 9, 23: 16, 24: 3, 25: 2, 26: 11, 27: 4, 29: 2, 31: 14, 32: 2, 33: 5, 34: 2, 35: 2, 36: 7, 37: 1, 39: 11, 42: 26, 43: 1, 44: 2, 45: 2, 46: 5, 47: 65, 48: 28, 49: 7}\n"
     ]
    },
    {
     "name": "stderr",
     "output_type": "stream",
     "text": [
      "Some weights of RobertaModel were not initialized from the model checkpoint at roberta-base and are newly initialized: ['roberta.pooler.dense.bias', 'roberta.pooler.dense.weight']\n",
      "You should probably TRAIN this model on a down-stream task to be able to use it for predictions and inference.\n"
     ]
    },
    {
     "name": "stdout",
     "output_type": "stream",
     "text": [
      "Epoch 1/20\n"
     ]
    },
    {
     "name": "stderr",
     "output_type": "stream",
     "text": [
      "100%|██████████| 476/476 [03:33<00:00,  2.23it/s]\n"
     ]
    },
    {
     "name": "stdout",
     "output_type": "stream",
     "text": [
      "{'val_loss': 1.6449146000844128, 'val_accuracy': 0.5964497041420118, 'precision': 0.4232089303491575, 'recall': 0.5964497041420118, 'f1-score': 0.48960412099281286, 'macro_f1-score': 0.056902623880335734, 'balanced_accuracy': 0.0786537177033631, 'mcc': 0.39784737945545184}\n",
      "Epoch 2/20\n"
     ]
    },
    {
     "name": "stderr",
     "output_type": "stream",
     "text": [
      "100%|██████████| 476/476 [03:33<00:00,  2.23it/s]\n"
     ]
    },
    {
     "name": "stdout",
     "output_type": "stream",
     "text": [
      "{'val_loss': 1.5044486252766736, 'val_accuracy': 0.6248520710059171, 'precision': 0.46662517670290377, 'recall': 0.6248520710059171, 'f1-score': 0.5248582660374828, 'macro_f1-score': 0.10758682883289801, 'balanced_accuracy': 0.13185542248662815, 'mcc': 0.4472277483541065}\n",
      "Epoch 3/20\n"
     ]
    },
    {
     "name": "stderr",
     "output_type": "stream",
     "text": [
      "100%|██████████| 476/476 [03:33<00:00,  2.23it/s]\n"
     ]
    },
    {
     "name": "stdout",
     "output_type": "stream",
     "text": [
      "{'val_loss': 1.4595211631846878, 'val_accuracy': 0.621301775147929, 'precision': 0.4929370340483905, 'recall': 0.621301775147929, 'f1-score': 0.5387097745820196, 'macro_f1-score': 0.11549549116261325, 'balanced_accuracy': 0.13995624666901263, 'mcc': 0.44687331985697026}\n",
      "Epoch 4/20\n"
     ]
    },
    {
     "name": "stderr",
     "output_type": "stream",
     "text": [
      "100%|██████████| 476/476 [03:33<00:00,  2.23it/s]\n"
     ]
    },
    {
     "name": "stdout",
     "output_type": "stream",
     "text": [
      "{'val_loss': 1.4362903788404644, 'val_accuracy': 0.6248520710059171, 'precision': 0.496195221492841, 'recall': 0.6248520710059171, 'f1-score': 0.5400795868068846, 'macro_f1-score': 0.12401341425748062, 'balanced_accuracy': 0.14619920714956175, 'mcc': 0.4547294369447064}\n",
      "Epoch 5/20\n"
     ]
    },
    {
     "name": "stderr",
     "output_type": "stream",
     "text": [
      "100%|██████████| 476/476 [03:33<00:00,  2.23it/s]\n"
     ]
    },
    {
     "name": "stdout",
     "output_type": "stream",
     "text": [
      "{'val_loss': 1.4097257397084866, 'val_accuracy': 0.6402366863905326, 'precision': 0.5232135450516487, 'recall': 0.6402366863905326, 'f1-score': 0.5563264664935463, 'macro_f1-score': 0.1480468249695599, 'balanced_accuracy': 0.15938185391147427, 'mcc': 0.476010619932409}\n",
      "Epoch 6/20\n"
     ]
    },
    {
     "name": "stderr",
     "output_type": "stream",
     "text": [
      "100%|██████████| 476/476 [03:33<00:00,  2.23it/s]\n"
     ]
    },
    {
     "name": "stdout",
     "output_type": "stream",
     "text": [
      "{'val_loss': 1.3751080665948257, 'val_accuracy': 0.6272189349112426, 'precision': 0.5786506906622603, 'recall': 0.6272189349112426, 'f1-score': 0.5762579707290162, 'macro_f1-score': 0.15703350546330067, 'balanced_accuracy': 0.18102449252720426, 'mcc': 0.47938561891169695}\n",
      "Epoch 7/20\n"
     ]
    },
    {
     "name": "stderr",
     "output_type": "stream",
     "text": [
      "100%|██████████| 476/476 [03:33<00:00,  2.23it/s]\n"
     ]
    },
    {
     "name": "stdout",
     "output_type": "stream",
     "text": [
      "{'val_loss': 1.3906573776928883, 'val_accuracy': 0.6094674556213018, 'precision': 0.5388975518254163, 'recall': 0.6094674556213018, 'f1-score': 0.5597377909498992, 'macro_f1-score': 0.15454452860484047, 'balanced_accuracy': 0.1990797303023002, 'mcc': 0.46584555054047827}\n",
      "Epoch 8/20\n"
     ]
    },
    {
     "name": "stderr",
     "output_type": "stream",
     "text": [
      "100%|██████████| 476/476 [03:33<00:00,  2.23it/s]\n"
     ]
    },
    {
     "name": "stdout",
     "output_type": "stream",
     "text": [
      "{'val_loss': 1.3078879039242584, 'val_accuracy': 0.6414201183431952, 'precision': 0.608683919470462, 'recall': 0.6414201183431952, 'f1-score': 0.6025689206660697, 'macro_f1-score': 0.18747321714893236, 'balanced_accuracy': 0.2091691155381185, 'mcc': 0.5056516650745805}\n",
      "Epoch 9/20\n"
     ]
    },
    {
     "name": "stderr",
     "output_type": "stream",
     "text": [
      "100%|██████████| 476/476 [03:33<00:00,  2.23it/s]\n",
      "D:\\Anaconda3\\envs\\cuda\\Lib\\site-packages\\sklearn\\metrics\\_classification.py:2458: UserWarning: y_pred contains classes not in y_true\n",
      "  warnings.warn(\"y_pred contains classes not in y_true\")\n"
     ]
    },
    {
     "name": "stdout",
     "output_type": "stream",
     "text": [
      "{'val_loss': 1.3643826167538482, 'val_accuracy': 0.642603550295858, 'precision': 0.6072582050467427, 'recall': 0.642603550295858, 'f1-score': 0.6032973507585385, 'macro_f1-score': 0.19967948259332402, 'balanced_accuracy': 0.22682892904774427, 'mcc': 0.504333186635397}\n",
      "Epoch 10/20\n"
     ]
    },
    {
     "name": "stderr",
     "output_type": "stream",
     "text": [
      "100%|██████████| 476/476 [03:33<00:00,  2.23it/s]\n",
      "D:\\Anaconda3\\envs\\cuda\\Lib\\site-packages\\sklearn\\metrics\\_classification.py:2458: UserWarning: y_pred contains classes not in y_true\n",
      "  warnings.warn(\"y_pred contains classes not in y_true\")\n"
     ]
    },
    {
     "name": "stdout",
     "output_type": "stream",
     "text": [
      "{'val_loss': 1.3279962460949737, 'val_accuracy': 0.6201183431952663, 'precision': 0.6369892395559414, 'recall': 0.6201183431952663, 'f1-score': 0.6110924392523797, 'macro_f1-score': 0.21050207794191994, 'balanced_accuracy': 0.24825243934359495, 'mcc': 0.4945602235673038}\n",
      "Epoch 11/20\n"
     ]
    },
    {
     "name": "stderr",
     "output_type": "stream",
     "text": [
      "100%|██████████| 476/476 [03:33<00:00,  2.23it/s]\n",
      "D:\\Anaconda3\\envs\\cuda\\Lib\\site-packages\\sklearn\\metrics\\_classification.py:2458: UserWarning: y_pred contains classes not in y_true\n",
      "  warnings.warn(\"y_pred contains classes not in y_true\")\n"
     ]
    },
    {
     "name": "stdout",
     "output_type": "stream",
     "text": [
      "{'val_loss': 1.3436926839486607, 'val_accuracy': 0.6402366863905326, 'precision': 0.6144009739592051, 'recall': 0.6402366863905326, 'f1-score': 0.6142916445448123, 'macro_f1-score': 0.230996905805549, 'balanced_accuracy': 0.25982637996592944, 'mcc': 0.5069304947417609}\n",
      "Epoch 12/20\n"
     ]
    },
    {
     "name": "stderr",
     "output_type": "stream",
     "text": [
      "100%|██████████| 476/476 [03:33<00:00,  2.23it/s]\n",
      "D:\\Anaconda3\\envs\\cuda\\Lib\\site-packages\\sklearn\\metrics\\_classification.py:2458: UserWarning: y_pred contains classes not in y_true\n",
      "  warnings.warn(\"y_pred contains classes not in y_true\")\n"
     ]
    },
    {
     "name": "stdout",
     "output_type": "stream",
     "text": [
      "{'val_loss': 1.4510772925502848, 'val_accuracy': 0.5988165680473373, 'precision': 0.5792861265462798, 'recall': 0.5988165680473373, 'f1-score': 0.573922572613599, 'macro_f1-score': 0.1876473083713363, 'balanced_accuracy': 0.22405810194379241, 'mcc': 0.45707119719742634}\n",
      "Epoch 13/20\n"
     ]
    },
    {
     "name": "stderr",
     "output_type": "stream",
     "text": [
      "100%|██████████| 476/476 [03:33<00:00,  2.23it/s]\n",
      "D:\\Anaconda3\\envs\\cuda\\Lib\\site-packages\\sklearn\\metrics\\_classification.py:2458: UserWarning: y_pred contains classes not in y_true\n",
      "  warnings.warn(\"y_pred contains classes not in y_true\")\n"
     ]
    },
    {
     "name": "stdout",
     "output_type": "stream",
     "text": [
      "{'val_loss': 1.3409797672955495, 'val_accuracy': 0.6544378698224852, 'precision': 0.6339581578864039, 'recall': 0.6544378698224852, 'f1-score': 0.6277818769213687, 'macro_f1-score': 0.2500278182279182, 'balanced_accuracy': 0.28565033062550793, 'mcc': 0.5311055580749817}\n",
      "Epoch 14/20\n"
     ]
    },
    {
     "name": "stderr",
     "output_type": "stream",
     "text": [
      "100%|██████████| 476/476 [03:33<00:00,  2.23it/s]\n",
      "D:\\Anaconda3\\envs\\cuda\\Lib\\site-packages\\sklearn\\metrics\\_classification.py:2458: UserWarning: y_pred contains classes not in y_true\n",
      "  warnings.warn(\"y_pred contains classes not in y_true\")\n"
     ]
    },
    {
     "name": "stdout",
     "output_type": "stream",
     "text": [
      "{'val_loss': 1.313858134566613, 'val_accuracy': 0.6544378698224852, 'precision': 0.6358111331092468, 'recall': 0.6544378698224852, 'f1-score': 0.625043843584738, 'macro_f1-score': 0.236592897921969, 'balanced_accuracy': 0.2535289225600031, 'mcc': 0.5149236958573321}\n",
      "Epoch 15/20\n"
     ]
    },
    {
     "name": "stderr",
     "output_type": "stream",
     "text": [
      "100%|██████████| 476/476 [03:33<00:00,  2.23it/s]\n",
      "D:\\Anaconda3\\envs\\cuda\\Lib\\site-packages\\sklearn\\metrics\\_classification.py:2458: UserWarning: y_pred contains classes not in y_true\n",
      "  warnings.warn(\"y_pred contains classes not in y_true\")\n"
     ]
    },
    {
     "name": "stdout",
     "output_type": "stream",
     "text": [
      "{'val_loss': 1.337401883219773, 'val_accuracy': 0.6579881656804734, 'precision': 0.6363939703310719, 'recall': 0.6579881656804734, 'f1-score': 0.6279849763372123, 'macro_f1-score': 0.2692308090033683, 'balanced_accuracy': 0.28169385975664657, 'mcc': 0.5212722975449274}\n",
      "Epoch 16/20\n"
     ]
    },
    {
     "name": "stderr",
     "output_type": "stream",
     "text": [
      "100%|██████████| 476/476 [03:33<00:00,  2.23it/s]\n",
      "D:\\Anaconda3\\envs\\cuda\\Lib\\site-packages\\sklearn\\metrics\\_classification.py:2458: UserWarning: y_pred contains classes not in y_true\n",
      "  warnings.warn(\"y_pred contains classes not in y_true\")\n"
     ]
    },
    {
     "name": "stdout",
     "output_type": "stream",
     "text": [
      "{'val_loss': 1.4189748910238158, 'val_accuracy': 0.6461538461538462, 'precision': 0.6256619188767208, 'recall': 0.6461538461538462, 'f1-score': 0.6204678417208056, 'macro_f1-score': 0.2552052486141102, 'balanced_accuracy': 0.28268084525218445, 'mcc': 0.5115003305474627}\n",
      "Epoch 17/20\n"
     ]
    },
    {
     "name": "stderr",
     "output_type": "stream",
     "text": [
      "100%|██████████| 476/476 [03:33<00:00,  2.23it/s]\n",
      "D:\\Anaconda3\\envs\\cuda\\Lib\\site-packages\\sklearn\\metrics\\_classification.py:2458: UserWarning: y_pred contains classes not in y_true\n",
      "  warnings.warn(\"y_pred contains classes not in y_true\")\n"
     ]
    },
    {
     "name": "stdout",
     "output_type": "stream",
     "text": [
      "{'val_loss': 1.3205095102202218, 'val_accuracy': 0.6402366863905326, 'precision': 0.6539315913280203, 'recall': 0.6402366863905326, 'f1-score': 0.6313102731149902, 'macro_f1-score': 0.2751594942888234, 'balanced_accuracy': 0.33147983607578935, 'mcc': 0.5186420690848884}\n",
      "Epoch 18/20\n"
     ]
    },
    {
     "name": "stderr",
     "output_type": "stream",
     "text": [
      "100%|██████████| 476/476 [03:33<00:00,  2.23it/s]\n",
      "D:\\Anaconda3\\envs\\cuda\\Lib\\site-packages\\sklearn\\metrics\\_classification.py:2458: UserWarning: y_pred contains classes not in y_true\n",
      "  warnings.warn(\"y_pred contains classes not in y_true\")\n"
     ]
    },
    {
     "name": "stdout",
     "output_type": "stream",
     "text": [
      "{'val_loss': 1.3826205921622943, 'val_accuracy': 0.6532544378698225, 'precision': 0.6286270859806609, 'recall': 0.6532544378698225, 'f1-score': 0.6262967294352636, 'macro_f1-score': 0.23836822537943228, 'balanced_accuracy': 0.2586955412053451, 'mcc': 0.5192985500208619}\n",
      "Epoch 19/20\n"
     ]
    },
    {
     "name": "stderr",
     "output_type": "stream",
     "text": [
      "100%|██████████| 476/476 [03:33<00:00,  2.23it/s]\n",
      "D:\\Anaconda3\\envs\\cuda\\Lib\\site-packages\\sklearn\\metrics\\_classification.py:2458: UserWarning: y_pred contains classes not in y_true\n",
      "  warnings.warn(\"y_pred contains classes not in y_true\")\n"
     ]
    },
    {
     "name": "stdout",
     "output_type": "stream",
     "text": [
      "{'val_loss': 1.3538571506176356, 'val_accuracy': 0.6402366863905326, 'precision': 0.6609359560136745, 'recall': 0.6402366863905326, 'f1-score': 0.638598026460289, 'macro_f1-score': 0.2909237556803488, 'balanced_accuracy': 0.3435534026303739, 'mcc': 0.5275407406623851}\n",
      "Epoch 20/20\n"
     ]
    },
    {
     "name": "stderr",
     "output_type": "stream",
     "text": [
      "100%|██████████| 476/476 [03:33<00:00,  2.23it/s]\n",
      "D:\\Anaconda3\\envs\\cuda\\Lib\\site-packages\\sklearn\\metrics\\_classification.py:2458: UserWarning: y_pred contains classes not in y_true\n",
      "  warnings.warn(\"y_pred contains classes not in y_true\")\n"
     ]
    },
    {
     "name": "stdout",
     "output_type": "stream",
     "text": [
      "{'val_loss': 1.440504789352417, 'val_accuracy': 0.6733727810650888, 'precision': 0.6294706529137464, 'recall': 0.6733727810650888, 'f1-score': 0.6362029908624931, 'macro_f1-score': 0.2821381656915656, 'balanced_accuracy': 0.30127669906539334, 'mcc': 0.5422644027859286}\n",
      "Fold 8\n",
      "Training set label distribution: {0: 3585, 1: 29, 2: 127, 3: 27, 4: 229, 5: 126, 6: 103, 7: 34, 8: 68, 9: 77, 10: 82, 11: 198, 12: 207, 13: 31, 14: 26, 15: 27, 16: 21, 17: 254, 18: 107, 19: 52, 20: 14, 21: 44, 22: 80, 23: 184, 24: 19, 25: 56, 26: 98, 27: 58, 28: 13, 29: 14, 30: 18, 31: 96, 32: 40, 33: 35, 34: 35, 35: 14, 36: 33, 37: 23, 38: 6, 39: 120, 40: 14, 41: 11, 42: 166, 43: 17, 44: 24, 45: 9, 46: 63, 47: 593, 48: 224, 49: 78}\n",
      "Validation set label distribution: {0: 389, 1: 2, 2: 13, 3: 3, 4: 28, 5: 19, 6: 15, 7: 5, 8: 17, 9: 4, 10: 6, 11: 17, 12: 34, 13: 5, 14: 3, 15: 4, 16: 4, 17: 35, 18: 9, 19: 4, 20: 4, 22: 17, 23: 16, 24: 1, 25: 7, 26: 9, 27: 3, 28: 2, 29: 2, 30: 1, 31: 4, 32: 5, 33: 5, 34: 2, 35: 1, 36: 2, 37: 4, 38: 1, 39: 9, 42: 18, 43: 3, 44: 1, 45: 2, 46: 5, 47: 68, 48: 28, 49: 9}\n"
     ]
    },
    {
     "name": "stderr",
     "output_type": "stream",
     "text": [
      "Some weights of RobertaModel were not initialized from the model checkpoint at roberta-base and are newly initialized: ['roberta.pooler.dense.bias', 'roberta.pooler.dense.weight']\n",
      "You should probably TRAIN this model on a down-stream task to be able to use it for predictions and inference.\n"
     ]
    },
    {
     "name": "stdout",
     "output_type": "stream",
     "text": [
      "Epoch 1/20\n"
     ]
    },
    {
     "name": "stderr",
     "output_type": "stream",
     "text": [
      "100%|██████████| 476/476 [03:33<00:00,  2.23it/s]\n"
     ]
    },
    {
     "name": "stdout",
     "output_type": "stream",
     "text": [
      "{'val_loss': 2.0707548744273634, 'val_accuracy': 0.5408284023668639, 'precision': 0.3249053639025784, 'recall': 0.5408284023668639, 'f1-score': 0.3943167471122443, 'macro_f1-score': 0.03921735954948202, 'balanced_accuracy': 0.04664653806608242, 'mcc': 0.30853815766512555}\n",
      "Epoch 2/20\n"
     ]
    },
    {
     "name": "stderr",
     "output_type": "stream",
     "text": [
      "100%|██████████| 476/476 [03:33<00:00,  2.23it/s]\n"
     ]
    },
    {
     "name": "stdout",
     "output_type": "stream",
     "text": [
      "{'val_loss': 1.7977910930255674, 'val_accuracy': 0.578698224852071, 'precision': 0.3690776675345251, 'recall': 0.578698224852071, 'f1-score': 0.44822162231471485, 'macro_f1-score': 0.06154658653476852, 'balanced_accuracy': 0.07361187974327556, 'mcc': 0.386144771707812}\n",
      "Epoch 3/20\n"
     ]
    },
    {
     "name": "stderr",
     "output_type": "stream",
     "text": [
      "100%|██████████| 476/476 [03:33<00:00,  2.23it/s]\n"
     ]
    },
    {
     "name": "stdout",
     "output_type": "stream",
     "text": [
      "{'val_loss': 1.6971794130667202, 'val_accuracy': 0.591715976331361, 'precision': 0.4168778516496655, 'recall': 0.591715976331361, 'f1-score': 0.4871422170333962, 'macro_f1-score': 0.07020062449322025, 'balanced_accuracy': 0.09403793442346065, 'mcc': 0.42958921315765425}\n",
      "Epoch 4/20\n"
     ]
    },
    {
     "name": "stderr",
     "output_type": "stream",
     "text": [
      "100%|██████████| 476/476 [03:33<00:00,  2.23it/s]\n"
     ]
    },
    {
     "name": "stdout",
     "output_type": "stream",
     "text": [
      "{'val_loss': 1.8627519056482136, 'val_accuracy': 0.5136094674556213, 'precision': 0.4280741911283218, 'recall': 0.5136094674556213, 'f1-score': 0.4451734502571977, 'macro_f1-score': 0.08394677345367997, 'balanced_accuracy': 0.09548232482409649, 'mcc': 0.33029604437893434}\n",
      "Epoch 5/20\n"
     ]
    },
    {
     "name": "stderr",
     "output_type": "stream",
     "text": [
      "100%|██████████| 476/476 [03:33<00:00,  2.23it/s]\n"
     ]
    },
    {
     "name": "stdout",
     "output_type": "stream",
     "text": [
      "{'val_loss': 1.6246430637701503, 'val_accuracy': 0.6082840236686391, 'precision': 0.452825531880682, 'recall': 0.6082840236686391, 'f1-score': 0.5092061181386139, 'macro_f1-score': 0.09882172164092036, 'balanced_accuracy': 0.10920198173418907, 'mcc': 0.44883403830602403}\n",
      "Epoch 6/20\n"
     ]
    },
    {
     "name": "stderr",
     "output_type": "stream",
     "text": [
      "100%|██████████| 476/476 [03:33<00:00,  2.23it/s]\n"
     ]
    },
    {
     "name": "stdout",
     "output_type": "stream",
     "text": [
      "{'val_loss': 1.6413677137977671, 'val_accuracy': 0.5952662721893491, 'precision': 0.4531200066116472, 'recall': 0.5952662721893491, 'f1-score': 0.5035034242470062, 'macro_f1-score': 0.11675234612026404, 'balanced_accuracy': 0.13341590089776373, 'mcc': 0.4340535940596826}\n",
      "Epoch 7/20\n"
     ]
    },
    {
     "name": "stderr",
     "output_type": "stream",
     "text": [
      "100%|██████████| 476/476 [03:33<00:00,  2.23it/s]\n"
     ]
    },
    {
     "name": "stdout",
     "output_type": "stream",
     "text": [
      "{'val_loss': 1.5452581610319749, 'val_accuracy': 0.5964497041420118, 'precision': 0.49436654726212037, 'recall': 0.5964497041420118, 'f1-score': 0.5156213338044209, 'macro_f1-score': 0.1415891380341722, 'balanced_accuracy': 0.16473595909719219, 'mcc': 0.4411460086360193}\n",
      "Epoch 8/20\n"
     ]
    },
    {
     "name": "stderr",
     "output_type": "stream",
     "text": [
      "100%|██████████| 476/476 [03:33<00:00,  2.23it/s]\n"
     ]
    },
    {
     "name": "stdout",
     "output_type": "stream",
     "text": [
      "{'val_loss': 1.5282498969222016, 'val_accuracy': 0.6142011834319526, 'precision': 0.5566711720437579, 'recall': 0.6142011834319526, 'f1-score': 0.5646191830439727, 'macro_f1-score': 0.17943446454925124, 'balanced_accuracy': 0.2050805774434019, 'mcc': 0.48544742820305853}\n",
      "Epoch 9/20\n"
     ]
    },
    {
     "name": "stderr",
     "output_type": "stream",
     "text": [
      "100%|██████████| 476/476 [03:33<00:00,  2.23it/s]\n"
     ]
    },
    {
     "name": "stdout",
     "output_type": "stream",
     "text": [
      "{'val_loss': 1.5175915135527558, 'val_accuracy': 0.6035502958579881, 'precision': 0.5234683581107694, 'recall': 0.6035502958579881, 'f1-score': 0.5549303795558177, 'macro_f1-score': 0.14260727287336417, 'balanced_accuracy': 0.1608944294909653, 'mcc': 0.46090698167356836}\n",
      "Epoch 10/20\n"
     ]
    },
    {
     "name": "stderr",
     "output_type": "stream",
     "text": [
      "100%|██████████| 476/476 [03:33<00:00,  2.23it/s]\n"
     ]
    },
    {
     "name": "stdout",
     "output_type": "stream",
     "text": [
      "{'val_loss': 1.4825538354662229, 'val_accuracy': 0.6130177514792899, 'precision': 0.5356958683088874, 'recall': 0.6130177514792899, 'f1-score': 0.5576755698065293, 'macro_f1-score': 0.1590661845541248, 'balanced_accuracy': 0.18437859107603574, 'mcc': 0.4817996989114583}\n",
      "Epoch 11/20\n"
     ]
    },
    {
     "name": "stderr",
     "output_type": "stream",
     "text": [
      "100%|██████████| 476/476 [03:33<00:00,  2.23it/s]\n"
     ]
    },
    {
     "name": "stdout",
     "output_type": "stream",
     "text": [
      "{'val_loss': 1.513656129252236, 'val_accuracy': 0.6449704142011834, 'precision': 0.5588066255541089, 'recall': 0.6449704142011834, 'f1-score': 0.5838927898751344, 'macro_f1-score': 0.2220183453610238, 'balanced_accuracy': 0.22460623603101412, 'mcc': 0.5138067452833012}\n",
      "Epoch 12/20\n"
     ]
    },
    {
     "name": "stderr",
     "output_type": "stream",
     "text": [
      "100%|██████████| 476/476 [03:33<00:00,  2.23it/s]\n"
     ]
    },
    {
     "name": "stdout",
     "output_type": "stream",
     "text": [
      "{'val_loss': 1.4730931351769645, 'val_accuracy': 0.6307692307692307, 'precision': 0.5642144025099329, 'recall': 0.6307692307692307, 'f1-score': 0.5848278842675924, 'macro_f1-score': 0.20794946140412493, 'balanced_accuracy': 0.21313043319917022, 'mcc': 0.5009403615760087}\n",
      "Epoch 13/20\n"
     ]
    },
    {
     "name": "stderr",
     "output_type": "stream",
     "text": [
      "100%|██████████| 476/476 [03:33<00:00,  2.23it/s]\n",
      "D:\\Anaconda3\\envs\\cuda\\Lib\\site-packages\\sklearn\\metrics\\_classification.py:2458: UserWarning: y_pred contains classes not in y_true\n",
      "  warnings.warn(\"y_pred contains classes not in y_true\")\n"
     ]
    },
    {
     "name": "stdout",
     "output_type": "stream",
     "text": [
      "{'val_loss': 1.528565547095155, 'val_accuracy': 0.6390532544378699, 'precision': 0.5691048567894464, 'recall': 0.6390532544378699, 'f1-score': 0.5733321868389084, 'macro_f1-score': 0.19627104457724132, 'balanced_accuracy': 0.20152359392874322, 'mcc': 0.5035932493850984}\n",
      "Epoch 14/20\n"
     ]
    },
    {
     "name": "stderr",
     "output_type": "stream",
     "text": [
      "100%|██████████| 476/476 [03:33<00:00,  2.23it/s]\n"
     ]
    },
    {
     "name": "stdout",
     "output_type": "stream",
     "text": [
      "{'val_loss': 1.5444958772299424, 'val_accuracy': 0.6082840236686391, 'precision': 0.5495831529887875, 'recall': 0.6082840236686391, 'f1-score': 0.5661003902864858, 'macro_f1-score': 0.17759368389679653, 'balanced_accuracy': 0.19556285795732123, 'mcc': 0.4874977109112028}\n",
      "Early stopping triggered at epoch 14\n",
      "Fold 9\n",
      "Training set label distribution: {0: 3574, 1: 29, 2: 128, 3: 26, 4: 234, 5: 130, 6: 103, 7: 34, 8: 77, 9: 74, 10: 74, 11: 193, 12: 214, 13: 30, 14: 27, 15: 26, 16: 22, 17: 266, 18: 104, 19: 51, 20: 18, 21: 40, 22: 87, 23: 170, 24: 18, 25: 55, 26: 90, 27: 58, 28: 12, 29: 14, 30: 16, 31: 88, 32: 40, 33: 36, 34: 34, 35: 13, 36: 29, 37: 24, 38: 7, 39: 121, 40: 12, 41: 11, 42: 167, 43: 16, 44: 20, 45: 11, 46: 64, 47: 614, 48: 232, 49: 76}\n",
      "Validation set label distribution: {0: 400, 1: 2, 2: 12, 3: 4, 4: 23, 5: 15, 6: 15, 7: 5, 8: 8, 9: 7, 10: 14, 11: 22, 12: 27, 13: 6, 14: 2, 15: 5, 16: 3, 17: 23, 18: 12, 19: 5, 21: 4, 22: 10, 23: 30, 24: 2, 25: 8, 26: 17, 27: 3, 28: 3, 29: 2, 30: 3, 31: 12, 32: 5, 33: 4, 34: 3, 35: 2, 36: 6, 37: 3, 39: 8, 40: 2, 42: 17, 43: 4, 44: 5, 46: 4, 47: 47, 48: 20, 49: 11}\n"
     ]
    },
    {
     "name": "stderr",
     "output_type": "stream",
     "text": [
      "Some weights of RobertaModel were not initialized from the model checkpoint at roberta-base and are newly initialized: ['roberta.pooler.dense.bias', 'roberta.pooler.dense.weight']\n",
      "You should probably TRAIN this model on a down-stream task to be able to use it for predictions and inference.\n"
     ]
    },
    {
     "name": "stdout",
     "output_type": "stream",
     "text": [
      "Epoch 1/20\n"
     ]
    },
    {
     "name": "stderr",
     "output_type": "stream",
     "text": [
      "100%|██████████| 476/476 [03:33<00:00,  2.23it/s]\n"
     ]
    },
    {
     "name": "stdout",
     "output_type": "stream",
     "text": [
      "{'val_loss': 1.7920832206618111, 'val_accuracy': 0.5621301775147929, 'precision': 0.37068094764677245, 'recall': 0.5621301775147929, 'f1-score': 0.444283721371583, 'macro_f1-score': 0.058720473098553, 'balanced_accuracy': 0.0847889167934398, 'mcc': 0.3661150854474178}\n",
      "Epoch 2/20\n"
     ]
    },
    {
     "name": "stderr",
     "output_type": "stream",
     "text": [
      "100%|██████████| 476/476 [03:33<00:00,  2.23it/s]\n"
     ]
    },
    {
     "name": "stdout",
     "output_type": "stream",
     "text": [
      "{'val_loss': 1.6606458785398952, 'val_accuracy': 0.5905325443786982, 'precision': 0.402609225162316, 'recall': 0.5905325443786982, 'f1-score': 0.47385203683664484, 'macro_f1-score': 0.095387612433988, 'balanced_accuracy': 0.12618779802204974, 'mcc': 0.4119165714848983}\n",
      "Epoch 3/20\n"
     ]
    },
    {
     "name": "stderr",
     "output_type": "stream",
     "text": [
      "100%|██████████| 476/476 [03:33<00:00,  2.23it/s]\n"
     ]
    },
    {
     "name": "stdout",
     "output_type": "stream",
     "text": [
      "{'val_loss': 1.5085117277109399, 'val_accuracy': 0.6047337278106509, 'precision': 0.46798616005269184, 'recall': 0.6047337278106509, 'f1-score': 0.5165497606406748, 'macro_f1-score': 0.14802053285646163, 'balanced_accuracy': 0.17224045711818708, 'mcc': 0.44538255529353016}\n",
      "Epoch 4/20\n"
     ]
    },
    {
     "name": "stderr",
     "output_type": "stream",
     "text": [
      "100%|██████████| 476/476 [03:33<00:00,  2.23it/s]\n"
     ]
    },
    {
     "name": "stdout",
     "output_type": "stream",
     "text": [
      "{'val_loss': 1.4492255927256819, 'val_accuracy': 0.6272189349112426, 'precision': 0.5456942894743337, 'recall': 0.6272189349112426, 'f1-score': 0.5643250876944091, 'macro_f1-score': 0.20933505074856387, 'balanced_accuracy': 0.22171135880676807, 'mcc': 0.4813355826520672}\n",
      "Epoch 5/20\n"
     ]
    },
    {
     "name": "stderr",
     "output_type": "stream",
     "text": [
      "100%|██████████| 476/476 [03:33<00:00,  2.23it/s]\n"
     ]
    },
    {
     "name": "stdout",
     "output_type": "stream",
     "text": [
      "{'val_loss': 1.4003331728701323, 'val_accuracy': 0.6284023668639053, 'precision': 0.5893664020978902, 'recall': 0.6284023668639053, 'f1-score': 0.5852324147281941, 'macro_f1-score': 0.21575210021648078, 'balanced_accuracy': 0.23819901382155775, 'mcc': 0.4956161979277624}\n",
      "Epoch 6/20\n"
     ]
    },
    {
     "name": "stderr",
     "output_type": "stream",
     "text": [
      "100%|██████████| 476/476 [03:33<00:00,  2.23it/s]\n"
     ]
    },
    {
     "name": "stdout",
     "output_type": "stream",
     "text": [
      "{'val_loss': 1.404623751370412, 'val_accuracy': 0.6201183431952663, 'precision': 0.5689948437296907, 'recall': 0.6201183431952663, 'f1-score': 0.5754756374539368, 'macro_f1-score': 0.2033047871977128, 'balanced_accuracy': 0.23282854094707164, 'mcc': 0.49177441993328}\n",
      "Epoch 7/20\n"
     ]
    },
    {
     "name": "stderr",
     "output_type": "stream",
     "text": [
      "100%|██████████| 476/476 [03:33<00:00,  2.23it/s]\n"
     ]
    },
    {
     "name": "stdout",
     "output_type": "stream",
     "text": [
      "{'val_loss': 1.3585377802264016, 'val_accuracy': 0.6343195266272189, 'precision': 0.5672164818520253, 'recall': 0.6343195266272189, 'f1-score': 0.5843934164346344, 'macro_f1-score': 0.21539955877889896, 'balanced_accuracy': 0.23466375484422028, 'mcc': 0.5036771474646303}\n",
      "Epoch 8/20\n"
     ]
    },
    {
     "name": "stderr",
     "output_type": "stream",
     "text": [
      "100%|██████████| 476/476 [03:33<00:00,  2.23it/s]\n"
     ]
    },
    {
     "name": "stdout",
     "output_type": "stream",
     "text": [
      "{'val_loss': 1.3985600291558031, 'val_accuracy': 0.6343195266272189, 'precision': 0.5951634590425668, 'recall': 0.6343195266272189, 'f1-score': 0.5993732044215991, 'macro_f1-score': 0.24158303053090394, 'balanced_accuracy': 0.273254375564831, 'mcc': 0.5155321078591845}\n",
      "Epoch 9/20\n"
     ]
    },
    {
     "name": "stderr",
     "output_type": "stream",
     "text": [
      "100%|██████████| 476/476 [03:33<00:00,  2.23it/s]\n"
     ]
    },
    {
     "name": "stdout",
     "output_type": "stream",
     "text": [
      "{'val_loss': 1.3688158997387256, 'val_accuracy': 0.6497041420118344, 'precision': 0.6052531873819255, 'recall': 0.6497041420118344, 'f1-score': 0.6109997767511021, 'macro_f1-score': 0.2630087401296125, 'balanced_accuracy': 0.2827920086546447, 'mcc': 0.53074270951232}\n",
      "Epoch 10/20\n"
     ]
    },
    {
     "name": "stderr",
     "output_type": "stream",
     "text": [
      "100%|██████████| 476/476 [03:33<00:00,  2.23it/s]\n"
     ]
    },
    {
     "name": "stdout",
     "output_type": "stream",
     "text": [
      "{'val_loss': 1.4776515876347165, 'val_accuracy': 0.6307692307692307, 'precision': 0.6300044103838787, 'recall': 0.6307692307692307, 'f1-score': 0.6047968313409405, 'macro_f1-score': 0.2878314309413819, 'balanced_accuracy': 0.30720862451549263, 'mcc': 0.5147185936911085}\n",
      "Epoch 11/20\n"
     ]
    },
    {
     "name": "stderr",
     "output_type": "stream",
     "text": [
      "100%|██████████| 476/476 [03:33<00:00,  2.23it/s]\n"
     ]
    },
    {
     "name": "stdout",
     "output_type": "stream",
     "text": [
      "{'val_loss': 1.3908821226290937, 'val_accuracy': 0.6544378698224852, 'precision': 0.6289307835275022, 'recall': 0.6544378698224852, 'f1-score': 0.6244643999926304, 'macro_f1-score': 0.28733711456313976, 'balanced_accuracy': 0.3064967651809811, 'mcc': 0.5408129557840925}\n",
      "Epoch 12/20\n"
     ]
    },
    {
     "name": "stderr",
     "output_type": "stream",
     "text": [
      "100%|██████████| 476/476 [03:33<00:00,  2.23it/s]\n"
     ]
    },
    {
     "name": "stdout",
     "output_type": "stream",
     "text": [
      "{'val_loss': 1.4265090047188524, 'val_accuracy': 0.6437869822485207, 'precision': 0.6401376424429707, 'recall': 0.6437869822485207, 'f1-score': 0.6243944626188287, 'macro_f1-score': 0.30803141809599305, 'balanced_accuracy': 0.3167780118096144, 'mcc': 0.5245592081243291}\n",
      "Epoch 13/20\n"
     ]
    },
    {
     "name": "stderr",
     "output_type": "stream",
     "text": [
      "100%|██████████| 476/476 [03:33<00:00,  2.23it/s]\n"
     ]
    },
    {
     "name": "stdout",
     "output_type": "stream",
     "text": [
      "{'val_loss': 1.3525271320118095, 'val_accuracy': 0.6615384615384615, 'precision': 0.6744821997850731, 'recall': 0.6615384615384615, 'f1-score': 0.654888249532506, 'macro_f1-score': 0.3401722548840165, 'balanced_accuracy': 0.36681110086903546, 'mcc': 0.5619227447515845}\n",
      "Epoch 14/20\n"
     ]
    },
    {
     "name": "stderr",
     "output_type": "stream",
     "text": [
      "100%|██████████| 476/476 [03:34<00:00,  2.22it/s]\n"
     ]
    },
    {
     "name": "stdout",
     "output_type": "stream",
     "text": [
      "{'val_loss': 1.3772313409256485, 'val_accuracy': 0.6745562130177515, 'precision': 0.6600439731533003, 'recall': 0.6745562130177515, 'f1-score': 0.6550898690621157, 'macro_f1-score': 0.3374542993704464, 'balanced_accuracy': 0.3419962449083325, 'mcc': 0.5669931210191588}\n",
      "Epoch 15/20\n"
     ]
    },
    {
     "name": "stderr",
     "output_type": "stream",
     "text": [
      "100%|██████████| 476/476 [03:33<00:00,  2.23it/s]\n"
     ]
    },
    {
     "name": "stdout",
     "output_type": "stream",
     "text": [
      "{'val_loss': 1.4035566049926687, 'val_accuracy': 0.6437869822485207, 'precision': 0.6713797646670823, 'recall': 0.6437869822485207, 'f1-score': 0.6346372112907553, 'macro_f1-score': 0.3111473436609955, 'balanced_accuracy': 0.33721631873680985, 'mcc': 0.5426403399075374}\n",
      "Epoch 16/20\n"
     ]
    },
    {
     "name": "stderr",
     "output_type": "stream",
     "text": [
      "100%|██████████| 476/476 [03:33<00:00,  2.23it/s]\n"
     ]
    },
    {
     "name": "stdout",
     "output_type": "stream",
     "text": [
      "{'val_loss': 1.3952058238803215, 'val_accuracy': 0.6804733727810651, 'precision': 0.6772951991202469, 'recall': 0.6804733727810651, 'f1-score': 0.6574950349931149, 'macro_f1-score': 0.37532236080271814, 'balanced_accuracy': 0.3706345077364677, 'mcc': 0.5768071325313858}\n",
      "Epoch 17/20\n"
     ]
    },
    {
     "name": "stderr",
     "output_type": "stream",
     "text": [
      "100%|██████████| 476/476 [03:33<00:00,  2.23it/s]\n"
     ]
    },
    {
     "name": "stdout",
     "output_type": "stream",
     "text": [
      "{'val_loss': 1.3965785762049117, 'val_accuracy': 0.6650887573964497, 'precision': 0.6571009262492051, 'recall': 0.6650887573964497, 'f1-score': 0.6472313110191664, 'macro_f1-score': 0.35810563141648183, 'balanced_accuracy': 0.35732377637358104, 'mcc': 0.5521124859450023}\n",
      "Epoch 18/20\n"
     ]
    },
    {
     "name": "stderr",
     "output_type": "stream",
     "text": [
      "100%|██████████| 476/476 [03:33<00:00,  2.23it/s]\n"
     ]
    },
    {
     "name": "stdout",
     "output_type": "stream",
     "text": [
      "{'val_loss': 1.5240763954396517, 'val_accuracy': 0.650887573964497, 'precision': 0.64524098195118, 'recall': 0.650887573964497, 'f1-score': 0.6292163344622344, 'macro_f1-score': 0.31045565600244746, 'balanced_accuracy': 0.31179371717445065, 'mcc': 0.5333608245728663}\n",
      "Epoch 19/20\n"
     ]
    },
    {
     "name": "stderr",
     "output_type": "stream",
     "text": [
      "100%|██████████| 476/476 [03:33<00:00,  2.23it/s]\n"
     ]
    },
    {
     "name": "stdout",
     "output_type": "stream",
     "text": [
      "{'val_loss': 1.425348792435988, 'val_accuracy': 0.6710059171597633, 'precision': 0.6713936107258511, 'recall': 0.6710059171597633, 'f1-score': 0.6540075906800524, 'macro_f1-score': 0.37921598087242697, 'balanced_accuracy': 0.37995016717870905, 'mcc': 0.5602138577736305}\n",
      "Epoch 20/20\n"
     ]
    },
    {
     "name": "stderr",
     "output_type": "stream",
     "text": [
      "100%|██████████| 476/476 [03:33<00:00,  2.23it/s]\n"
     ]
    },
    {
     "name": "stdout",
     "output_type": "stream",
     "text": [
      "{'val_loss': 1.4723555794302023, 'val_accuracy': 0.6757396449704142, 'precision': 0.6570727055551638, 'recall': 0.6757396449704142, 'f1-score': 0.6419954190860325, 'macro_f1-score': 0.3278061438694587, 'balanced_accuracy': 0.3319127244939993, 'mcc': 0.5598216296035547}\n",
      "Fold 10\n",
      "Training set label distribution: {0: 3613, 1: 25, 2: 127, 3: 29, 4: 233, 5: 130, 6: 108, 7: 33, 8: 73, 9: 73, 10: 79, 11: 193, 12: 209, 13: 31, 14: 24, 15: 30, 16: 23, 17: 260, 18: 99, 19: 53, 20: 15, 21: 39, 22: 84, 23: 171, 24: 18, 25: 58, 26: 96, 27: 53, 28: 14, 29: 15, 30: 16, 31: 88, 32: 40, 33: 37, 34: 34, 35: 14, 36: 30, 37: 26, 38: 6, 39: 113, 40: 11, 41: 11, 42: 163, 43: 19, 44: 21, 45: 10, 46: 64, 47: 592, 48: 232, 49: 74}\n",
      "Validation set label distribution: {0: 361, 1: 6, 2: 13, 3: 1, 4: 24, 5: 15, 6: 10, 7: 6, 8: 12, 9: 8, 10: 9, 11: 22, 12: 32, 13: 5, 14: 5, 15: 1, 16: 2, 17: 29, 18: 17, 19: 3, 20: 3, 21: 5, 22: 13, 23: 29, 24: 2, 25: 5, 26: 11, 27: 8, 28: 1, 29: 1, 30: 3, 31: 12, 32: 5, 33: 3, 34: 3, 35: 1, 36: 5, 37: 1, 38: 1, 39: 16, 40: 3, 42: 21, 43: 1, 44: 4, 45: 1, 46: 4, 47: 69, 48: 20, 49: 13}\n"
     ]
    },
    {
     "name": "stderr",
     "output_type": "stream",
     "text": [
      "Some weights of RobertaModel were not initialized from the model checkpoint at roberta-base and are newly initialized: ['roberta.pooler.dense.bias', 'roberta.pooler.dense.weight']\n",
      "You should probably TRAIN this model on a down-stream task to be able to use it for predictions and inference.\n"
     ]
    },
    {
     "name": "stdout",
     "output_type": "stream",
     "text": [
      "Epoch 1/20\n"
     ]
    },
    {
     "name": "stderr",
     "output_type": "stream",
     "text": [
      "100%|██████████| 476/476 [03:33<00:00,  2.23it/s]\n"
     ]
    },
    {
     "name": "stdout",
     "output_type": "stream",
     "text": [
      "{'val_loss': 2.054668941587772, 'val_accuracy': 0.5207100591715976, 'precision': 0.3180340594043236, 'recall': 0.5207100591715976, 'f1-score': 0.38303486923471225, 'macro_f1-score': 0.043538619959575066, 'balanced_accuracy': 0.05840140588872277, 'mcc': 0.32614781122442604}\n",
      "Epoch 2/20\n"
     ]
    },
    {
     "name": "stderr",
     "output_type": "stream",
     "text": [
      "100%|██████████| 476/476 [03:33<00:00,  2.23it/s]\n"
     ]
    },
    {
     "name": "stdout",
     "output_type": "stream",
     "text": [
      "{'val_loss': 1.8293949939169973, 'val_accuracy': 0.5372781065088758, 'precision': 0.3441505514926269, 'recall': 0.5372781065088758, 'f1-score': 0.41685254186328385, 'macro_f1-score': 0.07070679690156693, 'balanced_accuracy': 0.09796269751946346, 'mcc': 0.3720980972548285}\n",
      "Epoch 3/20\n"
     ]
    },
    {
     "name": "stderr",
     "output_type": "stream",
     "text": [
      "100%|██████████| 476/476 [03:33<00:00,  2.23it/s]\n"
     ]
    },
    {
     "name": "stdout",
     "output_type": "stream",
     "text": [
      "{'val_loss': 1.7813783288002014, 'val_accuracy': 0.5455621301775148, 'precision': 0.3597367435878772, 'recall': 0.5455621301775148, 'f1-score': 0.4291858273126127, 'macro_f1-score': 0.0751492551185433, 'balanced_accuracy': 0.10319452789601274, 'mcc': 0.38958460785682125}\n",
      "Epoch 4/20\n"
     ]
    },
    {
     "name": "stderr",
     "output_type": "stream",
     "text": [
      "100%|██████████| 476/476 [03:33<00:00,  2.23it/s]\n"
     ]
    },
    {
     "name": "stdout",
     "output_type": "stream",
     "text": [
      "{'val_loss': 1.6593273641928188, 'val_accuracy': 0.5514792899408284, 'precision': 0.41343299191626914, 'recall': 0.5514792899408284, 'f1-score': 0.45829852827502465, 'macro_f1-score': 0.10735433821967404, 'balanced_accuracy': 0.12854247858982334, 'mcc': 0.3960027824938153}\n",
      "Epoch 5/20\n"
     ]
    },
    {
     "name": "stderr",
     "output_type": "stream",
     "text": [
      "100%|██████████| 476/476 [03:33<00:00,  2.23it/s]\n"
     ]
    },
    {
     "name": "stdout",
     "output_type": "stream",
     "text": [
      "{'val_loss': 1.65437284842977, 'val_accuracy': 0.5715976331360947, 'precision': 0.43941487545069546, 'recall': 0.5715976331360947, 'f1-score': 0.48294417115172356, 'macro_f1-score': 0.1247637833070242, 'balanced_accuracy': 0.1448807798938662, 'mcc': 0.4317087116540953}\n",
      "Epoch 6/20\n"
     ]
    },
    {
     "name": "stderr",
     "output_type": "stream",
     "text": [
      "100%|██████████| 476/476 [03:33<00:00,  2.23it/s]\n"
     ]
    },
    {
     "name": "stdout",
     "output_type": "stream",
     "text": [
      "{'val_loss': 1.5920216935985494, 'val_accuracy': 0.578698224852071, 'precision': 0.5122128560096062, 'recall': 0.578698224852071, 'f1-score': 0.5317941051339167, 'macro_f1-score': 0.1575681857699551, 'balanced_accuracy': 0.1948668845946437, 'mcc': 0.4743776558027342}\n",
      "Epoch 7/20\n"
     ]
    },
    {
     "name": "stderr",
     "output_type": "stream",
     "text": [
      "100%|██████████| 476/476 [03:33<00:00,  2.23it/s]\n"
     ]
    },
    {
     "name": "stdout",
     "output_type": "stream",
     "text": [
      "{'val_loss': 1.5354058180215224, 'val_accuracy': 0.5988165680473373, 'precision': 0.5080443556239314, 'recall': 0.5988165680473373, 'f1-score': 0.5340402869792583, 'macro_f1-score': 0.16659799005728163, 'balanced_accuracy': 0.18120313969523055, 'mcc': 0.4789102062625392}\n",
      "Epoch 8/20\n"
     ]
    },
    {
     "name": "stderr",
     "output_type": "stream",
     "text": [
      "100%|██████████| 476/476 [03:33<00:00,  2.23it/s]\n"
     ]
    },
    {
     "name": "stdout",
     "output_type": "stream",
     "text": [
      "{'val_loss': 1.5600538118830267, 'val_accuracy': 0.6011834319526628, 'precision': 0.5168056952656515, 'recall': 0.6011834319526628, 'f1-score': 0.544329746307501, 'macro_f1-score': 0.17616718526286562, 'balanced_accuracy': 0.1986732328063207, 'mcc': 0.4927938438957865}\n",
      "Epoch 9/20\n"
     ]
    },
    {
     "name": "stderr",
     "output_type": "stream",
     "text": [
      "100%|██████████| 476/476 [03:33<00:00,  2.23it/s]\n"
     ]
    },
    {
     "name": "stdout",
     "output_type": "stream",
     "text": [
      "{'val_loss': 1.5770417806112542, 'val_accuracy': 0.5810650887573965, 'precision': 0.5028304018300614, 'recall': 0.5810650887573965, 'f1-score': 0.5200249376105732, 'macro_f1-score': 0.15913550528229356, 'balanced_accuracy': 0.1875679245123217, 'mcc': 0.46859532470310944}\n",
      "Epoch 10/20\n"
     ]
    },
    {
     "name": "stderr",
     "output_type": "stream",
     "text": [
      "100%|██████████| 476/476 [03:33<00:00,  2.23it/s]\n"
     ]
    },
    {
     "name": "stdout",
     "output_type": "stream",
     "text": [
      "{'val_loss': 1.5837928602155649, 'val_accuracy': 0.5810650887573965, 'precision': 0.5587314972640157, 'recall': 0.5810650887573965, 'f1-score': 0.5483438312072839, 'macro_f1-score': 0.19269481080306836, 'balanced_accuracy': 0.21562855694141372, 'mcc': 0.4714420702510002}\n",
      "Epoch 11/20\n"
     ]
    },
    {
     "name": "stderr",
     "output_type": "stream",
     "text": [
      "100%|██████████| 476/476 [03:33<00:00,  2.23it/s]\n"
     ]
    },
    {
     "name": "stdout",
     "output_type": "stream",
     "text": [
      "{'val_loss': 1.5573250673851877, 'val_accuracy': 0.6011834319526628, 'precision': 0.5486688703322729, 'recall': 0.6011834319526628, 'f1-score': 0.5613239558383701, 'macro_f1-score': 0.19622251324024578, 'balanced_accuracy': 0.2194815575118638, 'mcc': 0.48847003470781086}\n",
      "Epoch 12/20\n"
     ]
    },
    {
     "name": "stderr",
     "output_type": "stream",
     "text": [
      "100%|██████████| 476/476 [03:33<00:00,  2.23it/s]\n"
     ]
    },
    {
     "name": "stdout",
     "output_type": "stream",
     "text": [
      "{'val_loss': 1.5253294537652213, 'val_accuracy': 0.6106508875739645, 'precision': 0.5593287736486272, 'recall': 0.6106508875739645, 'f1-score': 0.5744154709012053, 'macro_f1-score': 0.2195772052549331, 'balanced_accuracy': 0.2369584476513878, 'mcc': 0.5061322388672862}\n",
      "Epoch 13/20\n"
     ]
    },
    {
     "name": "stderr",
     "output_type": "stream",
     "text": [
      "100%|██████████| 476/476 [03:33<00:00,  2.23it/s]\n"
     ]
    },
    {
     "name": "stdout",
     "output_type": "stream",
     "text": [
      "{'val_loss': 1.5788190825930182, 'val_accuracy': 0.6094674556213018, 'precision': 0.5357008840444962, 'recall': 0.6094674556213018, 'f1-score': 0.5606417402512659, 'macro_f1-score': 0.22671211891943838, 'balanced_accuracy': 0.26554365931676915, 'mcc': 0.49659234988719847}\n",
      "Epoch 14/20\n"
     ]
    },
    {
     "name": "stderr",
     "output_type": "stream",
     "text": [
      "100%|██████████| 476/476 [03:33<00:00,  2.23it/s]\n"
     ]
    },
    {
     "name": "stdout",
     "output_type": "stream",
     "text": [
      "{'val_loss': 1.9201112603241544, 'val_accuracy': 0.493491124260355, 'precision': 0.33598145537788154, 'recall': 0.493491124260355, 'f1-score': 0.3940583043127789, 'macro_f1-score': 0.07396174558509443, 'balanced_accuracy': 0.08512505512388041, 'mcc': 0.29819653890858244}\n",
      "Epoch 15/20\n"
     ]
    },
    {
     "name": "stderr",
     "output_type": "stream",
     "text": [
      "100%|██████████| 476/476 [03:33<00:00,  2.23it/s]\n"
     ]
    },
    {
     "name": "stdout",
     "output_type": "stream",
     "text": [
      "{'val_loss': 1.492184673840145, 'val_accuracy': 0.6130177514792899, 'precision': 0.5380102557776254, 'recall': 0.6130177514792899, 'f1-score': 0.5603841074076662, 'macro_f1-score': 0.21727264642062138, 'balanced_accuracy': 0.22781117060018255, 'mcc': 0.49978021443908155}\n",
      "Epoch 16/20\n"
     ]
    },
    {
     "name": "stderr",
     "output_type": "stream",
     "text": [
      "100%|██████████| 476/476 [03:33<00:00,  2.23it/s]\n"
     ]
    },
    {
     "name": "stdout",
     "output_type": "stream",
     "text": [
      "{'val_loss': 1.528665266509326, 'val_accuracy': 0.6011834319526628, 'precision': 0.53714090610432, 'recall': 0.6011834319526628, 'f1-score': 0.5608506015104499, 'macro_f1-score': 0.2110468944649207, 'balanced_accuracy': 0.24042687133500829, 'mcc': 0.4898362607202441}\n",
      "Early stopping triggered at epoch 16\n",
      "Final 10-fold Cross-Validation Results:\n",
      "val_loss: 1.5547001556266138\n",
      "val_accuracy: 0.6125645347978559\n",
      "precision: 0.5259690234638202\n",
      "recall: 0.6125645347978559\n",
      "f1-score: 0.5495522741235579\n",
      "macro_f1-score: 0.17030389084008696\n",
      "balanced_accuracy: 0.19002530161664183\n",
      "mcc: 0.46836167474482904\n",
      "\n",
      "Total training time: 36364.81 seconds\n"
     ]
    }
   ],
   "source": [
    "from torch.utils.data import DataLoader\n",
    "import torch\n",
    "from torch.nn import CrossEntropyLoss\n",
    "from torch.optim import AdamW\n",
    "from tqdm import tqdm\n",
    "import numpy as np\n",
    "from collections import Counter\n",
    "import time  # 加入這行來使用時間模組\n",
    "total_start_time = time.time()  # 記錄整體開始時間\n",
    "\n",
    "all_fold_results = []\n",
    "\n",
    "# 進行 10 折交叉驗證\n",
    "for fold, (train_idx, val_idx) in enumerate(kf.split(messages)):\n",
    "    print(f\"Fold {fold + 1}\")\n",
    "    \n",
    "    train_messages = [messages[i] for i in train_idx]\n",
    "    train_labels = [labels[i] for i in train_idx]\n",
    "    val_messages = [messages[i] for i in val_idx]\n",
    "    val_labels = [labels[i] for i in val_idx]\n",
    "\n",
    "    print(\"Training set label distribution:\", {label: train_labels.count(label) for label in set(train_labels)})\n",
    "    print(\"Validation set label distribution:\", {label: val_labels.count(label) for label in set(val_labels)})\n",
    "    \n",
    "    train_dataset = CustomDataset(train_messages, train_labels, tokenizer, MAX_LENGTH)\n",
    "    val_dataset = CustomDataset(val_messages, val_labels, tokenizer, MAX_LENGTH)\n",
    "    train_dataloader = DataLoader(train_dataset, batch_size=BATCH_SIZE, shuffle=True)\n",
    "    val_dataloader = DataLoader(val_dataset, batch_size=BATCH_SIZE)\n",
    "\n",
    "    NUM_LABELS = len(set(train_labels) | set(val_labels))\n",
    "    model = RobertaLSTM(num_labels=NUM_LABELS, \n",
    "                     hidden_size=768,      # RoBERTa-base 預設輸出768\n",
    "                     lstm_hidden_dim=128,  # 可自行調整\n",
    "                     num_layers=1,\n",
    "                     bidirectional=True,\n",
    "                     dropout_prob=0.1\n",
    "                    )\n",
    "    model.to(device)\n",
    "    optimizer = AdamW(model.parameters(), lr=5e-5, weight_decay=1e-2)\n",
    "    criterion = CrossEntropyLoss()\n",
    "\n",
    "    epoch_results = []\n",
    "    patience = 3\n",
    "    best_macro_f1 = 0\n",
    "    epochs_without_improvement = 0\n",
    "    \n",
    "    for epoch in range(EPOCHS):\n",
    "        print(f\"Epoch {epoch + 1}/{EPOCHS}\")\n",
    "        train_loss = train_epoch(model, train_dataloader, optimizer, criterion)\n",
    "        metrics = eval_model(model, val_dataloader, criterion, num_labels=NUM_LABELS)\n",
    "        epoch_results.append(metrics)\n",
    "        print(metrics)\n",
    "\n",
    "        current_macro_f1 = metrics[\"macro_f1-score\"]\n",
    "        \n",
    "        if current_macro_f1 > best_macro_f1:\n",
    "            best_macro_f1 = current_macro_f1  # 更新最佳 macro_f1-score\n",
    "            epochs_without_improvement = 0   # 重置計數\n",
    "        else:\n",
    "            epochs_without_improvement += 1  # 增加計數\n",
    "        \n",
    "        # 若連續 patience 3 次沒有提升，則停止訓練\n",
    "        if epochs_without_improvement >= patience:\n",
    "            print(f\"Early stopping triggered at epoch {epoch + 1}\")\n",
    "            break\n",
    "    \n",
    "    avg_metrics = {metric: np.mean([epoch[metric] for epoch in epoch_results]) for metric in epoch_results[0].keys()}\n",
    "    all_fold_results.append(avg_metrics)\n",
    "\n",
    "final_metrics = {metric: np.mean([result[metric] for result in all_fold_results]) for metric in all_fold_results[0].keys()}\n",
    "print(\"Final 10-fold Cross-Validation Results:\")\n",
    "for metric, value in final_metrics.items():\n",
    "    print(f\"{metric}: {value}\")\n",
    "\n",
    "total_end_time = time.time()\n",
    "print(f\"\\nTotal training time: {total_end_time - total_start_time:.2f} seconds\")"
   ]
  },
  {
   "cell_type": "code",
   "execution_count": 18,
   "id": "f8016681-94ee-4d35-81ac-9831d7172f0d",
   "metadata": {},
   "outputs": [
    {
     "data": {
      "text/plain": [
       "[{'val_loss': 1.5621802367450734,\n",
       "  'val_accuracy': 0.601485984464708,\n",
       "  'precision': 0.538815600971519,\n",
       "  'recall': 0.601485984464708,\n",
       "  'f1-score': 0.5470336786482708,\n",
       "  'macro_f1-score': 0.19889485552626093,\n",
       "  'balanced_accuracy': 0.2215779776015899,\n",
       "  'mcc': 0.46568690558428144},\n",
       " {'val_loss': 1.4903662571086074,\n",
       "  'val_accuracy': 0.6177895981087471,\n",
       "  'precision': 0.5339316170580475,\n",
       "  'recall': 0.6177895981087471,\n",
       "  'f1-score': 0.5567263184136497,\n",
       "  'macro_f1-score': 0.1601402175173359,\n",
       "  'balanced_accuracy': 0.17938356168702202,\n",
       "  'mcc': 0.4695429231289953},\n",
       " {'val_loss': 1.477977532454116,\n",
       "  'val_accuracy': 0.6476802600472813,\n",
       "  'precision': 0.5743181241867243,\n",
       "  'recall': 0.6476802600472813,\n",
       "  'f1-score': 0.5951872841115864,\n",
       "  'macro_f1-score': 0.1858946737844318,\n",
       "  'balanced_accuracy': 0.20834529983175049,\n",
       "  'mcc': 0.5039292804668943},\n",
       " {'val_loss': 1.5462757047735594,\n",
       "  'val_accuracy': 0.625979843225084,\n",
       "  'precision': 0.5512758730119467,\n",
       "  'recall': 0.625979843225084,\n",
       "  'f1-score': 0.5714032305034618,\n",
       "  'macro_f1-score': 0.15049195084712189,\n",
       "  'balanced_accuracy': 0.1617359295914678,\n",
       "  'mcc': 0.4861931051428303},\n",
       " {'val_loss': 1.5545674971439551,\n",
       "  'val_accuracy': 0.6200394477317555,\n",
       "  'precision': 0.5279630091642644,\n",
       "  'recall': 0.6200394477317555,\n",
       "  'f1-score': 0.5526259094007416,\n",
       "  'macro_f1-score': 0.183644286956809,\n",
       "  'balanced_accuracy': 0.2023813276911864,\n",
       "  'mcc': 0.4847949935564083},\n",
       " {'val_loss': 1.7878145174751152,\n",
       "  'val_accuracy': 0.5638515330823023,\n",
       "  'precision': 0.39752760914777524,\n",
       "  'recall': 0.5638515330823023,\n",
       "  'f1-score': 0.45779520537142376,\n",
       "  'macro_f1-score': 0.07476949496134852,\n",
       "  'balanced_accuracy': 0.09564053696539068,\n",
       "  'mcc': 0.38221756034620835},\n",
       " {'val_loss': 1.3962204706556391,\n",
       "  'val_accuracy': 0.6353846153846153,\n",
       "  'precision': 0.5835568540575395,\n",
       "  'recall': 0.6353846153846153,\n",
       "  'f1-score': 0.5912216731432112,\n",
       "  'macro_f1-score': 0.19887843119198131,\n",
       "  'balanced_accuracy': 0.22714225368799842,\n",
       "  'mcc': 0.49115070428955276},\n",
       " {'val_loss': 1.630568011390231,\n",
       "  'val_accuracy': 0.5984784446322908,\n",
       "  'precision': 0.4854851140196593,\n",
       "  'recall': 0.5984784446322908,\n",
       "  'f1-score': 0.520611664041574,\n",
       "  'macro_f1-score': 0.13550107193160246,\n",
       "  'balanced_accuracy': 0.1501649455651937,\n",
       "  'mcc': 0.4437567145610678},\n",
       " {'val_loss': 1.4491630006651834,\n",
       "  'val_accuracy': 0.6401775147928995,\n",
       "  'precision': 0.5963023597000833,\n",
       "  'recall': 0.6401775147928995,\n",
       "  'f1-score': 0.5991350885205577,\n",
       "  'macro_f1-score': 0.263669576023534,\n",
       "  'balanced_accuracy': 0.27973940917751217,\n",
       "  'mcc': 0.513802763563967},\n",
       " {'val_loss': 1.651868327854658,\n",
       "  'val_accuracy': 0.5747781065088757,\n",
       "  'precision': 0.47051407332064266,\n",
       "  'recall': 0.5747781065088757,\n",
       "  'f1-score': 0.5037826890811017,\n",
       "  'macro_f1-score': 0.15115434966044383,\n",
       "  'balanced_accuracy': 0.17414177436730693,\n",
       "  'mcc': 0.442541796808085}]"
      ]
     },
     "execution_count": 18,
     "metadata": {},
     "output_type": "execute_result"
    }
   ],
   "source": [
    "all_fold_results"
   ]
  }
 ],
 "metadata": {
  "kernelspec": {
   "display_name": "Python 3 (ipykernel)",
   "language": "python",
   "name": "python3"
  },
  "language_info": {
   "codemirror_mode": {
    "name": "ipython",
    "version": 3
   },
   "file_extension": ".py",
   "mimetype": "text/x-python",
   "name": "python",
   "nbconvert_exporter": "python",
   "pygments_lexer": "ipython3",
   "version": "3.11.9"
  }
 },
 "nbformat": 4,
 "nbformat_minor": 5
}
