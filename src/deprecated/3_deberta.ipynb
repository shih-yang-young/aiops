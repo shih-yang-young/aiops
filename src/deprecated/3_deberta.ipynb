{
 "cells": [
  {
   "cell_type": "code",
   "execution_count": 1,
   "id": "2e76aa66-729a-4bf9-98b9-61d8114e9f3a",
   "metadata": {},
   "outputs": [
    {
     "data": {
      "text/html": [
       "<div>\n",
       "<style scoped>\n",
       "    .dataframe tbody tr th:only-of-type {\n",
       "        vertical-align: middle;\n",
       "    }\n",
       "\n",
       "    .dataframe tbody tr th {\n",
       "        vertical-align: top;\n",
       "    }\n",
       "\n",
       "    .dataframe thead th {\n",
       "        text-align: right;\n",
       "    }\n",
       "</style>\n",
       "<table border=\"1\" class=\"dataframe\">\n",
       "  <thead>\n",
       "    <tr style=\"text-align: right;\">\n",
       "      <th></th>\n",
       "      <th>Inbound Message</th>\n",
       "      <th>Label</th>\n",
       "    </tr>\n",
       "  </thead>\n",
       "  <tbody>\n",
       "    <tr>\n",
       "      <th>0</th>\n",
       "      <td>login issue verified user details employee man...</td>\n",
       "      <td>0</td>\n",
       "    </tr>\n",
       "    <tr>\n",
       "      <th>1</th>\n",
       "      <td>outlook hello team meetings skype meetings etc...</td>\n",
       "      <td>0</td>\n",
       "    </tr>\n",
       "    <tr>\n",
       "      <th>2</th>\n",
       "      <td>cant log vpn cannot log vpn best</td>\n",
       "      <td>0</td>\n",
       "    </tr>\n",
       "    <tr>\n",
       "      <th>3</th>\n",
       "      <td>unable access tool page unable access tool page</td>\n",
       "      <td>0</td>\n",
       "    </tr>\n",
       "    <tr>\n",
       "      <th>4</th>\n",
       "      <td>skype error skype error</td>\n",
       "      <td>0</td>\n",
       "    </tr>\n",
       "    <tr>\n",
       "      <th>...</th>\n",
       "      <td>...</td>\n",
       "      <td>...</td>\n",
       "    </tr>\n",
       "    <tr>\n",
       "      <th>8449</th>\n",
       "      <td>emails coming mail good afternoon receiving em...</td>\n",
       "      <td>22</td>\n",
       "    </tr>\n",
       "    <tr>\n",
       "      <th>8450</th>\n",
       "      <td>telephony software issue telephony software issue</td>\n",
       "      <td>0</td>\n",
       "    </tr>\n",
       "    <tr>\n",
       "      <th>8451</th>\n",
       "      <td>vip windows password reset tifpdchb pedxruyf v...</td>\n",
       "      <td>0</td>\n",
       "    </tr>\n",
       "    <tr>\n",
       "      <th>8452</th>\n",
       "      <td>machine est funcionando unable access machine ...</td>\n",
       "      <td>44</td>\n",
       "    </tr>\n",
       "    <tr>\n",
       "      <th>8453</th>\n",
       "      <td>mehreren lassen sich verschiedene prgramdntyme...</td>\n",
       "      <td>49</td>\n",
       "    </tr>\n",
       "  </tbody>\n",
       "</table>\n",
       "<p>8454 rows × 2 columns</p>\n",
       "</div>"
      ],
      "text/plain": [
       "                                        Inbound Message  Label\n",
       "0     login issue verified user details employee man...      0\n",
       "1     outlook hello team meetings skype meetings etc...      0\n",
       "2                      cant log vpn cannot log vpn best      0\n",
       "3       unable access tool page unable access tool page      0\n",
       "4                               skype error skype error      0\n",
       "...                                                 ...    ...\n",
       "8449  emails coming mail good afternoon receiving em...     22\n",
       "8450  telephony software issue telephony software issue      0\n",
       "8451  vip windows password reset tifpdchb pedxruyf v...      0\n",
       "8452  machine est funcionando unable access machine ...     44\n",
       "8453  mehreren lassen sich verschiedene prgramdntyme...     49\n",
       "\n",
       "[8454 rows x 2 columns]"
      ]
     },
     "execution_count": 1,
     "metadata": {},
     "output_type": "execute_result"
    }
   ],
   "source": [
    "import pandas as pd\n",
    "data_path = \"../../data/open_source_8454_combine_short_description.csv\"  # 替換為你的檔案路徑\n",
    "df = pd.read_csv(data_path)\n",
    "# df_label_0 = df[df[\"Label\"] == 0]\n",
    "# df_label_0_to_drop = df_label_0.sample(n=3000, random_state=42)\n",
    "# df = df.drop(df_label_0_to_drop.index)\n",
    "df"
   ]
  },
  {
   "cell_type": "markdown",
   "id": "e79be804-d1e3-463a-824f-d4765544e493",
   "metadata": {},
   "source": [
    "# 十折驗證法"
   ]
  },
  {
   "cell_type": "code",
   "execution_count": 2,
   "id": "7e6a5029-3898-4bab-8d6c-bfd1a3694153",
   "metadata": {},
   "outputs": [
    {
     "name": "stdout",
     "output_type": "stream",
     "text": [
      "Using device: cuda\n",
      "CUDA Available: True\n",
      "CUDA Device: NVIDIA GeForce RTX 3050 6GB Laptop GPU\n",
      "Current GPU Memory Allocated: 0.0 GB\n",
      "Current GPU Memory Cached: 0.0 GB\n"
     ]
    }
   ],
   "source": [
    "import torch\n",
    "device = torch.device('cuda') if torch.cuda.is_available() else torch.device('cpu')\n",
    "print(f\"Using device: {device}\") \n",
    "print(f\"CUDA Available: {torch.cuda.is_available()}\")\n",
    "print(f\"CUDA Device: {torch.cuda.get_device_name(0)}\")\n",
    "print(f\"Current GPU Memory Allocated: {torch.cuda.memory_allocated() / 1e9} GB\")\n",
    "print(f\"Current GPU Memory Cached: {torch.cuda.memory_reserved() / 1e9} GB\")"
   ]
  },
  {
   "cell_type": "code",
   "execution_count": 3,
   "id": "833a0227-7775-4659-a98c-48c3fbdc9db9",
   "metadata": {},
   "outputs": [],
   "source": [
    "from torch.utils.data import Dataset\n",
    "class CustomDataset(Dataset):\n",
    "    def __init__(self, messages, labels, tokenizer, max_length):\n",
    "        self.messages = messages\n",
    "        self.labels = labels\n",
    "        self.tokenizer = tokenizer\n",
    "        self.max_length = max_length\n",
    "\n",
    "    def __len__(self):\n",
    "        return len(self.messages)\n",
    "\n",
    "    def __getitem__(self, idx):\n",
    "        message = str(self.messages[idx])\n",
    "        label = self.labels[idx]\n",
    "        \n",
    "        encoding = self.tokenizer.encode_plus(\n",
    "            message,\n",
    "            max_length=self.max_length,\n",
    "            add_special_tokens=True,\n",
    "            padding='max_length',\n",
    "            truncation=True,\n",
    "            return_attention_mask=True,\n",
    "            return_tensors='pt'\n",
    "        )\n",
    "        \n",
    "        return {\n",
    "            'input_ids': encoding['input_ids'].flatten(),\n",
    "            'attention_mask': encoding['attention_mask'].flatten(),\n",
    "            'labels': torch.tensor(label, dtype=torch.long)\n",
    "        }"
   ]
  },
  {
   "cell_type": "code",
   "execution_count": 4,
   "id": "985bf187-a1b5-4882-9e52-2cbc0188e8a6",
   "metadata": {},
   "outputs": [],
   "source": [
    "# 定義訓練與評估函數\n",
    "def train_epoch(model, dataloader, optimizer, criterion):\n",
    "    model.train()\n",
    "    total_loss = 0\n",
    "\n",
    "    for batch in tqdm(dataloader):\n",
    "        optimizer.zero_grad()\n",
    "\n",
    "        input_ids = batch['input_ids'].to(device)\n",
    "        attention_mask = batch['attention_mask'].to(device)\n",
    "        labels = batch['labels'].to(device)\n",
    "\n",
    "        outputs = model(input_ids=input_ids, attention_mask=attention_mask, labels=labels)\n",
    "        loss = outputs.loss\n",
    "        total_loss += loss.item()\n",
    "\n",
    "        loss.backward()\n",
    "        optimizer.step()\n",
    "    \n",
    "    return total_loss / len(dataloader)"
   ]
  },
  {
   "cell_type": "code",
   "execution_count": 5,
   "id": "7dceb8a1-edf1-42fe-ac48-dc84ed4709cf",
   "metadata": {},
   "outputs": [],
   "source": [
    "from sklearn.metrics import precision_score, recall_score, f1_score, balanced_accuracy_score, matthews_corrcoef\n",
    "from sklearn.preprocessing import label_binarize\n",
    "import numpy as np\n",
    "import torch\n",
    "\n",
    "def eval_model(model, dataloader, criterion, num_labels):\n",
    "    model.eval()\n",
    "    total_loss = 0\n",
    "    all_labels = []\n",
    "    all_preds = []\n",
    "    all_probs = []\n",
    "    \n",
    "    with torch.no_grad():\n",
    "        for batch in dataloader:\n",
    "            input_ids = batch['input_ids'].to(device)\n",
    "            attention_mask = batch['attention_mask'].to(device)\n",
    "            labels = batch['labels'].to(device)\n",
    "\n",
    "            outputs = model(input_ids=input_ids, attention_mask=attention_mask)\n",
    "            logits = outputs.logits\n",
    "            loss = criterion(logits, labels)\n",
    "            total_loss += loss.item()\n",
    "\n",
    "            probs = torch.softmax(logits, dim=1)\n",
    "            _, preds = torch.max(logits, dim=1)\n",
    "\n",
    "            all_labels.extend(labels.cpu().numpy())\n",
    "            all_preds.extend(preds.cpu().numpy())\n",
    "            all_probs.extend(probs.cpu().numpy())\n",
    "\n",
    "    val_loss = total_loss / len(dataloader)\n",
    "    val_accuracy = np.mean(np.array(all_preds) == np.array(all_labels))\n",
    "    precision = precision_score(all_labels, all_preds, average='weighted', zero_division=0)\n",
    "    recall = recall_score(all_labels, all_preds, average='weighted', zero_division=0)\n",
    "    f1 = f1_score(all_labels, all_preds, average='weighted', zero_division=0)\n",
    "    macro_f1 = f1_score(all_labels, all_preds, average='macro', zero_division=0)\n",
    "    balanced_acc = balanced_accuracy_score(all_labels, all_preds)\n",
    "    mcc = matthews_corrcoef(all_labels, all_preds)\n",
    "\n",
    "    return {\n",
    "        \"val_loss\": val_loss,\n",
    "        \"val_accuracy\": val_accuracy,\n",
    "        \"precision\": precision,\n",
    "        \"recall\": recall,\n",
    "        \"f1-score\": f1,\n",
    "        \"macro_f1-score\": macro_f1,\n",
    "        \"balanced_accuracy\": balanced_acc,\n",
    "        \"mcc\": mcc\n",
    "    }"
   ]
  },
  {
   "cell_type": "code",
   "execution_count": 6,
   "id": "0217a72c-db4d-4875-8a00-33f2dae9de5e",
   "metadata": {},
   "outputs": [],
   "source": [
    "from transformers import DebertaTokenizer, DebertaForSequenceClassification\n",
    "from sklearn.model_selection import KFold\n",
    "# 設定參數\n",
    "MAX_LENGTH = 128\n",
    "BATCH_SIZE = 16\n",
    "EPOCHS = 20\n",
    "\n",
    "# 初始化 BERT 的 tokenizer\n",
    "tokenizer = DebertaTokenizer.from_pretrained('microsoft/deberta-base')\n",
    "\n",
    "# 初始化數據\n",
    "messages = df['Inbound Message'].tolist()\n",
    "labels = df['Label'].tolist()\n",
    "\n",
    "# KFold 初始化\n",
    "kf = KFold(n_splits=10, shuffle=True, random_state=42)"
   ]
  },
  {
   "cell_type": "code",
   "execution_count": 7,
   "id": "ee99c1b8-2fc7-483a-8cb6-d375039c6cb1",
   "metadata": {
    "scrolled": true
   },
   "outputs": [
    {
     "name": "stdout",
     "output_type": "stream",
     "text": [
      "Fold 1\n",
      "Training set label distribution: {0: 3585, 1: 28, 2: 123, 3: 26, 4: 239, 5: 134, 6: 101, 7: 37, 8: 80, 9: 70, 10: 82, 11: 199, 12: 209, 13: 34, 14: 25, 15: 31, 16: 22, 17: 258, 18: 106, 19: 47, 20: 15, 21: 39, 22: 89, 23: 183, 24: 15, 25: 55, 26: 100, 27: 52, 28: 13, 29: 15, 30: 17, 31: 89, 32: 39, 33: 36, 34: 29, 35: 13, 36: 32, 37: 24, 38: 5, 39: 118, 40: 10, 41: 10, 42: 166, 43: 18, 44: 23, 45: 11, 46: 58, 47: 601, 48: 215, 49: 82}\n",
      "Validation set label distribution: {0: 389, 1: 3, 2: 17, 3: 4, 4: 18, 5: 11, 6: 17, 7: 2, 8: 5, 9: 11, 10: 6, 11: 16, 12: 32, 13: 2, 14: 4, 16: 3, 17: 31, 18: 10, 19: 9, 20: 3, 21: 5, 22: 8, 23: 17, 24: 5, 25: 8, 26: 7, 27: 9, 28: 2, 29: 1, 30: 2, 31: 11, 32: 6, 33: 4, 34: 8, 35: 2, 36: 3, 37: 3, 38: 2, 39: 11, 40: 4, 41: 1, 42: 18, 43: 2, 44: 2, 46: 10, 47: 60, 48: 37, 49: 5}\n"
     ]
    },
    {
     "name": "stderr",
     "output_type": "stream",
     "text": [
      "Some weights of DebertaForSequenceClassification were not initialized from the model checkpoint at microsoft/deberta-base and are newly initialized: ['classifier.bias', 'classifier.weight', 'pooler.dense.bias', 'pooler.dense.weight']\n",
      "You should probably TRAIN this model on a down-stream task to be able to use it for predictions and inference.\n"
     ]
    },
    {
     "name": "stdout",
     "output_type": "stream",
     "text": [
      "Epoch 1/20\n"
     ]
    },
    {
     "name": "stderr",
     "output_type": "stream",
     "text": [
      "100%|██████████| 476/476 [16:02<00:00,  2.02s/it]\n"
     ]
    },
    {
     "name": "stdout",
     "output_type": "stream",
     "text": [
      "{'val_loss': 1.5639162221044864, 'val_accuracy': 0.5898345153664303, 'precision': 0.5187904118898589, 'recall': 0.5898345153664303, 'f1-score': 0.5178299576052748, 'macro_f1-score': 0.13608323908096617, 'balanced_accuracy': 0.15465629242692108, 'mcc': 0.4409511431574888}\n",
      "Epoch 2/20\n"
     ]
    },
    {
     "name": "stderr",
     "output_type": "stream",
     "text": [
      "100%|██████████| 476/476 [15:19<00:00,  1.93s/it]\n",
      "D:\\Anaconda3\\envs\\cuda\\Lib\\site-packages\\sklearn\\metrics\\_classification.py:2458: UserWarning: y_pred contains classes not in y_true\n",
      "  warnings.warn(\"y_pred contains classes not in y_true\")\n"
     ]
    },
    {
     "name": "stdout",
     "output_type": "stream",
     "text": [
      "{'val_loss': 1.4467386490893814, 'val_accuracy': 0.5898345153664303, 'precision': 0.5481678037944978, 'recall': 0.5898345153664303, 'f1-score': 0.5568845087352854, 'macro_f1-score': 0.19501182454204147, 'balanced_accuracy': 0.22532647809478937, 'mcc': 0.46068961627732913}\n",
      "Epoch 3/20\n"
     ]
    },
    {
     "name": "stderr",
     "output_type": "stream",
     "text": [
      "100%|██████████| 476/476 [15:19<00:00,  1.93s/it]\n"
     ]
    },
    {
     "name": "stdout",
     "output_type": "stream",
     "text": [
      "{'val_loss': 1.3741802269557737, 'val_accuracy': 0.6394799054373522, 'precision': 0.5945957156580374, 'recall': 0.6394799054373522, 'f1-score': 0.591358301028689, 'macro_f1-score': 0.2675273288295294, 'balanced_accuracy': 0.2605134657036908, 'mcc': 0.5075440086210978}\n",
      "Epoch 4/20\n"
     ]
    },
    {
     "name": "stderr",
     "output_type": "stream",
     "text": [
      "100%|██████████| 476/476 [15:19<00:00,  1.93s/it]\n"
     ]
    },
    {
     "name": "stdout",
     "output_type": "stream",
     "text": [
      "{'val_loss': 1.3147122994908746, 'val_accuracy': 0.6501182033096927, 'precision': 0.6355139124092756, 'recall': 0.6501182033096927, 'f1-score': 0.628682484414589, 'macro_f1-score': 0.3340483958370961, 'balanced_accuracy': 0.35913653636129994, 'mcc': 0.5446218785370663}\n",
      "Epoch 5/20\n"
     ]
    },
    {
     "name": "stderr",
     "output_type": "stream",
     "text": [
      "100%|██████████| 476/476 [15:20<00:00,  1.93s/it]\n",
      "D:\\Anaconda3\\envs\\cuda\\Lib\\site-packages\\sklearn\\metrics\\_classification.py:2458: UserWarning: y_pred contains classes not in y_true\n",
      "  warnings.warn(\"y_pred contains classes not in y_true\")\n"
     ]
    },
    {
     "name": "stdout",
     "output_type": "stream",
     "text": [
      "{'val_loss': 1.420001504556188, 'val_accuracy': 0.6312056737588653, 'precision': 0.6422489745145595, 'recall': 0.6312056737588653, 'f1-score': 0.6166205288070231, 'macro_f1-score': 0.3290643090837928, 'balanced_accuracy': 0.3504290332410931, 'mcc': 0.5248231145510718}\n",
      "Epoch 6/20\n"
     ]
    },
    {
     "name": "stderr",
     "output_type": "stream",
     "text": [
      "100%|██████████| 476/476 [15:19<00:00,  1.93s/it]\n",
      "D:\\Anaconda3\\envs\\cuda\\Lib\\site-packages\\sklearn\\metrics\\_classification.py:2458: UserWarning: y_pred contains classes not in y_true\n",
      "  warnings.warn(\"y_pred contains classes not in y_true\")\n"
     ]
    },
    {
     "name": "stdout",
     "output_type": "stream",
     "text": [
      "{'val_loss': 1.4809049935835712, 'val_accuracy': 0.6666666666666666, 'precision': 0.6605948728285786, 'recall': 0.6666666666666666, 'f1-score': 0.6367203861420576, 'macro_f1-score': 0.3658849234807047, 'balanced_accuracy': 0.3514083057287951, 'mcc': 0.5521582420607445}\n",
      "Epoch 7/20\n"
     ]
    },
    {
     "name": "stderr",
     "output_type": "stream",
     "text": [
      "100%|██████████| 476/476 [15:20<00:00,  1.93s/it]\n",
      "D:\\Anaconda3\\envs\\cuda\\Lib\\site-packages\\sklearn\\metrics\\_classification.py:2458: UserWarning: y_pred contains classes not in y_true\n",
      "  warnings.warn(\"y_pred contains classes not in y_true\")\n"
     ]
    },
    {
     "name": "stdout",
     "output_type": "stream",
     "text": [
      "{'val_loss': 1.4913187881685652, 'val_accuracy': 0.6536643026004728, 'precision': 0.6707696633051179, 'recall': 0.6536643026004728, 'f1-score': 0.6477959032768996, 'macro_f1-score': 0.38612529369446774, 'balanced_accuracy': 0.42802502477139664, 'mcc': 0.5581675418621126}\n",
      "Epoch 8/20\n"
     ]
    },
    {
     "name": "stderr",
     "output_type": "stream",
     "text": [
      "100%|██████████| 476/476 [15:19<00:00,  1.93s/it]\n",
      "D:\\Anaconda3\\envs\\cuda\\Lib\\site-packages\\sklearn\\metrics\\_classification.py:2458: UserWarning: y_pred contains classes not in y_true\n",
      "  warnings.warn(\"y_pred contains classes not in y_true\")\n"
     ]
    },
    {
     "name": "stdout",
     "output_type": "stream",
     "text": [
      "{'val_loss': 1.599406361861049, 'val_accuracy': 0.6749408983451537, 'precision': 0.6676558437712203, 'recall': 0.6749408983451537, 'f1-score': 0.6536390852922179, 'macro_f1-score': 0.38668940581421724, 'balanced_accuracy': 0.40061307590538114, 'mcc': 0.5693161785510858}\n",
      "Epoch 9/20\n"
     ]
    },
    {
     "name": "stderr",
     "output_type": "stream",
     "text": [
      "100%|██████████| 476/476 [15:19<00:00,  1.93s/it]\n",
      "D:\\Anaconda3\\envs\\cuda\\Lib\\site-packages\\sklearn\\metrics\\_classification.py:2458: UserWarning: y_pred contains classes not in y_true\n",
      "  warnings.warn(\"y_pred contains classes not in y_true\")\n"
     ]
    },
    {
     "name": "stdout",
     "output_type": "stream",
     "text": [
      "{'val_loss': 1.6995630646651645, 'val_accuracy': 0.6418439716312057, 'precision': 0.6846663109012114, 'recall': 0.6418439716312057, 'f1-score': 0.6437973099484844, 'macro_f1-score': 0.3668207337190269, 'balanced_accuracy': 0.39551706079644083, 'mcc': 0.5424274563550615}\n",
      "Epoch 10/20\n"
     ]
    },
    {
     "name": "stderr",
     "output_type": "stream",
     "text": [
      "100%|██████████| 476/476 [15:19<00:00,  1.93s/it]\n",
      "D:\\Anaconda3\\envs\\cuda\\Lib\\site-packages\\sklearn\\metrics\\_classification.py:2458: UserWarning: y_pred contains classes not in y_true\n",
      "  warnings.warn(\"y_pred contains classes not in y_true\")\n"
     ]
    },
    {
     "name": "stdout",
     "output_type": "stream",
     "text": [
      "{'val_loss': 1.7507140557720977, 'val_accuracy': 0.6513002364066194, 'precision': 0.648495041638977, 'recall': 0.6513002364066194, 'f1-score': 0.6364370643222264, 'macro_f1-score': 0.36756800100801806, 'balanced_accuracy': 0.37801214434452923, 'mcc': 0.5453903290772543}\n",
      "Epoch 11/20\n"
     ]
    },
    {
     "name": "stderr",
     "output_type": "stream",
     "text": [
      "100%|██████████| 476/476 [15:19<00:00,  1.93s/it]\n",
      "D:\\Anaconda3\\envs\\cuda\\Lib\\site-packages\\sklearn\\metrics\\_classification.py:2458: UserWarning: y_pred contains classes not in y_true\n",
      "  warnings.warn(\"y_pred contains classes not in y_true\")\n"
     ]
    },
    {
     "name": "stdout",
     "output_type": "stream",
     "text": [
      "{'val_loss': 1.8931062740256202, 'val_accuracy': 0.6631205673758865, 'precision': 0.6587059448826298, 'recall': 0.6631205673758865, 'f1-score': 0.6374875871591928, 'macro_f1-score': 0.3687489781471657, 'balanced_accuracy': 0.3598110791162443, 'mcc': 0.5483845184631853}\n",
      "Early stopping triggered at epoch 11\n",
      "Fold 2\n",
      "Training set label distribution: {0: 3566, 1: 30, 2: 117, 3: 24, 4: 238, 5: 133, 6: 110, 7: 36, 8: 72, 9: 73, 10: 77, 11: 192, 12: 221, 13: 35, 14: 29, 15: 27, 16: 24, 17: 263, 18: 107, 19: 51, 20: 17, 21: 41, 22: 89, 23: 185, 24: 18, 25: 56, 26: 92, 27: 52, 28: 12, 29: 15, 30: 18, 31: 92, 32: 41, 33: 38, 34: 34, 35: 13, 36: 33, 37: 24, 38: 5, 39: 116, 40: 14, 41: 9, 42: 168, 43: 16, 44: 22, 45: 11, 46: 60, 47: 591, 48: 224, 49: 77}\n",
      "Validation set label distribution: {0: 408, 1: 1, 2: 23, 3: 6, 4: 19, 5: 12, 6: 8, 7: 3, 8: 13, 9: 8, 10: 11, 11: 23, 12: 20, 13: 1, 15: 4, 16: 1, 17: 26, 18: 9, 19: 5, 20: 1, 21: 3, 22: 8, 23: 15, 24: 2, 25: 7, 26: 15, 27: 9, 28: 3, 29: 1, 30: 1, 31: 8, 32: 4, 33: 2, 34: 3, 35: 2, 36: 2, 37: 3, 38: 2, 39: 13, 41: 2, 42: 16, 43: 4, 44: 3, 46: 8, 47: 70, 48: 28, 49: 10}\n"
     ]
    },
    {
     "name": "stderr",
     "output_type": "stream",
     "text": [
      "Some weights of DebertaForSequenceClassification were not initialized from the model checkpoint at microsoft/deberta-base and are newly initialized: ['classifier.bias', 'classifier.weight', 'pooler.dense.bias', 'pooler.dense.weight']\n",
      "You should probably TRAIN this model on a down-stream task to be able to use it for predictions and inference.\n"
     ]
    },
    {
     "name": "stdout",
     "output_type": "stream",
     "text": [
      "Epoch 1/20\n"
     ]
    },
    {
     "name": "stderr",
     "output_type": "stream",
     "text": [
      "100%|██████████| 476/476 [19:47<00:00,  2.49s/it]\n"
     ]
    },
    {
     "name": "stdout",
     "output_type": "stream",
     "text": [
      "{'val_loss': 1.4156987965106964, 'val_accuracy': 0.6288416075650118, 'precision': 0.4946631980092666, 'recall': 0.6288416075650118, 'f1-score': 0.5332892253365309, 'macro_f1-score': 0.11355415095256134, 'balanced_accuracy': 0.13209311783903022, 'mcc': 0.467725595843022}\n",
      "Epoch 2/20\n"
     ]
    },
    {
     "name": "stderr",
     "output_type": "stream",
     "text": [
      "100%|██████████| 476/476 [19:47<00:00,  2.49s/it]\n"
     ]
    },
    {
     "name": "stdout",
     "output_type": "stream",
     "text": [
      "{'val_loss': 1.315196137383299, 'val_accuracy': 0.6572104018912529, 'precision': 0.6075167323261723, 'recall': 0.6572104018912529, 'f1-score': 0.6055242910553544, 'macro_f1-score': 0.21989540205576785, 'balanced_accuracy': 0.23991661055822353, 'mcc': 0.5291226954144707}\n",
      "Epoch 3/20\n"
     ]
    },
    {
     "name": "stderr",
     "output_type": "stream",
     "text": [
      "100%|██████████| 476/476 [19:48<00:00,  2.50s/it]\n"
     ]
    },
    {
     "name": "stdout",
     "output_type": "stream",
     "text": [
      "{'val_loss': 1.2484378511050962, 'val_accuracy': 0.6713947990543735, 'precision': 0.6250945171655287, 'recall': 0.6713947990543735, 'f1-score': 0.6197800775530616, 'macro_f1-score': 0.23334925974855739, 'balanced_accuracy': 0.24493513684561277, 'mcc': 0.544250654600067}\n",
      "Epoch 4/20\n"
     ]
    },
    {
     "name": "stderr",
     "output_type": "stream",
     "text": [
      "100%|██████████| 476/476 [19:48<00:00,  2.50s/it]\n"
     ]
    },
    {
     "name": "stdout",
     "output_type": "stream",
     "text": [
      "{'val_loss': 1.2604291618994947, 'val_accuracy': 0.6761229314420804, 'precision': 0.6512019909083033, 'recall': 0.6761229314420804, 'f1-score': 0.6483646626404688, 'macro_f1-score': 0.29925988915656615, 'balanced_accuracy': 0.30704767665299, 'mcc': 0.5583691982961336}\n",
      "Epoch 5/20\n"
     ]
    },
    {
     "name": "stderr",
     "output_type": "stream",
     "text": [
      "100%|██████████| 476/476 [19:48<00:00,  2.50s/it]\n",
      "D:\\Anaconda3\\envs\\cuda\\Lib\\site-packages\\sklearn\\metrics\\_classification.py:2458: UserWarning: y_pred contains classes not in y_true\n",
      "  warnings.warn(\"y_pred contains classes not in y_true\")\n"
     ]
    },
    {
     "name": "stdout",
     "output_type": "stream",
     "text": [
      "{'val_loss': 1.3006954294330668, 'val_accuracy': 0.6690307328605201, 'precision': 0.6830883498654302, 'recall': 0.6690307328605201, 'f1-score': 0.6540139398071984, 'macro_f1-score': 0.3387958309992096, 'balanced_accuracy': 0.36156589979038234, 'mcc': 0.562497747396687}\n",
      "Epoch 6/20\n"
     ]
    },
    {
     "name": "stderr",
     "output_type": "stream",
     "text": [
      "100%|██████████| 476/476 [19:47<00:00,  2.49s/it]\n"
     ]
    },
    {
     "name": "stdout",
     "output_type": "stream",
     "text": [
      "{'val_loss': 1.4253082331621423, 'val_accuracy': 0.6737588652482269, 'precision': 0.6843966516532711, 'recall': 0.6737588652482269, 'f1-score': 0.6565807080828058, 'macro_f1-score': 0.33779552878427743, 'balanced_accuracy': 0.33146841615701433, 'mcc': 0.5527966433137119}\n",
      "Epoch 7/20\n"
     ]
    },
    {
     "name": "stderr",
     "output_type": "stream",
     "text": [
      "100%|██████████| 476/476 [19:47<00:00,  2.50s/it]\n",
      "D:\\Anaconda3\\envs\\cuda\\Lib\\site-packages\\sklearn\\metrics\\_classification.py:2458: UserWarning: y_pred contains classes not in y_true\n",
      "  warnings.warn(\"y_pred contains classes not in y_true\")\n"
     ]
    },
    {
     "name": "stdout",
     "output_type": "stream",
     "text": [
      "{'val_loss': 1.4534950981724937, 'val_accuracy': 0.6713947990543735, 'precision': 0.686154116641006, 'recall': 0.6713947990543735, 'f1-score': 0.6534530998716696, 'macro_f1-score': 0.3090980768922417, 'balanced_accuracy': 0.3083334713193117, 'mcc': 0.5561900401279348}\n",
      "Epoch 8/20\n"
     ]
    },
    {
     "name": "stderr",
     "output_type": "stream",
     "text": [
      "100%|██████████| 476/476 [19:47<00:00,  2.50s/it]\n",
      "D:\\Anaconda3\\envs\\cuda\\Lib\\site-packages\\sklearn\\metrics\\_classification.py:2458: UserWarning: y_pred contains classes not in y_true\n",
      "  warnings.warn(\"y_pred contains classes not in y_true\")\n"
     ]
    },
    {
     "name": "stdout",
     "output_type": "stream",
     "text": [
      "{'val_loss': 1.493074580464723, 'val_accuracy': 0.6891252955082743, 'precision': 0.6935590598725727, 'recall': 0.6891252955082743, 'f1-score': 0.6802275278251362, 'macro_f1-score': 0.36869299904044184, 'balanced_accuracy': 0.37591543203478023, 'mcc': 0.5854832830002908}\n",
      "Epoch 9/20\n"
     ]
    },
    {
     "name": "stderr",
     "output_type": "stream",
     "text": [
      "100%|██████████| 476/476 [19:47<00:00,  2.50s/it]\n",
      "D:\\Anaconda3\\envs\\cuda\\Lib\\site-packages\\sklearn\\metrics\\_classification.py:2458: UserWarning: y_pred contains classes not in y_true\n",
      "  warnings.warn(\"y_pred contains classes not in y_true\")\n"
     ]
    },
    {
     "name": "stdout",
     "output_type": "stream",
     "text": [
      "{'val_loss': 1.5504735289317257, 'val_accuracy': 0.6796690307328606, 'precision': 0.6977535041887396, 'recall': 0.6796690307328606, 'f1-score': 0.6627891023909773, 'macro_f1-score': 0.38882863264323353, 'balanced_accuracy': 0.4185825118910097, 'mcc': 0.5728634559873899}\n",
      "Epoch 10/20\n"
     ]
    },
    {
     "name": "stderr",
     "output_type": "stream",
     "text": [
      "100%|██████████| 476/476 [19:48<00:00,  2.50s/it]\n",
      "D:\\Anaconda3\\envs\\cuda\\Lib\\site-packages\\sklearn\\metrics\\_classification.py:2458: UserWarning: y_pred contains classes not in y_true\n",
      "  warnings.warn(\"y_pred contains classes not in y_true\")\n"
     ]
    },
    {
     "name": "stdout",
     "output_type": "stream",
     "text": [
      "{'val_loss': 1.6441631429600265, 'val_accuracy': 0.66548463356974, 'precision': 0.680265766653154, 'recall': 0.66548463356974, 'f1-score': 0.6498369220110425, 'macro_f1-score': 0.31656072880059277, 'balanced_accuracy': 0.3392948144419162, 'mcc': 0.5532521076726338}\n",
      "Epoch 11/20\n"
     ]
    },
    {
     "name": "stderr",
     "output_type": "stream",
     "text": [
      "100%|██████████| 476/476 [19:48<00:00,  2.50s/it]\n",
      "D:\\Anaconda3\\envs\\cuda\\Lib\\site-packages\\sklearn\\metrics\\_classification.py:2458: UserWarning: y_pred contains classes not in y_true\n",
      "  warnings.warn(\"y_pred contains classes not in y_true\")\n"
     ]
    },
    {
     "name": "stdout",
     "output_type": "stream",
     "text": [
      "{'val_loss': 1.6789591742574044, 'val_accuracy': 0.6973995271867612, 'precision': 0.7122536496509214, 'recall': 0.6973995271867612, 'f1-score': 0.6783770160481403, 'macro_f1-score': 0.3571731051643445, 'balanced_accuracy': 0.3682020177411298, 'mcc': 0.5907160469533842}\n",
      "Epoch 12/20\n"
     ]
    },
    {
     "name": "stderr",
     "output_type": "stream",
     "text": [
      "100%|██████████| 476/476 [19:48<00:00,  2.50s/it]\n",
      "D:\\Anaconda3\\envs\\cuda\\Lib\\site-packages\\sklearn\\metrics\\_classification.py:2458: UserWarning: y_pred contains classes not in y_true\n",
      "  warnings.warn(\"y_pred contains classes not in y_true\")\n"
     ]
    },
    {
     "name": "stdout",
     "output_type": "stream",
     "text": [
      "{'val_loss': 1.691618189777968, 'val_accuracy': 0.6832151300236406, 'precision': 0.6973695976855459, 'recall': 0.6832151300236406, 'f1-score': 0.6646448334940296, 'macro_f1-score': 0.3277322039115739, 'balanced_accuracy': 0.3215257090272485, 'mcc': 0.5701564573824214}\n",
      "Early stopping triggered at epoch 12\n",
      "Fold 3\n",
      "Training set label distribution: {0: 3551, 1: 27, 2: 132, 3: 28, 4: 235, 5: 135, 6: 108, 7: 34, 8: 78, 9: 72, 10: 82, 11: 196, 12: 225, 13: 32, 14: 28, 15: 26, 16: 23, 17: 256, 18: 109, 19: 49, 20: 18, 21: 39, 22: 87, 23: 177, 24: 19, 25: 58, 26: 97, 27: 59, 28: 13, 29: 13, 30: 16, 31: 93, 32: 42, 33: 38, 34: 33, 35: 13, 36: 31, 37: 23, 38: 6, 39: 110, 40: 11, 41: 9, 42: 165, 43: 18, 44: 21, 45: 7, 46: 63, 47: 591, 48: 233, 49: 79}\n",
      "Validation set label distribution: {0: 423, 1: 4, 2: 8, 3: 2, 4: 22, 5: 10, 6: 10, 7: 5, 8: 7, 9: 9, 10: 6, 11: 19, 12: 16, 13: 4, 14: 1, 15: 5, 16: 2, 17: 33, 18: 7, 19: 7, 21: 5, 22: 10, 23: 23, 24: 1, 25: 5, 26: 10, 27: 2, 28: 2, 29: 3, 30: 3, 31: 7, 32: 3, 33: 2, 34: 4, 35: 2, 36: 4, 37: 4, 38: 1, 39: 19, 40: 3, 41: 2, 42: 19, 43: 2, 44: 4, 45: 4, 46: 5, 47: 70, 48: 19, 49: 8}\n"
     ]
    },
    {
     "name": "stderr",
     "output_type": "stream",
     "text": [
      "Some weights of DebertaForSequenceClassification were not initialized from the model checkpoint at microsoft/deberta-base and are newly initialized: ['classifier.bias', 'classifier.weight', 'pooler.dense.bias', 'pooler.dense.weight']\n",
      "You should probably TRAIN this model on a down-stream task to be able to use it for predictions and inference.\n"
     ]
    },
    {
     "name": "stdout",
     "output_type": "stream",
     "text": [
      "Epoch 1/20\n"
     ]
    },
    {
     "name": "stderr",
     "output_type": "stream",
     "text": [
      "100%|██████████| 476/476 [16:44<00:00,  2.11s/it]\n"
     ]
    },
    {
     "name": "stdout",
     "output_type": "stream",
     "text": [
      "{'val_loss': 1.4386044498884454, 'val_accuracy': 0.6323877068557919, 'precision': 0.525560920667719, 'recall': 0.6323877068557919, 'f1-score': 0.5600691529468592, 'macro_f1-score': 0.12215875731288915, 'balanced_accuracy': 0.1347101103870704, 'mcc': 0.45756558807446235}\n",
      "Epoch 2/20\n"
     ]
    },
    {
     "name": "stderr",
     "output_type": "stream",
     "text": [
      "100%|██████████| 476/476 [16:44<00:00,  2.11s/it]\n"
     ]
    },
    {
     "name": "stdout",
     "output_type": "stream",
     "text": [
      "{'val_loss': 1.2818555044678022, 'val_accuracy': 0.6832151300236406, 'precision': 0.6213075600797572, 'recall': 0.6832151300236406, 'f1-score': 0.6397234358236994, 'macro_f1-score': 0.23635234499228644, 'balanced_accuracy': 0.24745745548377374, 'mcc': 0.5510478651409617}\n",
      "Epoch 3/20\n"
     ]
    },
    {
     "name": "stderr",
     "output_type": "stream",
     "text": [
      "100%|██████████| 476/476 [16:44<00:00,  2.11s/it]\n"
     ]
    },
    {
     "name": "stdout",
     "output_type": "stream",
     "text": [
      "{'val_loss': 1.177104337035485, 'val_accuracy': 0.6843971631205674, 'precision': 0.6375394313050725, 'recall': 0.6843971631205674, 'f1-score': 0.6483922205579038, 'macro_f1-score': 0.23992174424647766, 'balanced_accuracy': 0.2535180427973233, 'mcc': 0.5607880202582644}\n",
      "Epoch 4/20\n"
     ]
    },
    {
     "name": "stderr",
     "output_type": "stream",
     "text": [
      "100%|██████████| 476/476 [16:45<00:00,  2.11s/it]\n"
     ]
    },
    {
     "name": "stdout",
     "output_type": "stream",
     "text": [
      "{'val_loss': 1.228564662753411, 'val_accuracy': 0.6773049645390071, 'precision': 0.6513194616406536, 'recall': 0.6773049645390071, 'f1-score': 0.6474871101678841, 'macro_f1-score': 0.28625197059660146, 'balanced_accuracy': 0.30603195754729273, 'mcc': 0.5492273224764161}\n",
      "Epoch 5/20\n"
     ]
    },
    {
     "name": "stderr",
     "output_type": "stream",
     "text": [
      "100%|██████████| 476/476 [16:43<00:00,  2.11s/it]\n"
     ]
    },
    {
     "name": "stdout",
     "output_type": "stream",
     "text": [
      "{'val_loss': 1.2959597957724671, 'val_accuracy': 0.7033096926713948, 'precision': 0.6918484636410623, 'recall': 0.7033096926713948, 'f1-score': 0.6806588040472121, 'macro_f1-score': 0.34792118387260207, 'balanced_accuracy': 0.34053791585865956, 'mcc': 0.5879606677805168}\n",
      "Epoch 6/20\n"
     ]
    },
    {
     "name": "stderr",
     "output_type": "stream",
     "text": [
      "100%|██████████| 476/476 [16:44<00:00,  2.11s/it]\n"
     ]
    },
    {
     "name": "stdout",
     "output_type": "stream",
     "text": [
      "{'val_loss': 1.3883949099284298, 'val_accuracy': 0.6867612293144209, 'precision': 0.6913718200341689, 'recall': 0.6867612293144209, 'f1-score': 0.6723156433455943, 'macro_f1-score': 0.3655893293377606, 'balanced_accuracy': 0.3601531261115293, 'mcc': 0.5651111929011667}\n",
      "Epoch 7/20\n"
     ]
    },
    {
     "name": "stderr",
     "output_type": "stream",
     "text": [
      "100%|██████████| 476/476 [16:44<00:00,  2.11s/it]\n"
     ]
    },
    {
     "name": "stdout",
     "output_type": "stream",
     "text": [
      "{'val_loss': 1.3861142470026917, 'val_accuracy': 0.682033096926714, 'precision': 0.7035885888816468, 'recall': 0.682033096926714, 'f1-score': 0.6753521566302076, 'macro_f1-score': 0.38098011528941145, 'balanced_accuracy': 0.3988894732306967, 'mcc': 0.5643957601559926}\n",
      "Epoch 8/20\n"
     ]
    },
    {
     "name": "stderr",
     "output_type": "stream",
     "text": [
      "100%|██████████| 476/476 [16:43<00:00,  2.11s/it]\n"
     ]
    },
    {
     "name": "stdout",
     "output_type": "stream",
     "text": [
      "{'val_loss': 1.4413167041427684, 'val_accuracy': 0.6808510638297872, 'precision': 0.6968323254682652, 'recall': 0.6808510638297872, 'f1-score': 0.6729891729226747, 'macro_f1-score': 0.3763158917780289, 'balanced_accuracy': 0.3941958890155502, 'mcc': 0.5777902065437848}\n",
      "Epoch 9/20\n"
     ]
    },
    {
     "name": "stderr",
     "output_type": "stream",
     "text": [
      "100%|██████████| 476/476 [16:43<00:00,  2.11s/it]\n"
     ]
    },
    {
     "name": "stdout",
     "output_type": "stream",
     "text": [
      "{'val_loss': 1.46944611617979, 'val_accuracy': 0.6962174940898345, 'precision': 0.6917780599317728, 'recall': 0.6962174940898345, 'f1-score': 0.6803458502024174, 'macro_f1-score': 0.3713899440470279, 'balanced_accuracy': 0.3583988444383204, 'mcc': 0.5800794855269823}\n",
      "Epoch 10/20\n"
     ]
    },
    {
     "name": "stderr",
     "output_type": "stream",
     "text": [
      "100%|██████████| 476/476 [16:45<00:00,  2.11s/it]\n"
     ]
    },
    {
     "name": "stdout",
     "output_type": "stream",
     "text": [
      "{'val_loss': 1.521542832325652, 'val_accuracy': 0.693853427895981, 'precision': 0.7082387593817979, 'recall': 0.693853427895981, 'f1-score': 0.6785143411073266, 'macro_f1-score': 0.40869225886926697, 'balanced_accuracy': 0.3870844793251246, 'mcc': 0.5727043355272322}\n",
      "Epoch 11/20\n"
     ]
    },
    {
     "name": "stderr",
     "output_type": "stream",
     "text": [
      "100%|██████████| 476/476 [16:44<00:00,  2.11s/it]\n",
      "D:\\Anaconda3\\envs\\cuda\\Lib\\site-packages\\sklearn\\metrics\\_classification.py:2458: UserWarning: y_pred contains classes not in y_true\n",
      "  warnings.warn(\"y_pred contains classes not in y_true\")\n"
     ]
    },
    {
     "name": "stdout",
     "output_type": "stream",
     "text": [
      "{'val_loss': 1.5640187878513112, 'val_accuracy': 0.723404255319149, 'precision': 0.7133534193807528, 'recall': 0.723404255319149, 'f1-score': 0.7035678310945793, 'macro_f1-score': 0.3722644188224764, 'balanced_accuracy': 0.382479504524201, 'mcc': 0.6167358521347}\n",
      "Epoch 12/20\n"
     ]
    },
    {
     "name": "stderr",
     "output_type": "stream",
     "text": [
      "100%|██████████| 476/476 [16:44<00:00,  2.11s/it]\n",
      "D:\\Anaconda3\\envs\\cuda\\Lib\\site-packages\\sklearn\\metrics\\_classification.py:2458: UserWarning: y_pred contains classes not in y_true\n",
      "  warnings.warn(\"y_pred contains classes not in y_true\")\n"
     ]
    },
    {
     "name": "stdout",
     "output_type": "stream",
     "text": [
      "{'val_loss': 1.6548561507238533, 'val_accuracy': 0.6784869976359338, 'precision': 0.7197162992059293, 'recall': 0.6784869976359338, 'f1-score': 0.6810234356110212, 'macro_f1-score': 0.3958637774347837, 'balanced_accuracy': 0.43845747321927786, 'mcc': 0.5764780036280801}\n",
      "Epoch 13/20\n"
     ]
    },
    {
     "name": "stderr",
     "output_type": "stream",
     "text": [
      "100%|██████████| 476/476 [16:44<00:00,  2.11s/it]\n",
      "D:\\Anaconda3\\envs\\cuda\\Lib\\site-packages\\sklearn\\metrics\\_classification.py:2458: UserWarning: y_pred contains classes not in y_true\n",
      "  warnings.warn(\"y_pred contains classes not in y_true\")\n"
     ]
    },
    {
     "name": "stdout",
     "output_type": "stream",
     "text": [
      "{'val_loss': 1.5301822764131259, 'val_accuracy': 0.6973995271867612, 'precision': 0.6914887893878899, 'recall': 0.6973995271867612, 'f1-score': 0.6777596810457107, 'macro_f1-score': 0.3370128436082895, 'balanced_accuracy': 0.3655047366513656, 'mcc': 0.5820935014677462}\n",
      "Early stopping triggered at epoch 13\n",
      "Fold 4\n",
      "Training set label distribution: {0: 3572, 1: 29, 2: 131, 3: 29, 4: 220, 5: 128, 6: 107, 7: 34, 8: 80, 9: 68, 10: 76, 11: 194, 12: 221, 13: 32, 14: 25, 15: 28, 16: 23, 17: 256, 18: 101, 19: 51, 20: 17, 21: 40, 22: 94, 23: 182, 24: 18, 25: 54, 26: 98, 27: 57, 28: 14, 29: 15, 30: 16, 31: 92, 32: 39, 33: 38, 34: 33, 35: 15, 36: 33, 37: 26, 38: 7, 39: 115, 40: 13, 41: 11, 42: 166, 43: 19, 44: 22, 45: 10, 46: 60, 47: 591, 48: 231, 49: 77}\n",
      "Validation set label distribution: {0: 402, 1: 2, 2: 9, 3: 1, 4: 37, 5: 17, 6: 11, 7: 5, 8: 5, 9: 13, 10: 12, 11: 21, 12: 20, 13: 4, 14: 4, 15: 3, 16: 2, 17: 33, 18: 15, 19: 5, 20: 1, 21: 4, 22: 3, 23: 18, 24: 2, 25: 9, 26: 9, 27: 4, 28: 1, 29: 1, 30: 3, 31: 8, 32: 6, 33: 2, 34: 4, 36: 2, 37: 1, 39: 14, 40: 1, 42: 18, 43: 1, 44: 3, 45: 1, 46: 8, 47: 70, 48: 21, 49: 10}\n"
     ]
    },
    {
     "name": "stderr",
     "output_type": "stream",
     "text": [
      "Some weights of DebertaForSequenceClassification were not initialized from the model checkpoint at microsoft/deberta-base and are newly initialized: ['classifier.bias', 'classifier.weight', 'pooler.dense.bias', 'pooler.dense.weight']\n",
      "You should probably TRAIN this model on a down-stream task to be able to use it for predictions and inference.\n"
     ]
    },
    {
     "name": "stdout",
     "output_type": "stream",
     "text": [
      "Epoch 1/20\n"
     ]
    },
    {
     "name": "stderr",
     "output_type": "stream",
     "text": [
      "100%|██████████| 476/476 [14:14<00:00,  1.80s/it]\n"
     ]
    },
    {
     "name": "stdout",
     "output_type": "stream",
     "text": [
      "{'val_loss': 1.4330526944601312, 'val_accuracy': 0.6382978723404256, 'precision': 0.506784918466266, 'recall': 0.6382978723404256, 'f1-score': 0.5340637888043336, 'macro_f1-score': 0.12910349847698122, 'balanced_accuracy': 0.14041880165252663, 'mcc': 0.4781663319763761}\n",
      "Epoch 2/20\n"
     ]
    },
    {
     "name": "stderr",
     "output_type": "stream",
     "text": [
      "100%|██████████| 476/476 [14:14<00:00,  1.80s/it]\n"
     ]
    },
    {
     "name": "stdout",
     "output_type": "stream",
     "text": [
      "{'val_loss': 1.2398070901070002, 'val_accuracy': 0.6678486997635934, 'precision': 0.6387554314381144, 'recall': 0.6678486997635934, 'f1-score': 0.6264947242256695, 'macro_f1-score': 0.21598610252022327, 'balanced_accuracy': 0.2164694983680469, 'mcc': 0.5404448698635301}\n",
      "Epoch 3/20\n"
     ]
    },
    {
     "name": "stderr",
     "output_type": "stream",
     "text": [
      "100%|██████████| 476/476 [14:15<00:00,  1.80s/it]\n"
     ]
    },
    {
     "name": "stdout",
     "output_type": "stream",
     "text": [
      "{'val_loss': 1.2339323387955718, 'val_accuracy': 0.6713947990543735, 'precision': 0.6608108285039497, 'recall': 0.6713947990543735, 'f1-score': 0.6560446370093856, 'macro_f1-score': 0.27680801450515, 'balanced_accuracy': 0.29956586142350067, 'mcc': 0.56443877547921}\n",
      "Epoch 4/20\n"
     ]
    },
    {
     "name": "stderr",
     "output_type": "stream",
     "text": [
      "100%|██████████| 476/476 [14:15<00:00,  1.80s/it]\n",
      "D:\\Anaconda3\\envs\\cuda\\Lib\\site-packages\\sklearn\\metrics\\_classification.py:2458: UserWarning: y_pred contains classes not in y_true\n",
      "  warnings.warn(\"y_pred contains classes not in y_true\")\n"
     ]
    },
    {
     "name": "stdout",
     "output_type": "stream",
     "text": [
      "{'val_loss': 1.2559670491038628, 'val_accuracy': 0.6737588652482269, 'precision': 0.6520019745055632, 'recall': 0.6737588652482269, 'f1-score': 0.6415802690858247, 'macro_f1-score': 0.2854904897359508, 'balanced_accuracy': 0.28181866107724923, 'mcc': 0.5505798678528219}\n",
      "Epoch 5/20\n"
     ]
    },
    {
     "name": "stderr",
     "output_type": "stream",
     "text": [
      "100%|██████████| 476/476 [14:15<00:00,  1.80s/it]\n"
     ]
    },
    {
     "name": "stdout",
     "output_type": "stream",
     "text": [
      "{'val_loss': 1.3455914689122506, 'val_accuracy': 0.6784869976359338, 'precision': 0.6847811415073063, 'recall': 0.6784869976359338, 'f1-score': 0.6582230539945914, 'macro_f1-score': 0.3624039419295558, 'balanced_accuracy': 0.3609240505089794, 'mcc': 0.5647517995049378}\n",
      "Epoch 6/20\n"
     ]
    },
    {
     "name": "stderr",
     "output_type": "stream",
     "text": [
      "100%|██████████| 476/476 [14:15<00:00,  1.80s/it]\n"
     ]
    },
    {
     "name": "stdout",
     "output_type": "stream",
     "text": [
      "{'val_loss': 1.497590795440494, 'val_accuracy': 0.6619385342789598, 'precision': 0.6659285474263877, 'recall': 0.6619385342789598, 'f1-score': 0.6518360862372458, 'macro_f1-score': 0.33136798424059505, 'balanced_accuracy': 0.3398606348917372, 'mcc': 0.5565566734573829}\n",
      "Epoch 7/20\n"
     ]
    },
    {
     "name": "stderr",
     "output_type": "stream",
     "text": [
      "100%|██████████| 476/476 [14:15<00:00,  1.80s/it]\n",
      "D:\\Anaconda3\\envs\\cuda\\Lib\\site-packages\\sklearn\\metrics\\_classification.py:2458: UserWarning: y_pred contains classes not in y_true\n",
      "  warnings.warn(\"y_pred contains classes not in y_true\")\n"
     ]
    },
    {
     "name": "stdout",
     "output_type": "stream",
     "text": [
      "{'val_loss': 1.3915349590890813, 'val_accuracy': 0.6773049645390071, 'precision': 0.6966233127719056, 'recall': 0.6773049645390071, 'f1-score': 0.6751522741547497, 'macro_f1-score': 0.3526803019947433, 'balanced_accuracy': 0.3688302194742148, 'mcc': 0.5771502141603931}\n",
      "Epoch 8/20\n"
     ]
    },
    {
     "name": "stderr",
     "output_type": "stream",
     "text": [
      "100%|██████████| 476/476 [14:14<00:00,  1.80s/it]\n",
      "D:\\Anaconda3\\envs\\cuda\\Lib\\site-packages\\sklearn\\metrics\\_classification.py:2458: UserWarning: y_pred contains classes not in y_true\n",
      "  warnings.warn(\"y_pred contains classes not in y_true\")\n"
     ]
    },
    {
     "name": "stdout",
     "output_type": "stream",
     "text": [
      "{'val_loss': 1.4804018851158753, 'val_accuracy': 0.6879432624113475, 'precision': 0.6902978264895944, 'recall': 0.6879432624113475, 'f1-score': 0.6797740214692067, 'macro_f1-score': 0.3505493255912722, 'balanced_accuracy': 0.3640604602291786, 'mcc': 0.5856938441407983}\n",
      "Early stopping triggered at epoch 8\n",
      "Fold 5\n",
      "Training set label distribution: {0: 3584, 1: 29, 2: 123, 3: 28, 4: 228, 5: 132, 6: 109, 7: 39, 8: 80, 9: 72, 10: 81, 11: 187, 12: 222, 13: 34, 14: 26, 15: 28, 16: 20, 17: 263, 18: 104, 19: 48, 20: 16, 21: 39, 22: 87, 23: 184, 24: 19, 25: 55, 26: 101, 27: 49, 28: 14, 29: 13, 30: 18, 31: 91, 32: 41, 33: 32, 34: 33, 35: 12, 36: 32, 37: 23, 38: 7, 39: 114, 40: 13, 41: 9, 42: 166, 43: 18, 44: 24, 45: 11, 46: 58, 47: 589, 48: 224, 49: 80}\n",
      "Validation set label distribution: {0: 390, 1: 2, 2: 17, 3: 2, 4: 29, 5: 13, 6: 9, 8: 5, 9: 9, 10: 7, 11: 28, 12: 19, 13: 2, 14: 3, 15: 3, 16: 5, 17: 26, 18: 12, 19: 8, 20: 2, 21: 5, 22: 10, 23: 16, 24: 1, 25: 8, 26: 6, 27: 12, 28: 1, 29: 3, 30: 1, 31: 9, 32: 4, 33: 8, 34: 4, 35: 3, 36: 3, 37: 4, 39: 15, 40: 1, 41: 2, 42: 18, 43: 2, 44: 1, 46: 10, 47: 72, 48: 28, 49: 7}\n"
     ]
    },
    {
     "name": "stderr",
     "output_type": "stream",
     "text": [
      "Some weights of DebertaForSequenceClassification were not initialized from the model checkpoint at microsoft/deberta-base and are newly initialized: ['classifier.bias', 'classifier.weight', 'pooler.dense.bias', 'pooler.dense.weight']\n",
      "You should probably TRAIN this model on a down-stream task to be able to use it for predictions and inference.\n"
     ]
    },
    {
     "name": "stdout",
     "output_type": "stream",
     "text": [
      "Epoch 1/20\n"
     ]
    },
    {
     "name": "stderr",
     "output_type": "stream",
     "text": [
      "100%|██████████| 476/476 [17:35<00:00,  2.22s/it]\n"
     ]
    },
    {
     "name": "stdout",
     "output_type": "stream",
     "text": [
      "{'val_loss': 1.5108740279134714, 'val_accuracy': 0.6201183431952663, 'precision': 0.47239403494285614, 'recall': 0.6201183431952663, 'f1-score': 0.5238307771680133, 'macro_f1-score': 0.1391552448070689, 'balanced_accuracy': 0.14536505642601283, 'mcc': 0.466988141046326}\n",
      "Epoch 2/20\n"
     ]
    },
    {
     "name": "stderr",
     "output_type": "stream",
     "text": [
      "100%|██████████| 476/476 [17:36<00:00,  2.22s/it]\n"
     ]
    },
    {
     "name": "stdout",
     "output_type": "stream",
     "text": [
      "{'val_loss': 1.3427899485489108, 'val_accuracy': 0.6402366863905326, 'precision': 0.589120465406464, 'recall': 0.6402366863905326, 'f1-score': 0.5881048005506397, 'macro_f1-score': 0.2111791799628026, 'balanced_accuracy': 0.21286650553102607, 'mcc': 0.5070170622814247}\n",
      "Epoch 3/20\n"
     ]
    },
    {
     "name": "stderr",
     "output_type": "stream",
     "text": [
      "100%|██████████| 476/476 [17:36<00:00,  2.22s/it]\n"
     ]
    },
    {
     "name": "stdout",
     "output_type": "stream",
     "text": [
      "{'val_loss': 1.2207026222966753, 'val_accuracy': 0.672189349112426, 'precision': 0.6553215238237511, 'recall': 0.672189349112426, 'f1-score': 0.6408800475609157, 'macro_f1-score': 0.2874519542382306, 'balanced_accuracy': 0.30237923351101914, 'mcc': 0.5641113166123324}\n",
      "Epoch 4/20\n"
     ]
    },
    {
     "name": "stderr",
     "output_type": "stream",
     "text": [
      "100%|██████████| 476/476 [17:37<00:00,  2.22s/it]\n"
     ]
    },
    {
     "name": "stdout",
     "output_type": "stream",
     "text": [
      "{'val_loss': 1.3184574353245069, 'val_accuracy': 0.6662721893491125, 'precision': 0.6266857688901496, 'recall': 0.6662721893491125, 'f1-score': 0.6229403672443046, 'macro_f1-score': 0.26052030420396055, 'balanced_accuracy': 0.24623729869142125, 'mcc': 0.5473566471853114}\n",
      "Epoch 5/20\n"
     ]
    },
    {
     "name": "stderr",
     "output_type": "stream",
     "text": [
      "100%|██████████| 476/476 [17:36<00:00,  2.22s/it]\n",
      "D:\\Anaconda3\\envs\\cuda\\Lib\\site-packages\\sklearn\\metrics\\_classification.py:2458: UserWarning: y_pred contains classes not in y_true\n",
      "  warnings.warn(\"y_pred contains classes not in y_true\")\n"
     ]
    },
    {
     "name": "stdout",
     "output_type": "stream",
     "text": [
      "{'val_loss': 1.269286330016154, 'val_accuracy': 0.6792899408284023, 'precision': 0.6575231430852732, 'recall': 0.6792899408284023, 'f1-score': 0.6573273972195914, 'macro_f1-score': 0.3397561892340188, 'balanced_accuracy': 0.3614156286059573, 'mcc': 0.5776399077334001}\n",
      "Epoch 6/20\n"
     ]
    },
    {
     "name": "stderr",
     "output_type": "stream",
     "text": [
      "100%|██████████| 476/476 [17:37<00:00,  2.22s/it]\n"
     ]
    },
    {
     "name": "stdout",
     "output_type": "stream",
     "text": [
      "{'val_loss': 1.434345708703095, 'val_accuracy': 0.6816568047337278, 'precision': 0.7103517208349291, 'recall': 0.6816568047337278, 'f1-score': 0.673495446518874, 'macro_f1-score': 0.36450367323097355, 'balanced_accuracy': 0.40095037868610317, 'mcc': 0.5922025314512493}\n",
      "Epoch 7/20\n"
     ]
    },
    {
     "name": "stderr",
     "output_type": "stream",
     "text": [
      "100%|██████████| 476/476 [17:35<00:00,  2.22s/it]\n"
     ]
    },
    {
     "name": "stdout",
     "output_type": "stream",
     "text": [
      "{'val_loss': 1.5095194468520723, 'val_accuracy': 0.6863905325443787, 'precision': 0.6975506099018686, 'recall': 0.6863905325443787, 'f1-score': 0.6732731714784198, 'macro_f1-score': 0.3807828627676378, 'balanced_accuracy': 0.38479668956404844, 'mcc': 0.5876619447208448}\n",
      "Epoch 8/20\n"
     ]
    },
    {
     "name": "stderr",
     "output_type": "stream",
     "text": [
      "100%|██████████| 476/476 [17:37<00:00,  2.22s/it]\n"
     ]
    },
    {
     "name": "stdout",
     "output_type": "stream",
     "text": [
      "{'val_loss': 1.482828601351324, 'val_accuracy': 0.6994082840236686, 'precision': 0.7009592188839497, 'recall': 0.6994082840236686, 'f1-score': 0.6894058737663484, 'macro_f1-score': 0.3998872688461746, 'balanced_accuracy': 0.3972096627296866, 'mcc': 0.6064080989677175}\n",
      "Epoch 9/20\n"
     ]
    },
    {
     "name": "stderr",
     "output_type": "stream",
     "text": [
      "100%|██████████| 476/476 [17:36<00:00,  2.22s/it]\n",
      "D:\\Anaconda3\\envs\\cuda\\Lib\\site-packages\\sklearn\\metrics\\_classification.py:2458: UserWarning: y_pred contains classes not in y_true\n",
      "  warnings.warn(\"y_pred contains classes not in y_true\")\n"
     ]
    },
    {
     "name": "stdout",
     "output_type": "stream",
     "text": [
      "{'val_loss': 1.575693205280124, 'val_accuracy': 0.6946745562130178, 'precision': 0.7022939225758579, 'recall': 0.6946745562130178, 'f1-score': 0.680541612620472, 'macro_f1-score': 0.3729948038871482, 'balanced_accuracy': 0.3925413038610343, 'mcc': 0.5999080394041266}\n",
      "Epoch 10/20\n"
     ]
    },
    {
     "name": "stderr",
     "output_type": "stream",
     "text": [
      "100%|██████████| 476/476 [17:36<00:00,  2.22s/it]\n"
     ]
    },
    {
     "name": "stdout",
     "output_type": "stream",
     "text": [
      "{'val_loss': 1.6697612908088937, 'val_accuracy': 0.6840236686390533, 'precision': 0.6761560157619847, 'recall': 0.6840236686390533, 'f1-score': 0.6593083974674838, 'macro_f1-score': 0.3750668247502917, 'balanced_accuracy': 0.3638711472016318, 'mcc': 0.578108031168914}\n",
      "Epoch 11/20\n"
     ]
    },
    {
     "name": "stderr",
     "output_type": "stream",
     "text": [
      "100%|██████████| 476/476 [17:35<00:00,  2.22s/it]\n"
     ]
    },
    {
     "name": "stdout",
     "output_type": "stream",
     "text": [
      "{'val_loss': 1.7137453319891445, 'val_accuracy': 0.6875739644970414, 'precision': 0.6837207614793963, 'recall': 0.6875739644970414, 'f1-score': 0.6671173000242324, 'macro_f1-score': 0.3788251011879017, 'balanced_accuracy': 0.383483602766412, 'mcc': 0.5848366737575922}\n",
      "Early stopping triggered at epoch 11\n",
      "Fold 6\n",
      "Training set label distribution: {0: 3585, 1: 25, 2: 126, 3: 26, 4: 228, 5: 128, 6: 104, 7: 35, 8: 76, 9: 76, 10: 80, 11: 185, 12: 218, 13: 31, 14: 24, 15: 28, 16: 23, 17: 261, 18: 104, 19: 51, 20: 17, 21: 40, 22: 88, 23: 180, 24: 19, 25: 59, 26: 95, 27: 54, 28: 15, 29: 16, 30: 17, 31: 85, 32: 40, 33: 35, 34: 33, 35: 15, 36: 34, 37: 24, 38: 7, 39: 116, 40: 14, 41: 7, 42: 171, 43: 20, 44: 25, 45: 10, 46: 59, 47: 591, 48: 229, 49: 80}\n",
      "Validation set label distribution: {0: 389, 1: 6, 2: 14, 3: 4, 4: 29, 5: 17, 6: 14, 7: 4, 8: 9, 9: 5, 10: 8, 11: 30, 12: 23, 13: 5, 14: 5, 15: 3, 16: 2, 17: 28, 18: 12, 19: 5, 20: 1, 21: 4, 22: 9, 23: 20, 24: 1, 25: 4, 26: 12, 27: 7, 30: 2, 31: 15, 32: 5, 33: 5, 34: 4, 36: 1, 37: 3, 39: 13, 41: 4, 42: 13, 45: 1, 46: 9, 47: 70, 48: 23, 49: 7}\n"
     ]
    },
    {
     "name": "stderr",
     "output_type": "stream",
     "text": [
      "Some weights of DebertaForSequenceClassification were not initialized from the model checkpoint at microsoft/deberta-base and are newly initialized: ['classifier.bias', 'classifier.weight', 'pooler.dense.bias', 'pooler.dense.weight']\n",
      "You should probably TRAIN this model on a down-stream task to be able to use it for predictions and inference.\n"
     ]
    },
    {
     "name": "stdout",
     "output_type": "stream",
     "text": [
      "Epoch 1/20\n"
     ]
    },
    {
     "name": "stderr",
     "output_type": "stream",
     "text": [
      "100%|██████████| 476/476 [13:45<00:00,  1.73s/it]\n"
     ]
    },
    {
     "name": "stdout",
     "output_type": "stream",
     "text": [
      "{'val_loss': 1.5003320833422102, 'val_accuracy': 0.5964497041420118, 'precision': 0.4985389997876176, 'recall': 0.5964497041420118, 'f1-score': 0.5261227901033686, 'macro_f1-score': 0.16186561170749117, 'balanced_accuracy': 0.18664729365145685, 'mcc': 0.44608255319750834}\n",
      "Epoch 2/20\n"
     ]
    },
    {
     "name": "stderr",
     "output_type": "stream",
     "text": [
      "100%|██████████| 476/476 [13:44<00:00,  1.73s/it]\n",
      "D:\\Anaconda3\\envs\\cuda\\Lib\\site-packages\\sklearn\\metrics\\_classification.py:2458: UserWarning: y_pred contains classes not in y_true\n",
      "  warnings.warn(\"y_pred contains classes not in y_true\")\n"
     ]
    },
    {
     "name": "stdout",
     "output_type": "stream",
     "text": [
      "{'val_loss': 1.337040219104515, 'val_accuracy': 0.6248520710059171, 'precision': 0.5563420534187604, 'recall': 0.6248520710059171, 'f1-score': 0.5737112792485666, 'macro_f1-score': 0.20834699806660317, 'balanced_accuracy': 0.23499352784992059, 'mcc': 0.49896354789723135}\n",
      "Epoch 3/20\n"
     ]
    },
    {
     "name": "stderr",
     "output_type": "stream",
     "text": [
      "100%|██████████| 476/476 [13:45<00:00,  1.73s/it]\n",
      "D:\\Anaconda3\\envs\\cuda\\Lib\\site-packages\\sklearn\\metrics\\_classification.py:2458: UserWarning: y_pred contains classes not in y_true\n",
      "  warnings.warn(\"y_pred contains classes not in y_true\")\n"
     ]
    },
    {
     "name": "stdout",
     "output_type": "stream",
     "text": [
      "{'val_loss': 1.2608575747822814, 'val_accuracy': 0.6449704142011834, 'precision': 0.6092094477969179, 'recall': 0.6449704142011834, 'f1-score': 0.6126500025872895, 'macro_f1-score': 0.2773091325980811, 'balanced_accuracy': 0.3014323410517928, 'mcc': 0.5281799974930269}\n",
      "Epoch 4/20\n"
     ]
    },
    {
     "name": "stderr",
     "output_type": "stream",
     "text": [
      "100%|██████████| 476/476 [13:45<00:00,  1.73s/it]\n",
      "D:\\Anaconda3\\envs\\cuda\\Lib\\site-packages\\sklearn\\metrics\\_classification.py:2458: UserWarning: y_pred contains classes not in y_true\n",
      "  warnings.warn(\"y_pred contains classes not in y_true\")\n"
     ]
    },
    {
     "name": "stdout",
     "output_type": "stream",
     "text": [
      "{'val_loss': 1.3197483431618169, 'val_accuracy': 0.6532544378698225, 'precision': 0.6143507746845721, 'recall': 0.6532544378698225, 'f1-score': 0.6193370899358699, 'macro_f1-score': 0.2812255376117183, 'balanced_accuracy': 0.29329504272800055, 'mcc': 0.5399996519486684}\n",
      "Epoch 5/20\n"
     ]
    },
    {
     "name": "stderr",
     "output_type": "stream",
     "text": [
      "100%|██████████| 476/476 [13:45<00:00,  1.73s/it]\n",
      "D:\\Anaconda3\\envs\\cuda\\Lib\\site-packages\\sklearn\\metrics\\_classification.py:2458: UserWarning: y_pred contains classes not in y_true\n",
      "  warnings.warn(\"y_pred contains classes not in y_true\")\n"
     ]
    },
    {
     "name": "stdout",
     "output_type": "stream",
     "text": [
      "{'val_loss': 1.3180782623448462, 'val_accuracy': 0.6556213017751479, 'precision': 0.6507836723790892, 'recall': 0.6556213017751479, 'f1-score': 0.6404120521397223, 'macro_f1-score': 0.33342249906105276, 'balanced_accuracy': 0.3571153209565879, 'mcc': 0.5475935506074767}\n",
      "Epoch 6/20\n"
     ]
    },
    {
     "name": "stderr",
     "output_type": "stream",
     "text": [
      "100%|██████████| 476/476 [13:45<00:00,  1.73s/it]\n",
      "D:\\Anaconda3\\envs\\cuda\\Lib\\site-packages\\sklearn\\metrics\\_classification.py:2458: UserWarning: y_pred contains classes not in y_true\n",
      "  warnings.warn(\"y_pred contains classes not in y_true\")\n"
     ]
    },
    {
     "name": "stdout",
     "output_type": "stream",
     "text": [
      "{'val_loss': 1.4974338732800394, 'val_accuracy': 0.672189349112426, 'precision': 0.6395575712060116, 'recall': 0.672189349112426, 'f1-score': 0.6347003831685895, 'macro_f1-score': 0.3331526947592649, 'balanced_accuracy': 0.33132434945489275, 'mcc': 0.558378948414632}\n",
      "Epoch 7/20\n"
     ]
    },
    {
     "name": "stderr",
     "output_type": "stream",
     "text": [
      "100%|██████████| 476/476 [13:47<00:00,  1.74s/it]\n",
      "D:\\Anaconda3\\envs\\cuda\\Lib\\site-packages\\sklearn\\metrics\\_classification.py:2458: UserWarning: y_pred contains classes not in y_true\n",
      "  warnings.warn(\"y_pred contains classes not in y_true\")\n"
     ]
    },
    {
     "name": "stdout",
     "output_type": "stream",
     "text": [
      "{'val_loss': 1.5435675615971942, 'val_accuracy': 0.659171597633136, 'precision': 0.664285449002027, 'recall': 0.659171597633136, 'f1-score': 0.6422617518202476, 'macro_f1-score': 0.36009915435757606, 'balanced_accuracy': 0.3732199065962559, 'mcc': 0.5485728031281552}\n",
      "Epoch 8/20\n"
     ]
    },
    {
     "name": "stderr",
     "output_type": "stream",
     "text": [
      "100%|██████████| 476/476 [13:45<00:00,  1.73s/it]\n",
      "D:\\Anaconda3\\envs\\cuda\\Lib\\site-packages\\sklearn\\metrics\\_classification.py:2458: UserWarning: y_pred contains classes not in y_true\n",
      "  warnings.warn(\"y_pred contains classes not in y_true\")\n"
     ]
    },
    {
     "name": "stdout",
     "output_type": "stream",
     "text": [
      "{'val_loss': 1.6016049520727598, 'val_accuracy': 0.6556213017751479, 'precision': 0.6817326366332174, 'recall': 0.6556213017751479, 'f1-score': 0.6462147085343706, 'macro_f1-score': 0.3596286343456423, 'balanced_accuracy': 0.3962691212308532, 'mcc': 0.5467490960771637}\n",
      "Epoch 9/20\n"
     ]
    },
    {
     "name": "stderr",
     "output_type": "stream",
     "text": [
      "100%|██████████| 476/476 [13:44<00:00,  1.73s/it]\n",
      "D:\\Anaconda3\\envs\\cuda\\Lib\\site-packages\\sklearn\\metrics\\_classification.py:2458: UserWarning: y_pred contains classes not in y_true\n",
      "  warnings.warn(\"y_pred contains classes not in y_true\")\n"
     ]
    },
    {
     "name": "stdout",
     "output_type": "stream",
     "text": [
      "{'val_loss': 1.623420016664379, 'val_accuracy': 0.6568047337278107, 'precision': 0.6475033464249477, 'recall': 0.6568047337278107, 'f1-score': 0.6352874917384186, 'macro_f1-score': 0.35458153262387115, 'balanced_accuracy': 0.36343108554489206, 'mcc': 0.5456642568548155}\n",
      "Epoch 10/20\n"
     ]
    },
    {
     "name": "stderr",
     "output_type": "stream",
     "text": [
      "100%|██████████| 476/476 [13:45<00:00,  1.73s/it]\n",
      "D:\\Anaconda3\\envs\\cuda\\Lib\\site-packages\\sklearn\\metrics\\_classification.py:2458: UserWarning: y_pred contains classes not in y_true\n",
      "  warnings.warn(\"y_pred contains classes not in y_true\")\n"
     ]
    },
    {
     "name": "stdout",
     "output_type": "stream",
     "text": [
      "{'val_loss': 1.6139517190321437, 'val_accuracy': 0.6520710059171597, 'precision': 0.6668269982207392, 'recall': 0.6520710059171597, 'f1-score': 0.6405895085805454, 'macro_f1-score': 0.3620401545393232, 'balanced_accuracy': 0.3944044057013261, 'mcc': 0.5443263736338724}\n",
      "Epoch 11/20\n"
     ]
    },
    {
     "name": "stderr",
     "output_type": "stream",
     "text": [
      "100%|██████████| 476/476 [13:45<00:00,  1.73s/it]\n",
      "D:\\Anaconda3\\envs\\cuda\\Lib\\site-packages\\sklearn\\metrics\\_classification.py:2458: UserWarning: y_pred contains classes not in y_true\n",
      "  warnings.warn(\"y_pred contains classes not in y_true\")\n"
     ]
    },
    {
     "name": "stdout",
     "output_type": "stream",
     "text": [
      "{'val_loss': 1.7197744867430542, 'val_accuracy': 0.6414201183431952, 'precision': 0.6530368446964806, 'recall': 0.6414201183431952, 'f1-score': 0.6301940296943379, 'macro_f1-score': 0.3507175372507386, 'balanced_accuracy': 0.3775150610453921, 'mcc': 0.5424159343053608}\n",
      "Epoch 12/20\n"
     ]
    },
    {
     "name": "stderr",
     "output_type": "stream",
     "text": [
      "100%|██████████| 476/476 [13:45<00:00,  1.73s/it]\n",
      "D:\\Anaconda3\\envs\\cuda\\Lib\\site-packages\\sklearn\\metrics\\_classification.py:2458: UserWarning: y_pred contains classes not in y_true\n",
      "  warnings.warn(\"y_pred contains classes not in y_true\")\n"
     ]
    },
    {
     "name": "stdout",
     "output_type": "stream",
     "text": [
      "{'val_loss': 1.746618871700089, 'val_accuracy': 0.6804733727810651, 'precision': 0.6645409200563246, 'recall': 0.6804733727810651, 'f1-score': 0.6639817224370669, 'macro_f1-score': 0.40121022267020173, 'balanced_accuracy': 0.4027021288172498, 'mcc': 0.577171133342042}\n",
      "Epoch 13/20\n"
     ]
    },
    {
     "name": "stderr",
     "output_type": "stream",
     "text": [
      "100%|██████████| 476/476 [13:45<00:00,  1.73s/it]\n",
      "D:\\Anaconda3\\envs\\cuda\\Lib\\site-packages\\sklearn\\metrics\\_classification.py:2458: UserWarning: y_pred contains classes not in y_true\n",
      "  warnings.warn(\"y_pred contains classes not in y_true\")\n"
     ]
    },
    {
     "name": "stdout",
     "output_type": "stream",
     "text": [
      "{'val_loss': 1.8567736385003575, 'val_accuracy': 0.6686390532544378, 'precision': 0.6507618756833257, 'recall': 0.6686390532544378, 'f1-score': 0.6410886363336674, 'macro_f1-score': 0.33694720337027434, 'balanced_accuracy': 0.3289718163008331, 'mcc': 0.5559787046015158}\n",
      "Epoch 14/20\n"
     ]
    },
    {
     "name": "stderr",
     "output_type": "stream",
     "text": [
      "100%|██████████| 476/476 [13:46<00:00,  1.74s/it]\n",
      "D:\\Anaconda3\\envs\\cuda\\Lib\\site-packages\\sklearn\\metrics\\_classification.py:2458: UserWarning: y_pred contains classes not in y_true\n",
      "  warnings.warn(\"y_pred contains classes not in y_true\")\n"
     ]
    },
    {
     "name": "stdout",
     "output_type": "stream",
     "text": [
      "{'val_loss': 1.8119571297517363, 'val_accuracy': 0.6473372781065089, 'precision': 0.6777350247593162, 'recall': 0.6473372781065089, 'f1-score': 0.6428265799391508, 'macro_f1-score': 0.37130992671583607, 'balanced_accuracy': 0.4057725321457469, 'mcc': 0.546756044463142}\n",
      "Epoch 15/20\n"
     ]
    },
    {
     "name": "stderr",
     "output_type": "stream",
     "text": [
      "100%|██████████| 476/476 [13:46<00:00,  1.74s/it]\n",
      "D:\\Anaconda3\\envs\\cuda\\Lib\\site-packages\\sklearn\\metrics\\_classification.py:2458: UserWarning: y_pred contains classes not in y_true\n",
      "  warnings.warn(\"y_pred contains classes not in y_true\")\n"
     ]
    },
    {
     "name": "stdout",
     "output_type": "stream",
     "text": [
      "{'val_loss': 1.9725795121125456, 'val_accuracy': 0.659171597633136, 'precision': 0.6492450197209207, 'recall': 0.659171597633136, 'f1-score': 0.6413454262870304, 'macro_f1-score': 0.34939476757883514, 'balanced_accuracy': 0.3636857836113389, 'mcc': 0.5522925702386906}\n",
      "Early stopping triggered at epoch 15\n",
      "Fold 7\n",
      "Training set label distribution: {0: 3551, 1: 28, 2: 126, 3: 27, 4: 229, 5: 129, 6: 109, 7: 35, 8: 81, 9: 74, 10: 79, 11: 198, 12: 223, 13: 34, 14: 27, 15: 28, 16: 24, 17: 264, 18: 103, 19: 51, 20: 15, 21: 35, 22: 88, 23: 184, 24: 17, 25: 61, 26: 96, 27: 57, 28: 15, 29: 14, 30: 19, 31: 86, 32: 43, 33: 35, 34: 35, 35: 13, 36: 28, 37: 26, 38: 7, 39: 118, 40: 14, 41: 11, 42: 158, 43: 19, 44: 23, 45: 9, 46: 63, 47: 596, 48: 224, 49: 80}\n",
      "Validation set label distribution: {0: 423, 1: 3, 2: 14, 3: 3, 4: 28, 5: 16, 6: 9, 7: 4, 8: 4, 9: 7, 10: 9, 11: 17, 12: 18, 13: 2, 14: 2, 15: 3, 16: 1, 17: 25, 18: 13, 19: 5, 20: 3, 21: 9, 22: 9, 23: 16, 24: 3, 25: 2, 26: 11, 27: 4, 29: 2, 31: 14, 32: 2, 33: 5, 34: 2, 35: 2, 36: 7, 37: 1, 39: 11, 42: 26, 43: 1, 44: 2, 45: 2, 46: 5, 47: 65, 48: 28, 49: 7}\n"
     ]
    },
    {
     "name": "stderr",
     "output_type": "stream",
     "text": [
      "Some weights of DebertaForSequenceClassification were not initialized from the model checkpoint at microsoft/deberta-base and are newly initialized: ['classifier.bias', 'classifier.weight', 'pooler.dense.bias', 'pooler.dense.weight']\n",
      "You should probably TRAIN this model on a down-stream task to be able to use it for predictions and inference.\n"
     ]
    },
    {
     "name": "stdout",
     "output_type": "stream",
     "text": [
      "Epoch 1/20\n"
     ]
    },
    {
     "name": "stderr",
     "output_type": "stream",
     "text": [
      "100%|██████████| 476/476 [17:34<00:00,  2.21s/it]\n"
     ]
    },
    {
     "name": "stdout",
     "output_type": "stream",
     "text": [
      "{'val_loss': 1.466939019707014, 'val_accuracy': 0.6355029585798817, 'precision': 0.522006903836007, 'recall': 0.6355029585798817, 'f1-score': 0.5571815197725705, 'macro_f1-score': 0.15753487918059367, 'balanced_accuracy': 0.16377294113818938, 'mcc': 0.46808346138524937}\n",
      "Epoch 2/20\n"
     ]
    },
    {
     "name": "stderr",
     "output_type": "stream",
     "text": [
      "100%|██████████| 476/476 [17:34<00:00,  2.22s/it]\n"
     ]
    },
    {
     "name": "stdout",
     "output_type": "stream",
     "text": [
      "{'val_loss': 1.2842963956437021, 'val_accuracy': 0.621301775147929, 'precision': 0.6074786762009053, 'recall': 0.621301775147929, 'f1-score': 0.5946974443234893, 'macro_f1-score': 0.20404256008571792, 'balanced_accuracy': 0.23338355484809384, 'mcc': 0.4870212046464896}\n",
      "Epoch 3/20\n"
     ]
    },
    {
     "name": "stderr",
     "output_type": "stream",
     "text": [
      "100%|██████████| 476/476 [17:35<00:00,  2.22s/it]\n",
      "D:\\Anaconda3\\envs\\cuda\\Lib\\site-packages\\sklearn\\metrics\\_classification.py:2458: UserWarning: y_pred contains classes not in y_true\n",
      "  warnings.warn(\"y_pred contains classes not in y_true\")\n"
     ]
    },
    {
     "name": "stdout",
     "output_type": "stream",
     "text": [
      "{'val_loss': 1.2359304262219735, 'val_accuracy': 0.6461538461538462, 'precision': 0.6516955146223287, 'recall': 0.6461538461538462, 'f1-score': 0.6216059129267852, 'macro_f1-score': 0.2401713798891107, 'balanced_accuracy': 0.27349064781229987, 'mcc': 0.5093913436832398}\n",
      "Epoch 4/20\n"
     ]
    },
    {
     "name": "stderr",
     "output_type": "stream",
     "text": [
      "100%|██████████| 476/476 [17:34<00:00,  2.21s/it]\n",
      "D:\\Anaconda3\\envs\\cuda\\Lib\\site-packages\\sklearn\\metrics\\_classification.py:2458: UserWarning: y_pred contains classes not in y_true\n",
      "  warnings.warn(\"y_pred contains classes not in y_true\")\n"
     ]
    },
    {
     "name": "stdout",
     "output_type": "stream",
     "text": [
      "{'val_loss': 1.217324288948527, 'val_accuracy': 0.6698224852071006, 'precision': 0.6833031009122748, 'recall': 0.6698224852071006, 'f1-score': 0.6549444863004218, 'macro_f1-score': 0.29717712554127745, 'balanced_accuracy': 0.32732729543513855, 'mcc': 0.5434556687530703}\n",
      "Epoch 5/20\n"
     ]
    },
    {
     "name": "stderr",
     "output_type": "stream",
     "text": [
      "100%|██████████| 476/476 [17:34<00:00,  2.21s/it]\n",
      "D:\\Anaconda3\\envs\\cuda\\Lib\\site-packages\\sklearn\\metrics\\_classification.py:2458: UserWarning: y_pred contains classes not in y_true\n",
      "  warnings.warn(\"y_pred contains classes not in y_true\")\n"
     ]
    },
    {
     "name": "stdout",
     "output_type": "stream",
     "text": [
      "{'val_loss': 1.2459666385965527, 'val_accuracy': 0.6579881656804734, 'precision': 0.685428200893599, 'recall': 0.6579881656804734, 'f1-score': 0.6516954761269892, 'macro_f1-score': 0.3099409749417888, 'balanced_accuracy': 0.3392110546015427, 'mcc': 0.5374144774149041}\n",
      "Epoch 6/20\n"
     ]
    },
    {
     "name": "stderr",
     "output_type": "stream",
     "text": [
      "100%|██████████| 476/476 [17:35<00:00,  2.22s/it]\n",
      "D:\\Anaconda3\\envs\\cuda\\Lib\\site-packages\\sklearn\\metrics\\_classification.py:2458: UserWarning: y_pred contains classes not in y_true\n",
      "  warnings.warn(\"y_pred contains classes not in y_true\")\n"
     ]
    },
    {
     "name": "stdout",
     "output_type": "stream",
     "text": [
      "{'val_loss': 1.3380109903947361, 'val_accuracy': 0.6674556213017752, 'precision': 0.6860171164517348, 'recall': 0.6674556213017752, 'f1-score': 0.661267679264484, 'macro_f1-score': 0.3343639349073503, 'balanced_accuracy': 0.38132176014007463, 'mcc': 0.5509587324370607}\n",
      "Epoch 7/20\n"
     ]
    },
    {
     "name": "stderr",
     "output_type": "stream",
     "text": [
      "100%|██████████| 476/476 [17:36<00:00,  2.22s/it]\n",
      "D:\\Anaconda3\\envs\\cuda\\Lib\\site-packages\\sklearn\\metrics\\_classification.py:2458: UserWarning: y_pred contains classes not in y_true\n",
      "  warnings.warn(\"y_pred contains classes not in y_true\")\n"
     ]
    },
    {
     "name": "stdout",
     "output_type": "stream",
     "text": [
      "{'val_loss': 1.345397173233752, 'val_accuracy': 0.6650887573964497, 'precision': 0.7192156441220879, 'recall': 0.6650887573964497, 'f1-score': 0.6712266632169523, 'macro_f1-score': 0.39301833733829233, 'balanced_accuracy': 0.4466354129654087, 'mcc': 0.5562230157322037}\n",
      "Epoch 8/20\n"
     ]
    },
    {
     "name": "stderr",
     "output_type": "stream",
     "text": [
      "100%|██████████| 476/476 [17:38<00:00,  2.22s/it]\n",
      "D:\\Anaconda3\\envs\\cuda\\Lib\\site-packages\\sklearn\\metrics\\_classification.py:2458: UserWarning: y_pred contains classes not in y_true\n",
      "  warnings.warn(\"y_pred contains classes not in y_true\")\n"
     ]
    },
    {
     "name": "stdout",
     "output_type": "stream",
     "text": [
      "{'val_loss': 1.5145810921237153, 'val_accuracy': 0.6319526627218935, 'precision': 0.7029237451580989, 'recall': 0.6319526627218935, 'f1-score': 0.6496292500139038, 'macro_f1-score': 0.3642461025245422, 'balanced_accuracy': 0.4401329826557194, 'mcc': 0.5231775981595649}\n",
      "Epoch 9/20\n"
     ]
    },
    {
     "name": "stderr",
     "output_type": "stream",
     "text": [
      "100%|██████████| 476/476 [17:37<00:00,  2.22s/it]\n",
      "D:\\Anaconda3\\envs\\cuda\\Lib\\site-packages\\sklearn\\metrics\\_classification.py:2458: UserWarning: y_pred contains classes not in y_true\n",
      "  warnings.warn(\"y_pred contains classes not in y_true\")\n"
     ]
    },
    {
     "name": "stdout",
     "output_type": "stream",
     "text": [
      "{'val_loss': 1.5040637642707464, 'val_accuracy': 0.6437869822485207, 'precision': 0.6852984083645747, 'recall': 0.6437869822485207, 'f1-score': 0.6540980925227021, 'macro_f1-score': 0.34210713353848005, 'balanced_accuracy': 0.38067493377464173, 'mcc': 0.530522894917755}\n",
      "Epoch 10/20\n"
     ]
    },
    {
     "name": "stderr",
     "output_type": "stream",
     "text": [
      "100%|██████████| 476/476 [17:36<00:00,  2.22s/it]\n",
      "D:\\Anaconda3\\envs\\cuda\\Lib\\site-packages\\sklearn\\metrics\\_classification.py:2458: UserWarning: y_pred contains classes not in y_true\n",
      "  warnings.warn(\"y_pred contains classes not in y_true\")\n"
     ]
    },
    {
     "name": "stdout",
     "output_type": "stream",
     "text": [
      "{'val_loss': 1.5588329372540959, 'val_accuracy': 0.672189349112426, 'precision': 0.6873736164373782, 'recall': 0.672189349112426, 'f1-score': 0.6705835847668594, 'macro_f1-score': 0.38378800382850214, 'balanced_accuracy': 0.437401308074024, 'mcc': 0.5607424726567335}\n",
      "Early stopping triggered at epoch 10\n",
      "Fold 8\n",
      "Training set label distribution: {0: 3585, 1: 29, 2: 127, 3: 27, 4: 229, 5: 126, 6: 103, 7: 34, 8: 68, 9: 77, 10: 82, 11: 198, 12: 207, 13: 31, 14: 26, 15: 27, 16: 21, 17: 254, 18: 107, 19: 52, 20: 14, 21: 44, 22: 80, 23: 184, 24: 19, 25: 56, 26: 98, 27: 58, 28: 13, 29: 14, 30: 18, 31: 96, 32: 40, 33: 35, 34: 35, 35: 14, 36: 33, 37: 23, 38: 6, 39: 120, 40: 14, 41: 11, 42: 166, 43: 17, 44: 24, 45: 9, 46: 63, 47: 593, 48: 224, 49: 78}\n",
      "Validation set label distribution: {0: 389, 1: 2, 2: 13, 3: 3, 4: 28, 5: 19, 6: 15, 7: 5, 8: 17, 9: 4, 10: 6, 11: 17, 12: 34, 13: 5, 14: 3, 15: 4, 16: 4, 17: 35, 18: 9, 19: 4, 20: 4, 22: 17, 23: 16, 24: 1, 25: 7, 26: 9, 27: 3, 28: 2, 29: 2, 30: 1, 31: 4, 32: 5, 33: 5, 34: 2, 35: 1, 36: 2, 37: 4, 38: 1, 39: 9, 42: 18, 43: 3, 44: 1, 45: 2, 46: 5, 47: 68, 48: 28, 49: 9}\n"
     ]
    },
    {
     "name": "stderr",
     "output_type": "stream",
     "text": [
      "Some weights of DebertaForSequenceClassification were not initialized from the model checkpoint at microsoft/deberta-base and are newly initialized: ['classifier.bias', 'classifier.weight', 'pooler.dense.bias', 'pooler.dense.weight']\n",
      "You should probably TRAIN this model on a down-stream task to be able to use it for predictions and inference.\n"
     ]
    },
    {
     "name": "stdout",
     "output_type": "stream",
     "text": [
      "Epoch 1/20\n"
     ]
    },
    {
     "name": "stderr",
     "output_type": "stream",
     "text": [
      "100%|██████████| 476/476 [15:36<00:00,  1.97s/it]\n"
     ]
    },
    {
     "name": "stdout",
     "output_type": "stream",
     "text": [
      "{'val_loss': 1.6650549325178254, 'val_accuracy': 0.6047337278106509, 'precision': 0.46963464411672606, 'recall': 0.6047337278106509, 'f1-score': 0.5028829827571784, 'macro_f1-score': 0.10787106114333402, 'balanced_accuracy': 0.12126421766569467, 'mcc': 0.43770996784263744}\n",
      "Epoch 2/20\n"
     ]
    },
    {
     "name": "stderr",
     "output_type": "stream",
     "text": [
      "100%|██████████| 476/476 [15:36<00:00,  1.97s/it]\n"
     ]
    },
    {
     "name": "stdout",
     "output_type": "stream",
     "text": [
      "{'val_loss': 1.460389402677428, 'val_accuracy': 0.6082840236686391, 'precision': 0.559055319319178, 'recall': 0.6082840236686391, 'f1-score': 0.5553730751660761, 'macro_f1-score': 0.15288770976160107, 'balanced_accuracy': 0.17473534470836014, 'mcc': 0.48127938281127103}\n",
      "Epoch 3/20\n"
     ]
    },
    {
     "name": "stderr",
     "output_type": "stream",
     "text": [
      "100%|██████████| 476/476 [15:36<00:00,  1.97s/it]\n",
      "D:\\Anaconda3\\envs\\cuda\\Lib\\site-packages\\sklearn\\metrics\\_classification.py:2458: UserWarning: y_pred contains classes not in y_true\n",
      "  warnings.warn(\"y_pred contains classes not in y_true\")\n"
     ]
    },
    {
     "name": "stdout",
     "output_type": "stream",
     "text": [
      "{'val_loss': 1.2762536496486303, 'val_accuracy': 0.6497041420118344, 'precision': 0.6272908537596177, 'recall': 0.6497041420118344, 'f1-score': 0.6160267497186601, 'macro_f1-score': 0.2611169075694711, 'balanced_accuracy': 0.28083689179675714, 'mcc': 0.5303891995414507}\n",
      "Epoch 4/20\n"
     ]
    },
    {
     "name": "stderr",
     "output_type": "stream",
     "text": [
      "100%|██████████| 476/476 [15:49<00:00,  2.00s/it]\n"
     ]
    },
    {
     "name": "stdout",
     "output_type": "stream",
     "text": [
      "{'val_loss': 1.2299310806787238, 'val_accuracy': 0.6544378698224852, 'precision': 0.6410014395569616, 'recall': 0.6544378698224852, 'f1-score': 0.6368627063429602, 'macro_f1-score': 0.2988152529567599, 'balanced_accuracy': 0.3275095268012969, 'mcc': 0.5492632820986506}\n",
      "Epoch 5/20\n"
     ]
    },
    {
     "name": "stderr",
     "output_type": "stream",
     "text": [
      "100%|██████████| 476/476 [16:16<00:00,  2.05s/it]\n"
     ]
    },
    {
     "name": "stdout",
     "output_type": "stream",
     "text": [
      "{'val_loss': 1.3084545321059677, 'val_accuracy': 0.6662721893491125, 'precision': 0.6642100841511409, 'recall': 0.6662721893491125, 'f1-score': 0.6369845235846789, 'macro_f1-score': 0.3352244649983849, 'balanced_accuracy': 0.34980674849414684, 'mcc': 0.5509430700522049}\n",
      "Epoch 6/20\n"
     ]
    },
    {
     "name": "stderr",
     "output_type": "stream",
     "text": [
      "100%|██████████| 476/476 [16:10<00:00,  2.04s/it]\n",
      "D:\\Anaconda3\\envs\\cuda\\Lib\\site-packages\\sklearn\\metrics\\_classification.py:2458: UserWarning: y_pred contains classes not in y_true\n",
      "  warnings.warn(\"y_pred contains classes not in y_true\")\n"
     ]
    },
    {
     "name": "stdout",
     "output_type": "stream",
     "text": [
      "{'val_loss': 1.341182458513188, 'val_accuracy': 0.6556213017751479, 'precision': 0.6450241956914066, 'recall': 0.6556213017751479, 'f1-score': 0.6343622886692123, 'macro_f1-score': 0.30905434237399226, 'balanced_accuracy': 0.3372090281470521, 'mcc': 0.5488670260154024}\n",
      "Epoch 7/20\n"
     ]
    },
    {
     "name": "stderr",
     "output_type": "stream",
     "text": [
      "100%|██████████| 476/476 [15:37<00:00,  1.97s/it]\n",
      "D:\\Anaconda3\\envs\\cuda\\Lib\\site-packages\\sklearn\\metrics\\_classification.py:2458: UserWarning: y_pred contains classes not in y_true\n",
      "  warnings.warn(\"y_pred contains classes not in y_true\")\n"
     ]
    },
    {
     "name": "stdout",
     "output_type": "stream",
     "text": [
      "{'val_loss': 1.4662420069271664, 'val_accuracy': 0.642603550295858, 'precision': 0.6792402055841142, 'recall': 0.642603550295858, 'f1-score': 0.6470086080836592, 'macro_f1-score': 0.3382624600270971, 'balanced_accuracy': 0.3991038832875042, 'mcc': 0.5540558967581104}\n",
      "Epoch 8/20\n"
     ]
    },
    {
     "name": "stderr",
     "output_type": "stream",
     "text": [
      "100%|██████████| 476/476 [15:37<00:00,  1.97s/it]\n",
      "D:\\Anaconda3\\envs\\cuda\\Lib\\site-packages\\sklearn\\metrics\\_classification.py:2458: UserWarning: y_pred contains classes not in y_true\n",
      "  warnings.warn(\"y_pred contains classes not in y_true\")\n"
     ]
    },
    {
     "name": "stdout",
     "output_type": "stream",
     "text": [
      "{'val_loss': 1.4965666599993437, 'val_accuracy': 0.6686390532544378, 'precision': 0.66136124435774, 'recall': 0.6686390532544378, 'f1-score': 0.6564963369627053, 'macro_f1-score': 0.3540665653631674, 'balanced_accuracy': 0.3924164026518135, 'mcc': 0.5701469288598375}\n",
      "Epoch 9/20\n"
     ]
    },
    {
     "name": "stderr",
     "output_type": "stream",
     "text": [
      "100%|██████████| 476/476 [15:37<00:00,  1.97s/it]\n",
      "D:\\Anaconda3\\envs\\cuda\\Lib\\site-packages\\sklearn\\metrics\\_classification.py:2458: UserWarning: y_pred contains classes not in y_true\n",
      "  warnings.warn(\"y_pred contains classes not in y_true\")\n"
     ]
    },
    {
     "name": "stdout",
     "output_type": "stream",
     "text": [
      "{'val_loss': 1.5314636567853532, 'val_accuracy': 0.6390532544378699, 'precision': 0.6170458940213326, 'recall': 0.6390532544378699, 'f1-score': 0.6182984289934085, 'macro_f1-score': 0.321614051215174, 'balanced_accuracy': 0.3409955987818482, 'mcc': 0.5239394463822998}\n",
      "Epoch 10/20\n"
     ]
    },
    {
     "name": "stderr",
     "output_type": "stream",
     "text": [
      "100%|██████████| 476/476 [15:38<00:00,  1.97s/it]\n"
     ]
    },
    {
     "name": "stdout",
     "output_type": "stream",
     "text": [
      "{'val_loss': 2.745140984373273, 'val_accuracy': 0.46272189349112425, 'precision': 0.2200353200261734, 'recall': 0.46272189349112425, 'f1-score': 0.29473420888055035, 'macro_f1-score': 0.020550077841203943, 'balanced_accuracy': 0.02600472813238771, 'mcc': 0.05278588272528891}\n",
      "Epoch 11/20\n"
     ]
    },
    {
     "name": "stderr",
     "output_type": "stream",
     "text": [
      "100%|██████████| 476/476 [15:36<00:00,  1.97s/it]\n"
     ]
    },
    {
     "name": "stdout",
     "output_type": "stream",
     "text": [
      "{'val_loss': 1.8999128026782341, 'val_accuracy': 0.5562130177514792, 'precision': 0.5482006333179058, 'recall': 0.5562130177514792, 'f1-score': 0.5004420882725813, 'macro_f1-score': 0.20383795684732572, 'balanced_accuracy': 0.21296378414657816, 'mcc': 0.36565137659867664}\n",
      "Early stopping triggered at epoch 11\n",
      "Fold 9\n",
      "Training set label distribution: {0: 3574, 1: 29, 2: 128, 3: 26, 4: 234, 5: 130, 6: 103, 7: 34, 8: 77, 9: 74, 10: 74, 11: 193, 12: 214, 13: 30, 14: 27, 15: 26, 16: 22, 17: 266, 18: 104, 19: 51, 20: 18, 21: 40, 22: 87, 23: 170, 24: 18, 25: 55, 26: 90, 27: 58, 28: 12, 29: 14, 30: 16, 31: 88, 32: 40, 33: 36, 34: 34, 35: 13, 36: 29, 37: 24, 38: 7, 39: 121, 40: 12, 41: 11, 42: 167, 43: 16, 44: 20, 45: 11, 46: 64, 47: 614, 48: 232, 49: 76}\n",
      "Validation set label distribution: {0: 400, 1: 2, 2: 12, 3: 4, 4: 23, 5: 15, 6: 15, 7: 5, 8: 8, 9: 7, 10: 14, 11: 22, 12: 27, 13: 6, 14: 2, 15: 5, 16: 3, 17: 23, 18: 12, 19: 5, 21: 4, 22: 10, 23: 30, 24: 2, 25: 8, 26: 17, 27: 3, 28: 3, 29: 2, 30: 3, 31: 12, 32: 5, 33: 4, 34: 3, 35: 2, 36: 6, 37: 3, 39: 8, 40: 2, 42: 17, 43: 4, 44: 5, 46: 4, 47: 47, 48: 20, 49: 11}\n"
     ]
    },
    {
     "name": "stderr",
     "output_type": "stream",
     "text": [
      "Some weights of DebertaForSequenceClassification were not initialized from the model checkpoint at microsoft/deberta-base and are newly initialized: ['classifier.bias', 'classifier.weight', 'pooler.dense.bias', 'pooler.dense.weight']\n",
      "You should probably TRAIN this model on a down-stream task to be able to use it for predictions and inference.\n"
     ]
    },
    {
     "name": "stdout",
     "output_type": "stream",
     "text": [
      "Epoch 1/20\n"
     ]
    },
    {
     "name": "stderr",
     "output_type": "stream",
     "text": [
      "100%|██████████| 476/476 [16:33<00:00,  2.09s/it]\n"
     ]
    },
    {
     "name": "stdout",
     "output_type": "stream",
     "text": [
      "{'val_loss': 1.6429259327222716, 'val_accuracy': 0.5739644970414202, 'precision': 0.4865466711945821, 'recall': 0.5739644970414202, 'f1-score': 0.49823786684885196, 'macro_f1-score': 0.10476449931614681, 'balanced_accuracy': 0.12426532342772159, 'mcc': 0.4083888608081975}\n",
      "Epoch 2/20\n"
     ]
    },
    {
     "name": "stderr",
     "output_type": "stream",
     "text": [
      "100%|██████████| 476/476 [16:35<00:00,  2.09s/it]\n"
     ]
    },
    {
     "name": "stdout",
     "output_type": "stream",
     "text": [
      "{'val_loss': 2.546439080868127, 'val_accuracy': 0.47337278106508873, 'precision': 0.22408178985329646, 'recall': 0.47337278106508873, 'f1-score': 0.30417528100567953, 'macro_f1-score': 0.013968919154880391, 'balanced_accuracy': 0.021739130434782608, 'mcc': 0.0}\n",
      "Epoch 3/20\n"
     ]
    },
    {
     "name": "stderr",
     "output_type": "stream",
     "text": [
      "100%|██████████| 476/476 [16:32<00:00,  2.08s/it]\n"
     ]
    },
    {
     "name": "stdout",
     "output_type": "stream",
     "text": [
      "{'val_loss': 2.560079536348019, 'val_accuracy': 0.47337278106508873, 'precision': 0.22408178985329646, 'recall': 0.47337278106508873, 'f1-score': 0.30417528100567953, 'macro_f1-score': 0.013968919154880391, 'balanced_accuracy': 0.021739130434782608, 'mcc': 0.0}\n",
      "Epoch 4/20\n"
     ]
    },
    {
     "name": "stderr",
     "output_type": "stream",
     "text": [
      "100%|██████████| 476/476 [16:32<00:00,  2.09s/it]\n"
     ]
    },
    {
     "name": "stdout",
     "output_type": "stream",
     "text": [
      "{'val_loss': 2.563686492308131, 'val_accuracy': 0.47337278106508873, 'precision': 0.22408178985329646, 'recall': 0.47337278106508873, 'f1-score': 0.30417528100567953, 'macro_f1-score': 0.013968919154880391, 'balanced_accuracy': 0.021739130434782608, 'mcc': 0.0}\n",
      "Early stopping triggered at epoch 4\n",
      "Fold 10\n",
      "Training set label distribution: {0: 3613, 1: 25, 2: 127, 3: 29, 4: 233, 5: 130, 6: 108, 7: 33, 8: 73, 9: 73, 10: 79, 11: 193, 12: 209, 13: 31, 14: 24, 15: 30, 16: 23, 17: 260, 18: 99, 19: 53, 20: 15, 21: 39, 22: 84, 23: 171, 24: 18, 25: 58, 26: 96, 27: 53, 28: 14, 29: 15, 30: 16, 31: 88, 32: 40, 33: 37, 34: 34, 35: 14, 36: 30, 37: 26, 38: 6, 39: 113, 40: 11, 41: 11, 42: 163, 43: 19, 44: 21, 45: 10, 46: 64, 47: 592, 48: 232, 49: 74}\n",
      "Validation set label distribution: {0: 361, 1: 6, 2: 13, 3: 1, 4: 24, 5: 15, 6: 10, 7: 6, 8: 12, 9: 8, 10: 9, 11: 22, 12: 32, 13: 5, 14: 5, 15: 1, 16: 2, 17: 29, 18: 17, 19: 3, 20: 3, 21: 5, 22: 13, 23: 29, 24: 2, 25: 5, 26: 11, 27: 8, 28: 1, 29: 1, 30: 3, 31: 12, 32: 5, 33: 3, 34: 3, 35: 1, 36: 5, 37: 1, 38: 1, 39: 16, 40: 3, 42: 21, 43: 1, 44: 4, 45: 1, 46: 4, 47: 69, 48: 20, 49: 13}\n"
     ]
    },
    {
     "name": "stderr",
     "output_type": "stream",
     "text": [
      "Some weights of DebertaForSequenceClassification were not initialized from the model checkpoint at microsoft/deberta-base and are newly initialized: ['classifier.bias', 'classifier.weight', 'pooler.dense.bias', 'pooler.dense.weight']\n",
      "You should probably TRAIN this model on a down-stream task to be able to use it for predictions and inference.\n"
     ]
    },
    {
     "name": "stdout",
     "output_type": "stream",
     "text": [
      "Epoch 1/20\n"
     ]
    },
    {
     "name": "stderr",
     "output_type": "stream",
     "text": [
      "100%|██████████| 476/476 [14:39<00:00,  1.85s/it]\n"
     ]
    },
    {
     "name": "stdout",
     "output_type": "stream",
     "text": [
      "{'val_loss': 1.6944827223723788, 'val_accuracy': 0.5633136094674556, 'precision': 0.4342569164828782, 'recall': 0.5633136094674556, 'f1-score': 0.4409193485185774, 'macro_f1-score': 0.09425889550283556, 'balanced_accuracy': 0.10201186442094391, 'mcc': 0.39742172442286006}\n",
      "Epoch 2/20\n"
     ]
    },
    {
     "name": "stderr",
     "output_type": "stream",
     "text": [
      "100%|██████████| 476/476 [14:40<00:00,  1.85s/it]\n"
     ]
    },
    {
     "name": "stdout",
     "output_type": "stream",
     "text": [
      "{'val_loss': 1.4338914437114068, 'val_accuracy': 0.6118343195266273, 'precision': 0.5707000972161713, 'recall': 0.6118343195266273, 'f1-score': 0.5497972363000079, 'macro_f1-score': 0.2003159164250146, 'balanced_accuracy': 0.20627210074396193, 'mcc': 0.48772633847385105}\n",
      "Epoch 3/20\n"
     ]
    },
    {
     "name": "stderr",
     "output_type": "stream",
     "text": [
      "100%|██████████| 476/476 [14:39<00:00,  1.85s/it]\n"
     ]
    },
    {
     "name": "stdout",
     "output_type": "stream",
     "text": [
      "{'val_loss': 1.3052808074456341, 'val_accuracy': 0.6437869822485207, 'precision': 0.6224286977764287, 'recall': 0.6437869822485207, 'f1-score': 0.6034314904457252, 'macro_f1-score': 0.2872537303742653, 'balanced_accuracy': 0.30682142039385707, 'mcc': 0.537661394696043}\n",
      "Epoch 4/20\n"
     ]
    },
    {
     "name": "stderr",
     "output_type": "stream",
     "text": [
      "100%|██████████| 476/476 [14:39<00:00,  1.85s/it]\n"
     ]
    },
    {
     "name": "stdout",
     "output_type": "stream",
     "text": [
      "{'val_loss': 1.391962077820076, 'val_accuracy': 0.6710059171597633, 'precision': 0.6360813613899634, 'recall': 0.6710059171597633, 'f1-score': 0.6285930666660206, 'macro_f1-score': 0.35419039404183883, 'balanced_accuracy': 0.3498870692221625, 'mcc': 0.5730273079036515}\n",
      "Epoch 5/20\n"
     ]
    },
    {
     "name": "stderr",
     "output_type": "stream",
     "text": [
      "100%|██████████| 476/476 [14:40<00:00,  1.85s/it]\n"
     ]
    },
    {
     "name": "stdout",
     "output_type": "stream",
     "text": [
      "{'val_loss': 1.356179009630995, 'val_accuracy': 0.6520710059171597, 'precision': 0.6374561562956005, 'recall': 0.6520710059171597, 'f1-score': 0.6202804383655391, 'macro_f1-score': 0.34430226182541906, 'balanced_accuracy': 0.3622065103754155, 'mcc': 0.5528275136617369}\n",
      "Epoch 6/20\n"
     ]
    },
    {
     "name": "stderr",
     "output_type": "stream",
     "text": [
      "100%|██████████| 476/476 [14:40<00:00,  1.85s/it]\n"
     ]
    },
    {
     "name": "stdout",
     "output_type": "stream",
     "text": [
      "{'val_loss': 1.4836285895896408, 'val_accuracy': 0.6520710059171597, 'precision': 0.6773347908782245, 'recall': 0.6520710059171597, 'f1-score': 0.6364544852183246, 'macro_f1-score': 0.33371244607744777, 'balanced_accuracy': 0.3684859842719303, 'mcc': 0.5605081232599973}\n",
      "Epoch 7/20\n"
     ]
    },
    {
     "name": "stderr",
     "output_type": "stream",
     "text": [
      "100%|██████████| 476/476 [14:40<00:00,  1.85s/it]\n"
     ]
    },
    {
     "name": "stdout",
     "output_type": "stream",
     "text": [
      "{'val_loss': 1.638375554444655, 'val_accuracy': 0.6603550295857988, 'precision': 0.6340685125134239, 'recall': 0.6603550295857988, 'f1-score': 0.6271372226517241, 'macro_f1-score': 0.33580187203630657, 'balanced_accuracy': 0.3165045783933259, 'mcc': 0.5560521419108335}\n",
      "Early stopping triggered at epoch 7\n",
      "Final 10-fold Cross-Validation Results:\n",
      "val_loss: 1.557405379220508\n",
      "val_accuracy: 0.6398660005509432\n",
      "precision: 0.6028719619912024\n",
      "recall: 0.6398660005509432\n",
      "f1-score: 0.598084310626292\n",
      "macro_f1-score: 0.27391204028318783\n",
      "balanced_accuracy: 0.28915912886492995\n",
      "mcc: 0.49226847592751444\n"
     ]
    }
   ],
   "source": [
    "from torch.utils.data import DataLoader\n",
    "import torch\n",
    "from torch.nn import CrossEntropyLoss\n",
    "from torch.optim import AdamW\n",
    "from tqdm import tqdm\n",
    "import numpy as np\n",
    "\n",
    "all_fold_results = []\n",
    "\n",
    "# 進行 10 折交叉驗證\n",
    "for fold, (train_idx, val_idx) in enumerate(kf.split(messages)):\n",
    "    print(f\"Fold {fold + 1}\")\n",
    "    \n",
    "    train_messages = [messages[i] for i in train_idx]\n",
    "    train_labels = [labels[i] for i in train_idx]\n",
    "    val_messages = [messages[i] for i in val_idx]\n",
    "    val_labels = [labels[i] for i in val_idx]\n",
    "\n",
    "    print(\"Training set label distribution:\", {label: train_labels.count(label) for label in set(train_labels)})\n",
    "    print(\"Validation set label distribution:\", {label: val_labels.count(label) for label in set(val_labels)})\n",
    "    \n",
    "    train_dataset = CustomDataset(train_messages, train_labels, tokenizer, MAX_LENGTH)\n",
    "    val_dataset = CustomDataset(val_messages, val_labels, tokenizer, MAX_LENGTH)\n",
    "    train_dataloader = DataLoader(train_dataset, batch_size=BATCH_SIZE, shuffle=True)\n",
    "    val_dataloader = DataLoader(val_dataset, batch_size=BATCH_SIZE)\n",
    "\n",
    "    NUM_LABELS = len(set(train_labels) | set(val_labels))\n",
    "    model = DebertaForSequenceClassification.from_pretrained('microsoft/deberta-base', num_labels=NUM_LABELS)\n",
    "    model.to(device)\n",
    "    optimizer = AdamW(model.parameters(), lr=5e-5, weight_decay=1e-2)\n",
    "    criterion = CrossEntropyLoss()\n",
    "\n",
    "    epoch_results = []\n",
    "    patience = 3\n",
    "    best_macro_f1 = 0\n",
    "    epochs_without_improvement = 0\n",
    "    \n",
    "    for epoch in range(EPOCHS):\n",
    "        print(f\"Epoch {epoch + 1}/{EPOCHS}\")\n",
    "        train_loss = train_epoch(model, train_dataloader, optimizer, criterion)\n",
    "        metrics = eval_model(model, val_dataloader, criterion, num_labels=NUM_LABELS)\n",
    "        epoch_results.append(metrics)\n",
    "        print(metrics)\n",
    "\n",
    "        current_macro_f1 = metrics[\"macro_f1-score\"]\n",
    "        \n",
    "        if current_macro_f1 > best_macro_f1:\n",
    "            best_macro_f1 = current_macro_f1  # 更新最佳 macro_f1-score\n",
    "            epochs_without_improvement = 0   # 重置計數\n",
    "        else:\n",
    "            epochs_without_improvement += 1  # 增加計數\n",
    "        \n",
    "        # 若連續 patience 3 次沒有提升，則停止訓練\n",
    "        if epochs_without_improvement >= patience:\n",
    "            print(f\"Early stopping triggered at epoch {epoch + 1}\")\n",
    "            break\n",
    "    \n",
    "    avg_metrics = {metric: np.mean([epoch[metric] for epoch in epoch_results]) for metric in epoch_results[0].keys()}\n",
    "    all_fold_results.append(avg_metrics)\n",
    "\n",
    "final_metrics = {metric: np.mean([result[metric] for result in all_fold_results]) for metric in all_fold_results[0].keys()}\n",
    "print(\"Final 10-fold Cross-Validation Results:\")\n",
    "for metric, value in final_metrics.items():\n",
    "    print(f\"{metric}: {value}\")"
   ]
  },
  {
   "cell_type": "code",
   "execution_count": 8,
   "id": "f8016681-94ee-4d35-81ac-9831d7172f0d",
   "metadata": {},
   "outputs": [
    {
     "data": {
      "text/plain": [
       "[{'val_loss': 1.5485965854793429,\n",
       "  'val_accuracy': 0.6410917687513432,\n",
       "  'precision': 0.6300185905085421,\n",
       "  'recall': 0.6410917687513432,\n",
       "  'f1-score': 0.6152048287938127,\n",
       "  'macro_f1-score': 0.31850658483972966,\n",
       "  'balanced_accuracy': 0.33304077240823465,\n",
       "  'mcc': 0.5267703661375908},\n",
       " {'val_loss': 1.4564624436715112,\n",
       "  'val_accuracy': 0.6718873128447597,\n",
       "  'precision': 0.6594430945516592,\n",
       "  'recall': 0.6718873128447597,\n",
       "  'f1-score': 0.6422401171763679,\n",
       "  'macro_f1-score': 0.300894650679114,\n",
       "  'balanced_accuracy': 0.31240673452488743,\n",
       "  'mcc': 0.5536186604990123},\n",
       " {'val_loss': 1.4136892903450178,\n",
       "  'val_accuracy': 0.6861247499545372,\n",
       "  'precision': 0.6726110691543451,\n",
       "  'recall': 0.6861247499545372,\n",
       "  'f1-score': 0.6629383719617762,\n",
       "  'macro_f1-score': 0.32620881386214634,\n",
       "  'balanced_accuracy': 0.3359553083530912,\n",
       "  'mcc': 0.5647675232012543},\n",
       " {'val_loss': 1.3597347851280333,\n",
       "  'val_accuracy': 0.6696217494089834,\n",
       "  'precision': 0.6494979976386359,\n",
       "  'recall': 0.6696217494089834,\n",
       "  'f1-score': 0.6403961068726258,\n",
       "  'macro_f1-score': 0.28804870737430893,\n",
       "  'balanced_accuracy': 0.2964935234531792,\n",
       "  'mcc': 0.5522227970544312},\n",
       " {'val_loss': 1.458909449916761,\n",
       "  'val_accuracy': 0.6738031199569661,\n",
       "  'precision': 0.6520070168714982,\n",
       "  'recall': 0.6738031199569661,\n",
       "  'f1-score': 0.6432931992381178,\n",
       "  'macro_f1-score': 0.31910212791965537,\n",
       "  'balanced_accuracy': 0.32646513705221386,\n",
       "  'mcc': 0.5647489449390216},\n",
       " {'val_loss': 1.5815825496126648,\n",
       "  'val_accuracy': 0.6512031558185404,\n",
       "  'precision': 0.6349633756313512,\n",
       "  'recall': 0.6512031558185404,\n",
       "  'f1-score': 0.6260482301698828,\n",
       "  'macro_f1-score': 0.322750107150434,\n",
       "  'balanced_accuracy': 0.34071864777910255,\n",
       "  'mcc': 0.5386083444135534},\n",
       " {'val_loss': 1.3711342726394815,\n",
       "  'val_accuracy': 0.6511242603550296,\n",
       "  'precision': 0.663074092699899,\n",
       "  'recall': 0.6511242603550296,\n",
       "  'f1-score': 0.6386930109235157,\n",
       "  'macro_f1-score': 0.3026390431775655,\n",
       "  'balanced_accuracy': 0.3423351891445133,\n",
       "  'mcc': 0.5266990869786272},\n",
       " {'val_loss': 1.583690196991376,\n",
       "  'val_accuracy': 0.6189349112426035,\n",
       "  'precision': 0.5756454394456635,\n",
       "  'recall': 0.6189349112426035,\n",
       "  'f1-score': 0.5726792724937882,\n",
       "  'macro_f1-score': 0.2457546227361374,\n",
       "  'balanced_accuracy': 0.26934965041940356,\n",
       "  'mcc': 0.4695483145168936},\n",
       " {'val_loss': 2.328282760561637,\n",
       "  'val_accuracy': 0.4985207100591716,\n",
       "  'precision': 0.2896980101886179,\n",
       "  'recall': 0.4985207100591716,\n",
       "  'f1-score': 0.3526909274664726,\n",
       "  'macro_f1-score': 0.036667814195197,\n",
       "  'balanced_accuracy': 0.04737067868301735,\n",
       "  'mcc': 0.10209721520204937},\n",
       " {'val_loss': 1.471971457859255,\n",
       "  'val_accuracy': 0.6363482671174978,\n",
       "  'precision': 0.601760933221813,\n",
       "  'recall': 0.6363482671174978,\n",
       "  'f1-score': 0.5866590411665599,\n",
       "  'macro_f1-score': 0.27854793089758967,\n",
       "  'balanced_accuracy': 0.28745564683165675,\n",
       "  'mcc': 0.5236035063327105}]"
      ]
     },
     "execution_count": 8,
     "metadata": {},
     "output_type": "execute_result"
    }
   ],
   "source": [
    "all_fold_results"
   ]
  }
 ],
 "metadata": {
  "kernelspec": {
   "display_name": "Python 3 (ipykernel)",
   "language": "python",
   "name": "python3"
  },
  "language_info": {
   "codemirror_mode": {
    "name": "ipython",
    "version": 3
   },
   "file_extension": ".py",
   "mimetype": "text/x-python",
   "name": "python",
   "nbconvert_exporter": "python",
   "pygments_lexer": "ipython3",
   "version": "3.11.9"
  }
 },
 "nbformat": 4,
 "nbformat_minor": 5
}
