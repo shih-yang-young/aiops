{
 "cells": [
  {
   "cell_type": "code",
   "execution_count": 1,
   "id": "2e76aa66-729a-4bf9-98b9-61d8114e9f3a",
   "metadata": {},
   "outputs": [
    {
     "data": {
      "text/html": [
       "<div>\n",
       "<style scoped>\n",
       "    .dataframe tbody tr th:only-of-type {\n",
       "        vertical-align: middle;\n",
       "    }\n",
       "\n",
       "    .dataframe tbody tr th {\n",
       "        vertical-align: top;\n",
       "    }\n",
       "\n",
       "    .dataframe thead th {\n",
       "        text-align: right;\n",
       "    }\n",
       "</style>\n",
       "<table border=\"1\" class=\"dataframe\">\n",
       "  <thead>\n",
       "    <tr style=\"text-align: right;\">\n",
       "      <th></th>\n",
       "      <th>Inbound Message</th>\n",
       "      <th>Label</th>\n",
       "    </tr>\n",
       "  </thead>\n",
       "  <tbody>\n",
       "    <tr>\n",
       "      <th>0</th>\n",
       "      <td>login issue verified user details employee man...</td>\n",
       "      <td>0</td>\n",
       "    </tr>\n",
       "    <tr>\n",
       "      <th>1</th>\n",
       "      <td>outlook hello team meetings skype meetings etc...</td>\n",
       "      <td>0</td>\n",
       "    </tr>\n",
       "    <tr>\n",
       "      <th>2</th>\n",
       "      <td>cant log vpn cannot log vpn best</td>\n",
       "      <td>0</td>\n",
       "    </tr>\n",
       "    <tr>\n",
       "      <th>3</th>\n",
       "      <td>unable access tool page unable access tool page</td>\n",
       "      <td>0</td>\n",
       "    </tr>\n",
       "    <tr>\n",
       "      <th>4</th>\n",
       "      <td>skype error skype error</td>\n",
       "      <td>0</td>\n",
       "    </tr>\n",
       "    <tr>\n",
       "      <th>...</th>\n",
       "      <td>...</td>\n",
       "      <td>...</td>\n",
       "    </tr>\n",
       "    <tr>\n",
       "      <th>8449</th>\n",
       "      <td>emails coming mail good afternoon receiving em...</td>\n",
       "      <td>22</td>\n",
       "    </tr>\n",
       "    <tr>\n",
       "      <th>8450</th>\n",
       "      <td>telephony software issue telephony software issue</td>\n",
       "      <td>0</td>\n",
       "    </tr>\n",
       "    <tr>\n",
       "      <th>8451</th>\n",
       "      <td>vip windows password reset tifpdchb pedxruyf v...</td>\n",
       "      <td>0</td>\n",
       "    </tr>\n",
       "    <tr>\n",
       "      <th>8452</th>\n",
       "      <td>machine est funcionando unable access machine ...</td>\n",
       "      <td>44</td>\n",
       "    </tr>\n",
       "    <tr>\n",
       "      <th>8453</th>\n",
       "      <td>mehreren lassen sich verschiedene prgramdntyme...</td>\n",
       "      <td>49</td>\n",
       "    </tr>\n",
       "  </tbody>\n",
       "</table>\n",
       "<p>8454 rows × 2 columns</p>\n",
       "</div>"
      ],
      "text/plain": [
       "                                        Inbound Message  Label\n",
       "0     login issue verified user details employee man...      0\n",
       "1     outlook hello team meetings skype meetings etc...      0\n",
       "2                      cant log vpn cannot log vpn best      0\n",
       "3       unable access tool page unable access tool page      0\n",
       "4                               skype error skype error      0\n",
       "...                                                 ...    ...\n",
       "8449  emails coming mail good afternoon receiving em...     22\n",
       "8450  telephony software issue telephony software issue      0\n",
       "8451  vip windows password reset tifpdchb pedxruyf v...      0\n",
       "8452  machine est funcionando unable access machine ...     44\n",
       "8453  mehreren lassen sich verschiedene prgramdntyme...     49\n",
       "\n",
       "[8454 rows x 2 columns]"
      ]
     },
     "execution_count": 1,
     "metadata": {},
     "output_type": "execute_result"
    }
   ],
   "source": [
    "import pandas as pd\n",
    "data_path = \"../../data/open_source_8454_combine_short_description.csv\"  # 替換為你的檔案路徑\n",
    "df = pd.read_csv(data_path)\n",
    "# df_label_0 = df[df[\"Label\"] == 0]\n",
    "# df_label_0_to_drop = df_label_0.sample(n=3000, random_state=42)\n",
    "# df = df.drop(df_label_0_to_drop.index)\n",
    "df"
   ]
  },
  {
   "cell_type": "markdown",
   "id": "e79be804-d1e3-463a-824f-d4765544e493",
   "metadata": {},
   "source": [
    "# 十折驗證法"
   ]
  },
  {
   "cell_type": "code",
   "execution_count": 2,
   "id": "7e6a5029-3898-4bab-8d6c-bfd1a3694153",
   "metadata": {},
   "outputs": [
    {
     "name": "stdout",
     "output_type": "stream",
     "text": [
      "Using device: cuda\n",
      "CUDA Available: True\n",
      "CUDA Device: NVIDIA GeForce RTX 3050 6GB Laptop GPU\n",
      "Current GPU Memory Allocated: 0.0 GB\n",
      "Current GPU Memory Cached: 0.0 GB\n"
     ]
    }
   ],
   "source": [
    "import torch\n",
    "device = torch.device('cuda') if torch.cuda.is_available() else torch.device('cpu')\n",
    "print(f\"Using device: {device}\") \n",
    "print(f\"CUDA Available: {torch.cuda.is_available()}\")\n",
    "print(f\"CUDA Device: {torch.cuda.get_device_name(0)}\")\n",
    "print(f\"Current GPU Memory Allocated: {torch.cuda.memory_allocated() / 1e9} GB\")\n",
    "print(f\"Current GPU Memory Cached: {torch.cuda.memory_reserved() / 1e9} GB\")"
   ]
  },
  {
   "cell_type": "code",
   "execution_count": 3,
   "id": "833a0227-7775-4659-a98c-48c3fbdc9db9",
   "metadata": {},
   "outputs": [],
   "source": [
    "from torch.utils.data import Dataset\n",
    "class CustomDataset(Dataset):\n",
    "    def __init__(self, messages, labels, tokenizer, max_length):\n",
    "        self.messages = messages\n",
    "        self.labels = labels\n",
    "        self.tokenizer = tokenizer\n",
    "        self.max_length = max_length\n",
    "\n",
    "    def __len__(self):\n",
    "        return len(self.messages)\n",
    "\n",
    "    def __getitem__(self, idx):\n",
    "        message = str(self.messages[idx])\n",
    "        label = self.labels[idx]\n",
    "        \n",
    "        encoding = self.tokenizer.encode_plus(\n",
    "            message,\n",
    "            max_length=self.max_length,\n",
    "            add_special_tokens=True,\n",
    "            padding='max_length',\n",
    "            truncation=True,\n",
    "            return_attention_mask=True,\n",
    "            return_tensors='pt'\n",
    "        )\n",
    "        \n",
    "        return {\n",
    "            'input_ids': encoding['input_ids'].flatten(),\n",
    "            'attention_mask': encoding['attention_mask'].flatten(),\n",
    "            'labels': torch.tensor(label, dtype=torch.long)\n",
    "        }"
   ]
  },
  {
   "cell_type": "code",
   "execution_count": 4,
   "id": "985bf187-a1b5-4882-9e52-2cbc0188e8a6",
   "metadata": {},
   "outputs": [],
   "source": [
    "# 定義訓練與評估函數\n",
    "def train_epoch(model, dataloader, optimizer, criterion):\n",
    "    model.train()\n",
    "    total_loss = 0\n",
    "\n",
    "    for batch in tqdm(dataloader):\n",
    "        optimizer.zero_grad()\n",
    "\n",
    "        input_ids = batch['input_ids'].to(device)\n",
    "        attention_mask = batch['attention_mask'].to(device)\n",
    "        labels = batch['labels'].to(device)\n",
    "\n",
    "        outputs = model(input_ids=input_ids, attention_mask=attention_mask, labels=labels)\n",
    "        loss = outputs.loss\n",
    "        total_loss += loss.item()\n",
    "\n",
    "        loss.backward()\n",
    "        optimizer.step()\n",
    "    \n",
    "    return total_loss / len(dataloader)"
   ]
  },
  {
   "cell_type": "code",
   "execution_count": 5,
   "id": "7dceb8a1-edf1-42fe-ac48-dc84ed4709cf",
   "metadata": {},
   "outputs": [],
   "source": [
    "from sklearn.metrics import precision_score, recall_score, f1_score, balanced_accuracy_score, matthews_corrcoef\n",
    "from sklearn.preprocessing import label_binarize\n",
    "import numpy as np\n",
    "import torch\n",
    "\n",
    "def eval_model(model, dataloader, criterion, num_labels):\n",
    "    model.eval()\n",
    "    total_loss = 0\n",
    "    all_labels = []\n",
    "    all_preds = []\n",
    "    all_probs = []\n",
    "    \n",
    "    with torch.no_grad():\n",
    "        for batch in dataloader:\n",
    "            input_ids = batch['input_ids'].to(device)\n",
    "            attention_mask = batch['attention_mask'].to(device)\n",
    "            labels = batch['labels'].to(device)\n",
    "\n",
    "            outputs = model(input_ids=input_ids, attention_mask=attention_mask)\n",
    "            logits = outputs.logits\n",
    "            loss = criterion(logits, labels)\n",
    "            total_loss += loss.item()\n",
    "\n",
    "            probs = torch.softmax(logits, dim=1)\n",
    "            _, preds = torch.max(logits, dim=1)\n",
    "\n",
    "            all_labels.extend(labels.cpu().numpy())\n",
    "            all_preds.extend(preds.cpu().numpy())\n",
    "            all_probs.extend(probs.cpu().numpy())\n",
    "\n",
    "    val_loss = total_loss / len(dataloader)\n",
    "    val_accuracy = np.mean(np.array(all_preds) == np.array(all_labels))\n",
    "    precision = precision_score(all_labels, all_preds, average='weighted', zero_division=0)\n",
    "    recall = recall_score(all_labels, all_preds, average='weighted', zero_division=0)\n",
    "    f1 = f1_score(all_labels, all_preds, average='weighted', zero_division=0)\n",
    "    macro_f1 = f1_score(all_labels, all_preds, average='macro', zero_division=0)\n",
    "    balanced_acc = balanced_accuracy_score(all_labels, all_preds)\n",
    "    mcc = matthews_corrcoef(all_labels, all_preds)\n",
    "\n",
    "    return {\n",
    "        \"val_loss\": val_loss,\n",
    "        \"val_accuracy\": val_accuracy,\n",
    "        \"precision\": precision,\n",
    "        \"recall\": recall,\n",
    "        \"f1-score\": f1,\n",
    "        \"macro_f1-score\": macro_f1,\n",
    "        \"balanced_accuracy\": balanced_acc,\n",
    "        \"mcc\": mcc\n",
    "    }"
   ]
  },
  {
   "cell_type": "code",
   "execution_count": 6,
   "id": "0217a72c-db4d-4875-8a00-33f2dae9de5e",
   "metadata": {},
   "outputs": [],
   "source": [
    "from transformers import DebertaTokenizer, DebertaForSequenceClassification\n",
    "from sklearn.model_selection import KFold\n",
    "# 設定參數\n",
    "MAX_LENGTH = 128\n",
    "BATCH_SIZE = 16\n",
    "EPOCHS = 20\n",
    "\n",
    "# 初始化 BERT 的 tokenizer\n",
    "tokenizer = DebertaTokenizer.from_pretrained('microsoft/deberta-base')\n",
    "\n",
    "# 初始化數據\n",
    "messages = df['Inbound Message'].tolist()\n",
    "labels = df['Label'].tolist()\n",
    "\n",
    "# KFold 初始化\n",
    "kf = KFold(n_splits=10, shuffle=True, random_state=42)"
   ]
  },
  {
   "cell_type": "code",
   "execution_count": 9,
   "id": "ee99c1b8-2fc7-483a-8cb6-d375039c6cb1",
   "metadata": {
    "scrolled": true
   },
   "outputs": [
    {
     "name": "stdout",
     "output_type": "stream",
     "text": [
      "Fold 1\n",
      "avg_label_size: 152\n",
      "Before ROS: Counter({0: 3585, 47: 601, 17: 258, 4: 239, 48: 215, 12: 209, 11: 199, 23: 183, 42: 166, 5: 134, 2: 123, 39: 118, 18: 106, 6: 101, 26: 100, 31: 89, 22: 89, 10: 82, 49: 82, 8: 80, 9: 70, 46: 58, 25: 55, 27: 52, 19: 47, 21: 39, 32: 39, 7: 37, 33: 36, 13: 34, 36: 32, 15: 31, 34: 29, 1: 28, 3: 26, 14: 25, 37: 24, 44: 23, 16: 22, 43: 18, 30: 17, 20: 15, 24: 15, 29: 15, 28: 13, 35: 13, 45: 11, 40: 10, 41: 10, 38: 5})\n",
      "After ROS: Counter({0: 3585, 47: 601, 17: 258, 4: 239, 48: 215, 12: 209, 11: 199, 23: 183, 42: 166, 1: 152, 31: 152, 39: 152, 46: 152, 2: 152, 3: 152, 5: 152, 6: 152, 7: 152, 8: 152, 9: 152, 10: 152, 14: 152, 15: 152, 16: 152, 18: 152, 19: 152, 20: 152, 21: 152, 22: 152, 24: 152, 25: 152, 26: 152, 27: 152, 49: 152, 28: 152, 29: 152, 30: 152, 32: 152, 33: 152, 34: 152, 35: 152, 36: 152, 37: 152, 13: 152, 40: 152, 41: 152, 38: 152, 43: 152, 44: 152, 45: 152})\n"
     ]
    },
    {
     "name": "stderr",
     "output_type": "stream",
     "text": [
      "Some weights of BertForSequenceClassification were not initialized from the model checkpoint at bert-base-uncased and are newly initialized: ['classifier.bias', 'classifier.weight']\n",
      "You should probably TRAIN this model on a down-stream task to be able to use it for predictions and inference.\n"
     ]
    },
    {
     "name": "stdout",
     "output_type": "stream",
     "text": [
      "Epoch 1/20\n"
     ]
    },
    {
     "name": "stderr",
     "output_type": "stream",
     "text": [
      "100%|██████████| 743/743 [05:15<00:00,  2.35it/s]\n",
      "D:\\Anaconda3\\envs\\cuda\\Lib\\site-packages\\sklearn\\metrics\\_classification.py:2458: UserWarning: y_pred contains classes not in y_true\n",
      "  warnings.warn(\"y_pred contains classes not in y_true\")\n"
     ]
    },
    {
     "name": "stdout",
     "output_type": "stream",
     "text": [
      "{'val_loss': 1.478606198193892, 'val_accuracy': 0.6063829787234043, 'precision': 0.580216854017687, 'recall': 0.6063829787234043, 'f1-score': 0.5686177551034779, 'macro_f1-score': 0.307532196742514, 'balanced_accuracy': 0.37021401162515866, 'mcc': 0.47831350964181263}\n",
      "Epoch 2/20\n"
     ]
    },
    {
     "name": "stderr",
     "output_type": "stream",
     "text": [
      "100%|██████████| 743/743 [05:14<00:00,  2.36it/s]\n"
     ]
    },
    {
     "name": "stdout",
     "output_type": "stream",
     "text": [
      "{'val_loss': 1.3234250354316999, 'val_accuracy': 0.6595744680851063, 'precision': 0.6704325534719581, 'recall': 0.6595744680851063, 'f1-score': 0.6468230556237778, 'macro_f1-score': 0.38848896773510794, 'balanced_accuracy': 0.3957157643670768, 'mcc': 0.5468443526520884}\n",
      "Epoch 3/20\n"
     ]
    },
    {
     "name": "stderr",
     "output_type": "stream",
     "text": [
      "100%|██████████| 743/743 [05:16<00:00,  2.35it/s]\n",
      "D:\\Anaconda3\\envs\\cuda\\Lib\\site-packages\\sklearn\\metrics\\_classification.py:2458: UserWarning: y_pred contains classes not in y_true\n",
      "  warnings.warn(\"y_pred contains classes not in y_true\")\n"
     ]
    },
    {
     "name": "stdout",
     "output_type": "stream",
     "text": [
      "{'val_loss': 1.328398583632595, 'val_accuracy': 0.6631205673758865, 'precision': 0.6738174834633724, 'recall': 0.6631205673758865, 'f1-score': 0.6508599748746258, 'macro_f1-score': 0.3746722435006482, 'balanced_accuracy': 0.41033694115159497, 'mcc': 0.5558722771514506}\n",
      "Epoch 4/20\n"
     ]
    },
    {
     "name": "stderr",
     "output_type": "stream",
     "text": [
      "100%|██████████| 743/743 [05:20<00:00,  2.32it/s]\n",
      "D:\\Anaconda3\\envs\\cuda\\Lib\\site-packages\\sklearn\\metrics\\_classification.py:2458: UserWarning: y_pred contains classes not in y_true\n",
      "  warnings.warn(\"y_pred contains classes not in y_true\")\n"
     ]
    },
    {
     "name": "stdout",
     "output_type": "stream",
     "text": [
      "{'val_loss': 1.4974344181564618, 'val_accuracy': 0.6690307328605201, 'precision': 0.679837734019035, 'recall': 0.6690307328605201, 'f1-score': 0.6518242809482976, 'macro_f1-score': 0.3948558493565676, 'balanced_accuracy': 0.40407142841709726, 'mcc': 0.5600465549399076}\n",
      "Epoch 5/20\n"
     ]
    },
    {
     "name": "stderr",
     "output_type": "stream",
     "text": [
      "100%|██████████| 743/743 [05:19<00:00,  2.33it/s]\n",
      "D:\\Anaconda3\\envs\\cuda\\Lib\\site-packages\\sklearn\\metrics\\_classification.py:2458: UserWarning: y_pred contains classes not in y_true\n",
      "  warnings.warn(\"y_pred contains classes not in y_true\")\n"
     ]
    },
    {
     "name": "stdout",
     "output_type": "stream",
     "text": [
      "{'val_loss': 1.5961724823375918, 'val_accuracy': 0.6548463356973995, 'precision': 0.6786936467145145, 'recall': 0.6548463356973995, 'f1-score': 0.6485789753873077, 'macro_f1-score': 0.40037055004206157, 'balanced_accuracy': 0.39937250164039334, 'mcc': 0.5517394204407117}\n",
      "Epoch 6/20\n"
     ]
    },
    {
     "name": "stderr",
     "output_type": "stream",
     "text": [
      "100%|██████████| 743/743 [05:19<00:00,  2.32it/s]\n",
      "D:\\Anaconda3\\envs\\cuda\\Lib\\site-packages\\sklearn\\metrics\\_classification.py:2458: UserWarning: y_pred contains classes not in y_true\n",
      "  warnings.warn(\"y_pred contains classes not in y_true\")\n"
     ]
    },
    {
     "name": "stdout",
     "output_type": "stream",
     "text": [
      "{'val_loss': 1.593555821562713, 'val_accuracy': 0.6643026004728132, 'precision': 0.6729581464244085, 'recall': 0.6643026004728132, 'f1-score': 0.6496500939099266, 'macro_f1-score': 0.3856069978696039, 'balanced_accuracy': 0.39391488710390066, 'mcc': 0.5602973434872021}\n",
      "Epoch 7/20\n"
     ]
    },
    {
     "name": "stderr",
     "output_type": "stream",
     "text": [
      "100%|██████████| 743/743 [05:19<00:00,  2.33it/s]\n",
      "D:\\Anaconda3\\envs\\cuda\\Lib\\site-packages\\sklearn\\metrics\\_classification.py:2458: UserWarning: y_pred contains classes not in y_true\n",
      "  warnings.warn(\"y_pred contains classes not in y_true\")\n"
     ]
    },
    {
     "name": "stdout",
     "output_type": "stream",
     "text": [
      "{'val_loss': 1.7599141968871064, 'val_accuracy': 0.6607565011820331, 'precision': 0.6683878186556461, 'recall': 0.6607565011820331, 'f1-score': 0.6464640461513056, 'macro_f1-score': 0.3869108235943753, 'balanced_accuracy': 0.39971572335296884, 'mcc': 0.549928554899538}\n",
      "Epoch 8/20\n"
     ]
    },
    {
     "name": "stderr",
     "output_type": "stream",
     "text": [
      "100%|██████████| 743/743 [05:19<00:00,  2.32it/s]\n",
      "D:\\Anaconda3\\envs\\cuda\\Lib\\site-packages\\sklearn\\metrics\\_classification.py:2458: UserWarning: y_pred contains classes not in y_true\n",
      "  warnings.warn(\"y_pred contains classes not in y_true\")\n"
     ]
    },
    {
     "name": "stdout",
     "output_type": "stream",
     "text": [
      "{'val_loss': 1.8359207375994269, 'val_accuracy': 0.6524822695035462, 'precision': 0.6892713839503588, 'recall': 0.6524822695035462, 'f1-score': 0.6477157744811903, 'macro_f1-score': 0.38917063715503, 'balanced_accuracy': 0.37171644536342013, 'mcc': 0.5371677989516687}\n",
      "Early stopping triggered at epoch 8\n",
      "Fold 2\n",
      "avg_label_size: 152\n",
      "Before ROS: Counter({0: 3566, 47: 591, 17: 263, 4: 238, 48: 224, 12: 221, 11: 192, 23: 185, 42: 168, 5: 133, 2: 117, 39: 116, 6: 110, 18: 107, 31: 92, 26: 92, 22: 89, 10: 77, 49: 77, 9: 73, 8: 72, 46: 60, 25: 56, 27: 52, 19: 51, 21: 41, 32: 41, 33: 38, 7: 36, 13: 35, 34: 34, 36: 33, 1: 30, 14: 29, 15: 27, 3: 24, 16: 24, 37: 24, 44: 22, 24: 18, 30: 18, 20: 17, 43: 16, 29: 15, 40: 14, 35: 13, 28: 12, 45: 11, 41: 9, 38: 5})\n",
      "After ROS: Counter({0: 3566, 47: 591, 17: 263, 4: 238, 48: 224, 12: 221, 11: 192, 23: 185, 42: 168, 1: 152, 31: 152, 39: 152, 46: 152, 2: 152, 3: 152, 5: 152, 6: 152, 7: 152, 8: 152, 9: 152, 10: 152, 13: 152, 14: 152, 15: 152, 16: 152, 18: 152, 19: 152, 20: 152, 21: 152, 22: 152, 24: 152, 25: 152, 26: 152, 27: 152, 28: 152, 29: 152, 49: 152, 32: 152, 33: 152, 34: 152, 35: 152, 36: 152, 37: 152, 40: 152, 30: 152, 41: 152, 43: 152, 44: 152, 38: 152, 45: 152})\n"
     ]
    },
    {
     "name": "stderr",
     "output_type": "stream",
     "text": [
      "Some weights of BertForSequenceClassification were not initialized from the model checkpoint at bert-base-uncased and are newly initialized: ['classifier.bias', 'classifier.weight']\n",
      "You should probably TRAIN this model on a down-stream task to be able to use it for predictions and inference.\n"
     ]
    },
    {
     "name": "stdout",
     "output_type": "stream",
     "text": [
      "Epoch 1/20\n"
     ]
    },
    {
     "name": "stderr",
     "output_type": "stream",
     "text": [
      "100%|██████████| 743/743 [05:19<00:00,  2.33it/s]\n",
      "D:\\Anaconda3\\envs\\cuda\\Lib\\site-packages\\sklearn\\metrics\\_classification.py:2458: UserWarning: y_pred contains classes not in y_true\n",
      "  warnings.warn(\"y_pred contains classes not in y_true\")\n"
     ]
    },
    {
     "name": "stdout",
     "output_type": "stream",
     "text": [
      "{'val_loss': 1.4517596532713692, 'val_accuracy': 0.5969267139479906, 'precision': 0.5694443072119985, 'recall': 0.5969267139479906, 'f1-score': 0.5657241383054833, 'macro_f1-score': 0.25595142486722233, 'balanced_accuracy': 0.29822068789571077, 'mcc': 0.45851951153277715}\n",
      "Epoch 2/20\n"
     ]
    },
    {
     "name": "stderr",
     "output_type": "stream",
     "text": [
      "100%|██████████| 743/743 [05:19<00:00,  2.33it/s]\n",
      "D:\\Anaconda3\\envs\\cuda\\Lib\\site-packages\\sklearn\\metrics\\_classification.py:2458: UserWarning: y_pred contains classes not in y_true\n",
      "  warnings.warn(\"y_pred contains classes not in y_true\")\n"
     ]
    },
    {
     "name": "stdout",
     "output_type": "stream",
     "text": [
      "{'val_loss': 1.2124049989682324, 'val_accuracy': 0.6713947990543735, 'precision': 0.6826549616416462, 'recall': 0.6713947990543735, 'f1-score': 0.6467622684282933, 'macro_f1-score': 0.33114838299204524, 'balanced_accuracy': 0.3627002565938679, 'mcc': 0.5497979697771053}\n",
      "Epoch 3/20\n"
     ]
    },
    {
     "name": "stderr",
     "output_type": "stream",
     "text": [
      "100%|██████████| 743/743 [05:19<00:00,  2.32it/s]\n",
      "D:\\Anaconda3\\envs\\cuda\\Lib\\site-packages\\sklearn\\metrics\\_classification.py:2458: UserWarning: y_pred contains classes not in y_true\n",
      "  warnings.warn(\"y_pred contains classes not in y_true\")\n"
     ]
    },
    {
     "name": "stdout",
     "output_type": "stream",
     "text": [
      "{'val_loss': 1.2477949570934728, 'val_accuracy': 0.6725768321513003, 'precision': 0.7190302921135392, 'recall': 0.6725768321513003, 'f1-score': 0.6742398990810647, 'macro_f1-score': 0.40607213698105543, 'balanced_accuracy': 0.4199512405889513, 'mcc': 0.5778298430371374}\n",
      "Epoch 4/20\n"
     ]
    },
    {
     "name": "stderr",
     "output_type": "stream",
     "text": [
      "100%|██████████| 743/743 [05:21<00:00,  2.31it/s]\n",
      "D:\\Anaconda3\\envs\\cuda\\Lib\\site-packages\\sklearn\\metrics\\_classification.py:2458: UserWarning: y_pred contains classes not in y_true\n",
      "  warnings.warn(\"y_pred contains classes not in y_true\")\n"
     ]
    },
    {
     "name": "stdout",
     "output_type": "stream",
     "text": [
      "{'val_loss': 1.3255315521415674, 'val_accuracy': 0.6914893617021277, 'precision': 0.6924009591115453, 'recall': 0.6914893617021277, 'f1-score': 0.6726419741077665, 'macro_f1-score': 0.3433105555173924, 'balanced_accuracy': 0.3488869228326874, 'mcc': 0.5825117421354736}\n",
      "Epoch 5/20\n"
     ]
    },
    {
     "name": "stderr",
     "output_type": "stream",
     "text": [
      "100%|██████████| 743/743 [05:20<00:00,  2.32it/s]\n",
      "D:\\Anaconda3\\envs\\cuda\\Lib\\site-packages\\sklearn\\metrics\\_classification.py:2458: UserWarning: y_pred contains classes not in y_true\n",
      "  warnings.warn(\"y_pred contains classes not in y_true\")\n"
     ]
    },
    {
     "name": "stdout",
     "output_type": "stream",
     "text": [
      "{'val_loss': 1.3986706722457454, 'val_accuracy': 0.6997635933806147, 'precision': 0.7100176391244615, 'recall': 0.6997635933806147, 'f1-score': 0.6900596340086119, 'macro_f1-score': 0.37592918030450306, 'balanced_accuracy': 0.38174906696467537, 'mcc': 0.6000325558969126}\n",
      "Epoch 6/20\n"
     ]
    },
    {
     "name": "stderr",
     "output_type": "stream",
     "text": [
      "100%|██████████| 743/743 [05:22<00:00,  2.31it/s]\n",
      "D:\\Anaconda3\\envs\\cuda\\Lib\\site-packages\\sklearn\\metrics\\_classification.py:2458: UserWarning: y_pred contains classes not in y_true\n",
      "  warnings.warn(\"y_pred contains classes not in y_true\")\n"
     ]
    },
    {
     "name": "stdout",
     "output_type": "stream",
     "text": [
      "{'val_loss': 1.4943932969615144, 'val_accuracy': 0.6796690307328606, 'precision': 0.6955097860041436, 'recall': 0.6796690307328606, 'f1-score': 0.6749825694180999, 'macro_f1-score': 0.3721162315303898, 'balanced_accuracy': 0.40767785081980745, 'mcc': 0.5759940308722336}\n",
      "Early stopping triggered at epoch 6\n",
      "Fold 3\n",
      "avg_label_size: 152\n",
      "Before ROS: Counter({0: 3551, 47: 591, 17: 256, 4: 235, 48: 233, 12: 225, 11: 196, 23: 177, 42: 165, 5: 135, 2: 132, 39: 110, 18: 109, 6: 108, 26: 97, 31: 93, 22: 87, 10: 82, 49: 79, 8: 78, 9: 72, 46: 63, 27: 59, 25: 58, 19: 49, 32: 42, 21: 39, 33: 38, 7: 34, 34: 33, 13: 32, 36: 31, 14: 28, 3: 28, 1: 27, 15: 26, 16: 23, 37: 23, 44: 21, 24: 19, 20: 18, 43: 18, 30: 16, 28: 13, 29: 13, 35: 13, 40: 11, 41: 9, 45: 7, 38: 6})\n",
      "After ROS: Counter({0: 3551, 47: 591, 17: 256, 4: 235, 48: 233, 12: 225, 11: 196, 23: 177, 42: 165, 1: 152, 31: 152, 39: 152, 46: 152, 2: 152, 5: 152, 6: 152, 7: 152, 8: 152, 9: 152, 10: 152, 13: 152, 14: 152, 15: 152, 16: 152, 18: 152, 19: 152, 20: 152, 21: 152, 22: 152, 24: 152, 25: 152, 26: 152, 27: 152, 49: 152, 28: 152, 29: 152, 30: 152, 33: 152, 34: 152, 35: 152, 32: 152, 36: 152, 37: 152, 3: 152, 41: 152, 38: 152, 43: 152, 44: 152, 40: 152, 45: 152})\n"
     ]
    },
    {
     "name": "stderr",
     "output_type": "stream",
     "text": [
      "Some weights of BertForSequenceClassification were not initialized from the model checkpoint at bert-base-uncased and are newly initialized: ['classifier.bias', 'classifier.weight']\n",
      "You should probably TRAIN this model on a down-stream task to be able to use it for predictions and inference.\n"
     ]
    },
    {
     "name": "stdout",
     "output_type": "stream",
     "text": [
      "Epoch 1/20\n"
     ]
    },
    {
     "name": "stderr",
     "output_type": "stream",
     "text": [
      "100%|██████████| 742/742 [05:20<00:00,  2.31it/s]\n",
      "D:\\Anaconda3\\envs\\cuda\\Lib\\site-packages\\sklearn\\metrics\\_classification.py:2458: UserWarning: y_pred contains classes not in y_true\n",
      "  warnings.warn(\"y_pred contains classes not in y_true\")\n"
     ]
    },
    {
     "name": "stdout",
     "output_type": "stream",
     "text": [
      "{'val_loss': 1.3126204115039897, 'val_accuracy': 0.6643026004728132, 'precision': 0.6350926318542682, 'recall': 0.6643026004728132, 'f1-score': 0.6195733757891151, 'macro_f1-score': 0.31817211962525116, 'balanced_accuracy': 0.37703149273069514, 'mcc': 0.5250246340744482}\n",
      "Epoch 2/20\n"
     ]
    },
    {
     "name": "stderr",
     "output_type": "stream",
     "text": [
      "100%|██████████| 742/742 [05:21<00:00,  2.31it/s]\n",
      "D:\\Anaconda3\\envs\\cuda\\Lib\\site-packages\\sklearn\\metrics\\_classification.py:2458: UserWarning: y_pred contains classes not in y_true\n",
      "  warnings.warn(\"y_pred contains classes not in y_true\")\n"
     ]
    },
    {
     "name": "stdout",
     "output_type": "stream",
     "text": [
      "{'val_loss': 1.2518934303859495, 'val_accuracy': 0.6678486997635934, 'precision': 0.6855004254999755, 'recall': 0.6678486997635934, 'f1-score': 0.6599004916528726, 'macro_f1-score': 0.41300298489594994, 'balanced_accuracy': 0.4701327300596511, 'mcc': 0.5564718901850129}\n",
      "Epoch 3/20\n"
     ]
    },
    {
     "name": "stderr",
     "output_type": "stream",
     "text": [
      "100%|██████████| 742/742 [05:21<00:00,  2.31it/s]\n",
      "D:\\Anaconda3\\envs\\cuda\\Lib\\site-packages\\sklearn\\metrics\\_classification.py:2458: UserWarning: y_pred contains classes not in y_true\n",
      "  warnings.warn(\"y_pred contains classes not in y_true\")\n"
     ]
    },
    {
     "name": "stdout",
     "output_type": "stream",
     "text": [
      "{'val_loss': 1.2206803369072248, 'val_accuracy': 0.7151300236406619, 'precision': 0.6969363396798974, 'recall': 0.7151300236406619, 'f1-score': 0.6933870950711921, 'macro_f1-score': 0.4053634132331012, 'balanced_accuracy': 0.42092854396968965, 'mcc': 0.6029384407451779}\n",
      "Epoch 4/20\n"
     ]
    },
    {
     "name": "stderr",
     "output_type": "stream",
     "text": [
      "100%|██████████| 742/742 [05:20<00:00,  2.31it/s]\n",
      "D:\\Anaconda3\\envs\\cuda\\Lib\\site-packages\\sklearn\\metrics\\_classification.py:2458: UserWarning: y_pred contains classes not in y_true\n",
      "  warnings.warn(\"y_pred contains classes not in y_true\")\n"
     ]
    },
    {
     "name": "stdout",
     "output_type": "stream",
     "text": [
      "{'val_loss': 1.3341404615708117, 'val_accuracy': 0.6879432624113475, 'precision': 0.7128824318977093, 'recall': 0.6879432624113475, 'f1-score': 0.6844676296574521, 'macro_f1-score': 0.4381230849216272, 'balanced_accuracy': 0.44984073957916404, 'mcc': 0.5763284402644228}\n",
      "Epoch 5/20\n"
     ]
    },
    {
     "name": "stderr",
     "output_type": "stream",
     "text": [
      "100%|██████████| 742/742 [05:20<00:00,  2.31it/s]\n",
      "D:\\Anaconda3\\envs\\cuda\\Lib\\site-packages\\sklearn\\metrics\\_classification.py:2458: UserWarning: y_pred contains classes not in y_true\n",
      "  warnings.warn(\"y_pred contains classes not in y_true\")\n"
     ]
    },
    {
     "name": "stdout",
     "output_type": "stream",
     "text": [
      "{'val_loss': 1.4659227368966588, 'val_accuracy': 0.7080378250591016, 'precision': 0.6913491219732628, 'recall': 0.7080378250591016, 'f1-score': 0.6813597703359228, 'macro_f1-score': 0.42557528809799977, 'balanced_accuracy': 0.42247828321261544, 'mcc': 0.5851390544159993}\n",
      "Epoch 6/20\n"
     ]
    },
    {
     "name": "stderr",
     "output_type": "stream",
     "text": [
      "100%|██████████| 742/742 [05:19<00:00,  2.32it/s]\n",
      "D:\\Anaconda3\\envs\\cuda\\Lib\\site-packages\\sklearn\\metrics\\_classification.py:2458: UserWarning: y_pred contains classes not in y_true\n",
      "  warnings.warn(\"y_pred contains classes not in y_true\")\n"
     ]
    },
    {
     "name": "stdout",
     "output_type": "stream",
     "text": [
      "{'val_loss': 1.3869652710152123, 'val_accuracy': 0.706855791962175, 'precision': 0.7301508893954614, 'recall': 0.706855791962175, 'f1-score': 0.7002308070992607, 'macro_f1-score': 0.4349143497649506, 'balanced_accuracy': 0.46812999934619726, 'mcc': 0.6028204129617516}\n",
      "Epoch 7/20\n"
     ]
    },
    {
     "name": "stderr",
     "output_type": "stream",
     "text": [
      "100%|██████████| 742/742 [2:07:05<00:00, 10.28s/it]      \n"
     ]
    },
    {
     "name": "stdout",
     "output_type": "stream",
     "text": [
      "{'val_loss': 1.532832090584737, 'val_accuracy': 0.7186761229314421, 'precision': 0.6845853792994891, 'recall': 0.7186761229314421, 'f1-score': 0.6837808067493033, 'macro_f1-score': 0.38575792448774304, 'balanced_accuracy': 0.37210537719591674, 'mcc': 0.6003913139252262}\n",
      "Early stopping triggered at epoch 7\n",
      "Fold 4\n",
      "avg_label_size: 152\n",
      "Before ROS: Counter({0: 3572, 47: 591, 17: 256, 48: 231, 12: 221, 4: 220, 11: 194, 23: 182, 42: 166, 2: 131, 5: 128, 39: 115, 6: 107, 18: 101, 26: 98, 22: 94, 31: 92, 8: 80, 49: 77, 10: 76, 9: 68, 46: 60, 27: 57, 25: 54, 19: 51, 21: 40, 32: 39, 33: 38, 7: 34, 34: 33, 36: 33, 13: 32, 1: 29, 3: 29, 15: 28, 37: 26, 14: 25, 16: 23, 44: 22, 43: 19, 24: 18, 20: 17, 30: 16, 29: 15, 35: 15, 28: 14, 40: 13, 41: 11, 45: 10, 38: 7})\n",
      "After ROS: Counter({0: 3572, 47: 591, 17: 256, 48: 231, 12: 221, 4: 220, 11: 194, 23: 182, 42: 166, 1: 152, 31: 152, 39: 152, 46: 152, 2: 152, 3: 152, 5: 152, 6: 152, 7: 152, 9: 152, 13: 152, 10: 152, 14: 152, 15: 152, 16: 152, 18: 152, 8: 152, 19: 152, 20: 152, 21: 152, 22: 152, 24: 152, 25: 152, 26: 152, 27: 152, 49: 152, 28: 152, 29: 152, 30: 152, 32: 152, 33: 152, 34: 152, 35: 152, 36: 152, 37: 152, 40: 152, 41: 152, 38: 152, 43: 152, 44: 152, 45: 152})\n"
     ]
    },
    {
     "name": "stderr",
     "output_type": "stream",
     "text": [
      "Some weights of BertForSequenceClassification were not initialized from the model checkpoint at bert-base-uncased and are newly initialized: ['classifier.bias', 'classifier.weight']\n",
      "You should probably TRAIN this model on a down-stream task to be able to use it for predictions and inference.\n"
     ]
    },
    {
     "name": "stdout",
     "output_type": "stream",
     "text": [
      "Epoch 1/20\n"
     ]
    },
    {
     "name": "stderr",
     "output_type": "stream",
     "text": [
      "100%|██████████| 742/742 [05:16<00:00,  2.35it/s]\n",
      "D:\\Anaconda3\\envs\\cuda\\Lib\\site-packages\\sklearn\\metrics\\_classification.py:2458: UserWarning: y_pred contains classes not in y_true\n",
      "  warnings.warn(\"y_pred contains classes not in y_true\")\n"
     ]
    },
    {
     "name": "stdout",
     "output_type": "stream",
     "text": [
      "{'val_loss': 1.372569998480239, 'val_accuracy': 0.6382978723404256, 'precision': 0.6108114493165404, 'recall': 0.6382978723404256, 'f1-score': 0.5931068233951375, 'macro_f1-score': 0.2445936388200631, 'balanced_accuracy': 0.3121532026002166, 'mcc': 0.49841955957745787}\n",
      "Epoch 2/20\n"
     ]
    },
    {
     "name": "stderr",
     "output_type": "stream",
     "text": [
      "100%|██████████| 742/742 [07:04<00:00,  1.75it/s]\n",
      "D:\\Anaconda3\\envs\\cuda\\Lib\\site-packages\\sklearn\\metrics\\_classification.py:2458: UserWarning: y_pred contains classes not in y_true\n",
      "  warnings.warn(\"y_pred contains classes not in y_true\")\n"
     ]
    },
    {
     "name": "stdout",
     "output_type": "stream",
     "text": [
      "{'val_loss': 1.267543560772572, 'val_accuracy': 0.6619385342789598, 'precision': 0.6648358097559706, 'recall': 0.6619385342789598, 'f1-score': 0.6439314028460636, 'macro_f1-score': 0.36219729900699593, 'balanced_accuracy': 0.4222768737834212, 'mcc': 0.5490273379799009}\n",
      "Epoch 3/20\n"
     ]
    },
    {
     "name": "stderr",
     "output_type": "stream",
     "text": [
      "100%|██████████| 742/742 [09:14<00:00,  1.34it/s]\n"
     ]
    },
    {
     "name": "stdout",
     "output_type": "stream",
     "text": [
      "{'val_loss': 1.3422449141178492, 'val_accuracy': 0.6808510638297872, 'precision': 0.7046483726528643, 'recall': 0.6808510638297872, 'f1-score': 0.6770223067893659, 'macro_f1-score': 0.42058354855598956, 'balanced_accuracy': 0.46024306435361295, 'mcc': 0.5780800613751398}\n",
      "Epoch 4/20\n"
     ]
    },
    {
     "name": "stderr",
     "output_type": "stream",
     "text": [
      "100%|██████████| 742/742 [10:31<00:00,  1.17it/s]\n",
      "D:\\Anaconda3\\envs\\cuda\\Lib\\site-packages\\sklearn\\metrics\\_classification.py:2458: UserWarning: y_pred contains classes not in y_true\n",
      "  warnings.warn(\"y_pred contains classes not in y_true\")\n"
     ]
    },
    {
     "name": "stdout",
     "output_type": "stream",
     "text": [
      "{'val_loss': 1.4204225339136034, 'val_accuracy': 0.6832151300236406, 'precision': 0.7130780493877593, 'recall': 0.6832151300236406, 'f1-score': 0.6737337655292986, 'macro_f1-score': 0.39506510730280575, 'balanced_accuracy': 0.4126010528052259, 'mcc': 0.5715753497046305}\n",
      "Epoch 5/20\n"
     ]
    },
    {
     "name": "stderr",
     "output_type": "stream",
     "text": [
      "100%|██████████| 742/742 [09:12<00:00,  1.34it/s]\n",
      "D:\\Anaconda3\\envs\\cuda\\Lib\\site-packages\\sklearn\\metrics\\_classification.py:2458: UserWarning: y_pred contains classes not in y_true\n",
      "  warnings.warn(\"y_pred contains classes not in y_true\")\n"
     ]
    },
    {
     "name": "stdout",
     "output_type": "stream",
     "text": [
      "{'val_loss': 1.5592220566182766, 'val_accuracy': 0.6713947990543735, 'precision': 0.7159666524998349, 'recall': 0.6713947990543735, 'f1-score': 0.6732465702396867, 'macro_f1-score': 0.3995086687869207, 'balanced_accuracy': 0.45764540972356715, 'mcc': 0.5726741929270472}\n",
      "Epoch 6/20\n"
     ]
    },
    {
     "name": "stderr",
     "output_type": "stream",
     "text": [
      "100%|██████████| 742/742 [08:41<00:00,  1.42it/s]\n",
      "D:\\Anaconda3\\envs\\cuda\\Lib\\site-packages\\sklearn\\metrics\\_classification.py:2458: UserWarning: y_pred contains classes not in y_true\n",
      "  warnings.warn(\"y_pred contains classes not in y_true\")\n"
     ]
    },
    {
     "name": "stdout",
     "output_type": "stream",
     "text": [
      "{'val_loss': 1.5159740456432667, 'val_accuracy': 0.6832151300236406, 'precision': 0.6861056938268236, 'recall': 0.6832151300236406, 'f1-score': 0.6746242322917035, 'macro_f1-score': 0.39302245341080944, 'balanced_accuracy': 0.4332340868379387, 'mcc': 0.5792302923315936}\n",
      "Early stopping triggered at epoch 6\n",
      "Fold 5\n",
      "avg_label_size: 152\n",
      "Before ROS: Counter({0: 3584, 47: 589, 17: 263, 4: 228, 48: 224, 12: 222, 11: 187, 23: 184, 42: 166, 5: 132, 2: 123, 39: 114, 6: 109, 18: 104, 26: 101, 31: 91, 22: 87, 10: 81, 8: 80, 49: 80, 9: 72, 46: 58, 25: 55, 27: 49, 19: 48, 32: 41, 7: 39, 21: 39, 13: 34, 34: 33, 36: 32, 33: 32, 1: 29, 3: 28, 15: 28, 14: 26, 44: 24, 37: 23, 16: 20, 24: 19, 30: 18, 43: 18, 20: 16, 28: 14, 29: 13, 40: 13, 35: 12, 45: 11, 41: 9, 38: 7})\n",
      "After ROS: Counter({0: 3584, 47: 589, 17: 263, 4: 228, 48: 224, 12: 222, 11: 187, 23: 184, 42: 166, 1: 152, 31: 152, 2: 152, 3: 152, 39: 152, 6: 152, 7: 152, 8: 152, 9: 152, 10: 152, 13: 152, 14: 152, 15: 152, 16: 152, 18: 152, 5: 152, 19: 152, 20: 152, 21: 152, 22: 152, 24: 152, 25: 152, 46: 152, 26: 152, 27: 152, 49: 152, 28: 152, 29: 152, 30: 152, 32: 152, 34: 152, 36: 152, 35: 152, 37: 152, 33: 152, 40: 152, 41: 152, 38: 152, 43: 152, 44: 152, 45: 152})\n"
     ]
    },
    {
     "name": "stderr",
     "output_type": "stream",
     "text": [
      "Some weights of BertForSequenceClassification were not initialized from the model checkpoint at bert-base-uncased and are newly initialized: ['classifier.bias', 'classifier.weight']\n",
      "You should probably TRAIN this model on a down-stream task to be able to use it for predictions and inference.\n"
     ]
    },
    {
     "name": "stdout",
     "output_type": "stream",
     "text": [
      "Epoch 1/20\n"
     ]
    },
    {
     "name": "stderr",
     "output_type": "stream",
     "text": [
      "100%|██████████| 743/743 [08:59<00:00,  1.38it/s]\n",
      "D:\\Anaconda3\\envs\\cuda\\Lib\\site-packages\\sklearn\\metrics\\_classification.py:2458: UserWarning: y_pred contains classes not in y_true\n",
      "  warnings.warn(\"y_pred contains classes not in y_true\")\n"
     ]
    },
    {
     "name": "stdout",
     "output_type": "stream",
     "text": [
      "{'val_loss': 1.4284907028360188, 'val_accuracy': 0.6236686390532544, 'precision': 0.5714669579197109, 'recall': 0.6236686390532544, 'f1-score': 0.5636213191385769, 'macro_f1-score': 0.27208508236127593, 'balanced_accuracy': 0.3355363520817616, 'mcc': 0.483266533801717}\n",
      "Epoch 2/20\n"
     ]
    },
    {
     "name": "stderr",
     "output_type": "stream",
     "text": [
      "100%|██████████| 743/743 [08:29<00:00,  1.46it/s]\n"
     ]
    },
    {
     "name": "stdout",
     "output_type": "stream",
     "text": [
      "{'val_loss': 1.281070721599291, 'val_accuracy': 0.6674556213017752, 'precision': 0.6550323196583889, 'recall': 0.6674556213017752, 'f1-score': 0.6459265364232805, 'macro_f1-score': 0.3832326989337512, 'balanced_accuracy': 0.3822061726482009, 'mcc': 0.5570920527384169}\n",
      "Epoch 3/20\n"
     ]
    },
    {
     "name": "stderr",
     "output_type": "stream",
     "text": [
      "100%|██████████| 743/743 [05:46<00:00,  2.14it/s]\n",
      "D:\\Anaconda3\\envs\\cuda\\Lib\\site-packages\\sklearn\\metrics\\_classification.py:2458: UserWarning: y_pred contains classes not in y_true\n",
      "  warnings.warn(\"y_pred contains classes not in y_true\")\n"
     ]
    },
    {
     "name": "stdout",
     "output_type": "stream",
     "text": [
      "{'val_loss': 1.3660424261722925, 'val_accuracy': 0.6828402366863905, 'precision': 0.6871647058330423, 'recall': 0.6828402366863905, 'f1-score': 0.6586067657964569, 'macro_f1-score': 0.38485801349619386, 'balanced_accuracy': 0.38563881723238697, 'mcc': 0.5757583646622307}\n",
      "Epoch 4/20\n"
     ]
    },
    {
     "name": "stderr",
     "output_type": "stream",
     "text": [
      "100%|██████████| 743/743 [05:45<00:00,  2.15it/s]\n"
     ]
    },
    {
     "name": "stdout",
     "output_type": "stream",
     "text": [
      "{'val_loss': 1.3950454755774084, 'val_accuracy': 0.685207100591716, 'precision': 0.6907664752028504, 'recall': 0.685207100591716, 'f1-score': 0.6749050127244774, 'macro_f1-score': 0.402395887718532, 'balanced_accuracy': 0.4008282650088481, 'mcc': 0.5873277200610517}\n",
      "Epoch 5/20\n"
     ]
    },
    {
     "name": "stderr",
     "output_type": "stream",
     "text": [
      "100%|██████████| 743/743 [05:45<00:00,  2.15it/s]\n"
     ]
    },
    {
     "name": "stdout",
     "output_type": "stream",
     "text": [
      "{'val_loss': 1.4655278527511741, 'val_accuracy': 0.6816568047337278, 'precision': 0.6958443581955112, 'recall': 0.6816568047337278, 'f1-score': 0.6661576662036828, 'macro_f1-score': 0.4057778056205216, 'balanced_accuracy': 0.3897699712648185, 'mcc': 0.5756011926053086}\n",
      "Epoch 6/20\n"
     ]
    },
    {
     "name": "stderr",
     "output_type": "stream",
     "text": [
      "100%|██████████| 743/743 [05:45<00:00,  2.15it/s]\n",
      "D:\\Anaconda3\\envs\\cuda\\Lib\\site-packages\\sklearn\\metrics\\_classification.py:2458: UserWarning: y_pred contains classes not in y_true\n",
      "  warnings.warn(\"y_pred contains classes not in y_true\")\n"
     ]
    },
    {
     "name": "stdout",
     "output_type": "stream",
     "text": [
      "{'val_loss': 1.5608658565665192, 'val_accuracy': 0.685207100591716, 'precision': 0.6851290570841012, 'recall': 0.685207100591716, 'f1-score': 0.6695120376266794, 'macro_f1-score': 0.37954947496782326, 'balanced_accuracy': 0.376836793680841, 'mcc': 0.5828519548375097}\n",
      "Epoch 7/20\n"
     ]
    },
    {
     "name": "stderr",
     "output_type": "stream",
     "text": [
      "100%|██████████| 743/743 [05:44<00:00,  2.16it/s]\n",
      "D:\\Anaconda3\\envs\\cuda\\Lib\\site-packages\\sklearn\\metrics\\_classification.py:2458: UserWarning: y_pred contains classes not in y_true\n",
      "  warnings.warn(\"y_pred contains classes not in y_true\")\n"
     ]
    },
    {
     "name": "stdout",
     "output_type": "stream",
     "text": [
      "{'val_loss': 1.8228619599117424, 'val_accuracy': 0.663905325443787, 'precision': 0.6572423276147606, 'recall': 0.663905325443787, 'f1-score': 0.6245406844269724, 'macro_f1-score': 0.3504689375895458, 'balanced_accuracy': 0.3342419037956961, 'mcc': 0.5377184107728655}\n",
      "Epoch 8/20\n"
     ]
    },
    {
     "name": "stderr",
     "output_type": "stream",
     "text": [
      "100%|██████████| 743/743 [05:44<00:00,  2.16it/s]\n",
      "D:\\Anaconda3\\envs\\cuda\\Lib\\site-packages\\sklearn\\metrics\\_classification.py:2458: UserWarning: y_pred contains classes not in y_true\n",
      "  warnings.warn(\"y_pred contains classes not in y_true\")\n"
     ]
    },
    {
     "name": "stdout",
     "output_type": "stream",
     "text": [
      "{'val_loss': 1.6099381334376786, 'val_accuracy': 0.6698224852071006, 'precision': 0.6639722581858726, 'recall': 0.6698224852071006, 'f1-score': 0.6490841330687152, 'macro_f1-score': 0.35816161851045764, 'balanced_accuracy': 0.3524968888943026, 'mcc': 0.5618912411341068}\n",
      "Early stopping triggered at epoch 8\n",
      "Fold 6\n",
      "avg_label_size: 152\n",
      "Before ROS: Counter({0: 3585, 47: 591, 17: 261, 48: 229, 4: 228, 12: 218, 11: 185, 23: 180, 42: 171, 5: 128, 2: 126, 39: 116, 6: 104, 18: 104, 26: 95, 22: 88, 31: 85, 10: 80, 49: 80, 8: 76, 9: 76, 46: 59, 25: 59, 27: 54, 19: 51, 21: 40, 32: 40, 7: 35, 33: 35, 36: 34, 34: 33, 13: 31, 15: 28, 3: 26, 1: 25, 44: 25, 14: 24, 37: 24, 16: 23, 43: 20, 24: 19, 20: 17, 30: 17, 29: 16, 28: 15, 35: 15, 40: 14, 45: 10, 41: 7, 38: 7})\n",
      "After ROS: Counter({0: 3585, 47: 591, 17: 261, 48: 229, 4: 228, 12: 218, 11: 185, 23: 180, 42: 171, 39: 152, 46: 152, 2: 152, 3: 152, 5: 152, 6: 152, 7: 152, 8: 152, 9: 152, 10: 152, 13: 152, 14: 152, 15: 152, 16: 152, 18: 152, 19: 152, 20: 152, 21: 152, 25: 152, 31: 152, 22: 152, 26: 152, 49: 152, 28: 152, 29: 152, 30: 152, 32: 152, 33: 152, 1: 152, 34: 152, 35: 152, 27: 152, 36: 152, 37: 152, 40: 152, 41: 152, 38: 152, 24: 152, 43: 152, 44: 152, 45: 152})\n"
     ]
    },
    {
     "name": "stderr",
     "output_type": "stream",
     "text": [
      "Some weights of BertForSequenceClassification were not initialized from the model checkpoint at bert-base-uncased and are newly initialized: ['classifier.bias', 'classifier.weight']\n",
      "You should probably TRAIN this model on a down-stream task to be able to use it for predictions and inference.\n"
     ]
    },
    {
     "name": "stdout",
     "output_type": "stream",
     "text": [
      "Epoch 1/20\n"
     ]
    },
    {
     "name": "stderr",
     "output_type": "stream",
     "text": [
      "100%|██████████| 743/743 [05:43<00:00,  2.16it/s]\n",
      "D:\\Anaconda3\\envs\\cuda\\Lib\\site-packages\\sklearn\\metrics\\_classification.py:2458: UserWarning: y_pred contains classes not in y_true\n",
      "  warnings.warn(\"y_pred contains classes not in y_true\")\n"
     ]
    },
    {
     "name": "stdout",
     "output_type": "stream",
     "text": [
      "{'val_loss': 1.4226264188874442, 'val_accuracy': 0.6082840236686391, 'precision': 0.5783981130627768, 'recall': 0.6082840236686391, 'f1-score': 0.5732733719946368, 'macro_f1-score': 0.2524373119834289, 'balanced_accuracy': 0.3127365183542429, 'mcc': 0.4774028233490317}\n",
      "Epoch 2/20\n"
     ]
    },
    {
     "name": "stderr",
     "output_type": "stream",
     "text": [
      "100%|██████████| 743/743 [05:43<00:00,  2.16it/s]\n",
      "D:\\Anaconda3\\envs\\cuda\\Lib\\site-packages\\sklearn\\metrics\\_classification.py:2458: UserWarning: y_pred contains classes not in y_true\n",
      "  warnings.warn(\"y_pred contains classes not in y_true\")\n"
     ]
    },
    {
     "name": "stdout",
     "output_type": "stream",
     "text": [
      "{'val_loss': 1.2660603703192945, 'val_accuracy': 0.6615384615384615, 'precision': 0.6258543114000935, 'recall': 0.6615384615384615, 'f1-score': 0.6242430928341118, 'macro_f1-score': 0.3298045151670253, 'balanced_accuracy': 0.362532569743283, 'mcc': 0.5438244952670436}\n",
      "Epoch 3/20\n"
     ]
    },
    {
     "name": "stderr",
     "output_type": "stream",
     "text": [
      "100%|██████████| 743/743 [05:43<00:00,  2.16it/s]\n",
      "D:\\Anaconda3\\envs\\cuda\\Lib\\site-packages\\sklearn\\metrics\\_classification.py:2458: UserWarning: y_pred contains classes not in y_true\n",
      "  warnings.warn(\"y_pred contains classes not in y_true\")\n"
     ]
    },
    {
     "name": "stdout",
     "output_type": "stream",
     "text": [
      "{'val_loss': 1.2909225034263898, 'val_accuracy': 0.6662721893491125, 'precision': 0.6745399789887854, 'recall': 0.6662721893491125, 'f1-score': 0.6574182142449765, 'macro_f1-score': 0.40555154316616165, 'balanced_accuracy': 0.42429084958411595, 'mcc': 0.5715194457482897}\n",
      "Epoch 4/20\n"
     ]
    },
    {
     "name": "stderr",
     "output_type": "stream",
     "text": [
      "100%|██████████| 743/743 [05:43<00:00,  2.16it/s]\n",
      "D:\\Anaconda3\\envs\\cuda\\Lib\\site-packages\\sklearn\\metrics\\_classification.py:2458: UserWarning: y_pred contains classes not in y_true\n",
      "  warnings.warn(\"y_pred contains classes not in y_true\")\n"
     ]
    },
    {
     "name": "stdout",
     "output_type": "stream",
     "text": [
      "{'val_loss': 1.4256044024566434, 'val_accuracy': 0.6662721893491125, 'precision': 0.6594468827577321, 'recall': 0.6662721893491125, 'f1-score': 0.6410427668791996, 'macro_f1-score': 0.36709147534019737, 'balanced_accuracy': 0.3761534003539215, 'mcc': 0.5621649557776031}\n",
      "Epoch 5/20\n"
     ]
    },
    {
     "name": "stderr",
     "output_type": "stream",
     "text": [
      "100%|██████████| 743/743 [05:43<00:00,  2.16it/s]\n",
      "D:\\Anaconda3\\envs\\cuda\\Lib\\site-packages\\sklearn\\metrics\\_classification.py:2458: UserWarning: y_pred contains classes not in y_true\n",
      "  warnings.warn(\"y_pred contains classes not in y_true\")\n"
     ]
    },
    {
     "name": "stdout",
     "output_type": "stream",
     "text": [
      "{'val_loss': 1.4766501947393957, 'val_accuracy': 0.6414201183431952, 'precision': 0.6714736161804943, 'recall': 0.6414201183431952, 'f1-score': 0.6416295543265841, 'macro_f1-score': 0.36225057550293016, 'balanced_accuracy': 0.3962259290587761, 'mcc': 0.5419756610104345}\n",
      "Epoch 6/20\n"
     ]
    },
    {
     "name": "stderr",
     "output_type": "stream",
     "text": [
      "100%|██████████| 743/743 [05:43<00:00,  2.16it/s]\n",
      "D:\\Anaconda3\\envs\\cuda\\Lib\\site-packages\\sklearn\\metrics\\_classification.py:2458: UserWarning: y_pred contains classes not in y_true\n",
      "  warnings.warn(\"y_pred contains classes not in y_true\")\n"
     ]
    },
    {
     "name": "stdout",
     "output_type": "stream",
     "text": [
      "{'val_loss': 1.6249976742942378, 'val_accuracy': 0.6520710059171597, 'precision': 0.6788955625586188, 'recall': 0.6520710059171597, 'f1-score': 0.6445337014774617, 'macro_f1-score': 0.3585897267497333, 'balanced_accuracy': 0.3971893152355888, 'mcc': 0.5523337822027065}\n",
      "Early stopping triggered at epoch 6\n",
      "Fold 7\n",
      "avg_label_size: 152\n",
      "Before ROS: Counter({0: 3551, 47: 596, 17: 264, 4: 229, 48: 224, 12: 223, 11: 198, 23: 184, 42: 158, 5: 129, 2: 126, 39: 118, 6: 109, 18: 103, 26: 96, 22: 88, 31: 86, 8: 81, 49: 80, 10: 79, 9: 74, 46: 63, 25: 61, 27: 57, 19: 51, 32: 43, 21: 35, 33: 35, 34: 35, 7: 35, 13: 34, 1: 28, 15: 28, 36: 28, 3: 27, 14: 27, 37: 26, 16: 24, 44: 23, 30: 19, 43: 19, 24: 17, 20: 15, 28: 15, 40: 14, 29: 14, 35: 13, 41: 11, 45: 9, 38: 7})\n",
      "After ROS: Counter({0: 3551, 47: 596, 17: 264, 4: 229, 48: 224, 12: 223, 11: 198, 23: 184, 42: 158, 1: 152, 31: 152, 39: 152, 46: 152, 2: 152, 3: 152, 5: 152, 6: 152, 8: 152, 10: 152, 13: 152, 14: 152, 15: 152, 16: 152, 18: 152, 19: 152, 20: 152, 21: 152, 22: 152, 24: 152, 25: 152, 9: 152, 27: 152, 49: 152, 28: 152, 26: 152, 30: 152, 32: 152, 33: 152, 34: 152, 35: 152, 36: 152, 37: 152, 40: 152, 41: 152, 29: 152, 7: 152, 38: 152, 43: 152, 44: 152, 45: 152})\n"
     ]
    },
    {
     "name": "stderr",
     "output_type": "stream",
     "text": [
      "Some weights of BertForSequenceClassification were not initialized from the model checkpoint at bert-base-uncased and are newly initialized: ['classifier.bias', 'classifier.weight']\n",
      "You should probably TRAIN this model on a down-stream task to be able to use it for predictions and inference.\n"
     ]
    },
    {
     "name": "stdout",
     "output_type": "stream",
     "text": [
      "Epoch 1/20\n"
     ]
    },
    {
     "name": "stderr",
     "output_type": "stream",
     "text": [
      "100%|██████████| 742/742 [05:43<00:00,  2.16it/s]\n",
      "D:\\Anaconda3\\envs\\cuda\\Lib\\site-packages\\sklearn\\metrics\\_classification.py:2458: UserWarning: y_pred contains classes not in y_true\n",
      "  warnings.warn(\"y_pred contains classes not in y_true\")\n"
     ]
    },
    {
     "name": "stdout",
     "output_type": "stream",
     "text": [
      "{'val_loss': 1.3632739757029515, 'val_accuracy': 0.6390532544378699, 'precision': 0.5979670775370347, 'recall': 0.6390532544378699, 'f1-score': 0.5754641986089133, 'macro_f1-score': 0.2674306678969551, 'balanced_accuracy': 0.3092546513113889, 'mcc': 0.46968435084659355}\n",
      "Epoch 2/20\n"
     ]
    },
    {
     "name": "stderr",
     "output_type": "stream",
     "text": [
      "100%|██████████| 742/742 [05:43<00:00,  2.16it/s]\n",
      "D:\\Anaconda3\\envs\\cuda\\Lib\\site-packages\\sklearn\\metrics\\_classification.py:2458: UserWarning: y_pred contains classes not in y_true\n",
      "  warnings.warn(\"y_pred contains classes not in y_true\")\n"
     ]
    },
    {
     "name": "stdout",
     "output_type": "stream",
     "text": [
      "{'val_loss': 1.2156705406476866, 'val_accuracy': 0.6579881656804734, 'precision': 0.6711027951664436, 'recall': 0.6579881656804734, 'f1-score': 0.6548557324972014, 'macro_f1-score': 0.37430084434167055, 'balanced_accuracy': 0.4585216914144741, 'mcc': 0.5424130878055344}\n",
      "Epoch 3/20\n"
     ]
    },
    {
     "name": "stderr",
     "output_type": "stream",
     "text": [
      "100%|██████████| 742/742 [05:46<00:00,  2.14it/s]\n",
      "D:\\Anaconda3\\envs\\cuda\\Lib\\site-packages\\sklearn\\metrics\\_classification.py:2458: UserWarning: y_pred contains classes not in y_true\n",
      "  warnings.warn(\"y_pred contains classes not in y_true\")\n"
     ]
    },
    {
     "name": "stdout",
     "output_type": "stream",
     "text": [
      "{'val_loss': 1.2461084329857017, 'val_accuracy': 0.6863905325443787, 'precision': 0.6739497968426071, 'recall': 0.6863905325443787, 'f1-score': 0.6573610041459713, 'macro_f1-score': 0.3637108933577916, 'balanced_accuracy': 0.3655027627311732, 'mcc': 0.5510880700077504}\n",
      "Epoch 4/20\n"
     ]
    },
    {
     "name": "stderr",
     "output_type": "stream",
     "text": [
      "100%|██████████| 742/742 [05:43<00:00,  2.16it/s]\n",
      "D:\\Anaconda3\\envs\\cuda\\Lib\\site-packages\\sklearn\\metrics\\_classification.py:2458: UserWarning: y_pred contains classes not in y_true\n",
      "  warnings.warn(\"y_pred contains classes not in y_true\")\n"
     ]
    },
    {
     "name": "stdout",
     "output_type": "stream",
     "text": [
      "{'val_loss': 1.3216796624210645, 'val_accuracy': 0.6792899408284023, 'precision': 0.7109030476394185, 'recall': 0.6792899408284023, 'f1-score': 0.6796884097668313, 'macro_f1-score': 0.388138166439374, 'balanced_accuracy': 0.4277171584267955, 'mcc': 0.567545178656801}\n",
      "Epoch 5/20\n"
     ]
    },
    {
     "name": "stderr",
     "output_type": "stream",
     "text": [
      "100%|██████████| 742/742 [05:43<00:00,  2.16it/s]\n",
      "D:\\Anaconda3\\envs\\cuda\\Lib\\site-packages\\sklearn\\metrics\\_classification.py:2458: UserWarning: y_pred contains classes not in y_true\n",
      "  warnings.warn(\"y_pred contains classes not in y_true\")\n"
     ]
    },
    {
     "name": "stdout",
     "output_type": "stream",
     "text": [
      "{'val_loss': 1.3325635498424746, 'val_accuracy': 0.676923076923077, 'precision': 0.6995326535812365, 'recall': 0.676923076923077, 'f1-score': 0.6723659813639983, 'macro_f1-score': 0.3913592266083733, 'balanced_accuracy': 0.4072695935455635, 'mcc': 0.5623989536648643}\n",
      "Epoch 6/20\n"
     ]
    },
    {
     "name": "stderr",
     "output_type": "stream",
     "text": [
      "100%|██████████| 742/742 [05:46<00:00,  2.14it/s]\n",
      "D:\\Anaconda3\\envs\\cuda\\Lib\\site-packages\\sklearn\\metrics\\_classification.py:2458: UserWarning: y_pred contains classes not in y_true\n",
      "  warnings.warn(\"y_pred contains classes not in y_true\")\n"
     ]
    },
    {
     "name": "stdout",
     "output_type": "stream",
     "text": [
      "{'val_loss': 1.5201762183657233, 'val_accuracy': 0.6650887573964497, 'precision': 0.6802350177008248, 'recall': 0.6650887573964497, 'f1-score': 0.6586895823471941, 'macro_f1-score': 0.3339356089607611, 'balanced_accuracy': 0.36245014388568836, 'mcc': 0.5446901759811652}\n",
      "Epoch 7/20\n"
     ]
    },
    {
     "name": "stderr",
     "output_type": "stream",
     "text": [
      "100%|██████████| 742/742 [05:44<00:00,  2.16it/s]\n",
      "D:\\Anaconda3\\envs\\cuda\\Lib\\site-packages\\sklearn\\metrics\\_classification.py:2458: UserWarning: y_pred contains classes not in y_true\n",
      "  warnings.warn(\"y_pred contains classes not in y_true\")\n"
     ]
    },
    {
     "name": "stdout",
     "output_type": "stream",
     "text": [
      "{'val_loss': 1.5272515731037788, 'val_accuracy': 0.685207100591716, 'precision': 0.6776443602678067, 'recall': 0.685207100591716, 'f1-score': 0.6653419818781713, 'macro_f1-score': 0.35836525201225694, 'balanced_accuracy': 0.3594858952216065, 'mcc': 0.561413582260829}\n",
      "Epoch 8/20\n"
     ]
    },
    {
     "name": "stderr",
     "output_type": "stream",
     "text": [
      "100%|██████████| 742/742 [05:43<00:00,  2.16it/s]\n",
      "D:\\Anaconda3\\envs\\cuda\\Lib\\site-packages\\sklearn\\metrics\\_classification.py:2458: UserWarning: y_pred contains classes not in y_true\n",
      "  warnings.warn(\"y_pred contains classes not in y_true\")\n"
     ]
    },
    {
     "name": "stdout",
     "output_type": "stream",
     "text": [
      "{'val_loss': 1.5323776484660383, 'val_accuracy': 0.659171597633136, 'precision': 0.6999053563900143, 'recall': 0.659171597633136, 'f1-score': 0.6644451917929032, 'macro_f1-score': 0.34717162661844414, 'balanced_accuracy': 0.38796057325761113, 'mcc': 0.548101346108125}\n",
      "Early stopping triggered at epoch 8\n",
      "Fold 8\n",
      "avg_label_size: 152\n",
      "Before ROS: Counter({0: 3585, 47: 593, 17: 254, 4: 229, 48: 224, 12: 207, 11: 198, 23: 184, 42: 166, 2: 127, 5: 126, 39: 120, 18: 107, 6: 103, 26: 98, 31: 96, 10: 82, 22: 80, 49: 78, 9: 77, 8: 68, 46: 63, 27: 58, 25: 56, 19: 52, 21: 44, 32: 40, 33: 35, 34: 35, 7: 34, 36: 33, 13: 31, 1: 29, 3: 27, 15: 27, 14: 26, 44: 24, 37: 23, 16: 21, 24: 19, 30: 18, 43: 17, 20: 14, 29: 14, 35: 14, 40: 14, 28: 13, 41: 11, 45: 9, 38: 6})\n",
      "After ROS: Counter({0: 3585, 47: 593, 17: 254, 4: 229, 48: 224, 12: 207, 11: 198, 23: 184, 42: 166, 1: 152, 31: 152, 39: 152, 46: 152, 2: 152, 3: 152, 5: 152, 6: 152, 7: 152, 8: 152, 9: 152, 10: 152, 13: 152, 14: 152, 15: 152, 16: 152, 18: 152, 19: 152, 20: 152, 21: 152, 22: 152, 24: 152, 26: 152, 27: 152, 49: 152, 29: 152, 25: 152, 30: 152, 32: 152, 33: 152, 34: 152, 28: 152, 35: 152, 36: 152, 37: 152, 40: 152, 41: 152, 38: 152, 44: 152, 45: 152, 43: 152})\n"
     ]
    },
    {
     "name": "stderr",
     "output_type": "stream",
     "text": [
      "Some weights of BertForSequenceClassification were not initialized from the model checkpoint at bert-base-uncased and are newly initialized: ['classifier.bias', 'classifier.weight']\n",
      "You should probably TRAIN this model on a down-stream task to be able to use it for predictions and inference.\n"
     ]
    },
    {
     "name": "stdout",
     "output_type": "stream",
     "text": [
      "Epoch 1/20\n"
     ]
    },
    {
     "name": "stderr",
     "output_type": "stream",
     "text": [
      "100%|██████████| 742/742 [05:41<00:00,  2.17it/s]\n",
      "D:\\Anaconda3\\envs\\cuda\\Lib\\site-packages\\sklearn\\metrics\\_classification.py:2458: UserWarning: y_pred contains classes not in y_true\n",
      "  warnings.warn(\"y_pred contains classes not in y_true\")\n"
     ]
    },
    {
     "name": "stdout",
     "output_type": "stream",
     "text": [
      "{'val_loss': 1.4354571925019317, 'val_accuracy': 0.6189349112426036, 'precision': 0.5986829120520062, 'recall': 0.6189349112426036, 'f1-score': 0.5625355498510665, 'macro_f1-score': 0.3025655170020936, 'balanced_accuracy': 0.391296501308293, 'mcc': 0.4821612908502304}\n",
      "Epoch 2/20\n"
     ]
    },
    {
     "name": "stderr",
     "output_type": "stream",
     "text": [
      "100%|██████████| 742/742 [05:16<00:00,  2.35it/s]\n"
     ]
    },
    {
     "name": "stdout",
     "output_type": "stream",
     "text": [
      "{'val_loss': 1.291964755868012, 'val_accuracy': 0.6686390532544378, 'precision': 0.6580548676321923, 'recall': 0.6686390532544378, 'f1-score': 0.6350276266427247, 'macro_f1-score': 0.3797332837801582, 'balanced_accuracy': 0.4158701386061358, 'mcc': 0.5499001267506384}\n",
      "Epoch 3/20\n"
     ]
    },
    {
     "name": "stderr",
     "output_type": "stream",
     "text": [
      "100%|██████████| 742/742 [05:15<00:00,  2.35it/s]\n"
     ]
    },
    {
     "name": "stdout",
     "output_type": "stream",
     "text": [
      "{'val_loss': 1.3091754075491204, 'val_accuracy': 0.6745562130177515, 'precision': 0.6922134366868579, 'recall': 0.6745562130177515, 'f1-score': 0.6649690244815061, 'macro_f1-score': 0.4204981800456169, 'balanced_accuracy': 0.4555471272608391, 'mcc': 0.5737270158832267}\n",
      "Epoch 4/20\n"
     ]
    },
    {
     "name": "stderr",
     "output_type": "stream",
     "text": [
      "100%|██████████| 742/742 [05:15<00:00,  2.35it/s]\n"
     ]
    },
    {
     "name": "stdout",
     "output_type": "stream",
     "text": [
      "{'val_loss': 1.368655210958337, 'val_accuracy': 0.6863905325443787, 'precision': 0.6890579571316912, 'recall': 0.6863905325443787, 'f1-score': 0.6795142222616225, 'macro_f1-score': 0.4449098211629888, 'balanced_accuracy': 0.48672496234439244, 'mcc': 0.5915877980899844}\n",
      "Epoch 5/20\n"
     ]
    },
    {
     "name": "stderr",
     "output_type": "stream",
     "text": [
      "100%|██████████| 742/742 [05:15<00:00,  2.36it/s]\n"
     ]
    },
    {
     "name": "stdout",
     "output_type": "stream",
     "text": [
      "{'val_loss': 1.4854768227856114, 'val_accuracy': 0.6710059171597633, 'precision': 0.7005231423847254, 'recall': 0.6710059171597633, 'f1-score': 0.6694647182314549, 'macro_f1-score': 0.4310244498183677, 'balanced_accuracy': 0.4692584467729953, 'mcc': 0.5718567029357499}\n",
      "Epoch 6/20\n"
     ]
    },
    {
     "name": "stderr",
     "output_type": "stream",
     "text": [
      "100%|██████████| 742/742 [05:15<00:00,  2.35it/s]\n",
      "D:\\Anaconda3\\envs\\cuda\\Lib\\site-packages\\sklearn\\metrics\\_classification.py:2458: UserWarning: y_pred contains classes not in y_true\n",
      "  warnings.warn(\"y_pred contains classes not in y_true\")\n"
     ]
    },
    {
     "name": "stdout",
     "output_type": "stream",
     "text": [
      "{'val_loss': 1.5669189550966587, 'val_accuracy': 0.6887573964497041, 'precision': 0.6901441773891192, 'recall': 0.6887573964497041, 'f1-score': 0.675609832158274, 'macro_f1-score': 0.43828981434437897, 'balanced_accuracy': 0.45103301287130587, 'mcc': 0.5858604029864106}\n",
      "Epoch 7/20\n"
     ]
    },
    {
     "name": "stderr",
     "output_type": "stream",
     "text": [
      "100%|██████████| 742/742 [05:15<00:00,  2.36it/s]\n"
     ]
    },
    {
     "name": "stdout",
     "output_type": "stream",
     "text": [
      "{'val_loss': 1.6103555503881202, 'val_accuracy': 0.6792899408284023, 'precision': 0.6742402363942692, 'recall': 0.6792899408284023, 'f1-score': 0.6628814550554691, 'macro_f1-score': 0.4183299574412357, 'balanced_accuracy': 0.43471157752441003, 'mcc': 0.5698339646230548}\n",
      "Early stopping triggered at epoch 7\n",
      "Fold 9\n",
      "avg_label_size: 152\n",
      "Before ROS: Counter({0: 3574, 47: 614, 17: 266, 4: 234, 48: 232, 12: 214, 11: 193, 23: 170, 42: 167, 5: 130, 2: 128, 39: 121, 18: 104, 6: 103, 26: 90, 31: 88, 22: 87, 8: 77, 49: 76, 9: 74, 10: 74, 46: 64, 27: 58, 25: 55, 19: 51, 21: 40, 32: 40, 33: 36, 7: 34, 34: 34, 13: 30, 1: 29, 36: 29, 14: 27, 3: 26, 15: 26, 37: 24, 16: 22, 44: 20, 20: 18, 24: 18, 30: 16, 43: 16, 29: 14, 35: 13, 28: 12, 40: 12, 41: 11, 45: 11, 38: 7})\n",
      "After ROS: Counter({0: 3574, 47: 614, 17: 266, 4: 234, 48: 232, 12: 214, 11: 193, 23: 170, 42: 167, 1: 152, 31: 152, 39: 152, 46: 152, 2: 152, 3: 152, 5: 152, 7: 152, 8: 152, 9: 152, 6: 152, 10: 152, 13: 152, 14: 152, 16: 152, 18: 152, 20: 152, 21: 152, 22: 152, 24: 152, 25: 152, 15: 152, 26: 152, 27: 152, 49: 152, 28: 152, 29: 152, 30: 152, 32: 152, 33: 152, 34: 152, 35: 152, 19: 152, 37: 152, 40: 152, 41: 152, 36: 152, 38: 152, 43: 152, 44: 152, 45: 152})\n"
     ]
    },
    {
     "name": "stderr",
     "output_type": "stream",
     "text": [
      "Some weights of BertForSequenceClassification were not initialized from the model checkpoint at bert-base-uncased and are newly initialized: ['classifier.bias', 'classifier.weight']\n",
      "You should probably TRAIN this model on a down-stream task to be able to use it for predictions and inference.\n"
     ]
    },
    {
     "name": "stdout",
     "output_type": "stream",
     "text": [
      "Epoch 1/20\n"
     ]
    },
    {
     "name": "stderr",
     "output_type": "stream",
     "text": [
      "100%|██████████| 744/744 [05:18<00:00,  2.34it/s]\n",
      "D:\\Anaconda3\\envs\\cuda\\Lib\\site-packages\\sklearn\\metrics\\_classification.py:2458: UserWarning: y_pred contains classes not in y_true\n",
      "  warnings.warn(\"y_pred contains classes not in y_true\")\n"
     ]
    },
    {
     "name": "stdout",
     "output_type": "stream",
     "text": [
      "{'val_loss': 1.4436621733431547, 'val_accuracy': 0.6047337278106509, 'precision': 0.5952896121980304, 'recall': 0.6047337278106509, 'f1-score': 0.5724167031073722, 'macro_f1-score': 0.3220097220888942, 'balanced_accuracy': 0.39522854794538614, 'mcc': 0.4729616195117327}\n",
      "Epoch 2/20\n"
     ]
    },
    {
     "name": "stderr",
     "output_type": "stream",
     "text": [
      "100%|██████████| 744/744 [05:15<00:00,  2.35it/s]\n",
      "D:\\Anaconda3\\envs\\cuda\\Lib\\site-packages\\sklearn\\metrics\\_classification.py:2458: UserWarning: y_pred contains classes not in y_true\n",
      "  warnings.warn(\"y_pred contains classes not in y_true\")\n"
     ]
    },
    {
     "name": "stdout",
     "output_type": "stream",
     "text": [
      "{'val_loss': 1.2433941431765287, 'val_accuracy': 0.6674556213017752, 'precision': 0.6653169412356462, 'recall': 0.6674556213017752, 'f1-score': 0.6402758815704575, 'macro_f1-score': 0.42265245158715414, 'balanced_accuracy': 0.468781823440355, 'mcc': 0.5553563175144489}\n",
      "Epoch 3/20\n"
     ]
    },
    {
     "name": "stderr",
     "output_type": "stream",
     "text": [
      "100%|██████████| 744/744 [05:16<00:00,  2.35it/s]\n",
      "D:\\Anaconda3\\envs\\cuda\\Lib\\site-packages\\sklearn\\metrics\\_classification.py:2458: UserWarning: y_pred contains classes not in y_true\n",
      "  warnings.warn(\"y_pred contains classes not in y_true\")\n"
     ]
    },
    {
     "name": "stdout",
     "output_type": "stream",
     "text": [
      "{'val_loss': 1.2945515935151082, 'val_accuracy': 0.6757396449704142, 'precision': 0.6904720259334911, 'recall': 0.6757396449704142, 'f1-score': 0.6531468785125226, 'macro_f1-score': 0.46007432327229836, 'balanced_accuracy': 0.4800898497543525, 'mcc': 0.567657144957293}\n",
      "Epoch 4/20\n"
     ]
    },
    {
     "name": "stderr",
     "output_type": "stream",
     "text": [
      "100%|██████████| 744/744 [05:17<00:00,  2.35it/s]\n",
      "D:\\Anaconda3\\envs\\cuda\\Lib\\site-packages\\sklearn\\metrics\\_classification.py:2458: UserWarning: y_pred contains classes not in y_true\n",
      "  warnings.warn(\"y_pred contains classes not in y_true\")\n"
     ]
    },
    {
     "name": "stdout",
     "output_type": "stream",
     "text": [
      "{'val_loss': 1.3692811851231557, 'val_accuracy': 0.6603550295857988, 'precision': 0.6861132402972194, 'recall': 0.6603550295857988, 'f1-score': 0.6476114875459459, 'macro_f1-score': 0.4256411528600032, 'balanced_accuracy': 0.43821169136967064, 'mcc': 0.5551901436354714}\n",
      "Epoch 5/20\n"
     ]
    },
    {
     "name": "stderr",
     "output_type": "stream",
     "text": [
      "100%|██████████| 744/744 [05:17<00:00,  2.35it/s]\n",
      "D:\\Anaconda3\\envs\\cuda\\Lib\\site-packages\\sklearn\\metrics\\_classification.py:2458: UserWarning: y_pred contains classes not in y_true\n",
      "  warnings.warn(\"y_pred contains classes not in y_true\")\n"
     ]
    },
    {
     "name": "stdout",
     "output_type": "stream",
     "text": [
      "{'val_loss': 1.4292798570866854, 'val_accuracy': 0.6887573964497041, 'precision': 0.6799722295786337, 'recall': 0.6887573964497041, 'f1-score': 0.670492577513892, 'macro_f1-score': 0.4532357441540125, 'balanced_accuracy': 0.4848652010735492, 'mcc': 0.5857283469295832}\n",
      "Epoch 6/20\n"
     ]
    },
    {
     "name": "stderr",
     "output_type": "stream",
     "text": [
      "100%|██████████| 744/744 [05:14<00:00,  2.36it/s]\n",
      "D:\\Anaconda3\\envs\\cuda\\Lib\\site-packages\\sklearn\\metrics\\_classification.py:2458: UserWarning: y_pred contains classes not in y_true\n",
      "  warnings.warn(\"y_pred contains classes not in y_true\")\n"
     ]
    },
    {
     "name": "stdout",
     "output_type": "stream",
     "text": [
      "{'val_loss': 1.5356143671527225, 'val_accuracy': 0.685207100591716, 'precision': 0.6859613542600889, 'recall': 0.685207100591716, 'f1-score': 0.6630681140974778, 'macro_f1-score': 0.43697099038705556, 'balanced_accuracy': 0.4627606031711618, 'mcc': 0.5772516158681705}\n",
      "Early stopping triggered at epoch 6\n",
      "Fold 10\n",
      "avg_label_size: 152\n",
      "Before ROS: Counter({0: 3613, 47: 592, 17: 260, 4: 233, 48: 232, 12: 209, 11: 193, 23: 171, 42: 163, 5: 130, 2: 127, 39: 113, 6: 108, 18: 99, 26: 96, 31: 88, 22: 84, 10: 79, 49: 74, 8: 73, 9: 73, 46: 64, 25: 58, 19: 53, 27: 53, 32: 40, 21: 39, 33: 37, 34: 34, 7: 33, 13: 31, 15: 30, 36: 30, 3: 29, 37: 26, 1: 25, 14: 24, 16: 23, 44: 21, 43: 19, 24: 18, 30: 16, 20: 15, 29: 15, 28: 14, 35: 14, 40: 11, 41: 11, 45: 10, 38: 6})\n",
      "After ROS: Counter({0: 3613, 47: 592, 17: 260, 4: 233, 48: 232, 12: 209, 11: 193, 23: 171, 42: 163, 1: 152, 31: 152, 39: 152, 46: 152, 2: 152, 3: 152, 5: 152, 6: 152, 7: 152, 8: 152, 9: 152, 10: 152, 13: 152, 15: 152, 19: 152, 20: 152, 21: 152, 22: 152, 24: 152, 25: 152, 14: 152, 26: 152, 18: 152, 27: 152, 49: 152, 28: 152, 29: 152, 30: 152, 32: 152, 33: 152, 34: 152, 35: 152, 16: 152, 36: 152, 37: 152, 40: 152, 41: 152, 38: 152, 43: 152, 44: 152, 45: 152})\n"
     ]
    },
    {
     "name": "stderr",
     "output_type": "stream",
     "text": [
      "Some weights of BertForSequenceClassification were not initialized from the model checkpoint at bert-base-uncased and are newly initialized: ['classifier.bias', 'classifier.weight']\n",
      "You should probably TRAIN this model on a down-stream task to be able to use it for predictions and inference.\n"
     ]
    },
    {
     "name": "stdout",
     "output_type": "stream",
     "text": [
      "Epoch 1/20\n"
     ]
    },
    {
     "name": "stderr",
     "output_type": "stream",
     "text": [
      "100%|██████████| 744/744 [05:14<00:00,  2.36it/s]\n",
      "D:\\Anaconda3\\envs\\cuda\\Lib\\site-packages\\sklearn\\metrics\\_classification.py:2458: UserWarning: y_pred contains classes not in y_true\n",
      "  warnings.warn(\"y_pred contains classes not in y_true\")\n"
     ]
    },
    {
     "name": "stdout",
     "output_type": "stream",
     "text": [
      "{'val_loss': 1.5149400234222412, 'val_accuracy': 0.5988165680473373, 'precision': 0.5615299394810415, 'recall': 0.5988165680473373, 'f1-score': 0.5414683131621111, 'macro_f1-score': 0.29383024690201565, 'balanced_accuracy': 0.37834615788666853, 'mcc': 0.4812214898923924}\n",
      "Epoch 2/20\n"
     ]
    },
    {
     "name": "stderr",
     "output_type": "stream",
     "text": [
      "100%|██████████| 744/744 [05:14<00:00,  2.36it/s]\n"
     ]
    },
    {
     "name": "stdout",
     "output_type": "stream",
     "text": [
      "{'val_loss': 1.345239945177762, 'val_accuracy': 0.6331360946745562, 'precision': 0.6452553779409145, 'recall': 0.6331360946745562, 'f1-score': 0.6079604817471017, 'macro_f1-score': 0.36975663581335644, 'balanced_accuracy': 0.3835796995484029, 'mcc': 0.5285498944470959}\n",
      "Epoch 3/20\n"
     ]
    },
    {
     "name": "stderr",
     "output_type": "stream",
     "text": [
      "100%|██████████| 744/744 [05:14<00:00,  2.37it/s]\n"
     ]
    },
    {
     "name": "stdout",
     "output_type": "stream",
     "text": [
      "{'val_loss': 1.418564275750574, 'val_accuracy': 0.6307692307692307, 'precision': 0.6393859798478668, 'recall': 0.6307692307692307, 'f1-score': 0.6060125102540183, 'macro_f1-score': 0.3866469525092992, 'balanced_accuracy': 0.40617491612788337, 'mcc': 0.5248639694975862}\n",
      "Epoch 4/20\n"
     ]
    },
    {
     "name": "stderr",
     "output_type": "stream",
     "text": [
      "100%|██████████| 744/744 [05:14<00:00,  2.36it/s]\n"
     ]
    },
    {
     "name": "stdout",
     "output_type": "stream",
     "text": [
      "{'val_loss': 1.4234331092744503, 'val_accuracy': 0.6568047337278107, 'precision': 0.6413067418346668, 'recall': 0.6568047337278107, 'f1-score': 0.6364376649572339, 'macro_f1-score': 0.40510830841874684, 'balanced_accuracy': 0.42729445851272907, 'mcc': 0.5631479116478844}\n",
      "Epoch 5/20\n"
     ]
    },
    {
     "name": "stderr",
     "output_type": "stream",
     "text": [
      "100%|██████████| 744/744 [05:14<00:00,  2.37it/s]\n"
     ]
    },
    {
     "name": "stdout",
     "output_type": "stream",
     "text": [
      "{'val_loss': 1.6038577534117788, 'val_accuracy': 0.6710059171597633, 'precision': 0.657945034215731, 'recall': 0.6710059171597633, 'f1-score': 0.6369008387117248, 'macro_f1-score': 0.3821808147405288, 'balanced_accuracy': 0.3850646639020755, 'mcc': 0.5708386034357626}\n",
      "Epoch 6/20\n"
     ]
    },
    {
     "name": "stderr",
     "output_type": "stream",
     "text": [
      "100%|██████████| 744/744 [05:14<00:00,  2.37it/s]\n"
     ]
    },
    {
     "name": "stdout",
     "output_type": "stream",
     "text": [
      "{'val_loss': 1.4831117363470905, 'val_accuracy': 0.6674556213017752, 'precision': 0.6501680857177589, 'recall': 0.6674556213017752, 'f1-score': 0.6440192692271844, 'macro_f1-score': 0.40333531047547055, 'balanced_accuracy': 0.41538368126145475, 'mcc': 0.572191785025976}\n",
      "Epoch 7/20\n"
     ]
    },
    {
     "name": "stderr",
     "output_type": "stream",
     "text": [
      "100%|██████████| 744/744 [05:14<00:00,  2.37it/s]\n"
     ]
    },
    {
     "name": "stdout",
     "output_type": "stream",
     "text": [
      "{'val_loss': 1.6469360724934992, 'val_accuracy': 0.6556213017751479, 'precision': 0.6642263624200521, 'recall': 0.6556213017751479, 'f1-score': 0.6418192723003476, 'macro_f1-score': 0.40308836118641034, 'balanced_accuracy': 0.4385563541118188, 'mcc': 0.5669851524622224}\n",
      "Early stopping triggered at epoch 7\n",
      "Final 10-fold Cross-Validation Results:\n",
      "val_loss: 1.4284179600894533\n",
      "val_accuracy: 0.6653891575024964\n",
      "precision: 0.6679864123479337\n",
      "recall: 0.6653891575024964\n",
      "f1-score: 0.6458971334576676\n",
      "macro_f1-score: 0.376694728355607\n",
      "balanced_accuracy: 0.40412106145347176\n",
      "mcc: 0.5536261345490706\n"
     ]
    }
   ],
   "source": [
    "from torch.utils.data import DataLoader\n",
    "import torch\n",
    "from torch.nn import CrossEntropyLoss\n",
    "from torch.optim import AdamW\n",
    "from tqdm import tqdm\n",
    "import numpy as np\n",
    "from imblearn.over_sampling import RandomOverSampler\n",
    "from collections import Counter\n",
    "\n",
    "all_fold_results = []\n",
    "\n",
    "# 進行 10 折交叉驗證\n",
    "for fold, (train_idx, val_idx) in enumerate(kf.split(messages)):\n",
    "    print(f\"Fold {fold + 1}\")\n",
    "    \n",
    "    train_messages = [messages[i] for i in train_idx]\n",
    "    train_labels = [labels[i] for i in train_idx]\n",
    "    val_messages = [messages[i] for i in val_idx]\n",
    "    val_labels = [labels[i] for i in val_idx]\n",
    "\n",
    "    print(\"Training set label distribution:\", {label: train_labels.count(label) for label in set(train_labels)})\n",
    "    print(\"Validation set label distribution:\", {label: val_labels.count(label) for label in set(val_labels)})\n",
    "        \n",
    "    # 計算各 Label 的數量\n",
    "    label_counts = pd.Series(train_labels).value_counts()\n",
    "    avg_label_size = int(label_counts.mean())  # **取平均值作為 resample 基準點**\n",
    "    print(f\"avg_label_size: {avg_label_size}\")\n",
    "    \n",
    "    # 找出需要過採樣的類別\n",
    "    labels_to_oversample = label_counts[label_counts < avg_label_size].index.tolist()\n",
    "\n",
    "    # 進行 ROS (Random Oversampling)\n",
    "    ros = RandomOverSampler(sampling_strategy={label: avg_label_size for label in labels_to_oversample}, random_state=42)\n",
    "    train_messages_resampled, train_labels_resampled = ros.fit_resample(np.array(train_messages).reshape(-1, 1), train_labels)\n",
    "    train_messages_resampled = train_messages_resampled.flatten().tolist()\n",
    "\n",
    "    # 轉換成 DataLoader\n",
    "    train_dataset = CustomDataset(train_messages_resampled, train_labels_resampled, tokenizer, MAX_LENGTH)\n",
    "    val_dataset = CustomDataset(val_messages, val_labels, tokenizer, MAX_LENGTH)\n",
    "    train_dataloader = DataLoader(train_dataset, batch_size=BATCH_SIZE, shuffle=True)\n",
    "    val_dataloader = DataLoader(val_dataset, batch_size=BATCH_SIZE)\n",
    "\n",
    "    NUM_LABELS = len(set(train_labels) | set(val_labels))\n",
    "    model = DebertaForSequenceClassification.from_pretrained('microsoft/deberta-base', num_labels=NUM_LABELS)\n",
    "    model.to(device)\n",
    "    optimizer = AdamW(model.parameters(), lr=5e-5, weight_decay=1e-2)\n",
    "    criterion = CrossEntropyLoss()\n",
    "\n",
    "    epoch_results = []\n",
    "    patience = 3\n",
    "    best_macro_f1 = 0\n",
    "    epochs_without_improvement = 0\n",
    "    \n",
    "    for epoch in range(EPOCHS):\n",
    "        print(f\"Epoch {epoch + 1}/{EPOCHS}\")\n",
    "        train_loss = train_epoch(model, train_dataloader, optimizer, criterion)\n",
    "        metrics = eval_model(model, val_dataloader, criterion, num_labels=NUM_LABELS)\n",
    "        epoch_results.append(metrics)\n",
    "        print(metrics)\n",
    "\n",
    "        current_macro_f1 = metrics[\"macro_f1-score\"]\n",
    "        \n",
    "        if current_macro_f1 > best_macro_f1:\n",
    "            best_macro_f1 = current_macro_f1  # 更新最佳 macro_f1-score\n",
    "            epochs_without_improvement = 0   # 重置計數\n",
    "        else:\n",
    "            epochs_without_improvement += 1  # 增加計數\n",
    "        \n",
    "        # 若連續 patience 3 次沒有提升，則停止訓練\n",
    "        if epochs_without_improvement >= patience:\n",
    "            print(f\"Early stopping triggered at epoch {epoch + 1}\")\n",
    "            break\n",
    "    \n",
    "    avg_metrics = {metric: np.mean([epoch[metric] for epoch in epoch_results]) for metric in epoch_results[0].keys()}\n",
    "    all_fold_results.append(avg_metrics)\n",
    "\n",
    "final_metrics = {metric: np.mean([result[metric] for result in all_fold_results]) for metric in all_fold_results[0].keys()}\n",
    "print(\"Final 10-fold Cross-Validation Results:\")\n",
    "for metric, value in final_metrics.items():\n",
    "    print(f\"{metric}: {value}\")"
   ]
  },
  {
   "cell_type": "code",
   "execution_count": 9,
   "id": "f8016681-94ee-4d35-81ac-9831d7172f0d",
   "metadata": {},
   "outputs": [
    {
     "data": {
      "text/plain": [
       "[{'val_loss': 1.4774756056366813,\n",
       "  'val_accuracy': 0.6568880292284548,\n",
       "  'precision': 0.6401314716642911,\n",
       "  'recall': 0.6568880292284548,\n",
       "  'f1-score': 0.6322768268287018,\n",
       "  'macro_f1-score': 0.33303717513584924,\n",
       "  'balanced_accuracy': 0.34832429625173766,\n",
       "  'mcc': 0.5484266492879084},\n",
       " {'val_loss': 1.4332616797186701,\n",
       "  'val_accuracy': 0.6721470019342359,\n",
       "  'precision': 0.6488852121264229,\n",
       "  'recall': 0.6721470019342359,\n",
       "  'f1-score': 0.6414772608431984,\n",
       "  'macro_f1-score': 0.3016922162270063,\n",
       "  'balanced_accuracy': 0.30441537918176204,\n",
       "  'mcc': 0.5526329841903413},\n",
       " {'val_loss': 1.3589874485534938,\n",
       "  'val_accuracy': 0.6804570527974784,\n",
       "  'precision': 0.6606165277994105,\n",
       "  'recall': 0.6804570527974784,\n",
       "  'f1-score': 0.6545120360882776,\n",
       "  'macro_f1-score': 0.2908324130689872,\n",
       "  'balanced_accuracy': 0.3119277966285385,\n",
       "  'mcc': 0.5577025770043781},\n",
       " {'val_loss': 1.3847410363346273,\n",
       "  'val_accuracy': 0.6744155503020752,\n",
       "  'precision': 0.6551956633205985,\n",
       "  'recall': 0.6744155503020752,\n",
       "  'f1-score': 0.6464052563406941,\n",
       "  'macro_f1-score': 0.3074678667357438,\n",
       "  'balanced_accuracy': 0.30826172434245963,\n",
       "  'mcc': 0.5573892907333319},\n",
       " {'val_loss': 1.4502425631583542,\n",
       "  'val_accuracy': 0.6774302620456467,\n",
       "  'precision': 0.6558764084193387,\n",
       "  'recall': 0.6774302620456467,\n",
       "  'f1-score': 0.6456473691671156,\n",
       "  'macro_f1-score': 0.3372863537188115,\n",
       "  'balanced_accuracy': 0.3371887256441712,\n",
       "  'mcc': 0.5670162009618328},\n",
       " {'val_loss': 1.518370049569015,\n",
       "  'val_accuracy': 0.6505234410559855,\n",
       "  'precision': 0.6305156374556236,\n",
       "  'recall': 0.6505234410559855,\n",
       "  'f1-score': 0.623847315620477,\n",
       "  'macro_f1-score': 0.3129053128691258,\n",
       "  'balanced_accuracy': 0.33631892008475417,\n",
       "  'mcc': 0.5386450846307843},\n",
       " {'val_loss': 1.3690064467560008,\n",
       "  'val_accuracy': 0.68801775147929,\n",
       "  'precision': 0.6840172753917324,\n",
       "  'recall': 0.68801775147929,\n",
       "  'f1-score': 0.6685443595242416,\n",
       "  'macro_f1-score': 0.34608580073409356,\n",
       "  'balanced_accuracy': 0.37542780659858,\n",
       "  'mcc': 0.5696660733795748},\n",
       " {'val_loss': 1.4985221291590312,\n",
       "  'val_accuracy': 0.6657342657342658,\n",
       "  'precision': 0.6414368877859355,\n",
       "  'recall': 0.6657342657342658,\n",
       "  'f1-score': 0.6392565385908181,\n",
       "  'macro_f1-score': 0.31716401686727264,\n",
       "  'balanced_accuracy': 0.3425578699271427,\n",
       "  'mcc': 0.5542457171349677},\n",
       " {'val_loss': 1.4797614750896664,\n",
       "  'val_accuracy': 0.6689771766694843,\n",
       "  'precision': 0.6428930367149573,\n",
       "  'recall': 0.6689771766694843,\n",
       "  'f1-score': 0.6375179595374025,\n",
       "  'macro_f1-score': 0.36470848749415596,\n",
       "  'balanced_accuracy': 0.3757456006869756,\n",
       "  'mcc': 0.5543978220602988},\n",
       " {'val_loss': 1.4992300485664942,\n",
       "  'val_accuracy': 0.6465841850457235,\n",
       "  'precision': 0.6142281347526439,\n",
       "  'recall': 0.6465841850457235,\n",
       "  'f1-score': 0.6104918924916811,\n",
       "  'macro_f1-score': 0.3326314090730199,\n",
       "  'balanced_accuracy': 0.3476750683784945,\n",
       "  'mcc': 0.5445526961794269}]"
      ]
     },
     "execution_count": 9,
     "metadata": {},
     "output_type": "execute_result"
    }
   ],
   "source": [
    "all_fold_results"
   ]
  }
 ],
 "metadata": {
  "kernelspec": {
   "display_name": "Python 3 (ipykernel)",
   "language": "python",
   "name": "python3"
  },
  "language_info": {
   "codemirror_mode": {
    "name": "ipython",
    "version": 3
   },
   "file_extension": ".py",
   "mimetype": "text/x-python",
   "name": "python",
   "nbconvert_exporter": "python",
   "pygments_lexer": "ipython3",
   "version": "3.11.9"
  }
 },
 "nbformat": 4,
 "nbformat_minor": 5
}
