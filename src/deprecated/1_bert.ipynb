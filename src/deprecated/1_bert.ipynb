{
 "cells": [
  {
   "cell_type": "code",
   "execution_count": 1,
   "id": "2e76aa66-729a-4bf9-98b9-61d8114e9f3a",
   "metadata": {},
   "outputs": [
    {
     "data": {
      "text/html": [
       "<div>\n",
       "<style scoped>\n",
       "    .dataframe tbody tr th:only-of-type {\n",
       "        vertical-align: middle;\n",
       "    }\n",
       "\n",
       "    .dataframe tbody tr th {\n",
       "        vertical-align: top;\n",
       "    }\n",
       "\n",
       "    .dataframe thead th {\n",
       "        text-align: right;\n",
       "    }\n",
       "</style>\n",
       "<table border=\"1\" class=\"dataframe\">\n",
       "  <thead>\n",
       "    <tr style=\"text-align: right;\">\n",
       "      <th></th>\n",
       "      <th>Inbound Message</th>\n",
       "      <th>Label</th>\n",
       "    </tr>\n",
       "  </thead>\n",
       "  <tbody>\n",
       "    <tr>\n",
       "      <th>0</th>\n",
       "      <td>login issue verified user details employee man...</td>\n",
       "      <td>0</td>\n",
       "    </tr>\n",
       "    <tr>\n",
       "      <th>1</th>\n",
       "      <td>outlook hello team meetings skype meetings etc...</td>\n",
       "      <td>0</td>\n",
       "    </tr>\n",
       "    <tr>\n",
       "      <th>2</th>\n",
       "      <td>cant log vpn cannot log vpn best</td>\n",
       "      <td>0</td>\n",
       "    </tr>\n",
       "    <tr>\n",
       "      <th>3</th>\n",
       "      <td>unable access tool page unable access tool page</td>\n",
       "      <td>0</td>\n",
       "    </tr>\n",
       "    <tr>\n",
       "      <th>4</th>\n",
       "      <td>skype error skype error</td>\n",
       "      <td>0</td>\n",
       "    </tr>\n",
       "    <tr>\n",
       "      <th>...</th>\n",
       "      <td>...</td>\n",
       "      <td>...</td>\n",
       "    </tr>\n",
       "    <tr>\n",
       "      <th>8449</th>\n",
       "      <td>emails coming mail good afternoon receiving em...</td>\n",
       "      <td>22</td>\n",
       "    </tr>\n",
       "    <tr>\n",
       "      <th>8450</th>\n",
       "      <td>telephony software issue telephony software issue</td>\n",
       "      <td>0</td>\n",
       "    </tr>\n",
       "    <tr>\n",
       "      <th>8451</th>\n",
       "      <td>vip windows password reset tifpdchb pedxruyf v...</td>\n",
       "      <td>0</td>\n",
       "    </tr>\n",
       "    <tr>\n",
       "      <th>8452</th>\n",
       "      <td>machine est funcionando unable access machine ...</td>\n",
       "      <td>44</td>\n",
       "    </tr>\n",
       "    <tr>\n",
       "      <th>8453</th>\n",
       "      <td>mehreren lassen sich verschiedene prgramdntyme...</td>\n",
       "      <td>49</td>\n",
       "    </tr>\n",
       "  </tbody>\n",
       "</table>\n",
       "<p>8454 rows × 2 columns</p>\n",
       "</div>"
      ],
      "text/plain": [
       "                                        Inbound Message  Label\n",
       "0     login issue verified user details employee man...      0\n",
       "1     outlook hello team meetings skype meetings etc...      0\n",
       "2                      cant log vpn cannot log vpn best      0\n",
       "3       unable access tool page unable access tool page      0\n",
       "4                               skype error skype error      0\n",
       "...                                                 ...    ...\n",
       "8449  emails coming mail good afternoon receiving em...     22\n",
       "8450  telephony software issue telephony software issue      0\n",
       "8451  vip windows password reset tifpdchb pedxruyf v...      0\n",
       "8452  machine est funcionando unable access machine ...     44\n",
       "8453  mehreren lassen sich verschiedene prgramdntyme...     49\n",
       "\n",
       "[8454 rows x 2 columns]"
      ]
     },
     "execution_count": 1,
     "metadata": {},
     "output_type": "execute_result"
    }
   ],
   "source": [
    "import pandas as pd\n",
    "data_path = \"../../data/open_source_8454_combine_short_description.csv\"  # 替換為你的檔案路徑\n",
    "df = pd.read_csv(data_path)\n",
    "# df_label_0 = df[df[\"Label\"] == 0]\n",
    "# df_label_0_to_drop = df_label_0.sample(n=3000, random_state=42)\n",
    "# df = df.drop(df_label_0_to_drop.index)\n",
    "df"
   ]
  },
  {
   "cell_type": "markdown",
   "id": "e79be804-d1e3-463a-824f-d4765544e493",
   "metadata": {},
   "source": [
    "# 十折驗證法"
   ]
  },
  {
   "cell_type": "code",
   "execution_count": 2,
   "id": "7e6a5029-3898-4bab-8d6c-bfd1a3694153",
   "metadata": {},
   "outputs": [
    {
     "name": "stdout",
     "output_type": "stream",
     "text": [
      "Using device: cuda\n",
      "CUDA Available: True\n",
      "CUDA Device: NVIDIA GeForce RTX 3050 6GB Laptop GPU\n",
      "Current GPU Memory Allocated: 0.0 GB\n",
      "Current GPU Memory Cached: 0.0 GB\n"
     ]
    }
   ],
   "source": [
    "import torch\n",
    "device = torch.device('cuda') if torch.cuda.is_available() else torch.device('cpu')\n",
    "print(f\"Using device: {device}\") \n",
    "print(f\"CUDA Available: {torch.cuda.is_available()}\")\n",
    "print(f\"CUDA Device: {torch.cuda.get_device_name(0)}\")\n",
    "print(f\"Current GPU Memory Allocated: {torch.cuda.memory_allocated() / 1e9} GB\")\n",
    "print(f\"Current GPU Memory Cached: {torch.cuda.memory_reserved() / 1e9} GB\")"
   ]
  },
  {
   "cell_type": "code",
   "execution_count": 3,
   "id": "833a0227-7775-4659-a98c-48c3fbdc9db9",
   "metadata": {},
   "outputs": [],
   "source": [
    "from torch.utils.data import Dataset\n",
    "class CustomDataset(Dataset):\n",
    "    def __init__(self, messages, labels, tokenizer, max_length):\n",
    "        self.messages = messages\n",
    "        self.labels = labels\n",
    "        self.tokenizer = tokenizer\n",
    "        self.max_length = max_length\n",
    "\n",
    "    def __len__(self):\n",
    "        return len(self.messages)\n",
    "\n",
    "    def __getitem__(self, idx):\n",
    "        message = str(self.messages[idx])\n",
    "        label = self.labels[idx]\n",
    "        \n",
    "        encoding = self.tokenizer.encode_plus(\n",
    "            message,\n",
    "            max_length=self.max_length,\n",
    "            add_special_tokens=True,\n",
    "            padding='max_length',\n",
    "            truncation=True,\n",
    "            return_attention_mask=True,\n",
    "            return_tensors='pt'\n",
    "        )\n",
    "        \n",
    "        return {\n",
    "            'input_ids': encoding['input_ids'].flatten(),\n",
    "            'attention_mask': encoding['attention_mask'].flatten(),\n",
    "            'labels': torch.tensor(label, dtype=torch.long)\n",
    "        }"
   ]
  },
  {
   "cell_type": "code",
   "execution_count": 4,
   "id": "985bf187-a1b5-4882-9e52-2cbc0188e8a6",
   "metadata": {},
   "outputs": [],
   "source": [
    "# 定義訓練與評估函數\n",
    "def train_epoch(model, dataloader, optimizer, criterion):\n",
    "    model.train()\n",
    "    total_loss = 0\n",
    "\n",
    "    for batch in tqdm(dataloader):\n",
    "        optimizer.zero_grad()\n",
    "\n",
    "        input_ids = batch['input_ids'].to(device)\n",
    "        attention_mask = batch['attention_mask'].to(device)\n",
    "        labels = batch['labels'].to(device)\n",
    "\n",
    "        outputs = model(input_ids=input_ids, attention_mask=attention_mask, labels=labels)\n",
    "        loss = outputs.loss\n",
    "        total_loss += loss.item()\n",
    "\n",
    "        loss.backward()\n",
    "        optimizer.step()\n",
    "    \n",
    "    return total_loss / len(dataloader)"
   ]
  },
  {
   "cell_type": "code",
   "execution_count": 5,
   "id": "7dceb8a1-edf1-42fe-ac48-dc84ed4709cf",
   "metadata": {},
   "outputs": [],
   "source": [
    "from sklearn.metrics import precision_score, recall_score, f1_score, balanced_accuracy_score, matthews_corrcoef\n",
    "from sklearn.preprocessing import label_binarize\n",
    "import numpy as np\n",
    "import torch\n",
    "\n",
    "def eval_model(model, dataloader, criterion, num_labels):\n",
    "    model.eval()\n",
    "    total_loss = 0\n",
    "    all_labels = []\n",
    "    all_preds = []\n",
    "    all_probs = []\n",
    "    \n",
    "    with torch.no_grad():\n",
    "        for batch in dataloader:\n",
    "            input_ids = batch['input_ids'].to(device)\n",
    "            attention_mask = batch['attention_mask'].to(device)\n",
    "            labels = batch['labels'].to(device)\n",
    "\n",
    "            outputs = model(input_ids=input_ids, attention_mask=attention_mask)\n",
    "            logits = outputs.logits\n",
    "            loss = criterion(logits, labels)\n",
    "            total_loss += loss.item()\n",
    "\n",
    "            probs = torch.softmax(logits, dim=1)\n",
    "            _, preds = torch.max(logits, dim=1)\n",
    "\n",
    "            all_labels.extend(labels.cpu().numpy())\n",
    "            all_preds.extend(preds.cpu().numpy())\n",
    "            all_probs.extend(probs.cpu().numpy())\n",
    "\n",
    "    val_loss = total_loss / len(dataloader)\n",
    "    val_accuracy = np.mean(np.array(all_preds) == np.array(all_labels))\n",
    "    precision = precision_score(all_labels, all_preds, average='weighted', zero_division=0)\n",
    "    recall = recall_score(all_labels, all_preds, average='weighted', zero_division=0)\n",
    "    f1 = f1_score(all_labels, all_preds, average='weighted', zero_division=0)\n",
    "    macro_f1 = f1_score(all_labels, all_preds, average='macro', zero_division=0)\n",
    "    balanced_acc = balanced_accuracy_score(all_labels, all_preds)\n",
    "    mcc = matthews_corrcoef(all_labels, all_preds)\n",
    "\n",
    "    return {\n",
    "        \"val_loss\": val_loss,\n",
    "        \"val_accuracy\": val_accuracy,\n",
    "        \"precision\": precision,\n",
    "        \"recall\": recall,\n",
    "        \"f1-score\": f1,\n",
    "        \"macro_f1-score\": macro_f1,\n",
    "        \"balanced_accuracy\": balanced_acc,\n",
    "        \"mcc\": mcc\n",
    "    }"
   ]
  },
  {
   "cell_type": "code",
   "execution_count": 6,
   "id": "0217a72c-db4d-4875-8a00-33f2dae9de5e",
   "metadata": {},
   "outputs": [],
   "source": [
    "from transformers import BertTokenizer, BertForSequenceClassification\n",
    "from sklearn.model_selection import KFold\n",
    "# 設定參數\n",
    "MAX_LENGTH = 128\n",
    "BATCH_SIZE = 16\n",
    "EPOCHS = 20\n",
    "\n",
    "# 初始化 BERT 的 tokenizer\n",
    "tokenizer = BertTokenizer.from_pretrained('bert-base-uncased')\n",
    "\n",
    "# 初始化數據\n",
    "messages = df['Inbound Message'].tolist()\n",
    "labels = df['Label'].tolist()\n",
    "\n",
    "# KFold 初始化\n",
    "kf = KFold(n_splits=10, shuffle=True, random_state=42)"
   ]
  },
  {
   "cell_type": "code",
   "execution_count": 7,
   "id": "ee99c1b8-2fc7-483a-8cb6-d375039c6cb1",
   "metadata": {
    "scrolled": true
   },
   "outputs": [
    {
     "name": "stdout",
     "output_type": "stream",
     "text": [
      "Fold 1\n",
      "Training set label distribution: {0: 3585, 1: 28, 2: 123, 3: 26, 4: 239, 5: 134, 6: 101, 7: 37, 8: 80, 9: 70, 10: 82, 11: 199, 12: 209, 13: 34, 14: 25, 15: 31, 16: 22, 17: 258, 18: 106, 19: 47, 20: 15, 21: 39, 22: 89, 23: 183, 24: 15, 25: 55, 26: 100, 27: 52, 28: 13, 29: 15, 30: 17, 31: 89, 32: 39, 33: 36, 34: 29, 35: 13, 36: 32, 37: 24, 38: 5, 39: 118, 40: 10, 41: 10, 42: 166, 43: 18, 44: 23, 45: 11, 46: 58, 47: 601, 48: 215, 49: 82}\n",
      "Validation set label distribution: {0: 389, 1: 3, 2: 17, 3: 4, 4: 18, 5: 11, 6: 17, 7: 2, 8: 5, 9: 11, 10: 6, 11: 16, 12: 32, 13: 2, 14: 4, 16: 3, 17: 31, 18: 10, 19: 9, 20: 3, 21: 5, 22: 8, 23: 17, 24: 5, 25: 8, 26: 7, 27: 9, 28: 2, 29: 1, 30: 2, 31: 11, 32: 6, 33: 4, 34: 8, 35: 2, 36: 3, 37: 3, 38: 2, 39: 11, 40: 4, 41: 1, 42: 18, 43: 2, 44: 2, 46: 10, 47: 60, 48: 37, 49: 5}\n"
     ]
    },
    {
     "name": "stderr",
     "output_type": "stream",
     "text": [
      "Some weights of BertForSequenceClassification were not initialized from the model checkpoint at bert-base-uncased and are newly initialized: ['classifier.bias', 'classifier.weight']\n",
      "You should probably TRAIN this model on a down-stream task to be able to use it for predictions and inference.\n"
     ]
    },
    {
     "name": "stdout",
     "output_type": "stream",
     "text": [
      "Epoch 1/20\n"
     ]
    },
    {
     "name": "stderr",
     "output_type": "stream",
     "text": [
      "100%|██████████| 476/476 [03:22<00:00,  2.35it/s]\n"
     ]
    },
    {
     "name": "stdout",
     "output_type": "stream",
     "text": [
      "{'val_loss': 1.5968256626489028, 'val_accuracy': 0.5945626477541371, 'precision': 0.45092886753169803, 'recall': 0.5945626477541371, 'f1-score': 0.5063891504880338, 'macro_f1-score': 0.11891580474464518, 'balanced_accuracy': 0.14033472496793956, 'mcc': 0.4392452156060018}\n",
      "Epoch 2/20\n"
     ]
    },
    {
     "name": "stderr",
     "output_type": "stream",
     "text": [
      "100%|██████████| 476/476 [03:19<00:00,  2.38it/s]\n"
     ]
    },
    {
     "name": "stdout",
     "output_type": "stream",
     "text": [
      "{'val_loss': 1.4162408405879758, 'val_accuracy': 0.6252955082742316, 'precision': 0.575135349752089, 'recall': 0.6252955082742316, 'f1-score': 0.5784020839971753, 'macro_f1-score': 0.21006052203593706, 'balanced_accuracy': 0.2219545114258755, 'mcc': 0.49547479923658316}\n",
      "Epoch 3/20\n"
     ]
    },
    {
     "name": "stderr",
     "output_type": "stream",
     "text": [
      "100%|██████████| 476/476 [03:21<00:00,  2.37it/s]\n"
     ]
    },
    {
     "name": "stdout",
     "output_type": "stream",
     "text": [
      "{'val_loss': 1.30622546740298, 'val_accuracy': 0.6583924349881797, 'precision': 0.6554836546576247, 'recall': 0.6583924349881797, 'f1-score': 0.6301990533884666, 'macro_f1-score': 0.2790576880084437, 'balanced_accuracy': 0.27597333767145915, 'mcc': 0.5440731150649506}\n",
      "Epoch 4/20\n"
     ]
    },
    {
     "name": "stderr",
     "output_type": "stream",
     "text": [
      "100%|██████████| 476/476 [03:22<00:00,  2.35it/s]\n",
      "D:\\Anaconda3\\envs\\cuda\\Lib\\site-packages\\sklearn\\metrics\\_classification.py:2458: UserWarning: y_pred contains classes not in y_true\n",
      "  warnings.warn(\"y_pred contains classes not in y_true\")\n"
     ]
    },
    {
     "name": "stdout",
     "output_type": "stream",
     "text": [
      "{'val_loss': 1.3258084463623334, 'val_accuracy': 0.6572104018912529, 'precision': 0.6539806992623677, 'recall': 0.6572104018912529, 'f1-score': 0.6322593321731379, 'macro_f1-score': 0.3094578693587608, 'balanced_accuracy': 0.33144676385402777, 'mcc': 0.5517929032419234}\n",
      "Epoch 5/20\n"
     ]
    },
    {
     "name": "stderr",
     "output_type": "stream",
     "text": [
      "100%|██████████| 476/476 [03:22<00:00,  2.35it/s]\n"
     ]
    },
    {
     "name": "stdout",
     "output_type": "stream",
     "text": [
      "{'val_loss': 1.4458488248429209, 'val_accuracy': 0.6453900709219859, 'precision': 0.6485867809427677, 'recall': 0.6453900709219859, 'f1-score': 0.6279249360708846, 'macro_f1-score': 0.33073006186096626, 'balanced_accuracy': 0.33232445035257446, 'mcc': 0.5323078391995689}\n",
      "Epoch 6/20\n"
     ]
    },
    {
     "name": "stderr",
     "output_type": "stream",
     "text": [
      "100%|██████████| 476/476 [03:21<00:00,  2.36it/s]\n",
      "D:\\Anaconda3\\envs\\cuda\\Lib\\site-packages\\sklearn\\metrics\\_classification.py:2458: UserWarning: y_pred contains classes not in y_true\n",
      "  warnings.warn(\"y_pred contains classes not in y_true\")\n"
     ]
    },
    {
     "name": "stdout",
     "output_type": "stream",
     "text": [
      "{'val_loss': 1.4893238291425526, 'val_accuracy': 0.6713947990543735, 'precision': 0.6894270539529662, 'recall': 0.6713947990543735, 'f1-score': 0.6561020357624134, 'macro_f1-score': 0.37886102535119165, 'balanced_accuracy': 0.38714860246787713, 'mcc': 0.5713893979040544}\n",
      "Epoch 7/20\n"
     ]
    },
    {
     "name": "stderr",
     "output_type": "stream",
     "text": [
      "100%|██████████| 476/476 [03:21<00:00,  2.36it/s]\n",
      "D:\\Anaconda3\\envs\\cuda\\Lib\\site-packages\\sklearn\\metrics\\_classification.py:2458: UserWarning: y_pred contains classes not in y_true\n",
      "  warnings.warn(\"y_pred contains classes not in y_true\")\n"
     ]
    },
    {
     "name": "stdout",
     "output_type": "stream",
     "text": [
      "{'val_loss': 1.5123448377510287, 'val_accuracy': 0.6678486997635934, 'precision': 0.6721588737453661, 'recall': 0.6678486997635934, 'f1-score': 0.6541210633835959, 'macro_f1-score': 0.3587615550978958, 'balanced_accuracy': 0.36177943214454195, 'mcc': 0.56650364731948}\n",
      "Epoch 8/20\n"
     ]
    },
    {
     "name": "stderr",
     "output_type": "stream",
     "text": [
      "100%|██████████| 476/476 [03:21<00:00,  2.36it/s]\n",
      "D:\\Anaconda3\\envs\\cuda\\Lib\\site-packages\\sklearn\\metrics\\_classification.py:2458: UserWarning: y_pred contains classes not in y_true\n",
      "  warnings.warn(\"y_pred contains classes not in y_true\")\n"
     ]
    },
    {
     "name": "stdout",
     "output_type": "stream",
     "text": [
      "{'val_loss': 1.6057439530795474, 'val_accuracy': 0.6678486997635934, 'precision': 0.6575592195893216, 'recall': 0.6678486997635934, 'f1-score': 0.6397105811171446, 'macro_f1-score': 0.34932912258366905, 'balanced_accuracy': 0.34093806664735693, 'mcc': 0.5563306895435666}\n",
      "Epoch 9/20\n"
     ]
    },
    {
     "name": "stderr",
     "output_type": "stream",
     "text": [
      "100%|██████████| 476/476 [03:22<00:00,  2.35it/s]\n",
      "D:\\Anaconda3\\envs\\cuda\\Lib\\site-packages\\sklearn\\metrics\\_classification.py:2458: UserWarning: y_pred contains classes not in y_true\n",
      "  warnings.warn(\"y_pred contains classes not in y_true\")\n"
     ]
    },
    {
     "name": "stdout",
     "output_type": "stream",
     "text": [
      "{'val_loss': 1.6575993968630738, 'val_accuracy': 0.6749408983451537, 'precision': 0.6853025814251182, 'recall': 0.6749408983451537, 'f1-score': 0.6607097909947163, 'macro_f1-score': 0.39842116114260184, 'balanced_accuracy': 0.403802087668591, 'mcc': 0.5735104455480633}\n",
      "Epoch 10/20\n"
     ]
    },
    {
     "name": "stderr",
     "output_type": "stream",
     "text": [
      "100%|██████████| 476/476 [03:22<00:00,  2.35it/s]\n",
      "D:\\Anaconda3\\envs\\cuda\\Lib\\site-packages\\sklearn\\metrics\\_classification.py:2458: UserWarning: y_pred contains classes not in y_true\n",
      "  warnings.warn(\"y_pred contains classes not in y_true\")\n"
     ]
    },
    {
     "name": "stdout",
     "output_type": "stream",
     "text": [
      "{'val_loss': 1.5992451894958064, 'val_accuracy': 0.6548463356973995, 'precision': 0.663435040186213, 'recall': 0.6548463356973995, 'f1-score': 0.6452437652406764, 'macro_f1-score': 0.3804215864465064, 'balanced_accuracy': 0.3907421272604934, 'mcc': 0.5537073700463201}\n",
      "Epoch 11/20\n"
     ]
    },
    {
     "name": "stderr",
     "output_type": "stream",
     "text": [
      "100%|██████████| 476/476 [03:22<00:00,  2.35it/s]\n",
      "D:\\Anaconda3\\envs\\cuda\\Lib\\site-packages\\sklearn\\metrics\\_classification.py:2458: UserWarning: y_pred contains classes not in y_true\n",
      "  warnings.warn(\"y_pred contains classes not in y_true\")\n"
     ]
    },
    {
     "name": "stdout",
     "output_type": "stream",
     "text": [
      "{'val_loss': 1.7261057720994049, 'val_accuracy': 0.6631205673758865, 'precision': 0.6752230945003137, 'recall': 0.6631205673758865, 'f1-score': 0.6469464465013228, 'macro_f1-score': 0.3779825976985772, 'balanced_accuracy': 0.36827055619530985, 'mcc': 0.5520896237967914}\n",
      "Epoch 12/20\n"
     ]
    },
    {
     "name": "stderr",
     "output_type": "stream",
     "text": [
      "100%|██████████| 476/476 [03:21<00:00,  2.36it/s]\n"
     ]
    },
    {
     "name": "stdout",
     "output_type": "stream",
     "text": [
      "{'val_loss': 1.6797325003821895, 'val_accuracy': 0.6843971631205674, 'precision': 0.6873764970619185, 'recall': 0.6843971631205674, 'f1-score': 0.6744137916663622, 'macro_f1-score': 0.45138170274995315, 'balanced_accuracy': 0.45360005582227175, 'mcc': 0.590993479401022}\n",
      "Epoch 13/20\n"
     ]
    },
    {
     "name": "stderr",
     "output_type": "stream",
     "text": [
      "100%|██████████| 476/476 [03:21<00:00,  2.36it/s]\n",
      "D:\\Anaconda3\\envs\\cuda\\Lib\\site-packages\\sklearn\\metrics\\_classification.py:2458: UserWarning: y_pred contains classes not in y_true\n",
      "  warnings.warn(\"y_pred contains classes not in y_true\")\n"
     ]
    },
    {
     "name": "stdout",
     "output_type": "stream",
     "text": [
      "{'val_loss': 1.73688806972976, 'val_accuracy': 0.6796690307328606, 'precision': 0.6947757304792783, 'recall': 0.6796690307328606, 'f1-score': 0.6690544114224142, 'macro_f1-score': 0.3924856328736789, 'balanced_accuracy': 0.40481389291542563, 'mcc': 0.5814637215958357}\n",
      "Epoch 14/20\n"
     ]
    },
    {
     "name": "stderr",
     "output_type": "stream",
     "text": [
      "100%|██████████| 476/476 [03:21<00:00,  2.36it/s]\n"
     ]
    },
    {
     "name": "stdout",
     "output_type": "stream",
     "text": [
      "{'val_loss': 1.7228276504660553, 'val_accuracy': 0.6702127659574468, 'precision': 0.6749017544193118, 'recall': 0.6702127659574468, 'f1-score': 0.6583887809674571, 'macro_f1-score': 0.43947766729842036, 'balanced_accuracy': 0.4398379828874157, 'mcc': 0.566419815131082}\n",
      "Epoch 15/20\n"
     ]
    },
    {
     "name": "stderr",
     "output_type": "stream",
     "text": [
      "100%|██████████| 476/476 [03:21<00:00,  2.36it/s]\n",
      "D:\\Anaconda3\\envs\\cuda\\Lib\\site-packages\\sklearn\\metrics\\_classification.py:2458: UserWarning: y_pred contains classes not in y_true\n",
      "  warnings.warn(\"y_pred contains classes not in y_true\")\n"
     ]
    },
    {
     "name": "stdout",
     "output_type": "stream",
     "text": [
      "{'val_loss': 1.8550289031469598, 'val_accuracy': 0.6643026004728132, 'precision': 0.6706364124691336, 'recall': 0.6643026004728132, 'f1-score': 0.6494939586285599, 'macro_f1-score': 0.3674901127096101, 'balanced_accuracy': 0.3730427454746676, 'mcc': 0.5568393450507598}\n",
      "Early stopping triggered at epoch 15\n",
      "Fold 2\n",
      "Training set label distribution: {0: 3566, 1: 30, 2: 117, 3: 24, 4: 238, 5: 133, 6: 110, 7: 36, 8: 72, 9: 73, 10: 77, 11: 192, 12: 221, 13: 35, 14: 29, 15: 27, 16: 24, 17: 263, 18: 107, 19: 51, 20: 17, 21: 41, 22: 89, 23: 185, 24: 18, 25: 56, 26: 92, 27: 52, 28: 12, 29: 15, 30: 18, 31: 92, 32: 41, 33: 38, 34: 34, 35: 13, 36: 33, 37: 24, 38: 5, 39: 116, 40: 14, 41: 9, 42: 168, 43: 16, 44: 22, 45: 11, 46: 60, 47: 591, 48: 224, 49: 77}\n",
      "Validation set label distribution: {0: 408, 1: 1, 2: 23, 3: 6, 4: 19, 5: 12, 6: 8, 7: 3, 8: 13, 9: 8, 10: 11, 11: 23, 12: 20, 13: 1, 15: 4, 16: 1, 17: 26, 18: 9, 19: 5, 20: 1, 21: 3, 22: 8, 23: 15, 24: 2, 25: 7, 26: 15, 27: 9, 28: 3, 29: 1, 30: 1, 31: 8, 32: 4, 33: 2, 34: 3, 35: 2, 36: 2, 37: 3, 38: 2, 39: 13, 41: 2, 42: 16, 43: 4, 44: 3, 46: 8, 47: 70, 48: 28, 49: 10}\n"
     ]
    },
    {
     "name": "stderr",
     "output_type": "stream",
     "text": [
      "Some weights of BertForSequenceClassification were not initialized from the model checkpoint at bert-base-uncased and are newly initialized: ['classifier.bias', 'classifier.weight']\n",
      "You should probably TRAIN this model on a down-stream task to be able to use it for predictions and inference.\n"
     ]
    },
    {
     "name": "stdout",
     "output_type": "stream",
     "text": [
      "Epoch 1/20\n"
     ]
    },
    {
     "name": "stderr",
     "output_type": "stream",
     "text": [
      "100%|██████████| 476/476 [03:21<00:00,  2.36it/s]\n"
     ]
    },
    {
     "name": "stdout",
     "output_type": "stream",
     "text": [
      "{'val_loss': 1.512688933678393, 'val_accuracy': 0.6193853427895981, 'precision': 0.4670486166556818, 'recall': 0.6193853427895981, 'f1-score': 0.5113546027945122, 'macro_f1-score': 0.1112839897766593, 'balanced_accuracy': 0.11538824966443299, 'mcc': 0.4379079352178661}\n",
      "Epoch 2/20\n"
     ]
    },
    {
     "name": "stderr",
     "output_type": "stream",
     "text": [
      "100%|██████████| 476/476 [03:22<00:00,  2.35it/s]\n"
     ]
    },
    {
     "name": "stdout",
     "output_type": "stream",
     "text": [
      "{'val_loss': 1.288216825363771, 'val_accuracy': 0.6619385342789598, 'precision': 0.5900700769003393, 'recall': 0.6619385342789598, 'f1-score': 0.6066867243603858, 'macro_f1-score': 0.18639195463489477, 'balanced_accuracy': 0.20546518030300676, 'mcc': 0.5277018428805968}\n",
      "Epoch 3/20\n"
     ]
    },
    {
     "name": "stderr",
     "output_type": "stream",
     "text": [
      "100%|██████████| 476/476 [03:20<00:00,  2.37it/s]\n"
     ]
    },
    {
     "name": "stdout",
     "output_type": "stream",
     "text": [
      "{'val_loss': 1.2717047488352038, 'val_accuracy': 0.6702127659574468, 'precision': 0.5921315106407061, 'recall': 0.6702127659574468, 'f1-score': 0.6170368420046447, 'macro_f1-score': 0.26015109633061007, 'balanced_accuracy': 0.26286890940362245, 'mcc': 0.5421301979967738}\n",
      "Epoch 4/20\n"
     ]
    },
    {
     "name": "stderr",
     "output_type": "stream",
     "text": [
      "100%|██████████| 476/476 [03:22<00:00,  2.35it/s]\n"
     ]
    },
    {
     "name": "stdout",
     "output_type": "stream",
     "text": [
      "{'val_loss': 1.2781901781289082, 'val_accuracy': 0.6548463356973995, 'precision': 0.6608734551705859, 'recall': 0.6548463356973995, 'f1-score': 0.6452743405637502, 'macro_f1-score': 0.2953684760354196, 'balanced_accuracy': 0.32407868062043194, 'mcc': 0.5414111460582763}\n",
      "Epoch 5/20\n"
     ]
    },
    {
     "name": "stderr",
     "output_type": "stream",
     "text": [
      "100%|██████████| 476/476 [03:22<00:00,  2.35it/s]\n"
     ]
    },
    {
     "name": "stdout",
     "output_type": "stream",
     "text": [
      "{'val_loss': 1.2905028082852095, 'val_accuracy': 0.6808510638297872, 'precision': 0.6721156423597826, 'recall': 0.6808510638297872, 'f1-score': 0.6657596033498835, 'macro_f1-score': 0.3356682400095803, 'balanced_accuracy': 0.34013711220735593, 'mcc': 0.5692193261821105}\n",
      "Epoch 6/20\n"
     ]
    },
    {
     "name": "stderr",
     "output_type": "stream",
     "text": [
      "100%|██████████| 476/476 [03:22<00:00,  2.36it/s]\n",
      "D:\\Anaconda3\\envs\\cuda\\Lib\\site-packages\\sklearn\\metrics\\_classification.py:2458: UserWarning: y_pred contains classes not in y_true\n",
      "  warnings.warn(\"y_pred contains classes not in y_true\")\n"
     ]
    },
    {
     "name": "stdout",
     "output_type": "stream",
     "text": [
      "{'val_loss': 1.4033415193827647, 'val_accuracy': 0.6548463356973995, 'precision': 0.6774537866303495, 'recall': 0.6548463356973995, 'f1-score': 0.6496131892683589, 'macro_f1-score': 0.3055353831580931, 'balanced_accuracy': 0.3362248356901642, 'mcc': 0.5490331759296065}\n",
      "Epoch 7/20\n"
     ]
    },
    {
     "name": "stderr",
     "output_type": "stream",
     "text": [
      "100%|██████████| 476/476 [03:21<00:00,  2.36it/s]\n",
      "D:\\Anaconda3\\envs\\cuda\\Lib\\site-packages\\sklearn\\metrics\\_classification.py:2458: UserWarning: y_pred contains classes not in y_true\n",
      "  warnings.warn(\"y_pred contains classes not in y_true\")\n"
     ]
    },
    {
     "name": "stdout",
     "output_type": "stream",
     "text": [
      "{'val_loss': 1.4059082601430282, 'val_accuracy': 0.6973995271867612, 'precision': 0.6948254417015723, 'recall': 0.6973995271867612, 'f1-score': 0.6674658168829775, 'macro_f1-score': 0.3630262503620299, 'balanced_accuracy': 0.3591678515610533, 'mcc': 0.5835959927167296}\n",
      "Epoch 8/20\n"
     ]
    },
    {
     "name": "stderr",
     "output_type": "stream",
     "text": [
      "100%|██████████| 476/476 [03:21<00:00,  2.36it/s]\n",
      "D:\\Anaconda3\\envs\\cuda\\Lib\\site-packages\\sklearn\\metrics\\_classification.py:2458: UserWarning: y_pred contains classes not in y_true\n",
      "  warnings.warn(\"y_pred contains classes not in y_true\")\n"
     ]
    },
    {
     "name": "stdout",
     "output_type": "stream",
     "text": [
      "{'val_loss': 1.5116385184931305, 'val_accuracy': 0.6843971631205674, 'precision': 0.6901707301462863, 'recall': 0.6843971631205674, 'f1-score': 0.6746919010390173, 'macro_f1-score': 0.346186044849513, 'balanced_accuracy': 0.367797624621658, 'mcc': 0.5815531590938333}\n",
      "Epoch 9/20\n"
     ]
    },
    {
     "name": "stderr",
     "output_type": "stream",
     "text": [
      "100%|██████████| 476/476 [03:21<00:00,  2.37it/s]\n",
      "D:\\Anaconda3\\envs\\cuda\\Lib\\site-packages\\sklearn\\metrics\\_classification.py:2458: UserWarning: y_pred contains classes not in y_true\n",
      "  warnings.warn(\"y_pred contains classes not in y_true\")\n"
     ]
    },
    {
     "name": "stdout",
     "output_type": "stream",
     "text": [
      "{'val_loss': 1.5667294421285953, 'val_accuracy': 0.6843971631205674, 'precision': 0.6927207072265775, 'recall': 0.6843971631205674, 'f1-score': 0.6721485334322702, 'macro_f1-score': 0.3779406435398503, 'balanced_accuracy': 0.39570213209337346, 'mcc': 0.5784555123015959}\n",
      "Epoch 10/20\n"
     ]
    },
    {
     "name": "stderr",
     "output_type": "stream",
     "text": [
      "100%|██████████| 476/476 [03:22<00:00,  2.35it/s]\n",
      "D:\\Anaconda3\\envs\\cuda\\Lib\\site-packages\\sklearn\\metrics\\_classification.py:2458: UserWarning: y_pred contains classes not in y_true\n",
      "  warnings.warn(\"y_pred contains classes not in y_true\")\n"
     ]
    },
    {
     "name": "stdout",
     "output_type": "stream",
     "text": [
      "{'val_loss': 1.6293591125956122, 'val_accuracy': 0.6879432624113475, 'precision': 0.6787089872643723, 'recall': 0.6879432624113475, 'f1-score': 0.663467341184963, 'macro_f1-score': 0.3458838162347668, 'balanced_accuracy': 0.36663828201627163, 'mcc': 0.5726015935037642}\n",
      "Epoch 11/20\n"
     ]
    },
    {
     "name": "stderr",
     "output_type": "stream",
     "text": [
      "100%|██████████| 476/476 [03:21<00:00,  2.36it/s]\n",
      "D:\\Anaconda3\\envs\\cuda\\Lib\\site-packages\\sklearn\\metrics\\_classification.py:2458: UserWarning: y_pred contains classes not in y_true\n",
      "  warnings.warn(\"y_pred contains classes not in y_true\")\n"
     ]
    },
    {
     "name": "stdout",
     "output_type": "stream",
     "text": [
      "{'val_loss': 1.55711892387777, 'val_accuracy': 0.6867612293144209, 'precision': 0.6896492741877945, 'recall': 0.6867612293144209, 'f1-score': 0.6657147486169466, 'macro_f1-score': 0.3583119561441786, 'balanced_accuracy': 0.3751241029454213, 'mcc': 0.5766535576454999}\n",
      "Epoch 12/20\n"
     ]
    },
    {
     "name": "stderr",
     "output_type": "stream",
     "text": [
      "100%|██████████| 476/476 [03:21<00:00,  2.36it/s]\n",
      "D:\\Anaconda3\\envs\\cuda\\Lib\\site-packages\\sklearn\\metrics\\_classification.py:2458: UserWarning: y_pred contains classes not in y_true\n",
      "  warnings.warn(\"y_pred contains classes not in y_true\")\n"
     ]
    },
    {
     "name": "stdout",
     "output_type": "stream",
     "text": [
      "{'val_loss': 1.6620737645985946, 'val_accuracy': 0.6808510638297872, 'precision': 0.6715579816465841, 'recall': 0.6808510638297872, 'f1-score': 0.6589074292314271, 'macro_f1-score': 0.347982555275153, 'balanced_accuracy': 0.3649287663067044, 'mcc': 0.5660453196127716}\n",
      "Early stopping triggered at epoch 12\n",
      "Fold 3\n",
      "Training set label distribution: {0: 3551, 1: 27, 2: 132, 3: 28, 4: 235, 5: 135, 6: 108, 7: 34, 8: 78, 9: 72, 10: 82, 11: 196, 12: 225, 13: 32, 14: 28, 15: 26, 16: 23, 17: 256, 18: 109, 19: 49, 20: 18, 21: 39, 22: 87, 23: 177, 24: 19, 25: 58, 26: 97, 27: 59, 28: 13, 29: 13, 30: 16, 31: 93, 32: 42, 33: 38, 34: 33, 35: 13, 36: 31, 37: 23, 38: 6, 39: 110, 40: 11, 41: 9, 42: 165, 43: 18, 44: 21, 45: 7, 46: 63, 47: 591, 48: 233, 49: 79}\n",
      "Validation set label distribution: {0: 423, 1: 4, 2: 8, 3: 2, 4: 22, 5: 10, 6: 10, 7: 5, 8: 7, 9: 9, 10: 6, 11: 19, 12: 16, 13: 4, 14: 1, 15: 5, 16: 2, 17: 33, 18: 7, 19: 7, 21: 5, 22: 10, 23: 23, 24: 1, 25: 5, 26: 10, 27: 2, 28: 2, 29: 3, 30: 3, 31: 7, 32: 3, 33: 2, 34: 4, 35: 2, 36: 4, 37: 4, 38: 1, 39: 19, 40: 3, 41: 2, 42: 19, 43: 2, 44: 4, 45: 4, 46: 5, 47: 70, 48: 19, 49: 8}\n"
     ]
    },
    {
     "name": "stderr",
     "output_type": "stream",
     "text": [
      "Some weights of BertForSequenceClassification were not initialized from the model checkpoint at bert-base-uncased and are newly initialized: ['classifier.bias', 'classifier.weight']\n",
      "You should probably TRAIN this model on a down-stream task to be able to use it for predictions and inference.\n"
     ]
    },
    {
     "name": "stdout",
     "output_type": "stream",
     "text": [
      "Epoch 1/20\n"
     ]
    },
    {
     "name": "stderr",
     "output_type": "stream",
     "text": [
      "100%|██████████| 476/476 [03:22<00:00,  2.35it/s]\n"
     ]
    },
    {
     "name": "stdout",
     "output_type": "stream",
     "text": [
      "{'val_loss': 1.4472295355122045, 'val_accuracy': 0.6631205673758865, 'precision': 0.5387148076583956, 'recall': 0.6631205673758865, 'f1-score': 0.5591842668149926, 'macro_f1-score': 0.12425975027835208, 'balanced_accuracy': 0.14606281270027494, 'mcc': 0.5008976101873628}\n",
      "Epoch 2/20\n"
     ]
    },
    {
     "name": "stderr",
     "output_type": "stream",
     "text": [
      "100%|██████████| 476/476 [03:21<00:00,  2.36it/s]\n"
     ]
    },
    {
     "name": "stdout",
     "output_type": "stream",
     "text": [
      "{'val_loss': 1.2977261385827694, 'val_accuracy': 0.6702127659574468, 'precision': 0.61788230639519, 'recall': 0.6702127659574468, 'f1-score': 0.6222244614558179, 'macro_f1-score': 0.19404135918309526, 'balanced_accuracy': 0.20459601790181448, 'mcc': 0.5319352649693009}\n",
      "Epoch 3/20\n"
     ]
    },
    {
     "name": "stderr",
     "output_type": "stream",
     "text": [
      "100%|██████████| 476/476 [03:21<00:00,  2.36it/s]\n"
     ]
    },
    {
     "name": "stdout",
     "output_type": "stream",
     "text": [
      "{'val_loss': 1.2252393311487053, 'val_accuracy': 0.7056737588652482, 'precision': 0.64473588474027, 'recall': 0.7056737588652482, 'f1-score': 0.6611065057741731, 'macro_f1-score': 0.2649451999653688, 'balanced_accuracy': 0.27137102418430076, 'mcc': 0.5813989902638242}\n",
      "Epoch 4/20\n"
     ]
    },
    {
     "name": "stderr",
     "output_type": "stream",
     "text": [
      "100%|██████████| 476/476 [03:21<00:00,  2.36it/s]\n"
     ]
    },
    {
     "name": "stdout",
     "output_type": "stream",
     "text": [
      "{'val_loss': 1.284039169549942, 'val_accuracy': 0.6666666666666666, 'precision': 0.6852663986395767, 'recall': 0.6666666666666666, 'f1-score': 0.6551334480417362, 'macro_f1-score': 0.29374066566700835, 'balanced_accuracy': 0.3080306482521507, 'mcc': 0.5469182842351668}\n",
      "Epoch 5/20\n"
     ]
    },
    {
     "name": "stderr",
     "output_type": "stream",
     "text": [
      "100%|██████████| 476/476 [03:22<00:00,  2.35it/s]\n"
     ]
    },
    {
     "name": "stdout",
     "output_type": "stream",
     "text": [
      "{'val_loss': 1.2720381380673849, 'val_accuracy': 0.6843971631205674, 'precision': 0.6842394239076326, 'recall': 0.6843971631205674, 'f1-score': 0.6616260850313342, 'macro_f1-score': 0.2974568362382431, 'balanced_accuracy': 0.29252511386514046, 'mcc': 0.5566444976575247}\n",
      "Epoch 6/20\n"
     ]
    },
    {
     "name": "stderr",
     "output_type": "stream",
     "text": [
      "100%|██████████| 476/476 [03:22<00:00,  2.35it/s]\n"
     ]
    },
    {
     "name": "stdout",
     "output_type": "stream",
     "text": [
      "{'val_loss': 1.3637747120744776, 'val_accuracy': 0.6973995271867612, 'precision': 0.7129831220934812, 'recall': 0.6973995271867612, 'f1-score': 0.6912869573450413, 'macro_f1-score': 0.37866085147726, 'balanced_accuracy': 0.38640550829067744, 'mcc': 0.5948937607434196}\n",
      "Epoch 7/20\n"
     ]
    },
    {
     "name": "stderr",
     "output_type": "stream",
     "text": [
      "100%|██████████| 476/476 [03:22<00:00,  2.35it/s]\n",
      "D:\\Anaconda3\\envs\\cuda\\Lib\\site-packages\\sklearn\\metrics\\_classification.py:2458: UserWarning: y_pred contains classes not in y_true\n",
      "  warnings.warn(\"y_pred contains classes not in y_true\")\n"
     ]
    },
    {
     "name": "stdout",
     "output_type": "stream",
     "text": [
      "{'val_loss': 1.4588085539498419, 'val_accuracy': 0.6713947990543735, 'precision': 0.7030437703203877, 'recall': 0.6713947990543735, 'f1-score': 0.676279264380433, 'macro_f1-score': 0.3427494805247606, 'balanced_accuracy': 0.37977269177519374, 'mcc': 0.5635687991068156}\n",
      "Epoch 8/20\n"
     ]
    },
    {
     "name": "stderr",
     "output_type": "stream",
     "text": [
      "100%|██████████| 476/476 [03:22<00:00,  2.35it/s]\n",
      "D:\\Anaconda3\\envs\\cuda\\Lib\\site-packages\\sklearn\\metrics\\_classification.py:2458: UserWarning: y_pred contains classes not in y_true\n",
      "  warnings.warn(\"y_pred contains classes not in y_true\")\n"
     ]
    },
    {
     "name": "stdout",
     "output_type": "stream",
     "text": [
      "{'val_loss': 1.4206835880594433, 'val_accuracy': 0.7021276595744681, 'precision': 0.7026105724273108, 'recall': 0.7021276595744681, 'f1-score': 0.684949879766308, 'macro_f1-score': 0.36442147096635447, 'balanced_accuracy': 0.37953914843711856, 'mcc': 0.5889986873234897}\n",
      "Epoch 9/20\n"
     ]
    },
    {
     "name": "stderr",
     "output_type": "stream",
     "text": [
      "100%|██████████| 476/476 [03:22<00:00,  2.35it/s]\n"
     ]
    },
    {
     "name": "stdout",
     "output_type": "stream",
     "text": [
      "{'val_loss': 1.49229860966498, 'val_accuracy': 0.6914893617021277, 'precision': 0.694714935815684, 'recall': 0.6914893617021277, 'f1-score': 0.6745170984354361, 'macro_f1-score': 0.352054235306413, 'balanced_accuracy': 0.35275226118786807, 'mcc': 0.5759139808448196}\n",
      "Early stopping triggered at epoch 9\n",
      "Fold 4\n",
      "Training set label distribution: {0: 3572, 1: 29, 2: 131, 3: 29, 4: 220, 5: 128, 6: 107, 7: 34, 8: 80, 9: 68, 10: 76, 11: 194, 12: 221, 13: 32, 14: 25, 15: 28, 16: 23, 17: 256, 18: 101, 19: 51, 20: 17, 21: 40, 22: 94, 23: 182, 24: 18, 25: 54, 26: 98, 27: 57, 28: 14, 29: 15, 30: 16, 31: 92, 32: 39, 33: 38, 34: 33, 35: 15, 36: 33, 37: 26, 38: 7, 39: 115, 40: 13, 41: 11, 42: 166, 43: 19, 44: 22, 45: 10, 46: 60, 47: 591, 48: 231, 49: 77}\n",
      "Validation set label distribution: {0: 402, 1: 2, 2: 9, 3: 1, 4: 37, 5: 17, 6: 11, 7: 5, 8: 5, 9: 13, 10: 12, 11: 21, 12: 20, 13: 4, 14: 4, 15: 3, 16: 2, 17: 33, 18: 15, 19: 5, 20: 1, 21: 4, 22: 3, 23: 18, 24: 2, 25: 9, 26: 9, 27: 4, 28: 1, 29: 1, 30: 3, 31: 8, 32: 6, 33: 2, 34: 4, 36: 2, 37: 1, 39: 14, 40: 1, 42: 18, 43: 1, 44: 3, 45: 1, 46: 8, 47: 70, 48: 21, 49: 10}\n"
     ]
    },
    {
     "name": "stderr",
     "output_type": "stream",
     "text": [
      "Some weights of BertForSequenceClassification were not initialized from the model checkpoint at bert-base-uncased and are newly initialized: ['classifier.bias', 'classifier.weight']\n",
      "You should probably TRAIN this model on a down-stream task to be able to use it for predictions and inference.\n"
     ]
    },
    {
     "name": "stdout",
     "output_type": "stream",
     "text": [
      "Epoch 1/20\n"
     ]
    },
    {
     "name": "stderr",
     "output_type": "stream",
     "text": [
      "100%|██████████| 476/476 [03:21<00:00,  2.36it/s]\n"
     ]
    },
    {
     "name": "stdout",
     "output_type": "stream",
     "text": [
      "{'val_loss': 1.4549154234382342, 'val_accuracy': 0.6418439716312057, 'precision': 0.5075997465385051, 'recall': 0.6418439716312057, 'f1-score': 0.5555721898195575, 'macro_f1-score': 0.12254368203711989, 'balanced_accuracy': 0.13693435827399922, 'mcc': 0.49031621934911346}\n",
      "Epoch 2/20\n"
     ]
    },
    {
     "name": "stderr",
     "output_type": "stream",
     "text": [
      "100%|██████████| 476/476 [03:21<00:00,  2.37it/s]\n"
     ]
    },
    {
     "name": "stdout",
     "output_type": "stream",
     "text": [
      "{'val_loss': 1.242837034306436, 'val_accuracy': 0.682033096926714, 'precision': 0.6196312508454919, 'recall': 0.682033096926714, 'f1-score': 0.6298567249198098, 'macro_f1-score': 0.2139897533863527, 'balanced_accuracy': 0.21372996183580306, 'mcc': 0.5581109571501819}\n",
      "Epoch 3/20\n"
     ]
    },
    {
     "name": "stderr",
     "output_type": "stream",
     "text": [
      "100%|██████████| 476/476 [03:20<00:00,  2.37it/s]\n"
     ]
    },
    {
     "name": "stdout",
     "output_type": "stream",
     "text": [
      "{'val_loss': 1.1352942335718084, 'val_accuracy': 0.6950354609929078, 'precision': 0.6490259320470404, 'recall': 0.6950354609929078, 'f1-score': 0.6626927433493985, 'macro_f1-score': 0.27158117077249794, 'balanced_accuracy': 0.27158182015232807, 'mcc': 0.5872996177189771}\n",
      "Epoch 4/20\n"
     ]
    },
    {
     "name": "stderr",
     "output_type": "stream",
     "text": [
      "100%|██████████| 476/476 [03:21<00:00,  2.36it/s]\n"
     ]
    },
    {
     "name": "stdout",
     "output_type": "stream",
     "text": [
      "{'val_loss': 1.2821966415306307, 'val_accuracy': 0.6761229314420804, 'precision': 0.6598475360947849, 'recall': 0.6761229314420804, 'f1-score': 0.6545512371184892, 'macro_f1-score': 0.29778475511151375, 'balanced_accuracy': 0.30401072505381993, 'mcc': 0.5631890848315521}\n",
      "Epoch 5/20\n"
     ]
    },
    {
     "name": "stderr",
     "output_type": "stream",
     "text": [
      "100%|██████████| 476/476 [03:21<00:00,  2.36it/s]\n"
     ]
    },
    {
     "name": "stdout",
     "output_type": "stream",
     "text": [
      "{'val_loss': 1.292673092124597, 'val_accuracy': 0.6997635933806147, 'precision': 0.680218454007177, 'recall': 0.6997635933806147, 'f1-score': 0.6751472939078701, 'macro_f1-score': 0.3407834050508149, 'balanced_accuracy': 0.340313953395604, 'mcc': 0.5909385588730829}\n",
      "Epoch 6/20\n"
     ]
    },
    {
     "name": "stderr",
     "output_type": "stream",
     "text": [
      "100%|██████████| 476/476 [03:21<00:00,  2.36it/s]\n"
     ]
    },
    {
     "name": "stdout",
     "output_type": "stream",
     "text": [
      "{'val_loss': 1.4521813302669886, 'val_accuracy': 0.6501182033096927, 'precision': 0.6996187987385655, 'recall': 0.6501182033096927, 'f1-score': 0.6572332637115974, 'macro_f1-score': 0.3566779059781407, 'balanced_accuracy': 0.3954293878322048, 'mcc': 0.5414762542012739}\n",
      "Epoch 7/20\n"
     ]
    },
    {
     "name": "stderr",
     "output_type": "stream",
     "text": [
      "100%|██████████| 476/476 [03:22<00:00,  2.35it/s]\n"
     ]
    },
    {
     "name": "stdout",
     "output_type": "stream",
     "text": [
      "{'val_loss': 1.4022424128258004, 'val_accuracy': 0.7009456264775413, 'precision': 0.6967781314390277, 'recall': 0.7009456264775413, 'f1-score': 0.6828345788919903, 'macro_f1-score': 0.3591895599430261, 'balanced_accuracy': 0.37036325113725965, 'mcc': 0.5991684014654918}\n",
      "Epoch 8/20\n"
     ]
    },
    {
     "name": "stderr",
     "output_type": "stream",
     "text": [
      "100%|██████████| 476/476 [03:21<00:00,  2.36it/s]\n"
     ]
    },
    {
     "name": "stdout",
     "output_type": "stream",
     "text": [
      "{'val_loss': 1.3834286651240204, 'val_accuracy': 0.6985815602836879, 'precision': 0.7235187805162133, 'recall': 0.6985815602836879, 'f1-score': 0.6936284558772837, 'macro_f1-score': 0.4515660186509565, 'balanced_accuracy': 0.4802895036101656, 'mcc': 0.597423614638409}\n",
      "Epoch 9/20\n"
     ]
    },
    {
     "name": "stderr",
     "output_type": "stream",
     "text": [
      "100%|██████████| 476/476 [03:22<00:00,  2.35it/s]\n",
      "D:\\Anaconda3\\envs\\cuda\\Lib\\site-packages\\sklearn\\metrics\\_classification.py:2458: UserWarning: y_pred contains classes not in y_true\n",
      "  warnings.warn(\"y_pred contains classes not in y_true\")\n"
     ]
    },
    {
     "name": "stdout",
     "output_type": "stream",
     "text": [
      "{'val_loss': 1.459166685927589, 'val_accuracy': 0.6784869976359338, 'precision': 0.6886630581980617, 'recall': 0.6784869976359338, 'f1-score': 0.670859071122504, 'macro_f1-score': 0.3458211950578823, 'balanced_accuracy': 0.3673852125339992, 'mcc': 0.571792301649064}\n",
      "Epoch 10/20\n"
     ]
    },
    {
     "name": "stderr",
     "output_type": "stream",
     "text": [
      "100%|██████████| 476/476 [03:21<00:00,  2.36it/s]\n",
      "D:\\Anaconda3\\envs\\cuda\\Lib\\site-packages\\sklearn\\metrics\\_classification.py:2458: UserWarning: y_pred contains classes not in y_true\n",
      "  warnings.warn(\"y_pred contains classes not in y_true\")\n"
     ]
    },
    {
     "name": "stdout",
     "output_type": "stream",
     "text": [
      "{'val_loss': 1.561813293341196, 'val_accuracy': 0.6773049645390071, 'precision': 0.6889032738906807, 'recall': 0.6773049645390071, 'f1-score': 0.6723160933796846, 'macro_f1-score': 0.38142584969546406, 'balanced_accuracy': 0.42611875689416645, 'mcc': 0.5758166772530784}\n",
      "Epoch 11/20\n"
     ]
    },
    {
     "name": "stderr",
     "output_type": "stream",
     "text": [
      "100%|██████████| 476/476 [03:21<00:00,  2.36it/s]\n"
     ]
    },
    {
     "name": "stdout",
     "output_type": "stream",
     "text": [
      "{'val_loss': 1.4475098144052163, 'val_accuracy': 0.6749408983451537, 'precision': 0.710837749607937, 'recall': 0.6749408983451537, 'f1-score': 0.6799031662449757, 'macro_f1-score': 0.3770636587728728, 'balanced_accuracy': 0.385834835215124, 'mcc': 0.5768541179882922}\n",
      "Early stopping triggered at epoch 11\n",
      "Fold 5\n",
      "Training set label distribution: {0: 3584, 1: 29, 2: 123, 3: 28, 4: 228, 5: 132, 6: 109, 7: 39, 8: 80, 9: 72, 10: 81, 11: 187, 12: 222, 13: 34, 14: 26, 15: 28, 16: 20, 17: 263, 18: 104, 19: 48, 20: 16, 21: 39, 22: 87, 23: 184, 24: 19, 25: 55, 26: 101, 27: 49, 28: 14, 29: 13, 30: 18, 31: 91, 32: 41, 33: 32, 34: 33, 35: 12, 36: 32, 37: 23, 38: 7, 39: 114, 40: 13, 41: 9, 42: 166, 43: 18, 44: 24, 45: 11, 46: 58, 47: 589, 48: 224, 49: 80}\n",
      "Validation set label distribution: {0: 390, 1: 2, 2: 17, 3: 2, 4: 29, 5: 13, 6: 9, 8: 5, 9: 9, 10: 7, 11: 28, 12: 19, 13: 2, 14: 3, 15: 3, 16: 5, 17: 26, 18: 12, 19: 8, 20: 2, 21: 5, 22: 10, 23: 16, 24: 1, 25: 8, 26: 6, 27: 12, 28: 1, 29: 3, 30: 1, 31: 9, 32: 4, 33: 8, 34: 4, 35: 3, 36: 3, 37: 4, 39: 15, 40: 1, 41: 2, 42: 18, 43: 2, 44: 1, 46: 10, 47: 72, 48: 28, 49: 7}\n"
     ]
    },
    {
     "name": "stderr",
     "output_type": "stream",
     "text": [
      "Some weights of BertForSequenceClassification were not initialized from the model checkpoint at bert-base-uncased and are newly initialized: ['classifier.bias', 'classifier.weight']\n",
      "You should probably TRAIN this model on a down-stream task to be able to use it for predictions and inference.\n"
     ]
    },
    {
     "name": "stdout",
     "output_type": "stream",
     "text": [
      "Epoch 1/20\n"
     ]
    },
    {
     "name": "stderr",
     "output_type": "stream",
     "text": [
      "100%|██████████| 476/476 [03:22<00:00,  2.35it/s]\n"
     ]
    },
    {
     "name": "stdout",
     "output_type": "stream",
     "text": [
      "{'val_loss': 1.5608869335561428, 'val_accuracy': 0.6201183431952663, 'precision': 0.47120085785708093, 'recall': 0.6201183431952663, 'f1-score': 0.526319532143067, 'macro_f1-score': 0.13282052654324147, 'balanced_accuracy': 0.13954182545508137, 'mcc': 0.46802192238932466}\n",
      "Epoch 2/20\n"
     ]
    },
    {
     "name": "stderr",
     "output_type": "stream",
     "text": [
      "100%|██████████| 476/476 [03:22<00:00,  2.35it/s]\n"
     ]
    },
    {
     "name": "stdout",
     "output_type": "stream",
     "text": [
      "{'val_loss': 1.3654147189743113, 'val_accuracy': 0.6497041420118344, 'precision': 0.5457152900365304, 'recall': 0.6497041420118344, 'f1-score': 0.5805860292903918, 'macro_f1-score': 0.20138285777327838, 'balanced_accuracy': 0.22317116721666758, 'mcc': 0.5257419471579692}\n",
      "Epoch 3/20\n"
     ]
    },
    {
     "name": "stderr",
     "output_type": "stream",
     "text": [
      "100%|██████████| 476/476 [03:21<00:00,  2.36it/s]\n"
     ]
    },
    {
     "name": "stdout",
     "output_type": "stream",
     "text": [
      "{'val_loss': 1.2753762597183012, 'val_accuracy': 0.6520710059171597, 'precision': 0.6467673208034493, 'recall': 0.6520710059171597, 'f1-score': 0.6192359940697651, 'macro_f1-score': 0.24688955556121764, 'balanced_accuracy': 0.2692277323213453, 'mcc': 0.5385442412464876}\n",
      "Epoch 4/20\n"
     ]
    },
    {
     "name": "stderr",
     "output_type": "stream",
     "text": [
      "100%|██████████| 476/476 [03:21<00:00,  2.36it/s]\n",
      "D:\\Anaconda3\\envs\\cuda\\Lib\\site-packages\\sklearn\\metrics\\_classification.py:2458: UserWarning: y_pred contains classes not in y_true\n",
      "  warnings.warn(\"y_pred contains classes not in y_true\")\n"
     ]
    },
    {
     "name": "stdout",
     "output_type": "stream",
     "text": [
      "{'val_loss': 1.3348021102401446, 'val_accuracy': 0.6863905325443787, 'precision': 0.6424944651975629, 'recall': 0.6863905325443787, 'f1-score': 0.6406611106908239, 'macro_f1-score': 0.2926987210335094, 'balanced_accuracy': 0.287913462633621, 'mcc': 0.573831725818585}\n",
      "Epoch 5/20\n"
     ]
    },
    {
     "name": "stderr",
     "output_type": "stream",
     "text": [
      "100%|██████████| 476/476 [03:22<00:00,  2.35it/s]\n"
     ]
    },
    {
     "name": "stdout",
     "output_type": "stream",
     "text": [
      "{'val_loss': 1.2861191658478863, 'val_accuracy': 0.6615384615384615, 'precision': 0.6882979047312742, 'recall': 0.6615384615384615, 'f1-score': 0.6509441130269296, 'macro_f1-score': 0.3344240291063275, 'balanced_accuracy': 0.34185061823335844, 'mcc': 0.5617875856036876}\n",
      "Epoch 6/20\n"
     ]
    },
    {
     "name": "stderr",
     "output_type": "stream",
     "text": [
      "100%|██████████| 476/476 [03:21<00:00,  2.36it/s]\n",
      "D:\\Anaconda3\\envs\\cuda\\Lib\\site-packages\\sklearn\\metrics\\_classification.py:2458: UserWarning: y_pred contains classes not in y_true\n",
      "  warnings.warn(\"y_pred contains classes not in y_true\")\n"
     ]
    },
    {
     "name": "stdout",
     "output_type": "stream",
     "text": [
      "{'val_loss': 1.3325596940967273, 'val_accuracy': 0.693491124260355, 'precision': 0.7005376734907134, 'recall': 0.693491124260355, 'f1-score': 0.6784544117098775, 'macro_f1-score': 0.3476157300252882, 'balanced_accuracy': 0.35806789524657145, 'mcc': 0.5963704867333862}\n",
      "Epoch 7/20\n"
     ]
    },
    {
     "name": "stderr",
     "output_type": "stream",
     "text": [
      "100%|██████████| 476/476 [03:22<00:00,  2.35it/s]\n",
      "D:\\Anaconda3\\envs\\cuda\\Lib\\site-packages\\sklearn\\metrics\\_classification.py:2458: UserWarning: y_pred contains classes not in y_true\n",
      "  warnings.warn(\"y_pred contains classes not in y_true\")\n"
     ]
    },
    {
     "name": "stdout",
     "output_type": "stream",
     "text": [
      "{'val_loss': 1.3923366553378556, 'val_accuracy': 0.6875739644970414, 'precision': 0.6838565195230623, 'recall': 0.6875739644970414, 'f1-score': 0.6652650569264232, 'macro_f1-score': 0.3514142122770858, 'balanced_accuracy': 0.3460878668698561, 'mcc': 0.5853794001296331}\n",
      "Epoch 8/20\n"
     ]
    },
    {
     "name": "stderr",
     "output_type": "stream",
     "text": [
      "100%|██████████| 476/476 [03:21<00:00,  2.36it/s]\n"
     ]
    },
    {
     "name": "stdout",
     "output_type": "stream",
     "text": [
      "{'val_loss': 1.406798743414429, 'val_accuracy': 0.6887573964497041, 'precision': 0.7059896865496311, 'recall': 0.6887573964497041, 'f1-score': 0.6770932882425788, 'macro_f1-score': 0.39521144531482727, 'balanced_accuracy': 0.3868148553106384, 'mcc': 0.5974582527532848}\n",
      "Epoch 9/20\n"
     ]
    },
    {
     "name": "stderr",
     "output_type": "stream",
     "text": [
      "100%|██████████| 476/476 [03:22<00:00,  2.36it/s]\n",
      "D:\\Anaconda3\\envs\\cuda\\Lib\\site-packages\\sklearn\\metrics\\_classification.py:2458: UserWarning: y_pred contains classes not in y_true\n",
      "  warnings.warn(\"y_pred contains classes not in y_true\")\n"
     ]
    },
    {
     "name": "stdout",
     "output_type": "stream",
     "text": [
      "{'val_loss': 1.447117621606251, 'val_accuracy': 0.6911242603550296, 'precision': 0.7213652210571339, 'recall': 0.6911242603550296, 'f1-score': 0.6869238478862629, 'macro_f1-score': 0.4025556641476449, 'balanced_accuracy': 0.412221521264699, 'mcc': 0.5979982933184067}\n",
      "Epoch 10/20\n"
     ]
    },
    {
     "name": "stderr",
     "output_type": "stream",
     "text": [
      "100%|██████████| 476/476 [03:22<00:00,  2.36it/s]\n",
      "D:\\Anaconda3\\envs\\cuda\\Lib\\site-packages\\sklearn\\metrics\\_classification.py:2458: UserWarning: y_pred contains classes not in y_true\n",
      "  warnings.warn(\"y_pred contains classes not in y_true\")\n"
     ]
    },
    {
     "name": "stdout",
     "output_type": "stream",
     "text": [
      "{'val_loss': 1.4333960773809902, 'val_accuracy': 0.6887573964497041, 'precision': 0.7061825080504569, 'recall': 0.6887573964497041, 'f1-score': 0.6797645861312599, 'macro_f1-score': 0.37087037507872306, 'balanced_accuracy': 0.3943127145113692, 'mcc': 0.5953244638563734}\n",
      "Epoch 11/20\n"
     ]
    },
    {
     "name": "stderr",
     "output_type": "stream",
     "text": [
      "100%|██████████| 476/476 [03:21<00:00,  2.36it/s]\n"
     ]
    },
    {
     "name": "stdout",
     "output_type": "stream",
     "text": [
      "{'val_loss': 1.4966640135027327, 'val_accuracy': 0.7005917159763314, 'precision': 0.6868027184190513, 'recall': 0.7005917159763314, 'f1-score': 0.677346428357368, 'macro_f1-score': 0.4145655075513105, 'balanced_accuracy': 0.39368250990557346, 'mcc': 0.602404169829954}\n",
      "Epoch 12/20\n"
     ]
    },
    {
     "name": "stderr",
     "output_type": "stream",
     "text": [
      "100%|██████████| 476/476 [03:21<00:00,  2.36it/s]\n"
     ]
    },
    {
     "name": "stdout",
     "output_type": "stream",
     "text": [
      "{'val_loss': 1.5550420571048305, 'val_accuracy': 0.6923076923076923, 'precision': 0.6869532344314033, 'recall': 0.6923076923076923, 'f1-score': 0.6660730871050637, 'macro_f1-score': 0.34514719766620755, 'balanced_accuracy': 0.33196368877784393, 'mcc': 0.5899439454094099}\n",
      "Epoch 13/20\n"
     ]
    },
    {
     "name": "stderr",
     "output_type": "stream",
     "text": [
      "100%|██████████| 476/476 [03:22<00:00,  2.35it/s]\n",
      "D:\\Anaconda3\\envs\\cuda\\Lib\\site-packages\\sklearn\\metrics\\_classification.py:2458: UserWarning: y_pred contains classes not in y_true\n",
      "  warnings.warn(\"y_pred contains classes not in y_true\")\n"
     ]
    },
    {
     "name": "stdout",
     "output_type": "stream",
     "text": [
      "{'val_loss': 1.6134220980248362, 'val_accuracy': 0.6958579881656805, 'precision': 0.708443326439828, 'recall': 0.6958579881656805, 'f1-score': 0.6877734503512852, 'macro_f1-score': 0.39866843738570834, 'balanced_accuracy': 0.403989565376133, 'mcc': 0.6004572398586261}\n",
      "Epoch 14/20\n"
     ]
    },
    {
     "name": "stderr",
     "output_type": "stream",
     "text": [
      "100%|██████████| 476/476 [03:21<00:00,  2.36it/s]\n",
      "D:\\Anaconda3\\envs\\cuda\\Lib\\site-packages\\sklearn\\metrics\\_classification.py:2458: UserWarning: y_pred contains classes not in y_true\n",
      "  warnings.warn(\"y_pred contains classes not in y_true\")\n"
     ]
    },
    {
     "name": "stdout",
     "output_type": "stream",
     "text": [
      "{'val_loss': 1.6924973518218633, 'val_accuracy': 0.6887573964497041, 'precision': 0.6962179555710613, 'recall': 0.6887573964497041, 'f1-score': 0.671046662575556, 'macro_f1-score': 0.3860495350352961, 'balanced_accuracy': 0.37323093453016515, 'mcc': 0.5828251036433657}\n",
      "Early stopping triggered at epoch 14\n",
      "Fold 6\n",
      "Training set label distribution: {0: 3585, 1: 25, 2: 126, 3: 26, 4: 228, 5: 128, 6: 104, 7: 35, 8: 76, 9: 76, 10: 80, 11: 185, 12: 218, 13: 31, 14: 24, 15: 28, 16: 23, 17: 261, 18: 104, 19: 51, 20: 17, 21: 40, 22: 88, 23: 180, 24: 19, 25: 59, 26: 95, 27: 54, 28: 15, 29: 16, 30: 17, 31: 85, 32: 40, 33: 35, 34: 33, 35: 15, 36: 34, 37: 24, 38: 7, 39: 116, 40: 14, 41: 7, 42: 171, 43: 20, 44: 25, 45: 10, 46: 59, 47: 591, 48: 229, 49: 80}\n",
      "Validation set label distribution: {0: 389, 1: 6, 2: 14, 3: 4, 4: 29, 5: 17, 6: 14, 7: 4, 8: 9, 9: 5, 10: 8, 11: 30, 12: 23, 13: 5, 14: 5, 15: 3, 16: 2, 17: 28, 18: 12, 19: 5, 20: 1, 21: 4, 22: 9, 23: 20, 24: 1, 25: 4, 26: 12, 27: 7, 30: 2, 31: 15, 32: 5, 33: 5, 34: 4, 36: 1, 37: 3, 39: 13, 41: 4, 42: 13, 45: 1, 46: 9, 47: 70, 48: 23, 49: 7}\n"
     ]
    },
    {
     "name": "stderr",
     "output_type": "stream",
     "text": [
      "Some weights of BertForSequenceClassification were not initialized from the model checkpoint at bert-base-uncased and are newly initialized: ['classifier.bias', 'classifier.weight']\n",
      "You should probably TRAIN this model on a down-stream task to be able to use it for predictions and inference.\n"
     ]
    },
    {
     "name": "stdout",
     "output_type": "stream",
     "text": [
      "Epoch 1/20\n"
     ]
    },
    {
     "name": "stderr",
     "output_type": "stream",
     "text": [
      "100%|██████████| 476/476 [03:21<00:00,  2.36it/s]\n"
     ]
    },
    {
     "name": "stdout",
     "output_type": "stream",
     "text": [
      "{'val_loss': 1.5692727723211612, 'val_accuracy': 0.6047337278106509, 'precision': 0.4605222880605418, 'recall': 0.6047337278106509, 'f1-score': 0.5030503071715787, 'macro_f1-score': 0.11210529007745085, 'balanced_accuracy': 0.13454275534852456, 'mcc': 0.4484048754290399}\n",
      "Epoch 2/20\n"
     ]
    },
    {
     "name": "stderr",
     "output_type": "stream",
     "text": [
      "100%|██████████| 476/476 [03:22<00:00,  2.35it/s]\n"
     ]
    },
    {
     "name": "stdout",
     "output_type": "stream",
     "text": [
      "{'val_loss': 1.3889069804605447, 'val_accuracy': 0.6284023668639053, 'precision': 0.5525322040758573, 'recall': 0.6284023668639053, 'f1-score': 0.5676736668103848, 'macro_f1-score': 0.2086322158894199, 'balanced_accuracy': 0.21442054917930298, 'mcc': 0.49141186412205756}\n",
      "Epoch 3/20\n"
     ]
    },
    {
     "name": "stderr",
     "output_type": "stream",
     "text": [
      "100%|██████████| 476/476 [03:22<00:00,  2.35it/s]\n"
     ]
    },
    {
     "name": "stdout",
     "output_type": "stream",
     "text": [
      "{'val_loss': 1.286848928568498, 'val_accuracy': 0.6473372781065089, 'precision': 0.6035595703612692, 'recall': 0.6473372781065089, 'f1-score': 0.6095948493101908, 'macro_f1-score': 0.25755697463371685, 'balanced_accuracy': 0.27352650274543444, 'mcc': 0.5282737522402344}\n",
      "Epoch 4/20\n"
     ]
    },
    {
     "name": "stderr",
     "output_type": "stream",
     "text": [
      "100%|██████████| 476/476 [03:22<00:00,  2.35it/s]\n"
     ]
    },
    {
     "name": "stdout",
     "output_type": "stream",
     "text": [
      "{'val_loss': 1.3295998033487573, 'val_accuracy': 0.6485207100591716, 'precision': 0.6420314556889466, 'recall': 0.6485207100591716, 'f1-score': 0.6319621758833718, 'macro_f1-score': 0.3239648546333773, 'balanced_accuracy': 0.3371129284414807, 'mcc': 0.5406102551150194}\n",
      "Epoch 5/20\n"
     ]
    },
    {
     "name": "stderr",
     "output_type": "stream",
     "text": [
      "100%|██████████| 476/476 [03:21<00:00,  2.36it/s]\n",
      "D:\\Anaconda3\\envs\\cuda\\Lib\\site-packages\\sklearn\\metrics\\_classification.py:2458: UserWarning: y_pred contains classes not in y_true\n",
      "  warnings.warn(\"y_pred contains classes not in y_true\")\n"
     ]
    },
    {
     "name": "stdout",
     "output_type": "stream",
     "text": [
      "{'val_loss': 1.314030610727814, 'val_accuracy': 0.659171597633136, 'precision': 0.668780149239897, 'recall': 0.659171597633136, 'f1-score': 0.6482159740757975, 'macro_f1-score': 0.35645615641732303, 'balanced_accuracy': 0.39765796818005295, 'mcc': 0.5697802199138334}\n",
      "Epoch 6/20\n"
     ]
    },
    {
     "name": "stderr",
     "output_type": "stream",
     "text": [
      "100%|██████████| 476/476 [03:22<00:00,  2.35it/s]\n",
      "D:\\Anaconda3\\envs\\cuda\\Lib\\site-packages\\sklearn\\metrics\\_classification.py:2458: UserWarning: y_pred contains classes not in y_true\n",
      "  warnings.warn(\"y_pred contains classes not in y_true\")\n"
     ]
    },
    {
     "name": "stdout",
     "output_type": "stream",
     "text": [
      "{'val_loss': 1.377120943564289, 'val_accuracy': 0.676923076923077, 'precision': 0.6572397581612899, 'recall': 0.676923076923077, 'f1-score': 0.653380256307739, 'macro_f1-score': 0.3322092377824032, 'balanced_accuracy': 0.3527753415671128, 'mcc': 0.5758915119419291}\n",
      "Epoch 7/20\n"
     ]
    },
    {
     "name": "stderr",
     "output_type": "stream",
     "text": [
      "100%|██████████| 476/476 [03:22<00:00,  2.35it/s]\n",
      "D:\\Anaconda3\\envs\\cuda\\Lib\\site-packages\\sklearn\\metrics\\_classification.py:2458: UserWarning: y_pred contains classes not in y_true\n",
      "  warnings.warn(\"y_pred contains classes not in y_true\")\n"
     ]
    },
    {
     "name": "stdout",
     "output_type": "stream",
     "text": [
      "{'val_loss': 1.5220451085072644, 'val_accuracy': 0.659171597633136, 'precision': 0.6743697415721112, 'recall': 0.659171597633136, 'f1-score': 0.6496461094643244, 'macro_f1-score': 0.3499785344181596, 'balanced_accuracy': 0.3888382796407233, 'mcc': 0.563575736679241}\n",
      "Epoch 8/20\n"
     ]
    },
    {
     "name": "stderr",
     "output_type": "stream",
     "text": [
      "100%|██████████| 476/476 [03:21<00:00,  2.36it/s]\n",
      "D:\\Anaconda3\\envs\\cuda\\Lib\\site-packages\\sklearn\\metrics\\_classification.py:2458: UserWarning: y_pred contains classes not in y_true\n",
      "  warnings.warn(\"y_pred contains classes not in y_true\")\n"
     ]
    },
    {
     "name": "stdout",
     "output_type": "stream",
     "text": [
      "{'val_loss': 1.3956512150899418, 'val_accuracy': 0.676923076923077, 'precision': 0.6816569307789182, 'recall': 0.676923076923077, 'f1-score': 0.6666188976528874, 'macro_f1-score': 0.370170689133775, 'balanced_accuracy': 0.39741459886515396, 'mcc': 0.576849968867156}\n",
      "Epoch 9/20\n"
     ]
    },
    {
     "name": "stderr",
     "output_type": "stream",
     "text": [
      "100%|██████████| 476/476 [03:22<00:00,  2.36it/s]\n",
      "D:\\Anaconda3\\envs\\cuda\\Lib\\site-packages\\sklearn\\metrics\\_classification.py:2458: UserWarning: y_pred contains classes not in y_true\n",
      "  warnings.warn(\"y_pred contains classes not in y_true\")\n"
     ]
    },
    {
     "name": "stdout",
     "output_type": "stream",
     "text": [
      "{'val_loss': 1.5339727255533326, 'val_accuracy': 0.6781065088757396, 'precision': 0.6698400997606077, 'recall': 0.6781065088757396, 'f1-score': 0.6553881280844411, 'macro_f1-score': 0.36079821032724013, 'balanced_accuracy': 0.37449629426643377, 'mcc': 0.5723792040348107}\n",
      "Epoch 10/20\n"
     ]
    },
    {
     "name": "stderr",
     "output_type": "stream",
     "text": [
      "100%|██████████| 476/476 [03:22<00:00,  2.35it/s]\n",
      "D:\\Anaconda3\\envs\\cuda\\Lib\\site-packages\\sklearn\\metrics\\_classification.py:2458: UserWarning: y_pred contains classes not in y_true\n",
      "  warnings.warn(\"y_pred contains classes not in y_true\")\n"
     ]
    },
    {
     "name": "stdout",
     "output_type": "stream",
     "text": [
      "{'val_loss': 1.5530732139101568, 'val_accuracy': 0.6579881656804734, 'precision': 0.6845508097646668, 'recall': 0.6579881656804734, 'f1-score': 0.65547776405642, 'macro_f1-score': 0.369941762606133, 'balanced_accuracy': 0.4147248907724319, 'mcc': 0.5645167222310719}\n",
      "Epoch 11/20\n"
     ]
    },
    {
     "name": "stderr",
     "output_type": "stream",
     "text": [
      "100%|██████████| 476/476 [03:22<00:00,  2.35it/s]\n",
      "D:\\Anaconda3\\envs\\cuda\\Lib\\site-packages\\sklearn\\metrics\\_classification.py:2458: UserWarning: y_pred contains classes not in y_true\n",
      "  warnings.warn(\"y_pred contains classes not in y_true\")\n"
     ]
    },
    {
     "name": "stdout",
     "output_type": "stream",
     "text": [
      "{'val_loss': 1.5957937094400514, 'val_accuracy': 0.6627218934911243, 'precision': 0.6810314900405589, 'recall': 0.6627218934911243, 'f1-score': 0.6577051204722729, 'macro_f1-score': 0.35843318895396614, 'balanced_accuracy': 0.3854911446659804, 'mcc': 0.5648565869944239}\n",
      "Early stopping triggered at epoch 11\n",
      "Fold 7\n",
      "Training set label distribution: {0: 3551, 1: 28, 2: 126, 3: 27, 4: 229, 5: 129, 6: 109, 7: 35, 8: 81, 9: 74, 10: 79, 11: 198, 12: 223, 13: 34, 14: 27, 15: 28, 16: 24, 17: 264, 18: 103, 19: 51, 20: 15, 21: 35, 22: 88, 23: 184, 24: 17, 25: 61, 26: 96, 27: 57, 28: 15, 29: 14, 30: 19, 31: 86, 32: 43, 33: 35, 34: 35, 35: 13, 36: 28, 37: 26, 38: 7, 39: 118, 40: 14, 41: 11, 42: 158, 43: 19, 44: 23, 45: 9, 46: 63, 47: 596, 48: 224, 49: 80}\n",
      "Validation set label distribution: {0: 423, 1: 3, 2: 14, 3: 3, 4: 28, 5: 16, 6: 9, 7: 4, 8: 4, 9: 7, 10: 9, 11: 17, 12: 18, 13: 2, 14: 2, 15: 3, 16: 1, 17: 25, 18: 13, 19: 5, 20: 3, 21: 9, 22: 9, 23: 16, 24: 3, 25: 2, 26: 11, 27: 4, 29: 2, 31: 14, 32: 2, 33: 5, 34: 2, 35: 2, 36: 7, 37: 1, 39: 11, 42: 26, 43: 1, 44: 2, 45: 2, 46: 5, 47: 65, 48: 28, 49: 7}\n"
     ]
    },
    {
     "name": "stderr",
     "output_type": "stream",
     "text": [
      "Some weights of BertForSequenceClassification were not initialized from the model checkpoint at bert-base-uncased and are newly initialized: ['classifier.bias', 'classifier.weight']\n",
      "You should probably TRAIN this model on a down-stream task to be able to use it for predictions and inference.\n"
     ]
    },
    {
     "name": "stdout",
     "output_type": "stream",
     "text": [
      "Epoch 1/20\n"
     ]
    },
    {
     "name": "stderr",
     "output_type": "stream",
     "text": [
      "100%|██████████| 476/476 [03:22<00:00,  2.35it/s]\n"
     ]
    },
    {
     "name": "stdout",
     "output_type": "stream",
     "text": [
      "{'val_loss': 1.4129267413661164, 'val_accuracy': 0.6366863905325444, 'precision': 0.5226102694150031, 'recall': 0.6366863905325444, 'f1-score': 0.5409192677428422, 'macro_f1-score': 0.127998081903714, 'balanced_accuracy': 0.14346584312333163, 'mcc': 0.46593896468633095}\n",
      "Epoch 2/20\n"
     ]
    },
    {
     "name": "stderr",
     "output_type": "stream",
     "text": [
      "100%|██████████| 476/476 [03:22<00:00,  2.35it/s]\n"
     ]
    },
    {
     "name": "stdout",
     "output_type": "stream",
     "text": [
      "{'val_loss': 1.216683400689431, 'val_accuracy': 0.672189349112426, 'precision': 0.5996859118495222, 'recall': 0.672189349112426, 'f1-score': 0.613906433723835, 'macro_f1-score': 0.22256024332569452, 'balanced_accuracy': 0.225884779816361, 'mcc': 0.5295879807776548}\n",
      "Epoch 3/20\n"
     ]
    },
    {
     "name": "stderr",
     "output_type": "stream",
     "text": [
      "100%|██████████| 476/476 [03:22<00:00,  2.35it/s]\n",
      "D:\\Anaconda3\\envs\\cuda\\Lib\\site-packages\\sklearn\\metrics\\_classification.py:2458: UserWarning: y_pred contains classes not in y_true\n",
      "  warnings.warn(\"y_pred contains classes not in y_true\")\n"
     ]
    },
    {
     "name": "stdout",
     "output_type": "stream",
     "text": [
      "{'val_loss': 1.2183220341520489, 'val_accuracy': 0.6650887573964497, 'precision': 0.6601696822572588, 'recall': 0.6650887573964497, 'f1-score': 0.6495065730108734, 'macro_f1-score': 0.2891998168222899, 'balanced_accuracy': 0.33454065750686524, 'mcc': 0.5448429508053634}\n",
      "Epoch 4/20\n"
     ]
    },
    {
     "name": "stderr",
     "output_type": "stream",
     "text": [
      "100%|██████████| 476/476 [03:22<00:00,  2.35it/s]\n"
     ]
    },
    {
     "name": "stdout",
     "output_type": "stream",
     "text": [
      "{'val_loss': 1.174738346405749, 'val_accuracy': 0.6650887573964497, 'precision': 0.6832375253860059, 'recall': 0.6650887573964497, 'f1-score': 0.6590006953923445, 'macro_f1-score': 0.33838624986758387, 'balanced_accuracy': 0.3655429926228842, 'mcc': 0.5492043946491486}\n",
      "Epoch 5/20\n"
     ]
    },
    {
     "name": "stderr",
     "output_type": "stream",
     "text": [
      "100%|██████████| 476/476 [03:22<00:00,  2.36it/s]\n"
     ]
    },
    {
     "name": "stdout",
     "output_type": "stream",
     "text": [
      "{'val_loss': 1.2335380197695966, 'val_accuracy': 0.6733727810650888, 'precision': 0.7028990842894525, 'recall': 0.6733727810650888, 'f1-score': 0.6683679586718713, 'macro_f1-score': 0.383834970496087, 'balanced_accuracy': 0.4150055828996171, 'mcc': 0.5597043766224116}\n",
      "Epoch 6/20\n"
     ]
    },
    {
     "name": "stderr",
     "output_type": "stream",
     "text": [
      "100%|██████████| 476/476 [03:22<00:00,  2.35it/s]\n",
      "D:\\Anaconda3\\envs\\cuda\\Lib\\site-packages\\sklearn\\metrics\\_classification.py:2458: UserWarning: y_pred contains classes not in y_true\n",
      "  warnings.warn(\"y_pred contains classes not in y_true\")\n"
     ]
    },
    {
     "name": "stdout",
     "output_type": "stream",
     "text": [
      "{'val_loss': 1.2785219999979127, 'val_accuracy': 0.6816568047337278, 'precision': 0.6711390473427359, 'recall': 0.6816568047337278, 'f1-score': 0.6619468646609263, 'macro_f1-score': 0.3193429715293517, 'balanced_accuracy': 0.3446760474803862, 'mcc': 0.5582132619364539}\n",
      "Epoch 7/20\n"
     ]
    },
    {
     "name": "stderr",
     "output_type": "stream",
     "text": [
      "100%|██████████| 476/476 [03:22<00:00,  2.35it/s]\n",
      "D:\\Anaconda3\\envs\\cuda\\Lib\\site-packages\\sklearn\\metrics\\_classification.py:2458: UserWarning: y_pred contains classes not in y_true\n",
      "  warnings.warn(\"y_pred contains classes not in y_true\")\n"
     ]
    },
    {
     "name": "stdout",
     "output_type": "stream",
     "text": [
      "{'val_loss': 1.3623669136245296, 'val_accuracy': 0.6828402366863905, 'precision': 0.703948305091241, 'recall': 0.6828402366863905, 'f1-score': 0.6746397450200153, 'macro_f1-score': 0.39938451341738257, 'balanced_accuracy': 0.4278832651070865, 'mcc': 0.5687797673746862}\n",
      "Epoch 8/20\n"
     ]
    },
    {
     "name": "stderr",
     "output_type": "stream",
     "text": [
      "100%|██████████| 476/476 [03:22<00:00,  2.35it/s]\n",
      "D:\\Anaconda3\\envs\\cuda\\Lib\\site-packages\\sklearn\\metrics\\_classification.py:2458: UserWarning: y_pred contains classes not in y_true\n",
      "  warnings.warn(\"y_pred contains classes not in y_true\")\n"
     ]
    },
    {
     "name": "stdout",
     "output_type": "stream",
     "text": [
      "{'val_loss': 1.3861566635797609, 'val_accuracy': 0.6745562130177515, 'precision': 0.693483327441207, 'recall': 0.6745562130177515, 'f1-score': 0.6708533572004319, 'macro_f1-score': 0.373494130220539, 'balanced_accuracy': 0.42470572959851227, 'mcc': 0.5642310058208984}\n",
      "Epoch 9/20\n"
     ]
    },
    {
     "name": "stderr",
     "output_type": "stream",
     "text": [
      "100%|██████████| 476/476 [03:22<00:00,  2.35it/s]\n",
      "D:\\Anaconda3\\envs\\cuda\\Lib\\site-packages\\sklearn\\metrics\\_classification.py:2458: UserWarning: y_pred contains classes not in y_true\n",
      "  warnings.warn(\"y_pred contains classes not in y_true\")\n"
     ]
    },
    {
     "name": "stdout",
     "output_type": "stream",
     "text": [
      "{'val_loss': 1.4108674357522208, 'val_accuracy': 0.676923076923077, 'precision': 0.71202017582616, 'recall': 0.676923076923077, 'f1-score': 0.6811692112178671, 'macro_f1-score': 0.3943372333242692, 'balanced_accuracy': 0.4446170182202722, 'mcc': 0.5754208831987853}\n",
      "Epoch 10/20\n"
     ]
    },
    {
     "name": "stderr",
     "output_type": "stream",
     "text": [
      "100%|██████████| 476/476 [03:22<00:00,  2.35it/s]\n",
      "D:\\Anaconda3\\envs\\cuda\\Lib\\site-packages\\sklearn\\metrics\\_classification.py:2458: UserWarning: y_pred contains classes not in y_true\n",
      "  warnings.warn(\"y_pred contains classes not in y_true\")\n"
     ]
    },
    {
     "name": "stdout",
     "output_type": "stream",
     "text": [
      "{'val_loss': 1.4635032269189943, 'val_accuracy': 0.6804733727810651, 'precision': 0.7012669548913538, 'recall': 0.6804733727810651, 'f1-score': 0.6805000034070888, 'macro_f1-score': 0.3904258621737757, 'balanced_accuracy': 0.4233755294906734, 'mcc': 0.5726370306795424}\n",
      "Early stopping triggered at epoch 10\n",
      "Fold 8\n",
      "Training set label distribution: {0: 3585, 1: 29, 2: 127, 3: 27, 4: 229, 5: 126, 6: 103, 7: 34, 8: 68, 9: 77, 10: 82, 11: 198, 12: 207, 13: 31, 14: 26, 15: 27, 16: 21, 17: 254, 18: 107, 19: 52, 20: 14, 21: 44, 22: 80, 23: 184, 24: 19, 25: 56, 26: 98, 27: 58, 28: 13, 29: 14, 30: 18, 31: 96, 32: 40, 33: 35, 34: 35, 35: 14, 36: 33, 37: 23, 38: 6, 39: 120, 40: 14, 41: 11, 42: 166, 43: 17, 44: 24, 45: 9, 46: 63, 47: 593, 48: 224, 49: 78}\n",
      "Validation set label distribution: {0: 389, 1: 2, 2: 13, 3: 3, 4: 28, 5: 19, 6: 15, 7: 5, 8: 17, 9: 4, 10: 6, 11: 17, 12: 34, 13: 5, 14: 3, 15: 4, 16: 4, 17: 35, 18: 9, 19: 4, 20: 4, 22: 17, 23: 16, 24: 1, 25: 7, 26: 9, 27: 3, 28: 2, 29: 2, 30: 1, 31: 4, 32: 5, 33: 5, 34: 2, 35: 1, 36: 2, 37: 4, 38: 1, 39: 9, 42: 18, 43: 3, 44: 1, 45: 2, 46: 5, 47: 68, 48: 28, 49: 9}\n"
     ]
    },
    {
     "name": "stderr",
     "output_type": "stream",
     "text": [
      "Some weights of BertForSequenceClassification were not initialized from the model checkpoint at bert-base-uncased and are newly initialized: ['classifier.bias', 'classifier.weight']\n",
      "You should probably TRAIN this model on a down-stream task to be able to use it for predictions and inference.\n"
     ]
    },
    {
     "name": "stdout",
     "output_type": "stream",
     "text": [
      "Epoch 1/20\n"
     ]
    },
    {
     "name": "stderr",
     "output_type": "stream",
     "text": [
      "100%|██████████| 476/476 [03:23<00:00,  2.34it/s]\n"
     ]
    },
    {
     "name": "stdout",
     "output_type": "stream",
     "text": [
      "{'val_loss': 1.6974996266500004, 'val_accuracy': 0.5928994082840237, 'precision': 0.4127651617785779, 'recall': 0.5928994082840237, 'f1-score': 0.47261772533583896, 'macro_f1-score': 0.1117021880512503, 'balanced_accuracy': 0.11279745869892802, 'mcc': 0.41134691016248676}\n",
      "Epoch 2/20\n"
     ]
    },
    {
     "name": "stderr",
     "output_type": "stream",
     "text": [
      "100%|██████████| 476/476 [03:22<00:00,  2.35it/s]\n"
     ]
    },
    {
     "name": "stdout",
     "output_type": "stream",
     "text": [
      "{'val_loss': 1.4299089942338332, 'val_accuracy': 0.6366863905325444, 'precision': 0.5307650181613942, 'recall': 0.6366863905325444, 'f1-score': 0.5581455646347975, 'macro_f1-score': 0.1817450902725054, 'balanced_accuracy': 0.19424085919718995, 'mcc': 0.49439848428237415}\n",
      "Epoch 3/20\n"
     ]
    },
    {
     "name": "stderr",
     "output_type": "stream",
     "text": [
      "100%|██████████| 476/476 [03:23<00:00,  2.34it/s]\n"
     ]
    },
    {
     "name": "stdout",
     "output_type": "stream",
     "text": [
      "{'val_loss': 1.2821834593449, 'val_accuracy': 0.6698224852071006, 'precision': 0.6492053960165871, 'recall': 0.6698224852071006, 'f1-score': 0.6400364550636432, 'macro_f1-score': 0.2917385408216639, 'balanced_accuracy': 0.30874767547005444, 'mcc': 0.5647155684882679}\n",
      "Epoch 4/20\n"
     ]
    },
    {
     "name": "stderr",
     "output_type": "stream",
     "text": [
      "100%|██████████| 476/476 [03:22<00:00,  2.35it/s]\n",
      "D:\\Anaconda3\\envs\\cuda\\Lib\\site-packages\\sklearn\\metrics\\_classification.py:2458: UserWarning: y_pred contains classes not in y_true\n",
      "  warnings.warn(\"y_pred contains classes not in y_true\")\n"
     ]
    },
    {
     "name": "stdout",
     "output_type": "stream",
     "text": [
      "{'val_loss': 1.3415554205201707, 'val_accuracy': 0.6579881656804734, 'precision': 0.6485520691961607, 'recall': 0.6579881656804734, 'f1-score': 0.642307878707815, 'macro_f1-score': 0.309905391396236, 'balanced_accuracy': 0.32631109461494534, 'mcc': 0.5495321090826497}\n",
      "Epoch 5/20\n"
     ]
    },
    {
     "name": "stderr",
     "output_type": "stream",
     "text": [
      "100%|██████████| 476/476 [03:21<00:00,  2.36it/s]\n",
      "D:\\Anaconda3\\envs\\cuda\\Lib\\site-packages\\sklearn\\metrics\\_classification.py:2458: UserWarning: y_pred contains classes not in y_true\n",
      "  warnings.warn(\"y_pred contains classes not in y_true\")\n"
     ]
    },
    {
     "name": "stdout",
     "output_type": "stream",
     "text": [
      "{'val_loss': 1.5684486070893846, 'val_accuracy': 0.6615384615384615, 'precision': 0.6464694522672775, 'recall': 0.6615384615384615, 'f1-score': 0.6322119183888332, 'macro_f1-score': 0.3304607519717651, 'balanced_accuracy': 0.3587556761389704, 'mcc': 0.5410221487136354}\n",
      "Epoch 6/20\n"
     ]
    },
    {
     "name": "stderr",
     "output_type": "stream",
     "text": [
      "100%|██████████| 476/476 [03:22<00:00,  2.35it/s]\n"
     ]
    },
    {
     "name": "stdout",
     "output_type": "stream",
     "text": [
      "{'val_loss': 1.5211443036513508, 'val_accuracy': 0.6887573964497041, 'precision': 0.6821222607984696, 'recall': 0.6887573964497041, 'f1-score': 0.6662501776045299, 'macro_f1-score': 0.36166713053851696, 'balanced_accuracy': 0.3562137917432953, 'mcc': 0.5817492275125338}\n",
      "Epoch 7/20\n"
     ]
    },
    {
     "name": "stderr",
     "output_type": "stream",
     "text": [
      "100%|██████████| 476/476 [03:22<00:00,  2.35it/s]\n",
      "D:\\Anaconda3\\envs\\cuda\\Lib\\site-packages\\sklearn\\metrics\\_classification.py:2458: UserWarning: y_pred contains classes not in y_true\n",
      "  warnings.warn(\"y_pred contains classes not in y_true\")\n"
     ]
    },
    {
     "name": "stdout",
     "output_type": "stream",
     "text": [
      "{'val_loss': 1.4839268515132509, 'val_accuracy': 0.6828402366863905, 'precision': 0.6842241236236761, 'recall': 0.6828402366863905, 'f1-score': 0.6688797072332984, 'macro_f1-score': 0.35598369769407007, 'balanced_accuracy': 0.3986419666032501, 'mcc': 0.5840639293030382}\n",
      "Epoch 8/20\n"
     ]
    },
    {
     "name": "stderr",
     "output_type": "stream",
     "text": [
      "100%|██████████| 476/476 [03:21<00:00,  2.36it/s]\n",
      "D:\\Anaconda3\\envs\\cuda\\Lib\\site-packages\\sklearn\\metrics\\_classification.py:2458: UserWarning: y_pred contains classes not in y_true\n",
      "  warnings.warn(\"y_pred contains classes not in y_true\")\n"
     ]
    },
    {
     "name": "stdout",
     "output_type": "stream",
     "text": [
      "{'val_loss': 1.5388616374078787, 'val_accuracy': 0.6757396449704142, 'precision': 0.6802549780343028, 'recall': 0.6757396449704142, 'f1-score': 0.6633210588931732, 'macro_f1-score': 0.37680391938427665, 'balanced_accuracy': 0.4291378223168256, 'mcc': 0.575135061782326}\n",
      "Epoch 9/20\n"
     ]
    },
    {
     "name": "stderr",
     "output_type": "stream",
     "text": [
      "100%|██████████| 476/476 [03:22<00:00,  2.35it/s]\n",
      "D:\\Anaconda3\\envs\\cuda\\Lib\\site-packages\\sklearn\\metrics\\_classification.py:2458: UserWarning: y_pred contains classes not in y_true\n",
      "  warnings.warn(\"y_pred contains classes not in y_true\")\n"
     ]
    },
    {
     "name": "stdout",
     "output_type": "stream",
     "text": [
      "{'val_loss': 1.594474175066318, 'val_accuracy': 0.6994082840236686, 'precision': 0.7108191319037659, 'recall': 0.6994082840236686, 'f1-score': 0.6917951394590259, 'macro_f1-score': 0.4296953014608788, 'balanced_accuracy': 0.4540869400026508, 'mcc': 0.6023646551027807}\n",
      "Epoch 10/20\n"
     ]
    },
    {
     "name": "stderr",
     "output_type": "stream",
     "text": [
      "100%|██████████| 476/476 [03:22<00:00,  2.35it/s]\n",
      "D:\\Anaconda3\\envs\\cuda\\Lib\\site-packages\\sklearn\\metrics\\_classification.py:2458: UserWarning: y_pred contains classes not in y_true\n",
      "  warnings.warn(\"y_pred contains classes not in y_true\")\n"
     ]
    },
    {
     "name": "stdout",
     "output_type": "stream",
     "text": [
      "{'val_loss': 1.740742082303425, 'val_accuracy': 0.6792899408284023, 'precision': 0.6953848379732015, 'recall': 0.6792899408284023, 'f1-score': 0.6674213170750883, 'macro_f1-score': 0.372131634044837, 'balanced_accuracy': 0.4100846339741414, 'mcc': 0.5731592201460279}\n",
      "Epoch 11/20\n"
     ]
    },
    {
     "name": "stderr",
     "output_type": "stream",
     "text": [
      "100%|██████████| 476/476 [03:22<00:00,  2.35it/s]\n",
      "D:\\Anaconda3\\envs\\cuda\\Lib\\site-packages\\sklearn\\metrics\\_classification.py:2458: UserWarning: y_pred contains classes not in y_true\n",
      "  warnings.warn(\"y_pred contains classes not in y_true\")\n"
     ]
    },
    {
     "name": "stdout",
     "output_type": "stream",
     "text": [
      "{'val_loss': 1.596037504807958, 'val_accuracy': 0.6840236686390533, 'precision': 0.6955602028738443, 'recall': 0.6840236686390533, 'f1-score': 0.6689828759517442, 'macro_f1-score': 0.3865582226878736, 'balanced_accuracy': 0.4308286226554018, 'mcc': 0.5825372082662127}\n",
      "Epoch 12/20\n"
     ]
    },
    {
     "name": "stderr",
     "output_type": "stream",
     "text": [
      "100%|██████████| 476/476 [03:21<00:00,  2.36it/s]\n",
      "D:\\Anaconda3\\envs\\cuda\\Lib\\site-packages\\sklearn\\metrics\\_classification.py:2458: UserWarning: y_pred contains classes not in y_true\n",
      "  warnings.warn(\"y_pred contains classes not in y_true\")\n"
     ]
    },
    {
     "name": "stdout",
     "output_type": "stream",
     "text": [
      "{'val_loss': 1.6833628387946002, 'val_accuracy': 0.6899408284023668, 'precision': 0.6905761816360231, 'recall': 0.6899408284023668, 'f1-score': 0.6792330474930908, 'macro_f1-score': 0.395396266449725, 'balanced_accuracy': 0.4423191793475396, 'mcc': 0.5918859798046034}\n",
      "Early stopping triggered at epoch 12\n",
      "Fold 9\n",
      "Training set label distribution: {0: 3574, 1: 29, 2: 128, 3: 26, 4: 234, 5: 130, 6: 103, 7: 34, 8: 77, 9: 74, 10: 74, 11: 193, 12: 214, 13: 30, 14: 27, 15: 26, 16: 22, 17: 266, 18: 104, 19: 51, 20: 18, 21: 40, 22: 87, 23: 170, 24: 18, 25: 55, 26: 90, 27: 58, 28: 12, 29: 14, 30: 16, 31: 88, 32: 40, 33: 36, 34: 34, 35: 13, 36: 29, 37: 24, 38: 7, 39: 121, 40: 12, 41: 11, 42: 167, 43: 16, 44: 20, 45: 11, 46: 64, 47: 614, 48: 232, 49: 76}\n",
      "Validation set label distribution: {0: 400, 1: 2, 2: 12, 3: 4, 4: 23, 5: 15, 6: 15, 7: 5, 8: 8, 9: 7, 10: 14, 11: 22, 12: 27, 13: 6, 14: 2, 15: 5, 16: 3, 17: 23, 18: 12, 19: 5, 21: 4, 22: 10, 23: 30, 24: 2, 25: 8, 26: 17, 27: 3, 28: 3, 29: 2, 30: 3, 31: 12, 32: 5, 33: 4, 34: 3, 35: 2, 36: 6, 37: 3, 39: 8, 40: 2, 42: 17, 43: 4, 44: 5, 46: 4, 47: 47, 48: 20, 49: 11}\n"
     ]
    },
    {
     "name": "stderr",
     "output_type": "stream",
     "text": [
      "Some weights of BertForSequenceClassification were not initialized from the model checkpoint at bert-base-uncased and are newly initialized: ['classifier.bias', 'classifier.weight']\n",
      "You should probably TRAIN this model on a down-stream task to be able to use it for predictions and inference.\n"
     ]
    },
    {
     "name": "stdout",
     "output_type": "stream",
     "text": [
      "Epoch 1/20\n"
     ]
    },
    {
     "name": "stderr",
     "output_type": "stream",
     "text": [
      "100%|██████████| 476/476 [03:22<00:00,  2.35it/s]\n"
     ]
    },
    {
     "name": "stdout",
     "output_type": "stream",
     "text": [
      "{'val_loss': 1.5765384300699774, 'val_accuracy': 0.6011834319526628, 'precision': 0.47547529648555487, 'recall': 0.6011834319526628, 'f1-score': 0.5206047197207534, 'macro_f1-score': 0.12775177934445078, 'balanced_accuracy': 0.1406320875573823, 'mcc': 0.43604194184673184}\n",
      "Epoch 2/20\n"
     ]
    },
    {
     "name": "stderr",
     "output_type": "stream",
     "text": [
      "100%|██████████| 476/476 [03:22<00:00,  2.36it/s]\n"
     ]
    },
    {
     "name": "stdout",
     "output_type": "stream",
     "text": [
      "{'val_loss': 1.3788303631656575, 'val_accuracy': 0.6201183431952663, 'precision': 0.538444764780327, 'recall': 0.6201183431952663, 'f1-score': 0.5615229751035404, 'macro_f1-score': 0.20012498256227024, 'balanced_accuracy': 0.22756329058363622, 'mcc': 0.4864890046117939}\n",
      "Epoch 3/20\n"
     ]
    },
    {
     "name": "stderr",
     "output_type": "stream",
     "text": [
      "100%|██████████| 476/476 [03:21<00:00,  2.36it/s]\n"
     ]
    },
    {
     "name": "stdout",
     "output_type": "stream",
     "text": [
      "{'val_loss': 1.3289430107710496, 'val_accuracy': 0.6402366863905326, 'precision': 0.5919998568555558, 'recall': 0.6402366863905326, 'f1-score': 0.5998055702442505, 'macro_f1-score': 0.27542906985787613, 'balanced_accuracy': 0.2808885756632024, 'mcc': 0.5167805301976925}\n",
      "Epoch 4/20\n"
     ]
    },
    {
     "name": "stderr",
     "output_type": "stream",
     "text": [
      "100%|██████████| 476/476 [03:21<00:00,  2.36it/s]\n"
     ]
    },
    {
     "name": "stdout",
     "output_type": "stream",
     "text": [
      "{'val_loss': 1.2538119588258132, 'val_accuracy': 0.659171597633136, 'precision': 0.6484226569824816, 'recall': 0.659171597633136, 'f1-score': 0.6384505529111012, 'macro_f1-score': 0.3288963841663319, 'balanced_accuracy': 0.3565854315440312, 'mcc': 0.5531724781977914}\n",
      "Epoch 5/20\n"
     ]
    },
    {
     "name": "stderr",
     "output_type": "stream",
     "text": [
      "100%|██████████| 476/476 [03:22<00:00,  2.35it/s]\n"
     ]
    },
    {
     "name": "stdout",
     "output_type": "stream",
     "text": [
      "{'val_loss': 1.413028190720756, 'val_accuracy': 0.6568047337278107, 'precision': 0.6341198722511763, 'recall': 0.6568047337278107, 'f1-score': 0.6238035661686409, 'macro_f1-score': 0.32533250233784405, 'balanced_accuracy': 0.33703018135255913, 'mcc': 0.5372994132009843}\n",
      "Epoch 6/20\n"
     ]
    },
    {
     "name": "stderr",
     "output_type": "stream",
     "text": [
      "100%|██████████| 476/476 [03:21<00:00,  2.36it/s]\n"
     ]
    },
    {
     "name": "stdout",
     "output_type": "stream",
     "text": [
      "{'val_loss': 1.3509667999339554, 'val_accuracy': 0.676923076923077, 'precision': 0.6666648697616839, 'recall': 0.676923076923077, 'f1-score': 0.6591418681767937, 'macro_f1-score': 0.42966286047421404, 'balanced_accuracy': 0.4311297837850996, 'mcc': 0.5671202694295424}\n",
      "Epoch 7/20\n"
     ]
    },
    {
     "name": "stderr",
     "output_type": "stream",
     "text": [
      "100%|██████████| 476/476 [03:22<00:00,  2.35it/s]\n"
     ]
    },
    {
     "name": "stdout",
     "output_type": "stream",
     "text": [
      "{'val_loss': 1.4896919662660022, 'val_accuracy': 0.6662721893491125, 'precision': 0.6663793535077949, 'recall': 0.6662721893491125, 'f1-score': 0.6370801409487401, 'macro_f1-score': 0.37730476029771726, 'balanced_accuracy': 0.3803159383691139, 'mcc': 0.5471684144241798}\n",
      "Epoch 8/20\n"
     ]
    },
    {
     "name": "stderr",
     "output_type": "stream",
     "text": [
      "100%|██████████| 476/476 [03:21<00:00,  2.36it/s]\n"
     ]
    },
    {
     "name": "stdout",
     "output_type": "stream",
     "text": [
      "{'val_loss': 1.4391717295039375, 'val_accuracy': 0.6863905325443787, 'precision': 0.6786794787669069, 'recall': 0.6863905325443787, 'f1-score': 0.6636628950094213, 'macro_f1-score': 0.4160192546523329, 'balanced_accuracy': 0.39847987360629583, 'mcc': 0.5781104128058496}\n",
      "Epoch 9/20\n"
     ]
    },
    {
     "name": "stderr",
     "output_type": "stream",
     "text": [
      "100%|██████████| 476/476 [03:21<00:00,  2.36it/s]\n"
     ]
    },
    {
     "name": "stdout",
     "output_type": "stream",
     "text": [
      "{'val_loss': 1.552272514984855, 'val_accuracy': 0.6710059171597633, 'precision': 0.6738176743586137, 'recall': 0.6710059171597633, 'f1-score': 0.6546156691159255, 'macro_f1-score': 0.4462504686144181, 'balanced_accuracy': 0.43297364198879207, 'mcc': 0.5610420651169769}\n",
      "Epoch 10/20\n"
     ]
    },
    {
     "name": "stderr",
     "output_type": "stream",
     "text": [
      "100%|██████████| 476/476 [03:22<00:00,  2.35it/s]\n",
      "D:\\Anaconda3\\envs\\cuda\\Lib\\site-packages\\sklearn\\metrics\\_classification.py:2458: UserWarning: y_pred contains classes not in y_true\n",
      "  warnings.warn(\"y_pred contains classes not in y_true\")\n"
     ]
    },
    {
     "name": "stdout",
     "output_type": "stream",
     "text": [
      "{'val_loss': 1.5762550156071502, 'val_accuracy': 0.672189349112426, 'precision': 0.658178699428333, 'recall': 0.672189349112426, 'f1-score': 0.6500355193649792, 'macro_f1-score': 0.3847760038835702, 'balanced_accuracy': 0.3863564955655375, 'mcc': 0.5591832458135083}\n",
      "Epoch 11/20\n"
     ]
    },
    {
     "name": "stderr",
     "output_type": "stream",
     "text": [
      "100%|██████████| 476/476 [03:22<00:00,  2.35it/s]\n",
      "D:\\Anaconda3\\envs\\cuda\\Lib\\site-packages\\sklearn\\metrics\\_classification.py:2458: UserWarning: y_pred contains classes not in y_true\n",
      "  warnings.warn(\"y_pred contains classes not in y_true\")\n"
     ]
    },
    {
     "name": "stdout",
     "output_type": "stream",
     "text": [
      "{'val_loss': 1.6353396790207557, 'val_accuracy': 0.6733727810650888, 'precision': 0.6587385295769055, 'recall': 0.6733727810650888, 'f1-score': 0.6540551958419373, 'macro_f1-score': 0.42517934736121427, 'balanced_accuracy': 0.4226794074134411, 'mcc': 0.5610221253296678}\n",
      "Epoch 12/20\n"
     ]
    },
    {
     "name": "stderr",
     "output_type": "stream",
     "text": [
      "100%|██████████| 476/476 [03:22<00:00,  2.35it/s]\n",
      "D:\\Anaconda3\\envs\\cuda\\Lib\\site-packages\\sklearn\\metrics\\_classification.py:2458: UserWarning: y_pred contains classes not in y_true\n",
      "  warnings.warn(\"y_pred contains classes not in y_true\")\n"
     ]
    },
    {
     "name": "stdout",
     "output_type": "stream",
     "text": [
      "{'val_loss': 1.5878734386192177, 'val_accuracy': 0.6899408284023668, 'precision': 0.6967716620037934, 'recall': 0.6899408284023668, 'f1-score': 0.6738863583602046, 'macro_f1-score': 0.4691180487786291, 'balanced_accuracy': 0.4429291769398525, 'mcc': 0.5806711234444658}\n",
      "Epoch 13/20\n"
     ]
    },
    {
     "name": "stderr",
     "output_type": "stream",
     "text": [
      "100%|██████████| 476/476 [03:22<00:00,  2.35it/s]\n",
      "D:\\Anaconda3\\envs\\cuda\\Lib\\site-packages\\sklearn\\metrics\\_classification.py:2458: UserWarning: y_pred contains classes not in y_true\n",
      "  warnings.warn(\"y_pred contains classes not in y_true\")\n"
     ]
    },
    {
     "name": "stdout",
     "output_type": "stream",
     "text": [
      "{'val_loss': 1.6381770532648519, 'val_accuracy': 0.6757396449704142, 'precision': 0.6790655627980449, 'recall': 0.6757396449704142, 'f1-score': 0.6660625851459914, 'macro_f1-score': 0.41937970241097755, 'balanced_accuracy': 0.4473697543778055, 'mcc': 0.5708726511180253}\n",
      "Epoch 14/20\n"
     ]
    },
    {
     "name": "stderr",
     "output_type": "stream",
     "text": [
      "100%|██████████| 476/476 [03:22<00:00,  2.35it/s]\n",
      "D:\\Anaconda3\\envs\\cuda\\Lib\\site-packages\\sklearn\\metrics\\_classification.py:2458: UserWarning: y_pred contains classes not in y_true\n",
      "  warnings.warn(\"y_pred contains classes not in y_true\")\n"
     ]
    },
    {
     "name": "stdout",
     "output_type": "stream",
     "text": [
      "{'val_loss': 1.6715561055912163, 'val_accuracy': 0.6887573964497041, 'precision': 0.7022947694843572, 'recall': 0.6887573964497041, 'f1-score': 0.6682560189455736, 'macro_f1-score': 0.42860421095148843, 'balanced_accuracy': 0.4291980132443164, 'mcc': 0.581644954921149}\n",
      "Epoch 15/20\n"
     ]
    },
    {
     "name": "stderr",
     "output_type": "stream",
     "text": [
      "100%|██████████| 476/476 [03:22<00:00,  2.35it/s]\n",
      "D:\\Anaconda3\\envs\\cuda\\Lib\\site-packages\\sklearn\\metrics\\_classification.py:2458: UserWarning: y_pred contains classes not in y_true\n",
      "  warnings.warn(\"y_pred contains classes not in y_true\")\n"
     ]
    },
    {
     "name": "stdout",
     "output_type": "stream",
     "text": [
      "{'val_loss': 1.767058734342737, 'val_accuracy': 0.6710059171597633, 'precision': 0.6582063669063299, 'recall': 0.6710059171597633, 'f1-score': 0.6455771921251189, 'macro_f1-score': 0.40458087083581157, 'balanced_accuracy': 0.40641996153521065, 'mcc': 0.5561509632971813}\n",
      "Early stopping triggered at epoch 15\n",
      "Fold 10\n",
      "Training set label distribution: {0: 3613, 1: 25, 2: 127, 3: 29, 4: 233, 5: 130, 6: 108, 7: 33, 8: 73, 9: 73, 10: 79, 11: 193, 12: 209, 13: 31, 14: 24, 15: 30, 16: 23, 17: 260, 18: 99, 19: 53, 20: 15, 21: 39, 22: 84, 23: 171, 24: 18, 25: 58, 26: 96, 27: 53, 28: 14, 29: 15, 30: 16, 31: 88, 32: 40, 33: 37, 34: 34, 35: 14, 36: 30, 37: 26, 38: 6, 39: 113, 40: 11, 41: 11, 42: 163, 43: 19, 44: 21, 45: 10, 46: 64, 47: 592, 48: 232, 49: 74}\n",
      "Validation set label distribution: {0: 361, 1: 6, 2: 13, 3: 1, 4: 24, 5: 15, 6: 10, 7: 6, 8: 12, 9: 8, 10: 9, 11: 22, 12: 32, 13: 5, 14: 5, 15: 1, 16: 2, 17: 29, 18: 17, 19: 3, 20: 3, 21: 5, 22: 13, 23: 29, 24: 2, 25: 5, 26: 11, 27: 8, 28: 1, 29: 1, 30: 3, 31: 12, 32: 5, 33: 3, 34: 3, 35: 1, 36: 5, 37: 1, 38: 1, 39: 16, 40: 3, 42: 21, 43: 1, 44: 4, 45: 1, 46: 4, 47: 69, 48: 20, 49: 13}\n"
     ]
    },
    {
     "name": "stderr",
     "output_type": "stream",
     "text": [
      "Some weights of BertForSequenceClassification were not initialized from the model checkpoint at bert-base-uncased and are newly initialized: ['classifier.bias', 'classifier.weight']\n",
      "You should probably TRAIN this model on a down-stream task to be able to use it for predictions and inference.\n"
     ]
    },
    {
     "name": "stdout",
     "output_type": "stream",
     "text": [
      "Epoch 1/20\n"
     ]
    },
    {
     "name": "stderr",
     "output_type": "stream",
     "text": [
      "100%|██████████| 476/476 [03:22<00:00,  2.36it/s]\n"
     ]
    },
    {
     "name": "stdout",
     "output_type": "stream",
     "text": [
      "{'val_loss': 1.706951822874681, 'val_accuracy': 0.5668639053254438, 'precision': 0.4327449620651171, 'recall': 0.5668639053254438, 'f1-score': 0.46831434931662286, 'macro_f1-score': 0.12162446353915228, 'balanced_accuracy': 0.13525796936881776, 'mcc': 0.4107931479986832}\n",
      "Epoch 2/20\n"
     ]
    },
    {
     "name": "stderr",
     "output_type": "stream",
     "text": [
      "100%|██████████| 476/476 [03:22<00:00,  2.35it/s]\n"
     ]
    },
    {
     "name": "stdout",
     "output_type": "stream",
     "text": [
      "{'val_loss': 1.4077978100416795, 'val_accuracy': 0.6461538461538462, 'precision': 0.5816991675816963, 'recall': 0.6461538461538462, 'f1-score': 0.5903005985005976, 'macro_f1-score': 0.23224847650796684, 'balanced_accuracy': 0.24278847977662854, 'mcc': 0.5380563251660552}\n",
      "Epoch 3/20\n"
     ]
    },
    {
     "name": "stderr",
     "output_type": "stream",
     "text": [
      "100%|██████████| 476/476 [03:22<00:00,  2.35it/s]\n"
     ]
    },
    {
     "name": "stdout",
     "output_type": "stream",
     "text": [
      "{'val_loss': 1.3550671108488768, 'val_accuracy': 0.642603550295858, 'precision': 0.5697259035198472, 'recall': 0.642603550295858, 'f1-score': 0.5764594203194274, 'macro_f1-score': 0.2207501855224197, 'balanced_accuracy': 0.21316753026733554, 'mcc': 0.5294643986103934}\n",
      "Epoch 4/20\n"
     ]
    },
    {
     "name": "stderr",
     "output_type": "stream",
     "text": [
      "100%|██████████| 476/476 [03:22<00:00,  2.35it/s]\n"
     ]
    },
    {
     "name": "stdout",
     "output_type": "stream",
     "text": [
      "{'val_loss': 1.2820588215342108, 'val_accuracy': 0.6568047337278107, 'precision': 0.647889960345622, 'recall': 0.6568047337278107, 'f1-score': 0.6394613410234082, 'macro_f1-score': 0.33021854559562297, 'balanced_accuracy': 0.36297360246942695, 'mcc': 0.5659677901780943}\n",
      "Epoch 5/20\n"
     ]
    },
    {
     "name": "stderr",
     "output_type": "stream",
     "text": [
      "100%|██████████| 476/476 [03:21<00:00,  2.36it/s]\n"
     ]
    },
    {
     "name": "stdout",
     "output_type": "stream",
     "text": [
      "{'val_loss': 1.3521239369545344, 'val_accuracy': 0.6674556213017752, 'precision': 0.6754460512382523, 'recall': 0.6674556213017752, 'f1-score': 0.6550705319294756, 'macro_f1-score': 0.3818815975896648, 'balanced_accuracy': 0.40966390323716867, 'mcc': 0.5831483170949673}\n",
      "Epoch 6/20\n"
     ]
    },
    {
     "name": "stderr",
     "output_type": "stream",
     "text": [
      "100%|██████████| 476/476 [03:21<00:00,  2.36it/s]\n"
     ]
    },
    {
     "name": "stdout",
     "output_type": "stream",
     "text": [
      "{'val_loss': 1.429022491540549, 'val_accuracy': 0.6603550295857988, 'precision': 0.656343722927503, 'recall': 0.6603550295857988, 'f1-score': 0.6320831538143297, 'macro_f1-score': 0.3760622593219771, 'balanced_accuracy': 0.3716877607093354, 'mcc': 0.5613420459458768}\n",
      "Epoch 7/20\n"
     ]
    },
    {
     "name": "stderr",
     "output_type": "stream",
     "text": [
      "100%|██████████| 476/476 [03:22<00:00,  2.35it/s]\n"
     ]
    },
    {
     "name": "stdout",
     "output_type": "stream",
     "text": [
      "{'val_loss': 1.475529841094647, 'val_accuracy': 0.6757396449704142, 'precision': 0.6782527113190399, 'recall': 0.6757396449704142, 'f1-score': 0.6577449648616893, 'macro_f1-score': 0.39180149209450515, 'balanced_accuracy': 0.41109342196069704, 'mcc': 0.5887760052891109}\n",
      "Epoch 8/20\n"
     ]
    },
    {
     "name": "stderr",
     "output_type": "stream",
     "text": [
      "100%|██████████| 476/476 [03:22<00:00,  2.35it/s]\n"
     ]
    },
    {
     "name": "stdout",
     "output_type": "stream",
     "text": [
      "{'val_loss': 1.6001317287391086, 'val_accuracy': 0.672189349112426, 'precision': 0.6529189717569711, 'recall': 0.672189349112426, 'f1-score': 0.6412759760760585, 'macro_f1-score': 0.3685383228343143, 'balanced_accuracy': 0.382782803902006, 'mcc': 0.5765798620012721}\n",
      "Epoch 9/20\n"
     ]
    },
    {
     "name": "stderr",
     "output_type": "stream",
     "text": [
      "100%|██████████| 476/476 [03:22<00:00,  2.36it/s]\n"
     ]
    },
    {
     "name": "stdout",
     "output_type": "stream",
     "text": [
      "{'val_loss': 1.6322254892790093, 'val_accuracy': 0.642603550295858, 'precision': 0.6434128456010915, 'recall': 0.642603550295858, 'f1-score': 0.6281784203214825, 'macro_f1-score': 0.408050576274965, 'balanced_accuracy': 0.4633170200108576, 'mcc': 0.552310627434883}\n",
      "Epoch 10/20\n"
     ]
    },
    {
     "name": "stderr",
     "output_type": "stream",
     "text": [
      "100%|██████████| 476/476 [03:21<00:00,  2.36it/s]\n"
     ]
    },
    {
     "name": "stdout",
     "output_type": "stream",
     "text": [
      "{'val_loss': 1.686215860101412, 'val_accuracy': 0.6804733727810651, 'precision': 0.659588804408032, 'recall': 0.6804733727810651, 'f1-score': 0.6505465422424459, 'macro_f1-score': 0.4191809589909479, 'balanced_accuracy': 0.4011796476487164, 'mcc': 0.5866874065904576}\n",
      "Epoch 11/20\n"
     ]
    },
    {
     "name": "stderr",
     "output_type": "stream",
     "text": [
      "100%|██████████| 476/476 [03:21<00:00,  2.36it/s]\n"
     ]
    },
    {
     "name": "stdout",
     "output_type": "stream",
     "text": [
      "{'val_loss': 1.69317235361855, 'val_accuracy': 0.6686390532544378, 'precision': 0.6750325030852319, 'recall': 0.6686390532544378, 'f1-score': 0.6450548217916814, 'macro_f1-score': 0.40174398472351736, 'balanced_accuracy': 0.40782684375529826, 'mcc': 0.5727554021328068}\n",
      "Epoch 12/20\n"
     ]
    },
    {
     "name": "stderr",
     "output_type": "stream",
     "text": [
      "100%|██████████| 476/476 [03:21<00:00,  2.36it/s]\n"
     ]
    },
    {
     "name": "stdout",
     "output_type": "stream",
     "text": [
      "{'val_loss': 1.7425469109472238, 'val_accuracy': 0.6745562130177515, 'precision': 0.6626356679680732, 'recall': 0.6745562130177515, 'f1-score': 0.6486129028419073, 'macro_f1-score': 0.40140657876290103, 'balanced_accuracy': 0.39110361712421593, 'mcc': 0.5791039439942566}\n",
      "Epoch 13/20\n"
     ]
    },
    {
     "name": "stderr",
     "output_type": "stream",
     "text": [
      "100%|██████████| 476/476 [03:21<00:00,  2.36it/s]\n"
     ]
    },
    {
     "name": "stdout",
     "output_type": "stream",
     "text": [
      "{'val_loss': 1.6864866664949454, 'val_accuracy': 0.6686390532544378, 'precision': 0.6525660344326576, 'recall': 0.6686390532544378, 'f1-score': 0.6416122042831169, 'macro_f1-score': 0.39748714361637194, 'balanced_accuracy': 0.38902687306672595, 'mcc': 0.5695075022867868}\n",
      "Early stopping triggered at epoch 13\n",
      "Final 10-fold Cross-Validation Results:\n",
      "val_loss: 1.455616617184091\n",
      "val_accuracy: 0.6684718540839654\n",
      "precision: 0.6507668102779423\n",
      "recall: 0.6684718540839654\n",
      "f1-score: 0.6409466515373194\n",
      "macro_f1-score: 0.32504084310531406\n",
      "balanced_accuracy: 0.3398207185489883\n",
      "mcc: 0.5551576820954109\n"
     ]
    }
   ],
   "source": [
    "from torch.utils.data import DataLoader\n",
    "import torch\n",
    "from torch.nn import CrossEntropyLoss\n",
    "from torch.optim import AdamW\n",
    "from tqdm import tqdm\n",
    "import numpy as np\n",
    "\n",
    "all_fold_results = []\n",
    "\n",
    "# 進行 10 折交叉驗證\n",
    "for fold, (train_idx, val_idx) in enumerate(kf.split(messages)):\n",
    "    print(f\"Fold {fold + 1}\")\n",
    "    \n",
    "    train_messages = [messages[i] for i in train_idx]\n",
    "    train_labels = [labels[i] for i in train_idx]\n",
    "    val_messages = [messages[i] for i in val_idx]\n",
    "    val_labels = [labels[i] for i in val_idx]\n",
    "\n",
    "    print(\"Training set label distribution:\", {label: train_labels.count(label) for label in set(train_labels)})\n",
    "    print(\"Validation set label distribution:\", {label: val_labels.count(label) for label in set(val_labels)})\n",
    "    \n",
    "    train_dataset = CustomDataset(train_messages, train_labels, tokenizer, MAX_LENGTH)\n",
    "    val_dataset = CustomDataset(val_messages, val_labels, tokenizer, MAX_LENGTH)\n",
    "    train_dataloader = DataLoader(train_dataset, batch_size=BATCH_SIZE, shuffle=True)\n",
    "    val_dataloader = DataLoader(val_dataset, batch_size=BATCH_SIZE)\n",
    "\n",
    "    NUM_LABELS = len(set(train_labels) | set(val_labels))\n",
    "    model = BertForSequenceClassification.from_pretrained('bert-base-uncased', num_labels=NUM_LABELS)\n",
    "    model.to(device)\n",
    "    optimizer = AdamW(model.parameters(), lr=5e-5, weight_decay=1e-2)\n",
    "    criterion = CrossEntropyLoss()\n",
    "\n",
    "    epoch_results = []\n",
    "    patience = 3\n",
    "    best_macro_f1 = 0\n",
    "    epochs_without_improvement = 0\n",
    "    \n",
    "    for epoch in range(EPOCHS):\n",
    "        print(f\"Epoch {epoch + 1}/{EPOCHS}\")\n",
    "        train_loss = train_epoch(model, train_dataloader, optimizer, criterion)\n",
    "        metrics = eval_model(model, val_dataloader, criterion, num_labels=NUM_LABELS)\n",
    "        epoch_results.append(metrics)\n",
    "        print(metrics)\n",
    "\n",
    "        current_macro_f1 = metrics[\"macro_f1-score\"]\n",
    "        \n",
    "        if current_macro_f1 > best_macro_f1:\n",
    "            best_macro_f1 = current_macro_f1  # 更新最佳 macro_f1-score\n",
    "            epochs_without_improvement = 0   # 重置計數\n",
    "        else:\n",
    "            epochs_without_improvement += 1  # 增加計數\n",
    "        \n",
    "        # 若連續 patience 3 次沒有提升，則停止訓練\n",
    "        if epochs_without_improvement >= patience:\n",
    "            print(f\"Early stopping triggered at epoch {epoch + 1}\")\n",
    "            break\n",
    "    \n",
    "    avg_metrics = {metric: np.mean([epoch[metric] for epoch in epoch_results]) for metric in epoch_results[0].keys()}\n",
    "    all_fold_results.append(avg_metrics)\n",
    "\n",
    "final_metrics = {metric: np.mean([result[metric] for result in all_fold_results]) for metric in all_fold_results[0].keys()}\n",
    "print(\"Final 10-fold Cross-Validation Results:\")\n",
    "for metric, value in final_metrics.items():\n",
    "    print(f\"{metric}: {value}\")"
   ]
  },
  {
   "cell_type": "code",
   "execution_count": 9,
   "id": "f8016681-94ee-4d35-81ac-9831d7172f0d",
   "metadata": {
    "scrolled": true
   },
   "outputs": [
    {
     "data": {
      "text/plain": [
       "[{'val_loss': 1.578385956266766,\n",
       "  'val_accuracy': 0.658628841607565,\n",
       "  'precision': 0.6503274406650326,\n",
       "  'recall': 0.658628841607565,\n",
       "  'f1-score': 0.6352906121201572,\n",
       "  'macro_f1-score': 0.3428556073307238,\n",
       "  'balanced_accuracy': 0.34840062251705517,\n",
       "  'mcc': 0.5488094271790669},\n",
       " {'val_loss': 1.4481227529592484,\n",
       "  'val_accuracy': 0.6719858156028368,\n",
       "  'precision': 0.6481105175442193,\n",
       "  'recall': 0.6719858156028368,\n",
       "  'f1-score': 0.6415100893940947,\n",
       "  'macro_f1-score': 0.3028108671958957,\n",
       "  'balanced_accuracy': 0.31779347728612467,\n",
       "  'mcc': 0.5521923965949521},\n",
       " {'val_loss': 1.3624264196233051,\n",
       "  'val_accuracy': 0.6836091410559496,\n",
       "  'precision': 0.6649101357775477,\n",
       "  'recall': 0.6836091410559496,\n",
       "  'f1-score': 0.6540342185605859,\n",
       "  'macro_f1-score': 0.2902588721785395,\n",
       "  'balanced_accuracy': 0.30233946962161545,\n",
       "  'mcc': 0.5601299861479693},\n",
       " {'val_loss': 1.374023511532956,\n",
       "  'val_accuracy': 0.6795615731785944,\n",
       "  'precision': 0.6658766101748623,\n",
       "  'recall': 0.6795615731785944,\n",
       "  'f1-score': 0.6576904380311964,\n",
       "  'macro_f1-score': 0.3198569958596947,\n",
       "  'balanced_accuracy': 0.3356356150849522,\n",
       "  'mcc': 0.5683987095562287},\n",
       " {'val_loss': 1.4423166786162358,\n",
       "  'val_accuracy': 0.6783601014370245,\n",
       "  'precision': 0.6636303344398743,\n",
       "  'recall': 0.6783601014370245,\n",
       "  'f1-score': 0.650534828464761,\n",
       "  'macro_f1-score': 0.33002241389283327,\n",
       "  'balanced_accuracy': 0.3330054541180659,\n",
       "  'mcc': 0.5725777698391782},\n",
       " {'val_loss': 1.4423923646810737,\n",
       "  'val_accuracy': 0.6545454545454544,\n",
       "  'precision': 0.6341922270458786,\n",
       "  'recall': 0.6545454545454544,\n",
       "  'f1-score': 0.6271557499354009,\n",
       "  'macro_f1-score': 0.3091133740793604,\n",
       "  'balanced_accuracy': 0.33372738669751195,\n",
       "  'mcc': 0.545140972506256},\n",
       " {'val_loss': 1.315762478225636,\n",
       "  'val_accuracy': 0.670887573964497,\n",
       "  'precision': 0.665046028378994,\n",
       "  'recall': 0.670887573964497,\n",
       "  'f1-score': 0.6500810110048095,\n",
       "  'macro_f1-score': 0.32389640730806873,\n",
       "  'balanced_accuracy': 0.35496974458659897,\n",
       "  'mcc': 0.5488560616551277},\n",
       " {'val_loss': 1.5398454584485897,\n",
       "  'val_accuracy': 0.6682445759368836,\n",
       "  'precision': 0.6438915678552734,\n",
       "  'recall': 0.6682445759368836,\n",
       "  'f1-score': 0.6376002388200731,\n",
       "  'macro_f1-score': 0.32531567789779986,\n",
       "  'balanced_accuracy': 0.35184714339693274,\n",
       "  'mcc': 0.5543258752205781},\n",
       " {'val_loss': 1.5106343327125287,\n",
       "  'val_accuracy': 0.6632741617357003,\n",
       "  'precision': 0.6418172942631906,\n",
       "  'recall': 0.6632741617357003,\n",
       "  'f1-score': 0.6344373884788649,\n",
       "  'macro_f1-score': 0.36389401643527647,\n",
       "  'balanced_accuracy': 0.3680367742350851,\n",
       "  'mcc': 0.5461846395837028},\n",
       " {'val_loss': 1.542256218774571,\n",
       "  'val_accuracy': 0.6556213017751479,\n",
       "  'precision': 0.6298659466345489,\n",
       "  'recall': 0.6556213017751479,\n",
       "  'f1-score': 0.6211319405632495,\n",
       "  'macro_f1-score': 0.3423841988749482,\n",
       "  'balanced_accuracy': 0.3524514979459408,\n",
       "  'mcc': 0.5549609826710497}]"
      ]
     },
     "execution_count": 9,
     "metadata": {},
     "output_type": "execute_result"
    }
   ],
   "source": [
    "all_fold_results"
   ]
  },
  {
   "cell_type": "code",
   "execution_count": null,
   "id": "723d0d39-437d-4a36-bba0-d268dee93a80",
   "metadata": {},
   "outputs": [],
   "source": []
  }
 ],
 "metadata": {
  "kernelspec": {
   "display_name": "Python 3 (ipykernel)",
   "language": "python",
   "name": "python3"
  },
  "language_info": {
   "codemirror_mode": {
    "name": "ipython",
    "version": 3
   },
   "file_extension": ".py",
   "mimetype": "text/x-python",
   "name": "python",
   "nbconvert_exporter": "python",
   "pygments_lexer": "ipython3",
   "version": "3.11.9"
  }
 },
 "nbformat": 4,
 "nbformat_minor": 5
}
