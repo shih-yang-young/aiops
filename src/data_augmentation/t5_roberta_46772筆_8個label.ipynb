{
 "cells": [
  {
   "cell_type": "code",
   "execution_count": 1,
   "id": "f22f4841-9a9d-4a63-b896-560594d666d8",
   "metadata": {},
   "outputs": [
    {
     "data": {
      "text/html": [
       "<div>\n",
       "<style scoped>\n",
       "    .dataframe tbody tr th:only-of-type {\n",
       "        vertical-align: middle;\n",
       "    }\n",
       "\n",
       "    .dataframe tbody tr th {\n",
       "        vertical-align: top;\n",
       "    }\n",
       "\n",
       "    .dataframe thead th {\n",
       "        text-align: right;\n",
       "    }\n",
       "</style>\n",
       "<table border=\"1\" class=\"dataframe\">\n",
       "  <thead>\n",
       "    <tr style=\"text-align: right;\">\n",
       "      <th></th>\n",
       "      <th>Inbound Message</th>\n",
       "      <th>Label</th>\n",
       "    </tr>\n",
       "  </thead>\n",
       "  <tbody>\n",
       "    <tr>\n",
       "      <th>0</th>\n",
       "      <td>connection icon icon dear please setup icon pe...</td>\n",
       "      <td>3</td>\n",
       "    </tr>\n",
       "    <tr>\n",
       "      <th>1</th>\n",
       "      <td>work experience user work experience user work...</td>\n",
       "      <td>0</td>\n",
       "    </tr>\n",
       "    <tr>\n",
       "      <th>2</th>\n",
       "      <td>requesting meeting requesting meeting please h...</td>\n",
       "      <td>3</td>\n",
       "    </tr>\n",
       "    <tr>\n",
       "      <th>3</th>\n",
       "      <td>reset passwords external accounts expire days ...</td>\n",
       "      <td>0</td>\n",
       "    </tr>\n",
       "    <tr>\n",
       "      <th>4</th>\n",
       "      <td>mail verification warning got attached please ...</td>\n",
       "      <td>5</td>\n",
       "    </tr>\n",
       "    <tr>\n",
       "      <th>...</th>\n",
       "      <td>...</td>\n",
       "      <td>...</td>\n",
       "    </tr>\n",
       "    <tr>\n",
       "      <th>46767</th>\n",
       "      <td>git space project issues adding users sent git...</td>\n",
       "      <td>0</td>\n",
       "    </tr>\n",
       "    <tr>\n",
       "      <th>46768</th>\n",
       "      <td>error sent error guys help error appearing wan...</td>\n",
       "      <td>5</td>\n",
       "    </tr>\n",
       "    <tr>\n",
       "      <th>46769</th>\n",
       "      <td>connection issues sent connection issues hello...</td>\n",
       "      <td>3</td>\n",
       "    </tr>\n",
       "    <tr>\n",
       "      <th>46770</th>\n",
       "      <td>error cube reports sent error hello guys recei...</td>\n",
       "      <td>2</td>\n",
       "    </tr>\n",
       "    <tr>\n",
       "      <th>46771</th>\n",
       "      <td>running extensions hello please advised runnin...</td>\n",
       "      <td>3</td>\n",
       "    </tr>\n",
       "  </tbody>\n",
       "</table>\n",
       "<p>46772 rows × 2 columns</p>\n",
       "</div>"
      ],
      "text/plain": [
       "                                         Inbound Message  Label\n",
       "0      connection icon icon dear please setup icon pe...      3\n",
       "1      work experience user work experience user work...      0\n",
       "2      requesting meeting requesting meeting please h...      3\n",
       "3      reset passwords external accounts expire days ...      0\n",
       "4      mail verification warning got attached please ...      5\n",
       "...                                                  ...    ...\n",
       "46767  git space project issues adding users sent git...      0\n",
       "46768  error sent error guys help error appearing wan...      5\n",
       "46769  connection issues sent connection issues hello...      3\n",
       "46770  error cube reports sent error hello guys recei...      2\n",
       "46771  running extensions hello please advised runnin...      3\n",
       "\n",
       "[46772 rows x 2 columns]"
      ]
     },
     "execution_count": 1,
     "metadata": {},
     "output_type": "execute_result"
    }
   ],
   "source": [
    "import pandas as pd\n",
    "data_path = \"../../data/46772_8_label.csv\"\n",
    "df = pd.read_csv(data_path)\n",
    "# df_label_0 = df[df[\"Labewl\"] == 0]\n",
    "# df_label_0_to_drop = df_label_0.sample(n=3000, random_state=42)\n",
    "# df = df.drop(df_label_0_to_drop.index)\n",
    "df"
   ]
  },
  {
   "cell_type": "code",
   "execution_count": 2,
   "id": "bf737873-4f1c-4588-913d-8f06b2777b20",
   "metadata": {},
   "outputs": [
    {
     "name": "stderr",
     "output_type": "stream",
     "text": [
      "c:\\Users\\user\\AppData\\Local\\Programs\\Python\\Python310\\lib\\site-packages\\tqdm\\auto.py:21: TqdmWarning: IProgress not found. Please update jupyter and ipywidgets. See https://ipywidgets.readthedocs.io/en/stable/user_install.html\n",
      "  from .autonotebook import tqdm as notebook_tqdm\n"
     ]
    }
   ],
   "source": [
    "import sys\n",
    "import os\n",
    "sys.path.append(os.path.abspath('../ml_lib'))\n",
    "\n",
    "from config import *\n",
    "from experiment import run_kfold_experiment"
   ]
  },
  {
   "cell_type": "code",
   "execution_count": 3,
   "id": "a12b2613-aa9d-41c0-8f62-72210eaf8d7f",
   "metadata": {},
   "outputs": [],
   "source": [
    "messages, labels = df['Inbound Message'].tolist(), df['Label'].tolist()"
   ]
  },
  {
   "cell_type": "code",
   "execution_count": 4,
   "id": "38d4729f-f867-4cea-89f9-31f67e5ecced",
   "metadata": {},
   "outputs": [
    {
     "name": "stdout",
     "output_type": "stream",
     "text": [
      "▶ Running: roberta-base + plain + t5\n",
      "tokenizer is roberta-base\n",
      "Using device: cuda\n",
      "CUDA Available: True\n",
      "CUDA Device: NVIDIA GeForce RTX 5070 Ti\n",
      "Current GPU Memory Allocated: 0.00 GB\n",
      "Current GPU Memory Cached: 0.00 GB\n",
      "\n",
      "[Fold 1]\n",
      "🚀 Using T5-paraphraser for data augmentation + under-sampling\n"
     ]
    },
    {
     "name": "stderr",
     "output_type": "stream",
     "text": [
      "You are using the default legacy behaviour of the <class 'transformers.models.t5.tokenization_t5.T5Tokenizer'>. This is expected, and simply means that the `legacy` (previous) behavior will be used so nothing changes for you. If you want to use the new behaviour, set `legacy=False`. This should only be set if you understand what it means, and thoroughly read the reason why this was added as explained in https://github.com/huggingface/transformers/pull/24565\n"
     ]
    },
    {
     "name": "stdout",
     "output_type": "stream",
     "text": [
      "Using device: cuda\n",
      "CUDA Available: True\n",
      "CUDA Device: NVIDIA GeForce RTX 5070 Ti\n",
      "Current GPU Memory Allocated: 0.00 GB\n",
      "Current GPU Memory Cached: 0.00 GB\n",
      "🔧 Augmenting label 1: 1399 → 5000 (+3601)\n",
      "🔧 Augmenting label 4: 1678 → 5000 (+3322)\n",
      "🔧 Augmenting label 6: 1737 → 5000 (+3263)\n",
      "🔧 Augmenting label 7: 2187 → 5000 (+2813)\n",
      "Label distribution after resampling:\n",
      "  label 0: 5626\n",
      "  label 1: 5000\n",
      "  label 2: 8442\n",
      "  label 3: 10770\n",
      "  label 4: 5000\n",
      "  label 5: 5578\n",
      "  label 6: 5000\n",
      "  label 7: 5000\n",
      "model is roberta-base\n"
     ]
    },
    {
     "name": "stderr",
     "output_type": "stream",
     "text": [
      "Some weights of RobertaForSequenceClassification were not initialized from the model checkpoint at roberta-base and are newly initialized: ['classifier.dense.bias', 'classifier.dense.weight', 'classifier.out_proj.bias', 'classifier.out_proj.weight']\n",
      "You should probably TRAIN this model on a down-stream task to be able to use it for predictions and inference.\n"
     ]
    },
    {
     "name": "stdout",
     "output_type": "stream",
     "text": [
      "Using weighted CrossEntropyLoss with weights: tensor([2.1929, 2.3109, 1.7871, 1.5435, 2.3109, 2.2015, 2.3109, 2.3109],\n",
      "       device='cuda:0')\n",
      "Epoch 1/20\n"
     ]
    },
    {
     "name": "stderr",
     "output_type": "stream",
     "text": [
      "100%|██████████| 3151/3151 [04:30<00:00, 11.64it/s]\n"
     ]
    },
    {
     "name": "stdout",
     "output_type": "stream",
     "text": [
      "{'val_loss': 0.48315192587737343, 'val_accuracy': 0.8476750400855158, 'precision': 0.8488836137743556, 'recall': 0.8476750400855158, 'f1-score': 0.8477866465197675, 'macro_f1-score': 0.8455540988752146, 'balanced_accuracy': 0.8420290878459775, 'mcc': 0.8122822285342864, 'train_loss': 0.5647817670634553}\n",
      "Epoch 2/20\n"
     ]
    },
    {
     "name": "stderr",
     "output_type": "stream",
     "text": [
      "100%|██████████| 3151/3151 [04:30<00:00, 11.65it/s]\n"
     ]
    },
    {
     "name": "stdout",
     "output_type": "stream",
     "text": [
      "{'val_loss': 0.4280795139634711, 'val_accuracy': 0.8615713522180652, 'precision': 0.8624161888563581, 'recall': 0.8615713522180652, 'f1-score': 0.8615606671532894, 'macro_f1-score': 0.8548628416437762, 'balanced_accuracy': 0.8471141334170897, 'mcc': 0.8292504636777289, 'train_loss': 0.3686653609724224}\n",
      "Epoch 3/20\n"
     ]
    },
    {
     "name": "stderr",
     "output_type": "stream",
     "text": [
      "100%|██████████| 3151/3151 [04:30<00:00, 11.64it/s]\n"
     ]
    },
    {
     "name": "stdout",
     "output_type": "stream",
     "text": [
      "{'val_loss': 0.43111488282935234, 'val_accuracy': 0.8547300908605024, 'precision': 0.8628036335342001, 'recall': 0.8547300908605024, 'f1-score': 0.8559135563040104, 'macro_f1-score': 0.8520635173009112, 'balanced_accuracy': 0.867265209686368, 'mcc': 0.8239214395894715, 'train_loss': 0.2939610701054039}\n",
      "Epoch 4/20\n"
     ]
    },
    {
     "name": "stderr",
     "output_type": "stream",
     "text": [
      "100%|██████████| 3151/3151 [04:30<00:00, 11.64it/s]\n"
     ]
    },
    {
     "name": "stdout",
     "output_type": "stream",
     "text": [
      "{'val_loss': 0.4459905595319648, 'val_accuracy': 0.8608230892570817, 'precision': 0.864260111185021, 'recall': 0.8608230892570817, 'f1-score': 0.8612431592062173, 'macro_f1-score': 0.8570534988137261, 'balanced_accuracy': 0.8534666729623261, 'mcc': 0.8291458674629661, 'train_loss': 0.24443410601575072}\n",
      "Epoch 5/20\n"
     ]
    },
    {
     "name": "stderr",
     "output_type": "stream",
     "text": [
      "100%|██████████| 3151/3151 [04:30<00:00, 11.65it/s]\n"
     ]
    },
    {
     "name": "stdout",
     "output_type": "stream",
     "text": [
      "{'val_loss': 0.5185217728217443, 'val_accuracy': 0.8612506680919294, 'precision': 0.8664818309736735, 'recall': 0.8612506680919294, 'f1-score': 0.8615125517304131, 'macro_f1-score': 0.8536943043506179, 'balanced_accuracy': 0.8639174183720668, 'mcc': 0.8298888602908635, 'train_loss': 0.19120304977508887}\n",
      "Epoch 6/20\n"
     ]
    },
    {
     "name": "stderr",
     "output_type": "stream",
     "text": [
      "100%|██████████| 3151/3151 [04:30<00:00, 11.65it/s]\n"
     ]
    },
    {
     "name": "stdout",
     "output_type": "stream",
     "text": [
      "{'val_loss': 0.48037129471985957, 'val_accuracy': 0.856547300908605, 'precision': 0.8584117040428952, 'recall': 0.856547300908605, 'f1-score': 0.8565472333132678, 'macro_f1-score': 0.8496542229628038, 'balanced_accuracy': 0.8468618036884913, 'mcc': 0.823609208115905, 'train_loss': 0.16275862523683257}\n",
      "Epoch 7/20\n"
     ]
    },
    {
     "name": "stderr",
     "output_type": "stream",
     "text": [
      "100%|██████████| 3151/3151 [04:30<00:00, 11.64it/s]\n"
     ]
    },
    {
     "name": "stdout",
     "output_type": "stream",
     "text": [
      "{'val_loss': 0.5334328237897119, 'val_accuracy': 0.8593265633351149, 'precision': 0.8613005959495035, 'recall': 0.8593265633351149, 'f1-score': 0.8592799917288989, 'macro_f1-score': 0.8529410285586815, 'balanced_accuracy': 0.8398425504903189, 'mcc': 0.8265095763320276, 'train_loss': 0.13614985010951997}\n",
      "Early stopping.\n",
      "\n",
      "[Fold 2]\n",
      "🚀 Using T5-paraphraser for data augmentation + under-sampling\n",
      "Using device: cuda\n",
      "CUDA Available: True\n",
      "CUDA Device: NVIDIA GeForce RTX 5070 Ti\n",
      "Current GPU Memory Allocated: 2.03 GB\n",
      "Current GPU Memory Cached: 3.39 GB\n",
      "🔧 Augmenting label 1: 1400 → 5000 (+3600)\n",
      "🔧 Augmenting label 4: 1678 → 5000 (+3322)\n",
      "🔧 Augmenting label 6: 1737 → 5000 (+3263)\n",
      "🔧 Augmenting label 7: 2186 → 5000 (+2814)\n",
      "Label distribution after resampling:\n",
      "  label 0: 5626\n",
      "  label 1: 5000\n",
      "  label 2: 8442\n",
      "  label 3: 10770\n",
      "  label 4: 5000\n",
      "  label 5: 5578\n",
      "  label 6: 5000\n",
      "  label 7: 5000\n",
      "model is roberta-base\n"
     ]
    },
    {
     "name": "stderr",
     "output_type": "stream",
     "text": [
      "Some weights of RobertaForSequenceClassification were not initialized from the model checkpoint at roberta-base and are newly initialized: ['classifier.dense.bias', 'classifier.dense.weight', 'classifier.out_proj.bias', 'classifier.out_proj.weight']\n",
      "You should probably TRAIN this model on a down-stream task to be able to use it for predictions and inference.\n"
     ]
    },
    {
     "name": "stdout",
     "output_type": "stream",
     "text": [
      "Using weighted CrossEntropyLoss with weights: tensor([2.1929, 2.3109, 1.7871, 1.5435, 2.3109, 2.2015, 2.3109, 2.3109],\n",
      "       device='cuda:0')\n",
      "Epoch 1/20\n"
     ]
    },
    {
     "name": "stderr",
     "output_type": "stream",
     "text": [
      "100%|██████████| 3151/3151 [04:30<00:00, 11.65it/s]\n"
     ]
    },
    {
     "name": "stdout",
     "output_type": "stream",
     "text": [
      "{'val_loss': 0.5403889603053148, 'val_accuracy': 0.8254409406734367, 'precision': 0.8276894096072901, 'recall': 0.8254409406734367, 'f1-score': 0.8245419220394933, 'macro_f1-score': 0.8257122255328737, 'balanced_accuracy': 0.8299127581120574, 'mcc': 0.7858984725337067, 'train_loss': 0.5735692364692461}\n",
      "Epoch 2/20\n"
     ]
    },
    {
     "name": "stderr",
     "output_type": "stream",
     "text": [
      "100%|██████████| 3151/3151 [04:30<00:00, 11.64it/s]\n"
     ]
    },
    {
     "name": "stdout",
     "output_type": "stream",
     "text": [
      "{'val_loss': 0.47047834231430646, 'val_accuracy': 0.8353821485836451, 'precision': 0.8391187369269649, 'recall': 0.8353821485836451, 'f1-score': 0.8349362374109474, 'macro_f1-score': 0.8382130795513721, 'balanced_accuracy': 0.8466282953282118, 'mcc': 0.7998456536743355, 'train_loss': 0.37293338944460996}\n",
      "Epoch 3/20\n"
     ]
    },
    {
     "name": "stderr",
     "output_type": "stream",
     "text": [
      "100%|██████████| 3151/3151 [04:30<00:00, 11.65it/s]\n"
     ]
    },
    {
     "name": "stdout",
     "output_type": "stream",
     "text": [
      "{'val_loss': 0.42955230482113665, 'val_accuracy': 0.8553714591127739, 'precision': 0.856333234030388, 'recall': 0.8553714591127739, 'f1-score': 0.855035148182466, 'macro_f1-score': 0.8555987364302642, 'balanced_accuracy': 0.848043939463299, 'mcc': 0.8217203853359474, 'train_loss': 0.3027837959726163}\n",
      "Epoch 4/20\n"
     ]
    },
    {
     "name": "stderr",
     "output_type": "stream",
     "text": [
      "100%|██████████| 3151/3151 [04:30<00:00, 11.64it/s]\n"
     ]
    },
    {
     "name": "stdout",
     "output_type": "stream",
     "text": [
      "{'val_loss': 0.4904292100738002, 'val_accuracy': 0.8482095136290754, 'precision': 0.8530779511058678, 'recall': 0.8482095136290754, 'f1-score': 0.8486901084077177, 'macro_f1-score': 0.8471615851816077, 'balanced_accuracy': 0.8352643212253643, 'mcc': 0.8130618916993056, 'train_loss': 0.24208855325083026}\n",
      "Epoch 5/20\n"
     ]
    },
    {
     "name": "stderr",
     "output_type": "stream",
     "text": [
      "100%|██████████| 3151/3151 [04:30<00:00, 11.64it/s]\n"
     ]
    },
    {
     "name": "stdout",
     "output_type": "stream",
     "text": [
      "{'val_loss': 0.4976393656502677, 'val_accuracy': 0.8492784607161945, 'precision': 0.8514835213923458, 'recall': 0.8492784607161945, 'f1-score': 0.8495311744197933, 'macro_f1-score': 0.8453766773381065, 'balanced_accuracy': 0.8534635322135922, 'mcc': 0.8149892540486278, 'train_loss': 0.1936661312563486}\n",
      "Epoch 6/20\n"
     ]
    },
    {
     "name": "stderr",
     "output_type": "stream",
     "text": [
      "100%|██████████| 3151/3151 [04:30<00:00, 11.64it/s]\n"
     ]
    },
    {
     "name": "stdout",
     "output_type": "stream",
     "text": [
      "{'val_loss': 0.548789111024135, 'val_accuracy': 0.8479957242116515, 'precision': 0.8525347538347127, 'recall': 0.8479957242116515, 'f1-score': 0.8486307832893032, 'macro_f1-score': 0.8509322886362585, 'balanced_accuracy': 0.8400624388256162, 'mcc': 0.8129329416506818, 'train_loss': 0.16265300419845866}\n",
      "Early stopping.\n",
      "\n",
      "[Fold 3]\n",
      "🚀 Using T5-paraphraser for data augmentation + under-sampling\n",
      "Using device: cuda\n",
      "CUDA Available: True\n",
      "CUDA Device: NVIDIA GeForce RTX 5070 Ti\n",
      "Current GPU Memory Allocated: 2.03 GB\n",
      "Current GPU Memory Cached: 3.40 GB\n",
      "🔧 Augmenting label 1: 1399 → 5000 (+3601)\n",
      "🔧 Augmenting label 4: 1679 → 5000 (+3321)\n",
      "🔧 Augmenting label 6: 1738 → 5000 (+3262)\n",
      "🔧 Augmenting label 7: 2186 → 5000 (+2814)\n",
      "Label distribution after resampling:\n",
      "  label 0: 5626\n",
      "  label 1: 5000\n",
      "  label 2: 8442\n",
      "  label 3: 10770\n",
      "  label 4: 5000\n",
      "  label 5: 5578\n",
      "  label 6: 5000\n",
      "  label 7: 5000\n",
      "model is roberta-base\n"
     ]
    },
    {
     "name": "stderr",
     "output_type": "stream",
     "text": [
      "Some weights of RobertaForSequenceClassification were not initialized from the model checkpoint at roberta-base and are newly initialized: ['classifier.dense.bias', 'classifier.dense.weight', 'classifier.out_proj.bias', 'classifier.out_proj.weight']\n",
      "You should probably TRAIN this model on a down-stream task to be able to use it for predictions and inference.\n"
     ]
    },
    {
     "name": "stdout",
     "output_type": "stream",
     "text": [
      "Using weighted CrossEntropyLoss with weights: tensor([2.1929, 2.3109, 1.7871, 1.5435, 2.3109, 2.2015, 2.3109, 2.3109],\n",
      "       device='cuda:0')\n",
      "Epoch 1/20\n"
     ]
    },
    {
     "name": "stderr",
     "output_type": "stream",
     "text": [
      "100%|██████████| 3151/3151 [04:30<00:00, 11.65it/s]\n"
     ]
    },
    {
     "name": "stdout",
     "output_type": "stream",
     "text": [
      "{'val_loss': 1.920354980077499, 'val_accuracy': 0.2878982253581356, 'precision': 0.08288538816436382, 'recall': 0.2878982253581356, 'f1-score': 0.12871418957241787, 'macro_f1-score': 0.055885282642981655, 'balanced_accuracy': 0.125, 'mcc': 0.0, 'train_loss': 1.8988941843189613}\n",
      "Epoch 2/20\n"
     ]
    },
    {
     "name": "stderr",
     "output_type": "stream",
     "text": [
      "100%|██████████| 3151/3151 [04:30<00:00, 11.65it/s]\n"
     ]
    },
    {
     "name": "stdout",
     "output_type": "stream",
     "text": [
      "{'val_loss': 1.9559254430298112, 'val_accuracy': 0.2878982253581356, 'precision': 0.08288538816436382, 'recall': 0.2878982253581356, 'f1-score': 0.12871418957241787, 'macro_f1-score': 0.055885282642981655, 'balanced_accuracy': 0.125, 'mcc': 0.0, 'train_loss': 2.00562995681684}\n",
      "Epoch 3/20\n"
     ]
    },
    {
     "name": "stderr",
     "output_type": "stream",
     "text": [
      "100%|██████████| 3151/3151 [04:30<00:00, 11.64it/s]\n"
     ]
    },
    {
     "name": "stdout",
     "output_type": "stream",
     "text": [
      "{'val_loss': 1.9282385524521526, 'val_accuracy': 0.2878982253581356, 'precision': 0.08288538816436382, 'recall': 0.2878982253581356, 'f1-score': 0.12871418957241787, 'macro_f1-score': 0.055885282642981655, 'balanced_accuracy': 0.125, 'mcc': 0.0, 'train_loss': 2.036231939507378}\n",
      "Epoch 4/20\n"
     ]
    },
    {
     "name": "stderr",
     "output_type": "stream",
     "text": [
      "100%|██████████| 3151/3151 [04:30<00:00, 11.64it/s]\n"
     ]
    },
    {
     "name": "stdout",
     "output_type": "stream",
     "text": [
      "{'val_loss': 1.9101039613414015, 'val_accuracy': 0.22557194782980544, 'precision': 0.050882703647732466, 'recall': 0.22557194782980544, 'f1-score': 0.08303503313344197, 'macro_f1-score': 0.04601360781577111, 'balanced_accuracy': 0.125, 'mcc': 0.0, 'train_loss': 2.035213631699858}\n",
      "Early stopping.\n",
      "\n",
      "[Fold 4]\n",
      "🚀 Using T5-paraphraser for data augmentation + under-sampling\n",
      "Using device: cuda\n",
      "CUDA Available: True\n",
      "CUDA Device: NVIDIA GeForce RTX 5070 Ti\n",
      "Current GPU Memory Allocated: 2.03 GB\n",
      "Current GPU Memory Cached: 3.40 GB\n",
      "🔧 Augmenting label 1: 1399 → 5000 (+3601)\n",
      "🔧 Augmenting label 4: 1679 → 5000 (+3321)\n",
      "🔧 Augmenting label 6: 1738 → 5000 (+3262)\n",
      "🔧 Augmenting label 7: 2186 → 5000 (+2814)\n",
      "Label distribution after resampling:\n",
      "  label 0: 5625\n",
      "  label 1: 5000\n",
      "  label 2: 8441\n",
      "  label 3: 10771\n",
      "  label 4: 5000\n",
      "  label 5: 5579\n",
      "  label 6: 5000\n",
      "  label 7: 5000\n",
      "model is roberta-base\n"
     ]
    },
    {
     "name": "stderr",
     "output_type": "stream",
     "text": [
      "Some weights of RobertaForSequenceClassification were not initialized from the model checkpoint at roberta-base and are newly initialized: ['classifier.dense.bias', 'classifier.dense.weight', 'classifier.out_proj.bias', 'classifier.out_proj.weight']\n",
      "You should probably TRAIN this model on a down-stream task to be able to use it for predictions and inference.\n"
     ]
    },
    {
     "name": "stdout",
     "output_type": "stream",
     "text": [
      "Using weighted CrossEntropyLoss with weights: tensor([2.1931, 2.3109, 1.7872, 1.5435, 2.3109, 2.2013, 2.3109, 2.3109],\n",
      "       device='cuda:0')\n",
      "Epoch 1/20\n"
     ]
    },
    {
     "name": "stderr",
     "output_type": "stream",
     "text": [
      "100%|██████████| 3151/3151 [04:30<00:00, 11.65it/s]\n"
     ]
    },
    {
     "name": "stdout",
     "output_type": "stream",
     "text": [
      "{'val_loss': 0.4920862344595102, 'val_accuracy': 0.838251015608296, 'precision': 0.8397730960225334, 'recall': 0.838251015608296, 'f1-score': 0.8380839233690917, 'macro_f1-score': 0.8390034642162985, 'balanced_accuracy': 0.838937346968222, 'mcc': 0.801107853154458, 'train_loss': 0.5891088095863957}\n",
      "Epoch 2/20\n"
     ]
    },
    {
     "name": "stderr",
     "output_type": "stream",
     "text": [
      "100%|██████████| 3151/3151 [04:30<00:00, 11.64it/s]\n"
     ]
    },
    {
     "name": "stdout",
     "output_type": "stream",
     "text": [
      "{'val_loss': 0.46958815822871325, 'val_accuracy': 0.8464827881120376, 'precision': 0.8517509179584393, 'recall': 0.8464827881120376, 'f1-score': 0.8461063628734623, 'macro_f1-score': 0.8444064889798804, 'balanced_accuracy': 0.838345836108239, 'mcc': 0.8110538152400516, 'train_loss': 0.39369468272420405}\n",
      "Epoch 3/20\n"
     ]
    },
    {
     "name": "stderr",
     "output_type": "stream",
     "text": [
      "100%|██████████| 3151/3151 [04:30<00:00, 11.64it/s]\n"
     ]
    },
    {
     "name": "stdout",
     "output_type": "stream",
     "text": [
      "{'val_loss': 0.41721974712215426, 'val_accuracy': 0.8570664956168484, 'precision': 0.8608092941500464, 'recall': 0.8570664956168484, 'f1-score': 0.8567259027883033, 'macro_f1-score': 0.8592732363987177, 'balanced_accuracy': 0.8613733094232046, 'mcc': 0.8258218372962252, 'train_loss': 0.3240468226185808}\n",
      "Epoch 4/20\n"
     ]
    },
    {
     "name": "stderr",
     "output_type": "stream",
     "text": [
      "100%|██████████| 3151/3151 [04:30<00:00, 11.64it/s]\n"
     ]
    },
    {
     "name": "stdout",
     "output_type": "stream",
     "text": [
      "{'val_loss': 0.43545147428113934, 'val_accuracy': 0.8612358349369253, 'precision': 0.8619188567819888, 'recall': 0.8612358349369253, 'f1-score': 0.8606899854884795, 'macro_f1-score': 0.8605616876510103, 'balanced_accuracy': 0.8586837964329088, 'mcc': 0.829573538009913, 'train_loss': 0.27677571552166297}\n",
      "Epoch 5/20\n"
     ]
    },
    {
     "name": "stderr",
     "output_type": "stream",
     "text": [
      "100%|██████████| 3151/3151 [04:30<00:00, 11.64it/s]\n"
     ]
    },
    {
     "name": "stdout",
     "output_type": "stream",
     "text": [
      "{'val_loss': 0.43400647911346624, 'val_accuracy': 0.8550352790250161, 'precision': 0.8586180132099739, 'recall': 0.8550352790250161, 'f1-score': 0.8548430007192126, 'macro_f1-score': 0.8541246217930137, 'balanced_accuracy': 0.8564991888230773, 'mcc': 0.8233386600529305, 'train_loss': 0.22185540702256043}\n",
      "Epoch 6/20\n"
     ]
    },
    {
     "name": "stderr",
     "output_type": "stream",
     "text": [
      "100%|██████████| 3151/3151 [04:30<00:00, 11.64it/s]\n"
     ]
    },
    {
     "name": "stdout",
     "output_type": "stream",
     "text": [
      "{'val_loss': 0.4838965327443125, 'val_accuracy': 0.860594398118452, 'precision': 0.8633196985547665, 'recall': 0.860594398118452, 'f1-score': 0.8606331816313791, 'macro_f1-score': 0.8587082226498894, 'balanced_accuracy': 0.846087225132683, 'mcc': 0.8285036299720823, 'train_loss': 0.1929104030187712}\n",
      "Epoch 7/20\n"
     ]
    },
    {
     "name": "stderr",
     "output_type": "stream",
     "text": [
      "100%|██████████| 3151/3151 [04:30<00:00, 11.64it/s]\n"
     ]
    },
    {
     "name": "stdout",
     "output_type": "stream",
     "text": [
      "{'val_loss': 0.6025303193793878, 'val_accuracy': 0.8323711781056232, 'precision': 0.8483778401799106, 'recall': 0.8323711781056232, 'f1-score': 0.8333948095789134, 'macro_f1-score': 0.8335972078182932, 'balanced_accuracy': 0.8394018573622222, 'mcc': 0.7988254790212207, 'train_loss': 0.1661934251955411}\n",
      "Early stopping.\n",
      "\n",
      "[Fold 5]\n",
      "🚀 Using T5-paraphraser for data augmentation + under-sampling\n",
      "Using device: cuda\n",
      "CUDA Available: True\n",
      "CUDA Device: NVIDIA GeForce RTX 5070 Ti\n",
      "Current GPU Memory Allocated: 2.03 GB\n",
      "Current GPU Memory Cached: 3.40 GB\n",
      "🔧 Augmenting label 1: 1399 → 5000 (+3601)\n",
      "🔧 Augmenting label 4: 1678 → 5000 (+3322)\n",
      "🔧 Augmenting label 6: 1738 → 5000 (+3262)\n",
      "🔧 Augmenting label 7: 2187 → 5000 (+2813)\n",
      "Label distribution after resampling:\n",
      "  label 0: 5625\n",
      "  label 1: 5000\n",
      "  label 2: 8441\n",
      "  label 3: 10771\n",
      "  label 4: 5000\n",
      "  label 5: 5579\n",
      "  label 6: 5000\n",
      "  label 7: 5000\n",
      "model is roberta-base\n"
     ]
    },
    {
     "name": "stderr",
     "output_type": "stream",
     "text": [
      "Some weights of RobertaForSequenceClassification were not initialized from the model checkpoint at roberta-base and are newly initialized: ['classifier.dense.bias', 'classifier.dense.weight', 'classifier.out_proj.bias', 'classifier.out_proj.weight']\n",
      "You should probably TRAIN this model on a down-stream task to be able to use it for predictions and inference.\n"
     ]
    },
    {
     "name": "stdout",
     "output_type": "stream",
     "text": [
      "Using weighted CrossEntropyLoss with weights: tensor([2.1931, 2.3109, 1.7872, 1.5435, 2.3109, 2.2013, 2.3109, 2.3109],\n",
      "       device='cuda:0')\n",
      "Epoch 1/20\n"
     ]
    },
    {
     "name": "stderr",
     "output_type": "stream",
     "text": [
      "100%|██████████| 3151/3151 [04:30<00:00, 11.66it/s]\n"
     ]
    },
    {
     "name": "stdout",
     "output_type": "stream",
     "text": [
      "{'val_loss': 0.49906089226277467, 'val_accuracy': 0.8363267051528758, 'precision': 0.8383220646087889, 'recall': 0.8363267051528758, 'f1-score': 0.836270478866434, 'macro_f1-score': 0.8366232610184459, 'balanced_accuracy': 0.8155364960508615, 'mcc': 0.7976826638834964, 'train_loss': 0.5696282771698863}\n",
      "Epoch 2/20\n"
     ]
    },
    {
     "name": "stderr",
     "output_type": "stream",
     "text": [
      "100%|██████████| 3151/3151 [04:30<00:00, 11.65it/s]\n"
     ]
    },
    {
     "name": "stdout",
     "output_type": "stream",
     "text": [
      "{'val_loss': 0.49194432225746987, 'val_accuracy': 0.8412443874278384, 'precision': 0.8465748803474039, 'recall': 0.8412443874278384, 'f1-score': 0.8410600320834647, 'macro_f1-score': 0.8429363793642127, 'balanced_accuracy': 0.8455616229274912, 'mcc': 0.8061378746566848, 'train_loss': 0.38664724920932186}\n",
      "Epoch 3/20\n"
     ]
    },
    {
     "name": "stderr",
     "output_type": "stream",
     "text": [
      "100%|██████████| 3151/3151 [04:30<00:00, 11.64it/s]\n"
     ]
    },
    {
     "name": "stdout",
     "output_type": "stream",
     "text": [
      "{'val_loss': 0.4901554103494964, 'val_accuracy': 0.8376095787898226, 'precision': 0.8421117139893742, 'recall': 0.8376095787898226, 'f1-score': 0.8380906712721454, 'macro_f1-score': 0.8373485666107938, 'balanced_accuracy': 0.8559054724022381, 'mcc': 0.80244820366766, 'train_loss': 0.317450362818049}\n",
      "Epoch 4/20\n"
     ]
    },
    {
     "name": "stderr",
     "output_type": "stream",
     "text": [
      "100%|██████████| 3151/3151 [04:30<00:00, 11.65it/s]\n"
     ]
    },
    {
     "name": "stdout",
     "output_type": "stream",
     "text": [
      "{'val_loss': 0.5026188944187812, 'val_accuracy': 0.8470173187940988, 'precision': 0.8500007202133859, 'recall': 0.8470173187940988, 'f1-score': 0.8460815401542305, 'macro_f1-score': 0.8451693533760325, 'balanced_accuracy': 0.828967638042146, 'mcc': 0.8114874685833197, 'train_loss': 0.2752696719502079}\n",
      "Epoch 5/20\n"
     ]
    },
    {
     "name": "stderr",
     "output_type": "stream",
     "text": [
      "100%|██████████| 3151/3151 [04:30<00:00, 11.65it/s]\n"
     ]
    },
    {
     "name": "stdout",
     "output_type": "stream",
     "text": [
      "{'val_loss': 0.47141445103523316, 'val_accuracy': 0.8553559974342527, 'precision': 0.8578394555059071, 'recall': 0.8553559974342527, 'f1-score': 0.8554275814169126, 'macro_f1-score': 0.8538583602028581, 'balanced_accuracy': 0.8477205824431042, 'mcc': 0.8221571679802097, 'train_loss': 0.23097593715560413}\n",
      "Epoch 6/20\n"
     ]
    },
    {
     "name": "stderr",
     "output_type": "stream",
     "text": [
      "100%|██████████| 3151/3151 [04:30<00:00, 11.65it/s]\n"
     ]
    },
    {
     "name": "stdout",
     "output_type": "stream",
     "text": [
      "{'val_loss': 0.4835679218953109, 'val_accuracy': 0.8569595894804362, 'precision': 0.8578647726887724, 'recall': 0.8569595894804362, 'f1-score': 0.8568203340826782, 'macro_f1-score': 0.8549978496112403, 'balanced_accuracy': 0.853519503800874, 'mcc': 0.8244623351666408, 'train_loss': 0.18723318542803657}\n",
      "Epoch 7/20\n"
     ]
    },
    {
     "name": "stderr",
     "output_type": "stream",
     "text": [
      "100%|██████████| 3151/3151 [04:30<00:00, 11.65it/s]\n"
     ]
    },
    {
     "name": "stdout",
     "output_type": "stream",
     "text": [
      "{'val_loss': 0.553382156505528, 'val_accuracy': 0.852683344023947, 'precision': 0.8567786209291384, 'recall': 0.852683344023947, 'f1-score': 0.8533637250550812, 'macro_f1-score': 0.8499448329259482, 'balanced_accuracy': 0.8580570463381029, 'mcc': 0.8200981782271377, 'train_loss': 0.16362467127298255}\n",
      "Epoch 8/20\n"
     ]
    },
    {
     "name": "stderr",
     "output_type": "stream",
     "text": [
      "100%|██████████| 3151/3151 [04:30<00:00, 11.65it/s]\n"
     ]
    },
    {
     "name": "stdout",
     "output_type": "stream",
     "text": [
      "{'val_loss': 0.5220018684083962, 'val_accuracy': 0.8570664956168484, 'precision': 0.8605370801223083, 'recall': 0.8570664956168484, 'f1-score': 0.857595937032353, 'macro_f1-score': 0.859351895425231, 'balanced_accuracy': 0.8421760617138071, 'mcc': 0.823622002213262, 'train_loss': 0.1384491399500619}\n",
      "Epoch 9/20\n"
     ]
    },
    {
     "name": "stderr",
     "output_type": "stream",
     "text": [
      "100%|██████████| 3151/3151 [04:30<00:00, 11.65it/s]\n"
     ]
    },
    {
     "name": "stdout",
     "output_type": "stream",
     "text": [
      "{'val_loss': 0.510572921201332, 'val_accuracy': 0.858776993799444, 'precision': 0.8611031989619249, 'recall': 0.858776993799444, 'f1-score': 0.8589762335856378, 'macro_f1-score': 0.8601134843155567, 'balanced_accuracy': 0.8568367396554067, 'mcc': 0.8268115147576957, 'train_loss': 0.11460891684900168}\n",
      "Epoch 10/20\n"
     ]
    },
    {
     "name": "stderr",
     "output_type": "stream",
     "text": [
      "100%|██████████| 3151/3151 [04:30<00:00, 11.65it/s]\n"
     ]
    },
    {
     "name": "stdout",
     "output_type": "stream",
     "text": [
      "{'val_loss': 0.8335238986652599, 'val_accuracy': 0.8282018387855463, 'precision': 0.838594635431531, 'recall': 0.8282018387855463, 'f1-score': 0.828147499438055, 'macro_f1-score': 0.8144438742393163, 'balanced_accuracy': 0.8361896364178046, 'mcc': 0.7912242554999965, 'train_loss': 0.10106770880937828}\n",
      "Epoch 11/20\n"
     ]
    },
    {
     "name": "stderr",
     "output_type": "stream",
     "text": [
      "100%|██████████| 3151/3151 [04:30<00:00, 11.65it/s]\n"
     ]
    },
    {
     "name": "stdout",
     "output_type": "stream",
     "text": [
      "{'val_loss': 0.6335556687162314, 'val_accuracy': 0.8632670515287577, 'precision': 0.8641538209099717, 'recall': 0.8632670515287577, 'f1-score': 0.8632433340410877, 'macro_f1-score': 0.8638690367452468, 'balanced_accuracy': 0.8568096338443886, 'mcc': 0.8316062111169915, 'train_loss': 0.0855773428626016}\n",
      "Epoch 12/20\n"
     ]
    },
    {
     "name": "stderr",
     "output_type": "stream",
     "text": [
      "100%|██████████| 3151/3151 [04:30<00:00, 11.65it/s]\n"
     ]
    },
    {
     "name": "stdout",
     "output_type": "stream",
     "text": [
      "{'val_loss': 0.6362008555177361, 'val_accuracy': 0.8500106906136412, 'precision': 0.8514315144377742, 'recall': 0.8500106906136412, 'f1-score': 0.8492845933699278, 'macro_f1-score': 0.8451111488735177, 'balanced_accuracy': 0.855912566577635, 'mcc': 0.8171071119527168, 'train_loss': 0.07857227216440944}\n",
      "Epoch 13/20\n"
     ]
    },
    {
     "name": "stderr",
     "output_type": "stream",
     "text": [
      "100%|██████████| 3151/3151 [04:30<00:00, 11.64it/s]\n"
     ]
    },
    {
     "name": "stdout",
     "output_type": "stream",
     "text": [
      "{'val_loss': 0.7095037416459468, 'val_accuracy': 0.858242463117383, 'precision': 0.8596179881623001, 'recall': 0.858242463117383, 'f1-score': 0.8585921952337454, 'macro_f1-score': 0.858010681924991, 'balanced_accuracy': 0.849464239106736, 'mcc': 0.8251044907382167, 'train_loss': 0.0736885815122332}\n",
      "Epoch 14/20\n"
     ]
    },
    {
     "name": "stderr",
     "output_type": "stream",
     "text": [
      "100%|██████████| 3151/3151 [04:30<00:00, 11.65it/s]\n"
     ]
    },
    {
     "name": "stdout",
     "output_type": "stream",
     "text": [
      "{'val_loss': 0.706086887846677, 'val_accuracy': 0.8517211887962369, 'precision': 0.8531344211087889, 'recall': 0.8517211887962369, 'f1-score': 0.8518484220652374, 'macro_f1-score': 0.8517756540066103, 'balanced_accuracy': 0.8573224042476066, 'mcc': 0.8179049402080495, 'train_loss': 0.06647406657248847}\n",
      "Early stopping.\n",
      "\n",
      " === roberta-base + plain + t5 Final 5-fold Cross-Validation Results ===\n",
      "val_loss: 0.7730\n",
      "val_accuracy: 0.7457\n",
      "precision: 0.7059\n",
      "recall: 0.7457\n",
      "f1-score: 0.7138\n",
      "macro_f1-score: 0.6986\n",
      "balanced_accuracy: 0.7084\n",
      "mcc: 0.6624\n",
      "train_loss: 0.5617\n",
      "total_seconds: 25320.0000\n",
      "total_time: 7 hrs 2 mins 0 secs\n",
      "▶ Running: roberta-base + cnn + t5\n",
      "tokenizer is roberta-base\n",
      "Using device: cuda\n",
      "CUDA Available: True\n",
      "CUDA Device: NVIDIA GeForce RTX 5070 Ti\n",
      "Current GPU Memory Allocated: 0.02 GB\n",
      "Current GPU Memory Cached: 3.40 GB\n",
      "\n",
      "[Fold 1]\n",
      "🚀 Using T5-paraphraser for data augmentation + under-sampling\n",
      "Using device: cuda\n",
      "CUDA Available: True\n",
      "CUDA Device: NVIDIA GeForce RTX 5070 Ti\n",
      "Current GPU Memory Allocated: 0.02 GB\n",
      "Current GPU Memory Cached: 3.40 GB\n",
      "🔧 Augmenting label 1: 1399 → 5000 (+3601)\n",
      "🔧 Augmenting label 4: 1678 → 5000 (+3322)\n",
      "🔧 Augmenting label 6: 1737 → 5000 (+3263)\n",
      "🔧 Augmenting label 7: 2187 → 5000 (+2813)\n",
      "Label distribution after resampling:\n",
      "  label 0: 5626\n",
      "  label 1: 5000\n",
      "  label 2: 8442\n",
      "  label 3: 10770\n",
      "  label 4: 5000\n",
      "  label 5: 5578\n",
      "  label 6: 5000\n",
      "  label 7: 5000\n",
      "model is roberta-base cnn\n"
     ]
    },
    {
     "name": "stderr",
     "output_type": "stream",
     "text": [
      "Some weights of RobertaModel were not initialized from the model checkpoint at roberta-base and are newly initialized: ['pooler.dense.bias', 'pooler.dense.weight']\n",
      "You should probably TRAIN this model on a down-stream task to be able to use it for predictions and inference.\n"
     ]
    },
    {
     "name": "stdout",
     "output_type": "stream",
     "text": [
      "Using weighted CrossEntropyLoss with weights: tensor([2.1929, 2.3109, 1.7871, 1.5435, 2.3109, 2.2015, 2.3109, 2.3109],\n",
      "       device='cuda:0')\n",
      "Epoch 1/20\n"
     ]
    },
    {
     "name": "stderr",
     "output_type": "stream",
     "text": [
      "100%|██████████| 3151/3151 [04:35<00:00, 11.44it/s]\n"
     ]
    },
    {
     "name": "stdout",
     "output_type": "stream",
     "text": [
      "{'val_loss': 0.5209871202325209, 'val_accuracy': 0.8338856226616782, 'precision': 0.841378768424219, 'recall': 0.8338856226616782, 'f1-score': 0.833863546357501, 'macro_f1-score': 0.8311731263403563, 'balanced_accuracy': 0.818072622383172, 'mcc': 0.7963305923271747, 'train_loss': 0.6090860771732325}\n",
      "Epoch 2/20\n"
     ]
    },
    {
     "name": "stderr",
     "output_type": "stream",
     "text": [
      "100%|██████████| 3151/3151 [04:35<00:00, 11.43it/s]\n"
     ]
    },
    {
     "name": "stdout",
     "output_type": "stream",
     "text": [
      "{'val_loss': 0.4752044471792686, 'val_accuracy': 0.8497060395510422, 'precision': 0.8542256777458117, 'recall': 0.8497060395510422, 'f1-score': 0.8497212886763361, 'macro_f1-score': 0.8443589702344647, 'balanced_accuracy': 0.8379812325979408, 'mcc': 0.81492474445224, 'train_loss': 0.40783234128402795}\n",
      "Epoch 3/20\n"
     ]
    },
    {
     "name": "stderr",
     "output_type": "stream",
     "text": [
      "100%|██████████| 3151/3151 [04:35<00:00, 11.44it/s]\n"
     ]
    },
    {
     "name": "stdout",
     "output_type": "stream",
     "text": [
      "{'val_loss': 0.45453803777758384, 'val_accuracy': 0.8419027258150722, 'precision': 0.850683614233885, 'recall': 0.8419027258150722, 'f1-score': 0.8420339784523125, 'macro_f1-score': 0.8365873881257556, 'balanced_accuracy': 0.8468609362154843, 'mcc': 0.8088075538864616, 'train_loss': 0.3391569781070442}\n",
      "Epoch 4/20\n"
     ]
    },
    {
     "name": "stderr",
     "output_type": "stream",
     "text": [
      "100%|██████████| 3151/3151 [04:35<00:00, 11.44it/s]\n"
     ]
    },
    {
     "name": "stdout",
     "output_type": "stream",
     "text": [
      "{'val_loss': 0.4188918820176369, 'val_accuracy': 0.8634954569748797, 'precision': 0.8646939192936571, 'recall': 0.8634954569748797, 'f1-score': 0.8629298749379345, 'macro_f1-score': 0.8553066123938438, 'balanced_accuracy': 0.8498541787794665, 'mcc': 0.8317006427457179, 'train_loss': 0.28105635994998607}\n",
      "Epoch 5/20\n"
     ]
    },
    {
     "name": "stderr",
     "output_type": "stream",
     "text": [
      "100%|██████████| 3151/3151 [04:35<00:00, 11.44it/s]\n"
     ]
    },
    {
     "name": "stdout",
     "output_type": "stream",
     "text": [
      "{'val_loss': 0.42341669242606206, 'val_accuracy': 0.8641368252271513, 'precision': 0.868542572652284, 'recall': 0.8641368252271513, 'f1-score': 0.8643084553976044, 'macro_f1-score': 0.8582657661605155, 'balanced_accuracy': 0.8370192940616472, 'mcc': 0.8324126370002383, 'train_loss': 0.23711390643756983}\n",
      "Epoch 6/20\n"
     ]
    },
    {
     "name": "stderr",
     "output_type": "stream",
     "text": [
      "100%|██████████| 3151/3151 [04:35<00:00, 11.44it/s]\n"
     ]
    },
    {
     "name": "stdout",
     "output_type": "stream",
     "text": [
      "{'val_loss': 0.421381679454293, 'val_accuracy': 0.8640299305184393, 'precision': 0.8646009748028981, 'recall': 0.8640299305184393, 'f1-score': 0.8638164082244965, 'macro_f1-score': 0.8579252346895816, 'balanced_accuracy': 0.8587763768594041, 'mcc': 0.833013013390945, 'train_loss': 0.18602564394256346}\n",
      "Epoch 7/20\n"
     ]
    },
    {
     "name": "stderr",
     "output_type": "stream",
     "text": [
      "100%|██████████| 3151/3151 [04:35<00:00, 11.44it/s]\n"
     ]
    },
    {
     "name": "stdout",
     "output_type": "stream",
     "text": [
      "{'val_loss': 0.5158003843763572, 'val_accuracy': 0.8649919828968466, 'precision': 0.868585719542591, 'recall': 0.8649919828968466, 'f1-score': 0.8653145544811361, 'macro_f1-score': 0.8603229914651006, 'balanced_accuracy': 0.8522061186030155, 'mcc': 0.8339670906380305, 'train_loss': 0.16240587815776394}\n",
      "Epoch 8/20\n"
     ]
    },
    {
     "name": "stderr",
     "output_type": "stream",
     "text": [
      "100%|██████████| 3151/3151 [04:35<00:00, 11.44it/s]\n"
     ]
    },
    {
     "name": "stdout",
     "output_type": "stream",
     "text": [
      "{'val_loss': 0.6035035342551195, 'val_accuracy': 0.8299305184393373, 'precision': 0.8473868469398761, 'recall': 0.8299305184393373, 'f1-score': 0.8320805207183204, 'macro_f1-score': 0.8284574070295972, 'balanced_accuracy': 0.863777280974751, 'mcc': 0.7966900315968575, 'train_loss': 0.13730704096674692}\n",
      "Epoch 9/20\n"
     ]
    },
    {
     "name": "stderr",
     "output_type": "stream",
     "text": [
      "100%|██████████| 3151/3151 [04:35<00:00, 11.44it/s]\n"
     ]
    },
    {
     "name": "stdout",
     "output_type": "stream",
     "text": [
      "{'val_loss': 0.522580720235108, 'val_accuracy': 0.8637092463923036, 'precision': 0.8641925991349761, 'recall': 0.8637092463923036, 'f1-score': 0.863761599107423, 'macro_f1-score': 0.8583001291937766, 'balanced_accuracy': 0.8584102937486819, 'mcc': 0.8325065725056715, 'train_loss': 0.11992462725761587}\n",
      "Epoch 10/20\n"
     ]
    },
    {
     "name": "stderr",
     "output_type": "stream",
     "text": [
      "100%|██████████| 3151/3151 [04:35<00:00, 11.44it/s]\n"
     ]
    },
    {
     "name": "stdout",
     "output_type": "stream",
     "text": [
      "{'val_loss': 0.5133707647769051, 'val_accuracy': 0.8643506146445751, 'precision': 0.8647689032855731, 'recall': 0.8643506146445751, 'f1-score': 0.8642060231084516, 'macro_f1-score': 0.8591366040493424, 'balanced_accuracy': 0.8555892002152242, 'mcc': 0.8329637842339742, 'train_loss': 0.10443124793079687}\n",
      "Early stopping.\n",
      "\n",
      "[Fold 2]\n",
      "🚀 Using T5-paraphraser for data augmentation + under-sampling\n",
      "Using device: cuda\n",
      "CUDA Available: True\n",
      "CUDA Device: NVIDIA GeForce RTX 5070 Ti\n",
      "Current GPU Memory Allocated: 2.04 GB\n",
      "Current GPU Memory Cached: 3.40 GB\n",
      "🔧 Augmenting label 1: 1400 → 5000 (+3600)\n",
      "🔧 Augmenting label 4: 1678 → 5000 (+3322)\n",
      "🔧 Augmenting label 6: 1737 → 5000 (+3263)\n",
      "🔧 Augmenting label 7: 2186 → 5000 (+2814)\n",
      "Label distribution after resampling:\n",
      "  label 0: 5626\n",
      "  label 1: 5000\n",
      "  label 2: 8442\n",
      "  label 3: 10770\n",
      "  label 4: 5000\n",
      "  label 5: 5578\n",
      "  label 6: 5000\n",
      "  label 7: 5000\n",
      "model is roberta-base cnn\n"
     ]
    },
    {
     "name": "stderr",
     "output_type": "stream",
     "text": [
      "Some weights of RobertaModel were not initialized from the model checkpoint at roberta-base and are newly initialized: ['pooler.dense.bias', 'pooler.dense.weight']\n",
      "You should probably TRAIN this model on a down-stream task to be able to use it for predictions and inference.\n"
     ]
    },
    {
     "name": "stdout",
     "output_type": "stream",
     "text": [
      "Using weighted CrossEntropyLoss with weights: tensor([2.1929, 2.3109, 1.7871, 1.5435, 2.3109, 2.2015, 2.3109, 2.3109],\n",
      "       device='cuda:0')\n",
      "Epoch 1/20\n"
     ]
    },
    {
     "name": "stderr",
     "output_type": "stream",
     "text": [
      "100%|██████████| 3151/3151 [04:35<00:00, 11.44it/s]\n"
     ]
    },
    {
     "name": "stdout",
     "output_type": "stream",
     "text": [
      "{'val_loss': 0.5326130642022333, 'val_accuracy': 0.8240513094601817, 'precision': 0.8278333107345913, 'recall': 0.8240513094601817, 'f1-score': 0.8232509275283175, 'macro_f1-score': 0.8242900021524819, 'balanced_accuracy': 0.8377102930456108, 'mcc': 0.7852048711000386, 'train_loss': 0.6001323091096157}\n",
      "Epoch 2/20\n"
     ]
    },
    {
     "name": "stderr",
     "output_type": "stream",
     "text": [
      "100%|██████████| 3151/3151 [04:35<00:00, 11.44it/s]\n"
     ]
    },
    {
     "name": "stdout",
     "output_type": "stream",
     "text": [
      "{'val_loss': 0.5393674824482355, 'val_accuracy': 0.8295029396044896, 'precision': 0.8364254040061346, 'recall': 0.8295029396044896, 'f1-score': 0.8292173953279008, 'macro_f1-score': 0.823360279666935, 'balanced_accuracy': 0.8566403415787052, 'mcc': 0.7940494660738939, 'train_loss': 0.40353544837089095}\n",
      "Epoch 3/20\n"
     ]
    },
    {
     "name": "stderr",
     "output_type": "stream",
     "text": [
      "100%|██████████| 3151/3151 [04:35<00:00, 11.44it/s]\n"
     ]
    },
    {
     "name": "stdout",
     "output_type": "stream",
     "text": [
      "{'val_loss': 0.46987798651123147, 'val_accuracy': 0.8368786745056119, 'precision': 0.8403824949597508, 'recall': 0.8368786745056119, 'f1-score': 0.8360869973048584, 'macro_f1-score': 0.8373388259533276, 'balanced_accuracy': 0.8483531699815721, 'mcc': 0.80180796555766, 'train_loss': 0.344540271312557}\n",
      "Epoch 4/20\n"
     ]
    },
    {
     "name": "stderr",
     "output_type": "stream",
     "text": [
      "100%|██████████| 3151/3151 [04:35<00:00, 11.44it/s]\n"
     ]
    },
    {
     "name": "stdout",
     "output_type": "stream",
     "text": [
      "{'val_loss': 0.4249495249846552, 'val_accuracy': 0.8481026189203634, 'precision': 0.8502877068952518, 'recall': 0.8481026189203634, 'f1-score': 0.847970839591034, 'macro_f1-score': 0.8444576080821897, 'balanced_accuracy': 0.8648923032130795, 'mcc': 0.8149214462285683, 'train_loss': 0.2900646097041248}\n",
      "Epoch 5/20\n"
     ]
    },
    {
     "name": "stderr",
     "output_type": "stream",
     "text": [
      "100%|██████████| 3151/3151 [04:35<00:00, 11.44it/s]\n"
     ]
    },
    {
     "name": "stdout",
     "output_type": "stream",
     "text": [
      "{'val_loss': 0.4675636963075043, 'val_accuracy': 0.8458578300374131, 'precision': 0.8488365506494662, 'recall': 0.8458578300374131, 'f1-score': 0.84517852578084, 'macro_f1-score': 0.8451873080148082, 'balanced_accuracy': 0.8250785662912183, 'mcc': 0.8100193544122074, 'train_loss': 0.2636727817036712}\n",
      "Epoch 6/20\n"
     ]
    },
    {
     "name": "stderr",
     "output_type": "stream",
     "text": [
      "100%|██████████| 3151/3151 [04:35<00:00, 11.44it/s]\n"
     ]
    },
    {
     "name": "stdout",
     "output_type": "stream",
     "text": [
      "{'val_loss': 0.494198781481156, 'val_accuracy': 0.8512025654730091, 'precision': 0.8529521447441559, 'recall': 0.8512025654730091, 'f1-score': 0.8511756747935901, 'macro_f1-score': 0.8511238157503334, 'balanced_accuracy': 0.854552218377149, 'mcc': 0.8175705895792543, 'train_loss': 0.21321909721383323}\n",
      "Epoch 7/20\n"
     ]
    },
    {
     "name": "stderr",
     "output_type": "stream",
     "text": [
      "100%|██████████| 3151/3151 [04:35<00:00, 11.44it/s]\n"
     ]
    },
    {
     "name": "stdout",
     "output_type": "stream",
     "text": [
      "{'val_loss': 0.4742788691073656, 'val_accuracy': 0.8508818813468734, 'precision': 0.8514874628064595, 'recall': 0.8508818813468734, 'f1-score': 0.8508405534913017, 'macro_f1-score': 0.8515639501888279, 'balanced_accuracy': 0.857097059708589, 'mcc': 0.8170049117874514, 'train_loss': 0.1839818685206634}\n",
      "Epoch 8/20\n"
     ]
    },
    {
     "name": "stderr",
     "output_type": "stream",
     "text": [
      "100%|██████████| 3151/3151 [04:35<00:00, 11.44it/s]\n"
     ]
    },
    {
     "name": "stdout",
     "output_type": "stream",
     "text": [
      "{'val_loss': 0.502702390627028, 'val_accuracy': 0.8543025120256548, 'precision': 0.8559886950744268, 'recall': 0.8543025120256548, 'f1-score': 0.8543038987195247, 'macro_f1-score': 0.8541812027367791, 'balanced_accuracy': 0.8417630753576928, 'mcc': 0.8201878796860411, 'train_loss': 0.15456056769022727}\n",
      "Epoch 9/20\n"
     ]
    },
    {
     "name": "stderr",
     "output_type": "stream",
     "text": [
      "100%|██████████| 3151/3151 [04:35<00:00, 11.44it/s]\n"
     ]
    },
    {
     "name": "stdout",
     "output_type": "stream",
     "text": [
      "{'val_loss': 0.520071686242317, 'val_accuracy': 0.8535542490646713, 'precision': 0.8547911887873272, 'recall': 0.8535542490646713, 'f1-score': 0.8535473577403514, 'macro_f1-score': 0.8560161673400897, 'balanced_accuracy': 0.8479125262674067, 'mcc': 0.8197703371930951, 'train_loss': 0.1330052561952788}\n",
      "Epoch 10/20\n"
     ]
    },
    {
     "name": "stderr",
     "output_type": "stream",
     "text": [
      "100%|██████████| 3151/3151 [04:35<00:00, 11.44it/s]\n"
     ]
    },
    {
     "name": "stdout",
     "output_type": "stream",
     "text": [
      "{'val_loss': 0.5660398200504545, 'val_accuracy': 0.8540887226082309, 'precision': 0.8554725304573401, 'recall': 0.8540887226082309, 'f1-score': 0.8543988344315683, 'macro_f1-score': 0.8562454989870427, 'balanced_accuracy': 0.8510865365671346, 'mcc': 0.8201982191703232, 'train_loss': 0.11737505176518913}\n",
      "Epoch 11/20\n"
     ]
    },
    {
     "name": "stderr",
     "output_type": "stream",
     "text": [
      "100%|██████████| 3151/3151 [04:35<00:00, 11.44it/s]\n"
     ]
    },
    {
     "name": "stdout",
     "output_type": "stream",
     "text": [
      "{'val_loss': 0.6166382193915609, 'val_accuracy': 0.846178514163549, 'precision': 0.8491976773141948, 'recall': 0.846178514163549, 'f1-score': 0.8460766909361246, 'macro_f1-score': 0.8436989275828273, 'balanced_accuracy': 0.8339426992888731, 'mcc': 0.8101741373214911, 'train_loss': 0.09955303748901544}\n",
      "Epoch 12/20\n"
     ]
    },
    {
     "name": "stderr",
     "output_type": "stream",
     "text": [
      "100%|██████████| 3151/3151 [04:35<00:00, 11.45it/s]\n"
     ]
    },
    {
     "name": "stdout",
     "output_type": "stream",
     "text": [
      "{'val_loss': 0.6386473833639016, 'val_accuracy': 0.846178514163549, 'precision': 0.847758289402165, 'recall': 0.846178514163549, 'f1-score': 0.8461903241468128, 'macro_f1-score': 0.8458568824646513, 'balanced_accuracy': 0.834945230024388, 'mcc': 0.8103716810581202, 'train_loss': 0.09572720407853089}\n",
      "Epoch 13/20\n"
     ]
    },
    {
     "name": "stderr",
     "output_type": "stream",
     "text": [
      "100%|██████████| 3151/3151 [04:35<00:00, 11.45it/s]\n"
     ]
    },
    {
     "name": "stdout",
     "output_type": "stream",
     "text": [
      "{'val_loss': 0.6627337820163299, 'val_accuracy': 0.8438268305718867, 'precision': 0.845463075982804, 'recall': 0.8438268305718867, 'f1-score': 0.8437657079213416, 'macro_f1-score': 0.8444371336068384, 'balanced_accuracy': 0.8485618453915621, 'mcc': 0.8086203204738047, 'train_loss': 0.08806049981775112}\n",
      "Early stopping.\n",
      "\n",
      "[Fold 3]\n",
      "🚀 Using T5-paraphraser for data augmentation + under-sampling\n",
      "Using device: cuda\n",
      "CUDA Available: True\n",
      "CUDA Device: NVIDIA GeForce RTX 5070 Ti\n",
      "Current GPU Memory Allocated: 2.04 GB\n",
      "Current GPU Memory Cached: 3.40 GB\n",
      "🔧 Augmenting label 1: 1399 → 5000 (+3601)\n",
      "🔧 Augmenting label 4: 1679 → 5000 (+3321)\n",
      "🔧 Augmenting label 6: 1738 → 5000 (+3262)\n",
      "🔧 Augmenting label 7: 2186 → 5000 (+2814)\n",
      "Label distribution after resampling:\n",
      "  label 0: 5626\n",
      "  label 1: 5000\n",
      "  label 2: 8442\n",
      "  label 3: 10770\n",
      "  label 4: 5000\n",
      "  label 5: 5578\n",
      "  label 6: 5000\n",
      "  label 7: 5000\n",
      "model is roberta-base cnn\n"
     ]
    },
    {
     "name": "stderr",
     "output_type": "stream",
     "text": [
      "Some weights of RobertaModel were not initialized from the model checkpoint at roberta-base and are newly initialized: ['pooler.dense.bias', 'pooler.dense.weight']\n",
      "You should probably TRAIN this model on a down-stream task to be able to use it for predictions and inference.\n"
     ]
    },
    {
     "name": "stdout",
     "output_type": "stream",
     "text": [
      "Using weighted CrossEntropyLoss with weights: tensor([2.1929, 2.3109, 1.7871, 1.5435, 2.3109, 2.2015, 2.3109, 2.3109],\n",
      "       device='cuda:0')\n",
      "Epoch 1/20\n"
     ]
    },
    {
     "name": "stderr",
     "output_type": "stream",
     "text": [
      "100%|██████████| 3151/3151 [04:35<00:00, 11.44it/s]\n"
     ]
    },
    {
     "name": "stdout",
     "output_type": "stream",
     "text": [
      "{'val_loss': 0.5140714400981227, 'val_accuracy': 0.8373957665169981, 'precision': 0.8412178484385464, 'recall': 0.8373957665169981, 'f1-score': 0.8368275398668041, 'macro_f1-score': 0.8368516795287453, 'balanced_accuracy': 0.8579873298460263, 'mcc': 0.8026196407194613, 'train_loss': 0.6225131564338844}\n",
      "Epoch 2/20\n"
     ]
    },
    {
     "name": "stderr",
     "output_type": "stream",
     "text": [
      "100%|██████████| 3151/3151 [04:35<00:00, 11.44it/s]\n"
     ]
    },
    {
     "name": "stdout",
     "output_type": "stream",
     "text": [
      "{'val_loss': 0.42584947526582284, 'val_accuracy': 0.8566388710711995, 'precision': 0.8587036412986998, 'recall': 0.8566388710711995, 'f1-score': 0.8564701768375644, 'macro_f1-score': 0.8511116662540382, 'balanced_accuracy': 0.8449183302791041, 'mcc': 0.8236065949153977, 'train_loss': 0.40945883594354027}\n",
      "Epoch 3/20\n"
     ]
    },
    {
     "name": "stderr",
     "output_type": "stream",
     "text": [
      "100%|██████████| 3151/3151 [04:35<00:00, 11.44it/s]\n"
     ]
    },
    {
     "name": "stdout",
     "output_type": "stream",
     "text": [
      "{'val_loss': 0.4021518680274996, 'val_accuracy': 0.8661535172118879, 'precision': 0.8669007545442808, 'recall': 0.8661535172118879, 'f1-score': 0.8663878549615516, 'macro_f1-score': 0.8654381336556662, 'balanced_accuracy': 0.8623450978618051, 'mcc': 0.8351926846165131, 'train_loss': 0.3346884273588468}\n",
      "Epoch 4/20\n"
     ]
    },
    {
     "name": "stderr",
     "output_type": "stream",
     "text": [
      "100%|██████████| 3151/3151 [04:35<00:00, 11.44it/s]\n"
     ]
    },
    {
     "name": "stdout",
     "output_type": "stream",
     "text": [
      "{'val_loss': 0.4245689570266976, 'val_accuracy': 0.8607013042548642, 'precision': 0.865191945689499, 'recall': 0.8607013042548642, 'f1-score': 0.8608324019000635, 'macro_f1-score': 0.8627514220210415, 'balanced_accuracy': 0.8397207448152011, 'mcc': 0.8282491095545498, 'train_loss': 0.28412725086409923}\n",
      "Epoch 5/20\n"
     ]
    },
    {
     "name": "stderr",
     "output_type": "stream",
     "text": [
      "100%|██████████| 3151/3151 [04:35<00:00, 11.44it/s]\n"
     ]
    },
    {
     "name": "stdout",
     "output_type": "stream",
     "text": [
      "{'val_loss': 0.40291815914022616, 'val_accuracy': 0.8567457772076117, 'precision': 0.8593869679957993, 'recall': 0.8567457772076117, 'f1-score': 0.8569069071924005, 'macro_f1-score': 0.8507090169986795, 'balanced_accuracy': 0.8634206607253312, 'mcc': 0.8248907619045347, 'train_loss': 0.23000608180049287}\n",
      "Epoch 6/20\n"
     ]
    },
    {
     "name": "stderr",
     "output_type": "stream",
     "text": [
      "100%|██████████| 3151/3151 [04:35<00:00, 11.44it/s]\n"
     ]
    },
    {
     "name": "stdout",
     "output_type": "stream",
     "text": [
      "{'val_loss': 0.4074830084625218, 'val_accuracy': 0.8659397049390635, 'precision': 0.8665368568725644, 'recall': 0.8659397049390635, 'f1-score': 0.8659137300168324, 'macro_f1-score': 0.8637329423416609, 'balanced_accuracy': 0.8687715880699619, 'mcc': 0.8353084450408722, 'train_loss': 0.19120183231000784}\n",
      "Early stopping.\n",
      "\n",
      "[Fold 4]\n",
      "🚀 Using T5-paraphraser for data augmentation + under-sampling\n",
      "Using device: cuda\n",
      "CUDA Available: True\n",
      "CUDA Device: NVIDIA GeForce RTX 5070 Ti\n",
      "Current GPU Memory Allocated: 2.04 GB\n",
      "Current GPU Memory Cached: 3.40 GB\n",
      "🔧 Augmenting label 1: 1399 → 5000 (+3601)\n",
      "🔧 Augmenting label 4: 1679 → 5000 (+3321)\n",
      "🔧 Augmenting label 6: 1738 → 5000 (+3262)\n",
      "🔧 Augmenting label 7: 2186 → 5000 (+2814)\n",
      "Label distribution after resampling:\n",
      "  label 0: 5625\n",
      "  label 1: 5000\n",
      "  label 2: 8441\n",
      "  label 3: 10771\n",
      "  label 4: 5000\n",
      "  label 5: 5579\n",
      "  label 6: 5000\n",
      "  label 7: 5000\n",
      "model is roberta-base cnn\n"
     ]
    },
    {
     "name": "stderr",
     "output_type": "stream",
     "text": [
      "Some weights of RobertaModel were not initialized from the model checkpoint at roberta-base and are newly initialized: ['pooler.dense.bias', 'pooler.dense.weight']\n",
      "You should probably TRAIN this model on a down-stream task to be able to use it for predictions and inference.\n"
     ]
    },
    {
     "name": "stdout",
     "output_type": "stream",
     "text": [
      "Using weighted CrossEntropyLoss with weights: tensor([2.1931, 2.3109, 1.7872, 1.5435, 2.3109, 2.2013, 2.3109, 2.3109],\n",
      "       device='cuda:0')\n",
      "Epoch 1/20\n"
     ]
    },
    {
     "name": "stderr",
     "output_type": "stream",
     "text": [
      "100%|██████████| 3151/3151 [04:35<00:00, 11.43it/s]\n"
     ]
    },
    {
     "name": "stdout",
     "output_type": "stream",
     "text": [
      "{'val_loss': 0.4885306757994187, 'val_accuracy': 0.8391062646995937, 'precision': 0.8401713469564356, 'recall': 0.8391062646995937, 'f1-score': 0.8387704643808248, 'macro_f1-score': 0.8409700950234149, 'balanced_accuracy': 0.8387171336383747, 'mcc': 0.802621770298228, 'train_loss': 0.5981583316097824}\n",
      "Epoch 2/20\n"
     ]
    },
    {
     "name": "stderr",
     "output_type": "stream",
     "text": [
      "100%|██████████| 3151/3151 [04:35<00:00, 11.43it/s]\n"
     ]
    },
    {
     "name": "stdout",
     "output_type": "stream",
     "text": [
      "{'val_loss': 0.45116269797978237, 'val_accuracy': 0.8442377592473808, 'precision': 0.8472788872240458, 'recall': 0.8442377592473808, 'f1-score': 0.8437254246172272, 'macro_f1-score': 0.8419139163326765, 'balanced_accuracy': 0.8556724381767309, 'mcc': 0.8107928742934412, 'train_loss': 0.39732585476031}\n",
      "Epoch 3/20\n"
     ]
    },
    {
     "name": "stderr",
     "output_type": "stream",
     "text": [
      "100%|██████████| 3151/3151 [04:35<00:00, 11.44it/s]\n"
     ]
    },
    {
     "name": "stdout",
     "output_type": "stream",
     "text": [
      "{'val_loss': 0.42080049758665583, 'val_accuracy': 0.8663673294847124, 'precision': 0.8678331918744135, 'recall': 0.8663673294847124, 'f1-score': 0.8661411757546772, 'macro_f1-score': 0.8660447871857261, 'balanced_accuracy': 0.8680270830617423, 'mcc': 0.8362040219016825, 'train_loss': 0.32916917654640454}\n",
      "Epoch 4/20\n"
     ]
    },
    {
     "name": "stderr",
     "output_type": "stream",
     "text": [
      "100%|██████████| 3151/3151 [04:35<00:00, 11.44it/s]\n"
     ]
    },
    {
     "name": "stdout",
     "output_type": "stream",
     "text": [
      "{'val_loss': 0.41662439515448024, 'val_accuracy': 0.8583493692537951, 'precision': 0.8623598819666662, 'recall': 0.8583493692537951, 'f1-score': 0.8591638857513506, 'macro_f1-score': 0.8578499994623416, 'balanced_accuracy': 0.8608267383221568, 'mcc': 0.8262174978875806, 'train_loss': 0.2679694519081646}\n",
      "Epoch 5/20\n"
     ]
    },
    {
     "name": "stderr",
     "output_type": "stream",
     "text": [
      "100%|██████████| 3151/3151 [04:35<00:00, 11.44it/s]\n"
     ]
    },
    {
     "name": "stdout",
     "output_type": "stream",
     "text": [
      "{'val_loss': 0.42868814102222774, 'val_accuracy': 0.859204618345093, 'precision': 0.8616537831600681, 'recall': 0.859204618345093, 'f1-score': 0.8589044090092917, 'macro_f1-score': 0.8540488194760474, 'balanced_accuracy': 0.8491831968231593, 'mcc': 0.8265645186531579, 'train_loss': 0.2297473721237518}\n",
      "Epoch 6/20\n"
     ]
    },
    {
     "name": "stderr",
     "output_type": "stream",
     "text": [
      "100%|██████████| 3151/3151 [04:35<00:00, 11.44it/s]\n"
     ]
    },
    {
     "name": "stdout",
     "output_type": "stream",
     "text": [
      "{'val_loss': 0.44580685104060375, 'val_accuracy': 0.8628394269831088, 'precision': 0.8655190104443392, 'recall': 0.8628394269831088, 'f1-score': 0.8633946247399841, 'macro_f1-score': 0.8597894939483038, 'balanced_accuracy': 0.858074761422922, 'mcc': 0.8311585776150308, 'train_loss': 0.1915578129416836}\n",
      "Early stopping.\n",
      "\n",
      "[Fold 5]\n",
      "🚀 Using T5-paraphraser for data augmentation + under-sampling\n",
      "Using device: cuda\n",
      "CUDA Available: True\n",
      "CUDA Device: NVIDIA GeForce RTX 5070 Ti\n",
      "Current GPU Memory Allocated: 2.04 GB\n",
      "Current GPU Memory Cached: 3.40 GB\n",
      "🔧 Augmenting label 1: 1399 → 5000 (+3601)\n",
      "🔧 Augmenting label 4: 1678 → 5000 (+3322)\n",
      "🔧 Augmenting label 6: 1738 → 5000 (+3262)\n",
      "🔧 Augmenting label 7: 2187 → 5000 (+2813)\n",
      "Label distribution after resampling:\n",
      "  label 0: 5625\n",
      "  label 1: 5000\n",
      "  label 2: 8441\n",
      "  label 3: 10771\n",
      "  label 4: 5000\n",
      "  label 5: 5579\n",
      "  label 6: 5000\n",
      "  label 7: 5000\n",
      "model is roberta-base cnn\n"
     ]
    },
    {
     "name": "stderr",
     "output_type": "stream",
     "text": [
      "Some weights of RobertaModel were not initialized from the model checkpoint at roberta-base and are newly initialized: ['pooler.dense.bias', 'pooler.dense.weight']\n",
      "You should probably TRAIN this model on a down-stream task to be able to use it for predictions and inference.\n"
     ]
    },
    {
     "name": "stdout",
     "output_type": "stream",
     "text": [
      "Using weighted CrossEntropyLoss with weights: tensor([2.1931, 2.3109, 1.7872, 1.5435, 2.3109, 2.2013, 2.3109, 2.3109],\n",
      "       device='cuda:0')\n",
      "Epoch 1/20\n"
     ]
    },
    {
     "name": "stderr",
     "output_type": "stream",
     "text": [
      "100%|██████████| 3151/3151 [04:35<00:00, 11.44it/s]\n"
     ]
    },
    {
     "name": "stdout",
     "output_type": "stream",
     "text": [
      "{'val_loss': 0.5216678891044396, 'val_accuracy': 0.8193286294633312, 'precision': 0.8295690672773095, 'recall': 0.8193286294633312, 'f1-score': 0.8178689135017266, 'macro_f1-score': 0.8254198290446626, 'balanced_accuracy': 0.8331217978353042, 'mcc': 0.7826186679019634, 'train_loss': 0.6067120887525912}\n",
      "Epoch 2/20\n"
     ]
    },
    {
     "name": "stderr",
     "output_type": "stream",
     "text": [
      "100%|██████████| 3151/3151 [04:35<00:00, 11.44it/s]\n"
     ]
    },
    {
     "name": "stdout",
     "output_type": "stream",
     "text": [
      "{'val_loss': 0.5100395212188745, 'val_accuracy': 0.8299123369681419, 'precision': 0.8404468304564273, 'recall': 0.8299123369681419, 'f1-score': 0.8291696302815329, 'macro_f1-score': 0.8334115376156476, 'balanced_accuracy': 0.8582822026523442, 'mcc': 0.7959359149928354, 'train_loss': 0.40790401813664284}\n",
      "Epoch 3/20\n"
     ]
    },
    {
     "name": "stderr",
     "output_type": "stream",
     "text": [
      "100%|██████████| 3151/3151 [04:35<00:00, 11.44it/s]\n"
     ]
    },
    {
     "name": "stdout",
     "output_type": "stream",
     "text": [
      "{'val_loss': 0.44021618807624674, 'val_accuracy': 0.8481932862946333, 'precision': 0.8517400113403132, 'recall': 0.8481932862946333, 'f1-score': 0.8477946490175775, 'macro_f1-score': 0.8461901026621328, 'balanced_accuracy': 0.8686306025791661, 'mcc': 0.815677298470865, 'train_loss': 0.34133360999326307}\n",
      "Epoch 4/20\n"
     ]
    },
    {
     "name": "stderr",
     "output_type": "stream",
     "text": [
      "100%|██████████| 3151/3151 [04:35<00:00, 11.45it/s]\n"
     ]
    },
    {
     "name": "stdout",
     "output_type": "stream",
     "text": [
      "{'val_loss': 0.409665523437608, 'val_accuracy': 0.8608082103912764, 'precision': 0.8609137456099543, 'recall': 0.8608082103912764, 'f1-score': 0.8604578788703603, 'macro_f1-score': 0.8583058670272412, 'balanced_accuracy': 0.8624775257549275, 'mcc': 0.8291700741546052, 'train_loss': 0.2895974295257562}\n",
      "Epoch 5/20\n"
     ]
    },
    {
     "name": "stderr",
     "output_type": "stream",
     "text": [
      "100%|██████████| 3151/3151 [04:35<00:00, 11.44it/s]\n"
     ]
    },
    {
     "name": "stdout",
     "output_type": "stream",
     "text": [
      "{'val_loss': 0.4467993327281159, 'val_accuracy': 0.8520419072054736, 'precision': 0.8557107446645796, 'recall': 0.8520419072054736, 'f1-score': 0.8527068610553656, 'macro_f1-score': 0.8494964840147875, 'balanced_accuracy': 0.8475002873226334, 'mcc': 0.8178762947629197, 'train_loss': 0.24063232036068638}\n",
      "Epoch 6/20\n"
     ]
    },
    {
     "name": "stderr",
     "output_type": "stream",
     "text": [
      "100%|██████████| 3151/3151 [04:35<00:00, 11.44it/s]\n"
     ]
    },
    {
     "name": "stdout",
     "output_type": "stream",
     "text": [
      "{'val_loss': 0.4312856806983423, 'val_accuracy': 0.8660466110754758, 'precision': 0.8669803952303291, 'recall': 0.8660466110754758, 'f1-score': 0.8660400927127736, 'macro_f1-score': 0.8619039137419774, 'balanced_accuracy': 0.8556315832773124, 'mcc': 0.8349038009821457, 'train_loss': 0.20496456391652157}\n",
      "Epoch 7/20\n"
     ]
    },
    {
     "name": "stderr",
     "output_type": "stream",
     "text": [
      "100%|██████████| 3151/3151 [04:35<00:00, 11.44it/s]\n"
     ]
    },
    {
     "name": "stdout",
     "output_type": "stream",
     "text": [
      "{'val_loss': 0.46110495620478803, 'val_accuracy': 0.8600598674363908, 'precision': 0.8613989376928562, 'recall': 0.8600598674363908, 'f1-score': 0.8599118598516792, 'macro_f1-score': 0.8578597427876269, 'balanced_accuracy': 0.8510577112500604, 'mcc': 0.8277578453594677, 'train_loss': 0.17032392333328614}\n",
      "Epoch 8/20\n"
     ]
    },
    {
     "name": "stderr",
     "output_type": "stream",
     "text": [
      "100%|██████████| 3151/3151 [04:35<00:00, 11.44it/s]\n"
     ]
    },
    {
     "name": "stdout",
     "output_type": "stream",
     "text": [
      "{'val_loss': 0.5451166606643516, 'val_accuracy': 0.8525764378875348, 'precision': 0.8561030571127392, 'recall': 0.8525764378875348, 'f1-score': 0.8530780016956426, 'macro_f1-score': 0.8525212255884711, 'balanced_accuracy': 0.8505006109242987, 'mcc': 0.8183519805814065, 'train_loss': 0.1432124003670431}\n",
      "Epoch 9/20\n"
     ]
    },
    {
     "name": "stderr",
     "output_type": "stream",
     "text": [
      "100%|██████████| 3151/3151 [04:35<00:00, 11.45it/s]\n"
     ]
    },
    {
     "name": "stdout",
     "output_type": "stream",
     "text": [
      "{'val_loss': 0.5834211882542119, 'val_accuracy': 0.856425058798375, 'precision': 0.8575863425805371, 'recall': 0.856425058798375, 'f1-score': 0.8566617096413546, 'macro_f1-score': 0.8528676491853173, 'balanced_accuracy': 0.8535506155762891, 'mcc': 0.8232679601294889, 'train_loss': 0.13081525505130406}\n",
      "Early stopping.\n",
      "\n",
      " === roberta-base + cnn + t5 Final 5-fold Cross-Validation Results ===\n",
      "val_loss: 0.4672\n",
      "val_accuracy: 0.8635\n",
      "precision: 0.8652\n",
      "recall: 0.8635\n",
      "f1-score: 0.8637\n",
      "macro_f1-score: 0.8620\n",
      "balanced_accuracy: 0.8579\n",
      "mcc: 0.8321\n",
      "train_loss: 0.2297\n",
      "total_seconds: 27224.0000\n",
      "total_time: 7 hrs 33 mins 44 secs\n",
      "▶ Running: roberta-base + lstm + t5\n",
      "tokenizer is roberta-base\n",
      "Using device: cuda\n",
      "CUDA Available: True\n",
      "CUDA Device: NVIDIA GeForce RTX 5070 Ti\n",
      "Current GPU Memory Allocated: 0.02 GB\n",
      "Current GPU Memory Cached: 3.40 GB\n",
      "\n",
      "[Fold 1]\n",
      "🚀 Using T5-paraphraser for data augmentation + under-sampling\n",
      "Using device: cuda\n",
      "CUDA Available: True\n",
      "CUDA Device: NVIDIA GeForce RTX 5070 Ti\n",
      "Current GPU Memory Allocated: 0.02 GB\n",
      "Current GPU Memory Cached: 3.40 GB\n",
      "🔧 Augmenting label 1: 1399 → 5000 (+3601)\n",
      "🔧 Augmenting label 4: 1678 → 5000 (+3322)\n",
      "🔧 Augmenting label 6: 1737 → 5000 (+3263)\n",
      "🔧 Augmenting label 7: 2187 → 5000 (+2813)\n",
      "Label distribution after resampling:\n",
      "  label 0: 5626\n",
      "  label 1: 5000\n",
      "  label 2: 8442\n",
      "  label 3: 10770\n",
      "  label 4: 5000\n",
      "  label 5: 5578\n",
      "  label 6: 5000\n",
      "  label 7: 5000\n",
      "model is roberta-base lstm\n"
     ]
    },
    {
     "name": "stderr",
     "output_type": "stream",
     "text": [
      "Some weights of RobertaModel were not initialized from the model checkpoint at roberta-base and are newly initialized: ['pooler.dense.bias', 'pooler.dense.weight']\n",
      "You should probably TRAIN this model on a down-stream task to be able to use it for predictions and inference.\n"
     ]
    },
    {
     "name": "stdout",
     "output_type": "stream",
     "text": [
      "Using weighted CrossEntropyLoss with weights: tensor([2.1929, 2.3109, 1.7871, 1.5435, 2.3109, 2.2015, 2.3109, 2.3109],\n",
      "       device='cuda:0')\n",
      "Epoch 1/20\n"
     ]
    },
    {
     "name": "stderr",
     "output_type": "stream",
     "text": [
      "100%|██████████| 3151/3151 [04:49<00:00, 10.87it/s]\n"
     ]
    },
    {
     "name": "stdout",
     "output_type": "stream",
     "text": [
      "{'val_loss': 0.5059373547410608, 'val_accuracy': 0.8359166221272047, 'precision': 0.8395352776405756, 'recall': 0.8359166221272047, 'f1-score': 0.835163059167497, 'macro_f1-score': 0.8349759024409842, 'balanced_accuracy': 0.8236963311269994, 'mcc': 0.7992898241376901, 'train_loss': 0.6055060794860153}\n",
      "Epoch 2/20\n"
     ]
    },
    {
     "name": "stderr",
     "output_type": "stream",
     "text": [
      "100%|██████████| 3151/3151 [04:49<00:00, 10.88it/s]\n"
     ]
    },
    {
     "name": "stdout",
     "output_type": "stream",
     "text": [
      "{'val_loss': 0.45830011451537284, 'val_accuracy': 0.848743987172635, 'precision': 0.8508281524646445, 'recall': 0.848743987172635, 'f1-score': 0.8484708449422581, 'macro_f1-score': 0.8434183475375016, 'balanced_accuracy': 0.8585159953105477, 'mcc': 0.8153269375475031, 'train_loss': 0.4026933284142412}\n",
      "Epoch 3/20\n"
     ]
    },
    {
     "name": "stderr",
     "output_type": "stream",
     "text": [
      "100%|██████████| 3151/3151 [04:50<00:00, 10.85it/s]\n"
     ]
    },
    {
     "name": "stdout",
     "output_type": "stream",
     "text": [
      "{'val_loss': 0.46177418014337107, 'val_accuracy': 0.8502405130946018, 'precision': 0.8536202765418976, 'recall': 0.8502405130946018, 'f1-score': 0.8502877787985352, 'macro_f1-score': 0.8471901749329493, 'balanced_accuracy': 0.8312994823137587, 'mcc': 0.8152007226174335, 'train_loss': 0.34013857566451544}\n",
      "Epoch 4/20\n"
     ]
    },
    {
     "name": "stderr",
     "output_type": "stream",
     "text": [
      "100%|██████████| 3151/3151 [04:49<00:00, 10.87it/s]\n"
     ]
    },
    {
     "name": "stdout",
     "output_type": "stream",
     "text": [
      "{'val_loss': 0.4665196572502072, 'val_accuracy': 0.8566541956173169, 'precision': 0.8580622254575155, 'recall': 0.8566541956173169, 'f1-score': 0.8559239244759828, 'macro_f1-score': 0.8507218214668639, 'balanced_accuracy': 0.8446446432382393, 'mcc': 0.8237832037532942, 'train_loss': 0.2908184836401067}\n",
      "Epoch 5/20\n"
     ]
    },
    {
     "name": "stderr",
     "output_type": "stream",
     "text": [
      "100%|██████████| 3151/3151 [04:50<00:00, 10.86it/s]\n"
     ]
    },
    {
     "name": "stdout",
     "output_type": "stream",
     "text": [
      "{'val_loss': 0.4731477651171959, 'val_accuracy': 0.8537680384820951, 'precision': 0.8602504017407313, 'recall': 0.8537680384820951, 'f1-score': 0.8536949600279087, 'macro_f1-score': 0.8549028074930516, 'balanced_accuracy': 0.8354737058992152, 'mcc': 0.819848573380433, 'train_loss': 0.2455306494848224}\n",
      "Epoch 6/20\n"
     ]
    },
    {
     "name": "stderr",
     "output_type": "stream",
     "text": [
      "100%|██████████| 3151/3151 [04:50<00:00, 10.86it/s]\n"
     ]
    },
    {
     "name": "stdout",
     "output_type": "stream",
     "text": [
      "{'val_loss': 0.534913885480382, 'val_accuracy': 0.8576162479957242, 'precision': 0.8596583475891432, 'recall': 0.8576162479957242, 'f1-score': 0.858114395010358, 'macro_f1-score': 0.8522539136497943, 'balanced_accuracy': 0.8564749550134116, 'mcc': 0.8249239711757858, 'train_loss': 0.21641079028057522}\n",
      "Epoch 7/20\n"
     ]
    },
    {
     "name": "stderr",
     "output_type": "stream",
     "text": [
      "100%|██████████| 3151/3151 [04:50<00:00, 10.86it/s]\n"
     ]
    },
    {
     "name": "stdout",
     "output_type": "stream",
     "text": [
      "{'val_loss': 0.4987562638046777, 'val_accuracy': 0.8572955638695885, 'precision': 0.8618265472085007, 'recall': 0.8572955638695885, 'f1-score': 0.8575188033921682, 'macro_f1-score': 0.8554786977316484, 'balanced_accuracy': 0.8421775495309238, 'mcc': 0.8248947375757195, 'train_loss': 0.17499408870403424}\n",
      "Epoch 8/20\n"
     ]
    },
    {
     "name": "stderr",
     "output_type": "stream",
     "text": [
      "100%|██████████| 3151/3151 [04:50<00:00, 10.86it/s]\n"
     ]
    },
    {
     "name": "stdout",
     "output_type": "stream",
     "text": [
      "{'val_loss': 0.504614253116087, 'val_accuracy': 0.8678781400320684, 'precision': 0.8684703978144577, 'recall': 0.8678781400320684, 'f1-score': 0.8679187265375341, 'macro_f1-score': 0.8640912851420952, 'balanced_accuracy': 0.8601732605791577, 'mcc': 0.8372351298493178, 'train_loss': 0.15235472029946645}\n",
      "Epoch 9/20\n"
     ]
    },
    {
     "name": "stderr",
     "output_type": "stream",
     "text": [
      "100%|██████████| 3151/3151 [04:49<00:00, 10.87it/s]\n"
     ]
    },
    {
     "name": "stdout",
     "output_type": "stream",
     "text": [
      "{'val_loss': 0.5888214175893853, 'val_accuracy': 0.8669160876536611, 'precision': 0.8700581161675793, 'recall': 0.8669160876536611, 'f1-score': 0.8671122883833206, 'macro_f1-score': 0.8637127390195076, 'balanced_accuracy': 0.8488959341819349, 'mcc': 0.8359439519843036, 'train_loss': 0.14049758706311305}\n",
      "Epoch 10/20\n"
     ]
    },
    {
     "name": "stderr",
     "output_type": "stream",
     "text": [
      "100%|██████████| 3151/3151 [04:49<00:00, 10.87it/s]\n"
     ]
    },
    {
     "name": "stdout",
     "output_type": "stream",
     "text": [
      "{'val_loss': 0.5784026041750311, 'val_accuracy': 0.8568679850347408, 'precision': 0.858947690617268, 'recall': 0.8568679850347408, 'f1-score': 0.8572068661361749, 'macro_f1-score': 0.8566192107041742, 'balanced_accuracy': 0.8455547001203669, 'mcc': 0.8238019122946623, 'train_loss': 0.13761347221941087}\n",
      "Epoch 11/20\n"
     ]
    },
    {
     "name": "stderr",
     "output_type": "stream",
     "text": [
      "100%|██████████| 3151/3151 [04:50<00:00, 10.85it/s]\n"
     ]
    },
    {
     "name": "stdout",
     "output_type": "stream",
     "text": [
      "{'val_loss': 0.592670473180966, 'val_accuracy': 0.8567610903260289, 'precision': 0.8584433618846641, 'recall': 0.8567610903260289, 'f1-score': 0.8567335165033885, 'macro_f1-score': 0.8524146405972535, 'balanced_accuracy': 0.8583587848478899, 'mcc': 0.8246940185445281, 'train_loss': 0.11579210323927985}\n",
      "Early stopping.\n",
      "\n",
      "[Fold 2]\n",
      "🚀 Using T5-paraphraser for data augmentation + under-sampling\n",
      "Using device: cuda\n",
      "CUDA Available: True\n",
      "CUDA Device: NVIDIA GeForce RTX 5070 Ti\n",
      "Current GPU Memory Allocated: 2.06 GB\n",
      "Current GPU Memory Cached: 3.40 GB\n",
      "🔧 Augmenting label 1: 1400 → 5000 (+3600)\n",
      "🔧 Augmenting label 4: 1678 → 5000 (+3322)\n",
      "🔧 Augmenting label 6: 1737 → 5000 (+3263)\n",
      "🔧 Augmenting label 7: 2186 → 5000 (+2814)\n",
      "Label distribution after resampling:\n",
      "  label 0: 5626\n",
      "  label 1: 5000\n",
      "  label 2: 8442\n",
      "  label 3: 10770\n",
      "  label 4: 5000\n",
      "  label 5: 5578\n",
      "  label 6: 5000\n",
      "  label 7: 5000\n",
      "model is roberta-base lstm\n"
     ]
    },
    {
     "name": "stderr",
     "output_type": "stream",
     "text": [
      "Some weights of RobertaModel were not initialized from the model checkpoint at roberta-base and are newly initialized: ['pooler.dense.bias', 'pooler.dense.weight']\n",
      "You should probably TRAIN this model on a down-stream task to be able to use it for predictions and inference.\n"
     ]
    },
    {
     "name": "stdout",
     "output_type": "stream",
     "text": [
      "Using weighted CrossEntropyLoss with weights: tensor([2.1929, 2.3109, 1.7871, 1.5435, 2.3109, 2.2015, 2.3109, 2.3109],\n",
      "       device='cuda:0')\n",
      "Epoch 1/20\n"
     ]
    },
    {
     "name": "stderr",
     "output_type": "stream",
     "text": [
      "100%|██████████| 3151/3151 [04:50<00:00, 10.86it/s]\n"
     ]
    },
    {
     "name": "stdout",
     "output_type": "stream",
     "text": [
      "{'val_loss': 0.5090338436647868, 'val_accuracy': 0.8305718866916088, 'precision': 0.8325575384149654, 'recall': 0.8305718866916088, 'f1-score': 0.8300844510172715, 'macro_f1-score': 0.8279367295277266, 'balanced_accuracy': 0.8083091197129109, 'mcc': 0.7905309595048824, 'train_loss': 0.6009976466930279}\n",
      "Epoch 2/20\n"
     ]
    },
    {
     "name": "stderr",
     "output_type": "stream",
     "text": [
      "100%|██████████| 3151/3151 [04:49<00:00, 10.87it/s]\n"
     ]
    },
    {
     "name": "stdout",
     "output_type": "stream",
     "text": [
      "{'val_loss': 0.5326724964520361, 'val_accuracy': 0.8169962586851951, 'precision': 0.8281902673849698, 'recall': 0.8169962586851951, 'f1-score': 0.8171081505150019, 'macro_f1-score': 0.8138440875351668, 'balanced_accuracy': 0.8468387722807859, 'mcc': 0.7801514898668047, 'train_loss': 0.3998417957177222}\n",
      "Epoch 3/20\n"
     ]
    },
    {
     "name": "stderr",
     "output_type": "stream",
     "text": [
      "100%|██████████| 3151/3151 [04:50<00:00, 10.86it/s]\n"
     ]
    },
    {
     "name": "stdout",
     "output_type": "stream",
     "text": [
      "{'val_loss': 0.4761653986114722, 'val_accuracy': 0.8409406734366649, 'precision': 0.8424176285442319, 'recall': 0.8409406734366649, 'f1-score': 0.8409057302124856, 'macro_f1-score': 0.8412686465892605, 'balanced_accuracy': 0.8541560579078096, 'mcc': 0.8055880964463739, 'train_loss': 0.32651483540972076}\n",
      "Epoch 4/20\n"
     ]
    },
    {
     "name": "stderr",
     "output_type": "stream",
     "text": [
      "100%|██████████| 3151/3151 [04:50<00:00, 10.86it/s]\n"
     ]
    },
    {
     "name": "stdout",
     "output_type": "stream",
     "text": [
      "{'val_loss': 0.4845782366923542, 'val_accuracy': 0.843506146445751, 'precision': 0.8486073971007134, 'recall': 0.843506146445751, 'f1-score': 0.8441421358204221, 'macro_f1-score': 0.8435898155392862, 'balanced_accuracy': 0.8361978491726236, 'mcc': 0.8082030343134503, 'train_loss': 0.2791355739553645}\n",
      "Epoch 5/20\n"
     ]
    },
    {
     "name": "stderr",
     "output_type": "stream",
     "text": [
      "100%|██████████| 3151/3151 [04:49<00:00, 10.87it/s]\n"
     ]
    },
    {
     "name": "stdout",
     "output_type": "stream",
     "text": [
      "{'val_loss': 0.4781807739828896, 'val_accuracy': 0.8507749866381614, 'precision': 0.8519320752673265, 'recall': 0.8507749866381614, 'f1-score': 0.8505795566483705, 'macro_f1-score': 0.8511582236967445, 'balanced_accuracy': 0.8382367595024776, 'mcc': 0.8160405735570041, 'train_loss': 0.23969947220077806}\n",
      "Epoch 6/20\n"
     ]
    },
    {
     "name": "stderr",
     "output_type": "stream",
     "text": [
      "100%|██████████| 3151/3151 [04:50<00:00, 10.86it/s]\n"
     ]
    },
    {
     "name": "stdout",
     "output_type": "stream",
     "text": [
      "{'val_loss': 0.5008886324432797, 'val_accuracy': 0.8518439337252806, 'precision': 0.8534241604046335, 'recall': 0.8518439337252806, 'f1-score': 0.8513543859484587, 'macro_f1-score': 0.8523964323622407, 'balanced_accuracy': 0.8477876151155594, 'mcc': 0.8176598611996093, 'train_loss': 0.20988272957315227}\n",
      "Epoch 7/20\n"
     ]
    },
    {
     "name": "stderr",
     "output_type": "stream",
     "text": [
      "100%|██████████| 3151/3151 [04:49<00:00, 10.87it/s]\n"
     ]
    },
    {
     "name": "stdout",
     "output_type": "stream",
     "text": [
      "{'val_loss': 0.5400102135765119, 'val_accuracy': 0.8508818813468734, 'precision': 0.8527323537445683, 'recall': 0.8508818813468734, 'f1-score': 0.8507514787890745, 'macro_f1-score': 0.8473560905557004, 'balanced_accuracy': 0.8609053272984228, 'mcc': 0.817641409301221, 'train_loss': 0.1815161545902357}\n",
      "Epoch 8/20\n"
     ]
    },
    {
     "name": "stderr",
     "output_type": "stream",
     "text": [
      "100%|██████████| 3151/3151 [04:50<00:00, 10.86it/s]\n"
     ]
    },
    {
     "name": "stdout",
     "output_type": "stream",
     "text": [
      "{'val_loss': 0.5712113166192117, 'val_accuracy': 0.8525921966862641, 'precision': 0.8552310447756678, 'recall': 0.8525921966862641, 'f1-score': 0.8528466688939075, 'macro_f1-score': 0.852128065158714, 'balanced_accuracy': 0.8524806143684374, 'mcc': 0.8191299004237579, 'train_loss': 0.15604819859547545}\n",
      "Epoch 9/20\n"
     ]
    },
    {
     "name": "stderr",
     "output_type": "stream",
     "text": [
      "100%|██████████| 3151/3151 [04:49<00:00, 10.87it/s]\n"
     ]
    },
    {
     "name": "stdout",
     "output_type": "stream",
     "text": [
      "{'val_loss': 0.5489013539579434, 'val_accuracy': 0.8476750400855158, 'precision': 0.8484159645029064, 'recall': 0.8476750400855158, 'f1-score': 0.8471214694038942, 'macro_f1-score': 0.8492102405424893, 'balanced_accuracy': 0.8506758343724917, 'mcc': 0.8129161370316618, 'train_loss': 0.14121109012101155}\n",
      "Early stopping.\n",
      "\n",
      "[Fold 3]\n",
      "🚀 Using T5-paraphraser for data augmentation + under-sampling\n",
      "Using device: cuda\n",
      "CUDA Available: True\n",
      "CUDA Device: NVIDIA GeForce RTX 5070 Ti\n",
      "Current GPU Memory Allocated: 2.07 GB\n",
      "Current GPU Memory Cached: 3.40 GB\n",
      "🔧 Augmenting label 1: 1399 → 5000 (+3601)\n",
      "🔧 Augmenting label 4: 1679 → 5000 (+3321)\n",
      "🔧 Augmenting label 6: 1738 → 5000 (+3262)\n",
      "🔧 Augmenting label 7: 2186 → 5000 (+2814)\n",
      "Label distribution after resampling:\n",
      "  label 0: 5626\n",
      "  label 1: 5000\n",
      "  label 2: 8442\n",
      "  label 3: 10770\n",
      "  label 4: 5000\n",
      "  label 5: 5578\n",
      "  label 6: 5000\n",
      "  label 7: 5000\n",
      "model is roberta-base lstm\n"
     ]
    },
    {
     "name": "stderr",
     "output_type": "stream",
     "text": [
      "Some weights of RobertaModel were not initialized from the model checkpoint at roberta-base and are newly initialized: ['pooler.dense.bias', 'pooler.dense.weight']\n",
      "You should probably TRAIN this model on a down-stream task to be able to use it for predictions and inference.\n"
     ]
    },
    {
     "name": "stdout",
     "output_type": "stream",
     "text": [
      "Using weighted CrossEntropyLoss with weights: tensor([2.1929, 2.3109, 1.7871, 1.5435, 2.3109, 2.2015, 2.3109, 2.3109],\n",
      "       device='cuda:0')\n",
      "Epoch 1/20\n"
     ]
    },
    {
     "name": "stderr",
     "output_type": "stream",
     "text": [
      "100%|██████████| 3151/3151 [04:49<00:00, 10.88it/s]\n"
     ]
    },
    {
     "name": "stdout",
     "output_type": "stream",
     "text": [
      "{'val_loss': 1.9614904968147604, 'val_accuracy': 0.2878982253581356, 'precision': 0.08288538816436382, 'recall': 0.2878982253581356, 'f1-score': 0.12871418957241787, 'macro_f1-score': 0.055885282642981655, 'balanced_accuracy': 0.125, 'mcc': 0.0, 'train_loss': 2.0342463079008817}\n",
      "Epoch 2/20\n"
     ]
    },
    {
     "name": "stderr",
     "output_type": "stream",
     "text": [
      "100%|██████████| 3151/3151 [04:50<00:00, 10.86it/s]\n"
     ]
    },
    {
     "name": "stdout",
     "output_type": "stream",
     "text": [
      "{'val_loss': 1.9958359816135505, 'val_accuracy': 0.2878982253581356, 'precision': 0.08288538816436382, 'recall': 0.2878982253581356, 'f1-score': 0.12871418957241787, 'macro_f1-score': 0.055885282642981655, 'balanced_accuracy': 0.125, 'mcc': 0.0, 'train_loss': 2.035861856254159}\n",
      "Epoch 3/20\n"
     ]
    },
    {
     "name": "stderr",
     "output_type": "stream",
     "text": [
      "100%|██████████| 3151/3151 [04:49<00:00, 10.87it/s]\n"
     ]
    },
    {
     "name": "stdout",
     "output_type": "stream",
     "text": [
      "{'val_loss': 1.9275944516190098, 'val_accuracy': 0.2878982253581356, 'precision': 0.08288538816436382, 'recall': 0.2878982253581356, 'f1-score': 0.12871418957241787, 'macro_f1-score': 0.055885282642981655, 'balanced_accuracy': 0.125, 'mcc': 0.0, 'train_loss': 2.0319808572483455}\n",
      "Epoch 4/20\n"
     ]
    },
    {
     "name": "stderr",
     "output_type": "stream",
     "text": [
      "100%|██████████| 3151/3151 [04:49<00:00, 10.87it/s]\n"
     ]
    },
    {
     "name": "stdout",
     "output_type": "stream",
     "text": [
      "{'val_loss': 1.93111164732876, 'val_accuracy': 0.2878982253581356, 'precision': 0.08288538816436382, 'recall': 0.2878982253581356, 'f1-score': 0.12871418957241787, 'macro_f1-score': 0.055885282642981655, 'balanced_accuracy': 0.125, 'mcc': 0.0, 'train_loss': 2.0307586574811705}\n",
      "Early stopping.\n",
      "\n",
      "[Fold 4]\n",
      "🚀 Using T5-paraphraser for data augmentation + under-sampling\n",
      "Using device: cuda\n",
      "CUDA Available: True\n",
      "CUDA Device: NVIDIA GeForce RTX 5070 Ti\n",
      "Current GPU Memory Allocated: 2.07 GB\n",
      "Current GPU Memory Cached: 3.40 GB\n",
      "🔧 Augmenting label 1: 1399 → 5000 (+3601)\n",
      "🔧 Augmenting label 4: 1679 → 5000 (+3321)\n",
      "🔧 Augmenting label 6: 1738 → 5000 (+3262)\n",
      "🔧 Augmenting label 7: 2186 → 5000 (+2814)\n",
      "Label distribution after resampling:\n",
      "  label 0: 5625\n",
      "  label 1: 5000\n",
      "  label 2: 8441\n",
      "  label 3: 10771\n",
      "  label 4: 5000\n",
      "  label 5: 5579\n",
      "  label 6: 5000\n",
      "  label 7: 5000\n",
      "model is roberta-base lstm\n"
     ]
    },
    {
     "name": "stderr",
     "output_type": "stream",
     "text": [
      "Some weights of RobertaModel were not initialized from the model checkpoint at roberta-base and are newly initialized: ['pooler.dense.bias', 'pooler.dense.weight']\n",
      "You should probably TRAIN this model on a down-stream task to be able to use it for predictions and inference.\n"
     ]
    },
    {
     "name": "stdout",
     "output_type": "stream",
     "text": [
      "Using weighted CrossEntropyLoss with weights: tensor([2.1931, 2.3109, 1.7872, 1.5435, 2.3109, 2.2013, 2.3109, 2.3109],\n",
      "       device='cuda:0')\n",
      "Epoch 1/20\n"
     ]
    },
    {
     "name": "stderr",
     "output_type": "stream",
     "text": [
      "100%|██████████| 3151/3151 [04:50<00:00, 10.86it/s]\n"
     ]
    },
    {
     "name": "stdout",
     "output_type": "stream",
     "text": [
      "{'val_loss': 0.4888583013962986, 'val_accuracy': 0.839213170836006, 'precision': 0.8486052445351461, 'recall': 0.839213170836006, 'f1-score': 0.8396702185652356, 'macro_f1-score': 0.8412392254719283, 'balanced_accuracy': 0.823393936854905, 'mcc': 0.8029091059111659, 'train_loss': 0.6045988181316874}\n",
      "Epoch 2/20\n"
     ]
    },
    {
     "name": "stderr",
     "output_type": "stream",
     "text": [
      "100%|██████████| 3151/3151 [04:49<00:00, 10.87it/s]\n"
     ]
    },
    {
     "name": "stdout",
     "output_type": "stream",
     "text": [
      "{'val_loss': 0.4388386476275503, 'val_accuracy': 0.8548214667521916, 'precision': 0.8559610536865775, 'recall': 0.8548214667521916, 'f1-score': 0.8547277225286108, 'macro_f1-score': 0.8519700669033395, 'balanced_accuracy': 0.851483772699571, 'mcc': 0.8211792056355707, 'train_loss': 0.3901942732656136}\n",
      "Epoch 3/20\n"
     ]
    },
    {
     "name": "stderr",
     "output_type": "stream",
     "text": [
      "100%|██████████| 3151/3151 [04:50<00:00, 10.86it/s]\n"
     ]
    },
    {
     "name": "stdout",
     "output_type": "stream",
     "text": [
      "{'val_loss': 0.4425497942182243, 'val_accuracy': 0.8473380372033354, 'precision': 0.8509118850554546, 'recall': 0.8473380372033354, 'f1-score': 0.8473439755265155, 'macro_f1-score': 0.8484204930750052, 'balanced_accuracy': 0.8538941124088105, 'mcc': 0.8139284165270902, 'train_loss': 0.3271340575312734}\n",
      "Epoch 4/20\n"
     ]
    },
    {
     "name": "stderr",
     "output_type": "stream",
     "text": [
      "100%|██████████| 3151/3151 [04:49<00:00, 10.87it/s]\n"
     ]
    },
    {
     "name": "stdout",
     "output_type": "stream",
     "text": [
      "{'val_loss': 0.45068041650244056, 'val_accuracy': 0.8593115244815053, 'precision': 0.8614613877652538, 'recall': 0.8593115244815053, 'f1-score': 0.8593390997858236, 'macro_f1-score': 0.8567914272506705, 'balanced_accuracy': 0.853961328299661, 'mcc': 0.8268384953670485, 'train_loss': 0.2840472584389628}\n",
      "Epoch 5/20\n"
     ]
    },
    {
     "name": "stderr",
     "output_type": "stream",
     "text": [
      "100%|██████████| 3151/3151 [04:49<00:00, 10.87it/s]\n"
     ]
    },
    {
     "name": "stdout",
     "output_type": "stream",
     "text": [
      "{'val_loss': 0.4567272125058768, 'val_accuracy': 0.8618772717553987, 'precision': 0.8645185491394971, 'recall': 0.8618772717553987, 'f1-score': 0.862348545746235, 'macro_f1-score': 0.862688458384081, 'balanced_accuracy': 0.863676903004567, 'mcc': 0.8303866959686201, 'train_loss': 0.23640192360642343}\n",
      "Epoch 6/20\n"
     ]
    },
    {
     "name": "stderr",
     "output_type": "stream",
     "text": [
      "100%|██████████| 3151/3151 [04:50<00:00, 10.86it/s]\n"
     ]
    },
    {
     "name": "stdout",
     "output_type": "stream",
     "text": [
      "{'val_loss': 0.5471976333273909, 'val_accuracy': 0.852683344023947, 'precision': 0.8580026598606953, 'recall': 0.852683344023947, 'f1-score': 0.8528226931965632, 'macro_f1-score': 0.8446213035883787, 'balanced_accuracy': 0.8750823395157756, 'mcc': 0.8215679495210045, 'train_loss': 0.21189079377537173}\n",
      "Epoch 7/20\n"
     ]
    },
    {
     "name": "stderr",
     "output_type": "stream",
     "text": [
      "100%|██████████| 3151/3151 [04:49<00:00, 10.88it/s]\n"
     ]
    },
    {
     "name": "stdout",
     "output_type": "stream",
     "text": [
      "{'val_loss': 0.4426299669405716, 'val_accuracy': 0.8638015822108189, 'precision': 0.8653953338159016, 'recall': 0.8638015822108189, 'f1-score': 0.8637801287956369, 'macro_f1-score': 0.8632497679260989, 'balanced_accuracy': 0.8598209174536153, 'mcc': 0.8328293215336985, 'train_loss': 0.19347594773152418}\n",
      "Epoch 8/20\n"
     ]
    },
    {
     "name": "stderr",
     "output_type": "stream",
     "text": [
      "100%|██████████| 3151/3151 [04:49<00:00, 10.87it/s]\n"
     ]
    },
    {
     "name": "stdout",
     "output_type": "stream",
     "text": [
      "{'val_loss': 0.5688867640753205, 'val_accuracy': 0.8505452212957024, 'precision': 0.8552676121279629, 'recall': 0.8505452212957024, 'f1-score': 0.8504866126192439, 'macro_f1-score': 0.849599611993753, 'balanced_accuracy': 0.8431984505902734, 'mcc': 0.8160318640921738, 'train_loss': 0.1616508569407313}\n",
      "Epoch 9/20\n"
     ]
    },
    {
     "name": "stderr",
     "output_type": "stream",
     "text": [
      "100%|██████████| 3151/3151 [04:50<00:00, 10.85it/s]\n"
     ]
    },
    {
     "name": "stdout",
     "output_type": "stream",
     "text": [
      "{'val_loss': 0.531066849315937, 'val_accuracy': 0.856852683344024, 'precision': 0.8583204829681939, 'recall': 0.856852683344024, 'f1-score': 0.8564361474710788, 'macro_f1-score': 0.8526801240321582, 'balanced_accuracy': 0.8478361727837188, 'mcc': 0.8236899066486746, 'train_loss': 0.15070728393236393}\n",
      "Epoch 10/20\n"
     ]
    },
    {
     "name": "stderr",
     "output_type": "stream",
     "text": [
      "100%|██████████| 3151/3151 [04:50<00:00, 10.86it/s]\n"
     ]
    },
    {
     "name": "stdout",
     "output_type": "stream",
     "text": [
      "{'val_loss': 0.5380585816203274, 'val_accuracy': 0.8551421851614283, 'precision': 0.8583949466290594, 'recall': 0.8551421851614283, 'f1-score': 0.8557173199651468, 'macro_f1-score': 0.8511681365094292, 'balanced_accuracy': 0.8702046848485121, 'mcc': 0.8231544076688235, 'train_loss': 0.13691984901340074}\n",
      "Early stopping.\n",
      "\n",
      "[Fold 5]\n",
      "🚀 Using T5-paraphraser for data augmentation + under-sampling\n",
      "Using device: cuda\n",
      "CUDA Available: True\n",
      "CUDA Device: NVIDIA GeForce RTX 5070 Ti\n",
      "Current GPU Memory Allocated: 2.06 GB\n",
      "Current GPU Memory Cached: 3.40 GB\n",
      "🔧 Augmenting label 1: 1399 → 5000 (+3601)\n",
      "🔧 Augmenting label 4: 1678 → 5000 (+3322)\n",
      "🔧 Augmenting label 6: 1738 → 5000 (+3262)\n",
      "🔧 Augmenting label 7: 2187 → 5000 (+2813)\n",
      "Label distribution after resampling:\n",
      "  label 0: 5625\n",
      "  label 1: 5000\n",
      "  label 2: 8441\n",
      "  label 3: 10771\n",
      "  label 4: 5000\n",
      "  label 5: 5579\n",
      "  label 6: 5000\n",
      "  label 7: 5000\n",
      "model is roberta-base lstm\n"
     ]
    },
    {
     "name": "stderr",
     "output_type": "stream",
     "text": [
      "Some weights of RobertaModel were not initialized from the model checkpoint at roberta-base and are newly initialized: ['pooler.dense.bias', 'pooler.dense.weight']\n",
      "You should probably TRAIN this model on a down-stream task to be able to use it for predictions and inference.\n"
     ]
    },
    {
     "name": "stdout",
     "output_type": "stream",
     "text": [
      "Using weighted CrossEntropyLoss with weights: tensor([2.1931, 2.3109, 1.7872, 1.5435, 2.3109, 2.2013, 2.3109, 2.3109],\n",
      "       device='cuda:0')\n",
      "Epoch 1/20\n"
     ]
    },
    {
     "name": "stderr",
     "output_type": "stream",
     "text": [
      "100%|██████████| 3151/3151 [04:50<00:00, 10.87it/s]\n"
     ]
    },
    {
     "name": "stdout",
     "output_type": "stream",
     "text": [
      "{'val_loss': 0.5191998357255744, 'val_accuracy': 0.8200769724182168, 'precision': 0.8255325274235339, 'recall': 0.8200769724182168, 'f1-score': 0.8189023852788486, 'macro_f1-score': 0.8292593792770159, 'balanced_accuracy': 0.8210002258098451, 'mcc': 0.7811418326951268, 'train_loss': 0.6172749813585783}\n",
      "Epoch 2/20\n"
     ]
    },
    {
     "name": "stderr",
     "output_type": "stream",
     "text": [
      "100%|██████████| 3151/3151 [04:50<00:00, 10.86it/s]\n"
     ]
    },
    {
     "name": "stdout",
     "output_type": "stream",
     "text": [
      "{'val_loss': 0.4690978037464058, 'val_accuracy': 0.8441308531109686, 'precision': 0.8453193938871919, 'recall': 0.8441308531109686, 'f1-score': 0.8438435541455398, 'macro_f1-score': 0.8419814151322452, 'balanced_accuracy': 0.850996862798833, 'mcc': 0.8093486235963095, 'train_loss': 0.3995411051262876}\n",
      "Epoch 3/20\n"
     ]
    },
    {
     "name": "stderr",
     "output_type": "stream",
     "text": [
      "100%|██████████| 3151/3151 [04:50<00:00, 10.86it/s]\n"
     ]
    },
    {
     "name": "stdout",
     "output_type": "stream",
     "text": [
      "{'val_loss': 0.46415726453957395, 'val_accuracy': 0.8455206328843275, 'precision': 0.8519979705973241, 'recall': 0.8455206328843275, 'f1-score': 0.8458900584993264, 'macro_f1-score': 0.8497088733936423, 'balanced_accuracy': 0.8461166516502352, 'mcc': 0.8113580032532183, 'train_loss': 0.33857229012601087}\n",
      "Epoch 4/20\n"
     ]
    },
    {
     "name": "stderr",
     "output_type": "stream",
     "text": [
      "100%|██████████| 3151/3151 [04:50<00:00, 10.86it/s]\n"
     ]
    },
    {
     "name": "stdout",
     "output_type": "stream",
     "text": [
      "{'val_loss': 0.4549091751440468, 'val_accuracy': 0.8459482574299765, 'precision': 0.8539596398081634, 'recall': 0.8459482574299765, 'f1-score': 0.8466595142674015, 'macro_f1-score': 0.843823455144745, 'balanced_accuracy': 0.86208868448585, 'mcc': 0.8136066314211011, 'train_loss': 0.2833819644806729}\n",
      "Epoch 5/20\n"
     ]
    },
    {
     "name": "stderr",
     "output_type": "stream",
     "text": [
      "100%|██████████| 3151/3151 [04:50<00:00, 10.86it/s]\n"
     ]
    },
    {
     "name": "stdout",
     "output_type": "stream",
     "text": [
      "{'val_loss': 0.48303774138832956, 'val_accuracy': 0.8505452212957024, 'precision': 0.8535360103274857, 'recall': 0.8505452212957024, 'f1-score': 0.8499310197326092, 'macro_f1-score': 0.8454585430808841, 'balanced_accuracy': 0.837541430599763, 'mcc': 0.8164768757135095, 'train_loss': 0.23656042023144855}\n",
      "Epoch 6/20\n"
     ]
    },
    {
     "name": "stderr",
     "output_type": "stream",
     "text": [
      "100%|██████████| 3151/3151 [04:50<00:00, 10.86it/s]\n"
     ]
    },
    {
     "name": "stdout",
     "output_type": "stream",
     "text": [
      "{'val_loss': 0.48098861895278733, 'val_accuracy': 0.8519350010690614, 'precision': 0.853468607428381, 'recall': 0.8519350010690614, 'f1-score': 0.8518482710043099, 'macro_f1-score': 0.8470594054866045, 'balanced_accuracy': 0.8500626238052746, 'mcc': 0.8184611146856133, 'train_loss': 0.21066305025736942}\n",
      "Early stopping.\n",
      "\n",
      " === roberta-base + lstm + t5 Final 5-fold Cross-Validation Results ===\n",
      "val_loss: 0.7748\n",
      "val_accuracy: 0.7434\n",
      "precision: 0.7044\n",
      "recall: 0.7434\n",
      "f1-score: 0.7115\n",
      "macro_f1-score: 0.6971\n",
      "balanced_accuracy: 0.7078\n",
      "mcc: 0.6598\n",
      "train_loss: 0.5857\n",
      "total_seconds: 26782.0000\n",
      "total_time: 7 hrs 26 mins 22 secs\n",
      "▶ Running: roberta-base + bilstm + t5\n",
      "tokenizer is roberta-base\n",
      "Using device: cuda\n",
      "CUDA Available: True\n",
      "CUDA Device: NVIDIA GeForce RTX 5070 Ti\n",
      "Current GPU Memory Allocated: 0.02 GB\n",
      "Current GPU Memory Cached: 3.40 GB\n",
      "\n",
      "[Fold 1]\n",
      "🚀 Using T5-paraphraser for data augmentation + under-sampling\n",
      "Using device: cuda\n",
      "CUDA Available: True\n",
      "CUDA Device: NVIDIA GeForce RTX 5070 Ti\n",
      "Current GPU Memory Allocated: 0.02 GB\n",
      "Current GPU Memory Cached: 3.40 GB\n",
      "🔧 Augmenting label 1: 1399 → 5000 (+3601)\n",
      "🔧 Augmenting label 4: 1678 → 5000 (+3322)\n",
      "🔧 Augmenting label 6: 1737 → 5000 (+3263)\n",
      "🔧 Augmenting label 7: 2187 → 5000 (+2813)\n",
      "Label distribution after resampling:\n",
      "  label 0: 5626\n",
      "  label 1: 5000\n",
      "  label 2: 8442\n",
      "  label 3: 10770\n",
      "  label 4: 5000\n",
      "  label 5: 5578\n",
      "  label 6: 5000\n",
      "  label 7: 5000\n",
      "model is roberta-base bilstm\n"
     ]
    },
    {
     "name": "stderr",
     "output_type": "stream",
     "text": [
      "Some weights of RobertaModel were not initialized from the model checkpoint at roberta-base and are newly initialized: ['pooler.dense.bias', 'pooler.dense.weight']\n",
      "You should probably TRAIN this model on a down-stream task to be able to use it for predictions and inference.\n"
     ]
    },
    {
     "name": "stdout",
     "output_type": "stream",
     "text": [
      "Using weighted CrossEntropyLoss with weights: tensor([2.1929, 2.3109, 1.7871, 1.5435, 2.3109, 2.2015, 2.3109, 2.3109],\n",
      "       device='cuda:0')\n",
      "Epoch 1/20\n"
     ]
    },
    {
     "name": "stderr",
     "output_type": "stream",
     "text": [
      "100%|██████████| 3151/3151 [04:59<00:00, 10.53it/s]\n"
     ]
    },
    {
     "name": "stdout",
     "output_type": "stream",
     "text": [
      "{'val_loss': 0.47565596021520784, 'val_accuracy': 0.8405130946018172, 'precision': 0.8423259321911799, 'recall': 0.8405130946018172, 'f1-score': 0.8397558931750781, 'macro_f1-score': 0.8351390225470692, 'balanced_accuracy': 0.8348562035766498, 'mcc': 0.8046922719688386, 'train_loss': 0.6007650226256471}\n",
      "Epoch 2/20\n"
     ]
    },
    {
     "name": "stderr",
     "output_type": "stream",
     "text": [
      "100%|██████████| 3151/3151 [04:58<00:00, 10.54it/s]\n"
     ]
    },
    {
     "name": "stdout",
     "output_type": "stream",
     "text": [
      "{'val_loss': 0.44844784198535814, 'val_accuracy': 0.8529128808123998, 'precision': 0.8570466310753172, 'recall': 0.8529128808123998, 'f1-score': 0.852630696013204, 'macro_f1-score': 0.8481842973661867, 'balanced_accuracy': 0.825822034327344, 'mcc': 0.8186162773698655, 'train_loss': 0.38316368032335496}\n",
      "Epoch 3/20\n"
     ]
    },
    {
     "name": "stderr",
     "output_type": "stream",
     "text": [
      "100%|██████████| 3151/3151 [04:58<00:00, 10.55it/s]\n"
     ]
    },
    {
     "name": "stdout",
     "output_type": "stream",
     "text": [
      "{'val_loss': 0.4435487052346142, 'val_accuracy': 0.8582576162479957, 'precision': 0.8623320405424919, 'recall': 0.8582576162479957, 'f1-score': 0.8590646619453473, 'macro_f1-score': 0.8530731772144826, 'balanced_accuracy': 0.8619624603280998, 'mcc': 0.8259960740376594, 'train_loss': 0.3097879680666289}\n",
      "Epoch 4/20\n"
     ]
    },
    {
     "name": "stderr",
     "output_type": "stream",
     "text": [
      "100%|██████████| 3151/3151 [04:59<00:00, 10.53it/s]\n"
     ]
    },
    {
     "name": "stdout",
     "output_type": "stream",
     "text": [
      "{'val_loss': 0.5465260103774758, 'val_accuracy': 0.8492784607161945, 'precision': 0.8544985131465722, 'recall': 0.8492784607161945, 'f1-score': 0.8496199755981737, 'macro_f1-score': 0.8405769763182822, 'balanced_accuracy': 0.8502118105296108, 'mcc': 0.8153649261366125, 'train_loss': 0.25811258375231483}\n",
      "Epoch 5/20\n"
     ]
    },
    {
     "name": "stderr",
     "output_type": "stream",
     "text": [
      "100%|██████████| 3151/3151 [04:59<00:00, 10.53it/s]\n"
     ]
    },
    {
     "name": "stdout",
     "output_type": "stream",
     "text": [
      "{'val_loss': 0.4884141644669904, 'val_accuracy': 0.8654195617316943, 'precision': 0.8654332758250661, 'recall': 0.8654195617316943, 'f1-score': 0.8650408565480907, 'macro_f1-score': 0.8538909234667568, 'balanced_accuracy': 0.8552649659413405, 'mcc': 0.8346644897752573, 'train_loss': 0.20816567889880241}\n",
      "Epoch 6/20\n"
     ]
    },
    {
     "name": "stderr",
     "output_type": "stream",
     "text": [
      "100%|██████████| 3151/3151 [04:58<00:00, 10.56it/s]\n"
     ]
    },
    {
     "name": "stdout",
     "output_type": "stream",
     "text": [
      "{'val_loss': 0.5187657730502642, 'val_accuracy': 0.857830037413148, 'precision': 0.8606119952754973, 'recall': 0.857830037413148, 'f1-score': 0.8572116317924895, 'macro_f1-score': 0.8566542739900196, 'balanced_accuracy': 0.8422197698919975, 'mcc': 0.8248131988813747, 'train_loss': 0.17669257596030213}\n",
      "Epoch 7/20\n"
     ]
    },
    {
     "name": "stderr",
     "output_type": "stream",
     "text": [
      "100%|██████████| 3151/3151 [04:58<00:00, 10.54it/s]\n"
     ]
    },
    {
     "name": "stdout",
     "output_type": "stream",
     "text": [
      "{'val_loss': 0.5899041486502044, 'val_accuracy': 0.8572955638695885, 'precision': 0.857634233637458, 'recall': 0.8572955638695885, 'f1-score': 0.8570318833568672, 'macro_f1-score': 0.8514053324401059, 'balanced_accuracy': 0.853536648831922, 'mcc': 0.8246100739170316, 'train_loss': 0.14898640829063384}\n",
      "Epoch 8/20\n"
     ]
    },
    {
     "name": "stderr",
     "output_type": "stream",
     "text": [
      "100%|██████████| 3151/3151 [04:59<00:00, 10.53it/s]\n"
     ]
    },
    {
     "name": "stdout",
     "output_type": "stream",
     "text": [
      "{'val_loss': 0.6232820808871562, 'val_accuracy': 0.8544094067343666, 'precision': 0.8572163925278773, 'recall': 0.8544094067343666, 'f1-score': 0.8545687853726754, 'macro_f1-score': 0.8486644513606104, 'balanced_accuracy': 0.8425381358788855, 'mcc': 0.8211073105245411, 'train_loss': 0.12581089041319207}\n",
      "Epoch 9/20\n"
     ]
    },
    {
     "name": "stderr",
     "output_type": "stream",
     "text": [
      "100%|██████████| 3151/3151 [04:58<00:00, 10.55it/s]\n"
     ]
    },
    {
     "name": "stdout",
     "output_type": "stream",
     "text": [
      "{'val_loss': 0.6370989572288643, 'val_accuracy': 0.8613575628006414, 'precision': 0.8637826543782984, 'recall': 0.8613575628006414, 'f1-score': 0.8618792631463957, 'macro_f1-score': 0.8554710942628536, 'balanced_accuracy': 0.8483098294812821, 'mcc': 0.8291908002242762, 'train_loss': 0.11179819645943703}\n",
      "Early stopping.\n",
      "\n",
      "[Fold 2]\n",
      "🚀 Using T5-paraphraser for data augmentation + under-sampling\n",
      "Using device: cuda\n",
      "CUDA Available: True\n",
      "CUDA Device: NVIDIA GeForce RTX 5070 Ti\n",
      "Current GPU Memory Allocated: 2.06 GB\n",
      "Current GPU Memory Cached: 3.40 GB\n",
      "🔧 Augmenting label 1: 1400 → 5000 (+3600)\n",
      "🔧 Augmenting label 4: 1678 → 5000 (+3322)\n",
      "🔧 Augmenting label 6: 1737 → 5000 (+3263)\n",
      "🔧 Augmenting label 7: 2186 → 5000 (+2814)\n",
      "Label distribution after resampling:\n",
      "  label 0: 5626\n",
      "  label 1: 5000\n",
      "  label 2: 8442\n",
      "  label 3: 10770\n",
      "  label 4: 5000\n",
      "  label 5: 5578\n",
      "  label 6: 5000\n",
      "  label 7: 5000\n",
      "model is roberta-base bilstm\n"
     ]
    },
    {
     "name": "stderr",
     "output_type": "stream",
     "text": [
      "Some weights of RobertaModel were not initialized from the model checkpoint at roberta-base and are newly initialized: ['pooler.dense.bias', 'pooler.dense.weight']\n",
      "You should probably TRAIN this model on a down-stream task to be able to use it for predictions and inference.\n"
     ]
    },
    {
     "name": "stdout",
     "output_type": "stream",
     "text": [
      "Using weighted CrossEntropyLoss with weights: tensor([2.1929, 2.3109, 1.7871, 1.5435, 2.3109, 2.2015, 2.3109, 2.3109],\n",
      "       device='cuda:0')\n",
      "Epoch 1/20\n"
     ]
    },
    {
     "name": "stderr",
     "output_type": "stream",
     "text": [
      "100%|██████████| 3151/3151 [04:58<00:00, 10.56it/s]\n"
     ]
    },
    {
     "name": "stdout",
     "output_type": "stream",
     "text": [
      "{'val_loss': 0.5162378768635612, 'val_accuracy': 0.8257616247995724, 'precision': 0.8273972840890236, 'recall': 0.8257616247995724, 'f1-score': 0.8249786837216325, 'macro_f1-score': 0.8213262049259746, 'balanced_accuracy': 0.8196789271545807, 'mcc': 0.7856418778317876, 'train_loss': 0.5890701516696628}\n",
      "Epoch 2/20\n"
     ]
    },
    {
     "name": "stderr",
     "output_type": "stream",
     "text": [
      "100%|██████████| 3151/3151 [04:58<00:00, 10.55it/s]\n"
     ]
    },
    {
     "name": "stdout",
     "output_type": "stream",
     "text": [
      "{'val_loss': 0.5164409096774637, 'val_accuracy': 0.8358097274184928, 'precision': 0.8391542436407572, 'recall': 0.8358097274184928, 'f1-score': 0.8360605117126778, 'macro_f1-score': 0.831513087289083, 'balanced_accuracy': 0.8411962154040544, 'mcc': 0.798611347482981, 'train_loss': 0.38766187859533024}\n",
      "Epoch 3/20\n"
     ]
    },
    {
     "name": "stderr",
     "output_type": "stream",
     "text": [
      "100%|██████████| 3151/3151 [04:59<00:00, 10.53it/s]\n"
     ]
    },
    {
     "name": "stdout",
     "output_type": "stream",
     "text": [
      "{'val_loss': 0.48878881309627215, 'val_accuracy': 0.8373062533404596, 'precision': 0.8427132985408925, 'recall': 0.8373062533404596, 'f1-score': 0.8375529436241085, 'macro_f1-score': 0.8329362254228305, 'balanced_accuracy': 0.8476897548055933, 'mcc': 0.8013507803420548, 'train_loss': 0.3187990607956843}\n",
      "Epoch 4/20\n"
     ]
    },
    {
     "name": "stderr",
     "output_type": "stream",
     "text": [
      "100%|██████████| 3151/3151 [04:58<00:00, 10.54it/s]\n"
     ]
    },
    {
     "name": "stdout",
     "output_type": "stream",
     "text": [
      "{'val_loss': 0.4864549584798196, 'val_accuracy': 0.8399786210582576, 'precision': 0.8434263832348629, 'recall': 0.8399786210582576, 'f1-score': 0.8394889300469446, 'macro_f1-score': 0.8395492604393924, 'balanced_accuracy': 0.8532958862879111, 'mcc': 0.8053531697960835, 'train_loss': 0.2707533691878221}\n",
      "Epoch 5/20\n"
     ]
    },
    {
     "name": "stderr",
     "output_type": "stream",
     "text": [
      "100%|██████████| 3151/3151 [04:58<00:00, 10.56it/s]\n"
     ]
    },
    {
     "name": "stdout",
     "output_type": "stream",
     "text": [
      "{'val_loss': 0.5161511716154269, 'val_accuracy': 0.8439337252805986, 'precision': 0.8467648081886223, 'recall': 0.8439337252805986, 'f1-score': 0.8442000881108658, 'macro_f1-score': 0.8419398047702307, 'balanced_accuracy': 0.831233820928817, 'mcc': 0.8078078799972372, 'train_loss': 0.2262849122571358}\n",
      "Epoch 6/20\n"
     ]
    },
    {
     "name": "stderr",
     "output_type": "stream",
     "text": [
      "100%|██████████| 3151/3151 [04:58<00:00, 10.55it/s]\n"
     ]
    },
    {
     "name": "stdout",
     "output_type": "stream",
     "text": [
      "{'val_loss': 0.5876501339288731, 'val_accuracy': 0.8481026189203634, 'precision': 0.8523179167659631, 'recall': 0.8481026189203634, 'f1-score': 0.8487817959813599, 'macro_f1-score': 0.8422504721737669, 'balanced_accuracy': 0.8590645117870684, 'mcc': 0.8142579676612077, 'train_loss': 0.18621234121040497}\n",
      "Epoch 7/20\n"
     ]
    },
    {
     "name": "stderr",
     "output_type": "stream",
     "text": [
      "100%|██████████| 3151/3151 [04:59<00:00, 10.54it/s]\n"
     ]
    },
    {
     "name": "stdout",
     "output_type": "stream",
     "text": [
      "{'val_loss': 0.5683748009025604, 'val_accuracy': 0.8505611972207375, 'precision': 0.8521700570985644, 'recall': 0.8505611972207375, 'f1-score': 0.8505527005120466, 'macro_f1-score': 0.8497030659307123, 'balanced_accuracy': 0.8415027116377292, 'mcc': 0.8158000788127527, 'train_loss': 0.1636179078969441}\n",
      "Epoch 8/20\n"
     ]
    },
    {
     "name": "stderr",
     "output_type": "stream",
     "text": [
      "100%|██████████| 3151/3151 [04:58<00:00, 10.55it/s]\n"
     ]
    },
    {
     "name": "stdout",
     "output_type": "stream",
     "text": [
      "{'val_loss': 0.6105531450179923, 'val_accuracy': 0.8422234099412079, 'precision': 0.8513433382769126, 'recall': 0.8422234099412079, 'f1-score': 0.8445939945807811, 'macro_f1-score': 0.8366958260574122, 'balanced_accuracy': 0.8577175919832818, 'mcc': 0.8075806297297856, 'train_loss': 0.14637576719856535}\n",
      "Epoch 9/20\n"
     ]
    },
    {
     "name": "stderr",
     "output_type": "stream",
     "text": [
      "100%|██████████| 3151/3151 [04:58<00:00, 10.55it/s]\n"
     ]
    },
    {
     "name": "stdout",
     "output_type": "stream",
     "text": [
      "{'val_loss': 0.6059322350805737, 'val_accuracy': 0.8489577765900588, 'precision': 0.8496676930798323, 'recall': 0.8489577765900588, 'f1-score': 0.8488012774996382, 'macro_f1-score': 0.8476627997339645, 'balanced_accuracy': 0.8547915809262563, 'mcc': 0.8149198349772899, 'train_loss': 0.1322020659352804}\n",
      "Epoch 10/20\n"
     ]
    },
    {
     "name": "stderr",
     "output_type": "stream",
     "text": [
      "100%|██████████| 3151/3151 [04:59<00:00, 10.53it/s]\n"
     ]
    },
    {
     "name": "stdout",
     "output_type": "stream",
     "text": [
      "{'val_loss': 0.6332831214082578, 'val_accuracy': 0.8551576696953501, 'precision': 0.8556464039740775, 'recall': 0.8551576696953501, 'f1-score': 0.8547944504436741, 'macro_f1-score': 0.852035626279511, 'balanced_accuracy': 0.8570772400514888, 'mcc': 0.8219947515761273, 'train_loss': 0.09488692767218362}\n",
      "Epoch 11/20\n"
     ]
    },
    {
     "name": "stderr",
     "output_type": "stream",
     "text": [
      "100%|██████████| 3151/3151 [04:58<00:00, 10.55it/s]\n"
     ]
    },
    {
     "name": "stdout",
     "output_type": "stream",
     "text": [
      "{'val_loss': 0.5901185534305424, 'val_accuracy': 0.8550507749866382, 'precision': 0.8556919051689938, 'recall': 0.8550507749866382, 'f1-score': 0.8550070040225505, 'macro_f1-score': 0.8549554554993977, 'balanced_accuracy': 0.859712554492099, 'mcc': 0.8221495268302809, 'train_loss': 0.10393365462461646}\n",
      "Epoch 12/20\n"
     ]
    },
    {
     "name": "stderr",
     "output_type": "stream",
     "text": [
      "100%|██████████| 3151/3151 [04:58<00:00, 10.55it/s]\n"
     ]
    },
    {
     "name": "stdout",
     "output_type": "stream",
     "text": [
      "{'val_loss': 0.7282148365371136, 'val_accuracy': 0.8502405130946018, 'precision': 0.8508598602340803, 'recall': 0.8502405130946018, 'f1-score': 0.850257731494114, 'macro_f1-score': 0.8493535850522407, 'balanced_accuracy': 0.8472966048263002, 'mcc': 0.8155374569989712, 'train_loss': 0.09609452896479988}\n",
      "Epoch 13/20\n"
     ]
    },
    {
     "name": "stderr",
     "output_type": "stream",
     "text": [
      "100%|██████████| 3151/3151 [04:58<00:00, 10.56it/s]\n"
     ]
    },
    {
     "name": "stdout",
     "output_type": "stream",
     "text": [
      "{'val_loss': 0.6139059546702088, 'val_accuracy': 0.8483164083377873, 'precision': 0.8508459818195414, 'recall': 0.8483164083377873, 'f1-score': 0.8486801363552648, 'macro_f1-score': 0.8466180275731658, 'balanced_accuracy': 0.8640887696439595, 'mcc': 0.8144348570717581, 'train_loss': 0.09228461726150564}\n",
      "Epoch 14/20\n"
     ]
    },
    {
     "name": "stderr",
     "output_type": "stream",
     "text": [
      "100%|██████████| 3151/3151 [04:59<00:00, 10.53it/s]\n"
     ]
    },
    {
     "name": "stdout",
     "output_type": "stream",
     "text": [
      "{'val_loss': 0.6824933211311188, 'val_accuracy': 0.8414751469802245, 'precision': 0.84251601478373, 'recall': 0.8414751469802245, 'f1-score': 0.8414318955380183, 'macro_f1-score': 0.8432542899984163, 'balanced_accuracy': 0.8480717988796372, 'mcc': 0.8051667346945272, 'train_loss': 0.1097481886966762}\n",
      "Early stopping.\n",
      "\n",
      "[Fold 3]\n",
      "🚀 Using T5-paraphraser for data augmentation + under-sampling\n",
      "Using device: cuda\n",
      "CUDA Available: True\n",
      "CUDA Device: NVIDIA GeForce RTX 5070 Ti\n",
      "Current GPU Memory Allocated: 2.06 GB\n",
      "Current GPU Memory Cached: 3.40 GB\n",
      "🔧 Augmenting label 1: 1399 → 5000 (+3601)\n",
      "🔧 Augmenting label 4: 1679 → 5000 (+3321)\n",
      "🔧 Augmenting label 6: 1738 → 5000 (+3262)\n",
      "🔧 Augmenting label 7: 2186 → 5000 (+2814)\n",
      "Label distribution after resampling:\n",
      "  label 0: 5626\n",
      "  label 1: 5000\n",
      "  label 2: 8442\n",
      "  label 3: 10770\n",
      "  label 4: 5000\n",
      "  label 5: 5578\n",
      "  label 6: 5000\n",
      "  label 7: 5000\n",
      "model is roberta-base bilstm\n"
     ]
    },
    {
     "name": "stderr",
     "output_type": "stream",
     "text": [
      "Some weights of RobertaModel were not initialized from the model checkpoint at roberta-base and are newly initialized: ['pooler.dense.bias', 'pooler.dense.weight']\n",
      "You should probably TRAIN this model on a down-stream task to be able to use it for predictions and inference.\n"
     ]
    },
    {
     "name": "stdout",
     "output_type": "stream",
     "text": [
      "Using weighted CrossEntropyLoss with weights: tensor([2.1929, 2.3109, 1.7871, 1.5435, 2.3109, 2.2015, 2.3109, 2.3109],\n",
      "       device='cuda:0')\n",
      "Epoch 1/20\n"
     ]
    },
    {
     "name": "stderr",
     "output_type": "stream",
     "text": [
      "100%|██████████| 3151/3151 [04:58<00:00, 10.56it/s]\n"
     ]
    },
    {
     "name": "stdout",
     "output_type": "stream",
     "text": [
      "{'val_loss': 0.5649073499517563, 'val_accuracy': 0.8121659183237118, 'precision': 0.8292457003557994, 'recall': 0.8121659183237118, 'f1-score': 0.8119049242380235, 'macro_f1-score': 0.7984228887005586, 'balanced_accuracy': 0.8373236585088466, 'mcc': 0.7725821646025649, 'train_loss': 0.6041191559295566}\n",
      "Epoch 2/20\n"
     ]
    },
    {
     "name": "stderr",
     "output_type": "stream",
     "text": [
      "100%|██████████| 3151/3151 [04:59<00:00, 10.53it/s]\n"
     ]
    },
    {
     "name": "stdout",
     "output_type": "stream",
     "text": [
      "{'val_loss': 0.4285227458510134, 'val_accuracy': 0.8505452212957024, 'precision': 0.852280261829117, 'recall': 0.8505452212957024, 'f1-score': 0.8500893908164981, 'macro_f1-score': 0.8470653632301732, 'balanced_accuracy': 0.8504897001277867, 'mcc': 0.8165891730216747, 'train_loss': 0.38846195489168167}\n",
      "Epoch 3/20\n"
     ]
    },
    {
     "name": "stderr",
     "output_type": "stream",
     "text": [
      "100%|██████████| 3151/3151 [04:58<00:00, 10.55it/s]\n"
     ]
    },
    {
     "name": "stdout",
     "output_type": "stream",
     "text": [
      "{'val_loss': 0.4567182526852076, 'val_accuracy': 0.852683344023947, 'precision': 0.8547297896800429, 'recall': 0.852683344023947, 'f1-score': 0.8529408778160553, 'macro_f1-score': 0.8520522297385237, 'balanced_accuracy': 0.850229946396712, 'mcc': 0.8187727880132087, 'train_loss': 0.32838665740076783}\n",
      "Epoch 4/20\n"
     ]
    },
    {
     "name": "stderr",
     "output_type": "stream",
     "text": [
      "100%|██████████| 3151/3151 [04:58<00:00, 10.55it/s]\n"
     ]
    },
    {
     "name": "stdout",
     "output_type": "stream",
     "text": [
      "{'val_loss': 0.47584111431342924, 'val_accuracy': 0.8519350010690614, 'precision': 0.8558999617840906, 'recall': 0.8519350010690614, 'f1-score': 0.8519685899919056, 'macro_f1-score': 0.8484783007837624, 'balanced_accuracy': 0.8613204513153425, 'mcc': 0.8198755770421556, 'train_loss': 0.28076900800297544}\n",
      "Epoch 5/20\n"
     ]
    },
    {
     "name": "stderr",
     "output_type": "stream",
     "text": [
      "100%|██████████| 3151/3151 [04:58<00:00, 10.56it/s]\n"
     ]
    },
    {
     "name": "stdout",
     "output_type": "stream",
     "text": [
      "{'val_loss': 0.4507554184931975, 'val_accuracy': 0.859204618345093, 'precision': 0.8623256432192379, 'recall': 0.859204618345093, 'f1-score': 0.8599673958179768, 'macro_f1-score': 0.8554120392907557, 'balanced_accuracy': 0.8566315449056219, 'mcc': 0.8270053092800568, 'train_loss': 0.238880103874286}\n",
      "Epoch 6/20\n"
     ]
    },
    {
     "name": "stderr",
     "output_type": "stream",
     "text": [
      "100%|██████████| 3151/3151 [04:58<00:00, 10.54it/s]\n"
     ]
    },
    {
     "name": "stdout",
     "output_type": "stream",
     "text": [
      "{'val_loss': 0.4889763202215744, 'val_accuracy': 0.8547145606157793, 'precision': 0.8578530311174632, 'recall': 0.8547145606157793, 'f1-score': 0.8549918116823747, 'macro_f1-score': 0.8491844103213304, 'balanced_accuracy': 0.8628620574409844, 'mcc': 0.8224694062498479, 'train_loss': 0.19739723390500882}\n",
      "Epoch 7/20\n"
     ]
    },
    {
     "name": "stderr",
     "output_type": "stream",
     "text": [
      "100%|██████████| 3151/3151 [04:58<00:00, 10.54it/s]\n"
     ]
    },
    {
     "name": "stdout",
     "output_type": "stream",
     "text": [
      "{'val_loss': 0.5153852521911518, 'val_accuracy': 0.8528971562967714, 'precision': 0.8555533199125829, 'recall': 0.8528971562967714, 'f1-score': 0.8528358139047639, 'macro_f1-score': 0.8446118054189884, 'balanced_accuracy': 0.8575951968682612, 'mcc': 0.8201998407627558, 'train_loss': 0.17258961412890733}\n",
      "Epoch 8/20\n"
     ]
    },
    {
     "name": "stderr",
     "output_type": "stream",
     "text": [
      "100%|██████████| 3151/3151 [04:58<00:00, 10.55it/s]\n"
     ]
    },
    {
     "name": "stdout",
     "output_type": "stream",
     "text": [
      "{'val_loss': 0.5436017341143651, 'val_accuracy': 0.8573872140260851, 'precision': 0.8585441454399338, 'recall': 0.8573872140260851, 'f1-score': 0.8569125551243442, 'macro_f1-score': 0.8535684882608376, 'balanced_accuracy': 0.8560093710595789, 'mcc': 0.8254238970957425, 'train_loss': 0.15544124430845577}\n",
      "Early stopping.\n",
      "\n",
      "[Fold 4]\n",
      "🚀 Using T5-paraphraser for data augmentation + under-sampling\n",
      "Using device: cuda\n",
      "CUDA Available: True\n",
      "CUDA Device: NVIDIA GeForce RTX 5070 Ti\n",
      "Current GPU Memory Allocated: 2.06 GB\n",
      "Current GPU Memory Cached: 3.40 GB\n",
      "🔧 Augmenting label 1: 1399 → 5000 (+3601)\n",
      "🔧 Augmenting label 4: 1679 → 5000 (+3321)\n",
      "🔧 Augmenting label 6: 1738 → 5000 (+3262)\n",
      "🔧 Augmenting label 7: 2186 → 5000 (+2814)\n",
      "Label distribution after resampling:\n",
      "  label 0: 5625\n",
      "  label 1: 5000\n",
      "  label 2: 8441\n",
      "  label 3: 10771\n",
      "  label 4: 5000\n",
      "  label 5: 5579\n",
      "  label 6: 5000\n",
      "  label 7: 5000\n",
      "model is roberta-base bilstm\n"
     ]
    },
    {
     "name": "stderr",
     "output_type": "stream",
     "text": [
      "Some weights of RobertaModel were not initialized from the model checkpoint at roberta-base and are newly initialized: ['pooler.dense.bias', 'pooler.dense.weight']\n",
      "You should probably TRAIN this model on a down-stream task to be able to use it for predictions and inference.\n"
     ]
    },
    {
     "name": "stdout",
     "output_type": "stream",
     "text": [
      "Using weighted CrossEntropyLoss with weights: tensor([2.1931, 2.3109, 1.7872, 1.5435, 2.3109, 2.2013, 2.3109, 2.3109],\n",
      "       device='cuda:0')\n",
      "Epoch 1/20\n"
     ]
    },
    {
     "name": "stderr",
     "output_type": "stream",
     "text": [
      "100%|██████████| 3151/3151 [04:58<00:00, 10.56it/s]\n"
     ]
    },
    {
     "name": "stdout",
     "output_type": "stream",
     "text": [
      "{'val_loss': 0.5248296867005336, 'val_accuracy': 0.8179388496899722, 'precision': 0.8264083853273944, 'recall': 0.8179388496899722, 'f1-score': 0.8160461928112808, 'macro_f1-score': 0.8185669402565633, 'balanced_accuracy': 0.8407353342732975, 'mcc': 0.7812860237757048, 'train_loss': 0.613199001904642}\n",
      "Epoch 2/20\n"
     ]
    },
    {
     "name": "stderr",
     "output_type": "stream",
     "text": [
      "100%|██████████| 3151/3151 [04:58<00:00, 10.55it/s]\n"
     ]
    },
    {
     "name": "stdout",
     "output_type": "stream",
     "text": [
      "{'val_loss': 0.4740900754228107, 'val_accuracy': 0.840175326063716, 'precision': 0.8441004692731647, 'recall': 0.840175326063716, 'f1-score': 0.8394348960276754, 'macro_f1-score': 0.8353953876444205, 'balanced_accuracy': 0.8452130681462426, 'mcc': 0.8054046659899895, 'train_loss': 0.4065314017168844}\n",
      "Epoch 3/20\n"
     ]
    },
    {
     "name": "stderr",
     "output_type": "stream",
     "text": [
      "100%|██████████| 3151/3151 [04:58<00:00, 10.54it/s]\n"
     ]
    },
    {
     "name": "stdout",
     "output_type": "stream",
     "text": [
      "{'val_loss': 0.44583021262581024, 'val_accuracy': 0.8524695317511225, 'precision': 0.8568687737973939, 'recall': 0.8524695317511225, 'f1-score': 0.8530278842061292, 'macro_f1-score': 0.8513506598159182, 'balanced_accuracy': 0.8579047401259963, 'mcc': 0.819506347890598, 'train_loss': 0.33895240423527595}\n",
      "Epoch 4/20\n"
     ]
    },
    {
     "name": "stderr",
     "output_type": "stream",
     "text": [
      "100%|██████████| 3151/3151 [04:58<00:00, 10.54it/s]\n"
     ]
    },
    {
     "name": "stdout",
     "output_type": "stream",
     "text": [
      "{'val_loss': 0.4232853210730176, 'val_accuracy': 0.856425058798375, 'precision': 0.857662176703737, 'recall': 0.856425058798375, 'f1-score': 0.8559482690126246, 'macro_f1-score': 0.8577980797438975, 'balanced_accuracy': 0.8545721832862343, 'mcc': 0.8241946379009801, 'train_loss': 0.28703379089169984}\n",
      "Epoch 5/20\n"
     ]
    },
    {
     "name": "stderr",
     "output_type": "stream",
     "text": [
      "100%|██████████| 3151/3151 [04:59<00:00, 10.54it/s]\n"
     ]
    },
    {
     "name": "stdout",
     "output_type": "stream",
     "text": [
      "{'val_loss': 0.47920650069832676, 'val_accuracy': 0.8517211887962369, 'precision': 0.8552340748732551, 'recall': 0.8517211887962369, 'f1-score': 0.8520242037721731, 'macro_f1-score': 0.8480821806574229, 'balanced_accuracy': 0.8615778479226065, 'mcc': 0.8192209592429668, 'train_loss': 0.24891924189298137}\n",
      "Epoch 6/20\n"
     ]
    },
    {
     "name": "stderr",
     "output_type": "stream",
     "text": [
      "100%|██████████| 3151/3151 [04:58<00:00, 10.56it/s]\n"
     ]
    },
    {
     "name": "stdout",
     "output_type": "stream",
     "text": [
      "{'val_loss': 0.4689413233413401, 'val_accuracy': 0.8612358349369253, 'precision': 0.862386997320666, 'recall': 0.8612358349369253, 'f1-score': 0.8611184324915607, 'macro_f1-score': 0.8624637439944252, 'balanced_accuracy': 0.8683359481695185, 'mcc': 0.8301959516530854, 'train_loss': 0.2068966375183585}\n",
      "Epoch 7/20\n"
     ]
    },
    {
     "name": "stderr",
     "output_type": "stream",
     "text": [
      "100%|██████████| 3151/3151 [04:58<00:00, 10.55it/s]\n"
     ]
    },
    {
     "name": "stdout",
     "output_type": "stream",
     "text": [
      "{'val_loss': 0.512403422066321, 'val_accuracy': 0.8576010262989096, 'precision': 0.858172198936913, 'recall': 0.8576010262989096, 'f1-score': 0.8575305789612557, 'macro_f1-score': 0.8591215794563088, 'balanced_accuracy': 0.854287640660907, 'mcc': 0.8247177595415118, 'train_loss': 0.17799796233419476}\n",
      "Epoch 8/20\n"
     ]
    },
    {
     "name": "stderr",
     "output_type": "stream",
     "text": [
      "100%|██████████| 3151/3151 [04:59<00:00, 10.52it/s]\n"
     ]
    },
    {
     "name": "stdout",
     "output_type": "stream",
     "text": [
      "{'val_loss': 0.5022299150275624, 'val_accuracy': 0.8483001924310456, 'precision': 0.8531963392240713, 'recall': 0.8483001924310456, 'f1-score': 0.848295184396738, 'macro_f1-score': 0.8429608938331332, 'balanced_accuracy': 0.865990652402971, 'mcc': 0.8160144989395686, 'train_loss': 0.15392883455762665}\n",
      "Epoch 9/20\n"
     ]
    },
    {
     "name": "stderr",
     "output_type": "stream",
     "text": [
      "100%|██████████| 3151/3151 [04:58<00:00, 10.54it/s]\n"
     ]
    },
    {
     "name": "stdout",
     "output_type": "stream",
     "text": [
      "{'val_loss': 0.5250327475846578, 'val_accuracy': 0.8412443874278384, 'precision': 0.8460711637978631, 'recall': 0.8412443874278384, 'f1-score': 0.8413037742627868, 'macro_f1-score': 0.834670855392963, 'balanced_accuracy': 0.859758749127177, 'mcc': 0.8071585607209251, 'train_loss': 0.13220301391152675}\n",
      "Early stopping.\n",
      "\n",
      "[Fold 5]\n",
      "🚀 Using T5-paraphraser for data augmentation + under-sampling\n",
      "Using device: cuda\n",
      "CUDA Available: True\n",
      "CUDA Device: NVIDIA GeForce RTX 5070 Ti\n",
      "Current GPU Memory Allocated: 2.06 GB\n",
      "Current GPU Memory Cached: 3.40 GB\n",
      "🔧 Augmenting label 1: 1399 → 5000 (+3601)\n",
      "🔧 Augmenting label 4: 1678 → 5000 (+3322)\n",
      "🔧 Augmenting label 6: 1738 → 5000 (+3262)\n",
      "🔧 Augmenting label 7: 2187 → 5000 (+2813)\n",
      "Label distribution after resampling:\n",
      "  label 0: 5625\n",
      "  label 1: 5000\n",
      "  label 2: 8441\n",
      "  label 3: 10771\n",
      "  label 4: 5000\n",
      "  label 5: 5579\n",
      "  label 6: 5000\n",
      "  label 7: 5000\n",
      "model is roberta-base bilstm\n"
     ]
    },
    {
     "name": "stderr",
     "output_type": "stream",
     "text": [
      "Some weights of RobertaModel were not initialized from the model checkpoint at roberta-base and are newly initialized: ['pooler.dense.bias', 'pooler.dense.weight']\n",
      "You should probably TRAIN this model on a down-stream task to be able to use it for predictions and inference.\n"
     ]
    },
    {
     "name": "stdout",
     "output_type": "stream",
     "text": [
      "Using weighted CrossEntropyLoss with weights: tensor([2.1931, 2.3109, 1.7872, 1.5435, 2.3109, 2.2013, 2.3109, 2.3109],\n",
      "       device='cuda:0')\n",
      "Epoch 1/20\n"
     ]
    },
    {
     "name": "stderr",
     "output_type": "stream",
     "text": [
      "100%|██████████| 3151/3151 [04:57<00:00, 10.58it/s]\n"
     ]
    },
    {
     "name": "stdout",
     "output_type": "stream",
     "text": [
      "{'val_loss': 0.527559660642575, 'val_accuracy': 0.8182595680992089, 'precision': 0.8268763583274821, 'recall': 0.8182595680992089, 'f1-score': 0.8190894859968022, 'macro_f1-score': 0.8237943165868729, 'balanced_accuracy': 0.8044137676401639, 'mcc': 0.7769342435538007, 'train_loss': 0.6702243590751684}\n",
      "Epoch 2/20\n"
     ]
    },
    {
     "name": "stderr",
     "output_type": "stream",
     "text": [
      "100%|██████████| 3151/3151 [04:59<00:00, 10.54it/s]\n"
     ]
    },
    {
     "name": "stdout",
     "output_type": "stream",
     "text": [
      "{'val_loss': 0.4676304573400153, 'val_accuracy': 0.8414581997006628, 'precision': 0.8454004167967333, 'recall': 0.8414581997006628, 'f1-score': 0.841103046976203, 'macro_f1-score': 0.8434983807223865, 'balanced_accuracy': 0.8500980638094149, 'mcc': 0.8071364702534087, 'train_loss': 0.4093930224469212}\n",
      "Epoch 3/20\n"
     ]
    },
    {
     "name": "stderr",
     "output_type": "stream",
     "text": [
      "100%|██████████| 3151/3151 [04:58<00:00, 10.56it/s]\n"
     ]
    },
    {
     "name": "stdout",
     "output_type": "stream",
     "text": [
      "{'val_loss': 0.44744069932235614, 'val_accuracy': 0.850331409022878, 'precision': 0.8532185563507929, 'recall': 0.850331409022878, 'f1-score': 0.8502536242636924, 'macro_f1-score': 0.8548061115587531, 'balanced_accuracy': 0.8540583888286782, 'mcc': 0.8170781059688921, 'train_loss': 0.3430330200893411}\n",
      "Epoch 4/20\n"
     ]
    },
    {
     "name": "stderr",
     "output_type": "stream",
     "text": [
      "100%|██████████| 3151/3151 [04:58<00:00, 10.56it/s]\n"
     ]
    },
    {
     "name": "stdout",
     "output_type": "stream",
     "text": [
      "{'val_loss': 0.48568142293992206, 'val_accuracy': 0.8505452212957024, 'precision': 0.853359175831404, 'recall': 0.8505452212957024, 'f1-score': 0.8496781058040339, 'macro_f1-score': 0.8494519183654144, 'balanced_accuracy': 0.8465059653460212, 'mcc': 0.817325599803249, 'train_loss': 0.28961559610015125}\n",
      "Epoch 5/20\n"
     ]
    },
    {
     "name": "stderr",
     "output_type": "stream",
     "text": [
      "100%|██████████| 3151/3151 [04:58<00:00, 10.54it/s]\n"
     ]
    },
    {
     "name": "stdout",
     "output_type": "stream",
     "text": [
      "{'val_loss': 0.48198966655848374, 'val_accuracy': 0.8325849903784477, 'precision': 0.8467987658937965, 'recall': 0.8325849903784477, 'f1-score': 0.8348147336616671, 'macro_f1-score': 0.8275275939883759, 'balanced_accuracy': 0.8583377017605209, 'mcc': 0.7984365398429143, 'train_loss': 0.25304570039293856}\n",
      "Epoch 6/20\n"
     ]
    },
    {
     "name": "stderr",
     "output_type": "stream",
     "text": [
      "100%|██████████| 3151/3151 [04:58<00:00, 10.54it/s]\n"
     ]
    },
    {
     "name": "stdout",
     "output_type": "stream",
     "text": [
      "{'val_loss': 0.48455702020412583, 'val_accuracy': 0.8595253367543297, 'precision': 0.8612979701959151, 'recall': 0.8595253367543297, 'f1-score': 0.8586860639039937, 'macro_f1-score': 0.8520306338034538, 'balanced_accuracy': 0.8358186709475359, 'mcc': 0.8265684286908225, 'train_loss': 0.20459444548341205}\n",
      "Early stopping.\n",
      "\n",
      " === roberta-base + bilstm + t5 Final 5-fold Cross-Validation Results ===\n",
      "val_loss: 0.4952\n",
      "val_accuracy: 0.8567\n",
      "precision: 0.8588\n",
      "recall: 0.8567\n",
      "f1-score: 0.8567\n",
      "macro_f1-score: 0.8569\n",
      "balanced_accuracy: 0.8562\n",
      "mcc: 0.8242\n",
      "train_loss: 0.2139\n",
      "total_seconds: 29033.0000\n",
      "total_time: 8 hrs 3 mins 53 secs\n"
     ]
    }
   ],
   "source": [
    "model_list = [\"roberta-base\"]\n",
    "hybrid_list = [None, \"cnn\", \"lstm\", \"bilstm\"]\n",
    "resample_list = [\"t5\"]\n",
    "\n",
    "all_experiment_result = {}\n",
    "\n",
    "for model_name in model_list:\n",
    "    for hybrid_type in hybrid_list:\n",
    "        for resample_method in resample_list:\n",
    "            results = run_kfold_experiment(\n",
    "                X=messages, y=labels, model_name=model_name, hybrid_type=hybrid_type, resample_method=resample_method,\n",
    "                kfold=KFOLD_SPLIT, seed=SEED, epochs=EPOCHS, patience=PATIENCE, max_length=MAX_LENGTH, \n",
    "                batch_size=BATCH_SIZE, lr=LR, weight_decay=WEIGHT_DECAY, upper_cap=UPPER_CAP, lower_cap=LOWER_CAP, use_weighted_loss= USE_WEIGHTED_LOSS\n",
    "            )\n",
    "\n",
    "            key = f\"{model_name} {hybrid_type if hybrid_type else 'None'} {resample_method}\"\n",
    "            all_experiment_result[key] = results"
   ]
  },
  {
   "cell_type": "code",
   "execution_count": 5,
   "id": "d799ebb4-be3b-4b29-9238-6c2a2f8256ae",
   "metadata": {
    "scrolled": true
   },
   "outputs": [
    {
     "data": {
      "text/plain": [
       "{'roberta-base None t5': {'val_loss': 0.7729809974855943,\n",
       "  'val_accuracy': 0.7457191320387349,\n",
       "  'precision': 0.7059102822143467,\n",
       "  'recall': 0.7457191320387349,\n",
       "  'f1-score': 0.7137851632981336,\n",
       "  'macro_f1-score': 0.6985936484566458,\n",
       "  'balanced_accuracy': 0.7084008085405845,\n",
       "  'mcc': 0.6624092003851636,\n",
       "  'train_loss': 0.5616930289383186,\n",
       "  'total_seconds': 25320,\n",
       "  'total_time': '7 hrs 2 mins 0 secs'},\n",
       " 'roberta-base cnn t5': {'val_loss': 0.4672156501478618,\n",
       "  'val_accuracy': 0.8635296326554307,\n",
       "  'precision': 0.8651545183297908,\n",
       "  'recall': 0.8635296326554307,\n",
       "  'f1-score': 0.8636565024683414,\n",
       "  'macro_f1-score': 0.8619910650071025,\n",
       "  'balanced_accuracy': 0.8578592838742021,\n",
       "  'mcc': 0.8320931634617391,\n",
       "  'train_loss': 0.22972061954894518,\n",
       "  'total_seconds': 27224,\n",
       "  'total_time': '7 hrs 33 mins 44 secs'},\n",
       " 'roberta-base lstm t5': {'val_loss': 0.7747561227708546,\n",
       "  'val_accuracy': 0.7433885028421262,\n",
       "  'precision': 0.7044346501593362,\n",
       "  'recall': 0.7433885028421262,\n",
       "  'f1-score': 0.7115314978706748,\n",
       "  'macro_f1-score': 0.6970663282934118,\n",
       "  'balanced_accuracy': 0.7077796889597134,\n",
       "  'mcc': 0.6598164631671688,\n",
       "  'train_loss': 0.585706399126207,\n",
       "  'total_seconds': 26782,\n",
       "  'total_time': '7 hrs 26 mins 22 secs'},\n",
       " 'roberta-base bilstm t5': {'val_loss': 0.49520435352754005,\n",
       "  'val_accuracy': 0.8567305349409366,\n",
       "  'precision': 0.8588470194670375,\n",
       "  'recall': 0.8567305349409366,\n",
       "  'f1-score': 0.8567116176776539,\n",
       "  'macro_f1-score': 0.8568583248666701,\n",
       "  'balanced_accuracy': 0.8561916412575832,\n",
       "  'mcc': 0.8242484185227379,\n",
       "  'train_loss': 0.21388719841338083,\n",
       "  'total_seconds': 29033,\n",
       "  'total_time': '8 hrs 3 mins 53 secs'}}"
      ]
     },
     "execution_count": 5,
     "metadata": {},
     "output_type": "execute_result"
    }
   ],
   "source": [
    "all_experiment_result"
   ]
  },
  {
   "cell_type": "code",
   "execution_count": null,
   "id": "4c76be6b-d968-4157-84bb-f30fee2dc83b",
   "metadata": {},
   "outputs": [],
   "source": []
  }
 ],
 "metadata": {
  "kernelspec": {
   "display_name": "Python 3",
   "language": "python",
   "name": "python3"
  },
  "language_info": {
   "codemirror_mode": {
    "name": "ipython",
    "version": 3
   },
   "file_extension": ".py",
   "mimetype": "text/x-python",
   "name": "python",
   "nbconvert_exporter": "python",
   "pygments_lexer": "ipython3",
   "version": "3.10.0"
  }
 },
 "nbformat": 4,
 "nbformat_minor": 5
}
